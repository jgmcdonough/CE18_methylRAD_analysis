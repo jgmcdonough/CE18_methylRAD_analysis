{
 "cells": [
  {
   "cell_type": "code",
   "execution_count": null,
   "id": "24fcf9eb-586c-4773-8747-dc531b912890",
   "metadata": {},
   "outputs": [],
   "source": [
    "install.packages('DESeq2')"
   ]
  },
  {
   "cell_type": "code",
   "execution_count": null,
   "id": "387cf751-1916-4a65-a31b-514dc4182d3e",
   "metadata": {},
   "outputs": [],
   "source": [
    "library(DESeq2)"
   ]
  }
 ],
 "metadata": {
  "kernelspec": {
   "display_name": "R [conda env:.conda-r_env]",
   "language": "R",
   "name": "conda-env-.conda-r_env-r"
  },
  "language_info": {
   "name": ""
  }
 },
 "nbformat": 4,
 "nbformat_minor": 5
}
