{
 "cells": [
  {
   "cell_type": "markdown",
   "id": "dec1a47c-4eae-4bba-8fca-325688e38a31",
   "metadata": {},
   "source": [
    "### topGO analysis\n",
    "following the documentation for topGO https://bioconductor.org/packages/devel/bioc/vignettes/topGO/inst/doc/topGO.pdf\n",
    "\n",
    "topGO used for identifying over-represented GO terms associated with these genes\n",
    "\n",
    "- nodes: GO terms in the ontology hierarchy - each terem in the ontology is considered a node, and the hierarchy is represented as a tree"
   ]
  },
  {
   "cell_type": "code",
   "execution_count": 1,
   "id": "402adc17-c067-4736-9e74-53602f1438ba",
   "metadata": {},
   "outputs": [
    {
     "name": "stderr",
     "output_type": "stream",
     "text": [
      "'getOption(\"repos\")' replaces Bioconductor standard repositories, see\n",
      "'help(\"repositories\", package = \"BiocManager\")' for details.\n",
      "Replacement repositories:\n",
      "    CRAN: https://cran.r-project.org\n",
      "\n",
      "Bioconductor version 3.18 (BiocManager 1.30.22), R 4.3.2 (2023-10-31)\n",
      "\n",
      "Warning message:\n",
      "“package(s) not installed when version(s) same as or greater than current; use\n",
      "  `force = TRUE` to re-install: 'topGO'”\n",
      "Old packages: 'BH', 'brew', 'brio', 'bslib', 'curl', 'data.table', 'DBI',\n",
      "  'desc', 'digest', 'GenomicAlignments', 'ggfun', 'ggrepel', 'glue',\n",
      "  'GOSemSim', 'graphlayouts', 'haven', 'htmlwidgets', 'httpuv', 'MASS',\n",
      "  'Matrix', 'mgcv', 'nlme', 'patchwork', 'pbdZMQ', 'pkgbuild', 'pkgload', 'ps',\n",
      "  'ragg', 'Rcpp', 'RcppArmadillo', 'RCurl', 'readr', 'reprex', 'Rhtslib',\n",
      "  'rlang', 'RSQLite', 'scales', 'shadowtext', 'shiny', 'SparseArray',\n",
      "  'testthat', 'timechange', 'uuid', 'vroom', 'withr', 'xml2', 'yulab.utils'\n",
      "\n",
      "Loading required package: BiocGenerics\n",
      "\n",
      "\n",
      "Attaching package: ‘BiocGenerics’\n",
      "\n",
      "\n",
      "The following objects are masked from ‘package:stats’:\n",
      "\n",
      "    IQR, mad, sd, var, xtabs\n",
      "\n",
      "\n",
      "The following objects are masked from ‘package:base’:\n",
      "\n",
      "    anyDuplicated, aperm, append, as.data.frame, basename, cbind,\n",
      "    colnames, dirname, do.call, duplicated, eval, evalq, Filter, Find,\n",
      "    get, grep, grepl, intersect, is.unsorted, lapply, Map, mapply,\n",
      "    match, mget, order, paste, pmax, pmax.int, pmin, pmin.int,\n",
      "    Position, rank, rbind, Reduce, rownames, sapply, setdiff, sort,\n",
      "    table, tapply, union, unique, unsplit, which.max, which.min\n",
      "\n",
      "\n",
      "Loading required package: graph\n",
      "\n",
      "Loading required package: Biobase\n",
      "\n",
      "Welcome to Bioconductor\n",
      "\n",
      "    Vignettes contain introductory material; view with\n",
      "    'browseVignettes()'. To cite Bioconductor, see\n",
      "    'citation(\"Biobase\")', and for packages 'citation(\"pkgname\")'.\n",
      "\n",
      "\n",
      "Loading required package: GO.db\n",
      "\n",
      "Loading required package: AnnotationDbi\n",
      "\n",
      "Loading required package: stats4\n",
      "\n",
      "Loading required package: IRanges\n",
      "\n",
      "Loading required package: S4Vectors\n",
      "\n",
      "\n",
      "Attaching package: ‘S4Vectors’\n",
      "\n",
      "\n",
      "The following object is masked from ‘package:utils’:\n",
      "\n",
      "    findMatches\n",
      "\n",
      "\n",
      "The following objects are masked from ‘package:base’:\n",
      "\n",
      "    expand.grid, I, unname\n",
      "\n",
      "\n",
      "\n",
      "\n",
      "Loading required package: SparseM\n",
      "\n",
      "\n",
      "Attaching package: ‘SparseM’\n",
      "\n",
      "\n",
      "The following object is masked from ‘package:base’:\n",
      "\n",
      "    backsolve\n",
      "\n",
      "\n",
      "\n",
      "groupGOTerms: \tGOBPTerm, GOMFTerm, GOCCTerm environments built.\n",
      "\n",
      "\n",
      "Attaching package: ‘topGO’\n",
      "\n",
      "\n",
      "The following object is masked from ‘package:IRanges’:\n",
      "\n",
      "    members\n",
      "\n",
      "\n"
     ]
    }
   ],
   "source": [
    "# installing topGO\n",
    "BiocManager::install(\"topGO\")\n",
    "library(topGO)"
   ]
  },
  {
   "cell_type": "code",
   "execution_count": 2,
   "id": "5fe087c8-cf87-4f75-ac5a-20b033bef015",
   "metadata": {},
   "outputs": [
    {
     "name": "stderr",
     "output_type": "stream",
     "text": [
      "'getOption(\"repos\")' replaces Bioconductor standard repositories, see\n",
      "'help(\"repositories\", package = \"BiocManager\")' for details.\n",
      "Replacement repositories:\n",
      "    CRAN: https://cran.r-project.org\n",
      "\n",
      "Bioconductor version 3.18 (BiocManager 1.30.22), R 4.3.2 (2023-10-31)\n",
      "\n",
      "Warning message:\n",
      "“package(s) not installed when version(s) same as or greater than current; use\n",
      "  `force = TRUE` to re-install: 'GO.db'”\n",
      "Old packages: 'BH', 'brew', 'brio', 'bslib', 'curl', 'data.table', 'DBI',\n",
      "  'desc', 'digest', 'GenomicAlignments', 'ggfun', 'ggrepel', 'glue',\n",
      "  'GOSemSim', 'graphlayouts', 'haven', 'htmlwidgets', 'httpuv', 'MASS',\n",
      "  'Matrix', 'mgcv', 'nlme', 'patchwork', 'pbdZMQ', 'pkgbuild', 'pkgload', 'ps',\n",
      "  'ragg', 'Rcpp', 'RcppArmadillo', 'RCurl', 'readr', 'reprex', 'Rhtslib',\n",
      "  'rlang', 'RSQLite', 'scales', 'shadowtext', 'shiny', 'SparseArray',\n",
      "  'testthat', 'timechange', 'uuid', 'vroom', 'withr', 'xml2', 'yulab.utils'\n",
      "\n"
     ]
    }
   ],
   "source": [
    "# installing GO.db\n",
    "BiocManager::install(\"GO.db\")\n",
    "library(GO.db)"
   ]
  },
  {
   "cell_type": "code",
   "execution_count": 27,
   "id": "dd898fb8-bbdd-4bd7-9e8d-4ca248af6a36",
   "metadata": {},
   "outputs": [
    {
     "data": {
      "text/html": [
       "<table class=\"dataframe\">\n",
       "<caption>A data.frame: 6 × 47</caption>\n",
       "<thead>\n",
       "\t<tr><th></th><th scope=col>X</th><th scope=col>Row.names</th><th scope=col>baseMean</th><th scope=col>log2FoldChange</th><th scope=col>lfcSE</th><th scope=col>stat</th><th scope=col>pvalue</th><th scope=col>padj</th><th scope=col>BBB.WBO.B21</th><th scope=col>BBB.WBV.B70</th><th scope=col>⋯</th><th scope=col>WPV.BPR.G11</th><th scope=col>seqname</th><th scope=col>source</th><th scope=col>feature</th><th scope=col>start</th><th scope=col>end</th><th scope=col>score</th><th scope=col>strand</th><th scope=col>frame</th><th scope=col>attributes</th></tr>\n",
       "\t<tr><th></th><th scope=col>&lt;int&gt;</th><th scope=col>&lt;chr&gt;</th><th scope=col>&lt;dbl&gt;</th><th scope=col>&lt;dbl&gt;</th><th scope=col>&lt;dbl&gt;</th><th scope=col>&lt;dbl&gt;</th><th scope=col>&lt;dbl&gt;</th><th scope=col>&lt;dbl&gt;</th><th scope=col>&lt;int&gt;</th><th scope=col>&lt;int&gt;</th><th scope=col>⋯</th><th scope=col>&lt;int&gt;</th><th scope=col>&lt;chr&gt;</th><th scope=col>&lt;chr&gt;</th><th scope=col>&lt;chr&gt;</th><th scope=col>&lt;int&gt;</th><th scope=col>&lt;int&gt;</th><th scope=col>&lt;chr&gt;</th><th scope=col>&lt;chr&gt;</th><th scope=col>&lt;chr&gt;</th><th scope=col>&lt;chr&gt;</th></tr>\n",
       "</thead>\n",
       "<tbody>\n",
       "\t<tr><th scope=row>1</th><td>1</td><td>LOC111099115</td><td> 46.83069</td><td>1.7885864</td><td>0.3885554</td><td>4.603170</td><td>4.161092e-06</td><td>0.0002004183</td><td> 137</td><td> 141</td><td>⋯</td><td>  5</td><td>NC_035780.1</td><td>Gnomon</td><td>gene</td><td> 1840607</td><td> 1842557</td><td>.</td><td>-</td><td>.</td><td>gene_id \"LOC111103177\"; db_xref \"GeneID:111103177\"; gbkey \"Gene\"; gene \"LOC111103177\"; gene_biotype \"protein_coding\"; </td></tr>\n",
       "\t<tr><th scope=row>2</th><td>2</td><td>LOC111099216</td><td> 29.51165</td><td>1.4828614</td><td>0.4401508</td><td>3.368985</td><td>7.544561e-04</td><td>0.0125496496</td><td>  61</td><td>  59</td><td>⋯</td><td>  1</td><td>NC_035780.1</td><td>Gnomon</td><td>gene</td><td> 3517611</td><td> 3518657</td><td>.</td><td>+</td><td>.</td><td>gene_id \"LOC111132154\"; db_xref \"GeneID:111132154\"; gbkey \"Gene\"; gene \"LOC111132154\"; gene_biotype \"lncRNA\";         </td></tr>\n",
       "\t<tr><th scope=row>3</th><td>3</td><td>LOC111099417</td><td> 51.70011</td><td>2.7487429</td><td>0.6879361</td><td>3.995637</td><td>6.452048e-05</td><td>0.0019567084</td><td> 101</td><td>  98</td><td>⋯</td><td>  3</td><td>NC_035780.1</td><td>Gnomon</td><td>gene</td><td> 3920144</td><td> 3928549</td><td>.</td><td>+</td><td>.</td><td>gene_id \"LOC111112068\"; db_xref \"GeneID:111112068\"; gbkey \"Gene\"; gene \"LOC111112068\"; gene_biotype \"protein_coding\"; </td></tr>\n",
       "\t<tr><th scope=row>4</th><td>4</td><td>LOC111099424</td><td> 16.12747</td><td>3.4384445</td><td>0.8269653</td><td>4.157907</td><td>3.211770e-05</td><td>0.0010745946</td><td>  57</td><td>  50</td><td>⋯</td><td>  2</td><td>NC_035780.1</td><td>Gnomon</td><td>gene</td><td> 4012455</td><td> 4013027</td><td>.</td><td>+</td><td>.</td><td>gene_id \"LOC111130177\"; db_xref \"GeneID:111130177\"; gbkey \"Gene\"; gene \"LOC111130177\"; gene_biotype \"protein_coding\"; </td></tr>\n",
       "\t<tr><th scope=row>5</th><td>5</td><td>LOC111099722</td><td>593.62230</td><td>0.8993515</td><td>0.2324598</td><td>3.868847</td><td>1.093514e-04</td><td>0.0028699825</td><td>1591</td><td>1713</td><td>⋯</td><td>153</td><td>NC_035780.1</td><td>Gnomon</td><td>gene</td><td> 8951007</td><td> 8951628</td><td>.</td><td>-</td><td>.</td><td>gene_id \"LOC111114945\"; db_xref \"GeneID:111114945\"; gbkey \"Gene\"; gene \"LOC111114945\"; gene_biotype \"lncRNA\";         </td></tr>\n",
       "\t<tr><th scope=row>6</th><td>6</td><td>LOC111099918</td><td> 87.23670</td><td>0.6567512</td><td>0.2251842</td><td>2.916507</td><td>3.539745e-03</td><td>0.0407210025</td><td> 328</td><td> 280</td><td>⋯</td><td>  6</td><td>NC_035780.1</td><td>Gnomon</td><td>gene</td><td>11951821</td><td>11976757</td><td>.</td><td>+</td><td>.</td><td>gene_id \"LOC111112589\"; db_xref \"GeneID:111112589\"; gbkey \"Gene\"; gene \"LOC111112589\"; gene_biotype \"protein_coding\"; </td></tr>\n",
       "</tbody>\n",
       "</table>\n"
      ],
      "text/latex": [
       "A data.frame: 6 × 47\n",
       "\\begin{tabular}{r|lllllllllllllllllllll}\n",
       "  & X & Row.names & baseMean & log2FoldChange & lfcSE & stat & pvalue & padj & BBB.WBO.B21 & BBB.WBV.B70 & ⋯ & WPV.BPR.G11 & seqname & source & feature & start & end & score & strand & frame & attributes\\\\\n",
       "  & <int> & <chr> & <dbl> & <dbl> & <dbl> & <dbl> & <dbl> & <dbl> & <int> & <int> & ⋯ & <int> & <chr> & <chr> & <chr> & <int> & <int> & <chr> & <chr> & <chr> & <chr>\\\\\n",
       "\\hline\n",
       "\t1 & 1 & LOC111099115 &  46.83069 & 1.7885864 & 0.3885554 & 4.603170 & 4.161092e-06 & 0.0002004183 &  137 &  141 & ⋯ &   5 & NC\\_035780.1 & Gnomon & gene &  1840607 &  1842557 & . & - & . & gene\\_id \"LOC111103177\"; db\\_xref \"GeneID:111103177\"; gbkey \"Gene\"; gene \"LOC111103177\"; gene\\_biotype \"protein\\_coding\"; \\\\\n",
       "\t2 & 2 & LOC111099216 &  29.51165 & 1.4828614 & 0.4401508 & 3.368985 & 7.544561e-04 & 0.0125496496 &   61 &   59 & ⋯ &   1 & NC\\_035780.1 & Gnomon & gene &  3517611 &  3518657 & . & + & . & gene\\_id \"LOC111132154\"; db\\_xref \"GeneID:111132154\"; gbkey \"Gene\"; gene \"LOC111132154\"; gene\\_biotype \"lncRNA\";         \\\\\n",
       "\t3 & 3 & LOC111099417 &  51.70011 & 2.7487429 & 0.6879361 & 3.995637 & 6.452048e-05 & 0.0019567084 &  101 &   98 & ⋯ &   3 & NC\\_035780.1 & Gnomon & gene &  3920144 &  3928549 & . & + & . & gene\\_id \"LOC111112068\"; db\\_xref \"GeneID:111112068\"; gbkey \"Gene\"; gene \"LOC111112068\"; gene\\_biotype \"protein\\_coding\"; \\\\\n",
       "\t4 & 4 & LOC111099424 &  16.12747 & 3.4384445 & 0.8269653 & 4.157907 & 3.211770e-05 & 0.0010745946 &   57 &   50 & ⋯ &   2 & NC\\_035780.1 & Gnomon & gene &  4012455 &  4013027 & . & + & . & gene\\_id \"LOC111130177\"; db\\_xref \"GeneID:111130177\"; gbkey \"Gene\"; gene \"LOC111130177\"; gene\\_biotype \"protein\\_coding\"; \\\\\n",
       "\t5 & 5 & LOC111099722 & 593.62230 & 0.8993515 & 0.2324598 & 3.868847 & 1.093514e-04 & 0.0028699825 & 1591 & 1713 & ⋯ & 153 & NC\\_035780.1 & Gnomon & gene &  8951007 &  8951628 & . & - & . & gene\\_id \"LOC111114945\"; db\\_xref \"GeneID:111114945\"; gbkey \"Gene\"; gene \"LOC111114945\"; gene\\_biotype \"lncRNA\";         \\\\\n",
       "\t6 & 6 & LOC111099918 &  87.23670 & 0.6567512 & 0.2251842 & 2.916507 & 3.539745e-03 & 0.0407210025 &  328 &  280 & ⋯ &   6 & NC\\_035780.1 & Gnomon & gene & 11951821 & 11976757 & . & + & . & gene\\_id \"LOC111112589\"; db\\_xref \"GeneID:111112589\"; gbkey \"Gene\"; gene \"LOC111112589\"; gene\\_biotype \"protein\\_coding\"; \\\\\n",
       "\\end{tabular}\n"
      ],
      "text/markdown": [
       "\n",
       "A data.frame: 6 × 47\n",
       "\n",
       "| <!--/--> | X &lt;int&gt; | Row.names &lt;chr&gt; | baseMean &lt;dbl&gt; | log2FoldChange &lt;dbl&gt; | lfcSE &lt;dbl&gt; | stat &lt;dbl&gt; | pvalue &lt;dbl&gt; | padj &lt;dbl&gt; | BBB.WBO.B21 &lt;int&gt; | BBB.WBV.B70 &lt;int&gt; | ⋯ ⋯ | WPV.BPR.G11 &lt;int&gt; | seqname &lt;chr&gt; | source &lt;chr&gt; | feature &lt;chr&gt; | start &lt;int&gt; | end &lt;int&gt; | score &lt;chr&gt; | strand &lt;chr&gt; | frame &lt;chr&gt; | attributes &lt;chr&gt; |\n",
       "|---|---|---|---|---|---|---|---|---|---|---|---|---|---|---|---|---|---|---|---|---|---|\n",
       "| 1 | 1 | LOC111099115 |  46.83069 | 1.7885864 | 0.3885554 | 4.603170 | 4.161092e-06 | 0.0002004183 |  137 |  141 | ⋯ |   5 | NC_035780.1 | Gnomon | gene |  1840607 |  1842557 | . | - | . | gene_id \"LOC111103177\"; db_xref \"GeneID:111103177\"; gbkey \"Gene\"; gene \"LOC111103177\"; gene_biotype \"protein_coding\";  |\n",
       "| 2 | 2 | LOC111099216 |  29.51165 | 1.4828614 | 0.4401508 | 3.368985 | 7.544561e-04 | 0.0125496496 |   61 |   59 | ⋯ |   1 | NC_035780.1 | Gnomon | gene |  3517611 |  3518657 | . | + | . | gene_id \"LOC111132154\"; db_xref \"GeneID:111132154\"; gbkey \"Gene\"; gene \"LOC111132154\"; gene_biotype \"lncRNA\";          |\n",
       "| 3 | 3 | LOC111099417 |  51.70011 | 2.7487429 | 0.6879361 | 3.995637 | 6.452048e-05 | 0.0019567084 |  101 |   98 | ⋯ |   3 | NC_035780.1 | Gnomon | gene |  3920144 |  3928549 | . | + | . | gene_id \"LOC111112068\"; db_xref \"GeneID:111112068\"; gbkey \"Gene\"; gene \"LOC111112068\"; gene_biotype \"protein_coding\";  |\n",
       "| 4 | 4 | LOC111099424 |  16.12747 | 3.4384445 | 0.8269653 | 4.157907 | 3.211770e-05 | 0.0010745946 |   57 |   50 | ⋯ |   2 | NC_035780.1 | Gnomon | gene |  4012455 |  4013027 | . | + | . | gene_id \"LOC111130177\"; db_xref \"GeneID:111130177\"; gbkey \"Gene\"; gene \"LOC111130177\"; gene_biotype \"protein_coding\";  |\n",
       "| 5 | 5 | LOC111099722 | 593.62230 | 0.8993515 | 0.2324598 | 3.868847 | 1.093514e-04 | 0.0028699825 | 1591 | 1713 | ⋯ | 153 | NC_035780.1 | Gnomon | gene |  8951007 |  8951628 | . | - | . | gene_id \"LOC111114945\"; db_xref \"GeneID:111114945\"; gbkey \"Gene\"; gene \"LOC111114945\"; gene_biotype \"lncRNA\";          |\n",
       "| 6 | 6 | LOC111099918 |  87.23670 | 0.6567512 | 0.2251842 | 2.916507 | 3.539745e-03 | 0.0407210025 |  328 |  280 | ⋯ |   6 | NC_035780.1 | Gnomon | gene | 11951821 | 11976757 | . | + | . | gene_id \"LOC111112589\"; db_xref \"GeneID:111112589\"; gbkey \"Gene\"; gene \"LOC111112589\"; gene_biotype \"protein_coding\";  |\n",
       "\n"
      ],
      "text/plain": [
       "  X Row.names    baseMean  log2FoldChange lfcSE     stat     pvalue      \n",
       "1 1 LOC111099115  46.83069 1.7885864      0.3885554 4.603170 4.161092e-06\n",
       "2 2 LOC111099216  29.51165 1.4828614      0.4401508 3.368985 7.544561e-04\n",
       "3 3 LOC111099417  51.70011 2.7487429      0.6879361 3.995637 6.452048e-05\n",
       "4 4 LOC111099424  16.12747 3.4384445      0.8269653 4.157907 3.211770e-05\n",
       "5 5 LOC111099722 593.62230 0.8993515      0.2324598 3.868847 1.093514e-04\n",
       "6 6 LOC111099918  87.23670 0.6567512      0.2251842 2.916507 3.539745e-03\n",
       "  padj         BBB.WBO.B21 BBB.WBV.B70 ⋯ WPV.BPR.G11 seqname     source feature\n",
       "1 0.0002004183  137         141        ⋯   5         NC_035780.1 Gnomon gene   \n",
       "2 0.0125496496   61          59        ⋯   1         NC_035780.1 Gnomon gene   \n",
       "3 0.0019567084  101          98        ⋯   3         NC_035780.1 Gnomon gene   \n",
       "4 0.0010745946   57          50        ⋯   2         NC_035780.1 Gnomon gene   \n",
       "5 0.0028699825 1591        1713        ⋯ 153         NC_035780.1 Gnomon gene   \n",
       "6 0.0407210025  328         280        ⋯   6         NC_035780.1 Gnomon gene   \n",
       "  start    end      score strand frame\n",
       "1  1840607  1842557 .     -      .    \n",
       "2  3517611  3518657 .     +      .    \n",
       "3  3920144  3928549 .     +      .    \n",
       "4  4012455  4013027 .     +      .    \n",
       "5  8951007  8951628 .     -      .    \n",
       "6 11951821 11976757 .     +      .    \n",
       "  attributes                                                                                                            \n",
       "1 gene_id \"LOC111103177\"; db_xref \"GeneID:111103177\"; gbkey \"Gene\"; gene \"LOC111103177\"; gene_biotype \"protein_coding\"; \n",
       "2 gene_id \"LOC111132154\"; db_xref \"GeneID:111132154\"; gbkey \"Gene\"; gene \"LOC111132154\"; gene_biotype \"lncRNA\";         \n",
       "3 gene_id \"LOC111112068\"; db_xref \"GeneID:111112068\"; gbkey \"Gene\"; gene \"LOC111112068\"; gene_biotype \"protein_coding\"; \n",
       "4 gene_id \"LOC111130177\"; db_xref \"GeneID:111130177\"; gbkey \"Gene\"; gene \"LOC111130177\"; gene_biotype \"protein_coding\"; \n",
       "5 gene_id \"LOC111114945\"; db_xref \"GeneID:111114945\"; gbkey \"Gene\"; gene \"LOC111114945\"; gene_biotype \"lncRNA\";         \n",
       "6 gene_id \"LOC111112589\"; db_xref \"GeneID:111112589\"; gbkey \"Gene\"; gene \"LOC111112589\"; gene_biotype \"protein_coding\"; "
      ]
     },
     "metadata": {},
     "output_type": "display_data"
    },
    {
     "data": {
      "text/html": [
       "<style>\n",
       ".list-inline {list-style: none; margin:0; padding: 0}\n",
       ".list-inline>li {display: inline-block}\n",
       ".list-inline>li:not(:last-child)::after {content: \"\\00b7\"; padding: 0 .5ex}\n",
       "</style>\n",
       "<ol class=list-inline><li>405</li><li>47</li></ol>\n"
      ],
      "text/latex": [
       "\\begin{enumerate*}\n",
       "\\item 405\n",
       "\\item 47\n",
       "\\end{enumerate*}\n"
      ],
      "text/markdown": [
       "1. 405\n",
       "2. 47\n",
       "\n",
       "\n"
      ],
      "text/plain": [
       "[1] 405  47"
      ]
     },
     "metadata": {},
     "output_type": "display_data"
    },
    {
     "data": {
      "text/html": [
       "<style>\n",
       ".list-inline {list-style: none; margin:0; padding: 0}\n",
       ".list-inline>li {display: inline-block}\n",
       ".list-inline>li:not(:last-child)::after {content: \"\\00b7\"; padding: 0 .5ex}\n",
       "</style>\n",
       "<ol class=list-inline><li>'LOC111099115'</li><li>'LOC111099216'</li><li>'LOC111099417'</li><li>'LOC111099424'</li><li>'LOC111099722'</li><li>'LOC111099918'</li></ol>\n"
      ],
      "text/latex": [
       "\\begin{enumerate*}\n",
       "\\item 'LOC111099115'\n",
       "\\item 'LOC111099216'\n",
       "\\item 'LOC111099417'\n",
       "\\item 'LOC111099424'\n",
       "\\item 'LOC111099722'\n",
       "\\item 'LOC111099918'\n",
       "\\end{enumerate*}\n"
      ],
      "text/markdown": [
       "1. 'LOC111099115'\n",
       "2. 'LOC111099216'\n",
       "3. 'LOC111099417'\n",
       "4. 'LOC111099424'\n",
       "5. 'LOC111099722'\n",
       "6. 'LOC111099918'\n",
       "\n",
       "\n"
      ],
      "text/plain": [
       "[1] \"LOC111099115\" \"LOC111099216\" \"LOC111099417\" \"LOC111099424\" \"LOC111099722\"\n",
       "[6] \"LOC111099918\""
      ]
     },
     "metadata": {},
     "output_type": "display_data"
    }
   ],
   "source": [
    "# reading in data of significant genes\n",
    "gene_data <- read.csv('/project/pi_sarah_gignouxwolfsohn_uml_edu/julia/CE_MethylRAD_analysis_2018/CE_methyl_analysis/significant_genes/sig_p1_wc_genes.csv')\n",
    "head(gene_data)\n",
    "dim(gene_data)\n",
    "\n",
    "# creating list of just gene names \n",
    "sig_genes <- gene_data$Row.names\n",
    "head(sig_genes)"
   ]
  },
  {
   "cell_type": "code",
   "execution_count": 28,
   "id": "2872dc15-2ae1-47f4-b692-db9c99312a15",
   "metadata": {},
   "outputs": [
    {
     "data": {
      "text/html": [
       "<table class=\"dataframe\">\n",
       "<caption>A data.frame: 6 × 2</caption>\n",
       "<thead>\n",
       "\t<tr><th></th><th scope=col>gene_name</th><th scope=col>GO_id</th></tr>\n",
       "\t<tr><th></th><th scope=col>&lt;chr&gt;</th><th scope=col>&lt;chr&gt;</th></tr>\n",
       "</thead>\n",
       "<tbody>\n",
       "\t<tr><th scope=row>1</th><td>LOC111106242</td><td>GO:0005737; GO:0006693; GO:0032440; GO:0047522            </td></tr>\n",
       "\t<tr><th scope=row>2</th><td>LOC111108431</td><td>GO:0005737; GO:0006693; GO:0032440; GO:0047522            </td></tr>\n",
       "\t<tr><th scope=row>3</th><td>LOC111118924</td><td>GO:0004315; GO:0006633; GO:0008757; GO:0016491; GO:0031177</td></tr>\n",
       "\t<tr><th scope=row>4</th><td>LOC111121098</td><td>GO:0005739; GO:0006869; GO:0008289; GO:0016747            </td></tr>\n",
       "\t<tr><th scope=row>5</th><td>LOC111121098</td><td>GO:0005739; GO:0006869; GO:0008289; GO:0016747            </td></tr>\n",
       "\t<tr><th scope=row>6</th><td>LOC111121707</td><td>GO:0004315; GO:0006633; GO:0008757; GO:0016491; GO:0031177</td></tr>\n",
       "</tbody>\n",
       "</table>\n"
      ],
      "text/latex": [
       "A data.frame: 6 × 2\n",
       "\\begin{tabular}{r|ll}\n",
       "  & gene\\_name & GO\\_id\\\\\n",
       "  & <chr> & <chr>\\\\\n",
       "\\hline\n",
       "\t1 & LOC111106242 & GO:0005737; GO:0006693; GO:0032440; GO:0047522            \\\\\n",
       "\t2 & LOC111108431 & GO:0005737; GO:0006693; GO:0032440; GO:0047522            \\\\\n",
       "\t3 & LOC111118924 & GO:0004315; GO:0006633; GO:0008757; GO:0016491; GO:0031177\\\\\n",
       "\t4 & LOC111121098 & GO:0005739; GO:0006869; GO:0008289; GO:0016747            \\\\\n",
       "\t5 & LOC111121098 & GO:0005739; GO:0006869; GO:0008289; GO:0016747            \\\\\n",
       "\t6 & LOC111121707 & GO:0004315; GO:0006633; GO:0008757; GO:0016491; GO:0031177\\\\\n",
       "\\end{tabular}\n"
      ],
      "text/markdown": [
       "\n",
       "A data.frame: 6 × 2\n",
       "\n",
       "| <!--/--> | gene_name &lt;chr&gt; | GO_id &lt;chr&gt; |\n",
       "|---|---|---|\n",
       "| 1 | LOC111106242 | GO:0005737; GO:0006693; GO:0032440; GO:0047522             |\n",
       "| 2 | LOC111108431 | GO:0005737; GO:0006693; GO:0032440; GO:0047522             |\n",
       "| 3 | LOC111118924 | GO:0004315; GO:0006633; GO:0008757; GO:0016491; GO:0031177 |\n",
       "| 4 | LOC111121098 | GO:0005739; GO:0006869; GO:0008289; GO:0016747             |\n",
       "| 5 | LOC111121098 | GO:0005739; GO:0006869; GO:0008289; GO:0016747             |\n",
       "| 6 | LOC111121707 | GO:0004315; GO:0006633; GO:0008757; GO:0016491; GO:0031177 |\n",
       "\n"
      ],
      "text/plain": [
       "  gene_name    GO_id                                                     \n",
       "1 LOC111106242 GO:0005737; GO:0006693; GO:0032440; GO:0047522            \n",
       "2 LOC111108431 GO:0005737; GO:0006693; GO:0032440; GO:0047522            \n",
       "3 LOC111118924 GO:0004315; GO:0006633; GO:0008757; GO:0016491; GO:0031177\n",
       "4 LOC111121098 GO:0005739; GO:0006869; GO:0008289; GO:0016747            \n",
       "5 LOC111121098 GO:0005739; GO:0006869; GO:0008289; GO:0016747            \n",
       "6 LOC111121707 GO:0004315; GO:0006633; GO:0008757; GO:0016491; GO:0031177"
      ]
     },
     "metadata": {},
     "output_type": "display_data"
    }
   ],
   "source": [
    "# reading in GO info\n",
    "GO_list <- read.csv('/project/pi_sarah_gignouxwolfsohn_uml_edu/julia/CE_MethylRAD_analysis_2018/CE_methyl_analysis/GO_enrichment_analysis/gene_GOid.csv')\n",
    "head(GO_list)"
   ]
  },
  {
   "cell_type": "code",
   "execution_count": 29,
   "id": "572da4b1-66b3-47f8-9cf7-17516b829db0",
   "metadata": {},
   "outputs": [
    {
     "data": {
      "text/html": [
       "<style>\n",
       ".list-inline {list-style: none; margin:0; padding: 0}\n",
       ".list-inline>li {display: inline-block}\n",
       ".list-inline>li:not(:last-child)::after {content: \"\\00b7\"; padding: 0 .5ex}\n",
       "</style>\n",
       "<ol class=list-inline><li>50432</li><li>2</li></ol>\n"
      ],
      "text/latex": [
       "\\begin{enumerate*}\n",
       "\\item 50432\n",
       "\\item 2\n",
       "\\end{enumerate*}\n"
      ],
      "text/markdown": [
       "1. 50432\n",
       "2. 2\n",
       "\n",
       "\n"
      ],
      "text/plain": [
       "[1] 50432     2"
      ]
     },
     "metadata": {},
     "output_type": "display_data"
    },
    {
     "data": {
      "text/html": [
       "405"
      ],
      "text/latex": [
       "405"
      ],
      "text/markdown": [
       "405"
      ],
      "text/plain": [
       "[1] 405"
      ]
     },
     "metadata": {},
     "output_type": "display_data"
    }
   ],
   "source": [
    "# checking out number of genes in gene universe vs. genes of interest\n",
    "dim(GO_list) # 50,432 genes in gene universe (total)\n",
    "length(sig_genes) # 405 genes of interest"
   ]
  },
  {
   "cell_type": "code",
   "execution_count": 30,
   "id": "6dd2b8da-ad46-4a06-b3f9-73b16d01e379",
   "metadata": {},
   "outputs": [],
   "source": [
    "## NEED , BETWEEN GO TERMS NOT ;\n",
    "\n",
    "# Read the content of the file into a character vector\n",
    "file_path <- \"/project/pi_sarah_gignouxwolfsohn_uml_edu/julia/CE_MethylRAD_analysis_2018/CE_methyl_analysis/GO_enrichment_analysis/gene_GOid.txt\"\n",
    "file_content <- readLines(file_path, warn = FALSE)\n",
    "\n",
    "# Replace ';' with ','\n",
    "file_content <- gsub(\";\", \",\", file_content)\n",
    "\n",
    "# Write the modified content back to the file\n",
    "writeLines(file_content, file_path)\n"
   ]
  },
  {
   "cell_type": "code",
   "execution_count": 31,
   "id": "721d7b39-310b-49de-a573-6fe1b1d83437",
   "metadata": {},
   "outputs": [
    {
     "data": {
      "text/html": [
       "<table class=\"dataframe\">\n",
       "<caption>A data.frame: 6 × 2</caption>\n",
       "<thead>\n",
       "\t<tr><th></th><th scope=col>gene_name</th><th scope=col>GO_id</th></tr>\n",
       "\t<tr><th></th><th scope=col>&lt;chr&gt;</th><th scope=col>&lt;chr&gt;</th></tr>\n",
       "</thead>\n",
       "<tbody>\n",
       "\t<tr><th scope=row>1</th><td>LOC111106242</td><td>GO:0005737; GO:0006693; GO:0032440; GO:0047522            </td></tr>\n",
       "\t<tr><th scope=row>2</th><td>LOC111108431</td><td>GO:0005737; GO:0006693; GO:0032440; GO:0047522            </td></tr>\n",
       "\t<tr><th scope=row>3</th><td>LOC111118924</td><td>GO:0004315; GO:0006633; GO:0008757; GO:0016491; GO:0031177</td></tr>\n",
       "\t<tr><th scope=row>4</th><td>LOC111121098</td><td>GO:0005739; GO:0006869; GO:0008289; GO:0016747            </td></tr>\n",
       "\t<tr><th scope=row>5</th><td>LOC111121098</td><td>GO:0005739; GO:0006869; GO:0008289; GO:0016747            </td></tr>\n",
       "\t<tr><th scope=row>6</th><td>LOC111121707</td><td>GO:0004315; GO:0006633; GO:0008757; GO:0016491; GO:0031177</td></tr>\n",
       "</tbody>\n",
       "</table>\n"
      ],
      "text/latex": [
       "A data.frame: 6 × 2\n",
       "\\begin{tabular}{r|ll}\n",
       "  & gene\\_name & GO\\_id\\\\\n",
       "  & <chr> & <chr>\\\\\n",
       "\\hline\n",
       "\t1 & LOC111106242 & GO:0005737; GO:0006693; GO:0032440; GO:0047522            \\\\\n",
       "\t2 & LOC111108431 & GO:0005737; GO:0006693; GO:0032440; GO:0047522            \\\\\n",
       "\t3 & LOC111118924 & GO:0004315; GO:0006633; GO:0008757; GO:0016491; GO:0031177\\\\\n",
       "\t4 & LOC111121098 & GO:0005739; GO:0006869; GO:0008289; GO:0016747            \\\\\n",
       "\t5 & LOC111121098 & GO:0005739; GO:0006869; GO:0008289; GO:0016747            \\\\\n",
       "\t6 & LOC111121707 & GO:0004315; GO:0006633; GO:0008757; GO:0016491; GO:0031177\\\\\n",
       "\\end{tabular}\n"
      ],
      "text/markdown": [
       "\n",
       "A data.frame: 6 × 2\n",
       "\n",
       "| <!--/--> | gene_name &lt;chr&gt; | GO_id &lt;chr&gt; |\n",
       "|---|---|---|\n",
       "| 1 | LOC111106242 | GO:0005737; GO:0006693; GO:0032440; GO:0047522             |\n",
       "| 2 | LOC111108431 | GO:0005737; GO:0006693; GO:0032440; GO:0047522             |\n",
       "| 3 | LOC111118924 | GO:0004315; GO:0006633; GO:0008757; GO:0016491; GO:0031177 |\n",
       "| 4 | LOC111121098 | GO:0005739; GO:0006869; GO:0008289; GO:0016747             |\n",
       "| 5 | LOC111121098 | GO:0005739; GO:0006869; GO:0008289; GO:0016747             |\n",
       "| 6 | LOC111121707 | GO:0004315; GO:0006633; GO:0008757; GO:0016491; GO:0031177 |\n",
       "\n"
      ],
      "text/plain": [
       "  gene_name    GO_id                                                     \n",
       "1 LOC111106242 GO:0005737; GO:0006693; GO:0032440; GO:0047522            \n",
       "2 LOC111108431 GO:0005737; GO:0006693; GO:0032440; GO:0047522            \n",
       "3 LOC111118924 GO:0004315; GO:0006633; GO:0008757; GO:0016491; GO:0031177\n",
       "4 LOC111121098 GO:0005739; GO:0006869; GO:0008289; GO:0016747            \n",
       "5 LOC111121098 GO:0005739; GO:0006869; GO:0008289; GO:0016747            \n",
       "6 LOC111121707 GO:0004315; GO:0006633; GO:0008757; GO:0016491; GO:0031177"
      ]
     },
     "metadata": {},
     "output_type": "display_data"
    },
    {
     "data": {
      "text/html": [
       "<style>\n",
       ".list-inline {list-style: none; margin:0; padding: 0}\n",
       ".list-inline>li {display: inline-block}\n",
       ".list-inline>li:not(:last-child)::after {content: \"\\00b7\"; padding: 0 .5ex}\n",
       "</style>\n",
       "<ol class=list-inline><li>34237</li><li>2</li></ol>\n"
      ],
      "text/latex": [
       "\\begin{enumerate*}\n",
       "\\item 34237\n",
       "\\item 2\n",
       "\\end{enumerate*}\n"
      ],
      "text/markdown": [
       "1. 34237\n",
       "2. 2\n",
       "\n",
       "\n"
      ],
      "text/plain": [
       "[1] 34237     2"
      ]
     },
     "metadata": {},
     "output_type": "display_data"
    }
   ],
   "source": [
    "# creating custom annotation file\n",
    "GO_file <- read.table('/project/pi_sarah_gignouxwolfsohn_uml_edu/julia/CE_MethylRAD_analysis_2018/CE_methyl_analysis/GO_enrichment_analysis/gene_GOid2.tab', header=TRUE)\n",
    "head(GO_file)\n",
    "dim(GO_file) # 34,237 genes"
   ]
  },
  {
   "cell_type": "code",
   "execution_count": 32,
   "id": "7519000b-7ee1-486d-af7a-82d16435ebf0",
   "metadata": {},
   "outputs": [
    {
     "data": {
      "text/html": [
       "<dl>\n",
       "\t<dt>$LOC111106242</dt>\n",
       "\t\t<dd><style>\n",
       ".list-inline {list-style: none; margin:0; padding: 0}\n",
       ".list-inline>li {display: inline-block}\n",
       ".list-inline>li:not(:last-child)::after {content: \"\\00b7\"; padding: 0 .5ex}\n",
       "</style>\n",
       "<ol class=list-inline><li>'GO:0005737'</li><li>'GO:0006693'</li><li>'GO:0032440'</li><li>'GO:0047522'</li></ol>\n",
       "</dd>\n",
       "\t<dt>$LOC111108431</dt>\n",
       "\t\t<dd><style>\n",
       ".list-inline {list-style: none; margin:0; padding: 0}\n",
       ".list-inline>li {display: inline-block}\n",
       ".list-inline>li:not(:last-child)::after {content: \"\\00b7\"; padding: 0 .5ex}\n",
       "</style>\n",
       "<ol class=list-inline><li>'GO:0005737'</li><li>'GO:0006693'</li><li>'GO:0032440'</li><li>'GO:0047522'</li></ol>\n",
       "</dd>\n",
       "\t<dt>$LOC111118924</dt>\n",
       "\t\t<dd><style>\n",
       ".list-inline {list-style: none; margin:0; padding: 0}\n",
       ".list-inline>li {display: inline-block}\n",
       ".list-inline>li:not(:last-child)::after {content: \"\\00b7\"; padding: 0 .5ex}\n",
       "</style>\n",
       "<ol class=list-inline><li>'GO:0004315'</li><li>'GO:0006633'</li><li>'GO:0008757'</li><li>'GO:0016491'</li><li>'GO:0031177'</li></ol>\n",
       "</dd>\n",
       "\t<dt>$LOC111121098</dt>\n",
       "\t\t<dd><style>\n",
       ".list-inline {list-style: none; margin:0; padding: 0}\n",
       ".list-inline>li {display: inline-block}\n",
       ".list-inline>li:not(:last-child)::after {content: \"\\00b7\"; padding: 0 .5ex}\n",
       "</style>\n",
       "<ol class=list-inline><li>'GO:0005739'</li><li>'GO:0006869'</li><li>'GO:0008289'</li><li>'GO:0016747'</li></ol>\n",
       "</dd>\n",
       "\t<dt>$LOC111121098</dt>\n",
       "\t\t<dd><style>\n",
       ".list-inline {list-style: none; margin:0; padding: 0}\n",
       ".list-inline>li {display: inline-block}\n",
       ".list-inline>li:not(:last-child)::after {content: \"\\00b7\"; padding: 0 .5ex}\n",
       "</style>\n",
       "<ol class=list-inline><li>'GO:0005739'</li><li>'GO:0006869'</li><li>'GO:0008289'</li><li>'GO:0016747'</li></ol>\n",
       "</dd>\n",
       "\t<dt>$LOC111121707</dt>\n",
       "\t\t<dd><style>\n",
       ".list-inline {list-style: none; margin:0; padding: 0}\n",
       ".list-inline>li {display: inline-block}\n",
       ".list-inline>li:not(:last-child)::after {content: \"\\00b7\"; padding: 0 .5ex}\n",
       "</style>\n",
       "<ol class=list-inline><li>'GO:0004315'</li><li>'GO:0006633'</li><li>'GO:0008757'</li><li>'GO:0016491'</li><li>'GO:0031177'</li></ol>\n",
       "</dd>\n",
       "</dl>\n"
      ],
      "text/latex": [
       "\\begin{description}\n",
       "\\item[\\$LOC111106242] \\begin{enumerate*}\n",
       "\\item 'GO:0005737'\n",
       "\\item 'GO:0006693'\n",
       "\\item 'GO:0032440'\n",
       "\\item 'GO:0047522'\n",
       "\\end{enumerate*}\n",
       "\n",
       "\\item[\\$LOC111108431] \\begin{enumerate*}\n",
       "\\item 'GO:0005737'\n",
       "\\item 'GO:0006693'\n",
       "\\item 'GO:0032440'\n",
       "\\item 'GO:0047522'\n",
       "\\end{enumerate*}\n",
       "\n",
       "\\item[\\$LOC111118924] \\begin{enumerate*}\n",
       "\\item 'GO:0004315'\n",
       "\\item 'GO:0006633'\n",
       "\\item 'GO:0008757'\n",
       "\\item 'GO:0016491'\n",
       "\\item 'GO:0031177'\n",
       "\\end{enumerate*}\n",
       "\n",
       "\\item[\\$LOC111121098] \\begin{enumerate*}\n",
       "\\item 'GO:0005739'\n",
       "\\item 'GO:0006869'\n",
       "\\item 'GO:0008289'\n",
       "\\item 'GO:0016747'\n",
       "\\end{enumerate*}\n",
       "\n",
       "\\item[\\$LOC111121098] \\begin{enumerate*}\n",
       "\\item 'GO:0005739'\n",
       "\\item 'GO:0006869'\n",
       "\\item 'GO:0008289'\n",
       "\\item 'GO:0016747'\n",
       "\\end{enumerate*}\n",
       "\n",
       "\\item[\\$LOC111121707] \\begin{enumerate*}\n",
       "\\item 'GO:0004315'\n",
       "\\item 'GO:0006633'\n",
       "\\item 'GO:0008757'\n",
       "\\item 'GO:0016491'\n",
       "\\item 'GO:0031177'\n",
       "\\end{enumerate*}\n",
       "\n",
       "\\end{description}\n"
      ],
      "text/markdown": [
       "$LOC111106242\n",
       ":   1. 'GO:0005737'\n",
       "2. 'GO:0006693'\n",
       "3. 'GO:0032440'\n",
       "4. 'GO:0047522'\n",
       "\n",
       "\n",
       "\n",
       "$LOC111108431\n",
       ":   1. 'GO:0005737'\n",
       "2. 'GO:0006693'\n",
       "3. 'GO:0032440'\n",
       "4. 'GO:0047522'\n",
       "\n",
       "\n",
       "\n",
       "$LOC111118924\n",
       ":   1. 'GO:0004315'\n",
       "2. 'GO:0006633'\n",
       "3. 'GO:0008757'\n",
       "4. 'GO:0016491'\n",
       "5. 'GO:0031177'\n",
       "\n",
       "\n",
       "\n",
       "$LOC111121098\n",
       ":   1. 'GO:0005739'\n",
       "2. 'GO:0006869'\n",
       "3. 'GO:0008289'\n",
       "4. 'GO:0016747'\n",
       "\n",
       "\n",
       "\n",
       "$LOC111121098\n",
       ":   1. 'GO:0005739'\n",
       "2. 'GO:0006869'\n",
       "3. 'GO:0008289'\n",
       "4. 'GO:0016747'\n",
       "\n",
       "\n",
       "\n",
       "$LOC111121707\n",
       ":   1. 'GO:0004315'\n",
       "2. 'GO:0006633'\n",
       "3. 'GO:0008757'\n",
       "4. 'GO:0016491'\n",
       "5. 'GO:0031177'\n",
       "\n",
       "\n",
       "\n",
       "\n",
       "\n"
      ],
      "text/plain": [
       "$LOC111106242\n",
       "[1] \"GO:0005737\" \"GO:0006693\" \"GO:0032440\" \"GO:0047522\"\n",
       "\n",
       "$LOC111108431\n",
       "[1] \"GO:0005737\" \"GO:0006693\" \"GO:0032440\" \"GO:0047522\"\n",
       "\n",
       "$LOC111118924\n",
       "[1] \"GO:0004315\" \"GO:0006633\" \"GO:0008757\" \"GO:0016491\" \"GO:0031177\"\n",
       "\n",
       "$LOC111121098\n",
       "[1] \"GO:0005739\" \"GO:0006869\" \"GO:0008289\" \"GO:0016747\"\n",
       "\n",
       "$LOC111121098\n",
       "[1] \"GO:0005739\" \"GO:0006869\" \"GO:0008289\" \"GO:0016747\"\n",
       "\n",
       "$LOC111121707\n",
       "[1] \"GO:0004315\" \"GO:0006633\" \"GO:0008757\" \"GO:0016491\" \"GO:0031177\"\n"
      ]
     },
     "metadata": {},
     "output_type": "display_data"
    }
   ],
   "source": [
    "geneID2GO <- readMappings(file = '/project/pi_sarah_gignouxwolfsohn_uml_edu/julia/CE_MethylRAD_analysis_2018/CE_methyl_analysis/GO_enrichment_analysis/gene_GOid.txt')\n",
    "geneID2GO <- geneID2GO[-1] # removes header\n",
    "head(geneID2GO)"
   ]
  },
  {
   "cell_type": "code",
   "execution_count": 33,
   "id": "51c32ee4-3358-4266-8cc0-9140ef6becba",
   "metadata": {},
   "outputs": [
    {
     "data": {
      "text/html": [
       "<style>\n",
       ".list-inline {list-style: none; margin:0; padding: 0}\n",
       ".list-inline>li {display: inline-block}\n",
       ".list-inline>li:not(:last-child)::after {content: \"\\00b7\"; padding: 0 .5ex}\n",
       "</style>\n",
       "<ol class=list-inline><li>'LOC111106242'</li><li>'LOC111108431'</li><li>'LOC111118924'</li><li>'LOC111121098'</li><li>'LOC111121098'</li><li>'LOC111121707'</li></ol>\n"
      ],
      "text/latex": [
       "\\begin{enumerate*}\n",
       "\\item 'LOC111106242'\n",
       "\\item 'LOC111108431'\n",
       "\\item 'LOC111118924'\n",
       "\\item 'LOC111121098'\n",
       "\\item 'LOC111121098'\n",
       "\\item 'LOC111121707'\n",
       "\\end{enumerate*}\n"
      ],
      "text/markdown": [
       "1. 'LOC111106242'\n",
       "2. 'LOC111108431'\n",
       "3. 'LOC111118924'\n",
       "4. 'LOC111121098'\n",
       "5. 'LOC111121098'\n",
       "6. 'LOC111121707'\n",
       "\n",
       "\n"
      ],
      "text/plain": [
       "[1] \"LOC111106242\" \"LOC111108431\" \"LOC111118924\" \"LOC111121098\" \"LOC111121098\"\n",
       "[6] \"LOC111121707\""
      ]
     },
     "metadata": {},
     "output_type": "display_data"
    }
   ],
   "source": [
    "geneNames <- names(geneID2GO)\n",
    "head(geneNames)"
   ]
  },
  {
   "cell_type": "code",
   "execution_count": 34,
   "id": "0a5cffff-fa1f-46f4-ac79-38cba42ec30d",
   "metadata": {},
   "outputs": [
    {
     "name": "stdout",
     "output_type": "stream",
     "text": [
      " Factor w/ 2 levels \"0\",\"1\": 1 1 1 1 1 1 1 1 1 1 ...\n",
      " - attr(*, \"names\")= chr [1:50432] \"LOC111106242\" \"LOC111108431\" \"LOC111118924\" \"LOC111121098\" ...\n"
     ]
    }
   ],
   "source": [
    "geneList <- factor(as.integer(geneNames %in% sig_genes))\n",
    "names(geneList) <- geneNames\n",
    "str(geneList)"
   ]
  },
  {
   "cell_type": "markdown",
   "id": "b8b75b63-0b0d-4a10-b6f9-56e3229dc244",
   "metadata": {},
   "source": [
    "looking at just **molecular function** ontology"
   ]
  },
  {
   "cell_type": "code",
   "execution_count": 35,
   "id": "41743df6-7cc5-4e81-b407-deb25dbcbeda",
   "metadata": {},
   "outputs": [
    {
     "name": "stderr",
     "output_type": "stream",
     "text": [
      "\n",
      "Building most specific GOs .....\n",
      "\n",
      "\t( 1275 GO terms found. )\n",
      "\n",
      "\n",
      "Build GO DAG topology ..........\n",
      "\n",
      "\t( 1732 GO terms and 2265 relations. )\n",
      "\n",
      "\n",
      "Annotating nodes ...............\n",
      "\n",
      "\t( 15560 genes annotated to the GO terms. )\n",
      "\n"
     ]
    }
   ],
   "source": [
    "GOdata <- new(\"topGOdata\", ontology = \"MF\", allGenes = geneList,annot = annFUN.gene2GO, gene2GO = geneID2GO)"
   ]
  },
  {
   "cell_type": "code",
   "execution_count": 36,
   "id": "fd339435-d338-42f0-81a0-4cfe8ae4faa9",
   "metadata": {},
   "outputs": [
    {
     "data": {
      "text/plain": [
       "\n",
       "------------------------- topGOdata object -------------------------\n",
       "\n",
       " Description:\n",
       "   -   \n",
       "\n",
       " Ontology:\n",
       "   -  MF \n",
       "\n",
       " 50432 available genes (all genes from the array):\n",
       "   - symbol:  LOC111106242 LOC111108431 LOC111118924 LOC111121098 LOC111121098  ...\n",
       "   - 1047  significant genes. \n",
       "\n",
       " 23328 feasible genes (genes that can be used in the analysis):\n",
       "   - symbol:  LOC111106242 LOC111108431 LOC111118924 LOC111121098 LOC111121098  ...\n",
       "   - 596  significant genes. \n",
       "\n",
       " GO graph (nodes with at least  1  genes):\n",
       "   - a graph with directed edges\n",
       "   - number of nodes = 1732 \n",
       "   - number of edges = 2265 \n",
       "\n",
       "------------------------- topGOdata object -------------------------\n"
      ]
     },
     "metadata": {},
     "output_type": "display_data"
    }
   ],
   "source": [
    "GOdata # getting summary"
   ]
  },
  {
   "cell_type": "code",
   "execution_count": 37,
   "id": "89c1ef1a-51e6-4f94-82fb-1d53fea59191",
   "metadata": {},
   "outputs": [
    {
     "name": "stderr",
     "output_type": "stream",
     "text": [
      "\n",
      "\t\t\t -- Classic Algorithm -- \n",
      "\n",
      "\t\t the algorithm is scoring 343 nontrivial nodes\n",
      "\t\t parameters: \n",
      "\t\t\t test statistic: fisher\n",
      "\n"
     ]
    }
   ],
   "source": [
    "resultFisher <- runTest(GOdata, algorithm = \"classic\", statistic = \"fisher\")"
   ]
  },
  {
   "cell_type": "code",
   "execution_count": 38,
   "id": "daa229b9-6eaf-4f37-8c84-5cb2f38c8d7a",
   "metadata": {},
   "outputs": [
    {
     "data": {
      "text/plain": [
       "\n",
       "Description:  \n",
       "Ontology: MF \n",
       "'classic' algorithm with the 'fisher' test\n",
       "1732 GO terms scored: 12 terms with p < 0.01\n",
       "Annotation data:\n",
       "    Annotated genes: 23328 \n",
       "    Significant genes: 596 \n",
       "    Min. no. of genes annotated to a GO: 1 \n",
       "    Nontrivial nodes: 343 "
      ]
     },
     "metadata": {},
     "output_type": "display_data"
    }
   ],
   "source": [
    "resultFisher"
   ]
  },
  {
   "cell_type": "code",
   "execution_count": 39,
   "id": "310e5635-71a9-4f7f-a538-40eb41f35c1d",
   "metadata": {},
   "outputs": [
    {
     "name": "stderr",
     "output_type": "stream",
     "text": [
      "\n",
      "\t\t\t -- Classic Algorithm -- \n",
      "\n",
      "\t\t the algorithm is scoring 1732 nontrivial nodes\n",
      "\t\t parameters: \n",
      "\t\t\t test statistic: ks\n",
      "\t\t\t score order: increasing\n",
      "\n",
      "\n",
      "\t\t\t -- Elim Algorithm -- \n",
      "\n",
      "\t\t the algorithm is scoring 1732 nontrivial nodes\n",
      "\t\t parameters: \n",
      "\t\t\t test statistic: ks\n",
      "\t\t\t cutOff: 0.01\n",
      "\t\t\t score order: increasing\n",
      "\n",
      "\n",
      "\t Level 13:\t1 nodes to be scored\t(0 eliminated genes)\n",
      "\n",
      "\n",
      "\t Level 12:\t3 nodes to be scored\t(0 eliminated genes)\n",
      "\n",
      "\n",
      "\t Level 11:\t7 nodes to be scored\t(40 eliminated genes)\n",
      "\n",
      "\n",
      "\t Level 10:\t24 nodes to be scored\t(40 eliminated genes)\n",
      "\n",
      "\n",
      "\t Level 9:\t94 nodes to be scored\t(112 eliminated genes)\n",
      "\n",
      "\n",
      "\t Level 8:\t161 nodes to be scored\t(1782 eliminated genes)\n",
      "\n",
      "\n",
      "\t Level 7:\t345 nodes to be scored\t(2353 eliminated genes)\n",
      "\n",
      "\n",
      "\t Level 6:\t509 nodes to be scored\t(5397 eliminated genes)\n",
      "\n",
      "\n",
      "\t Level 5:\t303 nodes to be scored\t(7052 eliminated genes)\n",
      "\n",
      "\n",
      "\t Level 4:\t201 nodes to be scored\t(9770 eliminated genes)\n",
      "\n",
      "\n",
      "\t Level 3:\t64 nodes to be scored\t(10141 eliminated genes)\n",
      "\n",
      "\n",
      "\t Level 2:\t19 nodes to be scored\t(13040 eliminated genes)\n",
      "\n",
      "\n",
      "\t Level 1:\t1 nodes to be scored\t(13714 eliminated genes)\n",
      "\n"
     ]
    },
    {
     "data": {
      "text/plain": [
       "\n",
       "Description:  \n",
       "Ontology: MF \n",
       "'classic' algorithm with the 'ks' test\n",
       "1732 GO terms scored: 356 terms with p < 0.01\n",
       "Annotation data:\n",
       "    Annotated genes: 23328 \n",
       "    Significant genes: 596 \n",
       "    Min. no. of genes annotated to a GO: 1 \n",
       "    Nontrivial nodes: 1732 "
      ]
     },
     "metadata": {},
     "output_type": "display_data"
    },
    {
     "data": {
      "text/plain": [
       "\n",
       "Description:  \n",
       "Ontology: MF \n",
       "'elim' algorithm with the 'ks : 0.01' test\n",
       "1732 GO terms scored: 321 terms with p < 0.01\n",
       "Annotation data:\n",
       "    Annotated genes: 23328 \n",
       "    Significant genes: 596 \n",
       "    Min. no. of genes annotated to a GO: 1 \n",
       "    Nontrivial nodes: 1732 "
      ]
     },
     "metadata": {},
     "output_type": "display_data"
    }
   ],
   "source": [
    "resultKS <- runTest(GOdata, algorithm = \"classic\", statistic = \"ks\")\n",
    "resultKS.elim <- runTest(GOdata, algorithm = \"elim\", statistic = \"ks\")\n",
    "\n",
    "resultKS\n",
    "\n",
    "resultKS.elim"
   ]
  },
  {
   "cell_type": "code",
   "execution_count": 41,
   "id": "0ad06d54-4e10-440b-9887-8258d528a345",
   "metadata": {},
   "outputs": [],
   "source": [
    "allRes <- GenTable(GOdata, classicFisher = resultFisher,\n",
    "                   classicKS = resultKS, elimKS = resultKS.elim,\n",
    "                   orderBy = \"elimKS\", ranksOf = \"classicFisher\", topNodes = 10)"
   ]
  },
  {
   "cell_type": "code",
   "execution_count": 42,
   "id": "7ac86d3d-271f-46c3-a4e1-db3ea3ea44bf",
   "metadata": {},
   "outputs": [
    {
     "data": {
      "text/html": [
       "<table class=\"dataframe\">\n",
       "<caption>A data.frame: 10 × 9</caption>\n",
       "<thead>\n",
       "\t<tr><th></th><th scope=col>GO.ID</th><th scope=col>Term</th><th scope=col>Annotated</th><th scope=col>Significant</th><th scope=col>Expected</th><th scope=col>Rank in classicFisher</th><th scope=col>classicFisher</th><th scope=col>classicKS</th><th scope=col>elimKS</th></tr>\n",
       "\t<tr><th></th><th scope=col>&lt;chr&gt;</th><th scope=col>&lt;chr&gt;</th><th scope=col>&lt;int&gt;</th><th scope=col>&lt;int&gt;</th><th scope=col>&lt;dbl&gt;</th><th scope=col>&lt;int&gt;</th><th scope=col>&lt;chr&gt;</th><th scope=col>&lt;chr&gt;</th><th scope=col>&lt;chr&gt;</th></tr>\n",
       "</thead>\n",
       "<tbody>\n",
       "\t<tr><th scope=row>1</th><td>GO:0000166</td><td><span style=white-space:pre-wrap>nucleotide binding                      </span></td><td> 2141</td><td> 60</td><td> 54.70</td><td>149</td><td>0.24207</td><td>&lt; 1e-30</td><td>&lt;1e-30</td></tr>\n",
       "\t<tr><th scope=row>2</th><td>GO:0003674</td><td><span style=white-space:pre-wrap>molecular_function                      </span></td><td>15560</td><td>233</td><td>397.54</td><td>343</td><td>1.00000</td><td>7.1e-07</td><td>&lt;1e-30</td></tr>\n",
       "\t<tr><th scope=row>3</th><td>GO:0003678</td><td><span style=white-space:pre-wrap>DNA helicase activity                   </span></td><td><span style=white-space:pre-wrap>   54</span></td><td><span style=white-space:pre-wrap>  2</span></td><td><span style=white-space:pre-wrap>  1.38</span></td><td>183</td><td>0.40296</td><td>&lt; 1e-30</td><td>&lt;1e-30</td></tr>\n",
       "\t<tr><th scope=row>4</th><td>GO:0003774</td><td><span style=white-space:pre-wrap>cytoskeletal motor activity             </span></td><td><span style=white-space:pre-wrap>  107</span></td><td> 11</td><td><span style=white-space:pre-wrap>  2.73</span></td><td><span style=white-space:pre-wrap>  2</span></td><td>9.3e-05</td><td>&lt; 1e-30</td><td>&lt;1e-30</td></tr>\n",
       "\t<tr><th scope=row>5</th><td>GO:0003777</td><td><span style=white-space:pre-wrap>microtubule motor activity              </span></td><td><span style=white-space:pre-wrap>   73</span></td><td><span style=white-space:pre-wrap>  8</span></td><td><span style=white-space:pre-wrap>  1.87</span></td><td><span style=white-space:pre-wrap>  3</span></td><td>0.00054</td><td>1.1e-16</td><td>&lt;1e-30</td></tr>\n",
       "\t<tr><th scope=row>6</th><td>GO:0003824</td><td><span style=white-space:pre-wrap>catalytic activity                      </span></td><td> 6378</td><td>121</td><td>162.95</td><td>327</td><td>0.99998</td><td>&lt; 1e-30</td><td>&lt;1e-30</td></tr>\n",
       "\t<tr><th scope=row>7</th><td>GO:0003887</td><td><span style=white-space:pre-wrap>DNA-directed DNA polymerase activity    </span></td><td><span style=white-space:pre-wrap>   73</span></td><td><span style=white-space:pre-wrap>  2</span></td><td><span style=white-space:pre-wrap>  1.87</span></td><td>214</td><td>0.55986</td><td>&lt; 1e-30</td><td>&lt;1e-30</td></tr>\n",
       "\t<tr><th scope=row>8</th><td>GO:0004674</td><td>protein serine/threonine kinase activity</td><td><span style=white-space:pre-wrap>  180</span></td><td><span style=white-space:pre-wrap>  4</span></td><td><span style=white-space:pre-wrap>  4.60</span></td><td>232</td><td>0.67847</td><td>&lt; 1e-30</td><td>&lt;1e-30</td></tr>\n",
       "\t<tr><th scope=row>9</th><td>GO:0004725</td><td><span style=white-space:pre-wrap>protein tyrosine phosphatase activity   </span></td><td><span style=white-space:pre-wrap>  276</span></td><td><span style=white-space:pre-wrap>  2</span></td><td><span style=white-space:pre-wrap>  7.05</span></td><td>311</td><td>0.99370</td><td>&lt; 1e-30</td><td>&lt;1e-30</td></tr>\n",
       "\t<tr><th scope=row>10</th><td>GO:0005044</td><td><span style=white-space:pre-wrap>scavenger receptor activity             </span></td><td><span style=white-space:pre-wrap>  573</span></td><td><span style=white-space:pre-wrap>  1</span></td><td> 14.64</td><td>334</td><td>1.00000</td><td>&lt; 1e-30</td><td>&lt;1e-30</td></tr>\n",
       "</tbody>\n",
       "</table>\n"
      ],
      "text/latex": [
       "A data.frame: 10 × 9\n",
       "\\begin{tabular}{r|lllllllll}\n",
       "  & GO.ID & Term & Annotated & Significant & Expected & Rank in classicFisher & classicFisher & classicKS & elimKS\\\\\n",
       "  & <chr> & <chr> & <int> & <int> & <dbl> & <int> & <chr> & <chr> & <chr>\\\\\n",
       "\\hline\n",
       "\t1 & GO:0000166 & nucleotide binding                       &  2141 &  60 &  54.70 & 149 & 0.24207 & < 1e-30 & <1e-30\\\\\n",
       "\t2 & GO:0003674 & molecular\\_function                       & 15560 & 233 & 397.54 & 343 & 1.00000 & 7.1e-07 & <1e-30\\\\\n",
       "\t3 & GO:0003678 & DNA helicase activity                    &    54 &   2 &   1.38 & 183 & 0.40296 & < 1e-30 & <1e-30\\\\\n",
       "\t4 & GO:0003774 & cytoskeletal motor activity              &   107 &  11 &   2.73 &   2 & 9.3e-05 & < 1e-30 & <1e-30\\\\\n",
       "\t5 & GO:0003777 & microtubule motor activity               &    73 &   8 &   1.87 &   3 & 0.00054 & 1.1e-16 & <1e-30\\\\\n",
       "\t6 & GO:0003824 & catalytic activity                       &  6378 & 121 & 162.95 & 327 & 0.99998 & < 1e-30 & <1e-30\\\\\n",
       "\t7 & GO:0003887 & DNA-directed DNA polymerase activity     &    73 &   2 &   1.87 & 214 & 0.55986 & < 1e-30 & <1e-30\\\\\n",
       "\t8 & GO:0004674 & protein serine/threonine kinase activity &   180 &   4 &   4.60 & 232 & 0.67847 & < 1e-30 & <1e-30\\\\\n",
       "\t9 & GO:0004725 & protein tyrosine phosphatase activity    &   276 &   2 &   7.05 & 311 & 0.99370 & < 1e-30 & <1e-30\\\\\n",
       "\t10 & GO:0005044 & scavenger receptor activity              &   573 &   1 &  14.64 & 334 & 1.00000 & < 1e-30 & <1e-30\\\\\n",
       "\\end{tabular}\n"
      ],
      "text/markdown": [
       "\n",
       "A data.frame: 10 × 9\n",
       "\n",
       "| <!--/--> | GO.ID &lt;chr&gt; | Term &lt;chr&gt; | Annotated &lt;int&gt; | Significant &lt;int&gt; | Expected &lt;dbl&gt; | Rank in classicFisher &lt;int&gt; | classicFisher &lt;chr&gt; | classicKS &lt;chr&gt; | elimKS &lt;chr&gt; |\n",
       "|---|---|---|---|---|---|---|---|---|---|\n",
       "| 1 | GO:0000166 | nucleotide binding                       |  2141 |  60 |  54.70 | 149 | 0.24207 | &lt; 1e-30 | &lt;1e-30 |\n",
       "| 2 | GO:0003674 | molecular_function                       | 15560 | 233 | 397.54 | 343 | 1.00000 | 7.1e-07 | &lt;1e-30 |\n",
       "| 3 | GO:0003678 | DNA helicase activity                    |    54 |   2 |   1.38 | 183 | 0.40296 | &lt; 1e-30 | &lt;1e-30 |\n",
       "| 4 | GO:0003774 | cytoskeletal motor activity              |   107 |  11 |   2.73 |   2 | 9.3e-05 | &lt; 1e-30 | &lt;1e-30 |\n",
       "| 5 | GO:0003777 | microtubule motor activity               |    73 |   8 |   1.87 |   3 | 0.00054 | 1.1e-16 | &lt;1e-30 |\n",
       "| 6 | GO:0003824 | catalytic activity                       |  6378 | 121 | 162.95 | 327 | 0.99998 | &lt; 1e-30 | &lt;1e-30 |\n",
       "| 7 | GO:0003887 | DNA-directed DNA polymerase activity     |    73 |   2 |   1.87 | 214 | 0.55986 | &lt; 1e-30 | &lt;1e-30 |\n",
       "| 8 | GO:0004674 | protein serine/threonine kinase activity |   180 |   4 |   4.60 | 232 | 0.67847 | &lt; 1e-30 | &lt;1e-30 |\n",
       "| 9 | GO:0004725 | protein tyrosine phosphatase activity    |   276 |   2 |   7.05 | 311 | 0.99370 | &lt; 1e-30 | &lt;1e-30 |\n",
       "| 10 | GO:0005044 | scavenger receptor activity              |   573 |   1 |  14.64 | 334 | 1.00000 | &lt; 1e-30 | &lt;1e-30 |\n",
       "\n"
      ],
      "text/plain": [
       "   GO.ID      Term                                     Annotated Significant\n",
       "1  GO:0000166 nucleotide binding                        2141      60        \n",
       "2  GO:0003674 molecular_function                       15560     233        \n",
       "3  GO:0003678 DNA helicase activity                       54       2        \n",
       "4  GO:0003774 cytoskeletal motor activity                107      11        \n",
       "5  GO:0003777 microtubule motor activity                  73       8        \n",
       "6  GO:0003824 catalytic activity                        6378     121        \n",
       "7  GO:0003887 DNA-directed DNA polymerase activity        73       2        \n",
       "8  GO:0004674 protein serine/threonine kinase activity   180       4        \n",
       "9  GO:0004725 protein tyrosine phosphatase activity      276       2        \n",
       "10 GO:0005044 scavenger receptor activity                573       1        \n",
       "   Expected Rank in classicFisher classicFisher classicKS elimKS\n",
       "1   54.70   149                   0.24207       < 1e-30   <1e-30\n",
       "2  397.54   343                   1.00000       7.1e-07   <1e-30\n",
       "3    1.38   183                   0.40296       < 1e-30   <1e-30\n",
       "4    2.73     2                   9.3e-05       < 1e-30   <1e-30\n",
       "5    1.87     3                   0.00054       1.1e-16   <1e-30\n",
       "6  162.95   327                   0.99998       < 1e-30   <1e-30\n",
       "7    1.87   214                   0.55986       < 1e-30   <1e-30\n",
       "8    4.60   232                   0.67847       < 1e-30   <1e-30\n",
       "9    7.05   311                   0.99370       < 1e-30   <1e-30\n",
       "10  14.64   334                   1.00000       < 1e-30   <1e-30"
      ]
     },
     "metadata": {},
     "output_type": "display_data"
    }
   ],
   "source": [
    "allRes"
   ]
  },
  {
   "cell_type": "code",
   "execution_count": 43,
   "id": "4b8b7d25-cfc0-4e55-bfa2-77e6c303c5a0",
   "metadata": {},
   "outputs": [],
   "source": [
    "#Defined colMap, ref. https://github.com/Bioconductor-mirror/topGO/blob/master/vignettes/topGO.Rnw\n",
    "colMap <- function(x) {\n",
    "  .col <- rep(rev(heat.colors(length(unique(x)))), time = table(x))\n",
    "  return(.col[match(1:length(x), order(x))])\n",
    "}"
   ]
  },
  {
   "cell_type": "code",
   "execution_count": 44,
   "id": "772eaccd-9d1f-47c0-a8dc-5d53256e8279",
   "metadata": {},
   "outputs": [
    {
     "data": {
      "image/png": "[encoded data removed]",
      "text/plain": [
       "plot without title"
      ]
     },
     "metadata": {
      "image/png": {
       "height": 420,
       "width": 420
      }
     },
     "output_type": "display_data"
    }
   ],
   "source": [
    "# looks at differences between classic p-value and elim p-value\n",
    "# elim p-value is less conservative\n",
    "pValue.classic <- score(resultKS)\n",
    "pValue.elim <- score(resultKS.elim)[names(pValue.classic)]\n",
    "gstat <- termStat(GOdata, names(pValue.classic))\n",
    "gSize <- gstat$Annotated / max(gstat$Annotated) * 4\n",
    "gCol <- colMap(gstat$Significant)\n",
    "plot(pValue.classic, pValue.elim, xlab = \"p-value classic\", ylab = \"p-value elim\",\n",
    "     pch = 19, cex = gSize, col = gCol)"
   ]
  },
  {
   "cell_type": "code",
   "execution_count": 45,
   "id": "35a4fa79-550d-42a3-a032-80d9ba102ef1",
   "metadata": {},
   "outputs": [
    {
     "data": {
      "text/html": [
       "<table class=\"dataframe\">\n",
       "<caption>A data.frame: 627 × 5</caption>\n",
       "<thead>\n",
       "\t<tr><th></th><th scope=col>Annotated</th><th scope=col>Significant</th><th scope=col>Expected</th><th scope=col>elim</th><th scope=col>classic</th></tr>\n",
       "\t<tr><th></th><th scope=col>&lt;int&gt;</th><th scope=col>&lt;int&gt;</th><th scope=col>&lt;dbl&gt;</th><th scope=col>&lt;dbl&gt;</th><th scope=col>&lt;dbl&gt;</th></tr>\n",
       "</thead>\n",
       "<tbody>\n",
       "\t<tr><th scope=row>GO:0000026</th><td>    1</td><td>  0</td><td>  0.03</td><td>7.877075e-02</td><td>2.746176e-01</td></tr>\n",
       "\t<tr><th scope=row>GO:0000049</th><td>   31</td><td>  0</td><td>  0.79</td><td>4.196254e-11</td><td>4.390865e-10</td></tr>\n",
       "\t<tr><th scope=row>GO:0000062</th><td>    6</td><td>  0</td><td>  0.15</td><td>8.533689e-01</td><td>9.170824e-01</td></tr>\n",
       "\t<tr><th scope=row>GO:0000309</th><td>    1</td><td>  0</td><td>  0.03</td><td>1.661239e-02</td><td>1.473767e-01</td></tr>\n",
       "\t<tr><th scope=row>GO:0000774</th><td>    2</td><td>  0</td><td>  0.05</td><td>8.532941e-02</td><td>4.072953e-01</td></tr>\n",
       "\t<tr><th scope=row>GO:0000828</th><td>    2</td><td>  0</td><td>  0.05</td><td>2.442491e-15</td><td>1.891448e-02</td></tr>\n",
       "\t<tr><th scope=row>GO:0000829</th><td>    2</td><td>  0</td><td>  0.05</td><td>2.442491e-15</td><td>1.891448e-02</td></tr>\n",
       "\t<tr><th scope=row>GO:0000900</th><td>    1</td><td>  0</td><td>  0.03</td><td>1.869389e-01</td><td>4.301740e-01</td></tr>\n",
       "\t<tr><th scope=row>GO:0000976</th><td>   42</td><td>  0</td><td>  1.07</td><td>1.755745e-01</td><td>1.878093e-01</td></tr>\n",
       "\t<tr><th scope=row>GO:0000977</th><td>   34</td><td>  0</td><td>  0.87</td><td>1.156959e-01</td><td>1.522962e-01</td></tr>\n",
       "\t<tr><th scope=row>GO:0000978</th><td>   26</td><td>  0</td><td>  0.66</td><td>1.120369e-02</td><td>1.399860e-02</td></tr>\n",
       "\t<tr><th scope=row>GO:0000981</th><td>  140</td><td>  0</td><td>  3.58</td><td>4.756745e-05</td><td>1.574098e-02</td></tr>\n",
       "\t<tr><th scope=row>GO:0000987</th><td>   27</td><td>  0</td><td>  0.69</td><td>1.739384e-02</td><td>2.535430e-02</td></tr>\n",
       "\t<tr><th scope=row>GO:0001067</th><td>   42</td><td>  0</td><td>  1.07</td><td>1.755745e-01</td><td>1.878093e-01</td></tr>\n",
       "\t<tr><th scope=row>GO:0001091</th><td>    1</td><td>  0</td><td>  0.03</td><td>7.672536e-02</td><td>2.764382e-01</td></tr>\n",
       "\t<tr><th scope=row>GO:0001098</th><td>    3</td><td>  0</td><td>  0.08</td><td>4.840302e-01</td><td>8.962346e-01</td></tr>\n",
       "\t<tr><th scope=row>GO:0001099</th><td>    3</td><td>  0</td><td>  0.08</td><td>4.840302e-01</td><td>8.962346e-01</td></tr>\n",
       "\t<tr><th scope=row>GO:0001216</th><td>    6</td><td>  0</td><td>  0.15</td><td>7.135070e-01</td><td>7.733079e-01</td></tr>\n",
       "\t<tr><th scope=row>GO:0001217</th><td>    3</td><td>  0</td><td>  0.08</td><td>1.882282e-01</td><td>4.028764e-01</td></tr>\n",
       "\t<tr><th scope=row>GO:0001227</th><td>    3</td><td>  0</td><td>  0.08</td><td>1.882282e-01</td><td>4.028764e-01</td></tr>\n",
       "\t<tr><th scope=row>GO:0001228</th><td>    6</td><td>  0</td><td>  0.15</td><td>7.135070e-01</td><td>7.733079e-01</td></tr>\n",
       "\t<tr><th scope=row>GO:0001607</th><td>    5</td><td>  0</td><td>  0.13</td><td>2.605660e-02</td><td>1.281696e-01</td></tr>\n",
       "\t<tr><th scope=row>GO:0001614</th><td>    7</td><td>  0</td><td>  0.18</td><td>6.358019e-01</td><td>7.820435e-01</td></tr>\n",
       "\t<tr><th scope=row>GO:0001653</th><td>  123</td><td>  1</td><td>  3.14</td><td>6.832215e-01</td><td>7.150668e-01</td></tr>\n",
       "\t<tr><th scope=row>GO:0001671</th><td>    5</td><td>  0</td><td>  0.13</td><td>3.739520e-01</td><td>7.067894e-01</td></tr>\n",
       "\t<tr><th scope=row>GO:0001872</th><td>    4</td><td>  0</td><td>  0.10</td><td>1.736788e-02</td><td>9.195759e-02</td></tr>\n",
       "\t<tr><th scope=row>GO:0002020</th><td>   13</td><td>  0</td><td>  0.33</td><td>3.966655e-02</td><td>7.247767e-02</td></tr>\n",
       "\t<tr><th scope=row>GO:0002039</th><td>    2</td><td>  0</td><td>  0.05</td><td>2.711351e-02</td><td>9.026138e-02</td></tr>\n",
       "\t<tr><th scope=row>GO:0002094</th><td>    2</td><td>  0</td><td>  0.05</td><td>1.516292e-03</td><td>3.857893e-02</td></tr>\n",
       "\t<tr><th scope=row>GO:0003674</th><td>15560</td><td>233</td><td>397.54</td><td>0.000000e+00</td><td>7.104199e-07</td></tr>\n",
       "\t<tr><th scope=row>⋮</th><td>⋮</td><td>⋮</td><td>⋮</td><td>⋮</td><td>⋮</td></tr>\n",
       "\t<tr><th scope=row>GO:0106018</th><td>  3</td><td> 0</td><td> 0.08</td><td>0.0130394189</td><td>0.1115609531</td></tr>\n",
       "\t<tr><th scope=row>GO:0106019</th><td>  1</td><td> 0</td><td> 0.03</td><td>0.1342776794</td><td>0.3662769086</td></tr>\n",
       "\t<tr><th scope=row>GO:0106073</th><td>  2</td><td> 0</td><td> 0.05</td><td>0.0000546686</td><td>0.0373544564</td></tr>\n",
       "\t<tr><th scope=row>GO:0106245</th><td>  2</td><td> 0</td><td> 0.05</td><td>0.0191152662</td><td>0.0440349142</td></tr>\n",
       "\t<tr><th scope=row>GO:0106388</th><td>  1</td><td> 0</td><td> 0.03</td><td>0.0130362785</td><td>0.2278753084</td></tr>\n",
       "\t<tr><th scope=row>GO:0120013</th><td>  7</td><td> 0</td><td> 0.18</td><td>0.6732046206</td><td>0.9373854958</td></tr>\n",
       "\t<tr><th scope=row>GO:0120227</th><td>  6</td><td> 0</td><td> 0.15</td><td>0.8533688796</td><td>0.9170824138</td></tr>\n",
       "\t<tr><th scope=row>GO:0140034</th><td>  2</td><td> 0</td><td> 0.05</td><td>0.7008210724</td><td>0.7889978997</td></tr>\n",
       "\t<tr><th scope=row>GO:0140102</th><td>  8</td><td> 0</td><td> 0.20</td><td>0.0041239892</td><td>0.0190832045</td></tr>\n",
       "\t<tr><th scope=row>GO:0140110</th><td>448</td><td>12</td><td>11.45</td><td>0.1383382826</td><td>0.1507248641</td></tr>\n",
       "\t<tr><th scope=row>GO:0140223</th><td>  7</td><td> 0</td><td> 0.18</td><td>0.3193278118</td><td>0.3585505672</td></tr>\n",
       "\t<tr><th scope=row>GO:0140296</th><td>  5</td><td> 2</td><td> 0.13</td><td>0.3367193637</td><td>0.6654763709</td></tr>\n",
       "\t<tr><th scope=row>GO:0140297</th><td>  2</td><td> 0</td><td> 0.05</td><td>0.0164904546</td><td>0.1280595738</td></tr>\n",
       "\t<tr><th scope=row>GO:0140326</th><td>  7</td><td> 0</td><td> 0.18</td><td>0.0000000000</td><td>0.0005777785</td></tr>\n",
       "\t<tr><th scope=row>GO:0140359</th><td> 62</td><td> 0</td><td> 1.58</td><td>0.0183252075</td><td>0.1696307166</td></tr>\n",
       "\t<tr><th scope=row>GO:0140375</th><td>  3</td><td> 0</td><td> 0.08</td><td>0.0870685887</td><td>0.1580780689</td></tr>\n",
       "\t<tr><th scope=row>GO:0140575</th><td>  2</td><td> 0</td><td> 0.05</td><td>0.0552055346</td><td>0.3059527308</td></tr>\n",
       "\t<tr><th scope=row>GO:0140662</th><td>157</td><td> 1</td><td> 4.01</td><td>0.0024376361</td><td>0.0118500324</td></tr>\n",
       "\t<tr><th scope=row>GO:0140677</th><td>120</td><td> 2</td><td> 3.07</td><td>0.2893521557</td><td>0.7094323280</td></tr>\n",
       "\t<tr><th scope=row>GO:0140682</th><td>  3</td><td> 1</td><td> 0.08</td><td>0.0018584741</td><td>0.0734817493</td></tr>\n",
       "\t<tr><th scope=row>GO:0140776</th><td>  2</td><td> 1</td><td> 0.05</td><td>0.0702013404</td><td>0.3697427139</td></tr>\n",
       "\t<tr><th scope=row>GO:0140938</th><td> 13</td><td> 2</td><td> 0.33</td><td>0.2174332048</td><td>0.6306015645</td></tr>\n",
       "\t<tr><th scope=row>GO:0140939</th><td>  3</td><td> 0</td><td> 0.08</td><td>0.0215829006</td><td>0.0563165346</td></tr>\n",
       "\t<tr><th scope=row>GO:1901338</th><td>  1</td><td> 0</td><td> 0.03</td><td>0.1427240002</td><td>0.3759533099</td></tr>\n",
       "\t<tr><th scope=row>GO:1901567</th><td>  6</td><td> 0</td><td> 0.15</td><td>0.8533688796</td><td>0.9170824138</td></tr>\n",
       "\t<tr><th scope=row>GO:1901618</th><td> 18</td><td> 0</td><td> 0.46</td><td>0.9195212932</td><td>0.9712329061</td></tr>\n",
       "\t<tr><th scope=row>GO:1904047</th><td>  1</td><td> 0</td><td> 0.03</td><td>0.0130362785</td><td>0.2278753084</td></tr>\n",
       "\t<tr><th scope=row>GO:1990380</th><td>  4</td><td> 0</td><td> 0.10</td><td>0.0004004528</td><td>0.0197005351</td></tr>\n",
       "\t<tr><th scope=row>GO:1990817</th><td>  3</td><td> 0</td><td> 0.08</td><td>0.1932469603</td><td>0.5464454101</td></tr>\n",
       "\t<tr><th scope=row>GO:1990837</th><td> 45</td><td> 1</td><td> 1.15</td><td>0.2038545953</td><td>0.2105445093</td></tr>\n",
       "</tbody>\n",
       "</table>\n"
      ],
      "text/latex": [
       "A data.frame: 627 × 5\n",
       "\\begin{tabular}{r|lllll}\n",
       "  & Annotated & Significant & Expected & elim & classic\\\\\n",
       "  & <int> & <int> & <dbl> & <dbl> & <dbl>\\\\\n",
       "\\hline\n",
       "\tGO:0000026 &     1 &   0 &   0.03 & 7.877075e-02 & 2.746176e-01\\\\\n",
       "\tGO:0000049 &    31 &   0 &   0.79 & 4.196254e-11 & 4.390865e-10\\\\\n",
       "\tGO:0000062 &     6 &   0 &   0.15 & 8.533689e-01 & 9.170824e-01\\\\\n",
       "\tGO:0000309 &     1 &   0 &   0.03 & 1.661239e-02 & 1.473767e-01\\\\\n",
       "\tGO:0000774 &     2 &   0 &   0.05 & 8.532941e-02 & 4.072953e-01\\\\\n",
       "\tGO:0000828 &     2 &   0 &   0.05 & 2.442491e-15 & 1.891448e-02\\\\\n",
       "\tGO:0000829 &     2 &   0 &   0.05 & 2.442491e-15 & 1.891448e-02\\\\\n",
       "\tGO:0000900 &     1 &   0 &   0.03 & 1.869389e-01 & 4.301740e-01\\\\\n",
       "\tGO:0000976 &    42 &   0 &   1.07 & 1.755745e-01 & 1.878093e-01\\\\\n",
       "\tGO:0000977 &    34 &   0 &   0.87 & 1.156959e-01 & 1.522962e-01\\\\\n",
       "\tGO:0000978 &    26 &   0 &   0.66 & 1.120369e-02 & 1.399860e-02\\\\\n",
       "\tGO:0000981 &   140 &   0 &   3.58 & 4.756745e-05 & 1.574098e-02\\\\\n",
       "\tGO:0000987 &    27 &   0 &   0.69 & 1.739384e-02 & 2.535430e-02\\\\\n",
       "\tGO:0001067 &    42 &   0 &   1.07 & 1.755745e-01 & 1.878093e-01\\\\\n",
       "\tGO:0001091 &     1 &   0 &   0.03 & 7.672536e-02 & 2.764382e-01\\\\\n",
       "\tGO:0001098 &     3 &   0 &   0.08 & 4.840302e-01 & 8.962346e-01\\\\\n",
       "\tGO:0001099 &     3 &   0 &   0.08 & 4.840302e-01 & 8.962346e-01\\\\\n",
       "\tGO:0001216 &     6 &   0 &   0.15 & 7.135070e-01 & 7.733079e-01\\\\\n",
       "\tGO:0001217 &     3 &   0 &   0.08 & 1.882282e-01 & 4.028764e-01\\\\\n",
       "\tGO:0001227 &     3 &   0 &   0.08 & 1.882282e-01 & 4.028764e-01\\\\\n",
       "\tGO:0001228 &     6 &   0 &   0.15 & 7.135070e-01 & 7.733079e-01\\\\\n",
       "\tGO:0001607 &     5 &   0 &   0.13 & 2.605660e-02 & 1.281696e-01\\\\\n",
       "\tGO:0001614 &     7 &   0 &   0.18 & 6.358019e-01 & 7.820435e-01\\\\\n",
       "\tGO:0001653 &   123 &   1 &   3.14 & 6.832215e-01 & 7.150668e-01\\\\\n",
       "\tGO:0001671 &     5 &   0 &   0.13 & 3.739520e-01 & 7.067894e-01\\\\\n",
       "\tGO:0001872 &     4 &   0 &   0.10 & 1.736788e-02 & 9.195759e-02\\\\\n",
       "\tGO:0002020 &    13 &   0 &   0.33 & 3.966655e-02 & 7.247767e-02\\\\\n",
       "\tGO:0002039 &     2 &   0 &   0.05 & 2.711351e-02 & 9.026138e-02\\\\\n",
       "\tGO:0002094 &     2 &   0 &   0.05 & 1.516292e-03 & 3.857893e-02\\\\\n",
       "\tGO:0003674 & 15560 & 233 & 397.54 & 0.000000e+00 & 7.104199e-07\\\\\n",
       "\t⋮ & ⋮ & ⋮ & ⋮ & ⋮ & ⋮\\\\\n",
       "\tGO:0106018 &   3 &  0 &  0.08 & 0.0130394189 & 0.1115609531\\\\\n",
       "\tGO:0106019 &   1 &  0 &  0.03 & 0.1342776794 & 0.3662769086\\\\\n",
       "\tGO:0106073 &   2 &  0 &  0.05 & 0.0000546686 & 0.0373544564\\\\\n",
       "\tGO:0106245 &   2 &  0 &  0.05 & 0.0191152662 & 0.0440349142\\\\\n",
       "\tGO:0106388 &   1 &  0 &  0.03 & 0.0130362785 & 0.2278753084\\\\\n",
       "\tGO:0120013 &   7 &  0 &  0.18 & 0.6732046206 & 0.9373854958\\\\\n",
       "\tGO:0120227 &   6 &  0 &  0.15 & 0.8533688796 & 0.9170824138\\\\\n",
       "\tGO:0140034 &   2 &  0 &  0.05 & 0.7008210724 & 0.7889978997\\\\\n",
       "\tGO:0140102 &   8 &  0 &  0.20 & 0.0041239892 & 0.0190832045\\\\\n",
       "\tGO:0140110 & 448 & 12 & 11.45 & 0.1383382826 & 0.1507248641\\\\\n",
       "\tGO:0140223 &   7 &  0 &  0.18 & 0.3193278118 & 0.3585505672\\\\\n",
       "\tGO:0140296 &   5 &  2 &  0.13 & 0.3367193637 & 0.6654763709\\\\\n",
       "\tGO:0140297 &   2 &  0 &  0.05 & 0.0164904546 & 0.1280595738\\\\\n",
       "\tGO:0140326 &   7 &  0 &  0.18 & 0.0000000000 & 0.0005777785\\\\\n",
       "\tGO:0140359 &  62 &  0 &  1.58 & 0.0183252075 & 0.1696307166\\\\\n",
       "\tGO:0140375 &   3 &  0 &  0.08 & 0.0870685887 & 0.1580780689\\\\\n",
       "\tGO:0140575 &   2 &  0 &  0.05 & 0.0552055346 & 0.3059527308\\\\\n",
       "\tGO:0140662 & 157 &  1 &  4.01 & 0.0024376361 & 0.0118500324\\\\\n",
       "\tGO:0140677 & 120 &  2 &  3.07 & 0.2893521557 & 0.7094323280\\\\\n",
       "\tGO:0140682 &   3 &  1 &  0.08 & 0.0018584741 & 0.0734817493\\\\\n",
       "\tGO:0140776 &   2 &  1 &  0.05 & 0.0702013404 & 0.3697427139\\\\\n",
       "\tGO:0140938 &  13 &  2 &  0.33 & 0.2174332048 & 0.6306015645\\\\\n",
       "\tGO:0140939 &   3 &  0 &  0.08 & 0.0215829006 & 0.0563165346\\\\\n",
       "\tGO:1901338 &   1 &  0 &  0.03 & 0.1427240002 & 0.3759533099\\\\\n",
       "\tGO:1901567 &   6 &  0 &  0.15 & 0.8533688796 & 0.9170824138\\\\\n",
       "\tGO:1901618 &  18 &  0 &  0.46 & 0.9195212932 & 0.9712329061\\\\\n",
       "\tGO:1904047 &   1 &  0 &  0.03 & 0.0130362785 & 0.2278753084\\\\\n",
       "\tGO:1990380 &   4 &  0 &  0.10 & 0.0004004528 & 0.0197005351\\\\\n",
       "\tGO:1990817 &   3 &  0 &  0.08 & 0.1932469603 & 0.5464454101\\\\\n",
       "\tGO:1990837 &  45 &  1 &  1.15 & 0.2038545953 & 0.2105445093\\\\\n",
       "\\end{tabular}\n"
      ],
      "text/markdown": [
       "\n",
       "A data.frame: 627 × 5\n",
       "\n",
       "| <!--/--> | Annotated &lt;int&gt; | Significant &lt;int&gt; | Expected &lt;dbl&gt; | elim &lt;dbl&gt; | classic &lt;dbl&gt; |\n",
       "|---|---|---|---|---|---|\n",
       "| GO:0000026 |     1 |   0 |   0.03 | 7.877075e-02 | 2.746176e-01 |\n",
       "| GO:0000049 |    31 |   0 |   0.79 | 4.196254e-11 | 4.390865e-10 |\n",
       "| GO:0000062 |     6 |   0 |   0.15 | 8.533689e-01 | 9.170824e-01 |\n",
       "| GO:0000309 |     1 |   0 |   0.03 | 1.661239e-02 | 1.473767e-01 |\n",
       "| GO:0000774 |     2 |   0 |   0.05 | 8.532941e-02 | 4.072953e-01 |\n",
       "| GO:0000828 |     2 |   0 |   0.05 | 2.442491e-15 | 1.891448e-02 |\n",
       "| GO:0000829 |     2 |   0 |   0.05 | 2.442491e-15 | 1.891448e-02 |\n",
       "| GO:0000900 |     1 |   0 |   0.03 | 1.869389e-01 | 4.301740e-01 |\n",
       "| GO:0000976 |    42 |   0 |   1.07 | 1.755745e-01 | 1.878093e-01 |\n",
       "| GO:0000977 |    34 |   0 |   0.87 | 1.156959e-01 | 1.522962e-01 |\n",
       "| GO:0000978 |    26 |   0 |   0.66 | 1.120369e-02 | 1.399860e-02 |\n",
       "| GO:0000981 |   140 |   0 |   3.58 | 4.756745e-05 | 1.574098e-02 |\n",
       "| GO:0000987 |    27 |   0 |   0.69 | 1.739384e-02 | 2.535430e-02 |\n",
       "| GO:0001067 |    42 |   0 |   1.07 | 1.755745e-01 | 1.878093e-01 |\n",
       "| GO:0001091 |     1 |   0 |   0.03 | 7.672536e-02 | 2.764382e-01 |\n",
       "| GO:0001098 |     3 |   0 |   0.08 | 4.840302e-01 | 8.962346e-01 |\n",
       "| GO:0001099 |     3 |   0 |   0.08 | 4.840302e-01 | 8.962346e-01 |\n",
       "| GO:0001216 |     6 |   0 |   0.15 | 7.135070e-01 | 7.733079e-01 |\n",
       "| GO:0001217 |     3 |   0 |   0.08 | 1.882282e-01 | 4.028764e-01 |\n",
       "| GO:0001227 |     3 |   0 |   0.08 | 1.882282e-01 | 4.028764e-01 |\n",
       "| GO:0001228 |     6 |   0 |   0.15 | 7.135070e-01 | 7.733079e-01 |\n",
       "| GO:0001607 |     5 |   0 |   0.13 | 2.605660e-02 | 1.281696e-01 |\n",
       "| GO:0001614 |     7 |   0 |   0.18 | 6.358019e-01 | 7.820435e-01 |\n",
       "| GO:0001653 |   123 |   1 |   3.14 | 6.832215e-01 | 7.150668e-01 |\n",
       "| GO:0001671 |     5 |   0 |   0.13 | 3.739520e-01 | 7.067894e-01 |\n",
       "| GO:0001872 |     4 |   0 |   0.10 | 1.736788e-02 | 9.195759e-02 |\n",
       "| GO:0002020 |    13 |   0 |   0.33 | 3.966655e-02 | 7.247767e-02 |\n",
       "| GO:0002039 |     2 |   0 |   0.05 | 2.711351e-02 | 9.026138e-02 |\n",
       "| GO:0002094 |     2 |   0 |   0.05 | 1.516292e-03 | 3.857893e-02 |\n",
       "| GO:0003674 | 15560 | 233 | 397.54 | 0.000000e+00 | 7.104199e-07 |\n",
       "| ⋮ | ⋮ | ⋮ | ⋮ | ⋮ | ⋮ |\n",
       "| GO:0106018 |   3 |  0 |  0.08 | 0.0130394189 | 0.1115609531 |\n",
       "| GO:0106019 |   1 |  0 |  0.03 | 0.1342776794 | 0.3662769086 |\n",
       "| GO:0106073 |   2 |  0 |  0.05 | 0.0000546686 | 0.0373544564 |\n",
       "| GO:0106245 |   2 |  0 |  0.05 | 0.0191152662 | 0.0440349142 |\n",
       "| GO:0106388 |   1 |  0 |  0.03 | 0.0130362785 | 0.2278753084 |\n",
       "| GO:0120013 |   7 |  0 |  0.18 | 0.6732046206 | 0.9373854958 |\n",
       "| GO:0120227 |   6 |  0 |  0.15 | 0.8533688796 | 0.9170824138 |\n",
       "| GO:0140034 |   2 |  0 |  0.05 | 0.7008210724 | 0.7889978997 |\n",
       "| GO:0140102 |   8 |  0 |  0.20 | 0.0041239892 | 0.0190832045 |\n",
       "| GO:0140110 | 448 | 12 | 11.45 | 0.1383382826 | 0.1507248641 |\n",
       "| GO:0140223 |   7 |  0 |  0.18 | 0.3193278118 | 0.3585505672 |\n",
       "| GO:0140296 |   5 |  2 |  0.13 | 0.3367193637 | 0.6654763709 |\n",
       "| GO:0140297 |   2 |  0 |  0.05 | 0.0164904546 | 0.1280595738 |\n",
       "| GO:0140326 |   7 |  0 |  0.18 | 0.0000000000 | 0.0005777785 |\n",
       "| GO:0140359 |  62 |  0 |  1.58 | 0.0183252075 | 0.1696307166 |\n",
       "| GO:0140375 |   3 |  0 |  0.08 | 0.0870685887 | 0.1580780689 |\n",
       "| GO:0140575 |   2 |  0 |  0.05 | 0.0552055346 | 0.3059527308 |\n",
       "| GO:0140662 | 157 |  1 |  4.01 | 0.0024376361 | 0.0118500324 |\n",
       "| GO:0140677 | 120 |  2 |  3.07 | 0.2893521557 | 0.7094323280 |\n",
       "| GO:0140682 |   3 |  1 |  0.08 | 0.0018584741 | 0.0734817493 |\n",
       "| GO:0140776 |   2 |  1 |  0.05 | 0.0702013404 | 0.3697427139 |\n",
       "| GO:0140938 |  13 |  2 |  0.33 | 0.2174332048 | 0.6306015645 |\n",
       "| GO:0140939 |   3 |  0 |  0.08 | 0.0215829006 | 0.0563165346 |\n",
       "| GO:1901338 |   1 |  0 |  0.03 | 0.1427240002 | 0.3759533099 |\n",
       "| GO:1901567 |   6 |  0 |  0.15 | 0.8533688796 | 0.9170824138 |\n",
       "| GO:1901618 |  18 |  0 |  0.46 | 0.9195212932 | 0.9712329061 |\n",
       "| GO:1904047 |   1 |  0 |  0.03 | 0.0130362785 | 0.2278753084 |\n",
       "| GO:1990380 |   4 |  0 |  0.10 | 0.0004004528 | 0.0197005351 |\n",
       "| GO:1990817 |   3 |  0 |  0.08 | 0.1932469603 | 0.5464454101 |\n",
       "| GO:1990837 |  45 |  1 |  1.15 | 0.2038545953 | 0.2105445093 |\n",
       "\n"
      ],
      "text/plain": [
       "           Annotated Significant Expected elim         classic     \n",
       "GO:0000026     1       0           0.03   7.877075e-02 2.746176e-01\n",
       "GO:0000049    31       0           0.79   4.196254e-11 4.390865e-10\n",
       "GO:0000062     6       0           0.15   8.533689e-01 9.170824e-01\n",
       "GO:0000309     1       0           0.03   1.661239e-02 1.473767e-01\n",
       "GO:0000774     2       0           0.05   8.532941e-02 4.072953e-01\n",
       "GO:0000828     2       0           0.05   2.442491e-15 1.891448e-02\n",
       "GO:0000829     2       0           0.05   2.442491e-15 1.891448e-02\n",
       "GO:0000900     1       0           0.03   1.869389e-01 4.301740e-01\n",
       "GO:0000976    42       0           1.07   1.755745e-01 1.878093e-01\n",
       "GO:0000977    34       0           0.87   1.156959e-01 1.522962e-01\n",
       "GO:0000978    26       0           0.66   1.120369e-02 1.399860e-02\n",
       "GO:0000981   140       0           3.58   4.756745e-05 1.574098e-02\n",
       "GO:0000987    27       0           0.69   1.739384e-02 2.535430e-02\n",
       "GO:0001067    42       0           1.07   1.755745e-01 1.878093e-01\n",
       "GO:0001091     1       0           0.03   7.672536e-02 2.764382e-01\n",
       "GO:0001098     3       0           0.08   4.840302e-01 8.962346e-01\n",
       "GO:0001099     3       0           0.08   4.840302e-01 8.962346e-01\n",
       "GO:0001216     6       0           0.15   7.135070e-01 7.733079e-01\n",
       "GO:0001217     3       0           0.08   1.882282e-01 4.028764e-01\n",
       "GO:0001227     3       0           0.08   1.882282e-01 4.028764e-01\n",
       "GO:0001228     6       0           0.15   7.135070e-01 7.733079e-01\n",
       "GO:0001607     5       0           0.13   2.605660e-02 1.281696e-01\n",
       "GO:0001614     7       0           0.18   6.358019e-01 7.820435e-01\n",
       "GO:0001653   123       1           3.14   6.832215e-01 7.150668e-01\n",
       "GO:0001671     5       0           0.13   3.739520e-01 7.067894e-01\n",
       "GO:0001872     4       0           0.10   1.736788e-02 9.195759e-02\n",
       "GO:0002020    13       0           0.33   3.966655e-02 7.247767e-02\n",
       "GO:0002039     2       0           0.05   2.711351e-02 9.026138e-02\n",
       "GO:0002094     2       0           0.05   1.516292e-03 3.857893e-02\n",
       "GO:0003674 15560     233         397.54   0.000000e+00 7.104199e-07\n",
       "⋮          ⋮         ⋮           ⋮        ⋮            ⋮           \n",
       "GO:0106018   3        0           0.08    0.0130394189 0.1115609531\n",
       "GO:0106019   1        0           0.03    0.1342776794 0.3662769086\n",
       "GO:0106073   2        0           0.05    0.0000546686 0.0373544564\n",
       "GO:0106245   2        0           0.05    0.0191152662 0.0440349142\n",
       "GO:0106388   1        0           0.03    0.0130362785 0.2278753084\n",
       "GO:0120013   7        0           0.18    0.6732046206 0.9373854958\n",
       "GO:0120227   6        0           0.15    0.8533688796 0.9170824138\n",
       "GO:0140034   2        0           0.05    0.7008210724 0.7889978997\n",
       "GO:0140102   8        0           0.20    0.0041239892 0.0190832045\n",
       "GO:0140110 448       12          11.45    0.1383382826 0.1507248641\n",
       "GO:0140223   7        0           0.18    0.3193278118 0.3585505672\n",
       "GO:0140296   5        2           0.13    0.3367193637 0.6654763709\n",
       "GO:0140297   2        0           0.05    0.0164904546 0.1280595738\n",
       "GO:0140326   7        0           0.18    0.0000000000 0.0005777785\n",
       "GO:0140359  62        0           1.58    0.0183252075 0.1696307166\n",
       "GO:0140375   3        0           0.08    0.0870685887 0.1580780689\n",
       "GO:0140575   2        0           0.05    0.0552055346 0.3059527308\n",
       "GO:0140662 157        1           4.01    0.0024376361 0.0118500324\n",
       "GO:0140677 120        2           3.07    0.2893521557 0.7094323280\n",
       "GO:0140682   3        1           0.08    0.0018584741 0.0734817493\n",
       "GO:0140776   2        1           0.05    0.0702013404 0.3697427139\n",
       "GO:0140938  13        2           0.33    0.2174332048 0.6306015645\n",
       "GO:0140939   3        0           0.08    0.0215829006 0.0563165346\n",
       "GO:1901338   1        0           0.03    0.1427240002 0.3759533099\n",
       "GO:1901567   6        0           0.15    0.8533688796 0.9170824138\n",
       "GO:1901618  18        0           0.46    0.9195212932 0.9712329061\n",
       "GO:1904047   1        0           0.03    0.0130362785 0.2278753084\n",
       "GO:1990380   4        0           0.10    0.0004004528 0.0197005351\n",
       "GO:1990817   3        0           0.08    0.1932469603 0.5464454101\n",
       "GO:1990837  45        1           1.15    0.2038545953 0.2105445093"
      ]
     },
     "metadata": {},
     "output_type": "display_data"
    }
   ],
   "source": [
    "sel.go <- names(pValue.classic)[pValue.elim < pValue.classic]\n",
    "cbind(termStat(GOdata, sel.go), elim = pValue.elim[sel.go], classic = pValue.classic[sel.go])"
   ]
  },
  {
   "cell_type": "markdown",
   "id": "d3bfaf29-81a7-4a35-9771-d2052e741f29",
   "metadata": {},
   "source": [
    "\"These GO terms are rather general (having many annotated genes) and their p-values are not significant at the 0.05 level. Therefore these GO terms would not appear in the list of top significant terms. More significant GO terms are less likely to be influenced by this non monotonic behavior.\""
   ]
  },
  {
   "cell_type": "code",
   "execution_count": 46,
   "id": "452d5048-0713-48f2-91dd-67e631ec632e",
   "metadata": {},
   "outputs": [
    {
     "ename": "ERROR",
     "evalue": "Error in if ((n <- as.integer(n[1L])) > 0) {: missing value where TRUE/FALSE needed\n",
     "output_type": "error",
     "traceback": [
      "Error in if ((n <- as.integer(n[1L])) > 0) {: missing value where TRUE/FALSE needed\nTraceback:\n",
      "1. showSigOfNodes(GOdata, score(resultKS.elim), firstSigNodes = 5, \n .     useInfo = \"all\")",
      "2. plotFunction(dag, sigNodes = sigNodes, genNodes = names(sigTerms), \n .     wantedNodes = wantedNodes, showEdges = showEdges, useFullNames = useFullNames, \n .     oldSigNodes = oldSigNodes, nodeInfo = nodeInfo)",
      "3. heat.colors(mm)"
     ]
    }
   ],
   "source": [
    "showSigOfNodes(GOdata, score(resultKS.elim), firstSigNodes = 5, useInfo = 'all')"
   ]
  },
  {
   "cell_type": "code",
   "execution_count": 52,
   "id": "c2f62419-90b1-4423-ae1d-f13ddb8dfe00",
   "metadata": {},
   "outputs": [
    {
     "data": {
      "text/html": [
       "596"
      ],
      "text/latex": [
       "596"
      ],
      "text/markdown": [
       "596"
      ],
      "text/plain": [
       "[1] 596"
      ]
     },
     "metadata": {},
     "output_type": "display_data"
    }
   ],
   "source": [
    "length(sigGenes(GOdata))"
   ]
  },
  {
   "cell_type": "code",
   "execution_count": 53,
   "id": "a820ca7b-f802-48d8-9089-b7b9a14462f7",
   "metadata": {},
   "outputs": [
    {
     "data": {
      "text/plain": [
       "A graphNEL graph with directed edges\n",
       "Number of Nodes = 1732 \n",
       "Number of Edges = 2265 "
      ]
     },
     "metadata": {},
     "output_type": "display_data"
    }
   ],
   "source": [
    "graph(GOdata)"
   ]
  },
  {
   "cell_type": "markdown",
   "id": "299c5f57-6510-478f-a300-4940f433f98f",
   "metadata": {},
   "source": [
    "performing the test for GO enrichment"
   ]
  },
  {
   "cell_type": "code",
   "execution_count": 54,
   "id": "71fd107c-ac1f-4f04-a9cd-f5e306b7b978",
   "metadata": {},
   "outputs": [
    {
     "name": "stderr",
     "output_type": "stream",
     "text": [
      "\n",
      "\t\t\t -- Classic Algorithm -- \n",
      "\n",
      "\t\t the algorithm is scoring 343 nontrivial nodes\n",
      "\t\t parameters: \n",
      "\t\t\t test statistic: Fisher test\n",
      "\n"
     ]
    }
   ],
   "source": [
    "test.stat <- new(\"classicCount\", testStatistic = GOFisherTest, name = \"Fisher test\")\n",
    "resultFisher <- getSigGroups(GOdata, test.stat)"
   ]
  },
  {
   "cell_type": "code",
   "execution_count": 55,
   "id": "bc6cf5a0-1639-44c7-ad7d-4a018f5394e8",
   "metadata": {},
   "outputs": [
    {
     "data": {
      "text/plain": [
       "\n",
       "Description:  Object modified on: 19 Jan \n",
       "Ontology: MF \n",
       "'classic' algorithm with the 'Fisher test' test\n",
       "1732 GO terms scored: 12 terms with p < 0.01\n",
       "Annotation data:\n",
       "    Annotated genes: 23328 \n",
       "    Significant genes: 596 \n",
       "    Min. no. of genes annotated to a GO: 1 \n",
       "    Nontrivial nodes: 343 "
      ]
     },
     "metadata": {},
     "output_type": "display_data"
    }
   ],
   "source": [
    "resultFisher"
   ]
  },
  {
   "cell_type": "code",
   "execution_count": 57,
   "id": "fdf11ea0-3cfa-44d8-9669-b772655d3883",
   "metadata": {},
   "outputs": [
    {
     "name": "stderr",
     "output_type": "stream",
     "text": [
      "\n",
      "\t\t\t -- Classic Algorithm -- \n",
      "\n",
      "\t\t the algorithm is scoring 343 nontrivial nodes\n",
      "\t\t parameters: \n",
      "\t\t\t test statistic: fisher\n",
      "\n"
     ]
    },
    {
     "data": {
      "text/plain": [
       "\n",
       "Description:  Object modified on: 19 Jan \n",
       "Ontology: MF \n",
       "'classic' algorithm with the 'fisher' test\n",
       "1732 GO terms scored: 12 terms with p < 0.01\n",
       "Annotation data:\n",
       "    Annotated genes: 23328 \n",
       "    Significant genes: 596 \n",
       "    Min. no. of genes annotated to a GO: 1 \n",
       "    Nontrivial nodes: 343 "
      ]
     },
     "metadata": {},
     "output_type": "display_data"
    }
   ],
   "source": [
    "# classical enrichment analysis using Fisher's exact test\n",
    "resultFis <- runTest(GOdata, algorithm = \"classic\", statistic = \"fisher\")\n",
    "resultFis"
   ]
  },
  {
   "cell_type": "markdown",
   "id": "0d9d197f-a557-47f9-80ed-38893c5eb3bc",
   "metadata": {},
   "source": [
    "visualizing"
   ]
  },
  {
   "cell_type": "code",
   "execution_count": 58,
   "id": "d4e1b0c4-4ea1-4a78-b2dd-31ff6e6bc81e",
   "metadata": {},
   "outputs": [
    {
     "data": {
      "image/png": "[encoded data removed]",
      "text/plain": [
       "Plot with title “Histogram of pvalFis”"
      ]
     },
     "metadata": {
      "image/png": {
       "height": 420,
       "width": 420
      }
     },
     "output_type": "display_data"
    }
   ],
   "source": [
    "pvalFis <- score(resultFis)\n",
    "hist(pvalFis, 50, xlab='p-values')"
   ]
  },
  {
   "cell_type": "code",
   "execution_count": 60,
   "id": "83bd2ac0-9316-4cdc-9945-a4a2160b17ab",
   "metadata": {},
   "outputs": [
    {
     "data": {
      "text/html": [
       "<table class=\"dataframe\">\n",
       "<caption>A data.frame: 6 × 9</caption>\n",
       "<thead>\n",
       "\t<tr><th></th><th scope=col>GO.ID</th><th scope=col>Term</th><th scope=col>Annotated</th><th scope=col>Significant</th><th scope=col>Expected</th><th scope=col>Rank in classicFisher</th><th scope=col>classicFisher</th><th scope=col>classicKS</th><th scope=col>elimKS</th></tr>\n",
       "\t<tr><th></th><th scope=col>&lt;chr&gt;</th><th scope=col>&lt;chr&gt;</th><th scope=col>&lt;int&gt;</th><th scope=col>&lt;int&gt;</th><th scope=col>&lt;dbl&gt;</th><th scope=col>&lt;int&gt;</th><th scope=col>&lt;chr&gt;</th><th scope=col>&lt;chr&gt;</th><th scope=col>&lt;chr&gt;</th></tr>\n",
       "</thead>\n",
       "<tbody>\n",
       "\t<tr><th scope=row>1</th><td>GO:0000166</td><td><span style=white-space:pre-wrap>nucleotide binding         </span></td><td> 2141</td><td> 60</td><td> 54.70</td><td>149</td><td>0.24207</td><td>&lt; 1e-30</td><td>&lt;1e-30</td></tr>\n",
       "\t<tr><th scope=row>2</th><td>GO:0003674</td><td><span style=white-space:pre-wrap>molecular_function         </span></td><td>15560</td><td>233</td><td>397.54</td><td>343</td><td>1.00000</td><td>7.1e-07</td><td>&lt;1e-30</td></tr>\n",
       "\t<tr><th scope=row>3</th><td>GO:0003678</td><td><span style=white-space:pre-wrap>DNA helicase activity      </span></td><td><span style=white-space:pre-wrap>   54</span></td><td><span style=white-space:pre-wrap>  2</span></td><td><span style=white-space:pre-wrap>  1.38</span></td><td>183</td><td>0.40296</td><td>&lt; 1e-30</td><td>&lt;1e-30</td></tr>\n",
       "\t<tr><th scope=row>4</th><td>GO:0003774</td><td>cytoskeletal motor activity</td><td><span style=white-space:pre-wrap>  107</span></td><td> 11</td><td><span style=white-space:pre-wrap>  2.73</span></td><td><span style=white-space:pre-wrap>  2</span></td><td>9.3e-05</td><td>&lt; 1e-30</td><td>&lt;1e-30</td></tr>\n",
       "\t<tr><th scope=row>5</th><td>GO:0003777</td><td>microtubule motor activity </td><td><span style=white-space:pre-wrap>   73</span></td><td><span style=white-space:pre-wrap>  8</span></td><td><span style=white-space:pre-wrap>  1.87</span></td><td><span style=white-space:pre-wrap>  3</span></td><td>0.00054</td><td>1.1e-16</td><td>&lt;1e-30</td></tr>\n",
       "\t<tr><th scope=row>6</th><td>GO:0003824</td><td><span style=white-space:pre-wrap>catalytic activity         </span></td><td> 6378</td><td>121</td><td>162.95</td><td>327</td><td>0.99998</td><td>&lt; 1e-30</td><td>&lt;1e-30</td></tr>\n",
       "</tbody>\n",
       "</table>\n"
      ],
      "text/latex": [
       "A data.frame: 6 × 9\n",
       "\\begin{tabular}{r|lllllllll}\n",
       "  & GO.ID & Term & Annotated & Significant & Expected & Rank in classicFisher & classicFisher & classicKS & elimKS\\\\\n",
       "  & <chr> & <chr> & <int> & <int> & <dbl> & <int> & <chr> & <chr> & <chr>\\\\\n",
       "\\hline\n",
       "\t1 & GO:0000166 & nucleotide binding          &  2141 &  60 &  54.70 & 149 & 0.24207 & < 1e-30 & <1e-30\\\\\n",
       "\t2 & GO:0003674 & molecular\\_function          & 15560 & 233 & 397.54 & 343 & 1.00000 & 7.1e-07 & <1e-30\\\\\n",
       "\t3 & GO:0003678 & DNA helicase activity       &    54 &   2 &   1.38 & 183 & 0.40296 & < 1e-30 & <1e-30\\\\\n",
       "\t4 & GO:0003774 & cytoskeletal motor activity &   107 &  11 &   2.73 &   2 & 9.3e-05 & < 1e-30 & <1e-30\\\\\n",
       "\t5 & GO:0003777 & microtubule motor activity  &    73 &   8 &   1.87 &   3 & 0.00054 & 1.1e-16 & <1e-30\\\\\n",
       "\t6 & GO:0003824 & catalytic activity          &  6378 & 121 & 162.95 & 327 & 0.99998 & < 1e-30 & <1e-30\\\\\n",
       "\\end{tabular}\n"
      ],
      "text/markdown": [
       "\n",
       "A data.frame: 6 × 9\n",
       "\n",
       "| <!--/--> | GO.ID &lt;chr&gt; | Term &lt;chr&gt; | Annotated &lt;int&gt; | Significant &lt;int&gt; | Expected &lt;dbl&gt; | Rank in classicFisher &lt;int&gt; | classicFisher &lt;chr&gt; | classicKS &lt;chr&gt; | elimKS &lt;chr&gt; |\n",
       "|---|---|---|---|---|---|---|---|---|---|\n",
       "| 1 | GO:0000166 | nucleotide binding          |  2141 |  60 |  54.70 | 149 | 0.24207 | &lt; 1e-30 | &lt;1e-30 |\n",
       "| 2 | GO:0003674 | molecular_function          | 15560 | 233 | 397.54 | 343 | 1.00000 | 7.1e-07 | &lt;1e-30 |\n",
       "| 3 | GO:0003678 | DNA helicase activity       |    54 |   2 |   1.38 | 183 | 0.40296 | &lt; 1e-30 | &lt;1e-30 |\n",
       "| 4 | GO:0003774 | cytoskeletal motor activity |   107 |  11 |   2.73 |   2 | 9.3e-05 | &lt; 1e-30 | &lt;1e-30 |\n",
       "| 5 | GO:0003777 | microtubule motor activity  |    73 |   8 |   1.87 |   3 | 0.00054 | 1.1e-16 | &lt;1e-30 |\n",
       "| 6 | GO:0003824 | catalytic activity          |  6378 | 121 | 162.95 | 327 | 0.99998 | &lt; 1e-30 | &lt;1e-30 |\n",
       "\n"
      ],
      "text/plain": [
       "  GO.ID      Term                        Annotated Significant Expected\n",
       "1 GO:0000166 nucleotide binding           2141      60          54.70  \n",
       "2 GO:0003674 molecular_function          15560     233         397.54  \n",
       "3 GO:0003678 DNA helicase activity          54       2           1.38  \n",
       "4 GO:0003774 cytoskeletal motor activity   107      11           2.73  \n",
       "5 GO:0003777 microtubule motor activity     73       8           1.87  \n",
       "6 GO:0003824 catalytic activity           6378     121         162.95  \n",
       "  Rank in classicFisher classicFisher classicKS elimKS\n",
       "1 149                   0.24207       < 1e-30   <1e-30\n",
       "2 343                   1.00000       7.1e-07   <1e-30\n",
       "3 183                   0.40296       < 1e-30   <1e-30\n",
       "4   2                   9.3e-05       < 1e-30   <1e-30\n",
       "5   3                   0.00054       1.1e-16   <1e-30\n",
       "6 327                   0.99998       < 1e-30   <1e-30"
      ]
     },
     "metadata": {},
     "output_type": "display_data"
    }
   ],
   "source": [
    "head(allRes)"
   ]
  },
  {
   "cell_type": "code",
   "execution_count": 65,
   "id": "df8db4f6-cee7-47f3-9776-a1e5587b669a",
   "metadata": {},
   "outputs": [
    {
     "name": "stderr",
     "output_type": "stream",
     "text": [
      "'getOption(\"repos\")' replaces Bioconductor standard repositories, see\n",
      "'help(\"repositories\", package = \"BiocManager\")' for details.\n",
      "Replacement repositories:\n",
      "    CRAN: https://cran.r-project.org\n",
      "\n",
      "Bioconductor version 3.18 (BiocManager 1.30.22), R 4.3.2 (2023-10-31)\n",
      "\n",
      "Installing package(s) 'affyLib'\n",
      "\n",
      "Warning message:\n",
      "“package ‘affyLib’ is not available for Bioconductor version '3.18'\n",
      "\n",
      "A version of this package for your version of R might be available elsewhere,\n",
      "see the ideas at\n",
      "https://cran.r-project.org/doc/manuals/r-patched/R-admin.html#Installing-packages”\n",
      "Old packages: 'BH', 'brew', 'brio', 'bslib', 'curl', 'data.table', 'DBI',\n",
      "  'desc', 'digest', 'GenomicAlignments', 'ggfun', 'ggrepel', 'glue',\n",
      "  'GOSemSim', 'graphlayouts', 'haven', 'htmlwidgets', 'httpuv', 'MASS',\n",
      "  'Matrix', 'mgcv', 'nlme', 'patchwork', 'pbdZMQ', 'pkgbuild', 'pkgload', 'ps',\n",
      "  'ragg', 'Rcpp', 'RcppArmadillo', 'RCurl', 'readr', 'reprex', 'Rhtslib',\n",
      "  'rlang', 'RSQLite', 'scales', 'shadowtext', 'shiny', 'SparseArray',\n",
      "  'testthat', 'timechange', 'uuid', 'vroom', 'withr', 'xml2', 'yulab.utils'\n",
      "\n"
     ]
    },
    {
     "ename": "ERROR",
     "evalue": "Error in library(affyLib): there is no package called ‘affyLib’\n",
     "output_type": "error",
     "traceback": [
      "Error in library(affyLib): there is no package called ‘affyLib’\nTraceback:\n",
      "1. library(affyLib)"
     ]
    }
   ],
   "source": [
    "BiocManager::install(\"affyLib\")\n",
    "library(affyLib)"
   ]
  },
  {
   "cell_type": "code",
   "execution_count": 66,
   "id": "924880fc-07cc-4bd1-bb3c-d0e4bd817b4e",
   "metadata": {},
   "outputs": [
    {
     "ename": "ERROR",
     "evalue": "Error in eval(expr, envir, enclos): object 'affyLib' not found\n",
     "output_type": "error",
     "traceback": [
      "Error in eval(expr, envir, enclos): object 'affyLib' not found\nTraceback:\n",
      "1. printGenes(GOdata, whichTerms = goID, chip = affyLib, numChar = 40)",
      "2. printGenes(GOdata, whichTerms = goID, chip = affyLib, numChar = 40)",
      "3. .local(object, whichTerms, ...)",
      "4. sub(\".db$\", \"\", chip)",
      "5. is.factor(x)"
     ]
    }
   ],
   "source": [
    "goID <- allRes[10, \"GO.ID\"]\n",
    "gt <- printGenes(GOdata, whichTerms = goID, chip = affyLib, numChar = 40)"
   ]
  },
  {
   "cell_type": "code",
   "execution_count": 67,
   "id": "552c5291-ec3d-451c-9afc-7cc0c0f848eb",
   "metadata": {},
   "outputs": [
    {
     "data": {
      "text/plain": [
       "$dag\n",
       "A graphNEL graph with directed edges\n",
       "Number of Nodes = 14 \n",
       "Number of Edges = 14 \n",
       "\n",
       "$complete.dag\n",
       "[1] \"A graph with 14 nodes.\"\n"
      ]
     },
     "metadata": {},
     "output_type": "display_data"
    },
    {
     "data": {
      "image/png": "[encoded data removed]",
      "text/plain": [
       "plot without title"
      ]
     },
     "metadata": {
      "image/png": {
       "height": 420,
       "width": 420
      }
     },
     "output_type": "display_data"
    }
   ],
   "source": [
    "showSigOfNodes(GOdata, score(resultFis), firstSigNodes = 5, useInfo = 'all')"
   ]
  },
  {
   "cell_type": "markdown",
   "id": "4b41708d-5f82-492e-af0a-3a4319613326",
   "metadata": {},
   "source": [
    "- significant nodes are represented as rectangles"
   ]
  },
  {
   "cell_type": "markdown",
   "id": "59587b63-fcd4-420c-9016-2fac89252a66",
   "metadata": {},
   "source": [
    "looking at just **biological processes** ontology"
   ]
  },
  {
   "cell_type": "code",
   "execution_count": 68,
   "id": "6cc2fc23-56b9-4734-8725-ca65045fa4be",
   "metadata": {},
   "outputs": [
    {
     "name": "stderr",
     "output_type": "stream",
     "text": [
      "\n",
      "Building most specific GOs .....\n",
      "\n",
      "\t( 1150 GO terms found. )\n",
      "\n",
      "\n",
      "Build GO DAG topology ..........\n",
      "\n",
      "\t( 2651 GO terms and 5402 relations. )\n",
      "\n",
      "\n",
      "Annotating nodes ...............\n",
      "\n",
      "\t( 7977 genes annotated to the GO terms. )\n",
      "\n"
     ]
    }
   ],
   "source": [
    "GOdata <- new(\"topGOdata\", ontology = \"BP\", allGenes = geneList,annot = annFUN.gene2GO, gene2GO = geneID2GO)"
   ]
  },
  {
   "cell_type": "markdown",
   "id": "d88045a5-e885-4c9c-8966-c83664623233",
   "metadata": {},
   "source": [
    "### GO_MWU pipeline/analysis\n",
    "following pipeline from https://github.com/epigeneticstoocean/AE17_Cvirginica_MolecularResponse/tree/2022_erratum\n",
    "https://datadryad.org/stash/dataset/doi:10.5061/dryad.8cz8w9gnk\n"
   ]
  },
  {
   "cell_type": "markdown",
   "id": "7f7f40c6-322d-4388-b3b3-804350f465ab",
   "metadata": {},
   "source": [
    "#### first - need table of GO annotations for my sequences \n",
    "#### obtained from https://www.uniprot.org/taxonomy/6565\n",
    "\"two-column (gene id - GO terms), tab-delimited, one line per gene, multiple GO terms separated by semicolon. If you have multiple lines per gene, use nrify_GOtable.pl to merge them. Do NOT include genes without GO annotations.\""
   ]
  },
  {
   "cell_type": "code",
   "execution_count": 20,
   "id": "fa4410bf-88a9-4d13-8321-e7311bc7a765",
   "metadata": {},
   "outputs": [
    {
     "data": {
      "text/html": [
       "<table class=\"dataframe\">\n",
       "<caption>A data.frame: 6 × 31</caption>\n",
       "<thead>\n",
       "\t<tr><th></th><th scope=col>V1</th><th scope=col>V2</th><th scope=col>V3</th><th scope=col>V4</th><th scope=col>V5</th><th scope=col>V6</th><th scope=col>V7</th><th scope=col>V8</th><th scope=col>V9</th><th scope=col>V10</th><th scope=col>⋯</th><th scope=col>V22</th><th scope=col>V23</th><th scope=col>V24</th><th scope=col>V25</th><th scope=col>V26</th><th scope=col>V27</th><th scope=col>V28</th><th scope=col>V29</th><th scope=col>V30</th><th scope=col>V31</th></tr>\n",
       "\t<tr><th></th><th scope=col>&lt;chr&gt;</th><th scope=col>&lt;int&gt;</th><th scope=col>&lt;int&gt;</th><th scope=col>&lt;int&gt;</th><th scope=col>&lt;int&gt;</th><th scope=col>&lt;int&gt;</th><th scope=col>&lt;int&gt;</th><th scope=col>&lt;int&gt;</th><th scope=col>&lt;int&gt;</th><th scope=col>&lt;int&gt;</th><th scope=col>⋯</th><th scope=col>&lt;int&gt;</th><th scope=col>&lt;int&gt;</th><th scope=col>&lt;int&gt;</th><th scope=col>&lt;int&gt;</th><th scope=col>&lt;int&gt;</th><th scope=col>&lt;int&gt;</th><th scope=col>&lt;int&gt;</th><th scope=col>&lt;int&gt;</th><th scope=col>&lt;int&gt;</th><th scope=col>&lt;int&gt;</th></tr>\n",
       "</thead>\n",
       "<tbody>\n",
       "\t<tr><th scope=row>1</th><td>ATP6        </td><td>0</td><td> 0</td><td> 0</td><td> 0</td><td> 0</td><td> 0</td><td>0</td><td> 0</td><td> 0</td><td>⋯</td><td>0</td><td>0</td><td>0</td><td> 0</td><td> 0</td><td> 0</td><td>0</td><td>0</td><td>0</td><td>0</td></tr>\n",
       "\t<tr><th scope=row>2</th><td>COX1        </td><td>0</td><td> 0</td><td> 0</td><td> 0</td><td> 0</td><td> 0</td><td>0</td><td> 0</td><td> 0</td><td>⋯</td><td>0</td><td>0</td><td>0</td><td> 0</td><td> 0</td><td> 0</td><td>0</td><td>0</td><td>0</td><td>0</td></tr>\n",
       "\t<tr><th scope=row>3</th><td>COX2        </td><td>0</td><td> 0</td><td> 0</td><td> 0</td><td> 0</td><td> 0</td><td>0</td><td> 0</td><td> 0</td><td>⋯</td><td>0</td><td>0</td><td>0</td><td> 0</td><td> 0</td><td> 0</td><td>0</td><td>0</td><td>0</td><td>0</td></tr>\n",
       "\t<tr><th scope=row>4</th><td>COX3        </td><td>0</td><td> 0</td><td> 0</td><td> 0</td><td> 0</td><td> 0</td><td>0</td><td> 0</td><td> 0</td><td>⋯</td><td>0</td><td>0</td><td>0</td><td> 0</td><td> 0</td><td> 0</td><td>0</td><td>0</td><td>0</td><td>0</td></tr>\n",
       "\t<tr><th scope=row>5</th><td>CYTB        </td><td>0</td><td> 0</td><td> 0</td><td> 0</td><td> 0</td><td> 0</td><td>0</td><td> 0</td><td> 0</td><td>⋯</td><td>0</td><td>0</td><td>0</td><td> 0</td><td> 0</td><td> 0</td><td>0</td><td>0</td><td>0</td><td>0</td></tr>\n",
       "\t<tr><th scope=row>6</th><td>LOC111099029</td><td>7</td><td>13</td><td>15</td><td>11</td><td>16</td><td>12</td><td>9</td><td>15</td><td>11</td><td>⋯</td><td>9</td><td>6</td><td>1</td><td>30</td><td>13</td><td>15</td><td>0</td><td>0</td><td>4</td><td>0</td></tr>\n",
       "</tbody>\n",
       "</table>\n"
      ],
      "text/latex": [
       "A data.frame: 6 × 31\n",
       "\\begin{tabular}{r|lllllllllllllllllllll}\n",
       "  & V1 & V2 & V3 & V4 & V5 & V6 & V7 & V8 & V9 & V10 & ⋯ & V22 & V23 & V24 & V25 & V26 & V27 & V28 & V29 & V30 & V31\\\\\n",
       "  & <chr> & <int> & <int> & <int> & <int> & <int> & <int> & <int> & <int> & <int> & ⋯ & <int> & <int> & <int> & <int> & <int> & <int> & <int> & <int> & <int> & <int>\\\\\n",
       "\\hline\n",
       "\t1 & ATP6         & 0 &  0 &  0 &  0 &  0 &  0 & 0 &  0 &  0 & ⋯ & 0 & 0 & 0 &  0 &  0 &  0 & 0 & 0 & 0 & 0\\\\\n",
       "\t2 & COX1         & 0 &  0 &  0 &  0 &  0 &  0 & 0 &  0 &  0 & ⋯ & 0 & 0 & 0 &  0 &  0 &  0 & 0 & 0 & 0 & 0\\\\\n",
       "\t3 & COX2         & 0 &  0 &  0 &  0 &  0 &  0 & 0 &  0 &  0 & ⋯ & 0 & 0 & 0 &  0 &  0 &  0 & 0 & 0 & 0 & 0\\\\\n",
       "\t4 & COX3         & 0 &  0 &  0 &  0 &  0 &  0 & 0 &  0 &  0 & ⋯ & 0 & 0 & 0 &  0 &  0 &  0 & 0 & 0 & 0 & 0\\\\\n",
       "\t5 & CYTB         & 0 &  0 &  0 &  0 &  0 &  0 & 0 &  0 &  0 & ⋯ & 0 & 0 & 0 &  0 &  0 &  0 & 0 & 0 & 0 & 0\\\\\n",
       "\t6 & LOC111099029 & 7 & 13 & 15 & 11 & 16 & 12 & 9 & 15 & 11 & ⋯ & 9 & 6 & 1 & 30 & 13 & 15 & 0 & 0 & 4 & 0\\\\\n",
       "\\end{tabular}\n"
      ],
      "text/markdown": [
       "\n",
       "A data.frame: 6 × 31\n",
       "\n",
       "| <!--/--> | V1 &lt;chr&gt; | V2 &lt;int&gt; | V3 &lt;int&gt; | V4 &lt;int&gt; | V5 &lt;int&gt; | V6 &lt;int&gt; | V7 &lt;int&gt; | V8 &lt;int&gt; | V9 &lt;int&gt; | V10 &lt;int&gt; | ⋯ ⋯ | V22 &lt;int&gt; | V23 &lt;int&gt; | V24 &lt;int&gt; | V25 &lt;int&gt; | V26 &lt;int&gt; | V27 &lt;int&gt; | V28 &lt;int&gt; | V29 &lt;int&gt; | V30 &lt;int&gt; | V31 &lt;int&gt; |\n",
       "|---|---|---|---|---|---|---|---|---|---|---|---|---|---|---|---|---|---|---|---|---|---|\n",
       "| 1 | ATP6         | 0 |  0 |  0 |  0 |  0 |  0 | 0 |  0 |  0 | ⋯ | 0 | 0 | 0 |  0 |  0 |  0 | 0 | 0 | 0 | 0 |\n",
       "| 2 | COX1         | 0 |  0 |  0 |  0 |  0 |  0 | 0 |  0 |  0 | ⋯ | 0 | 0 | 0 |  0 |  0 |  0 | 0 | 0 | 0 | 0 |\n",
       "| 3 | COX2         | 0 |  0 |  0 |  0 |  0 |  0 | 0 |  0 |  0 | ⋯ | 0 | 0 | 0 |  0 |  0 |  0 | 0 | 0 | 0 | 0 |\n",
       "| 4 | COX3         | 0 |  0 |  0 |  0 |  0 |  0 | 0 |  0 |  0 | ⋯ | 0 | 0 | 0 |  0 |  0 |  0 | 0 | 0 | 0 | 0 |\n",
       "| 5 | CYTB         | 0 |  0 |  0 |  0 |  0 |  0 | 0 |  0 |  0 | ⋯ | 0 | 0 | 0 |  0 |  0 |  0 | 0 | 0 | 0 | 0 |\n",
       "| 6 | LOC111099029 | 7 | 13 | 15 | 11 | 16 | 12 | 9 | 15 | 11 | ⋯ | 9 | 6 | 1 | 30 | 13 | 15 | 0 | 0 | 4 | 0 |\n",
       "\n"
      ],
      "text/plain": [
       "  V1           V2 V3 V4 V5 V6 V7 V8 V9 V10 ⋯ V22 V23 V24 V25 V26 V27 V28 V29\n",
       "1 ATP6         0   0  0  0  0  0 0   0  0  ⋯ 0   0   0    0   0   0  0   0  \n",
       "2 COX1         0   0  0  0  0  0 0   0  0  ⋯ 0   0   0    0   0   0  0   0  \n",
       "3 COX2         0   0  0  0  0  0 0   0  0  ⋯ 0   0   0    0   0   0  0   0  \n",
       "4 COX3         0   0  0  0  0  0 0   0  0  ⋯ 0   0   0    0   0   0  0   0  \n",
       "5 CYTB         0   0  0  0  0  0 0   0  0  ⋯ 0   0   0    0   0   0  0   0  \n",
       "6 LOC111099029 7  13 15 11 16 12 9  15 11  ⋯ 9   6   1   30  13  15  0   0  \n",
       "  V30 V31\n",
       "1 0   0  \n",
       "2 0   0  \n",
       "3 0   0  \n",
       "4 0   0  \n",
       "5 0   0  \n",
       "6 4   0  "
      ]
     },
     "metadata": {},
     "output_type": "display_data"
    },
    {
     "ename": "ERROR",
     "evalue": "Error in (function (classes, fdef, mtable) : unable to find an inherited method for function ‘select’ for signature ‘\"data.frame\"’\n",
     "output_type": "error",
     "traceback": [
      "Error in (function (classes, fdef, mtable) : unable to find an inherited method for function ‘select’ for signature ‘\"data.frame\"’\nTraceback:\n",
      "1. select(all_genes_counts, V1)",
      "2. (function (classes, fdef, mtable) \n . {\n .     methods <- .findInheritedMethods(classes, fdef, mtable)\n .     if (length(methods) == 1L) \n .         return(methods[[1L]])\n .     else if (length(methods) == 0L) {\n .         cnames <- paste0(\"\\\"\", vapply(classes, as.character, \n .             \"\"), \"\\\"\", collapse = \", \")\n .         stop(gettextf(\"unable to find an inherited method for function %s for signature %s\", \n .             sQuote(fdef@generic), sQuote(cnames)), domain = NA)\n .     }\n .     else stop(\"Internal error in finding inherited methods; didn't return a unique method\", \n .         domain = NA)\n . })(list(\"data.frame\"), new(\"standardGeneric\", .Data = function (x, \n .     keys, columns, keytype, ...) \n . standardGeneric(\"select\"), generic = structure(\"select\", package = \"AnnotationDbi\"), \n .     package = \"AnnotationDbi\", group = list(), valueClass = character(0), \n .     signature = \"x\", default = NULL, skeleton = (function (x, \n .         keys, columns, keytype, ...) \n .     stop(gettextf(\"invalid call in method dispatch to '%s' (no default method)\", \n .         \"select\"), domain = NA))(x, keys, columns, keytype, ...)), \n .     <environment>)",
      "3. stop(gettextf(\"unable to find an inherited method for function %s for signature %s\", \n .     sQuote(fdef@generic), sQuote(cnames)), domain = NA)"
     ]
    }
   ],
   "source": [
    "# getting list of *all* genes in the counts matrix\n",
    "all_genes_counts = read.csv('/project/pi_sarah_gignouxwolfsohn_uml_edu/julia/CE_MethylRAD_analysis_2018/CE_methyl_analysis/counts_and_meta/counts_gene.txt', sep='\\t', header = FALSE)\n",
    "head(all_genes_counts)\n",
    "\n",
    "all_genes <- select(all_genes_counts, V1)\n",
    "write.csv(all_genes, '/project/pi_sarah_gignouxwolfsohn_uml_edu/julia/GO_analysis/all_gene_ID.csv')"
   ]
  },
  {
   "cell_type": "markdown",
   "id": "8cd354b1-6dc9-46e6-93a3-cde4279989c4",
   "metadata": {},
   "source": [
    "convert the list of GenBank gene id's to GO terms with DAVID Gene ID Conversion Tool https://david.ncifcrf.gov/conversion.jsp"
   ]
  },
  {
   "cell_type": "code",
   "execution_count": null,
   "id": "6f1d5f68-7e86-4309-9c01-497ac49a24da",
   "metadata": {},
   "outputs": [],
   "source": [
    "go_ids = read.csv('/project/pi_sarah_gignouxwolfsohn_uml_edu/julia/GO_analysis/uniprotkb_GOids.txt', sep='\\t')\n",
    "head(go_ids)"
   ]
  },
  {
   "cell_type": "code",
   "execution_count": null,
   "id": "0ae26947-e162-4fdb-ac2e-118601e11659",
   "metadata": {},
   "outputs": [],
   "source": [
    "# rename column names\n",
    "colnames(go_ids) = c('gene_name','GO_id', 'all_GO_terms', 'GO_BP', 'GO_CC', 'GO_MF')\n",
    "# BP = biological process\n",
    "# CC = cellular component\n",
    "# MF = molecular function"
   ]
  },
  {
   "cell_type": "code",
   "execution_count": null,
   "id": "25abbd49-89f7-4db3-8479-a59bd6a8dba5",
   "metadata": {},
   "outputs": [],
   "source": [
    "head(go_ids)"
   ]
  },
  {
   "cell_type": "code",
   "execution_count": null,
   "id": "61c1e4c8-c33c-4537-af24-9d2bc30f8342",
   "metadata": {},
   "outputs": [],
   "source": [
    "GO <- as.matrix(gene_GOid)\n",
    "head(GO)"
   ]
  },
  {
   "cell_type": "code",
   "execution_count": null,
   "id": "44c5a701-7c5a-4960-9c0c-82ac3a23c960",
   "metadata": {},
   "outputs": [],
   "source": [
    "head(gene_GOid)"
   ]
  },
  {
   "cell_type": "code",
   "execution_count": null,
   "id": "76e5f70b-47b7-42d7-8061-3700b63886da",
   "metadata": {},
   "outputs": [],
   "source": [
    "# making a new df of only the gene name and GO ID\n",
    "gene_GOid <- select(go_ids, gene_name, GO_id)\n",
    "head(gene_GOid)\n",
    "\n",
    "write.csv(gene_GOid, '/project/pi_sarah_gignouxwolfsohn_uml_edu/julia/CE_MethylRAD_analysis_2018/CE_methyl_analysis/GO_enrichment_analysis/gene_GOid.csv', row.names=FALSE)\n",
    "write.table(GO, '/project/pi_sarah_gignouxwolfsohn_uml_edu/julia/CE_MethylRAD_analysis_2018/CE_methyl_analysis/GO_enrichment_analysis/gene_GOid.tab', row.names=FALSE, sep = '\\t')"
   ]
  },
  {
   "cell_type": "markdown",
   "id": "b187baa7-2432-4de4-894f-b62e4660e773",
   "metadata": {},
   "source": [
    "#### second - table of measure of interest for my sequences\n",
    "\"two columns of comma-separated values: gene id, continuous measure of change such as log(fold-change). To perform standard GO enrichment analysis based on Fisher's exact test, use binary measure (1 or 0, i.e., either sgnificant or not). To analyze modules derived from WGCNA, specify 0 for genes not included in the module and the kME value (number between 0 and 1, module membership score) for genes included in the module.\""
   ]
  },
  {
   "cell_type": "code",
   "execution_count": null,
   "id": "33ec61a8-d559-49ee-8aec-eda7b894532b",
   "metadata": {},
   "outputs": [],
   "source": [
    "gene_list = read.csv(\"/project/pi_sarah_gignouxwolfsohn_uml_edu/julia/CE_MethylRAD_analysis_2018/CE_methyl_analysis/significant_genes/sig_p1_wc_genes.csv\")\n",
    "head(gene_list)"
   ]
  },
  {
   "cell_type": "code",
   "execution_count": null,
   "id": "1e9e210d-a7fb-41ce-8b75-dadc973e5327",
   "metadata": {},
   "outputs": [],
   "source": [
    "rownames(gene_list) = gene_list$Row.names\n",
    "head(gene_list)"
   ]
  },
  {
   "cell_type": "code",
   "execution_count": null,
   "id": "7651a1e2-d58b-4bd6-ad43-a51cf820817f",
   "metadata": {},
   "outputs": [],
   "source": [
    "# only grabbing the columns I want\n",
    "gene_list2 <- select(gene_list, Row.names, log2FoldChange)\n",
    "head(gene_list2)\n",
    "\n",
    "# changing column names\n",
    "colnames(gene_list2) = c('gene_name', 'logfold')\n",
    "head(gene_list2)"
   ]
  },
  {
   "cell_type": "code",
   "execution_count": null,
   "id": "9c3cfd9b-4733-4482-90d4-6c3be6ffc80c",
   "metadata": {},
   "outputs": [],
   "source": [
    "write.table(gene_list2, '/project/pi_sarah_gignouxwolfsohn_uml_edu/julia/CE_MethylRAD_analysis_2018/CE_methyl_analysis/GO_enrichment_analysis/gene_l2fc.tab', row.names=FALSE)"
   ]
  },
  {
   "cell_type": "code",
   "execution_count": null,
   "id": "8871fb60-c147-405f-bba1-c5df3f721e47",
   "metadata": {},
   "outputs": [],
   "source": [
    "# creating new df only including gene id and log2FoldChange\n",
    "gene_l2fc <- select(gene_list, log2FoldChange) # selecting specific columns\n",
    "head(gene_l2fc)\n",
    "\n",
    "write.csv(gene_l2fc, '/project/pi_sarah_gignouxwolfsohn_uml_edu/julia/CE_MethylRAD_analysis_2018/CE_methyl_analysis/GO_enrichment_analysis/gene_l2fc.csv')"
   ]
  },
  {
   "cell_type": "code",
   "execution_count": null,
   "id": "bad593b9-afc3-4b0a-b17d-6c704524c26c",
   "metadata": {},
   "outputs": [],
   "source": [
    "# creating new df only including gene id and padj\n",
    "gene_padj <- select(gene_list, padj)\n",
    "head(gene_padj)\n",
    "\n",
    "write.csv(gene_padj, '/project/pi_sarah_gignouxwolfsohn_uml_edu/julia/CE_MethylRAD_analysis_2018/CE_methyl_analysis/GO_enrichment_analysis/gene_padj.csv')"
   ]
  },
  {
   "cell_type": "markdown",
   "id": "e648f95c-5e35-4011-933a-00bc2873d5d6",
   "metadata": {},
   "source": [
    "#### creating another file\n",
    "this one is binary - 0=not significant, 1=significant \n",
    "\n",
    "allows me to perform standard GO enrichment analysis based on Fisher's exact test"
   ]
  },
  {
   "cell_type": "code",
   "execution_count": null,
   "id": "1499cb75-6eb8-4881-8395-7eced8a773ae",
   "metadata": {},
   "outputs": [],
   "source": [
    "df = read.csv('/project/pi_sarah_gignouxwolfsohn_uml_edu/julia/CE_MethylRAD_analysis_2018/CE_methyl_analysis/GO_enrichment_analysis/sig_p1_wc_genes_ALL.csv')\n",
    "#head(df)\n",
    "\n",
    "df$significance <- ifelse(is.na(df$log2FoldChange), 0, 1)\n",
    "#head(df)\n",
    "\n",
    "sig_df <- select(df, X, significance)\n",
    "#head(sig_df)\n",
    "\n",
    "colnames(sig_df) = c('gene_name', 'signif')\n",
    "head(sig_df)\n",
    "\n",
    "write.csv(sig_df, '/project/pi_sarah_gignouxwolfsohn_uml_edu/julia/CE_MethylRAD_analysis_2018/CE_methyl_analysis/GO_enrichment_analysis/gene_signif.csv')"
   ]
  },
  {
   "cell_type": "markdown",
   "id": "63b42350-65af-4f74-abaf-22c689bf1f89",
   "metadata": {},
   "source": [
    "#### Other things needed before analysis starts (all in the same directory):\n",
    "- scripts: GO_MWU.R, gomwu_a.pl, gomwu_b.pl, gomwu.functions.R\n",
    "- GO hierarchy file (go.obo, http://www.geneontology.org/GO.downloads.ontology.shtml)"
   ]
  },
  {
   "cell_type": "markdown",
   "id": "3b848135-f60d-4511-b063-f6da21d3ad4c",
   "metadata": {},
   "source": [
    "### topGO package\n",
    "following pipeline outlined here: https://datacatz.wordpress.com/2018/01/19/gene-set-enrichment-analysis-with-topgo-part-1/"
   ]
  },
  {
   "cell_type": "code",
   "execution_count": null,
   "id": "5dcd6e08-2750-4ebd-b3d4-580c8f96a398",
   "metadata": {},
   "outputs": [],
   "source": [
    "source(\"https://bioconductor.org/biocLite.R\")\n",
    "biocLite(\"topGO\")\n",
    "biocLite(\"GO.db\")\n",
    "biocLite(\"biomaRt\")\n",
    "biocLite(\"Rgraphviz\")\n",
    " \n",
    "# Load the required R packages\n",
    "library(topGO)\n",
    "library(GO.db)\n",
    "library(biomaRt)\n",
    "library(Rgraphviz)"
   ]
  },
  {
   "cell_type": "code",
   "execution_count": null,
   "id": "a11c32d3-b3bf-4b7c-ae07-d30f5eedc33b",
   "metadata": {},
   "outputs": [],
   "source": [
    "if (!require(\"BiocManager\", quietly = TRUE))\n",
    "    install.packages(\"BiocManager\")\n",
    "\n",
    "BiocManager::install(\"topGO\")"
   ]
  },
  {
   "cell_type": "code",
   "execution_count": null,
   "id": "d5d2af79-f6c9-4d41-97ae-449d99cf4268",
   "metadata": {},
   "outputs": [],
   "source": [
    "library(topGO)"
   ]
  },
  {
   "cell_type": "code",
   "execution_count": null,
   "id": "8369aaee-9bd3-443a-853d-9e9c48c0ad5c",
   "metadata": {},
   "outputs": [],
   "source": [
    "if (!require(\"BiocManager\", quietly = TRUE))\n",
    "    install.packages(\"BiocManager\")\n",
    "\n",
    "BiocManager::install(\"Go.db\")\n",
    "\n",
    "library(GO.db)"
   ]
  },
  {
   "cell_type": "code",
   "execution_count": null,
   "id": "feb189a9-a848-4030-942a-e656bb99aa65",
   "metadata": {},
   "outputs": [],
   "source": [
    "if (!require(\"BiocManager\", quietly = TRUE))\n",
    "    install.packages(\"BiocManager\")\n",
    "\n",
    "BiocManager::install(\"Rgraphviz\")\n",
    "\n",
    "library(Rgraphviz)"
   ]
  },
  {
   "cell_type": "markdown",
   "id": "af916c1a-00ea-4833-845c-756d706ef5b0",
   "metadata": {},
   "source": [
    "#### Step 1: preparing the data in the required format\n",
    "creating two lists of gene names\n",
    "- candidate list: list of genes of interest (so significant genes)\n",
    "- bg_genes: gene universe (all genes in the experiment)"
   ]
  },
  {
   "cell_type": "code",
   "execution_count": null,
   "id": "50cf8996-9243-4940-9079-3f1693da73d0",
   "metadata": {},
   "outputs": [],
   "source": [
    "# Read in genes of interest\n",
    "candidate_list <- read.csv('/project/pi_sarah_gignouxwolfsohn_uml_edu/julia/CE_MethylRAD_analysis_2018/CE_methyl_analysis/significant_genes/sig_p1_wc_genes.csv')\n",
    "rownames(candidate_list) = candidate_list$Row.names\n",
    "head(candidate_list)\n",
    "candidate_list= as.character(candidate_list[,2])\n",
    "head(candidate_list)"
   ]
  },
  {
   "cell_type": "code",
   "execution_count": null,
   "id": "214cd9a8-c7a5-429e-89c8-77f95b2ab2c6",
   "metadata": {},
   "outputs": [],
   "source": [
    "# Gene universe file - all genes in our experiment (all genes in counts matrix)\n",
    "exp_data <- read.csv('/project/pi_sarah_gignouxwolfsohn_uml_edu/julia/CE_MethylRAD_analysis_2018/CE_methyl_analysis/counts_and_meta/counts_meta.csv')\n",
    "rownames(exp_data) = exp_data$X\n",
    "head(exp_data)\n",
    "\n",
    "bg_genes=as.character(exp_data[,1])\n",
    "head(bg_genes)"
   ]
  },
  {
   "cell_type": "code",
   "execution_count": null,
   "id": "ea7bb94d-0ab6-4ef8-b974-81abbe9e3722",
   "metadata": {},
   "outputs": [],
   "source": [
    "length(candidate_list) # 405 genes \n",
    "length(bg_genes) # 39,504 genes"
   ]
  },
  {
   "cell_type": "markdown",
   "id": "761bcecc-8164-4ce8-9d08-bed8cde3d254",
   "metadata": {},
   "source": [
    "#### step 2: create GO annotation\n",
    "except CV is not in the biomaRt database - but I think I already created this from up above in the go_mwu section"
   ]
  },
  {
   "cell_type": "code",
   "execution_count": null,
   "id": "c5df4f38-3e32-459b-b3f7-d148cf1c2349",
   "metadata": {},
   "outputs": [],
   "source": [
    "head(gene_GOid)"
   ]
  },
  {
   "cell_type": "code",
   "execution_count": null,
   "id": "d0ac7e45-6c28-4493-b821-ddc143510ecf",
   "metadata": {},
   "outputs": [],
   "source": [
    "# remove any candidate genes without GO annotation\n",
    "keep = candidate_list %in% gene_GOid[,1] # does c_list have GO annotation\n",
    "keep = which(keep == TRUE) # only keep c_list that do\n",
    "candidate_list = candidate_list[keep] # rewrite c_list to only include ones with GO annotation"
   ]
  },
  {
   "cell_type": "code",
   "execution_count": null,
   "id": "c87e964a-33b8-4782-8daf-b40d63bb6879",
   "metadata": {},
   "outputs": [],
   "source": [
    "# make named factor showing which genes are of interest\n",
    "geneList=factor(as.integer(bg_genes %in% candidate_list))\n",
    "names(geneList)= bg_genes\n",
    "geneList"
   ]
  },
  {
   "cell_type": "markdown",
   "id": "ccdf03ca-a4e5-4b54-9017-796dbc0f6544",
   "metadata": {},
   "source": [
    "#### Step 3: Make topGO data object"
   ]
  },
  {
   "cell_type": "code",
   "execution_count": null,
   "id": "6f53efa7-70a1-4a97-bf83-7a4ff7747fdd",
   "metadata": {},
   "outputs": [],
   "source": [
    "GOdata=new('topGOdata', ontology='BP', allGenes = geneList, annot = annFUN.gene2GO, gene2GO = gene_GOid)"
   ]
  },
  {
   "cell_type": "markdown",
   "id": "8d709689-0dd5-4af8-b1d5-9b4971f2f9cf",
   "metadata": {},
   "source": [
    "### clusterProfiler package"
   ]
  },
  {
   "cell_type": "code",
   "execution_count": null,
   "id": "3acdf149-83bc-4e79-8a4a-f1d04f5cf3b1",
   "metadata": {},
   "outputs": [],
   "source": [
    "if (!require(\"BiocManager\", quietly = TRUE))\n",
    "    install.packages(\"BiocManager\")\n",
    "\n",
    "BiocManager::install(\"clusterProfiler\")"
   ]
  },
  {
   "cell_type": "code",
   "execution_count": null,
   "id": "4427d338-6171-4063-a171-46f992c7d12f",
   "metadata": {},
   "outputs": [],
   "source": [
    "library(clusterProfiler)"
   ]
  },
  {
   "cell_type": "code",
   "execution_count": null,
   "id": "f986135e-b86f-4c99-bf25-afe78cf9ddbb",
   "metadata": {},
   "outputs": [],
   "source": [
    "if (!requireNamespace(\"AnnotationDbi\", quietly = TRUE)) {\n",
    "  BiocManager::install(\"AnnotationDbi\")\n",
    "}"
   ]
  },
  {
   "cell_type": "code",
   "execution_count": null,
   "id": "ea96d51c-78f8-4d6f-8122-2603a624b592",
   "metadata": {},
   "outputs": [],
   "source": [
    "if (!requireNamespace(\"AnnotationHub\", quietly = TRUE)) {\n",
    "  BiocManager::install(\"AnnotationHub\")\n",
    "}\n",
    "\n",
    "ah <- AnnotationHub::AnnotationHub()\n",
    "query(ah, \"Crassostrea virginica\")\n"
   ]
  },
  {
   "cell_type": "code",
   "execution_count": null,
   "id": "eac19cd3-03fe-4870-a129-3cbe6fd00ee9",
   "metadata": {},
   "outputs": [],
   "source": [
    "# Install and load necessary packages\n",
    "if (!requireNamespace(\"clusterProfiler\", quietly = TRUE)) {\n",
    "  install.packages(\"clusterProfiler\")\n",
    "}\n",
    "\n",
    "# Example gene list (replace with your own)\n",
    "gene_list <- c(\"gene1\", \"gene2\", \"gene3\", ...)\n",
    "\n",
    "# Create a custom list of gene-to-GO mappings\n",
    "custom_annotations <- data.frame(\n",
    "  GeneID = gene_list,\n",
    "  GOID = c(\"GO:0001234\", \"GO:5678\", \"GO:9012\", ...)  # Replace with actual GO terms\n",
    ")\n",
    "\n",
    "# Perform GO enrichment analysis with topGO\n",
    "library(topGO)\n",
    "\n",
    "# Create a topGOdata object\n",
    "godata <- new(\"topGOdata\", ontology = \"BP\", allGenes = custom_annotations$GeneID, geneSel = custom_annotations$GeneID)\n",
    "\n",
    "# Run enrichment analysis\n",
    "result <- runTest(godata, algorithm = \"classic\", statistic = \"fisher\")\n",
    "\n",
    "# Visualize the results\n",
    "plot(result, goCategory = \"BP\", ranksOf = \"classic\", main = \"GO Enrichment Analysis\")\n"
   ]
  },
  {
   "cell_type": "code",
   "execution_count": null,
   "id": "ac2afc7a-601e-46f8-a54a-25057f35e31b",
   "metadata": {},
   "outputs": [],
   "source": [
    "listDatasets()"
   ]
  },
  {
   "cell_type": "code",
   "execution_count": null,
   "id": "cf0055e3-b33d-4070-aa4c-a77514cbdc2d",
   "metadata": {},
   "outputs": [],
   "source": [
    "org_db <- AnnotationDbi::org.Cv.eg.db"
   ]
  },
  {
   "cell_type": "code",
   "execution_count": null,
   "id": "ad0e01e2-bd8a-4b97-9c04-89a514c44984",
   "metadata": {},
   "outputs": [],
   "source": [
    "sig_p1_genes = read.csv(\"/project/pi_sarah_gignouxwolfsohn_uml_edu/julia/CE_MethylRAD_analysis_2018/CE_methyl_analysis/significant_genes/sig_p1_wc_genes.csv\")\n",
    "head(sig_p1_genes)"
   ]
  },
  {
   "cell_type": "code",
   "execution_count": null,
   "id": "1576b719-b3ce-4f94-b56a-c34cecd37674",
   "metadata": {},
   "outputs": [],
   "source": [
    "# effects of phase 1 warm vs. control (ignoring effects of phase 2)\n",
    "gene_list = sig_p1_genes$Row.names\n",
    "gene_list"
   ]
  },
  {
   "cell_type": "code",
   "execution_count": null,
   "id": "2269f062-6413-48d8-9b2c-c7b9449a1959",
   "metadata": {},
   "outputs": [],
   "source": [
    "go_results <- enrichGO(gene = gene_list)"
   ]
  },
  {
   "cell_type": "code",
   "execution_count": null,
   "id": "961ce166-d258-46be-a524-05452bc205de",
   "metadata": {},
   "outputs": [],
   "source": [
    "if (!requireNamespace(\"AnnotationHub\", quietly = TRUE))\n",
    "    BiocManager::install(\"AnnotationHub\")"
   ]
  },
  {
   "cell_type": "code",
   "execution_count": null,
   "id": "ec543f7a-e4bb-4efc-bd40-c38252c86c7d",
   "metadata": {},
   "outputs": [],
   "source": [
    "library(AnnotationHub)\n",
    "ah <- AnnotationHub()\n",
    "query(ah, \"Crassostrea virginica\")"
   ]
  },
  {
   "cell_type": "code",
   "execution_count": null,
   "id": "a429d5e6-85c6-4c9c-afdd-911f3c6be610",
   "metadata": {},
   "outputs": [],
   "source": [
    "sig_p1_genes = read.csv(\"/project/pi_sarah_gignouxwolfsohn_uml_edu/julia/CE_MethylRAD_analysis_2018/CE_methyl_analysis/significant_genes/sig_p1_wc_genes.csv\")\n",
    "head(sig_p1_genes)"
   ]
  },
  {
   "cell_type": "code",
   "execution_count": null,
   "id": "da5df7c2-d54a-43d7-bdcf-88fa201a99d7",
   "metadata": {},
   "outputs": [],
   "source": [
    "# effects of phase 1 warm vs. control (ignoring effects of phase 2)\n",
    "gene_list = sig_p1_genes$Row.names\n",
    "gene_list"
   ]
  },
  {
   "cell_type": "code",
   "execution_count": null,
   "id": "ba07d089-d217-4786-93c1-02a52dd06805",
   "metadata": {},
   "outputs": [],
   "source": [
    "oyster_annotations <- query(ah, c(\"oyster\", \"Crassostrea virginica\"))"
   ]
  },
  {
   "cell_type": "code",
   "execution_count": null,
   "id": "2b1f42a5-01b5-4ae3-9f7b-967b1ea6ea55",
   "metadata": {},
   "outputs": [],
   "source": [
    "oyster_annotations"
   ]
  },
  {
   "cell_type": "code",
   "execution_count": null,
   "id": "24ead720-a099-496a-94d8-ddd7cc39368d",
   "metadata": {},
   "outputs": [],
   "source": [
    "# Assuming the gene symbols are in a column named \"GeneSymbol\"\n",
    "gene_symbols <- oyster_annotations$GeneSymbol"
   ]
  },
  {
   "cell_type": "code",
   "execution_count": null,
   "id": "11f6f4d5-041b-45f3-8720-b07141693850",
   "metadata": {},
   "outputs": [],
   "source": [
    "# Assuming you have already loaded AnnotationHub and obtained oyster_annotations\n",
    "# Print the names of the columns in the annotation data\n",
    "colnames(oyster_annotations)"
   ]
  },
  {
   "cell_type": "code",
   "execution_count": null,
   "id": "65a4ea57-7f18-4c2a-a8ed-259cfddb07ff",
   "metadata": {},
   "outputs": [],
   "source": [
    "enrich_result <- enrichGO(gene = gene_list, OrgDb = org.Crassostrea_virginica.eg.sqlite)"
   ]
  },
  {
   "cell_type": "code",
   "execution_count": null,
   "id": "5860649d-b373-442a-8d96-814dd41f5f21",
   "metadata": {},
   "outputs": [],
   "source": [
    "if (!requireNamespace(\"biomaRt\", quietly = TRUE))\n",
    "    BiocManager::install(\"biomaRt\")\n",
    "\n",
    "library(biomaRt)\n",
    "mart <- useMart(\"ensembl\", dataset = \"cgigas_uk_roslin_v1\")"
   ]
  },
  {
   "cell_type": "code",
   "execution_count": null,
   "id": "acd46a98-e488-444d-912b-8faf049df88b",
   "metadata": {},
   "outputs": [],
   "source": [
    "# Load the biomaRt package if not loaded\n",
    "if (!requireNamespace(\"biomaRt\", quietly = TRUE))\n",
    "    BiocManager::install(\"biomaRt\")\n",
    "\n",
    "library(biomaRt)\n",
    "\n",
    "# List available datasets\n",
    "list_db = listDatasets(useMart(\"ensembl\"))\n",
    "list_db[0:75,]"
   ]
  },
  {
   "cell_type": "code",
   "execution_count": null,
   "id": "f4935f80-4a7b-4f8d-bd24-710de5bee1a4",
   "metadata": {},
   "outputs": [],
   "source": [
    "ensembl = useEnsembl(biomart=\"ensembl\")\n",
    "listDatasets(ensembl)[0:55,]"
   ]
  },
  {
   "cell_type": "code",
   "execution_count": null,
   "id": "0886f09c-a0b8-4e3d-b618-b10c0c3fa2e9",
   "metadata": {},
   "outputs": [],
   "source": [
    "listEnsembl()\n",
    "ensembl <- useEnsembl(biomart = \"genes\")"
   ]
  },
  {
   "cell_type": "code",
   "execution_count": null,
   "id": "b2acfa8d-9862-4bbf-8384-a34bcc721ab7",
   "metadata": {},
   "outputs": [],
   "source": [
    "ensembl"
   ]
  },
  {
   "cell_type": "code",
   "execution_count": null,
   "id": "5a76a7cf-c650-40ee-b23d-eea6131229cd",
   "metadata": {},
   "outputs": [],
   "source": [
    "searchDatasets(mart = ensembl, pattern = \"cvirginica\")"
   ]
  },
  {
   "cell_type": "code",
   "execution_count": null,
   "id": "ca11e053-fe39-475b-a5ba-255915fbcfd3",
   "metadata": {},
   "outputs": [],
   "source": [
    "# Assuming you've already created the mart object\n",
    "mart <- useMart(\"ensembl\", dataset = \"cvirginica_gene_ensembl\")\n",
    "\n",
    "# Get a sample of the data (adjust attributes as needed)\n",
    "sample_data <- getBM(attributes = c(\"ensembl_gene_id\", \"external_gene_name\", \"description\"),\n",
    "                    mart = mart, n = 5)\n",
    "\n",
    "# Print the sample data\n",
    "print(sample_data)"
   ]
  },
  {
   "cell_type": "code",
   "execution_count": null,
   "id": "28c9d1f9-b482-47bc-8e4b-4db46de9076e",
   "metadata": {},
   "outputs": [],
   "source": [
    "if (!require(\"BiocManager\", quietly = TRUE))\n",
    "    install.packages(\"BiocManager\")\n",
    "\n",
    "BiocManager::install(\"topGO\")"
   ]
  },
  {
   "cell_type": "code",
   "execution_count": null,
   "id": "5a6aab02-50ba-4c91-a4b7-338e0f3c30ad",
   "metadata": {},
   "outputs": [],
   "source": [
    "library(topGO)"
   ]
  }
 ],
 "metadata": {
  "kernelspec": {
   "display_name": "R [conda env:.conda-r-env]",
   "language": "R",
   "name": "conda-env-.conda-r-env-r"
  },
  "language_info": {
   "codemirror_mode": "r",
   "file_extension": ".r",
   "mimetype": "text/x-r-source",
   "name": "R",
   "pygments_lexer": "r",
   "version": "4.3.2"
  }
 },
 "nbformat": 4,
 "nbformat_minor": 5
}
