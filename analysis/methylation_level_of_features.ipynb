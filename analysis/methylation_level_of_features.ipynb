{
 "cells": [
  {
   "cell_type": "markdown",
   "id": "da715cbc-fd9e-482b-9b3c-988a60dc5bdf",
   "metadata": {},
   "source": [
    "# Methylation of Genomic Features"
   ]
  },
  {
   "cell_type": "code",
   "execution_count": 3,
   "id": "af969d80-edc6-4f6b-bd79-2d187c4ad4ee",
   "metadata": {},
   "outputs": [],
   "source": [
    "library(tidyverse)\n",
    "library(dplyr)\n",
    "library(rtracklayer)\n",
    "library(tibble)"
   ]
  },
  {
   "cell_type": "markdown",
   "id": "60e142b9-1495-424f-bd4f-21863370cb22",
   "metadata": {},
   "source": [
    "generate counts matrix for CG motifs, look for overlap with genomic features\n",
    "\n",
    "we're looking at just where is methylation occuring in my samples"
   ]
  },
  {
   "cell_type": "code",
   "execution_count": 2,
   "id": "bb6048ee-076c-43c7-a369-c4193074a81b",
   "metadata": {},
   "outputs": [],
   "source": [
    "!CG_motif=\"/project/pi_sarah_gignouxwolfsohn_uml_edu/julia/CE_methyl_assembly/assembly_pipeline_files/genomic_bed_files/C_virginica-3.0_CG-motif.bed\"\n",
    "\n",
    "!input_dir=\"/project/pi_sarah_gignouxwolfsohn_uml_edu/julia/CE_methyl_assembly/assembly_pipeline_files/BEDtools/working_BAM_sequences\"\n",
    "\n",
    "!output_dir=\"/project/pi_sarah_gignouxwolfsohn_uml_edu/julia/CE_methyl_assembly/assembly_pipeline_files/BEDtools/CG_coverage/\""
   ]
  },
  {
   "cell_type": "code",
   "execution_count": null,
   "id": "067b93dd-c6e9-4f53-8dcd-512f0c300446",
   "metadata": {},
   "outputs": [],
   "source": [
    "!bedtools multicov -bams *.bam -bed $CG_motif > ${output_dir}CG_coverage.csv"
   ]
  },
  {
   "cell_type": "markdown",
   "id": "18e21743-f2bf-4e72-a151-7f2f84561531",
   "metadata": {},
   "source": [
    "read in genomic features BED files"
   ]
  },
  {
   "cell_type": "markdown",
   "id": "c34a8338-3ad9-4df8-a447-50c5c89d91cd",
   "metadata": {},
   "source": [
    "# Methylation level in gene features\n",
    "I would like to know what percent of methylation is happening in exons/introns/etc. To do this, I'm going to use `bedtools multicov` to generate coverage files for each sample with bed files of the different gene features. Then, calculate the number of features with methylation and number without to get our methylation level."
   ]
  },
  {
   "cell_type": "code",
   "execution_count": 1,
   "id": "790205e5-6b05-44ae-8ad6-a72cf6cc376f",
   "metadata": {},
   "outputs": [
    {
     "name": "stdout",
     "output_type": "stream",
     "text": [
      "Removing conda\n",
      "Loading conda\n"
     ]
    }
   ],
   "source": [
    "!module load conda/latest"
   ]
  },
  {
   "cell_type": "code",
   "execution_count": 2,
   "id": "527e8c39-5682-4a42-b4c5-994f656782c4",
   "metadata": {},
   "outputs": [
    {
     "name": "stdout",
     "output_type": "stream",
     "text": [
      "\n",
      "CondaError: Run 'conda init' before 'conda activate'\n",
      "\n"
     ]
    }
   ],
   "source": [
    "!conda activate bedtools"
   ]
  },
  {
   "cell_type": "code",
   "execution_count": null,
   "id": "598c8ffd-219c-49ce-9355-39b04920f80e",
   "metadata": {},
   "outputs": [],
   "source": [
    "output_dir=\"/project/pi_sarah_gignouxwolfsohn_uml_edu/julia/CE_methyl_assembly/assembly_pipeline_files/genomic_bed_files/CpG_multicov/\"\n",
    "exon_bed=\"/project/pi_sarah_gignouxwolfsohn_uml_edu/julia/CE_MethylRAD_analysis_2018/analysis/genomic_feature_tracks/CV_exon_sorted.bed\"\n",
    "intron_bed=\"/project/pi_sarah_gignouxwolfsohn_uml_edu/julia/CE_MethylRAD_analysis_2018/analysis/genomic_feature_tracks/CV_intron.bed\"\n",
    "input_dir=\"/project/pi_sarah_gignouxwolfsohn_uml_edu/julia/CE_methyl_assembly/assembly_pipeline_files/BEDtools/working_BAM_sequences/\""
   ]
  },
  {
   "cell_type": "code",
   "execution_count": null,
   "id": "d3b549ad-4a75-469a-b631-052926c4b126",
   "metadata": {},
   "outputs": [],
   "source": [
    "# hypoxic control\n",
    "!HC_files=(\"2018--BBB-WBO-B21-CV_sorted.bam\" \"2018--BBB-WBV-B70-CV_sorted.bam\" \"2018--BBO-WBO-B16-CV_sorted.bam\" \"2018--BBO-WBV-B64-CV_sorted.bam\" \"2018--BBY-WBG-B42-CV_sorted.bam\")\n",
    "\n",
    "# control hypoxic\n",
    "!CH_files=(\"2018--WBG-BBB-W56-CV_sorted.bam\" \"2018--WBO-BBR-W03-CV_sorted.bam\" \"2018--WBR-BBY-W25-CV_sorted.bam\" \"2018--WBY-BBV-W65-CV_sorted.bam\" \"2018--WBY-BBY-W30-CV_sorted.bam\")\n",
    "\n",
    "# hypoxic hypoxic \n",
    "!HH_files=(\"2018--BBO-BBO-B16-CV_sorted.bam\" \"2018--BBO-BBY-B27-CV_sorted.bam\" \"2018--BBR-BBB-B50-CV_sorted.bam\" \"2018--BBR-BBG-B38-CV_sorted.bam\" \"2018--BBR-BBY-B26-CV_sorted.bam\")\n",
    "\n",
    "# control control\n",
    "!CC_files=(\"2018--WBB-WBV-W69-CV_sorted.bam\" \"2018--WBG-WBG-W44-CV_sorted.bam\" \"2018--WBO-WBV-W64-CV_sorted.bam\" \"2018--WBV-WBO-W23-CV_sorted.bam\" \"2018--WBV-WBR-W12-CV_sorted.bam\") \n"
   ]
  },
  {
   "cell_type": "markdown",
   "id": "6a978859-5ba8-444f-8dfc-ff58abebeb21",
   "metadata": {},
   "source": [
    "generate coverage file/counts matrix for each set of samples"
   ]
  },
  {
   "cell_type": "markdown",
   "id": "19465b1d-4518-4bb2-a4af-52a8dddcaf0e",
   "metadata": {},
   "source": [
    "## exons\n",
    "(run in command line)"
   ]
  },
  {
   "cell_type": "code",
   "execution_count": null,
   "id": "f2c83243-e98a-4e9d-bcf4-507905d40ab8",
   "metadata": {},
   "outputs": [],
   "source": [
    "# for all samples\n",
    "!bedtools multicov -bams /project/pi_sarah_gignouxwolfsohn_uml_edu/julia/CE_methyl_assembly/assembly_pipeline_files/BEDtools/working_BAM_sequences/*.bam -bed $exon_bed > ${output_dir}multicov_exon.csv"
   ]
  },
  {
   "cell_type": "code",
   "execution_count": null,
   "id": "9d52d871-00b6-417f-9dca-6e655826dfa7",
   "metadata": {},
   "outputs": [],
   "source": [
    "output_dir=\"/project/pi_sarah_gignouxwolfsohn_uml_edu/julia/CE_methyl_assembly/assembly_pipeline_files/genomic_bed_files/CpG_multicov/\""
   ]
  },
  {
   "cell_type": "code",
   "execution_count": null,
   "id": "a71dbe35-492b-455e-9ee2-84750b19df14",
   "metadata": {},
   "outputs": [],
   "source": [
    "# hypoxic control files\n",
    "HC_files=(\"2018--BBB-WBO-B21-CV_sorted.bam\" \"2018--BBB-WBV-B70-CV_sorted.bam\" \"2018--BBO-WBO-B16-CV_sorted.bam\" \"2018--BBO-WBV-B64-CV_sorted.bam\" \"2018--BBY-WBG-B42-CV_sorted.bam\")\n",
    "\n",
    "bedtools multicov -bams \"${HC_files[@]}\" -bed $exon_bed > ${output_dir}HC_multicov_exon.csv"
   ]
  },
  {
   "cell_type": "code",
   "execution_count": null,
   "id": "755a2141-5ef7-4dc3-b84b-13d3a8c8d3d3",
   "metadata": {},
   "outputs": [],
   "source": [
    "# control hypoxic files\n",
    "CH_files=(\"2018--WBG-BBB-W56-CV_sorted.bam\" \"2018--WBO-BBR-W03-CV_sorted.bam\" \"2018--WBR-BBY-W25-CV_sorted.bam\" \"2018--WBY-BBV-W65-CV_sorted.bam\" \"2018--WBY-BBY-W30-CV_sorted.bam\")\n",
    "\n",
    "bedtools multicov -bams \"${CH_files[@]}\" -bed $exon_bed > ${output_dir}CH_multicov_exon.csv"
   ]
  },
  {
   "cell_type": "code",
   "execution_count": null,
   "id": "adde17a5-13e0-4ab2-aca1-290e43f0fe0c",
   "metadata": {},
   "outputs": [],
   "source": [
    "# hypoxic hypoxic files\n",
    "HH_files=(\"2018--BBO-BBO-B16-CV_sorted.bam\" \"2018--BBO-BBY-B27-CV_sorted.bam\" \"2018--BBR-BBB-B50-CV_sorted.bam\" \"2018--BBR-BBG-B38-CV_sorted.bam\" \"2018--BBR-BBY-B26-CV_sorted.bam\")\n",
    "\n",
    "bedtools multicov -bams \"${HH_files[@]}\" -bed $exon_bed > ${output_dir}HH_multicov_exon.csv"
   ]
  },
  {
   "cell_type": "code",
   "execution_count": null,
   "id": "126a50a4-10e1-4525-827d-00210918ed4c",
   "metadata": {},
   "outputs": [],
   "source": [
    "# control control files\n",
    "CC_files=(\"2018--WBB-WBV-W69-CV_sorted.bam\" \"2018--WBG-WBG-W44-CV_sorted.bam\" \"2018--WBO-WBV-W64-CV_sorted.bam\" \"2018--WBV-WBO-W23-CV_sorted.bam\" \"2018--WBV-WBR-W12-CV_sorted.bam\")\n",
    "\n",
    "bedtools multicov -bams \"${CC_files[@]}\" -bed $exon_bed > ${output_dir}CC_multicov_exon.csv"
   ]
  },
  {
   "cell_type": "markdown",
   "id": "1660c10f-ca9a-4557-ba7a-cc4686fbfbe7",
   "metadata": {},
   "source": [
    "#### methylation level of exons\n",
    "\n",
    "(11/20/2024) so this was done with running multicov on the exon bed file - but I've since changed the bed file so this is not accurate - running code again with fixed exon bed file"
   ]
  },
  {
   "cell_type": "code",
   "execution_count": 21,
   "id": "b0f33d1f-4e39-4139-b52b-d87ff3ddf194",
   "metadata": {},
   "outputs": [],
   "source": [
    "CC_exon <- read.csv(\"/project/pi_sarah_gignouxwolfsohn_uml_edu/julia/CE_methyl_assembly/assembly_pipeline_files/genomic_bed_files/CpG_multicov/CC_multicov_exon.csv\", sep='\\t')\n",
    "CH_exon <- read.csv(\"/project/pi_sarah_gignouxwolfsohn_uml_edu/julia/CE_methyl_assembly/assembly_pipeline_files/genomic_bed_files/CpG_multicov/CH_multicov_exon.csv\", sep='\\t')\n",
    "HC_exon <- read.csv(\"/project/pi_sarah_gignouxwolfsohn_uml_edu/julia/CE_methyl_assembly/assembly_pipeline_files/genomic_bed_files/CpG_multicov/HC_multicov_exon.csv\", sep='\\t')\n",
    "HH_exon <- read.csv(\"/project/pi_sarah_gignouxwolfsohn_uml_edu/julia/CE_methyl_assembly/assembly_pipeline_files/genomic_bed_files/CpG_multicov/HH_multicov_exon.csv\", sep='\\t')"
   ]
  },
  {
   "cell_type": "code",
   "execution_count": 22,
   "id": "bbf06c80-01fc-4fd0-9b4c-9fd967de635b",
   "metadata": {},
   "outputs": [
    {
     "name": "stdout",
     "output_type": "stream",
     "text": [
      "[1] \"69098 methylated exons and 731278 total exons\"\n",
      "[1] \"exon methylation level of CC: 9.44893733983519\"\n"
     ]
    }
   ],
   "source": [
    "# CONTROL CONTROL\n",
    "\n",
    "# Calculate average counts of last 5 columns\n",
    "CC_exon$avg_counts <- rowMeans(CC_exon[, tail(names(CC_exon), 5)])\n",
    "\n",
    "# Remove rows with averages below 5\n",
    "CC_filtered <- CC_exon[CC_exon$avg_counts >= 5, ]\n",
    "\n",
    "# Remove temporary average column\n",
    "CC_filtered$avg_counts <- NULL\n",
    "\n",
    "CCmethyl_exon <- dim(CC_filtered)[1]\n",
    "total_exon <- dim(CC_exon)[1]\n",
    "CC_level <- round((CCmethyl_exon/total_exon)*100, 2)\n",
    "\n",
    "print(paste(CCmethyl_exon, \"methylated exons and\", total_exon, \"total exons\"))\n",
    "print(paste(\"exon methylation level of CC:\", (CCmethyl_exon)/(total_exon)*100))"
   ]
  },
  {
   "cell_type": "code",
   "execution_count": 17,
   "id": "241db7ea-bda8-4b78-a8ec-075cbc20ae83",
   "metadata": {},
   "outputs": [
    {
     "name": "stdout",
     "output_type": "stream",
     "text": [
      "[1] \"67823 methylated exons and 731278 total exons\"\n",
      "[1] \"exon methylation level of CH: 9.27458504153003\"\n"
     ]
    }
   ],
   "source": [
    "# CONTROL HYPOXIC\n",
    "\n",
    "# Calculate average counts of last 5 columns\n",
    "CH_exon$avg_counts <- rowMeans(CH_exon[, tail(names(CH_exon), 5)])\n",
    "\n",
    "# Remove rows with averages below 5\n",
    "CH_filtered <- CH_exon[CH_exon$avg_counts >= 5, ]\n",
    "\n",
    "# Remove temporary average column\n",
    "CH_filtered$avg_counts <- NULL\n",
    "\n",
    "CHmethyl_exon <- dim(CH_filtered)[1]\n",
    "total_exon <- dim(CH_exon)[1]\n",
    "CH_level <- round((CHmethyl_exon/total_exon)*100, 2)\n",
    "\n",
    "print(paste(CHmethyl_exon, \"methylated exons and\", total_exon, \"total exons\"))\n",
    "print(paste(\"exon methylation level of CH:\", (CHmethyl_exon)/(total_exon)*100))"
   ]
  },
  {
   "cell_type": "code",
   "execution_count": 20,
   "id": "8658491e-035f-4a8c-82d4-642d86af5cb9",
   "metadata": {},
   "outputs": [
    {
     "name": "stdout",
     "output_type": "stream",
     "text": [
      "[1] \"74706 methylated exons and 731278 total exons\"\n",
      "[1] \"exon methylation level of HH: 10.2158139585766\"\n"
     ]
    }
   ],
   "source": [
    "# HYPOXIC HYPOXIC\n",
    "\n",
    "# Calculate average counts of last 5 columns\n",
    "HH_exon$avg_counts <- rowMeans(HH_exon[, tail(names(HH_exon), 5)])\n",
    "\n",
    "# Remove rows with averages below 5\n",
    "HH_filtered <- HH_exon[HH_exon$avg_counts >= 5, ]\n",
    "\n",
    "# Remove temporary average column\n",
    "HH_filtered$avg_counts <- NULL\n",
    "\n",
    "HHmethyl_exon <- dim(HH_filtered)[1]\n",
    "total_exon <- dim(HH_exon)[1]\n",
    "HH_level <- round((HHmethyl_exon/total_exon)*100, 2)\n",
    "\n",
    "print(paste(HHmethyl_exon, \"methylated exons and\", total_exon, \"total exons\"))\n",
    "print(paste(\"exon methylation level of HH:\", (HHmethyl_exon)/(total_exon)*100))"
   ]
  },
  {
   "cell_type": "code",
   "execution_count": 18,
   "id": "7ec1f4de-d645-46db-b28e-0bf18444ba43",
   "metadata": {},
   "outputs": [
    {
     "name": "stdout",
     "output_type": "stream",
     "text": [
      "[1] \"76720 methylated exons and 731278 total exons\"\n",
      "[1] \"exon methylation level of HC: 10.4912222164485\"\n"
     ]
    }
   ],
   "source": [
    "# HYPOXIC CONTROL\n",
    "\n",
    "# Calculate average counts of last 5 columns\n",
    "HC_exon$avg_counts <- rowMeans(HC_exon[, tail(names(HC_exon), 5)])\n",
    "\n",
    "# Remove rows with averages below 5\n",
    "HC_filtered <- HC_exon[HC_exon$avg_counts >= 5, ]\n",
    "\n",
    "# Remove temporary average column\n",
    "HC_filtered$avg_counts <- NULL\n",
    "\n",
    "HCmethyl_exon <- dim(HC_filtered)[1]\n",
    "total_exon <- dim(HC_exon)[1]\n",
    "HC_level <- round((HCmethyl_exon/total_exon)*100, 2)\n",
    "\n",
    "print(paste(HCmethyl_exon, \"methylated exons and\", total_exon, \"total exons\"))\n",
    "print(paste(\"exon methylation level of HC:\", (HCmethyl_exon)/(total_exon)*100))"
   ]
  },
  {
   "cell_type": "code",
   "execution_count": 23,
   "id": "6e562f82-caa8-4b8c-b3ec-c7427bbd466e",
   "metadata": {},
   "outputs": [
    {
     "data": {
      "text/html": [
       "<table class=\"dataframe\">\n",
       "<caption>A tibble: 1 × 4</caption>\n",
       "<thead>\n",
       "\t<tr><th scope=col>CC</th><th scope=col>HC</th><th scope=col>HH</th><th scope=col>CH</th></tr>\n",
       "\t<tr><th scope=col>&lt;dbl&gt;</th><th scope=col>&lt;dbl&gt;</th><th scope=col>&lt;dbl&gt;</th><th scope=col>&lt;dbl&gt;</th></tr>\n",
       "</thead>\n",
       "<tbody>\n",
       "\t<tr><td>9.45</td><td>10.49</td><td>10.22</td><td>9.27</td></tr>\n",
       "</tbody>\n",
       "</table>\n"
      ],
      "text/latex": [
       "A tibble: 1 × 4\n",
       "\\begin{tabular}{llll}\n",
       " CC & HC & HH & CH\\\\\n",
       " <dbl> & <dbl> & <dbl> & <dbl>\\\\\n",
       "\\hline\n",
       "\t 9.45 & 10.49 & 10.22 & 9.27\\\\\n",
       "\\end{tabular}\n"
      ],
      "text/markdown": [
       "\n",
       "A tibble: 1 × 4\n",
       "\n",
       "| CC &lt;dbl&gt; | HC &lt;dbl&gt; | HH &lt;dbl&gt; | CH &lt;dbl&gt; |\n",
       "|---|---|---|---|\n",
       "| 9.45 | 10.49 | 10.22 | 9.27 |\n",
       "\n"
      ],
      "text/plain": [
       "  CC   HC    HH    CH  \n",
       "1 9.45 10.49 10.22 9.27"
      ]
     },
     "metadata": {},
     "output_type": "display_data"
    }
   ],
   "source": [
    "exon_me_level <- tibble(CC = CC_level, HC = HC_level, HH = HH_level, CH = CH_level)\n",
    "exon_me_level"
   ]
  },
  {
   "cell_type": "code",
   "execution_count": 41,
   "id": "c07c77a1-c6ba-499c-a6ac-92f87ff90295",
   "metadata": {},
   "outputs": [
    {
     "data": {
      "text/html": [
       "<table class=\"dataframe\">\n",
       "<caption>A data.frame: 4 × 2</caption>\n",
       "<thead>\n",
       "\t<tr><th scope=col>ME_Level</th><th scope=col>Sample</th></tr>\n",
       "\t<tr><th scope=col>&lt;dbl&gt;</th><th scope=col>&lt;chr&gt;</th></tr>\n",
       "</thead>\n",
       "<tbody>\n",
       "\t<tr><td> 9.45</td><td>CC</td></tr>\n",
       "\t<tr><td>10.49</td><td>HC</td></tr>\n",
       "\t<tr><td>10.22</td><td>HH</td></tr>\n",
       "\t<tr><td> 9.27</td><td>CH</td></tr>\n",
       "</tbody>\n",
       "</table>\n"
      ],
      "text/latex": [
       "A data.frame: 4 × 2\n",
       "\\begin{tabular}{ll}\n",
       " ME\\_Level & Sample\\\\\n",
       " <dbl> & <chr>\\\\\n",
       "\\hline\n",
       "\t  9.45 & CC\\\\\n",
       "\t 10.49 & HC\\\\\n",
       "\t 10.22 & HH\\\\\n",
       "\t  9.27 & CH\\\\\n",
       "\\end{tabular}\n"
      ],
      "text/markdown": [
       "\n",
       "A data.frame: 4 × 2\n",
       "\n",
       "| ME_Level &lt;dbl&gt; | Sample &lt;chr&gt; |\n",
       "|---|---|\n",
       "|  9.45 | CC |\n",
       "| 10.49 | HC |\n",
       "| 10.22 | HH |\n",
       "|  9.27 | CH |\n",
       "\n"
      ],
      "text/plain": [
       "  ME_Level Sample\n",
       "1  9.45    CC    \n",
       "2 10.49    HC    \n",
       "3 10.22    HH    \n",
       "4  9.27    CH    "
      ]
     },
     "metadata": {},
     "output_type": "display_data"
    }
   ],
   "source": [
    "exon_df <- exon_me_level %>% \n",
    "  t() %>% \n",
    "  as.data.frame() %>% \n",
    "  setNames(c(\"ME_Level\")) %>%  # rename the single column\n",
    "  mutate(Sample = rownames(.)) %>%  # add Sample column\n",
    "  `rownames<-`(NULL)  # remove row names\n",
    "\n",
    "exon_df"
   ]
  },
  {
   "cell_type": "code",
   "execution_count": 35,
   "id": "325c95a4-99ed-43b8-a1ed-e650023cacf2",
   "metadata": {},
   "outputs": [
    {
     "name": "stderr",
     "output_type": "stream",
     "text": [
      "Warning message:\n",
      "“\u001b[1m\u001b[22mUsing `size` aesthetic for lines was deprecated in ggplot2 3.4.0.\n",
      "\u001b[36mℹ\u001b[39m Please use `linewidth` instead.”\n"
     ]
    },
    {
     "data": {
      "image/png": "[encoded data removed]",
      "text/plain": [
       "plot without title"
      ]
     },
     "metadata": {
      "image/png": {
       "height": 420,
       "width": 420
      }
     },
     "output_type": "display_data"
    }
   ],
   "source": [
    "ggplot(exon_df, aes(x = Sample, y = ME_Level, fill = Sample)) +\n",
    "  geom_bar(stat = \"identity\") +\n",
    "scale_fill_brewer(palette = \"RdPu\",  direction = 1) +\n",
    "geom_col(color = \"black\", size = 0.25) +\n",
    "  labs(title = \"Exon Methylation Level\", x = \"Treatment\", y = \"% methylation\") +\n",
    "  theme_classic()"
   ]
  },
  {
   "cell_type": "code",
   "execution_count": 51,
   "id": "cb879d9a-efaa-4b1f-b548-29657e6afe75",
   "metadata": {},
   "outputs": [
    {
     "data": {
      "text/plain": [
       "\n",
       "\tWelch Two Sample t-test\n",
       "\n",
       "data:  p1c$ME_Level and p1h$ME_Level\n",
       "t = -6.1325, df = 1.7423, p-value = 0.03523\n",
       "alternative hypothesis: true difference in means is not equal to 0\n",
       "95 percent confidence interval:\n",
       " -1.8020356 -0.1879644\n",
       "sample estimates:\n",
       "mean of x mean of y \n",
       "    9.360    10.355 \n"
      ]
     },
     "metadata": {},
     "output_type": "display_data"
    }
   ],
   "source": [
    "p1c <- filter(exon_df, exon_df$Sample %in% c('CC','CH'))\n",
    "\n",
    "p1h <- filter(exon_df, exon_df$Sample %in% c('HC','HH'))\n",
    "\n",
    "t.test(p1c$ME_Level, p1h$ME_Level)"
   ]
  },
  {
   "cell_type": "markdown",
   "id": "43ce94f9-62b6-4815-b369-9c5a54f1599f",
   "metadata": {},
   "source": [
    "so the difference in methylation level of exons is statistically significant between first exposure to control vs. hypoxia"
   ]
  },
  {
   "cell_type": "code",
   "execution_count": 61,
   "id": "57f9080d-9555-42d1-9a7a-69b7f3c8e791",
   "metadata": {},
   "outputs": [],
   "source": [
    "exon_df$phase1 <- ifelse(exon_df$Sample == 'CC', 'control',\n",
    "                           ifelse(exon_df$Sample == 'CH', 'control', 'hypoxia'))\n",
    "\n",
    "exon_df$phase2 <- ifelse(exon_df$Sample == 'CC', 'control',\n",
    "                           ifelse(exon_df$Sample == 'HC', 'control', 'hypoxia'))"
   ]
  },
  {
   "cell_type": "code",
   "execution_count": 62,
   "id": "6eacb68b-4afd-425a-8aeb-29b618d79930",
   "metadata": {},
   "outputs": [
    {
     "data": {
      "text/html": [
       "<table class=\"dataframe\">\n",
       "<caption>A data.frame: 4 × 4</caption>\n",
       "<thead>\n",
       "\t<tr><th scope=col>ME_Level</th><th scope=col>Sample</th><th scope=col>phase1</th><th scope=col>phase2</th></tr>\n",
       "\t<tr><th scope=col>&lt;dbl&gt;</th><th scope=col>&lt;chr&gt;</th><th scope=col>&lt;chr&gt;</th><th scope=col>&lt;chr&gt;</th></tr>\n",
       "</thead>\n",
       "<tbody>\n",
       "\t<tr><td> 9.45</td><td>CC</td><td>control</td><td>control</td></tr>\n",
       "\t<tr><td>10.49</td><td>HC</td><td>hypoxia</td><td>control</td></tr>\n",
       "\t<tr><td>10.22</td><td>HH</td><td>hypoxia</td><td>hypoxia</td></tr>\n",
       "\t<tr><td> 9.27</td><td>CH</td><td>control</td><td>hypoxia</td></tr>\n",
       "</tbody>\n",
       "</table>\n"
      ],
      "text/latex": [
       "A data.frame: 4 × 4\n",
       "\\begin{tabular}{llll}\n",
       " ME\\_Level & Sample & phase1 & phase2\\\\\n",
       " <dbl> & <chr> & <chr> & <chr>\\\\\n",
       "\\hline\n",
       "\t  9.45 & CC & control & control\\\\\n",
       "\t 10.49 & HC & hypoxia & control\\\\\n",
       "\t 10.22 & HH & hypoxia & hypoxia\\\\\n",
       "\t  9.27 & CH & control & hypoxia\\\\\n",
       "\\end{tabular}\n"
      ],
      "text/markdown": [
       "\n",
       "A data.frame: 4 × 4\n",
       "\n",
       "| ME_Level &lt;dbl&gt; | Sample &lt;chr&gt; | phase1 &lt;chr&gt; | phase2 &lt;chr&gt; |\n",
       "|---|---|---|---|\n",
       "|  9.45 | CC | control | control |\n",
       "| 10.49 | HC | hypoxia | control |\n",
       "| 10.22 | HH | hypoxia | hypoxia |\n",
       "|  9.27 | CH | control | hypoxia |\n",
       "\n"
      ],
      "text/plain": [
       "  ME_Level Sample phase1  phase2 \n",
       "1  9.45    CC     control control\n",
       "2 10.49    HC     hypoxia control\n",
       "3 10.22    HH     hypoxia hypoxia\n",
       "4  9.27    CH     control hypoxia"
      ]
     },
     "metadata": {},
     "output_type": "display_data"
    }
   ],
   "source": [
    "exon_df"
   ]
  },
  {
   "cell_type": "markdown",
   "id": "46a5b591-edb4-447b-a5fa-b8ddc72fe735",
   "metadata": {},
   "source": [
    "#### methylation level of introns"
   ]
  },
  {
   "cell_type": "code",
   "execution_count": null,
   "id": "aed53875-22de-4edc-83fc-fbecad0433f8",
   "metadata": {},
   "outputs": [],
   "source": [
    "# hypoxic control files\n",
    "HC_files=(\"2018--BBB-WBO-B21-CV_sorted.bam\" \"2018--BBB-WBV-B70-CV_sorted.bam\" \"2018--BBO-WBO-B16-CV_sorted.bam\" \"2018--BBO-WBV-B64-CV_sorted.bam\" \"2018--BBY-WBG-B42-CV_sorted.bam\")\n",
    "\n",
    "bedtools multicov -bams \"${HC_files[@]}\" -bed $intron_bed > ${output_dir}HC_multicov_intron.csv"
   ]
  },
  {
   "cell_type": "code",
   "execution_count": null,
   "id": "80cac72a-f077-4786-9c65-8913a765f31c",
   "metadata": {},
   "outputs": [],
   "source": [
    "# control hypoxic files\n",
    "CH_files=(\"2018--WBG-BBB-W56-CV_sorted.bam\" \"2018--WBO-BBR-W03-CV_sorted.bam\" \"2018--WBR-BBY-W25-CV_sorted.bam\" \"2018--WBY-BBV-W65-CV_sorted.bam\" \"2018--WBY-BBY-W30-CV_sorted.bam\")\n",
    "\n",
    "bedtools multicov -bams \"${CH_files[@]}\" -bed $intron_bed > ${output_dir}CH_multicov_intron.csv"
   ]
  },
  {
   "cell_type": "code",
   "execution_count": null,
   "id": "e1925c84-588d-4eb7-9226-9d057b127472",
   "metadata": {},
   "outputs": [],
   "source": [
    "# hypoxic hypoxic files\n",
    "HH_files=(\"2018--BBO-BBO-B16-CV_sorted.bam\" \"2018--BBO-BBY-B27-CV_sorted.bam\" \"2018--BBR-BBB-B50-CV_sorted.bam\" \"2018--BBR-BBG-B38-CV_sorted.bam\" \"2018--BBR-BBY-B26-CV_sorted.bam\")\n",
    "\n",
    "bedtools multicov -bams \"${HH_files[@]}\" -bed $intron_bed > ${output_dir}HH_multicov_intron.csv"
   ]
  },
  {
   "cell_type": "code",
   "execution_count": null,
   "id": "bdb83fec-5a67-46af-aa2f-e0690a939ec7",
   "metadata": {},
   "outputs": [],
   "source": [
    "# control control files\n",
    "CC_files=(\"2018--WBB-WBV-W69-CV_sorted.bam\" \"2018--WBG-WBG-W44-CV_sorted.bam\" \"2018--WBO-WBV-W64-CV_sorted.bam\" \"2018--WBV-WBO-W23-CV_sorted.bam\" \"2018--WBV-WBR-W12-CV_sorted.bam\")\n",
    "\n",
    "bedtools multicov -bams \"${CC_files[@]}\" -bed $intron_bed > ${output_dir}CC_multicov_intron.csv"
   ]
  },
  {
   "cell_type": "markdown",
   "id": "f9f120dd-4a95-45bc-8504-974424739755",
   "metadata": {},
   "source": [
    "#### methylation level of introns"
   ]
  },
  {
   "cell_type": "code",
   "execution_count": 7,
   "id": "adaf667b-7c2f-4d03-8161-d290e526fc88",
   "metadata": {},
   "outputs": [],
   "source": [
    "CC_intron <- read.csv(\"/project/pi_sarah_gignouxwolfsohn_uml_edu/julia/CE_methyl_assembly/assembly_pipeline_files/genomic_bed_files/CpG_multicov/CC_multicov_intron.csv\", sep='\\t')\n",
    "CH_intron <- read.csv(\"/project/pi_sarah_gignouxwolfsohn_uml_edu/julia/CE_methyl_assembly/assembly_pipeline_files/genomic_bed_files/CpG_multicov/CH_multicov_intron.csv\", sep='\\t')\n",
    "HC_intron <- read.csv(\"/project/pi_sarah_gignouxwolfsohn_uml_edu/julia/CE_methyl_assembly/assembly_pipeline_files/genomic_bed_files/CpG_multicov/HC_multicov_intron.csv\", sep='\\t')\n",
    "HH_intron <- read.csv(\"/project/pi_sarah_gignouxwolfsohn_uml_edu/julia/CE_methyl_assembly/assembly_pipeline_files/genomic_bed_files/CpG_multicov/HH_multicov_intron.csv\", sep='\\t')"
   ]
  },
  {
   "cell_type": "code",
   "execution_count": 8,
   "id": "fdfde299-4cfc-40ed-8632-d3dd2c5365df",
   "metadata": {},
   "outputs": [
    {
     "name": "stdout",
     "output_type": "stream",
     "text": [
      "[1] \"12549 methylated introns and 311167 total intons\"\n",
      "[1] \"intron methylation level of CC: 4.03288266429281\"\n"
     ]
    }
   ],
   "source": [
    "# CONTROL CONTROL\n",
    "\n",
    "# Calculate average counts of last 5 columns\n",
    "CC_intron$avg_counts <- rowMeans(CC_intron[, tail(names(CC_intron), 5)])\n",
    "\n",
    "# Remove rows with averages below 5\n",
    "CC_filtered <- CC_intron[CC_intron$avg_counts >= 5, ]\n",
    "\n",
    "# Remove temporary average column\n",
    "CC_filtered$avg_counts <- NULL\n",
    "\n",
    "CCmethyl_intron <- dim(CC_filtered)[1]\n",
    "total_intron <- dim(CC_intron)[1]\n",
    "CC_level_intron <- round((CCmethyl_intron/total_intron)*100, 2)\n",
    "\n",
    "print(paste(CCmethyl_intron, \"methylated introns and\", total_intron, \"total intons\"))\n",
    "print(paste(\"intron methylation level of CC:\", (CCmethyl_intron)/(total_intron)*100))"
   ]
  },
  {
   "cell_type": "code",
   "execution_count": 9,
   "id": "6d2c73f2-afe3-437a-89b5-d6a5622c54a1",
   "metadata": {},
   "outputs": [
    {
     "name": "stdout",
     "output_type": "stream",
     "text": [
      "[1] \"12560 methylated introns and 311167 total introns\"\n",
      "[1] \"intron methylation level of CH: 4.03641774352679\"\n"
     ]
    }
   ],
   "source": [
    "# CONTROL HYPOXIC\n",
    "\n",
    "# Calculate average counts of last 5 columns\n",
    "CH_intron$avg_counts <- rowMeans(CH_intron[, tail(names(CH_intron), 5)])\n",
    "\n",
    "# Remove rows with averages below 5\n",
    "CH_filtered <- CH_intron[CH_intron$avg_counts >= 5, ]\n",
    "\n",
    "# Remove temporary average column\n",
    "CH_filtered$avg_counts <- NULL\n",
    "\n",
    "CHmethyl_intron <- dim(CH_filtered)[1]\n",
    "total_intron <- dim(CH_intron)[1]\n",
    "CH_level_intron <- round((CHmethyl_intron/total_intron)*100, 2)\n",
    "\n",
    "print(paste(CHmethyl_intron, \"methylated introns and\", total_intron, \"total introns\"))\n",
    "print(paste(\"intron methylation level of CH:\", (CHmethyl_intron)/(total_intron)*100))"
   ]
  },
  {
   "cell_type": "code",
   "execution_count": 10,
   "id": "dbbde907-e9e7-47a2-9934-df95756c0fb3",
   "metadata": {},
   "outputs": [
    {
     "name": "stdout",
     "output_type": "stream",
     "text": [
      "[1] \"14738 methylated introns and 311167 total introns\"\n",
      "[1] \"intron methylation level of HH: 4.73636343185492\"\n"
     ]
    }
   ],
   "source": [
    "# HYPOXIC HYPOXIC\n",
    "\n",
    "# Calculate average counts of last 5 columns\n",
    "HH_intron$avg_counts <- rowMeans(HH_intron[, tail(names(HH_intron), 5)])\n",
    "\n",
    "# Remove rows with averages below 5\n",
    "HH_filtered <- HH_intron[HH_intron$avg_counts >= 5, ]\n",
    "\n",
    "# Remove temporary average column\n",
    "HH_filtered$avg_counts <- NULL\n",
    "\n",
    "HHmethyl_intron <- dim(HH_filtered)[1]\n",
    "total_intron <- dim(HH_intron)[1]\n",
    "HH_level_intron <- round((HHmethyl_intron/total_intron)*100, 2)\n",
    "\n",
    "print(paste(HHmethyl_intron, \"methylated introns and\", total_intron, \"total introns\"))\n",
    "print(paste(\"intron methylation level of HH:\", (HHmethyl_intron)/(total_intron)*100))"
   ]
  },
  {
   "cell_type": "code",
   "execution_count": 11,
   "id": "a74c10e2-3e68-456a-a750-c00712244045",
   "metadata": {},
   "outputs": [
    {
     "name": "stdout",
     "output_type": "stream",
     "text": [
      "[1] \"15900 methylated introns and 311167 total introns\"\n",
      "[1] \"intron methylation level of HC: 5.10979634729904\"\n"
     ]
    }
   ],
   "source": [
    "# HYPOXIC CONTROL\n",
    "\n",
    "# Calculate average counts of last 5 columns\n",
    "HC_intron$avg_counts <- rowMeans(HC_intron[, tail(names(HC_intron), 5)])\n",
    "\n",
    "# Remove rows with averages below 5\n",
    "HC_filtered <- HC_intron[HC_intron$avg_counts >= 5, ]\n",
    "\n",
    "# Remove temporary average column\n",
    "HC_filtered$avg_counts <- NULL\n",
    "\n",
    "HCmethyl_intron <- dim(HC_filtered)[1]\n",
    "total_intron <- dim(HC_intron)[1]\n",
    "HC_level_intron <- round((HCmethyl_intron/total_intron)*100, 2)\n",
    "\n",
    "print(paste(HCmethyl_intron, \"methylated introns and\", total_intron, \"total introns\"))\n",
    "print(paste(\"intron methylation level of HC:\", (HCmethyl_intron)/(total_intron)*100))"
   ]
  },
  {
   "cell_type": "code",
   "execution_count": 12,
   "id": "f9d25272-ce24-4c58-adb6-896a61775580",
   "metadata": {},
   "outputs": [
    {
     "data": {
      "text/html": [
       "<table class=\"dataframe\">\n",
       "<caption>A tibble: 1 × 4</caption>\n",
       "<thead>\n",
       "\t<tr><th scope=col>CC</th><th scope=col>HC</th><th scope=col>HH</th><th scope=col>CH</th></tr>\n",
       "\t<tr><th scope=col>&lt;dbl&gt;</th><th scope=col>&lt;dbl&gt;</th><th scope=col>&lt;dbl&gt;</th><th scope=col>&lt;dbl&gt;</th></tr>\n",
       "</thead>\n",
       "<tbody>\n",
       "\t<tr><td>4.03</td><td>5.11</td><td>4.74</td><td>4.04</td></tr>\n",
       "</tbody>\n",
       "</table>\n"
      ],
      "text/latex": [
       "A tibble: 1 × 4\n",
       "\\begin{tabular}{llll}\n",
       " CC & HC & HH & CH\\\\\n",
       " <dbl> & <dbl> & <dbl> & <dbl>\\\\\n",
       "\\hline\n",
       "\t 4.03 & 5.11 & 4.74 & 4.04\\\\\n",
       "\\end{tabular}\n"
      ],
      "text/markdown": [
       "\n",
       "A tibble: 1 × 4\n",
       "\n",
       "| CC &lt;dbl&gt; | HC &lt;dbl&gt; | HH &lt;dbl&gt; | CH &lt;dbl&gt; |\n",
       "|---|---|---|---|\n",
       "| 4.03 | 5.11 | 4.74 | 4.04 |\n",
       "\n"
      ],
      "text/plain": [
       "  CC   HC   HH   CH  \n",
       "1 4.03 5.11 4.74 4.04"
      ]
     },
     "metadata": {},
     "output_type": "display_data"
    }
   ],
   "source": [
    "intron_me_level <- tibble(CC = CC_level_intron, HC = HC_level_intron, HH = HH_level_intron, CH = CH_level_intron)\n",
    "intron_me_level"
   ]
  },
  {
   "cell_type": "code",
   "execution_count": 13,
   "id": "e75189d7-d74e-41c6-8333-0f7442a01406",
   "metadata": {},
   "outputs": [
    {
     "data": {
      "text/html": [
       "<table class=\"dataframe\">\n",
       "<caption>A data.frame: 4 × 2</caption>\n",
       "<thead>\n",
       "\t<tr><th scope=col>ME_Level</th><th scope=col>Sample</th></tr>\n",
       "\t<tr><th scope=col>&lt;dbl&gt;</th><th scope=col>&lt;chr&gt;</th></tr>\n",
       "</thead>\n",
       "<tbody>\n",
       "\t<tr><td>4.03</td><td>CC</td></tr>\n",
       "\t<tr><td>5.11</td><td>HC</td></tr>\n",
       "\t<tr><td>4.74</td><td>HH</td></tr>\n",
       "\t<tr><td>4.04</td><td>CH</td></tr>\n",
       "</tbody>\n",
       "</table>\n"
      ],
      "text/latex": [
       "A data.frame: 4 × 2\n",
       "\\begin{tabular}{ll}\n",
       " ME\\_Level & Sample\\\\\n",
       " <dbl> & <chr>\\\\\n",
       "\\hline\n",
       "\t 4.03 & CC\\\\\n",
       "\t 5.11 & HC\\\\\n",
       "\t 4.74 & HH\\\\\n",
       "\t 4.04 & CH\\\\\n",
       "\\end{tabular}\n"
      ],
      "text/markdown": [
       "\n",
       "A data.frame: 4 × 2\n",
       "\n",
       "| ME_Level &lt;dbl&gt; | Sample &lt;chr&gt; |\n",
       "|---|---|\n",
       "| 4.03 | CC |\n",
       "| 5.11 | HC |\n",
       "| 4.74 | HH |\n",
       "| 4.04 | CH |\n",
       "\n"
      ],
      "text/plain": [
       "  ME_Level Sample\n",
       "1 4.03     CC    \n",
       "2 5.11     HC    \n",
       "3 4.74     HH    \n",
       "4 4.04     CH    "
      ]
     },
     "metadata": {},
     "output_type": "display_data"
    }
   ],
   "source": [
    "intron_df <- intron_me_level %>% \n",
    "  t() %>% \n",
    "  as.data.frame() %>% \n",
    "  setNames(c(\"ME_Level\")) %>%  # rename the single column\n",
    "  mutate(Sample = rownames(.)) %>%  # add Sample column\n",
    "  `rownames<-`(NULL)  # remove row names\n",
    "\n",
    "intron_df"
   ]
  },
  {
   "cell_type": "code",
   "execution_count": 15,
   "id": "ba40d0c3-cc13-4d05-9cbb-e219dc490bc5",
   "metadata": {},
   "outputs": [
    {
     "name": "stderr",
     "output_type": "stream",
     "text": [
      "Warning message:\n",
      "“\u001b[1m\u001b[22mUsing `size` aesthetic for lines was deprecated in ggplot2 3.4.0.\n",
      "\u001b[36mℹ\u001b[39m Please use `linewidth` instead.”\n"
     ]
    },
    {
     "data": {
      "image/png": "[encoded data removed]",
      "text/plain": [
       "plot without title"
      ]
     },
     "metadata": {
      "image/png": {
       "height": 420,
       "width": 420
      }
     },
     "output_type": "display_data"
    }
   ],
   "source": [
    "ggplot(intron_df, aes(x = Sample, y = ME_Level, fill = Sample)) +\n",
    "  geom_bar(stat = \"identity\") +\n",
    "geom_col(color = \"black\", size = 0.25) +\n",
    " scale_fill_brewer(palette = \"RdPu\", direction = 1) +\n",
    "  labs(title = \"Intron Methylation Level\", x = \"Treatment\", y = \"% methylation\") +\n",
    "  theme_classic()"
   ]
  },
  {
   "cell_type": "markdown",
   "id": "6262a6fd-bb9e-4889-8e51-432c76c01d48",
   "metadata": {},
   "source": [
    "# CG motif"
   ]
  },
  {
   "cell_type": "code",
   "execution_count": 20,
   "id": "0aeb2ff0-e8b4-491a-8dd4-9c1faf3e13f0",
   "metadata": {},
   "outputs": [
    {
     "data": {
      "text/html": [
       "<style>\n",
       ".list-inline {list-style: none; margin:0; padding: 0}\n",
       ".list-inline>li {display: inline-block}\n",
       ".list-inline>li:not(:last-child)::after {content: \"\\00b7\"; padding: 0 .5ex}\n",
       "</style>\n",
       "<ol class=list-inline><li>14458702</li><li>24</li></ol>\n"
      ],
      "text/latex": [
       "\\begin{enumerate*}\n",
       "\\item 14458702\n",
       "\\item 24\n",
       "\\end{enumerate*}\n"
      ],
      "text/markdown": [
       "1. 14458702\n",
       "2. 24\n",
       "\n",
       "\n"
      ],
      "text/plain": [
       "[1] 14458702       24"
      ]
     },
     "metadata": {},
     "output_type": "display_data"
    },
    {
     "data": {
      "text/html": [
       "<table class=\"dataframe\">\n",
       "<caption>A data.frame: 6 × 24</caption>\n",
       "<thead>\n",
       "\t<tr><th></th><th scope=col>NC_035780.1</th><th scope=col>X28</th><th scope=col>X30</th><th scope=col>CG_motif</th><th scope=col>X0</th><th scope=col>X0.1</th><th scope=col>X0.2</th><th scope=col>X0.3</th><th scope=col>X0.4</th><th scope=col>X0.5</th><th scope=col>⋯</th><th scope=col>X0.10</th><th scope=col>X0.11</th><th scope=col>X0.12</th><th scope=col>X0.13</th><th scope=col>X0.14</th><th scope=col>X0.15</th><th scope=col>X0.16</th><th scope=col>X0.17</th><th scope=col>X0.18</th><th scope=col>X0.19</th></tr>\n",
       "\t<tr><th></th><th scope=col>&lt;chr&gt;</th><th scope=col>&lt;int&gt;</th><th scope=col>&lt;int&gt;</th><th scope=col>&lt;chr&gt;</th><th scope=col>&lt;int&gt;</th><th scope=col>&lt;int&gt;</th><th scope=col>&lt;int&gt;</th><th scope=col>&lt;int&gt;</th><th scope=col>&lt;int&gt;</th><th scope=col>&lt;int&gt;</th><th scope=col>⋯</th><th scope=col>&lt;int&gt;</th><th scope=col>&lt;int&gt;</th><th scope=col>&lt;int&gt;</th><th scope=col>&lt;int&gt;</th><th scope=col>&lt;int&gt;</th><th scope=col>&lt;int&gt;</th><th scope=col>&lt;int&gt;</th><th scope=col>&lt;int&gt;</th><th scope=col>&lt;int&gt;</th><th scope=col>&lt;int&gt;</th></tr>\n",
       "</thead>\n",
       "<tbody>\n",
       "\t<tr><th scope=row>1</th><td>NC_035780.1</td><td> 54</td><td> 56</td><td>CG_motif</td><td>0</td><td>0</td><td>0</td><td>0</td><td>0</td><td>0</td><td>⋯</td><td>0</td><td>0</td><td>0</td><td>0</td><td>0</td><td>0</td><td>0</td><td>0</td><td>0</td><td>0</td></tr>\n",
       "\t<tr><th scope=row>2</th><td>NC_035780.1</td><td> 75</td><td> 77</td><td>CG_motif</td><td>0</td><td>0</td><td>0</td><td>0</td><td>0</td><td>0</td><td>⋯</td><td>0</td><td>0</td><td>0</td><td>0</td><td>0</td><td>0</td><td>0</td><td>0</td><td>0</td><td>0</td></tr>\n",
       "\t<tr><th scope=row>3</th><td>NC_035780.1</td><td> 93</td><td> 95</td><td>CG_motif</td><td>0</td><td>0</td><td>0</td><td>0</td><td>0</td><td>0</td><td>⋯</td><td>0</td><td>0</td><td>0</td><td>0</td><td>0</td><td>0</td><td>0</td><td>0</td><td>0</td><td>0</td></tr>\n",
       "\t<tr><th scope=row>4</th><td>NC_035780.1</td><td>103</td><td>105</td><td>CG_motif</td><td>0</td><td>0</td><td>0</td><td>0</td><td>0</td><td>0</td><td>⋯</td><td>0</td><td>0</td><td>0</td><td>0</td><td>0</td><td>0</td><td>0</td><td>0</td><td>0</td><td>0</td></tr>\n",
       "\t<tr><th scope=row>5</th><td>NC_035780.1</td><td>116</td><td>118</td><td>CG_motif</td><td>0</td><td>0</td><td>0</td><td>0</td><td>0</td><td>0</td><td>⋯</td><td>0</td><td>0</td><td>0</td><td>0</td><td>0</td><td>0</td><td>0</td><td>0</td><td>0</td><td>0</td></tr>\n",
       "\t<tr><th scope=row>6</th><td>NC_035780.1</td><td>134</td><td>136</td><td>CG_motif</td><td>0</td><td>0</td><td>0</td><td>0</td><td>0</td><td>0</td><td>⋯</td><td>0</td><td>0</td><td>0</td><td>0</td><td>0</td><td>0</td><td>0</td><td>0</td><td>0</td><td>0</td></tr>\n",
       "</tbody>\n",
       "</table>\n"
      ],
      "text/latex": [
       "A data.frame: 6 × 24\n",
       "\\begin{tabular}{r|lllllllllllllllllllll}\n",
       "  & NC\\_035780.1 & X28 & X30 & CG\\_motif & X0 & X0.1 & X0.2 & X0.3 & X0.4 & X0.5 & ⋯ & X0.10 & X0.11 & X0.12 & X0.13 & X0.14 & X0.15 & X0.16 & X0.17 & X0.18 & X0.19\\\\\n",
       "  & <chr> & <int> & <int> & <chr> & <int> & <int> & <int> & <int> & <int> & <int> & ⋯ & <int> & <int> & <int> & <int> & <int> & <int> & <int> & <int> & <int> & <int>\\\\\n",
       "\\hline\n",
       "\t1 & NC\\_035780.1 &  54 &  56 & CG\\_motif & 0 & 0 & 0 & 0 & 0 & 0 & ⋯ & 0 & 0 & 0 & 0 & 0 & 0 & 0 & 0 & 0 & 0\\\\\n",
       "\t2 & NC\\_035780.1 &  75 &  77 & CG\\_motif & 0 & 0 & 0 & 0 & 0 & 0 & ⋯ & 0 & 0 & 0 & 0 & 0 & 0 & 0 & 0 & 0 & 0\\\\\n",
       "\t3 & NC\\_035780.1 &  93 &  95 & CG\\_motif & 0 & 0 & 0 & 0 & 0 & 0 & ⋯ & 0 & 0 & 0 & 0 & 0 & 0 & 0 & 0 & 0 & 0\\\\\n",
       "\t4 & NC\\_035780.1 & 103 & 105 & CG\\_motif & 0 & 0 & 0 & 0 & 0 & 0 & ⋯ & 0 & 0 & 0 & 0 & 0 & 0 & 0 & 0 & 0 & 0\\\\\n",
       "\t5 & NC\\_035780.1 & 116 & 118 & CG\\_motif & 0 & 0 & 0 & 0 & 0 & 0 & ⋯ & 0 & 0 & 0 & 0 & 0 & 0 & 0 & 0 & 0 & 0\\\\\n",
       "\t6 & NC\\_035780.1 & 134 & 136 & CG\\_motif & 0 & 0 & 0 & 0 & 0 & 0 & ⋯ & 0 & 0 & 0 & 0 & 0 & 0 & 0 & 0 & 0 & 0\\\\\n",
       "\\end{tabular}\n"
      ],
      "text/markdown": [
       "\n",
       "A data.frame: 6 × 24\n",
       "\n",
       "| <!--/--> | NC_035780.1 &lt;chr&gt; | X28 &lt;int&gt; | X30 &lt;int&gt; | CG_motif &lt;chr&gt; | X0 &lt;int&gt; | X0.1 &lt;int&gt; | X0.2 &lt;int&gt; | X0.3 &lt;int&gt; | X0.4 &lt;int&gt; | X0.5 &lt;int&gt; | ⋯ ⋯ | X0.10 &lt;int&gt; | X0.11 &lt;int&gt; | X0.12 &lt;int&gt; | X0.13 &lt;int&gt; | X0.14 &lt;int&gt; | X0.15 &lt;int&gt; | X0.16 &lt;int&gt; | X0.17 &lt;int&gt; | X0.18 &lt;int&gt; | X0.19 &lt;int&gt; |\n",
       "|---|---|---|---|---|---|---|---|---|---|---|---|---|---|---|---|---|---|---|---|---|---|\n",
       "| 1 | NC_035780.1 |  54 |  56 | CG_motif | 0 | 0 | 0 | 0 | 0 | 0 | ⋯ | 0 | 0 | 0 | 0 | 0 | 0 | 0 | 0 | 0 | 0 |\n",
       "| 2 | NC_035780.1 |  75 |  77 | CG_motif | 0 | 0 | 0 | 0 | 0 | 0 | ⋯ | 0 | 0 | 0 | 0 | 0 | 0 | 0 | 0 | 0 | 0 |\n",
       "| 3 | NC_035780.1 |  93 |  95 | CG_motif | 0 | 0 | 0 | 0 | 0 | 0 | ⋯ | 0 | 0 | 0 | 0 | 0 | 0 | 0 | 0 | 0 | 0 |\n",
       "| 4 | NC_035780.1 | 103 | 105 | CG_motif | 0 | 0 | 0 | 0 | 0 | 0 | ⋯ | 0 | 0 | 0 | 0 | 0 | 0 | 0 | 0 | 0 | 0 |\n",
       "| 5 | NC_035780.1 | 116 | 118 | CG_motif | 0 | 0 | 0 | 0 | 0 | 0 | ⋯ | 0 | 0 | 0 | 0 | 0 | 0 | 0 | 0 | 0 | 0 |\n",
       "| 6 | NC_035780.1 | 134 | 136 | CG_motif | 0 | 0 | 0 | 0 | 0 | 0 | ⋯ | 0 | 0 | 0 | 0 | 0 | 0 | 0 | 0 | 0 | 0 |\n",
       "\n"
      ],
      "text/plain": [
       "  NC_035780.1 X28 X30 CG_motif X0 X0.1 X0.2 X0.3 X0.4 X0.5 ⋯ X0.10 X0.11 X0.12\n",
       "1 NC_035780.1  54  56 CG_motif 0  0    0    0    0    0    ⋯ 0     0     0    \n",
       "2 NC_035780.1  75  77 CG_motif 0  0    0    0    0    0    ⋯ 0     0     0    \n",
       "3 NC_035780.1  93  95 CG_motif 0  0    0    0    0    0    ⋯ 0     0     0    \n",
       "4 NC_035780.1 103 105 CG_motif 0  0    0    0    0    0    ⋯ 0     0     0    \n",
       "5 NC_035780.1 116 118 CG_motif 0  0    0    0    0    0    ⋯ 0     0     0    \n",
       "6 NC_035780.1 134 136 CG_motif 0  0    0    0    0    0    ⋯ 0     0     0    \n",
       "  X0.13 X0.14 X0.15 X0.16 X0.17 X0.18 X0.19\n",
       "1 0     0     0     0     0     0     0    \n",
       "2 0     0     0     0     0     0     0    \n",
       "3 0     0     0     0     0     0     0    \n",
       "4 0     0     0     0     0     0     0    \n",
       "5 0     0     0     0     0     0     0    \n",
       "6 0     0     0     0     0     0     0    "
      ]
     },
     "metadata": {},
     "output_type": "display_data"
    }
   ],
   "source": [
    "CG_multicov <- read.csv('/project/pi_sarah_gignouxwolfsohn_uml_edu/julia/CE_MethylRAD_analysis_2018/analysis/counts_and_meta/genomic_features/CG_motif_multicov.csv', sep='\\t')\n",
    "dim(CG_multicov)\n",
    "head(CG_multicov)"
   ]
  },
  {
   "cell_type": "code",
   "execution_count": 21,
   "id": "f7f58f9e-23ce-49ff-866f-8efcb76bca35",
   "metadata": {},
   "outputs": [
    {
     "data": {
      "text/html": [
       "<style>\n",
       ".list-inline {list-style: none; margin:0; padding: 0}\n",
       ".list-inline>li {display: inline-block}\n",
       ".list-inline>li:not(:last-child)::after {content: \"\\00b7\"; padding: 0 .5ex}\n",
       "</style>\n",
       "<ol class=list-inline><li>'2018--BBB-WBO-B21-CV_sorted.bam'</li><li>'2018--BBB-WBV-B70-CV_sorted.bam'</li><li>'2018--BBO-BBO-B16-CV_sorted.bam'</li><li>'2018--BBO-BBY-B27-CV_sorted.bam'</li><li>'2018--BBO-WBO-B16-CV_sorted.bam'</li><li>'2018--BBO-WBV-B64-CV_sorted.bam'</li><li>'2018--BBR-BBB-B50-CV_sorted.bam'</li><li>'2018--BBR-BBG-B38-CV_sorted.bam'</li><li>'2018--BBR-BBY-B26-CV_sorted.bam'</li><li>'2018--BBY-WBG-B42-CV_sorted.bam'</li><li>'2018--WBB-WBV-W69-CV_sorted.bam'</li><li>'2018--WBG-BBB-W56-CV_sorted.bam'</li><li>'2018--WBG-WBG-W44-CV_sorted.bam'</li><li>'2018--WBO-BBR-W03-CV_sorted.bam'</li><li>'2018--WBO-WBV-W64-CV_sorted.bam'</li><li>'2018--WBR-BBY-W25-CV_sorted.bam'</li><li>'2018--WBV-WBO-W23-CV_sorted.bam'</li><li>'2018--WBV-WBR-W12-CV_sorted.bam'</li><li>'2018--WBY-BBV-W65-CV_sorted.bam'</li><li>'2018--WBY-BBY-W30-CV_sorted.bam'</li></ol>\n"
      ],
      "text/latex": [
       "\\begin{enumerate*}\n",
       "\\item '2018--BBB-WBO-B21-CV\\_sorted.bam'\n",
       "\\item '2018--BBB-WBV-B70-CV\\_sorted.bam'\n",
       "\\item '2018--BBO-BBO-B16-CV\\_sorted.bam'\n",
       "\\item '2018--BBO-BBY-B27-CV\\_sorted.bam'\n",
       "\\item '2018--BBO-WBO-B16-CV\\_sorted.bam'\n",
       "\\item '2018--BBO-WBV-B64-CV\\_sorted.bam'\n",
       "\\item '2018--BBR-BBB-B50-CV\\_sorted.bam'\n",
       "\\item '2018--BBR-BBG-B38-CV\\_sorted.bam'\n",
       "\\item '2018--BBR-BBY-B26-CV\\_sorted.bam'\n",
       "\\item '2018--BBY-WBG-B42-CV\\_sorted.bam'\n",
       "\\item '2018--WBB-WBV-W69-CV\\_sorted.bam'\n",
       "\\item '2018--WBG-BBB-W56-CV\\_sorted.bam'\n",
       "\\item '2018--WBG-WBG-W44-CV\\_sorted.bam'\n",
       "\\item '2018--WBO-BBR-W03-CV\\_sorted.bam'\n",
       "\\item '2018--WBO-WBV-W64-CV\\_sorted.bam'\n",
       "\\item '2018--WBR-BBY-W25-CV\\_sorted.bam'\n",
       "\\item '2018--WBV-WBO-W23-CV\\_sorted.bam'\n",
       "\\item '2018--WBV-WBR-W12-CV\\_sorted.bam'\n",
       "\\item '2018--WBY-BBV-W65-CV\\_sorted.bam'\n",
       "\\item '2018--WBY-BBY-W30-CV\\_sorted.bam'\n",
       "\\end{enumerate*}\n"
      ],
      "text/markdown": [
       "1. '2018--BBB-WBO-B21-CV_sorted.bam'\n",
       "2. '2018--BBB-WBV-B70-CV_sorted.bam'\n",
       "3. '2018--BBO-BBO-B16-CV_sorted.bam'\n",
       "4. '2018--BBO-BBY-B27-CV_sorted.bam'\n",
       "5. '2018--BBO-WBO-B16-CV_sorted.bam'\n",
       "6. '2018--BBO-WBV-B64-CV_sorted.bam'\n",
       "7. '2018--BBR-BBB-B50-CV_sorted.bam'\n",
       "8. '2018--BBR-BBG-B38-CV_sorted.bam'\n",
       "9. '2018--BBR-BBY-B26-CV_sorted.bam'\n",
       "10. '2018--BBY-WBG-B42-CV_sorted.bam'\n",
       "11. '2018--WBB-WBV-W69-CV_sorted.bam'\n",
       "12. '2018--WBG-BBB-W56-CV_sorted.bam'\n",
       "13. '2018--WBG-WBG-W44-CV_sorted.bam'\n",
       "14. '2018--WBO-BBR-W03-CV_sorted.bam'\n",
       "15. '2018--WBO-WBV-W64-CV_sorted.bam'\n",
       "16. '2018--WBR-BBY-W25-CV_sorted.bam'\n",
       "17. '2018--WBV-WBO-W23-CV_sorted.bam'\n",
       "18. '2018--WBV-WBR-W12-CV_sorted.bam'\n",
       "19. '2018--WBY-BBV-W65-CV_sorted.bam'\n",
       "20. '2018--WBY-BBY-W30-CV_sorted.bam'\n",
       "\n",
       "\n"
      ],
      "text/plain": [
       " [1] \"2018--BBB-WBO-B21-CV_sorted.bam\" \"2018--BBB-WBV-B70-CV_sorted.bam\"\n",
       " [3] \"2018--BBO-BBO-B16-CV_sorted.bam\" \"2018--BBO-BBY-B27-CV_sorted.bam\"\n",
       " [5] \"2018--BBO-WBO-B16-CV_sorted.bam\" \"2018--BBO-WBV-B64-CV_sorted.bam\"\n",
       " [7] \"2018--BBR-BBB-B50-CV_sorted.bam\" \"2018--BBR-BBG-B38-CV_sorted.bam\"\n",
       " [9] \"2018--BBR-BBY-B26-CV_sorted.bam\" \"2018--BBY-WBG-B42-CV_sorted.bam\"\n",
       "[11] \"2018--WBB-WBV-W69-CV_sorted.bam\" \"2018--WBG-BBB-W56-CV_sorted.bam\"\n",
       "[13] \"2018--WBG-WBG-W44-CV_sorted.bam\" \"2018--WBO-BBR-W03-CV_sorted.bam\"\n",
       "[15] \"2018--WBO-WBV-W64-CV_sorted.bam\" \"2018--WBR-BBY-W25-CV_sorted.bam\"\n",
       "[17] \"2018--WBV-WBO-W23-CV_sorted.bam\" \"2018--WBV-WBR-W12-CV_sorted.bam\"\n",
       "[19] \"2018--WBY-BBV-W65-CV_sorted.bam\" \"2018--WBY-BBY-W30-CV_sorted.bam\""
      ]
     },
     "metadata": {},
     "output_type": "display_data"
    }
   ],
   "source": [
    "bam_files <- dir(path = \"/project/pi_sarah_gignouxwolfsohn_uml_edu/julia/CE_methyl_assembly/assembly_pipeline_files/BEDtools/working_BAM_sequences/\", pattern = \"^.*\\\\.bam$\", full.names = FALSE, ignore.case = TRUE, all.files = TRUE)\n",
    "bam_files"
   ]
  },
  {
   "cell_type": "code",
   "execution_count": 22,
   "id": "2071b649-9941-4dbc-8213-563c1a6bdc49",
   "metadata": {},
   "outputs": [
    {
     "data": {
      "text/html": [
       "<style>\n",
       ".list-inline {list-style: none; margin:0; padding: 0}\n",
       ".list-inline>li {display: inline-block}\n",
       ".list-inline>li:not(:last-child)::after {content: \"\\00b7\"; padding: 0 .5ex}\n",
       "</style>\n",
       "<ol class=list-inline><li>'BBB-WBO-B21'</li><li>'BBB-WBV-B70'</li><li>'BBO-BBO-B16'</li><li>'BBO-BBY-B27'</li><li>'BBO-WBO-B16'</li><li>'BBO-WBV-B64'</li><li>'BBR-BBB-B50'</li><li>'BBR-BBG-B38'</li><li>'BBR-BBY-B26'</li><li>'BBY-WBG-B42'</li><li>'WBB-WBV-W69'</li><li>'WBG-BBB-W56'</li><li>'WBG-WBG-W44'</li><li>'WBO-BBR-W03'</li><li>'WBO-WBV-W64'</li><li>'WBR-BBY-W25'</li><li>'WBV-WBO-W23'</li><li>'WBV-WBR-W12'</li><li>'WBY-BBV-W65'</li><li>'WBY-BBY-W30'</li></ol>\n"
      ],
      "text/latex": [
       "\\begin{enumerate*}\n",
       "\\item 'BBB-WBO-B21'\n",
       "\\item 'BBB-WBV-B70'\n",
       "\\item 'BBO-BBO-B16'\n",
       "\\item 'BBO-BBY-B27'\n",
       "\\item 'BBO-WBO-B16'\n",
       "\\item 'BBO-WBV-B64'\n",
       "\\item 'BBR-BBB-B50'\n",
       "\\item 'BBR-BBG-B38'\n",
       "\\item 'BBR-BBY-B26'\n",
       "\\item 'BBY-WBG-B42'\n",
       "\\item 'WBB-WBV-W69'\n",
       "\\item 'WBG-BBB-W56'\n",
       "\\item 'WBG-WBG-W44'\n",
       "\\item 'WBO-BBR-W03'\n",
       "\\item 'WBO-WBV-W64'\n",
       "\\item 'WBR-BBY-W25'\n",
       "\\item 'WBV-WBO-W23'\n",
       "\\item 'WBV-WBR-W12'\n",
       "\\item 'WBY-BBV-W65'\n",
       "\\item 'WBY-BBY-W30'\n",
       "\\end{enumerate*}\n"
      ],
      "text/markdown": [
       "1. 'BBB-WBO-B21'\n",
       "2. 'BBB-WBV-B70'\n",
       "3. 'BBO-BBO-B16'\n",
       "4. 'BBO-BBY-B27'\n",
       "5. 'BBO-WBO-B16'\n",
       "6. 'BBO-WBV-B64'\n",
       "7. 'BBR-BBB-B50'\n",
       "8. 'BBR-BBG-B38'\n",
       "9. 'BBR-BBY-B26'\n",
       "10. 'BBY-WBG-B42'\n",
       "11. 'WBB-WBV-W69'\n",
       "12. 'WBG-BBB-W56'\n",
       "13. 'WBG-WBG-W44'\n",
       "14. 'WBO-BBR-W03'\n",
       "15. 'WBO-WBV-W64'\n",
       "16. 'WBR-BBY-W25'\n",
       "17. 'WBV-WBO-W23'\n",
       "18. 'WBV-WBR-W12'\n",
       "19. 'WBY-BBV-W65'\n",
       "20. 'WBY-BBY-W30'\n",
       "\n",
       "\n"
      ],
      "text/plain": [
       " [1] \"BBB-WBO-B21\" \"BBB-WBV-B70\" \"BBO-BBO-B16\" \"BBO-BBY-B27\" \"BBO-WBO-B16\"\n",
       " [6] \"BBO-WBV-B64\" \"BBR-BBB-B50\" \"BBR-BBG-B38\" \"BBR-BBY-B26\" \"BBY-WBG-B42\"\n",
       "[11] \"WBB-WBV-W69\" \"WBG-BBB-W56\" \"WBG-WBG-W44\" \"WBO-BBR-W03\" \"WBO-WBV-W64\"\n",
       "[16] \"WBR-BBY-W25\" \"WBV-WBO-W23\" \"WBV-WBR-W12\" \"WBY-BBV-W65\" \"WBY-BBY-W30\""
      ]
     },
     "metadata": {},
     "output_type": "display_data"
    }
   ],
   "source": [
    "# clean sample names\n",
    "bam_files_clean <- gsub(\"^2018--|-CV_sorted\\\\.bam$\", \"\", bam_files)\n",
    "bam_files_clean"
   ]
  },
  {
   "cell_type": "code",
   "execution_count": 23,
   "id": "9182cbe1-bb57-4bfd-b40e-aee869647976",
   "metadata": {},
   "outputs": [
    {
     "data": {
      "text/html": [
       "<table class=\"dataframe\">\n",
       "<caption>A data.frame: 6 × 24</caption>\n",
       "<thead>\n",
       "\t<tr><th></th><th scope=col>chromosome</th><th scope=col>start</th><th scope=col>stop</th><th scope=col>CG_motif</th><th scope=col>BBB-WBO-B21</th><th scope=col>BBB-WBV-B70</th><th scope=col>BBO-BBO-B16</th><th scope=col>BBO-BBY-B27</th><th scope=col>BBO-WBO-B16</th><th scope=col>BBO-WBV-B64</th><th scope=col>⋯</th><th scope=col>WBB-WBV-W69</th><th scope=col>WBG-BBB-W56</th><th scope=col>WBG-WBG-W44</th><th scope=col>WBO-BBR-W03</th><th scope=col>WBO-WBV-W64</th><th scope=col>WBR-BBY-W25</th><th scope=col>WBV-WBO-W23</th><th scope=col>WBV-WBR-W12</th><th scope=col>WBY-BBV-W65</th><th scope=col>WBY-BBY-W30</th></tr>\n",
       "\t<tr><th></th><th scope=col>&lt;chr&gt;</th><th scope=col>&lt;int&gt;</th><th scope=col>&lt;int&gt;</th><th scope=col>&lt;chr&gt;</th><th scope=col>&lt;int&gt;</th><th scope=col>&lt;int&gt;</th><th scope=col>&lt;int&gt;</th><th scope=col>&lt;int&gt;</th><th scope=col>&lt;int&gt;</th><th scope=col>&lt;int&gt;</th><th scope=col>⋯</th><th scope=col>&lt;int&gt;</th><th scope=col>&lt;int&gt;</th><th scope=col>&lt;int&gt;</th><th scope=col>&lt;int&gt;</th><th scope=col>&lt;int&gt;</th><th scope=col>&lt;int&gt;</th><th scope=col>&lt;int&gt;</th><th scope=col>&lt;int&gt;</th><th scope=col>&lt;int&gt;</th><th scope=col>&lt;int&gt;</th></tr>\n",
       "</thead>\n",
       "<tbody>\n",
       "\t<tr><th scope=row>1</th><td>NC_035780.1</td><td> 54</td><td> 56</td><td>CG_motif</td><td>0</td><td>0</td><td>0</td><td>0</td><td>0</td><td>0</td><td>⋯</td><td>0</td><td>0</td><td>0</td><td>0</td><td>0</td><td>0</td><td>0</td><td>0</td><td>0</td><td>0</td></tr>\n",
       "\t<tr><th scope=row>2</th><td>NC_035780.1</td><td> 75</td><td> 77</td><td>CG_motif</td><td>0</td><td>0</td><td>0</td><td>0</td><td>0</td><td>0</td><td>⋯</td><td>0</td><td>0</td><td>0</td><td>0</td><td>0</td><td>0</td><td>0</td><td>0</td><td>0</td><td>0</td></tr>\n",
       "\t<tr><th scope=row>3</th><td>NC_035780.1</td><td> 93</td><td> 95</td><td>CG_motif</td><td>0</td><td>0</td><td>0</td><td>0</td><td>0</td><td>0</td><td>⋯</td><td>0</td><td>0</td><td>0</td><td>0</td><td>0</td><td>0</td><td>0</td><td>0</td><td>0</td><td>0</td></tr>\n",
       "\t<tr><th scope=row>4</th><td>NC_035780.1</td><td>103</td><td>105</td><td>CG_motif</td><td>0</td><td>0</td><td>0</td><td>0</td><td>0</td><td>0</td><td>⋯</td><td>0</td><td>0</td><td>0</td><td>0</td><td>0</td><td>0</td><td>0</td><td>0</td><td>0</td><td>0</td></tr>\n",
       "\t<tr><th scope=row>5</th><td>NC_035780.1</td><td>116</td><td>118</td><td>CG_motif</td><td>0</td><td>0</td><td>0</td><td>0</td><td>0</td><td>0</td><td>⋯</td><td>0</td><td>0</td><td>0</td><td>0</td><td>0</td><td>0</td><td>0</td><td>0</td><td>0</td><td>0</td></tr>\n",
       "\t<tr><th scope=row>6</th><td>NC_035780.1</td><td>134</td><td>136</td><td>CG_motif</td><td>0</td><td>0</td><td>0</td><td>0</td><td>0</td><td>0</td><td>⋯</td><td>0</td><td>0</td><td>0</td><td>0</td><td>0</td><td>0</td><td>0</td><td>0</td><td>0</td><td>0</td></tr>\n",
       "</tbody>\n",
       "</table>\n"
      ],
      "text/latex": [
       "A data.frame: 6 × 24\n",
       "\\begin{tabular}{r|lllllllllllllllllllll}\n",
       "  & chromosome & start & stop & CG\\_motif & BBB-WBO-B21 & BBB-WBV-B70 & BBO-BBO-B16 & BBO-BBY-B27 & BBO-WBO-B16 & BBO-WBV-B64 & ⋯ & WBB-WBV-W69 & WBG-BBB-W56 & WBG-WBG-W44 & WBO-BBR-W03 & WBO-WBV-W64 & WBR-BBY-W25 & WBV-WBO-W23 & WBV-WBR-W12 & WBY-BBV-W65 & WBY-BBY-W30\\\\\n",
       "  & <chr> & <int> & <int> & <chr> & <int> & <int> & <int> & <int> & <int> & <int> & ⋯ & <int> & <int> & <int> & <int> & <int> & <int> & <int> & <int> & <int> & <int>\\\\\n",
       "\\hline\n",
       "\t1 & NC\\_035780.1 &  54 &  56 & CG\\_motif & 0 & 0 & 0 & 0 & 0 & 0 & ⋯ & 0 & 0 & 0 & 0 & 0 & 0 & 0 & 0 & 0 & 0\\\\\n",
       "\t2 & NC\\_035780.1 &  75 &  77 & CG\\_motif & 0 & 0 & 0 & 0 & 0 & 0 & ⋯ & 0 & 0 & 0 & 0 & 0 & 0 & 0 & 0 & 0 & 0\\\\\n",
       "\t3 & NC\\_035780.1 &  93 &  95 & CG\\_motif & 0 & 0 & 0 & 0 & 0 & 0 & ⋯ & 0 & 0 & 0 & 0 & 0 & 0 & 0 & 0 & 0 & 0\\\\\n",
       "\t4 & NC\\_035780.1 & 103 & 105 & CG\\_motif & 0 & 0 & 0 & 0 & 0 & 0 & ⋯ & 0 & 0 & 0 & 0 & 0 & 0 & 0 & 0 & 0 & 0\\\\\n",
       "\t5 & NC\\_035780.1 & 116 & 118 & CG\\_motif & 0 & 0 & 0 & 0 & 0 & 0 & ⋯ & 0 & 0 & 0 & 0 & 0 & 0 & 0 & 0 & 0 & 0\\\\\n",
       "\t6 & NC\\_035780.1 & 134 & 136 & CG\\_motif & 0 & 0 & 0 & 0 & 0 & 0 & ⋯ & 0 & 0 & 0 & 0 & 0 & 0 & 0 & 0 & 0 & 0\\\\\n",
       "\\end{tabular}\n"
      ],
      "text/markdown": [
       "\n",
       "A data.frame: 6 × 24\n",
       "\n",
       "| <!--/--> | chromosome &lt;chr&gt; | start &lt;int&gt; | stop &lt;int&gt; | CG_motif &lt;chr&gt; | BBB-WBO-B21 &lt;int&gt; | BBB-WBV-B70 &lt;int&gt; | BBO-BBO-B16 &lt;int&gt; | BBO-BBY-B27 &lt;int&gt; | BBO-WBO-B16 &lt;int&gt; | BBO-WBV-B64 &lt;int&gt; | ⋯ ⋯ | WBB-WBV-W69 &lt;int&gt; | WBG-BBB-W56 &lt;int&gt; | WBG-WBG-W44 &lt;int&gt; | WBO-BBR-W03 &lt;int&gt; | WBO-WBV-W64 &lt;int&gt; | WBR-BBY-W25 &lt;int&gt; | WBV-WBO-W23 &lt;int&gt; | WBV-WBR-W12 &lt;int&gt; | WBY-BBV-W65 &lt;int&gt; | WBY-BBY-W30 &lt;int&gt; |\n",
       "|---|---|---|---|---|---|---|---|---|---|---|---|---|---|---|---|---|---|---|---|---|---|\n",
       "| 1 | NC_035780.1 |  54 |  56 | CG_motif | 0 | 0 | 0 | 0 | 0 | 0 | ⋯ | 0 | 0 | 0 | 0 | 0 | 0 | 0 | 0 | 0 | 0 |\n",
       "| 2 | NC_035780.1 |  75 |  77 | CG_motif | 0 | 0 | 0 | 0 | 0 | 0 | ⋯ | 0 | 0 | 0 | 0 | 0 | 0 | 0 | 0 | 0 | 0 |\n",
       "| 3 | NC_035780.1 |  93 |  95 | CG_motif | 0 | 0 | 0 | 0 | 0 | 0 | ⋯ | 0 | 0 | 0 | 0 | 0 | 0 | 0 | 0 | 0 | 0 |\n",
       "| 4 | NC_035780.1 | 103 | 105 | CG_motif | 0 | 0 | 0 | 0 | 0 | 0 | ⋯ | 0 | 0 | 0 | 0 | 0 | 0 | 0 | 0 | 0 | 0 |\n",
       "| 5 | NC_035780.1 | 116 | 118 | CG_motif | 0 | 0 | 0 | 0 | 0 | 0 | ⋯ | 0 | 0 | 0 | 0 | 0 | 0 | 0 | 0 | 0 | 0 |\n",
       "| 6 | NC_035780.1 | 134 | 136 | CG_motif | 0 | 0 | 0 | 0 | 0 | 0 | ⋯ | 0 | 0 | 0 | 0 | 0 | 0 | 0 | 0 | 0 | 0 |\n",
       "\n"
      ],
      "text/plain": [
       "  chromosome  start stop CG_motif BBB-WBO-B21 BBB-WBV-B70 BBO-BBO-B16\n",
       "1 NC_035780.1  54    56  CG_motif 0           0           0          \n",
       "2 NC_035780.1  75    77  CG_motif 0           0           0          \n",
       "3 NC_035780.1  93    95  CG_motif 0           0           0          \n",
       "4 NC_035780.1 103   105  CG_motif 0           0           0          \n",
       "5 NC_035780.1 116   118  CG_motif 0           0           0          \n",
       "6 NC_035780.1 134   136  CG_motif 0           0           0          \n",
       "  BBO-BBY-B27 BBO-WBO-B16 BBO-WBV-B64 ⋯ WBB-WBV-W69 WBG-BBB-W56 WBG-WBG-W44\n",
       "1 0           0           0           ⋯ 0           0           0          \n",
       "2 0           0           0           ⋯ 0           0           0          \n",
       "3 0           0           0           ⋯ 0           0           0          \n",
       "4 0           0           0           ⋯ 0           0           0          \n",
       "5 0           0           0           ⋯ 0           0           0          \n",
       "6 0           0           0           ⋯ 0           0           0          \n",
       "  WBO-BBR-W03 WBO-WBV-W64 WBR-BBY-W25 WBV-WBO-W23 WBV-WBR-W12 WBY-BBV-W65\n",
       "1 0           0           0           0           0           0          \n",
       "2 0           0           0           0           0           0          \n",
       "3 0           0           0           0           0           0          \n",
       "4 0           0           0           0           0           0          \n",
       "5 0           0           0           0           0           0          \n",
       "6 0           0           0           0           0           0          \n",
       "  WBY-BBY-W30\n",
       "1 0          \n",
       "2 0          \n",
       "3 0          \n",
       "4 0          \n",
       "5 0          \n",
       "6 0          "
      ]
     },
     "metadata": {},
     "output_type": "display_data"
    }
   ],
   "source": [
    "colnames(CG_multicov) <- c('chromosome', 'start', 'stop', 'CG_motif', bam_files_clean)\n",
    "head(CG_multicov)"
   ]
  },
  {
   "cell_type": "code",
   "execution_count": 24,
   "id": "bebb43bd-2839-47a7-b317-50fa3365e511",
   "metadata": {},
   "outputs": [
    {
     "data": {
      "text/html": [
       "<table class=\"dataframe\">\n",
       "<caption>A data.frame: 6 × 9</caption>\n",
       "<thead>\n",
       "\t<tr><th></th><th scope=col>chromosome</th><th scope=col>start</th><th scope=col>stop</th><th scope=col>CG_motif</th><th scope=col>BBB-WBO-B21</th><th scope=col>BBB-WBV-B70</th><th scope=col>BBO-WBO-B16</th><th scope=col>BBO-WBV-B64</th><th scope=col>BBY-WBG-B42</th></tr>\n",
       "\t<tr><th></th><th scope=col>&lt;chr&gt;</th><th scope=col>&lt;int&gt;</th><th scope=col>&lt;int&gt;</th><th scope=col>&lt;chr&gt;</th><th scope=col>&lt;int&gt;</th><th scope=col>&lt;int&gt;</th><th scope=col>&lt;int&gt;</th><th scope=col>&lt;int&gt;</th><th scope=col>&lt;int&gt;</th></tr>\n",
       "</thead>\n",
       "<tbody>\n",
       "\t<tr><th scope=row>1</th><td>NC_035780.1</td><td> 54</td><td> 56</td><td>CG_motif</td><td>0</td><td>0</td><td>0</td><td>0</td><td>0</td></tr>\n",
       "\t<tr><th scope=row>2</th><td>NC_035780.1</td><td> 75</td><td> 77</td><td>CG_motif</td><td>0</td><td>0</td><td>0</td><td>0</td><td>0</td></tr>\n",
       "\t<tr><th scope=row>3</th><td>NC_035780.1</td><td> 93</td><td> 95</td><td>CG_motif</td><td>0</td><td>0</td><td>0</td><td>0</td><td>0</td></tr>\n",
       "\t<tr><th scope=row>4</th><td>NC_035780.1</td><td>103</td><td>105</td><td>CG_motif</td><td>0</td><td>0</td><td>0</td><td>0</td><td>0</td></tr>\n",
       "\t<tr><th scope=row>5</th><td>NC_035780.1</td><td>116</td><td>118</td><td>CG_motif</td><td>0</td><td>0</td><td>0</td><td>0</td><td>0</td></tr>\n",
       "\t<tr><th scope=row>6</th><td>NC_035780.1</td><td>134</td><td>136</td><td>CG_motif</td><td>0</td><td>0</td><td>0</td><td>0</td><td>0</td></tr>\n",
       "</tbody>\n",
       "</table>\n"
      ],
      "text/latex": [
       "A data.frame: 6 × 9\n",
       "\\begin{tabular}{r|lllllllll}\n",
       "  & chromosome & start & stop & CG\\_motif & BBB-WBO-B21 & BBB-WBV-B70 & BBO-WBO-B16 & BBO-WBV-B64 & BBY-WBG-B42\\\\\n",
       "  & <chr> & <int> & <int> & <chr> & <int> & <int> & <int> & <int> & <int>\\\\\n",
       "\\hline\n",
       "\t1 & NC\\_035780.1 &  54 &  56 & CG\\_motif & 0 & 0 & 0 & 0 & 0\\\\\n",
       "\t2 & NC\\_035780.1 &  75 &  77 & CG\\_motif & 0 & 0 & 0 & 0 & 0\\\\\n",
       "\t3 & NC\\_035780.1 &  93 &  95 & CG\\_motif & 0 & 0 & 0 & 0 & 0\\\\\n",
       "\t4 & NC\\_035780.1 & 103 & 105 & CG\\_motif & 0 & 0 & 0 & 0 & 0\\\\\n",
       "\t5 & NC\\_035780.1 & 116 & 118 & CG\\_motif & 0 & 0 & 0 & 0 & 0\\\\\n",
       "\t6 & NC\\_035780.1 & 134 & 136 & CG\\_motif & 0 & 0 & 0 & 0 & 0\\\\\n",
       "\\end{tabular}\n"
      ],
      "text/markdown": [
       "\n",
       "A data.frame: 6 × 9\n",
       "\n",
       "| <!--/--> | chromosome &lt;chr&gt; | start &lt;int&gt; | stop &lt;int&gt; | CG_motif &lt;chr&gt; | BBB-WBO-B21 &lt;int&gt; | BBB-WBV-B70 &lt;int&gt; | BBO-WBO-B16 &lt;int&gt; | BBO-WBV-B64 &lt;int&gt; | BBY-WBG-B42 &lt;int&gt; |\n",
       "|---|---|---|---|---|---|---|---|---|---|\n",
       "| 1 | NC_035780.1 |  54 |  56 | CG_motif | 0 | 0 | 0 | 0 | 0 |\n",
       "| 2 | NC_035780.1 |  75 |  77 | CG_motif | 0 | 0 | 0 | 0 | 0 |\n",
       "| 3 | NC_035780.1 |  93 |  95 | CG_motif | 0 | 0 | 0 | 0 | 0 |\n",
       "| 4 | NC_035780.1 | 103 | 105 | CG_motif | 0 | 0 | 0 | 0 | 0 |\n",
       "| 5 | NC_035780.1 | 116 | 118 | CG_motif | 0 | 0 | 0 | 0 | 0 |\n",
       "| 6 | NC_035780.1 | 134 | 136 | CG_motif | 0 | 0 | 0 | 0 | 0 |\n",
       "\n"
      ],
      "text/plain": [
       "  chromosome  start stop CG_motif BBB-WBO-B21 BBB-WBV-B70 BBO-WBO-B16\n",
       "1 NC_035780.1  54    56  CG_motif 0           0           0          \n",
       "2 NC_035780.1  75    77  CG_motif 0           0           0          \n",
       "3 NC_035780.1  93    95  CG_motif 0           0           0          \n",
       "4 NC_035780.1 103   105  CG_motif 0           0           0          \n",
       "5 NC_035780.1 116   118  CG_motif 0           0           0          \n",
       "6 NC_035780.1 134   136  CG_motif 0           0           0          \n",
       "  BBO-WBV-B64 BBY-WBG-B42\n",
       "1 0           0          \n",
       "2 0           0          \n",
       "3 0           0          \n",
       "4 0           0          \n",
       "5 0           0          \n",
       "6 0           0          "
      ]
     },
     "metadata": {},
     "output_type": "display_data"
    },
    {
     "data": {
      "text/html": [
       "<table class=\"dataframe\">\n",
       "<caption>A data.frame: 6 × 9</caption>\n",
       "<thead>\n",
       "\t<tr><th></th><th scope=col>chromosome</th><th scope=col>start</th><th scope=col>stop</th><th scope=col>CG_motif</th><th scope=col>BBO-BBO-B16</th><th scope=col>BBO-BBY-B27</th><th scope=col>BBR-BBB-B50</th><th scope=col>BBR-BBG-B38</th><th scope=col>BBR-BBY-B26</th></tr>\n",
       "\t<tr><th></th><th scope=col>&lt;chr&gt;</th><th scope=col>&lt;int&gt;</th><th scope=col>&lt;int&gt;</th><th scope=col>&lt;chr&gt;</th><th scope=col>&lt;int&gt;</th><th scope=col>&lt;int&gt;</th><th scope=col>&lt;int&gt;</th><th scope=col>&lt;int&gt;</th><th scope=col>&lt;int&gt;</th></tr>\n",
       "</thead>\n",
       "<tbody>\n",
       "\t<tr><th scope=row>1</th><td>NC_035780.1</td><td> 54</td><td> 56</td><td>CG_motif</td><td>0</td><td>0</td><td>0</td><td>0</td><td>0</td></tr>\n",
       "\t<tr><th scope=row>2</th><td>NC_035780.1</td><td> 75</td><td> 77</td><td>CG_motif</td><td>0</td><td>0</td><td>0</td><td>0</td><td>0</td></tr>\n",
       "\t<tr><th scope=row>3</th><td>NC_035780.1</td><td> 93</td><td> 95</td><td>CG_motif</td><td>0</td><td>0</td><td>0</td><td>0</td><td>0</td></tr>\n",
       "\t<tr><th scope=row>4</th><td>NC_035780.1</td><td>103</td><td>105</td><td>CG_motif</td><td>0</td><td>0</td><td>0</td><td>0</td><td>0</td></tr>\n",
       "\t<tr><th scope=row>5</th><td>NC_035780.1</td><td>116</td><td>118</td><td>CG_motif</td><td>0</td><td>0</td><td>0</td><td>0</td><td>0</td></tr>\n",
       "\t<tr><th scope=row>6</th><td>NC_035780.1</td><td>134</td><td>136</td><td>CG_motif</td><td>0</td><td>0</td><td>0</td><td>0</td><td>0</td></tr>\n",
       "</tbody>\n",
       "</table>\n"
      ],
      "text/latex": [
       "A data.frame: 6 × 9\n",
       "\\begin{tabular}{r|lllllllll}\n",
       "  & chromosome & start & stop & CG\\_motif & BBO-BBO-B16 & BBO-BBY-B27 & BBR-BBB-B50 & BBR-BBG-B38 & BBR-BBY-B26\\\\\n",
       "  & <chr> & <int> & <int> & <chr> & <int> & <int> & <int> & <int> & <int>\\\\\n",
       "\\hline\n",
       "\t1 & NC\\_035780.1 &  54 &  56 & CG\\_motif & 0 & 0 & 0 & 0 & 0\\\\\n",
       "\t2 & NC\\_035780.1 &  75 &  77 & CG\\_motif & 0 & 0 & 0 & 0 & 0\\\\\n",
       "\t3 & NC\\_035780.1 &  93 &  95 & CG\\_motif & 0 & 0 & 0 & 0 & 0\\\\\n",
       "\t4 & NC\\_035780.1 & 103 & 105 & CG\\_motif & 0 & 0 & 0 & 0 & 0\\\\\n",
       "\t5 & NC\\_035780.1 & 116 & 118 & CG\\_motif & 0 & 0 & 0 & 0 & 0\\\\\n",
       "\t6 & NC\\_035780.1 & 134 & 136 & CG\\_motif & 0 & 0 & 0 & 0 & 0\\\\\n",
       "\\end{tabular}\n"
      ],
      "text/markdown": [
       "\n",
       "A data.frame: 6 × 9\n",
       "\n",
       "| <!--/--> | chromosome &lt;chr&gt; | start &lt;int&gt; | stop &lt;int&gt; | CG_motif &lt;chr&gt; | BBO-BBO-B16 &lt;int&gt; | BBO-BBY-B27 &lt;int&gt; | BBR-BBB-B50 &lt;int&gt; | BBR-BBG-B38 &lt;int&gt; | BBR-BBY-B26 &lt;int&gt; |\n",
       "|---|---|---|---|---|---|---|---|---|---|\n",
       "| 1 | NC_035780.1 |  54 |  56 | CG_motif | 0 | 0 | 0 | 0 | 0 |\n",
       "| 2 | NC_035780.1 |  75 |  77 | CG_motif | 0 | 0 | 0 | 0 | 0 |\n",
       "| 3 | NC_035780.1 |  93 |  95 | CG_motif | 0 | 0 | 0 | 0 | 0 |\n",
       "| 4 | NC_035780.1 | 103 | 105 | CG_motif | 0 | 0 | 0 | 0 | 0 |\n",
       "| 5 | NC_035780.1 | 116 | 118 | CG_motif | 0 | 0 | 0 | 0 | 0 |\n",
       "| 6 | NC_035780.1 | 134 | 136 | CG_motif | 0 | 0 | 0 | 0 | 0 |\n",
       "\n"
      ],
      "text/plain": [
       "  chromosome  start stop CG_motif BBO-BBO-B16 BBO-BBY-B27 BBR-BBB-B50\n",
       "1 NC_035780.1  54    56  CG_motif 0           0           0          \n",
       "2 NC_035780.1  75    77  CG_motif 0           0           0          \n",
       "3 NC_035780.1  93    95  CG_motif 0           0           0          \n",
       "4 NC_035780.1 103   105  CG_motif 0           0           0          \n",
       "5 NC_035780.1 116   118  CG_motif 0           0           0          \n",
       "6 NC_035780.1 134   136  CG_motif 0           0           0          \n",
       "  BBR-BBG-B38 BBR-BBY-B26\n",
       "1 0           0          \n",
       "2 0           0          \n",
       "3 0           0          \n",
       "4 0           0          \n",
       "5 0           0          \n",
       "6 0           0          "
      ]
     },
     "metadata": {},
     "output_type": "display_data"
    },
    {
     "data": {
      "text/html": [
       "<table class=\"dataframe\">\n",
       "<caption>A data.frame: 6 × 9</caption>\n",
       "<thead>\n",
       "\t<tr><th></th><th scope=col>chromosome</th><th scope=col>start</th><th scope=col>stop</th><th scope=col>CG_motif</th><th scope=col>WBG-BBB-W56</th><th scope=col>WBO-BBR-W03</th><th scope=col>WBR-BBY-W25</th><th scope=col>WBY-BBV-W65</th><th scope=col>WBY-BBY-W30</th></tr>\n",
       "\t<tr><th></th><th scope=col>&lt;chr&gt;</th><th scope=col>&lt;int&gt;</th><th scope=col>&lt;int&gt;</th><th scope=col>&lt;chr&gt;</th><th scope=col>&lt;int&gt;</th><th scope=col>&lt;int&gt;</th><th scope=col>&lt;int&gt;</th><th scope=col>&lt;int&gt;</th><th scope=col>&lt;int&gt;</th></tr>\n",
       "</thead>\n",
       "<tbody>\n",
       "\t<tr><th scope=row>1</th><td>NC_035780.1</td><td> 54</td><td> 56</td><td>CG_motif</td><td>0</td><td>0</td><td>0</td><td>0</td><td>0</td></tr>\n",
       "\t<tr><th scope=row>2</th><td>NC_035780.1</td><td> 75</td><td> 77</td><td>CG_motif</td><td>0</td><td>0</td><td>0</td><td>0</td><td>0</td></tr>\n",
       "\t<tr><th scope=row>3</th><td>NC_035780.1</td><td> 93</td><td> 95</td><td>CG_motif</td><td>0</td><td>0</td><td>0</td><td>0</td><td>0</td></tr>\n",
       "\t<tr><th scope=row>4</th><td>NC_035780.1</td><td>103</td><td>105</td><td>CG_motif</td><td>0</td><td>0</td><td>0</td><td>0</td><td>0</td></tr>\n",
       "\t<tr><th scope=row>5</th><td>NC_035780.1</td><td>116</td><td>118</td><td>CG_motif</td><td>0</td><td>0</td><td>0</td><td>0</td><td>0</td></tr>\n",
       "\t<tr><th scope=row>6</th><td>NC_035780.1</td><td>134</td><td>136</td><td>CG_motif</td><td>0</td><td>0</td><td>0</td><td>0</td><td>0</td></tr>\n",
       "</tbody>\n",
       "</table>\n"
      ],
      "text/latex": [
       "A data.frame: 6 × 9\n",
       "\\begin{tabular}{r|lllllllll}\n",
       "  & chromosome & start & stop & CG\\_motif & WBG-BBB-W56 & WBO-BBR-W03 & WBR-BBY-W25 & WBY-BBV-W65 & WBY-BBY-W30\\\\\n",
       "  & <chr> & <int> & <int> & <chr> & <int> & <int> & <int> & <int> & <int>\\\\\n",
       "\\hline\n",
       "\t1 & NC\\_035780.1 &  54 &  56 & CG\\_motif & 0 & 0 & 0 & 0 & 0\\\\\n",
       "\t2 & NC\\_035780.1 &  75 &  77 & CG\\_motif & 0 & 0 & 0 & 0 & 0\\\\\n",
       "\t3 & NC\\_035780.1 &  93 &  95 & CG\\_motif & 0 & 0 & 0 & 0 & 0\\\\\n",
       "\t4 & NC\\_035780.1 & 103 & 105 & CG\\_motif & 0 & 0 & 0 & 0 & 0\\\\\n",
       "\t5 & NC\\_035780.1 & 116 & 118 & CG\\_motif & 0 & 0 & 0 & 0 & 0\\\\\n",
       "\t6 & NC\\_035780.1 & 134 & 136 & CG\\_motif & 0 & 0 & 0 & 0 & 0\\\\\n",
       "\\end{tabular}\n"
      ],
      "text/markdown": [
       "\n",
       "A data.frame: 6 × 9\n",
       "\n",
       "| <!--/--> | chromosome &lt;chr&gt; | start &lt;int&gt; | stop &lt;int&gt; | CG_motif &lt;chr&gt; | WBG-BBB-W56 &lt;int&gt; | WBO-BBR-W03 &lt;int&gt; | WBR-BBY-W25 &lt;int&gt; | WBY-BBV-W65 &lt;int&gt; | WBY-BBY-W30 &lt;int&gt; |\n",
       "|---|---|---|---|---|---|---|---|---|---|\n",
       "| 1 | NC_035780.1 |  54 |  56 | CG_motif | 0 | 0 | 0 | 0 | 0 |\n",
       "| 2 | NC_035780.1 |  75 |  77 | CG_motif | 0 | 0 | 0 | 0 | 0 |\n",
       "| 3 | NC_035780.1 |  93 |  95 | CG_motif | 0 | 0 | 0 | 0 | 0 |\n",
       "| 4 | NC_035780.1 | 103 | 105 | CG_motif | 0 | 0 | 0 | 0 | 0 |\n",
       "| 5 | NC_035780.1 | 116 | 118 | CG_motif | 0 | 0 | 0 | 0 | 0 |\n",
       "| 6 | NC_035780.1 | 134 | 136 | CG_motif | 0 | 0 | 0 | 0 | 0 |\n",
       "\n"
      ],
      "text/plain": [
       "  chromosome  start stop CG_motif WBG-BBB-W56 WBO-BBR-W03 WBR-BBY-W25\n",
       "1 NC_035780.1  54    56  CG_motif 0           0           0          \n",
       "2 NC_035780.1  75    77  CG_motif 0           0           0          \n",
       "3 NC_035780.1  93    95  CG_motif 0           0           0          \n",
       "4 NC_035780.1 103   105  CG_motif 0           0           0          \n",
       "5 NC_035780.1 116   118  CG_motif 0           0           0          \n",
       "6 NC_035780.1 134   136  CG_motif 0           0           0          \n",
       "  WBY-BBV-W65 WBY-BBY-W30\n",
       "1 0           0          \n",
       "2 0           0          \n",
       "3 0           0          \n",
       "4 0           0          \n",
       "5 0           0          \n",
       "6 0           0          "
      ]
     },
     "metadata": {},
     "output_type": "display_data"
    },
    {
     "data": {
      "text/html": [
       "<table class=\"dataframe\">\n",
       "<caption>A data.frame: 6 × 9</caption>\n",
       "<thead>\n",
       "\t<tr><th></th><th scope=col>chromosome</th><th scope=col>start</th><th scope=col>stop</th><th scope=col>CG_motif</th><th scope=col>WBB-WBV-W69</th><th scope=col>WBG-WBG-W44</th><th scope=col>WBO-WBV-W64</th><th scope=col>WBV-WBO-W23</th><th scope=col>WBV-WBR-W12</th></tr>\n",
       "\t<tr><th></th><th scope=col>&lt;chr&gt;</th><th scope=col>&lt;int&gt;</th><th scope=col>&lt;int&gt;</th><th scope=col>&lt;chr&gt;</th><th scope=col>&lt;int&gt;</th><th scope=col>&lt;int&gt;</th><th scope=col>&lt;int&gt;</th><th scope=col>&lt;int&gt;</th><th scope=col>&lt;int&gt;</th></tr>\n",
       "</thead>\n",
       "<tbody>\n",
       "\t<tr><th scope=row>1</th><td>NC_035780.1</td><td> 54</td><td> 56</td><td>CG_motif</td><td>0</td><td>0</td><td>0</td><td>0</td><td>0</td></tr>\n",
       "\t<tr><th scope=row>2</th><td>NC_035780.1</td><td> 75</td><td> 77</td><td>CG_motif</td><td>0</td><td>0</td><td>0</td><td>0</td><td>0</td></tr>\n",
       "\t<tr><th scope=row>3</th><td>NC_035780.1</td><td> 93</td><td> 95</td><td>CG_motif</td><td>0</td><td>0</td><td>0</td><td>0</td><td>0</td></tr>\n",
       "\t<tr><th scope=row>4</th><td>NC_035780.1</td><td>103</td><td>105</td><td>CG_motif</td><td>0</td><td>0</td><td>0</td><td>0</td><td>0</td></tr>\n",
       "\t<tr><th scope=row>5</th><td>NC_035780.1</td><td>116</td><td>118</td><td>CG_motif</td><td>0</td><td>0</td><td>0</td><td>0</td><td>0</td></tr>\n",
       "\t<tr><th scope=row>6</th><td>NC_035780.1</td><td>134</td><td>136</td><td>CG_motif</td><td>0</td><td>0</td><td>0</td><td>0</td><td>0</td></tr>\n",
       "</tbody>\n",
       "</table>\n"
      ],
      "text/latex": [
       "A data.frame: 6 × 9\n",
       "\\begin{tabular}{r|lllllllll}\n",
       "  & chromosome & start & stop & CG\\_motif & WBB-WBV-W69 & WBG-WBG-W44 & WBO-WBV-W64 & WBV-WBO-W23 & WBV-WBR-W12\\\\\n",
       "  & <chr> & <int> & <int> & <chr> & <int> & <int> & <int> & <int> & <int>\\\\\n",
       "\\hline\n",
       "\t1 & NC\\_035780.1 &  54 &  56 & CG\\_motif & 0 & 0 & 0 & 0 & 0\\\\\n",
       "\t2 & NC\\_035780.1 &  75 &  77 & CG\\_motif & 0 & 0 & 0 & 0 & 0\\\\\n",
       "\t3 & NC\\_035780.1 &  93 &  95 & CG\\_motif & 0 & 0 & 0 & 0 & 0\\\\\n",
       "\t4 & NC\\_035780.1 & 103 & 105 & CG\\_motif & 0 & 0 & 0 & 0 & 0\\\\\n",
       "\t5 & NC\\_035780.1 & 116 & 118 & CG\\_motif & 0 & 0 & 0 & 0 & 0\\\\\n",
       "\t6 & NC\\_035780.1 & 134 & 136 & CG\\_motif & 0 & 0 & 0 & 0 & 0\\\\\n",
       "\\end{tabular}\n"
      ],
      "text/markdown": [
       "\n",
       "A data.frame: 6 × 9\n",
       "\n",
       "| <!--/--> | chromosome &lt;chr&gt; | start &lt;int&gt; | stop &lt;int&gt; | CG_motif &lt;chr&gt; | WBB-WBV-W69 &lt;int&gt; | WBG-WBG-W44 &lt;int&gt; | WBO-WBV-W64 &lt;int&gt; | WBV-WBO-W23 &lt;int&gt; | WBV-WBR-W12 &lt;int&gt; |\n",
       "|---|---|---|---|---|---|---|---|---|---|\n",
       "| 1 | NC_035780.1 |  54 |  56 | CG_motif | 0 | 0 | 0 | 0 | 0 |\n",
       "| 2 | NC_035780.1 |  75 |  77 | CG_motif | 0 | 0 | 0 | 0 | 0 |\n",
       "| 3 | NC_035780.1 |  93 |  95 | CG_motif | 0 | 0 | 0 | 0 | 0 |\n",
       "| 4 | NC_035780.1 | 103 | 105 | CG_motif | 0 | 0 | 0 | 0 | 0 |\n",
       "| 5 | NC_035780.1 | 116 | 118 | CG_motif | 0 | 0 | 0 | 0 | 0 |\n",
       "| 6 | NC_035780.1 | 134 | 136 | CG_motif | 0 | 0 | 0 | 0 | 0 |\n",
       "\n"
      ],
      "text/plain": [
       "  chromosome  start stop CG_motif WBB-WBV-W69 WBG-WBG-W44 WBO-WBV-W64\n",
       "1 NC_035780.1  54    56  CG_motif 0           0           0          \n",
       "2 NC_035780.1  75    77  CG_motif 0           0           0          \n",
       "3 NC_035780.1  93    95  CG_motif 0           0           0          \n",
       "4 NC_035780.1 103   105  CG_motif 0           0           0          \n",
       "5 NC_035780.1 116   118  CG_motif 0           0           0          \n",
       "6 NC_035780.1 134   136  CG_motif 0           0           0          \n",
       "  WBV-WBO-W23 WBV-WBR-W12\n",
       "1 0           0          \n",
       "2 0           0          \n",
       "3 0           0          \n",
       "4 0           0          \n",
       "5 0           0          \n",
       "6 0           0          "
      ]
     },
     "metadata": {},
     "output_type": "display_data"
    }
   ],
   "source": [
    "# Base columns\n",
    "base_cols <- CG_multicov[, c(\"chromosome\", \"start\", \"stop\", \"CG_motif\")]\n",
    "\n",
    "########################################################################\n",
    "## HYPOXIC CONTROL\n",
    "\n",
    "# Additional columns matching pattern\n",
    "HC_cols <- CG_multicov[, grepl(\"BB.-WB.-\\\\w{3}\", names(CG_multicov))]\n",
    "\n",
    "# Create new data frame\n",
    "HC_multicov <- cbind(base_cols, HC_cols)\n",
    "\n",
    "write.csv(HC_multicov, \"/project/pi_sarah_gignouxwolfsohn_uml_edu/julia/CE_MethylRAD_analysis_2018/analysis/counts_and_meta/genomic_features/HC_CpGmulticov.csv\")\n",
    "\n",
    "########################################################################\n",
    "## HYPOXIC HYPOXIC\n",
    "\n",
    "# Additional columns matching pattern\n",
    "HH_cols <- CG_multicov[, grepl(\"BB.-BB.-\\\\w{3}\", names(CG_multicov))]\n",
    "\n",
    "# Create new data frame\n",
    "HH_multicov <- cbind(base_cols, HH_cols)\n",
    "\n",
    "write.csv(HH_multicov, \"/project/pi_sarah_gignouxwolfsohn_uml_edu/julia/CE_MethylRAD_analysis_2018/analysis/counts_and_meta/genomic_features/HH_CpGmulticov.csv\")\n",
    "\n",
    "########################################################################\n",
    "## CONTROL HYPOXIC\n",
    "\n",
    "# Additional columns matching pattern\n",
    "CH_cols <- CG_multicov[, grepl(\"WB.-BB.-\\\\w{3}\", names(CG_multicov))]\n",
    "\n",
    "# Create new data frame\n",
    "CH_multicov <- cbind(base_cols, CH_cols)\n",
    "\n",
    "write.csv(CH_multicov, \"/project/pi_sarah_gignouxwolfsohn_uml_edu/julia/CE_MethylRAD_analysis_2018/analysis/counts_and_meta/genomic_features/CH_CpGmulticov.csv\")\n",
    "\n",
    "########################################################################\n",
    "# CONTROL CONTROL\n",
    "\n",
    "# Additional columns matching pattern\n",
    "CC_cols <- CG_multicov[, grepl(\"WB.-WB.-\\\\w{3}\", names(CG_multicov))]\n",
    "\n",
    "# Create new data frame\n",
    "CC_multicov <- cbind(base_cols, CC_cols)\n",
    "\n",
    "write.csv(CC_multicov, \"/project/pi_sarah_gignouxwolfsohn_uml_edu/julia/CE_MethylRAD_analysis_2018/analysis/counts_and_meta/genomic_features/CC_CpGmulticov.csv\")\n",
    "\n",
    "########################################################################\n",
    "head(HC_multicov)\n",
    "head(HH_multicov)\n",
    "head(CH_multicov)\n",
    "head(CC_multicov)"
   ]
  },
  {
   "cell_type": "markdown",
   "id": "c454d90d-27a5-4fb2-9c91-3393dbd11af4",
   "metadata": {},
   "source": [
    "## calculate *overall* methylation level\n",
    "\n",
    "(number of methylated CG)/(total CG)\n",
    "\n",
    "methylated CG being those that have an average of 5 sequences over the 5 sample replicates\n",
    "\n"
   ]
  },
  {
   "cell_type": "code",
   "execution_count": 72,
   "id": "fd0243d1-3332-41e4-830d-d5376b25738f",
   "metadata": {},
   "outputs": [],
   "source": [
    "# read in files so don't have to run code from above\n",
    "CC_multicov <- read.csv('/project/pi_sarah_gignouxwolfsohn_uml_edu/julia/CE_methyl_assembly/assembly_pipeline_files/genomic_bed_files/CpG_multicov/CC_CpGmulticov.csv')\n",
    "CH_multicov <- read.csv('/project/pi_sarah_gignouxwolfsohn_uml_edu/julia/CE_methyl_assembly/assembly_pipeline_files/genomic_bed_files/CpG_multicov/CH_CpGmulticov.csv')\n",
    "HC_multicov <- read.csv('/project/pi_sarah_gignouxwolfsohn_uml_edu/julia/CE_methyl_assembly/assembly_pipeline_files/genomic_bed_files/CpG_multicov/HC_CpGmulticov.csv')\n",
    "HH_multicov <- read.csv('/project/pi_sarah_gignouxwolfsohn_uml_edu/julia/CE_methyl_assembly/assembly_pipeline_files/genomic_bed_files/CpG_multicov/HH_CpGmulticov.csv')"
   ]
  },
  {
   "cell_type": "markdown",
   "id": "9279e512-5042-47d4-b320-feb6c4393149",
   "metadata": {},
   "source": [
    "**CONTROL CONTROL**"
   ]
  },
  {
   "cell_type": "code",
   "execution_count": 73,
   "id": "a836604d-7e8e-404a-8cc3-56b2ed91fcb2",
   "metadata": {},
   "outputs": [
    {
     "name": "stdout",
     "output_type": "stream",
     "text": [
      "[1] \"0.74 % of CpG dinucleotide is methylated\"\n"
     ]
    }
   ],
   "source": [
    "# Calculate average counts of last 5 columns\n",
    "CC_multicov$avg_counts <- rowMeans(CC_multicov[, tail(names(CC_multicov), 5)])\n",
    "\n",
    "# Remove rows with averages below 5\n",
    "CC_filtered <- CC_multicov[CC_multicov$avg_counts >= 5, ]\n",
    "\n",
    "# Remove temporary average column\n",
    "CC_filtered$avg_counts <- NULL\n",
    "\n",
    "\n",
    "############## methylation level ##############\n",
    "CC_CGmethyl <- dim(CC_filtered)[1]\n",
    "total_CG <- dim(CC_multicov)[1]\n",
    "\n",
    "CCpercent_me <- round((CC_CGmethyl/total_CG)*100,2)\n",
    "print(paste(CCpercent_me, \"% of CpG dinucleotide is methylated\"))\n"
   ]
  },
  {
   "cell_type": "markdown",
   "id": "e37a7ec6-245b-412e-9974-0b8e7271398f",
   "metadata": {},
   "source": [
    "**CONTROL HYPOXIC**"
   ]
  },
  {
   "cell_type": "code",
   "execution_count": 74,
   "id": "55aade7b-39e5-463a-b0f6-00c485cc7ffb",
   "metadata": {},
   "outputs": [
    {
     "name": "stdout",
     "output_type": "stream",
     "text": [
      "[1] \"0.77 % of CpG dinucleotide is methylated\"\n"
     ]
    }
   ],
   "source": [
    "# Calculate average counts of last 5 columns\n",
    "CH_multicov$avg_counts <- rowMeans(CH_multicov[, tail(names(CH_multicov), 5)])\n",
    "\n",
    "# Remove rows with averages below 5\n",
    "CH_filtered <- CH_multicov[CH_multicov$avg_counts >= 5, ]\n",
    "\n",
    "# Remove temporary average column\n",
    "CH_filtered$avg_counts <- NULL\n",
    "\n",
    "\n",
    "############## methylation level ##############\n",
    "CH_CGmethyl <- dim(CH_filtered)[1]\n",
    "total_CG <- dim(CH_multicov)[1]\n",
    "\n",
    "CHpercent_me <- round((CH_CGmethyl/total_CG)*100,2)\n",
    "print(paste(CHpercent_me, \"% of CpG dinucleotide is methylated\"))\n"
   ]
  },
  {
   "cell_type": "markdown",
   "id": "b8b541fb-3af5-4d5c-838c-a6d9c987c3b4",
   "metadata": {},
   "source": [
    "**HYPOXIC HYPOXIC**"
   ]
  },
  {
   "cell_type": "code",
   "execution_count": 75,
   "id": "bb4e4b23-a0e0-40ec-928b-40be04d38ae5",
   "metadata": {},
   "outputs": [
    {
     "name": "stdout",
     "output_type": "stream",
     "text": [
      "[1] \"0.9 % of CpG dinucleotide is methylated\"\n"
     ]
    }
   ],
   "source": [
    "# Calculate average counts of last 5 columns\n",
    "HH_multicov$avg_counts <- rowMeans(HH_multicov[, tail(names(HH_multicov), 5)])\n",
    "\n",
    "# Remove rows with averages below 5\n",
    "HH_filtered <- HH_multicov[HH_multicov$avg_counts >= 5, ]\n",
    "\n",
    "# Remove temporary average column\n",
    "HH_filtered$avg_counts <- NULL\n",
    "\n",
    "\n",
    "############## methylation level ##############\n",
    "HH_CGmethyl <- dim(HH_filtered)[1]\n",
    "total_CG <- dim(HH_multicov)[1]\n",
    "\n",
    "HHpercent_me <- round((HH_CGmethyl/total_CG)*100,2)\n",
    "print(paste(HHpercent_me, \"% of CpG dinucleotide is methylated\"))\n"
   ]
  },
  {
   "cell_type": "markdown",
   "id": "23275928-7a9b-4ad1-b6d7-f888ba735432",
   "metadata": {},
   "source": [
    "**HYPOXIC CONTROL**"
   ]
  },
  {
   "cell_type": "code",
   "execution_count": 84,
   "id": "9ff37d10-fa06-421e-9d10-7163e19004a6",
   "metadata": {},
   "outputs": [
    {
     "name": "stdout",
     "output_type": "stream",
     "text": [
      "[1] \"0.98 % of CpG dinucleotide is methylated\"\n"
     ]
    }
   ],
   "source": [
    "# Calculate average counts of last 5 columns\n",
    "HC_multicov$avg_counts <- rowMeans(HC_multicov[, tail(names(HC_multicov), 5)])\n",
    "\n",
    "# Remove rows with averages below 5\n",
    "HC_filtered <- HC_multicov[HC_multicov$avg_counts >= 5, ]\n",
    "\n",
    "# Remove temporary average column\n",
    "HC_filtered$avg_counts <- NULL\n",
    "\n",
    "\n",
    "############## methylation level ##############\n",
    "HC_CGmethyl <- dim(HC_filtered)[1]\n",
    "total_CG <- dim(HC_multicov)[1]\n",
    "\n",
    "HCpercent_me <- round((HC_CGmethyl/total_CG)*100,2)\n",
    "print(paste(HCpercent_me, \"% of CpG dinucleotide is methylated\"))\n"
   ]
  },
  {
   "cell_type": "code",
   "execution_count": 81,
   "id": "9bad3bde-c4ba-4111-ae5f-86894165be40",
   "metadata": {},
   "outputs": [
    {
     "data": {
      "text/html": [
       "<table class=\"dataframe\">\n",
       "<caption>A data.frame: 4 × 2</caption>\n",
       "<thead>\n",
       "\t<tr><th scope=col>percent_me</th><th scope=col>treatment</th></tr>\n",
       "\t<tr><th scope=col>&lt;dbl&gt;</th><th scope=col>&lt;chr&gt;</th></tr>\n",
       "</thead>\n",
       "<tbody>\n",
       "\t<tr><td>0.77</td><td>CH</td></tr>\n",
       "\t<tr><td>0.90</td><td>HH</td></tr>\n",
       "\t<tr><td>1.00</td><td>HC</td></tr>\n",
       "\t<tr><td>0.74</td><td>CC</td></tr>\n",
       "</tbody>\n",
       "</table>\n"
      ],
      "text/latex": [
       "A data.frame: 4 × 2\n",
       "\\begin{tabular}{ll}\n",
       " percent\\_me & treatment\\\\\n",
       " <dbl> & <chr>\\\\\n",
       "\\hline\n",
       "\t 0.77 & CH\\\\\n",
       "\t 0.90 & HH\\\\\n",
       "\t 1.00 & HC\\\\\n",
       "\t 0.74 & CC\\\\\n",
       "\\end{tabular}\n"
      ],
      "text/markdown": [
       "\n",
       "A data.frame: 4 × 2\n",
       "\n",
       "| percent_me &lt;dbl&gt; | treatment &lt;chr&gt; |\n",
       "|---|---|\n",
       "| 0.77 | CH |\n",
       "| 0.90 | HH |\n",
       "| 1.00 | HC |\n",
       "| 0.74 | CC |\n",
       "\n"
      ],
      "text/plain": [
       "  percent_me treatment\n",
       "1 0.77       CH       \n",
       "2 0.90       HH       \n",
       "3 1.00       HC       \n",
       "4 0.74       CC       "
      ]
     },
     "metadata": {},
     "output_type": "display_data"
    }
   ],
   "source": [
    "CpG_methyl <- tibble(\n",
    "    CH = CHpercent_me,\n",
    "    HH = HHpercent_me,\n",
    "    HC = HCpercent_me,\n",
    "    CC = CCpercent_me)\n",
    "\n",
    "CpG_methyl <- CpG_methyl %>% \n",
    "  t() %>% \n",
    "  as.data.frame() %>% \n",
    "  setNames(c(\"percent_me\")) %>%  # rename the single column\n",
    "  mutate(treatment = rownames(.)) %>%  # add Sample column\n",
    "  `rownames<-`(NULL)  # remove row names\n",
    "\n",
    "CpG_methyl"
   ]
  },
  {
   "cell_type": "code",
   "execution_count": 82,
   "id": "5496c148-45c3-4b8a-8d84-f77b037fac2e",
   "metadata": {},
   "outputs": [
    {
     "data": {
      "image/png": "[encoded data removed]",
      "text/plain": [
       "plot without title"
      ]
     },
     "metadata": {
      "image/png": {
       "height": 420,
       "width": 420
      }
     },
     "output_type": "display_data"
    }
   ],
   "source": [
    "ggplot(CpG_methyl, aes(x = treatment, y = percent_me, fill = treatment)) +\n",
    "  geom_bar(stat = \"identity\") +\n",
    "scale_fill_brewer(palette = \"RdPu\", \n",
    " direction = 1) +\n",
    "geom_col(color = \"black\", size = 0.25) +\n",
    "  labs(title = \"All CpG Methylation Level\", x = \"Treatment\", y = \"% methylation\") +\n",
    "  theme_classic()"
   ]
  },
  {
   "cell_type": "code",
   "execution_count": 30,
   "id": "4354ab5b-5e49-4f68-b668-2ee6169ecc26",
   "metadata": {},
   "outputs": [
    {
     "data": {
      "text/plain": [
       "\n",
       "\tWelch Two Sample t-test\n",
       "\n",
       "data:  cont and hyp\n",
       "t = -3.7355, df = 1.1786, p-value = 0.1363\n",
       "alternative hypothesis: true difference in means is not equal to 0\n",
       "95 percent confidence interval:\n",
       " -0.6621801  0.2721801\n",
       "sample estimates:\n",
       "mean of x mean of y \n",
       "    0.755     0.950 \n"
      ]
     },
     "metadata": {},
     "output_type": "display_data"
    }
   ],
   "source": [
    "cont <- c(CHpercent_me, CCpercent_me)\n",
    "hyp <- c(HHpercent_me, HCpercent_me)\n",
    "\n",
    "t.test(cont, hyp)"
   ]
  },
  {
   "cell_type": "markdown",
   "id": "e5390d1f-a746-4459-b683-8bebcf837347",
   "metadata": {},
   "source": [
    "### overlap of methylated CpG with gene features\n",
    "\n",
    "run in command line:"
   ]
  },
  {
   "cell_type": "code",
   "execution_count": 31,
   "id": "49647a72-f82f-4348-9ce5-81253cc57b24",
   "metadata": {},
   "outputs": [],
   "source": [
    "# gene feature BED files\n",
    "exonList=\"/project/pi_sarah_gignouxwolfsohn_uml_edu/julia/CE_MethylRAD_analysis_2018/analysis/genomic_feature_tracks/CV_exon_sorted.gff3\"\n",
    "intronList=\"/project/pi_sarah_gignouxwolfsohn_uml_edu/julia/CE_MethylRAD_analysis_2018/analysis/genomic_feature_tracks/CV_intron.gff3\"\n",
    "exonUTR=\"/project/pi_sarah_gignouxwolfsohn_uml_edu/julia/CE_MethylRAD_analysis_2018/analysis/genomic_feature_tracks/CV_exonUTR.gff3\"\n",
    "promoterList=\"/project/pi_sarah_gignouxwolfsohn_uml_edu/julia/CE_MethylRAD_analysis_2018/analysis/genomic_feature_tracks/mRNA_promoter_track.bed\"\n",
    "intergenicList=\"/project/pi_sarah_gignouxwolfsohn_uml_edu/julia/CE_MethylRAD_analysis_2018/analysis/genomic_feature_tracks/CV_intergenic.gff3\"\n",
    "teList=\"/project/pi_sarah_gignouxwolfsohn_uml_edu/julia/CE_MethylRAD_analysis_2018/analysis/genomic_feature_tracks/Venkataraman_files/C_virginica-3.0_TE-all.gff\"\n",
    "geneList=\"/project/pi_sarah_gignouxwolfsohn_uml_edu/julia/CE_MethylRAD_analysis_2018/analysis/genomic_feature_tracks/CV_gene_sorted.gff3\"\n",
    "noncodingList=\"/project/pi_sarah_gignouxwolfsohn_uml_edu/julia/CE_MethylRAD_analysis_2018/analysis/genomic_feature_tracks/CV_noncoding.gff3\"\n",
    "cdsList='/project/pi_sarah_gignouxwolfsohn_uml_edu/julia/CE_MethylRAD_analysis_2018/analysis/genomic_feature_tracks/CV_CDS_sorted.gff3'\n",
    "\n",
    "# CpG dinucleotide list\n",
    "cpgList=\"/project/pi_sarah_gignouxwolfsohn_uml_edu/julia/CE_methyl_assembly/assembly_pipeline_files/genomic_bed_files/C_virginica-3.0_CG-motif.bed\"\n"
   ]
  },
  {
   "cell_type": "code",
   "execution_count": 2,
   "id": "57f177ca-67f4-48b2-b84e-e364bdd39615",
   "metadata": {},
   "outputs": [
    {
     "ename": "ERROR",
     "evalue": "Error: object 'exonList' not found\n",
     "output_type": "error",
     "traceback": [
      "Error: object 'exonList' not found\nTraceback:\n"
     ]
    }
   ],
   "source": [
    "# gene feature BED files\n",
    "exonList=\"/project/pi_sarah_gignouxwolfsohn_uml_edu/julia/CE_MethylRAD_analysis_2018/analysis/genomic_feature_tracks/CV_exon_sorted.gff3\"\n",
    "intronList=\"/project/pi_sarah_gignouxwolfsohn_uml_edu/julia/CE_MethylRAD_analysis_2018/analysis/genomic_feature_tracks/CV_intron.gff3\"\n",
    "exonUTR=\"/project/pi_sarah_gignouxwolfsohn_uml_edu/julia/CE_MethylRAD_analysis_2018/analysis/genomic_feature_tracks/CV_exonUTR.bed\"\n",
    "promoterList=\"/project/pi_sarah_gignouxwolfsohn_uml_edu/julia/CE_MethylRAD_analysis_2018/analysis/genomic_feature_tracks/mRNA_promoter_track.bed\"\n",
    "intergenicList=\"/project/pi_sarah_gignouxwolfsohn_uml_edu/julia/CE_MethylRAD_analysis_2018/analysis/genomic_feature_tracks/CV_intergenic.gff3\"\n",
    "teList=\"/project/pi_sarah_gignouxwolfsohn_uml_edu/julia/CE_MethylRAD_analysis_2018/analysis/genomic_feature_tracks/Venkataraman_files/C_virginica-3.0_TE-all.gff\"\n",
    "geneList=\"/project/pi_sarah_gignouxwolfsohn_uml_edu/julia/CE_MethylRAD_analysis_2018/analysis/genomic_feature_tracks/CV_gene_sorted.gff3\"\n",
    "noncodingList=\"/project/pi_sarah_gignouxwolfsohn_uml_edu/julia/CE_MethylRAD_analysis_2018/analysis/genomic_feature_tracks/CV_noncoding.gff3\"\n",
    "\n",
    "# CpG dinucleotide list\n",
    "cpgList=\"/project/pi_sarah_gignouxwolfsohn_uml_edu/julia/CE_methyl_assembly/assembly_pipeline_files/genomic_bed_files/C_virginica-3.0_CG-motif.bed\"\n"
   ]
  },
  {
   "cell_type": "markdown",
   "id": "3bc762a0-da47-4d12-9686-e6ea0451c0f4",
   "metadata": {},
   "source": [
    "**all CpG dinucleotides** "
   ]
  },
  {
   "cell_type": "code",
   "execution_count": null,
   "id": "f5f9bd5e-a4d7-4bee-8ef0-8bf335c4d767",
   "metadata": {},
   "outputs": [],
   "source": [
    "bedtools intersect -u -a $cpgList -b $geneList | wc -l\n",
    "echo \"total CpG dinucleotides in genes\""
   ]
  },
  {
   "cell_type": "markdown",
   "id": "93f60a49-073a-42e3-825d-13a926a75c24",
   "metadata": {},
   "source": [
    "7774742 CpG motifs overlap with genes"
   ]
  },
  {
   "cell_type": "code",
   "execution_count": null,
   "id": "1775cf42-0976-43b8-9b95-5544c8ca8b65",
   "metadata": {},
   "outputs": [],
   "source": [
    "bedtools intersect -u -a $cpgList -b $exonList | wc -l\n",
    "echo \"total CpG dinucleotides in exons\""
   ]
  },
  {
   "cell_type": "markdown",
   "id": "50c07cb1-86e4-4bde-8591-5b1310b69260",
   "metadata": {},
   "source": [
    "2330546 CpG motifs overlap with exons"
   ]
  },
  {
   "cell_type": "code",
   "execution_count": null,
   "id": "07134f9b-f9ab-4716-b6c5-3b38a73beba9",
   "metadata": {},
   "outputs": [],
   "source": [
    "bedtools intersect -u -a $cpgList -b $intronList | wc -l\n",
    "echo \"total CpG dinucleotides in introns\""
   ]
  },
  {
   "cell_type": "markdown",
   "id": "8a01ff0d-db3e-4b31-85eb-7be39004b85a",
   "metadata": {},
   "source": [
    "5497874 CpG motifs overlap with introns"
   ]
  },
  {
   "cell_type": "code",
   "execution_count": null,
   "id": "dd3dee56-4cb6-4264-a793-4603a351853d",
   "metadata": {},
   "outputs": [],
   "source": [
    "bedtools intersect -u -a $cpgList -b $exonUTR | wc -l\n",
    "echo \"total CpG dinucleotides in UTRs\""
   ]
  },
  {
   "cell_type": "markdown",
   "id": "8f9370f0-af87-45b6-8f1a-b485ad0e517a",
   "metadata": {},
   "source": [
    "602551 CpG motifs overlap with exon UTRs"
   ]
  },
  {
   "cell_type": "code",
   "execution_count": null,
   "id": "2e5a7199-600e-4980-a7f9-9fffe793c829",
   "metadata": {},
   "outputs": [],
   "source": [
    "bedtools intersect -u -a $cpgList -b $promoterList | wc -l\n",
    "echo \"total CpG dinucleotides in putative promoters\""
   ]
  },
  {
   "cell_type": "markdown",
   "id": "c35a5fd7-f23c-4d3b-a9bf-10c7acc24fc5",
   "metadata": {},
   "source": [
    "926518 CpG motifs overlap with putative promoters"
   ]
  },
  {
   "cell_type": "code",
   "execution_count": null,
   "id": "140ef17f-7c25-4360-81ee-a726768eaf4a",
   "metadata": {},
   "outputs": [],
   "source": [
    "bedtools intersect -u -a $cpgList -b $intergenicList | wc -l\n",
    "echo \"total CpG dinucleotides in intergenic regions\""
   ]
  },
  {
   "cell_type": "markdown",
   "id": "ef13b36b-c8c4-4dac-ac1d-8249db3a47cf",
   "metadata": {},
   "source": [
    "6644297 CpG motifs overlap with intergenic regions"
   ]
  },
  {
   "cell_type": "code",
   "execution_count": null,
   "id": "3ee3c464-f579-4718-9934-334467b1d5fc",
   "metadata": {},
   "outputs": [],
   "source": [
    "bedtools intersect -u -a $cpgList -b $noncodingList | wc -l\n",
    "echo \"total CpG dinucleotides in non-coding regions\""
   ]
  },
  {
   "cell_type": "markdown",
   "id": "c371349a-8db6-4a61-a455-011946f36544",
   "metadata": {},
   "source": [
    "12142171 CpG motifs overlap with non-coding regions"
   ]
  },
  {
   "cell_type": "code",
   "execution_count": null,
   "id": "8ae8e9cd-e57e-48bb-90ef-33848314a7dc",
   "metadata": {},
   "outputs": [],
   "source": [
    "bedtools intersect -u -a $cpgList -b $teList | wc -l\n",
    "echo \"total CpG dinucleotides in transposable elements\""
   ]
  },
  {
   "cell_type": "markdown",
   "id": "1bb43c32-08db-4374-b1c3-fdc9e37b5590",
   "metadata": {},
   "source": [
    "2828372 CpG motifs overlap with intergenic regions"
   ]
  },
  {
   "cell_type": "code",
   "execution_count": null,
   "id": "055a1731-4396-4630-a55b-00ce9c43f712",
   "metadata": {},
   "outputs": [],
   "source": [
    "bedtools intersect -u -a $cpgList -b $cdsList | wc -l\n",
    "echo \"total CpG dinucleotides in coding sequences\""
   ]
  },
  {
   "cell_type": "markdown",
   "id": "71629c39-2d14-4db4-bdfa-bd30bd0029f9",
   "metadata": {},
   "source": [
    "1728032 total CpG dinucleotides in coding sequences"
   ]
  },
  {
   "cell_type": "markdown",
   "id": "f039b0ee-253c-4d88-ac8f-cbfb44cd32fa",
   "metadata": {},
   "source": [
    "#### methylated CpG by treatment\n",
    "\n",
    "first, filtering treatment CpG motifs - a CpG dinucleotide is considered methylated if the average count across the four replicates is greater than or equal to 4. This ensures that we're not counting a CpG methylated if one sample has a count of 15 and the rest have 0."
   ]
  },
  {
   "cell_type": "code",
   "execution_count": 46,
   "id": "3b69b7c9-4342-464c-8973-f6a0f5ce557b",
   "metadata": {},
   "outputs": [
    {
     "data": {
      "text/html": [
       "<table class=\"dataframe\">\n",
       "<caption>A data.frame: 6 × 3</caption>\n",
       "<thead>\n",
       "\t<tr><th></th><th scope=col>chromosome</th><th scope=col>start</th><th scope=col>stop</th></tr>\n",
       "\t<tr><th></th><th scope=col>&lt;chr&gt;</th><th scope=col>&lt;int&gt;</th><th scope=col>&lt;int&gt;</th></tr>\n",
       "</thead>\n",
       "<tbody>\n",
       "\t<tr><th scope=row>1</th><td>NC_035780.1</td><td> 23615</td><td> 23617</td></tr>\n",
       "\t<tr><th scope=row>2</th><td>NC_035780.1</td><td> 23620</td><td> 23622</td></tr>\n",
       "\t<tr><th scope=row>3</th><td>NC_035780.1</td><td> 23624</td><td> 23626</td></tr>\n",
       "\t<tr><th scope=row>4</th><td>NC_035780.1</td><td> 23631</td><td> 23633</td></tr>\n",
       "\t<tr><th scope=row>5</th><td>NC_035780.1</td><td> 23638</td><td> 23640</td></tr>\n",
       "\t<tr><th scope=row>6</th><td>NC_035780.1</td><td>198167</td><td>198169</td></tr>\n",
       "</tbody>\n",
       "</table>\n"
      ],
      "text/latex": [
       "A data.frame: 6 × 3\n",
       "\\begin{tabular}{r|lll}\n",
       "  & chromosome & start & stop\\\\\n",
       "  & <chr> & <int> & <int>\\\\\n",
       "\\hline\n",
       "\t1 & NC\\_035780.1 &  23615 &  23617\\\\\n",
       "\t2 & NC\\_035780.1 &  23620 &  23622\\\\\n",
       "\t3 & NC\\_035780.1 &  23624 &  23626\\\\\n",
       "\t4 & NC\\_035780.1 &  23631 &  23633\\\\\n",
       "\t5 & NC\\_035780.1 &  23638 &  23640\\\\\n",
       "\t6 & NC\\_035780.1 & 198167 & 198169\\\\\n",
       "\\end{tabular}\n"
      ],
      "text/markdown": [
       "\n",
       "A data.frame: 6 × 3\n",
       "\n",
       "| <!--/--> | chromosome &lt;chr&gt; | start &lt;int&gt; | stop &lt;int&gt; |\n",
       "|---|---|---|---|\n",
       "| 1 | NC_035780.1 |  23615 |  23617 |\n",
       "| 2 | NC_035780.1 |  23620 |  23622 |\n",
       "| 3 | NC_035780.1 |  23624 |  23626 |\n",
       "| 4 | NC_035780.1 |  23631 |  23633 |\n",
       "| 5 | NC_035780.1 |  23638 |  23640 |\n",
       "| 6 | NC_035780.1 | 198167 | 198169 |\n",
       "\n"
      ],
      "text/plain": [
       "  chromosome  start  stop  \n",
       "1 NC_035780.1  23615  23617\n",
       "2 NC_035780.1  23620  23622\n",
       "3 NC_035780.1  23624  23626\n",
       "4 NC_035780.1  23631  23633\n",
       "5 NC_035780.1  23638  23640\n",
       "6 NC_035780.1 198167 198169"
      ]
     },
     "metadata": {},
     "output_type": "display_data"
    }
   ],
   "source": [
    "# Calculate average counts of last 5 columns\n",
    "CH_multicov$avg_counts <- rowMeans(CH_multicov[, tail(names(CH_multicov), 5)])\n",
    "\n",
    "# Remove rows with averages below 5\n",
    "CH_filtered <- CH_multicov[CH_multicov$avg_counts >= 5, ]\n",
    "\n",
    "# Remove temporary average column\n",
    "CH_filtered$avg_counts <- NULL\n",
    "\n",
    "CH_bed <- select(CH_filtered, chromosome, start, stop)\n",
    "rownames(CH_bed) <- NULL\n",
    "head(CH_bed)\n",
    "\n",
    "write.table(CH_bed[, c(\"chromosome\", \"start\", \"stop\")], \n",
    "            file = \"/project/pi_sarah_gignouxwolfsohn_uml_edu/julia/CE_MethylRAD_analysis_2018/analysis/counts_and_meta/genomic_features/CH_cpgMethyl.bed\", \n",
    "            sep = \"\\t\", \n",
    "            #header = FALSE, \n",
    "            quote = FALSE, \n",
    "            row.names = FALSE, \n",
    "            col.names = FALSE)"
   ]
  },
  {
   "cell_type": "code",
   "execution_count": 45,
   "id": "0072e196-0137-435a-9db3-01a1ae0ebfcc",
   "metadata": {},
   "outputs": [
    {
     "data": {
      "text/html": [
       "<table class=\"dataframe\">\n",
       "<caption>A data.frame: 6 × 3</caption>\n",
       "<thead>\n",
       "\t<tr><th></th><th scope=col>chromosome</th><th scope=col>start</th><th scope=col>stop</th></tr>\n",
       "\t<tr><th></th><th scope=col>&lt;chr&gt;</th><th scope=col>&lt;int&gt;</th><th scope=col>&lt;int&gt;</th></tr>\n",
       "</thead>\n",
       "<tbody>\n",
       "\t<tr><th scope=row>1</th><td>NC_035780.1</td><td> 23615</td><td> 23617</td></tr>\n",
       "\t<tr><th scope=row>2</th><td>NC_035780.1</td><td> 23620</td><td> 23622</td></tr>\n",
       "\t<tr><th scope=row>3</th><td>NC_035780.1</td><td> 23624</td><td> 23626</td></tr>\n",
       "\t<tr><th scope=row>4</th><td>NC_035780.1</td><td> 23631</td><td> 23633</td></tr>\n",
       "\t<tr><th scope=row>5</th><td>NC_035780.1</td><td> 23638</td><td> 23640</td></tr>\n",
       "\t<tr><th scope=row>6</th><td>NC_035780.1</td><td>162717</td><td>162719</td></tr>\n",
       "</tbody>\n",
       "</table>\n"
      ],
      "text/latex": [
       "A data.frame: 6 × 3\n",
       "\\begin{tabular}{r|lll}\n",
       "  & chromosome & start & stop\\\\\n",
       "  & <chr> & <int> & <int>\\\\\n",
       "\\hline\n",
       "\t1 & NC\\_035780.1 &  23615 &  23617\\\\\n",
       "\t2 & NC\\_035780.1 &  23620 &  23622\\\\\n",
       "\t3 & NC\\_035780.1 &  23624 &  23626\\\\\n",
       "\t4 & NC\\_035780.1 &  23631 &  23633\\\\\n",
       "\t5 & NC\\_035780.1 &  23638 &  23640\\\\\n",
       "\t6 & NC\\_035780.1 & 162717 & 162719\\\\\n",
       "\\end{tabular}\n"
      ],
      "text/markdown": [
       "\n",
       "A data.frame: 6 × 3\n",
       "\n",
       "| <!--/--> | chromosome &lt;chr&gt; | start &lt;int&gt; | stop &lt;int&gt; |\n",
       "|---|---|---|---|\n",
       "| 1 | NC_035780.1 |  23615 |  23617 |\n",
       "| 2 | NC_035780.1 |  23620 |  23622 |\n",
       "| 3 | NC_035780.1 |  23624 |  23626 |\n",
       "| 4 | NC_035780.1 |  23631 |  23633 |\n",
       "| 5 | NC_035780.1 |  23638 |  23640 |\n",
       "| 6 | NC_035780.1 | 162717 | 162719 |\n",
       "\n"
      ],
      "text/plain": [
       "  chromosome  start  stop  \n",
       "1 NC_035780.1  23615  23617\n",
       "2 NC_035780.1  23620  23622\n",
       "3 NC_035780.1  23624  23626\n",
       "4 NC_035780.1  23631  23633\n",
       "5 NC_035780.1  23638  23640\n",
       "6 NC_035780.1 162717 162719"
      ]
     },
     "metadata": {},
     "output_type": "display_data"
    }
   ],
   "source": [
    "# Calculate average counts of last 5 columns\n",
    "CC_multicov$avg_counts <- rowMeans(CC_multicov[, tail(names(CC_multicov), 5)])\n",
    "\n",
    "# Remove rows with averages below 5\n",
    "CC_filtered <- CH_multicov[CC_multicov$avg_counts >= 5, ]\n",
    "\n",
    "# Remove temporary average column\n",
    "CC_filtered$avg_counts <- NULL\n",
    "\n",
    "CC_bed <- select(CC_filtered, chromosome, start, stop)\n",
    "rownames(CC_bed) <- NULL\n",
    "head(CC_bed)\n",
    "\n",
    "write.table(CC_bed[, c(\"chromosome\", \"start\", \"stop\")], \n",
    "            file = \"/project/pi_sarah_gignouxwolfsohn_uml_edu/julia/CE_MethylRAD_analysis_2018/analysis/counts_and_meta/genomic_features/CC_cpgMethyl.bed\", \n",
    "            sep = \"\\t\", \n",
    "            #header = FALSE, \n",
    "            quote = FALSE, \n",
    "            row.names = FALSE, \n",
    "            col.names = FALSE)"
   ]
  },
  {
   "cell_type": "code",
   "execution_count": 47,
   "id": "250ffe8f-d729-4b28-93f8-68311a482fef",
   "metadata": {},
   "outputs": [
    {
     "data": {
      "text/html": [
       "<table class=\"dataframe\">\n",
       "<caption>A data.frame: 6 × 3</caption>\n",
       "<thead>\n",
       "\t<tr><th></th><th scope=col>chromosome</th><th scope=col>start</th><th scope=col>stop</th></tr>\n",
       "\t<tr><th></th><th scope=col>&lt;chr&gt;</th><th scope=col>&lt;int&gt;</th><th scope=col>&lt;int&gt;</th></tr>\n",
       "</thead>\n",
       "<tbody>\n",
       "\t<tr><th scope=row>1</th><td>NC_035780.1</td><td>17176</td><td>17178</td></tr>\n",
       "\t<tr><th scope=row>2</th><td>NC_035780.1</td><td>20142</td><td>20144</td></tr>\n",
       "\t<tr><th scope=row>3</th><td>NC_035780.1</td><td>20149</td><td>20151</td></tr>\n",
       "\t<tr><th scope=row>4</th><td>NC_035780.1</td><td>20157</td><td>20159</td></tr>\n",
       "\t<tr><th scope=row>5</th><td>NC_035780.1</td><td>20170</td><td>20172</td></tr>\n",
       "\t<tr><th scope=row>6</th><td>NC_035780.1</td><td>23584</td><td>23586</td></tr>\n",
       "</tbody>\n",
       "</table>\n"
      ],
      "text/latex": [
       "A data.frame: 6 × 3\n",
       "\\begin{tabular}{r|lll}\n",
       "  & chromosome & start & stop\\\\\n",
       "  & <chr> & <int> & <int>\\\\\n",
       "\\hline\n",
       "\t1 & NC\\_035780.1 & 17176 & 17178\\\\\n",
       "\t2 & NC\\_035780.1 & 20142 & 20144\\\\\n",
       "\t3 & NC\\_035780.1 & 20149 & 20151\\\\\n",
       "\t4 & NC\\_035780.1 & 20157 & 20159\\\\\n",
       "\t5 & NC\\_035780.1 & 20170 & 20172\\\\\n",
       "\t6 & NC\\_035780.1 & 23584 & 23586\\\\\n",
       "\\end{tabular}\n"
      ],
      "text/markdown": [
       "\n",
       "A data.frame: 6 × 3\n",
       "\n",
       "| <!--/--> | chromosome &lt;chr&gt; | start &lt;int&gt; | stop &lt;int&gt; |\n",
       "|---|---|---|---|\n",
       "| 1 | NC_035780.1 | 17176 | 17178 |\n",
       "| 2 | NC_035780.1 | 20142 | 20144 |\n",
       "| 3 | NC_035780.1 | 20149 | 20151 |\n",
       "| 4 | NC_035780.1 | 20157 | 20159 |\n",
       "| 5 | NC_035780.1 | 20170 | 20172 |\n",
       "| 6 | NC_035780.1 | 23584 | 23586 |\n",
       "\n"
      ],
      "text/plain": [
       "  chromosome  start stop \n",
       "1 NC_035780.1 17176 17178\n",
       "2 NC_035780.1 20142 20144\n",
       "3 NC_035780.1 20149 20151\n",
       "4 NC_035780.1 20157 20159\n",
       "5 NC_035780.1 20170 20172\n",
       "6 NC_035780.1 23584 23586"
      ]
     },
     "metadata": {},
     "output_type": "display_data"
    }
   ],
   "source": [
    "# Calculate average counts of last 5 columns\n",
    "HH_multicov$avg_counts <- rowMeans(HH_multicov[, tail(names(HH_multicov), 5)])\n",
    "\n",
    "# Remove rows with averages below 5\n",
    "HH_filtered <- HH_multicov[HH_multicov$avg_counts >= 5, ]\n",
    "\n",
    "# Remove temporary average column\n",
    "HH_filtered$avg_counts <- NULL\n",
    "\n",
    "HH_bed <- select(HH_filtered, chromosome, start, stop)\n",
    "rownames(HH_bed) <- NULL\n",
    "head(HH_bed)\n",
    "\n",
    "write.table(HH_bed[, c(\"chromosome\", \"start\", \"stop\")], \n",
    "            file = \"/project/pi_sarah_gignouxwolfsohn_uml_edu/julia/CE_MethylRAD_analysis_2018/analysis/counts_and_meta/genomic_features/HH_cpgMethyl.bed\", \n",
    "            sep = \"\\t\", \n",
    "            #header = FALSE, \n",
    "            quote = FALSE, \n",
    "            row.names = FALSE, \n",
    "            col.names = FALSE)"
   ]
  },
  {
   "cell_type": "code",
   "execution_count": 48,
   "id": "dc99cf02-6689-4676-81fd-aeeb7aa8023e",
   "metadata": {},
   "outputs": [
    {
     "data": {
      "text/html": [
       "<table class=\"dataframe\">\n",
       "<caption>A data.frame: 6 × 3</caption>\n",
       "<thead>\n",
       "\t<tr><th></th><th scope=col>chromosome</th><th scope=col>start</th><th scope=col>stop</th></tr>\n",
       "\t<tr><th></th><th scope=col>&lt;chr&gt;</th><th scope=col>&lt;int&gt;</th><th scope=col>&lt;int&gt;</th></tr>\n",
       "</thead>\n",
       "<tbody>\n",
       "\t<tr><th scope=row>1</th><td>NC_035780.1</td><td>17176</td><td>17178</td></tr>\n",
       "\t<tr><th scope=row>2</th><td>NC_035780.1</td><td>20142</td><td>20144</td></tr>\n",
       "\t<tr><th scope=row>3</th><td>NC_035780.1</td><td>20149</td><td>20151</td></tr>\n",
       "\t<tr><th scope=row>4</th><td>NC_035780.1</td><td>20157</td><td>20159</td></tr>\n",
       "\t<tr><th scope=row>5</th><td>NC_035780.1</td><td>20170</td><td>20172</td></tr>\n",
       "\t<tr><th scope=row>6</th><td>NC_035780.1</td><td>23615</td><td>23617</td></tr>\n",
       "</tbody>\n",
       "</table>\n"
      ],
      "text/latex": [
       "A data.frame: 6 × 3\n",
       "\\begin{tabular}{r|lll}\n",
       "  & chromosome & start & stop\\\\\n",
       "  & <chr> & <int> & <int>\\\\\n",
       "\\hline\n",
       "\t1 & NC\\_035780.1 & 17176 & 17178\\\\\n",
       "\t2 & NC\\_035780.1 & 20142 & 20144\\\\\n",
       "\t3 & NC\\_035780.1 & 20149 & 20151\\\\\n",
       "\t4 & NC\\_035780.1 & 20157 & 20159\\\\\n",
       "\t5 & NC\\_035780.1 & 20170 & 20172\\\\\n",
       "\t6 & NC\\_035780.1 & 23615 & 23617\\\\\n",
       "\\end{tabular}\n"
      ],
      "text/markdown": [
       "\n",
       "A data.frame: 6 × 3\n",
       "\n",
       "| <!--/--> | chromosome &lt;chr&gt; | start &lt;int&gt; | stop &lt;int&gt; |\n",
       "|---|---|---|---|\n",
       "| 1 | NC_035780.1 | 17176 | 17178 |\n",
       "| 2 | NC_035780.1 | 20142 | 20144 |\n",
       "| 3 | NC_035780.1 | 20149 | 20151 |\n",
       "| 4 | NC_035780.1 | 20157 | 20159 |\n",
       "| 5 | NC_035780.1 | 20170 | 20172 |\n",
       "| 6 | NC_035780.1 | 23615 | 23617 |\n",
       "\n"
      ],
      "text/plain": [
       "  chromosome  start stop \n",
       "1 NC_035780.1 17176 17178\n",
       "2 NC_035780.1 20142 20144\n",
       "3 NC_035780.1 20149 20151\n",
       "4 NC_035780.1 20157 20159\n",
       "5 NC_035780.1 20170 20172\n",
       "6 NC_035780.1 23615 23617"
      ]
     },
     "metadata": {},
     "output_type": "display_data"
    }
   ],
   "source": [
    "# Calculate average counts of last 5 columns\n",
    "HC_multicov$avg_counts <- rowMeans(HC_multicov[, tail(names(HC_multicov), 5)])\n",
    "\n",
    "# Remove rows with averages below 5\n",
    "HC_filtered <- HC_multicov[HC_multicov$avg_counts >= 5, ]\n",
    "\n",
    "# Remove temporary average column\n",
    "HC_filtered$avg_counts <- NULL\n",
    "\n",
    "HC_bed <- select(HC_filtered, chromosome, start, stop)\n",
    "rownames(HC_bed) <- NULL\n",
    "head(HC_bed)\n",
    "\n",
    "write.table(HC_bed[, c(\"chromosome\", \"start\", \"stop\")], \n",
    "            file = \"/project/pi_sarah_gignouxwolfsohn_uml_edu/julia/CE_MethylRAD_analysis_2018/analysis/counts_and_meta/genomic_features/HC_cpgMethyl.bed\", \n",
    "            sep = \"\\t\", \n",
    "            #header = FALSE, \n",
    "            quote = FALSE, \n",
    "            row.names = FALSE, \n",
    "            col.names = FALSE)"
   ]
  },
  {
   "cell_type": "code",
   "execution_count": 49,
   "id": "a81854aa-5543-4b84-a1df-bab8d352df24",
   "metadata": {},
   "outputs": [],
   "source": [
    "# CpG lists for each treatment\n",
    "input_dir=\"/project/pi_sarah_gignouxwolfsohn_uml_edu/julia/CE_MethylRAD_analysis_2018/analysis/counts_and_meta/genomic_features/\"\n",
    "CC_CpG=${input_dir}\"CC_cpgMethyl.bed\"\n",
    "CH_CpG=${input_dir}\"CH_cpgMethyl.bed\"\n",
    "HC_CpG=${input_dir}\"HC_cpgMethyl.bed\"\n",
    "HH_CpG=${input_dir}\"HH_cpgMethyl.bed\""
   ]
  },
  {
   "cell_type": "markdown",
   "id": "40465815-749f-4a1b-af2e-1489381298b4",
   "metadata": {},
   "source": [
    "**methylated CpG in genes**"
   ]
  },
  {
   "cell_type": "code",
   "execution_count": null,
   "id": "91d8a5b6-8720-4c37-938f-9df6c7a9dd77",
   "metadata": {},
   "outputs": [],
   "source": [
    "bedtools intersect -u -a $CC_CpG -b $geneList | wc -l\n",
    "echo \"methylated CpG for cont cont overlaps with genes\"\n",
    "\n",
    "bedtools intersect -u -a $CH_CpG -b $geneList | wc -l\n",
    "echo \"methylated CpG for cont hyp overlaps with genes\"\n",
    "\n",
    "bedtools intersect -u -a $HC_CpG -b $geneList | wc -l\n",
    "echo \"methylated CpG for hyp cont overlaps with genes\"\n",
    "\n",
    "bedtools intersect -u -a $HH_CpG -b $geneList | wc -l\n",
    "echo \"methylated CpG for hyp hyp overlaps with genes\""
   ]
  },
  {
   "cell_type": "markdown",
   "id": "f1a3abf5-7344-4547-8c15-e7a4382167e9",
   "metadata": {},
   "source": [
    "75361 methylated CpG for cont cont overlaps with genes\n",
    "\n",
    "78373 methylated CpG for cont hyp overlaps with genes\n",
    "\n",
    "108269 methylated CpG for hyp cont overlaps with genes\n",
    "\n",
    "99120 methylated CpG for hyp hyp overlaps with genes"
   ]
  },
  {
   "cell_type": "markdown",
   "id": "64f234dc-978b-4513-bc2d-631fc426a08d",
   "metadata": {},
   "source": [
    "**methylated CpG in exons**"
   ]
  },
  {
   "cell_type": "code",
   "execution_count": null,
   "id": "023a35ca-8b5c-45af-aca4-6ccc07becb2b",
   "metadata": {},
   "outputs": [],
   "source": [
    "bedtools intersect -u -a $CC_CpG -b $exonList | wc -l\n",
    "echo \"methylated CpG for cont cont overlaps with exons\"\n",
    "\n",
    "bedtools intersect -u -a $CH_CpG -b $exonList | wc -l\n",
    "echo \"methylated CpG for cont hyp overlaps with exons\"\n",
    "\n",
    "bedtools intersect -u -a $HC_CpG -b $exonList | wc -l\n",
    "echo \"methylated CpG for hyp cont overlaps with exons\"\n",
    "\n",
    "bedtools intersect -u -a $HH_CpG -b $exonList | wc -l\n",
    "echo \"methylated CpG for hyp hyp overlaps with exons\""
   ]
  },
  {
   "cell_type": "markdown",
   "id": "9824910b-e55c-4106-8b70-341f8b4aefb8",
   "metadata": {},
   "source": [
    "51436 methylated CpG for cont cont overlaps with exons\n",
    "\n",
    "52475 methylated CpG for cont hyp overlaps with exons\n",
    "\n",
    "67166 methylated CpG for hyp cont overlaps with exons\n",
    "\n",
    "63302 methylated CpG for hyp hyp overlaps with exons\n"
   ]
  },
  {
   "cell_type": "markdown",
   "id": "52cf70b3-0a9a-47e8-b7de-8cb55149ab7d",
   "metadata": {},
   "source": [
    "**methylated CpG in introns**"
   ]
  },
  {
   "cell_type": "code",
   "execution_count": null,
   "id": "3689cec6-62b4-4586-aeec-ca16fb218120",
   "metadata": {},
   "outputs": [],
   "source": [
    "bedtools intersect -u -a $CC_CpG -b $intronList | wc -l\n",
    "echo \"methylated CpG for cont cont overlaps with introns\"\n",
    "\n",
    "bedtools intersect -u -a $CH_CpG -b $intronList | wc -l\n",
    "echo \"methylated CpG for cont hyp overlaps with introns\"\n",
    "\n",
    "bedtools intersect -u -a $HC_CpG -b $intronList | wc -l\n",
    "echo \"methylated CpG for hyp cont overlaps with introns\"\n",
    "\n",
    "bedtools intersect -u -a $HH_CpG -b $intronList | wc -l\n",
    "echo \"methylated CpG for hyp hyp overlaps with introns\""
   ]
  },
  {
   "cell_type": "markdown",
   "id": "f8bc2e55-d93c-454e-9d7e-ce17330e8ee6",
   "metadata": {},
   "source": [
    "24630 methylated CpG for cont cont overlaps with introns\n",
    "\n",
    "26655 methylated CpG for cont hyp overlaps with introns\n",
    "\n",
    "42077 methylated CpG for hyp cont overlaps with introns\n",
    "\n",
    "36738 methylated CpG for hyp hyp overlaps with introns"
   ]
  },
  {
   "cell_type": "markdown",
   "id": "88068d51-74a8-4e19-9706-31233d760bae",
   "metadata": {},
   "source": [
    "**methylated CpG in putative promoters**"
   ]
  },
  {
   "cell_type": "code",
   "execution_count": null,
   "id": "b571e1d2-079a-4e22-970d-4d25974bc0a5",
   "metadata": {},
   "outputs": [],
   "source": [
    "bedtools intersect -u -a $CC_CpG -b $promoterList | wc -l\n",
    "echo \"methylated CpG for cont cont overlaps with promoters\"\n",
    "\n",
    "bedtools intersect -u -a $CH_CpG -b $promoterList | wc -l\n",
    "echo \"methylated CpG for cont hyp overlaps with promoters\"\n",
    "\n",
    "bedtools intersect -u -a $HC_CpG -b $promoterList | wc -l\n",
    "echo \"methylated CpG for hyp cont overlaps with promoters\"\n",
    "\n",
    "bedtools intersect -u -a $HH_CpG -b $promoterList | wc -l\n",
    "echo \"methylated CpG for hyp hyp overlaps with promoters\""
   ]
  },
  {
   "cell_type": "markdown",
   "id": "19c2c7b1-9b83-44ec-a068-0ebefe1215a7",
   "metadata": {},
   "source": [
    "2816 methylated CpG for cont cont overlaps with promoters\n",
    "\n",
    "3271 methylated CpG for cont hyp overlaps with promoters\n",
    "\n",
    "5399 methylated CpG for hyp cont overlaps with promoters\n",
    "\n",
    "4674 methylated CpG for hyp hyp overlaps with promoters"
   ]
  },
  {
   "cell_type": "markdown",
   "id": "1c42cc90-0326-414c-8912-1362c5ebb325",
   "metadata": {},
   "source": [
    "**methylated CpG in exon UTRs**"
   ]
  },
  {
   "cell_type": "code",
   "execution_count": null,
   "id": "211634a0-3aa6-423d-8893-c3c78255693f",
   "metadata": {},
   "outputs": [],
   "source": [
    "bedtools intersect -u -a $CC_CpG -b $exonUTR | wc -l\n",
    "echo \"methylated CpG for cont cont overlaps with UTRs\"\n",
    "\n",
    "bedtools intersect -u -a $CH_CpG -b $exonUTR | wc -l\n",
    "echo \"methylated CpG for cont hyp overlaps with UTRs\"\n",
    "\n",
    "bedtools intersect -u -a $HC_CpG -b $exonUTR | wc -l\n",
    "echo \"methylated CpG for hyp cont overlaps with UTRs\"\n",
    "\n",
    "bedtools intersect -u -a $HH_CpG -b $exonUTR | wc -l\n",
    "echo \"methylated CpG for hyp hyp overlaps with UTRs\""
   ]
  },
  {
   "cell_type": "markdown",
   "id": "e569244a-e958-4c01-bf12-1dcb1a2dfe00",
   "metadata": {},
   "source": [
    "3730 methylated CpG for cont cont overlaps with UTRs\n",
    "\n",
    "3833 methylated CpG for cont hyp overlaps with UTRs\n",
    "\n",
    "5028 methylated CpG for hyp cont overlaps with UTRs\n",
    "\n",
    "4698 methylated CpG for hyp hyp overlaps with UTRs\n"
   ]
  },
  {
   "cell_type": "markdown",
   "id": "751db2e5-4202-41de-b7b0-73fd3badc596",
   "metadata": {},
   "source": [
    "**methylated CpG in transposable elements**"
   ]
  },
  {
   "cell_type": "code",
   "execution_count": null,
   "id": "792e2fc7-ce4e-49dc-9421-5aa0d2d4ed04",
   "metadata": {},
   "outputs": [],
   "source": [
    "bedtools intersect -u -a $CC_CpG -b $teList | wc -l\n",
    "echo \"methylated CpG for cont cont overlaps with TEs\"\n",
    "\n",
    "bedtools intersect -u -a $CH_CpG -b $teList | wc -l\n",
    "echo \"methylated CpG for cont hyp overlaps with TEs\"\n",
    "\n",
    "bedtools intersect -u -a $HC_CpG -b $teList | wc -l\n",
    "echo \"methylated CpG for hyp cont overlaps with TEs\"\n",
    "\n",
    "bedtools intersect -u -a $HH_CpG -b $teList | wc -l\n",
    "echo \"methylated CpG for hyp hyp overlaps with TEs\""
   ]
  },
  {
   "cell_type": "markdown",
   "id": "bffc1aab-49b3-4620-aa0d-acbee07aeaaf",
   "metadata": {},
   "source": [
    "13950 methylated CpG for cont cont overlaps with TEs\n",
    "\n",
    "15377 methylated CpG for cont hyp overlaps with TEs\n",
    "\n",
    "23916 methylated CpG for hyp cont overlaps with TEs\n",
    "\n",
    "21942 methylated CpG for hyp hyp overlaps with TEs"
   ]
  },
  {
   "cell_type": "markdown",
   "id": "0520dbd1-2c08-45e8-a8ba-655263780cf9",
   "metadata": {},
   "source": [
    "**methylated CpG in intergenic regions**"
   ]
  },
  {
   "cell_type": "code",
   "execution_count": null,
   "id": "5ca53e33-5f4d-4fc2-8b8f-9c6dd5dcc277",
   "metadata": {},
   "outputs": [],
   "source": [
    "bedtools intersect -u -a $CC_CpG -b $intergenicList | wc -l\n",
    "echo \"methylated CpG for cont cont overlaps with intergenic regions\"\n",
    "\n",
    "bedtools intersect -u -a $CH_CpG -b $intergenicList | wc -l\n",
    "echo \"methylated CpG for cont hyp overlaps with intergenic regions\"\n",
    "\n",
    "bedtools intersect -u -a $HC_CpG -b $intergenicList | wc -l\n",
    "echo \"methylated CpG for hyp cont overlaps with intergenic regions\"\n",
    "\n",
    "bedtools intersect -u -a $HH_CpG -b $intergenicList | wc -l\n",
    "echo \"methylated CpG for hyp hyp overlaps with intergenic regions\""
   ]
  },
  {
   "cell_type": "markdown",
   "id": "ddb5c29c-dcbe-4480-8902-2fe07c11102d",
   "metadata": {},
   "source": [
    "15623 methylated CpG for cont cont overlaps with intergenic regions\n",
    "\n",
    "18016 methylated CpG for cont hyp overlaps with intergenic regions\n",
    "\n",
    "31804 methylated CpG for hyp cont overlaps with intergenic regions\n",
    "\n",
    "26827 methylated CpG for hyp hyp overlaps with intergenic regions\n"
   ]
  },
  {
   "cell_type": "markdown",
   "id": "f5b6d674-20a6-4551-b589-9e746f1c8ee0",
   "metadata": {},
   "source": [
    "## no overlaps with genomic features\n",
    "\n",
    "CpGs that do not overlap any feature (aka unannotated intergenic regions)"
   ]
  },
  {
   "cell_type": "code",
   "execution_count": null,
   "id": "90a85d5e-f726-4610-875e-f07c301bd4b1",
   "metadata": {},
   "outputs": [],
   "source": [
    "# CpG motif\n",
    "bedtools intersect -v -a $cpgList -b $exonList $intronList $teList $promoterList | wc -l\n",
    "echo \"CpG motifs do not overlap with exons, introns, transposable elements (all), or putative promoters\""
   ]
  },
  {
   "cell_type": "markdown",
   "id": "eb9ccddf-c650-441d-a79f-35f11257fd39",
   "metadata": {},
   "source": [
    "4499027 CpG motifs do not overlap with exons, introns, transposable elements (all), or putative promoters"
   ]
  },
  {
   "cell_type": "code",
   "execution_count": null,
   "id": "bafb6f3b-443c-43a6-9145-9a7c25c4f406",
   "metadata": {},
   "outputs": [],
   "source": [
    "bedtools intersect -v -a $CC_CpG -b $exonList $intronList $teList $promoterList | wc -l\n",
    "echo \"methylated CpG for cont cont do not overlap with exons, introns, transposable elements (all), or putative promoters\"\n",
    "\n",
    "bedtools intersect -u -a $CH_CpG -b $exonList $intronList $teList $promoterList | wc -l\n",
    "echo \"methylated CpG for cont hyp do not overlap with exons, introns, transposable elements (all), or putative promoters\"\n",
    "\n",
    "bedtools intersect -u -a $HC_CpG -b $exonList $intronList $teList $promoterList | wc -l\n",
    "echo \"methylated CpG for hyp cont do not overlap with exons, introns, transposable elements (all), or putative promoters\"\n",
    "\n",
    "bedtools intersect -u -a $HH_CpG -b $exonList $intronList $teList $promoterList | wc -l\n",
    "echo \"methylated CpG for hyp hyp do not overlap with exons, introns, transposable elements (all), or putative promoters\""
   ]
  },
  {
   "cell_type": "markdown",
   "id": "bcaa39fc-76e3-457a-a925-7290492ecf65",
   "metadata": {},
   "source": [
    "9728 methylated CpG for cont cont do not overlap with exons, introns, transposable elements (all), or putative promoters\n",
    "\n",
    "86083 methylated CpG for cont hyp do not overlap with exons, introns, transposable elements (all), or putative promoters\n",
    "\n",
    "121018 methylated CpG for hyp cont do not overlap with exons, introns, transposable elements (all), or putative promoters\n",
    "\n",
    "110551 methylated CpG for hyp hyp do not overlap with exons, introns, transposable elements (all), or putative promoters"
   ]
  }
 ],
 "metadata": {
  "kernelspec": {
   "display_name": "R [conda env:.conda-r-env]",
   "language": "R",
   "name": "conda-env-.conda-r-env-r"
  },
  "language_info": {
   "codemirror_mode": "r",
   "file_extension": ".r",
   "mimetype": "text/x-r-source",
   "name": "R",
   "pygments_lexer": "r",
   "version": "4.3.2"
  }
 },
 "nbformat": 4,
 "nbformat_minor": 5
}
