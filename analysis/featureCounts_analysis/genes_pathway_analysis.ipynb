{
 "cells": [
  {
   "cell_type": "markdown",
   "id": "d9dfba50-6cd0-4119-9d03-4dcf79b492b4",
   "metadata": {},
   "source": [
    "# Are our significant DMGs the core enrichment genes in our identified enriched pathways?\n",
    "We want to combine what we've found for statistically signficant differentially methylated genes and connect it to our identified enriched pathways so we can start to make sense of things biologically.\n",
    "\n",
    "I have generated two csv files for both **phase 1 warm vs. control oysters**:\n",
    "- phase1_wc_genes.csv - list of significant (adjusted p-value < 0.05) DMGs\n",
    "- p1_wc_pathway.csv - list of enriched pathways from KEGG\n",
    "\n",
    "Each enriched pathway contains a list of 'core enrichment genes' - these are a list of genes that are reported as part of the 'core enrichment' and contribute to the observed enrichment score.\n",
    "\n",
    "The thinking is that maybe some of our signficant DMGs are part of that core enrichment group, which could tell us that that pathway is especially important/biologically relevant."
   ]
  },
  {
   "cell_type": "markdown",
   "id": "b437bc4b-128e-4873-9c47-2b5c88876bdf",
   "metadata": {
    "tags": []
   },
   "source": [
    "#### I. Load packages"
   ]
  },
  {
   "cell_type": "code",
   "execution_count": 3,
   "id": "7ceb2acf-d206-40ad-b486-b3bcedb4829b",
   "metadata": {},
   "outputs": [
    {
     "name": "stderr",
     "output_type": "stream",
     "text": [
      "── \u001b[1mAttaching core tidyverse packages\u001b[22m ──────────────────────── tidyverse 2.0.0 ──\n",
      "\u001b[32m✔\u001b[39m \u001b[34mdplyr    \u001b[39m 1.1.4     \u001b[32m✔\u001b[39m \u001b[34mreadr    \u001b[39m 2.1.4\n",
      "\u001b[32m✔\u001b[39m \u001b[34mforcats  \u001b[39m 1.0.0     \u001b[32m✔\u001b[39m \u001b[34mstringr  \u001b[39m 1.5.1\n",
      "\u001b[32m✔\u001b[39m \u001b[34mggplot2  \u001b[39m 3.4.4     \u001b[32m✔\u001b[39m \u001b[34mtibble   \u001b[39m 3.2.1\n",
      "\u001b[32m✔\u001b[39m \u001b[34mlubridate\u001b[39m 1.9.3     \u001b[32m✔\u001b[39m \u001b[34mtidyr    \u001b[39m 1.3.0\n",
      "\u001b[32m✔\u001b[39m \u001b[34mpurrr    \u001b[39m 1.0.2     \n",
      "── \u001b[1mConflicts\u001b[22m ────────────────────────────────────────── tidyverse_conflicts() ──\n",
      "\u001b[31m✖\u001b[39m \u001b[34mdplyr\u001b[39m::\u001b[32mfilter()\u001b[39m masks \u001b[34mstats\u001b[39m::filter()\n",
      "\u001b[31m✖\u001b[39m \u001b[34mdplyr\u001b[39m::\u001b[32mlag()\u001b[39m    masks \u001b[34mstats\u001b[39m::lag()\n",
      "\u001b[36mℹ\u001b[39m Use the conflicted package (\u001b[3m\u001b[34m<http://conflicted.r-lib.org/>\u001b[39m\u001b[23m) to force all conflicts to become errors\n"
     ]
    }
   ],
   "source": [
    "library(tidyverse)"
   ]
  },
  {
   "cell_type": "markdown",
   "id": "130693ca-607e-4525-be1e-5ea30e96188f",
   "metadata": {
    "jp-MarkdownHeadingCollapsed": true,
    "tags": []
   },
   "source": [
    "#### II. Load, clean, and prep both csv files"
   ]
  },
  {
   "cell_type": "code",
   "execution_count": 2,
   "id": "ebacfd63-5bbe-46ed-b85a-16352368eb7f",
   "metadata": {},
   "outputs": [
    {
     "data": {
      "text/html": [
       "<style>\n",
       ".list-inline {list-style: none; margin:0; padding: 0}\n",
       ".list-inline>li {display: inline-block}\n",
       ".list-inline>li:not(:last-child)::after {content: \"\\00b7\"; padding: 0 .5ex}\n",
       "</style>\n",
       "<ol class=list-inline><li>119</li><li>11</li></ol>\n"
      ],
      "text/latex": [
       "\\begin{enumerate*}\n",
       "\\item 119\n",
       "\\item 11\n",
       "\\end{enumerate*}\n"
      ],
      "text/markdown": [
       "1. 119\n",
       "2. 11\n",
       "\n",
       "\n"
      ],
      "text/plain": [
       "[1] 119  11"
      ]
     },
     "metadata": {},
     "output_type": "display_data"
    },
    {
     "data": {
      "text/html": [
       "<table class=\"dataframe\">\n",
       "<caption>A data.frame: 6 × 11</caption>\n",
       "<thead>\n",
       "\t<tr><th></th><th scope=col>ID</th><th scope=col>Description</th><th scope=col>setSize</th><th scope=col>enrichmentScore</th><th scope=col>NES</th><th scope=col>pvalue</th><th scope=col>p.adjust</th><th scope=col>qvalue</th><th scope=col>rank</th><th scope=col>leading_edge</th><th scope=col>core_enrichment</th></tr>\n",
       "\t<tr><th></th><th scope=col>&lt;chr&gt;</th><th scope=col>&lt;chr&gt;</th><th scope=col>&lt;int&gt;</th><th scope=col>&lt;dbl&gt;</th><th scope=col>&lt;dbl&gt;</th><th scope=col>&lt;dbl&gt;</th><th scope=col>&lt;dbl&gt;</th><th scope=col>&lt;dbl&gt;</th><th scope=col>&lt;int&gt;</th><th scope=col>&lt;chr&gt;</th><th scope=col>&lt;chr&gt;</th></tr>\n",
       "</thead>\n",
       "<tbody>\n",
       "\t<tr><th scope=row>1</th><td>cvn00910</td><td>Nitrogen metabolism              </td><td>10</td><td>0.7751841</td><td>1.619242</td><td>0.007876028</td><td>0.2056087</td><td>0.1873304</td><td>1398</td><td>tags=50%, list=10%, signal=45%</td><td>111134700/111100398/111100399/111126492/111135592                                                                                </td></tr>\n",
       "\t<tr><th scope=row>2</th><td>cvn00053</td><td>Ascorbate and aldarate metabolism</td><td>11</td><td>0.7413812</td><td>1.583931</td><td>0.013924094</td><td>0.2056087</td><td>0.1873304</td><td>2374</td><td>tags=55%, list=18%, signal=45%</td><td>111124535/111103451/111124599/111112920/111115614/111103498                                                                      </td></tr>\n",
       "\t<tr><th scope=row>3</th><td>cvn00052</td><td>Galactose metabolism             </td><td>21</td><td>0.6484812</td><td>1.582238</td><td>0.015374308</td><td>0.2056087</td><td>0.1873304</td><td>2261</td><td>tags=38%, list=17%, signal=32%</td><td>111101197/111118471/111101820/111113388/111109442/111099882/111120703/111118006                                                  </td></tr>\n",
       "\t<tr><th scope=row>4</th><td>cvn00592</td><td>alpha-Linolenic acid metabolism  </td><td>11</td><td>0.7377666</td><td>1.576208</td><td>0.015550238</td><td>0.2056087</td><td>0.1873304</td><td>1602</td><td>tags=45%, list=12%, signal=40%</td><td>111113990/111115744/111107112/111115745/111124908                                                                                </td></tr>\n",
       "\t<tr><th scope=row>5</th><td>cvn00511</td><td>Other glycan degradation         </td><td>37</td><td>0.5917499</td><td>1.563906</td><td>0.004948574</td><td>0.2056087</td><td>0.1873304</td><td>2221</td><td>tags=30%, list=16%, signal=25%</td><td>111106921/111106925/111106928/111119851/111119435/111120040/111113388/111119434/111106926/111119431/111106930                    </td></tr>\n",
       "\t<tr><th scope=row>6</th><td>cvn03250</td><td>Viral life cycle                 </td><td>28</td><td>0.6023539</td><td>1.532503</td><td>0.008064620</td><td>0.2056087</td><td>0.1873304</td><td>2628</td><td>tags=46%, list=19%, signal=37%</td><td>111124701/111124696/111129825/111111579/111108190/111135084/111128997/111124977/111106750/111123417/111130886/111104027/111135329</td></tr>\n",
       "</tbody>\n",
       "</table>\n"
      ],
      "text/latex": [
       "A data.frame: 6 × 11\n",
       "\\begin{tabular}{r|lllllllllll}\n",
       "  & ID & Description & setSize & enrichmentScore & NES & pvalue & p.adjust & qvalue & rank & leading\\_edge & core\\_enrichment\\\\\n",
       "  & <chr> & <chr> & <int> & <dbl> & <dbl> & <dbl> & <dbl> & <dbl> & <int> & <chr> & <chr>\\\\\n",
       "\\hline\n",
       "\t1 & cvn00910 & Nitrogen metabolism               & 10 & 0.7751841 & 1.619242 & 0.007876028 & 0.2056087 & 0.1873304 & 1398 & tags=50\\%, list=10\\%, signal=45\\% & 111134700/111100398/111100399/111126492/111135592                                                                                \\\\\n",
       "\t2 & cvn00053 & Ascorbate and aldarate metabolism & 11 & 0.7413812 & 1.583931 & 0.013924094 & 0.2056087 & 0.1873304 & 2374 & tags=55\\%, list=18\\%, signal=45\\% & 111124535/111103451/111124599/111112920/111115614/111103498                                                                      \\\\\n",
       "\t3 & cvn00052 & Galactose metabolism              & 21 & 0.6484812 & 1.582238 & 0.015374308 & 0.2056087 & 0.1873304 & 2261 & tags=38\\%, list=17\\%, signal=32\\% & 111101197/111118471/111101820/111113388/111109442/111099882/111120703/111118006                                                  \\\\\n",
       "\t4 & cvn00592 & alpha-Linolenic acid metabolism   & 11 & 0.7377666 & 1.576208 & 0.015550238 & 0.2056087 & 0.1873304 & 1602 & tags=45\\%, list=12\\%, signal=40\\% & 111113990/111115744/111107112/111115745/111124908                                                                                \\\\\n",
       "\t5 & cvn00511 & Other glycan degradation          & 37 & 0.5917499 & 1.563906 & 0.004948574 & 0.2056087 & 0.1873304 & 2221 & tags=30\\%, list=16\\%, signal=25\\% & 111106921/111106925/111106928/111119851/111119435/111120040/111113388/111119434/111106926/111119431/111106930                    \\\\\n",
       "\t6 & cvn03250 & Viral life cycle                  & 28 & 0.6023539 & 1.532503 & 0.008064620 & 0.2056087 & 0.1873304 & 2628 & tags=46\\%, list=19\\%, signal=37\\% & 111124701/111124696/111129825/111111579/111108190/111135084/111128997/111124977/111106750/111123417/111130886/111104027/111135329\\\\\n",
       "\\end{tabular}\n"
      ],
      "text/markdown": [
       "\n",
       "A data.frame: 6 × 11\n",
       "\n",
       "| <!--/--> | ID &lt;chr&gt; | Description &lt;chr&gt; | setSize &lt;int&gt; | enrichmentScore &lt;dbl&gt; | NES &lt;dbl&gt; | pvalue &lt;dbl&gt; | p.adjust &lt;dbl&gt; | qvalue &lt;dbl&gt; | rank &lt;int&gt; | leading_edge &lt;chr&gt; | core_enrichment &lt;chr&gt; |\n",
       "|---|---|---|---|---|---|---|---|---|---|---|---|\n",
       "| 1 | cvn00910 | Nitrogen metabolism               | 10 | 0.7751841 | 1.619242 | 0.007876028 | 0.2056087 | 0.1873304 | 1398 | tags=50%, list=10%, signal=45% | 111134700/111100398/111100399/111126492/111135592                                                                                 |\n",
       "| 2 | cvn00053 | Ascorbate and aldarate metabolism | 11 | 0.7413812 | 1.583931 | 0.013924094 | 0.2056087 | 0.1873304 | 2374 | tags=55%, list=18%, signal=45% | 111124535/111103451/111124599/111112920/111115614/111103498                                                                       |\n",
       "| 3 | cvn00052 | Galactose metabolism              | 21 | 0.6484812 | 1.582238 | 0.015374308 | 0.2056087 | 0.1873304 | 2261 | tags=38%, list=17%, signal=32% | 111101197/111118471/111101820/111113388/111109442/111099882/111120703/111118006                                                   |\n",
       "| 4 | cvn00592 | alpha-Linolenic acid metabolism   | 11 | 0.7377666 | 1.576208 | 0.015550238 | 0.2056087 | 0.1873304 | 1602 | tags=45%, list=12%, signal=40% | 111113990/111115744/111107112/111115745/111124908                                                                                 |\n",
       "| 5 | cvn00511 | Other glycan degradation          | 37 | 0.5917499 | 1.563906 | 0.004948574 | 0.2056087 | 0.1873304 | 2221 | tags=30%, list=16%, signal=25% | 111106921/111106925/111106928/111119851/111119435/111120040/111113388/111119434/111106926/111119431/111106930                     |\n",
       "| 6 | cvn03250 | Viral life cycle                  | 28 | 0.6023539 | 1.532503 | 0.008064620 | 0.2056087 | 0.1873304 | 2628 | tags=46%, list=19%, signal=37% | 111124701/111124696/111129825/111111579/111108190/111135084/111128997/111124977/111106750/111123417/111130886/111104027/111135329 |\n",
       "\n"
      ],
      "text/plain": [
       "  ID       Description                       setSize enrichmentScore NES     \n",
       "1 cvn00910 Nitrogen metabolism               10      0.7751841       1.619242\n",
       "2 cvn00053 Ascorbate and aldarate metabolism 11      0.7413812       1.583931\n",
       "3 cvn00052 Galactose metabolism              21      0.6484812       1.582238\n",
       "4 cvn00592 alpha-Linolenic acid metabolism   11      0.7377666       1.576208\n",
       "5 cvn00511 Other glycan degradation          37      0.5917499       1.563906\n",
       "6 cvn03250 Viral life cycle                  28      0.6023539       1.532503\n",
       "  pvalue      p.adjust  qvalue    rank leading_edge                  \n",
       "1 0.007876028 0.2056087 0.1873304 1398 tags=50%, list=10%, signal=45%\n",
       "2 0.013924094 0.2056087 0.1873304 2374 tags=55%, list=18%, signal=45%\n",
       "3 0.015374308 0.2056087 0.1873304 2261 tags=38%, list=17%, signal=32%\n",
       "4 0.015550238 0.2056087 0.1873304 1602 tags=45%, list=12%, signal=40%\n",
       "5 0.004948574 0.2056087 0.1873304 2221 tags=30%, list=16%, signal=25%\n",
       "6 0.008064620 0.2056087 0.1873304 2628 tags=46%, list=19%, signal=37%\n",
       "  core_enrichment                                                                                                                  \n",
       "1 111134700/111100398/111100399/111126492/111135592                                                                                \n",
       "2 111124535/111103451/111124599/111112920/111115614/111103498                                                                      \n",
       "3 111101197/111118471/111101820/111113388/111109442/111099882/111120703/111118006                                                  \n",
       "4 111113990/111115744/111107112/111115745/111124908                                                                                \n",
       "5 111106921/111106925/111106928/111119851/111119435/111120040/111113388/111119434/111106926/111119431/111106930                    \n",
       "6 111124701/111124696/111129825/111111579/111108190/111135084/111128997/111124977/111106750/111123417/111130886/111104027/111135329"
      ]
     },
     "metadata": {},
     "output_type": "display_data"
    }
   ],
   "source": [
    "# load in csv file\n",
    "pathway <- read.csv('/project/pi_sarah_gignouxwolfsohn_uml_edu/julia/CE_MethylRAD_analysis_2018/analysis/lfc_kegg_pathways/p1_wc_pathway.csv')\n",
    "\n",
    "# clean headers and columns\n",
    "pathway <- pathway[,-1]\n",
    "\n",
    "# checking dimensions\n",
    "dim(pathway) #119 pathways, 11 rows of info/meta data\n",
    "\n",
    "head(pathway)"
   ]
  },
  {
   "cell_type": "code",
   "execution_count": 3,
   "id": "51b8ab95-06b5-4614-bbf4-5955beed8ac7",
   "metadata": {},
   "outputs": [
    {
     "data": {
      "text/html": [
       "<style>\n",
       ".list-inline {list-style: none; margin:0; padding: 0}\n",
       ".list-inline>li {display: inline-block}\n",
       ".list-inline>li:not(:last-child)::after {content: \"\\00b7\"; padding: 0 .5ex}\n",
       "</style>\n",
       "<ol class=list-inline><li>189</li><li>3</li></ol>\n"
      ],
      "text/latex": [
       "\\begin{enumerate*}\n",
       "\\item 189\n",
       "\\item 3\n",
       "\\end{enumerate*}\n"
      ],
      "text/markdown": [
       "1. 189\n",
       "2. 3\n",
       "\n",
       "\n"
      ],
      "text/plain": [
       "[1] 189   3"
      ]
     },
     "metadata": {},
     "output_type": "display_data"
    },
    {
     "data": {
      "text/html": [
       "<table class=\"dataframe\">\n",
       "<caption>A data.frame: 6 × 3</caption>\n",
       "<thead>\n",
       "\t<tr><th></th><th scope=col>gene</th><th scope=col>lfc</th><th scope=col>padj</th></tr>\n",
       "\t<tr><th></th><th scope=col>&lt;chr&gt;</th><th scope=col>&lt;dbl&gt;</th><th scope=col>&lt;dbl&gt;</th></tr>\n",
       "</thead>\n",
       "<tbody>\n",
       "\t<tr><th scope=row>1</th><td>111128103</td><td>1.644558</td><td>0.0307415459</td></tr>\n",
       "\t<tr><th scope=row>2</th><td>111137770</td><td>2.655903</td><td>0.0178939261</td></tr>\n",
       "\t<tr><th scope=row>3</th><td>111111295</td><td>2.360240</td><td>0.0137418025</td></tr>\n",
       "\t<tr><th scope=row>4</th><td>111125391</td><td>2.205531</td><td>0.0207473298</td></tr>\n",
       "\t<tr><th scope=row>5</th><td>111110197</td><td>1.863842</td><td>0.0209235911</td></tr>\n",
       "\t<tr><th scope=row>6</th><td>111115675</td><td>2.781707</td><td>0.0000792069</td></tr>\n",
       "</tbody>\n",
       "</table>\n"
      ],
      "text/latex": [
       "A data.frame: 6 × 3\n",
       "\\begin{tabular}{r|lll}\n",
       "  & gene & lfc & padj\\\\\n",
       "  & <chr> & <dbl> & <dbl>\\\\\n",
       "\\hline\n",
       "\t1 & 111128103 & 1.644558 & 0.0307415459\\\\\n",
       "\t2 & 111137770 & 2.655903 & 0.0178939261\\\\\n",
       "\t3 & 111111295 & 2.360240 & 0.0137418025\\\\\n",
       "\t4 & 111125391 & 2.205531 & 0.0207473298\\\\\n",
       "\t5 & 111110197 & 1.863842 & 0.0209235911\\\\\n",
       "\t6 & 111115675 & 2.781707 & 0.0000792069\\\\\n",
       "\\end{tabular}\n"
      ],
      "text/markdown": [
       "\n",
       "A data.frame: 6 × 3\n",
       "\n",
       "| <!--/--> | gene &lt;chr&gt; | lfc &lt;dbl&gt; | padj &lt;dbl&gt; |\n",
       "|---|---|---|---|\n",
       "| 1 | 111128103 | 1.644558 | 0.0307415459 |\n",
       "| 2 | 111137770 | 2.655903 | 0.0178939261 |\n",
       "| 3 | 111111295 | 2.360240 | 0.0137418025 |\n",
       "| 4 | 111125391 | 2.205531 | 0.0207473298 |\n",
       "| 5 | 111110197 | 1.863842 | 0.0209235911 |\n",
       "| 6 | 111115675 | 2.781707 | 0.0000792069 |\n",
       "\n"
      ],
      "text/plain": [
       "  gene      lfc      padj        \n",
       "1 111128103 1.644558 0.0307415459\n",
       "2 111137770 2.655903 0.0178939261\n",
       "3 111111295 2.360240 0.0137418025\n",
       "4 111125391 2.205531 0.0207473298\n",
       "5 111110197 1.863842 0.0209235911\n",
       "6 111115675 2.781707 0.0000792069"
      ]
     },
     "metadata": {},
     "output_type": "display_data"
    }
   ],
   "source": [
    "# load data frame\n",
    "genes <- read.csv('/project/pi_sarah_gignouxwolfsohn_uml_edu/julia/CE_MethylRAD_analysis_2018/analysis/lfc_sig_genes/phase1_wc_genes.csv')\n",
    "\n",
    "# KEGG uses entrez IDs, which are my ensembl IDs without the 'LOC' in front of them, so need to convert those\n",
    "genes$X <- substr(genes$X, start = 4, stop = nchar(genes$X))\n",
    "\n",
    "# only grabbing the columns I care about\n",
    "genes <- select(genes, X, log2FoldChange, padj)\n",
    "\n",
    "# renaming columns to make more sense\n",
    "colnames(genes) <- c('gene', 'lfc', 'padj')\n",
    "\n",
    "# checking dimensions\n",
    "dim(genes) # 189 sig DMGs\n",
    "\n",
    "head(genes)"
   ]
  },
  {
   "cell_type": "markdown",
   "id": "4dbd9070-7a0a-4b37-9eab-230d5779d82e",
   "metadata": {
    "jp-MarkdownHeadingCollapsed": true,
    "tags": []
   },
   "source": [
    "#### III. Are the signficant genes in the core enrichment of the pathways?\n",
    "Taking our list of siginificant genes, and going line by line in our pathways to see if our sig. gene matches any of the core enrichment genes"
   ]
  },
  {
   "cell_type": "code",
   "execution_count": 4,
   "id": "d5a49b65-155d-47bd-aeb9-ad8c15e8dcc4",
   "metadata": {},
   "outputs": [
    {
     "data": {
      "text/html": [
       "<table class=\"dataframe\">\n",
       "<caption>A data.frame: 6 × 12</caption>\n",
       "<thead>\n",
       "\t<tr><th></th><th scope=col>ID</th><th scope=col>Description</th><th scope=col>setSize</th><th scope=col>enrichmentScore</th><th scope=col>NES</th><th scope=col>pvalue</th><th scope=col>p.adjust</th><th scope=col>qvalue</th><th scope=col>rank</th><th scope=col>leading_edge</th><th scope=col>core_enrichment</th><th scope=col>MatchesCount</th></tr>\n",
       "\t<tr><th></th><th scope=col>&lt;chr&gt;</th><th scope=col>&lt;chr&gt;</th><th scope=col>&lt;int&gt;</th><th scope=col>&lt;dbl&gt;</th><th scope=col>&lt;dbl&gt;</th><th scope=col>&lt;dbl&gt;</th><th scope=col>&lt;dbl&gt;</th><th scope=col>&lt;dbl&gt;</th><th scope=col>&lt;int&gt;</th><th scope=col>&lt;chr&gt;</th><th scope=col>&lt;chr&gt;</th><th scope=col>&lt;int&gt;</th></tr>\n",
       "</thead>\n",
       "<tbody>\n",
       "\t<tr><th scope=row>9</th><td>cvn04814</td><td>Motor proteins                       </td><td>110</td><td>0.4860525</td><td>1.448496</td><td>0.008328566</td><td>0.2056087</td><td>0.1873304</td><td>1179</td><td>tags=18%, list=9%, signal=17% </td><td>111136151/111134768/111107338/111102596/111112439/111103394/111115784/111129526/111107250/111127380/111134843/111137068/111131563/111119946/111134888/111120500/111129376/111130940/111125250/111131555                                                                                                                                                                                                                            </td><td>7</td></tr>\n",
       "\t<tr><th scope=row>15</th><td>cvn04144</td><td>Endocytosis                          </td><td>130</td><td>0.4435434</td><td>1.329267</td><td>0.030581040</td><td>0.2426096</td><td>0.2210419</td><td>3185</td><td>tags=32%, list=24%, signal=25%</td><td>111120187/111125099/111112319/111119513/111112439/111119512/111136896/111104852/111102907/111107174/111136866/111125956/111134954/111112863/111116971/111112700/111135084/111133388/111134171/111121253/111115795/111127289/111129312/111134242/111121437/111129503/111135594/111106223/111123210/111125223/111105462/111104835/111104585/111104028/111133563/111105923/111119177/111101822/111104196/111137900/111112119/111123772</td><td>5</td></tr>\n",
       "\t<tr><th scope=row>41</th><td>cvn03040</td><td>Spliceosome                          </td><td> 91</td><td>0.4067843</td><td>1.195986</td><td>0.179752066</td><td>0.5397379</td><td>0.4917559</td><td>1557</td><td>tags=16%, list=11%, signal=15%</td><td>111112733/111137770/111119513/111119512/111129112/111133954/111121854/111121021/111118318/111119442/111134531/111114893/111136440/111135640/111136164                                                                                                                                                                                                                                                                              </td><td>4</td></tr>\n",
       "\t<tr><th scope=row>1</th><td>cvn00910</td><td>Nitrogen metabolism                  </td><td> 10</td><td>0.7751841</td><td>1.619242</td><td>0.007876028</td><td>0.2056087</td><td>0.1873304</td><td>1398</td><td>tags=50%, list=10%, signal=45%</td><td>111134700/111100398/111100399/111126492/111135592                                                                                                                                                                                                                                                                                                                                                                                  </td><td>3</td></tr>\n",
       "\t<tr><th scope=row>30</th><td>cvn04070</td><td>Phosphatidylinositol signaling system</td><td> 55</td><td>0.4596708</td><td>1.283800</td><td>0.115015974</td><td>0.5397379</td><td>0.4917559</td><td>2592</td><td>tags=27%, list=19%, signal=22%</td><td>111101050/111127799/111125442/111100277/111125100/111126338/111100148/111135914/111134544/111120505/111135557/111122823/111128823/111138290/111130239                                                                                                                                                                                                                                                                              </td><td>3</td></tr>\n",
       "\t<tr><th scope=row>34</th><td>cvn00562</td><td>Inositol phosphate metabolism        </td><td> 46</td><td>0.4548720</td><td>1.242543</td><td>0.155361050</td><td>0.5397379</td><td>0.4917559</td><td>2592</td><td>tags=26%, list=19%, signal=21%</td><td>111101050/111127799/111125442/111125100/111126338/111100148/111135914/111134544/111120505/111135557/111138290/111130239                                                                                                                                                                                                                                                                                                            </td><td>3</td></tr>\n",
       "</tbody>\n",
       "</table>\n"
      ],
      "text/latex": [
       "A data.frame: 6 × 12\n",
       "\\begin{tabular}{r|llllllllllll}\n",
       "  & ID & Description & setSize & enrichmentScore & NES & pvalue & p.adjust & qvalue & rank & leading\\_edge & core\\_enrichment & MatchesCount\\\\\n",
       "  & <chr> & <chr> & <int> & <dbl> & <dbl> & <dbl> & <dbl> & <dbl> & <int> & <chr> & <chr> & <int>\\\\\n",
       "\\hline\n",
       "\t9 & cvn04814 & Motor proteins                        & 110 & 0.4860525 & 1.448496 & 0.008328566 & 0.2056087 & 0.1873304 & 1179 & tags=18\\%, list=9\\%, signal=17\\%  & 111136151/111134768/111107338/111102596/111112439/111103394/111115784/111129526/111107250/111127380/111134843/111137068/111131563/111119946/111134888/111120500/111129376/111130940/111125250/111131555                                                                                                                                                                                                                             & 7\\\\\n",
       "\t15 & cvn04144 & Endocytosis                           & 130 & 0.4435434 & 1.329267 & 0.030581040 & 0.2426096 & 0.2210419 & 3185 & tags=32\\%, list=24\\%, signal=25\\% & 111120187/111125099/111112319/111119513/111112439/111119512/111136896/111104852/111102907/111107174/111136866/111125956/111134954/111112863/111116971/111112700/111135084/111133388/111134171/111121253/111115795/111127289/111129312/111134242/111121437/111129503/111135594/111106223/111123210/111125223/111105462/111104835/111104585/111104028/111133563/111105923/111119177/111101822/111104196/111137900/111112119/111123772 & 5\\\\\n",
       "\t41 & cvn03040 & Spliceosome                           &  91 & 0.4067843 & 1.195986 & 0.179752066 & 0.5397379 & 0.4917559 & 1557 & tags=16\\%, list=11\\%, signal=15\\% & 111112733/111137770/111119513/111119512/111129112/111133954/111121854/111121021/111118318/111119442/111134531/111114893/111136440/111135640/111136164                                                                                                                                                                                                                                                                               & 4\\\\\n",
       "\t1 & cvn00910 & Nitrogen metabolism                   &  10 & 0.7751841 & 1.619242 & 0.007876028 & 0.2056087 & 0.1873304 & 1398 & tags=50\\%, list=10\\%, signal=45\\% & 111134700/111100398/111100399/111126492/111135592                                                                                                                                                                                                                                                                                                                                                                                   & 3\\\\\n",
       "\t30 & cvn04070 & Phosphatidylinositol signaling system &  55 & 0.4596708 & 1.283800 & 0.115015974 & 0.5397379 & 0.4917559 & 2592 & tags=27\\%, list=19\\%, signal=22\\% & 111101050/111127799/111125442/111100277/111125100/111126338/111100148/111135914/111134544/111120505/111135557/111122823/111128823/111138290/111130239                                                                                                                                                                                                                                                                               & 3\\\\\n",
       "\t34 & cvn00562 & Inositol phosphate metabolism         &  46 & 0.4548720 & 1.242543 & 0.155361050 & 0.5397379 & 0.4917559 & 2592 & tags=26\\%, list=19\\%, signal=21\\% & 111101050/111127799/111125442/111125100/111126338/111100148/111135914/111134544/111120505/111135557/111138290/111130239                                                                                                                                                                                                                                                                                                             & 3\\\\\n",
       "\\end{tabular}\n"
      ],
      "text/markdown": [
       "\n",
       "A data.frame: 6 × 12\n",
       "\n",
       "| <!--/--> | ID &lt;chr&gt; | Description &lt;chr&gt; | setSize &lt;int&gt; | enrichmentScore &lt;dbl&gt; | NES &lt;dbl&gt; | pvalue &lt;dbl&gt; | p.adjust &lt;dbl&gt; | qvalue &lt;dbl&gt; | rank &lt;int&gt; | leading_edge &lt;chr&gt; | core_enrichment &lt;chr&gt; | MatchesCount &lt;int&gt; |\n",
       "|---|---|---|---|---|---|---|---|---|---|---|---|---|\n",
       "| 9 | cvn04814 | Motor proteins                        | 110 | 0.4860525 | 1.448496 | 0.008328566 | 0.2056087 | 0.1873304 | 1179 | tags=18%, list=9%, signal=17%  | 111136151/111134768/111107338/111102596/111112439/111103394/111115784/111129526/111107250/111127380/111134843/111137068/111131563/111119946/111134888/111120500/111129376/111130940/111125250/111131555                                                                                                                                                                                                                             | 7 |\n",
       "| 15 | cvn04144 | Endocytosis                           | 130 | 0.4435434 | 1.329267 | 0.030581040 | 0.2426096 | 0.2210419 | 3185 | tags=32%, list=24%, signal=25% | 111120187/111125099/111112319/111119513/111112439/111119512/111136896/111104852/111102907/111107174/111136866/111125956/111134954/111112863/111116971/111112700/111135084/111133388/111134171/111121253/111115795/111127289/111129312/111134242/111121437/111129503/111135594/111106223/111123210/111125223/111105462/111104835/111104585/111104028/111133563/111105923/111119177/111101822/111104196/111137900/111112119/111123772 | 5 |\n",
       "| 41 | cvn03040 | Spliceosome                           |  91 | 0.4067843 | 1.195986 | 0.179752066 | 0.5397379 | 0.4917559 | 1557 | tags=16%, list=11%, signal=15% | 111112733/111137770/111119513/111119512/111129112/111133954/111121854/111121021/111118318/111119442/111134531/111114893/111136440/111135640/111136164                                                                                                                                                                                                                                                                               | 4 |\n",
       "| 1 | cvn00910 | Nitrogen metabolism                   |  10 | 0.7751841 | 1.619242 | 0.007876028 | 0.2056087 | 0.1873304 | 1398 | tags=50%, list=10%, signal=45% | 111134700/111100398/111100399/111126492/111135592                                                                                                                                                                                                                                                                                                                                                                                   | 3 |\n",
       "| 30 | cvn04070 | Phosphatidylinositol signaling system |  55 | 0.4596708 | 1.283800 | 0.115015974 | 0.5397379 | 0.4917559 | 2592 | tags=27%, list=19%, signal=22% | 111101050/111127799/111125442/111100277/111125100/111126338/111100148/111135914/111134544/111120505/111135557/111122823/111128823/111138290/111130239                                                                                                                                                                                                                                                                               | 3 |\n",
       "| 34 | cvn00562 | Inositol phosphate metabolism         |  46 | 0.4548720 | 1.242543 | 0.155361050 | 0.5397379 | 0.4917559 | 2592 | tags=26%, list=19%, signal=21% | 111101050/111127799/111125442/111125100/111126338/111100148/111135914/111134544/111120505/111135557/111138290/111130239                                                                                                                                                                                                                                                                                                             | 3 |\n",
       "\n"
      ],
      "text/plain": [
       "   ID       Description                           setSize enrichmentScore\n",
       "9  cvn04814 Motor proteins                        110     0.4860525      \n",
       "15 cvn04144 Endocytosis                           130     0.4435434      \n",
       "41 cvn03040 Spliceosome                            91     0.4067843      \n",
       "1  cvn00910 Nitrogen metabolism                    10     0.7751841      \n",
       "30 cvn04070 Phosphatidylinositol signaling system  55     0.4596708      \n",
       "34 cvn00562 Inositol phosphate metabolism          46     0.4548720      \n",
       "   NES      pvalue      p.adjust  qvalue    rank leading_edge                  \n",
       "9  1.448496 0.008328566 0.2056087 0.1873304 1179 tags=18%, list=9%, signal=17% \n",
       "15 1.329267 0.030581040 0.2426096 0.2210419 3185 tags=32%, list=24%, signal=25%\n",
       "41 1.195986 0.179752066 0.5397379 0.4917559 1557 tags=16%, list=11%, signal=15%\n",
       "1  1.619242 0.007876028 0.2056087 0.1873304 1398 tags=50%, list=10%, signal=45%\n",
       "30 1.283800 0.115015974 0.5397379 0.4917559 2592 tags=27%, list=19%, signal=22%\n",
       "34 1.242543 0.155361050 0.5397379 0.4917559 2592 tags=26%, list=19%, signal=21%\n",
       "   core_enrichment                                                                                                                                                                                                                                                                                                                                                                                                                    \n",
       "9  111136151/111134768/111107338/111102596/111112439/111103394/111115784/111129526/111107250/111127380/111134843/111137068/111131563/111119946/111134888/111120500/111129376/111130940/111125250/111131555                                                                                                                                                                                                                            \n",
       "15 111120187/111125099/111112319/111119513/111112439/111119512/111136896/111104852/111102907/111107174/111136866/111125956/111134954/111112863/111116971/111112700/111135084/111133388/111134171/111121253/111115795/111127289/111129312/111134242/111121437/111129503/111135594/111106223/111123210/111125223/111105462/111104835/111104585/111104028/111133563/111105923/111119177/111101822/111104196/111137900/111112119/111123772\n",
       "41 111112733/111137770/111119513/111119512/111129112/111133954/111121854/111121021/111118318/111119442/111134531/111114893/111136440/111135640/111136164                                                                                                                                                                                                                                                                              \n",
       "1  111134700/111100398/111100399/111126492/111135592                                                                                                                                                                                                                                                                                                                                                                                  \n",
       "30 111101050/111127799/111125442/111100277/111125100/111126338/111100148/111135914/111134544/111120505/111135557/111122823/111128823/111138290/111130239                                                                                                                                                                                                                                                                              \n",
       "34 111101050/111127799/111125442/111125100/111126338/111100148/111135914/111134544/111120505/111135557/111138290/111130239                                                                                                                                                                                                                                                                                                            \n",
       "   MatchesCount\n",
       "9  7           \n",
       "15 5           \n",
       "41 4           \n",
       "1  3           \n",
       "30 3           \n",
       "34 3           "
      ]
     },
     "metadata": {},
     "output_type": "display_data"
    }
   ],
   "source": [
    "# generated from ChatGPT\n",
    "\n",
    "# Sample dataframes\n",
    "df1 <- genes\n",
    "df2 <- pathway\n",
    "\n",
    "# Function to check if any gene in df1 matches genes in a row of df2\n",
    "get_gene_matches <- function(row_df2, df1_genes) {\n",
    "  genes2 <- unlist(strsplit(as.character(row_df2), \"/\"))\n",
    "  count <- sum(genes2 %in% df1_genes)\n",
    "  return(count)\n",
    "}\n",
    "\n",
    "# Iterate over each row of df2\n",
    "matches_count <- sapply(df2$core_enrichment, get_gene_matches, df1_genes = df1$gene)\n",
    "\n",
    "# Add the matches count to df2\n",
    "df2$MatchesCount <- matches_count\n",
    "\n",
    "# Sort df with highest match counts at the top\n",
    "gene_pathway_match <- df2[order(-df2$MatchesCount),]\n",
    "head(gene_pathway_match)\n"
   ]
  },
  {
   "cell_type": "markdown",
   "id": "798c4c9b-1691-4a91-ac3a-e889e0aaa8ac",
   "metadata": {},
   "source": [
    "now that I have a df with counts of number of matches between core enrichment genes and significant DMGs, want to only look at those with matches (filter out any pathways that did not contain sig. DMGs in their core enrichment)"
   ]
  },
  {
   "cell_type": "code",
   "execution_count": 5,
   "id": "e2917340-6ce8-4f1c-925c-31bb32f76fdc",
   "metadata": {},
   "outputs": [
    {
     "data": {
      "text/html": [
       "<style>\n",
       ".list-inline {list-style: none; margin:0; padding: 0}\n",
       ".list-inline>li {display: inline-block}\n",
       ".list-inline>li:not(:last-child)::after {content: \"\\00b7\"; padding: 0 .5ex}\n",
       "</style>\n",
       "<ol class=list-inline><li>41</li><li>12</li></ol>\n"
      ],
      "text/latex": [
       "\\begin{enumerate*}\n",
       "\\item 41\n",
       "\\item 12\n",
       "\\end{enumerate*}\n"
      ],
      "text/markdown": [
       "1. 41\n",
       "2. 12\n",
       "\n",
       "\n"
      ],
      "text/plain": [
       "[1] 41 12"
      ]
     },
     "metadata": {},
     "output_type": "display_data"
    },
    {
     "data": {
      "text/html": [
       "<table class=\"dataframe\">\n",
       "<caption>A data.frame: 6 × 12</caption>\n",
       "<thead>\n",
       "\t<tr><th></th><th scope=col>ID</th><th scope=col>Description</th><th scope=col>setSize</th><th scope=col>enrichmentScore</th><th scope=col>NES</th><th scope=col>pvalue</th><th scope=col>p.adjust</th><th scope=col>qvalue</th><th scope=col>rank</th><th scope=col>leading_edge</th><th scope=col>core_enrichment</th><th scope=col>MatchesCount</th></tr>\n",
       "\t<tr><th></th><th scope=col>&lt;chr&gt;</th><th scope=col>&lt;chr&gt;</th><th scope=col>&lt;int&gt;</th><th scope=col>&lt;dbl&gt;</th><th scope=col>&lt;dbl&gt;</th><th scope=col>&lt;dbl&gt;</th><th scope=col>&lt;dbl&gt;</th><th scope=col>&lt;dbl&gt;</th><th scope=col>&lt;int&gt;</th><th scope=col>&lt;chr&gt;</th><th scope=col>&lt;chr&gt;</th><th scope=col>&lt;int&gt;</th></tr>\n",
       "</thead>\n",
       "<tbody>\n",
       "\t<tr><th scope=row>1</th><td>cvn04814</td><td>Motor proteins                       </td><td>110</td><td>0.4860525</td><td>1.448496</td><td>0.008328566</td><td>0.2056087</td><td>0.1873304</td><td>1179</td><td>tags=18%, list=9%, signal=17% </td><td>111136151/111134768/111107338/111102596/111112439/111103394/111115784/111129526/111107250/111127380/111134843/111137068/111131563/111119946/111134888/111120500/111129376/111130940/111125250/111131555                                                                                                                                                                                                                            </td><td>7</td></tr>\n",
       "\t<tr><th scope=row>2</th><td>cvn04144</td><td>Endocytosis                          </td><td>130</td><td>0.4435434</td><td>1.329267</td><td>0.030581040</td><td>0.2426096</td><td>0.2210419</td><td>3185</td><td>tags=32%, list=24%, signal=25%</td><td>111120187/111125099/111112319/111119513/111112439/111119512/111136896/111104852/111102907/111107174/111136866/111125956/111134954/111112863/111116971/111112700/111135084/111133388/111134171/111121253/111115795/111127289/111129312/111134242/111121437/111129503/111135594/111106223/111123210/111125223/111105462/111104835/111104585/111104028/111133563/111105923/111119177/111101822/111104196/111137900/111112119/111123772</td><td>5</td></tr>\n",
       "\t<tr><th scope=row>3</th><td>cvn03040</td><td>Spliceosome                          </td><td> 91</td><td>0.4067843</td><td>1.195986</td><td>0.179752066</td><td>0.5397379</td><td>0.4917559</td><td>1557</td><td>tags=16%, list=11%, signal=15%</td><td>111112733/111137770/111119513/111119512/111129112/111133954/111121854/111121021/111118318/111119442/111134531/111114893/111136440/111135640/111136164                                                                                                                                                                                                                                                                              </td><td>4</td></tr>\n",
       "\t<tr><th scope=row>4</th><td>cvn00910</td><td>Nitrogen metabolism                  </td><td> 10</td><td>0.7751841</td><td>1.619242</td><td>0.007876028</td><td>0.2056087</td><td>0.1873304</td><td>1398</td><td>tags=50%, list=10%, signal=45%</td><td>111134700/111100398/111100399/111126492/111135592                                                                                                                                                                                                                                                                                                                                                                                  </td><td>3</td></tr>\n",
       "\t<tr><th scope=row>5</th><td>cvn04070</td><td>Phosphatidylinositol signaling system</td><td> 55</td><td>0.4596708</td><td>1.283800</td><td>0.115015974</td><td>0.5397379</td><td>0.4917559</td><td>2592</td><td>tags=27%, list=19%, signal=22%</td><td>111101050/111127799/111125442/111100277/111125100/111126338/111100148/111135914/111134544/111120505/111135557/111122823/111128823/111138290/111130239                                                                                                                                                                                                                                                                              </td><td>3</td></tr>\n",
       "\t<tr><th scope=row>6</th><td>cvn00562</td><td>Inositol phosphate metabolism        </td><td> 46</td><td>0.4548720</td><td>1.242543</td><td>0.155361050</td><td>0.5397379</td><td>0.4917559</td><td>2592</td><td>tags=26%, list=19%, signal=21%</td><td>111101050/111127799/111125442/111125100/111126338/111100148/111135914/111134544/111120505/111135557/111138290/111130239                                                                                                                                                                                                                                                                                                            </td><td>3</td></tr>\n",
       "</tbody>\n",
       "</table>\n"
      ],
      "text/latex": [
       "A data.frame: 6 × 12\n",
       "\\begin{tabular}{r|llllllllllll}\n",
       "  & ID & Description & setSize & enrichmentScore & NES & pvalue & p.adjust & qvalue & rank & leading\\_edge & core\\_enrichment & MatchesCount\\\\\n",
       "  & <chr> & <chr> & <int> & <dbl> & <dbl> & <dbl> & <dbl> & <dbl> & <int> & <chr> & <chr> & <int>\\\\\n",
       "\\hline\n",
       "\t1 & cvn04814 & Motor proteins                        & 110 & 0.4860525 & 1.448496 & 0.008328566 & 0.2056087 & 0.1873304 & 1179 & tags=18\\%, list=9\\%, signal=17\\%  & 111136151/111134768/111107338/111102596/111112439/111103394/111115784/111129526/111107250/111127380/111134843/111137068/111131563/111119946/111134888/111120500/111129376/111130940/111125250/111131555                                                                                                                                                                                                                             & 7\\\\\n",
       "\t2 & cvn04144 & Endocytosis                           & 130 & 0.4435434 & 1.329267 & 0.030581040 & 0.2426096 & 0.2210419 & 3185 & tags=32\\%, list=24\\%, signal=25\\% & 111120187/111125099/111112319/111119513/111112439/111119512/111136896/111104852/111102907/111107174/111136866/111125956/111134954/111112863/111116971/111112700/111135084/111133388/111134171/111121253/111115795/111127289/111129312/111134242/111121437/111129503/111135594/111106223/111123210/111125223/111105462/111104835/111104585/111104028/111133563/111105923/111119177/111101822/111104196/111137900/111112119/111123772 & 5\\\\\n",
       "\t3 & cvn03040 & Spliceosome                           &  91 & 0.4067843 & 1.195986 & 0.179752066 & 0.5397379 & 0.4917559 & 1557 & tags=16\\%, list=11\\%, signal=15\\% & 111112733/111137770/111119513/111119512/111129112/111133954/111121854/111121021/111118318/111119442/111134531/111114893/111136440/111135640/111136164                                                                                                                                                                                                                                                                               & 4\\\\\n",
       "\t4 & cvn00910 & Nitrogen metabolism                   &  10 & 0.7751841 & 1.619242 & 0.007876028 & 0.2056087 & 0.1873304 & 1398 & tags=50\\%, list=10\\%, signal=45\\% & 111134700/111100398/111100399/111126492/111135592                                                                                                                                                                                                                                                                                                                                                                                   & 3\\\\\n",
       "\t5 & cvn04070 & Phosphatidylinositol signaling system &  55 & 0.4596708 & 1.283800 & 0.115015974 & 0.5397379 & 0.4917559 & 2592 & tags=27\\%, list=19\\%, signal=22\\% & 111101050/111127799/111125442/111100277/111125100/111126338/111100148/111135914/111134544/111120505/111135557/111122823/111128823/111138290/111130239                                                                                                                                                                                                                                                                               & 3\\\\\n",
       "\t6 & cvn00562 & Inositol phosphate metabolism         &  46 & 0.4548720 & 1.242543 & 0.155361050 & 0.5397379 & 0.4917559 & 2592 & tags=26\\%, list=19\\%, signal=21\\% & 111101050/111127799/111125442/111125100/111126338/111100148/111135914/111134544/111120505/111135557/111138290/111130239                                                                                                                                                                                                                                                                                                             & 3\\\\\n",
       "\\end{tabular}\n"
      ],
      "text/markdown": [
       "\n",
       "A data.frame: 6 × 12\n",
       "\n",
       "| <!--/--> | ID &lt;chr&gt; | Description &lt;chr&gt; | setSize &lt;int&gt; | enrichmentScore &lt;dbl&gt; | NES &lt;dbl&gt; | pvalue &lt;dbl&gt; | p.adjust &lt;dbl&gt; | qvalue &lt;dbl&gt; | rank &lt;int&gt; | leading_edge &lt;chr&gt; | core_enrichment &lt;chr&gt; | MatchesCount &lt;int&gt; |\n",
       "|---|---|---|---|---|---|---|---|---|---|---|---|---|\n",
       "| 1 | cvn04814 | Motor proteins                        | 110 | 0.4860525 | 1.448496 | 0.008328566 | 0.2056087 | 0.1873304 | 1179 | tags=18%, list=9%, signal=17%  | 111136151/111134768/111107338/111102596/111112439/111103394/111115784/111129526/111107250/111127380/111134843/111137068/111131563/111119946/111134888/111120500/111129376/111130940/111125250/111131555                                                                                                                                                                                                                             | 7 |\n",
       "| 2 | cvn04144 | Endocytosis                           | 130 | 0.4435434 | 1.329267 | 0.030581040 | 0.2426096 | 0.2210419 | 3185 | tags=32%, list=24%, signal=25% | 111120187/111125099/111112319/111119513/111112439/111119512/111136896/111104852/111102907/111107174/111136866/111125956/111134954/111112863/111116971/111112700/111135084/111133388/111134171/111121253/111115795/111127289/111129312/111134242/111121437/111129503/111135594/111106223/111123210/111125223/111105462/111104835/111104585/111104028/111133563/111105923/111119177/111101822/111104196/111137900/111112119/111123772 | 5 |\n",
       "| 3 | cvn03040 | Spliceosome                           |  91 | 0.4067843 | 1.195986 | 0.179752066 | 0.5397379 | 0.4917559 | 1557 | tags=16%, list=11%, signal=15% | 111112733/111137770/111119513/111119512/111129112/111133954/111121854/111121021/111118318/111119442/111134531/111114893/111136440/111135640/111136164                                                                                                                                                                                                                                                                               | 4 |\n",
       "| 4 | cvn00910 | Nitrogen metabolism                   |  10 | 0.7751841 | 1.619242 | 0.007876028 | 0.2056087 | 0.1873304 | 1398 | tags=50%, list=10%, signal=45% | 111134700/111100398/111100399/111126492/111135592                                                                                                                                                                                                                                                                                                                                                                                   | 3 |\n",
       "| 5 | cvn04070 | Phosphatidylinositol signaling system |  55 | 0.4596708 | 1.283800 | 0.115015974 | 0.5397379 | 0.4917559 | 2592 | tags=27%, list=19%, signal=22% | 111101050/111127799/111125442/111100277/111125100/111126338/111100148/111135914/111134544/111120505/111135557/111122823/111128823/111138290/111130239                                                                                                                                                                                                                                                                               | 3 |\n",
       "| 6 | cvn00562 | Inositol phosphate metabolism         |  46 | 0.4548720 | 1.242543 | 0.155361050 | 0.5397379 | 0.4917559 | 2592 | tags=26%, list=19%, signal=21% | 111101050/111127799/111125442/111125100/111126338/111100148/111135914/111134544/111120505/111135557/111138290/111130239                                                                                                                                                                                                                                                                                                             | 3 |\n",
       "\n"
      ],
      "text/plain": [
       "  ID       Description                           setSize enrichmentScore\n",
       "1 cvn04814 Motor proteins                        110     0.4860525      \n",
       "2 cvn04144 Endocytosis                           130     0.4435434      \n",
       "3 cvn03040 Spliceosome                            91     0.4067843      \n",
       "4 cvn00910 Nitrogen metabolism                    10     0.7751841      \n",
       "5 cvn04070 Phosphatidylinositol signaling system  55     0.4596708      \n",
       "6 cvn00562 Inositol phosphate metabolism          46     0.4548720      \n",
       "  NES      pvalue      p.adjust  qvalue    rank leading_edge                  \n",
       "1 1.448496 0.008328566 0.2056087 0.1873304 1179 tags=18%, list=9%, signal=17% \n",
       "2 1.329267 0.030581040 0.2426096 0.2210419 3185 tags=32%, list=24%, signal=25%\n",
       "3 1.195986 0.179752066 0.5397379 0.4917559 1557 tags=16%, list=11%, signal=15%\n",
       "4 1.619242 0.007876028 0.2056087 0.1873304 1398 tags=50%, list=10%, signal=45%\n",
       "5 1.283800 0.115015974 0.5397379 0.4917559 2592 tags=27%, list=19%, signal=22%\n",
       "6 1.242543 0.155361050 0.5397379 0.4917559 2592 tags=26%, list=19%, signal=21%\n",
       "  core_enrichment                                                                                                                                                                                                                                                                                                                                                                                                                    \n",
       "1 111136151/111134768/111107338/111102596/111112439/111103394/111115784/111129526/111107250/111127380/111134843/111137068/111131563/111119946/111134888/111120500/111129376/111130940/111125250/111131555                                                                                                                                                                                                                            \n",
       "2 111120187/111125099/111112319/111119513/111112439/111119512/111136896/111104852/111102907/111107174/111136866/111125956/111134954/111112863/111116971/111112700/111135084/111133388/111134171/111121253/111115795/111127289/111129312/111134242/111121437/111129503/111135594/111106223/111123210/111125223/111105462/111104835/111104585/111104028/111133563/111105923/111119177/111101822/111104196/111137900/111112119/111123772\n",
       "3 111112733/111137770/111119513/111119512/111129112/111133954/111121854/111121021/111118318/111119442/111134531/111114893/111136440/111135640/111136164                                                                                                                                                                                                                                                                              \n",
       "4 111134700/111100398/111100399/111126492/111135592                                                                                                                                                                                                                                                                                                                                                                                  \n",
       "5 111101050/111127799/111125442/111100277/111125100/111126338/111100148/111135914/111134544/111120505/111135557/111122823/111128823/111138290/111130239                                                                                                                                                                                                                                                                              \n",
       "6 111101050/111127799/111125442/111125100/111126338/111100148/111135914/111134544/111120505/111135557/111138290/111130239                                                                                                                                                                                                                                                                                                            \n",
       "  MatchesCount\n",
       "1 7           \n",
       "2 5           \n",
       "3 4           \n",
       "4 3           \n",
       "5 3           \n",
       "6 3           "
      ]
     },
     "metadata": {},
     "output_type": "display_data"
    }
   ],
   "source": [
    "# only want to look at pathways that have significant genes in their core enrichment\n",
    "matched_pathways <- filter(gene_pathway_match, gene_pathway_match$MatchesCount != 0)\n",
    "\n",
    "# checking dimensions to see how many pathways we have \n",
    "dim(matched_pathways) # 41 matches\n",
    "\n",
    "# looking at df\n",
    "head(matched_pathways)"
   ]
  },
  {
   "cell_type": "code",
   "execution_count": 6,
   "id": "d23bfa01-ac8d-40ac-b93a-f1f74499f8d3",
   "metadata": {},
   "outputs": [
    {
     "data": {
      "text/html": [
       "1.80487804878049"
      ],
      "text/latex": [
       "1.80487804878049"
      ],
      "text/markdown": [
       "1.80487804878049"
      ],
      "text/plain": [
       "[1] 1.804878"
      ]
     },
     "metadata": {},
     "output_type": "display_data"
    },
    {
     "data": {
      "text/html": [
       "1"
      ],
      "text/latex": [
       "1"
      ],
      "text/markdown": [
       "1"
      ],
      "text/plain": [
       "[1] 1"
      ]
     },
     "metadata": {},
     "output_type": "display_data"
    },
    {
     "data": {
      "text/html": [
       "1.30804266358407"
      ],
      "text/latex": [
       "1.30804266358407"
      ],
      "text/markdown": [
       "1.30804266358407"
      ],
      "text/plain": [
       "[1] 1.308043"
      ]
     },
     "metadata": {},
     "output_type": "display_data"
    }
   ],
   "source": [
    "mean(matched_pathways$MatchesCount)\n",
    "median(matched_pathways$MatchesCount)\n",
    "sd(matched_pathways$MatchesCount)"
   ]
  },
  {
   "cell_type": "markdown",
   "id": "89283b11-ab2e-43d0-b1e9-411fc25b7024",
   "metadata": {},
   "source": [
    "**Stats on Matched Counts**\n",
    "\n",
    "25 pathways with only 1 match\n",
    "\n",
    "148 pathways with 0 matches\n",
    "\n",
    "- mean number of matches: 1.8\n",
    "- median number of matches: 1\n",
    "- standard deviation of matches: 1.31\n",
    "\n",
    "**motor proteins** have the highest number of significant DMGs in its core enrichment with 7 genes"
   ]
  },
  {
   "cell_type": "markdown",
   "id": "7cec6840-1e66-44c2-a154-97d66d67941e",
   "metadata": {
    "jp-MarkdownHeadingCollapsed": true,
    "tags": []
   },
   "source": [
    "## Investigating adjusted p-values with NA values\n",
    "We're trying to figure out *why* we get NA values so we can decide if we want to exclude or keep those genes in our pathway analysis\n",
    "\n",
    "Starting with looking at our list of genes with stat info from DESeq (normal lfcShrink and lfcThreshold=0.5)"
   ]
  },
  {
   "cell_type": "code",
   "execution_count": 61,
   "id": "9fe1d2e8-c3d8-493a-b52a-96a8f098edcc",
   "metadata": {},
   "outputs": [
    {
     "data": {
      "text/html": [
       "<table class=\"dataframe\">\n",
       "<caption>A data.frame: 6 × 7</caption>\n",
       "<thead>\n",
       "\t<tr><th></th><th scope=col>X</th><th scope=col>baseMean</th><th scope=col>log2FoldChange</th><th scope=col>lfcSE</th><th scope=col>stat</th><th scope=col>pvalue</th><th scope=col>padj</th></tr>\n",
       "\t<tr><th></th><th scope=col>&lt;chr&gt;</th><th scope=col>&lt;dbl&gt;</th><th scope=col>&lt;dbl&gt;</th><th scope=col>&lt;dbl&gt;</th><th scope=col>&lt;dbl&gt;</th><th scope=col>&lt;dbl&gt;</th><th scope=col>&lt;dbl&gt;</th></tr>\n",
       "</thead>\n",
       "<tbody>\n",
       "\t<tr><th scope=row>1</th><td>LOC111120752</td><td>  0.9171026</td><td> 0.5117345</td><td>0.7219483</td><td> 0.01625394</td><td>0.9870318</td><td>NA</td></tr>\n",
       "\t<tr><th scope=row>2</th><td>LOC111109452</td><td>  1.3692365</td><td> 1.0072548</td><td>0.7205748</td><td> 0.70395856</td><td>0.4814586</td><td>NA</td></tr>\n",
       "\t<tr><th scope=row>3</th><td>LOC111124802</td><td>160.7331187</td><td> 0.4591660</td><td>0.1879969</td><td> 0.00000000</td><td>1.0000000</td><td> 1</td></tr>\n",
       "\t<tr><th scope=row>4</th><td>LOC111101273</td><td> 55.0404755</td><td> 0.4055670</td><td>0.2258263</td><td> 0.00000000</td><td>1.0000000</td><td> 1</td></tr>\n",
       "\t<tr><th scope=row>5</th><td>LOC111101250</td><td> 77.7947775</td><td>-0.6027753</td><td>0.2031945</td><td>-0.50579750</td><td>0.6129988</td><td> 1</td></tr>\n",
       "\t<tr><th scope=row>6</th><td>LOC111101262</td><td>188.9039051</td><td> 0.1674635</td><td>0.1795188</td><td> 0.00000000</td><td>1.0000000</td><td> 1</td></tr>\n",
       "</tbody>\n",
       "</table>\n"
      ],
      "text/latex": [
       "A data.frame: 6 × 7\n",
       "\\begin{tabular}{r|lllllll}\n",
       "  & X & baseMean & log2FoldChange & lfcSE & stat & pvalue & padj\\\\\n",
       "  & <chr> & <dbl> & <dbl> & <dbl> & <dbl> & <dbl> & <dbl>\\\\\n",
       "\\hline\n",
       "\t1 & LOC111120752 &   0.9171026 &  0.5117345 & 0.7219483 &  0.01625394 & 0.9870318 & NA\\\\\n",
       "\t2 & LOC111109452 &   1.3692365 &  1.0072548 & 0.7205748 &  0.70395856 & 0.4814586 & NA\\\\\n",
       "\t3 & LOC111124802 & 160.7331187 &  0.4591660 & 0.1879969 &  0.00000000 & 1.0000000 &  1\\\\\n",
       "\t4 & LOC111101273 &  55.0404755 &  0.4055670 & 0.2258263 &  0.00000000 & 1.0000000 &  1\\\\\n",
       "\t5 & LOC111101250 &  77.7947775 & -0.6027753 & 0.2031945 & -0.50579750 & 0.6129988 &  1\\\\\n",
       "\t6 & LOC111101262 & 188.9039051 &  0.1674635 & 0.1795188 &  0.00000000 & 1.0000000 &  1\\\\\n",
       "\\end{tabular}\n"
      ],
      "text/markdown": [
       "\n",
       "A data.frame: 6 × 7\n",
       "\n",
       "| <!--/--> | X &lt;chr&gt; | baseMean &lt;dbl&gt; | log2FoldChange &lt;dbl&gt; | lfcSE &lt;dbl&gt; | stat &lt;dbl&gt; | pvalue &lt;dbl&gt; | padj &lt;dbl&gt; |\n",
       "|---|---|---|---|---|---|---|---|\n",
       "| 1 | LOC111120752 |   0.9171026 |  0.5117345 | 0.7219483 |  0.01625394 | 0.9870318 | NA |\n",
       "| 2 | LOC111109452 |   1.3692365 |  1.0072548 | 0.7205748 |  0.70395856 | 0.4814586 | NA |\n",
       "| 3 | LOC111124802 | 160.7331187 |  0.4591660 | 0.1879969 |  0.00000000 | 1.0000000 |  1 |\n",
       "| 4 | LOC111101273 |  55.0404755 |  0.4055670 | 0.2258263 |  0.00000000 | 1.0000000 |  1 |\n",
       "| 5 | LOC111101250 |  77.7947775 | -0.6027753 | 0.2031945 | -0.50579750 | 0.6129988 |  1 |\n",
       "| 6 | LOC111101262 | 188.9039051 |  0.1674635 | 0.1795188 |  0.00000000 | 1.0000000 |  1 |\n",
       "\n"
      ],
      "text/plain": [
       "  X            baseMean    log2FoldChange lfcSE     stat        pvalue    padj\n",
       "1 LOC111120752   0.9171026  0.5117345     0.7219483  0.01625394 0.9870318 NA  \n",
       "2 LOC111109452   1.3692365  1.0072548     0.7205748  0.70395856 0.4814586 NA  \n",
       "3 LOC111124802 160.7331187  0.4591660     0.1879969  0.00000000 1.0000000  1  \n",
       "4 LOC111101273  55.0404755  0.4055670     0.2258263  0.00000000 1.0000000  1  \n",
       "5 LOC111101250  77.7947775 -0.6027753     0.2031945 -0.50579750 0.6129988  1  \n",
       "6 LOC111101262 188.9039051  0.1674635     0.1795188  0.00000000 1.0000000  1  "
      ]
     },
     "metadata": {},
     "output_type": "display_data"
    }
   ],
   "source": [
    "unfilter_genes <- read.csv('/project/pi_sarah_gignouxwolfsohn_uml_edu/julia/CE_MethylRAD_analysis_2018/analysis/lfc_sig_genes/unfiltered_phase1_wc_genes.csv')\n",
    "head(unfilter_genes)"
   ]
  },
  {
   "cell_type": "markdown",
   "id": "66622903-6727-4511-b243-57775da534e5",
   "metadata": {},
   "source": [
    "filtering df to only include genes with NA for adjusted p-value"
   ]
  },
  {
   "cell_type": "code",
   "execution_count": 62,
   "id": "fdc4d128-e174-43e9-a8e6-d445ccc637bb",
   "metadata": {},
   "outputs": [
    {
     "data": {
      "text/html": [
       "<style>\n",
       ".list-inline {list-style: none; margin:0; padding: 0}\n",
       ".list-inline>li {display: inline-block}\n",
       ".list-inline>li:not(:last-child)::after {content: \"\\00b7\"; padding: 0 .5ex}\n",
       "</style>\n",
       "<ol class=list-inline><li>5776</li><li>7</li></ol>\n"
      ],
      "text/latex": [
       "\\begin{enumerate*}\n",
       "\\item 5776\n",
       "\\item 7\n",
       "\\end{enumerate*}\n"
      ],
      "text/markdown": [
       "1. 5776\n",
       "2. 7\n",
       "\n",
       "\n"
      ],
      "text/plain": [
       "[1] 5776    7"
      ]
     },
     "metadata": {},
     "output_type": "display_data"
    }
   ],
   "source": [
    "genes_w_na <- unfilter_genes[is.na(unfilter_genes$padj),]\n",
    "dim(genes_w_na) # 5,776 genes with NA for adjusted p-value"
   ]
  },
  {
   "cell_type": "markdown",
   "id": "129a8d15-c402-43e7-9344-43e76899f605",
   "metadata": {},
   "source": [
    "looking more into the stats of those genes with NA for adjusted p-value, specifically looking at the baseMean (since this is what the DESeq documentation points at)\n",
    "> baseMean - the average of the normalized count values, dividing by size factors, taken over all samples"
   ]
  },
  {
   "cell_type": "code",
   "execution_count": 66,
   "id": "bbd3adac-fb82-4051-848b-0d78014cd5ac",
   "metadata": {},
   "outputs": [
    {
     "data": {
      "text/html": [
       "4.52210697439881"
      ],
      "text/latex": [
       "4.52210697439881"
      ],
      "text/markdown": [
       "4.52210697439881"
      ],
      "text/plain": [
       "[1] 4.522107"
      ]
     },
     "metadata": {},
     "output_type": "display_data"
    },
    {
     "data": {
      "text/html": [
       "22.2434098890397"
      ],
      "text/latex": [
       "22.2434098890397"
      ],
      "text/markdown": [
       "22.2434098890397"
      ],
      "text/plain": [
       "[1] 22.24341"
      ]
     },
     "metadata": {},
     "output_type": "display_data"
    }
   ],
   "source": [
    "mean(genes_w_na$baseMean) # average = 4.5 counts per sample\n",
    "sd(genes_w_na$baseMean) # standard deviation = 22"
   ]
  },
  {
   "cell_type": "markdown",
   "id": "2e297847-aa25-42b0-8447-71c314ac7e5c",
   "metadata": {},
   "source": [
    "loading in counts matrix that was generated with featureCounts to pull out the genes with NA for adjusted p-value"
   ]
  },
  {
   "cell_type": "code",
   "execution_count": 63,
   "id": "367a8964-9596-4d0a-bb3b-f7ba3e4d62ab",
   "metadata": {},
   "outputs": [
    {
     "data": {
      "text/html": [
       "<table class=\"dataframe\">\n",
       "<caption>A data.frame: 6 × 31</caption>\n",
       "<thead>\n",
       "\t<tr><th></th><th scope=col>X</th><th scope=col>BBB.WBO.B21</th><th scope=col>BBB.WBV.B70</th><th scope=col>BBO.BBO.B16</th><th scope=col>BBO.BBY.B27</th><th scope=col>BBO.WBO.B16</th><th scope=col>BBO.WBV.B64</th><th scope=col>BBR.BBB.B50</th><th scope=col>BBR.BBG.B38</th><th scope=col>BBR.BBY.B26</th><th scope=col>⋯</th><th scope=col>WBR.BBY.W25</th><th scope=col>WBV.WBO.W23</th><th scope=col>WBV.WBR.W12</th><th scope=col>WBY.BBV.W65</th><th scope=col>WBY.BBY.W30</th><th scope=col>WPB.BPG.G45</th><th scope=col>WPO.BPO.G16</th><th scope=col>WPO.BPY.G28</th><th scope=col>WPR.BPY.G25</th><th scope=col>WPV.BPR.G11</th></tr>\n",
       "\t<tr><th></th><th scope=col>&lt;chr&gt;</th><th scope=col>&lt;int&gt;</th><th scope=col>&lt;int&gt;</th><th scope=col>&lt;int&gt;</th><th scope=col>&lt;int&gt;</th><th scope=col>&lt;int&gt;</th><th scope=col>&lt;int&gt;</th><th scope=col>&lt;int&gt;</th><th scope=col>&lt;int&gt;</th><th scope=col>&lt;int&gt;</th><th scope=col>⋯</th><th scope=col>&lt;int&gt;</th><th scope=col>&lt;int&gt;</th><th scope=col>&lt;int&gt;</th><th scope=col>&lt;int&gt;</th><th scope=col>&lt;int&gt;</th><th scope=col>&lt;int&gt;</th><th scope=col>&lt;int&gt;</th><th scope=col>&lt;int&gt;</th><th scope=col>&lt;int&gt;</th><th scope=col>&lt;int&gt;</th></tr>\n",
       "</thead>\n",
       "<tbody>\n",
       "\t<tr><th scope=row>1</th><td>LOC111120752</td><td>  2</td><td>  2</td><td>  0</td><td>  0</td><td>  2</td><td>  0</td><td>  0</td><td>  0</td><td>  1</td><td>⋯</td><td>  0</td><td>  0</td><td> 0</td><td>  0</td><td>  1</td><td>  0</td><td>  0</td><td> 1</td><td>  1</td><td> 0</td></tr>\n",
       "\t<tr><th scope=row>2</th><td>LOC111109452</td><td>  0</td><td>  0</td><td>  0</td><td>  0</td><td>  1</td><td>  1</td><td> 10</td><td> 12</td><td>  0</td><td>⋯</td><td>  0</td><td>  1</td><td> 0</td><td>  1</td><td>  2</td><td> 15</td><td>  0</td><td> 0</td><td>  3</td><td> 0</td></tr>\n",
       "\t<tr><th scope=row>3</th><td>LOC111124802</td><td>597</td><td>453</td><td>408</td><td>244</td><td>502</td><td>434</td><td>187</td><td>336</td><td>311</td><td>⋯</td><td>122</td><td>120</td><td>57</td><td>289</td><td>202</td><td>168</td><td>134</td><td>86</td><td>252</td><td> 9</td></tr>\n",
       "\t<tr><th scope=row>4</th><td>LOC111101273</td><td>173</td><td>146</td><td>115</td><td> 75</td><td>171</td><td>158</td><td> 64</td><td>115</td><td>137</td><td>⋯</td><td> 43</td><td> 45</td><td>18</td><td> 87</td><td> 81</td><td> 71</td><td> 52</td><td>38</td><td> 73</td><td> 1</td></tr>\n",
       "\t<tr><th scope=row>5</th><td>LOC111101250</td><td>253</td><td>255</td><td>257</td><td>118</td><td>327</td><td>269</td><td>115</td><td>141</td><td>184</td><td>⋯</td><td> 91</td><td> 96</td><td>24</td><td>254</td><td>109</td><td> 92</td><td> 49</td><td> 5</td><td>101</td><td> 2</td></tr>\n",
       "\t<tr><th scope=row>6</th><td>LOC111101262</td><td>645</td><td>634</td><td>502</td><td>364</td><td>647</td><td>677</td><td>246</td><td>389</td><td>355</td><td>⋯</td><td>184</td><td>146</td><td>52</td><td>387</td><td>251</td><td>188</td><td>131</td><td>78</td><td>283</td><td>12</td></tr>\n",
       "</tbody>\n",
       "</table>\n"
      ],
      "text/latex": [
       "A data.frame: 6 × 31\n",
       "\\begin{tabular}{r|lllllllllllllllllllll}\n",
       "  & X & BBB.WBO.B21 & BBB.WBV.B70 & BBO.BBO.B16 & BBO.BBY.B27 & BBO.WBO.B16 & BBO.WBV.B64 & BBR.BBB.B50 & BBR.BBG.B38 & BBR.BBY.B26 & ⋯ & WBR.BBY.W25 & WBV.WBO.W23 & WBV.WBR.W12 & WBY.BBV.W65 & WBY.BBY.W30 & WPB.BPG.G45 & WPO.BPO.G16 & WPO.BPY.G28 & WPR.BPY.G25 & WPV.BPR.G11\\\\\n",
       "  & <chr> & <int> & <int> & <int> & <int> & <int> & <int> & <int> & <int> & <int> & ⋯ & <int> & <int> & <int> & <int> & <int> & <int> & <int> & <int> & <int> & <int>\\\\\n",
       "\\hline\n",
       "\t1 & LOC111120752 &   2 &   2 &   0 &   0 &   2 &   0 &   0 &   0 &   1 & ⋯ &   0 &   0 &  0 &   0 &   1 &   0 &   0 &  1 &   1 &  0\\\\\n",
       "\t2 & LOC111109452 &   0 &   0 &   0 &   0 &   1 &   1 &  10 &  12 &   0 & ⋯ &   0 &   1 &  0 &   1 &   2 &  15 &   0 &  0 &   3 &  0\\\\\n",
       "\t3 & LOC111124802 & 597 & 453 & 408 & 244 & 502 & 434 & 187 & 336 & 311 & ⋯ & 122 & 120 & 57 & 289 & 202 & 168 & 134 & 86 & 252 &  9\\\\\n",
       "\t4 & LOC111101273 & 173 & 146 & 115 &  75 & 171 & 158 &  64 & 115 & 137 & ⋯ &  43 &  45 & 18 &  87 &  81 &  71 &  52 & 38 &  73 &  1\\\\\n",
       "\t5 & LOC111101250 & 253 & 255 & 257 & 118 & 327 & 269 & 115 & 141 & 184 & ⋯ &  91 &  96 & 24 & 254 & 109 &  92 &  49 &  5 & 101 &  2\\\\\n",
       "\t6 & LOC111101262 & 645 & 634 & 502 & 364 & 647 & 677 & 246 & 389 & 355 & ⋯ & 184 & 146 & 52 & 387 & 251 & 188 & 131 & 78 & 283 & 12\\\\\n",
       "\\end{tabular}\n"
      ],
      "text/markdown": [
       "\n",
       "A data.frame: 6 × 31\n",
       "\n",
       "| <!--/--> | X &lt;chr&gt; | BBB.WBO.B21 &lt;int&gt; | BBB.WBV.B70 &lt;int&gt; | BBO.BBO.B16 &lt;int&gt; | BBO.BBY.B27 &lt;int&gt; | BBO.WBO.B16 &lt;int&gt; | BBO.WBV.B64 &lt;int&gt; | BBR.BBB.B50 &lt;int&gt; | BBR.BBG.B38 &lt;int&gt; | BBR.BBY.B26 &lt;int&gt; | ⋯ ⋯ | WBR.BBY.W25 &lt;int&gt; | WBV.WBO.W23 &lt;int&gt; | WBV.WBR.W12 &lt;int&gt; | WBY.BBV.W65 &lt;int&gt; | WBY.BBY.W30 &lt;int&gt; | WPB.BPG.G45 &lt;int&gt; | WPO.BPO.G16 &lt;int&gt; | WPO.BPY.G28 &lt;int&gt; | WPR.BPY.G25 &lt;int&gt; | WPV.BPR.G11 &lt;int&gt; |\n",
       "|---|---|---|---|---|---|---|---|---|---|---|---|---|---|---|---|---|---|---|---|---|---|\n",
       "| 1 | LOC111120752 |   2 |   2 |   0 |   0 |   2 |   0 |   0 |   0 |   1 | ⋯ |   0 |   0 |  0 |   0 |   1 |   0 |   0 |  1 |   1 |  0 |\n",
       "| 2 | LOC111109452 |   0 |   0 |   0 |   0 |   1 |   1 |  10 |  12 |   0 | ⋯ |   0 |   1 |  0 |   1 |   2 |  15 |   0 |  0 |   3 |  0 |\n",
       "| 3 | LOC111124802 | 597 | 453 | 408 | 244 | 502 | 434 | 187 | 336 | 311 | ⋯ | 122 | 120 | 57 | 289 | 202 | 168 | 134 | 86 | 252 |  9 |\n",
       "| 4 | LOC111101273 | 173 | 146 | 115 |  75 | 171 | 158 |  64 | 115 | 137 | ⋯ |  43 |  45 | 18 |  87 |  81 |  71 |  52 | 38 |  73 |  1 |\n",
       "| 5 | LOC111101250 | 253 | 255 | 257 | 118 | 327 | 269 | 115 | 141 | 184 | ⋯ |  91 |  96 | 24 | 254 | 109 |  92 |  49 |  5 | 101 |  2 |\n",
       "| 6 | LOC111101262 | 645 | 634 | 502 | 364 | 647 | 677 | 246 | 389 | 355 | ⋯ | 184 | 146 | 52 | 387 | 251 | 188 | 131 | 78 | 283 | 12 |\n",
       "\n"
      ],
      "text/plain": [
       "  X            BBB.WBO.B21 BBB.WBV.B70 BBO.BBO.B16 BBO.BBY.B27 BBO.WBO.B16\n",
       "1 LOC111120752   2           2           0           0           2        \n",
       "2 LOC111109452   0           0           0           0           1        \n",
       "3 LOC111124802 597         453         408         244         502        \n",
       "4 LOC111101273 173         146         115          75         171        \n",
       "5 LOC111101250 253         255         257         118         327        \n",
       "6 LOC111101262 645         634         502         364         647        \n",
       "  BBO.WBV.B64 BBR.BBB.B50 BBR.BBG.B38 BBR.BBY.B26 ⋯ WBR.BBY.W25 WBV.WBO.W23\n",
       "1   0           0           0           1         ⋯   0           0        \n",
       "2   1          10          12           0         ⋯   0           1        \n",
       "3 434         187         336         311         ⋯ 122         120        \n",
       "4 158          64         115         137         ⋯  43          45        \n",
       "5 269         115         141         184         ⋯  91          96        \n",
       "6 677         246         389         355         ⋯ 184         146        \n",
       "  WBV.WBR.W12 WBY.BBV.W65 WBY.BBY.W30 WPB.BPG.G45 WPO.BPO.G16 WPO.BPY.G28\n",
       "1  0            0           1           0           0          1         \n",
       "2  0            1           2          15           0          0         \n",
       "3 57          289         202         168         134         86         \n",
       "4 18           87          81          71          52         38         \n",
       "5 24          254         109          92          49          5         \n",
       "6 52          387         251         188         131         78         \n",
       "  WPR.BPY.G25 WPV.BPR.G11\n",
       "1   1          0         \n",
       "2   3          0         \n",
       "3 252          9         \n",
       "4  73          1         \n",
       "5 101          2         \n",
       "6 283         12         "
      ]
     },
     "metadata": {},
     "output_type": "display_data"
    }
   ],
   "source": [
    "# loading in counts matrix\n",
    "counts_matrix <- read.csv('/project/pi_sarah_gignouxwolfsohn_uml_edu/julia/CE_MethylRAD_analysis_2018/analysis/counts_and_meta/featureCounts_meta.csv')\n",
    "head(counts_matrix)"
   ]
  },
  {
   "cell_type": "code",
   "execution_count": 43,
   "id": "7f1ef971-d255-4579-9cff-8803217e0c14",
   "metadata": {},
   "outputs": [
    {
     "data": {
      "text/html": [
       "<table class=\"dataframe\">\n",
       "<caption>A data.frame: 6 × 30</caption>\n",
       "<thead>\n",
       "\t<tr><th></th><th scope=col>BBB.WBO.B21</th><th scope=col>BBB.WBV.B70</th><th scope=col>BBO.BBO.B16</th><th scope=col>BBO.BBY.B27</th><th scope=col>BBO.WBO.B16</th><th scope=col>BBO.WBV.B64</th><th scope=col>BBR.BBB.B50</th><th scope=col>BBR.BBG.B38</th><th scope=col>BBR.BBY.B26</th><th scope=col>BBY.WBG.B42</th><th scope=col>⋯</th><th scope=col>WBR.BBY.W25</th><th scope=col>WBV.WBO.W23</th><th scope=col>WBV.WBR.W12</th><th scope=col>WBY.BBV.W65</th><th scope=col>WBY.BBY.W30</th><th scope=col>WPB.BPG.G45</th><th scope=col>WPO.BPO.G16</th><th scope=col>WPO.BPY.G28</th><th scope=col>WPR.BPY.G25</th><th scope=col>WPV.BPR.G11</th></tr>\n",
       "\t<tr><th></th><th scope=col>&lt;int&gt;</th><th scope=col>&lt;int&gt;</th><th scope=col>&lt;int&gt;</th><th scope=col>&lt;int&gt;</th><th scope=col>&lt;int&gt;</th><th scope=col>&lt;int&gt;</th><th scope=col>&lt;int&gt;</th><th scope=col>&lt;int&gt;</th><th scope=col>&lt;int&gt;</th><th scope=col>&lt;int&gt;</th><th scope=col>⋯</th><th scope=col>&lt;int&gt;</th><th scope=col>&lt;int&gt;</th><th scope=col>&lt;int&gt;</th><th scope=col>&lt;int&gt;</th><th scope=col>&lt;int&gt;</th><th scope=col>&lt;int&gt;</th><th scope=col>&lt;int&gt;</th><th scope=col>&lt;int&gt;</th><th scope=col>&lt;int&gt;</th><th scope=col>&lt;int&gt;</th></tr>\n",
       "</thead>\n",
       "<tbody>\n",
       "\t<tr><th scope=row>LOC111120752</th><td>  2</td><td>  2</td><td>  0</td><td>  0</td><td>  2</td><td>  0</td><td>  0</td><td>  0</td><td>  1</td><td>  0</td><td>⋯</td><td>  0</td><td>  0</td><td> 0</td><td>  0</td><td>  1</td><td>  0</td><td>  0</td><td> 1</td><td>  1</td><td> 0</td></tr>\n",
       "\t<tr><th scope=row>LOC111109452</th><td>  0</td><td>  0</td><td>  0</td><td>  0</td><td>  1</td><td>  1</td><td> 10</td><td> 12</td><td>  0</td><td>  2</td><td>⋯</td><td>  0</td><td>  1</td><td> 0</td><td>  1</td><td>  2</td><td> 15</td><td>  0</td><td> 0</td><td>  3</td><td> 0</td></tr>\n",
       "\t<tr><th scope=row>LOC111124802</th><td>597</td><td>453</td><td>408</td><td>244</td><td>502</td><td>434</td><td>187</td><td>336</td><td>311</td><td>110</td><td>⋯</td><td>122</td><td>120</td><td>57</td><td>289</td><td>202</td><td>168</td><td>134</td><td>86</td><td>252</td><td> 9</td></tr>\n",
       "\t<tr><th scope=row>LOC111101273</th><td>173</td><td>146</td><td>115</td><td> 75</td><td>171</td><td>158</td><td> 64</td><td>115</td><td>137</td><td> 45</td><td>⋯</td><td> 43</td><td> 45</td><td>18</td><td> 87</td><td> 81</td><td> 71</td><td> 52</td><td>38</td><td> 73</td><td> 1</td></tr>\n",
       "\t<tr><th scope=row>LOC111101250</th><td>253</td><td>255</td><td>257</td><td>118</td><td>327</td><td>269</td><td>115</td><td>141</td><td>184</td><td> 49</td><td>⋯</td><td> 91</td><td> 96</td><td>24</td><td>254</td><td>109</td><td> 92</td><td> 49</td><td> 5</td><td>101</td><td> 2</td></tr>\n",
       "\t<tr><th scope=row>LOC111101262</th><td>645</td><td>634</td><td>502</td><td>364</td><td>647</td><td>677</td><td>246</td><td>389</td><td>355</td><td>108</td><td>⋯</td><td>184</td><td>146</td><td>52</td><td>387</td><td>251</td><td>188</td><td>131</td><td>78</td><td>283</td><td>12</td></tr>\n",
       "</tbody>\n",
       "</table>\n"
      ],
      "text/latex": [
       "A data.frame: 6 × 30\n",
       "\\begin{tabular}{r|lllllllllllllllllllll}\n",
       "  & BBB.WBO.B21 & BBB.WBV.B70 & BBO.BBO.B16 & BBO.BBY.B27 & BBO.WBO.B16 & BBO.WBV.B64 & BBR.BBB.B50 & BBR.BBG.B38 & BBR.BBY.B26 & BBY.WBG.B42 & ⋯ & WBR.BBY.W25 & WBV.WBO.W23 & WBV.WBR.W12 & WBY.BBV.W65 & WBY.BBY.W30 & WPB.BPG.G45 & WPO.BPO.G16 & WPO.BPY.G28 & WPR.BPY.G25 & WPV.BPR.G11\\\\\n",
       "  & <int> & <int> & <int> & <int> & <int> & <int> & <int> & <int> & <int> & <int> & ⋯ & <int> & <int> & <int> & <int> & <int> & <int> & <int> & <int> & <int> & <int>\\\\\n",
       "\\hline\n",
       "\tLOC111120752 &   2 &   2 &   0 &   0 &   2 &   0 &   0 &   0 &   1 &   0 & ⋯ &   0 &   0 &  0 &   0 &   1 &   0 &   0 &  1 &   1 &  0\\\\\n",
       "\tLOC111109452 &   0 &   0 &   0 &   0 &   1 &   1 &  10 &  12 &   0 &   2 & ⋯ &   0 &   1 &  0 &   1 &   2 &  15 &   0 &  0 &   3 &  0\\\\\n",
       "\tLOC111124802 & 597 & 453 & 408 & 244 & 502 & 434 & 187 & 336 & 311 & 110 & ⋯ & 122 & 120 & 57 & 289 & 202 & 168 & 134 & 86 & 252 &  9\\\\\n",
       "\tLOC111101273 & 173 & 146 & 115 &  75 & 171 & 158 &  64 & 115 & 137 &  45 & ⋯ &  43 &  45 & 18 &  87 &  81 &  71 &  52 & 38 &  73 &  1\\\\\n",
       "\tLOC111101250 & 253 & 255 & 257 & 118 & 327 & 269 & 115 & 141 & 184 &  49 & ⋯ &  91 &  96 & 24 & 254 & 109 &  92 &  49 &  5 & 101 &  2\\\\\n",
       "\tLOC111101262 & 645 & 634 & 502 & 364 & 647 & 677 & 246 & 389 & 355 & 108 & ⋯ & 184 & 146 & 52 & 387 & 251 & 188 & 131 & 78 & 283 & 12\\\\\n",
       "\\end{tabular}\n"
      ],
      "text/markdown": [
       "\n",
       "A data.frame: 6 × 30\n",
       "\n",
       "| <!--/--> | BBB.WBO.B21 &lt;int&gt; | BBB.WBV.B70 &lt;int&gt; | BBO.BBO.B16 &lt;int&gt; | BBO.BBY.B27 &lt;int&gt; | BBO.WBO.B16 &lt;int&gt; | BBO.WBV.B64 &lt;int&gt; | BBR.BBB.B50 &lt;int&gt; | BBR.BBG.B38 &lt;int&gt; | BBR.BBY.B26 &lt;int&gt; | BBY.WBG.B42 &lt;int&gt; | ⋯ ⋯ | WBR.BBY.W25 &lt;int&gt; | WBV.WBO.W23 &lt;int&gt; | WBV.WBR.W12 &lt;int&gt; | WBY.BBV.W65 &lt;int&gt; | WBY.BBY.W30 &lt;int&gt; | WPB.BPG.G45 &lt;int&gt; | WPO.BPO.G16 &lt;int&gt; | WPO.BPY.G28 &lt;int&gt; | WPR.BPY.G25 &lt;int&gt; | WPV.BPR.G11 &lt;int&gt; |\n",
       "|---|---|---|---|---|---|---|---|---|---|---|---|---|---|---|---|---|---|---|---|---|---|\n",
       "| LOC111120752 |   2 |   2 |   0 |   0 |   2 |   0 |   0 |   0 |   1 |   0 | ⋯ |   0 |   0 |  0 |   0 |   1 |   0 |   0 |  1 |   1 |  0 |\n",
       "| LOC111109452 |   0 |   0 |   0 |   0 |   1 |   1 |  10 |  12 |   0 |   2 | ⋯ |   0 |   1 |  0 |   1 |   2 |  15 |   0 |  0 |   3 |  0 |\n",
       "| LOC111124802 | 597 | 453 | 408 | 244 | 502 | 434 | 187 | 336 | 311 | 110 | ⋯ | 122 | 120 | 57 | 289 | 202 | 168 | 134 | 86 | 252 |  9 |\n",
       "| LOC111101273 | 173 | 146 | 115 |  75 | 171 | 158 |  64 | 115 | 137 |  45 | ⋯ |  43 |  45 | 18 |  87 |  81 |  71 |  52 | 38 |  73 |  1 |\n",
       "| LOC111101250 | 253 | 255 | 257 | 118 | 327 | 269 | 115 | 141 | 184 |  49 | ⋯ |  91 |  96 | 24 | 254 | 109 |  92 |  49 |  5 | 101 |  2 |\n",
       "| LOC111101262 | 645 | 634 | 502 | 364 | 647 | 677 | 246 | 389 | 355 | 108 | ⋯ | 184 | 146 | 52 | 387 | 251 | 188 | 131 | 78 | 283 | 12 |\n",
       "\n"
      ],
      "text/plain": [
       "             BBB.WBO.B21 BBB.WBV.B70 BBO.BBO.B16 BBO.BBY.B27 BBO.WBO.B16\n",
       "LOC111120752   2           2           0           0           2        \n",
       "LOC111109452   0           0           0           0           1        \n",
       "LOC111124802 597         453         408         244         502        \n",
       "LOC111101273 173         146         115          75         171        \n",
       "LOC111101250 253         255         257         118         327        \n",
       "LOC111101262 645         634         502         364         647        \n",
       "             BBO.WBV.B64 BBR.BBB.B50 BBR.BBG.B38 BBR.BBY.B26 BBY.WBG.B42 ⋯\n",
       "LOC111120752   0           0           0           1           0         ⋯\n",
       "LOC111109452   1          10          12           0           2         ⋯\n",
       "LOC111124802 434         187         336         311         110         ⋯\n",
       "LOC111101273 158          64         115         137          45         ⋯\n",
       "LOC111101250 269         115         141         184          49         ⋯\n",
       "LOC111101262 677         246         389         355         108         ⋯\n",
       "             WBR.BBY.W25 WBV.WBO.W23 WBV.WBR.W12 WBY.BBV.W65 WBY.BBY.W30\n",
       "LOC111120752   0           0          0            0           1        \n",
       "LOC111109452   0           1          0            1           2        \n",
       "LOC111124802 122         120         57          289         202        \n",
       "LOC111101273  43          45         18           87          81        \n",
       "LOC111101250  91          96         24          254         109        \n",
       "LOC111101262 184         146         52          387         251        \n",
       "             WPB.BPG.G45 WPO.BPO.G16 WPO.BPY.G28 WPR.BPY.G25 WPV.BPR.G11\n",
       "LOC111120752   0           0          1            1          0         \n",
       "LOC111109452  15           0          0            3          0         \n",
       "LOC111124802 168         134         86          252          9         \n",
       "LOC111101273  71          52         38           73          1         \n",
       "LOC111101250  92          49          5          101          2         \n",
       "LOC111101262 188         131         78          283         12         "
      ]
     },
     "metadata": {},
     "output_type": "display_data"
    }
   ],
   "source": [
    "# setting genees as row names\n",
    "rownames(counts_matrix) = counts_matrix$X\n",
    "\n",
    "# removing gene column (since now are rownames)\n",
    "counts_matrix2 <- counts_matrix[,-1]\n",
    "head(counts_matrix2)"
   ]
  },
  {
   "cell_type": "code",
   "execution_count": 44,
   "id": "213a8733-c809-486e-91a5-7ae62fd54269",
   "metadata": {},
   "outputs": [
    {
     "data": {
      "text/html": [
       "<style>\n",
       ".list-inline {list-style: none; margin:0; padding: 0}\n",
       ".list-inline>li {display: inline-block}\n",
       ".list-inline>li:not(:last-child)::after {content: \"\\00b7\"; padding: 0 .5ex}\n",
       "</style>\n",
       "<ol class=list-inline><li>'BBB-WBO-B21'</li><li>'BBB-WBV-B70'</li><li>'BBO-BBO-B16'</li><li>'BBO-BBY-B27'</li><li>'BBO-WBO-B16'</li><li>'BBO-WBV-B64'</li></ol>\n"
      ],
      "text/latex": [
       "\\begin{enumerate*}\n",
       "\\item 'BBB-WBO-B21'\n",
       "\\item 'BBB-WBV-B70'\n",
       "\\item 'BBO-BBO-B16'\n",
       "\\item 'BBO-BBY-B27'\n",
       "\\item 'BBO-WBO-B16'\n",
       "\\item 'BBO-WBV-B64'\n",
       "\\end{enumerate*}\n"
      ],
      "text/markdown": [
       "1. 'BBB-WBO-B21'\n",
       "2. 'BBB-WBV-B70'\n",
       "3. 'BBO-BBO-B16'\n",
       "4. 'BBO-BBY-B27'\n",
       "5. 'BBO-WBO-B16'\n",
       "6. 'BBO-WBV-B64'\n",
       "\n",
       "\n"
      ],
      "text/plain": [
       "[1] \"BBB-WBO-B21\" \"BBB-WBV-B70\" \"BBO-BBO-B16\" \"BBO-BBY-B27\" \"BBO-WBO-B16\"\n",
       "[6] \"BBO-WBV-B64\""
      ]
     },
     "metadata": {},
     "output_type": "display_data"
    },
    {
     "data": {
      "text/html": [
       "<table class=\"dataframe\">\n",
       "<caption>A data.frame: 6 × 30</caption>\n",
       "<thead>\n",
       "\t<tr><th></th><th scope=col>BBB-WBO-B21</th><th scope=col>BBB-WBV-B70</th><th scope=col>BBO-BBO-B16</th><th scope=col>BBO-BBY-B27</th><th scope=col>BBO-WBO-B16</th><th scope=col>BBO-WBV-B64</th><th scope=col>BBR-BBB-B50</th><th scope=col>BBR-BBG-B38</th><th scope=col>BBR-BBY-B26</th><th scope=col>BBY-WBG-B42</th><th scope=col>⋯</th><th scope=col>WBR-BBY-W25</th><th scope=col>WBV-WBO-W23</th><th scope=col>WBV-WBR-W12</th><th scope=col>WBY-BBV-W65</th><th scope=col>WBY-BBY-W30</th><th scope=col>WPB-BPG-G45</th><th scope=col>WPO-BPO-G16</th><th scope=col>WPO-BPY-G28</th><th scope=col>WPR-BPY-G25</th><th scope=col>WPV-BPR-G11</th></tr>\n",
       "\t<tr><th></th><th scope=col>&lt;int&gt;</th><th scope=col>&lt;int&gt;</th><th scope=col>&lt;int&gt;</th><th scope=col>&lt;int&gt;</th><th scope=col>&lt;int&gt;</th><th scope=col>&lt;int&gt;</th><th scope=col>&lt;int&gt;</th><th scope=col>&lt;int&gt;</th><th scope=col>&lt;int&gt;</th><th scope=col>&lt;int&gt;</th><th scope=col>⋯</th><th scope=col>&lt;int&gt;</th><th scope=col>&lt;int&gt;</th><th scope=col>&lt;int&gt;</th><th scope=col>&lt;int&gt;</th><th scope=col>&lt;int&gt;</th><th scope=col>&lt;int&gt;</th><th scope=col>&lt;int&gt;</th><th scope=col>&lt;int&gt;</th><th scope=col>&lt;int&gt;</th><th scope=col>&lt;int&gt;</th></tr>\n",
       "</thead>\n",
       "<tbody>\n",
       "\t<tr><th scope=row>LOC111120752</th><td>  2</td><td>  2</td><td>  0</td><td>  0</td><td>  2</td><td>  0</td><td>  0</td><td>  0</td><td>  1</td><td>  0</td><td>⋯</td><td>  0</td><td>  0</td><td> 0</td><td>  0</td><td>  1</td><td>  0</td><td>  0</td><td> 1</td><td>  1</td><td> 0</td></tr>\n",
       "\t<tr><th scope=row>LOC111109452</th><td>  0</td><td>  0</td><td>  0</td><td>  0</td><td>  1</td><td>  1</td><td> 10</td><td> 12</td><td>  0</td><td>  2</td><td>⋯</td><td>  0</td><td>  1</td><td> 0</td><td>  1</td><td>  2</td><td> 15</td><td>  0</td><td> 0</td><td>  3</td><td> 0</td></tr>\n",
       "\t<tr><th scope=row>LOC111124802</th><td>597</td><td>453</td><td>408</td><td>244</td><td>502</td><td>434</td><td>187</td><td>336</td><td>311</td><td>110</td><td>⋯</td><td>122</td><td>120</td><td>57</td><td>289</td><td>202</td><td>168</td><td>134</td><td>86</td><td>252</td><td> 9</td></tr>\n",
       "\t<tr><th scope=row>LOC111101273</th><td>173</td><td>146</td><td>115</td><td> 75</td><td>171</td><td>158</td><td> 64</td><td>115</td><td>137</td><td> 45</td><td>⋯</td><td> 43</td><td> 45</td><td>18</td><td> 87</td><td> 81</td><td> 71</td><td> 52</td><td>38</td><td> 73</td><td> 1</td></tr>\n",
       "\t<tr><th scope=row>LOC111101250</th><td>253</td><td>255</td><td>257</td><td>118</td><td>327</td><td>269</td><td>115</td><td>141</td><td>184</td><td> 49</td><td>⋯</td><td> 91</td><td> 96</td><td>24</td><td>254</td><td>109</td><td> 92</td><td> 49</td><td> 5</td><td>101</td><td> 2</td></tr>\n",
       "\t<tr><th scope=row>LOC111101262</th><td>645</td><td>634</td><td>502</td><td>364</td><td>647</td><td>677</td><td>246</td><td>389</td><td>355</td><td>108</td><td>⋯</td><td>184</td><td>146</td><td>52</td><td>387</td><td>251</td><td>188</td><td>131</td><td>78</td><td>283</td><td>12</td></tr>\n",
       "</tbody>\n",
       "</table>\n"
      ],
      "text/latex": [
       "A data.frame: 6 × 30\n",
       "\\begin{tabular}{r|lllllllllllllllllllll}\n",
       "  & BBB-WBO-B21 & BBB-WBV-B70 & BBO-BBO-B16 & BBO-BBY-B27 & BBO-WBO-B16 & BBO-WBV-B64 & BBR-BBB-B50 & BBR-BBG-B38 & BBR-BBY-B26 & BBY-WBG-B42 & ⋯ & WBR-BBY-W25 & WBV-WBO-W23 & WBV-WBR-W12 & WBY-BBV-W65 & WBY-BBY-W30 & WPB-BPG-G45 & WPO-BPO-G16 & WPO-BPY-G28 & WPR-BPY-G25 & WPV-BPR-G11\\\\\n",
       "  & <int> & <int> & <int> & <int> & <int> & <int> & <int> & <int> & <int> & <int> & ⋯ & <int> & <int> & <int> & <int> & <int> & <int> & <int> & <int> & <int> & <int>\\\\\n",
       "\\hline\n",
       "\tLOC111120752 &   2 &   2 &   0 &   0 &   2 &   0 &   0 &   0 &   1 &   0 & ⋯ &   0 &   0 &  0 &   0 &   1 &   0 &   0 &  1 &   1 &  0\\\\\n",
       "\tLOC111109452 &   0 &   0 &   0 &   0 &   1 &   1 &  10 &  12 &   0 &   2 & ⋯ &   0 &   1 &  0 &   1 &   2 &  15 &   0 &  0 &   3 &  0\\\\\n",
       "\tLOC111124802 & 597 & 453 & 408 & 244 & 502 & 434 & 187 & 336 & 311 & 110 & ⋯ & 122 & 120 & 57 & 289 & 202 & 168 & 134 & 86 & 252 &  9\\\\\n",
       "\tLOC111101273 & 173 & 146 & 115 &  75 & 171 & 158 &  64 & 115 & 137 &  45 & ⋯ &  43 &  45 & 18 &  87 &  81 &  71 &  52 & 38 &  73 &  1\\\\\n",
       "\tLOC111101250 & 253 & 255 & 257 & 118 & 327 & 269 & 115 & 141 & 184 &  49 & ⋯ &  91 &  96 & 24 & 254 & 109 &  92 &  49 &  5 & 101 &  2\\\\\n",
       "\tLOC111101262 & 645 & 634 & 502 & 364 & 647 & 677 & 246 & 389 & 355 & 108 & ⋯ & 184 & 146 & 52 & 387 & 251 & 188 & 131 & 78 & 283 & 12\\\\\n",
       "\\end{tabular}\n"
      ],
      "text/markdown": [
       "\n",
       "A data.frame: 6 × 30\n",
       "\n",
       "| <!--/--> | BBB-WBO-B21 &lt;int&gt; | BBB-WBV-B70 &lt;int&gt; | BBO-BBO-B16 &lt;int&gt; | BBO-BBY-B27 &lt;int&gt; | BBO-WBO-B16 &lt;int&gt; | BBO-WBV-B64 &lt;int&gt; | BBR-BBB-B50 &lt;int&gt; | BBR-BBG-B38 &lt;int&gt; | BBR-BBY-B26 &lt;int&gt; | BBY-WBG-B42 &lt;int&gt; | ⋯ ⋯ | WBR-BBY-W25 &lt;int&gt; | WBV-WBO-W23 &lt;int&gt; | WBV-WBR-W12 &lt;int&gt; | WBY-BBV-W65 &lt;int&gt; | WBY-BBY-W30 &lt;int&gt; | WPB-BPG-G45 &lt;int&gt; | WPO-BPO-G16 &lt;int&gt; | WPO-BPY-G28 &lt;int&gt; | WPR-BPY-G25 &lt;int&gt; | WPV-BPR-G11 &lt;int&gt; |\n",
       "|---|---|---|---|---|---|---|---|---|---|---|---|---|---|---|---|---|---|---|---|---|---|\n",
       "| LOC111120752 |   2 |   2 |   0 |   0 |   2 |   0 |   0 |   0 |   1 |   0 | ⋯ |   0 |   0 |  0 |   0 |   1 |   0 |   0 |  1 |   1 |  0 |\n",
       "| LOC111109452 |   0 |   0 |   0 |   0 |   1 |   1 |  10 |  12 |   0 |   2 | ⋯ |   0 |   1 |  0 |   1 |   2 |  15 |   0 |  0 |   3 |  0 |\n",
       "| LOC111124802 | 597 | 453 | 408 | 244 | 502 | 434 | 187 | 336 | 311 | 110 | ⋯ | 122 | 120 | 57 | 289 | 202 | 168 | 134 | 86 | 252 |  9 |\n",
       "| LOC111101273 | 173 | 146 | 115 |  75 | 171 | 158 |  64 | 115 | 137 |  45 | ⋯ |  43 |  45 | 18 |  87 |  81 |  71 |  52 | 38 |  73 |  1 |\n",
       "| LOC111101250 | 253 | 255 | 257 | 118 | 327 | 269 | 115 | 141 | 184 |  49 | ⋯ |  91 |  96 | 24 | 254 | 109 |  92 |  49 |  5 | 101 |  2 |\n",
       "| LOC111101262 | 645 | 634 | 502 | 364 | 647 | 677 | 246 | 389 | 355 | 108 | ⋯ | 184 | 146 | 52 | 387 | 251 | 188 | 131 | 78 | 283 | 12 |\n",
       "\n"
      ],
      "text/plain": [
       "             BBB-WBO-B21 BBB-WBV-B70 BBO-BBO-B16 BBO-BBY-B27 BBO-WBO-B16\n",
       "LOC111120752   2           2           0           0           2        \n",
       "LOC111109452   0           0           0           0           1        \n",
       "LOC111124802 597         453         408         244         502        \n",
       "LOC111101273 173         146         115          75         171        \n",
       "LOC111101250 253         255         257         118         327        \n",
       "LOC111101262 645         634         502         364         647        \n",
       "             BBO-WBV-B64 BBR-BBB-B50 BBR-BBG-B38 BBR-BBY-B26 BBY-WBG-B42 ⋯\n",
       "LOC111120752   0           0           0           1           0         ⋯\n",
       "LOC111109452   1          10          12           0           2         ⋯\n",
       "LOC111124802 434         187         336         311         110         ⋯\n",
       "LOC111101273 158          64         115         137          45         ⋯\n",
       "LOC111101250 269         115         141         184          49         ⋯\n",
       "LOC111101262 677         246         389         355         108         ⋯\n",
       "             WBR-BBY-W25 WBV-WBO-W23 WBV-WBR-W12 WBY-BBV-W65 WBY-BBY-W30\n",
       "LOC111120752   0           0          0            0           1        \n",
       "LOC111109452   0           1          0            1           2        \n",
       "LOC111124802 122         120         57          289         202        \n",
       "LOC111101273  43          45         18           87          81        \n",
       "LOC111101250  91          96         24          254         109        \n",
       "LOC111101262 184         146         52          387         251        \n",
       "             WPB-BPG-G45 WPO-BPO-G16 WPO-BPY-G28 WPR-BPY-G25 WPV-BPR-G11\n",
       "LOC111120752   0           0          1            1          0         \n",
       "LOC111109452  15           0          0            3          0         \n",
       "LOC111124802 168         134         86          252          9         \n",
       "LOC111101273  71          52         38           73          1         \n",
       "LOC111101250  92          49          5          101          2         \n",
       "LOC111101262 188         131         78          283         12         "
      ]
     },
     "metadata": {},
     "output_type": "display_data"
    }
   ],
   "source": [
    "# replace the '.' with '-'\n",
    "cleaned_column_names2 <- gsub('\\\\.', \"-\", colnames(counts_matrix2))\n",
    "head(cleaned_column_names2)\n",
    "\n",
    "# now assigning to the columns\n",
    "colnames(counts_matrix2) = cleaned_column_names2\n",
    "head(counts_matrix2)"
   ]
  },
  {
   "cell_type": "code",
   "execution_count": 45,
   "id": "b4af77bf-5899-429d-a3b4-0620ca3245c0",
   "metadata": {},
   "outputs": [
    {
     "data": {
      "text/html": [
       "<style>\n",
       ".list-inline {list-style: none; margin:0; padding: 0}\n",
       ".list-inline>li {display: inline-block}\n",
       ".list-inline>li:not(:last-child)::after {content: \"\\00b7\"; padding: 0 .5ex}\n",
       "</style>\n",
       "<ol class=list-inline><li>5776</li><li>30</li></ol>\n"
      ],
      "text/latex": [
       "\\begin{enumerate*}\n",
       "\\item 5776\n",
       "\\item 30\n",
       "\\end{enumerate*}\n"
      ],
      "text/markdown": [
       "1. 5776\n",
       "2. 30\n",
       "\n",
       "\n"
      ],
      "text/plain": [
       "[1] 5776   30"
      ]
     },
     "metadata": {},
     "output_type": "display_data"
    },
    {
     "data": {
      "text/html": [
       "<table class=\"dataframe\">\n",
       "<caption>A data.frame: 6 × 30</caption>\n",
       "<thead>\n",
       "\t<tr><th></th><th scope=col>BBB-WBO-B21</th><th scope=col>BBB-WBV-B70</th><th scope=col>BBO-BBO-B16</th><th scope=col>BBO-BBY-B27</th><th scope=col>BBO-WBO-B16</th><th scope=col>BBO-WBV-B64</th><th scope=col>BBR-BBB-B50</th><th scope=col>BBR-BBG-B38</th><th scope=col>BBR-BBY-B26</th><th scope=col>BBY-WBG-B42</th><th scope=col>⋯</th><th scope=col>WBR-BBY-W25</th><th scope=col>WBV-WBO-W23</th><th scope=col>WBV-WBR-W12</th><th scope=col>WBY-BBV-W65</th><th scope=col>WBY-BBY-W30</th><th scope=col>WPB-BPG-G45</th><th scope=col>WPO-BPO-G16</th><th scope=col>WPO-BPY-G28</th><th scope=col>WPR-BPY-G25</th><th scope=col>WPV-BPR-G11</th></tr>\n",
       "\t<tr><th></th><th scope=col>&lt;int&gt;</th><th scope=col>&lt;int&gt;</th><th scope=col>&lt;int&gt;</th><th scope=col>&lt;int&gt;</th><th scope=col>&lt;int&gt;</th><th scope=col>&lt;int&gt;</th><th scope=col>&lt;int&gt;</th><th scope=col>&lt;int&gt;</th><th scope=col>&lt;int&gt;</th><th scope=col>&lt;int&gt;</th><th scope=col>⋯</th><th scope=col>&lt;int&gt;</th><th scope=col>&lt;int&gt;</th><th scope=col>&lt;int&gt;</th><th scope=col>&lt;int&gt;</th><th scope=col>&lt;int&gt;</th><th scope=col>&lt;int&gt;</th><th scope=col>&lt;int&gt;</th><th scope=col>&lt;int&gt;</th><th scope=col>&lt;int&gt;</th><th scope=col>&lt;int&gt;</th></tr>\n",
       "</thead>\n",
       "<tbody>\n",
       "\t<tr><th scope=row>LOC111120752</th><td> 2</td><td> 2</td><td> 0</td><td> 0</td><td> 2</td><td> 0</td><td> 0</td><td> 0</td><td> 1</td><td> 0</td><td>⋯</td><td> 0</td><td>0</td><td> 0</td><td> 0</td><td> 1</td><td> 0</td><td> 0</td><td>1</td><td> 1</td><td> 0</td></tr>\n",
       "\t<tr><th scope=row>LOC111109452</th><td> 0</td><td> 0</td><td> 0</td><td> 0</td><td> 1</td><td> 1</td><td>10</td><td>12</td><td> 0</td><td> 2</td><td>⋯</td><td> 0</td><td>1</td><td> 0</td><td> 1</td><td> 2</td><td>15</td><td> 0</td><td>0</td><td> 3</td><td> 0</td></tr>\n",
       "\t<tr><th scope=row>LOC111102393</th><td>73</td><td>54</td><td>36</td><td>12</td><td>48</td><td>48</td><td>30</td><td>49</td><td>31</td><td>14</td><td>⋯</td><td>20</td><td>9</td><td>10</td><td>24</td><td>17</td><td>36</td><td>14</td><td>3</td><td>26</td><td>41</td></tr>\n",
       "\t<tr><th scope=row>LOC111117743</th><td> 7</td><td> 3</td><td> 0</td><td> 1</td><td> 7</td><td> 3</td><td> 2</td><td> 4</td><td> 0</td><td> 1</td><td>⋯</td><td> 0</td><td>0</td><td> 0</td><td> 4</td><td> 1</td><td> 0</td><td>39</td><td>0</td><td> 0</td><td> 0</td></tr>\n",
       "\t<tr><th scope=row>LOC111109809</th><td> 0</td><td> 0</td><td> 7</td><td> 6</td><td> 0</td><td> 0</td><td> 5</td><td> 7</td><td> 8</td><td> 0</td><td>⋯</td><td> 1</td><td>3</td><td> 1</td><td> 2</td><td> 4</td><td> 1</td><td> 4</td><td>1</td><td> 0</td><td> 2</td></tr>\n",
       "\t<tr><th scope=row>LOC111135172</th><td> 0</td><td> 0</td><td> 0</td><td> 0</td><td> 0</td><td> 1</td><td> 0</td><td> 0</td><td> 1</td><td> 0</td><td>⋯</td><td> 0</td><td>0</td><td> 0</td><td> 0</td><td> 0</td><td> 0</td><td> 0</td><td>0</td><td> 1</td><td> 0</td></tr>\n",
       "</tbody>\n",
       "</table>\n"
      ],
      "text/latex": [
       "A data.frame: 6 × 30\n",
       "\\begin{tabular}{r|lllllllllllllllllllll}\n",
       "  & BBB-WBO-B21 & BBB-WBV-B70 & BBO-BBO-B16 & BBO-BBY-B27 & BBO-WBO-B16 & BBO-WBV-B64 & BBR-BBB-B50 & BBR-BBG-B38 & BBR-BBY-B26 & BBY-WBG-B42 & ⋯ & WBR-BBY-W25 & WBV-WBO-W23 & WBV-WBR-W12 & WBY-BBV-W65 & WBY-BBY-W30 & WPB-BPG-G45 & WPO-BPO-G16 & WPO-BPY-G28 & WPR-BPY-G25 & WPV-BPR-G11\\\\\n",
       "  & <int> & <int> & <int> & <int> & <int> & <int> & <int> & <int> & <int> & <int> & ⋯ & <int> & <int> & <int> & <int> & <int> & <int> & <int> & <int> & <int> & <int>\\\\\n",
       "\\hline\n",
       "\tLOC111120752 &  2 &  2 &  0 &  0 &  2 &  0 &  0 &  0 &  1 &  0 & ⋯ &  0 & 0 &  0 &  0 &  1 &  0 &  0 & 1 &  1 &  0\\\\\n",
       "\tLOC111109452 &  0 &  0 &  0 &  0 &  1 &  1 & 10 & 12 &  0 &  2 & ⋯ &  0 & 1 &  0 &  1 &  2 & 15 &  0 & 0 &  3 &  0\\\\\n",
       "\tLOC111102393 & 73 & 54 & 36 & 12 & 48 & 48 & 30 & 49 & 31 & 14 & ⋯ & 20 & 9 & 10 & 24 & 17 & 36 & 14 & 3 & 26 & 41\\\\\n",
       "\tLOC111117743 &  7 &  3 &  0 &  1 &  7 &  3 &  2 &  4 &  0 &  1 & ⋯ &  0 & 0 &  0 &  4 &  1 &  0 & 39 & 0 &  0 &  0\\\\\n",
       "\tLOC111109809 &  0 &  0 &  7 &  6 &  0 &  0 &  5 &  7 &  8 &  0 & ⋯ &  1 & 3 &  1 &  2 &  4 &  1 &  4 & 1 &  0 &  2\\\\\n",
       "\tLOC111135172 &  0 &  0 &  0 &  0 &  0 &  1 &  0 &  0 &  1 &  0 & ⋯ &  0 & 0 &  0 &  0 &  0 &  0 &  0 & 0 &  1 &  0\\\\\n",
       "\\end{tabular}\n"
      ],
      "text/markdown": [
       "\n",
       "A data.frame: 6 × 30\n",
       "\n",
       "| <!--/--> | BBB-WBO-B21 &lt;int&gt; | BBB-WBV-B70 &lt;int&gt; | BBO-BBO-B16 &lt;int&gt; | BBO-BBY-B27 &lt;int&gt; | BBO-WBO-B16 &lt;int&gt; | BBO-WBV-B64 &lt;int&gt; | BBR-BBB-B50 &lt;int&gt; | BBR-BBG-B38 &lt;int&gt; | BBR-BBY-B26 &lt;int&gt; | BBY-WBG-B42 &lt;int&gt; | ⋯ ⋯ | WBR-BBY-W25 &lt;int&gt; | WBV-WBO-W23 &lt;int&gt; | WBV-WBR-W12 &lt;int&gt; | WBY-BBV-W65 &lt;int&gt; | WBY-BBY-W30 &lt;int&gt; | WPB-BPG-G45 &lt;int&gt; | WPO-BPO-G16 &lt;int&gt; | WPO-BPY-G28 &lt;int&gt; | WPR-BPY-G25 &lt;int&gt; | WPV-BPR-G11 &lt;int&gt; |\n",
       "|---|---|---|---|---|---|---|---|---|---|---|---|---|---|---|---|---|---|---|---|---|---|\n",
       "| LOC111120752 |  2 |  2 |  0 |  0 |  2 |  0 |  0 |  0 |  1 |  0 | ⋯ |  0 | 0 |  0 |  0 |  1 |  0 |  0 | 1 |  1 |  0 |\n",
       "| LOC111109452 |  0 |  0 |  0 |  0 |  1 |  1 | 10 | 12 |  0 |  2 | ⋯ |  0 | 1 |  0 |  1 |  2 | 15 |  0 | 0 |  3 |  0 |\n",
       "| LOC111102393 | 73 | 54 | 36 | 12 | 48 | 48 | 30 | 49 | 31 | 14 | ⋯ | 20 | 9 | 10 | 24 | 17 | 36 | 14 | 3 | 26 | 41 |\n",
       "| LOC111117743 |  7 |  3 |  0 |  1 |  7 |  3 |  2 |  4 |  0 |  1 | ⋯ |  0 | 0 |  0 |  4 |  1 |  0 | 39 | 0 |  0 |  0 |\n",
       "| LOC111109809 |  0 |  0 |  7 |  6 |  0 |  0 |  5 |  7 |  8 |  0 | ⋯ |  1 | 3 |  1 |  2 |  4 |  1 |  4 | 1 |  0 |  2 |\n",
       "| LOC111135172 |  0 |  0 |  0 |  0 |  0 |  1 |  0 |  0 |  1 |  0 | ⋯ |  0 | 0 |  0 |  0 |  0 |  0 |  0 | 0 |  1 |  0 |\n",
       "\n"
      ],
      "text/plain": [
       "             BBB-WBO-B21 BBB-WBV-B70 BBO-BBO-B16 BBO-BBY-B27 BBO-WBO-B16\n",
       "LOC111120752  2           2           0           0           2         \n",
       "LOC111109452  0           0           0           0           1         \n",
       "LOC111102393 73          54          36          12          48         \n",
       "LOC111117743  7           3           0           1           7         \n",
       "LOC111109809  0           0           7           6           0         \n",
       "LOC111135172  0           0           0           0           0         \n",
       "             BBO-WBV-B64 BBR-BBB-B50 BBR-BBG-B38 BBR-BBY-B26 BBY-WBG-B42 ⋯\n",
       "LOC111120752  0           0           0           1           0          ⋯\n",
       "LOC111109452  1          10          12           0           2          ⋯\n",
       "LOC111102393 48          30          49          31          14          ⋯\n",
       "LOC111117743  3           2           4           0           1          ⋯\n",
       "LOC111109809  0           5           7           8           0          ⋯\n",
       "LOC111135172  1           0           0           1           0          ⋯\n",
       "             WBR-BBY-W25 WBV-WBO-W23 WBV-WBR-W12 WBY-BBV-W65 WBY-BBY-W30\n",
       "LOC111120752  0          0            0           0           1         \n",
       "LOC111109452  0          1            0           1           2         \n",
       "LOC111102393 20          9           10          24          17         \n",
       "LOC111117743  0          0            0           4           1         \n",
       "LOC111109809  1          3            1           2           4         \n",
       "LOC111135172  0          0            0           0           0         \n",
       "             WPB-BPG-G45 WPO-BPO-G16 WPO-BPY-G28 WPR-BPY-G25 WPV-BPR-G11\n",
       "LOC111120752  0           0          1            1           0         \n",
       "LOC111109452 15           0          0            3           0         \n",
       "LOC111102393 36          14          3           26          41         \n",
       "LOC111117743  0          39          0            0           0         \n",
       "LOC111109809  1           4          1            0           2         \n",
       "LOC111135172  0           0          0            1           0         "
      ]
     },
     "metadata": {},
     "output_type": "display_data"
    }
   ],
   "source": [
    "# creating new df of counts matrix of genes with NA for padj\n",
    "counts_na <- counts_matrix2[rownames(counts_matrix2) %in% genes_w_na$X,]\n",
    "dim(counts_na) # 5,776 genes \n",
    "head(counts_na)"
   ]
  },
  {
   "cell_type": "markdown",
   "id": "186c8a7f-b4a2-4c3a-864d-6e9199a3507d",
   "metadata": {},
   "source": [
    "also need to load in meta data so that I can pull out the right columns aka samples that were warm or control for phase 1"
   ]
  },
  {
   "cell_type": "code",
   "execution_count": 46,
   "id": "d485a7e7-d0e0-4992-b72e-6ce6c1d1598e",
   "metadata": {},
   "outputs": [
    {
     "data": {
      "text/html": [
       "<table class=\"dataframe\">\n",
       "<caption>A data.frame: 6 × 13</caption>\n",
       "<thead>\n",
       "\t<tr><th></th><th scope=col>sample_ID</th><th scope=col>unique_ID</th><th scope=col>T1_code</th><th scope=col>T2_code</th><th scope=col>ID_code</th><th scope=col>T1_oxygen</th><th scope=col>T1_temp</th><th scope=col>Tank1</th><th scope=col>T2_oxygen</th><th scope=col>T2_temp</th><th scope=col>Tank2</th><th scope=col>Phase1</th><th scope=col>Phase2</th></tr>\n",
       "\t<tr><th></th><th scope=col>&lt;chr&gt;</th><th scope=col>&lt;chr&gt;</th><th scope=col>&lt;chr&gt;</th><th scope=col>&lt;chr&gt;</th><th scope=col>&lt;chr&gt;</th><th scope=col>&lt;chr&gt;</th><th scope=col>&lt;chr&gt;</th><th scope=col>&lt;chr&gt;</th><th scope=col>&lt;chr&gt;</th><th scope=col>&lt;chr&gt;</th><th scope=col>&lt;chr&gt;</th><th scope=col>&lt;chr&gt;</th><th scope=col>&lt;chr&gt;</th></tr>\n",
       "</thead>\n",
       "<tbody>\n",
       "\t<tr><th scope=row>1</th><td>2018--BBB-WBO-B21-CV</td><td>BBB-WBO-B21</td><td>BBB</td><td>WBO</td><td>B21</td><td>hypoxic</td><td>ambient</td><td>B</td><td>normoxic</td><td>ambient</td><td>O</td><td>hypoxic</td><td>control</td></tr>\n",
       "\t<tr><th scope=row>2</th><td>2018--BBB-WBV-B70-CV</td><td>BBB-WBV-B70</td><td>BBB</td><td>WBV</td><td>B70</td><td>hypoxic</td><td>ambient</td><td>B</td><td>normoxic</td><td>ambient</td><td>V</td><td>hypoxic</td><td>control</td></tr>\n",
       "\t<tr><th scope=row>3</th><td>2018--BBO-BBO-B16-CV</td><td>BBO-BBO-B16</td><td>BBO</td><td>BBO</td><td>B16</td><td>hypoxic</td><td>ambient</td><td>O</td><td>hypoxic </td><td>ambient</td><td>O</td><td>hypoxic</td><td>hypoxic</td></tr>\n",
       "\t<tr><th scope=row>4</th><td>2018--BBO-BBY-B27-CV</td><td>BBO-BBY-B27</td><td>BBO</td><td>BBY</td><td>B27</td><td>hypoxic</td><td>ambient</td><td>O</td><td>hypoxic </td><td>ambient</td><td>Y</td><td>hypoxic</td><td>hypoxic</td></tr>\n",
       "\t<tr><th scope=row>5</th><td>2018--BBO-WBO-B16-CV</td><td>BBO-WBO-B16</td><td>BBO</td><td>WBO</td><td>B16</td><td>hypoxic</td><td>ambient</td><td>O</td><td>normoxic</td><td>ambient</td><td>O</td><td>hypoxic</td><td>control</td></tr>\n",
       "\t<tr><th scope=row>6</th><td>2018--BBO-WBV-B64-CV</td><td>BBO-WBV-B64</td><td>BBO</td><td>WBV</td><td>B64</td><td>hypoxic</td><td>ambient</td><td>O</td><td>normoxic</td><td>ambient</td><td>V</td><td>hypoxic</td><td>control</td></tr>\n",
       "</tbody>\n",
       "</table>\n"
      ],
      "text/latex": [
       "A data.frame: 6 × 13\n",
       "\\begin{tabular}{r|lllllllllllll}\n",
       "  & sample\\_ID & unique\\_ID & T1\\_code & T2\\_code & ID\\_code & T1\\_oxygen & T1\\_temp & Tank1 & T2\\_oxygen & T2\\_temp & Tank2 & Phase1 & Phase2\\\\\n",
       "  & <chr> & <chr> & <chr> & <chr> & <chr> & <chr> & <chr> & <chr> & <chr> & <chr> & <chr> & <chr> & <chr>\\\\\n",
       "\\hline\n",
       "\t1 & 2018--BBB-WBO-B21-CV & BBB-WBO-B21 & BBB & WBO & B21 & hypoxic & ambient & B & normoxic & ambient & O & hypoxic & control\\\\\n",
       "\t2 & 2018--BBB-WBV-B70-CV & BBB-WBV-B70 & BBB & WBV & B70 & hypoxic & ambient & B & normoxic & ambient & V & hypoxic & control\\\\\n",
       "\t3 & 2018--BBO-BBO-B16-CV & BBO-BBO-B16 & BBO & BBO & B16 & hypoxic & ambient & O & hypoxic  & ambient & O & hypoxic & hypoxic\\\\\n",
       "\t4 & 2018--BBO-BBY-B27-CV & BBO-BBY-B27 & BBO & BBY & B27 & hypoxic & ambient & O & hypoxic  & ambient & Y & hypoxic & hypoxic\\\\\n",
       "\t5 & 2018--BBO-WBO-B16-CV & BBO-WBO-B16 & BBO & WBO & B16 & hypoxic & ambient & O & normoxic & ambient & O & hypoxic & control\\\\\n",
       "\t6 & 2018--BBO-WBV-B64-CV & BBO-WBV-B64 & BBO & WBV & B64 & hypoxic & ambient & O & normoxic & ambient & V & hypoxic & control\\\\\n",
       "\\end{tabular}\n"
      ],
      "text/markdown": [
       "\n",
       "A data.frame: 6 × 13\n",
       "\n",
       "| <!--/--> | sample_ID &lt;chr&gt; | unique_ID &lt;chr&gt; | T1_code &lt;chr&gt; | T2_code &lt;chr&gt; | ID_code &lt;chr&gt; | T1_oxygen &lt;chr&gt; | T1_temp &lt;chr&gt; | Tank1 &lt;chr&gt; | T2_oxygen &lt;chr&gt; | T2_temp &lt;chr&gt; | Tank2 &lt;chr&gt; | Phase1 &lt;chr&gt; | Phase2 &lt;chr&gt; |\n",
       "|---|---|---|---|---|---|---|---|---|---|---|---|---|---|\n",
       "| 1 | 2018--BBB-WBO-B21-CV | BBB-WBO-B21 | BBB | WBO | B21 | hypoxic | ambient | B | normoxic | ambient | O | hypoxic | control |\n",
       "| 2 | 2018--BBB-WBV-B70-CV | BBB-WBV-B70 | BBB | WBV | B70 | hypoxic | ambient | B | normoxic | ambient | V | hypoxic | control |\n",
       "| 3 | 2018--BBO-BBO-B16-CV | BBO-BBO-B16 | BBO | BBO | B16 | hypoxic | ambient | O | hypoxic  | ambient | O | hypoxic | hypoxic |\n",
       "| 4 | 2018--BBO-BBY-B27-CV | BBO-BBY-B27 | BBO | BBY | B27 | hypoxic | ambient | O | hypoxic  | ambient | Y | hypoxic | hypoxic |\n",
       "| 5 | 2018--BBO-WBO-B16-CV | BBO-WBO-B16 | BBO | WBO | B16 | hypoxic | ambient | O | normoxic | ambient | O | hypoxic | control |\n",
       "| 6 | 2018--BBO-WBV-B64-CV | BBO-WBV-B64 | BBO | WBV | B64 | hypoxic | ambient | O | normoxic | ambient | V | hypoxic | control |\n",
       "\n"
      ],
      "text/plain": [
       "  sample_ID            unique_ID   T1_code T2_code ID_code T1_oxygen T1_temp\n",
       "1 2018--BBB-WBO-B21-CV BBB-WBO-B21 BBB     WBO     B21     hypoxic   ambient\n",
       "2 2018--BBB-WBV-B70-CV BBB-WBV-B70 BBB     WBV     B70     hypoxic   ambient\n",
       "3 2018--BBO-BBO-B16-CV BBO-BBO-B16 BBO     BBO     B16     hypoxic   ambient\n",
       "4 2018--BBO-BBY-B27-CV BBO-BBY-B27 BBO     BBY     B27     hypoxic   ambient\n",
       "5 2018--BBO-WBO-B16-CV BBO-WBO-B16 BBO     WBO     B16     hypoxic   ambient\n",
       "6 2018--BBO-WBV-B64-CV BBO-WBV-B64 BBO     WBV     B64     hypoxic   ambient\n",
       "  Tank1 T2_oxygen T2_temp Tank2 Phase1  Phase2 \n",
       "1 B     normoxic  ambient O     hypoxic control\n",
       "2 B     normoxic  ambient V     hypoxic control\n",
       "3 O     hypoxic   ambient O     hypoxic hypoxic\n",
       "4 O     hypoxic   ambient Y     hypoxic hypoxic\n",
       "5 O     normoxic  ambient O     hypoxic control\n",
       "6 O     normoxic  ambient V     hypoxic control"
      ]
     },
     "metadata": {},
     "output_type": "display_data"
    }
   ],
   "source": [
    "meta <- read.csv('/project/pi_sarah_gignouxwolfsohn_uml_edu/julia/CE_MethylRAD_analysis_2018/analysis/counts_and_meta/CV_CE18_meta.csv')\n",
    "head(meta)"
   ]
  },
  {
   "cell_type": "markdown",
   "id": "a43e8c74-badd-4545-9fbb-c6d68ff2c3ad",
   "metadata": {},
   "source": [
    "pulling out only the samples that were either warm or control for phase 1 treatment (we're ignoring the effects of phase 2 for this analysis)"
   ]
  },
  {
   "cell_type": "code",
   "execution_count": 52,
   "id": "6ab6fd6a-072a-4114-8cf9-3140b2737426",
   "metadata": {},
   "outputs": [
    {
     "data": {
      "text/html": [
       "<style>\n",
       ".list-inline {list-style: none; margin:0; padding: 0}\n",
       ".list-inline>li {display: inline-block}\n",
       ".list-inline>li:not(:last-child)::after {content: \"\\00b7\"; padding: 0 .5ex}\n",
       "</style>\n",
       "<ol class=list-inline><li>15</li><li>13</li></ol>\n"
      ],
      "text/latex": [
       "\\begin{enumerate*}\n",
       "\\item 15\n",
       "\\item 13\n",
       "\\end{enumerate*}\n"
      ],
      "text/markdown": [
       "1. 15\n",
       "2. 13\n",
       "\n",
       "\n"
      ],
      "text/plain": [
       "[1] 15 13"
      ]
     },
     "metadata": {},
     "output_type": "display_data"
    },
    {
     "data": {
      "text/html": [
       "<table class=\"dataframe\">\n",
       "<caption>A data.frame: 6 × 13</caption>\n",
       "<thead>\n",
       "\t<tr><th></th><th scope=col>sample_ID</th><th scope=col>unique_ID</th><th scope=col>T1_code</th><th scope=col>T2_code</th><th scope=col>ID_code</th><th scope=col>T1_oxygen</th><th scope=col>T1_temp</th><th scope=col>Tank1</th><th scope=col>T2_oxygen</th><th scope=col>T2_temp</th><th scope=col>Tank2</th><th scope=col>Phase1</th><th scope=col>Phase2</th></tr>\n",
       "\t<tr><th></th><th scope=col>&lt;chr&gt;</th><th scope=col>&lt;chr&gt;</th><th scope=col>&lt;chr&gt;</th><th scope=col>&lt;chr&gt;</th><th scope=col>&lt;chr&gt;</th><th scope=col>&lt;chr&gt;</th><th scope=col>&lt;chr&gt;</th><th scope=col>&lt;chr&gt;</th><th scope=col>&lt;chr&gt;</th><th scope=col>&lt;chr&gt;</th><th scope=col>&lt;chr&gt;</th><th scope=col>&lt;chr&gt;</th><th scope=col>&lt;chr&gt;</th></tr>\n",
       "</thead>\n",
       "<tbody>\n",
       "\t<tr><th scope=row>1</th><td>2018--WBB-WBV-W69-CV</td><td>WBB-WBV-W69</td><td>WBB</td><td>WBV</td><td>W69</td><td>normoxic</td><td>ambient</td><td>B</td><td>normoxic</td><td>ambient</td><td>V</td><td>control</td><td>control</td></tr>\n",
       "\t<tr><th scope=row>2</th><td>2018--WBG-BBB-W56-CV</td><td>WBG-BBB-W56</td><td>WBG</td><td>BBB</td><td>W56</td><td>normoxic</td><td>ambient</td><td>G</td><td>hypoxic </td><td>ambient</td><td>B</td><td>control</td><td>hypoxic</td></tr>\n",
       "\t<tr><th scope=row>3</th><td>2018--WBG-WBG-W44-CV</td><td>WBG-WBG-W44</td><td>WBG</td><td>WBG</td><td>W44</td><td>normoxic</td><td>ambient</td><td>G</td><td>normoxic</td><td>ambient</td><td>G</td><td>control</td><td>control</td></tr>\n",
       "\t<tr><th scope=row>4</th><td>2018--WBO-BBR-W03-CV</td><td>WBO-BBR-W03</td><td>WBO</td><td>BBR</td><td>W03</td><td>normoxic</td><td>ambient</td><td>O</td><td>hypoxic </td><td>ambient</td><td>R</td><td>control</td><td>hypoxic</td></tr>\n",
       "\t<tr><th scope=row>5</th><td>2018--WBO-WBV-W64-CV</td><td>WBO-WBV-W64</td><td>WBO</td><td>WBV</td><td>W64</td><td>normoxic</td><td>ambient</td><td>O</td><td>normoxic</td><td>ambient</td><td>V</td><td>control</td><td>control</td></tr>\n",
       "\t<tr><th scope=row>6</th><td>2018--WBR-BBY-W25-CV</td><td>WBR-BBY-W25</td><td>WBR</td><td>BBY</td><td>W25</td><td>normoxic</td><td>ambient</td><td>R</td><td>hypoxic </td><td>ambient</td><td>Y</td><td>control</td><td>hypoxic</td></tr>\n",
       "</tbody>\n",
       "</table>\n"
      ],
      "text/latex": [
       "A data.frame: 6 × 13\n",
       "\\begin{tabular}{r|lllllllllllll}\n",
       "  & sample\\_ID & unique\\_ID & T1\\_code & T2\\_code & ID\\_code & T1\\_oxygen & T1\\_temp & Tank1 & T2\\_oxygen & T2\\_temp & Tank2 & Phase1 & Phase2\\\\\n",
       "  & <chr> & <chr> & <chr> & <chr> & <chr> & <chr> & <chr> & <chr> & <chr> & <chr> & <chr> & <chr> & <chr>\\\\\n",
       "\\hline\n",
       "\t1 & 2018--WBB-WBV-W69-CV & WBB-WBV-W69 & WBB & WBV & W69 & normoxic & ambient & B & normoxic & ambient & V & control & control\\\\\n",
       "\t2 & 2018--WBG-BBB-W56-CV & WBG-BBB-W56 & WBG & BBB & W56 & normoxic & ambient & G & hypoxic  & ambient & B & control & hypoxic\\\\\n",
       "\t3 & 2018--WBG-WBG-W44-CV & WBG-WBG-W44 & WBG & WBG & W44 & normoxic & ambient & G & normoxic & ambient & G & control & control\\\\\n",
       "\t4 & 2018--WBO-BBR-W03-CV & WBO-BBR-W03 & WBO & BBR & W03 & normoxic & ambient & O & hypoxic  & ambient & R & control & hypoxic\\\\\n",
       "\t5 & 2018--WBO-WBV-W64-CV & WBO-WBV-W64 & WBO & WBV & W64 & normoxic & ambient & O & normoxic & ambient & V & control & control\\\\\n",
       "\t6 & 2018--WBR-BBY-W25-CV & WBR-BBY-W25 & WBR & BBY & W25 & normoxic & ambient & R & hypoxic  & ambient & Y & control & hypoxic\\\\\n",
       "\\end{tabular}\n"
      ],
      "text/markdown": [
       "\n",
       "A data.frame: 6 × 13\n",
       "\n",
       "| <!--/--> | sample_ID &lt;chr&gt; | unique_ID &lt;chr&gt; | T1_code &lt;chr&gt; | T2_code &lt;chr&gt; | ID_code &lt;chr&gt; | T1_oxygen &lt;chr&gt; | T1_temp &lt;chr&gt; | Tank1 &lt;chr&gt; | T2_oxygen &lt;chr&gt; | T2_temp &lt;chr&gt; | Tank2 &lt;chr&gt; | Phase1 &lt;chr&gt; | Phase2 &lt;chr&gt; |\n",
       "|---|---|---|---|---|---|---|---|---|---|---|---|---|---|\n",
       "| 1 | 2018--WBB-WBV-W69-CV | WBB-WBV-W69 | WBB | WBV | W69 | normoxic | ambient | B | normoxic | ambient | V | control | control |\n",
       "| 2 | 2018--WBG-BBB-W56-CV | WBG-BBB-W56 | WBG | BBB | W56 | normoxic | ambient | G | hypoxic  | ambient | B | control | hypoxic |\n",
       "| 3 | 2018--WBG-WBG-W44-CV | WBG-WBG-W44 | WBG | WBG | W44 | normoxic | ambient | G | normoxic | ambient | G | control | control |\n",
       "| 4 | 2018--WBO-BBR-W03-CV | WBO-BBR-W03 | WBO | BBR | W03 | normoxic | ambient | O | hypoxic  | ambient | R | control | hypoxic |\n",
       "| 5 | 2018--WBO-WBV-W64-CV | WBO-WBV-W64 | WBO | WBV | W64 | normoxic | ambient | O | normoxic | ambient | V | control | control |\n",
       "| 6 | 2018--WBR-BBY-W25-CV | WBR-BBY-W25 | WBR | BBY | W25 | normoxic | ambient | R | hypoxic  | ambient | Y | control | hypoxic |\n",
       "\n"
      ],
      "text/plain": [
       "  sample_ID            unique_ID   T1_code T2_code ID_code T1_oxygen T1_temp\n",
       "1 2018--WBB-WBV-W69-CV WBB-WBV-W69 WBB     WBV     W69     normoxic  ambient\n",
       "2 2018--WBG-BBB-W56-CV WBG-BBB-W56 WBG     BBB     W56     normoxic  ambient\n",
       "3 2018--WBG-WBG-W44-CV WBG-WBG-W44 WBG     WBG     W44     normoxic  ambient\n",
       "4 2018--WBO-BBR-W03-CV WBO-BBR-W03 WBO     BBR     W03     normoxic  ambient\n",
       "5 2018--WBO-WBV-W64-CV WBO-WBV-W64 WBO     WBV     W64     normoxic  ambient\n",
       "6 2018--WBR-BBY-W25-CV WBR-BBY-W25 WBR     BBY     W25     normoxic  ambient\n",
       "  Tank1 T2_oxygen T2_temp Tank2 Phase1  Phase2 \n",
       "1 B     normoxic  ambient V     control control\n",
       "2 G     hypoxic   ambient B     control hypoxic\n",
       "3 G     normoxic  ambient G     control control\n",
       "4 O     hypoxic   ambient R     control hypoxic\n",
       "5 O     normoxic  ambient V     control control\n",
       "6 R     hypoxic   ambient Y     control hypoxic"
      ]
     },
     "metadata": {},
     "output_type": "display_data"
    }
   ],
   "source": [
    "p1_wc_meta <- filter(meta, meta$Phase1 == 'warm' | meta$Phase1 == 'control')\n",
    "dim(p1_wc_meta) # 15 total samples\n",
    "head(p1_wc_meta)"
   ]
  },
  {
   "cell_type": "code",
   "execution_count": 56,
   "id": "0e9d383e-2193-43c3-ae7a-5a9cc2d82610",
   "metadata": {},
   "outputs": [
    {
     "data": {
      "text/html": [
       "<table class=\"dataframe\">\n",
       "<caption>A data.frame: 15 × 13</caption>\n",
       "<thead>\n",
       "\t<tr><th scope=col>sample_ID</th><th scope=col>unique_ID</th><th scope=col>T1_code</th><th scope=col>T2_code</th><th scope=col>ID_code</th><th scope=col>T1_oxygen</th><th scope=col>T1_temp</th><th scope=col>Tank1</th><th scope=col>T2_oxygen</th><th scope=col>T2_temp</th><th scope=col>Tank2</th><th scope=col>Phase1</th><th scope=col>Phase2</th></tr>\n",
       "\t<tr><th scope=col>&lt;chr&gt;</th><th scope=col>&lt;chr&gt;</th><th scope=col>&lt;chr&gt;</th><th scope=col>&lt;chr&gt;</th><th scope=col>&lt;chr&gt;</th><th scope=col>&lt;chr&gt;</th><th scope=col>&lt;chr&gt;</th><th scope=col>&lt;chr&gt;</th><th scope=col>&lt;chr&gt;</th><th scope=col>&lt;chr&gt;</th><th scope=col>&lt;chr&gt;</th><th scope=col>&lt;chr&gt;</th><th scope=col>&lt;chr&gt;</th></tr>\n",
       "</thead>\n",
       "<tbody>\n",
       "\t<tr><td>2018--WBB-WBV-W69-CV</td><td>WBB-WBV-W69</td><td>WBB</td><td>WBV</td><td>W69</td><td>normoxic</td><td>ambient</td><td>B</td><td>normoxic</td><td>ambient</td><td>V</td><td>control</td><td>control</td></tr>\n",
       "\t<tr><td>2018--WBG-BBB-W56-CV</td><td>WBG-BBB-W56</td><td>WBG</td><td>BBB</td><td>W56</td><td>normoxic</td><td>ambient</td><td>G</td><td>hypoxic </td><td>ambient</td><td>B</td><td>control</td><td>hypoxic</td></tr>\n",
       "\t<tr><td>2018--WBG-WBG-W44-CV</td><td>WBG-WBG-W44</td><td>WBG</td><td>WBG</td><td>W44</td><td>normoxic</td><td>ambient</td><td>G</td><td>normoxic</td><td>ambient</td><td>G</td><td>control</td><td>control</td></tr>\n",
       "\t<tr><td>2018--WBO-BBR-W03-CV</td><td>WBO-BBR-W03</td><td>WBO</td><td>BBR</td><td>W03</td><td>normoxic</td><td>ambient</td><td>O</td><td>hypoxic </td><td>ambient</td><td>R</td><td>control</td><td>hypoxic</td></tr>\n",
       "\t<tr><td>2018--WBO-WBV-W64-CV</td><td>WBO-WBV-W64</td><td>WBO</td><td>WBV</td><td>W64</td><td>normoxic</td><td>ambient</td><td>O</td><td>normoxic</td><td>ambient</td><td>V</td><td>control</td><td>control</td></tr>\n",
       "\t<tr><td>2018--WBR-BBY-W25-CV</td><td>WBR-BBY-W25</td><td>WBR</td><td>BBY</td><td>W25</td><td>normoxic</td><td>ambient</td><td>R</td><td>hypoxic </td><td>ambient</td><td>Y</td><td>control</td><td>hypoxic</td></tr>\n",
       "\t<tr><td>2018--WBV-WBO-W23-CV</td><td>WBV-WBO-W23</td><td>WBV</td><td>WBO</td><td>W23</td><td>normoxic</td><td>ambient</td><td>V</td><td>normoxic</td><td>ambient</td><td>O</td><td>control</td><td>control</td></tr>\n",
       "\t<tr><td>2018--WBV-WBR-W12-CV</td><td>WBV-WBR-W12</td><td>WBV</td><td>WBR</td><td>W12</td><td>normoxic</td><td>ambient</td><td>V</td><td>normoxic</td><td>ambient</td><td>R</td><td>control</td><td>control</td></tr>\n",
       "\t<tr><td>2018--WBY-BBV-W65-CV</td><td>WBY-BBV-W65</td><td>WBY</td><td>BBV</td><td>W65</td><td>normoxic</td><td>ambient</td><td>Y</td><td>hypoxic </td><td>ambient</td><td>V</td><td>control</td><td>hypoxic</td></tr>\n",
       "\t<tr><td>2018--WBY-BBY-W30-CV</td><td>WBY-BBY-W30</td><td>WBY</td><td>BBY</td><td>W30</td><td>normoxic</td><td>ambient</td><td>Y</td><td>hypoxic </td><td>ambient</td><td>Y</td><td>control</td><td>hypoxic</td></tr>\n",
       "\t<tr><td>2018--WPB-BPG-G45-CV</td><td>WPB-BPG-G45</td><td>WPB</td><td>BPG</td><td>G45</td><td>normoxic</td><td>warm   </td><td>B</td><td>hypoxic </td><td>warm   </td><td>G</td><td>warm   </td><td>both   </td></tr>\n",
       "\t<tr><td>2018--WPO-BPO-G16-CV</td><td>WPO-BPO-G16</td><td>WPO</td><td>BPO</td><td>G16</td><td>normoxic</td><td>warm   </td><td>O</td><td>hypoxic </td><td>warm   </td><td>O</td><td>warm   </td><td>both   </td></tr>\n",
       "\t<tr><td>2018--WPO-BPY-G28-CV</td><td>WPO-BPY-G28</td><td>WPO</td><td>BPY</td><td>G28</td><td>normoxic</td><td>warm   </td><td>O</td><td>hypoxic </td><td>warm   </td><td>Y</td><td>warm   </td><td>both   </td></tr>\n",
       "\t<tr><td>2018--WPR-BPY-G25-CV</td><td>WPR-BPY-G25</td><td>WPR</td><td>BPY</td><td>G25</td><td>normoxic</td><td>warm   </td><td>R</td><td>hypoxic </td><td>warm   </td><td>Y</td><td>warm   </td><td>both   </td></tr>\n",
       "\t<tr><td>2018--WPV-BPR-G11-CV</td><td>WPV-BPR-G11</td><td>WPV</td><td>BPR</td><td>G11</td><td>normoxic</td><td>warm   </td><td>V</td><td>hypoxic </td><td>warm   </td><td>R</td><td>warm   </td><td>both   </td></tr>\n",
       "</tbody>\n",
       "</table>\n"
      ],
      "text/latex": [
       "A data.frame: 15 × 13\n",
       "\\begin{tabular}{lllllllllllll}\n",
       " sample\\_ID & unique\\_ID & T1\\_code & T2\\_code & ID\\_code & T1\\_oxygen & T1\\_temp & Tank1 & T2\\_oxygen & T2\\_temp & Tank2 & Phase1 & Phase2\\\\\n",
       " <chr> & <chr> & <chr> & <chr> & <chr> & <chr> & <chr> & <chr> & <chr> & <chr> & <chr> & <chr> & <chr>\\\\\n",
       "\\hline\n",
       "\t 2018--WBB-WBV-W69-CV & WBB-WBV-W69 & WBB & WBV & W69 & normoxic & ambient & B & normoxic & ambient & V & control & control\\\\\n",
       "\t 2018--WBG-BBB-W56-CV & WBG-BBB-W56 & WBG & BBB & W56 & normoxic & ambient & G & hypoxic  & ambient & B & control & hypoxic\\\\\n",
       "\t 2018--WBG-WBG-W44-CV & WBG-WBG-W44 & WBG & WBG & W44 & normoxic & ambient & G & normoxic & ambient & G & control & control\\\\\n",
       "\t 2018--WBO-BBR-W03-CV & WBO-BBR-W03 & WBO & BBR & W03 & normoxic & ambient & O & hypoxic  & ambient & R & control & hypoxic\\\\\n",
       "\t 2018--WBO-WBV-W64-CV & WBO-WBV-W64 & WBO & WBV & W64 & normoxic & ambient & O & normoxic & ambient & V & control & control\\\\\n",
       "\t 2018--WBR-BBY-W25-CV & WBR-BBY-W25 & WBR & BBY & W25 & normoxic & ambient & R & hypoxic  & ambient & Y & control & hypoxic\\\\\n",
       "\t 2018--WBV-WBO-W23-CV & WBV-WBO-W23 & WBV & WBO & W23 & normoxic & ambient & V & normoxic & ambient & O & control & control\\\\\n",
       "\t 2018--WBV-WBR-W12-CV & WBV-WBR-W12 & WBV & WBR & W12 & normoxic & ambient & V & normoxic & ambient & R & control & control\\\\\n",
       "\t 2018--WBY-BBV-W65-CV & WBY-BBV-W65 & WBY & BBV & W65 & normoxic & ambient & Y & hypoxic  & ambient & V & control & hypoxic\\\\\n",
       "\t 2018--WBY-BBY-W30-CV & WBY-BBY-W30 & WBY & BBY & W30 & normoxic & ambient & Y & hypoxic  & ambient & Y & control & hypoxic\\\\\n",
       "\t 2018--WPB-BPG-G45-CV & WPB-BPG-G45 & WPB & BPG & G45 & normoxic & warm    & B & hypoxic  & warm    & G & warm    & both   \\\\\n",
       "\t 2018--WPO-BPO-G16-CV & WPO-BPO-G16 & WPO & BPO & G16 & normoxic & warm    & O & hypoxic  & warm    & O & warm    & both   \\\\\n",
       "\t 2018--WPO-BPY-G28-CV & WPO-BPY-G28 & WPO & BPY & G28 & normoxic & warm    & O & hypoxic  & warm    & Y & warm    & both   \\\\\n",
       "\t 2018--WPR-BPY-G25-CV & WPR-BPY-G25 & WPR & BPY & G25 & normoxic & warm    & R & hypoxic  & warm    & Y & warm    & both   \\\\\n",
       "\t 2018--WPV-BPR-G11-CV & WPV-BPR-G11 & WPV & BPR & G11 & normoxic & warm    & V & hypoxic  & warm    & R & warm    & both   \\\\\n",
       "\\end{tabular}\n"
      ],
      "text/markdown": [
       "\n",
       "A data.frame: 15 × 13\n",
       "\n",
       "| sample_ID &lt;chr&gt; | unique_ID &lt;chr&gt; | T1_code &lt;chr&gt; | T2_code &lt;chr&gt; | ID_code &lt;chr&gt; | T1_oxygen &lt;chr&gt; | T1_temp &lt;chr&gt; | Tank1 &lt;chr&gt; | T2_oxygen &lt;chr&gt; | T2_temp &lt;chr&gt; | Tank2 &lt;chr&gt; | Phase1 &lt;chr&gt; | Phase2 &lt;chr&gt; |\n",
       "|---|---|---|---|---|---|---|---|---|---|---|---|---|\n",
       "| 2018--WBB-WBV-W69-CV | WBB-WBV-W69 | WBB | WBV | W69 | normoxic | ambient | B | normoxic | ambient | V | control | control |\n",
       "| 2018--WBG-BBB-W56-CV | WBG-BBB-W56 | WBG | BBB | W56 | normoxic | ambient | G | hypoxic  | ambient | B | control | hypoxic |\n",
       "| 2018--WBG-WBG-W44-CV | WBG-WBG-W44 | WBG | WBG | W44 | normoxic | ambient | G | normoxic | ambient | G | control | control |\n",
       "| 2018--WBO-BBR-W03-CV | WBO-BBR-W03 | WBO | BBR | W03 | normoxic | ambient | O | hypoxic  | ambient | R | control | hypoxic |\n",
       "| 2018--WBO-WBV-W64-CV | WBO-WBV-W64 | WBO | WBV | W64 | normoxic | ambient | O | normoxic | ambient | V | control | control |\n",
       "| 2018--WBR-BBY-W25-CV | WBR-BBY-W25 | WBR | BBY | W25 | normoxic | ambient | R | hypoxic  | ambient | Y | control | hypoxic |\n",
       "| 2018--WBV-WBO-W23-CV | WBV-WBO-W23 | WBV | WBO | W23 | normoxic | ambient | V | normoxic | ambient | O | control | control |\n",
       "| 2018--WBV-WBR-W12-CV | WBV-WBR-W12 | WBV | WBR | W12 | normoxic | ambient | V | normoxic | ambient | R | control | control |\n",
       "| 2018--WBY-BBV-W65-CV | WBY-BBV-W65 | WBY | BBV | W65 | normoxic | ambient | Y | hypoxic  | ambient | V | control | hypoxic |\n",
       "| 2018--WBY-BBY-W30-CV | WBY-BBY-W30 | WBY | BBY | W30 | normoxic | ambient | Y | hypoxic  | ambient | Y | control | hypoxic |\n",
       "| 2018--WPB-BPG-G45-CV | WPB-BPG-G45 | WPB | BPG | G45 | normoxic | warm    | B | hypoxic  | warm    | G | warm    | both    |\n",
       "| 2018--WPO-BPO-G16-CV | WPO-BPO-G16 | WPO | BPO | G16 | normoxic | warm    | O | hypoxic  | warm    | O | warm    | both    |\n",
       "| 2018--WPO-BPY-G28-CV | WPO-BPY-G28 | WPO | BPY | G28 | normoxic | warm    | O | hypoxic  | warm    | Y | warm    | both    |\n",
       "| 2018--WPR-BPY-G25-CV | WPR-BPY-G25 | WPR | BPY | G25 | normoxic | warm    | R | hypoxic  | warm    | Y | warm    | both    |\n",
       "| 2018--WPV-BPR-G11-CV | WPV-BPR-G11 | WPV | BPR | G11 | normoxic | warm    | V | hypoxic  | warm    | R | warm    | both    |\n",
       "\n"
      ],
      "text/plain": [
       "   sample_ID            unique_ID   T1_code T2_code ID_code T1_oxygen T1_temp\n",
       "1  2018--WBB-WBV-W69-CV WBB-WBV-W69 WBB     WBV     W69     normoxic  ambient\n",
       "2  2018--WBG-BBB-W56-CV WBG-BBB-W56 WBG     BBB     W56     normoxic  ambient\n",
       "3  2018--WBG-WBG-W44-CV WBG-WBG-W44 WBG     WBG     W44     normoxic  ambient\n",
       "4  2018--WBO-BBR-W03-CV WBO-BBR-W03 WBO     BBR     W03     normoxic  ambient\n",
       "5  2018--WBO-WBV-W64-CV WBO-WBV-W64 WBO     WBV     W64     normoxic  ambient\n",
       "6  2018--WBR-BBY-W25-CV WBR-BBY-W25 WBR     BBY     W25     normoxic  ambient\n",
       "7  2018--WBV-WBO-W23-CV WBV-WBO-W23 WBV     WBO     W23     normoxic  ambient\n",
       "8  2018--WBV-WBR-W12-CV WBV-WBR-W12 WBV     WBR     W12     normoxic  ambient\n",
       "9  2018--WBY-BBV-W65-CV WBY-BBV-W65 WBY     BBV     W65     normoxic  ambient\n",
       "10 2018--WBY-BBY-W30-CV WBY-BBY-W30 WBY     BBY     W30     normoxic  ambient\n",
       "11 2018--WPB-BPG-G45-CV WPB-BPG-G45 WPB     BPG     G45     normoxic  warm   \n",
       "12 2018--WPO-BPO-G16-CV WPO-BPO-G16 WPO     BPO     G16     normoxic  warm   \n",
       "13 2018--WPO-BPY-G28-CV WPO-BPY-G28 WPO     BPY     G28     normoxic  warm   \n",
       "14 2018--WPR-BPY-G25-CV WPR-BPY-G25 WPR     BPY     G25     normoxic  warm   \n",
       "15 2018--WPV-BPR-G11-CV WPV-BPR-G11 WPV     BPR     G11     normoxic  warm   \n",
       "   Tank1 T2_oxygen T2_temp Tank2 Phase1  Phase2 \n",
       "1  B     normoxic  ambient V     control control\n",
       "2  G     hypoxic   ambient B     control hypoxic\n",
       "3  G     normoxic  ambient G     control control\n",
       "4  O     hypoxic   ambient R     control hypoxic\n",
       "5  O     normoxic  ambient V     control control\n",
       "6  R     hypoxic   ambient Y     control hypoxic\n",
       "7  V     normoxic  ambient O     control control\n",
       "8  V     normoxic  ambient R     control control\n",
       "9  Y     hypoxic   ambient V     control hypoxic\n",
       "10 Y     hypoxic   ambient Y     control hypoxic\n",
       "11 B     hypoxic   warm    G     warm    both   \n",
       "12 O     hypoxic   warm    O     warm    both   \n",
       "13 O     hypoxic   warm    Y     warm    both   \n",
       "14 R     hypoxic   warm    Y     warm    both   \n",
       "15 V     hypoxic   warm    R     warm    both   "
      ]
     },
     "metadata": {},
     "output_type": "display_data"
    }
   ],
   "source": [
    "p1_wc_meta"
   ]
  },
  {
   "cell_type": "code",
   "execution_count": 67,
   "id": "908287a5-737d-4c46-a570-c86130dc7937",
   "metadata": {},
   "outputs": [
    {
     "data": {
      "text/html": [
       "<style>\n",
       ".list-inline {list-style: none; margin:0; padding: 0}\n",
       ".list-inline>li {display: inline-block}\n",
       ".list-inline>li:not(:last-child)::after {content: \"\\00b7\"; padding: 0 .5ex}\n",
       "</style>\n",
       "<ol class=list-inline><li>5776</li><li>15</li></ol>\n"
      ],
      "text/latex": [
       "\\begin{enumerate*}\n",
       "\\item 5776\n",
       "\\item 15\n",
       "\\end{enumerate*}\n"
      ],
      "text/markdown": [
       "1. 5776\n",
       "2. 15\n",
       "\n",
       "\n"
      ],
      "text/plain": [
       "[1] 5776   15"
      ]
     },
     "metadata": {},
     "output_type": "display_data"
    },
    {
     "data": {
      "text/html": [
       "<table class=\"dataframe\">\n",
       "<caption>A data.frame: 20 × 15</caption>\n",
       "<thead>\n",
       "\t<tr><th></th><th scope=col>WBB-WBV-W69</th><th scope=col>WBG-BBB-W56</th><th scope=col>WBG-WBG-W44</th><th scope=col>WBO-BBR-W03</th><th scope=col>WBO-WBV-W64</th><th scope=col>WBR-BBY-W25</th><th scope=col>WBV-WBO-W23</th><th scope=col>WBV-WBR-W12</th><th scope=col>WBY-BBV-W65</th><th scope=col>WBY-BBY-W30</th><th scope=col>WPB-BPG-G45</th><th scope=col>WPO-BPO-G16</th><th scope=col>WPO-BPY-G28</th><th scope=col>WPR-BPY-G25</th><th scope=col>WPV-BPR-G11</th></tr>\n",
       "\t<tr><th></th><th scope=col>&lt;int&gt;</th><th scope=col>&lt;int&gt;</th><th scope=col>&lt;int&gt;</th><th scope=col>&lt;int&gt;</th><th scope=col>&lt;int&gt;</th><th scope=col>&lt;int&gt;</th><th scope=col>&lt;int&gt;</th><th scope=col>&lt;int&gt;</th><th scope=col>&lt;int&gt;</th><th scope=col>&lt;int&gt;</th><th scope=col>&lt;int&gt;</th><th scope=col>&lt;int&gt;</th><th scope=col>&lt;int&gt;</th><th scope=col>&lt;int&gt;</th><th scope=col>&lt;int&gt;</th></tr>\n",
       "</thead>\n",
       "<tbody>\n",
       "\t<tr><th scope=row>LOC111120752</th><td>  3</td><td>  1</td><td> 0</td><td> 0</td><td> 1</td><td> 0</td><td> 0</td><td> 0</td><td> 0</td><td> 1</td><td> 0</td><td> 0</td><td>  1</td><td> 1</td><td> 0</td></tr>\n",
       "\t<tr><th scope=row>LOC111109452</th><td>  0</td><td>  1</td><td> 0</td><td> 0</td><td> 7</td><td> 0</td><td> 1</td><td> 0</td><td> 1</td><td> 2</td><td>15</td><td> 0</td><td>  0</td><td> 3</td><td> 0</td></tr>\n",
       "\t<tr><th scope=row>LOC111102393</th><td> 36</td><td> 53</td><td>12</td><td> 1</td><td>56</td><td>20</td><td> 9</td><td>10</td><td>24</td><td>17</td><td>36</td><td>14</td><td>  3</td><td>26</td><td>41</td></tr>\n",
       "\t<tr><th scope=row>LOC111117743</th><td>521</td><td>  1</td><td> 1</td><td>22</td><td> 0</td><td> 0</td><td> 0</td><td> 0</td><td> 4</td><td> 1</td><td> 0</td><td>39</td><td>  0</td><td> 0</td><td> 0</td></tr>\n",
       "\t<tr><th scope=row>LOC111109809</th><td>  3</td><td>  5</td><td> 2</td><td> 0</td><td> 3</td><td> 1</td><td> 3</td><td> 1</td><td> 2</td><td> 4</td><td> 1</td><td> 4</td><td>  1</td><td> 0</td><td> 2</td></tr>\n",
       "\t<tr><th scope=row>LOC111135172</th><td>  1</td><td>  1</td><td>11</td><td> 0</td><td> 0</td><td> 0</td><td> 0</td><td> 0</td><td> 0</td><td> 0</td><td> 0</td><td> 0</td><td>  0</td><td> 1</td><td> 0</td></tr>\n",
       "\t<tr><th scope=row>LOC111121058</th><td>231</td><td>121</td><td>15</td><td>15</td><td>86</td><td>35</td><td>34</td><td>17</td><td>63</td><td>49</td><td>58</td><td>32</td><td>188</td><td>77</td><td> 6</td></tr>\n",
       "\t<tr><th scope=row>LOC111138070</th><td>  7</td><td>  0</td><td> 0</td><td> 1</td><td> 0</td><td> 0</td><td> 0</td><td> 6</td><td>17</td><td> 0</td><td> 4</td><td> 3</td><td>  0</td><td> 1</td><td> 1</td></tr>\n",
       "\t<tr><th scope=row>LOC111108878</th><td>  0</td><td>  0</td><td> 0</td><td> 0</td><td> 0</td><td> 0</td><td> 0</td><td> 0</td><td>10</td><td> 1</td><td> 0</td><td> 0</td><td>  0</td><td> 0</td><td> 0</td></tr>\n",
       "\t<tr><th scope=row>LOC111103224</th><td>  0</td><td>  0</td><td> 0</td><td> 1</td><td> 4</td><td> 0</td><td> 2</td><td> 0</td><td> 0</td><td> 1</td><td> 1</td><td> 0</td><td>  1</td><td> 0</td><td> 0</td></tr>\n",
       "\t<tr><th scope=row>LOC111131060</th><td>  0</td><td>  0</td><td> 0</td><td> 0</td><td> 1</td><td> 0</td><td> 0</td><td> 0</td><td> 0</td><td> 0</td><td> 1</td><td> 0</td><td>  0</td><td> 0</td><td> 0</td></tr>\n",
       "\t<tr><th scope=row>LOC111131074</th><td>  1</td><td>  0</td><td> 0</td><td> 0</td><td> 1</td><td> 4</td><td> 0</td><td> 0</td><td> 0</td><td> 0</td><td> 0</td><td> 0</td><td>  1</td><td> 0</td><td> 0</td></tr>\n",
       "\t<tr><th scope=row>LOC111131094</th><td>  0</td><td>  0</td><td> 0</td><td> 0</td><td> 0</td><td> 0</td><td> 0</td><td> 0</td><td> 0</td><td> 0</td><td> 0</td><td> 0</td><td>  1</td><td> 0</td><td> 0</td></tr>\n",
       "\t<tr><th scope=row>LOC111099747</th><td>  3</td><td>  4</td><td> 0</td><td> 0</td><td> 2</td><td> 3</td><td> 2</td><td> 1</td><td> 1</td><td> 6</td><td> 0</td><td> 0</td><td>  0</td><td> 1</td><td> 0</td></tr>\n",
       "\t<tr><th scope=row>LOC111129066</th><td>  0</td><td>  0</td><td> 0</td><td> 0</td><td> 0</td><td> 0</td><td> 0</td><td> 0</td><td> 0</td><td> 0</td><td> 0</td><td> 1</td><td>  0</td><td> 1</td><td> 0</td></tr>\n",
       "\t<tr><th scope=row>LOC111114430</th><td>  0</td><td>  2</td><td> 0</td><td> 0</td><td> 0</td><td> 0</td><td> 0</td><td> 0</td><td> 0</td><td> 0</td><td> 0</td><td> 0</td><td>  0</td><td> 0</td><td> 0</td></tr>\n",
       "\t<tr><th scope=row>LOC111129120</th><td>  0</td><td>  0</td><td> 0</td><td> 0</td><td> 0</td><td> 0</td><td> 0</td><td> 0</td><td> 0</td><td> 0</td><td> 0</td><td> 0</td><td>  0</td><td> 0</td><td> 0</td></tr>\n",
       "\t<tr><th scope=row>LOC111113958</th><td>  0</td><td>  0</td><td> 0</td><td> 0</td><td> 8</td><td> 0</td><td> 0</td><td> 0</td><td> 0</td><td> 1</td><td> 1</td><td> 0</td><td>  0</td><td> 0</td><td> 0</td></tr>\n",
       "\t<tr><th scope=row>LOC111103230</th><td> 12</td><td>  1</td><td> 0</td><td> 0</td><td> 2</td><td> 1</td><td> 0</td><td> 1</td><td> 2</td><td> 3</td><td> 0</td><td> 0</td><td>  0</td><td> 8</td><td> 0</td></tr>\n",
       "\t<tr><th scope=row>LOC111101640</th><td>  2</td><td>  1</td><td> 0</td><td> 0</td><td> 2</td><td> 0</td><td> 0</td><td> 0</td><td> 0</td><td> 2</td><td> 0</td><td> 1</td><td>  0</td><td> 0</td><td> 0</td></tr>\n",
       "</tbody>\n",
       "</table>\n"
      ],
      "text/latex": [
       "A data.frame: 20 × 15\n",
       "\\begin{tabular}{r|lllllllllllllll}\n",
       "  & WBB-WBV-W69 & WBG-BBB-W56 & WBG-WBG-W44 & WBO-BBR-W03 & WBO-WBV-W64 & WBR-BBY-W25 & WBV-WBO-W23 & WBV-WBR-W12 & WBY-BBV-W65 & WBY-BBY-W30 & WPB-BPG-G45 & WPO-BPO-G16 & WPO-BPY-G28 & WPR-BPY-G25 & WPV-BPR-G11\\\\\n",
       "  & <int> & <int> & <int> & <int> & <int> & <int> & <int> & <int> & <int> & <int> & <int> & <int> & <int> & <int> & <int>\\\\\n",
       "\\hline\n",
       "\tLOC111120752 &   3 &   1 &  0 &  0 &  1 &  0 &  0 &  0 &  0 &  1 &  0 &  0 &   1 &  1 &  0\\\\\n",
       "\tLOC111109452 &   0 &   1 &  0 &  0 &  7 &  0 &  1 &  0 &  1 &  2 & 15 &  0 &   0 &  3 &  0\\\\\n",
       "\tLOC111102393 &  36 &  53 & 12 &  1 & 56 & 20 &  9 & 10 & 24 & 17 & 36 & 14 &   3 & 26 & 41\\\\\n",
       "\tLOC111117743 & 521 &   1 &  1 & 22 &  0 &  0 &  0 &  0 &  4 &  1 &  0 & 39 &   0 &  0 &  0\\\\\n",
       "\tLOC111109809 &   3 &   5 &  2 &  0 &  3 &  1 &  3 &  1 &  2 &  4 &  1 &  4 &   1 &  0 &  2\\\\\n",
       "\tLOC111135172 &   1 &   1 & 11 &  0 &  0 &  0 &  0 &  0 &  0 &  0 &  0 &  0 &   0 &  1 &  0\\\\\n",
       "\tLOC111121058 & 231 & 121 & 15 & 15 & 86 & 35 & 34 & 17 & 63 & 49 & 58 & 32 & 188 & 77 &  6\\\\\n",
       "\tLOC111138070 &   7 &   0 &  0 &  1 &  0 &  0 &  0 &  6 & 17 &  0 &  4 &  3 &   0 &  1 &  1\\\\\n",
       "\tLOC111108878 &   0 &   0 &  0 &  0 &  0 &  0 &  0 &  0 & 10 &  1 &  0 &  0 &   0 &  0 &  0\\\\\n",
       "\tLOC111103224 &   0 &   0 &  0 &  1 &  4 &  0 &  2 &  0 &  0 &  1 &  1 &  0 &   1 &  0 &  0\\\\\n",
       "\tLOC111131060 &   0 &   0 &  0 &  0 &  1 &  0 &  0 &  0 &  0 &  0 &  1 &  0 &   0 &  0 &  0\\\\\n",
       "\tLOC111131074 &   1 &   0 &  0 &  0 &  1 &  4 &  0 &  0 &  0 &  0 &  0 &  0 &   1 &  0 &  0\\\\\n",
       "\tLOC111131094 &   0 &   0 &  0 &  0 &  0 &  0 &  0 &  0 &  0 &  0 &  0 &  0 &   1 &  0 &  0\\\\\n",
       "\tLOC111099747 &   3 &   4 &  0 &  0 &  2 &  3 &  2 &  1 &  1 &  6 &  0 &  0 &   0 &  1 &  0\\\\\n",
       "\tLOC111129066 &   0 &   0 &  0 &  0 &  0 &  0 &  0 &  0 &  0 &  0 &  0 &  1 &   0 &  1 &  0\\\\\n",
       "\tLOC111114430 &   0 &   2 &  0 &  0 &  0 &  0 &  0 &  0 &  0 &  0 &  0 &  0 &   0 &  0 &  0\\\\\n",
       "\tLOC111129120 &   0 &   0 &  0 &  0 &  0 &  0 &  0 &  0 &  0 &  0 &  0 &  0 &   0 &  0 &  0\\\\\n",
       "\tLOC111113958 &   0 &   0 &  0 &  0 &  8 &  0 &  0 &  0 &  0 &  1 &  1 &  0 &   0 &  0 &  0\\\\\n",
       "\tLOC111103230 &  12 &   1 &  0 &  0 &  2 &  1 &  0 &  1 &  2 &  3 &  0 &  0 &   0 &  8 &  0\\\\\n",
       "\tLOC111101640 &   2 &   1 &  0 &  0 &  2 &  0 &  0 &  0 &  0 &  2 &  0 &  1 &   0 &  0 &  0\\\\\n",
       "\\end{tabular}\n"
      ],
      "text/markdown": [
       "\n",
       "A data.frame: 20 × 15\n",
       "\n",
       "| <!--/--> | WBB-WBV-W69 &lt;int&gt; | WBG-BBB-W56 &lt;int&gt; | WBG-WBG-W44 &lt;int&gt; | WBO-BBR-W03 &lt;int&gt; | WBO-WBV-W64 &lt;int&gt; | WBR-BBY-W25 &lt;int&gt; | WBV-WBO-W23 &lt;int&gt; | WBV-WBR-W12 &lt;int&gt; | WBY-BBV-W65 &lt;int&gt; | WBY-BBY-W30 &lt;int&gt; | WPB-BPG-G45 &lt;int&gt; | WPO-BPO-G16 &lt;int&gt; | WPO-BPY-G28 &lt;int&gt; | WPR-BPY-G25 &lt;int&gt; | WPV-BPR-G11 &lt;int&gt; |\n",
       "|---|---|---|---|---|---|---|---|---|---|---|---|---|---|---|---|\n",
       "| LOC111120752 |   3 |   1 |  0 |  0 |  1 |  0 |  0 |  0 |  0 |  1 |  0 |  0 |   1 |  1 |  0 |\n",
       "| LOC111109452 |   0 |   1 |  0 |  0 |  7 |  0 |  1 |  0 |  1 |  2 | 15 |  0 |   0 |  3 |  0 |\n",
       "| LOC111102393 |  36 |  53 | 12 |  1 | 56 | 20 |  9 | 10 | 24 | 17 | 36 | 14 |   3 | 26 | 41 |\n",
       "| LOC111117743 | 521 |   1 |  1 | 22 |  0 |  0 |  0 |  0 |  4 |  1 |  0 | 39 |   0 |  0 |  0 |\n",
       "| LOC111109809 |   3 |   5 |  2 |  0 |  3 |  1 |  3 |  1 |  2 |  4 |  1 |  4 |   1 |  0 |  2 |\n",
       "| LOC111135172 |   1 |   1 | 11 |  0 |  0 |  0 |  0 |  0 |  0 |  0 |  0 |  0 |   0 |  1 |  0 |\n",
       "| LOC111121058 | 231 | 121 | 15 | 15 | 86 | 35 | 34 | 17 | 63 | 49 | 58 | 32 | 188 | 77 |  6 |\n",
       "| LOC111138070 |   7 |   0 |  0 |  1 |  0 |  0 |  0 |  6 | 17 |  0 |  4 |  3 |   0 |  1 |  1 |\n",
       "| LOC111108878 |   0 |   0 |  0 |  0 |  0 |  0 |  0 |  0 | 10 |  1 |  0 |  0 |   0 |  0 |  0 |\n",
       "| LOC111103224 |   0 |   0 |  0 |  1 |  4 |  0 |  2 |  0 |  0 |  1 |  1 |  0 |   1 |  0 |  0 |\n",
       "| LOC111131060 |   0 |   0 |  0 |  0 |  1 |  0 |  0 |  0 |  0 |  0 |  1 |  0 |   0 |  0 |  0 |\n",
       "| LOC111131074 |   1 |   0 |  0 |  0 |  1 |  4 |  0 |  0 |  0 |  0 |  0 |  0 |   1 |  0 |  0 |\n",
       "| LOC111131094 |   0 |   0 |  0 |  0 |  0 |  0 |  0 |  0 |  0 |  0 |  0 |  0 |   1 |  0 |  0 |\n",
       "| LOC111099747 |   3 |   4 |  0 |  0 |  2 |  3 |  2 |  1 |  1 |  6 |  0 |  0 |   0 |  1 |  0 |\n",
       "| LOC111129066 |   0 |   0 |  0 |  0 |  0 |  0 |  0 |  0 |  0 |  0 |  0 |  1 |   0 |  1 |  0 |\n",
       "| LOC111114430 |   0 |   2 |  0 |  0 |  0 |  0 |  0 |  0 |  0 |  0 |  0 |  0 |   0 |  0 |  0 |\n",
       "| LOC111129120 |   0 |   0 |  0 |  0 |  0 |  0 |  0 |  0 |  0 |  0 |  0 |  0 |   0 |  0 |  0 |\n",
       "| LOC111113958 |   0 |   0 |  0 |  0 |  8 |  0 |  0 |  0 |  0 |  1 |  1 |  0 |   0 |  0 |  0 |\n",
       "| LOC111103230 |  12 |   1 |  0 |  0 |  2 |  1 |  0 |  1 |  2 |  3 |  0 |  0 |   0 |  8 |  0 |\n",
       "| LOC111101640 |   2 |   1 |  0 |  0 |  2 |  0 |  0 |  0 |  0 |  2 |  0 |  1 |   0 |  0 |  0 |\n",
       "\n"
      ],
      "text/plain": [
       "             WBB-WBV-W69 WBG-BBB-W56 WBG-WBG-W44 WBO-BBR-W03 WBO-WBV-W64\n",
       "LOC111120752   3           1          0           0           1         \n",
       "LOC111109452   0           1          0           0           7         \n",
       "LOC111102393  36          53         12           1          56         \n",
       "LOC111117743 521           1          1          22           0         \n",
       "LOC111109809   3           5          2           0           3         \n",
       "LOC111135172   1           1         11           0           0         \n",
       "LOC111121058 231         121         15          15          86         \n",
       "LOC111138070   7           0          0           1           0         \n",
       "LOC111108878   0           0          0           0           0         \n",
       "LOC111103224   0           0          0           1           4         \n",
       "LOC111131060   0           0          0           0           1         \n",
       "LOC111131074   1           0          0           0           1         \n",
       "LOC111131094   0           0          0           0           0         \n",
       "LOC111099747   3           4          0           0           2         \n",
       "LOC111129066   0           0          0           0           0         \n",
       "LOC111114430   0           2          0           0           0         \n",
       "LOC111129120   0           0          0           0           0         \n",
       "LOC111113958   0           0          0           0           8         \n",
       "LOC111103230  12           1          0           0           2         \n",
       "LOC111101640   2           1          0           0           2         \n",
       "             WBR-BBY-W25 WBV-WBO-W23 WBV-WBR-W12 WBY-BBV-W65 WBY-BBY-W30\n",
       "LOC111120752  0           0           0           0           1         \n",
       "LOC111109452  0           1           0           1           2         \n",
       "LOC111102393 20           9          10          24          17         \n",
       "LOC111117743  0           0           0           4           1         \n",
       "LOC111109809  1           3           1           2           4         \n",
       "LOC111135172  0           0           0           0           0         \n",
       "LOC111121058 35          34          17          63          49         \n",
       "LOC111138070  0           0           6          17           0         \n",
       "LOC111108878  0           0           0          10           1         \n",
       "LOC111103224  0           2           0           0           1         \n",
       "LOC111131060  0           0           0           0           0         \n",
       "LOC111131074  4           0           0           0           0         \n",
       "LOC111131094  0           0           0           0           0         \n",
       "LOC111099747  3           2           1           1           6         \n",
       "LOC111129066  0           0           0           0           0         \n",
       "LOC111114430  0           0           0           0           0         \n",
       "LOC111129120  0           0           0           0           0         \n",
       "LOC111113958  0           0           0           0           1         \n",
       "LOC111103230  1           0           1           2           3         \n",
       "LOC111101640  0           0           0           0           2         \n",
       "             WPB-BPG-G45 WPO-BPO-G16 WPO-BPY-G28 WPR-BPY-G25 WPV-BPR-G11\n",
       "LOC111120752  0           0            1          1           0         \n",
       "LOC111109452 15           0            0          3           0         \n",
       "LOC111102393 36          14            3         26          41         \n",
       "LOC111117743  0          39            0          0           0         \n",
       "LOC111109809  1           4            1          0           2         \n",
       "LOC111135172  0           0            0          1           0         \n",
       "LOC111121058 58          32          188         77           6         \n",
       "LOC111138070  4           3            0          1           1         \n",
       "LOC111108878  0           0            0          0           0         \n",
       "LOC111103224  1           0            1          0           0         \n",
       "LOC111131060  1           0            0          0           0         \n",
       "LOC111131074  0           0            1          0           0         \n",
       "LOC111131094  0           0            1          0           0         \n",
       "LOC111099747  0           0            0          1           0         \n",
       "LOC111129066  0           1            0          1           0         \n",
       "LOC111114430  0           0            0          0           0         \n",
       "LOC111129120  0           0            0          0           0         \n",
       "LOC111113958  1           0            0          0           0         \n",
       "LOC111103230  0           0            0          8           0         \n",
       "LOC111101640  0           1            0          0           0         "
      ]
     },
     "metadata": {},
     "output_type": "display_data"
    }
   ],
   "source": [
    "# only looking at samples with control or warm for phase 1 in the counts matrix\n",
    "filtered_df <- counts_na[,colnames(counts_na) %in% p1_wc_meta$unique_ID]\n",
    "dim(filtered_df) # still seeing 5,776 genes with NA for padj and info for 15 samples\n",
    "head(filtered_df,20)"
   ]
  },
  {
   "cell_type": "markdown",
   "id": "f2558977-b0da-4ec4-946d-de78b746fb74",
   "metadata": {},
   "source": [
    "all of the **W##** samples are **control** and all of the **G##** samples are **warm** for phase 1"
   ]
  },
  {
   "cell_type": "markdown",
   "id": "19b587ac-6055-4e3c-bea8-851779379711",
   "metadata": {},
   "source": [
    "looking at this df in excel to more easily look at why we might get NA for those genes"
   ]
  },
  {
   "cell_type": "code",
   "execution_count": 58,
   "id": "4ca69a55-70e8-4390-a475-d7a8e85d7970",
   "metadata": {},
   "outputs": [],
   "source": [
    "write.csv(filtered_df, '/project/pi_sarah_gignouxwolfsohn_uml_edu/julia/CE_MethylRAD_analysis_2018/analysis/featureCounts_analysis/na_p1_wc_countsmatrix.csv')"
   ]
  },
  {
   "cell_type": "markdown",
   "id": "1d2f4cc4-76d0-4dc2-8b47-e91f306df09e",
   "metadata": {},
   "source": [
    "# Unfiltered DESeq DF and Pathway\n",
    "still looking at significantly differentially methylated genes for phase 1 warm vs. control, but now genes get assigned NA for adjusted p-values only when the gene has low counts (so this now includes outliers, instead of assigning outliers NA), therefore, different genes will be kept in the analysis for enriched pathways"
   ]
  },
  {
   "cell_type": "code",
   "execution_count": 1,
   "id": "4d9fc6a8-abe9-47af-82ab-177ee7d59e76",
   "metadata": {},
   "outputs": [
    {
     "data": {
      "text/html": [
       "<style>\n",
       ".list-inline {list-style: none; margin:0; padding: 0}\n",
       ".list-inline>li {display: inline-block}\n",
       ".list-inline>li:not(:last-child)::after {content: \"\\00b7\"; padding: 0 .5ex}\n",
       "</style>\n",
       "<ol class=list-inline><li>121</li><li>11</li></ol>\n"
      ],
      "text/latex": [
       "\\begin{enumerate*}\n",
       "\\item 121\n",
       "\\item 11\n",
       "\\end{enumerate*}\n"
      ],
      "text/markdown": [
       "1. 121\n",
       "2. 11\n",
       "\n",
       "\n"
      ],
      "text/plain": [
       "[1] 121  11"
      ]
     },
     "metadata": {},
     "output_type": "display_data"
    },
    {
     "data": {
      "text/html": [
       "<table class=\"dataframe\">\n",
       "<caption>A data.frame: 6 × 11</caption>\n",
       "<thead>\n",
       "\t<tr><th></th><th scope=col>ID</th><th scope=col>Description</th><th scope=col>setSize</th><th scope=col>enrichmentScore</th><th scope=col>NES</th><th scope=col>pvalue</th><th scope=col>p.adjust</th><th scope=col>qvalue</th><th scope=col>rank</th><th scope=col>leading_edge</th><th scope=col>core_enrichment</th></tr>\n",
       "\t<tr><th></th><th scope=col>&lt;chr&gt;</th><th scope=col>&lt;chr&gt;</th><th scope=col>&lt;int&gt;</th><th scope=col>&lt;dbl&gt;</th><th scope=col>&lt;dbl&gt;</th><th scope=col>&lt;dbl&gt;</th><th scope=col>&lt;dbl&gt;</th><th scope=col>&lt;dbl&gt;</th><th scope=col>&lt;int&gt;</th><th scope=col>&lt;chr&gt;</th><th scope=col>&lt;chr&gt;</th></tr>\n",
       "</thead>\n",
       "<tbody>\n",
       "\t<tr><th scope=row>1</th><td>cvn00053</td><td>Ascorbate and aldarate metabolism</td><td>12</td><td>0.7513575</td><td>1.660482</td><td>0.009027135</td><td>0.2014094</td><td>0.176967</td><td>1456</td><td>tags=50%, list=11%, signal=45%</td><td>111124535/111103451/111124599/111127562/111112920/111115614                                                                      </td></tr>\n",
       "\t<tr><th scope=row>2</th><td>cvn00910</td><td>Nitrogen metabolism              </td><td>10</td><td>0.7752533</td><td>1.652303</td><td>0.006203042</td><td>0.2014094</td><td>0.176967</td><td>1396</td><td>tags=50%, list=10%, signal=45%</td><td>111134700/111100398/111100399/111126492/111135592                                                                                </td></tr>\n",
       "\t<tr><th scope=row>3</th><td>cvn00052</td><td>Galactose metabolism             </td><td>21</td><td>0.6484600</td><td>1.626358</td><td>0.013316325</td><td>0.2014094</td><td>0.176967</td><td>2261</td><td>tags=38%, list=17%, signal=32%</td><td>111101197/111118471/111101820/111113388/111109442/111099882/111120703/111118006                                                  </td></tr>\n",
       "\t<tr><th scope=row>4</th><td>cvn00592</td><td>alpha-Linolenic acid metabolism  </td><td>11</td><td>0.7376869</td><td>1.605929</td><td>0.012687250</td><td>0.2014094</td><td>0.176967</td><td>1603</td><td>tags=45%, list=12%, signal=40%</td><td>111113990/111115744/111107112/111115745/111124908                                                                                </td></tr>\n",
       "\t<tr><th scope=row>5</th><td>cvn00511</td><td>Other glycan degradation         </td><td>37</td><td>0.5915432</td><td>1.589607</td><td>0.006132531</td><td>0.2014094</td><td>0.176967</td><td>2224</td><td>tags=30%, list=16%, signal=25%</td><td>111106921/111106925/111106928/111119851/111119435/111120040/111113388/111119434/111106926/111119431/111106930                    </td></tr>\n",
       "\t<tr><th scope=row>6</th><td>cvn00380</td><td>Tryptophan metabolism            </td><td>31</td><td>0.5834860</td><td>1.534869</td><td>0.012337888</td><td>0.2014094</td><td>0.176967</td><td>2378</td><td>tags=42%, list=18%, signal=35%</td><td>111127901/111100724/111103451/111134248/111133558/111112920/111115614/111121380/111125148/111109254/111130627/111108303/111103498</td></tr>\n",
       "</tbody>\n",
       "</table>\n"
      ],
      "text/latex": [
       "A data.frame: 6 × 11\n",
       "\\begin{tabular}{r|lllllllllll}\n",
       "  & ID & Description & setSize & enrichmentScore & NES & pvalue & p.adjust & qvalue & rank & leading\\_edge & core\\_enrichment\\\\\n",
       "  & <chr> & <chr> & <int> & <dbl> & <dbl> & <dbl> & <dbl> & <dbl> & <int> & <chr> & <chr>\\\\\n",
       "\\hline\n",
       "\t1 & cvn00053 & Ascorbate and aldarate metabolism & 12 & 0.7513575 & 1.660482 & 0.009027135 & 0.2014094 & 0.176967 & 1456 & tags=50\\%, list=11\\%, signal=45\\% & 111124535/111103451/111124599/111127562/111112920/111115614                                                                      \\\\\n",
       "\t2 & cvn00910 & Nitrogen metabolism               & 10 & 0.7752533 & 1.652303 & 0.006203042 & 0.2014094 & 0.176967 & 1396 & tags=50\\%, list=10\\%, signal=45\\% & 111134700/111100398/111100399/111126492/111135592                                                                                \\\\\n",
       "\t3 & cvn00052 & Galactose metabolism              & 21 & 0.6484600 & 1.626358 & 0.013316325 & 0.2014094 & 0.176967 & 2261 & tags=38\\%, list=17\\%, signal=32\\% & 111101197/111118471/111101820/111113388/111109442/111099882/111120703/111118006                                                  \\\\\n",
       "\t4 & cvn00592 & alpha-Linolenic acid metabolism   & 11 & 0.7376869 & 1.605929 & 0.012687250 & 0.2014094 & 0.176967 & 1603 & tags=45\\%, list=12\\%, signal=40\\% & 111113990/111115744/111107112/111115745/111124908                                                                                \\\\\n",
       "\t5 & cvn00511 & Other glycan degradation          & 37 & 0.5915432 & 1.589607 & 0.006132531 & 0.2014094 & 0.176967 & 2224 & tags=30\\%, list=16\\%, signal=25\\% & 111106921/111106925/111106928/111119851/111119435/111120040/111113388/111119434/111106926/111119431/111106930                    \\\\\n",
       "\t6 & cvn00380 & Tryptophan metabolism             & 31 & 0.5834860 & 1.534869 & 0.012337888 & 0.2014094 & 0.176967 & 2378 & tags=42\\%, list=18\\%, signal=35\\% & 111127901/111100724/111103451/111134248/111133558/111112920/111115614/111121380/111125148/111109254/111130627/111108303/111103498\\\\\n",
       "\\end{tabular}\n"
      ],
      "text/markdown": [
       "\n",
       "A data.frame: 6 × 11\n",
       "\n",
       "| <!--/--> | ID &lt;chr&gt; | Description &lt;chr&gt; | setSize &lt;int&gt; | enrichmentScore &lt;dbl&gt; | NES &lt;dbl&gt; | pvalue &lt;dbl&gt; | p.adjust &lt;dbl&gt; | qvalue &lt;dbl&gt; | rank &lt;int&gt; | leading_edge &lt;chr&gt; | core_enrichment &lt;chr&gt; |\n",
       "|---|---|---|---|---|---|---|---|---|---|---|---|\n",
       "| 1 | cvn00053 | Ascorbate and aldarate metabolism | 12 | 0.7513575 | 1.660482 | 0.009027135 | 0.2014094 | 0.176967 | 1456 | tags=50%, list=11%, signal=45% | 111124535/111103451/111124599/111127562/111112920/111115614                                                                       |\n",
       "| 2 | cvn00910 | Nitrogen metabolism               | 10 | 0.7752533 | 1.652303 | 0.006203042 | 0.2014094 | 0.176967 | 1396 | tags=50%, list=10%, signal=45% | 111134700/111100398/111100399/111126492/111135592                                                                                 |\n",
       "| 3 | cvn00052 | Galactose metabolism              | 21 | 0.6484600 | 1.626358 | 0.013316325 | 0.2014094 | 0.176967 | 2261 | tags=38%, list=17%, signal=32% | 111101197/111118471/111101820/111113388/111109442/111099882/111120703/111118006                                                   |\n",
       "| 4 | cvn00592 | alpha-Linolenic acid metabolism   | 11 | 0.7376869 | 1.605929 | 0.012687250 | 0.2014094 | 0.176967 | 1603 | tags=45%, list=12%, signal=40% | 111113990/111115744/111107112/111115745/111124908                                                                                 |\n",
       "| 5 | cvn00511 | Other glycan degradation          | 37 | 0.5915432 | 1.589607 | 0.006132531 | 0.2014094 | 0.176967 | 2224 | tags=30%, list=16%, signal=25% | 111106921/111106925/111106928/111119851/111119435/111120040/111113388/111119434/111106926/111119431/111106930                     |\n",
       "| 6 | cvn00380 | Tryptophan metabolism             | 31 | 0.5834860 | 1.534869 | 0.012337888 | 0.2014094 | 0.176967 | 2378 | tags=42%, list=18%, signal=35% | 111127901/111100724/111103451/111134248/111133558/111112920/111115614/111121380/111125148/111109254/111130627/111108303/111103498 |\n",
       "\n"
      ],
      "text/plain": [
       "  ID       Description                       setSize enrichmentScore NES     \n",
       "1 cvn00053 Ascorbate and aldarate metabolism 12      0.7513575       1.660482\n",
       "2 cvn00910 Nitrogen metabolism               10      0.7752533       1.652303\n",
       "3 cvn00052 Galactose metabolism              21      0.6484600       1.626358\n",
       "4 cvn00592 alpha-Linolenic acid metabolism   11      0.7376869       1.605929\n",
       "5 cvn00511 Other glycan degradation          37      0.5915432       1.589607\n",
       "6 cvn00380 Tryptophan metabolism             31      0.5834860       1.534869\n",
       "  pvalue      p.adjust  qvalue   rank leading_edge                  \n",
       "1 0.009027135 0.2014094 0.176967 1456 tags=50%, list=11%, signal=45%\n",
       "2 0.006203042 0.2014094 0.176967 1396 tags=50%, list=10%, signal=45%\n",
       "3 0.013316325 0.2014094 0.176967 2261 tags=38%, list=17%, signal=32%\n",
       "4 0.012687250 0.2014094 0.176967 1603 tags=45%, list=12%, signal=40%\n",
       "5 0.006132531 0.2014094 0.176967 2224 tags=30%, list=16%, signal=25%\n",
       "6 0.012337888 0.2014094 0.176967 2378 tags=42%, list=18%, signal=35%\n",
       "  core_enrichment                                                                                                                  \n",
       "1 111124535/111103451/111124599/111127562/111112920/111115614                                                                      \n",
       "2 111134700/111100398/111100399/111126492/111135592                                                                                \n",
       "3 111101197/111118471/111101820/111113388/111109442/111099882/111120703/111118006                                                  \n",
       "4 111113990/111115744/111107112/111115745/111124908                                                                                \n",
       "5 111106921/111106925/111106928/111119851/111119435/111120040/111113388/111119434/111106926/111119431/111106930                    \n",
       "6 111127901/111100724/111103451/111134248/111133558/111112920/111115614/111121380/111125148/111109254/111130627/111108303/111103498"
      ]
     },
     "metadata": {},
     "output_type": "display_data"
    }
   ],
   "source": [
    "# load in csv file\n",
    "pathway <- read.csv('/project/pi_sarah_gignouxwolfsohn_uml_edu/julia/CE_MethylRAD_analysis_2018/analysis/lfc_kegg_pathways/unfiltered_pathways_p1wc.csv')\n",
    "\n",
    "# clean headers and columns\n",
    "pathway <- pathway[,-1]\n",
    "\n",
    "# checking dimensions\n",
    "dim(pathway) #119 pathways, 11 rows of info/meta data\n",
    "\n",
    "head(pathway)"
   ]
  },
  {
   "cell_type": "code",
   "execution_count": 5,
   "id": "08362e13-ad51-470c-8861-0696533f976d",
   "metadata": {},
   "outputs": [
    {
     "data": {
      "text/html": [
       "<style>\n",
       ".list-inline {list-style: none; margin:0; padding: 0}\n",
       ".list-inline>li {display: inline-block}\n",
       ".list-inline>li:not(:last-child)::after {content: \"\\00b7\"; padding: 0 .5ex}\n",
       "</style>\n",
       "<ol class=list-inline><li>189</li><li>3</li></ol>\n"
      ],
      "text/latex": [
       "\\begin{enumerate*}\n",
       "\\item 189\n",
       "\\item 3\n",
       "\\end{enumerate*}\n"
      ],
      "text/markdown": [
       "1. 189\n",
       "2. 3\n",
       "\n",
       "\n"
      ],
      "text/plain": [
       "[1] 189   3"
      ]
     },
     "metadata": {},
     "output_type": "display_data"
    },
    {
     "data": {
      "text/html": [
       "<table class=\"dataframe\">\n",
       "<caption>A data.frame: 6 × 3</caption>\n",
       "<thead>\n",
       "\t<tr><th></th><th scope=col>gene</th><th scope=col>lfc</th><th scope=col>padj</th></tr>\n",
       "\t<tr><th></th><th scope=col>&lt;chr&gt;</th><th scope=col>&lt;dbl&gt;</th><th scope=col>&lt;dbl&gt;</th></tr>\n",
       "</thead>\n",
       "<tbody>\n",
       "\t<tr><th scope=row>1</th><td>111128103</td><td>1.644796</td><td>3.065827e-02</td></tr>\n",
       "\t<tr><th scope=row>2</th><td>111137770</td><td>2.657125</td><td>1.784408e-02</td></tr>\n",
       "\t<tr><th scope=row>3</th><td>111111295</td><td>2.361073</td><td>1.369104e-02</td></tr>\n",
       "\t<tr><th scope=row>4</th><td>111125391</td><td>2.206213</td><td>2.068009e-02</td></tr>\n",
       "\t<tr><th scope=row>5</th><td>111110197</td><td>1.864207</td><td>2.086317e-02</td></tr>\n",
       "\t<tr><th scope=row>6</th><td>111115675</td><td>2.782320</td><td>7.896812e-05</td></tr>\n",
       "</tbody>\n",
       "</table>\n"
      ],
      "text/latex": [
       "A data.frame: 6 × 3\n",
       "\\begin{tabular}{r|lll}\n",
       "  & gene & lfc & padj\\\\\n",
       "  & <chr> & <dbl> & <dbl>\\\\\n",
       "\\hline\n",
       "\t1 & 111128103 & 1.644796 & 3.065827e-02\\\\\n",
       "\t2 & 111137770 & 2.657125 & 1.784408e-02\\\\\n",
       "\t3 & 111111295 & 2.361073 & 1.369104e-02\\\\\n",
       "\t4 & 111125391 & 2.206213 & 2.068009e-02\\\\\n",
       "\t5 & 111110197 & 1.864207 & 2.086317e-02\\\\\n",
       "\t6 & 111115675 & 2.782320 & 7.896812e-05\\\\\n",
       "\\end{tabular}\n"
      ],
      "text/markdown": [
       "\n",
       "A data.frame: 6 × 3\n",
       "\n",
       "| <!--/--> | gene &lt;chr&gt; | lfc &lt;dbl&gt; | padj &lt;dbl&gt; |\n",
       "|---|---|---|---|\n",
       "| 1 | 111128103 | 1.644796 | 3.065827e-02 |\n",
       "| 2 | 111137770 | 2.657125 | 1.784408e-02 |\n",
       "| 3 | 111111295 | 2.361073 | 1.369104e-02 |\n",
       "| 4 | 111125391 | 2.206213 | 2.068009e-02 |\n",
       "| 5 | 111110197 | 1.864207 | 2.086317e-02 |\n",
       "| 6 | 111115675 | 2.782320 | 7.896812e-05 |\n",
       "\n"
      ],
      "text/plain": [
       "  gene      lfc      padj        \n",
       "1 111128103 1.644796 3.065827e-02\n",
       "2 111137770 2.657125 1.784408e-02\n",
       "3 111111295 2.361073 1.369104e-02\n",
       "4 111125391 2.206213 2.068009e-02\n",
       "5 111110197 1.864207 2.086317e-02\n",
       "6 111115675 2.782320 7.896812e-05"
      ]
     },
     "metadata": {},
     "output_type": "display_data"
    }
   ],
   "source": [
    "# load data frame\n",
    "genes <- read.csv('/project/pi_sarah_gignouxwolfsohn_uml_edu/julia/CE_MethylRAD_analysis_2018/analysis/unfiltered_lfc_p1wc.csv')\n",
    "\n",
    "# KEGG uses entrez IDs, which are my ensembl IDs without the 'LOC' in front of them, so need to convert those\n",
    "genes$X <- substr(genes$X, start = 4, stop = nchar(genes$X))\n",
    "\n",
    "# only grabbing the columns I care about\n",
    "genes <- select(genes, X, log2FoldChange, padj)\n",
    "\n",
    "# renaming columns to make more sense\n",
    "colnames(genes) <- c('gene', 'lfc', 'padj')\n",
    "\n",
    "# only selecting genes that have padj < 0.05\n",
    "genes <- filter(genes, genes$padj < 0.05)\n",
    "\n",
    "# checking dimensions\n",
    "dim(genes) # 189 sig DMGs\n",
    "\n",
    "head(genes)"
   ]
  },
  {
   "cell_type": "markdown",
   "id": "5ffba236-0120-4f0c-b6bc-c7dbe207d395",
   "metadata": {},
   "source": [
    "#### III. Are the signficant genes in the core enrichment of the pathways?\n",
    "Taking our list of siginificant genes, and going line by line in our pathways to see if our sig. gene matches any of the core enrichment genes"
   ]
  },
  {
   "cell_type": "code",
   "execution_count": 6,
   "id": "6fa886b4-4f71-4568-aabd-285992091f7f",
   "metadata": {},
   "outputs": [
    {
     "data": {
      "text/html": [
       "<table class=\"dataframe\">\n",
       "<caption>A data.frame: 6 × 12</caption>\n",
       "<thead>\n",
       "\t<tr><th></th><th scope=col>ID</th><th scope=col>Description</th><th scope=col>setSize</th><th scope=col>enrichmentScore</th><th scope=col>NES</th><th scope=col>pvalue</th><th scope=col>p.adjust</th><th scope=col>qvalue</th><th scope=col>rank</th><th scope=col>leading_edge</th><th scope=col>core_enrichment</th><th scope=col>MatchesCount</th></tr>\n",
       "\t<tr><th></th><th scope=col>&lt;chr&gt;</th><th scope=col>&lt;chr&gt;</th><th scope=col>&lt;int&gt;</th><th scope=col>&lt;dbl&gt;</th><th scope=col>&lt;dbl&gt;</th><th scope=col>&lt;dbl&gt;</th><th scope=col>&lt;dbl&gt;</th><th scope=col>&lt;dbl&gt;</th><th scope=col>&lt;int&gt;</th><th scope=col>&lt;chr&gt;</th><th scope=col>&lt;chr&gt;</th><th scope=col>&lt;int&gt;</th></tr>\n",
       "</thead>\n",
       "<tbody>\n",
       "\t<tr><th scope=row>8</th><td>cvn04814</td><td>Motor proteins                       </td><td>111</td><td>0.4819493</td><td>1.433587</td><td>0.012391263</td><td>0.2014094</td><td>0.1769670</td><td>1180</td><td>tags=18%, list=9%, signal=17% </td><td>111136151/111134768/111107338/111102596/111112439/111103394/111115784/111129526/111107250/111127380/111134843/111137068/111131563/111119946/111134888/111120500/111129376/111130940/111125250/111131555                                                                                                                                                                                                                                      </td><td>7</td></tr>\n",
       "\t<tr><th scope=row>14</th><td>cvn04144</td><td>Endocytosis                          </td><td>132</td><td>0.4453853</td><td>1.335542</td><td>0.028225806</td><td>0.2593783</td><td>0.2279009</td><td>3187</td><td>tags=33%, list=24%, signal=25%</td><td>111120187/111125099/111112319/111119513/111112439/111119512/111136896/111104852/111102907/111107174/111136866/111125956/111134954/111112863/111116971/111112700/111135084/111133388/111134171/111121253/111115795/111127289/111129312/111134242/111121335/111121437/111129503/111135594/111106223/111123210/111125223/111105462/111104835/111104585/111104028/111133563/111105923/111119177/111101822/111104196/111137900/111112119/111123772</td><td>5</td></tr>\n",
       "\t<tr><th scope=row>45</th><td>cvn03040</td><td>Spliceosome                          </td><td> 92</td><td>0.3987387</td><td>1.166808</td><td>0.203893443</td><td>0.5574901</td><td>0.4898347</td><td>1558</td><td>tags=16%, list=12%, signal=15%</td><td>111112733/111137770/111119513/111119512/111129112/111133954/111121854/111121021/111118318/111119442/111134531/111114893/111136440/111135640/111136164                                                                                                                                                                                                                                                                                        </td><td>4</td></tr>\n",
       "\t<tr><th scope=row>2</th><td>cvn00910</td><td>Nitrogen metabolism                  </td><td> 10</td><td>0.7752533</td><td>1.652303</td><td>0.006203042</td><td>0.2014094</td><td>0.1769670</td><td>1396</td><td>tags=50%, list=10%, signal=45%</td><td>111134700/111100398/111100399/111126492/111135592                                                                                                                                                                                                                                                                                                                                                                                            </td><td>3</td></tr>\n",
       "\t<tr><th scope=row>26</th><td>cvn00562</td><td>Inositol phosphate metabolism        </td><td> 47</td><td>0.4705413</td><td>1.303162</td><td>0.095548317</td><td>0.4446672</td><td>0.3907036</td><td>2592</td><td>tags=28%, list=19%, signal=22%</td><td>111101050/111127799/111125442/111125100/111127562/111126338/111100148/111135914/111134544/111120505/111135557/111138290/111130239                                                                                                                                                                                                                                                                                                            </td><td>3</td></tr>\n",
       "\t<tr><th scope=row>27</th><td>cvn04070</td><td>Phosphatidylinositol signaling system</td><td> 55</td><td>0.4596492</td><td>1.292000</td><td>0.103266596</td><td>0.4627873</td><td>0.4066248</td><td>2592</td><td>tags=27%, list=19%, signal=22%</td><td>111101050/111127799/111125442/111100277/111125100/111126338/111100148/111135914/111134544/111120505/111135557/111122823/111128823/111138290/111130239                                                                                                                                                                                                                                                                                        </td><td>3</td></tr>\n",
       "</tbody>\n",
       "</table>\n"
      ],
      "text/latex": [
       "A data.frame: 6 × 12\n",
       "\\begin{tabular}{r|llllllllllll}\n",
       "  & ID & Description & setSize & enrichmentScore & NES & pvalue & p.adjust & qvalue & rank & leading\\_edge & core\\_enrichment & MatchesCount\\\\\n",
       "  & <chr> & <chr> & <int> & <dbl> & <dbl> & <dbl> & <dbl> & <dbl> & <int> & <chr> & <chr> & <int>\\\\\n",
       "\\hline\n",
       "\t8 & cvn04814 & Motor proteins                        & 111 & 0.4819493 & 1.433587 & 0.012391263 & 0.2014094 & 0.1769670 & 1180 & tags=18\\%, list=9\\%, signal=17\\%  & 111136151/111134768/111107338/111102596/111112439/111103394/111115784/111129526/111107250/111127380/111134843/111137068/111131563/111119946/111134888/111120500/111129376/111130940/111125250/111131555                                                                                                                                                                                                                                       & 7\\\\\n",
       "\t14 & cvn04144 & Endocytosis                           & 132 & 0.4453853 & 1.335542 & 0.028225806 & 0.2593783 & 0.2279009 & 3187 & tags=33\\%, list=24\\%, signal=25\\% & 111120187/111125099/111112319/111119513/111112439/111119512/111136896/111104852/111102907/111107174/111136866/111125956/111134954/111112863/111116971/111112700/111135084/111133388/111134171/111121253/111115795/111127289/111129312/111134242/111121335/111121437/111129503/111135594/111106223/111123210/111125223/111105462/111104835/111104585/111104028/111133563/111105923/111119177/111101822/111104196/111137900/111112119/111123772 & 5\\\\\n",
       "\t45 & cvn03040 & Spliceosome                           &  92 & 0.3987387 & 1.166808 & 0.203893443 & 0.5574901 & 0.4898347 & 1558 & tags=16\\%, list=12\\%, signal=15\\% & 111112733/111137770/111119513/111119512/111129112/111133954/111121854/111121021/111118318/111119442/111134531/111114893/111136440/111135640/111136164                                                                                                                                                                                                                                                                                         & 4\\\\\n",
       "\t2 & cvn00910 & Nitrogen metabolism                   &  10 & 0.7752533 & 1.652303 & 0.006203042 & 0.2014094 & 0.1769670 & 1396 & tags=50\\%, list=10\\%, signal=45\\% & 111134700/111100398/111100399/111126492/111135592                                                                                                                                                                                                                                                                                                                                                                                             & 3\\\\\n",
       "\t26 & cvn00562 & Inositol phosphate metabolism         &  47 & 0.4705413 & 1.303162 & 0.095548317 & 0.4446672 & 0.3907036 & 2592 & tags=28\\%, list=19\\%, signal=22\\% & 111101050/111127799/111125442/111125100/111127562/111126338/111100148/111135914/111134544/111120505/111135557/111138290/111130239                                                                                                                                                                                                                                                                                                             & 3\\\\\n",
       "\t27 & cvn04070 & Phosphatidylinositol signaling system &  55 & 0.4596492 & 1.292000 & 0.103266596 & 0.4627873 & 0.4066248 & 2592 & tags=27\\%, list=19\\%, signal=22\\% & 111101050/111127799/111125442/111100277/111125100/111126338/111100148/111135914/111134544/111120505/111135557/111122823/111128823/111138290/111130239                                                                                                                                                                                                                                                                                         & 3\\\\\n",
       "\\end{tabular}\n"
      ],
      "text/markdown": [
       "\n",
       "A data.frame: 6 × 12\n",
       "\n",
       "| <!--/--> | ID &lt;chr&gt; | Description &lt;chr&gt; | setSize &lt;int&gt; | enrichmentScore &lt;dbl&gt; | NES &lt;dbl&gt; | pvalue &lt;dbl&gt; | p.adjust &lt;dbl&gt; | qvalue &lt;dbl&gt; | rank &lt;int&gt; | leading_edge &lt;chr&gt; | core_enrichment &lt;chr&gt; | MatchesCount &lt;int&gt; |\n",
       "|---|---|---|---|---|---|---|---|---|---|---|---|---|\n",
       "| 8 | cvn04814 | Motor proteins                        | 111 | 0.4819493 | 1.433587 | 0.012391263 | 0.2014094 | 0.1769670 | 1180 | tags=18%, list=9%, signal=17%  | 111136151/111134768/111107338/111102596/111112439/111103394/111115784/111129526/111107250/111127380/111134843/111137068/111131563/111119946/111134888/111120500/111129376/111130940/111125250/111131555                                                                                                                                                                                                                                       | 7 |\n",
       "| 14 | cvn04144 | Endocytosis                           | 132 | 0.4453853 | 1.335542 | 0.028225806 | 0.2593783 | 0.2279009 | 3187 | tags=33%, list=24%, signal=25% | 111120187/111125099/111112319/111119513/111112439/111119512/111136896/111104852/111102907/111107174/111136866/111125956/111134954/111112863/111116971/111112700/111135084/111133388/111134171/111121253/111115795/111127289/111129312/111134242/111121335/111121437/111129503/111135594/111106223/111123210/111125223/111105462/111104835/111104585/111104028/111133563/111105923/111119177/111101822/111104196/111137900/111112119/111123772 | 5 |\n",
       "| 45 | cvn03040 | Spliceosome                           |  92 | 0.3987387 | 1.166808 | 0.203893443 | 0.5574901 | 0.4898347 | 1558 | tags=16%, list=12%, signal=15% | 111112733/111137770/111119513/111119512/111129112/111133954/111121854/111121021/111118318/111119442/111134531/111114893/111136440/111135640/111136164                                                                                                                                                                                                                                                                                         | 4 |\n",
       "| 2 | cvn00910 | Nitrogen metabolism                   |  10 | 0.7752533 | 1.652303 | 0.006203042 | 0.2014094 | 0.1769670 | 1396 | tags=50%, list=10%, signal=45% | 111134700/111100398/111100399/111126492/111135592                                                                                                                                                                                                                                                                                                                                                                                             | 3 |\n",
       "| 26 | cvn00562 | Inositol phosphate metabolism         |  47 | 0.4705413 | 1.303162 | 0.095548317 | 0.4446672 | 0.3907036 | 2592 | tags=28%, list=19%, signal=22% | 111101050/111127799/111125442/111125100/111127562/111126338/111100148/111135914/111134544/111120505/111135557/111138290/111130239                                                                                                                                                                                                                                                                                                             | 3 |\n",
       "| 27 | cvn04070 | Phosphatidylinositol signaling system |  55 | 0.4596492 | 1.292000 | 0.103266596 | 0.4627873 | 0.4066248 | 2592 | tags=27%, list=19%, signal=22% | 111101050/111127799/111125442/111100277/111125100/111126338/111100148/111135914/111134544/111120505/111135557/111122823/111128823/111138290/111130239                                                                                                                                                                                                                                                                                         | 3 |\n",
       "\n"
      ],
      "text/plain": [
       "   ID       Description                           setSize enrichmentScore\n",
       "8  cvn04814 Motor proteins                        111     0.4819493      \n",
       "14 cvn04144 Endocytosis                           132     0.4453853      \n",
       "45 cvn03040 Spliceosome                            92     0.3987387      \n",
       "2  cvn00910 Nitrogen metabolism                    10     0.7752533      \n",
       "26 cvn00562 Inositol phosphate metabolism          47     0.4705413      \n",
       "27 cvn04070 Phosphatidylinositol signaling system  55     0.4596492      \n",
       "   NES      pvalue      p.adjust  qvalue    rank leading_edge                  \n",
       "8  1.433587 0.012391263 0.2014094 0.1769670 1180 tags=18%, list=9%, signal=17% \n",
       "14 1.335542 0.028225806 0.2593783 0.2279009 3187 tags=33%, list=24%, signal=25%\n",
       "45 1.166808 0.203893443 0.5574901 0.4898347 1558 tags=16%, list=12%, signal=15%\n",
       "2  1.652303 0.006203042 0.2014094 0.1769670 1396 tags=50%, list=10%, signal=45%\n",
       "26 1.303162 0.095548317 0.4446672 0.3907036 2592 tags=28%, list=19%, signal=22%\n",
       "27 1.292000 0.103266596 0.4627873 0.4066248 2592 tags=27%, list=19%, signal=22%\n",
       "   core_enrichment                                                                                                                                                                                                                                                                                                                                                                                                                              \n",
       "8  111136151/111134768/111107338/111102596/111112439/111103394/111115784/111129526/111107250/111127380/111134843/111137068/111131563/111119946/111134888/111120500/111129376/111130940/111125250/111131555                                                                                                                                                                                                                                      \n",
       "14 111120187/111125099/111112319/111119513/111112439/111119512/111136896/111104852/111102907/111107174/111136866/111125956/111134954/111112863/111116971/111112700/111135084/111133388/111134171/111121253/111115795/111127289/111129312/111134242/111121335/111121437/111129503/111135594/111106223/111123210/111125223/111105462/111104835/111104585/111104028/111133563/111105923/111119177/111101822/111104196/111137900/111112119/111123772\n",
       "45 111112733/111137770/111119513/111119512/111129112/111133954/111121854/111121021/111118318/111119442/111134531/111114893/111136440/111135640/111136164                                                                                                                                                                                                                                                                                        \n",
       "2  111134700/111100398/111100399/111126492/111135592                                                                                                                                                                                                                                                                                                                                                                                            \n",
       "26 111101050/111127799/111125442/111125100/111127562/111126338/111100148/111135914/111134544/111120505/111135557/111138290/111130239                                                                                                                                                                                                                                                                                                            \n",
       "27 111101050/111127799/111125442/111100277/111125100/111126338/111100148/111135914/111134544/111120505/111135557/111122823/111128823/111138290/111130239                                                                                                                                                                                                                                                                                        \n",
       "   MatchesCount\n",
       "8  7           \n",
       "14 5           \n",
       "45 4           \n",
       "2  3           \n",
       "26 3           \n",
       "27 3           "
      ]
     },
     "metadata": {},
     "output_type": "display_data"
    }
   ],
   "source": [
    "# generated from ChatGPT\n",
    "\n",
    "# Sample dataframes\n",
    "df1 <- genes\n",
    "df2 <- pathway\n",
    "\n",
    "# Function to check if any gene in df1 matches genes in a row of df2\n",
    "get_gene_matches <- function(row_df2, df1_genes) {\n",
    "  genes2 <- unlist(strsplit(as.character(row_df2), \"/\"))\n",
    "  count <- sum(genes2 %in% df1_genes)\n",
    "  return(count)\n",
    "}\n",
    "\n",
    "# Iterate over each row of df2\n",
    "matches_count <- sapply(df2$core_enrichment, get_gene_matches, df1_genes = df1$gene)\n",
    "\n",
    "# Add the matches count to df2\n",
    "df2$MatchesCount <- matches_count\n",
    "\n",
    "# Sort df with highest match counts at the top\n",
    "gene_pathway_match <- df2[order(-df2$MatchesCount),]\n",
    "head(gene_pathway_match)\n"
   ]
  },
  {
   "cell_type": "markdown",
   "id": "6fc49ab1-b33a-4ba6-9029-7c8331c1911d",
   "metadata": {},
   "source": [
    "now that I have a df with counts of number of matches between core enrichment genes and significant DMGs, want to only look at those with matches (filter out any pathways that did not contain sig. DMGs in their core enrichment)"
   ]
  },
  {
   "cell_type": "code",
   "execution_count": 7,
   "id": "087db646-3e2d-40de-b8c2-19b20545a2b5",
   "metadata": {},
   "outputs": [
    {
     "data": {
      "text/html": [
       "<style>\n",
       ".list-inline {list-style: none; margin:0; padding: 0}\n",
       ".list-inline>li {display: inline-block}\n",
       ".list-inline>li:not(:last-child)::after {content: \"\\00b7\"; padding: 0 .5ex}\n",
       "</style>\n",
       "<ol class=list-inline><li>42</li><li>12</li></ol>\n"
      ],
      "text/latex": [
       "\\begin{enumerate*}\n",
       "\\item 42\n",
       "\\item 12\n",
       "\\end{enumerate*}\n"
      ],
      "text/markdown": [
       "1. 42\n",
       "2. 12\n",
       "\n",
       "\n"
      ],
      "text/plain": [
       "[1] 42 12"
      ]
     },
     "metadata": {},
     "output_type": "display_data"
    },
    {
     "data": {
      "text/html": [
       "<table class=\"dataframe\">\n",
       "<caption>A data.frame: 6 × 12</caption>\n",
       "<thead>\n",
       "\t<tr><th></th><th scope=col>ID</th><th scope=col>Description</th><th scope=col>setSize</th><th scope=col>enrichmentScore</th><th scope=col>NES</th><th scope=col>pvalue</th><th scope=col>p.adjust</th><th scope=col>qvalue</th><th scope=col>rank</th><th scope=col>leading_edge</th><th scope=col>core_enrichment</th><th scope=col>MatchesCount</th></tr>\n",
       "\t<tr><th></th><th scope=col>&lt;chr&gt;</th><th scope=col>&lt;chr&gt;</th><th scope=col>&lt;int&gt;</th><th scope=col>&lt;dbl&gt;</th><th scope=col>&lt;dbl&gt;</th><th scope=col>&lt;dbl&gt;</th><th scope=col>&lt;dbl&gt;</th><th scope=col>&lt;dbl&gt;</th><th scope=col>&lt;int&gt;</th><th scope=col>&lt;chr&gt;</th><th scope=col>&lt;chr&gt;</th><th scope=col>&lt;int&gt;</th></tr>\n",
       "</thead>\n",
       "<tbody>\n",
       "\t<tr><th scope=row>1</th><td>cvn04814</td><td>Motor proteins                       </td><td>111</td><td>0.4819493</td><td>1.433587</td><td>0.012391263</td><td>0.2014094</td><td>0.1769670</td><td>1180</td><td>tags=18%, list=9%, signal=17% </td><td>111136151/111134768/111107338/111102596/111112439/111103394/111115784/111129526/111107250/111127380/111134843/111137068/111131563/111119946/111134888/111120500/111129376/111130940/111125250/111131555                                                                                                                                                                                                                                      </td><td>7</td></tr>\n",
       "\t<tr><th scope=row>2</th><td>cvn04144</td><td>Endocytosis                          </td><td>132</td><td>0.4453853</td><td>1.335542</td><td>0.028225806</td><td>0.2593783</td><td>0.2279009</td><td>3187</td><td>tags=33%, list=24%, signal=25%</td><td>111120187/111125099/111112319/111119513/111112439/111119512/111136896/111104852/111102907/111107174/111136866/111125956/111134954/111112863/111116971/111112700/111135084/111133388/111134171/111121253/111115795/111127289/111129312/111134242/111121335/111121437/111129503/111135594/111106223/111123210/111125223/111105462/111104835/111104585/111104028/111133563/111105923/111119177/111101822/111104196/111137900/111112119/111123772</td><td>5</td></tr>\n",
       "\t<tr><th scope=row>3</th><td>cvn03040</td><td>Spliceosome                          </td><td> 92</td><td>0.3987387</td><td>1.166808</td><td>0.203893443</td><td>0.5574901</td><td>0.4898347</td><td>1558</td><td>tags=16%, list=12%, signal=15%</td><td>111112733/111137770/111119513/111119512/111129112/111133954/111121854/111121021/111118318/111119442/111134531/111114893/111136440/111135640/111136164                                                                                                                                                                                                                                                                                        </td><td>4</td></tr>\n",
       "\t<tr><th scope=row>4</th><td>cvn00910</td><td>Nitrogen metabolism                  </td><td> 10</td><td>0.7752533</td><td>1.652303</td><td>0.006203042</td><td>0.2014094</td><td>0.1769670</td><td>1396</td><td>tags=50%, list=10%, signal=45%</td><td>111134700/111100398/111100399/111126492/111135592                                                                                                                                                                                                                                                                                                                                                                                            </td><td>3</td></tr>\n",
       "\t<tr><th scope=row>5</th><td>cvn00562</td><td>Inositol phosphate metabolism        </td><td> 47</td><td>0.4705413</td><td>1.303162</td><td>0.095548317</td><td>0.4446672</td><td>0.3907036</td><td>2592</td><td>tags=28%, list=19%, signal=22%</td><td>111101050/111127799/111125442/111125100/111127562/111126338/111100148/111135914/111134544/111120505/111135557/111138290/111130239                                                                                                                                                                                                                                                                                                            </td><td>3</td></tr>\n",
       "\t<tr><th scope=row>6</th><td>cvn04070</td><td>Phosphatidylinositol signaling system</td><td> 55</td><td>0.4596492</td><td>1.292000</td><td>0.103266596</td><td>0.4627873</td><td>0.4066248</td><td>2592</td><td>tags=27%, list=19%, signal=22%</td><td>111101050/111127799/111125442/111100277/111125100/111126338/111100148/111135914/111134544/111120505/111135557/111122823/111128823/111138290/111130239                                                                                                                                                                                                                                                                                        </td><td>3</td></tr>\n",
       "</tbody>\n",
       "</table>\n"
      ],
      "text/latex": [
       "A data.frame: 6 × 12\n",
       "\\begin{tabular}{r|llllllllllll}\n",
       "  & ID & Description & setSize & enrichmentScore & NES & pvalue & p.adjust & qvalue & rank & leading\\_edge & core\\_enrichment & MatchesCount\\\\\n",
       "  & <chr> & <chr> & <int> & <dbl> & <dbl> & <dbl> & <dbl> & <dbl> & <int> & <chr> & <chr> & <int>\\\\\n",
       "\\hline\n",
       "\t1 & cvn04814 & Motor proteins                        & 111 & 0.4819493 & 1.433587 & 0.012391263 & 0.2014094 & 0.1769670 & 1180 & tags=18\\%, list=9\\%, signal=17\\%  & 111136151/111134768/111107338/111102596/111112439/111103394/111115784/111129526/111107250/111127380/111134843/111137068/111131563/111119946/111134888/111120500/111129376/111130940/111125250/111131555                                                                                                                                                                                                                                       & 7\\\\\n",
       "\t2 & cvn04144 & Endocytosis                           & 132 & 0.4453853 & 1.335542 & 0.028225806 & 0.2593783 & 0.2279009 & 3187 & tags=33\\%, list=24\\%, signal=25\\% & 111120187/111125099/111112319/111119513/111112439/111119512/111136896/111104852/111102907/111107174/111136866/111125956/111134954/111112863/111116971/111112700/111135084/111133388/111134171/111121253/111115795/111127289/111129312/111134242/111121335/111121437/111129503/111135594/111106223/111123210/111125223/111105462/111104835/111104585/111104028/111133563/111105923/111119177/111101822/111104196/111137900/111112119/111123772 & 5\\\\\n",
       "\t3 & cvn03040 & Spliceosome                           &  92 & 0.3987387 & 1.166808 & 0.203893443 & 0.5574901 & 0.4898347 & 1558 & tags=16\\%, list=12\\%, signal=15\\% & 111112733/111137770/111119513/111119512/111129112/111133954/111121854/111121021/111118318/111119442/111134531/111114893/111136440/111135640/111136164                                                                                                                                                                                                                                                                                         & 4\\\\\n",
       "\t4 & cvn00910 & Nitrogen metabolism                   &  10 & 0.7752533 & 1.652303 & 0.006203042 & 0.2014094 & 0.1769670 & 1396 & tags=50\\%, list=10\\%, signal=45\\% & 111134700/111100398/111100399/111126492/111135592                                                                                                                                                                                                                                                                                                                                                                                             & 3\\\\\n",
       "\t5 & cvn00562 & Inositol phosphate metabolism         &  47 & 0.4705413 & 1.303162 & 0.095548317 & 0.4446672 & 0.3907036 & 2592 & tags=28\\%, list=19\\%, signal=22\\% & 111101050/111127799/111125442/111125100/111127562/111126338/111100148/111135914/111134544/111120505/111135557/111138290/111130239                                                                                                                                                                                                                                                                                                             & 3\\\\\n",
       "\t6 & cvn04070 & Phosphatidylinositol signaling system &  55 & 0.4596492 & 1.292000 & 0.103266596 & 0.4627873 & 0.4066248 & 2592 & tags=27\\%, list=19\\%, signal=22\\% & 111101050/111127799/111125442/111100277/111125100/111126338/111100148/111135914/111134544/111120505/111135557/111122823/111128823/111138290/111130239                                                                                                                                                                                                                                                                                         & 3\\\\\n",
       "\\end{tabular}\n"
      ],
      "text/markdown": [
       "\n",
       "A data.frame: 6 × 12\n",
       "\n",
       "| <!--/--> | ID &lt;chr&gt; | Description &lt;chr&gt; | setSize &lt;int&gt; | enrichmentScore &lt;dbl&gt; | NES &lt;dbl&gt; | pvalue &lt;dbl&gt; | p.adjust &lt;dbl&gt; | qvalue &lt;dbl&gt; | rank &lt;int&gt; | leading_edge &lt;chr&gt; | core_enrichment &lt;chr&gt; | MatchesCount &lt;int&gt; |\n",
       "|---|---|---|---|---|---|---|---|---|---|---|---|---|\n",
       "| 1 | cvn04814 | Motor proteins                        | 111 | 0.4819493 | 1.433587 | 0.012391263 | 0.2014094 | 0.1769670 | 1180 | tags=18%, list=9%, signal=17%  | 111136151/111134768/111107338/111102596/111112439/111103394/111115784/111129526/111107250/111127380/111134843/111137068/111131563/111119946/111134888/111120500/111129376/111130940/111125250/111131555                                                                                                                                                                                                                                       | 7 |\n",
       "| 2 | cvn04144 | Endocytosis                           | 132 | 0.4453853 | 1.335542 | 0.028225806 | 0.2593783 | 0.2279009 | 3187 | tags=33%, list=24%, signal=25% | 111120187/111125099/111112319/111119513/111112439/111119512/111136896/111104852/111102907/111107174/111136866/111125956/111134954/111112863/111116971/111112700/111135084/111133388/111134171/111121253/111115795/111127289/111129312/111134242/111121335/111121437/111129503/111135594/111106223/111123210/111125223/111105462/111104835/111104585/111104028/111133563/111105923/111119177/111101822/111104196/111137900/111112119/111123772 | 5 |\n",
       "| 3 | cvn03040 | Spliceosome                           |  92 | 0.3987387 | 1.166808 | 0.203893443 | 0.5574901 | 0.4898347 | 1558 | tags=16%, list=12%, signal=15% | 111112733/111137770/111119513/111119512/111129112/111133954/111121854/111121021/111118318/111119442/111134531/111114893/111136440/111135640/111136164                                                                                                                                                                                                                                                                                         | 4 |\n",
       "| 4 | cvn00910 | Nitrogen metabolism                   |  10 | 0.7752533 | 1.652303 | 0.006203042 | 0.2014094 | 0.1769670 | 1396 | tags=50%, list=10%, signal=45% | 111134700/111100398/111100399/111126492/111135592                                                                                                                                                                                                                                                                                                                                                                                             | 3 |\n",
       "| 5 | cvn00562 | Inositol phosphate metabolism         |  47 | 0.4705413 | 1.303162 | 0.095548317 | 0.4446672 | 0.3907036 | 2592 | tags=28%, list=19%, signal=22% | 111101050/111127799/111125442/111125100/111127562/111126338/111100148/111135914/111134544/111120505/111135557/111138290/111130239                                                                                                                                                                                                                                                                                                             | 3 |\n",
       "| 6 | cvn04070 | Phosphatidylinositol signaling system |  55 | 0.4596492 | 1.292000 | 0.103266596 | 0.4627873 | 0.4066248 | 2592 | tags=27%, list=19%, signal=22% | 111101050/111127799/111125442/111100277/111125100/111126338/111100148/111135914/111134544/111120505/111135557/111122823/111128823/111138290/111130239                                                                                                                                                                                                                                                                                         | 3 |\n",
       "\n"
      ],
      "text/plain": [
       "  ID       Description                           setSize enrichmentScore\n",
       "1 cvn04814 Motor proteins                        111     0.4819493      \n",
       "2 cvn04144 Endocytosis                           132     0.4453853      \n",
       "3 cvn03040 Spliceosome                            92     0.3987387      \n",
       "4 cvn00910 Nitrogen metabolism                    10     0.7752533      \n",
       "5 cvn00562 Inositol phosphate metabolism          47     0.4705413      \n",
       "6 cvn04070 Phosphatidylinositol signaling system  55     0.4596492      \n",
       "  NES      pvalue      p.adjust  qvalue    rank leading_edge                  \n",
       "1 1.433587 0.012391263 0.2014094 0.1769670 1180 tags=18%, list=9%, signal=17% \n",
       "2 1.335542 0.028225806 0.2593783 0.2279009 3187 tags=33%, list=24%, signal=25%\n",
       "3 1.166808 0.203893443 0.5574901 0.4898347 1558 tags=16%, list=12%, signal=15%\n",
       "4 1.652303 0.006203042 0.2014094 0.1769670 1396 tags=50%, list=10%, signal=45%\n",
       "5 1.303162 0.095548317 0.4446672 0.3907036 2592 tags=28%, list=19%, signal=22%\n",
       "6 1.292000 0.103266596 0.4627873 0.4066248 2592 tags=27%, list=19%, signal=22%\n",
       "  core_enrichment                                                                                                                                                                                                                                                                                                                                                                                                                              \n",
       "1 111136151/111134768/111107338/111102596/111112439/111103394/111115784/111129526/111107250/111127380/111134843/111137068/111131563/111119946/111134888/111120500/111129376/111130940/111125250/111131555                                                                                                                                                                                                                                      \n",
       "2 111120187/111125099/111112319/111119513/111112439/111119512/111136896/111104852/111102907/111107174/111136866/111125956/111134954/111112863/111116971/111112700/111135084/111133388/111134171/111121253/111115795/111127289/111129312/111134242/111121335/111121437/111129503/111135594/111106223/111123210/111125223/111105462/111104835/111104585/111104028/111133563/111105923/111119177/111101822/111104196/111137900/111112119/111123772\n",
       "3 111112733/111137770/111119513/111119512/111129112/111133954/111121854/111121021/111118318/111119442/111134531/111114893/111136440/111135640/111136164                                                                                                                                                                                                                                                                                        \n",
       "4 111134700/111100398/111100399/111126492/111135592                                                                                                                                                                                                                                                                                                                                                                                            \n",
       "5 111101050/111127799/111125442/111125100/111127562/111126338/111100148/111135914/111134544/111120505/111135557/111138290/111130239                                                                                                                                                                                                                                                                                                            \n",
       "6 111101050/111127799/111125442/111100277/111125100/111126338/111100148/111135914/111134544/111120505/111135557/111122823/111128823/111138290/111130239                                                                                                                                                                                                                                                                                        \n",
       "  MatchesCount\n",
       "1 7           \n",
       "2 5           \n",
       "3 4           \n",
       "4 3           \n",
       "5 3           \n",
       "6 3           "
      ]
     },
     "metadata": {},
     "output_type": "display_data"
    }
   ],
   "source": [
    "# only want to look at pathways that have significant genes in their core enrichment\n",
    "matched_pathways <- filter(gene_pathway_match, gene_pathway_match$MatchesCount != 0)\n",
    "\n",
    "# checking dimensions to see how many pathways we have \n",
    "dim(matched_pathways) # 41 matches\n",
    "\n",
    "# looking at df\n",
    "head(matched_pathways)"
   ]
  },
  {
   "cell_type": "code",
   "execution_count": 8,
   "id": "3e36b7ad-8710-47a8-aebd-775a317865c4",
   "metadata": {},
   "outputs": [
    {
     "data": {
      "text/html": [
       "1.80952380952381"
      ],
      "text/latex": [
       "1.80952380952381"
      ],
      "text/markdown": [
       "1.80952380952381"
      ],
      "text/plain": [
       "[1] 1.809524"
      ]
     },
     "metadata": {},
     "output_type": "display_data"
    },
    {
     "data": {
      "text/html": [
       "1"
      ],
      "text/latex": [
       "1"
      ],
      "text/markdown": [
       "1"
      ],
      "text/plain": [
       "[1] 1"
      ]
     },
     "metadata": {},
     "output_type": "display_data"
    },
    {
     "data": {
      "text/html": [
       "1.29234321572257"
      ],
      "text/latex": [
       "1.29234321572257"
      ],
      "text/markdown": [
       "1.29234321572257"
      ],
      "text/plain": [
       "[1] 1.292343"
      ]
     },
     "metadata": {},
     "output_type": "display_data"
    }
   ],
   "source": [
    "mean(matched_pathways$MatchesCount)\n",
    "median(matched_pathways$MatchesCount)\n",
    "sd(matched_pathways$MatchesCount)"
   ]
  },
  {
   "cell_type": "markdown",
   "id": "7222787f-cfdf-4fec-bc8b-5b9ee84ad881",
   "metadata": {},
   "source": [
    "**Stats on Matched Counts**\n",
    "\n",
    "25 pathways with only 1 match\n",
    "\n",
    "148 pathways with 0 matches\n",
    "\n",
    "- mean number of matches: 1.8\n",
    "- median number of matches: 1\n",
    "- standard deviation of matches: 1.31\n",
    "\n",
    "**motor proteins** have the highest number of significant DMGs in its core enrichment with 7 genes\n",
    "\n",
    "**these results are the *same* as without filtering the outlier counts**"
   ]
  },
  {
   "cell_type": "code",
   "execution_count": 9,
   "id": "01fc48d0-9b23-4b07-80aa-b9ce49255227",
   "metadata": {},
   "outputs": [
    {
     "data": {
      "text/html": [
       "<table class=\"dataframe\">\n",
       "<caption>A data.frame: 6 × 7</caption>\n",
       "<thead>\n",
       "\t<tr><th></th><th scope=col>X</th><th scope=col>baseMean</th><th scope=col>log2FoldChange</th><th scope=col>lfcSE</th><th scope=col>stat</th><th scope=col>pvalue</th><th scope=col>padj</th></tr>\n",
       "\t<tr><th></th><th scope=col>&lt;chr&gt;</th><th scope=col>&lt;dbl&gt;</th><th scope=col>&lt;dbl&gt;</th><th scope=col>&lt;dbl&gt;</th><th scope=col>&lt;dbl&gt;</th><th scope=col>&lt;dbl&gt;</th><th scope=col>&lt;dbl&gt;</th></tr>\n",
       "</thead>\n",
       "<tbody>\n",
       "\t<tr><th scope=row>1</th><td>LOC111120752</td><td>  0.9171026</td><td> 0.5117345</td><td>0.7219483</td><td> 0.01625394</td><td>0.9870318</td><td>NA</td></tr>\n",
       "\t<tr><th scope=row>2</th><td>LOC111109452</td><td>  1.3692365</td><td> 1.0072548</td><td>0.7205748</td><td> 0.70395856</td><td>0.4814586</td><td>NA</td></tr>\n",
       "\t<tr><th scope=row>3</th><td>LOC111124802</td><td>160.7331187</td><td> 0.4591660</td><td>0.1879969</td><td> 0.00000000</td><td>1.0000000</td><td> 1</td></tr>\n",
       "\t<tr><th scope=row>4</th><td>LOC111101273</td><td> 55.0404755</td><td> 0.4055670</td><td>0.2258263</td><td> 0.00000000</td><td>1.0000000</td><td> 1</td></tr>\n",
       "\t<tr><th scope=row>5</th><td>LOC111101250</td><td> 77.7947775</td><td>-0.6027753</td><td>0.2031945</td><td>-0.50579750</td><td>0.6129988</td><td> 1</td></tr>\n",
       "\t<tr><th scope=row>6</th><td>LOC111101262</td><td>188.9039051</td><td> 0.1674635</td><td>0.1795188</td><td> 0.00000000</td><td>1.0000000</td><td> 1</td></tr>\n",
       "</tbody>\n",
       "</table>\n"
      ],
      "text/latex": [
       "A data.frame: 6 × 7\n",
       "\\begin{tabular}{r|lllllll}\n",
       "  & X & baseMean & log2FoldChange & lfcSE & stat & pvalue & padj\\\\\n",
       "  & <chr> & <dbl> & <dbl> & <dbl> & <dbl> & <dbl> & <dbl>\\\\\n",
       "\\hline\n",
       "\t1 & LOC111120752 &   0.9171026 &  0.5117345 & 0.7219483 &  0.01625394 & 0.9870318 & NA\\\\\n",
       "\t2 & LOC111109452 &   1.3692365 &  1.0072548 & 0.7205748 &  0.70395856 & 0.4814586 & NA\\\\\n",
       "\t3 & LOC111124802 & 160.7331187 &  0.4591660 & 0.1879969 &  0.00000000 & 1.0000000 &  1\\\\\n",
       "\t4 & LOC111101273 &  55.0404755 &  0.4055670 & 0.2258263 &  0.00000000 & 1.0000000 &  1\\\\\n",
       "\t5 & LOC111101250 &  77.7947775 & -0.6027753 & 0.2031945 & -0.50579750 & 0.6129988 &  1\\\\\n",
       "\t6 & LOC111101262 & 188.9039051 &  0.1674635 & 0.1795188 &  0.00000000 & 1.0000000 &  1\\\\\n",
       "\\end{tabular}\n"
      ],
      "text/markdown": [
       "\n",
       "A data.frame: 6 × 7\n",
       "\n",
       "| <!--/--> | X &lt;chr&gt; | baseMean &lt;dbl&gt; | log2FoldChange &lt;dbl&gt; | lfcSE &lt;dbl&gt; | stat &lt;dbl&gt; | pvalue &lt;dbl&gt; | padj &lt;dbl&gt; |\n",
       "|---|---|---|---|---|---|---|---|\n",
       "| 1 | LOC111120752 |   0.9171026 |  0.5117345 | 0.7219483 |  0.01625394 | 0.9870318 | NA |\n",
       "| 2 | LOC111109452 |   1.3692365 |  1.0072548 | 0.7205748 |  0.70395856 | 0.4814586 | NA |\n",
       "| 3 | LOC111124802 | 160.7331187 |  0.4591660 | 0.1879969 |  0.00000000 | 1.0000000 |  1 |\n",
       "| 4 | LOC111101273 |  55.0404755 |  0.4055670 | 0.2258263 |  0.00000000 | 1.0000000 |  1 |\n",
       "| 5 | LOC111101250 |  77.7947775 | -0.6027753 | 0.2031945 | -0.50579750 | 0.6129988 |  1 |\n",
       "| 6 | LOC111101262 | 188.9039051 |  0.1674635 | 0.1795188 |  0.00000000 | 1.0000000 |  1 |\n",
       "\n"
      ],
      "text/plain": [
       "  X            baseMean    log2FoldChange lfcSE     stat        pvalue    padj\n",
       "1 LOC111120752   0.9171026  0.5117345     0.7219483  0.01625394 0.9870318 NA  \n",
       "2 LOC111109452   1.3692365  1.0072548     0.7205748  0.70395856 0.4814586 NA  \n",
       "3 LOC111124802 160.7331187  0.4591660     0.1879969  0.00000000 1.0000000  1  \n",
       "4 LOC111101273  55.0404755  0.4055670     0.2258263  0.00000000 1.0000000  1  \n",
       "5 LOC111101250  77.7947775 -0.6027753     0.2031945 -0.50579750 0.6129988  1  \n",
       "6 LOC111101262 188.9039051  0.1674635     0.1795188  0.00000000 1.0000000  1  "
      ]
     },
     "metadata": {},
     "output_type": "display_data"
    }
   ],
   "source": [
    "unfilter_genes <- read.csv('/project/pi_sarah_gignouxwolfsohn_uml_edu/julia/CE_MethylRAD_analysis_2018/analysis/lfc_sig_genes/unfiltered_phase1_wc_genes.csv')\n",
    "head(unfilter_genes)"
   ]
  },
  {
   "cell_type": "markdown",
   "id": "039af155-1201-4907-92cb-246cd6b2edaf",
   "metadata": {},
   "source": [
    "filtering df to only include genes with NA for adjusted p-value"
   ]
  },
  {
   "cell_type": "code",
   "execution_count": 62,
   "id": "c481811d-e4ac-4042-9914-79f55066bd25",
   "metadata": {},
   "outputs": [
    {
     "data": {
      "text/html": [
       "<style>\n",
       ".list-inline {list-style: none; margin:0; padding: 0}\n",
       ".list-inline>li {display: inline-block}\n",
       ".list-inline>li:not(:last-child)::after {content: \"\\00b7\"; padding: 0 .5ex}\n",
       "</style>\n",
       "<ol class=list-inline><li>5776</li><li>7</li></ol>\n"
      ],
      "text/latex": [
       "\\begin{enumerate*}\n",
       "\\item 5776\n",
       "\\item 7\n",
       "\\end{enumerate*}\n"
      ],
      "text/markdown": [
       "1. 5776\n",
       "2. 7\n",
       "\n",
       "\n"
      ],
      "text/plain": [
       "[1] 5776    7"
      ]
     },
     "metadata": {},
     "output_type": "display_data"
    }
   ],
   "source": [
    "genes_w_na <- unfilter_genes[is.na(unfilter_genes$padj),]\n",
    "dim(genes_w_na) # 5,776 genes with NA for adjusted p-value"
   ]
  },
  {
   "cell_type": "markdown",
   "id": "b5b1644d-1130-4bca-a086-ed5044d01a50",
   "metadata": {},
   "source": [
    "looking more into the stats of those genes with NA for adjusted p-value, specifically looking at the baseMean (since this is what the DESeq documentation points at)\n",
    "> baseMean - the average of the normalized count values, dividing by size factors, taken over all samples"
   ]
  },
  {
   "cell_type": "code",
   "execution_count": 66,
   "id": "f5b92213-42f9-4a24-98cd-bf82dc46d3a5",
   "metadata": {},
   "outputs": [
    {
     "data": {
      "text/html": [
       "4.52210697439881"
      ],
      "text/latex": [
       "4.52210697439881"
      ],
      "text/markdown": [
       "4.52210697439881"
      ],
      "text/plain": [
       "[1] 4.522107"
      ]
     },
     "metadata": {},
     "output_type": "display_data"
    },
    {
     "data": {
      "text/html": [
       "22.2434098890397"
      ],
      "text/latex": [
       "22.2434098890397"
      ],
      "text/markdown": [
       "22.2434098890397"
      ],
      "text/plain": [
       "[1] 22.24341"
      ]
     },
     "metadata": {},
     "output_type": "display_data"
    }
   ],
   "source": [
    "mean(genes_w_na$baseMean) # average = 4.5 counts per sample\n",
    "sd(genes_w_na$baseMean) # standard deviation = 22"
   ]
  },
  {
   "cell_type": "markdown",
   "id": "a13ccfb9-2b83-4f4e-a0a3-6067dddbf246",
   "metadata": {},
   "source": [
    "loading in counts matrix that was generated with featureCounts to pull out the genes with NA for adjusted p-value"
   ]
  },
  {
   "cell_type": "code",
   "execution_count": 63,
   "id": "3782e1ee-9298-4d0a-8724-008b367727ff",
   "metadata": {},
   "outputs": [
    {
     "data": {
      "text/html": [
       "<table class=\"dataframe\">\n",
       "<caption>A data.frame: 6 × 31</caption>\n",
       "<thead>\n",
       "\t<tr><th></th><th scope=col>X</th><th scope=col>BBB.WBO.B21</th><th scope=col>BBB.WBV.B70</th><th scope=col>BBO.BBO.B16</th><th scope=col>BBO.BBY.B27</th><th scope=col>BBO.WBO.B16</th><th scope=col>BBO.WBV.B64</th><th scope=col>BBR.BBB.B50</th><th scope=col>BBR.BBG.B38</th><th scope=col>BBR.BBY.B26</th><th scope=col>⋯</th><th scope=col>WBR.BBY.W25</th><th scope=col>WBV.WBO.W23</th><th scope=col>WBV.WBR.W12</th><th scope=col>WBY.BBV.W65</th><th scope=col>WBY.BBY.W30</th><th scope=col>WPB.BPG.G45</th><th scope=col>WPO.BPO.G16</th><th scope=col>WPO.BPY.G28</th><th scope=col>WPR.BPY.G25</th><th scope=col>WPV.BPR.G11</th></tr>\n",
       "\t<tr><th></th><th scope=col>&lt;chr&gt;</th><th scope=col>&lt;int&gt;</th><th scope=col>&lt;int&gt;</th><th scope=col>&lt;int&gt;</th><th scope=col>&lt;int&gt;</th><th scope=col>&lt;int&gt;</th><th scope=col>&lt;int&gt;</th><th scope=col>&lt;int&gt;</th><th scope=col>&lt;int&gt;</th><th scope=col>&lt;int&gt;</th><th scope=col>⋯</th><th scope=col>&lt;int&gt;</th><th scope=col>&lt;int&gt;</th><th scope=col>&lt;int&gt;</th><th scope=col>&lt;int&gt;</th><th scope=col>&lt;int&gt;</th><th scope=col>&lt;int&gt;</th><th scope=col>&lt;int&gt;</th><th scope=col>&lt;int&gt;</th><th scope=col>&lt;int&gt;</th><th scope=col>&lt;int&gt;</th></tr>\n",
       "</thead>\n",
       "<tbody>\n",
       "\t<tr><th scope=row>1</th><td>LOC111120752</td><td>  2</td><td>  2</td><td>  0</td><td>  0</td><td>  2</td><td>  0</td><td>  0</td><td>  0</td><td>  1</td><td>⋯</td><td>  0</td><td>  0</td><td> 0</td><td>  0</td><td>  1</td><td>  0</td><td>  0</td><td> 1</td><td>  1</td><td> 0</td></tr>\n",
       "\t<tr><th scope=row>2</th><td>LOC111109452</td><td>  0</td><td>  0</td><td>  0</td><td>  0</td><td>  1</td><td>  1</td><td> 10</td><td> 12</td><td>  0</td><td>⋯</td><td>  0</td><td>  1</td><td> 0</td><td>  1</td><td>  2</td><td> 15</td><td>  0</td><td> 0</td><td>  3</td><td> 0</td></tr>\n",
       "\t<tr><th scope=row>3</th><td>LOC111124802</td><td>597</td><td>453</td><td>408</td><td>244</td><td>502</td><td>434</td><td>187</td><td>336</td><td>311</td><td>⋯</td><td>122</td><td>120</td><td>57</td><td>289</td><td>202</td><td>168</td><td>134</td><td>86</td><td>252</td><td> 9</td></tr>\n",
       "\t<tr><th scope=row>4</th><td>LOC111101273</td><td>173</td><td>146</td><td>115</td><td> 75</td><td>171</td><td>158</td><td> 64</td><td>115</td><td>137</td><td>⋯</td><td> 43</td><td> 45</td><td>18</td><td> 87</td><td> 81</td><td> 71</td><td> 52</td><td>38</td><td> 73</td><td> 1</td></tr>\n",
       "\t<tr><th scope=row>5</th><td>LOC111101250</td><td>253</td><td>255</td><td>257</td><td>118</td><td>327</td><td>269</td><td>115</td><td>141</td><td>184</td><td>⋯</td><td> 91</td><td> 96</td><td>24</td><td>254</td><td>109</td><td> 92</td><td> 49</td><td> 5</td><td>101</td><td> 2</td></tr>\n",
       "\t<tr><th scope=row>6</th><td>LOC111101262</td><td>645</td><td>634</td><td>502</td><td>364</td><td>647</td><td>677</td><td>246</td><td>389</td><td>355</td><td>⋯</td><td>184</td><td>146</td><td>52</td><td>387</td><td>251</td><td>188</td><td>131</td><td>78</td><td>283</td><td>12</td></tr>\n",
       "</tbody>\n",
       "</table>\n"
      ],
      "text/latex": [
       "A data.frame: 6 × 31\n",
       "\\begin{tabular}{r|lllllllllllllllllllll}\n",
       "  & X & BBB.WBO.B21 & BBB.WBV.B70 & BBO.BBO.B16 & BBO.BBY.B27 & BBO.WBO.B16 & BBO.WBV.B64 & BBR.BBB.B50 & BBR.BBG.B38 & BBR.BBY.B26 & ⋯ & WBR.BBY.W25 & WBV.WBO.W23 & WBV.WBR.W12 & WBY.BBV.W65 & WBY.BBY.W30 & WPB.BPG.G45 & WPO.BPO.G16 & WPO.BPY.G28 & WPR.BPY.G25 & WPV.BPR.G11\\\\\n",
       "  & <chr> & <int> & <int> & <int> & <int> & <int> & <int> & <int> & <int> & <int> & ⋯ & <int> & <int> & <int> & <int> & <int> & <int> & <int> & <int> & <int> & <int>\\\\\n",
       "\\hline\n",
       "\t1 & LOC111120752 &   2 &   2 &   0 &   0 &   2 &   0 &   0 &   0 &   1 & ⋯ &   0 &   0 &  0 &   0 &   1 &   0 &   0 &  1 &   1 &  0\\\\\n",
       "\t2 & LOC111109452 &   0 &   0 &   0 &   0 &   1 &   1 &  10 &  12 &   0 & ⋯ &   0 &   1 &  0 &   1 &   2 &  15 &   0 &  0 &   3 &  0\\\\\n",
       "\t3 & LOC111124802 & 597 & 453 & 408 & 244 & 502 & 434 & 187 & 336 & 311 & ⋯ & 122 & 120 & 57 & 289 & 202 & 168 & 134 & 86 & 252 &  9\\\\\n",
       "\t4 & LOC111101273 & 173 & 146 & 115 &  75 & 171 & 158 &  64 & 115 & 137 & ⋯ &  43 &  45 & 18 &  87 &  81 &  71 &  52 & 38 &  73 &  1\\\\\n",
       "\t5 & LOC111101250 & 253 & 255 & 257 & 118 & 327 & 269 & 115 & 141 & 184 & ⋯ &  91 &  96 & 24 & 254 & 109 &  92 &  49 &  5 & 101 &  2\\\\\n",
       "\t6 & LOC111101262 & 645 & 634 & 502 & 364 & 647 & 677 & 246 & 389 & 355 & ⋯ & 184 & 146 & 52 & 387 & 251 & 188 & 131 & 78 & 283 & 12\\\\\n",
       "\\end{tabular}\n"
      ],
      "text/markdown": [
       "\n",
       "A data.frame: 6 × 31\n",
       "\n",
       "| <!--/--> | X &lt;chr&gt; | BBB.WBO.B21 &lt;int&gt; | BBB.WBV.B70 &lt;int&gt; | BBO.BBO.B16 &lt;int&gt; | BBO.BBY.B27 &lt;int&gt; | BBO.WBO.B16 &lt;int&gt; | BBO.WBV.B64 &lt;int&gt; | BBR.BBB.B50 &lt;int&gt; | BBR.BBG.B38 &lt;int&gt; | BBR.BBY.B26 &lt;int&gt; | ⋯ ⋯ | WBR.BBY.W25 &lt;int&gt; | WBV.WBO.W23 &lt;int&gt; | WBV.WBR.W12 &lt;int&gt; | WBY.BBV.W65 &lt;int&gt; | WBY.BBY.W30 &lt;int&gt; | WPB.BPG.G45 &lt;int&gt; | WPO.BPO.G16 &lt;int&gt; | WPO.BPY.G28 &lt;int&gt; | WPR.BPY.G25 &lt;int&gt; | WPV.BPR.G11 &lt;int&gt; |\n",
       "|---|---|---|---|---|---|---|---|---|---|---|---|---|---|---|---|---|---|---|---|---|---|\n",
       "| 1 | LOC111120752 |   2 |   2 |   0 |   0 |   2 |   0 |   0 |   0 |   1 | ⋯ |   0 |   0 |  0 |   0 |   1 |   0 |   0 |  1 |   1 |  0 |\n",
       "| 2 | LOC111109452 |   0 |   0 |   0 |   0 |   1 |   1 |  10 |  12 |   0 | ⋯ |   0 |   1 |  0 |   1 |   2 |  15 |   0 |  0 |   3 |  0 |\n",
       "| 3 | LOC111124802 | 597 | 453 | 408 | 244 | 502 | 434 | 187 | 336 | 311 | ⋯ | 122 | 120 | 57 | 289 | 202 | 168 | 134 | 86 | 252 |  9 |\n",
       "| 4 | LOC111101273 | 173 | 146 | 115 |  75 | 171 | 158 |  64 | 115 | 137 | ⋯ |  43 |  45 | 18 |  87 |  81 |  71 |  52 | 38 |  73 |  1 |\n",
       "| 5 | LOC111101250 | 253 | 255 | 257 | 118 | 327 | 269 | 115 | 141 | 184 | ⋯ |  91 |  96 | 24 | 254 | 109 |  92 |  49 |  5 | 101 |  2 |\n",
       "| 6 | LOC111101262 | 645 | 634 | 502 | 364 | 647 | 677 | 246 | 389 | 355 | ⋯ | 184 | 146 | 52 | 387 | 251 | 188 | 131 | 78 | 283 | 12 |\n",
       "\n"
      ],
      "text/plain": [
       "  X            BBB.WBO.B21 BBB.WBV.B70 BBO.BBO.B16 BBO.BBY.B27 BBO.WBO.B16\n",
       "1 LOC111120752   2           2           0           0           2        \n",
       "2 LOC111109452   0           0           0           0           1        \n",
       "3 LOC111124802 597         453         408         244         502        \n",
       "4 LOC111101273 173         146         115          75         171        \n",
       "5 LOC111101250 253         255         257         118         327        \n",
       "6 LOC111101262 645         634         502         364         647        \n",
       "  BBO.WBV.B64 BBR.BBB.B50 BBR.BBG.B38 BBR.BBY.B26 ⋯ WBR.BBY.W25 WBV.WBO.W23\n",
       "1   0           0           0           1         ⋯   0           0        \n",
       "2   1          10          12           0         ⋯   0           1        \n",
       "3 434         187         336         311         ⋯ 122         120        \n",
       "4 158          64         115         137         ⋯  43          45        \n",
       "5 269         115         141         184         ⋯  91          96        \n",
       "6 677         246         389         355         ⋯ 184         146        \n",
       "  WBV.WBR.W12 WBY.BBV.W65 WBY.BBY.W30 WPB.BPG.G45 WPO.BPO.G16 WPO.BPY.G28\n",
       "1  0            0           1           0           0          1         \n",
       "2  0            1           2          15           0          0         \n",
       "3 57          289         202         168         134         86         \n",
       "4 18           87          81          71          52         38         \n",
       "5 24          254         109          92          49          5         \n",
       "6 52          387         251         188         131         78         \n",
       "  WPR.BPY.G25 WPV.BPR.G11\n",
       "1   1          0         \n",
       "2   3          0         \n",
       "3 252          9         \n",
       "4  73          1         \n",
       "5 101          2         \n",
       "6 283         12         "
      ]
     },
     "metadata": {},
     "output_type": "display_data"
    }
   ],
   "source": [
    "# loading in counts matrix\n",
    "counts_matrix <- read.csv('/project/pi_sarah_gignouxwolfsohn_uml_edu/julia/CE_MethylRAD_analysis_2018/analysis/counts_and_meta/featureCounts_meta.csv')\n",
    "head(counts_matrix)"
   ]
  },
  {
   "cell_type": "code",
   "execution_count": 43,
   "id": "0dcaace4-941c-49e1-81c3-2c01efc5ff74",
   "metadata": {},
   "outputs": [
    {
     "data": {
      "text/html": [
       "<table class=\"dataframe\">\n",
       "<caption>A data.frame: 6 × 30</caption>\n",
       "<thead>\n",
       "\t<tr><th></th><th scope=col>BBB.WBO.B21</th><th scope=col>BBB.WBV.B70</th><th scope=col>BBO.BBO.B16</th><th scope=col>BBO.BBY.B27</th><th scope=col>BBO.WBO.B16</th><th scope=col>BBO.WBV.B64</th><th scope=col>BBR.BBB.B50</th><th scope=col>BBR.BBG.B38</th><th scope=col>BBR.BBY.B26</th><th scope=col>BBY.WBG.B42</th><th scope=col>⋯</th><th scope=col>WBR.BBY.W25</th><th scope=col>WBV.WBO.W23</th><th scope=col>WBV.WBR.W12</th><th scope=col>WBY.BBV.W65</th><th scope=col>WBY.BBY.W30</th><th scope=col>WPB.BPG.G45</th><th scope=col>WPO.BPO.G16</th><th scope=col>WPO.BPY.G28</th><th scope=col>WPR.BPY.G25</th><th scope=col>WPV.BPR.G11</th></tr>\n",
       "\t<tr><th></th><th scope=col>&lt;int&gt;</th><th scope=col>&lt;int&gt;</th><th scope=col>&lt;int&gt;</th><th scope=col>&lt;int&gt;</th><th scope=col>&lt;int&gt;</th><th scope=col>&lt;int&gt;</th><th scope=col>&lt;int&gt;</th><th scope=col>&lt;int&gt;</th><th scope=col>&lt;int&gt;</th><th scope=col>&lt;int&gt;</th><th scope=col>⋯</th><th scope=col>&lt;int&gt;</th><th scope=col>&lt;int&gt;</th><th scope=col>&lt;int&gt;</th><th scope=col>&lt;int&gt;</th><th scope=col>&lt;int&gt;</th><th scope=col>&lt;int&gt;</th><th scope=col>&lt;int&gt;</th><th scope=col>&lt;int&gt;</th><th scope=col>&lt;int&gt;</th><th scope=col>&lt;int&gt;</th></tr>\n",
       "</thead>\n",
       "<tbody>\n",
       "\t<tr><th scope=row>LOC111120752</th><td>  2</td><td>  2</td><td>  0</td><td>  0</td><td>  2</td><td>  0</td><td>  0</td><td>  0</td><td>  1</td><td>  0</td><td>⋯</td><td>  0</td><td>  0</td><td> 0</td><td>  0</td><td>  1</td><td>  0</td><td>  0</td><td> 1</td><td>  1</td><td> 0</td></tr>\n",
       "\t<tr><th scope=row>LOC111109452</th><td>  0</td><td>  0</td><td>  0</td><td>  0</td><td>  1</td><td>  1</td><td> 10</td><td> 12</td><td>  0</td><td>  2</td><td>⋯</td><td>  0</td><td>  1</td><td> 0</td><td>  1</td><td>  2</td><td> 15</td><td>  0</td><td> 0</td><td>  3</td><td> 0</td></tr>\n",
       "\t<tr><th scope=row>LOC111124802</th><td>597</td><td>453</td><td>408</td><td>244</td><td>502</td><td>434</td><td>187</td><td>336</td><td>311</td><td>110</td><td>⋯</td><td>122</td><td>120</td><td>57</td><td>289</td><td>202</td><td>168</td><td>134</td><td>86</td><td>252</td><td> 9</td></tr>\n",
       "\t<tr><th scope=row>LOC111101273</th><td>173</td><td>146</td><td>115</td><td> 75</td><td>171</td><td>158</td><td> 64</td><td>115</td><td>137</td><td> 45</td><td>⋯</td><td> 43</td><td> 45</td><td>18</td><td> 87</td><td> 81</td><td> 71</td><td> 52</td><td>38</td><td> 73</td><td> 1</td></tr>\n",
       "\t<tr><th scope=row>LOC111101250</th><td>253</td><td>255</td><td>257</td><td>118</td><td>327</td><td>269</td><td>115</td><td>141</td><td>184</td><td> 49</td><td>⋯</td><td> 91</td><td> 96</td><td>24</td><td>254</td><td>109</td><td> 92</td><td> 49</td><td> 5</td><td>101</td><td> 2</td></tr>\n",
       "\t<tr><th scope=row>LOC111101262</th><td>645</td><td>634</td><td>502</td><td>364</td><td>647</td><td>677</td><td>246</td><td>389</td><td>355</td><td>108</td><td>⋯</td><td>184</td><td>146</td><td>52</td><td>387</td><td>251</td><td>188</td><td>131</td><td>78</td><td>283</td><td>12</td></tr>\n",
       "</tbody>\n",
       "</table>\n"
      ],
      "text/latex": [
       "A data.frame: 6 × 30\n",
       "\\begin{tabular}{r|lllllllllllllllllllll}\n",
       "  & BBB.WBO.B21 & BBB.WBV.B70 & BBO.BBO.B16 & BBO.BBY.B27 & BBO.WBO.B16 & BBO.WBV.B64 & BBR.BBB.B50 & BBR.BBG.B38 & BBR.BBY.B26 & BBY.WBG.B42 & ⋯ & WBR.BBY.W25 & WBV.WBO.W23 & WBV.WBR.W12 & WBY.BBV.W65 & WBY.BBY.W30 & WPB.BPG.G45 & WPO.BPO.G16 & WPO.BPY.G28 & WPR.BPY.G25 & WPV.BPR.G11\\\\\n",
       "  & <int> & <int> & <int> & <int> & <int> & <int> & <int> & <int> & <int> & <int> & ⋯ & <int> & <int> & <int> & <int> & <int> & <int> & <int> & <int> & <int> & <int>\\\\\n",
       "\\hline\n",
       "\tLOC111120752 &   2 &   2 &   0 &   0 &   2 &   0 &   0 &   0 &   1 &   0 & ⋯ &   0 &   0 &  0 &   0 &   1 &   0 &   0 &  1 &   1 &  0\\\\\n",
       "\tLOC111109452 &   0 &   0 &   0 &   0 &   1 &   1 &  10 &  12 &   0 &   2 & ⋯ &   0 &   1 &  0 &   1 &   2 &  15 &   0 &  0 &   3 &  0\\\\\n",
       "\tLOC111124802 & 597 & 453 & 408 & 244 & 502 & 434 & 187 & 336 & 311 & 110 & ⋯ & 122 & 120 & 57 & 289 & 202 & 168 & 134 & 86 & 252 &  9\\\\\n",
       "\tLOC111101273 & 173 & 146 & 115 &  75 & 171 & 158 &  64 & 115 & 137 &  45 & ⋯ &  43 &  45 & 18 &  87 &  81 &  71 &  52 & 38 &  73 &  1\\\\\n",
       "\tLOC111101250 & 253 & 255 & 257 & 118 & 327 & 269 & 115 & 141 & 184 &  49 & ⋯ &  91 &  96 & 24 & 254 & 109 &  92 &  49 &  5 & 101 &  2\\\\\n",
       "\tLOC111101262 & 645 & 634 & 502 & 364 & 647 & 677 & 246 & 389 & 355 & 108 & ⋯ & 184 & 146 & 52 & 387 & 251 & 188 & 131 & 78 & 283 & 12\\\\\n",
       "\\end{tabular}\n"
      ],
      "text/markdown": [
       "\n",
       "A data.frame: 6 × 30\n",
       "\n",
       "| <!--/--> | BBB.WBO.B21 &lt;int&gt; | BBB.WBV.B70 &lt;int&gt; | BBO.BBO.B16 &lt;int&gt; | BBO.BBY.B27 &lt;int&gt; | BBO.WBO.B16 &lt;int&gt; | BBO.WBV.B64 &lt;int&gt; | BBR.BBB.B50 &lt;int&gt; | BBR.BBG.B38 &lt;int&gt; | BBR.BBY.B26 &lt;int&gt; | BBY.WBG.B42 &lt;int&gt; | ⋯ ⋯ | WBR.BBY.W25 &lt;int&gt; | WBV.WBO.W23 &lt;int&gt; | WBV.WBR.W12 &lt;int&gt; | WBY.BBV.W65 &lt;int&gt; | WBY.BBY.W30 &lt;int&gt; | WPB.BPG.G45 &lt;int&gt; | WPO.BPO.G16 &lt;int&gt; | WPO.BPY.G28 &lt;int&gt; | WPR.BPY.G25 &lt;int&gt; | WPV.BPR.G11 &lt;int&gt; |\n",
       "|---|---|---|---|---|---|---|---|---|---|---|---|---|---|---|---|---|---|---|---|---|---|\n",
       "| LOC111120752 |   2 |   2 |   0 |   0 |   2 |   0 |   0 |   0 |   1 |   0 | ⋯ |   0 |   0 |  0 |   0 |   1 |   0 |   0 |  1 |   1 |  0 |\n",
       "| LOC111109452 |   0 |   0 |   0 |   0 |   1 |   1 |  10 |  12 |   0 |   2 | ⋯ |   0 |   1 |  0 |   1 |   2 |  15 |   0 |  0 |   3 |  0 |\n",
       "| LOC111124802 | 597 | 453 | 408 | 244 | 502 | 434 | 187 | 336 | 311 | 110 | ⋯ | 122 | 120 | 57 | 289 | 202 | 168 | 134 | 86 | 252 |  9 |\n",
       "| LOC111101273 | 173 | 146 | 115 |  75 | 171 | 158 |  64 | 115 | 137 |  45 | ⋯ |  43 |  45 | 18 |  87 |  81 |  71 |  52 | 38 |  73 |  1 |\n",
       "| LOC111101250 | 253 | 255 | 257 | 118 | 327 | 269 | 115 | 141 | 184 |  49 | ⋯ |  91 |  96 | 24 | 254 | 109 |  92 |  49 |  5 | 101 |  2 |\n",
       "| LOC111101262 | 645 | 634 | 502 | 364 | 647 | 677 | 246 | 389 | 355 | 108 | ⋯ | 184 | 146 | 52 | 387 | 251 | 188 | 131 | 78 | 283 | 12 |\n",
       "\n"
      ],
      "text/plain": [
       "             BBB.WBO.B21 BBB.WBV.B70 BBO.BBO.B16 BBO.BBY.B27 BBO.WBO.B16\n",
       "LOC111120752   2           2           0           0           2        \n",
       "LOC111109452   0           0           0           0           1        \n",
       "LOC111124802 597         453         408         244         502        \n",
       "LOC111101273 173         146         115          75         171        \n",
       "LOC111101250 253         255         257         118         327        \n",
       "LOC111101262 645         634         502         364         647        \n",
       "             BBO.WBV.B64 BBR.BBB.B50 BBR.BBG.B38 BBR.BBY.B26 BBY.WBG.B42 ⋯\n",
       "LOC111120752   0           0           0           1           0         ⋯\n",
       "LOC111109452   1          10          12           0           2         ⋯\n",
       "LOC111124802 434         187         336         311         110         ⋯\n",
       "LOC111101273 158          64         115         137          45         ⋯\n",
       "LOC111101250 269         115         141         184          49         ⋯\n",
       "LOC111101262 677         246         389         355         108         ⋯\n",
       "             WBR.BBY.W25 WBV.WBO.W23 WBV.WBR.W12 WBY.BBV.W65 WBY.BBY.W30\n",
       "LOC111120752   0           0          0            0           1        \n",
       "LOC111109452   0           1          0            1           2        \n",
       "LOC111124802 122         120         57          289         202        \n",
       "LOC111101273  43          45         18           87          81        \n",
       "LOC111101250  91          96         24          254         109        \n",
       "LOC111101262 184         146         52          387         251        \n",
       "             WPB.BPG.G45 WPO.BPO.G16 WPO.BPY.G28 WPR.BPY.G25 WPV.BPR.G11\n",
       "LOC111120752   0           0          1            1          0         \n",
       "LOC111109452  15           0          0            3          0         \n",
       "LOC111124802 168         134         86          252          9         \n",
       "LOC111101273  71          52         38           73          1         \n",
       "LOC111101250  92          49          5          101          2         \n",
       "LOC111101262 188         131         78          283         12         "
      ]
     },
     "metadata": {},
     "output_type": "display_data"
    }
   ],
   "source": [
    "# setting genees as row names\n",
    "rownames(counts_matrix) = counts_matrix$X\n",
    "\n",
    "# removing gene column (since now are rownames)\n",
    "counts_matrix2 <- counts_matrix[,-1]\n",
    "head(counts_matrix2)"
   ]
  },
  {
   "cell_type": "code",
   "execution_count": 44,
   "id": "ec4b2047-9bde-4cee-9703-59b775a35b1a",
   "metadata": {},
   "outputs": [
    {
     "data": {
      "text/html": [
       "<style>\n",
       ".list-inline {list-style: none; margin:0; padding: 0}\n",
       ".list-inline>li {display: inline-block}\n",
       ".list-inline>li:not(:last-child)::after {content: \"\\00b7\"; padding: 0 .5ex}\n",
       "</style>\n",
       "<ol class=list-inline><li>'BBB-WBO-B21'</li><li>'BBB-WBV-B70'</li><li>'BBO-BBO-B16'</li><li>'BBO-BBY-B27'</li><li>'BBO-WBO-B16'</li><li>'BBO-WBV-B64'</li></ol>\n"
      ],
      "text/latex": [
       "\\begin{enumerate*}\n",
       "\\item 'BBB-WBO-B21'\n",
       "\\item 'BBB-WBV-B70'\n",
       "\\item 'BBO-BBO-B16'\n",
       "\\item 'BBO-BBY-B27'\n",
       "\\item 'BBO-WBO-B16'\n",
       "\\item 'BBO-WBV-B64'\n",
       "\\end{enumerate*}\n"
      ],
      "text/markdown": [
       "1. 'BBB-WBO-B21'\n",
       "2. 'BBB-WBV-B70'\n",
       "3. 'BBO-BBO-B16'\n",
       "4. 'BBO-BBY-B27'\n",
       "5. 'BBO-WBO-B16'\n",
       "6. 'BBO-WBV-B64'\n",
       "\n",
       "\n"
      ],
      "text/plain": [
       "[1] \"BBB-WBO-B21\" \"BBB-WBV-B70\" \"BBO-BBO-B16\" \"BBO-BBY-B27\" \"BBO-WBO-B16\"\n",
       "[6] \"BBO-WBV-B64\""
      ]
     },
     "metadata": {},
     "output_type": "display_data"
    },
    {
     "data": {
      "text/html": [
       "<table class=\"dataframe\">\n",
       "<caption>A data.frame: 6 × 30</caption>\n",
       "<thead>\n",
       "\t<tr><th></th><th scope=col>BBB-WBO-B21</th><th scope=col>BBB-WBV-B70</th><th scope=col>BBO-BBO-B16</th><th scope=col>BBO-BBY-B27</th><th scope=col>BBO-WBO-B16</th><th scope=col>BBO-WBV-B64</th><th scope=col>BBR-BBB-B50</th><th scope=col>BBR-BBG-B38</th><th scope=col>BBR-BBY-B26</th><th scope=col>BBY-WBG-B42</th><th scope=col>⋯</th><th scope=col>WBR-BBY-W25</th><th scope=col>WBV-WBO-W23</th><th scope=col>WBV-WBR-W12</th><th scope=col>WBY-BBV-W65</th><th scope=col>WBY-BBY-W30</th><th scope=col>WPB-BPG-G45</th><th scope=col>WPO-BPO-G16</th><th scope=col>WPO-BPY-G28</th><th scope=col>WPR-BPY-G25</th><th scope=col>WPV-BPR-G11</th></tr>\n",
       "\t<tr><th></th><th scope=col>&lt;int&gt;</th><th scope=col>&lt;int&gt;</th><th scope=col>&lt;int&gt;</th><th scope=col>&lt;int&gt;</th><th scope=col>&lt;int&gt;</th><th scope=col>&lt;int&gt;</th><th scope=col>&lt;int&gt;</th><th scope=col>&lt;int&gt;</th><th scope=col>&lt;int&gt;</th><th scope=col>&lt;int&gt;</th><th scope=col>⋯</th><th scope=col>&lt;int&gt;</th><th scope=col>&lt;int&gt;</th><th scope=col>&lt;int&gt;</th><th scope=col>&lt;int&gt;</th><th scope=col>&lt;int&gt;</th><th scope=col>&lt;int&gt;</th><th scope=col>&lt;int&gt;</th><th scope=col>&lt;int&gt;</th><th scope=col>&lt;int&gt;</th><th scope=col>&lt;int&gt;</th></tr>\n",
       "</thead>\n",
       "<tbody>\n",
       "\t<tr><th scope=row>LOC111120752</th><td>  2</td><td>  2</td><td>  0</td><td>  0</td><td>  2</td><td>  0</td><td>  0</td><td>  0</td><td>  1</td><td>  0</td><td>⋯</td><td>  0</td><td>  0</td><td> 0</td><td>  0</td><td>  1</td><td>  0</td><td>  0</td><td> 1</td><td>  1</td><td> 0</td></tr>\n",
       "\t<tr><th scope=row>LOC111109452</th><td>  0</td><td>  0</td><td>  0</td><td>  0</td><td>  1</td><td>  1</td><td> 10</td><td> 12</td><td>  0</td><td>  2</td><td>⋯</td><td>  0</td><td>  1</td><td> 0</td><td>  1</td><td>  2</td><td> 15</td><td>  0</td><td> 0</td><td>  3</td><td> 0</td></tr>\n",
       "\t<tr><th scope=row>LOC111124802</th><td>597</td><td>453</td><td>408</td><td>244</td><td>502</td><td>434</td><td>187</td><td>336</td><td>311</td><td>110</td><td>⋯</td><td>122</td><td>120</td><td>57</td><td>289</td><td>202</td><td>168</td><td>134</td><td>86</td><td>252</td><td> 9</td></tr>\n",
       "\t<tr><th scope=row>LOC111101273</th><td>173</td><td>146</td><td>115</td><td> 75</td><td>171</td><td>158</td><td> 64</td><td>115</td><td>137</td><td> 45</td><td>⋯</td><td> 43</td><td> 45</td><td>18</td><td> 87</td><td> 81</td><td> 71</td><td> 52</td><td>38</td><td> 73</td><td> 1</td></tr>\n",
       "\t<tr><th scope=row>LOC111101250</th><td>253</td><td>255</td><td>257</td><td>118</td><td>327</td><td>269</td><td>115</td><td>141</td><td>184</td><td> 49</td><td>⋯</td><td> 91</td><td> 96</td><td>24</td><td>254</td><td>109</td><td> 92</td><td> 49</td><td> 5</td><td>101</td><td> 2</td></tr>\n",
       "\t<tr><th scope=row>LOC111101262</th><td>645</td><td>634</td><td>502</td><td>364</td><td>647</td><td>677</td><td>246</td><td>389</td><td>355</td><td>108</td><td>⋯</td><td>184</td><td>146</td><td>52</td><td>387</td><td>251</td><td>188</td><td>131</td><td>78</td><td>283</td><td>12</td></tr>\n",
       "</tbody>\n",
       "</table>\n"
      ],
      "text/latex": [
       "A data.frame: 6 × 30\n",
       "\\begin{tabular}{r|lllllllllllllllllllll}\n",
       "  & BBB-WBO-B21 & BBB-WBV-B70 & BBO-BBO-B16 & BBO-BBY-B27 & BBO-WBO-B16 & BBO-WBV-B64 & BBR-BBB-B50 & BBR-BBG-B38 & BBR-BBY-B26 & BBY-WBG-B42 & ⋯ & WBR-BBY-W25 & WBV-WBO-W23 & WBV-WBR-W12 & WBY-BBV-W65 & WBY-BBY-W30 & WPB-BPG-G45 & WPO-BPO-G16 & WPO-BPY-G28 & WPR-BPY-G25 & WPV-BPR-G11\\\\\n",
       "  & <int> & <int> & <int> & <int> & <int> & <int> & <int> & <int> & <int> & <int> & ⋯ & <int> & <int> & <int> & <int> & <int> & <int> & <int> & <int> & <int> & <int>\\\\\n",
       "\\hline\n",
       "\tLOC111120752 &   2 &   2 &   0 &   0 &   2 &   0 &   0 &   0 &   1 &   0 & ⋯ &   0 &   0 &  0 &   0 &   1 &   0 &   0 &  1 &   1 &  0\\\\\n",
       "\tLOC111109452 &   0 &   0 &   0 &   0 &   1 &   1 &  10 &  12 &   0 &   2 & ⋯ &   0 &   1 &  0 &   1 &   2 &  15 &   0 &  0 &   3 &  0\\\\\n",
       "\tLOC111124802 & 597 & 453 & 408 & 244 & 502 & 434 & 187 & 336 & 311 & 110 & ⋯ & 122 & 120 & 57 & 289 & 202 & 168 & 134 & 86 & 252 &  9\\\\\n",
       "\tLOC111101273 & 173 & 146 & 115 &  75 & 171 & 158 &  64 & 115 & 137 &  45 & ⋯ &  43 &  45 & 18 &  87 &  81 &  71 &  52 & 38 &  73 &  1\\\\\n",
       "\tLOC111101250 & 253 & 255 & 257 & 118 & 327 & 269 & 115 & 141 & 184 &  49 & ⋯ &  91 &  96 & 24 & 254 & 109 &  92 &  49 &  5 & 101 &  2\\\\\n",
       "\tLOC111101262 & 645 & 634 & 502 & 364 & 647 & 677 & 246 & 389 & 355 & 108 & ⋯ & 184 & 146 & 52 & 387 & 251 & 188 & 131 & 78 & 283 & 12\\\\\n",
       "\\end{tabular}\n"
      ],
      "text/markdown": [
       "\n",
       "A data.frame: 6 × 30\n",
       "\n",
       "| <!--/--> | BBB-WBO-B21 &lt;int&gt; | BBB-WBV-B70 &lt;int&gt; | BBO-BBO-B16 &lt;int&gt; | BBO-BBY-B27 &lt;int&gt; | BBO-WBO-B16 &lt;int&gt; | BBO-WBV-B64 &lt;int&gt; | BBR-BBB-B50 &lt;int&gt; | BBR-BBG-B38 &lt;int&gt; | BBR-BBY-B26 &lt;int&gt; | BBY-WBG-B42 &lt;int&gt; | ⋯ ⋯ | WBR-BBY-W25 &lt;int&gt; | WBV-WBO-W23 &lt;int&gt; | WBV-WBR-W12 &lt;int&gt; | WBY-BBV-W65 &lt;int&gt; | WBY-BBY-W30 &lt;int&gt; | WPB-BPG-G45 &lt;int&gt; | WPO-BPO-G16 &lt;int&gt; | WPO-BPY-G28 &lt;int&gt; | WPR-BPY-G25 &lt;int&gt; | WPV-BPR-G11 &lt;int&gt; |\n",
       "|---|---|---|---|---|---|---|---|---|---|---|---|---|---|---|---|---|---|---|---|---|---|\n",
       "| LOC111120752 |   2 |   2 |   0 |   0 |   2 |   0 |   0 |   0 |   1 |   0 | ⋯ |   0 |   0 |  0 |   0 |   1 |   0 |   0 |  1 |   1 |  0 |\n",
       "| LOC111109452 |   0 |   0 |   0 |   0 |   1 |   1 |  10 |  12 |   0 |   2 | ⋯ |   0 |   1 |  0 |   1 |   2 |  15 |   0 |  0 |   3 |  0 |\n",
       "| LOC111124802 | 597 | 453 | 408 | 244 | 502 | 434 | 187 | 336 | 311 | 110 | ⋯ | 122 | 120 | 57 | 289 | 202 | 168 | 134 | 86 | 252 |  9 |\n",
       "| LOC111101273 | 173 | 146 | 115 |  75 | 171 | 158 |  64 | 115 | 137 |  45 | ⋯ |  43 |  45 | 18 |  87 |  81 |  71 |  52 | 38 |  73 |  1 |\n",
       "| LOC111101250 | 253 | 255 | 257 | 118 | 327 | 269 | 115 | 141 | 184 |  49 | ⋯ |  91 |  96 | 24 | 254 | 109 |  92 |  49 |  5 | 101 |  2 |\n",
       "| LOC111101262 | 645 | 634 | 502 | 364 | 647 | 677 | 246 | 389 | 355 | 108 | ⋯ | 184 | 146 | 52 | 387 | 251 | 188 | 131 | 78 | 283 | 12 |\n",
       "\n"
      ],
      "text/plain": [
       "             BBB-WBO-B21 BBB-WBV-B70 BBO-BBO-B16 BBO-BBY-B27 BBO-WBO-B16\n",
       "LOC111120752   2           2           0           0           2        \n",
       "LOC111109452   0           0           0           0           1        \n",
       "LOC111124802 597         453         408         244         502        \n",
       "LOC111101273 173         146         115          75         171        \n",
       "LOC111101250 253         255         257         118         327        \n",
       "LOC111101262 645         634         502         364         647        \n",
       "             BBO-WBV-B64 BBR-BBB-B50 BBR-BBG-B38 BBR-BBY-B26 BBY-WBG-B42 ⋯\n",
       "LOC111120752   0           0           0           1           0         ⋯\n",
       "LOC111109452   1          10          12           0           2         ⋯\n",
       "LOC111124802 434         187         336         311         110         ⋯\n",
       "LOC111101273 158          64         115         137          45         ⋯\n",
       "LOC111101250 269         115         141         184          49         ⋯\n",
       "LOC111101262 677         246         389         355         108         ⋯\n",
       "             WBR-BBY-W25 WBV-WBO-W23 WBV-WBR-W12 WBY-BBV-W65 WBY-BBY-W30\n",
       "LOC111120752   0           0          0            0           1        \n",
       "LOC111109452   0           1          0            1           2        \n",
       "LOC111124802 122         120         57          289         202        \n",
       "LOC111101273  43          45         18           87          81        \n",
       "LOC111101250  91          96         24          254         109        \n",
       "LOC111101262 184         146         52          387         251        \n",
       "             WPB-BPG-G45 WPO-BPO-G16 WPO-BPY-G28 WPR-BPY-G25 WPV-BPR-G11\n",
       "LOC111120752   0           0          1            1          0         \n",
       "LOC111109452  15           0          0            3          0         \n",
       "LOC111124802 168         134         86          252          9         \n",
       "LOC111101273  71          52         38           73          1         \n",
       "LOC111101250  92          49          5          101          2         \n",
       "LOC111101262 188         131         78          283         12         "
      ]
     },
     "metadata": {},
     "output_type": "display_data"
    }
   ],
   "source": [
    "# replace the '.' with '-'\n",
    "cleaned_column_names2 <- gsub('\\\\.', \"-\", colnames(counts_matrix2))\n",
    "head(cleaned_column_names2)\n",
    "\n",
    "# now assigning to the columns\n",
    "colnames(counts_matrix2) = cleaned_column_names2\n",
    "head(counts_matrix2)"
   ]
  },
  {
   "cell_type": "code",
   "execution_count": 45,
   "id": "a384a461-3538-4840-a075-883139a60ab5",
   "metadata": {},
   "outputs": [
    {
     "data": {
      "text/html": [
       "<style>\n",
       ".list-inline {list-style: none; margin:0; padding: 0}\n",
       ".list-inline>li {display: inline-block}\n",
       ".list-inline>li:not(:last-child)::after {content: \"\\00b7\"; padding: 0 .5ex}\n",
       "</style>\n",
       "<ol class=list-inline><li>5776</li><li>30</li></ol>\n"
      ],
      "text/latex": [
       "\\begin{enumerate*}\n",
       "\\item 5776\n",
       "\\item 30\n",
       "\\end{enumerate*}\n"
      ],
      "text/markdown": [
       "1. 5776\n",
       "2. 30\n",
       "\n",
       "\n"
      ],
      "text/plain": [
       "[1] 5776   30"
      ]
     },
     "metadata": {},
     "output_type": "display_data"
    },
    {
     "data": {
      "text/html": [
       "<table class=\"dataframe\">\n",
       "<caption>A data.frame: 6 × 30</caption>\n",
       "<thead>\n",
       "\t<tr><th></th><th scope=col>BBB-WBO-B21</th><th scope=col>BBB-WBV-B70</th><th scope=col>BBO-BBO-B16</th><th scope=col>BBO-BBY-B27</th><th scope=col>BBO-WBO-B16</th><th scope=col>BBO-WBV-B64</th><th scope=col>BBR-BBB-B50</th><th scope=col>BBR-BBG-B38</th><th scope=col>BBR-BBY-B26</th><th scope=col>BBY-WBG-B42</th><th scope=col>⋯</th><th scope=col>WBR-BBY-W25</th><th scope=col>WBV-WBO-W23</th><th scope=col>WBV-WBR-W12</th><th scope=col>WBY-BBV-W65</th><th scope=col>WBY-BBY-W30</th><th scope=col>WPB-BPG-G45</th><th scope=col>WPO-BPO-G16</th><th scope=col>WPO-BPY-G28</th><th scope=col>WPR-BPY-G25</th><th scope=col>WPV-BPR-G11</th></tr>\n",
       "\t<tr><th></th><th scope=col>&lt;int&gt;</th><th scope=col>&lt;int&gt;</th><th scope=col>&lt;int&gt;</th><th scope=col>&lt;int&gt;</th><th scope=col>&lt;int&gt;</th><th scope=col>&lt;int&gt;</th><th scope=col>&lt;int&gt;</th><th scope=col>&lt;int&gt;</th><th scope=col>&lt;int&gt;</th><th scope=col>&lt;int&gt;</th><th scope=col>⋯</th><th scope=col>&lt;int&gt;</th><th scope=col>&lt;int&gt;</th><th scope=col>&lt;int&gt;</th><th scope=col>&lt;int&gt;</th><th scope=col>&lt;int&gt;</th><th scope=col>&lt;int&gt;</th><th scope=col>&lt;int&gt;</th><th scope=col>&lt;int&gt;</th><th scope=col>&lt;int&gt;</th><th scope=col>&lt;int&gt;</th></tr>\n",
       "</thead>\n",
       "<tbody>\n",
       "\t<tr><th scope=row>LOC111120752</th><td> 2</td><td> 2</td><td> 0</td><td> 0</td><td> 2</td><td> 0</td><td> 0</td><td> 0</td><td> 1</td><td> 0</td><td>⋯</td><td> 0</td><td>0</td><td> 0</td><td> 0</td><td> 1</td><td> 0</td><td> 0</td><td>1</td><td> 1</td><td> 0</td></tr>\n",
       "\t<tr><th scope=row>LOC111109452</th><td> 0</td><td> 0</td><td> 0</td><td> 0</td><td> 1</td><td> 1</td><td>10</td><td>12</td><td> 0</td><td> 2</td><td>⋯</td><td> 0</td><td>1</td><td> 0</td><td> 1</td><td> 2</td><td>15</td><td> 0</td><td>0</td><td> 3</td><td> 0</td></tr>\n",
       "\t<tr><th scope=row>LOC111102393</th><td>73</td><td>54</td><td>36</td><td>12</td><td>48</td><td>48</td><td>30</td><td>49</td><td>31</td><td>14</td><td>⋯</td><td>20</td><td>9</td><td>10</td><td>24</td><td>17</td><td>36</td><td>14</td><td>3</td><td>26</td><td>41</td></tr>\n",
       "\t<tr><th scope=row>LOC111117743</th><td> 7</td><td> 3</td><td> 0</td><td> 1</td><td> 7</td><td> 3</td><td> 2</td><td> 4</td><td> 0</td><td> 1</td><td>⋯</td><td> 0</td><td>0</td><td> 0</td><td> 4</td><td> 1</td><td> 0</td><td>39</td><td>0</td><td> 0</td><td> 0</td></tr>\n",
       "\t<tr><th scope=row>LOC111109809</th><td> 0</td><td> 0</td><td> 7</td><td> 6</td><td> 0</td><td> 0</td><td> 5</td><td> 7</td><td> 8</td><td> 0</td><td>⋯</td><td> 1</td><td>3</td><td> 1</td><td> 2</td><td> 4</td><td> 1</td><td> 4</td><td>1</td><td> 0</td><td> 2</td></tr>\n",
       "\t<tr><th scope=row>LOC111135172</th><td> 0</td><td> 0</td><td> 0</td><td> 0</td><td> 0</td><td> 1</td><td> 0</td><td> 0</td><td> 1</td><td> 0</td><td>⋯</td><td> 0</td><td>0</td><td> 0</td><td> 0</td><td> 0</td><td> 0</td><td> 0</td><td>0</td><td> 1</td><td> 0</td></tr>\n",
       "</tbody>\n",
       "</table>\n"
      ],
      "text/latex": [
       "A data.frame: 6 × 30\n",
       "\\begin{tabular}{r|lllllllllllllllllllll}\n",
       "  & BBB-WBO-B21 & BBB-WBV-B70 & BBO-BBO-B16 & BBO-BBY-B27 & BBO-WBO-B16 & BBO-WBV-B64 & BBR-BBB-B50 & BBR-BBG-B38 & BBR-BBY-B26 & BBY-WBG-B42 & ⋯ & WBR-BBY-W25 & WBV-WBO-W23 & WBV-WBR-W12 & WBY-BBV-W65 & WBY-BBY-W30 & WPB-BPG-G45 & WPO-BPO-G16 & WPO-BPY-G28 & WPR-BPY-G25 & WPV-BPR-G11\\\\\n",
       "  & <int> & <int> & <int> & <int> & <int> & <int> & <int> & <int> & <int> & <int> & ⋯ & <int> & <int> & <int> & <int> & <int> & <int> & <int> & <int> & <int> & <int>\\\\\n",
       "\\hline\n",
       "\tLOC111120752 &  2 &  2 &  0 &  0 &  2 &  0 &  0 &  0 &  1 &  0 & ⋯ &  0 & 0 &  0 &  0 &  1 &  0 &  0 & 1 &  1 &  0\\\\\n",
       "\tLOC111109452 &  0 &  0 &  0 &  0 &  1 &  1 & 10 & 12 &  0 &  2 & ⋯ &  0 & 1 &  0 &  1 &  2 & 15 &  0 & 0 &  3 &  0\\\\\n",
       "\tLOC111102393 & 73 & 54 & 36 & 12 & 48 & 48 & 30 & 49 & 31 & 14 & ⋯ & 20 & 9 & 10 & 24 & 17 & 36 & 14 & 3 & 26 & 41\\\\\n",
       "\tLOC111117743 &  7 &  3 &  0 &  1 &  7 &  3 &  2 &  4 &  0 &  1 & ⋯ &  0 & 0 &  0 &  4 &  1 &  0 & 39 & 0 &  0 &  0\\\\\n",
       "\tLOC111109809 &  0 &  0 &  7 &  6 &  0 &  0 &  5 &  7 &  8 &  0 & ⋯ &  1 & 3 &  1 &  2 &  4 &  1 &  4 & 1 &  0 &  2\\\\\n",
       "\tLOC111135172 &  0 &  0 &  0 &  0 &  0 &  1 &  0 &  0 &  1 &  0 & ⋯ &  0 & 0 &  0 &  0 &  0 &  0 &  0 & 0 &  1 &  0\\\\\n",
       "\\end{tabular}\n"
      ],
      "text/markdown": [
       "\n",
       "A data.frame: 6 × 30\n",
       "\n",
       "| <!--/--> | BBB-WBO-B21 &lt;int&gt; | BBB-WBV-B70 &lt;int&gt; | BBO-BBO-B16 &lt;int&gt; | BBO-BBY-B27 &lt;int&gt; | BBO-WBO-B16 &lt;int&gt; | BBO-WBV-B64 &lt;int&gt; | BBR-BBB-B50 &lt;int&gt; | BBR-BBG-B38 &lt;int&gt; | BBR-BBY-B26 &lt;int&gt; | BBY-WBG-B42 &lt;int&gt; | ⋯ ⋯ | WBR-BBY-W25 &lt;int&gt; | WBV-WBO-W23 &lt;int&gt; | WBV-WBR-W12 &lt;int&gt; | WBY-BBV-W65 &lt;int&gt; | WBY-BBY-W30 &lt;int&gt; | WPB-BPG-G45 &lt;int&gt; | WPO-BPO-G16 &lt;int&gt; | WPO-BPY-G28 &lt;int&gt; | WPR-BPY-G25 &lt;int&gt; | WPV-BPR-G11 &lt;int&gt; |\n",
       "|---|---|---|---|---|---|---|---|---|---|---|---|---|---|---|---|---|---|---|---|---|---|\n",
       "| LOC111120752 |  2 |  2 |  0 |  0 |  2 |  0 |  0 |  0 |  1 |  0 | ⋯ |  0 | 0 |  0 |  0 |  1 |  0 |  0 | 1 |  1 |  0 |\n",
       "| LOC111109452 |  0 |  0 |  0 |  0 |  1 |  1 | 10 | 12 |  0 |  2 | ⋯ |  0 | 1 |  0 |  1 |  2 | 15 |  0 | 0 |  3 |  0 |\n",
       "| LOC111102393 | 73 | 54 | 36 | 12 | 48 | 48 | 30 | 49 | 31 | 14 | ⋯ | 20 | 9 | 10 | 24 | 17 | 36 | 14 | 3 | 26 | 41 |\n",
       "| LOC111117743 |  7 |  3 |  0 |  1 |  7 |  3 |  2 |  4 |  0 |  1 | ⋯ |  0 | 0 |  0 |  4 |  1 |  0 | 39 | 0 |  0 |  0 |\n",
       "| LOC111109809 |  0 |  0 |  7 |  6 |  0 |  0 |  5 |  7 |  8 |  0 | ⋯ |  1 | 3 |  1 |  2 |  4 |  1 |  4 | 1 |  0 |  2 |\n",
       "| LOC111135172 |  0 |  0 |  0 |  0 |  0 |  1 |  0 |  0 |  1 |  0 | ⋯ |  0 | 0 |  0 |  0 |  0 |  0 |  0 | 0 |  1 |  0 |\n",
       "\n"
      ],
      "text/plain": [
       "             BBB-WBO-B21 BBB-WBV-B70 BBO-BBO-B16 BBO-BBY-B27 BBO-WBO-B16\n",
       "LOC111120752  2           2           0           0           2         \n",
       "LOC111109452  0           0           0           0           1         \n",
       "LOC111102393 73          54          36          12          48         \n",
       "LOC111117743  7           3           0           1           7         \n",
       "LOC111109809  0           0           7           6           0         \n",
       "LOC111135172  0           0           0           0           0         \n",
       "             BBO-WBV-B64 BBR-BBB-B50 BBR-BBG-B38 BBR-BBY-B26 BBY-WBG-B42 ⋯\n",
       "LOC111120752  0           0           0           1           0          ⋯\n",
       "LOC111109452  1          10          12           0           2          ⋯\n",
       "LOC111102393 48          30          49          31          14          ⋯\n",
       "LOC111117743  3           2           4           0           1          ⋯\n",
       "LOC111109809  0           5           7           8           0          ⋯\n",
       "LOC111135172  1           0           0           1           0          ⋯\n",
       "             WBR-BBY-W25 WBV-WBO-W23 WBV-WBR-W12 WBY-BBV-W65 WBY-BBY-W30\n",
       "LOC111120752  0          0            0           0           1         \n",
       "LOC111109452  0          1            0           1           2         \n",
       "LOC111102393 20          9           10          24          17         \n",
       "LOC111117743  0          0            0           4           1         \n",
       "LOC111109809  1          3            1           2           4         \n",
       "LOC111135172  0          0            0           0           0         \n",
       "             WPB-BPG-G45 WPO-BPO-G16 WPO-BPY-G28 WPR-BPY-G25 WPV-BPR-G11\n",
       "LOC111120752  0           0          1            1           0         \n",
       "LOC111109452 15           0          0            3           0         \n",
       "LOC111102393 36          14          3           26          41         \n",
       "LOC111117743  0          39          0            0           0         \n",
       "LOC111109809  1           4          1            0           2         \n",
       "LOC111135172  0           0          0            1           0         "
      ]
     },
     "metadata": {},
     "output_type": "display_data"
    }
   ],
   "source": [
    "# creating new df of counts matrix of genes with NA for padj\n",
    "counts_na <- counts_matrix2[rownames(counts_matrix2) %in% genes_w_na$X,]\n",
    "dim(counts_na) # 5,776 genes \n",
    "head(counts_na)"
   ]
  },
  {
   "cell_type": "markdown",
   "id": "3fc7f438-456e-455d-8a4c-71b96f17e727",
   "metadata": {},
   "source": [
    "also need to load in meta data so that I can pull out the right columns aka samples that were warm or control for phase 1"
   ]
  },
  {
   "cell_type": "code",
   "execution_count": 46,
   "id": "77247d8f-1740-455f-aa7a-d638c95952dd",
   "metadata": {},
   "outputs": [
    {
     "data": {
      "text/html": [
       "<table class=\"dataframe\">\n",
       "<caption>A data.frame: 6 × 13</caption>\n",
       "<thead>\n",
       "\t<tr><th></th><th scope=col>sample_ID</th><th scope=col>unique_ID</th><th scope=col>T1_code</th><th scope=col>T2_code</th><th scope=col>ID_code</th><th scope=col>T1_oxygen</th><th scope=col>T1_temp</th><th scope=col>Tank1</th><th scope=col>T2_oxygen</th><th scope=col>T2_temp</th><th scope=col>Tank2</th><th scope=col>Phase1</th><th scope=col>Phase2</th></tr>\n",
       "\t<tr><th></th><th scope=col>&lt;chr&gt;</th><th scope=col>&lt;chr&gt;</th><th scope=col>&lt;chr&gt;</th><th scope=col>&lt;chr&gt;</th><th scope=col>&lt;chr&gt;</th><th scope=col>&lt;chr&gt;</th><th scope=col>&lt;chr&gt;</th><th scope=col>&lt;chr&gt;</th><th scope=col>&lt;chr&gt;</th><th scope=col>&lt;chr&gt;</th><th scope=col>&lt;chr&gt;</th><th scope=col>&lt;chr&gt;</th><th scope=col>&lt;chr&gt;</th></tr>\n",
       "</thead>\n",
       "<tbody>\n",
       "\t<tr><th scope=row>1</th><td>2018--BBB-WBO-B21-CV</td><td>BBB-WBO-B21</td><td>BBB</td><td>WBO</td><td>B21</td><td>hypoxic</td><td>ambient</td><td>B</td><td>normoxic</td><td>ambient</td><td>O</td><td>hypoxic</td><td>control</td></tr>\n",
       "\t<tr><th scope=row>2</th><td>2018--BBB-WBV-B70-CV</td><td>BBB-WBV-B70</td><td>BBB</td><td>WBV</td><td>B70</td><td>hypoxic</td><td>ambient</td><td>B</td><td>normoxic</td><td>ambient</td><td>V</td><td>hypoxic</td><td>control</td></tr>\n",
       "\t<tr><th scope=row>3</th><td>2018--BBO-BBO-B16-CV</td><td>BBO-BBO-B16</td><td>BBO</td><td>BBO</td><td>B16</td><td>hypoxic</td><td>ambient</td><td>O</td><td>hypoxic </td><td>ambient</td><td>O</td><td>hypoxic</td><td>hypoxic</td></tr>\n",
       "\t<tr><th scope=row>4</th><td>2018--BBO-BBY-B27-CV</td><td>BBO-BBY-B27</td><td>BBO</td><td>BBY</td><td>B27</td><td>hypoxic</td><td>ambient</td><td>O</td><td>hypoxic </td><td>ambient</td><td>Y</td><td>hypoxic</td><td>hypoxic</td></tr>\n",
       "\t<tr><th scope=row>5</th><td>2018--BBO-WBO-B16-CV</td><td>BBO-WBO-B16</td><td>BBO</td><td>WBO</td><td>B16</td><td>hypoxic</td><td>ambient</td><td>O</td><td>normoxic</td><td>ambient</td><td>O</td><td>hypoxic</td><td>control</td></tr>\n",
       "\t<tr><th scope=row>6</th><td>2018--BBO-WBV-B64-CV</td><td>BBO-WBV-B64</td><td>BBO</td><td>WBV</td><td>B64</td><td>hypoxic</td><td>ambient</td><td>O</td><td>normoxic</td><td>ambient</td><td>V</td><td>hypoxic</td><td>control</td></tr>\n",
       "</tbody>\n",
       "</table>\n"
      ],
      "text/latex": [
       "A data.frame: 6 × 13\n",
       "\\begin{tabular}{r|lllllllllllll}\n",
       "  & sample\\_ID & unique\\_ID & T1\\_code & T2\\_code & ID\\_code & T1\\_oxygen & T1\\_temp & Tank1 & T2\\_oxygen & T2\\_temp & Tank2 & Phase1 & Phase2\\\\\n",
       "  & <chr> & <chr> & <chr> & <chr> & <chr> & <chr> & <chr> & <chr> & <chr> & <chr> & <chr> & <chr> & <chr>\\\\\n",
       "\\hline\n",
       "\t1 & 2018--BBB-WBO-B21-CV & BBB-WBO-B21 & BBB & WBO & B21 & hypoxic & ambient & B & normoxic & ambient & O & hypoxic & control\\\\\n",
       "\t2 & 2018--BBB-WBV-B70-CV & BBB-WBV-B70 & BBB & WBV & B70 & hypoxic & ambient & B & normoxic & ambient & V & hypoxic & control\\\\\n",
       "\t3 & 2018--BBO-BBO-B16-CV & BBO-BBO-B16 & BBO & BBO & B16 & hypoxic & ambient & O & hypoxic  & ambient & O & hypoxic & hypoxic\\\\\n",
       "\t4 & 2018--BBO-BBY-B27-CV & BBO-BBY-B27 & BBO & BBY & B27 & hypoxic & ambient & O & hypoxic  & ambient & Y & hypoxic & hypoxic\\\\\n",
       "\t5 & 2018--BBO-WBO-B16-CV & BBO-WBO-B16 & BBO & WBO & B16 & hypoxic & ambient & O & normoxic & ambient & O & hypoxic & control\\\\\n",
       "\t6 & 2018--BBO-WBV-B64-CV & BBO-WBV-B64 & BBO & WBV & B64 & hypoxic & ambient & O & normoxic & ambient & V & hypoxic & control\\\\\n",
       "\\end{tabular}\n"
      ],
      "text/markdown": [
       "\n",
       "A data.frame: 6 × 13\n",
       "\n",
       "| <!--/--> | sample_ID &lt;chr&gt; | unique_ID &lt;chr&gt; | T1_code &lt;chr&gt; | T2_code &lt;chr&gt; | ID_code &lt;chr&gt; | T1_oxygen &lt;chr&gt; | T1_temp &lt;chr&gt; | Tank1 &lt;chr&gt; | T2_oxygen &lt;chr&gt; | T2_temp &lt;chr&gt; | Tank2 &lt;chr&gt; | Phase1 &lt;chr&gt; | Phase2 &lt;chr&gt; |\n",
       "|---|---|---|---|---|---|---|---|---|---|---|---|---|---|\n",
       "| 1 | 2018--BBB-WBO-B21-CV | BBB-WBO-B21 | BBB | WBO | B21 | hypoxic | ambient | B | normoxic | ambient | O | hypoxic | control |\n",
       "| 2 | 2018--BBB-WBV-B70-CV | BBB-WBV-B70 | BBB | WBV | B70 | hypoxic | ambient | B | normoxic | ambient | V | hypoxic | control |\n",
       "| 3 | 2018--BBO-BBO-B16-CV | BBO-BBO-B16 | BBO | BBO | B16 | hypoxic | ambient | O | hypoxic  | ambient | O | hypoxic | hypoxic |\n",
       "| 4 | 2018--BBO-BBY-B27-CV | BBO-BBY-B27 | BBO | BBY | B27 | hypoxic | ambient | O | hypoxic  | ambient | Y | hypoxic | hypoxic |\n",
       "| 5 | 2018--BBO-WBO-B16-CV | BBO-WBO-B16 | BBO | WBO | B16 | hypoxic | ambient | O | normoxic | ambient | O | hypoxic | control |\n",
       "| 6 | 2018--BBO-WBV-B64-CV | BBO-WBV-B64 | BBO | WBV | B64 | hypoxic | ambient | O | normoxic | ambient | V | hypoxic | control |\n",
       "\n"
      ],
      "text/plain": [
       "  sample_ID            unique_ID   T1_code T2_code ID_code T1_oxygen T1_temp\n",
       "1 2018--BBB-WBO-B21-CV BBB-WBO-B21 BBB     WBO     B21     hypoxic   ambient\n",
       "2 2018--BBB-WBV-B70-CV BBB-WBV-B70 BBB     WBV     B70     hypoxic   ambient\n",
       "3 2018--BBO-BBO-B16-CV BBO-BBO-B16 BBO     BBO     B16     hypoxic   ambient\n",
       "4 2018--BBO-BBY-B27-CV BBO-BBY-B27 BBO     BBY     B27     hypoxic   ambient\n",
       "5 2018--BBO-WBO-B16-CV BBO-WBO-B16 BBO     WBO     B16     hypoxic   ambient\n",
       "6 2018--BBO-WBV-B64-CV BBO-WBV-B64 BBO     WBV     B64     hypoxic   ambient\n",
       "  Tank1 T2_oxygen T2_temp Tank2 Phase1  Phase2 \n",
       "1 B     normoxic  ambient O     hypoxic control\n",
       "2 B     normoxic  ambient V     hypoxic control\n",
       "3 O     hypoxic   ambient O     hypoxic hypoxic\n",
       "4 O     hypoxic   ambient Y     hypoxic hypoxic\n",
       "5 O     normoxic  ambient O     hypoxic control\n",
       "6 O     normoxic  ambient V     hypoxic control"
      ]
     },
     "metadata": {},
     "output_type": "display_data"
    }
   ],
   "source": [
    "meta <- read.csv('/project/pi_sarah_gignouxwolfsohn_uml_edu/julia/CE_MethylRAD_analysis_2018/analysis/counts_and_meta/CV_CE18_meta.csv')\n",
    "head(meta)"
   ]
  },
  {
   "cell_type": "markdown",
   "id": "726370fb-b8f3-41eb-84f5-987419f30fc4",
   "metadata": {},
   "source": [
    "pulling out only the samples that were either warm or control for phase 1 treatment (we're ignoring the effects of phase 2 for this analysis)"
   ]
  },
  {
   "cell_type": "code",
   "execution_count": 52,
   "id": "93c369ef-7885-4cc5-9566-a1b5892bd424",
   "metadata": {},
   "outputs": [
    {
     "data": {
      "text/html": [
       "<style>\n",
       ".list-inline {list-style: none; margin:0; padding: 0}\n",
       ".list-inline>li {display: inline-block}\n",
       ".list-inline>li:not(:last-child)::after {content: \"\\00b7\"; padding: 0 .5ex}\n",
       "</style>\n",
       "<ol class=list-inline><li>15</li><li>13</li></ol>\n"
      ],
      "text/latex": [
       "\\begin{enumerate*}\n",
       "\\item 15\n",
       "\\item 13\n",
       "\\end{enumerate*}\n"
      ],
      "text/markdown": [
       "1. 15\n",
       "2. 13\n",
       "\n",
       "\n"
      ],
      "text/plain": [
       "[1] 15 13"
      ]
     },
     "metadata": {},
     "output_type": "display_data"
    },
    {
     "data": {
      "text/html": [
       "<table class=\"dataframe\">\n",
       "<caption>A data.frame: 6 × 13</caption>\n",
       "<thead>\n",
       "\t<tr><th></th><th scope=col>sample_ID</th><th scope=col>unique_ID</th><th scope=col>T1_code</th><th scope=col>T2_code</th><th scope=col>ID_code</th><th scope=col>T1_oxygen</th><th scope=col>T1_temp</th><th scope=col>Tank1</th><th scope=col>T2_oxygen</th><th scope=col>T2_temp</th><th scope=col>Tank2</th><th scope=col>Phase1</th><th scope=col>Phase2</th></tr>\n",
       "\t<tr><th></th><th scope=col>&lt;chr&gt;</th><th scope=col>&lt;chr&gt;</th><th scope=col>&lt;chr&gt;</th><th scope=col>&lt;chr&gt;</th><th scope=col>&lt;chr&gt;</th><th scope=col>&lt;chr&gt;</th><th scope=col>&lt;chr&gt;</th><th scope=col>&lt;chr&gt;</th><th scope=col>&lt;chr&gt;</th><th scope=col>&lt;chr&gt;</th><th scope=col>&lt;chr&gt;</th><th scope=col>&lt;chr&gt;</th><th scope=col>&lt;chr&gt;</th></tr>\n",
       "</thead>\n",
       "<tbody>\n",
       "\t<tr><th scope=row>1</th><td>2018--WBB-WBV-W69-CV</td><td>WBB-WBV-W69</td><td>WBB</td><td>WBV</td><td>W69</td><td>normoxic</td><td>ambient</td><td>B</td><td>normoxic</td><td>ambient</td><td>V</td><td>control</td><td>control</td></tr>\n",
       "\t<tr><th scope=row>2</th><td>2018--WBG-BBB-W56-CV</td><td>WBG-BBB-W56</td><td>WBG</td><td>BBB</td><td>W56</td><td>normoxic</td><td>ambient</td><td>G</td><td>hypoxic </td><td>ambient</td><td>B</td><td>control</td><td>hypoxic</td></tr>\n",
       "\t<tr><th scope=row>3</th><td>2018--WBG-WBG-W44-CV</td><td>WBG-WBG-W44</td><td>WBG</td><td>WBG</td><td>W44</td><td>normoxic</td><td>ambient</td><td>G</td><td>normoxic</td><td>ambient</td><td>G</td><td>control</td><td>control</td></tr>\n",
       "\t<tr><th scope=row>4</th><td>2018--WBO-BBR-W03-CV</td><td>WBO-BBR-W03</td><td>WBO</td><td>BBR</td><td>W03</td><td>normoxic</td><td>ambient</td><td>O</td><td>hypoxic </td><td>ambient</td><td>R</td><td>control</td><td>hypoxic</td></tr>\n",
       "\t<tr><th scope=row>5</th><td>2018--WBO-WBV-W64-CV</td><td>WBO-WBV-W64</td><td>WBO</td><td>WBV</td><td>W64</td><td>normoxic</td><td>ambient</td><td>O</td><td>normoxic</td><td>ambient</td><td>V</td><td>control</td><td>control</td></tr>\n",
       "\t<tr><th scope=row>6</th><td>2018--WBR-BBY-W25-CV</td><td>WBR-BBY-W25</td><td>WBR</td><td>BBY</td><td>W25</td><td>normoxic</td><td>ambient</td><td>R</td><td>hypoxic </td><td>ambient</td><td>Y</td><td>control</td><td>hypoxic</td></tr>\n",
       "</tbody>\n",
       "</table>\n"
      ],
      "text/latex": [
       "A data.frame: 6 × 13\n",
       "\\begin{tabular}{r|lllllllllllll}\n",
       "  & sample\\_ID & unique\\_ID & T1\\_code & T2\\_code & ID\\_code & T1\\_oxygen & T1\\_temp & Tank1 & T2\\_oxygen & T2\\_temp & Tank2 & Phase1 & Phase2\\\\\n",
       "  & <chr> & <chr> & <chr> & <chr> & <chr> & <chr> & <chr> & <chr> & <chr> & <chr> & <chr> & <chr> & <chr>\\\\\n",
       "\\hline\n",
       "\t1 & 2018--WBB-WBV-W69-CV & WBB-WBV-W69 & WBB & WBV & W69 & normoxic & ambient & B & normoxic & ambient & V & control & control\\\\\n",
       "\t2 & 2018--WBG-BBB-W56-CV & WBG-BBB-W56 & WBG & BBB & W56 & normoxic & ambient & G & hypoxic  & ambient & B & control & hypoxic\\\\\n",
       "\t3 & 2018--WBG-WBG-W44-CV & WBG-WBG-W44 & WBG & WBG & W44 & normoxic & ambient & G & normoxic & ambient & G & control & control\\\\\n",
       "\t4 & 2018--WBO-BBR-W03-CV & WBO-BBR-W03 & WBO & BBR & W03 & normoxic & ambient & O & hypoxic  & ambient & R & control & hypoxic\\\\\n",
       "\t5 & 2018--WBO-WBV-W64-CV & WBO-WBV-W64 & WBO & WBV & W64 & normoxic & ambient & O & normoxic & ambient & V & control & control\\\\\n",
       "\t6 & 2018--WBR-BBY-W25-CV & WBR-BBY-W25 & WBR & BBY & W25 & normoxic & ambient & R & hypoxic  & ambient & Y & control & hypoxic\\\\\n",
       "\\end{tabular}\n"
      ],
      "text/markdown": [
       "\n",
       "A data.frame: 6 × 13\n",
       "\n",
       "| <!--/--> | sample_ID &lt;chr&gt; | unique_ID &lt;chr&gt; | T1_code &lt;chr&gt; | T2_code &lt;chr&gt; | ID_code &lt;chr&gt; | T1_oxygen &lt;chr&gt; | T1_temp &lt;chr&gt; | Tank1 &lt;chr&gt; | T2_oxygen &lt;chr&gt; | T2_temp &lt;chr&gt; | Tank2 &lt;chr&gt; | Phase1 &lt;chr&gt; | Phase2 &lt;chr&gt; |\n",
       "|---|---|---|---|---|---|---|---|---|---|---|---|---|---|\n",
       "| 1 | 2018--WBB-WBV-W69-CV | WBB-WBV-W69 | WBB | WBV | W69 | normoxic | ambient | B | normoxic | ambient | V | control | control |\n",
       "| 2 | 2018--WBG-BBB-W56-CV | WBG-BBB-W56 | WBG | BBB | W56 | normoxic | ambient | G | hypoxic  | ambient | B | control | hypoxic |\n",
       "| 3 | 2018--WBG-WBG-W44-CV | WBG-WBG-W44 | WBG | WBG | W44 | normoxic | ambient | G | normoxic | ambient | G | control | control |\n",
       "| 4 | 2018--WBO-BBR-W03-CV | WBO-BBR-W03 | WBO | BBR | W03 | normoxic | ambient | O | hypoxic  | ambient | R | control | hypoxic |\n",
       "| 5 | 2018--WBO-WBV-W64-CV | WBO-WBV-W64 | WBO | WBV | W64 | normoxic | ambient | O | normoxic | ambient | V | control | control |\n",
       "| 6 | 2018--WBR-BBY-W25-CV | WBR-BBY-W25 | WBR | BBY | W25 | normoxic | ambient | R | hypoxic  | ambient | Y | control | hypoxic |\n",
       "\n"
      ],
      "text/plain": [
       "  sample_ID            unique_ID   T1_code T2_code ID_code T1_oxygen T1_temp\n",
       "1 2018--WBB-WBV-W69-CV WBB-WBV-W69 WBB     WBV     W69     normoxic  ambient\n",
       "2 2018--WBG-BBB-W56-CV WBG-BBB-W56 WBG     BBB     W56     normoxic  ambient\n",
       "3 2018--WBG-WBG-W44-CV WBG-WBG-W44 WBG     WBG     W44     normoxic  ambient\n",
       "4 2018--WBO-BBR-W03-CV WBO-BBR-W03 WBO     BBR     W03     normoxic  ambient\n",
       "5 2018--WBO-WBV-W64-CV WBO-WBV-W64 WBO     WBV     W64     normoxic  ambient\n",
       "6 2018--WBR-BBY-W25-CV WBR-BBY-W25 WBR     BBY     W25     normoxic  ambient\n",
       "  Tank1 T2_oxygen T2_temp Tank2 Phase1  Phase2 \n",
       "1 B     normoxic  ambient V     control control\n",
       "2 G     hypoxic   ambient B     control hypoxic\n",
       "3 G     normoxic  ambient G     control control\n",
       "4 O     hypoxic   ambient R     control hypoxic\n",
       "5 O     normoxic  ambient V     control control\n",
       "6 R     hypoxic   ambient Y     control hypoxic"
      ]
     },
     "metadata": {},
     "output_type": "display_data"
    }
   ],
   "source": [
    "p1_wc_meta <- filter(meta, meta$Phase1 == 'warm' | meta$Phase1 == 'control')\n",
    "dim(p1_wc_meta) # 15 total samples\n",
    "head(p1_wc_meta)"
   ]
  },
  {
   "cell_type": "code",
   "execution_count": 56,
   "id": "b90bc7ba-974b-4dc3-af90-5d34982d55a3",
   "metadata": {},
   "outputs": [
    {
     "data": {
      "text/html": [
       "<table class=\"dataframe\">\n",
       "<caption>A data.frame: 15 × 13</caption>\n",
       "<thead>\n",
       "\t<tr><th scope=col>sample_ID</th><th scope=col>unique_ID</th><th scope=col>T1_code</th><th scope=col>T2_code</th><th scope=col>ID_code</th><th scope=col>T1_oxygen</th><th scope=col>T1_temp</th><th scope=col>Tank1</th><th scope=col>T2_oxygen</th><th scope=col>T2_temp</th><th scope=col>Tank2</th><th scope=col>Phase1</th><th scope=col>Phase2</th></tr>\n",
       "\t<tr><th scope=col>&lt;chr&gt;</th><th scope=col>&lt;chr&gt;</th><th scope=col>&lt;chr&gt;</th><th scope=col>&lt;chr&gt;</th><th scope=col>&lt;chr&gt;</th><th scope=col>&lt;chr&gt;</th><th scope=col>&lt;chr&gt;</th><th scope=col>&lt;chr&gt;</th><th scope=col>&lt;chr&gt;</th><th scope=col>&lt;chr&gt;</th><th scope=col>&lt;chr&gt;</th><th scope=col>&lt;chr&gt;</th><th scope=col>&lt;chr&gt;</th></tr>\n",
       "</thead>\n",
       "<tbody>\n",
       "\t<tr><td>2018--WBB-WBV-W69-CV</td><td>WBB-WBV-W69</td><td>WBB</td><td>WBV</td><td>W69</td><td>normoxic</td><td>ambient</td><td>B</td><td>normoxic</td><td>ambient</td><td>V</td><td>control</td><td>control</td></tr>\n",
       "\t<tr><td>2018--WBG-BBB-W56-CV</td><td>WBG-BBB-W56</td><td>WBG</td><td>BBB</td><td>W56</td><td>normoxic</td><td>ambient</td><td>G</td><td>hypoxic </td><td>ambient</td><td>B</td><td>control</td><td>hypoxic</td></tr>\n",
       "\t<tr><td>2018--WBG-WBG-W44-CV</td><td>WBG-WBG-W44</td><td>WBG</td><td>WBG</td><td>W44</td><td>normoxic</td><td>ambient</td><td>G</td><td>normoxic</td><td>ambient</td><td>G</td><td>control</td><td>control</td></tr>\n",
       "\t<tr><td>2018--WBO-BBR-W03-CV</td><td>WBO-BBR-W03</td><td>WBO</td><td>BBR</td><td>W03</td><td>normoxic</td><td>ambient</td><td>O</td><td>hypoxic </td><td>ambient</td><td>R</td><td>control</td><td>hypoxic</td></tr>\n",
       "\t<tr><td>2018--WBO-WBV-W64-CV</td><td>WBO-WBV-W64</td><td>WBO</td><td>WBV</td><td>W64</td><td>normoxic</td><td>ambient</td><td>O</td><td>normoxic</td><td>ambient</td><td>V</td><td>control</td><td>control</td></tr>\n",
       "\t<tr><td>2018--WBR-BBY-W25-CV</td><td>WBR-BBY-W25</td><td>WBR</td><td>BBY</td><td>W25</td><td>normoxic</td><td>ambient</td><td>R</td><td>hypoxic </td><td>ambient</td><td>Y</td><td>control</td><td>hypoxic</td></tr>\n",
       "\t<tr><td>2018--WBV-WBO-W23-CV</td><td>WBV-WBO-W23</td><td>WBV</td><td>WBO</td><td>W23</td><td>normoxic</td><td>ambient</td><td>V</td><td>normoxic</td><td>ambient</td><td>O</td><td>control</td><td>control</td></tr>\n",
       "\t<tr><td>2018--WBV-WBR-W12-CV</td><td>WBV-WBR-W12</td><td>WBV</td><td>WBR</td><td>W12</td><td>normoxic</td><td>ambient</td><td>V</td><td>normoxic</td><td>ambient</td><td>R</td><td>control</td><td>control</td></tr>\n",
       "\t<tr><td>2018--WBY-BBV-W65-CV</td><td>WBY-BBV-W65</td><td>WBY</td><td>BBV</td><td>W65</td><td>normoxic</td><td>ambient</td><td>Y</td><td>hypoxic </td><td>ambient</td><td>V</td><td>control</td><td>hypoxic</td></tr>\n",
       "\t<tr><td>2018--WBY-BBY-W30-CV</td><td>WBY-BBY-W30</td><td>WBY</td><td>BBY</td><td>W30</td><td>normoxic</td><td>ambient</td><td>Y</td><td>hypoxic </td><td>ambient</td><td>Y</td><td>control</td><td>hypoxic</td></tr>\n",
       "\t<tr><td>2018--WPB-BPG-G45-CV</td><td>WPB-BPG-G45</td><td>WPB</td><td>BPG</td><td>G45</td><td>normoxic</td><td>warm   </td><td>B</td><td>hypoxic </td><td>warm   </td><td>G</td><td>warm   </td><td>both   </td></tr>\n",
       "\t<tr><td>2018--WPO-BPO-G16-CV</td><td>WPO-BPO-G16</td><td>WPO</td><td>BPO</td><td>G16</td><td>normoxic</td><td>warm   </td><td>O</td><td>hypoxic </td><td>warm   </td><td>O</td><td>warm   </td><td>both   </td></tr>\n",
       "\t<tr><td>2018--WPO-BPY-G28-CV</td><td>WPO-BPY-G28</td><td>WPO</td><td>BPY</td><td>G28</td><td>normoxic</td><td>warm   </td><td>O</td><td>hypoxic </td><td>warm   </td><td>Y</td><td>warm   </td><td>both   </td></tr>\n",
       "\t<tr><td>2018--WPR-BPY-G25-CV</td><td>WPR-BPY-G25</td><td>WPR</td><td>BPY</td><td>G25</td><td>normoxic</td><td>warm   </td><td>R</td><td>hypoxic </td><td>warm   </td><td>Y</td><td>warm   </td><td>both   </td></tr>\n",
       "\t<tr><td>2018--WPV-BPR-G11-CV</td><td>WPV-BPR-G11</td><td>WPV</td><td>BPR</td><td>G11</td><td>normoxic</td><td>warm   </td><td>V</td><td>hypoxic </td><td>warm   </td><td>R</td><td>warm   </td><td>both   </td></tr>\n",
       "</tbody>\n",
       "</table>\n"
      ],
      "text/latex": [
       "A data.frame: 15 × 13\n",
       "\\begin{tabular}{lllllllllllll}\n",
       " sample\\_ID & unique\\_ID & T1\\_code & T2\\_code & ID\\_code & T1\\_oxygen & T1\\_temp & Tank1 & T2\\_oxygen & T2\\_temp & Tank2 & Phase1 & Phase2\\\\\n",
       " <chr> & <chr> & <chr> & <chr> & <chr> & <chr> & <chr> & <chr> & <chr> & <chr> & <chr> & <chr> & <chr>\\\\\n",
       "\\hline\n",
       "\t 2018--WBB-WBV-W69-CV & WBB-WBV-W69 & WBB & WBV & W69 & normoxic & ambient & B & normoxic & ambient & V & control & control\\\\\n",
       "\t 2018--WBG-BBB-W56-CV & WBG-BBB-W56 & WBG & BBB & W56 & normoxic & ambient & G & hypoxic  & ambient & B & control & hypoxic\\\\\n",
       "\t 2018--WBG-WBG-W44-CV & WBG-WBG-W44 & WBG & WBG & W44 & normoxic & ambient & G & normoxic & ambient & G & control & control\\\\\n",
       "\t 2018--WBO-BBR-W03-CV & WBO-BBR-W03 & WBO & BBR & W03 & normoxic & ambient & O & hypoxic  & ambient & R & control & hypoxic\\\\\n",
       "\t 2018--WBO-WBV-W64-CV & WBO-WBV-W64 & WBO & WBV & W64 & normoxic & ambient & O & normoxic & ambient & V & control & control\\\\\n",
       "\t 2018--WBR-BBY-W25-CV & WBR-BBY-W25 & WBR & BBY & W25 & normoxic & ambient & R & hypoxic  & ambient & Y & control & hypoxic\\\\\n",
       "\t 2018--WBV-WBO-W23-CV & WBV-WBO-W23 & WBV & WBO & W23 & normoxic & ambient & V & normoxic & ambient & O & control & control\\\\\n",
       "\t 2018--WBV-WBR-W12-CV & WBV-WBR-W12 & WBV & WBR & W12 & normoxic & ambient & V & normoxic & ambient & R & control & control\\\\\n",
       "\t 2018--WBY-BBV-W65-CV & WBY-BBV-W65 & WBY & BBV & W65 & normoxic & ambient & Y & hypoxic  & ambient & V & control & hypoxic\\\\\n",
       "\t 2018--WBY-BBY-W30-CV & WBY-BBY-W30 & WBY & BBY & W30 & normoxic & ambient & Y & hypoxic  & ambient & Y & control & hypoxic\\\\\n",
       "\t 2018--WPB-BPG-G45-CV & WPB-BPG-G45 & WPB & BPG & G45 & normoxic & warm    & B & hypoxic  & warm    & G & warm    & both   \\\\\n",
       "\t 2018--WPO-BPO-G16-CV & WPO-BPO-G16 & WPO & BPO & G16 & normoxic & warm    & O & hypoxic  & warm    & O & warm    & both   \\\\\n",
       "\t 2018--WPO-BPY-G28-CV & WPO-BPY-G28 & WPO & BPY & G28 & normoxic & warm    & O & hypoxic  & warm    & Y & warm    & both   \\\\\n",
       "\t 2018--WPR-BPY-G25-CV & WPR-BPY-G25 & WPR & BPY & G25 & normoxic & warm    & R & hypoxic  & warm    & Y & warm    & both   \\\\\n",
       "\t 2018--WPV-BPR-G11-CV & WPV-BPR-G11 & WPV & BPR & G11 & normoxic & warm    & V & hypoxic  & warm    & R & warm    & both   \\\\\n",
       "\\end{tabular}\n"
      ],
      "text/markdown": [
       "\n",
       "A data.frame: 15 × 13\n",
       "\n",
       "| sample_ID &lt;chr&gt; | unique_ID &lt;chr&gt; | T1_code &lt;chr&gt; | T2_code &lt;chr&gt; | ID_code &lt;chr&gt; | T1_oxygen &lt;chr&gt; | T1_temp &lt;chr&gt; | Tank1 &lt;chr&gt; | T2_oxygen &lt;chr&gt; | T2_temp &lt;chr&gt; | Tank2 &lt;chr&gt; | Phase1 &lt;chr&gt; | Phase2 &lt;chr&gt; |\n",
       "|---|---|---|---|---|---|---|---|---|---|---|---|---|\n",
       "| 2018--WBB-WBV-W69-CV | WBB-WBV-W69 | WBB | WBV | W69 | normoxic | ambient | B | normoxic | ambient | V | control | control |\n",
       "| 2018--WBG-BBB-W56-CV | WBG-BBB-W56 | WBG | BBB | W56 | normoxic | ambient | G | hypoxic  | ambient | B | control | hypoxic |\n",
       "| 2018--WBG-WBG-W44-CV | WBG-WBG-W44 | WBG | WBG | W44 | normoxic | ambient | G | normoxic | ambient | G | control | control |\n",
       "| 2018--WBO-BBR-W03-CV | WBO-BBR-W03 | WBO | BBR | W03 | normoxic | ambient | O | hypoxic  | ambient | R | control | hypoxic |\n",
       "| 2018--WBO-WBV-W64-CV | WBO-WBV-W64 | WBO | WBV | W64 | normoxic | ambient | O | normoxic | ambient | V | control | control |\n",
       "| 2018--WBR-BBY-W25-CV | WBR-BBY-W25 | WBR | BBY | W25 | normoxic | ambient | R | hypoxic  | ambient | Y | control | hypoxic |\n",
       "| 2018--WBV-WBO-W23-CV | WBV-WBO-W23 | WBV | WBO | W23 | normoxic | ambient | V | normoxic | ambient | O | control | control |\n",
       "| 2018--WBV-WBR-W12-CV | WBV-WBR-W12 | WBV | WBR | W12 | normoxic | ambient | V | normoxic | ambient | R | control | control |\n",
       "| 2018--WBY-BBV-W65-CV | WBY-BBV-W65 | WBY | BBV | W65 | normoxic | ambient | Y | hypoxic  | ambient | V | control | hypoxic |\n",
       "| 2018--WBY-BBY-W30-CV | WBY-BBY-W30 | WBY | BBY | W30 | normoxic | ambient | Y | hypoxic  | ambient | Y | control | hypoxic |\n",
       "| 2018--WPB-BPG-G45-CV | WPB-BPG-G45 | WPB | BPG | G45 | normoxic | warm    | B | hypoxic  | warm    | G | warm    | both    |\n",
       "| 2018--WPO-BPO-G16-CV | WPO-BPO-G16 | WPO | BPO | G16 | normoxic | warm    | O | hypoxic  | warm    | O | warm    | both    |\n",
       "| 2018--WPO-BPY-G28-CV | WPO-BPY-G28 | WPO | BPY | G28 | normoxic | warm    | O | hypoxic  | warm    | Y | warm    | both    |\n",
       "| 2018--WPR-BPY-G25-CV | WPR-BPY-G25 | WPR | BPY | G25 | normoxic | warm    | R | hypoxic  | warm    | Y | warm    | both    |\n",
       "| 2018--WPV-BPR-G11-CV | WPV-BPR-G11 | WPV | BPR | G11 | normoxic | warm    | V | hypoxic  | warm    | R | warm    | both    |\n",
       "\n"
      ],
      "text/plain": [
       "   sample_ID            unique_ID   T1_code T2_code ID_code T1_oxygen T1_temp\n",
       "1  2018--WBB-WBV-W69-CV WBB-WBV-W69 WBB     WBV     W69     normoxic  ambient\n",
       "2  2018--WBG-BBB-W56-CV WBG-BBB-W56 WBG     BBB     W56     normoxic  ambient\n",
       "3  2018--WBG-WBG-W44-CV WBG-WBG-W44 WBG     WBG     W44     normoxic  ambient\n",
       "4  2018--WBO-BBR-W03-CV WBO-BBR-W03 WBO     BBR     W03     normoxic  ambient\n",
       "5  2018--WBO-WBV-W64-CV WBO-WBV-W64 WBO     WBV     W64     normoxic  ambient\n",
       "6  2018--WBR-BBY-W25-CV WBR-BBY-W25 WBR     BBY     W25     normoxic  ambient\n",
       "7  2018--WBV-WBO-W23-CV WBV-WBO-W23 WBV     WBO     W23     normoxic  ambient\n",
       "8  2018--WBV-WBR-W12-CV WBV-WBR-W12 WBV     WBR     W12     normoxic  ambient\n",
       "9  2018--WBY-BBV-W65-CV WBY-BBV-W65 WBY     BBV     W65     normoxic  ambient\n",
       "10 2018--WBY-BBY-W30-CV WBY-BBY-W30 WBY     BBY     W30     normoxic  ambient\n",
       "11 2018--WPB-BPG-G45-CV WPB-BPG-G45 WPB     BPG     G45     normoxic  warm   \n",
       "12 2018--WPO-BPO-G16-CV WPO-BPO-G16 WPO     BPO     G16     normoxic  warm   \n",
       "13 2018--WPO-BPY-G28-CV WPO-BPY-G28 WPO     BPY     G28     normoxic  warm   \n",
       "14 2018--WPR-BPY-G25-CV WPR-BPY-G25 WPR     BPY     G25     normoxic  warm   \n",
       "15 2018--WPV-BPR-G11-CV WPV-BPR-G11 WPV     BPR     G11     normoxic  warm   \n",
       "   Tank1 T2_oxygen T2_temp Tank2 Phase1  Phase2 \n",
       "1  B     normoxic  ambient V     control control\n",
       "2  G     hypoxic   ambient B     control hypoxic\n",
       "3  G     normoxic  ambient G     control control\n",
       "4  O     hypoxic   ambient R     control hypoxic\n",
       "5  O     normoxic  ambient V     control control\n",
       "6  R     hypoxic   ambient Y     control hypoxic\n",
       "7  V     normoxic  ambient O     control control\n",
       "8  V     normoxic  ambient R     control control\n",
       "9  Y     hypoxic   ambient V     control hypoxic\n",
       "10 Y     hypoxic   ambient Y     control hypoxic\n",
       "11 B     hypoxic   warm    G     warm    both   \n",
       "12 O     hypoxic   warm    O     warm    both   \n",
       "13 O     hypoxic   warm    Y     warm    both   \n",
       "14 R     hypoxic   warm    Y     warm    both   \n",
       "15 V     hypoxic   warm    R     warm    both   "
      ]
     },
     "metadata": {},
     "output_type": "display_data"
    }
   ],
   "source": [
    "p1_wc_meta"
   ]
  },
  {
   "cell_type": "code",
   "execution_count": 67,
   "id": "00dd2e75-85a4-4cd0-81be-0d0f3f9a989a",
   "metadata": {},
   "outputs": [
    {
     "data": {
      "text/html": [
       "<style>\n",
       ".list-inline {list-style: none; margin:0; padding: 0}\n",
       ".list-inline>li {display: inline-block}\n",
       ".list-inline>li:not(:last-child)::after {content: \"\\00b7\"; padding: 0 .5ex}\n",
       "</style>\n",
       "<ol class=list-inline><li>5776</li><li>15</li></ol>\n"
      ],
      "text/latex": [
       "\\begin{enumerate*}\n",
       "\\item 5776\n",
       "\\item 15\n",
       "\\end{enumerate*}\n"
      ],
      "text/markdown": [
       "1. 5776\n",
       "2. 15\n",
       "\n",
       "\n"
      ],
      "text/plain": [
       "[1] 5776   15"
      ]
     },
     "metadata": {},
     "output_type": "display_data"
    },
    {
     "data": {
      "text/html": [
       "<table class=\"dataframe\">\n",
       "<caption>A data.frame: 20 × 15</caption>\n",
       "<thead>\n",
       "\t<tr><th></th><th scope=col>WBB-WBV-W69</th><th scope=col>WBG-BBB-W56</th><th scope=col>WBG-WBG-W44</th><th scope=col>WBO-BBR-W03</th><th scope=col>WBO-WBV-W64</th><th scope=col>WBR-BBY-W25</th><th scope=col>WBV-WBO-W23</th><th scope=col>WBV-WBR-W12</th><th scope=col>WBY-BBV-W65</th><th scope=col>WBY-BBY-W30</th><th scope=col>WPB-BPG-G45</th><th scope=col>WPO-BPO-G16</th><th scope=col>WPO-BPY-G28</th><th scope=col>WPR-BPY-G25</th><th scope=col>WPV-BPR-G11</th></tr>\n",
       "\t<tr><th></th><th scope=col>&lt;int&gt;</th><th scope=col>&lt;int&gt;</th><th scope=col>&lt;int&gt;</th><th scope=col>&lt;int&gt;</th><th scope=col>&lt;int&gt;</th><th scope=col>&lt;int&gt;</th><th scope=col>&lt;int&gt;</th><th scope=col>&lt;int&gt;</th><th scope=col>&lt;int&gt;</th><th scope=col>&lt;int&gt;</th><th scope=col>&lt;int&gt;</th><th scope=col>&lt;int&gt;</th><th scope=col>&lt;int&gt;</th><th scope=col>&lt;int&gt;</th><th scope=col>&lt;int&gt;</th></tr>\n",
       "</thead>\n",
       "<tbody>\n",
       "\t<tr><th scope=row>LOC111120752</th><td>  3</td><td>  1</td><td> 0</td><td> 0</td><td> 1</td><td> 0</td><td> 0</td><td> 0</td><td> 0</td><td> 1</td><td> 0</td><td> 0</td><td>  1</td><td> 1</td><td> 0</td></tr>\n",
       "\t<tr><th scope=row>LOC111109452</th><td>  0</td><td>  1</td><td> 0</td><td> 0</td><td> 7</td><td> 0</td><td> 1</td><td> 0</td><td> 1</td><td> 2</td><td>15</td><td> 0</td><td>  0</td><td> 3</td><td> 0</td></tr>\n",
       "\t<tr><th scope=row>LOC111102393</th><td> 36</td><td> 53</td><td>12</td><td> 1</td><td>56</td><td>20</td><td> 9</td><td>10</td><td>24</td><td>17</td><td>36</td><td>14</td><td>  3</td><td>26</td><td>41</td></tr>\n",
       "\t<tr><th scope=row>LOC111117743</th><td>521</td><td>  1</td><td> 1</td><td>22</td><td> 0</td><td> 0</td><td> 0</td><td> 0</td><td> 4</td><td> 1</td><td> 0</td><td>39</td><td>  0</td><td> 0</td><td> 0</td></tr>\n",
       "\t<tr><th scope=row>LOC111109809</th><td>  3</td><td>  5</td><td> 2</td><td> 0</td><td> 3</td><td> 1</td><td> 3</td><td> 1</td><td> 2</td><td> 4</td><td> 1</td><td> 4</td><td>  1</td><td> 0</td><td> 2</td></tr>\n",
       "\t<tr><th scope=row>LOC111135172</th><td>  1</td><td>  1</td><td>11</td><td> 0</td><td> 0</td><td> 0</td><td> 0</td><td> 0</td><td> 0</td><td> 0</td><td> 0</td><td> 0</td><td>  0</td><td> 1</td><td> 0</td></tr>\n",
       "\t<tr><th scope=row>LOC111121058</th><td>231</td><td>121</td><td>15</td><td>15</td><td>86</td><td>35</td><td>34</td><td>17</td><td>63</td><td>49</td><td>58</td><td>32</td><td>188</td><td>77</td><td> 6</td></tr>\n",
       "\t<tr><th scope=row>LOC111138070</th><td>  7</td><td>  0</td><td> 0</td><td> 1</td><td> 0</td><td> 0</td><td> 0</td><td> 6</td><td>17</td><td> 0</td><td> 4</td><td> 3</td><td>  0</td><td> 1</td><td> 1</td></tr>\n",
       "\t<tr><th scope=row>LOC111108878</th><td>  0</td><td>  0</td><td> 0</td><td> 0</td><td> 0</td><td> 0</td><td> 0</td><td> 0</td><td>10</td><td> 1</td><td> 0</td><td> 0</td><td>  0</td><td> 0</td><td> 0</td></tr>\n",
       "\t<tr><th scope=row>LOC111103224</th><td>  0</td><td>  0</td><td> 0</td><td> 1</td><td> 4</td><td> 0</td><td> 2</td><td> 0</td><td> 0</td><td> 1</td><td> 1</td><td> 0</td><td>  1</td><td> 0</td><td> 0</td></tr>\n",
       "\t<tr><th scope=row>LOC111131060</th><td>  0</td><td>  0</td><td> 0</td><td> 0</td><td> 1</td><td> 0</td><td> 0</td><td> 0</td><td> 0</td><td> 0</td><td> 1</td><td> 0</td><td>  0</td><td> 0</td><td> 0</td></tr>\n",
       "\t<tr><th scope=row>LOC111131074</th><td>  1</td><td>  0</td><td> 0</td><td> 0</td><td> 1</td><td> 4</td><td> 0</td><td> 0</td><td> 0</td><td> 0</td><td> 0</td><td> 0</td><td>  1</td><td> 0</td><td> 0</td></tr>\n",
       "\t<tr><th scope=row>LOC111131094</th><td>  0</td><td>  0</td><td> 0</td><td> 0</td><td> 0</td><td> 0</td><td> 0</td><td> 0</td><td> 0</td><td> 0</td><td> 0</td><td> 0</td><td>  1</td><td> 0</td><td> 0</td></tr>\n",
       "\t<tr><th scope=row>LOC111099747</th><td>  3</td><td>  4</td><td> 0</td><td> 0</td><td> 2</td><td> 3</td><td> 2</td><td> 1</td><td> 1</td><td> 6</td><td> 0</td><td> 0</td><td>  0</td><td> 1</td><td> 0</td></tr>\n",
       "\t<tr><th scope=row>LOC111129066</th><td>  0</td><td>  0</td><td> 0</td><td> 0</td><td> 0</td><td> 0</td><td> 0</td><td> 0</td><td> 0</td><td> 0</td><td> 0</td><td> 1</td><td>  0</td><td> 1</td><td> 0</td></tr>\n",
       "\t<tr><th scope=row>LOC111114430</th><td>  0</td><td>  2</td><td> 0</td><td> 0</td><td> 0</td><td> 0</td><td> 0</td><td> 0</td><td> 0</td><td> 0</td><td> 0</td><td> 0</td><td>  0</td><td> 0</td><td> 0</td></tr>\n",
       "\t<tr><th scope=row>LOC111129120</th><td>  0</td><td>  0</td><td> 0</td><td> 0</td><td> 0</td><td> 0</td><td> 0</td><td> 0</td><td> 0</td><td> 0</td><td> 0</td><td> 0</td><td>  0</td><td> 0</td><td> 0</td></tr>\n",
       "\t<tr><th scope=row>LOC111113958</th><td>  0</td><td>  0</td><td> 0</td><td> 0</td><td> 8</td><td> 0</td><td> 0</td><td> 0</td><td> 0</td><td> 1</td><td> 1</td><td> 0</td><td>  0</td><td> 0</td><td> 0</td></tr>\n",
       "\t<tr><th scope=row>LOC111103230</th><td> 12</td><td>  1</td><td> 0</td><td> 0</td><td> 2</td><td> 1</td><td> 0</td><td> 1</td><td> 2</td><td> 3</td><td> 0</td><td> 0</td><td>  0</td><td> 8</td><td> 0</td></tr>\n",
       "\t<tr><th scope=row>LOC111101640</th><td>  2</td><td>  1</td><td> 0</td><td> 0</td><td> 2</td><td> 0</td><td> 0</td><td> 0</td><td> 0</td><td> 2</td><td> 0</td><td> 1</td><td>  0</td><td> 0</td><td> 0</td></tr>\n",
       "</tbody>\n",
       "</table>\n"
      ],
      "text/latex": [
       "A data.frame: 20 × 15\n",
       "\\begin{tabular}{r|lllllllllllllll}\n",
       "  & WBB-WBV-W69 & WBG-BBB-W56 & WBG-WBG-W44 & WBO-BBR-W03 & WBO-WBV-W64 & WBR-BBY-W25 & WBV-WBO-W23 & WBV-WBR-W12 & WBY-BBV-W65 & WBY-BBY-W30 & WPB-BPG-G45 & WPO-BPO-G16 & WPO-BPY-G28 & WPR-BPY-G25 & WPV-BPR-G11\\\\\n",
       "  & <int> & <int> & <int> & <int> & <int> & <int> & <int> & <int> & <int> & <int> & <int> & <int> & <int> & <int> & <int>\\\\\n",
       "\\hline\n",
       "\tLOC111120752 &   3 &   1 &  0 &  0 &  1 &  0 &  0 &  0 &  0 &  1 &  0 &  0 &   1 &  1 &  0\\\\\n",
       "\tLOC111109452 &   0 &   1 &  0 &  0 &  7 &  0 &  1 &  0 &  1 &  2 & 15 &  0 &   0 &  3 &  0\\\\\n",
       "\tLOC111102393 &  36 &  53 & 12 &  1 & 56 & 20 &  9 & 10 & 24 & 17 & 36 & 14 &   3 & 26 & 41\\\\\n",
       "\tLOC111117743 & 521 &   1 &  1 & 22 &  0 &  0 &  0 &  0 &  4 &  1 &  0 & 39 &   0 &  0 &  0\\\\\n",
       "\tLOC111109809 &   3 &   5 &  2 &  0 &  3 &  1 &  3 &  1 &  2 &  4 &  1 &  4 &   1 &  0 &  2\\\\\n",
       "\tLOC111135172 &   1 &   1 & 11 &  0 &  0 &  0 &  0 &  0 &  0 &  0 &  0 &  0 &   0 &  1 &  0\\\\\n",
       "\tLOC111121058 & 231 & 121 & 15 & 15 & 86 & 35 & 34 & 17 & 63 & 49 & 58 & 32 & 188 & 77 &  6\\\\\n",
       "\tLOC111138070 &   7 &   0 &  0 &  1 &  0 &  0 &  0 &  6 & 17 &  0 &  4 &  3 &   0 &  1 &  1\\\\\n",
       "\tLOC111108878 &   0 &   0 &  0 &  0 &  0 &  0 &  0 &  0 & 10 &  1 &  0 &  0 &   0 &  0 &  0\\\\\n",
       "\tLOC111103224 &   0 &   0 &  0 &  1 &  4 &  0 &  2 &  0 &  0 &  1 &  1 &  0 &   1 &  0 &  0\\\\\n",
       "\tLOC111131060 &   0 &   0 &  0 &  0 &  1 &  0 &  0 &  0 &  0 &  0 &  1 &  0 &   0 &  0 &  0\\\\\n",
       "\tLOC111131074 &   1 &   0 &  0 &  0 &  1 &  4 &  0 &  0 &  0 &  0 &  0 &  0 &   1 &  0 &  0\\\\\n",
       "\tLOC111131094 &   0 &   0 &  0 &  0 &  0 &  0 &  0 &  0 &  0 &  0 &  0 &  0 &   1 &  0 &  0\\\\\n",
       "\tLOC111099747 &   3 &   4 &  0 &  0 &  2 &  3 &  2 &  1 &  1 &  6 &  0 &  0 &   0 &  1 &  0\\\\\n",
       "\tLOC111129066 &   0 &   0 &  0 &  0 &  0 &  0 &  0 &  0 &  0 &  0 &  0 &  1 &   0 &  1 &  0\\\\\n",
       "\tLOC111114430 &   0 &   2 &  0 &  0 &  0 &  0 &  0 &  0 &  0 &  0 &  0 &  0 &   0 &  0 &  0\\\\\n",
       "\tLOC111129120 &   0 &   0 &  0 &  0 &  0 &  0 &  0 &  0 &  0 &  0 &  0 &  0 &   0 &  0 &  0\\\\\n",
       "\tLOC111113958 &   0 &   0 &  0 &  0 &  8 &  0 &  0 &  0 &  0 &  1 &  1 &  0 &   0 &  0 &  0\\\\\n",
       "\tLOC111103230 &  12 &   1 &  0 &  0 &  2 &  1 &  0 &  1 &  2 &  3 &  0 &  0 &   0 &  8 &  0\\\\\n",
       "\tLOC111101640 &   2 &   1 &  0 &  0 &  2 &  0 &  0 &  0 &  0 &  2 &  0 &  1 &   0 &  0 &  0\\\\\n",
       "\\end{tabular}\n"
      ],
      "text/markdown": [
       "\n",
       "A data.frame: 20 × 15\n",
       "\n",
       "| <!--/--> | WBB-WBV-W69 &lt;int&gt; | WBG-BBB-W56 &lt;int&gt; | WBG-WBG-W44 &lt;int&gt; | WBO-BBR-W03 &lt;int&gt; | WBO-WBV-W64 &lt;int&gt; | WBR-BBY-W25 &lt;int&gt; | WBV-WBO-W23 &lt;int&gt; | WBV-WBR-W12 &lt;int&gt; | WBY-BBV-W65 &lt;int&gt; | WBY-BBY-W30 &lt;int&gt; | WPB-BPG-G45 &lt;int&gt; | WPO-BPO-G16 &lt;int&gt; | WPO-BPY-G28 &lt;int&gt; | WPR-BPY-G25 &lt;int&gt; | WPV-BPR-G11 &lt;int&gt; |\n",
       "|---|---|---|---|---|---|---|---|---|---|---|---|---|---|---|---|\n",
       "| LOC111120752 |   3 |   1 |  0 |  0 |  1 |  0 |  0 |  0 |  0 |  1 |  0 |  0 |   1 |  1 |  0 |\n",
       "| LOC111109452 |   0 |   1 |  0 |  0 |  7 |  0 |  1 |  0 |  1 |  2 | 15 |  0 |   0 |  3 |  0 |\n",
       "| LOC111102393 |  36 |  53 | 12 |  1 | 56 | 20 |  9 | 10 | 24 | 17 | 36 | 14 |   3 | 26 | 41 |\n",
       "| LOC111117743 | 521 |   1 |  1 | 22 |  0 |  0 |  0 |  0 |  4 |  1 |  0 | 39 |   0 |  0 |  0 |\n",
       "| LOC111109809 |   3 |   5 |  2 |  0 |  3 |  1 |  3 |  1 |  2 |  4 |  1 |  4 |   1 |  0 |  2 |\n",
       "| LOC111135172 |   1 |   1 | 11 |  0 |  0 |  0 |  0 |  0 |  0 |  0 |  0 |  0 |   0 |  1 |  0 |\n",
       "| LOC111121058 | 231 | 121 | 15 | 15 | 86 | 35 | 34 | 17 | 63 | 49 | 58 | 32 | 188 | 77 |  6 |\n",
       "| LOC111138070 |   7 |   0 |  0 |  1 |  0 |  0 |  0 |  6 | 17 |  0 |  4 |  3 |   0 |  1 |  1 |\n",
       "| LOC111108878 |   0 |   0 |  0 |  0 |  0 |  0 |  0 |  0 | 10 |  1 |  0 |  0 |   0 |  0 |  0 |\n",
       "| LOC111103224 |   0 |   0 |  0 |  1 |  4 |  0 |  2 |  0 |  0 |  1 |  1 |  0 |   1 |  0 |  0 |\n",
       "| LOC111131060 |   0 |   0 |  0 |  0 |  1 |  0 |  0 |  0 |  0 |  0 |  1 |  0 |   0 |  0 |  0 |\n",
       "| LOC111131074 |   1 |   0 |  0 |  0 |  1 |  4 |  0 |  0 |  0 |  0 |  0 |  0 |   1 |  0 |  0 |\n",
       "| LOC111131094 |   0 |   0 |  0 |  0 |  0 |  0 |  0 |  0 |  0 |  0 |  0 |  0 |   1 |  0 |  0 |\n",
       "| LOC111099747 |   3 |   4 |  0 |  0 |  2 |  3 |  2 |  1 |  1 |  6 |  0 |  0 |   0 |  1 |  0 |\n",
       "| LOC111129066 |   0 |   0 |  0 |  0 |  0 |  0 |  0 |  0 |  0 |  0 |  0 |  1 |   0 |  1 |  0 |\n",
       "| LOC111114430 |   0 |   2 |  0 |  0 |  0 |  0 |  0 |  0 |  0 |  0 |  0 |  0 |   0 |  0 |  0 |\n",
       "| LOC111129120 |   0 |   0 |  0 |  0 |  0 |  0 |  0 |  0 |  0 |  0 |  0 |  0 |   0 |  0 |  0 |\n",
       "| LOC111113958 |   0 |   0 |  0 |  0 |  8 |  0 |  0 |  0 |  0 |  1 |  1 |  0 |   0 |  0 |  0 |\n",
       "| LOC111103230 |  12 |   1 |  0 |  0 |  2 |  1 |  0 |  1 |  2 |  3 |  0 |  0 |   0 |  8 |  0 |\n",
       "| LOC111101640 |   2 |   1 |  0 |  0 |  2 |  0 |  0 |  0 |  0 |  2 |  0 |  1 |   0 |  0 |  0 |\n",
       "\n"
      ],
      "text/plain": [
       "             WBB-WBV-W69 WBG-BBB-W56 WBG-WBG-W44 WBO-BBR-W03 WBO-WBV-W64\n",
       "LOC111120752   3           1          0           0           1         \n",
       "LOC111109452   0           1          0           0           7         \n",
       "LOC111102393  36          53         12           1          56         \n",
       "LOC111117743 521           1          1          22           0         \n",
       "LOC111109809   3           5          2           0           3         \n",
       "LOC111135172   1           1         11           0           0         \n",
       "LOC111121058 231         121         15          15          86         \n",
       "LOC111138070   7           0          0           1           0         \n",
       "LOC111108878   0           0          0           0           0         \n",
       "LOC111103224   0           0          0           1           4         \n",
       "LOC111131060   0           0          0           0           1         \n",
       "LOC111131074   1           0          0           0           1         \n",
       "LOC111131094   0           0          0           0           0         \n",
       "LOC111099747   3           4          0           0           2         \n",
       "LOC111129066   0           0          0           0           0         \n",
       "LOC111114430   0           2          0           0           0         \n",
       "LOC111129120   0           0          0           0           0         \n",
       "LOC111113958   0           0          0           0           8         \n",
       "LOC111103230  12           1          0           0           2         \n",
       "LOC111101640   2           1          0           0           2         \n",
       "             WBR-BBY-W25 WBV-WBO-W23 WBV-WBR-W12 WBY-BBV-W65 WBY-BBY-W30\n",
       "LOC111120752  0           0           0           0           1         \n",
       "LOC111109452  0           1           0           1           2         \n",
       "LOC111102393 20           9          10          24          17         \n",
       "LOC111117743  0           0           0           4           1         \n",
       "LOC111109809  1           3           1           2           4         \n",
       "LOC111135172  0           0           0           0           0         \n",
       "LOC111121058 35          34          17          63          49         \n",
       "LOC111138070  0           0           6          17           0         \n",
       "LOC111108878  0           0           0          10           1         \n",
       "LOC111103224  0           2           0           0           1         \n",
       "LOC111131060  0           0           0           0           0         \n",
       "LOC111131074  4           0           0           0           0         \n",
       "LOC111131094  0           0           0           0           0         \n",
       "LOC111099747  3           2           1           1           6         \n",
       "LOC111129066  0           0           0           0           0         \n",
       "LOC111114430  0           0           0           0           0         \n",
       "LOC111129120  0           0           0           0           0         \n",
       "LOC111113958  0           0           0           0           1         \n",
       "LOC111103230  1           0           1           2           3         \n",
       "LOC111101640  0           0           0           0           2         \n",
       "             WPB-BPG-G45 WPO-BPO-G16 WPO-BPY-G28 WPR-BPY-G25 WPV-BPR-G11\n",
       "LOC111120752  0           0            1          1           0         \n",
       "LOC111109452 15           0            0          3           0         \n",
       "LOC111102393 36          14            3         26          41         \n",
       "LOC111117743  0          39            0          0           0         \n",
       "LOC111109809  1           4            1          0           2         \n",
       "LOC111135172  0           0            0          1           0         \n",
       "LOC111121058 58          32          188         77           6         \n",
       "LOC111138070  4           3            0          1           1         \n",
       "LOC111108878  0           0            0          0           0         \n",
       "LOC111103224  1           0            1          0           0         \n",
       "LOC111131060  1           0            0          0           0         \n",
       "LOC111131074  0           0            1          0           0         \n",
       "LOC111131094  0           0            1          0           0         \n",
       "LOC111099747  0           0            0          1           0         \n",
       "LOC111129066  0           1            0          1           0         \n",
       "LOC111114430  0           0            0          0           0         \n",
       "LOC111129120  0           0            0          0           0         \n",
       "LOC111113958  1           0            0          0           0         \n",
       "LOC111103230  0           0            0          8           0         \n",
       "LOC111101640  0           1            0          0           0         "
      ]
     },
     "metadata": {},
     "output_type": "display_data"
    }
   ],
   "source": [
    "# only looking at samples with control or warm for phase 1 in the counts matrix\n",
    "filtered_df <- counts_na[,colnames(counts_na) %in% p1_wc_meta$unique_ID]\n",
    "dim(filtered_df) # still seeing 5,776 genes with NA for padj and info for 15 samples\n",
    "head(filtered_df,20)"
   ]
  },
  {
   "cell_type": "markdown",
   "id": "eb7af073-2348-45c5-afee-6543c755b0d1",
   "metadata": {},
   "source": [
    "all of the **W##** samples are **control** and all of the **G##** samples are **warm** for phase 1"
   ]
  },
  {
   "cell_type": "markdown",
   "id": "1c41e0bd-e5ef-4d13-b13d-54bc7eb85141",
   "metadata": {},
   "source": [
    "looking at this df in excel to more easily look at why we might get NA for those genes"
   ]
  },
  {
   "cell_type": "code",
   "execution_count": 58,
   "id": "e548d30c-dd78-4a37-81f0-2022e0454fe2",
   "metadata": {},
   "outputs": [],
   "source": [
    "write.csv(filtered_df, '/project/pi_sarah_gignouxwolfsohn_uml_edu/julia/CE_MethylRAD_analysis_2018/analysis/featureCounts_analysis/na_p1_wc_countsmatrix.csv')"
   ]
  }
 ],
 "metadata": {
  "kernelspec": {
   "display_name": "R [conda env:.conda-r-env]",
   "language": "R",
   "name": "conda-env-.conda-r-env-r"
  },
  "language_info": {
   "codemirror_mode": "r",
   "file_extension": ".r",
   "mimetype": "text/x-r-source",
   "name": "R",
   "pygments_lexer": "r",
   "version": "4.3.2"
  }
 },
 "nbformat": 4,
 "nbformat_minor": 5
}
