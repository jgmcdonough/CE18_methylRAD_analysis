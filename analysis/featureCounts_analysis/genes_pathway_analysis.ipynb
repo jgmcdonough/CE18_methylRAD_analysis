{
 "cells": [
  {
   "cell_type": "markdown",
   "id": "d9dfba50-6cd0-4119-9d03-4dcf79b492b4",
   "metadata": {},
   "source": [
    "# Are our significant DMGs the core enrichment genes in our identified enriched pathways?\n",
    "We want to combine what we've found for statistically signficant differentially methylated genes and connect it to our identified enriched pathways so we can start to make sense of things biologically.\n",
    "\n",
    "I have generated two csv files for both **phase 1 warm vs. control oysters**:\n",
    "- phase1_wc_genes.csv - list of significant (adjusted p-value < 0.05) DMGs\n",
    "- p1_wc_pathway.csv - list of enriched pathways from KEGG\n",
    "\n",
    "Each enriched pathway contains a list of 'core enrichment genes' - these are a list of genes that are reported as part of the 'core enrichment' and contribute to the observed enrichment score.\n",
    "\n",
    "The thinking is that maybe some of our signficant DMGs are part of that core enrichment group, which could tell us that that pathway is especially important/biologically relevant."
   ]
  },
  {
   "cell_type": "markdown",
   "id": "b437bc4b-128e-4873-9c47-2b5c88876bdf",
   "metadata": {},
   "source": [
    "#### I. Load packages"
   ]
  },
  {
   "cell_type": "code",
   "execution_count": 2,
   "id": "7ceb2acf-d206-40ad-b486-b3bcedb4829b",
   "metadata": {},
   "outputs": [
    {
     "name": "stderr",
     "output_type": "stream",
     "text": [
      "── \u001b[1mAttaching core tidyverse packages\u001b[22m ──────────────────────── tidyverse 2.0.0 ──\n",
      "\u001b[32m✔\u001b[39m \u001b[34mdplyr    \u001b[39m 1.1.4     \u001b[32m✔\u001b[39m \u001b[34mreadr    \u001b[39m 2.1.4\n",
      "\u001b[32m✔\u001b[39m \u001b[34mforcats  \u001b[39m 1.0.0     \u001b[32m✔\u001b[39m \u001b[34mstringr  \u001b[39m 1.5.1\n",
      "\u001b[32m✔\u001b[39m \u001b[34mggplot2  \u001b[39m 3.4.4     \u001b[32m✔\u001b[39m \u001b[34mtibble   \u001b[39m 3.2.1\n",
      "\u001b[32m✔\u001b[39m \u001b[34mlubridate\u001b[39m 1.9.3     \u001b[32m✔\u001b[39m \u001b[34mtidyr    \u001b[39m 1.3.0\n",
      "\u001b[32m✔\u001b[39m \u001b[34mpurrr    \u001b[39m 1.0.2     \n",
      "── \u001b[1mConflicts\u001b[22m ────────────────────────────────────────── tidyverse_conflicts() ──\n",
      "\u001b[31m✖\u001b[39m \u001b[34mdplyr\u001b[39m::\u001b[32mfilter()\u001b[39m masks \u001b[34mstats\u001b[39m::filter()\n",
      "\u001b[31m✖\u001b[39m \u001b[34mdplyr\u001b[39m::\u001b[32mlag()\u001b[39m    masks \u001b[34mstats\u001b[39m::lag()\n",
      "\u001b[36mℹ\u001b[39m Use the conflicted package (\u001b[3m\u001b[34m<http://conflicted.r-lib.org/>\u001b[39m\u001b[23m) to force all conflicts to become errors\n"
     ]
    }
   ],
   "source": [
    "library(tidyverse)"
   ]
  },
  {
   "cell_type": "markdown",
   "id": "130693ca-607e-4525-be1e-5ea30e96188f",
   "metadata": {},
   "source": [
    "#### II. Load, clean, and prep both csv files"
   ]
  },
  {
   "cell_type": "code",
   "execution_count": 3,
   "id": "ebacfd63-5bbe-46ed-b85a-16352368eb7f",
   "metadata": {},
   "outputs": [
    {
     "data": {
      "text/html": [
       "<style>\n",
       ".list-inline {list-style: none; margin:0; padding: 0}\n",
       ".list-inline>li {display: inline-block}\n",
       ".list-inline>li:not(:last-child)::after {content: \"\\00b7\"; padding: 0 .5ex}\n",
       "</style>\n",
       "<ol class=list-inline><li>119</li><li>11</li></ol>\n"
      ],
      "text/latex": [
       "\\begin{enumerate*}\n",
       "\\item 119\n",
       "\\item 11\n",
       "\\end{enumerate*}\n"
      ],
      "text/markdown": [
       "1. 119\n",
       "2. 11\n",
       "\n",
       "\n"
      ],
      "text/plain": [
       "[1] 119  11"
      ]
     },
     "metadata": {},
     "output_type": "display_data"
    },
    {
     "data": {
      "text/html": [
       "<table class=\"dataframe\">\n",
       "<caption>A data.frame: 6 × 11</caption>\n",
       "<thead>\n",
       "\t<tr><th></th><th scope=col>ID</th><th scope=col>Description</th><th scope=col>setSize</th><th scope=col>enrichmentScore</th><th scope=col>NES</th><th scope=col>pvalue</th><th scope=col>p.adjust</th><th scope=col>qvalue</th><th scope=col>rank</th><th scope=col>leading_edge</th><th scope=col>core_enrichment</th></tr>\n",
       "\t<tr><th></th><th scope=col>&lt;chr&gt;</th><th scope=col>&lt;chr&gt;</th><th scope=col>&lt;int&gt;</th><th scope=col>&lt;dbl&gt;</th><th scope=col>&lt;dbl&gt;</th><th scope=col>&lt;dbl&gt;</th><th scope=col>&lt;dbl&gt;</th><th scope=col>&lt;dbl&gt;</th><th scope=col>&lt;int&gt;</th><th scope=col>&lt;chr&gt;</th><th scope=col>&lt;chr&gt;</th></tr>\n",
       "</thead>\n",
       "<tbody>\n",
       "\t<tr><th scope=row>1</th><td>cvn00910</td><td>Nitrogen metabolism              </td><td>10</td><td>0.7751841</td><td>1.619242</td><td>0.007876028</td><td>0.2056087</td><td>0.1873304</td><td>1398</td><td>tags=50%, list=10%, signal=45%</td><td>111134700/111100398/111100399/111126492/111135592                                                                                </td></tr>\n",
       "\t<tr><th scope=row>2</th><td>cvn00053</td><td>Ascorbate and aldarate metabolism</td><td>11</td><td>0.7413812</td><td>1.583931</td><td>0.013924094</td><td>0.2056087</td><td>0.1873304</td><td>2374</td><td>tags=55%, list=18%, signal=45%</td><td>111124535/111103451/111124599/111112920/111115614/111103498                                                                      </td></tr>\n",
       "\t<tr><th scope=row>3</th><td>cvn00052</td><td>Galactose metabolism             </td><td>21</td><td>0.6484812</td><td>1.582238</td><td>0.015374308</td><td>0.2056087</td><td>0.1873304</td><td>2261</td><td>tags=38%, list=17%, signal=32%</td><td>111101197/111118471/111101820/111113388/111109442/111099882/111120703/111118006                                                  </td></tr>\n",
       "\t<tr><th scope=row>4</th><td>cvn00592</td><td>alpha-Linolenic acid metabolism  </td><td>11</td><td>0.7377666</td><td>1.576208</td><td>0.015550238</td><td>0.2056087</td><td>0.1873304</td><td>1602</td><td>tags=45%, list=12%, signal=40%</td><td>111113990/111115744/111107112/111115745/111124908                                                                                </td></tr>\n",
       "\t<tr><th scope=row>5</th><td>cvn00511</td><td>Other glycan degradation         </td><td>37</td><td>0.5917499</td><td>1.563906</td><td>0.004948574</td><td>0.2056087</td><td>0.1873304</td><td>2221</td><td>tags=30%, list=16%, signal=25%</td><td>111106921/111106925/111106928/111119851/111119435/111120040/111113388/111119434/111106926/111119431/111106930                    </td></tr>\n",
       "\t<tr><th scope=row>6</th><td>cvn03250</td><td>Viral life cycle                 </td><td>28</td><td>0.6023539</td><td>1.532503</td><td>0.008064620</td><td>0.2056087</td><td>0.1873304</td><td>2628</td><td>tags=46%, list=19%, signal=37%</td><td>111124701/111124696/111129825/111111579/111108190/111135084/111128997/111124977/111106750/111123417/111130886/111104027/111135329</td></tr>\n",
       "</tbody>\n",
       "</table>\n"
      ],
      "text/latex": [
       "A data.frame: 6 × 11\n",
       "\\begin{tabular}{r|lllllllllll}\n",
       "  & ID & Description & setSize & enrichmentScore & NES & pvalue & p.adjust & qvalue & rank & leading\\_edge & core\\_enrichment\\\\\n",
       "  & <chr> & <chr> & <int> & <dbl> & <dbl> & <dbl> & <dbl> & <dbl> & <int> & <chr> & <chr>\\\\\n",
       "\\hline\n",
       "\t1 & cvn00910 & Nitrogen metabolism               & 10 & 0.7751841 & 1.619242 & 0.007876028 & 0.2056087 & 0.1873304 & 1398 & tags=50\\%, list=10\\%, signal=45\\% & 111134700/111100398/111100399/111126492/111135592                                                                                \\\\\n",
       "\t2 & cvn00053 & Ascorbate and aldarate metabolism & 11 & 0.7413812 & 1.583931 & 0.013924094 & 0.2056087 & 0.1873304 & 2374 & tags=55\\%, list=18\\%, signal=45\\% & 111124535/111103451/111124599/111112920/111115614/111103498                                                                      \\\\\n",
       "\t3 & cvn00052 & Galactose metabolism              & 21 & 0.6484812 & 1.582238 & 0.015374308 & 0.2056087 & 0.1873304 & 2261 & tags=38\\%, list=17\\%, signal=32\\% & 111101197/111118471/111101820/111113388/111109442/111099882/111120703/111118006                                                  \\\\\n",
       "\t4 & cvn00592 & alpha-Linolenic acid metabolism   & 11 & 0.7377666 & 1.576208 & 0.015550238 & 0.2056087 & 0.1873304 & 1602 & tags=45\\%, list=12\\%, signal=40\\% & 111113990/111115744/111107112/111115745/111124908                                                                                \\\\\n",
       "\t5 & cvn00511 & Other glycan degradation          & 37 & 0.5917499 & 1.563906 & 0.004948574 & 0.2056087 & 0.1873304 & 2221 & tags=30\\%, list=16\\%, signal=25\\% & 111106921/111106925/111106928/111119851/111119435/111120040/111113388/111119434/111106926/111119431/111106930                    \\\\\n",
       "\t6 & cvn03250 & Viral life cycle                  & 28 & 0.6023539 & 1.532503 & 0.008064620 & 0.2056087 & 0.1873304 & 2628 & tags=46\\%, list=19\\%, signal=37\\% & 111124701/111124696/111129825/111111579/111108190/111135084/111128997/111124977/111106750/111123417/111130886/111104027/111135329\\\\\n",
       "\\end{tabular}\n"
      ],
      "text/markdown": [
       "\n",
       "A data.frame: 6 × 11\n",
       "\n",
       "| <!--/--> | ID &lt;chr&gt; | Description &lt;chr&gt; | setSize &lt;int&gt; | enrichmentScore &lt;dbl&gt; | NES &lt;dbl&gt; | pvalue &lt;dbl&gt; | p.adjust &lt;dbl&gt; | qvalue &lt;dbl&gt; | rank &lt;int&gt; | leading_edge &lt;chr&gt; | core_enrichment &lt;chr&gt; |\n",
       "|---|---|---|---|---|---|---|---|---|---|---|---|\n",
       "| 1 | cvn00910 | Nitrogen metabolism               | 10 | 0.7751841 | 1.619242 | 0.007876028 | 0.2056087 | 0.1873304 | 1398 | tags=50%, list=10%, signal=45% | 111134700/111100398/111100399/111126492/111135592                                                                                 |\n",
       "| 2 | cvn00053 | Ascorbate and aldarate metabolism | 11 | 0.7413812 | 1.583931 | 0.013924094 | 0.2056087 | 0.1873304 | 2374 | tags=55%, list=18%, signal=45% | 111124535/111103451/111124599/111112920/111115614/111103498                                                                       |\n",
       "| 3 | cvn00052 | Galactose metabolism              | 21 | 0.6484812 | 1.582238 | 0.015374308 | 0.2056087 | 0.1873304 | 2261 | tags=38%, list=17%, signal=32% | 111101197/111118471/111101820/111113388/111109442/111099882/111120703/111118006                                                   |\n",
       "| 4 | cvn00592 | alpha-Linolenic acid metabolism   | 11 | 0.7377666 | 1.576208 | 0.015550238 | 0.2056087 | 0.1873304 | 1602 | tags=45%, list=12%, signal=40% | 111113990/111115744/111107112/111115745/111124908                                                                                 |\n",
       "| 5 | cvn00511 | Other glycan degradation          | 37 | 0.5917499 | 1.563906 | 0.004948574 | 0.2056087 | 0.1873304 | 2221 | tags=30%, list=16%, signal=25% | 111106921/111106925/111106928/111119851/111119435/111120040/111113388/111119434/111106926/111119431/111106930                     |\n",
       "| 6 | cvn03250 | Viral life cycle                  | 28 | 0.6023539 | 1.532503 | 0.008064620 | 0.2056087 | 0.1873304 | 2628 | tags=46%, list=19%, signal=37% | 111124701/111124696/111129825/111111579/111108190/111135084/111128997/111124977/111106750/111123417/111130886/111104027/111135329 |\n",
       "\n"
      ],
      "text/plain": [
       "  ID       Description                       setSize enrichmentScore NES     \n",
       "1 cvn00910 Nitrogen metabolism               10      0.7751841       1.619242\n",
       "2 cvn00053 Ascorbate and aldarate metabolism 11      0.7413812       1.583931\n",
       "3 cvn00052 Galactose metabolism              21      0.6484812       1.582238\n",
       "4 cvn00592 alpha-Linolenic acid metabolism   11      0.7377666       1.576208\n",
       "5 cvn00511 Other glycan degradation          37      0.5917499       1.563906\n",
       "6 cvn03250 Viral life cycle                  28      0.6023539       1.532503\n",
       "  pvalue      p.adjust  qvalue    rank leading_edge                  \n",
       "1 0.007876028 0.2056087 0.1873304 1398 tags=50%, list=10%, signal=45%\n",
       "2 0.013924094 0.2056087 0.1873304 2374 tags=55%, list=18%, signal=45%\n",
       "3 0.015374308 0.2056087 0.1873304 2261 tags=38%, list=17%, signal=32%\n",
       "4 0.015550238 0.2056087 0.1873304 1602 tags=45%, list=12%, signal=40%\n",
       "5 0.004948574 0.2056087 0.1873304 2221 tags=30%, list=16%, signal=25%\n",
       "6 0.008064620 0.2056087 0.1873304 2628 tags=46%, list=19%, signal=37%\n",
       "  core_enrichment                                                                                                                  \n",
       "1 111134700/111100398/111100399/111126492/111135592                                                                                \n",
       "2 111124535/111103451/111124599/111112920/111115614/111103498                                                                      \n",
       "3 111101197/111118471/111101820/111113388/111109442/111099882/111120703/111118006                                                  \n",
       "4 111113990/111115744/111107112/111115745/111124908                                                                                \n",
       "5 111106921/111106925/111106928/111119851/111119435/111120040/111113388/111119434/111106926/111119431/111106930                    \n",
       "6 111124701/111124696/111129825/111111579/111108190/111135084/111128997/111124977/111106750/111123417/111130886/111104027/111135329"
      ]
     },
     "metadata": {},
     "output_type": "display_data"
    }
   ],
   "source": [
    "# load in csv file\n",
    "pathway <- read.csv('/project/pi_sarah_gignouxwolfsohn_uml_edu/julia/CE_MethylRAD_analysis_2018/analysis/lfc_kegg_pathways/p1_wc_pathway.csv')\n",
    "\n",
    "# clean headers and columns\n",
    "pathway <- pathway[,-1]\n",
    "\n",
    "# checking dimensions\n",
    "dim(pathway) #119 pathways, 11 rows of info/meta data\n",
    "\n",
    "head(pathway)"
   ]
  },
  {
   "cell_type": "code",
   "execution_count": 4,
   "id": "51b8ab95-06b5-4614-bbf4-5955beed8ac7",
   "metadata": {},
   "outputs": [
    {
     "data": {
      "text/html": [
       "<style>\n",
       ".list-inline {list-style: none; margin:0; padding: 0}\n",
       ".list-inline>li {display: inline-block}\n",
       ".list-inline>li:not(:last-child)::after {content: \"\\00b7\"; padding: 0 .5ex}\n",
       "</style>\n",
       "<ol class=list-inline><li>189</li><li>3</li></ol>\n"
      ],
      "text/latex": [
       "\\begin{enumerate*}\n",
       "\\item 189\n",
       "\\item 3\n",
       "\\end{enumerate*}\n"
      ],
      "text/markdown": [
       "1. 189\n",
       "2. 3\n",
       "\n",
       "\n"
      ],
      "text/plain": [
       "[1] 189   3"
      ]
     },
     "metadata": {},
     "output_type": "display_data"
    },
    {
     "data": {
      "text/html": [
       "<table class=\"dataframe\">\n",
       "<caption>A data.frame: 6 × 3</caption>\n",
       "<thead>\n",
       "\t<tr><th></th><th scope=col>gene</th><th scope=col>lfc</th><th scope=col>padj</th></tr>\n",
       "\t<tr><th></th><th scope=col>&lt;chr&gt;</th><th scope=col>&lt;dbl&gt;</th><th scope=col>&lt;dbl&gt;</th></tr>\n",
       "</thead>\n",
       "<tbody>\n",
       "\t<tr><th scope=row>1</th><td>111128103</td><td>1.644558</td><td>0.0307415459</td></tr>\n",
       "\t<tr><th scope=row>2</th><td>111137770</td><td>2.655903</td><td>0.0178939261</td></tr>\n",
       "\t<tr><th scope=row>3</th><td>111111295</td><td>2.360240</td><td>0.0137418025</td></tr>\n",
       "\t<tr><th scope=row>4</th><td>111125391</td><td>2.205531</td><td>0.0207473298</td></tr>\n",
       "\t<tr><th scope=row>5</th><td>111110197</td><td>1.863842</td><td>0.0209235911</td></tr>\n",
       "\t<tr><th scope=row>6</th><td>111115675</td><td>2.781707</td><td>0.0000792069</td></tr>\n",
       "</tbody>\n",
       "</table>\n"
      ],
      "text/latex": [
       "A data.frame: 6 × 3\n",
       "\\begin{tabular}{r|lll}\n",
       "  & gene & lfc & padj\\\\\n",
       "  & <chr> & <dbl> & <dbl>\\\\\n",
       "\\hline\n",
       "\t1 & 111128103 & 1.644558 & 0.0307415459\\\\\n",
       "\t2 & 111137770 & 2.655903 & 0.0178939261\\\\\n",
       "\t3 & 111111295 & 2.360240 & 0.0137418025\\\\\n",
       "\t4 & 111125391 & 2.205531 & 0.0207473298\\\\\n",
       "\t5 & 111110197 & 1.863842 & 0.0209235911\\\\\n",
       "\t6 & 111115675 & 2.781707 & 0.0000792069\\\\\n",
       "\\end{tabular}\n"
      ],
      "text/markdown": [
       "\n",
       "A data.frame: 6 × 3\n",
       "\n",
       "| <!--/--> | gene &lt;chr&gt; | lfc &lt;dbl&gt; | padj &lt;dbl&gt; |\n",
       "|---|---|---|---|\n",
       "| 1 | 111128103 | 1.644558 | 0.0307415459 |\n",
       "| 2 | 111137770 | 2.655903 | 0.0178939261 |\n",
       "| 3 | 111111295 | 2.360240 | 0.0137418025 |\n",
       "| 4 | 111125391 | 2.205531 | 0.0207473298 |\n",
       "| 5 | 111110197 | 1.863842 | 0.0209235911 |\n",
       "| 6 | 111115675 | 2.781707 | 0.0000792069 |\n",
       "\n"
      ],
      "text/plain": [
       "  gene      lfc      padj        \n",
       "1 111128103 1.644558 0.0307415459\n",
       "2 111137770 2.655903 0.0178939261\n",
       "3 111111295 2.360240 0.0137418025\n",
       "4 111125391 2.205531 0.0207473298\n",
       "5 111110197 1.863842 0.0209235911\n",
       "6 111115675 2.781707 0.0000792069"
      ]
     },
     "metadata": {},
     "output_type": "display_data"
    }
   ],
   "source": [
    "# load data frame\n",
    "genes <- read.csv('/project/pi_sarah_gignouxwolfsohn_uml_edu/julia/CE_MethylRAD_analysis_2018/analysis/lfc_sig_genes/phase1_wc_genes.csv')\n",
    "\n",
    "# KEGG uses entrez IDs, which are my ensembl IDs without the 'LOC' in front of them, so need to convert those\n",
    "genes$X <- substr(genes$X, start = 4, stop = nchar(genes$X))\n",
    "\n",
    "# only grabbing the columns I care about\n",
    "genes <- select(genes, X, log2FoldChange, padj)\n",
    "\n",
    "# renaming columns to make more sense\n",
    "colnames(genes) <- c('gene', 'lfc', 'padj')\n",
    "\n",
    "# checking dimensions\n",
    "dim(genes) # 189 sig DMGs\n",
    "\n",
    "head(genes)"
   ]
  },
  {
   "cell_type": "markdown",
   "id": "4dbd9070-7a0a-4b37-9eab-230d5779d82e",
   "metadata": {},
   "source": [
    "#### III. Are the signficant genes in the core enrichment of the pathways?\n",
    "Taking our list of siginificant genes, and going line by line in our pathways to see if our sig. gene matches any of the core enrichment genes"
   ]
  },
  {
   "cell_type": "code",
   "execution_count": 5,
   "id": "d5a49b65-155d-47bd-aeb9-ad8c15e8dcc4",
   "metadata": {},
   "outputs": [
    {
     "data": {
      "text/html": [
       "<table class=\"dataframe\">\n",
       "<caption>A data.frame: 6 × 12</caption>\n",
       "<thead>\n",
       "\t<tr><th></th><th scope=col>ID</th><th scope=col>Description</th><th scope=col>setSize</th><th scope=col>enrichmentScore</th><th scope=col>NES</th><th scope=col>pvalue</th><th scope=col>p.adjust</th><th scope=col>qvalue</th><th scope=col>rank</th><th scope=col>leading_edge</th><th scope=col>core_enrichment</th><th scope=col>MatchesCount</th></tr>\n",
       "\t<tr><th></th><th scope=col>&lt;chr&gt;</th><th scope=col>&lt;chr&gt;</th><th scope=col>&lt;int&gt;</th><th scope=col>&lt;dbl&gt;</th><th scope=col>&lt;dbl&gt;</th><th scope=col>&lt;dbl&gt;</th><th scope=col>&lt;dbl&gt;</th><th scope=col>&lt;dbl&gt;</th><th scope=col>&lt;int&gt;</th><th scope=col>&lt;chr&gt;</th><th scope=col>&lt;chr&gt;</th><th scope=col>&lt;int&gt;</th></tr>\n",
       "</thead>\n",
       "<tbody>\n",
       "\t<tr><th scope=row>9</th><td>cvn04814</td><td>Motor proteins                       </td><td>110</td><td>0.4860525</td><td>1.448496</td><td>0.008328566</td><td>0.2056087</td><td>0.1873304</td><td>1179</td><td>tags=18%, list=9%, signal=17% </td><td>111136151/111134768/111107338/111102596/111112439/111103394/111115784/111129526/111107250/111127380/111134843/111137068/111131563/111119946/111134888/111120500/111129376/111130940/111125250/111131555                                                                                                                                                                                                                            </td><td>7</td></tr>\n",
       "\t<tr><th scope=row>15</th><td>cvn04144</td><td>Endocytosis                          </td><td>130</td><td>0.4435434</td><td>1.329267</td><td>0.030581040</td><td>0.2426096</td><td>0.2210419</td><td>3185</td><td>tags=32%, list=24%, signal=25%</td><td>111120187/111125099/111112319/111119513/111112439/111119512/111136896/111104852/111102907/111107174/111136866/111125956/111134954/111112863/111116971/111112700/111135084/111133388/111134171/111121253/111115795/111127289/111129312/111134242/111121437/111129503/111135594/111106223/111123210/111125223/111105462/111104835/111104585/111104028/111133563/111105923/111119177/111101822/111104196/111137900/111112119/111123772</td><td>5</td></tr>\n",
       "\t<tr><th scope=row>41</th><td>cvn03040</td><td>Spliceosome                          </td><td> 91</td><td>0.4067843</td><td>1.195986</td><td>0.179752066</td><td>0.5397379</td><td>0.4917559</td><td>1557</td><td>tags=16%, list=11%, signal=15%</td><td>111112733/111137770/111119513/111119512/111129112/111133954/111121854/111121021/111118318/111119442/111134531/111114893/111136440/111135640/111136164                                                                                                                                                                                                                                                                              </td><td>4</td></tr>\n",
       "\t<tr><th scope=row>1</th><td>cvn00910</td><td>Nitrogen metabolism                  </td><td> 10</td><td>0.7751841</td><td>1.619242</td><td>0.007876028</td><td>0.2056087</td><td>0.1873304</td><td>1398</td><td>tags=50%, list=10%, signal=45%</td><td>111134700/111100398/111100399/111126492/111135592                                                                                                                                                                                                                                                                                                                                                                                  </td><td>3</td></tr>\n",
       "\t<tr><th scope=row>30</th><td>cvn04070</td><td>Phosphatidylinositol signaling system</td><td> 55</td><td>0.4596708</td><td>1.283800</td><td>0.115015974</td><td>0.5397379</td><td>0.4917559</td><td>2592</td><td>tags=27%, list=19%, signal=22%</td><td>111101050/111127799/111125442/111100277/111125100/111126338/111100148/111135914/111134544/111120505/111135557/111122823/111128823/111138290/111130239                                                                                                                                                                                                                                                                              </td><td>3</td></tr>\n",
       "\t<tr><th scope=row>34</th><td>cvn00562</td><td>Inositol phosphate metabolism        </td><td> 46</td><td>0.4548720</td><td>1.242543</td><td>0.155361050</td><td>0.5397379</td><td>0.4917559</td><td>2592</td><td>tags=26%, list=19%, signal=21%</td><td>111101050/111127799/111125442/111125100/111126338/111100148/111135914/111134544/111120505/111135557/111138290/111130239                                                                                                                                                                                                                                                                                                            </td><td>3</td></tr>\n",
       "</tbody>\n",
       "</table>\n"
      ],
      "text/latex": [
       "A data.frame: 6 × 12\n",
       "\\begin{tabular}{r|llllllllllll}\n",
       "  & ID & Description & setSize & enrichmentScore & NES & pvalue & p.adjust & qvalue & rank & leading\\_edge & core\\_enrichment & MatchesCount\\\\\n",
       "  & <chr> & <chr> & <int> & <dbl> & <dbl> & <dbl> & <dbl> & <dbl> & <int> & <chr> & <chr> & <int>\\\\\n",
       "\\hline\n",
       "\t9 & cvn04814 & Motor proteins                        & 110 & 0.4860525 & 1.448496 & 0.008328566 & 0.2056087 & 0.1873304 & 1179 & tags=18\\%, list=9\\%, signal=17\\%  & 111136151/111134768/111107338/111102596/111112439/111103394/111115784/111129526/111107250/111127380/111134843/111137068/111131563/111119946/111134888/111120500/111129376/111130940/111125250/111131555                                                                                                                                                                                                                             & 7\\\\\n",
       "\t15 & cvn04144 & Endocytosis                           & 130 & 0.4435434 & 1.329267 & 0.030581040 & 0.2426096 & 0.2210419 & 3185 & tags=32\\%, list=24\\%, signal=25\\% & 111120187/111125099/111112319/111119513/111112439/111119512/111136896/111104852/111102907/111107174/111136866/111125956/111134954/111112863/111116971/111112700/111135084/111133388/111134171/111121253/111115795/111127289/111129312/111134242/111121437/111129503/111135594/111106223/111123210/111125223/111105462/111104835/111104585/111104028/111133563/111105923/111119177/111101822/111104196/111137900/111112119/111123772 & 5\\\\\n",
       "\t41 & cvn03040 & Spliceosome                           &  91 & 0.4067843 & 1.195986 & 0.179752066 & 0.5397379 & 0.4917559 & 1557 & tags=16\\%, list=11\\%, signal=15\\% & 111112733/111137770/111119513/111119512/111129112/111133954/111121854/111121021/111118318/111119442/111134531/111114893/111136440/111135640/111136164                                                                                                                                                                                                                                                                               & 4\\\\\n",
       "\t1 & cvn00910 & Nitrogen metabolism                   &  10 & 0.7751841 & 1.619242 & 0.007876028 & 0.2056087 & 0.1873304 & 1398 & tags=50\\%, list=10\\%, signal=45\\% & 111134700/111100398/111100399/111126492/111135592                                                                                                                                                                                                                                                                                                                                                                                   & 3\\\\\n",
       "\t30 & cvn04070 & Phosphatidylinositol signaling system &  55 & 0.4596708 & 1.283800 & 0.115015974 & 0.5397379 & 0.4917559 & 2592 & tags=27\\%, list=19\\%, signal=22\\% & 111101050/111127799/111125442/111100277/111125100/111126338/111100148/111135914/111134544/111120505/111135557/111122823/111128823/111138290/111130239                                                                                                                                                                                                                                                                               & 3\\\\\n",
       "\t34 & cvn00562 & Inositol phosphate metabolism         &  46 & 0.4548720 & 1.242543 & 0.155361050 & 0.5397379 & 0.4917559 & 2592 & tags=26\\%, list=19\\%, signal=21\\% & 111101050/111127799/111125442/111125100/111126338/111100148/111135914/111134544/111120505/111135557/111138290/111130239                                                                                                                                                                                                                                                                                                             & 3\\\\\n",
       "\\end{tabular}\n"
      ],
      "text/markdown": [
       "\n",
       "A data.frame: 6 × 12\n",
       "\n",
       "| <!--/--> | ID &lt;chr&gt; | Description &lt;chr&gt; | setSize &lt;int&gt; | enrichmentScore &lt;dbl&gt; | NES &lt;dbl&gt; | pvalue &lt;dbl&gt; | p.adjust &lt;dbl&gt; | qvalue &lt;dbl&gt; | rank &lt;int&gt; | leading_edge &lt;chr&gt; | core_enrichment &lt;chr&gt; | MatchesCount &lt;int&gt; |\n",
       "|---|---|---|---|---|---|---|---|---|---|---|---|---|\n",
       "| 9 | cvn04814 | Motor proteins                        | 110 | 0.4860525 | 1.448496 | 0.008328566 | 0.2056087 | 0.1873304 | 1179 | tags=18%, list=9%, signal=17%  | 111136151/111134768/111107338/111102596/111112439/111103394/111115784/111129526/111107250/111127380/111134843/111137068/111131563/111119946/111134888/111120500/111129376/111130940/111125250/111131555                                                                                                                                                                                                                             | 7 |\n",
       "| 15 | cvn04144 | Endocytosis                           | 130 | 0.4435434 | 1.329267 | 0.030581040 | 0.2426096 | 0.2210419 | 3185 | tags=32%, list=24%, signal=25% | 111120187/111125099/111112319/111119513/111112439/111119512/111136896/111104852/111102907/111107174/111136866/111125956/111134954/111112863/111116971/111112700/111135084/111133388/111134171/111121253/111115795/111127289/111129312/111134242/111121437/111129503/111135594/111106223/111123210/111125223/111105462/111104835/111104585/111104028/111133563/111105923/111119177/111101822/111104196/111137900/111112119/111123772 | 5 |\n",
       "| 41 | cvn03040 | Spliceosome                           |  91 | 0.4067843 | 1.195986 | 0.179752066 | 0.5397379 | 0.4917559 | 1557 | tags=16%, list=11%, signal=15% | 111112733/111137770/111119513/111119512/111129112/111133954/111121854/111121021/111118318/111119442/111134531/111114893/111136440/111135640/111136164                                                                                                                                                                                                                                                                               | 4 |\n",
       "| 1 | cvn00910 | Nitrogen metabolism                   |  10 | 0.7751841 | 1.619242 | 0.007876028 | 0.2056087 | 0.1873304 | 1398 | tags=50%, list=10%, signal=45% | 111134700/111100398/111100399/111126492/111135592                                                                                                                                                                                                                                                                                                                                                                                   | 3 |\n",
       "| 30 | cvn04070 | Phosphatidylinositol signaling system |  55 | 0.4596708 | 1.283800 | 0.115015974 | 0.5397379 | 0.4917559 | 2592 | tags=27%, list=19%, signal=22% | 111101050/111127799/111125442/111100277/111125100/111126338/111100148/111135914/111134544/111120505/111135557/111122823/111128823/111138290/111130239                                                                                                                                                                                                                                                                               | 3 |\n",
       "| 34 | cvn00562 | Inositol phosphate metabolism         |  46 | 0.4548720 | 1.242543 | 0.155361050 | 0.5397379 | 0.4917559 | 2592 | tags=26%, list=19%, signal=21% | 111101050/111127799/111125442/111125100/111126338/111100148/111135914/111134544/111120505/111135557/111138290/111130239                                                                                                                                                                                                                                                                                                             | 3 |\n",
       "\n"
      ],
      "text/plain": [
       "   ID       Description                           setSize enrichmentScore\n",
       "9  cvn04814 Motor proteins                        110     0.4860525      \n",
       "15 cvn04144 Endocytosis                           130     0.4435434      \n",
       "41 cvn03040 Spliceosome                            91     0.4067843      \n",
       "1  cvn00910 Nitrogen metabolism                    10     0.7751841      \n",
       "30 cvn04070 Phosphatidylinositol signaling system  55     0.4596708      \n",
       "34 cvn00562 Inositol phosphate metabolism          46     0.4548720      \n",
       "   NES      pvalue      p.adjust  qvalue    rank leading_edge                  \n",
       "9  1.448496 0.008328566 0.2056087 0.1873304 1179 tags=18%, list=9%, signal=17% \n",
       "15 1.329267 0.030581040 0.2426096 0.2210419 3185 tags=32%, list=24%, signal=25%\n",
       "41 1.195986 0.179752066 0.5397379 0.4917559 1557 tags=16%, list=11%, signal=15%\n",
       "1  1.619242 0.007876028 0.2056087 0.1873304 1398 tags=50%, list=10%, signal=45%\n",
       "30 1.283800 0.115015974 0.5397379 0.4917559 2592 tags=27%, list=19%, signal=22%\n",
       "34 1.242543 0.155361050 0.5397379 0.4917559 2592 tags=26%, list=19%, signal=21%\n",
       "   core_enrichment                                                                                                                                                                                                                                                                                                                                                                                                                    \n",
       "9  111136151/111134768/111107338/111102596/111112439/111103394/111115784/111129526/111107250/111127380/111134843/111137068/111131563/111119946/111134888/111120500/111129376/111130940/111125250/111131555                                                                                                                                                                                                                            \n",
       "15 111120187/111125099/111112319/111119513/111112439/111119512/111136896/111104852/111102907/111107174/111136866/111125956/111134954/111112863/111116971/111112700/111135084/111133388/111134171/111121253/111115795/111127289/111129312/111134242/111121437/111129503/111135594/111106223/111123210/111125223/111105462/111104835/111104585/111104028/111133563/111105923/111119177/111101822/111104196/111137900/111112119/111123772\n",
       "41 111112733/111137770/111119513/111119512/111129112/111133954/111121854/111121021/111118318/111119442/111134531/111114893/111136440/111135640/111136164                                                                                                                                                                                                                                                                              \n",
       "1  111134700/111100398/111100399/111126492/111135592                                                                                                                                                                                                                                                                                                                                                                                  \n",
       "30 111101050/111127799/111125442/111100277/111125100/111126338/111100148/111135914/111134544/111120505/111135557/111122823/111128823/111138290/111130239                                                                                                                                                                                                                                                                              \n",
       "34 111101050/111127799/111125442/111125100/111126338/111100148/111135914/111134544/111120505/111135557/111138290/111130239                                                                                                                                                                                                                                                                                                            \n",
       "   MatchesCount\n",
       "9  7           \n",
       "15 5           \n",
       "41 4           \n",
       "1  3           \n",
       "30 3           \n",
       "34 3           "
      ]
     },
     "metadata": {},
     "output_type": "display_data"
    }
   ],
   "source": [
    "# generated from ChatGPT\n",
    "\n",
    "# Sample dataframes\n",
    "df1 <- genes\n",
    "df2 <- pathway\n",
    "\n",
    "# Function to check if any gene in df1 matches genes in a row of df2\n",
    "get_gene_matches <- function(row_df2, df1_genes) {\n",
    "  genes2 <- unlist(strsplit(as.character(row_df2), \"/\"))\n",
    "  count <- sum(genes2 %in% df1_genes)\n",
    "  return(count)\n",
    "}\n",
    "\n",
    "# Iterate over each row of df2\n",
    "matches_count <- sapply(df2$core_enrichment, get_gene_matches, df1_genes = df1$gene)\n",
    "\n",
    "# Add the matches count to df2\n",
    "df2$MatchesCount <- matches_count\n",
    "\n",
    "# Sort df with highest match counts at the top\n",
    "gene_pathway_match <- df2[order(-df2$MatchesCount),]\n",
    "head(gene_pathway_match)\n"
   ]
  },
  {
   "cell_type": "markdown",
   "id": "798c4c9b-1691-4a91-ac3a-e889e0aaa8ac",
   "metadata": {},
   "source": [
    "now that I have a df with counts of number of matches between core enrichment genes and significant DMGs, want to only look at those with matches (filter out any pathways that did not contain sig. DMGs in their core enrichment)"
   ]
  },
  {
   "cell_type": "code",
   "execution_count": 8,
   "id": "e2917340-6ce8-4f1c-925c-31bb32f76fdc",
   "metadata": {},
   "outputs": [
    {
     "data": {
      "text/html": [
       "<style>\n",
       ".list-inline {list-style: none; margin:0; padding: 0}\n",
       ".list-inline>li {display: inline-block}\n",
       ".list-inline>li:not(:last-child)::after {content: \"\\00b7\"; padding: 0 .5ex}\n",
       "</style>\n",
       "<ol class=list-inline><li>41</li><li>12</li></ol>\n"
      ],
      "text/latex": [
       "\\begin{enumerate*}\n",
       "\\item 41\n",
       "\\item 12\n",
       "\\end{enumerate*}\n"
      ],
      "text/markdown": [
       "1. 41\n",
       "2. 12\n",
       "\n",
       "\n"
      ],
      "text/plain": [
       "[1] 41 12"
      ]
     },
     "metadata": {},
     "output_type": "display_data"
    },
    {
     "data": {
      "text/html": [
       "<table class=\"dataframe\">\n",
       "<caption>A data.frame: 6 × 12</caption>\n",
       "<thead>\n",
       "\t<tr><th></th><th scope=col>ID</th><th scope=col>Description</th><th scope=col>setSize</th><th scope=col>enrichmentScore</th><th scope=col>NES</th><th scope=col>pvalue</th><th scope=col>p.adjust</th><th scope=col>qvalue</th><th scope=col>rank</th><th scope=col>leading_edge</th><th scope=col>core_enrichment</th><th scope=col>MatchesCount</th></tr>\n",
       "\t<tr><th></th><th scope=col>&lt;chr&gt;</th><th scope=col>&lt;chr&gt;</th><th scope=col>&lt;int&gt;</th><th scope=col>&lt;dbl&gt;</th><th scope=col>&lt;dbl&gt;</th><th scope=col>&lt;dbl&gt;</th><th scope=col>&lt;dbl&gt;</th><th scope=col>&lt;dbl&gt;</th><th scope=col>&lt;int&gt;</th><th scope=col>&lt;chr&gt;</th><th scope=col>&lt;chr&gt;</th><th scope=col>&lt;int&gt;</th></tr>\n",
       "</thead>\n",
       "<tbody>\n",
       "\t<tr><th scope=row>1</th><td>cvn04814</td><td>Motor proteins                       </td><td>110</td><td>0.4860525</td><td>1.448496</td><td>0.008328566</td><td>0.2056087</td><td>0.1873304</td><td>1179</td><td>tags=18%, list=9%, signal=17% </td><td>111136151/111134768/111107338/111102596/111112439/111103394/111115784/111129526/111107250/111127380/111134843/111137068/111131563/111119946/111134888/111120500/111129376/111130940/111125250/111131555                                                                                                                                                                                                                            </td><td>7</td></tr>\n",
       "\t<tr><th scope=row>2</th><td>cvn04144</td><td>Endocytosis                          </td><td>130</td><td>0.4435434</td><td>1.329267</td><td>0.030581040</td><td>0.2426096</td><td>0.2210419</td><td>3185</td><td>tags=32%, list=24%, signal=25%</td><td>111120187/111125099/111112319/111119513/111112439/111119512/111136896/111104852/111102907/111107174/111136866/111125956/111134954/111112863/111116971/111112700/111135084/111133388/111134171/111121253/111115795/111127289/111129312/111134242/111121437/111129503/111135594/111106223/111123210/111125223/111105462/111104835/111104585/111104028/111133563/111105923/111119177/111101822/111104196/111137900/111112119/111123772</td><td>5</td></tr>\n",
       "\t<tr><th scope=row>3</th><td>cvn03040</td><td>Spliceosome                          </td><td> 91</td><td>0.4067843</td><td>1.195986</td><td>0.179752066</td><td>0.5397379</td><td>0.4917559</td><td>1557</td><td>tags=16%, list=11%, signal=15%</td><td>111112733/111137770/111119513/111119512/111129112/111133954/111121854/111121021/111118318/111119442/111134531/111114893/111136440/111135640/111136164                                                                                                                                                                                                                                                                              </td><td>4</td></tr>\n",
       "\t<tr><th scope=row>4</th><td>cvn00910</td><td>Nitrogen metabolism                  </td><td> 10</td><td>0.7751841</td><td>1.619242</td><td>0.007876028</td><td>0.2056087</td><td>0.1873304</td><td>1398</td><td>tags=50%, list=10%, signal=45%</td><td>111134700/111100398/111100399/111126492/111135592                                                                                                                                                                                                                                                                                                                                                                                  </td><td>3</td></tr>\n",
       "\t<tr><th scope=row>5</th><td>cvn04070</td><td>Phosphatidylinositol signaling system</td><td> 55</td><td>0.4596708</td><td>1.283800</td><td>0.115015974</td><td>0.5397379</td><td>0.4917559</td><td>2592</td><td>tags=27%, list=19%, signal=22%</td><td>111101050/111127799/111125442/111100277/111125100/111126338/111100148/111135914/111134544/111120505/111135557/111122823/111128823/111138290/111130239                                                                                                                                                                                                                                                                              </td><td>3</td></tr>\n",
       "\t<tr><th scope=row>6</th><td>cvn00562</td><td>Inositol phosphate metabolism        </td><td> 46</td><td>0.4548720</td><td>1.242543</td><td>0.155361050</td><td>0.5397379</td><td>0.4917559</td><td>2592</td><td>tags=26%, list=19%, signal=21%</td><td>111101050/111127799/111125442/111125100/111126338/111100148/111135914/111134544/111120505/111135557/111138290/111130239                                                                                                                                                                                                                                                                                                            </td><td>3</td></tr>\n",
       "</tbody>\n",
       "</table>\n"
      ],
      "text/latex": [
       "A data.frame: 6 × 12\n",
       "\\begin{tabular}{r|llllllllllll}\n",
       "  & ID & Description & setSize & enrichmentScore & NES & pvalue & p.adjust & qvalue & rank & leading\\_edge & core\\_enrichment & MatchesCount\\\\\n",
       "  & <chr> & <chr> & <int> & <dbl> & <dbl> & <dbl> & <dbl> & <dbl> & <int> & <chr> & <chr> & <int>\\\\\n",
       "\\hline\n",
       "\t1 & cvn04814 & Motor proteins                        & 110 & 0.4860525 & 1.448496 & 0.008328566 & 0.2056087 & 0.1873304 & 1179 & tags=18\\%, list=9\\%, signal=17\\%  & 111136151/111134768/111107338/111102596/111112439/111103394/111115784/111129526/111107250/111127380/111134843/111137068/111131563/111119946/111134888/111120500/111129376/111130940/111125250/111131555                                                                                                                                                                                                                             & 7\\\\\n",
       "\t2 & cvn04144 & Endocytosis                           & 130 & 0.4435434 & 1.329267 & 0.030581040 & 0.2426096 & 0.2210419 & 3185 & tags=32\\%, list=24\\%, signal=25\\% & 111120187/111125099/111112319/111119513/111112439/111119512/111136896/111104852/111102907/111107174/111136866/111125956/111134954/111112863/111116971/111112700/111135084/111133388/111134171/111121253/111115795/111127289/111129312/111134242/111121437/111129503/111135594/111106223/111123210/111125223/111105462/111104835/111104585/111104028/111133563/111105923/111119177/111101822/111104196/111137900/111112119/111123772 & 5\\\\\n",
       "\t3 & cvn03040 & Spliceosome                           &  91 & 0.4067843 & 1.195986 & 0.179752066 & 0.5397379 & 0.4917559 & 1557 & tags=16\\%, list=11\\%, signal=15\\% & 111112733/111137770/111119513/111119512/111129112/111133954/111121854/111121021/111118318/111119442/111134531/111114893/111136440/111135640/111136164                                                                                                                                                                                                                                                                               & 4\\\\\n",
       "\t4 & cvn00910 & Nitrogen metabolism                   &  10 & 0.7751841 & 1.619242 & 0.007876028 & 0.2056087 & 0.1873304 & 1398 & tags=50\\%, list=10\\%, signal=45\\% & 111134700/111100398/111100399/111126492/111135592                                                                                                                                                                                                                                                                                                                                                                                   & 3\\\\\n",
       "\t5 & cvn04070 & Phosphatidylinositol signaling system &  55 & 0.4596708 & 1.283800 & 0.115015974 & 0.5397379 & 0.4917559 & 2592 & tags=27\\%, list=19\\%, signal=22\\% & 111101050/111127799/111125442/111100277/111125100/111126338/111100148/111135914/111134544/111120505/111135557/111122823/111128823/111138290/111130239                                                                                                                                                                                                                                                                               & 3\\\\\n",
       "\t6 & cvn00562 & Inositol phosphate metabolism         &  46 & 0.4548720 & 1.242543 & 0.155361050 & 0.5397379 & 0.4917559 & 2592 & tags=26\\%, list=19\\%, signal=21\\% & 111101050/111127799/111125442/111125100/111126338/111100148/111135914/111134544/111120505/111135557/111138290/111130239                                                                                                                                                                                                                                                                                                             & 3\\\\\n",
       "\\end{tabular}\n"
      ],
      "text/markdown": [
       "\n",
       "A data.frame: 6 × 12\n",
       "\n",
       "| <!--/--> | ID &lt;chr&gt; | Description &lt;chr&gt; | setSize &lt;int&gt; | enrichmentScore &lt;dbl&gt; | NES &lt;dbl&gt; | pvalue &lt;dbl&gt; | p.adjust &lt;dbl&gt; | qvalue &lt;dbl&gt; | rank &lt;int&gt; | leading_edge &lt;chr&gt; | core_enrichment &lt;chr&gt; | MatchesCount &lt;int&gt; |\n",
       "|---|---|---|---|---|---|---|---|---|---|---|---|---|\n",
       "| 1 | cvn04814 | Motor proteins                        | 110 | 0.4860525 | 1.448496 | 0.008328566 | 0.2056087 | 0.1873304 | 1179 | tags=18%, list=9%, signal=17%  | 111136151/111134768/111107338/111102596/111112439/111103394/111115784/111129526/111107250/111127380/111134843/111137068/111131563/111119946/111134888/111120500/111129376/111130940/111125250/111131555                                                                                                                                                                                                                             | 7 |\n",
       "| 2 | cvn04144 | Endocytosis                           | 130 | 0.4435434 | 1.329267 | 0.030581040 | 0.2426096 | 0.2210419 | 3185 | tags=32%, list=24%, signal=25% | 111120187/111125099/111112319/111119513/111112439/111119512/111136896/111104852/111102907/111107174/111136866/111125956/111134954/111112863/111116971/111112700/111135084/111133388/111134171/111121253/111115795/111127289/111129312/111134242/111121437/111129503/111135594/111106223/111123210/111125223/111105462/111104835/111104585/111104028/111133563/111105923/111119177/111101822/111104196/111137900/111112119/111123772 | 5 |\n",
       "| 3 | cvn03040 | Spliceosome                           |  91 | 0.4067843 | 1.195986 | 0.179752066 | 0.5397379 | 0.4917559 | 1557 | tags=16%, list=11%, signal=15% | 111112733/111137770/111119513/111119512/111129112/111133954/111121854/111121021/111118318/111119442/111134531/111114893/111136440/111135640/111136164                                                                                                                                                                                                                                                                               | 4 |\n",
       "| 4 | cvn00910 | Nitrogen metabolism                   |  10 | 0.7751841 | 1.619242 | 0.007876028 | 0.2056087 | 0.1873304 | 1398 | tags=50%, list=10%, signal=45% | 111134700/111100398/111100399/111126492/111135592                                                                                                                                                                                                                                                                                                                                                                                   | 3 |\n",
       "| 5 | cvn04070 | Phosphatidylinositol signaling system |  55 | 0.4596708 | 1.283800 | 0.115015974 | 0.5397379 | 0.4917559 | 2592 | tags=27%, list=19%, signal=22% | 111101050/111127799/111125442/111100277/111125100/111126338/111100148/111135914/111134544/111120505/111135557/111122823/111128823/111138290/111130239                                                                                                                                                                                                                                                                               | 3 |\n",
       "| 6 | cvn00562 | Inositol phosphate metabolism         |  46 | 0.4548720 | 1.242543 | 0.155361050 | 0.5397379 | 0.4917559 | 2592 | tags=26%, list=19%, signal=21% | 111101050/111127799/111125442/111125100/111126338/111100148/111135914/111134544/111120505/111135557/111138290/111130239                                                                                                                                                                                                                                                                                                             | 3 |\n",
       "\n"
      ],
      "text/plain": [
       "  ID       Description                           setSize enrichmentScore\n",
       "1 cvn04814 Motor proteins                        110     0.4860525      \n",
       "2 cvn04144 Endocytosis                           130     0.4435434      \n",
       "3 cvn03040 Spliceosome                            91     0.4067843      \n",
       "4 cvn00910 Nitrogen metabolism                    10     0.7751841      \n",
       "5 cvn04070 Phosphatidylinositol signaling system  55     0.4596708      \n",
       "6 cvn00562 Inositol phosphate metabolism          46     0.4548720      \n",
       "  NES      pvalue      p.adjust  qvalue    rank leading_edge                  \n",
       "1 1.448496 0.008328566 0.2056087 0.1873304 1179 tags=18%, list=9%, signal=17% \n",
       "2 1.329267 0.030581040 0.2426096 0.2210419 3185 tags=32%, list=24%, signal=25%\n",
       "3 1.195986 0.179752066 0.5397379 0.4917559 1557 tags=16%, list=11%, signal=15%\n",
       "4 1.619242 0.007876028 0.2056087 0.1873304 1398 tags=50%, list=10%, signal=45%\n",
       "5 1.283800 0.115015974 0.5397379 0.4917559 2592 tags=27%, list=19%, signal=22%\n",
       "6 1.242543 0.155361050 0.5397379 0.4917559 2592 tags=26%, list=19%, signal=21%\n",
       "  core_enrichment                                                                                                                                                                                                                                                                                                                                                                                                                    \n",
       "1 111136151/111134768/111107338/111102596/111112439/111103394/111115784/111129526/111107250/111127380/111134843/111137068/111131563/111119946/111134888/111120500/111129376/111130940/111125250/111131555                                                                                                                                                                                                                            \n",
       "2 111120187/111125099/111112319/111119513/111112439/111119512/111136896/111104852/111102907/111107174/111136866/111125956/111134954/111112863/111116971/111112700/111135084/111133388/111134171/111121253/111115795/111127289/111129312/111134242/111121437/111129503/111135594/111106223/111123210/111125223/111105462/111104835/111104585/111104028/111133563/111105923/111119177/111101822/111104196/111137900/111112119/111123772\n",
       "3 111112733/111137770/111119513/111119512/111129112/111133954/111121854/111121021/111118318/111119442/111134531/111114893/111136440/111135640/111136164                                                                                                                                                                                                                                                                              \n",
       "4 111134700/111100398/111100399/111126492/111135592                                                                                                                                                                                                                                                                                                                                                                                  \n",
       "5 111101050/111127799/111125442/111100277/111125100/111126338/111100148/111135914/111134544/111120505/111135557/111122823/111128823/111138290/111130239                                                                                                                                                                                                                                                                              \n",
       "6 111101050/111127799/111125442/111125100/111126338/111100148/111135914/111134544/111120505/111135557/111138290/111130239                                                                                                                                                                                                                                                                                                            \n",
       "  MatchesCount\n",
       "1 7           \n",
       "2 5           \n",
       "3 4           \n",
       "4 3           \n",
       "5 3           \n",
       "6 3           "
      ]
     },
     "metadata": {},
     "output_type": "display_data"
    }
   ],
   "source": [
    "# only want to look at pathways that have significant genes in their core enrichment\n",
    "matched_pathways <- filter(gene_pathway_match, gene_pathway_match$MatchesCount != 0)\n",
    "\n",
    "# checking dimensions to see how many pathways we have \n",
    "dim(matched_pathways) # 41 matches\n",
    "\n",
    "# looking at df\n",
    "head(matched_pathways)"
   ]
  },
  {
   "cell_type": "code",
   "execution_count": 7,
   "id": "d23bfa01-ac8d-40ac-b93a-f1f74499f8d3",
   "metadata": {},
   "outputs": [
    {
     "data": {
      "text/html": [
       "1.80487804878049"
      ],
      "text/latex": [
       "1.80487804878049"
      ],
      "text/markdown": [
       "1.80487804878049"
      ],
      "text/plain": [
       "[1] 1.804878"
      ]
     },
     "metadata": {},
     "output_type": "display_data"
    },
    {
     "data": {
      "text/html": [
       "1"
      ],
      "text/latex": [
       "1"
      ],
      "text/markdown": [
       "1"
      ],
      "text/plain": [
       "[1] 1"
      ]
     },
     "metadata": {},
     "output_type": "display_data"
    },
    {
     "data": {
      "text/html": [
       "1.30804266358407"
      ],
      "text/latex": [
       "1.30804266358407"
      ],
      "text/markdown": [
       "1.30804266358407"
      ],
      "text/plain": [
       "[1] 1.308043"
      ]
     },
     "metadata": {},
     "output_type": "display_data"
    }
   ],
   "source": [
    "mean(matched_pathways$MatchesCount)\n",
    "median(matched_pathways$MatchesCount)\n",
    "sd(matched_pathways$MatchesCount)"
   ]
  },
  {
   "cell_type": "markdown",
   "id": "89283b11-ab2e-43d0-b1e9-411fc25b7024",
   "metadata": {},
   "source": [
    "**Stats on Matched Counts**\n",
    "\n",
    "25 pathways with only 1 match\n",
    "\n",
    "148 pathways with 0 matches\n",
    "\n",
    "- mean number of matches: 1.8\n",
    "- median number of matches: 1\n",
    "- standard deviation of matches: 1.31\n",
    "\n",
    "**motor proteins** have the highest number of significant DMGs in its core enrichment with 7 genes"
   ]
  }
 ],
 "metadata": {
  "kernelspec": {
   "display_name": "R [conda env:.conda-r-env]",
   "language": "R",
   "name": "conda-env-.conda-r-env-r"
  },
  "language_info": {
   "codemirror_mode": "r",
   "file_extension": ".r",
   "mimetype": "text/x-r-source",
   "name": "R",
   "pygments_lexer": "r",
   "version": "4.3.2"
  }
 },
 "nbformat": 4,
 "nbformat_minor": 5
}
