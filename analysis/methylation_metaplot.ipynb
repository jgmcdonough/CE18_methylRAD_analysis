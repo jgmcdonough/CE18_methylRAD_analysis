{
 "cells": [
  {
   "cell_type": "markdown",
   "id": "57e866bc-268e-4040-bea5-6670e16ba1d5",
   "metadata": {},
   "source": [
    "# Methylation Metaplot\n",
    "\n",
    "scaled position of genes and features - stetch/shrink individual genes/features to all be the same length, and see if there's a similar distribution of methylation for each treatment combination\n",
    "\n",
    "\n",
    "**Theoretical pipeline:** (loosely following [Venkataraman et al., 2020](https://github.com/epigeneticstoocean/paper-gonad-meth/blob/master/code/13-DML-Characterization.Rmd))\n",
    "- scale each gene feature from 0% to 100%\n",
    "\t- calculate gene length (gene.end - gene.start = length)\n",
    "\t- calculate absolute position of CpG (feature.start - gene.start = abs.position)\n",
    "\t\t- only methylated CpGs? so those with at least 5 sequences? \n",
    "\t\t- first plot all 5 replicates (in same color), then can collapse? (so CpG methylated if at least 3/5 replicates have 5 seqs or more)\n",
    "\t- calculate scaled position of CpG in feature/gene (abs.position / geneLength)\n",
    "- plot histogram/line plot"
   ]
  },
  {
   "cell_type": "markdown",
   "id": "de879559-e8cc-47be-8b49-6d3dccb7701d",
   "metadata": {},
   "source": [
    "# 0. load libraries and bed/csv files"
   ]
  },
  {
   "cell_type": "code",
   "execution_count": 1,
   "id": "e89c960c-4a0d-44e3-9e60-ae413cd14707",
   "metadata": {},
   "outputs": [
    {
     "name": "stderr",
     "output_type": "stream",
     "text": [
      "── \u001b[1mAttaching core tidyverse packages\u001b[22m ──────────────────────── tidyverse 2.0.0 ──\n",
      "\u001b[32m✔\u001b[39m \u001b[34mdplyr    \u001b[39m 1.1.4     \u001b[32m✔\u001b[39m \u001b[34mreadr    \u001b[39m 2.1.4\n",
      "\u001b[32m✔\u001b[39m \u001b[34mforcats  \u001b[39m 1.0.0     \u001b[32m✔\u001b[39m \u001b[34mstringr  \u001b[39m 1.5.1\n",
      "\u001b[32m✔\u001b[39m \u001b[34mggplot2  \u001b[39m 3.5.1     \u001b[32m✔\u001b[39m \u001b[34mtibble   \u001b[39m 3.2.1\n",
      "\u001b[32m✔\u001b[39m \u001b[34mlubridate\u001b[39m 1.9.3     \u001b[32m✔\u001b[39m \u001b[34mtidyr    \u001b[39m 1.3.0\n",
      "\u001b[32m✔\u001b[39m \u001b[34mpurrr    \u001b[39m 1.0.2     \n",
      "── \u001b[1mConflicts\u001b[22m ────────────────────────────────────────── tidyverse_conflicts() ──\n",
      "\u001b[31m✖\u001b[39m \u001b[34mdplyr\u001b[39m::\u001b[32mfilter()\u001b[39m masks \u001b[34mstats\u001b[39m::filter()\n",
      "\u001b[31m✖\u001b[39m \u001b[34mdplyr\u001b[39m::\u001b[32mlag()\u001b[39m    masks \u001b[34mstats\u001b[39m::lag()\n",
      "\u001b[36mℹ\u001b[39m Use the conflicted package (\u001b[3m\u001b[34m<http://conflicted.r-lib.org/>\u001b[39m\u001b[23m) to force all conflicts to become errors\n",
      "Loading required package: BiocGenerics\n",
      "\n",
      "\n",
      "Attaching package: ‘BiocGenerics’\n",
      "\n",
      "\n",
      "The following objects are masked from ‘package:lubridate’:\n",
      "\n",
      "    intersect, setdiff, union\n",
      "\n",
      "\n",
      "The following objects are masked from ‘package:dplyr’:\n",
      "\n",
      "    combine, intersect, setdiff, union\n",
      "\n",
      "\n",
      "The following objects are masked from ‘package:stats’:\n",
      "\n",
      "    IQR, mad, sd, var, xtabs\n",
      "\n",
      "\n",
      "The following objects are masked from ‘package:base’:\n",
      "\n",
      "    anyDuplicated, aperm, append, as.data.frame, basename, cbind,\n",
      "    colnames, dirname, do.call, duplicated, eval, evalq, Filter, Find,\n",
      "    get, grep, grepl, intersect, is.unsorted, lapply, Map, mapply,\n",
      "    match, mget, order, paste, pmax, pmax.int, pmin, pmin.int,\n",
      "    Position, rank, rbind, Reduce, rownames, sapply, setdiff, sort,\n",
      "    table, tapply, union, unique, unsplit, which.max, which.min\n",
      "\n",
      "\n",
      "Loading required package: S4Vectors\n",
      "\n",
      "Loading required package: stats4\n",
      "\n",
      "\n",
      "Attaching package: ‘S4Vectors’\n",
      "\n",
      "\n",
      "The following objects are masked from ‘package:lubridate’:\n",
      "\n",
      "    second, second<-\n",
      "\n",
      "\n",
      "The following objects are masked from ‘package:dplyr’:\n",
      "\n",
      "    first, rename\n",
      "\n",
      "\n",
      "The following object is masked from ‘package:tidyr’:\n",
      "\n",
      "    expand\n",
      "\n",
      "\n",
      "The following object is masked from ‘package:utils’:\n",
      "\n",
      "    findMatches\n",
      "\n",
      "\n",
      "The following objects are masked from ‘package:base’:\n",
      "\n",
      "    expand.grid, I, unname\n",
      "\n",
      "\n",
      "\n",
      "Attaching package: ‘IRanges’\n",
      "\n",
      "\n",
      "The following object is masked from ‘package:lubridate’:\n",
      "\n",
      "    %within%\n",
      "\n",
      "\n",
      "The following objects are masked from ‘package:dplyr’:\n",
      "\n",
      "    collapse, desc, slice\n",
      "\n",
      "\n",
      "The following object is masked from ‘package:purrr’:\n",
      "\n",
      "    reduce\n",
      "\n",
      "\n",
      "Loading required package: GenomeInfoDb\n",
      "\n"
     ]
    }
   ],
   "source": [
    "library(tidyverse)\n",
    "library(IRanges)\n",
    "library(GenomicRanges)"
   ]
  },
  {
   "cell_type": "markdown",
   "id": "40f6175d-ed90-4d33-a315-8fdbc8bf8b74",
   "metadata": {},
   "source": [
    "**genomic feature file**"
   ]
  },
  {
   "cell_type": "code",
   "execution_count": 3,
   "id": "e0a42213-61f5-49ff-bf83-ccb45c5e4dee",
   "metadata": {},
   "outputs": [
    {
     "data": {
      "text/html": [
       "<table class=\"dataframe\">\n",
       "<caption>A data.frame: 6 × 3</caption>\n",
       "<thead>\n",
       "\t<tr><th></th><th scope=col>chromosome</th><th scope=col>start</th><th scope=col>end</th></tr>\n",
       "\t<tr><th></th><th scope=col>&lt;chr&gt;</th><th scope=col>&lt;int&gt;</th><th scope=col>&lt;int&gt;</th></tr>\n",
       "</thead>\n",
       "<tbody>\n",
       "\t<tr><th scope=row>1</th><td>NC_035780.1</td><td> 13578</td><td> 14594</td></tr>\n",
       "\t<tr><th scope=row>2</th><td>NC_035780.1</td><td> 28961</td><td> 33324</td></tr>\n",
       "\t<tr><th scope=row>3</th><td>NC_035780.1</td><td> 43111</td><td> 66897</td></tr>\n",
       "\t<tr><th scope=row>4</th><td>NC_035780.1</td><td> 85606</td><td> 95254</td></tr>\n",
       "\t<tr><th scope=row>5</th><td>NC_035780.1</td><td> 99840</td><td>106460</td></tr>\n",
       "\t<tr><th scope=row>6</th><td>NC_035780.1</td><td>108305</td><td>110077</td></tr>\n",
       "</tbody>\n",
       "</table>\n"
      ],
      "text/latex": [
       "A data.frame: 6 × 3\n",
       "\\begin{tabular}{r|lll}\n",
       "  & chromosome & start & end\\\\\n",
       "  & <chr> & <int> & <int>\\\\\n",
       "\\hline\n",
       "\t1 & NC\\_035780.1 &  13578 &  14594\\\\\n",
       "\t2 & NC\\_035780.1 &  28961 &  33324\\\\\n",
       "\t3 & NC\\_035780.1 &  43111 &  66897\\\\\n",
       "\t4 & NC\\_035780.1 &  85606 &  95254\\\\\n",
       "\t5 & NC\\_035780.1 &  99840 & 106460\\\\\n",
       "\t6 & NC\\_035780.1 & 108305 & 110077\\\\\n",
       "\\end{tabular}\n"
      ],
      "text/markdown": [
       "\n",
       "A data.frame: 6 × 3\n",
       "\n",
       "| <!--/--> | chromosome &lt;chr&gt; | start &lt;int&gt; | end &lt;int&gt; |\n",
       "|---|---|---|---|\n",
       "| 1 | NC_035780.1 |  13578 |  14594 |\n",
       "| 2 | NC_035780.1 |  28961 |  33324 |\n",
       "| 3 | NC_035780.1 |  43111 |  66897 |\n",
       "| 4 | NC_035780.1 |  85606 |  95254 |\n",
       "| 5 | NC_035780.1 |  99840 | 106460 |\n",
       "| 6 | NC_035780.1 | 108305 | 110077 |\n",
       "\n"
      ],
      "text/plain": [
       "  chromosome  start  end   \n",
       "1 NC_035780.1  13578  14594\n",
       "2 NC_035780.1  28961  33324\n",
       "3 NC_035780.1  43111  66897\n",
       "4 NC_035780.1  85606  95254\n",
       "5 NC_035780.1  99840 106460\n",
       "6 NC_035780.1 108305 110077"
      ]
     },
     "metadata": {},
     "output_type": "display_data"
    }
   ],
   "source": [
    "allGenes <- read.csv('/project/pi_sarah_gignouxwolfsohn_uml_edu/julia/CE_MethylRAD_analysis_2018/analysis/genomic_feature_tracks/CV_gene_sorted.bed', sep='\\t', header=FALSE)\n",
    "colnames(allGenes) <- c('chromosome', 'start', 'end')\n",
    "head(allGenes)"
   ]
  },
  {
   "cell_type": "markdown",
   "id": "2452a6c2-93da-4b96-a6ed-f84e8a2f0167",
   "metadata": {},
   "source": [
    "**CpG counts**\n",
    "\n",
    "already generated this from CpG_coverage script"
   ]
  },
  {
   "cell_type": "code",
   "execution_count": 4,
   "id": "c9bd8007-871f-4087-8b51-8243c642f8fa",
   "metadata": {},
   "outputs": [
    {
     "data": {
      "text/html": [
       "<table class=\"dataframe\">\n",
       "<caption>A data.frame: 6 × 24</caption>\n",
       "<thead>\n",
       "\t<tr><th></th><th scope=col>chromosome</th><th scope=col>start</th><th scope=col>stop</th><th scope=col>CG_motif</th><th scope=col>CC1</th><th scope=col>CC2</th><th scope=col>CC3</th><th scope=col>CC4</th><th scope=col>CC5</th><th scope=col>CH1</th><th scope=col>⋯</th><th scope=col>HC1</th><th scope=col>HC2</th><th scope=col>HC3</th><th scope=col>HC4</th><th scope=col>HC5</th><th scope=col>HH1</th><th scope=col>HH2</th><th scope=col>HH3</th><th scope=col>HH4</th><th scope=col>HH5</th></tr>\n",
       "\t<tr><th></th><th scope=col>&lt;chr&gt;</th><th scope=col>&lt;int&gt;</th><th scope=col>&lt;int&gt;</th><th scope=col>&lt;chr&gt;</th><th scope=col>&lt;int&gt;</th><th scope=col>&lt;int&gt;</th><th scope=col>&lt;int&gt;</th><th scope=col>&lt;int&gt;</th><th scope=col>&lt;int&gt;</th><th scope=col>&lt;int&gt;</th><th scope=col>⋯</th><th scope=col>&lt;int&gt;</th><th scope=col>&lt;int&gt;</th><th scope=col>&lt;int&gt;</th><th scope=col>&lt;int&gt;</th><th scope=col>&lt;int&gt;</th><th scope=col>&lt;int&gt;</th><th scope=col>&lt;int&gt;</th><th scope=col>&lt;int&gt;</th><th scope=col>&lt;int&gt;</th><th scope=col>&lt;int&gt;</th></tr>\n",
       "</thead>\n",
       "<tbody>\n",
       "\t<tr><th scope=row>1</th><td>NC_035780.1</td><td> 54</td><td> 56</td><td>CG_motif</td><td>0</td><td>0</td><td>0</td><td>0</td><td>0</td><td>0</td><td>⋯</td><td>0</td><td>0</td><td>0</td><td>0</td><td>0</td><td>0</td><td>0</td><td>0</td><td>0</td><td>0</td></tr>\n",
       "\t<tr><th scope=row>2</th><td>NC_035780.1</td><td> 75</td><td> 77</td><td>CG_motif</td><td>0</td><td>0</td><td>0</td><td>0</td><td>0</td><td>0</td><td>⋯</td><td>0</td><td>0</td><td>0</td><td>0</td><td>0</td><td>0</td><td>0</td><td>0</td><td>0</td><td>0</td></tr>\n",
       "\t<tr><th scope=row>3</th><td>NC_035780.1</td><td> 93</td><td> 95</td><td>CG_motif</td><td>0</td><td>0</td><td>0</td><td>0</td><td>0</td><td>0</td><td>⋯</td><td>0</td><td>0</td><td>0</td><td>0</td><td>0</td><td>0</td><td>0</td><td>0</td><td>0</td><td>0</td></tr>\n",
       "\t<tr><th scope=row>4</th><td>NC_035780.1</td><td>103</td><td>105</td><td>CG_motif</td><td>0</td><td>0</td><td>0</td><td>0</td><td>0</td><td>0</td><td>⋯</td><td>0</td><td>0</td><td>0</td><td>0</td><td>0</td><td>0</td><td>0</td><td>0</td><td>0</td><td>0</td></tr>\n",
       "\t<tr><th scope=row>5</th><td>NC_035780.1</td><td>116</td><td>118</td><td>CG_motif</td><td>0</td><td>0</td><td>0</td><td>0</td><td>0</td><td>0</td><td>⋯</td><td>0</td><td>0</td><td>0</td><td>0</td><td>0</td><td>0</td><td>0</td><td>0</td><td>0</td><td>0</td></tr>\n",
       "\t<tr><th scope=row>6</th><td>NC_035780.1</td><td>134</td><td>136</td><td>CG_motif</td><td>0</td><td>0</td><td>0</td><td>0</td><td>0</td><td>0</td><td>⋯</td><td>0</td><td>0</td><td>0</td><td>0</td><td>0</td><td>0</td><td>0</td><td>0</td><td>0</td><td>0</td></tr>\n",
       "</tbody>\n",
       "</table>\n"
      ],
      "text/latex": [
       "A data.frame: 6 × 24\n",
       "\\begin{tabular}{r|lllllllllllllllllllll}\n",
       "  & chromosome & start & stop & CG\\_motif & CC1 & CC2 & CC3 & CC4 & CC5 & CH1 & ⋯ & HC1 & HC2 & HC3 & HC4 & HC5 & HH1 & HH2 & HH3 & HH4 & HH5\\\\\n",
       "  & <chr> & <int> & <int> & <chr> & <int> & <int> & <int> & <int> & <int> & <int> & ⋯ & <int> & <int> & <int> & <int> & <int> & <int> & <int> & <int> & <int> & <int>\\\\\n",
       "\\hline\n",
       "\t1 & NC\\_035780.1 &  54 &  56 & CG\\_motif & 0 & 0 & 0 & 0 & 0 & 0 & ⋯ & 0 & 0 & 0 & 0 & 0 & 0 & 0 & 0 & 0 & 0\\\\\n",
       "\t2 & NC\\_035780.1 &  75 &  77 & CG\\_motif & 0 & 0 & 0 & 0 & 0 & 0 & ⋯ & 0 & 0 & 0 & 0 & 0 & 0 & 0 & 0 & 0 & 0\\\\\n",
       "\t3 & NC\\_035780.1 &  93 &  95 & CG\\_motif & 0 & 0 & 0 & 0 & 0 & 0 & ⋯ & 0 & 0 & 0 & 0 & 0 & 0 & 0 & 0 & 0 & 0\\\\\n",
       "\t4 & NC\\_035780.1 & 103 & 105 & CG\\_motif & 0 & 0 & 0 & 0 & 0 & 0 & ⋯ & 0 & 0 & 0 & 0 & 0 & 0 & 0 & 0 & 0 & 0\\\\\n",
       "\t5 & NC\\_035780.1 & 116 & 118 & CG\\_motif & 0 & 0 & 0 & 0 & 0 & 0 & ⋯ & 0 & 0 & 0 & 0 & 0 & 0 & 0 & 0 & 0 & 0\\\\\n",
       "\t6 & NC\\_035780.1 & 134 & 136 & CG\\_motif & 0 & 0 & 0 & 0 & 0 & 0 & ⋯ & 0 & 0 & 0 & 0 & 0 & 0 & 0 & 0 & 0 & 0\\\\\n",
       "\\end{tabular}\n"
      ],
      "text/markdown": [
       "\n",
       "A data.frame: 6 × 24\n",
       "\n",
       "| <!--/--> | chromosome &lt;chr&gt; | start &lt;int&gt; | stop &lt;int&gt; | CG_motif &lt;chr&gt; | CC1 &lt;int&gt; | CC2 &lt;int&gt; | CC3 &lt;int&gt; | CC4 &lt;int&gt; | CC5 &lt;int&gt; | CH1 &lt;int&gt; | ⋯ ⋯ | HC1 &lt;int&gt; | HC2 &lt;int&gt; | HC3 &lt;int&gt; | HC4 &lt;int&gt; | HC5 &lt;int&gt; | HH1 &lt;int&gt; | HH2 &lt;int&gt; | HH3 &lt;int&gt; | HH4 &lt;int&gt; | HH5 &lt;int&gt; |\n",
       "|---|---|---|---|---|---|---|---|---|---|---|---|---|---|---|---|---|---|---|---|---|---|\n",
       "| 1 | NC_035780.1 |  54 |  56 | CG_motif | 0 | 0 | 0 | 0 | 0 | 0 | ⋯ | 0 | 0 | 0 | 0 | 0 | 0 | 0 | 0 | 0 | 0 |\n",
       "| 2 | NC_035780.1 |  75 |  77 | CG_motif | 0 | 0 | 0 | 0 | 0 | 0 | ⋯ | 0 | 0 | 0 | 0 | 0 | 0 | 0 | 0 | 0 | 0 |\n",
       "| 3 | NC_035780.1 |  93 |  95 | CG_motif | 0 | 0 | 0 | 0 | 0 | 0 | ⋯ | 0 | 0 | 0 | 0 | 0 | 0 | 0 | 0 | 0 | 0 |\n",
       "| 4 | NC_035780.1 | 103 | 105 | CG_motif | 0 | 0 | 0 | 0 | 0 | 0 | ⋯ | 0 | 0 | 0 | 0 | 0 | 0 | 0 | 0 | 0 | 0 |\n",
       "| 5 | NC_035780.1 | 116 | 118 | CG_motif | 0 | 0 | 0 | 0 | 0 | 0 | ⋯ | 0 | 0 | 0 | 0 | 0 | 0 | 0 | 0 | 0 | 0 |\n",
       "| 6 | NC_035780.1 | 134 | 136 | CG_motif | 0 | 0 | 0 | 0 | 0 | 0 | ⋯ | 0 | 0 | 0 | 0 | 0 | 0 | 0 | 0 | 0 | 0 |\n",
       "\n"
      ],
      "text/plain": [
       "  chromosome  start stop CG_motif CC1 CC2 CC3 CC4 CC5 CH1 ⋯ HC1 HC2 HC3 HC4 HC5\n",
       "1 NC_035780.1  54    56  CG_motif 0   0   0   0   0   0   ⋯ 0   0   0   0   0  \n",
       "2 NC_035780.1  75    77  CG_motif 0   0   0   0   0   0   ⋯ 0   0   0   0   0  \n",
       "3 NC_035780.1  93    95  CG_motif 0   0   0   0   0   0   ⋯ 0   0   0   0   0  \n",
       "4 NC_035780.1 103   105  CG_motif 0   0   0   0   0   0   ⋯ 0   0   0   0   0  \n",
       "5 NC_035780.1 116   118  CG_motif 0   0   0   0   0   0   ⋯ 0   0   0   0   0  \n",
       "6 NC_035780.1 134   136  CG_motif 0   0   0   0   0   0   ⋯ 0   0   0   0   0  \n",
       "  HH1 HH2 HH3 HH4 HH5\n",
       "1 0   0   0   0   0  \n",
       "2 0   0   0   0   0  \n",
       "3 0   0   0   0   0  \n",
       "4 0   0   0   0   0  \n",
       "5 0   0   0   0   0  \n",
       "6 0   0   0   0   0  "
      ]
     },
     "metadata": {},
     "output_type": "display_data"
    }
   ],
   "source": [
    "cpg <- read.csv('/project/pi_sarah_gignouxwolfsohn_uml_edu/julia/CE_methyl_assembly/assembly_pipeline_files/genomic_bed_files/CpG_multicov/all_CpGmulticov.csv')\n",
    "head(cpg)"
   ]
  },
  {
   "cell_type": "markdown",
   "id": "550a8bba-db20-4eeb-8341-fa7e02b17b81",
   "metadata": {},
   "source": [
    "# 1. Scale the feature\n",
    "Essentially stretching the feature of interest (gene, exon, intron, UTR) to all be the same length, then plotting the absolute position of methylated CpGs along the feature to look at distribution patterns\n",
    "\n",
    "### 1a. calculate feature length\n",
    "(although I end up doing this later in the bigger df)"
   ]
  },
  {
   "cell_type": "code",
   "execution_count": 5,
   "id": "0a2599c9-db80-42e6-9b6e-ecc4c5722bc3",
   "metadata": {},
   "outputs": [
    {
     "data": {
      "text/html": [
       "<table class=\"dataframe\">\n",
       "<caption>A data.frame: 6 × 4</caption>\n",
       "<thead>\n",
       "\t<tr><th></th><th scope=col>chromosome</th><th scope=col>start</th><th scope=col>stop</th><th scope=col>length</th></tr>\n",
       "\t<tr><th></th><th scope=col>&lt;chr&gt;</th><th scope=col>&lt;int&gt;</th><th scope=col>&lt;int&gt;</th><th scope=col>&lt;int&gt;</th></tr>\n",
       "</thead>\n",
       "<tbody>\n",
       "\t<tr><th scope=row>1</th><td>NC_035780.1</td><td> 13578</td><td> 14594</td><td> 1016</td></tr>\n",
       "\t<tr><th scope=row>2</th><td>NC_035780.1</td><td> 28961</td><td> 33324</td><td> 4363</td></tr>\n",
       "\t<tr><th scope=row>3</th><td>NC_035780.1</td><td> 43111</td><td> 66897</td><td>23786</td></tr>\n",
       "\t<tr><th scope=row>4</th><td>NC_035780.1</td><td> 85606</td><td> 95254</td><td> 9648</td></tr>\n",
       "\t<tr><th scope=row>5</th><td>NC_035780.1</td><td> 99840</td><td>106460</td><td> 6620</td></tr>\n",
       "\t<tr><th scope=row>6</th><td>NC_035780.1</td><td>108305</td><td>110077</td><td> 1772</td></tr>\n",
       "</tbody>\n",
       "</table>\n"
      ],
      "text/latex": [
       "A data.frame: 6 × 4\n",
       "\\begin{tabular}{r|llll}\n",
       "  & chromosome & start & stop & length\\\\\n",
       "  & <chr> & <int> & <int> & <int>\\\\\n",
       "\\hline\n",
       "\t1 & NC\\_035780.1 &  13578 &  14594 &  1016\\\\\n",
       "\t2 & NC\\_035780.1 &  28961 &  33324 &  4363\\\\\n",
       "\t3 & NC\\_035780.1 &  43111 &  66897 & 23786\\\\\n",
       "\t4 & NC\\_035780.1 &  85606 &  95254 &  9648\\\\\n",
       "\t5 & NC\\_035780.1 &  99840 & 106460 &  6620\\\\\n",
       "\t6 & NC\\_035780.1 & 108305 & 110077 &  1772\\\\\n",
       "\\end{tabular}\n"
      ],
      "text/markdown": [
       "\n",
       "A data.frame: 6 × 4\n",
       "\n",
       "| <!--/--> | chromosome &lt;chr&gt; | start &lt;int&gt; | stop &lt;int&gt; | length &lt;int&gt; |\n",
       "|---|---|---|---|---|\n",
       "| 1 | NC_035780.1 |  13578 |  14594 |  1016 |\n",
       "| 2 | NC_035780.1 |  28961 |  33324 |  4363 |\n",
       "| 3 | NC_035780.1 |  43111 |  66897 | 23786 |\n",
       "| 4 | NC_035780.1 |  85606 |  95254 |  9648 |\n",
       "| 5 | NC_035780.1 |  99840 | 106460 |  6620 |\n",
       "| 6 | NC_035780.1 | 108305 | 110077 |  1772 |\n",
       "\n"
      ],
      "text/plain": [
       "  chromosome  start  stop   length\n",
       "1 NC_035780.1  13578  14594  1016 \n",
       "2 NC_035780.1  28961  33324  4363 \n",
       "3 NC_035780.1  43111  66897 23786 \n",
       "4 NC_035780.1  85606  95254  9648 \n",
       "5 NC_035780.1  99840 106460  6620 \n",
       "6 NC_035780.1 108305 110077  1772 "
      ]
     },
     "metadata": {},
     "output_type": "display_data"
    }
   ],
   "source": [
    "allGenes$length <- allGenes$end - allGenes$start\n",
    "colnames(allGenes) <- c('chromosome', 'start', 'stop', 'length')\n",
    "head(allGenes)"
   ]
  },
  {
   "cell_type": "markdown",
   "id": "03cb766f-8e69-45e9-a258-61a7f98bda35",
   "metadata": {},
   "source": [
    "### 1b. calculate absolute position of CpG \n",
    "CpG start - feature start = absolute position"
   ]
  },
  {
   "cell_type": "code",
   "execution_count": 6,
   "id": "218bbe12-43d2-48a3-8053-1814b87a24dc",
   "metadata": {},
   "outputs": [],
   "source": [
    "subset_CpGs <- function(df1, df2) {\n",
    "    # find the genomic range of the first df (the CpGs)\n",
    "    df1_gr <- GRanges(seqnames = df1$chromosome, \n",
    "                  ranges = IRanges(start = df1$start, end = df1$stop))\n",
    "    \n",
    "    # find the genomic range of the second df (genomic feature)\n",
    "    df2_gr <- GRanges(seqnames = df2$chromosome, \n",
    "                  ranges = IRanges(start = df2$start, end = df2$stop))\n",
    "\n",
    "    # find overlaps\n",
    "    overlaps <- findOverlaps(df1_gr, df2_gr, type = \"within\")\n",
    "\n",
    "    # get the subset of cpgs within the genomic feature\n",
    "    cpg_overlap <- df1[queryHits(overlaps), ]\n",
    "    \n",
    "    # get the gene start and stop for each overlapping CpG\n",
    "    gene_start <- df2$start[subjectHits(overlaps)]\n",
    "    gene_stop <- df2$stop[subjectHits(overlaps)]\n",
    "    \n",
    "    # add the gene start and stop to the cpg_overlap dataframe\n",
    "    cpg_overlap$gene_start <- gene_start\n",
    "    cpg_overlap$gene_stop <- gene_stop\n",
    "    \n",
    "    return(cpg_overlap)\n",
    "}"
   ]
  },
  {
   "cell_type": "code",
   "execution_count": 7,
   "id": "a7ca7b0e-e568-430e-8b5d-c8c1cd6534ae",
   "metadata": {},
   "outputs": [
    {
     "data": {
      "text/html": [
       "<table class=\"dataframe\">\n",
       "<caption>A data.frame: 6 × 26</caption>\n",
       "<thead>\n",
       "\t<tr><th></th><th scope=col>chromosome</th><th scope=col>start</th><th scope=col>stop</th><th scope=col>CG_motif</th><th scope=col>CC1</th><th scope=col>CC2</th><th scope=col>CC3</th><th scope=col>CC4</th><th scope=col>CC5</th><th scope=col>CH1</th><th scope=col>⋯</th><th scope=col>HC3</th><th scope=col>HC4</th><th scope=col>HC5</th><th scope=col>HH1</th><th scope=col>HH2</th><th scope=col>HH3</th><th scope=col>HH4</th><th scope=col>HH5</th><th scope=col>gene_start</th><th scope=col>gene_stop</th></tr>\n",
       "\t<tr><th></th><th scope=col>&lt;chr&gt;</th><th scope=col>&lt;int&gt;</th><th scope=col>&lt;int&gt;</th><th scope=col>&lt;chr&gt;</th><th scope=col>&lt;int&gt;</th><th scope=col>&lt;int&gt;</th><th scope=col>&lt;int&gt;</th><th scope=col>&lt;int&gt;</th><th scope=col>&lt;int&gt;</th><th scope=col>&lt;int&gt;</th><th scope=col>⋯</th><th scope=col>&lt;int&gt;</th><th scope=col>&lt;int&gt;</th><th scope=col>&lt;int&gt;</th><th scope=col>&lt;int&gt;</th><th scope=col>&lt;int&gt;</th><th scope=col>&lt;int&gt;</th><th scope=col>&lt;int&gt;</th><th scope=col>&lt;int&gt;</th><th scope=col>&lt;int&gt;</th><th scope=col>&lt;int&gt;</th></tr>\n",
       "</thead>\n",
       "<tbody>\n",
       "\t<tr><th scope=row>351</th><td>NC_035780.1</td><td>13597</td><td>13599</td><td>CG_motif</td><td>0</td><td>0</td><td>0</td><td>0</td><td>0</td><td>0</td><td>⋯</td><td>0</td><td>0</td><td>0</td><td>0</td><td>0</td><td>0</td><td>0</td><td>0</td><td>13578</td><td>14594</td></tr>\n",
       "\t<tr><th scope=row>352</th><td>NC_035780.1</td><td>13651</td><td>13653</td><td>CG_motif</td><td>0</td><td>0</td><td>0</td><td>0</td><td>0</td><td>0</td><td>⋯</td><td>0</td><td>0</td><td>0</td><td>0</td><td>0</td><td>0</td><td>0</td><td>0</td><td>13578</td><td>14594</td></tr>\n",
       "\t<tr><th scope=row>353</th><td>NC_035780.1</td><td>13725</td><td>13727</td><td>CG_motif</td><td>0</td><td>0</td><td>0</td><td>0</td><td>0</td><td>0</td><td>⋯</td><td>0</td><td>0</td><td>0</td><td>0</td><td>0</td><td>0</td><td>0</td><td>0</td><td>13578</td><td>14594</td></tr>\n",
       "\t<tr><th scope=row>354</th><td>NC_035780.1</td><td>14144</td><td>14146</td><td>CG_motif</td><td>0</td><td>0</td><td>0</td><td>0</td><td>0</td><td>0</td><td>⋯</td><td>0</td><td>0</td><td>0</td><td>0</td><td>0</td><td>0</td><td>0</td><td>0</td><td>13578</td><td>14594</td></tr>\n",
       "\t<tr><th scope=row>355</th><td>NC_035780.1</td><td>14430</td><td>14432</td><td>CG_motif</td><td>0</td><td>0</td><td>0</td><td>0</td><td>0</td><td>0</td><td>⋯</td><td>0</td><td>0</td><td>0</td><td>0</td><td>0</td><td>0</td><td>0</td><td>0</td><td>13578</td><td>14594</td></tr>\n",
       "\t<tr><th scope=row>356</th><td>NC_035780.1</td><td>14453</td><td>14455</td><td>CG_motif</td><td>0</td><td>0</td><td>0</td><td>0</td><td>0</td><td>0</td><td>⋯</td><td>0</td><td>0</td><td>0</td><td>0</td><td>0</td><td>0</td><td>0</td><td>0</td><td>13578</td><td>14594</td></tr>\n",
       "</tbody>\n",
       "</table>\n"
      ],
      "text/latex": [
       "A data.frame: 6 × 26\n",
       "\\begin{tabular}{r|lllllllllllllllllllll}\n",
       "  & chromosome & start & stop & CG\\_motif & CC1 & CC2 & CC3 & CC4 & CC5 & CH1 & ⋯ & HC3 & HC4 & HC5 & HH1 & HH2 & HH3 & HH4 & HH5 & gene\\_start & gene\\_stop\\\\\n",
       "  & <chr> & <int> & <int> & <chr> & <int> & <int> & <int> & <int> & <int> & <int> & ⋯ & <int> & <int> & <int> & <int> & <int> & <int> & <int> & <int> & <int> & <int>\\\\\n",
       "\\hline\n",
       "\t351 & NC\\_035780.1 & 13597 & 13599 & CG\\_motif & 0 & 0 & 0 & 0 & 0 & 0 & ⋯ & 0 & 0 & 0 & 0 & 0 & 0 & 0 & 0 & 13578 & 14594\\\\\n",
       "\t352 & NC\\_035780.1 & 13651 & 13653 & CG\\_motif & 0 & 0 & 0 & 0 & 0 & 0 & ⋯ & 0 & 0 & 0 & 0 & 0 & 0 & 0 & 0 & 13578 & 14594\\\\\n",
       "\t353 & NC\\_035780.1 & 13725 & 13727 & CG\\_motif & 0 & 0 & 0 & 0 & 0 & 0 & ⋯ & 0 & 0 & 0 & 0 & 0 & 0 & 0 & 0 & 13578 & 14594\\\\\n",
       "\t354 & NC\\_035780.1 & 14144 & 14146 & CG\\_motif & 0 & 0 & 0 & 0 & 0 & 0 & ⋯ & 0 & 0 & 0 & 0 & 0 & 0 & 0 & 0 & 13578 & 14594\\\\\n",
       "\t355 & NC\\_035780.1 & 14430 & 14432 & CG\\_motif & 0 & 0 & 0 & 0 & 0 & 0 & ⋯ & 0 & 0 & 0 & 0 & 0 & 0 & 0 & 0 & 13578 & 14594\\\\\n",
       "\t356 & NC\\_035780.1 & 14453 & 14455 & CG\\_motif & 0 & 0 & 0 & 0 & 0 & 0 & ⋯ & 0 & 0 & 0 & 0 & 0 & 0 & 0 & 0 & 13578 & 14594\\\\\n",
       "\\end{tabular}\n"
      ],
      "text/markdown": [
       "\n",
       "A data.frame: 6 × 26\n",
       "\n",
       "| <!--/--> | chromosome &lt;chr&gt; | start &lt;int&gt; | stop &lt;int&gt; | CG_motif &lt;chr&gt; | CC1 &lt;int&gt; | CC2 &lt;int&gt; | CC3 &lt;int&gt; | CC4 &lt;int&gt; | CC5 &lt;int&gt; | CH1 &lt;int&gt; | ⋯ ⋯ | HC3 &lt;int&gt; | HC4 &lt;int&gt; | HC5 &lt;int&gt; | HH1 &lt;int&gt; | HH2 &lt;int&gt; | HH3 &lt;int&gt; | HH4 &lt;int&gt; | HH5 &lt;int&gt; | gene_start &lt;int&gt; | gene_stop &lt;int&gt; |\n",
       "|---|---|---|---|---|---|---|---|---|---|---|---|---|---|---|---|---|---|---|---|---|---|\n",
       "| 351 | NC_035780.1 | 13597 | 13599 | CG_motif | 0 | 0 | 0 | 0 | 0 | 0 | ⋯ | 0 | 0 | 0 | 0 | 0 | 0 | 0 | 0 | 13578 | 14594 |\n",
       "| 352 | NC_035780.1 | 13651 | 13653 | CG_motif | 0 | 0 | 0 | 0 | 0 | 0 | ⋯ | 0 | 0 | 0 | 0 | 0 | 0 | 0 | 0 | 13578 | 14594 |\n",
       "| 353 | NC_035780.1 | 13725 | 13727 | CG_motif | 0 | 0 | 0 | 0 | 0 | 0 | ⋯ | 0 | 0 | 0 | 0 | 0 | 0 | 0 | 0 | 13578 | 14594 |\n",
       "| 354 | NC_035780.1 | 14144 | 14146 | CG_motif | 0 | 0 | 0 | 0 | 0 | 0 | ⋯ | 0 | 0 | 0 | 0 | 0 | 0 | 0 | 0 | 13578 | 14594 |\n",
       "| 355 | NC_035780.1 | 14430 | 14432 | CG_motif | 0 | 0 | 0 | 0 | 0 | 0 | ⋯ | 0 | 0 | 0 | 0 | 0 | 0 | 0 | 0 | 13578 | 14594 |\n",
       "| 356 | NC_035780.1 | 14453 | 14455 | CG_motif | 0 | 0 | 0 | 0 | 0 | 0 | ⋯ | 0 | 0 | 0 | 0 | 0 | 0 | 0 | 0 | 13578 | 14594 |\n",
       "\n"
      ],
      "text/plain": [
       "    chromosome  start stop  CG_motif CC1 CC2 CC3 CC4 CC5 CH1 ⋯ HC3 HC4 HC5 HH1\n",
       "351 NC_035780.1 13597 13599 CG_motif 0   0   0   0   0   0   ⋯ 0   0   0   0  \n",
       "352 NC_035780.1 13651 13653 CG_motif 0   0   0   0   0   0   ⋯ 0   0   0   0  \n",
       "353 NC_035780.1 13725 13727 CG_motif 0   0   0   0   0   0   ⋯ 0   0   0   0  \n",
       "354 NC_035780.1 14144 14146 CG_motif 0   0   0   0   0   0   ⋯ 0   0   0   0  \n",
       "355 NC_035780.1 14430 14432 CG_motif 0   0   0   0   0   0   ⋯ 0   0   0   0  \n",
       "356 NC_035780.1 14453 14455 CG_motif 0   0   0   0   0   0   ⋯ 0   0   0   0  \n",
       "    HH2 HH3 HH4 HH5 gene_start gene_stop\n",
       "351 0   0   0   0   13578      14594    \n",
       "352 0   0   0   0   13578      14594    \n",
       "353 0   0   0   0   13578      14594    \n",
       "354 0   0   0   0   13578      14594    \n",
       "355 0   0   0   0   13578      14594    \n",
       "356 0   0   0   0   13578      14594    "
      ]
     },
     "metadata": {},
     "output_type": "display_data"
    }
   ],
   "source": [
    "geneCpG <- subset_CpGs(cpg, allGenes)\n",
    "head(geneCpG)"
   ]
  },
  {
   "cell_type": "code",
   "execution_count": 8,
   "id": "92aa0663-708a-45ea-9ce0-983e074fa07e",
   "metadata": {},
   "outputs": [
    {
     "data": {
      "text/html": [
       "<table class=\"dataframe\">\n",
       "<caption>A data.frame: 6 × 27</caption>\n",
       "<thead>\n",
       "\t<tr><th></th><th scope=col>chromosome</th><th scope=col>start</th><th scope=col>stop</th><th scope=col>CG_motif</th><th scope=col>CC1</th><th scope=col>CC2</th><th scope=col>CC3</th><th scope=col>CC4</th><th scope=col>CC5</th><th scope=col>CH1</th><th scope=col>⋯</th><th scope=col>HC4</th><th scope=col>HC5</th><th scope=col>HH1</th><th scope=col>HH2</th><th scope=col>HH3</th><th scope=col>HH4</th><th scope=col>HH5</th><th scope=col>gene_start</th><th scope=col>gene_stop</th><th scope=col>cpg_abs.pos</th></tr>\n",
       "\t<tr><th></th><th scope=col>&lt;chr&gt;</th><th scope=col>&lt;int&gt;</th><th scope=col>&lt;int&gt;</th><th scope=col>&lt;chr&gt;</th><th scope=col>&lt;int&gt;</th><th scope=col>&lt;int&gt;</th><th scope=col>&lt;int&gt;</th><th scope=col>&lt;int&gt;</th><th scope=col>&lt;int&gt;</th><th scope=col>&lt;int&gt;</th><th scope=col>⋯</th><th scope=col>&lt;int&gt;</th><th scope=col>&lt;int&gt;</th><th scope=col>&lt;int&gt;</th><th scope=col>&lt;int&gt;</th><th scope=col>&lt;int&gt;</th><th scope=col>&lt;int&gt;</th><th scope=col>&lt;int&gt;</th><th scope=col>&lt;int&gt;</th><th scope=col>&lt;int&gt;</th><th scope=col>&lt;int&gt;</th></tr>\n",
       "</thead>\n",
       "<tbody>\n",
       "\t<tr><th scope=row>351</th><td>NC_035780.1</td><td>13597</td><td>13599</td><td>CG_motif</td><td>0</td><td>0</td><td>0</td><td>0</td><td>0</td><td>0</td><td>⋯</td><td>0</td><td>0</td><td>0</td><td>0</td><td>0</td><td>0</td><td>0</td><td>13578</td><td>14594</td><td> 19</td></tr>\n",
       "\t<tr><th scope=row>352</th><td>NC_035780.1</td><td>13651</td><td>13653</td><td>CG_motif</td><td>0</td><td>0</td><td>0</td><td>0</td><td>0</td><td>0</td><td>⋯</td><td>0</td><td>0</td><td>0</td><td>0</td><td>0</td><td>0</td><td>0</td><td>13578</td><td>14594</td><td> 73</td></tr>\n",
       "\t<tr><th scope=row>353</th><td>NC_035780.1</td><td>13725</td><td>13727</td><td>CG_motif</td><td>0</td><td>0</td><td>0</td><td>0</td><td>0</td><td>0</td><td>⋯</td><td>0</td><td>0</td><td>0</td><td>0</td><td>0</td><td>0</td><td>0</td><td>13578</td><td>14594</td><td>147</td></tr>\n",
       "\t<tr><th scope=row>354</th><td>NC_035780.1</td><td>14144</td><td>14146</td><td>CG_motif</td><td>0</td><td>0</td><td>0</td><td>0</td><td>0</td><td>0</td><td>⋯</td><td>0</td><td>0</td><td>0</td><td>0</td><td>0</td><td>0</td><td>0</td><td>13578</td><td>14594</td><td>566</td></tr>\n",
       "\t<tr><th scope=row>355</th><td>NC_035780.1</td><td>14430</td><td>14432</td><td>CG_motif</td><td>0</td><td>0</td><td>0</td><td>0</td><td>0</td><td>0</td><td>⋯</td><td>0</td><td>0</td><td>0</td><td>0</td><td>0</td><td>0</td><td>0</td><td>13578</td><td>14594</td><td>852</td></tr>\n",
       "\t<tr><th scope=row>356</th><td>NC_035780.1</td><td>14453</td><td>14455</td><td>CG_motif</td><td>0</td><td>0</td><td>0</td><td>0</td><td>0</td><td>0</td><td>⋯</td><td>0</td><td>0</td><td>0</td><td>0</td><td>0</td><td>0</td><td>0</td><td>13578</td><td>14594</td><td>875</td></tr>\n",
       "</tbody>\n",
       "</table>\n"
      ],
      "text/latex": [
       "A data.frame: 6 × 27\n",
       "\\begin{tabular}{r|lllllllllllllllllllll}\n",
       "  & chromosome & start & stop & CG\\_motif & CC1 & CC2 & CC3 & CC4 & CC5 & CH1 & ⋯ & HC4 & HC5 & HH1 & HH2 & HH3 & HH4 & HH5 & gene\\_start & gene\\_stop & cpg\\_abs.pos\\\\\n",
       "  & <chr> & <int> & <int> & <chr> & <int> & <int> & <int> & <int> & <int> & <int> & ⋯ & <int> & <int> & <int> & <int> & <int> & <int> & <int> & <int> & <int> & <int>\\\\\n",
       "\\hline\n",
       "\t351 & NC\\_035780.1 & 13597 & 13599 & CG\\_motif & 0 & 0 & 0 & 0 & 0 & 0 & ⋯ & 0 & 0 & 0 & 0 & 0 & 0 & 0 & 13578 & 14594 &  19\\\\\n",
       "\t352 & NC\\_035780.1 & 13651 & 13653 & CG\\_motif & 0 & 0 & 0 & 0 & 0 & 0 & ⋯ & 0 & 0 & 0 & 0 & 0 & 0 & 0 & 13578 & 14594 &  73\\\\\n",
       "\t353 & NC\\_035780.1 & 13725 & 13727 & CG\\_motif & 0 & 0 & 0 & 0 & 0 & 0 & ⋯ & 0 & 0 & 0 & 0 & 0 & 0 & 0 & 13578 & 14594 & 147\\\\\n",
       "\t354 & NC\\_035780.1 & 14144 & 14146 & CG\\_motif & 0 & 0 & 0 & 0 & 0 & 0 & ⋯ & 0 & 0 & 0 & 0 & 0 & 0 & 0 & 13578 & 14594 & 566\\\\\n",
       "\t355 & NC\\_035780.1 & 14430 & 14432 & CG\\_motif & 0 & 0 & 0 & 0 & 0 & 0 & ⋯ & 0 & 0 & 0 & 0 & 0 & 0 & 0 & 13578 & 14594 & 852\\\\\n",
       "\t356 & NC\\_035780.1 & 14453 & 14455 & CG\\_motif & 0 & 0 & 0 & 0 & 0 & 0 & ⋯ & 0 & 0 & 0 & 0 & 0 & 0 & 0 & 13578 & 14594 & 875\\\\\n",
       "\\end{tabular}\n"
      ],
      "text/markdown": [
       "\n",
       "A data.frame: 6 × 27\n",
       "\n",
       "| <!--/--> | chromosome &lt;chr&gt; | start &lt;int&gt; | stop &lt;int&gt; | CG_motif &lt;chr&gt; | CC1 &lt;int&gt; | CC2 &lt;int&gt; | CC3 &lt;int&gt; | CC4 &lt;int&gt; | CC5 &lt;int&gt; | CH1 &lt;int&gt; | ⋯ ⋯ | HC4 &lt;int&gt; | HC5 &lt;int&gt; | HH1 &lt;int&gt; | HH2 &lt;int&gt; | HH3 &lt;int&gt; | HH4 &lt;int&gt; | HH5 &lt;int&gt; | gene_start &lt;int&gt; | gene_stop &lt;int&gt; | cpg_abs.pos &lt;int&gt; |\n",
       "|---|---|---|---|---|---|---|---|---|---|---|---|---|---|---|---|---|---|---|---|---|---|\n",
       "| 351 | NC_035780.1 | 13597 | 13599 | CG_motif | 0 | 0 | 0 | 0 | 0 | 0 | ⋯ | 0 | 0 | 0 | 0 | 0 | 0 | 0 | 13578 | 14594 |  19 |\n",
       "| 352 | NC_035780.1 | 13651 | 13653 | CG_motif | 0 | 0 | 0 | 0 | 0 | 0 | ⋯ | 0 | 0 | 0 | 0 | 0 | 0 | 0 | 13578 | 14594 |  73 |\n",
       "| 353 | NC_035780.1 | 13725 | 13727 | CG_motif | 0 | 0 | 0 | 0 | 0 | 0 | ⋯ | 0 | 0 | 0 | 0 | 0 | 0 | 0 | 13578 | 14594 | 147 |\n",
       "| 354 | NC_035780.1 | 14144 | 14146 | CG_motif | 0 | 0 | 0 | 0 | 0 | 0 | ⋯ | 0 | 0 | 0 | 0 | 0 | 0 | 0 | 13578 | 14594 | 566 |\n",
       "| 355 | NC_035780.1 | 14430 | 14432 | CG_motif | 0 | 0 | 0 | 0 | 0 | 0 | ⋯ | 0 | 0 | 0 | 0 | 0 | 0 | 0 | 13578 | 14594 | 852 |\n",
       "| 356 | NC_035780.1 | 14453 | 14455 | CG_motif | 0 | 0 | 0 | 0 | 0 | 0 | ⋯ | 0 | 0 | 0 | 0 | 0 | 0 | 0 | 13578 | 14594 | 875 |\n",
       "\n"
      ],
      "text/plain": [
       "    chromosome  start stop  CG_motif CC1 CC2 CC3 CC4 CC5 CH1 ⋯ HC4 HC5 HH1 HH2\n",
       "351 NC_035780.1 13597 13599 CG_motif 0   0   0   0   0   0   ⋯ 0   0   0   0  \n",
       "352 NC_035780.1 13651 13653 CG_motif 0   0   0   0   0   0   ⋯ 0   0   0   0  \n",
       "353 NC_035780.1 13725 13727 CG_motif 0   0   0   0   0   0   ⋯ 0   0   0   0  \n",
       "354 NC_035780.1 14144 14146 CG_motif 0   0   0   0   0   0   ⋯ 0   0   0   0  \n",
       "355 NC_035780.1 14430 14432 CG_motif 0   0   0   0   0   0   ⋯ 0   0   0   0  \n",
       "356 NC_035780.1 14453 14455 CG_motif 0   0   0   0   0   0   ⋯ 0   0   0   0  \n",
       "    HH3 HH4 HH5 gene_start gene_stop cpg_abs.pos\n",
       "351 0   0   0   13578      14594      19        \n",
       "352 0   0   0   13578      14594      73        \n",
       "353 0   0   0   13578      14594     147        \n",
       "354 0   0   0   13578      14594     566        \n",
       "355 0   0   0   13578      14594     852        \n",
       "356 0   0   0   13578      14594     875        "
      ]
     },
     "metadata": {},
     "output_type": "display_data"
    }
   ],
   "source": [
    "# find the absolute position of the CpG within the feature\n",
    "geneCpG$cpg_abs.pos <- geneCpG$start - geneCpG$gene_start\n",
    "head(geneCpG)"
   ]
  },
  {
   "cell_type": "markdown",
   "id": "068e683b-d5ef-41e5-98ca-5d67b88221e3",
   "metadata": {},
   "source": [
    "### 1c. calculate scaled position of CpG \n",
    "CpG abs.position / geneLength"
   ]
  },
  {
   "cell_type": "code",
   "execution_count": 9,
   "id": "43cfc14e-194d-459e-8f27-f7361c890d99",
   "metadata": {},
   "outputs": [
    {
     "data": {
      "text/html": [
       "<table class=\"dataframe\">\n",
       "<caption>A data.frame: 6 × 28</caption>\n",
       "<thead>\n",
       "\t<tr><th></th><th scope=col>chromosome</th><th scope=col>start</th><th scope=col>stop</th><th scope=col>CG_motif</th><th scope=col>CC1</th><th scope=col>CC2</th><th scope=col>CC3</th><th scope=col>CC4</th><th scope=col>CC5</th><th scope=col>CH1</th><th scope=col>⋯</th><th scope=col>HC5</th><th scope=col>HH1</th><th scope=col>HH2</th><th scope=col>HH3</th><th scope=col>HH4</th><th scope=col>HH5</th><th scope=col>gene_start</th><th scope=col>gene_stop</th><th scope=col>cpg_abs.pos</th><th scope=col>geneLength</th></tr>\n",
       "\t<tr><th></th><th scope=col>&lt;chr&gt;</th><th scope=col>&lt;int&gt;</th><th scope=col>&lt;int&gt;</th><th scope=col>&lt;chr&gt;</th><th scope=col>&lt;int&gt;</th><th scope=col>&lt;int&gt;</th><th scope=col>&lt;int&gt;</th><th scope=col>&lt;int&gt;</th><th scope=col>&lt;int&gt;</th><th scope=col>&lt;int&gt;</th><th scope=col>⋯</th><th scope=col>&lt;int&gt;</th><th scope=col>&lt;int&gt;</th><th scope=col>&lt;int&gt;</th><th scope=col>&lt;int&gt;</th><th scope=col>&lt;int&gt;</th><th scope=col>&lt;int&gt;</th><th scope=col>&lt;int&gt;</th><th scope=col>&lt;int&gt;</th><th scope=col>&lt;int&gt;</th><th scope=col>&lt;int&gt;</th></tr>\n",
       "</thead>\n",
       "<tbody>\n",
       "\t<tr><th scope=row>351</th><td>NC_035780.1</td><td>13597</td><td>13599</td><td>CG_motif</td><td>0</td><td>0</td><td>0</td><td>0</td><td>0</td><td>0</td><td>⋯</td><td>0</td><td>0</td><td>0</td><td>0</td><td>0</td><td>0</td><td>13578</td><td>14594</td><td> 19</td><td>1016</td></tr>\n",
       "\t<tr><th scope=row>352</th><td>NC_035780.1</td><td>13651</td><td>13653</td><td>CG_motif</td><td>0</td><td>0</td><td>0</td><td>0</td><td>0</td><td>0</td><td>⋯</td><td>0</td><td>0</td><td>0</td><td>0</td><td>0</td><td>0</td><td>13578</td><td>14594</td><td> 73</td><td>1016</td></tr>\n",
       "\t<tr><th scope=row>353</th><td>NC_035780.1</td><td>13725</td><td>13727</td><td>CG_motif</td><td>0</td><td>0</td><td>0</td><td>0</td><td>0</td><td>0</td><td>⋯</td><td>0</td><td>0</td><td>0</td><td>0</td><td>0</td><td>0</td><td>13578</td><td>14594</td><td>147</td><td>1016</td></tr>\n",
       "\t<tr><th scope=row>354</th><td>NC_035780.1</td><td>14144</td><td>14146</td><td>CG_motif</td><td>0</td><td>0</td><td>0</td><td>0</td><td>0</td><td>0</td><td>⋯</td><td>0</td><td>0</td><td>0</td><td>0</td><td>0</td><td>0</td><td>13578</td><td>14594</td><td>566</td><td>1016</td></tr>\n",
       "\t<tr><th scope=row>355</th><td>NC_035780.1</td><td>14430</td><td>14432</td><td>CG_motif</td><td>0</td><td>0</td><td>0</td><td>0</td><td>0</td><td>0</td><td>⋯</td><td>0</td><td>0</td><td>0</td><td>0</td><td>0</td><td>0</td><td>13578</td><td>14594</td><td>852</td><td>1016</td></tr>\n",
       "\t<tr><th scope=row>356</th><td>NC_035780.1</td><td>14453</td><td>14455</td><td>CG_motif</td><td>0</td><td>0</td><td>0</td><td>0</td><td>0</td><td>0</td><td>⋯</td><td>0</td><td>0</td><td>0</td><td>0</td><td>0</td><td>0</td><td>13578</td><td>14594</td><td>875</td><td>1016</td></tr>\n",
       "</tbody>\n",
       "</table>\n"
      ],
      "text/latex": [
       "A data.frame: 6 × 28\n",
       "\\begin{tabular}{r|lllllllllllllllllllll}\n",
       "  & chromosome & start & stop & CG\\_motif & CC1 & CC2 & CC3 & CC4 & CC5 & CH1 & ⋯ & HC5 & HH1 & HH2 & HH3 & HH4 & HH5 & gene\\_start & gene\\_stop & cpg\\_abs.pos & geneLength\\\\\n",
       "  & <chr> & <int> & <int> & <chr> & <int> & <int> & <int> & <int> & <int> & <int> & ⋯ & <int> & <int> & <int> & <int> & <int> & <int> & <int> & <int> & <int> & <int>\\\\\n",
       "\\hline\n",
       "\t351 & NC\\_035780.1 & 13597 & 13599 & CG\\_motif & 0 & 0 & 0 & 0 & 0 & 0 & ⋯ & 0 & 0 & 0 & 0 & 0 & 0 & 13578 & 14594 &  19 & 1016\\\\\n",
       "\t352 & NC\\_035780.1 & 13651 & 13653 & CG\\_motif & 0 & 0 & 0 & 0 & 0 & 0 & ⋯ & 0 & 0 & 0 & 0 & 0 & 0 & 13578 & 14594 &  73 & 1016\\\\\n",
       "\t353 & NC\\_035780.1 & 13725 & 13727 & CG\\_motif & 0 & 0 & 0 & 0 & 0 & 0 & ⋯ & 0 & 0 & 0 & 0 & 0 & 0 & 13578 & 14594 & 147 & 1016\\\\\n",
       "\t354 & NC\\_035780.1 & 14144 & 14146 & CG\\_motif & 0 & 0 & 0 & 0 & 0 & 0 & ⋯ & 0 & 0 & 0 & 0 & 0 & 0 & 13578 & 14594 & 566 & 1016\\\\\n",
       "\t355 & NC\\_035780.1 & 14430 & 14432 & CG\\_motif & 0 & 0 & 0 & 0 & 0 & 0 & ⋯ & 0 & 0 & 0 & 0 & 0 & 0 & 13578 & 14594 & 852 & 1016\\\\\n",
       "\t356 & NC\\_035780.1 & 14453 & 14455 & CG\\_motif & 0 & 0 & 0 & 0 & 0 & 0 & ⋯ & 0 & 0 & 0 & 0 & 0 & 0 & 13578 & 14594 & 875 & 1016\\\\\n",
       "\\end{tabular}\n"
      ],
      "text/markdown": [
       "\n",
       "A data.frame: 6 × 28\n",
       "\n",
       "| <!--/--> | chromosome &lt;chr&gt; | start &lt;int&gt; | stop &lt;int&gt; | CG_motif &lt;chr&gt; | CC1 &lt;int&gt; | CC2 &lt;int&gt; | CC3 &lt;int&gt; | CC4 &lt;int&gt; | CC5 &lt;int&gt; | CH1 &lt;int&gt; | ⋯ ⋯ | HC5 &lt;int&gt; | HH1 &lt;int&gt; | HH2 &lt;int&gt; | HH3 &lt;int&gt; | HH4 &lt;int&gt; | HH5 &lt;int&gt; | gene_start &lt;int&gt; | gene_stop &lt;int&gt; | cpg_abs.pos &lt;int&gt; | geneLength &lt;int&gt; |\n",
       "|---|---|---|---|---|---|---|---|---|---|---|---|---|---|---|---|---|---|---|---|---|---|\n",
       "| 351 | NC_035780.1 | 13597 | 13599 | CG_motif | 0 | 0 | 0 | 0 | 0 | 0 | ⋯ | 0 | 0 | 0 | 0 | 0 | 0 | 13578 | 14594 |  19 | 1016 |\n",
       "| 352 | NC_035780.1 | 13651 | 13653 | CG_motif | 0 | 0 | 0 | 0 | 0 | 0 | ⋯ | 0 | 0 | 0 | 0 | 0 | 0 | 13578 | 14594 |  73 | 1016 |\n",
       "| 353 | NC_035780.1 | 13725 | 13727 | CG_motif | 0 | 0 | 0 | 0 | 0 | 0 | ⋯ | 0 | 0 | 0 | 0 | 0 | 0 | 13578 | 14594 | 147 | 1016 |\n",
       "| 354 | NC_035780.1 | 14144 | 14146 | CG_motif | 0 | 0 | 0 | 0 | 0 | 0 | ⋯ | 0 | 0 | 0 | 0 | 0 | 0 | 13578 | 14594 | 566 | 1016 |\n",
       "| 355 | NC_035780.1 | 14430 | 14432 | CG_motif | 0 | 0 | 0 | 0 | 0 | 0 | ⋯ | 0 | 0 | 0 | 0 | 0 | 0 | 13578 | 14594 | 852 | 1016 |\n",
       "| 356 | NC_035780.1 | 14453 | 14455 | CG_motif | 0 | 0 | 0 | 0 | 0 | 0 | ⋯ | 0 | 0 | 0 | 0 | 0 | 0 | 13578 | 14594 | 875 | 1016 |\n",
       "\n"
      ],
      "text/plain": [
       "    chromosome  start stop  CG_motif CC1 CC2 CC3 CC4 CC5 CH1 ⋯ HC5 HH1 HH2 HH3\n",
       "351 NC_035780.1 13597 13599 CG_motif 0   0   0   0   0   0   ⋯ 0   0   0   0  \n",
       "352 NC_035780.1 13651 13653 CG_motif 0   0   0   0   0   0   ⋯ 0   0   0   0  \n",
       "353 NC_035780.1 13725 13727 CG_motif 0   0   0   0   0   0   ⋯ 0   0   0   0  \n",
       "354 NC_035780.1 14144 14146 CG_motif 0   0   0   0   0   0   ⋯ 0   0   0   0  \n",
       "355 NC_035780.1 14430 14432 CG_motif 0   0   0   0   0   0   ⋯ 0   0   0   0  \n",
       "356 NC_035780.1 14453 14455 CG_motif 0   0   0   0   0   0   ⋯ 0   0   0   0  \n",
       "    HH4 HH5 gene_start gene_stop cpg_abs.pos geneLength\n",
       "351 0   0   13578      14594      19         1016      \n",
       "352 0   0   13578      14594      73         1016      \n",
       "353 0   0   13578      14594     147         1016      \n",
       "354 0   0   13578      14594     566         1016      \n",
       "355 0   0   13578      14594     852         1016      \n",
       "356 0   0   13578      14594     875         1016      "
      ]
     },
     "metadata": {},
     "output_type": "display_data"
    }
   ],
   "source": [
    "# add gene length to df\n",
    "geneCpG$geneLength <- geneCpG$gene_stop - geneCpG$gene_start\n",
    "head(geneCpG)"
   ]
  },
  {
   "cell_type": "code",
   "execution_count": 10,
   "id": "b3726b1d-310a-4593-ba19-f8b2f5e5c3fb",
   "metadata": {},
   "outputs": [
    {
     "data": {
      "text/html": [
       "<table class=\"dataframe\">\n",
       "<caption>A data.frame: 6 × 29</caption>\n",
       "<thead>\n",
       "\t<tr><th></th><th scope=col>chromosome</th><th scope=col>start</th><th scope=col>stop</th><th scope=col>CG_motif</th><th scope=col>CC1</th><th scope=col>CC2</th><th scope=col>CC3</th><th scope=col>CC4</th><th scope=col>CC5</th><th scope=col>CH1</th><th scope=col>⋯</th><th scope=col>HH1</th><th scope=col>HH2</th><th scope=col>HH3</th><th scope=col>HH4</th><th scope=col>HH5</th><th scope=col>gene_start</th><th scope=col>gene_stop</th><th scope=col>cpg_abs.pos</th><th scope=col>geneLength</th><th scope=col>cpg_scaled.pos</th></tr>\n",
       "\t<tr><th></th><th scope=col>&lt;chr&gt;</th><th scope=col>&lt;int&gt;</th><th scope=col>&lt;int&gt;</th><th scope=col>&lt;chr&gt;</th><th scope=col>&lt;int&gt;</th><th scope=col>&lt;int&gt;</th><th scope=col>&lt;int&gt;</th><th scope=col>&lt;int&gt;</th><th scope=col>&lt;int&gt;</th><th scope=col>&lt;int&gt;</th><th scope=col>⋯</th><th scope=col>&lt;int&gt;</th><th scope=col>&lt;int&gt;</th><th scope=col>&lt;int&gt;</th><th scope=col>&lt;int&gt;</th><th scope=col>&lt;int&gt;</th><th scope=col>&lt;int&gt;</th><th scope=col>&lt;int&gt;</th><th scope=col>&lt;int&gt;</th><th scope=col>&lt;int&gt;</th><th scope=col>&lt;dbl&gt;</th></tr>\n",
       "</thead>\n",
       "<tbody>\n",
       "\t<tr><th scope=row>351</th><td>NC_035780.1</td><td>13597</td><td>13599</td><td>CG_motif</td><td>0</td><td>0</td><td>0</td><td>0</td><td>0</td><td>0</td><td>⋯</td><td>0</td><td>0</td><td>0</td><td>0</td><td>0</td><td>13578</td><td>14594</td><td> 19</td><td>1016</td><td>0.01870079</td></tr>\n",
       "\t<tr><th scope=row>352</th><td>NC_035780.1</td><td>13651</td><td>13653</td><td>CG_motif</td><td>0</td><td>0</td><td>0</td><td>0</td><td>0</td><td>0</td><td>⋯</td><td>0</td><td>0</td><td>0</td><td>0</td><td>0</td><td>13578</td><td>14594</td><td> 73</td><td>1016</td><td>0.07185039</td></tr>\n",
       "\t<tr><th scope=row>353</th><td>NC_035780.1</td><td>13725</td><td>13727</td><td>CG_motif</td><td>0</td><td>0</td><td>0</td><td>0</td><td>0</td><td>0</td><td>⋯</td><td>0</td><td>0</td><td>0</td><td>0</td><td>0</td><td>13578</td><td>14594</td><td>147</td><td>1016</td><td>0.14468504</td></tr>\n",
       "\t<tr><th scope=row>354</th><td>NC_035780.1</td><td>14144</td><td>14146</td><td>CG_motif</td><td>0</td><td>0</td><td>0</td><td>0</td><td>0</td><td>0</td><td>⋯</td><td>0</td><td>0</td><td>0</td><td>0</td><td>0</td><td>13578</td><td>14594</td><td>566</td><td>1016</td><td>0.55708661</td></tr>\n",
       "\t<tr><th scope=row>355</th><td>NC_035780.1</td><td>14430</td><td>14432</td><td>CG_motif</td><td>0</td><td>0</td><td>0</td><td>0</td><td>0</td><td>0</td><td>⋯</td><td>0</td><td>0</td><td>0</td><td>0</td><td>0</td><td>13578</td><td>14594</td><td>852</td><td>1016</td><td>0.83858268</td></tr>\n",
       "\t<tr><th scope=row>356</th><td>NC_035780.1</td><td>14453</td><td>14455</td><td>CG_motif</td><td>0</td><td>0</td><td>0</td><td>0</td><td>0</td><td>0</td><td>⋯</td><td>0</td><td>0</td><td>0</td><td>0</td><td>0</td><td>13578</td><td>14594</td><td>875</td><td>1016</td><td>0.86122047</td></tr>\n",
       "</tbody>\n",
       "</table>\n"
      ],
      "text/latex": [
       "A data.frame: 6 × 29\n",
       "\\begin{tabular}{r|lllllllllllllllllllll}\n",
       "  & chromosome & start & stop & CG\\_motif & CC1 & CC2 & CC3 & CC4 & CC5 & CH1 & ⋯ & HH1 & HH2 & HH3 & HH4 & HH5 & gene\\_start & gene\\_stop & cpg\\_abs.pos & geneLength & cpg\\_scaled.pos\\\\\n",
       "  & <chr> & <int> & <int> & <chr> & <int> & <int> & <int> & <int> & <int> & <int> & ⋯ & <int> & <int> & <int> & <int> & <int> & <int> & <int> & <int> & <int> & <dbl>\\\\\n",
       "\\hline\n",
       "\t351 & NC\\_035780.1 & 13597 & 13599 & CG\\_motif & 0 & 0 & 0 & 0 & 0 & 0 & ⋯ & 0 & 0 & 0 & 0 & 0 & 13578 & 14594 &  19 & 1016 & 0.01870079\\\\\n",
       "\t352 & NC\\_035780.1 & 13651 & 13653 & CG\\_motif & 0 & 0 & 0 & 0 & 0 & 0 & ⋯ & 0 & 0 & 0 & 0 & 0 & 13578 & 14594 &  73 & 1016 & 0.07185039\\\\\n",
       "\t353 & NC\\_035780.1 & 13725 & 13727 & CG\\_motif & 0 & 0 & 0 & 0 & 0 & 0 & ⋯ & 0 & 0 & 0 & 0 & 0 & 13578 & 14594 & 147 & 1016 & 0.14468504\\\\\n",
       "\t354 & NC\\_035780.1 & 14144 & 14146 & CG\\_motif & 0 & 0 & 0 & 0 & 0 & 0 & ⋯ & 0 & 0 & 0 & 0 & 0 & 13578 & 14594 & 566 & 1016 & 0.55708661\\\\\n",
       "\t355 & NC\\_035780.1 & 14430 & 14432 & CG\\_motif & 0 & 0 & 0 & 0 & 0 & 0 & ⋯ & 0 & 0 & 0 & 0 & 0 & 13578 & 14594 & 852 & 1016 & 0.83858268\\\\\n",
       "\t356 & NC\\_035780.1 & 14453 & 14455 & CG\\_motif & 0 & 0 & 0 & 0 & 0 & 0 & ⋯ & 0 & 0 & 0 & 0 & 0 & 13578 & 14594 & 875 & 1016 & 0.86122047\\\\\n",
       "\\end{tabular}\n"
      ],
      "text/markdown": [
       "\n",
       "A data.frame: 6 × 29\n",
       "\n",
       "| <!--/--> | chromosome &lt;chr&gt; | start &lt;int&gt; | stop &lt;int&gt; | CG_motif &lt;chr&gt; | CC1 &lt;int&gt; | CC2 &lt;int&gt; | CC3 &lt;int&gt; | CC4 &lt;int&gt; | CC5 &lt;int&gt; | CH1 &lt;int&gt; | ⋯ ⋯ | HH1 &lt;int&gt; | HH2 &lt;int&gt; | HH3 &lt;int&gt; | HH4 &lt;int&gt; | HH5 &lt;int&gt; | gene_start &lt;int&gt; | gene_stop &lt;int&gt; | cpg_abs.pos &lt;int&gt; | geneLength &lt;int&gt; | cpg_scaled.pos &lt;dbl&gt; |\n",
       "|---|---|---|---|---|---|---|---|---|---|---|---|---|---|---|---|---|---|---|---|---|---|\n",
       "| 351 | NC_035780.1 | 13597 | 13599 | CG_motif | 0 | 0 | 0 | 0 | 0 | 0 | ⋯ | 0 | 0 | 0 | 0 | 0 | 13578 | 14594 |  19 | 1016 | 0.01870079 |\n",
       "| 352 | NC_035780.1 | 13651 | 13653 | CG_motif | 0 | 0 | 0 | 0 | 0 | 0 | ⋯ | 0 | 0 | 0 | 0 | 0 | 13578 | 14594 |  73 | 1016 | 0.07185039 |\n",
       "| 353 | NC_035780.1 | 13725 | 13727 | CG_motif | 0 | 0 | 0 | 0 | 0 | 0 | ⋯ | 0 | 0 | 0 | 0 | 0 | 13578 | 14594 | 147 | 1016 | 0.14468504 |\n",
       "| 354 | NC_035780.1 | 14144 | 14146 | CG_motif | 0 | 0 | 0 | 0 | 0 | 0 | ⋯ | 0 | 0 | 0 | 0 | 0 | 13578 | 14594 | 566 | 1016 | 0.55708661 |\n",
       "| 355 | NC_035780.1 | 14430 | 14432 | CG_motif | 0 | 0 | 0 | 0 | 0 | 0 | ⋯ | 0 | 0 | 0 | 0 | 0 | 13578 | 14594 | 852 | 1016 | 0.83858268 |\n",
       "| 356 | NC_035780.1 | 14453 | 14455 | CG_motif | 0 | 0 | 0 | 0 | 0 | 0 | ⋯ | 0 | 0 | 0 | 0 | 0 | 13578 | 14594 | 875 | 1016 | 0.86122047 |\n",
       "\n"
      ],
      "text/plain": [
       "    chromosome  start stop  CG_motif CC1 CC2 CC3 CC4 CC5 CH1 ⋯ HH1 HH2 HH3 HH4\n",
       "351 NC_035780.1 13597 13599 CG_motif 0   0   0   0   0   0   ⋯ 0   0   0   0  \n",
       "352 NC_035780.1 13651 13653 CG_motif 0   0   0   0   0   0   ⋯ 0   0   0   0  \n",
       "353 NC_035780.1 13725 13727 CG_motif 0   0   0   0   0   0   ⋯ 0   0   0   0  \n",
       "354 NC_035780.1 14144 14146 CG_motif 0   0   0   0   0   0   ⋯ 0   0   0   0  \n",
       "355 NC_035780.1 14430 14432 CG_motif 0   0   0   0   0   0   ⋯ 0   0   0   0  \n",
       "356 NC_035780.1 14453 14455 CG_motif 0   0   0   0   0   0   ⋯ 0   0   0   0  \n",
       "    HH5 gene_start gene_stop cpg_abs.pos geneLength cpg_scaled.pos\n",
       "351 0   13578      14594      19         1016       0.01870079    \n",
       "352 0   13578      14594      73         1016       0.07185039    \n",
       "353 0   13578      14594     147         1016       0.14468504    \n",
       "354 0   13578      14594     566         1016       0.55708661    \n",
       "355 0   13578      14594     852         1016       0.83858268    \n",
       "356 0   13578      14594     875         1016       0.86122047    "
      ]
     },
     "metadata": {},
     "output_type": "display_data"
    }
   ],
   "source": [
    "# scaled position\n",
    "geneCpG$cpg_scaled.pos <- geneCpG$cpg_abs.pos / geneCpG$geneLength\n",
    "head(geneCpG)"
   ]
  },
  {
   "cell_type": "markdown",
   "id": "0904aca0-ba1f-4f03-88d6-0b95b3178087",
   "metadata": {},
   "source": [
    "### 2. plot\n",
    "\n",
    "but first need to separate out the treatments??"
   ]
  },
  {
   "cell_type": "code",
   "execution_count": 13,
   "id": "6645103f-739b-4611-83bb-6a2a5a2ecb4a",
   "metadata": {},
   "outputs": [],
   "source": [
    "CC_df <- geneCpG %>% \n",
    "  select(chromosome, start, stop, gene_start, gene_stop, cpg_abs.pos, geneLength, cpg_abs.pos, cpg_scaled.pos, starts_with(\"CC\"))\n",
    "\n",
    "HH_df <- geneCpG %>% \n",
    "  select(chromosome, start, stop, gene_start, gene_stop, cpg_abs.pos, geneLength, cpg_abs.pos, cpg_scaled.pos, starts_with(\"HH\"))\n",
    "\n",
    "CH_df <- geneCpG %>% \n",
    "  select(chromosome, start, stop, gene_start, gene_stop, cpg_abs.pos, geneLength, cpg_abs.pos, cpg_scaled.pos, starts_with(\"CH\"))\n",
    "\n",
    "HC_df <- geneCpG %>% \n",
    "  select(chromosome, start, stop, gene_start, gene_stop, cpg_abs.pos, geneLength, cpg_abs.pos, cpg_scaled.pos, starts_with(\"HC\"))"
   ]
  },
  {
   "cell_type": "code",
   "execution_count": 14,
   "id": "1ab7cf42-5678-4936-91d1-c88b11bd9686",
   "metadata": {},
   "outputs": [
    {
     "data": {
      "text/html": [
       "<table class=\"dataframe\">\n",
       "<caption>A data.frame: 6 × 13</caption>\n",
       "<thead>\n",
       "\t<tr><th></th><th scope=col>chromosome</th><th scope=col>start</th><th scope=col>stop</th><th scope=col>gene_start</th><th scope=col>gene_stop</th><th scope=col>cpg_abs.pos</th><th scope=col>geneLength</th><th scope=col>cpg_scaled.pos</th><th scope=col>HH1</th><th scope=col>HH2</th><th scope=col>HH3</th><th scope=col>HH4</th><th scope=col>HH5</th></tr>\n",
       "\t<tr><th></th><th scope=col>&lt;chr&gt;</th><th scope=col>&lt;int&gt;</th><th scope=col>&lt;int&gt;</th><th scope=col>&lt;int&gt;</th><th scope=col>&lt;int&gt;</th><th scope=col>&lt;int&gt;</th><th scope=col>&lt;int&gt;</th><th scope=col>&lt;dbl&gt;</th><th scope=col>&lt;int&gt;</th><th scope=col>&lt;int&gt;</th><th scope=col>&lt;int&gt;</th><th scope=col>&lt;int&gt;</th><th scope=col>&lt;int&gt;</th></tr>\n",
       "</thead>\n",
       "<tbody>\n",
       "\t<tr><th scope=row>351</th><td>NC_035780.1</td><td>13597</td><td>13599</td><td>13578</td><td>14594</td><td> 19</td><td>1016</td><td>0.01870079</td><td>0</td><td>0</td><td>0</td><td>0</td><td>0</td></tr>\n",
       "\t<tr><th scope=row>352</th><td>NC_035780.1</td><td>13651</td><td>13653</td><td>13578</td><td>14594</td><td> 73</td><td>1016</td><td>0.07185039</td><td>0</td><td>0</td><td>0</td><td>0</td><td>0</td></tr>\n",
       "\t<tr><th scope=row>353</th><td>NC_035780.1</td><td>13725</td><td>13727</td><td>13578</td><td>14594</td><td>147</td><td>1016</td><td>0.14468504</td><td>0</td><td>0</td><td>0</td><td>0</td><td>0</td></tr>\n",
       "\t<tr><th scope=row>354</th><td>NC_035780.1</td><td>14144</td><td>14146</td><td>13578</td><td>14594</td><td>566</td><td>1016</td><td>0.55708661</td><td>0</td><td>0</td><td>0</td><td>0</td><td>0</td></tr>\n",
       "\t<tr><th scope=row>355</th><td>NC_035780.1</td><td>14430</td><td>14432</td><td>13578</td><td>14594</td><td>852</td><td>1016</td><td>0.83858268</td><td>0</td><td>0</td><td>0</td><td>0</td><td>0</td></tr>\n",
       "\t<tr><th scope=row>356</th><td>NC_035780.1</td><td>14453</td><td>14455</td><td>13578</td><td>14594</td><td>875</td><td>1016</td><td>0.86122047</td><td>0</td><td>0</td><td>0</td><td>0</td><td>0</td></tr>\n",
       "</tbody>\n",
       "</table>\n"
      ],
      "text/latex": [
       "A data.frame: 6 × 13\n",
       "\\begin{tabular}{r|lllllllllllll}\n",
       "  & chromosome & start & stop & gene\\_start & gene\\_stop & cpg\\_abs.pos & geneLength & cpg\\_scaled.pos & HH1 & HH2 & HH3 & HH4 & HH5\\\\\n",
       "  & <chr> & <int> & <int> & <int> & <int> & <int> & <int> & <dbl> & <int> & <int> & <int> & <int> & <int>\\\\\n",
       "\\hline\n",
       "\t351 & NC\\_035780.1 & 13597 & 13599 & 13578 & 14594 &  19 & 1016 & 0.01870079 & 0 & 0 & 0 & 0 & 0\\\\\n",
       "\t352 & NC\\_035780.1 & 13651 & 13653 & 13578 & 14594 &  73 & 1016 & 0.07185039 & 0 & 0 & 0 & 0 & 0\\\\\n",
       "\t353 & NC\\_035780.1 & 13725 & 13727 & 13578 & 14594 & 147 & 1016 & 0.14468504 & 0 & 0 & 0 & 0 & 0\\\\\n",
       "\t354 & NC\\_035780.1 & 14144 & 14146 & 13578 & 14594 & 566 & 1016 & 0.55708661 & 0 & 0 & 0 & 0 & 0\\\\\n",
       "\t355 & NC\\_035780.1 & 14430 & 14432 & 13578 & 14594 & 852 & 1016 & 0.83858268 & 0 & 0 & 0 & 0 & 0\\\\\n",
       "\t356 & NC\\_035780.1 & 14453 & 14455 & 13578 & 14594 & 875 & 1016 & 0.86122047 & 0 & 0 & 0 & 0 & 0\\\\\n",
       "\\end{tabular}\n"
      ],
      "text/markdown": [
       "\n",
       "A data.frame: 6 × 13\n",
       "\n",
       "| <!--/--> | chromosome &lt;chr&gt; | start &lt;int&gt; | stop &lt;int&gt; | gene_start &lt;int&gt; | gene_stop &lt;int&gt; | cpg_abs.pos &lt;int&gt; | geneLength &lt;int&gt; | cpg_scaled.pos &lt;dbl&gt; | HH1 &lt;int&gt; | HH2 &lt;int&gt; | HH3 &lt;int&gt; | HH4 &lt;int&gt; | HH5 &lt;int&gt; |\n",
       "|---|---|---|---|---|---|---|---|---|---|---|---|---|---|\n",
       "| 351 | NC_035780.1 | 13597 | 13599 | 13578 | 14594 |  19 | 1016 | 0.01870079 | 0 | 0 | 0 | 0 | 0 |\n",
       "| 352 | NC_035780.1 | 13651 | 13653 | 13578 | 14594 |  73 | 1016 | 0.07185039 | 0 | 0 | 0 | 0 | 0 |\n",
       "| 353 | NC_035780.1 | 13725 | 13727 | 13578 | 14594 | 147 | 1016 | 0.14468504 | 0 | 0 | 0 | 0 | 0 |\n",
       "| 354 | NC_035780.1 | 14144 | 14146 | 13578 | 14594 | 566 | 1016 | 0.55708661 | 0 | 0 | 0 | 0 | 0 |\n",
       "| 355 | NC_035780.1 | 14430 | 14432 | 13578 | 14594 | 852 | 1016 | 0.83858268 | 0 | 0 | 0 | 0 | 0 |\n",
       "| 356 | NC_035780.1 | 14453 | 14455 | 13578 | 14594 | 875 | 1016 | 0.86122047 | 0 | 0 | 0 | 0 | 0 |\n",
       "\n"
      ],
      "text/plain": [
       "    chromosome  start stop  gene_start gene_stop cpg_abs.pos geneLength\n",
       "351 NC_035780.1 13597 13599 13578      14594      19         1016      \n",
       "352 NC_035780.1 13651 13653 13578      14594      73         1016      \n",
       "353 NC_035780.1 13725 13727 13578      14594     147         1016      \n",
       "354 NC_035780.1 14144 14146 13578      14594     566         1016      \n",
       "355 NC_035780.1 14430 14432 13578      14594     852         1016      \n",
       "356 NC_035780.1 14453 14455 13578      14594     875         1016      \n",
       "    cpg_scaled.pos HH1 HH2 HH3 HH4 HH5\n",
       "351 0.01870079     0   0   0   0   0  \n",
       "352 0.07185039     0   0   0   0   0  \n",
       "353 0.14468504     0   0   0   0   0  \n",
       "354 0.55708661     0   0   0   0   0  \n",
       "355 0.83858268     0   0   0   0   0  \n",
       "356 0.86122047     0   0   0   0   0  "
      ]
     },
     "metadata": {},
     "output_type": "display_data"
    },
    {
     "data": {
      "text/html": [
       "<style>\n",
       ".list-inline {list-style: none; margin:0; padding: 0}\n",
       ".list-inline>li {display: inline-block}\n",
       ".list-inline>li:not(:last-child)::after {content: \"\\00b7\"; padding: 0 .5ex}\n",
       "</style>\n",
       "<ol class=list-inline><li>8189462</li><li>13</li></ol>\n"
      ],
      "text/latex": [
       "\\begin{enumerate*}\n",
       "\\item 8189462\n",
       "\\item 13\n",
       "\\end{enumerate*}\n"
      ],
      "text/markdown": [
       "1. 8189462\n",
       "2. 13\n",
       "\n",
       "\n"
      ],
      "text/plain": [
       "[1] 8189462      13"
      ]
     },
     "metadata": {},
     "output_type": "display_data"
    }
   ],
   "source": [
    "head(HH_df)\n",
    "dim(HH_df)"
   ]
  },
  {
   "cell_type": "code",
   "execution_count": 15,
   "id": "ed9a131c-0189-4943-8c81-2c51fda427da",
   "metadata": {},
   "outputs": [
    {
     "data": {
      "text/html": [
       "<table class=\"dataframe\">\n",
       "<caption>A tibble: 6 × 5</caption>\n",
       "<thead>\n",
       "\t<tr><th scope=col>cpg_scaled.pos</th><th scope=col>avg_methylation</th><th scope=col>treatment &lt;- \"HH\"</th><th scope=col>phase1 &lt;- \"Hypoxia\"</th><th scope=col>phase2 &lt;- \"Hypoxia\"</th></tr>\n",
       "\t<tr><th scope=col>&lt;dbl&gt;</th><th scope=col>&lt;dbl&gt;</th><th scope=col>&lt;chr&gt;</th><th scope=col>&lt;chr&gt;</th><th scope=col>&lt;chr&gt;</th></tr>\n",
       "</thead>\n",
       "<tbody>\n",
       "\t<tr><td>0.000000e+00</td><td>0.09305211</td><td>HH</td><td>Hypoxia</td><td>Hypoxia</td></tr>\n",
       "\t<tr><td>2.565866e-06</td><td>0.00000000</td><td>HH</td><td>Hypoxia</td><td>Hypoxia</td></tr>\n",
       "\t<tr><td>2.692471e-06</td><td>0.00000000</td><td>HH</td><td>Hypoxia</td><td>Hypoxia</td></tr>\n",
       "\t<tr><td>4.193250e-06</td><td>0.00000000</td><td>HH</td><td>Hypoxia</td><td>Hypoxia</td></tr>\n",
       "\t<tr><td>4.452677e-06</td><td>0.00000000</td><td>HH</td><td>Hypoxia</td><td>Hypoxia</td></tr>\n",
       "\t<tr><td>5.126654e-06</td><td>0.00000000</td><td>HH</td><td>Hypoxia</td><td>Hypoxia</td></tr>\n",
       "</tbody>\n",
       "</table>\n"
      ],
      "text/latex": [
       "A tibble: 6 × 5\n",
       "\\begin{tabular}{lllll}\n",
       " cpg\\_scaled.pos & avg\\_methylation & treatment <- \"HH\" & phase1 <- \"Hypoxia\" & phase2 <- \"Hypoxia\"\\\\\n",
       " <dbl> & <dbl> & <chr> & <chr> & <chr>\\\\\n",
       "\\hline\n",
       "\t 0.000000e+00 & 0.09305211 & HH & Hypoxia & Hypoxia\\\\\n",
       "\t 2.565866e-06 & 0.00000000 & HH & Hypoxia & Hypoxia\\\\\n",
       "\t 2.692471e-06 & 0.00000000 & HH & Hypoxia & Hypoxia\\\\\n",
       "\t 4.193250e-06 & 0.00000000 & HH & Hypoxia & Hypoxia\\\\\n",
       "\t 4.452677e-06 & 0.00000000 & HH & Hypoxia & Hypoxia\\\\\n",
       "\t 5.126654e-06 & 0.00000000 & HH & Hypoxia & Hypoxia\\\\\n",
       "\\end{tabular}\n"
      ],
      "text/markdown": [
       "\n",
       "A tibble: 6 × 5\n",
       "\n",
       "| cpg_scaled.pos &lt;dbl&gt; | avg_methylation &lt;dbl&gt; | treatment &lt;- \"HH\" &lt;chr&gt; | phase1 &lt;- \"Hypoxia\" &lt;chr&gt; | phase2 &lt;- \"Hypoxia\" &lt;chr&gt; |\n",
       "|---|---|---|---|---|\n",
       "| 0.000000e+00 | 0.09305211 | HH | Hypoxia | Hypoxia |\n",
       "| 2.565866e-06 | 0.00000000 | HH | Hypoxia | Hypoxia |\n",
       "| 2.692471e-06 | 0.00000000 | HH | Hypoxia | Hypoxia |\n",
       "| 4.193250e-06 | 0.00000000 | HH | Hypoxia | Hypoxia |\n",
       "| 4.452677e-06 | 0.00000000 | HH | Hypoxia | Hypoxia |\n",
       "| 5.126654e-06 | 0.00000000 | HH | Hypoxia | Hypoxia |\n",
       "\n"
      ],
      "text/plain": [
       "  cpg_scaled.pos avg_methylation treatment <- \"HH\" phase1 <- \"Hypoxia\"\n",
       "1 0.000000e+00   0.09305211      HH                Hypoxia            \n",
       "2 2.565866e-06   0.00000000      HH                Hypoxia            \n",
       "3 2.692471e-06   0.00000000      HH                Hypoxia            \n",
       "4 4.193250e-06   0.00000000      HH                Hypoxia            \n",
       "5 4.452677e-06   0.00000000      HH                Hypoxia            \n",
       "6 5.126654e-06   0.00000000      HH                Hypoxia            \n",
       "  phase2 <- \"Hypoxia\"\n",
       "1 Hypoxia            \n",
       "2 Hypoxia            \n",
       "3 Hypoxia            \n",
       "4 Hypoxia            \n",
       "5 Hypoxia            \n",
       "6 Hypoxia            "
      ]
     },
     "metadata": {},
     "output_type": "display_data"
    }
   ],
   "source": [
    "hh_meta <- HH_df %>%\n",
    "  select(cpg_scaled.pos, HH1, HH2, HH3, HH4, HH5) %>%\n",
    "  pivot_longer(cols = c(HH1, HH2, HH3, HH4, HH5), names_to = \"sample\", values_to = \"methylation_level\") %>%\n",
    "  group_by(cpg_scaled.pos) %>%\n",
    "  summarise(avg_methylation = mean(methylation_level)) %>%\n",
    "mutate(treatment <- 'HH') %>%\n",
    "mutate(phase1 <- 'Hypoxia') %>%\n",
    "mutate(phase2 <- 'Hypoxia')\n",
    "\n",
    "head(hh_meta)"
   ]
  },
  {
   "cell_type": "markdown",
   "id": "9c5fc876-5c3b-4e35-a2f0-d488bbfcae6a",
   "metadata": {},
   "source": [
    "proof of concept:"
   ]
  },
  {
   "cell_type": "code",
   "execution_count": 36,
   "id": "17eae285-e697-490f-981c-9ec88e96b588",
   "metadata": {},
   "outputs": [
    {
     "name": "stderr",
     "output_type": "stream",
     "text": [
      "\u001b[1m\u001b[22m`geom_smooth()` using method = 'gam' and formula = 'y ~ s(x, bs = \"cs\")'\n"
     ]
    },
    {
     "data": {
      "image/png": "[encoded data removed]",
      "text/plain": [
       "plot without title"
      ]
     },
     "metadata": {
      "image/png": {
       "height": 420,
       "width": 420
      }
     },
     "output_type": "display_data"
    }
   ],
   "source": [
    "# Make the metaplot\n",
    "ggplot(metaplot_df, aes(x = cpg_scaled.pos, y = avg_methylation)) +\n",
    "  geom_smooth() +\n",
    "  labs(x = \"Position across gene\", y = \"Average methylation level\") +\n",
    "  theme_bw()"
   ]
  },
  {
   "cell_type": "markdown",
   "id": "84c3f442-a215-45ec-b429-ebe8d35ba626",
   "metadata": {},
   "source": [
    "this is just HH - want to do this for the other treatment combos and have all on one plot - trying to create a function that does this to be more efficient\n",
    "\n",
    "also - probably want 1kb upstream and downstream of the gene too to show high intragenic methylation"
   ]
  },
  {
   "cell_type": "code",
   "execution_count": 38,
   "id": "da45f101-b3d6-4f28-b09c-93dfdee26413",
   "metadata": {},
   "outputs": [],
   "source": [
    "create_meta_df <- function(df, treatment) {\n",
    "  # Determine phase 1 and phase 2 based on treatment\n",
    "  phase1 <- ifelse(grepl(\"C\", treatment), \"Control\", \"Hypoxia\")\n",
    "  phase2 <- ifelse(grepl(\"H$\", treatment), \"Hypoxia\", \"Control\")\n",
    "  \n",
    "  # Create meta dataframe\n",
    "  meta_df <- df %>%\n",
    "    select(cpg_scaled.pos, starts_with(treatment)) %>%\n",
    "    pivot_longer(cols = starts_with(treatment), names_to = \"sample\", values_to = \"methylation_level\") %>%\n",
    "    group_by(cpg_scaled.pos) %>%\n",
    "    summarise(avg_methylation = mean(methylation_level)) %>%\n",
    "    mutate(treatment = treatment,\n",
    "           phase1 = phase1,\n",
    "           phase2 = phase2)\n",
    "  \n",
    "  return(meta_df)\n",
    "}\n"
   ]
  },
  {
   "cell_type": "code",
   "execution_count": 39,
   "id": "39ce77ff-dfa0-48fb-9fc8-465d56bb5b07",
   "metadata": {},
   "outputs": [
    {
     "data": {
      "text/html": [
       "<table class=\"dataframe\">\n",
       "<caption>A tibble: 6 × 5</caption>\n",
       "<thead>\n",
       "\t<tr><th scope=col>cpg_scaled.pos</th><th scope=col>avg_methylation</th><th scope=col>treatment</th><th scope=col>phase1</th><th scope=col>phase2</th></tr>\n",
       "\t<tr><th scope=col>&lt;dbl&gt;</th><th scope=col>&lt;dbl&gt;</th><th scope=col>&lt;chr&gt;</th><th scope=col>&lt;chr&gt;</th><th scope=col>&lt;chr&gt;</th></tr>\n",
       "</thead>\n",
       "<tbody>\n",
       "\t<tr><td>0.000000e+00</td><td>0.09305211</td><td>HH</td><td>Hypoxia</td><td>Hypoxia</td></tr>\n",
       "\t<tr><td>2.565866e-06</td><td>0.00000000</td><td>HH</td><td>Hypoxia</td><td>Hypoxia</td></tr>\n",
       "\t<tr><td>2.692471e-06</td><td>0.00000000</td><td>HH</td><td>Hypoxia</td><td>Hypoxia</td></tr>\n",
       "\t<tr><td>4.193250e-06</td><td>0.00000000</td><td>HH</td><td>Hypoxia</td><td>Hypoxia</td></tr>\n",
       "\t<tr><td>4.452677e-06</td><td>0.00000000</td><td>HH</td><td>Hypoxia</td><td>Hypoxia</td></tr>\n",
       "\t<tr><td>5.126654e-06</td><td>0.00000000</td><td>HH</td><td>Hypoxia</td><td>Hypoxia</td></tr>\n",
       "</tbody>\n",
       "</table>\n"
      ],
      "text/latex": [
       "A tibble: 6 × 5\n",
       "\\begin{tabular}{lllll}\n",
       " cpg\\_scaled.pos & avg\\_methylation & treatment & phase1 & phase2\\\\\n",
       " <dbl> & <dbl> & <chr> & <chr> & <chr>\\\\\n",
       "\\hline\n",
       "\t 0.000000e+00 & 0.09305211 & HH & Hypoxia & Hypoxia\\\\\n",
       "\t 2.565866e-06 & 0.00000000 & HH & Hypoxia & Hypoxia\\\\\n",
       "\t 2.692471e-06 & 0.00000000 & HH & Hypoxia & Hypoxia\\\\\n",
       "\t 4.193250e-06 & 0.00000000 & HH & Hypoxia & Hypoxia\\\\\n",
       "\t 4.452677e-06 & 0.00000000 & HH & Hypoxia & Hypoxia\\\\\n",
       "\t 5.126654e-06 & 0.00000000 & HH & Hypoxia & Hypoxia\\\\\n",
       "\\end{tabular}\n"
      ],
      "text/markdown": [
       "\n",
       "A tibble: 6 × 5\n",
       "\n",
       "| cpg_scaled.pos &lt;dbl&gt; | avg_methylation &lt;dbl&gt; | treatment &lt;chr&gt; | phase1 &lt;chr&gt; | phase2 &lt;chr&gt; |\n",
       "|---|---|---|---|---|\n",
       "| 0.000000e+00 | 0.09305211 | HH | Hypoxia | Hypoxia |\n",
       "| 2.565866e-06 | 0.00000000 | HH | Hypoxia | Hypoxia |\n",
       "| 2.692471e-06 | 0.00000000 | HH | Hypoxia | Hypoxia |\n",
       "| 4.193250e-06 | 0.00000000 | HH | Hypoxia | Hypoxia |\n",
       "| 4.452677e-06 | 0.00000000 | HH | Hypoxia | Hypoxia |\n",
       "| 5.126654e-06 | 0.00000000 | HH | Hypoxia | Hypoxia |\n",
       "\n"
      ],
      "text/plain": [
       "  cpg_scaled.pos avg_methylation treatment phase1  phase2 \n",
       "1 0.000000e+00   0.09305211      HH        Hypoxia Hypoxia\n",
       "2 2.565866e-06   0.00000000      HH        Hypoxia Hypoxia\n",
       "3 2.692471e-06   0.00000000      HH        Hypoxia Hypoxia\n",
       "4 4.193250e-06   0.00000000      HH        Hypoxia Hypoxia\n",
       "5 4.452677e-06   0.00000000      HH        Hypoxia Hypoxia\n",
       "6 5.126654e-06   0.00000000      HH        Hypoxia Hypoxia"
      ]
     },
     "metadata": {},
     "output_type": "display_data"
    }
   ],
   "source": [
    "hh_meta <- create_meta_df(HH_df, 'HH')\n",
    "head(hh_meta)"
   ]
  },
  {
   "cell_type": "markdown",
   "id": "563ae54c-41b2-4ba4-a4d8-3217b646120d",
   "metadata": {},
   "source": [
    "but then this doesn't work for CH... trying a diff verison"
   ]
  },
  {
   "cell_type": "code",
   "execution_count": 16,
   "id": "be7f1ad3-5c7c-4128-b854-eaef2ecd3df6",
   "metadata": {},
   "outputs": [],
   "source": [
    "create_meta_df <- function(df, treatment) {\n",
    "  # Determine phase 1 and phase 2 based on treatment\n",
    "  phase1 <- ifelse(grepl(\"C\", treatment), \"Control\", \"Hypoxia\")\n",
    "  phase2 <- ifelse(grepl(\"H$\", treatment), \"Hypoxia\", \"Control\")\n",
    "  \n",
    "  # Create meta dataframe\n",
    "  cols_to_select <- c(\"cpg_scaled.pos\", grep(paste0(\"^\", treatment), colnames(df), value = TRUE))\n",
    "  \n",
    "  meta_df <- df %>%\n",
    "    select(all_of(cols_to_select)) %>%\n",
    "    pivot_longer(cols = -cpg_scaled.pos, names_to = \"sample\", values_to = \"methylation_level\") %>%\n",
    "    group_by(cpg_scaled.pos) %>%\n",
    "    summarise(avg_methylation = mean(methylation_level)) %>%\n",
    "    mutate(treatment = treatment,\n",
    "           phase1 = phase1,\n",
    "           phase2 = phase2)\n",
    "  \n",
    "  return(meta_df)\n",
    "}"
   ]
  },
  {
   "cell_type": "code",
   "execution_count": 17,
   "id": "de75fe67-4cc9-4cb8-9b1a-bb83d31899b9",
   "metadata": {},
   "outputs": [
    {
     "data": {
      "text/html": [
       "<table class=\"dataframe\">\n",
       "<caption>A tibble: 6 × 5</caption>\n",
       "<thead>\n",
       "\t<tr><th scope=col>cpg_scaled.pos</th><th scope=col>avg_methylation</th><th scope=col>treatment</th><th scope=col>phase1</th><th scope=col>phase2</th></tr>\n",
       "\t<tr><th scope=col>&lt;dbl&gt;</th><th scope=col>&lt;dbl&gt;</th><th scope=col>&lt;chr&gt;</th><th scope=col>&lt;chr&gt;</th><th scope=col>&lt;chr&gt;</th></tr>\n",
       "</thead>\n",
       "<tbody>\n",
       "\t<tr><td>0.000000e+00</td><td>0.1166253</td><td>CH</td><td>Control</td><td>Hypoxia</td></tr>\n",
       "\t<tr><td>2.565866e-06</td><td>0.0000000</td><td>CH</td><td>Control</td><td>Hypoxia</td></tr>\n",
       "\t<tr><td>2.692471e-06</td><td>0.0000000</td><td>CH</td><td>Control</td><td>Hypoxia</td></tr>\n",
       "\t<tr><td>4.193250e-06</td><td>0.0000000</td><td>CH</td><td>Control</td><td>Hypoxia</td></tr>\n",
       "\t<tr><td>4.452677e-06</td><td>0.0000000</td><td>CH</td><td>Control</td><td>Hypoxia</td></tr>\n",
       "\t<tr><td>5.126654e-06</td><td>0.0000000</td><td>CH</td><td>Control</td><td>Hypoxia</td></tr>\n",
       "</tbody>\n",
       "</table>\n"
      ],
      "text/latex": [
       "A tibble: 6 × 5\n",
       "\\begin{tabular}{lllll}\n",
       " cpg\\_scaled.pos & avg\\_methylation & treatment & phase1 & phase2\\\\\n",
       " <dbl> & <dbl> & <chr> & <chr> & <chr>\\\\\n",
       "\\hline\n",
       "\t 0.000000e+00 & 0.1166253 & CH & Control & Hypoxia\\\\\n",
       "\t 2.565866e-06 & 0.0000000 & CH & Control & Hypoxia\\\\\n",
       "\t 2.692471e-06 & 0.0000000 & CH & Control & Hypoxia\\\\\n",
       "\t 4.193250e-06 & 0.0000000 & CH & Control & Hypoxia\\\\\n",
       "\t 4.452677e-06 & 0.0000000 & CH & Control & Hypoxia\\\\\n",
       "\t 5.126654e-06 & 0.0000000 & CH & Control & Hypoxia\\\\\n",
       "\\end{tabular}\n"
      ],
      "text/markdown": [
       "\n",
       "A tibble: 6 × 5\n",
       "\n",
       "| cpg_scaled.pos &lt;dbl&gt; | avg_methylation &lt;dbl&gt; | treatment &lt;chr&gt; | phase1 &lt;chr&gt; | phase2 &lt;chr&gt; |\n",
       "|---|---|---|---|---|\n",
       "| 0.000000e+00 | 0.1166253 | CH | Control | Hypoxia |\n",
       "| 2.565866e-06 | 0.0000000 | CH | Control | Hypoxia |\n",
       "| 2.692471e-06 | 0.0000000 | CH | Control | Hypoxia |\n",
       "| 4.193250e-06 | 0.0000000 | CH | Control | Hypoxia |\n",
       "| 4.452677e-06 | 0.0000000 | CH | Control | Hypoxia |\n",
       "| 5.126654e-06 | 0.0000000 | CH | Control | Hypoxia |\n",
       "\n"
      ],
      "text/plain": [
       "  cpg_scaled.pos avg_methylation treatment phase1  phase2 \n",
       "1 0.000000e+00   0.1166253       CH        Control Hypoxia\n",
       "2 2.565866e-06   0.0000000       CH        Control Hypoxia\n",
       "3 2.692471e-06   0.0000000       CH        Control Hypoxia\n",
       "4 4.193250e-06   0.0000000       CH        Control Hypoxia\n",
       "5 4.452677e-06   0.0000000       CH        Control Hypoxia\n",
       "6 5.126654e-06   0.0000000       CH        Control Hypoxia"
      ]
     },
     "metadata": {},
     "output_type": "display_data"
    }
   ],
   "source": [
    "ch_meta <- create_meta_df(CH_df, 'CH')\n",
    "head(ch_meta)"
   ]
  },
  {
   "cell_type": "code",
   "execution_count": 18,
   "id": "cd4cfd08-7617-41a6-9998-5d51cfff57a5",
   "metadata": {},
   "outputs": [
    {
     "data": {
      "text/html": [
       "<table class=\"dataframe\">\n",
       "<caption>A tibble: 6 × 5</caption>\n",
       "<thead>\n",
       "\t<tr><th scope=col>cpg_scaled.pos</th><th scope=col>avg_methylation</th><th scope=col>treatment</th><th scope=col>phase1</th><th scope=col>phase2</th></tr>\n",
       "\t<tr><th scope=col>&lt;dbl&gt;</th><th scope=col>&lt;dbl&gt;</th><th scope=col>&lt;chr&gt;</th><th scope=col>&lt;chr&gt;</th><th scope=col>&lt;chr&gt;</th></tr>\n",
       "</thead>\n",
       "<tbody>\n",
       "\t<tr><td>0.000000e+00</td><td>0.07543424</td><td>CC</td><td>Control</td><td>Control</td></tr>\n",
       "\t<tr><td>2.565866e-06</td><td>0.00000000</td><td>CC</td><td>Control</td><td>Control</td></tr>\n",
       "\t<tr><td>2.692471e-06</td><td>0.00000000</td><td>CC</td><td>Control</td><td>Control</td></tr>\n",
       "\t<tr><td>4.193250e-06</td><td>0.00000000</td><td>CC</td><td>Control</td><td>Control</td></tr>\n",
       "\t<tr><td>4.452677e-06</td><td>0.00000000</td><td>CC</td><td>Control</td><td>Control</td></tr>\n",
       "\t<tr><td>5.126654e-06</td><td>0.00000000</td><td>CC</td><td>Control</td><td>Control</td></tr>\n",
       "</tbody>\n",
       "</table>\n"
      ],
      "text/latex": [
       "A tibble: 6 × 5\n",
       "\\begin{tabular}{lllll}\n",
       " cpg\\_scaled.pos & avg\\_methylation & treatment & phase1 & phase2\\\\\n",
       " <dbl> & <dbl> & <chr> & <chr> & <chr>\\\\\n",
       "\\hline\n",
       "\t 0.000000e+00 & 0.07543424 & CC & Control & Control\\\\\n",
       "\t 2.565866e-06 & 0.00000000 & CC & Control & Control\\\\\n",
       "\t 2.692471e-06 & 0.00000000 & CC & Control & Control\\\\\n",
       "\t 4.193250e-06 & 0.00000000 & CC & Control & Control\\\\\n",
       "\t 4.452677e-06 & 0.00000000 & CC & Control & Control\\\\\n",
       "\t 5.126654e-06 & 0.00000000 & CC & Control & Control\\\\\n",
       "\\end{tabular}\n"
      ],
      "text/markdown": [
       "\n",
       "A tibble: 6 × 5\n",
       "\n",
       "| cpg_scaled.pos &lt;dbl&gt; | avg_methylation &lt;dbl&gt; | treatment &lt;chr&gt; | phase1 &lt;chr&gt; | phase2 &lt;chr&gt; |\n",
       "|---|---|---|---|---|\n",
       "| 0.000000e+00 | 0.07543424 | CC | Control | Control |\n",
       "| 2.565866e-06 | 0.00000000 | CC | Control | Control |\n",
       "| 2.692471e-06 | 0.00000000 | CC | Control | Control |\n",
       "| 4.193250e-06 | 0.00000000 | CC | Control | Control |\n",
       "| 4.452677e-06 | 0.00000000 | CC | Control | Control |\n",
       "| 5.126654e-06 | 0.00000000 | CC | Control | Control |\n",
       "\n"
      ],
      "text/plain": [
       "  cpg_scaled.pos avg_methylation treatment phase1  phase2 \n",
       "1 0.000000e+00   0.07543424      CC        Control Control\n",
       "2 2.565866e-06   0.00000000      CC        Control Control\n",
       "3 2.692471e-06   0.00000000      CC        Control Control\n",
       "4 4.193250e-06   0.00000000      CC        Control Control\n",
       "5 4.452677e-06   0.00000000      CC        Control Control\n",
       "6 5.126654e-06   0.00000000      CC        Control Control"
      ]
     },
     "metadata": {},
     "output_type": "display_data"
    }
   ],
   "source": [
    "cc_meta <- create_meta_df(CC_df, 'CC')\n",
    "head(cc_meta)"
   ]
  },
  {
   "cell_type": "code",
   "execution_count": 19,
   "id": "b5335c29-a434-4a16-aeaf-1f6d3f4aa339",
   "metadata": {},
   "outputs": [
    {
     "data": {
      "text/html": [
       "<table class=\"dataframe\">\n",
       "<caption>A tibble: 6 × 5</caption>\n",
       "<thead>\n",
       "\t<tr><th scope=col>cpg_scaled.pos</th><th scope=col>avg_methylation</th><th scope=col>treatment</th><th scope=col>phase1</th><th scope=col>phase2</th></tr>\n",
       "\t<tr><th scope=col>&lt;dbl&gt;</th><th scope=col>&lt;dbl&gt;</th><th scope=col>&lt;chr&gt;</th><th scope=col>&lt;chr&gt;</th><th scope=col>&lt;chr&gt;</th></tr>\n",
       "</thead>\n",
       "<tbody>\n",
       "\t<tr><td>0.000000e+00</td><td>0.255335</td><td>HC</td><td>Control</td><td>Control</td></tr>\n",
       "\t<tr><td>2.565866e-06</td><td>0.000000</td><td>HC</td><td>Control</td><td>Control</td></tr>\n",
       "\t<tr><td>2.692471e-06</td><td>0.000000</td><td>HC</td><td>Control</td><td>Control</td></tr>\n",
       "\t<tr><td>4.193250e-06</td><td>0.000000</td><td>HC</td><td>Control</td><td>Control</td></tr>\n",
       "\t<tr><td>4.452677e-06</td><td>0.000000</td><td>HC</td><td>Control</td><td>Control</td></tr>\n",
       "\t<tr><td>5.126654e-06</td><td>0.000000</td><td>HC</td><td>Control</td><td>Control</td></tr>\n",
       "</tbody>\n",
       "</table>\n"
      ],
      "text/latex": [
       "A tibble: 6 × 5\n",
       "\\begin{tabular}{lllll}\n",
       " cpg\\_scaled.pos & avg\\_methylation & treatment & phase1 & phase2\\\\\n",
       " <dbl> & <dbl> & <chr> & <chr> & <chr>\\\\\n",
       "\\hline\n",
       "\t 0.000000e+00 & 0.255335 & HC & Control & Control\\\\\n",
       "\t 2.565866e-06 & 0.000000 & HC & Control & Control\\\\\n",
       "\t 2.692471e-06 & 0.000000 & HC & Control & Control\\\\\n",
       "\t 4.193250e-06 & 0.000000 & HC & Control & Control\\\\\n",
       "\t 4.452677e-06 & 0.000000 & HC & Control & Control\\\\\n",
       "\t 5.126654e-06 & 0.000000 & HC & Control & Control\\\\\n",
       "\\end{tabular}\n"
      ],
      "text/markdown": [
       "\n",
       "A tibble: 6 × 5\n",
       "\n",
       "| cpg_scaled.pos &lt;dbl&gt; | avg_methylation &lt;dbl&gt; | treatment &lt;chr&gt; | phase1 &lt;chr&gt; | phase2 &lt;chr&gt; |\n",
       "|---|---|---|---|---|\n",
       "| 0.000000e+00 | 0.255335 | HC | Control | Control |\n",
       "| 2.565866e-06 | 0.000000 | HC | Control | Control |\n",
       "| 2.692471e-06 | 0.000000 | HC | Control | Control |\n",
       "| 4.193250e-06 | 0.000000 | HC | Control | Control |\n",
       "| 4.452677e-06 | 0.000000 | HC | Control | Control |\n",
       "| 5.126654e-06 | 0.000000 | HC | Control | Control |\n",
       "\n"
      ],
      "text/plain": [
       "  cpg_scaled.pos avg_methylation treatment phase1  phase2 \n",
       "1 0.000000e+00   0.255335        HC        Control Control\n",
       "2 2.565866e-06   0.000000        HC        Control Control\n",
       "3 2.692471e-06   0.000000        HC        Control Control\n",
       "4 4.193250e-06   0.000000        HC        Control Control\n",
       "5 4.452677e-06   0.000000        HC        Control Control\n",
       "6 5.126654e-06   0.000000        HC        Control Control"
      ]
     },
     "metadata": {},
     "output_type": "display_data"
    }
   ],
   "source": [
    "hc_meta <- create_meta_df(HC_df, 'HC')\n",
    "head(hc_meta)"
   ]
  },
  {
   "cell_type": "code",
   "execution_count": 20,
   "id": "91f87553-bac8-4674-baa1-b845072ff2e9",
   "metadata": {},
   "outputs": [
    {
     "data": {
      "text/html": [
       "<table class=\"dataframe\">\n",
       "<caption>A tibble: 6 × 5</caption>\n",
       "<thead>\n",
       "\t<tr><th scope=col>cpg_scaled.pos</th><th scope=col>avg_methylation</th><th scope=col>treatment</th><th scope=col>phase1</th><th scope=col>phase2</th></tr>\n",
       "\t<tr><th scope=col>&lt;dbl&gt;</th><th scope=col>&lt;dbl&gt;</th><th scope=col>&lt;chr&gt;</th><th scope=col>&lt;chr&gt;</th><th scope=col>&lt;chr&gt;</th></tr>\n",
       "</thead>\n",
       "<tbody>\n",
       "\t<tr><td>0.000000e+00</td><td>0.09305211</td><td>HH</td><td>Hypoxia</td><td>Hypoxia</td></tr>\n",
       "\t<tr><td>2.565866e-06</td><td>0.00000000</td><td>HH</td><td>Hypoxia</td><td>Hypoxia</td></tr>\n",
       "\t<tr><td>2.692471e-06</td><td>0.00000000</td><td>HH</td><td>Hypoxia</td><td>Hypoxia</td></tr>\n",
       "\t<tr><td>4.193250e-06</td><td>0.00000000</td><td>HH</td><td>Hypoxia</td><td>Hypoxia</td></tr>\n",
       "\t<tr><td>4.452677e-06</td><td>0.00000000</td><td>HH</td><td>Hypoxia</td><td>Hypoxia</td></tr>\n",
       "\t<tr><td>5.126654e-06</td><td>0.00000000</td><td>HH</td><td>Hypoxia</td><td>Hypoxia</td></tr>\n",
       "</tbody>\n",
       "</table>\n"
      ],
      "text/latex": [
       "A tibble: 6 × 5\n",
       "\\begin{tabular}{lllll}\n",
       " cpg\\_scaled.pos & avg\\_methylation & treatment & phase1 & phase2\\\\\n",
       " <dbl> & <dbl> & <chr> & <chr> & <chr>\\\\\n",
       "\\hline\n",
       "\t 0.000000e+00 & 0.09305211 & HH & Hypoxia & Hypoxia\\\\\n",
       "\t 2.565866e-06 & 0.00000000 & HH & Hypoxia & Hypoxia\\\\\n",
       "\t 2.692471e-06 & 0.00000000 & HH & Hypoxia & Hypoxia\\\\\n",
       "\t 4.193250e-06 & 0.00000000 & HH & Hypoxia & Hypoxia\\\\\n",
       "\t 4.452677e-06 & 0.00000000 & HH & Hypoxia & Hypoxia\\\\\n",
       "\t 5.126654e-06 & 0.00000000 & HH & Hypoxia & Hypoxia\\\\\n",
       "\\end{tabular}\n"
      ],
      "text/markdown": [
       "\n",
       "A tibble: 6 × 5\n",
       "\n",
       "| cpg_scaled.pos &lt;dbl&gt; | avg_methylation &lt;dbl&gt; | treatment &lt;chr&gt; | phase1 &lt;chr&gt; | phase2 &lt;chr&gt; |\n",
       "|---|---|---|---|---|\n",
       "| 0.000000e+00 | 0.09305211 | HH | Hypoxia | Hypoxia |\n",
       "| 2.565866e-06 | 0.00000000 | HH | Hypoxia | Hypoxia |\n",
       "| 2.692471e-06 | 0.00000000 | HH | Hypoxia | Hypoxia |\n",
       "| 4.193250e-06 | 0.00000000 | HH | Hypoxia | Hypoxia |\n",
       "| 4.452677e-06 | 0.00000000 | HH | Hypoxia | Hypoxia |\n",
       "| 5.126654e-06 | 0.00000000 | HH | Hypoxia | Hypoxia |\n",
       "\n"
      ],
      "text/plain": [
       "  cpg_scaled.pos avg_methylation treatment phase1  phase2 \n",
       "1 0.000000e+00   0.09305211      HH        Hypoxia Hypoxia\n",
       "2 2.565866e-06   0.00000000      HH        Hypoxia Hypoxia\n",
       "3 2.692471e-06   0.00000000      HH        Hypoxia Hypoxia\n",
       "4 4.193250e-06   0.00000000      HH        Hypoxia Hypoxia\n",
       "5 4.452677e-06   0.00000000      HH        Hypoxia Hypoxia\n",
       "6 5.126654e-06   0.00000000      HH        Hypoxia Hypoxia"
      ]
     },
     "metadata": {},
     "output_type": "display_data"
    }
   ],
   "source": [
    "hh_meta <- create_meta_df(HH_df, 'HH')\n",
    "head(hh_meta)"
   ]
  },
  {
   "cell_type": "code",
   "execution_count": 21,
   "id": "cc248c71-dff5-430c-a79b-f7ec9cdc219d",
   "metadata": {},
   "outputs": [
    {
     "data": {
      "text/html": [
       "<style>\n",
       ".list-inline {list-style: none; margin:0; padding: 0}\n",
       ".list-inline>li {display: inline-block}\n",
       ".list-inline>li:not(:last-child)::after {content: \"\\00b7\"; padding: 0 .5ex}\n",
       "</style>\n",
       "<ol class=list-inline><li>30405460</li><li>5</li></ol>\n"
      ],
      "text/latex": [
       "\\begin{enumerate*}\n",
       "\\item 30405460\n",
       "\\item 5\n",
       "\\end{enumerate*}\n"
      ],
      "text/markdown": [
       "1. 30405460\n",
       "2. 5\n",
       "\n",
       "\n"
      ],
      "text/plain": [
       "[1] 30405460        5"
      ]
     },
     "metadata": {},
     "output_type": "display_data"
    },
    {
     "data": {
      "text/html": [
       "<table class=\"dataframe\">\n",
       "<caption>A tibble: 6 × 5</caption>\n",
       "<thead>\n",
       "\t<tr><th scope=col>cpg_scaled.pos</th><th scope=col>avg_methylation</th><th scope=col>treatment</th><th scope=col>phase1</th><th scope=col>phase2</th></tr>\n",
       "\t<tr><th scope=col>&lt;dbl&gt;</th><th scope=col>&lt;dbl&gt;</th><th scope=col>&lt;chr&gt;</th><th scope=col>&lt;chr&gt;</th><th scope=col>&lt;chr&gt;</th></tr>\n",
       "</thead>\n",
       "<tbody>\n",
       "\t<tr><td>0.000000e+00</td><td>0.09305211</td><td>HH</td><td>Hypoxia</td><td>Hypoxia</td></tr>\n",
       "\t<tr><td>2.565866e-06</td><td>0.00000000</td><td>HH</td><td>Hypoxia</td><td>Hypoxia</td></tr>\n",
       "\t<tr><td>2.692471e-06</td><td>0.00000000</td><td>HH</td><td>Hypoxia</td><td>Hypoxia</td></tr>\n",
       "\t<tr><td>4.193250e-06</td><td>0.00000000</td><td>HH</td><td>Hypoxia</td><td>Hypoxia</td></tr>\n",
       "\t<tr><td>4.452677e-06</td><td>0.00000000</td><td>HH</td><td>Hypoxia</td><td>Hypoxia</td></tr>\n",
       "\t<tr><td>5.126654e-06</td><td>0.00000000</td><td>HH</td><td>Hypoxia</td><td>Hypoxia</td></tr>\n",
       "</tbody>\n",
       "</table>\n"
      ],
      "text/latex": [
       "A tibble: 6 × 5\n",
       "\\begin{tabular}{lllll}\n",
       " cpg\\_scaled.pos & avg\\_methylation & treatment & phase1 & phase2\\\\\n",
       " <dbl> & <dbl> & <chr> & <chr> & <chr>\\\\\n",
       "\\hline\n",
       "\t 0.000000e+00 & 0.09305211 & HH & Hypoxia & Hypoxia\\\\\n",
       "\t 2.565866e-06 & 0.00000000 & HH & Hypoxia & Hypoxia\\\\\n",
       "\t 2.692471e-06 & 0.00000000 & HH & Hypoxia & Hypoxia\\\\\n",
       "\t 4.193250e-06 & 0.00000000 & HH & Hypoxia & Hypoxia\\\\\n",
       "\t 4.452677e-06 & 0.00000000 & HH & Hypoxia & Hypoxia\\\\\n",
       "\t 5.126654e-06 & 0.00000000 & HH & Hypoxia & Hypoxia\\\\\n",
       "\\end{tabular}\n"
      ],
      "text/markdown": [
       "\n",
       "A tibble: 6 × 5\n",
       "\n",
       "| cpg_scaled.pos &lt;dbl&gt; | avg_methylation &lt;dbl&gt; | treatment &lt;chr&gt; | phase1 &lt;chr&gt; | phase2 &lt;chr&gt; |\n",
       "|---|---|---|---|---|\n",
       "| 0.000000e+00 | 0.09305211 | HH | Hypoxia | Hypoxia |\n",
       "| 2.565866e-06 | 0.00000000 | HH | Hypoxia | Hypoxia |\n",
       "| 2.692471e-06 | 0.00000000 | HH | Hypoxia | Hypoxia |\n",
       "| 4.193250e-06 | 0.00000000 | HH | Hypoxia | Hypoxia |\n",
       "| 4.452677e-06 | 0.00000000 | HH | Hypoxia | Hypoxia |\n",
       "| 5.126654e-06 | 0.00000000 | HH | Hypoxia | Hypoxia |\n",
       "\n"
      ],
      "text/plain": [
       "  cpg_scaled.pos avg_methylation treatment phase1  phase2 \n",
       "1 0.000000e+00   0.09305211      HH        Hypoxia Hypoxia\n",
       "2 2.565866e-06   0.00000000      HH        Hypoxia Hypoxia\n",
       "3 2.692471e-06   0.00000000      HH        Hypoxia Hypoxia\n",
       "4 4.193250e-06   0.00000000      HH        Hypoxia Hypoxia\n",
       "5 4.452677e-06   0.00000000      HH        Hypoxia Hypoxia\n",
       "6 5.126654e-06   0.00000000      HH        Hypoxia Hypoxia"
      ]
     },
     "metadata": {},
     "output_type": "display_data"
    }
   ],
   "source": [
    "mega_df <- rbind(hh_meta, cc_meta, hc_meta, ch_meta)\n",
    "dim(mega_df)\n",
    "head(mega_df)"
   ]
  },
  {
   "cell_type": "code",
   "execution_count": 22,
   "id": "b25e3cd4-30c0-440a-a183-73489703c3b5",
   "metadata": {},
   "outputs": [],
   "source": [
    "write.csv(mega_df, '/project/pi_sarah_gignouxwolfsohn_uml_edu/julia/genomic_feature_tracks/twl_sideQuest/metaplot_cpgGene.csv', row.names=FALSE)"
   ]
  },
  {
   "cell_type": "code",
   "execution_count": 3,
   "id": "1b80b9f4-a91a-44a1-b268-c72a7d8a997b",
   "metadata": {},
   "outputs": [
    {
     "data": {
      "text/html": [
       "<table class=\"dataframe\">\n",
       "<caption>A data.frame: 6 × 5</caption>\n",
       "<thead>\n",
       "\t<tr><th></th><th scope=col>cpg_scaled.pos</th><th scope=col>avg_methylation</th><th scope=col>treatment</th><th scope=col>phase1</th><th scope=col>phase2</th></tr>\n",
       "\t<tr><th></th><th scope=col>&lt;dbl&gt;</th><th scope=col>&lt;dbl&gt;</th><th scope=col>&lt;chr&gt;</th><th scope=col>&lt;chr&gt;</th><th scope=col>&lt;chr&gt;</th></tr>\n",
       "</thead>\n",
       "<tbody>\n",
       "\t<tr><th scope=row>1</th><td>0.000000e+00</td><td>0.09305211</td><td>HH</td><td>Hypoxia</td><td>Hypoxia</td></tr>\n",
       "\t<tr><th scope=row>2</th><td>2.565866e-06</td><td>0.00000000</td><td>HH</td><td>Hypoxia</td><td>Hypoxia</td></tr>\n",
       "\t<tr><th scope=row>3</th><td>2.692471e-06</td><td>0.00000000</td><td>HH</td><td>Hypoxia</td><td>Hypoxia</td></tr>\n",
       "\t<tr><th scope=row>4</th><td>4.193250e-06</td><td>0.00000000</td><td>HH</td><td>Hypoxia</td><td>Hypoxia</td></tr>\n",
       "\t<tr><th scope=row>5</th><td>4.452677e-06</td><td>0.00000000</td><td>HH</td><td>Hypoxia</td><td>Hypoxia</td></tr>\n",
       "\t<tr><th scope=row>6</th><td>5.126654e-06</td><td>0.00000000</td><td>HH</td><td>Hypoxia</td><td>Hypoxia</td></tr>\n",
       "</tbody>\n",
       "</table>\n"
      ],
      "text/latex": [
       "A data.frame: 6 × 5\n",
       "\\begin{tabular}{r|lllll}\n",
       "  & cpg\\_scaled.pos & avg\\_methylation & treatment & phase1 & phase2\\\\\n",
       "  & <dbl> & <dbl> & <chr> & <chr> & <chr>\\\\\n",
       "\\hline\n",
       "\t1 & 0.000000e+00 & 0.09305211 & HH & Hypoxia & Hypoxia\\\\\n",
       "\t2 & 2.565866e-06 & 0.00000000 & HH & Hypoxia & Hypoxia\\\\\n",
       "\t3 & 2.692471e-06 & 0.00000000 & HH & Hypoxia & Hypoxia\\\\\n",
       "\t4 & 4.193250e-06 & 0.00000000 & HH & Hypoxia & Hypoxia\\\\\n",
       "\t5 & 4.452677e-06 & 0.00000000 & HH & Hypoxia & Hypoxia\\\\\n",
       "\t6 & 5.126654e-06 & 0.00000000 & HH & Hypoxia & Hypoxia\\\\\n",
       "\\end{tabular}\n"
      ],
      "text/markdown": [
       "\n",
       "A data.frame: 6 × 5\n",
       "\n",
       "| <!--/--> | cpg_scaled.pos &lt;dbl&gt; | avg_methylation &lt;dbl&gt; | treatment &lt;chr&gt; | phase1 &lt;chr&gt; | phase2 &lt;chr&gt; |\n",
       "|---|---|---|---|---|---|\n",
       "| 1 | 0.000000e+00 | 0.09305211 | HH | Hypoxia | Hypoxia |\n",
       "| 2 | 2.565866e-06 | 0.00000000 | HH | Hypoxia | Hypoxia |\n",
       "| 3 | 2.692471e-06 | 0.00000000 | HH | Hypoxia | Hypoxia |\n",
       "| 4 | 4.193250e-06 | 0.00000000 | HH | Hypoxia | Hypoxia |\n",
       "| 5 | 4.452677e-06 | 0.00000000 | HH | Hypoxia | Hypoxia |\n",
       "| 6 | 5.126654e-06 | 0.00000000 | HH | Hypoxia | Hypoxia |\n",
       "\n"
      ],
      "text/plain": [
       "  cpg_scaled.pos avg_methylation treatment phase1  phase2 \n",
       "1 0.000000e+00   0.09305211      HH        Hypoxia Hypoxia\n",
       "2 2.565866e-06   0.00000000      HH        Hypoxia Hypoxia\n",
       "3 2.692471e-06   0.00000000      HH        Hypoxia Hypoxia\n",
       "4 4.193250e-06   0.00000000      HH        Hypoxia Hypoxia\n",
       "5 4.452677e-06   0.00000000      HH        Hypoxia Hypoxia\n",
       "6 5.126654e-06   0.00000000      HH        Hypoxia Hypoxia"
      ]
     },
     "metadata": {},
     "output_type": "display_data"
    }
   ],
   "source": [
    "mega_df <- read.csv('/project/pi_sarah_gignouxwolfsohn_uml_edu/julia/genomic_feature_tracks/twl_sideQuest/metaplot_cpgGene.csv')\n",
    "head(mega_df)"
   ]
  },
  {
   "cell_type": "code",
   "execution_count": 4,
   "id": "e4ce7ac0-3a6a-4e7b-a800-54646d6981aa",
   "metadata": {},
   "outputs": [
    {
     "name": "stderr",
     "output_type": "stream",
     "text": [
      "\u001b[1m\u001b[22m`geom_smooth()` using method = 'gam' and formula = 'y ~ s(x, bs = \"cs\")'\n"
     ]
    },
    {
     "data": {
      "image/png": "[encoded data removed]",
      "text/plain": [
       "plot without title"
      ]
     },
     "metadata": {
      "image/png": {
       "height": 420,
       "width": 420
      }
     },
     "output_type": "display_data"
    }
   ],
   "source": [
    "# Make the metaplot\n",
    "ggplot(mega_df, aes(x = cpg_scaled.pos, y = avg_methylation, col = treatment)) +\n",
    "  geom_smooth() +\n",
    "  labs(x = \"Position across gene\", y = \"Average methylation level\") +\n",
    "  theme_bw()"
   ]
  },
  {
   "cell_type": "markdown",
   "id": "1ae9746d-b924-4060-961f-05f7886f82ac",
   "metadata": {},
   "source": [
    "want to show more noise..."
   ]
  },
  {
   "cell_type": "code",
   "execution_count": null,
   "id": "3817a9ab-5568-4406-ab05-190cac63a279",
   "metadata": {},
   "outputs": [
    {
     "name": "stderr",
     "output_type": "stream",
     "text": [
      "\u001b[1m\u001b[22m`geom_smooth()` using formula = 'y ~ x'\n"
     ]
    }
   ],
   "source": [
    "ggplot(mega_df, aes(x = cpg_scaled.pos, y = avg_methylation, col = treatment)) +\n",
    "  geom_smooth(se = FALSE, method = \"loess\", span = 0.1) +\n",
    "  labs(x = \"Position across gene\", y = \"Average methylation level\") +\n",
    "  theme_bw()"
   ]
  },
  {
   "cell_type": "code",
   "execution_count": null,
   "id": "16f34c30-07e5-417a-9701-a2ca55ebefef",
   "metadata": {},
   "outputs": [],
   "source": [
    "ggplot(mega_df, aes(x = cpg_scaled.pos, y = avg_methylation, col = treatment)) +\n",
    "  geom_line(size = 0.5) +\n",
    "  labs(x = \"Position across gene\", y = \"Average methylation level\") +\n",
    "  theme_bw()"
   ]
  }
 ],
 "metadata": {
  "kernelspec": {
   "display_name": "R [conda env:.conda-r-env]",
   "language": "R",
   "name": "conda-env-.conda-r-env-r"
  },
  "language_info": {
   "codemirror_mode": "r",
   "file_extension": ".r",
   "mimetype": "text/x-r-source",
   "name": "R",
   "pygments_lexer": "r",
   "version": "4.3.2"
  }
 },
 "nbformat": 4,
 "nbformat_minor": 5
}
