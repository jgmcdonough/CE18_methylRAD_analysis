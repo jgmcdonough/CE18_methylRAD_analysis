{
 "cells": [
  {
   "cell_type": "markdown",
   "id": "5af8febd-852a-4031-9507-510dadf90d39",
   "metadata": {},
   "source": [
    "## Given phase 2, what is the effect of phase 1?\n",
    "## phase 2 = control, **looking at phase 1 hypoxic vs. control**\n",
    "\n",
    "GO analysis and GSEA with KEGG"
   ]
  },
  {
   "cell_type": "code",
   "execution_count": 2,
   "id": "a7a46278-58b4-44ff-8610-a955802c2ec1",
   "metadata": {},
   "outputs": [
    {
     "name": "stderr",
     "output_type": "stream",
     "text": [
      "\n",
      "\n",
      "clusterProfiler v4.10.0  For help: https://yulab-smu.top/biomedical-knowledge-mining-book/\n",
      "\n",
      "If you use clusterProfiler in published research, please cite:\n",
      "T Wu, E Hu, S Xu, M Chen, P Guo, Z Dai, T Feng, L Zhou, W Tang, L Zhan, X Fu, S Liu, X Bo, and G Yu. clusterProfiler 4.0: A universal enrichment tool for interpreting omics data. The Innovation. 2021, 2(3):100141\n",
      "\n",
      "\n",
      "Attaching package: ‘clusterProfiler’\n",
      "\n",
      "\n",
      "The following object is masked from ‘package:stats’:\n",
      "\n",
      "    filter\n",
      "\n",
      "\n",
      "Loading required package: BiocGenerics\n",
      "\n",
      "\n",
      "Attaching package: ‘BiocGenerics’\n",
      "\n",
      "\n",
      "The following objects are masked from ‘package:stats’:\n",
      "\n",
      "    IQR, mad, sd, var, xtabs\n",
      "\n",
      "\n",
      "The following objects are masked from ‘package:base’:\n",
      "\n",
      "    anyDuplicated, aperm, append, as.data.frame, basename, cbind,\n",
      "    colnames, dirname, do.call, duplicated, eval, evalq, Filter, Find,\n",
      "    get, grep, grepl, intersect, is.unsorted, lapply, Map, mapply,\n",
      "    match, mget, order, paste, pmax, pmax.int, pmin, pmin.int,\n",
      "    Position, rank, rbind, Reduce, rownames, sapply, setdiff, sort,\n",
      "    table, tapply, union, unique, unsplit, which.max, which.min\n",
      "\n",
      "\n",
      "Loading required package: graph\n",
      "\n",
      "Loading required package: Biobase\n",
      "\n",
      "Welcome to Bioconductor\n",
      "\n",
      "    Vignettes contain introductory material; view with\n",
      "    'browseVignettes()'. To cite Bioconductor, see\n",
      "    'citation(\"Biobase\")', and for packages 'citation(\"pkgname\")'.\n",
      "\n",
      "\n",
      "Loading required package: GO.db\n",
      "\n",
      "Loading required package: AnnotationDbi\n",
      "\n",
      "Loading required package: stats4\n",
      "\n",
      "Loading required package: IRanges\n",
      "\n",
      "Loading required package: S4Vectors\n",
      "\n",
      "\n",
      "Attaching package: ‘S4Vectors’\n",
      "\n",
      "\n",
      "The following object is masked from ‘package:clusterProfiler’:\n",
      "\n",
      "    rename\n",
      "\n",
      "\n",
      "The following object is masked from ‘package:utils’:\n",
      "\n",
      "    findMatches\n",
      "\n",
      "\n",
      "The following objects are masked from ‘package:base’:\n",
      "\n",
      "    expand.grid, I, unname\n",
      "\n",
      "\n",
      "\n",
      "Attaching package: ‘IRanges’\n",
      "\n",
      "\n",
      "The following object is masked from ‘package:clusterProfiler’:\n",
      "\n",
      "    slice\n",
      "\n",
      "\n",
      "\n",
      "Attaching package: ‘AnnotationDbi’\n",
      "\n",
      "\n",
      "The following object is masked from ‘package:clusterProfiler’:\n",
      "\n",
      "    select\n",
      "\n",
      "\n",
      "Loading required package: SparseM\n",
      "\n",
      "\n",
      "Attaching package: ‘SparseM’\n",
      "\n",
      "\n",
      "The following object is masked from ‘package:base’:\n",
      "\n",
      "    backsolve\n",
      "\n",
      "\n",
      "\n",
      "groupGOTerms: \tGOBPTerm, GOMFTerm, GOCCTerm environments built.\n",
      "\n",
      "\n",
      "Attaching package: ‘topGO’\n",
      "\n",
      "\n",
      "The following object is masked from ‘package:IRanges’:\n",
      "\n",
      "    members\n",
      "\n",
      "\n",
      "\n",
      "Attaching package: ‘dplyr’\n",
      "\n",
      "\n",
      "The following object is masked from ‘package:AnnotationDbi’:\n",
      "\n",
      "    select\n",
      "\n",
      "\n",
      "The following objects are masked from ‘package:IRanges’:\n",
      "\n",
      "    collapse, desc, intersect, setdiff, slice, union\n",
      "\n",
      "\n",
      "The following objects are masked from ‘package:S4Vectors’:\n",
      "\n",
      "    first, intersect, rename, setdiff, setequal, union\n",
      "\n",
      "\n",
      "The following object is masked from ‘package:Biobase’:\n",
      "\n",
      "    combine\n",
      "\n",
      "\n",
      "The following object is masked from ‘package:graph’:\n",
      "\n",
      "    union\n",
      "\n",
      "\n",
      "The following objects are masked from ‘package:BiocGenerics’:\n",
      "\n",
      "    combine, intersect, setdiff, union\n",
      "\n",
      "\n",
      "The following objects are masked from ‘package:stats’:\n",
      "\n",
      "    filter, lag\n",
      "\n",
      "\n",
      "The following objects are masked from ‘package:base’:\n",
      "\n",
      "    intersect, setdiff, setequal, union\n",
      "\n",
      "\n"
     ]
    }
   ],
   "source": [
    "# loading packages\n",
    "library(clusterProfiler)\n",
    "library(topGO)\n",
    "library(dplyr)\n",
    "library(KEGGREST)\n",
    "library(ggplot2)"
   ]
  },
  {
   "cell_type": "markdown",
   "id": "a9031836-0b4a-4706-84df-3404160c4e07",
   "metadata": {},
   "source": [
    "What we need for GO analysis:\n",
    "- list of DMGs with pvalues (feel like this should be log2FoldChange)"
   ]
  },
  {
   "cell_type": "code",
   "execution_count": 3,
   "id": "879091c9-68bc-4f1c-a367-d846297bd032",
   "metadata": {},
   "outputs": [
    {
     "data": {
      "text/html": [
       "<table class=\"dataframe\">\n",
       "<caption>A data.frame: 6 × 4</caption>\n",
       "<thead>\n",
       "\t<tr><th></th><th scope=col>gene</th><th scope=col>l2fc</th><th scope=col>pval</th><th scope=col>padj</th></tr>\n",
       "\t<tr><th></th><th scope=col>&lt;chr&gt;</th><th scope=col>&lt;dbl&gt;</th><th scope=col>&lt;dbl&gt;</th><th scope=col>&lt;dbl&gt;</th></tr>\n",
       "</thead>\n",
       "<tbody>\n",
       "\t<tr><th scope=row>1</th><td>LOC111099424</td><td> 2.345118</td><td>2.000648e-05</td><td>0.012218955</td></tr>\n",
       "\t<tr><th scope=row>2</th><td>LOC111099567</td><td>-1.827096</td><td>5.963168e-05</td><td>0.021852028</td></tr>\n",
       "\t<tr><th scope=row>3</th><td>LOC111100699</td><td> 4.063722</td><td>9.445732e-05</td><td>0.026313561</td></tr>\n",
       "\t<tr><th scope=row>4</th><td>LOC111101020</td><td> 1.605386</td><td>5.629173e-05</td><td>0.021852028</td></tr>\n",
       "\t<tr><th scope=row>5</th><td>LOC111101925</td><td>-2.272699</td><td>2.362005e-04</td><td>0.041511110</td></tr>\n",
       "\t<tr><th scope=row>6</th><td>LOC111103792</td><td>-2.021323</td><td>4.870634e-06</td><td>0.005099554</td></tr>\n",
       "</tbody>\n",
       "</table>\n"
      ],
      "text/latex": [
       "A data.frame: 6 × 4\n",
       "\\begin{tabular}{r|llll}\n",
       "  & gene & l2fc & pval & padj\\\\\n",
       "  & <chr> & <dbl> & <dbl> & <dbl>\\\\\n",
       "\\hline\n",
       "\t1 & LOC111099424 &  2.345118 & 2.000648e-05 & 0.012218955\\\\\n",
       "\t2 & LOC111099567 & -1.827096 & 5.963168e-05 & 0.021852028\\\\\n",
       "\t3 & LOC111100699 &  4.063722 & 9.445732e-05 & 0.026313561\\\\\n",
       "\t4 & LOC111101020 &  1.605386 & 5.629173e-05 & 0.021852028\\\\\n",
       "\t5 & LOC111101925 & -2.272699 & 2.362005e-04 & 0.041511110\\\\\n",
       "\t6 & LOC111103792 & -2.021323 & 4.870634e-06 & 0.005099554\\\\\n",
       "\\end{tabular}\n"
      ],
      "text/markdown": [
       "\n",
       "A data.frame: 6 × 4\n",
       "\n",
       "| <!--/--> | gene &lt;chr&gt; | l2fc &lt;dbl&gt; | pval &lt;dbl&gt; | padj &lt;dbl&gt; |\n",
       "|---|---|---|---|---|\n",
       "| 1 | LOC111099424 |  2.345118 | 2.000648e-05 | 0.012218955 |\n",
       "| 2 | LOC111099567 | -1.827096 | 5.963168e-05 | 0.021852028 |\n",
       "| 3 | LOC111100699 |  4.063722 | 9.445732e-05 | 0.026313561 |\n",
       "| 4 | LOC111101020 |  1.605386 | 5.629173e-05 | 0.021852028 |\n",
       "| 5 | LOC111101925 | -2.272699 | 2.362005e-04 | 0.041511110 |\n",
       "| 6 | LOC111103792 | -2.021323 | 4.870634e-06 | 0.005099554 |\n",
       "\n"
      ],
      "text/plain": [
       "  gene         l2fc      pval         padj       \n",
       "1 LOC111099424  2.345118 2.000648e-05 0.012218955\n",
       "2 LOC111099567 -1.827096 5.963168e-05 0.021852028\n",
       "3 LOC111100699  4.063722 9.445732e-05 0.026313561\n",
       "4 LOC111101020  1.605386 5.629173e-05 0.021852028\n",
       "5 LOC111101925 -2.272699 2.362005e-04 0.041511110\n",
       "6 LOC111103792 -2.021323 4.870634e-06 0.005099554"
      ]
     },
     "metadata": {},
     "output_type": "display_data"
    }
   ],
   "source": [
    "# load significant genes df for both vs. control for phase 2\n",
    "data <- read.csv('/project/pi_sarah_gignouxwolfsohn_uml_edu/julia/CE_MethylRAD_analysis_2018/analysis/significant_genes/sig_p2c_p1hc_genes.csv')\n",
    "\n",
    "# select needed columns (really might only need l2fc\n",
    "data2 <- select(data, Row.names, log2FoldChange, pvalue, padj)\n",
    "\n",
    "# renaming columns so they make more sense\n",
    "colnames(data2) = c('gene', 'l2fc', 'pval', 'padj')\n",
    "head(data2)"
   ]
  },
  {
   "cell_type": "code",
   "execution_count": 4,
   "id": "0229eb73-63fa-4c14-9abf-54a0a965bd9c",
   "metadata": {},
   "outputs": [
    {
     "data": {
      "text/html": [
       "<style>\n",
       ".dl-inline {width: auto; margin:0; padding: 0}\n",
       ".dl-inline>dt, .dl-inline>dd {float: none; width: auto; display: inline-block}\n",
       ".dl-inline>dt::after {content: \":\\0020\"; padding-right: .5ex}\n",
       ".dl-inline>dt:not(:first-of-type) {padding-left: .5ex}\n",
       "</style><dl class=dl-inline><dt>LOC111099424</dt><dd>2.34511828439531</dd><dt>LOC111099567</dt><dd>-1.82709580915252</dd><dt>LOC111100699</dt><dd>4.06372182764901</dd><dt>LOC111101020</dt><dd>1.6053861939376</dd><dt>LOC111101925</dt><dd>-2.27269879869901</dd><dt>LOC111103792</dt><dd>-2.02132271102025</dd></dl>\n"
      ],
      "text/latex": [
       "\\begin{description*}\n",
       "\\item[LOC111099424] 2.34511828439531\n",
       "\\item[LOC111099567] -1.82709580915252\n",
       "\\item[LOC111100699] 4.06372182764901\n",
       "\\item[LOC111101020] 1.6053861939376\n",
       "\\item[LOC111101925] -2.27269879869901\n",
       "\\item[LOC111103792] -2.02132271102025\n",
       "\\end{description*}\n"
      ],
      "text/markdown": [
       "LOC111099424\n",
       ":   2.34511828439531LOC111099567\n",
       ":   -1.82709580915252LOC111100699\n",
       ":   4.06372182764901LOC111101020\n",
       ":   1.6053861939376LOC111101925\n",
       ":   -2.27269879869901LOC111103792\n",
       ":   -2.02132271102025\n",
       "\n"
      ],
      "text/plain": [
       "LOC111099424 LOC111099567 LOC111100699 LOC111101020 LOC111101925 LOC111103792 \n",
       "    2.345118    -1.827096     4.063722     1.605386    -2.272699    -2.021323 "
      ]
     },
     "metadata": {},
     "output_type": "display_data"
    },
    {
     "data": {
      "text/html": [
       "'numeric'"
      ],
      "text/latex": [
       "'numeric'"
      ],
      "text/markdown": [
       "'numeric'"
      ],
      "text/plain": [
       "[1] \"numeric\""
      ]
     },
     "metadata": {},
     "output_type": "display_data"
    }
   ],
   "source": [
    "# creating numeric vector of gene names and log2FoldChange value\n",
    "geneList <- data2$l2fc\n",
    "names(geneList) <- data2$gene\n",
    "\n",
    "# double checking things look right\n",
    "head(geneList)\n",
    "class(geneList) # numeric, used in allGenes for topGO object"
   ]
  },
  {
   "cell_type": "code",
   "execution_count": 5,
   "id": "71c65c18-0ba6-4239-944a-bc8828ae699d",
   "metadata": {},
   "outputs": [
    {
     "data": {
      "text/html": [
       "<table class=\"dataframe\">\n",
       "<caption>A data.frame: 6 × 2</caption>\n",
       "<thead>\n",
       "\t<tr><th></th><th scope=col>gene</th><th scope=col>GO_id</th></tr>\n",
       "\t<tr><th></th><th scope=col>&lt;chr&gt;</th><th scope=col>&lt;chr&gt;</th></tr>\n",
       "</thead>\n",
       "<tbody>\n",
       "\t<tr><th scope=row>1</th><td>LOC111133408</td><td>GO:2001070           </td></tr>\n",
       "\t<tr><th scope=row>2</th><td>LOC111121603</td><td>GO:2000781,GO:2000781</td></tr>\n",
       "\t<tr><th scope=row>3</th><td>LOC111132389</td><td>GO:2000145           </td></tr>\n",
       "\t<tr><th scope=row>4</th><td>LOC111115105</td><td>GO:1990904,GO:1990904</td></tr>\n",
       "\t<tr><th scope=row>5</th><td>LOC111129853</td><td>GO:1990904,GO:1990904</td></tr>\n",
       "\t<tr><th scope=row>6</th><td>LOC111101512</td><td>GO:1990904           </td></tr>\n",
       "</tbody>\n",
       "</table>\n"
      ],
      "text/latex": [
       "A data.frame: 6 × 2\n",
       "\\begin{tabular}{r|ll}\n",
       "  & gene & GO\\_id\\\\\n",
       "  & <chr> & <chr>\\\\\n",
       "\\hline\n",
       "\t1 & LOC111133408 & GO:2001070           \\\\\n",
       "\t2 & LOC111121603 & GO:2000781,GO:2000781\\\\\n",
       "\t3 & LOC111132389 & GO:2000145           \\\\\n",
       "\t4 & LOC111115105 & GO:1990904,GO:1990904\\\\\n",
       "\t5 & LOC111129853 & GO:1990904,GO:1990904\\\\\n",
       "\t6 & LOC111101512 & GO:1990904           \\\\\n",
       "\\end{tabular}\n"
      ],
      "text/markdown": [
       "\n",
       "A data.frame: 6 × 2\n",
       "\n",
       "| <!--/--> | gene &lt;chr&gt; | GO_id &lt;chr&gt; |\n",
       "|---|---|---|\n",
       "| 1 | LOC111133408 | GO:2001070            |\n",
       "| 2 | LOC111121603 | GO:2000781,GO:2000781 |\n",
       "| 3 | LOC111132389 | GO:2000145            |\n",
       "| 4 | LOC111115105 | GO:1990904,GO:1990904 |\n",
       "| 5 | LOC111129853 | GO:1990904,GO:1990904 |\n",
       "| 6 | LOC111101512 | GO:1990904            |\n",
       "\n"
      ],
      "text/plain": [
       "  gene         GO_id                \n",
       "1 LOC111133408 GO:2001070           \n",
       "2 LOC111121603 GO:2000781,GO:2000781\n",
       "3 LOC111132389 GO:2000145           \n",
       "4 LOC111115105 GO:1990904,GO:1990904\n",
       "5 LOC111129853 GO:1990904,GO:1990904\n",
       "6 LOC111101512 GO:1990904           "
      ]
     },
     "metadata": {},
     "output_type": "display_data"
    },
    {
     "data": {
      "text/html": [
       "<style>\n",
       ".list-inline {list-style: none; margin:0; padding: 0}\n",
       ".list-inline>li {display: inline-block}\n",
       ".list-inline>li:not(:last-child)::after {content: \"\\00b7\"; padding: 0 .5ex}\n",
       "</style>\n",
       "<ol class=list-inline><li>22654</li><li>2</li></ol>\n"
      ],
      "text/latex": [
       "\\begin{enumerate*}\n",
       "\\item 22654\n",
       "\\item 2\n",
       "\\end{enumerate*}\n"
      ],
      "text/markdown": [
       "1. 22654\n",
       "2. 2\n",
       "\n",
       "\n"
      ],
      "text/plain": [
       "[1] 22654     2"
      ]
     },
     "metadata": {},
     "output_type": "display_data"
    }
   ],
   "source": [
    "# loading conversion df of unique genes with associated GO ids\n",
    "geneID2GO <- read.csv('/project/pi_sarah_gignouxwolfsohn_uml_edu/julia/CE_MethylRAD_analysis_2018/analysis/GO_enrichment_analysis/geneID2GO.txt', sep='\\t')\n",
    "\n",
    "# renaming columns\n",
    "colnames(geneID2GO) = c('gene','GO_id')\n",
    "\n",
    "# checking things make sense\n",
    "head(geneID2GO)\n",
    "dim(geneID2GO) # have 22,654 unique genes that have GO annotations"
   ]
  },
  {
   "cell_type": "code",
   "execution_count": 6,
   "id": "5dc0c062-31d4-473e-9e51-6404e86e5f26",
   "metadata": {},
   "outputs": [
    {
     "data": {
      "text/html": [
       "<dl>\n",
       "\t<dt>$LOC111133408</dt>\n",
       "\t\t<dd>'GO:2001070'</dd>\n",
       "\t<dt>$LOC111121603</dt>\n",
       "\t\t<dd><style>\n",
       ".list-inline {list-style: none; margin:0; padding: 0}\n",
       ".list-inline>li {display: inline-block}\n",
       ".list-inline>li:not(:last-child)::after {content: \"\\00b7\"; padding: 0 .5ex}\n",
       "</style>\n",
       "<ol class=list-inline><li>'GO:2000781'</li><li>'GO:2000781'</li></ol>\n",
       "</dd>\n",
       "\t<dt>$LOC111132389</dt>\n",
       "\t\t<dd>'GO:2000145'</dd>\n",
       "\t<dt>$LOC111115105</dt>\n",
       "\t\t<dd><style>\n",
       ".list-inline {list-style: none; margin:0; padding: 0}\n",
       ".list-inline>li {display: inline-block}\n",
       ".list-inline>li:not(:last-child)::after {content: \"\\00b7\"; padding: 0 .5ex}\n",
       "</style>\n",
       "<ol class=list-inline><li>'GO:1990904'</li><li>'GO:1990904'</li></ol>\n",
       "</dd>\n",
       "\t<dt>$LOC111129853</dt>\n",
       "\t\t<dd><style>\n",
       ".list-inline {list-style: none; margin:0; padding: 0}\n",
       ".list-inline>li {display: inline-block}\n",
       ".list-inline>li:not(:last-child)::after {content: \"\\00b7\"; padding: 0 .5ex}\n",
       "</style>\n",
       "<ol class=list-inline><li>'GO:1990904'</li><li>'GO:1990904'</li></ol>\n",
       "</dd>\n",
       "\t<dt>$LOC111101512</dt>\n",
       "\t\t<dd>'GO:1990904'</dd>\n",
       "</dl>\n"
      ],
      "text/latex": [
       "\\begin{description}\n",
       "\\item[\\$LOC111133408] 'GO:2001070'\n",
       "\\item[\\$LOC111121603] \\begin{enumerate*}\n",
       "\\item 'GO:2000781'\n",
       "\\item 'GO:2000781'\n",
       "\\end{enumerate*}\n",
       "\n",
       "\\item[\\$LOC111132389] 'GO:2000145'\n",
       "\\item[\\$LOC111115105] \\begin{enumerate*}\n",
       "\\item 'GO:1990904'\n",
       "\\item 'GO:1990904'\n",
       "\\end{enumerate*}\n",
       "\n",
       "\\item[\\$LOC111129853] \\begin{enumerate*}\n",
       "\\item 'GO:1990904'\n",
       "\\item 'GO:1990904'\n",
       "\\end{enumerate*}\n",
       "\n",
       "\\item[\\$LOC111101512] 'GO:1990904'\n",
       "\\end{description}\n"
      ],
      "text/markdown": [
       "$LOC111133408\n",
       ":   'GO:2001070'\n",
       "$LOC111121603\n",
       ":   1. 'GO:2000781'\n",
       "2. 'GO:2000781'\n",
       "\n",
       "\n",
       "\n",
       "$LOC111132389\n",
       ":   'GO:2000145'\n",
       "$LOC111115105\n",
       ":   1. 'GO:1990904'\n",
       "2. 'GO:1990904'\n",
       "\n",
       "\n",
       "\n",
       "$LOC111129853\n",
       ":   1. 'GO:1990904'\n",
       "2. 'GO:1990904'\n",
       "\n",
       "\n",
       "\n",
       "$LOC111101512\n",
       ":   'GO:1990904'\n",
       "\n",
       "\n"
      ],
      "text/plain": [
       "$LOC111133408\n",
       "[1] \"GO:2001070\"\n",
       "\n",
       "$LOC111121603\n",
       "[1] \"GO:2000781\" \"GO:2000781\"\n",
       "\n",
       "$LOC111132389\n",
       "[1] \"GO:2000145\"\n",
       "\n",
       "$LOC111115105\n",
       "[1] \"GO:1990904\" \"GO:1990904\"\n",
       "\n",
       "$LOC111129853\n",
       "[1] \"GO:1990904\" \"GO:1990904\"\n",
       "\n",
       "$LOC111101512\n",
       "[1] \"GO:1990904\"\n"
      ]
     },
     "metadata": {},
     "output_type": "display_data"
    }
   ],
   "source": [
    "# have to create annotation file\n",
    "geneID2GO <- readMappings(file = '/project/pi_sarah_gignouxwolfsohn_uml_edu/julia/CE_MethylRAD_analysis_2018/analysis/GO_enrichment_analysis/geneID2GO.txt')\n",
    "geneID2GO <- geneID2GO[-1] # removes header\n",
    "head(geneID2GO)"
   ]
  },
  {
   "cell_type": "code",
   "execution_count": 7,
   "id": "fb57f455-0649-4e55-9ba1-0bc2c5dc4f94",
   "metadata": {},
   "outputs": [
    {
     "data": {
      "text/html": [
       "<style>\n",
       ".list-inline {list-style: none; margin:0; padding: 0}\n",
       ".list-inline>li {display: inline-block}\n",
       ".list-inline>li:not(:last-child)::after {content: \"\\00b7\"; padding: 0 .5ex}\n",
       "</style>\n",
       "<ol class=list-inline><li>'LOC111133408'</li><li>'LOC111121603'</li><li>'LOC111132389'</li><li>'LOC111115105'</li><li>'LOC111129853'</li><li>'LOC111101512'</li></ol>\n"
      ],
      "text/latex": [
       "\\begin{enumerate*}\n",
       "\\item 'LOC111133408'\n",
       "\\item 'LOC111121603'\n",
       "\\item 'LOC111132389'\n",
       "\\item 'LOC111115105'\n",
       "\\item 'LOC111129853'\n",
       "\\item 'LOC111101512'\n",
       "\\end{enumerate*}\n"
      ],
      "text/markdown": [
       "1. 'LOC111133408'\n",
       "2. 'LOC111121603'\n",
       "3. 'LOC111132389'\n",
       "4. 'LOC111115105'\n",
       "5. 'LOC111129853'\n",
       "6. 'LOC111101512'\n",
       "\n",
       "\n"
      ],
      "text/plain": [
       "[1] \"LOC111133408\" \"LOC111121603\" \"LOC111132389\" \"LOC111115105\" \"LOC111129853\"\n",
       "[6] \"LOC111101512\""
      ]
     },
     "metadata": {},
     "output_type": "display_data"
    }
   ],
   "source": [
    "geneNames <- names(geneID2GO)\n",
    "head(geneNames)"
   ]
  },
  {
   "cell_type": "code",
   "execution_count": 8,
   "id": "ad03c833-3f44-41e3-a9cc-cfb69d658165",
   "metadata": {},
   "outputs": [
    {
     "data": {
      "text/html": [
       "31"
      ],
      "text/latex": [
       "31"
      ],
      "text/markdown": [
       "31"
      ],
      "text/plain": [
       "[1] 31"
      ]
     },
     "metadata": {},
     "output_type": "display_data"
    }
   ],
   "source": [
    "topDiffGenes <- function(allScore) {\n",
    "    return(allScore < 0.01)\n",
    "}\n",
    "\n",
    "x <- topDiffGenes(geneList)\n",
    "sum(x) ## the number of selected genes"
   ]
  },
  {
   "cell_type": "markdown",
   "id": "7693105e-8172-48d7-986d-c8b1d4492e6f",
   "metadata": {},
   "source": [
    "#### GO analysis: molecular function"
   ]
  },
  {
   "cell_type": "code",
   "execution_count": 14,
   "id": "538e38dd-dfd0-45e3-bf5e-5ac8eb4e9b46",
   "metadata": {},
   "outputs": [
    {
     "name": "stderr",
     "output_type": "stream",
     "text": [
      "\n",
      "Building most specific GOs .....\n",
      "\n",
      "\t( 21 GO terms found. )\n",
      "\n",
      "\n",
      "Build GO DAG topology ..........\n",
      "\n",
      "\t( 78 GO terms and 91 relations. )\n",
      "\n",
      "\n",
      "Annotating nodes ...............\n",
      "\n",
      "\t( 20 genes annotated to the GO terms. )\n",
      "\n"
     ]
    },
    {
     "data": {
      "text/plain": [
       "\n",
       "------------------------- topGOdata object -------------------------\n",
       "\n",
       " Description:\n",
       "   -  DMGs in phase 1 hypoxic vs. control, phase 2 control \n",
       "\n",
       " Ontology:\n",
       "   -  MF \n",
       "\n",
       " 48 available genes (all genes from the array):\n",
       "   - symbol:  LOC111099424 LOC111099567 LOC111100699 LOC111101020 LOC111101925  ...\n",
       "   - score :  2.345118284 -1.827095809 4.063721828 1.605386194 -2.272698799  ...\n",
       "   - 31  significant genes. \n",
       "\n",
       " 20 feasible genes (genes that can be used in the analysis):\n",
       "   - symbol:  LOC111100699 LOC111101020 LOC111103792 LOC111105248 LOC111114112  ...\n",
       "   - score :  4.063721828 1.605386194 -2.021322711 -0.7323141969 -1.112104645  ...\n",
       "   - 10  significant genes. \n",
       "\n",
       " GO graph (nodes with at least  1  genes):\n",
       "   - a graph with directed edges\n",
       "   - number of nodes = 78 \n",
       "   - number of edges = 91 \n",
       "\n",
       "------------------------- topGOdata object -------------------------\n"
      ]
     },
     "metadata": {},
     "output_type": "display_data"
    }
   ],
   "source": [
    "# creating GO data object\n",
    "GOdata_MF <- new(\"topGOdata\", \n",
    "              description = 'DMGs in phase 1 hypoxic vs. control, phase 2 control',\n",
    "              ontology = \"MF\", \n",
    "              allGenes = geneList,\n",
    "              geneSel = topDiffGenes,\n",
    "              annot = annFUN.gene2GO, \n",
    "              gene2GO = geneID2GO)\n",
    "GOdata_MF"
   ]
  },
  {
   "cell_type": "code",
   "execution_count": 15,
   "id": "2fa6ae4f-4d6d-4117-b765-47473804eda0",
   "metadata": {},
   "outputs": [
    {
     "name": "stderr",
     "output_type": "stream",
     "text": [
      "\n",
      "\t\t\t -- Weight01 Algorithm -- \n",
      "\n",
      "\t\t the algorithm is scoring 78 nontrivial nodes\n",
      "\t\t parameters: \n",
      "\t\t\t test statistic: ks\n",
      "\t\t\t score order: increasing\n",
      "\n",
      "\n",
      "\t Level 9:\t1 nodes to be scored\t(0 eliminated genes)\n",
      "\n",
      "\n",
      "\t Level 8:\t3 nodes to be scored\t(0 eliminated genes)\n",
      "\n",
      "\n",
      "\t Level 7:\t7 nodes to be scored\t(1 eliminated genes)\n",
      "\n",
      "\n",
      "\t Level 6:\t13 nodes to be scored\t(2 eliminated genes)\n",
      "\n",
      "\n",
      "\t Level 5:\t15 nodes to be scored\t(7 eliminated genes)\n",
      "\n",
      "\n",
      "\t Level 4:\t18 nodes to be scored\t(11 eliminated genes)\n",
      "\n",
      "\n",
      "\t Level 3:\t15 nodes to be scored\t(18 eliminated genes)\n",
      "\n",
      "\n",
      "\t Level 2:\t5 nodes to be scored\t(20 eliminated genes)\n",
      "\n",
      "\n",
      "\t Level 1:\t1 nodes to be scored\t(20 eliminated genes)\n",
      "\n"
     ]
    },
    {
     "data": {
      "text/html": [
       "<table class=\"dataframe\">\n",
       "<caption>A data.frame: 10 × 6</caption>\n",
       "<thead>\n",
       "\t<tr><th></th><th scope=col>GO.ID</th><th scope=col>Term</th><th scope=col>Annotated</th><th scope=col>Significant</th><th scope=col>Expected</th><th scope=col>raw.p.value</th></tr>\n",
       "\t<tr><th></th><th scope=col>&lt;chr&gt;</th><th scope=col>&lt;chr&gt;</th><th scope=col>&lt;int&gt;</th><th scope=col>&lt;int&gt;</th><th scope=col>&lt;dbl&gt;</th><th scope=col>&lt;chr&gt;</th></tr>\n",
       "</thead>\n",
       "<tbody>\n",
       "\t<tr><th scope=row>1</th><td>GO:0005509</td><td>calcium ion binding                                                  </td><td>1</td><td>1</td><td>0.5</td><td>0.050</td></tr>\n",
       "\t<tr><th scope=row>2</th><td>GO:0005544</td><td>calcium-dependent phospholipid binding                               </td><td>1</td><td>1</td><td>0.5</td><td>0.050</td></tr>\n",
       "\t<tr><th scope=row>3</th><td>GO:0003677</td><td>DNA binding                                                          </td><td>4</td><td>3</td><td>2.0</td><td>0.058</td></tr>\n",
       "\t<tr><th scope=row>4</th><td>GO:0008270</td><td>zinc ion binding                                                     </td><td>3</td><td>2</td><td>1.5</td><td>0.103</td></tr>\n",
       "\t<tr><th scope=row>5</th><td>GO:0000981</td><td>DNA-binding transcription factor activity, RNA polymerase II-specific</td><td>1</td><td>1</td><td>0.5</td><td>0.250</td></tr>\n",
       "\t<tr><th scope=row>6</th><td>GO:0004725</td><td>protein tyrosine phosphatase activity                                </td><td>1</td><td>1</td><td>0.5</td><td>0.300</td></tr>\n",
       "\t<tr><th scope=row>7</th><td>GO:0004842</td><td>ubiquitin-protein transferase activity                               </td><td>1</td><td>1</td><td>0.5</td><td>0.350</td></tr>\n",
       "\t<tr><th scope=row>8</th><td>GO:0016757</td><td>glycosyltransferase activity                                         </td><td>1</td><td>1</td><td>0.5</td><td>0.450</td></tr>\n",
       "\t<tr><th scope=row>9</th><td>GO:0005085</td><td>guanyl-nucleotide exchange factor activity                           </td><td>1</td><td>1</td><td>0.5</td><td>0.500</td></tr>\n",
       "\t<tr><th scope=row>10</th><td>GO:0008061</td><td>chitin binding                                                       </td><td>1</td><td>0</td><td>0.5</td><td>0.550</td></tr>\n",
       "</tbody>\n",
       "</table>\n"
      ],
      "text/latex": [
       "A data.frame: 10 × 6\n",
       "\\begin{tabular}{r|llllll}\n",
       "  & GO.ID & Term & Annotated & Significant & Expected & raw.p.value\\\\\n",
       "  & <chr> & <chr> & <int> & <int> & <dbl> & <chr>\\\\\n",
       "\\hline\n",
       "\t1 & GO:0005509 & calcium ion binding                                                   & 1 & 1 & 0.5 & 0.050\\\\\n",
       "\t2 & GO:0005544 & calcium-dependent phospholipid binding                                & 1 & 1 & 0.5 & 0.050\\\\\n",
       "\t3 & GO:0003677 & DNA binding                                                           & 4 & 3 & 2.0 & 0.058\\\\\n",
       "\t4 & GO:0008270 & zinc ion binding                                                      & 3 & 2 & 1.5 & 0.103\\\\\n",
       "\t5 & GO:0000981 & DNA-binding transcription factor activity, RNA polymerase II-specific & 1 & 1 & 0.5 & 0.250\\\\\n",
       "\t6 & GO:0004725 & protein tyrosine phosphatase activity                                 & 1 & 1 & 0.5 & 0.300\\\\\n",
       "\t7 & GO:0004842 & ubiquitin-protein transferase activity                                & 1 & 1 & 0.5 & 0.350\\\\\n",
       "\t8 & GO:0016757 & glycosyltransferase activity                                          & 1 & 1 & 0.5 & 0.450\\\\\n",
       "\t9 & GO:0005085 & guanyl-nucleotide exchange factor activity                            & 1 & 1 & 0.5 & 0.500\\\\\n",
       "\t10 & GO:0008061 & chitin binding                                                        & 1 & 0 & 0.5 & 0.550\\\\\n",
       "\\end{tabular}\n"
      ],
      "text/markdown": [
       "\n",
       "A data.frame: 10 × 6\n",
       "\n",
       "| <!--/--> | GO.ID &lt;chr&gt; | Term &lt;chr&gt; | Annotated &lt;int&gt; | Significant &lt;int&gt; | Expected &lt;dbl&gt; | raw.p.value &lt;chr&gt; |\n",
       "|---|---|---|---|---|---|---|\n",
       "| 1 | GO:0005509 | calcium ion binding                                                   | 1 | 1 | 0.5 | 0.050 |\n",
       "| 2 | GO:0005544 | calcium-dependent phospholipid binding                                | 1 | 1 | 0.5 | 0.050 |\n",
       "| 3 | GO:0003677 | DNA binding                                                           | 4 | 3 | 2.0 | 0.058 |\n",
       "| 4 | GO:0008270 | zinc ion binding                                                      | 3 | 2 | 1.5 | 0.103 |\n",
       "| 5 | GO:0000981 | DNA-binding transcription factor activity, RNA polymerase II-specific | 1 | 1 | 0.5 | 0.250 |\n",
       "| 6 | GO:0004725 | protein tyrosine phosphatase activity                                 | 1 | 1 | 0.5 | 0.300 |\n",
       "| 7 | GO:0004842 | ubiquitin-protein transferase activity                                | 1 | 1 | 0.5 | 0.350 |\n",
       "| 8 | GO:0016757 | glycosyltransferase activity                                          | 1 | 1 | 0.5 | 0.450 |\n",
       "| 9 | GO:0005085 | guanyl-nucleotide exchange factor activity                            | 1 | 1 | 0.5 | 0.500 |\n",
       "| 10 | GO:0008061 | chitin binding                                                        | 1 | 0 | 0.5 | 0.550 |\n",
       "\n"
      ],
      "text/plain": [
       "   GO.ID     \n",
       "1  GO:0005509\n",
       "2  GO:0005544\n",
       "3  GO:0003677\n",
       "4  GO:0008270\n",
       "5  GO:0000981\n",
       "6  GO:0004725\n",
       "7  GO:0004842\n",
       "8  GO:0016757\n",
       "9  GO:0005085\n",
       "10 GO:0008061\n",
       "   Term                                                                 \n",
       "1  calcium ion binding                                                  \n",
       "2  calcium-dependent phospholipid binding                               \n",
       "3  DNA binding                                                          \n",
       "4  zinc ion binding                                                     \n",
       "5  DNA-binding transcription factor activity, RNA polymerase II-specific\n",
       "6  protein tyrosine phosphatase activity                                \n",
       "7  ubiquitin-protein transferase activity                               \n",
       "8  glycosyltransferase activity                                         \n",
       "9  guanyl-nucleotide exchange factor activity                           \n",
       "10 chitin binding                                                       \n",
       "   Annotated Significant Expected raw.p.value\n",
       "1  1         1           0.5      0.050      \n",
       "2  1         1           0.5      0.050      \n",
       "3  4         3           2.0      0.058      \n",
       "4  3         2           1.5      0.103      \n",
       "5  1         1           0.5      0.250      \n",
       "6  1         1           0.5      0.300      \n",
       "7  1         1           0.5      0.350      \n",
       "8  1         1           0.5      0.450      \n",
       "9  1         1           0.5      0.500      \n",
       "10 1         0           0.5      0.550      "
      ]
     },
     "metadata": {},
     "output_type": "display_data"
    }
   ],
   "source": [
    "# KS stat\n",
    "resultKS_MF <- runTest(GOdata_MF, algorithm = \"weight01\", statistic = \"ks\")\n",
    "\n",
    "# putting result into readable table\n",
    "tab_MF <- GenTable(GOdata_MF, raw.p.value = resultKS_MF, topNodes = length(resultKS_MF@score), numChar = 120)\n",
    "\n",
    "# showing top 10 GO term results\n",
    "head(tab_MF, 10)"
   ]
  },
  {
   "cell_type": "markdown",
   "id": "3c591098-1981-4319-9317-fedafdbde5c8",
   "metadata": {},
   "source": [
    "#### GO analysis for cellular component"
   ]
  },
  {
   "cell_type": "code",
   "execution_count": 16,
   "id": "7f59b63e-e18d-477c-87e4-8cc0ecadcf75",
   "metadata": {},
   "outputs": [
    {
     "name": "stderr",
     "output_type": "stream",
     "text": [
      "\n",
      "Building most specific GOs .....\n",
      "\n",
      "\t( 7 GO terms found. )\n",
      "\n",
      "\n",
      "Build GO DAG topology ..........\n",
      "\n",
      "\t( 22 GO terms and 32 relations. )\n",
      "\n",
      "\n",
      "Annotating nodes ...............\n",
      "\n",
      "\t( 20 genes annotated to the GO terms. )\n",
      "\n"
     ]
    },
    {
     "data": {
      "text/plain": [
       "\n",
       "------------------------- topGOdata object -------------------------\n",
       "\n",
       " Description:\n",
       "   -  DMGs in phase 1 hypoxic vs. control, phase 2 control \n",
       "\n",
       " Ontology:\n",
       "   -  CC \n",
       "\n",
       " 48 available genes (all genes from the array):\n",
       "   - symbol:  LOC111099424 LOC111099567 LOC111100699 LOC111101020 LOC111101925  ...\n",
       "   - score :  2.345118284 -1.827095809 4.063721828 1.605386194 -2.272698799  ...\n",
       "   - 31  significant genes. \n",
       "\n",
       " 20 feasible genes (genes that can be used in the analysis):\n",
       "   - symbol:  LOC111099424 LOC111099567 LOC111100699 LOC111104344 LOC111112399  ...\n",
       "   - score :  2.345118284 -1.827095809 4.063721828 -1.025377149 -1.196601508  ...\n",
       "   - 11  significant genes. \n",
       "\n",
       " GO graph (nodes with at least  1  genes):\n",
       "   - a graph with directed edges\n",
       "   - number of nodes = 22 \n",
       "   - number of edges = 32 \n",
       "\n",
       "------------------------- topGOdata object -------------------------\n"
      ]
     },
     "metadata": {},
     "output_type": "display_data"
    }
   ],
   "source": [
    "# creating GO data object\n",
    "GOdata_CC <- new(\"topGOdata\", \n",
    "              description = 'DMGs in phase 1 hypoxic vs. control, phase 2 control',\n",
    "              ontology = \"CC\", \n",
    "              allGenes = geneList,\n",
    "              geneSel = topDiffGenes,\n",
    "              annot = annFUN.gene2GO, \n",
    "              gene2GO = geneID2GO)\n",
    "GOdata_CC"
   ]
  },
  {
   "cell_type": "code",
   "execution_count": 17,
   "id": "9317cfea-2094-491d-9788-631f74870a7d",
   "metadata": {},
   "outputs": [
    {
     "name": "stderr",
     "output_type": "stream",
     "text": [
      "\n",
      "\t\t\t -- Weight01 Algorithm -- \n",
      "\n",
      "\t\t the algorithm is scoring 22 nontrivial nodes\n",
      "\t\t parameters: \n",
      "\t\t\t test statistic: ks\n",
      "\t\t\t score order: increasing\n",
      "\n",
      "\n",
      "\t Level 8:\t1 nodes to be scored\t(0 eliminated genes)\n",
      "\n",
      "\n",
      "\t Level 7:\t1 nodes to be scored\t(0 eliminated genes)\n",
      "\n",
      "\n",
      "\t Level 6:\t2 nodes to be scored\t(1 eliminated genes)\n",
      "\n",
      "\n",
      "\t Level 5:\t3 nodes to be scored\t(1 eliminated genes)\n",
      "\n",
      "\n",
      "\t Level 4:\t6 nodes to be scored\t(7 eliminated genes)\n",
      "\n",
      "\n",
      "\t Level 3:\t7 nodes to be scored\t(7 eliminated genes)\n",
      "\n",
      "\n",
      "\t Level 2:\t1 nodes to be scored\t(10 eliminated genes)\n",
      "\n",
      "\n",
      "\t Level 1:\t1 nodes to be scored\t(20 eliminated genes)\n",
      "\n"
     ]
    },
    {
     "data": {
      "text/html": [
       "<table class=\"dataframe\">\n",
       "<caption>A data.frame: 10 × 6</caption>\n",
       "<thead>\n",
       "\t<tr><th></th><th scope=col>GO.ID</th><th scope=col>Term</th><th scope=col>Annotated</th><th scope=col>Significant</th><th scope=col>Expected</th><th scope=col>raw.p.value</th></tr>\n",
       "\t<tr><th></th><th scope=col>&lt;chr&gt;</th><th scope=col>&lt;chr&gt;</th><th scope=col>&lt;int&gt;</th><th scope=col>&lt;int&gt;</th><th scope=col>&lt;dbl&gt;</th><th scope=col>&lt;chr&gt;</th></tr>\n",
       "</thead>\n",
       "<tbody>\n",
       "\t<tr><th scope=row>1</th><td>GO:0016020</td><td>membrane                          </td><td>11</td><td>7</td><td>6.05</td><td>0.12</td></tr>\n",
       "\t<tr><th scope=row>2</th><td>GO:0005634</td><td>nucleus                           </td><td> 6</td><td>4</td><td>3.30</td><td>0.29</td></tr>\n",
       "\t<tr><th scope=row>3</th><td>GO:0005576</td><td>extracellular region              </td><td> 1</td><td>0</td><td>0.55</td><td>0.60</td></tr>\n",
       "\t<tr><th scope=row>4</th><td>GO:0005886</td><td>plasma membrane                   </td><td> 1</td><td>0</td><td>0.55</td><td>0.70</td></tr>\n",
       "\t<tr><th scope=row>5</th><td>GO:0005737</td><td>cytoplasm                         </td><td> 5</td><td>2</td><td>2.75</td><td>0.76</td></tr>\n",
       "\t<tr><th scope=row>6</th><td>GO:0005730</td><td>nucleolus                         </td><td> 1</td><td>0</td><td>0.55</td><td>0.85</td></tr>\n",
       "\t<tr><th scope=row>7</th><td>GO:0005794</td><td>Golgi apparatus                   </td><td> 1</td><td>0</td><td>0.55</td><td>0.95</td></tr>\n",
       "\t<tr><th scope=row>8</th><td>GO:0005622</td><td>intracellular anatomical structure</td><td> 9</td><td>4</td><td>4.95</td><td>1.00</td></tr>\n",
       "\t<tr><th scope=row>9</th><td>GO:0070013</td><td>intracellular organelle lumen     </td><td> 1</td><td>0</td><td>0.55</td><td>1.00</td></tr>\n",
       "\t<tr><th scope=row>10</th><td>GO:0031981</td><td>nuclear lumen                     </td><td> 1</td><td>0</td><td>0.55</td><td>1.00</td></tr>\n",
       "</tbody>\n",
       "</table>\n"
      ],
      "text/latex": [
       "A data.frame: 10 × 6\n",
       "\\begin{tabular}{r|llllll}\n",
       "  & GO.ID & Term & Annotated & Significant & Expected & raw.p.value\\\\\n",
       "  & <chr> & <chr> & <int> & <int> & <dbl> & <chr>\\\\\n",
       "\\hline\n",
       "\t1 & GO:0016020 & membrane                           & 11 & 7 & 6.05 & 0.12\\\\\n",
       "\t2 & GO:0005634 & nucleus                            &  6 & 4 & 3.30 & 0.29\\\\\n",
       "\t3 & GO:0005576 & extracellular region               &  1 & 0 & 0.55 & 0.60\\\\\n",
       "\t4 & GO:0005886 & plasma membrane                    &  1 & 0 & 0.55 & 0.70\\\\\n",
       "\t5 & GO:0005737 & cytoplasm                          &  5 & 2 & 2.75 & 0.76\\\\\n",
       "\t6 & GO:0005730 & nucleolus                          &  1 & 0 & 0.55 & 0.85\\\\\n",
       "\t7 & GO:0005794 & Golgi apparatus                    &  1 & 0 & 0.55 & 0.95\\\\\n",
       "\t8 & GO:0005622 & intracellular anatomical structure &  9 & 4 & 4.95 & 1.00\\\\\n",
       "\t9 & GO:0070013 & intracellular organelle lumen      &  1 & 0 & 0.55 & 1.00\\\\\n",
       "\t10 & GO:0031981 & nuclear lumen                      &  1 & 0 & 0.55 & 1.00\\\\\n",
       "\\end{tabular}\n"
      ],
      "text/markdown": [
       "\n",
       "A data.frame: 10 × 6\n",
       "\n",
       "| <!--/--> | GO.ID &lt;chr&gt; | Term &lt;chr&gt; | Annotated &lt;int&gt; | Significant &lt;int&gt; | Expected &lt;dbl&gt; | raw.p.value &lt;chr&gt; |\n",
       "|---|---|---|---|---|---|---|\n",
       "| 1 | GO:0016020 | membrane                           | 11 | 7 | 6.05 | 0.12 |\n",
       "| 2 | GO:0005634 | nucleus                            |  6 | 4 | 3.30 | 0.29 |\n",
       "| 3 | GO:0005576 | extracellular region               |  1 | 0 | 0.55 | 0.60 |\n",
       "| 4 | GO:0005886 | plasma membrane                    |  1 | 0 | 0.55 | 0.70 |\n",
       "| 5 | GO:0005737 | cytoplasm                          |  5 | 2 | 2.75 | 0.76 |\n",
       "| 6 | GO:0005730 | nucleolus                          |  1 | 0 | 0.55 | 0.85 |\n",
       "| 7 | GO:0005794 | Golgi apparatus                    |  1 | 0 | 0.55 | 0.95 |\n",
       "| 8 | GO:0005622 | intracellular anatomical structure |  9 | 4 | 4.95 | 1.00 |\n",
       "| 9 | GO:0070013 | intracellular organelle lumen      |  1 | 0 | 0.55 | 1.00 |\n",
       "| 10 | GO:0031981 | nuclear lumen                      |  1 | 0 | 0.55 | 1.00 |\n",
       "\n"
      ],
      "text/plain": [
       "   GO.ID      Term                               Annotated Significant Expected\n",
       "1  GO:0016020 membrane                           11        7           6.05    \n",
       "2  GO:0005634 nucleus                             6        4           3.30    \n",
       "3  GO:0005576 extracellular region                1        0           0.55    \n",
       "4  GO:0005886 plasma membrane                     1        0           0.55    \n",
       "5  GO:0005737 cytoplasm                           5        2           2.75    \n",
       "6  GO:0005730 nucleolus                           1        0           0.55    \n",
       "7  GO:0005794 Golgi apparatus                     1        0           0.55    \n",
       "8  GO:0005622 intracellular anatomical structure  9        4           4.95    \n",
       "9  GO:0070013 intracellular organelle lumen       1        0           0.55    \n",
       "10 GO:0031981 nuclear lumen                       1        0           0.55    \n",
       "   raw.p.value\n",
       "1  0.12       \n",
       "2  0.29       \n",
       "3  0.60       \n",
       "4  0.70       \n",
       "5  0.76       \n",
       "6  0.85       \n",
       "7  0.95       \n",
       "8  1.00       \n",
       "9  1.00       \n",
       "10 1.00       "
      ]
     },
     "metadata": {},
     "output_type": "display_data"
    }
   ],
   "source": [
    "# KS stat\n",
    "resultKS_CC <- runTest(GOdata_CC, algorithm = \"weight01\", statistic = \"ks\")\n",
    "\n",
    "# putting result into readable table\n",
    "tab_CC <- GenTable(GOdata_CC, raw.p.value = resultKS_CC, topNodes = length(resultKS_CC@score), numChar = 120)\n",
    "\n",
    "# showing top 10 GO term results\n",
    "head(tab_CC, 10)"
   ]
  },
  {
   "cell_type": "markdown",
   "id": "39b48146-3e7b-46c7-b300-793d8b7dde4c",
   "metadata": {},
   "source": [
    "#### GO analysis for biological process"
   ]
  },
  {
   "cell_type": "code",
   "execution_count": 19,
   "id": "5bfe551e-f9ec-4a81-9001-322aa9e868d5",
   "metadata": {},
   "outputs": [
    {
     "name": "stderr",
     "output_type": "stream",
     "text": [
      "\n",
      "Building most specific GOs .....\n",
      "\n",
      "\t( 11 GO terms found. )\n",
      "\n",
      "\n",
      "Build GO DAG topology ..........\n",
      "\n",
      "\t( 145 GO terms and 288 relations. )\n",
      "\n",
      "\n",
      "Annotating nodes ...............\n",
      "\n",
      "\t( 10 genes annotated to the GO terms. )\n",
      "\n"
     ]
    },
    {
     "data": {
      "text/plain": [
       "\n",
       "------------------------- topGOdata object -------------------------\n",
       "\n",
       " Description:\n",
       "   -  DMGs in phase 1 hypoxic vs. control, phase 2 control \n",
       "\n",
       " Ontology:\n",
       "   -  BP \n",
       "\n",
       " 48 available genes (all genes from the array):\n",
       "   - symbol:  LOC111099424 LOC111099567 LOC111100699 LOC111101020 LOC111101925  ...\n",
       "   - score :  2.345118284 -1.827095809 4.063721828 1.605386194 -2.272698799  ...\n",
       "   - 31  significant genes. \n",
       "\n",
       " 10 feasible genes (genes that can be used in the analysis):\n",
       "   - symbol:  LOC111100699 LOC111119646 LOC111120850 LOC111128754 LOC111128755  ...\n",
       "   - score :  4.063721828 -2.231953627 1.177318323 1.50442414 -4.766785816  ...\n",
       "   - 5  significant genes. \n",
       "\n",
       " GO graph (nodes with at least  1  genes):\n",
       "   - a graph with directed edges\n",
       "   - number of nodes = 145 \n",
       "   - number of edges = 288 \n",
       "\n",
       "------------------------- topGOdata object -------------------------\n"
      ]
     },
     "metadata": {},
     "output_type": "display_data"
    }
   ],
   "source": [
    "# creating GO data object\n",
    "GOdata_BP <- new(\"topGOdata\", \n",
    "              description = 'DMGs in phase 1 hypoxic vs. control, phase 2 control',\n",
    "              ontology = \"BP\", \n",
    "              allGenes = geneList,\n",
    "              geneSel = topDiffGenes,\n",
    "              annot = annFUN.gene2GO, \n",
    "              gene2GO = geneID2GO)\n",
    "GOdata_BP"
   ]
  },
  {
   "cell_type": "code",
   "execution_count": 20,
   "id": "3f682389-c2a0-49ed-978a-9891ea75a8ee",
   "metadata": {},
   "outputs": [
    {
     "name": "stderr",
     "output_type": "stream",
     "text": [
      "\n",
      "\t\t\t -- Weight01 Algorithm -- \n",
      "\n",
      "\t\t the algorithm is scoring 145 nontrivial nodes\n",
      "\t\t parameters: \n",
      "\t\t\t test statistic: ks\n",
      "\t\t\t score order: increasing\n",
      "\n",
      "\n",
      "\t Level 14:\t2 nodes to be scored\t(0 eliminated genes)\n",
      "\n",
      "\n",
      "\t Level 13:\t1 nodes to be scored\t(0 eliminated genes)\n",
      "\n",
      "\n",
      "\t Level 12:\t2 nodes to be scored\t(1 eliminated genes)\n",
      "\n",
      "\n",
      "\t Level 11:\t3 nodes to be scored\t(1 eliminated genes)\n",
      "\n",
      "\n",
      "\t Level 10:\t7 nodes to be scored\t(2 eliminated genes)\n",
      "\n",
      "\n",
      "\t Level 9:\t11 nodes to be scored\t(2 eliminated genes)\n",
      "\n",
      "\n",
      "\t Level 8:\t11 nodes to be scored\t(3 eliminated genes)\n",
      "\n",
      "\n",
      "\t Level 7:\t11 nodes to be scored\t(4 eliminated genes)\n",
      "\n",
      "\n",
      "\t Level 6:\t18 nodes to be scored\t(4 eliminated genes)\n",
      "\n",
      "\n",
      "\t Level 5:\t30 nodes to be scored\t(4 eliminated genes)\n",
      "\n",
      "\n",
      "\t Level 4:\t26 nodes to be scored\t(8 eliminated genes)\n",
      "\n",
      "\n",
      "\t Level 3:\t16 nodes to be scored\t(9 eliminated genes)\n",
      "\n",
      "\n",
      "\t Level 2:\t6 nodes to be scored\t(10 eliminated genes)\n",
      "\n",
      "\n",
      "\t Level 1:\t1 nodes to be scored\t(10 eliminated genes)\n",
      "\n"
     ]
    },
    {
     "data": {
      "text/html": [
       "<table class=\"dataframe\">\n",
       "<caption>A data.frame: 10 × 6</caption>\n",
       "<thead>\n",
       "\t<tr><th></th><th scope=col>GO.ID</th><th scope=col>Term</th><th scope=col>Annotated</th><th scope=col>Significant</th><th scope=col>Expected</th><th scope=col>raw.p.value</th></tr>\n",
       "\t<tr><th></th><th scope=col>&lt;chr&gt;</th><th scope=col>&lt;chr&gt;</th><th scope=col>&lt;int&gt;</th><th scope=col>&lt;int&gt;</th><th scope=col>&lt;dbl&gt;</th><th scope=col>&lt;chr&gt;</th></tr>\n",
       "</thead>\n",
       "<tbody>\n",
       "\t<tr><th scope=row>1</th><td>GO:0035556</td><td>intracellular signal transduction                                             </td><td>1</td><td>1</td><td>0.5</td><td>0.1</td></tr>\n",
       "\t<tr><th scope=row>2</th><td>GO:0055070</td><td>copper ion homeostasis                                                        </td><td>1</td><td>1</td><td>0.5</td><td>0.2</td></tr>\n",
       "\t<tr><th scope=row>3</th><td>GO:2000042</td><td>negative regulation of double-strand break repair via homologous recombination</td><td>1</td><td>1</td><td>0.5</td><td>0.3</td></tr>\n",
       "\t<tr><th scope=row>4</th><td>GO:0006606</td><td>protein import into nucleus                                                   </td><td>1</td><td>1</td><td>0.5</td><td>0.4</td></tr>\n",
       "\t<tr><th scope=row>5</th><td>GO:0016311</td><td>dephosphorylation                                                             </td><td>1</td><td>1</td><td>0.5</td><td>0.5</td></tr>\n",
       "\t<tr><th scope=row>6</th><td>GO:0006914</td><td>autophagy                                                                     </td><td>1</td><td>0</td><td>0.5</td><td>0.6</td></tr>\n",
       "\t<tr><th scope=row>7</th><td>GO:0006508</td><td>proteolysis                                                                   </td><td>1</td><td>0</td><td>0.5</td><td>0.7</td></tr>\n",
       "\t<tr><th scope=row>8</th><td>GO:0006355</td><td>regulation of DNA-templated transcription                                     </td><td>1</td><td>0</td><td>0.5</td><td>0.8</td></tr>\n",
       "\t<tr><th scope=row>9</th><td>GO:0006629</td><td>lipid metabolic process                                                       </td><td>1</td><td>0</td><td>0.5</td><td>0.9</td></tr>\n",
       "\t<tr><th scope=row>10</th><td>GO:0000096</td><td>sulfur amino acid metabolic process                                           </td><td>1</td><td>0</td><td>0.5</td><td>1.0</td></tr>\n",
       "</tbody>\n",
       "</table>\n"
      ],
      "text/latex": [
       "A data.frame: 10 × 6\n",
       "\\begin{tabular}{r|llllll}\n",
       "  & GO.ID & Term & Annotated & Significant & Expected & raw.p.value\\\\\n",
       "  & <chr> & <chr> & <int> & <int> & <dbl> & <chr>\\\\\n",
       "\\hline\n",
       "\t1 & GO:0035556 & intracellular signal transduction                                              & 1 & 1 & 0.5 & 0.1\\\\\n",
       "\t2 & GO:0055070 & copper ion homeostasis                                                         & 1 & 1 & 0.5 & 0.2\\\\\n",
       "\t3 & GO:2000042 & negative regulation of double-strand break repair via homologous recombination & 1 & 1 & 0.5 & 0.3\\\\\n",
       "\t4 & GO:0006606 & protein import into nucleus                                                    & 1 & 1 & 0.5 & 0.4\\\\\n",
       "\t5 & GO:0016311 & dephosphorylation                                                              & 1 & 1 & 0.5 & 0.5\\\\\n",
       "\t6 & GO:0006914 & autophagy                                                                      & 1 & 0 & 0.5 & 0.6\\\\\n",
       "\t7 & GO:0006508 & proteolysis                                                                    & 1 & 0 & 0.5 & 0.7\\\\\n",
       "\t8 & GO:0006355 & regulation of DNA-templated transcription                                      & 1 & 0 & 0.5 & 0.8\\\\\n",
       "\t9 & GO:0006629 & lipid metabolic process                                                        & 1 & 0 & 0.5 & 0.9\\\\\n",
       "\t10 & GO:0000096 & sulfur amino acid metabolic process                                            & 1 & 0 & 0.5 & 1.0\\\\\n",
       "\\end{tabular}\n"
      ],
      "text/markdown": [
       "\n",
       "A data.frame: 10 × 6\n",
       "\n",
       "| <!--/--> | GO.ID &lt;chr&gt; | Term &lt;chr&gt; | Annotated &lt;int&gt; | Significant &lt;int&gt; | Expected &lt;dbl&gt; | raw.p.value &lt;chr&gt; |\n",
       "|---|---|---|---|---|---|---|\n",
       "| 1 | GO:0035556 | intracellular signal transduction                                              | 1 | 1 | 0.5 | 0.1 |\n",
       "| 2 | GO:0055070 | copper ion homeostasis                                                         | 1 | 1 | 0.5 | 0.2 |\n",
       "| 3 | GO:2000042 | negative regulation of double-strand break repair via homologous recombination | 1 | 1 | 0.5 | 0.3 |\n",
       "| 4 | GO:0006606 | protein import into nucleus                                                    | 1 | 1 | 0.5 | 0.4 |\n",
       "| 5 | GO:0016311 | dephosphorylation                                                              | 1 | 1 | 0.5 | 0.5 |\n",
       "| 6 | GO:0006914 | autophagy                                                                      | 1 | 0 | 0.5 | 0.6 |\n",
       "| 7 | GO:0006508 | proteolysis                                                                    | 1 | 0 | 0.5 | 0.7 |\n",
       "| 8 | GO:0006355 | regulation of DNA-templated transcription                                      | 1 | 0 | 0.5 | 0.8 |\n",
       "| 9 | GO:0006629 | lipid metabolic process                                                        | 1 | 0 | 0.5 | 0.9 |\n",
       "| 10 | GO:0000096 | sulfur amino acid metabolic process                                            | 1 | 0 | 0.5 | 1.0 |\n",
       "\n"
      ],
      "text/plain": [
       "   GO.ID     \n",
       "1  GO:0035556\n",
       "2  GO:0055070\n",
       "3  GO:2000042\n",
       "4  GO:0006606\n",
       "5  GO:0016311\n",
       "6  GO:0006914\n",
       "7  GO:0006508\n",
       "8  GO:0006355\n",
       "9  GO:0006629\n",
       "10 GO:0000096\n",
       "   Term                                                                          \n",
       "1  intracellular signal transduction                                             \n",
       "2  copper ion homeostasis                                                        \n",
       "3  negative regulation of double-strand break repair via homologous recombination\n",
       "4  protein import into nucleus                                                   \n",
       "5  dephosphorylation                                                             \n",
       "6  autophagy                                                                     \n",
       "7  proteolysis                                                                   \n",
       "8  regulation of DNA-templated transcription                                     \n",
       "9  lipid metabolic process                                                       \n",
       "10 sulfur amino acid metabolic process                                           \n",
       "   Annotated Significant Expected raw.p.value\n",
       "1  1         1           0.5      0.1        \n",
       "2  1         1           0.5      0.2        \n",
       "3  1         1           0.5      0.3        \n",
       "4  1         1           0.5      0.4        \n",
       "5  1         1           0.5      0.5        \n",
       "6  1         0           0.5      0.6        \n",
       "7  1         0           0.5      0.7        \n",
       "8  1         0           0.5      0.8        \n",
       "9  1         0           0.5      0.9        \n",
       "10 1         0           0.5      1.0        "
      ]
     },
     "metadata": {},
     "output_type": "display_data"
    }
   ],
   "source": [
    "# KS stat\n",
    "resultKS_BP <- runTest(GOdata_BP, algorithm = \"weight01\", statistic = \"ks\")\n",
    "\n",
    "# putting result into readable table\n",
    "tab_BP <- GenTable(GOdata_BP, raw.p.value = resultKS_BP, topNodes = length(resultKS_BP@score), numChar = 120)\n",
    "\n",
    "# showing top 10 GO term results\n",
    "head(tab_BP, 10)"
   ]
  },
  {
   "cell_type": "markdown",
   "id": "48c6f174-40db-493c-bdbf-5925ecaf3338",
   "metadata": {},
   "source": [
    "## Gene Set Enrichment Analysis with clusterProfiler\n",
    "looking for enriched KEGG pathways with a ranked gene list"
   ]
  },
  {
   "cell_type": "code",
   "execution_count": 27,
   "id": "daadf74a-cdf8-46ba-ba72-baaa1eeed37b",
   "metadata": {},
   "outputs": [
    {
     "data": {
      "text/html": [
       "<table class=\"dataframe\">\n",
       "<caption>A data.frame: 6 × 2</caption>\n",
       "<thead>\n",
       "\t<tr><th></th><th scope=col>gene</th><th scope=col>l2fc</th></tr>\n",
       "\t<tr><th></th><th scope=col>&lt;chr&gt;</th><th scope=col>&lt;dbl&gt;</th></tr>\n",
       "</thead>\n",
       "<tbody>\n",
       "\t<tr><th scope=row>1</th><td>LOC111099424</td><td> 2.345118</td></tr>\n",
       "\t<tr><th scope=row>2</th><td>LOC111099567</td><td>-1.827096</td></tr>\n",
       "\t<tr><th scope=row>3</th><td>LOC111100699</td><td> 4.063722</td></tr>\n",
       "\t<tr><th scope=row>4</th><td>LOC111101020</td><td> 1.605386</td></tr>\n",
       "\t<tr><th scope=row>5</th><td>LOC111101925</td><td>-2.272699</td></tr>\n",
       "\t<tr><th scope=row>6</th><td>LOC111103792</td><td>-2.021323</td></tr>\n",
       "</tbody>\n",
       "</table>\n"
      ],
      "text/latex": [
       "A data.frame: 6 × 2\n",
       "\\begin{tabular}{r|ll}\n",
       "  & gene & l2fc\\\\\n",
       "  & <chr> & <dbl>\\\\\n",
       "\\hline\n",
       "\t1 & LOC111099424 &  2.345118\\\\\n",
       "\t2 & LOC111099567 & -1.827096\\\\\n",
       "\t3 & LOC111100699 &  4.063722\\\\\n",
       "\t4 & LOC111101020 &  1.605386\\\\\n",
       "\t5 & LOC111101925 & -2.272699\\\\\n",
       "\t6 & LOC111103792 & -2.021323\\\\\n",
       "\\end{tabular}\n"
      ],
      "text/markdown": [
       "\n",
       "A data.frame: 6 × 2\n",
       "\n",
       "| <!--/--> | gene &lt;chr&gt; | l2fc &lt;dbl&gt; |\n",
       "|---|---|---|\n",
       "| 1 | LOC111099424 |  2.345118 |\n",
       "| 2 | LOC111099567 | -1.827096 |\n",
       "| 3 | LOC111100699 |  4.063722 |\n",
       "| 4 | LOC111101020 |  1.605386 |\n",
       "| 5 | LOC111101925 | -2.272699 |\n",
       "| 6 | LOC111103792 | -2.021323 |\n",
       "\n"
      ],
      "text/plain": [
       "  gene         l2fc     \n",
       "1 LOC111099424  2.345118\n",
       "2 LOC111099567 -1.827096\n",
       "3 LOC111100699  4.063722\n",
       "4 LOC111101020  1.605386\n",
       "5 LOC111101925 -2.272699\n",
       "6 LOC111103792 -2.021323"
      ]
     },
     "metadata": {},
     "output_type": "display_data"
    },
    {
     "data": {
      "text/html": [
       "<style>\n",
       ".list-inline {list-style: none; margin:0; padding: 0}\n",
       ".list-inline>li {display: inline-block}\n",
       ".list-inline>li:not(:last-child)::after {content: \"\\00b7\"; padding: 0 .5ex}\n",
       "</style>\n",
       "<ol class=list-inline><li>48</li><li>2</li></ol>\n"
      ],
      "text/latex": [
       "\\begin{enumerate*}\n",
       "\\item 48\n",
       "\\item 2\n",
       "\\end{enumerate*}\n"
      ],
      "text/markdown": [
       "1. 48\n",
       "2. 2\n",
       "\n",
       "\n"
      ],
      "text/plain": [
       "[1] 48  2"
      ]
     },
     "metadata": {},
     "output_type": "display_data"
    }
   ],
   "source": [
    "# already have a df with DMGs and scores - need just gene and l2fc\n",
    "df <- select(data2, gene, l2fc)\n",
    "head(df)\n",
    "dim(df) # 48 genes"
   ]
  },
  {
   "cell_type": "code",
   "execution_count": 29,
   "id": "220b6841-d5b4-4818-8b43-18b8ba19fe6d",
   "metadata": {},
   "outputs": [
    {
     "data": {
      "text/html": [
       "<table class=\"dataframe\">\n",
       "<caption>A data.frame: 6 × 2</caption>\n",
       "<thead>\n",
       "\t<tr><th></th><th scope=col>gene</th><th scope=col>entrez_ID</th></tr>\n",
       "\t<tr><th></th><th scope=col>&lt;chr&gt;</th><th scope=col>&lt;int&gt;</th></tr>\n",
       "</thead>\n",
       "<tbody>\n",
       "\t<tr><th scope=row>1</th><td>LOC111135994</td><td>111135994</td></tr>\n",
       "\t<tr><th scope=row>2</th><td>LOC111136466</td><td>111136466</td></tr>\n",
       "\t<tr><th scope=row>3</th><td>LOC111119748</td><td>111119748</td></tr>\n",
       "\t<tr><th scope=row>4</th><td>LOC111117745</td><td>111117745</td></tr>\n",
       "\t<tr><th scope=row>5</th><td>LOC111115741</td><td>111115741</td></tr>\n",
       "\t<tr><th scope=row>6</th><td>LOC111134401</td><td>111134401</td></tr>\n",
       "</tbody>\n",
       "</table>\n"
      ],
      "text/latex": [
       "A data.frame: 6 × 2\n",
       "\\begin{tabular}{r|ll}\n",
       "  & gene & entrez\\_ID\\\\\n",
       "  & <chr> & <int>\\\\\n",
       "\\hline\n",
       "\t1 & LOC111135994 & 111135994\\\\\n",
       "\t2 & LOC111136466 & 111136466\\\\\n",
       "\t3 & LOC111119748 & 111119748\\\\\n",
       "\t4 & LOC111117745 & 111117745\\\\\n",
       "\t5 & LOC111115741 & 111115741\\\\\n",
       "\t6 & LOC111134401 & 111134401\\\\\n",
       "\\end{tabular}\n"
      ],
      "text/markdown": [
       "\n",
       "A data.frame: 6 × 2\n",
       "\n",
       "| <!--/--> | gene &lt;chr&gt; | entrez_ID &lt;int&gt; |\n",
       "|---|---|---|\n",
       "| 1 | LOC111135994 | 111135994 |\n",
       "| 2 | LOC111136466 | 111136466 |\n",
       "| 3 | LOC111119748 | 111119748 |\n",
       "| 4 | LOC111117745 | 111117745 |\n",
       "| 5 | LOC111115741 | 111115741 |\n",
       "| 6 | LOC111134401 | 111134401 |\n",
       "\n"
      ],
      "text/plain": [
       "  gene         entrez_ID\n",
       "1 LOC111135994 111135994\n",
       "2 LOC111136466 111136466\n",
       "3 LOC111119748 111119748\n",
       "4 LOC111117745 111117745\n",
       "5 LOC111115741 111115741\n",
       "6 LOC111134401 111134401"
      ]
     },
     "metadata": {},
     "output_type": "display_data"
    },
    {
     "data": {
      "text/html": [
       "<style>\n",
       ".list-inline {list-style: none; margin:0; padding: 0}\n",
       ".list-inline>li {display: inline-block}\n",
       ".list-inline>li:not(:last-child)::after {content: \"\\00b7\"; padding: 0 .5ex}\n",
       "</style>\n",
       "<ol class=list-inline><li>46</li><li>2</li></ol>\n"
      ],
      "text/latex": [
       "\\begin{enumerate*}\n",
       "\\item 46\n",
       "\\item 2\n",
       "\\end{enumerate*}\n"
      ],
      "text/markdown": [
       "1. 46\n",
       "2. 2\n",
       "\n",
       "\n"
      ],
      "text/plain": [
       "[1] 46  2"
      ]
     },
     "metadata": {},
     "output_type": "display_data"
    }
   ],
   "source": [
    "# need to have conversion table for gene name to entrez id\n",
    "# obtained from DAVID gene accession conversion tool\n",
    "david_df <- read.csv('/project/pi_sarah_gignouxwolfsohn_uml_edu/julia/CE_MethylRAD_analysis_2018/analysis/KEGG_pathway/p2c_p1hc_DAVID.txt', sep='\\t')\n",
    "# only selecting columns that I need\n",
    "david_df <- select(david_df, From, To)\n",
    "# renaming columns for merge\n",
    "colnames(david_df) = c('gene', 'entrez_ID')\n",
    "head(david_df)\n",
    "dim(david_df)"
   ]
  },
  {
   "cell_type": "code",
   "execution_count": 30,
   "id": "bc88d02b-9be4-452f-9c5f-895966bf518b",
   "metadata": {},
   "outputs": [
    {
     "data": {
      "text/html": [
       "<table class=\"dataframe\">\n",
       "<caption>A data.frame: 6 × 2</caption>\n",
       "<thead>\n",
       "\t<tr><th></th><th scope=col>entrez_ID</th><th scope=col>l2fc</th></tr>\n",
       "\t<tr><th></th><th scope=col>&lt;int&gt;</th><th scope=col>&lt;dbl&gt;</th></tr>\n",
       "</thead>\n",
       "<tbody>\n",
       "\t<tr><th scope=row>1</th><td>111099424</td><td> 2.345118</td></tr>\n",
       "\t<tr><th scope=row>2</th><td>111099567</td><td>-1.827096</td></tr>\n",
       "\t<tr><th scope=row>3</th><td>111100699</td><td> 4.063722</td></tr>\n",
       "\t<tr><th scope=row>4</th><td>111101020</td><td> 1.605386</td></tr>\n",
       "\t<tr><th scope=row>5</th><td>111101925</td><td>-2.272699</td></tr>\n",
       "\t<tr><th scope=row>6</th><td>111103792</td><td>-2.021323</td></tr>\n",
       "</tbody>\n",
       "</table>\n"
      ],
      "text/latex": [
       "A data.frame: 6 × 2\n",
       "\\begin{tabular}{r|ll}\n",
       "  & entrez\\_ID & l2fc\\\\\n",
       "  & <int> & <dbl>\\\\\n",
       "\\hline\n",
       "\t1 & 111099424 &  2.345118\\\\\n",
       "\t2 & 111099567 & -1.827096\\\\\n",
       "\t3 & 111100699 &  4.063722\\\\\n",
       "\t4 & 111101020 &  1.605386\\\\\n",
       "\t5 & 111101925 & -2.272699\\\\\n",
       "\t6 & 111103792 & -2.021323\\\\\n",
       "\\end{tabular}\n"
      ],
      "text/markdown": [
       "\n",
       "A data.frame: 6 × 2\n",
       "\n",
       "| <!--/--> | entrez_ID &lt;int&gt; | l2fc &lt;dbl&gt; |\n",
       "|---|---|---|\n",
       "| 1 | 111099424 |  2.345118 |\n",
       "| 2 | 111099567 | -1.827096 |\n",
       "| 3 | 111100699 |  4.063722 |\n",
       "| 4 | 111101020 |  1.605386 |\n",
       "| 5 | 111101925 | -2.272699 |\n",
       "| 6 | 111103792 | -2.021323 |\n",
       "\n"
      ],
      "text/plain": [
       "  entrez_ID l2fc     \n",
       "1 111099424  2.345118\n",
       "2 111099567 -1.827096\n",
       "3 111100699  4.063722\n",
       "4 111101020  1.605386\n",
       "5 111101925 -2.272699\n",
       "6 111103792 -2.021323"
      ]
     },
     "metadata": {},
     "output_type": "display_data"
    }
   ],
   "source": [
    "# matching up dataframes so entrez id has a log2FoldChange value\n",
    "merge <- merge(david_df, df, by = 'gene', all=TRUE)\n",
    "\n",
    "# grabbing just the entrez_ID and l2fc value\n",
    "merge_df <- select(merge, entrez_ID, l2fc)\n",
    "head(merge_df)"
   ]
  },
  {
   "cell_type": "code",
   "execution_count": 31,
   "id": "f4c59b94-bb00-42be-8473-b35c4d9e8899",
   "metadata": {},
   "outputs": [
    {
     "data": {
      "text/html": [
       "47"
      ],
      "text/latex": [
       "47"
      ],
      "text/markdown": [
       "47"
      ],
      "text/plain": [
       "[1] 47"
      ]
     },
     "metadata": {},
     "output_type": "display_data"
    },
    {
     "data": {
      "text/html": [
       "48"
      ],
      "text/latex": [
       "48"
      ],
      "text/markdown": [
       "48"
      ],
      "text/plain": [
       "[1] 48"
      ]
     },
     "metadata": {},
     "output_type": "display_data"
    }
   ],
   "source": [
    "# checking that there's only unique genes\n",
    "length(unique(merge_df$entrez_ID))\n",
    "length(merge_df$entrez_ID)\n",
    "# both have 111, so all good there"
   ]
  },
  {
   "cell_type": "code",
   "execution_count": 32,
   "id": "18ef7506-fd15-41fd-9a25-70a4e889c9a9",
   "metadata": {},
   "outputs": [
    {
     "data": {
      "text/html": [
       "<style>\n",
       ".dl-inline {width: auto; margin:0; padding: 0}\n",
       ".dl-inline>dt, .dl-inline>dd {float: none; width: auto; display: inline-block}\n",
       ".dl-inline>dt::after {content: \":\\0020\"; padding-right: .5ex}\n",
       ".dl-inline>dt:not(:first-of-type) {padding-left: .5ex}\n",
       "</style><dl class=dl-inline><dt>111100699</dt><dd>4.06372182764901</dd><dt>111115479</dt><dd>3.91728414482197</dd><dt>111109677</dt><dd>2.74447144095493</dd><dt>111099424</dt><dd>2.34511828439531</dd><dt>111129520</dt><dd>1.97179160455255</dd><dt>111135994</dt><dd>1.91836786873388</dd></dl>\n"
      ],
      "text/latex": [
       "\\begin{description*}\n",
       "\\item[111100699] 4.06372182764901\n",
       "\\item[111115479] 3.91728414482197\n",
       "\\item[111109677] 2.74447144095493\n",
       "\\item[111099424] 2.34511828439531\n",
       "\\item[111129520] 1.97179160455255\n",
       "\\item[111135994] 1.91836786873388\n",
       "\\end{description*}\n"
      ],
      "text/markdown": [
       "111100699\n",
       ":   4.06372182764901111115479\n",
       ":   3.91728414482197111109677\n",
       ":   2.74447144095493111099424\n",
       ":   2.34511828439531111129520\n",
       ":   1.97179160455255111135994\n",
       ":   1.91836786873388\n",
       "\n"
      ],
      "text/plain": [
       "111100699 111115479 111109677 111099424 111129520 111135994 \n",
       " 4.063722  3.917284  2.744471  2.345118  1.971792  1.918368 "
      ]
     },
     "metadata": {},
     "output_type": "display_data"
    },
    {
     "data": {
      "text/html": [
       "'numeric'"
      ],
      "text/latex": [
       "'numeric'"
      ],
      "text/markdown": [
       "'numeric'"
      ],
      "text/plain": [
       "[1] \"numeric\""
      ]
     },
     "metadata": {},
     "output_type": "display_data"
    },
    {
     "data": {
      "text/html": [
       "48"
      ],
      "text/latex": [
       "48"
      ],
      "text/markdown": [
       "48"
      ],
      "text/plain": [
       "[1] 48"
      ]
     },
     "metadata": {},
     "output_type": "display_data"
    }
   ],
   "source": [
    "# Create a vector of the gene unuiverse\n",
    "kegg_gene_list <- merge_df$l2fc\n",
    "\n",
    "# Name vector with ENTREZ ids\n",
    "names(kegg_gene_list) <- merge_df$entrez_ID\n",
    "\n",
    "# omit any NA values \n",
    "kegg_gene_list<-na.omit(kegg_gene_list)\n",
    "\n",
    "# sort the list in decreasing order (required for clusterProfiler)\n",
    "kegg_gene_list = sort(kegg_gene_list, decreasing = TRUE)\n",
    "\n",
    "head(kegg_gene_list)\n",
    "class(kegg_gene_list) # numeric\n",
    "length(kegg_gene_list) # 111 genes"
   ]
  },
  {
   "cell_type": "code",
   "execution_count": 33,
   "id": "5af9066c-1cb9-4ba5-b133-e4b6e82cd314",
   "metadata": {},
   "outputs": [
    {
     "name": "stderr",
     "output_type": "stream",
     "text": [
      "Reading KEGG annotation online: \"https://rest.kegg.jp/link/cvn/pathway\"...\n",
      "\n",
      "Reading KEGG annotation online: \"https://rest.kegg.jp/list/pathway/cvn\"...\n",
      "\n",
      "preparing geneSet collections...\n",
      "\n",
      "GSEA analysis...\n",
      "\n",
      "Warning message in .GSEA(geneList = geneList, exponent = exponent, minGSSize = minGSSize, :\n",
      "“We do not recommend using nPerm parameter incurrent and future releases”\n",
      "Warning message in fgsea(pathways = geneSets, stats = geneList, nperm = nPerm, minSize = minGSSize, :\n",
      "“You are trying to run fgseaSimple. It is recommended to use fgseaMultilevel. To run fgseaMultilevel, you need to remove the nperm argument in the fgsea function call.”\n",
      "Warning message in preparePathwaysAndStats(pathways, stats, minSize, maxSize, gseaParam, :\n",
      "“There are duplicate gene names, fgsea may produce unexpected results.”\n",
      "leading edge analysis...\n",
      "\n",
      "done...\n",
      "\n"
     ]
    }
   ],
   "source": [
    "kegg_organism = \"cvn\"\n",
    "kk2 <- gseKEGG(geneList     = kegg_gene_list,\n",
    "               organism     = kegg_organism,\n",
    "               nPerm        = 10000,\n",
    "               minGSSize    = 1,\n",
    "               maxGSSize    = 800,\n",
    "               pvalueCutoff = 1, # if this is set to 1, see more pathways, but 0.05 is statistically signif.\n",
    "               pAdjustMethod = \"BH\", # Benjamini–Hochberg FDR (false discover rate)\n",
    "               scoreType = \"pos\",\n",
    "               keyType       = \"kegg\")"
   ]
  },
  {
   "cell_type": "code",
   "execution_count": 34,
   "id": "6c40f477-8699-419c-9e0a-b672c6eec4b9",
   "metadata": {},
   "outputs": [
    {
     "data": {
      "text/html": [
       "<table class=\"dataframe\">\n",
       "<caption>A data.frame: 6 × 11</caption>\n",
       "<thead>\n",
       "\t<tr><th></th><th scope=col>ID</th><th scope=col>Description</th><th scope=col>setSize</th><th scope=col>enrichmentScore</th><th scope=col>NES</th><th scope=col>pvalue</th><th scope=col>p.adjust</th><th scope=col>qvalue</th><th scope=col>rank</th><th scope=col>leading_edge</th><th scope=col>core_enrichment</th></tr>\n",
       "\t<tr><th></th><th scope=col>&lt;chr&gt;</th><th scope=col>&lt;chr&gt;</th><th scope=col>&lt;int&gt;</th><th scope=col>&lt;dbl&gt;</th><th scope=col>&lt;dbl&gt;</th><th scope=col>&lt;dbl&gt;</th><th scope=col>&lt;dbl&gt;</th><th scope=col>&lt;dbl&gt;</th><th scope=col>&lt;dbl&gt;</th><th scope=col>&lt;chr&gt;</th><th scope=col>&lt;chr&gt;</th></tr>\n",
       "</thead>\n",
       "<tbody>\n",
       "\t<tr><th scope=row>cvn00270</th><td>cvn00270</td><td>Cysteine and methionine metabolism     </td><td>1</td><td>1.0000000</td><td>1.992336</td><td>0.02149785</td><td>0.3654635</td><td>0.3620691</td><td>1</td><td>tags=100%, list=2%, signal=100%</td><td>111100699</td></tr>\n",
       "\t<tr><th scope=row>cvn03008</th><td>cvn03008</td><td>Ribosome biogenesis in eukaryotes      </td><td>1</td><td>0.8723404</td><td>1.737995</td><td>0.14898510</td><td>0.4030722</td><td>0.3993285</td><td>7</td><td>tags=100%, list=15%, signal=87%</td><td>111129049</td></tr>\n",
       "\t<tr><th scope=row>cvn00020</th><td>cvn00020</td><td>Citrate cycle (TCA cycle)              </td><td>1</td><td>0.8297872</td><td>1.653215</td><td>0.18968103</td><td>0.4030722</td><td>0.3993285</td><td>9</td><td>tags=100%, list=19%, signal=83%</td><td>111117164</td></tr>\n",
       "\t<tr><th scope=row>cvn00630</th><td>cvn00630</td><td>Glyoxylate and dicarboxylate metabolism</td><td>1</td><td>0.8297872</td><td>1.653215</td><td>0.18968103</td><td>0.4030722</td><td>0.3993285</td><td>9</td><td>tags=100%, list=19%, signal=83%</td><td>111117164</td></tr>\n",
       "\t<tr><th scope=row>cvn01200</th><td>cvn01200</td><td>Carbon metabolism                      </td><td>1</td><td>0.8297872</td><td>1.653215</td><td>0.18968103</td><td>0.4030722</td><td>0.3993285</td><td>9</td><td>tags=100%, list=19%, signal=83%</td><td>111117164</td></tr>\n",
       "\t<tr><th scope=row>cvn01210</th><td>cvn01210</td><td>2-Oxocarboxylic acid metabolism        </td><td>1</td><td>0.8297872</td><td>1.653215</td><td>0.18968103</td><td>0.4030722</td><td>0.3993285</td><td>9</td><td>tags=100%, list=19%, signal=83%</td><td>111117164</td></tr>\n",
       "</tbody>\n",
       "</table>\n"
      ],
      "text/latex": [
       "A data.frame: 6 × 11\n",
       "\\begin{tabular}{r|lllllllllll}\n",
       "  & ID & Description & setSize & enrichmentScore & NES & pvalue & p.adjust & qvalue & rank & leading\\_edge & core\\_enrichment\\\\\n",
       "  & <chr> & <chr> & <int> & <dbl> & <dbl> & <dbl> & <dbl> & <dbl> & <dbl> & <chr> & <chr>\\\\\n",
       "\\hline\n",
       "\tcvn00270 & cvn00270 & Cysteine and methionine metabolism      & 1 & 1.0000000 & 1.992336 & 0.02149785 & 0.3654635 & 0.3620691 & 1 & tags=100\\%, list=2\\%, signal=100\\% & 111100699\\\\\n",
       "\tcvn03008 & cvn03008 & Ribosome biogenesis in eukaryotes       & 1 & 0.8723404 & 1.737995 & 0.14898510 & 0.4030722 & 0.3993285 & 7 & tags=100\\%, list=15\\%, signal=87\\% & 111129049\\\\\n",
       "\tcvn00020 & cvn00020 & Citrate cycle (TCA cycle)               & 1 & 0.8297872 & 1.653215 & 0.18968103 & 0.4030722 & 0.3993285 & 9 & tags=100\\%, list=19\\%, signal=83\\% & 111117164\\\\\n",
       "\tcvn00630 & cvn00630 & Glyoxylate and dicarboxylate metabolism & 1 & 0.8297872 & 1.653215 & 0.18968103 & 0.4030722 & 0.3993285 & 9 & tags=100\\%, list=19\\%, signal=83\\% & 111117164\\\\\n",
       "\tcvn01200 & cvn01200 & Carbon metabolism                       & 1 & 0.8297872 & 1.653215 & 0.18968103 & 0.4030722 & 0.3993285 & 9 & tags=100\\%, list=19\\%, signal=83\\% & 111117164\\\\\n",
       "\tcvn01210 & cvn01210 & 2-Oxocarboxylic acid metabolism         & 1 & 0.8297872 & 1.653215 & 0.18968103 & 0.4030722 & 0.3993285 & 9 & tags=100\\%, list=19\\%, signal=83\\% & 111117164\\\\\n",
       "\\end{tabular}\n"
      ],
      "text/markdown": [
       "\n",
       "A data.frame: 6 × 11\n",
       "\n",
       "| <!--/--> | ID &lt;chr&gt; | Description &lt;chr&gt; | setSize &lt;int&gt; | enrichmentScore &lt;dbl&gt; | NES &lt;dbl&gt; | pvalue &lt;dbl&gt; | p.adjust &lt;dbl&gt; | qvalue &lt;dbl&gt; | rank &lt;dbl&gt; | leading_edge &lt;chr&gt; | core_enrichment &lt;chr&gt; |\n",
       "|---|---|---|---|---|---|---|---|---|---|---|---|\n",
       "| cvn00270 | cvn00270 | Cysteine and methionine metabolism      | 1 | 1.0000000 | 1.992336 | 0.02149785 | 0.3654635 | 0.3620691 | 1 | tags=100%, list=2%, signal=100% | 111100699 |\n",
       "| cvn03008 | cvn03008 | Ribosome biogenesis in eukaryotes       | 1 | 0.8723404 | 1.737995 | 0.14898510 | 0.4030722 | 0.3993285 | 7 | tags=100%, list=15%, signal=87% | 111129049 |\n",
       "| cvn00020 | cvn00020 | Citrate cycle (TCA cycle)               | 1 | 0.8297872 | 1.653215 | 0.18968103 | 0.4030722 | 0.3993285 | 9 | tags=100%, list=19%, signal=83% | 111117164 |\n",
       "| cvn00630 | cvn00630 | Glyoxylate and dicarboxylate metabolism | 1 | 0.8297872 | 1.653215 | 0.18968103 | 0.4030722 | 0.3993285 | 9 | tags=100%, list=19%, signal=83% | 111117164 |\n",
       "| cvn01200 | cvn01200 | Carbon metabolism                       | 1 | 0.8297872 | 1.653215 | 0.18968103 | 0.4030722 | 0.3993285 | 9 | tags=100%, list=19%, signal=83% | 111117164 |\n",
       "| cvn01210 | cvn01210 | 2-Oxocarboxylic acid metabolism         | 1 | 0.8297872 | 1.653215 | 0.18968103 | 0.4030722 | 0.3993285 | 9 | tags=100%, list=19%, signal=83% | 111117164 |\n",
       "\n"
      ],
      "text/plain": [
       "         ID       Description                             setSize\n",
       "cvn00270 cvn00270 Cysteine and methionine metabolism      1      \n",
       "cvn03008 cvn03008 Ribosome biogenesis in eukaryotes       1      \n",
       "cvn00020 cvn00020 Citrate cycle (TCA cycle)               1      \n",
       "cvn00630 cvn00630 Glyoxylate and dicarboxylate metabolism 1      \n",
       "cvn01200 cvn01200 Carbon metabolism                       1      \n",
       "cvn01210 cvn01210 2-Oxocarboxylic acid metabolism         1      \n",
       "         enrichmentScore NES      pvalue     p.adjust  qvalue    rank\n",
       "cvn00270 1.0000000       1.992336 0.02149785 0.3654635 0.3620691 1   \n",
       "cvn03008 0.8723404       1.737995 0.14898510 0.4030722 0.3993285 7   \n",
       "cvn00020 0.8297872       1.653215 0.18968103 0.4030722 0.3993285 9   \n",
       "cvn00630 0.8297872       1.653215 0.18968103 0.4030722 0.3993285 9   \n",
       "cvn01200 0.8297872       1.653215 0.18968103 0.4030722 0.3993285 9   \n",
       "cvn01210 0.8297872       1.653215 0.18968103 0.4030722 0.3993285 9   \n",
       "         leading_edge                    core_enrichment\n",
       "cvn00270 tags=100%, list=2%, signal=100% 111100699      \n",
       "cvn03008 tags=100%, list=15%, signal=87% 111129049      \n",
       "cvn00020 tags=100%, list=19%, signal=83% 111117164      \n",
       "cvn00630 tags=100%, list=19%, signal=83% 111117164      \n",
       "cvn01200 tags=100%, list=19%, signal=83% 111117164      \n",
       "cvn01210 tags=100%, list=19%, signal=83% 111117164      "
      ]
     },
     "metadata": {},
     "output_type": "display_data"
    }
   ],
   "source": [
    "kk2_df <- as.data.frame(kk2)\n",
    "kk2_df$Description <- sub(\" -.*\", \"\", kk2_df$Description)\n",
    "head(kk2_df) # actually shows the entire df since there's only 5 pathways with pval<0.05"
   ]
  }
 ],
 "metadata": {
  "kernelspec": {
   "display_name": "R [conda env:.conda-r-env]",
   "language": "R",
   "name": "conda-env-.conda-r-env-r"
  },
  "language_info": {
   "codemirror_mode": "r",
   "file_extension": ".r",
   "mimetype": "text/x-r-source",
   "name": "R",
   "pygments_lexer": "r",
   "version": "4.3.2"
  }
 },
 "nbformat": 4,
 "nbformat_minor": 5
}
