{
 "cells": [
  {
   "cell_type": "markdown",
   "id": "64a5b746-745c-4c4f-9dd3-83dcd4b30852",
   "metadata": {},
   "source": [
    "## Effects of Phase 1 (ignoring Phase 2)\n",
    "### warm vs. control"
   ]
  },
  {
   "cell_type": "markdown",
   "id": "72b2637f-37b1-4c54-8859-bf18bb274ff9",
   "metadata": {},
   "source": [
    "following pipeline from [here](https://ucdavis-bioinformatics-training.github.io/2018-June-RNA-Seq-Workshop)"
   ]
  },
  {
   "cell_type": "code",
   "execution_count": 1,
   "id": "6889942d-1a40-4082-9931-8bbb5f9bc293",
   "metadata": {},
   "outputs": [
    {
     "name": "stderr",
     "output_type": "stream",
     "text": [
      "Loading required package: BiocGenerics\n",
      "\n",
      "\n",
      "Attaching package: ‘BiocGenerics’\n",
      "\n",
      "\n",
      "The following objects are masked from ‘package:stats’:\n",
      "\n",
      "    IQR, mad, sd, var, xtabs\n",
      "\n",
      "\n",
      "The following objects are masked from ‘package:base’:\n",
      "\n",
      "    anyDuplicated, aperm, append, as.data.frame, basename, cbind,\n",
      "    colnames, dirname, do.call, duplicated, eval, evalq, Filter, Find,\n",
      "    get, grep, grepl, intersect, is.unsorted, lapply, Map, mapply,\n",
      "    match, mget, order, paste, pmax, pmax.int, pmin, pmin.int,\n",
      "    Position, rank, rbind, Reduce, rownames, sapply, setdiff, sort,\n",
      "    table, tapply, union, unique, unsplit, which.max, which.min\n",
      "\n",
      "\n",
      "Loading required package: graph\n",
      "\n",
      "Loading required package: Biobase\n",
      "\n",
      "Welcome to Bioconductor\n",
      "\n",
      "    Vignettes contain introductory material; view with\n",
      "    'browseVignettes()'. To cite Bioconductor, see\n",
      "    'citation(\"Biobase\")', and for packages 'citation(\"pkgname\")'.\n",
      "\n",
      "\n",
      "Loading required package: GO.db\n",
      "\n",
      "Loading required package: AnnotationDbi\n",
      "\n",
      "Loading required package: stats4\n",
      "\n",
      "Loading required package: IRanges\n",
      "\n",
      "Loading required package: S4Vectors\n",
      "\n",
      "\n",
      "Attaching package: ‘S4Vectors’\n",
      "\n",
      "\n",
      "The following object is masked from ‘package:utils’:\n",
      "\n",
      "    findMatches\n",
      "\n",
      "\n",
      "The following objects are masked from ‘package:base’:\n",
      "\n",
      "    expand.grid, I, unname\n",
      "\n",
      "\n",
      "\n",
      "\n",
      "Loading required package: SparseM\n",
      "\n",
      "\n",
      "Attaching package: ‘SparseM’\n",
      "\n",
      "\n",
      "The following object is masked from ‘package:base’:\n",
      "\n",
      "    backsolve\n",
      "\n",
      "\n",
      "\n",
      "groupGOTerms: \tGOBPTerm, GOMFTerm, GOCCTerm environments built.\n",
      "\n",
      "\n",
      "Attaching package: ‘topGO’\n",
      "\n",
      "\n",
      "The following object is masked from ‘package:IRanges’:\n",
      "\n",
      "    members\n",
      "\n",
      "\n"
     ]
    }
   ],
   "source": [
    "#BiocManager::install('topGO')\n",
    "library(topGO)\n",
    "library(KEGGREST)"
   ]
  },
  {
   "cell_type": "code",
   "execution_count": 2,
   "id": "c8e9e4c9-3046-4687-b318-acc351c6381e",
   "metadata": {},
   "outputs": [
    {
     "name": "stderr",
     "output_type": "stream",
     "text": [
      "'getOption(\"repos\")' replaces Bioconductor standard repositories, see\n",
      "'help(\"repositories\", package = \"BiocManager\")' for details.\n",
      "Replacement repositories:\n",
      "    CRAN: https://cran.r-project.org\n",
      "\n",
      "Bioconductor version 3.18 (BiocManager 1.30.22), R 4.3.2 (2023-10-31)\n",
      "\n",
      "Warning message:\n",
      "“package(s) not installed when version(s) same as or greater than current; use\n",
      "  `force = TRUE` to re-install: 'Rgraphviz'”\n",
      "Installing package(s) 'org.Cr.virg.db'\n",
      "\n",
      "Warning message:\n",
      "“package ‘org.Cr.virg.db’ is not available for Bioconductor version '3.18'\n",
      "\n",
      "A version of this package for your version of R might be available elsewhere,\n",
      "see the ideas at\n",
      "https://cran.r-project.org/doc/manuals/r-patched/R-admin.html#Installing-packages”\n",
      "Old packages: 'BH', 'biomaRt', 'Biostrings', 'brew', 'brio', 'bslib',\n",
      "  'commonmark', 'cowplot', 'curl', 'data.table', 'DBI', 'desc', 'digest',\n",
      "  'GenomicAlignments', 'GenomicFeatures', 'ggfun', 'ggrepel', 'glue',\n",
      "  'GOSemSim', 'graphlayouts', 'haven', 'htmlwidgets', 'httpuv', 'igraph',\n",
      "  'MASS', 'Matrix', 'mgcv', 'nlme', 'patchwork', 'pbdZMQ', 'pkgbuild',\n",
      "  'pkgload', 'ps', 'ragg', 'Rcpp', 'RcppArmadillo', 'RCurl', 'readr', 'reprex',\n",
      "  'Rhtslib', 'rlang', 'scales', 'shadowtext', 'shiny', 'SparseArray',\n",
      "  'testthat', 'tidygraph', 'tidyr', 'timechange', 'uuid', 'viridis', 'vroom',\n",
      "  'withr', 'XML', 'xml2', 'yulab.utils', 'zip'\n",
      "\n"
     ]
    }
   ],
   "source": [
    "#source(\"https://bioconductor.org/biocLite.R\")\n",
    "BiocManager::install(c(\"org.Cr.virg.db\", \"Rgraphviz\"))"
   ]
  },
  {
   "cell_type": "markdown",
   "id": "2fcd86f6-5e93-4edb-adac-2dd1fe77f8cb",
   "metadata": {},
   "source": [
    "## Gene Ontology (GO) Enrichment\n",
    "\n",
    "### 1. topGO example using KS Testing"
   ]
  },
  {
   "cell_type": "code",
   "execution_count": 33,
   "id": "68507470-56ba-4562-b273-94fe7ef82903",
   "metadata": {},
   "outputs": [
    {
     "data": {
      "text/html": [
       "<table class=\"dataframe\">\n",
       "<caption>A data.frame: 6 × 7</caption>\n",
       "<thead>\n",
       "\t<tr><th></th><th scope=col>X</th><th scope=col>baseMean</th><th scope=col>log2FoldChange</th><th scope=col>lfcSE</th><th scope=col>stat</th><th scope=col>pvalue</th><th scope=col>padj</th></tr>\n",
       "\t<tr><th></th><th scope=col>&lt;chr&gt;</th><th scope=col>&lt;dbl&gt;</th><th scope=col>&lt;dbl&gt;</th><th scope=col>&lt;dbl&gt;</th><th scope=col>&lt;dbl&gt;</th><th scope=col>&lt;dbl&gt;</th><th scope=col>&lt;dbl&gt;</th></tr>\n",
       "</thead>\n",
       "<tbody>\n",
       "\t<tr><th scope=row>1</th><td>COX1        </td><td>0.000000</td><td>       NA</td><td>       NA</td><td>       NA</td><td>        NA</td><td>       NA</td></tr>\n",
       "\t<tr><th scope=row>2</th><td>COX2        </td><td>0.000000</td><td>       NA</td><td>       NA</td><td>       NA</td><td>        NA</td><td>       NA</td></tr>\n",
       "\t<tr><th scope=row>3</th><td>COX3        </td><td>0.000000</td><td>       NA</td><td>       NA</td><td>       NA</td><td>        NA</td><td>       NA</td></tr>\n",
       "\t<tr><th scope=row>4</th><td>CYTB        </td><td>0.000000</td><td>       NA</td><td>       NA</td><td>       NA</td><td>        NA</td><td>       NA</td></tr>\n",
       "\t<tr><th scope=row>5</th><td>LOC111099029</td><td>6.407219</td><td>-1.147078</td><td>0.6753391</td><td>-1.698521</td><td>0.08940949</td><td>0.3786324</td></tr>\n",
       "\t<tr><th scope=row>6</th><td>LOC111099030</td><td>0.000000</td><td>       NA</td><td>       NA</td><td>       NA</td><td>        NA</td><td>       NA</td></tr>\n",
       "</tbody>\n",
       "</table>\n"
      ],
      "text/latex": [
       "A data.frame: 6 × 7\n",
       "\\begin{tabular}{r|lllllll}\n",
       "  & X & baseMean & log2FoldChange & lfcSE & stat & pvalue & padj\\\\\n",
       "  & <chr> & <dbl> & <dbl> & <dbl> & <dbl> & <dbl> & <dbl>\\\\\n",
       "\\hline\n",
       "\t1 & COX1         & 0.000000 &        NA &        NA &        NA &         NA &        NA\\\\\n",
       "\t2 & COX2         & 0.000000 &        NA &        NA &        NA &         NA &        NA\\\\\n",
       "\t3 & COX3         & 0.000000 &        NA &        NA &        NA &         NA &        NA\\\\\n",
       "\t4 & CYTB         & 0.000000 &        NA &        NA &        NA &         NA &        NA\\\\\n",
       "\t5 & LOC111099029 & 6.407219 & -1.147078 & 0.6753391 & -1.698521 & 0.08940949 & 0.3786324\\\\\n",
       "\t6 & LOC111099030 & 0.000000 &        NA &        NA &        NA &         NA &        NA\\\\\n",
       "\\end{tabular}\n"
      ],
      "text/markdown": [
       "\n",
       "A data.frame: 6 × 7\n",
       "\n",
       "| <!--/--> | X &lt;chr&gt; | baseMean &lt;dbl&gt; | log2FoldChange &lt;dbl&gt; | lfcSE &lt;dbl&gt; | stat &lt;dbl&gt; | pvalue &lt;dbl&gt; | padj &lt;dbl&gt; |\n",
       "|---|---|---|---|---|---|---|---|\n",
       "| 1 | COX1         | 0.000000 |        NA |        NA |        NA |         NA |        NA |\n",
       "| 2 | COX2         | 0.000000 |        NA |        NA |        NA |         NA |        NA |\n",
       "| 3 | COX3         | 0.000000 |        NA |        NA |        NA |         NA |        NA |\n",
       "| 4 | CYTB         | 0.000000 |        NA |        NA |        NA |         NA |        NA |\n",
       "| 5 | LOC111099029 | 6.407219 | -1.147078 | 0.6753391 | -1.698521 | 0.08940949 | 0.3786324 |\n",
       "| 6 | LOC111099030 | 0.000000 |        NA |        NA |        NA |         NA |        NA |\n",
       "\n"
      ],
      "text/plain": [
       "  X            baseMean log2FoldChange lfcSE     stat      pvalue     padj     \n",
       "1 COX1         0.000000        NA             NA        NA         NA        NA\n",
       "2 COX2         0.000000        NA             NA        NA         NA        NA\n",
       "3 COX3         0.000000        NA             NA        NA         NA        NA\n",
       "4 CYTB         0.000000        NA             NA        NA         NA        NA\n",
       "5 LOC111099029 6.407219 -1.147078      0.6753391 -1.698521 0.08940949 0.3786324\n",
       "6 LOC111099030 0.000000        NA             NA        NA         NA        NA"
      ]
     },
     "metadata": {},
     "output_type": "display_data"
    }
   ],
   "source": [
    "infile <- read.csv('/project/pi_sarah_gignouxwolfsohn_uml_edu/julia/CE_MethylRAD_analysis_2018/analysis/GO_enrichment_analysis/sig_p1_wc_genes_ALL.csv')\n",
    "head(infile)"
   ]
  },
  {
   "cell_type": "markdown",
   "id": "15905c91-637b-4555-a422-d5e147e0897d",
   "metadata": {},
   "source": [
    "making sure my file is formatted like the example"
   ]
  },
  {
   "cell_type": "code",
   "execution_count": 34,
   "id": "f439a9c6-a585-496e-b6ec-4fc12c33b3b0",
   "metadata": {},
   "outputs": [
    {
     "data": {
      "text/html": [
       "<table class=\"dataframe\">\n",
       "<caption>A data.frame: 6 × 4</caption>\n",
       "<thead>\n",
       "\t<tr><th></th><th scope=col>gene</th><th scope=col>logFC</th><th scope=col>pval</th><th scope=col>padj</th></tr>\n",
       "\t<tr><th></th><th scope=col>&lt;chr&gt;</th><th scope=col>&lt;dbl&gt;</th><th scope=col>&lt;dbl&gt;</th><th scope=col>&lt;dbl&gt;</th></tr>\n",
       "</thead>\n",
       "<tbody>\n",
       "\t<tr><th scope=row>1</th><td>COX1        </td><td>       NA</td><td>        NA</td><td>       NA</td></tr>\n",
       "\t<tr><th scope=row>2</th><td>COX2        </td><td>       NA</td><td>        NA</td><td>       NA</td></tr>\n",
       "\t<tr><th scope=row>3</th><td>COX3        </td><td>       NA</td><td>        NA</td><td>       NA</td></tr>\n",
       "\t<tr><th scope=row>4</th><td>CYTB        </td><td>       NA</td><td>        NA</td><td>       NA</td></tr>\n",
       "\t<tr><th scope=row>5</th><td>LOC111099029</td><td>-1.147078</td><td>0.08940949</td><td>0.3786324</td></tr>\n",
       "\t<tr><th scope=row>6</th><td>LOC111099030</td><td>       NA</td><td>        NA</td><td>       NA</td></tr>\n",
       "</tbody>\n",
       "</table>\n"
      ],
      "text/latex": [
       "A data.frame: 6 × 4\n",
       "\\begin{tabular}{r|llll}\n",
       "  & gene & logFC & pval & padj\\\\\n",
       "  & <chr> & <dbl> & <dbl> & <dbl>\\\\\n",
       "\\hline\n",
       "\t1 & COX1         &        NA &         NA &        NA\\\\\n",
       "\t2 & COX2         &        NA &         NA &        NA\\\\\n",
       "\t3 & COX3         &        NA &         NA &        NA\\\\\n",
       "\t4 & CYTB         &        NA &         NA &        NA\\\\\n",
       "\t5 & LOC111099029 & -1.147078 & 0.08940949 & 0.3786324\\\\\n",
       "\t6 & LOC111099030 &        NA &         NA &        NA\\\\\n",
       "\\end{tabular}\n"
      ],
      "text/markdown": [
       "\n",
       "A data.frame: 6 × 4\n",
       "\n",
       "| <!--/--> | gene &lt;chr&gt; | logFC &lt;dbl&gt; | pval &lt;dbl&gt; | padj &lt;dbl&gt; |\n",
       "|---|---|---|---|---|\n",
       "| 1 | COX1         |        NA |         NA |        NA |\n",
       "| 2 | COX2         |        NA |         NA |        NA |\n",
       "| 3 | COX3         |        NA |         NA |        NA |\n",
       "| 4 | CYTB         |        NA |         NA |        NA |\n",
       "| 5 | LOC111099029 | -1.147078 | 0.08940949 | 0.3786324 |\n",
       "| 6 | LOC111099030 |        NA |         NA |        NA |\n",
       "\n"
      ],
      "text/plain": [
       "  gene         logFC     pval       padj     \n",
       "1 COX1                NA         NA        NA\n",
       "2 COX2                NA         NA        NA\n",
       "3 COX3                NA         NA        NA\n",
       "4 CYTB                NA         NA        NA\n",
       "5 LOC111099029 -1.147078 0.08940949 0.3786324\n",
       "6 LOC111099030        NA         NA        NA"
      ]
     },
     "metadata": {},
     "output_type": "display_data"
    }
   ],
   "source": [
    "# loading package to be able to use select() function\n",
    "library(dplyr)\n",
    "\n",
    "# selecting only columns I'll need\n",
    "tmp <- select(infile, X, log2FoldChange, pvalue, padj)\n",
    "\n",
    "# changing column names\n",
    "colnames(tmp) <- c('gene', 'logFC', 'pval', 'padj')\n",
    "head(tmp)\n",
    "\n",
    "write.csv(tmp, '/project/pi_sarah_gignouxwolfsohn_uml_edu/julia/CE_MethylRAD_analysis_2018/analysis/GO_enrichment_analysis/geneList.txt')"
   ]
  },
  {
   "cell_type": "code",
   "execution_count": 35,
   "id": "e5a78c81-610f-41a2-ac89-b75bfb60ff46",
   "metadata": {},
   "outputs": [
    {
     "data": {
      "text/html": [
       "'data.frame'"
      ],
      "text/latex": [
       "'data.frame'"
      ],
      "text/markdown": [
       "'data.frame'"
      ],
      "text/plain": [
       "[1] \"data.frame\""
      ]
     },
     "metadata": {},
     "output_type": "display_data"
    }
   ],
   "source": [
    "class(tmp) # df"
   ]
  },
  {
   "cell_type": "code",
   "execution_count": 36,
   "id": "195a4f73-d531-405a-a84e-a9cc676ed35f",
   "metadata": {},
   "outputs": [
    {
     "data": {
      "text/html": [
       "<style>\n",
       ".dl-inline {width: auto; margin:0; padding: 0}\n",
       ".dl-inline>dt, .dl-inline>dd {float: none; width: auto; display: inline-block}\n",
       ".dl-inline>dt::after {content: \":\\0020\"; padding-right: .5ex}\n",
       ".dl-inline>dt:not(:first-of-type) {padding-left: .5ex}\n",
       "</style><dl class=dl-inline><dt>COX1</dt><dd>&lt;NA&gt;</dd><dt>COX2</dt><dd>&lt;NA&gt;</dd><dt>COX3</dt><dd>&lt;NA&gt;</dd><dt>CYTB</dt><dd>&lt;NA&gt;</dd><dt>LOC111099029</dt><dd>0.0894094852576812</dd><dt>LOC111099030</dt><dd>&lt;NA&gt;</dd></dl>\n"
      ],
      "text/latex": [
       "\\begin{description*}\n",
       "\\item[COX1] <NA>\n",
       "\\item[COX2] <NA>\n",
       "\\item[COX3] <NA>\n",
       "\\item[CYTB] <NA>\n",
       "\\item[LOC111099029] 0.0894094852576812\n",
       "\\item[LOC111099030] <NA>\n",
       "\\end{description*}\n"
      ],
      "text/markdown": [
       "COX1\n",
       ":   &lt;NA&gt;COX2\n",
       ":   &lt;NA&gt;COX3\n",
       ":   &lt;NA&gt;CYTB\n",
       ":   &lt;NA&gt;LOC111099029\n",
       ":   0.0894094852576812LOC111099030\n",
       ":   &lt;NA&gt;\n",
       "\n"
      ],
      "text/plain": [
       "        COX1         COX2         COX3         CYTB LOC111099029 LOC111099030 \n",
       "          NA           NA           NA           NA   0.08940949           NA "
      ]
     },
     "metadata": {},
     "output_type": "display_data"
    },
    {
     "data": {
      "text/html": [
       "'numeric'"
      ],
      "text/latex": [
       "'numeric'"
      ],
      "text/markdown": [
       "'numeric'"
      ],
      "text/plain": [
       "[1] \"numeric\""
      ]
     },
     "metadata": {},
     "output_type": "display_data"
    }
   ],
   "source": [
    "geneList <- tmp$pval\n",
    "names(geneList) <- tmp$gene\n",
    "\n",
    "head(geneList)\n",
    "class(geneList) # numeric, used in allGenes for topGO object"
   ]
  },
  {
   "cell_type": "code",
   "execution_count": 37,
   "id": "5ae80b6d-45bb-490e-bf9f-a27261502662",
   "metadata": {},
   "outputs": [
    {
     "data": {
      "text/html": [
       "<table class=\"dataframe\">\n",
       "<caption>A data.frame: 6 × 2</caption>\n",
       "<thead>\n",
       "\t<tr><th></th><th scope=col>gene_name</th><th scope=col>GO_id</th></tr>\n",
       "\t<tr><th></th><th scope=col>&lt;chr&gt;</th><th scope=col>&lt;chr&gt;</th></tr>\n",
       "</thead>\n",
       "<tbody>\n",
       "\t<tr><th scope=row>1</th><td>LOC111106242</td><td>GO:0005737; GO:0006693; GO:0032440; GO:0047522            </td></tr>\n",
       "\t<tr><th scope=row>2</th><td>LOC111108431</td><td>GO:0005737; GO:0006693; GO:0032440; GO:0047522            </td></tr>\n",
       "\t<tr><th scope=row>3</th><td>LOC111118924</td><td>GO:0004315; GO:0006633; GO:0008757; GO:0016491; GO:0031177</td></tr>\n",
       "\t<tr><th scope=row>4</th><td>LOC111121098</td><td>GO:0005739; GO:0006869; GO:0008289; GO:0016747            </td></tr>\n",
       "\t<tr><th scope=row>5</th><td>LOC111121098</td><td>GO:0005739; GO:0006869; GO:0008289; GO:0016747            </td></tr>\n",
       "\t<tr><th scope=row>6</th><td>LOC111121707</td><td>GO:0004315; GO:0006633; GO:0008757; GO:0016491; GO:0031177</td></tr>\n",
       "</tbody>\n",
       "</table>\n"
      ],
      "text/latex": [
       "A data.frame: 6 × 2\n",
       "\\begin{tabular}{r|ll}\n",
       "  & gene\\_name & GO\\_id\\\\\n",
       "  & <chr> & <chr>\\\\\n",
       "\\hline\n",
       "\t1 & LOC111106242 & GO:0005737; GO:0006693; GO:0032440; GO:0047522            \\\\\n",
       "\t2 & LOC111108431 & GO:0005737; GO:0006693; GO:0032440; GO:0047522            \\\\\n",
       "\t3 & LOC111118924 & GO:0004315; GO:0006633; GO:0008757; GO:0016491; GO:0031177\\\\\n",
       "\t4 & LOC111121098 & GO:0005739; GO:0006869; GO:0008289; GO:0016747            \\\\\n",
       "\t5 & LOC111121098 & GO:0005739; GO:0006869; GO:0008289; GO:0016747            \\\\\n",
       "\t6 & LOC111121707 & GO:0004315; GO:0006633; GO:0008757; GO:0016491; GO:0031177\\\\\n",
       "\\end{tabular}\n"
      ],
      "text/markdown": [
       "\n",
       "A data.frame: 6 × 2\n",
       "\n",
       "| <!--/--> | gene_name &lt;chr&gt; | GO_id &lt;chr&gt; |\n",
       "|---|---|---|\n",
       "| 1 | LOC111106242 | GO:0005737; GO:0006693; GO:0032440; GO:0047522             |\n",
       "| 2 | LOC111108431 | GO:0005737; GO:0006693; GO:0032440; GO:0047522             |\n",
       "| 3 | LOC111118924 | GO:0004315; GO:0006633; GO:0008757; GO:0016491; GO:0031177 |\n",
       "| 4 | LOC111121098 | GO:0005739; GO:0006869; GO:0008289; GO:0016747             |\n",
       "| 5 | LOC111121098 | GO:0005739; GO:0006869; GO:0008289; GO:0016747             |\n",
       "| 6 | LOC111121707 | GO:0004315; GO:0006633; GO:0008757; GO:0016491; GO:0031177 |\n",
       "\n"
      ],
      "text/plain": [
       "  gene_name    GO_id                                                     \n",
       "1 LOC111106242 GO:0005737; GO:0006693; GO:0032440; GO:0047522            \n",
       "2 LOC111108431 GO:0005737; GO:0006693; GO:0032440; GO:0047522            \n",
       "3 LOC111118924 GO:0004315; GO:0006633; GO:0008757; GO:0016491; GO:0031177\n",
       "4 LOC111121098 GO:0005739; GO:0006869; GO:0008289; GO:0016747            \n",
       "5 LOC111121098 GO:0005739; GO:0006869; GO:0008289; GO:0016747            \n",
       "6 LOC111121707 GO:0004315; GO:0006633; GO:0008757; GO:0016491; GO:0031177"
      ]
     },
     "metadata": {},
     "output_type": "display_data"
    }
   ],
   "source": [
    "geneID2GO <- read.csv('/project/pi_sarah_gignouxwolfsohn_uml_edu/julia/CE_MethylRAD_analysis_2018/analysis/GO_enrichment_analysis/gene_GOid.csv')\n",
    "#rownames(geneID2GO) = geneID2GO$gene_name\n",
    "head(geneID2GO)\n",
    "\n",
    "#write.csv(geneID2GO, '/project/pi_sarah_gignouxwolfsohn_uml_edu/julia/CE_MethylRAD_analysis_2018/analysis/GO_enrichment_analysis/gene_GOid.txt')"
   ]
  },
  {
   "cell_type": "markdown",
   "id": "679941c0-ffb4-45c4-9c6e-17cf76ffdbc8",
   "metadata": {},
   "source": [
    "there's a problem because each row needs to be a unique gene... "
   ]
  },
  {
   "cell_type": "code",
   "execution_count": 38,
   "id": "6987ee0c-3dc9-4881-bd9a-1cc60660526a",
   "metadata": {},
   "outputs": [
    {
     "data": {
      "text/html": [
       "<table class=\"dataframe\">\n",
       "<caption>A tibble: 6 × 2</caption>\n",
       "<thead>\n",
       "\t<tr><th scope=col>gene_name</th><th scope=col>metadata</th></tr>\n",
       "\t<tr><th scope=col>&lt;chr&gt;</th><th scope=col>&lt;chr&gt;</th></tr>\n",
       "</thead>\n",
       "<tbody>\n",
       "\t<tr><td>    </td><td>GO:0046872;GO:0005576; GO:0045087; GO:0050829; GO:0050830;GO:0004867; GO:0005615;GO:0000786; GO:0003677; GO:0005634; GO:0030527; GO:0046982;GO:0004222; GO:0006508; GO:0008270; GO:0031012;GO:0005509; GO:0005788; GO:0006457; GO:0051082;GO:0005509; GO:0005783; GO:0006457; GO:0051082;GO:0000781; GO:0003677; GO:0003721; GO:0005634; GO:0046872;GO:0004129; GO:0005743; GO:0006119; GO:0020037; GO:0046872; GO:0070469;GO:0004129; GO:0005743; GO:0006119; GO:0020037; GO:0046872; GO:0070469;GO:0005524; GO:0005737; GO:0005856; GO:0016787;GO:0004129; GO:0005743; GO:0006119; GO:0020037; GO:0046872; GO:0070469;GO:0005743; GO:0009055; GO:0022904; GO:0046872; GO:0070469;GO:0005509;GO:0005737; GO:0008757; GO:0016226; GO:0051536;GO:0004176; GO:0004252; GO:0005524; GO:0006508; GO:0016887; GO:0030163;GO:0016620; GO:0051287;GO:0046872; GO:0051539;GO:0006508; GO:0008234;GO:0006508; GO:0008234;GO:0004713; GO:0005524; GO:0016310;GO:0003677; GO:0005634;GO:0006839; GO:0031966;GO:0016020;GO:0009916; GO:0016020; GO:0043229; GO:0046872;GO:0005506; GO:0016705; GO:0031418; GO:0051213;GO:0003746; GO:0005525;GO:0003746; GO:0005525;GO:0003729; GO:0046872;GO:0006629; GO:0008374;GO:0005507; GO:0006801;GO:0000981; GO:0003677; GO:0005634;GO:0016020;GO:0016020;GO:0016020;GO:0016020;GO:0003755;GO:0016020;GO:0015035;GO:0004497; GO:0005506; GO:0016705; GO:0020037                                                                                                                                                                                                                                                                                                                                                                                                                                                                                                                                                                                                                                                                                                                                                                                                                                                                                                                                                                    </td></tr>\n",
       "\t<tr><td>ATP6</td><td>GO:0005739; GO:0006754; GO:0016787; GO:0045263; GO:1902600                                                                                                                                                                                                                                                                                                                                                                                                                                                                                                                                                                                                                                                                                                                                                                                                                                                                                                                                                                                                                                                                                                                                                                                                                                                                                                                                                                                                                                                                                                                                                                                                                                                                                                                                                                                                                                                                                                                                                                                                                                                                                                                                                                                                                                                                                                     </td></tr>\n",
       "\t<tr><td>Biap</td><td>                                                                                                                                                                                                                                                                                                                                                                                                                                                                                                                                                                                                                                                                                                                                                                                                                                                                                                                                                                                                                                                                                                                                                                                                                                                                                                                                                                                                                                                                                                                                                                                                                                                                                                                                                                                                                                                                                                                                                                                                                                                                                                                                                                                                                                                                                                                                                               </td></tr>\n",
       "\t<tr><td>COI </td><td>GO:0004129; GO:0005743; GO:0006119; GO:0020037; GO:0046872; GO:0070469;GO:0004129; GO:0005743; GO:0006119; GO:0020037; GO:0046872; GO:0070469;GO:0004129; GO:0005743; GO:0006119; GO:0020037; GO:0046872; GO:0070469;GO:0004129; GO:0005743; GO:0006119; GO:0020037; GO:0046872; GO:0070469;GO:0004129; GO:0005743; GO:0006119; GO:0020037; GO:0046872; GO:0070469;GO:0004129; GO:0005743; GO:0006119; GO:0020037; GO:0046872; GO:0070469;GO:0004129; GO:0005743; GO:0006119; GO:0020037; GO:0046872; GO:0070469;GO:0004129; GO:0005743; GO:0006119; GO:0020037; GO:0046872; GO:0070469;GO:0004129; GO:0005743; GO:0006119; GO:0020037; GO:0046872; GO:0070469;GO:0004129; GO:0005743; GO:0006119; GO:0020037; GO:0046872; GO:0070469;GO:0004129; GO:0005743; GO:0006119; GO:0020037; GO:0046872; GO:0070469;GO:0004129; GO:0005743; GO:0006119; GO:0020037; GO:0046872; GO:0070469;GO:0004129; GO:0005743; GO:0006119; GO:0020037; GO:0046872; GO:0070469;GO:0004129; GO:0005743; GO:0006119; GO:0020037; GO:0046872; GO:0070469;GO:0004129; GO:0005743; GO:0006119; GO:0020037; GO:0046872; GO:0070469;GO:0004129; GO:0005743; GO:0006119; GO:0020037; GO:0046872; GO:0070469;GO:0004129; GO:0005743; GO:0006119; GO:0020037; GO:0046872; GO:0070469;GO:0004129; GO:0005743; GO:0006119; GO:0020037; GO:0046872; GO:0070469;GO:0004129; GO:0005743; GO:0006119; GO:0020037; GO:0046872; GO:0070469;GO:0004129; GO:0005743; GO:0006119; GO:0020037; GO:0046872; GO:0070469;GO:0004129; GO:0005743; GO:0006119; GO:0020037; GO:0046872; GO:0070469;GO:0004129; GO:0005743; GO:0006119; GO:0020037; GO:0046872; GO:0070469;GO:0004129; GO:0005743; GO:0006119; GO:0020037; GO:0046872; GO:0070469;GO:0004129; GO:0005743; GO:0006119; GO:0020037; GO:0046872; GO:0070469;GO:0004129; GO:0005743; GO:0006119; GO:0020037; GO:0046872; GO:0070469;GO:0004129; GO:0005743; GO:0006119; GO:0020037; GO:0046872; GO:0070469;GO:0004129; GO:0005743; GO:0006119; GO:0020037; GO:0046872; GO:0070469;GO:0004129; GO:0005743; GO:0006119; GO:0020037; GO:0046872; GO:0070469;GO:0004129; GO:0005743; GO:0006119; GO:0020037; GO:0046872; GO:0070469;GO:0004129; GO:0005743; GO:0006119; GO:0020037; GO:0046872; GO:0070469;GO:0004129; GO:0005743; GO:0006119; GO:0020037; GO:0046872; GO:0070469;GO:0004129; GO:0005743; GO:0006119; GO:0020037; GO:0046872; GO:0070469</td></tr>\n",
       "\t<tr><td>COX1</td><td>GO:0004129; GO:0005743; GO:0006119; GO:0020037; GO:0046872; GO:0070469;GO:0004129; GO:0005743; GO:0006119; GO:0020037; GO:0046872; GO:0070469;GO:0004129; GO:0005743; GO:0006119; GO:0020037; GO:0046872; GO:0070469                                                                                                                                                                                                                                                                                                                                                                                                                                                                                                                                                                                                                                                                                                                                                                                                                                                                                                                                                                                                                                                                                                                                                                                                                                                                                                                                                                                                                                                                                                                                                                                                                                                                                                                                                                                                                                                                                                                                                                                                                                                                                                                                           </td></tr>\n",
       "\t<tr><td>COX2</td><td>GO:0004129; GO:0005507; GO:0005743; GO:0070469                                                                                                                                                                                                                                                                                                                                                                                                                                                                                                                                                                                                                                                                                                                                                                                                                                                                                                                                                                                                                                                                                                                                                                                                                                                                                                                                                                                                                                                                                                                                                                                                                                                                                                                                                                                                                                                                                                                                                                                                                                                                                                                                                                                                                                                                                                                 </td></tr>\n",
       "</tbody>\n",
       "</table>\n"
      ],
      "text/latex": [
       "A tibble: 6 × 2\n",
       "\\begin{tabular}{ll}\n",
       " gene\\_name & metadata\\\\\n",
       " <chr> & <chr>\\\\\n",
       "\\hline\n",
       "\t      & GO:0046872;GO:0005576; GO:0045087; GO:0050829; GO:0050830;GO:0004867; GO:0005615;GO:0000786; GO:0003677; GO:0005634; GO:0030527; GO:0046982;GO:0004222; GO:0006508; GO:0008270; GO:0031012;GO:0005509; GO:0005788; GO:0006457; GO:0051082;GO:0005509; GO:0005783; GO:0006457; GO:0051082;GO:0000781; GO:0003677; GO:0003721; GO:0005634; GO:0046872;GO:0004129; GO:0005743; GO:0006119; GO:0020037; GO:0046872; GO:0070469;GO:0004129; GO:0005743; GO:0006119; GO:0020037; GO:0046872; GO:0070469;GO:0005524; GO:0005737; GO:0005856; GO:0016787;GO:0004129; GO:0005743; GO:0006119; GO:0020037; GO:0046872; GO:0070469;GO:0005743; GO:0009055; GO:0022904; GO:0046872; GO:0070469;GO:0005509;GO:0005737; GO:0008757; GO:0016226; GO:0051536;GO:0004176; GO:0004252; GO:0005524; GO:0006508; GO:0016887; GO:0030163;GO:0016620; GO:0051287;GO:0046872; GO:0051539;GO:0006508; GO:0008234;GO:0006508; GO:0008234;GO:0004713; GO:0005524; GO:0016310;GO:0003677; GO:0005634;GO:0006839; GO:0031966;GO:0016020;GO:0009916; GO:0016020; GO:0043229; GO:0046872;GO:0005506; GO:0016705; GO:0031418; GO:0051213;GO:0003746; GO:0005525;GO:0003746; GO:0005525;GO:0003729; GO:0046872;GO:0006629; GO:0008374;GO:0005507; GO:0006801;GO:0000981; GO:0003677; GO:0005634;GO:0016020;GO:0016020;GO:0016020;GO:0016020;GO:0003755;GO:0016020;GO:0015035;GO:0004497; GO:0005506; GO:0016705; GO:0020037                                                                                                                                                                                                                                                                                                                                                                                                                                                                                                                                                                                                                                                                                                                                                                                                                                                                                                                                                                    \\\\\n",
       "\t ATP6 & GO:0005739; GO:0006754; GO:0016787; GO:0045263; GO:1902600                                                                                                                                                                                                                                                                                                                                                                                                                                                                                                                                                                                                                                                                                                                                                                                                                                                                                                                                                                                                                                                                                                                                                                                                                                                                                                                                                                                                                                                                                                                                                                                                                                                                                                                                                                                                                                                                                                                                                                                                                                                                                                                                                                                                                                                                                                     \\\\\n",
       "\t Biap &                                                                                                                                                                                                                                                                                                                                                                                                                                                                                                                                                                                                                                                                                                                                                                                                                                                                                                                                                                                                                                                                                                                                                                                                                                                                                                                                                                                                                                                                                                                                                                                                                                                                                                                                                                                                                                                                                                                                                                                                                                                                                                                                                                                                                                                                                                                                                                \\\\\n",
       "\t COI  & GO:0004129; GO:0005743; GO:0006119; GO:0020037; GO:0046872; GO:0070469;GO:0004129; GO:0005743; GO:0006119; GO:0020037; GO:0046872; GO:0070469;GO:0004129; GO:0005743; GO:0006119; GO:0020037; GO:0046872; GO:0070469;GO:0004129; GO:0005743; GO:0006119; GO:0020037; GO:0046872; GO:0070469;GO:0004129; GO:0005743; GO:0006119; GO:0020037; GO:0046872; GO:0070469;GO:0004129; GO:0005743; GO:0006119; GO:0020037; GO:0046872; GO:0070469;GO:0004129; GO:0005743; GO:0006119; GO:0020037; GO:0046872; GO:0070469;GO:0004129; GO:0005743; GO:0006119; GO:0020037; GO:0046872; GO:0070469;GO:0004129; GO:0005743; GO:0006119; GO:0020037; GO:0046872; GO:0070469;GO:0004129; GO:0005743; GO:0006119; GO:0020037; GO:0046872; GO:0070469;GO:0004129; GO:0005743; GO:0006119; GO:0020037; GO:0046872; GO:0070469;GO:0004129; GO:0005743; GO:0006119; GO:0020037; GO:0046872; GO:0070469;GO:0004129; GO:0005743; GO:0006119; GO:0020037; GO:0046872; GO:0070469;GO:0004129; GO:0005743; GO:0006119; GO:0020037; GO:0046872; GO:0070469;GO:0004129; GO:0005743; GO:0006119; GO:0020037; GO:0046872; GO:0070469;GO:0004129; GO:0005743; GO:0006119; GO:0020037; GO:0046872; GO:0070469;GO:0004129; GO:0005743; GO:0006119; GO:0020037; GO:0046872; GO:0070469;GO:0004129; GO:0005743; GO:0006119; GO:0020037; GO:0046872; GO:0070469;GO:0004129; GO:0005743; GO:0006119; GO:0020037; GO:0046872; GO:0070469;GO:0004129; GO:0005743; GO:0006119; GO:0020037; GO:0046872; GO:0070469;GO:0004129; GO:0005743; GO:0006119; GO:0020037; GO:0046872; GO:0070469;GO:0004129; GO:0005743; GO:0006119; GO:0020037; GO:0046872; GO:0070469;GO:0004129; GO:0005743; GO:0006119; GO:0020037; GO:0046872; GO:0070469;GO:0004129; GO:0005743; GO:0006119; GO:0020037; GO:0046872; GO:0070469;GO:0004129; GO:0005743; GO:0006119; GO:0020037; GO:0046872; GO:0070469;GO:0004129; GO:0005743; GO:0006119; GO:0020037; GO:0046872; GO:0070469;GO:0004129; GO:0005743; GO:0006119; GO:0020037; GO:0046872; GO:0070469;GO:0004129; GO:0005743; GO:0006119; GO:0020037; GO:0046872; GO:0070469;GO:0004129; GO:0005743; GO:0006119; GO:0020037; GO:0046872; GO:0070469;GO:0004129; GO:0005743; GO:0006119; GO:0020037; GO:0046872; GO:0070469;GO:0004129; GO:0005743; GO:0006119; GO:0020037; GO:0046872; GO:0070469;GO:0004129; GO:0005743; GO:0006119; GO:0020037; GO:0046872; GO:0070469\\\\\n",
       "\t COX1 & GO:0004129; GO:0005743; GO:0006119; GO:0020037; GO:0046872; GO:0070469;GO:0004129; GO:0005743; GO:0006119; GO:0020037; GO:0046872; GO:0070469;GO:0004129; GO:0005743; GO:0006119; GO:0020037; GO:0046872; GO:0070469                                                                                                                                                                                                                                                                                                                                                                                                                                                                                                                                                                                                                                                                                                                                                                                                                                                                                                                                                                                                                                                                                                                                                                                                                                                                                                                                                                                                                                                                                                                                                                                                                                                                                                                                                                                                                                                                                                                                                                                                                                                                                                                                           \\\\\n",
       "\t COX2 & GO:0004129; GO:0005507; GO:0005743; GO:0070469                                                                                                                                                                                                                                                                                                                                                                                                                                                                                                                                                                                                                                                                                                                                                                                                                                                                                                                                                                                                                                                                                                                                                                                                                                                                                                                                                                                                                                                                                                                                                                                                                                                                                                                                                                                                                                                                                                                                                                                                                                                                                                                                                                                                                                                                                                                 \\\\\n",
       "\\end{tabular}\n"
      ],
      "text/markdown": [
       "\n",
       "A tibble: 6 × 2\n",
       "\n",
       "| gene_name &lt;chr&gt; | metadata &lt;chr&gt; |\n",
       "|---|---|\n",
       "| <!----> | GO:0046872;GO:0005576; GO:0045087; GO:0050829; GO:0050830;GO:0004867; GO:0005615;GO:0000786; GO:0003677; GO:0005634; GO:0030527; GO:0046982;GO:0004222; GO:0006508; GO:0008270; GO:0031012;GO:0005509; GO:0005788; GO:0006457; GO:0051082;GO:0005509; GO:0005783; GO:0006457; GO:0051082;GO:0000781; GO:0003677; GO:0003721; GO:0005634; GO:0046872;GO:0004129; GO:0005743; GO:0006119; GO:0020037; GO:0046872; GO:0070469;GO:0004129; GO:0005743; GO:0006119; GO:0020037; GO:0046872; GO:0070469;GO:0005524; GO:0005737; GO:0005856; GO:0016787;GO:0004129; GO:0005743; GO:0006119; GO:0020037; GO:0046872; GO:0070469;GO:0005743; GO:0009055; GO:0022904; GO:0046872; GO:0070469;GO:0005509;GO:0005737; GO:0008757; GO:0016226; GO:0051536;GO:0004176; GO:0004252; GO:0005524; GO:0006508; GO:0016887; GO:0030163;GO:0016620; GO:0051287;GO:0046872; GO:0051539;GO:0006508; GO:0008234;GO:0006508; GO:0008234;GO:0004713; GO:0005524; GO:0016310;GO:0003677; GO:0005634;GO:0006839; GO:0031966;GO:0016020;GO:0009916; GO:0016020; GO:0043229; GO:0046872;GO:0005506; GO:0016705; GO:0031418; GO:0051213;GO:0003746; GO:0005525;GO:0003746; GO:0005525;GO:0003729; GO:0046872;GO:0006629; GO:0008374;GO:0005507; GO:0006801;GO:0000981; GO:0003677; GO:0005634;GO:0016020;GO:0016020;GO:0016020;GO:0016020;GO:0003755;GO:0016020;GO:0015035;GO:0004497; GO:0005506; GO:0016705; GO:0020037                                                                                                                                                                                                                                                                                                                                                                                                                                                                                                                                                                                                                                                                                                                                                                                                                                                                                                                                                                     |\n",
       "| ATP6 | GO:0005739; GO:0006754; GO:0016787; GO:0045263; GO:1902600                                                                                                                                                                                                                                                                                                                                                                                                                                                                                                                                                                                                                                                                                                                                                                                                                                                                                                                                                                                                                                                                                                                                                                                                                                                                                                                                                                                                                                                                                                                                                                                                                                                                                                                                                                                                                                                                                                                                                                                                                                                                                                                                                                                                                                                                                                      |\n",
       "| Biap | <!----> |\n",
       "| COI  | GO:0004129; GO:0005743; GO:0006119; GO:0020037; GO:0046872; GO:0070469;GO:0004129; GO:0005743; GO:0006119; GO:0020037; GO:0046872; GO:0070469;GO:0004129; GO:0005743; GO:0006119; GO:0020037; GO:0046872; GO:0070469;GO:0004129; GO:0005743; GO:0006119; GO:0020037; GO:0046872; GO:0070469;GO:0004129; GO:0005743; GO:0006119; GO:0020037; GO:0046872; GO:0070469;GO:0004129; GO:0005743; GO:0006119; GO:0020037; GO:0046872; GO:0070469;GO:0004129; GO:0005743; GO:0006119; GO:0020037; GO:0046872; GO:0070469;GO:0004129; GO:0005743; GO:0006119; GO:0020037; GO:0046872; GO:0070469;GO:0004129; GO:0005743; GO:0006119; GO:0020037; GO:0046872; GO:0070469;GO:0004129; GO:0005743; GO:0006119; GO:0020037; GO:0046872; GO:0070469;GO:0004129; GO:0005743; GO:0006119; GO:0020037; GO:0046872; GO:0070469;GO:0004129; GO:0005743; GO:0006119; GO:0020037; GO:0046872; GO:0070469;GO:0004129; GO:0005743; GO:0006119; GO:0020037; GO:0046872; GO:0070469;GO:0004129; GO:0005743; GO:0006119; GO:0020037; GO:0046872; GO:0070469;GO:0004129; GO:0005743; GO:0006119; GO:0020037; GO:0046872; GO:0070469;GO:0004129; GO:0005743; GO:0006119; GO:0020037; GO:0046872; GO:0070469;GO:0004129; GO:0005743; GO:0006119; GO:0020037; GO:0046872; GO:0070469;GO:0004129; GO:0005743; GO:0006119; GO:0020037; GO:0046872; GO:0070469;GO:0004129; GO:0005743; GO:0006119; GO:0020037; GO:0046872; GO:0070469;GO:0004129; GO:0005743; GO:0006119; GO:0020037; GO:0046872; GO:0070469;GO:0004129; GO:0005743; GO:0006119; GO:0020037; GO:0046872; GO:0070469;GO:0004129; GO:0005743; GO:0006119; GO:0020037; GO:0046872; GO:0070469;GO:0004129; GO:0005743; GO:0006119; GO:0020037; GO:0046872; GO:0070469;GO:0004129; GO:0005743; GO:0006119; GO:0020037; GO:0046872; GO:0070469;GO:0004129; GO:0005743; GO:0006119; GO:0020037; GO:0046872; GO:0070469;GO:0004129; GO:0005743; GO:0006119; GO:0020037; GO:0046872; GO:0070469;GO:0004129; GO:0005743; GO:0006119; GO:0020037; GO:0046872; GO:0070469;GO:0004129; GO:0005743; GO:0006119; GO:0020037; GO:0046872; GO:0070469;GO:0004129; GO:0005743; GO:0006119; GO:0020037; GO:0046872; GO:0070469;GO:0004129; GO:0005743; GO:0006119; GO:0020037; GO:0046872; GO:0070469;GO:0004129; GO:0005743; GO:0006119; GO:0020037; GO:0046872; GO:0070469;GO:0004129; GO:0005743; GO:0006119; GO:0020037; GO:0046872; GO:0070469 |\n",
       "| COX1 | GO:0004129; GO:0005743; GO:0006119; GO:0020037; GO:0046872; GO:0070469;GO:0004129; GO:0005743; GO:0006119; GO:0020037; GO:0046872; GO:0070469;GO:0004129; GO:0005743; GO:0006119; GO:0020037; GO:0046872; GO:0070469                                                                                                                                                                                                                                                                                                                                                                                                                                                                                                                                                                                                                                                                                                                                                                                                                                                                                                                                                                                                                                                                                                                                                                                                                                                                                                                                                                                                                                                                                                                                                                                                                                                                                                                                                                                                                                                                                                                                                                                                                                                                                                                                            |\n",
       "| COX2 | GO:0004129; GO:0005507; GO:0005743; GO:0070469                                                                                                                                                                                                                                                                                                                                                                                                                                                                                                                                                                                                                                                                                                                                                                                                                                                                                                                                                                                                                                                                                                                                                                                                                                                                                                                                                                                                                                                                                                                                                                                                                                                                                                                                                                                                                                                                                                                                                                                                                                                                                                                                                                                                                                                                                                                  |\n",
       "\n"
      ],
      "text/plain": [
       "  gene_name\n",
       "1          \n",
       "2 ATP6     \n",
       "3 Biap     \n",
       "4 COI      \n",
       "5 COX1     \n",
       "6 COX2     \n",
       "  metadata                                                                                                                                                                                                                                                                                                                                                                                                                                                                                                                                                                                                                                                                                                                                                                                                                                                                                                                                                                                                                                                                                                                                                                                                                                                                                                                                                                                                                                                                                                                                                                                                                                                                                                                                                                                                                                                                                                                                                                                                                                                                                                                                                                                                                                                                                                                                                       \n",
       "1 GO:0046872;GO:0005576; GO:0045087; GO:0050829; GO:0050830;GO:0004867; GO:0005615;GO:0000786; GO:0003677; GO:0005634; GO:0030527; GO:0046982;GO:0004222; GO:0006508; GO:0008270; GO:0031012;GO:0005509; GO:0005788; GO:0006457; GO:0051082;GO:0005509; GO:0005783; GO:0006457; GO:0051082;GO:0000781; GO:0003677; GO:0003721; GO:0005634; GO:0046872;GO:0004129; GO:0005743; GO:0006119; GO:0020037; GO:0046872; GO:0070469;GO:0004129; GO:0005743; GO:0006119; GO:0020037; GO:0046872; GO:0070469;GO:0005524; GO:0005737; GO:0005856; GO:0016787;GO:0004129; GO:0005743; GO:0006119; GO:0020037; GO:0046872; GO:0070469;GO:0005743; GO:0009055; GO:0022904; GO:0046872; GO:0070469;GO:0005509;GO:0005737; GO:0008757; GO:0016226; GO:0051536;GO:0004176; GO:0004252; GO:0005524; GO:0006508; GO:0016887; GO:0030163;GO:0016620; GO:0051287;GO:0046872; GO:0051539;GO:0006508; GO:0008234;GO:0006508; GO:0008234;GO:0004713; GO:0005524; GO:0016310;GO:0003677; GO:0005634;GO:0006839; GO:0031966;GO:0016020;GO:0009916; GO:0016020; GO:0043229; GO:0046872;GO:0005506; GO:0016705; GO:0031418; GO:0051213;GO:0003746; GO:0005525;GO:0003746; GO:0005525;GO:0003729; GO:0046872;GO:0006629; GO:0008374;GO:0005507; GO:0006801;GO:0000981; GO:0003677; GO:0005634;GO:0016020;GO:0016020;GO:0016020;GO:0016020;GO:0003755;GO:0016020;GO:0015035;GO:0004497; GO:0005506; GO:0016705; GO:0020037                                                                                                                                                                                                                                                                                                                                                                                                                                                                                                                                                                                                                                                                                                                                                                                                                                                                                                                                                                    \n",
       "2 GO:0005739; GO:0006754; GO:0016787; GO:0045263; GO:1902600                                                                                                                                                                                                                                                                                                                                                                                                                                                                                                                                                                                                                                                                                                                                                                                                                                                                                                                                                                                                                                                                                                                                                                                                                                                                                                                                                                                                                                                                                                                                                                                                                                                                                                                                                                                                                                                                                                                                                                                                                                                                                                                                                                                                                                                                                                     \n",
       "3                                                                                                                                                                                                                                                                                                                                                                                                                                                                                                                                                                                                                                                                                                                                                                                                                                                                                                                                                                                                                                                                                                                                                                                                                                                                                                                                                                                                                                                                                                                                                                                                                                                                                                                                                                                                                                                                                                                                                                                                                                                                                                                                                                                                                                                                                                                                                                \n",
       "4 GO:0004129; GO:0005743; GO:0006119; GO:0020037; GO:0046872; GO:0070469;GO:0004129; GO:0005743; GO:0006119; GO:0020037; GO:0046872; GO:0070469;GO:0004129; GO:0005743; GO:0006119; GO:0020037; GO:0046872; GO:0070469;GO:0004129; GO:0005743; GO:0006119; GO:0020037; GO:0046872; GO:0070469;GO:0004129; GO:0005743; GO:0006119; GO:0020037; GO:0046872; GO:0070469;GO:0004129; GO:0005743; GO:0006119; GO:0020037; GO:0046872; GO:0070469;GO:0004129; GO:0005743; GO:0006119; GO:0020037; GO:0046872; GO:0070469;GO:0004129; GO:0005743; GO:0006119; GO:0020037; GO:0046872; GO:0070469;GO:0004129; GO:0005743; GO:0006119; GO:0020037; GO:0046872; GO:0070469;GO:0004129; GO:0005743; GO:0006119; GO:0020037; GO:0046872; GO:0070469;GO:0004129; GO:0005743; GO:0006119; GO:0020037; GO:0046872; GO:0070469;GO:0004129; GO:0005743; GO:0006119; GO:0020037; GO:0046872; GO:0070469;GO:0004129; GO:0005743; GO:0006119; GO:0020037; GO:0046872; GO:0070469;GO:0004129; GO:0005743; GO:0006119; GO:0020037; GO:0046872; GO:0070469;GO:0004129; GO:0005743; GO:0006119; GO:0020037; GO:0046872; GO:0070469;GO:0004129; GO:0005743; GO:0006119; GO:0020037; GO:0046872; GO:0070469;GO:0004129; GO:0005743; GO:0006119; GO:0020037; GO:0046872; GO:0070469;GO:0004129; GO:0005743; GO:0006119; GO:0020037; GO:0046872; GO:0070469;GO:0004129; GO:0005743; GO:0006119; GO:0020037; GO:0046872; GO:0070469;GO:0004129; GO:0005743; GO:0006119; GO:0020037; GO:0046872; GO:0070469;GO:0004129; GO:0005743; GO:0006119; GO:0020037; GO:0046872; GO:0070469;GO:0004129; GO:0005743; GO:0006119; GO:0020037; GO:0046872; GO:0070469;GO:0004129; GO:0005743; GO:0006119; GO:0020037; GO:0046872; GO:0070469;GO:0004129; GO:0005743; GO:0006119; GO:0020037; GO:0046872; GO:0070469;GO:0004129; GO:0005743; GO:0006119; GO:0020037; GO:0046872; GO:0070469;GO:0004129; GO:0005743; GO:0006119; GO:0020037; GO:0046872; GO:0070469;GO:0004129; GO:0005743; GO:0006119; GO:0020037; GO:0046872; GO:0070469;GO:0004129; GO:0005743; GO:0006119; GO:0020037; GO:0046872; GO:0070469;GO:0004129; GO:0005743; GO:0006119; GO:0020037; GO:0046872; GO:0070469;GO:0004129; GO:0005743; GO:0006119; GO:0020037; GO:0046872; GO:0070469;GO:0004129; GO:0005743; GO:0006119; GO:0020037; GO:0046872; GO:0070469;GO:0004129; GO:0005743; GO:0006119; GO:0020037; GO:0046872; GO:0070469\n",
       "5 GO:0004129; GO:0005743; GO:0006119; GO:0020037; GO:0046872; GO:0070469;GO:0004129; GO:0005743; GO:0006119; GO:0020037; GO:0046872; GO:0070469;GO:0004129; GO:0005743; GO:0006119; GO:0020037; GO:0046872; GO:0070469                                                                                                                                                                                                                                                                                                                                                                                                                                                                                                                                                                                                                                                                                                                                                                                                                                                                                                                                                                                                                                                                                                                                                                                                                                                                                                                                                                                                                                                                                                                                                                                                                                                                                                                                                                                                                                                                                                                                                                                                                                                                                                                                           \n",
       "6 GO:0004129; GO:0005507; GO:0005743; GO:0070469                                                                                                                                                                                                                                                                                                                                                                                                                                                                                                                                                                                                                                                                                                                                                                                                                                                                                                                                                                                                                                                                                                                                                                                                                                                                                                                                                                                                                                                                                                                                                                                                                                                                                                                                                                                                                                                                                                                                                                                                                                                                                                                                                                                                                                                                                                                 "
      ]
     },
     "metadata": {},
     "output_type": "display_data"
    }
   ],
   "source": [
    "# Group by gene and clean up metadata with semicolon between GO terms\n",
    "results <- geneID2GO %>% group_by(gene_name) %>% summarise(metadata = ifelse(all(is.na(GO_id)), \n",
    "                                                                             NA, \n",
    "                                                                             gsub(\"^\\\\s*;|;\\\\s*$\", \"\", gsub(\";+\", \";\", paste(na.omit(GO_id), collapse = \";\")))))\n",
    "\n",
    "# result_df now contains unique genes with concatenated metadata using semicolon\n",
    "head(results)\n",
    "# did further manipulation in excel (bc it was easier)\n",
    "#write.csv(results, '/project/pi_sarah_gignouxwolfsohn_uml_edu/julia/CE_MethylRAD_analysis_2018/analysis/GO_enrichment_analysis/geneID2GO.txt')"
   ]
  },
  {
   "cell_type": "code",
   "execution_count": 39,
   "id": "690dd473-d4fb-4210-b125-895e9d3eeb6e",
   "metadata": {},
   "outputs": [],
   "source": [
    "## NEED , BETWEEN GO TERMS NOT ;\n",
    "\n",
    "# Read the content of the file into a character vector\n",
    "file_path <- \"/project/pi_sarah_gignouxwolfsohn_uml_edu/julia/CE_MethylRAD_analysis_2018/analysis/GO_enrichment_analysis/geneID2GO.txt\"\n",
    "file_content <- readLines(file_path, warn = FALSE)\n",
    "\n",
    "# Replace ';' with ','\n",
    "file_content <- gsub(\";\", \",\", file_content)\n",
    "\n",
    "# Write the modified content back to the file\n",
    "writeLines(file_content, file_path)"
   ]
  },
  {
   "cell_type": "code",
   "execution_count": 40,
   "id": "3105c15d-a9b9-4c0c-bcb8-22070dd88a4e",
   "metadata": {},
   "outputs": [
    {
     "data": {
      "text/html": [
       "<table class=\"dataframe\">\n",
       "<caption>A data.frame: 6 × 2</caption>\n",
       "<thead>\n",
       "\t<tr><th></th><th scope=col>gene</th><th scope=col>GO_id</th></tr>\n",
       "\t<tr><th></th><th scope=col>&lt;chr&gt;</th><th scope=col>&lt;chr&gt;</th></tr>\n",
       "</thead>\n",
       "<tbody>\n",
       "\t<tr><th scope=row>1</th><td>LOC111133408</td><td>GO:2001070           </td></tr>\n",
       "\t<tr><th scope=row>2</th><td>LOC111121603</td><td>GO:2000781,GO:2000781</td></tr>\n",
       "\t<tr><th scope=row>3</th><td>LOC111132389</td><td>GO:2000145           </td></tr>\n",
       "\t<tr><th scope=row>4</th><td>LOC111115105</td><td>GO:1990904,GO:1990904</td></tr>\n",
       "\t<tr><th scope=row>5</th><td>LOC111129853</td><td>GO:1990904,GO:1990904</td></tr>\n",
       "\t<tr><th scope=row>6</th><td>LOC111101512</td><td>GO:1990904           </td></tr>\n",
       "</tbody>\n",
       "</table>\n"
      ],
      "text/latex": [
       "A data.frame: 6 × 2\n",
       "\\begin{tabular}{r|ll}\n",
       "  & gene & GO\\_id\\\\\n",
       "  & <chr> & <chr>\\\\\n",
       "\\hline\n",
       "\t1 & LOC111133408 & GO:2001070           \\\\\n",
       "\t2 & LOC111121603 & GO:2000781,GO:2000781\\\\\n",
       "\t3 & LOC111132389 & GO:2000145           \\\\\n",
       "\t4 & LOC111115105 & GO:1990904,GO:1990904\\\\\n",
       "\t5 & LOC111129853 & GO:1990904,GO:1990904\\\\\n",
       "\t6 & LOC111101512 & GO:1990904           \\\\\n",
       "\\end{tabular}\n"
      ],
      "text/markdown": [
       "\n",
       "A data.frame: 6 × 2\n",
       "\n",
       "| <!--/--> | gene &lt;chr&gt; | GO_id &lt;chr&gt; |\n",
       "|---|---|---|\n",
       "| 1 | LOC111133408 | GO:2001070            |\n",
       "| 2 | LOC111121603 | GO:2000781,GO:2000781 |\n",
       "| 3 | LOC111132389 | GO:2000145            |\n",
       "| 4 | LOC111115105 | GO:1990904,GO:1990904 |\n",
       "| 5 | LOC111129853 | GO:1990904,GO:1990904 |\n",
       "| 6 | LOC111101512 | GO:1990904            |\n",
       "\n"
      ],
      "text/plain": [
       "  gene         GO_id                \n",
       "1 LOC111133408 GO:2001070           \n",
       "2 LOC111121603 GO:2000781,GO:2000781\n",
       "3 LOC111132389 GO:2000145           \n",
       "4 LOC111115105 GO:1990904,GO:1990904\n",
       "5 LOC111129853 GO:1990904,GO:1990904\n",
       "6 LOC111101512 GO:1990904           "
      ]
     },
     "metadata": {},
     "output_type": "display_data"
    },
    {
     "data": {
      "text/html": [
       "<style>\n",
       ".list-inline {list-style: none; margin:0; padding: 0}\n",
       ".list-inline>li {display: inline-block}\n",
       ".list-inline>li:not(:last-child)::after {content: \"\\00b7\"; padding: 0 .5ex}\n",
       "</style>\n",
       "<ol class=list-inline><li>22654</li><li>2</li></ol>\n"
      ],
      "text/latex": [
       "\\begin{enumerate*}\n",
       "\\item 22654\n",
       "\\item 2\n",
       "\\end{enumerate*}\n"
      ],
      "text/markdown": [
       "1. 22654\n",
       "2. 2\n",
       "\n",
       "\n"
      ],
      "text/plain": [
       "[1] 22654     2"
      ]
     },
     "metadata": {},
     "output_type": "display_data"
    }
   ],
   "source": [
    "geneID2GO <- read.csv('/project/pi_sarah_gignouxwolfsohn_uml_edu/julia/CE_MethylRAD_analysis_2018/analysis/GO_enrichment_analysis/geneID2GO.txt', sep='\\t')\n",
    "colnames(geneID2GO) = c('gene','GO_id')\n",
    "head(geneID2GO)\n",
    "dim(geneID2GO) # have 22,654 unique genes that have GO annotations"
   ]
  },
  {
   "cell_type": "code",
   "execution_count": 41,
   "id": "306e965f-45ce-4fb7-b40e-dc65fdf3ed15",
   "metadata": {},
   "outputs": [
    {
     "data": {
      "text/html": [
       "<dl>\n",
       "\t<dt>$LOC111133408</dt>\n",
       "\t\t<dd>'GO:2001070'</dd>\n",
       "\t<dt>$LOC111121603</dt>\n",
       "\t\t<dd><style>\n",
       ".list-inline {list-style: none; margin:0; padding: 0}\n",
       ".list-inline>li {display: inline-block}\n",
       ".list-inline>li:not(:last-child)::after {content: \"\\00b7\"; padding: 0 .5ex}\n",
       "</style>\n",
       "<ol class=list-inline><li>'GO:2000781'</li><li>'GO:2000781'</li></ol>\n",
       "</dd>\n",
       "\t<dt>$LOC111132389</dt>\n",
       "\t\t<dd>'GO:2000145'</dd>\n",
       "\t<dt>$LOC111115105</dt>\n",
       "\t\t<dd><style>\n",
       ".list-inline {list-style: none; margin:0; padding: 0}\n",
       ".list-inline>li {display: inline-block}\n",
       ".list-inline>li:not(:last-child)::after {content: \"\\00b7\"; padding: 0 .5ex}\n",
       "</style>\n",
       "<ol class=list-inline><li>'GO:1990904'</li><li>'GO:1990904'</li></ol>\n",
       "</dd>\n",
       "\t<dt>$LOC111129853</dt>\n",
       "\t\t<dd><style>\n",
       ".list-inline {list-style: none; margin:0; padding: 0}\n",
       ".list-inline>li {display: inline-block}\n",
       ".list-inline>li:not(:last-child)::after {content: \"\\00b7\"; padding: 0 .5ex}\n",
       "</style>\n",
       "<ol class=list-inline><li>'GO:1990904'</li><li>'GO:1990904'</li></ol>\n",
       "</dd>\n",
       "\t<dt>$LOC111101512</dt>\n",
       "\t\t<dd>'GO:1990904'</dd>\n",
       "</dl>\n"
      ],
      "text/latex": [
       "\\begin{description}\n",
       "\\item[\\$LOC111133408] 'GO:2001070'\n",
       "\\item[\\$LOC111121603] \\begin{enumerate*}\n",
       "\\item 'GO:2000781'\n",
       "\\item 'GO:2000781'\n",
       "\\end{enumerate*}\n",
       "\n",
       "\\item[\\$LOC111132389] 'GO:2000145'\n",
       "\\item[\\$LOC111115105] \\begin{enumerate*}\n",
       "\\item 'GO:1990904'\n",
       "\\item 'GO:1990904'\n",
       "\\end{enumerate*}\n",
       "\n",
       "\\item[\\$LOC111129853] \\begin{enumerate*}\n",
       "\\item 'GO:1990904'\n",
       "\\item 'GO:1990904'\n",
       "\\end{enumerate*}\n",
       "\n",
       "\\item[\\$LOC111101512] 'GO:1990904'\n",
       "\\end{description}\n"
      ],
      "text/markdown": [
       "$LOC111133408\n",
       ":   'GO:2001070'\n",
       "$LOC111121603\n",
       ":   1. 'GO:2000781'\n",
       "2. 'GO:2000781'\n",
       "\n",
       "\n",
       "\n",
       "$LOC111132389\n",
       ":   'GO:2000145'\n",
       "$LOC111115105\n",
       ":   1. 'GO:1990904'\n",
       "2. 'GO:1990904'\n",
       "\n",
       "\n",
       "\n",
       "$LOC111129853\n",
       ":   1. 'GO:1990904'\n",
       "2. 'GO:1990904'\n",
       "\n",
       "\n",
       "\n",
       "$LOC111101512\n",
       ":   'GO:1990904'\n",
       "\n",
       "\n"
      ],
      "text/plain": [
       "$LOC111133408\n",
       "[1] \"GO:2001070\"\n",
       "\n",
       "$LOC111121603\n",
       "[1] \"GO:2000781\" \"GO:2000781\"\n",
       "\n",
       "$LOC111132389\n",
       "[1] \"GO:2000145\"\n",
       "\n",
       "$LOC111115105\n",
       "[1] \"GO:1990904\" \"GO:1990904\"\n",
       "\n",
       "$LOC111129853\n",
       "[1] \"GO:1990904\" \"GO:1990904\"\n",
       "\n",
       "$LOC111101512\n",
       "[1] \"GO:1990904\"\n"
      ]
     },
     "metadata": {},
     "output_type": "display_data"
    }
   ],
   "source": [
    "# have to create annotation file\n",
    "geneID2GO <- readMappings(file = '/project/pi_sarah_gignouxwolfsohn_uml_edu/julia/CE_MethylRAD_analysis_2018/analysis/GO_enrichment_analysis/geneID2GO.txt')\n",
    "geneID2GO <- geneID2GO[-1] # removes header\n",
    "head(geneID2GO)\n"
   ]
  },
  {
   "cell_type": "code",
   "execution_count": 42,
   "id": "410beb9e-659d-4b49-9718-04d4455dbfe7",
   "metadata": {},
   "outputs": [
    {
     "data": {
      "text/html": [
       "<style>\n",
       ".list-inline {list-style: none; margin:0; padding: 0}\n",
       ".list-inline>li {display: inline-block}\n",
       ".list-inline>li:not(:last-child)::after {content: \"\\00b7\"; padding: 0 .5ex}\n",
       "</style>\n",
       "<ol class=list-inline><li>'LOC111133408'</li><li>'LOC111121603'</li><li>'LOC111132389'</li><li>'LOC111115105'</li><li>'LOC111129853'</li><li>'LOC111101512'</li></ol>\n"
      ],
      "text/latex": [
       "\\begin{enumerate*}\n",
       "\\item 'LOC111133408'\n",
       "\\item 'LOC111121603'\n",
       "\\item 'LOC111132389'\n",
       "\\item 'LOC111115105'\n",
       "\\item 'LOC111129853'\n",
       "\\item 'LOC111101512'\n",
       "\\end{enumerate*}\n"
      ],
      "text/markdown": [
       "1. 'LOC111133408'\n",
       "2. 'LOC111121603'\n",
       "3. 'LOC111132389'\n",
       "4. 'LOC111115105'\n",
       "5. 'LOC111129853'\n",
       "6. 'LOC111101512'\n",
       "\n",
       "\n"
      ],
      "text/plain": [
       "[1] \"LOC111133408\" \"LOC111121603\" \"LOC111132389\" \"LOC111115105\" \"LOC111129853\"\n",
       "[6] \"LOC111101512\""
      ]
     },
     "metadata": {},
     "output_type": "display_data"
    }
   ],
   "source": [
    "geneNames <- names(geneID2GO)\n",
    "head(geneNames)"
   ]
  },
  {
   "cell_type": "code",
   "execution_count": 43,
   "id": "945dbfea-cd03-4230-bec4-eb27a17333ec",
   "metadata": {},
   "outputs": [
    {
     "data": {
      "text/html": [
       "<style>\n",
       ".dl-inline {width: auto; margin:0; padding: 0}\n",
       ".dl-inline>dt, .dl-inline>dd {float: none; width: auto; display: inline-block}\n",
       ".dl-inline>dt::after {content: \":\\0020\"; padding-right: .5ex}\n",
       ".dl-inline>dt:not(:first-of-type) {padding-left: .5ex}\n",
       "</style><dl class=dl-inline><dt>COX1</dt><dd>0</dd><dt>COX2</dt><dd>0</dd><dt>COX3</dt><dd>0</dd><dt>CYTB</dt><dd>0</dd><dt>LOC111099029</dt><dd>0.0894094852576812</dd><dt>LOC111099030</dt><dd>0</dd></dl>\n"
      ],
      "text/latex": [
       "\\begin{description*}\n",
       "\\item[COX1] 0\n",
       "\\item[COX2] 0\n",
       "\\item[COX3] 0\n",
       "\\item[CYTB] 0\n",
       "\\item[LOC111099029] 0.0894094852576812\n",
       "\\item[LOC111099030] 0\n",
       "\\end{description*}\n"
      ],
      "text/markdown": [
       "COX1\n",
       ":   0COX2\n",
       ":   0COX3\n",
       ":   0CYTB\n",
       ":   0LOC111099029\n",
       ":   0.0894094852576812LOC111099030\n",
       ":   0\n",
       "\n"
      ],
      "text/plain": [
       "        COX1         COX2         COX3         CYTB LOC111099029 LOC111099030 \n",
       "  0.00000000   0.00000000   0.00000000   0.00000000   0.08940949   0.00000000 "
      ]
     },
     "metadata": {},
     "output_type": "display_data"
    },
    {
     "data": {
      "text/html": [
       "39504"
      ],
      "text/latex": [
       "39504"
      ],
      "text/markdown": [
       "39504"
      ],
      "text/plain": [
       "[1] 39504"
      ]
     },
     "metadata": {},
     "output_type": "display_data"
    }
   ],
   "source": [
    "# Assuming your dataframe is named 'your_df'\n",
    "geneList <- replace(geneList, is.na(geneList), 0)\n",
    "\n",
    "# Display the modified dataframe\n",
    "head(geneList)\n",
    "length(geneList)\n"
   ]
  },
  {
   "cell_type": "code",
   "execution_count": 44,
   "id": "92a46b87-3468-44fe-bbf6-e51b3b4571fa",
   "metadata": {},
   "outputs": [
    {
     "data": {
      "text/html": [
       "22397"
      ],
      "text/latex": [
       "22397"
      ],
      "text/markdown": [
       "22397"
      ],
      "text/plain": [
       "[1] 22397"
      ]
     },
     "metadata": {},
     "output_type": "display_data"
    }
   ],
   "source": [
    "topDiffGenes <- function(allScore) {\n",
    "    return(allScore < 0.01)\n",
    "}\n",
    "\n",
    "x <- topDiffGenes(geneList)\n",
    "sum(x) ## the number of selected genes"
   ]
  },
  {
   "cell_type": "markdown",
   "id": "e1a463b0-3540-4c3b-98aa-b4fafcbc2f9d",
   "metadata": {},
   "source": [
    "GO analysis for **molecular function**"
   ]
  },
  {
   "cell_type": "code",
   "execution_count": 45,
   "id": "653324ca-8e2b-433b-a845-0bc0344a3f4f",
   "metadata": {},
   "outputs": [
    {
     "name": "stderr",
     "output_type": "stream",
     "text": [
      "\n",
      "Building most specific GOs .....\n",
      "\n",
      "\t( 1276 GO terms found. )\n",
      "\n",
      "\n",
      "Build GO DAG topology ..........\n",
      "\n",
      "\t( 1733 GO terms and 2266 relations. )\n",
      "\n",
      "\n",
      "Annotating nodes ...............\n",
      "\n",
      "\t( 15613 genes annotated to the GO terms. )\n",
      "\n"
     ]
    }
   ],
   "source": [
    " GOdata_MF <- new(\"topGOdata\", \n",
    "               description = 'all genes in phase 1 warm vs. control',\n",
    "               ontology = \"MF\", \n",
    "               allGenes = geneList,\n",
    "               geneSel = topDiffGenes,\n",
    "               annot = annFUN.gene2GO, \n",
    "               gene2GO = geneID2GO)"
   ]
  },
  {
   "cell_type": "code",
   "execution_count": 46,
   "id": "2142229d-6bb6-4036-9f85-b0fa56adce84",
   "metadata": {},
   "outputs": [
    {
     "data": {
      "text/plain": [
       "\n",
       "------------------------- topGOdata object -------------------------\n",
       "\n",
       " Description:\n",
       "   -  all genes in phase 1 warm vs. control \n",
       "\n",
       " Ontology:\n",
       "   -  MF \n",
       "\n",
       " 39504 available genes (all genes from the array):\n",
       "   - symbol:  COX1 COX2 COX3 CYTB LOC111099029  ...\n",
       "   - score :  0 0 0 0 0.08940948526  ...\n",
       "   - 22397  significant genes. \n",
       "\n",
       " 15613 feasible genes (genes that can be used in the analysis):\n",
       "   - symbol:  COX1 COX2 COX3 CYTB LOC111099029  ...\n",
       "   - score :  0 0 0 0 0.08940948526  ...\n",
       "   - 7257  significant genes. \n",
       "\n",
       " GO graph (nodes with at least  1  genes):\n",
       "   - a graph with directed edges\n",
       "   - number of nodes = 1733 \n",
       "   - number of edges = 2266 \n",
       "\n",
       "------------------------- topGOdata object -------------------------\n"
      ]
     },
     "metadata": {},
     "output_type": "display_data"
    }
   ],
   "source": [
    "GOdata_MF"
   ]
  },
  {
   "cell_type": "code",
   "execution_count": 47,
   "id": "76607a94-14ee-47ae-84d0-ff8986f36ed4",
   "metadata": {},
   "outputs": [
    {
     "name": "stderr",
     "output_type": "stream",
     "text": [
      "\n",
      "\t\t\t -- Weight01 Algorithm -- \n",
      "\n",
      "\t\t the algorithm is scoring 1733 nontrivial nodes\n",
      "\t\t parameters: \n",
      "\t\t\t test statistic: ks\n",
      "\t\t\t score order: increasing\n",
      "\n",
      "\n",
      "\t Level 13:\t1 nodes to be scored\t(0 eliminated genes)\n",
      "\n",
      "\n",
      "\t Level 12:\t3 nodes to be scored\t(0 eliminated genes)\n",
      "\n",
      "\n",
      "\t Level 11:\t7 nodes to be scored\t(2 eliminated genes)\n",
      "\n",
      "\n",
      "\t Level 10:\t24 nodes to be scored\t(42 eliminated genes)\n",
      "\n",
      "\n",
      "\t Level 9:\t94 nodes to be scored\t(79 eliminated genes)\n",
      "\n",
      "\n",
      "\t Level 8:\t161 nodes to be scored\t(219 eliminated genes)\n",
      "\n",
      "\n",
      "\t Level 7:\t345 nodes to be scored\t(2426 eliminated genes)\n",
      "\n",
      "\n",
      "\t Level 6:\t509 nodes to be scored\t(3266 eliminated genes)\n",
      "\n",
      "\n",
      "\t Level 5:\t304 nodes to be scored\t(6678 eliminated genes)\n",
      "\n",
      "\n",
      "\t Level 4:\t201 nodes to be scored\t(9425 eliminated genes)\n",
      "\n",
      "\n",
      "\t Level 3:\t64 nodes to be scored\t(12865 eliminated genes)\n",
      "\n",
      "\n",
      "\t Level 2:\t19 nodes to be scored\t(13922 eliminated genes)\n",
      "\n",
      "\n",
      "\t Level 1:\t1 nodes to be scored\t(15529 eliminated genes)\n",
      "\n"
     ]
    }
   ],
   "source": [
    "resultKS <- runTest(GOdata_MF, algorithm = \"weight01\", statistic = \"ks\")"
   ]
  },
  {
   "cell_type": "code",
   "execution_count": 48,
   "id": "8c942c2c-26f8-4f29-b6f6-cf014b4533a2",
   "metadata": {},
   "outputs": [],
   "source": [
    "tab_MF <- GenTable(GOdata_MF, raw.p.value = resultKS, topNodes = length(resultKS@score), numChar = 120)"
   ]
  },
  {
   "cell_type": "code",
   "execution_count": 49,
   "id": "aaf9cc6b-17bd-418b-8403-91e59c7b87eb",
   "metadata": {},
   "outputs": [
    {
     "data": {
      "text/html": [
       "<table class=\"dataframe\">\n",
       "<caption>A data.frame: 15 × 6</caption>\n",
       "<thead>\n",
       "\t<tr><th></th><th scope=col>GO.ID</th><th scope=col>Term</th><th scope=col>Annotated</th><th scope=col>Significant</th><th scope=col>Expected</th><th scope=col>raw.p.value</th></tr>\n",
       "\t<tr><th></th><th scope=col>&lt;chr&gt;</th><th scope=col>&lt;chr&gt;</th><th scope=col>&lt;int&gt;</th><th scope=col>&lt;int&gt;</th><th scope=col>&lt;dbl&gt;</th><th scope=col>&lt;chr&gt;</th></tr>\n",
       "</thead>\n",
       "<tbody>\n",
       "\t<tr><th scope=row>1</th><td>GO:0005044</td><td><span style=white-space:pre-wrap>scavenger receptor activity                               </span></td><td> 591</td><td> 434</td><td> 274.70</td><td>&lt; 1e-30</td></tr>\n",
       "\t<tr><th scope=row>2</th><td>GO:0004888</td><td><span style=white-space:pre-wrap>transmembrane signaling receptor activity                 </span></td><td>1162</td><td> 794</td><td> 540.10</td><td>&lt; 1e-30</td></tr>\n",
       "\t<tr><th scope=row>3</th><td>GO:0008270</td><td><span style=white-space:pre-wrap>zinc ion binding                                          </span></td><td>2070</td><td>1070</td><td> 962.15</td><td>&lt; 1e-30</td></tr>\n",
       "\t<tr><th scope=row>4</th><td>GO:0004930</td><td><span style=white-space:pre-wrap>G protein-coupled receptor activity                       </span></td><td> 729</td><td> 493</td><td> 338.84</td><td>&lt; 1e-30</td></tr>\n",
       "\t<tr><th scope=row>5</th><td>GO:0005230</td><td>extracellular ligand-gated monoatomic ion channel activity</td><td> 227</td><td> 152</td><td> 105.51</td><td>4.4e-16</td></tr>\n",
       "\t<tr><th scope=row>6</th><td>GO:0003676</td><td>nucleic acid binding                                      </td><td>2443</td><td>1157</td><td>1135.52</td><td>7.8e-16</td></tr>\n",
       "\t<tr><th scope=row>7</th><td>GO:0004725</td><td>protein tyrosine phosphatase activity                     </td><td> 276</td><td> 149</td><td> 128.29</td><td>2.6e-14</td></tr>\n",
       "\t<tr><th scope=row>8</th><td>GO:0004867</td><td>serine-type endopeptidase inhibitor activity              </td><td> 116</td><td>  90</td><td>  53.92</td><td>2.3e-13</td></tr>\n",
       "\t<tr><th scope=row>9</th><td>GO:0003677</td><td>DNA binding                                               </td><td>1192</td><td> 632</td><td> 554.05</td><td>3.7e-13</td></tr>\n",
       "\t<tr><th scope=row>10</th><td>GO:0030527</td><td>structural constituent of chromatin                       </td><td>  48</td><td>  43</td><td>  22.31</td><td>4.3e-11</td></tr>\n",
       "\t<tr><th scope=row>11</th><td>GO:0008191</td><td>metalloendopeptidase inhibitor activity                   </td><td>  43</td><td>  32</td><td>  19.99</td><td>3.3e-10</td></tr>\n",
       "\t<tr><th scope=row>12</th><td>GO:0003887</td><td>DNA-directed DNA polymerase activity                      </td><td>  73</td><td>  57</td><td>  33.93</td><td>1.4e-09</td></tr>\n",
       "\t<tr><th scope=row>13</th><td>GO:0030414</td><td>peptidase inhibitor activity                              </td><td> 223</td><td> 167</td><td> 103.65</td><td>2.5e-06</td></tr>\n",
       "\t<tr><th scope=row>14</th><td>GO:0008528</td><td>G protein-coupled peptide receptor activity               </td><td> 122</td><td>  76</td><td>  56.71</td><td>7.9e-06</td></tr>\n",
       "\t<tr><th scope=row>15</th><td>GO:0008146</td><td>sulfotransferase activity                                 </td><td>  74</td><td>  52</td><td>  34.40</td><td>8.6e-05</td></tr>\n",
       "</tbody>\n",
       "</table>\n"
      ],
      "text/latex": [
       "A data.frame: 15 × 6\n",
       "\\begin{tabular}{r|llllll}\n",
       "  & GO.ID & Term & Annotated & Significant & Expected & raw.p.value\\\\\n",
       "  & <chr> & <chr> & <int> & <int> & <dbl> & <chr>\\\\\n",
       "\\hline\n",
       "\t1 & GO:0005044 & scavenger receptor activity                                &  591 &  434 &  274.70 & < 1e-30\\\\\n",
       "\t2 & GO:0004888 & transmembrane signaling receptor activity                  & 1162 &  794 &  540.10 & < 1e-30\\\\\n",
       "\t3 & GO:0008270 & zinc ion binding                                           & 2070 & 1070 &  962.15 & < 1e-30\\\\\n",
       "\t4 & GO:0004930 & G protein-coupled receptor activity                        &  729 &  493 &  338.84 & < 1e-30\\\\\n",
       "\t5 & GO:0005230 & extracellular ligand-gated monoatomic ion channel activity &  227 &  152 &  105.51 & 4.4e-16\\\\\n",
       "\t6 & GO:0003676 & nucleic acid binding                                       & 2443 & 1157 & 1135.52 & 7.8e-16\\\\\n",
       "\t7 & GO:0004725 & protein tyrosine phosphatase activity                      &  276 &  149 &  128.29 & 2.6e-14\\\\\n",
       "\t8 & GO:0004867 & serine-type endopeptidase inhibitor activity               &  116 &   90 &   53.92 & 2.3e-13\\\\\n",
       "\t9 & GO:0003677 & DNA binding                                                & 1192 &  632 &  554.05 & 3.7e-13\\\\\n",
       "\t10 & GO:0030527 & structural constituent of chromatin                        &   48 &   43 &   22.31 & 4.3e-11\\\\\n",
       "\t11 & GO:0008191 & metalloendopeptidase inhibitor activity                    &   43 &   32 &   19.99 & 3.3e-10\\\\\n",
       "\t12 & GO:0003887 & DNA-directed DNA polymerase activity                       &   73 &   57 &   33.93 & 1.4e-09\\\\\n",
       "\t13 & GO:0030414 & peptidase inhibitor activity                               &  223 &  167 &  103.65 & 2.5e-06\\\\\n",
       "\t14 & GO:0008528 & G protein-coupled peptide receptor activity                &  122 &   76 &   56.71 & 7.9e-06\\\\\n",
       "\t15 & GO:0008146 & sulfotransferase activity                                  &   74 &   52 &   34.40 & 8.6e-05\\\\\n",
       "\\end{tabular}\n"
      ],
      "text/markdown": [
       "\n",
       "A data.frame: 15 × 6\n",
       "\n",
       "| <!--/--> | GO.ID &lt;chr&gt; | Term &lt;chr&gt; | Annotated &lt;int&gt; | Significant &lt;int&gt; | Expected &lt;dbl&gt; | raw.p.value &lt;chr&gt; |\n",
       "|---|---|---|---|---|---|---|\n",
       "| 1 | GO:0005044 | scavenger receptor activity                                |  591 |  434 |  274.70 | &lt; 1e-30 |\n",
       "| 2 | GO:0004888 | transmembrane signaling receptor activity                  | 1162 |  794 |  540.10 | &lt; 1e-30 |\n",
       "| 3 | GO:0008270 | zinc ion binding                                           | 2070 | 1070 |  962.15 | &lt; 1e-30 |\n",
       "| 4 | GO:0004930 | G protein-coupled receptor activity                        |  729 |  493 |  338.84 | &lt; 1e-30 |\n",
       "| 5 | GO:0005230 | extracellular ligand-gated monoatomic ion channel activity |  227 |  152 |  105.51 | 4.4e-16 |\n",
       "| 6 | GO:0003676 | nucleic acid binding                                       | 2443 | 1157 | 1135.52 | 7.8e-16 |\n",
       "| 7 | GO:0004725 | protein tyrosine phosphatase activity                      |  276 |  149 |  128.29 | 2.6e-14 |\n",
       "| 8 | GO:0004867 | serine-type endopeptidase inhibitor activity               |  116 |   90 |   53.92 | 2.3e-13 |\n",
       "| 9 | GO:0003677 | DNA binding                                                | 1192 |  632 |  554.05 | 3.7e-13 |\n",
       "| 10 | GO:0030527 | structural constituent of chromatin                        |   48 |   43 |   22.31 | 4.3e-11 |\n",
       "| 11 | GO:0008191 | metalloendopeptidase inhibitor activity                    |   43 |   32 |   19.99 | 3.3e-10 |\n",
       "| 12 | GO:0003887 | DNA-directed DNA polymerase activity                       |   73 |   57 |   33.93 | 1.4e-09 |\n",
       "| 13 | GO:0030414 | peptidase inhibitor activity                               |  223 |  167 |  103.65 | 2.5e-06 |\n",
       "| 14 | GO:0008528 | G protein-coupled peptide receptor activity                |  122 |   76 |   56.71 | 7.9e-06 |\n",
       "| 15 | GO:0008146 | sulfotransferase activity                                  |   74 |   52 |   34.40 | 8.6e-05 |\n",
       "\n"
      ],
      "text/plain": [
       "   GO.ID      Term                                                      \n",
       "1  GO:0005044 scavenger receptor activity                               \n",
       "2  GO:0004888 transmembrane signaling receptor activity                 \n",
       "3  GO:0008270 zinc ion binding                                          \n",
       "4  GO:0004930 G protein-coupled receptor activity                       \n",
       "5  GO:0005230 extracellular ligand-gated monoatomic ion channel activity\n",
       "6  GO:0003676 nucleic acid binding                                      \n",
       "7  GO:0004725 protein tyrosine phosphatase activity                     \n",
       "8  GO:0004867 serine-type endopeptidase inhibitor activity              \n",
       "9  GO:0003677 DNA binding                                               \n",
       "10 GO:0030527 structural constituent of chromatin                       \n",
       "11 GO:0008191 metalloendopeptidase inhibitor activity                   \n",
       "12 GO:0003887 DNA-directed DNA polymerase activity                      \n",
       "13 GO:0030414 peptidase inhibitor activity                              \n",
       "14 GO:0008528 G protein-coupled peptide receptor activity               \n",
       "15 GO:0008146 sulfotransferase activity                                 \n",
       "   Annotated Significant Expected raw.p.value\n",
       "1   591       434         274.70  < 1e-30    \n",
       "2  1162       794         540.10  < 1e-30    \n",
       "3  2070      1070         962.15  < 1e-30    \n",
       "4   729       493         338.84  < 1e-30    \n",
       "5   227       152         105.51  4.4e-16    \n",
       "6  2443      1157        1135.52  7.8e-16    \n",
       "7   276       149         128.29  2.6e-14    \n",
       "8   116        90          53.92  2.3e-13    \n",
       "9  1192       632         554.05  3.7e-13    \n",
       "10   48        43          22.31  4.3e-11    \n",
       "11   43        32          19.99  3.3e-10    \n",
       "12   73        57          33.93  1.4e-09    \n",
       "13  223       167         103.65  2.5e-06    \n",
       "14  122        76          56.71  7.9e-06    \n",
       "15   74        52          34.40  8.6e-05    "
      ]
     },
     "metadata": {},
     "output_type": "display_data"
    }
   ],
   "source": [
    "head(tab_MF, 15)"
   ]
  },
  {
   "cell_type": "markdown",
   "id": "3d660439-068c-4ac5-9c96-2182ebfdc8c2",
   "metadata": {},
   "source": [
    "GO analysis for **cellular components**"
   ]
  },
  {
   "cell_type": "code",
   "execution_count": 52,
   "id": "a674a73c-520b-4abd-809e-7be84e71d68a",
   "metadata": {},
   "outputs": [
    {
     "name": "stderr",
     "output_type": "stream",
     "text": [
      "\n",
      "Building most specific GOs .....\n",
      "\n",
      "\t( 492 GO terms found. )\n",
      "\n",
      "\n",
      "Build GO DAG topology ..........\n",
      "\n",
      "\t( 705 GO terms and 1219 relations. )\n",
      "\n",
      "\n",
      "Annotating nodes ...............\n",
      "\n",
      "\t( 14701 genes annotated to the GO terms. )\n",
      "\n"
     ]
    },
    {
     "data": {
      "text/plain": [
       "\n",
       "------------------------- topGOdata object -------------------------\n",
       "\n",
       " Description:\n",
       "   -  all genes in phase 1 warm vs. control \n",
       "\n",
       " Ontology:\n",
       "   -  CC \n",
       "\n",
       " 39504 available genes (all genes from the array):\n",
       "   - symbol:  COX1 COX2 COX3 CYTB LOC111099029  ...\n",
       "   - score :  0 0 0 0 0.08940948526  ...\n",
       "   - 22397  significant genes. \n",
       "\n",
       " 14701 feasible genes (genes that can be used in the analysis):\n",
       "   - symbol:  COX1 COX2 COX3 CYTB LOC111099029  ...\n",
       "   - score :  0 0 0 0 0.08940948526  ...\n",
       "   - 6961  significant genes. \n",
       "\n",
       " GO graph (nodes with at least  1  genes):\n",
       "   - a graph with directed edges\n",
       "   - number of nodes = 705 \n",
       "   - number of edges = 1219 \n",
       "\n",
       "------------------------- topGOdata object -------------------------\n"
      ]
     },
     "metadata": {},
     "output_type": "display_data"
    }
   ],
   "source": [
    "GOdata_CC <- new(\"topGOdata\",\n",
    "                 description = 'all genes in phase 1 warm vs. control',\n",
    "                 ontology = \"CC\",\n",
    "                 allGenes = geneList,\n",
    "                 geneSel = topDiffGenes,\n",
    "                 annot = annFUN.gene2GO,\n",
    "                 gene2GO = geneID2GO)\n",
    "\n",
    "GOdata_CC"
   ]
  },
  {
   "cell_type": "code",
   "execution_count": 53,
   "id": "a4feba99-57a2-44d3-b5be-ac550b658059",
   "metadata": {},
   "outputs": [
    {
     "name": "stderr",
     "output_type": "stream",
     "text": [
      "\n",
      "\t\t\t -- Weight01 Algorithm -- \n",
      "\n",
      "\t\t the algorithm is scoring 705 nontrivial nodes\n",
      "\t\t parameters: \n",
      "\t\t\t test statistic: ks\n",
      "\t\t\t score order: increasing\n",
      "\n",
      "\n",
      "\t Level 13:\t3 nodes to be scored\t(0 eliminated genes)\n",
      "\n",
      "\n",
      "\t Level 12:\t10 nodes to be scored\t(0 eliminated genes)\n",
      "\n",
      "\n",
      "\t Level 11:\t27 nodes to be scored\t(8 eliminated genes)\n",
      "\n",
      "\n",
      "\t Level 10:\t73 nodes to be scored\t(27 eliminated genes)\n",
      "\n",
      "\n",
      "\t Level 9:\t108 nodes to be scored\t(99 eliminated genes)\n",
      "\n",
      "\n",
      "\t Level 8:\t112 nodes to be scored\t(336 eliminated genes)\n",
      "\n",
      "\n",
      "\t Level 7:\t91 nodes to be scored\t(772 eliminated genes)\n",
      "\n",
      "\n",
      "\t Level 6:\t96 nodes to be scored\t(1569 eliminated genes)\n",
      "\n",
      "\n",
      "\t Level 5:\t85 nodes to be scored\t(2045 eliminated genes)\n",
      "\n",
      "\n",
      "\t Level 4:\t55 nodes to be scored\t(3864 eliminated genes)\n",
      "\n",
      "\n",
      "\t Level 3:\t42 nodes to be scored\t(4056 eliminated genes)\n",
      "\n",
      "\n",
      "\t Level 2:\t2 nodes to be scored\t(5999 eliminated genes)\n",
      "\n",
      "\n",
      "\t Level 1:\t1 nodes to be scored\t(14621 eliminated genes)\n",
      "\n"
     ]
    }
   ],
   "source": [
    "resultKS <- runTest(GOdata_CC, algorithm = \"weight01\", statistic = \"ks\")"
   ]
  },
  {
   "cell_type": "code",
   "execution_count": 54,
   "id": "6a5b758b-a606-469f-83ed-d57a36a4b979",
   "metadata": {},
   "outputs": [
    {
     "data": {
      "text/html": [
       "<table class=\"dataframe\">\n",
       "<caption>A data.frame: 15 × 6</caption>\n",
       "<thead>\n",
       "\t<tr><th></th><th scope=col>GO.ID</th><th scope=col>Term</th><th scope=col>Annotated</th><th scope=col>Significant</th><th scope=col>Expected</th><th scope=col>raw.p.value</th></tr>\n",
       "\t<tr><th></th><th scope=col>&lt;chr&gt;</th><th scope=col>&lt;chr&gt;</th><th scope=col>&lt;int&gt;</th><th scope=col>&lt;int&gt;</th><th scope=col>&lt;dbl&gt;</th><th scope=col>&lt;chr&gt;</th></tr>\n",
       "</thead>\n",
       "<tbody>\n",
       "\t<tr><th scope=row>1</th><td>GO:0016020</td><td><span style=white-space:pre-wrap>membrane                                                       </span></td><td>9832</td><td>5077</td><td>4655.50</td><td>&lt; 1e-30</td></tr>\n",
       "\t<tr><th scope=row>2</th><td>GO:0005901</td><td>caveola                                                        </td><td>  35</td><td>  31</td><td>  16.57</td><td>1.8e-12</td></tr>\n",
       "\t<tr><th scope=row>3</th><td>GO:0000786</td><td>nucleosome                                                     </td><td>  50</td><td>  44</td><td>  23.68</td><td>1.0e-10</td></tr>\n",
       "\t<tr><th scope=row>4</th><td>GO:0005581</td><td>collagen trimer                                                </td><td> 113</td><td>  76</td><td>  53.51</td><td>9.9e-08</td></tr>\n",
       "\t<tr><th scope=row>5</th><td>GO:0033178</td><td>proton-transporting two-sector ATPase complex, catalytic domain</td><td>  18</td><td>   9</td><td>   8.52</td><td>1.3e-06</td></tr>\n",
       "\t<tr><th scope=row>6</th><td>GO:0005576</td><td>extracellular region                                           </td><td> 524</td><td> 293</td><td> 248.12</td><td>2.5e-06</td></tr>\n",
       "\t<tr><th scope=row>7</th><td>GO:0008076</td><td>voltage-gated potassium channel complex                        </td><td>  26</td><td>  19</td><td>  12.31</td><td>0.018  </td></tr>\n",
       "\t<tr><th scope=row>8</th><td>GO:0032580</td><td>Golgi cisterna membrane                                        </td><td>  55</td><td>  31</td><td>  26.04</td><td>0.024  </td></tr>\n",
       "\t<tr><th scope=row>9</th><td>GO:0032587</td><td>ruffle membrane                                                </td><td>   2</td><td>   2</td><td>   0.95</td><td>0.028  </td></tr>\n",
       "\t<tr><th scope=row>10</th><td>GO:0005759</td><td>mitochondrial matrix                                           </td><td>  40</td><td>  15</td><td>  18.94</td><td>0.036  </td></tr>\n",
       "\t<tr><th scope=row>11</th><td>GO:0042555</td><td>MCM complex                                                    </td><td>   7</td><td>   1</td><td>   3.31</td><td>0.053  </td></tr>\n",
       "\t<tr><th scope=row>12</th><td>GO:0030286</td><td>dynein complex                                                 </td><td>  46</td><td>  17</td><td>  21.78</td><td>0.058  </td></tr>\n",
       "\t<tr><th scope=row>13</th><td>GO:0000792</td><td>heterochromatin                                                </td><td>   8</td><td>   6</td><td>   3.79</td><td>0.067  </td></tr>\n",
       "\t<tr><th scope=row>14</th><td>GO:0005930</td><td>axoneme                                                        </td><td>  26</td><td>   9</td><td>  12.31</td><td>0.077  </td></tr>\n",
       "\t<tr><th scope=row>15</th><td>GO:0005689</td><td>U12-type spliceosomal complex                                  </td><td>   3</td><td>   2</td><td>   1.42</td><td>0.135  </td></tr>\n",
       "</tbody>\n",
       "</table>\n"
      ],
      "text/latex": [
       "A data.frame: 15 × 6\n",
       "\\begin{tabular}{r|llllll}\n",
       "  & GO.ID & Term & Annotated & Significant & Expected & raw.p.value\\\\\n",
       "  & <chr> & <chr> & <int> & <int> & <dbl> & <chr>\\\\\n",
       "\\hline\n",
       "\t1 & GO:0016020 & membrane                                                        & 9832 & 5077 & 4655.50 & < 1e-30\\\\\n",
       "\t2 & GO:0005901 & caveola                                                         &   35 &   31 &   16.57 & 1.8e-12\\\\\n",
       "\t3 & GO:0000786 & nucleosome                                                      &   50 &   44 &   23.68 & 1.0e-10\\\\\n",
       "\t4 & GO:0005581 & collagen trimer                                                 &  113 &   76 &   53.51 & 9.9e-08\\\\\n",
       "\t5 & GO:0033178 & proton-transporting two-sector ATPase complex, catalytic domain &   18 &    9 &    8.52 & 1.3e-06\\\\\n",
       "\t6 & GO:0005576 & extracellular region                                            &  524 &  293 &  248.12 & 2.5e-06\\\\\n",
       "\t7 & GO:0008076 & voltage-gated potassium channel complex                         &   26 &   19 &   12.31 & 0.018  \\\\\n",
       "\t8 & GO:0032580 & Golgi cisterna membrane                                         &   55 &   31 &   26.04 & 0.024  \\\\\n",
       "\t9 & GO:0032587 & ruffle membrane                                                 &    2 &    2 &    0.95 & 0.028  \\\\\n",
       "\t10 & GO:0005759 & mitochondrial matrix                                            &   40 &   15 &   18.94 & 0.036  \\\\\n",
       "\t11 & GO:0042555 & MCM complex                                                     &    7 &    1 &    3.31 & 0.053  \\\\\n",
       "\t12 & GO:0030286 & dynein complex                                                  &   46 &   17 &   21.78 & 0.058  \\\\\n",
       "\t13 & GO:0000792 & heterochromatin                                                 &    8 &    6 &    3.79 & 0.067  \\\\\n",
       "\t14 & GO:0005930 & axoneme                                                         &   26 &    9 &   12.31 & 0.077  \\\\\n",
       "\t15 & GO:0005689 & U12-type spliceosomal complex                                   &    3 &    2 &    1.42 & 0.135  \\\\\n",
       "\\end{tabular}\n"
      ],
      "text/markdown": [
       "\n",
       "A data.frame: 15 × 6\n",
       "\n",
       "| <!--/--> | GO.ID &lt;chr&gt; | Term &lt;chr&gt; | Annotated &lt;int&gt; | Significant &lt;int&gt; | Expected &lt;dbl&gt; | raw.p.value &lt;chr&gt; |\n",
       "|---|---|---|---|---|---|---|\n",
       "| 1 | GO:0016020 | membrane                                                        | 9832 | 5077 | 4655.50 | &lt; 1e-30 |\n",
       "| 2 | GO:0005901 | caveola                                                         |   35 |   31 |   16.57 | 1.8e-12 |\n",
       "| 3 | GO:0000786 | nucleosome                                                      |   50 |   44 |   23.68 | 1.0e-10 |\n",
       "| 4 | GO:0005581 | collagen trimer                                                 |  113 |   76 |   53.51 | 9.9e-08 |\n",
       "| 5 | GO:0033178 | proton-transporting two-sector ATPase complex, catalytic domain |   18 |    9 |    8.52 | 1.3e-06 |\n",
       "| 6 | GO:0005576 | extracellular region                                            |  524 |  293 |  248.12 | 2.5e-06 |\n",
       "| 7 | GO:0008076 | voltage-gated potassium channel complex                         |   26 |   19 |   12.31 | 0.018   |\n",
       "| 8 | GO:0032580 | Golgi cisterna membrane                                         |   55 |   31 |   26.04 | 0.024   |\n",
       "| 9 | GO:0032587 | ruffle membrane                                                 |    2 |    2 |    0.95 | 0.028   |\n",
       "| 10 | GO:0005759 | mitochondrial matrix                                            |   40 |   15 |   18.94 | 0.036   |\n",
       "| 11 | GO:0042555 | MCM complex                                                     |    7 |    1 |    3.31 | 0.053   |\n",
       "| 12 | GO:0030286 | dynein complex                                                  |   46 |   17 |   21.78 | 0.058   |\n",
       "| 13 | GO:0000792 | heterochromatin                                                 |    8 |    6 |    3.79 | 0.067   |\n",
       "| 14 | GO:0005930 | axoneme                                                         |   26 |    9 |   12.31 | 0.077   |\n",
       "| 15 | GO:0005689 | U12-type spliceosomal complex                                   |    3 |    2 |    1.42 | 0.135   |\n",
       "\n"
      ],
      "text/plain": [
       "   GO.ID      Term                                                           \n",
       "1  GO:0016020 membrane                                                       \n",
       "2  GO:0005901 caveola                                                        \n",
       "3  GO:0000786 nucleosome                                                     \n",
       "4  GO:0005581 collagen trimer                                                \n",
       "5  GO:0033178 proton-transporting two-sector ATPase complex, catalytic domain\n",
       "6  GO:0005576 extracellular region                                           \n",
       "7  GO:0008076 voltage-gated potassium channel complex                        \n",
       "8  GO:0032580 Golgi cisterna membrane                                        \n",
       "9  GO:0032587 ruffle membrane                                                \n",
       "10 GO:0005759 mitochondrial matrix                                           \n",
       "11 GO:0042555 MCM complex                                                    \n",
       "12 GO:0030286 dynein complex                                                 \n",
       "13 GO:0000792 heterochromatin                                                \n",
       "14 GO:0005930 axoneme                                                        \n",
       "15 GO:0005689 U12-type spliceosomal complex                                  \n",
       "   Annotated Significant Expected raw.p.value\n",
       "1  9832      5077        4655.50  < 1e-30    \n",
       "2    35        31          16.57  1.8e-12    \n",
       "3    50        44          23.68  1.0e-10    \n",
       "4   113        76          53.51  9.9e-08    \n",
       "5    18         9           8.52  1.3e-06    \n",
       "6   524       293         248.12  2.5e-06    \n",
       "7    26        19          12.31  0.018      \n",
       "8    55        31          26.04  0.024      \n",
       "9     2         2           0.95  0.028      \n",
       "10   40        15          18.94  0.036      \n",
       "11    7         1           3.31  0.053      \n",
       "12   46        17          21.78  0.058      \n",
       "13    8         6           3.79  0.067      \n",
       "14   26         9          12.31  0.077      \n",
       "15    3         2           1.42  0.135      "
      ]
     },
     "metadata": {},
     "output_type": "display_data"
    }
   ],
   "source": [
    "tab_CC <- GenTable(GOdata_CC, raw.p.value = resultKS, topNodes = length(resultKS@score), numChar = 120)\n",
    "head(tab_CC, 15)"
   ]
  },
  {
   "cell_type": "markdown",
   "id": "3924d5bc-21c4-44ae-b90b-e5177f0dc7ec",
   "metadata": {},
   "source": [
    "GO analysis for **biological processes**"
   ]
  },
  {
   "cell_type": "code",
   "execution_count": 55,
   "id": "b98d65dd-af30-4418-83c3-2fd23578ead4",
   "metadata": {},
   "outputs": [
    {
     "name": "stderr",
     "output_type": "stream",
     "text": [
      "\n",
      "Building most specific GOs .....\n",
      "\n",
      "\t( 1150 GO terms found. )\n",
      "\n",
      "\n",
      "Build GO DAG topology ..........\n",
      "\n",
      "\t( 2647 GO terms and 5396 relations. )\n",
      "\n",
      "\n",
      "Annotating nodes ...............\n",
      "\n",
      "\t( 8024 genes annotated to the GO terms. )\n",
      "\n"
     ]
    },
    {
     "data": {
      "text/plain": [
       "\n",
       "------------------------- topGOdata object -------------------------\n",
       "\n",
       " Description:\n",
       "   -  all genes in phase 1 warm vs. control \n",
       "\n",
       " Ontology:\n",
       "   -  BP \n",
       "\n",
       " 39504 available genes (all genes from the array):\n",
       "   - symbol:  COX1 COX2 COX3 CYTB LOC111099029  ...\n",
       "   - score :  0 0 0 0 0.08940948526  ...\n",
       "   - 22397  significant genes. \n",
       "\n",
       " 8024 feasible genes (genes that can be used in the analysis):\n",
       "   - symbol:  COX1 COX3 CYTB LOC111099045 LOC111099050  ...\n",
       "   - score :  0 0 0 0 0.4947510518  ...\n",
       "   - 3003  significant genes. \n",
       "\n",
       " GO graph (nodes with at least  1  genes):\n",
       "   - a graph with directed edges\n",
       "   - number of nodes = 2647 \n",
       "   - number of edges = 5396 \n",
       "\n",
       "------------------------- topGOdata object -------------------------\n"
      ]
     },
     "metadata": {},
     "output_type": "display_data"
    }
   ],
   "source": [
    "GOdata_BP <- new(\"topGOdata\",\n",
    "                 description = 'all genes in phase 1 warm vs. control',\n",
    "                 ontology = \"BP\",\n",
    "                 allGenes = geneList,\n",
    "                 geneSel = topDiffGenes,\n",
    "                 annot = annFUN.gene2GO,\n",
    "                 gene2GO = geneID2GO)\n",
    "\n",
    "GOdata_BP"
   ]
  },
  {
   "cell_type": "code",
   "execution_count": 56,
   "id": "a80edeea-84a8-4d61-bd4f-39b298f8bde8",
   "metadata": {},
   "outputs": [
    {
     "name": "stderr",
     "output_type": "stream",
     "text": [
      "\n",
      "\t\t\t -- Weight01 Algorithm -- \n",
      "\n",
      "\t\t the algorithm is scoring 2647 nontrivial nodes\n",
      "\t\t parameters: \n",
      "\t\t\t test statistic: ks\n",
      "\t\t\t score order: increasing\n",
      "\n",
      "\n",
      "\t Level 16:\t2 nodes to be scored\t(0 eliminated genes)\n",
      "\n",
      "\n",
      "\t Level 15:\t8 nodes to be scored\t(0 eliminated genes)\n",
      "\n",
      "\n",
      "\t Level 14:\t26 nodes to be scored\t(4 eliminated genes)\n",
      "\n",
      "\n",
      "\t Level 13:\t64 nodes to be scored\t(15 eliminated genes)\n",
      "\n",
      "\n",
      "\t Level 12:\t148 nodes to be scored\t(95 eliminated genes)\n",
      "\n",
      "\n",
      "\t Level 11:\t209 nodes to be scored\t(382 eliminated genes)\n",
      "\n",
      "\n",
      "\t Level 10:\t270 nodes to be scored\t(722 eliminated genes)\n",
      "\n",
      "\n",
      "\t Level 9:\t353 nodes to be scored\t(1193 eliminated genes)\n",
      "\n",
      "\n",
      "\t Level 8:\t368 nodes to be scored\t(2024 eliminated genes)\n",
      "\n",
      "\n",
      "\t Level 7:\t384 nodes to be scored\t(2719 eliminated genes)\n",
      "\n",
      "\n",
      "\t Level 6:\t343 nodes to be scored\t(4034 eliminated genes)\n",
      "\n",
      "\n",
      "\t Level 5:\t249 nodes to be scored\t(4819 eliminated genes)\n",
      "\n",
      "\n",
      "\t Level 4:\t138 nodes to be scored\t(6738 eliminated genes)\n",
      "\n",
      "\n",
      "\t Level 3:\t69 nodes to be scored\t(7345 eliminated genes)\n",
      "\n",
      "\n",
      "\t Level 2:\t15 nodes to be scored\t(7722 eliminated genes)\n",
      "\n",
      "\n",
      "\t Level 1:\t1 nodes to be scored\t(8012 eliminated genes)\n",
      "\n"
     ]
    }
   ],
   "source": [
    "resultKS <- runTest(GOdata_BP, algorithm = \"weight01\", statistic = \"ks\")"
   ]
  },
  {
   "cell_type": "code",
   "execution_count": 57,
   "id": "db194180-057b-4f35-9258-9b219a316f2a",
   "metadata": {},
   "outputs": [
    {
     "data": {
      "text/html": [
       "<table class=\"dataframe\">\n",
       "<caption>A data.frame: 15 × 6</caption>\n",
       "<thead>\n",
       "\t<tr><th></th><th scope=col>GO.ID</th><th scope=col>Term</th><th scope=col>Annotated</th><th scope=col>Significant</th><th scope=col>Expected</th><th scope=col>raw.p.value</th></tr>\n",
       "\t<tr><th></th><th scope=col>&lt;chr&gt;</th><th scope=col>&lt;chr&gt;</th><th scope=col>&lt;int&gt;</th><th scope=col>&lt;int&gt;</th><th scope=col>&lt;dbl&gt;</th><th scope=col>&lt;chr&gt;</th></tr>\n",
       "</thead>\n",
       "<tbody>\n",
       "\t<tr><th scope=row>1</th><td>GO:0016311</td><td><span style=white-space:pre-wrap>dephosphorylation                       </span></td><td> 294</td><td> 148</td><td> 110.03</td><td>&lt; 1e-30</td></tr>\n",
       "\t<tr><th scope=row>2</th><td>GO:0002224</td><td><span style=white-space:pre-wrap>toll-like receptor signaling pathway    </span></td><td> 154</td><td> 129</td><td><span style=white-space:pre-wrap>  57.63</span></td><td>&lt; 1e-30</td></tr>\n",
       "\t<tr><th scope=row>3</th><td>GO:0009263</td><td>deoxyribonucleotide biosynthetic process</td><td><span style=white-space:pre-wrap>  54</span></td><td><span style=white-space:pre-wrap>  51</span></td><td><span style=white-space:pre-wrap>  20.21</span></td><td>&lt; 1e-30</td></tr>\n",
       "\t<tr><th scope=row>4</th><td>GO:0015074</td><td><span style=white-space:pre-wrap>DNA integration                         </span></td><td> 268</td><td> 229</td><td> 100.30</td><td>&lt; 1e-30</td></tr>\n",
       "\t<tr><th scope=row>5</th><td>GO:0006310</td><td>DNA recombination                       </td><td> 181</td><td> 110</td><td>  67.74</td><td>3.3e-16</td></tr>\n",
       "\t<tr><th scope=row>6</th><td>GO:0070836</td><td>caveola assembly                        </td><td>  35</td><td>  31</td><td>  13.10</td><td>4.2e-15</td></tr>\n",
       "\t<tr><th scope=row>7</th><td>GO:0006281</td><td>DNA repair                              </td><td> 373</td><td> 167</td><td> 139.60</td><td>8.2e-14</td></tr>\n",
       "\t<tr><th scope=row>8</th><td>GO:0042246</td><td>tissue regeneration                     </td><td>  15</td><td>  15</td><td>   5.61</td><td>2.2e-06</td></tr>\n",
       "\t<tr><th scope=row>9</th><td>GO:0007166</td><td>cell surface receptor signaling pathway </td><td> 269</td><td> 127</td><td> 100.67</td><td>2.6e-05</td></tr>\n",
       "\t<tr><th scope=row>10</th><td>GO:0031640</td><td>killing of cells of another organism    </td><td>  10</td><td>  10</td><td>   3.74</td><td>4.3e-05</td></tr>\n",
       "\t<tr><th scope=row>11</th><td>GO:0006260</td><td>DNA replication                         </td><td> 140</td><td>  67</td><td>  52.40</td><td>4.4e-05</td></tr>\n",
       "\t<tr><th scope=row>12</th><td>GO:0006334</td><td>nucleosome assembly                     </td><td>  24</td><td>  18</td><td>   8.98</td><td>4.6e-05</td></tr>\n",
       "\t<tr><th scope=row>13</th><td>GO:0051260</td><td>protein homooligomerization             </td><td>  46</td><td>  31</td><td>  17.22</td><td>5.0e-05</td></tr>\n",
       "\t<tr><th scope=row>14</th><td>GO:0006119</td><td>oxidative phosphorylation               </td><td>  20</td><td>  11</td><td>   7.49</td><td>0.00012</td></tr>\n",
       "\t<tr><th scope=row>15</th><td>GO:0008152</td><td>metabolic process                       </td><td>5166</td><td>1894</td><td>1933.39</td><td>0.00014</td></tr>\n",
       "</tbody>\n",
       "</table>\n"
      ],
      "text/latex": [
       "A data.frame: 15 × 6\n",
       "\\begin{tabular}{r|llllll}\n",
       "  & GO.ID & Term & Annotated & Significant & Expected & raw.p.value\\\\\n",
       "  & <chr> & <chr> & <int> & <int> & <dbl> & <chr>\\\\\n",
       "\\hline\n",
       "\t1 & GO:0016311 & dephosphorylation                        &  294 &  148 &  110.03 & < 1e-30\\\\\n",
       "\t2 & GO:0002224 & toll-like receptor signaling pathway     &  154 &  129 &   57.63 & < 1e-30\\\\\n",
       "\t3 & GO:0009263 & deoxyribonucleotide biosynthetic process &   54 &   51 &   20.21 & < 1e-30\\\\\n",
       "\t4 & GO:0015074 & DNA integration                          &  268 &  229 &  100.30 & < 1e-30\\\\\n",
       "\t5 & GO:0006310 & DNA recombination                        &  181 &  110 &   67.74 & 3.3e-16\\\\\n",
       "\t6 & GO:0070836 & caveola assembly                         &   35 &   31 &   13.10 & 4.2e-15\\\\\n",
       "\t7 & GO:0006281 & DNA repair                               &  373 &  167 &  139.60 & 8.2e-14\\\\\n",
       "\t8 & GO:0042246 & tissue regeneration                      &   15 &   15 &    5.61 & 2.2e-06\\\\\n",
       "\t9 & GO:0007166 & cell surface receptor signaling pathway  &  269 &  127 &  100.67 & 2.6e-05\\\\\n",
       "\t10 & GO:0031640 & killing of cells of another organism     &   10 &   10 &    3.74 & 4.3e-05\\\\\n",
       "\t11 & GO:0006260 & DNA replication                          &  140 &   67 &   52.40 & 4.4e-05\\\\\n",
       "\t12 & GO:0006334 & nucleosome assembly                      &   24 &   18 &    8.98 & 4.6e-05\\\\\n",
       "\t13 & GO:0051260 & protein homooligomerization              &   46 &   31 &   17.22 & 5.0e-05\\\\\n",
       "\t14 & GO:0006119 & oxidative phosphorylation                &   20 &   11 &    7.49 & 0.00012\\\\\n",
       "\t15 & GO:0008152 & metabolic process                        & 5166 & 1894 & 1933.39 & 0.00014\\\\\n",
       "\\end{tabular}\n"
      ],
      "text/markdown": [
       "\n",
       "A data.frame: 15 × 6\n",
       "\n",
       "| <!--/--> | GO.ID &lt;chr&gt; | Term &lt;chr&gt; | Annotated &lt;int&gt; | Significant &lt;int&gt; | Expected &lt;dbl&gt; | raw.p.value &lt;chr&gt; |\n",
       "|---|---|---|---|---|---|---|\n",
       "| 1 | GO:0016311 | dephosphorylation                        |  294 |  148 |  110.03 | &lt; 1e-30 |\n",
       "| 2 | GO:0002224 | toll-like receptor signaling pathway     |  154 |  129 |   57.63 | &lt; 1e-30 |\n",
       "| 3 | GO:0009263 | deoxyribonucleotide biosynthetic process |   54 |   51 |   20.21 | &lt; 1e-30 |\n",
       "| 4 | GO:0015074 | DNA integration                          |  268 |  229 |  100.30 | &lt; 1e-30 |\n",
       "| 5 | GO:0006310 | DNA recombination                        |  181 |  110 |   67.74 | 3.3e-16 |\n",
       "| 6 | GO:0070836 | caveola assembly                         |   35 |   31 |   13.10 | 4.2e-15 |\n",
       "| 7 | GO:0006281 | DNA repair                               |  373 |  167 |  139.60 | 8.2e-14 |\n",
       "| 8 | GO:0042246 | tissue regeneration                      |   15 |   15 |    5.61 | 2.2e-06 |\n",
       "| 9 | GO:0007166 | cell surface receptor signaling pathway  |  269 |  127 |  100.67 | 2.6e-05 |\n",
       "| 10 | GO:0031640 | killing of cells of another organism     |   10 |   10 |    3.74 | 4.3e-05 |\n",
       "| 11 | GO:0006260 | DNA replication                          |  140 |   67 |   52.40 | 4.4e-05 |\n",
       "| 12 | GO:0006334 | nucleosome assembly                      |   24 |   18 |    8.98 | 4.6e-05 |\n",
       "| 13 | GO:0051260 | protein homooligomerization              |   46 |   31 |   17.22 | 5.0e-05 |\n",
       "| 14 | GO:0006119 | oxidative phosphorylation                |   20 |   11 |    7.49 | 0.00012 |\n",
       "| 15 | GO:0008152 | metabolic process                        | 5166 | 1894 | 1933.39 | 0.00014 |\n",
       "\n"
      ],
      "text/plain": [
       "   GO.ID      Term                                     Annotated Significant\n",
       "1  GO:0016311 dephosphorylation                         294       148       \n",
       "2  GO:0002224 toll-like receptor signaling pathway      154       129       \n",
       "3  GO:0009263 deoxyribonucleotide biosynthetic process   54        51       \n",
       "4  GO:0015074 DNA integration                           268       229       \n",
       "5  GO:0006310 DNA recombination                         181       110       \n",
       "6  GO:0070836 caveola assembly                           35        31       \n",
       "7  GO:0006281 DNA repair                                373       167       \n",
       "8  GO:0042246 tissue regeneration                        15        15       \n",
       "9  GO:0007166 cell surface receptor signaling pathway   269       127       \n",
       "10 GO:0031640 killing of cells of another organism       10        10       \n",
       "11 GO:0006260 DNA replication                           140        67       \n",
       "12 GO:0006334 nucleosome assembly                        24        18       \n",
       "13 GO:0051260 protein homooligomerization                46        31       \n",
       "14 GO:0006119 oxidative phosphorylation                  20        11       \n",
       "15 GO:0008152 metabolic process                        5166      1894       \n",
       "   Expected raw.p.value\n",
       "1   110.03  < 1e-30    \n",
       "2    57.63  < 1e-30    \n",
       "3    20.21  < 1e-30    \n",
       "4   100.30  < 1e-30    \n",
       "5    67.74  3.3e-16    \n",
       "6    13.10  4.2e-15    \n",
       "7   139.60  8.2e-14    \n",
       "8     5.61  2.2e-06    \n",
       "9   100.67  2.6e-05    \n",
       "10    3.74  4.3e-05    \n",
       "11   52.40  4.4e-05    \n",
       "12    8.98  4.6e-05    \n",
       "13   17.22  5.0e-05    \n",
       "14    7.49  0.00012    \n",
       "15 1933.39  0.00014    "
      ]
     },
     "metadata": {},
     "output_type": "display_data"
    }
   ],
   "source": [
    "tab_BP <- GenTable(GOdata_BP, raw.p.value = resultKS, topNodes = length(resultKS@score), numChar = 120)\n",
    "head(tab_BP, 15)"
   ]
  },
  {
   "cell_type": "markdown",
   "id": "0d1aa59c-64ab-4653-9e00-263ddd1e727c",
   "metadata": {},
   "source": [
    "### 2. KEGG Pathway Enrichment Testing with KEGGREST"
   ]
  },
  {
   "cell_type": "code",
   "execution_count": 58,
   "id": "ee9dcff1-bf39-4642-9843-2a42d48e8702",
   "metadata": {},
   "outputs": [
    {
     "name": "stderr",
     "output_type": "stream",
     "text": [
      "'getOption(\"repos\")' replaces Bioconductor standard repositories, see\n",
      "'help(\"repositories\", package = \"BiocManager\")' for details.\n",
      "Replacement repositories:\n",
      "    CRAN: https://cran.r-project.org\n",
      "\n",
      "Bioconductor version 3.18 (BiocManager 1.30.22), R 4.3.2 (2023-10-31)\n",
      "\n",
      "Warning message:\n",
      "“package(s) not installed when version(s) same as or greater than current; use\n",
      "  `force = TRUE` to re-install: 'KEGGREST'”\n",
      "Old packages: 'BH', 'biomaRt', 'Biostrings', 'brew', 'brio', 'bslib',\n",
      "  'commonmark', 'cowplot', 'curl', 'data.table', 'DBI', 'desc', 'digest',\n",
      "  'GenomicAlignments', 'GenomicFeatures', 'ggfun', 'ggrepel', 'glue',\n",
      "  'GOSemSim', 'graphlayouts', 'haven', 'htmlwidgets', 'httpuv', 'igraph',\n",
      "  'MASS', 'Matrix', 'mgcv', 'nlme', 'patchwork', 'pbdZMQ', 'pkgbuild',\n",
      "  'pkgload', 'ps', 'ragg', 'Rcpp', 'RcppArmadillo', 'RCurl', 'readr', 'reprex',\n",
      "  'Rhtslib', 'rlang', 'scales', 'shadowtext', 'shiny', 'SparseArray',\n",
      "  'testthat', 'tidygraph', 'tidyr', 'timechange', 'uuid', 'viridis', 'vroom',\n",
      "  'withr', 'XML', 'xml2', 'yulab.utils', 'zip'\n",
      "\n"
     ]
    }
   ],
   "source": [
    "#BiocManager::install('KEGGREST')\n",
    "library(KEGGREST)"
   ]
  },
  {
   "cell_type": "code",
   "execution_count": 59,
   "id": "5f774eed-21c9-4f5c-a185-90a7f05cc16f",
   "metadata": {},
   "outputs": [
    {
     "data": {
      "text/html": [
       "<style>\n",
       ".dl-inline {width: auto; margin:0; padding: 0}\n",
       ".dl-inline>dt, .dl-inline>dd {float: none; width: auto; display: inline-block}\n",
       ".dl-inline>dt::after {content: \":\\0020\"; padding-right: .5ex}\n",
       ".dl-inline>dt:not(:first-of-type) {padding-left: .5ex}\n",
       "</style><dl class=dl-inline><dt>cvn01100</dt><dd>'Metabolic pathways - Crassostrea virginica (eastern oyster)'</dd><dt>cvn01200</dt><dd>'Carbon metabolism - Crassostrea virginica (eastern oyster)'</dd><dt>cvn01210</dt><dd>'2-Oxocarboxylic acid metabolism - Crassostrea virginica (eastern oyster)'</dd><dt>cvn01212</dt><dd>'Fatty acid metabolism - Crassostrea virginica (eastern oyster)'</dd><dt>cvn01230</dt><dd>'Biosynthesis of amino acids - Crassostrea virginica (eastern oyster)'</dd><dt>cvn01232</dt><dd>'Nucleotide metabolism - Crassostrea virginica (eastern oyster)'</dd></dl>\n"
      ],
      "text/latex": [
       "\\begin{description*}\n",
       "\\item[cvn01100] 'Metabolic pathways - Crassostrea virginica (eastern oyster)'\n",
       "\\item[cvn01200] 'Carbon metabolism - Crassostrea virginica (eastern oyster)'\n",
       "\\item[cvn01210] '2-Oxocarboxylic acid metabolism - Crassostrea virginica (eastern oyster)'\n",
       "\\item[cvn01212] 'Fatty acid metabolism - Crassostrea virginica (eastern oyster)'\n",
       "\\item[cvn01230] 'Biosynthesis of amino acids - Crassostrea virginica (eastern oyster)'\n",
       "\\item[cvn01232] 'Nucleotide metabolism - Crassostrea virginica (eastern oyster)'\n",
       "\\end{description*}\n"
      ],
      "text/markdown": [
       "cvn01100\n",
       ":   'Metabolic pathways - Crassostrea virginica (eastern oyster)'cvn01200\n",
       ":   'Carbon metabolism - Crassostrea virginica (eastern oyster)'cvn01210\n",
       ":   '2-Oxocarboxylic acid metabolism - Crassostrea virginica (eastern oyster)'cvn01212\n",
       ":   'Fatty acid metabolism - Crassostrea virginica (eastern oyster)'cvn01230\n",
       ":   'Biosynthesis of amino acids - Crassostrea virginica (eastern oyster)'cvn01232\n",
       ":   'Nucleotide metabolism - Crassostrea virginica (eastern oyster)'\n",
       "\n"
      ],
      "text/plain": [
       "                                                                  cvn01100 \n",
       "             \"Metabolic pathways - Crassostrea virginica (eastern oyster)\" \n",
       "                                                                  cvn01200 \n",
       "              \"Carbon metabolism - Crassostrea virginica (eastern oyster)\" \n",
       "                                                                  cvn01210 \n",
       "\"2-Oxocarboxylic acid metabolism - Crassostrea virginica (eastern oyster)\" \n",
       "                                                                  cvn01212 \n",
       "          \"Fatty acid metabolism - Crassostrea virginica (eastern oyster)\" \n",
       "                                                                  cvn01230 \n",
       "    \"Biosynthesis of amino acids - Crassostrea virginica (eastern oyster)\" \n",
       "                                                                  cvn01232 \n",
       "          \"Nucleotide metabolism - Crassostrea virginica (eastern oyster)\" "
      ]
     },
     "metadata": {},
     "output_type": "display_data"
    }
   ],
   "source": [
    "# Pull all pathways for CV\n",
    "pathways.list <- keggList(\"pathway\", \"cvn\")\n",
    "head(pathways.list)"
   ]
  },
  {
   "cell_type": "code",
   "execution_count": 60,
   "id": "57ebedbc-e207-4ef3-bf48-36e5c5bda189",
   "metadata": {},
   "outputs": [
    {
     "data": {
      "text/html": [
       "<dl>\n",
       "\t<dt>$cvn01100</dt>\n",
       "\t\t<dd>&lt;NA&gt;</dd>\n",
       "\t<dt>$cvn01200</dt>\n",
       "\t\t<dd>&lt;NA&gt;</dd>\n",
       "\t<dt>$cvn01210</dt>\n",
       "\t\t<dd>&lt;NA&gt;</dd>\n",
       "\t<dt>$cvn01212</dt>\n",
       "\t\t<dd>&lt;NA&gt;</dd>\n",
       "\t<dt>$cvn01230</dt>\n",
       "\t\t<dd>&lt;NA&gt;</dd>\n",
       "\t<dt>$cvn01232</dt>\n",
       "\t\t<dd>&lt;NA&gt;</dd>\n",
       "</dl>\n"
      ],
      "text/latex": [
       "\\begin{description}\n",
       "\\item[\\$cvn01100] <NA>\n",
       "\\item[\\$cvn01200] <NA>\n",
       "\\item[\\$cvn01210] <NA>\n",
       "\\item[\\$cvn01212] <NA>\n",
       "\\item[\\$cvn01230] <NA>\n",
       "\\item[\\$cvn01232] <NA>\n",
       "\\end{description}\n"
      ],
      "text/markdown": [
       "$cvn01100\n",
       ":   &lt;NA&gt;\n",
       "$cvn01200\n",
       ":   &lt;NA&gt;\n",
       "$cvn01210\n",
       ":   &lt;NA&gt;\n",
       "$cvn01212\n",
       ":   &lt;NA&gt;\n",
       "$cvn01230\n",
       ":   &lt;NA&gt;\n",
       "$cvn01232\n",
       ":   &lt;NA&gt;\n",
       "\n",
       "\n"
      ],
      "text/plain": [
       "$cvn01100\n",
       "[1] NA\n",
       "\n",
       "$cvn01200\n",
       "[1] NA\n",
       "\n",
       "$cvn01210\n",
       "[1] NA\n",
       "\n",
       "$cvn01212\n",
       "[1] NA\n",
       "\n",
       "$cvn01230\n",
       "[1] NA\n",
       "\n",
       "$cvn01232\n",
       "[1] NA\n"
      ]
     },
     "metadata": {},
     "output_type": "display_data"
    }
   ],
   "source": [
    "# Pull all genes for each pathway\n",
    "pathway.codes <- sub(\"path:\", \"\", names(pathways.list)) \n",
    "genes.by.pathway <- sapply(pathway.codes,\n",
    "    function(pwid){\n",
    "        pw <- keggGet(pwid)\n",
    "        if (is.null(pw[[1]]$GENE)) return(NA)\n",
    "        pw2 <- pw[[1]]$GENE[c(TRUE, FALSE)] # may need to modify this to c(FALSE, TRUE) for other organisms\n",
    "        pw2 <- unlist(lapply(strsplit(pw2, split = \";\", fixed = T), function(x)x[1]))\n",
    "        return(pw2)\n",
    "    }\n",
    ")\n",
    "head(genes.by.pathway)"
   ]
  },
  {
   "cell_type": "code",
   "execution_count": 61,
   "id": "e88375b7-8222-43b9-9d04-b9d94d058bc5",
   "metadata": {},
   "outputs": [
    {
     "data": {
      "text/html": [
       "<dl>\n",
       "\t<dt>$cvn01100</dt>\n",
       "\t\t<dd>&lt;NA&gt;</dd>\n",
       "\t<dt>$cvn01200</dt>\n",
       "\t\t<dd>&lt;NA&gt;</dd>\n",
       "\t<dt>$cvn01210</dt>\n",
       "\t\t<dd>&lt;NA&gt;</dd>\n",
       "\t<dt>$cvn01212</dt>\n",
       "\t\t<dd>&lt;NA&gt;</dd>\n",
       "\t<dt>$cvn01230</dt>\n",
       "\t\t<dd>&lt;NA&gt;</dd>\n",
       "\t<dt>$cvn01232</dt>\n",
       "\t\t<dd>&lt;NA&gt;</dd>\n",
       "\t<dt>$cvn01250</dt>\n",
       "\t\t<dd>&lt;NA&gt;</dd>\n",
       "\t<dt>$cvn01240</dt>\n",
       "\t\t<dd>&lt;NA&gt;</dd>\n",
       "\t<dt>$cvn00010</dt>\n",
       "\t\t<dd><style>\n",
       ".list-inline {list-style: none; margin:0; padding: 0}\n",
       ".list-inline>li {display: inline-block}\n",
       ".list-inline>li:not(:last-child)::after {content: \"\\00b7\"; padding: 0 .5ex}\n",
       "</style>\n",
       "<ol class=list-inline><li>'111135700'</li><li>'111099882'</li><li>'111100475'</li><li>'111136543'</li><li>'111137391'</li><li>'111124867'</li><li>'111130977'</li><li>'111135106'</li><li>'111136940'</li><li>'111132917'</li><li>'111099143'</li><li>'111122808'</li><li>'111111035'</li><li>'111100351'</li><li>'111137133'</li><li>'111116965'</li><li>'111138044'</li><li>'111099657'</li><li>'111107273'</li><li>'111127323'</li><li>'111108359'</li><li>'111109254'</li><li>'111118136'</li><li>'111119958'</li><li>'111130419'</li><li>'111103451'</li><li>'111103498'</li><li>'111130726'</li><li>'111131063'</li><li>'111112920'</li><li>'111115614'</li><li>'111134997'</li><li>'111130514'</li><li>'111119284'</li><li>'111130103'</li><li>'111131530'</li><li>'111131531'</li><li>'111135159'</li><li>'111128136'</li><li>'111129194'</li><li>'111118006'</li><li>'111125502'</li><li>'111101224'</li><li>'111102836'</li><li>'111130458'</li><li>'111127779'</li><li>'111129670'</li><li>'111128311'</li><li>'111119955'</li><li>'111119956'</li><li>'111134713'</li><li>'111135400'</li></ol>\n",
       "</dd>\n",
       "\t<dt>$cvn00020</dt>\n",
       "\t\t<dd><style>\n",
       ".list-inline {list-style: none; margin:0; padding: 0}\n",
       ".list-inline>li {display: inline-block}\n",
       ".list-inline>li:not(:last-child)::after {content: \"\\00b7\"; padding: 0 .5ex}\n",
       "</style>\n",
       "<ol class=list-inline><li>'111111213'</li><li>'111103886'</li><li>'111121719'</li><li>'111121721'</li><li>'111117101'</li><li>'111117164'</li><li>'111117165'</li><li>'111101916'</li><li>'111103250'</li><li>'111131515'</li><li>'111109973'</li><li>'111123350'</li><li>'111110280'</li><li>'111125610'</li><li>'111128143'</li><li>'111118600'</li><li>'111131212'</li><li>'111108359'</li><li>'111109254'</li><li>'111101152'</li><li>'111105866'</li><li>'111105925'</li><li>'111101642'</li><li>'111100625'</li><li>'111104247'</li><li>'111137688'</li><li>'111127095'</li><li>'111132318'</li><li>'111132960'</li><li>'111130667'</li><li>'111129934'</li><li>'111136621'</li><li>'111128687'</li><li>'111128990'</li><li>'111134713'</li><li>'111135400'</li><li>'111099657'</li><li>'111107273'</li><li>'111127323'</li></ol>\n",
       "</dd>\n",
       "\t<dt>$cvn00030</dt>\n",
       "\t\t<dd><style>\n",
       ".list-inline {list-style: none; margin:0; padding: 0}\n",
       ".list-inline>li {display: inline-block}\n",
       ".list-inline>li:not(:last-child)::after {content: \"\\00b7\"; padding: 0 .5ex}\n",
       "</style>\n",
       "<ol class=list-inline><li>'111136543'</li><li>'111137391'</li><li>'111110098'</li><li>'111123214'</li><li>'111136873'</li><li>'111137005'</li><li>'111120752'</li><li>'111109650'</li><li>'111105262'</li><li>'111105573'</li><li>'111124565'</li><li>'111133422'</li><li>'111131435'</li><li>'111131512'</li><li>'111130478'</li><li>'111130276'</li><li>'111118006'</li><li>'111125502'</li><li>'111123753'</li><li>'111120853'</li><li>'111121418'</li><li>'111121420'</li><li>'111128802'</li><li>'111129363'</li><li>'111108492'</li><li>'111135106'</li><li>'111136940'</li><li>'111130977'</li><li>'111124867'</li></ol>\n",
       "</dd>\n",
       "\t<dt>$cvn00040</dt>\n",
       "\t\t<dd><style>\n",
       ".list-inline {list-style: none; margin:0; padding: 0}\n",
       ".list-inline>li {display: inline-block}\n",
       ".list-inline>li:not(:last-child)::after {content: \"\\00b7\"; padding: 0 .5ex}\n",
       "</style>\n",
       "<ol class=list-inline><li>'111135080'</li><li>'111124535'</li><li>'111124599'</li><li>'111130500'</li><li>'111105314'</li><li>'111120752'</li><li>'111135776'</li><li>'111118569'</li><li>'111109436'</li><li>'111109438'</li><li>'111109441'</li><li>'111109442'</li><li>'111120655'</li><li>'111131336'</li><li>'111131432'</li><li>'111133902'</li><li>'111128111'</li><li>'111104054'</li><li>'111134996'</li><li>'111101743'</li><li>'111107703'</li></ol>\n",
       "</dd>\n",
       "\t<dt>$cvn00051</dt>\n",
       "\t\t<dd><style>\n",
       ".list-inline {list-style: none; margin:0; padding: 0}\n",
       ".list-inline>li {display: inline-block}\n",
       ".list-inline>li:not(:last-child)::after {content: \"\\00b7\"; padding: 0 .5ex}\n",
       "</style>\n",
       "<ol class=list-inline><li>'111132784'</li><li>'111132797'</li><li>'111133304'</li><li>'111108764'</li><li>'111109888'</li><li>'111124900'</li><li>'111138520'</li><li>'111099454'</li><li>'111099690'</li><li>'111127223'</li><li>'111135841'</li><li>'111122412'</li><li>'111119078'</li><li>'111119251'</li><li>'111135700'</li><li>'111099882'</li><li>'111100475'</li><li>'111124867'</li><li>'111130977'</li><li>'111107727'</li><li>'111103044'</li><li>'111103135'</li><li>'111136353'</li><li>'111137741'</li><li>'111131336'</li><li>'111131432'</li><li>'111133902'</li><li>'111128111'</li><li>'111104054'</li><li>'111109436'</li><li>'111109438'</li><li>'111109441'</li><li>'111109442'</li><li>'111118569'</li><li>'111135106'</li><li>'111136940'</li><li>'111132917'</li><li>'111131560'</li><li>'111131656'</li></ol>\n",
       "</dd>\n",
       "\t<dt>$cvn00052</dt>\n",
       "\t\t<dd><style>\n",
       ".list-inline {list-style: none; margin:0; padding: 0}\n",
       ".list-inline>li {display: inline-block}\n",
       ".list-inline>li:not(:last-child)::after {content: \"\\00b7\"; padding: 0 .5ex}\n",
       "</style>\n",
       "<ol class=list-inline><li>'111131530'</li><li>'111131531'</li><li>'111135159'</li><li>'111128136'</li><li>'111129194'</li><li>'111118471'</li><li>'111128700'</li><li>'111128748'</li><li>'111122398'</li><li>'111130500'</li><li>'111118006'</li><li>'111125502'</li><li>'111135700'</li><li>'111099882'</li><li>'111100475'</li><li>'111101224'</li><li>'111102836'</li><li>'111113388'</li><li>'111136393'</li><li>'111136395'</li><li>'111101197'</li><li>'111101820'</li><li>'111118783'</li><li>'111104545'</li><li>'111119763'</li><li>'111119792'</li><li>'111119793'</li><li>'111131415'</li><li>'111109436'</li><li>'111109438'</li><li>'111109441'</li><li>'111109442'</li><li>'111124867'</li><li>'111099715'</li><li>'111099716'</li><li>'111119014'</li><li>'111119178'</li><li>'111125646'</li><li>'111120703'</li><li>'111099718'</li></ol>\n",
       "</dd>\n",
       "\t<dt>$cvn00053</dt>\n",
       "\t\t<dd><style>\n",
       ".list-inline {list-style: none; margin:0; padding: 0}\n",
       ".list-inline>li {display: inline-block}\n",
       ".list-inline>li:not(:last-child)::after {content: \"\\00b7\"; padding: 0 .5ex}\n",
       "</style>\n",
       "<ol class=list-inline><li>'111124535'</li><li>'111124599'</li><li>'111135080'</li><li>'111127562'</li><li>'111120853'</li><li>'111121418'</li><li>'111121420'</li><li>'111130419'</li><li>'111103451'</li><li>'111103498'</li><li>'111130726'</li><li>'111131063'</li><li>'111112920'</li><li>'111115614'</li></ol>\n",
       "</dd>\n",
       "</dl>\n"
      ],
      "text/latex": [
       "\\begin{description}\n",
       "\\item[\\$cvn01100] <NA>\n",
       "\\item[\\$cvn01200] <NA>\n",
       "\\item[\\$cvn01210] <NA>\n",
       "\\item[\\$cvn01212] <NA>\n",
       "\\item[\\$cvn01230] <NA>\n",
       "\\item[\\$cvn01232] <NA>\n",
       "\\item[\\$cvn01250] <NA>\n",
       "\\item[\\$cvn01240] <NA>\n",
       "\\item[\\$cvn00010] \\begin{enumerate*}\n",
       "\\item '111135700'\n",
       "\\item '111099882'\n",
       "\\item '111100475'\n",
       "\\item '111136543'\n",
       "\\item '111137391'\n",
       "\\item '111124867'\n",
       "\\item '111130977'\n",
       "\\item '111135106'\n",
       "\\item '111136940'\n",
       "\\item '111132917'\n",
       "\\item '111099143'\n",
       "\\item '111122808'\n",
       "\\item '111111035'\n",
       "\\item '111100351'\n",
       "\\item '111137133'\n",
       "\\item '111116965'\n",
       "\\item '111138044'\n",
       "\\item '111099657'\n",
       "\\item '111107273'\n",
       "\\item '111127323'\n",
       "\\item '111108359'\n",
       "\\item '111109254'\n",
       "\\item '111118136'\n",
       "\\item '111119958'\n",
       "\\item '111130419'\n",
       "\\item '111103451'\n",
       "\\item '111103498'\n",
       "\\item '111130726'\n",
       "\\item '111131063'\n",
       "\\item '111112920'\n",
       "\\item '111115614'\n",
       "\\item '111134997'\n",
       "\\item '111130514'\n",
       "\\item '111119284'\n",
       "\\item '111130103'\n",
       "\\item '111131530'\n",
       "\\item '111131531'\n",
       "\\item '111135159'\n",
       "\\item '111128136'\n",
       "\\item '111129194'\n",
       "\\item '111118006'\n",
       "\\item '111125502'\n",
       "\\item '111101224'\n",
       "\\item '111102836'\n",
       "\\item '111130458'\n",
       "\\item '111127779'\n",
       "\\item '111129670'\n",
       "\\item '111128311'\n",
       "\\item '111119955'\n",
       "\\item '111119956'\n",
       "\\item '111134713'\n",
       "\\item '111135400'\n",
       "\\end{enumerate*}\n",
       "\n",
       "\\item[\\$cvn00020] \\begin{enumerate*}\n",
       "\\item '111111213'\n",
       "\\item '111103886'\n",
       "\\item '111121719'\n",
       "\\item '111121721'\n",
       "\\item '111117101'\n",
       "\\item '111117164'\n",
       "\\item '111117165'\n",
       "\\item '111101916'\n",
       "\\item '111103250'\n",
       "\\item '111131515'\n",
       "\\item '111109973'\n",
       "\\item '111123350'\n",
       "\\item '111110280'\n",
       "\\item '111125610'\n",
       "\\item '111128143'\n",
       "\\item '111118600'\n",
       "\\item '111131212'\n",
       "\\item '111108359'\n",
       "\\item '111109254'\n",
       "\\item '111101152'\n",
       "\\item '111105866'\n",
       "\\item '111105925'\n",
       "\\item '111101642'\n",
       "\\item '111100625'\n",
       "\\item '111104247'\n",
       "\\item '111137688'\n",
       "\\item '111127095'\n",
       "\\item '111132318'\n",
       "\\item '111132960'\n",
       "\\item '111130667'\n",
       "\\item '111129934'\n",
       "\\item '111136621'\n",
       "\\item '111128687'\n",
       "\\item '111128990'\n",
       "\\item '111134713'\n",
       "\\item '111135400'\n",
       "\\item '111099657'\n",
       "\\item '111107273'\n",
       "\\item '111127323'\n",
       "\\end{enumerate*}\n",
       "\n",
       "\\item[\\$cvn00030] \\begin{enumerate*}\n",
       "\\item '111136543'\n",
       "\\item '111137391'\n",
       "\\item '111110098'\n",
       "\\item '111123214'\n",
       "\\item '111136873'\n",
       "\\item '111137005'\n",
       "\\item '111120752'\n",
       "\\item '111109650'\n",
       "\\item '111105262'\n",
       "\\item '111105573'\n",
       "\\item '111124565'\n",
       "\\item '111133422'\n",
       "\\item '111131435'\n",
       "\\item '111131512'\n",
       "\\item '111130478'\n",
       "\\item '111130276'\n",
       "\\item '111118006'\n",
       "\\item '111125502'\n",
       "\\item '111123753'\n",
       "\\item '111120853'\n",
       "\\item '111121418'\n",
       "\\item '111121420'\n",
       "\\item '111128802'\n",
       "\\item '111129363'\n",
       "\\item '111108492'\n",
       "\\item '111135106'\n",
       "\\item '111136940'\n",
       "\\item '111130977'\n",
       "\\item '111124867'\n",
       "\\end{enumerate*}\n",
       "\n",
       "\\item[\\$cvn00040] \\begin{enumerate*}\n",
       "\\item '111135080'\n",
       "\\item '111124535'\n",
       "\\item '111124599'\n",
       "\\item '111130500'\n",
       "\\item '111105314'\n",
       "\\item '111120752'\n",
       "\\item '111135776'\n",
       "\\item '111118569'\n",
       "\\item '111109436'\n",
       "\\item '111109438'\n",
       "\\item '111109441'\n",
       "\\item '111109442'\n",
       "\\item '111120655'\n",
       "\\item '111131336'\n",
       "\\item '111131432'\n",
       "\\item '111133902'\n",
       "\\item '111128111'\n",
       "\\item '111104054'\n",
       "\\item '111134996'\n",
       "\\item '111101743'\n",
       "\\item '111107703'\n",
       "\\end{enumerate*}\n",
       "\n",
       "\\item[\\$cvn00051] \\begin{enumerate*}\n",
       "\\item '111132784'\n",
       "\\item '111132797'\n",
       "\\item '111133304'\n",
       "\\item '111108764'\n",
       "\\item '111109888'\n",
       "\\item '111124900'\n",
       "\\item '111138520'\n",
       "\\item '111099454'\n",
       "\\item '111099690'\n",
       "\\item '111127223'\n",
       "\\item '111135841'\n",
       "\\item '111122412'\n",
       "\\item '111119078'\n",
       "\\item '111119251'\n",
       "\\item '111135700'\n",
       "\\item '111099882'\n",
       "\\item '111100475'\n",
       "\\item '111124867'\n",
       "\\item '111130977'\n",
       "\\item '111107727'\n",
       "\\item '111103044'\n",
       "\\item '111103135'\n",
       "\\item '111136353'\n",
       "\\item '111137741'\n",
       "\\item '111131336'\n",
       "\\item '111131432'\n",
       "\\item '111133902'\n",
       "\\item '111128111'\n",
       "\\item '111104054'\n",
       "\\item '111109436'\n",
       "\\item '111109438'\n",
       "\\item '111109441'\n",
       "\\item '111109442'\n",
       "\\item '111118569'\n",
       "\\item '111135106'\n",
       "\\item '111136940'\n",
       "\\item '111132917'\n",
       "\\item '111131560'\n",
       "\\item '111131656'\n",
       "\\end{enumerate*}\n",
       "\n",
       "\\item[\\$cvn00052] \\begin{enumerate*}\n",
       "\\item '111131530'\n",
       "\\item '111131531'\n",
       "\\item '111135159'\n",
       "\\item '111128136'\n",
       "\\item '111129194'\n",
       "\\item '111118471'\n",
       "\\item '111128700'\n",
       "\\item '111128748'\n",
       "\\item '111122398'\n",
       "\\item '111130500'\n",
       "\\item '111118006'\n",
       "\\item '111125502'\n",
       "\\item '111135700'\n",
       "\\item '111099882'\n",
       "\\item '111100475'\n",
       "\\item '111101224'\n",
       "\\item '111102836'\n",
       "\\item '111113388'\n",
       "\\item '111136393'\n",
       "\\item '111136395'\n",
       "\\item '111101197'\n",
       "\\item '111101820'\n",
       "\\item '111118783'\n",
       "\\item '111104545'\n",
       "\\item '111119763'\n",
       "\\item '111119792'\n",
       "\\item '111119793'\n",
       "\\item '111131415'\n",
       "\\item '111109436'\n",
       "\\item '111109438'\n",
       "\\item '111109441'\n",
       "\\item '111109442'\n",
       "\\item '111124867'\n",
       "\\item '111099715'\n",
       "\\item '111099716'\n",
       "\\item '111119014'\n",
       "\\item '111119178'\n",
       "\\item '111125646'\n",
       "\\item '111120703'\n",
       "\\item '111099718'\n",
       "\\end{enumerate*}\n",
       "\n",
       "\\item[\\$cvn00053] \\begin{enumerate*}\n",
       "\\item '111124535'\n",
       "\\item '111124599'\n",
       "\\item '111135080'\n",
       "\\item '111127562'\n",
       "\\item '111120853'\n",
       "\\item '111121418'\n",
       "\\item '111121420'\n",
       "\\item '111130419'\n",
       "\\item '111103451'\n",
       "\\item '111103498'\n",
       "\\item '111130726'\n",
       "\\item '111131063'\n",
       "\\item '111112920'\n",
       "\\item '111115614'\n",
       "\\end{enumerate*}\n",
       "\n",
       "\\end{description}\n"
      ],
      "text/markdown": [
       "$cvn01100\n",
       ":   &lt;NA&gt;\n",
       "$cvn01200\n",
       ":   &lt;NA&gt;\n",
       "$cvn01210\n",
       ":   &lt;NA&gt;\n",
       "$cvn01212\n",
       ":   &lt;NA&gt;\n",
       "$cvn01230\n",
       ":   &lt;NA&gt;\n",
       "$cvn01232\n",
       ":   &lt;NA&gt;\n",
       "$cvn01250\n",
       ":   &lt;NA&gt;\n",
       "$cvn01240\n",
       ":   &lt;NA&gt;\n",
       "$cvn00010\n",
       ":   1. '111135700'\n",
       "2. '111099882'\n",
       "3. '111100475'\n",
       "4. '111136543'\n",
       "5. '111137391'\n",
       "6. '111124867'\n",
       "7. '111130977'\n",
       "8. '111135106'\n",
       "9. '111136940'\n",
       "10. '111132917'\n",
       "11. '111099143'\n",
       "12. '111122808'\n",
       "13. '111111035'\n",
       "14. '111100351'\n",
       "15. '111137133'\n",
       "16. '111116965'\n",
       "17. '111138044'\n",
       "18. '111099657'\n",
       "19. '111107273'\n",
       "20. '111127323'\n",
       "21. '111108359'\n",
       "22. '111109254'\n",
       "23. '111118136'\n",
       "24. '111119958'\n",
       "25. '111130419'\n",
       "26. '111103451'\n",
       "27. '111103498'\n",
       "28. '111130726'\n",
       "29. '111131063'\n",
       "30. '111112920'\n",
       "31. '111115614'\n",
       "32. '111134997'\n",
       "33. '111130514'\n",
       "34. '111119284'\n",
       "35. '111130103'\n",
       "36. '111131530'\n",
       "37. '111131531'\n",
       "38. '111135159'\n",
       "39. '111128136'\n",
       "40. '111129194'\n",
       "41. '111118006'\n",
       "42. '111125502'\n",
       "43. '111101224'\n",
       "44. '111102836'\n",
       "45. '111130458'\n",
       "46. '111127779'\n",
       "47. '111129670'\n",
       "48. '111128311'\n",
       "49. '111119955'\n",
       "50. '111119956'\n",
       "51. '111134713'\n",
       "52. '111135400'\n",
       "\n",
       "\n",
       "\n",
       "$cvn00020\n",
       ":   1. '111111213'\n",
       "2. '111103886'\n",
       "3. '111121719'\n",
       "4. '111121721'\n",
       "5. '111117101'\n",
       "6. '111117164'\n",
       "7. '111117165'\n",
       "8. '111101916'\n",
       "9. '111103250'\n",
       "10. '111131515'\n",
       "11. '111109973'\n",
       "12. '111123350'\n",
       "13. '111110280'\n",
       "14. '111125610'\n",
       "15. '111128143'\n",
       "16. '111118600'\n",
       "17. '111131212'\n",
       "18. '111108359'\n",
       "19. '111109254'\n",
       "20. '111101152'\n",
       "21. '111105866'\n",
       "22. '111105925'\n",
       "23. '111101642'\n",
       "24. '111100625'\n",
       "25. '111104247'\n",
       "26. '111137688'\n",
       "27. '111127095'\n",
       "28. '111132318'\n",
       "29. '111132960'\n",
       "30. '111130667'\n",
       "31. '111129934'\n",
       "32. '111136621'\n",
       "33. '111128687'\n",
       "34. '111128990'\n",
       "35. '111134713'\n",
       "36. '111135400'\n",
       "37. '111099657'\n",
       "38. '111107273'\n",
       "39. '111127323'\n",
       "\n",
       "\n",
       "\n",
       "$cvn00030\n",
       ":   1. '111136543'\n",
       "2. '111137391'\n",
       "3. '111110098'\n",
       "4. '111123214'\n",
       "5. '111136873'\n",
       "6. '111137005'\n",
       "7. '111120752'\n",
       "8. '111109650'\n",
       "9. '111105262'\n",
       "10. '111105573'\n",
       "11. '111124565'\n",
       "12. '111133422'\n",
       "13. '111131435'\n",
       "14. '111131512'\n",
       "15. '111130478'\n",
       "16. '111130276'\n",
       "17. '111118006'\n",
       "18. '111125502'\n",
       "19. '111123753'\n",
       "20. '111120853'\n",
       "21. '111121418'\n",
       "22. '111121420'\n",
       "23. '111128802'\n",
       "24. '111129363'\n",
       "25. '111108492'\n",
       "26. '111135106'\n",
       "27. '111136940'\n",
       "28. '111130977'\n",
       "29. '111124867'\n",
       "\n",
       "\n",
       "\n",
       "$cvn00040\n",
       ":   1. '111135080'\n",
       "2. '111124535'\n",
       "3. '111124599'\n",
       "4. '111130500'\n",
       "5. '111105314'\n",
       "6. '111120752'\n",
       "7. '111135776'\n",
       "8. '111118569'\n",
       "9. '111109436'\n",
       "10. '111109438'\n",
       "11. '111109441'\n",
       "12. '111109442'\n",
       "13. '111120655'\n",
       "14. '111131336'\n",
       "15. '111131432'\n",
       "16. '111133902'\n",
       "17. '111128111'\n",
       "18. '111104054'\n",
       "19. '111134996'\n",
       "20. '111101743'\n",
       "21. '111107703'\n",
       "\n",
       "\n",
       "\n",
       "$cvn00051\n",
       ":   1. '111132784'\n",
       "2. '111132797'\n",
       "3. '111133304'\n",
       "4. '111108764'\n",
       "5. '111109888'\n",
       "6. '111124900'\n",
       "7. '111138520'\n",
       "8. '111099454'\n",
       "9. '111099690'\n",
       "10. '111127223'\n",
       "11. '111135841'\n",
       "12. '111122412'\n",
       "13. '111119078'\n",
       "14. '111119251'\n",
       "15. '111135700'\n",
       "16. '111099882'\n",
       "17. '111100475'\n",
       "18. '111124867'\n",
       "19. '111130977'\n",
       "20. '111107727'\n",
       "21. '111103044'\n",
       "22. '111103135'\n",
       "23. '111136353'\n",
       "24. '111137741'\n",
       "25. '111131336'\n",
       "26. '111131432'\n",
       "27. '111133902'\n",
       "28. '111128111'\n",
       "29. '111104054'\n",
       "30. '111109436'\n",
       "31. '111109438'\n",
       "32. '111109441'\n",
       "33. '111109442'\n",
       "34. '111118569'\n",
       "35. '111135106'\n",
       "36. '111136940'\n",
       "37. '111132917'\n",
       "38. '111131560'\n",
       "39. '111131656'\n",
       "\n",
       "\n",
       "\n",
       "$cvn00052\n",
       ":   1. '111131530'\n",
       "2. '111131531'\n",
       "3. '111135159'\n",
       "4. '111128136'\n",
       "5. '111129194'\n",
       "6. '111118471'\n",
       "7. '111128700'\n",
       "8. '111128748'\n",
       "9. '111122398'\n",
       "10. '111130500'\n",
       "11. '111118006'\n",
       "12. '111125502'\n",
       "13. '111135700'\n",
       "14. '111099882'\n",
       "15. '111100475'\n",
       "16. '111101224'\n",
       "17. '111102836'\n",
       "18. '111113388'\n",
       "19. '111136393'\n",
       "20. '111136395'\n",
       "21. '111101197'\n",
       "22. '111101820'\n",
       "23. '111118783'\n",
       "24. '111104545'\n",
       "25. '111119763'\n",
       "26. '111119792'\n",
       "27. '111119793'\n",
       "28. '111131415'\n",
       "29. '111109436'\n",
       "30. '111109438'\n",
       "31. '111109441'\n",
       "32. '111109442'\n",
       "33. '111124867'\n",
       "34. '111099715'\n",
       "35. '111099716'\n",
       "36. '111119014'\n",
       "37. '111119178'\n",
       "38. '111125646'\n",
       "39. '111120703'\n",
       "40. '111099718'\n",
       "\n",
       "\n",
       "\n",
       "$cvn00053\n",
       ":   1. '111124535'\n",
       "2. '111124599'\n",
       "3. '111135080'\n",
       "4. '111127562'\n",
       "5. '111120853'\n",
       "6. '111121418'\n",
       "7. '111121420'\n",
       "8. '111130419'\n",
       "9. '111103451'\n",
       "10. '111103498'\n",
       "11. '111130726'\n",
       "12. '111131063'\n",
       "13. '111112920'\n",
       "14. '111115614'\n",
       "\n",
       "\n",
       "\n",
       "\n",
       "\n"
      ],
      "text/plain": [
       "$cvn01100\n",
       "[1] NA\n",
       "\n",
       "$cvn01200\n",
       "[1] NA\n",
       "\n",
       "$cvn01210\n",
       "[1] NA\n",
       "\n",
       "$cvn01212\n",
       "[1] NA\n",
       "\n",
       "$cvn01230\n",
       "[1] NA\n",
       "\n",
       "$cvn01232\n",
       "[1] NA\n",
       "\n",
       "$cvn01250\n",
       "[1] NA\n",
       "\n",
       "$cvn01240\n",
       "[1] NA\n",
       "\n",
       "$cvn00010\n",
       " [1] \"111135700\" \"111099882\" \"111100475\" \"111136543\" \"111137391\" \"111124867\"\n",
       " [7] \"111130977\" \"111135106\" \"111136940\" \"111132917\" \"111099143\" \"111122808\"\n",
       "[13] \"111111035\" \"111100351\" \"111137133\" \"111116965\" \"111138044\" \"111099657\"\n",
       "[19] \"111107273\" \"111127323\" \"111108359\" \"111109254\" \"111118136\" \"111119958\"\n",
       "[25] \"111130419\" \"111103451\" \"111103498\" \"111130726\" \"111131063\" \"111112920\"\n",
       "[31] \"111115614\" \"111134997\" \"111130514\" \"111119284\" \"111130103\" \"111131530\"\n",
       "[37] \"111131531\" \"111135159\" \"111128136\" \"111129194\" \"111118006\" \"111125502\"\n",
       "[43] \"111101224\" \"111102836\" \"111130458\" \"111127779\" \"111129670\" \"111128311\"\n",
       "[49] \"111119955\" \"111119956\" \"111134713\" \"111135400\"\n",
       "\n",
       "$cvn00020\n",
       " [1] \"111111213\" \"111103886\" \"111121719\" \"111121721\" \"111117101\" \"111117164\"\n",
       " [7] \"111117165\" \"111101916\" \"111103250\" \"111131515\" \"111109973\" \"111123350\"\n",
       "[13] \"111110280\" \"111125610\" \"111128143\" \"111118600\" \"111131212\" \"111108359\"\n",
       "[19] \"111109254\" \"111101152\" \"111105866\" \"111105925\" \"111101642\" \"111100625\"\n",
       "[25] \"111104247\" \"111137688\" \"111127095\" \"111132318\" \"111132960\" \"111130667\"\n",
       "[31] \"111129934\" \"111136621\" \"111128687\" \"111128990\" \"111134713\" \"111135400\"\n",
       "[37] \"111099657\" \"111107273\" \"111127323\"\n",
       "\n",
       "$cvn00030\n",
       " [1] \"111136543\" \"111137391\" \"111110098\" \"111123214\" \"111136873\" \"111137005\"\n",
       " [7] \"111120752\" \"111109650\" \"111105262\" \"111105573\" \"111124565\" \"111133422\"\n",
       "[13] \"111131435\" \"111131512\" \"111130478\" \"111130276\" \"111118006\" \"111125502\"\n",
       "[19] \"111123753\" \"111120853\" \"111121418\" \"111121420\" \"111128802\" \"111129363\"\n",
       "[25] \"111108492\" \"111135106\" \"111136940\" \"111130977\" \"111124867\"\n",
       "\n",
       "$cvn00040\n",
       " [1] \"111135080\" \"111124535\" \"111124599\" \"111130500\" \"111105314\" \"111120752\"\n",
       " [7] \"111135776\" \"111118569\" \"111109436\" \"111109438\" \"111109441\" \"111109442\"\n",
       "[13] \"111120655\" \"111131336\" \"111131432\" \"111133902\" \"111128111\" \"111104054\"\n",
       "[19] \"111134996\" \"111101743\" \"111107703\"\n",
       "\n",
       "$cvn00051\n",
       " [1] \"111132784\" \"111132797\" \"111133304\" \"111108764\" \"111109888\" \"111124900\"\n",
       " [7] \"111138520\" \"111099454\" \"111099690\" \"111127223\" \"111135841\" \"111122412\"\n",
       "[13] \"111119078\" \"111119251\" \"111135700\" \"111099882\" \"111100475\" \"111124867\"\n",
       "[19] \"111130977\" \"111107727\" \"111103044\" \"111103135\" \"111136353\" \"111137741\"\n",
       "[25] \"111131336\" \"111131432\" \"111133902\" \"111128111\" \"111104054\" \"111109436\"\n",
       "[31] \"111109438\" \"111109441\" \"111109442\" \"111118569\" \"111135106\" \"111136940\"\n",
       "[37] \"111132917\" \"111131560\" \"111131656\"\n",
       "\n",
       "$cvn00052\n",
       " [1] \"111131530\" \"111131531\" \"111135159\" \"111128136\" \"111129194\" \"111118471\"\n",
       " [7] \"111128700\" \"111128748\" \"111122398\" \"111130500\" \"111118006\" \"111125502\"\n",
       "[13] \"111135700\" \"111099882\" \"111100475\" \"111101224\" \"111102836\" \"111113388\"\n",
       "[19] \"111136393\" \"111136395\" \"111101197\" \"111101820\" \"111118783\" \"111104545\"\n",
       "[25] \"111119763\" \"111119792\" \"111119793\" \"111131415\" \"111109436\" \"111109438\"\n",
       "[31] \"111109441\" \"111109442\" \"111124867\" \"111099715\" \"111099716\" \"111119014\"\n",
       "[37] \"111119178\" \"111125646\" \"111120703\" \"111099718\"\n",
       "\n",
       "$cvn00053\n",
       " [1] \"111124535\" \"111124599\" \"111135080\" \"111127562\" \"111120853\" \"111121418\"\n",
       " [7] \"111121420\" \"111130419\" \"111103451\" \"111103498\" \"111130726\" \"111131063\"\n",
       "[13] \"111112920\" \"111115614\"\n"
      ]
     },
     "metadata": {},
     "output_type": "display_data"
    }
   ],
   "source": [
    "head(genes.by.pathway, 15)"
   ]
  },
  {
   "cell_type": "code",
   "execution_count": 63,
   "id": "610d3497-0a0b-4556-b2ec-037c9cfa251b",
   "metadata": {},
   "outputs": [
    {
     "data": {
      "text/html": [
       "<table class=\"dataframe\">\n",
       "<caption>A data.frame: 6 × 5</caption>\n",
       "<thead>\n",
       "\t<tr><th></th><th scope=col>X</th><th scope=col>gene</th><th scope=col>logFC</th><th scope=col>pval</th><th scope=col>padj</th></tr>\n",
       "\t<tr><th></th><th scope=col>&lt;int&gt;</th><th scope=col>&lt;chr&gt;</th><th scope=col>&lt;dbl&gt;</th><th scope=col>&lt;dbl&gt;</th><th scope=col>&lt;dbl&gt;</th></tr>\n",
       "</thead>\n",
       "<tbody>\n",
       "\t<tr><th scope=row>1</th><td>1</td><td>COX1        </td><td>       NA</td><td>        NA</td><td>       NA</td></tr>\n",
       "\t<tr><th scope=row>2</th><td>2</td><td>COX2        </td><td>       NA</td><td>        NA</td><td>       NA</td></tr>\n",
       "\t<tr><th scope=row>3</th><td>3</td><td>COX3        </td><td>       NA</td><td>        NA</td><td>       NA</td></tr>\n",
       "\t<tr><th scope=row>4</th><td>4</td><td>CYTB        </td><td>       NA</td><td>        NA</td><td>       NA</td></tr>\n",
       "\t<tr><th scope=row>5</th><td>5</td><td>LOC111099029</td><td>-1.147078</td><td>0.08940949</td><td>0.3786324</td></tr>\n",
       "\t<tr><th scope=row>6</th><td>6</td><td>LOC111099030</td><td>       NA</td><td>        NA</td><td>       NA</td></tr>\n",
       "</tbody>\n",
       "</table>\n"
      ],
      "text/latex": [
       "A data.frame: 6 × 5\n",
       "\\begin{tabular}{r|lllll}\n",
       "  & X & gene & logFC & pval & padj\\\\\n",
       "  & <int> & <chr> & <dbl> & <dbl> & <dbl>\\\\\n",
       "\\hline\n",
       "\t1 & 1 & COX1         &        NA &         NA &        NA\\\\\n",
       "\t2 & 2 & COX2         &        NA &         NA &        NA\\\\\n",
       "\t3 & 3 & COX3         &        NA &         NA &        NA\\\\\n",
       "\t4 & 4 & CYTB         &        NA &         NA &        NA\\\\\n",
       "\t5 & 5 & LOC111099029 & -1.147078 & 0.08940949 & 0.3786324\\\\\n",
       "\t6 & 6 & LOC111099030 &        NA &         NA &        NA\\\\\n",
       "\\end{tabular}\n"
      ],
      "text/markdown": [
       "\n",
       "A data.frame: 6 × 5\n",
       "\n",
       "| <!--/--> | X &lt;int&gt; | gene &lt;chr&gt; | logFC &lt;dbl&gt; | pval &lt;dbl&gt; | padj &lt;dbl&gt; |\n",
       "|---|---|---|---|---|---|\n",
       "| 1 | 1 | COX1         |        NA |         NA |        NA |\n",
       "| 2 | 2 | COX2         |        NA |         NA |        NA |\n",
       "| 3 | 3 | COX3         |        NA |         NA |        NA |\n",
       "| 4 | 4 | CYTB         |        NA |         NA |        NA |\n",
       "| 5 | 5 | LOC111099029 | -1.147078 | 0.08940949 | 0.3786324 |\n",
       "| 6 | 6 | LOC111099030 |        NA |         NA |        NA |\n",
       "\n"
      ],
      "text/plain": [
       "  X gene         logFC     pval       padj     \n",
       "1 1 COX1                NA         NA        NA\n",
       "2 2 COX2                NA         NA        NA\n",
       "3 3 COX3                NA         NA        NA\n",
       "4 4 CYTB                NA         NA        NA\n",
       "5 5 LOC111099029 -1.147078 0.08940949 0.3786324\n",
       "6 6 LOC111099030        NA         NA        NA"
      ]
     },
     "metadata": {},
     "output_type": "display_data"
    },
    {
     "data": {
      "text/html": [
       "<table class=\"dataframe\">\n",
       "<caption>A data.frame: 6 × 2</caption>\n",
       "<thead>\n",
       "\t<tr><th></th><th scope=col>gene</th><th scope=col>pval</th></tr>\n",
       "\t<tr><th></th><th scope=col>&lt;chr&gt;</th><th scope=col>&lt;dbl&gt;</th></tr>\n",
       "</thead>\n",
       "<tbody>\n",
       "\t<tr><th scope=row>1</th><td>COX1        </td><td>        NA</td></tr>\n",
       "\t<tr><th scope=row>2</th><td>COX2        </td><td>        NA</td></tr>\n",
       "\t<tr><th scope=row>3</th><td>COX3        </td><td>        NA</td></tr>\n",
       "\t<tr><th scope=row>4</th><td>CYTB        </td><td>        NA</td></tr>\n",
       "\t<tr><th scope=row>5</th><td>LOC111099029</td><td>0.08940949</td></tr>\n",
       "\t<tr><th scope=row>6</th><td>LOC111099030</td><td>        NA</td></tr>\n",
       "</tbody>\n",
       "</table>\n"
      ],
      "text/latex": [
       "A data.frame: 6 × 2\n",
       "\\begin{tabular}{r|ll}\n",
       "  & gene & pval\\\\\n",
       "  & <chr> & <dbl>\\\\\n",
       "\\hline\n",
       "\t1 & COX1         &         NA\\\\\n",
       "\t2 & COX2         &         NA\\\\\n",
       "\t3 & COX3         &         NA\\\\\n",
       "\t4 & CYTB         &         NA\\\\\n",
       "\t5 & LOC111099029 & 0.08940949\\\\\n",
       "\t6 & LOC111099030 &         NA\\\\\n",
       "\\end{tabular}\n"
      ],
      "text/markdown": [
       "\n",
       "A data.frame: 6 × 2\n",
       "\n",
       "| <!--/--> | gene &lt;chr&gt; | pval &lt;dbl&gt; |\n",
       "|---|---|---|\n",
       "| 1 | COX1         |         NA |\n",
       "| 2 | COX2         |         NA |\n",
       "| 3 | COX3         |         NA |\n",
       "| 4 | CYTB         |         NA |\n",
       "| 5 | LOC111099029 | 0.08940949 |\n",
       "| 6 | LOC111099030 |         NA |\n",
       "\n"
      ],
      "text/plain": [
       "  gene         pval      \n",
       "1 COX1                 NA\n",
       "2 COX2                 NA\n",
       "3 COX3                 NA\n",
       "4 CYTB                 NA\n",
       "5 LOC111099029 0.08940949\n",
       "6 LOC111099030         NA"
      ]
     },
     "metadata": {},
     "output_type": "display_data"
    }
   ],
   "source": [
    "# reading in df\n",
    "gene_df <- read.csv('/project/pi_sarah_gignouxwolfsohn_uml_edu/julia/CE_MethylRAD_analysis_2018/analysis/GO_enrichment_analysis/geneList.txt')\n",
    "head(gene_df)\n",
    "\n",
    "# creating new df of just gene and logFC\n",
    "geneList <- data.frame(gene_df$gene, gene_df$pval)\n",
    "colnames(geneList) = c('gene', 'pval')\n",
    "head(geneList)"
   ]
  },
  {
   "cell_type": "code",
   "execution_count": 64,
   "id": "2a148981-9253-4240-a23c-edbb9825d7f9",
   "metadata": {},
   "outputs": [
    {
     "data": {
      "text/html": [
       "<table class=\"dataframe\">\n",
       "<caption>A data.frame: 6 × 2</caption>\n",
       "<thead>\n",
       "\t<tr><th></th><th scope=col>gene</th><th scope=col>pval</th></tr>\n",
       "\t<tr><th></th><th scope=col>&lt;chr&gt;</th><th scope=col>&lt;dbl&gt;</th></tr>\n",
       "</thead>\n",
       "<tbody>\n",
       "\t<tr><th scope=row>1</th><td>COX1     </td><td>        NA</td></tr>\n",
       "\t<tr><th scope=row>2</th><td>COX2     </td><td>        NA</td></tr>\n",
       "\t<tr><th scope=row>3</th><td>COX3     </td><td>        NA</td></tr>\n",
       "\t<tr><th scope=row>4</th><td>CYTB     </td><td>        NA</td></tr>\n",
       "\t<tr><th scope=row>5</th><td>111099029</td><td>0.08940949</td></tr>\n",
       "\t<tr><th scope=row>6</th><td>111099030</td><td>        NA</td></tr>\n",
       "</tbody>\n",
       "</table>\n"
      ],
      "text/latex": [
       "A data.frame: 6 × 2\n",
       "\\begin{tabular}{r|ll}\n",
       "  & gene & pval\\\\\n",
       "  & <chr> & <dbl>\\\\\n",
       "\\hline\n",
       "\t1 & COX1      &         NA\\\\\n",
       "\t2 & COX2      &         NA\\\\\n",
       "\t3 & COX3      &         NA\\\\\n",
       "\t4 & CYTB      &         NA\\\\\n",
       "\t5 & 111099029 & 0.08940949\\\\\n",
       "\t6 & 111099030 &         NA\\\\\n",
       "\\end{tabular}\n"
      ],
      "text/markdown": [
       "\n",
       "A data.frame: 6 × 2\n",
       "\n",
       "| <!--/--> | gene &lt;chr&gt; | pval &lt;dbl&gt; |\n",
       "|---|---|---|\n",
       "| 1 | COX1      |         NA |\n",
       "| 2 | COX2      |         NA |\n",
       "| 3 | COX3      |         NA |\n",
       "| 4 | CYTB      |         NA |\n",
       "| 5 | 111099029 | 0.08940949 |\n",
       "| 6 | 111099030 |         NA |\n",
       "\n"
      ],
      "text/plain": [
       "  gene      pval      \n",
       "1 COX1              NA\n",
       "2 COX2              NA\n",
       "3 COX3              NA\n",
       "4 CYTB              NA\n",
       "5 111099029 0.08940949\n",
       "6 111099030         NA"
      ]
     },
     "metadata": {},
     "output_type": "display_data"
    }
   ],
   "source": [
    "# Assuming your dataframe is named 'your_df'\n",
    "geneList$gene <- sub(\"^LOC\", \"\", geneList$gene)\n",
    "\n",
    "# Display the modified dataframe\n",
    "#rownames(gL_df) = gL_df$gene\n",
    "#gL_df <- gL_df[,-1]\n",
    "#gL_df\n",
    "head(geneList)"
   ]
  },
  {
   "cell_type": "code",
   "execution_count": 65,
   "id": "e87d8e65-46a6-4d4d-89c7-2efc292a804c",
   "metadata": {},
   "outputs": [
    {
     "data": {
      "text/html": [
       "<style>\n",
       ".dl-inline {width: auto; margin:0; padding: 0}\n",
       ".dl-inline>dt, .dl-inline>dd {float: none; width: auto; display: inline-block}\n",
       ".dl-inline>dt::after {content: \":\\0020\"; padding-right: .5ex}\n",
       ".dl-inline>dt:not(:first-of-type) {padding-left: .5ex}\n",
       "</style><dl class=dl-inline><dt>COX1</dt><dd>&lt;NA&gt;</dd><dt>COX2</dt><dd>&lt;NA&gt;</dd><dt>COX3</dt><dd>&lt;NA&gt;</dd><dt>CYTB</dt><dd>&lt;NA&gt;</dd><dt>111099029</dt><dd>0.0894094852576812</dd><dt>111099030</dt><dd>&lt;NA&gt;</dd></dl>\n"
      ],
      "text/latex": [
       "\\begin{description*}\n",
       "\\item[COX1] <NA>\n",
       "\\item[COX2] <NA>\n",
       "\\item[COX3] <NA>\n",
       "\\item[CYTB] <NA>\n",
       "\\item[111099029] 0.0894094852576812\n",
       "\\item[111099030] <NA>\n",
       "\\end{description*}\n"
      ],
      "text/markdown": [
       "COX1\n",
       ":   &lt;NA&gt;COX2\n",
       ":   &lt;NA&gt;COX3\n",
       ":   &lt;NA&gt;CYTB\n",
       ":   &lt;NA&gt;111099029\n",
       ":   0.0894094852576812111099030\n",
       ":   &lt;NA&gt;\n",
       "\n"
      ],
      "text/plain": [
       "      COX1       COX2       COX3       CYTB  111099029  111099030 \n",
       "        NA         NA         NA         NA 0.08940949         NA "
      ]
     },
     "metadata": {},
     "output_type": "display_data"
    },
    {
     "data": {
      "text/html": [
       "'numeric'"
      ],
      "text/latex": [
       "'numeric'"
      ],
      "text/markdown": [
       "'numeric'"
      ],
      "text/plain": [
       "[1] \"numeric\""
      ]
     },
     "metadata": {},
     "output_type": "display_data"
    }
   ],
   "source": [
    "geneL <- geneList$pval\n",
    "names(geneL) <- geneList$gene\n",
    "\n",
    "head(geneL)\n",
    "class(geneL) # numeric, used in allGenes for topGO object"
   ]
  },
  {
   "cell_type": "code",
   "execution_count": 66,
   "id": "ce2cdaaa-aaa6-40be-8c1b-b393aaed61f6",
   "metadata": {},
   "outputs": [
    {
     "data": {
      "text/html": [
       "<table class=\"dataframe\">\n",
       "<caption>A data.frame: 6 × 4</caption>\n",
       "<thead>\n",
       "\t<tr><th></th><th scope=col>pathway.code</th><th scope=col>pathway.name</th><th scope=col>p.value</th><th scope=col>Annotated</th></tr>\n",
       "\t<tr><th></th><th scope=col>&lt;chr&gt;</th><th scope=col>&lt;chr&gt;</th><th scope=col>&lt;dbl&gt;</th><th scope=col>&lt;dbl&gt;</th></tr>\n",
       "</thead>\n",
       "<tbody>\n",
       "\t<tr><th scope=row>128</th><td>cvn04144</td><td>Endocytosis - Crassostrea virginica (eastern oyster)                  </td><td>3.017785e-06</td><td>220</td></tr>\n",
       "\t<tr><th scope=row>107</th><td>cvn03410</td><td>Base excision repair - Crassostrea virginica (eastern oyster)         </td><td>1.004289e-05</td><td> 57</td></tr>\n",
       "\t<tr><th scope=row>123</th><td>cvn04068</td><td>FoxO signaling pathway - Crassostrea virginica (eastern oyster)       </td><td>2.135655e-05</td><td> 86</td></tr>\n",
       "\t<tr><th scope=row>22</th><td>cvn00562</td><td>Inositol phosphate metabolism - Crassostrea virginica (eastern oyster)</td><td>2.288142e-05</td><td> 53</td></tr>\n",
       "\t<tr><th scope=row>93</th><td>cvn03040</td><td>Spliceosome - Crassostrea virginica (eastern oyster)                  </td><td>3.496073e-05</td><td>141</td></tr>\n",
       "\t<tr><th scope=row>106</th><td>cvn03030</td><td>DNA replication - Crassostrea virginica (eastern oyster)              </td><td>9.874524e-05</td><td> 41</td></tr>\n",
       "</tbody>\n",
       "</table>\n"
      ],
      "text/latex": [
       "A data.frame: 6 × 4\n",
       "\\begin{tabular}{r|llll}\n",
       "  & pathway.code & pathway.name & p.value & Annotated\\\\\n",
       "  & <chr> & <chr> & <dbl> & <dbl>\\\\\n",
       "\\hline\n",
       "\t128 & cvn04144 & Endocytosis - Crassostrea virginica (eastern oyster)                   & 3.017785e-06 & 220\\\\\n",
       "\t107 & cvn03410 & Base excision repair - Crassostrea virginica (eastern oyster)          & 1.004289e-05 &  57\\\\\n",
       "\t123 & cvn04068 & FoxO signaling pathway - Crassostrea virginica (eastern oyster)        & 2.135655e-05 &  86\\\\\n",
       "\t22 & cvn00562 & Inositol phosphate metabolism - Crassostrea virginica (eastern oyster) & 2.288142e-05 &  53\\\\\n",
       "\t93 & cvn03040 & Spliceosome - Crassostrea virginica (eastern oyster)                   & 3.496073e-05 & 141\\\\\n",
       "\t106 & cvn03030 & DNA replication - Crassostrea virginica (eastern oyster)               & 9.874524e-05 &  41\\\\\n",
       "\\end{tabular}\n"
      ],
      "text/markdown": [
       "\n",
       "A data.frame: 6 × 4\n",
       "\n",
       "| <!--/--> | pathway.code &lt;chr&gt; | pathway.name &lt;chr&gt; | p.value &lt;dbl&gt; | Annotated &lt;dbl&gt; |\n",
       "|---|---|---|---|---|\n",
       "| 128 | cvn04144 | Endocytosis - Crassostrea virginica (eastern oyster)                   | 3.017785e-06 | 220 |\n",
       "| 107 | cvn03410 | Base excision repair - Crassostrea virginica (eastern oyster)          | 1.004289e-05 |  57 |\n",
       "| 123 | cvn04068 | FoxO signaling pathway - Crassostrea virginica (eastern oyster)        | 2.135655e-05 |  86 |\n",
       "| 22 | cvn00562 | Inositol phosphate metabolism - Crassostrea virginica (eastern oyster) | 2.288142e-05 |  53 |\n",
       "| 93 | cvn03040 | Spliceosome - Crassostrea virginica (eastern oyster)                   | 3.496073e-05 | 141 |\n",
       "| 106 | cvn03030 | DNA replication - Crassostrea virginica (eastern oyster)               | 9.874524e-05 |  41 |\n",
       "\n"
      ],
      "text/plain": [
       "    pathway.code\n",
       "128 cvn04144    \n",
       "107 cvn03410    \n",
       "123 cvn04068    \n",
       "22  cvn00562    \n",
       "93  cvn03040    \n",
       "106 cvn03030    \n",
       "    pathway.name                                                          \n",
       "128 Endocytosis - Crassostrea virginica (eastern oyster)                  \n",
       "107 Base excision repair - Crassostrea virginica (eastern oyster)         \n",
       "123 FoxO signaling pathway - Crassostrea virginica (eastern oyster)       \n",
       "22  Inositol phosphate metabolism - Crassostrea virginica (eastern oyster)\n",
       "93  Spliceosome - Crassostrea virginica (eastern oyster)                  \n",
       "106 DNA replication - Crassostrea virginica (eastern oyster)              \n",
       "    p.value      Annotated\n",
       "128 3.017785e-06 220      \n",
       "107 1.004289e-05  57      \n",
       "123 2.135655e-05  86      \n",
       "22  2.288142e-05  53      \n",
       "93  3.496073e-05 141      \n",
       "106 9.874524e-05  41      "
      ]
     },
     "metadata": {},
     "output_type": "display_data"
    }
   ],
   "source": [
    "# Wilcoxon test for each pathway\n",
    "pVals.by.pathway <- t(sapply(names(genes.by.pathway),\n",
    "    function(pathway) {\n",
    "        pathway.genes <- genes.by.pathway[[pathway]]\n",
    "        list.genes.in.pathway <- intersect(names(geneL), pathway.genes)\n",
    "        list.genes.not.in.pathway <- setdiff(names(geneL), list.genes.in.pathway)\n",
    "        scores.in.pathway <- geneL[list.genes.in.pathway]\n",
    "        scores.not.in.pathway <- geneL[list.genes.not.in.pathway]\n",
    "        if (length(scores.in.pathway) > 0){\n",
    "            p.value <- wilcox.test(scores.in.pathway, scores.not.in.pathway, alternative = \"less\")$p.value\n",
    "        } else{\n",
    "            p.value <- NA\n",
    "        }\n",
    "        return(c(p.value = p.value, Annotated = length(list.genes.in.pathway)))\n",
    "    }\n",
    "))\n",
    "\n",
    "# Assemble output table\n",
    "outdat <- data.frame(pathway.code = rownames(pVals.by.pathway))\n",
    "outdat$pathway.name <- pathways.list[outdat$pathway.code]\n",
    "outdat$p.value <- pVals.by.pathway[,\"p.value\"]\n",
    "outdat$Annotated <- pVals.by.pathway[,\"Annotated\"]\n",
    "outdat <- outdat[order(outdat$p.value),]\n",
    "head(outdat)"
   ]
  },
  {
   "cell_type": "markdown",
   "id": "9fbd04a0-e5e8-4241-be8b-bc02cc691460",
   "metadata": {},
   "source": [
    "I think the above table is the entire gene universe though.. not just the genes of interest (or maybe not??)\n",
    "\n",
    "I need to ifgure out how to have the logFC or pval taken into consideration"
   ]
  },
  {
   "cell_type": "code",
   "execution_count": 67,
   "id": "1685ba47-ae93-4c1a-9b9e-2494f8a61bb6",
   "metadata": {},
   "outputs": [
    {
     "data": {
      "text/html": [
       "<table class=\"dataframe\">\n",
       "<caption>A data.frame: 6 × 5</caption>\n",
       "<thead>\n",
       "\t<tr><th></th><th scope=col>pathway.code</th><th scope=col>pathway.name</th><th scope=col>p.value</th><th scope=col>Annotated</th><th scope=col>log2foldchange</th></tr>\n",
       "\t<tr><th></th><th scope=col>&lt;chr&gt;</th><th scope=col>&lt;chr&gt;</th><th scope=col>&lt;dbl&gt;</th><th scope=col>&lt;dbl&gt;</th><th scope=col>&lt;dbl&gt;</th></tr>\n",
       "</thead>\n",
       "<tbody>\n",
       "\t<tr><th scope=row>128</th><td>cvn04144</td><td>Endocytosis - Crassostrea virginica (eastern oyster)                  </td><td>3.017785e-06</td><td>220</td><td>NA</td></tr>\n",
       "\t<tr><th scope=row>107</th><td>cvn03410</td><td>Base excision repair - Crassostrea virginica (eastern oyster)         </td><td>1.004289e-05</td><td> 57</td><td>NA</td></tr>\n",
       "\t<tr><th scope=row>123</th><td>cvn04068</td><td>FoxO signaling pathway - Crassostrea virginica (eastern oyster)       </td><td>2.135655e-05</td><td> 86</td><td>NA</td></tr>\n",
       "\t<tr><th scope=row>22</th><td>cvn00562</td><td>Inositol phosphate metabolism - Crassostrea virginica (eastern oyster)</td><td>2.288142e-05</td><td> 53</td><td>NA</td></tr>\n",
       "\t<tr><th scope=row>93</th><td>cvn03040</td><td>Spliceosome - Crassostrea virginica (eastern oyster)                  </td><td>3.496073e-05</td><td>141</td><td>NA</td></tr>\n",
       "\t<tr><th scope=row>106</th><td>cvn03030</td><td>DNA replication - Crassostrea virginica (eastern oyster)              </td><td>9.874524e-05</td><td> 41</td><td>NA</td></tr>\n",
       "</tbody>\n",
       "</table>\n"
      ],
      "text/latex": [
       "A data.frame: 6 × 5\n",
       "\\begin{tabular}{r|lllll}\n",
       "  & pathway.code & pathway.name & p.value & Annotated & log2foldchange\\\\\n",
       "  & <chr> & <chr> & <dbl> & <dbl> & <dbl>\\\\\n",
       "\\hline\n",
       "\t128 & cvn04144 & Endocytosis - Crassostrea virginica (eastern oyster)                   & 3.017785e-06 & 220 & NA\\\\\n",
       "\t107 & cvn03410 & Base excision repair - Crassostrea virginica (eastern oyster)          & 1.004289e-05 &  57 & NA\\\\\n",
       "\t123 & cvn04068 & FoxO signaling pathway - Crassostrea virginica (eastern oyster)        & 2.135655e-05 &  86 & NA\\\\\n",
       "\t22 & cvn00562 & Inositol phosphate metabolism - Crassostrea virginica (eastern oyster) & 2.288142e-05 &  53 & NA\\\\\n",
       "\t93 & cvn03040 & Spliceosome - Crassostrea virginica (eastern oyster)                   & 3.496073e-05 & 141 & NA\\\\\n",
       "\t106 & cvn03030 & DNA replication - Crassostrea virginica (eastern oyster)               & 9.874524e-05 &  41 & NA\\\\\n",
       "\\end{tabular}\n"
      ],
      "text/markdown": [
       "\n",
       "A data.frame: 6 × 5\n",
       "\n",
       "| <!--/--> | pathway.code &lt;chr&gt; | pathway.name &lt;chr&gt; | p.value &lt;dbl&gt; | Annotated &lt;dbl&gt; | log2foldchange &lt;dbl&gt; |\n",
       "|---|---|---|---|---|---|\n",
       "| 128 | cvn04144 | Endocytosis - Crassostrea virginica (eastern oyster)                   | 3.017785e-06 | 220 | NA |\n",
       "| 107 | cvn03410 | Base excision repair - Crassostrea virginica (eastern oyster)          | 1.004289e-05 |  57 | NA |\n",
       "| 123 | cvn04068 | FoxO signaling pathway - Crassostrea virginica (eastern oyster)        | 2.135655e-05 |  86 | NA |\n",
       "| 22 | cvn00562 | Inositol phosphate metabolism - Crassostrea virginica (eastern oyster) | 2.288142e-05 |  53 | NA |\n",
       "| 93 | cvn03040 | Spliceosome - Crassostrea virginica (eastern oyster)                   | 3.496073e-05 | 141 | NA |\n",
       "| 106 | cvn03030 | DNA replication - Crassostrea virginica (eastern oyster)               | 9.874524e-05 |  41 | NA |\n",
       "\n"
      ],
      "text/plain": [
       "    pathway.code\n",
       "128 cvn04144    \n",
       "107 cvn03410    \n",
       "123 cvn04068    \n",
       "22  cvn00562    \n",
       "93  cvn03040    \n",
       "106 cvn03030    \n",
       "    pathway.name                                                          \n",
       "128 Endocytosis - Crassostrea virginica (eastern oyster)                  \n",
       "107 Base excision repair - Crassostrea virginica (eastern oyster)         \n",
       "123 FoxO signaling pathway - Crassostrea virginica (eastern oyster)       \n",
       "22  Inositol phosphate metabolism - Crassostrea virginica (eastern oyster)\n",
       "93  Spliceosome - Crassostrea virginica (eastern oyster)                  \n",
       "106 DNA replication - Crassostrea virginica (eastern oyster)              \n",
       "    p.value      Annotated log2foldchange\n",
       "128 3.017785e-06 220       NA            \n",
       "107 1.004289e-05  57       NA            \n",
       "123 2.135655e-05  86       NA            \n",
       "22  2.288142e-05  53       NA            \n",
       "93  3.496073e-05 141       NA            \n",
       "106 9.874524e-05  41       NA            "
      ]
     },
     "metadata": {},
     "output_type": "display_data"
    }
   ],
   "source": [
    "# Assuming 'geneL' is your log2 fold change vector and 'genes.by.pathway' is a list of pathways\n",
    "\n",
    "# Wilcoxon test for each pathway\n",
    "pVals.by.pathway <- t(sapply(names(genes.by.pathway),\n",
    "    function(pathway) {\n",
    "        pathway.genes <- genes.by.pathway[[pathway]]\n",
    "        list.genes.in.pathway <- intersect(names(geneL), pathway.genes)\n",
    "        list.genes.not.in.pathway <- setdiff(names(geneL), list.genes.in.pathway)\n",
    "        scores.in.pathway <- geneL[list.genes.in.pathway]\n",
    "        scores.not.in.pathway <- geneL[list.genes.not.in.pathway]\n",
    "        \n",
    "        if (length(scores.in.pathway) > 0) {\n",
    "            p.value <- wilcox.test(scores.in.pathway, scores.not.in.pathway, alternative = \"less\")$p.value\n",
    "        } else {\n",
    "            p.value <- NA\n",
    "        }\n",
    "        \n",
    "        return(c(p.value = p.value, Annotated = length(list.genes.in.pathway)))\n",
    "    }\n",
    "))\n",
    "\n",
    "# Assemble output table\n",
    "outdat <- data.frame(pathway.code = rownames(pVals.by.pathway))\n",
    "outdat$pathway.name <- pathways.list[outdat$pathway.code]\n",
    "outdat$p.value <- pVals.by.pathway[,\"p.value\"]\n",
    "outdat$Annotated <- pVals.by.pathway[,\"Annotated\"]\n",
    "outdat$log2foldchange <- sapply(names(genes.by.pathway), function(pathway) {\n",
    "    pathway.genes <- genes.by.pathway[[pathway]]\n",
    "    list.genes.in.pathway <- intersect(names(geneL), pathway.genes)\n",
    "    return(mean(geneL[list.genes.in.pathway]))\n",
    "})\n",
    "\n",
    "outdat <- outdat[order(outdat$p.value),]\n",
    "head(outdat)\n"
   ]
  },
  {
   "cell_type": "markdown",
   "id": "a928d83f-f066-4e3d-9687-c5ae06d9481d",
   "metadata": {},
   "source": [
    "### clusterProfiler \n",
    "\n",
    "creating kegg object for downstream analysis/visualization (following info from [here](https://learn.gencore.bio.nyu.edu/rna-seq-analysis/gene-set-enrichment-analysis/))"
   ]
  },
  {
   "cell_type": "code",
   "execution_count": 68,
   "id": "1f2d93c5-c29b-4fb6-975d-fbbbddf2e250",
   "metadata": {},
   "outputs": [],
   "source": [
    "library(clusterProfiler)"
   ]
  },
  {
   "cell_type": "code",
   "execution_count": 69,
   "id": "cd73b86e-e183-4613-b5ee-753cb6de4a89",
   "metadata": {},
   "outputs": [
    {
     "data": {
      "text/html": [
       "<table class=\"dataframe\">\n",
       "<caption>A data.frame: 6 × 5</caption>\n",
       "<thead>\n",
       "\t<tr><th></th><th scope=col>X</th><th scope=col>gene</th><th scope=col>logFC</th><th scope=col>pval</th><th scope=col>padj</th></tr>\n",
       "\t<tr><th></th><th scope=col>&lt;int&gt;</th><th scope=col>&lt;chr&gt;</th><th scope=col>&lt;dbl&gt;</th><th scope=col>&lt;dbl&gt;</th><th scope=col>&lt;dbl&gt;</th></tr>\n",
       "</thead>\n",
       "<tbody>\n",
       "\t<tr><th scope=row>1</th><td>1</td><td>COX1        </td><td>       NA</td><td>        NA</td><td>       NA</td></tr>\n",
       "\t<tr><th scope=row>2</th><td>2</td><td>COX2        </td><td>       NA</td><td>        NA</td><td>       NA</td></tr>\n",
       "\t<tr><th scope=row>3</th><td>3</td><td>COX3        </td><td>       NA</td><td>        NA</td><td>       NA</td></tr>\n",
       "\t<tr><th scope=row>4</th><td>4</td><td>CYTB        </td><td>       NA</td><td>        NA</td><td>       NA</td></tr>\n",
       "\t<tr><th scope=row>5</th><td>5</td><td>LOC111099029</td><td>-1.147078</td><td>0.08940949</td><td>0.3786324</td></tr>\n",
       "\t<tr><th scope=row>6</th><td>6</td><td>LOC111099030</td><td>       NA</td><td>        NA</td><td>       NA</td></tr>\n",
       "</tbody>\n",
       "</table>\n"
      ],
      "text/latex": [
       "A data.frame: 6 × 5\n",
       "\\begin{tabular}{r|lllll}\n",
       "  & X & gene & logFC & pval & padj\\\\\n",
       "  & <int> & <chr> & <dbl> & <dbl> & <dbl>\\\\\n",
       "\\hline\n",
       "\t1 & 1 & COX1         &        NA &         NA &        NA\\\\\n",
       "\t2 & 2 & COX2         &        NA &         NA &        NA\\\\\n",
       "\t3 & 3 & COX3         &        NA &         NA &        NA\\\\\n",
       "\t4 & 4 & CYTB         &        NA &         NA &        NA\\\\\n",
       "\t5 & 5 & LOC111099029 & -1.147078 & 0.08940949 & 0.3786324\\\\\n",
       "\t6 & 6 & LOC111099030 &        NA &         NA &        NA\\\\\n",
       "\\end{tabular}\n"
      ],
      "text/markdown": [
       "\n",
       "A data.frame: 6 × 5\n",
       "\n",
       "| <!--/--> | X &lt;int&gt; | gene &lt;chr&gt; | logFC &lt;dbl&gt; | pval &lt;dbl&gt; | padj &lt;dbl&gt; |\n",
       "|---|---|---|---|---|---|\n",
       "| 1 | 1 | COX1         |        NA |         NA |        NA |\n",
       "| 2 | 2 | COX2         |        NA |         NA |        NA |\n",
       "| 3 | 3 | COX3         |        NA |         NA |        NA |\n",
       "| 4 | 4 | CYTB         |        NA |         NA |        NA |\n",
       "| 5 | 5 | LOC111099029 | -1.147078 | 0.08940949 | 0.3786324 |\n",
       "| 6 | 6 | LOC111099030 |        NA |         NA |        NA |\n",
       "\n"
      ],
      "text/plain": [
       "  X gene         logFC     pval       padj     \n",
       "1 1 COX1                NA         NA        NA\n",
       "2 2 COX2                NA         NA        NA\n",
       "3 3 COX3                NA         NA        NA\n",
       "4 4 CYTB                NA         NA        NA\n",
       "5 5 LOC111099029 -1.147078 0.08940949 0.3786324\n",
       "6 6 LOC111099030        NA         NA        NA"
      ]
     },
     "metadata": {},
     "output_type": "display_data"
    }
   ],
   "source": [
    "head(gene_df)"
   ]
  },
  {
   "cell_type": "code",
   "execution_count": 70,
   "id": "3c120ffd-5990-4e0a-8156-afd8ba3f54ca",
   "metadata": {},
   "outputs": [
    {
     "ename": "ERROR",
     "evalue": "Error in eval(expr, p): object 'gene_list' not found\n",
     "output_type": "error",
     "traceback": [
      "Error in eval(expr, p): object 'gene_list' not found\nTraceback:\n",
      "1. write.csv(gene_list, \"/project/pi_sarah_gignouxwolfsohn_uml_edu/julia/CE_MethylRAD_analysis_2018/analysis/GO_enrichment_analysis/geneIDs.csv\")",
      "2. eval.parent(Call)",
      "3. eval(expr, p)",
      "4. eval(expr, p)",
      "5. utils::write.table(gene_list, \"/project/pi_sarah_gignouxwolfsohn_uml_edu/julia/CE_MethylRAD_analysis_2018/analysis/GO_enrichment_analysis/geneIDs.csv\", \n .     col.names = NA, sep = \",\", dec = \".\", qmethod = \"double\")",
      "6. is.data.frame(x)"
     ]
    }
   ],
   "source": [
    "# getting list of genes\n",
    "write.csv(gene_list, '/project/pi_sarah_gignouxwolfsohn_uml_edu/julia/CE_MethylRAD_analysis_2018/analysis/GO_enrichment_analysis/geneIDs.csv')"
   ]
  },
  {
   "cell_type": "code",
   "execution_count": 71,
   "id": "905b3db6-4b0c-426a-a2e4-920cc768e779",
   "metadata": {},
   "outputs": [
    {
     "data": {
      "text/html": [
       "<table class=\"dataframe\">\n",
       "<caption>A data.frame: 6 × 4</caption>\n",
       "<thead>\n",
       "\t<tr><th></th><th scope=col>gene</th><th scope=col>logFC</th><th scope=col>pval</th><th scope=col>padj</th></tr>\n",
       "\t<tr><th></th><th scope=col>&lt;chr&gt;</th><th scope=col>&lt;dbl&gt;</th><th scope=col>&lt;dbl&gt;</th><th scope=col>&lt;dbl&gt;</th></tr>\n",
       "</thead>\n",
       "<tbody>\n",
       "\t<tr><th scope=row>1</th><td>LOC111099115</td><td>1.7885864</td><td>4.161092e-06</td><td>0.0002004183</td></tr>\n",
       "\t<tr><th scope=row>2</th><td>LOC111099216</td><td>1.4828614</td><td>7.544561e-04</td><td>0.0125496496</td></tr>\n",
       "\t<tr><th scope=row>3</th><td>LOC111099417</td><td>2.7487429</td><td>6.452048e-05</td><td>0.0019567084</td></tr>\n",
       "\t<tr><th scope=row>4</th><td>LOC111099424</td><td>3.4384445</td><td>3.211770e-05</td><td>0.0010745946</td></tr>\n",
       "\t<tr><th scope=row>5</th><td>LOC111099722</td><td>0.8993515</td><td>1.093514e-04</td><td>0.0028699825</td></tr>\n",
       "\t<tr><th scope=row>6</th><td>LOC111099918</td><td>0.6567512</td><td>3.539745e-03</td><td>0.0407210025</td></tr>\n",
       "</tbody>\n",
       "</table>\n"
      ],
      "text/latex": [
       "A data.frame: 6 × 4\n",
       "\\begin{tabular}{r|llll}\n",
       "  & gene & logFC & pval & padj\\\\\n",
       "  & <chr> & <dbl> & <dbl> & <dbl>\\\\\n",
       "\\hline\n",
       "\t1 & LOC111099115 & 1.7885864 & 4.161092e-06 & 0.0002004183\\\\\n",
       "\t2 & LOC111099216 & 1.4828614 & 7.544561e-04 & 0.0125496496\\\\\n",
       "\t3 & LOC111099417 & 2.7487429 & 6.452048e-05 & 0.0019567084\\\\\n",
       "\t4 & LOC111099424 & 3.4384445 & 3.211770e-05 & 0.0010745946\\\\\n",
       "\t5 & LOC111099722 & 0.8993515 & 1.093514e-04 & 0.0028699825\\\\\n",
       "\t6 & LOC111099918 & 0.6567512 & 3.539745e-03 & 0.0407210025\\\\\n",
       "\\end{tabular}\n"
      ],
      "text/markdown": [
       "\n",
       "A data.frame: 6 × 4\n",
       "\n",
       "| <!--/--> | gene &lt;chr&gt; | logFC &lt;dbl&gt; | pval &lt;dbl&gt; | padj &lt;dbl&gt; |\n",
       "|---|---|---|---|---|\n",
       "| 1 | LOC111099115 | 1.7885864 | 4.161092e-06 | 0.0002004183 |\n",
       "| 2 | LOC111099216 | 1.4828614 | 7.544561e-04 | 0.0125496496 |\n",
       "| 3 | LOC111099417 | 2.7487429 | 6.452048e-05 | 0.0019567084 |\n",
       "| 4 | LOC111099424 | 3.4384445 | 3.211770e-05 | 0.0010745946 |\n",
       "| 5 | LOC111099722 | 0.8993515 | 1.093514e-04 | 0.0028699825 |\n",
       "| 6 | LOC111099918 | 0.6567512 | 3.539745e-03 | 0.0407210025 |\n",
       "\n"
      ],
      "text/plain": [
       "  gene         logFC     pval         padj        \n",
       "1 LOC111099115 1.7885864 4.161092e-06 0.0002004183\n",
       "2 LOC111099216 1.4828614 7.544561e-04 0.0125496496\n",
       "3 LOC111099417 2.7487429 6.452048e-05 0.0019567084\n",
       "4 LOC111099424 3.4384445 3.211770e-05 0.0010745946\n",
       "5 LOC111099722 0.8993515 1.093514e-04 0.0028699825\n",
       "6 LOC111099918 0.6567512 3.539745e-03 0.0407210025"
      ]
     },
     "metadata": {},
     "output_type": "display_data"
    }
   ],
   "source": [
    "df <- read.csv('/project/pi_sarah_gignouxwolfsohn_uml_edu/julia/CE_MethylRAD_analysis_2018/analysis/significant_genes/sig_p1_wc_genes.csv')\n",
    "\n",
    "df <- select(df, Row.names, log2FoldChange, pvalue, padj)\n",
    "colnames(df) = c('gene', 'logFC', 'pval', 'padj')\n",
    "head(df)"
   ]
  },
  {
   "cell_type": "markdown",
   "id": "f859d98b-8fee-483b-a8a5-61c57c500006",
   "metadata": {},
   "source": [
    "went from ensembl IDs to entrez IDs using the DAVID id conversion web tool"
   ]
  },
  {
   "cell_type": "code",
   "execution_count": 72,
   "id": "76c483ac-a107-4236-b403-532e4a07edb8",
   "metadata": {},
   "outputs": [
    {
     "data": {
      "text/html": [
       "<table class=\"dataframe\">\n",
       "<caption>A data.frame: 6 × 2</caption>\n",
       "<thead>\n",
       "\t<tr><th></th><th scope=col>gene</th><th scope=col>entrez_ID</th></tr>\n",
       "\t<tr><th></th><th scope=col>&lt;chr&gt;</th><th scope=col>&lt;int&gt;</th></tr>\n",
       "</thead>\n",
       "<tbody>\n",
       "\t<tr><th scope=row>1</th><td>LOC111134684</td><td>111134684</td></tr>\n",
       "\t<tr><th scope=row>2</th><td>LOC111110475</td><td>111110475</td></tr>\n",
       "\t<tr><th scope=row>3</th><td>LOC111132265</td><td>111132265</td></tr>\n",
       "\t<tr><th scope=row>4</th><td>LOC111135536</td><td>111135536</td></tr>\n",
       "\t<tr><th scope=row>5</th><td>LOC111099115</td><td>111099115</td></tr>\n",
       "\t<tr><th scope=row>6</th><td>LOC111136502</td><td>111136502</td></tr>\n",
       "</tbody>\n",
       "</table>\n"
      ],
      "text/latex": [
       "A data.frame: 6 × 2\n",
       "\\begin{tabular}{r|ll}\n",
       "  & gene & entrez\\_ID\\\\\n",
       "  & <chr> & <int>\\\\\n",
       "\\hline\n",
       "\t1 & LOC111134684 & 111134684\\\\\n",
       "\t2 & LOC111110475 & 111110475\\\\\n",
       "\t3 & LOC111132265 & 111132265\\\\\n",
       "\t4 & LOC111135536 & 111135536\\\\\n",
       "\t5 & LOC111099115 & 111099115\\\\\n",
       "\t6 & LOC111136502 & 111136502\\\\\n",
       "\\end{tabular}\n"
      ],
      "text/markdown": [
       "\n",
       "A data.frame: 6 × 2\n",
       "\n",
       "| <!--/--> | gene &lt;chr&gt; | entrez_ID &lt;int&gt; |\n",
       "|---|---|---|\n",
       "| 1 | LOC111134684 | 111134684 |\n",
       "| 2 | LOC111110475 | 111110475 |\n",
       "| 3 | LOC111132265 | 111132265 |\n",
       "| 4 | LOC111135536 | 111135536 |\n",
       "| 5 | LOC111099115 | 111099115 |\n",
       "| 6 | LOC111136502 | 111136502 |\n",
       "\n"
      ],
      "text/plain": [
       "  gene         entrez_ID\n",
       "1 LOC111134684 111134684\n",
       "2 LOC111110475 111110475\n",
       "3 LOC111132265 111132265\n",
       "4 LOC111135536 111135536\n",
       "5 LOC111099115 111099115\n",
       "6 LOC111136502 111136502"
      ]
     },
     "metadata": {},
     "output_type": "display_data"
    }
   ],
   "source": [
    "david_df <- read.csv('/project/pi_sarah_gignouxwolfsohn_uml_edu/julia/CE_MethylRAD_analysis_2018/analysis/KEGG_pathway/p1_wc_DAVID_conversion.txt', sep='\\t')\n",
    "# only selecting columns that I need\n",
    "david_df <- select(david_df, From, To)\n",
    "# renaming columns for merge\n",
    "colnames(david_df) = c('gene', 'entrez_ID')\n",
    "head(david_df)"
   ]
  },
  {
   "cell_type": "markdown",
   "id": "04dc145d-d27f-4375-b308-b91cbbf180e0",
   "metadata": {},
   "source": [
    "now need to match up dataframes - so entrez ID is with log2FoldChange and pval for GSEA\n",
    "\n",
    "```merged_df <- merge(df1, df2, by = \"ID\", all = TRUE)```"
   ]
  },
  {
   "cell_type": "code",
   "execution_count": 73,
   "id": "9baf6d5a-d08a-4778-a9ac-f1fcb2c41980",
   "metadata": {},
   "outputs": [
    {
     "data": {
      "text/html": [
       "<table class=\"dataframe\">\n",
       "<caption>A data.frame: 6 × 5</caption>\n",
       "<thead>\n",
       "\t<tr><th></th><th scope=col>gene</th><th scope=col>entrez_ID</th><th scope=col>logFC</th><th scope=col>pval</th><th scope=col>padj</th></tr>\n",
       "\t<tr><th></th><th scope=col>&lt;chr&gt;</th><th scope=col>&lt;int&gt;</th><th scope=col>&lt;dbl&gt;</th><th scope=col>&lt;dbl&gt;</th><th scope=col>&lt;dbl&gt;</th></tr>\n",
       "</thead>\n",
       "<tbody>\n",
       "\t<tr><th scope=row>1</th><td>LOC111099115</td><td>111099115</td><td>1.7885864</td><td>4.161092e-06</td><td>0.0002004183</td></tr>\n",
       "\t<tr><th scope=row>2</th><td>LOC111099216</td><td>111099216</td><td>1.4828614</td><td>7.544561e-04</td><td>0.0125496496</td></tr>\n",
       "\t<tr><th scope=row>3</th><td>LOC111099417</td><td>111099417</td><td>2.7487429</td><td>6.452048e-05</td><td>0.0019567084</td></tr>\n",
       "\t<tr><th scope=row>4</th><td>LOC111099424</td><td>111099424</td><td>3.4384445</td><td>3.211770e-05</td><td>0.0010745946</td></tr>\n",
       "\t<tr><th scope=row>5</th><td>LOC111099722</td><td>111099722</td><td>0.8993515</td><td>1.093514e-04</td><td>0.0028699825</td></tr>\n",
       "\t<tr><th scope=row>6</th><td>LOC111099918</td><td>111099918</td><td>0.6567512</td><td>3.539745e-03</td><td>0.0407210025</td></tr>\n",
       "</tbody>\n",
       "</table>\n"
      ],
      "text/latex": [
       "A data.frame: 6 × 5\n",
       "\\begin{tabular}{r|lllll}\n",
       "  & gene & entrez\\_ID & logFC & pval & padj\\\\\n",
       "  & <chr> & <int> & <dbl> & <dbl> & <dbl>\\\\\n",
       "\\hline\n",
       "\t1 & LOC111099115 & 111099115 & 1.7885864 & 4.161092e-06 & 0.0002004183\\\\\n",
       "\t2 & LOC111099216 & 111099216 & 1.4828614 & 7.544561e-04 & 0.0125496496\\\\\n",
       "\t3 & LOC111099417 & 111099417 & 2.7487429 & 6.452048e-05 & 0.0019567084\\\\\n",
       "\t4 & LOC111099424 & 111099424 & 3.4384445 & 3.211770e-05 & 0.0010745946\\\\\n",
       "\t5 & LOC111099722 & 111099722 & 0.8993515 & 1.093514e-04 & 0.0028699825\\\\\n",
       "\t6 & LOC111099918 & 111099918 & 0.6567512 & 3.539745e-03 & 0.0407210025\\\\\n",
       "\\end{tabular}\n"
      ],
      "text/markdown": [
       "\n",
       "A data.frame: 6 × 5\n",
       "\n",
       "| <!--/--> | gene &lt;chr&gt; | entrez_ID &lt;int&gt; | logFC &lt;dbl&gt; | pval &lt;dbl&gt; | padj &lt;dbl&gt; |\n",
       "|---|---|---|---|---|---|\n",
       "| 1 | LOC111099115 | 111099115 | 1.7885864 | 4.161092e-06 | 0.0002004183 |\n",
       "| 2 | LOC111099216 | 111099216 | 1.4828614 | 7.544561e-04 | 0.0125496496 |\n",
       "| 3 | LOC111099417 | 111099417 | 2.7487429 | 6.452048e-05 | 0.0019567084 |\n",
       "| 4 | LOC111099424 | 111099424 | 3.4384445 | 3.211770e-05 | 0.0010745946 |\n",
       "| 5 | LOC111099722 | 111099722 | 0.8993515 | 1.093514e-04 | 0.0028699825 |\n",
       "| 6 | LOC111099918 | 111099918 | 0.6567512 | 3.539745e-03 | 0.0407210025 |\n",
       "\n"
      ],
      "text/plain": [
       "  gene         entrez_ID logFC     pval         padj        \n",
       "1 LOC111099115 111099115 1.7885864 4.161092e-06 0.0002004183\n",
       "2 LOC111099216 111099216 1.4828614 7.544561e-04 0.0125496496\n",
       "3 LOC111099417 111099417 2.7487429 6.452048e-05 0.0019567084\n",
       "4 LOC111099424 111099424 3.4384445 3.211770e-05 0.0010745946\n",
       "5 LOC111099722 111099722 0.8993515 1.093514e-04 0.0028699825\n",
       "6 LOC111099918 111099918 0.6567512 3.539745e-03 0.0407210025"
      ]
     },
     "metadata": {},
     "output_type": "display_data"
    }
   ],
   "source": [
    "merge_df <- merge(david_df, df, by = \"gene\", all = TRUE)\n",
    "head(merge_df)"
   ]
  },
  {
   "cell_type": "markdown",
   "id": "7ee862f8-ab98-4bc8-9a1d-e2d1dc689354",
   "metadata": {},
   "source": [
    "**looking at KEGG pathway using log2FoldChange metric**"
   ]
  },
  {
   "cell_type": "code",
   "execution_count": 74,
   "id": "b1737a12-1b98-4a48-9e59-b6d2b5dd2b09",
   "metadata": {},
   "outputs": [
    {
     "data": {
      "text/html": [
       "<table class=\"dataframe\">\n",
       "<caption>A data.frame: 6 × 2</caption>\n",
       "<thead>\n",
       "\t<tr><th></th><th scope=col>gene</th><th scope=col>logFC</th></tr>\n",
       "\t<tr><th></th><th scope=col>&lt;int&gt;</th><th scope=col>&lt;dbl&gt;</th></tr>\n",
       "</thead>\n",
       "<tbody>\n",
       "\t<tr><th scope=row>1</th><td>111099115</td><td>1.7885864</td></tr>\n",
       "\t<tr><th scope=row>2</th><td>111099216</td><td>1.4828614</td></tr>\n",
       "\t<tr><th scope=row>3</th><td>111099417</td><td>2.7487429</td></tr>\n",
       "\t<tr><th scope=row>4</th><td>111099424</td><td>3.4384445</td></tr>\n",
       "\t<tr><th scope=row>5</th><td>111099722</td><td>0.8993515</td></tr>\n",
       "\t<tr><th scope=row>6</th><td>111099918</td><td>0.6567512</td></tr>\n",
       "</tbody>\n",
       "</table>\n"
      ],
      "text/latex": [
       "A data.frame: 6 × 2\n",
       "\\begin{tabular}{r|ll}\n",
       "  & gene & logFC\\\\\n",
       "  & <int> & <dbl>\\\\\n",
       "\\hline\n",
       "\t1 & 111099115 & 1.7885864\\\\\n",
       "\t2 & 111099216 & 1.4828614\\\\\n",
       "\t3 & 111099417 & 2.7487429\\\\\n",
       "\t4 & 111099424 & 3.4384445\\\\\n",
       "\t5 & 111099722 & 0.8993515\\\\\n",
       "\t6 & 111099918 & 0.6567512\\\\\n",
       "\\end{tabular}\n"
      ],
      "text/markdown": [
       "\n",
       "A data.frame: 6 × 2\n",
       "\n",
       "| <!--/--> | gene &lt;int&gt; | logFC &lt;dbl&gt; |\n",
       "|---|---|---|\n",
       "| 1 | 111099115 | 1.7885864 |\n",
       "| 2 | 111099216 | 1.4828614 |\n",
       "| 3 | 111099417 | 2.7487429 |\n",
       "| 4 | 111099424 | 3.4384445 |\n",
       "| 5 | 111099722 | 0.8993515 |\n",
       "| 6 | 111099918 | 0.6567512 |\n",
       "\n"
      ],
      "text/plain": [
       "  gene      logFC    \n",
       "1 111099115 1.7885864\n",
       "2 111099216 1.4828614\n",
       "3 111099417 2.7487429\n",
       "4 111099424 3.4384445\n",
       "5 111099722 0.8993515\n",
       "6 111099918 0.6567512"
      ]
     },
     "metadata": {},
     "output_type": "display_data"
    }
   ],
   "source": [
    "log_df <- data.frame(merge_df$entrez_ID, merge_df$logFC)\n",
    "colnames(log_df) = c('gene', 'logFC')\n",
    "head(log_df)"
   ]
  },
  {
   "cell_type": "code",
   "execution_count": 75,
   "id": "9b353875-736f-4ff6-8bdb-cf1b27b062b1",
   "metadata": {},
   "outputs": [
    {
     "data": {
      "text/html": [
       "401"
      ],
      "text/latex": [
       "401"
      ],
      "text/markdown": [
       "401"
      ],
      "text/plain": [
       "[1] 401"
      ]
     },
     "metadata": {},
     "output_type": "display_data"
    },
    {
     "data": {
      "text/html": [
       "405"
      ],
      "text/latex": [
       "405"
      ],
      "text/markdown": [
       "405"
      ],
      "text/plain": [
       "[1] 405"
      ]
     },
     "metadata": {},
     "output_type": "display_data"
    },
    {
     "data": {
      "text/html": [
       "<table class=\"dataframe\">\n",
       "<caption>A data.frame: 6 × 2</caption>\n",
       "<thead>\n",
       "\t<tr><th></th><th scope=col>gene</th><th scope=col>logFC</th></tr>\n",
       "\t<tr><th></th><th scope=col>&lt;int&gt;</th><th scope=col>&lt;dbl&gt;</th></tr>\n",
       "</thead>\n",
       "<tbody>\n",
       "\t<tr><th scope=row>1</th><td>111099115</td><td>1.7885864</td></tr>\n",
       "\t<tr><th scope=row>2</th><td>111099216</td><td>1.4828614</td></tr>\n",
       "\t<tr><th scope=row>3</th><td>111099417</td><td>2.7487429</td></tr>\n",
       "\t<tr><th scope=row>4</th><td>111099424</td><td>3.4384445</td></tr>\n",
       "\t<tr><th scope=row>5</th><td>111099722</td><td>0.8993515</td></tr>\n",
       "\t<tr><th scope=row>6</th><td>111099918</td><td>0.6567512</td></tr>\n",
       "</tbody>\n",
       "</table>\n"
      ],
      "text/latex": [
       "A data.frame: 6 × 2\n",
       "\\begin{tabular}{r|ll}\n",
       "  & gene & logFC\\\\\n",
       "  & <int> & <dbl>\\\\\n",
       "\\hline\n",
       "\t1 & 111099115 & 1.7885864\\\\\n",
       "\t2 & 111099216 & 1.4828614\\\\\n",
       "\t3 & 111099417 & 2.7487429\\\\\n",
       "\t4 & 111099424 & 3.4384445\\\\\n",
       "\t5 & 111099722 & 0.8993515\\\\\n",
       "\t6 & 111099918 & 0.6567512\\\\\n",
       "\\end{tabular}\n"
      ],
      "text/markdown": [
       "\n",
       "A data.frame: 6 × 2\n",
       "\n",
       "| <!--/--> | gene &lt;int&gt; | logFC &lt;dbl&gt; |\n",
       "|---|---|---|\n",
       "| 1 | 111099115 | 1.7885864 |\n",
       "| 2 | 111099216 | 1.4828614 |\n",
       "| 3 | 111099417 | 2.7487429 |\n",
       "| 4 | 111099424 | 3.4384445 |\n",
       "| 5 | 111099722 | 0.8993515 |\n",
       "| 6 | 111099918 | 0.6567512 |\n",
       "\n"
      ],
      "text/plain": [
       "  gene      logFC    \n",
       "1 111099115 1.7885864\n",
       "2 111099216 1.4828614\n",
       "3 111099417 2.7487429\n",
       "4 111099424 3.4384445\n",
       "5 111099722 0.8993515\n",
       "6 111099918 0.6567512"
      ]
     },
     "metadata": {},
     "output_type": "display_data"
    }
   ],
   "source": [
    "length(unique(log_df$gene))\n",
    "length(log_df$gene)\n",
    "\n",
    "dedup_df <- log_df[!duplicated(log_df$gene),]\n",
    "head(dedup_df)"
   ]
  },
  {
   "cell_type": "code",
   "execution_count": 76,
   "id": "52c3f286-9d30-4098-9de7-a183dfddb641",
   "metadata": {},
   "outputs": [
    {
     "data": {
      "text/html": [
       "<style>\n",
       ".dl-inline {width: auto; margin:0; padding: 0}\n",
       ".dl-inline>dt, .dl-inline>dd {float: none; width: auto; display: inline-block}\n",
       ".dl-inline>dt::after {content: \":\\0020\"; padding-right: .5ex}\n",
       ".dl-inline>dt:not(:first-of-type) {padding-left: .5ex}\n",
       "</style><dl class=dl-inline><dt>111114820</dt><dd>7.30455059714696</dd><dt>111114521</dt><dd>6.53848195612027</dd><dt>111119752</dt><dd>6.24813789296976</dd><dt>111107999</dt><dd>6.05372348435752</dd><dt>111105528</dt><dd>6.01734437817952</dd><dt>111125118</dt><dd>5.96543381117296</dd></dl>\n"
      ],
      "text/latex": [
       "\\begin{description*}\n",
       "\\item[111114820] 7.30455059714696\n",
       "\\item[111114521] 6.53848195612027\n",
       "\\item[111119752] 6.24813789296976\n",
       "\\item[111107999] 6.05372348435752\n",
       "\\item[111105528] 6.01734437817952\n",
       "\\item[111125118] 5.96543381117296\n",
       "\\end{description*}\n"
      ],
      "text/markdown": [
       "111114820\n",
       ":   7.30455059714696111114521\n",
       ":   6.53848195612027111119752\n",
       ":   6.24813789296976111107999\n",
       ":   6.05372348435752111105528\n",
       ":   6.01734437817952111125118\n",
       ":   5.96543381117296\n",
       "\n"
      ],
      "text/plain": [
       "111114820 111114521 111119752 111107999 111105528 111125118 \n",
       " 7.304551  6.538482  6.248138  6.053723  6.017344  5.965434 "
      ]
     },
     "metadata": {},
     "output_type": "display_data"
    }
   ],
   "source": [
    "# Create a vector of the gene unuiverse\n",
    "kegg_gene_list <- dedup_df$logFC\n",
    "\n",
    "# Name vector with ENTREZ ids\n",
    "names(kegg_gene_list) <- dedup_df$gene\n",
    "\n",
    "# omit any NA values \n",
    "kegg_gene_list<-na.omit(kegg_gene_list)\n",
    "\n",
    "# sort the list in decreasing order (required for clusterProfiler)\n",
    "kegg_gene_list = sort(kegg_gene_list, decreasing = TRUE)\n",
    "\n",
    "head(kegg_gene_list)"
   ]
  },
  {
   "cell_type": "markdown",
   "id": "0a837300-4944-4cac-8c8b-aa3e81abc21c",
   "metadata": {},
   "source": [
    "**looking at KEGG pathway using pval metric**"
   ]
  },
  {
   "cell_type": "code",
   "execution_count": 77,
   "id": "03cd95d7-8c88-4735-87c2-856743a1b1bd",
   "metadata": {},
   "outputs": [
    {
     "data": {
      "text/html": [
       "<table class=\"dataframe\">\n",
       "<caption>A data.frame: 6 × 2</caption>\n",
       "<thead>\n",
       "\t<tr><th></th><th scope=col>gene</th><th scope=col>pval</th></tr>\n",
       "\t<tr><th></th><th scope=col>&lt;int&gt;</th><th scope=col>&lt;dbl&gt;</th></tr>\n",
       "</thead>\n",
       "<tbody>\n",
       "\t<tr><th scope=row>1</th><td>111099115</td><td>4.161092e-06</td></tr>\n",
       "\t<tr><th scope=row>2</th><td>111099216</td><td>7.544561e-04</td></tr>\n",
       "\t<tr><th scope=row>3</th><td>111099417</td><td>6.452048e-05</td></tr>\n",
       "\t<tr><th scope=row>4</th><td>111099424</td><td>3.211770e-05</td></tr>\n",
       "\t<tr><th scope=row>5</th><td>111099722</td><td>1.093514e-04</td></tr>\n",
       "\t<tr><th scope=row>6</th><td>111099918</td><td>3.539745e-03</td></tr>\n",
       "</tbody>\n",
       "</table>\n"
      ],
      "text/latex": [
       "A data.frame: 6 × 2\n",
       "\\begin{tabular}{r|ll}\n",
       "  & gene & pval\\\\\n",
       "  & <int> & <dbl>\\\\\n",
       "\\hline\n",
       "\t1 & 111099115 & 4.161092e-06\\\\\n",
       "\t2 & 111099216 & 7.544561e-04\\\\\n",
       "\t3 & 111099417 & 6.452048e-05\\\\\n",
       "\t4 & 111099424 & 3.211770e-05\\\\\n",
       "\t5 & 111099722 & 1.093514e-04\\\\\n",
       "\t6 & 111099918 & 3.539745e-03\\\\\n",
       "\\end{tabular}\n"
      ],
      "text/markdown": [
       "\n",
       "A data.frame: 6 × 2\n",
       "\n",
       "| <!--/--> | gene &lt;int&gt; | pval &lt;dbl&gt; |\n",
       "|---|---|---|\n",
       "| 1 | 111099115 | 4.161092e-06 |\n",
       "| 2 | 111099216 | 7.544561e-04 |\n",
       "| 3 | 111099417 | 6.452048e-05 |\n",
       "| 4 | 111099424 | 3.211770e-05 |\n",
       "| 5 | 111099722 | 1.093514e-04 |\n",
       "| 6 | 111099918 | 3.539745e-03 |\n",
       "\n"
      ],
      "text/plain": [
       "  gene      pval        \n",
       "1 111099115 4.161092e-06\n",
       "2 111099216 7.544561e-04\n",
       "3 111099417 6.452048e-05\n",
       "4 111099424 3.211770e-05\n",
       "5 111099722 1.093514e-04\n",
       "6 111099918 3.539745e-03"
      ]
     },
     "metadata": {},
     "output_type": "display_data"
    },
    {
     "data": {
      "text/html": [
       "401"
      ],
      "text/latex": [
       "401"
      ],
      "text/markdown": [
       "401"
      ],
      "text/plain": [
       "[1] 401"
      ]
     },
     "metadata": {},
     "output_type": "display_data"
    },
    {
     "data": {
      "text/html": [
       "401"
      ],
      "text/latex": [
       "401"
      ],
      "text/markdown": [
       "401"
      ],
      "text/plain": [
       "[1] 401"
      ]
     },
     "metadata": {},
     "output_type": "display_data"
    },
    {
     "data": {
      "text/html": [
       "401"
      ],
      "text/latex": [
       "401"
      ],
      "text/markdown": [
       "401"
      ],
      "text/plain": [
       "[1] 401"
      ]
     },
     "metadata": {},
     "output_type": "display_data"
    },
    {
     "data": {
      "text/html": [
       "405"
      ],
      "text/latex": [
       "405"
      ],
      "text/markdown": [
       "405"
      ],
      "text/plain": [
       "[1] 405"
      ]
     },
     "metadata": {},
     "output_type": "display_data"
    },
    {
     "data": {
      "text/html": [
       "<style>\n",
       ".dl-inline {width: auto; margin:0; padding: 0}\n",
       ".dl-inline>dt, .dl-inline>dd {float: none; width: auto; display: inline-block}\n",
       ".dl-inline>dt::after {content: \":\\0020\"; padding-right: .5ex}\n",
       ".dl-inline>dt:not(:first-of-type) {padding-left: .5ex}\n",
       "</style><dl class=dl-inline><dt>111134449</dt><dd>0.00459096165570652</dd><dt>111128484</dt><dd>0.00457479445385723</dd><dt>111128891</dt><dd>0.00445171161265039</dd><dt>111137876</dt><dd>0.00439640166893054</dd><dt>111106619</dt><dd>0.00439185288246184</dd><dt>111130297</dt><dd>0.00437942594982791</dd></dl>\n"
      ],
      "text/latex": [
       "\\begin{description*}\n",
       "\\item[111134449] 0.00459096165570652\n",
       "\\item[111128484] 0.00457479445385723\n",
       "\\item[111128891] 0.00445171161265039\n",
       "\\item[111137876] 0.00439640166893054\n",
       "\\item[111106619] 0.00439185288246184\n",
       "\\item[111130297] 0.00437942594982791\n",
       "\\end{description*}\n"
      ],
      "text/markdown": [
       "111134449\n",
       ":   0.00459096165570652111128484\n",
       ":   0.00457479445385723111128891\n",
       ":   0.00445171161265039111137876\n",
       ":   0.00439640166893054111106619\n",
       ":   0.00439185288246184111130297\n",
       ":   0.00437942594982791\n",
       "\n"
      ],
      "text/plain": [
       "  111134449   111128484   111128891   111137876   111106619   111130297 \n",
       "0.004590962 0.004574794 0.004451712 0.004396402 0.004391853 0.004379426 "
      ]
     },
     "metadata": {},
     "output_type": "display_data"
    }
   ],
   "source": [
    "### looking at pval metric\n",
    "\n",
    "pval_df <- data.frame(merge_df$entrez_ID, merge_df$pval)\n",
    "colnames(pval_df) = c('gene', 'pval')\n",
    "head(pval_df)\n",
    "\n",
    "length(unique(names(kegg_gene_list))) # 401 genes\n",
    "length(kegg_gene_list) # 405 genes\n",
    "\n",
    "# so need to remove duplicates\n",
    "\n",
    "length(unique(pval_df$gene))\n",
    "length(pval_df$gene)\n",
    "\n",
    "dedup_pval_df <- pval_df[!duplicated(pval_df$gene),]\n",
    "\n",
    "# Create a vector of the gene unuiverse\n",
    "kegg_gene_list <- dedup_pval_df$pval\n",
    "\n",
    "# Name vector with ENTREZ ids\n",
    "names(kegg_gene_list) <- dedup_pval_df$gene\n",
    "\n",
    "# omit any NA values \n",
    "kegg_gene_list<-na.omit(kegg_gene_list)\n",
    "\n",
    "# sort the list in decreasing order (required for clusterProfiler)\n",
    "kegg_gene_list = sort(kegg_gene_list, decreasing = TRUE)\n",
    "\n",
    "head(kegg_gene_list)"
   ]
  },
  {
   "cell_type": "code",
   "execution_count": 78,
   "id": "fb1147d4-93c5-49a1-99db-182ecc988a2e",
   "metadata": {},
   "outputs": [],
   "source": [
    "library(ggplot2)"
   ]
  },
  {
   "cell_type": "code",
   "execution_count": 79,
   "id": "eb40529b-df96-406f-af4c-c37cb81609dc",
   "metadata": {},
   "outputs": [
    {
     "name": "stderr",
     "output_type": "stream",
     "text": [
      "Reading KEGG annotation online: \"https://rest.kegg.jp/link/cvn/pathway\"...\n",
      "\n",
      "Reading KEGG annotation online: \"https://rest.kegg.jp/list/pathway/cvn\"...\n",
      "\n",
      "preparing geneSet collections...\n",
      "\n",
      "GSEA analysis...\n",
      "\n",
      "leading edge analysis...\n",
      "\n",
      "done...\n",
      "\n"
     ]
    }
   ],
   "source": [
    "kegg_organism = \"cvn\"\n",
    "kk2 <- gseKEGG(geneList     = kegg_gene_list,\n",
    "               organism     = kegg_organism,\n",
    "               #nPerm        = 10000,\n",
    "               minGSSize    = 1,\n",
    "               maxGSSize    = 800,\n",
    "               pvalueCutoff = 1,\n",
    "               pAdjustMethod = \"none\",\n",
    "               scoreType = \"pos\",\n",
    "               keyType       = \"kegg\")"
   ]
  },
  {
   "cell_type": "code",
   "execution_count": 80,
   "id": "8e085a47-45ef-4c1c-a40a-582c68a9faa1",
   "metadata": {},
   "outputs": [
    {
     "data": {
      "image/png": "[encoded data removed]",
      "text/plain": [
       "plot without title"
      ]
     },
     "metadata": {
      "image/png": {
       "height": 420,
       "width": 420
      }
     },
     "output_type": "display_data"
    }
   ],
   "source": [
    "dotplot(kk2, showCategory = 10, title = \"Enriched Pathways\" , split=\".sign\") + facet_grid(.~.sign)"
   ]
  },
  {
   "cell_type": "code",
   "execution_count": 81,
   "id": "1bc5981c-0e78-4811-9827-84c0fb24bf38",
   "metadata": {},
   "outputs": [
    {
     "name": "stderr",
     "output_type": "stream",
     "text": [
      "Warning message in cnetplot.enrichResult(x, ...):\n",
      "“Use 'color.params = list(foldChange = your_value)' instead of 'foldChange'.\n",
      " The foldChange parameter will be removed in the next version.”\n",
      "\u001b[1m\u001b[22mScale for \u001b[32msize\u001b[39m is already present.\n",
      "Adding another scale for \u001b[32msize\u001b[39m, which will replace the existing scale.\n"
     ]
    },
    {
     "data": {
      "image/png": "[encoded data removed]",
      "text/plain": [
       "plot without title"
      ]
     },
     "metadata": {
      "image/png": {
       "height": 420,
       "width": 420
      }
     },
     "output_type": "display_data"
    }
   ],
   "source": [
    "# categorySize can be either 'pvalue' or 'geneNum'\n",
    "cnetplot(kk2, categorySize=\"pvalue\", foldChange=kegg_gene_list)"
   ]
  },
  {
   "cell_type": "code",
   "execution_count": 82,
   "id": "a624e8dd-1f08-471a-866d-3722dab97f20",
   "metadata": {},
   "outputs": [],
   "source": [
    "#BiocManager::install('ggridges')\n",
    "library(ggridges)"
   ]
  },
  {
   "cell_type": "code",
   "execution_count": 84,
   "id": "b809845d-aa33-4620-a701-e81ce7f3d476",
   "metadata": {},
   "outputs": [
    {
     "data": {
      "text/html": [
       "<table class=\"dataframe\">\n",
       "<caption>A data.frame: 6 × 11</caption>\n",
       "<thead>\n",
       "\t<tr><th></th><th scope=col>ID</th><th scope=col>Description</th><th scope=col>setSize</th><th scope=col>enrichmentScore</th><th scope=col>NES</th><th scope=col>pvalue</th><th scope=col>p.adjust</th><th scope=col>qvalue</th><th scope=col>rank</th><th scope=col>leading_edge</th><th scope=col>core_enrichment</th></tr>\n",
       "\t<tr><th></th><th scope=col>&lt;chr&gt;</th><th scope=col>&lt;chr&gt;</th><th scope=col>&lt;int&gt;</th><th scope=col>&lt;dbl&gt;</th><th scope=col>&lt;dbl&gt;</th><th scope=col>&lt;dbl&gt;</th><th scope=col>&lt;dbl&gt;</th><th scope=col>&lt;dbl&gt;</th><th scope=col>&lt;dbl&gt;</th><th scope=col>&lt;chr&gt;</th><th scope=col>&lt;chr&gt;</th></tr>\n",
       "</thead>\n",
       "<tbody>\n",
       "\t<tr><th scope=row>cvn03083</th><td>cvn03083</td><td>Polycomb repressive complex                </td><td> 3</td><td>0.9748737</td><td>1.486222</td><td>0.009938984</td><td>0.009938984</td><td>0.8249357</td><td>11</td><td>tags=33%, list=3%, signal=33% </td><td>111119855                              </td></tr>\n",
       "\t<tr><th scope=row>cvn00250</th><td>cvn00250</td><td>Alanine, aspartate and glutamate metabolism</td><td> 1</td><td>0.9425000</td><td>1.897266</td><td>0.068931069</td><td>0.068931069</td><td>0.8442467</td><td>24</td><td>tags=100%, list=6%, signal=94%</td><td>111118324                              </td></tr>\n",
       "\t<tr><th scope=row>cvn00520</th><td>cvn00520</td><td>Amino sugar and nucleotide sugar metabolism</td><td> 1</td><td>0.9425000</td><td>1.897266</td><td>0.068931069</td><td>0.068931069</td><td>0.8442467</td><td>24</td><td>tags=100%, list=6%, signal=94%</td><td>111118324                              </td></tr>\n",
       "\t<tr><th scope=row>cvn01250</th><td>cvn01250</td><td>Biosynthesis of nucleotide sugars          </td><td> 1</td><td>0.9425000</td><td>1.897266</td><td>0.068931069</td><td>0.068931069</td><td>0.8442467</td><td>24</td><td>tags=100%, list=6%, signal=94%</td><td>111118324                              </td></tr>\n",
       "\t<tr><th scope=row>cvn04814</th><td>cvn04814</td><td>Motor proteins                             </td><td>10</td><td>0.7836572</td><td>1.199346</td><td>0.087912088</td><td>0.087912088</td><td>0.8442467</td><td>75</td><td>tags=40%, list=19%, signal=33%</td><td>111100344/111125905/111112439/111131749</td></tr>\n",
       "\t<tr><th scope=row>cvn03040</th><td>cvn03040</td><td>Spliceosome                                </td><td> 5</td><td>0.8445962</td><td>1.254102</td><td>0.098901099</td><td>0.098901099</td><td>0.8442467</td><td> 8</td><td>tags=20%, list=2%, signal=20% </td><td>111127289                              </td></tr>\n",
       "</tbody>\n",
       "</table>\n"
      ],
      "text/latex": [
       "A data.frame: 6 × 11\n",
       "\\begin{tabular}{r|lllllllllll}\n",
       "  & ID & Description & setSize & enrichmentScore & NES & pvalue & p.adjust & qvalue & rank & leading\\_edge & core\\_enrichment\\\\\n",
       "  & <chr> & <chr> & <int> & <dbl> & <dbl> & <dbl> & <dbl> & <dbl> & <dbl> & <chr> & <chr>\\\\\n",
       "\\hline\n",
       "\tcvn03083 & cvn03083 & Polycomb repressive complex                 &  3 & 0.9748737 & 1.486222 & 0.009938984 & 0.009938984 & 0.8249357 & 11 & tags=33\\%, list=3\\%, signal=33\\%  & 111119855                              \\\\\n",
       "\tcvn00250 & cvn00250 & Alanine, aspartate and glutamate metabolism &  1 & 0.9425000 & 1.897266 & 0.068931069 & 0.068931069 & 0.8442467 & 24 & tags=100\\%, list=6\\%, signal=94\\% & 111118324                              \\\\\n",
       "\tcvn00520 & cvn00520 & Amino sugar and nucleotide sugar metabolism &  1 & 0.9425000 & 1.897266 & 0.068931069 & 0.068931069 & 0.8442467 & 24 & tags=100\\%, list=6\\%, signal=94\\% & 111118324                              \\\\\n",
       "\tcvn01250 & cvn01250 & Biosynthesis of nucleotide sugars           &  1 & 0.9425000 & 1.897266 & 0.068931069 & 0.068931069 & 0.8442467 & 24 & tags=100\\%, list=6\\%, signal=94\\% & 111118324                              \\\\\n",
       "\tcvn04814 & cvn04814 & Motor proteins                              & 10 & 0.7836572 & 1.199346 & 0.087912088 & 0.087912088 & 0.8442467 & 75 & tags=40\\%, list=19\\%, signal=33\\% & 111100344/111125905/111112439/111131749\\\\\n",
       "\tcvn03040 & cvn03040 & Spliceosome                                 &  5 & 0.8445962 & 1.254102 & 0.098901099 & 0.098901099 & 0.8442467 &  8 & tags=20\\%, list=2\\%, signal=20\\%  & 111127289                              \\\\\n",
       "\\end{tabular}\n"
      ],
      "text/markdown": [
       "\n",
       "A data.frame: 6 × 11\n",
       "\n",
       "| <!--/--> | ID &lt;chr&gt; | Description &lt;chr&gt; | setSize &lt;int&gt; | enrichmentScore &lt;dbl&gt; | NES &lt;dbl&gt; | pvalue &lt;dbl&gt; | p.adjust &lt;dbl&gt; | qvalue &lt;dbl&gt; | rank &lt;dbl&gt; | leading_edge &lt;chr&gt; | core_enrichment &lt;chr&gt; |\n",
       "|---|---|---|---|---|---|---|---|---|---|---|---|\n",
       "| cvn03083 | cvn03083 | Polycomb repressive complex                 |  3 | 0.9748737 | 1.486222 | 0.009938984 | 0.009938984 | 0.8249357 | 11 | tags=33%, list=3%, signal=33%  | 111119855                               |\n",
       "| cvn00250 | cvn00250 | Alanine, aspartate and glutamate metabolism |  1 | 0.9425000 | 1.897266 | 0.068931069 | 0.068931069 | 0.8442467 | 24 | tags=100%, list=6%, signal=94% | 111118324                               |\n",
       "| cvn00520 | cvn00520 | Amino sugar and nucleotide sugar metabolism |  1 | 0.9425000 | 1.897266 | 0.068931069 | 0.068931069 | 0.8442467 | 24 | tags=100%, list=6%, signal=94% | 111118324                               |\n",
       "| cvn01250 | cvn01250 | Biosynthesis of nucleotide sugars           |  1 | 0.9425000 | 1.897266 | 0.068931069 | 0.068931069 | 0.8442467 | 24 | tags=100%, list=6%, signal=94% | 111118324                               |\n",
       "| cvn04814 | cvn04814 | Motor proteins                              | 10 | 0.7836572 | 1.199346 | 0.087912088 | 0.087912088 | 0.8442467 | 75 | tags=40%, list=19%, signal=33% | 111100344/111125905/111112439/111131749 |\n",
       "| cvn03040 | cvn03040 | Spliceosome                                 |  5 | 0.8445962 | 1.254102 | 0.098901099 | 0.098901099 | 0.8442467 |  8 | tags=20%, list=2%, signal=20%  | 111127289                               |\n",
       "\n"
      ],
      "text/plain": [
       "         ID       Description                                 setSize\n",
       "cvn03083 cvn03083 Polycomb repressive complex                  3     \n",
       "cvn00250 cvn00250 Alanine, aspartate and glutamate metabolism  1     \n",
       "cvn00520 cvn00520 Amino sugar and nucleotide sugar metabolism  1     \n",
       "cvn01250 cvn01250 Biosynthesis of nucleotide sugars            1     \n",
       "cvn04814 cvn04814 Motor proteins                              10     \n",
       "cvn03040 cvn03040 Spliceosome                                  5     \n",
       "         enrichmentScore NES      pvalue      p.adjust    qvalue    rank\n",
       "cvn03083 0.9748737       1.486222 0.009938984 0.009938984 0.8249357 11  \n",
       "cvn00250 0.9425000       1.897266 0.068931069 0.068931069 0.8442467 24  \n",
       "cvn00520 0.9425000       1.897266 0.068931069 0.068931069 0.8442467 24  \n",
       "cvn01250 0.9425000       1.897266 0.068931069 0.068931069 0.8442467 24  \n",
       "cvn04814 0.7836572       1.199346 0.087912088 0.087912088 0.8442467 75  \n",
       "cvn03040 0.8445962       1.254102 0.098901099 0.098901099 0.8442467  8  \n",
       "         leading_edge                   core_enrichment                        \n",
       "cvn03083 tags=33%, list=3%, signal=33%  111119855                              \n",
       "cvn00250 tags=100%, list=6%, signal=94% 111118324                              \n",
       "cvn00520 tags=100%, list=6%, signal=94% 111118324                              \n",
       "cvn01250 tags=100%, list=6%, signal=94% 111118324                              \n",
       "cvn04814 tags=40%, list=19%, signal=33% 111100344/111125905/111112439/111131749\n",
       "cvn03040 tags=20%, list=2%, signal=20%  111127289                              "
      ]
     },
     "metadata": {},
     "output_type": "display_data"
    }
   ],
   "source": [
    "kk2_df <- as.data.frame(kk2)\n",
    "kk2_df$Description <- sub(\" -.*\", \"\", kk2_df$Description)\n",
    "head(kk2_df)"
   ]
  },
  {
   "cell_type": "code",
   "execution_count": null,
   "id": "29a546e7-d35f-4ba2-b573-c74f39a6eba6",
   "metadata": {},
   "outputs": [],
   "source": [
    "options(repr.plot.width=15, repr.plot.height=20)"
   ]
  },
  {
   "cell_type": "code",
   "execution_count": 85,
   "id": "0a2a5a6c-d300-49df-a2d2-8a26ceef83fd",
   "metadata": {},
   "outputs": [
    {
     "name": "stderr",
     "output_type": "stream",
     "text": [
      "Picking joint bandwidth of 0.000215\n",
      "\n"
     ]
    },
    {
     "data": {
      "image/png": "[encoded data removed]",
      "text/plain": [
       "plot without title"
      ]
     },
     "metadata": {
      "image/png": {
       "height": 420,
       "width": 420
      }
     },
     "output_type": "display_data"
    }
   ],
   "source": [
    "ridgeplot(kk2) + labs(x = \"enrichment distribution\")"
   ]
  },
  {
   "cell_type": "markdown",
   "id": "51259fab-c6ba-466c-9a9c-7333b6e759a4",
   "metadata": {},
   "source": [
    "helpful [link](https://support.bioconductor.org/p/9150431/)"
   ]
  },
  {
   "cell_type": "code",
   "execution_count": 86,
   "id": "aa7ba593-382f-454e-ac82-0c2ae1a5d54a",
   "metadata": {},
   "outputs": [
    {
     "data": {
      "text/html": [
       "<style>\n",
       ".list-inline {list-style: none; margin:0; padding: 0}\n",
       ".list-inline>li {display: inline-block}\n",
       ".list-inline>li:not(:last-child)::after {content: \"\\00b7\"; padding: 0 .5ex}\n",
       "</style>\n",
       "<ol class=list-inline><li>'111099115'</li><li>'111099216'</li><li>'111099417'</li><li>'111099424'</li><li>'111099722'</li><li>'111099918'</li></ol>\n"
      ],
      "text/latex": [
       "\\begin{enumerate*}\n",
       "\\item '111099115'\n",
       "\\item '111099216'\n",
       "\\item '111099417'\n",
       "\\item '111099424'\n",
       "\\item '111099722'\n",
       "\\item '111099918'\n",
       "\\end{enumerate*}\n"
      ],
      "text/markdown": [
       "1. '111099115'\n",
       "2. '111099216'\n",
       "3. '111099417'\n",
       "4. '111099424'\n",
       "5. '111099722'\n",
       "6. '111099918'\n",
       "\n",
       "\n"
      ],
      "text/plain": [
       "[1] \"111099115\" \"111099216\" \"111099417\" \"111099424\" \"111099722\" \"111099918\""
      ]
     },
     "metadata": {},
     "output_type": "display_data"
    }
   ],
   "source": [
    "entrez_genes <- as.character(dedup_df$gene)\n",
    "head(entrez_genes)"
   ]
  },
  {
   "cell_type": "markdown",
   "id": "c6eef6c8-8064-4427-889d-8c1d4190b253",
   "metadata": {},
   "source": [
    "here just using the list of genes of interest - doesn't take into account any statistical metrics (like log2FoldChange or pvalue)"
   ]
  },
  {
   "cell_type": "code",
   "execution_count": 87,
   "id": "faa28669-ed0c-4a22-ad2d-ff0beb5cdee3",
   "metadata": {},
   "outputs": [
    {
     "data": {
      "text/plain": [
       "#\n",
       "# over-representation test\n",
       "#\n",
       "#...@organism \t cvn \n",
       "#...@ontology \t KEGG \n",
       "#...@keytype \t kegg \n",
       "#...@gene \t chr [1:401] \"111099115\" \"111099216\" \"111099417\" \"111099424\" \"111099722\" ...\n",
       "#...pvalues adjusted by 'BH' with cutoff <1 \n",
       "#...3 enriched terms found\n",
       "'data.frame':\t3 obs. of  11 variables:\n",
       " $ category   : chr  \"Cellular Processes\" \"Metabolism\" \"Cellular Processes\"\n",
       " $ subcategory: chr  \"Cell motility\" \"Carbohydrate metabolism\" \"Transport and catabolism\"\n",
       " $ ID         : chr  \"cvn04814\" \"cvn00562\" \"cvn04144\"\n",
       " $ Description: chr  \"Motor proteins - Crassostrea virginica (eastern oyster)\" \"Inositol phosphate metabolism - Crassostrea virginica (eastern oyster)\" \"Endocytosis - Crassostrea virginica (eastern oyster)\"\n",
       " $ GeneRatio  : chr  \"10/105\" \"5/105\" \"11/105\"\n",
       " $ BgRatio    : chr  \"149/5086\" \"53/5086\" \"220/5086\"\n",
       " $ pvalue     : num  0.000914 0.004455 0.005341\n",
       " $ p.adjust   : num  0.0722 0.1407 0.1407\n",
       " $ qvalue     : num  0.0712 0.1387 0.1387\n",
       " $ geneID     : chr  \"111100344/111107250/111112439/111115784/111125905/111129526/111131555/111131749/111134768/111134843\" \"111100148/111101050/111112578/111125442/111127799\" \"111110660/111112439/111112700/111115795/111116971/111120187/111125223/111125352/111125956/111127289/111136896\"\n",
       " $ Count      : int  10 5 11\n",
       "#...Citation\n",
       " T Wu, E Hu, S Xu, M Chen, P Guo, Z Dai, T Feng, L Zhou, W Tang, L Zhan, X Fu, S Liu, X Bo, and G Yu.\n",
       " clusterProfiler 4.0: A universal enrichment tool for interpreting omics data.\n",
       " The Innovation. 2021, 2(3):100141 \n"
      ]
     },
     "metadata": {},
     "output_type": "display_data"
    }
   ],
   "source": [
    "kegg <- enrichKEGG(gene = entrez_genes, organism = 'cvn', keyType=\"kegg\", pvalueCutoff = 1)\n",
    "kegg"
   ]
  },
  {
   "cell_type": "code",
   "execution_count": 88,
   "id": "8ee3ccf0-9ac8-46a9-b94d-f4eeb4433c05",
   "metadata": {},
   "outputs": [
    {
     "data": {
      "text/html": [
       "<table class=\"dataframe\">\n",
       "<caption>A data.frame: 3 × 11</caption>\n",
       "<thead>\n",
       "\t<tr><th></th><th scope=col>category</th><th scope=col>subcategory</th><th scope=col>ID</th><th scope=col>Description</th><th scope=col>GeneRatio</th><th scope=col>BgRatio</th><th scope=col>pvalue</th><th scope=col>p.adjust</th><th scope=col>qvalue</th><th scope=col>geneID</th><th scope=col>Count</th></tr>\n",
       "\t<tr><th></th><th scope=col>&lt;chr&gt;</th><th scope=col>&lt;chr&gt;</th><th scope=col>&lt;chr&gt;</th><th scope=col>&lt;chr&gt;</th><th scope=col>&lt;chr&gt;</th><th scope=col>&lt;chr&gt;</th><th scope=col>&lt;dbl&gt;</th><th scope=col>&lt;dbl&gt;</th><th scope=col>&lt;dbl&gt;</th><th scope=col>&lt;chr&gt;</th><th scope=col>&lt;int&gt;</th></tr>\n",
       "</thead>\n",
       "<tbody>\n",
       "\t<tr><th scope=row>cvn04814</th><td>Cellular Processes</td><td>Cell motility           </td><td>cvn04814</td><td>Motor proteins - Crassostrea virginica (eastern oyster)               </td><td>10/105</td><td>149/5086</td><td>0.0009143516</td><td>0.07223378</td><td>0.07122318</td><td>111100344/111107250/111112439/111115784/111125905/111129526/111131555/111131749/111134768/111134843          </td><td>10</td></tr>\n",
       "\t<tr><th scope=row>cvn00562</th><td>Metabolism        </td><td>Carbohydrate metabolism </td><td>cvn00562</td><td>Inositol phosphate metabolism - Crassostrea virginica (eastern oyster)</td><td>5/105 </td><td>53/5086 </td><td>0.0044548022</td><td>0.14065847</td><td>0.13869056</td><td>111100148/111101050/111112578/111125442/111127799                                                            </td><td> 5</td></tr>\n",
       "\t<tr><th scope=row>cvn04144</th><td>Cellular Processes</td><td>Transport and catabolism</td><td>cvn04144</td><td>Endocytosis - Crassostrea virginica (eastern oyster)                  </td><td>11/105</td><td>220/5086</td><td>0.0053414608</td><td>0.14065847</td><td>0.13869056</td><td>111110660/111112439/111112700/111115795/111116971/111120187/111125223/111125352/111125956/111127289/111136896</td><td>11</td></tr>\n",
       "</tbody>\n",
       "</table>\n"
      ],
      "text/latex": [
       "A data.frame: 3 × 11\n",
       "\\begin{tabular}{r|lllllllllll}\n",
       "  & category & subcategory & ID & Description & GeneRatio & BgRatio & pvalue & p.adjust & qvalue & geneID & Count\\\\\n",
       "  & <chr> & <chr> & <chr> & <chr> & <chr> & <chr> & <dbl> & <dbl> & <dbl> & <chr> & <int>\\\\\n",
       "\\hline\n",
       "\tcvn04814 & Cellular Processes & Cell motility            & cvn04814 & Motor proteins - Crassostrea virginica (eastern oyster)                & 10/105 & 149/5086 & 0.0009143516 & 0.07223378 & 0.07122318 & 111100344/111107250/111112439/111115784/111125905/111129526/111131555/111131749/111134768/111134843           & 10\\\\\n",
       "\tcvn00562 & Metabolism         & Carbohydrate metabolism  & cvn00562 & Inositol phosphate metabolism - Crassostrea virginica (eastern oyster) & 5/105  & 53/5086  & 0.0044548022 & 0.14065847 & 0.13869056 & 111100148/111101050/111112578/111125442/111127799                                                             &  5\\\\\n",
       "\tcvn04144 & Cellular Processes & Transport and catabolism & cvn04144 & Endocytosis - Crassostrea virginica (eastern oyster)                   & 11/105 & 220/5086 & 0.0053414608 & 0.14065847 & 0.13869056 & 111110660/111112439/111112700/111115795/111116971/111120187/111125223/111125352/111125956/111127289/111136896 & 11\\\\\n",
       "\\end{tabular}\n"
      ],
      "text/markdown": [
       "\n",
       "A data.frame: 3 × 11\n",
       "\n",
       "| <!--/--> | category &lt;chr&gt; | subcategory &lt;chr&gt; | ID &lt;chr&gt; | Description &lt;chr&gt; | GeneRatio &lt;chr&gt; | BgRatio &lt;chr&gt; | pvalue &lt;dbl&gt; | p.adjust &lt;dbl&gt; | qvalue &lt;dbl&gt; | geneID &lt;chr&gt; | Count &lt;int&gt; |\n",
       "|---|---|---|---|---|---|---|---|---|---|---|---|\n",
       "| cvn04814 | Cellular Processes | Cell motility            | cvn04814 | Motor proteins - Crassostrea virginica (eastern oyster)                | 10/105 | 149/5086 | 0.0009143516 | 0.07223378 | 0.07122318 | 111100344/111107250/111112439/111115784/111125905/111129526/111131555/111131749/111134768/111134843           | 10 |\n",
       "| cvn00562 | Metabolism         | Carbohydrate metabolism  | cvn00562 | Inositol phosphate metabolism - Crassostrea virginica (eastern oyster) | 5/105  | 53/5086  | 0.0044548022 | 0.14065847 | 0.13869056 | 111100148/111101050/111112578/111125442/111127799                                                             |  5 |\n",
       "| cvn04144 | Cellular Processes | Transport and catabolism | cvn04144 | Endocytosis - Crassostrea virginica (eastern oyster)                   | 11/105 | 220/5086 | 0.0053414608 | 0.14065847 | 0.13869056 | 111110660/111112439/111112700/111115795/111116971/111120187/111125223/111125352/111125956/111127289/111136896 | 11 |\n",
       "\n"
      ],
      "text/plain": [
       "         category           subcategory              ID      \n",
       "cvn04814 Cellular Processes Cell motility            cvn04814\n",
       "cvn00562 Metabolism         Carbohydrate metabolism  cvn00562\n",
       "cvn04144 Cellular Processes Transport and catabolism cvn04144\n",
       "         Description                                                           \n",
       "cvn04814 Motor proteins - Crassostrea virginica (eastern oyster)               \n",
       "cvn00562 Inositol phosphate metabolism - Crassostrea virginica (eastern oyster)\n",
       "cvn04144 Endocytosis - Crassostrea virginica (eastern oyster)                  \n",
       "         GeneRatio BgRatio  pvalue       p.adjust   qvalue    \n",
       "cvn04814 10/105    149/5086 0.0009143516 0.07223378 0.07122318\n",
       "cvn00562 5/105     53/5086  0.0044548022 0.14065847 0.13869056\n",
       "cvn04144 11/105    220/5086 0.0053414608 0.14065847 0.13869056\n",
       "         geneID                                                                                                       \n",
       "cvn04814 111100344/111107250/111112439/111115784/111125905/111129526/111131555/111131749/111134768/111134843          \n",
       "cvn00562 111100148/111101050/111112578/111125442/111127799                                                            \n",
       "cvn04144 111110660/111112439/111112700/111115795/111116971/111120187/111125223/111125352/111125956/111127289/111136896\n",
       "         Count\n",
       "cvn04814 10   \n",
       "cvn00562  5   \n",
       "cvn04144 11   "
      ]
     },
     "metadata": {},
     "output_type": "display_data"
    }
   ],
   "source": [
    "as.data.frame(kegg)"
   ]
  },
  {
   "cell_type": "markdown",
   "id": "d36d0c73-d125-4bc6-80d8-9d0c12297ecd",
   "metadata": {},
   "source": [
    "only 3 kegg pathways identified - only statisticall signficiant when looking at the pvalue - not p-adjusted"
   ]
  }
 ],
 "metadata": {
  "kernelspec": {
   "display_name": "R [conda env:.conda-r-env]",
   "language": "R",
   "name": "conda-env-.conda-r-env-r"
  },
  "language_info": {
   "codemirror_mode": "r",
   "file_extension": ".r",
   "mimetype": "text/x-r-source",
   "name": "R",
   "pygments_lexer": "r",
   "version": "4.3.2"
  }
 },
 "nbformat": 4,
 "nbformat_minor": 5
}
