{
 "cells": [
  {
   "cell_type": "markdown",
   "id": "5af8febd-852a-4031-9507-510dadf90d39",
   "metadata": {},
   "source": [
    "## Effects of Phase 2 (ignoring phase 1)\n",
    "## both vs. control\n",
    "\n",
    "GO analysis and GSEA with KEGG"
   ]
  },
  {
   "cell_type": "code",
   "execution_count": 59,
   "id": "a7a46278-58b4-44ff-8610-a955802c2ec1",
   "metadata": {},
   "outputs": [],
   "source": [
    "# loading packages\n",
    "library(clusterProfiler)\n",
    "library(topGO)\n",
    "library(dplyr)\n",
    "library(KEGGREST)\n",
    "library(ggplot2)"
   ]
  },
  {
   "cell_type": "markdown",
   "id": "a9031836-0b4a-4706-84df-3404160c4e07",
   "metadata": {},
   "source": [
    "What we need for GO analysis:\n",
    "- list of DMGs with pvalues (feel like this should be log2FoldChange"
   ]
  },
  {
   "cell_type": "code",
   "execution_count": 4,
   "id": "879091c9-68bc-4f1c-a367-d846297bd032",
   "metadata": {},
   "outputs": [
    {
     "data": {
      "text/html": [
       "<table class=\"dataframe\">\n",
       "<caption>A data.frame: 6 × 4</caption>\n",
       "<thead>\n",
       "\t<tr><th></th><th scope=col>gene</th><th scope=col>l2fc</th><th scope=col>pval</th><th scope=col>padj</th></tr>\n",
       "\t<tr><th></th><th scope=col>&lt;chr&gt;</th><th scope=col>&lt;dbl&gt;</th><th scope=col>&lt;dbl&gt;</th><th scope=col>&lt;dbl&gt;</th></tr>\n",
       "</thead>\n",
       "<tbody>\n",
       "\t<tr><th scope=row>1</th><td>LOC111100720</td><td>1.655455</td><td>2.341829e-05</td><td>0.0083837465</td></tr>\n",
       "\t<tr><th scope=row>2</th><td>LOC111100790</td><td>1.631569</td><td>7.118715e-05</td><td>0.0145628566</td></tr>\n",
       "\t<tr><th scope=row>3</th><td>LOC111100869</td><td>1.854173</td><td>3.033653e-05</td><td>0.0087569948</td></tr>\n",
       "\t<tr><th scope=row>4</th><td>LOC111100924</td><td>4.698931</td><td>3.330588e-04</td><td>0.0330959131</td></tr>\n",
       "\t<tr><th scope=row>5</th><td>LOC111101050</td><td>1.624020</td><td>4.134780e-04</td><td>0.0370062810</td></tr>\n",
       "\t<tr><th scope=row>6</th><td>LOC111101237</td><td>2.978028</td><td>2.908375e-07</td><td>0.0003437863</td></tr>\n",
       "</tbody>\n",
       "</table>\n"
      ],
      "text/latex": [
       "A data.frame: 6 × 4\n",
       "\\begin{tabular}{r|llll}\n",
       "  & gene & l2fc & pval & padj\\\\\n",
       "  & <chr> & <dbl> & <dbl> & <dbl>\\\\\n",
       "\\hline\n",
       "\t1 & LOC111100720 & 1.655455 & 2.341829e-05 & 0.0083837465\\\\\n",
       "\t2 & LOC111100790 & 1.631569 & 7.118715e-05 & 0.0145628566\\\\\n",
       "\t3 & LOC111100869 & 1.854173 & 3.033653e-05 & 0.0087569948\\\\\n",
       "\t4 & LOC111100924 & 4.698931 & 3.330588e-04 & 0.0330959131\\\\\n",
       "\t5 & LOC111101050 & 1.624020 & 4.134780e-04 & 0.0370062810\\\\\n",
       "\t6 & LOC111101237 & 2.978028 & 2.908375e-07 & 0.0003437863\\\\\n",
       "\\end{tabular}\n"
      ],
      "text/markdown": [
       "\n",
       "A data.frame: 6 × 4\n",
       "\n",
       "| <!--/--> | gene &lt;chr&gt; | l2fc &lt;dbl&gt; | pval &lt;dbl&gt; | padj &lt;dbl&gt; |\n",
       "|---|---|---|---|---|\n",
       "| 1 | LOC111100720 | 1.655455 | 2.341829e-05 | 0.0083837465 |\n",
       "| 2 | LOC111100790 | 1.631569 | 7.118715e-05 | 0.0145628566 |\n",
       "| 3 | LOC111100869 | 1.854173 | 3.033653e-05 | 0.0087569948 |\n",
       "| 4 | LOC111100924 | 4.698931 | 3.330588e-04 | 0.0330959131 |\n",
       "| 5 | LOC111101050 | 1.624020 | 4.134780e-04 | 0.0370062810 |\n",
       "| 6 | LOC111101237 | 2.978028 | 2.908375e-07 | 0.0003437863 |\n",
       "\n"
      ],
      "text/plain": [
       "  gene         l2fc     pval         padj        \n",
       "1 LOC111100720 1.655455 2.341829e-05 0.0083837465\n",
       "2 LOC111100790 1.631569 7.118715e-05 0.0145628566\n",
       "3 LOC111100869 1.854173 3.033653e-05 0.0087569948\n",
       "4 LOC111100924 4.698931 3.330588e-04 0.0330959131\n",
       "5 LOC111101050 1.624020 4.134780e-04 0.0370062810\n",
       "6 LOC111101237 2.978028 2.908375e-07 0.0003437863"
      ]
     },
     "metadata": {},
     "output_type": "display_data"
    }
   ],
   "source": [
    "# load significant genes df for both vs. control for phase 2\n",
    "data <- read.csv('/project/pi_sarah_gignouxwolfsohn_uml_edu/julia/CE_MethylRAD_analysis_2018/analysis/significant_genes/sig_p2_bc_genes.csv')\n",
    "\n",
    "# select needed columns (really might only need l2fc\n",
    "data2 <- select(data, Row.names, log2FoldChange, pvalue, padj)\n",
    "\n",
    "# renaming columns so they make more sense\n",
    "colnames(data2) = c('gene', 'l2fc', 'pval', 'padj')\n",
    "head(data2)"
   ]
  },
  {
   "cell_type": "code",
   "execution_count": 7,
   "id": "0229eb73-63fa-4c14-9abf-54a0a965bd9c",
   "metadata": {},
   "outputs": [
    {
     "data": {
      "text/html": [
       "<style>\n",
       ".dl-inline {width: auto; margin:0; padding: 0}\n",
       ".dl-inline>dt, .dl-inline>dd {float: none; width: auto; display: inline-block}\n",
       ".dl-inline>dt::after {content: \":\\0020\"; padding-right: .5ex}\n",
       ".dl-inline>dt:not(:first-of-type) {padding-left: .5ex}\n",
       "</style><dl class=dl-inline><dt>LOC111100720</dt><dd>1.65545469369706</dd><dt>LOC111100790</dt><dd>1.63156859278831</dd><dt>LOC111100869</dt><dd>1.85417339502682</dd><dt>LOC111100924</dt><dd>4.69893138901671</dd><dt>LOC111101050</dt><dd>1.62402016897605</dd><dt>LOC111101237</dt><dd>2.97802759902754</dd></dl>\n"
      ],
      "text/latex": [
       "\\begin{description*}\n",
       "\\item[LOC111100720] 1.65545469369706\n",
       "\\item[LOC111100790] 1.63156859278831\n",
       "\\item[LOC111100869] 1.85417339502682\n",
       "\\item[LOC111100924] 4.69893138901671\n",
       "\\item[LOC111101050] 1.62402016897605\n",
       "\\item[LOC111101237] 2.97802759902754\n",
       "\\end{description*}\n"
      ],
      "text/markdown": [
       "LOC111100720\n",
       ":   1.65545469369706LOC111100790\n",
       ":   1.63156859278831LOC111100869\n",
       ":   1.85417339502682LOC111100924\n",
       ":   4.69893138901671LOC111101050\n",
       ":   1.62402016897605LOC111101237\n",
       ":   2.97802759902754\n",
       "\n"
      ],
      "text/plain": [
       "LOC111100720 LOC111100790 LOC111100869 LOC111100924 LOC111101050 LOC111101237 \n",
       "    1.655455     1.631569     1.854173     4.698931     1.624020     2.978028 "
      ]
     },
     "metadata": {},
     "output_type": "display_data"
    },
    {
     "data": {
      "text/html": [
       "'numeric'"
      ],
      "text/latex": [
       "'numeric'"
      ],
      "text/markdown": [
       "'numeric'"
      ],
      "text/plain": [
       "[1] \"numeric\""
      ]
     },
     "metadata": {},
     "output_type": "display_data"
    }
   ],
   "source": [
    "# creating numeric vector of gene names and log2FoldChange value\n",
    "geneList <- data2$l2fc\n",
    "names(geneList) <- data2$gene\n",
    "\n",
    "# double checking things look right\n",
    "head(geneList)\n",
    "class(geneList) # numeric, used in allGenes for topGO object"
   ]
  },
  {
   "cell_type": "code",
   "execution_count": 12,
   "id": "71c65c18-0ba6-4239-944a-bc8828ae699d",
   "metadata": {},
   "outputs": [
    {
     "data": {
      "text/html": [
       "<table class=\"dataframe\">\n",
       "<caption>A data.frame: 6 × 2</caption>\n",
       "<thead>\n",
       "\t<tr><th></th><th scope=col>gene</th><th scope=col>GO_id</th></tr>\n",
       "\t<tr><th></th><th scope=col>&lt;chr&gt;</th><th scope=col>&lt;chr&gt;</th></tr>\n",
       "</thead>\n",
       "<tbody>\n",
       "\t<tr><th scope=row>1</th><td>LOC111133408</td><td>GO:2001070           </td></tr>\n",
       "\t<tr><th scope=row>2</th><td>LOC111121603</td><td>GO:2000781,GO:2000781</td></tr>\n",
       "\t<tr><th scope=row>3</th><td>LOC111132389</td><td>GO:2000145           </td></tr>\n",
       "\t<tr><th scope=row>4</th><td>LOC111115105</td><td>GO:1990904,GO:1990904</td></tr>\n",
       "\t<tr><th scope=row>5</th><td>LOC111129853</td><td>GO:1990904,GO:1990904</td></tr>\n",
       "\t<tr><th scope=row>6</th><td>LOC111101512</td><td>GO:1990904           </td></tr>\n",
       "</tbody>\n",
       "</table>\n"
      ],
      "text/latex": [
       "A data.frame: 6 × 2\n",
       "\\begin{tabular}{r|ll}\n",
       "  & gene & GO\\_id\\\\\n",
       "  & <chr> & <chr>\\\\\n",
       "\\hline\n",
       "\t1 & LOC111133408 & GO:2001070           \\\\\n",
       "\t2 & LOC111121603 & GO:2000781,GO:2000781\\\\\n",
       "\t3 & LOC111132389 & GO:2000145           \\\\\n",
       "\t4 & LOC111115105 & GO:1990904,GO:1990904\\\\\n",
       "\t5 & LOC111129853 & GO:1990904,GO:1990904\\\\\n",
       "\t6 & LOC111101512 & GO:1990904           \\\\\n",
       "\\end{tabular}\n"
      ],
      "text/markdown": [
       "\n",
       "A data.frame: 6 × 2\n",
       "\n",
       "| <!--/--> | gene &lt;chr&gt; | GO_id &lt;chr&gt; |\n",
       "|---|---|---|\n",
       "| 1 | LOC111133408 | GO:2001070            |\n",
       "| 2 | LOC111121603 | GO:2000781,GO:2000781 |\n",
       "| 3 | LOC111132389 | GO:2000145            |\n",
       "| 4 | LOC111115105 | GO:1990904,GO:1990904 |\n",
       "| 5 | LOC111129853 | GO:1990904,GO:1990904 |\n",
       "| 6 | LOC111101512 | GO:1990904            |\n",
       "\n"
      ],
      "text/plain": [
       "  gene         GO_id                \n",
       "1 LOC111133408 GO:2001070           \n",
       "2 LOC111121603 GO:2000781,GO:2000781\n",
       "3 LOC111132389 GO:2000145           \n",
       "4 LOC111115105 GO:1990904,GO:1990904\n",
       "5 LOC111129853 GO:1990904,GO:1990904\n",
       "6 LOC111101512 GO:1990904           "
      ]
     },
     "metadata": {},
     "output_type": "display_data"
    },
    {
     "data": {
      "text/html": [
       "<style>\n",
       ".list-inline {list-style: none; margin:0; padding: 0}\n",
       ".list-inline>li {display: inline-block}\n",
       ".list-inline>li:not(:last-child)::after {content: \"\\00b7\"; padding: 0 .5ex}\n",
       "</style>\n",
       "<ol class=list-inline><li>22654</li><li>2</li></ol>\n"
      ],
      "text/latex": [
       "\\begin{enumerate*}\n",
       "\\item 22654\n",
       "\\item 2\n",
       "\\end{enumerate*}\n"
      ],
      "text/markdown": [
       "1. 22654\n",
       "2. 2\n",
       "\n",
       "\n"
      ],
      "text/plain": [
       "[1] 22654     2"
      ]
     },
     "metadata": {},
     "output_type": "display_data"
    }
   ],
   "source": [
    "# loading conversion df of unique genes with associated GO ids\n",
    "geneID2GO <- read.csv('/project/pi_sarah_gignouxwolfsohn_uml_edu/julia/CE_MethylRAD_analysis_2018/analysis/GO_enrichment_analysis/geneID2GO.txt', sep='\\t')\n",
    "\n",
    "# renaming columns\n",
    "colnames(geneID2GO) = c('gene','GO_id')\n",
    "\n",
    "# checking things make sense\n",
    "head(geneID2GO)\n",
    "dim(geneID2GO) # have 22,654 unique genes that have GO annotations"
   ]
  },
  {
   "cell_type": "code",
   "execution_count": 13,
   "id": "5dc0c062-31d4-473e-9e51-6404e86e5f26",
   "metadata": {},
   "outputs": [
    {
     "data": {
      "text/html": [
       "<dl>\n",
       "\t<dt>$LOC111133408</dt>\n",
       "\t\t<dd>'GO:2001070'</dd>\n",
       "\t<dt>$LOC111121603</dt>\n",
       "\t\t<dd><style>\n",
       ".list-inline {list-style: none; margin:0; padding: 0}\n",
       ".list-inline>li {display: inline-block}\n",
       ".list-inline>li:not(:last-child)::after {content: \"\\00b7\"; padding: 0 .5ex}\n",
       "</style>\n",
       "<ol class=list-inline><li>'GO:2000781'</li><li>'GO:2000781'</li></ol>\n",
       "</dd>\n",
       "\t<dt>$LOC111132389</dt>\n",
       "\t\t<dd>'GO:2000145'</dd>\n",
       "\t<dt>$LOC111115105</dt>\n",
       "\t\t<dd><style>\n",
       ".list-inline {list-style: none; margin:0; padding: 0}\n",
       ".list-inline>li {display: inline-block}\n",
       ".list-inline>li:not(:last-child)::after {content: \"\\00b7\"; padding: 0 .5ex}\n",
       "</style>\n",
       "<ol class=list-inline><li>'GO:1990904'</li><li>'GO:1990904'</li></ol>\n",
       "</dd>\n",
       "\t<dt>$LOC111129853</dt>\n",
       "\t\t<dd><style>\n",
       ".list-inline {list-style: none; margin:0; padding: 0}\n",
       ".list-inline>li {display: inline-block}\n",
       ".list-inline>li:not(:last-child)::after {content: \"\\00b7\"; padding: 0 .5ex}\n",
       "</style>\n",
       "<ol class=list-inline><li>'GO:1990904'</li><li>'GO:1990904'</li></ol>\n",
       "</dd>\n",
       "\t<dt>$LOC111101512</dt>\n",
       "\t\t<dd>'GO:1990904'</dd>\n",
       "</dl>\n"
      ],
      "text/latex": [
       "\\begin{description}\n",
       "\\item[\\$LOC111133408] 'GO:2001070'\n",
       "\\item[\\$LOC111121603] \\begin{enumerate*}\n",
       "\\item 'GO:2000781'\n",
       "\\item 'GO:2000781'\n",
       "\\end{enumerate*}\n",
       "\n",
       "\\item[\\$LOC111132389] 'GO:2000145'\n",
       "\\item[\\$LOC111115105] \\begin{enumerate*}\n",
       "\\item 'GO:1990904'\n",
       "\\item 'GO:1990904'\n",
       "\\end{enumerate*}\n",
       "\n",
       "\\item[\\$LOC111129853] \\begin{enumerate*}\n",
       "\\item 'GO:1990904'\n",
       "\\item 'GO:1990904'\n",
       "\\end{enumerate*}\n",
       "\n",
       "\\item[\\$LOC111101512] 'GO:1990904'\n",
       "\\end{description}\n"
      ],
      "text/markdown": [
       "$LOC111133408\n",
       ":   'GO:2001070'\n",
       "$LOC111121603\n",
       ":   1. 'GO:2000781'\n",
       "2. 'GO:2000781'\n",
       "\n",
       "\n",
       "\n",
       "$LOC111132389\n",
       ":   'GO:2000145'\n",
       "$LOC111115105\n",
       ":   1. 'GO:1990904'\n",
       "2. 'GO:1990904'\n",
       "\n",
       "\n",
       "\n",
       "$LOC111129853\n",
       ":   1. 'GO:1990904'\n",
       "2. 'GO:1990904'\n",
       "\n",
       "\n",
       "\n",
       "$LOC111101512\n",
       ":   'GO:1990904'\n",
       "\n",
       "\n"
      ],
      "text/plain": [
       "$LOC111133408\n",
       "[1] \"GO:2001070\"\n",
       "\n",
       "$LOC111121603\n",
       "[1] \"GO:2000781\" \"GO:2000781\"\n",
       "\n",
       "$LOC111132389\n",
       "[1] \"GO:2000145\"\n",
       "\n",
       "$LOC111115105\n",
       "[1] \"GO:1990904\" \"GO:1990904\"\n",
       "\n",
       "$LOC111129853\n",
       "[1] \"GO:1990904\" \"GO:1990904\"\n",
       "\n",
       "$LOC111101512\n",
       "[1] \"GO:1990904\"\n"
      ]
     },
     "metadata": {},
     "output_type": "display_data"
    }
   ],
   "source": [
    "# have to create annotation file\n",
    "geneID2GO <- readMappings(file = '/project/pi_sarah_gignouxwolfsohn_uml_edu/julia/CE_MethylRAD_analysis_2018/analysis/GO_enrichment_analysis/geneID2GO.txt')\n",
    "geneID2GO <- geneID2GO[-1] # removes header\n",
    "head(geneID2GO)"
   ]
  },
  {
   "cell_type": "code",
   "execution_count": 14,
   "id": "fb57f455-0649-4e55-9ba1-0bc2c5dc4f94",
   "metadata": {},
   "outputs": [
    {
     "data": {
      "text/html": [
       "<style>\n",
       ".list-inline {list-style: none; margin:0; padding: 0}\n",
       ".list-inline>li {display: inline-block}\n",
       ".list-inline>li:not(:last-child)::after {content: \"\\00b7\"; padding: 0 .5ex}\n",
       "</style>\n",
       "<ol class=list-inline><li>'LOC111133408'</li><li>'LOC111121603'</li><li>'LOC111132389'</li><li>'LOC111115105'</li><li>'LOC111129853'</li><li>'LOC111101512'</li></ol>\n"
      ],
      "text/latex": [
       "\\begin{enumerate*}\n",
       "\\item 'LOC111133408'\n",
       "\\item 'LOC111121603'\n",
       "\\item 'LOC111132389'\n",
       "\\item 'LOC111115105'\n",
       "\\item 'LOC111129853'\n",
       "\\item 'LOC111101512'\n",
       "\\end{enumerate*}\n"
      ],
      "text/markdown": [
       "1. 'LOC111133408'\n",
       "2. 'LOC111121603'\n",
       "3. 'LOC111132389'\n",
       "4. 'LOC111115105'\n",
       "5. 'LOC111129853'\n",
       "6. 'LOC111101512'\n",
       "\n",
       "\n"
      ],
      "text/plain": [
       "[1] \"LOC111133408\" \"LOC111121603\" \"LOC111132389\" \"LOC111115105\" \"LOC111129853\"\n",
       "[6] \"LOC111101512\""
      ]
     },
     "metadata": {},
     "output_type": "display_data"
    }
   ],
   "source": [
    "geneNames <- names(geneID2GO)\n",
    "head(geneNames)"
   ]
  },
  {
   "cell_type": "code",
   "execution_count": 16,
   "id": "ad03c833-3f44-41e3-a9cc-cfb69d658165",
   "metadata": {},
   "outputs": [
    {
     "data": {
      "text/html": [
       "10"
      ],
      "text/latex": [
       "10"
      ],
      "text/markdown": [
       "10"
      ],
      "text/plain": [
       "[1] 10"
      ]
     },
     "metadata": {},
     "output_type": "display_data"
    }
   ],
   "source": [
    "topDiffGenes <- function(allScore) {\n",
    "    return(allScore < 0.01)\n",
    "}\n",
    "\n",
    "x <- topDiffGenes(geneList)\n",
    "sum(x) ## the number of selected genes"
   ]
  },
  {
   "cell_type": "markdown",
   "id": "7693105e-8172-48d7-986d-c8b1d4492e6f",
   "metadata": {},
   "source": [
    "#### GO analysis: molecular function"
   ]
  },
  {
   "cell_type": "code",
   "execution_count": 28,
   "id": "538e38dd-dfd0-45e3-bf5e-5ac8eb4e9b46",
   "metadata": {},
   "outputs": [
    {
     "name": "stderr",
     "output_type": "stream",
     "text": [
      "\n",
      "Building most specific GOs .....\n",
      "\n",
      "\t( 73 GO terms found. )\n",
      "\n",
      "\n",
      "Build GO DAG topology ..........\n",
      "\n",
      "\t( 212 GO terms and 268 relations. )\n",
      "\n",
      "\n",
      "Annotating nodes ...............\n",
      "\n",
      "\t( 66 genes annotated to the GO terms. )\n",
      "\n"
     ]
    },
    {
     "data": {
      "text/plain": [
       "\n",
       "------------------------- topGOdata object -------------------------\n",
       "\n",
       " Description:\n",
       "   -  DMGs in phase 2 both vs. control \n",
       "\n",
       " Ontology:\n",
       "   -  MF \n",
       "\n",
       " 111 available genes (all genes from the array):\n",
       "   - symbol:  LOC111100720 LOC111100790 LOC111100869 LOC111100924 LOC111101050  ...\n",
       "   - score :  1.655454694 1.631568593 1.854173395 4.698931389 1.624020169  ...\n",
       "   - 10  significant genes. \n",
       "\n",
       " 66 feasible genes (genes that can be used in the analysis):\n",
       "   - symbol:  LOC111100790 LOC111100869 LOC111100924 LOC111101050 LOC111101237  ...\n",
       "   - score :  1.631568593 1.854173395 4.698931389 1.624020169 2.978027599  ...\n",
       "   - 6  significant genes. \n",
       "\n",
       " GO graph (nodes with at least  1  genes):\n",
       "   - a graph with directed edges\n",
       "   - number of nodes = 212 \n",
       "   - number of edges = 268 \n",
       "\n",
       "------------------------- topGOdata object -------------------------\n"
      ]
     },
     "metadata": {},
     "output_type": "display_data"
    }
   ],
   "source": [
    "# creating GO data object\n",
    "GOdata_MF <- new(\"topGOdata\", \n",
    "              description = 'DMGs in phase 2 both vs. control',\n",
    "              ontology = \"MF\", \n",
    "              allGenes = geneList,\n",
    "              geneSel = topDiffGenes,\n",
    "              annot = annFUN.gene2GO, \n",
    "              gene2GO = geneID2GO)\n",
    "GOdata_MF"
   ]
  },
  {
   "cell_type": "code",
   "execution_count": 39,
   "id": "2fa6ae4f-4d6d-4117-b765-47473804eda0",
   "metadata": {},
   "outputs": [
    {
     "name": "stderr",
     "output_type": "stream",
     "text": [
      "\n",
      "\t\t\t -- Weight01 Algorithm -- \n",
      "\n",
      "\t\t the algorithm is scoring 212 nontrivial nodes\n",
      "\t\t parameters: \n",
      "\t\t\t test statistic: ks\n",
      "\t\t\t score order: increasing\n",
      "\n",
      "\n",
      "\t Level 10:\t1 nodes to be scored\t(0 eliminated genes)\n",
      "\n",
      "\n",
      "\t Level 9:\t4 nodes to be scored\t(0 eliminated genes)\n",
      "\n",
      "\n",
      "\t Level 8:\t13 nodes to be scored\t(1 eliminated genes)\n",
      "\n",
      "\n",
      "\t Level 7:\t26 nodes to be scored\t(19 eliminated genes)\n",
      "\n",
      "\n",
      "\t Level 6:\t40 nodes to be scored\t(25 eliminated genes)\n",
      "\n",
      "\n",
      "\t Level 5:\t50 nodes to be scored\t(33 eliminated genes)\n",
      "\n",
      "\n",
      "\t Level 4:\t42 nodes to be scored\t(48 eliminated genes)\n",
      "\n",
      "\n",
      "\t Level 3:\t24 nodes to be scored\t(62 eliminated genes)\n",
      "\n",
      "\n",
      "\t Level 2:\t11 nodes to be scored\t(63 eliminated genes)\n",
      "\n",
      "\n",
      "\t Level 1:\t1 nodes to be scored\t(66 eliminated genes)\n",
      "\n"
     ]
    },
    {
     "data": {
      "text/html": [
       "<table class=\"dataframe\">\n",
       "<caption>A data.frame: 10 × 6</caption>\n",
       "<thead>\n",
       "\t<tr><th></th><th scope=col>GO.ID</th><th scope=col>Term</th><th scope=col>Annotated</th><th scope=col>Significant</th><th scope=col>Expected</th><th scope=col>raw.p.value</th></tr>\n",
       "\t<tr><th></th><th scope=col>&lt;chr&gt;</th><th scope=col>&lt;chr&gt;</th><th scope=col>&lt;int&gt;</th><th scope=col>&lt;int&gt;</th><th scope=col>&lt;dbl&gt;</th><th scope=col>&lt;chr&gt;</th></tr>\n",
       "</thead>\n",
       "<tbody>\n",
       "\t<tr><th scope=row>1</th><td>GO:0046923</td><td>ER retention sequence binding                                 </td><td>1</td><td>1</td><td>0.09</td><td>0.015</td></tr>\n",
       "\t<tr><th scope=row>2</th><td>GO:0005096</td><td>GTPase activator activity                                     </td><td>2</td><td>0</td><td>0.18</td><td>0.021</td></tr>\n",
       "\t<tr><th scope=row>3</th><td>GO:0018064</td><td>protein-L-histidine N-tele-methyltransferase activity         </td><td>1</td><td>1</td><td>0.09</td><td>0.030</td></tr>\n",
       "\t<tr><th scope=row>4</th><td>GO:0015165</td><td>pyrimidine nucleotide-sugar transmembrane transporter activity</td><td>1</td><td>1</td><td>0.09</td><td>0.061</td></tr>\n",
       "\t<tr><th scope=row>5</th><td>GO:0017154</td><td>semaphorin receptor activity                                  </td><td>1</td><td>1</td><td>0.09</td><td>0.076</td></tr>\n",
       "\t<tr><th scope=row>6</th><td>GO:0005245</td><td>voltage-gated calcium channel activity                        </td><td>1</td><td>1</td><td>0.09</td><td>0.091</td></tr>\n",
       "\t<tr><th scope=row>7</th><td>GO:0004622</td><td>lysophospholipase activity                                    </td><td>1</td><td>0</td><td>0.09</td><td>0.121</td></tr>\n",
       "\t<tr><th scope=row>8</th><td>GO:0002020</td><td>protease binding                                              </td><td>1</td><td>0</td><td>0.09</td><td>0.136</td></tr>\n",
       "\t<tr><th scope=row>9</th><td>GO:0070513</td><td>death domain binding                                          </td><td>1</td><td>0</td><td>0.09</td><td>0.136</td></tr>\n",
       "\t<tr><th scope=row>10</th><td>GO:0000146</td><td>microfilament motor activity                                  </td><td>1</td><td>0</td><td>0.09</td><td>0.152</td></tr>\n",
       "</tbody>\n",
       "</table>\n"
      ],
      "text/latex": [
       "A data.frame: 10 × 6\n",
       "\\begin{tabular}{r|llllll}\n",
       "  & GO.ID & Term & Annotated & Significant & Expected & raw.p.value\\\\\n",
       "  & <chr> & <chr> & <int> & <int> & <dbl> & <chr>\\\\\n",
       "\\hline\n",
       "\t1 & GO:0046923 & ER retention sequence binding                                  & 1 & 1 & 0.09 & 0.015\\\\\n",
       "\t2 & GO:0005096 & GTPase activator activity                                      & 2 & 0 & 0.18 & 0.021\\\\\n",
       "\t3 & GO:0018064 & protein-L-histidine N-tele-methyltransferase activity          & 1 & 1 & 0.09 & 0.030\\\\\n",
       "\t4 & GO:0015165 & pyrimidine nucleotide-sugar transmembrane transporter activity & 1 & 1 & 0.09 & 0.061\\\\\n",
       "\t5 & GO:0017154 & semaphorin receptor activity                                   & 1 & 1 & 0.09 & 0.076\\\\\n",
       "\t6 & GO:0005245 & voltage-gated calcium channel activity                         & 1 & 1 & 0.09 & 0.091\\\\\n",
       "\t7 & GO:0004622 & lysophospholipase activity                                     & 1 & 0 & 0.09 & 0.121\\\\\n",
       "\t8 & GO:0002020 & protease binding                                               & 1 & 0 & 0.09 & 0.136\\\\\n",
       "\t9 & GO:0070513 & death domain binding                                           & 1 & 0 & 0.09 & 0.136\\\\\n",
       "\t10 & GO:0000146 & microfilament motor activity                                   & 1 & 0 & 0.09 & 0.152\\\\\n",
       "\\end{tabular}\n"
      ],
      "text/markdown": [
       "\n",
       "A data.frame: 10 × 6\n",
       "\n",
       "| <!--/--> | GO.ID &lt;chr&gt; | Term &lt;chr&gt; | Annotated &lt;int&gt; | Significant &lt;int&gt; | Expected &lt;dbl&gt; | raw.p.value &lt;chr&gt; |\n",
       "|---|---|---|---|---|---|---|\n",
       "| 1 | GO:0046923 | ER retention sequence binding                                  | 1 | 1 | 0.09 | 0.015 |\n",
       "| 2 | GO:0005096 | GTPase activator activity                                      | 2 | 0 | 0.18 | 0.021 |\n",
       "| 3 | GO:0018064 | protein-L-histidine N-tele-methyltransferase activity          | 1 | 1 | 0.09 | 0.030 |\n",
       "| 4 | GO:0015165 | pyrimidine nucleotide-sugar transmembrane transporter activity | 1 | 1 | 0.09 | 0.061 |\n",
       "| 5 | GO:0017154 | semaphorin receptor activity                                   | 1 | 1 | 0.09 | 0.076 |\n",
       "| 6 | GO:0005245 | voltage-gated calcium channel activity                         | 1 | 1 | 0.09 | 0.091 |\n",
       "| 7 | GO:0004622 | lysophospholipase activity                                     | 1 | 0 | 0.09 | 0.121 |\n",
       "| 8 | GO:0002020 | protease binding                                               | 1 | 0 | 0.09 | 0.136 |\n",
       "| 9 | GO:0070513 | death domain binding                                           | 1 | 0 | 0.09 | 0.136 |\n",
       "| 10 | GO:0000146 | microfilament motor activity                                   | 1 | 0 | 0.09 | 0.152 |\n",
       "\n"
      ],
      "text/plain": [
       "   GO.ID      Term                                                          \n",
       "1  GO:0046923 ER retention sequence binding                                 \n",
       "2  GO:0005096 GTPase activator activity                                     \n",
       "3  GO:0018064 protein-L-histidine N-tele-methyltransferase activity         \n",
       "4  GO:0015165 pyrimidine nucleotide-sugar transmembrane transporter activity\n",
       "5  GO:0017154 semaphorin receptor activity                                  \n",
       "6  GO:0005245 voltage-gated calcium channel activity                        \n",
       "7  GO:0004622 lysophospholipase activity                                    \n",
       "8  GO:0002020 protease binding                                              \n",
       "9  GO:0070513 death domain binding                                          \n",
       "10 GO:0000146 microfilament motor activity                                  \n",
       "   Annotated Significant Expected raw.p.value\n",
       "1  1         1           0.09     0.015      \n",
       "2  2         0           0.18     0.021      \n",
       "3  1         1           0.09     0.030      \n",
       "4  1         1           0.09     0.061      \n",
       "5  1         1           0.09     0.076      \n",
       "6  1         1           0.09     0.091      \n",
       "7  1         0           0.09     0.121      \n",
       "8  1         0           0.09     0.136      \n",
       "9  1         0           0.09     0.136      \n",
       "10 1         0           0.09     0.152      "
      ]
     },
     "metadata": {},
     "output_type": "display_data"
    }
   ],
   "source": [
    "# KS stat\n",
    "resultKS_MF <- runTest(GOdata_MF, algorithm = \"weight01\", statistic = \"ks\")\n",
    "\n",
    "# putting result into readable table\n",
    "tab_MF <- GenTable(GOdata_MF, raw.p.value = resultKS_MF, topNodes = length(resultKS_MF@score), numChar = 120)\n",
    "\n",
    "# showing top 10 GO term results\n",
    "head(tab_MF, 10)"
   ]
  },
  {
   "cell_type": "markdown",
   "id": "3c591098-1981-4319-9317-fedafdbde5c8",
   "metadata": {},
   "source": [
    "#### GO analysis for cellular component"
   ]
  },
  {
   "cell_type": "code",
   "execution_count": 41,
   "id": "7f59b63e-e18d-477c-87e4-8cc0ecadcf75",
   "metadata": {},
   "outputs": [
    {
     "name": "stderr",
     "output_type": "stream",
     "text": [
      "\n",
      "Building most specific GOs .....\n",
      "\n",
      "\t( 31 GO terms found. )\n",
      "\n",
      "\n",
      "Build GO DAG topology ..........\n",
      "\n",
      "\t( 85 GO terms and 144 relations. )\n",
      "\n",
      "\n",
      "Annotating nodes ...............\n",
      "\n",
      "\t( 58 genes annotated to the GO terms. )\n",
      "\n"
     ]
    },
    {
     "data": {
      "text/plain": [
       "\n",
       "------------------------- topGOdata object -------------------------\n",
       "\n",
       " Description:\n",
       "   -  DMGs in phase 2 both vs. control \n",
       "\n",
       " Ontology:\n",
       "   -  CC \n",
       "\n",
       " 111 available genes (all genes from the array):\n",
       "   - symbol:  LOC111100720 LOC111100790 LOC111100869 LOC111100924 LOC111101050  ...\n",
       "   - score :  1.655454694 1.631568593 1.854173395 4.698931389 1.624020169  ...\n",
       "   - 10  significant genes. \n",
       "\n",
       " 58 feasible genes (genes that can be used in the analysis):\n",
       "   - symbol:  LOC111100869 LOC111101237 LOC111104344 LOC111104770 LOC111107351  ...\n",
       "   - score :  1.854173395 2.978027599 1.262573487 3.466359414 -1.617929664  ...\n",
       "   - 6  significant genes. \n",
       "\n",
       " GO graph (nodes with at least  1  genes):\n",
       "   - a graph with directed edges\n",
       "   - number of nodes = 85 \n",
       "   - number of edges = 144 \n",
       "\n",
       "------------------------- topGOdata object -------------------------\n"
      ]
     },
     "metadata": {},
     "output_type": "display_data"
    }
   ],
   "source": [
    "# creating GO data object\n",
    "GOdata_CC <- new(\"topGOdata\", \n",
    "              description = 'DMGs in phase 2 both vs. control',\n",
    "              ontology = \"CC\", \n",
    "              allGenes = geneList,\n",
    "              geneSel = topDiffGenes,\n",
    "              annot = annFUN.gene2GO, \n",
    "              gene2GO = geneID2GO)\n",
    "GOdata_CC"
   ]
  },
  {
   "cell_type": "code",
   "execution_count": 43,
   "id": "9317cfea-2094-491d-9788-631f74870a7d",
   "metadata": {},
   "outputs": [
    {
     "name": "stderr",
     "output_type": "stream",
     "text": [
      "\n",
      "\t\t\t -- Weight01 Algorithm -- \n",
      "\n",
      "\t\t the algorithm is scoring 85 nontrivial nodes\n",
      "\t\t parameters: \n",
      "\t\t\t test statistic: ks\n",
      "\t\t\t score order: increasing\n",
      "\n",
      "\n",
      "\t Level 10:\t2 nodes to be scored\t(0 eliminated genes)\n",
      "\n",
      "\n",
      "\t Level 9:\t6 nodes to be scored\t(0 eliminated genes)\n",
      "\n",
      "\n",
      "\t Level 8:\t9 nodes to be scored\t(2 eliminated genes)\n",
      "\n",
      "\n",
      "\t Level 7:\t11 nodes to be scored\t(8 eliminated genes)\n",
      "\n",
      "\n",
      "\t Level 6:\t15 nodes to be scored\t(13 eliminated genes)\n",
      "\n",
      "\n",
      "\t Level 5:\t15 nodes to be scored\t(15 eliminated genes)\n",
      "\n",
      "\n",
      "\t Level 4:\t11 nodes to be scored\t(25 eliminated genes)\n",
      "\n",
      "\n",
      "\t Level 3:\t13 nodes to be scored\t(26 eliminated genes)\n",
      "\n",
      "\n",
      "\t Level 2:\t2 nodes to be scored\t(36 eliminated genes)\n",
      "\n",
      "\n",
      "\t Level 1:\t1 nodes to be scored\t(57 eliminated genes)\n",
      "\n"
     ]
    },
    {
     "data": {
      "text/html": [
       "<table class=\"dataframe\">\n",
       "<caption>A data.frame: 10 × 6</caption>\n",
       "<thead>\n",
       "\t<tr><th></th><th scope=col>GO.ID</th><th scope=col>Term</th><th scope=col>Annotated</th><th scope=col>Significant</th><th scope=col>Expected</th><th scope=col>raw.p.value</th></tr>\n",
       "\t<tr><th></th><th scope=col>&lt;chr&gt;</th><th scope=col>&lt;chr&gt;</th><th scope=col>&lt;int&gt;</th><th scope=col>&lt;int&gt;</th><th scope=col>&lt;dbl&gt;</th><th scope=col>&lt;chr&gt;</th></tr>\n",
       "</thead>\n",
       "<tbody>\n",
       "\t<tr><th scope=row>1</th><td>GO:0000139</td><td>Golgi membrane                                    </td><td> 1</td><td>1</td><td>0.10</td><td>0.069</td></tr>\n",
       "\t<tr><th scope=row>2</th><td>GO:0005891</td><td>voltage-gated calcium channel complex             </td><td> 1</td><td>1</td><td>0.10</td><td>0.103</td></tr>\n",
       "\t<tr><th scope=row>3</th><td>GO:0016459</td><td>myosin complex                                    </td><td> 1</td><td>0</td><td>0.10</td><td>0.138</td></tr>\n",
       "\t<tr><th scope=row>4</th><td>GO:0016282</td><td>eukaryotic 43S preinitiation complex              </td><td> 1</td><td>0</td><td>0.10</td><td>0.207</td></tr>\n",
       "\t<tr><th scope=row>5</th><td>GO:0033290</td><td>eukaryotic 48S preinitiation complex              </td><td> 1</td><td>0</td><td>0.10</td><td>0.207</td></tr>\n",
       "\t<tr><th scope=row>6</th><td>GO:0005852</td><td>eukaryotic translation initiation factor 3 complex</td><td> 1</td><td>0</td><td>0.10</td><td>0.207</td></tr>\n",
       "\t<tr><th scope=row>7</th><td>GO:0005789</td><td>endoplasmic reticulum membrane                    </td><td> 3</td><td>1</td><td>0.31</td><td>0.272</td></tr>\n",
       "\t<tr><th scope=row>8</th><td>GO:0031932</td><td>TORC2 complex                                     </td><td> 1</td><td>0</td><td>0.10</td><td>0.276</td></tr>\n",
       "\t<tr><th scope=row>9</th><td>GO:0005737</td><td>cytoplasm                                         </td><td>20</td><td>4</td><td>2.07</td><td>0.286</td></tr>\n",
       "\t<tr><th scope=row>10</th><td>GO:0110165</td><td>cellular anatomical entity                        </td><td>56</td><td>6</td><td>5.79</td><td>0.333</td></tr>\n",
       "</tbody>\n",
       "</table>\n"
      ],
      "text/latex": [
       "A data.frame: 10 × 6\n",
       "\\begin{tabular}{r|llllll}\n",
       "  & GO.ID & Term & Annotated & Significant & Expected & raw.p.value\\\\\n",
       "  & <chr> & <chr> & <int> & <int> & <dbl> & <chr>\\\\\n",
       "\\hline\n",
       "\t1 & GO:0000139 & Golgi membrane                                     &  1 & 1 & 0.10 & 0.069\\\\\n",
       "\t2 & GO:0005891 & voltage-gated calcium channel complex              &  1 & 1 & 0.10 & 0.103\\\\\n",
       "\t3 & GO:0016459 & myosin complex                                     &  1 & 0 & 0.10 & 0.138\\\\\n",
       "\t4 & GO:0016282 & eukaryotic 43S preinitiation complex               &  1 & 0 & 0.10 & 0.207\\\\\n",
       "\t5 & GO:0033290 & eukaryotic 48S preinitiation complex               &  1 & 0 & 0.10 & 0.207\\\\\n",
       "\t6 & GO:0005852 & eukaryotic translation initiation factor 3 complex &  1 & 0 & 0.10 & 0.207\\\\\n",
       "\t7 & GO:0005789 & endoplasmic reticulum membrane                     &  3 & 1 & 0.31 & 0.272\\\\\n",
       "\t8 & GO:0031932 & TORC2 complex                                      &  1 & 0 & 0.10 & 0.276\\\\\n",
       "\t9 & GO:0005737 & cytoplasm                                          & 20 & 4 & 2.07 & 0.286\\\\\n",
       "\t10 & GO:0110165 & cellular anatomical entity                         & 56 & 6 & 5.79 & 0.333\\\\\n",
       "\\end{tabular}\n"
      ],
      "text/markdown": [
       "\n",
       "A data.frame: 10 × 6\n",
       "\n",
       "| <!--/--> | GO.ID &lt;chr&gt; | Term &lt;chr&gt; | Annotated &lt;int&gt; | Significant &lt;int&gt; | Expected &lt;dbl&gt; | raw.p.value &lt;chr&gt; |\n",
       "|---|---|---|---|---|---|---|\n",
       "| 1 | GO:0000139 | Golgi membrane                                     |  1 | 1 | 0.10 | 0.069 |\n",
       "| 2 | GO:0005891 | voltage-gated calcium channel complex              |  1 | 1 | 0.10 | 0.103 |\n",
       "| 3 | GO:0016459 | myosin complex                                     |  1 | 0 | 0.10 | 0.138 |\n",
       "| 4 | GO:0016282 | eukaryotic 43S preinitiation complex               |  1 | 0 | 0.10 | 0.207 |\n",
       "| 5 | GO:0033290 | eukaryotic 48S preinitiation complex               |  1 | 0 | 0.10 | 0.207 |\n",
       "| 6 | GO:0005852 | eukaryotic translation initiation factor 3 complex |  1 | 0 | 0.10 | 0.207 |\n",
       "| 7 | GO:0005789 | endoplasmic reticulum membrane                     |  3 | 1 | 0.31 | 0.272 |\n",
       "| 8 | GO:0031932 | TORC2 complex                                      |  1 | 0 | 0.10 | 0.276 |\n",
       "| 9 | GO:0005737 | cytoplasm                                          | 20 | 4 | 2.07 | 0.286 |\n",
       "| 10 | GO:0110165 | cellular anatomical entity                         | 56 | 6 | 5.79 | 0.333 |\n",
       "\n"
      ],
      "text/plain": [
       "   GO.ID      Term                                               Annotated\n",
       "1  GO:0000139 Golgi membrane                                      1       \n",
       "2  GO:0005891 voltage-gated calcium channel complex               1       \n",
       "3  GO:0016459 myosin complex                                      1       \n",
       "4  GO:0016282 eukaryotic 43S preinitiation complex                1       \n",
       "5  GO:0033290 eukaryotic 48S preinitiation complex                1       \n",
       "6  GO:0005852 eukaryotic translation initiation factor 3 complex  1       \n",
       "7  GO:0005789 endoplasmic reticulum membrane                      3       \n",
       "8  GO:0031932 TORC2 complex                                       1       \n",
       "9  GO:0005737 cytoplasm                                          20       \n",
       "10 GO:0110165 cellular anatomical entity                         56       \n",
       "   Significant Expected raw.p.value\n",
       "1  1           0.10     0.069      \n",
       "2  1           0.10     0.103      \n",
       "3  0           0.10     0.138      \n",
       "4  0           0.10     0.207      \n",
       "5  0           0.10     0.207      \n",
       "6  0           0.10     0.207      \n",
       "7  1           0.31     0.272      \n",
       "8  0           0.10     0.276      \n",
       "9  4           2.07     0.286      \n",
       "10 6           5.79     0.333      "
      ]
     },
     "metadata": {},
     "output_type": "display_data"
    }
   ],
   "source": [
    "# KS stat\n",
    "resultKS_CC <- runTest(GOdata_CC, algorithm = \"weight01\", statistic = \"ks\")\n",
    "\n",
    "# putting result into readable table\n",
    "tab_CC <- GenTable(GOdata_CC, raw.p.value = resultKS_CC, topNodes = length(resultKS_CC@score), numChar = 120)\n",
    "\n",
    "# showing top 10 GO term results\n",
    "head(tab_CC, 10)"
   ]
  },
  {
   "cell_type": "markdown",
   "id": "39b48146-3e7b-46c7-b300-793d8b7dde4c",
   "metadata": {},
   "source": [
    "#### GO analysis for biological process"
   ]
  },
  {
   "cell_type": "code",
   "execution_count": 44,
   "id": "5bfe551e-f9ec-4a81-9001-322aa9e868d5",
   "metadata": {},
   "outputs": [
    {
     "name": "stderr",
     "output_type": "stream",
     "text": [
      "\n",
      "Building most specific GOs .....\n",
      "\n",
      "\t( 43 GO terms found. )\n",
      "\n",
      "\n",
      "Build GO DAG topology ..........\n",
      "\n",
      "\t( 231 GO terms and 425 relations. )\n",
      "\n",
      "\n",
      "Annotating nodes ...............\n",
      "\n",
      "\t( 41 genes annotated to the GO terms. )\n",
      "\n"
     ]
    },
    {
     "data": {
      "text/plain": [
       "\n",
       "------------------------- topGOdata object -------------------------\n",
       "\n",
       " Description:\n",
       "   -  DMGs in phase 2 both vs. control \n",
       "\n",
       " Ontology:\n",
       "   -  BP \n",
       "\n",
       " 111 available genes (all genes from the array):\n",
       "   - symbol:  LOC111100720 LOC111100790 LOC111100869 LOC111100924 LOC111101050  ...\n",
       "   - score :  1.655454694 1.631568593 1.854173395 4.698931389 1.624020169  ...\n",
       "   - 10  significant genes. \n",
       "\n",
       " 41 feasible genes (genes that can be used in the analysis):\n",
       "   - symbol:  LOC111100790 LOC111101050 LOC111101237 LOC111106800 LOC111107351  ...\n",
       "   - score :  1.631568593 1.624020169 2.978027599 2.904505956 -1.617929664  ...\n",
       "   - 4  significant genes. \n",
       "\n",
       " GO graph (nodes with at least  1  genes):\n",
       "   - a graph with directed edges\n",
       "   - number of nodes = 231 \n",
       "   - number of edges = 425 \n",
       "\n",
       "------------------------- topGOdata object -------------------------\n"
      ]
     },
     "metadata": {},
     "output_type": "display_data"
    }
   ],
   "source": [
    "# creating GO data object\n",
    "GOdata_BP <- new(\"topGOdata\", \n",
    "              description = 'DMGs in phase 2 both vs. control',\n",
    "              ontology = \"BP\", \n",
    "              allGenes = geneList,\n",
    "              geneSel = topDiffGenes,\n",
    "              annot = annFUN.gene2GO, \n",
    "              gene2GO = geneID2GO)\n",
    "GOdata_BP"
   ]
  },
  {
   "cell_type": "code",
   "execution_count": 45,
   "id": "3f682389-c2a0-49ed-978a-9891ea75a8ee",
   "metadata": {},
   "outputs": [
    {
     "name": "stderr",
     "output_type": "stream",
     "text": [
      "\n",
      "\t\t\t -- Weight01 Algorithm -- \n",
      "\n",
      "\t\t the algorithm is scoring 231 nontrivial nodes\n",
      "\t\t parameters: \n",
      "\t\t\t test statistic: ks\n",
      "\t\t\t score order: increasing\n",
      "\n",
      "\n",
      "\t Level 12:\t1 nodes to be scored\t(0 eliminated genes)\n",
      "\n",
      "\n",
      "\t Level 11:\t3 nodes to be scored\t(0 eliminated genes)\n",
      "\n",
      "\n",
      "\t Level 10:\t8 nodes to be scored\t(1 eliminated genes)\n",
      "\n",
      "\n",
      "\t Level 9:\t14 nodes to be scored\t(3 eliminated genes)\n",
      "\n",
      "\n",
      "\t Level 8:\t22 nodes to be scored\t(10 eliminated genes)\n",
      "\n",
      "\n",
      "\t Level 7:\t26 nodes to be scored\t(12 eliminated genes)\n",
      "\n",
      "\n",
      "\t Level 6:\t47 nodes to be scored\t(18 eliminated genes)\n",
      "\n",
      "\n",
      "\t Level 5:\t52 nodes to be scored\t(22 eliminated genes)\n",
      "\n",
      "\n",
      "\t Level 4:\t33 nodes to be scored\t(36 eliminated genes)\n",
      "\n",
      "\n",
      "\t Level 3:\t19 nodes to be scored\t(39 eliminated genes)\n",
      "\n",
      "\n",
      "\t Level 2:\t5 nodes to be scored\t(40 eliminated genes)\n",
      "\n",
      "\n",
      "\t Level 1:\t1 nodes to be scored\t(41 eliminated genes)\n",
      "\n"
     ]
    },
    {
     "data": {
      "text/html": [
       "<table class=\"dataframe\">\n",
       "<caption>A data.frame: 10 × 6</caption>\n",
       "<thead>\n",
       "\t<tr><th></th><th scope=col>GO.ID</th><th scope=col>Term</th><th scope=col>Annotated</th><th scope=col>Significant</th><th scope=col>Expected</th><th scope=col>raw.p.value</th></tr>\n",
       "\t<tr><th></th><th scope=col>&lt;chr&gt;</th><th scope=col>&lt;chr&gt;</th><th scope=col>&lt;int&gt;</th><th scope=col>&lt;int&gt;</th><th scope=col>&lt;dbl&gt;</th><th scope=col>&lt;chr&gt;</th></tr>\n",
       "</thead>\n",
       "<tbody>\n",
       "\t<tr><th scope=row>1</th><td>GO:0006621</td><td>protein retention in ER lumen                       </td><td> 1</td><td>1</td><td>0.10</td><td>0.024</td></tr>\n",
       "\t<tr><th scope=row>2</th><td>GO:0032259</td><td>methylation                                         </td><td> 1</td><td>1</td><td>0.10</td><td>0.049</td></tr>\n",
       "\t<tr><th scope=row>3</th><td>GO:0016043</td><td>cellular component organization                     </td><td> 3</td><td>1</td><td>0.29</td><td>0.051</td></tr>\n",
       "\t<tr><th scope=row>4</th><td>GO:0043170</td><td>macromolecule metabolic process                     </td><td>14</td><td>1</td><td>1.37</td><td>0.071</td></tr>\n",
       "\t<tr><th scope=row>5</th><td>GO:0008643</td><td>carbohydrate transport                              </td><td> 1</td><td>1</td><td>0.10</td><td>0.073</td></tr>\n",
       "\t<tr><th scope=row>6</th><td>GO:0034765</td><td>regulation of monoatomic ion transmembrane transport</td><td> 1</td><td>1</td><td>0.10</td><td>0.098</td></tr>\n",
       "\t<tr><th scope=row>7</th><td>GO:0046470</td><td>phosphatidylcholine metabolic process               </td><td> 1</td><td>0</td><td>0.10</td><td>0.122</td></tr>\n",
       "\t<tr><th scope=row>8</th><td>GO:0035556</td><td>intracellular signal transduction                   </td><td> 4</td><td>0</td><td>0.39</td><td>0.146</td></tr>\n",
       "\t<tr><th scope=row>9</th><td>GO:0042981</td><td>regulation of apoptotic process                     </td><td> 1</td><td>0</td><td>0.10</td><td>0.146</td></tr>\n",
       "\t<tr><th scope=row>10</th><td>GO:0007155</td><td>cell adhesion                                       </td><td> 1</td><td>0</td><td>0.10</td><td>0.244</td></tr>\n",
       "</tbody>\n",
       "</table>\n"
      ],
      "text/latex": [
       "A data.frame: 10 × 6\n",
       "\\begin{tabular}{r|llllll}\n",
       "  & GO.ID & Term & Annotated & Significant & Expected & raw.p.value\\\\\n",
       "  & <chr> & <chr> & <int> & <int> & <dbl> & <chr>\\\\\n",
       "\\hline\n",
       "\t1 & GO:0006621 & protein retention in ER lumen                        &  1 & 1 & 0.10 & 0.024\\\\\n",
       "\t2 & GO:0032259 & methylation                                          &  1 & 1 & 0.10 & 0.049\\\\\n",
       "\t3 & GO:0016043 & cellular component organization                      &  3 & 1 & 0.29 & 0.051\\\\\n",
       "\t4 & GO:0043170 & macromolecule metabolic process                      & 14 & 1 & 1.37 & 0.071\\\\\n",
       "\t5 & GO:0008643 & carbohydrate transport                               &  1 & 1 & 0.10 & 0.073\\\\\n",
       "\t6 & GO:0034765 & regulation of monoatomic ion transmembrane transport &  1 & 1 & 0.10 & 0.098\\\\\n",
       "\t7 & GO:0046470 & phosphatidylcholine metabolic process                &  1 & 0 & 0.10 & 0.122\\\\\n",
       "\t8 & GO:0035556 & intracellular signal transduction                    &  4 & 0 & 0.39 & 0.146\\\\\n",
       "\t9 & GO:0042981 & regulation of apoptotic process                      &  1 & 0 & 0.10 & 0.146\\\\\n",
       "\t10 & GO:0007155 & cell adhesion                                        &  1 & 0 & 0.10 & 0.244\\\\\n",
       "\\end{tabular}\n"
      ],
      "text/markdown": [
       "\n",
       "A data.frame: 10 × 6\n",
       "\n",
       "| <!--/--> | GO.ID &lt;chr&gt; | Term &lt;chr&gt; | Annotated &lt;int&gt; | Significant &lt;int&gt; | Expected &lt;dbl&gt; | raw.p.value &lt;chr&gt; |\n",
       "|---|---|---|---|---|---|---|\n",
       "| 1 | GO:0006621 | protein retention in ER lumen                        |  1 | 1 | 0.10 | 0.024 |\n",
       "| 2 | GO:0032259 | methylation                                          |  1 | 1 | 0.10 | 0.049 |\n",
       "| 3 | GO:0016043 | cellular component organization                      |  3 | 1 | 0.29 | 0.051 |\n",
       "| 4 | GO:0043170 | macromolecule metabolic process                      | 14 | 1 | 1.37 | 0.071 |\n",
       "| 5 | GO:0008643 | carbohydrate transport                               |  1 | 1 | 0.10 | 0.073 |\n",
       "| 6 | GO:0034765 | regulation of monoatomic ion transmembrane transport |  1 | 1 | 0.10 | 0.098 |\n",
       "| 7 | GO:0046470 | phosphatidylcholine metabolic process                |  1 | 0 | 0.10 | 0.122 |\n",
       "| 8 | GO:0035556 | intracellular signal transduction                    |  4 | 0 | 0.39 | 0.146 |\n",
       "| 9 | GO:0042981 | regulation of apoptotic process                      |  1 | 0 | 0.10 | 0.146 |\n",
       "| 10 | GO:0007155 | cell adhesion                                        |  1 | 0 | 0.10 | 0.244 |\n",
       "\n"
      ],
      "text/plain": [
       "   GO.ID      Term                                                 Annotated\n",
       "1  GO:0006621 protein retention in ER lumen                         1       \n",
       "2  GO:0032259 methylation                                           1       \n",
       "3  GO:0016043 cellular component organization                       3       \n",
       "4  GO:0043170 macromolecule metabolic process                      14       \n",
       "5  GO:0008643 carbohydrate transport                                1       \n",
       "6  GO:0034765 regulation of monoatomic ion transmembrane transport  1       \n",
       "7  GO:0046470 phosphatidylcholine metabolic process                 1       \n",
       "8  GO:0035556 intracellular signal transduction                     4       \n",
       "9  GO:0042981 regulation of apoptotic process                       1       \n",
       "10 GO:0007155 cell adhesion                                         1       \n",
       "   Significant Expected raw.p.value\n",
       "1  1           0.10     0.024      \n",
       "2  1           0.10     0.049      \n",
       "3  1           0.29     0.051      \n",
       "4  1           1.37     0.071      \n",
       "5  1           0.10     0.073      \n",
       "6  1           0.10     0.098      \n",
       "7  0           0.10     0.122      \n",
       "8  0           0.39     0.146      \n",
       "9  0           0.10     0.146      \n",
       "10 0           0.10     0.244      "
      ]
     },
     "metadata": {},
     "output_type": "display_data"
    }
   ],
   "source": [
    "# KS stat\n",
    "resultKS_BP <- runTest(GOdata_BP, algorithm = \"weight01\", statistic = \"ks\")\n",
    "\n",
    "# putting result into readable table\n",
    "tab_BP <- GenTable(GOdata_BP, raw.p.value = resultKS_BP, topNodes = length(resultKS_BP@score), numChar = 120)\n",
    "\n",
    "# showing top 10 GO term results\n",
    "head(tab_BP, 10)"
   ]
  },
  {
   "cell_type": "markdown",
   "id": "48c6f174-40db-493c-bdbf-5925ecaf3338",
   "metadata": {},
   "source": [
    "## Gene Set Enrichment Analysis with clusterProfiler\n",
    "looking for enriched KEGG pathways with a ranked gene list"
   ]
  },
  {
   "cell_type": "code",
   "execution_count": 50,
   "id": "daadf74a-cdf8-46ba-ba72-baaa1eeed37b",
   "metadata": {},
   "outputs": [
    {
     "data": {
      "text/html": [
       "<table class=\"dataframe\">\n",
       "<caption>A data.frame: 6 × 2</caption>\n",
       "<thead>\n",
       "\t<tr><th></th><th scope=col>gene</th><th scope=col>l2fc</th></tr>\n",
       "\t<tr><th></th><th scope=col>&lt;chr&gt;</th><th scope=col>&lt;dbl&gt;</th></tr>\n",
       "</thead>\n",
       "<tbody>\n",
       "\t<tr><th scope=row>1</th><td>LOC111100720</td><td>1.655455</td></tr>\n",
       "\t<tr><th scope=row>2</th><td>LOC111100790</td><td>1.631569</td></tr>\n",
       "\t<tr><th scope=row>3</th><td>LOC111100869</td><td>1.854173</td></tr>\n",
       "\t<tr><th scope=row>4</th><td>LOC111100924</td><td>4.698931</td></tr>\n",
       "\t<tr><th scope=row>5</th><td>LOC111101050</td><td>1.624020</td></tr>\n",
       "\t<tr><th scope=row>6</th><td>LOC111101237</td><td>2.978028</td></tr>\n",
       "</tbody>\n",
       "</table>\n"
      ],
      "text/latex": [
       "A data.frame: 6 × 2\n",
       "\\begin{tabular}{r|ll}\n",
       "  & gene & l2fc\\\\\n",
       "  & <chr> & <dbl>\\\\\n",
       "\\hline\n",
       "\t1 & LOC111100720 & 1.655455\\\\\n",
       "\t2 & LOC111100790 & 1.631569\\\\\n",
       "\t3 & LOC111100869 & 1.854173\\\\\n",
       "\t4 & LOC111100924 & 4.698931\\\\\n",
       "\t5 & LOC111101050 & 1.624020\\\\\n",
       "\t6 & LOC111101237 & 2.978028\\\\\n",
       "\\end{tabular}\n"
      ],
      "text/markdown": [
       "\n",
       "A data.frame: 6 × 2\n",
       "\n",
       "| <!--/--> | gene &lt;chr&gt; | l2fc &lt;dbl&gt; |\n",
       "|---|---|---|\n",
       "| 1 | LOC111100720 | 1.655455 |\n",
       "| 2 | LOC111100790 | 1.631569 |\n",
       "| 3 | LOC111100869 | 1.854173 |\n",
       "| 4 | LOC111100924 | 4.698931 |\n",
       "| 5 | LOC111101050 | 1.624020 |\n",
       "| 6 | LOC111101237 | 2.978028 |\n",
       "\n"
      ],
      "text/plain": [
       "  gene         l2fc    \n",
       "1 LOC111100720 1.655455\n",
       "2 LOC111100790 1.631569\n",
       "3 LOC111100869 1.854173\n",
       "4 LOC111100924 4.698931\n",
       "5 LOC111101050 1.624020\n",
       "6 LOC111101237 2.978028"
      ]
     },
     "metadata": {},
     "output_type": "display_data"
    }
   ],
   "source": [
    "# already have a df with DMGs and scores - need just gene and l2fc\n",
    "df <- select(data2, gene, l2fc)\n",
    "head(df)"
   ]
  },
  {
   "cell_type": "code",
   "execution_count": 48,
   "id": "220b6841-d5b4-4818-8b43-18b8ba19fe6d",
   "metadata": {},
   "outputs": [
    {
     "data": {
      "text/html": [
       "<table class=\"dataframe\">\n",
       "<caption>A data.frame: 6 × 2</caption>\n",
       "<thead>\n",
       "\t<tr><th></th><th scope=col>gene</th><th scope=col>entrez_ID</th></tr>\n",
       "\t<tr><th></th><th scope=col>&lt;chr&gt;</th><th scope=col>&lt;int&gt;</th></tr>\n",
       "</thead>\n",
       "<tbody>\n",
       "\t<tr><th scope=row>1</th><td>LOC111129490</td><td>111129490</td></tr>\n",
       "\t<tr><th scope=row>2</th><td>LOC111134206</td><td>111134206</td></tr>\n",
       "\t<tr><th scope=row>3</th><td>LOC111110636</td><td>111110636</td></tr>\n",
       "\t<tr><th scope=row>4</th><td>LOC111128687</td><td>111128687</td></tr>\n",
       "\t<tr><th scope=row>5</th><td>LOC111100790</td><td>111100790</td></tr>\n",
       "\t<tr><th scope=row>6</th><td>LOC111124361</td><td>111124361</td></tr>\n",
       "</tbody>\n",
       "</table>\n"
      ],
      "text/latex": [
       "A data.frame: 6 × 2\n",
       "\\begin{tabular}{r|ll}\n",
       "  & gene & entrez\\_ID\\\\\n",
       "  & <chr> & <int>\\\\\n",
       "\\hline\n",
       "\t1 & LOC111129490 & 111129490\\\\\n",
       "\t2 & LOC111134206 & 111134206\\\\\n",
       "\t3 & LOC111110636 & 111110636\\\\\n",
       "\t4 & LOC111128687 & 111128687\\\\\n",
       "\t5 & LOC111100790 & 111100790\\\\\n",
       "\t6 & LOC111124361 & 111124361\\\\\n",
       "\\end{tabular}\n"
      ],
      "text/markdown": [
       "\n",
       "A data.frame: 6 × 2\n",
       "\n",
       "| <!--/--> | gene &lt;chr&gt; | entrez_ID &lt;int&gt; |\n",
       "|---|---|---|\n",
       "| 1 | LOC111129490 | 111129490 |\n",
       "| 2 | LOC111134206 | 111134206 |\n",
       "| 3 | LOC111110636 | 111110636 |\n",
       "| 4 | LOC111128687 | 111128687 |\n",
       "| 5 | LOC111100790 | 111100790 |\n",
       "| 6 | LOC111124361 | 111124361 |\n",
       "\n"
      ],
      "text/plain": [
       "  gene         entrez_ID\n",
       "1 LOC111129490 111129490\n",
       "2 LOC111134206 111134206\n",
       "3 LOC111110636 111110636\n",
       "4 LOC111128687 111128687\n",
       "5 LOC111100790 111100790\n",
       "6 LOC111124361 111124361"
      ]
     },
     "metadata": {},
     "output_type": "display_data"
    }
   ],
   "source": [
    "# need to have conversion table for gene name to entrez id\n",
    "david_df <- read.csv('/project/pi_sarah_gignouxwolfsohn_uml_edu/julia/CE_MethylRAD_analysis_2018/analysis/KEGG_pathway/sig_p2_bc_convert.txt', sep='\\t')\n",
    "# only selecting columns that I need\n",
    "david_df <- select(david_df, From, To)\n",
    "# renaming columns for merge\n",
    "colnames(david_df) = c('gene', 'entrez_ID')\n",
    "head(david_df)"
   ]
  },
  {
   "cell_type": "code",
   "execution_count": 52,
   "id": "bc88d02b-9be4-452f-9c5f-895966bf518b",
   "metadata": {},
   "outputs": [
    {
     "data": {
      "text/html": [
       "<table class=\"dataframe\">\n",
       "<caption>A data.frame: 6 × 2</caption>\n",
       "<thead>\n",
       "\t<tr><th></th><th scope=col>entrez_ID</th><th scope=col>l2fc</th></tr>\n",
       "\t<tr><th></th><th scope=col>&lt;int&gt;</th><th scope=col>&lt;dbl&gt;</th></tr>\n",
       "</thead>\n",
       "<tbody>\n",
       "\t<tr><th scope=row>1</th><td>111100720</td><td>1.655455</td></tr>\n",
       "\t<tr><th scope=row>2</th><td>111100790</td><td>1.631569</td></tr>\n",
       "\t<tr><th scope=row>3</th><td>111100869</td><td>1.854173</td></tr>\n",
       "\t<tr><th scope=row>4</th><td>111100924</td><td>4.698931</td></tr>\n",
       "\t<tr><th scope=row>5</th><td>111101050</td><td>1.624020</td></tr>\n",
       "\t<tr><th scope=row>6</th><td>111101237</td><td>2.978028</td></tr>\n",
       "</tbody>\n",
       "</table>\n"
      ],
      "text/latex": [
       "A data.frame: 6 × 2\n",
       "\\begin{tabular}{r|ll}\n",
       "  & entrez\\_ID & l2fc\\\\\n",
       "  & <int> & <dbl>\\\\\n",
       "\\hline\n",
       "\t1 & 111100720 & 1.655455\\\\\n",
       "\t2 & 111100790 & 1.631569\\\\\n",
       "\t3 & 111100869 & 1.854173\\\\\n",
       "\t4 & 111100924 & 4.698931\\\\\n",
       "\t5 & 111101050 & 1.624020\\\\\n",
       "\t6 & 111101237 & 2.978028\\\\\n",
       "\\end{tabular}\n"
      ],
      "text/markdown": [
       "\n",
       "A data.frame: 6 × 2\n",
       "\n",
       "| <!--/--> | entrez_ID &lt;int&gt; | l2fc &lt;dbl&gt; |\n",
       "|---|---|---|\n",
       "| 1 | 111100720 | 1.655455 |\n",
       "| 2 | 111100790 | 1.631569 |\n",
       "| 3 | 111100869 | 1.854173 |\n",
       "| 4 | 111100924 | 4.698931 |\n",
       "| 5 | 111101050 | 1.624020 |\n",
       "| 6 | 111101237 | 2.978028 |\n",
       "\n"
      ],
      "text/plain": [
       "  entrez_ID l2fc    \n",
       "1 111100720 1.655455\n",
       "2 111100790 1.631569\n",
       "3 111100869 1.854173\n",
       "4 111100924 4.698931\n",
       "5 111101050 1.624020\n",
       "6 111101237 2.978028"
      ]
     },
     "metadata": {},
     "output_type": "display_data"
    }
   ],
   "source": [
    "# matching up dataframes so entrez id has a log2FoldChange value\n",
    "merge <- merge(david_df, df, by = 'gene', all=TRUE)\n",
    "\n",
    "# grabbing just the entrez_ID and l2fc value\n",
    "merge_df <- select(merge, entrez_ID, l2fc)\n",
    "head(merge_df)"
   ]
  },
  {
   "cell_type": "code",
   "execution_count": 55,
   "id": "f4c59b94-bb00-42be-8473-b35c4d9e8899",
   "metadata": {},
   "outputs": [
    {
     "data": {
      "text/html": [
       "111"
      ],
      "text/latex": [
       "111"
      ],
      "text/markdown": [
       "111"
      ],
      "text/plain": [
       "[1] 111"
      ]
     },
     "metadata": {},
     "output_type": "display_data"
    },
    {
     "data": {
      "text/html": [
       "111"
      ],
      "text/latex": [
       "111"
      ],
      "text/markdown": [
       "111"
      ],
      "text/plain": [
       "[1] 111"
      ]
     },
     "metadata": {},
     "output_type": "display_data"
    }
   ],
   "source": [
    "# checking that there's only unique genes\n",
    "length(unique(merge_df$entrez_ID))\n",
    "length(merge_df$entrez_ID)\n",
    "# both have 111, so all good there"
   ]
  },
  {
   "cell_type": "code",
   "execution_count": 58,
   "id": "18ef7506-fd15-41fd-9a25-70a4e889c9a9",
   "metadata": {},
   "outputs": [
    {
     "data": {
      "text/html": [
       "<style>\n",
       ".dl-inline {width: auto; margin:0; padding: 0}\n",
       ".dl-inline>dt, .dl-inline>dd {float: none; width: auto; display: inline-block}\n",
       ".dl-inline>dt::after {content: \":\\0020\"; padding-right: .5ex}\n",
       ".dl-inline>dt:not(:first-of-type) {padding-left: .5ex}\n",
       "</style><dl class=dl-inline><dt>111116746</dt><dd>5.18820023741969</dd><dt>111122067</dt><dd>5.13490735583961</dd><dt>111134236</dt><dd>4.8143831752136</dd><dt>111114067</dt><dd>4.72110439953379</dd><dt>111100924</dt><dd>4.69893138901671</dd><dt>111113369</dt><dd>4.68589201610157</dd></dl>\n"
      ],
      "text/latex": [
       "\\begin{description*}\n",
       "\\item[111116746] 5.18820023741969\n",
       "\\item[111122067] 5.13490735583961\n",
       "\\item[111134236] 4.8143831752136\n",
       "\\item[111114067] 4.72110439953379\n",
       "\\item[111100924] 4.69893138901671\n",
       "\\item[111113369] 4.68589201610157\n",
       "\\end{description*}\n"
      ],
      "text/markdown": [
       "111116746\n",
       ":   5.18820023741969111122067\n",
       ":   5.13490735583961111134236\n",
       ":   4.8143831752136111114067\n",
       ":   4.72110439953379111100924\n",
       ":   4.69893138901671111113369\n",
       ":   4.68589201610157\n",
       "\n"
      ],
      "text/plain": [
       "111116746 111122067 111134236 111114067 111100924 111113369 \n",
       " 5.188200  5.134907  4.814383  4.721104  4.698931  4.685892 "
      ]
     },
     "metadata": {},
     "output_type": "display_data"
    },
    {
     "data": {
      "text/html": [
       "'numeric'"
      ],
      "text/latex": [
       "'numeric'"
      ],
      "text/markdown": [
       "'numeric'"
      ],
      "text/plain": [
       "[1] \"numeric\""
      ]
     },
     "metadata": {},
     "output_type": "display_data"
    },
    {
     "data": {
      "text/html": [
       "111"
      ],
      "text/latex": [
       "111"
      ],
      "text/markdown": [
       "111"
      ],
      "text/plain": [
       "[1] 111"
      ]
     },
     "metadata": {},
     "output_type": "display_data"
    }
   ],
   "source": [
    "# Create a vector of the gene unuiverse\n",
    "kegg_gene_list <- merge_df$l2fc\n",
    "\n",
    "# Name vector with ENTREZ ids\n",
    "names(kegg_gene_list) <- merge_df$entrez_ID\n",
    "\n",
    "# omit any NA values \n",
    "kegg_gene_list<-na.omit(kegg_gene_list)\n",
    "\n",
    "# sort the list in decreasing order (required for clusterProfiler)\n",
    "kegg_gene_list = sort(kegg_gene_list, decreasing = TRUE)\n",
    "\n",
    "head(kegg_gene_list)\n",
    "class(kegg_gene_list) # numeric\n",
    "length(kegg_gene_list) # 111 genes"
   ]
  },
  {
   "cell_type": "code",
   "execution_count": 60,
   "id": "5af9066c-1cb9-4ba5-b133-e4b6e82cd314",
   "metadata": {},
   "outputs": [
    {
     "name": "stderr",
     "output_type": "stream",
     "text": [
      "Reading KEGG annotation online: \"https://rest.kegg.jp/link/cvn/pathway\"...\n",
      "\n",
      "Reading KEGG annotation online: \"https://rest.kegg.jp/list/pathway/cvn\"...\n",
      "\n",
      "preparing geneSet collections...\n",
      "\n",
      "GSEA analysis...\n",
      "\n",
      "Warning message in .GSEA(geneList = geneList, exponent = exponent, minGSSize = minGSSize, :\n",
      "“We do not recommend using nPerm parameter incurrent and future releases”\n",
      "Warning message in fgsea(pathways = geneSets, stats = geneList, nperm = nPerm, minSize = minGSSize, :\n",
      "“You are trying to run fgseaSimple. It is recommended to use fgseaMultilevel. To run fgseaMultilevel, you need to remove the nperm argument in the fgsea function call.”\n",
      "leading edge analysis...\n",
      "\n",
      "done...\n",
      "\n"
     ]
    }
   ],
   "source": [
    "kegg_organism = \"cvn\"\n",
    "kk2 <- gseKEGG(geneList     = kegg_gene_list,\n",
    "               organism     = kegg_organism,\n",
    "               nPerm        = 10000,\n",
    "               minGSSize    = 1,\n",
    "               maxGSSize    = 800,\n",
    "               pvalueCutoff = 1, # if this is set to 1, see more pathways, but 0.05 is statistically signif.\n",
    "               pAdjustMethod = \"BH\", # Benjamini–Hochberg FDR (false discover rate)\n",
    "               scoreType = \"pos\",\n",
    "               keyType       = \"kegg\")"
   ]
  },
  {
   "cell_type": "code",
   "execution_count": 61,
   "id": "6c40f477-8699-419c-9e0a-b672c6eec4b9",
   "metadata": {},
   "outputs": [
    {
     "data": {
      "text/html": [
       "<table class=\"dataframe\">\n",
       "<caption>A data.frame: 6 × 11</caption>\n",
       "<thead>\n",
       "\t<tr><th></th><th scope=col>ID</th><th scope=col>Description</th><th scope=col>setSize</th><th scope=col>enrichmentScore</th><th scope=col>NES</th><th scope=col>pvalue</th><th scope=col>p.adjust</th><th scope=col>qvalue</th><th scope=col>rank</th><th scope=col>leading_edge</th><th scope=col>core_enrichment</th></tr>\n",
       "\t<tr><th></th><th scope=col>&lt;chr&gt;</th><th scope=col>&lt;chr&gt;</th><th scope=col>&lt;int&gt;</th><th scope=col>&lt;dbl&gt;</th><th scope=col>&lt;dbl&gt;</th><th scope=col>&lt;dbl&gt;</th><th scope=col>&lt;dbl&gt;</th><th scope=col>&lt;dbl&gt;</th><th scope=col>&lt;dbl&gt;</th><th scope=col>&lt;chr&gt;</th><th scope=col>&lt;chr&gt;</th></tr>\n",
       "</thead>\n",
       "<tbody>\n",
       "\t<tr><th scope=row>cvn03010</th><td>cvn03010</td><td>Ribosome                               </td><td>1</td><td>0.9727273</td><td>1.928202</td><td>0.03569643</td><td>0.4619538</td><td>0.4619538</td><td> 4</td><td>tags=100%, list=4%, signal=97% </td><td>111114067</td></tr>\n",
       "\t<tr><th scope=row>cvn00240</th><td>cvn00240</td><td>Pyrimidine metabolism                  </td><td>1</td><td>0.9181818</td><td>1.820079</td><td>0.09149085</td><td>0.4619538</td><td>0.4619538</td><td>10</td><td>tags=100%, list=9%, signal=92% </td><td>111121137</td></tr>\n",
       "\t<tr><th scope=row>cvn00983</th><td>cvn00983</td><td>Drug metabolism                        </td><td>1</td><td>0.9181818</td><td>1.820079</td><td>0.09149085</td><td>0.4619538</td><td>0.4619538</td><td>10</td><td>tags=100%, list=9%, signal=92% </td><td>111121137</td></tr>\n",
       "\t<tr><th scope=row>cvn01232</th><td>cvn01232</td><td>Nucleotide metabolism                  </td><td>1</td><td>0.9181818</td><td>1.820079</td><td>0.09149085</td><td>0.4619538</td><td>0.4619538</td><td>10</td><td>tags=100%, list=9%, signal=92% </td><td>111121137</td></tr>\n",
       "\t<tr><th scope=row>cvn04080</th><td>cvn04080</td><td>Neuroactive ligand-receptor interaction</td><td>1</td><td>0.9000000</td><td>1.784038</td><td>0.10708929</td><td>0.4619538</td><td>0.4619538</td><td>12</td><td>tags=100%, list=11%, signal=90%</td><td>111121996</td></tr>\n",
       "\t<tr><th scope=row>cvn00020</th><td>cvn00020</td><td>Citrate cycle (TCA cycle)              </td><td>1</td><td>0.8727273</td><td>1.729976</td><td>0.12598740</td><td>0.4619538</td><td>0.4619538</td><td>15</td><td>tags=100%, list=14%, signal=87%</td><td>111128687</td></tr>\n",
       "</tbody>\n",
       "</table>\n"
      ],
      "text/latex": [
       "A data.frame: 6 × 11\n",
       "\\begin{tabular}{r|lllllllllll}\n",
       "  & ID & Description & setSize & enrichmentScore & NES & pvalue & p.adjust & qvalue & rank & leading\\_edge & core\\_enrichment\\\\\n",
       "  & <chr> & <chr> & <int> & <dbl> & <dbl> & <dbl> & <dbl> & <dbl> & <dbl> & <chr> & <chr>\\\\\n",
       "\\hline\n",
       "\tcvn03010 & cvn03010 & Ribosome                                & 1 & 0.9727273 & 1.928202 & 0.03569643 & 0.4619538 & 0.4619538 &  4 & tags=100\\%, list=4\\%, signal=97\\%  & 111114067\\\\\n",
       "\tcvn00240 & cvn00240 & Pyrimidine metabolism                   & 1 & 0.9181818 & 1.820079 & 0.09149085 & 0.4619538 & 0.4619538 & 10 & tags=100\\%, list=9\\%, signal=92\\%  & 111121137\\\\\n",
       "\tcvn00983 & cvn00983 & Drug metabolism                         & 1 & 0.9181818 & 1.820079 & 0.09149085 & 0.4619538 & 0.4619538 & 10 & tags=100\\%, list=9\\%, signal=92\\%  & 111121137\\\\\n",
       "\tcvn01232 & cvn01232 & Nucleotide metabolism                   & 1 & 0.9181818 & 1.820079 & 0.09149085 & 0.4619538 & 0.4619538 & 10 & tags=100\\%, list=9\\%, signal=92\\%  & 111121137\\\\\n",
       "\tcvn04080 & cvn04080 & Neuroactive ligand-receptor interaction & 1 & 0.9000000 & 1.784038 & 0.10708929 & 0.4619538 & 0.4619538 & 12 & tags=100\\%, list=11\\%, signal=90\\% & 111121996\\\\\n",
       "\tcvn00020 & cvn00020 & Citrate cycle (TCA cycle)               & 1 & 0.8727273 & 1.729976 & 0.12598740 & 0.4619538 & 0.4619538 & 15 & tags=100\\%, list=14\\%, signal=87\\% & 111128687\\\\\n",
       "\\end{tabular}\n"
      ],
      "text/markdown": [
       "\n",
       "A data.frame: 6 × 11\n",
       "\n",
       "| <!--/--> | ID &lt;chr&gt; | Description &lt;chr&gt; | setSize &lt;int&gt; | enrichmentScore &lt;dbl&gt; | NES &lt;dbl&gt; | pvalue &lt;dbl&gt; | p.adjust &lt;dbl&gt; | qvalue &lt;dbl&gt; | rank &lt;dbl&gt; | leading_edge &lt;chr&gt; | core_enrichment &lt;chr&gt; |\n",
       "|---|---|---|---|---|---|---|---|---|---|---|---|\n",
       "| cvn03010 | cvn03010 | Ribosome                                | 1 | 0.9727273 | 1.928202 | 0.03569643 | 0.4619538 | 0.4619538 |  4 | tags=100%, list=4%, signal=97%  | 111114067 |\n",
       "| cvn00240 | cvn00240 | Pyrimidine metabolism                   | 1 | 0.9181818 | 1.820079 | 0.09149085 | 0.4619538 | 0.4619538 | 10 | tags=100%, list=9%, signal=92%  | 111121137 |\n",
       "| cvn00983 | cvn00983 | Drug metabolism                         | 1 | 0.9181818 | 1.820079 | 0.09149085 | 0.4619538 | 0.4619538 | 10 | tags=100%, list=9%, signal=92%  | 111121137 |\n",
       "| cvn01232 | cvn01232 | Nucleotide metabolism                   | 1 | 0.9181818 | 1.820079 | 0.09149085 | 0.4619538 | 0.4619538 | 10 | tags=100%, list=9%, signal=92%  | 111121137 |\n",
       "| cvn04080 | cvn04080 | Neuroactive ligand-receptor interaction | 1 | 0.9000000 | 1.784038 | 0.10708929 | 0.4619538 | 0.4619538 | 12 | tags=100%, list=11%, signal=90% | 111121996 |\n",
       "| cvn00020 | cvn00020 | Citrate cycle (TCA cycle)               | 1 | 0.8727273 | 1.729976 | 0.12598740 | 0.4619538 | 0.4619538 | 15 | tags=100%, list=14%, signal=87% | 111128687 |\n",
       "\n"
      ],
      "text/plain": [
       "         ID       Description                             setSize\n",
       "cvn03010 cvn03010 Ribosome                                1      \n",
       "cvn00240 cvn00240 Pyrimidine metabolism                   1      \n",
       "cvn00983 cvn00983 Drug metabolism                         1      \n",
       "cvn01232 cvn01232 Nucleotide metabolism                   1      \n",
       "cvn04080 cvn04080 Neuroactive ligand-receptor interaction 1      \n",
       "cvn00020 cvn00020 Citrate cycle (TCA cycle)               1      \n",
       "         enrichmentScore NES      pvalue     p.adjust  qvalue    rank\n",
       "cvn03010 0.9727273       1.928202 0.03569643 0.4619538 0.4619538  4  \n",
       "cvn00240 0.9181818       1.820079 0.09149085 0.4619538 0.4619538 10  \n",
       "cvn00983 0.9181818       1.820079 0.09149085 0.4619538 0.4619538 10  \n",
       "cvn01232 0.9181818       1.820079 0.09149085 0.4619538 0.4619538 10  \n",
       "cvn04080 0.9000000       1.784038 0.10708929 0.4619538 0.4619538 12  \n",
       "cvn00020 0.8727273       1.729976 0.12598740 0.4619538 0.4619538 15  \n",
       "         leading_edge                    core_enrichment\n",
       "cvn03010 tags=100%, list=4%, signal=97%  111114067      \n",
       "cvn00240 tags=100%, list=9%, signal=92%  111121137      \n",
       "cvn00983 tags=100%, list=9%, signal=92%  111121137      \n",
       "cvn01232 tags=100%, list=9%, signal=92%  111121137      \n",
       "cvn04080 tags=100%, list=11%, signal=90% 111121996      \n",
       "cvn00020 tags=100%, list=14%, signal=87% 111128687      "
      ]
     },
     "metadata": {},
     "output_type": "display_data"
    }
   ],
   "source": [
    "kk2_df <- as.data.frame(kk2)\n",
    "kk2_df$Description <- sub(\" -.*\", \"\", kk2_df$Description)\n",
    "head(kk2_df) # actually shows the entire df since there's only 5 pathways with pval<0.05"
   ]
  },
  {
   "cell_type": "markdown",
   "id": "e0539fee-1fde-4abf-b736-640cd49a8e53",
   "metadata": {},
   "source": [
    "only have 1 gene per 'enriched pathway' - adjusted pvalues are also high..."
   ]
  }
 ],
 "metadata": {
  "kernelspec": {
   "display_name": "R [conda env:.conda-r-env]",
   "language": "R",
   "name": "conda-env-.conda-r-env-r"
  },
  "language_info": {
   "codemirror_mode": "r",
   "file_extension": ".r",
   "mimetype": "text/x-r-source",
   "name": "R",
   "pygments_lexer": "r",
   "version": "4.3.2"
  }
 },
 "nbformat": 4,
 "nbformat_minor": 5
}
