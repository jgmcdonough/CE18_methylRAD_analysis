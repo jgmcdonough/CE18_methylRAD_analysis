{
 "cells": [
  {
   "cell_type": "markdown",
   "id": "5af8febd-852a-4031-9507-510dadf90d39",
   "metadata": {},
   "source": [
    "## Effects of Phase 2 (ignoring phase 1)\n",
    "## hypoxic vs. control\n",
    "\n",
    "GO analysis and GSEA with KEGG"
   ]
  },
  {
   "cell_type": "code",
   "execution_count": 1,
   "id": "a7a46278-58b4-44ff-8610-a955802c2ec1",
   "metadata": {},
   "outputs": [
    {
     "name": "stderr",
     "output_type": "stream",
     "text": [
      "\n",
      "\n",
      "clusterProfiler v4.10.0  For help: https://yulab-smu.top/biomedical-knowledge-mining-book/\n",
      "\n",
      "If you use clusterProfiler in published research, please cite:\n",
      "T Wu, E Hu, S Xu, M Chen, P Guo, Z Dai, T Feng, L Zhou, W Tang, L Zhan, X Fu, S Liu, X Bo, and G Yu. clusterProfiler 4.0: A universal enrichment tool for interpreting omics data. The Innovation. 2021, 2(3):100141\n",
      "\n",
      "\n",
      "Attaching package: ‘clusterProfiler’\n",
      "\n",
      "\n",
      "The following object is masked from ‘package:stats’:\n",
      "\n",
      "    filter\n",
      "\n",
      "\n",
      "Loading required package: BiocGenerics\n",
      "\n",
      "\n",
      "Attaching package: ‘BiocGenerics’\n",
      "\n",
      "\n",
      "The following objects are masked from ‘package:stats’:\n",
      "\n",
      "    IQR, mad, sd, var, xtabs\n",
      "\n",
      "\n",
      "The following objects are masked from ‘package:base’:\n",
      "\n",
      "    anyDuplicated, aperm, append, as.data.frame, basename, cbind,\n",
      "    colnames, dirname, do.call, duplicated, eval, evalq, Filter, Find,\n",
      "    get, grep, grepl, intersect, is.unsorted, lapply, Map, mapply,\n",
      "    match, mget, order, paste, pmax, pmax.int, pmin, pmin.int,\n",
      "    Position, rank, rbind, Reduce, rownames, sapply, setdiff, sort,\n",
      "    table, tapply, union, unique, unsplit, which.max, which.min\n",
      "\n",
      "\n",
      "Loading required package: graph\n",
      "\n",
      "Loading required package: Biobase\n",
      "\n",
      "Welcome to Bioconductor\n",
      "\n",
      "    Vignettes contain introductory material; view with\n",
      "    'browseVignettes()'. To cite Bioconductor, see\n",
      "    'citation(\"Biobase\")', and for packages 'citation(\"pkgname\")'.\n",
      "\n",
      "\n",
      "Loading required package: GO.db\n",
      "\n",
      "Loading required package: AnnotationDbi\n",
      "\n",
      "Loading required package: stats4\n",
      "\n",
      "Loading required package: IRanges\n",
      "\n",
      "Loading required package: S4Vectors\n",
      "\n",
      "\n",
      "Attaching package: ‘S4Vectors’\n",
      "\n",
      "\n",
      "The following object is masked from ‘package:clusterProfiler’:\n",
      "\n",
      "    rename\n",
      "\n",
      "\n",
      "The following object is masked from ‘package:utils’:\n",
      "\n",
      "    findMatches\n",
      "\n",
      "\n",
      "The following objects are masked from ‘package:base’:\n",
      "\n",
      "    expand.grid, I, unname\n",
      "\n",
      "\n",
      "\n",
      "Attaching package: ‘IRanges’\n",
      "\n",
      "\n",
      "The following object is masked from ‘package:clusterProfiler’:\n",
      "\n",
      "    slice\n",
      "\n",
      "\n",
      "\n",
      "Attaching package: ‘AnnotationDbi’\n",
      "\n",
      "\n",
      "The following object is masked from ‘package:clusterProfiler’:\n",
      "\n",
      "    select\n",
      "\n",
      "\n",
      "Loading required package: SparseM\n",
      "\n",
      "\n",
      "Attaching package: ‘SparseM’\n",
      "\n",
      "\n",
      "The following object is masked from ‘package:base’:\n",
      "\n",
      "    backsolve\n",
      "\n",
      "\n",
      "\n",
      "groupGOTerms: \tGOBPTerm, GOMFTerm, GOCCTerm environments built.\n",
      "\n",
      "\n",
      "Attaching package: ‘topGO’\n",
      "\n",
      "\n",
      "The following object is masked from ‘package:IRanges’:\n",
      "\n",
      "    members\n",
      "\n",
      "\n",
      "\n",
      "Attaching package: ‘dplyr’\n",
      "\n",
      "\n",
      "The following object is masked from ‘package:AnnotationDbi’:\n",
      "\n",
      "    select\n",
      "\n",
      "\n",
      "The following objects are masked from ‘package:IRanges’:\n",
      "\n",
      "    collapse, desc, intersect, setdiff, slice, union\n",
      "\n",
      "\n",
      "The following objects are masked from ‘package:S4Vectors’:\n",
      "\n",
      "    first, intersect, rename, setdiff, setequal, union\n",
      "\n",
      "\n",
      "The following object is masked from ‘package:Biobase’:\n",
      "\n",
      "    combine\n",
      "\n",
      "\n",
      "The following object is masked from ‘package:graph’:\n",
      "\n",
      "    union\n",
      "\n",
      "\n",
      "The following objects are masked from ‘package:BiocGenerics’:\n",
      "\n",
      "    combine, intersect, setdiff, union\n",
      "\n",
      "\n",
      "The following objects are masked from ‘package:stats’:\n",
      "\n",
      "    filter, lag\n",
      "\n",
      "\n",
      "The following objects are masked from ‘package:base’:\n",
      "\n",
      "    intersect, setdiff, setequal, union\n",
      "\n",
      "\n"
     ]
    }
   ],
   "source": [
    "# loading packages\n",
    "library(clusterProfiler)\n",
    "library(topGO)\n",
    "library(dplyr)\n",
    "library(KEGGREST)\n",
    "library(ggplot2)"
   ]
  },
  {
   "cell_type": "markdown",
   "id": "a9031836-0b4a-4706-84df-3404160c4e07",
   "metadata": {},
   "source": [
    "What we need for GO analysis:\n",
    "- list of DMGs with pvalues (feel like this should be log2FoldChange)"
   ]
  },
  {
   "cell_type": "code",
   "execution_count": 2,
   "id": "879091c9-68bc-4f1c-a367-d846297bd032",
   "metadata": {},
   "outputs": [
    {
     "data": {
      "text/html": [
       "<table class=\"dataframe\">\n",
       "<caption>A data.frame: 6 × 4</caption>\n",
       "<thead>\n",
       "\t<tr><th></th><th scope=col>gene</th><th scope=col>l2fc</th><th scope=col>pval</th><th scope=col>padj</th></tr>\n",
       "\t<tr><th></th><th scope=col>&lt;chr&gt;</th><th scope=col>&lt;dbl&gt;</th><th scope=col>&lt;dbl&gt;</th><th scope=col>&lt;dbl&gt;</th></tr>\n",
       "</thead>\n",
       "<tbody>\n",
       "\t<tr><th scope=row>1</th><td>LOC111100406</td><td>-1.9786229</td><td>3.382968e-04</td><td>0.036937003</td></tr>\n",
       "\t<tr><th scope=row>2</th><td>LOC111101237</td><td>-2.0831676</td><td>2.697234e-04</td><td>0.035842664</td></tr>\n",
       "\t<tr><th scope=row>3</th><td>LOC111104284</td><td>-0.4820848</td><td>3.039575e-04</td><td>0.035842664</td></tr>\n",
       "\t<tr><th scope=row>4</th><td>LOC111105299</td><td>-2.5172192</td><td>1.231961e-05</td><td>0.006053034</td></tr>\n",
       "\t<tr><th scope=row>5</th><td>LOC111105528</td><td>-3.1608623</td><td>9.945249e-05</td><td>0.026653268</td></tr>\n",
       "\t<tr><th scope=row>6</th><td>LOC111106800</td><td>-2.3481348</td><td>3.482692e-05</td><td>0.011586848</td></tr>\n",
       "</tbody>\n",
       "</table>\n"
      ],
      "text/latex": [
       "A data.frame: 6 × 4\n",
       "\\begin{tabular}{r|llll}\n",
       "  & gene & l2fc & pval & padj\\\\\n",
       "  & <chr> & <dbl> & <dbl> & <dbl>\\\\\n",
       "\\hline\n",
       "\t1 & LOC111100406 & -1.9786229 & 3.382968e-04 & 0.036937003\\\\\n",
       "\t2 & LOC111101237 & -2.0831676 & 2.697234e-04 & 0.035842664\\\\\n",
       "\t3 & LOC111104284 & -0.4820848 & 3.039575e-04 & 0.035842664\\\\\n",
       "\t4 & LOC111105299 & -2.5172192 & 1.231961e-05 & 0.006053034\\\\\n",
       "\t5 & LOC111105528 & -3.1608623 & 9.945249e-05 & 0.026653268\\\\\n",
       "\t6 & LOC111106800 & -2.3481348 & 3.482692e-05 & 0.011586848\\\\\n",
       "\\end{tabular}\n"
      ],
      "text/markdown": [
       "\n",
       "A data.frame: 6 × 4\n",
       "\n",
       "| <!--/--> | gene &lt;chr&gt; | l2fc &lt;dbl&gt; | pval &lt;dbl&gt; | padj &lt;dbl&gt; |\n",
       "|---|---|---|---|---|\n",
       "| 1 | LOC111100406 | -1.9786229 | 3.382968e-04 | 0.036937003 |\n",
       "| 2 | LOC111101237 | -2.0831676 | 2.697234e-04 | 0.035842664 |\n",
       "| 3 | LOC111104284 | -0.4820848 | 3.039575e-04 | 0.035842664 |\n",
       "| 4 | LOC111105299 | -2.5172192 | 1.231961e-05 | 0.006053034 |\n",
       "| 5 | LOC111105528 | -3.1608623 | 9.945249e-05 | 0.026653268 |\n",
       "| 6 | LOC111106800 | -2.3481348 | 3.482692e-05 | 0.011586848 |\n",
       "\n"
      ],
      "text/plain": [
       "  gene         l2fc       pval         padj       \n",
       "1 LOC111100406 -1.9786229 3.382968e-04 0.036937003\n",
       "2 LOC111101237 -2.0831676 2.697234e-04 0.035842664\n",
       "3 LOC111104284 -0.4820848 3.039575e-04 0.035842664\n",
       "4 LOC111105299 -2.5172192 1.231961e-05 0.006053034\n",
       "5 LOC111105528 -3.1608623 9.945249e-05 0.026653268\n",
       "6 LOC111106800 -2.3481348 3.482692e-05 0.011586848"
      ]
     },
     "metadata": {},
     "output_type": "display_data"
    }
   ],
   "source": [
    "# load significant genes df for both vs. control for phase 2\n",
    "data <- read.csv('/project/pi_sarah_gignouxwolfsohn_uml_edu/julia/CE_MethylRAD_analysis_2018/analysis/significant_genes/sig_p2_hc_genes.csv')\n",
    "\n",
    "# select needed columns (really might only need l2fc\n",
    "data2 <- select(data, Row.names, log2FoldChange, pvalue, padj)\n",
    "\n",
    "# renaming columns so they make more sense\n",
    "colnames(data2) = c('gene', 'l2fc', 'pval', 'padj')\n",
    "head(data2)"
   ]
  },
  {
   "cell_type": "code",
   "execution_count": 3,
   "id": "0229eb73-63fa-4c14-9abf-54a0a965bd9c",
   "metadata": {},
   "outputs": [
    {
     "data": {
      "text/html": [
       "<style>\n",
       ".dl-inline {width: auto; margin:0; padding: 0}\n",
       ".dl-inline>dt, .dl-inline>dd {float: none; width: auto; display: inline-block}\n",
       ".dl-inline>dt::after {content: \":\\0020\"; padding-right: .5ex}\n",
       ".dl-inline>dt:not(:first-of-type) {padding-left: .5ex}\n",
       "</style><dl class=dl-inline><dt>LOC111100406</dt><dd>-1.97862292563728</dd><dt>LOC111101237</dt><dd>-2.08316756018061</dd><dt>LOC111104284</dt><dd>-0.482084794110101</dd><dt>LOC111105299</dt><dd>-2.51721917069784</dd><dt>LOC111105528</dt><dd>-3.16086230241336</dd><dt>LOC111106800</dt><dd>-2.34813480395466</dd></dl>\n"
      ],
      "text/latex": [
       "\\begin{description*}\n",
       "\\item[LOC111100406] -1.97862292563728\n",
       "\\item[LOC111101237] -2.08316756018061\n",
       "\\item[LOC111104284] -0.482084794110101\n",
       "\\item[LOC111105299] -2.51721917069784\n",
       "\\item[LOC111105528] -3.16086230241336\n",
       "\\item[LOC111106800] -2.34813480395466\n",
       "\\end{description*}\n"
      ],
      "text/markdown": [
       "LOC111100406\n",
       ":   -1.97862292563728LOC111101237\n",
       ":   -2.08316756018061LOC111104284\n",
       ":   -0.482084794110101LOC111105299\n",
       ":   -2.51721917069784LOC111105528\n",
       ":   -3.16086230241336LOC111106800\n",
       ":   -2.34813480395466\n",
       "\n"
      ],
      "text/plain": [
       "LOC111100406 LOC111101237 LOC111104284 LOC111105299 LOC111105528 LOC111106800 \n",
       "  -1.9786229   -2.0831676   -0.4820848   -2.5172192   -3.1608623   -2.3481348 "
      ]
     },
     "metadata": {},
     "output_type": "display_data"
    },
    {
     "data": {
      "text/html": [
       "'numeric'"
      ],
      "text/latex": [
       "'numeric'"
      ],
      "text/markdown": [
       "'numeric'"
      ],
      "text/plain": [
       "[1] \"numeric\""
      ]
     },
     "metadata": {},
     "output_type": "display_data"
    }
   ],
   "source": [
    "# creating numeric vector of gene names and log2FoldChange value\n",
    "geneList <- data2$l2fc\n",
    "names(geneList) <- data2$gene\n",
    "\n",
    "# double checking things look right\n",
    "head(geneList)\n",
    "class(geneList) # numeric, used in allGenes for topGO object"
   ]
  },
  {
   "cell_type": "code",
   "execution_count": 4,
   "id": "71c65c18-0ba6-4239-944a-bc8828ae699d",
   "metadata": {},
   "outputs": [
    {
     "data": {
      "text/html": [
       "<table class=\"dataframe\">\n",
       "<caption>A data.frame: 6 × 2</caption>\n",
       "<thead>\n",
       "\t<tr><th></th><th scope=col>gene</th><th scope=col>GO_id</th></tr>\n",
       "\t<tr><th></th><th scope=col>&lt;chr&gt;</th><th scope=col>&lt;chr&gt;</th></tr>\n",
       "</thead>\n",
       "<tbody>\n",
       "\t<tr><th scope=row>1</th><td>LOC111133408</td><td>GO:2001070           </td></tr>\n",
       "\t<tr><th scope=row>2</th><td>LOC111121603</td><td>GO:2000781,GO:2000781</td></tr>\n",
       "\t<tr><th scope=row>3</th><td>LOC111132389</td><td>GO:2000145           </td></tr>\n",
       "\t<tr><th scope=row>4</th><td>LOC111115105</td><td>GO:1990904,GO:1990904</td></tr>\n",
       "\t<tr><th scope=row>5</th><td>LOC111129853</td><td>GO:1990904,GO:1990904</td></tr>\n",
       "\t<tr><th scope=row>6</th><td>LOC111101512</td><td>GO:1990904           </td></tr>\n",
       "</tbody>\n",
       "</table>\n"
      ],
      "text/latex": [
       "A data.frame: 6 × 2\n",
       "\\begin{tabular}{r|ll}\n",
       "  & gene & GO\\_id\\\\\n",
       "  & <chr> & <chr>\\\\\n",
       "\\hline\n",
       "\t1 & LOC111133408 & GO:2001070           \\\\\n",
       "\t2 & LOC111121603 & GO:2000781,GO:2000781\\\\\n",
       "\t3 & LOC111132389 & GO:2000145           \\\\\n",
       "\t4 & LOC111115105 & GO:1990904,GO:1990904\\\\\n",
       "\t5 & LOC111129853 & GO:1990904,GO:1990904\\\\\n",
       "\t6 & LOC111101512 & GO:1990904           \\\\\n",
       "\\end{tabular}\n"
      ],
      "text/markdown": [
       "\n",
       "A data.frame: 6 × 2\n",
       "\n",
       "| <!--/--> | gene &lt;chr&gt; | GO_id &lt;chr&gt; |\n",
       "|---|---|---|\n",
       "| 1 | LOC111133408 | GO:2001070            |\n",
       "| 2 | LOC111121603 | GO:2000781,GO:2000781 |\n",
       "| 3 | LOC111132389 | GO:2000145            |\n",
       "| 4 | LOC111115105 | GO:1990904,GO:1990904 |\n",
       "| 5 | LOC111129853 | GO:1990904,GO:1990904 |\n",
       "| 6 | LOC111101512 | GO:1990904            |\n",
       "\n"
      ],
      "text/plain": [
       "  gene         GO_id                \n",
       "1 LOC111133408 GO:2001070           \n",
       "2 LOC111121603 GO:2000781,GO:2000781\n",
       "3 LOC111132389 GO:2000145           \n",
       "4 LOC111115105 GO:1990904,GO:1990904\n",
       "5 LOC111129853 GO:1990904,GO:1990904\n",
       "6 LOC111101512 GO:1990904           "
      ]
     },
     "metadata": {},
     "output_type": "display_data"
    },
    {
     "data": {
      "text/html": [
       "<style>\n",
       ".list-inline {list-style: none; margin:0; padding: 0}\n",
       ".list-inline>li {display: inline-block}\n",
       ".list-inline>li:not(:last-child)::after {content: \"\\00b7\"; padding: 0 .5ex}\n",
       "</style>\n",
       "<ol class=list-inline><li>22654</li><li>2</li></ol>\n"
      ],
      "text/latex": [
       "\\begin{enumerate*}\n",
       "\\item 22654\n",
       "\\item 2\n",
       "\\end{enumerate*}\n"
      ],
      "text/markdown": [
       "1. 22654\n",
       "2. 2\n",
       "\n",
       "\n"
      ],
      "text/plain": [
       "[1] 22654     2"
      ]
     },
     "metadata": {},
     "output_type": "display_data"
    }
   ],
   "source": [
    "# loading conversion df of unique genes with associated GO ids\n",
    "geneID2GO <- read.csv('/project/pi_sarah_gignouxwolfsohn_uml_edu/julia/CE_MethylRAD_analysis_2018/analysis/GO_enrichment_analysis/geneID2GO.txt', sep='\\t')\n",
    "\n",
    "# renaming columns\n",
    "colnames(geneID2GO) = c('gene','GO_id')\n",
    "\n",
    "# checking things make sense\n",
    "head(geneID2GO)\n",
    "dim(geneID2GO) # have 22,654 unique genes that have GO annotations"
   ]
  },
  {
   "cell_type": "code",
   "execution_count": 5,
   "id": "5dc0c062-31d4-473e-9e51-6404e86e5f26",
   "metadata": {},
   "outputs": [
    {
     "data": {
      "text/html": [
       "<dl>\n",
       "\t<dt>$LOC111133408</dt>\n",
       "\t\t<dd>'GO:2001070'</dd>\n",
       "\t<dt>$LOC111121603</dt>\n",
       "\t\t<dd><style>\n",
       ".list-inline {list-style: none; margin:0; padding: 0}\n",
       ".list-inline>li {display: inline-block}\n",
       ".list-inline>li:not(:last-child)::after {content: \"\\00b7\"; padding: 0 .5ex}\n",
       "</style>\n",
       "<ol class=list-inline><li>'GO:2000781'</li><li>'GO:2000781'</li></ol>\n",
       "</dd>\n",
       "\t<dt>$LOC111132389</dt>\n",
       "\t\t<dd>'GO:2000145'</dd>\n",
       "\t<dt>$LOC111115105</dt>\n",
       "\t\t<dd><style>\n",
       ".list-inline {list-style: none; margin:0; padding: 0}\n",
       ".list-inline>li {display: inline-block}\n",
       ".list-inline>li:not(:last-child)::after {content: \"\\00b7\"; padding: 0 .5ex}\n",
       "</style>\n",
       "<ol class=list-inline><li>'GO:1990904'</li><li>'GO:1990904'</li></ol>\n",
       "</dd>\n",
       "\t<dt>$LOC111129853</dt>\n",
       "\t\t<dd><style>\n",
       ".list-inline {list-style: none; margin:0; padding: 0}\n",
       ".list-inline>li {display: inline-block}\n",
       ".list-inline>li:not(:last-child)::after {content: \"\\00b7\"; padding: 0 .5ex}\n",
       "</style>\n",
       "<ol class=list-inline><li>'GO:1990904'</li><li>'GO:1990904'</li></ol>\n",
       "</dd>\n",
       "\t<dt>$LOC111101512</dt>\n",
       "\t\t<dd>'GO:1990904'</dd>\n",
       "</dl>\n"
      ],
      "text/latex": [
       "\\begin{description}\n",
       "\\item[\\$LOC111133408] 'GO:2001070'\n",
       "\\item[\\$LOC111121603] \\begin{enumerate*}\n",
       "\\item 'GO:2000781'\n",
       "\\item 'GO:2000781'\n",
       "\\end{enumerate*}\n",
       "\n",
       "\\item[\\$LOC111132389] 'GO:2000145'\n",
       "\\item[\\$LOC111115105] \\begin{enumerate*}\n",
       "\\item 'GO:1990904'\n",
       "\\item 'GO:1990904'\n",
       "\\end{enumerate*}\n",
       "\n",
       "\\item[\\$LOC111129853] \\begin{enumerate*}\n",
       "\\item 'GO:1990904'\n",
       "\\item 'GO:1990904'\n",
       "\\end{enumerate*}\n",
       "\n",
       "\\item[\\$LOC111101512] 'GO:1990904'\n",
       "\\end{description}\n"
      ],
      "text/markdown": [
       "$LOC111133408\n",
       ":   'GO:2001070'\n",
       "$LOC111121603\n",
       ":   1. 'GO:2000781'\n",
       "2. 'GO:2000781'\n",
       "\n",
       "\n",
       "\n",
       "$LOC111132389\n",
       ":   'GO:2000145'\n",
       "$LOC111115105\n",
       ":   1. 'GO:1990904'\n",
       "2. 'GO:1990904'\n",
       "\n",
       "\n",
       "\n",
       "$LOC111129853\n",
       ":   1. 'GO:1990904'\n",
       "2. 'GO:1990904'\n",
       "\n",
       "\n",
       "\n",
       "$LOC111101512\n",
       ":   'GO:1990904'\n",
       "\n",
       "\n"
      ],
      "text/plain": [
       "$LOC111133408\n",
       "[1] \"GO:2001070\"\n",
       "\n",
       "$LOC111121603\n",
       "[1] \"GO:2000781\" \"GO:2000781\"\n",
       "\n",
       "$LOC111132389\n",
       "[1] \"GO:2000145\"\n",
       "\n",
       "$LOC111115105\n",
       "[1] \"GO:1990904\" \"GO:1990904\"\n",
       "\n",
       "$LOC111129853\n",
       "[1] \"GO:1990904\" \"GO:1990904\"\n",
       "\n",
       "$LOC111101512\n",
       "[1] \"GO:1990904\"\n"
      ]
     },
     "metadata": {},
     "output_type": "display_data"
    }
   ],
   "source": [
    "# have to create annotation file\n",
    "geneID2GO <- readMappings(file = '/project/pi_sarah_gignouxwolfsohn_uml_edu/julia/CE_MethylRAD_analysis_2018/analysis/GO_enrichment_analysis/geneID2GO.txt')\n",
    "geneID2GO <- geneID2GO[-1] # removes header\n",
    "head(geneID2GO)"
   ]
  },
  {
   "cell_type": "code",
   "execution_count": 6,
   "id": "fb57f455-0649-4e55-9ba1-0bc2c5dc4f94",
   "metadata": {},
   "outputs": [
    {
     "data": {
      "text/html": [
       "<style>\n",
       ".list-inline {list-style: none; margin:0; padding: 0}\n",
       ".list-inline>li {display: inline-block}\n",
       ".list-inline>li:not(:last-child)::after {content: \"\\00b7\"; padding: 0 .5ex}\n",
       "</style>\n",
       "<ol class=list-inline><li>'LOC111133408'</li><li>'LOC111121603'</li><li>'LOC111132389'</li><li>'LOC111115105'</li><li>'LOC111129853'</li><li>'LOC111101512'</li></ol>\n"
      ],
      "text/latex": [
       "\\begin{enumerate*}\n",
       "\\item 'LOC111133408'\n",
       "\\item 'LOC111121603'\n",
       "\\item 'LOC111132389'\n",
       "\\item 'LOC111115105'\n",
       "\\item 'LOC111129853'\n",
       "\\item 'LOC111101512'\n",
       "\\end{enumerate*}\n"
      ],
      "text/markdown": [
       "1. 'LOC111133408'\n",
       "2. 'LOC111121603'\n",
       "3. 'LOC111132389'\n",
       "4. 'LOC111115105'\n",
       "5. 'LOC111129853'\n",
       "6. 'LOC111101512'\n",
       "\n",
       "\n"
      ],
      "text/plain": [
       "[1] \"LOC111133408\" \"LOC111121603\" \"LOC111132389\" \"LOC111115105\" \"LOC111129853\"\n",
       "[6] \"LOC111101512\""
      ]
     },
     "metadata": {},
     "output_type": "display_data"
    }
   ],
   "source": [
    "geneNames <- names(geneID2GO)\n",
    "head(geneNames)"
   ]
  },
  {
   "cell_type": "code",
   "execution_count": 7,
   "id": "ad03c833-3f44-41e3-a9cc-cfb69d658165",
   "metadata": {},
   "outputs": [
    {
     "data": {
      "text/html": [
       "29"
      ],
      "text/latex": [
       "29"
      ],
      "text/markdown": [
       "29"
      ],
      "text/plain": [
       "[1] 29"
      ]
     },
     "metadata": {},
     "output_type": "display_data"
    }
   ],
   "source": [
    "topDiffGenes <- function(allScore) {\n",
    "    return(allScore < 0.01)\n",
    "}\n",
    "\n",
    "x <- topDiffGenes(geneList)\n",
    "sum(x) ## the number of selected genes"
   ]
  },
  {
   "cell_type": "markdown",
   "id": "7693105e-8172-48d7-986d-c8b1d4492e6f",
   "metadata": {},
   "source": [
    "#### GO analysis: molecular function"
   ]
  },
  {
   "cell_type": "code",
   "execution_count": 8,
   "id": "538e38dd-dfd0-45e3-bf5e-5ac8eb4e9b46",
   "metadata": {},
   "outputs": [
    {
     "name": "stderr",
     "output_type": "stream",
     "text": [
      "\n",
      "Building most specific GOs .....\n",
      "\n",
      "\t( 30 GO terms found. )\n",
      "\n",
      "\n",
      "Build GO DAG topology ..........\n",
      "\n",
      "\t( 111 GO terms and 136 relations. )\n",
      "\n",
      "\n",
      "Annotating nodes ...............\n",
      "\n",
      "\t( 22 genes annotated to the GO terms. )\n",
      "\n"
     ]
    },
    {
     "data": {
      "text/plain": [
       "\n",
       "------------------------- topGOdata object -------------------------\n",
       "\n",
       " Description:\n",
       "   -  DMGs in phase 2 both vs. control \n",
       "\n",
       " Ontology:\n",
       "   -  MF \n",
       "\n",
       " 31 available genes (all genes from the array):\n",
       "   - symbol:  LOC111100406 LOC111101237 LOC111104284 LOC111105299 LOC111105528  ...\n",
       "   - score :  -1.978622926 -2.08316756 -0.4820847941 -2.517219171 -3.160862302  ...\n",
       "   - 29  significant genes. \n",
       "\n",
       " 22 feasible genes (genes that can be used in the analysis):\n",
       "   - symbol:  LOC111100406 LOC111101237 LOC111104284 LOC111106800 LOC111107933  ...\n",
       "   - score :  -1.978622926 -2.08316756 -0.4820847941 -2.348134804 0.8000492933  ...\n",
       "   - 21  significant genes. \n",
       "\n",
       " GO graph (nodes with at least  1  genes):\n",
       "   - a graph with directed edges\n",
       "   - number of nodes = 111 \n",
       "   - number of edges = 136 \n",
       "\n",
       "------------------------- topGOdata object -------------------------\n"
      ]
     },
     "metadata": {},
     "output_type": "display_data"
    }
   ],
   "source": [
    "# creating GO data object\n",
    "GOdata_MF <- new(\"topGOdata\", \n",
    "              description = 'DMGs in phase 2 both vs. control',\n",
    "              ontology = \"MF\", \n",
    "              allGenes = geneList,\n",
    "              geneSel = topDiffGenes,\n",
    "              annot = annFUN.gene2GO, \n",
    "              gene2GO = geneID2GO)\n",
    "GOdata_MF"
   ]
  },
  {
   "cell_type": "code",
   "execution_count": 9,
   "id": "2fa6ae4f-4d6d-4117-b765-47473804eda0",
   "metadata": {},
   "outputs": [
    {
     "name": "stderr",
     "output_type": "stream",
     "text": [
      "\n",
      "\t\t\t -- Weight01 Algorithm -- \n",
      "\n",
      "\t\t the algorithm is scoring 111 nontrivial nodes\n",
      "\t\t parameters: \n",
      "\t\t\t test statistic: ks\n",
      "\t\t\t score order: increasing\n",
      "\n",
      "\n",
      "\t Level 9:\t1 nodes to be scored\t(0 eliminated genes)\n",
      "\n",
      "\n",
      "\t Level 8:\t6 nodes to be scored\t(0 eliminated genes)\n",
      "\n",
      "\n",
      "\t Level 7:\t10 nodes to be scored\t(5 eliminated genes)\n",
      "\n",
      "\n",
      "\t Level 6:\t17 nodes to be scored\t(7 eliminated genes)\n",
      "\n",
      "\n",
      "\t Level 5:\t27 nodes to be scored\t(12 eliminated genes)\n",
      "\n",
      "\n",
      "\t Level 4:\t24 nodes to be scored\t(17 eliminated genes)\n",
      "\n",
      "\n",
      "\t Level 3:\t19 nodes to be scored\t(21 eliminated genes)\n",
      "\n",
      "\n",
      "\t Level 2:\t6 nodes to be scored\t(21 eliminated genes)\n",
      "\n",
      "\n",
      "\t Level 1:\t1 nodes to be scored\t(22 eliminated genes)\n",
      "\n"
     ]
    },
    {
     "data": {
      "text/html": [
       "<table class=\"dataframe\">\n",
       "<caption>A data.frame: 10 × 6</caption>\n",
       "<thead>\n",
       "\t<tr><th></th><th scope=col>GO.ID</th><th scope=col>Term</th><th scope=col>Annotated</th><th scope=col>Significant</th><th scope=col>Expected</th><th scope=col>raw.p.value</th></tr>\n",
       "\t<tr><th></th><th scope=col>&lt;chr&gt;</th><th scope=col>&lt;chr&gt;</th><th scope=col>&lt;int&gt;</th><th scope=col>&lt;int&gt;</th><th scope=col>&lt;dbl&gt;</th><th scope=col>&lt;chr&gt;</th></tr>\n",
       "</thead>\n",
       "<tbody>\n",
       "\t<tr><th scope=row>1</th><td>GO:0051537</td><td>2 iron, 2 sulfur cluster binding                                   </td><td>1</td><td>1</td><td>0.95</td><td>0.091</td></tr>\n",
       "\t<tr><th scope=row>2</th><td>GO:0008121</td><td>ubiquinol-cytochrome-c reductase activity                          </td><td>1</td><td>1</td><td>0.95</td><td>0.091</td></tr>\n",
       "\t<tr><th scope=row>3</th><td>GO:0035091</td><td>phosphatidylinositol binding                                       </td><td>1</td><td>1</td><td>0.95</td><td>0.136</td></tr>\n",
       "\t<tr><th scope=row>4</th><td>GO:0003779</td><td>actin binding                                                      </td><td>1</td><td>1</td><td>0.95</td><td>0.136</td></tr>\n",
       "\t<tr><th scope=row>5</th><td>GO:0005452</td><td>solute:inorganic anion antiporter activity                         </td><td>1</td><td>1</td><td>0.95</td><td>0.182</td></tr>\n",
       "\t<tr><th scope=row>6</th><td>GO:0019829</td><td>ATPase-coupled monoatomic cation transmembrane transporter activity</td><td>1</td><td>1</td><td>0.95</td><td>0.227</td></tr>\n",
       "\t<tr><th scope=row>7</th><td>GO:0015662</td><td>P-type ion transporter activity                                    </td><td>1</td><td>1</td><td>0.95</td><td>0.227</td></tr>\n",
       "\t<tr><th scope=row>8</th><td>GO:0046872</td><td>metal ion binding                                                  </td><td>9</td><td>8</td><td>8.59</td><td>0.251</td></tr>\n",
       "\t<tr><th scope=row>9</th><td>GO:0070694</td><td>deoxyribonucleoside 5'-monophosphate N-glycosidase activity        </td><td>1</td><td>1</td><td>0.95</td><td>0.273</td></tr>\n",
       "\t<tr><th scope=row>10</th><td>GO:0016791</td><td>phosphatase activity                                               </td><td>1</td><td>1</td><td>0.95</td><td>0.318</td></tr>\n",
       "</tbody>\n",
       "</table>\n"
      ],
      "text/latex": [
       "A data.frame: 10 × 6\n",
       "\\begin{tabular}{r|llllll}\n",
       "  & GO.ID & Term & Annotated & Significant & Expected & raw.p.value\\\\\n",
       "  & <chr> & <chr> & <int> & <int> & <dbl> & <chr>\\\\\n",
       "\\hline\n",
       "\t1 & GO:0051537 & 2 iron, 2 sulfur cluster binding                                    & 1 & 1 & 0.95 & 0.091\\\\\n",
       "\t2 & GO:0008121 & ubiquinol-cytochrome-c reductase activity                           & 1 & 1 & 0.95 & 0.091\\\\\n",
       "\t3 & GO:0035091 & phosphatidylinositol binding                                        & 1 & 1 & 0.95 & 0.136\\\\\n",
       "\t4 & GO:0003779 & actin binding                                                       & 1 & 1 & 0.95 & 0.136\\\\\n",
       "\t5 & GO:0005452 & solute:inorganic anion antiporter activity                          & 1 & 1 & 0.95 & 0.182\\\\\n",
       "\t6 & GO:0019829 & ATPase-coupled monoatomic cation transmembrane transporter activity & 1 & 1 & 0.95 & 0.227\\\\\n",
       "\t7 & GO:0015662 & P-type ion transporter activity                                     & 1 & 1 & 0.95 & 0.227\\\\\n",
       "\t8 & GO:0046872 & metal ion binding                                                   & 9 & 8 & 8.59 & 0.251\\\\\n",
       "\t9 & GO:0070694 & deoxyribonucleoside 5'-monophosphate N-glycosidase activity         & 1 & 1 & 0.95 & 0.273\\\\\n",
       "\t10 & GO:0016791 & phosphatase activity                                                & 1 & 1 & 0.95 & 0.318\\\\\n",
       "\\end{tabular}\n"
      ],
      "text/markdown": [
       "\n",
       "A data.frame: 10 × 6\n",
       "\n",
       "| <!--/--> | GO.ID &lt;chr&gt; | Term &lt;chr&gt; | Annotated &lt;int&gt; | Significant &lt;int&gt; | Expected &lt;dbl&gt; | raw.p.value &lt;chr&gt; |\n",
       "|---|---|---|---|---|---|---|\n",
       "| 1 | GO:0051537 | 2 iron, 2 sulfur cluster binding                                    | 1 | 1 | 0.95 | 0.091 |\n",
       "| 2 | GO:0008121 | ubiquinol-cytochrome-c reductase activity                           | 1 | 1 | 0.95 | 0.091 |\n",
       "| 3 | GO:0035091 | phosphatidylinositol binding                                        | 1 | 1 | 0.95 | 0.136 |\n",
       "| 4 | GO:0003779 | actin binding                                                       | 1 | 1 | 0.95 | 0.136 |\n",
       "| 5 | GO:0005452 | solute:inorganic anion antiporter activity                          | 1 | 1 | 0.95 | 0.182 |\n",
       "| 6 | GO:0019829 | ATPase-coupled monoatomic cation transmembrane transporter activity | 1 | 1 | 0.95 | 0.227 |\n",
       "| 7 | GO:0015662 | P-type ion transporter activity                                     | 1 | 1 | 0.95 | 0.227 |\n",
       "| 8 | GO:0046872 | metal ion binding                                                   | 9 | 8 | 8.59 | 0.251 |\n",
       "| 9 | GO:0070694 | deoxyribonucleoside 5'-monophosphate N-glycosidase activity         | 1 | 1 | 0.95 | 0.273 |\n",
       "| 10 | GO:0016791 | phosphatase activity                                                | 1 | 1 | 0.95 | 0.318 |\n",
       "\n"
      ],
      "text/plain": [
       "   GO.ID     \n",
       "1  GO:0051537\n",
       "2  GO:0008121\n",
       "3  GO:0035091\n",
       "4  GO:0003779\n",
       "5  GO:0005452\n",
       "6  GO:0019829\n",
       "7  GO:0015662\n",
       "8  GO:0046872\n",
       "9  GO:0070694\n",
       "10 GO:0016791\n",
       "   Term                                                               \n",
       "1  2 iron, 2 sulfur cluster binding                                   \n",
       "2  ubiquinol-cytochrome-c reductase activity                          \n",
       "3  phosphatidylinositol binding                                       \n",
       "4  actin binding                                                      \n",
       "5  solute:inorganic anion antiporter activity                         \n",
       "6  ATPase-coupled monoatomic cation transmembrane transporter activity\n",
       "7  P-type ion transporter activity                                    \n",
       "8  metal ion binding                                                  \n",
       "9  deoxyribonucleoside 5'-monophosphate N-glycosidase activity        \n",
       "10 phosphatase activity                                               \n",
       "   Annotated Significant Expected raw.p.value\n",
       "1  1         1           0.95     0.091      \n",
       "2  1         1           0.95     0.091      \n",
       "3  1         1           0.95     0.136      \n",
       "4  1         1           0.95     0.136      \n",
       "5  1         1           0.95     0.182      \n",
       "6  1         1           0.95     0.227      \n",
       "7  1         1           0.95     0.227      \n",
       "8  9         8           8.59     0.251      \n",
       "9  1         1           0.95     0.273      \n",
       "10 1         1           0.95     0.318      "
      ]
     },
     "metadata": {},
     "output_type": "display_data"
    }
   ],
   "source": [
    "# KS stat\n",
    "resultKS_MF <- runTest(GOdata_MF, algorithm = \"weight01\", statistic = \"ks\")\n",
    "\n",
    "# putting result into readable table\n",
    "tab_MF <- GenTable(GOdata_MF, raw.p.value = resultKS_MF, topNodes = length(resultKS_MF@score), numChar = 120)\n",
    "\n",
    "# showing top 10 GO term results\n",
    "head(tab_MF, 10)"
   ]
  },
  {
   "cell_type": "markdown",
   "id": "3c591098-1981-4319-9317-fedafdbde5c8",
   "metadata": {},
   "source": [
    "#### GO analysis for cellular component"
   ]
  },
  {
   "cell_type": "code",
   "execution_count": 10,
   "id": "7f59b63e-e18d-477c-87e4-8cc0ecadcf75",
   "metadata": {},
   "outputs": [
    {
     "name": "stderr",
     "output_type": "stream",
     "text": [
      "\n",
      "Building most specific GOs .....\n",
      "\n",
      "\t( 13 GO terms found. )\n",
      "\n",
      "\n",
      "Build GO DAG topology ..........\n",
      "\n",
      "\t( 46 GO terms and 71 relations. )\n",
      "\n",
      "\n",
      "Annotating nodes ...............\n",
      "\n",
      "\t( 17 genes annotated to the GO terms. )\n",
      "\n"
     ]
    },
    {
     "data": {
      "text/plain": [
       "\n",
       "------------------------- topGOdata object -------------------------\n",
       "\n",
       " Description:\n",
       "   -  DMGs in phase 2 both vs. control \n",
       "\n",
       " Ontology:\n",
       "   -  CC \n",
       "\n",
       " 31 available genes (all genes from the array):\n",
       "   - symbol:  LOC111100406 LOC111101237 LOC111104284 LOC111105299 LOC111105528  ...\n",
       "   - score :  -1.978622926 -2.08316756 -0.4820847941 -2.517219171 -3.160862302  ...\n",
       "   - 29  significant genes. \n",
       "\n",
       " 17 feasible genes (genes that can be used in the analysis):\n",
       "   - symbol:  LOC111101237 LOC111108080 LOC111108426 LOC111108790 LOC111110475  ...\n",
       "   - score :  -2.08316756 -1.522307064 -0.67002702 -1.992056365 -1.555819067  ...\n",
       "   - 17  significant genes. \n",
       "\n",
       " GO graph (nodes with at least  1  genes):\n",
       "   - a graph with directed edges\n",
       "   - number of nodes = 46 \n",
       "   - number of edges = 71 \n",
       "\n",
       "------------------------- topGOdata object -------------------------\n"
      ]
     },
     "metadata": {},
     "output_type": "display_data"
    }
   ],
   "source": [
    "# creating GO data object\n",
    "GOdata_CC <- new(\"topGOdata\", \n",
    "              description = 'DMGs in phase 2 both vs. control',\n",
    "              ontology = \"CC\", \n",
    "              allGenes = geneList,\n",
    "              geneSel = topDiffGenes,\n",
    "              annot = annFUN.gene2GO, \n",
    "              gene2GO = geneID2GO)\n",
    "GOdata_CC"
   ]
  },
  {
   "cell_type": "code",
   "execution_count": 11,
   "id": "9317cfea-2094-491d-9788-631f74870a7d",
   "metadata": {},
   "outputs": [
    {
     "name": "stderr",
     "output_type": "stream",
     "text": [
      "\n",
      "\t\t\t -- Weight01 Algorithm -- \n",
      "\n",
      "\t\t the algorithm is scoring 46 nontrivial nodes\n",
      "\t\t parameters: \n",
      "\t\t\t test statistic: ks\n",
      "\t\t\t score order: increasing\n",
      "\n",
      "\n",
      "\t Level 10:\t1 nodes to be scored\t(0 eliminated genes)\n",
      "\n",
      "\n",
      "\t Level 9:\t2 nodes to be scored\t(0 eliminated genes)\n",
      "\n",
      "\n",
      "\t Level 8:\t3 nodes to be scored\t(1 eliminated genes)\n",
      "\n",
      "\n",
      "\t Level 7:\t4 nodes to be scored\t(2 eliminated genes)\n",
      "\n",
      "\n",
      "\t Level 6:\t8 nodes to be scored\t(3 eliminated genes)\n",
      "\n",
      "\n",
      "\t Level 5:\t6 nodes to be scored\t(4 eliminated genes)\n",
      "\n",
      "\n",
      "\t Level 4:\t8 nodes to be scored\t(8 eliminated genes)\n",
      "\n",
      "\n",
      "\t Level 3:\t11 nodes to be scored\t(8 eliminated genes)\n",
      "\n",
      "\n",
      "\t Level 2:\t2 nodes to be scored\t(11 eliminated genes)\n",
      "\n",
      "\n",
      "\t Level 1:\t1 nodes to be scored\t(17 eliminated genes)\n",
      "\n"
     ]
    },
    {
     "data": {
      "text/html": [
       "<table class=\"dataframe\">\n",
       "<caption>A data.frame: 10 × 6</caption>\n",
       "<thead>\n",
       "\t<tr><th></th><th scope=col>GO.ID</th><th scope=col>Term</th><th scope=col>Annotated</th><th scope=col>Significant</th><th scope=col>Expected</th><th scope=col>raw.p.value</th></tr>\n",
       "\t<tr><th></th><th scope=col>&lt;chr&gt;</th><th scope=col>&lt;chr&gt;</th><th scope=col>&lt;int&gt;</th><th scope=col>&lt;int&gt;</th><th scope=col>&lt;dbl&gt;</th><th scope=col>&lt;chr&gt;</th></tr>\n",
       "</thead>\n",
       "<tbody>\n",
       "\t<tr><th scope=row>1</th><td>GO:0005743</td><td>mitochondrial inner membrane</td><td> 1</td><td> 1</td><td> 1</td><td>0.059</td></tr>\n",
       "\t<tr><th scope=row>2</th><td>GO:0070469</td><td>respirasome                 </td><td> 1</td><td> 1</td><td> 1</td><td>0.059</td></tr>\n",
       "\t<tr><th scope=row>3</th><td>GO:0005634</td><td>nucleus                     </td><td> 4</td><td> 4</td><td> 4</td><td>0.143</td></tr>\n",
       "\t<tr><th scope=row>4</th><td>GO:0005783</td><td>endoplasmic reticulum       </td><td> 1</td><td> 1</td><td> 1</td><td>0.294</td></tr>\n",
       "\t<tr><th scope=row>5</th><td>GO:0016020</td><td>membrane                    </td><td>11</td><td>11</td><td>11</td><td>0.364</td></tr>\n",
       "\t<tr><th scope=row>6</th><td>GO:0005681</td><td>spliceosomal complex        </td><td> 1</td><td> 1</td><td> 1</td><td>0.412</td></tr>\n",
       "\t<tr><th scope=row>7</th><td>GO:0005856</td><td>cytoskeleton                </td><td> 1</td><td> 1</td><td> 1</td><td>0.471</td></tr>\n",
       "\t<tr><th scope=row>8</th><td>GO:0060170</td><td>ciliary membrane            </td><td> 1</td><td> 1</td><td> 1</td><td>0.471</td></tr>\n",
       "\t<tr><th scope=row>9</th><td>GO:0005886</td><td>plasma membrane             </td><td> 3</td><td> 3</td><td> 3</td><td>0.475</td></tr>\n",
       "\t<tr><th scope=row>10</th><td>GO:0005737</td><td>cytoplasm                   </td><td> 5</td><td> 5</td><td> 5</td><td>0.552</td></tr>\n",
       "</tbody>\n",
       "</table>\n"
      ],
      "text/latex": [
       "A data.frame: 10 × 6\n",
       "\\begin{tabular}{r|llllll}\n",
       "  & GO.ID & Term & Annotated & Significant & Expected & raw.p.value\\\\\n",
       "  & <chr> & <chr> & <int> & <int> & <dbl> & <chr>\\\\\n",
       "\\hline\n",
       "\t1 & GO:0005743 & mitochondrial inner membrane &  1 &  1 &  1 & 0.059\\\\\n",
       "\t2 & GO:0070469 & respirasome                  &  1 &  1 &  1 & 0.059\\\\\n",
       "\t3 & GO:0005634 & nucleus                      &  4 &  4 &  4 & 0.143\\\\\n",
       "\t4 & GO:0005783 & endoplasmic reticulum        &  1 &  1 &  1 & 0.294\\\\\n",
       "\t5 & GO:0016020 & membrane                     & 11 & 11 & 11 & 0.364\\\\\n",
       "\t6 & GO:0005681 & spliceosomal complex         &  1 &  1 &  1 & 0.412\\\\\n",
       "\t7 & GO:0005856 & cytoskeleton                 &  1 &  1 &  1 & 0.471\\\\\n",
       "\t8 & GO:0060170 & ciliary membrane             &  1 &  1 &  1 & 0.471\\\\\n",
       "\t9 & GO:0005886 & plasma membrane              &  3 &  3 &  3 & 0.475\\\\\n",
       "\t10 & GO:0005737 & cytoplasm                    &  5 &  5 &  5 & 0.552\\\\\n",
       "\\end{tabular}\n"
      ],
      "text/markdown": [
       "\n",
       "A data.frame: 10 × 6\n",
       "\n",
       "| <!--/--> | GO.ID &lt;chr&gt; | Term &lt;chr&gt; | Annotated &lt;int&gt; | Significant &lt;int&gt; | Expected &lt;dbl&gt; | raw.p.value &lt;chr&gt; |\n",
       "|---|---|---|---|---|---|---|\n",
       "| 1 | GO:0005743 | mitochondrial inner membrane |  1 |  1 |  1 | 0.059 |\n",
       "| 2 | GO:0070469 | respirasome                  |  1 |  1 |  1 | 0.059 |\n",
       "| 3 | GO:0005634 | nucleus                      |  4 |  4 |  4 | 0.143 |\n",
       "| 4 | GO:0005783 | endoplasmic reticulum        |  1 |  1 |  1 | 0.294 |\n",
       "| 5 | GO:0016020 | membrane                     | 11 | 11 | 11 | 0.364 |\n",
       "| 6 | GO:0005681 | spliceosomal complex         |  1 |  1 |  1 | 0.412 |\n",
       "| 7 | GO:0005856 | cytoskeleton                 |  1 |  1 |  1 | 0.471 |\n",
       "| 8 | GO:0060170 | ciliary membrane             |  1 |  1 |  1 | 0.471 |\n",
       "| 9 | GO:0005886 | plasma membrane              |  3 |  3 |  3 | 0.475 |\n",
       "| 10 | GO:0005737 | cytoplasm                    |  5 |  5 |  5 | 0.552 |\n",
       "\n"
      ],
      "text/plain": [
       "   GO.ID      Term                         Annotated Significant Expected\n",
       "1  GO:0005743 mitochondrial inner membrane  1         1           1      \n",
       "2  GO:0070469 respirasome                   1         1           1      \n",
       "3  GO:0005634 nucleus                       4         4           4      \n",
       "4  GO:0005783 endoplasmic reticulum         1         1           1      \n",
       "5  GO:0016020 membrane                     11        11          11      \n",
       "6  GO:0005681 spliceosomal complex          1         1           1      \n",
       "7  GO:0005856 cytoskeleton                  1         1           1      \n",
       "8  GO:0060170 ciliary membrane              1         1           1      \n",
       "9  GO:0005886 plasma membrane               3         3           3      \n",
       "10 GO:0005737 cytoplasm                     5         5           5      \n",
       "   raw.p.value\n",
       "1  0.059      \n",
       "2  0.059      \n",
       "3  0.143      \n",
       "4  0.294      \n",
       "5  0.364      \n",
       "6  0.412      \n",
       "7  0.471      \n",
       "8  0.471      \n",
       "9  0.475      \n",
       "10 0.552      "
      ]
     },
     "metadata": {},
     "output_type": "display_data"
    }
   ],
   "source": [
    "# KS stat\n",
    "resultKS_CC <- runTest(GOdata_CC, algorithm = \"weight01\", statistic = \"ks\")\n",
    "\n",
    "# putting result into readable table\n",
    "tab_CC <- GenTable(GOdata_CC, raw.p.value = resultKS_CC, topNodes = length(resultKS_CC@score), numChar = 120)\n",
    "\n",
    "# showing top 10 GO term results\n",
    "head(tab_CC, 10)"
   ]
  },
  {
   "cell_type": "markdown",
   "id": "39b48146-3e7b-46c7-b300-793d8b7dde4c",
   "metadata": {},
   "source": [
    "#### GO analysis for biological process"
   ]
  },
  {
   "cell_type": "code",
   "execution_count": 12,
   "id": "5bfe551e-f9ec-4a81-9001-322aa9e868d5",
   "metadata": {},
   "outputs": [
    {
     "name": "stderr",
     "output_type": "stream",
     "text": [
      "\n",
      "Building most specific GOs .....\n",
      "\n",
      "\t( 15 GO terms found. )\n",
      "\n",
      "\n",
      "Build GO DAG topology ..........\n",
      "\n",
      "\t( 145 GO terms and 274 relations. )\n",
      "\n",
      "\n",
      "Annotating nodes ...............\n",
      "\n",
      "\t( 13 genes annotated to the GO terms. )\n",
      "\n"
     ]
    },
    {
     "data": {
      "text/plain": [
       "\n",
       "------------------------- topGOdata object -------------------------\n",
       "\n",
       " Description:\n",
       "   -  DMGs in phase 2 both vs. control \n",
       "\n",
       " Ontology:\n",
       "   -  BP \n",
       "\n",
       " 31 available genes (all genes from the array):\n",
       "   - symbol:  LOC111100406 LOC111101237 LOC111104284 LOC111105299 LOC111105528  ...\n",
       "   - score :  -1.978622926 -2.08316756 -0.4820847941 -2.517219171 -3.160862302  ...\n",
       "   - 29  significant genes. \n",
       "\n",
       " 13 feasible genes (genes that can be used in the analysis):\n",
       "   - symbol:  LOC111101237 LOC111104284 LOC111106800 LOC111108080 LOC111108426  ...\n",
       "   - score :  -2.08316756 -0.4820847941 -2.348134804 -1.522307064 -0.67002702  ...\n",
       "   - 13  significant genes. \n",
       "\n",
       " GO graph (nodes with at least  1  genes):\n",
       "   - a graph with directed edges\n",
       "   - number of nodes = 145 \n",
       "   - number of edges = 274 \n",
       "\n",
       "------------------------- topGOdata object -------------------------\n"
      ]
     },
     "metadata": {},
     "output_type": "display_data"
    }
   ],
   "source": [
    "# creating GO data object\n",
    "GOdata_BP <- new(\"topGOdata\", \n",
    "              description = 'DMGs in phase 2 both vs. control',\n",
    "              ontology = \"BP\", \n",
    "              allGenes = geneList,\n",
    "              geneSel = topDiffGenes,\n",
    "              annot = annFUN.gene2GO, \n",
    "              gene2GO = geneID2GO)\n",
    "GOdata_BP"
   ]
  },
  {
   "cell_type": "code",
   "execution_count": 13,
   "id": "3f682389-c2a0-49ed-978a-9891ea75a8ee",
   "metadata": {},
   "outputs": [
    {
     "name": "stderr",
     "output_type": "stream",
     "text": [
      "\n",
      "\t\t\t -- Weight01 Algorithm -- \n",
      "\n",
      "\t\t the algorithm is scoring 145 nontrivial nodes\n",
      "\t\t parameters: \n",
      "\t\t\t test statistic: ks\n",
      "\t\t\t score order: increasing\n",
      "\n",
      "\n",
      "\t Level 13:\t1 nodes to be scored\t(0 eliminated genes)\n",
      "\n",
      "\n",
      "\t Level 12:\t1 nodes to be scored\t(0 eliminated genes)\n",
      "\n",
      "\n",
      "\t Level 11:\t4 nodes to be scored\t(1 eliminated genes)\n",
      "\n",
      "\n",
      "\t Level 10:\t10 nodes to be scored\t(1 eliminated genes)\n",
      "\n",
      "\n",
      "\t Level 9:\t14 nodes to be scored\t(2 eliminated genes)\n",
      "\n",
      "\n",
      "\t Level 8:\t13 nodes to be scored\t(5 eliminated genes)\n",
      "\n",
      "\n",
      "\t Level 7:\t12 nodes to be scored\t(7 eliminated genes)\n",
      "\n",
      "\n",
      "\t Level 6:\t25 nodes to be scored\t(8 eliminated genes)\n",
      "\n",
      "\n",
      "\t Level 5:\t29 nodes to be scored\t(10 eliminated genes)\n",
      "\n",
      "\n",
      "\t Level 4:\t18 nodes to be scored\t(13 eliminated genes)\n",
      "\n",
      "\n",
      "\t Level 3:\t12 nodes to be scored\t(13 eliminated genes)\n",
      "\n",
      "\n",
      "\t Level 2:\t5 nodes to be scored\t(13 eliminated genes)\n",
      "\n",
      "\n",
      "\t Level 1:\t1 nodes to be scored\t(13 eliminated genes)\n",
      "\n"
     ]
    },
    {
     "data": {
      "text/html": [
       "<table class=\"dataframe\">\n",
       "<caption>A data.frame: 10 × 6</caption>\n",
       "<thead>\n",
       "\t<tr><th></th><th scope=col>GO.ID</th><th scope=col>Term</th><th scope=col>Annotated</th><th scope=col>Significant</th><th scope=col>Expected</th><th scope=col>raw.p.value</th></tr>\n",
       "\t<tr><th></th><th scope=col>&lt;chr&gt;</th><th scope=col>&lt;chr&gt;</th><th scope=col>&lt;int&gt;</th><th scope=col>&lt;int&gt;</th><th scope=col>&lt;dbl&gt;</th><th scope=col>&lt;chr&gt;</th></tr>\n",
       "</thead>\n",
       "<tbody>\n",
       "\t<tr><th scope=row>1</th><td>GO:0006820</td><td>monoatomic anion transport                         </td><td>1</td><td>1</td><td>1</td><td>0.15</td></tr>\n",
       "\t<tr><th scope=row>2</th><td>GO:0009116</td><td>nucleoside metabolic process                       </td><td>1</td><td>1</td><td>1</td><td>0.23</td></tr>\n",
       "\t<tr><th scope=row>3</th><td>GO:0009159</td><td>deoxyribonucleoside monophosphate catabolic process</td><td>1</td><td>1</td><td>1</td><td>0.23</td></tr>\n",
       "\t<tr><th scope=row>4</th><td>GO:0009117</td><td>nucleotide metabolic process                       </td><td>2</td><td>2</td><td>2</td><td>0.25</td></tr>\n",
       "\t<tr><th scope=row>5</th><td>GO:0046856</td><td>phosphatidylinositol dephosphorylation             </td><td>1</td><td>1</td><td>1</td><td>0.31</td></tr>\n",
       "\t<tr><th scope=row>6</th><td>GO:0016310</td><td>phosphorylation                                    </td><td>2</td><td>2</td><td>2</td><td>0.35</td></tr>\n",
       "\t<tr><th scope=row>7</th><td>GO:0016567</td><td>protein ubiquitination                             </td><td>1</td><td>1</td><td>1</td><td>0.38</td></tr>\n",
       "\t<tr><th scope=row>8</th><td>GO:0006511</td><td>ubiquitin-dependent protein catabolic process      </td><td>1</td><td>1</td><td>1</td><td>0.38</td></tr>\n",
       "\t<tr><th scope=row>9</th><td>GO:0006355</td><td>regulation of DNA-templated transcription          </td><td>2</td><td>2</td><td>2</td><td>0.50</td></tr>\n",
       "\t<tr><th scope=row>10</th><td>GO:0006189</td><td>'de novo' IMP biosynthetic process                 </td><td>1</td><td>1</td><td>1</td><td>0.54</td></tr>\n",
       "</tbody>\n",
       "</table>\n"
      ],
      "text/latex": [
       "A data.frame: 10 × 6\n",
       "\\begin{tabular}{r|llllll}\n",
       "  & GO.ID & Term & Annotated & Significant & Expected & raw.p.value\\\\\n",
       "  & <chr> & <chr> & <int> & <int> & <dbl> & <chr>\\\\\n",
       "\\hline\n",
       "\t1 & GO:0006820 & monoatomic anion transport                          & 1 & 1 & 1 & 0.15\\\\\n",
       "\t2 & GO:0009116 & nucleoside metabolic process                        & 1 & 1 & 1 & 0.23\\\\\n",
       "\t3 & GO:0009159 & deoxyribonucleoside monophosphate catabolic process & 1 & 1 & 1 & 0.23\\\\\n",
       "\t4 & GO:0009117 & nucleotide metabolic process                        & 2 & 2 & 2 & 0.25\\\\\n",
       "\t5 & GO:0046856 & phosphatidylinositol dephosphorylation              & 1 & 1 & 1 & 0.31\\\\\n",
       "\t6 & GO:0016310 & phosphorylation                                     & 2 & 2 & 2 & 0.35\\\\\n",
       "\t7 & GO:0016567 & protein ubiquitination                              & 1 & 1 & 1 & 0.38\\\\\n",
       "\t8 & GO:0006511 & ubiquitin-dependent protein catabolic process       & 1 & 1 & 1 & 0.38\\\\\n",
       "\t9 & GO:0006355 & regulation of DNA-templated transcription           & 2 & 2 & 2 & 0.50\\\\\n",
       "\t10 & GO:0006189 & 'de novo' IMP biosynthetic process                  & 1 & 1 & 1 & 0.54\\\\\n",
       "\\end{tabular}\n"
      ],
      "text/markdown": [
       "\n",
       "A data.frame: 10 × 6\n",
       "\n",
       "| <!--/--> | GO.ID &lt;chr&gt; | Term &lt;chr&gt; | Annotated &lt;int&gt; | Significant &lt;int&gt; | Expected &lt;dbl&gt; | raw.p.value &lt;chr&gt; |\n",
       "|---|---|---|---|---|---|---|\n",
       "| 1 | GO:0006820 | monoatomic anion transport                          | 1 | 1 | 1 | 0.15 |\n",
       "| 2 | GO:0009116 | nucleoside metabolic process                        | 1 | 1 | 1 | 0.23 |\n",
       "| 3 | GO:0009159 | deoxyribonucleoside monophosphate catabolic process | 1 | 1 | 1 | 0.23 |\n",
       "| 4 | GO:0009117 | nucleotide metabolic process                        | 2 | 2 | 2 | 0.25 |\n",
       "| 5 | GO:0046856 | phosphatidylinositol dephosphorylation              | 1 | 1 | 1 | 0.31 |\n",
       "| 6 | GO:0016310 | phosphorylation                                     | 2 | 2 | 2 | 0.35 |\n",
       "| 7 | GO:0016567 | protein ubiquitination                              | 1 | 1 | 1 | 0.38 |\n",
       "| 8 | GO:0006511 | ubiquitin-dependent protein catabolic process       | 1 | 1 | 1 | 0.38 |\n",
       "| 9 | GO:0006355 | regulation of DNA-templated transcription           | 2 | 2 | 2 | 0.50 |\n",
       "| 10 | GO:0006189 | 'de novo' IMP biosynthetic process                  | 1 | 1 | 1 | 0.54 |\n",
       "\n"
      ],
      "text/plain": [
       "   GO.ID      Term                                                Annotated\n",
       "1  GO:0006820 monoatomic anion transport                          1        \n",
       "2  GO:0009116 nucleoside metabolic process                        1        \n",
       "3  GO:0009159 deoxyribonucleoside monophosphate catabolic process 1        \n",
       "4  GO:0009117 nucleotide metabolic process                        2        \n",
       "5  GO:0046856 phosphatidylinositol dephosphorylation              1        \n",
       "6  GO:0016310 phosphorylation                                     2        \n",
       "7  GO:0016567 protein ubiquitination                              1        \n",
       "8  GO:0006511 ubiquitin-dependent protein catabolic process       1        \n",
       "9  GO:0006355 regulation of DNA-templated transcription           2        \n",
       "10 GO:0006189 'de novo' IMP biosynthetic process                  1        \n",
       "   Significant Expected raw.p.value\n",
       "1  1           1        0.15       \n",
       "2  1           1        0.23       \n",
       "3  1           1        0.23       \n",
       "4  2           2        0.25       \n",
       "5  1           1        0.31       \n",
       "6  2           2        0.35       \n",
       "7  1           1        0.38       \n",
       "8  1           1        0.38       \n",
       "9  2           2        0.50       \n",
       "10 1           1        0.54       "
      ]
     },
     "metadata": {},
     "output_type": "display_data"
    }
   ],
   "source": [
    "# KS stat\n",
    "resultKS_BP <- runTest(GOdata_BP, algorithm = \"weight01\", statistic = \"ks\")\n",
    "\n",
    "# putting result into readable table\n",
    "tab_BP <- GenTable(GOdata_BP, raw.p.value = resultKS_BP, topNodes = length(resultKS_BP@score), numChar = 120)\n",
    "\n",
    "# showing top 10 GO term results\n",
    "head(tab_BP, 10)"
   ]
  },
  {
   "cell_type": "markdown",
   "id": "48c6f174-40db-493c-bdbf-5925ecaf3338",
   "metadata": {},
   "source": [
    "## Gene Set Enrichment Analysis with clusterProfiler\n",
    "looking for enriched KEGG pathways with a ranked gene list"
   ]
  },
  {
   "cell_type": "code",
   "execution_count": 21,
   "id": "daadf74a-cdf8-46ba-ba72-baaa1eeed37b",
   "metadata": {},
   "outputs": [
    {
     "data": {
      "text/html": [
       "<table class=\"dataframe\">\n",
       "<caption>A data.frame: 6 × 2</caption>\n",
       "<thead>\n",
       "\t<tr><th></th><th scope=col>gene</th><th scope=col>l2fc</th></tr>\n",
       "\t<tr><th></th><th scope=col>&lt;chr&gt;</th><th scope=col>&lt;dbl&gt;</th></tr>\n",
       "</thead>\n",
       "<tbody>\n",
       "\t<tr><th scope=row>1</th><td>LOC111100406</td><td>-1.9786229</td></tr>\n",
       "\t<tr><th scope=row>2</th><td>LOC111101237</td><td>-2.0831676</td></tr>\n",
       "\t<tr><th scope=row>3</th><td>LOC111104284</td><td>-0.4820848</td></tr>\n",
       "\t<tr><th scope=row>4</th><td>LOC111105299</td><td>-2.5172192</td></tr>\n",
       "\t<tr><th scope=row>5</th><td>LOC111105528</td><td>-3.1608623</td></tr>\n",
       "\t<tr><th scope=row>6</th><td>LOC111106800</td><td>-2.3481348</td></tr>\n",
       "</tbody>\n",
       "</table>\n"
      ],
      "text/latex": [
       "A data.frame: 6 × 2\n",
       "\\begin{tabular}{r|ll}\n",
       "  & gene & l2fc\\\\\n",
       "  & <chr> & <dbl>\\\\\n",
       "\\hline\n",
       "\t1 & LOC111100406 & -1.9786229\\\\\n",
       "\t2 & LOC111101237 & -2.0831676\\\\\n",
       "\t3 & LOC111104284 & -0.4820848\\\\\n",
       "\t4 & LOC111105299 & -2.5172192\\\\\n",
       "\t5 & LOC111105528 & -3.1608623\\\\\n",
       "\t6 & LOC111106800 & -2.3481348\\\\\n",
       "\\end{tabular}\n"
      ],
      "text/markdown": [
       "\n",
       "A data.frame: 6 × 2\n",
       "\n",
       "| <!--/--> | gene &lt;chr&gt; | l2fc &lt;dbl&gt; |\n",
       "|---|---|---|\n",
       "| 1 | LOC111100406 | -1.9786229 |\n",
       "| 2 | LOC111101237 | -2.0831676 |\n",
       "| 3 | LOC111104284 | -0.4820848 |\n",
       "| 4 | LOC111105299 | -2.5172192 |\n",
       "| 5 | LOC111105528 | -3.1608623 |\n",
       "| 6 | LOC111106800 | -2.3481348 |\n",
       "\n"
      ],
      "text/plain": [
       "  gene         l2fc      \n",
       "1 LOC111100406 -1.9786229\n",
       "2 LOC111101237 -2.0831676\n",
       "3 LOC111104284 -0.4820848\n",
       "4 LOC111105299 -2.5172192\n",
       "5 LOC111105528 -3.1608623\n",
       "6 LOC111106800 -2.3481348"
      ]
     },
     "metadata": {},
     "output_type": "display_data"
    }
   ],
   "source": [
    "# already have a df with DMGs and scores - need just gene and l2fc\n",
    "df <- select(data2, gene, l2fc)\n",
    "head(df)"
   ]
  },
  {
   "cell_type": "code",
   "execution_count": 22,
   "id": "220b6841-d5b4-4818-8b43-18b8ba19fe6d",
   "metadata": {},
   "outputs": [
    {
     "data": {
      "text/html": [
       "<table class=\"dataframe\">\n",
       "<caption>A data.frame: 6 × 2</caption>\n",
       "<thead>\n",
       "\t<tr><th></th><th scope=col>gene</th><th scope=col>entrez_ID</th></tr>\n",
       "\t<tr><th></th><th scope=col>&lt;chr&gt;</th><th scope=col>&lt;int&gt;</th></tr>\n",
       "</thead>\n",
       "<tbody>\n",
       "\t<tr><th scope=row>1</th><td>LOC111110475</td><td>111110475</td></tr>\n",
       "\t<tr><th scope=row>2</th><td>LOC111123809</td><td>111123809</td></tr>\n",
       "\t<tr><th scope=row>3</th><td>LOC111127492</td><td>111127492</td></tr>\n",
       "\t<tr><th scope=row>4</th><td>LOC111124361</td><td>111124361</td></tr>\n",
       "\t<tr><th scope=row>5</th><td>LOC111108790</td><td>111108790</td></tr>\n",
       "\t<tr><th scope=row>6</th><td>LOC111105528</td><td>111105528</td></tr>\n",
       "</tbody>\n",
       "</table>\n"
      ],
      "text/latex": [
       "A data.frame: 6 × 2\n",
       "\\begin{tabular}{r|ll}\n",
       "  & gene & entrez\\_ID\\\\\n",
       "  & <chr> & <int>\\\\\n",
       "\\hline\n",
       "\t1 & LOC111110475 & 111110475\\\\\n",
       "\t2 & LOC111123809 & 111123809\\\\\n",
       "\t3 & LOC111127492 & 111127492\\\\\n",
       "\t4 & LOC111124361 & 111124361\\\\\n",
       "\t5 & LOC111108790 & 111108790\\\\\n",
       "\t6 & LOC111105528 & 111105528\\\\\n",
       "\\end{tabular}\n"
      ],
      "text/markdown": [
       "\n",
       "A data.frame: 6 × 2\n",
       "\n",
       "| <!--/--> | gene &lt;chr&gt; | entrez_ID &lt;int&gt; |\n",
       "|---|---|---|\n",
       "| 1 | LOC111110475 | 111110475 |\n",
       "| 2 | LOC111123809 | 111123809 |\n",
       "| 3 | LOC111127492 | 111127492 |\n",
       "| 4 | LOC111124361 | 111124361 |\n",
       "| 5 | LOC111108790 | 111108790 |\n",
       "| 6 | LOC111105528 | 111105528 |\n",
       "\n"
      ],
      "text/plain": [
       "  gene         entrez_ID\n",
       "1 LOC111110475 111110475\n",
       "2 LOC111123809 111123809\n",
       "3 LOC111127492 111127492\n",
       "4 LOC111124361 111124361\n",
       "5 LOC111108790 111108790\n",
       "6 LOC111105528 111105528"
      ]
     },
     "metadata": {},
     "output_type": "display_data"
    }
   ],
   "source": [
    "# need to have conversion table for gene name to entrez id\n",
    "david_df <- read.csv('/project/pi_sarah_gignouxwolfsohn_uml_edu/julia/CE_MethylRAD_analysis_2018/analysis/KEGG_pathway/p2_hypoxic_DAVID.txt', sep='\\t')\n",
    "# only selecting columns that I need\n",
    "david_df <- select(david_df, From, To)\n",
    "# renaming columns for merge\n",
    "colnames(david_df) = c('gene', 'entrez_ID')\n",
    "head(david_df)"
   ]
  },
  {
   "cell_type": "code",
   "execution_count": 23,
   "id": "bc88d02b-9be4-452f-9c5f-895966bf518b",
   "metadata": {},
   "outputs": [
    {
     "data": {
      "text/html": [
       "<table class=\"dataframe\">\n",
       "<caption>A data.frame: 6 × 2</caption>\n",
       "<thead>\n",
       "\t<tr><th></th><th scope=col>entrez_ID</th><th scope=col>l2fc</th></tr>\n",
       "\t<tr><th></th><th scope=col>&lt;int&gt;</th><th scope=col>&lt;dbl&gt;</th></tr>\n",
       "</thead>\n",
       "<tbody>\n",
       "\t<tr><th scope=row>1</th><td>111100406</td><td>-1.9786229</td></tr>\n",
       "\t<tr><th scope=row>2</th><td>111101237</td><td>-2.0831676</td></tr>\n",
       "\t<tr><th scope=row>3</th><td>111104284</td><td>-0.4820848</td></tr>\n",
       "\t<tr><th scope=row>4</th><td>111105299</td><td>-2.5172192</td></tr>\n",
       "\t<tr><th scope=row>5</th><td>111105528</td><td>-3.1608623</td></tr>\n",
       "\t<tr><th scope=row>6</th><td>111106800</td><td>-2.3481348</td></tr>\n",
       "</tbody>\n",
       "</table>\n"
      ],
      "text/latex": [
       "A data.frame: 6 × 2\n",
       "\\begin{tabular}{r|ll}\n",
       "  & entrez\\_ID & l2fc\\\\\n",
       "  & <int> & <dbl>\\\\\n",
       "\\hline\n",
       "\t1 & 111100406 & -1.9786229\\\\\n",
       "\t2 & 111101237 & -2.0831676\\\\\n",
       "\t3 & 111104284 & -0.4820848\\\\\n",
       "\t4 & 111105299 & -2.5172192\\\\\n",
       "\t5 & 111105528 & -3.1608623\\\\\n",
       "\t6 & 111106800 & -2.3481348\\\\\n",
       "\\end{tabular}\n"
      ],
      "text/markdown": [
       "\n",
       "A data.frame: 6 × 2\n",
       "\n",
       "| <!--/--> | entrez_ID &lt;int&gt; | l2fc &lt;dbl&gt; |\n",
       "|---|---|---|\n",
       "| 1 | 111100406 | -1.9786229 |\n",
       "| 2 | 111101237 | -2.0831676 |\n",
       "| 3 | 111104284 | -0.4820848 |\n",
       "| 4 | 111105299 | -2.5172192 |\n",
       "| 5 | 111105528 | -3.1608623 |\n",
       "| 6 | 111106800 | -2.3481348 |\n",
       "\n"
      ],
      "text/plain": [
       "  entrez_ID l2fc      \n",
       "1 111100406 -1.9786229\n",
       "2 111101237 -2.0831676\n",
       "3 111104284 -0.4820848\n",
       "4 111105299 -2.5172192\n",
       "5 111105528 -3.1608623\n",
       "6 111106800 -2.3481348"
      ]
     },
     "metadata": {},
     "output_type": "display_data"
    }
   ],
   "source": [
    "# matching up dataframes so entrez id has a log2FoldChange value\n",
    "merge <- merge(david_df, df, by = 'gene', all=TRUE)\n",
    "\n",
    "# grabbing just the entrez_ID and l2fc value\n",
    "merge_df <- select(merge, entrez_ID, l2fc)\n",
    "head(merge_df)"
   ]
  },
  {
   "cell_type": "code",
   "execution_count": 24,
   "id": "f4c59b94-bb00-42be-8473-b35c4d9e8899",
   "metadata": {},
   "outputs": [
    {
     "data": {
      "text/html": [
       "31"
      ],
      "text/latex": [
       "31"
      ],
      "text/markdown": [
       "31"
      ],
      "text/plain": [
       "[1] 31"
      ]
     },
     "metadata": {},
     "output_type": "display_data"
    },
    {
     "data": {
      "text/html": [
       "31"
      ],
      "text/latex": [
       "31"
      ],
      "text/markdown": [
       "31"
      ],
      "text/plain": [
       "[1] 31"
      ]
     },
     "metadata": {},
     "output_type": "display_data"
    }
   ],
   "source": [
    "# checking that there's only unique genes\n",
    "length(unique(merge_df$entrez_ID))\n",
    "length(merge_df$entrez_ID)\n",
    "# both have 31, so all good there"
   ]
  },
  {
   "cell_type": "code",
   "execution_count": 26,
   "id": "18ef7506-fd15-41fd-9a25-70a4e889c9a9",
   "metadata": {},
   "outputs": [
    {
     "data": {
      "text/html": [
       "<style>\n",
       ".dl-inline {width: auto; margin:0; padding: 0}\n",
       ".dl-inline>dt, .dl-inline>dd {float: none; width: auto; display: inline-block}\n",
       ".dl-inline>dt::after {content: \":\\0020\"; padding-right: .5ex}\n",
       ".dl-inline>dt:not(:first-of-type) {padding-left: .5ex}\n",
       "</style><dl class=dl-inline><dt>111128973</dt><dd>1.05767349900339</dd><dt>111107933</dt><dd>0.800049293286597</dd><dt>111104284</dt><dd>-0.482084794110101</dd><dt>111108426</dt><dd>-0.670027020042719</dd><dt>111118701</dt><dd>-0.874422318921723</dd><dt>111118753</dt><dd>-1.19484368569056</dd></dl>\n"
      ],
      "text/latex": [
       "\\begin{description*}\n",
       "\\item[111128973] 1.05767349900339\n",
       "\\item[111107933] 0.800049293286597\n",
       "\\item[111104284] -0.482084794110101\n",
       "\\item[111108426] -0.670027020042719\n",
       "\\item[111118701] -0.874422318921723\n",
       "\\item[111118753] -1.19484368569056\n",
       "\\end{description*}\n"
      ],
      "text/markdown": [
       "111128973\n",
       ":   1.05767349900339111107933\n",
       ":   0.800049293286597111104284\n",
       ":   -0.482084794110101111108426\n",
       ":   -0.670027020042719111118701\n",
       ":   -0.874422318921723111118753\n",
       ":   -1.19484368569056\n",
       "\n"
      ],
      "text/plain": [
       " 111128973  111107933  111104284  111108426  111118701  111118753 \n",
       " 1.0576735  0.8000493 -0.4820848 -0.6700270 -0.8744223 -1.1948437 "
      ]
     },
     "metadata": {},
     "output_type": "display_data"
    },
    {
     "data": {
      "text/html": [
       "'numeric'"
      ],
      "text/latex": [
       "'numeric'"
      ],
      "text/markdown": [
       "'numeric'"
      ],
      "text/plain": [
       "[1] \"numeric\""
      ]
     },
     "metadata": {},
     "output_type": "display_data"
    },
    {
     "data": {
      "text/html": [
       "31"
      ],
      "text/latex": [
       "31"
      ],
      "text/markdown": [
       "31"
      ],
      "text/plain": [
       "[1] 31"
      ]
     },
     "metadata": {},
     "output_type": "display_data"
    }
   ],
   "source": [
    "# Create a vector of the gene unuiverse\n",
    "kegg_gene_list <- merge_df$l2fc\n",
    "\n",
    "# Name vector with ENTREZ ids\n",
    "names(kegg_gene_list) <- merge_df$entrez_ID\n",
    "\n",
    "# omit any NA values \n",
    "kegg_gene_list<-na.omit(kegg_gene_list)\n",
    "\n",
    "# sort the list in decreasing order (required for clusterProfiler)\n",
    "kegg_gene_list = sort(kegg_gene_list, decreasing = TRUE)\n",
    "\n",
    "head(kegg_gene_list)\n",
    "class(kegg_gene_list) # numeric\n",
    "length(kegg_gene_list) # 31 genes"
   ]
  },
  {
   "cell_type": "code",
   "execution_count": 27,
   "id": "5af9066c-1cb9-4ba5-b133-e4b6e82cd314",
   "metadata": {},
   "outputs": [
    {
     "name": "stderr",
     "output_type": "stream",
     "text": [
      "preparing geneSet collections...\n",
      "\n",
      "GSEA analysis...\n",
      "\n",
      "Warning message in .GSEA(geneList = geneList, exponent = exponent, minGSSize = minGSSize, :\n",
      "“We do not recommend using nPerm parameter incurrent and future releases”\n",
      "Warning message in fgsea(pathways = geneSets, stats = geneList, nperm = nPerm, minSize = minGSSize, :\n",
      "“You are trying to run fgseaSimple. It is recommended to use fgseaMultilevel. To run fgseaMultilevel, you need to remove the nperm argument in the fgsea function call.”\n",
      "leading edge analysis...\n",
      "\n",
      "done...\n",
      "\n"
     ]
    }
   ],
   "source": [
    "kegg_organism = \"cvn\"\n",
    "kk2 <- gseKEGG(geneList     = kegg_gene_list,\n",
    "               organism     = kegg_organism,\n",
    "               nPerm        = 10000,\n",
    "               minGSSize    = 1,\n",
    "               maxGSSize    = 800,\n",
    "               pvalueCutoff = 1, # if this is set to 1, see more pathways, but 0.05 is statistically signif.\n",
    "               pAdjustMethod = \"BH\", # Benjamini–Hochberg FDR (false discover rate)\n",
    "               scoreType = \"pos\",\n",
    "               keyType       = \"kegg\")"
   ]
  },
  {
   "cell_type": "code",
   "execution_count": 28,
   "id": "6c40f477-8699-419c-9e0a-b672c6eec4b9",
   "metadata": {},
   "outputs": [
    {
     "data": {
      "text/html": [
       "<table class=\"dataframe\">\n",
       "<caption>A data.frame: 6 × 11</caption>\n",
       "<thead>\n",
       "\t<tr><th></th><th scope=col>ID</th><th scope=col>Description</th><th scope=col>setSize</th><th scope=col>enrichmentScore</th><th scope=col>NES</th><th scope=col>pvalue</th><th scope=col>p.adjust</th><th scope=col>qvalue</th><th scope=col>rank</th><th scope=col>leading_edge</th><th scope=col>core_enrichment</th></tr>\n",
       "\t<tr><th></th><th scope=col>&lt;chr&gt;</th><th scope=col>&lt;chr&gt;</th><th scope=col>&lt;int&gt;</th><th scope=col>&lt;dbl&gt;</th><th scope=col>&lt;dbl&gt;</th><th scope=col>&lt;dbl&gt;</th><th scope=col>&lt;dbl&gt;</th><th scope=col>&lt;dbl&gt;</th><th scope=col>&lt;dbl&gt;</th><th scope=col>&lt;chr&gt;</th><th scope=col>&lt;chr&gt;</th></tr>\n",
       "</thead>\n",
       "<tbody>\n",
       "\t<tr><th scope=row>cvn03265</th><td>cvn03265</td><td>Virion                                     </td><td>1</td><td>0.7000000</td><td>1.4142843</td><td>0.3188681</td><td>0.886178</td><td>0.886178</td><td>10</td><td>tags=100%, list=32%, signal=70%</td><td>111117672</td></tr>\n",
       "\t<tr><th scope=row>cvn04142</th><td>cvn04142</td><td>Lysosome                                   </td><td>1</td><td>0.7000000</td><td>1.4142843</td><td>0.3188681</td><td>0.886178</td><td>0.886178</td><td>10</td><td>tags=100%, list=32%, signal=70%</td><td>111117672</td></tr>\n",
       "\t<tr><th scope=row>cvn00910</th><td>cvn00910</td><td>Nitrogen metabolism                        </td><td>1</td><td>0.6666667</td><td>1.3469374</td><td>0.3511649</td><td>0.886178</td><td>0.886178</td><td>11</td><td>tags=100%, list=35%, signal=67%</td><td>111135592</td></tr>\n",
       "\t<tr><th scope=row>cvn03040</th><td>cvn03040</td><td>Spliceosome                                </td><td>1</td><td>0.5333333</td><td>1.0775499</td><td>0.4772523</td><td>0.886178</td><td>0.886178</td><td>15</td><td>tags=100%, list=48%, signal=53%</td><td>111121854</td></tr>\n",
       "\t<tr><th scope=row>cvn00230</th><td>cvn00230</td><td>Purine metabolism                          </td><td>1</td><td>0.4666667</td><td>0.9428562</td><td>0.5443456</td><td>0.886178</td><td>0.886178</td><td>16</td><td>tags=100%, list=52%, signal=50%</td><td>         </td></tr>\n",
       "\t<tr><th scope=row>cvn04141</th><td>cvn04141</td><td>Protein processing in endoplasmic reticulum</td><td>1</td><td>0.3666667</td><td>0.7408156</td><td>0.6121388</td><td>0.886178</td><td>0.886178</td><td>13</td><td>tags=100%, list=42%, signal=60%</td><td>         </td></tr>\n",
       "</tbody>\n",
       "</table>\n"
      ],
      "text/latex": [
       "A data.frame: 6 × 11\n",
       "\\begin{tabular}{r|lllllllllll}\n",
       "  & ID & Description & setSize & enrichmentScore & NES & pvalue & p.adjust & qvalue & rank & leading\\_edge & core\\_enrichment\\\\\n",
       "  & <chr> & <chr> & <int> & <dbl> & <dbl> & <dbl> & <dbl> & <dbl> & <dbl> & <chr> & <chr>\\\\\n",
       "\\hline\n",
       "\tcvn03265 & cvn03265 & Virion                                      & 1 & 0.7000000 & 1.4142843 & 0.3188681 & 0.886178 & 0.886178 & 10 & tags=100\\%, list=32\\%, signal=70\\% & 111117672\\\\\n",
       "\tcvn04142 & cvn04142 & Lysosome                                    & 1 & 0.7000000 & 1.4142843 & 0.3188681 & 0.886178 & 0.886178 & 10 & tags=100\\%, list=32\\%, signal=70\\% & 111117672\\\\\n",
       "\tcvn00910 & cvn00910 & Nitrogen metabolism                         & 1 & 0.6666667 & 1.3469374 & 0.3511649 & 0.886178 & 0.886178 & 11 & tags=100\\%, list=35\\%, signal=67\\% & 111135592\\\\\n",
       "\tcvn03040 & cvn03040 & Spliceosome                                 & 1 & 0.5333333 & 1.0775499 & 0.4772523 & 0.886178 & 0.886178 & 15 & tags=100\\%, list=48\\%, signal=53\\% & 111121854\\\\\n",
       "\tcvn00230 & cvn00230 & Purine metabolism                           & 1 & 0.4666667 & 0.9428562 & 0.5443456 & 0.886178 & 0.886178 & 16 & tags=100\\%, list=52\\%, signal=50\\% &          \\\\\n",
       "\tcvn04141 & cvn04141 & Protein processing in endoplasmic reticulum & 1 & 0.3666667 & 0.7408156 & 0.6121388 & 0.886178 & 0.886178 & 13 & tags=100\\%, list=42\\%, signal=60\\% &          \\\\\n",
       "\\end{tabular}\n"
      ],
      "text/markdown": [
       "\n",
       "A data.frame: 6 × 11\n",
       "\n",
       "| <!--/--> | ID &lt;chr&gt; | Description &lt;chr&gt; | setSize &lt;int&gt; | enrichmentScore &lt;dbl&gt; | NES &lt;dbl&gt; | pvalue &lt;dbl&gt; | p.adjust &lt;dbl&gt; | qvalue &lt;dbl&gt; | rank &lt;dbl&gt; | leading_edge &lt;chr&gt; | core_enrichment &lt;chr&gt; |\n",
       "|---|---|---|---|---|---|---|---|---|---|---|---|\n",
       "| cvn03265 | cvn03265 | Virion                                      | 1 | 0.7000000 | 1.4142843 | 0.3188681 | 0.886178 | 0.886178 | 10 | tags=100%, list=32%, signal=70% | 111117672 |\n",
       "| cvn04142 | cvn04142 | Lysosome                                    | 1 | 0.7000000 | 1.4142843 | 0.3188681 | 0.886178 | 0.886178 | 10 | tags=100%, list=32%, signal=70% | 111117672 |\n",
       "| cvn00910 | cvn00910 | Nitrogen metabolism                         | 1 | 0.6666667 | 1.3469374 | 0.3511649 | 0.886178 | 0.886178 | 11 | tags=100%, list=35%, signal=67% | 111135592 |\n",
       "| cvn03040 | cvn03040 | Spliceosome                                 | 1 | 0.5333333 | 1.0775499 | 0.4772523 | 0.886178 | 0.886178 | 15 | tags=100%, list=48%, signal=53% | 111121854 |\n",
       "| cvn00230 | cvn00230 | Purine metabolism                           | 1 | 0.4666667 | 0.9428562 | 0.5443456 | 0.886178 | 0.886178 | 16 | tags=100%, list=52%, signal=50% | <!----> |\n",
       "| cvn04141 | cvn04141 | Protein processing in endoplasmic reticulum | 1 | 0.3666667 | 0.7408156 | 0.6121388 | 0.886178 | 0.886178 | 13 | tags=100%, list=42%, signal=60% | <!----> |\n",
       "\n"
      ],
      "text/plain": [
       "         ID       Description                                 setSize\n",
       "cvn03265 cvn03265 Virion                                      1      \n",
       "cvn04142 cvn04142 Lysosome                                    1      \n",
       "cvn00910 cvn00910 Nitrogen metabolism                         1      \n",
       "cvn03040 cvn03040 Spliceosome                                 1      \n",
       "cvn00230 cvn00230 Purine metabolism                           1      \n",
       "cvn04141 cvn04141 Protein processing in endoplasmic reticulum 1      \n",
       "         enrichmentScore NES       pvalue    p.adjust qvalue   rank\n",
       "cvn03265 0.7000000       1.4142843 0.3188681 0.886178 0.886178 10  \n",
       "cvn04142 0.7000000       1.4142843 0.3188681 0.886178 0.886178 10  \n",
       "cvn00910 0.6666667       1.3469374 0.3511649 0.886178 0.886178 11  \n",
       "cvn03040 0.5333333       1.0775499 0.4772523 0.886178 0.886178 15  \n",
       "cvn00230 0.4666667       0.9428562 0.5443456 0.886178 0.886178 16  \n",
       "cvn04141 0.3666667       0.7408156 0.6121388 0.886178 0.886178 13  \n",
       "         leading_edge                    core_enrichment\n",
       "cvn03265 tags=100%, list=32%, signal=70% 111117672      \n",
       "cvn04142 tags=100%, list=32%, signal=70% 111117672      \n",
       "cvn00910 tags=100%, list=35%, signal=67% 111135592      \n",
       "cvn03040 tags=100%, list=48%, signal=53% 111121854      \n",
       "cvn00230 tags=100%, list=52%, signal=50%                \n",
       "cvn04141 tags=100%, list=42%, signal=60%                "
      ]
     },
     "metadata": {},
     "output_type": "display_data"
    }
   ],
   "source": [
    "kk2_df <- as.data.frame(kk2)\n",
    "kk2_df$Description <- sub(\" -.*\", \"\", kk2_df$Description)\n",
    "head(kk2_df) # actually shows the entire df since there's only 5 pathways with pval<0.05"
   ]
  },
  {
   "cell_type": "markdown",
   "id": "e0539fee-1fde-4abf-b736-640cd49a8e53",
   "metadata": {},
   "source": [
    "not very enriched for any pathway"
   ]
  }
 ],
 "metadata": {
  "kernelspec": {
   "display_name": "R [conda env:.conda-r-env]",
   "language": "R",
   "name": "conda-env-.conda-r-env-r"
  },
  "language_info": {
   "codemirror_mode": "r",
   "file_extension": ".r",
   "mimetype": "text/x-r-source",
   "name": "R",
   "pygments_lexer": "r",
   "version": "4.3.2"
  }
 },
 "nbformat": 4,
 "nbformat_minor": 5
}
