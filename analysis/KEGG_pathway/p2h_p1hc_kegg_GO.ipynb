{
 "cells": [
  {
   "cell_type": "markdown",
   "id": "5af8febd-852a-4031-9507-510dadf90d39",
   "metadata": {},
   "source": [
    "## Given phase 2, what is the effect of phase 1?\n",
    "## phase 2 = hypoxic, **looking at phase 1 hypoxic vs. control**\n",
    "\n",
    "GO analysis and GSEA with KEGG"
   ]
  },
  {
   "cell_type": "code",
   "execution_count": 1,
   "id": "a7a46278-58b4-44ff-8610-a955802c2ec1",
   "metadata": {},
   "outputs": [
    {
     "name": "stderr",
     "output_type": "stream",
     "text": [
      "\n",
      "\n",
      "clusterProfiler v4.10.0  For help: https://yulab-smu.top/biomedical-knowledge-mining-book/\n",
      "\n",
      "If you use clusterProfiler in published research, please cite:\n",
      "T Wu, E Hu, S Xu, M Chen, P Guo, Z Dai, T Feng, L Zhou, W Tang, L Zhan, X Fu, S Liu, X Bo, and G Yu. clusterProfiler 4.0: A universal enrichment tool for interpreting omics data. The Innovation. 2021, 2(3):100141\n",
      "\n",
      "\n",
      "Attaching package: ‘clusterProfiler’\n",
      "\n",
      "\n",
      "The following object is masked from ‘package:stats’:\n",
      "\n",
      "    filter\n",
      "\n",
      "\n",
      "Loading required package: BiocGenerics\n",
      "\n",
      "\n",
      "Attaching package: ‘BiocGenerics’\n",
      "\n",
      "\n",
      "The following objects are masked from ‘package:stats’:\n",
      "\n",
      "    IQR, mad, sd, var, xtabs\n",
      "\n",
      "\n",
      "The following objects are masked from ‘package:base’:\n",
      "\n",
      "    anyDuplicated, aperm, append, as.data.frame, basename, cbind,\n",
      "    colnames, dirname, do.call, duplicated, eval, evalq, Filter, Find,\n",
      "    get, grep, grepl, intersect, is.unsorted, lapply, Map, mapply,\n",
      "    match, mget, order, paste, pmax, pmax.int, pmin, pmin.int,\n",
      "    Position, rank, rbind, Reduce, rownames, sapply, setdiff, sort,\n",
      "    table, tapply, union, unique, unsplit, which.max, which.min\n",
      "\n",
      "\n",
      "Loading required package: graph\n",
      "\n",
      "Loading required package: Biobase\n",
      "\n",
      "Welcome to Bioconductor\n",
      "\n",
      "    Vignettes contain introductory material; view with\n",
      "    'browseVignettes()'. To cite Bioconductor, see\n",
      "    'citation(\"Biobase\")', and for packages 'citation(\"pkgname\")'.\n",
      "\n",
      "\n",
      "Loading required package: GO.db\n",
      "\n",
      "Loading required package: AnnotationDbi\n",
      "\n",
      "Loading required package: stats4\n",
      "\n",
      "Loading required package: IRanges\n",
      "\n",
      "Loading required package: S4Vectors\n",
      "\n",
      "\n",
      "Attaching package: ‘S4Vectors’\n",
      "\n",
      "\n",
      "The following object is masked from ‘package:clusterProfiler’:\n",
      "\n",
      "    rename\n",
      "\n",
      "\n",
      "The following object is masked from ‘package:utils’:\n",
      "\n",
      "    findMatches\n",
      "\n",
      "\n",
      "The following objects are masked from ‘package:base’:\n",
      "\n",
      "    expand.grid, I, unname\n",
      "\n",
      "\n",
      "\n",
      "Attaching package: ‘IRanges’\n",
      "\n",
      "\n",
      "The following object is masked from ‘package:clusterProfiler’:\n",
      "\n",
      "    slice\n",
      "\n",
      "\n",
      "\n",
      "Attaching package: ‘AnnotationDbi’\n",
      "\n",
      "\n",
      "The following object is masked from ‘package:clusterProfiler’:\n",
      "\n",
      "    select\n",
      "\n",
      "\n",
      "Loading required package: SparseM\n",
      "\n",
      "\n",
      "Attaching package: ‘SparseM’\n",
      "\n",
      "\n",
      "The following object is masked from ‘package:base’:\n",
      "\n",
      "    backsolve\n",
      "\n",
      "\n",
      "\n",
      "groupGOTerms: \tGOBPTerm, GOMFTerm, GOCCTerm environments built.\n",
      "\n",
      "\n",
      "Attaching package: ‘topGO’\n",
      "\n",
      "\n",
      "The following object is masked from ‘package:IRanges’:\n",
      "\n",
      "    members\n",
      "\n",
      "\n",
      "\n",
      "Attaching package: ‘dplyr’\n",
      "\n",
      "\n",
      "The following object is masked from ‘package:AnnotationDbi’:\n",
      "\n",
      "    select\n",
      "\n",
      "\n",
      "The following objects are masked from ‘package:IRanges’:\n",
      "\n",
      "    collapse, desc, intersect, setdiff, slice, union\n",
      "\n",
      "\n",
      "The following objects are masked from ‘package:S4Vectors’:\n",
      "\n",
      "    first, intersect, rename, setdiff, setequal, union\n",
      "\n",
      "\n",
      "The following object is masked from ‘package:Biobase’:\n",
      "\n",
      "    combine\n",
      "\n",
      "\n",
      "The following object is masked from ‘package:graph’:\n",
      "\n",
      "    union\n",
      "\n",
      "\n",
      "The following objects are masked from ‘package:BiocGenerics’:\n",
      "\n",
      "    combine, intersect, setdiff, union\n",
      "\n",
      "\n",
      "The following objects are masked from ‘package:stats’:\n",
      "\n",
      "    filter, lag\n",
      "\n",
      "\n",
      "The following objects are masked from ‘package:base’:\n",
      "\n",
      "    intersect, setdiff, setequal, union\n",
      "\n",
      "\n"
     ]
    }
   ],
   "source": [
    "# loading packages\n",
    "library(clusterProfiler)\n",
    "library(topGO)\n",
    "library(dplyr)\n",
    "library(KEGGREST)\n",
    "library(ggplot2)"
   ]
  },
  {
   "cell_type": "markdown",
   "id": "a9031836-0b4a-4706-84df-3404160c4e07",
   "metadata": {},
   "source": [
    "What we need for GO analysis:\n",
    "- list of DMGs with pvalues (feel like this should be log2FoldChange)"
   ]
  },
  {
   "cell_type": "code",
   "execution_count": 2,
   "id": "879091c9-68bc-4f1c-a367-d846297bd032",
   "metadata": {},
   "outputs": [
    {
     "data": {
      "text/html": [
       "<table class=\"dataframe\">\n",
       "<caption>A data.frame: 6 × 4</caption>\n",
       "<thead>\n",
       "\t<tr><th></th><th scope=col>gene</th><th scope=col>l2fc</th><th scope=col>pval</th><th scope=col>padj</th></tr>\n",
       "\t<tr><th></th><th scope=col>&lt;chr&gt;</th><th scope=col>&lt;dbl&gt;</th><th scope=col>&lt;dbl&gt;</th><th scope=col>&lt;dbl&gt;</th></tr>\n",
       "</thead>\n",
       "<tbody>\n",
       "\t<tr><th scope=row>1</th><td>LOC111100393</td><td> 0.6624208</td><td>1.535024e-04</td><td>3.300650e-02</td></tr>\n",
       "\t<tr><th scope=row>2</th><td>LOC111105858</td><td>-0.5596059</td><td>7.819983e-05</td><td>2.180038e-02</td></tr>\n",
       "\t<tr><th scope=row>3</th><td>LOC111106800</td><td>-1.0316182</td><td>5.504449e-05</td><td>1.726333e-02</td></tr>\n",
       "\t<tr><th scope=row>4</th><td>LOC111113273</td><td>-0.8104052</td><td>2.376525e-04</td><td>4.259072e-02</td></tr>\n",
       "\t<tr><th scope=row>5</th><td>LOC111113309</td><td> 0.6891998</td><td>1.578629e-04</td><td>3.300650e-02</td></tr>\n",
       "\t<tr><th scope=row>6</th><td>LOC111117059</td><td>-1.2192004</td><td>8.515913e-12</td><td>2.136643e-08</td></tr>\n",
       "</tbody>\n",
       "</table>\n"
      ],
      "text/latex": [
       "A data.frame: 6 × 4\n",
       "\\begin{tabular}{r|llll}\n",
       "  & gene & l2fc & pval & padj\\\\\n",
       "  & <chr> & <dbl> & <dbl> & <dbl>\\\\\n",
       "\\hline\n",
       "\t1 & LOC111100393 &  0.6624208 & 1.535024e-04 & 3.300650e-02\\\\\n",
       "\t2 & LOC111105858 & -0.5596059 & 7.819983e-05 & 2.180038e-02\\\\\n",
       "\t3 & LOC111106800 & -1.0316182 & 5.504449e-05 & 1.726333e-02\\\\\n",
       "\t4 & LOC111113273 & -0.8104052 & 2.376525e-04 & 4.259072e-02\\\\\n",
       "\t5 & LOC111113309 &  0.6891998 & 1.578629e-04 & 3.300650e-02\\\\\n",
       "\t6 & LOC111117059 & -1.2192004 & 8.515913e-12 & 2.136643e-08\\\\\n",
       "\\end{tabular}\n"
      ],
      "text/markdown": [
       "\n",
       "A data.frame: 6 × 4\n",
       "\n",
       "| <!--/--> | gene &lt;chr&gt; | l2fc &lt;dbl&gt; | pval &lt;dbl&gt; | padj &lt;dbl&gt; |\n",
       "|---|---|---|---|---|\n",
       "| 1 | LOC111100393 |  0.6624208 | 1.535024e-04 | 3.300650e-02 |\n",
       "| 2 | LOC111105858 | -0.5596059 | 7.819983e-05 | 2.180038e-02 |\n",
       "| 3 | LOC111106800 | -1.0316182 | 5.504449e-05 | 1.726333e-02 |\n",
       "| 4 | LOC111113273 | -0.8104052 | 2.376525e-04 | 4.259072e-02 |\n",
       "| 5 | LOC111113309 |  0.6891998 | 1.578629e-04 | 3.300650e-02 |\n",
       "| 6 | LOC111117059 | -1.2192004 | 8.515913e-12 | 2.136643e-08 |\n",
       "\n"
      ],
      "text/plain": [
       "  gene         l2fc       pval         padj        \n",
       "1 LOC111100393  0.6624208 1.535024e-04 3.300650e-02\n",
       "2 LOC111105858 -0.5596059 7.819983e-05 2.180038e-02\n",
       "3 LOC111106800 -1.0316182 5.504449e-05 1.726333e-02\n",
       "4 LOC111113273 -0.8104052 2.376525e-04 4.259072e-02\n",
       "5 LOC111113309  0.6891998 1.578629e-04 3.300650e-02\n",
       "6 LOC111117059 -1.2192004 8.515913e-12 2.136643e-08"
      ]
     },
     "metadata": {},
     "output_type": "display_data"
    }
   ],
   "source": [
    "# load significant genes df for both vs. control for phase 2\n",
    "data <- read.csv('/project/pi_sarah_gignouxwolfsohn_uml_edu/julia/CE_MethylRAD_analysis_2018/analysis/significant_genes/sig_p2h_p1hc_genes.csv')\n",
    "\n",
    "# select needed columns (really might only need l2fc\n",
    "data2 <- select(data, Row.names, log2FoldChange, pvalue, padj)\n",
    "\n",
    "# renaming columns so they make more sense\n",
    "colnames(data2) = c('gene', 'l2fc', 'pval', 'padj')\n",
    "head(data2)"
   ]
  },
  {
   "cell_type": "code",
   "execution_count": 3,
   "id": "0229eb73-63fa-4c14-9abf-54a0a965bd9c",
   "metadata": {},
   "outputs": [
    {
     "data": {
      "text/html": [
       "<style>\n",
       ".dl-inline {width: auto; margin:0; padding: 0}\n",
       ".dl-inline>dt, .dl-inline>dd {float: none; width: auto; display: inline-block}\n",
       ".dl-inline>dt::after {content: \":\\0020\"; padding-right: .5ex}\n",
       ".dl-inline>dt:not(:first-of-type) {padding-left: .5ex}\n",
       "</style><dl class=dl-inline><dt>LOC111100393</dt><dd>0.662420826394975</dd><dt>LOC111105858</dt><dd>-0.559605852678382</dd><dt>LOC111106800</dt><dd>-1.03161817848562</dd><dt>LOC111113273</dt><dd>-0.810405212499335</dd><dt>LOC111113309</dt><dd>0.689199815806653</dd><dt>LOC111117059</dt><dd>-1.21920043453387</dd></dl>\n"
      ],
      "text/latex": [
       "\\begin{description*}\n",
       "\\item[LOC111100393] 0.662420826394975\n",
       "\\item[LOC111105858] -0.559605852678382\n",
       "\\item[LOC111106800] -1.03161817848562\n",
       "\\item[LOC111113273] -0.810405212499335\n",
       "\\item[LOC111113309] 0.689199815806653\n",
       "\\item[LOC111117059] -1.21920043453387\n",
       "\\end{description*}\n"
      ],
      "text/markdown": [
       "LOC111100393\n",
       ":   0.662420826394975LOC111105858\n",
       ":   -0.559605852678382LOC111106800\n",
       ":   -1.03161817848562LOC111113273\n",
       ":   -0.810405212499335LOC111113309\n",
       ":   0.689199815806653LOC111117059\n",
       ":   -1.21920043453387\n",
       "\n"
      ],
      "text/plain": [
       "LOC111100393 LOC111105858 LOC111106800 LOC111113273 LOC111113309 LOC111117059 \n",
       "   0.6624208   -0.5596059   -1.0316182   -0.8104052    0.6891998   -1.2192004 "
      ]
     },
     "metadata": {},
     "output_type": "display_data"
    },
    {
     "data": {
      "text/html": [
       "'numeric'"
      ],
      "text/latex": [
       "'numeric'"
      ],
      "text/markdown": [
       "'numeric'"
      ],
      "text/plain": [
       "[1] \"numeric\""
      ]
     },
     "metadata": {},
     "output_type": "display_data"
    }
   ],
   "source": [
    "# creating numeric vector of gene names and log2FoldChange value\n",
    "geneList <- data2$l2fc\n",
    "names(geneList) <- data2$gene\n",
    "\n",
    "# double checking things look right\n",
    "head(geneList)\n",
    "class(geneList) # numeric, used in allGenes for topGO object"
   ]
  },
  {
   "cell_type": "code",
   "execution_count": 4,
   "id": "71c65c18-0ba6-4239-944a-bc8828ae699d",
   "metadata": {},
   "outputs": [
    {
     "data": {
      "text/html": [
       "<table class=\"dataframe\">\n",
       "<caption>A data.frame: 6 × 2</caption>\n",
       "<thead>\n",
       "\t<tr><th></th><th scope=col>gene</th><th scope=col>GO_id</th></tr>\n",
       "\t<tr><th></th><th scope=col>&lt;chr&gt;</th><th scope=col>&lt;chr&gt;</th></tr>\n",
       "</thead>\n",
       "<tbody>\n",
       "\t<tr><th scope=row>1</th><td>LOC111133408</td><td>GO:2001070           </td></tr>\n",
       "\t<tr><th scope=row>2</th><td>LOC111121603</td><td>GO:2000781,GO:2000781</td></tr>\n",
       "\t<tr><th scope=row>3</th><td>LOC111132389</td><td>GO:2000145           </td></tr>\n",
       "\t<tr><th scope=row>4</th><td>LOC111115105</td><td>GO:1990904,GO:1990904</td></tr>\n",
       "\t<tr><th scope=row>5</th><td>LOC111129853</td><td>GO:1990904,GO:1990904</td></tr>\n",
       "\t<tr><th scope=row>6</th><td>LOC111101512</td><td>GO:1990904           </td></tr>\n",
       "</tbody>\n",
       "</table>\n"
      ],
      "text/latex": [
       "A data.frame: 6 × 2\n",
       "\\begin{tabular}{r|ll}\n",
       "  & gene & GO\\_id\\\\\n",
       "  & <chr> & <chr>\\\\\n",
       "\\hline\n",
       "\t1 & LOC111133408 & GO:2001070           \\\\\n",
       "\t2 & LOC111121603 & GO:2000781,GO:2000781\\\\\n",
       "\t3 & LOC111132389 & GO:2000145           \\\\\n",
       "\t4 & LOC111115105 & GO:1990904,GO:1990904\\\\\n",
       "\t5 & LOC111129853 & GO:1990904,GO:1990904\\\\\n",
       "\t6 & LOC111101512 & GO:1990904           \\\\\n",
       "\\end{tabular}\n"
      ],
      "text/markdown": [
       "\n",
       "A data.frame: 6 × 2\n",
       "\n",
       "| <!--/--> | gene &lt;chr&gt; | GO_id &lt;chr&gt; |\n",
       "|---|---|---|\n",
       "| 1 | LOC111133408 | GO:2001070            |\n",
       "| 2 | LOC111121603 | GO:2000781,GO:2000781 |\n",
       "| 3 | LOC111132389 | GO:2000145            |\n",
       "| 4 | LOC111115105 | GO:1990904,GO:1990904 |\n",
       "| 5 | LOC111129853 | GO:1990904,GO:1990904 |\n",
       "| 6 | LOC111101512 | GO:1990904            |\n",
       "\n"
      ],
      "text/plain": [
       "  gene         GO_id                \n",
       "1 LOC111133408 GO:2001070           \n",
       "2 LOC111121603 GO:2000781,GO:2000781\n",
       "3 LOC111132389 GO:2000145           \n",
       "4 LOC111115105 GO:1990904,GO:1990904\n",
       "5 LOC111129853 GO:1990904,GO:1990904\n",
       "6 LOC111101512 GO:1990904           "
      ]
     },
     "metadata": {},
     "output_type": "display_data"
    },
    {
     "data": {
      "text/html": [
       "<style>\n",
       ".list-inline {list-style: none; margin:0; padding: 0}\n",
       ".list-inline>li {display: inline-block}\n",
       ".list-inline>li:not(:last-child)::after {content: \"\\00b7\"; padding: 0 .5ex}\n",
       "</style>\n",
       "<ol class=list-inline><li>22654</li><li>2</li></ol>\n"
      ],
      "text/latex": [
       "\\begin{enumerate*}\n",
       "\\item 22654\n",
       "\\item 2\n",
       "\\end{enumerate*}\n"
      ],
      "text/markdown": [
       "1. 22654\n",
       "2. 2\n",
       "\n",
       "\n"
      ],
      "text/plain": [
       "[1] 22654     2"
      ]
     },
     "metadata": {},
     "output_type": "display_data"
    }
   ],
   "source": [
    "# loading conversion df of unique genes with associated GO ids\n",
    "geneID2GO <- read.csv('/project/pi_sarah_gignouxwolfsohn_uml_edu/julia/CE_MethylRAD_analysis_2018/analysis/GO_enrichment_analysis/geneID2GO.txt', sep='\\t')\n",
    "\n",
    "# renaming columns\n",
    "colnames(geneID2GO) = c('gene','GO_id')\n",
    "\n",
    "# checking things make sense\n",
    "head(geneID2GO)\n",
    "dim(geneID2GO) # have 22,654 unique genes that have GO annotations"
   ]
  },
  {
   "cell_type": "code",
   "execution_count": 5,
   "id": "5dc0c062-31d4-473e-9e51-6404e86e5f26",
   "metadata": {},
   "outputs": [
    {
     "data": {
      "text/html": [
       "<dl>\n",
       "\t<dt>$LOC111133408</dt>\n",
       "\t\t<dd>'GO:2001070'</dd>\n",
       "\t<dt>$LOC111121603</dt>\n",
       "\t\t<dd><style>\n",
       ".list-inline {list-style: none; margin:0; padding: 0}\n",
       ".list-inline>li {display: inline-block}\n",
       ".list-inline>li:not(:last-child)::after {content: \"\\00b7\"; padding: 0 .5ex}\n",
       "</style>\n",
       "<ol class=list-inline><li>'GO:2000781'</li><li>'GO:2000781'</li></ol>\n",
       "</dd>\n",
       "\t<dt>$LOC111132389</dt>\n",
       "\t\t<dd>'GO:2000145'</dd>\n",
       "\t<dt>$LOC111115105</dt>\n",
       "\t\t<dd><style>\n",
       ".list-inline {list-style: none; margin:0; padding: 0}\n",
       ".list-inline>li {display: inline-block}\n",
       ".list-inline>li:not(:last-child)::after {content: \"\\00b7\"; padding: 0 .5ex}\n",
       "</style>\n",
       "<ol class=list-inline><li>'GO:1990904'</li><li>'GO:1990904'</li></ol>\n",
       "</dd>\n",
       "\t<dt>$LOC111129853</dt>\n",
       "\t\t<dd><style>\n",
       ".list-inline {list-style: none; margin:0; padding: 0}\n",
       ".list-inline>li {display: inline-block}\n",
       ".list-inline>li:not(:last-child)::after {content: \"\\00b7\"; padding: 0 .5ex}\n",
       "</style>\n",
       "<ol class=list-inline><li>'GO:1990904'</li><li>'GO:1990904'</li></ol>\n",
       "</dd>\n",
       "\t<dt>$LOC111101512</dt>\n",
       "\t\t<dd>'GO:1990904'</dd>\n",
       "</dl>\n"
      ],
      "text/latex": [
       "\\begin{description}\n",
       "\\item[\\$LOC111133408] 'GO:2001070'\n",
       "\\item[\\$LOC111121603] \\begin{enumerate*}\n",
       "\\item 'GO:2000781'\n",
       "\\item 'GO:2000781'\n",
       "\\end{enumerate*}\n",
       "\n",
       "\\item[\\$LOC111132389] 'GO:2000145'\n",
       "\\item[\\$LOC111115105] \\begin{enumerate*}\n",
       "\\item 'GO:1990904'\n",
       "\\item 'GO:1990904'\n",
       "\\end{enumerate*}\n",
       "\n",
       "\\item[\\$LOC111129853] \\begin{enumerate*}\n",
       "\\item 'GO:1990904'\n",
       "\\item 'GO:1990904'\n",
       "\\end{enumerate*}\n",
       "\n",
       "\\item[\\$LOC111101512] 'GO:1990904'\n",
       "\\end{description}\n"
      ],
      "text/markdown": [
       "$LOC111133408\n",
       ":   'GO:2001070'\n",
       "$LOC111121603\n",
       ":   1. 'GO:2000781'\n",
       "2. 'GO:2000781'\n",
       "\n",
       "\n",
       "\n",
       "$LOC111132389\n",
       ":   'GO:2000145'\n",
       "$LOC111115105\n",
       ":   1. 'GO:1990904'\n",
       "2. 'GO:1990904'\n",
       "\n",
       "\n",
       "\n",
       "$LOC111129853\n",
       ":   1. 'GO:1990904'\n",
       "2. 'GO:1990904'\n",
       "\n",
       "\n",
       "\n",
       "$LOC111101512\n",
       ":   'GO:1990904'\n",
       "\n",
       "\n"
      ],
      "text/plain": [
       "$LOC111133408\n",
       "[1] \"GO:2001070\"\n",
       "\n",
       "$LOC111121603\n",
       "[1] \"GO:2000781\" \"GO:2000781\"\n",
       "\n",
       "$LOC111132389\n",
       "[1] \"GO:2000145\"\n",
       "\n",
       "$LOC111115105\n",
       "[1] \"GO:1990904\" \"GO:1990904\"\n",
       "\n",
       "$LOC111129853\n",
       "[1] \"GO:1990904\" \"GO:1990904\"\n",
       "\n",
       "$LOC111101512\n",
       "[1] \"GO:1990904\"\n"
      ]
     },
     "metadata": {},
     "output_type": "display_data"
    }
   ],
   "source": [
    "# have to create annotation file\n",
    "geneID2GO <- readMappings(file = '/project/pi_sarah_gignouxwolfsohn_uml_edu/julia/CE_MethylRAD_analysis_2018/analysis/GO_enrichment_analysis/geneID2GO.txt')\n",
    "geneID2GO <- geneID2GO[-1] # removes header\n",
    "head(geneID2GO)"
   ]
  },
  {
   "cell_type": "code",
   "execution_count": 6,
   "id": "fb57f455-0649-4e55-9ba1-0bc2c5dc4f94",
   "metadata": {},
   "outputs": [
    {
     "data": {
      "text/html": [
       "<style>\n",
       ".list-inline {list-style: none; margin:0; padding: 0}\n",
       ".list-inline>li {display: inline-block}\n",
       ".list-inline>li:not(:last-child)::after {content: \"\\00b7\"; padding: 0 .5ex}\n",
       "</style>\n",
       "<ol class=list-inline><li>'LOC111133408'</li><li>'LOC111121603'</li><li>'LOC111132389'</li><li>'LOC111115105'</li><li>'LOC111129853'</li><li>'LOC111101512'</li></ol>\n"
      ],
      "text/latex": [
       "\\begin{enumerate*}\n",
       "\\item 'LOC111133408'\n",
       "\\item 'LOC111121603'\n",
       "\\item 'LOC111132389'\n",
       "\\item 'LOC111115105'\n",
       "\\item 'LOC111129853'\n",
       "\\item 'LOC111101512'\n",
       "\\end{enumerate*}\n"
      ],
      "text/markdown": [
       "1. 'LOC111133408'\n",
       "2. 'LOC111121603'\n",
       "3. 'LOC111132389'\n",
       "4. 'LOC111115105'\n",
       "5. 'LOC111129853'\n",
       "6. 'LOC111101512'\n",
       "\n",
       "\n"
      ],
      "text/plain": [
       "[1] \"LOC111133408\" \"LOC111121603\" \"LOC111132389\" \"LOC111115105\" \"LOC111129853\"\n",
       "[6] \"LOC111101512\""
      ]
     },
     "metadata": {},
     "output_type": "display_data"
    }
   ],
   "source": [
    "geneNames <- names(geneID2GO)\n",
    "head(geneNames)"
   ]
  },
  {
   "cell_type": "code",
   "execution_count": 7,
   "id": "ad03c833-3f44-41e3-a9cc-cfb69d658165",
   "metadata": {},
   "outputs": [
    {
     "data": {
      "text/html": [
       "12"
      ],
      "text/latex": [
       "12"
      ],
      "text/markdown": [
       "12"
      ],
      "text/plain": [
       "[1] 12"
      ]
     },
     "metadata": {},
     "output_type": "display_data"
    }
   ],
   "source": [
    "topDiffGenes <- function(allScore) {\n",
    "    return(allScore < 0.01)\n",
    "}\n",
    "\n",
    "x <- topDiffGenes(geneList)\n",
    "sum(x) ## the number of selected genes"
   ]
  },
  {
   "cell_type": "markdown",
   "id": "7693105e-8172-48d7-986d-c8b1d4492e6f",
   "metadata": {},
   "source": [
    "#### GO analysis: molecular function"
   ]
  },
  {
   "cell_type": "code",
   "execution_count": 9,
   "id": "538e38dd-dfd0-45e3-bf5e-5ac8eb4e9b46",
   "metadata": {},
   "outputs": [
    {
     "name": "stderr",
     "output_type": "stream",
     "text": [
      "\n",
      "Building most specific GOs .....\n",
      "\n",
      "\t( 11 GO terms found. )\n",
      "\n",
      "\n",
      "Build GO DAG topology ..........\n",
      "\n",
      "\t( 45 GO terms and 56 relations. )\n",
      "\n",
      "\n",
      "Annotating nodes ...............\n",
      "\n",
      "\t( 7 genes annotated to the GO terms. )\n",
      "\n"
     ]
    },
    {
     "data": {
      "text/plain": [
       "\n",
       "------------------------- topGOdata object -------------------------\n",
       "\n",
       " Description:\n",
       "   -  DMGs in phase 1 hypoxic vs. control, phase 2 hypoxic \n",
       "\n",
       " Ontology:\n",
       "   -  MF \n",
       "\n",
       " 14 available genes (all genes from the array):\n",
       "   - symbol:  LOC111100393 LOC111105858 LOC111106800 LOC111113273 LOC111113309  ...\n",
       "   - score :  0.6624208264 -0.5596058527 -1.031618178 -0.8104052125 0.6891998158  ...\n",
       "   - 12  significant genes. \n",
       "\n",
       " 7 feasible genes (genes that can be used in the analysis):\n",
       "   - symbol:  LOC111100393 LOC111105858 LOC111106800 LOC111113309 LOC111122794  ...\n",
       "   - score :  0.6624208264 -0.5596058527 -1.031618178 0.6891998158 -1.148034325  ...\n",
       "   - 5  significant genes. \n",
       "\n",
       " GO graph (nodes with at least  1  genes):\n",
       "   - a graph with directed edges\n",
       "   - number of nodes = 45 \n",
       "   - number of edges = 56 \n",
       "\n",
       "------------------------- topGOdata object -------------------------\n"
      ]
     },
     "metadata": {},
     "output_type": "display_data"
    }
   ],
   "source": [
    "# creating GO data object\n",
    "GOdata_MF <- new(\"topGOdata\", \n",
    "              description = 'DMGs in phase 1 hypoxic vs. control, phase 2 hypoxic',\n",
    "              ontology = \"MF\", \n",
    "              allGenes = geneList,\n",
    "              geneSel = topDiffGenes,\n",
    "              annot = annFUN.gene2GO, \n",
    "              gene2GO = geneID2GO)\n",
    "GOdata_MF"
   ]
  },
  {
   "cell_type": "code",
   "execution_count": 10,
   "id": "2fa6ae4f-4d6d-4117-b765-47473804eda0",
   "metadata": {},
   "outputs": [
    {
     "name": "stderr",
     "output_type": "stream",
     "text": [
      "\n",
      "\t\t\t -- Weight01 Algorithm -- \n",
      "\n",
      "\t\t the algorithm is scoring 45 nontrivial nodes\n",
      "\t\t parameters: \n",
      "\t\t\t test statistic: ks\n",
      "\t\t\t score order: increasing\n",
      "\n",
      "\n",
      "\t Level 9:\t1 nodes to be scored\t(0 eliminated genes)\n",
      "\n",
      "\n",
      "\t Level 8:\t1 nodes to be scored\t(0 eliminated genes)\n",
      "\n",
      "\n",
      "\t Level 7:\t3 nodes to be scored\t(1 eliminated genes)\n",
      "\n",
      "\n",
      "\t Level 6:\t6 nodes to be scored\t(1 eliminated genes)\n",
      "\n",
      "\n",
      "\t Level 5:\t10 nodes to be scored\t(2 eliminated genes)\n",
      "\n",
      "\n",
      "\t Level 4:\t8 nodes to be scored\t(4 eliminated genes)\n",
      "\n",
      "\n",
      "\t Level 3:\t12 nodes to be scored\t(5 eliminated genes)\n",
      "\n",
      "\n",
      "\t Level 2:\t3 nodes to be scored\t(5 eliminated genes)\n",
      "\n",
      "\n",
      "\t Level 1:\t1 nodes to be scored\t(7 eliminated genes)\n",
      "\n"
     ]
    },
    {
     "data": {
      "text/html": [
       "<table class=\"dataframe\">\n",
       "<caption>A data.frame: 10 × 6</caption>\n",
       "<thead>\n",
       "\t<tr><th></th><th scope=col>GO.ID</th><th scope=col>Term</th><th scope=col>Annotated</th><th scope=col>Significant</th><th scope=col>Expected</th><th scope=col>raw.p.value</th></tr>\n",
       "\t<tr><th></th><th scope=col>&lt;chr&gt;</th><th scope=col>&lt;chr&gt;</th><th scope=col>&lt;int&gt;</th><th scope=col>&lt;int&gt;</th><th scope=col>&lt;dbl&gt;</th><th scope=col>&lt;chr&gt;</th></tr>\n",
       "</thead>\n",
       "<tbody>\n",
       "\t<tr><th scope=row>1</th><td>GO:0016491</td><td>oxidoreductase activity           </td><td>1</td><td>1</td><td>0.71</td><td>0.14</td></tr>\n",
       "\t<tr><th scope=row>2</th><td>GO:0005524</td><td>ATP binding                       </td><td>1</td><td>1</td><td>0.71</td><td>0.29</td></tr>\n",
       "\t<tr><th scope=row>3</th><td>GO:0035091</td><td>phosphatidylinositol binding      </td><td>1</td><td>1</td><td>0.71</td><td>0.29</td></tr>\n",
       "\t<tr><th scope=row>4</th><td>GO:0004672</td><td>protein kinase activity           </td><td>1</td><td>1</td><td>0.71</td><td>0.29</td></tr>\n",
       "\t<tr><th scope=row>5</th><td>GO:0003779</td><td>actin binding                     </td><td>1</td><td>1</td><td>0.71</td><td>0.29</td></tr>\n",
       "\t<tr><th scope=row>6</th><td>GO:0022857</td><td>transmembrane transporter activity</td><td>1</td><td>1</td><td>0.71</td><td>0.43</td></tr>\n",
       "\t<tr><th scope=row>7</th><td>GO:0003677</td><td>DNA binding                       </td><td>1</td><td>1</td><td>0.71</td><td>0.57</td></tr>\n",
       "\t<tr><th scope=row>8</th><td>GO:0008270</td><td>zinc ion binding                  </td><td>1</td><td>1</td><td>0.71</td><td>0.71</td></tr>\n",
       "\t<tr><th scope=row>9</th><td>GO:0004222</td><td>metalloendopeptidase activity     </td><td>1</td><td>0</td><td>0.71</td><td>0.86</td></tr>\n",
       "\t<tr><th scope=row>10</th><td>GO:0032559</td><td>adenyl ribonucleotide binding     </td><td>1</td><td>1</td><td>0.71</td><td>1.00</td></tr>\n",
       "</tbody>\n",
       "</table>\n"
      ],
      "text/latex": [
       "A data.frame: 10 × 6\n",
       "\\begin{tabular}{r|llllll}\n",
       "  & GO.ID & Term & Annotated & Significant & Expected & raw.p.value\\\\\n",
       "  & <chr> & <chr> & <int> & <int> & <dbl> & <chr>\\\\\n",
       "\\hline\n",
       "\t1 & GO:0016491 & oxidoreductase activity            & 1 & 1 & 0.71 & 0.14\\\\\n",
       "\t2 & GO:0005524 & ATP binding                        & 1 & 1 & 0.71 & 0.29\\\\\n",
       "\t3 & GO:0035091 & phosphatidylinositol binding       & 1 & 1 & 0.71 & 0.29\\\\\n",
       "\t4 & GO:0004672 & protein kinase activity            & 1 & 1 & 0.71 & 0.29\\\\\n",
       "\t5 & GO:0003779 & actin binding                      & 1 & 1 & 0.71 & 0.29\\\\\n",
       "\t6 & GO:0022857 & transmembrane transporter activity & 1 & 1 & 0.71 & 0.43\\\\\n",
       "\t7 & GO:0003677 & DNA binding                        & 1 & 1 & 0.71 & 0.57\\\\\n",
       "\t8 & GO:0008270 & zinc ion binding                   & 1 & 1 & 0.71 & 0.71\\\\\n",
       "\t9 & GO:0004222 & metalloendopeptidase activity      & 1 & 0 & 0.71 & 0.86\\\\\n",
       "\t10 & GO:0032559 & adenyl ribonucleotide binding      & 1 & 1 & 0.71 & 1.00\\\\\n",
       "\\end{tabular}\n"
      ],
      "text/markdown": [
       "\n",
       "A data.frame: 10 × 6\n",
       "\n",
       "| <!--/--> | GO.ID &lt;chr&gt; | Term &lt;chr&gt; | Annotated &lt;int&gt; | Significant &lt;int&gt; | Expected &lt;dbl&gt; | raw.p.value &lt;chr&gt; |\n",
       "|---|---|---|---|---|---|---|\n",
       "| 1 | GO:0016491 | oxidoreductase activity            | 1 | 1 | 0.71 | 0.14 |\n",
       "| 2 | GO:0005524 | ATP binding                        | 1 | 1 | 0.71 | 0.29 |\n",
       "| 3 | GO:0035091 | phosphatidylinositol binding       | 1 | 1 | 0.71 | 0.29 |\n",
       "| 4 | GO:0004672 | protein kinase activity            | 1 | 1 | 0.71 | 0.29 |\n",
       "| 5 | GO:0003779 | actin binding                      | 1 | 1 | 0.71 | 0.29 |\n",
       "| 6 | GO:0022857 | transmembrane transporter activity | 1 | 1 | 0.71 | 0.43 |\n",
       "| 7 | GO:0003677 | DNA binding                        | 1 | 1 | 0.71 | 0.57 |\n",
       "| 8 | GO:0008270 | zinc ion binding                   | 1 | 1 | 0.71 | 0.71 |\n",
       "| 9 | GO:0004222 | metalloendopeptidase activity      | 1 | 0 | 0.71 | 0.86 |\n",
       "| 10 | GO:0032559 | adenyl ribonucleotide binding      | 1 | 1 | 0.71 | 1.00 |\n",
       "\n"
      ],
      "text/plain": [
       "   GO.ID      Term                               Annotated Significant Expected\n",
       "1  GO:0016491 oxidoreductase activity            1         1           0.71    \n",
       "2  GO:0005524 ATP binding                        1         1           0.71    \n",
       "3  GO:0035091 phosphatidylinositol binding       1         1           0.71    \n",
       "4  GO:0004672 protein kinase activity            1         1           0.71    \n",
       "5  GO:0003779 actin binding                      1         1           0.71    \n",
       "6  GO:0022857 transmembrane transporter activity 1         1           0.71    \n",
       "7  GO:0003677 DNA binding                        1         1           0.71    \n",
       "8  GO:0008270 zinc ion binding                   1         1           0.71    \n",
       "9  GO:0004222 metalloendopeptidase activity      1         0           0.71    \n",
       "10 GO:0032559 adenyl ribonucleotide binding      1         1           0.71    \n",
       "   raw.p.value\n",
       "1  0.14       \n",
       "2  0.29       \n",
       "3  0.29       \n",
       "4  0.29       \n",
       "5  0.29       \n",
       "6  0.43       \n",
       "7  0.57       \n",
       "8  0.71       \n",
       "9  0.86       \n",
       "10 1.00       "
      ]
     },
     "metadata": {},
     "output_type": "display_data"
    }
   ],
   "source": [
    "# KS stat\n",
    "resultKS_MF <- runTest(GOdata_MF, algorithm = \"weight01\", statistic = \"ks\")\n",
    "\n",
    "# putting result into readable table\n",
    "tab_MF <- GenTable(GOdata_MF, raw.p.value = resultKS_MF, topNodes = length(resultKS_MF@score), numChar = 120)\n",
    "\n",
    "# showing top 10 GO term results\n",
    "head(tab_MF, 10)"
   ]
  },
  {
   "cell_type": "markdown",
   "id": "3c591098-1981-4319-9317-fedafdbde5c8",
   "metadata": {},
   "source": [
    "#### GO analysis for cellular component"
   ]
  },
  {
   "cell_type": "code",
   "execution_count": 11,
   "id": "7f59b63e-e18d-477c-87e4-8cc0ecadcf75",
   "metadata": {},
   "outputs": [
    {
     "name": "stderr",
     "output_type": "stream",
     "text": [
      "\n",
      "Building most specific GOs .....\n",
      "\n",
      "\t( 6 GO terms found. )\n",
      "\n",
      "\n",
      "Build GO DAG topology ..........\n",
      "\n",
      "\t( 21 GO terms and 31 relations. )\n",
      "\n",
      "\n",
      "Annotating nodes ...............\n",
      "\n",
      "\t( 6 genes annotated to the GO terms. )\n",
      "\n"
     ]
    },
    {
     "data": {
      "text/plain": [
       "\n",
       "------------------------- topGOdata object -------------------------\n",
       "\n",
       " Description:\n",
       "   -  DMGs in phase 1 hypoxic vs. control, phase 2 hypoxic \n",
       "\n",
       " Ontology:\n",
       "   -  CC \n",
       "\n",
       " 14 available genes (all genes from the array):\n",
       "   - symbol:  LOC111100393 LOC111105858 LOC111106800 LOC111113273 LOC111113309  ...\n",
       "   - score :  0.6624208264 -0.5596058527 -1.031618178 -0.8104052125 0.6891998158  ...\n",
       "   - 12  significant genes. \n",
       "\n",
       " 6 feasible genes (genes that can be used in the analysis):\n",
       "   - symbol:  LOC111100393 LOC111117059 LOC111122649 LOC111124218 LOC111129021  ...\n",
       "   - score :  0.6624208264 -1.219200435 -0.7448971595 -0.7301369327 -0.7095935444  ...\n",
       "   - 5  significant genes. \n",
       "\n",
       " GO graph (nodes with at least  1  genes):\n",
       "   - a graph with directed edges\n",
       "   - number of nodes = 21 \n",
       "   - number of edges = 31 \n",
       "\n",
       "------------------------- topGOdata object -------------------------\n"
      ]
     },
     "metadata": {},
     "output_type": "display_data"
    }
   ],
   "source": [
    "# creating GO data object\n",
    "GOdata_CC <- new(\"topGOdata\", \n",
    "              description = 'DMGs in phase 1 hypoxic vs. control, phase 2 hypoxic',\n",
    "              ontology = \"CC\", \n",
    "              allGenes = geneList,\n",
    "              geneSel = topDiffGenes,\n",
    "              annot = annFUN.gene2GO, \n",
    "              gene2GO = geneID2GO)\n",
    "GOdata_CC"
   ]
  },
  {
   "cell_type": "code",
   "execution_count": 12,
   "id": "9317cfea-2094-491d-9788-631f74870a7d",
   "metadata": {},
   "outputs": [
    {
     "name": "stderr",
     "output_type": "stream",
     "text": [
      "\n",
      "\t\t\t -- Weight01 Algorithm -- \n",
      "\n",
      "\t\t the algorithm is scoring 21 nontrivial nodes\n",
      "\t\t parameters: \n",
      "\t\t\t test statistic: ks\n",
      "\t\t\t score order: increasing\n",
      "\n",
      "\n",
      "\t Level 8:\t2 nodes to be scored\t(0 eliminated genes)\n",
      "\n",
      "\n",
      "\t Level 7:\t1 nodes to be scored\t(0 eliminated genes)\n",
      "\n",
      "\n",
      "\t Level 6:\t3 nodes to be scored\t(1 eliminated genes)\n",
      "\n",
      "\n",
      "\t Level 5:\t3 nodes to be scored\t(1 eliminated genes)\n",
      "\n",
      "\n",
      "\t Level 4:\t3 nodes to be scored\t(3 eliminated genes)\n",
      "\n",
      "\n",
      "\t Level 3:\t6 nodes to be scored\t(3 eliminated genes)\n",
      "\n",
      "\n",
      "\t Level 2:\t2 nodes to be scored\t(3 eliminated genes)\n",
      "\n",
      "\n",
      "\t Level 1:\t1 nodes to be scored\t(6 eliminated genes)\n",
      "\n"
     ]
    },
    {
     "data": {
      "text/html": [
       "<table class=\"dataframe\">\n",
       "<caption>A data.frame: 10 × 6</caption>\n",
       "<thead>\n",
       "\t<tr><th></th><th scope=col>GO.ID</th><th scope=col>Term</th><th scope=col>Annotated</th><th scope=col>Significant</th><th scope=col>Expected</th><th scope=col>raw.p.value</th></tr>\n",
       "\t<tr><th></th><th scope=col>&lt;chr&gt;</th><th scope=col>&lt;chr&gt;</th><th scope=col>&lt;int&gt;</th><th scope=col>&lt;int&gt;</th><th scope=col>&lt;dbl&gt;</th><th scope=col>&lt;chr&gt;</th></tr>\n",
       "</thead>\n",
       "<tbody>\n",
       "\t<tr><th scope=row>1</th><td>GO:0005829</td><td>cytosol                           </td><td>2</td><td>2</td><td>1.67</td><td>0.20</td></tr>\n",
       "\t<tr><th scope=row>2</th><td>GO:0000938</td><td>GARP complex                      </td><td>1</td><td>1</td><td>0.83</td><td>0.33</td></tr>\n",
       "\t<tr><th scope=row>3</th><td>GO:0005768</td><td>endosome                          </td><td>1</td><td>1</td><td>0.83</td><td>0.33</td></tr>\n",
       "\t<tr><th scope=row>4</th><td>GO:0005576</td><td>extracellular region              </td><td>1</td><td>1</td><td>0.83</td><td>0.50</td></tr>\n",
       "\t<tr><th scope=row>5</th><td>GO:0016020</td><td>membrane                          </td><td>3</td><td>2</td><td>2.50</td><td>0.75</td></tr>\n",
       "\t<tr><th scope=row>6</th><td>GO:0005634</td><td>nucleus                           </td><td>2</td><td>2</td><td>1.67</td><td>0.80</td></tr>\n",
       "\t<tr><th scope=row>7</th><td>GO:0005622</td><td>intracellular anatomical structure</td><td>3</td><td>3</td><td>2.50</td><td>1.00</td></tr>\n",
       "\t<tr><th scope=row>8</th><td>GO:0031982</td><td>vesicle                           </td><td>1</td><td>1</td><td>0.83</td><td>1.00</td></tr>\n",
       "\t<tr><th scope=row>9</th><td>GO:0110165</td><td>cellular anatomical entity        </td><td>6</td><td>5</td><td>5.00</td><td>1.00</td></tr>\n",
       "\t<tr><th scope=row>10</th><td>GO:0031410</td><td>cytoplasmic vesicle               </td><td>1</td><td>1</td><td>0.83</td><td>1.00</td></tr>\n",
       "</tbody>\n",
       "</table>\n"
      ],
      "text/latex": [
       "A data.frame: 10 × 6\n",
       "\\begin{tabular}{r|llllll}\n",
       "  & GO.ID & Term & Annotated & Significant & Expected & raw.p.value\\\\\n",
       "  & <chr> & <chr> & <int> & <int> & <dbl> & <chr>\\\\\n",
       "\\hline\n",
       "\t1 & GO:0005829 & cytosol                            & 2 & 2 & 1.67 & 0.20\\\\\n",
       "\t2 & GO:0000938 & GARP complex                       & 1 & 1 & 0.83 & 0.33\\\\\n",
       "\t3 & GO:0005768 & endosome                           & 1 & 1 & 0.83 & 0.33\\\\\n",
       "\t4 & GO:0005576 & extracellular region               & 1 & 1 & 0.83 & 0.50\\\\\n",
       "\t5 & GO:0016020 & membrane                           & 3 & 2 & 2.50 & 0.75\\\\\n",
       "\t6 & GO:0005634 & nucleus                            & 2 & 2 & 1.67 & 0.80\\\\\n",
       "\t7 & GO:0005622 & intracellular anatomical structure & 3 & 3 & 2.50 & 1.00\\\\\n",
       "\t8 & GO:0031982 & vesicle                            & 1 & 1 & 0.83 & 1.00\\\\\n",
       "\t9 & GO:0110165 & cellular anatomical entity         & 6 & 5 & 5.00 & 1.00\\\\\n",
       "\t10 & GO:0031410 & cytoplasmic vesicle                & 1 & 1 & 0.83 & 1.00\\\\\n",
       "\\end{tabular}\n"
      ],
      "text/markdown": [
       "\n",
       "A data.frame: 10 × 6\n",
       "\n",
       "| <!--/--> | GO.ID &lt;chr&gt; | Term &lt;chr&gt; | Annotated &lt;int&gt; | Significant &lt;int&gt; | Expected &lt;dbl&gt; | raw.p.value &lt;chr&gt; |\n",
       "|---|---|---|---|---|---|---|\n",
       "| 1 | GO:0005829 | cytosol                            | 2 | 2 | 1.67 | 0.20 |\n",
       "| 2 | GO:0000938 | GARP complex                       | 1 | 1 | 0.83 | 0.33 |\n",
       "| 3 | GO:0005768 | endosome                           | 1 | 1 | 0.83 | 0.33 |\n",
       "| 4 | GO:0005576 | extracellular region               | 1 | 1 | 0.83 | 0.50 |\n",
       "| 5 | GO:0016020 | membrane                           | 3 | 2 | 2.50 | 0.75 |\n",
       "| 6 | GO:0005634 | nucleus                            | 2 | 2 | 1.67 | 0.80 |\n",
       "| 7 | GO:0005622 | intracellular anatomical structure | 3 | 3 | 2.50 | 1.00 |\n",
       "| 8 | GO:0031982 | vesicle                            | 1 | 1 | 0.83 | 1.00 |\n",
       "| 9 | GO:0110165 | cellular anatomical entity         | 6 | 5 | 5.00 | 1.00 |\n",
       "| 10 | GO:0031410 | cytoplasmic vesicle                | 1 | 1 | 0.83 | 1.00 |\n",
       "\n"
      ],
      "text/plain": [
       "   GO.ID      Term                               Annotated Significant Expected\n",
       "1  GO:0005829 cytosol                            2         2           1.67    \n",
       "2  GO:0000938 GARP complex                       1         1           0.83    \n",
       "3  GO:0005768 endosome                           1         1           0.83    \n",
       "4  GO:0005576 extracellular region               1         1           0.83    \n",
       "5  GO:0016020 membrane                           3         2           2.50    \n",
       "6  GO:0005634 nucleus                            2         2           1.67    \n",
       "7  GO:0005622 intracellular anatomical structure 3         3           2.50    \n",
       "8  GO:0031982 vesicle                            1         1           0.83    \n",
       "9  GO:0110165 cellular anatomical entity         6         5           5.00    \n",
       "10 GO:0031410 cytoplasmic vesicle                1         1           0.83    \n",
       "   raw.p.value\n",
       "1  0.20       \n",
       "2  0.33       \n",
       "3  0.33       \n",
       "4  0.50       \n",
       "5  0.75       \n",
       "6  0.80       \n",
       "7  1.00       \n",
       "8  1.00       \n",
       "9  1.00       \n",
       "10 1.00       "
      ]
     },
     "metadata": {},
     "output_type": "display_data"
    }
   ],
   "source": [
    "# KS stat\n",
    "resultKS_CC <- runTest(GOdata_CC, algorithm = \"weight01\", statistic = \"ks\")\n",
    "\n",
    "# putting result into readable table\n",
    "tab_CC <- GenTable(GOdata_CC, raw.p.value = resultKS_CC, topNodes = length(resultKS_CC@score), numChar = 120)\n",
    "\n",
    "# showing top 10 GO term results\n",
    "head(tab_CC, 10)"
   ]
  },
  {
   "cell_type": "markdown",
   "id": "39b48146-3e7b-46c7-b300-793d8b7dde4c",
   "metadata": {},
   "source": [
    "#### GO analysis for biological process"
   ]
  },
  {
   "cell_type": "code",
   "execution_count": 13,
   "id": "5bfe551e-f9ec-4a81-9001-322aa9e868d5",
   "metadata": {},
   "outputs": [
    {
     "name": "stderr",
     "output_type": "stream",
     "text": [
      "\n",
      "Building most specific GOs .....\n",
      "\n",
      "\t( 8 GO terms found. )\n",
      "\n",
      "\n",
      "Build GO DAG topology ..........\n",
      "\n",
      "\t( 44 GO terms and 60 relations. )\n",
      "\n",
      "\n",
      "Annotating nodes ...............\n",
      "\n",
      "\t( 4 genes annotated to the GO terms. )\n",
      "\n"
     ]
    },
    {
     "data": {
      "text/plain": [
       "\n",
       "------------------------- topGOdata object -------------------------\n",
       "\n",
       " Description:\n",
       "   -  DMGs in phase 1 hypoxic vs. control, phase 2 hypoxic \n",
       "\n",
       " Ontology:\n",
       "   -  BP \n",
       "\n",
       " 14 available genes (all genes from the array):\n",
       "   - symbol:  LOC111100393 LOC111105858 LOC111106800 LOC111113273 LOC111113309  ...\n",
       "   - score :  0.6624208264 -0.5596058527 -1.031618178 -0.8104052125 0.6891998158  ...\n",
       "   - 12  significant genes. \n",
       "\n",
       " 4 feasible genes (genes that can be used in the analysis):\n",
       "   - symbol:  LOC111100393 LOC111106800 LOC111122649 LOC111133241  ...\n",
       "   - score :  0.6624208264 -1.031618178 -0.7448971595 -1.087243109  ...\n",
       "   - 3  significant genes. \n",
       "\n",
       " GO graph (nodes with at least  1  genes):\n",
       "   - a graph with directed edges\n",
       "   - number of nodes = 44 \n",
       "   - number of edges = 60 \n",
       "\n",
       "------------------------- topGOdata object -------------------------\n"
      ]
     },
     "metadata": {},
     "output_type": "display_data"
    }
   ],
   "source": [
    "# creating GO data object\n",
    "GOdata_BP <- new(\"topGOdata\", \n",
    "              description = 'DMGs in phase 1 hypoxic vs. control, phase 2 hypoxic',\n",
    "              ontology = \"BP\", \n",
    "              allGenes = geneList,\n",
    "              geneSel = topDiffGenes,\n",
    "              annot = annFUN.gene2GO, \n",
    "              gene2GO = geneID2GO)\n",
    "GOdata_BP"
   ]
  },
  {
   "cell_type": "code",
   "execution_count": 14,
   "id": "3f682389-c2a0-49ed-978a-9891ea75a8ee",
   "metadata": {},
   "outputs": [
    {
     "name": "stderr",
     "output_type": "stream",
     "text": [
      "\n",
      "\t\t\t -- Weight01 Algorithm -- \n",
      "\n",
      "\t\t the algorithm is scoring 44 nontrivial nodes\n",
      "\t\t parameters: \n",
      "\t\t\t test statistic: ks\n",
      "\t\t\t score order: increasing\n",
      "\n",
      "\n",
      "\t Level 7:\t3 nodes to be scored\t(0 eliminated genes)\n",
      "\n",
      "\n",
      "\t Level 6:\t8 nodes to be scored\t(0 eliminated genes)\n",
      "\n",
      "\n",
      "\t Level 5:\t11 nodes to be scored\t(2 eliminated genes)\n",
      "\n",
      "\n",
      "\t Level 4:\t9 nodes to be scored\t(4 eliminated genes)\n",
      "\n",
      "\n",
      "\t Level 3:\t9 nodes to be scored\t(4 eliminated genes)\n",
      "\n",
      "\n",
      "\t Level 2:\t3 nodes to be scored\t(4 eliminated genes)\n",
      "\n",
      "\n",
      "\t Level 1:\t1 nodes to be scored\t(4 eliminated genes)\n",
      "\n"
     ]
    },
    {
     "data": {
      "text/html": [
       "<table class=\"dataframe\">\n",
       "<caption>A data.frame: 10 × 6</caption>\n",
       "<thead>\n",
       "\t<tr><th></th><th scope=col>GO.ID</th><th scope=col>Term</th><th scope=col>Annotated</th><th scope=col>Significant</th><th scope=col>Expected</th><th scope=col>raw.p.value</th></tr>\n",
       "\t<tr><th></th><th scope=col>&lt;chr&gt;</th><th scope=col>&lt;chr&gt;</th><th scope=col>&lt;int&gt;</th><th scope=col>&lt;int&gt;</th><th scope=col>&lt;dbl&gt;</th><th scope=col>&lt;chr&gt;</th></tr>\n",
       "</thead>\n",
       "<tbody>\n",
       "\t<tr><th scope=row>1</th><td>GO:0015031</td><td>protein transport                      </td><td>1</td><td>1</td><td>0.75</td><td>0.25</td></tr>\n",
       "\t<tr><th scope=row>2</th><td>GO:0042147</td><td>retrograde transport, endosome to Golgi</td><td>1</td><td>1</td><td>0.75</td><td>0.25</td></tr>\n",
       "\t<tr><th scope=row>3</th><td>GO:0006869</td><td>lipid transport                        </td><td>1</td><td>1</td><td>0.75</td><td>0.25</td></tr>\n",
       "\t<tr><th scope=row>4</th><td>GO:0007030</td><td>Golgi organization                     </td><td>1</td><td>1</td><td>0.75</td><td>0.25</td></tr>\n",
       "\t<tr><th scope=row>5</th><td>GO:0016310</td><td>phosphorylation                        </td><td>1</td><td>1</td><td>0.75</td><td>0.50</td></tr>\n",
       "\t<tr><th scope=row>6</th><td>GO:0006915</td><td>apoptotic process                      </td><td>1</td><td>1</td><td>0.75</td><td>0.75</td></tr>\n",
       "\t<tr><th scope=row>7</th><td>GO:0006325</td><td>chromatin organization                 </td><td>1</td><td>1</td><td>0.75</td><td>0.75</td></tr>\n",
       "\t<tr><th scope=row>8</th><td>GO:0043170</td><td>macromolecule metabolic process        </td><td>1</td><td>0</td><td>0.75</td><td>1.00</td></tr>\n",
       "\t<tr><th scope=row>9</th><td>GO:0010876</td><td>lipid localization                     </td><td>1</td><td>1</td><td>0.75</td><td>1.00</td></tr>\n",
       "\t<tr><th scope=row>10</th><td>GO:0071702</td><td>organic substance transport            </td><td>1</td><td>1</td><td>0.75</td><td>1.00</td></tr>\n",
       "</tbody>\n",
       "</table>\n"
      ],
      "text/latex": [
       "A data.frame: 10 × 6\n",
       "\\begin{tabular}{r|llllll}\n",
       "  & GO.ID & Term & Annotated & Significant & Expected & raw.p.value\\\\\n",
       "  & <chr> & <chr> & <int> & <int> & <dbl> & <chr>\\\\\n",
       "\\hline\n",
       "\t1 & GO:0015031 & protein transport                       & 1 & 1 & 0.75 & 0.25\\\\\n",
       "\t2 & GO:0042147 & retrograde transport, endosome to Golgi & 1 & 1 & 0.75 & 0.25\\\\\n",
       "\t3 & GO:0006869 & lipid transport                         & 1 & 1 & 0.75 & 0.25\\\\\n",
       "\t4 & GO:0007030 & Golgi organization                      & 1 & 1 & 0.75 & 0.25\\\\\n",
       "\t5 & GO:0016310 & phosphorylation                         & 1 & 1 & 0.75 & 0.50\\\\\n",
       "\t6 & GO:0006915 & apoptotic process                       & 1 & 1 & 0.75 & 0.75\\\\\n",
       "\t7 & GO:0006325 & chromatin organization                  & 1 & 1 & 0.75 & 0.75\\\\\n",
       "\t8 & GO:0043170 & macromolecule metabolic process         & 1 & 0 & 0.75 & 1.00\\\\\n",
       "\t9 & GO:0010876 & lipid localization                      & 1 & 1 & 0.75 & 1.00\\\\\n",
       "\t10 & GO:0071702 & organic substance transport             & 1 & 1 & 0.75 & 1.00\\\\\n",
       "\\end{tabular}\n"
      ],
      "text/markdown": [
       "\n",
       "A data.frame: 10 × 6\n",
       "\n",
       "| <!--/--> | GO.ID &lt;chr&gt; | Term &lt;chr&gt; | Annotated &lt;int&gt; | Significant &lt;int&gt; | Expected &lt;dbl&gt; | raw.p.value &lt;chr&gt; |\n",
       "|---|---|---|---|---|---|---|\n",
       "| 1 | GO:0015031 | protein transport                       | 1 | 1 | 0.75 | 0.25 |\n",
       "| 2 | GO:0042147 | retrograde transport, endosome to Golgi | 1 | 1 | 0.75 | 0.25 |\n",
       "| 3 | GO:0006869 | lipid transport                         | 1 | 1 | 0.75 | 0.25 |\n",
       "| 4 | GO:0007030 | Golgi organization                      | 1 | 1 | 0.75 | 0.25 |\n",
       "| 5 | GO:0016310 | phosphorylation                         | 1 | 1 | 0.75 | 0.50 |\n",
       "| 6 | GO:0006915 | apoptotic process                       | 1 | 1 | 0.75 | 0.75 |\n",
       "| 7 | GO:0006325 | chromatin organization                  | 1 | 1 | 0.75 | 0.75 |\n",
       "| 8 | GO:0043170 | macromolecule metabolic process         | 1 | 0 | 0.75 | 1.00 |\n",
       "| 9 | GO:0010876 | lipid localization                      | 1 | 1 | 0.75 | 1.00 |\n",
       "| 10 | GO:0071702 | organic substance transport             | 1 | 1 | 0.75 | 1.00 |\n",
       "\n"
      ],
      "text/plain": [
       "   GO.ID      Term                                    Annotated Significant\n",
       "1  GO:0015031 protein transport                       1         1          \n",
       "2  GO:0042147 retrograde transport, endosome to Golgi 1         1          \n",
       "3  GO:0006869 lipid transport                         1         1          \n",
       "4  GO:0007030 Golgi organization                      1         1          \n",
       "5  GO:0016310 phosphorylation                         1         1          \n",
       "6  GO:0006915 apoptotic process                       1         1          \n",
       "7  GO:0006325 chromatin organization                  1         1          \n",
       "8  GO:0043170 macromolecule metabolic process         1         0          \n",
       "9  GO:0010876 lipid localization                      1         1          \n",
       "10 GO:0071702 organic substance transport             1         1          \n",
       "   Expected raw.p.value\n",
       "1  0.75     0.25       \n",
       "2  0.75     0.25       \n",
       "3  0.75     0.25       \n",
       "4  0.75     0.25       \n",
       "5  0.75     0.50       \n",
       "6  0.75     0.75       \n",
       "7  0.75     0.75       \n",
       "8  0.75     1.00       \n",
       "9  0.75     1.00       \n",
       "10 0.75     1.00       "
      ]
     },
     "metadata": {},
     "output_type": "display_data"
    }
   ],
   "source": [
    "# KS stat\n",
    "resultKS_BP <- runTest(GOdata_BP, algorithm = \"weight01\", statistic = \"ks\")\n",
    "\n",
    "# putting result into readable table\n",
    "tab_BP <- GenTable(GOdata_BP, raw.p.value = resultKS_BP, topNodes = length(resultKS_BP@score), numChar = 120)\n",
    "\n",
    "# showing top 10 GO term results\n",
    "head(tab_BP, 10)"
   ]
  },
  {
   "cell_type": "markdown",
   "id": "48c6f174-40db-493c-bdbf-5925ecaf3338",
   "metadata": {},
   "source": [
    "## Gene Set Enrichment Analysis with clusterProfiler\n",
    "looking for enriched KEGG pathways with a ranked gene list"
   ]
  },
  {
   "cell_type": "code",
   "execution_count": 15,
   "id": "daadf74a-cdf8-46ba-ba72-baaa1eeed37b",
   "metadata": {},
   "outputs": [
    {
     "data": {
      "text/html": [
       "<table class=\"dataframe\">\n",
       "<caption>A data.frame: 6 × 2</caption>\n",
       "<thead>\n",
       "\t<tr><th></th><th scope=col>gene</th><th scope=col>l2fc</th></tr>\n",
       "\t<tr><th></th><th scope=col>&lt;chr&gt;</th><th scope=col>&lt;dbl&gt;</th></tr>\n",
       "</thead>\n",
       "<tbody>\n",
       "\t<tr><th scope=row>1</th><td>LOC111100393</td><td> 0.6624208</td></tr>\n",
       "\t<tr><th scope=row>2</th><td>LOC111105858</td><td>-0.5596059</td></tr>\n",
       "\t<tr><th scope=row>3</th><td>LOC111106800</td><td>-1.0316182</td></tr>\n",
       "\t<tr><th scope=row>4</th><td>LOC111113273</td><td>-0.8104052</td></tr>\n",
       "\t<tr><th scope=row>5</th><td>LOC111113309</td><td> 0.6891998</td></tr>\n",
       "\t<tr><th scope=row>6</th><td>LOC111117059</td><td>-1.2192004</td></tr>\n",
       "</tbody>\n",
       "</table>\n"
      ],
      "text/latex": [
       "A data.frame: 6 × 2\n",
       "\\begin{tabular}{r|ll}\n",
       "  & gene & l2fc\\\\\n",
       "  & <chr> & <dbl>\\\\\n",
       "\\hline\n",
       "\t1 & LOC111100393 &  0.6624208\\\\\n",
       "\t2 & LOC111105858 & -0.5596059\\\\\n",
       "\t3 & LOC111106800 & -1.0316182\\\\\n",
       "\t4 & LOC111113273 & -0.8104052\\\\\n",
       "\t5 & LOC111113309 &  0.6891998\\\\\n",
       "\t6 & LOC111117059 & -1.2192004\\\\\n",
       "\\end{tabular}\n"
      ],
      "text/markdown": [
       "\n",
       "A data.frame: 6 × 2\n",
       "\n",
       "| <!--/--> | gene &lt;chr&gt; | l2fc &lt;dbl&gt; |\n",
       "|---|---|---|\n",
       "| 1 | LOC111100393 |  0.6624208 |\n",
       "| 2 | LOC111105858 | -0.5596059 |\n",
       "| 3 | LOC111106800 | -1.0316182 |\n",
       "| 4 | LOC111113273 | -0.8104052 |\n",
       "| 5 | LOC111113309 |  0.6891998 |\n",
       "| 6 | LOC111117059 | -1.2192004 |\n",
       "\n"
      ],
      "text/plain": [
       "  gene         l2fc      \n",
       "1 LOC111100393  0.6624208\n",
       "2 LOC111105858 -0.5596059\n",
       "3 LOC111106800 -1.0316182\n",
       "4 LOC111113273 -0.8104052\n",
       "5 LOC111113309  0.6891998\n",
       "6 LOC111117059 -1.2192004"
      ]
     },
     "metadata": {},
     "output_type": "display_data"
    },
    {
     "data": {
      "text/html": [
       "<style>\n",
       ".list-inline {list-style: none; margin:0; padding: 0}\n",
       ".list-inline>li {display: inline-block}\n",
       ".list-inline>li:not(:last-child)::after {content: \"\\00b7\"; padding: 0 .5ex}\n",
       "</style>\n",
       "<ol class=list-inline><li>14</li><li>2</li></ol>\n"
      ],
      "text/latex": [
       "\\begin{enumerate*}\n",
       "\\item 14\n",
       "\\item 2\n",
       "\\end{enumerate*}\n"
      ],
      "text/markdown": [
       "1. 14\n",
       "2. 2\n",
       "\n",
       "\n"
      ],
      "text/plain": [
       "[1] 14  2"
      ]
     },
     "metadata": {},
     "output_type": "display_data"
    }
   ],
   "source": [
    "# already have a df with DMGs and scores - need just gene and l2fc\n",
    "df <- select(data2, gene, l2fc)\n",
    "head(df)\n",
    "dim(df) # 48 genes"
   ]
  },
  {
   "cell_type": "code",
   "execution_count": 16,
   "id": "220b6841-d5b4-4818-8b43-18b8ba19fe6d",
   "metadata": {},
   "outputs": [
    {
     "data": {
      "text/html": [
       "<table class=\"dataframe\">\n",
       "<caption>A data.frame: 6 × 2</caption>\n",
       "<thead>\n",
       "\t<tr><th></th><th scope=col>gene</th><th scope=col>entrez_ID</th></tr>\n",
       "\t<tr><th></th><th scope=col>&lt;chr&gt;</th><th scope=col>&lt;int&gt;</th></tr>\n",
       "</thead>\n",
       "<tbody>\n",
       "\t<tr><th scope=row>1</th><td>LOC111135443</td><td>111135443</td></tr>\n",
       "\t<tr><th scope=row>2</th><td>LOC111129382</td><td>111129382</td></tr>\n",
       "\t<tr><th scope=row>3</th><td>LOC111134678</td><td>111134678</td></tr>\n",
       "\t<tr><th scope=row>4</th><td>LOC111100393</td><td>111100393</td></tr>\n",
       "\t<tr><th scope=row>5</th><td>LOC111129021</td><td>111129021</td></tr>\n",
       "\t<tr><th scope=row>6</th><td>LOC111113309</td><td>111113309</td></tr>\n",
       "</tbody>\n",
       "</table>\n"
      ],
      "text/latex": [
       "A data.frame: 6 × 2\n",
       "\\begin{tabular}{r|ll}\n",
       "  & gene & entrez\\_ID\\\\\n",
       "  & <chr> & <int>\\\\\n",
       "\\hline\n",
       "\t1 & LOC111135443 & 111135443\\\\\n",
       "\t2 & LOC111129382 & 111129382\\\\\n",
       "\t3 & LOC111134678 & 111134678\\\\\n",
       "\t4 & LOC111100393 & 111100393\\\\\n",
       "\t5 & LOC111129021 & 111129021\\\\\n",
       "\t6 & LOC111113309 & 111113309\\\\\n",
       "\\end{tabular}\n"
      ],
      "text/markdown": [
       "\n",
       "A data.frame: 6 × 2\n",
       "\n",
       "| <!--/--> | gene &lt;chr&gt; | entrez_ID &lt;int&gt; |\n",
       "|---|---|---|\n",
       "| 1 | LOC111135443 | 111135443 |\n",
       "| 2 | LOC111129382 | 111129382 |\n",
       "| 3 | LOC111134678 | 111134678 |\n",
       "| 4 | LOC111100393 | 111100393 |\n",
       "| 5 | LOC111129021 | 111129021 |\n",
       "| 6 | LOC111113309 | 111113309 |\n",
       "\n"
      ],
      "text/plain": [
       "  gene         entrez_ID\n",
       "1 LOC111135443 111135443\n",
       "2 LOC111129382 111129382\n",
       "3 LOC111134678 111134678\n",
       "4 LOC111100393 111100393\n",
       "5 LOC111129021 111129021\n",
       "6 LOC111113309 111113309"
      ]
     },
     "metadata": {},
     "output_type": "display_data"
    },
    {
     "data": {
      "text/html": [
       "<style>\n",
       ".list-inline {list-style: none; margin:0; padding: 0}\n",
       ".list-inline>li {display: inline-block}\n",
       ".list-inline>li:not(:last-child)::after {content: \"\\00b7\"; padding: 0 .5ex}\n",
       "</style>\n",
       "<ol class=list-inline><li>14</li><li>2</li></ol>\n"
      ],
      "text/latex": [
       "\\begin{enumerate*}\n",
       "\\item 14\n",
       "\\item 2\n",
       "\\end{enumerate*}\n"
      ],
      "text/markdown": [
       "1. 14\n",
       "2. 2\n",
       "\n",
       "\n"
      ],
      "text/plain": [
       "[1] 14  2"
      ]
     },
     "metadata": {},
     "output_type": "display_data"
    }
   ],
   "source": [
    "# need to have conversion table for gene name to entrez id\n",
    "# obtained from DAVID gene accession conversion tool\n",
    "david_df <- read.csv('/project/pi_sarah_gignouxwolfsohn_uml_edu/julia/CE_MethylRAD_analysis_2018/analysis/KEGG_pathway/p2h_p1hc_DAVID.txt', sep='\\t')\n",
    "# only selecting columns that I need\n",
    "david_df <- select(david_df, From, To)\n",
    "# renaming columns for merge\n",
    "colnames(david_df) = c('gene', 'entrez_ID')\n",
    "head(david_df)\n",
    "dim(david_df)"
   ]
  },
  {
   "cell_type": "code",
   "execution_count": 17,
   "id": "bc88d02b-9be4-452f-9c5f-895966bf518b",
   "metadata": {},
   "outputs": [
    {
     "data": {
      "text/html": [
       "<table class=\"dataframe\">\n",
       "<caption>A data.frame: 6 × 2</caption>\n",
       "<thead>\n",
       "\t<tr><th></th><th scope=col>entrez_ID</th><th scope=col>l2fc</th></tr>\n",
       "\t<tr><th></th><th scope=col>&lt;int&gt;</th><th scope=col>&lt;dbl&gt;</th></tr>\n",
       "</thead>\n",
       "<tbody>\n",
       "\t<tr><th scope=row>1</th><td>111100393</td><td> 0.6624208</td></tr>\n",
       "\t<tr><th scope=row>2</th><td>111105858</td><td>-0.5596059</td></tr>\n",
       "\t<tr><th scope=row>3</th><td>111106800</td><td>-1.0316182</td></tr>\n",
       "\t<tr><th scope=row>4</th><td>111113273</td><td>-0.8104052</td></tr>\n",
       "\t<tr><th scope=row>5</th><td>111113309</td><td> 0.6891998</td></tr>\n",
       "\t<tr><th scope=row>6</th><td>111117059</td><td>-1.2192004</td></tr>\n",
       "</tbody>\n",
       "</table>\n"
      ],
      "text/latex": [
       "A data.frame: 6 × 2\n",
       "\\begin{tabular}{r|ll}\n",
       "  & entrez\\_ID & l2fc\\\\\n",
       "  & <int> & <dbl>\\\\\n",
       "\\hline\n",
       "\t1 & 111100393 &  0.6624208\\\\\n",
       "\t2 & 111105858 & -0.5596059\\\\\n",
       "\t3 & 111106800 & -1.0316182\\\\\n",
       "\t4 & 111113273 & -0.8104052\\\\\n",
       "\t5 & 111113309 &  0.6891998\\\\\n",
       "\t6 & 111117059 & -1.2192004\\\\\n",
       "\\end{tabular}\n"
      ],
      "text/markdown": [
       "\n",
       "A data.frame: 6 × 2\n",
       "\n",
       "| <!--/--> | entrez_ID &lt;int&gt; | l2fc &lt;dbl&gt; |\n",
       "|---|---|---|\n",
       "| 1 | 111100393 |  0.6624208 |\n",
       "| 2 | 111105858 | -0.5596059 |\n",
       "| 3 | 111106800 | -1.0316182 |\n",
       "| 4 | 111113273 | -0.8104052 |\n",
       "| 5 | 111113309 |  0.6891998 |\n",
       "| 6 | 111117059 | -1.2192004 |\n",
       "\n"
      ],
      "text/plain": [
       "  entrez_ID l2fc      \n",
       "1 111100393  0.6624208\n",
       "2 111105858 -0.5596059\n",
       "3 111106800 -1.0316182\n",
       "4 111113273 -0.8104052\n",
       "5 111113309  0.6891998\n",
       "6 111117059 -1.2192004"
      ]
     },
     "metadata": {},
     "output_type": "display_data"
    }
   ],
   "source": [
    "# matching up dataframes so entrez id has a log2FoldChange value\n",
    "merge <- merge(david_df, df, by = 'gene', all=TRUE)\n",
    "\n",
    "# grabbing just the entrez_ID and l2fc value\n",
    "merge_df <- select(merge, entrez_ID, l2fc)\n",
    "head(merge_df)"
   ]
  },
  {
   "cell_type": "code",
   "execution_count": 18,
   "id": "f4c59b94-bb00-42be-8473-b35c4d9e8899",
   "metadata": {},
   "outputs": [
    {
     "data": {
      "text/html": [
       "14"
      ],
      "text/latex": [
       "14"
      ],
      "text/markdown": [
       "14"
      ],
      "text/plain": [
       "[1] 14"
      ]
     },
     "metadata": {},
     "output_type": "display_data"
    },
    {
     "data": {
      "text/html": [
       "14"
      ],
      "text/latex": [
       "14"
      ],
      "text/markdown": [
       "14"
      ],
      "text/plain": [
       "[1] 14"
      ]
     },
     "metadata": {},
     "output_type": "display_data"
    }
   ],
   "source": [
    "# checking that there's only unique genes\n",
    "length(unique(merge_df$entrez_ID))\n",
    "length(merge_df$entrez_ID)\n",
    "# both have 111, so all good there"
   ]
  },
  {
   "cell_type": "code",
   "execution_count": 22,
   "id": "18ef7506-fd15-41fd-9a25-70a4e889c9a9",
   "metadata": {},
   "outputs": [
    {
     "data": {
      "text/html": [
       "<style>\n",
       ".dl-inline {width: auto; margin:0; padding: 0}\n",
       ".dl-inline>dt, .dl-inline>dd {float: none; width: auto; display: inline-block}\n",
       ".dl-inline>dt::after {content: \":\\0020\"; padding-right: .5ex}\n",
       ".dl-inline>dt:not(:first-of-type) {padding-left: .5ex}\n",
       "</style><dl class=dl-inline><dt>111113309</dt><dd>0.689199815806653</dd><dt>111100393</dt><dd>0.662420826394975</dd><dt>111105858</dt><dd>-0.559605852678382</dd><dt>111129021</dt><dd>-0.709593544395726</dd><dt>111124218</dt><dd>-0.73013693266068</dd><dt>111122649</dt><dd>-0.744897159512142</dd></dl>\n"
      ],
      "text/latex": [
       "\\begin{description*}\n",
       "\\item[111113309] 0.689199815806653\n",
       "\\item[111100393] 0.662420826394975\n",
       "\\item[111105858] -0.559605852678382\n",
       "\\item[111129021] -0.709593544395726\n",
       "\\item[111124218] -0.73013693266068\n",
       "\\item[111122649] -0.744897159512142\n",
       "\\end{description*}\n"
      ],
      "text/markdown": [
       "111113309\n",
       ":   0.689199815806653111100393\n",
       ":   0.662420826394975111105858\n",
       ":   -0.559605852678382111129021\n",
       ":   -0.709593544395726111124218\n",
       ":   -0.73013693266068111122649\n",
       ":   -0.744897159512142\n",
       "\n"
      ],
      "text/plain": [
       " 111113309  111100393  111105858  111129021  111124218  111122649 \n",
       " 0.6891998  0.6624208 -0.5596059 -0.7095935 -0.7301369 -0.7448972 "
      ]
     },
     "metadata": {},
     "output_type": "display_data"
    },
    {
     "data": {
      "text/html": [
       "'numeric'"
      ],
      "text/latex": [
       "'numeric'"
      ],
      "text/markdown": [
       "'numeric'"
      ],
      "text/plain": [
       "[1] \"numeric\""
      ]
     },
     "metadata": {},
     "output_type": "display_data"
    },
    {
     "data": {
      "text/html": [
       "14"
      ],
      "text/latex": [
       "14"
      ],
      "text/markdown": [
       "14"
      ],
      "text/plain": [
       "[1] 14"
      ]
     },
     "metadata": {},
     "output_type": "display_data"
    }
   ],
   "source": [
    "# Create a vector of the gene unuiverse\n",
    "kegg_gene_list <- merge_df$l2fc\n",
    "\n",
    "# Name vector with ENTREZ ids\n",
    "names(kegg_gene_list) <- merge_df$entrez_ID\n",
    "\n",
    "# omit any NA values \n",
    "kegg_gene_list<-na.omit(kegg_gene_list)\n",
    "\n",
    "# sort the list in decreasing order (required for clusterProfiler)\n",
    "kegg_gene_list = sort(kegg_gene_list, decreasing = TRUE)\n",
    "\n",
    "head(kegg_gene_list)\n",
    "class(kegg_gene_list) # numeric\n",
    "length(kegg_gene_list) # 111 genes"
   ]
  },
  {
   "cell_type": "code",
   "execution_count": 23,
   "id": "5af9066c-1cb9-4ba5-b133-e4b6e82cd314",
   "metadata": {},
   "outputs": [
    {
     "name": "stderr",
     "output_type": "stream",
     "text": [
      "preparing geneSet collections...\n",
      "\n",
      "--> Expected input gene ID: 111123515,111123467,111105314,111133902,111112920,111103956\n",
      "\n"
     ]
    },
    {
     "ename": "ERROR",
     "evalue": "Error in check_gene_id(geneList, geneSets): --> No gene can be mapped....\n",
     "output_type": "error",
     "traceback": [
      "Error in check_gene_id(geneList, geneSets): --> No gene can be mapped....\nTraceback:\n",
      "1. gseKEGG(geneList = kegg_gene_list, organism = kegg_organism, \n .     nPerm = 10000, minGSSize = 1, maxGSSize = 800, pvalueCutoff = 1, \n .     pAdjustMethod = \"BH\", scoreType = \"pos\", keyType = \"kegg\")",
      "2. GSEA_internal(geneList = geneList, exponent = exponent, minGSSize = minGSSize, \n .     maxGSSize = maxGSSize, eps = eps, pvalueCutoff = pvalueCutoff, \n .     pAdjustMethod = pAdjustMethod, verbose = verbose, USER_DATA = KEGG_DATA, \n .     seed = seed, by = by, ...)",
      "3. .GSEA(geneList = geneList, exponent = exponent, minGSSize = minGSSize, \n .     maxGSSize = maxGSSize, eps = eps, pvalueCutoff = pvalueCutoff, \n .     pAdjustMethod = pAdjustMethod, verbose = verbose, seed = seed, \n .     USER_DATA = USER_DATA, ...)",
      "4. check_gene_id(geneList, geneSets)",
      "5. stop(\"--> No gene can be mapped....\")"
     ]
    }
   ],
   "source": [
    "kegg_organism = \"cvn\"\n",
    "kk2 <- gseKEGG(geneList     = kegg_gene_list,\n",
    "               organism     = kegg_organism,\n",
    "               nPerm        = 10000,\n",
    "               minGSSize    = 1,\n",
    "               maxGSSize    = 800,\n",
    "               pvalueCutoff = 1, # if this is set to 1, see more pathways, but 0.05 is statistically signif.\n",
    "               pAdjustMethod = \"BH\", # Benjamini–Hochberg FDR (false discover rate)\n",
    "               scoreType = \"pos\",\n",
    "               keyType       = \"kegg\")"
   ]
  },
  {
   "cell_type": "code",
   "execution_count": 21,
   "id": "6c40f477-8699-419c-9e0a-b672c6eec4b9",
   "metadata": {},
   "outputs": [
    {
     "ename": "ERROR",
     "evalue": "Error in h(simpleError(msg, call)): error in evaluating the argument 'x' in selecting a method for function 'as.data.frame': object 'kk2' not found\n",
     "output_type": "error",
     "traceback": [
      "Error in h(simpleError(msg, call)): error in evaluating the argument 'x' in selecting a method for function 'as.data.frame': object 'kk2' not found\nTraceback:\n",
      "1. as.data.frame(kk2)",
      "2. .handleSimpleError(function (cond) \n . .Internal(C_tryCatchHelper(addr, 1L, cond)), \"object 'kk2' not found\", \n .     base::quote(eval(expr, envir, enclos)))",
      "3. h(simpleError(msg, call))"
     ]
    }
   ],
   "source": [
    "kk2_df <- as.data.frame(kk2)\n",
    "kk2_df$Description <- sub(\" -.*\", \"\", kk2_df$Description)\n",
    "head(kk2_df) # actually shows the entire df since there's only 5 pathways with pval<0.05"
   ]
  }
 ],
 "metadata": {
  "kernelspec": {
   "display_name": "R [conda env:.conda-r-env]",
   "language": "R",
   "name": "conda-env-.conda-r-env-r"
  },
  "language_info": {
   "codemirror_mode": "r",
   "file_extension": ".r",
   "mimetype": "text/x-r-source",
   "name": "R",
   "pygments_lexer": "r",
   "version": "4.3.2"
  }
 },
 "nbformat": 4,
 "nbformat_minor": 5
}
