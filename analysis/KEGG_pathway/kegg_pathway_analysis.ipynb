{
 "cells": [
  {
   "cell_type": "code",
   "execution_count": 5,
   "id": "8b0343bd-d532-4969-b55b-1db1a2eb903f",
   "metadata": {},
   "outputs": [
    {
     "name": "stderr",
     "output_type": "stream",
     "text": [
      "'getOption(\"repos\")' replaces Bioconductor standard repositories, see\n",
      "'help(\"repositories\", package = \"BiocManager\")' for details.\n",
      "Replacement repositories:\n",
      "    CRAN: https://cran.r-project.org\n",
      "\n",
      "Bioconductor version 3.18 (BiocManager 1.30.22), R 4.3.2 (2023-10-31)\n",
      "\n",
      "Installing package(s) 'limma'\n",
      "\n",
      "also installing the dependency ‘statmod’\n",
      "\n",
      "\n",
      "Updating HTML index of packages in '.Library'\n",
      "\n",
      "Making 'packages.html' ...\n",
      " done\n",
      "\n",
      "Old packages: 'BH', 'brew', 'brio', 'bslib', 'cowplot', 'curl', 'data.table',\n",
      "  'DBI', 'desc', 'digest', 'GenomicAlignments', 'ggfun', 'ggrepel', 'glue',\n",
      "  'GOSemSim', 'graphlayouts', 'haven', 'htmlwidgets', 'httpuv', 'MASS',\n",
      "  'Matrix', 'mgcv', 'nlme', 'patchwork', 'pbdZMQ', 'pkgbuild', 'pkgload', 'ps',\n",
      "  'ragg', 'Rcpp', 'RcppArmadillo', 'RCurl', 'readr', 'reprex', 'Rhtslib',\n",
      "  'rlang', 'RSQLite', 'scales', 'shadowtext', 'shiny', 'SparseArray',\n",
      "  'testthat', 'tidyr', 'timechange', 'uuid', 'vroom', 'withr', 'XML', 'xml2',\n",
      "  'yulab.utils'\n",
      "\n"
     ]
    }
   ],
   "source": [
    "BiocManager::install(\"limma\")\n",
    "library(limma)"
   ]
  },
  {
   "cell_type": "code",
   "execution_count": null,
   "id": "e1985318-9263-496f-a665-b18e53402af2",
   "metadata": {},
   "outputs": [],
   "source": [
    "k <- kegga(fit, species=\"Hs\")\n",
    "k <- kegga(fit, species.KEGG=\"hsa\") # equivalent to previous\n",
    "topKEGG(k, sort = \"up\")\n",
    "topKEGG(k, sort = \"down\")"
   ]
  },
  {
   "cell_type": "markdown",
   "id": "b0d94833-35bf-40f8-94c4-d7d2a9b2e3d0",
   "metadata": {},
   "source": [
    "## Building a KEGG Pathway Map\n",
    "\n",
    "following steps from [here](https://genomicsaotearoa.github.io/metagenomics_summer_school/day4/ex16d_data_presentation_KEGG_pathways/)\n",
    "\n",
    "[pathview package vignette](https://pathview.r-forge.r-project.org/pathview.pdf)\n"
   ]
  },
  {
   "cell_type": "code",
   "execution_count": 2,
   "id": "892efa30-442e-4358-abad-84794146065e",
   "metadata": {},
   "outputs": [
    {
     "name": "stderr",
     "output_type": "stream",
     "text": [
      "'getOption(\"repos\")' replaces Bioconductor standard repositories, see\n",
      "'help(\"repositories\", package = \"BiocManager\")' for details.\n",
      "Replacement repositories:\n",
      "    CRAN: https://cran.r-project.org\n",
      "\n",
      "Bioconductor version 3.18 (BiocManager 1.30.22), R 4.3.2 (2023-10-31)\n",
      "\n",
      "Warning message:\n",
      "“package(s) not installed when version(s) same as or greater than current; use\n",
      "  `force = TRUE` to re-install: 'pathview'”\n",
      "Old packages: 'BH', 'brew', 'brio', 'bslib', 'cowplot', 'curl', 'data.table',\n",
      "  'DBI', 'desc', 'digest', 'GenomicAlignments', 'ggfun', 'ggrepel', 'glue',\n",
      "  'GOSemSim', 'graphlayouts', 'haven', 'htmlwidgets', 'httpuv', 'MASS',\n",
      "  'Matrix', 'mgcv', 'nlme', 'patchwork', 'pbdZMQ', 'pkgbuild', 'pkgload', 'ps',\n",
      "  'ragg', 'Rcpp', 'RcppArmadillo', 'RCurl', 'readr', 'reprex', 'Rhtslib',\n",
      "  'rlang', 'RSQLite', 'scales', 'shadowtext', 'shiny', 'SparseArray',\n",
      "  'testthat', 'tidyr', 'timechange', 'uuid', 'vroom', 'withr', 'XML', 'xml2',\n",
      "  'yulab.utils'\n",
      "\n",
      "\n",
      "\n",
      "##############################################################################\n",
      "Pathview is an open source software package distributed under GNU General\n",
      "Public License version 3 (GPLv3). Details of GPLv3 is available at\n",
      "http://www.gnu.org/licenses/gpl-3.0.html. Particullary, users are required to\n",
      "formally cite the original Pathview paper (not just mention it) in publications\n",
      "or products. For details, do citation(\"pathview\") within R.\n",
      "\n",
      "The pathview downloads and uses KEGG data. Non-academic uses may require a KEGG\n",
      "license agreement (details at http://www.kegg.jp/kegg/legal.html).\n",
      "##############################################################################\n",
      "\n"
     ]
    }
   ],
   "source": [
    "# installing pathview\n",
    "BiocManager::install(\"pathview\")\n",
    "library(pathview)"
   ]
  },
  {
   "cell_type": "code",
   "execution_count": 4,
   "id": "abcd74d0-99b4-41d6-8f83-86c604eb6615",
   "metadata": {},
   "outputs": [
    {
     "name": "stderr",
     "output_type": "stream",
     "text": [
      "Loading required package: viridisLite\n",
      "\n"
     ]
    }
   ],
   "source": [
    "# installing other packages needed for analysis\n",
    "\n",
    "# tidyverse packages\n",
    "library(dplyr)\n",
    "library(purrr)\n",
    "library(tidyr)\n",
    "library(readr)\n",
    "library(stringr)\n",
    "library(tibble)\n",
    "\n",
    "# color package\n",
    "library(viridis)\n",
    "\n",
    "# KEGG maps\n",
    "library(KEGGREST)"
   ]
  },
  {
   "cell_type": "code",
   "execution_count": 5,
   "id": "0f01cd89-0d0c-4c6c-9b98-95ee59db5c3e",
   "metadata": {},
   "outputs": [
    {
     "name": "stderr",
     "output_type": "stream",
     "text": [
      "Info: Downloading xml files for hsa04110, 1/1 pathways..\n",
      "\n",
      "Info: Downloading png files for hsa04110, 1/1 pathways..\n",
      "\n",
      "'select()' returned 1:1 mapping between keys and columns\n",
      "\n",
      "Info: Working in directory /project/pi_sarah_gignouxwolfsohn_uml_edu/julia/CE_MethylRAD_analysis_2018/CE_methyl_analysis/KEGG_pathway\n",
      "\n",
      "Info: Writing image file hsa04110.gse16873.png\n",
      "\n"
     ]
    }
   ],
   "source": [
    "# quick start with example data\n",
    "library(pathview)\n",
    "data(gse16873.d)\n",
    "pv.out <- pathview(gene.data = gse16873.d[, 1], pathway.id = \"04110\", species = \"hsa\", out.suffix = \"gse16873\")"
   ]
  },
  {
   "cell_type": "code",
   "execution_count": 6,
   "id": "39de21f6-d32e-4438-97bc-92eafd8123ea",
   "metadata": {},
   "outputs": [
    {
     "data": {
      "text/plain": [
       "Documentation for package ‘pathview’\n",
       "\n",
       "\n",
       "\t\tInformation on package ‘pathview’\n",
       "\n",
       "Description:\n",
       "\n",
       "Package:                pathview\n",
       "Type:                   Package\n",
       "Title:                  a tool set for pathway based data integration\n",
       "                        and visualization\n",
       "Version:                1.42.0\n",
       "Date:                   2021-08-26\n",
       "Author:                 Weijun Luo\n",
       "Maintainer:             Weijun Luo <luo_weijun@yahoo.com>\n",
       "Description:            Pathview is a tool set for pathway based data\n",
       "                        integration and visualization. It maps and\n",
       "                        renders a wide variety of biological data on\n",
       "                        relevant pathway graphs. All users need is to\n",
       "                        supply their data and specify the target\n",
       "                        pathway. Pathview automatically downloads the\n",
       "                        pathway graph data, parses the data file, maps\n",
       "                        user data to the pathway, and render pathway\n",
       "                        graph with the mapped data. In addition,\n",
       "                        Pathview also seamlessly integrates with\n",
       "                        pathway and gene set (enrichment) analysis\n",
       "                        tools for large-scale and fully automated\n",
       "                        analysis.\n",
       "biocViews:              Pathways, GraphAndNetwork, Visualization,\n",
       "                        GeneSetEnrichment, DifferentialExpression,\n",
       "                        GeneExpression, Microarray, RNASeq, Genetics,\n",
       "                        Metabolomics, Proteomics, SystemsBiology,\n",
       "                        Sequencing\n",
       "Depends:                R (>= 3.5.0)\n",
       "Imports:                KEGGgraph, XML, Rgraphviz, graph, png,\n",
       "                        AnnotationDbi, org.Hs.eg.db, KEGGREST, methods,\n",
       "                        utils\n",
       "Suggests:               gage, org.Mm.eg.db, RUnit, BiocGenerics\n",
       "License:                GPL (>=3.0)\n",
       "URL:                    https://github.com/datapplab/pathview,\n",
       "                        https://pathview.uncc.edu/\n",
       "LazyLoad:               yes\n",
       "LazyData:               yes\n",
       "git_url:                https://git.bioconductor.org/packages/pathview\n",
       "git_branch:             RELEASE_3_18\n",
       "git_last_commit:        875d8f8\n",
       "git_last_commit_date:   2023-10-24\n",
       "Date/Publication:       2023-10-24\n",
       "NeedsCompilation:       no\n",
       "Packaged:               2023-10-24 22:25:28 UTC; biocbuild\n",
       "Built:                  R 4.3.2; ; 2024-01-25 15:33:53 UTC; unix\n",
       "\n",
       "Index:\n",
       "\n",
       "combineKEGGnodes        Special treatment of nodes or edges for KEGG\n",
       "                        pathway rendering\n",
       "cpd.accs                Mapping data between compound or gene IDs and\n",
       "                        KEGG accessions\n",
       "cpdidmap                Mapping between compound IDs and KEGG\n",
       "                        accessions\n",
       "demo.paths              Data for demo purpose\n",
       "download.kegg           Download KEGG pathway graphs and associated\n",
       "                        KGML data\n",
       "eg2id                   Mapping between different gene ID and\n",
       "                        annotation types\n",
       "kegg.species.code       Mapping species name to KEGG code\n",
       "korg                    Mapping data on KEGG species code and\n",
       "                        corresponding Bioconductor gene annotation\n",
       "                        package\n",
       "mol.sum                 Mapping and summation of molecular data onto\n",
       "                        standard IDs\n",
       "node.color              Code molecular data as pseudo colors on the\n",
       "                        pathway graph\n",
       "node.info               Extract node information from KEGG pathway\n",
       "node.map                Map molecular data onto KEGG pathway nodes\n",
       "pathview                Pathway based data integration and\n",
       "                        visualization\n",
       "pathview-package        Pathway based data integration and\n",
       "                        visualization\n",
       "sim.mol.data            Simulate molecular data for pathview experiment\n",
       "wordwrap                Wrap or break strings into lines of specified\n",
       "                        width\n",
       "\n",
       "Further information is available in the following vignettes in\n",
       "directory\n",
       "‘/home/julia_mcdonough_student_uml_edu/.conda/envs/r-env/lib/R/library/pathview/doc’:\n",
       "\n",
       "pathview: Pathview: pathway based data integration and visualization\n",
       "        (source, pdf)"
      ]
     },
     "metadata": {},
     "output_type": "display_data"
    }
   ],
   "source": [
    "library(help=pathview)"
   ]
  },
  {
   "cell_type": "code",
   "execution_count": 21,
   "id": "97138b56-183c-4ea6-a01c-f7833573424c",
   "metadata": {},
   "outputs": [
    {
     "data": {
      "text/html": [
       "<table class=\"dataframe\">\n",
       "<caption>A matrix: 6 × 10 of type chr</caption>\n",
       "<thead>\n",
       "\t<tr><th scope=col>ktax.id</th><th scope=col>tax.id</th><th scope=col>kegg.code</th><th scope=col>scientific.name</th><th scope=col>common.name</th><th scope=col>entrez.gnodes</th><th scope=col>kegg.geneid</th><th scope=col>ncbi.geneid</th><th scope=col>ncbi.proteinid</th><th scope=col>uniprot</th></tr>\n",
       "</thead>\n",
       "<tbody>\n",
       "\t<tr><td>T01001</td><td>9606 </td><td>hsa</td><td>Homo sapiens           </td><td>human                        </td><td>1</td><td>353      </td><td>353      </td><td>NP_000476   </td><td>P07741    </td></tr>\n",
       "\t<tr><td>T01005</td><td>9598 </td><td>ptr</td><td>Pan troglodytes        </td><td>chimpanzee                   </td><td>1</td><td>101059613</td><td>101059613</td><td>XP_003952370</td><td>H2RE07    </td></tr>\n",
       "\t<tr><td>T02283</td><td>9597 </td><td>pps</td><td>Pan paniscus           </td><td>bonobo                       </td><td>1</td><td>100985560</td><td>100985560</td><td>XP_003817035</td><td>A0A2R9CEE2</td></tr>\n",
       "\t<tr><td>T02442</td><td>9593 </td><td>ggo</td><td>Gorilla gorilla gorilla</td><td>western lowland gorilla      </td><td>1</td><td>109023675</td><td>109023675</td><td>XP_018867613</td><td>G3QVP9    </td></tr>\n",
       "\t<tr><td>T01416</td><td>9601 </td><td>pon</td><td>Pongo abelii           </td><td>Sumatran orangutan           </td><td>1</td><td>100446315</td><td>100446315</td><td>XP_002815139</td><td>A0A2J8XPU0</td></tr>\n",
       "\t<tr><td>T03265</td><td>61853</td><td>nle</td><td>Nomascus leucogenys    </td><td>northern white-cheeked gibbon</td><td>1</td><td>100584339</td><td>100584339</td><td>XP_003259252</td><td>G1RGC0    </td></tr>\n",
       "</tbody>\n",
       "</table>\n"
      ],
      "text/latex": [
       "A matrix: 6 × 10 of type chr\n",
       "\\begin{tabular}{llllllllll}\n",
       " ktax.id & tax.id & kegg.code & scientific.name & common.name & entrez.gnodes & kegg.geneid & ncbi.geneid & ncbi.proteinid & uniprot\\\\\n",
       "\\hline\n",
       "\t T01001 & 9606  & hsa & Homo sapiens            & human                         & 1 & 353       & 353       & NP\\_000476    & P07741    \\\\\n",
       "\t T01005 & 9598  & ptr & Pan troglodytes         & chimpanzee                    & 1 & 101059613 & 101059613 & XP\\_003952370 & H2RE07    \\\\\n",
       "\t T02283 & 9597  & pps & Pan paniscus            & bonobo                        & 1 & 100985560 & 100985560 & XP\\_003817035 & A0A2R9CEE2\\\\\n",
       "\t T02442 & 9593  & ggo & Gorilla gorilla gorilla & western lowland gorilla       & 1 & 109023675 & 109023675 & XP\\_018867613 & G3QVP9    \\\\\n",
       "\t T01416 & 9601  & pon & Pongo abelii            & Sumatran orangutan            & 1 & 100446315 & 100446315 & XP\\_002815139 & A0A2J8XPU0\\\\\n",
       "\t T03265 & 61853 & nle & Nomascus leucogenys     & northern white-cheeked gibbon & 1 & 100584339 & 100584339 & XP\\_003259252 & G1RGC0    \\\\\n",
       "\\end{tabular}\n"
      ],
      "text/markdown": [
       "\n",
       "A matrix: 6 × 10 of type chr\n",
       "\n",
       "| ktax.id | tax.id | kegg.code | scientific.name | common.name | entrez.gnodes | kegg.geneid | ncbi.geneid | ncbi.proteinid | uniprot |\n",
       "|---|---|---|---|---|---|---|---|---|---|\n",
       "| T01001 | 9606  | hsa | Homo sapiens            | human                         | 1 | 353       | 353       | NP_000476    | P07741     |\n",
       "| T01005 | 9598  | ptr | Pan troglodytes         | chimpanzee                    | 1 | 101059613 | 101059613 | XP_003952370 | H2RE07     |\n",
       "| T02283 | 9597  | pps | Pan paniscus            | bonobo                        | 1 | 100985560 | 100985560 | XP_003817035 | A0A2R9CEE2 |\n",
       "| T02442 | 9593  | ggo | Gorilla gorilla gorilla | western lowland gorilla       | 1 | 109023675 | 109023675 | XP_018867613 | G3QVP9     |\n",
       "| T01416 | 9601  | pon | Pongo abelii            | Sumatran orangutan            | 1 | 100446315 | 100446315 | XP_002815139 | A0A2J8XPU0 |\n",
       "| T03265 | 61853 | nle | Nomascus leucogenys     | northern white-cheeked gibbon | 1 | 100584339 | 100584339 | XP_003259252 | G1RGC0     |\n",
       "\n"
      ],
      "text/plain": [
       "     ktax.id tax.id kegg.code scientific.name        \n",
       "[1,] T01001  9606   hsa       Homo sapiens           \n",
       "[2,] T01005  9598   ptr       Pan troglodytes        \n",
       "[3,] T02283  9597   pps       Pan paniscus           \n",
       "[4,] T02442  9593   ggo       Gorilla gorilla gorilla\n",
       "[5,] T01416  9601   pon       Pongo abelii           \n",
       "[6,] T03265  61853  nle       Nomascus leucogenys    \n",
       "     common.name                   entrez.gnodes kegg.geneid ncbi.geneid\n",
       "[1,] human                         1             353         353        \n",
       "[2,] chimpanzee                    1             101059613   101059613  \n",
       "[3,] bonobo                        1             100985560   100985560  \n",
       "[4,] western lowland gorilla       1             109023675   109023675  \n",
       "[5,] Sumatran orangutan            1             100446315   100446315  \n",
       "[6,] northern white-cheeked gibbon 1             100584339   100584339  \n",
       "     ncbi.proteinid uniprot   \n",
       "[1,] NP_000476      P07741    \n",
       "[2,] XP_003952370   H2RE07    \n",
       "[3,] XP_003817035   A0A2R9CEE2\n",
       "[4,] XP_018867613   G3QVP9    \n",
       "[5,] XP_002815139   A0A2J8XPU0\n",
       "[6,] XP_003259252   G1RGC0    "
      ]
     },
     "metadata": {},
     "output_type": "display_data"
    },
    {
     "ename": "ERROR",
     "evalue": "Error in eval(expr, envir, enclos): object 'scientific.name' not found\n",
     "output_type": "error",
     "traceback": [
      "Error in eval(expr, envir, enclos): object 'scientific.name' not found\nTraceback:\n"
     ]
    }
   ],
   "source": [
    "data(korg)\n",
    "head(korg)\n",
    "\n",
    "korg[,scientific.name]"
   ]
  },
  {
   "cell_type": "code",
   "execution_count": 25,
   "id": "d7c1a17f-46b9-4278-bbf0-5d664a17508b",
   "metadata": {},
   "outputs": [],
   "source": [
    "write.csv(korg, '/project/pi_sarah_gignouxwolfsohn_uml_edu/julia/CE_MethylRAD_analysis_2018/CE_methyl_analysis/KEGG_pathway/korg')"
   ]
  },
  {
   "cell_type": "code",
   "execution_count": 22,
   "id": "e2eca7e2-eba0-4bab-bfd4-ed940d19315d",
   "metadata": {},
   "outputs": [
    {
     "name": "stderr",
     "output_type": "stream",
     "text": [
      "Note: Unknown species 'cvn'!\n",
      "\n"
     ]
    },
    {
     "ename": "ERROR",
     "evalue": "Error in kegg.species.code(species, na.rm = T, code.only = FALSE): All species are invalid!\n",
     "output_type": "error",
     "traceback": [
      "Error in kegg.species.code(species, na.rm = T, code.only = FALSE): All species are invalid!\nTraceback:\n",
      "1. sim.mol.data(mol.type = \"gene\", id.type = \"kegg\", species = \"cvn\", \n .     nmol = 3000)",
      "2. kegg.species.code(species, na.rm = T, code.only = FALSE)",
      "3. stop(stop.msg)"
     ]
    }
   ],
   "source": [
    "cvn.dat.kegg <- sim.mol.data(mol.type=\"gene\",id.type=\"kegg\",species=\"cvn\",nmol=3000)\n",
    "head(cvn.dat.kegg)"
   ]
  },
  {
   "cell_type": "markdown",
   "id": "cf3aa526-a65d-4be1-9647-74dd8ffb3f02",
   "metadata": {},
   "source": [
    "trying another way to do this following this pipeline https://github.com/NEFSC/EAD-ASEB_Larval_Starvation_HPL/blob/471e11a64ff81517803c04868e724f093936aaaf/RAnalysis/Scripts/WGCNA_Cvirginica_Cgigas_KEGG.Rmd#L92"
   ]
  },
  {
   "cell_type": "code",
   "execution_count": 27,
   "id": "18cc42f7-a89c-4f98-a7cd-719f035bbbd3",
   "metadata": {},
   "outputs": [
    {
     "data": {
      "text/html": [
       "<style>\n",
       ".dl-inline {width: auto; margin:0; padding: 0}\n",
       ".dl-inline>dt, .dl-inline>dd {float: none; width: auto; display: inline-block}\n",
       ".dl-inline>dt::after {content: \":\\0020\"; padding-right: .5ex}\n",
       ".dl-inline>dt:not(:first-of-type) {padding-left: .5ex}\n",
       "</style><dl class=dl-inline><dt>cvn01100</dt><dd>'Metabolic pathways - Crassostrea virginica (eastern oyster)'</dd><dt>cvn01200</dt><dd>'Carbon metabolism - Crassostrea virginica (eastern oyster)'</dd><dt>cvn01210</dt><dd>'2-Oxocarboxylic acid metabolism - Crassostrea virginica (eastern oyster)'</dd><dt>cvn01212</dt><dd>'Fatty acid metabolism - Crassostrea virginica (eastern oyster)'</dd><dt>cvn01230</dt><dd>'Biosynthesis of amino acids - Crassostrea virginica (eastern oyster)'</dd><dt>cvn01232</dt><dd>'Nucleotide metabolism - Crassostrea virginica (eastern oyster)'</dd></dl>\n"
      ],
      "text/latex": [
       "\\begin{description*}\n",
       "\\item[cvn01100] 'Metabolic pathways - Crassostrea virginica (eastern oyster)'\n",
       "\\item[cvn01200] 'Carbon metabolism - Crassostrea virginica (eastern oyster)'\n",
       "\\item[cvn01210] '2-Oxocarboxylic acid metabolism - Crassostrea virginica (eastern oyster)'\n",
       "\\item[cvn01212] 'Fatty acid metabolism - Crassostrea virginica (eastern oyster)'\n",
       "\\item[cvn01230] 'Biosynthesis of amino acids - Crassostrea virginica (eastern oyster)'\n",
       "\\item[cvn01232] 'Nucleotide metabolism - Crassostrea virginica (eastern oyster)'\n",
       "\\end{description*}\n"
      ],
      "text/markdown": [
       "cvn01100\n",
       ":   'Metabolic pathways - Crassostrea virginica (eastern oyster)'cvn01200\n",
       ":   'Carbon metabolism - Crassostrea virginica (eastern oyster)'cvn01210\n",
       ":   '2-Oxocarboxylic acid metabolism - Crassostrea virginica (eastern oyster)'cvn01212\n",
       ":   'Fatty acid metabolism - Crassostrea virginica (eastern oyster)'cvn01230\n",
       ":   'Biosynthesis of amino acids - Crassostrea virginica (eastern oyster)'cvn01232\n",
       ":   'Nucleotide metabolism - Crassostrea virginica (eastern oyster)'\n",
       "\n"
      ],
      "text/plain": [
       "                                                                  cvn01100 \n",
       "             \"Metabolic pathways - Crassostrea virginica (eastern oyster)\" \n",
       "                                                                  cvn01200 \n",
       "              \"Carbon metabolism - Crassostrea virginica (eastern oyster)\" \n",
       "                                                                  cvn01210 \n",
       "\"2-Oxocarboxylic acid metabolism - Crassostrea virginica (eastern oyster)\" \n",
       "                                                                  cvn01212 \n",
       "          \"Fatty acid metabolism - Crassostrea virginica (eastern oyster)\" \n",
       "                                                                  cvn01230 \n",
       "    \"Biosynthesis of amino acids - Crassostrea virginica (eastern oyster)\" \n",
       "                                                                  cvn01232 \n",
       "          \"Nucleotide metabolism - Crassostrea virginica (eastern oyster)\" "
      ]
     },
     "metadata": {},
     "output_type": "display_data"
    }
   ],
   "source": [
    "# Prepare Cvirginica KEGG IDs\n",
    "# Using KEGGREST..  KEGGREST prep \n",
    "pathways.list <- keggList(\"pathway\", \"cvn\")\n",
    "head(pathways.list)\n"
   ]
  },
  {
   "cell_type": "code",
   "execution_count": 28,
   "id": "69420925-1c1b-4deb-b41b-bd8d1d4e5159",
   "metadata": {},
   "outputs": [],
   "source": [
    "# Pull all genes for each pathway\n",
    "pathway.codes <- sub(\"path:\", \"\", names(pathways.list)) \n",
    "genes.by.pathway <- sapply(pathway.codes,\n",
    "                           function(pwid){\n",
    "                             pw <- keggGet(pwid)\n",
    "                             if (is.null(pw[[1]]$GENE)) return(NA)\n",
    "                             pw2 <- pw[[1]]$GENE[c(TRUE,FALSE)] # may need to modify this to c(FALSE, TRUE) for other organisms\n",
    "                             pw2 <- unlist(lapply(strsplit(pw2, split = \";\", fixed = T), function(x)x[1]))\n",
    "                             return(pw2)\n",
    "                           }\n",
    ")"
   ]
  },
  {
   "cell_type": "code",
   "execution_count": 29,
   "id": "d8a3293a-3214-459d-88e8-dead9369b2b3",
   "metadata": {},
   "outputs": [
    {
     "data": {
      "text/html": [
       "<dl>\n",
       "\t<dt>$cvn01100</dt>\n",
       "\t\t<dd>&lt;NA&gt;</dd>\n",
       "\t<dt>$cvn01200</dt>\n",
       "\t\t<dd>&lt;NA&gt;</dd>\n",
       "\t<dt>$cvn01210</dt>\n",
       "\t\t<dd>&lt;NA&gt;</dd>\n",
       "\t<dt>$cvn01212</dt>\n",
       "\t\t<dd>&lt;NA&gt;</dd>\n",
       "\t<dt>$cvn01230</dt>\n",
       "\t\t<dd>&lt;NA&gt;</dd>\n",
       "\t<dt>$cvn01232</dt>\n",
       "\t\t<dd>&lt;NA&gt;</dd>\n",
       "</dl>\n"
      ],
      "text/latex": [
       "\\begin{description}\n",
       "\\item[\\$cvn01100] <NA>\n",
       "\\item[\\$cvn01200] <NA>\n",
       "\\item[\\$cvn01210] <NA>\n",
       "\\item[\\$cvn01212] <NA>\n",
       "\\item[\\$cvn01230] <NA>\n",
       "\\item[\\$cvn01232] <NA>\n",
       "\\end{description}\n"
      ],
      "text/markdown": [
       "$cvn01100\n",
       ":   &lt;NA&gt;\n",
       "$cvn01200\n",
       ":   &lt;NA&gt;\n",
       "$cvn01210\n",
       ":   &lt;NA&gt;\n",
       "$cvn01212\n",
       ":   &lt;NA&gt;\n",
       "$cvn01230\n",
       ":   &lt;NA&gt;\n",
       "$cvn01232\n",
       ":   &lt;NA&gt;\n",
       "\n",
       "\n"
      ],
      "text/plain": [
       "$cvn01100\n",
       "[1] NA\n",
       "\n",
       "$cvn01200\n",
       "[1] NA\n",
       "\n",
       "$cvn01210\n",
       "[1] NA\n",
       "\n",
       "$cvn01212\n",
       "[1] NA\n",
       "\n",
       "$cvn01230\n",
       "[1] NA\n",
       "\n",
       "$cvn01232\n",
       "[1] NA\n"
      ]
     },
     "metadata": {},
     "output_type": "display_data"
    }
   ],
   "source": [
    "head(genes.by.pathway)"
   ]
  }
 ],
 "metadata": {
  "kernelspec": {
   "display_name": "R [conda env:.conda-r-env]",
   "language": "R",
   "name": "conda-env-.conda-r-env-r"
  },
  "language_info": {
   "codemirror_mode": "r",
   "file_extension": ".r",
   "mimetype": "text/x-r-source",
   "name": "R",
   "pygments_lexer": "r",
   "version": "4.3.2"
  }
 },
 "nbformat": 4,
 "nbformat_minor": 5
}
