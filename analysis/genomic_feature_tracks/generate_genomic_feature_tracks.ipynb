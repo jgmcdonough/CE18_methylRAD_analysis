{
 "cells": [
  {
   "cell_type": "markdown",
   "id": "33751504-eb9c-424a-ba11-c4a2f06f51ab",
   "metadata": {},
   "source": [
    "# Generating genomic feature tracks"
   ]
  },
  {
   "cell_type": "code",
   "execution_count": 38,
   "id": "fbb09c99-7f92-4004-a638-47913bd28bc6",
   "metadata": {},
   "outputs": [],
   "source": [
    "!reference=\"/project/pi_sarah_gignouxwolfsohn_uml_edu/Reference_genomes/Cvirginica_genome/CV_working_genomic.gff\""
   ]
  },
  {
   "cell_type": "code",
   "execution_count": 39,
   "id": "038ffc2a-f1ec-4e5e-9724-74c97fe1a1c3",
   "metadata": {},
   "outputs": [
    {
     "data": {
      "text/plain": [
       "'/project/pi_sarah_gignouxwolfsohn_uml_edu/julia/CE_MethylRAD_analysis_2018/analysis/genomic_feature_tracks'"
      ]
     },
     "execution_count": 39,
     "metadata": {},
     "output_type": "execute_result"
    }
   ],
   "source": [
    "pwd"
   ]
  },
  {
   "cell_type": "code",
   "execution_count": 28,
   "id": "7f644257-4f29-4c4e-87c4-5022f8b22fa1",
   "metadata": {},
   "outputs": [],
   "source": [
    "genome=\"/project/pi_sarah_gignouxwolfsohn_uml_edu/Reference_genomes/Cvirginica_genome/GCF_C_virginica-3.0_genomic.fai\"\n",
    "!cpgList=\"/project/pi_sarah_gignouxwolfsohn_uml_edu/julia/CE_methyl_assembly/assembly_pipeline_files/genomic_bed_files/C_virginica-3.0_CG-motif.bed\"\n",
    "gff=\"/project/pi_sarah_gignouxwolfsohn_uml_edu/Reference_genomes/Cvirginica_genome/CV_working_genomic.gff\"\n",
    "chromLengths=\"/project/pi_sarah_gignouxwolfsohn_uml_edu/julia/CE_MethylRAD_analysis_2018/analysis/genomic_feature_tracks/Venkataraman_files/2018-06-15-bedtools-Chromosome-Lengths.txt\""
   ]
  },
  {
   "cell_type": "code",
   "execution_count": 10,
   "id": "02838f92-01d7-421c-9852-566211d94d13",
   "metadata": {},
   "outputs": [
    {
     "name": "stdout",
     "output_type": "stream",
     "text": [
      "^C\n"
     ]
    }
   ],
   "source": [
    "!cut -f1 $chromLengths > Chromosome_Names.txt\n",
    "\n",
    "!chromNames=\"/project/pi_sarah_gignouxwolfsohn_uml_edu/julia/CE_MethylRAD_analysis_2018/analysis/genomic_feature_tracks/Chromosome_Names.txt\""
   ]
  },
  {
   "cell_type": "markdown",
   "id": "d32faf76-7cd3-4708-a95b-8bc4805a10dc",
   "metadata": {},
   "source": [
    "## Genes"
   ]
  },
  {
   "cell_type": "code",
   "execution_count": 21,
   "id": "cd9317d1-8583-4998-9c5e-e939ebf44422",
   "metadata": {},
   "outputs": [
    {
     "name": "stdout",
     "output_type": "stream",
     "text": [
      "^C\n"
     ]
    }
   ],
   "source": [
    "# find features with type == gene\n",
    "!grep \"Gnomon\tgene\" $gff > CV_gene.gff3"
   ]
  },
  {
   "cell_type": "markdown",
   "id": "8129e60a-f444-4e70-a5cf-f417ffc159ad",
   "metadata": {},
   "source": [
    "38262 genes in CV genome"
   ]
  },
  {
   "cell_type": "code",
   "execution_count": null,
   "id": "8326b81e-7e2e-46f5-9399-085927f1be82",
   "metadata": {},
   "outputs": [],
   "source": [
    "# sort for downstream use\n",
    "sortBed -faidx $chromNames -i CV_gene.gff3 > CV_gene_sorted.gff3"
   ]
  },
  {
   "cell_type": "code",
   "execution_count": 40,
   "id": "209973ea-0290-444d-b609-87991036b13e",
   "metadata": {},
   "outputs": [],
   "source": [
    "!geneList=\"CV_gene_sorted.gff3\""
   ]
  },
  {
   "cell_type": "code",
   "execution_count": null,
   "id": "9fa679a2-911f-4a44-83d6-1b35c1761d5d",
   "metadata": {},
   "outputs": [],
   "source": [
    "# convert gff file to BED file\n",
    "!awk '{print $1\"\\t\"$4\"\\t\"$5}' $geneList \\\n",
    "> CV_gene_sorted.bed"
   ]
  },
  {
   "cell_type": "markdown",
   "id": "9e7795fc-9ba4-455e-b330-c440f2311abd",
   "metadata": {},
   "source": [
    "## Exons"
   ]
  },
  {
   "cell_type": "code",
   "execution_count": null,
   "id": "234e0f9a-cf5f-43d3-bc9e-ebee7ec3db52",
   "metadata": {},
   "outputs": [],
   "source": [
    "# find features with type == exon\n",
    "!grep \"Gnomon\texon\" $gff > CV_exon.gff3"
   ]
  },
  {
   "cell_type": "markdown",
   "id": "886c078e-e467-4ce9-b7c8-3695a2f0304b",
   "metadata": {},
   "source": [
    "731279 exons in CV genome"
   ]
  },
  {
   "cell_type": "code",
   "execution_count": null,
   "id": "62a8e39f-a12f-4a4d-9d9a-f9df95ba7894",
   "metadata": {},
   "outputs": [],
   "source": [
    "sortBed -faidx $chromNames -i CV_exon.gff3 > CV_exon_sorted.gff3"
   ]
  },
  {
   "cell_type": "code",
   "execution_count": 29,
   "id": "556d57e9-9564-46b6-9e96-1c13e92f01b9",
   "metadata": {},
   "outputs": [],
   "source": [
    "!exonList=\"CV_exon_sorted.gff3\""
   ]
  },
  {
   "cell_type": "code",
   "execution_count": null,
   "id": "f867eed3-978e-43f4-a1d3-c68c6eb374cd",
   "metadata": {},
   "outputs": [],
   "source": [
    "# convert gff file to BED file\n",
    "!awk '{print $1\"\\t\"$4\"\\t\"$5}' $exonList \\\n",
    "> CV_exon_sorted.bed"
   ]
  },
  {
   "cell_type": "markdown",
   "id": "5f4ad2e6-457c-4edd-a593-c4266170aa4c",
   "metadata": {},
   "source": [
    "## CDS"
   ]
  },
  {
   "cell_type": "code",
   "execution_count": null,
   "id": "8b87e170-ba46-497c-9186-bb32e8ebdcd4",
   "metadata": {},
   "outputs": [],
   "source": [
    "# find features with type == exon\n",
    "!grep \"Gnomon\tCDS\" $gff > CV_CDS.gff3"
   ]
  },
  {
   "cell_type": "markdown",
   "id": "a34b1555-d418-401a-987d-826e5ddba5f0",
   "metadata": {},
   "source": [
    "645355 CDS in CV genome"
   ]
  },
  {
   "cell_type": "code",
   "execution_count": null,
   "id": "a9d717c9-3002-4c3a-8821-4e38f2783a36",
   "metadata": {},
   "outputs": [],
   "source": [
    "sortBed -faidx $chromNames -i CV_CDS.gff3 > CV_CDS_sorted.gff3"
   ]
  },
  {
   "cell_type": "code",
   "execution_count": 30,
   "id": "74542e97-1f1e-4cdf-9b13-5562c6d1a630",
   "metadata": {},
   "outputs": [],
   "source": [
    "!cdsList=\"CV_CDS_sorted.gff3\""
   ]
  },
  {
   "cell_type": "code",
   "execution_count": null,
   "id": "b579b834-886b-4d10-b5a7-841d61c07fe4",
   "metadata": {},
   "outputs": [],
   "source": [
    "# convert gff file to BED file\n",
    "!awk '{print $1\"\\t\"$4\"\\t\"$5}' $cdsList \\\n",
    "> CV_CDS_sorted.bed"
   ]
  },
  {
   "cell_type": "markdown",
   "id": "4011c269-1953-4ba5-bb61-0e1420bf7dea",
   "metadata": {},
   "source": [
    "## mRNA"
   ]
  },
  {
   "cell_type": "code",
   "execution_count": null,
   "id": "28ef8ce4-9dc3-4375-a6fe-9a7862502394",
   "metadata": {},
   "outputs": [],
   "source": [
    "# find features with type == exon\n",
    "!grep \"Gnomon\tmRNA\" $gff > CV_mRNA.gff3"
   ]
  },
  {
   "cell_type": "markdown",
   "id": "1cd971ab-a050-4c7e-9293-7d556de49af0",
   "metadata": {},
   "source": [
    "60201 mRNA in CV genome"
   ]
  },
  {
   "cell_type": "code",
   "execution_count": 31,
   "id": "730f1186-b6b2-4bd7-a041-c59f289d9828",
   "metadata": {},
   "outputs": [],
   "source": [
    "!mRNAList=\"CV_mRNA.gff3\""
   ]
  },
  {
   "cell_type": "code",
   "execution_count": null,
   "id": "7d121001-a6ef-4d9f-b75b-6c25cb0704cd",
   "metadata": {},
   "outputs": [],
   "source": [
    "# convert gff file to BED file\n",
    "!awk '{print $1\"\\t\"$4\"\\t\"$5}' $mRNAList \\\n",
    "> CV_mRNA.bed"
   ]
  },
  {
   "cell_type": "markdown",
   "id": "3d34ecc4-8d61-4628-82e3-5284eb2decf1",
   "metadata": {},
   "source": [
    "## Intergenic regions\n",
    "regions that aren't genes\n",
    "\n",
    "`complementBed` to find regions that aren't genes, and `subtractBed` to remove exons and create this"
   ]
  },
  {
   "cell_type": "code",
   "execution_count": null,
   "id": "7ea54c0f-e76c-473f-89cb-5a4d40b03a63",
   "metadata": {},
   "outputs": [],
   "source": [
    "complementBed \\\n",
    "-i $geneList -sorted \\\n",
    "-g $chromLengths \\\n",
    "| subtractBed \\\n",
    "-a - \\\n",
    "-b $exonList \\\n",
    "> CV_intergenic.gff3"
   ]
  },
  {
   "cell_type": "code",
   "execution_count": 32,
   "id": "f6ec3a68-0c07-44ea-9740-5ade5f0d4cad",
   "metadata": {},
   "outputs": [],
   "source": [
    "!intergenicList=\"CV_intergenic.gff3\""
   ]
  },
  {
   "cell_type": "markdown",
   "id": "3a9ab69c-e6f6-439b-ad48-b904b4e7a814",
   "metadata": {},
   "source": [
    "39467 intergenic regions in CV genome"
   ]
  },
  {
   "cell_type": "code",
   "execution_count": null,
   "id": "537d0dbb-da48-4407-a084-61981937d9bf",
   "metadata": {},
   "outputs": [],
   "source": [
    "awk '{print $1\"\\t\"$2\"\\t\"$3}' $intergenicList \\\n",
    "> CV_intergenic.bed"
   ]
  },
  {
   "cell_type": "markdown",
   "id": "4c2ba160-fb9b-4a80-9ba7-3fed7262ace4",
   "metadata": {},
   "source": [
    "## non-coding sequences"
   ]
  },
  {
   "cell_type": "code",
   "execution_count": null,
   "id": "5f7a041f-2ae4-4bde-bb76-6d21bd686536",
   "metadata": {},
   "outputs": [],
   "source": [
    "complementBed -i $exonList -g $chromLengths > CV_noncoding.gff3"
   ]
  },
  {
   "cell_type": "code",
   "execution_count": 33,
   "id": "f23afdc1-fc48-414e-86b0-b0fc8efb7633",
   "metadata": {},
   "outputs": [],
   "source": [
    "!nonCDS=\"CV_noncoding.gff3\""
   ]
  },
  {
   "cell_type": "markdown",
   "id": "415086a7-2a80-48f3-a805-86c257bcdfb9",
   "metadata": {},
   "source": [
    "336677 non-coding sequences in CV genome"
   ]
  },
  {
   "cell_type": "code",
   "execution_count": null,
   "id": "eea20d55-d5d3-43a0-b54a-790d821e4584",
   "metadata": {},
   "outputs": [],
   "source": [
    "awk '{print $1\"\\t\"$2\"\\t\"$3}' $nonCDS \\\n",
    "> CV_noncoding.bed"
   ]
  },
  {
   "cell_type": "markdown",
   "id": "cf064496-016e-480f-acb5-fe83c335959f",
   "metadata": {},
   "source": [
    "### introns\n",
    "\n",
    "introns are the space between exons within a gene - so to pull this out, I have to look within a gene (LOC number), subtract the end of exon 1 from the start of exon 2\n",
    "\n",
    "\n",
    "can create GFF file of non-coding regions based on the original GFF file - then introns, by definition, are the intersections of non-coding regions and genes\n",
    "\n",
    "\n",
    "following pipeline from [Venkataraman et al 2020](https://www.frontiersin.org/journals/marine-science/articles/10.3389/fmars.2020.00225/full#h7)"
   ]
  },
  {
   "cell_type": "code",
   "execution_count": null,
   "id": "e5ed7a8d-2b86-4d41-9e48-00a52918af56",
   "metadata": {},
   "outputs": [],
   "source": [
    "# run in command line\n",
    "!intersectBed \\\n",
    "-a $nonCDS \\\n",
    "-b $geneList -sorted \\\n",
    "> CV_intron.gff3"
   ]
  },
  {
   "cell_type": "code",
   "execution_count": 34,
   "id": "147abcdf-8b05-4829-851a-fe2edb9a69cd",
   "metadata": {},
   "outputs": [],
   "source": [
    "!intronList=\"CV_intron.gff3\""
   ]
  },
  {
   "cell_type": "markdown",
   "id": "6044e050-ec95-4c5a-b1c7-4054607e033e",
   "metadata": {},
   "source": [
    "311168 introns in CV genome"
   ]
  },
  {
   "cell_type": "code",
   "execution_count": null,
   "id": "d89ad61b-d104-41ca-b4e0-b1cb36980e08",
   "metadata": {},
   "outputs": [],
   "source": [
    "awk '{print $1\"\\t\"$2\"\\t\"$3}' $intronList \\\n",
    "> CV_intron.bed"
   ]
  },
  {
   "cell_type": "markdown",
   "id": "07064336-b6ff-4be4-95b2-43670cb50ec1",
   "metadata": {},
   "source": [
    "### exon UTRs"
   ]
  },
  {
   "cell_type": "code",
   "execution_count": null,
   "id": "76cdce35-6b32-4f30-a30a-a1e3135ed3ce",
   "metadata": {},
   "outputs": [],
   "source": [
    "subtractBed -a $exonList -b $cdsList -sorted -g $chromLengths > CV_exonUTR.gff3"
   ]
  },
  {
   "cell_type": "code",
   "execution_count": 35,
   "id": "2b724e55-8f3e-463c-8068-4a8399fdfeb8",
   "metadata": {},
   "outputs": [],
   "source": [
    "!exonUTR=\"CV_exonUTR.gff3\""
   ]
  },
  {
   "cell_type": "markdown",
   "id": "dc472abd-a65c-498f-a703-7e437cd36093",
   "metadata": {},
   "source": [
    "9473 untranslated regions of exons in CV genome"
   ]
  },
  {
   "cell_type": "code",
   "execution_count": null,
   "id": "4deb0648-1e2d-4535-a7cd-9a5902703933",
   "metadata": {},
   "outputs": [],
   "source": [
    "awk '{print $1\"\\t\"$4\"\\t\"$5}' $exonUTR \\\n",
    "> CV_exonUTR.bed"
   ]
  },
  {
   "cell_type": "markdown",
   "id": "f3236acb-9456-4c80-a14a-917d1ec30e50",
   "metadata": {},
   "source": [
    "### putative promoters\n",
    "1KB upstream of transcription start site (TSS)\n",
    "\n",
    "can use `bedtools flank` to find flanking regions 1000bp upstream and downstream of mRNA - then can filter rows to only grab the upstream flank (odd rows) on the + strand which would be our putative promoters\n",
    "\n"
   ]
  },
  {
   "cell_type": "code",
   "execution_count": null,
   "id": "be6d6b3f-2862-4040-bc3b-60a81a3073d9",
   "metadata": {},
   "outputs": [],
   "source": [
    "flankBed -i $mRNAList -g $chromLengths -b 1000 > mRNA_1000bp_flanks.bed"
   ]
  },
  {
   "cell_type": "code",
   "execution_count": null,
   "id": "d1834d2f-a66e-4d98-a6da-81df06994e74",
   "metadata": {},
   "outputs": [],
   "source": [
    "flanks='mRNA_1000bp_flanks.bed'"
   ]
  },
  {
   "cell_type": "code",
   "execution_count": null,
   "id": "bc71e869-a0d7-4bdc-b3ad-1c70adec34ea",
   "metadata": {},
   "outputs": [],
   "source": [
    "wc -l mRNA_1000bp_flanks.bed"
   ]
  },
  {
   "cell_type": "markdown",
   "id": "3a870eb4-5e2e-45b8-9cb6-8bd2e776d294",
   "metadata": {},
   "source": [
    "120400"
   ]
  },
  {
   "cell_type": "markdown",
   "id": "ddf55374-29a5-4f80-9925-008ff2a15c0a",
   "metadata": {},
   "source": [
    "if row number is odd = upstream flank\n",
    "\n",
    "if row number is even = downstream flank"
   ]
  },
  {
   "cell_type": "code",
   "execution_count": null,
   "id": "36326bda-5222-4e15-a4a9-38f34c08623c",
   "metadata": {},
   "outputs": [],
   "source": [
    "awk '{ if (NR%2) print > \"mRNA_upstream_flanks.bed\"; \\\n",
    "else print > \"mRNA_downstream_flanks.bed\" }' \\\n",
    "$flanks"
   ]
  },
  {
   "cell_type": "code",
   "execution_count": null,
   "id": "eb8e81d8-ce79-4dfa-8e4e-9c5979acecf5",
   "metadata": {},
   "outputs": [],
   "source": [
    "upstream=\"mRNA_upstream_flanks.bed\"\n",
    "downstream=\"mRNA_downstream_flanks.bed\""
   ]
  },
  {
   "cell_type": "markdown",
   "id": "a971efc0-0f37-42d9-ae36-1413af269389",
   "metadata": {},
   "source": [
    "**upstream flanks**\n",
    "\n",
    "60200 upstream flanks\n",
    "\n",
    "**downstream flanks**\n",
    "60200 downstream flanks\n",
    "\n",
    "\n",
    "\n",
    "upstream flanks should only include + strands, downstream should only include - strands"
   ]
  },
  {
   "cell_type": "code",
   "execution_count": null,
   "id": "8392beec-64bd-4864-bed9-50464b94b918",
   "metadata": {},
   "outputs": [],
   "source": [
    "grep \".\t+\t.\" $upstream \\\n",
    "> mRNA_upstream_forward.bed\n",
    "\n",
    "wc -l mRNA_upstream_forward.bed"
   ]
  },
  {
   "cell_type": "markdown",
   "id": "e203dc76-e383-4515-91ca-ae2abedf5aff",
   "metadata": {},
   "source": [
    "30218"
   ]
  },
  {
   "cell_type": "code",
   "execution_count": null,
   "id": "77dacbb1-dd40-456d-85f0-c1521339a125",
   "metadata": {},
   "outputs": [],
   "source": [
    "grep \".\t-\t.\" $downstream \\\n",
    "> mRNA_downstream_reverse.bed\n",
    "\n",
    "wc -l mRNA_downstream_reverse.bed"
   ]
  },
  {
   "cell_type": "markdown",
   "id": "b58cc86b-79af-4bc7-8d21-e87b2f5afdf0",
   "metadata": {},
   "source": [
    "29982\n",
    "\n",
    "now combine upstream + and downstream - flanks to create promoter track"
   ]
  },
  {
   "cell_type": "code",
   "execution_count": null,
   "id": "1c418399-2e2c-42e1-a3c1-5c6248981aaf",
   "metadata": {},
   "outputs": [],
   "source": [
    "cat \\\n",
    "mRNA_upstream_forward.bed \\\n",
    "mRNA_downstream_reverse.bed \\\n",
    "> mRNA_promoter_track.bed"
   ]
  },
  {
   "cell_type": "code",
   "execution_count": 36,
   "id": "81358270-02d7-4d0e-b587-fe3f5ad98053",
   "metadata": {},
   "outputs": [],
   "source": [
    "!promoterTrack=\"mRNA_promoter_track.bed\""
   ]
  },
  {
   "cell_type": "markdown",
   "id": "92d0a9c0-bd30-49c5-9f60-9eac37f3b304",
   "metadata": {},
   "source": [
    "60200"
   ]
  },
  {
   "cell_type": "markdown",
   "id": "5eecceed-95ea-4bd6-8ac0-fcc4fcee5985",
   "metadata": {},
   "source": [
    "# Overlaps with CpG dinucleotides"
   ]
  },
  {
   "cell_type": "code",
   "execution_count": 57,
   "id": "d2f9a405-a3d1-40f7-93c3-7d0a89e5bfff",
   "metadata": {},
   "outputs": [
    {
     "name": "stdout",
     "output_type": "stream",
     "text": [
      "Error: Unable to open file -b. Exiting.\n",
      "\n",
      "ERROR conda.cli.main_run:execute(125): `conda run bedtools intersect -u -a -b /project/pi_sarah_gignouxwolfsohn_uml_edu/julia/CE_MethylRAD_analysis_2018/analysis/genomic_feature_tracks/CV_gene_sorted.bed` failed. (See above for error)\n",
      "0\n"
     ]
    }
   ],
   "source": [
    "!conda run -n bedtools bedtools intersect -u -a $cpgList -b /project/pi_sarah_gignouxwolfsohn_uml_edu/julia/CE_MethylRAD_analysis_2018/analysis/genomic_feature_tracks/CV_gene_sorted.bed | wc -l\n",
    "#echo \"total CpG dinucleotides in genes\""
   ]
  },
  {
   "cell_type": "markdown",
   "id": "cb5d242d-4b1d-47dc-9f21-5e18f02f7dcf",
   "metadata": {},
   "source": [
    "## Generating gene counts matrix\n",
    "Current DESeq analysis uses a counts matrix from `featureCounts` which binned sequences into gene regions - in theory, doing the same but with `bedtools` should generate the same result, but for consistency purposes just going to generate it and do the same analysis I've done for the CpG dinucleotides in  [methylation_level_of_features.ipynb](https://github.com/jgmcdonough/CE18_methylRAD_analysis/blob/master/analysis/genomic_feature_tracks/methylation_level_of_features.ipynb)"
   ]
  },
  {
   "cell_type": "code",
   "execution_count": 1,
   "id": "e5490ec0-55f4-44b3-b752-8fd0d68ad8c0",
   "metadata": {},
   "outputs": [],
   "source": [
    "geneList = '/project/pi_sarah_gignouxwolfsohn_uml_edu/julia/CE_MethylRAD_analysis_2018/analysis/genomic_feature_tracks/CV_gene_sorted.gff3'"
   ]
  },
  {
   "cell_type": "code",
   "execution_count": 2,
   "id": "aeada0ce-5209-4363-a88b-a39c4dcf8cbc",
   "metadata": {},
   "outputs": [],
   "source": [
    "!bedtools multicov -bams /project/pi_sarah_gignouxwolfsohn_uml_edu/julia/CE_methyl_assembly/assembly_pipeline_files/BEDtools/working_BAM_sequences/*.bam -bed {geneList}  > geneGFF_Multicov.csv"
   ]
  },
  {
   "cell_type": "code",
   "execution_count": null,
   "id": "adb64dbf-0c09-4c4d-9132-ae49a737733a",
   "metadata": {},
   "outputs": [],
   "source": [
    "import os\n",
    "import re\n",
    "import pandas as pd"
   ]
  },
  {
   "cell_type": "code",
   "execution_count": 25,
   "id": "3cc59cc9-622d-464b-b64c-95ee834475cb",
   "metadata": {},
   "outputs": [
    {
     "data": {
      "text/plain": [
       "['WBV-WBR-W12',\n",
       " 'BBB-WBO-B21',\n",
       " 'BBR-BBG-B38',\n",
       " 'BBB-WBV-B70',\n",
       " 'WBY-BBV-W65',\n",
       " 'WBV-WBO-W23',\n",
       " 'WBO-WBV-W64',\n",
       " 'WBO-BBR-W03',\n",
       " 'WBB-WBV-W69',\n",
       " 'BBR-BBB-B50',\n",
       " 'BBY-WBG-B42',\n",
       " 'WBR-BBY-W25',\n",
       " 'BBO-WBV-B64',\n",
       " 'BBO-BBO-B16',\n",
       " 'BBO-WBO-B16',\n",
       " 'WBG-BBB-W56',\n",
       " 'BBO-BBY-B27',\n",
       " 'BBR-BBY-B26',\n",
       " 'WBY-BBY-W30',\n",
       " 'WBG-WBG-W44']"
      ]
     },
     "execution_count": 25,
     "metadata": {},
     "output_type": "execute_result"
    }
   ],
   "source": [
    "# read in BAM file names from the dir\n",
    "bam_files = [file for file in os.listdir(\"/project/pi_sarah_gignouxwolfsohn_uml_edu/julia/CE_methyl_assembly/assembly_pipeline_files/BEDtools/working_BAM_sequences/\") \n",
    "              if file.endswith(\".bam\")]\n",
    "\n",
    "# clean names so only sample name remains\n",
    "bam_files_clean = [re.sub(r\"^2018--|-CV_sorted\\.bam$\", \"\", file) for file in bam_files]\n",
    "bam_files_clean"
   ]
  },
  {
   "cell_type": "code",
   "execution_count": 22,
   "id": "2374470e-1403-4de1-96e4-7bb34a2d806d",
   "metadata": {},
   "outputs": [
    {
     "data": {
      "text/html": [
       "<div>\n",
       "<style scoped>\n",
       "    .dataframe tbody tr th:only-of-type {\n",
       "        vertical-align: middle;\n",
       "    }\n",
       "\n",
       "    .dataframe tbody tr th {\n",
       "        vertical-align: top;\n",
       "    }\n",
       "\n",
       "    .dataframe thead th {\n",
       "        text-align: right;\n",
       "    }\n",
       "</style>\n",
       "<table border=\"1\" class=\"dataframe\">\n",
       "  <thead>\n",
       "    <tr style=\"text-align: right;\">\n",
       "      <th></th>\n",
       "      <th>0</th>\n",
       "      <th>1</th>\n",
       "      <th>2</th>\n",
       "      <th>3</th>\n",
       "      <th>4</th>\n",
       "      <th>5</th>\n",
       "      <th>6</th>\n",
       "      <th>7</th>\n",
       "      <th>8</th>\n",
       "      <th>9</th>\n",
       "      <th>...</th>\n",
       "      <th>13</th>\n",
       "      <th>14</th>\n",
       "      <th>15</th>\n",
       "      <th>16</th>\n",
       "      <th>17</th>\n",
       "      <th>18</th>\n",
       "      <th>19</th>\n",
       "      <th>20</th>\n",
       "      <th>21</th>\n",
       "      <th>22</th>\n",
       "    </tr>\n",
       "  </thead>\n",
       "  <tbody>\n",
       "    <tr>\n",
       "      <th>0</th>\n",
       "      <td>NC_035780.1</td>\n",
       "      <td>13578</td>\n",
       "      <td>14594</td>\n",
       "      <td>0</td>\n",
       "      <td>0</td>\n",
       "      <td>0</td>\n",
       "      <td>0</td>\n",
       "      <td>0</td>\n",
       "      <td>0</td>\n",
       "      <td>0</td>\n",
       "      <td>...</td>\n",
       "      <td>0</td>\n",
       "      <td>0</td>\n",
       "      <td>0</td>\n",
       "      <td>0</td>\n",
       "      <td>0</td>\n",
       "      <td>0</td>\n",
       "      <td>0</td>\n",
       "      <td>0</td>\n",
       "      <td>0</td>\n",
       "      <td>0</td>\n",
       "    </tr>\n",
       "    <tr>\n",
       "      <th>1</th>\n",
       "      <td>NC_035780.1</td>\n",
       "      <td>28961</td>\n",
       "      <td>33324</td>\n",
       "      <td>0</td>\n",
       "      <td>0</td>\n",
       "      <td>0</td>\n",
       "      <td>0</td>\n",
       "      <td>0</td>\n",
       "      <td>2</td>\n",
       "      <td>0</td>\n",
       "      <td>...</td>\n",
       "      <td>0</td>\n",
       "      <td>0</td>\n",
       "      <td>0</td>\n",
       "      <td>0</td>\n",
       "      <td>0</td>\n",
       "      <td>0</td>\n",
       "      <td>0</td>\n",
       "      <td>0</td>\n",
       "      <td>0</td>\n",
       "      <td>0</td>\n",
       "    </tr>\n",
       "    <tr>\n",
       "      <th>2</th>\n",
       "      <td>NC_035780.1</td>\n",
       "      <td>43111</td>\n",
       "      <td>66897</td>\n",
       "      <td>0</td>\n",
       "      <td>0</td>\n",
       "      <td>0</td>\n",
       "      <td>0</td>\n",
       "      <td>0</td>\n",
       "      <td>0</td>\n",
       "      <td>2</td>\n",
       "      <td>...</td>\n",
       "      <td>0</td>\n",
       "      <td>0</td>\n",
       "      <td>0</td>\n",
       "      <td>0</td>\n",
       "      <td>4</td>\n",
       "      <td>2</td>\n",
       "      <td>0</td>\n",
       "      <td>0</td>\n",
       "      <td>2</td>\n",
       "      <td>0</td>\n",
       "    </tr>\n",
       "    <tr>\n",
       "      <th>3</th>\n",
       "      <td>NC_035780.1</td>\n",
       "      <td>85606</td>\n",
       "      <td>95254</td>\n",
       "      <td>8</td>\n",
       "      <td>12</td>\n",
       "      <td>0</td>\n",
       "      <td>0</td>\n",
       "      <td>6</td>\n",
       "      <td>4</td>\n",
       "      <td>0</td>\n",
       "      <td>...</td>\n",
       "      <td>2</td>\n",
       "      <td>1</td>\n",
       "      <td>0</td>\n",
       "      <td>0</td>\n",
       "      <td>4</td>\n",
       "      <td>0</td>\n",
       "      <td>6</td>\n",
       "      <td>0</td>\n",
       "      <td>0</td>\n",
       "      <td>10</td>\n",
       "    </tr>\n",
       "    <tr>\n",
       "      <th>4</th>\n",
       "      <td>NC_035780.1</td>\n",
       "      <td>99840</td>\n",
       "      <td>106460</td>\n",
       "      <td>14</td>\n",
       "      <td>4</td>\n",
       "      <td>2</td>\n",
       "      <td>0</td>\n",
       "      <td>6</td>\n",
       "      <td>0</td>\n",
       "      <td>0</td>\n",
       "      <td>...</td>\n",
       "      <td>6</td>\n",
       "      <td>2</td>\n",
       "      <td>0</td>\n",
       "      <td>0</td>\n",
       "      <td>4</td>\n",
       "      <td>0</td>\n",
       "      <td>2</td>\n",
       "      <td>0</td>\n",
       "      <td>0</td>\n",
       "      <td>2</td>\n",
       "    </tr>\n",
       "  </tbody>\n",
       "</table>\n",
       "<p>5 rows × 23 columns</p>\n",
       "</div>"
      ],
      "text/plain": [
       "            0      1       2   3   4   5   6   7   8   9   ...  13  14  15  \\\n",
       "0  NC_035780.1  13578   14594   0   0   0   0   0   0   0  ...   0   0   0   \n",
       "1  NC_035780.1  28961   33324   0   0   0   0   0   2   0  ...   0   0   0   \n",
       "2  NC_035780.1  43111   66897   0   0   0   0   0   0   2  ...   0   0   0   \n",
       "3  NC_035780.1  85606   95254   8  12   0   0   6   4   0  ...   2   1   0   \n",
       "4  NC_035780.1  99840  106460  14   4   2   0   6   0   0  ...   6   2   0   \n",
       "\n",
       "   16  17  18  19  20  21  22  \n",
       "0   0   0   0   0   0   0   0  \n",
       "1   0   0   0   0   0   0   0  \n",
       "2   0   4   2   0   0   2   0  \n",
       "3   0   4   0   6   0   0  10  \n",
       "4   0   4   0   2   0   0   2  \n",
       "\n",
       "[5 rows x 23 columns]"
      ]
     },
     "execution_count": 22,
     "metadata": {},
     "output_type": "execute_result"
    }
   ],
   "source": [
    "# reading in CSV generated above\n",
    "geneMulticov = pd.read_csv('/project/pi_sarah_gignouxwolfsohn_uml_edu/julia/CE_MethylRAD_analysis_2018/analysis/genomic_feature_tracks/geneMulticov.csv', sep='\\t', header = None)\n",
    "geneMulticov.head()"
   ]
  },
  {
   "cell_type": "code",
   "execution_count": 24,
   "id": "f13638b4-b330-47fe-a971-4c348156a54d",
   "metadata": {},
   "outputs": [
    {
     "data": {
      "text/html": [
       "<div>\n",
       "<style scoped>\n",
       "    .dataframe tbody tr th:only-of-type {\n",
       "        vertical-align: middle;\n",
       "    }\n",
       "\n",
       "    .dataframe tbody tr th {\n",
       "        vertical-align: top;\n",
       "    }\n",
       "\n",
       "    .dataframe thead th {\n",
       "        text-align: right;\n",
       "    }\n",
       "</style>\n",
       "<table border=\"1\" class=\"dataframe\">\n",
       "  <thead>\n",
       "    <tr style=\"text-align: right;\">\n",
       "      <th></th>\n",
       "      <th>chromosome</th>\n",
       "      <th>start</th>\n",
       "      <th>stop</th>\n",
       "      <th>WBV-WBR-W12</th>\n",
       "      <th>BBB-WBO-B21</th>\n",
       "      <th>BBR-BBG-B38</th>\n",
       "      <th>BBB-WBV-B70</th>\n",
       "      <th>WBY-BBV-W65</th>\n",
       "      <th>WBV-WBO-W23</th>\n",
       "      <th>WBO-WBV-W64</th>\n",
       "      <th>...</th>\n",
       "      <th>BBY-WBG-B42</th>\n",
       "      <th>WBR-BBY-W25</th>\n",
       "      <th>BBO-WBV-B64</th>\n",
       "      <th>BBO-BBO-B16</th>\n",
       "      <th>BBO-WBO-B16</th>\n",
       "      <th>WBG-BBB-W56</th>\n",
       "      <th>BBO-BBY-B27</th>\n",
       "      <th>BBR-BBY-B26</th>\n",
       "      <th>WBY-BBY-W30</th>\n",
       "      <th>WBG-WBG-W44</th>\n",
       "    </tr>\n",
       "  </thead>\n",
       "  <tbody>\n",
       "    <tr>\n",
       "      <th>0</th>\n",
       "      <td>NC_035780.1</td>\n",
       "      <td>13578</td>\n",
       "      <td>14594</td>\n",
       "      <td>0</td>\n",
       "      <td>0</td>\n",
       "      <td>0</td>\n",
       "      <td>0</td>\n",
       "      <td>0</td>\n",
       "      <td>0</td>\n",
       "      <td>0</td>\n",
       "      <td>...</td>\n",
       "      <td>0</td>\n",
       "      <td>0</td>\n",
       "      <td>0</td>\n",
       "      <td>0</td>\n",
       "      <td>0</td>\n",
       "      <td>0</td>\n",
       "      <td>0</td>\n",
       "      <td>0</td>\n",
       "      <td>0</td>\n",
       "      <td>0</td>\n",
       "    </tr>\n",
       "    <tr>\n",
       "      <th>1</th>\n",
       "      <td>NC_035780.1</td>\n",
       "      <td>28961</td>\n",
       "      <td>33324</td>\n",
       "      <td>0</td>\n",
       "      <td>0</td>\n",
       "      <td>0</td>\n",
       "      <td>0</td>\n",
       "      <td>0</td>\n",
       "      <td>2</td>\n",
       "      <td>0</td>\n",
       "      <td>...</td>\n",
       "      <td>0</td>\n",
       "      <td>0</td>\n",
       "      <td>0</td>\n",
       "      <td>0</td>\n",
       "      <td>0</td>\n",
       "      <td>0</td>\n",
       "      <td>0</td>\n",
       "      <td>0</td>\n",
       "      <td>0</td>\n",
       "      <td>0</td>\n",
       "    </tr>\n",
       "    <tr>\n",
       "      <th>2</th>\n",
       "      <td>NC_035780.1</td>\n",
       "      <td>43111</td>\n",
       "      <td>66897</td>\n",
       "      <td>0</td>\n",
       "      <td>0</td>\n",
       "      <td>0</td>\n",
       "      <td>0</td>\n",
       "      <td>0</td>\n",
       "      <td>0</td>\n",
       "      <td>2</td>\n",
       "      <td>...</td>\n",
       "      <td>0</td>\n",
       "      <td>0</td>\n",
       "      <td>0</td>\n",
       "      <td>0</td>\n",
       "      <td>4</td>\n",
       "      <td>2</td>\n",
       "      <td>0</td>\n",
       "      <td>0</td>\n",
       "      <td>2</td>\n",
       "      <td>0</td>\n",
       "    </tr>\n",
       "    <tr>\n",
       "      <th>3</th>\n",
       "      <td>NC_035780.1</td>\n",
       "      <td>85606</td>\n",
       "      <td>95254</td>\n",
       "      <td>8</td>\n",
       "      <td>12</td>\n",
       "      <td>0</td>\n",
       "      <td>0</td>\n",
       "      <td>6</td>\n",
       "      <td>4</td>\n",
       "      <td>0</td>\n",
       "      <td>...</td>\n",
       "      <td>2</td>\n",
       "      <td>1</td>\n",
       "      <td>0</td>\n",
       "      <td>0</td>\n",
       "      <td>4</td>\n",
       "      <td>0</td>\n",
       "      <td>6</td>\n",
       "      <td>0</td>\n",
       "      <td>0</td>\n",
       "      <td>10</td>\n",
       "    </tr>\n",
       "    <tr>\n",
       "      <th>4</th>\n",
       "      <td>NC_035780.1</td>\n",
       "      <td>99840</td>\n",
       "      <td>106460</td>\n",
       "      <td>14</td>\n",
       "      <td>4</td>\n",
       "      <td>2</td>\n",
       "      <td>0</td>\n",
       "      <td>6</td>\n",
       "      <td>0</td>\n",
       "      <td>0</td>\n",
       "      <td>...</td>\n",
       "      <td>6</td>\n",
       "      <td>2</td>\n",
       "      <td>0</td>\n",
       "      <td>0</td>\n",
       "      <td>4</td>\n",
       "      <td>0</td>\n",
       "      <td>2</td>\n",
       "      <td>0</td>\n",
       "      <td>0</td>\n",
       "      <td>2</td>\n",
       "    </tr>\n",
       "  </tbody>\n",
       "</table>\n",
       "<p>5 rows × 23 columns</p>\n",
       "</div>"
      ],
      "text/plain": [
       "    chromosome  start    stop  WBV-WBR-W12  BBB-WBO-B21  BBR-BBG-B38  \\\n",
       "0  NC_035780.1  13578   14594            0            0            0   \n",
       "1  NC_035780.1  28961   33324            0            0            0   \n",
       "2  NC_035780.1  43111   66897            0            0            0   \n",
       "3  NC_035780.1  85606   95254            8           12            0   \n",
       "4  NC_035780.1  99840  106460           14            4            2   \n",
       "\n",
       "   BBB-WBV-B70  WBY-BBV-W65  WBV-WBO-W23  WBO-WBV-W64  ...  BBY-WBG-B42  \\\n",
       "0            0            0            0            0  ...            0   \n",
       "1            0            0            2            0  ...            0   \n",
       "2            0            0            0            2  ...            0   \n",
       "3            0            6            4            0  ...            2   \n",
       "4            0            6            0            0  ...            6   \n",
       "\n",
       "   WBR-BBY-W25  BBO-WBV-B64  BBO-BBO-B16  BBO-WBO-B16  WBG-BBB-W56  \\\n",
       "0            0            0            0            0            0   \n",
       "1            0            0            0            0            0   \n",
       "2            0            0            0            4            2   \n",
       "3            1            0            0            4            0   \n",
       "4            2            0            0            4            0   \n",
       "\n",
       "   BBO-BBY-B27  BBR-BBY-B26  WBY-BBY-W30  WBG-WBG-W44  \n",
       "0            0            0            0            0  \n",
       "1            0            0            0            0  \n",
       "2            0            0            2            0  \n",
       "3            6            0            0           10  \n",
       "4            2            0            0            2  \n",
       "\n",
       "[5 rows x 23 columns]"
      ]
     },
     "execution_count": 24,
     "metadata": {},
     "output_type": "execute_result"
    }
   ],
   "source": [
    "# rename columns - add bam file sample names to the columns\n",
    "# columns are assumed to be in same position as they are listed in the dir\n",
    "geneMulticov.columns = ['chromosome', 'start', 'stop'] + bam_files_clean\n",
    "geneMulticov.head()"
   ]
  },
  {
   "cell_type": "code",
   "execution_count": 30,
   "id": "6cd69cc0-4fb0-41be-bf96-5f11cdcc80a8",
   "metadata": {},
   "outputs": [],
   "source": [
    "# create base columns\n",
    "base_cols = geneMulticov[[\"chromosome\", \"start\", \"stop\"]]\n",
    "\n",
    "############################################################\n",
    "## HYPOXIC CONTROL\n",
    "# Additional columns matching pattern\n",
    "HC_cols = geneMulticov.filter(regex=\"BB.-WB.-\\\\w{3}\")\n",
    "\n",
    "# Create new data frame\n",
    "HC_multicov = pd.concat([base_cols, HC_cols], axis=1)\n",
    "\n",
    "############################################################\n",
    "## HYPOXIC HYPOXIC\n",
    "# Additional columns matching pattern\n",
    "HH_cols = geneMulticov.filter(regex=\"BB.-BB.-\\\\w{3}\")\n",
    "\n",
    "# Create new data frame\n",
    "HH_multicov = pd.concat([base_cols, HH_cols], axis=1)\n",
    "\n",
    "############################################################\n",
    "## CONTROL HYPOXIC\n",
    "# Additional columns matching pattern\n",
    "CH_cols = geneMulticov.filter(regex=\"WB.-BB.-\\\\w{3}\")\n",
    "\n",
    "# Create new data frame\n",
    "CH_multicov = pd.concat([base_cols, CH_cols], axis=1)\n",
    "\n",
    "############################################################\n",
    "## CONTROL CONTROL\n",
    "# Additional columns matching pattern\n",
    "CC_cols = geneMulticov.filter(regex=\"WB.-WB.-\\\\w{3}\")\n",
    "\n",
    "# Create new data frame\n",
    "CC_multicov = pd.concat([base_cols, CC_cols], axis=1)"
   ]
  }
 ],
 "metadata": {
  "kernelspec": {
   "display_name": "Python [conda env:.conda-bedtools]",
   "language": "python",
   "name": "conda-env-.conda-bedtools-py"
  },
  "language_info": {
   "codemirror_mode": {
    "name": "ipython",
    "version": 3
   },
   "file_extension": ".py",
   "mimetype": "text/x-python",
   "name": "python",
   "nbconvert_exporter": "python",
   "pygments_lexer": "ipython3",
   "version": "3.8.20"
  }
 },
 "nbformat": 4,
 "nbformat_minor": 5
}
