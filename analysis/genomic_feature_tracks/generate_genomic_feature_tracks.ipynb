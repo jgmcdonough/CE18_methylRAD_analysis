{
 "cells": [
  {
   "cell_type": "markdown",
   "id": "33751504-eb9c-424a-ba11-c4a2f06f51ab",
   "metadata": {},
   "source": [
    "# Generating genomic feature tracks"
   ]
  },
  {
   "cell_type": "code",
   "execution_count": 38,
   "id": "fbb09c99-7f92-4004-a638-47913bd28bc6",
   "metadata": {},
   "outputs": [],
   "source": [
    "!reference=\"/project/pi_sarah_gignouxwolfsohn_uml_edu/Reference_genomes/Cvirginica_genome/CV_working_genomic.gff\""
   ]
  },
  {
   "cell_type": "code",
   "execution_count": 39,
   "id": "038ffc2a-f1ec-4e5e-9724-74c97fe1a1c3",
   "metadata": {},
   "outputs": [
    {
     "data": {
      "text/plain": [
       "'/project/pi_sarah_gignouxwolfsohn_uml_edu/julia/CE_MethylRAD_analysis_2018/analysis/genomic_feature_tracks'"
      ]
     },
     "execution_count": 39,
     "metadata": {},
     "output_type": "execute_result"
    }
   ],
   "source": [
    "pwd"
   ]
  },
  {
   "cell_type": "code",
   "execution_count": 28,
   "id": "7f644257-4f29-4c4e-87c4-5022f8b22fa1",
   "metadata": {},
   "outputs": [],
   "source": [
    "genome=\"/project/pi_sarah_gignouxwolfsohn_uml_edu/Reference_genomes/Cvirginica_genome/GCF_C_virginica-3.0_genomic.fai\"\n",
    "!cpgList=\"/project/pi_sarah_gignouxwolfsohn_uml_edu/julia/CE_methyl_assembly/assembly_pipeline_files/genomic_bed_files/C_virginica-3.0_CG-motif.bed\"\n",
    "gff=\"/project/pi_sarah_gignouxwolfsohn_uml_edu/Reference_genomes/Cvirginica_genome/CV_working_genomic.gff\"\n",
    "chromLengths=\"/project/pi_sarah_gignouxwolfsohn_uml_edu/julia/CE_MethylRAD_analysis_2018/analysis/genomic_feature_tracks/Venkataraman_files/2018-06-15-bedtools-Chromosome-Lengths.txt\""
   ]
  },
  {
   "cell_type": "code",
   "execution_count": 10,
   "id": "02838f92-01d7-421c-9852-566211d94d13",
   "metadata": {},
   "outputs": [
    {
     "name": "stdout",
     "output_type": "stream",
     "text": [
      "^C\n"
     ]
    }
   ],
   "source": [
    "!cut -f1 $chromLengths > Chromosome_Names.txt\n",
    "\n",
    "!chromNames=\"/project/pi_sarah_gignouxwolfsohn_uml_edu/julia/CE_MethylRAD_analysis_2018/analysis/genomic_feature_tracks/Chromosome_Names.txt\""
   ]
  },
  {
   "cell_type": "markdown",
   "id": "d32faf76-7cd3-4708-a95b-8bc4805a10dc",
   "metadata": {},
   "source": [
    "## Genes"
   ]
  },
  {
   "cell_type": "code",
   "execution_count": 21,
   "id": "cd9317d1-8583-4998-9c5e-e939ebf44422",
   "metadata": {},
   "outputs": [
    {
     "name": "stdout",
     "output_type": "stream",
     "text": [
      "^C\n"
     ]
    }
   ],
   "source": [
    "# find features with type == gene\n",
    "!grep \"Gnomon\tgene\" $gff > CV_gene.gff3"
   ]
  },
  {
   "cell_type": "markdown",
   "id": "8129e60a-f444-4e70-a5cf-f417ffc159ad",
   "metadata": {},
   "source": [
    "38262 genes in CV genome"
   ]
  },
  {
   "cell_type": "code",
   "execution_count": null,
   "id": "8326b81e-7e2e-46f5-9399-085927f1be82",
   "metadata": {},
   "outputs": [],
   "source": [
    "# sort for downstream use\n",
    "sortBed -faidx $chromNames -i CV_gene.gff3 > CV_gene_sorted.gff3"
   ]
  },
  {
   "cell_type": "code",
   "execution_count": 40,
   "id": "209973ea-0290-444d-b609-87991036b13e",
   "metadata": {},
   "outputs": [],
   "source": [
    "!geneList=\"CV_gene_sorted.gff3\""
   ]
  },
  {
   "cell_type": "code",
   "execution_count": null,
   "id": "9fa679a2-911f-4a44-83d6-1b35c1761d5d",
   "metadata": {},
   "outputs": [],
   "source": [
    "# convert gff file to BED file\n",
    "!awk '{print $1\"\\t\"$4\"\\t\"$5}' $geneList \\\n",
    "> CV_gene_sorted.bed"
   ]
  },
  {
   "cell_type": "markdown",
   "id": "9e7795fc-9ba4-455e-b330-c440f2311abd",
   "metadata": {},
   "source": [
    "## Exons"
   ]
  },
  {
   "cell_type": "code",
   "execution_count": null,
   "id": "234e0f9a-cf5f-43d3-bc9e-ebee7ec3db52",
   "metadata": {},
   "outputs": [],
   "source": [
    "# find features with type == exon\n",
    "!grep \"Gnomon\texon\" $gff > CV_exon.gff3"
   ]
  },
  {
   "cell_type": "markdown",
   "id": "886c078e-e467-4ce9-b7c8-3695a2f0304b",
   "metadata": {},
   "source": [
    "731279 exons in CV genome"
   ]
  },
  {
   "cell_type": "code",
   "execution_count": null,
   "id": "62a8e39f-a12f-4a4d-9d9a-f9df95ba7894",
   "metadata": {},
   "outputs": [],
   "source": [
    "sortBed -faidx $chromNames -i CV_exon.gff3 > CV_exon_sorted.gff3"
   ]
  },
  {
   "cell_type": "code",
   "execution_count": 29,
   "id": "556d57e9-9564-46b6-9e96-1c13e92f01b9",
   "metadata": {},
   "outputs": [],
   "source": [
    "!exonList=\"CV_exon_sorted.gff3\""
   ]
  },
  {
   "cell_type": "code",
   "execution_count": null,
   "id": "f867eed3-978e-43f4-a1d3-c68c6eb374cd",
   "metadata": {},
   "outputs": [],
   "source": [
    "# convert gff file to BED file\n",
    "!awk '{print $1\"\\t\"$4\"\\t\"$5}' $exonList \\\n",
    "> CV_exon_sorted.bed"
   ]
  },
  {
   "cell_type": "markdown",
   "id": "5f4ad2e6-457c-4edd-a593-c4266170aa4c",
   "metadata": {},
   "source": [
    "## CDS"
   ]
  },
  {
   "cell_type": "code",
   "execution_count": null,
   "id": "8b87e170-ba46-497c-9186-bb32e8ebdcd4",
   "metadata": {},
   "outputs": [],
   "source": [
    "# find features with type == exon\n",
    "!grep \"Gnomon\tCDS\" $gff > CV_CDS.gff3"
   ]
  },
  {
   "cell_type": "markdown",
   "id": "a34b1555-d418-401a-987d-826e5ddba5f0",
   "metadata": {},
   "source": [
    "645355 CDS in CV genome"
   ]
  },
  {
   "cell_type": "code",
   "execution_count": null,
   "id": "a9d717c9-3002-4c3a-8821-4e38f2783a36",
   "metadata": {},
   "outputs": [],
   "source": [
    "sortBed -faidx $chromNames -i CV_CDS.gff3 > CV_CDS_sorted.gff3"
   ]
  },
  {
   "cell_type": "code",
   "execution_count": 30,
   "id": "74542e97-1f1e-4cdf-9b13-5562c6d1a630",
   "metadata": {},
   "outputs": [],
   "source": [
    "!cdsList=\"CV_CDS_sorted.gff3\""
   ]
  },
  {
   "cell_type": "code",
   "execution_count": null,
   "id": "b579b834-886b-4d10-b5a7-841d61c07fe4",
   "metadata": {},
   "outputs": [],
   "source": [
    "# convert gff file to BED file\n",
    "!awk '{print $1\"\\t\"$4\"\\t\"$5}' $cdsList \\\n",
    "> CV_CDS_sorted.bed"
   ]
  },
  {
   "cell_type": "markdown",
   "id": "4011c269-1953-4ba5-bb61-0e1420bf7dea",
   "metadata": {},
   "source": [
    "## mRNA"
   ]
  },
  {
   "cell_type": "code",
   "execution_count": null,
   "id": "28ef8ce4-9dc3-4375-a6fe-9a7862502394",
   "metadata": {},
   "outputs": [],
   "source": [
    "# find features with type == exon\n",
    "!grep \"Gnomon\tmRNA\" $gff > CV_mRNA.gff3"
   ]
  },
  {
   "cell_type": "markdown",
   "id": "1cd971ab-a050-4c7e-9293-7d556de49af0",
   "metadata": {},
   "source": [
    "60201 mRNA in CV genome"
   ]
  },
  {
   "cell_type": "code",
   "execution_count": 31,
   "id": "730f1186-b6b2-4bd7-a041-c59f289d9828",
   "metadata": {},
   "outputs": [],
   "source": [
    "!mRNAList=\"CV_mRNA.gff3\""
   ]
  },
  {
   "cell_type": "code",
   "execution_count": null,
   "id": "7d121001-a6ef-4d9f-b75b-6c25cb0704cd",
   "metadata": {},
   "outputs": [],
   "source": [
    "# convert gff file to BED file\n",
    "!awk '{print $1\"\\t\"$4\"\\t\"$5}' $mRNAList \\\n",
    "> CV_mRNA.bed"
   ]
  },
  {
   "cell_type": "markdown",
   "id": "3d34ecc4-8d61-4628-82e3-5284eb2decf1",
   "metadata": {},
   "source": [
    "## Intergenic regions\n",
    "regions that aren't genes\n",
    "\n",
    "`complementBed` to find regions that aren't genes, and `subtractBed` to remove exons and create this"
   ]
  },
  {
   "cell_type": "code",
   "execution_count": null,
   "id": "7ea54c0f-e76c-473f-89cb-5a4d40b03a63",
   "metadata": {},
   "outputs": [],
   "source": [
    "complementBed \\\n",
    "-i $geneList -sorted \\\n",
    "-g $chromLengths \\\n",
    "| subtractBed \\\n",
    "-a - \\\n",
    "-b $exonList \\\n",
    "> CV_intergenic.gff3"
   ]
  },
  {
   "cell_type": "code",
   "execution_count": 32,
   "id": "f6ec3a68-0c07-44ea-9740-5ade5f0d4cad",
   "metadata": {},
   "outputs": [],
   "source": [
    "!intergenicList=\"CV_intergenic.gff3\""
   ]
  },
  {
   "cell_type": "markdown",
   "id": "3a9ab69c-e6f6-439b-ad48-b904b4e7a814",
   "metadata": {},
   "source": [
    "39467 intergenic regions in CV genome"
   ]
  },
  {
   "cell_type": "code",
   "execution_count": null,
   "id": "537d0dbb-da48-4407-a084-61981937d9bf",
   "metadata": {},
   "outputs": [],
   "source": [
    "awk '{print $1\"\\t\"$2\"\\t\"$3}' $intergenicList \\\n",
    "> CV_intergenic.bed"
   ]
  },
  {
   "cell_type": "markdown",
   "id": "4c2ba160-fb9b-4a80-9ba7-3fed7262ace4",
   "metadata": {},
   "source": [
    "## non-coding sequences"
   ]
  },
  {
   "cell_type": "code",
   "execution_count": null,
   "id": "5f7a041f-2ae4-4bde-bb76-6d21bd686536",
   "metadata": {},
   "outputs": [],
   "source": [
    "complementBed -i $exonList -g $chromLengths > CV_noncoding.gff3"
   ]
  },
  {
   "cell_type": "code",
   "execution_count": 33,
   "id": "f23afdc1-fc48-414e-86b0-b0fc8efb7633",
   "metadata": {},
   "outputs": [],
   "source": [
    "!nonCDS=\"CV_noncoding.gff3\""
   ]
  },
  {
   "cell_type": "markdown",
   "id": "415086a7-2a80-48f3-a805-86c257bcdfb9",
   "metadata": {},
   "source": [
    "336677 non-coding sequences in CV genome"
   ]
  },
  {
   "cell_type": "code",
   "execution_count": null,
   "id": "eea20d55-d5d3-43a0-b54a-790d821e4584",
   "metadata": {},
   "outputs": [],
   "source": [
    "awk '{print $1\"\\t\"$2\"\\t\"$3}' $nonCDS \\\n",
    "> CV_noncoding.bed"
   ]
  },
  {
   "cell_type": "markdown",
   "id": "cf064496-016e-480f-acb5-fe83c335959f",
   "metadata": {},
   "source": [
    "### introns\n",
    "\n",
    "introns are the space between exons within a gene - so to pull this out, I have to look within a gene (LOC number), subtract the end of exon 1 from the start of exon 2\n",
    "\n",
    "\n",
    "can create GFF file of non-coding regions based on the original GFF file - then introns, by definition, are the intersections of non-coding regions and genes\n",
    "\n",
    "\n",
    "following pipeline from [Venkataraman et al 2020](https://www.frontiersin.org/journals/marine-science/articles/10.3389/fmars.2020.00225/full#h7)"
   ]
  },
  {
   "cell_type": "code",
   "execution_count": null,
   "id": "e5ed7a8d-2b86-4d41-9e48-00a52918af56",
   "metadata": {},
   "outputs": [],
   "source": [
    "# run in command line\n",
    "!intersectBed \\\n",
    "-a $nonCDS \\\n",
    "-b $geneList -sorted \\\n",
    "> CV_intron.gff3"
   ]
  },
  {
   "cell_type": "code",
   "execution_count": 34,
   "id": "147abcdf-8b05-4829-851a-fe2edb9a69cd",
   "metadata": {},
   "outputs": [],
   "source": [
    "!intronList=\"CV_intron.gff3\""
   ]
  },
  {
   "cell_type": "markdown",
   "id": "6044e050-ec95-4c5a-b1c7-4054607e033e",
   "metadata": {},
   "source": [
    "311168 introns in CV genome"
   ]
  },
  {
   "cell_type": "code",
   "execution_count": null,
   "id": "d89ad61b-d104-41ca-b4e0-b1cb36980e08",
   "metadata": {},
   "outputs": [],
   "source": [
    "awk '{print $1\"\\t\"$2\"\\t\"$3}' $intronList \\\n",
    "> CV_intron.bed"
   ]
  },
  {
   "cell_type": "markdown",
   "id": "07064336-b6ff-4be4-95b2-43670cb50ec1",
   "metadata": {},
   "source": [
    "### exon UTRs"
   ]
  },
  {
   "cell_type": "code",
   "execution_count": null,
   "id": "76cdce35-6b32-4f30-a30a-a1e3135ed3ce",
   "metadata": {},
   "outputs": [],
   "source": [
    "subtractBed -a $exonList -b $cdsList -sorted -g $chromLengths > CV_exonUTR.gff3"
   ]
  },
  {
   "cell_type": "code",
   "execution_count": 35,
   "id": "2b724e55-8f3e-463c-8068-4a8399fdfeb8",
   "metadata": {},
   "outputs": [],
   "source": [
    "!exonUTR=\"CV_exonUTR.gff3\""
   ]
  },
  {
   "cell_type": "markdown",
   "id": "dc472abd-a65c-498f-a703-7e437cd36093",
   "metadata": {},
   "source": [
    "9473 untranslated regions of exons in CV genome"
   ]
  },
  {
   "cell_type": "code",
   "execution_count": null,
   "id": "4deb0648-1e2d-4535-a7cd-9a5902703933",
   "metadata": {},
   "outputs": [],
   "source": [
    "awk '{print $1\"\\t\"$4\"\\t\"$5}' $exonUTR \\\n",
    "> CV_exonUTR.bed"
   ]
  },
  {
   "cell_type": "markdown",
   "id": "f3236acb-9456-4c80-a14a-917d1ec30e50",
   "metadata": {},
   "source": [
    "### putative promoters\n",
    "1KB upstream of transcription start site (TSS)\n",
    "\n",
    "can use `bedtools flank` to find flanking regions 1000bp upstream and downstream of mRNA - then can filter rows to only grab the upstream flank (odd rows) on the + strand which would be our putative promoters\n",
    "\n"
   ]
  },
  {
   "cell_type": "code",
   "execution_count": null,
   "id": "be6d6b3f-2862-4040-bc3b-60a81a3073d9",
   "metadata": {},
   "outputs": [],
   "source": [
    "flankBed -i $mRNAList -g $chromLengths -b 1000 > mRNA_1000bp_flanks.bed"
   ]
  },
  {
   "cell_type": "code",
   "execution_count": null,
   "id": "d1834d2f-a66e-4d98-a6da-81df06994e74",
   "metadata": {},
   "outputs": [],
   "source": [
    "flanks='mRNA_1000bp_flanks.bed'"
   ]
  },
  {
   "cell_type": "code",
   "execution_count": null,
   "id": "bc71e869-a0d7-4bdc-b3ad-1c70adec34ea",
   "metadata": {},
   "outputs": [],
   "source": [
    "wc -l mRNA_1000bp_flanks.bed"
   ]
  },
  {
   "cell_type": "markdown",
   "id": "3a870eb4-5e2e-45b8-9cb6-8bd2e776d294",
   "metadata": {},
   "source": [
    "120400"
   ]
  },
  {
   "cell_type": "markdown",
   "id": "ddf55374-29a5-4f80-9925-008ff2a15c0a",
   "metadata": {},
   "source": [
    "if row number is odd = upstream flank\n",
    "\n",
    "if row number is even = downstream flank"
   ]
  },
  {
   "cell_type": "code",
   "execution_count": null,
   "id": "36326bda-5222-4e15-a4a9-38f34c08623c",
   "metadata": {},
   "outputs": [],
   "source": [
    "awk '{ if (NR%2) print > \"mRNA_upstream_flanks.bed\"; \\\n",
    "else print > \"mRNA_downstream_flanks.bed\" }' \\\n",
    "$flanks"
   ]
  },
  {
   "cell_type": "code",
   "execution_count": null,
   "id": "eb8e81d8-ce79-4dfa-8e4e-9c5979acecf5",
   "metadata": {},
   "outputs": [],
   "source": [
    "upstream=\"mRNA_upstream_flanks.bed\"\n",
    "downstream=\"mRNA_downstream_flanks.bed\""
   ]
  },
  {
   "cell_type": "markdown",
   "id": "a971efc0-0f37-42d9-ae36-1413af269389",
   "metadata": {},
   "source": [
    "**upstream flanks**\n",
    "\n",
    "60200 upstream flanks\n",
    "\n",
    "**downstream flanks**\n",
    "60200 downstream flanks\n",
    "\n",
    "\n",
    "\n",
    "upstream flanks should only include + strands, downstream should only include - strands"
   ]
  },
  {
   "cell_type": "code",
   "execution_count": null,
   "id": "8392beec-64bd-4864-bed9-50464b94b918",
   "metadata": {},
   "outputs": [],
   "source": [
    "grep \".\t+\t.\" $upstream \\\n",
    "> mRNA_upstream_forward.bed\n",
    "\n",
    "wc -l mRNA_upstream_forward.bed"
   ]
  },
  {
   "cell_type": "markdown",
   "id": "e203dc76-e383-4515-91ca-ae2abedf5aff",
   "metadata": {},
   "source": [
    "30218"
   ]
  },
  {
   "cell_type": "code",
   "execution_count": null,
   "id": "77dacbb1-dd40-456d-85f0-c1521339a125",
   "metadata": {},
   "outputs": [],
   "source": [
    "grep \".\t-\t.\" $downstream \\\n",
    "> mRNA_downstream_reverse.bed\n",
    "\n",
    "wc -l mRNA_downstream_reverse.bed"
   ]
  },
  {
   "cell_type": "markdown",
   "id": "b58cc86b-79af-4bc7-8d21-e87b2f5afdf0",
   "metadata": {},
   "source": [
    "29982\n",
    "\n",
    "now combine upstream + and downstream - flanks to create promoter track"
   ]
  },
  {
   "cell_type": "code",
   "execution_count": null,
   "id": "1c418399-2e2c-42e1-a3c1-5c6248981aaf",
   "metadata": {},
   "outputs": [],
   "source": [
    "cat \\\n",
    "mRNA_upstream_forward.bed \\\n",
    "mRNA_downstream_reverse.bed \\\n",
    "> mRNA_promoter_track.bed"
   ]
  },
  {
   "cell_type": "code",
   "execution_count": 36,
   "id": "81358270-02d7-4d0e-b587-fe3f5ad98053",
   "metadata": {},
   "outputs": [],
   "source": [
    "!promoterTrack=\"mRNA_promoter_track.bed\""
   ]
  },
  {
   "cell_type": "markdown",
   "id": "92d0a9c0-bd30-49c5-9f60-9eac37f3b304",
   "metadata": {},
   "source": [
    "60200"
   ]
  },
  {
   "cell_type": "markdown",
   "id": "5eecceed-95ea-4bd6-8ac0-fcc4fcee5985",
   "metadata": {},
   "source": [
    "# Overlaps with CpG dinucleotides"
   ]
  },
  {
   "cell_type": "code",
   "execution_count": 57,
   "id": "d2f9a405-a3d1-40f7-93c3-7d0a89e5bfff",
   "metadata": {},
   "outputs": [
    {
     "name": "stdout",
     "output_type": "stream",
     "text": [
      "Error: Unable to open file -b. Exiting.\n",
      "\n",
      "ERROR conda.cli.main_run:execute(125): `conda run bedtools intersect -u -a -b /project/pi_sarah_gignouxwolfsohn_uml_edu/julia/CE_MethylRAD_analysis_2018/analysis/genomic_feature_tracks/CV_gene_sorted.bed` failed. (See above for error)\n",
      "0\n"
     ]
    }
   ],
   "source": [
    "!conda run -n bedtools bedtools intersect -u -a $cpgList -b /project/pi_sarah_gignouxwolfsohn_uml_edu/julia/CE_MethylRAD_analysis_2018/analysis/genomic_feature_tracks/CV_gene_sorted.bed | wc -l\n",
    "#echo \"total CpG dinucleotides in genes\""
   ]
  }
 ],
 "metadata": {
  "kernelspec": {
   "display_name": "Python 3 (ipykernel)",
   "language": "python",
   "name": "python3"
  },
  "language_info": {
   "codemirror_mode": {
    "name": "ipython",
    "version": 3
   },
   "file_extension": ".py",
   "mimetype": "text/x-python",
   "name": "python",
   "nbconvert_exporter": "python",
   "pygments_lexer": "ipython3",
   "version": "3.11.0"
  }
 },
 "nbformat": 4,
 "nbformat_minor": 5
}
