{
 "cells": [
  {
   "cell_type": "markdown",
   "id": "33751504-eb9c-424a-ba11-c4a2f06f51ab",
   "metadata": {},
   "source": [
    "# Generating genomic feature tracks"
   ]
  },
  {
   "cell_type": "code",
   "execution_count": 1,
   "id": "fbb09c99-7f92-4004-a638-47913bd28bc6",
   "metadata": {},
   "outputs": [],
   "source": [
    "!reference=\"/project/pi_sarah_gignouxwolfsohn_uml_edu/Reference_genomes/Cvirginica_genome/CV_genomic.gff\""
   ]
  },
  {
   "cell_type": "code",
   "execution_count": 5,
   "id": "038ffc2a-f1ec-4e5e-9724-74c97fe1a1c3",
   "metadata": {},
   "outputs": [
    {
     "data": {
      "text/plain": [
       "'/project/pi_sarah_gignouxwolfsohn_uml_edu/julia/CE_MethylRAD_analysis_2018/analysis/genomic_feature_tracks'"
      ]
     },
     "execution_count": 5,
     "metadata": {},
     "output_type": "execute_result"
    }
   ],
   "source": [
    "pwd"
   ]
  },
  {
   "cell_type": "markdown",
   "id": "d32faf76-7cd3-4708-a95b-8bc4805a10dc",
   "metadata": {},
   "source": [
    "## Genes"
   ]
  },
  {
   "cell_type": "code",
   "execution_count": 8,
   "id": "cd9317d1-8583-4998-9c5e-e939ebf44422",
   "metadata": {},
   "outputs": [
    {
     "name": "stdout",
     "output_type": "stream",
     "text": [
      "^C\n"
     ]
    }
   ],
   "source": [
    "# find features with type == gene\n",
    "!grep \"Gnomon\tgene\" $reference > CV_gene.gff"
   ]
  },
  {
   "cell_type": "code",
   "execution_count": null,
   "id": "9fa679a2-911f-4a44-83d6-1b35c1761d5d",
   "metadata": {},
   "outputs": [],
   "source": [
    "# convert gff file to BED file\n",
    "!awk '{print $1\"\\t\"$4\"\\t\"$5}' CV_gene.gff \\\n",
    "> CV_gene.bed"
   ]
  },
  {
   "cell_type": "markdown",
   "id": "9e7795fc-9ba4-455e-b330-c440f2311abd",
   "metadata": {},
   "source": [
    "## Exons"
   ]
  },
  {
   "cell_type": "code",
   "execution_count": null,
   "id": "234e0f9a-cf5f-43d3-bc9e-ebee7ec3db52",
   "metadata": {},
   "outputs": [],
   "source": [
    "# find features with type == exon\n",
    "!grep \"Gnomon\texon\" $reference > CV_exon.gff"
   ]
  },
  {
   "cell_type": "code",
   "execution_count": null,
   "id": "f867eed3-978e-43f4-a1d3-c68c6eb374cd",
   "metadata": {},
   "outputs": [],
   "source": [
    "# convert gff file to BED file\n",
    "!awk '{print $1\"\\t\"$4\"\\t\"$5}' CV_exon.gff \\\n",
    "> CV_exon.bed"
   ]
  },
  {
   "cell_type": "markdown",
   "id": "5f4ad2e6-457c-4edd-a593-c4266170aa4c",
   "metadata": {},
   "source": [
    "## CDS"
   ]
  },
  {
   "cell_type": "code",
   "execution_count": null,
   "id": "8b87e170-ba46-497c-9186-bb32e8ebdcd4",
   "metadata": {},
   "outputs": [],
   "source": [
    "# find features with type == exon\n",
    "!grep \"Gnomon\tCDS\" $reference > CV_CDS.gff"
   ]
  },
  {
   "cell_type": "code",
   "execution_count": null,
   "id": "b579b834-886b-4d10-b5a7-841d61c07fe4",
   "metadata": {},
   "outputs": [],
   "source": [
    "# convert gff file to BED file\n",
    "!awk '{print $1\"\\t\"$4\"\\t\"$5}' CV_CDS.gff \\\n",
    "> CV_CDS.bed"
   ]
  },
  {
   "cell_type": "markdown",
   "id": "4011c269-1953-4ba5-bb61-0e1420bf7dea",
   "metadata": {},
   "source": [
    "## mRNA"
   ]
  },
  {
   "cell_type": "code",
   "execution_count": null,
   "id": "28ef8ce4-9dc3-4375-a6fe-9a7862502394",
   "metadata": {},
   "outputs": [],
   "source": [
    "# find features with type == exon\n",
    "!grep \"Gnomon\tmRNA\" $reference > CV_mRNA.gff"
   ]
  },
  {
   "cell_type": "code",
   "execution_count": null,
   "id": "7d121001-a6ef-4d9f-b75b-6c25cb0704cd",
   "metadata": {},
   "outputs": [],
   "source": [
    "# convert gff file to BED file\n",
    "!awk '{print $1\"\\t\"$4\"\\t\"$5}' CV_mRNA.gff \\\n",
    "> CV_mRNA.bed"
   ]
  },
  {
   "cell_type": "markdown",
   "id": "3d34ecc4-8d61-4628-82e3-5284eb2decf1",
   "metadata": {},
   "source": [
    "## Intergenic regions\n",
    "regions that aren't genes\n",
    "\n",
    "`complementBed` to find regions that aren't genes, and `subtractBed` to remove exons and create this"
   ]
  }
 ],
 "metadata": {
  "kernelspec": {
   "display_name": "Python 3 (ipykernel)",
   "language": "python",
   "name": "python3"
  },
  "language_info": {
   "codemirror_mode": {
    "name": "ipython",
    "version": 3
   },
   "file_extension": ".py",
   "mimetype": "text/x-python",
   "name": "python",
   "nbconvert_exporter": "python",
   "pygments_lexer": "ipython3",
   "version": "3.11.0"
  }
 },
 "nbformat": 4,
 "nbformat_minor": 5
}
