{
 "cells": [
  {
   "cell_type": "markdown",
   "id": "33751504-eb9c-424a-ba11-c4a2f06f51ab",
   "metadata": {},
   "source": [
    "# Generating genomic feature tracks"
   ]
  },
  {
   "cell_type": "code",
   "execution_count": 1,
   "id": "fbb09c99-7f92-4004-a638-47913bd28bc6",
   "metadata": {},
   "outputs": [],
   "source": [
    "!reference=\"/project/pi_sarah_gignouxwolfsohn_uml_edu/Reference_genomes/Cvirginica_genome/CV_genomic.gff\""
   ]
  },
  {
   "cell_type": "code",
   "execution_count": 5,
   "id": "038ffc2a-f1ec-4e5e-9724-74c97fe1a1c3",
   "metadata": {},
   "outputs": [
    {
     "data": {
      "text/plain": [
       "'/project/pi_sarah_gignouxwolfsohn_uml_edu/julia/CE_MethylRAD_analysis_2018/analysis/genomic_feature_tracks'"
      ]
     },
     "execution_count": 5,
     "metadata": {},
     "output_type": "execute_result"
    }
   ],
   "source": [
    "pwd"
   ]
  },
  {
   "cell_type": "markdown",
   "id": "d32faf76-7cd3-4708-a95b-8bc4805a10dc",
   "metadata": {},
   "source": [
    "## Genes"
   ]
  },
  {
   "cell_type": "code",
   "execution_count": 8,
   "id": "cd9317d1-8583-4998-9c5e-e939ebf44422",
   "metadata": {},
   "outputs": [
    {
     "name": "stdout",
     "output_type": "stream",
     "text": [
      "^C\n"
     ]
    }
   ],
   "source": [
    "# find features with type == gene\n",
    "!grep \"Gnomon\tgene\" $reference > CV_gene.gff"
   ]
  },
  {
   "cell_type": "code",
   "execution_count": null,
   "id": "9fa679a2-911f-4a44-83d6-1b35c1761d5d",
   "metadata": {},
   "outputs": [],
   "source": [
    "# convert gff file to BED file\n",
    "!awk '{print $1\"\\t\"$4\"\\t\"$5}' CV_gene.gff \\\n",
    "> CV_gene.bed"
   ]
  },
  {
   "cell_type": "markdown",
   "id": "9e7795fc-9ba4-455e-b330-c440f2311abd",
   "metadata": {},
   "source": [
    "## Exons"
   ]
  },
  {
   "cell_type": "code",
   "execution_count": null,
   "id": "234e0f9a-cf5f-43d3-bc9e-ebee7ec3db52",
   "metadata": {},
   "outputs": [],
   "source": [
    "# find features with type == exon\n",
    "!grep \"Gnomon\texon\" $reference > CV_exon.gff"
   ]
  },
  {
   "cell_type": "code",
   "execution_count": null,
   "id": "f867eed3-978e-43f4-a1d3-c68c6eb374cd",
   "metadata": {},
   "outputs": [],
   "source": [
    "# convert gff file to BED file\n",
    "!awk '{print $1\"\\t\"$4\"\\t\"$5}' CV_exon.gff \\\n",
    "> CV_exon.bed"
   ]
  },
  {
   "cell_type": "markdown",
   "id": "5f4ad2e6-457c-4edd-a593-c4266170aa4c",
   "metadata": {},
   "source": [
    "## CDS"
   ]
  },
  {
   "cell_type": "code",
   "execution_count": null,
   "id": "8b87e170-ba46-497c-9186-bb32e8ebdcd4",
   "metadata": {},
   "outputs": [],
   "source": [
    "# find features with type == exon\n",
    "!grep \"Gnomon\tCDS\" $reference > CV_CDS.gff"
   ]
  },
  {
   "cell_type": "code",
   "execution_count": null,
   "id": "b579b834-886b-4d10-b5a7-841d61c07fe4",
   "metadata": {},
   "outputs": [],
   "source": [
    "# convert gff file to BED file\n",
    "!awk '{print $1\"\\t\"$4\"\\t\"$5}' CV_CDS.gff \\\n",
    "> CV_CDS.bed"
   ]
  },
  {
   "cell_type": "markdown",
   "id": "4011c269-1953-4ba5-bb61-0e1420bf7dea",
   "metadata": {},
   "source": [
    "## mRNA"
   ]
  },
  {
   "cell_type": "code",
   "execution_count": null,
   "id": "28ef8ce4-9dc3-4375-a6fe-9a7862502394",
   "metadata": {},
   "outputs": [],
   "source": [
    "# find features with type == exon\n",
    "!grep \"Gnomon\tmRNA\" $reference > CV_mRNA.gff"
   ]
  },
  {
   "cell_type": "code",
   "execution_count": null,
   "id": "7d121001-a6ef-4d9f-b75b-6c25cb0704cd",
   "metadata": {},
   "outputs": [],
   "source": [
    "# convert gff file to BED file\n",
    "!awk '{print $1\"\\t\"$4\"\\t\"$5}' CV_mRNA.gff \\\n",
    "> CV_mRNA.bed"
   ]
  },
  {
   "cell_type": "markdown",
   "id": "c07813d8-3446-4750-b650-d07468d1e13b",
   "metadata": {},
   "source": [
    "### introns\n",
    "\n",
    "introns are the space between exons within a gene - so to pull this out, I have to look within a gene (LOC number), subtract the end of exon 1 from the start of exon 2\n",
    "\n",
    "\n",
    "can create GFF file of non-coding regions based on the original GFF file - then introns, by definition, are the intersections of non-coding regions and genes\n",
    "\n",
    "\n",
    "following pipeline from [Venkataraman et al 2020](https://www.frontiersin.org/journals/marine-science/articles/10.3389/fmars.2020.00225/full#h7)"
   ]
  },
  {
   "cell_type": "code",
   "execution_count": null,
   "id": "e9390632-7d98-44bb-a5d3-19f7f181f9c3",
   "metadata": {},
   "outputs": [],
   "source": [
    "# run in command line\n",
    "complementBed -i CV_sorted_exons.gff3 -g 2018-06-15-bedtools-Chromosome-Lengths.txt > CV_noncoding.gff3"
   ]
  },
  {
   "cell_type": "code",
   "execution_count": null,
   "id": "e5ed7a8d-2b86-4d41-9e48-00a52918af56",
   "metadata": {},
   "outputs": [],
   "source": [
    "# run in command line\n",
    "!intersectBed \\\n",
    "-a CV_noncoding.gff3 \\\n",
    "-b CV_sorted_gene.gff3 -sorted \\\n",
    "> CV_sorted_intron.gff3"
   ]
  },
  {
   "cell_type": "markdown",
   "id": "3d34ecc4-8d61-4628-82e3-5284eb2decf1",
   "metadata": {},
   "source": [
    "## Intergenic regions\n",
    "regions that aren't genes\n",
    "\n",
    "`complementBed` to find regions that aren't genes, and `subtractBed` to remove exons and create this"
   ]
  },
  {
   "cell_type": "code",
   "execution_count": null,
   "id": "90d2ea04-d790-4483-9a1f-cdefa63ddb28",
   "metadata": {},
   "outputs": [],
   "source": [
    "samtools faidx /project/pi_sarah_gignouxwolfsohn_uml_edu/Reference_genomes/Cvirginica_genome/GCF_002022765.2_C_virginica-3.0_genomic.fna\n",
    "awk '{print $1, $3-$2}' /project/pi_sarah_gignouxwolfsohn_uml_edu/Reference_genomes/Cvirginica_genome/GCF_002022765.2_C_virginica-3.0_genomic.fna.fai > /project/pi_sarah_gignouxwolfsohn_uml_edu/Reference_genomes/Cvirginica_genome/GCF_C_virginica-3.0_genomic.fai"
   ]
  },
  {
   "cell_type": "code",
   "execution_count": null,
   "id": "cc33d8e9-44fe-4062-bd11-999ad3a25a25",
   "metadata": {},
   "outputs": [],
   "source": [
    "genes=\"/project/pi_sarah_gignouxwolfsohn_uml_edu/julia/CE_MethylRAD_analysis_2018/analysis/genomic_feature_tracks/CV_gene.bed\"\n",
    "genome=\"/project/pi_sarah_gignouxwolfsohn_uml_edu/julia/CE_MethylRAD_analysis_2018/analysis/genomic_feature_tracks/2018-06-15-bedtools-Chromosome-Lengths.txt\"\n",
    "output_dir=\"/project/pi_sarah_gignouxwolfsohn_uml_edu/julia/CE_MethylRAD_analysis_2018/analysis/genomic_feature_tracks/\"\n",
    "\n",
    "bedtools complement -i $genes -g $genome > ${output_dir}CV_intergenic.gff3"
   ]
  },
  {
   "cell_type": "markdown",
   "id": "f3236acb-9456-4c80-a14a-917d1ec30e50",
   "metadata": {},
   "source": [
    "### putative promoters\n",
    "1KB upstream of transcription start site (TSS)\n",
    "\n",
    "can use `bedtools flank` to find flanking regions 1000bp upstream and downstream of mRNA - then can filter rows to only grab the upstream flank (odd rows) on the + strand which would be our putative promoters\n",
    "\n"
   ]
  },
  {
   "cell_type": "code",
   "execution_count": null,
   "id": "7bdac728-a55f-4629-8286-764c03bca40b",
   "metadata": {},
   "outputs": [],
   "source": [
    "mRNA=\"/project/pi_sarah_gignouxwolfsohn_uml_edu/julia/CE_MethylRAD_analysis_2018/analysis/genomic_feature_tracks/CV_mRNA.gff3\"\n",
    "\n",
    "grep \".\t+\t.\" $mRNA > ${output_dir}CV_+strand_mRNA.bed"
   ]
  },
  {
   "cell_type": "code",
   "execution_count": null,
   "id": "b9f6650c-6e73-4a16-bfbe-0958521fe442",
   "metadata": {},
   "outputs": [],
   "source": [
    "pos_mRNA=\"/project/pi_sarah_gignouxwolfsohn_uml_edu/julia/CE_MethylRAD_analysis_2018/analysis/genomic_feature_tracks/CV_+strand_mRNA.bed\"\n",
    "\n",
    "flankBed -i $pos_mRNA -g $genome -b 1000 > mRNA_1000bp_flanks.bed"
   ]
  },
  {
   "cell_type": "code",
   "execution_count": null,
   "id": "c0f6dacf-ee42-4fc2-b8ce-787039e78a6e",
   "metadata": {},
   "outputs": [],
   "source": [
    "flanks=\"/project/pi_sarah_gignouxwolfsohn_uml_edu/julia/CE_MethylRAD_analysis_2018/analysis/genomic_feature_tracks/mRNA_1000bp_flanks.bed\"\n",
    "\n",
    "awk '{ if (NR%2) print > \"mRNA_upstream_flanks.bed\"; \\\n",
    "else print > \"mRNA_downstream_flanks.bed\" }' \\\n",
    "$flanks"
   ]
  },
  {
   "cell_type": "markdown",
   "id": "d71640c8-80e1-45b1-8ca0-031353736652",
   "metadata": {},
   "source": [
    "### exon UTRs"
   ]
  },
  {
   "cell_type": "code",
   "execution_count": null,
   "id": "54725b30-709c-4040-9aec-96d44908625d",
   "metadata": {},
   "outputs": [],
   "source": [
    "exons=\"/project/pi_sarah_gignouxwolfsohn_uml_edu/julia/CE_MethylRAD_analysis_2018/analysis/genomic_feature_tracks/CV_sorted_exon.bed\"\n",
    "CDS=\"/project/pi_sarah_gignouxwolfsohn_uml_edu/julia/CE_MethylRAD_analysis_2018/analysis/genomic_feature_tracks/CV_CDS.bed\""
   ]
  },
  {
   "cell_type": "code",
   "execution_count": null,
   "id": "70b455ff-da9c-449e-bba9-4dae50073e14",
   "metadata": {},
   "outputs": [],
   "source": [
    "bedtools sort -i $CDS > ${output_dir}CV_sorted_CDS.gff3\n",
    "\n",
    "CDS_sorted=\"/project/pi_sarah_gignouxwolfsohn_uml_edu/julia/CE_MethylRAD_analysis_2018/analysis/genomic_feature_tracks/CV_sorted_CDS.gff3\""
   ]
  },
  {
   "cell_type": "code",
   "execution_count": null,
   "id": "76cdce35-6b32-4f30-a30a-a1e3135ed3ce",
   "metadata": {},
   "outputs": [],
   "source": [
    "subtractBed -a $exons -b $CDS_sorted -sorted -g $genome > ${output_dir}CV_exonUTR.gff3"
   ]
  },
  {
   "cell_type": "markdown",
   "id": "6a32abe4-58f2-459b-bfb6-41bac1f6a5cc",
   "metadata": {},
   "source": [
    "### transposable elements"
   ]
  }
 ],
 "metadata": {
  "kernelspec": {
   "display_name": "Python 3 (ipykernel)",
   "language": "python",
   "name": "python3"
  },
  "language_info": {
   "codemirror_mode": {
    "name": "ipython",
    "version": 3
   },
   "file_extension": ".py",
   "mimetype": "text/x-python",
   "name": "python",
   "nbconvert_exporter": "python",
   "pygments_lexer": "ipython3",
   "version": "3.11.0"
  }
 },
 "nbformat": 4,
 "nbformat_minor": 5
}
