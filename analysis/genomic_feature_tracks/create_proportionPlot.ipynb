{
 "cells": [
  {
   "cell_type": "markdown",
   "id": "cf9b1f41-2b17-4f32-901d-ce0e69a12910",
   "metadata": {},
   "source": [
    "# Proportion Overlap \n",
    "\n",
    "First, looking at all CpGs and what genomic feature they overlap. Then, looking at the methylated CpGs for each treatment combination and seeing what genomic features they overlap.\n",
    "\n",
    "Then want to know if there is a difference in the proportion of methylated CpGs that overlap with genomic features. I'll do a chi-squared test of homogeneity to calculate stats on this. \n",
    "\n",
    "The null hypothesis that the methylated CpGs are independent of genomic location"
   ]
  },
  {
   "cell_type": "code",
   "execution_count": 12,
   "id": "a1a9cfdc-818d-4da0-8e47-58a865dc1014",
   "metadata": {},
   "outputs": [],
   "source": [
    "library(tidyverse)\n",
    "library(RColorBrewer)"
   ]
  },
  {
   "cell_type": "code",
   "execution_count": 3,
   "id": "042b981e-1329-4a71-9796-98827a81a175",
   "metadata": {},
   "outputs": [
    {
     "data": {
      "text/html": [
       "<table class=\"dataframe\">\n",
       "<caption>A data.frame: 30 × 5</caption>\n",
       "<thead>\n",
       "\t<tr><th scope=col>genomicFeature</th><th scope=col>treatment</th><th scope=col>propOverlap</th><th scope=col>propOverlap_sum</th><th scope=col>proportion_overlap</th></tr>\n",
       "\t<tr><th scope=col>&lt;chr&gt;</th><th scope=col>&lt;chr&gt;</th><th scope=col>&lt;int&gt;</th><th scope=col>&lt;int&gt;</th><th scope=col>&lt;dbl&gt;</th></tr>\n",
       "</thead>\n",
       "<tbody>\n",
       "\t<tr><td>TE              </td><td>CC    </td><td>  16875</td><td>  132243</td><td>0.12760600</td></tr>\n",
       "\t<tr><td>exons           </td><td>CC    </td><td>  57957</td><td>  132243</td><td>0.43826138</td></tr>\n",
       "\t<tr><td>introns         </td><td>CC    </td><td>  29638</td><td>  132243</td><td>0.22411772</td></tr>\n",
       "\t<tr><td>putativePromoter</td><td>CC    </td><td>   3529</td><td>  132243</td><td>0.02668572</td></tr>\n",
       "\t<tr><td>UTRs            </td><td>CC    </td><td>   4165</td><td>  132243</td><td>0.03149505</td></tr>\n",
       "\t<tr><td>intergenic      </td><td>CC    </td><td>  20079</td><td>  132243</td><td>0.15183412</td></tr>\n",
       "\t<tr><td>TE              </td><td>CH    </td><td>   6346</td><td>   54342</td><td>0.11677892</td></tr>\n",
       "\t<tr><td>exons           </td><td>CH    </td><td>  26233</td><td>   54342</td><td>0.48273895</td></tr>\n",
       "\t<tr><td>introns         </td><td>CH    </td><td>  12045</td><td>   54342</td><td>0.22165176</td></tr>\n",
       "\t<tr><td>putativePromoter</td><td>CH    </td><td>   1606</td><td>   54342</td><td>0.02955357</td></tr>\n",
       "\t<tr><td>UTRs            </td><td>CH    </td><td>   1545</td><td>   54342</td><td>0.02843105</td></tr>\n",
       "\t<tr><td>intergenic      </td><td>CH    </td><td>   6567</td><td>   54342</td><td>0.12084575</td></tr>\n",
       "\t<tr><td>TE              </td><td>HC    </td><td>  24506</td><td>  179839</td><td>0.13626633</td></tr>\n",
       "\t<tr><td>exons           </td><td>HC    </td><td>  68256</td><td>  179839</td><td>0.37953948</td></tr>\n",
       "\t<tr><td>introns         </td><td>HC    </td><td>  43310</td><td>  179839</td><td>0.24082652</td></tr>\n",
       "\t<tr><td>putativePromoter</td><td>HC    </td><td>   5650</td><td>  179839</td><td>0.03141699</td></tr>\n",
       "\t<tr><td>UTRs            </td><td>HC    </td><td>   5164</td><td>  179839</td><td>0.02871457</td></tr>\n",
       "\t<tr><td>intergenic      </td><td>HC    </td><td>  32953</td><td>  179839</td><td>0.18323612</td></tr>\n",
       "\t<tr><td>TE              </td><td>HH    </td><td>  22736</td><td>  163205</td><td>0.13930946</td></tr>\n",
       "\t<tr><td>exons           </td><td>HH    </td><td>  64813</td><td>  163205</td><td>0.39712631</td></tr>\n",
       "\t<tr><td>introns         </td><td>HH    </td><td>  37891</td><td>  163205</td><td>0.23216813</td></tr>\n",
       "\t<tr><td>putativePromoter</td><td>HH    </td><td>   4889</td><td>  163205</td><td>0.02995619</td></tr>\n",
       "\t<tr><td>UTRs            </td><td>HH    </td><td>   4843</td><td>  163205</td><td>0.02967434</td></tr>\n",
       "\t<tr><td>intergenic      </td><td>HH    </td><td>  28033</td><td>  163205</td><td>0.17176557</td></tr>\n",
       "\t<tr><td>TE              </td><td>allCpG</td><td>2828372</td><td>18821290</td><td>0.15027514</td></tr>\n",
       "\t<tr><td>exons           </td><td>allCpG</td><td>2323389</td><td>18821290</td><td>0.12344473</td></tr>\n",
       "\t<tr><td>introns         </td><td>allCpG</td><td>5497874</td><td>18821290</td><td>0.29210931</td></tr>\n",
       "\t<tr><td>putativePromoter</td><td>allCpG</td><td> 926518</td><td>18821290</td><td>0.04922713</td></tr>\n",
       "\t<tr><td>UTRs            </td><td>allCpG</td><td> 600840</td><td>18821290</td><td>0.03192342</td></tr>\n",
       "\t<tr><td>intergenic      </td><td>allCpG</td><td>6644297</td><td>18821290</td><td>0.35302028</td></tr>\n",
       "</tbody>\n",
       "</table>\n"
      ],
      "text/latex": [
       "A data.frame: 30 × 5\n",
       "\\begin{tabular}{lllll}\n",
       " genomicFeature & treatment & propOverlap & propOverlap\\_sum & proportion\\_overlap\\\\\n",
       " <chr> & <chr> & <int> & <int> & <dbl>\\\\\n",
       "\\hline\n",
       "\t TE               & CC     &   16875 &   132243 & 0.12760600\\\\\n",
       "\t exons            & CC     &   57957 &   132243 & 0.43826138\\\\\n",
       "\t introns          & CC     &   29638 &   132243 & 0.22411772\\\\\n",
       "\t putativePromoter & CC     &    3529 &   132243 & 0.02668572\\\\\n",
       "\t UTRs             & CC     &    4165 &   132243 & 0.03149505\\\\\n",
       "\t intergenic       & CC     &   20079 &   132243 & 0.15183412\\\\\n",
       "\t TE               & CH     &    6346 &    54342 & 0.11677892\\\\\n",
       "\t exons            & CH     &   26233 &    54342 & 0.48273895\\\\\n",
       "\t introns          & CH     &   12045 &    54342 & 0.22165176\\\\\n",
       "\t putativePromoter & CH     &    1606 &    54342 & 0.02955357\\\\\n",
       "\t UTRs             & CH     &    1545 &    54342 & 0.02843105\\\\\n",
       "\t intergenic       & CH     &    6567 &    54342 & 0.12084575\\\\\n",
       "\t TE               & HC     &   24506 &   179839 & 0.13626633\\\\\n",
       "\t exons            & HC     &   68256 &   179839 & 0.37953948\\\\\n",
       "\t introns          & HC     &   43310 &   179839 & 0.24082652\\\\\n",
       "\t putativePromoter & HC     &    5650 &   179839 & 0.03141699\\\\\n",
       "\t UTRs             & HC     &    5164 &   179839 & 0.02871457\\\\\n",
       "\t intergenic       & HC     &   32953 &   179839 & 0.18323612\\\\\n",
       "\t TE               & HH     &   22736 &   163205 & 0.13930946\\\\\n",
       "\t exons            & HH     &   64813 &   163205 & 0.39712631\\\\\n",
       "\t introns          & HH     &   37891 &   163205 & 0.23216813\\\\\n",
       "\t putativePromoter & HH     &    4889 &   163205 & 0.02995619\\\\\n",
       "\t UTRs             & HH     &    4843 &   163205 & 0.02967434\\\\\n",
       "\t intergenic       & HH     &   28033 &   163205 & 0.17176557\\\\\n",
       "\t TE               & allCpG & 2828372 & 18821290 & 0.15027514\\\\\n",
       "\t exons            & allCpG & 2323389 & 18821290 & 0.12344473\\\\\n",
       "\t introns          & allCpG & 5497874 & 18821290 & 0.29210931\\\\\n",
       "\t putativePromoter & allCpG &  926518 & 18821290 & 0.04922713\\\\\n",
       "\t UTRs             & allCpG &  600840 & 18821290 & 0.03192342\\\\\n",
       "\t intergenic       & allCpG & 6644297 & 18821290 & 0.35302028\\\\\n",
       "\\end{tabular}\n"
      ],
      "text/markdown": [
       "\n",
       "A data.frame: 30 × 5\n",
       "\n",
       "| genomicFeature &lt;chr&gt; | treatment &lt;chr&gt; | propOverlap &lt;int&gt; | propOverlap_sum &lt;int&gt; | proportion_overlap &lt;dbl&gt; |\n",
       "|---|---|---|---|---|\n",
       "| TE               | CC     |   16875 |   132243 | 0.12760600 |\n",
       "| exons            | CC     |   57957 |   132243 | 0.43826138 |\n",
       "| introns          | CC     |   29638 |   132243 | 0.22411772 |\n",
       "| putativePromoter | CC     |    3529 |   132243 | 0.02668572 |\n",
       "| UTRs             | CC     |    4165 |   132243 | 0.03149505 |\n",
       "| intergenic       | CC     |   20079 |   132243 | 0.15183412 |\n",
       "| TE               | CH     |    6346 |    54342 | 0.11677892 |\n",
       "| exons            | CH     |   26233 |    54342 | 0.48273895 |\n",
       "| introns          | CH     |   12045 |    54342 | 0.22165176 |\n",
       "| putativePromoter | CH     |    1606 |    54342 | 0.02955357 |\n",
       "| UTRs             | CH     |    1545 |    54342 | 0.02843105 |\n",
       "| intergenic       | CH     |    6567 |    54342 | 0.12084575 |\n",
       "| TE               | HC     |   24506 |   179839 | 0.13626633 |\n",
       "| exons            | HC     |   68256 |   179839 | 0.37953948 |\n",
       "| introns          | HC     |   43310 |   179839 | 0.24082652 |\n",
       "| putativePromoter | HC     |    5650 |   179839 | 0.03141699 |\n",
       "| UTRs             | HC     |    5164 |   179839 | 0.02871457 |\n",
       "| intergenic       | HC     |   32953 |   179839 | 0.18323612 |\n",
       "| TE               | HH     |   22736 |   163205 | 0.13930946 |\n",
       "| exons            | HH     |   64813 |   163205 | 0.39712631 |\n",
       "| introns          | HH     |   37891 |   163205 | 0.23216813 |\n",
       "| putativePromoter | HH     |    4889 |   163205 | 0.02995619 |\n",
       "| UTRs             | HH     |    4843 |   163205 | 0.02967434 |\n",
       "| intergenic       | HH     |   28033 |   163205 | 0.17176557 |\n",
       "| TE               | allCpG | 2828372 | 18821290 | 0.15027514 |\n",
       "| exons            | allCpG | 2323389 | 18821290 | 0.12344473 |\n",
       "| introns          | allCpG | 5497874 | 18821290 | 0.29210931 |\n",
       "| putativePromoter | allCpG |  926518 | 18821290 | 0.04922713 |\n",
       "| UTRs             | allCpG |  600840 | 18821290 | 0.03192342 |\n",
       "| intergenic       | allCpG | 6644297 | 18821290 | 0.35302028 |\n",
       "\n"
      ],
      "text/plain": [
       "   genomicFeature   treatment propOverlap propOverlap_sum proportion_overlap\n",
       "1  TE               CC          16875       132243        0.12760600        \n",
       "2  exons            CC          57957       132243        0.43826138        \n",
       "3  introns          CC          29638       132243        0.22411772        \n",
       "4  putativePromoter CC           3529       132243        0.02668572        \n",
       "5  UTRs             CC           4165       132243        0.03149505        \n",
       "6  intergenic       CC          20079       132243        0.15183412        \n",
       "7  TE               CH           6346        54342        0.11677892        \n",
       "8  exons            CH          26233        54342        0.48273895        \n",
       "9  introns          CH          12045        54342        0.22165176        \n",
       "10 putativePromoter CH           1606        54342        0.02955357        \n",
       "11 UTRs             CH           1545        54342        0.02843105        \n",
       "12 intergenic       CH           6567        54342        0.12084575        \n",
       "13 TE               HC          24506       179839        0.13626633        \n",
       "14 exons            HC          68256       179839        0.37953948        \n",
       "15 introns          HC          43310       179839        0.24082652        \n",
       "16 putativePromoter HC           5650       179839        0.03141699        \n",
       "17 UTRs             HC           5164       179839        0.02871457        \n",
       "18 intergenic       HC          32953       179839        0.18323612        \n",
       "19 TE               HH          22736       163205        0.13930946        \n",
       "20 exons            HH          64813       163205        0.39712631        \n",
       "21 introns          HH          37891       163205        0.23216813        \n",
       "22 putativePromoter HH           4889       163205        0.02995619        \n",
       "23 UTRs             HH           4843       163205        0.02967434        \n",
       "24 intergenic       HH          28033       163205        0.17176557        \n",
       "25 TE               allCpG    2828372     18821290        0.15027514        \n",
       "26 exons            allCpG    2323389     18821290        0.12344473        \n",
       "27 introns          allCpG    5497874     18821290        0.29210931        \n",
       "28 putativePromoter allCpG     926518     18821290        0.04922713        \n",
       "29 UTRs             allCpG     600840     18821290        0.03192342        \n",
       "30 intergenic       allCpG    6644297     18821290        0.35302028        "
      ]
     },
     "metadata": {},
     "output_type": "display_data"
    }
   ],
   "source": [
    "df <- read.csv('/project/pi_sarah_gignouxwolfsohn_uml_edu/julia/CE_MethylRAD_analysis_2018/analysis/genomic_feature_tracks/propOverlap_decimal.csv')\n",
    "df"
   ]
  },
  {
   "cell_type": "code",
   "execution_count": 11,
   "id": "6dbeeb14-8093-448c-a55a-0792c4204277",
   "metadata": {},
   "outputs": [
    {
     "data": {
      "image/png": "[encoded data removed]",
      "text/plain": [
       "plot without title"
      ]
     },
     "metadata": {
      "image/png": {
       "height": 600,
       "width": 900
      }
     },
     "output_type": "display_data"
    }
   ],
   "source": [
    "options(repr.plot.width=15, repr.plot.height=10)\n",
    "\n",
    "propOv <- ggplot(df) +\n",
    " aes(x = treatment, y = proportion_overlap, fill = genomicFeature) +\n",
    " geom_col() +\n",
    " scale_fill_brewer(palette = \"GnBu\", \n",
    " direction = 1) +\n",
    "  geom_col(color = \"black\", size = 0.25) +\n",
    " labs(x = \"All CpGs and Methylated CpGs per Treatment\", y = \"Proportion Overlap\", \n",
    " fill = \"Genomic Feature\") +\n",
    " theme_classic()\n",
    "\n",
    "propOv"
   ]
  },
  {
   "cell_type": "code",
   "execution_count": 13,
   "id": "9714156b-5d5f-42de-8293-550bd86841f1",
   "metadata": {},
   "outputs": [],
   "source": [
    "ggsave('/project/pi_sarah_gignouxwolfsohn_uml_edu/julia/CE_MethylRAD_analysis_2018/analysis/figures/propOverlap.pdf', propOv, width=15, height=10)"
   ]
  },
  {
   "cell_type": "markdown",
   "id": "8ceeae12-b32d-48df-a321-40706bcad9be",
   "metadata": {},
   "source": [
    "So the allCpG column shows us the proportion of CpG dinucleotides that overlap with genomic features in the CV genome\n",
    "\n",
    "CC, CH, HC, and HH show the proportion of *methylated* CpG dinucleotides. We might expect that the distribution of methylated CpGs would be even across genomic features, and therefore reflect the allCpGs column. However, that is not what is being observed - meaning, some genomic features (exons, intergenic regions, promoters) are being disproportionately methylated from what is expected. \n",
    "\n",
    "We can then compare CH, HC, and HH to CC to observe differences of methylation distibution in response to varying hypoxic stress.\n",
    "\n",
    "\n",
    "Even though a first exposure to hypoxia results in more methylation of exons compared to first exposure of control (see [figure](https://github.com/jgmcdonough/CE18_methylRAD_analysis/blob/master/analysis/figures/exonMe_barplot.pdf)), the proportiong of methylation in exons are less in HC and HH compared to CC and CH."
   ]
  },
  {
   "cell_type": "markdown",
   "id": "581d4fb2-0964-4077-8912-6a434df7a997",
   "metadata": {},
   "source": [
    "### Conduct chi-squared tests of homogeneity\n",
    "\n",
    "total vs. CC"
   ]
  },
  {
   "cell_type": "code",
   "execution_count": 28,
   "id": "01144c34-58a4-449c-aca1-0d97f2945fb9",
   "metadata": {},
   "outputs": [
    {
     "name": "stderr",
     "output_type": "stream",
     "text": [
      "Warning message in chisq.test(allCpG, cc):\n",
      "“Chi-squared approximation may be incorrect”\n"
     ]
    },
    {
     "data": {
      "text/plain": [
       "\n",
       "\tPearson's Chi-squared test\n",
       "\n",
       "data:  allCpG and cc\n",
       "X-squared = 30, df = 25, p-value = 0.2243\n"
      ]
     },
     "metadata": {},
     "output_type": "display_data"
    }
   ],
   "source": [
    "# selecting only data for all CpGs and CC\n",
    "cc <- filter(df, df$treatment == 'CC')$proportion_overlap\n",
    "allCpG <- filter(df, df$treatment == 'allCpG')$proportion_overlap\n",
    "\n",
    "# chi-square test\n",
    "total_CC.test <- chisq.test(allCpG, cc)\n",
    "total_CC.test"
   ]
  },
  {
   "cell_type": "code",
   "execution_count": 30,
   "id": "0156c657-6e88-4e46-a3c7-5400fcfab09e",
   "metadata": {},
   "outputs": [
    {
     "name": "stderr",
     "output_type": "stream",
     "text": [
      "Warning message in chisq.test(allCpG, ch):\n",
      "“Chi-squared approximation may be incorrect”\n"
     ]
    },
    {
     "data": {
      "text/plain": [
       "\n",
       "\tPearson's Chi-squared test\n",
       "\n",
       "data:  allCpG and ch\n",
       "X-squared = 30, df = 25, p-value = 0.2243\n"
      ]
     },
     "metadata": {},
     "output_type": "display_data"
    }
   ],
   "source": [
    "# selecting only data for all CpGs and CC\n",
    "ch <- filter(df, df$treatment == 'CH')$proportion_overlap\n",
    "\n",
    "# chi-square test\n",
    "total_CC.test <- chisq.test(allCpG, ch)\n",
    "total_CC.test"
   ]
  },
  {
   "cell_type": "code",
   "execution_count": 31,
   "id": "0e204cf2-c769-4529-afaf-eadb072bb54a",
   "metadata": {},
   "outputs": [
    {
     "name": "stderr",
     "output_type": "stream",
     "text": [
      "Warning message in chisq.test(allCpG, hc):\n",
      "“Chi-squared approximation may be incorrect”\n"
     ]
    },
    {
     "data": {
      "text/plain": [
       "\n",
       "\tPearson's Chi-squared test\n",
       "\n",
       "data:  allCpG and hc\n",
       "X-squared = 30, df = 25, p-value = 0.2243\n"
      ]
     },
     "metadata": {},
     "output_type": "display_data"
    }
   ],
   "source": [
    "# selecting only data for all CpGs and CC\n",
    "hc <- filter(df, df$treatment == 'HC')$proportion_overlap\n",
    "\n",
    "# chi-square test\n",
    "total_CC.test <- chisq.test(allCpG, hc)\n",
    "total_CC.test"
   ]
  },
  {
   "cell_type": "code",
   "execution_count": 32,
   "id": "996f93f7-0586-46b1-8ee0-5178d21072b3",
   "metadata": {},
   "outputs": [
    {
     "name": "stderr",
     "output_type": "stream",
     "text": [
      "Warning message in chisq.test(allCpG, hh):\n",
      "“Chi-squared approximation may be incorrect”\n"
     ]
    },
    {
     "data": {
      "text/plain": [
       "\n",
       "\tPearson's Chi-squared test\n",
       "\n",
       "data:  allCpG and hh\n",
       "X-squared = 30, df = 25, p-value = 0.2243\n"
      ]
     },
     "metadata": {},
     "output_type": "display_data"
    }
   ],
   "source": [
    "# selecting only data for all CpGs and CC\n",
    "hh <- filter(df, df$treatment == 'HH')$proportion_overlap\n",
    "\n",
    "# chi-square test\n",
    "total_CC.test <- chisq.test(allCpG, hh)\n",
    "total_CC.test"
   ]
  },
  {
   "cell_type": "markdown",
   "id": "880daa07-ec13-4745-b808-57da30ee69da",
   "metadata": {},
   "source": [
    "I suspect I'm not doing something right here..."
   ]
  },
  {
   "cell_type": "markdown",
   "id": "610b3b5c-011b-491d-a5c0-9141c75d619f",
   "metadata": {},
   "source": [
    "## 3/5 replicates for CpG methylation\n",
    "\n",
    "A CpG dinucleotide is methylated if the majority of the replicates in a treatment (3/5) have at least 5 sequences\n",
    "\n",
    "repeating code above with new methylation calling\n",
    "\n",
    "(also, proportion overlap is out of 100%)"
   ]
  },
  {
   "cell_type": "code",
   "execution_count": 18,
   "id": "e8a26483-c577-4e74-a6cf-a408e02fa326",
   "metadata": {},
   "outputs": [
    {
     "data": {
      "text/html": [
       "<table class=\"dataframe\">\n",
       "<caption>A data.frame: 35 × 5</caption>\n",
       "<thead>\n",
       "\t<tr><th scope=col>genomicFeature</th><th scope=col>treatment</th><th scope=col>propOverlap</th><th scope=col>propOverlap_sum</th><th scope=col>proportion_overlap</th></tr>\n",
       "\t<tr><th scope=col>&lt;chr&gt;</th><th scope=col>&lt;chr&gt;</th><th scope=col>&lt;int&gt;</th><th scope=col>&lt;int&gt;</th><th scope=col>&lt;dbl&gt;</th></tr>\n",
       "</thead>\n",
       "<tbody>\n",
       "\t<tr><td>TE              </td><td>CC    </td><td>  11289</td><td>   97527</td><td>11.58</td></tr>\n",
       "\t<tr><td>exons           </td><td>CC    </td><td>  42577</td><td>   97527</td><td>43.66</td></tr>\n",
       "\t<tr><td>introns         </td><td>CC    </td><td>  19342</td><td>   97527</td><td>19.83</td></tr>\n",
       "\t<tr><td>putativePromoter</td><td>CC    </td><td>   2081</td><td>   97527</td><td> 2.13</td></tr>\n",
       "\t<tr><td>UTRs            </td><td>CC    </td><td>   2964</td><td>   97527</td><td> 3.04</td></tr>\n",
       "\t<tr><td>intergenic      </td><td>CC    </td><td>  11929</td><td>   97527</td><td>12.23</td></tr>\n",
       "\t<tr><td>no_overlap      </td><td>CC    </td><td>   7345</td><td>   97527</td><td> 7.53</td></tr>\n",
       "\t<tr><td>TE              </td><td>CH    </td><td>  13304</td><td>  112541</td><td>11.82</td></tr>\n",
       "\t<tr><td>exons           </td><td>CH    </td><td>  46527</td><td>  112541</td><td>41.34</td></tr>\n",
       "\t<tr><td>introns         </td><td>CH    </td><td>  22545</td><td>  112541</td><td>20.03</td></tr>\n",
       "\t<tr><td>putativePromoter</td><td>CH    </td><td>   2712</td><td>  112541</td><td> 2.41</td></tr>\n",
       "\t<tr><td>UTRs            </td><td>CH    </td><td>   3250</td><td>  112541</td><td> 2.89</td></tr>\n",
       "\t<tr><td>intergenic      </td><td>CH    </td><td>  15066</td><td>  112541</td><td>13.39</td></tr>\n",
       "\t<tr><td>no_overlap      </td><td>CH    </td><td>   9137</td><td>  112541</td><td> 8.12</td></tr>\n",
       "\t<tr><td>TE              </td><td>HC    </td><td>  19594</td><td>  159867</td><td>12.26</td></tr>\n",
       "\t<tr><td>exons           </td><td>HC    </td><td>  57498</td><td>  159867</td><td>35.97</td></tr>\n",
       "\t<tr><td>introns         </td><td>HC    </td><td>  34622</td><td>  159867</td><td>21.66</td></tr>\n",
       "\t<tr><td>putativePromoter</td><td>HC    </td><td>   4177</td><td>  159867</td><td> 2.61</td></tr>\n",
       "\t<tr><td>UTRs            </td><td>HC    </td><td>   4207</td><td>  159867</td><td> 2.63</td></tr>\n",
       "\t<tr><td>intergenic      </td><td>HC    </td><td>  24496</td><td>  159867</td><td>15.32</td></tr>\n",
       "\t<tr><td>no_overlap      </td><td>HC    </td><td>  15273</td><td>  159867</td><td> 9.55</td></tr>\n",
       "\t<tr><td>TE              </td><td>HH    </td><td>  18394</td><td>  147496</td><td>12.47</td></tr>\n",
       "\t<tr><td>exons           </td><td>HH    </td><td>  56100</td><td>  147496</td><td>38.03</td></tr>\n",
       "\t<tr><td>introns         </td><td>HH    </td><td>  31070</td><td>  147496</td><td>21.06</td></tr>\n",
       "\t<tr><td>putativePromoter</td><td>HH    </td><td>   3704</td><td>  147496</td><td> 2.51</td></tr>\n",
       "\t<tr><td>UTRs            </td><td>HH    </td><td>   3986</td><td>  147496</td><td> 2.70</td></tr>\n",
       "\t<tr><td>intergenic      </td><td>HH    </td><td>  21279</td><td>  147496</td><td>14.43</td></tr>\n",
       "\t<tr><td>no_overlap      </td><td>HH    </td><td>  12963</td><td>  147496</td><td> 8.79</td></tr>\n",
       "\t<tr><td>TE              </td><td>allCpG</td><td>2828372</td><td>23397995</td><td>12.09</td></tr>\n",
       "\t<tr><td>exons           </td><td>allCpG</td><td>2323389</td><td>23397995</td><td> 9.93</td></tr>\n",
       "\t<tr><td>introns         </td><td>allCpG</td><td>5497874</td><td>23397995</td><td>23.50</td></tr>\n",
       "\t<tr><td>putativePromoter</td><td>allCpG</td><td> 926518</td><td>23397995</td><td> 3.96</td></tr>\n",
       "\t<tr><td>UTRs            </td><td>allCpG</td><td> 600840</td><td>23397995</td><td> 2.57</td></tr>\n",
       "\t<tr><td>intergenic      </td><td>allCpG</td><td>6644297</td><td>23397995</td><td>28.40</td></tr>\n",
       "\t<tr><td>no_overlap      </td><td>allCpG</td><td>4576705</td><td>23397995</td><td>19.56</td></tr>\n",
       "</tbody>\n",
       "</table>\n"
      ],
      "text/latex": [
       "A data.frame: 35 × 5\n",
       "\\begin{tabular}{lllll}\n",
       " genomicFeature & treatment & propOverlap & propOverlap\\_sum & proportion\\_overlap\\\\\n",
       " <chr> & <chr> & <int> & <int> & <dbl>\\\\\n",
       "\\hline\n",
       "\t TE               & CC     &   11289 &    97527 & 11.58\\\\\n",
       "\t exons            & CC     &   42577 &    97527 & 43.66\\\\\n",
       "\t introns          & CC     &   19342 &    97527 & 19.83\\\\\n",
       "\t putativePromoter & CC     &    2081 &    97527 &  2.13\\\\\n",
       "\t UTRs             & CC     &    2964 &    97527 &  3.04\\\\\n",
       "\t intergenic       & CC     &   11929 &    97527 & 12.23\\\\\n",
       "\t no\\_overlap       & CC     &    7345 &    97527 &  7.53\\\\\n",
       "\t TE               & CH     &   13304 &   112541 & 11.82\\\\\n",
       "\t exons            & CH     &   46527 &   112541 & 41.34\\\\\n",
       "\t introns          & CH     &   22545 &   112541 & 20.03\\\\\n",
       "\t putativePromoter & CH     &    2712 &   112541 &  2.41\\\\\n",
       "\t UTRs             & CH     &    3250 &   112541 &  2.89\\\\\n",
       "\t intergenic       & CH     &   15066 &   112541 & 13.39\\\\\n",
       "\t no\\_overlap       & CH     &    9137 &   112541 &  8.12\\\\\n",
       "\t TE               & HC     &   19594 &   159867 & 12.26\\\\\n",
       "\t exons            & HC     &   57498 &   159867 & 35.97\\\\\n",
       "\t introns          & HC     &   34622 &   159867 & 21.66\\\\\n",
       "\t putativePromoter & HC     &    4177 &   159867 &  2.61\\\\\n",
       "\t UTRs             & HC     &    4207 &   159867 &  2.63\\\\\n",
       "\t intergenic       & HC     &   24496 &   159867 & 15.32\\\\\n",
       "\t no\\_overlap       & HC     &   15273 &   159867 &  9.55\\\\\n",
       "\t TE               & HH     &   18394 &   147496 & 12.47\\\\\n",
       "\t exons            & HH     &   56100 &   147496 & 38.03\\\\\n",
       "\t introns          & HH     &   31070 &   147496 & 21.06\\\\\n",
       "\t putativePromoter & HH     &    3704 &   147496 &  2.51\\\\\n",
       "\t UTRs             & HH     &    3986 &   147496 &  2.70\\\\\n",
       "\t intergenic       & HH     &   21279 &   147496 & 14.43\\\\\n",
       "\t no\\_overlap       & HH     &   12963 &   147496 &  8.79\\\\\n",
       "\t TE               & allCpG & 2828372 & 23397995 & 12.09\\\\\n",
       "\t exons            & allCpG & 2323389 & 23397995 &  9.93\\\\\n",
       "\t introns          & allCpG & 5497874 & 23397995 & 23.50\\\\\n",
       "\t putativePromoter & allCpG &  926518 & 23397995 &  3.96\\\\\n",
       "\t UTRs             & allCpG &  600840 & 23397995 &  2.57\\\\\n",
       "\t intergenic       & allCpG & 6644297 & 23397995 & 28.40\\\\\n",
       "\t no\\_overlap       & allCpG & 4576705 & 23397995 & 19.56\\\\\n",
       "\\end{tabular}\n"
      ],
      "text/markdown": [
       "\n",
       "A data.frame: 35 × 5\n",
       "\n",
       "| genomicFeature &lt;chr&gt; | treatment &lt;chr&gt; | propOverlap &lt;int&gt; | propOverlap_sum &lt;int&gt; | proportion_overlap &lt;dbl&gt; |\n",
       "|---|---|---|---|---|\n",
       "| TE               | CC     |   11289 |    97527 | 11.58 |\n",
       "| exons            | CC     |   42577 |    97527 | 43.66 |\n",
       "| introns          | CC     |   19342 |    97527 | 19.83 |\n",
       "| putativePromoter | CC     |    2081 |    97527 |  2.13 |\n",
       "| UTRs             | CC     |    2964 |    97527 |  3.04 |\n",
       "| intergenic       | CC     |   11929 |    97527 | 12.23 |\n",
       "| no_overlap       | CC     |    7345 |    97527 |  7.53 |\n",
       "| TE               | CH     |   13304 |   112541 | 11.82 |\n",
       "| exons            | CH     |   46527 |   112541 | 41.34 |\n",
       "| introns          | CH     |   22545 |   112541 | 20.03 |\n",
       "| putativePromoter | CH     |    2712 |   112541 |  2.41 |\n",
       "| UTRs             | CH     |    3250 |   112541 |  2.89 |\n",
       "| intergenic       | CH     |   15066 |   112541 | 13.39 |\n",
       "| no_overlap       | CH     |    9137 |   112541 |  8.12 |\n",
       "| TE               | HC     |   19594 |   159867 | 12.26 |\n",
       "| exons            | HC     |   57498 |   159867 | 35.97 |\n",
       "| introns          | HC     |   34622 |   159867 | 21.66 |\n",
       "| putativePromoter | HC     |    4177 |   159867 |  2.61 |\n",
       "| UTRs             | HC     |    4207 |   159867 |  2.63 |\n",
       "| intergenic       | HC     |   24496 |   159867 | 15.32 |\n",
       "| no_overlap       | HC     |   15273 |   159867 |  9.55 |\n",
       "| TE               | HH     |   18394 |   147496 | 12.47 |\n",
       "| exons            | HH     |   56100 |   147496 | 38.03 |\n",
       "| introns          | HH     |   31070 |   147496 | 21.06 |\n",
       "| putativePromoter | HH     |    3704 |   147496 |  2.51 |\n",
       "| UTRs             | HH     |    3986 |   147496 |  2.70 |\n",
       "| intergenic       | HH     |   21279 |   147496 | 14.43 |\n",
       "| no_overlap       | HH     |   12963 |   147496 |  8.79 |\n",
       "| TE               | allCpG | 2828372 | 23397995 | 12.09 |\n",
       "| exons            | allCpG | 2323389 | 23397995 |  9.93 |\n",
       "| introns          | allCpG | 5497874 | 23397995 | 23.50 |\n",
       "| putativePromoter | allCpG |  926518 | 23397995 |  3.96 |\n",
       "| UTRs             | allCpG |  600840 | 23397995 |  2.57 |\n",
       "| intergenic       | allCpG | 6644297 | 23397995 | 28.40 |\n",
       "| no_overlap       | allCpG | 4576705 | 23397995 | 19.56 |\n",
       "\n"
      ],
      "text/plain": [
       "   genomicFeature   treatment propOverlap propOverlap_sum proportion_overlap\n",
       "1  TE               CC          11289        97527        11.58             \n",
       "2  exons            CC          42577        97527        43.66             \n",
       "3  introns          CC          19342        97527        19.83             \n",
       "4  putativePromoter CC           2081        97527         2.13             \n",
       "5  UTRs             CC           2964        97527         3.04             \n",
       "6  intergenic       CC          11929        97527        12.23             \n",
       "7  no_overlap       CC           7345        97527         7.53             \n",
       "8  TE               CH          13304       112541        11.82             \n",
       "9  exons            CH          46527       112541        41.34             \n",
       "10 introns          CH          22545       112541        20.03             \n",
       "11 putativePromoter CH           2712       112541         2.41             \n",
       "12 UTRs             CH           3250       112541         2.89             \n",
       "13 intergenic       CH          15066       112541        13.39             \n",
       "14 no_overlap       CH           9137       112541         8.12             \n",
       "15 TE               HC          19594       159867        12.26             \n",
       "16 exons            HC          57498       159867        35.97             \n",
       "17 introns          HC          34622       159867        21.66             \n",
       "18 putativePromoter HC           4177       159867         2.61             \n",
       "19 UTRs             HC           4207       159867         2.63             \n",
       "20 intergenic       HC          24496       159867        15.32             \n",
       "21 no_overlap       HC          15273       159867         9.55             \n",
       "22 TE               HH          18394       147496        12.47             \n",
       "23 exons            HH          56100       147496        38.03             \n",
       "24 introns          HH          31070       147496        21.06             \n",
       "25 putativePromoter HH           3704       147496         2.51             \n",
       "26 UTRs             HH           3986       147496         2.70             \n",
       "27 intergenic       HH          21279       147496        14.43             \n",
       "28 no_overlap       HH          12963       147496         8.79             \n",
       "29 TE               allCpG    2828372     23397995        12.09             \n",
       "30 exons            allCpG    2323389     23397995         9.93             \n",
       "31 introns          allCpG    5497874     23397995        23.50             \n",
       "32 putativePromoter allCpG     926518     23397995         3.96             \n",
       "33 UTRs             allCpG     600840     23397995         2.57             \n",
       "34 intergenic       allCpG    6644297     23397995        28.40             \n",
       "35 no_overlap       allCpG    4576705     23397995        19.56             "
      ]
     },
     "metadata": {},
     "output_type": "display_data"
    }
   ],
   "source": [
    "df <- read.csv('/project/pi_sarah_gignouxwolfsohn_uml_edu/julia/CE_MethylRAD_analysis_2018/analysis/genomic_feature_tracks/majorityMe_propOverlap.csv')\n",
    "df"
   ]
  },
  {
   "cell_type": "code",
   "execution_count": 19,
   "id": "c293d88a-412f-4701-95c2-ee3bfdd62e37",
   "metadata": {},
   "outputs": [],
   "source": [
    "# removing underscore in 'no_overlap'\n",
    "df$genomicFeature <- gsub(\"no_overlap\", \"other\", df$genomicFeature)\n",
    "df$genomicFeature <- gsub(\"putativePromoter\", \"putative promoters\", df$genomicFeature)\n",
    "df$genomicFeature <- gsub(\"intergenic\", \"intergenic regions\", df$genomicFeature)\n",
    "df$genomicFeature <- gsub(\"TE\", \"TEs\", df$genomicFeature)\n",
    "df$treatment <- gsub(\"allCpG\", \"all CpGs\", df$treatment)"
   ]
  },
  {
   "cell_type": "code",
   "execution_count": 13,
   "id": "706d4291-bb25-4e7b-a879-563c69731088",
   "metadata": {},
   "outputs": [
    {
     "data": {
      "image/png": "[encoded data removed]",
      "text/plain": [
       "plot without title"
      ]
     },
     "metadata": {
      "image/png": {
       "height": 600,
       "width": 900
      }
     },
     "output_type": "display_data"
    }
   ],
   "source": [
    "options(repr.plot.width=15, repr.plot.height=10)\n",
    "\n",
    "propOv <- ggplot(df) +\n",
    " aes(x = treatment, y = proportion_overlap, fill = genomicFeature) +\n",
    " geom_col() +\n",
    " scale_fill_brewer(palette = \"GnBu\", \n",
    " direction = 1) +\n",
    "  geom_col(color = \"black\", linewidth = 0.25) +\n",
    " labs(x = \"\", y = \"Percent Overlap\", \n",
    " fill = \"Genomic Feature\") +\n",
    " theme_classic() +\n",
    "theme(text = element_text(size = 20)) \n",
    "\n",
    "propOv"
   ]
  },
  {
   "cell_type": "markdown",
   "id": "20e26b7b-aa14-4c5b-9c82-28cc481b90c7",
   "metadata": {},
   "source": [
    "want to move the 'other' category to the bottom and make gray (was originally 'no overlap')"
   ]
  },
  {
   "cell_type": "code",
   "execution_count": 23,
   "id": "f805ef23-6ef2-4769-b792-de663b381786",
   "metadata": {},
   "outputs": [
    {
     "data": {
      "image/png": "[encoded data removed]",
      "text/plain": [
       "plot without title"
      ]
     },
     "metadata": {
      "image/png": {
       "height": 600,
       "width": 900
      }
     },
     "output_type": "display_data"
    }
   ],
   "source": [
    "# Convert genomicFeature to a factor and relevel\n",
    "df$genomicFeature <- as.factor(df$genomicFeature)\n",
    "df$genomicFeature <- factor(df$genomicFeature, levels = c(setdiff(levels(df$genomicFeature), \"other\"), \"other\"))\n",
    "\n",
    "# Define the color palette\n",
    "colors <- c(\"other\" = \"gray\", \n",
    "             setNames(brewer.pal(nlevels(df$genomicFeature) - 1, \"GnBu\"), \n",
    "                       levels(df$genomicFeature)[-length(levels(df$genomicFeature))]))\n",
    "\n",
    "\n",
    "# Update the plot\n",
    "propOv <- ggplot(df) +\n",
    "  aes(x = treatment, y = proportion_overlap, fill = genomicFeature) +\n",
    "  geom_col() +\n",
    "  scale_fill_manual(values = colors) +\n",
    "  geom_col(color = \"black\", linewidth = 0.25) +\n",
    "  labs(x = \"\", y = \"Percent Overlap\", \n",
    "       fill = \"Genomic Feature\") +\n",
    "  theme_classic() +\n",
    "  theme(text = element_text(size = 20))\n",
    "\n",
    "propOv"
   ]
  },
  {
   "cell_type": "code",
   "execution_count": 24,
   "id": "cd9a9ad3-a15b-4c51-b375-a33c520fe126",
   "metadata": {},
   "outputs": [],
   "source": [
    "ggsave('/project/pi_sarah_gignouxwolfsohn_uml_edu/julia/CE_MethylRAD_analysis_2018/analysis/figures/propOverlap.pdf', propOv, width=15, height=10)"
   ]
  },
  {
   "cell_type": "markdown",
   "id": "dcb4f7bf-a502-487c-87d4-b08aabd63d35",
   "metadata": {},
   "source": [
    "I would like to add a bracket to group the treatments into 'methylated CpGs' - following this [thread](https://stackoverflow.com/questions/66603462/adding-square-brackets-to-group-axis-labels-in-ggplot2?rq=3) in hopes of achieving this\n",
    "\n",
    "[pBrackets manual](https://cran.r-project.org/web/packages/pBrackets/pBrackets.pdf)"
   ]
  },
  {
   "cell_type": "code",
   "execution_count": 9,
   "id": "7add0f2c-a862-49be-97f1-837f349c25b6",
   "metadata": {},
   "outputs": [
    {
     "data": {
      "text/html": [
       "<table class=\"dataframe\">\n",
       "<caption>A data.frame: 6 × 5</caption>\n",
       "<thead>\n",
       "\t<tr><th></th><th scope=col>genomicFeature</th><th scope=col>treatment</th><th scope=col>propOverlap</th><th scope=col>propOverlap_sum</th><th scope=col>proportion_overlap</th></tr>\n",
       "\t<tr><th></th><th scope=col>&lt;chr&gt;</th><th scope=col>&lt;chr&gt;</th><th scope=col>&lt;int&gt;</th><th scope=col>&lt;int&gt;</th><th scope=col>&lt;dbl&gt;</th></tr>\n",
       "</thead>\n",
       "<tbody>\n",
       "\t<tr><th scope=row>30</th><td>exons             </td><td>all CpGs</td><td>2323389</td><td>23397995</td><td> 9.93</td></tr>\n",
       "\t<tr><th scope=row>31</th><td>introns           </td><td>all CpGs</td><td>5497874</td><td>23397995</td><td>23.50</td></tr>\n",
       "\t<tr><th scope=row>32</th><td>putative promoters</td><td>all CpGs</td><td> 926518</td><td>23397995</td><td> 3.96</td></tr>\n",
       "\t<tr><th scope=row>33</th><td>UTRs              </td><td>all CpGs</td><td> 600840</td><td>23397995</td><td> 2.57</td></tr>\n",
       "\t<tr><th scope=row>34</th><td>intergenic regions</td><td>all CpGs</td><td>6644297</td><td>23397995</td><td>28.40</td></tr>\n",
       "\t<tr><th scope=row>35</th><td>no overlap        </td><td>all CpGs</td><td>4576705</td><td>23397995</td><td>19.56</td></tr>\n",
       "</tbody>\n",
       "</table>\n"
      ],
      "text/latex": [
       "A data.frame: 6 × 5\n",
       "\\begin{tabular}{r|lllll}\n",
       "  & genomicFeature & treatment & propOverlap & propOverlap\\_sum & proportion\\_overlap\\\\\n",
       "  & <chr> & <chr> & <int> & <int> & <dbl>\\\\\n",
       "\\hline\n",
       "\t30 & exons              & all CpGs & 2323389 & 23397995 &  9.93\\\\\n",
       "\t31 & introns            & all CpGs & 5497874 & 23397995 & 23.50\\\\\n",
       "\t32 & putative promoters & all CpGs &  926518 & 23397995 &  3.96\\\\\n",
       "\t33 & UTRs               & all CpGs &  600840 & 23397995 &  2.57\\\\\n",
       "\t34 & intergenic regions & all CpGs & 6644297 & 23397995 & 28.40\\\\\n",
       "\t35 & no overlap         & all CpGs & 4576705 & 23397995 & 19.56\\\\\n",
       "\\end{tabular}\n"
      ],
      "text/markdown": [
       "\n",
       "A data.frame: 6 × 5\n",
       "\n",
       "| <!--/--> | genomicFeature &lt;chr&gt; | treatment &lt;chr&gt; | propOverlap &lt;int&gt; | propOverlap_sum &lt;int&gt; | proportion_overlap &lt;dbl&gt; |\n",
       "|---|---|---|---|---|---|\n",
       "| 30 | exons              | all CpGs | 2323389 | 23397995 |  9.93 |\n",
       "| 31 | introns            | all CpGs | 5497874 | 23397995 | 23.50 |\n",
       "| 32 | putative promoters | all CpGs |  926518 | 23397995 |  3.96 |\n",
       "| 33 | UTRs               | all CpGs |  600840 | 23397995 |  2.57 |\n",
       "| 34 | intergenic regions | all CpGs | 6644297 | 23397995 | 28.40 |\n",
       "| 35 | no overlap         | all CpGs | 4576705 | 23397995 | 19.56 |\n",
       "\n"
      ],
      "text/plain": [
       "   genomicFeature     treatment propOverlap propOverlap_sum proportion_overlap\n",
       "30 exons              all CpGs  2323389     23397995         9.93             \n",
       "31 introns            all CpGs  5497874     23397995        23.50             \n",
       "32 putative promoters all CpGs   926518     23397995         3.96             \n",
       "33 UTRs               all CpGs   600840     23397995         2.57             \n",
       "34 intergenic regions all CpGs  6644297     23397995        28.40             \n",
       "35 no overlap         all CpGs  4576705     23397995        19.56             "
      ]
     },
     "metadata": {},
     "output_type": "display_data"
    }
   ],
   "source": [
    "tail(df)"
   ]
  },
  {
   "cell_type": "markdown",
   "id": "cd897e5c-2312-48ac-a1ea-a51664174dbf",
   "metadata": {},
   "source": [
    "### chi-square test of homogeneity\n",
    "null hyp: the location of methylated CpGs is independent of the genomic feature"
   ]
  },
  {
   "cell_type": "code",
   "execution_count": 34,
   "id": "c2e9b6cb-3474-413c-b33b-c216f9a03e46",
   "metadata": {},
   "outputs": [
    {
     "data": {
      "text/html": [
       "<table class=\"dataframe\">\n",
       "<caption>A data.frame: 7 × 5</caption>\n",
       "<thead>\n",
       "\t<tr><th></th><th scope=col>CC</th><th scope=col>CH</th><th scope=col>HC</th><th scope=col>HH</th><th scope=col>all CpGs</th></tr>\n",
       "\t<tr><th></th><th scope=col>&lt;int&gt;</th><th scope=col>&lt;int&gt;</th><th scope=col>&lt;int&gt;</th><th scope=col>&lt;int&gt;</th><th scope=col>&lt;int&gt;</th></tr>\n",
       "</thead>\n",
       "<tbody>\n",
       "\t<tr><th scope=row>TEs</th><td>11289</td><td>13304</td><td>19594</td><td>18394</td><td>2828372</td></tr>\n",
       "\t<tr><th scope=row>exons</th><td>42577</td><td>46527</td><td>57498</td><td>56100</td><td>2323389</td></tr>\n",
       "\t<tr><th scope=row>introns</th><td>19342</td><td>22545</td><td>34622</td><td>31070</td><td>5497874</td></tr>\n",
       "\t<tr><th scope=row>putative promoters</th><td> 2081</td><td> 2712</td><td> 4177</td><td> 3704</td><td> 926518</td></tr>\n",
       "\t<tr><th scope=row>UTRs</th><td> 2964</td><td> 3250</td><td> 4207</td><td> 3986</td><td> 600840</td></tr>\n",
       "\t<tr><th scope=row>intergenic regions</th><td>11929</td><td>15066</td><td>24496</td><td>21279</td><td>6644297</td></tr>\n",
       "\t<tr><th scope=row>no overlap</th><td> 7345</td><td> 9137</td><td>15273</td><td>12963</td><td>4576705</td></tr>\n",
       "</tbody>\n",
       "</table>\n"
      ],
      "text/latex": [
       "A data.frame: 7 × 5\n",
       "\\begin{tabular}{r|lllll}\n",
       "  & CC & CH & HC & HH & all CpGs\\\\\n",
       "  & <int> & <int> & <int> & <int> & <int>\\\\\n",
       "\\hline\n",
       "\tTEs & 11289 & 13304 & 19594 & 18394 & 2828372\\\\\n",
       "\texons & 42577 & 46527 & 57498 & 56100 & 2323389\\\\\n",
       "\tintrons & 19342 & 22545 & 34622 & 31070 & 5497874\\\\\n",
       "\tputative promoters &  2081 &  2712 &  4177 &  3704 &  926518\\\\\n",
       "\tUTRs &  2964 &  3250 &  4207 &  3986 &  600840\\\\\n",
       "\tintergenic regions & 11929 & 15066 & 24496 & 21279 & 6644297\\\\\n",
       "\tno overlap &  7345 &  9137 & 15273 & 12963 & 4576705\\\\\n",
       "\\end{tabular}\n"
      ],
      "text/markdown": [
       "\n",
       "A data.frame: 7 × 5\n",
       "\n",
       "| <!--/--> | CC &lt;int&gt; | CH &lt;int&gt; | HC &lt;int&gt; | HH &lt;int&gt; | all CpGs &lt;int&gt; |\n",
       "|---|---|---|---|---|---|\n",
       "| TEs | 11289 | 13304 | 19594 | 18394 | 2828372 |\n",
       "| exons | 42577 | 46527 | 57498 | 56100 | 2323389 |\n",
       "| introns | 19342 | 22545 | 34622 | 31070 | 5497874 |\n",
       "| putative promoters |  2081 |  2712 |  4177 |  3704 |  926518 |\n",
       "| UTRs |  2964 |  3250 |  4207 |  3986 |  600840 |\n",
       "| intergenic regions | 11929 | 15066 | 24496 | 21279 | 6644297 |\n",
       "| no overlap |  7345 |  9137 | 15273 | 12963 | 4576705 |\n",
       "\n"
      ],
      "text/plain": [
       "                   CC    CH    HC    HH    all CpGs\n",
       "TEs                11289 13304 19594 18394 2828372 \n",
       "exons              42577 46527 57498 56100 2323389 \n",
       "introns            19342 22545 34622 31070 5497874 \n",
       "putative promoters  2081  2712  4177  3704  926518 \n",
       "UTRs                2964  3250  4207  3986  600840 \n",
       "intergenic regions 11929 15066 24496 21279 6644297 \n",
       "no overlap          7345  9137 15273 12963 4576705 "
      ]
     },
     "metadata": {},
     "output_type": "display_data"
    }
   ],
   "source": [
    "overlap <- df\n",
    "\n",
    "# Pivot the data\n",
    "overlap <- as.data.frame(pivot_wider(overlap, \n",
    "                             id_cols = genomicFeature, \n",
    "                             names_from = treatment, \n",
    "                             values_from = propOverlap))\n",
    "\n",
    "# setting genomic feature as row name\n",
    "rownames(overlap) <- overlap$genomicFeature\n",
    "overlap <- overlap[-1]\n",
    "\n",
    "# Print the pivoted data\n",
    "overlap"
   ]
  },
  {
   "cell_type": "code",
   "execution_count": 37,
   "id": "5e01c99d-0d53-4a9e-a6a9-1a124dc0d13e",
   "metadata": {},
   "outputs": [
    {
     "data": {
      "text/html": [
       "<table class=\"dataframe\">\n",
       "<caption>A data.frame: 7 × 2</caption>\n",
       "<thead>\n",
       "\t<tr><th></th><th scope=col>CC</th><th scope=col>all CpGs</th></tr>\n",
       "\t<tr><th></th><th scope=col>&lt;int&gt;</th><th scope=col>&lt;int&gt;</th></tr>\n",
       "</thead>\n",
       "<tbody>\n",
       "\t<tr><th scope=row>TEs</th><td>11289</td><td>2828372</td></tr>\n",
       "\t<tr><th scope=row>exons</th><td>42577</td><td>2323389</td></tr>\n",
       "\t<tr><th scope=row>introns</th><td>19342</td><td>5497874</td></tr>\n",
       "\t<tr><th scope=row>putative promoters</th><td> 2081</td><td> 926518</td></tr>\n",
       "\t<tr><th scope=row>UTRs</th><td> 2964</td><td> 600840</td></tr>\n",
       "\t<tr><th scope=row>intergenic regions</th><td>11929</td><td>6644297</td></tr>\n",
       "\t<tr><th scope=row>no overlap</th><td> 7345</td><td>4576705</td></tr>\n",
       "</tbody>\n",
       "</table>\n"
      ],
      "text/latex": [
       "A data.frame: 7 × 2\n",
       "\\begin{tabular}{r|ll}\n",
       "  & CC & all CpGs\\\\\n",
       "  & <int> & <int>\\\\\n",
       "\\hline\n",
       "\tTEs & 11289 & 2828372\\\\\n",
       "\texons & 42577 & 2323389\\\\\n",
       "\tintrons & 19342 & 5497874\\\\\n",
       "\tputative promoters &  2081 &  926518\\\\\n",
       "\tUTRs &  2964 &  600840\\\\\n",
       "\tintergenic regions & 11929 & 6644297\\\\\n",
       "\tno overlap &  7345 & 4576705\\\\\n",
       "\\end{tabular}\n"
      ],
      "text/markdown": [
       "\n",
       "A data.frame: 7 × 2\n",
       "\n",
       "| <!--/--> | CC &lt;int&gt; | all CpGs &lt;int&gt; |\n",
       "|---|---|---|\n",
       "| TEs | 11289 | 2828372 |\n",
       "| exons | 42577 | 2323389 |\n",
       "| introns | 19342 | 5497874 |\n",
       "| putative promoters |  2081 |  926518 |\n",
       "| UTRs |  2964 |  600840 |\n",
       "| intergenic regions | 11929 | 6644297 |\n",
       "| no overlap |  7345 | 4576705 |\n",
       "\n"
      ],
      "text/plain": [
       "                   CC    all CpGs\n",
       "TEs                11289 2828372 \n",
       "exons              42577 2323389 \n",
       "introns            19342 5497874 \n",
       "putative promoters  2081  926518 \n",
       "UTRs                2964  600840 \n",
       "intergenic regions 11929 6644297 \n",
       "no overlap          7345 4576705 "
      ]
     },
     "metadata": {},
     "output_type": "display_data"
    },
    {
     "data": {
      "text/plain": [
       "\n",
       "\tPearson's Chi-squared test\n",
       "\n",
       "data:  t(cc.v.all)\n",
       "X-squared = 127351, df = 6, p-value < 2.2e-16\n"
      ]
     },
     "metadata": {},
     "output_type": "display_data"
    }
   ],
   "source": [
    "# selecting only columns for CC and all CpGs\n",
    "cc.v.all <- overlap[,c(1,5)]\n",
    "cc.v.all\n",
    "\n",
    "\n",
    "# chi-square test\n",
    "total_CC.test <- chisq.test(t(cc.v.all))\n",
    "total_CC.test"
   ]
  },
  {
   "cell_type": "code",
   "execution_count": 39,
   "id": "aa9c963c-0523-4525-b30a-a59577800ed3",
   "metadata": {},
   "outputs": [
    {
     "data": {
      "text/html": [
       "<table class=\"dataframe\">\n",
       "<caption>A data.frame: 7 × 2</caption>\n",
       "<thead>\n",
       "\t<tr><th></th><th scope=col>CH</th><th scope=col>all CpGs</th></tr>\n",
       "\t<tr><th></th><th scope=col>&lt;int&gt;</th><th scope=col>&lt;int&gt;</th></tr>\n",
       "</thead>\n",
       "<tbody>\n",
       "\t<tr><th scope=row>TEs</th><td>13304</td><td>2828372</td></tr>\n",
       "\t<tr><th scope=row>exons</th><td>46527</td><td>2323389</td></tr>\n",
       "\t<tr><th scope=row>introns</th><td>22545</td><td>5497874</td></tr>\n",
       "\t<tr><th scope=row>putative promoters</th><td> 2712</td><td> 926518</td></tr>\n",
       "\t<tr><th scope=row>UTRs</th><td> 3250</td><td> 600840</td></tr>\n",
       "\t<tr><th scope=row>intergenic regions</th><td>15066</td><td>6644297</td></tr>\n",
       "\t<tr><th scope=row>no overlap</th><td> 9137</td><td>4576705</td></tr>\n",
       "</tbody>\n",
       "</table>\n"
      ],
      "text/latex": [
       "A data.frame: 7 × 2\n",
       "\\begin{tabular}{r|ll}\n",
       "  & CH & all CpGs\\\\\n",
       "  & <int> & <int>\\\\\n",
       "\\hline\n",
       "\tTEs & 13304 & 2828372\\\\\n",
       "\texons & 46527 & 2323389\\\\\n",
       "\tintrons & 22545 & 5497874\\\\\n",
       "\tputative promoters &  2712 &  926518\\\\\n",
       "\tUTRs &  3250 &  600840\\\\\n",
       "\tintergenic regions & 15066 & 6644297\\\\\n",
       "\tno overlap &  9137 & 4576705\\\\\n",
       "\\end{tabular}\n"
      ],
      "text/markdown": [
       "\n",
       "A data.frame: 7 × 2\n",
       "\n",
       "| <!--/--> | CH &lt;int&gt; | all CpGs &lt;int&gt; |\n",
       "|---|---|---|\n",
       "| TEs | 13304 | 2828372 |\n",
       "| exons | 46527 | 2323389 |\n",
       "| introns | 22545 | 5497874 |\n",
       "| putative promoters |  2712 |  926518 |\n",
       "| UTRs |  3250 |  600840 |\n",
       "| intergenic regions | 15066 | 6644297 |\n",
       "| no overlap |  9137 | 4576705 |\n",
       "\n"
      ],
      "text/plain": [
       "                   CH    all CpGs\n",
       "TEs                13304 2828372 \n",
       "exons              46527 2323389 \n",
       "introns            22545 5497874 \n",
       "putative promoters  2712  926518 \n",
       "UTRs                3250  600840 \n",
       "intergenic regions 15066 6644297 \n",
       "no overlap          9137 4576705 "
      ]
     },
     "metadata": {},
     "output_type": "display_data"
    },
    {
     "data": {
      "text/plain": [
       "\n",
       "\tPearson's Chi-squared test\n",
       "\n",
       "data:  t(ch.v.all)\n",
       "X-squared = 127367, df = 6, p-value < 2.2e-16\n"
      ]
     },
     "metadata": {},
     "output_type": "display_data"
    }
   ],
   "source": [
    "# selecting only columns for CC and all CpGs\n",
    "ch.v.all <- overlap[,c(2,5)]\n",
    "ch.v.all\n",
    "\n",
    "\n",
    "# chi-square test\n",
    "total_CH.test <- chisq.test(t(ch.v.all))\n",
    "total_CH.test"
   ]
  },
  {
   "cell_type": "code",
   "execution_count": 40,
   "id": "cef1e10d-060a-4f93-901c-a1dcb79cc210",
   "metadata": {},
   "outputs": [
    {
     "data": {
      "text/html": [
       "<table class=\"dataframe\">\n",
       "<caption>A data.frame: 7 × 2</caption>\n",
       "<thead>\n",
       "\t<tr><th></th><th scope=col>HC</th><th scope=col>all CpGs</th></tr>\n",
       "\t<tr><th></th><th scope=col>&lt;int&gt;</th><th scope=col>&lt;int&gt;</th></tr>\n",
       "</thead>\n",
       "<tbody>\n",
       "\t<tr><th scope=row>TEs</th><td>19594</td><td>2828372</td></tr>\n",
       "\t<tr><th scope=row>exons</th><td>57498</td><td>2323389</td></tr>\n",
       "\t<tr><th scope=row>introns</th><td>34622</td><td>5497874</td></tr>\n",
       "\t<tr><th scope=row>putative promoters</th><td> 4177</td><td> 926518</td></tr>\n",
       "\t<tr><th scope=row>UTRs</th><td> 4207</td><td> 600840</td></tr>\n",
       "\t<tr><th scope=row>intergenic regions</th><td>24496</td><td>6644297</td></tr>\n",
       "\t<tr><th scope=row>no overlap</th><td>15273</td><td>4576705</td></tr>\n",
       "</tbody>\n",
       "</table>\n"
      ],
      "text/latex": [
       "A data.frame: 7 × 2\n",
       "\\begin{tabular}{r|ll}\n",
       "  & HC & all CpGs\\\\\n",
       "  & <int> & <int>\\\\\n",
       "\\hline\n",
       "\tTEs & 19594 & 2828372\\\\\n",
       "\texons & 57498 & 2323389\\\\\n",
       "\tintrons & 34622 & 5497874\\\\\n",
       "\tputative promoters &  4177 &  926518\\\\\n",
       "\tUTRs &  4207 &  600840\\\\\n",
       "\tintergenic regions & 24496 & 6644297\\\\\n",
       "\tno overlap & 15273 & 4576705\\\\\n",
       "\\end{tabular}\n"
      ],
      "text/markdown": [
       "\n",
       "A data.frame: 7 × 2\n",
       "\n",
       "| <!--/--> | HC &lt;int&gt; | all CpGs &lt;int&gt; |\n",
       "|---|---|---|\n",
       "| TEs | 19594 | 2828372 |\n",
       "| exons | 57498 | 2323389 |\n",
       "| introns | 34622 | 5497874 |\n",
       "| putative promoters |  4177 |  926518 |\n",
       "| UTRs |  4207 |  600840 |\n",
       "| intergenic regions | 24496 | 6644297 |\n",
       "| no overlap | 15273 | 4576705 |\n",
       "\n"
      ],
      "text/plain": [
       "                   HC    all CpGs\n",
       "TEs                19594 2828372 \n",
       "exons              57498 2323389 \n",
       "introns            34622 5497874 \n",
       "putative promoters  4177  926518 \n",
       "UTRs                4207  600840 \n",
       "intergenic regions 24496 6644297 \n",
       "no overlap         15273 4576705 "
      ]
     },
     "metadata": {},
     "output_type": "display_data"
    },
    {
     "data": {
      "text/plain": [
       "\n",
       "\tPearson's Chi-squared test\n",
       "\n",
       "data:  t(hc.v.all)\n",
       "X-squared = 125211, df = 6, p-value < 2.2e-16\n"
      ]
     },
     "metadata": {},
     "output_type": "display_data"
    }
   ],
   "source": [
    "# selecting only columns for CC and all CpGs\n",
    "hc.v.all <- overlap[,c(3,5)]\n",
    "hc.v.all\n",
    "\n",
    "\n",
    "# chi-square test\n",
    "total_HC.test <- chisq.test(t(hc.v.all))\n",
    "total_HC.test"
   ]
  },
  {
   "cell_type": "code",
   "execution_count": 41,
   "id": "7949c50b-7b9d-4c52-898c-6e16fc831c5b",
   "metadata": {},
   "outputs": [
    {
     "data": {
      "text/html": [
       "<table class=\"dataframe\">\n",
       "<caption>A data.frame: 7 × 2</caption>\n",
       "<thead>\n",
       "\t<tr><th></th><th scope=col>HH</th><th scope=col>all CpGs</th></tr>\n",
       "\t<tr><th></th><th scope=col>&lt;int&gt;</th><th scope=col>&lt;int&gt;</th></tr>\n",
       "</thead>\n",
       "<tbody>\n",
       "\t<tr><th scope=row>TEs</th><td>18394</td><td>2828372</td></tr>\n",
       "\t<tr><th scope=row>exons</th><td>56100</td><td>2323389</td></tr>\n",
       "\t<tr><th scope=row>introns</th><td>31070</td><td>5497874</td></tr>\n",
       "\t<tr><th scope=row>putative promoters</th><td> 3704</td><td> 926518</td></tr>\n",
       "\t<tr><th scope=row>UTRs</th><td> 3986</td><td> 600840</td></tr>\n",
       "\t<tr><th scope=row>intergenic regions</th><td>21279</td><td>6644297</td></tr>\n",
       "\t<tr><th scope=row>no overlap</th><td>12963</td><td>4576705</td></tr>\n",
       "</tbody>\n",
       "</table>\n"
      ],
      "text/latex": [
       "A data.frame: 7 × 2\n",
       "\\begin{tabular}{r|ll}\n",
       "  & HH & all CpGs\\\\\n",
       "  & <int> & <int>\\\\\n",
       "\\hline\n",
       "\tTEs & 18394 & 2828372\\\\\n",
       "\texons & 56100 & 2323389\\\\\n",
       "\tintrons & 31070 & 5497874\\\\\n",
       "\tputative promoters &  3704 &  926518\\\\\n",
       "\tUTRs &  3986 &  600840\\\\\n",
       "\tintergenic regions & 21279 & 6644297\\\\\n",
       "\tno overlap & 12963 & 4576705\\\\\n",
       "\\end{tabular}\n"
      ],
      "text/markdown": [
       "\n",
       "A data.frame: 7 × 2\n",
       "\n",
       "| <!--/--> | HH &lt;int&gt; | all CpGs &lt;int&gt; |\n",
       "|---|---|---|\n",
       "| TEs | 18394 | 2828372 |\n",
       "| exons | 56100 | 2323389 |\n",
       "| introns | 31070 | 5497874 |\n",
       "| putative promoters |  3704 |  926518 |\n",
       "| UTRs |  3986 |  600840 |\n",
       "| intergenic regions | 21279 | 6644297 |\n",
       "| no overlap | 12963 | 4576705 |\n",
       "\n"
      ],
      "text/plain": [
       "                   HH    all CpGs\n",
       "TEs                18394 2828372 \n",
       "exons              56100 2323389 \n",
       "introns            31070 5497874 \n",
       "putative promoters  3704  926518 \n",
       "UTRs                3986  600840 \n",
       "intergenic regions 21279 6644297 \n",
       "no overlap         12963 4576705 "
      ]
     },
     "metadata": {},
     "output_type": "display_data"
    },
    {
     "data": {
      "text/plain": [
       "\n",
       "\tPearson's Chi-squared test\n",
       "\n",
       "data:  t(hh.v.all)\n",
       "X-squared = 134568, df = 6, p-value < 2.2e-16\n"
      ]
     },
     "metadata": {},
     "output_type": "display_data"
    }
   ],
   "source": [
    "# selecting only columns for CC and all CpGs\n",
    "hh.v.all <- overlap[,c(4,5)]\n",
    "hh.v.all\n",
    "\n",
    "\n",
    "# chi-square test\n",
    "total_HH.test <- chisq.test(t(hh.v.all))\n",
    "total_HH.test"
   ]
  },
  {
   "cell_type": "markdown",
   "id": "0c5f6328-8d8b-493d-a759-cc30ec64b825",
   "metadata": {},
   "source": [
    "Every treatment combination rejects the null hypothesis; the distribution of methylated CpGs is significantly different from all CpGs\n",
    "\n",
    "testing between each other (CC vs. HC and so on)"
   ]
  },
  {
   "cell_type": "code",
   "execution_count": 44,
   "id": "f6c4b1c9-f1b9-4637-97d1-182c85ff7e86",
   "metadata": {},
   "outputs": [
    {
     "data": {
      "text/html": [
       "<table class=\"dataframe\">\n",
       "<caption>A data.frame: 6 × 5</caption>\n",
       "<thead>\n",
       "\t<tr><th></th><th scope=col>CC</th><th scope=col>CH</th><th scope=col>HC</th><th scope=col>HH</th><th scope=col>all CpGs</th></tr>\n",
       "\t<tr><th></th><th scope=col>&lt;int&gt;</th><th scope=col>&lt;int&gt;</th><th scope=col>&lt;int&gt;</th><th scope=col>&lt;int&gt;</th><th scope=col>&lt;int&gt;</th></tr>\n",
       "</thead>\n",
       "<tbody>\n",
       "\t<tr><th scope=row>TEs</th><td>11289</td><td>13304</td><td>19594</td><td>18394</td><td>2828372</td></tr>\n",
       "\t<tr><th scope=row>exons</th><td>42577</td><td>46527</td><td>57498</td><td>56100</td><td>2323389</td></tr>\n",
       "\t<tr><th scope=row>introns</th><td>19342</td><td>22545</td><td>34622</td><td>31070</td><td>5497874</td></tr>\n",
       "\t<tr><th scope=row>putative promoters</th><td> 2081</td><td> 2712</td><td> 4177</td><td> 3704</td><td> 926518</td></tr>\n",
       "\t<tr><th scope=row>UTRs</th><td> 2964</td><td> 3250</td><td> 4207</td><td> 3986</td><td> 600840</td></tr>\n",
       "\t<tr><th scope=row>intergenic regions</th><td>11929</td><td>15066</td><td>24496</td><td>21279</td><td>6644297</td></tr>\n",
       "</tbody>\n",
       "</table>\n"
      ],
      "text/latex": [
       "A data.frame: 6 × 5\n",
       "\\begin{tabular}{r|lllll}\n",
       "  & CC & CH & HC & HH & all CpGs\\\\\n",
       "  & <int> & <int> & <int> & <int> & <int>\\\\\n",
       "\\hline\n",
       "\tTEs & 11289 & 13304 & 19594 & 18394 & 2828372\\\\\n",
       "\texons & 42577 & 46527 & 57498 & 56100 & 2323389\\\\\n",
       "\tintrons & 19342 & 22545 & 34622 & 31070 & 5497874\\\\\n",
       "\tputative promoters &  2081 &  2712 &  4177 &  3704 &  926518\\\\\n",
       "\tUTRs &  2964 &  3250 &  4207 &  3986 &  600840\\\\\n",
       "\tintergenic regions & 11929 & 15066 & 24496 & 21279 & 6644297\\\\\n",
       "\\end{tabular}\n"
      ],
      "text/markdown": [
       "\n",
       "A data.frame: 6 × 5\n",
       "\n",
       "| <!--/--> | CC &lt;int&gt; | CH &lt;int&gt; | HC &lt;int&gt; | HH &lt;int&gt; | all CpGs &lt;int&gt; |\n",
       "|---|---|---|---|---|---|\n",
       "| TEs | 11289 | 13304 | 19594 | 18394 | 2828372 |\n",
       "| exons | 42577 | 46527 | 57498 | 56100 | 2323389 |\n",
       "| introns | 19342 | 22545 | 34622 | 31070 | 5497874 |\n",
       "| putative promoters |  2081 |  2712 |  4177 |  3704 |  926518 |\n",
       "| UTRs |  2964 |  3250 |  4207 |  3986 |  600840 |\n",
       "| intergenic regions | 11929 | 15066 | 24496 | 21279 | 6644297 |\n",
       "\n"
      ],
      "text/plain": [
       "                   CC    CH    HC    HH    all CpGs\n",
       "TEs                11289 13304 19594 18394 2828372 \n",
       "exons              42577 46527 57498 56100 2323389 \n",
       "introns            19342 22545 34622 31070 5497874 \n",
       "putative promoters  2081  2712  4177  3704  926518 \n",
       "UTRs                2964  3250  4207  3986  600840 \n",
       "intergenic regions 11929 15066 24496 21279 6644297 "
      ]
     },
     "metadata": {},
     "output_type": "display_data"
    }
   ],
   "source": [
    "head(overlap)"
   ]
  },
  {
   "cell_type": "markdown",
   "id": "552f705d-4895-4ab4-a082-600caa7ab294",
   "metadata": {},
   "source": [
    "## stat exploration for proportion overlap"
   ]
  },
  {
   "cell_type": "markdown",
   "id": "e2757dbf-f3c8-4a84-9a51-bbb1b10c3e23",
   "metadata": {},
   "source": [
    "for **exons**"
   ]
  },
  {
   "cell_type": "code",
   "execution_count": 30,
   "id": "5cc9930a-b546-4ef6-acb2-f9175b3cf341",
   "metadata": {},
   "outputs": [
    {
     "data": {
      "text/html": [
       "<table class=\"dataframe\">\n",
       "<caption>A data.frame: 5 × 5</caption>\n",
       "<thead>\n",
       "\t<tr><th scope=col>genomicFeature</th><th scope=col>treatment</th><th scope=col>propOverlap</th><th scope=col>propOverlap_sum</th><th scope=col>proportion_overlap</th></tr>\n",
       "\t<tr><th scope=col>&lt;fct&gt;</th><th scope=col>&lt;chr&gt;</th><th scope=col>&lt;int&gt;</th><th scope=col>&lt;int&gt;</th><th scope=col>&lt;dbl&gt;</th></tr>\n",
       "</thead>\n",
       "<tbody>\n",
       "\t<tr><td>exons</td><td>CC      </td><td>  42577</td><td>   97527</td><td>43.66</td></tr>\n",
       "\t<tr><td>exons</td><td>CH      </td><td>  46527</td><td>  112541</td><td>41.34</td></tr>\n",
       "\t<tr><td>exons</td><td>HC      </td><td>  57498</td><td>  159867</td><td>35.97</td></tr>\n",
       "\t<tr><td>exons</td><td>HH      </td><td>  56100</td><td>  147496</td><td>38.03</td></tr>\n",
       "\t<tr><td>exons</td><td>all CpGs</td><td>2323389</td><td>23397995</td><td> 9.93</td></tr>\n",
       "</tbody>\n",
       "</table>\n"
      ],
      "text/latex": [
       "A data.frame: 5 × 5\n",
       "\\begin{tabular}{lllll}\n",
       " genomicFeature & treatment & propOverlap & propOverlap\\_sum & proportion\\_overlap\\\\\n",
       " <fct> & <chr> & <int> & <int> & <dbl>\\\\\n",
       "\\hline\n",
       "\t exons & CC       &   42577 &    97527 & 43.66\\\\\n",
       "\t exons & CH       &   46527 &   112541 & 41.34\\\\\n",
       "\t exons & HC       &   57498 &   159867 & 35.97\\\\\n",
       "\t exons & HH       &   56100 &   147496 & 38.03\\\\\n",
       "\t exons & all CpGs & 2323389 & 23397995 &  9.93\\\\\n",
       "\\end{tabular}\n"
      ],
      "text/markdown": [
       "\n",
       "A data.frame: 5 × 5\n",
       "\n",
       "| genomicFeature &lt;fct&gt; | treatment &lt;chr&gt; | propOverlap &lt;int&gt; | propOverlap_sum &lt;int&gt; | proportion_overlap &lt;dbl&gt; |\n",
       "|---|---|---|---|---|\n",
       "| exons | CC       |   42577 |    97527 | 43.66 |\n",
       "| exons | CH       |   46527 |   112541 | 41.34 |\n",
       "| exons | HC       |   57498 |   159867 | 35.97 |\n",
       "| exons | HH       |   56100 |   147496 | 38.03 |\n",
       "| exons | all CpGs | 2323389 | 23397995 |  9.93 |\n",
       "\n"
      ],
      "text/plain": [
       "  genomicFeature treatment propOverlap propOverlap_sum proportion_overlap\n",
       "1 exons          CC          42577        97527        43.66             \n",
       "2 exons          CH          46527       112541        41.34             \n",
       "3 exons          HC          57498       159867        35.97             \n",
       "4 exons          HH          56100       147496        38.03             \n",
       "5 exons          all CpGs  2323389     23397995         9.93             "
      ]
     },
     "metadata": {},
     "output_type": "display_data"
    }
   ],
   "source": [
    "# pull out only exons\n",
    "exons <- df %>%\n",
    "filter(genomicFeature == 'exons')\n",
    "\n",
    "exons"
   ]
  },
  {
   "cell_type": "code",
   "execution_count": 35,
   "id": "67217f25-5276-4321-b02e-0c45c9b88656",
   "metadata": {},
   "outputs": [
    {
     "data": {
      "text/html": [
       "<table class=\"dataframe\">\n",
       "<caption>A data.frame: 1 × 1</caption>\n",
       "<thead>\n",
       "\t<tr><th scope=col>mean_overlap</th></tr>\n",
       "\t<tr><th scope=col>&lt;dbl&gt;</th></tr>\n",
       "</thead>\n",
       "<tbody>\n",
       "\t<tr><td>39.75</td></tr>\n",
       "</tbody>\n",
       "</table>\n"
      ],
      "text/latex": [
       "A data.frame: 1 × 1\n",
       "\\begin{tabular}{l}\n",
       " mean\\_overlap\\\\\n",
       " <dbl>\\\\\n",
       "\\hline\n",
       "\t 39.75\\\\\n",
       "\\end{tabular}\n"
      ],
      "text/markdown": [
       "\n",
       "A data.frame: 1 × 1\n",
       "\n",
       "| mean_overlap &lt;dbl&gt; |\n",
       "|---|\n",
       "| 39.75 |\n",
       "\n"
      ],
      "text/plain": [
       "  mean_overlap\n",
       "1 39.75       "
      ]
     },
     "metadata": {},
     "output_type": "display_data"
    }
   ],
   "source": [
    "exons %>%\n",
    "  filter(treatment != 'all CpGs') %>% # remove all CpGs info\n",
    "  summarise(mean_overlap = mean(proportion_overlap)) # mean proportion overlap of exons in experimental groups"
   ]
  },
  {
   "cell_type": "markdown",
   "id": "903246a0-425c-4ba2-a050-e8b075facb22",
   "metadata": {},
   "source": [
    "9.93% of all CpGs overlap with exons\n",
    "\n",
    "39.75% of methylated CpGs overlap with exons"
   ]
  },
  {
   "cell_type": "markdown",
   "id": "4aac7200-8cbd-4c36-8d1e-b8fe36b3fa53",
   "metadata": {},
   "source": [
    "**intergenic regions**"
   ]
  },
  {
   "cell_type": "code",
   "execution_count": 36,
   "id": "2152fef3-d9f2-4865-bfad-aad8605ba274",
   "metadata": {},
   "outputs": [
    {
     "data": {
      "text/html": [
       "<table class=\"dataframe\">\n",
       "<caption>A data.frame: 5 × 5</caption>\n",
       "<thead>\n",
       "\t<tr><th scope=col>genomicFeature</th><th scope=col>treatment</th><th scope=col>propOverlap</th><th scope=col>propOverlap_sum</th><th scope=col>proportion_overlap</th></tr>\n",
       "\t<tr><th scope=col>&lt;fct&gt;</th><th scope=col>&lt;chr&gt;</th><th scope=col>&lt;int&gt;</th><th scope=col>&lt;int&gt;</th><th scope=col>&lt;dbl&gt;</th></tr>\n",
       "</thead>\n",
       "<tbody>\n",
       "\t<tr><td>intergenic regions</td><td>CC      </td><td>  11929</td><td>   97527</td><td>12.23</td></tr>\n",
       "\t<tr><td>intergenic regions</td><td>CH      </td><td>  15066</td><td>  112541</td><td>13.39</td></tr>\n",
       "\t<tr><td>intergenic regions</td><td>HC      </td><td>  24496</td><td>  159867</td><td>15.32</td></tr>\n",
       "\t<tr><td>intergenic regions</td><td>HH      </td><td>  21279</td><td>  147496</td><td>14.43</td></tr>\n",
       "\t<tr><td>intergenic regions</td><td>all CpGs</td><td>6644297</td><td>23397995</td><td>28.40</td></tr>\n",
       "</tbody>\n",
       "</table>\n"
      ],
      "text/latex": [
       "A data.frame: 5 × 5\n",
       "\\begin{tabular}{lllll}\n",
       " genomicFeature & treatment & propOverlap & propOverlap\\_sum & proportion\\_overlap\\\\\n",
       " <fct> & <chr> & <int> & <int> & <dbl>\\\\\n",
       "\\hline\n",
       "\t intergenic regions & CC       &   11929 &    97527 & 12.23\\\\\n",
       "\t intergenic regions & CH       &   15066 &   112541 & 13.39\\\\\n",
       "\t intergenic regions & HC       &   24496 &   159867 & 15.32\\\\\n",
       "\t intergenic regions & HH       &   21279 &   147496 & 14.43\\\\\n",
       "\t intergenic regions & all CpGs & 6644297 & 23397995 & 28.40\\\\\n",
       "\\end{tabular}\n"
      ],
      "text/markdown": [
       "\n",
       "A data.frame: 5 × 5\n",
       "\n",
       "| genomicFeature &lt;fct&gt; | treatment &lt;chr&gt; | propOverlap &lt;int&gt; | propOverlap_sum &lt;int&gt; | proportion_overlap &lt;dbl&gt; |\n",
       "|---|---|---|---|---|\n",
       "| intergenic regions | CC       |   11929 |    97527 | 12.23 |\n",
       "| intergenic regions | CH       |   15066 |   112541 | 13.39 |\n",
       "| intergenic regions | HC       |   24496 |   159867 | 15.32 |\n",
       "| intergenic regions | HH       |   21279 |   147496 | 14.43 |\n",
       "| intergenic regions | all CpGs | 6644297 | 23397995 | 28.40 |\n",
       "\n"
      ],
      "text/plain": [
       "  genomicFeature     treatment propOverlap propOverlap_sum proportion_overlap\n",
       "1 intergenic regions CC          11929        97527        12.23             \n",
       "2 intergenic regions CH          15066       112541        13.39             \n",
       "3 intergenic regions HC          24496       159867        15.32             \n",
       "4 intergenic regions HH          21279       147496        14.43             \n",
       "5 intergenic regions all CpGs  6644297     23397995        28.40             "
      ]
     },
     "metadata": {},
     "output_type": "display_data"
    }
   ],
   "source": [
    "# pull out only exons\n",
    "IR <- df %>%\n",
    "filter(genomicFeature == 'intergenic regions')\n",
    "\n",
    "IR"
   ]
  },
  {
   "cell_type": "code",
   "execution_count": 37,
   "id": "60b489ec-9679-4815-bf42-36d79e76b8c6",
   "metadata": {},
   "outputs": [
    {
     "data": {
      "text/html": [
       "<table class=\"dataframe\">\n",
       "<caption>A data.frame: 1 × 1</caption>\n",
       "<thead>\n",
       "\t<tr><th scope=col>mean_overlap</th></tr>\n",
       "\t<tr><th scope=col>&lt;dbl&gt;</th></tr>\n",
       "</thead>\n",
       "<tbody>\n",
       "\t<tr><td>13.8425</td></tr>\n",
       "</tbody>\n",
       "</table>\n"
      ],
      "text/latex": [
       "A data.frame: 1 × 1\n",
       "\\begin{tabular}{l}\n",
       " mean\\_overlap\\\\\n",
       " <dbl>\\\\\n",
       "\\hline\n",
       "\t 13.8425\\\\\n",
       "\\end{tabular}\n"
      ],
      "text/markdown": [
       "\n",
       "A data.frame: 1 × 1\n",
       "\n",
       "| mean_overlap &lt;dbl&gt; |\n",
       "|---|\n",
       "| 13.8425 |\n",
       "\n"
      ],
      "text/plain": [
       "  mean_overlap\n",
       "1 13.8425     "
      ]
     },
     "metadata": {},
     "output_type": "display_data"
    }
   ],
   "source": [
    "IR %>%\n",
    "  filter(treatment != 'all CpGs') %>% # remove all CpGs info\n",
    "  summarise(mean_overlap = mean(proportion_overlap)) # mean proportion overlap of exons in experimental groups"
   ]
  },
  {
   "cell_type": "markdown",
   "id": "5e83a4eb-6831-45e7-bea9-04a791d58389",
   "metadata": {},
   "source": [
    "28.40% of all CpGs were in intergenic regions\n",
    "\n",
    "13.84% of methylated CpGs were in intergenic regions"
   ]
  },
  {
   "cell_type": "markdown",
   "id": "0beca489-129b-4c76-8c7b-85ade99921b7",
   "metadata": {},
   "source": [
    "**putative promoters**"
   ]
  },
  {
   "cell_type": "code",
   "execution_count": 38,
   "id": "bd92b974-794d-4c82-a5b5-ac779a78b21b",
   "metadata": {},
   "outputs": [
    {
     "data": {
      "text/html": [
       "<table class=\"dataframe\">\n",
       "<caption>A data.frame: 5 × 5</caption>\n",
       "<thead>\n",
       "\t<tr><th scope=col>genomicFeature</th><th scope=col>treatment</th><th scope=col>propOverlap</th><th scope=col>propOverlap_sum</th><th scope=col>proportion_overlap</th></tr>\n",
       "\t<tr><th scope=col>&lt;fct&gt;</th><th scope=col>&lt;chr&gt;</th><th scope=col>&lt;int&gt;</th><th scope=col>&lt;int&gt;</th><th scope=col>&lt;dbl&gt;</th></tr>\n",
       "</thead>\n",
       "<tbody>\n",
       "\t<tr><td>putative promoters</td><td>CC      </td><td>  2081</td><td>   97527</td><td>2.13</td></tr>\n",
       "\t<tr><td>putative promoters</td><td>CH      </td><td>  2712</td><td>  112541</td><td>2.41</td></tr>\n",
       "\t<tr><td>putative promoters</td><td>HC      </td><td>  4177</td><td>  159867</td><td>2.61</td></tr>\n",
       "\t<tr><td>putative promoters</td><td>HH      </td><td>  3704</td><td>  147496</td><td>2.51</td></tr>\n",
       "\t<tr><td>putative promoters</td><td>all CpGs</td><td>926518</td><td>23397995</td><td>3.96</td></tr>\n",
       "</tbody>\n",
       "</table>\n"
      ],
      "text/latex": [
       "A data.frame: 5 × 5\n",
       "\\begin{tabular}{lllll}\n",
       " genomicFeature & treatment & propOverlap & propOverlap\\_sum & proportion\\_overlap\\\\\n",
       " <fct> & <chr> & <int> & <int> & <dbl>\\\\\n",
       "\\hline\n",
       "\t putative promoters & CC       &   2081 &    97527 & 2.13\\\\\n",
       "\t putative promoters & CH       &   2712 &   112541 & 2.41\\\\\n",
       "\t putative promoters & HC       &   4177 &   159867 & 2.61\\\\\n",
       "\t putative promoters & HH       &   3704 &   147496 & 2.51\\\\\n",
       "\t putative promoters & all CpGs & 926518 & 23397995 & 3.96\\\\\n",
       "\\end{tabular}\n"
      ],
      "text/markdown": [
       "\n",
       "A data.frame: 5 × 5\n",
       "\n",
       "| genomicFeature &lt;fct&gt; | treatment &lt;chr&gt; | propOverlap &lt;int&gt; | propOverlap_sum &lt;int&gt; | proportion_overlap &lt;dbl&gt; |\n",
       "|---|---|---|---|---|\n",
       "| putative promoters | CC       |   2081 |    97527 | 2.13 |\n",
       "| putative promoters | CH       |   2712 |   112541 | 2.41 |\n",
       "| putative promoters | HC       |   4177 |   159867 | 2.61 |\n",
       "| putative promoters | HH       |   3704 |   147496 | 2.51 |\n",
       "| putative promoters | all CpGs | 926518 | 23397995 | 3.96 |\n",
       "\n"
      ],
      "text/plain": [
       "  genomicFeature     treatment propOverlap propOverlap_sum proportion_overlap\n",
       "1 putative promoters CC          2081         97527        2.13              \n",
       "2 putative promoters CH          2712        112541        2.41              \n",
       "3 putative promoters HC          4177        159867        2.61              \n",
       "4 putative promoters HH          3704        147496        2.51              \n",
       "5 putative promoters all CpGs  926518      23397995        3.96              "
      ]
     },
     "metadata": {},
     "output_type": "display_data"
    }
   ],
   "source": [
    "# pull out only exons\n",
    "pp <- df %>%\n",
    "filter(genomicFeature == 'putative promoters')\n",
    "\n",
    "pp"
   ]
  },
  {
   "cell_type": "code",
   "execution_count": 39,
   "id": "03be3489-a204-47cb-b798-22ee7e648faa",
   "metadata": {},
   "outputs": [
    {
     "data": {
      "text/html": [
       "<table class=\"dataframe\">\n",
       "<caption>A data.frame: 1 × 1</caption>\n",
       "<thead>\n",
       "\t<tr><th scope=col>mean_overlap</th></tr>\n",
       "\t<tr><th scope=col>&lt;dbl&gt;</th></tr>\n",
       "</thead>\n",
       "<tbody>\n",
       "\t<tr><td>2.415</td></tr>\n",
       "</tbody>\n",
       "</table>\n"
      ],
      "text/latex": [
       "A data.frame: 1 × 1\n",
       "\\begin{tabular}{l}\n",
       " mean\\_overlap\\\\\n",
       " <dbl>\\\\\n",
       "\\hline\n",
       "\t 2.415\\\\\n",
       "\\end{tabular}\n"
      ],
      "text/markdown": [
       "\n",
       "A data.frame: 1 × 1\n",
       "\n",
       "| mean_overlap &lt;dbl&gt; |\n",
       "|---|\n",
       "| 2.415 |\n",
       "\n"
      ],
      "text/plain": [
       "  mean_overlap\n",
       "1 2.415       "
      ]
     },
     "metadata": {},
     "output_type": "display_data"
    }
   ],
   "source": [
    "pp %>%\n",
    "  filter(treatment != 'all CpGs') %>% # remove all CpGs info\n",
    "  summarise(mean_overlap = mean(proportion_overlap)) # mean proportion overlap of exons in experimental groups"
   ]
  },
  {
   "cell_type": "markdown",
   "id": "c0b168c2-c6f6-48e4-bd7d-c7f18c46d60e",
   "metadata": {},
   "source": [
    "3.96% of all CpGs were in intergenic regions\n",
    "\n",
    "2.46% of methylated CpGs were in intergenic regions"
   ]
  }
 ],
 "metadata": {
  "kernelspec": {
   "display_name": "R [conda env:.conda-r-env]",
   "language": "R",
   "name": "conda-env-.conda-r-env-r"
  },
  "language_info": {
   "codemirror_mode": "r",
   "file_extension": ".r",
   "mimetype": "text/x-r-source",
   "name": "R",
   "pygments_lexer": "r",
   "version": "4.3.2"
  }
 },
 "nbformat": 4,
 "nbformat_minor": 5
}
