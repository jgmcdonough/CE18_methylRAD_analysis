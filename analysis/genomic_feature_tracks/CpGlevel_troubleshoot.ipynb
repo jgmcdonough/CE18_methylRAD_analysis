{
 "cells": [
  {
   "cell_type": "markdown",
   "id": "ecf126df-9d92-4959-b39c-9ace3d79581e",
   "metadata": {},
   "source": [
    "# Methylation level of CpGs \n",
    "trying to troubleshoot CpG boxplot issue that I noticed on 03/20/2025\n",
    "\n",
    "first re-ran multicov files - ran on all the bam files but also generated multicov matrices for each treatment combination (so the replicates are in the same file) in case there's problems with trying to assign oysters"
   ]
  },
  {
   "cell_type": "markdown",
   "id": "93da1b84-d312-4692-8087-c5d0a8bbc64a",
   "metadata": {},
   "source": [
    "### 0. loading libraries"
   ]
  },
  {
   "cell_type": "code",
   "execution_count": 1,
   "id": "cdb3901e-9f68-4b9d-9a20-d638deb1f561",
   "metadata": {},
   "outputs": [
    {
     "name": "stderr",
     "output_type": "stream",
     "text": [
      "── \u001b[1mAttaching core tidyverse packages\u001b[22m ──────────────────────── tidyverse 2.0.0 ──\n",
      "\u001b[32m✔\u001b[39m \u001b[34mdplyr    \u001b[39m 1.1.4     \u001b[32m✔\u001b[39m \u001b[34mreadr    \u001b[39m 2.1.4\n",
      "\u001b[32m✔\u001b[39m \u001b[34mforcats  \u001b[39m 1.0.0     \u001b[32m✔\u001b[39m \u001b[34mstringr  \u001b[39m 1.5.1\n",
      "\u001b[32m✔\u001b[39m \u001b[34mggplot2  \u001b[39m 3.5.1     \u001b[32m✔\u001b[39m \u001b[34mtibble   \u001b[39m 3.2.1\n",
      "\u001b[32m✔\u001b[39m \u001b[34mlubridate\u001b[39m 1.9.3     \u001b[32m✔\u001b[39m \u001b[34mtidyr    \u001b[39m 1.3.0\n",
      "\u001b[32m✔\u001b[39m \u001b[34mpurrr    \u001b[39m 1.0.2     \n",
      "── \u001b[1mConflicts\u001b[22m ────────────────────────────────────────── tidyverse_conflicts() ──\n",
      "\u001b[31m✖\u001b[39m \u001b[34mdplyr\u001b[39m::\u001b[32mfilter()\u001b[39m masks \u001b[34mstats\u001b[39m::filter()\n",
      "\u001b[31m✖\u001b[39m \u001b[34mdplyr\u001b[39m::\u001b[32mlag()\u001b[39m    masks \u001b[34mstats\u001b[39m::lag()\n",
      "\u001b[36mℹ\u001b[39m Use the conflicted package (\u001b[3m\u001b[34m<http://conflicted.r-lib.org/>\u001b[39m\u001b[23m) to force all conflicts to become errors\n"
     ]
    }
   ],
   "source": [
    "library(tidyverse)"
   ]
  },
  {
   "cell_type": "markdown",
   "id": "be0f5c8d-78ef-4089-82bb-1dbe0bc43fd5",
   "metadata": {},
   "source": [
    "### 1. loading treatment CSVs\n",
    "\n",
    "These files were generated with the script `bedtools_CG_byTreatment.txt` in my troubleshooting dir outside of the repo project dir. "
   ]
  },
  {
   "cell_type": "code",
   "execution_count": 4,
   "id": "ec130e32-984c-4447-8960-e7abcfa6d564",
   "metadata": {},
   "outputs": [
    {
     "data": {
      "text/html": [
       "<table class=\"dataframe\">\n",
       "<caption>A data.frame: 6 × 9</caption>\n",
       "<thead>\n",
       "\t<tr><th></th><th scope=col>NC_035780.1</th><th scope=col>X28</th><th scope=col>X30</th><th scope=col>CG_motif</th><th scope=col>X0</th><th scope=col>X0.1</th><th scope=col>X0.2</th><th scope=col>X0.3</th><th scope=col>X0.4</th></tr>\n",
       "\t<tr><th></th><th scope=col>&lt;chr&gt;</th><th scope=col>&lt;int&gt;</th><th scope=col>&lt;int&gt;</th><th scope=col>&lt;chr&gt;</th><th scope=col>&lt;int&gt;</th><th scope=col>&lt;int&gt;</th><th scope=col>&lt;int&gt;</th><th scope=col>&lt;int&gt;</th><th scope=col>&lt;int&gt;</th></tr>\n",
       "</thead>\n",
       "<tbody>\n",
       "\t<tr><th scope=row>1</th><td>NC_035780.1</td><td> 54</td><td> 56</td><td>CG_motif</td><td>0</td><td>0</td><td>0</td><td>0</td><td>0</td></tr>\n",
       "\t<tr><th scope=row>2</th><td>NC_035780.1</td><td> 75</td><td> 77</td><td>CG_motif</td><td>0</td><td>0</td><td>0</td><td>0</td><td>0</td></tr>\n",
       "\t<tr><th scope=row>3</th><td>NC_035780.1</td><td> 93</td><td> 95</td><td>CG_motif</td><td>0</td><td>0</td><td>0</td><td>0</td><td>0</td></tr>\n",
       "\t<tr><th scope=row>4</th><td>NC_035780.1</td><td>103</td><td>105</td><td>CG_motif</td><td>0</td><td>0</td><td>0</td><td>0</td><td>0</td></tr>\n",
       "\t<tr><th scope=row>5</th><td>NC_035780.1</td><td>116</td><td>118</td><td>CG_motif</td><td>0</td><td>0</td><td>0</td><td>0</td><td>0</td></tr>\n",
       "\t<tr><th scope=row>6</th><td>NC_035780.1</td><td>134</td><td>136</td><td>CG_motif</td><td>0</td><td>0</td><td>0</td><td>0</td><td>0</td></tr>\n",
       "</tbody>\n",
       "</table>\n"
      ],
      "text/latex": [
       "A data.frame: 6 × 9\n",
       "\\begin{tabular}{r|lllllllll}\n",
       "  & NC\\_035780.1 & X28 & X30 & CG\\_motif & X0 & X0.1 & X0.2 & X0.3 & X0.4\\\\\n",
       "  & <chr> & <int> & <int> & <chr> & <int> & <int> & <int> & <int> & <int>\\\\\n",
       "\\hline\n",
       "\t1 & NC\\_035780.1 &  54 &  56 & CG\\_motif & 0 & 0 & 0 & 0 & 0\\\\\n",
       "\t2 & NC\\_035780.1 &  75 &  77 & CG\\_motif & 0 & 0 & 0 & 0 & 0\\\\\n",
       "\t3 & NC\\_035780.1 &  93 &  95 & CG\\_motif & 0 & 0 & 0 & 0 & 0\\\\\n",
       "\t4 & NC\\_035780.1 & 103 & 105 & CG\\_motif & 0 & 0 & 0 & 0 & 0\\\\\n",
       "\t5 & NC\\_035780.1 & 116 & 118 & CG\\_motif & 0 & 0 & 0 & 0 & 0\\\\\n",
       "\t6 & NC\\_035780.1 & 134 & 136 & CG\\_motif & 0 & 0 & 0 & 0 & 0\\\\\n",
       "\\end{tabular}\n"
      ],
      "text/markdown": [
       "\n",
       "A data.frame: 6 × 9\n",
       "\n",
       "| <!--/--> | NC_035780.1 &lt;chr&gt; | X28 &lt;int&gt; | X30 &lt;int&gt; | CG_motif &lt;chr&gt; | X0 &lt;int&gt; | X0.1 &lt;int&gt; | X0.2 &lt;int&gt; | X0.3 &lt;int&gt; | X0.4 &lt;int&gt; |\n",
       "|---|---|---|---|---|---|---|---|---|---|\n",
       "| 1 | NC_035780.1 |  54 |  56 | CG_motif | 0 | 0 | 0 | 0 | 0 |\n",
       "| 2 | NC_035780.1 |  75 |  77 | CG_motif | 0 | 0 | 0 | 0 | 0 |\n",
       "| 3 | NC_035780.1 |  93 |  95 | CG_motif | 0 | 0 | 0 | 0 | 0 |\n",
       "| 4 | NC_035780.1 | 103 | 105 | CG_motif | 0 | 0 | 0 | 0 | 0 |\n",
       "| 5 | NC_035780.1 | 116 | 118 | CG_motif | 0 | 0 | 0 | 0 | 0 |\n",
       "| 6 | NC_035780.1 | 134 | 136 | CG_motif | 0 | 0 | 0 | 0 | 0 |\n",
       "\n"
      ],
      "text/plain": [
       "  NC_035780.1 X28 X30 CG_motif X0 X0.1 X0.2 X0.3 X0.4\n",
       "1 NC_035780.1  54  56 CG_motif 0  0    0    0    0   \n",
       "2 NC_035780.1  75  77 CG_motif 0  0    0    0    0   \n",
       "3 NC_035780.1  93  95 CG_motif 0  0    0    0    0   \n",
       "4 NC_035780.1 103 105 CG_motif 0  0    0    0    0   \n",
       "5 NC_035780.1 116 118 CG_motif 0  0    0    0    0   \n",
       "6 NC_035780.1 134 136 CG_motif 0  0    0    0    0   "
      ]
     },
     "metadata": {},
     "output_type": "display_data"
    }
   ],
   "source": [
    "# control control\n",
    "cc_mc <- read.csv('/project/pi_sarah_gignouxwolfsohn_uml_edu/julia/CE_methyl_assembly/assembly_pipeline_files/genomic_bed_files/troubleshooting_03202025/CC_CG_motif_multicov.csv', sep = '\\t')\n",
    "head(cc_mc)\n",
    "\n",
    "# hypoxic control\n",
    "hc_mc <- read.csv('/project/pi_sarah_gignouxwolfsohn_uml_edu/julia/CE_methyl_assembly/assembly_pipeline_files/genomic_bed_files/troubleshooting_03202025/HC_CG_motif_multicov.csv', sep = '\\t')\n",
    "\n",
    "# control hypoxic \n",
    "ch_mc <- read.csv('/project/pi_sarah_gignouxwolfsohn_uml_edu/julia/CE_methyl_assembly/assembly_pipeline_files/genomic_bed_files/troubleshooting_03202025/CH_CG_motif_multicov.csv', sep = '\\t')\n",
    "\n",
    "# hypoxic hypoxic \n",
    "hh_mc <- read.csv('/project/pi_sarah_gignouxwolfsohn_uml_edu/julia/CE_methyl_assembly/assembly_pipeline_files/genomic_bed_files/troubleshooting_03202025/HH_CG_motif_multicov.csv', sep = '\\t')"
   ]
  },
  {
   "cell_type": "code",
   "execution_count": 5,
   "id": "26f9d746-2062-4b6c-ba3c-adde329d2440",
   "metadata": {},
   "outputs": [
    {
     "data": {
      "text/html": [
       "<table class=\"dataframe\">\n",
       "<caption>A data.frame: 6 × 9</caption>\n",
       "<thead>\n",
       "\t<tr><th></th><th scope=col>NC_035780.1</th><th scope=col>X28</th><th scope=col>X30</th><th scope=col>CG_motif</th><th scope=col>X0</th><th scope=col>X0.1</th><th scope=col>X0.2</th><th scope=col>X0.3</th><th scope=col>X0.4</th></tr>\n",
       "\t<tr><th></th><th scope=col>&lt;chr&gt;</th><th scope=col>&lt;int&gt;</th><th scope=col>&lt;int&gt;</th><th scope=col>&lt;chr&gt;</th><th scope=col>&lt;int&gt;</th><th scope=col>&lt;int&gt;</th><th scope=col>&lt;int&gt;</th><th scope=col>&lt;int&gt;</th><th scope=col>&lt;int&gt;</th></tr>\n",
       "</thead>\n",
       "<tbody>\n",
       "\t<tr><th scope=row>1</th><td>NC_035780.1</td><td> 54</td><td> 56</td><td>CG_motif</td><td>0</td><td>0</td><td>0</td><td>0</td><td>0</td></tr>\n",
       "\t<tr><th scope=row>2</th><td>NC_035780.1</td><td> 75</td><td> 77</td><td>CG_motif</td><td>0</td><td>0</td><td>0</td><td>0</td><td>0</td></tr>\n",
       "\t<tr><th scope=row>3</th><td>NC_035780.1</td><td> 93</td><td> 95</td><td>CG_motif</td><td>0</td><td>0</td><td>0</td><td>0</td><td>0</td></tr>\n",
       "\t<tr><th scope=row>4</th><td>NC_035780.1</td><td>103</td><td>105</td><td>CG_motif</td><td>0</td><td>0</td><td>0</td><td>0</td><td>0</td></tr>\n",
       "\t<tr><th scope=row>5</th><td>NC_035780.1</td><td>116</td><td>118</td><td>CG_motif</td><td>0</td><td>0</td><td>0</td><td>0</td><td>0</td></tr>\n",
       "\t<tr><th scope=row>6</th><td>NC_035780.1</td><td>134</td><td>136</td><td>CG_motif</td><td>0</td><td>0</td><td>0</td><td>0</td><td>0</td></tr>\n",
       "</tbody>\n",
       "</table>\n"
      ],
      "text/latex": [
       "A data.frame: 6 × 9\n",
       "\\begin{tabular}{r|lllllllll}\n",
       "  & NC\\_035780.1 & X28 & X30 & CG\\_motif & X0 & X0.1 & X0.2 & X0.3 & X0.4\\\\\n",
       "  & <chr> & <int> & <int> & <chr> & <int> & <int> & <int> & <int> & <int>\\\\\n",
       "\\hline\n",
       "\t1 & NC\\_035780.1 &  54 &  56 & CG\\_motif & 0 & 0 & 0 & 0 & 0\\\\\n",
       "\t2 & NC\\_035780.1 &  75 &  77 & CG\\_motif & 0 & 0 & 0 & 0 & 0\\\\\n",
       "\t3 & NC\\_035780.1 &  93 &  95 & CG\\_motif & 0 & 0 & 0 & 0 & 0\\\\\n",
       "\t4 & NC\\_035780.1 & 103 & 105 & CG\\_motif & 0 & 0 & 0 & 0 & 0\\\\\n",
       "\t5 & NC\\_035780.1 & 116 & 118 & CG\\_motif & 0 & 0 & 0 & 0 & 0\\\\\n",
       "\t6 & NC\\_035780.1 & 134 & 136 & CG\\_motif & 0 & 0 & 0 & 0 & 0\\\\\n",
       "\\end{tabular}\n"
      ],
      "text/markdown": [
       "\n",
       "A data.frame: 6 × 9\n",
       "\n",
       "| <!--/--> | NC_035780.1 &lt;chr&gt; | X28 &lt;int&gt; | X30 &lt;int&gt; | CG_motif &lt;chr&gt; | X0 &lt;int&gt; | X0.1 &lt;int&gt; | X0.2 &lt;int&gt; | X0.3 &lt;int&gt; | X0.4 &lt;int&gt; |\n",
       "|---|---|---|---|---|---|---|---|---|---|\n",
       "| 1 | NC_035780.1 |  54 |  56 | CG_motif | 0 | 0 | 0 | 0 | 0 |\n",
       "| 2 | NC_035780.1 |  75 |  77 | CG_motif | 0 | 0 | 0 | 0 | 0 |\n",
       "| 3 | NC_035780.1 |  93 |  95 | CG_motif | 0 | 0 | 0 | 0 | 0 |\n",
       "| 4 | NC_035780.1 | 103 | 105 | CG_motif | 0 | 0 | 0 | 0 | 0 |\n",
       "| 5 | NC_035780.1 | 116 | 118 | CG_motif | 0 | 0 | 0 | 0 | 0 |\n",
       "| 6 | NC_035780.1 | 134 | 136 | CG_motif | 0 | 0 | 0 | 0 | 0 |\n",
       "\n"
      ],
      "text/plain": [
       "  NC_035780.1 X28 X30 CG_motif X0 X0.1 X0.2 X0.3 X0.4\n",
       "1 NC_035780.1  54  56 CG_motif 0  0    0    0    0   \n",
       "2 NC_035780.1  75  77 CG_motif 0  0    0    0    0   \n",
       "3 NC_035780.1  93  95 CG_motif 0  0    0    0    0   \n",
       "4 NC_035780.1 103 105 CG_motif 0  0    0    0    0   \n",
       "5 NC_035780.1 116 118 CG_motif 0  0    0    0    0   \n",
       "6 NC_035780.1 134 136 CG_motif 0  0    0    0    0   "
      ]
     },
     "metadata": {},
     "output_type": "display_data"
    },
    {
     "data": {
      "text/html": [
       "<table class=\"dataframe\">\n",
       "<caption>A data.frame: 6 × 9</caption>\n",
       "<thead>\n",
       "\t<tr><th></th><th scope=col>NC_035780.1</th><th scope=col>X28</th><th scope=col>X30</th><th scope=col>CG_motif</th><th scope=col>X0</th><th scope=col>X0.1</th><th scope=col>X0.2</th><th scope=col>X0.3</th><th scope=col>X0.4</th></tr>\n",
       "\t<tr><th></th><th scope=col>&lt;chr&gt;</th><th scope=col>&lt;int&gt;</th><th scope=col>&lt;int&gt;</th><th scope=col>&lt;chr&gt;</th><th scope=col>&lt;int&gt;</th><th scope=col>&lt;int&gt;</th><th scope=col>&lt;int&gt;</th><th scope=col>&lt;int&gt;</th><th scope=col>&lt;int&gt;</th></tr>\n",
       "</thead>\n",
       "<tbody>\n",
       "\t<tr><th scope=row>1</th><td>NC_035780.1</td><td> 54</td><td> 56</td><td>CG_motif</td><td>0</td><td>0</td><td>0</td><td>0</td><td>0</td></tr>\n",
       "\t<tr><th scope=row>2</th><td>NC_035780.1</td><td> 75</td><td> 77</td><td>CG_motif</td><td>0</td><td>0</td><td>0</td><td>0</td><td>0</td></tr>\n",
       "\t<tr><th scope=row>3</th><td>NC_035780.1</td><td> 93</td><td> 95</td><td>CG_motif</td><td>0</td><td>0</td><td>0</td><td>0</td><td>0</td></tr>\n",
       "\t<tr><th scope=row>4</th><td>NC_035780.1</td><td>103</td><td>105</td><td>CG_motif</td><td>0</td><td>0</td><td>0</td><td>0</td><td>0</td></tr>\n",
       "\t<tr><th scope=row>5</th><td>NC_035780.1</td><td>116</td><td>118</td><td>CG_motif</td><td>0</td><td>0</td><td>0</td><td>0</td><td>0</td></tr>\n",
       "\t<tr><th scope=row>6</th><td>NC_035780.1</td><td>134</td><td>136</td><td>CG_motif</td><td>0</td><td>0</td><td>0</td><td>0</td><td>0</td></tr>\n",
       "</tbody>\n",
       "</table>\n"
      ],
      "text/latex": [
       "A data.frame: 6 × 9\n",
       "\\begin{tabular}{r|lllllllll}\n",
       "  & NC\\_035780.1 & X28 & X30 & CG\\_motif & X0 & X0.1 & X0.2 & X0.3 & X0.4\\\\\n",
       "  & <chr> & <int> & <int> & <chr> & <int> & <int> & <int> & <int> & <int>\\\\\n",
       "\\hline\n",
       "\t1 & NC\\_035780.1 &  54 &  56 & CG\\_motif & 0 & 0 & 0 & 0 & 0\\\\\n",
       "\t2 & NC\\_035780.1 &  75 &  77 & CG\\_motif & 0 & 0 & 0 & 0 & 0\\\\\n",
       "\t3 & NC\\_035780.1 &  93 &  95 & CG\\_motif & 0 & 0 & 0 & 0 & 0\\\\\n",
       "\t4 & NC\\_035780.1 & 103 & 105 & CG\\_motif & 0 & 0 & 0 & 0 & 0\\\\\n",
       "\t5 & NC\\_035780.1 & 116 & 118 & CG\\_motif & 0 & 0 & 0 & 0 & 0\\\\\n",
       "\t6 & NC\\_035780.1 & 134 & 136 & CG\\_motif & 0 & 0 & 0 & 0 & 0\\\\\n",
       "\\end{tabular}\n"
      ],
      "text/markdown": [
       "\n",
       "A data.frame: 6 × 9\n",
       "\n",
       "| <!--/--> | NC_035780.1 &lt;chr&gt; | X28 &lt;int&gt; | X30 &lt;int&gt; | CG_motif &lt;chr&gt; | X0 &lt;int&gt; | X0.1 &lt;int&gt; | X0.2 &lt;int&gt; | X0.3 &lt;int&gt; | X0.4 &lt;int&gt; |\n",
       "|---|---|---|---|---|---|---|---|---|---|\n",
       "| 1 | NC_035780.1 |  54 |  56 | CG_motif | 0 | 0 | 0 | 0 | 0 |\n",
       "| 2 | NC_035780.1 |  75 |  77 | CG_motif | 0 | 0 | 0 | 0 | 0 |\n",
       "| 3 | NC_035780.1 |  93 |  95 | CG_motif | 0 | 0 | 0 | 0 | 0 |\n",
       "| 4 | NC_035780.1 | 103 | 105 | CG_motif | 0 | 0 | 0 | 0 | 0 |\n",
       "| 5 | NC_035780.1 | 116 | 118 | CG_motif | 0 | 0 | 0 | 0 | 0 |\n",
       "| 6 | NC_035780.1 | 134 | 136 | CG_motif | 0 | 0 | 0 | 0 | 0 |\n",
       "\n"
      ],
      "text/plain": [
       "  NC_035780.1 X28 X30 CG_motif X0 X0.1 X0.2 X0.3 X0.4\n",
       "1 NC_035780.1  54  56 CG_motif 0  0    0    0    0   \n",
       "2 NC_035780.1  75  77 CG_motif 0  0    0    0    0   \n",
       "3 NC_035780.1  93  95 CG_motif 0  0    0    0    0   \n",
       "4 NC_035780.1 103 105 CG_motif 0  0    0    0    0   \n",
       "5 NC_035780.1 116 118 CG_motif 0  0    0    0    0   \n",
       "6 NC_035780.1 134 136 CG_motif 0  0    0    0    0   "
      ]
     },
     "metadata": {},
     "output_type": "display_data"
    },
    {
     "data": {
      "text/html": [
       "<table class=\"dataframe\">\n",
       "<caption>A data.frame: 6 × 9</caption>\n",
       "<thead>\n",
       "\t<tr><th></th><th scope=col>NC_035780.1</th><th scope=col>X28</th><th scope=col>X30</th><th scope=col>CG_motif</th><th scope=col>X0</th><th scope=col>X0.1</th><th scope=col>X0.2</th><th scope=col>X0.3</th><th scope=col>X0.4</th></tr>\n",
       "\t<tr><th></th><th scope=col>&lt;chr&gt;</th><th scope=col>&lt;int&gt;</th><th scope=col>&lt;int&gt;</th><th scope=col>&lt;chr&gt;</th><th scope=col>&lt;int&gt;</th><th scope=col>&lt;int&gt;</th><th scope=col>&lt;int&gt;</th><th scope=col>&lt;int&gt;</th><th scope=col>&lt;int&gt;</th></tr>\n",
       "</thead>\n",
       "<tbody>\n",
       "\t<tr><th scope=row>1</th><td>NC_035780.1</td><td> 54</td><td> 56</td><td>CG_motif</td><td>0</td><td>0</td><td>0</td><td>0</td><td>0</td></tr>\n",
       "\t<tr><th scope=row>2</th><td>NC_035780.1</td><td> 75</td><td> 77</td><td>CG_motif</td><td>0</td><td>0</td><td>0</td><td>0</td><td>0</td></tr>\n",
       "\t<tr><th scope=row>3</th><td>NC_035780.1</td><td> 93</td><td> 95</td><td>CG_motif</td><td>0</td><td>0</td><td>0</td><td>0</td><td>0</td></tr>\n",
       "\t<tr><th scope=row>4</th><td>NC_035780.1</td><td>103</td><td>105</td><td>CG_motif</td><td>0</td><td>0</td><td>0</td><td>0</td><td>0</td></tr>\n",
       "\t<tr><th scope=row>5</th><td>NC_035780.1</td><td>116</td><td>118</td><td>CG_motif</td><td>0</td><td>0</td><td>0</td><td>0</td><td>0</td></tr>\n",
       "\t<tr><th scope=row>6</th><td>NC_035780.1</td><td>134</td><td>136</td><td>CG_motif</td><td>0</td><td>0</td><td>0</td><td>0</td><td>0</td></tr>\n",
       "</tbody>\n",
       "</table>\n"
      ],
      "text/latex": [
       "A data.frame: 6 × 9\n",
       "\\begin{tabular}{r|lllllllll}\n",
       "  & NC\\_035780.1 & X28 & X30 & CG\\_motif & X0 & X0.1 & X0.2 & X0.3 & X0.4\\\\\n",
       "  & <chr> & <int> & <int> & <chr> & <int> & <int> & <int> & <int> & <int>\\\\\n",
       "\\hline\n",
       "\t1 & NC\\_035780.1 &  54 &  56 & CG\\_motif & 0 & 0 & 0 & 0 & 0\\\\\n",
       "\t2 & NC\\_035780.1 &  75 &  77 & CG\\_motif & 0 & 0 & 0 & 0 & 0\\\\\n",
       "\t3 & NC\\_035780.1 &  93 &  95 & CG\\_motif & 0 & 0 & 0 & 0 & 0\\\\\n",
       "\t4 & NC\\_035780.1 & 103 & 105 & CG\\_motif & 0 & 0 & 0 & 0 & 0\\\\\n",
       "\t5 & NC\\_035780.1 & 116 & 118 & CG\\_motif & 0 & 0 & 0 & 0 & 0\\\\\n",
       "\t6 & NC\\_035780.1 & 134 & 136 & CG\\_motif & 0 & 0 & 0 & 0 & 0\\\\\n",
       "\\end{tabular}\n"
      ],
      "text/markdown": [
       "\n",
       "A data.frame: 6 × 9\n",
       "\n",
       "| <!--/--> | NC_035780.1 &lt;chr&gt; | X28 &lt;int&gt; | X30 &lt;int&gt; | CG_motif &lt;chr&gt; | X0 &lt;int&gt; | X0.1 &lt;int&gt; | X0.2 &lt;int&gt; | X0.3 &lt;int&gt; | X0.4 &lt;int&gt; |\n",
       "|---|---|---|---|---|---|---|---|---|---|\n",
       "| 1 | NC_035780.1 |  54 |  56 | CG_motif | 0 | 0 | 0 | 0 | 0 |\n",
       "| 2 | NC_035780.1 |  75 |  77 | CG_motif | 0 | 0 | 0 | 0 | 0 |\n",
       "| 3 | NC_035780.1 |  93 |  95 | CG_motif | 0 | 0 | 0 | 0 | 0 |\n",
       "| 4 | NC_035780.1 | 103 | 105 | CG_motif | 0 | 0 | 0 | 0 | 0 |\n",
       "| 5 | NC_035780.1 | 116 | 118 | CG_motif | 0 | 0 | 0 | 0 | 0 |\n",
       "| 6 | NC_035780.1 | 134 | 136 | CG_motif | 0 | 0 | 0 | 0 | 0 |\n",
       "\n"
      ],
      "text/plain": [
       "  NC_035780.1 X28 X30 CG_motif X0 X0.1 X0.2 X0.3 X0.4\n",
       "1 NC_035780.1  54  56 CG_motif 0  0    0    0    0   \n",
       "2 NC_035780.1  75  77 CG_motif 0  0    0    0    0   \n",
       "3 NC_035780.1  93  95 CG_motif 0  0    0    0    0   \n",
       "4 NC_035780.1 103 105 CG_motif 0  0    0    0    0   \n",
       "5 NC_035780.1 116 118 CG_motif 0  0    0    0    0   \n",
       "6 NC_035780.1 134 136 CG_motif 0  0    0    0    0   "
      ]
     },
     "metadata": {},
     "output_type": "display_data"
    },
    {
     "data": {
      "text/html": [
       "<table class=\"dataframe\">\n",
       "<caption>A data.frame: 6 × 9</caption>\n",
       "<thead>\n",
       "\t<tr><th></th><th scope=col>NC_035780.1</th><th scope=col>X28</th><th scope=col>X30</th><th scope=col>CG_motif</th><th scope=col>X0</th><th scope=col>X0.1</th><th scope=col>X0.2</th><th scope=col>X0.3</th><th scope=col>X0.4</th></tr>\n",
       "\t<tr><th></th><th scope=col>&lt;chr&gt;</th><th scope=col>&lt;int&gt;</th><th scope=col>&lt;int&gt;</th><th scope=col>&lt;chr&gt;</th><th scope=col>&lt;int&gt;</th><th scope=col>&lt;int&gt;</th><th scope=col>&lt;int&gt;</th><th scope=col>&lt;int&gt;</th><th scope=col>&lt;int&gt;</th></tr>\n",
       "</thead>\n",
       "<tbody>\n",
       "\t<tr><th scope=row>1</th><td>NC_035780.1</td><td> 54</td><td> 56</td><td>CG_motif</td><td>0</td><td>0</td><td>0</td><td>0</td><td>0</td></tr>\n",
       "\t<tr><th scope=row>2</th><td>NC_035780.1</td><td> 75</td><td> 77</td><td>CG_motif</td><td>0</td><td>0</td><td>0</td><td>0</td><td>0</td></tr>\n",
       "\t<tr><th scope=row>3</th><td>NC_035780.1</td><td> 93</td><td> 95</td><td>CG_motif</td><td>0</td><td>0</td><td>0</td><td>0</td><td>0</td></tr>\n",
       "\t<tr><th scope=row>4</th><td>NC_035780.1</td><td>103</td><td>105</td><td>CG_motif</td><td>0</td><td>0</td><td>0</td><td>0</td><td>0</td></tr>\n",
       "\t<tr><th scope=row>5</th><td>NC_035780.1</td><td>116</td><td>118</td><td>CG_motif</td><td>0</td><td>0</td><td>0</td><td>0</td><td>0</td></tr>\n",
       "\t<tr><th scope=row>6</th><td>NC_035780.1</td><td>134</td><td>136</td><td>CG_motif</td><td>0</td><td>0</td><td>0</td><td>0</td><td>0</td></tr>\n",
       "</tbody>\n",
       "</table>\n"
      ],
      "text/latex": [
       "A data.frame: 6 × 9\n",
       "\\begin{tabular}{r|lllllllll}\n",
       "  & NC\\_035780.1 & X28 & X30 & CG\\_motif & X0 & X0.1 & X0.2 & X0.3 & X0.4\\\\\n",
       "  & <chr> & <int> & <int> & <chr> & <int> & <int> & <int> & <int> & <int>\\\\\n",
       "\\hline\n",
       "\t1 & NC\\_035780.1 &  54 &  56 & CG\\_motif & 0 & 0 & 0 & 0 & 0\\\\\n",
       "\t2 & NC\\_035780.1 &  75 &  77 & CG\\_motif & 0 & 0 & 0 & 0 & 0\\\\\n",
       "\t3 & NC\\_035780.1 &  93 &  95 & CG\\_motif & 0 & 0 & 0 & 0 & 0\\\\\n",
       "\t4 & NC\\_035780.1 & 103 & 105 & CG\\_motif & 0 & 0 & 0 & 0 & 0\\\\\n",
       "\t5 & NC\\_035780.1 & 116 & 118 & CG\\_motif & 0 & 0 & 0 & 0 & 0\\\\\n",
       "\t6 & NC\\_035780.1 & 134 & 136 & CG\\_motif & 0 & 0 & 0 & 0 & 0\\\\\n",
       "\\end{tabular}\n"
      ],
      "text/markdown": [
       "\n",
       "A data.frame: 6 × 9\n",
       "\n",
       "| <!--/--> | NC_035780.1 &lt;chr&gt; | X28 &lt;int&gt; | X30 &lt;int&gt; | CG_motif &lt;chr&gt; | X0 &lt;int&gt; | X0.1 &lt;int&gt; | X0.2 &lt;int&gt; | X0.3 &lt;int&gt; | X0.4 &lt;int&gt; |\n",
       "|---|---|---|---|---|---|---|---|---|---|\n",
       "| 1 | NC_035780.1 |  54 |  56 | CG_motif | 0 | 0 | 0 | 0 | 0 |\n",
       "| 2 | NC_035780.1 |  75 |  77 | CG_motif | 0 | 0 | 0 | 0 | 0 |\n",
       "| 3 | NC_035780.1 |  93 |  95 | CG_motif | 0 | 0 | 0 | 0 | 0 |\n",
       "| 4 | NC_035780.1 | 103 | 105 | CG_motif | 0 | 0 | 0 | 0 | 0 |\n",
       "| 5 | NC_035780.1 | 116 | 118 | CG_motif | 0 | 0 | 0 | 0 | 0 |\n",
       "| 6 | NC_035780.1 | 134 | 136 | CG_motif | 0 | 0 | 0 | 0 | 0 |\n",
       "\n"
      ],
      "text/plain": [
       "  NC_035780.1 X28 X30 CG_motif X0 X0.1 X0.2 X0.3 X0.4\n",
       "1 NC_035780.1  54  56 CG_motif 0  0    0    0    0   \n",
       "2 NC_035780.1  75  77 CG_motif 0  0    0    0    0   \n",
       "3 NC_035780.1  93  95 CG_motif 0  0    0    0    0   \n",
       "4 NC_035780.1 103 105 CG_motif 0  0    0    0    0   \n",
       "5 NC_035780.1 116 118 CG_motif 0  0    0    0    0   \n",
       "6 NC_035780.1 134 136 CG_motif 0  0    0    0    0   "
      ]
     },
     "metadata": {},
     "output_type": "display_data"
    }
   ],
   "source": [
    "head(cc_mc)\n",
    "head(hc_mc)\n",
    "head(ch_mc)\n",
    "head(hh_mc)"
   ]
  },
  {
   "cell_type": "code",
   "execution_count": 6,
   "id": "e10b4e77-1c29-4b40-a53b-44b15e81accd",
   "metadata": {},
   "outputs": [
    {
     "data": {
      "text/html": [
       "14458702"
      ],
      "text/latex": [
       "14458702"
      ],
      "text/markdown": [
       "14458702"
      ],
      "text/plain": [
       "[1] 14458702"
      ]
     },
     "metadata": {},
     "output_type": "display_data"
    }
   ],
   "source": [
    "# total number of CpGs in the CV genome\n",
    "total_cpg <- dim(cc_mc)[1]\n",
    "total_cpg"
   ]
  },
  {
   "cell_type": "markdown",
   "id": "fd378bdc-f305-45cd-9c7e-d32832cc7621",
   "metadata": {},
   "source": [
    "### 2. calculate methylation level\n",
    "for simplification of code, created a function to run on each treatment matrix\n",
    "\n",
    "the code reads in the df, counts the number of methylated CpGs for each replicate and calculates the methylation level (# methylated CpGs / total CpGs * 100)"
   ]
  },
  {
   "cell_type": "code",
   "execution_count": 9,
   "id": "187a30b6-833a-4460-96c6-535f5af3db7b",
   "metadata": {},
   "outputs": [],
   "source": [
    "# create function to run on each treatment matrix\n",
    "\n",
    "format <- function(file, treatment) {\n",
    "  file %>%\n",
    "    # select cols of counts data for each oyster\n",
    "    select(5:9) %>%\n",
    "    \n",
    "    # count number of rows for each column with a count of at least 5\n",
    "    colSums(. >= 5) %>%\n",
    "    \n",
    "    # create df\n",
    "    as.data.frame() %>%\n",
    "    \n",
    "    # add col for sample IDs\n",
    "    rownames_to_column(\"sampleID\") %>%\n",
    "    \n",
    "    # add treatment info for merging\n",
    "    mutate(treatment = treatment) %>%\n",
    "    \n",
    "    # rename middle column\n",
    "    rename(methyl_count = 2) %>%\n",
    "    \n",
    "    # calc methyl level\n",
    "    mutate(methyl_level = round(methyl_count/total_cpg * 100, 2))\n",
    "    \n",
    "}"
   ]
  },
  {
   "cell_type": "code",
   "execution_count": 36,
   "id": "9d748e7e-0700-44fa-8b18-41626bc22ad4",
   "metadata": {},
   "outputs": [],
   "source": [
    "format <- function(file, treatment) {\n",
    "  file %>%\n",
    "    select(5:9) %>%\n",
    "    summarise(across(everything(), ~ sum(.x >= 5))) %>%\n",
    "    pivot_longer(everything(), names_to = \"col_name\", values_to = \"methyl_count\") %>%\n",
    "    mutate(treatment = treatment) %>%\n",
    "    mutate(total_cpg = nrow(file)) %>%\n",
    "    mutate(methyl_level = round(methyl_count / total_cpg * 100, 2))\n",
    "}"
   ]
  },
  {
   "cell_type": "code",
   "execution_count": 37,
   "id": "aab55cd8-87cf-436b-9865-3f70bbd8d92c",
   "metadata": {},
   "outputs": [
    {
     "data": {
      "text/html": [
       "<table class=\"dataframe\">\n",
       "<caption>A tibble: 5 × 5</caption>\n",
       "<thead>\n",
       "\t<tr><th scope=col>col_name</th><th scope=col>methyl_count</th><th scope=col>treatment</th><th scope=col>total_cpg</th><th scope=col>methyl_level</th></tr>\n",
       "\t<tr><th scope=col>&lt;chr&gt;</th><th scope=col>&lt;int&gt;</th><th scope=col>&lt;chr&gt;</th><th scope=col>&lt;int&gt;</th><th scope=col>&lt;dbl&gt;</th></tr>\n",
       "</thead>\n",
       "<tbody>\n",
       "\t<tr><td>X0  </td><td>147798</td><td>CC</td><td>14458702</td><td>1.02</td></tr>\n",
       "\t<tr><td>X0.1</td><td> 59287</td><td>CC</td><td>14458702</td><td>0.41</td></tr>\n",
       "\t<tr><td>X0.2</td><td>137931</td><td>CC</td><td>14458702</td><td>0.95</td></tr>\n",
       "\t<tr><td>X0.3</td><td> 81789</td><td>CC</td><td>14458702</td><td>0.57</td></tr>\n",
       "\t<tr><td>X0.4</td><td> 33975</td><td>CC</td><td>14458702</td><td>0.23</td></tr>\n",
       "</tbody>\n",
       "</table>\n"
      ],
      "text/latex": [
       "A tibble: 5 × 5\n",
       "\\begin{tabular}{lllll}\n",
       " col\\_name & methyl\\_count & treatment & total\\_cpg & methyl\\_level\\\\\n",
       " <chr> & <int> & <chr> & <int> & <dbl>\\\\\n",
       "\\hline\n",
       "\t X0   & 147798 & CC & 14458702 & 1.02\\\\\n",
       "\t X0.1 &  59287 & CC & 14458702 & 0.41\\\\\n",
       "\t X0.2 & 137931 & CC & 14458702 & 0.95\\\\\n",
       "\t X0.3 &  81789 & CC & 14458702 & 0.57\\\\\n",
       "\t X0.4 &  33975 & CC & 14458702 & 0.23\\\\\n",
       "\\end{tabular}\n"
      ],
      "text/markdown": [
       "\n",
       "A tibble: 5 × 5\n",
       "\n",
       "| col_name &lt;chr&gt; | methyl_count &lt;int&gt; | treatment &lt;chr&gt; | total_cpg &lt;int&gt; | methyl_level &lt;dbl&gt; |\n",
       "|---|---|---|---|---|\n",
       "| X0   | 147798 | CC | 14458702 | 1.02 |\n",
       "| X0.1 |  59287 | CC | 14458702 | 0.41 |\n",
       "| X0.2 | 137931 | CC | 14458702 | 0.95 |\n",
       "| X0.3 |  81789 | CC | 14458702 | 0.57 |\n",
       "| X0.4 |  33975 | CC | 14458702 | 0.23 |\n",
       "\n"
      ],
      "text/plain": [
       "  col_name methyl_count treatment total_cpg methyl_level\n",
       "1 X0       147798       CC        14458702  1.02        \n",
       "2 X0.1      59287       CC        14458702  0.41        \n",
       "3 X0.2     137931       CC        14458702  0.95        \n",
       "4 X0.3      81789       CC        14458702  0.57        \n",
       "5 X0.4      33975       CC        14458702  0.23        "
      ]
     },
     "metadata": {},
     "output_type": "display_data"
    },
    {
     "data": {
      "text/html": [
       "<table class=\"dataframe\">\n",
       "<caption>A tibble: 5 × 5</caption>\n",
       "<thead>\n",
       "\t<tr><th scope=col>col_name</th><th scope=col>methyl_count</th><th scope=col>treatment</th><th scope=col>total_cpg</th><th scope=col>methyl_level</th></tr>\n",
       "\t<tr><th scope=col>&lt;chr&gt;</th><th scope=col>&lt;int&gt;</th><th scope=col>&lt;chr&gt;</th><th scope=col>&lt;int&gt;</th><th scope=col>&lt;dbl&gt;</th></tr>\n",
       "</thead>\n",
       "<tbody>\n",
       "\t<tr><td>X0  </td><td>138394</td><td>HC</td><td>14458702</td><td>0.96</td></tr>\n",
       "\t<tr><td>X0.1</td><td>136261</td><td>HC</td><td>14458702</td><td>0.94</td></tr>\n",
       "\t<tr><td>X0.2</td><td>149013</td><td>HC</td><td>14458702</td><td>1.03</td></tr>\n",
       "\t<tr><td>X0.3</td><td>136293</td><td>HC</td><td>14458702</td><td>0.94</td></tr>\n",
       "\t<tr><td>X0.4</td><td> 67842</td><td>HC</td><td>14458702</td><td>0.47</td></tr>\n",
       "</tbody>\n",
       "</table>\n"
      ],
      "text/latex": [
       "A tibble: 5 × 5\n",
       "\\begin{tabular}{lllll}\n",
       " col\\_name & methyl\\_count & treatment & total\\_cpg & methyl\\_level\\\\\n",
       " <chr> & <int> & <chr> & <int> & <dbl>\\\\\n",
       "\\hline\n",
       "\t X0   & 138394 & HC & 14458702 & 0.96\\\\\n",
       "\t X0.1 & 136261 & HC & 14458702 & 0.94\\\\\n",
       "\t X0.2 & 149013 & HC & 14458702 & 1.03\\\\\n",
       "\t X0.3 & 136293 & HC & 14458702 & 0.94\\\\\n",
       "\t X0.4 &  67842 & HC & 14458702 & 0.47\\\\\n",
       "\\end{tabular}\n"
      ],
      "text/markdown": [
       "\n",
       "A tibble: 5 × 5\n",
       "\n",
       "| col_name &lt;chr&gt; | methyl_count &lt;int&gt; | treatment &lt;chr&gt; | total_cpg &lt;int&gt; | methyl_level &lt;dbl&gt; |\n",
       "|---|---|---|---|---|\n",
       "| X0   | 138394 | HC | 14458702 | 0.96 |\n",
       "| X0.1 | 136261 | HC | 14458702 | 0.94 |\n",
       "| X0.2 | 149013 | HC | 14458702 | 1.03 |\n",
       "| X0.3 | 136293 | HC | 14458702 | 0.94 |\n",
       "| X0.4 |  67842 | HC | 14458702 | 0.47 |\n",
       "\n"
      ],
      "text/plain": [
       "  col_name methyl_count treatment total_cpg methyl_level\n",
       "1 X0       138394       HC        14458702  0.96        \n",
       "2 X0.1     136261       HC        14458702  0.94        \n",
       "3 X0.2     149013       HC        14458702  1.03        \n",
       "4 X0.3     136293       HC        14458702  0.94        \n",
       "5 X0.4      67842       HC        14458702  0.47        "
      ]
     },
     "metadata": {},
     "output_type": "display_data"
    },
    {
     "data": {
      "text/html": [
       "<table class=\"dataframe\">\n",
       "<caption>A tibble: 5 × 5</caption>\n",
       "<thead>\n",
       "\t<tr><th scope=col>col_name</th><th scope=col>methyl_count</th><th scope=col>treatment</th><th scope=col>total_cpg</th><th scope=col>methyl_level</th></tr>\n",
       "\t<tr><th scope=col>&lt;chr&gt;</th><th scope=col>&lt;int&gt;</th><th scope=col>&lt;chr&gt;</th><th scope=col>&lt;int&gt;</th><th scope=col>&lt;dbl&gt;</th></tr>\n",
       "</thead>\n",
       "<tbody>\n",
       "\t<tr><td>X0  </td><td>140077</td><td>CH</td><td>14458702</td><td>0.97</td></tr>\n",
       "\t<tr><td>X0.1</td><td> 24101</td><td>CH</td><td>14458702</td><td>0.17</td></tr>\n",
       "\t<tr><td>X0.2</td><td> 73538</td><td>CH</td><td>14458702</td><td>0.51</td></tr>\n",
       "\t<tr><td>X0.3</td><td>136233</td><td>CH</td><td>14458702</td><td>0.94</td></tr>\n",
       "\t<tr><td>X0.4</td><td>104170</td><td>CH</td><td>14458702</td><td>0.72</td></tr>\n",
       "</tbody>\n",
       "</table>\n"
      ],
      "text/latex": [
       "A tibble: 5 × 5\n",
       "\\begin{tabular}{lllll}\n",
       " col\\_name & methyl\\_count & treatment & total\\_cpg & methyl\\_level\\\\\n",
       " <chr> & <int> & <chr> & <int> & <dbl>\\\\\n",
       "\\hline\n",
       "\t X0   & 140077 & CH & 14458702 & 0.97\\\\\n",
       "\t X0.1 &  24101 & CH & 14458702 & 0.17\\\\\n",
       "\t X0.2 &  73538 & CH & 14458702 & 0.51\\\\\n",
       "\t X0.3 & 136233 & CH & 14458702 & 0.94\\\\\n",
       "\t X0.4 & 104170 & CH & 14458702 & 0.72\\\\\n",
       "\\end{tabular}\n"
      ],
      "text/markdown": [
       "\n",
       "A tibble: 5 × 5\n",
       "\n",
       "| col_name &lt;chr&gt; | methyl_count &lt;int&gt; | treatment &lt;chr&gt; | total_cpg &lt;int&gt; | methyl_level &lt;dbl&gt; |\n",
       "|---|---|---|---|---|\n",
       "| X0   | 140077 | CH | 14458702 | 0.97 |\n",
       "| X0.1 |  24101 | CH | 14458702 | 0.17 |\n",
       "| X0.2 |  73538 | CH | 14458702 | 0.51 |\n",
       "| X0.3 | 136233 | CH | 14458702 | 0.94 |\n",
       "| X0.4 | 104170 | CH | 14458702 | 0.72 |\n",
       "\n"
      ],
      "text/plain": [
       "  col_name methyl_count treatment total_cpg methyl_level\n",
       "1 X0       140077       CH        14458702  0.97        \n",
       "2 X0.1      24101       CH        14458702  0.17        \n",
       "3 X0.2      73538       CH        14458702  0.51        \n",
       "4 X0.3     136233       CH        14458702  0.94        \n",
       "5 X0.4     104170       CH        14458702  0.72        "
      ]
     },
     "metadata": {},
     "output_type": "display_data"
    },
    {
     "data": {
      "text/html": [
       "<table class=\"dataframe\">\n",
       "<caption>A tibble: 5 × 5</caption>\n",
       "<thead>\n",
       "\t<tr><th scope=col>col_name</th><th scope=col>methyl_count</th><th scope=col>treatment</th><th scope=col>total_cpg</th><th scope=col>methyl_level</th></tr>\n",
       "\t<tr><th scope=col>&lt;chr&gt;</th><th scope=col>&lt;int&gt;</th><th scope=col>&lt;chr&gt;</th><th scope=col>&lt;int&gt;</th><th scope=col>&lt;dbl&gt;</th></tr>\n",
       "</thead>\n",
       "<tbody>\n",
       "\t<tr><td>X0  </td><td>132674</td><td>HH</td><td>14458702</td><td>0.92</td></tr>\n",
       "\t<tr><td>X0.1</td><td>105032</td><td>HH</td><td>14458702</td><td>0.73</td></tr>\n",
       "\t<tr><td>X0.2</td><td>104681</td><td>HH</td><td>14458702</td><td>0.72</td></tr>\n",
       "\t<tr><td>X0.3</td><td>134384</td><td>HH</td><td>14458702</td><td>0.93</td></tr>\n",
       "\t<tr><td>X0.4</td><td>129732</td><td>HH</td><td>14458702</td><td>0.90</td></tr>\n",
       "</tbody>\n",
       "</table>\n"
      ],
      "text/latex": [
       "A tibble: 5 × 5\n",
       "\\begin{tabular}{lllll}\n",
       " col\\_name & methyl\\_count & treatment & total\\_cpg & methyl\\_level\\\\\n",
       " <chr> & <int> & <chr> & <int> & <dbl>\\\\\n",
       "\\hline\n",
       "\t X0   & 132674 & HH & 14458702 & 0.92\\\\\n",
       "\t X0.1 & 105032 & HH & 14458702 & 0.73\\\\\n",
       "\t X0.2 & 104681 & HH & 14458702 & 0.72\\\\\n",
       "\t X0.3 & 134384 & HH & 14458702 & 0.93\\\\\n",
       "\t X0.4 & 129732 & HH & 14458702 & 0.90\\\\\n",
       "\\end{tabular}\n"
      ],
      "text/markdown": [
       "\n",
       "A tibble: 5 × 5\n",
       "\n",
       "| col_name &lt;chr&gt; | methyl_count &lt;int&gt; | treatment &lt;chr&gt; | total_cpg &lt;int&gt; | methyl_level &lt;dbl&gt; |\n",
       "|---|---|---|---|---|\n",
       "| X0   | 132674 | HH | 14458702 | 0.92 |\n",
       "| X0.1 | 105032 | HH | 14458702 | 0.73 |\n",
       "| X0.2 | 104681 | HH | 14458702 | 0.72 |\n",
       "| X0.3 | 134384 | HH | 14458702 | 0.93 |\n",
       "| X0.4 | 129732 | HH | 14458702 | 0.90 |\n",
       "\n"
      ],
      "text/plain": [
       "  col_name methyl_count treatment total_cpg methyl_level\n",
       "1 X0       132674       HH        14458702  0.92        \n",
       "2 X0.1     105032       HH        14458702  0.73        \n",
       "3 X0.2     104681       HH        14458702  0.72        \n",
       "4 X0.3     134384       HH        14458702  0.93        \n",
       "5 X0.4     129732       HH        14458702  0.90        "
      ]
     },
     "metadata": {},
     "output_type": "display_data"
    }
   ],
   "source": [
    "CC <- format(cc_mc, 'CC')\n",
    "CC\n",
    "\n",
    "HC <- format(hc_mc, 'HC')\n",
    "HC\n",
    "\n",
    "CH <- format(ch_mc, 'CH')\n",
    "CH\n",
    "\n",
    "HH <- format(hh_mc, 'HH')\n",
    "HH"
   ]
  },
  {
   "cell_type": "code",
   "execution_count": 38,
   "id": "eee55b20-37b9-44c1-ac1a-d894f23d9b03",
   "metadata": {},
   "outputs": [
    {
     "data": {
      "text/html": [
       "<table class=\"dataframe\">\n",
       "<caption>A tibble: 20 × 7</caption>\n",
       "<thead>\n",
       "\t<tr><th scope=col>col_name</th><th scope=col>methyl_count</th><th scope=col>treatment</th><th scope=col>total_cpg</th><th scope=col>methyl_level</th><th scope=col>phase1</th><th scope=col>phase2</th></tr>\n",
       "\t<tr><th scope=col>&lt;chr&gt;</th><th scope=col>&lt;int&gt;</th><th scope=col>&lt;chr&gt;</th><th scope=col>&lt;int&gt;</th><th scope=col>&lt;dbl&gt;</th><th scope=col>&lt;chr&gt;</th><th scope=col>&lt;chr&gt;</th></tr>\n",
       "</thead>\n",
       "<tbody>\n",
       "\t<tr><td>X0  </td><td>147798</td><td>CC</td><td>14458702</td><td>1.02</td><td>Control</td><td>Control</td></tr>\n",
       "\t<tr><td>X0.1</td><td> 59287</td><td>CC</td><td>14458702</td><td>0.41</td><td>Control</td><td>Control</td></tr>\n",
       "\t<tr><td>X0.2</td><td>137931</td><td>CC</td><td>14458702</td><td>0.95</td><td>Control</td><td>Control</td></tr>\n",
       "\t<tr><td>X0.3</td><td> 81789</td><td>CC</td><td>14458702</td><td>0.57</td><td>Control</td><td>Control</td></tr>\n",
       "\t<tr><td>X0.4</td><td> 33975</td><td>CC</td><td>14458702</td><td>0.23</td><td>Control</td><td>Control</td></tr>\n",
       "\t<tr><td>X0  </td><td>138394</td><td>HC</td><td>14458702</td><td>0.96</td><td>Hypoxic</td><td>Control</td></tr>\n",
       "\t<tr><td>X0.1</td><td>136261</td><td>HC</td><td>14458702</td><td>0.94</td><td>Hypoxic</td><td>Control</td></tr>\n",
       "\t<tr><td>X0.2</td><td>149013</td><td>HC</td><td>14458702</td><td>1.03</td><td>Hypoxic</td><td>Control</td></tr>\n",
       "\t<tr><td>X0.3</td><td>136293</td><td>HC</td><td>14458702</td><td>0.94</td><td>Hypoxic</td><td>Control</td></tr>\n",
       "\t<tr><td>X0.4</td><td> 67842</td><td>HC</td><td>14458702</td><td>0.47</td><td>Hypoxic</td><td>Control</td></tr>\n",
       "\t<tr><td>X0  </td><td>140077</td><td>CH</td><td>14458702</td><td>0.97</td><td>Control</td><td>Hypoxic</td></tr>\n",
       "\t<tr><td>X0.1</td><td> 24101</td><td>CH</td><td>14458702</td><td>0.17</td><td>Control</td><td>Hypoxic</td></tr>\n",
       "\t<tr><td>X0.2</td><td> 73538</td><td>CH</td><td>14458702</td><td>0.51</td><td>Control</td><td>Hypoxic</td></tr>\n",
       "\t<tr><td>X0.3</td><td>136233</td><td>CH</td><td>14458702</td><td>0.94</td><td>Control</td><td>Hypoxic</td></tr>\n",
       "\t<tr><td>X0.4</td><td>104170</td><td>CH</td><td>14458702</td><td>0.72</td><td>Control</td><td>Hypoxic</td></tr>\n",
       "\t<tr><td>X0  </td><td>132674</td><td>HH</td><td>14458702</td><td>0.92</td><td>Hypoxic</td><td>Hypoxic</td></tr>\n",
       "\t<tr><td>X0.1</td><td>105032</td><td>HH</td><td>14458702</td><td>0.73</td><td>Hypoxic</td><td>Hypoxic</td></tr>\n",
       "\t<tr><td>X0.2</td><td>104681</td><td>HH</td><td>14458702</td><td>0.72</td><td>Hypoxic</td><td>Hypoxic</td></tr>\n",
       "\t<tr><td>X0.3</td><td>134384</td><td>HH</td><td>14458702</td><td>0.93</td><td>Hypoxic</td><td>Hypoxic</td></tr>\n",
       "\t<tr><td>X0.4</td><td>129732</td><td>HH</td><td>14458702</td><td>0.90</td><td>Hypoxic</td><td>Hypoxic</td></tr>\n",
       "</tbody>\n",
       "</table>\n"
      ],
      "text/latex": [
       "A tibble: 20 × 7\n",
       "\\begin{tabular}{lllllll}\n",
       " col\\_name & methyl\\_count & treatment & total\\_cpg & methyl\\_level & phase1 & phase2\\\\\n",
       " <chr> & <int> & <chr> & <int> & <dbl> & <chr> & <chr>\\\\\n",
       "\\hline\n",
       "\t X0   & 147798 & CC & 14458702 & 1.02 & Control & Control\\\\\n",
       "\t X0.1 &  59287 & CC & 14458702 & 0.41 & Control & Control\\\\\n",
       "\t X0.2 & 137931 & CC & 14458702 & 0.95 & Control & Control\\\\\n",
       "\t X0.3 &  81789 & CC & 14458702 & 0.57 & Control & Control\\\\\n",
       "\t X0.4 &  33975 & CC & 14458702 & 0.23 & Control & Control\\\\\n",
       "\t X0   & 138394 & HC & 14458702 & 0.96 & Hypoxic & Control\\\\\n",
       "\t X0.1 & 136261 & HC & 14458702 & 0.94 & Hypoxic & Control\\\\\n",
       "\t X0.2 & 149013 & HC & 14458702 & 1.03 & Hypoxic & Control\\\\\n",
       "\t X0.3 & 136293 & HC & 14458702 & 0.94 & Hypoxic & Control\\\\\n",
       "\t X0.4 &  67842 & HC & 14458702 & 0.47 & Hypoxic & Control\\\\\n",
       "\t X0   & 140077 & CH & 14458702 & 0.97 & Control & Hypoxic\\\\\n",
       "\t X0.1 &  24101 & CH & 14458702 & 0.17 & Control & Hypoxic\\\\\n",
       "\t X0.2 &  73538 & CH & 14458702 & 0.51 & Control & Hypoxic\\\\\n",
       "\t X0.3 & 136233 & CH & 14458702 & 0.94 & Control & Hypoxic\\\\\n",
       "\t X0.4 & 104170 & CH & 14458702 & 0.72 & Control & Hypoxic\\\\\n",
       "\t X0   & 132674 & HH & 14458702 & 0.92 & Hypoxic & Hypoxic\\\\\n",
       "\t X0.1 & 105032 & HH & 14458702 & 0.73 & Hypoxic & Hypoxic\\\\\n",
       "\t X0.2 & 104681 & HH & 14458702 & 0.72 & Hypoxic & Hypoxic\\\\\n",
       "\t X0.3 & 134384 & HH & 14458702 & 0.93 & Hypoxic & Hypoxic\\\\\n",
       "\t X0.4 & 129732 & HH & 14458702 & 0.90 & Hypoxic & Hypoxic\\\\\n",
       "\\end{tabular}\n"
      ],
      "text/markdown": [
       "\n",
       "A tibble: 20 × 7\n",
       "\n",
       "| col_name &lt;chr&gt; | methyl_count &lt;int&gt; | treatment &lt;chr&gt; | total_cpg &lt;int&gt; | methyl_level &lt;dbl&gt; | phase1 &lt;chr&gt; | phase2 &lt;chr&gt; |\n",
       "|---|---|---|---|---|---|---|\n",
       "| X0   | 147798 | CC | 14458702 | 1.02 | Control | Control |\n",
       "| X0.1 |  59287 | CC | 14458702 | 0.41 | Control | Control |\n",
       "| X0.2 | 137931 | CC | 14458702 | 0.95 | Control | Control |\n",
       "| X0.3 |  81789 | CC | 14458702 | 0.57 | Control | Control |\n",
       "| X0.4 |  33975 | CC | 14458702 | 0.23 | Control | Control |\n",
       "| X0   | 138394 | HC | 14458702 | 0.96 | Hypoxic | Control |\n",
       "| X0.1 | 136261 | HC | 14458702 | 0.94 | Hypoxic | Control |\n",
       "| X0.2 | 149013 | HC | 14458702 | 1.03 | Hypoxic | Control |\n",
       "| X0.3 | 136293 | HC | 14458702 | 0.94 | Hypoxic | Control |\n",
       "| X0.4 |  67842 | HC | 14458702 | 0.47 | Hypoxic | Control |\n",
       "| X0   | 140077 | CH | 14458702 | 0.97 | Control | Hypoxic |\n",
       "| X0.1 |  24101 | CH | 14458702 | 0.17 | Control | Hypoxic |\n",
       "| X0.2 |  73538 | CH | 14458702 | 0.51 | Control | Hypoxic |\n",
       "| X0.3 | 136233 | CH | 14458702 | 0.94 | Control | Hypoxic |\n",
       "| X0.4 | 104170 | CH | 14458702 | 0.72 | Control | Hypoxic |\n",
       "| X0   | 132674 | HH | 14458702 | 0.92 | Hypoxic | Hypoxic |\n",
       "| X0.1 | 105032 | HH | 14458702 | 0.73 | Hypoxic | Hypoxic |\n",
       "| X0.2 | 104681 | HH | 14458702 | 0.72 | Hypoxic | Hypoxic |\n",
       "| X0.3 | 134384 | HH | 14458702 | 0.93 | Hypoxic | Hypoxic |\n",
       "| X0.4 | 129732 | HH | 14458702 | 0.90 | Hypoxic | Hypoxic |\n",
       "\n"
      ],
      "text/plain": [
       "   col_name methyl_count treatment total_cpg methyl_level phase1  phase2 \n",
       "1  X0       147798       CC        14458702  1.02         Control Control\n",
       "2  X0.1      59287       CC        14458702  0.41         Control Control\n",
       "3  X0.2     137931       CC        14458702  0.95         Control Control\n",
       "4  X0.3      81789       CC        14458702  0.57         Control Control\n",
       "5  X0.4      33975       CC        14458702  0.23         Control Control\n",
       "6  X0       138394       HC        14458702  0.96         Hypoxic Control\n",
       "7  X0.1     136261       HC        14458702  0.94         Hypoxic Control\n",
       "8  X0.2     149013       HC        14458702  1.03         Hypoxic Control\n",
       "9  X0.3     136293       HC        14458702  0.94         Hypoxic Control\n",
       "10 X0.4      67842       HC        14458702  0.47         Hypoxic Control\n",
       "11 X0       140077       CH        14458702  0.97         Control Hypoxic\n",
       "12 X0.1      24101       CH        14458702  0.17         Control Hypoxic\n",
       "13 X0.2      73538       CH        14458702  0.51         Control Hypoxic\n",
       "14 X0.3     136233       CH        14458702  0.94         Control Hypoxic\n",
       "15 X0.4     104170       CH        14458702  0.72         Control Hypoxic\n",
       "16 X0       132674       HH        14458702  0.92         Hypoxic Hypoxic\n",
       "17 X0.1     105032       HH        14458702  0.73         Hypoxic Hypoxic\n",
       "18 X0.2     104681       HH        14458702  0.72         Hypoxic Hypoxic\n",
       "19 X0.3     134384       HH        14458702  0.93         Hypoxic Hypoxic\n",
       "20 X0.4     129732       HH        14458702  0.90         Hypoxic Hypoxic"
      ]
     },
     "metadata": {},
     "output_type": "display_data"
    }
   ],
   "source": [
    "# merge all dfs into one\n",
    "cpg_meLevel <- rbind(CC, HC, CH, HH)\n",
    "\n",
    "# add phase 1 and 2 info based on treatment code\n",
    "cpg_meLevel$phase1 <- ifelse(substr(cpg_meLevel$treatment, 1, 1) == \"C\", \"Control\", \"Hypoxic\")\n",
    "cpg_meLevel$phase2 <- ifelse(substr(cpg_meLevel$treatment, 2, 2) == \"C\", \"Control\", \"Hypoxic\")\n",
    "\n",
    "cpg_meLevel"
   ]
  },
  {
   "cell_type": "code",
   "execution_count": 48,
   "id": "f168cd63-412e-49d2-acde-813a470a8501",
   "metadata": {},
   "outputs": [
    {
     "data": {
      "image/png": "[encoded data removed]",
      "text/plain": [
       "plot without title"
      ]
     },
     "metadata": {
      "image/png": {
       "height": 420,
       "width": 420
      }
     },
     "output_type": "display_data"
    }
   ],
   "source": [
    "ggplot(cpg_meLevel, aes(x=phase1, y=methyl_level, fill=phase1)) +\n",
    "       geom_bar(stat = 'identity') +\n",
    "       facet_wrap(~phase2) +\n",
    "geom_errorbar(aes(ymax = mean_methyl_level + se_methyl_level,\n",
    "                       ymin = mean_methyl_level - se_methyl_level),\n",
    "                  width = 0.2, size = 0.5) +\n",
    "       theme_bw()"
   ]
  },
  {
   "cell_type": "code",
   "execution_count": 48,
   "id": "da7a009a",
   "metadata": {},
   "outputs": [
    {
     "data": {
      "image/png": "[encoded data removed]",
      "text/plain": [
       "plot without title"
      ]
     },
     "metadata": {
      "image/png": {
       "height": 420,
       "width": 420
      }
     },
     "output_type": "display_data"
    }
   ],
   "source": [
    "ggplot(cpg_meLevel, aes(x=phase1, y=methyl_level, fill=phase1)) +\n",
    "       geom_bar(stat = 'identity') +\n",
    "       facet_wrap(~phase2) +\n",
    "geom_errorbar(aes(ymax = mean_methyl_level + se_methyl_level,\n",
    "                       ymin = mean_methyl_level - se_methyl_level),\n",
    "                  width = 0.2, size = 0.5) +\n",
    "       theme_bw()"
   ]
  },
  {
   "cell_type": "code",
   "execution_count": 49,
   "id": "2f481d9a-1ab8-46de-82be-5d8cdba51f72",
   "metadata": {},
   "outputs": [
    {
     "data": {
      "image/png": "[encoded data removed]",
      "text/plain": [
       "plot without title"
      ]
     },
     "metadata": {
      "image/png": {
       "height": 420,
       "width": 420
      }
     },
     "output_type": "display_data"
    }
   ],
   "source": [
    "cpgBoxplot <- ggplot(cpg_meLevel, aes(x = phase1, y = methyl_level, fill = phase1)) +\n",
    "  geom_boxplot() +\n",
    "  geom_point() +\n",
    "  facet_wrap(~ phase2) +\n",
    "  scale_fill_manual(values=c('cornflowerblue', 'deeppink2')) +\n",
    "  guides(fill = 'none') +\n",
    "ylim(0, 1.25) +\n",
    "  labs(x = \"First Exposure\", \n",
    "       y = \"Percent of CpGs methylated\",\n",
    "       title = 'B)',\n",
    "       subtitle = \"Second Exposure\") +\n",
    "  theme_bw() +\n",
    "  theme(text = element_text(size = 15), plot.subtitle = element_text(hjust=0.5))\n",
    "\n",
    "cpgBoxplot"
   ]
  },
  {
   "cell_type": "code",
   "execution_count": 45,
   "id": "83e88185-f3cb-4712-91f7-26824d301d01",
   "metadata": {},
   "outputs": [
    {
     "data": {
      "text/plain": [
       "              Df Sum Sq Mean Sq F value Pr(>F)\n",
       "phase1         1 0.2101 0.21012   2.911  0.107\n",
       "phase2         1 0.0000 0.00000   0.000  0.993\n",
       "phase1:phase2  1 0.0036 0.00365   0.050  0.825\n",
       "Residuals     16 1.1551 0.07219               "
      ]
     },
     "metadata": {},
     "output_type": "display_data"
    }
   ],
   "source": [
    "model <- aov(methyl_level ~ phase1 * phase2, data = cpg_meLevel)\n",
    "summary(model)"
   ]
  },
  {
   "cell_type": "markdown",
   "id": "e7f97788-30b9-4ee0-b3c1-ee410ddc60fe",
   "metadata": {},
   "source": [
    "## Genes\n",
    "I'm guessing we see the same patterns but I'm curious what this looks like for genes instead of CpGs - better able to make connections with the volcano DMG plots?"
   ]
  },
  {
   "cell_type": "code",
   "execution_count": 50,
   "id": "ce0823d7-bc6b-42c5-9956-282f51227f0d",
   "metadata": {},
   "outputs": [
    {
     "data": {
      "text/html": [
       "<table class=\"dataframe\">\n",
       "<caption>A data.frame: 6 × 8</caption>\n",
       "<thead>\n",
       "\t<tr><th></th><th scope=col>NC_035780.1</th><th scope=col>X13578</th><th scope=col>X14594</th><th scope=col>X0</th><th scope=col>X0.1</th><th scope=col>X0.2</th><th scope=col>X0.3</th><th scope=col>X0.4</th></tr>\n",
       "\t<tr><th></th><th scope=col>&lt;chr&gt;</th><th scope=col>&lt;int&gt;</th><th scope=col>&lt;int&gt;</th><th scope=col>&lt;int&gt;</th><th scope=col>&lt;int&gt;</th><th scope=col>&lt;int&gt;</th><th scope=col>&lt;int&gt;</th><th scope=col>&lt;int&gt;</th></tr>\n",
       "</thead>\n",
       "<tbody>\n",
       "\t<tr><th scope=row>1</th><td>NC_035780.1</td><td> 28961</td><td> 33324</td><td>0</td><td>0</td><td>0</td><td>0</td><td>0</td></tr>\n",
       "\t<tr><th scope=row>2</th><td>NC_035780.1</td><td> 43111</td><td> 66897</td><td>0</td><td>0</td><td>4</td><td>0</td><td>0</td></tr>\n",
       "\t<tr><th scope=row>3</th><td>NC_035780.1</td><td> 85606</td><td> 95254</td><td>2</td><td>0</td><td>4</td><td>6</td><td>0</td></tr>\n",
       "\t<tr><th scope=row>4</th><td>NC_035780.1</td><td> 99840</td><td>106460</td><td>6</td><td>0</td><td>4</td><td>2</td><td>0</td></tr>\n",
       "\t<tr><th scope=row>5</th><td>NC_035780.1</td><td>108305</td><td>110077</td><td>0</td><td>0</td><td>0</td><td>0</td><td>0</td></tr>\n",
       "\t<tr><th scope=row>6</th><td>NC_035780.1</td><td>151859</td><td>157536</td><td>0</td><td>0</td><td>0</td><td>0</td><td>0</td></tr>\n",
       "</tbody>\n",
       "</table>\n"
      ],
      "text/latex": [
       "A data.frame: 6 × 8\n",
       "\\begin{tabular}{r|llllllll}\n",
       "  & NC\\_035780.1 & X13578 & X14594 & X0 & X0.1 & X0.2 & X0.3 & X0.4\\\\\n",
       "  & <chr> & <int> & <int> & <int> & <int> & <int> & <int> & <int>\\\\\n",
       "\\hline\n",
       "\t1 & NC\\_035780.1 &  28961 &  33324 & 0 & 0 & 0 & 0 & 0\\\\\n",
       "\t2 & NC\\_035780.1 &  43111 &  66897 & 0 & 0 & 4 & 0 & 0\\\\\n",
       "\t3 & NC\\_035780.1 &  85606 &  95254 & 2 & 0 & 4 & 6 & 0\\\\\n",
       "\t4 & NC\\_035780.1 &  99840 & 106460 & 6 & 0 & 4 & 2 & 0\\\\\n",
       "\t5 & NC\\_035780.1 & 108305 & 110077 & 0 & 0 & 0 & 0 & 0\\\\\n",
       "\t6 & NC\\_035780.1 & 151859 & 157536 & 0 & 0 & 0 & 0 & 0\\\\\n",
       "\\end{tabular}\n"
      ],
      "text/markdown": [
       "\n",
       "A data.frame: 6 × 8\n",
       "\n",
       "| <!--/--> | NC_035780.1 &lt;chr&gt; | X13578 &lt;int&gt; | X14594 &lt;int&gt; | X0 &lt;int&gt; | X0.1 &lt;int&gt; | X0.2 &lt;int&gt; | X0.3 &lt;int&gt; | X0.4 &lt;int&gt; |\n",
       "|---|---|---|---|---|---|---|---|---|\n",
       "| 1 | NC_035780.1 |  28961 |  33324 | 0 | 0 | 0 | 0 | 0 |\n",
       "| 2 | NC_035780.1 |  43111 |  66897 | 0 | 0 | 4 | 0 | 0 |\n",
       "| 3 | NC_035780.1 |  85606 |  95254 | 2 | 0 | 4 | 6 | 0 |\n",
       "| 4 | NC_035780.1 |  99840 | 106460 | 6 | 0 | 4 | 2 | 0 |\n",
       "| 5 | NC_035780.1 | 108305 | 110077 | 0 | 0 | 0 | 0 | 0 |\n",
       "| 6 | NC_035780.1 | 151859 | 157536 | 0 | 0 | 0 | 0 | 0 |\n",
       "\n"
      ],
      "text/plain": [
       "  NC_035780.1 X13578 X14594 X0 X0.1 X0.2 X0.3 X0.4\n",
       "1 NC_035780.1  28961  33324 0  0    0    0    0   \n",
       "2 NC_035780.1  43111  66897 0  0    4    0    0   \n",
       "3 NC_035780.1  85606  95254 2  0    4    6    0   \n",
       "4 NC_035780.1  99840 106460 6  0    4    2    0   \n",
       "5 NC_035780.1 108305 110077 0  0    0    0    0   \n",
       "6 NC_035780.1 151859 157536 0  0    0    0    0   "
      ]
     },
     "metadata": {},
     "output_type": "display_data"
    }
   ],
   "source": [
    "# control control\n",
    "cc_mc <- read.csv('/project/pi_sarah_gignouxwolfsohn_uml_edu/julia/CE_methyl_assembly/assembly_pipeline_files/genomic_bed_files/troubleshooting_03202025/gene_multicov/CC_gene_multicov.csv', sep = '\\t')\n",
    "head(cc_mc)\n",
    "\n",
    "# hypoxic control\n",
    "hc_mc <- read.csv('/project/pi_sarah_gignouxwolfsohn_uml_edu/julia/CE_methyl_assembly/assembly_pipeline_files/genomic_bed_files/troubleshooting_03202025/gene_multicov/HC_gene_multicov.csv', sep = '\\t')\n",
    "\n",
    "# control hypoxic \n",
    "ch_mc <- read.csv('/project/pi_sarah_gignouxwolfsohn_uml_edu/julia/CE_methyl_assembly/assembly_pipeline_files/genomic_bed_files/troubleshooting_03202025/gene_multicov/CH_gene_multicov.csv', sep = '\\t')\n",
    "\n",
    "# hypoxic hypoxic \n",
    "hh_mc <- read.csv('/project/pi_sarah_gignouxwolfsohn_uml_edu/julia/CE_methyl_assembly/assembly_pipeline_files/genomic_bed_files/troubleshooting_03202025/gene_multicov/HH_gene_multicov.csv', sep = '\\t')"
   ]
  },
  {
   "cell_type": "code",
   "execution_count": 51,
   "id": "28d510db-ffa5-4dec-83b6-2b6c14c5ce32",
   "metadata": {},
   "outputs": [
    {
     "data": {
      "text/html": [
       "<table class=\"dataframe\">\n",
       "<caption>A data.frame: 6 × 8</caption>\n",
       "<thead>\n",
       "\t<tr><th></th><th scope=col>NC_035780.1</th><th scope=col>X13578</th><th scope=col>X14594</th><th scope=col>X0</th><th scope=col>X0.1</th><th scope=col>X0.2</th><th scope=col>X0.3</th><th scope=col>X0.4</th></tr>\n",
       "\t<tr><th></th><th scope=col>&lt;chr&gt;</th><th scope=col>&lt;int&gt;</th><th scope=col>&lt;int&gt;</th><th scope=col>&lt;int&gt;</th><th scope=col>&lt;int&gt;</th><th scope=col>&lt;int&gt;</th><th scope=col>&lt;int&gt;</th><th scope=col>&lt;int&gt;</th></tr>\n",
       "</thead>\n",
       "<tbody>\n",
       "\t<tr><th scope=row>1</th><td>NC_035780.1</td><td> 28961</td><td> 33324</td><td>0</td><td>0</td><td>0</td><td>0</td><td>0</td></tr>\n",
       "\t<tr><th scope=row>2</th><td>NC_035780.1</td><td> 43111</td><td> 66897</td><td>0</td><td>0</td><td>4</td><td>0</td><td>0</td></tr>\n",
       "\t<tr><th scope=row>3</th><td>NC_035780.1</td><td> 85606</td><td> 95254</td><td>2</td><td>0</td><td>4</td><td>6</td><td>0</td></tr>\n",
       "\t<tr><th scope=row>4</th><td>NC_035780.1</td><td> 99840</td><td>106460</td><td>6</td><td>0</td><td>4</td><td>2</td><td>0</td></tr>\n",
       "\t<tr><th scope=row>5</th><td>NC_035780.1</td><td>108305</td><td>110077</td><td>0</td><td>0</td><td>0</td><td>0</td><td>0</td></tr>\n",
       "\t<tr><th scope=row>6</th><td>NC_035780.1</td><td>151859</td><td>157536</td><td>0</td><td>0</td><td>0</td><td>0</td><td>0</td></tr>\n",
       "</tbody>\n",
       "</table>\n"
      ],
      "text/latex": [
       "A data.frame: 6 × 8\n",
       "\\begin{tabular}{r|llllllll}\n",
       "  & NC\\_035780.1 & X13578 & X14594 & X0 & X0.1 & X0.2 & X0.3 & X0.4\\\\\n",
       "  & <chr> & <int> & <int> & <int> & <int> & <int> & <int> & <int>\\\\\n",
       "\\hline\n",
       "\t1 & NC\\_035780.1 &  28961 &  33324 & 0 & 0 & 0 & 0 & 0\\\\\n",
       "\t2 & NC\\_035780.1 &  43111 &  66897 & 0 & 0 & 4 & 0 & 0\\\\\n",
       "\t3 & NC\\_035780.1 &  85606 &  95254 & 2 & 0 & 4 & 6 & 0\\\\\n",
       "\t4 & NC\\_035780.1 &  99840 & 106460 & 6 & 0 & 4 & 2 & 0\\\\\n",
       "\t5 & NC\\_035780.1 & 108305 & 110077 & 0 & 0 & 0 & 0 & 0\\\\\n",
       "\t6 & NC\\_035780.1 & 151859 & 157536 & 0 & 0 & 0 & 0 & 0\\\\\n",
       "\\end{tabular}\n"
      ],
      "text/markdown": [
       "\n",
       "A data.frame: 6 × 8\n",
       "\n",
       "| <!--/--> | NC_035780.1 &lt;chr&gt; | X13578 &lt;int&gt; | X14594 &lt;int&gt; | X0 &lt;int&gt; | X0.1 &lt;int&gt; | X0.2 &lt;int&gt; | X0.3 &lt;int&gt; | X0.4 &lt;int&gt; |\n",
       "|---|---|---|---|---|---|---|---|---|\n",
       "| 1 | NC_035780.1 |  28961 |  33324 | 0 | 0 | 0 | 0 | 0 |\n",
       "| 2 | NC_035780.1 |  43111 |  66897 | 0 | 0 | 4 | 0 | 0 |\n",
       "| 3 | NC_035780.1 |  85606 |  95254 | 2 | 0 | 4 | 6 | 0 |\n",
       "| 4 | NC_035780.1 |  99840 | 106460 | 6 | 0 | 4 | 2 | 0 |\n",
       "| 5 | NC_035780.1 | 108305 | 110077 | 0 | 0 | 0 | 0 | 0 |\n",
       "| 6 | NC_035780.1 | 151859 | 157536 | 0 | 0 | 0 | 0 | 0 |\n",
       "\n"
      ],
      "text/plain": [
       "  NC_035780.1 X13578 X14594 X0 X0.1 X0.2 X0.3 X0.4\n",
       "1 NC_035780.1  28961  33324 0  0    0    0    0   \n",
       "2 NC_035780.1  43111  66897 0  0    4    0    0   \n",
       "3 NC_035780.1  85606  95254 2  0    4    6    0   \n",
       "4 NC_035780.1  99840 106460 6  0    4    2    0   \n",
       "5 NC_035780.1 108305 110077 0  0    0    0    0   \n",
       "6 NC_035780.1 151859 157536 0  0    0    0    0   "
      ]
     },
     "metadata": {},
     "output_type": "display_data"
    },
    {
     "data": {
      "text/html": [
       "<table class=\"dataframe\">\n",
       "<caption>A data.frame: 6 × 8</caption>\n",
       "<thead>\n",
       "\t<tr><th></th><th scope=col>NC_035780.1</th><th scope=col>X13578</th><th scope=col>X14594</th><th scope=col>X0</th><th scope=col>X0.1</th><th scope=col>X0.2</th><th scope=col>X0.3</th><th scope=col>X0.4</th></tr>\n",
       "\t<tr><th></th><th scope=col>&lt;chr&gt;</th><th scope=col>&lt;int&gt;</th><th scope=col>&lt;int&gt;</th><th scope=col>&lt;int&gt;</th><th scope=col>&lt;int&gt;</th><th scope=col>&lt;int&gt;</th><th scope=col>&lt;int&gt;</th><th scope=col>&lt;int&gt;</th></tr>\n",
       "</thead>\n",
       "<tbody>\n",
       "\t<tr><th scope=row>1</th><td>NC_035780.1</td><td> 28961</td><td> 33324</td><td> 0</td><td> 0</td><td>0</td><td>2</td><td>0</td></tr>\n",
       "\t<tr><th scope=row>2</th><td>NC_035780.1</td><td> 43111</td><td> 66897</td><td> 0</td><td> 0</td><td>0</td><td>0</td><td>0</td></tr>\n",
       "\t<tr><th scope=row>3</th><td>NC_035780.1</td><td> 85606</td><td> 95254</td><td> 8</td><td>12</td><td>6</td><td>4</td><td>2</td></tr>\n",
       "\t<tr><th scope=row>4</th><td>NC_035780.1</td><td> 99840</td><td>106460</td><td>14</td><td> 4</td><td>6</td><td>0</td><td>0</td></tr>\n",
       "\t<tr><th scope=row>5</th><td>NC_035780.1</td><td>108305</td><td>110077</td><td> 0</td><td> 0</td><td>0</td><td>0</td><td>0</td></tr>\n",
       "\t<tr><th scope=row>6</th><td>NC_035780.1</td><td>151859</td><td>157536</td><td> 4</td><td> 0</td><td>0</td><td>0</td><td>0</td></tr>\n",
       "</tbody>\n",
       "</table>\n"
      ],
      "text/latex": [
       "A data.frame: 6 × 8\n",
       "\\begin{tabular}{r|llllllll}\n",
       "  & NC\\_035780.1 & X13578 & X14594 & X0 & X0.1 & X0.2 & X0.3 & X0.4\\\\\n",
       "  & <chr> & <int> & <int> & <int> & <int> & <int> & <int> & <int>\\\\\n",
       "\\hline\n",
       "\t1 & NC\\_035780.1 &  28961 &  33324 &  0 &  0 & 0 & 2 & 0\\\\\n",
       "\t2 & NC\\_035780.1 &  43111 &  66897 &  0 &  0 & 0 & 0 & 0\\\\\n",
       "\t3 & NC\\_035780.1 &  85606 &  95254 &  8 & 12 & 6 & 4 & 2\\\\\n",
       "\t4 & NC\\_035780.1 &  99840 & 106460 & 14 &  4 & 6 & 0 & 0\\\\\n",
       "\t5 & NC\\_035780.1 & 108305 & 110077 &  0 &  0 & 0 & 0 & 0\\\\\n",
       "\t6 & NC\\_035780.1 & 151859 & 157536 &  4 &  0 & 0 & 0 & 0\\\\\n",
       "\\end{tabular}\n"
      ],
      "text/markdown": [
       "\n",
       "A data.frame: 6 × 8\n",
       "\n",
       "| <!--/--> | NC_035780.1 &lt;chr&gt; | X13578 &lt;int&gt; | X14594 &lt;int&gt; | X0 &lt;int&gt; | X0.1 &lt;int&gt; | X0.2 &lt;int&gt; | X0.3 &lt;int&gt; | X0.4 &lt;int&gt; |\n",
       "|---|---|---|---|---|---|---|---|---|\n",
       "| 1 | NC_035780.1 |  28961 |  33324 |  0 |  0 | 0 | 2 | 0 |\n",
       "| 2 | NC_035780.1 |  43111 |  66897 |  0 |  0 | 0 | 0 | 0 |\n",
       "| 3 | NC_035780.1 |  85606 |  95254 |  8 | 12 | 6 | 4 | 2 |\n",
       "| 4 | NC_035780.1 |  99840 | 106460 | 14 |  4 | 6 | 0 | 0 |\n",
       "| 5 | NC_035780.1 | 108305 | 110077 |  0 |  0 | 0 | 0 | 0 |\n",
       "| 6 | NC_035780.1 | 151859 | 157536 |  4 |  0 | 0 | 0 | 0 |\n",
       "\n"
      ],
      "text/plain": [
       "  NC_035780.1 X13578 X14594 X0 X0.1 X0.2 X0.3 X0.4\n",
       "1 NC_035780.1  28961  33324  0  0   0    2    0   \n",
       "2 NC_035780.1  43111  66897  0  0   0    0    0   \n",
       "3 NC_035780.1  85606  95254  8 12   6    4    2   \n",
       "4 NC_035780.1  99840 106460 14  4   6    0    0   \n",
       "5 NC_035780.1 108305 110077  0  0   0    0    0   \n",
       "6 NC_035780.1 151859 157536  4  0   0    0    0   "
      ]
     },
     "metadata": {},
     "output_type": "display_data"
    },
    {
     "data": {
      "text/html": [
       "<table class=\"dataframe\">\n",
       "<caption>A data.frame: 6 × 8</caption>\n",
       "<thead>\n",
       "\t<tr><th></th><th scope=col>NC_035780.1</th><th scope=col>X13578</th><th scope=col>X14594</th><th scope=col>X0</th><th scope=col>X0.1</th><th scope=col>X0.2</th><th scope=col>X0.3</th><th scope=col>X0.4</th></tr>\n",
       "\t<tr><th></th><th scope=col>&lt;chr&gt;</th><th scope=col>&lt;int&gt;</th><th scope=col>&lt;int&gt;</th><th scope=col>&lt;int&gt;</th><th scope=col>&lt;int&gt;</th><th scope=col>&lt;int&gt;</th><th scope=col>&lt;int&gt;</th><th scope=col>&lt;int&gt;</th></tr>\n",
       "</thead>\n",
       "<tbody>\n",
       "\t<tr><th scope=row>1</th><td>NC_035780.1</td><td> 28961</td><td> 33324</td><td>0</td><td>0</td><td>0</td><td>0</td><td> 0</td></tr>\n",
       "\t<tr><th scope=row>2</th><td>NC_035780.1</td><td> 43111</td><td> 66897</td><td>0</td><td>0</td><td>2</td><td>2</td><td> 0</td></tr>\n",
       "\t<tr><th scope=row>3</th><td>NC_035780.1</td><td> 85606</td><td> 95254</td><td>1</td><td>0</td><td>0</td><td>0</td><td>10</td></tr>\n",
       "\t<tr><th scope=row>4</th><td>NC_035780.1</td><td> 99840</td><td>106460</td><td>2</td><td>0</td><td>0</td><td>0</td><td> 2</td></tr>\n",
       "\t<tr><th scope=row>5</th><td>NC_035780.1</td><td>108305</td><td>110077</td><td>0</td><td>0</td><td>0</td><td>0</td><td> 0</td></tr>\n",
       "\t<tr><th scope=row>6</th><td>NC_035780.1</td><td>151859</td><td>157536</td><td>0</td><td>0</td><td>0</td><td>0</td><td> 0</td></tr>\n",
       "</tbody>\n",
       "</table>\n"
      ],
      "text/latex": [
       "A data.frame: 6 × 8\n",
       "\\begin{tabular}{r|llllllll}\n",
       "  & NC\\_035780.1 & X13578 & X14594 & X0 & X0.1 & X0.2 & X0.3 & X0.4\\\\\n",
       "  & <chr> & <int> & <int> & <int> & <int> & <int> & <int> & <int>\\\\\n",
       "\\hline\n",
       "\t1 & NC\\_035780.1 &  28961 &  33324 & 0 & 0 & 0 & 0 &  0\\\\\n",
       "\t2 & NC\\_035780.1 &  43111 &  66897 & 0 & 0 & 2 & 2 &  0\\\\\n",
       "\t3 & NC\\_035780.1 &  85606 &  95254 & 1 & 0 & 0 & 0 & 10\\\\\n",
       "\t4 & NC\\_035780.1 &  99840 & 106460 & 2 & 0 & 0 & 0 &  2\\\\\n",
       "\t5 & NC\\_035780.1 & 108305 & 110077 & 0 & 0 & 0 & 0 &  0\\\\\n",
       "\t6 & NC\\_035780.1 & 151859 & 157536 & 0 & 0 & 0 & 0 &  0\\\\\n",
       "\\end{tabular}\n"
      ],
      "text/markdown": [
       "\n",
       "A data.frame: 6 × 8\n",
       "\n",
       "| <!--/--> | NC_035780.1 &lt;chr&gt; | X13578 &lt;int&gt; | X14594 &lt;int&gt; | X0 &lt;int&gt; | X0.1 &lt;int&gt; | X0.2 &lt;int&gt; | X0.3 &lt;int&gt; | X0.4 &lt;int&gt; |\n",
       "|---|---|---|---|---|---|---|---|---|\n",
       "| 1 | NC_035780.1 |  28961 |  33324 | 0 | 0 | 0 | 0 |  0 |\n",
       "| 2 | NC_035780.1 |  43111 |  66897 | 0 | 0 | 2 | 2 |  0 |\n",
       "| 3 | NC_035780.1 |  85606 |  95254 | 1 | 0 | 0 | 0 | 10 |\n",
       "| 4 | NC_035780.1 |  99840 | 106460 | 2 | 0 | 0 | 0 |  2 |\n",
       "| 5 | NC_035780.1 | 108305 | 110077 | 0 | 0 | 0 | 0 |  0 |\n",
       "| 6 | NC_035780.1 | 151859 | 157536 | 0 | 0 | 0 | 0 |  0 |\n",
       "\n"
      ],
      "text/plain": [
       "  NC_035780.1 X13578 X14594 X0 X0.1 X0.2 X0.3 X0.4\n",
       "1 NC_035780.1  28961  33324 0  0    0    0     0  \n",
       "2 NC_035780.1  43111  66897 0  0    2    2     0  \n",
       "3 NC_035780.1  85606  95254 1  0    0    0    10  \n",
       "4 NC_035780.1  99840 106460 2  0    0    0     2  \n",
       "5 NC_035780.1 108305 110077 0  0    0    0     0  \n",
       "6 NC_035780.1 151859 157536 0  0    0    0     0  "
      ]
     },
     "metadata": {},
     "output_type": "display_data"
    },
    {
     "data": {
      "text/html": [
       "<table class=\"dataframe\">\n",
       "<caption>A data.frame: 6 × 8</caption>\n",
       "<thead>\n",
       "\t<tr><th></th><th scope=col>NC_035780.1</th><th scope=col>X13578</th><th scope=col>X14594</th><th scope=col>X0</th><th scope=col>X0.1</th><th scope=col>X0.2</th><th scope=col>X0.3</th><th scope=col>X2</th></tr>\n",
       "\t<tr><th></th><th scope=col>&lt;chr&gt;</th><th scope=col>&lt;int&gt;</th><th scope=col>&lt;int&gt;</th><th scope=col>&lt;int&gt;</th><th scope=col>&lt;int&gt;</th><th scope=col>&lt;int&gt;</th><th scope=col>&lt;int&gt;</th><th scope=col>&lt;int&gt;</th></tr>\n",
       "</thead>\n",
       "<tbody>\n",
       "\t<tr><th scope=row>1</th><td>NC_035780.1</td><td> 28961</td><td> 33324</td><td>0</td><td>0</td><td>0</td><td>0</td><td>0</td></tr>\n",
       "\t<tr><th scope=row>2</th><td>NC_035780.1</td><td> 43111</td><td> 66897</td><td>0</td><td>0</td><td>2</td><td>0</td><td>0</td></tr>\n",
       "\t<tr><th scope=row>3</th><td>NC_035780.1</td><td> 85606</td><td> 95254</td><td>0</td><td>0</td><td>0</td><td>0</td><td>2</td></tr>\n",
       "\t<tr><th scope=row>4</th><td>NC_035780.1</td><td> 99840</td><td>106460</td><td>2</td><td>0</td><td>0</td><td>0</td><td>2</td></tr>\n",
       "\t<tr><th scope=row>5</th><td>NC_035780.1</td><td>108305</td><td>110077</td><td>0</td><td>0</td><td>0</td><td>0</td><td>0</td></tr>\n",
       "\t<tr><th scope=row>6</th><td>NC_035780.1</td><td>151859</td><td>157536</td><td>0</td><td>0</td><td>0</td><td>0</td><td>2</td></tr>\n",
       "</tbody>\n",
       "</table>\n"
      ],
      "text/latex": [
       "A data.frame: 6 × 8\n",
       "\\begin{tabular}{r|llllllll}\n",
       "  & NC\\_035780.1 & X13578 & X14594 & X0 & X0.1 & X0.2 & X0.3 & X2\\\\\n",
       "  & <chr> & <int> & <int> & <int> & <int> & <int> & <int> & <int>\\\\\n",
       "\\hline\n",
       "\t1 & NC\\_035780.1 &  28961 &  33324 & 0 & 0 & 0 & 0 & 0\\\\\n",
       "\t2 & NC\\_035780.1 &  43111 &  66897 & 0 & 0 & 2 & 0 & 0\\\\\n",
       "\t3 & NC\\_035780.1 &  85606 &  95254 & 0 & 0 & 0 & 0 & 2\\\\\n",
       "\t4 & NC\\_035780.1 &  99840 & 106460 & 2 & 0 & 0 & 0 & 2\\\\\n",
       "\t5 & NC\\_035780.1 & 108305 & 110077 & 0 & 0 & 0 & 0 & 0\\\\\n",
       "\t6 & NC\\_035780.1 & 151859 & 157536 & 0 & 0 & 0 & 0 & 2\\\\\n",
       "\\end{tabular}\n"
      ],
      "text/markdown": [
       "\n",
       "A data.frame: 6 × 8\n",
       "\n",
       "| <!--/--> | NC_035780.1 &lt;chr&gt; | X13578 &lt;int&gt; | X14594 &lt;int&gt; | X0 &lt;int&gt; | X0.1 &lt;int&gt; | X0.2 &lt;int&gt; | X0.3 &lt;int&gt; | X2 &lt;int&gt; |\n",
       "|---|---|---|---|---|---|---|---|---|\n",
       "| 1 | NC_035780.1 |  28961 |  33324 | 0 | 0 | 0 | 0 | 0 |\n",
       "| 2 | NC_035780.1 |  43111 |  66897 | 0 | 0 | 2 | 0 | 0 |\n",
       "| 3 | NC_035780.1 |  85606 |  95254 | 0 | 0 | 0 | 0 | 2 |\n",
       "| 4 | NC_035780.1 |  99840 | 106460 | 2 | 0 | 0 | 0 | 2 |\n",
       "| 5 | NC_035780.1 | 108305 | 110077 | 0 | 0 | 0 | 0 | 0 |\n",
       "| 6 | NC_035780.1 | 151859 | 157536 | 0 | 0 | 0 | 0 | 2 |\n",
       "\n"
      ],
      "text/plain": [
       "  NC_035780.1 X13578 X14594 X0 X0.1 X0.2 X0.3 X2\n",
       "1 NC_035780.1  28961  33324 0  0    0    0    0 \n",
       "2 NC_035780.1  43111  66897 0  0    2    0    0 \n",
       "3 NC_035780.1  85606  95254 0  0    0    0    2 \n",
       "4 NC_035780.1  99840 106460 2  0    0    0    2 \n",
       "5 NC_035780.1 108305 110077 0  0    0    0    0 \n",
       "6 NC_035780.1 151859 157536 0  0    0    0    2 "
      ]
     },
     "metadata": {},
     "output_type": "display_data"
    }
   ],
   "source": [
    "head(cc_mc)\n",
    "head(hc_mc)\n",
    "head(ch_mc)\n",
    "head(hh_mc)"
   ]
  },
  {
   "cell_type": "code",
   "execution_count": 53,
   "id": "a1a4f854-c96b-464f-8d42-a8ad3fbad3b4",
   "metadata": {},
   "outputs": [
    {
     "data": {
      "text/html": [
       "38261"
      ],
      "text/latex": [
       "38261"
      ],
      "text/markdown": [
       "38261"
      ],
      "text/plain": [
       "[1] 38261"
      ]
     },
     "metadata": {},
     "output_type": "display_data"
    }
   ],
   "source": [
    "# total number of gene in the CV genome\n",
    "total_gene <- dim(cc_mc)[1]\n",
    "total_gene"
   ]
  },
  {
   "cell_type": "markdown",
   "id": "eb39d72c-05b4-46de-aee6-4d83f2e3983a",
   "metadata": {},
   "source": [
    "### 2. calculate methylation level\n",
    "for simplification of code, created a function to run on each treatment matrix\n",
    "\n",
    "the code reads in the df, counts the number of methylated CpGs for each replicate and calculates the methylation level (# methylated CpGs / total CpGs * 100)"
   ]
  },
  {
   "cell_type": "code",
   "execution_count": 57,
   "id": "115d3fcc-381b-4db2-afff-0299b2d712b7",
   "metadata": {},
   "outputs": [],
   "source": [
    "format <- function(file, treatment) {\n",
    "  file %>%\n",
    "    select(4:8) %>%\n",
    "    summarise(across(everything(), ~ sum(.x >= 5))) %>%\n",
    "    pivot_longer(everything(), names_to = \"col_name\", values_to = \"methyl_count\") %>%\n",
    "    mutate(treatment = treatment) %>%\n",
    "    mutate(total_cpg = nrow(file)) %>%\n",
    "    mutate(methyl_level = round(methyl_count / total_gene * 100, 2))\n",
    "}"
   ]
  },
  {
   "cell_type": "code",
   "execution_count": 58,
   "id": "c365a459-b3cc-476e-8229-876d83832e6a",
   "metadata": {},
   "outputs": [
    {
     "data": {
      "text/html": [
       "<table class=\"dataframe\">\n",
       "<caption>A tibble: 5 × 5</caption>\n",
       "<thead>\n",
       "\t<tr><th scope=col>col_name</th><th scope=col>methyl_count</th><th scope=col>treatment</th><th scope=col>total_cpg</th><th scope=col>methyl_level</th></tr>\n",
       "\t<tr><th scope=col>&lt;chr&gt;</th><th scope=col>&lt;int&gt;</th><th scope=col>&lt;chr&gt;</th><th scope=col>&lt;int&gt;</th><th scope=col>&lt;dbl&gt;</th></tr>\n",
       "</thead>\n",
       "<tbody>\n",
       "\t<tr><td>X0  </td><td>14127</td><td>CC</td><td>38261</td><td>36.92</td></tr>\n",
       "\t<tr><td>X0.1</td><td> 9378</td><td>CC</td><td>38261</td><td>24.51</td></tr>\n",
       "\t<tr><td>X0.2</td><td>14142</td><td>CC</td><td>38261</td><td>36.96</td></tr>\n",
       "\t<tr><td>X0.3</td><td>11122</td><td>CC</td><td>38261</td><td>29.07</td></tr>\n",
       "\t<tr><td>X0.4</td><td> 7322</td><td>CC</td><td>38261</td><td>19.14</td></tr>\n",
       "</tbody>\n",
       "</table>\n"
      ],
      "text/latex": [
       "A tibble: 5 × 5\n",
       "\\begin{tabular}{lllll}\n",
       " col\\_name & methyl\\_count & treatment & total\\_cpg & methyl\\_level\\\\\n",
       " <chr> & <int> & <chr> & <int> & <dbl>\\\\\n",
       "\\hline\n",
       "\t X0   & 14127 & CC & 38261 & 36.92\\\\\n",
       "\t X0.1 &  9378 & CC & 38261 & 24.51\\\\\n",
       "\t X0.2 & 14142 & CC & 38261 & 36.96\\\\\n",
       "\t X0.3 & 11122 & CC & 38261 & 29.07\\\\\n",
       "\t X0.4 &  7322 & CC & 38261 & 19.14\\\\\n",
       "\\end{tabular}\n"
      ],
      "text/markdown": [
       "\n",
       "A tibble: 5 × 5\n",
       "\n",
       "| col_name &lt;chr&gt; | methyl_count &lt;int&gt; | treatment &lt;chr&gt; | total_cpg &lt;int&gt; | methyl_level &lt;dbl&gt; |\n",
       "|---|---|---|---|---|\n",
       "| X0   | 14127 | CC | 38261 | 36.92 |\n",
       "| X0.1 |  9378 | CC | 38261 | 24.51 |\n",
       "| X0.2 | 14142 | CC | 38261 | 36.96 |\n",
       "| X0.3 | 11122 | CC | 38261 | 29.07 |\n",
       "| X0.4 |  7322 | CC | 38261 | 19.14 |\n",
       "\n"
      ],
      "text/plain": [
       "  col_name methyl_count treatment total_cpg methyl_level\n",
       "1 X0       14127        CC        38261     36.92       \n",
       "2 X0.1      9378        CC        38261     24.51       \n",
       "3 X0.2     14142        CC        38261     36.96       \n",
       "4 X0.3     11122        CC        38261     29.07       \n",
       "5 X0.4      7322        CC        38261     19.14       "
      ]
     },
     "metadata": {},
     "output_type": "display_data"
    },
    {
     "data": {
      "text/html": [
       "<table class=\"dataframe\">\n",
       "<caption>A tibble: 5 × 5</caption>\n",
       "<thead>\n",
       "\t<tr><th scope=col>col_name</th><th scope=col>methyl_count</th><th scope=col>treatment</th><th scope=col>total_cpg</th><th scope=col>methyl_level</th></tr>\n",
       "\t<tr><th scope=col>&lt;chr&gt;</th><th scope=col>&lt;int&gt;</th><th scope=col>&lt;chr&gt;</th><th scope=col>&lt;int&gt;</th><th scope=col>&lt;dbl&gt;</th></tr>\n",
       "</thead>\n",
       "<tbody>\n",
       "\t<tr><td>X0  </td><td>13795</td><td>HC</td><td>38261</td><td>36.05</td></tr>\n",
       "\t<tr><td>X0.1</td><td>13641</td><td>HC</td><td>38261</td><td>35.65</td></tr>\n",
       "\t<tr><td>X0.2</td><td>14319</td><td>HC</td><td>38261</td><td>37.42</td></tr>\n",
       "\t<tr><td>X0.3</td><td>13620</td><td>HC</td><td>38261</td><td>35.60</td></tr>\n",
       "\t<tr><td>X0.4</td><td>10401</td><td>HC</td><td>38261</td><td>27.18</td></tr>\n",
       "</tbody>\n",
       "</table>\n"
      ],
      "text/latex": [
       "A tibble: 5 × 5\n",
       "\\begin{tabular}{lllll}\n",
       " col\\_name & methyl\\_count & treatment & total\\_cpg & methyl\\_level\\\\\n",
       " <chr> & <int> & <chr> & <int> & <dbl>\\\\\n",
       "\\hline\n",
       "\t X0   & 13795 & HC & 38261 & 36.05\\\\\n",
       "\t X0.1 & 13641 & HC & 38261 & 35.65\\\\\n",
       "\t X0.2 & 14319 & HC & 38261 & 37.42\\\\\n",
       "\t X0.3 & 13620 & HC & 38261 & 35.60\\\\\n",
       "\t X0.4 & 10401 & HC & 38261 & 27.18\\\\\n",
       "\\end{tabular}\n"
      ],
      "text/markdown": [
       "\n",
       "A tibble: 5 × 5\n",
       "\n",
       "| col_name &lt;chr&gt; | methyl_count &lt;int&gt; | treatment &lt;chr&gt; | total_cpg &lt;int&gt; | methyl_level &lt;dbl&gt; |\n",
       "|---|---|---|---|---|\n",
       "| X0   | 13795 | HC | 38261 | 36.05 |\n",
       "| X0.1 | 13641 | HC | 38261 | 35.65 |\n",
       "| X0.2 | 14319 | HC | 38261 | 37.42 |\n",
       "| X0.3 | 13620 | HC | 38261 | 35.60 |\n",
       "| X0.4 | 10401 | HC | 38261 | 27.18 |\n",
       "\n"
      ],
      "text/plain": [
       "  col_name methyl_count treatment total_cpg methyl_level\n",
       "1 X0       13795        HC        38261     36.05       \n",
       "2 X0.1     13641        HC        38261     35.65       \n",
       "3 X0.2     14319        HC        38261     37.42       \n",
       "4 X0.3     13620        HC        38261     35.60       \n",
       "5 X0.4     10401        HC        38261     27.18       "
      ]
     },
     "metadata": {},
     "output_type": "display_data"
    },
    {
     "data": {
      "text/html": [
       "<table class=\"dataframe\">\n",
       "<caption>A tibble: 5 × 5</caption>\n",
       "<thead>\n",
       "\t<tr><th scope=col>col_name</th><th scope=col>methyl_count</th><th scope=col>treatment</th><th scope=col>total_cpg</th><th scope=col>methyl_level</th></tr>\n",
       "\t<tr><th scope=col>&lt;chr&gt;</th><th scope=col>&lt;int&gt;</th><th scope=col>&lt;chr&gt;</th><th scope=col>&lt;int&gt;</th><th scope=col>&lt;dbl&gt;</th></tr>\n",
       "</thead>\n",
       "<tbody>\n",
       "\t<tr><td>X0  </td><td>13820</td><td>CH</td><td>38261</td><td>36.12</td></tr>\n",
       "\t<tr><td>X0.1</td><td> 5965</td><td>CH</td><td>38261</td><td>15.59</td></tr>\n",
       "\t<tr><td>X0.2</td><td>10170</td><td>CH</td><td>38261</td><td>26.58</td></tr>\n",
       "\t<tr><td>X0.3</td><td>13832</td><td>CH</td><td>38261</td><td>36.15</td></tr>\n",
       "\t<tr><td>X0.4</td><td>12177</td><td>CH</td><td>38261</td><td>31.83</td></tr>\n",
       "</tbody>\n",
       "</table>\n"
      ],
      "text/latex": [
       "A tibble: 5 × 5\n",
       "\\begin{tabular}{lllll}\n",
       " col\\_name & methyl\\_count & treatment & total\\_cpg & methyl\\_level\\\\\n",
       " <chr> & <int> & <chr> & <int> & <dbl>\\\\\n",
       "\\hline\n",
       "\t X0   & 13820 & CH & 38261 & 36.12\\\\\n",
       "\t X0.1 &  5965 & CH & 38261 & 15.59\\\\\n",
       "\t X0.2 & 10170 & CH & 38261 & 26.58\\\\\n",
       "\t X0.3 & 13832 & CH & 38261 & 36.15\\\\\n",
       "\t X0.4 & 12177 & CH & 38261 & 31.83\\\\\n",
       "\\end{tabular}\n"
      ],
      "text/markdown": [
       "\n",
       "A tibble: 5 × 5\n",
       "\n",
       "| col_name &lt;chr&gt; | methyl_count &lt;int&gt; | treatment &lt;chr&gt; | total_cpg &lt;int&gt; | methyl_level &lt;dbl&gt; |\n",
       "|---|---|---|---|---|\n",
       "| X0   | 13820 | CH | 38261 | 36.12 |\n",
       "| X0.1 |  5965 | CH | 38261 | 15.59 |\n",
       "| X0.2 | 10170 | CH | 38261 | 26.58 |\n",
       "| X0.3 | 13832 | CH | 38261 | 36.15 |\n",
       "| X0.4 | 12177 | CH | 38261 | 31.83 |\n",
       "\n"
      ],
      "text/plain": [
       "  col_name methyl_count treatment total_cpg methyl_level\n",
       "1 X0       13820        CH        38261     36.12       \n",
       "2 X0.1      5965        CH        38261     15.59       \n",
       "3 X0.2     10170        CH        38261     26.58       \n",
       "4 X0.3     13832        CH        38261     36.15       \n",
       "5 X0.4     12177        CH        38261     31.83       "
      ]
     },
     "metadata": {},
     "output_type": "display_data"
    },
    {
     "data": {
      "text/html": [
       "<table class=\"dataframe\">\n",
       "<caption>A tibble: 5 × 5</caption>\n",
       "<thead>\n",
       "\t<tr><th scope=col>col_name</th><th scope=col>methyl_count</th><th scope=col>treatment</th><th scope=col>total_cpg</th><th scope=col>methyl_level</th></tr>\n",
       "\t<tr><th scope=col>&lt;chr&gt;</th><th scope=col>&lt;int&gt;</th><th scope=col>&lt;chr&gt;</th><th scope=col>&lt;int&gt;</th><th scope=col>&lt;dbl&gt;</th></tr>\n",
       "</thead>\n",
       "<tbody>\n",
       "\t<tr><td>X0  </td><td>13655</td><td>HH</td><td>38261</td><td>35.69</td></tr>\n",
       "\t<tr><td>X0.1</td><td>12228</td><td>HH</td><td>38261</td><td>31.96</td></tr>\n",
       "\t<tr><td>X0.2</td><td>12415</td><td>HH</td><td>38261</td><td>32.45</td></tr>\n",
       "\t<tr><td>X0.3</td><td>13794</td><td>HH</td><td>38261</td><td>36.05</td></tr>\n",
       "\t<tr><td>X2  </td><td>13621</td><td>HH</td><td>38261</td><td>35.60</td></tr>\n",
       "</tbody>\n",
       "</table>\n"
      ],
      "text/latex": [
       "A tibble: 5 × 5\n",
       "\\begin{tabular}{lllll}\n",
       " col\\_name & methyl\\_count & treatment & total\\_cpg & methyl\\_level\\\\\n",
       " <chr> & <int> & <chr> & <int> & <dbl>\\\\\n",
       "\\hline\n",
       "\t X0   & 13655 & HH & 38261 & 35.69\\\\\n",
       "\t X0.1 & 12228 & HH & 38261 & 31.96\\\\\n",
       "\t X0.2 & 12415 & HH & 38261 & 32.45\\\\\n",
       "\t X0.3 & 13794 & HH & 38261 & 36.05\\\\\n",
       "\t X2   & 13621 & HH & 38261 & 35.60\\\\\n",
       "\\end{tabular}\n"
      ],
      "text/markdown": [
       "\n",
       "A tibble: 5 × 5\n",
       "\n",
       "| col_name &lt;chr&gt; | methyl_count &lt;int&gt; | treatment &lt;chr&gt; | total_cpg &lt;int&gt; | methyl_level &lt;dbl&gt; |\n",
       "|---|---|---|---|---|\n",
       "| X0   | 13655 | HH | 38261 | 35.69 |\n",
       "| X0.1 | 12228 | HH | 38261 | 31.96 |\n",
       "| X0.2 | 12415 | HH | 38261 | 32.45 |\n",
       "| X0.3 | 13794 | HH | 38261 | 36.05 |\n",
       "| X2   | 13621 | HH | 38261 | 35.60 |\n",
       "\n"
      ],
      "text/plain": [
       "  col_name methyl_count treatment total_cpg methyl_level\n",
       "1 X0       13655        HH        38261     35.69       \n",
       "2 X0.1     12228        HH        38261     31.96       \n",
       "3 X0.2     12415        HH        38261     32.45       \n",
       "4 X0.3     13794        HH        38261     36.05       \n",
       "5 X2       13621        HH        38261     35.60       "
      ]
     },
     "metadata": {},
     "output_type": "display_data"
    }
   ],
   "source": [
    "CC <- format(cc_mc, 'CC')\n",
    "CC\n",
    "\n",
    "HC <- format(hc_mc, 'HC')\n",
    "HC\n",
    "\n",
    "CH <- format(ch_mc, 'CH')\n",
    "CH\n",
    "\n",
    "HH <- format(hh_mc, 'HH')\n",
    "HH"
   ]
  },
  {
   "cell_type": "code",
   "execution_count": 59,
   "id": "818b8dec-aba6-4de9-9438-63ce10a39724",
   "metadata": {},
   "outputs": [
    {
     "data": {
      "text/html": [
       "<table class=\"dataframe\">\n",
       "<caption>A tibble: 20 × 7</caption>\n",
       "<thead>\n",
       "\t<tr><th scope=col>col_name</th><th scope=col>methyl_count</th><th scope=col>treatment</th><th scope=col>total_cpg</th><th scope=col>methyl_level</th><th scope=col>phase1</th><th scope=col>phase2</th></tr>\n",
       "\t<tr><th scope=col>&lt;chr&gt;</th><th scope=col>&lt;int&gt;</th><th scope=col>&lt;chr&gt;</th><th scope=col>&lt;int&gt;</th><th scope=col>&lt;dbl&gt;</th><th scope=col>&lt;chr&gt;</th><th scope=col>&lt;chr&gt;</th></tr>\n",
       "</thead>\n",
       "<tbody>\n",
       "\t<tr><td>X0  </td><td>14127</td><td>CC</td><td>38261</td><td>36.92</td><td>Control</td><td>Control</td></tr>\n",
       "\t<tr><td>X0.1</td><td> 9378</td><td>CC</td><td>38261</td><td>24.51</td><td>Control</td><td>Control</td></tr>\n",
       "\t<tr><td>X0.2</td><td>14142</td><td>CC</td><td>38261</td><td>36.96</td><td>Control</td><td>Control</td></tr>\n",
       "\t<tr><td>X0.3</td><td>11122</td><td>CC</td><td>38261</td><td>29.07</td><td>Control</td><td>Control</td></tr>\n",
       "\t<tr><td>X0.4</td><td> 7322</td><td>CC</td><td>38261</td><td>19.14</td><td>Control</td><td>Control</td></tr>\n",
       "\t<tr><td>X0  </td><td>13795</td><td>HC</td><td>38261</td><td>36.05</td><td>Hypoxic</td><td>Control</td></tr>\n",
       "\t<tr><td>X0.1</td><td>13641</td><td>HC</td><td>38261</td><td>35.65</td><td>Hypoxic</td><td>Control</td></tr>\n",
       "\t<tr><td>X0.2</td><td>14319</td><td>HC</td><td>38261</td><td>37.42</td><td>Hypoxic</td><td>Control</td></tr>\n",
       "\t<tr><td>X0.3</td><td>13620</td><td>HC</td><td>38261</td><td>35.60</td><td>Hypoxic</td><td>Control</td></tr>\n",
       "\t<tr><td>X0.4</td><td>10401</td><td>HC</td><td>38261</td><td>27.18</td><td>Hypoxic</td><td>Control</td></tr>\n",
       "\t<tr><td>X0  </td><td>13820</td><td>CH</td><td>38261</td><td>36.12</td><td>Control</td><td>Hypoxic</td></tr>\n",
       "\t<tr><td>X0.1</td><td> 5965</td><td>CH</td><td>38261</td><td>15.59</td><td>Control</td><td>Hypoxic</td></tr>\n",
       "\t<tr><td>X0.2</td><td>10170</td><td>CH</td><td>38261</td><td>26.58</td><td>Control</td><td>Hypoxic</td></tr>\n",
       "\t<tr><td>X0.3</td><td>13832</td><td>CH</td><td>38261</td><td>36.15</td><td>Control</td><td>Hypoxic</td></tr>\n",
       "\t<tr><td>X0.4</td><td>12177</td><td>CH</td><td>38261</td><td>31.83</td><td>Control</td><td>Hypoxic</td></tr>\n",
       "\t<tr><td>X0  </td><td>13655</td><td>HH</td><td>38261</td><td>35.69</td><td>Hypoxic</td><td>Hypoxic</td></tr>\n",
       "\t<tr><td>X0.1</td><td>12228</td><td>HH</td><td>38261</td><td>31.96</td><td>Hypoxic</td><td>Hypoxic</td></tr>\n",
       "\t<tr><td>X0.2</td><td>12415</td><td>HH</td><td>38261</td><td>32.45</td><td>Hypoxic</td><td>Hypoxic</td></tr>\n",
       "\t<tr><td>X0.3</td><td>13794</td><td>HH</td><td>38261</td><td>36.05</td><td>Hypoxic</td><td>Hypoxic</td></tr>\n",
       "\t<tr><td>X2  </td><td>13621</td><td>HH</td><td>38261</td><td>35.60</td><td>Hypoxic</td><td>Hypoxic</td></tr>\n",
       "</tbody>\n",
       "</table>\n"
      ],
      "text/latex": [
       "A tibble: 20 × 7\n",
       "\\begin{tabular}{lllllll}\n",
       " col\\_name & methyl\\_count & treatment & total\\_cpg & methyl\\_level & phase1 & phase2\\\\\n",
       " <chr> & <int> & <chr> & <int> & <dbl> & <chr> & <chr>\\\\\n",
       "\\hline\n",
       "\t X0   & 14127 & CC & 38261 & 36.92 & Control & Control\\\\\n",
       "\t X0.1 &  9378 & CC & 38261 & 24.51 & Control & Control\\\\\n",
       "\t X0.2 & 14142 & CC & 38261 & 36.96 & Control & Control\\\\\n",
       "\t X0.3 & 11122 & CC & 38261 & 29.07 & Control & Control\\\\\n",
       "\t X0.4 &  7322 & CC & 38261 & 19.14 & Control & Control\\\\\n",
       "\t X0   & 13795 & HC & 38261 & 36.05 & Hypoxic & Control\\\\\n",
       "\t X0.1 & 13641 & HC & 38261 & 35.65 & Hypoxic & Control\\\\\n",
       "\t X0.2 & 14319 & HC & 38261 & 37.42 & Hypoxic & Control\\\\\n",
       "\t X0.3 & 13620 & HC & 38261 & 35.60 & Hypoxic & Control\\\\\n",
       "\t X0.4 & 10401 & HC & 38261 & 27.18 & Hypoxic & Control\\\\\n",
       "\t X0   & 13820 & CH & 38261 & 36.12 & Control & Hypoxic\\\\\n",
       "\t X0.1 &  5965 & CH & 38261 & 15.59 & Control & Hypoxic\\\\\n",
       "\t X0.2 & 10170 & CH & 38261 & 26.58 & Control & Hypoxic\\\\\n",
       "\t X0.3 & 13832 & CH & 38261 & 36.15 & Control & Hypoxic\\\\\n",
       "\t X0.4 & 12177 & CH & 38261 & 31.83 & Control & Hypoxic\\\\\n",
       "\t X0   & 13655 & HH & 38261 & 35.69 & Hypoxic & Hypoxic\\\\\n",
       "\t X0.1 & 12228 & HH & 38261 & 31.96 & Hypoxic & Hypoxic\\\\\n",
       "\t X0.2 & 12415 & HH & 38261 & 32.45 & Hypoxic & Hypoxic\\\\\n",
       "\t X0.3 & 13794 & HH & 38261 & 36.05 & Hypoxic & Hypoxic\\\\\n",
       "\t X2   & 13621 & HH & 38261 & 35.60 & Hypoxic & Hypoxic\\\\\n",
       "\\end{tabular}\n"
      ],
      "text/markdown": [
       "\n",
       "A tibble: 20 × 7\n",
       "\n",
       "| col_name &lt;chr&gt; | methyl_count &lt;int&gt; | treatment &lt;chr&gt; | total_cpg &lt;int&gt; | methyl_level &lt;dbl&gt; | phase1 &lt;chr&gt; | phase2 &lt;chr&gt; |\n",
       "|---|---|---|---|---|---|---|\n",
       "| X0   | 14127 | CC | 38261 | 36.92 | Control | Control |\n",
       "| X0.1 |  9378 | CC | 38261 | 24.51 | Control | Control |\n",
       "| X0.2 | 14142 | CC | 38261 | 36.96 | Control | Control |\n",
       "| X0.3 | 11122 | CC | 38261 | 29.07 | Control | Control |\n",
       "| X0.4 |  7322 | CC | 38261 | 19.14 | Control | Control |\n",
       "| X0   | 13795 | HC | 38261 | 36.05 | Hypoxic | Control |\n",
       "| X0.1 | 13641 | HC | 38261 | 35.65 | Hypoxic | Control |\n",
       "| X0.2 | 14319 | HC | 38261 | 37.42 | Hypoxic | Control |\n",
       "| X0.3 | 13620 | HC | 38261 | 35.60 | Hypoxic | Control |\n",
       "| X0.4 | 10401 | HC | 38261 | 27.18 | Hypoxic | Control |\n",
       "| X0   | 13820 | CH | 38261 | 36.12 | Control | Hypoxic |\n",
       "| X0.1 |  5965 | CH | 38261 | 15.59 | Control | Hypoxic |\n",
       "| X0.2 | 10170 | CH | 38261 | 26.58 | Control | Hypoxic |\n",
       "| X0.3 | 13832 | CH | 38261 | 36.15 | Control | Hypoxic |\n",
       "| X0.4 | 12177 | CH | 38261 | 31.83 | Control | Hypoxic |\n",
       "| X0   | 13655 | HH | 38261 | 35.69 | Hypoxic | Hypoxic |\n",
       "| X0.1 | 12228 | HH | 38261 | 31.96 | Hypoxic | Hypoxic |\n",
       "| X0.2 | 12415 | HH | 38261 | 32.45 | Hypoxic | Hypoxic |\n",
       "| X0.3 | 13794 | HH | 38261 | 36.05 | Hypoxic | Hypoxic |\n",
       "| X2   | 13621 | HH | 38261 | 35.60 | Hypoxic | Hypoxic |\n",
       "\n"
      ],
      "text/plain": [
       "   col_name methyl_count treatment total_cpg methyl_level phase1  phase2 \n",
       "1  X0       14127        CC        38261     36.92        Control Control\n",
       "2  X0.1      9378        CC        38261     24.51        Control Control\n",
       "3  X0.2     14142        CC        38261     36.96        Control Control\n",
       "4  X0.3     11122        CC        38261     29.07        Control Control\n",
       "5  X0.4      7322        CC        38261     19.14        Control Control\n",
       "6  X0       13795        HC        38261     36.05        Hypoxic Control\n",
       "7  X0.1     13641        HC        38261     35.65        Hypoxic Control\n",
       "8  X0.2     14319        HC        38261     37.42        Hypoxic Control\n",
       "9  X0.3     13620        HC        38261     35.60        Hypoxic Control\n",
       "10 X0.4     10401        HC        38261     27.18        Hypoxic Control\n",
       "11 X0       13820        CH        38261     36.12        Control Hypoxic\n",
       "12 X0.1      5965        CH        38261     15.59        Control Hypoxic\n",
       "13 X0.2     10170        CH        38261     26.58        Control Hypoxic\n",
       "14 X0.3     13832        CH        38261     36.15        Control Hypoxic\n",
       "15 X0.4     12177        CH        38261     31.83        Control Hypoxic\n",
       "16 X0       13655        HH        38261     35.69        Hypoxic Hypoxic\n",
       "17 X0.1     12228        HH        38261     31.96        Hypoxic Hypoxic\n",
       "18 X0.2     12415        HH        38261     32.45        Hypoxic Hypoxic\n",
       "19 X0.3     13794        HH        38261     36.05        Hypoxic Hypoxic\n",
       "20 X2       13621        HH        38261     35.60        Hypoxic Hypoxic"
      ]
     },
     "metadata": {},
     "output_type": "display_data"
    }
   ],
   "source": [
    "# merge all dfs into one\n",
    "gene_meLevel <- rbind(CC, HC, CH, HH)\n",
    "\n",
    "# add phase 1 and 2 info based on treatment code\n",
    "gene_meLevel$phase1 <- ifelse(substr(gene_meLevel$treatment, 1, 1) == \"C\", \"Control\", \"Hypoxic\")\n",
    "gene_meLevel$phase2 <- ifelse(substr(gene_meLevel$treatment, 2, 2) == \"C\", \"Control\", \"Hypoxic\")\n",
    "\n",
    "gene_meLevel"
   ]
  },
  {
   "cell_type": "code",
   "execution_count": 70,
   "id": "8385df31-a38d-4f86-96eb-dd358377170f",
   "metadata": {},
   "outputs": [
    {
     "data": {
      "image/png": "[encoded data removed]",
      "text/plain": [
       "plot without title"
      ]
     },
     "metadata": {
      "image/png": {
       "height": 420,
       "width": 420
      }
     },
     "output_type": "display_data"
    }
   ],
   "source": [
    "\n",
    "cpgBoxplot <- ggplot(gene_meLevel, aes(x = phase1, y = methyl_level, fill = phase1)) +\n",
    "  geom_boxplot() +\n",
    "  geom_point() +\n",
    "  facet_wrap(~ phase2) +\n",
    "  scale_fill_manual(values=c('cornflowerblue', 'deeppink2')) +\n",
    "  guides(fill = 'none') +\n",
    "ylim(0, 45) +\n",
    "  labs(x = \"First Exposure\", \n",
    "       y = \"Percent of genes methylated\",\n",
    "       title = 'B)',\n",
    "       subtitle = \"Second Exposure\") +\n",
    "  theme_bw() +\n",
    "  theme(text = element_text(size = 15), plot.subtitle = element_text(hjust=0.5))\n",
    "\n",
    "cpgBoxplot"
   ]
  },
  {
   "cell_type": "code",
   "execution_count": 73,
   "id": "95518253-44a4-47de-bdd0-278fc2c306c8",
   "metadata": {},
   "outputs": [
    {
     "data": {
      "text/html": [
       "<table class=\"dataframe\">\n",
       "<caption>A tibble: 20 × 7</caption>\n",
       "<thead>\n",
       "\t<tr><th scope=col>col_name</th><th scope=col>methyl_count</th><th scope=col>treatment</th><th scope=col>total_cpg</th><th scope=col>methyl_level</th><th scope=col>phase1</th><th scope=col>phase2</th></tr>\n",
       "\t<tr><th scope=col>&lt;chr&gt;</th><th scope=col>&lt;int&gt;</th><th scope=col>&lt;chr&gt;</th><th scope=col>&lt;int&gt;</th><th scope=col>&lt;dbl&gt;</th><th scope=col>&lt;chr&gt;</th><th scope=col>&lt;chr&gt;</th></tr>\n",
       "</thead>\n",
       "<tbody>\n",
       "\t<tr><td>X0  </td><td>14127</td><td>CC</td><td>38261</td><td>36.92</td><td>Control</td><td>Control</td></tr>\n",
       "\t<tr><td>X0.1</td><td> 9378</td><td>CC</td><td>38261</td><td>24.51</td><td>Control</td><td>Control</td></tr>\n",
       "\t<tr><td>X0.2</td><td>14142</td><td>CC</td><td>38261</td><td>36.96</td><td>Control</td><td>Control</td></tr>\n",
       "\t<tr><td>X0.3</td><td>11122</td><td>CC</td><td>38261</td><td>29.07</td><td>Control</td><td>Control</td></tr>\n",
       "\t<tr><td>X0.4</td><td> 7322</td><td>CC</td><td>38261</td><td>19.14</td><td>Control</td><td>Control</td></tr>\n",
       "\t<tr><td>X0  </td><td>13795</td><td>HC</td><td>38261</td><td>36.05</td><td>Hypoxic</td><td>Control</td></tr>\n",
       "\t<tr><td>X0.1</td><td>13641</td><td>HC</td><td>38261</td><td>35.65</td><td>Hypoxic</td><td>Control</td></tr>\n",
       "\t<tr><td>X0.2</td><td>14319</td><td>HC</td><td>38261</td><td>37.42</td><td>Hypoxic</td><td>Control</td></tr>\n",
       "\t<tr><td>X0.3</td><td>13620</td><td>HC</td><td>38261</td><td>35.60</td><td>Hypoxic</td><td>Control</td></tr>\n",
       "\t<tr><td>X0.4</td><td>10401</td><td>HC</td><td>38261</td><td>27.18</td><td>Hypoxic</td><td>Control</td></tr>\n",
       "\t<tr><td>X0  </td><td>13820</td><td>CH</td><td>38261</td><td>36.12</td><td>Control</td><td>Hypoxic</td></tr>\n",
       "\t<tr><td>X0.1</td><td> 5965</td><td>CH</td><td>38261</td><td>15.59</td><td>Control</td><td>Hypoxic</td></tr>\n",
       "\t<tr><td>X0.2</td><td>10170</td><td>CH</td><td>38261</td><td>26.58</td><td>Control</td><td>Hypoxic</td></tr>\n",
       "\t<tr><td>X0.3</td><td>13832</td><td>CH</td><td>38261</td><td>36.15</td><td>Control</td><td>Hypoxic</td></tr>\n",
       "\t<tr><td>X0.4</td><td>12177</td><td>CH</td><td>38261</td><td>31.83</td><td>Control</td><td>Hypoxic</td></tr>\n",
       "\t<tr><td>X0  </td><td>13655</td><td>HH</td><td>38261</td><td>35.69</td><td>Hypoxic</td><td>Hypoxic</td></tr>\n",
       "\t<tr><td>X0.1</td><td>12228</td><td>HH</td><td>38261</td><td>31.96</td><td>Hypoxic</td><td>Hypoxic</td></tr>\n",
       "\t<tr><td>X0.2</td><td>12415</td><td>HH</td><td>38261</td><td>32.45</td><td>Hypoxic</td><td>Hypoxic</td></tr>\n",
       "\t<tr><td>X0.3</td><td>13794</td><td>HH</td><td>38261</td><td>36.05</td><td>Hypoxic</td><td>Hypoxic</td></tr>\n",
       "\t<tr><td>X2  </td><td>13621</td><td>HH</td><td>38261</td><td>35.60</td><td>Hypoxic</td><td>Hypoxic</td></tr>\n",
       "</tbody>\n",
       "</table>\n"
      ],
      "text/latex": [
       "A tibble: 20 × 7\n",
       "\\begin{tabular}{lllllll}\n",
       " col\\_name & methyl\\_count & treatment & total\\_cpg & methyl\\_level & phase1 & phase2\\\\\n",
       " <chr> & <int> & <chr> & <int> & <dbl> & <chr> & <chr>\\\\\n",
       "\\hline\n",
       "\t X0   & 14127 & CC & 38261 & 36.92 & Control & Control\\\\\n",
       "\t X0.1 &  9378 & CC & 38261 & 24.51 & Control & Control\\\\\n",
       "\t X0.2 & 14142 & CC & 38261 & 36.96 & Control & Control\\\\\n",
       "\t X0.3 & 11122 & CC & 38261 & 29.07 & Control & Control\\\\\n",
       "\t X0.4 &  7322 & CC & 38261 & 19.14 & Control & Control\\\\\n",
       "\t X0   & 13795 & HC & 38261 & 36.05 & Hypoxic & Control\\\\\n",
       "\t X0.1 & 13641 & HC & 38261 & 35.65 & Hypoxic & Control\\\\\n",
       "\t X0.2 & 14319 & HC & 38261 & 37.42 & Hypoxic & Control\\\\\n",
       "\t X0.3 & 13620 & HC & 38261 & 35.60 & Hypoxic & Control\\\\\n",
       "\t X0.4 & 10401 & HC & 38261 & 27.18 & Hypoxic & Control\\\\\n",
       "\t X0   & 13820 & CH & 38261 & 36.12 & Control & Hypoxic\\\\\n",
       "\t X0.1 &  5965 & CH & 38261 & 15.59 & Control & Hypoxic\\\\\n",
       "\t X0.2 & 10170 & CH & 38261 & 26.58 & Control & Hypoxic\\\\\n",
       "\t X0.3 & 13832 & CH & 38261 & 36.15 & Control & Hypoxic\\\\\n",
       "\t X0.4 & 12177 & CH & 38261 & 31.83 & Control & Hypoxic\\\\\n",
       "\t X0   & 13655 & HH & 38261 & 35.69 & Hypoxic & Hypoxic\\\\\n",
       "\t X0.1 & 12228 & HH & 38261 & 31.96 & Hypoxic & Hypoxic\\\\\n",
       "\t X0.2 & 12415 & HH & 38261 & 32.45 & Hypoxic & Hypoxic\\\\\n",
       "\t X0.3 & 13794 & HH & 38261 & 36.05 & Hypoxic & Hypoxic\\\\\n",
       "\t X2   & 13621 & HH & 38261 & 35.60 & Hypoxic & Hypoxic\\\\\n",
       "\\end{tabular}\n"
      ],
      "text/markdown": [
       "\n",
       "A tibble: 20 × 7\n",
       "\n",
       "| col_name &lt;chr&gt; | methyl_count &lt;int&gt; | treatment &lt;chr&gt; | total_cpg &lt;int&gt; | methyl_level &lt;dbl&gt; | phase1 &lt;chr&gt; | phase2 &lt;chr&gt; |\n",
       "|---|---|---|---|---|---|---|\n",
       "| X0   | 14127 | CC | 38261 | 36.92 | Control | Control |\n",
       "| X0.1 |  9378 | CC | 38261 | 24.51 | Control | Control |\n",
       "| X0.2 | 14142 | CC | 38261 | 36.96 | Control | Control |\n",
       "| X0.3 | 11122 | CC | 38261 | 29.07 | Control | Control |\n",
       "| X0.4 |  7322 | CC | 38261 | 19.14 | Control | Control |\n",
       "| X0   | 13795 | HC | 38261 | 36.05 | Hypoxic | Control |\n",
       "| X0.1 | 13641 | HC | 38261 | 35.65 | Hypoxic | Control |\n",
       "| X0.2 | 14319 | HC | 38261 | 37.42 | Hypoxic | Control |\n",
       "| X0.3 | 13620 | HC | 38261 | 35.60 | Hypoxic | Control |\n",
       "| X0.4 | 10401 | HC | 38261 | 27.18 | Hypoxic | Control |\n",
       "| X0   | 13820 | CH | 38261 | 36.12 | Control | Hypoxic |\n",
       "| X0.1 |  5965 | CH | 38261 | 15.59 | Control | Hypoxic |\n",
       "| X0.2 | 10170 | CH | 38261 | 26.58 | Control | Hypoxic |\n",
       "| X0.3 | 13832 | CH | 38261 | 36.15 | Control | Hypoxic |\n",
       "| X0.4 | 12177 | CH | 38261 | 31.83 | Control | Hypoxic |\n",
       "| X0   | 13655 | HH | 38261 | 35.69 | Hypoxic | Hypoxic |\n",
       "| X0.1 | 12228 | HH | 38261 | 31.96 | Hypoxic | Hypoxic |\n",
       "| X0.2 | 12415 | HH | 38261 | 32.45 | Hypoxic | Hypoxic |\n",
       "| X0.3 | 13794 | HH | 38261 | 36.05 | Hypoxic | Hypoxic |\n",
       "| X2   | 13621 | HH | 38261 | 35.60 | Hypoxic | Hypoxic |\n",
       "\n"
      ],
      "text/plain": [
       "   col_name methyl_count treatment total_cpg methyl_level phase1  phase2 \n",
       "1  X0       14127        CC        38261     36.92        Control Control\n",
       "2  X0.1      9378        CC        38261     24.51        Control Control\n",
       "3  X0.2     14142        CC        38261     36.96        Control Control\n",
       "4  X0.3     11122        CC        38261     29.07        Control Control\n",
       "5  X0.4      7322        CC        38261     19.14        Control Control\n",
       "6  X0       13795        HC        38261     36.05        Hypoxic Control\n",
       "7  X0.1     13641        HC        38261     35.65        Hypoxic Control\n",
       "8  X0.2     14319        HC        38261     37.42        Hypoxic Control\n",
       "9  X0.3     13620        HC        38261     35.60        Hypoxic Control\n",
       "10 X0.4     10401        HC        38261     27.18        Hypoxic Control\n",
       "11 X0       13820        CH        38261     36.12        Control Hypoxic\n",
       "12 X0.1      5965        CH        38261     15.59        Control Hypoxic\n",
       "13 X0.2     10170        CH        38261     26.58        Control Hypoxic\n",
       "14 X0.3     13832        CH        38261     36.15        Control Hypoxic\n",
       "15 X0.4     12177        CH        38261     31.83        Control Hypoxic\n",
       "16 X0       13655        HH        38261     35.69        Hypoxic Hypoxic\n",
       "17 X0.1     12228        HH        38261     31.96        Hypoxic Hypoxic\n",
       "18 X0.2     12415        HH        38261     32.45        Hypoxic Hypoxic\n",
       "19 X0.3     13794        HH        38261     36.05        Hypoxic Hypoxic\n",
       "20 X2       13621        HH        38261     35.60        Hypoxic Hypoxic"
      ]
     },
     "metadata": {},
     "output_type": "display_data"
    }
   ],
   "source": [
    "gene_meLevel"
   ]
  },
  {
   "cell_type": "code",
   "execution_count": 91,
   "id": "b909615e-a3f0-4dae-8cfd-8f1484b86415",
   "metadata": {},
   "outputs": [
    {
     "data": {
      "image/png": "[encoded data removed]",
      "text/plain": [
       "plot without title"
      ]
     },
     "metadata": {
      "image/png": {
       "height": 420,
       "width": 420
      }
     },
     "output_type": "display_data"
    }
   ],
   "source": [
    "df_summary <- gene_meLevel %>%\n",
    "  group_by(treatment) %>%\n",
    "  summarise(\n",
    "    mean_methyl_level = mean(methyl_level),\n",
    "    sd_methyl_level = sd(methyl_level),\n",
    "    se_methyl_level = sd_methyl_level / sqrt(n())\n",
    "  ) \n",
    "\n",
    "df_summary$phase1 <- ifelse(substr(df_summary$treatment, 1, 1) == \"C\", \"Control\", \"Hypoxic\")\n",
    "df_summary$phase2 <- ifelse(substr(df_summary$treatment, 2, 2) == \"C\", \"Control\", \"Hypoxic\")\n",
    "\n",
    "\n",
    "# Create a bar plot with error bars\n",
    "geneMe_barplot <- ggplot(df_summary, aes(x = phase1, y = mean_methyl_level, fill = phase1)) +\n",
    "  geom_bar(stat = \"identity\") +\n",
    "  geom_errorbar(aes(ymax = mean_methyl_level + se_methyl_level,\n",
    "                       ymin = mean_methyl_level - se_methyl_level),\n",
    "                  width = 0.2, size = 0.5) +\n",
    "facet_wrap(~phase2) +\n",
    "#scale_fill_brewer(palette = \"RdPu\", direction = 1) +\n",
    "scale_fill_manual(values=c('cornflowerblue','deeppink2')) +\n",
    "guides(fill = FALSE) +\n",
    "  labs(x = \"First Exposure\", \n",
    "       y = \"Percent of genes methylated\",\n",
    "      subtitle = 'Second Exposure') +\n",
    "  theme_bw() + \n",
    "theme(text = element_text(size = 15), plot.subtitle = element_text(hjust=0.5))\n",
    "\n",
    "geneMe_barplot"
   ]
  },
  {
   "cell_type": "code",
   "execution_count": 89,
   "id": "acac3584-9442-436f-8e5f-d65c0e7aae56",
   "metadata": {},
   "outputs": [
    {
     "data": {
      "text/plain": [
       "              Df Sum Sq Mean Sq F value Pr(>F)  \n",
       "phase1         1  128.9  128.93   3.324  0.087 .\n",
       "phase2         1    0.0    0.01   0.000  0.986  \n",
       "phase1:phase2  1    0.0    0.00   0.000  0.995  \n",
       "Residuals     16  620.7   38.79                 \n",
       "---\n",
       "Signif. codes:  0 ‘***’ 0.001 ‘**’ 0.01 ‘*’ 0.05 ‘.’ 0.1 ‘ ’ 1"
      ]
     },
     "metadata": {},
     "output_type": "display_data"
    }
   ],
   "source": [
    "gene.aov <- aov(data = gene_meLevel,\n",
    "    methyl_level ~ phase1 * phase2)\n",
    "\n",
    "summary(gene.aov)"
   ]
  }
 ],
 "metadata": {
  "kernelspec": {
   "display_name": "R [conda env:.conda-r-env]",
   "language": "R",
   "name": "conda-env-.conda-r-env-r"
  },
  "language_info": {
   "codemirror_mode": "r",
   "file_extension": ".r",
   "mimetype": "text/x-r-source",
   "name": "R",
   "pygments_lexer": "r",
   "version": "4.3.2"
  }
 },
 "nbformat": 4,
 "nbformat_minor": 5
}
