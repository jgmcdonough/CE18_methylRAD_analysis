{
 "cells": [
  {
   "cell_type": "markdown",
   "id": "da715cbc-fd9e-482b-9b3c-988a60dc5bdf",
   "metadata": {},
   "source": [
    "# Methylation of Genomic Features"
   ]
  },
  {
   "cell_type": "code",
   "execution_count": 6,
   "id": "af969d80-edc6-4f6b-bd79-2d187c4ad4ee",
   "metadata": {},
   "outputs": [],
   "source": [
    "library(tidyverse)\n",
    "library(dplyr)\n",
    "library(stringr)\n",
    "library(rtracklayer)\n",
    "library(tibble)\n",
    "\n",
    "library(ggvenn)"
   ]
  },
  {
   "cell_type": "markdown",
   "id": "60e142b9-1495-424f-bd4f-21863370cb22",
   "metadata": {},
   "source": [
    "# Methylation of CpG dinucleotides\n",
    "\n",
    "generating a counts matrix with `bedtools multicov`, counting methylRAD seqs that match to a CpG dinucleotide in the *C. virginica* genome. Each column of numbers represents one individual oyster"
   ]
  },
  {
   "cell_type": "code",
   "execution_count": 7,
   "id": "bb6048ee-076c-43c7-a369-c4193074a81b",
   "metadata": {},
   "outputs": [
    {
     "ename": "ERROR",
     "evalue": "Error: object 'CG_motif' not found\n",
     "output_type": "error",
     "traceback": [
      "Error: object 'CG_motif' not found\nTraceback:\n"
     ]
    }
   ],
   "source": [
    "!CG_motif=\"/project/pi_sarah_gignouxwolfsohn_uml_edu/julia/CE_methyl_assembly/assembly_pipeline_files/genomic_bed_files/C_virginica-3.0_CG-motif.bed\"\n",
    "\n",
    "!input_dir=\"/project/pi_sarah_gignouxwolfsohn_uml_edu/julia/CE_methyl_assembly/assembly_pipeline_files/BEDtools/working_BAM_sequences\"\n",
    "\n",
    "!output_dir=\"/project/pi_sarah_gignouxwolfsohn_uml_edu/julia/CE_methyl_assembly/assembly_pipeline_files/BEDtools/CG_coverage/\""
   ]
  },
  {
   "cell_type": "code",
   "execution_count": null,
   "id": "067b93dd-c6e9-4f53-8dcd-512f0c300446",
   "metadata": {},
   "outputs": [],
   "source": [
    "!bedtools multicov -bams *.bam -bed $CG_motif > ${output_dir}CG_coverage.csv"
   ]
  },
  {
   "cell_type": "markdown",
   "id": "3acb60ae-3fa9-43ac-97ea-d2cfb14bf434",
   "metadata": {},
   "source": [
    "**03/20/2025 troubleshooting** - re-running `bedtools multicov` on ~freshly~ downloaded CG motif bed file from NCBI ([found here](https://ftp.ncbi.nlm.nih.gov/genomes/all/GCF/002/022/765/GCF_002022765.2_C_virginica-3.0/GCF_002022765.2_C_virginica-3.0_assembly_structure/))\n",
    "\n",
    "runs as job script in bash"
   ]
  },
  {
   "cell_type": "code",
   "execution_count": null,
   "id": "a37d40b6-aee4-46d1-bb3b-847f72faf9bd",
   "metadata": {},
   "outputs": [],
   "source": [
    "cd /project/pi_sarah_gignouxwolfsohn_uml_edu/julia/CE_methyl_assembly/assembly_pipeline_files/BEDtools/working_BAM_sequences\n",
    "\n",
    "output_dir=\"/project/pi_sarah_gignouxwolfsohn_uml_edu/julia/CE_methyl_assembly/assembly_pipeline_files/genomic_bed_files/\"\n",
    "\n",
    "CG_motif=\"/project/pi_sarah_gignouxwolfsohn_uml_edu/julia/CE_methyl_assembly/assembly_pipeline_files/genomic_bed_files/C_virginica-3.0_CG-motif.bed\"\n",
    "\n",
    "bedtools multicov -bams *.bam -bed $CG_motif > ${output_dir}CG_motif_multicov.csv"
   ]
  },
  {
   "cell_type": "markdown",
   "id": "c34a8338-3ad9-4df8-a447-50c5c89d91cd",
   "metadata": {},
   "source": [
    "# Methylation level \n",
    "Determining the methylation level of CpG dinucleotides and gene regions. To do this, I'm going to use `bedtools multicov` to generate coverage files for each sample with bed files of the different gene features. Then, calculate the number of features with methylation and number without to get our methylation level."
   ]
  },
  {
   "cell_type": "code",
   "execution_count": null,
   "id": "598c8ffd-219c-49ce-9355-39b04920f80e",
   "metadata": {},
   "outputs": [],
   "source": [
    "output_dir=\"/project/pi_sarah_gignouxwolfsohn_uml_edu/julia/CE_methyl_assembly/assembly_pipeline_files/genomic_bed_files/CpG_multicov/\""
   ]
  },
  {
   "cell_type": "markdown",
   "id": "9f0d5965-7317-44d6-939c-b7fc77772609",
   "metadata": {},
   "source": [
    "definining which individual oysters belong to each treatment (there are 5 replicate oysters per unique combo)"
   ]
  },
  {
   "cell_type": "code",
   "execution_count": null,
   "id": "d3b549ad-4a75-469a-b631-052926c4b126",
   "metadata": {},
   "outputs": [],
   "source": [
    "# hypoxic control\n",
    "!HC_files=(\"2018--BBB-WBO-B21-CV_sorted.bam\" \"2018--BBB-WBV-B70-CV_sorted.bam\" \"2018--BBO-WBO-B16-CV_sorted.bam\" \"2018--BBO-WBV-B64-CV_sorted.bam\" \"2018--BBY-WBG-B42-CV_sorted.bam\")\n",
    "\n",
    "# control hypoxic\n",
    "!CH_files=(\"2018--WBG-BBB-W56-CV_sorted.bam\" \"2018--WBO-BBR-W03-CV_sorted.bam\" \"2018--WBR-BBY-W25-CV_sorted.bam\" \"2018--WBY-BBV-W65-CV_sorted.bam\" \"2018--WBY-BBY-W30-CV_sorted.bam\")\n",
    "\n",
    "# hypoxic hypoxic \n",
    "!HH_files=(\"2018--BBO-BBO-B16-CV_sorted.bam\" \"2018--BBO-BBY-B27-CV_sorted.bam\" \"2018--BBR-BBB-B50-CV_sorted.bam\" \"2018--BBR-BBG-B38-CV_sorted.bam\" \"2018--BBR-BBY-B26-CV_sorted.bam\")\n",
    "\n",
    "# control control\n",
    "!CC_files=(\"2018--WBB-WBV-W69-CV_sorted.bam\" \"2018--WBG-WBG-W44-CV_sorted.bam\" \"2018--WBO-WBV-W64-CV_sorted.bam\" \"2018--WBV-WBO-W23-CV_sorted.bam\" \"2018--WBV-WBR-W12-CV_sorted.bam\") \n"
   ]
  },
  {
   "cell_type": "markdown",
   "id": "6262a6fd-bb9e-4889-8e51-432c76c01d48",
   "metadata": {},
   "source": [
    "# CpG dinucleotides\n",
    "Generated at top of the script"
   ]
  },
  {
   "cell_type": "code",
   "execution_count": 66,
   "id": "0aeb2ff0-e8b4-491a-8dd4-9c1faf3e13f0",
   "metadata": {},
   "outputs": [
    {
     "data": {
      "text/html": [
       "<style>\n",
       ".list-inline {list-style: none; margin:0; padding: 0}\n",
       ".list-inline>li {display: inline-block}\n",
       ".list-inline>li:not(:last-child)::after {content: \"\\00b7\"; padding: 0 .5ex}\n",
       "</style>\n",
       "<ol class=list-inline><li>14458702</li><li>24</li></ol>\n"
      ],
      "text/latex": [
       "\\begin{enumerate*}\n",
       "\\item 14458702\n",
       "\\item 24\n",
       "\\end{enumerate*}\n"
      ],
      "text/markdown": [
       "1. 14458702\n",
       "2. 24\n",
       "\n",
       "\n"
      ],
      "text/plain": [
       "[1] 14458702       24"
      ]
     },
     "metadata": {},
     "output_type": "display_data"
    },
    {
     "data": {
      "text/html": [
       "<table class=\"dataframe\">\n",
       "<caption>A data.frame: 6 × 24</caption>\n",
       "<thead>\n",
       "\t<tr><th></th><th scope=col>NC_035780.1</th><th scope=col>X28</th><th scope=col>X30</th><th scope=col>CG_motif</th><th scope=col>X0</th><th scope=col>X0.1</th><th scope=col>X0.2</th><th scope=col>X0.3</th><th scope=col>X0.4</th><th scope=col>X0.5</th><th scope=col>⋯</th><th scope=col>X0.10</th><th scope=col>X0.11</th><th scope=col>X0.12</th><th scope=col>X0.13</th><th scope=col>X0.14</th><th scope=col>X0.15</th><th scope=col>X0.16</th><th scope=col>X0.17</th><th scope=col>X0.18</th><th scope=col>X0.19</th></tr>\n",
       "\t<tr><th></th><th scope=col>&lt;chr&gt;</th><th scope=col>&lt;int&gt;</th><th scope=col>&lt;int&gt;</th><th scope=col>&lt;chr&gt;</th><th scope=col>&lt;int&gt;</th><th scope=col>&lt;int&gt;</th><th scope=col>&lt;int&gt;</th><th scope=col>&lt;int&gt;</th><th scope=col>&lt;int&gt;</th><th scope=col>&lt;int&gt;</th><th scope=col>⋯</th><th scope=col>&lt;int&gt;</th><th scope=col>&lt;int&gt;</th><th scope=col>&lt;int&gt;</th><th scope=col>&lt;int&gt;</th><th scope=col>&lt;int&gt;</th><th scope=col>&lt;int&gt;</th><th scope=col>&lt;int&gt;</th><th scope=col>&lt;int&gt;</th><th scope=col>&lt;int&gt;</th><th scope=col>&lt;int&gt;</th></tr>\n",
       "</thead>\n",
       "<tbody>\n",
       "\t<tr><th scope=row>1</th><td>NC_035780.1</td><td> 54</td><td> 56</td><td>CG_motif</td><td>0</td><td>0</td><td>0</td><td>0</td><td>0</td><td>0</td><td>⋯</td><td>0</td><td>0</td><td>0</td><td>0</td><td>0</td><td>0</td><td>0</td><td>0</td><td>0</td><td>0</td></tr>\n",
       "\t<tr><th scope=row>2</th><td>NC_035780.1</td><td> 75</td><td> 77</td><td>CG_motif</td><td>0</td><td>0</td><td>0</td><td>0</td><td>0</td><td>0</td><td>⋯</td><td>0</td><td>0</td><td>0</td><td>0</td><td>0</td><td>0</td><td>0</td><td>0</td><td>0</td><td>0</td></tr>\n",
       "\t<tr><th scope=row>3</th><td>NC_035780.1</td><td> 93</td><td> 95</td><td>CG_motif</td><td>0</td><td>0</td><td>0</td><td>0</td><td>0</td><td>0</td><td>⋯</td><td>0</td><td>0</td><td>0</td><td>0</td><td>0</td><td>0</td><td>0</td><td>0</td><td>0</td><td>0</td></tr>\n",
       "\t<tr><th scope=row>4</th><td>NC_035780.1</td><td>103</td><td>105</td><td>CG_motif</td><td>0</td><td>0</td><td>0</td><td>0</td><td>0</td><td>0</td><td>⋯</td><td>0</td><td>0</td><td>0</td><td>0</td><td>0</td><td>0</td><td>0</td><td>0</td><td>0</td><td>0</td></tr>\n",
       "\t<tr><th scope=row>5</th><td>NC_035780.1</td><td>116</td><td>118</td><td>CG_motif</td><td>0</td><td>0</td><td>0</td><td>0</td><td>0</td><td>0</td><td>⋯</td><td>0</td><td>0</td><td>0</td><td>0</td><td>0</td><td>0</td><td>0</td><td>0</td><td>0</td><td>0</td></tr>\n",
       "\t<tr><th scope=row>6</th><td>NC_035780.1</td><td>134</td><td>136</td><td>CG_motif</td><td>0</td><td>0</td><td>0</td><td>0</td><td>0</td><td>0</td><td>⋯</td><td>0</td><td>0</td><td>0</td><td>0</td><td>0</td><td>0</td><td>0</td><td>0</td><td>0</td><td>0</td></tr>\n",
       "</tbody>\n",
       "</table>\n"
      ],
      "text/latex": [
       "A data.frame: 6 × 24\n",
       "\\begin{tabular}{r|lllllllllllllllllllll}\n",
       "  & NC\\_035780.1 & X28 & X30 & CG\\_motif & X0 & X0.1 & X0.2 & X0.3 & X0.4 & X0.5 & ⋯ & X0.10 & X0.11 & X0.12 & X0.13 & X0.14 & X0.15 & X0.16 & X0.17 & X0.18 & X0.19\\\\\n",
       "  & <chr> & <int> & <int> & <chr> & <int> & <int> & <int> & <int> & <int> & <int> & ⋯ & <int> & <int> & <int> & <int> & <int> & <int> & <int> & <int> & <int> & <int>\\\\\n",
       "\\hline\n",
       "\t1 & NC\\_035780.1 &  54 &  56 & CG\\_motif & 0 & 0 & 0 & 0 & 0 & 0 & ⋯ & 0 & 0 & 0 & 0 & 0 & 0 & 0 & 0 & 0 & 0\\\\\n",
       "\t2 & NC\\_035780.1 &  75 &  77 & CG\\_motif & 0 & 0 & 0 & 0 & 0 & 0 & ⋯ & 0 & 0 & 0 & 0 & 0 & 0 & 0 & 0 & 0 & 0\\\\\n",
       "\t3 & NC\\_035780.1 &  93 &  95 & CG\\_motif & 0 & 0 & 0 & 0 & 0 & 0 & ⋯ & 0 & 0 & 0 & 0 & 0 & 0 & 0 & 0 & 0 & 0\\\\\n",
       "\t4 & NC\\_035780.1 & 103 & 105 & CG\\_motif & 0 & 0 & 0 & 0 & 0 & 0 & ⋯ & 0 & 0 & 0 & 0 & 0 & 0 & 0 & 0 & 0 & 0\\\\\n",
       "\t5 & NC\\_035780.1 & 116 & 118 & CG\\_motif & 0 & 0 & 0 & 0 & 0 & 0 & ⋯ & 0 & 0 & 0 & 0 & 0 & 0 & 0 & 0 & 0 & 0\\\\\n",
       "\t6 & NC\\_035780.1 & 134 & 136 & CG\\_motif & 0 & 0 & 0 & 0 & 0 & 0 & ⋯ & 0 & 0 & 0 & 0 & 0 & 0 & 0 & 0 & 0 & 0\\\\\n",
       "\\end{tabular}\n"
      ],
      "text/markdown": [
       "\n",
       "A data.frame: 6 × 24\n",
       "\n",
       "| <!--/--> | NC_035780.1 &lt;chr&gt; | X28 &lt;int&gt; | X30 &lt;int&gt; | CG_motif &lt;chr&gt; | X0 &lt;int&gt; | X0.1 &lt;int&gt; | X0.2 &lt;int&gt; | X0.3 &lt;int&gt; | X0.4 &lt;int&gt; | X0.5 &lt;int&gt; | ⋯ ⋯ | X0.10 &lt;int&gt; | X0.11 &lt;int&gt; | X0.12 &lt;int&gt; | X0.13 &lt;int&gt; | X0.14 &lt;int&gt; | X0.15 &lt;int&gt; | X0.16 &lt;int&gt; | X0.17 &lt;int&gt; | X0.18 &lt;int&gt; | X0.19 &lt;int&gt; |\n",
       "|---|---|---|---|---|---|---|---|---|---|---|---|---|---|---|---|---|---|---|---|---|---|\n",
       "| 1 | NC_035780.1 |  54 |  56 | CG_motif | 0 | 0 | 0 | 0 | 0 | 0 | ⋯ | 0 | 0 | 0 | 0 | 0 | 0 | 0 | 0 | 0 | 0 |\n",
       "| 2 | NC_035780.1 |  75 |  77 | CG_motif | 0 | 0 | 0 | 0 | 0 | 0 | ⋯ | 0 | 0 | 0 | 0 | 0 | 0 | 0 | 0 | 0 | 0 |\n",
       "| 3 | NC_035780.1 |  93 |  95 | CG_motif | 0 | 0 | 0 | 0 | 0 | 0 | ⋯ | 0 | 0 | 0 | 0 | 0 | 0 | 0 | 0 | 0 | 0 |\n",
       "| 4 | NC_035780.1 | 103 | 105 | CG_motif | 0 | 0 | 0 | 0 | 0 | 0 | ⋯ | 0 | 0 | 0 | 0 | 0 | 0 | 0 | 0 | 0 | 0 |\n",
       "| 5 | NC_035780.1 | 116 | 118 | CG_motif | 0 | 0 | 0 | 0 | 0 | 0 | ⋯ | 0 | 0 | 0 | 0 | 0 | 0 | 0 | 0 | 0 | 0 |\n",
       "| 6 | NC_035780.1 | 134 | 136 | CG_motif | 0 | 0 | 0 | 0 | 0 | 0 | ⋯ | 0 | 0 | 0 | 0 | 0 | 0 | 0 | 0 | 0 | 0 |\n",
       "\n"
      ],
      "text/plain": [
       "  NC_035780.1 X28 X30 CG_motif X0 X0.1 X0.2 X0.3 X0.4 X0.5 ⋯ X0.10 X0.11 X0.12\n",
       "1 NC_035780.1  54  56 CG_motif 0  0    0    0    0    0    ⋯ 0     0     0    \n",
       "2 NC_035780.1  75  77 CG_motif 0  0    0    0    0    0    ⋯ 0     0     0    \n",
       "3 NC_035780.1  93  95 CG_motif 0  0    0    0    0    0    ⋯ 0     0     0    \n",
       "4 NC_035780.1 103 105 CG_motif 0  0    0    0    0    0    ⋯ 0     0     0    \n",
       "5 NC_035780.1 116 118 CG_motif 0  0    0    0    0    0    ⋯ 0     0     0    \n",
       "6 NC_035780.1 134 136 CG_motif 0  0    0    0    0    0    ⋯ 0     0     0    \n",
       "  X0.13 X0.14 X0.15 X0.16 X0.17 X0.18 X0.19\n",
       "1 0     0     0     0     0     0     0    \n",
       "2 0     0     0     0     0     0     0    \n",
       "3 0     0     0     0     0     0     0    \n",
       "4 0     0     0     0     0     0     0    \n",
       "5 0     0     0     0     0     0     0    \n",
       "6 0     0     0     0     0     0     0    "
      ]
     },
     "metadata": {},
     "output_type": "display_data"
    }
   ],
   "source": [
    "CG_multicov <- read.csv('/project/pi_sarah_gignouxwolfsohn_uml_edu/julia/CE_methyl_assembly/assembly_pipeline_files/genomic_bed_files/CpG_multicov/CG_motif_multicov.csv', sep='\\t')\n",
    "dim(CG_multicov)\n",
    "head(CG_multicov)"
   ]
  },
  {
   "cell_type": "code",
   "execution_count": 67,
   "id": "f7f58f9e-23ce-49ff-866f-8efcb76bca35",
   "metadata": {},
   "outputs": [
    {
     "data": {
      "text/html": [
       "<style>\n",
       ".list-inline {list-style: none; margin:0; padding: 0}\n",
       ".list-inline>li {display: inline-block}\n",
       ".list-inline>li:not(:last-child)::after {content: \"\\00b7\"; padding: 0 .5ex}\n",
       "</style>\n",
       "<ol class=list-inline><li>'2018--BBB-WBO-B21-CV_sorted.bam'</li><li>'2018--BBB-WBV-B70-CV_sorted.bam'</li><li>'2018--BBO-BBO-B16-CV_sorted.bam'</li><li>'2018--BBO-BBY-B27-CV_sorted.bam'</li><li>'2018--BBO-WBO-B16-CV_sorted.bam'</li><li>'2018--BBO-WBV-B64-CV_sorted.bam'</li><li>'2018--BBR-BBB-B50-CV_sorted.bam'</li><li>'2018--BBR-BBG-B38-CV_sorted.bam'</li><li>'2018--BBR-BBY-B26-CV_sorted.bam'</li><li>'2018--BBY-WBG-B42-CV_sorted.bam'</li><li>'2018--WBB-WBV-W69-CV_sorted.bam'</li><li>'2018--WBG-BBB-W56-CV_sorted.bam'</li><li>'2018--WBG-WBG-W44-CV_sorted.bam'</li><li>'2018--WBO-BBR-W03-CV_sorted.bam'</li><li>'2018--WBO-WBV-W64-CV_sorted.bam'</li><li>'2018--WBR-BBY-W25-CV_sorted.bam'</li><li>'2018--WBV-WBO-W23-CV_sorted.bam'</li><li>'2018--WBV-WBR-W12-CV_sorted.bam'</li><li>'2018--WBY-BBV-W65-CV_sorted.bam'</li><li>'2018--WBY-BBY-W30-CV_sorted.bam'</li></ol>\n"
      ],
      "text/latex": [
       "\\begin{enumerate*}\n",
       "\\item '2018--BBB-WBO-B21-CV\\_sorted.bam'\n",
       "\\item '2018--BBB-WBV-B70-CV\\_sorted.bam'\n",
       "\\item '2018--BBO-BBO-B16-CV\\_sorted.bam'\n",
       "\\item '2018--BBO-BBY-B27-CV\\_sorted.bam'\n",
       "\\item '2018--BBO-WBO-B16-CV\\_sorted.bam'\n",
       "\\item '2018--BBO-WBV-B64-CV\\_sorted.bam'\n",
       "\\item '2018--BBR-BBB-B50-CV\\_sorted.bam'\n",
       "\\item '2018--BBR-BBG-B38-CV\\_sorted.bam'\n",
       "\\item '2018--BBR-BBY-B26-CV\\_sorted.bam'\n",
       "\\item '2018--BBY-WBG-B42-CV\\_sorted.bam'\n",
       "\\item '2018--WBB-WBV-W69-CV\\_sorted.bam'\n",
       "\\item '2018--WBG-BBB-W56-CV\\_sorted.bam'\n",
       "\\item '2018--WBG-WBG-W44-CV\\_sorted.bam'\n",
       "\\item '2018--WBO-BBR-W03-CV\\_sorted.bam'\n",
       "\\item '2018--WBO-WBV-W64-CV\\_sorted.bam'\n",
       "\\item '2018--WBR-BBY-W25-CV\\_sorted.bam'\n",
       "\\item '2018--WBV-WBO-W23-CV\\_sorted.bam'\n",
       "\\item '2018--WBV-WBR-W12-CV\\_sorted.bam'\n",
       "\\item '2018--WBY-BBV-W65-CV\\_sorted.bam'\n",
       "\\item '2018--WBY-BBY-W30-CV\\_sorted.bam'\n",
       "\\end{enumerate*}\n"
      ],
      "text/markdown": [
       "1. '2018--BBB-WBO-B21-CV_sorted.bam'\n",
       "2. '2018--BBB-WBV-B70-CV_sorted.bam'\n",
       "3. '2018--BBO-BBO-B16-CV_sorted.bam'\n",
       "4. '2018--BBO-BBY-B27-CV_sorted.bam'\n",
       "5. '2018--BBO-WBO-B16-CV_sorted.bam'\n",
       "6. '2018--BBO-WBV-B64-CV_sorted.bam'\n",
       "7. '2018--BBR-BBB-B50-CV_sorted.bam'\n",
       "8. '2018--BBR-BBG-B38-CV_sorted.bam'\n",
       "9. '2018--BBR-BBY-B26-CV_sorted.bam'\n",
       "10. '2018--BBY-WBG-B42-CV_sorted.bam'\n",
       "11. '2018--WBB-WBV-W69-CV_sorted.bam'\n",
       "12. '2018--WBG-BBB-W56-CV_sorted.bam'\n",
       "13. '2018--WBG-WBG-W44-CV_sorted.bam'\n",
       "14. '2018--WBO-BBR-W03-CV_sorted.bam'\n",
       "15. '2018--WBO-WBV-W64-CV_sorted.bam'\n",
       "16. '2018--WBR-BBY-W25-CV_sorted.bam'\n",
       "17. '2018--WBV-WBO-W23-CV_sorted.bam'\n",
       "18. '2018--WBV-WBR-W12-CV_sorted.bam'\n",
       "19. '2018--WBY-BBV-W65-CV_sorted.bam'\n",
       "20. '2018--WBY-BBY-W30-CV_sorted.bam'\n",
       "\n",
       "\n"
      ],
      "text/plain": [
       " [1] \"2018--BBB-WBO-B21-CV_sorted.bam\" \"2018--BBB-WBV-B70-CV_sorted.bam\"\n",
       " [3] \"2018--BBO-BBO-B16-CV_sorted.bam\" \"2018--BBO-BBY-B27-CV_sorted.bam\"\n",
       " [5] \"2018--BBO-WBO-B16-CV_sorted.bam\" \"2018--BBO-WBV-B64-CV_sorted.bam\"\n",
       " [7] \"2018--BBR-BBB-B50-CV_sorted.bam\" \"2018--BBR-BBG-B38-CV_sorted.bam\"\n",
       " [9] \"2018--BBR-BBY-B26-CV_sorted.bam\" \"2018--BBY-WBG-B42-CV_sorted.bam\"\n",
       "[11] \"2018--WBB-WBV-W69-CV_sorted.bam\" \"2018--WBG-BBB-W56-CV_sorted.bam\"\n",
       "[13] \"2018--WBG-WBG-W44-CV_sorted.bam\" \"2018--WBO-BBR-W03-CV_sorted.bam\"\n",
       "[15] \"2018--WBO-WBV-W64-CV_sorted.bam\" \"2018--WBR-BBY-W25-CV_sorted.bam\"\n",
       "[17] \"2018--WBV-WBO-W23-CV_sorted.bam\" \"2018--WBV-WBR-W12-CV_sorted.bam\"\n",
       "[19] \"2018--WBY-BBV-W65-CV_sorted.bam\" \"2018--WBY-BBY-W30-CV_sorted.bam\""
      ]
     },
     "metadata": {},
     "output_type": "display_data"
    }
   ],
   "source": [
    "# getting names of the BAM files for each oyster individual\n",
    "bam_files <- dir(path = \"/project/pi_sarah_gignouxwolfsohn_uml_edu/julia/CE_methyl_assembly/assembly_pipeline_files/BEDtools/working_BAM_sequences/\", pattern = \"^.*\\\\.bam$\", full.names = FALSE, ignore.case = TRUE, all.files = TRUE)\n",
    "bam_files"
   ]
  },
  {
   "cell_type": "code",
   "execution_count": 68,
   "id": "2071b649-9941-4dbc-8213-563c1a6bdc49",
   "metadata": {},
   "outputs": [
    {
     "data": {
      "text/html": [
       "<style>\n",
       ".list-inline {list-style: none; margin:0; padding: 0}\n",
       ".list-inline>li {display: inline-block}\n",
       ".list-inline>li:not(:last-child)::after {content: \"\\00b7\"; padding: 0 .5ex}\n",
       "</style>\n",
       "<ol class=list-inline><li>'BBB-WBO-B21'</li><li>'BBB-WBV-B70'</li><li>'BBO-BBO-B16'</li><li>'BBO-BBY-B27'</li><li>'BBO-WBO-B16'</li><li>'BBO-WBV-B64'</li><li>'BBR-BBB-B50'</li><li>'BBR-BBG-B38'</li><li>'BBR-BBY-B26'</li><li>'BBY-WBG-B42'</li><li>'WBB-WBV-W69'</li><li>'WBG-BBB-W56'</li><li>'WBG-WBG-W44'</li><li>'WBO-BBR-W03'</li><li>'WBO-WBV-W64'</li><li>'WBR-BBY-W25'</li><li>'WBV-WBO-W23'</li><li>'WBV-WBR-W12'</li><li>'WBY-BBV-W65'</li><li>'WBY-BBY-W30'</li></ol>\n"
      ],
      "text/latex": [
       "\\begin{enumerate*}\n",
       "\\item 'BBB-WBO-B21'\n",
       "\\item 'BBB-WBV-B70'\n",
       "\\item 'BBO-BBO-B16'\n",
       "\\item 'BBO-BBY-B27'\n",
       "\\item 'BBO-WBO-B16'\n",
       "\\item 'BBO-WBV-B64'\n",
       "\\item 'BBR-BBB-B50'\n",
       "\\item 'BBR-BBG-B38'\n",
       "\\item 'BBR-BBY-B26'\n",
       "\\item 'BBY-WBG-B42'\n",
       "\\item 'WBB-WBV-W69'\n",
       "\\item 'WBG-BBB-W56'\n",
       "\\item 'WBG-WBG-W44'\n",
       "\\item 'WBO-BBR-W03'\n",
       "\\item 'WBO-WBV-W64'\n",
       "\\item 'WBR-BBY-W25'\n",
       "\\item 'WBV-WBO-W23'\n",
       "\\item 'WBV-WBR-W12'\n",
       "\\item 'WBY-BBV-W65'\n",
       "\\item 'WBY-BBY-W30'\n",
       "\\end{enumerate*}\n"
      ],
      "text/markdown": [
       "1. 'BBB-WBO-B21'\n",
       "2. 'BBB-WBV-B70'\n",
       "3. 'BBO-BBO-B16'\n",
       "4. 'BBO-BBY-B27'\n",
       "5. 'BBO-WBO-B16'\n",
       "6. 'BBO-WBV-B64'\n",
       "7. 'BBR-BBB-B50'\n",
       "8. 'BBR-BBG-B38'\n",
       "9. 'BBR-BBY-B26'\n",
       "10. 'BBY-WBG-B42'\n",
       "11. 'WBB-WBV-W69'\n",
       "12. 'WBG-BBB-W56'\n",
       "13. 'WBG-WBG-W44'\n",
       "14. 'WBO-BBR-W03'\n",
       "15. 'WBO-WBV-W64'\n",
       "16. 'WBR-BBY-W25'\n",
       "17. 'WBV-WBO-W23'\n",
       "18. 'WBV-WBR-W12'\n",
       "19. 'WBY-BBV-W65'\n",
       "20. 'WBY-BBY-W30'\n",
       "\n",
       "\n"
      ],
      "text/plain": [
       " [1] \"BBB-WBO-B21\" \"BBB-WBV-B70\" \"BBO-BBO-B16\" \"BBO-BBY-B27\" \"BBO-WBO-B16\"\n",
       " [6] \"BBO-WBV-B64\" \"BBR-BBB-B50\" \"BBR-BBG-B38\" \"BBR-BBY-B26\" \"BBY-WBG-B42\"\n",
       "[11] \"WBB-WBV-W69\" \"WBG-BBB-W56\" \"WBG-WBG-W44\" \"WBO-BBR-W03\" \"WBO-WBV-W64\"\n",
       "[16] \"WBR-BBY-W25\" \"WBV-WBO-W23\" \"WBV-WBR-W12\" \"WBY-BBV-W65\" \"WBY-BBY-W30\""
      ]
     },
     "metadata": {},
     "output_type": "display_data"
    }
   ],
   "source": [
    "# clean sample names\n",
    "bam_files_clean <- gsub(\"^2018--|-CV_sorted\\\\.bam$\", \"\", bam_files)\n",
    "bam_files_clean"
   ]
  },
  {
   "cell_type": "code",
   "execution_count": 69,
   "id": "9182cbe1-bb57-4bfd-b40e-aee869647976",
   "metadata": {},
   "outputs": [
    {
     "data": {
      "text/html": [
       "<table class=\"dataframe\">\n",
       "<caption>A data.frame: 6 × 24</caption>\n",
       "<thead>\n",
       "\t<tr><th></th><th scope=col>chromosome</th><th scope=col>start</th><th scope=col>stop</th><th scope=col>CG_motif</th><th scope=col>BBB-WBO-B21</th><th scope=col>BBB-WBV-B70</th><th scope=col>BBO-BBO-B16</th><th scope=col>BBO-BBY-B27</th><th scope=col>BBO-WBO-B16</th><th scope=col>BBO-WBV-B64</th><th scope=col>⋯</th><th scope=col>WBB-WBV-W69</th><th scope=col>WBG-BBB-W56</th><th scope=col>WBG-WBG-W44</th><th scope=col>WBO-BBR-W03</th><th scope=col>WBO-WBV-W64</th><th scope=col>WBR-BBY-W25</th><th scope=col>WBV-WBO-W23</th><th scope=col>WBV-WBR-W12</th><th scope=col>WBY-BBV-W65</th><th scope=col>WBY-BBY-W30</th></tr>\n",
       "\t<tr><th></th><th scope=col>&lt;chr&gt;</th><th scope=col>&lt;int&gt;</th><th scope=col>&lt;int&gt;</th><th scope=col>&lt;chr&gt;</th><th scope=col>&lt;int&gt;</th><th scope=col>&lt;int&gt;</th><th scope=col>&lt;int&gt;</th><th scope=col>&lt;int&gt;</th><th scope=col>&lt;int&gt;</th><th scope=col>&lt;int&gt;</th><th scope=col>⋯</th><th scope=col>&lt;int&gt;</th><th scope=col>&lt;int&gt;</th><th scope=col>&lt;int&gt;</th><th scope=col>&lt;int&gt;</th><th scope=col>&lt;int&gt;</th><th scope=col>&lt;int&gt;</th><th scope=col>&lt;int&gt;</th><th scope=col>&lt;int&gt;</th><th scope=col>&lt;int&gt;</th><th scope=col>&lt;int&gt;</th></tr>\n",
       "</thead>\n",
       "<tbody>\n",
       "\t<tr><th scope=row>1</th><td>NC_035780.1</td><td> 54</td><td> 56</td><td>CG_motif</td><td>0</td><td>0</td><td>0</td><td>0</td><td>0</td><td>0</td><td>⋯</td><td>0</td><td>0</td><td>0</td><td>0</td><td>0</td><td>0</td><td>0</td><td>0</td><td>0</td><td>0</td></tr>\n",
       "\t<tr><th scope=row>2</th><td>NC_035780.1</td><td> 75</td><td> 77</td><td>CG_motif</td><td>0</td><td>0</td><td>0</td><td>0</td><td>0</td><td>0</td><td>⋯</td><td>0</td><td>0</td><td>0</td><td>0</td><td>0</td><td>0</td><td>0</td><td>0</td><td>0</td><td>0</td></tr>\n",
       "\t<tr><th scope=row>3</th><td>NC_035780.1</td><td> 93</td><td> 95</td><td>CG_motif</td><td>0</td><td>0</td><td>0</td><td>0</td><td>0</td><td>0</td><td>⋯</td><td>0</td><td>0</td><td>0</td><td>0</td><td>0</td><td>0</td><td>0</td><td>0</td><td>0</td><td>0</td></tr>\n",
       "\t<tr><th scope=row>4</th><td>NC_035780.1</td><td>103</td><td>105</td><td>CG_motif</td><td>0</td><td>0</td><td>0</td><td>0</td><td>0</td><td>0</td><td>⋯</td><td>0</td><td>0</td><td>0</td><td>0</td><td>0</td><td>0</td><td>0</td><td>0</td><td>0</td><td>0</td></tr>\n",
       "\t<tr><th scope=row>5</th><td>NC_035780.1</td><td>116</td><td>118</td><td>CG_motif</td><td>0</td><td>0</td><td>0</td><td>0</td><td>0</td><td>0</td><td>⋯</td><td>0</td><td>0</td><td>0</td><td>0</td><td>0</td><td>0</td><td>0</td><td>0</td><td>0</td><td>0</td></tr>\n",
       "\t<tr><th scope=row>6</th><td>NC_035780.1</td><td>134</td><td>136</td><td>CG_motif</td><td>0</td><td>0</td><td>0</td><td>0</td><td>0</td><td>0</td><td>⋯</td><td>0</td><td>0</td><td>0</td><td>0</td><td>0</td><td>0</td><td>0</td><td>0</td><td>0</td><td>0</td></tr>\n",
       "</tbody>\n",
       "</table>\n"
      ],
      "text/latex": [
       "A data.frame: 6 × 24\n",
       "\\begin{tabular}{r|lllllllllllllllllllll}\n",
       "  & chromosome & start & stop & CG\\_motif & BBB-WBO-B21 & BBB-WBV-B70 & BBO-BBO-B16 & BBO-BBY-B27 & BBO-WBO-B16 & BBO-WBV-B64 & ⋯ & WBB-WBV-W69 & WBG-BBB-W56 & WBG-WBG-W44 & WBO-BBR-W03 & WBO-WBV-W64 & WBR-BBY-W25 & WBV-WBO-W23 & WBV-WBR-W12 & WBY-BBV-W65 & WBY-BBY-W30\\\\\n",
       "  & <chr> & <int> & <int> & <chr> & <int> & <int> & <int> & <int> & <int> & <int> & ⋯ & <int> & <int> & <int> & <int> & <int> & <int> & <int> & <int> & <int> & <int>\\\\\n",
       "\\hline\n",
       "\t1 & NC\\_035780.1 &  54 &  56 & CG\\_motif & 0 & 0 & 0 & 0 & 0 & 0 & ⋯ & 0 & 0 & 0 & 0 & 0 & 0 & 0 & 0 & 0 & 0\\\\\n",
       "\t2 & NC\\_035780.1 &  75 &  77 & CG\\_motif & 0 & 0 & 0 & 0 & 0 & 0 & ⋯ & 0 & 0 & 0 & 0 & 0 & 0 & 0 & 0 & 0 & 0\\\\\n",
       "\t3 & NC\\_035780.1 &  93 &  95 & CG\\_motif & 0 & 0 & 0 & 0 & 0 & 0 & ⋯ & 0 & 0 & 0 & 0 & 0 & 0 & 0 & 0 & 0 & 0\\\\\n",
       "\t4 & NC\\_035780.1 & 103 & 105 & CG\\_motif & 0 & 0 & 0 & 0 & 0 & 0 & ⋯ & 0 & 0 & 0 & 0 & 0 & 0 & 0 & 0 & 0 & 0\\\\\n",
       "\t5 & NC\\_035780.1 & 116 & 118 & CG\\_motif & 0 & 0 & 0 & 0 & 0 & 0 & ⋯ & 0 & 0 & 0 & 0 & 0 & 0 & 0 & 0 & 0 & 0\\\\\n",
       "\t6 & NC\\_035780.1 & 134 & 136 & CG\\_motif & 0 & 0 & 0 & 0 & 0 & 0 & ⋯ & 0 & 0 & 0 & 0 & 0 & 0 & 0 & 0 & 0 & 0\\\\\n",
       "\\end{tabular}\n"
      ],
      "text/markdown": [
       "\n",
       "A data.frame: 6 × 24\n",
       "\n",
       "| <!--/--> | chromosome &lt;chr&gt; | start &lt;int&gt; | stop &lt;int&gt; | CG_motif &lt;chr&gt; | BBB-WBO-B21 &lt;int&gt; | BBB-WBV-B70 &lt;int&gt; | BBO-BBO-B16 &lt;int&gt; | BBO-BBY-B27 &lt;int&gt; | BBO-WBO-B16 &lt;int&gt; | BBO-WBV-B64 &lt;int&gt; | ⋯ ⋯ | WBB-WBV-W69 &lt;int&gt; | WBG-BBB-W56 &lt;int&gt; | WBG-WBG-W44 &lt;int&gt; | WBO-BBR-W03 &lt;int&gt; | WBO-WBV-W64 &lt;int&gt; | WBR-BBY-W25 &lt;int&gt; | WBV-WBO-W23 &lt;int&gt; | WBV-WBR-W12 &lt;int&gt; | WBY-BBV-W65 &lt;int&gt; | WBY-BBY-W30 &lt;int&gt; |\n",
       "|---|---|---|---|---|---|---|---|---|---|---|---|---|---|---|---|---|---|---|---|---|---|\n",
       "| 1 | NC_035780.1 |  54 |  56 | CG_motif | 0 | 0 | 0 | 0 | 0 | 0 | ⋯ | 0 | 0 | 0 | 0 | 0 | 0 | 0 | 0 | 0 | 0 |\n",
       "| 2 | NC_035780.1 |  75 |  77 | CG_motif | 0 | 0 | 0 | 0 | 0 | 0 | ⋯ | 0 | 0 | 0 | 0 | 0 | 0 | 0 | 0 | 0 | 0 |\n",
       "| 3 | NC_035780.1 |  93 |  95 | CG_motif | 0 | 0 | 0 | 0 | 0 | 0 | ⋯ | 0 | 0 | 0 | 0 | 0 | 0 | 0 | 0 | 0 | 0 |\n",
       "| 4 | NC_035780.1 | 103 | 105 | CG_motif | 0 | 0 | 0 | 0 | 0 | 0 | ⋯ | 0 | 0 | 0 | 0 | 0 | 0 | 0 | 0 | 0 | 0 |\n",
       "| 5 | NC_035780.1 | 116 | 118 | CG_motif | 0 | 0 | 0 | 0 | 0 | 0 | ⋯ | 0 | 0 | 0 | 0 | 0 | 0 | 0 | 0 | 0 | 0 |\n",
       "| 6 | NC_035780.1 | 134 | 136 | CG_motif | 0 | 0 | 0 | 0 | 0 | 0 | ⋯ | 0 | 0 | 0 | 0 | 0 | 0 | 0 | 0 | 0 | 0 |\n",
       "\n"
      ],
      "text/plain": [
       "  chromosome  start stop CG_motif BBB-WBO-B21 BBB-WBV-B70 BBO-BBO-B16\n",
       "1 NC_035780.1  54    56  CG_motif 0           0           0          \n",
       "2 NC_035780.1  75    77  CG_motif 0           0           0          \n",
       "3 NC_035780.1  93    95  CG_motif 0           0           0          \n",
       "4 NC_035780.1 103   105  CG_motif 0           0           0          \n",
       "5 NC_035780.1 116   118  CG_motif 0           0           0          \n",
       "6 NC_035780.1 134   136  CG_motif 0           0           0          \n",
       "  BBO-BBY-B27 BBO-WBO-B16 BBO-WBV-B64 ⋯ WBB-WBV-W69 WBG-BBB-W56 WBG-WBG-W44\n",
       "1 0           0           0           ⋯ 0           0           0          \n",
       "2 0           0           0           ⋯ 0           0           0          \n",
       "3 0           0           0           ⋯ 0           0           0          \n",
       "4 0           0           0           ⋯ 0           0           0          \n",
       "5 0           0           0           ⋯ 0           0           0          \n",
       "6 0           0           0           ⋯ 0           0           0          \n",
       "  WBO-BBR-W03 WBO-WBV-W64 WBR-BBY-W25 WBV-WBO-W23 WBV-WBR-W12 WBY-BBV-W65\n",
       "1 0           0           0           0           0           0          \n",
       "2 0           0           0           0           0           0          \n",
       "3 0           0           0           0           0           0          \n",
       "4 0           0           0           0           0           0          \n",
       "5 0           0           0           0           0           0          \n",
       "6 0           0           0           0           0           0          \n",
       "  WBY-BBY-W30\n",
       "1 0          \n",
       "2 0          \n",
       "3 0          \n",
       "4 0          \n",
       "5 0          \n",
       "6 0          "
      ]
     },
     "metadata": {},
     "output_type": "display_data"
    }
   ],
   "source": [
    "# renaming columns with sample name - based on order that appears in the directory\n",
    "colnames(CG_multicov) <- c('chromosome', 'start', 'stop', 'CG_motif', bam_files_clean)\n",
    "head(CG_multicov)"
   ]
  },
  {
   "cell_type": "markdown",
   "id": "67bc2051-54a3-4b9b-85a1-03dab294e085",
   "metadata": {},
   "source": [
    "Below, I am creating new CSV files that are exactly what is above, but separated by their treatment - so each file will contain the 'base info' (chromosome, start, stop, CG_motif) and then the 5 oyster replicates with their matching methylRAD seqs"
   ]
  },
  {
   "cell_type": "code",
   "execution_count": 70,
   "id": "bebb43bd-2839-47a7-b317-50fa3365e511",
   "metadata": {},
   "outputs": [
    {
     "data": {
      "text/html": [
       "<table class=\"dataframe\">\n",
       "<caption>A data.frame: 6 × 9</caption>\n",
       "<thead>\n",
       "\t<tr><th></th><th scope=col>chromosome</th><th scope=col>start</th><th scope=col>stop</th><th scope=col>CG_motif</th><th scope=col>BBB-WBO-B21</th><th scope=col>BBB-WBV-B70</th><th scope=col>BBO-WBO-B16</th><th scope=col>BBO-WBV-B64</th><th scope=col>BBY-WBG-B42</th></tr>\n",
       "\t<tr><th></th><th scope=col>&lt;chr&gt;</th><th scope=col>&lt;int&gt;</th><th scope=col>&lt;int&gt;</th><th scope=col>&lt;chr&gt;</th><th scope=col>&lt;int&gt;</th><th scope=col>&lt;int&gt;</th><th scope=col>&lt;int&gt;</th><th scope=col>&lt;int&gt;</th><th scope=col>&lt;int&gt;</th></tr>\n",
       "</thead>\n",
       "<tbody>\n",
       "\t<tr><th scope=row>1</th><td>NC_035780.1</td><td> 54</td><td> 56</td><td>CG_motif</td><td>0</td><td>0</td><td>0</td><td>0</td><td>0</td></tr>\n",
       "\t<tr><th scope=row>2</th><td>NC_035780.1</td><td> 75</td><td> 77</td><td>CG_motif</td><td>0</td><td>0</td><td>0</td><td>0</td><td>0</td></tr>\n",
       "\t<tr><th scope=row>3</th><td>NC_035780.1</td><td> 93</td><td> 95</td><td>CG_motif</td><td>0</td><td>0</td><td>0</td><td>0</td><td>0</td></tr>\n",
       "\t<tr><th scope=row>4</th><td>NC_035780.1</td><td>103</td><td>105</td><td>CG_motif</td><td>0</td><td>0</td><td>0</td><td>0</td><td>0</td></tr>\n",
       "\t<tr><th scope=row>5</th><td>NC_035780.1</td><td>116</td><td>118</td><td>CG_motif</td><td>0</td><td>0</td><td>0</td><td>0</td><td>0</td></tr>\n",
       "\t<tr><th scope=row>6</th><td>NC_035780.1</td><td>134</td><td>136</td><td>CG_motif</td><td>0</td><td>0</td><td>0</td><td>0</td><td>0</td></tr>\n",
       "</tbody>\n",
       "</table>\n"
      ],
      "text/latex": [
       "A data.frame: 6 × 9\n",
       "\\begin{tabular}{r|lllllllll}\n",
       "  & chromosome & start & stop & CG\\_motif & BBB-WBO-B21 & BBB-WBV-B70 & BBO-WBO-B16 & BBO-WBV-B64 & BBY-WBG-B42\\\\\n",
       "  & <chr> & <int> & <int> & <chr> & <int> & <int> & <int> & <int> & <int>\\\\\n",
       "\\hline\n",
       "\t1 & NC\\_035780.1 &  54 &  56 & CG\\_motif & 0 & 0 & 0 & 0 & 0\\\\\n",
       "\t2 & NC\\_035780.1 &  75 &  77 & CG\\_motif & 0 & 0 & 0 & 0 & 0\\\\\n",
       "\t3 & NC\\_035780.1 &  93 &  95 & CG\\_motif & 0 & 0 & 0 & 0 & 0\\\\\n",
       "\t4 & NC\\_035780.1 & 103 & 105 & CG\\_motif & 0 & 0 & 0 & 0 & 0\\\\\n",
       "\t5 & NC\\_035780.1 & 116 & 118 & CG\\_motif & 0 & 0 & 0 & 0 & 0\\\\\n",
       "\t6 & NC\\_035780.1 & 134 & 136 & CG\\_motif & 0 & 0 & 0 & 0 & 0\\\\\n",
       "\\end{tabular}\n"
      ],
      "text/markdown": [
       "\n",
       "A data.frame: 6 × 9\n",
       "\n",
       "| <!--/--> | chromosome &lt;chr&gt; | start &lt;int&gt; | stop &lt;int&gt; | CG_motif &lt;chr&gt; | BBB-WBO-B21 &lt;int&gt; | BBB-WBV-B70 &lt;int&gt; | BBO-WBO-B16 &lt;int&gt; | BBO-WBV-B64 &lt;int&gt; | BBY-WBG-B42 &lt;int&gt; |\n",
       "|---|---|---|---|---|---|---|---|---|---|\n",
       "| 1 | NC_035780.1 |  54 |  56 | CG_motif | 0 | 0 | 0 | 0 | 0 |\n",
       "| 2 | NC_035780.1 |  75 |  77 | CG_motif | 0 | 0 | 0 | 0 | 0 |\n",
       "| 3 | NC_035780.1 |  93 |  95 | CG_motif | 0 | 0 | 0 | 0 | 0 |\n",
       "| 4 | NC_035780.1 | 103 | 105 | CG_motif | 0 | 0 | 0 | 0 | 0 |\n",
       "| 5 | NC_035780.1 | 116 | 118 | CG_motif | 0 | 0 | 0 | 0 | 0 |\n",
       "| 6 | NC_035780.1 | 134 | 136 | CG_motif | 0 | 0 | 0 | 0 | 0 |\n",
       "\n"
      ],
      "text/plain": [
       "  chromosome  start stop CG_motif BBB-WBO-B21 BBB-WBV-B70 BBO-WBO-B16\n",
       "1 NC_035780.1  54    56  CG_motif 0           0           0          \n",
       "2 NC_035780.1  75    77  CG_motif 0           0           0          \n",
       "3 NC_035780.1  93    95  CG_motif 0           0           0          \n",
       "4 NC_035780.1 103   105  CG_motif 0           0           0          \n",
       "5 NC_035780.1 116   118  CG_motif 0           0           0          \n",
       "6 NC_035780.1 134   136  CG_motif 0           0           0          \n",
       "  BBO-WBV-B64 BBY-WBG-B42\n",
       "1 0           0          \n",
       "2 0           0          \n",
       "3 0           0          \n",
       "4 0           0          \n",
       "5 0           0          \n",
       "6 0           0          "
      ]
     },
     "metadata": {},
     "output_type": "display_data"
    },
    {
     "data": {
      "text/html": [
       "<table class=\"dataframe\">\n",
       "<caption>A data.frame: 6 × 9</caption>\n",
       "<thead>\n",
       "\t<tr><th></th><th scope=col>chromosome</th><th scope=col>start</th><th scope=col>stop</th><th scope=col>CG_motif</th><th scope=col>BBO-BBO-B16</th><th scope=col>BBO-BBY-B27</th><th scope=col>BBR-BBB-B50</th><th scope=col>BBR-BBG-B38</th><th scope=col>BBR-BBY-B26</th></tr>\n",
       "\t<tr><th></th><th scope=col>&lt;chr&gt;</th><th scope=col>&lt;int&gt;</th><th scope=col>&lt;int&gt;</th><th scope=col>&lt;chr&gt;</th><th scope=col>&lt;int&gt;</th><th scope=col>&lt;int&gt;</th><th scope=col>&lt;int&gt;</th><th scope=col>&lt;int&gt;</th><th scope=col>&lt;int&gt;</th></tr>\n",
       "</thead>\n",
       "<tbody>\n",
       "\t<tr><th scope=row>1</th><td>NC_035780.1</td><td> 54</td><td> 56</td><td>CG_motif</td><td>0</td><td>0</td><td>0</td><td>0</td><td>0</td></tr>\n",
       "\t<tr><th scope=row>2</th><td>NC_035780.1</td><td> 75</td><td> 77</td><td>CG_motif</td><td>0</td><td>0</td><td>0</td><td>0</td><td>0</td></tr>\n",
       "\t<tr><th scope=row>3</th><td>NC_035780.1</td><td> 93</td><td> 95</td><td>CG_motif</td><td>0</td><td>0</td><td>0</td><td>0</td><td>0</td></tr>\n",
       "\t<tr><th scope=row>4</th><td>NC_035780.1</td><td>103</td><td>105</td><td>CG_motif</td><td>0</td><td>0</td><td>0</td><td>0</td><td>0</td></tr>\n",
       "\t<tr><th scope=row>5</th><td>NC_035780.1</td><td>116</td><td>118</td><td>CG_motif</td><td>0</td><td>0</td><td>0</td><td>0</td><td>0</td></tr>\n",
       "\t<tr><th scope=row>6</th><td>NC_035780.1</td><td>134</td><td>136</td><td>CG_motif</td><td>0</td><td>0</td><td>0</td><td>0</td><td>0</td></tr>\n",
       "</tbody>\n",
       "</table>\n"
      ],
      "text/latex": [
       "A data.frame: 6 × 9\n",
       "\\begin{tabular}{r|lllllllll}\n",
       "  & chromosome & start & stop & CG\\_motif & BBO-BBO-B16 & BBO-BBY-B27 & BBR-BBB-B50 & BBR-BBG-B38 & BBR-BBY-B26\\\\\n",
       "  & <chr> & <int> & <int> & <chr> & <int> & <int> & <int> & <int> & <int>\\\\\n",
       "\\hline\n",
       "\t1 & NC\\_035780.1 &  54 &  56 & CG\\_motif & 0 & 0 & 0 & 0 & 0\\\\\n",
       "\t2 & NC\\_035780.1 &  75 &  77 & CG\\_motif & 0 & 0 & 0 & 0 & 0\\\\\n",
       "\t3 & NC\\_035780.1 &  93 &  95 & CG\\_motif & 0 & 0 & 0 & 0 & 0\\\\\n",
       "\t4 & NC\\_035780.1 & 103 & 105 & CG\\_motif & 0 & 0 & 0 & 0 & 0\\\\\n",
       "\t5 & NC\\_035780.1 & 116 & 118 & CG\\_motif & 0 & 0 & 0 & 0 & 0\\\\\n",
       "\t6 & NC\\_035780.1 & 134 & 136 & CG\\_motif & 0 & 0 & 0 & 0 & 0\\\\\n",
       "\\end{tabular}\n"
      ],
      "text/markdown": [
       "\n",
       "A data.frame: 6 × 9\n",
       "\n",
       "| <!--/--> | chromosome &lt;chr&gt; | start &lt;int&gt; | stop &lt;int&gt; | CG_motif &lt;chr&gt; | BBO-BBO-B16 &lt;int&gt; | BBO-BBY-B27 &lt;int&gt; | BBR-BBB-B50 &lt;int&gt; | BBR-BBG-B38 &lt;int&gt; | BBR-BBY-B26 &lt;int&gt; |\n",
       "|---|---|---|---|---|---|---|---|---|---|\n",
       "| 1 | NC_035780.1 |  54 |  56 | CG_motif | 0 | 0 | 0 | 0 | 0 |\n",
       "| 2 | NC_035780.1 |  75 |  77 | CG_motif | 0 | 0 | 0 | 0 | 0 |\n",
       "| 3 | NC_035780.1 |  93 |  95 | CG_motif | 0 | 0 | 0 | 0 | 0 |\n",
       "| 4 | NC_035780.1 | 103 | 105 | CG_motif | 0 | 0 | 0 | 0 | 0 |\n",
       "| 5 | NC_035780.1 | 116 | 118 | CG_motif | 0 | 0 | 0 | 0 | 0 |\n",
       "| 6 | NC_035780.1 | 134 | 136 | CG_motif | 0 | 0 | 0 | 0 | 0 |\n",
       "\n"
      ],
      "text/plain": [
       "  chromosome  start stop CG_motif BBO-BBO-B16 BBO-BBY-B27 BBR-BBB-B50\n",
       "1 NC_035780.1  54    56  CG_motif 0           0           0          \n",
       "2 NC_035780.1  75    77  CG_motif 0           0           0          \n",
       "3 NC_035780.1  93    95  CG_motif 0           0           0          \n",
       "4 NC_035780.1 103   105  CG_motif 0           0           0          \n",
       "5 NC_035780.1 116   118  CG_motif 0           0           0          \n",
       "6 NC_035780.1 134   136  CG_motif 0           0           0          \n",
       "  BBR-BBG-B38 BBR-BBY-B26\n",
       "1 0           0          \n",
       "2 0           0          \n",
       "3 0           0          \n",
       "4 0           0          \n",
       "5 0           0          \n",
       "6 0           0          "
      ]
     },
     "metadata": {},
     "output_type": "display_data"
    },
    {
     "data": {
      "text/html": [
       "<table class=\"dataframe\">\n",
       "<caption>A data.frame: 6 × 9</caption>\n",
       "<thead>\n",
       "\t<tr><th></th><th scope=col>chromosome</th><th scope=col>start</th><th scope=col>stop</th><th scope=col>CG_motif</th><th scope=col>WBG-BBB-W56</th><th scope=col>WBO-BBR-W03</th><th scope=col>WBR-BBY-W25</th><th scope=col>WBY-BBV-W65</th><th scope=col>WBY-BBY-W30</th></tr>\n",
       "\t<tr><th></th><th scope=col>&lt;chr&gt;</th><th scope=col>&lt;int&gt;</th><th scope=col>&lt;int&gt;</th><th scope=col>&lt;chr&gt;</th><th scope=col>&lt;int&gt;</th><th scope=col>&lt;int&gt;</th><th scope=col>&lt;int&gt;</th><th scope=col>&lt;int&gt;</th><th scope=col>&lt;int&gt;</th></tr>\n",
       "</thead>\n",
       "<tbody>\n",
       "\t<tr><th scope=row>1</th><td>NC_035780.1</td><td> 54</td><td> 56</td><td>CG_motif</td><td>0</td><td>0</td><td>0</td><td>0</td><td>0</td></tr>\n",
       "\t<tr><th scope=row>2</th><td>NC_035780.1</td><td> 75</td><td> 77</td><td>CG_motif</td><td>0</td><td>0</td><td>0</td><td>0</td><td>0</td></tr>\n",
       "\t<tr><th scope=row>3</th><td>NC_035780.1</td><td> 93</td><td> 95</td><td>CG_motif</td><td>0</td><td>0</td><td>0</td><td>0</td><td>0</td></tr>\n",
       "\t<tr><th scope=row>4</th><td>NC_035780.1</td><td>103</td><td>105</td><td>CG_motif</td><td>0</td><td>0</td><td>0</td><td>0</td><td>0</td></tr>\n",
       "\t<tr><th scope=row>5</th><td>NC_035780.1</td><td>116</td><td>118</td><td>CG_motif</td><td>0</td><td>0</td><td>0</td><td>0</td><td>0</td></tr>\n",
       "\t<tr><th scope=row>6</th><td>NC_035780.1</td><td>134</td><td>136</td><td>CG_motif</td><td>0</td><td>0</td><td>0</td><td>0</td><td>0</td></tr>\n",
       "</tbody>\n",
       "</table>\n"
      ],
      "text/latex": [
       "A data.frame: 6 × 9\n",
       "\\begin{tabular}{r|lllllllll}\n",
       "  & chromosome & start & stop & CG\\_motif & WBG-BBB-W56 & WBO-BBR-W03 & WBR-BBY-W25 & WBY-BBV-W65 & WBY-BBY-W30\\\\\n",
       "  & <chr> & <int> & <int> & <chr> & <int> & <int> & <int> & <int> & <int>\\\\\n",
       "\\hline\n",
       "\t1 & NC\\_035780.1 &  54 &  56 & CG\\_motif & 0 & 0 & 0 & 0 & 0\\\\\n",
       "\t2 & NC\\_035780.1 &  75 &  77 & CG\\_motif & 0 & 0 & 0 & 0 & 0\\\\\n",
       "\t3 & NC\\_035780.1 &  93 &  95 & CG\\_motif & 0 & 0 & 0 & 0 & 0\\\\\n",
       "\t4 & NC\\_035780.1 & 103 & 105 & CG\\_motif & 0 & 0 & 0 & 0 & 0\\\\\n",
       "\t5 & NC\\_035780.1 & 116 & 118 & CG\\_motif & 0 & 0 & 0 & 0 & 0\\\\\n",
       "\t6 & NC\\_035780.1 & 134 & 136 & CG\\_motif & 0 & 0 & 0 & 0 & 0\\\\\n",
       "\\end{tabular}\n"
      ],
      "text/markdown": [
       "\n",
       "A data.frame: 6 × 9\n",
       "\n",
       "| <!--/--> | chromosome &lt;chr&gt; | start &lt;int&gt; | stop &lt;int&gt; | CG_motif &lt;chr&gt; | WBG-BBB-W56 &lt;int&gt; | WBO-BBR-W03 &lt;int&gt; | WBR-BBY-W25 &lt;int&gt; | WBY-BBV-W65 &lt;int&gt; | WBY-BBY-W30 &lt;int&gt; |\n",
       "|---|---|---|---|---|---|---|---|---|---|\n",
       "| 1 | NC_035780.1 |  54 |  56 | CG_motif | 0 | 0 | 0 | 0 | 0 |\n",
       "| 2 | NC_035780.1 |  75 |  77 | CG_motif | 0 | 0 | 0 | 0 | 0 |\n",
       "| 3 | NC_035780.1 |  93 |  95 | CG_motif | 0 | 0 | 0 | 0 | 0 |\n",
       "| 4 | NC_035780.1 | 103 | 105 | CG_motif | 0 | 0 | 0 | 0 | 0 |\n",
       "| 5 | NC_035780.1 | 116 | 118 | CG_motif | 0 | 0 | 0 | 0 | 0 |\n",
       "| 6 | NC_035780.1 | 134 | 136 | CG_motif | 0 | 0 | 0 | 0 | 0 |\n",
       "\n"
      ],
      "text/plain": [
       "  chromosome  start stop CG_motif WBG-BBB-W56 WBO-BBR-W03 WBR-BBY-W25\n",
       "1 NC_035780.1  54    56  CG_motif 0           0           0          \n",
       "2 NC_035780.1  75    77  CG_motif 0           0           0          \n",
       "3 NC_035780.1  93    95  CG_motif 0           0           0          \n",
       "4 NC_035780.1 103   105  CG_motif 0           0           0          \n",
       "5 NC_035780.1 116   118  CG_motif 0           0           0          \n",
       "6 NC_035780.1 134   136  CG_motif 0           0           0          \n",
       "  WBY-BBV-W65 WBY-BBY-W30\n",
       "1 0           0          \n",
       "2 0           0          \n",
       "3 0           0          \n",
       "4 0           0          \n",
       "5 0           0          \n",
       "6 0           0          "
      ]
     },
     "metadata": {},
     "output_type": "display_data"
    },
    {
     "data": {
      "text/html": [
       "<table class=\"dataframe\">\n",
       "<caption>A data.frame: 6 × 9</caption>\n",
       "<thead>\n",
       "\t<tr><th></th><th scope=col>chromosome</th><th scope=col>start</th><th scope=col>stop</th><th scope=col>CG_motif</th><th scope=col>WBB-WBV-W69</th><th scope=col>WBG-WBG-W44</th><th scope=col>WBO-WBV-W64</th><th scope=col>WBV-WBO-W23</th><th scope=col>WBV-WBR-W12</th></tr>\n",
       "\t<tr><th></th><th scope=col>&lt;chr&gt;</th><th scope=col>&lt;int&gt;</th><th scope=col>&lt;int&gt;</th><th scope=col>&lt;chr&gt;</th><th scope=col>&lt;int&gt;</th><th scope=col>&lt;int&gt;</th><th scope=col>&lt;int&gt;</th><th scope=col>&lt;int&gt;</th><th scope=col>&lt;int&gt;</th></tr>\n",
       "</thead>\n",
       "<tbody>\n",
       "\t<tr><th scope=row>1</th><td>NC_035780.1</td><td> 54</td><td> 56</td><td>CG_motif</td><td>0</td><td>0</td><td>0</td><td>0</td><td>0</td></tr>\n",
       "\t<tr><th scope=row>2</th><td>NC_035780.1</td><td> 75</td><td> 77</td><td>CG_motif</td><td>0</td><td>0</td><td>0</td><td>0</td><td>0</td></tr>\n",
       "\t<tr><th scope=row>3</th><td>NC_035780.1</td><td> 93</td><td> 95</td><td>CG_motif</td><td>0</td><td>0</td><td>0</td><td>0</td><td>0</td></tr>\n",
       "\t<tr><th scope=row>4</th><td>NC_035780.1</td><td>103</td><td>105</td><td>CG_motif</td><td>0</td><td>0</td><td>0</td><td>0</td><td>0</td></tr>\n",
       "\t<tr><th scope=row>5</th><td>NC_035780.1</td><td>116</td><td>118</td><td>CG_motif</td><td>0</td><td>0</td><td>0</td><td>0</td><td>0</td></tr>\n",
       "\t<tr><th scope=row>6</th><td>NC_035780.1</td><td>134</td><td>136</td><td>CG_motif</td><td>0</td><td>0</td><td>0</td><td>0</td><td>0</td></tr>\n",
       "</tbody>\n",
       "</table>\n"
      ],
      "text/latex": [
       "A data.frame: 6 × 9\n",
       "\\begin{tabular}{r|lllllllll}\n",
       "  & chromosome & start & stop & CG\\_motif & WBB-WBV-W69 & WBG-WBG-W44 & WBO-WBV-W64 & WBV-WBO-W23 & WBV-WBR-W12\\\\\n",
       "  & <chr> & <int> & <int> & <chr> & <int> & <int> & <int> & <int> & <int>\\\\\n",
       "\\hline\n",
       "\t1 & NC\\_035780.1 &  54 &  56 & CG\\_motif & 0 & 0 & 0 & 0 & 0\\\\\n",
       "\t2 & NC\\_035780.1 &  75 &  77 & CG\\_motif & 0 & 0 & 0 & 0 & 0\\\\\n",
       "\t3 & NC\\_035780.1 &  93 &  95 & CG\\_motif & 0 & 0 & 0 & 0 & 0\\\\\n",
       "\t4 & NC\\_035780.1 & 103 & 105 & CG\\_motif & 0 & 0 & 0 & 0 & 0\\\\\n",
       "\t5 & NC\\_035780.1 & 116 & 118 & CG\\_motif & 0 & 0 & 0 & 0 & 0\\\\\n",
       "\t6 & NC\\_035780.1 & 134 & 136 & CG\\_motif & 0 & 0 & 0 & 0 & 0\\\\\n",
       "\\end{tabular}\n"
      ],
      "text/markdown": [
       "\n",
       "A data.frame: 6 × 9\n",
       "\n",
       "| <!--/--> | chromosome &lt;chr&gt; | start &lt;int&gt; | stop &lt;int&gt; | CG_motif &lt;chr&gt; | WBB-WBV-W69 &lt;int&gt; | WBG-WBG-W44 &lt;int&gt; | WBO-WBV-W64 &lt;int&gt; | WBV-WBO-W23 &lt;int&gt; | WBV-WBR-W12 &lt;int&gt; |\n",
       "|---|---|---|---|---|---|---|---|---|---|\n",
       "| 1 | NC_035780.1 |  54 |  56 | CG_motif | 0 | 0 | 0 | 0 | 0 |\n",
       "| 2 | NC_035780.1 |  75 |  77 | CG_motif | 0 | 0 | 0 | 0 | 0 |\n",
       "| 3 | NC_035780.1 |  93 |  95 | CG_motif | 0 | 0 | 0 | 0 | 0 |\n",
       "| 4 | NC_035780.1 | 103 | 105 | CG_motif | 0 | 0 | 0 | 0 | 0 |\n",
       "| 5 | NC_035780.1 | 116 | 118 | CG_motif | 0 | 0 | 0 | 0 | 0 |\n",
       "| 6 | NC_035780.1 | 134 | 136 | CG_motif | 0 | 0 | 0 | 0 | 0 |\n",
       "\n"
      ],
      "text/plain": [
       "  chromosome  start stop CG_motif WBB-WBV-W69 WBG-WBG-W44 WBO-WBV-W64\n",
       "1 NC_035780.1  54    56  CG_motif 0           0           0          \n",
       "2 NC_035780.1  75    77  CG_motif 0           0           0          \n",
       "3 NC_035780.1  93    95  CG_motif 0           0           0          \n",
       "4 NC_035780.1 103   105  CG_motif 0           0           0          \n",
       "5 NC_035780.1 116   118  CG_motif 0           0           0          \n",
       "6 NC_035780.1 134   136  CG_motif 0           0           0          \n",
       "  WBV-WBO-W23 WBV-WBR-W12\n",
       "1 0           0          \n",
       "2 0           0          \n",
       "3 0           0          \n",
       "4 0           0          \n",
       "5 0           0          \n",
       "6 0           0          "
      ]
     },
     "metadata": {},
     "output_type": "display_data"
    }
   ],
   "source": [
    "# Base columns\n",
    "base_cols <- CG_multicov[, c(\"chromosome\", \"start\", \"stop\", \"CG_motif\")]\n",
    "\n",
    "########################################################################\n",
    "## HYPOXIC CONTROL\n",
    "\n",
    "# Additional columns matching pattern\n",
    "HC_cols <- CG_multicov[, grepl(\"BB.-WB.-\\\\w{3}\", names(CG_multicov))]\n",
    "\n",
    "# Create new data frame\n",
    "HC_multicov <- cbind(base_cols, HC_cols)\n",
    "\n",
    "write.csv(HC_multicov, \"/project/pi_sarah_gignouxwolfsohn_uml_edu/julia/CE_methyl_assembly/assembly_pipeline_files/genomic_bed_files/CpG_multicov/HC_CpGmulticov.csv\")\n",
    "\n",
    "########################################################################\n",
    "## HYPOXIC HYPOXIC\n",
    "\n",
    "# Additional columns matching pattern\n",
    "HH_cols <- CG_multicov[, grepl(\"BB.-BB.-\\\\w{3}\", names(CG_multicov))]\n",
    "\n",
    "# Create new data frame\n",
    "HH_multicov <- cbind(base_cols, HH_cols)\n",
    "\n",
    "write.csv(HH_multicov, \"/project/pi_sarah_gignouxwolfsohn_uml_edu/julia/CE_methyl_assembly/assembly_pipeline_files/genomic_bed_files/CpG_multicov/HH_CpGmulticov.csv\")\n",
    "\n",
    "########################################################################\n",
    "## CONTROL HYPOXIC\n",
    "\n",
    "# Additional columns matching pattern\n",
    "CH_cols <- CG_multicov[, grepl(\"WB.-BB.-\\\\w{3}\", names(CG_multicov))]\n",
    "\n",
    "# Create new data frame\n",
    "CH_multicov <- cbind(base_cols, CH_cols)\n",
    "\n",
    "write.csv(CH_multicov, \"/project/pi_sarah_gignouxwolfsohn_uml_edu/julia/CE_methyl_assembly/assembly_pipeline_files/genomic_bed_files/CpG_multicov/CH_CpGmulticov.csv\")\n",
    "\n",
    "########################################################################\n",
    "# CONTROL CONTROL\n",
    "\n",
    "# Additional columns matching pattern\n",
    "CC_cols <- CG_multicov[, grepl(\"WB.-WB.-\\\\w{3}\", names(CG_multicov))]\n",
    "\n",
    "# Create new data frame\n",
    "CC_multicov <- cbind(base_cols, CC_cols)\n",
    "\n",
    "write.csv(CC_multicov, \"/project/pi_sarah_gignouxwolfsohn_uml_edu/julia/CE_methyl_assembly/assembly_pipeline_files/genomic_bed_files/CpG_multicov/CC_CpGmulticov.csv\")\n",
    "\n",
    "########################################################################\n",
    "head(HC_multicov)\n",
    "head(HH_multicov)\n",
    "head(CH_multicov)\n",
    "head(CC_multicov)"
   ]
  },
  {
   "cell_type": "markdown",
   "id": "cf2733cc-f292-4ad3-bcf7-90d4fe015961",
   "metadata": {
    "tags": []
   },
   "source": [
    "## Calculating methylation level of CpGs by sample\n",
    "\n",
    "General pipeline:\n",
    "1. Grab the 5 columns for each replicate in the 'big' data frame\n",
    "2. Only keep the CpGs that have at least 5 sequences for that replicate (choosing 5 based on 5x coverage used in Ventakamaran et al 2022) - calculate how many rows are kept \n",
    "3. Calculate methylation level based on this calculation: (methylated CpGs/total CpGs)x100\n",
    "\n",
    "IF ALREADY RAN CODE ONCE, skip to bottom and load CSV\n",
    "\n",
    "**control control**"
   ]
  },
  {
   "cell_type": "code",
   "execution_count": 12,
   "id": "496e9cdd-fd9a-4125-bba0-962e0f45d62b",
   "metadata": {},
   "outputs": [
    {
     "data": {
      "text/html": [
       "<table class=\"dataframe\">\n",
       "<caption>A data.frame: 6 × 10</caption>\n",
       "<thead>\n",
       "\t<tr><th></th><th scope=col>X</th><th scope=col>chromosome</th><th scope=col>start</th><th scope=col>stop</th><th scope=col>CG_motif</th><th scope=col>WBB.WBV.W69</th><th scope=col>WBG.WBG.W44</th><th scope=col>WBO.WBV.W64</th><th scope=col>WBV.WBO.W23</th><th scope=col>WBV.WBR.W12</th></tr>\n",
       "\t<tr><th></th><th scope=col>&lt;int&gt;</th><th scope=col>&lt;chr&gt;</th><th scope=col>&lt;int&gt;</th><th scope=col>&lt;int&gt;</th><th scope=col>&lt;chr&gt;</th><th scope=col>&lt;int&gt;</th><th scope=col>&lt;int&gt;</th><th scope=col>&lt;int&gt;</th><th scope=col>&lt;int&gt;</th><th scope=col>&lt;int&gt;</th></tr>\n",
       "</thead>\n",
       "<tbody>\n",
       "\t<tr><th scope=row>1</th><td>1</td><td>NC_035780.1</td><td> 54</td><td> 56</td><td>CG_motif</td><td>0</td><td>0</td><td>0</td><td>0</td><td>0</td></tr>\n",
       "\t<tr><th scope=row>2</th><td>2</td><td>NC_035780.1</td><td> 75</td><td> 77</td><td>CG_motif</td><td>0</td><td>0</td><td>0</td><td>0</td><td>0</td></tr>\n",
       "\t<tr><th scope=row>3</th><td>3</td><td>NC_035780.1</td><td> 93</td><td> 95</td><td>CG_motif</td><td>0</td><td>0</td><td>0</td><td>0</td><td>0</td></tr>\n",
       "\t<tr><th scope=row>4</th><td>4</td><td>NC_035780.1</td><td>103</td><td>105</td><td>CG_motif</td><td>0</td><td>0</td><td>0</td><td>0</td><td>0</td></tr>\n",
       "\t<tr><th scope=row>5</th><td>5</td><td>NC_035780.1</td><td>116</td><td>118</td><td>CG_motif</td><td>0</td><td>0</td><td>0</td><td>0</td><td>0</td></tr>\n",
       "\t<tr><th scope=row>6</th><td>6</td><td>NC_035780.1</td><td>134</td><td>136</td><td>CG_motif</td><td>0</td><td>0</td><td>0</td><td>0</td><td>0</td></tr>\n",
       "</tbody>\n",
       "</table>\n"
      ],
      "text/latex": [
       "A data.frame: 6 × 10\n",
       "\\begin{tabular}{r|llllllllll}\n",
       "  & X & chromosome & start & stop & CG\\_motif & WBB.WBV.W69 & WBG.WBG.W44 & WBO.WBV.W64 & WBV.WBO.W23 & WBV.WBR.W12\\\\\n",
       "  & <int> & <chr> & <int> & <int> & <chr> & <int> & <int> & <int> & <int> & <int>\\\\\n",
       "\\hline\n",
       "\t1 & 1 & NC\\_035780.1 &  54 &  56 & CG\\_motif & 0 & 0 & 0 & 0 & 0\\\\\n",
       "\t2 & 2 & NC\\_035780.1 &  75 &  77 & CG\\_motif & 0 & 0 & 0 & 0 & 0\\\\\n",
       "\t3 & 3 & NC\\_035780.1 &  93 &  95 & CG\\_motif & 0 & 0 & 0 & 0 & 0\\\\\n",
       "\t4 & 4 & NC\\_035780.1 & 103 & 105 & CG\\_motif & 0 & 0 & 0 & 0 & 0\\\\\n",
       "\t5 & 5 & NC\\_035780.1 & 116 & 118 & CG\\_motif & 0 & 0 & 0 & 0 & 0\\\\\n",
       "\t6 & 6 & NC\\_035780.1 & 134 & 136 & CG\\_motif & 0 & 0 & 0 & 0 & 0\\\\\n",
       "\\end{tabular}\n"
      ],
      "text/markdown": [
       "\n",
       "A data.frame: 6 × 10\n",
       "\n",
       "| <!--/--> | X &lt;int&gt; | chromosome &lt;chr&gt; | start &lt;int&gt; | stop &lt;int&gt; | CG_motif &lt;chr&gt; | WBB.WBV.W69 &lt;int&gt; | WBG.WBG.W44 &lt;int&gt; | WBO.WBV.W64 &lt;int&gt; | WBV.WBO.W23 &lt;int&gt; | WBV.WBR.W12 &lt;int&gt; |\n",
       "|---|---|---|---|---|---|---|---|---|---|---|\n",
       "| 1 | 1 | NC_035780.1 |  54 |  56 | CG_motif | 0 | 0 | 0 | 0 | 0 |\n",
       "| 2 | 2 | NC_035780.1 |  75 |  77 | CG_motif | 0 | 0 | 0 | 0 | 0 |\n",
       "| 3 | 3 | NC_035780.1 |  93 |  95 | CG_motif | 0 | 0 | 0 | 0 | 0 |\n",
       "| 4 | 4 | NC_035780.1 | 103 | 105 | CG_motif | 0 | 0 | 0 | 0 | 0 |\n",
       "| 5 | 5 | NC_035780.1 | 116 | 118 | CG_motif | 0 | 0 | 0 | 0 | 0 |\n",
       "| 6 | 6 | NC_035780.1 | 134 | 136 | CG_motif | 0 | 0 | 0 | 0 | 0 |\n",
       "\n"
      ],
      "text/plain": [
       "  X chromosome  start stop CG_motif WBB.WBV.W69 WBG.WBG.W44 WBO.WBV.W64\n",
       "1 1 NC_035780.1  54    56  CG_motif 0           0           0          \n",
       "2 2 NC_035780.1  75    77  CG_motif 0           0           0          \n",
       "3 3 NC_035780.1  93    95  CG_motif 0           0           0          \n",
       "4 4 NC_035780.1 103   105  CG_motif 0           0           0          \n",
       "5 5 NC_035780.1 116   118  CG_motif 0           0           0          \n",
       "6 6 NC_035780.1 134   136  CG_motif 0           0           0          \n",
       "  WBV.WBO.W23 WBV.WBR.W12\n",
       "1 0           0          \n",
       "2 0           0          \n",
       "3 0           0          \n",
       "4 0           0          \n",
       "5 0           0          \n",
       "6 0           0          "
      ]
     },
     "metadata": {},
     "output_type": "display_data"
    }
   ],
   "source": [
    "CC_multicov <- read.csv(\"/project/pi_sarah_gignouxwolfsohn_uml_edu/julia/CE_methyl_assembly/assembly_pipeline_files/genomic_bed_files/CpG_multicov/CC_CpGmulticov.csv\")\n",
    "head(CC_multicov)"
   ]
  },
  {
   "cell_type": "code",
   "execution_count": 13,
   "id": "6f58586c-8711-4ff7-844f-4370df3c0baf",
   "metadata": {},
   "outputs": [
    {
     "data": {
      "text/html": [
       "<style>\n",
       ".dl-inline {width: auto; margin:0; padding: 0}\n",
       ".dl-inline>dt, .dl-inline>dd {float: none; width: auto; display: inline-block}\n",
       ".dl-inline>dt::after {content: \":\\0020\"; padding-right: .5ex}\n",
       ".dl-inline>dt:not(:first-of-type) {padding-left: .5ex}\n",
       "</style><dl class=dl-inline><dt>WBB.WBV.W69</dt><dd>147798</dd><dt>WBG.WBG.W44</dt><dd>59287</dd><dt>WBO.WBV.W64</dt><dd>137931</dd><dt>WBV.WBO.W23</dt><dd>81789</dd><dt>WBV.WBR.W12</dt><dd>33975</dd></dl>\n"
      ],
      "text/latex": [
       "\\begin{description*}\n",
       "\\item[WBB.WBV.W69] 147798\n",
       "\\item[WBG.WBG.W44] 59287\n",
       "\\item[WBO.WBV.W64] 137931\n",
       "\\item[WBV.WBO.W23] 81789\n",
       "\\item[WBV.WBR.W12] 33975\n",
       "\\end{description*}\n"
      ],
      "text/markdown": [
       "WBB.WBV.W69\n",
       ":   147798WBG.WBG.W44\n",
       ":   59287WBO.WBV.W64\n",
       ":   137931WBV.WBO.W23\n",
       ":   81789WBV.WBR.W12\n",
       ":   33975\n",
       "\n"
      ],
      "text/plain": [
       "WBB.WBV.W69 WBG.WBG.W44 WBO.WBV.W64 WBV.WBO.W23 WBV.WBR.W12 \n",
       "     147798       59287      137931       81789       33975 "
      ]
     },
     "metadata": {},
     "output_type": "display_data"
    }
   ],
   "source": [
    "CCsample_columns <- CC_multicov[, 6:10] # Select the sample columns\n",
    "\n",
    "# Calculate the number of rows with at least 5 for each sample\n",
    "ML_cc <- colSums(CCsample_columns >= 5)\n",
    "\n",
    "# Print the result\n",
    "ML_cc"
   ]
  },
  {
   "cell_type": "code",
   "execution_count": 14,
   "id": "f9838618-38a8-4c30-97d8-1b503ed24dfd",
   "metadata": {},
   "outputs": [
    {
     "data": {
      "text/html": [
       "14458702"
      ],
      "text/latex": [
       "14458702"
      ],
      "text/markdown": [
       "14458702"
      ],
      "text/plain": [
       "[1] 14458702"
      ]
     },
     "metadata": {},
     "output_type": "display_data"
    }
   ],
   "source": [
    "# total number of CpG dinucleotides \n",
    "total_cg <- dim(CC_multicov)[1]\n",
    "total_cg"
   ]
  },
  {
   "cell_type": "code",
   "execution_count": 15,
   "id": "09c3fe65-9455-4a59-aff4-15bd990d9c78",
   "metadata": {},
   "outputs": [
    {
     "data": {
      "text/html": [
       "<table class=\"dataframe\">\n",
       "<caption>A data.frame: 5 × 3</caption>\n",
       "<thead>\n",
       "\t<tr><th scope=col>sampleID</th><th scope=col>methyl_count</th><th scope=col>treatment</th></tr>\n",
       "\t<tr><th scope=col>&lt;chr&gt;</th><th scope=col>&lt;dbl&gt;</th><th scope=col>&lt;chr&gt;</th></tr>\n",
       "</thead>\n",
       "<tbody>\n",
       "\t<tr><td>WBBWBVW69</td><td>147798</td><td>CC</td></tr>\n",
       "\t<tr><td>WBGWBGW44</td><td> 59287</td><td>CC</td></tr>\n",
       "\t<tr><td>WBOWBVW64</td><td>137931</td><td>CC</td></tr>\n",
       "\t<tr><td>WBVWBOW23</td><td> 81789</td><td>CC</td></tr>\n",
       "\t<tr><td>WBVWBRW12</td><td> 33975</td><td>CC</td></tr>\n",
       "</tbody>\n",
       "</table>\n"
      ],
      "text/latex": [
       "A data.frame: 5 × 3\n",
       "\\begin{tabular}{lll}\n",
       " sampleID & methyl\\_count & treatment\\\\\n",
       " <chr> & <dbl> & <chr>\\\\\n",
       "\\hline\n",
       "\t WBBWBVW69 & 147798 & CC\\\\\n",
       "\t WBGWBGW44 &  59287 & CC\\\\\n",
       "\t WBOWBVW64 & 137931 & CC\\\\\n",
       "\t WBVWBOW23 &  81789 & CC\\\\\n",
       "\t WBVWBRW12 &  33975 & CC\\\\\n",
       "\\end{tabular}\n"
      ],
      "text/markdown": [
       "\n",
       "A data.frame: 5 × 3\n",
       "\n",
       "| sampleID &lt;chr&gt; | methyl_count &lt;dbl&gt; | treatment &lt;chr&gt; |\n",
       "|---|---|---|\n",
       "| WBBWBVW69 | 147798 | CC |\n",
       "| WBGWBGW44 |  59287 | CC |\n",
       "| WBOWBVW64 | 137931 | CC |\n",
       "| WBVWBOW23 |  81789 | CC |\n",
       "| WBVWBRW12 |  33975 | CC |\n",
       "\n"
      ],
      "text/plain": [
       "  sampleID  methyl_count treatment\n",
       "1 WBBWBVW69 147798       CC       \n",
       "2 WBGWBGW44  59287       CC       \n",
       "3 WBOWBVW64 137931       CC       \n",
       "4 WBVWBOW23  81789       CC       \n",
       "5 WBVWBRW12  33975       CC       "
      ]
     },
     "metadata": {},
     "output_type": "display_data"
    }
   ],
   "source": [
    "CCml_cpg <- ML_cc %>%\n",
    "  as.data.frame() %>% # create df\n",
    "  rownames_to_column(\"sampleID\") %>% # add col for sample IDs\n",
    "  mutate(treatment = \"CC\") %>% # add treatment info for merging\n",
    "  `colnames<-`(., c(\"sampleID\", \"methyl_count\", \"treatment\")) %>% # rename columns\n",
    "  mutate(sampleID = gsub(\"\\\\.\", \"\", sampleID)) # remove . in sample IDs\n",
    "\n",
    "CCml_cpg"
   ]
  },
  {
   "cell_type": "code",
   "execution_count": 16,
   "id": "1153ade5-5572-49d9-b4f2-a5e607e8bb43",
   "metadata": {},
   "outputs": [
    {
     "data": {
      "text/html": [
       "<table class=\"dataframe\">\n",
       "<caption>A data.frame: 5 × 4</caption>\n",
       "<thead>\n",
       "\t<tr><th scope=col>sampleID</th><th scope=col>methyl_count</th><th scope=col>treatment</th><th scope=col>methyl_level</th></tr>\n",
       "\t<tr><th scope=col>&lt;chr&gt;</th><th scope=col>&lt;dbl&gt;</th><th scope=col>&lt;chr&gt;</th><th scope=col>&lt;dbl&gt;</th></tr>\n",
       "</thead>\n",
       "<tbody>\n",
       "\t<tr><td>WBBWBVW69</td><td>147798</td><td>CC</td><td>1.022</td></tr>\n",
       "\t<tr><td>WBGWBGW44</td><td> 59287</td><td>CC</td><td>0.410</td></tr>\n",
       "\t<tr><td>WBOWBVW64</td><td>137931</td><td>CC</td><td>0.954</td></tr>\n",
       "\t<tr><td>WBVWBOW23</td><td> 81789</td><td>CC</td><td>0.566</td></tr>\n",
       "\t<tr><td>WBVWBRW12</td><td> 33975</td><td>CC</td><td>0.235</td></tr>\n",
       "</tbody>\n",
       "</table>\n"
      ],
      "text/latex": [
       "A data.frame: 5 × 4\n",
       "\\begin{tabular}{llll}\n",
       " sampleID & methyl\\_count & treatment & methyl\\_level\\\\\n",
       " <chr> & <dbl> & <chr> & <dbl>\\\\\n",
       "\\hline\n",
       "\t WBBWBVW69 & 147798 & CC & 1.022\\\\\n",
       "\t WBGWBGW44 &  59287 & CC & 0.410\\\\\n",
       "\t WBOWBVW64 & 137931 & CC & 0.954\\\\\n",
       "\t WBVWBOW23 &  81789 & CC & 0.566\\\\\n",
       "\t WBVWBRW12 &  33975 & CC & 0.235\\\\\n",
       "\\end{tabular}\n"
      ],
      "text/markdown": [
       "\n",
       "A data.frame: 5 × 4\n",
       "\n",
       "| sampleID &lt;chr&gt; | methyl_count &lt;dbl&gt; | treatment &lt;chr&gt; | methyl_level &lt;dbl&gt; |\n",
       "|---|---|---|---|\n",
       "| WBBWBVW69 | 147798 | CC | 1.022 |\n",
       "| WBGWBGW44 |  59287 | CC | 0.410 |\n",
       "| WBOWBVW64 | 137931 | CC | 0.954 |\n",
       "| WBVWBOW23 |  81789 | CC | 0.566 |\n",
       "| WBVWBRW12 |  33975 | CC | 0.235 |\n",
       "\n"
      ],
      "text/plain": [
       "  sampleID  methyl_count treatment methyl_level\n",
       "1 WBBWBVW69 147798       CC        1.022       \n",
       "2 WBGWBGW44  59287       CC        0.410       \n",
       "3 WBOWBVW64 137931       CC        0.954       \n",
       "4 WBVWBOW23  81789       CC        0.566       \n",
       "5 WBVWBRW12  33975       CC        0.235       "
      ]
     },
     "metadata": {},
     "output_type": "display_data"
    }
   ],
   "source": [
    "# calculate methylation level\n",
    "CCml_cpg$methyl_level <- round(((CCml_cpg$methyl_count/total_cg)*100),3)\n",
    "\n",
    "# reorder columns to make sense\n",
    "#CCml_cpg <- select(CCml_cpg, treatment, replicate, methyl_count, methyl_level)\n",
    "\n",
    "CCml_cpg"
   ]
  },
  {
   "cell_type": "markdown",
   "id": "91eafe01-5129-4d5a-9ec0-075a26860b3f",
   "metadata": {},
   "source": [
    "**control hypoxic**"
   ]
  },
  {
   "cell_type": "code",
   "execution_count": 17,
   "id": "9f2b1274-d6c9-4329-9058-5a36c2082fa5",
   "metadata": {},
   "outputs": [
    {
     "data": {
      "text/html": [
       "<table class=\"dataframe\">\n",
       "<caption>A data.frame: 6 × 10</caption>\n",
       "<thead>\n",
       "\t<tr><th></th><th scope=col>X</th><th scope=col>chromosome</th><th scope=col>start</th><th scope=col>stop</th><th scope=col>CG_motif</th><th scope=col>WBG.BBB.W56</th><th scope=col>WBO.BBR.W03</th><th scope=col>WBR.BBY.W25</th><th scope=col>WBY.BBV.W65</th><th scope=col>WBY.BBY.W30</th></tr>\n",
       "\t<tr><th></th><th scope=col>&lt;int&gt;</th><th scope=col>&lt;chr&gt;</th><th scope=col>&lt;int&gt;</th><th scope=col>&lt;int&gt;</th><th scope=col>&lt;chr&gt;</th><th scope=col>&lt;int&gt;</th><th scope=col>&lt;int&gt;</th><th scope=col>&lt;int&gt;</th><th scope=col>&lt;int&gt;</th><th scope=col>&lt;int&gt;</th></tr>\n",
       "</thead>\n",
       "<tbody>\n",
       "\t<tr><th scope=row>1</th><td>1</td><td>NC_035780.1</td><td> 54</td><td> 56</td><td>CG_motif</td><td>0</td><td>0</td><td>0</td><td>0</td><td>0</td></tr>\n",
       "\t<tr><th scope=row>2</th><td>2</td><td>NC_035780.1</td><td> 75</td><td> 77</td><td>CG_motif</td><td>0</td><td>0</td><td>0</td><td>0</td><td>0</td></tr>\n",
       "\t<tr><th scope=row>3</th><td>3</td><td>NC_035780.1</td><td> 93</td><td> 95</td><td>CG_motif</td><td>0</td><td>0</td><td>0</td><td>0</td><td>0</td></tr>\n",
       "\t<tr><th scope=row>4</th><td>4</td><td>NC_035780.1</td><td>103</td><td>105</td><td>CG_motif</td><td>0</td><td>0</td><td>0</td><td>0</td><td>0</td></tr>\n",
       "\t<tr><th scope=row>5</th><td>5</td><td>NC_035780.1</td><td>116</td><td>118</td><td>CG_motif</td><td>0</td><td>0</td><td>0</td><td>0</td><td>0</td></tr>\n",
       "\t<tr><th scope=row>6</th><td>6</td><td>NC_035780.1</td><td>134</td><td>136</td><td>CG_motif</td><td>0</td><td>0</td><td>0</td><td>0</td><td>0</td></tr>\n",
       "</tbody>\n",
       "</table>\n"
      ],
      "text/latex": [
       "A data.frame: 6 × 10\n",
       "\\begin{tabular}{r|llllllllll}\n",
       "  & X & chromosome & start & stop & CG\\_motif & WBG.BBB.W56 & WBO.BBR.W03 & WBR.BBY.W25 & WBY.BBV.W65 & WBY.BBY.W30\\\\\n",
       "  & <int> & <chr> & <int> & <int> & <chr> & <int> & <int> & <int> & <int> & <int>\\\\\n",
       "\\hline\n",
       "\t1 & 1 & NC\\_035780.1 &  54 &  56 & CG\\_motif & 0 & 0 & 0 & 0 & 0\\\\\n",
       "\t2 & 2 & NC\\_035780.1 &  75 &  77 & CG\\_motif & 0 & 0 & 0 & 0 & 0\\\\\n",
       "\t3 & 3 & NC\\_035780.1 &  93 &  95 & CG\\_motif & 0 & 0 & 0 & 0 & 0\\\\\n",
       "\t4 & 4 & NC\\_035780.1 & 103 & 105 & CG\\_motif & 0 & 0 & 0 & 0 & 0\\\\\n",
       "\t5 & 5 & NC\\_035780.1 & 116 & 118 & CG\\_motif & 0 & 0 & 0 & 0 & 0\\\\\n",
       "\t6 & 6 & NC\\_035780.1 & 134 & 136 & CG\\_motif & 0 & 0 & 0 & 0 & 0\\\\\n",
       "\\end{tabular}\n"
      ],
      "text/markdown": [
       "\n",
       "A data.frame: 6 × 10\n",
       "\n",
       "| <!--/--> | X &lt;int&gt; | chromosome &lt;chr&gt; | start &lt;int&gt; | stop &lt;int&gt; | CG_motif &lt;chr&gt; | WBG.BBB.W56 &lt;int&gt; | WBO.BBR.W03 &lt;int&gt; | WBR.BBY.W25 &lt;int&gt; | WBY.BBV.W65 &lt;int&gt; | WBY.BBY.W30 &lt;int&gt; |\n",
       "|---|---|---|---|---|---|---|---|---|---|---|\n",
       "| 1 | 1 | NC_035780.1 |  54 |  56 | CG_motif | 0 | 0 | 0 | 0 | 0 |\n",
       "| 2 | 2 | NC_035780.1 |  75 |  77 | CG_motif | 0 | 0 | 0 | 0 | 0 |\n",
       "| 3 | 3 | NC_035780.1 |  93 |  95 | CG_motif | 0 | 0 | 0 | 0 | 0 |\n",
       "| 4 | 4 | NC_035780.1 | 103 | 105 | CG_motif | 0 | 0 | 0 | 0 | 0 |\n",
       "| 5 | 5 | NC_035780.1 | 116 | 118 | CG_motif | 0 | 0 | 0 | 0 | 0 |\n",
       "| 6 | 6 | NC_035780.1 | 134 | 136 | CG_motif | 0 | 0 | 0 | 0 | 0 |\n",
       "\n"
      ],
      "text/plain": [
       "  X chromosome  start stop CG_motif WBG.BBB.W56 WBO.BBR.W03 WBR.BBY.W25\n",
       "1 1 NC_035780.1  54    56  CG_motif 0           0           0          \n",
       "2 2 NC_035780.1  75    77  CG_motif 0           0           0          \n",
       "3 3 NC_035780.1  93    95  CG_motif 0           0           0          \n",
       "4 4 NC_035780.1 103   105  CG_motif 0           0           0          \n",
       "5 5 NC_035780.1 116   118  CG_motif 0           0           0          \n",
       "6 6 NC_035780.1 134   136  CG_motif 0           0           0          \n",
       "  WBY.BBV.W65 WBY.BBY.W30\n",
       "1 0           0          \n",
       "2 0           0          \n",
       "3 0           0          \n",
       "4 0           0          \n",
       "5 0           0          \n",
       "6 0           0          "
      ]
     },
     "metadata": {},
     "output_type": "display_data"
    }
   ],
   "source": [
    "CH_multicov <- read.csv(\"/project/pi_sarah_gignouxwolfsohn_uml_edu/julia/CE_methyl_assembly/assembly_pipeline_files/genomic_bed_files/CpG_multicov/CH_CpGmulticov.csv\")\n",
    "head(CH_multicov)"
   ]
  },
  {
   "cell_type": "code",
   "execution_count": 18,
   "id": "de2b7148-bc42-4da8-b9de-359edf365bd6",
   "metadata": {},
   "outputs": [
    {
     "data": {
      "text/html": [
       "<style>\n",
       ".dl-inline {width: auto; margin:0; padding: 0}\n",
       ".dl-inline>dt, .dl-inline>dd {float: none; width: auto; display: inline-block}\n",
       ".dl-inline>dt::after {content: \":\\0020\"; padding-right: .5ex}\n",
       ".dl-inline>dt:not(:first-of-type) {padding-left: .5ex}\n",
       "</style><dl class=dl-inline><dt>WBG.BBB.W56</dt><dd>140077</dd><dt>WBO.BBR.W03</dt><dd>24101</dd><dt>WBR.BBY.W25</dt><dd>73538</dd><dt>WBY.BBV.W65</dt><dd>136233</dd><dt>WBY.BBY.W30</dt><dd>104170</dd></dl>\n"
      ],
      "text/latex": [
       "\\begin{description*}\n",
       "\\item[WBG.BBB.W56] 140077\n",
       "\\item[WBO.BBR.W03] 24101\n",
       "\\item[WBR.BBY.W25] 73538\n",
       "\\item[WBY.BBV.W65] 136233\n",
       "\\item[WBY.BBY.W30] 104170\n",
       "\\end{description*}\n"
      ],
      "text/markdown": [
       "WBG.BBB.W56\n",
       ":   140077WBO.BBR.W03\n",
       ":   24101WBR.BBY.W25\n",
       ":   73538WBY.BBV.W65\n",
       ":   136233WBY.BBY.W30\n",
       ":   104170\n",
       "\n"
      ],
      "text/plain": [
       "WBG.BBB.W56 WBO.BBR.W03 WBR.BBY.W25 WBY.BBV.W65 WBY.BBY.W30 \n",
       "     140077       24101       73538      136233      104170 "
      ]
     },
     "metadata": {},
     "output_type": "display_data"
    }
   ],
   "source": [
    "CHsample_columns <- CH_multicov[,6:10] # Select the sample columns\n",
    "\n",
    "# Calculate the number of rows with at least 5 for each sample\n",
    "ML_ch <- colSums(CHsample_columns >= 5)\n",
    "\n",
    "# Print the result\n",
    "ML_ch"
   ]
  },
  {
   "cell_type": "code",
   "execution_count": 19,
   "id": "9f6552d2-3be7-4e44-a6ee-84056c81e5ac",
   "metadata": {},
   "outputs": [
    {
     "data": {
      "text/html": [
       "<table class=\"dataframe\">\n",
       "<caption>A data.frame: 5 × 3</caption>\n",
       "<thead>\n",
       "\t<tr><th scope=col>sampleID</th><th scope=col>methyl_count</th><th scope=col>treatment</th></tr>\n",
       "\t<tr><th scope=col>&lt;chr&gt;</th><th scope=col>&lt;dbl&gt;</th><th scope=col>&lt;chr&gt;</th></tr>\n",
       "</thead>\n",
       "<tbody>\n",
       "\t<tr><td>WBGBBBW56</td><td>140077</td><td>CH</td></tr>\n",
       "\t<tr><td>WBOBBRW03</td><td> 24101</td><td>CH</td></tr>\n",
       "\t<tr><td>WBRBBYW25</td><td> 73538</td><td>CH</td></tr>\n",
       "\t<tr><td>WBYBBVW65</td><td>136233</td><td>CH</td></tr>\n",
       "\t<tr><td>WBYBBYW30</td><td>104170</td><td>CH</td></tr>\n",
       "</tbody>\n",
       "</table>\n"
      ],
      "text/latex": [
       "A data.frame: 5 × 3\n",
       "\\begin{tabular}{lll}\n",
       " sampleID & methyl\\_count & treatment\\\\\n",
       " <chr> & <dbl> & <chr>\\\\\n",
       "\\hline\n",
       "\t WBGBBBW56 & 140077 & CH\\\\\n",
       "\t WBOBBRW03 &  24101 & CH\\\\\n",
       "\t WBRBBYW25 &  73538 & CH\\\\\n",
       "\t WBYBBVW65 & 136233 & CH\\\\\n",
       "\t WBYBBYW30 & 104170 & CH\\\\\n",
       "\\end{tabular}\n"
      ],
      "text/markdown": [
       "\n",
       "A data.frame: 5 × 3\n",
       "\n",
       "| sampleID &lt;chr&gt; | methyl_count &lt;dbl&gt; | treatment &lt;chr&gt; |\n",
       "|---|---|---|\n",
       "| WBGBBBW56 | 140077 | CH |\n",
       "| WBOBBRW03 |  24101 | CH |\n",
       "| WBRBBYW25 |  73538 | CH |\n",
       "| WBYBBVW65 | 136233 | CH |\n",
       "| WBYBBYW30 | 104170 | CH |\n",
       "\n"
      ],
      "text/plain": [
       "  sampleID  methyl_count treatment\n",
       "1 WBGBBBW56 140077       CH       \n",
       "2 WBOBBRW03  24101       CH       \n",
       "3 WBRBBYW25  73538       CH       \n",
       "4 WBYBBVW65 136233       CH       \n",
       "5 WBYBBYW30 104170       CH       "
      ]
     },
     "metadata": {},
     "output_type": "display_data"
    }
   ],
   "source": [
    "CHml_cpg <- ML_ch %>%\n",
    "  as.data.frame() %>% # create df\n",
    "  rownames_to_column(\"sampleID\") %>% # add col for sample IDs\n",
    "  mutate(treatment = \"CH\") %>% # add treatment info for merging\n",
    "  `colnames<-`(., c(\"sampleID\", \"methyl_count\", \"treatment\")) %>% # rename columns\n",
    "  mutate(sampleID = gsub(\"\\\\.\", \"\", sampleID)) # remove . in sample IDs\n",
    "\n",
    "CHml_cpg"
   ]
  },
  {
   "cell_type": "code",
   "execution_count": 20,
   "id": "860a9600-443f-435d-bab9-37f96f7faec8",
   "metadata": {},
   "outputs": [
    {
     "data": {
      "text/html": [
       "<table class=\"dataframe\">\n",
       "<caption>A data.frame: 5 × 4</caption>\n",
       "<thead>\n",
       "\t<tr><th scope=col>sampleID</th><th scope=col>methyl_count</th><th scope=col>treatment</th><th scope=col>methyl_level</th></tr>\n",
       "\t<tr><th scope=col>&lt;chr&gt;</th><th scope=col>&lt;dbl&gt;</th><th scope=col>&lt;chr&gt;</th><th scope=col>&lt;dbl&gt;</th></tr>\n",
       "</thead>\n",
       "<tbody>\n",
       "\t<tr><td>WBGBBBW56</td><td>140077</td><td>CH</td><td>0.969</td></tr>\n",
       "\t<tr><td>WBOBBRW03</td><td> 24101</td><td>CH</td><td>0.167</td></tr>\n",
       "\t<tr><td>WBRBBYW25</td><td> 73538</td><td>CH</td><td>0.509</td></tr>\n",
       "\t<tr><td>WBYBBVW65</td><td>136233</td><td>CH</td><td>0.942</td></tr>\n",
       "\t<tr><td>WBYBBYW30</td><td>104170</td><td>CH</td><td>0.720</td></tr>\n",
       "</tbody>\n",
       "</table>\n"
      ],
      "text/latex": [
       "A data.frame: 5 × 4\n",
       "\\begin{tabular}{llll}\n",
       " sampleID & methyl\\_count & treatment & methyl\\_level\\\\\n",
       " <chr> & <dbl> & <chr> & <dbl>\\\\\n",
       "\\hline\n",
       "\t WBGBBBW56 & 140077 & CH & 0.969\\\\\n",
       "\t WBOBBRW03 &  24101 & CH & 0.167\\\\\n",
       "\t WBRBBYW25 &  73538 & CH & 0.509\\\\\n",
       "\t WBYBBVW65 & 136233 & CH & 0.942\\\\\n",
       "\t WBYBBYW30 & 104170 & CH & 0.720\\\\\n",
       "\\end{tabular}\n"
      ],
      "text/markdown": [
       "\n",
       "A data.frame: 5 × 4\n",
       "\n",
       "| sampleID &lt;chr&gt; | methyl_count &lt;dbl&gt; | treatment &lt;chr&gt; | methyl_level &lt;dbl&gt; |\n",
       "|---|---|---|---|\n",
       "| WBGBBBW56 | 140077 | CH | 0.969 |\n",
       "| WBOBBRW03 |  24101 | CH | 0.167 |\n",
       "| WBRBBYW25 |  73538 | CH | 0.509 |\n",
       "| WBYBBVW65 | 136233 | CH | 0.942 |\n",
       "| WBYBBYW30 | 104170 | CH | 0.720 |\n",
       "\n"
      ],
      "text/plain": [
       "  sampleID  methyl_count treatment methyl_level\n",
       "1 WBGBBBW56 140077       CH        0.969       \n",
       "2 WBOBBRW03  24101       CH        0.167       \n",
       "3 WBRBBYW25  73538       CH        0.509       \n",
       "4 WBYBBVW65 136233       CH        0.942       \n",
       "5 WBYBBYW30 104170       CH        0.720       "
      ]
     },
     "metadata": {},
     "output_type": "display_data"
    }
   ],
   "source": [
    "# calculate methylation level\n",
    "CHml_cpg$methyl_level <- round(((CHml_cpg$methyl_count/total_cg)*100),3)\n",
    "\n",
    "CHml_cpg"
   ]
  },
  {
   "cell_type": "markdown",
   "id": "a7704876-0359-403d-a947-5f59c30ecb3b",
   "metadata": {},
   "source": [
    "**hypoxic hypoxic**"
   ]
  },
  {
   "cell_type": "code",
   "execution_count": 21,
   "id": "64dff50a-30d7-41e0-b54d-bd2b745413b2",
   "metadata": {},
   "outputs": [],
   "source": [
    "HH_multicov <- read.csv(\"/project/pi_sarah_gignouxwolfsohn_uml_edu/julia/CE_methyl_assembly/assembly_pipeline_files/genomic_bed_files/CpG_multicov/HH_CpGmulticov.csv\")"
   ]
  },
  {
   "cell_type": "code",
   "execution_count": 23,
   "id": "dc10dbf2-914b-450b-9314-7cfe89ce16f8",
   "metadata": {},
   "outputs": [
    {
     "data": {
      "text/html": [
       "<style>\n",
       ".dl-inline {width: auto; margin:0; padding: 0}\n",
       ".dl-inline>dt, .dl-inline>dd {float: none; width: auto; display: inline-block}\n",
       ".dl-inline>dt::after {content: \":\\0020\"; padding-right: .5ex}\n",
       ".dl-inline>dt:not(:first-of-type) {padding-left: .5ex}\n",
       "</style><dl class=dl-inline><dt>BBO.BBO.B16</dt><dd>132674</dd><dt>BBO.BBY.B27</dt><dd>105032</dd><dt>BBR.BBB.B50</dt><dd>104681</dd><dt>BBR.BBG.B38</dt><dd>134384</dd><dt>BBR.BBY.B26</dt><dd>129732</dd></dl>\n"
      ],
      "text/latex": [
       "\\begin{description*}\n",
       "\\item[BBO.BBO.B16] 132674\n",
       "\\item[BBO.BBY.B27] 105032\n",
       "\\item[BBR.BBB.B50] 104681\n",
       "\\item[BBR.BBG.B38] 134384\n",
       "\\item[BBR.BBY.B26] 129732\n",
       "\\end{description*}\n"
      ],
      "text/markdown": [
       "BBO.BBO.B16\n",
       ":   132674BBO.BBY.B27\n",
       ":   105032BBR.BBB.B50\n",
       ":   104681BBR.BBG.B38\n",
       ":   134384BBR.BBY.B26\n",
       ":   129732\n",
       "\n"
      ],
      "text/plain": [
       "BBO.BBO.B16 BBO.BBY.B27 BBR.BBB.B50 BBR.BBG.B38 BBR.BBY.B26 \n",
       "     132674      105032      104681      134384      129732 "
      ]
     },
     "metadata": {},
     "output_type": "display_data"
    }
   ],
   "source": [
    "HHsample_columns <- HH_multicov[,6:10] # Select the sample columns\n",
    "\n",
    "# Calculate the number of rows with at least 5 for each sample\n",
    "ML_hh <- colSums(HHsample_columns >= 5)\n",
    "\n",
    "# Print the result\n",
    "ML_hh"
   ]
  },
  {
   "cell_type": "code",
   "execution_count": 24,
   "id": "8dc7bf7d-59ef-4cad-a7e3-00661319dcda",
   "metadata": {},
   "outputs": [
    {
     "data": {
      "text/html": [
       "<table class=\"dataframe\">\n",
       "<caption>A data.frame: 5 × 3</caption>\n",
       "<thead>\n",
       "\t<tr><th scope=col>sampleID</th><th scope=col>methyl_count</th><th scope=col>treatment</th></tr>\n",
       "\t<tr><th scope=col>&lt;chr&gt;</th><th scope=col>&lt;dbl&gt;</th><th scope=col>&lt;chr&gt;</th></tr>\n",
       "</thead>\n",
       "<tbody>\n",
       "\t<tr><td>BBOBBOB16</td><td>132674</td><td>HH</td></tr>\n",
       "\t<tr><td>BBOBBYB27</td><td>105032</td><td>HH</td></tr>\n",
       "\t<tr><td>BBRBBBB50</td><td>104681</td><td>HH</td></tr>\n",
       "\t<tr><td>BBRBBGB38</td><td>134384</td><td>HH</td></tr>\n",
       "\t<tr><td>BBRBBYB26</td><td>129732</td><td>HH</td></tr>\n",
       "</tbody>\n",
       "</table>\n"
      ],
      "text/latex": [
       "A data.frame: 5 × 3\n",
       "\\begin{tabular}{lll}\n",
       " sampleID & methyl\\_count & treatment\\\\\n",
       " <chr> & <dbl> & <chr>\\\\\n",
       "\\hline\n",
       "\t BBOBBOB16 & 132674 & HH\\\\\n",
       "\t BBOBBYB27 & 105032 & HH\\\\\n",
       "\t BBRBBBB50 & 104681 & HH\\\\\n",
       "\t BBRBBGB38 & 134384 & HH\\\\\n",
       "\t BBRBBYB26 & 129732 & HH\\\\\n",
       "\\end{tabular}\n"
      ],
      "text/markdown": [
       "\n",
       "A data.frame: 5 × 3\n",
       "\n",
       "| sampleID &lt;chr&gt; | methyl_count &lt;dbl&gt; | treatment &lt;chr&gt; |\n",
       "|---|---|---|\n",
       "| BBOBBOB16 | 132674 | HH |\n",
       "| BBOBBYB27 | 105032 | HH |\n",
       "| BBRBBBB50 | 104681 | HH |\n",
       "| BBRBBGB38 | 134384 | HH |\n",
       "| BBRBBYB26 | 129732 | HH |\n",
       "\n"
      ],
      "text/plain": [
       "  sampleID  methyl_count treatment\n",
       "1 BBOBBOB16 132674       HH       \n",
       "2 BBOBBYB27 105032       HH       \n",
       "3 BBRBBBB50 104681       HH       \n",
       "4 BBRBBGB38 134384       HH       \n",
       "5 BBRBBYB26 129732       HH       "
      ]
     },
     "metadata": {},
     "output_type": "display_data"
    }
   ],
   "source": [
    "HHml_cpg <- ML_hh %>%\n",
    "  as.data.frame() %>% # create df\n",
    "  rownames_to_column(\"sampleID\") %>% # add col for sample IDs\n",
    "  mutate(treatment = \"HH\") %>% # add treatment info for merging\n",
    "  `colnames<-`(., c(\"sampleID\", \"methyl_count\", \"treatment\")) %>% # rename columns\n",
    "  mutate(sampleID = gsub(\"\\\\.\", \"\", sampleID)) # remove . in sample IDs\n",
    "\n",
    "HHml_cpg"
   ]
  },
  {
   "cell_type": "code",
   "execution_count": 25,
   "id": "fb5651f9-e606-4fd2-b85a-36541aada564",
   "metadata": {},
   "outputs": [
    {
     "data": {
      "text/html": [
       "<table class=\"dataframe\">\n",
       "<caption>A data.frame: 5 × 4</caption>\n",
       "<thead>\n",
       "\t<tr><th scope=col>sampleID</th><th scope=col>methyl_count</th><th scope=col>treatment</th><th scope=col>methyl_level</th></tr>\n",
       "\t<tr><th scope=col>&lt;chr&gt;</th><th scope=col>&lt;dbl&gt;</th><th scope=col>&lt;chr&gt;</th><th scope=col>&lt;dbl&gt;</th></tr>\n",
       "</thead>\n",
       "<tbody>\n",
       "\t<tr><td>BBOBBOB16</td><td>132674</td><td>HH</td><td>0.918</td></tr>\n",
       "\t<tr><td>BBOBBYB27</td><td>105032</td><td>HH</td><td>0.726</td></tr>\n",
       "\t<tr><td>BBRBBBB50</td><td>104681</td><td>HH</td><td>0.724</td></tr>\n",
       "\t<tr><td>BBRBBGB38</td><td>134384</td><td>HH</td><td>0.929</td></tr>\n",
       "\t<tr><td>BBRBBYB26</td><td>129732</td><td>HH</td><td>0.897</td></tr>\n",
       "</tbody>\n",
       "</table>\n"
      ],
      "text/latex": [
       "A data.frame: 5 × 4\n",
       "\\begin{tabular}{llll}\n",
       " sampleID & methyl\\_count & treatment & methyl\\_level\\\\\n",
       " <chr> & <dbl> & <chr> & <dbl>\\\\\n",
       "\\hline\n",
       "\t BBOBBOB16 & 132674 & HH & 0.918\\\\\n",
       "\t BBOBBYB27 & 105032 & HH & 0.726\\\\\n",
       "\t BBRBBBB50 & 104681 & HH & 0.724\\\\\n",
       "\t BBRBBGB38 & 134384 & HH & 0.929\\\\\n",
       "\t BBRBBYB26 & 129732 & HH & 0.897\\\\\n",
       "\\end{tabular}\n"
      ],
      "text/markdown": [
       "\n",
       "A data.frame: 5 × 4\n",
       "\n",
       "| sampleID &lt;chr&gt; | methyl_count &lt;dbl&gt; | treatment &lt;chr&gt; | methyl_level &lt;dbl&gt; |\n",
       "|---|---|---|---|\n",
       "| BBOBBOB16 | 132674 | HH | 0.918 |\n",
       "| BBOBBYB27 | 105032 | HH | 0.726 |\n",
       "| BBRBBBB50 | 104681 | HH | 0.724 |\n",
       "| BBRBBGB38 | 134384 | HH | 0.929 |\n",
       "| BBRBBYB26 | 129732 | HH | 0.897 |\n",
       "\n"
      ],
      "text/plain": [
       "  sampleID  methyl_count treatment methyl_level\n",
       "1 BBOBBOB16 132674       HH        0.918       \n",
       "2 BBOBBYB27 105032       HH        0.726       \n",
       "3 BBRBBBB50 104681       HH        0.724       \n",
       "4 BBRBBGB38 134384       HH        0.929       \n",
       "5 BBRBBYB26 129732       HH        0.897       "
      ]
     },
     "metadata": {},
     "output_type": "display_data"
    }
   ],
   "source": [
    "# calculate methylation level\n",
    "HHml_cpg$methyl_level <- round(((HHml_cpg$methyl_count/total_cg)*100),3)\n",
    "\n",
    "HHml_cpg"
   ]
  },
  {
   "cell_type": "markdown",
   "id": "1563219f-0d74-4387-a2d8-8d44ba25c5b5",
   "metadata": {},
   "source": [
    "**hypoxic control**"
   ]
  },
  {
   "cell_type": "code",
   "execution_count": 26,
   "id": "59300c3d-4656-4d2e-8201-95b22962bc5b",
   "metadata": {},
   "outputs": [],
   "source": [
    "HC_multicov <- read.csv(\"/project/pi_sarah_gignouxwolfsohn_uml_edu/julia/CE_methyl_assembly/assembly_pipeline_files/genomic_bed_files/CpG_multicov/HC_CpGmulticov.csv\")"
   ]
  },
  {
   "cell_type": "code",
   "execution_count": 27,
   "id": "81b91d04-c849-45c6-80f1-42405f1375a4",
   "metadata": {},
   "outputs": [
    {
     "data": {
      "text/html": [
       "<style>\n",
       ".dl-inline {width: auto; margin:0; padding: 0}\n",
       ".dl-inline>dt, .dl-inline>dd {float: none; width: auto; display: inline-block}\n",
       ".dl-inline>dt::after {content: \":\\0020\"; padding-right: .5ex}\n",
       ".dl-inline>dt:not(:first-of-type) {padding-left: .5ex}\n",
       "</style><dl class=dl-inline><dt>BBB.WBO.B21</dt><dd>138394</dd><dt>BBB.WBV.B70</dt><dd>136261</dd><dt>BBO.WBO.B16</dt><dd>149013</dd><dt>BBO.WBV.B64</dt><dd>136293</dd><dt>BBY.WBG.B42</dt><dd>67842</dd></dl>\n"
      ],
      "text/latex": [
       "\\begin{description*}\n",
       "\\item[BBB.WBO.B21] 138394\n",
       "\\item[BBB.WBV.B70] 136261\n",
       "\\item[BBO.WBO.B16] 149013\n",
       "\\item[BBO.WBV.B64] 136293\n",
       "\\item[BBY.WBG.B42] 67842\n",
       "\\end{description*}\n"
      ],
      "text/markdown": [
       "BBB.WBO.B21\n",
       ":   138394BBB.WBV.B70\n",
       ":   136261BBO.WBO.B16\n",
       ":   149013BBO.WBV.B64\n",
       ":   136293BBY.WBG.B42\n",
       ":   67842\n",
       "\n"
      ],
      "text/plain": [
       "BBB.WBO.B21 BBB.WBV.B70 BBO.WBO.B16 BBO.WBV.B64 BBY.WBG.B42 \n",
       "     138394      136261      149013      136293       67842 "
      ]
     },
     "metadata": {},
     "output_type": "display_data"
    }
   ],
   "source": [
    "HCsample_columns <- HC_multicov[, 6:10] # Select the sample columns\n",
    "\n",
    "# Calculate the number of rows with at least 5 for each sample\n",
    "ML_hc <- colSums(HCsample_columns >= 5)\n",
    "\n",
    "# Print the result\n",
    "ML_hc"
   ]
  },
  {
   "cell_type": "code",
   "execution_count": 28,
   "id": "2bca8489-8684-4f5a-a52c-2f8373b4ca4d",
   "metadata": {},
   "outputs": [
    {
     "data": {
      "text/html": [
       "<table class=\"dataframe\">\n",
       "<caption>A data.frame: 5 × 3</caption>\n",
       "<thead>\n",
       "\t<tr><th scope=col>sampleID</th><th scope=col>methyl_count</th><th scope=col>treatment</th></tr>\n",
       "\t<tr><th scope=col>&lt;chr&gt;</th><th scope=col>&lt;dbl&gt;</th><th scope=col>&lt;chr&gt;</th></tr>\n",
       "</thead>\n",
       "<tbody>\n",
       "\t<tr><td>BBBWBOB21</td><td>138394</td><td>HC</td></tr>\n",
       "\t<tr><td>BBBWBVB70</td><td>136261</td><td>HC</td></tr>\n",
       "\t<tr><td>BBOWBOB16</td><td>149013</td><td>HC</td></tr>\n",
       "\t<tr><td>BBOWBVB64</td><td>136293</td><td>HC</td></tr>\n",
       "\t<tr><td>BBYWBGB42</td><td> 67842</td><td>HC</td></tr>\n",
       "</tbody>\n",
       "</table>\n"
      ],
      "text/latex": [
       "A data.frame: 5 × 3\n",
       "\\begin{tabular}{lll}\n",
       " sampleID & methyl\\_count & treatment\\\\\n",
       " <chr> & <dbl> & <chr>\\\\\n",
       "\\hline\n",
       "\t BBBWBOB21 & 138394 & HC\\\\\n",
       "\t BBBWBVB70 & 136261 & HC\\\\\n",
       "\t BBOWBOB16 & 149013 & HC\\\\\n",
       "\t BBOWBVB64 & 136293 & HC\\\\\n",
       "\t BBYWBGB42 &  67842 & HC\\\\\n",
       "\\end{tabular}\n"
      ],
      "text/markdown": [
       "\n",
       "A data.frame: 5 × 3\n",
       "\n",
       "| sampleID &lt;chr&gt; | methyl_count &lt;dbl&gt; | treatment &lt;chr&gt; |\n",
       "|---|---|---|\n",
       "| BBBWBOB21 | 138394 | HC |\n",
       "| BBBWBVB70 | 136261 | HC |\n",
       "| BBOWBOB16 | 149013 | HC |\n",
       "| BBOWBVB64 | 136293 | HC |\n",
       "| BBYWBGB42 |  67842 | HC |\n",
       "\n"
      ],
      "text/plain": [
       "  sampleID  methyl_count treatment\n",
       "1 BBBWBOB21 138394       HC       \n",
       "2 BBBWBVB70 136261       HC       \n",
       "3 BBOWBOB16 149013       HC       \n",
       "4 BBOWBVB64 136293       HC       \n",
       "5 BBYWBGB42  67842       HC       "
      ]
     },
     "metadata": {},
     "output_type": "display_data"
    }
   ],
   "source": [
    "HCml_cpg <- ML_hc %>%\n",
    "  as.data.frame() %>% # create df\n",
    "  rownames_to_column(\"sampleID\") %>% # add col for sample IDs\n",
    "  mutate(treatment = \"HC\") %>% # add treatment info for merging\n",
    "  `colnames<-`(., c(\"sampleID\", \"methyl_count\", \"treatment\")) %>% # rename columns\n",
    "  mutate(sampleID = gsub(\"\\\\.\", \"\", sampleID)) # remove . in sample IDs\n",
    "\n",
    "HCml_cpg"
   ]
  },
  {
   "cell_type": "code",
   "execution_count": 29,
   "id": "e44a1e7e-c3cd-4a84-9f29-a1df4faa965b",
   "metadata": {},
   "outputs": [
    {
     "data": {
      "text/html": [
       "<table class=\"dataframe\">\n",
       "<caption>A data.frame: 5 × 4</caption>\n",
       "<thead>\n",
       "\t<tr><th scope=col>sampleID</th><th scope=col>methyl_count</th><th scope=col>treatment</th><th scope=col>methyl_level</th></tr>\n",
       "\t<tr><th scope=col>&lt;chr&gt;</th><th scope=col>&lt;dbl&gt;</th><th scope=col>&lt;chr&gt;</th><th scope=col>&lt;dbl&gt;</th></tr>\n",
       "</thead>\n",
       "<tbody>\n",
       "\t<tr><td>BBBWBOB21</td><td>138394</td><td>HC</td><td>0.96</td></tr>\n",
       "\t<tr><td>BBBWBVB70</td><td>136261</td><td>HC</td><td>0.94</td></tr>\n",
       "\t<tr><td>BBOWBOB16</td><td>149013</td><td>HC</td><td>1.03</td></tr>\n",
       "\t<tr><td>BBOWBVB64</td><td>136293</td><td>HC</td><td>0.94</td></tr>\n",
       "\t<tr><td>BBYWBGB42</td><td> 67842</td><td>HC</td><td>0.47</td></tr>\n",
       "</tbody>\n",
       "</table>\n"
      ],
      "text/latex": [
       "A data.frame: 5 × 4\n",
       "\\begin{tabular}{llll}\n",
       " sampleID & methyl\\_count & treatment & methyl\\_level\\\\\n",
       " <chr> & <dbl> & <chr> & <dbl>\\\\\n",
       "\\hline\n",
       "\t BBBWBOB21 & 138394 & HC & 0.96\\\\\n",
       "\t BBBWBVB70 & 136261 & HC & 0.94\\\\\n",
       "\t BBOWBOB16 & 149013 & HC & 1.03\\\\\n",
       "\t BBOWBVB64 & 136293 & HC & 0.94\\\\\n",
       "\t BBYWBGB42 &  67842 & HC & 0.47\\\\\n",
       "\\end{tabular}\n"
      ],
      "text/markdown": [
       "\n",
       "A data.frame: 5 × 4\n",
       "\n",
       "| sampleID &lt;chr&gt; | methyl_count &lt;dbl&gt; | treatment &lt;chr&gt; | methyl_level &lt;dbl&gt; |\n",
       "|---|---|---|---|\n",
       "| BBBWBOB21 | 138394 | HC | 0.96 |\n",
       "| BBBWBVB70 | 136261 | HC | 0.94 |\n",
       "| BBOWBOB16 | 149013 | HC | 1.03 |\n",
       "| BBOWBVB64 | 136293 | HC | 0.94 |\n",
       "| BBYWBGB42 |  67842 | HC | 0.47 |\n",
       "\n"
      ],
      "text/plain": [
       "  sampleID  methyl_count treatment methyl_level\n",
       "1 BBBWBOB21 138394       HC        0.96        \n",
       "2 BBBWBVB70 136261       HC        0.94        \n",
       "3 BBOWBOB16 149013       HC        1.03        \n",
       "4 BBOWBVB64 136293       HC        0.94        \n",
       "5 BBYWBGB42  67842       HC        0.47        "
      ]
     },
     "metadata": {},
     "output_type": "display_data"
    }
   ],
   "source": [
    "# calculate methylation level\n",
    "HCml_cpg$methyl_level <- round(((HCml_cpg$methyl_count/total_cg)*100),2)\n",
    "\n",
    "HCml_cpg"
   ]
  },
  {
   "cell_type": "code",
   "execution_count": 30,
   "id": "2fea14d3-7649-4923-a03b-e6f258614b5b",
   "metadata": {},
   "outputs": [
    {
     "data": {
      "text/html": [
       "<table class=\"dataframe\">\n",
       "<caption>A data.frame: 20 × 4</caption>\n",
       "<thead>\n",
       "\t<tr><th scope=col>sampleID</th><th scope=col>methyl_count</th><th scope=col>treatment</th><th scope=col>methyl_level</th></tr>\n",
       "\t<tr><th scope=col>&lt;chr&gt;</th><th scope=col>&lt;dbl&gt;</th><th scope=col>&lt;chr&gt;</th><th scope=col>&lt;dbl&gt;</th></tr>\n",
       "</thead>\n",
       "<tbody>\n",
       "\t<tr><td>WBBWBVW69</td><td>147798</td><td>CC</td><td>1.022</td></tr>\n",
       "\t<tr><td>WBGWBGW44</td><td> 59287</td><td>CC</td><td>0.410</td></tr>\n",
       "\t<tr><td>WBOWBVW64</td><td>137931</td><td>CC</td><td>0.954</td></tr>\n",
       "\t<tr><td>WBVWBOW23</td><td> 81789</td><td>CC</td><td>0.566</td></tr>\n",
       "\t<tr><td>WBVWBRW12</td><td> 33975</td><td>CC</td><td>0.235</td></tr>\n",
       "\t<tr><td>WBGBBBW56</td><td>140077</td><td>CH</td><td>0.969</td></tr>\n",
       "\t<tr><td>WBOBBRW03</td><td> 24101</td><td>CH</td><td>0.167</td></tr>\n",
       "\t<tr><td>WBRBBYW25</td><td> 73538</td><td>CH</td><td>0.509</td></tr>\n",
       "\t<tr><td>WBYBBVW65</td><td>136233</td><td>CH</td><td>0.942</td></tr>\n",
       "\t<tr><td>WBYBBYW30</td><td>104170</td><td>CH</td><td>0.720</td></tr>\n",
       "\t<tr><td>BBBWBOB21</td><td>138394</td><td>HC</td><td>0.960</td></tr>\n",
       "\t<tr><td>BBBWBVB70</td><td>136261</td><td>HC</td><td>0.940</td></tr>\n",
       "\t<tr><td>BBOWBOB16</td><td>149013</td><td>HC</td><td>1.030</td></tr>\n",
       "\t<tr><td>BBOWBVB64</td><td>136293</td><td>HC</td><td>0.940</td></tr>\n",
       "\t<tr><td>BBYWBGB42</td><td> 67842</td><td>HC</td><td>0.470</td></tr>\n",
       "\t<tr><td>BBOBBOB16</td><td>132674</td><td>HH</td><td>0.918</td></tr>\n",
       "\t<tr><td>BBOBBYB27</td><td>105032</td><td>HH</td><td>0.726</td></tr>\n",
       "\t<tr><td>BBRBBBB50</td><td>104681</td><td>HH</td><td>0.724</td></tr>\n",
       "\t<tr><td>BBRBBGB38</td><td>134384</td><td>HH</td><td>0.929</td></tr>\n",
       "\t<tr><td>BBRBBYB26</td><td>129732</td><td>HH</td><td>0.897</td></tr>\n",
       "</tbody>\n",
       "</table>\n"
      ],
      "text/latex": [
       "A data.frame: 20 × 4\n",
       "\\begin{tabular}{llll}\n",
       " sampleID & methyl\\_count & treatment & methyl\\_level\\\\\n",
       " <chr> & <dbl> & <chr> & <dbl>\\\\\n",
       "\\hline\n",
       "\t WBBWBVW69 & 147798 & CC & 1.022\\\\\n",
       "\t WBGWBGW44 &  59287 & CC & 0.410\\\\\n",
       "\t WBOWBVW64 & 137931 & CC & 0.954\\\\\n",
       "\t WBVWBOW23 &  81789 & CC & 0.566\\\\\n",
       "\t WBVWBRW12 &  33975 & CC & 0.235\\\\\n",
       "\t WBGBBBW56 & 140077 & CH & 0.969\\\\\n",
       "\t WBOBBRW03 &  24101 & CH & 0.167\\\\\n",
       "\t WBRBBYW25 &  73538 & CH & 0.509\\\\\n",
       "\t WBYBBVW65 & 136233 & CH & 0.942\\\\\n",
       "\t WBYBBYW30 & 104170 & CH & 0.720\\\\\n",
       "\t BBBWBOB21 & 138394 & HC & 0.960\\\\\n",
       "\t BBBWBVB70 & 136261 & HC & 0.940\\\\\n",
       "\t BBOWBOB16 & 149013 & HC & 1.030\\\\\n",
       "\t BBOWBVB64 & 136293 & HC & 0.940\\\\\n",
       "\t BBYWBGB42 &  67842 & HC & 0.470\\\\\n",
       "\t BBOBBOB16 & 132674 & HH & 0.918\\\\\n",
       "\t BBOBBYB27 & 105032 & HH & 0.726\\\\\n",
       "\t BBRBBBB50 & 104681 & HH & 0.724\\\\\n",
       "\t BBRBBGB38 & 134384 & HH & 0.929\\\\\n",
       "\t BBRBBYB26 & 129732 & HH & 0.897\\\\\n",
       "\\end{tabular}\n"
      ],
      "text/markdown": [
       "\n",
       "A data.frame: 20 × 4\n",
       "\n",
       "| sampleID &lt;chr&gt; | methyl_count &lt;dbl&gt; | treatment &lt;chr&gt; | methyl_level &lt;dbl&gt; |\n",
       "|---|---|---|---|\n",
       "| WBBWBVW69 | 147798 | CC | 1.022 |\n",
       "| WBGWBGW44 |  59287 | CC | 0.410 |\n",
       "| WBOWBVW64 | 137931 | CC | 0.954 |\n",
       "| WBVWBOW23 |  81789 | CC | 0.566 |\n",
       "| WBVWBRW12 |  33975 | CC | 0.235 |\n",
       "| WBGBBBW56 | 140077 | CH | 0.969 |\n",
       "| WBOBBRW03 |  24101 | CH | 0.167 |\n",
       "| WBRBBYW25 |  73538 | CH | 0.509 |\n",
       "| WBYBBVW65 | 136233 | CH | 0.942 |\n",
       "| WBYBBYW30 | 104170 | CH | 0.720 |\n",
       "| BBBWBOB21 | 138394 | HC | 0.960 |\n",
       "| BBBWBVB70 | 136261 | HC | 0.940 |\n",
       "| BBOWBOB16 | 149013 | HC | 1.030 |\n",
       "| BBOWBVB64 | 136293 | HC | 0.940 |\n",
       "| BBYWBGB42 |  67842 | HC | 0.470 |\n",
       "| BBOBBOB16 | 132674 | HH | 0.918 |\n",
       "| BBOBBYB27 | 105032 | HH | 0.726 |\n",
       "| BBRBBBB50 | 104681 | HH | 0.724 |\n",
       "| BBRBBGB38 | 134384 | HH | 0.929 |\n",
       "| BBRBBYB26 | 129732 | HH | 0.897 |\n",
       "\n"
      ],
      "text/plain": [
       "   sampleID  methyl_count treatment methyl_level\n",
       "1  WBBWBVW69 147798       CC        1.022       \n",
       "2  WBGWBGW44  59287       CC        0.410       \n",
       "3  WBOWBVW64 137931       CC        0.954       \n",
       "4  WBVWBOW23  81789       CC        0.566       \n",
       "5  WBVWBRW12  33975       CC        0.235       \n",
       "6  WBGBBBW56 140077       CH        0.969       \n",
       "7  WBOBBRW03  24101       CH        0.167       \n",
       "8  WBRBBYW25  73538       CH        0.509       \n",
       "9  WBYBBVW65 136233       CH        0.942       \n",
       "10 WBYBBYW30 104170       CH        0.720       \n",
       "11 BBBWBOB21 138394       HC        0.960       \n",
       "12 BBBWBVB70 136261       HC        0.940       \n",
       "13 BBOWBOB16 149013       HC        1.030       \n",
       "14 BBOWBVB64 136293       HC        0.940       \n",
       "15 BBYWBGB42  67842       HC        0.470       \n",
       "16 BBOBBOB16 132674       HH        0.918       \n",
       "17 BBOBBYB27 105032       HH        0.726       \n",
       "18 BBRBBBB50 104681       HH        0.724       \n",
       "19 BBRBBGB38 134384       HH        0.929       \n",
       "20 BBRBBYB26 129732       HH        0.897       "
      ]
     },
     "metadata": {},
     "output_type": "display_data"
    }
   ],
   "source": [
    "cg_meLevel <- rbind(CCml_cpg, CHml_cpg, HCml_cpg, HHml_cpg)\n",
    "cg_meLevel"
   ]
  },
  {
   "cell_type": "code",
   "execution_count": 31,
   "id": "7c070ad7-4126-435a-a44c-e8faa976fc6a",
   "metadata": {},
   "outputs": [],
   "source": [
    "# create csv to avoid running long code above\n",
    "write.csv(cg_meLevel, '/project/pi_sarah_gignouxwolfsohn_uml_edu/julia/CE_MethylRAD_analysis_2018/analysis/genomic_feature_tracks/methylation_level/CpG_meLevel_withSampleNames.csv')"
   ]
  },
  {
   "cell_type": "markdown",
   "id": "fa81b227-7c7f-4dbd-91c4-c0e8717bb8ba",
   "metadata": {},
   "source": [
    "**IF ALREADY RAN ABOVE CODE** just load in csv:"
   ]
  },
  {
   "cell_type": "code",
   "execution_count": 3,
   "id": "efc2ffc4-c341-4832-84e4-5e16cf63e6aa",
   "metadata": {},
   "outputs": [],
   "source": [
    "cg_meLevel <- read.csv('/project/pi_sarah_gignouxwolfsohn_uml_edu/julia/CE_MethylRAD_analysis_2018/analysis/genomic_feature_tracks/methylation_level/CpG_meLevel.csv')"
   ]
  },
  {
   "cell_type": "code",
   "execution_count": 7,
   "id": "5a594ed8-5df7-496f-abb4-14bac97cb623",
   "metadata": {},
   "outputs": [
    {
     "name": "stderr",
     "output_type": "stream",
     "text": [
      "Warning message:\n",
      "“\u001b[1m\u001b[22mUsing `size` aesthetic for lines was deprecated in ggplot2 3.4.0.\n",
      "\u001b[36mℹ\u001b[39m Please use `linewidth` instead.”\n",
      "Warning message:\n",
      "“\u001b[1m\u001b[22mThe `<scale>` argument of `guides()` cannot be `FALSE`. Use \"none\" instead as\n",
      "of ggplot2 3.3.4.”\n"
     ]
    },
    {
     "data": {
      "image/png": "[encoded data removed]",
      "text/plain": [
       "plot without title"
      ]
     },
     "metadata": {
      "image/png": {
       "height": 420,
       "width": 420
      }
     },
     "output_type": "display_data"
    }
   ],
   "source": [
    "df_summary <- cg_meLevel %>%\n",
    "  group_by(treatment) %>%\n",
    "  summarise(\n",
    "    mean_methyl_level = mean(methyl_level),\n",
    "    sd_methyl_level = sd(methyl_level),\n",
    "    se_methyl_level = sd_methyl_level / sqrt(n())\n",
    "  )\n",
    "\n",
    "# Create a bar plot with error bars\n",
    "cpgMe_barplot <- ggplot(df_summary, aes(x = treatment, y = mean_methyl_level, fill = treatment)) +\n",
    "  geom_bar(stat = \"identity\") +\n",
    "  geom_errorbar(aes(ymax = mean_methyl_level + se_methyl_level,\n",
    "                       ymin = mean_methyl_level - se_methyl_level),\n",
    "                  width = 0.2, size = 0.5) +\n",
    "#scale_fill_brewer(palette = \"RdPu\", direction = 1) +\n",
    "scale_fill_manual(values=c('gray', 'cornflowerblue', 'coral','deeppink2')) +\n",
    "guides(fill = FALSE) +\n",
    "  labs(x = \"Treatment\", y = \"Methylation level of CpGs\") +\n",
    "  theme_classic()\n",
    "\n",
    "cpgMe_barplot"
   ]
  },
  {
   "cell_type": "code",
   "execution_count": 128,
   "id": "6ce79f5a-6ba8-4686-8495-736229f95a19",
   "metadata": {},
   "outputs": [
    {
     "name": "stderr",
     "output_type": "stream",
     "text": [
      "\u001b[1m\u001b[22mSaving 6.67 x 6.67 in image\n"
     ]
    }
   ],
   "source": [
    "ggsave('/project/pi_sarah_gignouxwolfsohn_uml_edu/julia/CE_MethylRAD_analysis_2018/analysis/figures/cpgMe_barplot.pdf', cpgMe_barplot)"
   ]
  },
  {
   "cell_type": "code",
   "execution_count": 8,
   "id": "56caf94b-ccee-4eb3-bc2d-68cf0a592d3e",
   "metadata": {},
   "outputs": [
    {
     "data": {
      "image/png": "[encoded data removed]",
      "text/plain": [
       "plot without title"
      ]
     },
     "metadata": {
      "image/png": {
       "height": 420,
       "width": 420
      }
     },
     "output_type": "display_data"
    }
   ],
   "source": [
    "cpgMe_boxplot <- ggplot(cg_meLevel, aes(x = treatment, y = methyl_level, fill = treatment)) +\n",
    "  geom_boxplot() +\n",
    "geom_point() +\n",
    "#scale_fill_brewer(palette = \"RdPu\", direction = 1) +\n",
    "scale_fill_manual(values=c('gray', 'cornflowerblue', 'coral','deeppink2')) +\n",
    "guides(fill=FALSE) +\n",
    "  labs(x = \"Treatment\", y = \"Percent of methylated CpGs\") +\n",
    "  theme_classic()\n",
    "\n",
    "cpgMe_boxplot"
   ]
  },
  {
   "cell_type": "code",
   "execution_count": 45,
   "id": "8ba56b58-359f-4645-9c82-35aa6b9019ae",
   "metadata": {},
   "outputs": [
    {
     "name": "stderr",
     "output_type": "stream",
     "text": [
      "\u001b[1m\u001b[22mSaving 6.67 x 6.67 in image\n"
     ]
    }
   ],
   "source": [
    "ggsave('/project/pi_sarah_gignouxwolfsohn_uml_edu/julia/CE_MethylRAD_analysis_2018/analysis/figures/cpgMe_boxplot.pdf', cpgMe_boxplot)"
   ]
  },
  {
   "cell_type": "markdown",
   "id": "a4d01893-94b2-40d8-a71a-eb8d36bbe9dd",
   "metadata": {},
   "source": [
    "(see below for plot used for figure)"
   ]
  },
  {
   "cell_type": "markdown",
   "id": "0208b9c1-05d6-4d22-afd7-0475389b7a28",
   "metadata": {},
   "source": [
    "### ANOVA of CpG methylation\n",
    "want to know if the differences in CpG methylation between treatments is statistically significant\n",
    "\n",
    "following pipeline [here](https://www.sthda.com/english/wiki/one-way-anova-test-in-r)"
   ]
  },
  {
   "cell_type": "code",
   "execution_count": 89,
   "id": "84d0f071-e702-4389-9222-af9b39b898f4",
   "metadata": {},
   "outputs": [
    {
     "data": {
      "text/html": [
       "<style>\n",
       ".list-inline {list-style: none; margin:0; padding: 0}\n",
       ".list-inline>li {display: inline-block}\n",
       ".list-inline>li:not(:last-child)::after {content: \"\\00b7\"; padding: 0 .5ex}\n",
       "</style>\n",
       "<ol class=list-inline><li>'CC'</li><li>'CH'</li><li>'HC'</li><li>'HH'</li></ol>\n"
      ],
      "text/latex": [
       "\\begin{enumerate*}\n",
       "\\item 'CC'\n",
       "\\item 'CH'\n",
       "\\item 'HC'\n",
       "\\item 'HH'\n",
       "\\end{enumerate*}\n"
      ],
      "text/markdown": [
       "1. 'CC'\n",
       "2. 'CH'\n",
       "3. 'HC'\n",
       "4. 'HH'\n",
       "\n",
       "\n"
      ],
      "text/plain": [
       "[1] \"CC\" \"CH\" \"HC\" \"HH\""
      ]
     },
     "metadata": {},
     "output_type": "display_data"
    }
   ],
   "source": [
    "# make copy of df\n",
    "cpg <- cg_meLevel\n",
    "\n",
    "# set levels\n",
    "cpg$treatment <- ordered(cpg$treatment,\n",
    "                           levels = c('CC', 'CH', 'HC', 'HH'))\n",
    "\n",
    "levels(cpg$treatment)"
   ]
  },
  {
   "cell_type": "code",
   "execution_count": 90,
   "id": "10c65368-1872-4d10-b3a5-e8ad1cfcb8e7",
   "metadata": {},
   "outputs": [
    {
     "data": {
      "text/html": [
       "<table class=\"dataframe\">\n",
       "<caption>A tibble: 4 × 4</caption>\n",
       "<thead>\n",
       "\t<tr><th scope=col>treatment</th><th scope=col>count</th><th scope=col>mean</th><th scope=col>sd</th></tr>\n",
       "\t<tr><th scope=col>&lt;ord&gt;</th><th scope=col>&lt;int&gt;</th><th scope=col>&lt;dbl&gt;</th><th scope=col>&lt;dbl&gt;</th></tr>\n",
       "</thead>\n",
       "<tbody>\n",
       "\t<tr><td>CC</td><td>5</td><td>0.636</td><td>0.3414381</td></tr>\n",
       "\t<tr><td>CH</td><td>5</td><td>0.662</td><td>0.3319187</td></tr>\n",
       "\t<tr><td>HC</td><td>5</td><td>0.868</td><td>0.2255438</td></tr>\n",
       "\t<tr><td>HH</td><td>5</td><td>0.840</td><td>0.1055936</td></tr>\n",
       "</tbody>\n",
       "</table>\n"
      ],
      "text/latex": [
       "A tibble: 4 × 4\n",
       "\\begin{tabular}{llll}\n",
       " treatment & count & mean & sd\\\\\n",
       " <ord> & <int> & <dbl> & <dbl>\\\\\n",
       "\\hline\n",
       "\t CC & 5 & 0.636 & 0.3414381\\\\\n",
       "\t CH & 5 & 0.662 & 0.3319187\\\\\n",
       "\t HC & 5 & 0.868 & 0.2255438\\\\\n",
       "\t HH & 5 & 0.840 & 0.1055936\\\\\n",
       "\\end{tabular}\n"
      ],
      "text/markdown": [
       "\n",
       "A tibble: 4 × 4\n",
       "\n",
       "| treatment &lt;ord&gt; | count &lt;int&gt; | mean &lt;dbl&gt; | sd &lt;dbl&gt; |\n",
       "|---|---|---|---|\n",
       "| CC | 5 | 0.636 | 0.3414381 |\n",
       "| CH | 5 | 0.662 | 0.3319187 |\n",
       "| HC | 5 | 0.868 | 0.2255438 |\n",
       "| HH | 5 | 0.840 | 0.1055936 |\n",
       "\n"
      ],
      "text/plain": [
       "  treatment count mean  sd       \n",
       "1 CC        5     0.636 0.3414381\n",
       "2 CH        5     0.662 0.3319187\n",
       "3 HC        5     0.868 0.2255438\n",
       "4 HH        5     0.840 0.1055936"
      ]
     },
     "metadata": {},
     "output_type": "display_data"
    }
   ],
   "source": [
    "# summary statistics\n",
    "group_by(cpg, treatment) %>%\n",
    "summarise(count = n(),\n",
    "          mean = mean(methyl_level, na.rm=TRUE),\n",
    "          sd = sd(methyl_level, na.rm=TRUE)\n",
    "          )"
   ]
  },
  {
   "cell_type": "code",
   "execution_count": 91,
   "id": "00bf905c-907b-4e8a-81af-be6477c92d7c",
   "metadata": {},
   "outputs": [
    {
     "data": {
      "text/plain": [
       "            Df Sum Sq Mean Sq F value Pr(>F)\n",
       "treatment    3 0.2138 0.07126   0.987  0.424\n",
       "Residuals   16 1.1551 0.07219               "
      ]
     },
     "metadata": {},
     "output_type": "display_data"
    }
   ],
   "source": [
    "res.aov <- aov(methyl_level ~ treatment, data = cpg)\n",
    "summary(res.aov)"
   ]
  },
  {
   "cell_type": "code",
   "execution_count": 92,
   "id": "2175c3c9-9e3a-4ba3-9e6d-8ae89c8d82d0",
   "metadata": {},
   "outputs": [
    {
     "data": {
      "text/plain": [
       "  Tukey multiple comparisons of means\n",
       "    95% family-wise confidence level\n",
       "\n",
       "Fit: aov(formula = methyl_level ~ treatment, data = cpg)\n",
       "\n",
       "$treatment\n",
       "        diff        lwr       upr     p adj\n",
       "CH-CC  0.026 -0.4601798 0.5121798 0.9986682\n",
       "HC-CC  0.232 -0.2541798 0.7181798 0.5374580\n",
       "HH-CC  0.204 -0.2821798 0.6901798 0.6353007\n",
       "HC-CH  0.206 -0.2801798 0.6921798 0.6282900\n",
       "HH-CH  0.178 -0.3081798 0.6641798 0.7248713\n",
       "HH-HC -0.028 -0.5141798 0.4581798 0.9983394\n"
      ]
     },
     "metadata": {},
     "output_type": "display_data"
    }
   ],
   "source": [
    "TukeyHSD(res.aov)"
   ]
  },
  {
   "cell_type": "markdown",
   "id": "7582b3e1-9716-450d-aa30-2ebc9000c825",
   "metadata": {},
   "source": [
    "**check the homogeneity of variance assumption**"
   ]
  },
  {
   "cell_type": "code",
   "execution_count": 136,
   "id": "752654c5-5ae6-49fb-935a-05d5e44e7be8",
   "metadata": {},
   "outputs": [
    {
     "data": {
      "image/png": "[encoded data removed]",
      "text/plain": [
       "Plot with title “”"
      ]
     },
     "metadata": {
      "image/png": {
       "height": 420,
       "width": 420
      }
     },
     "output_type": "display_data"
    }
   ],
   "source": [
    "plot(res.aov,1)"
   ]
  },
  {
   "cell_type": "code",
   "execution_count": 137,
   "id": "7f9f5aff-9c01-4082-9530-303c094ef9c6",
   "metadata": {},
   "outputs": [
    {
     "ename": "ERROR",
     "evalue": "Error in leveneTest(methyl_level ~ treatment, data = cpg): could not find function \"leveneTest\"\n",
     "output_type": "error",
     "traceback": [
      "Error in leveneTest(methyl_level ~ treatment, data = cpg): could not find function \"leveneTest\"\nTraceback:\n"
     ]
    }
   ],
   "source": [
    "leveneTest(methyl_level ~ treatment, data = cpg)"
   ]
  },
  {
   "cell_type": "markdown",
   "id": "2540160b-cf68-43f3-b5b9-c2156b1a165b",
   "metadata": {},
   "source": [
    "from [source](https://www.sthda.com/english/wiki/one-way-anova-test-in-r): \"...the p-value is not less than the significance level of 0.05. This means that there is no evidence to suggest that the variance across groups is statistically significantly different. Therefore, we can assume the homogeneity of variances in the different treatment groups.\"\n",
    "\n",
    "**check the normality assumption**"
   ]
  },
  {
   "cell_type": "code",
   "execution_count": null,
   "id": "40bc28da-62b4-4158-9870-f343fa243c7e",
   "metadata": {},
   "outputs": [],
   "source": [
    "plot(res.aov, 2)\n",
    "\n",
    "# Extract the residuals\n",
    "aov_residuals <- residuals(object = res.aov )\n",
    "# Run Shapiro-Wilk test\n",
    "shapiro.test(x = aov_residuals )"
   ]
  },
  {
   "cell_type": "markdown",
   "id": "30ef822c-dd99-4ca8-8664-566a3fa7e801",
   "metadata": {},
   "source": [
    "so no statistically significant differences of methlyation levels for CpG dinucleotides between treatments\n",
    "\n",
    "#### fixing ANOVA\n",
    "after talking to SGW 12/5 - need to split phase 1 and 2 and look at the interaction of the two - bc some oysters experienced the same treatment in either phase 1 or 2\n",
    "\n",
    "### two-way ANOVA of CpG methylation"
   ]
  },
  {
   "cell_type": "code",
   "execution_count": 162,
   "id": "65736501-5343-4b69-a756-8711e8a8dcf8",
   "metadata": {},
   "outputs": [
    {
     "data": {
      "text/html": [
       "<table class=\"dataframe\">\n",
       "<caption>A data.frame: 6 × 4</caption>\n",
       "<thead>\n",
       "\t<tr><th></th><th scope=col>methyl_count</th><th scope=col>replicate</th><th scope=col>treatment</th><th scope=col>methyl_level</th></tr>\n",
       "\t<tr><th></th><th scope=col>&lt;dbl&gt;</th><th scope=col>&lt;dbl&gt;</th><th scope=col>&lt;chr&gt;</th><th scope=col>&lt;dbl&gt;</th></tr>\n",
       "</thead>\n",
       "<tbody>\n",
       "\t<tr><th scope=row>1</th><td>147798</td><td>1</td><td>CC</td><td>1.022</td></tr>\n",
       "\t<tr><th scope=row>2</th><td> 59287</td><td>2</td><td>CC</td><td>0.410</td></tr>\n",
       "\t<tr><th scope=row>3</th><td>137931</td><td>3</td><td>CC</td><td>0.954</td></tr>\n",
       "\t<tr><th scope=row>4</th><td> 81789</td><td>4</td><td>CC</td><td>0.566</td></tr>\n",
       "\t<tr><th scope=row>5</th><td> 33975</td><td>5</td><td>CC</td><td>0.235</td></tr>\n",
       "\t<tr><th scope=row>6</th><td>140077</td><td>1</td><td>CH</td><td>0.969</td></tr>\n",
       "</tbody>\n",
       "</table>\n"
      ],
      "text/latex": [
       "A data.frame: 6 × 4\n",
       "\\begin{tabular}{r|llll}\n",
       "  & methyl\\_count & replicate & treatment & methyl\\_level\\\\\n",
       "  & <dbl> & <dbl> & <chr> & <dbl>\\\\\n",
       "\\hline\n",
       "\t1 & 147798 & 1 & CC & 1.022\\\\\n",
       "\t2 &  59287 & 2 & CC & 0.410\\\\\n",
       "\t3 & 137931 & 3 & CC & 0.954\\\\\n",
       "\t4 &  81789 & 4 & CC & 0.566\\\\\n",
       "\t5 &  33975 & 5 & CC & 0.235\\\\\n",
       "\t6 & 140077 & 1 & CH & 0.969\\\\\n",
       "\\end{tabular}\n"
      ],
      "text/markdown": [
       "\n",
       "A data.frame: 6 × 4\n",
       "\n",
       "| <!--/--> | methyl_count &lt;dbl&gt; | replicate &lt;dbl&gt; | treatment &lt;chr&gt; | methyl_level &lt;dbl&gt; |\n",
       "|---|---|---|---|---|\n",
       "| 1 | 147798 | 1 | CC | 1.022 |\n",
       "| 2 |  59287 | 2 | CC | 0.410 |\n",
       "| 3 | 137931 | 3 | CC | 0.954 |\n",
       "| 4 |  81789 | 4 | CC | 0.566 |\n",
       "| 5 |  33975 | 5 | CC | 0.235 |\n",
       "| 6 | 140077 | 1 | CH | 0.969 |\n",
       "\n"
      ],
      "text/plain": [
       "  methyl_count replicate treatment methyl_level\n",
       "1 147798       1         CC        1.022       \n",
       "2  59287       2         CC        0.410       \n",
       "3 137931       3         CC        0.954       \n",
       "4  81789       4         CC        0.566       \n",
       "5  33975       5         CC        0.235       \n",
       "6 140077       1         CH        0.969       "
      ]
     },
     "metadata": {},
     "output_type": "display_data"
    }
   ],
   "source": [
    "cpg <- cg_meLevel\n",
    "head(cpg)"
   ]
  },
  {
   "cell_type": "code",
   "execution_count": 163,
   "id": "ce679dcd-26c3-4825-9767-69549cfde7bb",
   "metadata": {},
   "outputs": [
    {
     "data": {
      "text/html": [
       "<table class=\"dataframe\">\n",
       "<caption>A data.frame: 20 × 6</caption>\n",
       "<thead>\n",
       "\t<tr><th scope=col>methyl_count</th><th scope=col>replicate</th><th scope=col>treatment</th><th scope=col>methyl_level</th><th scope=col>phase1</th><th scope=col>phase2</th></tr>\n",
       "\t<tr><th scope=col>&lt;dbl&gt;</th><th scope=col>&lt;dbl&gt;</th><th scope=col>&lt;chr&gt;</th><th scope=col>&lt;dbl&gt;</th><th scope=col>&lt;chr&gt;</th><th scope=col>&lt;chr&gt;</th></tr>\n",
       "</thead>\n",
       "<tbody>\n",
       "\t<tr><td>147798</td><td>1</td><td>CC</td><td>1.022</td><td>control</td><td>control</td></tr>\n",
       "\t<tr><td> 59287</td><td>2</td><td>CC</td><td>0.410</td><td>control</td><td>control</td></tr>\n",
       "\t<tr><td>137931</td><td>3</td><td>CC</td><td>0.954</td><td>control</td><td>control</td></tr>\n",
       "\t<tr><td> 81789</td><td>4</td><td>CC</td><td>0.566</td><td>control</td><td>control</td></tr>\n",
       "\t<tr><td> 33975</td><td>5</td><td>CC</td><td>0.235</td><td>control</td><td>control</td></tr>\n",
       "\t<tr><td>140077</td><td>1</td><td>CH</td><td>0.969</td><td>control</td><td>hypoxia</td></tr>\n",
       "\t<tr><td> 24101</td><td>2</td><td>CH</td><td>0.167</td><td>control</td><td>hypoxia</td></tr>\n",
       "\t<tr><td> 73538</td><td>3</td><td>CH</td><td>0.509</td><td>control</td><td>hypoxia</td></tr>\n",
       "\t<tr><td>136233</td><td>4</td><td>CH</td><td>0.942</td><td>control</td><td>hypoxia</td></tr>\n",
       "\t<tr><td>104170</td><td>5</td><td>CH</td><td>0.720</td><td>control</td><td>hypoxia</td></tr>\n",
       "\t<tr><td>138394</td><td>1</td><td>HC</td><td>0.960</td><td>hypoxia</td><td>control</td></tr>\n",
       "\t<tr><td>136261</td><td>2</td><td>HC</td><td>0.940</td><td>hypoxia</td><td>control</td></tr>\n",
       "\t<tr><td>149013</td><td>3</td><td>HC</td><td>1.030</td><td>hypoxia</td><td>control</td></tr>\n",
       "\t<tr><td>136293</td><td>4</td><td>HC</td><td>0.940</td><td>hypoxia</td><td>control</td></tr>\n",
       "\t<tr><td> 67842</td><td>5</td><td>HC</td><td>0.470</td><td>hypoxia</td><td>control</td></tr>\n",
       "\t<tr><td>132674</td><td>1</td><td>HH</td><td>0.918</td><td>hypoxia</td><td>hypoxia</td></tr>\n",
       "\t<tr><td>105032</td><td>2</td><td>HH</td><td>0.726</td><td>hypoxia</td><td>hypoxia</td></tr>\n",
       "\t<tr><td>104681</td><td>3</td><td>HH</td><td>0.724</td><td>hypoxia</td><td>hypoxia</td></tr>\n",
       "\t<tr><td>134384</td><td>4</td><td>HH</td><td>0.929</td><td>hypoxia</td><td>hypoxia</td></tr>\n",
       "\t<tr><td>129732</td><td>5</td><td>HH</td><td>0.897</td><td>hypoxia</td><td>hypoxia</td></tr>\n",
       "</tbody>\n",
       "</table>\n"
      ],
      "text/latex": [
       "A data.frame: 20 × 6\n",
       "\\begin{tabular}{llllll}\n",
       " methyl\\_count & replicate & treatment & methyl\\_level & phase1 & phase2\\\\\n",
       " <dbl> & <dbl> & <chr> & <dbl> & <chr> & <chr>\\\\\n",
       "\\hline\n",
       "\t 147798 & 1 & CC & 1.022 & control & control\\\\\n",
       "\t  59287 & 2 & CC & 0.410 & control & control\\\\\n",
       "\t 137931 & 3 & CC & 0.954 & control & control\\\\\n",
       "\t  81789 & 4 & CC & 0.566 & control & control\\\\\n",
       "\t  33975 & 5 & CC & 0.235 & control & control\\\\\n",
       "\t 140077 & 1 & CH & 0.969 & control & hypoxia\\\\\n",
       "\t  24101 & 2 & CH & 0.167 & control & hypoxia\\\\\n",
       "\t  73538 & 3 & CH & 0.509 & control & hypoxia\\\\\n",
       "\t 136233 & 4 & CH & 0.942 & control & hypoxia\\\\\n",
       "\t 104170 & 5 & CH & 0.720 & control & hypoxia\\\\\n",
       "\t 138394 & 1 & HC & 0.960 & hypoxia & control\\\\\n",
       "\t 136261 & 2 & HC & 0.940 & hypoxia & control\\\\\n",
       "\t 149013 & 3 & HC & 1.030 & hypoxia & control\\\\\n",
       "\t 136293 & 4 & HC & 0.940 & hypoxia & control\\\\\n",
       "\t  67842 & 5 & HC & 0.470 & hypoxia & control\\\\\n",
       "\t 132674 & 1 & HH & 0.918 & hypoxia & hypoxia\\\\\n",
       "\t 105032 & 2 & HH & 0.726 & hypoxia & hypoxia\\\\\n",
       "\t 104681 & 3 & HH & 0.724 & hypoxia & hypoxia\\\\\n",
       "\t 134384 & 4 & HH & 0.929 & hypoxia & hypoxia\\\\\n",
       "\t 129732 & 5 & HH & 0.897 & hypoxia & hypoxia\\\\\n",
       "\\end{tabular}\n"
      ],
      "text/markdown": [
       "\n",
       "A data.frame: 20 × 6\n",
       "\n",
       "| methyl_count &lt;dbl&gt; | replicate &lt;dbl&gt; | treatment &lt;chr&gt; | methyl_level &lt;dbl&gt; | phase1 &lt;chr&gt; | phase2 &lt;chr&gt; |\n",
       "|---|---|---|---|---|---|\n",
       "| 147798 | 1 | CC | 1.022 | control | control |\n",
       "|  59287 | 2 | CC | 0.410 | control | control |\n",
       "| 137931 | 3 | CC | 0.954 | control | control |\n",
       "|  81789 | 4 | CC | 0.566 | control | control |\n",
       "|  33975 | 5 | CC | 0.235 | control | control |\n",
       "| 140077 | 1 | CH | 0.969 | control | hypoxia |\n",
       "|  24101 | 2 | CH | 0.167 | control | hypoxia |\n",
       "|  73538 | 3 | CH | 0.509 | control | hypoxia |\n",
       "| 136233 | 4 | CH | 0.942 | control | hypoxia |\n",
       "| 104170 | 5 | CH | 0.720 | control | hypoxia |\n",
       "| 138394 | 1 | HC | 0.960 | hypoxia | control |\n",
       "| 136261 | 2 | HC | 0.940 | hypoxia | control |\n",
       "| 149013 | 3 | HC | 1.030 | hypoxia | control |\n",
       "| 136293 | 4 | HC | 0.940 | hypoxia | control |\n",
       "|  67842 | 5 | HC | 0.470 | hypoxia | control |\n",
       "| 132674 | 1 | HH | 0.918 | hypoxia | hypoxia |\n",
       "| 105032 | 2 | HH | 0.726 | hypoxia | hypoxia |\n",
       "| 104681 | 3 | HH | 0.724 | hypoxia | hypoxia |\n",
       "| 134384 | 4 | HH | 0.929 | hypoxia | hypoxia |\n",
       "| 129732 | 5 | HH | 0.897 | hypoxia | hypoxia |\n",
       "\n"
      ],
      "text/plain": [
       "   methyl_count replicate treatment methyl_level phase1  phase2 \n",
       "1  147798       1         CC        1.022        control control\n",
       "2   59287       2         CC        0.410        control control\n",
       "3  137931       3         CC        0.954        control control\n",
       "4   81789       4         CC        0.566        control control\n",
       "5   33975       5         CC        0.235        control control\n",
       "6  140077       1         CH        0.969        control hypoxia\n",
       "7   24101       2         CH        0.167        control hypoxia\n",
       "8   73538       3         CH        0.509        control hypoxia\n",
       "9  136233       4         CH        0.942        control hypoxia\n",
       "10 104170       5         CH        0.720        control hypoxia\n",
       "11 138394       1         HC        0.960        hypoxia control\n",
       "12 136261       2         HC        0.940        hypoxia control\n",
       "13 149013       3         HC        1.030        hypoxia control\n",
       "14 136293       4         HC        0.940        hypoxia control\n",
       "15  67842       5         HC        0.470        hypoxia control\n",
       "16 132674       1         HH        0.918        hypoxia hypoxia\n",
       "17 105032       2         HH        0.726        hypoxia hypoxia\n",
       "18 104681       3         HH        0.724        hypoxia hypoxia\n",
       "19 134384       4         HH        0.929        hypoxia hypoxia\n",
       "20 129732       5         HH        0.897        hypoxia hypoxia"
      ]
     },
     "metadata": {},
     "output_type": "display_data"
    }
   ],
   "source": [
    "# for loop to assign phase 1 and phase 2 treatments based on the treatment column\n",
    "cpg <- cpg %>%\n",
    "  mutate(phase1 = ifelse(str_sub(treatment, 1, 1) == \"C\", \"control\", \"hypoxia\"),\n",
    "         phase2 = ifelse(str_sub(treatment, 2, 2) == \"H\", \"hypoxia\", \"control\"))\n",
    "\n",
    "cpg"
   ]
  },
  {
   "cell_type": "code",
   "execution_count": 81,
   "id": "23487edf-099a-48c6-bd7c-38c37f6cd13d",
   "metadata": {},
   "outputs": [
    {
     "data": {
      "text/plain": [
       "              Df Sum Sq Mean Sq F value Pr(>F)\n",
       "phase1         1 0.2081 0.20808   2.874  0.109\n",
       "phase2         1 0.0000 0.00003   0.000  0.983\n",
       "phase1:phase2  1 0.0035 0.00354   0.049  0.828\n",
       "Residuals     16 1.1585 0.07241               "
      ]
     },
     "metadata": {},
     "output_type": "display_data"
    }
   ],
   "source": [
    "# running a two-way ANOVA\n",
    "model <- aov(methyl_level ~ phase1 * phase2, data = cg_meLevel)\n",
    "summary(model)"
   ]
  },
  {
   "cell_type": "markdown",
   "id": "b9745dfa-109c-4eca-b671-1715720cc5c6",
   "metadata": {
    "tags": []
   },
   "source": [
    "#### **Tukey Honestly Significant Difference (HSD)** post hoc test \n",
    "compares the means of multiple groups"
   ]
  },
  {
   "cell_type": "code",
   "execution_count": 171,
   "id": "55e9d0a5-ab16-4c83-9565-565961acc99d",
   "metadata": {},
   "outputs": [
    {
     "data": {
      "text/plain": [
       "  Tukey multiple comparisons of means\n",
       "    95% family-wise confidence level\n",
       "\n",
       "Fit: aov(formula = methyl_level ~ phase1 * phase2, data = cpg)\n",
       "\n",
       "$phase1\n",
       "                 diff         lwr       upr     p adj\n",
       "hypoxia-control 0.204 -0.05110653 0.4591065 0.1094039\n",
       "\n",
       "$phase2\n",
       "                   diff        lwr       upr     p adj\n",
       "hypoxia-control -0.0026 -0.2577065 0.2525065 0.9830296\n",
       "\n",
       "$`phase1:phase2`\n",
       "                                   diff        lwr       upr     p adj\n",
       "hypoxia:control-control:control  0.2306 -0.2563014 0.7175014 0.5434766\n",
       "control:hypoxia-control:control  0.0240 -0.4629014 0.5109014 0.9989556\n",
       "hypoxia:hypoxia-control:control  0.2014 -0.2855014 0.6883014 0.6454466\n",
       "control:hypoxia-hypoxia:control -0.2066 -0.6935014 0.2803014 0.6272595\n",
       "hypoxia:hypoxia-hypoxia:control -0.0292 -0.5161014 0.4577014 0.9981269\n",
       "hypoxia:hypoxia-control:hypoxia  0.1774 -0.3095014 0.6643014 0.7277601\n"
      ]
     },
     "metadata": {},
     "output_type": "display_data"
    }
   ],
   "source": [
    "TukeyHSD(model)"
   ]
  },
  {
   "cell_type": "markdown",
   "id": "ecc56171-4a57-4f3b-96e3-06e5cc131303",
   "metadata": {},
   "source": [
    "**main effects:**\n",
    "- phase 1 hypoxia has significantly higher methylation levels than phase 1 control\n",
    "- no main effect from phase 2\n",
    "\n",
    "**interaction effects**\n",
    "- no interaction effects\n"
   ]
  },
  {
   "cell_type": "code",
   "execution_count": 172,
   "id": "e6b4e408-b44d-46a2-92c2-a3318149feb6",
   "metadata": {},
   "outputs": [
    {
     "data": {
      "image/png": "[encoded data removed]",
      "text/plain": [
       "Plot with title “”"
      ]
     },
     "metadata": {
      "image/png": {
       "height": 420,
       "width": 420
      }
     },
     "output_type": "display_data"
    }
   ],
   "source": [
    "plot(model,1)"
   ]
  },
  {
   "cell_type": "code",
   "execution_count": 173,
   "id": "417ca83b-3874-471e-9df4-0f9ce0482e21",
   "metadata": {},
   "outputs": [
    {
     "data": {
      "text/plain": [
       "\n",
       "\tShapiro-Wilk normality test\n",
       "\n",
       "data:  aov_residuals\n",
       "W = 0.94512, p-value = 0.299\n"
      ]
     },
     "metadata": {},
     "output_type": "display_data"
    },
    {
     "data": {
      "image/png": "[encoded data removed]",
      "text/plain": [
       "Plot with title “”"
      ]
     },
     "metadata": {
      "image/png": {
       "height": 420,
       "width": 420
      }
     },
     "output_type": "display_data"
    }
   ],
   "source": [
    "plot(model, 2)\n",
    "\n",
    "# Extract the residuals\n",
    "aov_residuals <- residuals(object = model )\n",
    "# Run Shapiro-Wilk test\n",
    "shapiro.test(x = aov_residuals )"
   ]
  },
  {
   "cell_type": "markdown",
   "id": "fe06e0b6-b15e-4e32-96c7-153b16d764f2",
   "metadata": {
    "tags": []
   },
   "source": [
    "# CpG methylation boxplot but faceted by second exposure"
   ]
  },
  {
   "cell_type": "code",
   "execution_count": 1,
   "id": "a75e7bb2-7171-4cde-920d-cbbf45c76e2e",
   "metadata": {},
   "outputs": [
    {
     "data": {
      "text/html": [
       "<table class=\"dataframe\">\n",
       "<caption>A data.frame: 20 × 5</caption>\n",
       "<thead>\n",
       "\t<tr><th scope=col>methyl_count</th><th scope=col>treatment</th><th scope=col>methyl_level</th><th scope=col>phase1</th><th scope=col>phase2</th></tr>\n",
       "\t<tr><th scope=col>&lt;int&gt;</th><th scope=col>&lt;chr&gt;</th><th scope=col>&lt;dbl&gt;</th><th scope=col>&lt;chr&gt;</th><th scope=col>&lt;chr&gt;</th></tr>\n",
       "</thead>\n",
       "<tbody>\n",
       "\t<tr><td>147798</td><td>CC</td><td>1.02</td><td>Control</td><td>Control</td></tr>\n",
       "\t<tr><td> 59287</td><td>CC</td><td>0.41</td><td>Control</td><td>Control</td></tr>\n",
       "\t<tr><td>137931</td><td>CC</td><td>0.95</td><td>Control</td><td>Control</td></tr>\n",
       "\t<tr><td> 81789</td><td>CC</td><td>0.57</td><td>Control</td><td>Control</td></tr>\n",
       "\t<tr><td> 33975</td><td>CC</td><td>0.23</td><td>Control</td><td>Control</td></tr>\n",
       "\t<tr><td>138394</td><td>HC</td><td>0.96</td><td>Hypoxic</td><td>Control</td></tr>\n",
       "\t<tr><td>136261</td><td>HC</td><td>0.94</td><td>Hypoxic</td><td>Control</td></tr>\n",
       "\t<tr><td>149013</td><td>HC</td><td>1.03</td><td>Hypoxic</td><td>Control</td></tr>\n",
       "\t<tr><td>136293</td><td>HC</td><td>0.94</td><td>Hypoxic</td><td>Control</td></tr>\n",
       "\t<tr><td> 67842</td><td>HC</td><td>0.47</td><td>Hypoxic</td><td>Control</td></tr>\n",
       "\t<tr><td>140077</td><td>CH</td><td>0.97</td><td>Control</td><td>Hypoxic</td></tr>\n",
       "\t<tr><td> 24101</td><td>CH</td><td>0.17</td><td>Control</td><td>Hypoxic</td></tr>\n",
       "\t<tr><td> 73538</td><td>CH</td><td>0.51</td><td>Control</td><td>Hypoxic</td></tr>\n",
       "\t<tr><td>136233</td><td>CH</td><td>0.94</td><td>Control</td><td>Hypoxic</td></tr>\n",
       "\t<tr><td>104170</td><td>CH</td><td>0.72</td><td>Control</td><td>Hypoxic</td></tr>\n",
       "\t<tr><td>132674</td><td>HH</td><td>0.92</td><td>Hypoxic</td><td>Hypoxic</td></tr>\n",
       "\t<tr><td>105032</td><td>HH</td><td>0.73</td><td>Hypoxic</td><td>Hypoxic</td></tr>\n",
       "\t<tr><td>104681</td><td>HH</td><td>0.72</td><td>Hypoxic</td><td>Hypoxic</td></tr>\n",
       "\t<tr><td>134384</td><td>HH</td><td>0.93</td><td>Hypoxic</td><td>Hypoxic</td></tr>\n",
       "\t<tr><td>129732</td><td>HH</td><td>0.90</td><td>Hypoxic</td><td>Hypoxic</td></tr>\n",
       "</tbody>\n",
       "</table>\n"
      ],
      "text/latex": [
       "A data.frame: 20 × 5\n",
       "\\begin{tabular}{lllll}\n",
       " methyl\\_count & treatment & methyl\\_level & phase1 & phase2\\\\\n",
       " <int> & <chr> & <dbl> & <chr> & <chr>\\\\\n",
       "\\hline\n",
       "\t 147798 & CC & 1.02 & Control & Control\\\\\n",
       "\t  59287 & CC & 0.41 & Control & Control\\\\\n",
       "\t 137931 & CC & 0.95 & Control & Control\\\\\n",
       "\t  81789 & CC & 0.57 & Control & Control\\\\\n",
       "\t  33975 & CC & 0.23 & Control & Control\\\\\n",
       "\t 138394 & HC & 0.96 & Hypoxic & Control\\\\\n",
       "\t 136261 & HC & 0.94 & Hypoxic & Control\\\\\n",
       "\t 149013 & HC & 1.03 & Hypoxic & Control\\\\\n",
       "\t 136293 & HC & 0.94 & Hypoxic & Control\\\\\n",
       "\t  67842 & HC & 0.47 & Hypoxic & Control\\\\\n",
       "\t 140077 & CH & 0.97 & Control & Hypoxic\\\\\n",
       "\t  24101 & CH & 0.17 & Control & Hypoxic\\\\\n",
       "\t  73538 & CH & 0.51 & Control & Hypoxic\\\\\n",
       "\t 136233 & CH & 0.94 & Control & Hypoxic\\\\\n",
       "\t 104170 & CH & 0.72 & Control & Hypoxic\\\\\n",
       "\t 132674 & HH & 0.92 & Hypoxic & Hypoxic\\\\\n",
       "\t 105032 & HH & 0.73 & Hypoxic & Hypoxic\\\\\n",
       "\t 104681 & HH & 0.72 & Hypoxic & Hypoxic\\\\\n",
       "\t 134384 & HH & 0.93 & Hypoxic & Hypoxic\\\\\n",
       "\t 129732 & HH & 0.90 & Hypoxic & Hypoxic\\\\\n",
       "\\end{tabular}\n"
      ],
      "text/markdown": [
       "\n",
       "A data.frame: 20 × 5\n",
       "\n",
       "| methyl_count &lt;int&gt; | treatment &lt;chr&gt; | methyl_level &lt;dbl&gt; | phase1 &lt;chr&gt; | phase2 &lt;chr&gt; |\n",
       "|---|---|---|---|---|\n",
       "| 147798 | CC | 1.02 | Control | Control |\n",
       "|  59287 | CC | 0.41 | Control | Control |\n",
       "| 137931 | CC | 0.95 | Control | Control |\n",
       "|  81789 | CC | 0.57 | Control | Control |\n",
       "|  33975 | CC | 0.23 | Control | Control |\n",
       "| 138394 | HC | 0.96 | Hypoxic | Control |\n",
       "| 136261 | HC | 0.94 | Hypoxic | Control |\n",
       "| 149013 | HC | 1.03 | Hypoxic | Control |\n",
       "| 136293 | HC | 0.94 | Hypoxic | Control |\n",
       "|  67842 | HC | 0.47 | Hypoxic | Control |\n",
       "| 140077 | CH | 0.97 | Control | Hypoxic |\n",
       "|  24101 | CH | 0.17 | Control | Hypoxic |\n",
       "|  73538 | CH | 0.51 | Control | Hypoxic |\n",
       "| 136233 | CH | 0.94 | Control | Hypoxic |\n",
       "| 104170 | CH | 0.72 | Control | Hypoxic |\n",
       "| 132674 | HH | 0.92 | Hypoxic | Hypoxic |\n",
       "| 105032 | HH | 0.73 | Hypoxic | Hypoxic |\n",
       "| 104681 | HH | 0.72 | Hypoxic | Hypoxic |\n",
       "| 134384 | HH | 0.93 | Hypoxic | Hypoxic |\n",
       "| 129732 | HH | 0.90 | Hypoxic | Hypoxic |\n",
       "\n"
      ],
      "text/plain": [
       "   methyl_count treatment methyl_level phase1  phase2 \n",
       "1  147798       CC        1.02         Control Control\n",
       "2   59287       CC        0.41         Control Control\n",
       "3  137931       CC        0.95         Control Control\n",
       "4   81789       CC        0.57         Control Control\n",
       "5   33975       CC        0.23         Control Control\n",
       "6  138394       HC        0.96         Hypoxic Control\n",
       "7  136261       HC        0.94         Hypoxic Control\n",
       "8  149013       HC        1.03         Hypoxic Control\n",
       "9  136293       HC        0.94         Hypoxic Control\n",
       "10  67842       HC        0.47         Hypoxic Control\n",
       "11 140077       CH        0.97         Control Hypoxic\n",
       "12  24101       CH        0.17         Control Hypoxic\n",
       "13  73538       CH        0.51         Control Hypoxic\n",
       "14 136233       CH        0.94         Control Hypoxic\n",
       "15 104170       CH        0.72         Control Hypoxic\n",
       "16 132674       HH        0.92         Hypoxic Hypoxic\n",
       "17 105032       HH        0.73         Hypoxic Hypoxic\n",
       "18 104681       HH        0.72         Hypoxic Hypoxic\n",
       "19 134384       HH        0.93         Hypoxic Hypoxic\n",
       "20 129732       HH        0.90         Hypoxic Hypoxic"
      ]
     },
     "metadata": {},
     "output_type": "display_data"
    }
   ],
   "source": [
    "cpg <- read.csv('/project/pi_sarah_gignouxwolfsohn_uml_edu/julia/CE_MethylRAD_analysis_2018/analysis/genomic_feature_tracks/methylation_level/CpG_meLevel.csv')\n",
    "cpg <- cpg[,-1]\n",
    "cpg"
   ]
  },
  {
   "cell_type": "code",
   "execution_count": 33,
   "id": "4b3f133d-fc2f-4ed0-8c1b-96a334175569",
   "metadata": {},
   "outputs": [
    {
     "data": {
      "text/html": [
       "<table class=\"dataframe\">\n",
       "<caption>A data.frame: 20 × 6</caption>\n",
       "<thead>\n",
       "\t<tr><th scope=col>sampleID</th><th scope=col>methyl_count</th><th scope=col>treatment</th><th scope=col>methyl_level</th><th scope=col>phase1</th><th scope=col>phase2</th></tr>\n",
       "\t<tr><th scope=col>&lt;chr&gt;</th><th scope=col>&lt;dbl&gt;</th><th scope=col>&lt;chr&gt;</th><th scope=col>&lt;dbl&gt;</th><th scope=col>&lt;chr&gt;</th><th scope=col>&lt;chr&gt;</th></tr>\n",
       "</thead>\n",
       "<tbody>\n",
       "\t<tr><td>WBBWBVW69</td><td>147798</td><td>CC</td><td>1.022</td><td>Control</td><td>Control</td></tr>\n",
       "\t<tr><td>WBGWBGW44</td><td> 59287</td><td>CC</td><td>0.410</td><td>Control</td><td>Control</td></tr>\n",
       "\t<tr><td>WBOWBVW64</td><td>137931</td><td>CC</td><td>0.954</td><td>Control</td><td>Control</td></tr>\n",
       "\t<tr><td>WBVWBOW23</td><td> 81789</td><td>CC</td><td>0.566</td><td>Control</td><td>Control</td></tr>\n",
       "\t<tr><td>WBVWBRW12</td><td> 33975</td><td>CC</td><td>0.235</td><td>Control</td><td>Control</td></tr>\n",
       "\t<tr><td>WBGBBBW56</td><td>140077</td><td>CH</td><td>0.969</td><td>Control</td><td>Hypoxic</td></tr>\n",
       "\t<tr><td>WBOBBRW03</td><td> 24101</td><td>CH</td><td>0.167</td><td>Control</td><td>Hypoxic</td></tr>\n",
       "\t<tr><td>WBRBBYW25</td><td> 73538</td><td>CH</td><td>0.509</td><td>Control</td><td>Hypoxic</td></tr>\n",
       "\t<tr><td>WBYBBVW65</td><td>136233</td><td>CH</td><td>0.942</td><td>Control</td><td>Hypoxic</td></tr>\n",
       "\t<tr><td>WBYBBYW30</td><td>104170</td><td>CH</td><td>0.720</td><td>Control</td><td>Hypoxic</td></tr>\n",
       "\t<tr><td>BBBWBOB21</td><td>138394</td><td>HC</td><td>0.960</td><td>Hypoxic</td><td>Control</td></tr>\n",
       "\t<tr><td>BBBWBVB70</td><td>136261</td><td>HC</td><td>0.940</td><td>Hypoxic</td><td>Control</td></tr>\n",
       "\t<tr><td>BBOWBOB16</td><td>149013</td><td>HC</td><td>1.030</td><td>Hypoxic</td><td>Control</td></tr>\n",
       "\t<tr><td>BBOWBVB64</td><td>136293</td><td>HC</td><td>0.940</td><td>Hypoxic</td><td>Control</td></tr>\n",
       "\t<tr><td>BBYWBGB42</td><td> 67842</td><td>HC</td><td>0.470</td><td>Hypoxic</td><td>Control</td></tr>\n",
       "\t<tr><td>BBOBBOB16</td><td>132674</td><td>HH</td><td>0.918</td><td>Hypoxic</td><td>Hypoxic</td></tr>\n",
       "\t<tr><td>BBOBBYB27</td><td>105032</td><td>HH</td><td>0.726</td><td>Hypoxic</td><td>Hypoxic</td></tr>\n",
       "\t<tr><td>BBRBBBB50</td><td>104681</td><td>HH</td><td>0.724</td><td>Hypoxic</td><td>Hypoxic</td></tr>\n",
       "\t<tr><td>BBRBBGB38</td><td>134384</td><td>HH</td><td>0.929</td><td>Hypoxic</td><td>Hypoxic</td></tr>\n",
       "\t<tr><td>BBRBBYB26</td><td>129732</td><td>HH</td><td>0.897</td><td>Hypoxic</td><td>Hypoxic</td></tr>\n",
       "</tbody>\n",
       "</table>\n"
      ],
      "text/latex": [
       "A data.frame: 20 × 6\n",
       "\\begin{tabular}{llllll}\n",
       " sampleID & methyl\\_count & treatment & methyl\\_level & phase1 & phase2\\\\\n",
       " <chr> & <dbl> & <chr> & <dbl> & <chr> & <chr>\\\\\n",
       "\\hline\n",
       "\t WBBWBVW69 & 147798 & CC & 1.022 & Control & Control\\\\\n",
       "\t WBGWBGW44 &  59287 & CC & 0.410 & Control & Control\\\\\n",
       "\t WBOWBVW64 & 137931 & CC & 0.954 & Control & Control\\\\\n",
       "\t WBVWBOW23 &  81789 & CC & 0.566 & Control & Control\\\\\n",
       "\t WBVWBRW12 &  33975 & CC & 0.235 & Control & Control\\\\\n",
       "\t WBGBBBW56 & 140077 & CH & 0.969 & Control & Hypoxic\\\\\n",
       "\t WBOBBRW03 &  24101 & CH & 0.167 & Control & Hypoxic\\\\\n",
       "\t WBRBBYW25 &  73538 & CH & 0.509 & Control & Hypoxic\\\\\n",
       "\t WBYBBVW65 & 136233 & CH & 0.942 & Control & Hypoxic\\\\\n",
       "\t WBYBBYW30 & 104170 & CH & 0.720 & Control & Hypoxic\\\\\n",
       "\t BBBWBOB21 & 138394 & HC & 0.960 & Hypoxic & Control\\\\\n",
       "\t BBBWBVB70 & 136261 & HC & 0.940 & Hypoxic & Control\\\\\n",
       "\t BBOWBOB16 & 149013 & HC & 1.030 & Hypoxic & Control\\\\\n",
       "\t BBOWBVB64 & 136293 & HC & 0.940 & Hypoxic & Control\\\\\n",
       "\t BBYWBGB42 &  67842 & HC & 0.470 & Hypoxic & Control\\\\\n",
       "\t BBOBBOB16 & 132674 & HH & 0.918 & Hypoxic & Hypoxic\\\\\n",
       "\t BBOBBYB27 & 105032 & HH & 0.726 & Hypoxic & Hypoxic\\\\\n",
       "\t BBRBBBB50 & 104681 & HH & 0.724 & Hypoxic & Hypoxic\\\\\n",
       "\t BBRBBGB38 & 134384 & HH & 0.929 & Hypoxic & Hypoxic\\\\\n",
       "\t BBRBBYB26 & 129732 & HH & 0.897 & Hypoxic & Hypoxic\\\\\n",
       "\\end{tabular}\n"
      ],
      "text/markdown": [
       "\n",
       "A data.frame: 20 × 6\n",
       "\n",
       "| sampleID &lt;chr&gt; | methyl_count &lt;dbl&gt; | treatment &lt;chr&gt; | methyl_level &lt;dbl&gt; | phase1 &lt;chr&gt; | phase2 &lt;chr&gt; |\n",
       "|---|---|---|---|---|---|\n",
       "| WBBWBVW69 | 147798 | CC | 1.022 | Control | Control |\n",
       "| WBGWBGW44 |  59287 | CC | 0.410 | Control | Control |\n",
       "| WBOWBVW64 | 137931 | CC | 0.954 | Control | Control |\n",
       "| WBVWBOW23 |  81789 | CC | 0.566 | Control | Control |\n",
       "| WBVWBRW12 |  33975 | CC | 0.235 | Control | Control |\n",
       "| WBGBBBW56 | 140077 | CH | 0.969 | Control | Hypoxic |\n",
       "| WBOBBRW03 |  24101 | CH | 0.167 | Control | Hypoxic |\n",
       "| WBRBBYW25 |  73538 | CH | 0.509 | Control | Hypoxic |\n",
       "| WBYBBVW65 | 136233 | CH | 0.942 | Control | Hypoxic |\n",
       "| WBYBBYW30 | 104170 | CH | 0.720 | Control | Hypoxic |\n",
       "| BBBWBOB21 | 138394 | HC | 0.960 | Hypoxic | Control |\n",
       "| BBBWBVB70 | 136261 | HC | 0.940 | Hypoxic | Control |\n",
       "| BBOWBOB16 | 149013 | HC | 1.030 | Hypoxic | Control |\n",
       "| BBOWBVB64 | 136293 | HC | 0.940 | Hypoxic | Control |\n",
       "| BBYWBGB42 |  67842 | HC | 0.470 | Hypoxic | Control |\n",
       "| BBOBBOB16 | 132674 | HH | 0.918 | Hypoxic | Hypoxic |\n",
       "| BBOBBYB27 | 105032 | HH | 0.726 | Hypoxic | Hypoxic |\n",
       "| BBRBBBB50 | 104681 | HH | 0.724 | Hypoxic | Hypoxic |\n",
       "| BBRBBGB38 | 134384 | HH | 0.929 | Hypoxic | Hypoxic |\n",
       "| BBRBBYB26 | 129732 | HH | 0.897 | Hypoxic | Hypoxic |\n",
       "\n"
      ],
      "text/plain": [
       "   sampleID  methyl_count treatment methyl_level phase1  phase2 \n",
       "1  WBBWBVW69 147798       CC        1.022        Control Control\n",
       "2  WBGWBGW44  59287       CC        0.410        Control Control\n",
       "3  WBOWBVW64 137931       CC        0.954        Control Control\n",
       "4  WBVWBOW23  81789       CC        0.566        Control Control\n",
       "5  WBVWBRW12  33975       CC        0.235        Control Control\n",
       "6  WBGBBBW56 140077       CH        0.969        Control Hypoxic\n",
       "7  WBOBBRW03  24101       CH        0.167        Control Hypoxic\n",
       "8  WBRBBYW25  73538       CH        0.509        Control Hypoxic\n",
       "9  WBYBBVW65 136233       CH        0.942        Control Hypoxic\n",
       "10 WBYBBYW30 104170       CH        0.720        Control Hypoxic\n",
       "11 BBBWBOB21 138394       HC        0.960        Hypoxic Control\n",
       "12 BBBWBVB70 136261       HC        0.940        Hypoxic Control\n",
       "13 BBOWBOB16 149013       HC        1.030        Hypoxic Control\n",
       "14 BBOWBVB64 136293       HC        0.940        Hypoxic Control\n",
       "15 BBYWBGB42  67842       HC        0.470        Hypoxic Control\n",
       "16 BBOBBOB16 132674       HH        0.918        Hypoxic Hypoxic\n",
       "17 BBOBBYB27 105032       HH        0.726        Hypoxic Hypoxic\n",
       "18 BBRBBBB50 104681       HH        0.724        Hypoxic Hypoxic\n",
       "19 BBRBBGB38 134384       HH        0.929        Hypoxic Hypoxic\n",
       "20 BBRBBYB26 129732       HH        0.897        Hypoxic Hypoxic"
      ]
     },
     "metadata": {},
     "output_type": "display_data"
    }
   ],
   "source": [
    "# Assuming your data is in a dataframe called 'df'\n",
    "cg_meLevel$phase1 <- ifelse(substr(cg_meLevel$treatment, 1, 1) == \"C\", \"Control\", \"Hypoxic\")\n",
    "cg_meLevel$phase2 <- ifelse(substr(cg_meLevel$treatment, 2, 2) == \"C\", \"Control\", \"Hypoxic\")\n",
    "\n",
    "cg_meLevel"
   ]
  },
  {
   "cell_type": "code",
   "execution_count": 65,
   "id": "d37da61a-6a23-46d3-af90-aeda6940e75a",
   "metadata": {},
   "outputs": [
    {
     "data": {
      "image/png": "[encoded data removed]",
      "text/plain": [
       "plot without title"
      ]
     },
     "metadata": {
      "image/png": {
       "height": 420,
       "width": 420
      }
     },
     "output_type": "display_data"
    }
   ],
   "source": [
    "ggplot(cg_meLevel, aes(x = phase1, y = methyl_level, fill = phase1)) +\n",
    "geom_boxplot() + \n",
    "facet_wrap(~phase2)"
   ]
  },
  {
   "cell_type": "code",
   "execution_count": 56,
   "id": "2d5f4f16-0c87-4462-a063-deea89f66709",
   "metadata": {},
   "outputs": [
    {
     "data": {
      "image/png": "[encoded data removed]",
      "text/plain": [
       "plot without title"
      ]
     },
     "metadata": {
      "image/png": {
       "height": 420,
       "width": 420
      }
     },
     "output_type": "display_data"
    }
   ],
   "source": [
    "cpgBoxplot <- ggplot(cpg, aes(x = phase1, y = methyl_level, fill = phase1)) +\n",
    "  geom_boxplot() +\n",
    "  geom_point() +\n",
    "  facet_wrap(~ phase2) +\n",
    "  scale_fill_manual(values=c('cornflowerblue', 'deeppink2')) +\n",
    "  guides(fill = 'none') +\n",
    "ylim(0, 1.25) +\n",
    "  labs(x = \"First Exposure\", \n",
    "       y = \"Percent of CpGs methylated\",\n",
    "       title = 'B)',\n",
    "       subtitle = \"Second Exposure\") +\n",
    "  theme_bw() +\n",
    "  theme(text = element_text(size = 15), plot.subtitle = element_text(hjust=0.5))\n",
    "\n",
    "cpgBoxplot"
   ]
  },
  {
   "cell_type": "code",
   "execution_count": 7,
   "id": "a05c6d1c-06c6-4857-9e8c-675f473df2e5",
   "metadata": {},
   "outputs": [
    {
     "name": "stderr",
     "output_type": "stream",
     "text": [
      "\u001b[1m\u001b[22mSaving 6.67 x 6.67 in image\n"
     ]
    }
   ],
   "source": [
    "ggsave('/project/pi_sarah_gignouxwolfsohn_uml_edu/julia/CE_MethylRAD_analysis_2018/analysis/figures/cpgMe_boxplot_faceted.pdf', cpgBoxplot)"
   ]
  },
  {
   "cell_type": "markdown",
   "id": "02891bbd-d383-4f62-b0b0-ae3bc12647b0",
   "metadata": {},
   "source": [
    "reordering df and saving for future use"
   ]
  },
  {
   "cell_type": "code",
   "execution_count": 34,
   "id": "c4ec3086-d38c-4449-9f72-04e8a205c13d",
   "metadata": {},
   "outputs": [
    {
     "data": {
      "text/html": [
       "<table class=\"dataframe\">\n",
       "<caption>A data.frame: 20 × 6</caption>\n",
       "<thead>\n",
       "\t<tr><th scope=col>sampleID</th><th scope=col>treatment</th><th scope=col>phase1</th><th scope=col>phase2</th><th scope=col>methyl_count</th><th scope=col>methyl_level</th></tr>\n",
       "\t<tr><th scope=col>&lt;chr&gt;</th><th scope=col>&lt;chr&gt;</th><th scope=col>&lt;chr&gt;</th><th scope=col>&lt;chr&gt;</th><th scope=col>&lt;dbl&gt;</th><th scope=col>&lt;dbl&gt;</th></tr>\n",
       "</thead>\n",
       "<tbody>\n",
       "\t<tr><td>WBBWBVW69</td><td>CC</td><td>Control</td><td>Control</td><td>147798</td><td>1.022</td></tr>\n",
       "\t<tr><td>WBGWBGW44</td><td>CC</td><td>Control</td><td>Control</td><td> 59287</td><td>0.410</td></tr>\n",
       "\t<tr><td>WBOWBVW64</td><td>CC</td><td>Control</td><td>Control</td><td>137931</td><td>0.954</td></tr>\n",
       "\t<tr><td>WBVWBOW23</td><td>CC</td><td>Control</td><td>Control</td><td> 81789</td><td>0.566</td></tr>\n",
       "\t<tr><td>WBVWBRW12</td><td>CC</td><td>Control</td><td>Control</td><td> 33975</td><td>0.235</td></tr>\n",
       "\t<tr><td>WBGBBBW56</td><td>CH</td><td>Control</td><td>Hypoxic</td><td>140077</td><td>0.969</td></tr>\n",
       "\t<tr><td>WBOBBRW03</td><td>CH</td><td>Control</td><td>Hypoxic</td><td> 24101</td><td>0.167</td></tr>\n",
       "\t<tr><td>WBRBBYW25</td><td>CH</td><td>Control</td><td>Hypoxic</td><td> 73538</td><td>0.509</td></tr>\n",
       "\t<tr><td>WBYBBVW65</td><td>CH</td><td>Control</td><td>Hypoxic</td><td>136233</td><td>0.942</td></tr>\n",
       "\t<tr><td>WBYBBYW30</td><td>CH</td><td>Control</td><td>Hypoxic</td><td>104170</td><td>0.720</td></tr>\n",
       "\t<tr><td>BBBWBOB21</td><td>HC</td><td>Hypoxic</td><td>Control</td><td>138394</td><td>0.960</td></tr>\n",
       "\t<tr><td>BBBWBVB70</td><td>HC</td><td>Hypoxic</td><td>Control</td><td>136261</td><td>0.940</td></tr>\n",
       "\t<tr><td>BBOWBOB16</td><td>HC</td><td>Hypoxic</td><td>Control</td><td>149013</td><td>1.030</td></tr>\n",
       "\t<tr><td>BBOWBVB64</td><td>HC</td><td>Hypoxic</td><td>Control</td><td>136293</td><td>0.940</td></tr>\n",
       "\t<tr><td>BBYWBGB42</td><td>HC</td><td>Hypoxic</td><td>Control</td><td> 67842</td><td>0.470</td></tr>\n",
       "\t<tr><td>BBOBBOB16</td><td>HH</td><td>Hypoxic</td><td>Hypoxic</td><td>132674</td><td>0.918</td></tr>\n",
       "\t<tr><td>BBOBBYB27</td><td>HH</td><td>Hypoxic</td><td>Hypoxic</td><td>105032</td><td>0.726</td></tr>\n",
       "\t<tr><td>BBRBBBB50</td><td>HH</td><td>Hypoxic</td><td>Hypoxic</td><td>104681</td><td>0.724</td></tr>\n",
       "\t<tr><td>BBRBBGB38</td><td>HH</td><td>Hypoxic</td><td>Hypoxic</td><td>134384</td><td>0.929</td></tr>\n",
       "\t<tr><td>BBRBBYB26</td><td>HH</td><td>Hypoxic</td><td>Hypoxic</td><td>129732</td><td>0.897</td></tr>\n",
       "</tbody>\n",
       "</table>\n"
      ],
      "text/latex": [
       "A data.frame: 20 × 6\n",
       "\\begin{tabular}{llllll}\n",
       " sampleID & treatment & phase1 & phase2 & methyl\\_count & methyl\\_level\\\\\n",
       " <chr> & <chr> & <chr> & <chr> & <dbl> & <dbl>\\\\\n",
       "\\hline\n",
       "\t WBBWBVW69 & CC & Control & Control & 147798 & 1.022\\\\\n",
       "\t WBGWBGW44 & CC & Control & Control &  59287 & 0.410\\\\\n",
       "\t WBOWBVW64 & CC & Control & Control & 137931 & 0.954\\\\\n",
       "\t WBVWBOW23 & CC & Control & Control &  81789 & 0.566\\\\\n",
       "\t WBVWBRW12 & CC & Control & Control &  33975 & 0.235\\\\\n",
       "\t WBGBBBW56 & CH & Control & Hypoxic & 140077 & 0.969\\\\\n",
       "\t WBOBBRW03 & CH & Control & Hypoxic &  24101 & 0.167\\\\\n",
       "\t WBRBBYW25 & CH & Control & Hypoxic &  73538 & 0.509\\\\\n",
       "\t WBYBBVW65 & CH & Control & Hypoxic & 136233 & 0.942\\\\\n",
       "\t WBYBBYW30 & CH & Control & Hypoxic & 104170 & 0.720\\\\\n",
       "\t BBBWBOB21 & HC & Hypoxic & Control & 138394 & 0.960\\\\\n",
       "\t BBBWBVB70 & HC & Hypoxic & Control & 136261 & 0.940\\\\\n",
       "\t BBOWBOB16 & HC & Hypoxic & Control & 149013 & 1.030\\\\\n",
       "\t BBOWBVB64 & HC & Hypoxic & Control & 136293 & 0.940\\\\\n",
       "\t BBYWBGB42 & HC & Hypoxic & Control &  67842 & 0.470\\\\\n",
       "\t BBOBBOB16 & HH & Hypoxic & Hypoxic & 132674 & 0.918\\\\\n",
       "\t BBOBBYB27 & HH & Hypoxic & Hypoxic & 105032 & 0.726\\\\\n",
       "\t BBRBBBB50 & HH & Hypoxic & Hypoxic & 104681 & 0.724\\\\\n",
       "\t BBRBBGB38 & HH & Hypoxic & Hypoxic & 134384 & 0.929\\\\\n",
       "\t BBRBBYB26 & HH & Hypoxic & Hypoxic & 129732 & 0.897\\\\\n",
       "\\end{tabular}\n"
      ],
      "text/markdown": [
       "\n",
       "A data.frame: 20 × 6\n",
       "\n",
       "| sampleID &lt;chr&gt; | treatment &lt;chr&gt; | phase1 &lt;chr&gt; | phase2 &lt;chr&gt; | methyl_count &lt;dbl&gt; | methyl_level &lt;dbl&gt; |\n",
       "|---|---|---|---|---|---|\n",
       "| WBBWBVW69 | CC | Control | Control | 147798 | 1.022 |\n",
       "| WBGWBGW44 | CC | Control | Control |  59287 | 0.410 |\n",
       "| WBOWBVW64 | CC | Control | Control | 137931 | 0.954 |\n",
       "| WBVWBOW23 | CC | Control | Control |  81789 | 0.566 |\n",
       "| WBVWBRW12 | CC | Control | Control |  33975 | 0.235 |\n",
       "| WBGBBBW56 | CH | Control | Hypoxic | 140077 | 0.969 |\n",
       "| WBOBBRW03 | CH | Control | Hypoxic |  24101 | 0.167 |\n",
       "| WBRBBYW25 | CH | Control | Hypoxic |  73538 | 0.509 |\n",
       "| WBYBBVW65 | CH | Control | Hypoxic | 136233 | 0.942 |\n",
       "| WBYBBYW30 | CH | Control | Hypoxic | 104170 | 0.720 |\n",
       "| BBBWBOB21 | HC | Hypoxic | Control | 138394 | 0.960 |\n",
       "| BBBWBVB70 | HC | Hypoxic | Control | 136261 | 0.940 |\n",
       "| BBOWBOB16 | HC | Hypoxic | Control | 149013 | 1.030 |\n",
       "| BBOWBVB64 | HC | Hypoxic | Control | 136293 | 0.940 |\n",
       "| BBYWBGB42 | HC | Hypoxic | Control |  67842 | 0.470 |\n",
       "| BBOBBOB16 | HH | Hypoxic | Hypoxic | 132674 | 0.918 |\n",
       "| BBOBBYB27 | HH | Hypoxic | Hypoxic | 105032 | 0.726 |\n",
       "| BBRBBBB50 | HH | Hypoxic | Hypoxic | 104681 | 0.724 |\n",
       "| BBRBBGB38 | HH | Hypoxic | Hypoxic | 134384 | 0.929 |\n",
       "| BBRBBYB26 | HH | Hypoxic | Hypoxic | 129732 | 0.897 |\n",
       "\n"
      ],
      "text/plain": [
       "   sampleID  treatment phase1  phase2  methyl_count methyl_level\n",
       "1  WBBWBVW69 CC        Control Control 147798       1.022       \n",
       "2  WBGWBGW44 CC        Control Control  59287       0.410       \n",
       "3  WBOWBVW64 CC        Control Control 137931       0.954       \n",
       "4  WBVWBOW23 CC        Control Control  81789       0.566       \n",
       "5  WBVWBRW12 CC        Control Control  33975       0.235       \n",
       "6  WBGBBBW56 CH        Control Hypoxic 140077       0.969       \n",
       "7  WBOBBRW03 CH        Control Hypoxic  24101       0.167       \n",
       "8  WBRBBYW25 CH        Control Hypoxic  73538       0.509       \n",
       "9  WBYBBVW65 CH        Control Hypoxic 136233       0.942       \n",
       "10 WBYBBYW30 CH        Control Hypoxic 104170       0.720       \n",
       "11 BBBWBOB21 HC        Hypoxic Control 138394       0.960       \n",
       "12 BBBWBVB70 HC        Hypoxic Control 136261       0.940       \n",
       "13 BBOWBOB16 HC        Hypoxic Control 149013       1.030       \n",
       "14 BBOWBVB64 HC        Hypoxic Control 136293       0.940       \n",
       "15 BBYWBGB42 HC        Hypoxic Control  67842       0.470       \n",
       "16 BBOBBOB16 HH        Hypoxic Hypoxic 132674       0.918       \n",
       "17 BBOBBYB27 HH        Hypoxic Hypoxic 105032       0.726       \n",
       "18 BBRBBBB50 HH        Hypoxic Hypoxic 104681       0.724       \n",
       "19 BBRBBGB38 HH        Hypoxic Hypoxic 134384       0.929       \n",
       "20 BBRBBYB26 HH        Hypoxic Hypoxic 129732       0.897       "
      ]
     },
     "metadata": {},
     "output_type": "display_data"
    }
   ],
   "source": [
    "cg_meLevel <- select(cg_meLevel, sampleID, treatment, phase1, phase2, methyl_count, methyl_level)\n",
    "\n",
    "cg_meLevel"
   ]
  },
  {
   "cell_type": "code",
   "execution_count": 35,
   "id": "f6fcd95e-e4d3-4d94-8747-781f311506ce",
   "metadata": {},
   "outputs": [],
   "source": [
    "write.csv(cg_meLevel, '/project/pi_sarah_gignouxwolfsohn_uml_edu/julia/CE_MethylRAD_analysis_2018/analysis/genomic_feature_tracks/methylation_level/CpG_meLevel_withSampleNames.csv', row.names=FALSE)"
   ]
  },
  {
   "cell_type": "markdown",
   "id": "95af8b17-5f4b-40da-8344-18d7ee036fad",
   "metadata": {},
   "source": [
    "Adding growth info"
   ]
  },
  {
   "cell_type": "code",
   "execution_count": 43,
   "id": "fdd4975b-1636-435f-b614-6b42bd47c0d3",
   "metadata": {},
   "outputs": [
    {
     "data": {
      "text/html": [
       "<table class=\"dataframe\">\n",
       "<caption>A data.frame: 6 × 28</caption>\n",
       "<thead>\n",
       "\t<tr><th></th><th scope=col>sample</th><th scope=col>phase1_rep</th><th scope=col>phase2_rep</th><th scope=col>tag</th><th scope=col>methylation.</th><th scope=col>X16s.</th><th scope=col>tag2</th><th scope=col>combined</th><th scope=col>Oyster.Code</th><th scope=col>Phase.1.DO.Treatment</th><th scope=col>⋯</th><th scope=col>Final.Dry.Mass..g.</th><th scope=col>Initial.Shell.Mass..g.</th><th scope=col>Initial.Tissue.Mass..g.</th><th scope=col>Final.Shell.Mass..g.</th><th scope=col>Final.Tissue.Mass..g.</th><th scope=col>Shell.Growth..g.</th><th scope=col>Shell.Growth..mg.</th><th scope=col>Tissue.Growth..g.</th><th scope=col>Tissue.Growth..mg.</th><th scope=col>Tissue.Shell.Growth</th></tr>\n",
       "\t<tr><th></th><th scope=col>&lt;chr&gt;</th><th scope=col>&lt;chr&gt;</th><th scope=col>&lt;chr&gt;</th><th scope=col>&lt;chr&gt;</th><th scope=col>&lt;chr&gt;</th><th scope=col>&lt;chr&gt;</th><th scope=col>&lt;chr&gt;</th><th scope=col>&lt;chr&gt;</th><th scope=col>&lt;chr&gt;</th><th scope=col>&lt;chr&gt;</th><th scope=col>⋯</th><th scope=col>&lt;dbl&gt;</th><th scope=col>&lt;dbl&gt;</th><th scope=col>&lt;dbl&gt;</th><th scope=col>&lt;dbl&gt;</th><th scope=col>&lt;dbl&gt;</th><th scope=col>&lt;dbl&gt;</th><th scope=col>&lt;dbl&gt;</th><th scope=col>&lt;dbl&gt;</th><th scope=col>&lt;dbl&gt;</th><th scope=col>&lt;dbl&gt;</th></tr>\n",
       "</thead>\n",
       "<tbody>\n",
       "\t<tr><th scope=row>1</th><td>2018--WBB-WBV-W69-CV</td><td>WBB</td><td>WBV</td><td>W69</td><td>yes</td><td>no </td><td>69W</td><td>WBBWBV69W</td><td>69W</td><td>Normoxic</td><td>⋯</td><td>0.2334</td><td>0.1467761</td><td>0.05142390</td><td>0.1691075</td><td>0.06429250</td><td>0.02233140</td><td>22.33140</td><td>0.01286860</td><td>12.86860</td><td>0.5762559</td></tr>\n",
       "\t<tr><th scope=row>2</th><td>2018--WBG-WBG-W44-CV</td><td>WBG</td><td>WBG</td><td>W44</td><td>yes</td><td>no </td><td>44W</td><td>WBGWBG44W</td><td>44W</td><td>Normoxic</td><td>⋯</td><td>0.5151</td><td>0.2963678</td><td>0.11763215</td><td>0.3749572</td><td>0.14014280</td><td>0.07858935</td><td>78.58935</td><td>0.02251065</td><td>22.51065</td><td>0.2864338</td></tr>\n",
       "\t<tr><th scope=row>3</th><td>2018--WBO-WBV-W64-CV</td><td>WBO</td><td>WBV</td><td>W64</td><td>yes</td><td>no </td><td>64W</td><td>WBOWBV64W</td><td>64W</td><td>Normoxic</td><td>⋯</td><td>0.2627</td><td>0.1583712</td><td>0.04752875</td><td>0.2031772</td><td>0.05952280</td><td>0.04480595</td><td>44.80595</td><td>0.01199405</td><td>11.99405</td><td>0.2676888</td></tr>\n",
       "\t<tr><th scope=row>4</th><td>2018--WBV-WBO-W23-CV</td><td>WBV</td><td>WBO</td><td>W23</td><td>yes</td><td>no </td><td>23W</td><td>WBVWBO23W</td><td>23W</td><td>Normoxic</td><td>⋯</td><td>0.2849</td><td>0.1914389</td><td>0.06426110</td><td>0.2130546</td><td>0.07184545</td><td>0.02161565</td><td>21.61565</td><td>0.00758435</td><td> 7.58435</td><td>0.3508731</td></tr>\n",
       "\t<tr><th scope=row>5</th><td>2018--WBV-WBR-W12-CV</td><td>WBV</td><td>WBR</td><td>W12</td><td>yes</td><td>no </td><td>12W</td><td>WBVWBR12W</td><td>12W</td><td>Normoxic</td><td>⋯</td><td>0.1744</td><td>0.1141379</td><td>0.02196210</td><td>0.1404775</td><td>0.03392250</td><td>0.02633960</td><td>26.33960</td><td>0.01196040</td><td>11.96040</td><td>0.4540844</td></tr>\n",
       "\t<tr><th scope=row>6</th><td>2018--WBG-BBB-W56-CV</td><td>WBG</td><td>BBB</td><td>W56</td><td>yes</td><td>yes</td><td>56W</td><td>WBGBBB56W</td><td>56W</td><td>Normoxic</td><td>⋯</td><td>0.5996</td><td>0.3254273</td><td>0.15177270</td><td>0.4031577</td><td>0.19644225</td><td>0.07773045</td><td>77.73045</td><td>0.04466955</td><td>44.66955</td><td>0.5746725</td></tr>\n",
       "</tbody>\n",
       "</table>\n"
      ],
      "text/latex": [
       "A data.frame: 6 × 28\n",
       "\\begin{tabular}{r|lllllllllllllllllllll}\n",
       "  & sample & phase1\\_rep & phase2\\_rep & tag & methylation. & X16s. & tag2 & combined & Oyster.Code & Phase.1.DO.Treatment & ⋯ & Final.Dry.Mass..g. & Initial.Shell.Mass..g. & Initial.Tissue.Mass..g. & Final.Shell.Mass..g. & Final.Tissue.Mass..g. & Shell.Growth..g. & Shell.Growth..mg. & Tissue.Growth..g. & Tissue.Growth..mg. & Tissue.Shell.Growth\\\\\n",
       "  & <chr> & <chr> & <chr> & <chr> & <chr> & <chr> & <chr> & <chr> & <chr> & <chr> & ⋯ & <dbl> & <dbl> & <dbl> & <dbl> & <dbl> & <dbl> & <dbl> & <dbl> & <dbl> & <dbl>\\\\\n",
       "\\hline\n",
       "\t1 & 2018--WBB-WBV-W69-CV & WBB & WBV & W69 & yes & no  & 69W & WBBWBV69W & 69W & Normoxic & ⋯ & 0.2334 & 0.1467761 & 0.05142390 & 0.1691075 & 0.06429250 & 0.02233140 & 22.33140 & 0.01286860 & 12.86860 & 0.5762559\\\\\n",
       "\t2 & 2018--WBG-WBG-W44-CV & WBG & WBG & W44 & yes & no  & 44W & WBGWBG44W & 44W & Normoxic & ⋯ & 0.5151 & 0.2963678 & 0.11763215 & 0.3749572 & 0.14014280 & 0.07858935 & 78.58935 & 0.02251065 & 22.51065 & 0.2864338\\\\\n",
       "\t3 & 2018--WBO-WBV-W64-CV & WBO & WBV & W64 & yes & no  & 64W & WBOWBV64W & 64W & Normoxic & ⋯ & 0.2627 & 0.1583712 & 0.04752875 & 0.2031772 & 0.05952280 & 0.04480595 & 44.80595 & 0.01199405 & 11.99405 & 0.2676888\\\\\n",
       "\t4 & 2018--WBV-WBO-W23-CV & WBV & WBO & W23 & yes & no  & 23W & WBVWBO23W & 23W & Normoxic & ⋯ & 0.2849 & 0.1914389 & 0.06426110 & 0.2130546 & 0.07184545 & 0.02161565 & 21.61565 & 0.00758435 &  7.58435 & 0.3508731\\\\\n",
       "\t5 & 2018--WBV-WBR-W12-CV & WBV & WBR & W12 & yes & no  & 12W & WBVWBR12W & 12W & Normoxic & ⋯ & 0.1744 & 0.1141379 & 0.02196210 & 0.1404775 & 0.03392250 & 0.02633960 & 26.33960 & 0.01196040 & 11.96040 & 0.4540844\\\\\n",
       "\t6 & 2018--WBG-BBB-W56-CV & WBG & BBB & W56 & yes & yes & 56W & WBGBBB56W & 56W & Normoxic & ⋯ & 0.5996 & 0.3254273 & 0.15177270 & 0.4031577 & 0.19644225 & 0.07773045 & 77.73045 & 0.04466955 & 44.66955 & 0.5746725\\\\\n",
       "\\end{tabular}\n"
      ],
      "text/markdown": [
       "\n",
       "A data.frame: 6 × 28\n",
       "\n",
       "| <!--/--> | sample &lt;chr&gt; | phase1_rep &lt;chr&gt; | phase2_rep &lt;chr&gt; | tag &lt;chr&gt; | methylation. &lt;chr&gt; | X16s. &lt;chr&gt; | tag2 &lt;chr&gt; | combined &lt;chr&gt; | Oyster.Code &lt;chr&gt; | Phase.1.DO.Treatment &lt;chr&gt; | ⋯ ⋯ | Final.Dry.Mass..g. &lt;dbl&gt; | Initial.Shell.Mass..g. &lt;dbl&gt; | Initial.Tissue.Mass..g. &lt;dbl&gt; | Final.Shell.Mass..g. &lt;dbl&gt; | Final.Tissue.Mass..g. &lt;dbl&gt; | Shell.Growth..g. &lt;dbl&gt; | Shell.Growth..mg. &lt;dbl&gt; | Tissue.Growth..g. &lt;dbl&gt; | Tissue.Growth..mg. &lt;dbl&gt; | Tissue.Shell.Growth &lt;dbl&gt; |\n",
       "|---|---|---|---|---|---|---|---|---|---|---|---|---|---|---|---|---|---|---|---|---|---|\n",
       "| 1 | 2018--WBB-WBV-W69-CV | WBB | WBV | W69 | yes | no  | 69W | WBBWBV69W | 69W | Normoxic | ⋯ | 0.2334 | 0.1467761 | 0.05142390 | 0.1691075 | 0.06429250 | 0.02233140 | 22.33140 | 0.01286860 | 12.86860 | 0.5762559 |\n",
       "| 2 | 2018--WBG-WBG-W44-CV | WBG | WBG | W44 | yes | no  | 44W | WBGWBG44W | 44W | Normoxic | ⋯ | 0.5151 | 0.2963678 | 0.11763215 | 0.3749572 | 0.14014280 | 0.07858935 | 78.58935 | 0.02251065 | 22.51065 | 0.2864338 |\n",
       "| 3 | 2018--WBO-WBV-W64-CV | WBO | WBV | W64 | yes | no  | 64W | WBOWBV64W | 64W | Normoxic | ⋯ | 0.2627 | 0.1583712 | 0.04752875 | 0.2031772 | 0.05952280 | 0.04480595 | 44.80595 | 0.01199405 | 11.99405 | 0.2676888 |\n",
       "| 4 | 2018--WBV-WBO-W23-CV | WBV | WBO | W23 | yes | no  | 23W | WBVWBO23W | 23W | Normoxic | ⋯ | 0.2849 | 0.1914389 | 0.06426110 | 0.2130546 | 0.07184545 | 0.02161565 | 21.61565 | 0.00758435 |  7.58435 | 0.3508731 |\n",
       "| 5 | 2018--WBV-WBR-W12-CV | WBV | WBR | W12 | yes | no  | 12W | WBVWBR12W | 12W | Normoxic | ⋯ | 0.1744 | 0.1141379 | 0.02196210 | 0.1404775 | 0.03392250 | 0.02633960 | 26.33960 | 0.01196040 | 11.96040 | 0.4540844 |\n",
       "| 6 | 2018--WBG-BBB-W56-CV | WBG | BBB | W56 | yes | yes | 56W | WBGBBB56W | 56W | Normoxic | ⋯ | 0.5996 | 0.3254273 | 0.15177270 | 0.4031577 | 0.19644225 | 0.07773045 | 77.73045 | 0.04466955 | 44.66955 | 0.5746725 |\n",
       "\n"
      ],
      "text/plain": [
       "  sample               phase1_rep phase2_rep tag methylation. X16s. tag2\n",
       "1 2018--WBB-WBV-W69-CV WBB        WBV        W69 yes          no    69W \n",
       "2 2018--WBG-WBG-W44-CV WBG        WBG        W44 yes          no    44W \n",
       "3 2018--WBO-WBV-W64-CV WBO        WBV        W64 yes          no    64W \n",
       "4 2018--WBV-WBO-W23-CV WBV        WBO        W23 yes          no    23W \n",
       "5 2018--WBV-WBR-W12-CV WBV        WBR        W12 yes          no    12W \n",
       "6 2018--WBG-BBB-W56-CV WBG        BBB        W56 yes          yes   56W \n",
       "  combined  Oyster.Code Phase.1.DO.Treatment ⋯ Final.Dry.Mass..g.\n",
       "1 WBBWBV69W 69W         Normoxic             ⋯ 0.2334            \n",
       "2 WBGWBG44W 44W         Normoxic             ⋯ 0.5151            \n",
       "3 WBOWBV64W 64W         Normoxic             ⋯ 0.2627            \n",
       "4 WBVWBO23W 23W         Normoxic             ⋯ 0.2849            \n",
       "5 WBVWBR12W 12W         Normoxic             ⋯ 0.1744            \n",
       "6 WBGBBB56W 56W         Normoxic             ⋯ 0.5996            \n",
       "  Initial.Shell.Mass..g. Initial.Tissue.Mass..g. Final.Shell.Mass..g.\n",
       "1 0.1467761              0.05142390              0.1691075           \n",
       "2 0.2963678              0.11763215              0.3749572           \n",
       "3 0.1583712              0.04752875              0.2031772           \n",
       "4 0.1914389              0.06426110              0.2130546           \n",
       "5 0.1141379              0.02196210              0.1404775           \n",
       "6 0.3254273              0.15177270              0.4031577           \n",
       "  Final.Tissue.Mass..g. Shell.Growth..g. Shell.Growth..mg. Tissue.Growth..g.\n",
       "1 0.06429250            0.02233140       22.33140          0.01286860       \n",
       "2 0.14014280            0.07858935       78.58935          0.02251065       \n",
       "3 0.05952280            0.04480595       44.80595          0.01199405       \n",
       "4 0.07184545            0.02161565       21.61565          0.00758435       \n",
       "5 0.03392250            0.02633960       26.33960          0.01196040       \n",
       "6 0.19644225            0.07773045       77.73045          0.04466955       \n",
       "  Tissue.Growth..mg. Tissue.Shell.Growth\n",
       "1 12.86860           0.5762559          \n",
       "2 22.51065           0.2864338          \n",
       "3 11.99405           0.2676888          \n",
       "4  7.58435           0.3508731          \n",
       "5 11.96040           0.4540844          \n",
       "6 44.66955           0.5746725          "
      ]
     },
     "metadata": {},
     "output_type": "display_data"
    }
   ],
   "source": [
    "growth <- read.csv('/project/pi_sarah_gignouxwolfsohn_uml_edu/julia/CE_MethylRAD_analysis_2018/analysis/genomic_feature_tracks/methylation_level/growth_methylation.csv')\n",
    "\n",
    "growth <- growth[,(7:34)]\n",
    "\n",
    "head(growth)"
   ]
  },
  {
   "cell_type": "code",
   "execution_count": 55,
   "id": "c93a9498-eaf4-404d-8e9d-52cec4cb4341",
   "metadata": {},
   "outputs": [],
   "source": [
    "colnames(cg_meLevel)[1] <- \"combined\""
   ]
  },
  {
   "cell_type": "code",
   "execution_count": 58,
   "id": "a4524dd5-981a-4fd0-934f-32c6661c8190",
   "metadata": {},
   "outputs": [
    {
     "data": {
      "text/html": [
       "<table class=\"dataframe\">\n",
       "<caption>A data.frame: 6 × 6</caption>\n",
       "<thead>\n",
       "\t<tr><th></th><th scope=col>combined</th><th scope=col>treatment</th><th scope=col>phase1</th><th scope=col>phase2</th><th scope=col>methyl_count</th><th scope=col>methyl_level</th></tr>\n",
       "\t<tr><th></th><th scope=col>&lt;chr&gt;</th><th scope=col>&lt;chr&gt;</th><th scope=col>&lt;chr&gt;</th><th scope=col>&lt;chr&gt;</th><th scope=col>&lt;dbl&gt;</th><th scope=col>&lt;dbl&gt;</th></tr>\n",
       "</thead>\n",
       "<tbody>\n",
       "\t<tr><th scope=row>1</th><td>WBBWBVW69</td><td>CC</td><td>Control</td><td>Control</td><td>147798</td><td>1.022</td></tr>\n",
       "\t<tr><th scope=row>2</th><td>WBGWBGW44</td><td>CC</td><td>Control</td><td>Control</td><td> 59287</td><td>0.410</td></tr>\n",
       "\t<tr><th scope=row>3</th><td>WBOWBVW64</td><td>CC</td><td>Control</td><td>Control</td><td>137931</td><td>0.954</td></tr>\n",
       "\t<tr><th scope=row>4</th><td>WBVWBOW23</td><td>CC</td><td>Control</td><td>Control</td><td> 81789</td><td>0.566</td></tr>\n",
       "\t<tr><th scope=row>5</th><td>WBVWBRW12</td><td>CC</td><td>Control</td><td>Control</td><td> 33975</td><td>0.235</td></tr>\n",
       "\t<tr><th scope=row>6</th><td>WBGBBBW56</td><td>CH</td><td>Control</td><td>Hypoxic</td><td>140077</td><td>0.969</td></tr>\n",
       "</tbody>\n",
       "</table>\n"
      ],
      "text/latex": [
       "A data.frame: 6 × 6\n",
       "\\begin{tabular}{r|llllll}\n",
       "  & combined & treatment & phase1 & phase2 & methyl\\_count & methyl\\_level\\\\\n",
       "  & <chr> & <chr> & <chr> & <chr> & <dbl> & <dbl>\\\\\n",
       "\\hline\n",
       "\t1 & WBBWBVW69 & CC & Control & Control & 147798 & 1.022\\\\\n",
       "\t2 & WBGWBGW44 & CC & Control & Control &  59287 & 0.410\\\\\n",
       "\t3 & WBOWBVW64 & CC & Control & Control & 137931 & 0.954\\\\\n",
       "\t4 & WBVWBOW23 & CC & Control & Control &  81789 & 0.566\\\\\n",
       "\t5 & WBVWBRW12 & CC & Control & Control &  33975 & 0.235\\\\\n",
       "\t6 & WBGBBBW56 & CH & Control & Hypoxic & 140077 & 0.969\\\\\n",
       "\\end{tabular}\n"
      ],
      "text/markdown": [
       "\n",
       "A data.frame: 6 × 6\n",
       "\n",
       "| <!--/--> | combined &lt;chr&gt; | treatment &lt;chr&gt; | phase1 &lt;chr&gt; | phase2 &lt;chr&gt; | methyl_count &lt;dbl&gt; | methyl_level &lt;dbl&gt; |\n",
       "|---|---|---|---|---|---|---|\n",
       "| 1 | WBBWBVW69 | CC | Control | Control | 147798 | 1.022 |\n",
       "| 2 | WBGWBGW44 | CC | Control | Control |  59287 | 0.410 |\n",
       "| 3 | WBOWBVW64 | CC | Control | Control | 137931 | 0.954 |\n",
       "| 4 | WBVWBOW23 | CC | Control | Control |  81789 | 0.566 |\n",
       "| 5 | WBVWBRW12 | CC | Control | Control |  33975 | 0.235 |\n",
       "| 6 | WBGBBBW56 | CH | Control | Hypoxic | 140077 | 0.969 |\n",
       "\n"
      ],
      "text/plain": [
       "  combined  treatment phase1  phase2  methyl_count methyl_level\n",
       "1 WBBWBVW69 CC        Control Control 147798       1.022       \n",
       "2 WBGWBGW44 CC        Control Control  59287       0.410       \n",
       "3 WBOWBVW64 CC        Control Control 137931       0.954       \n",
       "4 WBVWBOW23 CC        Control Control  81789       0.566       \n",
       "5 WBVWBRW12 CC        Control Control  33975       0.235       \n",
       "6 WBGBBBW56 CH        Control Hypoxic 140077       0.969       "
      ]
     },
     "metadata": {},
     "output_type": "display_data"
    }
   ],
   "source": [
    "head(cg_meLevel)"
   ]
  },
  {
   "cell_type": "code",
   "execution_count": 67,
   "id": "e9107899-660f-49f2-8341-e3cd1c8574c3",
   "metadata": {},
   "outputs": [],
   "source": [
    "growth$combined <- paste(growth$phase1_rep, growth$phase2_rep, growth$tag, sep='')"
   ]
  },
  {
   "cell_type": "code",
   "execution_count": 74,
   "id": "7ae4e8e9-0cf6-4d8d-9bfa-dfe59d59cb16",
   "metadata": {},
   "outputs": [
    {
     "data": {
      "text/html": [
       "<table class=\"dataframe\">\n",
       "<caption>A data.frame: 6 × 33</caption>\n",
       "<thead>\n",
       "\t<tr><th></th><th scope=col>combined</th><th scope=col>treatment</th><th scope=col>phase1</th><th scope=col>phase2</th><th scope=col>methyl_count</th><th scope=col>methyl_level</th><th scope=col>sample</th><th scope=col>phase1_rep</th><th scope=col>phase2_rep</th><th scope=col>tag</th><th scope=col>⋯</th><th scope=col>Final.Dry.Mass..g.</th><th scope=col>Initial.Shell.Mass..g.</th><th scope=col>Initial.Tissue.Mass..g.</th><th scope=col>Final.Shell.Mass..g.</th><th scope=col>Final.Tissue.Mass..g.</th><th scope=col>Shell.Growth..g.</th><th scope=col>Shell.Growth..mg.</th><th scope=col>Tissue.Growth..g.</th><th scope=col>Tissue.Growth..mg.</th><th scope=col>Tissue.Shell.Growth</th></tr>\n",
       "\t<tr><th></th><th scope=col>&lt;chr&gt;</th><th scope=col>&lt;chr&gt;</th><th scope=col>&lt;chr&gt;</th><th scope=col>&lt;chr&gt;</th><th scope=col>&lt;dbl&gt;</th><th scope=col>&lt;dbl&gt;</th><th scope=col>&lt;chr&gt;</th><th scope=col>&lt;chr&gt;</th><th scope=col>&lt;chr&gt;</th><th scope=col>&lt;chr&gt;</th><th scope=col>⋯</th><th scope=col>&lt;dbl&gt;</th><th scope=col>&lt;dbl&gt;</th><th scope=col>&lt;dbl&gt;</th><th scope=col>&lt;dbl&gt;</th><th scope=col>&lt;dbl&gt;</th><th scope=col>&lt;dbl&gt;</th><th scope=col>&lt;dbl&gt;</th><th scope=col>&lt;dbl&gt;</th><th scope=col>&lt;dbl&gt;</th><th scope=col>&lt;dbl&gt;</th></tr>\n",
       "</thead>\n",
       "<tbody>\n",
       "\t<tr><th scope=row>1</th><td>BBBWBOB21</td><td>HC</td><td>Hypoxic</td><td>Control</td><td>138394</td><td>0.960</td><td>2018--BBB-WBO-B21-CV</td><td>BBB</td><td>WBO</td><td>B21</td><td>⋯</td><td>0.3187</td><td>0.20360665</td><td>0.07299335</td><td>0.2386784</td><td>0.08002160</td><td> 0.03507175</td><td>35.07175</td><td> 0.00702825</td><td> 7.02825</td><td>0.2003963</td></tr>\n",
       "\t<tr><th scope=row>2</th><td>BBBWBVB70</td><td>HC</td><td>Hypoxic</td><td>Control</td><td>136261</td><td>0.940</td><td>2018--BBB-WBV-B70-CV</td><td>BBB</td><td>WBV</td><td>B70</td><td>⋯</td><td>0.3176</td><td>0.20704225</td><td>0.11495775</td><td>0.2037498</td><td>0.11385020</td><td>-0.00329250</td><td>-3.29245</td><td>-0.00110760</td><td>-1.10755</td><td>0.3363908</td></tr>\n",
       "\t<tr><th scope=row>3</th><td>BBOBBOB16</td><td>HH</td><td>Hypoxic</td><td>Hypoxic</td><td>132674</td><td>0.918</td><td>2018--BBO-BBO-B16-CV</td><td>BBO</td><td>BBO</td><td>B16</td><td>⋯</td><td>0.1332</td><td>0.09653045</td><td>0.02076955</td><td>0.1104160</td><td>0.02278400</td><td> 0.01388555</td><td>13.88555</td><td> 0.00201445</td><td> 2.01445</td><td>0.1450753</td></tr>\n",
       "\t<tr><th scope=row>4</th><td>BBOBBYB27</td><td>HH</td><td>Hypoxic</td><td>Hypoxic</td><td>105032</td><td>0.726</td><td>2018--BBO-BBY-B27-CV</td><td>BBO</td><td>BBY</td><td>B27</td><td>⋯</td><td>0.5593</td><td>0.30681780</td><td>0.15978220</td><td>0.3710922</td><td>0.18820785</td><td> 0.06427435</td><td>64.27435</td><td> 0.02842565</td><td>28.42565</td><td>0.4422550</td></tr>\n",
       "\t<tr><th scope=row>5</th><td>BBOWBOB16</td><td>HC</td><td>Hypoxic</td><td>Control</td><td>149013</td><td>1.030</td><td>2018--BBO-WBO-B16-CV</td><td>BBO</td><td>WBO</td><td>B16</td><td>⋯</td><td>0.3113</td><td>0.21577440</td><td>0.05172560</td><td>0.2522777</td><td>0.05902235</td><td> 0.03650325</td><td>36.50325</td><td> 0.00729675</td><td> 7.29675</td><td>0.1998932</td></tr>\n",
       "\t<tr><th scope=row>6</th><td>BBOWBVB64</td><td>HC</td><td>Hypoxic</td><td>Control</td><td>136293</td><td>0.940</td><td>2018--BBO-WBV-B64-CV</td><td>BBO</td><td>WBV</td><td>B64</td><td>⋯</td><td>0.3281</td><td>0.17769650</td><td>0.08260350</td><td>0.2255086</td><td>0.10259140</td><td> 0.04781210</td><td>47.81210</td><td> 0.01998790</td><td>19.98790</td><td>0.4180511</td></tr>\n",
       "</tbody>\n",
       "</table>\n"
      ],
      "text/latex": [
       "A data.frame: 6 × 33\n",
       "\\begin{tabular}{r|lllllllllllllllllllll}\n",
       "  & combined & treatment & phase1 & phase2 & methyl\\_count & methyl\\_level & sample & phase1\\_rep & phase2\\_rep & tag & ⋯ & Final.Dry.Mass..g. & Initial.Shell.Mass..g. & Initial.Tissue.Mass..g. & Final.Shell.Mass..g. & Final.Tissue.Mass..g. & Shell.Growth..g. & Shell.Growth..mg. & Tissue.Growth..g. & Tissue.Growth..mg. & Tissue.Shell.Growth\\\\\n",
       "  & <chr> & <chr> & <chr> & <chr> & <dbl> & <dbl> & <chr> & <chr> & <chr> & <chr> & ⋯ & <dbl> & <dbl> & <dbl> & <dbl> & <dbl> & <dbl> & <dbl> & <dbl> & <dbl> & <dbl>\\\\\n",
       "\\hline\n",
       "\t1 & BBBWBOB21 & HC & Hypoxic & Control & 138394 & 0.960 & 2018--BBB-WBO-B21-CV & BBB & WBO & B21 & ⋯ & 0.3187 & 0.20360665 & 0.07299335 & 0.2386784 & 0.08002160 &  0.03507175 & 35.07175 &  0.00702825 &  7.02825 & 0.2003963\\\\\n",
       "\t2 & BBBWBVB70 & HC & Hypoxic & Control & 136261 & 0.940 & 2018--BBB-WBV-B70-CV & BBB & WBV & B70 & ⋯ & 0.3176 & 0.20704225 & 0.11495775 & 0.2037498 & 0.11385020 & -0.00329250 & -3.29245 & -0.00110760 & -1.10755 & 0.3363908\\\\\n",
       "\t3 & BBOBBOB16 & HH & Hypoxic & Hypoxic & 132674 & 0.918 & 2018--BBO-BBO-B16-CV & BBO & BBO & B16 & ⋯ & 0.1332 & 0.09653045 & 0.02076955 & 0.1104160 & 0.02278400 &  0.01388555 & 13.88555 &  0.00201445 &  2.01445 & 0.1450753\\\\\n",
       "\t4 & BBOBBYB27 & HH & Hypoxic & Hypoxic & 105032 & 0.726 & 2018--BBO-BBY-B27-CV & BBO & BBY & B27 & ⋯ & 0.5593 & 0.30681780 & 0.15978220 & 0.3710922 & 0.18820785 &  0.06427435 & 64.27435 &  0.02842565 & 28.42565 & 0.4422550\\\\\n",
       "\t5 & BBOWBOB16 & HC & Hypoxic & Control & 149013 & 1.030 & 2018--BBO-WBO-B16-CV & BBO & WBO & B16 & ⋯ & 0.3113 & 0.21577440 & 0.05172560 & 0.2522777 & 0.05902235 &  0.03650325 & 36.50325 &  0.00729675 &  7.29675 & 0.1998932\\\\\n",
       "\t6 & BBOWBVB64 & HC & Hypoxic & Control & 136293 & 0.940 & 2018--BBO-WBV-B64-CV & BBO & WBV & B64 & ⋯ & 0.3281 & 0.17769650 & 0.08260350 & 0.2255086 & 0.10259140 &  0.04781210 & 47.81210 &  0.01998790 & 19.98790 & 0.4180511\\\\\n",
       "\\end{tabular}\n"
      ],
      "text/markdown": [
       "\n",
       "A data.frame: 6 × 33\n",
       "\n",
       "| <!--/--> | combined &lt;chr&gt; | treatment &lt;chr&gt; | phase1 &lt;chr&gt; | phase2 &lt;chr&gt; | methyl_count &lt;dbl&gt; | methyl_level &lt;dbl&gt; | sample &lt;chr&gt; | phase1_rep &lt;chr&gt; | phase2_rep &lt;chr&gt; | tag &lt;chr&gt; | ⋯ ⋯ | Final.Dry.Mass..g. &lt;dbl&gt; | Initial.Shell.Mass..g. &lt;dbl&gt; | Initial.Tissue.Mass..g. &lt;dbl&gt; | Final.Shell.Mass..g. &lt;dbl&gt; | Final.Tissue.Mass..g. &lt;dbl&gt; | Shell.Growth..g. &lt;dbl&gt; | Shell.Growth..mg. &lt;dbl&gt; | Tissue.Growth..g. &lt;dbl&gt; | Tissue.Growth..mg. &lt;dbl&gt; | Tissue.Shell.Growth &lt;dbl&gt; |\n",
       "|---|---|---|---|---|---|---|---|---|---|---|---|---|---|---|---|---|---|---|---|---|---|\n",
       "| 1 | BBBWBOB21 | HC | Hypoxic | Control | 138394 | 0.960 | 2018--BBB-WBO-B21-CV | BBB | WBO | B21 | ⋯ | 0.3187 | 0.20360665 | 0.07299335 | 0.2386784 | 0.08002160 |  0.03507175 | 35.07175 |  0.00702825 |  7.02825 | 0.2003963 |\n",
       "| 2 | BBBWBVB70 | HC | Hypoxic | Control | 136261 | 0.940 | 2018--BBB-WBV-B70-CV | BBB | WBV | B70 | ⋯ | 0.3176 | 0.20704225 | 0.11495775 | 0.2037498 | 0.11385020 | -0.00329250 | -3.29245 | -0.00110760 | -1.10755 | 0.3363908 |\n",
       "| 3 | BBOBBOB16 | HH | Hypoxic | Hypoxic | 132674 | 0.918 | 2018--BBO-BBO-B16-CV | BBO | BBO | B16 | ⋯ | 0.1332 | 0.09653045 | 0.02076955 | 0.1104160 | 0.02278400 |  0.01388555 | 13.88555 |  0.00201445 |  2.01445 | 0.1450753 |\n",
       "| 4 | BBOBBYB27 | HH | Hypoxic | Hypoxic | 105032 | 0.726 | 2018--BBO-BBY-B27-CV | BBO | BBY | B27 | ⋯ | 0.5593 | 0.30681780 | 0.15978220 | 0.3710922 | 0.18820785 |  0.06427435 | 64.27435 |  0.02842565 | 28.42565 | 0.4422550 |\n",
       "| 5 | BBOWBOB16 | HC | Hypoxic | Control | 149013 | 1.030 | 2018--BBO-WBO-B16-CV | BBO | WBO | B16 | ⋯ | 0.3113 | 0.21577440 | 0.05172560 | 0.2522777 | 0.05902235 |  0.03650325 | 36.50325 |  0.00729675 |  7.29675 | 0.1998932 |\n",
       "| 6 | BBOWBVB64 | HC | Hypoxic | Control | 136293 | 0.940 | 2018--BBO-WBV-B64-CV | BBO | WBV | B64 | ⋯ | 0.3281 | 0.17769650 | 0.08260350 | 0.2255086 | 0.10259140 |  0.04781210 | 47.81210 |  0.01998790 | 19.98790 | 0.4180511 |\n",
       "\n"
      ],
      "text/plain": [
       "  combined  treatment phase1  phase2  methyl_count methyl_level\n",
       "1 BBBWBOB21 HC        Hypoxic Control 138394       0.960       \n",
       "2 BBBWBVB70 HC        Hypoxic Control 136261       0.940       \n",
       "3 BBOBBOB16 HH        Hypoxic Hypoxic 132674       0.918       \n",
       "4 BBOBBYB27 HH        Hypoxic Hypoxic 105032       0.726       \n",
       "5 BBOWBOB16 HC        Hypoxic Control 149013       1.030       \n",
       "6 BBOWBVB64 HC        Hypoxic Control 136293       0.940       \n",
       "  sample               phase1_rep phase2_rep tag ⋯ Final.Dry.Mass..g.\n",
       "1 2018--BBB-WBO-B21-CV BBB        WBO        B21 ⋯ 0.3187            \n",
       "2 2018--BBB-WBV-B70-CV BBB        WBV        B70 ⋯ 0.3176            \n",
       "3 2018--BBO-BBO-B16-CV BBO        BBO        B16 ⋯ 0.1332            \n",
       "4 2018--BBO-BBY-B27-CV BBO        BBY        B27 ⋯ 0.5593            \n",
       "5 2018--BBO-WBO-B16-CV BBO        WBO        B16 ⋯ 0.3113            \n",
       "6 2018--BBO-WBV-B64-CV BBO        WBV        B64 ⋯ 0.3281            \n",
       "  Initial.Shell.Mass..g. Initial.Tissue.Mass..g. Final.Shell.Mass..g.\n",
       "1 0.20360665             0.07299335              0.2386784           \n",
       "2 0.20704225             0.11495775              0.2037498           \n",
       "3 0.09653045             0.02076955              0.1104160           \n",
       "4 0.30681780             0.15978220              0.3710922           \n",
       "5 0.21577440             0.05172560              0.2522777           \n",
       "6 0.17769650             0.08260350              0.2255086           \n",
       "  Final.Tissue.Mass..g. Shell.Growth..g. Shell.Growth..mg. Tissue.Growth..g.\n",
       "1 0.08002160             0.03507175      35.07175           0.00702825      \n",
       "2 0.11385020            -0.00329250      -3.29245          -0.00110760      \n",
       "3 0.02278400             0.01388555      13.88555           0.00201445      \n",
       "4 0.18820785             0.06427435      64.27435           0.02842565      \n",
       "5 0.05902235             0.03650325      36.50325           0.00729675      \n",
       "6 0.10259140             0.04781210      47.81210           0.01998790      \n",
       "  Tissue.Growth..mg. Tissue.Shell.Growth\n",
       "1  7.02825           0.2003963          \n",
       "2 -1.10755           0.3363908          \n",
       "3  2.01445           0.1450753          \n",
       "4 28.42565           0.4422550          \n",
       "5  7.29675           0.1998932          \n",
       "6 19.98790           0.4180511          "
      ]
     },
     "metadata": {},
     "output_type": "display_data"
    }
   ],
   "source": [
    "growth_me <- merge(cg_meLevel, growth, by = 'combined')\n",
    "head(growth_me)"
   ]
  },
  {
   "cell_type": "code",
   "execution_count": 73,
   "id": "1a8ffd01-4716-45fa-9749-0742a6362f39",
   "metadata": {},
   "outputs": [],
   "source": [
    "write.csv(growth_me, '/project/pi_sarah_gignouxwolfsohn_uml_edu/julia/CE_MethylRAD_analysis_2018/analysis/genomic_feature_tracks/methylation_level/growth_methylation.csv')"
   ]
  }
 ],
 "metadata": {
  "kernelspec": {
   "display_name": "R [conda env:.conda-r-env]",
   "language": "R",
   "name": "conda-env-.conda-r-env-r"
  },
  "language_info": {
   "codemirror_mode": "r",
   "file_extension": ".r",
   "mimetype": "text/x-r-source",
   "name": "R",
   "pygments_lexer": "r",
   "version": "4.3.2"
  }
 },
 "nbformat": 4,
 "nbformat_minor": 5
}
