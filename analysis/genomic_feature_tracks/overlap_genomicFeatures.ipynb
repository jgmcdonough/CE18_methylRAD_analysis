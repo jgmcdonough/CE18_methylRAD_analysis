{
 "cells": [
  {
   "cell_type": "markdown",
   "id": "a42f122a-183c-48fc-a0ac-0662181fe513",
   "metadata": {},
   "source": [
    "# overlap of methylated CpG with gene features\n",
    "\n",
    "Would like to know how many CpG dinucleotides overlap with genomic features, as well as methylated CpGs\n",
    "\n",
    "using the [BEDtools suite](https://bedtools.readthedocs.io/en/latest/content/bedtools-suite.html)\n",
    "\n",
    "\n",
    "#### run in command line:"
   ]
  },
  {
   "cell_type": "code",
   "execution_count": 1,
   "id": "fd937fab-c522-44f4-94d4-0f96a0ab8f55",
   "metadata": {},
   "outputs": [],
   "source": [
    "# gene feature GFF3 files\n",
    "!exonList=\"/project/pi_sarah_gignouxwolfsohn_uml_edu/julia/CE_MethylRAD_analysis_2018/analysis/genomic_feature_tracks/CV_exon_sorted.gff3\"\n",
    "!intronList=\"/project/pi_sarah_gignouxwolfsohn_uml_edu/julia/CE_MethylRAD_analysis_2018/analysis/genomic_feature_tracks/CV_intron.gff3\"\n",
    "!exonUTR=\"/project/pi_sarah_gignouxwolfsohn_uml_edu/julia/CE_MethylRAD_analysis_2018/analysis/genomic_feature_tracks/CV_exonUTR.gff3\"\n",
    "!promoterList=\"/project/pi_sarah_gignouxwolfsohn_uml_edu/julia/CE_MethylRAD_analysis_2018/analysis/genomic_feature_tracks/mRNA_promoter_track.bed\"\n",
    "!intergenicList=\"/project/pi_sarah_gignouxwolfsohn_uml_edu/julia/CE_MethylRAD_analysis_2018/analysis/genomic_feature_tracks/CV_intergenic.gff3\"\n",
    "!teList=\"/project/pi_sarah_gignouxwolfsohn_uml_edu/julia/CE_MethylRAD_analysis_2018/analysis/genomic_feature_tracks/Venkataraman_files/C_virginica-3.0_TE-all.gff\"\n",
    "!geneList=\"/project/pi_sarah_gignouxwolfsohn_uml_edu/julia/CE_MethylRAD_analysis_2018/analysis/genomic_feature_tracks/CV_gene_sorted.gff3\"\n",
    "!noncodingList=\"/project/pi_sarah_gignouxwolfsohn_uml_edu/julia/CE_MethylRAD_analysis_2018/analysis/genomic_feature_tracks/CV_noncoding.gff3\"\n",
    "!cdsList='/project/pi_sarah_gignouxwolfsohn_uml_edu/julia/CE_MethylRAD_analysis_2018/analysis/genomic_feature_tracks/CV_CDS_sorted.gff3'\n",
    "\n",
    "# CpG dinucleotide list\n",
    "!cpgList=\"/project/pi_sarah_gignouxwolfsohn_uml_edu/julia/CE_methyl_assembly/assembly_pipeline_files/genomic_bed_files/C_virginica-3.0_CG-motif.bed\"\n"
   ]
  },
  {
   "cell_type": "code",
   "execution_count": 1,
   "id": "092fc196-ffb7-45d2-96d1-b9e86101b008",
   "metadata": {},
   "outputs": [],
   "source": [
    "# gene feature BED files\n",
    "!exonList=\"/project/pi_sarah_gignouxwolfsohn_uml_edu/julia/CE_MethylRAD_analysis_2018/analysis/genomic_feature_tracks/CV_exon_sorted.bed\"\n",
    "!intronList=\"/project/pi_sarah_gignouxwolfsohn_uml_edu/julia/CE_MethylRAD_analysis_2018/analysis/genomic_feature_tracks/CV_intron.bed\"\n",
    "!exonUTR=\"/project/pi_sarah_gignouxwolfsohn_uml_edu/julia/CE_MethylRAD_analysis_2018/analysis/genomic_feature_tracks/CV_exonUTR.bed\"\n",
    "!promoterList=\"/project/pi_sarah_gignouxwolfsohn_uml_edu/julia/CE_MethylRAD_analysis_2018/analysis/genomic_feature_tracks/mRNA_promoter_track.bed\"\n",
    "!intergenicList=\"/project/pi_sarah_gignouxwolfsohn_uml_edu/julia/CE_MethylRAD_analysis_2018/analysis/genomic_feature_tracks/CV_intergenic.bed\"\n",
    "!teList=\"/project/pi_sarah_gignouxwolfsohn_uml_edu/julia/CE_MethylRAD_analysis_2018/analysis/genomic_feature_tracks/Venkataraman_files/C_virginica-3.0_TE-all.gff\"\n",
    "!geneList=\"/project/pi_sarah_gignouxwolfsohn_uml_edu/julia/CE_MethylRAD_analysis_2018/analysis/genomic_feature_tracks/CV_gene_sorted.bed\"\n",
    "!noncodingList=\"/project/pi_sarah_gignouxwolfsohn_uml_edu/julia/CE_MethylRAD_analysis_2018/analysis/genomic_feature_tracks/CV_noncoding.bed\"\n",
    "\n",
    "# CpG dinucleotide list\n",
    "!cpgList=\"/project/pi_sarah_gignouxwolfsohn_uml_edu/julia/CE_methyl_assembly/assembly_pipeline_files/genomic_bed_files/C_virginica-3.0_CG-motif.bed\"\n"
   ]
  },
  {
   "cell_type": "code",
   "execution_count": null,
   "id": "b832f72d-b8d5-4790-9c04-240cd1d71649",
   "metadata": {},
   "outputs": [],
   "source": [
    "!head $geneList"
   ]
  },
  {
   "cell_type": "markdown",
   "id": "19c19e9e-b727-4f9e-9a0c-a8ac60e797cf",
   "metadata": {},
   "source": [
    "**all CpG dinucleotides** "
   ]
  },
  {
   "cell_type": "code",
   "execution_count": 68,
   "id": "66e89146-e59b-4141-b951-0f40577dfd85",
   "metadata": {},
   "outputs": [
    {
     "name": "stdout",
     "output_type": "stream",
     "text": [
      "Error: Unable to open file -b. Exiting.\n",
      "0\n",
      "total CpG dinucleotides in genes\n"
     ]
    }
   ],
   "source": [
    "!bedtools intersect -u -a $cpgList -b $geneList | wc -l\n",
    "!echo \"total CpG dinucleotides in genes\""
   ]
  },
  {
   "cell_type": "markdown",
   "id": "99aefa4a-beaf-4bf3-ac82-495da96274d9",
   "metadata": {},
   "source": [
    "7774742 CpG motifs overlap with genes"
   ]
  },
  {
   "cell_type": "code",
   "execution_count": 63,
   "id": "c92b89f4-3276-47e3-8ba0-18885475e69c",
   "metadata": {},
   "outputs": [
    {
     "name": "stdout",
     "output_type": "stream",
     "text": [
      "Error: Unable to open file -b. Exiting.\n",
      "0\n",
      "total CpG dinucleotides in exons\n"
     ]
    }
   ],
   "source": [
    "!bedtools intersect -u -a $cpgList -b $exonList | wc -l\n",
    "!echo \"total CpG dinucleotides in exons\""
   ]
  },
  {
   "cell_type": "markdown",
   "id": "b967bb30-3593-4152-be2a-8a765367fdcd",
   "metadata": {},
   "source": [
    "2330546 CpG motifs overlap with exons"
   ]
  },
  {
   "cell_type": "code",
   "execution_count": null,
   "id": "9913fafc-143f-4439-a9bf-38f4ce43513c",
   "metadata": {},
   "outputs": [],
   "source": [
    "bedtools intersect -u -a $cpgList -b $intronList | wc -l\n",
    "echo \"total CpG dinucleotides in introns\""
   ]
  },
  {
   "cell_type": "markdown",
   "id": "c8eb2c96-0181-4e46-a82f-4e452459a80f",
   "metadata": {},
   "source": [
    "5497874 CpG motifs overlap with introns"
   ]
  },
  {
   "cell_type": "code",
   "execution_count": null,
   "id": "1a78c48b-8dd8-4d07-a559-dc8326ed15b4",
   "metadata": {},
   "outputs": [],
   "source": [
    "bedtools intersect -u -a $cpgList -b $exonUTR | wc -l\n",
    "echo \"total CpG dinucleotides in UTRs\""
   ]
  },
  {
   "cell_type": "markdown",
   "id": "27e6bb90-683f-4965-a87f-51a6b45cb161",
   "metadata": {},
   "source": [
    "602551 CpG motifs overlap with exon UTRs"
   ]
  },
  {
   "cell_type": "code",
   "execution_count": null,
   "id": "3ed0bf70-e0f1-4ba4-8f00-fec4d6e210eb",
   "metadata": {},
   "outputs": [],
   "source": [
    "bedtools intersect -u -a $cpgList -b $promoterList | wc -l\n",
    "echo \"total CpG dinucleotides in putative promoters\""
   ]
  },
  {
   "cell_type": "markdown",
   "id": "49520960-d153-4f84-9d7c-e04a3c28ce8b",
   "metadata": {},
   "source": [
    "926518 CpG motifs overlap with putative promoters"
   ]
  },
  {
   "cell_type": "code",
   "execution_count": null,
   "id": "97c5e38c-9cfe-4cd9-97a1-18586a55bb78",
   "metadata": {},
   "outputs": [],
   "source": [
    "bedtools intersect -u -a $cpgList -b $intergenicList | wc -l\n",
    "echo \"total CpG dinucleotides in intergenic regions\""
   ]
  },
  {
   "cell_type": "markdown",
   "id": "daf3b745-5465-4627-b7dd-8f85ee847644",
   "metadata": {},
   "source": [
    "6644297 CpG motifs overlap with intergenic regions"
   ]
  },
  {
   "cell_type": "code",
   "execution_count": null,
   "id": "f1adeee1-ff43-40c2-a58d-b5c45b26f152",
   "metadata": {},
   "outputs": [],
   "source": [
    "bedtools intersect -u -a $cpgList -b $noncodingList | wc -l\n",
    "echo \"total CpG dinucleotides in non-coding regions\""
   ]
  },
  {
   "cell_type": "markdown",
   "id": "c1ae7a6a-e88b-4dd4-97a3-ad28317c3f84",
   "metadata": {},
   "source": [
    "12142171 CpG motifs overlap with non-coding regions"
   ]
  },
  {
   "cell_type": "code",
   "execution_count": null,
   "id": "92558bec-c6d9-4999-bffb-e0f207d0fc44",
   "metadata": {},
   "outputs": [],
   "source": [
    "bedtools intersect -u -a $cpgList -b $teList | wc -l\n",
    "echo \"total CpG dinucleotides in transposable elements\""
   ]
  },
  {
   "cell_type": "markdown",
   "id": "65794d34-6b70-4168-942f-cc2727f56280",
   "metadata": {},
   "source": [
    "2828372 CpG motifs overlap with intergenic regions"
   ]
  },
  {
   "cell_type": "code",
   "execution_count": null,
   "id": "0d3985c5-8683-49aa-bb5d-da66891009cb",
   "metadata": {},
   "outputs": [],
   "source": [
    "bedtools intersect -u -a $cpgList -b $cdsList | wc -l\n",
    "echo \"total CpG dinucleotides in coding sequences\""
   ]
  },
  {
   "cell_type": "markdown",
   "id": "51db3631-0e6e-4452-9814-b69675cfe874",
   "metadata": {},
   "source": [
    "1728032 total CpG dinucleotides in coding sequences"
   ]
  },
  {
   "cell_type": "markdown",
   "id": "c17cf1de-5c9a-43d6-8d02-31e621ce1dac",
   "metadata": {},
   "source": [
    "#### methylated CpG by treatment\n",
    "\n",
    "first, filtering treatment CpG motifs - a CpG dinucleotide is considered methylated if the average count across the four replicates is greater than or equal to 4. This ensures that we're not counting a CpG methylated if one sample has a count of 15 and the rest have 0."
   ]
  },
  {
   "cell_type": "code",
   "execution_count": 46,
   "id": "85c82e7c-4125-4a3a-992c-3d88ea15b417",
   "metadata": {},
   "outputs": [
    {
     "data": {
      "text/html": [
       "<table class=\"dataframe\">\n",
       "<caption>A data.frame: 6 × 3</caption>\n",
       "<thead>\n",
       "\t<tr><th></th><th scope=col>chromosome</th><th scope=col>start</th><th scope=col>stop</th></tr>\n",
       "\t<tr><th></th><th scope=col>&lt;chr&gt;</th><th scope=col>&lt;int&gt;</th><th scope=col>&lt;int&gt;</th></tr>\n",
       "</thead>\n",
       "<tbody>\n",
       "\t<tr><th scope=row>1</th><td>NC_035780.1</td><td> 23615</td><td> 23617</td></tr>\n",
       "\t<tr><th scope=row>2</th><td>NC_035780.1</td><td> 23620</td><td> 23622</td></tr>\n",
       "\t<tr><th scope=row>3</th><td>NC_035780.1</td><td> 23624</td><td> 23626</td></tr>\n",
       "\t<tr><th scope=row>4</th><td>NC_035780.1</td><td> 23631</td><td> 23633</td></tr>\n",
       "\t<tr><th scope=row>5</th><td>NC_035780.1</td><td> 23638</td><td> 23640</td></tr>\n",
       "\t<tr><th scope=row>6</th><td>NC_035780.1</td><td>198167</td><td>198169</td></tr>\n",
       "</tbody>\n",
       "</table>\n"
      ],
      "text/latex": [
       "A data.frame: 6 × 3\n",
       "\\begin{tabular}{r|lll}\n",
       "  & chromosome & start & stop\\\\\n",
       "  & <chr> & <int> & <int>\\\\\n",
       "\\hline\n",
       "\t1 & NC\\_035780.1 &  23615 &  23617\\\\\n",
       "\t2 & NC\\_035780.1 &  23620 &  23622\\\\\n",
       "\t3 & NC\\_035780.1 &  23624 &  23626\\\\\n",
       "\t4 & NC\\_035780.1 &  23631 &  23633\\\\\n",
       "\t5 & NC\\_035780.1 &  23638 &  23640\\\\\n",
       "\t6 & NC\\_035780.1 & 198167 & 198169\\\\\n",
       "\\end{tabular}\n"
      ],
      "text/markdown": [
       "\n",
       "A data.frame: 6 × 3\n",
       "\n",
       "| <!--/--> | chromosome &lt;chr&gt; | start &lt;int&gt; | stop &lt;int&gt; |\n",
       "|---|---|---|---|\n",
       "| 1 | NC_035780.1 |  23615 |  23617 |\n",
       "| 2 | NC_035780.1 |  23620 |  23622 |\n",
       "| 3 | NC_035780.1 |  23624 |  23626 |\n",
       "| 4 | NC_035780.1 |  23631 |  23633 |\n",
       "| 5 | NC_035780.1 |  23638 |  23640 |\n",
       "| 6 | NC_035780.1 | 198167 | 198169 |\n",
       "\n"
      ],
      "text/plain": [
       "  chromosome  start  stop  \n",
       "1 NC_035780.1  23615  23617\n",
       "2 NC_035780.1  23620  23622\n",
       "3 NC_035780.1  23624  23626\n",
       "4 NC_035780.1  23631  23633\n",
       "5 NC_035780.1  23638  23640\n",
       "6 NC_035780.1 198167 198169"
      ]
     },
     "metadata": {},
     "output_type": "display_data"
    }
   ],
   "source": [
    "# Calculate average counts of last 5 columns\n",
    "CH_multicov$avg_counts <- rowMeans(CH_multicov[, tail(names(CH_multicov), 5)])\n",
    "\n",
    "# Remove rows with averages below 5\n",
    "CH_filtered <- CH_multicov[CH_multicov$avg_counts >= 5, ]\n",
    "\n",
    "# Remove temporary average column\n",
    "CH_filtered$avg_counts <- NULL\n",
    "\n",
    "CH_bed <- select(CH_filtered, chromosome, start, stop)\n",
    "rownames(CH_bed) <- NULL\n",
    "head(CH_bed)\n",
    "\n",
    "write.table(CH_bed[, c(\"chromosome\", \"start\", \"stop\")], \n",
    "            file = \"/project/pi_sarah_gignouxwolfsohn_uml_edu/julia/CE_MethylRAD_analysis_2018/analysis/counts_and_meta/genomic_features/CH_cpgMethyl.bed\", \n",
    "            sep = \"\\t\", \n",
    "            #header = FALSE, \n",
    "            quote = FALSE, \n",
    "            row.names = FALSE, \n",
    "            col.names = FALSE)"
   ]
  },
  {
   "cell_type": "code",
   "execution_count": 45,
   "id": "601c277d-3aca-4669-91dc-24036dc971bb",
   "metadata": {},
   "outputs": [
    {
     "data": {
      "text/html": [
       "<table class=\"dataframe\">\n",
       "<caption>A data.frame: 6 × 3</caption>\n",
       "<thead>\n",
       "\t<tr><th></th><th scope=col>chromosome</th><th scope=col>start</th><th scope=col>stop</th></tr>\n",
       "\t<tr><th></th><th scope=col>&lt;chr&gt;</th><th scope=col>&lt;int&gt;</th><th scope=col>&lt;int&gt;</th></tr>\n",
       "</thead>\n",
       "<tbody>\n",
       "\t<tr><th scope=row>1</th><td>NC_035780.1</td><td> 23615</td><td> 23617</td></tr>\n",
       "\t<tr><th scope=row>2</th><td>NC_035780.1</td><td> 23620</td><td> 23622</td></tr>\n",
       "\t<tr><th scope=row>3</th><td>NC_035780.1</td><td> 23624</td><td> 23626</td></tr>\n",
       "\t<tr><th scope=row>4</th><td>NC_035780.1</td><td> 23631</td><td> 23633</td></tr>\n",
       "\t<tr><th scope=row>5</th><td>NC_035780.1</td><td> 23638</td><td> 23640</td></tr>\n",
       "\t<tr><th scope=row>6</th><td>NC_035780.1</td><td>162717</td><td>162719</td></tr>\n",
       "</tbody>\n",
       "</table>\n"
      ],
      "text/latex": [
       "A data.frame: 6 × 3\n",
       "\\begin{tabular}{r|lll}\n",
       "  & chromosome & start & stop\\\\\n",
       "  & <chr> & <int> & <int>\\\\\n",
       "\\hline\n",
       "\t1 & NC\\_035780.1 &  23615 &  23617\\\\\n",
       "\t2 & NC\\_035780.1 &  23620 &  23622\\\\\n",
       "\t3 & NC\\_035780.1 &  23624 &  23626\\\\\n",
       "\t4 & NC\\_035780.1 &  23631 &  23633\\\\\n",
       "\t5 & NC\\_035780.1 &  23638 &  23640\\\\\n",
       "\t6 & NC\\_035780.1 & 162717 & 162719\\\\\n",
       "\\end{tabular}\n"
      ],
      "text/markdown": [
       "\n",
       "A data.frame: 6 × 3\n",
       "\n",
       "| <!--/--> | chromosome &lt;chr&gt; | start &lt;int&gt; | stop &lt;int&gt; |\n",
       "|---|---|---|---|\n",
       "| 1 | NC_035780.1 |  23615 |  23617 |\n",
       "| 2 | NC_035780.1 |  23620 |  23622 |\n",
       "| 3 | NC_035780.1 |  23624 |  23626 |\n",
       "| 4 | NC_035780.1 |  23631 |  23633 |\n",
       "| 5 | NC_035780.1 |  23638 |  23640 |\n",
       "| 6 | NC_035780.1 | 162717 | 162719 |\n",
       "\n"
      ],
      "text/plain": [
       "  chromosome  start  stop  \n",
       "1 NC_035780.1  23615  23617\n",
       "2 NC_035780.1  23620  23622\n",
       "3 NC_035780.1  23624  23626\n",
       "4 NC_035780.1  23631  23633\n",
       "5 NC_035780.1  23638  23640\n",
       "6 NC_035780.1 162717 162719"
      ]
     },
     "metadata": {},
     "output_type": "display_data"
    }
   ],
   "source": [
    "# Calculate average counts of last 5 columns\n",
    "CC_multicov$avg_counts <- rowMeans(CC_multicov[, tail(names(CC_multicov), 5)])\n",
    "\n",
    "# Remove rows with averages below 5\n",
    "CC_filtered <- CH_multicov[CC_multicov$avg_counts >= 5, ]\n",
    "\n",
    "# Remove temporary average column\n",
    "CC_filtered$avg_counts <- NULL\n",
    "\n",
    "CC_bed <- select(CC_filtered, chromosome, start, stop)\n",
    "rownames(CC_bed) <- NULL\n",
    "head(CC_bed)\n",
    "\n",
    "write.table(CC_bed[, c(\"chromosome\", \"start\", \"stop\")], \n",
    "            file = \"/project/pi_sarah_gignouxwolfsohn_uml_edu/julia/CE_MethylRAD_analysis_2018/analysis/counts_and_meta/genomic_features/CC_cpgMethyl.bed\", \n",
    "            sep = \"\\t\", \n",
    "            #header = FALSE, \n",
    "            quote = FALSE, \n",
    "            row.names = FALSE, \n",
    "            col.names = FALSE)"
   ]
  },
  {
   "cell_type": "code",
   "execution_count": 47,
   "id": "91e1e2b9-ecdf-4341-9704-0184dd82c04f",
   "metadata": {},
   "outputs": [
    {
     "data": {
      "text/html": [
       "<table class=\"dataframe\">\n",
       "<caption>A data.frame: 6 × 3</caption>\n",
       "<thead>\n",
       "\t<tr><th></th><th scope=col>chromosome</th><th scope=col>start</th><th scope=col>stop</th></tr>\n",
       "\t<tr><th></th><th scope=col>&lt;chr&gt;</th><th scope=col>&lt;int&gt;</th><th scope=col>&lt;int&gt;</th></tr>\n",
       "</thead>\n",
       "<tbody>\n",
       "\t<tr><th scope=row>1</th><td>NC_035780.1</td><td>17176</td><td>17178</td></tr>\n",
       "\t<tr><th scope=row>2</th><td>NC_035780.1</td><td>20142</td><td>20144</td></tr>\n",
       "\t<tr><th scope=row>3</th><td>NC_035780.1</td><td>20149</td><td>20151</td></tr>\n",
       "\t<tr><th scope=row>4</th><td>NC_035780.1</td><td>20157</td><td>20159</td></tr>\n",
       "\t<tr><th scope=row>5</th><td>NC_035780.1</td><td>20170</td><td>20172</td></tr>\n",
       "\t<tr><th scope=row>6</th><td>NC_035780.1</td><td>23584</td><td>23586</td></tr>\n",
       "</tbody>\n",
       "</table>\n"
      ],
      "text/latex": [
       "A data.frame: 6 × 3\n",
       "\\begin{tabular}{r|lll}\n",
       "  & chromosome & start & stop\\\\\n",
       "  & <chr> & <int> & <int>\\\\\n",
       "\\hline\n",
       "\t1 & NC\\_035780.1 & 17176 & 17178\\\\\n",
       "\t2 & NC\\_035780.1 & 20142 & 20144\\\\\n",
       "\t3 & NC\\_035780.1 & 20149 & 20151\\\\\n",
       "\t4 & NC\\_035780.1 & 20157 & 20159\\\\\n",
       "\t5 & NC\\_035780.1 & 20170 & 20172\\\\\n",
       "\t6 & NC\\_035780.1 & 23584 & 23586\\\\\n",
       "\\end{tabular}\n"
      ],
      "text/markdown": [
       "\n",
       "A data.frame: 6 × 3\n",
       "\n",
       "| <!--/--> | chromosome &lt;chr&gt; | start &lt;int&gt; | stop &lt;int&gt; |\n",
       "|---|---|---|---|\n",
       "| 1 | NC_035780.1 | 17176 | 17178 |\n",
       "| 2 | NC_035780.1 | 20142 | 20144 |\n",
       "| 3 | NC_035780.1 | 20149 | 20151 |\n",
       "| 4 | NC_035780.1 | 20157 | 20159 |\n",
       "| 5 | NC_035780.1 | 20170 | 20172 |\n",
       "| 6 | NC_035780.1 | 23584 | 23586 |\n",
       "\n"
      ],
      "text/plain": [
       "  chromosome  start stop \n",
       "1 NC_035780.1 17176 17178\n",
       "2 NC_035780.1 20142 20144\n",
       "3 NC_035780.1 20149 20151\n",
       "4 NC_035780.1 20157 20159\n",
       "5 NC_035780.1 20170 20172\n",
       "6 NC_035780.1 23584 23586"
      ]
     },
     "metadata": {},
     "output_type": "display_data"
    }
   ],
   "source": [
    "# Calculate average counts of last 5 columns\n",
    "HH_multicov$avg_counts <- rowMeans(HH_multicov[, tail(names(HH_multicov), 5)])\n",
    "\n",
    "# Remove rows with averages below 5\n",
    "HH_filtered <- HH_multicov[HH_multicov$avg_counts >= 5, ]\n",
    "\n",
    "# Remove temporary average column\n",
    "HH_filtered$avg_counts <- NULL\n",
    "\n",
    "HH_bed <- select(HH_filtered, chromosome, start, stop)\n",
    "rownames(HH_bed) <- NULL\n",
    "head(HH_bed)\n",
    "\n",
    "write.table(HH_bed[, c(\"chromosome\", \"start\", \"stop\")], \n",
    "            file = \"/project/pi_sarah_gignouxwolfsohn_uml_edu/julia/CE_MethylRAD_analysis_2018/analysis/counts_and_meta/genomic_features/HH_cpgMethyl.bed\", \n",
    "            sep = \"\\t\", \n",
    "            #header = FALSE, \n",
    "            quote = FALSE, \n",
    "            row.names = FALSE, \n",
    "            col.names = FALSE)"
   ]
  },
  {
   "cell_type": "code",
   "execution_count": 48,
   "id": "3f6d27f1-98e6-4476-b44c-e9cd5aba0dee",
   "metadata": {},
   "outputs": [
    {
     "data": {
      "text/html": [
       "<table class=\"dataframe\">\n",
       "<caption>A data.frame: 6 × 3</caption>\n",
       "<thead>\n",
       "\t<tr><th></th><th scope=col>chromosome</th><th scope=col>start</th><th scope=col>stop</th></tr>\n",
       "\t<tr><th></th><th scope=col>&lt;chr&gt;</th><th scope=col>&lt;int&gt;</th><th scope=col>&lt;int&gt;</th></tr>\n",
       "</thead>\n",
       "<tbody>\n",
       "\t<tr><th scope=row>1</th><td>NC_035780.1</td><td>17176</td><td>17178</td></tr>\n",
       "\t<tr><th scope=row>2</th><td>NC_035780.1</td><td>20142</td><td>20144</td></tr>\n",
       "\t<tr><th scope=row>3</th><td>NC_035780.1</td><td>20149</td><td>20151</td></tr>\n",
       "\t<tr><th scope=row>4</th><td>NC_035780.1</td><td>20157</td><td>20159</td></tr>\n",
       "\t<tr><th scope=row>5</th><td>NC_035780.1</td><td>20170</td><td>20172</td></tr>\n",
       "\t<tr><th scope=row>6</th><td>NC_035780.1</td><td>23615</td><td>23617</td></tr>\n",
       "</tbody>\n",
       "</table>\n"
      ],
      "text/latex": [
       "A data.frame: 6 × 3\n",
       "\\begin{tabular}{r|lll}\n",
       "  & chromosome & start & stop\\\\\n",
       "  & <chr> & <int> & <int>\\\\\n",
       "\\hline\n",
       "\t1 & NC\\_035780.1 & 17176 & 17178\\\\\n",
       "\t2 & NC\\_035780.1 & 20142 & 20144\\\\\n",
       "\t3 & NC\\_035780.1 & 20149 & 20151\\\\\n",
       "\t4 & NC\\_035780.1 & 20157 & 20159\\\\\n",
       "\t5 & NC\\_035780.1 & 20170 & 20172\\\\\n",
       "\t6 & NC\\_035780.1 & 23615 & 23617\\\\\n",
       "\\end{tabular}\n"
      ],
      "text/markdown": [
       "\n",
       "A data.frame: 6 × 3\n",
       "\n",
       "| <!--/--> | chromosome &lt;chr&gt; | start &lt;int&gt; | stop &lt;int&gt; |\n",
       "|---|---|---|---|\n",
       "| 1 | NC_035780.1 | 17176 | 17178 |\n",
       "| 2 | NC_035780.1 | 20142 | 20144 |\n",
       "| 3 | NC_035780.1 | 20149 | 20151 |\n",
       "| 4 | NC_035780.1 | 20157 | 20159 |\n",
       "| 5 | NC_035780.1 | 20170 | 20172 |\n",
       "| 6 | NC_035780.1 | 23615 | 23617 |\n",
       "\n"
      ],
      "text/plain": [
       "  chromosome  start stop \n",
       "1 NC_035780.1 17176 17178\n",
       "2 NC_035780.1 20142 20144\n",
       "3 NC_035780.1 20149 20151\n",
       "4 NC_035780.1 20157 20159\n",
       "5 NC_035780.1 20170 20172\n",
       "6 NC_035780.1 23615 23617"
      ]
     },
     "metadata": {},
     "output_type": "display_data"
    }
   ],
   "source": [
    "# Calculate average counts of last 5 columns\n",
    "HC_multicov$avg_counts <- rowMeans(HC_multicov[, tail(names(HC_multicov), 5)])\n",
    "\n",
    "# Remove rows with averages below 5\n",
    "HC_filtered <- HC_multicov[HC_multicov$avg_counts >= 5, ]\n",
    "\n",
    "# Remove temporary average column\n",
    "HC_filtered$avg_counts <- NULL\n",
    "\n",
    "HC_bed <- select(HC_filtered, chromosome, start, stop)\n",
    "rownames(HC_bed) <- NULL\n",
    "head(HC_bed)\n",
    "\n",
    "write.table(HC_bed[, c(\"chromosome\", \"start\", \"stop\")], \n",
    "            file = \"/project/pi_sarah_gignouxwolfsohn_uml_edu/julia/CE_MethylRAD_analysis_2018/analysis/counts_and_meta/genomic_features/HC_cpgMethyl.bed\", \n",
    "            sep = \"\\t\", \n",
    "            #header = FALSE, \n",
    "            quote = FALSE, \n",
    "            row.names = FALSE, \n",
    "            col.names = FALSE)"
   ]
  },
  {
   "cell_type": "code",
   "execution_count": 49,
   "id": "66d7a88a-8f17-40d6-af94-5ff761977703",
   "metadata": {},
   "outputs": [],
   "source": [
    "# CpG lists for each treatment\n",
    "input_dir=\"/project/pi_sarah_gignouxwolfsohn_uml_edu/julia/CE_MethylRAD_analysis_2018/analysis/counts_and_meta/genomic_features/\"\n",
    "CC_CpG=${input_dir}\"CC_cpgMethyl.bed\"\n",
    "CH_CpG=${input_dir}\"CH_cpgMethyl.bed\"\n",
    "HC_CpG=${input_dir}\"HC_cpgMethyl.bed\"\n",
    "HH_CpG=${input_dir}\"HH_cpgMethyl.bed\""
   ]
  },
  {
   "cell_type": "markdown",
   "id": "687fdff9-cffa-4fb2-a11c-a3c2ec41f887",
   "metadata": {},
   "source": [
    "**methylated CpG in genes**"
   ]
  },
  {
   "cell_type": "code",
   "execution_count": null,
   "id": "e25e1aee-4cfd-43c1-8aae-c390066d29c6",
   "metadata": {},
   "outputs": [],
   "source": [
    "bedtools intersect -u -a $CC_CpG -b $geneList | wc -l\n",
    "echo \"methylated CpG for cont cont overlaps with genes\"\n",
    "\n",
    "bedtools intersect -u -a $CH_CpG -b $geneList | wc -l\n",
    "echo \"methylated CpG for cont hyp overlaps with genes\"\n",
    "\n",
    "bedtools intersect -u -a $HC_CpG -b $geneList | wc -l\n",
    "echo \"methylated CpG for hyp cont overlaps with genes\"\n",
    "\n",
    "bedtools intersect -u -a $HH_CpG -b $geneList | wc -l\n",
    "echo \"methylated CpG for hyp hyp overlaps with genes\""
   ]
  },
  {
   "cell_type": "markdown",
   "id": "90c6415f-f9c4-4dd9-b191-7852be8ef19f",
   "metadata": {},
   "source": [
    "75361 methylated CpG for cont cont overlaps with genes\n",
    "\n",
    "78373 methylated CpG for cont hyp overlaps with genes\n",
    "\n",
    "108269 methylated CpG for hyp cont overlaps with genes\n",
    "\n",
    "99120 methylated CpG for hyp hyp overlaps with genes"
   ]
  },
  {
   "cell_type": "markdown",
   "id": "dad89b81-6f3a-46c2-a553-77791cd83f6d",
   "metadata": {},
   "source": [
    "**methylated CpG in exons**"
   ]
  },
  {
   "cell_type": "code",
   "execution_count": null,
   "id": "505aeef2-9868-45e3-ab2b-f9c3975b50dd",
   "metadata": {},
   "outputs": [],
   "source": [
    "bedtools intersect -u -a $CC_CpG -b $exonList | wc -l\n",
    "echo \"methylated CpG for cont cont overlaps with exons\"\n",
    "\n",
    "bedtools intersect -u -a $CH_CpG -b $exonList | wc -l\n",
    "echo \"methylated CpG for cont hyp overlaps with exons\"\n",
    "\n",
    "bedtools intersect -u -a $HC_CpG -b $exonList | wc -l\n",
    "echo \"methylated CpG for hyp cont overlaps with exons\"\n",
    "\n",
    "bedtools intersect -u -a $HH_CpG -b $exonList | wc -l\n",
    "echo \"methylated CpG for hyp hyp overlaps with exons\""
   ]
  },
  {
   "cell_type": "markdown",
   "id": "fe4a9bdd-affc-4bc9-9b53-c17902cb863d",
   "metadata": {},
   "source": [
    "51436 methylated CpG for cont cont overlaps with exons\n",
    "\n",
    "52475 methylated CpG for cont hyp overlaps with exons\n",
    "\n",
    "67166 methylated CpG for hyp cont overlaps with exons\n",
    "\n",
    "63302 methylated CpG for hyp hyp overlaps with exons\n"
   ]
  },
  {
   "cell_type": "markdown",
   "id": "d8f02a76-67cb-44a7-bf07-f2364e0baf25",
   "metadata": {},
   "source": [
    "**methylated CpG in introns**"
   ]
  },
  {
   "cell_type": "code",
   "execution_count": null,
   "id": "9fb39afb-3155-4b30-9e89-ef7986332fef",
   "metadata": {},
   "outputs": [],
   "source": [
    "bedtools intersect -u -a $CC_CpG -b $intronList | wc -l\n",
    "echo \"methylated CpG for cont cont overlaps with introns\"\n",
    "\n",
    "bedtools intersect -u -a $CH_CpG -b $intronList | wc -l\n",
    "echo \"methylated CpG for cont hyp overlaps with introns\"\n",
    "\n",
    "bedtools intersect -u -a $HC_CpG -b $intronList | wc -l\n",
    "echo \"methylated CpG for hyp cont overlaps with introns\"\n",
    "\n",
    "bedtools intersect -u -a $HH_CpG -b $intronList | wc -l\n",
    "echo \"methylated CpG for hyp hyp overlaps with introns\""
   ]
  },
  {
   "cell_type": "markdown",
   "id": "bf9e2788-1ce1-46e8-8321-07556578b274",
   "metadata": {},
   "source": [
    "24630 methylated CpG for cont cont overlaps with introns\n",
    "\n",
    "26655 methylated CpG for cont hyp overlaps with introns\n",
    "\n",
    "42077 methylated CpG for hyp cont overlaps with introns\n",
    "\n",
    "36738 methylated CpG for hyp hyp overlaps with introns"
   ]
  },
  {
   "cell_type": "markdown",
   "id": "078139b9-e98e-4864-9045-fe4a72e18a20",
   "metadata": {},
   "source": [
    "**methylated CpG in putative promoters**"
   ]
  },
  {
   "cell_type": "code",
   "execution_count": null,
   "id": "0d85424c-8b69-4b87-8606-6d9a437e16ad",
   "metadata": {},
   "outputs": [],
   "source": [
    "bedtools intersect -u -a $CC_CpG -b $promoterList | wc -l\n",
    "echo \"methylated CpG for cont cont overlaps with promoters\"\n",
    "\n",
    "bedtools intersect -u -a $CH_CpG -b $promoterList | wc -l\n",
    "echo \"methylated CpG for cont hyp overlaps with promoters\"\n",
    "\n",
    "bedtools intersect -u -a $HC_CpG -b $promoterList | wc -l\n",
    "echo \"methylated CpG for hyp cont overlaps with promoters\"\n",
    "\n",
    "bedtools intersect -u -a $HH_CpG -b $promoterList | wc -l\n",
    "echo \"methylated CpG for hyp hyp overlaps with promoters\""
   ]
  },
  {
   "cell_type": "markdown",
   "id": "93e7f366-c405-4d7f-ba80-c21885b09b0c",
   "metadata": {},
   "source": [
    "2816 methylated CpG for cont cont overlaps with promoters\n",
    "\n",
    "3271 methylated CpG for cont hyp overlaps with promoters\n",
    "\n",
    "5399 methylated CpG for hyp cont overlaps with promoters\n",
    "\n",
    "4674 methylated CpG for hyp hyp overlaps with promoters"
   ]
  },
  {
   "cell_type": "markdown",
   "id": "eba5bdce-6ab8-4c7f-864b-6eced5bb5db8",
   "metadata": {},
   "source": [
    "**methylated CpG in exon UTRs**"
   ]
  },
  {
   "cell_type": "code",
   "execution_count": null,
   "id": "29d859bb-41de-4277-9527-c2a2c839b1ad",
   "metadata": {},
   "outputs": [],
   "source": [
    "bedtools intersect -u -a $CC_CpG -b $exonUTR | wc -l\n",
    "echo \"methylated CpG for cont cont overlaps with UTRs\"\n",
    "\n",
    "bedtools intersect -u -a $CH_CpG -b $exonUTR | wc -l\n",
    "echo \"methylated CpG for cont hyp overlaps with UTRs\"\n",
    "\n",
    "bedtools intersect -u -a $HC_CpG -b $exonUTR | wc -l\n",
    "echo \"methylated CpG for hyp cont overlaps with UTRs\"\n",
    "\n",
    "bedtools intersect -u -a $HH_CpG -b $exonUTR | wc -l\n",
    "echo \"methylated CpG for hyp hyp overlaps with UTRs\""
   ]
  },
  {
   "cell_type": "markdown",
   "id": "f2770e29-fa3e-458f-be9e-ce4d5596878c",
   "metadata": {},
   "source": [
    "3730 methylated CpG for cont cont overlaps with UTRs\n",
    "\n",
    "3833 methylated CpG for cont hyp overlaps with UTRs\n",
    "\n",
    "5028 methylated CpG for hyp cont overlaps with UTRs\n",
    "\n",
    "4698 methylated CpG for hyp hyp overlaps with UTRs\n"
   ]
  },
  {
   "cell_type": "markdown",
   "id": "e8fa8d21-772f-4732-bb99-e3afa6b63ee9",
   "metadata": {},
   "source": [
    "**methylated CpG in transposable elements**"
   ]
  },
  {
   "cell_type": "code",
   "execution_count": null,
   "id": "b9c38fb1-163b-4af2-bfb9-0a421fadf608",
   "metadata": {},
   "outputs": [],
   "source": [
    "bedtools intersect -u -a $CC_CpG -b $teList | wc -l\n",
    "echo \"methylated CpG for cont cont overlaps with TEs\"\n",
    "\n",
    "bedtools intersect -u -a $CH_CpG -b $teList | wc -l\n",
    "echo \"methylated CpG for cont hyp overlaps with TEs\"\n",
    "\n",
    "bedtools intersect -u -a $HC_CpG -b $teList | wc -l\n",
    "echo \"methylated CpG for hyp cont overlaps with TEs\"\n",
    "\n",
    "bedtools intersect -u -a $HH_CpG -b $teList | wc -l\n",
    "echo \"methylated CpG for hyp hyp overlaps with TEs\""
   ]
  },
  {
   "cell_type": "markdown",
   "id": "5261f977-ea6f-4655-94cb-5d867231ae74",
   "metadata": {},
   "source": [
    "13950 methylated CpG for cont cont overlaps with TEs\n",
    "\n",
    "15377 methylated CpG for cont hyp overlaps with TEs\n",
    "\n",
    "23916 methylated CpG for hyp cont overlaps with TEs\n",
    "\n",
    "21942 methylated CpG for hyp hyp overlaps with TEs"
   ]
  },
  {
   "cell_type": "markdown",
   "id": "be218760-8594-4d79-bd89-842f1c4650fc",
   "metadata": {},
   "source": [
    "**methylated CpG in intergenic regions**"
   ]
  },
  {
   "cell_type": "code",
   "execution_count": null,
   "id": "efd07ec5-225d-4f0d-ac8a-e81330c0c4c6",
   "metadata": {},
   "outputs": [],
   "source": [
    "bedtools intersect -u -a $CC_CpG -b $intergenicList | wc -l\n",
    "echo \"methylated CpG for cont cont overlaps with intergenic regions\"\n",
    "\n",
    "bedtools intersect -u -a $CH_CpG -b $intergenicList | wc -l\n",
    "echo \"methylated CpG for cont hyp overlaps with intergenic regions\"\n",
    "\n",
    "bedtools intersect -u -a $HC_CpG -b $intergenicList | wc -l\n",
    "echo \"methylated CpG for hyp cont overlaps with intergenic regions\"\n",
    "\n",
    "bedtools intersect -u -a $HH_CpG -b $intergenicList | wc -l\n",
    "echo \"methylated CpG for hyp hyp overlaps with intergenic regions\""
   ]
  },
  {
   "cell_type": "markdown",
   "id": "29ed6d5f-4e88-4544-a331-a5fd5ebfab13",
   "metadata": {},
   "source": [
    "15623 methylated CpG for cont cont overlaps with intergenic regions\n",
    "\n",
    "18016 methylated CpG for cont hyp overlaps with intergenic regions\n",
    "\n",
    "31804 methylated CpG for hyp cont overlaps with intergenic regions\n",
    "\n",
    "26827 methylated CpG for hyp hyp overlaps with intergenic regions\n"
   ]
  },
  {
   "cell_type": "markdown",
   "id": "0cc96763-bc79-455c-a8ce-9a051a95c580",
   "metadata": {},
   "source": [
    "## no overlaps with genomic features\n",
    "\n",
    "CpGs that do not overlap any feature (aka unannotated intergenic regions)"
   ]
  },
  {
   "cell_type": "code",
   "execution_count": null,
   "id": "a8ca491a-bc77-4d86-b6fe-563a9252799c",
   "metadata": {},
   "outputs": [],
   "source": [
    "# CpG motif\n",
    "bedtools intersect -v -a $cpgList -b $exonList $intronList $teList $promoterList | wc -l\n",
    "echo \"CpG motifs do not overlap with exons, introns, transposable elements (all), or putative promoters\""
   ]
  },
  {
   "cell_type": "markdown",
   "id": "566bf46b-a50c-4528-bbf1-5f1cc05dcb6a",
   "metadata": {},
   "source": [
    "4499027 CpG motifs do not overlap with exons, introns, transposable elements (all), or putative promoters"
   ]
  },
  {
   "cell_type": "code",
   "execution_count": null,
   "id": "8bbe5df5-446e-46d4-af9b-e6ad98a05a24",
   "metadata": {},
   "outputs": [],
   "source": [
    "bedtools intersect -v -a $CC_CpG -b $exonList $intronList $teList $promoterList | wc -l\n",
    "echo \"methylated CpG for cont cont do not overlap with exons, introns, transposable elements (all), or putative promoters\"\n",
    "\n",
    "bedtools intersect -u -a $CH_CpG -b $exonList $intronList $teList $promoterList | wc -l\n",
    "echo \"methylated CpG for cont hyp do not overlap with exons, introns, transposable elements (all), or putative promoters\"\n",
    "\n",
    "bedtools intersect -u -a $HC_CpG -b $exonList $intronList $teList $promoterList | wc -l\n",
    "echo \"methylated CpG for hyp cont do not overlap with exons, introns, transposable elements (all), or putative promoters\"\n",
    "\n",
    "bedtools intersect -u -a $HH_CpG -b $exonList $intronList $teList $promoterList | wc -l\n",
    "echo \"methylated CpG for hyp hyp do not overlap with exons, introns, transposable elements (all), or putative promoters\""
   ]
  },
  {
   "cell_type": "markdown",
   "id": "0cf2496c-518b-4c10-96dc-450b71cf63cd",
   "metadata": {},
   "source": [
    "9728 methylated CpG for cont cont do not overlap with exons, introns, transposable elements (all), or putative promoters\n",
    "\n",
    "86083 methylated CpG for cont hyp do not overlap with exons, introns, transposable elements (all), or putative promoters\n",
    "\n",
    "121018 methylated CpG for hyp cont do not overlap with exons, introns, transposable elements (all), or putative promoters\n",
    "\n",
    "110551 methylated CpG for hyp hyp do not overlap with exons, introns, transposable elements (all), or putative promoters"
   ]
  }
 ],
 "metadata": {
  "kernelspec": {
   "display_name": "Python [conda env:.conda-bedtools]",
   "language": "python",
   "name": "conda-env-.conda-bedtools-py"
  },
  "language_info": {
   "codemirror_mode": {
    "name": "ipython",
    "version": 3
   },
   "file_extension": ".py",
   "mimetype": "text/x-python",
   "name": "python",
   "nbconvert_exporter": "python",
   "pygments_lexer": "ipython3",
   "version": "3.8.20"
  }
 },
 "nbformat": 4,
 "nbformat_minor": 5
}
