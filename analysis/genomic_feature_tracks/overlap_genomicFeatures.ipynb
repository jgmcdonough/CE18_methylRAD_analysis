{
 "cells": [
  {
   "cell_type": "markdown",
   "id": "a42f122a-183c-48fc-a0ac-0662181fe513",
   "metadata": {},
   "source": [
    "# overlap of methylated CpG with gene features\n",
    "\n",
    "Would like to know how many CpG dinucleotides overlap with genomic features, as well as methylated CpGs\n",
    "\n",
    "using the [BEDtools suite](https://bedtools.readthedocs.io/en/latest/content/bedtools-suite.html)\n",
    "\n",
    "\n",
    "#### run in command line:"
   ]
  },
  {
   "cell_type": "code",
   "execution_count": 1,
   "id": "fd937fab-c522-44f4-94d4-0f96a0ab8f55",
   "metadata": {},
   "outputs": [],
   "source": [
    "# gene feature GFF3 files\n",
    "!exonList=\"/project/pi_sarah_gignouxwolfsohn_uml_edu/julia/CE_MethylRAD_analysis_2018/analysis/genomic_feature_tracks/CV_exon_sorted.gff3\"\n",
    "!intronList=\"/project/pi_sarah_gignouxwolfsohn_uml_edu/julia/CE_MethylRAD_analysis_2018/analysis/genomic_feature_tracks/CV_intron.gff3\"\n",
    "!exonUTR=\"/project/pi_sarah_gignouxwolfsohn_uml_edu/julia/CE_MethylRAD_analysis_2018/analysis/genomic_feature_tracks/CV_exonUTR.gff3\"\n",
    "!promoterList=\"/project/pi_sarah_gignouxwolfsohn_uml_edu/julia/CE_MethylRAD_analysis_2018/analysis/genomic_feature_tracks/mRNA_promoter_track.bed\"\n",
    "!intergenicList=\"/project/pi_sarah_gignouxwolfsohn_uml_edu/julia/CE_MethylRAD_analysis_2018/analysis/genomic_feature_tracks/CV_intergenic.gff3\"\n",
    "!teList=\"/project/pi_sarah_gignouxwolfsohn_uml_edu/julia/CE_MethylRAD_analysis_2018/analysis/genomic_feature_tracks/Venkataraman_files/C_virginica-3.0_TE-all.gff\"\n",
    "!geneList=\"/project/pi_sarah_gignouxwolfsohn_uml_edu/julia/CE_MethylRAD_analysis_2018/analysis/genomic_feature_tracks/CV_gene_sorted.gff3\"\n",
    "!noncodingList=\"/project/pi_sarah_gignouxwolfsohn_uml_edu/julia/CE_MethylRAD_analysis_2018/analysis/genomic_feature_tracks/CV_noncoding.gff3\"\n",
    "!cdsList='/project/pi_sarah_gignouxwolfsohn_uml_edu/julia/CE_MethylRAD_analysis_2018/analysis/genomic_feature_tracks/CV_CDS_sorted.gff3'\n",
    "\n",
    "# CpG dinucleotide list\n",
    "!cpgList=\"/project/pi_sarah_gignouxwolfsohn_uml_edu/julia/CE_methyl_assembly/assembly_pipeline_files/genomic_bed_files/C_virginica-3.0_CG-motif.bed\"\n"
   ]
  },
  {
   "cell_type": "code",
   "execution_count": 63,
   "id": "092fc196-ffb7-45d2-96d1-b9e86101b008",
   "metadata": {},
   "outputs": [],
   "source": [
    "# gene feature BED files\n",
    "exonList=\"/project/pi_sarah_gignouxwolfsohn_uml_edu/julia/CE_MethylRAD_analysis_2018/analysis/genomic_feature_tracks/CV_exon_sorted.bed\"\n",
    "intronList=\"/project/pi_sarah_gignouxwolfsohn_uml_edu/julia/CE_MethylRAD_analysis_2018/analysis/genomic_feature_tracks/CV_intron.bed\"\n",
    "exonUTR=\"/project/pi_sarah_gignouxwolfsohn_uml_edu/julia/CE_MethylRAD_analysis_2018/analysis/genomic_feature_tracks/CV_exonUTR.bed\"\n",
    "promoterList=\"/project/pi_sarah_gignouxwolfsohn_uml_edu/julia/CE_MethylRAD_analysis_2018/analysis/genomic_feature_tracks/mRNA_promoter_track.bed\"\n",
    "intergenicList=\"/project/pi_sarah_gignouxwolfsohn_uml_edu/julia/CE_MethylRAD_analysis_2018/analysis/genomic_feature_tracks/CV_intergenic.bed\"\n",
    "teList=\"/project/pi_sarah_gignouxwolfsohn_uml_edu/julia/CE_MethylRAD_analysis_2018/analysis/genomic_feature_tracks/Venkataraman_files/C_virginica-3.0_TE-all.gff\"\n",
    "geneList=\"/project/pi_sarah_gignouxwolfsohn_uml_edu/julia/CE_MethylRAD_analysis_2018/analysis/genomic_feature_tracks/CV_gene_sorted.bed\"\n",
    "noncodingList=\"/project/pi_sarah_gignouxwolfsohn_uml_edu/julia/CE_MethylRAD_analysis_2018/analysis/genomic_feature_tracks/CV_noncoding.bed\"\n",
    "cdsList=\"/project/pi_sarah_gignouxwolfsohn_uml_edu/julia/CE_MethylRAD_analysis_2018/analysis/genomic_feature_tracks/CV_CDS_sorted.bed\"\n",
    "\n",
    "# CpG dinucleotide list\n",
    "cpgList=\"/project/pi_sarah_gignouxwolfsohn_uml_edu/julia/CE_methyl_assembly/assembly_pipeline_files/genomic_bed_files/C_virginica-3.0_CG-motif.bed\"\n"
   ]
  },
  {
   "cell_type": "markdown",
   "id": "19c19e9e-b727-4f9e-9a0c-a8ac60e797cf",
   "metadata": {},
   "source": [
    "**all CpG dinucleotides** "
   ]
  },
  {
   "cell_type": "code",
   "execution_count": 34,
   "id": "95d28e4f-1166-4934-a361-0bf1d1b7b536",
   "metadata": {},
   "outputs": [
    {
     "name": "stdout",
     "output_type": "stream",
     "text": [
      "7774010\n",
      "total CpG dinucleotides in genes\n"
     ]
    }
   ],
   "source": [
    "!bedtools intersect -u -a {cpgList} -b {geneList} | wc -l\n",
    "!echo \"total CpG dinucleotides in genes\""
   ]
  },
  {
   "cell_type": "code",
   "execution_count": 37,
   "id": "c92b89f4-3276-47e3-8ba0-18885475e69c",
   "metadata": {},
   "outputs": [
    {
     "name": "stdout",
     "output_type": "stream",
     "text": [
      "2323389\n",
      "total CpG dinucleotides in exons\n"
     ]
    }
   ],
   "source": [
    "!bedtools intersect -u -a {cpgList} -b {exonList} | wc -l\n",
    "!echo \"total CpG dinucleotides in exons\""
   ]
  },
  {
   "cell_type": "code",
   "execution_count": 39,
   "id": "9913fafc-143f-4439-a9bf-38f4ce43513c",
   "metadata": {},
   "outputs": [
    {
     "name": "stdout",
     "output_type": "stream",
     "text": [
      "5497874\n",
      "total CpG dinucleotides in introns\n"
     ]
    }
   ],
   "source": [
    "!bedtools intersect -u -a {cpgList} -b {intronList} | wc -l\n",
    "!echo \"total CpG dinucleotides in introns\""
   ]
  },
  {
   "cell_type": "code",
   "execution_count": 49,
   "id": "1a78c48b-8dd8-4d07-a559-dc8326ed15b4",
   "metadata": {},
   "outputs": [
    {
     "name": "stdout",
     "output_type": "stream",
     "text": [
      "600840\n",
      "total CpG dinucleotides in UTRs\n"
     ]
    }
   ],
   "source": [
    "!bedtools intersect -u -a {cpgList} -b {exonUTR} | wc -l\n",
    "!echo \"total CpG dinucleotides in UTRs\""
   ]
  },
  {
   "cell_type": "code",
   "execution_count": 50,
   "id": "3ed0bf70-e0f1-4ba4-8f00-fec4d6e210eb",
   "metadata": {},
   "outputs": [
    {
     "name": "stdout",
     "output_type": "stream",
     "text": [
      "926518\n",
      "total CpG dinucleotides in putative promoters\n"
     ]
    }
   ],
   "source": [
    "!bedtools intersect -u -a {cpgList} -b {promoterList} | wc -l\n",
    "!echo \"total CpG dinucleotides in putative promoters\""
   ]
  },
  {
   "cell_type": "code",
   "execution_count": 51,
   "id": "97c5e38c-9cfe-4cd9-97a1-18586a55bb78",
   "metadata": {},
   "outputs": [
    {
     "name": "stdout",
     "output_type": "stream",
     "text": [
      "6644297\n",
      "total CpG dinucleotides in intergenic regions\n"
     ]
    }
   ],
   "source": [
    "!bedtools intersect -u -a {cpgList} -b {intergenicList} | wc -l\n",
    "!echo \"total CpG dinucleotides in intergenic regions\""
   ]
  },
  {
   "cell_type": "code",
   "execution_count": 52,
   "id": "f1adeee1-ff43-40c2-a58d-b5c45b26f152",
   "metadata": {},
   "outputs": [
    {
     "name": "stdout",
     "output_type": "stream",
     "text": [
      "12142171\n",
      "total CpG dinucleotides in non-coding regions\n"
     ]
    }
   ],
   "source": [
    "!bedtools intersect -u -a {cpgList} -b {noncodingList} | wc -l\n",
    "!echo \"total CpG dinucleotides in non-coding regions\""
   ]
  },
  {
   "cell_type": "code",
   "execution_count": 54,
   "id": "92558bec-c6d9-4999-bffb-e0f207d0fc44",
   "metadata": {},
   "outputs": [
    {
     "name": "stdout",
     "output_type": "stream",
     "text": [
      "2828372\n",
      "total CpG dinucleotides in transposable elements\n"
     ]
    }
   ],
   "source": [
    "!bedtools intersect -u -a {cpgList} -b {teList} | wc -l\n",
    "!echo \"total CpG dinucleotides in transposable elements\""
   ]
  },
  {
   "cell_type": "code",
   "execution_count": 64,
   "id": "0d3985c5-8683-49aa-bb5d-da66891009cb",
   "metadata": {},
   "outputs": [
    {
     "name": "stdout",
     "output_type": "stream",
     "text": [
      "1722555\n",
      "total CpG dinucleotides in coding sequences\n"
     ]
    }
   ],
   "source": [
    "!bedtools intersect -u -a {cpgList} -b {cdsList} | wc -l\n",
    "!echo \"total CpG dinucleotides in coding sequences\""
   ]
  },
  {
   "cell_type": "markdown",
   "id": "c17cf1de-5c9a-43d6-8d02-31e621ce1dac",
   "metadata": {},
   "source": [
    "#### methylated CpG by treatment\n",
    "\n",
    "first, filtering treatment CpG motifs - a CpG dinucleotide is considered methylated if the average count across the four replicates is greater than or equal to 4. This ensures that we're not counting a CpG methylated if one sample has a count of 15 and the rest have 0.\n",
    "\n",
    "only need to run this code once - then can just read in files below"
   ]
  },
  {
   "cell_type": "code",
   "execution_count": 80,
   "id": "23ed9fb0-3312-4a4f-a2b3-74be81432781",
   "metadata": {},
   "outputs": [],
   "source": [
    "import pandas as pd\n",
    "\n",
    "# Load the CSV file\n",
    "CC_multicov = pd.read_csv('/project/pi_sarah_gignouxwolfsohn_uml_edu/julia/CE_methyl_assembly/assembly_pipeline_files/genomic_bed_files/CpG_multicov/CC_CpGmulticov.csv')\n",
    "\n",
    "# Calculate average counts of last 5 columns\n",
    "CC_multicov['avg_counts'] = CC_multicov.iloc[:, -5:].mean(axis=1)\n",
    "\n",
    "# Remove rows with averages below 5\n",
    "CC_filtered = CC_multicov[CC_multicov['avg_counts'] >= 5]\n",
    "\n",
    "# Remove temporary average column\n",
    "CC_filtered = CC_filtered.drop('avg_counts', axis=1)\n",
    "\n",
    "# Select the desired columns\n",
    "CC_bed = CC_filtered[['chromosome', 'start', 'stop']]\n",
    "\n",
    "# Save to bed file\n",
    "CC_bed.to_csv('/project/pi_sarah_gignouxwolfsohn_uml_edu/julia/CE_methyl_assembly/assembly_pipeline_files/genomic_bed_files/CpG_multicov/CC_cpgMethyl.bed', \n",
    "               sep='\\t', \n",
    "               header=False, \n",
    "               index=False)"
   ]
  },
  {
   "cell_type": "code",
   "execution_count": 83,
   "id": "91e1e2b9-ecdf-4341-9704-0184dd82c04f",
   "metadata": {},
   "outputs": [],
   "source": [
    "# Load the CSV file\n",
    "HH_multicov = pd.read_csv('/project/pi_sarah_gignouxwolfsohn_uml_edu/julia/CE_methyl_assembly/assembly_pipeline_files/genomic_bed_files/CpG_multicov/HH_CpGmulticov.csv')\n",
    "\n",
    "# Calculate average counts of last 5 columns\n",
    "HH_multicov['avg_counts'] = HH_multicov.iloc[:, -5:].mean(axis=1)\n",
    "\n",
    "# Remove rows with averages below 5\n",
    "HH_filtered = HH_multicov[HH_multicov['avg_counts'] >= 5]\n",
    "\n",
    "# Remove temporary average column\n",
    "HH_filtered = HH_filtered.drop('avg_counts', axis=1)\n",
    "\n",
    "# Select the desired columns\n",
    "HH_bed = HH_filtered[['chromosome', 'start', 'stop']]\n",
    "\n",
    "# Save to bed file\n",
    "HH_bed.to_csv('/project/pi_sarah_gignouxwolfsohn_uml_edu/julia/CE_methyl_assembly/assembly_pipeline_files/genomic_bed_files/CpG_multicov/HH_cpgMethyl.bed', \n",
    "               sep='\\t', \n",
    "               header=False, \n",
    "               index=False)"
   ]
  },
  {
   "cell_type": "code",
   "execution_count": 83,
   "id": "130c728e",
   "metadata": {},
   "outputs": [],
   "source": [
    "# Load the CSV file\n",
    "HH_multicov = pd.read_csv('/project/pi_sarah_gignouxwolfsohn_uml_edu/julia/CE_methyl_assembly/assembly_pipeline_files/genomic_bed_files/CpG_multicov/HH_CpGmulticov.csv')\n",
    "\n",
    "# Calculate average counts of last 5 columns\n",
    "HH_multicov['avg_counts'] = HH_multicov.iloc[:, -5:].mean(axis=1)\n",
    "\n",
    "# Remove rows with averages below 5\n",
    "HH_filtered = HH_multicov[HH_multicov['avg_counts'] >= 5]\n",
    "\n",
    "# Remove temporary average column\n",
    "HH_filtered = HH_filtered.drop('avg_counts', axis=1)\n",
    "\n",
    "# Select the desired columns\n",
    "HH_bed = HH_filtered[['chromosome', 'start', 'stop']]\n",
    "\n",
    "# Save to bed file\n",
    "HH_bed.to_csv('/project/pi_sarah_gignouxwolfsohn_uml_edu/julia/CE_methyl_assembly/assembly_pipeline_files/genomic_bed_files/CpG_multicov/HH_cpgMethyl.bed', \n",
    "               sep='\\t', \n",
    "               header=False, \n",
    "               index=False)"
   ]
  },
  {
   "cell_type": "code",
   "execution_count": 83,
   "id": "4f96a705",
   "metadata": {},
   "outputs": [],
   "source": [
    "# Load the CSV file\n",
    "HH_multicov = pd.read_csv('/project/pi_sarah_gignouxwolfsohn_uml_edu/julia/CE_methyl_assembly/assembly_pipeline_files/genomic_bed_files/CpG_multicov/HH_CpGmulticov.csv')\n",
    "\n",
    "# Calculate average counts of last 5 columns\n",
    "HH_multicov['avg_counts'] = HH_multicov.iloc[:, -5:].mean(axis=1)\n",
    "\n",
    "# Remove rows with averages below 5\n",
    "HH_filtered = HH_multicov[HH_multicov['avg_counts'] >= 5]\n",
    "\n",
    "# Remove temporary average column\n",
    "HH_filtered = HH_filtered.drop('avg_counts', axis=1)\n",
    "\n",
    "# Select the desired columns\n",
    "HH_bed = HH_filtered[['chromosome', 'start', 'stop']]\n",
    "\n",
    "# Save to bed file\n",
    "HH_bed.to_csv('/project/pi_sarah_gignouxwolfsohn_uml_edu/julia/CE_methyl_assembly/assembly_pipeline_files/genomic_bed_files/CpG_multicov/HH_cpgMethyl.bed', \n",
    "               sep='\\t', \n",
    "               header=False, \n",
    "               index=False)"
   ]
  },
  {
   "cell_type": "code",
   "execution_count": 87,
   "id": "66d7a88a-8f17-40d6-af94-5ff761977703",
   "metadata": {},
   "outputs": [],
   "source": [
    "# CpG lists for each treatment\n",
    "CC_CpG = \"/project/pi_sarah_gignouxwolfsohn_uml_edu/julia/CE_methyl_assembly/assembly_pipeline_files/genomic_bed_files/CpG_multicov/CC_cpgMethyl.bed\"\n",
    "CH_CpG = \"/project/pi_sarah_gignouxwolfsohn_uml_edu/julia/CE_methyl_assembly/assembly_pipeline_files/genomic_bed_files/CpG_multicov/CH_cpgMethyl.bed\"\n",
    "HC_CpG = \"/project/pi_sarah_gignouxwolfsohn_uml_edu/julia/CE_methyl_assembly/assembly_pipeline_files/genomic_bed_files/CpG_multicov/HC_cpgMethyl.bed\"\n",
    "HH_CpG = \"/project/pi_sarah_gignouxwolfsohn_uml_edu/julia/CE_methyl_assembly/assembly_pipeline_files/genomic_bed_files/CpG_multicov/HH_cpgMethyl.bed\""
   ]
  },
  {
   "cell_type": "markdown",
   "id": "687fdff9-cffa-4fb2-a11c-a3c2ec41f887",
   "metadata": {},
   "source": [
    "**methylated CpG in genes**"
   ]
  },
  {
   "cell_type": "code",
   "execution_count": 91,
   "id": "e25e1aee-4cfd-43c1-8aae-c390066d29c6",
   "metadata": {},
   "outputs": [
    {
     "name": "stdout",
     "output_type": "stream",
     "text": [
      "86816\n",
      "methylated CpG for CC overlaps with genes\n",
      "37891\n",
      "methylated CpG for CH overlaps with genes\n",
      "110613\n",
      "methylated CpG for HC overlaps with genes\n",
      "101771\n",
      "methylated CpG for HH overlaps with genes\n"
     ]
    }
   ],
   "source": [
    "!bedtools intersect -u -a {CC_CpG} -b {geneList} | wc -l\n",
    "!echo \"methylated CpG for CC overlaps with genes\"\n",
    "\n",
    "!bedtools intersect -u -a {CH_CpG} -b {geneList} | wc -l\n",
    "!echo \"methylated CpG for CH overlaps with genes\"\n",
    "\n",
    "!bedtools intersect -u -a {HC_CpG} -b {geneList} | wc -l\n",
    "!echo \"methylated CpG for HC overlaps with genes\"\n",
    "\n",
    "!bedtools intersect -u -a {HH_CpG} -b {geneList} | wc -l\n",
    "!echo \"methylated CpG for HH overlaps with genes\""
   ]
  },
  {
   "cell_type": "markdown",
   "id": "dad89b81-6f3a-46c2-a553-77791cd83f6d",
   "metadata": {},
   "source": [
    "**methylated CpG in exons**"
   ]
  },
  {
   "cell_type": "code",
   "execution_count": 92,
   "id": "505aeef2-9868-45e3-ab2b-f9c3975b50dd",
   "metadata": {},
   "outputs": [
    {
     "name": "stdout",
     "output_type": "stream",
     "text": [
      "57957\n",
      "methylated CpG for CC overlaps with exons\n",
      "26233\n",
      "methylated CpG for CH overlaps with exons\n",
      "68256\n",
      "methylated CpG for HC overlaps with exons\n",
      "64813\n",
      "methylated CpG for HH overlaps with exons\n"
     ]
    }
   ],
   "source": [
    "!bedtools intersect -u -a {CC_CpG} -b {exonList} | wc -l\n",
    "!echo \"methylated CpG for CC overlaps with exons\"\n",
    "\n",
    "!bedtools intersect -u -a {CH_CpG} -b {exonList} | wc -l\n",
    "!echo \"methylated CpG for CH overlaps with exons\"\n",
    "\n",
    "!bedtools intersect -u -a {HC_CpG} -b {exonList} | wc -l\n",
    "!echo \"methylated CpG for HC overlaps with exons\"\n",
    "\n",
    "!bedtools intersect -u -a {HH_CpG} -b {exonList} | wc -l\n",
    "!echo \"methylated CpG for HH overlaps with exons\""
   ]
  },
  {
   "cell_type": "markdown",
   "id": "d8f02a76-67cb-44a7-bf07-f2364e0baf25",
   "metadata": {},
   "source": [
    "**methylated CpG in introns**"
   ]
  },
  {
   "cell_type": "code",
   "execution_count": 93,
   "id": "9fb39afb-3155-4b30-9e89-ef7986332fef",
   "metadata": {},
   "outputs": [
    {
     "name": "stdout",
     "output_type": "stream",
     "text": [
      "29638\n",
      "methylated CpG for CC overlaps with introns\n",
      "12045\n",
      "methylated CpG for CH overlaps with introns\n",
      "43310\n",
      "methylated CpG for HC overlaps with introns\n",
      "37891\n",
      "methylated CpG for HH overlaps with introns\n"
     ]
    }
   ],
   "source": [
    "!bedtools intersect -u -a {CC_CpG} -b {intronList} | wc -l\n",
    "!echo \"methylated CpG for CC overlaps with introns\"\n",
    "\n",
    "!bedtools intersect -u -a {CH_CpG} -b {intronList} | wc -l\n",
    "!echo \"methylated CpG for CH overlaps with introns\"\n",
    "\n",
    "!bedtools intersect -u -a {HC_CpG} -b {intronList} | wc -l\n",
    "!echo \"methylated CpG for HC overlaps with introns\"\n",
    "\n",
    "!bedtools intersect -u -a {HH_CpG} -b {intronList} | wc -l\n",
    "!echo \"methylated CpG for HH overlaps with introns\""
   ]
  },
  {
   "cell_type": "markdown",
   "id": "078139b9-e98e-4864-9045-fe4a72e18a20",
   "metadata": {},
   "source": [
    "**methylated CpG in putative promoters**"
   ]
  },
  {
   "cell_type": "code",
   "execution_count": 94,
   "id": "0d85424c-8b69-4b87-8606-6d9a437e16ad",
   "metadata": {},
   "outputs": [
    {
     "name": "stdout",
     "output_type": "stream",
     "text": [
      "3529\n",
      "methylated CpG for CC overlaps with promoters\n",
      "1606\n",
      "methylated CpG for CH overlaps with promoters\n",
      "5650\n",
      "methylated CpG for HC overlaps with promoters\n",
      "4889\n",
      "methylated CpG for HH overlaps with promoters\n"
     ]
    }
   ],
   "source": [
    "!bedtools intersect -u -a {CC_CpG} -b {promoterList} | wc -l\n",
    "!echo \"methylated CpG for CC overlaps with promoters\"\n",
    "\n",
    "!bedtools intersect -u -a {CH_CpG} -b {promoterList} | wc -l\n",
    "!echo \"methylated CpG for CH overlaps with promoters\"\n",
    "\n",
    "!bedtools intersect -u -a {HC_CpG} -b {promoterList} | wc -l\n",
    "!echo \"methylated CpG for HC overlaps with promoters\"\n",
    "\n",
    "!bedtools intersect -u -a {HH_CpG} -b {promoterList} | wc -l\n",
    "!echo \"methylated CpG for HH overlaps with promoters\""
   ]
  },
  {
   "cell_type": "markdown",
   "id": "eba5bdce-6ab8-4c7f-864b-6eced5bb5db8",
   "metadata": {},
   "source": [
    "**methylated CpG in exon UTRs**"
   ]
  },
  {
   "cell_type": "code",
   "execution_count": 95,
   "id": "29d859bb-41de-4277-9527-c2a2c839b1ad",
   "metadata": {},
   "outputs": [
    {
     "name": "stdout",
     "output_type": "stream",
     "text": [
      "4165\n",
      "methylated CpG for CC overlaps with exon UTRs\n",
      "1545\n",
      "methylated CpG for CH overlaps with exon UTRs\n",
      "5164\n",
      "methylated CpG for HC overlaps with exon UTRs\n",
      "4843\n",
      "methylated CpG for HH overlaps with exon UTRs\n"
     ]
    }
   ],
   "source": [
    "!bedtools intersect -u -a {CC_CpG} -b {exonUTR} | wc -l\n",
    "!echo \"methylated CpG for CC overlaps with exon UTRs\"\n",
    "\n",
    "!bedtools intersect -u -a {CH_CpG} -b {exonUTR} | wc -l\n",
    "!echo \"methylated CpG for CH overlaps with exon UTRs\"\n",
    "\n",
    "!bedtools intersect -u -a {HC_CpG} -b {exonUTR} | wc -l\n",
    "!echo \"methylated CpG for HC overlaps with exon UTRs\"\n",
    "\n",
    "!bedtools intersect -u -a {HH_CpG} -b {exonUTR} | wc -l\n",
    "!echo \"methylated CpG for HH overlaps with exon UTRs\""
   ]
  },
  {
   "cell_type": "markdown",
   "id": "e8fa8d21-772f-4732-bb99-e3afa6b63ee9",
   "metadata": {},
   "source": [
    "**methylated CpG in transposable elements**"
   ]
  },
  {
   "cell_type": "code",
   "execution_count": 96,
   "id": "b9c38fb1-163b-4af2-bfb9-0a421fadf608",
   "metadata": {},
   "outputs": [
    {
     "name": "stdout",
     "output_type": "stream",
     "text": [
      "16875\n",
      "methylated CpG for CC overlaps with TEs\n",
      "6346\n",
      "methylated CpG for CH overlaps with TEs\n",
      "24506\n",
      "methylated CpG for HC overlaps with TEs\n",
      "22736\n",
      "methylated CpG for HH overlaps with TEs\n"
     ]
    }
   ],
   "source": [
    "!bedtools intersect -u -a {CC_CpG} -b {teList} | wc -l\n",
    "!echo \"methylated CpG for CC overlaps with TEs\"\n",
    "\n",
    "!bedtools intersect -u -a {CH_CpG} -b {teList} | wc -l\n",
    "!echo \"methylated CpG for CH overlaps with TEs\"\n",
    "\n",
    "!bedtools intersect -u -a {HC_CpG} -b {teList} | wc -l\n",
    "!echo \"methylated CpG for HC overlaps with TEs\"\n",
    "\n",
    "!bedtools intersect -u -a {HH_CpG} -b {teList} | wc -l\n",
    "!echo \"methylated CpG for HH overlaps with TEs\""
   ]
  },
  {
   "cell_type": "markdown",
   "id": "be218760-8594-4d79-bd89-842f1c4650fc",
   "metadata": {},
   "source": [
    "**methylated CpG in intergenic regions**"
   ]
  },
  {
   "cell_type": "code",
   "execution_count": 97,
   "id": "efd07ec5-225d-4f0d-ac8a-e81330c0c4c6",
   "metadata": {},
   "outputs": [
    {
     "name": "stdout",
     "output_type": "stream",
     "text": [
      "20079\n",
      "methylated CpG for CC overlaps with intergenic regions\n",
      "6567\n",
      "methylated CpG for CH overlaps with intergenic regions\n",
      "32953\n",
      "methylated CpG for HC overlaps with intergenic regions\n",
      "28033\n",
      "methylated CpG for HH overlaps with intergenic regions\n"
     ]
    }
   ],
   "source": [
    "!bedtools intersect -u -a {CC_CpG} -b {intergenicList} | wc -l\n",
    "!echo \"methylated CpG for CC overlaps with intergenic regions\"\n",
    "\n",
    "!bedtools intersect -u -a {CH_CpG} -b {intergenicList} | wc -l\n",
    "!echo \"methylated CpG for CH overlaps with intergenic regions\"\n",
    "\n",
    "!bedtools intersect -u -a {HC_CpG} -b {intergenicList} | wc -l\n",
    "!echo \"methylated CpG for HC overlaps with intergenic regions\"\n",
    "\n",
    "!bedtools intersect -u -a {HH_CpG} -b {intergenicList} | wc -l\n",
    "!echo \"methylated CpG for HH overlaps with intergenic regions\""
   ]
  },
  {
   "cell_type": "markdown",
   "id": "0cc96763-bc79-455c-a8ce-9a051a95c580",
   "metadata": {},
   "source": [
    "## no overlaps with genomic features\n",
    "\n",
    "CpGs that do not overlap any feature (aka unannotated intergenic regions)"
   ]
  },
  {
   "cell_type": "code",
   "execution_count": 99,
   "id": "a8ca491a-bc77-4d86-b6fe-563a9252799c",
   "metadata": {},
   "outputs": [
    {
     "name": "stdout",
     "output_type": "stream",
     "text": [
      "4576705\n",
      "CpG motifs do not overlap with exons, introns, transposable elements (all), or putative promoters\n"
     ]
    }
   ],
   "source": [
    "# CpG motif\n",
    "!bedtools intersect -v -a {cpgList} -b {exonList} {intronList} {teList} {promoterList} | wc -l\n",
    "!echo \"CpG motifs do not overlap with exons, introns, transposable elements (all), or putative promoters\""
   ]
  },
  {
   "cell_type": "markdown",
   "id": "566bf46b-a50c-4528-bbf1-5f1cc05dcb6a",
   "metadata": {},
   "source": [
    "4499027 CpG motifs do not overlap with exons, introns, transposable elements (all), or putative promoters"
   ]
  },
  {
   "cell_type": "code",
   "execution_count": 103,
   "id": "8bbe5df5-446e-46d4-af9b-e6ad98a05a24",
   "metadata": {},
   "outputs": [
    {
     "name": "stdout",
     "output_type": "stream",
     "text": [
      "0\n",
      "methylated CpG for cont cont do not overlap with exons, introns, transposable elements (all), intergenic regions or putative promoters\n",
      "44825\n",
      "methylated CpG for cont hyp do not overlap with exons, introns, transposable elements (all), intergenic regions or putative promoters\n",
      "144481\n",
      "methylated CpG for hyp cont do not overlap with exons, introns, transposable elements (all), intergenic regions or putative promoters\n",
      "130706\n",
      "methylated CpG for hyp hyp do not overlap with exons, introns, transposable elements (all), intergenic regions or putative promoters\n"
     ]
    }
   ],
   "source": [
    "!bedtools intersect -v -a {CC_CpG} -b {exonList} {intronList} {teList} {promoterList} {intergenicList} | wc -l\n",
    "!echo \"methylated CpG for cont cont do not overlap with exons, introns, transposable elements (all), intergenic regions or putative promoters\"\n",
    "\n",
    "!bedtools intersect -u -a {CH_CpG} -b {exonList} {intronList} {teList} {promoterList} {intergenicList} | wc -l\n",
    "!echo \"methylated CpG for cont hyp do not overlap with exons, introns, transposable elements (all), intergenic regions or putative promoters\"\n",
    "\n",
    "!bedtools intersect -u -a {HC_CpG} -b {exonList} {intronList} {teList} {promoterList} {intergenicList} | wc -l\n",
    "!echo \"methylated CpG for hyp cont do not overlap with exons, introns, transposable elements (all), intergenic regions or putative promoters\"\n",
    "\n",
    "!bedtools intersect -u -a {HH_CpG} -b {exonList} {intronList} {teList} {promoterList} {intergenicList} | wc -l\n",
    "!echo \"methylated CpG for hyp hyp do not overlap with exons, introns, transposable elements (all), intergenic regions or putative promoters\""
   ]
  },
  {
   "cell_type": "code",
   "execution_count": 103,
   "id": "ae455f77",
   "metadata": {},
   "outputs": [
    {
     "name": "stdout",
     "output_type": "stream",
     "text": [
      "0\n",
      "methylated CpG for cont cont do not overlap with exons, introns, transposable elements (all), intergenic regions or putative promoters\n",
      "44825\n",
      "methylated CpG for cont hyp do not overlap with exons, introns, transposable elements (all), intergenic regions or putative promoters\n",
      "144481\n",
      "methylated CpG for hyp cont do not overlap with exons, introns, transposable elements (all), intergenic regions or putative promoters\n",
      "130706\n",
      "methylated CpG for hyp hyp do not overlap with exons, introns, transposable elements (all), intergenic regions or putative promoters\n"
     ]
    }
   ],
   "source": [
    "!bedtools intersect -v -a {CC_CpG} -b {exonList} {intronList} {teList} {promoterList} {intergenicList} | wc -l\n",
    "!echo \"methylated CpG for cont cont do not overlap with exons, introns, transposable elements (all), intergenic regions or putative promoters\"\n",
    "\n",
    "!bedtools intersect -u -a {CH_CpG} -b {exonList} {intronList} {teList} {promoterList} {intergenicList} | wc -l\n",
    "!echo \"methylated CpG for cont hyp do not overlap with exons, introns, transposable elements (all), intergenic regions or putative promoters\"\n",
    "\n",
    "!bedtools intersect -u -a {HC_CpG} -b {exonList} {intronList} {teList} {promoterList} {intergenicList} | wc -l\n",
    "!echo \"methylated CpG for hyp cont do not overlap with exons, introns, transposable elements (all), intergenic regions or putative promoters\"\n",
    "\n",
    "!bedtools intersect -u -a {HH_CpG} -b {exonList} {intronList} {teList} {promoterList} {intergenicList} | wc -l\n",
    "!echo \"methylated CpG for hyp hyp do not overlap with exons, introns, transposable elements (all), intergenic regions or putative promoters\""
   ]
  },
  {
   "cell_type": "markdown",
   "id": "988d513a-8401-4725-a858-3f2a40f2f383",
   "metadata": {},
   "source": [
    "## Proportion overlap"
   ]
  },
  {
   "cell_type": "code",
   "execution_count": 110,
   "id": "969d71a4-222d-4cff-9d5e-6517ac743664",
   "metadata": {},
   "outputs": [],
   "source": [
    "CC_CpG = \"/project/pi_sarah_gignouxwolfsohn_uml_edu/julia/CE_methyl_assembly/assembly_pipeline_files/genomic_bed_files/CpG_multicov/CC_cpgMethyl.bed\"\n",
    "CH_CpG = \"/project/pi_sarah_gignouxwolfsohn_uml_edu/julia/CE_methyl_assembly/assembly_pipeline_files/genomic_bed_files/CpG_multicov/CH_cpgMethyl.bed\"\n",
    "HC_CpG = \"/project/pi_sarah_gignouxwolfsohn_uml_edu/julia/CE_methyl_assembly/assembly_pipeline_files/genomic_bed_files/CpG_multicov/HC_cpgMethyl.bed\"\n",
    "HH_CpG = \"/project/pi_sarah_gignouxwolfsohn_uml_edu/julia/CE_methyl_assembly/assembly_pipeline_files/genomic_bed_files/CpG_multicov/HH_cpgMethyl.bed\""
   ]
  },
  {
   "cell_type": "code",
   "execution_count": 122,
   "id": "329ce885-e237-4758-be69-fee4a4f448df",
   "metadata": {},
   "outputs": [
    {
     "name": "stdout",
     "output_type": "stream",
     "text": [
      "      genomicFeature treatment propOverlap\n",
      "0                 TE        CC     [16875]\n",
      "1              exons        CC     [57957]\n",
      "2            introns        CC     [29638]\n",
      "3   putativePromoter        CC      [3529]\n",
      "4               UTRs        CC      [4165]\n",
      "5         intergenic        CC     [20079]\n",
      "6                 TE        CH      [6346]\n",
      "7              exons        CH     [26233]\n",
      "8            introns        CH     [12045]\n",
      "9   putativePromoter        CH      [1606]\n",
      "10              UTRs        CH      [1545]\n",
      "11        intergenic        CH      [6567]\n",
      "12                TE        HC     [24506]\n",
      "13             exons        HC     [68256]\n",
      "14           introns        HC     [43310]\n",
      "15  putativePromoter        HC      [5650]\n",
      "16              UTRs        HC      [5164]\n",
      "17        intergenic        HC     [32953]\n",
      "18                TE        HH     [22736]\n",
      "19             exons        HH     [64813]\n",
      "20           introns        HH     [37891]\n",
      "21  putativePromoter        HH      [4889]\n",
      "22              UTRs        HH      [4843]\n",
      "23        intergenic        HH     [28033]\n",
      "24                TE    allCpG   [2828372]\n",
      "25             exons    allCpG   [2323389]\n",
      "26           introns    allCpG   [5497874]\n",
      "27  putativePromoter    allCpG    [926518]\n",
      "28              UTRs    allCpG    [600840]\n",
      "29        intergenic    allCpG   [6644297]\n"
     ]
    }
   ],
   "source": [
    "import pandas as pd\n",
    "\n",
    "# Define the treatments and feature variables\n",
    "treatments = {\n",
    "    'CC': CC_CpG,\n",
    "    'CH': CH_CpG,\n",
    "    'HC': HC_CpG, \n",
    "    'HH': HH_CpG,\n",
    "    'allCpG': cpgList\n",
    "}\n",
    "\n",
    "features = {\n",
    "    'TE': teList,\n",
    "    'exons': exonList,\n",
    "    'introns': intronList,\n",
    "    'putativePromoter': promoterList,\n",
    "    'UTRs': exonUTR,\n",
    "    'intergenic': intergenicList\n",
    "}\n",
    "\n",
    "# Initialize an empty list to store the results\n",
    "results = []\n",
    "\n",
    "# Loop over the treatments\n",
    "for treatment_name, treatment_file in treatments.items():\n",
    "    # Loop over the features\n",
    "    for feature_name, feature_list in features.items():\n",
    "        # Use bedtools intersect to count the overlaps\n",
    "        overlap_count = !bedtools intersect -u -a {treatment_file} -b {feature_list} | wc -l\n",
    "        \n",
    "        # Append the result to the list\n",
    "        results.append({'genomicFeature': feature_name, 'treatment': treatment_name, 'propOverlap': overlap_count})\n",
    "\n",
    "\n",
    "# Convert the list to a pandas DataFrame\n",
    "df = pd.DataFrame(results)\n",
    "\n",
    "# Print the DataFrame\n",
    "print(df)"
   ]
  },
  {
   "cell_type": "code",
   "execution_count": 132,
   "id": "135db239-b750-4285-ad72-db9f773ed62b",
   "metadata": {},
   "outputs": [],
   "source": [
    "#df['propOverlap'] = df['propOverlap'].str.extract('(\\d+)')\n",
    "\n",
    "df.to_csv('/project/pi_sarah_gignouxwolfsohn_uml_edu/julia/CE_MethylRAD_analysis_2018/analysis/genomic_feature_tracks/propOverlap.csv', index=False)"
   ]
  },
  {
   "cell_type": "markdown",
   "id": "12e753f5-c31d-440a-9254-94126ab383ff",
   "metadata": {},
   "source": [
    "can't seem to get the propOverlap column formatted correctly, so manipulated locally and then re-uploaded"
   ]
  },
  {
   "cell_type": "code",
   "execution_count": null,
   "id": "d7884d06-4721-4d53-b9b4-c287e8c0f4a7",
   "metadata": {},
   "outputs": [],
   "source": [
    "import pandas as pd\n",
    "\n",
    "# Load your data into a Pandas DataFrame\n",
    "df = pd.read_csv('project/pi_sarah_gignouxwolfsohn_uml_edu/julia/CE_MethylRAD_analysis_2018/analysis/genomic_feature_tracks/propOverlap.csv')\n",
    "\n",
    "# Group the data by treatment and genomicFeature, and calculate the sum of propOverlap\n",
    "group_sums = df.groupby(['treatment', 'genomicFeature'])['propOverlap'].sum().reset_index()\n",
    "\n",
    "# Merge the original DataFrame with the group sums\n",
    "df_merged = pd.merge(df, group_sums, on=['treatment', 'genomicFeature'], suffixes=('', '_sum'))\n",
    "\n",
    "# Calculate the proportion of overlap\n",
    "df_merged['proportion_overlap'] = df_merged['propOverlap'] / df_merged['propOverlap_sum']\n",
    "\n",
    "# Print the result\n",
    "print(df_merged)"
   ]
  }
 ],
 "metadata": {
  "kernelspec": {
   "display_name": "Python [conda env:.conda-bedtools]",
   "language": "python",
   "name": "conda-env-.conda-bedtools-py"
  },
  "language_info": {
   "codemirror_mode": {
    "name": "ipython",
    "version": 3
   },
   "file_extension": ".py",
   "mimetype": "text/x-python",
   "name": "python",
   "nbconvert_exporter": "python",
   "pygments_lexer": "ipython3",
   "version": "3.8.20"
  }
 },
 "nbformat": 4,
 "nbformat_minor": 5
}
