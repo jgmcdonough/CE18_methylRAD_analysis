{
 "cells": [
  {
   "cell_type": "markdown",
   "id": "a42f122a-183c-48fc-a0ac-0662181fe513",
   "metadata": {},
   "source": [
    "# overlap of methylated CpG with gene features\n",
    "\n",
    "Would like to know how many CpG dinucleotides overlap with genomic features, as well as methylated CpGs\n",
    "\n",
    "the genomic feature files below were generated in [generate_genomic_feature_tracks.ipynb](https://github.com/jgmcdonough/CE18_methylRAD_analysis/blob/master/analysis/genomic_feature_tracks/generate_genomic_feature_tracks.ipynb)\n",
    "\n",
    "using the [BEDtools suite](https://bedtools.readthedocs.io/en/latest/content/bedtools-suite.html)\n"
   ]
  },
  {
   "cell_type": "code",
   "execution_count": 1,
   "id": "092fc196-ffb7-45d2-96d1-b9e86101b008",
   "metadata": {},
   "outputs": [],
   "source": [
    "# gene feature BED files\n",
    "exonList=\"/project/pi_sarah_gignouxwolfsohn_uml_edu/julia/CE_MethylRAD_analysis_2018/analysis/genomic_feature_tracks/CV_exon_sorted.bed\"\n",
    "intronList=\"/project/pi_sarah_gignouxwolfsohn_uml_edu/julia/CE_MethylRAD_analysis_2018/analysis/genomic_feature_tracks/CV_intron.bed\"\n",
    "exonUTR=\"/project/pi_sarah_gignouxwolfsohn_uml_edu/julia/CE_MethylRAD_analysis_2018/analysis/genomic_feature_tracks/CV_exonUTR.bed\"\n",
    "promoterList=\"/project/pi_sarah_gignouxwolfsohn_uml_edu/julia/CE_MethylRAD_analysis_2018/analysis/genomic_feature_tracks/mRNA_promoter_track.bed\"\n",
    "intergenicList=\"/project/pi_sarah_gignouxwolfsohn_uml_edu/julia/CE_MethylRAD_analysis_2018/analysis/genomic_feature_tracks/CV_intergenic.bed\"\n",
    "teList=\"/project/pi_sarah_gignouxwolfsohn_uml_edu/julia/CE_MethylRAD_analysis_2018/analysis/genomic_feature_tracks/Venkataraman_files/C_virginica-3.0_TE-all.gff\"\n",
    "geneList=\"/project/pi_sarah_gignouxwolfsohn_uml_edu/julia/CE_MethylRAD_analysis_2018/analysis/genomic_feature_tracks/CV_gene_sorted.bed\"\n",
    "noncodingList=\"/project/pi_sarah_gignouxwolfsohn_uml_edu/julia/CE_MethylRAD_analysis_2018/analysis/genomic_feature_tracks/CV_noncoding.bed\"\n",
    "cdsList=\"/project/pi_sarah_gignouxwolfsohn_uml_edu/julia/CE_MethylRAD_analysis_2018/analysis/genomic_feature_tracks/CV_CDS_sorted.bed\"\n",
    "\n",
    "# CpG dinucleotide list\n",
    "cpgList=\"/project/pi_sarah_gignouxwolfsohn_uml_edu/julia/CE_methyl_assembly/assembly_pipeline_files/genomic_bed_files/C_virginica-3.0_CG-motif.bed\"\n"
   ]
  },
  {
   "cell_type": "markdown",
   "id": "19c19e9e-b727-4f9e-9a0c-a8ac60e797cf",
   "metadata": {},
   "source": [
    "**all CpG dinucleotides** "
   ]
  },
  {
   "cell_type": "code",
   "execution_count": 3,
   "id": "95d28e4f-1166-4934-a361-0bf1d1b7b536",
   "metadata": {},
   "outputs": [
    {
     "name": "stdout",
     "output_type": "stream",
     "text": [
      "7774010\n",
      "total CpG dinucleotides in genes\n"
     ]
    }
   ],
   "source": [
    "!bedtools intersect -u -a {cpgList} -b {geneList} | wc -l\n",
    "!echo \"total CpG dinucleotides in genes\""
   ]
  },
  {
   "cell_type": "code",
   "execution_count": 4,
   "id": "c92b89f4-3276-47e3-8ba0-18885475e69c",
   "metadata": {},
   "outputs": [
    {
     "name": "stdout",
     "output_type": "stream",
     "text": [
      "2323389\n",
      "total CpG dinucleotides in exons\n"
     ]
    }
   ],
   "source": [
    "!bedtools intersect -u -a {cpgList} -b {exonList} | wc -l\n",
    "!echo \"total CpG dinucleotides in exons\""
   ]
  },
  {
   "cell_type": "code",
   "execution_count": 5,
   "id": "9913fafc-143f-4439-a9bf-38f4ce43513c",
   "metadata": {},
   "outputs": [
    {
     "name": "stdout",
     "output_type": "stream",
     "text": [
      "5497874\n",
      "total CpG dinucleotides in introns\n"
     ]
    }
   ],
   "source": [
    "!bedtools intersect -u -a {cpgList} -b {intronList} | wc -l\n",
    "!echo \"total CpG dinucleotides in introns\""
   ]
  },
  {
   "cell_type": "code",
   "execution_count": 6,
   "id": "1a78c48b-8dd8-4d07-a559-dc8326ed15b4",
   "metadata": {},
   "outputs": [
    {
     "name": "stdout",
     "output_type": "stream",
     "text": [
      "600840\n",
      "total CpG dinucleotides in UTRs\n"
     ]
    }
   ],
   "source": [
    "!bedtools intersect -u -a {cpgList} -b {exonUTR} | wc -l\n",
    "!echo \"total CpG dinucleotides in UTRs\""
   ]
  },
  {
   "cell_type": "code",
   "execution_count": 7,
   "id": "3ed0bf70-e0f1-4ba4-8f00-fec4d6e210eb",
   "metadata": {},
   "outputs": [
    {
     "name": "stdout",
     "output_type": "stream",
     "text": [
      "926518\n",
      "total CpG dinucleotides in putative promoters\n"
     ]
    }
   ],
   "source": [
    "!bedtools intersect -u -a {cpgList} -b {promoterList} | wc -l\n",
    "!echo \"total CpG dinucleotides in putative promoters\""
   ]
  },
  {
   "cell_type": "code",
   "execution_count": 8,
   "id": "97c5e38c-9cfe-4cd9-97a1-18586a55bb78",
   "metadata": {},
   "outputs": [
    {
     "name": "stdout",
     "output_type": "stream",
     "text": [
      "6644297\n",
      "total CpG dinucleotides in intergenic regions\n"
     ]
    }
   ],
   "source": [
    "!bedtools intersect -u -a {cpgList} -b {intergenicList} | wc -l\n",
    "!echo \"total CpG dinucleotides in intergenic regions\""
   ]
  },
  {
   "cell_type": "code",
   "execution_count": 9,
   "id": "f1adeee1-ff43-40c2-a58d-b5c45b26f152",
   "metadata": {},
   "outputs": [
    {
     "name": "stdout",
     "output_type": "stream",
     "text": [
      "12142171\n",
      "total CpG dinucleotides in non-coding regions\n"
     ]
    }
   ],
   "source": [
    "!bedtools intersect -u -a {cpgList} -b {noncodingList} | wc -l\n",
    "!echo \"total CpG dinucleotides in non-coding regions\""
   ]
  },
  {
   "cell_type": "code",
   "execution_count": 10,
   "id": "92558bec-c6d9-4999-bffb-e0f207d0fc44",
   "metadata": {},
   "outputs": [
    {
     "name": "stdout",
     "output_type": "stream",
     "text": [
      "2828372\n",
      "total CpG dinucleotides in transposable elements\n"
     ]
    }
   ],
   "source": [
    "!bedtools intersect -u -a {cpgList} -b {teList} | wc -l\n",
    "!echo \"total CpG dinucleotides in transposable elements\""
   ]
  },
  {
   "cell_type": "code",
   "execution_count": 11,
   "id": "0d3985c5-8683-49aa-bb5d-da66891009cb",
   "metadata": {},
   "outputs": [
    {
     "name": "stdout",
     "output_type": "stream",
     "text": [
      "1722555\n",
      "total CpG dinucleotides in coding sequences\n"
     ]
    }
   ],
   "source": [
    "!bedtools intersect -u -a {cpgList} -b {cdsList} | wc -l\n",
    "!echo \"total CpG dinucleotides in coding sequences\""
   ]
  },
  {
   "cell_type": "markdown",
   "id": "c17cf1de-5c9a-43d6-8d02-31e621ce1dac",
   "metadata": {},
   "source": [
    "#### methylated CpG by treatment\n",
    "\n",
    "first, filtering treatment CpG motifs - a CpG dinucleotide is considered methylated if the average count across the four replicates is greater than or equal to 4. This ensures that we're not counting a CpG methylated if one sample has a count of 15 and the rest have 0.\n",
    "\n",
    "only need to run this code once - then can just read in files below"
   ]
  },
  {
   "cell_type": "code",
   "execution_count": 80,
   "id": "23ed9fb0-3312-4a4f-a2b3-74be81432781",
   "metadata": {},
   "outputs": [],
   "source": [
    "import pandas as pd\n",
    "\n",
    "# Load the CSV file\n",
    "CC_multicov = pd.read_csv('/project/pi_sarah_gignouxwolfsohn_uml_edu/julia/CE_methyl_assembly/assembly_pipeline_files/genomic_bed_files/CpG_multicov/CC_CpGmulticov.csv')\n",
    "\n",
    "# Calculate average counts of last 5 columns\n",
    "CC_multicov['avg_counts'] = CC_multicov.iloc[:, -5:].mean(axis=1)\n",
    "\n",
    "# Remove rows with averages below 5\n",
    "CC_filtered = CC_multicov[CC_multicov['avg_counts'] >= 5]\n",
    "\n",
    "# Remove temporary average column\n",
    "CC_filtered = CC_filtered.drop('avg_counts', axis=1)\n",
    "\n",
    "# Select the desired columns\n",
    "CC_bed = CC_filtered[['chromosome', 'start', 'stop']]\n",
    "\n",
    "# Save to bed file\n",
    "CC_bed.to_csv('/project/pi_sarah_gignouxwolfsohn_uml_edu/julia/CE_methyl_assembly/assembly_pipeline_files/genomic_bed_files/CpG_multicov/CC_cpgMethyl.bed', \n",
    "               sep='\\t', \n",
    "               header=False, \n",
    "               index=False)"
   ]
  },
  {
   "cell_type": "code",
   "execution_count": 83,
   "id": "91e1e2b9-ecdf-4341-9704-0184dd82c04f",
   "metadata": {},
   "outputs": [],
   "source": [
    "# Load the CSV file\n",
    "HH_multicov = pd.read_csv('/project/pi_sarah_gignouxwolfsohn_uml_edu/julia/CE_methyl_assembly/assembly_pipeline_files/genomic_bed_files/CpG_multicov/HH_CpGmulticov.csv')\n",
    "\n",
    "# Calculate average counts of last 5 columns\n",
    "HH_multicov['avg_counts'] = HH_multicov.iloc[:, -5:].mean(axis=1)\n",
    "\n",
    "# Remove rows with averages below 5\n",
    "HH_filtered = HH_multicov[HH_multicov['avg_counts'] >= 5]\n",
    "\n",
    "# Remove temporary average column\n",
    "HH_filtered = HH_filtered.drop('avg_counts', axis=1)\n",
    "\n",
    "# Select the desired columns\n",
    "HH_bed = HH_filtered[['chromosome', 'start', 'stop']]\n",
    "\n",
    "# Save to bed file\n",
    "HH_bed.to_csv('/project/pi_sarah_gignouxwolfsohn_uml_edu/julia/CE_methyl_assembly/assembly_pipeline_files/genomic_bed_files/CpG_multicov/HH_cpgMethyl.bed', \n",
    "               sep='\\t', \n",
    "               header=False, \n",
    "               index=False)"
   ]
  },
  {
   "cell_type": "code",
   "execution_count": 83,
   "id": "9922acb6",
   "metadata": {},
   "outputs": [],
   "source": [
    "# Load the CSV file\n",
    "HH_multicov = pd.read_csv('/project/pi_sarah_gignouxwolfsohn_uml_edu/julia/CE_methyl_assembly/assembly_pipeline_files/genomic_bed_files/CpG_multicov/HH_CpGmulticov.csv')\n",
    "\n",
    "# Calculate average counts of last 5 columns\n",
    "HH_multicov['avg_counts'] = HH_multicov.iloc[:, -5:].mean(axis=1)\n",
    "\n",
    "# Remove rows with averages below 5\n",
    "HH_filtered = HH_multicov[HH_multicov['avg_counts'] >= 5]\n",
    "\n",
    "# Remove temporary average column\n",
    "HH_filtered = HH_filtered.drop('avg_counts', axis=1)\n",
    "\n",
    "# Select the desired columns\n",
    "HH_bed = HH_filtered[['chromosome', 'start', 'stop']]\n",
    "\n",
    "# Save to bed file\n",
    "HH_bed.to_csv('/project/pi_sarah_gignouxwolfsohn_uml_edu/julia/CE_methyl_assembly/assembly_pipeline_files/genomic_bed_files/CpG_multicov/HH_cpgMethyl.bed', \n",
    "               sep='\\t', \n",
    "               header=False, \n",
    "               index=False)"
   ]
  },
  {
   "cell_type": "code",
   "execution_count": 83,
   "id": "d69e41b8",
   "metadata": {},
   "outputs": [],
   "source": [
    "# Load the CSV file\n",
    "HH_multicov = pd.read_csv('/project/pi_sarah_gignouxwolfsohn_uml_edu/julia/CE_methyl_assembly/assembly_pipeline_files/genomic_bed_files/CpG_multicov/HH_CpGmulticov.csv')\n",
    "\n",
    "# Calculate average counts of last 5 columns\n",
    "HH_multicov['avg_counts'] = HH_multicov.iloc[:, -5:].mean(axis=1)\n",
    "\n",
    "# Remove rows with averages below 5\n",
    "HH_filtered = HH_multicov[HH_multicov['avg_counts'] >= 5]\n",
    "\n",
    "# Remove temporary average column\n",
    "HH_filtered = HH_filtered.drop('avg_counts', axis=1)\n",
    "\n",
    "# Select the desired columns\n",
    "HH_bed = HH_filtered[['chromosome', 'start', 'stop']]\n",
    "\n",
    "# Save to bed file\n",
    "HH_bed.to_csv('/project/pi_sarah_gignouxwolfsohn_uml_edu/julia/CE_methyl_assembly/assembly_pipeline_files/genomic_bed_files/CpG_multicov/HH_cpgMethyl.bed', \n",
    "               sep='\\t', \n",
    "               header=False, \n",
    "               index=False)"
   ]
  },
  {
   "cell_type": "code",
   "execution_count": 3,
   "id": "66d7a88a-8f17-40d6-af94-5ff761977703",
   "metadata": {},
   "outputs": [],
   "source": [
    "# CpG lists for each treatment\n",
    "CC_CpG = \"/project/pi_sarah_gignouxwolfsohn_uml_edu/julia/CE_methyl_assembly/assembly_pipeline_files/genomic_bed_files/CpG_multicov/CC_cpgMethyl.bed\"\n",
    "CH_CpG = \"/project/pi_sarah_gignouxwolfsohn_uml_edu/julia/CE_methyl_assembly/assembly_pipeline_files/genomic_bed_files/CpG_multicov/CH_cpgMethyl.bed\"\n",
    "HC_CpG = \"/project/pi_sarah_gignouxwolfsohn_uml_edu/julia/CE_methyl_assembly/assembly_pipeline_files/genomic_bed_files/CpG_multicov/HC_cpgMethyl.bed\"\n",
    "HH_CpG = \"/project/pi_sarah_gignouxwolfsohn_uml_edu/julia/CE_methyl_assembly/assembly_pipeline_files/genomic_bed_files/CpG_multicov/HH_cpgMethyl.bed\""
   ]
  },
  {
   "cell_type": "markdown",
   "id": "687fdff9-cffa-4fb2-a11c-a3c2ec41f887",
   "metadata": {},
   "source": [
    "**methylated CpG in genes**"
   ]
  },
  {
   "cell_type": "code",
   "execution_count": 91,
   "id": "e25e1aee-4cfd-43c1-8aae-c390066d29c6",
   "metadata": {},
   "outputs": [
    {
     "name": "stdout",
     "output_type": "stream",
     "text": [
      "86816\n",
      "methylated CpG for CC overlaps with genes\n",
      "37891\n",
      "methylated CpG for CH overlaps with genes\n",
      "110613\n",
      "methylated CpG for HC overlaps with genes\n",
      "101771\n",
      "methylated CpG for HH overlaps with genes\n"
     ]
    }
   ],
   "source": [
    "!bedtools intersect -u -a {CC_CpG} -b {geneList} | wc -l\n",
    "!echo \"methylated CpG for CC overlaps with genes\"\n",
    "\n",
    "!bedtools intersect -u -a {CH_CpG} -b {geneList} | wc -l\n",
    "!echo \"methylated CpG for CH overlaps with genes\"\n",
    "\n",
    "!bedtools intersect -u -a {HC_CpG} -b {geneList} | wc -l\n",
    "!echo \"methylated CpG for HC overlaps with genes\"\n",
    "\n",
    "!bedtools intersect -u -a {HH_CpG} -b {geneList} | wc -l\n",
    "!echo \"methylated CpG for HH overlaps with genes\""
   ]
  },
  {
   "cell_type": "markdown",
   "id": "dad89b81-6f3a-46c2-a553-77791cd83f6d",
   "metadata": {},
   "source": [
    "**methylated CpG in exons**"
   ]
  },
  {
   "cell_type": "code",
   "execution_count": 92,
   "id": "505aeef2-9868-45e3-ab2b-f9c3975b50dd",
   "metadata": {},
   "outputs": [
    {
     "name": "stdout",
     "output_type": "stream",
     "text": [
      "57957\n",
      "methylated CpG for CC overlaps with exons\n",
      "26233\n",
      "methylated CpG for CH overlaps with exons\n",
      "68256\n",
      "methylated CpG for HC overlaps with exons\n",
      "64813\n",
      "methylated CpG for HH overlaps with exons\n"
     ]
    }
   ],
   "source": [
    "!bedtools intersect -u -a {CC_CpG} -b {exonList} | wc -l\n",
    "!echo \"methylated CpG for CC overlaps with exons\"\n",
    "\n",
    "!bedtools intersect -u -a {CH_CpG} -b {exonList} | wc -l\n",
    "!echo \"methylated CpG for CH overlaps with exons\"\n",
    "\n",
    "!bedtools intersect -u -a {HC_CpG} -b {exonList} | wc -l\n",
    "!echo \"methylated CpG for HC overlaps with exons\"\n",
    "\n",
    "!bedtools intersect -u -a {HH_CpG} -b {exonList} | wc -l\n",
    "!echo \"methylated CpG for HH overlaps with exons\""
   ]
  },
  {
   "cell_type": "markdown",
   "id": "d8f02a76-67cb-44a7-bf07-f2364e0baf25",
   "metadata": {},
   "source": [
    "**methylated CpG in introns**"
   ]
  },
  {
   "cell_type": "code",
   "execution_count": 93,
   "id": "9fb39afb-3155-4b30-9e89-ef7986332fef",
   "metadata": {},
   "outputs": [
    {
     "name": "stdout",
     "output_type": "stream",
     "text": [
      "29638\n",
      "methylated CpG for CC overlaps with introns\n",
      "12045\n",
      "methylated CpG for CH overlaps with introns\n",
      "43310\n",
      "methylated CpG for HC overlaps with introns\n",
      "37891\n",
      "methylated CpG for HH overlaps with introns\n"
     ]
    }
   ],
   "source": [
    "!bedtools intersect -u -a {CC_CpG} -b {intronList} | wc -l\n",
    "!echo \"methylated CpG for CC overlaps with introns\"\n",
    "\n",
    "!bedtools intersect -u -a {CH_CpG} -b {intronList} | wc -l\n",
    "!echo \"methylated CpG for CH overlaps with introns\"\n",
    "\n",
    "!bedtools intersect -u -a {HC_CpG} -b {intronList} | wc -l\n",
    "!echo \"methylated CpG for HC overlaps with introns\"\n",
    "\n",
    "!bedtools intersect -u -a {HH_CpG} -b {intronList} | wc -l\n",
    "!echo \"methylated CpG for HH overlaps with introns\""
   ]
  },
  {
   "cell_type": "markdown",
   "id": "078139b9-e98e-4864-9045-fe4a72e18a20",
   "metadata": {},
   "source": [
    "**methylated CpG in putative promoters**"
   ]
  },
  {
   "cell_type": "code",
   "execution_count": 94,
   "id": "0d85424c-8b69-4b87-8606-6d9a437e16ad",
   "metadata": {},
   "outputs": [
    {
     "name": "stdout",
     "output_type": "stream",
     "text": [
      "3529\n",
      "methylated CpG for CC overlaps with promoters\n",
      "1606\n",
      "methylated CpG for CH overlaps with promoters\n",
      "5650\n",
      "methylated CpG for HC overlaps with promoters\n",
      "4889\n",
      "methylated CpG for HH overlaps with promoters\n"
     ]
    }
   ],
   "source": [
    "!bedtools intersect -u -a {CC_CpG} -b {promoterList} | wc -l\n",
    "!echo \"methylated CpG for CC overlaps with promoters\"\n",
    "\n",
    "!bedtools intersect -u -a {CH_CpG} -b {promoterList} | wc -l\n",
    "!echo \"methylated CpG for CH overlaps with promoters\"\n",
    "\n",
    "!bedtools intersect -u -a {HC_CpG} -b {promoterList} | wc -l\n",
    "!echo \"methylated CpG for HC overlaps with promoters\"\n",
    "\n",
    "!bedtools intersect -u -a {HH_CpG} -b {promoterList} | wc -l\n",
    "!echo \"methylated CpG for HH overlaps with promoters\""
   ]
  },
  {
   "cell_type": "markdown",
   "id": "eba5bdce-6ab8-4c7f-864b-6eced5bb5db8",
   "metadata": {},
   "source": [
    "**methylated CpG in exon UTRs**"
   ]
  },
  {
   "cell_type": "code",
   "execution_count": 95,
   "id": "29d859bb-41de-4277-9527-c2a2c839b1ad",
   "metadata": {},
   "outputs": [
    {
     "name": "stdout",
     "output_type": "stream",
     "text": [
      "4165\n",
      "methylated CpG for CC overlaps with exon UTRs\n",
      "1545\n",
      "methylated CpG for CH overlaps with exon UTRs\n",
      "5164\n",
      "methylated CpG for HC overlaps with exon UTRs\n",
      "4843\n",
      "methylated CpG for HH overlaps with exon UTRs\n"
     ]
    }
   ],
   "source": [
    "!bedtools intersect -u -a {CC_CpG} -b {exonUTR} | wc -l\n",
    "!echo \"methylated CpG for CC overlaps with exon UTRs\"\n",
    "\n",
    "!bedtools intersect -u -a {CH_CpG} -b {exonUTR} | wc -l\n",
    "!echo \"methylated CpG for CH overlaps with exon UTRs\"\n",
    "\n",
    "!bedtools intersect -u -a {HC_CpG} -b {exonUTR} | wc -l\n",
    "!echo \"methylated CpG for HC overlaps with exon UTRs\"\n",
    "\n",
    "!bedtools intersect -u -a {HH_CpG} -b {exonUTR} | wc -l\n",
    "!echo \"methylated CpG for HH overlaps with exon UTRs\""
   ]
  },
  {
   "cell_type": "markdown",
   "id": "e8fa8d21-772f-4732-bb99-e3afa6b63ee9",
   "metadata": {},
   "source": [
    "**methylated CpG in transposable elements**"
   ]
  },
  {
   "cell_type": "code",
   "execution_count": 96,
   "id": "b9c38fb1-163b-4af2-bfb9-0a421fadf608",
   "metadata": {},
   "outputs": [
    {
     "name": "stdout",
     "output_type": "stream",
     "text": [
      "16875\n",
      "methylated CpG for CC overlaps with TEs\n",
      "6346\n",
      "methylated CpG for CH overlaps with TEs\n",
      "24506\n",
      "methylated CpG for HC overlaps with TEs\n",
      "22736\n",
      "methylated CpG for HH overlaps with TEs\n"
     ]
    }
   ],
   "source": [
    "!bedtools intersect -u -a {CC_CpG} -b {teList} | wc -l\n",
    "!echo \"methylated CpG for CC overlaps with TEs\"\n",
    "\n",
    "!bedtools intersect -u -a {CH_CpG} -b {teList} | wc -l\n",
    "!echo \"methylated CpG for CH overlaps with TEs\"\n",
    "\n",
    "!bedtools intersect -u -a {HC_CpG} -b {teList} | wc -l\n",
    "!echo \"methylated CpG for HC overlaps with TEs\"\n",
    "\n",
    "!bedtools intersect -u -a {HH_CpG} -b {teList} | wc -l\n",
    "!echo \"methylated CpG for HH overlaps with TEs\""
   ]
  },
  {
   "cell_type": "markdown",
   "id": "be218760-8594-4d79-bd89-842f1c4650fc",
   "metadata": {},
   "source": [
    "**methylated CpG in intergenic regions**"
   ]
  },
  {
   "cell_type": "code",
   "execution_count": 97,
   "id": "efd07ec5-225d-4f0d-ac8a-e81330c0c4c6",
   "metadata": {},
   "outputs": [
    {
     "name": "stdout",
     "output_type": "stream",
     "text": [
      "20079\n",
      "methylated CpG for CC overlaps with intergenic regions\n",
      "6567\n",
      "methylated CpG for CH overlaps with intergenic regions\n",
      "32953\n",
      "methylated CpG for HC overlaps with intergenic regions\n",
      "28033\n",
      "methylated CpG for HH overlaps with intergenic regions\n"
     ]
    }
   ],
   "source": [
    "!bedtools intersect -u -a {CC_CpG} -b {intergenicList} | wc -l\n",
    "!echo \"methylated CpG for CC overlaps with intergenic regions\"\n",
    "\n",
    "!bedtools intersect -u -a {CH_CpG} -b {intergenicList} | wc -l\n",
    "!echo \"methylated CpG for CH overlaps with intergenic regions\"\n",
    "\n",
    "!bedtools intersect -u -a {HC_CpG} -b {intergenicList} | wc -l\n",
    "!echo \"methylated CpG for HC overlaps with intergenic regions\"\n",
    "\n",
    "!bedtools intersect -u -a {HH_CpG} -b {intergenicList} | wc -l\n",
    "!echo \"methylated CpG for HH overlaps with intergenic regions\""
   ]
  },
  {
   "cell_type": "markdown",
   "id": "0cc96763-bc79-455c-a8ce-9a051a95c580",
   "metadata": {},
   "source": [
    "## no overlaps with genomic features\n",
    "\n",
    "CpGs that do not overlap any feature (aka unannotated intergenic regions)"
   ]
  },
  {
   "cell_type": "code",
   "execution_count": 99,
   "id": "a8ca491a-bc77-4d86-b6fe-563a9252799c",
   "metadata": {},
   "outputs": [
    {
     "name": "stdout",
     "output_type": "stream",
     "text": [
      "4576705\n",
      "CpG motifs do not overlap with exons, introns, transposable elements (all), or putative promoters\n"
     ]
    }
   ],
   "source": [
    "# CpG motif\n",
    "!bedtools intersect -v -a {cpgList} -b {exonList} {intronList} {teList} {promoterList} | wc -l\n",
    "!echo \"CpG motifs do not overlap with exons, introns, transposable elements (all), or putative promoters\""
   ]
  },
  {
   "cell_type": "markdown",
   "id": "566bf46b-a50c-4528-bbf1-5f1cc05dcb6a",
   "metadata": {},
   "source": [
    "4499027 CpG motifs do not overlap with exons, introns, transposable elements (all), or putative promoters"
   ]
  },
  {
   "cell_type": "code",
   "execution_count": 11,
   "id": "d41b6582",
   "metadata": {},
   "outputs": [
    {
     "name": "stdout",
     "output_type": "stream",
     "text": [
      "12610\n",
      "methylated CpG for cont cont do not overlap with exons, introns, transposable elements (all), intergenic regions or putative promoters\n",
      "3837\n",
      "methylated CpG for cont hyp do not overlap with exons, introns, transposable elements (all), intergenic regions or putative promoters\n",
      "20716\n",
      "methylated CpG for hyp cont do not overlap with exons, introns, transposable elements (all), intergenic regions or putative promoters\n",
      "16967\n",
      "methylated CpG for hyp hyp do not overlap with exons, introns, transposable elements (all), intergenic regions or putative promoters\n"
     ]
    }
   ],
   "source": [
    "!bedtools intersect -v -a {CC_CpG} -b {exonList} {intronList} {teList} {promoterList} | wc -l\n",
    "!echo \"methylated CpG for cont cont do not overlap with exons, introns, transposable elements (all), intergenic regions or putative promoters\"\n",
    "\n",
    "!bedtools intersect -v -a {CH_CpG} -b {exonList} {intronList} {teList} {promoterList}  | wc -l\n",
    "!echo \"methylated CpG for cont hyp do not overlap with exons, introns, transposable elements (all), intergenic regions or putative promoters\"\n",
    "\n",
    "!bedtools intersect -v -a {HC_CpG} -b {exonList} {intronList} {teList} {promoterList}  | wc -l\n",
    "!echo \"methylated CpG for hyp cont do not overlap with exons, introns, transposable elements (all), intergenic regions or putative promoters\"\n",
    "\n",
    "!bedtools intersect -v -a {HH_CpG} -b {exonList} {intronList} {teList} {promoterList} | wc -l\n",
    "!echo \"methylated CpG for hyp hyp do not overlap with exons, introns, transposable elements (all), intergenic regions or putative promoters\""
   ]
  },
  {
   "cell_type": "markdown",
   "id": "c9a54378-2d81-4cf7-9813-a0181a8bfd1d",
   "metadata": {},
   "source": [
    "**how many methylated CpG overlap outside of genes? (not in genic regions)**"
   ]
  },
  {
   "cell_type": "code",
   "execution_count": 8,
   "id": "127d5d41-cf0d-4715-b597-97617a7fcc0f",
   "metadata": {},
   "outputs": [
    {
     "name": "stdout",
     "output_type": "stream",
     "text": [
      "20827\n",
      "methylated CpG for cont cont do not overlap with genes\n",
      "6934\n",
      "methylated CpG for cont hyp do not overlap with genes\n",
      "33868\n",
      "methylated CpG for hyp cont do not overlap with genes\n",
      "28935\n",
      "methylated CpG for hyp hyp do not overlap with genes\n"
     ]
    }
   ],
   "source": [
    "!bedtools intersect -v -a {CC_CpG} -b {geneList} | wc -l\n",
    "!echo \"methylated CpG for cont cont do not overlap with genes\"\n",
    "\n",
    "!bedtools intersect -v -a {CH_CpG} -b {geneList}  | wc -l\n",
    "!echo \"methylated CpG for cont hyp do not overlap with genes\"\n",
    "\n",
    "!bedtools intersect -v -a {HC_CpG} -b {geneList}  | wc -l\n",
    "!echo \"methylated CpG for hyp cont do not overlap with genes\"\n",
    "\n",
    "!bedtools intersect -v -a {HH_CpG} -b {geneList}  | wc -l\n",
    "!echo \"methylated CpG for hyp hyp do not overlap with genes\""
   ]
  },
  {
   "cell_type": "code",
   "execution_count": 7,
   "id": "751ebce4-bbea-404a-8c56-f07a38400b64",
   "metadata": {},
   "outputs": [
    {
     "name": "stdout",
     "output_type": "stream",
     "text": [
      "\n",
      "Tool:    bedtools intersect (aka intersectBed)\n",
      "Version: v2.31.1\n",
      "Summary: Report overlaps between two feature files.\n",
      "\n",
      "Usage:   bedtools intersect [OPTIONS] -a <bed/gff/vcf/bam> -b <bed/gff/vcf/bam>\n",
      "\n",
      "\tNote: -b may be followed with multiple databases and/or \n",
      "\twildcard (*) character(s). \n",
      "Options: \n",
      "\t-wa\tWrite the original entry in A for each overlap.\n",
      "\n",
      "\t-wb\tWrite the original entry in B for each overlap.\n",
      "\t\t- Useful for knowing _what_ A overlaps. Restricted by -f and -r.\n",
      "\n",
      "\t-loj\tPerform a \"left outer join\". That is, for each feature in A\n",
      "\t\treport each overlap with B.  If no overlaps are found, \n",
      "\t\treport a NULL feature for B.\n",
      "\n",
      "\t-wo\tWrite the original A and B entries plus the number of base\n",
      "\t\tpairs of overlap between the two features.\n",
      "\t\t- Overlaps restricted by -f and -r.\n",
      "\t\t  Only A features with overlap are reported.\n",
      "\n",
      "\t-wao\tWrite the original A and B entries plus the number of base\n",
      "\t\tpairs of overlap between the two features.\n",
      "\t\t- Overlapping features restricted by -f and -r.\n",
      "\t\t  However, A features w/o overlap are also reported\n",
      "\t\t  with a NULL B feature and overlap = 0.\n",
      "\n",
      "\t-u\tWrite the original A entry _once_ if _any_ overlaps found in B.\n",
      "\t\t- In other words, just report the fact >=1 hit was found.\n",
      "\t\t- Overlaps restricted by -f and -r.\n",
      "\n",
      "\t-c\tFor each entry in A, report the number of overlaps with B.\n",
      "\t\t- Reports 0 for A entries that have no overlap with B.\n",
      "\t\t- Overlaps restricted by -f, -F, -r, and -s.\n",
      "\n",
      "\t-C\tFor each entry in A, separately report the number of\n",
      "\t\t- overlaps with each B file on a distinct line.\n",
      "\t\t- Reports 0 for A entries that have no overlap with B.\n",
      "\t\t- Overlaps restricted by -f, -F, -r, and -s.\n",
      "\n",
      "\t-v\tOnly report those entries in A that have _no overlaps_ with B.\n",
      "\t\t- Similar to \"grep -v\" (an homage).\n",
      "\n",
      "\t-ubam\tWrite uncompressed BAM output. Default writes compressed BAM.\n",
      "\n",
      "\t-s\tRequire same strandedness.  That is, only report hits in B\n",
      "\t\tthat overlap A on the _same_ strand.\n",
      "\t\t- By default, overlaps are reported without respect to strand.\n",
      "\n",
      "\t-S\tRequire different strandedness.  That is, only report hits in B\n",
      "\t\tthat overlap A on the _opposite_ strand.\n",
      "\t\t- By default, overlaps are reported without respect to strand.\n",
      "\n",
      "\t-f\tMinimum overlap required as a fraction of A.\n",
      "\t\t- Default is 1E-9 (i.e., 1bp).\n",
      "\t\t- FLOAT (e.g. 0.50)\n",
      "\n",
      "\t-F\tMinimum overlap required as a fraction of B.\n",
      "\t\t- Default is 1E-9 (i.e., 1bp).\n",
      "\t\t- FLOAT (e.g. 0.50)\n",
      "\n",
      "\t-r\tRequire that the fraction overlap be reciprocal for A AND B.\n",
      "\t\t- In other words, if -f is 0.90 and -r is used, this requires\n",
      "\t\t  that B overlap 90% of A and A _also_ overlaps 90% of B.\n",
      "\n",
      "\t-e\tRequire that the minimum fraction be satisfied for A OR B.\n",
      "\t\t- In other words, if -e is used with -f 0.90 and -F 0.10 this requires\n",
      "\t\t  that either 90% of A is covered OR 10% of  B is covered.\n",
      "\t\t  Without -e, both fractions would have to be satisfied.\n",
      "\n",
      "\t-split\tTreat \"split\" BAM or BED12 entries as distinct BED intervals.\n",
      "\n",
      "\t-g\tProvide a genome file to enforce consistent chromosome sort order\n",
      "\t\tacross input files. Only applies when used with -sorted option.\n",
      "\n",
      "\t-nonamecheck\tFor sorted data, don't throw an error if the file has different naming conventions\n",
      "\t\t\tfor the same chromosome. ex. \"chr1\" vs \"chr01\".\n",
      "\n",
      "\t-sorted\tUse the \"chromsweep\" algorithm for sorted (-k1,1 -k2,2n) input.\n",
      "\n",
      "\t-names\tWhen using multiple databases, provide an alias for each that\n",
      "\t\twill appear instead of a fileId when also printing the DB record.\n",
      "\n",
      "\t-filenames\tWhen using multiple databases, show each complete filename\n",
      "\t\t\tinstead of a fileId when also printing the DB record.\n",
      "\n",
      "\t-sortout\tWhen using multiple databases, sort the output DB hits\n",
      "\t\t\tfor each record.\n",
      "\n",
      "\t-bed\tIf using BAM input, write output as BED.\n",
      "\n",
      "\t-header\tPrint the header from the A file prior to results.\n",
      "\n",
      "\t-nobuf\tDisable buffered output. Using this option will cause each line\n",
      "\t\tof output to be printed as it is generated, rather than saved\n",
      "\t\tin a buffer. This will make printing large output files \n",
      "\t\tnoticeably slower, but can be useful in conjunction with\n",
      "\t\tother software tools and scripts that need to process one\n",
      "\t\tline of bedtools output at a time.\n",
      "\n",
      "\t-iobuf\tSpecify amount of memory to use for input buffer.\n",
      "\t\tTakes an integer argument. Optional suffixes K/M/G supported.\n",
      "\t\tNote: currently has no effect with compressed files.\n",
      "\n",
      "Notes: \n",
      "\t(1) When a BAM file is used for the A file, the alignment is retained if overlaps exist,\n",
      "\tand excluded if an overlap cannot be found.  If multiple overlaps exist, they are not\n",
      "\treported, as we are only testing for one or more overlaps.\n",
      "\n",
      "\n",
      "\n",
      "\n"
     ]
    }
   ],
   "source": [
    "!bedtools intersect --help"
   ]
  },
  {
   "cell_type": "markdown",
   "id": "988d513a-8401-4725-a858-3f2a40f2f383",
   "metadata": {},
   "source": [
    "## Proportion overlap"
   ]
  },
  {
   "cell_type": "code",
   "execution_count": 110,
   "id": "969d71a4-222d-4cff-9d5e-6517ac743664",
   "metadata": {},
   "outputs": [],
   "source": [
    "CC_CpG = \"/project/pi_sarah_gignouxwolfsohn_uml_edu/julia/CE_methyl_assembly/assembly_pipeline_files/genomic_bed_files/CpG_multicov/CC_cpgMethyl.bed\"\n",
    "CH_CpG = \"/project/pi_sarah_gignouxwolfsohn_uml_edu/julia/CE_methyl_assembly/assembly_pipeline_files/genomic_bed_files/CpG_multicov/CH_cpgMethyl.bed\"\n",
    "HC_CpG = \"/project/pi_sarah_gignouxwolfsohn_uml_edu/julia/CE_methyl_assembly/assembly_pipeline_files/genomic_bed_files/CpG_multicov/HC_cpgMethyl.bed\"\n",
    "HH_CpG = \"/project/pi_sarah_gignouxwolfsohn_uml_edu/julia/CE_methyl_assembly/assembly_pipeline_files/genomic_bed_files/CpG_multicov/HH_cpgMethyl.bed\""
   ]
  },
  {
   "cell_type": "code",
   "execution_count": 122,
   "id": "329ce885-e237-4758-be69-fee4a4f448df",
   "metadata": {},
   "outputs": [
    {
     "name": "stdout",
     "output_type": "stream",
     "text": [
      "      genomicFeature treatment propOverlap\n",
      "0                 TE        CC     [16875]\n",
      "1              exons        CC     [57957]\n",
      "2            introns        CC     [29638]\n",
      "3   putativePromoter        CC      [3529]\n",
      "4               UTRs        CC      [4165]\n",
      "5         intergenic        CC     [20079]\n",
      "6                 TE        CH      [6346]\n",
      "7              exons        CH     [26233]\n",
      "8            introns        CH     [12045]\n",
      "9   putativePromoter        CH      [1606]\n",
      "10              UTRs        CH      [1545]\n",
      "11        intergenic        CH      [6567]\n",
      "12                TE        HC     [24506]\n",
      "13             exons        HC     [68256]\n",
      "14           introns        HC     [43310]\n",
      "15  putativePromoter        HC      [5650]\n",
      "16              UTRs        HC      [5164]\n",
      "17        intergenic        HC     [32953]\n",
      "18                TE        HH     [22736]\n",
      "19             exons        HH     [64813]\n",
      "20           introns        HH     [37891]\n",
      "21  putativePromoter        HH      [4889]\n",
      "22              UTRs        HH      [4843]\n",
      "23        intergenic        HH     [28033]\n",
      "24                TE    allCpG   [2828372]\n",
      "25             exons    allCpG   [2323389]\n",
      "26           introns    allCpG   [5497874]\n",
      "27  putativePromoter    allCpG    [926518]\n",
      "28              UTRs    allCpG    [600840]\n",
      "29        intergenic    allCpG   [6644297]\n"
     ]
    }
   ],
   "source": [
    "import pandas as pd\n",
    "\n",
    "# Define the treatments and feature variables\n",
    "treatments = {\n",
    "    'CC': CC_CpG,\n",
    "    'CH': CH_CpG,\n",
    "    'HC': HC_CpG, \n",
    "    'HH': HH_CpG,\n",
    "    'allCpG': cpgList\n",
    "}\n",
    "\n",
    "features = {\n",
    "    'TE': teList,\n",
    "    'exons': exonList,\n",
    "    'introns': intronList,\n",
    "    'putativePromoter': promoterList,\n",
    "    'UTRs': exonUTR,\n",
    "    'intergenic': intergenicList\n",
    "}\n",
    "\n",
    "# Initialize an empty list to store the results\n",
    "results = []\n",
    "\n",
    "# Loop over the treatments\n",
    "for treatment_name, treatment_file in treatments.items():\n",
    "    # Loop over the features\n",
    "    for feature_name, feature_list in features.items():\n",
    "        # Use bedtools intersect to count the overlaps\n",
    "        overlap_count = !bedtools intersect -u -a {treatment_file} -b {feature_list} | wc -l\n",
    "        \n",
    "        # Append the result to the list\n",
    "        results.append({'genomicFeature': feature_name, 'treatment': treatment_name, 'propOverlap': overlap_count})\n",
    "\n",
    "\n",
    "# Convert the list to a pandas DataFrame\n",
    "df = pd.DataFrame(results)\n",
    "\n",
    "# Print the DataFrame\n",
    "print(df)"
   ]
  },
  {
   "cell_type": "code",
   "execution_count": 132,
   "id": "135db239-b750-4285-ad72-db9f773ed62b",
   "metadata": {},
   "outputs": [],
   "source": [
    "#df['propOverlap'] = df['propOverlap'].str.extract('(\\d+)')\n",
    "\n",
    "df.to_csv('/project/pi_sarah_gignouxwolfsohn_uml_edu/julia/CE_MethylRAD_analysis_2018/analysis/genomic_feature_tracks/propOverlap.csv', index=False)"
   ]
  },
  {
   "cell_type": "markdown",
   "id": "12e753f5-c31d-440a-9254-94126ab383ff",
   "metadata": {},
   "source": [
    "can't seem to get the propOverlap column formatted correctly, so manipulated locally and then re-uploaded"
   ]
  },
  {
   "cell_type": "code",
   "execution_count": 147,
   "id": "d7884d06-4721-4d53-b9b4-c287e8c0f4a7",
   "metadata": {},
   "outputs": [
    {
     "name": "stdout",
     "output_type": "stream",
     "text": [
      "      genomicFeature treatment  propOverlap  propOverlap_sum  \\\n",
      "0                 TE        CC        16875           132243   \n",
      "1              exons        CC        57957           132243   \n",
      "2            introns        CC        29638           132243   \n",
      "3   putativePromoter        CC         3529           132243   \n",
      "4               UTRs        CC         4165           132243   \n",
      "5         intergenic        CC        20079           132243   \n",
      "6                 TE        CH         6346            54342   \n",
      "7              exons        CH        26233            54342   \n",
      "8            introns        CH        12045            54342   \n",
      "9   putativePromoter        CH         1606            54342   \n",
      "10              UTRs        CH         1545            54342   \n",
      "11        intergenic        CH         6567            54342   \n",
      "12                TE        HC        24506           179839   \n",
      "13             exons        HC        68256           179839   \n",
      "14           introns        HC        43310           179839   \n",
      "15  putativePromoter        HC         5650           179839   \n",
      "16              UTRs        HC         5164           179839   \n",
      "17        intergenic        HC        32953           179839   \n",
      "18                TE        HH        22736           163205   \n",
      "19             exons        HH        64813           163205   \n",
      "20           introns        HH        37891           163205   \n",
      "21  putativePromoter        HH         4889           163205   \n",
      "22              UTRs        HH         4843           163205   \n",
      "23        intergenic        HH        28033           163205   \n",
      "24                TE    allCpG      2828372         18821290   \n",
      "25             exons    allCpG      2323389         18821290   \n",
      "26           introns    allCpG      5497874         18821290   \n",
      "27  putativePromoter    allCpG       926518         18821290   \n",
      "28              UTRs    allCpG       600840         18821290   \n",
      "29        intergenic    allCpG      6644297         18821290   \n",
      "\n",
      "    proportion_overlap  \n",
      "0             0.127606  \n",
      "1             0.438261  \n",
      "2             0.224118  \n",
      "3             0.026686  \n",
      "4             0.031495  \n",
      "5             0.151834  \n",
      "6             0.116779  \n",
      "7             0.482739  \n",
      "8             0.221652  \n",
      "9             0.029554  \n",
      "10            0.028431  \n",
      "11            0.120846  \n",
      "12            0.136266  \n",
      "13            0.379539  \n",
      "14            0.240827  \n",
      "15            0.031417  \n",
      "16            0.028715  \n",
      "17            0.183236  \n",
      "18            0.139309  \n",
      "19            0.397126  \n",
      "20            0.232168  \n",
      "21            0.029956  \n",
      "22            0.029674  \n",
      "23            0.171766  \n",
      "24            0.150275  \n",
      "25            0.123445  \n",
      "26            0.292109  \n",
      "27            0.049227  \n",
      "28            0.031923  \n",
      "29            0.353020  \n"
     ]
    }
   ],
   "source": [
    "import pandas as pd\n",
    "\n",
    "# Load your data into a Pandas DataFrame\n",
    "df = pd.read_csv('/project/pi_sarah_gignouxwolfsohn_uml_edu/julia/CE_MethylRAD_analysis_2018/analysis/genomic_feature_tracks/propOverlap.csv')\n",
    "\n",
    "# Group the data by treatment and calculate the sum of propOverlap\n",
    "treatment_sums = df.groupby('treatment')['propOverlap'].sum().reset_index()\n",
    "\n",
    "# Merge the original DataFrame with the treatment sums\n",
    "df_merged = pd.merge(df, treatment_sums, on='treatment', suffixes=('', '_sum'))\n",
    "\n",
    "# Calculate the proportion of overlap\n",
    "df_merged['proportion_overlap'] = df_merged['propOverlap'] / df_merged['propOverlap_sum']\n",
    "\n",
    "# Print the result\n",
    "print(df_merged)\n",
    "\n",
    "df_merged.to_csv('/project/pi_sarah_gignouxwolfsohn_uml_edu/julia/CE_MethylRAD_analysis_2018/analysis/genomic_feature_tracks/propOverlap_decimal.csv', index=False)"
   ]
  },
  {
   "cell_type": "markdown",
   "id": "7ae3af33-ccff-46e5-9abf-ab8d446bd139",
   "metadata": {},
   "source": [
    "## min. avg. 10 seq for methylated CpG\n",
    "doing the same as above, but making the qualifications to be a methylated CpG more stringent\n",
    "\n",
    "\n",
    "#### methylated CpG by treatment\n",
    "\n",
    "first, filtering treatment CpG motifs - a CpG dinucleotide is considered methylated if the average count across the four replicates is greater than or equal to 10. This ensures that we're not counting a CpG methylated if one sample has a count of 15 and the rest have 0.\n",
    "\n",
    "only need to run this code once - then can just read in files below"
   ]
  },
  {
   "cell_type": "code",
   "execution_count": 13,
   "id": "07bd3287-02ea-437c-9d3a-693ed1c1f9fb",
   "metadata": {},
   "outputs": [],
   "source": [
    "import pandas as pd\n",
    "\n",
    "# Load the CSV file\n",
    "CC_multicov = pd.read_csv('/project/pi_sarah_gignouxwolfsohn_uml_edu/julia/CE_methyl_assembly/assembly_pipeline_files/genomic_bed_files/CpG_multicov/CC_CpGmulticov.csv')\n",
    "\n",
    "# Calculate average counts of last 5 columns\n",
    "CC_multicov['avg_counts'] = CC_multicov.iloc[:, -5:].mean(axis=1)\n",
    "\n",
    "# Remove rows with averages below 5\n",
    "CC_filtered = CC_multicov[CC_multicov['avg_counts'] >= 10]\n",
    "\n",
    "# Remove temporary average column\n",
    "CC_filtered = CC_filtered.drop('avg_counts', axis=1)\n",
    "\n",
    "# Select the desired columns\n",
    "CC_bed = CC_filtered[['chromosome', 'start', 'stop']]\n",
    "\n",
    "# Save to bed file\n",
    "CC_bed.to_csv('/project/pi_sarah_gignouxwolfsohn_uml_edu/julia/CE_methyl_assembly/assembly_pipeline_files/genomic_bed_files/CpG_multicov/10CC_cpgMethyl.bed', \n",
    "               sep='\\t', \n",
    "               header=False, \n",
    "               index=False)\n"
   ]
  },
  {
   "cell_type": "code",
   "execution_count": 14,
   "id": "a409c26b-385b-4f70-b8ac-b6568be49e5e",
   "metadata": {},
   "outputs": [],
   "source": [
    "# Load the CSV file\n",
    "HH_multicov = pd.read_csv('/project/pi_sarah_gignouxwolfsohn_uml_edu/julia/CE_methyl_assembly/assembly_pipeline_files/genomic_bed_files/CpG_multicov/HH_CpGmulticov.csv')\n",
    "\n",
    "# Calculate average counts of last 5 columns\n",
    "HH_multicov['avg_counts'] = HH_multicov.iloc[:, -5:].mean(axis=1)\n",
    "\n",
    "# Remove rows with averages below 5\n",
    "HH_filtered = HH_multicov[HH_multicov['avg_counts'] >= 10]\n",
    "\n",
    "# Remove temporary average column\n",
    "HH_filtered = HH_filtered.drop('avg_counts', axis=1)\n",
    "\n",
    "# Select the desired columns\n",
    "HH_bed = HH_filtered[['chromosome', 'start', 'stop']]\n",
    "\n",
    "# Save to bed file\n",
    "HH_bed.to_csv('/project/pi_sarah_gignouxwolfsohn_uml_edu/julia/CE_methyl_assembly/assembly_pipeline_files/genomic_bed_files/CpG_multicov/10HH_cpgMethyl.bed', \n",
    "               sep='\\t', \n",
    "               header=False, \n",
    "               index=False)\n"
   ]
  },
  {
   "cell_type": "code",
   "execution_count": 15,
   "id": "be8af556-db06-4055-b8a0-9d503faf79f9",
   "metadata": {},
   "outputs": [],
   "source": [
    "# Load the CSV file\n",
    "HC_multicov = pd.read_csv('/project/pi_sarah_gignouxwolfsohn_uml_edu/julia/CE_methyl_assembly/assembly_pipeline_files/genomic_bed_files/CpG_multicov/HC_CpGmulticov.csv')\n",
    "\n",
    "# Calculate average counts of last 5 columns\n",
    "HC_multicov['avg_counts'] = HC_multicov.iloc[:, -5:].mean(axis=1)\n",
    "\n",
    "# Remove rows with averages below 5\n",
    "HC_filtered = HC_multicov[HC_multicov['avg_counts'] >= 10]\n",
    "\n",
    "# Remove temporary average column\n",
    "HC_filtered = HC_filtered.drop('avg_counts', axis=1)\n",
    "\n",
    "# Select the desired columns\n",
    "HC_bed = HC_filtered[['chromosome', 'start', 'stop']]\n",
    "\n",
    "HC_bed.to_csv('/project/pi_sarah_gignouxwolfsohn_uml_edu/julia/CE_methyl_assembly/assembly_pipeline_files/genomic_bed_files/CpG_multicov/10HC_cpgMethyl.bed', \n",
    "               sep='\\t', \n",
    "               header=False, \n",
    "               index=False)\n"
   ]
  },
  {
   "cell_type": "code",
   "execution_count": 16,
   "id": "d3bcfb8a-f675-46d0-95f3-c9e216744cfc",
   "metadata": {},
   "outputs": [],
   "source": [
    "# Load the CSV file\n",
    "CH_multicov = pd.read_csv('/project/pi_sarah_gignouxwolfsohn_uml_edu/julia/CE_methyl_assembly/assembly_pipeline_files/genomic_bed_files/CpG_multicov/CH_CpGmulticov.csv')\n",
    "\n",
    "# Calculate average counts of last 5 columns\n",
    "CH_multicov['avg_counts'] = CH_multicov.iloc[:, -5:].mean(axis=1)\n",
    "\n",
    "# Remove rows with averages below 5\n",
    "CH_filtered = CH_multicov[CH_multicov['avg_counts'] >= 10]\n",
    "\n",
    "# Remove temporary average column\n",
    "CH_filtered = CH_filtered.drop('avg_counts', axis=1)\n",
    "\n",
    "# Select the desired columns\n",
    "CH_bed = CH_filtered[['chromosome', 'start', 'stop']]\n",
    "\n",
    "# Save to bed file\n",
    "CH_bed.to_csv('/project/pi_sarah_gignouxwolfsohn_uml_edu/julia/CE_methyl_assembly/assembly_pipeline_files/genomic_bed_files/CpG_multicov/10CH_cpgMethyl.bed', \n",
    "               sep='\\t', \n",
    "               header=False, \n",
    "               index=False)"
   ]
  },
  {
   "cell_type": "code",
   "execution_count": 17,
   "id": "a7f4ad56-2585-4dc3-837e-bc40e78912a0",
   "metadata": {},
   "outputs": [],
   "source": [
    "# CpG lists for each treatment\n",
    "CC_CpG = \"/project/pi_sarah_gignouxwolfsohn_uml_edu/julia/CE_methyl_assembly/assembly_pipeline_files/genomic_bed_files/CpG_multicov/10CC_cpgMethyl.bed\"\n",
    "CH_CpG = \"/project/pi_sarah_gignouxwolfsohn_uml_edu/julia/CE_methyl_assembly/assembly_pipeline_files/genomic_bed_files/CpG_multicov/10CH_cpgMethyl.bed\"\n",
    "HC_CpG = \"/project/pi_sarah_gignouxwolfsohn_uml_edu/julia/CE_methyl_assembly/assembly_pipeline_files/genomic_bed_files/CpG_multicov/10HC_cpgMethyl.bed\"\n",
    "HH_CpG = \"/project/pi_sarah_gignouxwolfsohn_uml_edu/julia/CE_methyl_assembly/assembly_pipeline_files/genomic_bed_files/CpG_multicov/10HH_cpgMethyl.bed\""
   ]
  },
  {
   "cell_type": "markdown",
   "id": "652f32f1-b58a-471a-9d06-0167fda94d4b",
   "metadata": {},
   "source": [
    "**methylated CpG in genes**"
   ]
  },
  {
   "cell_type": "code",
   "execution_count": 18,
   "id": "5556abb8-fcd2-4521-87f6-d675ca701b53",
   "metadata": {},
   "outputs": [
    {
     "name": "stdout",
     "output_type": "stream",
     "text": [
      "56964\n",
      "methylated CpG for CC overlaps with genes\n",
      "59599\n",
      "methylated CpG for CH overlaps with genes\n",
      "81149\n",
      "methylated CpG for HC overlaps with genes\n",
      "71599\n",
      "methylated CpG for HH overlaps with genes\n"
     ]
    }
   ],
   "source": [
    "!bedtools intersect -u -a {CC_CpG} -b {geneList} | wc -l\n",
    "!echo \"methylated CpG for CC overlaps with genes\"\n",
    "\n",
    "!bedtools intersect -u -a {CH_CpG} -b {geneList} | wc -l\n",
    "!echo \"methylated CpG for CH overlaps with genes\"\n",
    "\n",
    "!bedtools intersect -u -a {HC_CpG} -b {geneList} | wc -l\n",
    "!echo \"methylated CpG for HC overlaps with genes\"\n",
    "\n",
    "!bedtools intersect -u -a {HH_CpG} -b {geneList} | wc -l\n",
    "!echo \"methylated CpG for HH overlaps with genes\""
   ]
  },
  {
   "cell_type": "markdown",
   "id": "d286fb91-7744-433f-84d8-e6a0da992f72",
   "metadata": {},
   "source": [
    "**methylated CpG in exons**"
   ]
  },
  {
   "cell_type": "code",
   "execution_count": 19,
   "id": "fb462ba5-1d30-4ec8-8920-0039a7abf526",
   "metadata": {},
   "outputs": [
    {
     "name": "stdout",
     "output_type": "stream",
     "text": [
      "40687\n",
      "methylated CpG for CC overlaps with exons\n",
      "41891\n",
      "methylated CpG for CH overlaps with exons\n",
      "53489\n",
      "methylated CpG for HC overlaps with exons\n",
      "49065\n",
      "methylated CpG for HH overlaps with exons\n"
     ]
    }
   ],
   "source": [
    "!bedtools intersect -u -a {CC_CpG} -b {exonList} | wc -l\n",
    "!echo \"methylated CpG for CC overlaps with exons\"\n",
    "\n",
    "!bedtools intersect -u -a {CH_CpG} -b {exonList} | wc -l\n",
    "!echo \"methylated CpG for CH overlaps with exons\"\n",
    "\n",
    "!bedtools intersect -u -a {HC_CpG} -b {exonList} | wc -l\n",
    "!echo \"methylated CpG for HC overlaps with exons\"\n",
    "\n",
    "!bedtools intersect -u -a {HH_CpG} -b {exonList} | wc -l\n",
    "!echo \"methylated CpG for HH overlaps with exons\""
   ]
  },
  {
   "cell_type": "markdown",
   "id": "1bd246b4-2d3e-483b-b408-6ecbdc3f032a",
   "metadata": {},
   "source": [
    "**methylated CpG in introns**"
   ]
  },
  {
   "cell_type": "code",
   "execution_count": 20,
   "id": "5fed4d10-9d40-4ca7-b7b8-8103a2856c7c",
   "metadata": {},
   "outputs": [
    {
     "name": "stdout",
     "output_type": "stream",
     "text": [
      "16813\n",
      "methylated CpG for CC overlaps with introns\n",
      "18275\n",
      "methylated CpG for CH overlaps with introns\n",
      "28412\n",
      "methylated CpG for HC overlaps with introns\n",
      "23204\n",
      "methylated CpG for HH overlaps with introns\n"
     ]
    }
   ],
   "source": [
    "!bedtools intersect -u -a {CC_CpG} -b {intronList} | wc -l\n",
    "!echo \"methylated CpG for CC overlaps with introns\"\n",
    "\n",
    "!bedtools intersect -u -a {CH_CpG} -b {intronList} | wc -l\n",
    "!echo \"methylated CpG for CH overlaps with introns\"\n",
    "\n",
    "!bedtools intersect -u -a {HC_CpG} -b {intronList} | wc -l\n",
    "!echo \"methylated CpG for HC overlaps with introns\"\n",
    "\n",
    "!bedtools intersect -u -a {HH_CpG} -b {intronList} | wc -l\n",
    "!echo \"methylated CpG for HH overlaps with introns\""
   ]
  },
  {
   "cell_type": "markdown",
   "id": "c9419356-de5a-4aa2-8c88-f73c59517a2d",
   "metadata": {},
   "source": [
    "**methylated CpG in putative promoters**"
   ]
  },
  {
   "cell_type": "code",
   "execution_count": 94,
   "id": "9a9a4855-44dc-438d-b44b-4f08f11d6304",
   "metadata": {},
   "outputs": [
    {
     "name": "stdout",
     "output_type": "stream",
     "text": [
      "3529\n",
      "methylated CpG for CC overlaps with promoters\n",
      "1606\n",
      "methylated CpG for CH overlaps with promoters\n",
      "5650\n",
      "methylated CpG for HC overlaps with promoters\n",
      "4889\n",
      "methylated CpG for HH overlaps with promoters\n"
     ]
    }
   ],
   "source": [
    "!bedtools intersect -u -a {CC_CpG} -b {promoterList} | wc -l\n",
    "!echo \"methylated CpG for CC overlaps with promoters\"\n",
    "\n",
    "!bedtools intersect -u -a {CH_CpG} -b {promoterList} | wc -l\n",
    "!echo \"methylated CpG for CH overlaps with promoters\"\n",
    "\n",
    "!bedtools intersect -u -a {HC_CpG} -b {promoterList} | wc -l\n",
    "!echo \"methylated CpG for HC overlaps with promoters\"\n",
    "\n",
    "!bedtools intersect -u -a {HH_CpG} -b {promoterList} | wc -l\n",
    "!echo \"methylated CpG for HH overlaps with promoters\""
   ]
  },
  {
   "cell_type": "markdown",
   "id": "9fe8232f-75d1-407e-8681-4a5f436d8e88",
   "metadata": {},
   "source": [
    "**methylated CpG in exon UTRs**"
   ]
  },
  {
   "cell_type": "code",
   "execution_count": 95,
   "id": "a133cef8-ff9f-42c6-a321-fda103f8b2d5",
   "metadata": {},
   "outputs": [
    {
     "name": "stdout",
     "output_type": "stream",
     "text": [
      "4165\n",
      "methylated CpG for CC overlaps with exon UTRs\n",
      "1545\n",
      "methylated CpG for CH overlaps with exon UTRs\n",
      "5164\n",
      "methylated CpG for HC overlaps with exon UTRs\n",
      "4843\n",
      "methylated CpG for HH overlaps with exon UTRs\n"
     ]
    }
   ],
   "source": [
    "!bedtools intersect -u -a {CC_CpG} -b {exonUTR} | wc -l\n",
    "!echo \"methylated CpG for CC overlaps with exon UTRs\"\n",
    "\n",
    "!bedtools intersect -u -a {CH_CpG} -b {exonUTR} | wc -l\n",
    "!echo \"methylated CpG for CH overlaps with exon UTRs\"\n",
    "\n",
    "!bedtools intersect -u -a {HC_CpG} -b {exonUTR} | wc -l\n",
    "!echo \"methylated CpG for HC overlaps with exon UTRs\"\n",
    "\n",
    "!bedtools intersect -u -a {HH_CpG} -b {exonUTR} | wc -l\n",
    "!echo \"methylated CpG for HH overlaps with exon UTRs\""
   ]
  },
  {
   "cell_type": "markdown",
   "id": "19ae5029-bc26-4412-86b1-91e382dce950",
   "metadata": {},
   "source": [
    "**methylated CpG in transposable elements**"
   ]
  },
  {
   "cell_type": "code",
   "execution_count": 96,
   "id": "24bfbac6-2f27-45cb-a9a8-a7b766cfe97f",
   "metadata": {},
   "outputs": [
    {
     "name": "stdout",
     "output_type": "stream",
     "text": [
      "16875\n",
      "methylated CpG for CC overlaps with TEs\n",
      "6346\n",
      "methylated CpG for CH overlaps with TEs\n",
      "24506\n",
      "methylated CpG for HC overlaps with TEs\n",
      "22736\n",
      "methylated CpG for HH overlaps with TEs\n"
     ]
    }
   ],
   "source": [
    "!bedtools intersect -u -a {CC_CpG} -b {teList} | wc -l\n",
    "!echo \"methylated CpG for CC overlaps with TEs\"\n",
    "\n",
    "!bedtools intersect -u -a {CH_CpG} -b {teList} | wc -l\n",
    "!echo \"methylated CpG for CH overlaps with TEs\"\n",
    "\n",
    "!bedtools intersect -u -a {HC_CpG} -b {teList} | wc -l\n",
    "!echo \"methylated CpG for HC overlaps with TEs\"\n",
    "\n",
    "!bedtools intersect -u -a {HH_CpG} -b {teList} | wc -l\n",
    "!echo \"methylated CpG for HH overlaps with TEs\""
   ]
  },
  {
   "cell_type": "markdown",
   "id": "dd967f1f-58e5-4717-aad6-164852b39f33",
   "metadata": {},
   "source": [
    "**methylated CpG in intergenic regions**"
   ]
  },
  {
   "cell_type": "code",
   "execution_count": 97,
   "id": "af99af02-24da-4c25-aac8-92f92ea9dd4c",
   "metadata": {},
   "outputs": [
    {
     "name": "stdout",
     "output_type": "stream",
     "text": [
      "20079\n",
      "methylated CpG for CC overlaps with intergenic regions\n",
      "6567\n",
      "methylated CpG for CH overlaps with intergenic regions\n",
      "32953\n",
      "methylated CpG for HC overlaps with intergenic regions\n",
      "28033\n",
      "methylated CpG for HH overlaps with intergenic regions\n"
     ]
    }
   ],
   "source": [
    "!bedtools intersect -u -a {CC_CpG} -b {intergenicList} | wc -l\n",
    "!echo \"methylated CpG for CC overlaps with intergenic regions\"\n",
    "\n",
    "!bedtools intersect -u -a {CH_CpG} -b {intergenicList} | wc -l\n",
    "!echo \"methylated CpG for CH overlaps with intergenic regions\"\n",
    "\n",
    "!bedtools intersect -u -a {HC_CpG} -b {intergenicList} | wc -l\n",
    "!echo \"methylated CpG for HC overlaps with intergenic regions\"\n",
    "\n",
    "!bedtools intersect -u -a {HH_CpG} -b {intergenicList} | wc -l\n",
    "!echo \"methylated CpG for HH overlaps with intergenic regions\""
   ]
  },
  {
   "cell_type": "markdown",
   "id": "e3235f7d-0dd6-474f-87ac-99982345fc75",
   "metadata": {},
   "source": [
    "## no overlaps with genomic features\n",
    "\n",
    "CpGs that do not overlap any feature (aka unannotated intergenic regions)"
   ]
  },
  {
   "cell_type": "code",
   "execution_count": 31,
   "id": "54199b0e-2c21-4c3c-9976-8ad7b4e40e34",
   "metadata": {},
   "outputs": [
    {
     "name": "stdout",
     "output_type": "stream",
     "text": [
      "4576705\n",
      "CpG motifs do not overlap with exons, introns, transposable elements (all), or putative promoters\n"
     ]
    }
   ],
   "source": [
    "# CpG motif\n",
    "!bedtools intersect -v -a {cpgList} -b {exonList} {intronList} {teList} {promoterList} | wc -l\n",
    "!echo \"CpG motifs do not overlap with exons, introns, transposable elements (all), or putative promoters\""
   ]
  },
  {
   "cell_type": "code",
   "execution_count": 30,
   "id": "f2206a3a-0ea8-486a-824d-9004f743101b",
   "metadata": {},
   "outputs": [
    {
     "name": "stdout",
     "output_type": "stream",
     "text": [
      "0\n",
      "methylated CpG for cont cont do not overlap with exons, introns, transposable elements (all), intergenic regions or putative promoters\n",
      "71727\n",
      "methylated CpG for cont hyp do not overlap with exons, introns, transposable elements (all), intergenic regions or putative promoters\n",
      "100952\n",
      "methylated CpG for hyp cont do not overlap with exons, introns, transposable elements (all), intergenic regions or putative promoters\n",
      "86848\n",
      "methylated CpG for hyp hyp do not overlap with exons, introns, transposable elements (all), intergenic regions or putative promoters\n"
     ]
    }
   ],
   "source": [
    "!bedtools intersect -v -a {CC_CpG} -b {exonList} {intronList} {teList} {promoterList} {intergenicList} | wc -l\n",
    "!echo \"methylated CpG for cont cont do not overlap with exons, introns, transposable elements (all), intergenic regions or putative promoters\"\n",
    "\n",
    "!bedtools intersect -u -a {CH_CpG} -b {exonList} {intronList} {teList} {promoterList} {intergenicList} | wc -l\n",
    "!echo \"methylated CpG for cont hyp do not overlap with exons, introns, transposable elements (all), intergenic regions or putative promoters\"\n",
    "\n",
    "!bedtools intersect -u -a {HC_CpG} -b {exonList} {intronList} {teList} {promoterList} {intergenicList} | wc -l\n",
    "!echo \"methylated CpG for hyp cont do not overlap with exons, introns, transposable elements (all), intergenic regions or putative promoters\"\n",
    "\n",
    "!bedtools intersect -u -a {HH_CpG} -b {exonList} {intronList} {teList} {promoterList} {intergenicList} | wc -l\n",
    "!echo \"methylated CpG for hyp hyp do not overlap with exons, introns, transposable elements (all), intergenic regions or putative promoters\""
   ]
  },
  {
   "cell_type": "markdown",
   "id": "7421c342-8d91-4aeb-a2ef-6c1aefdd8c0e",
   "metadata": {},
   "source": [
    "## Proportion overlap"
   ]
  },
  {
   "cell_type": "code",
   "execution_count": 21,
   "id": "c1651645-fa57-4f87-bea2-0180f76f2559",
   "metadata": {},
   "outputs": [],
   "source": [
    "CC_CpG = \"/project/pi_sarah_gignouxwolfsohn_uml_edu/julia/CE_methyl_assembly/assembly_pipeline_files/genomic_bed_files/CpG_multicov/10CC_cpgMethyl.bed\"\n",
    "CH_CpG = \"/project/pi_sarah_gignouxwolfsohn_uml_edu/julia/CE_methyl_assembly/assembly_pipeline_files/genomic_bed_files/CpG_multicov/10CH_cpgMethyl.bed\"\n",
    "HC_CpG = \"/project/pi_sarah_gignouxwolfsohn_uml_edu/julia/CE_methyl_assembly/assembly_pipeline_files/genomic_bed_files/CpG_multicov/10HC_cpgMethyl.bed\"\n",
    "HH_CpG = \"/project/pi_sarah_gignouxwolfsohn_uml_edu/julia/CE_methyl_assembly/assembly_pipeline_files/genomic_bed_files/CpG_multicov/10HH_cpgMethyl.bed\""
   ]
  },
  {
   "cell_type": "code",
   "execution_count": 22,
   "id": "94614c31-7c81-4835-b76c-5e0930dd850d",
   "metadata": {},
   "outputs": [
    {
     "name": "stdout",
     "output_type": "stream",
     "text": [
      "      genomicFeature treatment propOverlap\n",
      "0                 TE        CC      [9212]\n",
      "1              exons        CC     [40687]\n",
      "2            introns        CC     [16813]\n",
      "3   putativePromoter        CC      [1750]\n",
      "4               UTRs        CC      [2788]\n",
      "5         intergenic        CC      [9969]\n",
      "6                 TE        CH     [10603]\n",
      "7              exons        CH     [41891]\n",
      "8            introns        CH     [18275]\n",
      "9   putativePromoter        CH      [2090]\n",
      "10              UTRs        CH      [2909]\n",
      "11        intergenic        CH     [11583]\n",
      "12                TE        HC     [15655]\n",
      "13             exons        HC     [53489]\n",
      "14           introns        HC     [28412]\n",
      "15  putativePromoter        HC      [3556]\n",
      "16              UTRs        HC      [3799]\n",
      "17        intergenic        HC     [19079]\n",
      "18                TE        HH     [13383]\n",
      "19             exons        HH     [49065]\n",
      "20           introns        HH     [23204]\n",
      "21  putativePromoter        HH      [2617]\n",
      "22              UTRs        HH      [3421]\n",
      "23        intergenic        HH     [14604]\n",
      "24                TE    allCpG   [2828372]\n",
      "25             exons    allCpG   [2323389]\n",
      "26           introns    allCpG   [5497874]\n",
      "27  putativePromoter    allCpG    [926518]\n",
      "28              UTRs    allCpG    [600840]\n",
      "29        intergenic    allCpG   [6644297]\n"
     ]
    }
   ],
   "source": [
    "import pandas as pd\n",
    "\n",
    "# Define the treatments and feature variables\n",
    "treatments = {\n",
    "    'CC': CC_CpG,\n",
    "    'CH': CH_CpG,\n",
    "    'HC': HC_CpG, \n",
    "    'HH': HH_CpG,\n",
    "    'allCpG': cpgList\n",
    "}\n",
    "\n",
    "features = {\n",
    "    'TE': teList,\n",
    "    'exons': exonList,\n",
    "    'introns': intronList,\n",
    "    'putativePromoter': promoterList,\n",
    "    'UTRs': exonUTR,\n",
    "    'intergenic': intergenicList,\n",
    "}\n",
    "\n",
    "# Initialize an empty list to store the results\n",
    "results = []\n",
    "\n",
    "# Loop over the treatments\n",
    "for treatment_name, treatment_file in treatments.items():\n",
    "    # Loop over the features\n",
    "    for feature_name, feature_list in features.items():\n",
    "        # Use bedtools intersect to count the overlaps\n",
    "        overlap_count = !bedtools intersect -u -a {treatment_file} -b {feature_list} | wc -l\n",
    "        \n",
    "        # Append the result to the list\n",
    "        results.append({'genomicFeature': feature_name, 'treatment': treatment_name, 'propOverlap': overlap_count})\n",
    "\n",
    "\n",
    "# Convert the list to a pandas DataFrame\n",
    "df = pd.DataFrame(results)\n",
    "\n",
    "# Print the DataFrame\n",
    "print(df)"
   ]
  },
  {
   "cell_type": "code",
   "execution_count": 23,
   "id": "606f7d0b-7a48-4fa6-917f-1b3300b33abf",
   "metadata": {},
   "outputs": [],
   "source": [
    "#df['propOverlap'] = df['propOverlap'].str.extract('(\\d+)')\n",
    "\n",
    "df.to_csv('/project/pi_sarah_gignouxwolfsohn_uml_edu/julia/CE_MethylRAD_analysis_2018/analysis/genomic_feature_tracks/10propOverlap.csv', index=False)"
   ]
  },
  {
   "cell_type": "markdown",
   "id": "2a9b95aa-28b0-4da3-8165-5d376fca5cc1",
   "metadata": {},
   "source": [
    "can't seem to get the propOverlap column formatted correctly, so manipulated locally and then re-uploaded"
   ]
  },
  {
   "cell_type": "code",
   "execution_count": 28,
   "id": "7dc397ee-2439-4eea-a8c0-79ddbc7a603c",
   "metadata": {},
   "outputs": [
    {
     "name": "stdout",
     "output_type": "stream",
     "text": [
      "      genomicFeature treatment  propOverlap  propOverlap_sum  \\\n",
      "0                 TE        CC         9212            81219   \n",
      "1              exons        CC        40687            81219   \n",
      "2            introns        CC        16813            81219   \n",
      "3   putativePromoter        CC         1750            81219   \n",
      "4               UTRs        CC         2788            81219   \n",
      "5         intergenic        CC         9969            81219   \n",
      "6                 TE        CH        10603            87351   \n",
      "7              exons        CH        41891            87351   \n",
      "8            introns        CH        18275            87351   \n",
      "9   putativePromoter        CH         2090            87351   \n",
      "10              UTRs        CH         2909            87351   \n",
      "11        intergenic        CH        11583            87351   \n",
      "12                TE        HC        15655           123990   \n",
      "13             exons        HC        53489           123990   \n",
      "14           introns        HC        28412           123990   \n",
      "15  putativePromoter        HC         3556           123990   \n",
      "16              UTRs        HC         3799           123990   \n",
      "17        intergenic        HC        19079           123990   \n",
      "18                TE        HH        13383           106294   \n",
      "19             exons        HH        49065           106294   \n",
      "20           introns        HH        23204           106294   \n",
      "21  putativePromoter        HH         2617           106294   \n",
      "22              UTRs        HH         3421           106294   \n",
      "23        intergenic        HH        14604           106294   \n",
      "24                TE    allCpG      2828372         18821290   \n",
      "25             exons    allCpG      2323389         18821290   \n",
      "26           introns    allCpG      5497874         18821290   \n",
      "27  putativePromoter    allCpG       926518         18821290   \n",
      "28              UTRs    allCpG       600840         18821290   \n",
      "29        intergenic    allCpG      6644297         18821290   \n",
      "\n",
      "    proportion_overlap  \n",
      "0             0.113422  \n",
      "1             0.500954  \n",
      "2             0.207008  \n",
      "3             0.021547  \n",
      "4             0.034327  \n",
      "5             0.122742  \n",
      "6             0.121384  \n",
      "7             0.479571  \n",
      "8             0.209213  \n",
      "9             0.023926  \n",
      "10            0.033302  \n",
      "11            0.132603  \n",
      "12            0.126260  \n",
      "13            0.431398  \n",
      "14            0.229148  \n",
      "15            0.028680  \n",
      "16            0.030640  \n",
      "17            0.153875  \n",
      "18            0.125906  \n",
      "19            0.461597  \n",
      "20            0.218300  \n",
      "21            0.024620  \n",
      "22            0.032184  \n",
      "23            0.137393  \n",
      "24            0.150275  \n",
      "25            0.123445  \n",
      "26            0.292109  \n",
      "27            0.049227  \n",
      "28            0.031923  \n",
      "29            0.353020  \n"
     ]
    }
   ],
   "source": [
    "import pandas as pd\n",
    "\n",
    "# Load your data into a Pandas DataFrame\n",
    "df = pd.read_csv('/project/pi_sarah_gignouxwolfsohn_uml_edu/julia/CE_MethylRAD_analysis_2018/analysis/genomic_feature_tracks/10propOverlap.csv')\n",
    "\n",
    "# Remove extra characters and convert to numeric\n",
    "df['propOverlap'] = df['propOverlap'].apply(lambda x: x.strip(\"[]\").replace(\"'\", \"\")).astype(int)\n",
    "\n",
    "# Group the data by treatment and calculate the sum of propOverlap\n",
    "treatment_sums = df.groupby('treatment')['propOverlap'].sum().reset_index()\n",
    "\n",
    "# Merge the original DataFrame with the treatment sums\n",
    "df_merged = pd.merge(df, treatment_sums, on='treatment', suffixes=('', '_sum'))\n",
    "\n",
    "# Calculate the proportion of overlap\n",
    "df_merged['proportion_overlap'] = df_merged['propOverlap'] / df_merged['propOverlap_sum']\n",
    "\n",
    "# Print the result\n",
    "print(df_merged)\n",
    "\n",
    "df_merged.to_csv('/project/pi_sarah_gignouxwolfsohn_uml_edu/julia/CE_MethylRAD_analysis_2018/analysis/genomic_feature_tracks/10propOverlap_decimal.csv', index=False)"
   ]
  },
  {
   "cell_type": "markdown",
   "id": "84efdb47-9207-4eb4-a456-f84f68af4022",
   "metadata": {},
   "source": [
    "bar plot is created using R in different notebook: [create_proportionPlot.ipynb](https://github.com/jgmcdonough/CE18_methylRAD_analysis/blob/master/analysis/genomic_feature_tracks/create_proportionPlot.ipynb)"
   ]
  }
 ],
 "metadata": {
  "kernelspec": {
   "display_name": "Python [conda env:.conda-bedtools]",
   "language": "python",
   "name": "conda-env-.conda-bedtools-py"
  },
  "language_info": {
   "codemirror_mode": {
    "name": "ipython",
    "version": 3
   },
   "file_extension": ".py",
   "mimetype": "text/x-python",
   "name": "python",
   "nbconvert_exporter": "python",
   "pygments_lexer": "ipython3",
   "version": "3.8.20"
  }
 },
 "nbformat": 4,
 "nbformat_minor": 5
}
