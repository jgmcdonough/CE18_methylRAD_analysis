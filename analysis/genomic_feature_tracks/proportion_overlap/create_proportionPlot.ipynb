{
 "cells": [
  {
   "cell_type": "markdown",
   "id": "cf9b1f41-2b17-4f32-901d-ce0e69a12910",
   "metadata": {},
   "source": [
    "# Proportion Overlap \n",
    "\n",
    "First, looking at all CpGs and what genomic feature they overlap. Then, looking at the methylated CpGs for each treatment combination and seeing what genomic features they overlap.\n",
    "\n",
    "Then want to know if there is a difference in the proportion of methylated CpGs that overlap with genomic features. I'll do a chi-squared test of homogeneity to calculate stats on this. \n",
    "\n",
    "The null hypothesis that the methylated CpGs are independent of genomic location"
   ]
  },
  {
   "cell_type": "code",
   "execution_count": 3,
   "id": "a1a9cfdc-818d-4da0-8e47-58a865dc1014",
   "metadata": {},
   "outputs": [
    {
     "name": "stderr",
     "output_type": "stream",
     "text": [
      "── \u001b[1mAttaching core tidyverse packages\u001b[22m ──────────────────────── tidyverse 2.0.0 ──\n",
      "\u001b[32m✔\u001b[39m \u001b[34mdplyr    \u001b[39m 1.1.4     \u001b[32m✔\u001b[39m \u001b[34mreadr    \u001b[39m 2.1.4\n",
      "\u001b[32m✔\u001b[39m \u001b[34mforcats  \u001b[39m 1.0.0     \u001b[32m✔\u001b[39m \u001b[34mstringr  \u001b[39m 1.5.1\n",
      "\u001b[32m✔\u001b[39m \u001b[34mggplot2  \u001b[39m 3.5.1     \u001b[32m✔\u001b[39m \u001b[34mtibble   \u001b[39m 3.2.1\n",
      "\u001b[32m✔\u001b[39m \u001b[34mlubridate\u001b[39m 1.9.3     \u001b[32m✔\u001b[39m \u001b[34mtidyr    \u001b[39m 1.3.0\n",
      "\u001b[32m✔\u001b[39m \u001b[34mpurrr    \u001b[39m 1.0.2     \n",
      "── \u001b[1mConflicts\u001b[22m ────────────────────────────────────────── tidyverse_conflicts() ──\n",
      "\u001b[31m✖\u001b[39m \u001b[34mdplyr\u001b[39m::\u001b[32mfilter()\u001b[39m masks \u001b[34mstats\u001b[39m::filter()\n",
      "\u001b[31m✖\u001b[39m \u001b[34mdplyr\u001b[39m::\u001b[32mlag()\u001b[39m    masks \u001b[34mstats\u001b[39m::lag()\n",
      "\u001b[36mℹ\u001b[39m Use the conflicted package (\u001b[3m\u001b[34m<http://conflicted.r-lib.org/>\u001b[39m\u001b[23m) to force all conflicts to become errors\n"
     ]
    }
   ],
   "source": [
    "library(tidyverse)\n",
    "library(RColorBrewer)"
   ]
  },
  {
   "cell_type": "code",
   "execution_count": 2,
   "id": "042b981e-1329-4a71-9796-98827a81a175",
   "metadata": {},
   "outputs": [
    {
     "data": {
      "text/html": [
       "<table class=\"dataframe\">\n",
       "<caption>A data.frame: 30 × 5</caption>\n",
       "<thead>\n",
       "\t<tr><th scope=col>genomicFeature</th><th scope=col>treatment</th><th scope=col>propOverlap</th><th scope=col>propOverlap_sum</th><th scope=col>proportion_overlap</th></tr>\n",
       "\t<tr><th scope=col>&lt;chr&gt;</th><th scope=col>&lt;chr&gt;</th><th scope=col>&lt;int&gt;</th><th scope=col>&lt;int&gt;</th><th scope=col>&lt;dbl&gt;</th></tr>\n",
       "</thead>\n",
       "<tbody>\n",
       "\t<tr><td>TE              </td><td>CC    </td><td>  16875</td><td>  132243</td><td>0.12760600</td></tr>\n",
       "\t<tr><td>exons           </td><td>CC    </td><td>  57957</td><td>  132243</td><td>0.43826138</td></tr>\n",
       "\t<tr><td>introns         </td><td>CC    </td><td>  29638</td><td>  132243</td><td>0.22411772</td></tr>\n",
       "\t<tr><td>putativePromoter</td><td>CC    </td><td>   3529</td><td>  132243</td><td>0.02668572</td></tr>\n",
       "\t<tr><td>UTRs            </td><td>CC    </td><td>   4165</td><td>  132243</td><td>0.03149505</td></tr>\n",
       "\t<tr><td>intergenic      </td><td>CC    </td><td>  20079</td><td>  132243</td><td>0.15183412</td></tr>\n",
       "\t<tr><td>TE              </td><td>CH    </td><td>   6346</td><td>   54342</td><td>0.11677892</td></tr>\n",
       "\t<tr><td>exons           </td><td>CH    </td><td>  26233</td><td>   54342</td><td>0.48273895</td></tr>\n",
       "\t<tr><td>introns         </td><td>CH    </td><td>  12045</td><td>   54342</td><td>0.22165176</td></tr>\n",
       "\t<tr><td>putativePromoter</td><td>CH    </td><td>   1606</td><td>   54342</td><td>0.02955357</td></tr>\n",
       "\t<tr><td>UTRs            </td><td>CH    </td><td>   1545</td><td>   54342</td><td>0.02843105</td></tr>\n",
       "\t<tr><td>intergenic      </td><td>CH    </td><td>   6567</td><td>   54342</td><td>0.12084575</td></tr>\n",
       "\t<tr><td>TE              </td><td>HC    </td><td>  24506</td><td>  179839</td><td>0.13626633</td></tr>\n",
       "\t<tr><td>exons           </td><td>HC    </td><td>  68256</td><td>  179839</td><td>0.37953948</td></tr>\n",
       "\t<tr><td>introns         </td><td>HC    </td><td>  43310</td><td>  179839</td><td>0.24082652</td></tr>\n",
       "\t<tr><td>putativePromoter</td><td>HC    </td><td>   5650</td><td>  179839</td><td>0.03141699</td></tr>\n",
       "\t<tr><td>UTRs            </td><td>HC    </td><td>   5164</td><td>  179839</td><td>0.02871457</td></tr>\n",
       "\t<tr><td>intergenic      </td><td>HC    </td><td>  32953</td><td>  179839</td><td>0.18323612</td></tr>\n",
       "\t<tr><td>TE              </td><td>HH    </td><td>  22736</td><td>  163205</td><td>0.13930946</td></tr>\n",
       "\t<tr><td>exons           </td><td>HH    </td><td>  64813</td><td>  163205</td><td>0.39712631</td></tr>\n",
       "\t<tr><td>introns         </td><td>HH    </td><td>  37891</td><td>  163205</td><td>0.23216813</td></tr>\n",
       "\t<tr><td>putativePromoter</td><td>HH    </td><td>   4889</td><td>  163205</td><td>0.02995619</td></tr>\n",
       "\t<tr><td>UTRs            </td><td>HH    </td><td>   4843</td><td>  163205</td><td>0.02967434</td></tr>\n",
       "\t<tr><td>intergenic      </td><td>HH    </td><td>  28033</td><td>  163205</td><td>0.17176557</td></tr>\n",
       "\t<tr><td>TE              </td><td>allCpG</td><td>2828372</td><td>18821290</td><td>0.15027514</td></tr>\n",
       "\t<tr><td>exons           </td><td>allCpG</td><td>2323389</td><td>18821290</td><td>0.12344473</td></tr>\n",
       "\t<tr><td>introns         </td><td>allCpG</td><td>5497874</td><td>18821290</td><td>0.29210931</td></tr>\n",
       "\t<tr><td>putativePromoter</td><td>allCpG</td><td> 926518</td><td>18821290</td><td>0.04922713</td></tr>\n",
       "\t<tr><td>UTRs            </td><td>allCpG</td><td> 600840</td><td>18821290</td><td>0.03192342</td></tr>\n",
       "\t<tr><td>intergenic      </td><td>allCpG</td><td>6644297</td><td>18821290</td><td>0.35302028</td></tr>\n",
       "</tbody>\n",
       "</table>\n"
      ],
      "text/latex": [
       "A data.frame: 30 × 5\n",
       "\\begin{tabular}{lllll}\n",
       " genomicFeature & treatment & propOverlap & propOverlap\\_sum & proportion\\_overlap\\\\\n",
       " <chr> & <chr> & <int> & <int> & <dbl>\\\\\n",
       "\\hline\n",
       "\t TE               & CC     &   16875 &   132243 & 0.12760600\\\\\n",
       "\t exons            & CC     &   57957 &   132243 & 0.43826138\\\\\n",
       "\t introns          & CC     &   29638 &   132243 & 0.22411772\\\\\n",
       "\t putativePromoter & CC     &    3529 &   132243 & 0.02668572\\\\\n",
       "\t UTRs             & CC     &    4165 &   132243 & 0.03149505\\\\\n",
       "\t intergenic       & CC     &   20079 &   132243 & 0.15183412\\\\\n",
       "\t TE               & CH     &    6346 &    54342 & 0.11677892\\\\\n",
       "\t exons            & CH     &   26233 &    54342 & 0.48273895\\\\\n",
       "\t introns          & CH     &   12045 &    54342 & 0.22165176\\\\\n",
       "\t putativePromoter & CH     &    1606 &    54342 & 0.02955357\\\\\n",
       "\t UTRs             & CH     &    1545 &    54342 & 0.02843105\\\\\n",
       "\t intergenic       & CH     &    6567 &    54342 & 0.12084575\\\\\n",
       "\t TE               & HC     &   24506 &   179839 & 0.13626633\\\\\n",
       "\t exons            & HC     &   68256 &   179839 & 0.37953948\\\\\n",
       "\t introns          & HC     &   43310 &   179839 & 0.24082652\\\\\n",
       "\t putativePromoter & HC     &    5650 &   179839 & 0.03141699\\\\\n",
       "\t UTRs             & HC     &    5164 &   179839 & 0.02871457\\\\\n",
       "\t intergenic       & HC     &   32953 &   179839 & 0.18323612\\\\\n",
       "\t TE               & HH     &   22736 &   163205 & 0.13930946\\\\\n",
       "\t exons            & HH     &   64813 &   163205 & 0.39712631\\\\\n",
       "\t introns          & HH     &   37891 &   163205 & 0.23216813\\\\\n",
       "\t putativePromoter & HH     &    4889 &   163205 & 0.02995619\\\\\n",
       "\t UTRs             & HH     &    4843 &   163205 & 0.02967434\\\\\n",
       "\t intergenic       & HH     &   28033 &   163205 & 0.17176557\\\\\n",
       "\t TE               & allCpG & 2828372 & 18821290 & 0.15027514\\\\\n",
       "\t exons            & allCpG & 2323389 & 18821290 & 0.12344473\\\\\n",
       "\t introns          & allCpG & 5497874 & 18821290 & 0.29210931\\\\\n",
       "\t putativePromoter & allCpG &  926518 & 18821290 & 0.04922713\\\\\n",
       "\t UTRs             & allCpG &  600840 & 18821290 & 0.03192342\\\\\n",
       "\t intergenic       & allCpG & 6644297 & 18821290 & 0.35302028\\\\\n",
       "\\end{tabular}\n"
      ],
      "text/markdown": [
       "\n",
       "A data.frame: 30 × 5\n",
       "\n",
       "| genomicFeature &lt;chr&gt; | treatment &lt;chr&gt; | propOverlap &lt;int&gt; | propOverlap_sum &lt;int&gt; | proportion_overlap &lt;dbl&gt; |\n",
       "|---|---|---|---|---|\n",
       "| TE               | CC     |   16875 |   132243 | 0.12760600 |\n",
       "| exons            | CC     |   57957 |   132243 | 0.43826138 |\n",
       "| introns          | CC     |   29638 |   132243 | 0.22411772 |\n",
       "| putativePromoter | CC     |    3529 |   132243 | 0.02668572 |\n",
       "| UTRs             | CC     |    4165 |   132243 | 0.03149505 |\n",
       "| intergenic       | CC     |   20079 |   132243 | 0.15183412 |\n",
       "| TE               | CH     |    6346 |    54342 | 0.11677892 |\n",
       "| exons            | CH     |   26233 |    54342 | 0.48273895 |\n",
       "| introns          | CH     |   12045 |    54342 | 0.22165176 |\n",
       "| putativePromoter | CH     |    1606 |    54342 | 0.02955357 |\n",
       "| UTRs             | CH     |    1545 |    54342 | 0.02843105 |\n",
       "| intergenic       | CH     |    6567 |    54342 | 0.12084575 |\n",
       "| TE               | HC     |   24506 |   179839 | 0.13626633 |\n",
       "| exons            | HC     |   68256 |   179839 | 0.37953948 |\n",
       "| introns          | HC     |   43310 |   179839 | 0.24082652 |\n",
       "| putativePromoter | HC     |    5650 |   179839 | 0.03141699 |\n",
       "| UTRs             | HC     |    5164 |   179839 | 0.02871457 |\n",
       "| intergenic       | HC     |   32953 |   179839 | 0.18323612 |\n",
       "| TE               | HH     |   22736 |   163205 | 0.13930946 |\n",
       "| exons            | HH     |   64813 |   163205 | 0.39712631 |\n",
       "| introns          | HH     |   37891 |   163205 | 0.23216813 |\n",
       "| putativePromoter | HH     |    4889 |   163205 | 0.02995619 |\n",
       "| UTRs             | HH     |    4843 |   163205 | 0.02967434 |\n",
       "| intergenic       | HH     |   28033 |   163205 | 0.17176557 |\n",
       "| TE               | allCpG | 2828372 | 18821290 | 0.15027514 |\n",
       "| exons            | allCpG | 2323389 | 18821290 | 0.12344473 |\n",
       "| introns          | allCpG | 5497874 | 18821290 | 0.29210931 |\n",
       "| putativePromoter | allCpG |  926518 | 18821290 | 0.04922713 |\n",
       "| UTRs             | allCpG |  600840 | 18821290 | 0.03192342 |\n",
       "| intergenic       | allCpG | 6644297 | 18821290 | 0.35302028 |\n",
       "\n"
      ],
      "text/plain": [
       "   genomicFeature   treatment propOverlap propOverlap_sum proportion_overlap\n",
       "1  TE               CC          16875       132243        0.12760600        \n",
       "2  exons            CC          57957       132243        0.43826138        \n",
       "3  introns          CC          29638       132243        0.22411772        \n",
       "4  putativePromoter CC           3529       132243        0.02668572        \n",
       "5  UTRs             CC           4165       132243        0.03149505        \n",
       "6  intergenic       CC          20079       132243        0.15183412        \n",
       "7  TE               CH           6346        54342        0.11677892        \n",
       "8  exons            CH          26233        54342        0.48273895        \n",
       "9  introns          CH          12045        54342        0.22165176        \n",
       "10 putativePromoter CH           1606        54342        0.02955357        \n",
       "11 UTRs             CH           1545        54342        0.02843105        \n",
       "12 intergenic       CH           6567        54342        0.12084575        \n",
       "13 TE               HC          24506       179839        0.13626633        \n",
       "14 exons            HC          68256       179839        0.37953948        \n",
       "15 introns          HC          43310       179839        0.24082652        \n",
       "16 putativePromoter HC           5650       179839        0.03141699        \n",
       "17 UTRs             HC           5164       179839        0.02871457        \n",
       "18 intergenic       HC          32953       179839        0.18323612        \n",
       "19 TE               HH          22736       163205        0.13930946        \n",
       "20 exons            HH          64813       163205        0.39712631        \n",
       "21 introns          HH          37891       163205        0.23216813        \n",
       "22 putativePromoter HH           4889       163205        0.02995619        \n",
       "23 UTRs             HH           4843       163205        0.02967434        \n",
       "24 intergenic       HH          28033       163205        0.17176557        \n",
       "25 TE               allCpG    2828372     18821290        0.15027514        \n",
       "26 exons            allCpG    2323389     18821290        0.12344473        \n",
       "27 introns          allCpG    5497874     18821290        0.29210931        \n",
       "28 putativePromoter allCpG     926518     18821290        0.04922713        \n",
       "29 UTRs             allCpG     600840     18821290        0.03192342        \n",
       "30 intergenic       allCpG    6644297     18821290        0.35302028        "
      ]
     },
     "metadata": {},
     "output_type": "display_data"
    }
   ],
   "source": [
    "df <- read.csv('/project/pi_sarah_gignouxwolfsohn_uml_edu/julia/CE_MethylRAD_analysis_2018/analysis/genomic_feature_tracks/proportion_overlap/propOverlap_decimal.csv')\n",
    "df"
   ]
  },
  {
   "cell_type": "code",
   "execution_count": 4,
   "id": "6dbeeb14-8093-448c-a55a-0792c4204277",
   "metadata": {},
   "outputs": [
    {
     "data": {
      "image/png": "[encoded data removed]",
      "text/plain": [
       "plot without title"
      ]
     },
     "metadata": {
      "image/png": {
       "height": 600,
       "width": 900
      }
     },
     "output_type": "display_data"
    }
   ],
   "source": [
    "options(repr.plot.width=15, repr.plot.height=10)\n",
    "\n",
    "propOv <- ggplot(df) +\n",
    " aes(x = treatment, y = proportion_overlap, fill = genomicFeature) +\n",
    " geom_col() +\n",
    " scale_fill_brewer(palette = \"GnBu\", \n",
    " direction = 1) +\n",
    "  geom_col(color = \"black\", linewidth = 0.25) +\n",
    " labs(x = \"All CpGs and Methylated CpGs per Treatment\", y = \"Proportion Overlap\", \n",
    " fill = \"Genomic Feature\") +\n",
    " theme_classic()\n",
    "\n",
    "propOv"
   ]
  },
  {
   "cell_type": "code",
   "execution_count": 13,
   "id": "9714156b-5d5f-42de-8293-550bd86841f1",
   "metadata": {},
   "outputs": [],
   "source": [
    "ggsave('/project/pi_sarah_gignouxwolfsohn_uml_edu/julia/CE_MethylRAD_analysis_2018/analysis/figures/propOverlap.pdf', propOv, width=15, height=10)"
   ]
  },
  {
   "cell_type": "markdown",
   "id": "8ceeae12-b32d-48df-a321-40706bcad9be",
   "metadata": {},
   "source": [
    "So the allCpG column shows us the proportion of CpG dinucleotides that overlap with genomic features in the CV genome\n",
    "\n",
    "CC, CH, HC, and HH show the proportion of *methylated* CpG dinucleotides. We might expect that the distribution of methylated CpGs would be even across genomic features, and therefore reflect the allCpGs column. However, that is not what is being observed - meaning, some genomic features (exons, intergenic regions, promoters) are being disproportionately methylated from what is expected. \n",
    "\n",
    "We can then compare CH, HC, and HH to CC to observe differences of methylation distibution in response to varying hypoxic stress.\n",
    "\n",
    "\n",
    "Even though a first exposure to hypoxia results in more methylation of exons compared to first exposure of control (see [figure](https://github.com/jgmcdonough/CE18_methylRAD_analysis/blob/master/analysis/figures/exonMe_barplot.pdf)), the proportiong of methylation in exons are less in HC and HH compared to CC and CH."
   ]
  },
  {
   "cell_type": "markdown",
   "id": "581d4fb2-0964-4077-8912-6a434df7a997",
   "metadata": {},
   "source": [
    "### Conduct chi-squared tests of homogeneity\n",
    "\n",
    "total vs. CC"
   ]
  },
  {
   "cell_type": "code",
   "execution_count": 28,
   "id": "01144c34-58a4-449c-aca1-0d97f2945fb9",
   "metadata": {},
   "outputs": [
    {
     "name": "stderr",
     "output_type": "stream",
     "text": [
      "Warning message in chisq.test(allCpG, cc):\n",
      "“Chi-squared approximation may be incorrect”\n"
     ]
    },
    {
     "data": {
      "text/plain": [
       "\n",
       "\tPearson's Chi-squared test\n",
       "\n",
       "data:  allCpG and cc\n",
       "X-squared = 30, df = 25, p-value = 0.2243\n"
      ]
     },
     "metadata": {},
     "output_type": "display_data"
    }
   ],
   "source": [
    "# selecting only data for all CpGs and CC\n",
    "cc <- filter(df, df$treatment == 'CC')$proportion_overlap\n",
    "allCpG <- filter(df, df$treatment == 'allCpG')$proportion_overlap\n",
    "\n",
    "# chi-square test\n",
    "total_CC.test <- chisq.test(allCpG, cc)\n",
    "total_CC.test"
   ]
  },
  {
   "cell_type": "code",
   "execution_count": 30,
   "id": "0156c657-6e88-4e46-a3c7-5400fcfab09e",
   "metadata": {},
   "outputs": [
    {
     "name": "stderr",
     "output_type": "stream",
     "text": [
      "Warning message in chisq.test(allCpG, ch):\n",
      "“Chi-squared approximation may be incorrect”\n"
     ]
    },
    {
     "data": {
      "text/plain": [
       "\n",
       "\tPearson's Chi-squared test\n",
       "\n",
       "data:  allCpG and ch\n",
       "X-squared = 30, df = 25, p-value = 0.2243\n"
      ]
     },
     "metadata": {},
     "output_type": "display_data"
    }
   ],
   "source": [
    "# selecting only data for all CpGs and CC\n",
    "ch <- filter(df, df$treatment == 'CH')$proportion_overlap\n",
    "\n",
    "# chi-square test\n",
    "total_CC.test <- chisq.test(allCpG, ch)\n",
    "total_CC.test"
   ]
  },
  {
   "cell_type": "code",
   "execution_count": 31,
   "id": "0e204cf2-c769-4529-afaf-eadb072bb54a",
   "metadata": {},
   "outputs": [
    {
     "name": "stderr",
     "output_type": "stream",
     "text": [
      "Warning message in chisq.test(allCpG, hc):\n",
      "“Chi-squared approximation may be incorrect”\n"
     ]
    },
    {
     "data": {
      "text/plain": [
       "\n",
       "\tPearson's Chi-squared test\n",
       "\n",
       "data:  allCpG and hc\n",
       "X-squared = 30, df = 25, p-value = 0.2243\n"
      ]
     },
     "metadata": {},
     "output_type": "display_data"
    }
   ],
   "source": [
    "# selecting only data for all CpGs and CC\n",
    "hc <- filter(df, df$treatment == 'HC')$proportion_overlap\n",
    "\n",
    "# chi-square test\n",
    "total_CC.test <- chisq.test(allCpG, hc)\n",
    "total_CC.test"
   ]
  },
  {
   "cell_type": "code",
   "execution_count": 32,
   "id": "996f93f7-0586-46b1-8ee0-5178d21072b3",
   "metadata": {},
   "outputs": [
    {
     "name": "stderr",
     "output_type": "stream",
     "text": [
      "Warning message in chisq.test(allCpG, hh):\n",
      "“Chi-squared approximation may be incorrect”\n"
     ]
    },
    {
     "data": {
      "text/plain": [
       "\n",
       "\tPearson's Chi-squared test\n",
       "\n",
       "data:  allCpG and hh\n",
       "X-squared = 30, df = 25, p-value = 0.2243\n"
      ]
     },
     "metadata": {},
     "output_type": "display_data"
    }
   ],
   "source": [
    "# selecting only data for all CpGs and CC\n",
    "hh <- filter(df, df$treatment == 'HH')$proportion_overlap\n",
    "\n",
    "# chi-square test\n",
    "total_CC.test <- chisq.test(allCpG, hh)\n",
    "total_CC.test"
   ]
  },
  {
   "cell_type": "markdown",
   "id": "880daa07-ec13-4745-b808-57da30ee69da",
   "metadata": {},
   "source": [
    "I suspect I'm not doing something right here..."
   ]
  },
  {
   "cell_type": "markdown",
   "id": "610b3b5c-011b-491d-a5c0-9141c75d619f",
   "metadata": {
    "tags": []
   },
   "source": [
    "# 3/5 replicates for CpG methylation\n",
    "\n",
    "A CpG dinucleotide is methylated if the majority of the replicates in a treatment (3/5) have at least 5 sequences\n",
    "\n",
    "repeating code above with new methylation calling\n",
    "\n",
    "(also, proportion overlap is out of 100%)"
   ]
  },
  {
   "cell_type": "code",
   "execution_count": 1,
   "id": "e8a26483-c577-4e74-a6cf-a408e02fa326",
   "metadata": {},
   "outputs": [
    {
     "data": {
      "text/html": [
       "<table class=\"dataframe\">\n",
       "<caption>A data.frame: 35 × 5</caption>\n",
       "<thead>\n",
       "\t<tr><th scope=col>genomicFeature</th><th scope=col>treatment</th><th scope=col>propOverlap</th><th scope=col>propOverlap_sum</th><th scope=col>proportion_overlap</th></tr>\n",
       "\t<tr><th scope=col>&lt;chr&gt;</th><th scope=col>&lt;chr&gt;</th><th scope=col>&lt;int&gt;</th><th scope=col>&lt;int&gt;</th><th scope=col>&lt;dbl&gt;</th></tr>\n",
       "</thead>\n",
       "<tbody>\n",
       "\t<tr><td>TE              </td><td>CC    </td><td>  11289</td><td>   97527</td><td>11.58</td></tr>\n",
       "\t<tr><td>exons           </td><td>CC    </td><td>  42577</td><td>   97527</td><td>43.66</td></tr>\n",
       "\t<tr><td>introns         </td><td>CC    </td><td>  19342</td><td>   97527</td><td>19.83</td></tr>\n",
       "\t<tr><td>putativePromoter</td><td>CC    </td><td>   2081</td><td>   97527</td><td> 2.13</td></tr>\n",
       "\t<tr><td>UTRs            </td><td>CC    </td><td>   2964</td><td>   97527</td><td> 3.04</td></tr>\n",
       "\t<tr><td>intergenic      </td><td>CC    </td><td>  11929</td><td>   97527</td><td>12.23</td></tr>\n",
       "\t<tr><td>no_overlap      </td><td>CC    </td><td>   7345</td><td>   97527</td><td> 7.53</td></tr>\n",
       "\t<tr><td>TE              </td><td>CH    </td><td>  13304</td><td>  112541</td><td>11.82</td></tr>\n",
       "\t<tr><td>exons           </td><td>CH    </td><td>  46527</td><td>  112541</td><td>41.34</td></tr>\n",
       "\t<tr><td>introns         </td><td>CH    </td><td>  22545</td><td>  112541</td><td>20.03</td></tr>\n",
       "\t<tr><td>putativePromoter</td><td>CH    </td><td>   2712</td><td>  112541</td><td> 2.41</td></tr>\n",
       "\t<tr><td>UTRs            </td><td>CH    </td><td>   3250</td><td>  112541</td><td> 2.89</td></tr>\n",
       "\t<tr><td>intergenic      </td><td>CH    </td><td>  15066</td><td>  112541</td><td>13.39</td></tr>\n",
       "\t<tr><td>no_overlap      </td><td>CH    </td><td>   9137</td><td>  112541</td><td> 8.12</td></tr>\n",
       "\t<tr><td>TE              </td><td>HC    </td><td>  19594</td><td>  159867</td><td>12.26</td></tr>\n",
       "\t<tr><td>exons           </td><td>HC    </td><td>  57498</td><td>  159867</td><td>35.97</td></tr>\n",
       "\t<tr><td>introns         </td><td>HC    </td><td>  34622</td><td>  159867</td><td>21.66</td></tr>\n",
       "\t<tr><td>putativePromoter</td><td>HC    </td><td>   4177</td><td>  159867</td><td> 2.61</td></tr>\n",
       "\t<tr><td>UTRs            </td><td>HC    </td><td>   4207</td><td>  159867</td><td> 2.63</td></tr>\n",
       "\t<tr><td>intergenic      </td><td>HC    </td><td>  24496</td><td>  159867</td><td>15.32</td></tr>\n",
       "\t<tr><td>no_overlap      </td><td>HC    </td><td>  15273</td><td>  159867</td><td> 9.55</td></tr>\n",
       "\t<tr><td>TE              </td><td>HH    </td><td>  18394</td><td>  147496</td><td>12.47</td></tr>\n",
       "\t<tr><td>exons           </td><td>HH    </td><td>  56100</td><td>  147496</td><td>38.03</td></tr>\n",
       "\t<tr><td>introns         </td><td>HH    </td><td>  31070</td><td>  147496</td><td>21.06</td></tr>\n",
       "\t<tr><td>putativePromoter</td><td>HH    </td><td>   3704</td><td>  147496</td><td> 2.51</td></tr>\n",
       "\t<tr><td>UTRs            </td><td>HH    </td><td>   3986</td><td>  147496</td><td> 2.70</td></tr>\n",
       "\t<tr><td>intergenic      </td><td>HH    </td><td>  21279</td><td>  147496</td><td>14.43</td></tr>\n",
       "\t<tr><td>no_overlap      </td><td>HH    </td><td>  12963</td><td>  147496</td><td> 8.79</td></tr>\n",
       "\t<tr><td>TE              </td><td>allCpG</td><td>2828372</td><td>23397995</td><td>12.09</td></tr>\n",
       "\t<tr><td>exons           </td><td>allCpG</td><td>2323389</td><td>23397995</td><td> 9.93</td></tr>\n",
       "\t<tr><td>introns         </td><td>allCpG</td><td>5497874</td><td>23397995</td><td>23.50</td></tr>\n",
       "\t<tr><td>putativePromoter</td><td>allCpG</td><td> 926518</td><td>23397995</td><td> 3.96</td></tr>\n",
       "\t<tr><td>UTRs            </td><td>allCpG</td><td> 600840</td><td>23397995</td><td> 2.57</td></tr>\n",
       "\t<tr><td>intergenic      </td><td>allCpG</td><td>6644297</td><td>23397995</td><td>28.40</td></tr>\n",
       "\t<tr><td>no_overlap      </td><td>allCpG</td><td>4576705</td><td>23397995</td><td>19.56</td></tr>\n",
       "</tbody>\n",
       "</table>\n"
      ],
      "text/latex": [
       "A data.frame: 35 × 5\n",
       "\\begin{tabular}{lllll}\n",
       " genomicFeature & treatment & propOverlap & propOverlap\\_sum & proportion\\_overlap\\\\\n",
       " <chr> & <chr> & <int> & <int> & <dbl>\\\\\n",
       "\\hline\n",
       "\t TE               & CC     &   11289 &    97527 & 11.58\\\\\n",
       "\t exons            & CC     &   42577 &    97527 & 43.66\\\\\n",
       "\t introns          & CC     &   19342 &    97527 & 19.83\\\\\n",
       "\t putativePromoter & CC     &    2081 &    97527 &  2.13\\\\\n",
       "\t UTRs             & CC     &    2964 &    97527 &  3.04\\\\\n",
       "\t intergenic       & CC     &   11929 &    97527 & 12.23\\\\\n",
       "\t no\\_overlap       & CC     &    7345 &    97527 &  7.53\\\\\n",
       "\t TE               & CH     &   13304 &   112541 & 11.82\\\\\n",
       "\t exons            & CH     &   46527 &   112541 & 41.34\\\\\n",
       "\t introns          & CH     &   22545 &   112541 & 20.03\\\\\n",
       "\t putativePromoter & CH     &    2712 &   112541 &  2.41\\\\\n",
       "\t UTRs             & CH     &    3250 &   112541 &  2.89\\\\\n",
       "\t intergenic       & CH     &   15066 &   112541 & 13.39\\\\\n",
       "\t no\\_overlap       & CH     &    9137 &   112541 &  8.12\\\\\n",
       "\t TE               & HC     &   19594 &   159867 & 12.26\\\\\n",
       "\t exons            & HC     &   57498 &   159867 & 35.97\\\\\n",
       "\t introns          & HC     &   34622 &   159867 & 21.66\\\\\n",
       "\t putativePromoter & HC     &    4177 &   159867 &  2.61\\\\\n",
       "\t UTRs             & HC     &    4207 &   159867 &  2.63\\\\\n",
       "\t intergenic       & HC     &   24496 &   159867 & 15.32\\\\\n",
       "\t no\\_overlap       & HC     &   15273 &   159867 &  9.55\\\\\n",
       "\t TE               & HH     &   18394 &   147496 & 12.47\\\\\n",
       "\t exons            & HH     &   56100 &   147496 & 38.03\\\\\n",
       "\t introns          & HH     &   31070 &   147496 & 21.06\\\\\n",
       "\t putativePromoter & HH     &    3704 &   147496 &  2.51\\\\\n",
       "\t UTRs             & HH     &    3986 &   147496 &  2.70\\\\\n",
       "\t intergenic       & HH     &   21279 &   147496 & 14.43\\\\\n",
       "\t no\\_overlap       & HH     &   12963 &   147496 &  8.79\\\\\n",
       "\t TE               & allCpG & 2828372 & 23397995 & 12.09\\\\\n",
       "\t exons            & allCpG & 2323389 & 23397995 &  9.93\\\\\n",
       "\t introns          & allCpG & 5497874 & 23397995 & 23.50\\\\\n",
       "\t putativePromoter & allCpG &  926518 & 23397995 &  3.96\\\\\n",
       "\t UTRs             & allCpG &  600840 & 23397995 &  2.57\\\\\n",
       "\t intergenic       & allCpG & 6644297 & 23397995 & 28.40\\\\\n",
       "\t no\\_overlap       & allCpG & 4576705 & 23397995 & 19.56\\\\\n",
       "\\end{tabular}\n"
      ],
      "text/markdown": [
       "\n",
       "A data.frame: 35 × 5\n",
       "\n",
       "| genomicFeature &lt;chr&gt; | treatment &lt;chr&gt; | propOverlap &lt;int&gt; | propOverlap_sum &lt;int&gt; | proportion_overlap &lt;dbl&gt; |\n",
       "|---|---|---|---|---|\n",
       "| TE               | CC     |   11289 |    97527 | 11.58 |\n",
       "| exons            | CC     |   42577 |    97527 | 43.66 |\n",
       "| introns          | CC     |   19342 |    97527 | 19.83 |\n",
       "| putativePromoter | CC     |    2081 |    97527 |  2.13 |\n",
       "| UTRs             | CC     |    2964 |    97527 |  3.04 |\n",
       "| intergenic       | CC     |   11929 |    97527 | 12.23 |\n",
       "| no_overlap       | CC     |    7345 |    97527 |  7.53 |\n",
       "| TE               | CH     |   13304 |   112541 | 11.82 |\n",
       "| exons            | CH     |   46527 |   112541 | 41.34 |\n",
       "| introns          | CH     |   22545 |   112541 | 20.03 |\n",
       "| putativePromoter | CH     |    2712 |   112541 |  2.41 |\n",
       "| UTRs             | CH     |    3250 |   112541 |  2.89 |\n",
       "| intergenic       | CH     |   15066 |   112541 | 13.39 |\n",
       "| no_overlap       | CH     |    9137 |   112541 |  8.12 |\n",
       "| TE               | HC     |   19594 |   159867 | 12.26 |\n",
       "| exons            | HC     |   57498 |   159867 | 35.97 |\n",
       "| introns          | HC     |   34622 |   159867 | 21.66 |\n",
       "| putativePromoter | HC     |    4177 |   159867 |  2.61 |\n",
       "| UTRs             | HC     |    4207 |   159867 |  2.63 |\n",
       "| intergenic       | HC     |   24496 |   159867 | 15.32 |\n",
       "| no_overlap       | HC     |   15273 |   159867 |  9.55 |\n",
       "| TE               | HH     |   18394 |   147496 | 12.47 |\n",
       "| exons            | HH     |   56100 |   147496 | 38.03 |\n",
       "| introns          | HH     |   31070 |   147496 | 21.06 |\n",
       "| putativePromoter | HH     |    3704 |   147496 |  2.51 |\n",
       "| UTRs             | HH     |    3986 |   147496 |  2.70 |\n",
       "| intergenic       | HH     |   21279 |   147496 | 14.43 |\n",
       "| no_overlap       | HH     |   12963 |   147496 |  8.79 |\n",
       "| TE               | allCpG | 2828372 | 23397995 | 12.09 |\n",
       "| exons            | allCpG | 2323389 | 23397995 |  9.93 |\n",
       "| introns          | allCpG | 5497874 | 23397995 | 23.50 |\n",
       "| putativePromoter | allCpG |  926518 | 23397995 |  3.96 |\n",
       "| UTRs             | allCpG |  600840 | 23397995 |  2.57 |\n",
       "| intergenic       | allCpG | 6644297 | 23397995 | 28.40 |\n",
       "| no_overlap       | allCpG | 4576705 | 23397995 | 19.56 |\n",
       "\n"
      ],
      "text/plain": [
       "   genomicFeature   treatment propOverlap propOverlap_sum proportion_overlap\n",
       "1  TE               CC          11289        97527        11.58             \n",
       "2  exons            CC          42577        97527        43.66             \n",
       "3  introns          CC          19342        97527        19.83             \n",
       "4  putativePromoter CC           2081        97527         2.13             \n",
       "5  UTRs             CC           2964        97527         3.04             \n",
       "6  intergenic       CC          11929        97527        12.23             \n",
       "7  no_overlap       CC           7345        97527         7.53             \n",
       "8  TE               CH          13304       112541        11.82             \n",
       "9  exons            CH          46527       112541        41.34             \n",
       "10 introns          CH          22545       112541        20.03             \n",
       "11 putativePromoter CH           2712       112541         2.41             \n",
       "12 UTRs             CH           3250       112541         2.89             \n",
       "13 intergenic       CH          15066       112541        13.39             \n",
       "14 no_overlap       CH           9137       112541         8.12             \n",
       "15 TE               HC          19594       159867        12.26             \n",
       "16 exons            HC          57498       159867        35.97             \n",
       "17 introns          HC          34622       159867        21.66             \n",
       "18 putativePromoter HC           4177       159867         2.61             \n",
       "19 UTRs             HC           4207       159867         2.63             \n",
       "20 intergenic       HC          24496       159867        15.32             \n",
       "21 no_overlap       HC          15273       159867         9.55             \n",
       "22 TE               HH          18394       147496        12.47             \n",
       "23 exons            HH          56100       147496        38.03             \n",
       "24 introns          HH          31070       147496        21.06             \n",
       "25 putativePromoter HH           3704       147496         2.51             \n",
       "26 UTRs             HH           3986       147496         2.70             \n",
       "27 intergenic       HH          21279       147496        14.43             \n",
       "28 no_overlap       HH          12963       147496         8.79             \n",
       "29 TE               allCpG    2828372     23397995        12.09             \n",
       "30 exons            allCpG    2323389     23397995         9.93             \n",
       "31 introns          allCpG    5497874     23397995        23.50             \n",
       "32 putativePromoter allCpG     926518     23397995         3.96             \n",
       "33 UTRs             allCpG     600840     23397995         2.57             \n",
       "34 intergenic       allCpG    6644297     23397995        28.40             \n",
       "35 no_overlap       allCpG    4576705     23397995        19.56             "
      ]
     },
     "metadata": {},
     "output_type": "display_data"
    }
   ],
   "source": [
    "df <- read.csv('/project/pi_sarah_gignouxwolfsohn_uml_edu/julia/CE_MethylRAD_analysis_2018/analysis/genomic_feature_tracks/proportion_overlap/majorityMe_propOverlap.csv')\n",
    "df"
   ]
  },
  {
   "cell_type": "code",
   "execution_count": 2,
   "id": "c293d88a-412f-4701-95c2-ee3bfdd62e37",
   "metadata": {},
   "outputs": [],
   "source": [
    "# removing underscore in 'no_overlap'\n",
    "df$genomicFeature <- gsub(\"no_overlap\", \"other\", df$genomicFeature)\n",
    "df$genomicFeature <- gsub(\"putativePromoter\", \"putative promoters\", df$genomicFeature)\n",
    "df$genomicFeature <- gsub(\"intergenic\", \"intergenic regions\", df$genomicFeature)\n",
    "df$genomicFeature <- gsub(\"TE\", \"TEs\", df$genomicFeature)\n",
    "df$treatment <- gsub(\"allCpG\", \"all CpGs\", df$treatment)"
   ]
  },
  {
   "cell_type": "code",
   "execution_count": 4,
   "id": "706d4291-bb25-4e7b-a879-563c69731088",
   "metadata": {},
   "outputs": [
    {
     "data": {
      "image/png": "[encoded data removed]",
      "text/plain": [
       "plot without title"
      ]
     },
     "metadata": {
      "image/png": {
       "height": 600,
       "width": 900
      }
     },
     "output_type": "display_data"
    }
   ],
   "source": [
    "options(repr.plot.width=15, repr.plot.height=10)\n",
    "\n",
    "propOv <- ggplot(df) +\n",
    " aes(x = treatment, y = proportion_overlap, fill = genomicFeature) +\n",
    " geom_col() +\n",
    " scale_fill_brewer(palette = \"GnBu\", \n",
    " direction = 1) +\n",
    "  geom_col(color = \"black\", linewidth = 0.25) +\n",
    " labs(x = \"\", y = \"Percent Overlap\", \n",
    " fill = \"Genomic Feature\") +\n",
    " theme_classic() +\n",
    "theme(text = element_text(size = 20)) \n",
    "\n",
    "propOv"
   ]
  },
  {
   "cell_type": "markdown",
   "id": "20e26b7b-aa14-4c5b-9c82-28cc481b90c7",
   "metadata": {},
   "source": [
    "want to move the 'other' category to the bottom and make gray (was originally 'no overlap')"
   ]
  },
  {
   "cell_type": "code",
   "execution_count": 5,
   "id": "f805ef23-6ef2-4769-b792-de663b381786",
   "metadata": {},
   "outputs": [
    {
     "data": {
      "image/png": "[encoded data removed]",
      "text/plain": [
       "plot without title"
      ]
     },
     "metadata": {
      "image/png": {
       "height": 600,
       "width": 900
      }
     },
     "output_type": "display_data"
    }
   ],
   "source": [
    "# Convert genomicFeature to a factor and relevel\n",
    "df$genomicFeature <- as.factor(df$genomicFeature)\n",
    "df$genomicFeature <- factor(df$genomicFeature, levels = c(setdiff(levels(df$genomicFeature), \"other\"), \"other\"))\n",
    "\n",
    "# Define the color palette\n",
    "colors <- c(\"other\" = \"gray\", \n",
    "             setNames(brewer.pal(nlevels(df$genomicFeature) - 1, \"GnBu\"), \n",
    "                       levels(df$genomicFeature)[-length(levels(df$genomicFeature))]))\n",
    "\n",
    "\n",
    "# Update the plot\n",
    "propOv <- ggplot(df) +\n",
    "  aes(x = treatment, y = proportion_overlap, fill = genomicFeature) +\n",
    "  geom_col() +\n",
    "  scale_fill_manual(values = colors) +\n",
    "  geom_col(color = \"black\", linewidth = 0.25) +\n",
    "  labs(x = \"\", y = \"Percent Overlap\", \n",
    "       fill = \"Genomic Feature\",\n",
    "      title = 'A)') +\n",
    "  theme_classic() +\n",
    "  theme(text = element_text(size = 20))\n",
    "\n",
    "propOv"
   ]
  },
  {
   "cell_type": "code",
   "execution_count": 10,
   "id": "cd9a9ad3-a15b-4c51-b375-a33c520fe126",
   "metadata": {},
   "outputs": [],
   "source": [
    "ggsave('/project/pi_sarah_gignouxwolfsohn_uml_edu/julia/CE_MethylRAD_analysis_2018/analysis/figures/propOverlap.pdf', propOv, width=15, height=10)"
   ]
  },
  {
   "cell_type": "markdown",
   "id": "5e051b4e-e1e8-4486-aec1-b093a65ca46f",
   "metadata": {},
   "source": [
    "I wonder if it's easier for understanding and consistency to facet this plot"
   ]
  },
  {
   "cell_type": "code",
   "execution_count": 6,
   "id": "05bf39ae-bff3-4a3f-a857-e11f4d780a89",
   "metadata": {},
   "outputs": [
    {
     "data": {
      "text/html": [
       "<table class=\"dataframe\">\n",
       "<caption>A data.frame: 35 × 7</caption>\n",
       "<thead>\n",
       "\t<tr><th scope=col>genomicFeature</th><th scope=col>treatment</th><th scope=col>propOverlap</th><th scope=col>propOverlap_sum</th><th scope=col>proportion_overlap</th><th scope=col>phase1</th><th scope=col>phase2</th></tr>\n",
       "\t<tr><th scope=col>&lt;fct&gt;</th><th scope=col>&lt;chr&gt;</th><th scope=col>&lt;int&gt;</th><th scope=col>&lt;int&gt;</th><th scope=col>&lt;dbl&gt;</th><th scope=col>&lt;chr&gt;</th><th scope=col>&lt;chr&gt;</th></tr>\n",
       "</thead>\n",
       "<tbody>\n",
       "\t<tr><td>TEs               </td><td>CC      </td><td>  11289</td><td>   97527</td><td>11.58</td><td>Control</td><td>Control </td></tr>\n",
       "\t<tr><td>exons             </td><td>CC      </td><td>  42577</td><td>   97527</td><td>43.66</td><td>Control</td><td>Control </td></tr>\n",
       "\t<tr><td>introns           </td><td>CC      </td><td>  19342</td><td>   97527</td><td>19.83</td><td>Control</td><td>Control </td></tr>\n",
       "\t<tr><td>putative promoters</td><td>CC      </td><td>   2081</td><td>   97527</td><td> 2.13</td><td>Control</td><td>Control </td></tr>\n",
       "\t<tr><td>UTRs              </td><td>CC      </td><td>   2964</td><td>   97527</td><td> 3.04</td><td>Control</td><td>Control </td></tr>\n",
       "\t<tr><td>intergenic regions</td><td>CC      </td><td>  11929</td><td>   97527</td><td>12.23</td><td>Control</td><td>Control </td></tr>\n",
       "\t<tr><td>other             </td><td>CC      </td><td>   7345</td><td>   97527</td><td> 7.53</td><td>Control</td><td>Control </td></tr>\n",
       "\t<tr><td>TEs               </td><td>CH      </td><td>  13304</td><td>  112541</td><td>11.82</td><td>Control</td><td>Hypoxic </td></tr>\n",
       "\t<tr><td>exons             </td><td>CH      </td><td>  46527</td><td>  112541</td><td>41.34</td><td>Control</td><td>Hypoxic </td></tr>\n",
       "\t<tr><td>introns           </td><td>CH      </td><td>  22545</td><td>  112541</td><td>20.03</td><td>Control</td><td>Hypoxic </td></tr>\n",
       "\t<tr><td>putative promoters</td><td>CH      </td><td>   2712</td><td>  112541</td><td> 2.41</td><td>Control</td><td>Hypoxic </td></tr>\n",
       "\t<tr><td>UTRs              </td><td>CH      </td><td>   3250</td><td>  112541</td><td> 2.89</td><td>Control</td><td>Hypoxic </td></tr>\n",
       "\t<tr><td>intergenic regions</td><td>CH      </td><td>  15066</td><td>  112541</td><td>13.39</td><td>Control</td><td>Hypoxic </td></tr>\n",
       "\t<tr><td>other             </td><td>CH      </td><td>   9137</td><td>  112541</td><td> 8.12</td><td>Control</td><td>Hypoxic </td></tr>\n",
       "\t<tr><td>TEs               </td><td>HC      </td><td>  19594</td><td>  159867</td><td>12.26</td><td>Hypoxic</td><td>Control </td></tr>\n",
       "\t<tr><td>exons             </td><td>HC      </td><td>  57498</td><td>  159867</td><td>35.97</td><td>Hypoxic</td><td>Control </td></tr>\n",
       "\t<tr><td>introns           </td><td>HC      </td><td>  34622</td><td>  159867</td><td>21.66</td><td>Hypoxic</td><td>Control </td></tr>\n",
       "\t<tr><td>putative promoters</td><td>HC      </td><td>   4177</td><td>  159867</td><td> 2.61</td><td>Hypoxic</td><td>Control </td></tr>\n",
       "\t<tr><td>UTRs              </td><td>HC      </td><td>   4207</td><td>  159867</td><td> 2.63</td><td>Hypoxic</td><td>Control </td></tr>\n",
       "\t<tr><td>intergenic regions</td><td>HC      </td><td>  24496</td><td>  159867</td><td>15.32</td><td>Hypoxic</td><td>Control </td></tr>\n",
       "\t<tr><td>other             </td><td>HC      </td><td>  15273</td><td>  159867</td><td> 9.55</td><td>Hypoxic</td><td>Control </td></tr>\n",
       "\t<tr><td>TEs               </td><td>HH      </td><td>  18394</td><td>  147496</td><td>12.47</td><td>Hypoxic</td><td>Hypoxic </td></tr>\n",
       "\t<tr><td>exons             </td><td>HH      </td><td>  56100</td><td>  147496</td><td>38.03</td><td>Hypoxic</td><td>Hypoxic </td></tr>\n",
       "\t<tr><td>introns           </td><td>HH      </td><td>  31070</td><td>  147496</td><td>21.06</td><td>Hypoxic</td><td>Hypoxic </td></tr>\n",
       "\t<tr><td>putative promoters</td><td>HH      </td><td>   3704</td><td>  147496</td><td> 2.51</td><td>Hypoxic</td><td>Hypoxic </td></tr>\n",
       "\t<tr><td>UTRs              </td><td>HH      </td><td>   3986</td><td>  147496</td><td> 2.70</td><td>Hypoxic</td><td>Hypoxic </td></tr>\n",
       "\t<tr><td>intergenic regions</td><td>HH      </td><td>  21279</td><td>  147496</td><td>14.43</td><td>Hypoxic</td><td>Hypoxic </td></tr>\n",
       "\t<tr><td>other             </td><td>HH      </td><td>  12963</td><td>  147496</td><td> 8.79</td><td>Hypoxic</td><td>Hypoxic </td></tr>\n",
       "\t<tr><td>TEs               </td><td>all CpGs</td><td>2828372</td><td>23397995</td><td>12.09</td><td>       </td><td>All CpGs</td></tr>\n",
       "\t<tr><td>exons             </td><td>all CpGs</td><td>2323389</td><td>23397995</td><td> 9.93</td><td>       </td><td>All CpGs</td></tr>\n",
       "\t<tr><td>introns           </td><td>all CpGs</td><td>5497874</td><td>23397995</td><td>23.50</td><td>       </td><td>All CpGs</td></tr>\n",
       "\t<tr><td>putative promoters</td><td>all CpGs</td><td> 926518</td><td>23397995</td><td> 3.96</td><td>       </td><td>All CpGs</td></tr>\n",
       "\t<tr><td>UTRs              </td><td>all CpGs</td><td> 600840</td><td>23397995</td><td> 2.57</td><td>       </td><td>All CpGs</td></tr>\n",
       "\t<tr><td>intergenic regions</td><td>all CpGs</td><td>6644297</td><td>23397995</td><td>28.40</td><td>       </td><td>All CpGs</td></tr>\n",
       "\t<tr><td>other             </td><td>all CpGs</td><td>4576705</td><td>23397995</td><td>19.56</td><td>       </td><td>All CpGs</td></tr>\n",
       "</tbody>\n",
       "</table>\n"
      ],
      "text/latex": [
       "A data.frame: 35 × 7\n",
       "\\begin{tabular}{lllllll}\n",
       " genomicFeature & treatment & propOverlap & propOverlap\\_sum & proportion\\_overlap & phase1 & phase2\\\\\n",
       " <fct> & <chr> & <int> & <int> & <dbl> & <chr> & <chr>\\\\\n",
       "\\hline\n",
       "\t TEs                & CC       &   11289 &    97527 & 11.58 & Control & Control \\\\\n",
       "\t exons              & CC       &   42577 &    97527 & 43.66 & Control & Control \\\\\n",
       "\t introns            & CC       &   19342 &    97527 & 19.83 & Control & Control \\\\\n",
       "\t putative promoters & CC       &    2081 &    97527 &  2.13 & Control & Control \\\\\n",
       "\t UTRs               & CC       &    2964 &    97527 &  3.04 & Control & Control \\\\\n",
       "\t intergenic regions & CC       &   11929 &    97527 & 12.23 & Control & Control \\\\\n",
       "\t other              & CC       &    7345 &    97527 &  7.53 & Control & Control \\\\\n",
       "\t TEs                & CH       &   13304 &   112541 & 11.82 & Control & Hypoxic \\\\\n",
       "\t exons              & CH       &   46527 &   112541 & 41.34 & Control & Hypoxic \\\\\n",
       "\t introns            & CH       &   22545 &   112541 & 20.03 & Control & Hypoxic \\\\\n",
       "\t putative promoters & CH       &    2712 &   112541 &  2.41 & Control & Hypoxic \\\\\n",
       "\t UTRs               & CH       &    3250 &   112541 &  2.89 & Control & Hypoxic \\\\\n",
       "\t intergenic regions & CH       &   15066 &   112541 & 13.39 & Control & Hypoxic \\\\\n",
       "\t other              & CH       &    9137 &   112541 &  8.12 & Control & Hypoxic \\\\\n",
       "\t TEs                & HC       &   19594 &   159867 & 12.26 & Hypoxic & Control \\\\\n",
       "\t exons              & HC       &   57498 &   159867 & 35.97 & Hypoxic & Control \\\\\n",
       "\t introns            & HC       &   34622 &   159867 & 21.66 & Hypoxic & Control \\\\\n",
       "\t putative promoters & HC       &    4177 &   159867 &  2.61 & Hypoxic & Control \\\\\n",
       "\t UTRs               & HC       &    4207 &   159867 &  2.63 & Hypoxic & Control \\\\\n",
       "\t intergenic regions & HC       &   24496 &   159867 & 15.32 & Hypoxic & Control \\\\\n",
       "\t other              & HC       &   15273 &   159867 &  9.55 & Hypoxic & Control \\\\\n",
       "\t TEs                & HH       &   18394 &   147496 & 12.47 & Hypoxic & Hypoxic \\\\\n",
       "\t exons              & HH       &   56100 &   147496 & 38.03 & Hypoxic & Hypoxic \\\\\n",
       "\t introns            & HH       &   31070 &   147496 & 21.06 & Hypoxic & Hypoxic \\\\\n",
       "\t putative promoters & HH       &    3704 &   147496 &  2.51 & Hypoxic & Hypoxic \\\\\n",
       "\t UTRs               & HH       &    3986 &   147496 &  2.70 & Hypoxic & Hypoxic \\\\\n",
       "\t intergenic regions & HH       &   21279 &   147496 & 14.43 & Hypoxic & Hypoxic \\\\\n",
       "\t other              & HH       &   12963 &   147496 &  8.79 & Hypoxic & Hypoxic \\\\\n",
       "\t TEs                & all CpGs & 2828372 & 23397995 & 12.09 &         & All CpGs\\\\\n",
       "\t exons              & all CpGs & 2323389 & 23397995 &  9.93 &         & All CpGs\\\\\n",
       "\t introns            & all CpGs & 5497874 & 23397995 & 23.50 &         & All CpGs\\\\\n",
       "\t putative promoters & all CpGs &  926518 & 23397995 &  3.96 &         & All CpGs\\\\\n",
       "\t UTRs               & all CpGs &  600840 & 23397995 &  2.57 &         & All CpGs\\\\\n",
       "\t intergenic regions & all CpGs & 6644297 & 23397995 & 28.40 &         & All CpGs\\\\\n",
       "\t other              & all CpGs & 4576705 & 23397995 & 19.56 &         & All CpGs\\\\\n",
       "\\end{tabular}\n"
      ],
      "text/markdown": [
       "\n",
       "A data.frame: 35 × 7\n",
       "\n",
       "| genomicFeature &lt;fct&gt; | treatment &lt;chr&gt; | propOverlap &lt;int&gt; | propOverlap_sum &lt;int&gt; | proportion_overlap &lt;dbl&gt; | phase1 &lt;chr&gt; | phase2 &lt;chr&gt; |\n",
       "|---|---|---|---|---|---|---|\n",
       "| TEs                | CC       |   11289 |    97527 | 11.58 | Control | Control  |\n",
       "| exons              | CC       |   42577 |    97527 | 43.66 | Control | Control  |\n",
       "| introns            | CC       |   19342 |    97527 | 19.83 | Control | Control  |\n",
       "| putative promoters | CC       |    2081 |    97527 |  2.13 | Control | Control  |\n",
       "| UTRs               | CC       |    2964 |    97527 |  3.04 | Control | Control  |\n",
       "| intergenic regions | CC       |   11929 |    97527 | 12.23 | Control | Control  |\n",
       "| other              | CC       |    7345 |    97527 |  7.53 | Control | Control  |\n",
       "| TEs                | CH       |   13304 |   112541 | 11.82 | Control | Hypoxic  |\n",
       "| exons              | CH       |   46527 |   112541 | 41.34 | Control | Hypoxic  |\n",
       "| introns            | CH       |   22545 |   112541 | 20.03 | Control | Hypoxic  |\n",
       "| putative promoters | CH       |    2712 |   112541 |  2.41 | Control | Hypoxic  |\n",
       "| UTRs               | CH       |    3250 |   112541 |  2.89 | Control | Hypoxic  |\n",
       "| intergenic regions | CH       |   15066 |   112541 | 13.39 | Control | Hypoxic  |\n",
       "| other              | CH       |    9137 |   112541 |  8.12 | Control | Hypoxic  |\n",
       "| TEs                | HC       |   19594 |   159867 | 12.26 | Hypoxic | Control  |\n",
       "| exons              | HC       |   57498 |   159867 | 35.97 | Hypoxic | Control  |\n",
       "| introns            | HC       |   34622 |   159867 | 21.66 | Hypoxic | Control  |\n",
       "| putative promoters | HC       |    4177 |   159867 |  2.61 | Hypoxic | Control  |\n",
       "| UTRs               | HC       |    4207 |   159867 |  2.63 | Hypoxic | Control  |\n",
       "| intergenic regions | HC       |   24496 |   159867 | 15.32 | Hypoxic | Control  |\n",
       "| other              | HC       |   15273 |   159867 |  9.55 | Hypoxic | Control  |\n",
       "| TEs                | HH       |   18394 |   147496 | 12.47 | Hypoxic | Hypoxic  |\n",
       "| exons              | HH       |   56100 |   147496 | 38.03 | Hypoxic | Hypoxic  |\n",
       "| introns            | HH       |   31070 |   147496 | 21.06 | Hypoxic | Hypoxic  |\n",
       "| putative promoters | HH       |    3704 |   147496 |  2.51 | Hypoxic | Hypoxic  |\n",
       "| UTRs               | HH       |    3986 |   147496 |  2.70 | Hypoxic | Hypoxic  |\n",
       "| intergenic regions | HH       |   21279 |   147496 | 14.43 | Hypoxic | Hypoxic  |\n",
       "| other              | HH       |   12963 |   147496 |  8.79 | Hypoxic | Hypoxic  |\n",
       "| TEs                | all CpGs | 2828372 | 23397995 | 12.09 | <!----> | All CpGs |\n",
       "| exons              | all CpGs | 2323389 | 23397995 |  9.93 | <!----> | All CpGs |\n",
       "| introns            | all CpGs | 5497874 | 23397995 | 23.50 | <!----> | All CpGs |\n",
       "| putative promoters | all CpGs |  926518 | 23397995 |  3.96 | <!----> | All CpGs |\n",
       "| UTRs               | all CpGs |  600840 | 23397995 |  2.57 | <!----> | All CpGs |\n",
       "| intergenic regions | all CpGs | 6644297 | 23397995 | 28.40 | <!----> | All CpGs |\n",
       "| other              | all CpGs | 4576705 | 23397995 | 19.56 | <!----> | All CpGs |\n",
       "\n"
      ],
      "text/plain": [
       "   genomicFeature     treatment propOverlap propOverlap_sum proportion_overlap\n",
       "1  TEs                CC          11289        97527        11.58             \n",
       "2  exons              CC          42577        97527        43.66             \n",
       "3  introns            CC          19342        97527        19.83             \n",
       "4  putative promoters CC           2081        97527         2.13             \n",
       "5  UTRs               CC           2964        97527         3.04             \n",
       "6  intergenic regions CC          11929        97527        12.23             \n",
       "7  other              CC           7345        97527         7.53             \n",
       "8  TEs                CH          13304       112541        11.82             \n",
       "9  exons              CH          46527       112541        41.34             \n",
       "10 introns            CH          22545       112541        20.03             \n",
       "11 putative promoters CH           2712       112541         2.41             \n",
       "12 UTRs               CH           3250       112541         2.89             \n",
       "13 intergenic regions CH          15066       112541        13.39             \n",
       "14 other              CH           9137       112541         8.12             \n",
       "15 TEs                HC          19594       159867        12.26             \n",
       "16 exons              HC          57498       159867        35.97             \n",
       "17 introns            HC          34622       159867        21.66             \n",
       "18 putative promoters HC           4177       159867         2.61             \n",
       "19 UTRs               HC           4207       159867         2.63             \n",
       "20 intergenic regions HC          24496       159867        15.32             \n",
       "21 other              HC          15273       159867         9.55             \n",
       "22 TEs                HH          18394       147496        12.47             \n",
       "23 exons              HH          56100       147496        38.03             \n",
       "24 introns            HH          31070       147496        21.06             \n",
       "25 putative promoters HH           3704       147496         2.51             \n",
       "26 UTRs               HH           3986       147496         2.70             \n",
       "27 intergenic regions HH          21279       147496        14.43             \n",
       "28 other              HH          12963       147496         8.79             \n",
       "29 TEs                all CpGs  2828372     23397995        12.09             \n",
       "30 exons              all CpGs  2323389     23397995         9.93             \n",
       "31 introns            all CpGs  5497874     23397995        23.50             \n",
       "32 putative promoters all CpGs   926518     23397995         3.96             \n",
       "33 UTRs               all CpGs   600840     23397995         2.57             \n",
       "34 intergenic regions all CpGs  6644297     23397995        28.40             \n",
       "35 other              all CpGs  4576705     23397995        19.56             \n",
       "   phase1  phase2  \n",
       "1  Control Control \n",
       "2  Control Control \n",
       "3  Control Control \n",
       "4  Control Control \n",
       "5  Control Control \n",
       "6  Control Control \n",
       "7  Control Control \n",
       "8  Control Hypoxic \n",
       "9  Control Hypoxic \n",
       "10 Control Hypoxic \n",
       "11 Control Hypoxic \n",
       "12 Control Hypoxic \n",
       "13 Control Hypoxic \n",
       "14 Control Hypoxic \n",
       "15 Hypoxic Control \n",
       "16 Hypoxic Control \n",
       "17 Hypoxic Control \n",
       "18 Hypoxic Control \n",
       "19 Hypoxic Control \n",
       "20 Hypoxic Control \n",
       "21 Hypoxic Control \n",
       "22 Hypoxic Hypoxic \n",
       "23 Hypoxic Hypoxic \n",
       "24 Hypoxic Hypoxic \n",
       "25 Hypoxic Hypoxic \n",
       "26 Hypoxic Hypoxic \n",
       "27 Hypoxic Hypoxic \n",
       "28 Hypoxic Hypoxic \n",
       "29         All CpGs\n",
       "30         All CpGs\n",
       "31         All CpGs\n",
       "32         All CpGs\n",
       "33         All CpGs\n",
       "34         All CpGs\n",
       "35         All CpGs"
      ]
     },
     "metadata": {},
     "output_type": "display_data"
    }
   ],
   "source": [
    "library(dplyr)\n",
    "\n",
    "df <- df %>%\n",
    "  mutate(phase1 = case_when(\n",
    "    substr(df$treatment, 1, 1) == \"C\" ~ \"Control\",\n",
    "    substr(df$treatment, 1, 1) == \"H\" ~ \"Hypoxic\",\n",
    "    TRUE ~ \"\"\n",
    "  ),\n",
    "  phase2 = case_when(\n",
    "    substr(df$treatment, 2, 2) == \"C\" ~ \"Control\",\n",
    "    substr(df$treatment, 2, 2) == \"H\" ~ \"Hypoxic\",\n",
    "    TRUE ~ \"All CpGs\"\n",
    "  ))\n",
    "\n",
    "df"
   ]
  },
  {
   "cell_type": "code",
   "execution_count": 7,
   "id": "3b86e320-c717-4728-a987-8f681a38a9a0",
   "metadata": {},
   "outputs": [
    {
     "data": {
      "image/png": "[encoded data removed]",
      "text/plain": [
       "plot without title"
      ]
     },
     "metadata": {
      "image/png": {
       "height": 600,
       "width": 900
      }
     },
     "output_type": "display_data"
    }
   ],
   "source": [
    "\n",
    "propOv <- ggplot(df) +\n",
    "  aes(x = phase1, y = proportion_overlap, fill = genomicFeature) +\n",
    "  geom_col(width = 0.5) +\n",
    "  scale_fill_manual(values = colors) +\n",
    "  geom_col(color = \"black\", linewidth = 0.25) +\n",
    "  labs(x = \"First Exposure\", \n",
    "       y = \"Percent Overlap\", \n",
    "       fill = \"Genomic Feature\",\n",
    "       subtitle = 'Second Exposure',\n",
    "       title = 'A)') +\n",
    "  theme_bw() +\n",
    "  facet_grid(~phase2, space = \"free_x\", scales = \"free_x\") + \n",
    "  theme(text = element_text(size = 20),\n",
    "       plot.subtitle = element_text(hjust = .65),\n",
    "       axis.title.x = element_text(hjust = .65))\n",
    "\n",
    "propOv"
   ]
  },
  {
   "cell_type": "code",
   "execution_count": 26,
   "id": "25385457-8661-4343-bb9c-afd9f1914848",
   "metadata": {},
   "outputs": [],
   "source": [
    "ggsave('/project/pi_sarah_gignouxwolfsohn_uml_edu/julia/CE_MethylRAD_analysis_2018/analysis/figures/propOverlap_faceted.pdf', propOv, width=15, height=10)"
   ]
  },
  {
   "cell_type": "markdown",
   "id": "cd897e5c-2312-48ac-a1ea-a51664174dbf",
   "metadata": {},
   "source": [
    "### chi-square test of homogeneity\n",
    "null hyp: the location of methylated CpGs is independent of the genomic feature"
   ]
  },
  {
   "cell_type": "code",
   "execution_count": 8,
   "id": "1ff4bd7d-aace-4090-b634-35c6d9f40f14",
   "metadata": {},
   "outputs": [
    {
     "data": {
      "text/html": [
       "<table class=\"dataframe\">\n",
       "<caption>A data.frame: 35 × 7</caption>\n",
       "<thead>\n",
       "\t<tr><th scope=col>genomicFeature</th><th scope=col>treatment</th><th scope=col>propOverlap</th><th scope=col>propOverlap_sum</th><th scope=col>proportion_overlap</th><th scope=col>phase1</th><th scope=col>phase2</th></tr>\n",
       "\t<tr><th scope=col>&lt;fct&gt;</th><th scope=col>&lt;chr&gt;</th><th scope=col>&lt;int&gt;</th><th scope=col>&lt;int&gt;</th><th scope=col>&lt;dbl&gt;</th><th scope=col>&lt;chr&gt;</th><th scope=col>&lt;chr&gt;</th></tr>\n",
       "</thead>\n",
       "<tbody>\n",
       "\t<tr><td>TEs               </td><td>CC      </td><td>  11289</td><td>   97527</td><td>11.58</td><td>Control</td><td>Control </td></tr>\n",
       "\t<tr><td>exons             </td><td>CC      </td><td>  42577</td><td>   97527</td><td>43.66</td><td>Control</td><td>Control </td></tr>\n",
       "\t<tr><td>introns           </td><td>CC      </td><td>  19342</td><td>   97527</td><td>19.83</td><td>Control</td><td>Control </td></tr>\n",
       "\t<tr><td>putative promoters</td><td>CC      </td><td>   2081</td><td>   97527</td><td> 2.13</td><td>Control</td><td>Control </td></tr>\n",
       "\t<tr><td>UTRs              </td><td>CC      </td><td>   2964</td><td>   97527</td><td> 3.04</td><td>Control</td><td>Control </td></tr>\n",
       "\t<tr><td>intergenic regions</td><td>CC      </td><td>  11929</td><td>   97527</td><td>12.23</td><td>Control</td><td>Control </td></tr>\n",
       "\t<tr><td>other             </td><td>CC      </td><td>   7345</td><td>   97527</td><td> 7.53</td><td>Control</td><td>Control </td></tr>\n",
       "\t<tr><td>TEs               </td><td>CH      </td><td>  13304</td><td>  112541</td><td>11.82</td><td>Control</td><td>Hypoxic </td></tr>\n",
       "\t<tr><td>exons             </td><td>CH      </td><td>  46527</td><td>  112541</td><td>41.34</td><td>Control</td><td>Hypoxic </td></tr>\n",
       "\t<tr><td>introns           </td><td>CH      </td><td>  22545</td><td>  112541</td><td>20.03</td><td>Control</td><td>Hypoxic </td></tr>\n",
       "\t<tr><td>putative promoters</td><td>CH      </td><td>   2712</td><td>  112541</td><td> 2.41</td><td>Control</td><td>Hypoxic </td></tr>\n",
       "\t<tr><td>UTRs              </td><td>CH      </td><td>   3250</td><td>  112541</td><td> 2.89</td><td>Control</td><td>Hypoxic </td></tr>\n",
       "\t<tr><td>intergenic regions</td><td>CH      </td><td>  15066</td><td>  112541</td><td>13.39</td><td>Control</td><td>Hypoxic </td></tr>\n",
       "\t<tr><td>other             </td><td>CH      </td><td>   9137</td><td>  112541</td><td> 8.12</td><td>Control</td><td>Hypoxic </td></tr>\n",
       "\t<tr><td>TEs               </td><td>HC      </td><td>  19594</td><td>  159867</td><td>12.26</td><td>Hypoxic</td><td>Control </td></tr>\n",
       "\t<tr><td>exons             </td><td>HC      </td><td>  57498</td><td>  159867</td><td>35.97</td><td>Hypoxic</td><td>Control </td></tr>\n",
       "\t<tr><td>introns           </td><td>HC      </td><td>  34622</td><td>  159867</td><td>21.66</td><td>Hypoxic</td><td>Control </td></tr>\n",
       "\t<tr><td>putative promoters</td><td>HC      </td><td>   4177</td><td>  159867</td><td> 2.61</td><td>Hypoxic</td><td>Control </td></tr>\n",
       "\t<tr><td>UTRs              </td><td>HC      </td><td>   4207</td><td>  159867</td><td> 2.63</td><td>Hypoxic</td><td>Control </td></tr>\n",
       "\t<tr><td>intergenic regions</td><td>HC      </td><td>  24496</td><td>  159867</td><td>15.32</td><td>Hypoxic</td><td>Control </td></tr>\n",
       "\t<tr><td>other             </td><td>HC      </td><td>  15273</td><td>  159867</td><td> 9.55</td><td>Hypoxic</td><td>Control </td></tr>\n",
       "\t<tr><td>TEs               </td><td>HH      </td><td>  18394</td><td>  147496</td><td>12.47</td><td>Hypoxic</td><td>Hypoxic </td></tr>\n",
       "\t<tr><td>exons             </td><td>HH      </td><td>  56100</td><td>  147496</td><td>38.03</td><td>Hypoxic</td><td>Hypoxic </td></tr>\n",
       "\t<tr><td>introns           </td><td>HH      </td><td>  31070</td><td>  147496</td><td>21.06</td><td>Hypoxic</td><td>Hypoxic </td></tr>\n",
       "\t<tr><td>putative promoters</td><td>HH      </td><td>   3704</td><td>  147496</td><td> 2.51</td><td>Hypoxic</td><td>Hypoxic </td></tr>\n",
       "\t<tr><td>UTRs              </td><td>HH      </td><td>   3986</td><td>  147496</td><td> 2.70</td><td>Hypoxic</td><td>Hypoxic </td></tr>\n",
       "\t<tr><td>intergenic regions</td><td>HH      </td><td>  21279</td><td>  147496</td><td>14.43</td><td>Hypoxic</td><td>Hypoxic </td></tr>\n",
       "\t<tr><td>other             </td><td>HH      </td><td>  12963</td><td>  147496</td><td> 8.79</td><td>Hypoxic</td><td>Hypoxic </td></tr>\n",
       "\t<tr><td>TEs               </td><td>all CpGs</td><td>2828372</td><td>23397995</td><td>12.09</td><td>       </td><td>All CpGs</td></tr>\n",
       "\t<tr><td>exons             </td><td>all CpGs</td><td>2323389</td><td>23397995</td><td> 9.93</td><td>       </td><td>All CpGs</td></tr>\n",
       "\t<tr><td>introns           </td><td>all CpGs</td><td>5497874</td><td>23397995</td><td>23.50</td><td>       </td><td>All CpGs</td></tr>\n",
       "\t<tr><td>putative promoters</td><td>all CpGs</td><td> 926518</td><td>23397995</td><td> 3.96</td><td>       </td><td>All CpGs</td></tr>\n",
       "\t<tr><td>UTRs              </td><td>all CpGs</td><td> 600840</td><td>23397995</td><td> 2.57</td><td>       </td><td>All CpGs</td></tr>\n",
       "\t<tr><td>intergenic regions</td><td>all CpGs</td><td>6644297</td><td>23397995</td><td>28.40</td><td>       </td><td>All CpGs</td></tr>\n",
       "\t<tr><td>other             </td><td>all CpGs</td><td>4576705</td><td>23397995</td><td>19.56</td><td>       </td><td>All CpGs</td></tr>\n",
       "</tbody>\n",
       "</table>\n"
      ],
      "text/latex": [
       "A data.frame: 35 × 7\n",
       "\\begin{tabular}{lllllll}\n",
       " genomicFeature & treatment & propOverlap & propOverlap\\_sum & proportion\\_overlap & phase1 & phase2\\\\\n",
       " <fct> & <chr> & <int> & <int> & <dbl> & <chr> & <chr>\\\\\n",
       "\\hline\n",
       "\t TEs                & CC       &   11289 &    97527 & 11.58 & Control & Control \\\\\n",
       "\t exons              & CC       &   42577 &    97527 & 43.66 & Control & Control \\\\\n",
       "\t introns            & CC       &   19342 &    97527 & 19.83 & Control & Control \\\\\n",
       "\t putative promoters & CC       &    2081 &    97527 &  2.13 & Control & Control \\\\\n",
       "\t UTRs               & CC       &    2964 &    97527 &  3.04 & Control & Control \\\\\n",
       "\t intergenic regions & CC       &   11929 &    97527 & 12.23 & Control & Control \\\\\n",
       "\t other              & CC       &    7345 &    97527 &  7.53 & Control & Control \\\\\n",
       "\t TEs                & CH       &   13304 &   112541 & 11.82 & Control & Hypoxic \\\\\n",
       "\t exons              & CH       &   46527 &   112541 & 41.34 & Control & Hypoxic \\\\\n",
       "\t introns            & CH       &   22545 &   112541 & 20.03 & Control & Hypoxic \\\\\n",
       "\t putative promoters & CH       &    2712 &   112541 &  2.41 & Control & Hypoxic \\\\\n",
       "\t UTRs               & CH       &    3250 &   112541 &  2.89 & Control & Hypoxic \\\\\n",
       "\t intergenic regions & CH       &   15066 &   112541 & 13.39 & Control & Hypoxic \\\\\n",
       "\t other              & CH       &    9137 &   112541 &  8.12 & Control & Hypoxic \\\\\n",
       "\t TEs                & HC       &   19594 &   159867 & 12.26 & Hypoxic & Control \\\\\n",
       "\t exons              & HC       &   57498 &   159867 & 35.97 & Hypoxic & Control \\\\\n",
       "\t introns            & HC       &   34622 &   159867 & 21.66 & Hypoxic & Control \\\\\n",
       "\t putative promoters & HC       &    4177 &   159867 &  2.61 & Hypoxic & Control \\\\\n",
       "\t UTRs               & HC       &    4207 &   159867 &  2.63 & Hypoxic & Control \\\\\n",
       "\t intergenic regions & HC       &   24496 &   159867 & 15.32 & Hypoxic & Control \\\\\n",
       "\t other              & HC       &   15273 &   159867 &  9.55 & Hypoxic & Control \\\\\n",
       "\t TEs                & HH       &   18394 &   147496 & 12.47 & Hypoxic & Hypoxic \\\\\n",
       "\t exons              & HH       &   56100 &   147496 & 38.03 & Hypoxic & Hypoxic \\\\\n",
       "\t introns            & HH       &   31070 &   147496 & 21.06 & Hypoxic & Hypoxic \\\\\n",
       "\t putative promoters & HH       &    3704 &   147496 &  2.51 & Hypoxic & Hypoxic \\\\\n",
       "\t UTRs               & HH       &    3986 &   147496 &  2.70 & Hypoxic & Hypoxic \\\\\n",
       "\t intergenic regions & HH       &   21279 &   147496 & 14.43 & Hypoxic & Hypoxic \\\\\n",
       "\t other              & HH       &   12963 &   147496 &  8.79 & Hypoxic & Hypoxic \\\\\n",
       "\t TEs                & all CpGs & 2828372 & 23397995 & 12.09 &         & All CpGs\\\\\n",
       "\t exons              & all CpGs & 2323389 & 23397995 &  9.93 &         & All CpGs\\\\\n",
       "\t introns            & all CpGs & 5497874 & 23397995 & 23.50 &         & All CpGs\\\\\n",
       "\t putative promoters & all CpGs &  926518 & 23397995 &  3.96 &         & All CpGs\\\\\n",
       "\t UTRs               & all CpGs &  600840 & 23397995 &  2.57 &         & All CpGs\\\\\n",
       "\t intergenic regions & all CpGs & 6644297 & 23397995 & 28.40 &         & All CpGs\\\\\n",
       "\t other              & all CpGs & 4576705 & 23397995 & 19.56 &         & All CpGs\\\\\n",
       "\\end{tabular}\n"
      ],
      "text/markdown": [
       "\n",
       "A data.frame: 35 × 7\n",
       "\n",
       "| genomicFeature &lt;fct&gt; | treatment &lt;chr&gt; | propOverlap &lt;int&gt; | propOverlap_sum &lt;int&gt; | proportion_overlap &lt;dbl&gt; | phase1 &lt;chr&gt; | phase2 &lt;chr&gt; |\n",
       "|---|---|---|---|---|---|---|\n",
       "| TEs                | CC       |   11289 |    97527 | 11.58 | Control | Control  |\n",
       "| exons              | CC       |   42577 |    97527 | 43.66 | Control | Control  |\n",
       "| introns            | CC       |   19342 |    97527 | 19.83 | Control | Control  |\n",
       "| putative promoters | CC       |    2081 |    97527 |  2.13 | Control | Control  |\n",
       "| UTRs               | CC       |    2964 |    97527 |  3.04 | Control | Control  |\n",
       "| intergenic regions | CC       |   11929 |    97527 | 12.23 | Control | Control  |\n",
       "| other              | CC       |    7345 |    97527 |  7.53 | Control | Control  |\n",
       "| TEs                | CH       |   13304 |   112541 | 11.82 | Control | Hypoxic  |\n",
       "| exons              | CH       |   46527 |   112541 | 41.34 | Control | Hypoxic  |\n",
       "| introns            | CH       |   22545 |   112541 | 20.03 | Control | Hypoxic  |\n",
       "| putative promoters | CH       |    2712 |   112541 |  2.41 | Control | Hypoxic  |\n",
       "| UTRs               | CH       |    3250 |   112541 |  2.89 | Control | Hypoxic  |\n",
       "| intergenic regions | CH       |   15066 |   112541 | 13.39 | Control | Hypoxic  |\n",
       "| other              | CH       |    9137 |   112541 |  8.12 | Control | Hypoxic  |\n",
       "| TEs                | HC       |   19594 |   159867 | 12.26 | Hypoxic | Control  |\n",
       "| exons              | HC       |   57498 |   159867 | 35.97 | Hypoxic | Control  |\n",
       "| introns            | HC       |   34622 |   159867 | 21.66 | Hypoxic | Control  |\n",
       "| putative promoters | HC       |    4177 |   159867 |  2.61 | Hypoxic | Control  |\n",
       "| UTRs               | HC       |    4207 |   159867 |  2.63 | Hypoxic | Control  |\n",
       "| intergenic regions | HC       |   24496 |   159867 | 15.32 | Hypoxic | Control  |\n",
       "| other              | HC       |   15273 |   159867 |  9.55 | Hypoxic | Control  |\n",
       "| TEs                | HH       |   18394 |   147496 | 12.47 | Hypoxic | Hypoxic  |\n",
       "| exons              | HH       |   56100 |   147496 | 38.03 | Hypoxic | Hypoxic  |\n",
       "| introns            | HH       |   31070 |   147496 | 21.06 | Hypoxic | Hypoxic  |\n",
       "| putative promoters | HH       |    3704 |   147496 |  2.51 | Hypoxic | Hypoxic  |\n",
       "| UTRs               | HH       |    3986 |   147496 |  2.70 | Hypoxic | Hypoxic  |\n",
       "| intergenic regions | HH       |   21279 |   147496 | 14.43 | Hypoxic | Hypoxic  |\n",
       "| other              | HH       |   12963 |   147496 |  8.79 | Hypoxic | Hypoxic  |\n",
       "| TEs                | all CpGs | 2828372 | 23397995 | 12.09 | <!----> | All CpGs |\n",
       "| exons              | all CpGs | 2323389 | 23397995 |  9.93 | <!----> | All CpGs |\n",
       "| introns            | all CpGs | 5497874 | 23397995 | 23.50 | <!----> | All CpGs |\n",
       "| putative promoters | all CpGs |  926518 | 23397995 |  3.96 | <!----> | All CpGs |\n",
       "| UTRs               | all CpGs |  600840 | 23397995 |  2.57 | <!----> | All CpGs |\n",
       "| intergenic regions | all CpGs | 6644297 | 23397995 | 28.40 | <!----> | All CpGs |\n",
       "| other              | all CpGs | 4576705 | 23397995 | 19.56 | <!----> | All CpGs |\n",
       "\n"
      ],
      "text/plain": [
       "   genomicFeature     treatment propOverlap propOverlap_sum proportion_overlap\n",
       "1  TEs                CC          11289        97527        11.58             \n",
       "2  exons              CC          42577        97527        43.66             \n",
       "3  introns            CC          19342        97527        19.83             \n",
       "4  putative promoters CC           2081        97527         2.13             \n",
       "5  UTRs               CC           2964        97527         3.04             \n",
       "6  intergenic regions CC          11929        97527        12.23             \n",
       "7  other              CC           7345        97527         7.53             \n",
       "8  TEs                CH          13304       112541        11.82             \n",
       "9  exons              CH          46527       112541        41.34             \n",
       "10 introns            CH          22545       112541        20.03             \n",
       "11 putative promoters CH           2712       112541         2.41             \n",
       "12 UTRs               CH           3250       112541         2.89             \n",
       "13 intergenic regions CH          15066       112541        13.39             \n",
       "14 other              CH           9137       112541         8.12             \n",
       "15 TEs                HC          19594       159867        12.26             \n",
       "16 exons              HC          57498       159867        35.97             \n",
       "17 introns            HC          34622       159867        21.66             \n",
       "18 putative promoters HC           4177       159867         2.61             \n",
       "19 UTRs               HC           4207       159867         2.63             \n",
       "20 intergenic regions HC          24496       159867        15.32             \n",
       "21 other              HC          15273       159867         9.55             \n",
       "22 TEs                HH          18394       147496        12.47             \n",
       "23 exons              HH          56100       147496        38.03             \n",
       "24 introns            HH          31070       147496        21.06             \n",
       "25 putative promoters HH           3704       147496         2.51             \n",
       "26 UTRs               HH           3986       147496         2.70             \n",
       "27 intergenic regions HH          21279       147496        14.43             \n",
       "28 other              HH          12963       147496         8.79             \n",
       "29 TEs                all CpGs  2828372     23397995        12.09             \n",
       "30 exons              all CpGs  2323389     23397995         9.93             \n",
       "31 introns            all CpGs  5497874     23397995        23.50             \n",
       "32 putative promoters all CpGs   926518     23397995         3.96             \n",
       "33 UTRs               all CpGs   600840     23397995         2.57             \n",
       "34 intergenic regions all CpGs  6644297     23397995        28.40             \n",
       "35 other              all CpGs  4576705     23397995        19.56             \n",
       "   phase1  phase2  \n",
       "1  Control Control \n",
       "2  Control Control \n",
       "3  Control Control \n",
       "4  Control Control \n",
       "5  Control Control \n",
       "6  Control Control \n",
       "7  Control Control \n",
       "8  Control Hypoxic \n",
       "9  Control Hypoxic \n",
       "10 Control Hypoxic \n",
       "11 Control Hypoxic \n",
       "12 Control Hypoxic \n",
       "13 Control Hypoxic \n",
       "14 Control Hypoxic \n",
       "15 Hypoxic Control \n",
       "16 Hypoxic Control \n",
       "17 Hypoxic Control \n",
       "18 Hypoxic Control \n",
       "19 Hypoxic Control \n",
       "20 Hypoxic Control \n",
       "21 Hypoxic Control \n",
       "22 Hypoxic Hypoxic \n",
       "23 Hypoxic Hypoxic \n",
       "24 Hypoxic Hypoxic \n",
       "25 Hypoxic Hypoxic \n",
       "26 Hypoxic Hypoxic \n",
       "27 Hypoxic Hypoxic \n",
       "28 Hypoxic Hypoxic \n",
       "29         All CpGs\n",
       "30         All CpGs\n",
       "31         All CpGs\n",
       "32         All CpGs\n",
       "33         All CpGs\n",
       "34         All CpGs\n",
       "35         All CpGs"
      ]
     },
     "metadata": {},
     "output_type": "display_data"
    }
   ],
   "source": [
    "df"
   ]
  },
  {
   "cell_type": "code",
   "execution_count": 12,
   "id": "6e0beb4e-1b9f-400f-a066-2f3bca6bbd0c",
   "metadata": {},
   "outputs": [
    {
     "data": {
      "text/html": [
       "<table class=\"dataframe\">\n",
       "<caption>A data.frame: 28 × 7</caption>\n",
       "<thead>\n",
       "\t<tr><th scope=col>genomicFeature</th><th scope=col>treatment</th><th scope=col>propOverlap</th><th scope=col>propOverlap_sum</th><th scope=col>proportion_overlap</th><th scope=col>phase1</th><th scope=col>phase2</th></tr>\n",
       "\t<tr><th scope=col>&lt;fct&gt;</th><th scope=col>&lt;chr&gt;</th><th scope=col>&lt;int&gt;</th><th scope=col>&lt;int&gt;</th><th scope=col>&lt;dbl&gt;</th><th scope=col>&lt;chr&gt;</th><th scope=col>&lt;chr&gt;</th></tr>\n",
       "</thead>\n",
       "<tbody>\n",
       "\t<tr><td>TEs               </td><td>CC</td><td>11289</td><td> 97527</td><td>11.58</td><td>Control</td><td>Control</td></tr>\n",
       "\t<tr><td>exons             </td><td>CC</td><td>42577</td><td> 97527</td><td>43.66</td><td>Control</td><td>Control</td></tr>\n",
       "\t<tr><td>introns           </td><td>CC</td><td>19342</td><td> 97527</td><td>19.83</td><td>Control</td><td>Control</td></tr>\n",
       "\t<tr><td>putative promoters</td><td>CC</td><td> 2081</td><td> 97527</td><td> 2.13</td><td>Control</td><td>Control</td></tr>\n",
       "\t<tr><td>UTRs              </td><td>CC</td><td> 2964</td><td> 97527</td><td> 3.04</td><td>Control</td><td>Control</td></tr>\n",
       "\t<tr><td>intergenic regions</td><td>CC</td><td>11929</td><td> 97527</td><td>12.23</td><td>Control</td><td>Control</td></tr>\n",
       "\t<tr><td>other             </td><td>CC</td><td> 7345</td><td> 97527</td><td> 7.53</td><td>Control</td><td>Control</td></tr>\n",
       "\t<tr><td>TEs               </td><td>CH</td><td>13304</td><td>112541</td><td>11.82</td><td>Control</td><td>Hypoxic</td></tr>\n",
       "\t<tr><td>exons             </td><td>CH</td><td>46527</td><td>112541</td><td>41.34</td><td>Control</td><td>Hypoxic</td></tr>\n",
       "\t<tr><td>introns           </td><td>CH</td><td>22545</td><td>112541</td><td>20.03</td><td>Control</td><td>Hypoxic</td></tr>\n",
       "\t<tr><td>putative promoters</td><td>CH</td><td> 2712</td><td>112541</td><td> 2.41</td><td>Control</td><td>Hypoxic</td></tr>\n",
       "\t<tr><td>UTRs              </td><td>CH</td><td> 3250</td><td>112541</td><td> 2.89</td><td>Control</td><td>Hypoxic</td></tr>\n",
       "\t<tr><td>intergenic regions</td><td>CH</td><td>15066</td><td>112541</td><td>13.39</td><td>Control</td><td>Hypoxic</td></tr>\n",
       "\t<tr><td>other             </td><td>CH</td><td> 9137</td><td>112541</td><td> 8.12</td><td>Control</td><td>Hypoxic</td></tr>\n",
       "\t<tr><td>TEs               </td><td>HC</td><td>19594</td><td>159867</td><td>12.26</td><td>Hypoxic</td><td>Control</td></tr>\n",
       "\t<tr><td>exons             </td><td>HC</td><td>57498</td><td>159867</td><td>35.97</td><td>Hypoxic</td><td>Control</td></tr>\n",
       "\t<tr><td>introns           </td><td>HC</td><td>34622</td><td>159867</td><td>21.66</td><td>Hypoxic</td><td>Control</td></tr>\n",
       "\t<tr><td>putative promoters</td><td>HC</td><td> 4177</td><td>159867</td><td> 2.61</td><td>Hypoxic</td><td>Control</td></tr>\n",
       "\t<tr><td>UTRs              </td><td>HC</td><td> 4207</td><td>159867</td><td> 2.63</td><td>Hypoxic</td><td>Control</td></tr>\n",
       "\t<tr><td>intergenic regions</td><td>HC</td><td>24496</td><td>159867</td><td>15.32</td><td>Hypoxic</td><td>Control</td></tr>\n",
       "\t<tr><td>other             </td><td>HC</td><td>15273</td><td>159867</td><td> 9.55</td><td>Hypoxic</td><td>Control</td></tr>\n",
       "\t<tr><td>TEs               </td><td>HH</td><td>18394</td><td>147496</td><td>12.47</td><td>Hypoxic</td><td>Hypoxic</td></tr>\n",
       "\t<tr><td>exons             </td><td>HH</td><td>56100</td><td>147496</td><td>38.03</td><td>Hypoxic</td><td>Hypoxic</td></tr>\n",
       "\t<tr><td>introns           </td><td>HH</td><td>31070</td><td>147496</td><td>21.06</td><td>Hypoxic</td><td>Hypoxic</td></tr>\n",
       "\t<tr><td>putative promoters</td><td>HH</td><td> 3704</td><td>147496</td><td> 2.51</td><td>Hypoxic</td><td>Hypoxic</td></tr>\n",
       "\t<tr><td>UTRs              </td><td>HH</td><td> 3986</td><td>147496</td><td> 2.70</td><td>Hypoxic</td><td>Hypoxic</td></tr>\n",
       "\t<tr><td>intergenic regions</td><td>HH</td><td>21279</td><td>147496</td><td>14.43</td><td>Hypoxic</td><td>Hypoxic</td></tr>\n",
       "\t<tr><td>other             </td><td>HH</td><td>12963</td><td>147496</td><td> 8.79</td><td>Hypoxic</td><td>Hypoxic</td></tr>\n",
       "</tbody>\n",
       "</table>\n"
      ],
      "text/latex": [
       "A data.frame: 28 × 7\n",
       "\\begin{tabular}{lllllll}\n",
       " genomicFeature & treatment & propOverlap & propOverlap\\_sum & proportion\\_overlap & phase1 & phase2\\\\\n",
       " <fct> & <chr> & <int> & <int> & <dbl> & <chr> & <chr>\\\\\n",
       "\\hline\n",
       "\t TEs                & CC & 11289 &  97527 & 11.58 & Control & Control\\\\\n",
       "\t exons              & CC & 42577 &  97527 & 43.66 & Control & Control\\\\\n",
       "\t introns            & CC & 19342 &  97527 & 19.83 & Control & Control\\\\\n",
       "\t putative promoters & CC &  2081 &  97527 &  2.13 & Control & Control\\\\\n",
       "\t UTRs               & CC &  2964 &  97527 &  3.04 & Control & Control\\\\\n",
       "\t intergenic regions & CC & 11929 &  97527 & 12.23 & Control & Control\\\\\n",
       "\t other              & CC &  7345 &  97527 &  7.53 & Control & Control\\\\\n",
       "\t TEs                & CH & 13304 & 112541 & 11.82 & Control & Hypoxic\\\\\n",
       "\t exons              & CH & 46527 & 112541 & 41.34 & Control & Hypoxic\\\\\n",
       "\t introns            & CH & 22545 & 112541 & 20.03 & Control & Hypoxic\\\\\n",
       "\t putative promoters & CH &  2712 & 112541 &  2.41 & Control & Hypoxic\\\\\n",
       "\t UTRs               & CH &  3250 & 112541 &  2.89 & Control & Hypoxic\\\\\n",
       "\t intergenic regions & CH & 15066 & 112541 & 13.39 & Control & Hypoxic\\\\\n",
       "\t other              & CH &  9137 & 112541 &  8.12 & Control & Hypoxic\\\\\n",
       "\t TEs                & HC & 19594 & 159867 & 12.26 & Hypoxic & Control\\\\\n",
       "\t exons              & HC & 57498 & 159867 & 35.97 & Hypoxic & Control\\\\\n",
       "\t introns            & HC & 34622 & 159867 & 21.66 & Hypoxic & Control\\\\\n",
       "\t putative promoters & HC &  4177 & 159867 &  2.61 & Hypoxic & Control\\\\\n",
       "\t UTRs               & HC &  4207 & 159867 &  2.63 & Hypoxic & Control\\\\\n",
       "\t intergenic regions & HC & 24496 & 159867 & 15.32 & Hypoxic & Control\\\\\n",
       "\t other              & HC & 15273 & 159867 &  9.55 & Hypoxic & Control\\\\\n",
       "\t TEs                & HH & 18394 & 147496 & 12.47 & Hypoxic & Hypoxic\\\\\n",
       "\t exons              & HH & 56100 & 147496 & 38.03 & Hypoxic & Hypoxic\\\\\n",
       "\t introns            & HH & 31070 & 147496 & 21.06 & Hypoxic & Hypoxic\\\\\n",
       "\t putative promoters & HH &  3704 & 147496 &  2.51 & Hypoxic & Hypoxic\\\\\n",
       "\t UTRs               & HH &  3986 & 147496 &  2.70 & Hypoxic & Hypoxic\\\\\n",
       "\t intergenic regions & HH & 21279 & 147496 & 14.43 & Hypoxic & Hypoxic\\\\\n",
       "\t other              & HH & 12963 & 147496 &  8.79 & Hypoxic & Hypoxic\\\\\n",
       "\\end{tabular}\n"
      ],
      "text/markdown": [
       "\n",
       "A data.frame: 28 × 7\n",
       "\n",
       "| genomicFeature &lt;fct&gt; | treatment &lt;chr&gt; | propOverlap &lt;int&gt; | propOverlap_sum &lt;int&gt; | proportion_overlap &lt;dbl&gt; | phase1 &lt;chr&gt; | phase2 &lt;chr&gt; |\n",
       "|---|---|---|---|---|---|---|\n",
       "| TEs                | CC | 11289 |  97527 | 11.58 | Control | Control |\n",
       "| exons              | CC | 42577 |  97527 | 43.66 | Control | Control |\n",
       "| introns            | CC | 19342 |  97527 | 19.83 | Control | Control |\n",
       "| putative promoters | CC |  2081 |  97527 |  2.13 | Control | Control |\n",
       "| UTRs               | CC |  2964 |  97527 |  3.04 | Control | Control |\n",
       "| intergenic regions | CC | 11929 |  97527 | 12.23 | Control | Control |\n",
       "| other              | CC |  7345 |  97527 |  7.53 | Control | Control |\n",
       "| TEs                | CH | 13304 | 112541 | 11.82 | Control | Hypoxic |\n",
       "| exons              | CH | 46527 | 112541 | 41.34 | Control | Hypoxic |\n",
       "| introns            | CH | 22545 | 112541 | 20.03 | Control | Hypoxic |\n",
       "| putative promoters | CH |  2712 | 112541 |  2.41 | Control | Hypoxic |\n",
       "| UTRs               | CH |  3250 | 112541 |  2.89 | Control | Hypoxic |\n",
       "| intergenic regions | CH | 15066 | 112541 | 13.39 | Control | Hypoxic |\n",
       "| other              | CH |  9137 | 112541 |  8.12 | Control | Hypoxic |\n",
       "| TEs                | HC | 19594 | 159867 | 12.26 | Hypoxic | Control |\n",
       "| exons              | HC | 57498 | 159867 | 35.97 | Hypoxic | Control |\n",
       "| introns            | HC | 34622 | 159867 | 21.66 | Hypoxic | Control |\n",
       "| putative promoters | HC |  4177 | 159867 |  2.61 | Hypoxic | Control |\n",
       "| UTRs               | HC |  4207 | 159867 |  2.63 | Hypoxic | Control |\n",
       "| intergenic regions | HC | 24496 | 159867 | 15.32 | Hypoxic | Control |\n",
       "| other              | HC | 15273 | 159867 |  9.55 | Hypoxic | Control |\n",
       "| TEs                | HH | 18394 | 147496 | 12.47 | Hypoxic | Hypoxic |\n",
       "| exons              | HH | 56100 | 147496 | 38.03 | Hypoxic | Hypoxic |\n",
       "| introns            | HH | 31070 | 147496 | 21.06 | Hypoxic | Hypoxic |\n",
       "| putative promoters | HH |  3704 | 147496 |  2.51 | Hypoxic | Hypoxic |\n",
       "| UTRs               | HH |  3986 | 147496 |  2.70 | Hypoxic | Hypoxic |\n",
       "| intergenic regions | HH | 21279 | 147496 | 14.43 | Hypoxic | Hypoxic |\n",
       "| other              | HH | 12963 | 147496 |  8.79 | Hypoxic | Hypoxic |\n",
       "\n"
      ],
      "text/plain": [
       "   genomicFeature     treatment propOverlap propOverlap_sum proportion_overlap\n",
       "1  TEs                CC        11289        97527          11.58             \n",
       "2  exons              CC        42577        97527          43.66             \n",
       "3  introns            CC        19342        97527          19.83             \n",
       "4  putative promoters CC         2081        97527           2.13             \n",
       "5  UTRs               CC         2964        97527           3.04             \n",
       "6  intergenic regions CC        11929        97527          12.23             \n",
       "7  other              CC         7345        97527           7.53             \n",
       "8  TEs                CH        13304       112541          11.82             \n",
       "9  exons              CH        46527       112541          41.34             \n",
       "10 introns            CH        22545       112541          20.03             \n",
       "11 putative promoters CH         2712       112541           2.41             \n",
       "12 UTRs               CH         3250       112541           2.89             \n",
       "13 intergenic regions CH        15066       112541          13.39             \n",
       "14 other              CH         9137       112541           8.12             \n",
       "15 TEs                HC        19594       159867          12.26             \n",
       "16 exons              HC        57498       159867          35.97             \n",
       "17 introns            HC        34622       159867          21.66             \n",
       "18 putative promoters HC         4177       159867           2.61             \n",
       "19 UTRs               HC         4207       159867           2.63             \n",
       "20 intergenic regions HC        24496       159867          15.32             \n",
       "21 other              HC        15273       159867           9.55             \n",
       "22 TEs                HH        18394       147496          12.47             \n",
       "23 exons              HH        56100       147496          38.03             \n",
       "24 introns            HH        31070       147496          21.06             \n",
       "25 putative promoters HH         3704       147496           2.51             \n",
       "26 UTRs               HH         3986       147496           2.70             \n",
       "27 intergenic regions HH        21279       147496          14.43             \n",
       "28 other              HH        12963       147496           8.79             \n",
       "   phase1  phase2 \n",
       "1  Control Control\n",
       "2  Control Control\n",
       "3  Control Control\n",
       "4  Control Control\n",
       "5  Control Control\n",
       "6  Control Control\n",
       "7  Control Control\n",
       "8  Control Hypoxic\n",
       "9  Control Hypoxic\n",
       "10 Control Hypoxic\n",
       "11 Control Hypoxic\n",
       "12 Control Hypoxic\n",
       "13 Control Hypoxic\n",
       "14 Control Hypoxic\n",
       "15 Hypoxic Control\n",
       "16 Hypoxic Control\n",
       "17 Hypoxic Control\n",
       "18 Hypoxic Control\n",
       "19 Hypoxic Control\n",
       "20 Hypoxic Control\n",
       "21 Hypoxic Control\n",
       "22 Hypoxic Hypoxic\n",
       "23 Hypoxic Hypoxic\n",
       "24 Hypoxic Hypoxic\n",
       "25 Hypoxic Hypoxic\n",
       "26 Hypoxic Hypoxic\n",
       "27 Hypoxic Hypoxic\n",
       "28 Hypoxic Hypoxic"
      ]
     },
     "metadata": {},
     "output_type": "display_data"
    }
   ],
   "source": [
    "trmt_data <- df %>%\n",
    "filter(phase2 != 'All CpGs')\n",
    "\n",
    "trmt_data"
   ]
  },
  {
   "cell_type": "markdown",
   "id": "2a2c1373-1309-4402-91fc-af97f253e172",
   "metadata": {},
   "source": [
    "function to **make contingency table** of a unique treatment combo vs. all CpGs"
   ]
  },
  {
   "cell_type": "code",
   "execution_count": 13,
   "id": "9b54a0cb-083f-49ae-854d-1abb8192832b",
   "metadata": {},
   "outputs": [],
   "source": [
    "make_contTable <- function(df, trmt) {\n",
    "    # pull out proportion overlap values for the unique treatment \n",
    "new_df <- df %>%\n",
    "    filter(treatment == trmt) %>%\n",
    "    select(genomicFeature, propOverlap) %>%\n",
    "    column_to_rownames(\"genomicFeature\") %>%\n",
    "    rename(trmt = propOverlap)\n",
    "    \n",
    "    # proportion overlap values for all cpgs to compare to\n",
    "all_cpg <- df %>%\n",
    "    filter(treatment == 'all CpGs') %>%\n",
    "    select(genomicFeature, propOverlap) %>%\n",
    "    column_to_rownames(\"genomicFeature\") %>%\n",
    "    rename(all_cpg = propOverlap)\n",
    "    \n",
    "    # merge dfs together to make contigency table\n",
    "merge_df <- cbind(new_df, all_cpg)\n",
    "return(merge_df)\n",
    "    \n",
    "}"
   ]
  },
  {
   "cell_type": "code",
   "execution_count": 40,
   "id": "fd1110d0-005d-42ce-ab2f-ff9e107631f5",
   "metadata": {},
   "outputs": [
    {
     "data": {
      "text/html": [
       "<table class=\"dataframe\">\n",
       "<caption>A data.frame: 7 × 2</caption>\n",
       "<thead>\n",
       "\t<tr><th></th><th scope=col>trmt</th><th scope=col>all_cpg</th></tr>\n",
       "\t<tr><th></th><th scope=col>&lt;int&gt;</th><th scope=col>&lt;int&gt;</th></tr>\n",
       "</thead>\n",
       "<tbody>\n",
       "\t<tr><th scope=row>TEs</th><td>11289</td><td>2828372</td></tr>\n",
       "\t<tr><th scope=row>exons</th><td>42577</td><td>2323389</td></tr>\n",
       "\t<tr><th scope=row>introns</th><td>19342</td><td>5497874</td></tr>\n",
       "\t<tr><th scope=row>putative promoters</th><td> 2081</td><td> 926518</td></tr>\n",
       "\t<tr><th scope=row>UTRs</th><td> 2964</td><td> 600840</td></tr>\n",
       "\t<tr><th scope=row>intergenic regions</th><td>11929</td><td>6644297</td></tr>\n",
       "\t<tr><th scope=row>other</th><td> 7345</td><td>4576705</td></tr>\n",
       "</tbody>\n",
       "</table>\n"
      ],
      "text/latex": [
       "A data.frame: 7 × 2\n",
       "\\begin{tabular}{r|ll}\n",
       "  & trmt & all\\_cpg\\\\\n",
       "  & <int> & <int>\\\\\n",
       "\\hline\n",
       "\tTEs & 11289 & 2828372\\\\\n",
       "\texons & 42577 & 2323389\\\\\n",
       "\tintrons & 19342 & 5497874\\\\\n",
       "\tputative promoters &  2081 &  926518\\\\\n",
       "\tUTRs &  2964 &  600840\\\\\n",
       "\tintergenic regions & 11929 & 6644297\\\\\n",
       "\tother &  7345 & 4576705\\\\\n",
       "\\end{tabular}\n"
      ],
      "text/markdown": [
       "\n",
       "A data.frame: 7 × 2\n",
       "\n",
       "| <!--/--> | trmt &lt;int&gt; | all_cpg &lt;int&gt; |\n",
       "|---|---|---|\n",
       "| TEs | 11289 | 2828372 |\n",
       "| exons | 42577 | 2323389 |\n",
       "| introns | 19342 | 5497874 |\n",
       "| putative promoters |  2081 |  926518 |\n",
       "| UTRs |  2964 |  600840 |\n",
       "| intergenic regions | 11929 | 6644297 |\n",
       "| other |  7345 | 4576705 |\n",
       "\n"
      ],
      "text/plain": [
       "                   trmt  all_cpg\n",
       "TEs                11289 2828372\n",
       "exons              42577 2323389\n",
       "introns            19342 5497874\n",
       "putative promoters  2081  926518\n",
       "UTRs                2964  600840\n",
       "intergenic regions 11929 6644297\n",
       "other               7345 4576705"
      ]
     },
     "metadata": {},
     "output_type": "display_data"
    },
    {
     "data": {
      "text/html": [
       "<table class=\"dataframe\">\n",
       "<caption>A data.frame: 7 × 2</caption>\n",
       "<thead>\n",
       "\t<tr><th></th><th scope=col>trmt</th><th scope=col>all_cpg</th></tr>\n",
       "\t<tr><th></th><th scope=col>&lt;int&gt;</th><th scope=col>&lt;int&gt;</th></tr>\n",
       "</thead>\n",
       "<tbody>\n",
       "\t<tr><th scope=row>TEs</th><td>13304</td><td>2828372</td></tr>\n",
       "\t<tr><th scope=row>exons</th><td>46527</td><td>2323389</td></tr>\n",
       "\t<tr><th scope=row>introns</th><td>22545</td><td>5497874</td></tr>\n",
       "\t<tr><th scope=row>putative promoters</th><td> 2712</td><td> 926518</td></tr>\n",
       "\t<tr><th scope=row>UTRs</th><td> 3250</td><td> 600840</td></tr>\n",
       "\t<tr><th scope=row>intergenic regions</th><td>15066</td><td>6644297</td></tr>\n",
       "\t<tr><th scope=row>other</th><td> 9137</td><td>4576705</td></tr>\n",
       "</tbody>\n",
       "</table>\n"
      ],
      "text/latex": [
       "A data.frame: 7 × 2\n",
       "\\begin{tabular}{r|ll}\n",
       "  & trmt & all\\_cpg\\\\\n",
       "  & <int> & <int>\\\\\n",
       "\\hline\n",
       "\tTEs & 13304 & 2828372\\\\\n",
       "\texons & 46527 & 2323389\\\\\n",
       "\tintrons & 22545 & 5497874\\\\\n",
       "\tputative promoters &  2712 &  926518\\\\\n",
       "\tUTRs &  3250 &  600840\\\\\n",
       "\tintergenic regions & 15066 & 6644297\\\\\n",
       "\tother &  9137 & 4576705\\\\\n",
       "\\end{tabular}\n"
      ],
      "text/markdown": [
       "\n",
       "A data.frame: 7 × 2\n",
       "\n",
       "| <!--/--> | trmt &lt;int&gt; | all_cpg &lt;int&gt; |\n",
       "|---|---|---|\n",
       "| TEs | 13304 | 2828372 |\n",
       "| exons | 46527 | 2323389 |\n",
       "| introns | 22545 | 5497874 |\n",
       "| putative promoters |  2712 |  926518 |\n",
       "| UTRs |  3250 |  600840 |\n",
       "| intergenic regions | 15066 | 6644297 |\n",
       "| other |  9137 | 4576705 |\n",
       "\n"
      ],
      "text/plain": [
       "                   trmt  all_cpg\n",
       "TEs                13304 2828372\n",
       "exons              46527 2323389\n",
       "introns            22545 5497874\n",
       "putative promoters  2712  926518\n",
       "UTRs                3250  600840\n",
       "intergenic regions 15066 6644297\n",
       "other               9137 4576705"
      ]
     },
     "metadata": {},
     "output_type": "display_data"
    },
    {
     "data": {
      "text/html": [
       "<table class=\"dataframe\">\n",
       "<caption>A data.frame: 7 × 2</caption>\n",
       "<thead>\n",
       "\t<tr><th></th><th scope=col>trmt</th><th scope=col>all_cpg</th></tr>\n",
       "\t<tr><th></th><th scope=col>&lt;int&gt;</th><th scope=col>&lt;int&gt;</th></tr>\n",
       "</thead>\n",
       "<tbody>\n",
       "\t<tr><th scope=row>TEs</th><td>19594</td><td>2828372</td></tr>\n",
       "\t<tr><th scope=row>exons</th><td>57498</td><td>2323389</td></tr>\n",
       "\t<tr><th scope=row>introns</th><td>34622</td><td>5497874</td></tr>\n",
       "\t<tr><th scope=row>putative promoters</th><td> 4177</td><td> 926518</td></tr>\n",
       "\t<tr><th scope=row>UTRs</th><td> 4207</td><td> 600840</td></tr>\n",
       "\t<tr><th scope=row>intergenic regions</th><td>24496</td><td>6644297</td></tr>\n",
       "\t<tr><th scope=row>other</th><td>15273</td><td>4576705</td></tr>\n",
       "</tbody>\n",
       "</table>\n"
      ],
      "text/latex": [
       "A data.frame: 7 × 2\n",
       "\\begin{tabular}{r|ll}\n",
       "  & trmt & all\\_cpg\\\\\n",
       "  & <int> & <int>\\\\\n",
       "\\hline\n",
       "\tTEs & 19594 & 2828372\\\\\n",
       "\texons & 57498 & 2323389\\\\\n",
       "\tintrons & 34622 & 5497874\\\\\n",
       "\tputative promoters &  4177 &  926518\\\\\n",
       "\tUTRs &  4207 &  600840\\\\\n",
       "\tintergenic regions & 24496 & 6644297\\\\\n",
       "\tother & 15273 & 4576705\\\\\n",
       "\\end{tabular}\n"
      ],
      "text/markdown": [
       "\n",
       "A data.frame: 7 × 2\n",
       "\n",
       "| <!--/--> | trmt &lt;int&gt; | all_cpg &lt;int&gt; |\n",
       "|---|---|---|\n",
       "| TEs | 19594 | 2828372 |\n",
       "| exons | 57498 | 2323389 |\n",
       "| introns | 34622 | 5497874 |\n",
       "| putative promoters |  4177 |  926518 |\n",
       "| UTRs |  4207 |  600840 |\n",
       "| intergenic regions | 24496 | 6644297 |\n",
       "| other | 15273 | 4576705 |\n",
       "\n"
      ],
      "text/plain": [
       "                   trmt  all_cpg\n",
       "TEs                19594 2828372\n",
       "exons              57498 2323389\n",
       "introns            34622 5497874\n",
       "putative promoters  4177  926518\n",
       "UTRs                4207  600840\n",
       "intergenic regions 24496 6644297\n",
       "other              15273 4576705"
      ]
     },
     "metadata": {},
     "output_type": "display_data"
    },
    {
     "data": {
      "text/html": [
       "<table class=\"dataframe\">\n",
       "<caption>A data.frame: 7 × 2</caption>\n",
       "<thead>\n",
       "\t<tr><th></th><th scope=col>trmt</th><th scope=col>all_cpg</th></tr>\n",
       "\t<tr><th></th><th scope=col>&lt;int&gt;</th><th scope=col>&lt;int&gt;</th></tr>\n",
       "</thead>\n",
       "<tbody>\n",
       "\t<tr><th scope=row>TEs</th><td>18394</td><td>2828372</td></tr>\n",
       "\t<tr><th scope=row>exons</th><td>56100</td><td>2323389</td></tr>\n",
       "\t<tr><th scope=row>introns</th><td>31070</td><td>5497874</td></tr>\n",
       "\t<tr><th scope=row>putative promoters</th><td> 3704</td><td> 926518</td></tr>\n",
       "\t<tr><th scope=row>UTRs</th><td> 3986</td><td> 600840</td></tr>\n",
       "\t<tr><th scope=row>intergenic regions</th><td>21279</td><td>6644297</td></tr>\n",
       "\t<tr><th scope=row>other</th><td>12963</td><td>4576705</td></tr>\n",
       "</tbody>\n",
       "</table>\n"
      ],
      "text/latex": [
       "A data.frame: 7 × 2\n",
       "\\begin{tabular}{r|ll}\n",
       "  & trmt & all\\_cpg\\\\\n",
       "  & <int> & <int>\\\\\n",
       "\\hline\n",
       "\tTEs & 18394 & 2828372\\\\\n",
       "\texons & 56100 & 2323389\\\\\n",
       "\tintrons & 31070 & 5497874\\\\\n",
       "\tputative promoters &  3704 &  926518\\\\\n",
       "\tUTRs &  3986 &  600840\\\\\n",
       "\tintergenic regions & 21279 & 6644297\\\\\n",
       "\tother & 12963 & 4576705\\\\\n",
       "\\end{tabular}\n"
      ],
      "text/markdown": [
       "\n",
       "A data.frame: 7 × 2\n",
       "\n",
       "| <!--/--> | trmt &lt;int&gt; | all_cpg &lt;int&gt; |\n",
       "|---|---|---|\n",
       "| TEs | 18394 | 2828372 |\n",
       "| exons | 56100 | 2323389 |\n",
       "| introns | 31070 | 5497874 |\n",
       "| putative promoters |  3704 |  926518 |\n",
       "| UTRs |  3986 |  600840 |\n",
       "| intergenic regions | 21279 | 6644297 |\n",
       "| other | 12963 | 4576705 |\n",
       "\n"
      ],
      "text/plain": [
       "                   trmt  all_cpg\n",
       "TEs                18394 2828372\n",
       "exons              56100 2323389\n",
       "introns            31070 5497874\n",
       "putative promoters  3704  926518\n",
       "UTRs                3986  600840\n",
       "intergenic regions 21279 6644297\n",
       "other              12963 4576705"
      ]
     },
     "metadata": {},
     "output_type": "display_data"
    }
   ],
   "source": [
    "CC_cont <- make_contTable(df, 'CC')\n",
    "CC_cont\n",
    "\n",
    "CH_cont <- make_contTable(df, 'CH')\n",
    "CH_cont\n",
    "\n",
    "HC_cont <- make_contTable(df, 'HC')\n",
    "HC_cont\n",
    "\n",
    "HH_cont <- make_contTable(df, 'HH')\n",
    "HH_cont"
   ]
  },
  {
   "cell_type": "markdown",
   "id": "b1a43c62-f5fd-4511-85e6-99abfda69d2b",
   "metadata": {},
   "source": [
    "chi-square test "
   ]
  },
  {
   "cell_type": "code",
   "execution_count": 42,
   "id": "efb1326a-a48e-49e5-af7c-b56969559c73",
   "metadata": {},
   "outputs": [
    {
     "data": {
      "text/plain": [
       "\n",
       "\tPearson's Chi-squared test\n",
       "\n",
       "data:  CC_cont\n",
       "X-squared = 127351, df = 6, p-value < 2.2e-16\n"
      ]
     },
     "metadata": {},
     "output_type": "display_data"
    },
    {
     "data": {
      "text/plain": [
       "\n",
       "\tPearson's Chi-squared test\n",
       "\n",
       "data:  CH_cont\n",
       "X-squared = 127367, df = 6, p-value < 2.2e-16\n"
      ]
     },
     "metadata": {},
     "output_type": "display_data"
    },
    {
     "data": {
      "text/plain": [
       "\n",
       "\tPearson's Chi-squared test\n",
       "\n",
       "data:  HC_cont\n",
       "X-squared = 125211, df = 6, p-value < 2.2e-16\n"
      ]
     },
     "metadata": {},
     "output_type": "display_data"
    },
    {
     "data": {
      "text/plain": [
       "\n",
       "\tPearson's Chi-squared test\n",
       "\n",
       "data:  HH_cont\n",
       "X-squared = 134568, df = 6, p-value < 2.2e-16\n"
      ]
     },
     "metadata": {},
     "output_type": "display_data"
    }
   ],
   "source": [
    "chisq.test(CC_cont)\n",
    "\n",
    "chisq.test(CH_cont)\n",
    "\n",
    "chisq.test(HC_cont)\n",
    "\n",
    "chisq.test(HH_cont)"
   ]
  },
  {
   "cell_type": "markdown",
   "id": "926b10b4-5af2-4121-b23c-56823d76bb49",
   "metadata": {},
   "source": [
    "### chi-square between treatment combos\n",
    "\n",
    "visually, it appears that the proportions are different for the oysters that experienced a first exposure to hypoxia - wondering if there's statistically significant differences between treatment combinations"
   ]
  },
  {
   "cell_type": "code",
   "execution_count": 16,
   "id": "60df77fe-7245-4b29-bda1-3aac79c66dae",
   "metadata": {},
   "outputs": [],
   "source": [
    "make_contTable <- function(df, trmt1, trmt2) {\n",
    "    # pull out proportion overlap values for first unique treatment \n",
    "t1 <- df %>%\n",
    "    filter(treatment == trmt1) %>%\n",
    "    select(genomicFeature, propOverlap) %>%\n",
    "    column_to_rownames(\"genomicFeature\") %>%\n",
    "    rename(trmt1 = propOverlap)\n",
    "    \n",
    "    # pull out proportion overlap values for second unique treatment \n",
    "t2 <- df %>%\n",
    "    filter(treatment == trmt2) %>%\n",
    "    select(genomicFeature, propOverlap) %>%\n",
    "    column_to_rownames(\"genomicFeature\") %>%\n",
    "    rename(trmt2 = propOverlap)\n",
    "    \n",
    "    # merge dfs together to make contigency table\n",
    "merge_df <- cbind(t1, t2)\n",
    "return(merge_df)\n",
    "    \n",
    "}"
   ]
  },
  {
   "cell_type": "code",
   "execution_count": 26,
   "id": "577d1cea-d23c-47ee-9729-7cddaa9fd977",
   "metadata": {},
   "outputs": [
    {
     "data": {
      "text/html": [
       "<table class=\"dataframe\">\n",
       "<caption>A data.frame: 7 × 2</caption>\n",
       "<thead>\n",
       "\t<tr><th scope=col>propOverlap</th><th scope=col>treatment</th></tr>\n",
       "\t<tr><th scope=col>&lt;int&gt;</th><th scope=col>&lt;chr&gt;</th></tr>\n",
       "</thead>\n",
       "<tbody>\n",
       "\t<tr><td>13304</td><td>CH</td></tr>\n",
       "\t<tr><td>46527</td><td>CH</td></tr>\n",
       "\t<tr><td>22545</td><td>CH</td></tr>\n",
       "\t<tr><td> 2712</td><td>CH</td></tr>\n",
       "\t<tr><td> 3250</td><td>CH</td></tr>\n",
       "\t<tr><td>15066</td><td>CH</td></tr>\n",
       "\t<tr><td> 9137</td><td>CH</td></tr>\n",
       "</tbody>\n",
       "</table>\n"
      ],
      "text/latex": [
       "A data.frame: 7 × 2\n",
       "\\begin{tabular}{ll}\n",
       " propOverlap & treatment\\\\\n",
       " <int> & <chr>\\\\\n",
       "\\hline\n",
       "\t 13304 & CH\\\\\n",
       "\t 46527 & CH\\\\\n",
       "\t 22545 & CH\\\\\n",
       "\t  2712 & CH\\\\\n",
       "\t  3250 & CH\\\\\n",
       "\t 15066 & CH\\\\\n",
       "\t  9137 & CH\\\\\n",
       "\\end{tabular}\n"
      ],
      "text/markdown": [
       "\n",
       "A data.frame: 7 × 2\n",
       "\n",
       "| propOverlap &lt;int&gt; | treatment &lt;chr&gt; |\n",
       "|---|---|\n",
       "| 13304 | CH |\n",
       "| 46527 | CH |\n",
       "| 22545 | CH |\n",
       "|  2712 | CH |\n",
       "|  3250 | CH |\n",
       "| 15066 | CH |\n",
       "|  9137 | CH |\n",
       "\n"
      ],
      "text/plain": [
       "  propOverlap treatment\n",
       "1 13304       CH       \n",
       "2 46527       CH       \n",
       "3 22545       CH       \n",
       "4  2712       CH       \n",
       "5  3250       CH       \n",
       "6 15066       CH       \n",
       "7  9137       CH       "
      ]
     },
     "metadata": {},
     "output_type": "display_data"
    }
   ],
   "source": [
    "df |> filter(treatment == 'CH') |> select(propOverlap, treatment)"
   ]
  },
  {
   "cell_type": "code",
   "execution_count": 27,
   "id": "e9ef732b-3957-4fbe-9df7-8763b01a00c0",
   "metadata": {},
   "outputs": [
    {
     "data": {
      "text/html": [
       "<table class=\"dataframe\">\n",
       "<caption>A data.frame: 7 × 2</caption>\n",
       "<thead>\n",
       "\t<tr><th></th><th scope=col>trmt1</th><th scope=col>trmt2</th></tr>\n",
       "\t<tr><th></th><th scope=col>&lt;int&gt;</th><th scope=col>&lt;int&gt;</th></tr>\n",
       "</thead>\n",
       "<tbody>\n",
       "\t<tr><th scope=row>TEs</th><td>11289</td><td>13304</td></tr>\n",
       "\t<tr><th scope=row>exons</th><td>42577</td><td>46527</td></tr>\n",
       "\t<tr><th scope=row>introns</th><td>19342</td><td>22545</td></tr>\n",
       "\t<tr><th scope=row>putative promoters</th><td> 2081</td><td> 2712</td></tr>\n",
       "\t<tr><th scope=row>UTRs</th><td> 2964</td><td> 3250</td></tr>\n",
       "\t<tr><th scope=row>intergenic regions</th><td>11929</td><td>15066</td></tr>\n",
       "\t<tr><th scope=row>other</th><td> 7345</td><td> 9137</td></tr>\n",
       "</tbody>\n",
       "</table>\n"
      ],
      "text/latex": [
       "A data.frame: 7 × 2\n",
       "\\begin{tabular}{r|ll}\n",
       "  & trmt1 & trmt2\\\\\n",
       "  & <int> & <int>\\\\\n",
       "\\hline\n",
       "\tTEs & 11289 & 13304\\\\\n",
       "\texons & 42577 & 46527\\\\\n",
       "\tintrons & 19342 & 22545\\\\\n",
       "\tputative promoters &  2081 &  2712\\\\\n",
       "\tUTRs &  2964 &  3250\\\\\n",
       "\tintergenic regions & 11929 & 15066\\\\\n",
       "\tother &  7345 &  9137\\\\\n",
       "\\end{tabular}\n"
      ],
      "text/markdown": [
       "\n",
       "A data.frame: 7 × 2\n",
       "\n",
       "| <!--/--> | trmt1 &lt;int&gt; | trmt2 &lt;int&gt; |\n",
       "|---|---|---|\n",
       "| TEs | 11289 | 13304 |\n",
       "| exons | 42577 | 46527 |\n",
       "| introns | 19342 | 22545 |\n",
       "| putative promoters |  2081 |  2712 |\n",
       "| UTRs |  2964 |  3250 |\n",
       "| intergenic regions | 11929 | 15066 |\n",
       "| other |  7345 |  9137 |\n",
       "\n"
      ],
      "text/plain": [
       "                   trmt1 trmt2\n",
       "TEs                11289 13304\n",
       "exons              42577 46527\n",
       "introns            19342 22545\n",
       "putative promoters  2081  2712\n",
       "UTRs                2964  3250\n",
       "intergenic regions 11929 15066\n",
       "other               7345  9137"
      ]
     },
     "metadata": {},
     "output_type": "display_data"
    }
   ],
   "source": [
    "make_contTable(df, 'CC', 'CH')"
   ]
  },
  {
   "cell_type": "code",
   "execution_count": 21,
   "id": "434e62a8-ce14-4496-9ec1-361199faa218",
   "metadata": {},
   "outputs": [
    {
     "name": "stdout",
     "output_type": "stream",
     "text": [
      "[1] \"CC vs. CH\"\n"
     ]
    },
    {
     "data": {
      "text/plain": [
       "\n",
       "\tPearson's Chi-squared test\n",
       "\n",
       "data:  make_contTable(df, \"CC\", \"CH\")\n",
       "X-squared = 168.52, df = 6, p-value < 2.2e-16\n"
      ]
     },
     "metadata": {},
     "output_type": "display_data"
    },
    {
     "name": "stdout",
     "output_type": "stream",
     "text": [
      "[1] \"CC vs. HC\"\n"
     ]
    },
    {
     "data": {
      "text/plain": [
       "\n",
       "\tPearson's Chi-squared test\n",
       "\n",
       "data:  make_contTable(df, \"CC\", \"HC\")\n",
       "X-squared = 1825.3, df = 6, p-value < 2.2e-16\n"
      ]
     },
     "metadata": {},
     "output_type": "display_data"
    },
    {
     "name": "stdout",
     "output_type": "stream",
     "text": [
      "[1] \"HH vs. HC\"\n"
     ]
    },
    {
     "data": {
      "text/plain": [
       "\n",
       "\tPearson's Chi-squared test\n",
       "\n",
       "data:  make_contTable(df, \"HH\", \"HC\")\n",
       "X-squared = 198.99, df = 6, p-value < 2.2e-16\n"
      ]
     },
     "metadata": {},
     "output_type": "display_data"
    },
    {
     "name": "stdout",
     "output_type": "stream",
     "text": [
      "[1] \"HH vs. CH\"\n"
     ]
    },
    {
     "data": {
      "text/plain": [
       "\n",
       "\tPearson's Chi-squared test\n",
       "\n",
       "data:  make_contTable(df, \"HH\", \"CH\")\n",
       "X-squared = 325.62, df = 6, p-value < 2.2e-16\n"
      ]
     },
     "metadata": {},
     "output_type": "display_data"
    },
    {
     "name": "stdout",
     "output_type": "stream",
     "text": [
      "[1] \"CH vs. HC\"\n"
     ]
    },
    {
     "data": {
      "text/plain": [
       "\n",
       "\tPearson's Chi-squared test\n",
       "\n",
       "data:  make_contTable(df, \"CH\", \"HC\")\n",
       "X-squared = 941.96, df = 6, p-value < 2.2e-16\n"
      ]
     },
     "metadata": {},
     "output_type": "display_data"
    },
    {
     "name": "stdout",
     "output_type": "stream",
     "text": [
      "[1] \"CC vs. HH\"\n"
     ]
    },
    {
     "data": {
      "text/plain": [
       "\n",
       "\tPearson's Chi-squared test\n",
       "\n",
       "data:  make_contTable(df, \"CC\", \"HH\")\n",
       "X-squared = 922.6, df = 6, p-value < 2.2e-16\n"
      ]
     },
     "metadata": {},
     "output_type": "display_data"
    }
   ],
   "source": [
    "print('CC vs. CH')\n",
    "chisq.test(make_contTable(df, 'CC', 'CH'))\n",
    "\n",
    "print('CC vs. HC')\n",
    "chisq.test(make_contTable(df, 'CC', 'HC'))\n",
    "\n",
    "print('HH vs. HC')\n",
    "chisq.test(make_contTable(df, 'HH', 'HC'))\n",
    "\n",
    "print('HH vs. CH')\n",
    "chisq.test(make_contTable(df, 'HH', 'CH'))\n",
    "\n",
    "print('CH vs. HC')\n",
    "chisq.test(make_contTable(df, 'CH', 'HC'))\n",
    "\n",
    "print('CC vs. HH')\n",
    "chisq.test(make_contTable(df, 'CC', 'HH'))"
   ]
  },
  {
   "cell_type": "markdown",
   "id": "a6930a70-e73a-4430-948c-634e6e44c3ea",
   "metadata": {},
   "source": [
    "I don't think this is the right way to do this.....?"
   ]
  },
  {
   "cell_type": "markdown",
   "id": "552f705d-4895-4ab4-a082-600caa7ab294",
   "metadata": {},
   "source": [
    "## stat exploration for proportion overlap"
   ]
  },
  {
   "cell_type": "markdown",
   "id": "e2757dbf-f3c8-4a84-9a51-bbb1b10c3e23",
   "metadata": {},
   "source": [
    "for **exons**"
   ]
  },
  {
   "cell_type": "code",
   "execution_count": 30,
   "id": "5cc9930a-b546-4ef6-acb2-f9175b3cf341",
   "metadata": {},
   "outputs": [
    {
     "data": {
      "text/html": [
       "<table class=\"dataframe\">\n",
       "<caption>A data.frame: 5 × 5</caption>\n",
       "<thead>\n",
       "\t<tr><th scope=col>genomicFeature</th><th scope=col>treatment</th><th scope=col>propOverlap</th><th scope=col>propOverlap_sum</th><th scope=col>proportion_overlap</th></tr>\n",
       "\t<tr><th scope=col>&lt;fct&gt;</th><th scope=col>&lt;chr&gt;</th><th scope=col>&lt;int&gt;</th><th scope=col>&lt;int&gt;</th><th scope=col>&lt;dbl&gt;</th></tr>\n",
       "</thead>\n",
       "<tbody>\n",
       "\t<tr><td>exons</td><td>CC      </td><td>  42577</td><td>   97527</td><td>43.66</td></tr>\n",
       "\t<tr><td>exons</td><td>CH      </td><td>  46527</td><td>  112541</td><td>41.34</td></tr>\n",
       "\t<tr><td>exons</td><td>HC      </td><td>  57498</td><td>  159867</td><td>35.97</td></tr>\n",
       "\t<tr><td>exons</td><td>HH      </td><td>  56100</td><td>  147496</td><td>38.03</td></tr>\n",
       "\t<tr><td>exons</td><td>all CpGs</td><td>2323389</td><td>23397995</td><td> 9.93</td></tr>\n",
       "</tbody>\n",
       "</table>\n"
      ],
      "text/latex": [
       "A data.frame: 5 × 5\n",
       "\\begin{tabular}{lllll}\n",
       " genomicFeature & treatment & propOverlap & propOverlap\\_sum & proportion\\_overlap\\\\\n",
       " <fct> & <chr> & <int> & <int> & <dbl>\\\\\n",
       "\\hline\n",
       "\t exons & CC       &   42577 &    97527 & 43.66\\\\\n",
       "\t exons & CH       &   46527 &   112541 & 41.34\\\\\n",
       "\t exons & HC       &   57498 &   159867 & 35.97\\\\\n",
       "\t exons & HH       &   56100 &   147496 & 38.03\\\\\n",
       "\t exons & all CpGs & 2323389 & 23397995 &  9.93\\\\\n",
       "\\end{tabular}\n"
      ],
      "text/markdown": [
       "\n",
       "A data.frame: 5 × 5\n",
       "\n",
       "| genomicFeature &lt;fct&gt; | treatment &lt;chr&gt; | propOverlap &lt;int&gt; | propOverlap_sum &lt;int&gt; | proportion_overlap &lt;dbl&gt; |\n",
       "|---|---|---|---|---|\n",
       "| exons | CC       |   42577 |    97527 | 43.66 |\n",
       "| exons | CH       |   46527 |   112541 | 41.34 |\n",
       "| exons | HC       |   57498 |   159867 | 35.97 |\n",
       "| exons | HH       |   56100 |   147496 | 38.03 |\n",
       "| exons | all CpGs | 2323389 | 23397995 |  9.93 |\n",
       "\n"
      ],
      "text/plain": [
       "  genomicFeature treatment propOverlap propOverlap_sum proportion_overlap\n",
       "1 exons          CC          42577        97527        43.66             \n",
       "2 exons          CH          46527       112541        41.34             \n",
       "3 exons          HC          57498       159867        35.97             \n",
       "4 exons          HH          56100       147496        38.03             \n",
       "5 exons          all CpGs  2323389     23397995         9.93             "
      ]
     },
     "metadata": {},
     "output_type": "display_data"
    }
   ],
   "source": [
    "# pull out only exons\n",
    "exons <- df %>%\n",
    "filter(genomicFeature == 'exons')\n",
    "\n",
    "exons"
   ]
  },
  {
   "cell_type": "code",
   "execution_count": 35,
   "id": "67217f25-5276-4321-b02e-0c45c9b88656",
   "metadata": {},
   "outputs": [
    {
     "data": {
      "text/html": [
       "<table class=\"dataframe\">\n",
       "<caption>A data.frame: 1 × 1</caption>\n",
       "<thead>\n",
       "\t<tr><th scope=col>mean_overlap</th></tr>\n",
       "\t<tr><th scope=col>&lt;dbl&gt;</th></tr>\n",
       "</thead>\n",
       "<tbody>\n",
       "\t<tr><td>39.75</td></tr>\n",
       "</tbody>\n",
       "</table>\n"
      ],
      "text/latex": [
       "A data.frame: 1 × 1\n",
       "\\begin{tabular}{l}\n",
       " mean\\_overlap\\\\\n",
       " <dbl>\\\\\n",
       "\\hline\n",
       "\t 39.75\\\\\n",
       "\\end{tabular}\n"
      ],
      "text/markdown": [
       "\n",
       "A data.frame: 1 × 1\n",
       "\n",
       "| mean_overlap &lt;dbl&gt; |\n",
       "|---|\n",
       "| 39.75 |\n",
       "\n"
      ],
      "text/plain": [
       "  mean_overlap\n",
       "1 39.75       "
      ]
     },
     "metadata": {},
     "output_type": "display_data"
    }
   ],
   "source": [
    "exons %>%\n",
    "  filter(treatment != 'all CpGs') %>% # remove all CpGs info\n",
    "  summarise(mean_overlap = mean(proportion_overlap)) # mean proportion overlap of exons in experimental groups"
   ]
  },
  {
   "cell_type": "markdown",
   "id": "903246a0-425c-4ba2-a050-e8b075facb22",
   "metadata": {},
   "source": [
    "9.93% of all CpGs overlap with exons\n",
    "\n",
    "39.75% of methylated CpGs overlap with exons"
   ]
  },
  {
   "cell_type": "markdown",
   "id": "4aac7200-8cbd-4c36-8d1e-b8fe36b3fa53",
   "metadata": {},
   "source": [
    "**intergenic regions**"
   ]
  },
  {
   "cell_type": "code",
   "execution_count": 36,
   "id": "2152fef3-d9f2-4865-bfad-aad8605ba274",
   "metadata": {},
   "outputs": [
    {
     "data": {
      "text/html": [
       "<table class=\"dataframe\">\n",
       "<caption>A data.frame: 5 × 5</caption>\n",
       "<thead>\n",
       "\t<tr><th scope=col>genomicFeature</th><th scope=col>treatment</th><th scope=col>propOverlap</th><th scope=col>propOverlap_sum</th><th scope=col>proportion_overlap</th></tr>\n",
       "\t<tr><th scope=col>&lt;fct&gt;</th><th scope=col>&lt;chr&gt;</th><th scope=col>&lt;int&gt;</th><th scope=col>&lt;int&gt;</th><th scope=col>&lt;dbl&gt;</th></tr>\n",
       "</thead>\n",
       "<tbody>\n",
       "\t<tr><td>intergenic regions</td><td>CC      </td><td>  11929</td><td>   97527</td><td>12.23</td></tr>\n",
       "\t<tr><td>intergenic regions</td><td>CH      </td><td>  15066</td><td>  112541</td><td>13.39</td></tr>\n",
       "\t<tr><td>intergenic regions</td><td>HC      </td><td>  24496</td><td>  159867</td><td>15.32</td></tr>\n",
       "\t<tr><td>intergenic regions</td><td>HH      </td><td>  21279</td><td>  147496</td><td>14.43</td></tr>\n",
       "\t<tr><td>intergenic regions</td><td>all CpGs</td><td>6644297</td><td>23397995</td><td>28.40</td></tr>\n",
       "</tbody>\n",
       "</table>\n"
      ],
      "text/latex": [
       "A data.frame: 5 × 5\n",
       "\\begin{tabular}{lllll}\n",
       " genomicFeature & treatment & propOverlap & propOverlap\\_sum & proportion\\_overlap\\\\\n",
       " <fct> & <chr> & <int> & <int> & <dbl>\\\\\n",
       "\\hline\n",
       "\t intergenic regions & CC       &   11929 &    97527 & 12.23\\\\\n",
       "\t intergenic regions & CH       &   15066 &   112541 & 13.39\\\\\n",
       "\t intergenic regions & HC       &   24496 &   159867 & 15.32\\\\\n",
       "\t intergenic regions & HH       &   21279 &   147496 & 14.43\\\\\n",
       "\t intergenic regions & all CpGs & 6644297 & 23397995 & 28.40\\\\\n",
       "\\end{tabular}\n"
      ],
      "text/markdown": [
       "\n",
       "A data.frame: 5 × 5\n",
       "\n",
       "| genomicFeature &lt;fct&gt; | treatment &lt;chr&gt; | propOverlap &lt;int&gt; | propOverlap_sum &lt;int&gt; | proportion_overlap &lt;dbl&gt; |\n",
       "|---|---|---|---|---|\n",
       "| intergenic regions | CC       |   11929 |    97527 | 12.23 |\n",
       "| intergenic regions | CH       |   15066 |   112541 | 13.39 |\n",
       "| intergenic regions | HC       |   24496 |   159867 | 15.32 |\n",
       "| intergenic regions | HH       |   21279 |   147496 | 14.43 |\n",
       "| intergenic regions | all CpGs | 6644297 | 23397995 | 28.40 |\n",
       "\n"
      ],
      "text/plain": [
       "  genomicFeature     treatment propOverlap propOverlap_sum proportion_overlap\n",
       "1 intergenic regions CC          11929        97527        12.23             \n",
       "2 intergenic regions CH          15066       112541        13.39             \n",
       "3 intergenic regions HC          24496       159867        15.32             \n",
       "4 intergenic regions HH          21279       147496        14.43             \n",
       "5 intergenic regions all CpGs  6644297     23397995        28.40             "
      ]
     },
     "metadata": {},
     "output_type": "display_data"
    }
   ],
   "source": [
    "# pull out only exons\n",
    "IR <- df %>%\n",
    "filter(genomicFeature == 'intergenic regions')\n",
    "\n",
    "IR"
   ]
  },
  {
   "cell_type": "code",
   "execution_count": 37,
   "id": "60b489ec-9679-4815-bf42-36d79e76b8c6",
   "metadata": {},
   "outputs": [
    {
     "data": {
      "text/html": [
       "<table class=\"dataframe\">\n",
       "<caption>A data.frame: 1 × 1</caption>\n",
       "<thead>\n",
       "\t<tr><th scope=col>mean_overlap</th></tr>\n",
       "\t<tr><th scope=col>&lt;dbl&gt;</th></tr>\n",
       "</thead>\n",
       "<tbody>\n",
       "\t<tr><td>13.8425</td></tr>\n",
       "</tbody>\n",
       "</table>\n"
      ],
      "text/latex": [
       "A data.frame: 1 × 1\n",
       "\\begin{tabular}{l}\n",
       " mean\\_overlap\\\\\n",
       " <dbl>\\\\\n",
       "\\hline\n",
       "\t 13.8425\\\\\n",
       "\\end{tabular}\n"
      ],
      "text/markdown": [
       "\n",
       "A data.frame: 1 × 1\n",
       "\n",
       "| mean_overlap &lt;dbl&gt; |\n",
       "|---|\n",
       "| 13.8425 |\n",
       "\n"
      ],
      "text/plain": [
       "  mean_overlap\n",
       "1 13.8425     "
      ]
     },
     "metadata": {},
     "output_type": "display_data"
    }
   ],
   "source": [
    "IR %>%\n",
    "  filter(treatment != 'all CpGs') %>% # remove all CpGs info\n",
    "  summarise(mean_overlap = mean(proportion_overlap)) # mean proportion overlap of exons in experimental groups"
   ]
  },
  {
   "cell_type": "markdown",
   "id": "5e83a4eb-6831-45e7-bea9-04a791d58389",
   "metadata": {},
   "source": [
    "28.40% of all CpGs were in intergenic regions\n",
    "\n",
    "13.84% of methylated CpGs were in intergenic regions"
   ]
  },
  {
   "cell_type": "markdown",
   "id": "0beca489-129b-4c76-8c7b-85ade99921b7",
   "metadata": {},
   "source": [
    "**putative promoters**"
   ]
  },
  {
   "cell_type": "code",
   "execution_count": 38,
   "id": "bd92b974-794d-4c82-a5b5-ac779a78b21b",
   "metadata": {},
   "outputs": [
    {
     "data": {
      "text/html": [
       "<table class=\"dataframe\">\n",
       "<caption>A data.frame: 5 × 5</caption>\n",
       "<thead>\n",
       "\t<tr><th scope=col>genomicFeature</th><th scope=col>treatment</th><th scope=col>propOverlap</th><th scope=col>propOverlap_sum</th><th scope=col>proportion_overlap</th></tr>\n",
       "\t<tr><th scope=col>&lt;fct&gt;</th><th scope=col>&lt;chr&gt;</th><th scope=col>&lt;int&gt;</th><th scope=col>&lt;int&gt;</th><th scope=col>&lt;dbl&gt;</th></tr>\n",
       "</thead>\n",
       "<tbody>\n",
       "\t<tr><td>putative promoters</td><td>CC      </td><td>  2081</td><td>   97527</td><td>2.13</td></tr>\n",
       "\t<tr><td>putative promoters</td><td>CH      </td><td>  2712</td><td>  112541</td><td>2.41</td></tr>\n",
       "\t<tr><td>putative promoters</td><td>HC      </td><td>  4177</td><td>  159867</td><td>2.61</td></tr>\n",
       "\t<tr><td>putative promoters</td><td>HH      </td><td>  3704</td><td>  147496</td><td>2.51</td></tr>\n",
       "\t<tr><td>putative promoters</td><td>all CpGs</td><td>926518</td><td>23397995</td><td>3.96</td></tr>\n",
       "</tbody>\n",
       "</table>\n"
      ],
      "text/latex": [
       "A data.frame: 5 × 5\n",
       "\\begin{tabular}{lllll}\n",
       " genomicFeature & treatment & propOverlap & propOverlap\\_sum & proportion\\_overlap\\\\\n",
       " <fct> & <chr> & <int> & <int> & <dbl>\\\\\n",
       "\\hline\n",
       "\t putative promoters & CC       &   2081 &    97527 & 2.13\\\\\n",
       "\t putative promoters & CH       &   2712 &   112541 & 2.41\\\\\n",
       "\t putative promoters & HC       &   4177 &   159867 & 2.61\\\\\n",
       "\t putative promoters & HH       &   3704 &   147496 & 2.51\\\\\n",
       "\t putative promoters & all CpGs & 926518 & 23397995 & 3.96\\\\\n",
       "\\end{tabular}\n"
      ],
      "text/markdown": [
       "\n",
       "A data.frame: 5 × 5\n",
       "\n",
       "| genomicFeature &lt;fct&gt; | treatment &lt;chr&gt; | propOverlap &lt;int&gt; | propOverlap_sum &lt;int&gt; | proportion_overlap &lt;dbl&gt; |\n",
       "|---|---|---|---|---|\n",
       "| putative promoters | CC       |   2081 |    97527 | 2.13 |\n",
       "| putative promoters | CH       |   2712 |   112541 | 2.41 |\n",
       "| putative promoters | HC       |   4177 |   159867 | 2.61 |\n",
       "| putative promoters | HH       |   3704 |   147496 | 2.51 |\n",
       "| putative promoters | all CpGs | 926518 | 23397995 | 3.96 |\n",
       "\n"
      ],
      "text/plain": [
       "  genomicFeature     treatment propOverlap propOverlap_sum proportion_overlap\n",
       "1 putative promoters CC          2081         97527        2.13              \n",
       "2 putative promoters CH          2712        112541        2.41              \n",
       "3 putative promoters HC          4177        159867        2.61              \n",
       "4 putative promoters HH          3704        147496        2.51              \n",
       "5 putative promoters all CpGs  926518      23397995        3.96              "
      ]
     },
     "metadata": {},
     "output_type": "display_data"
    }
   ],
   "source": [
    "# pull out only exons\n",
    "pp <- df %>%\n",
    "filter(genomicFeature == 'putative promoters')\n",
    "\n",
    "pp"
   ]
  },
  {
   "cell_type": "code",
   "execution_count": 39,
   "id": "03be3489-a204-47cb-b798-22ee7e648faa",
   "metadata": {},
   "outputs": [
    {
     "data": {
      "text/html": [
       "<table class=\"dataframe\">\n",
       "<caption>A data.frame: 1 × 1</caption>\n",
       "<thead>\n",
       "\t<tr><th scope=col>mean_overlap</th></tr>\n",
       "\t<tr><th scope=col>&lt;dbl&gt;</th></tr>\n",
       "</thead>\n",
       "<tbody>\n",
       "\t<tr><td>2.415</td></tr>\n",
       "</tbody>\n",
       "</table>\n"
      ],
      "text/latex": [
       "A data.frame: 1 × 1\n",
       "\\begin{tabular}{l}\n",
       " mean\\_overlap\\\\\n",
       " <dbl>\\\\\n",
       "\\hline\n",
       "\t 2.415\\\\\n",
       "\\end{tabular}\n"
      ],
      "text/markdown": [
       "\n",
       "A data.frame: 1 × 1\n",
       "\n",
       "| mean_overlap &lt;dbl&gt; |\n",
       "|---|\n",
       "| 2.415 |\n",
       "\n"
      ],
      "text/plain": [
       "  mean_overlap\n",
       "1 2.415       "
      ]
     },
     "metadata": {},
     "output_type": "display_data"
    }
   ],
   "source": [
    "pp %>%\n",
    "  filter(treatment != 'all CpGs') %>% # remove all CpGs info\n",
    "  summarise(mean_overlap = mean(proportion_overlap)) # mean proportion overlap of exons in experimental groups"
   ]
  },
  {
   "cell_type": "markdown",
   "id": "c0b168c2-c6f6-48e4-bd7d-c7f18c46d60e",
   "metadata": {},
   "source": [
    "3.96% of all CpGs were in intergenic regions\n",
    "\n",
    "2.46% of methylated CpGs were in intergenic regions"
   ]
  },
  {
   "cell_type": "markdown",
   "id": "79c69ed9-6f17-4fb2-8fed-103a5f1b57fc",
   "metadata": {},
   "source": [
    "## NSA proportion overlap plot\n",
    "wanting to collapse all the methylation data for each treatment into one to compare all CpGs vs. methylated CpGs"
   ]
  },
  {
   "cell_type": "code",
   "execution_count": 94,
   "id": "04167354-680a-4ca2-bcb7-1011579581c3",
   "metadata": {},
   "outputs": [
    {
     "data": {
      "text/html": [
       "<table class=\"dataframe\">\n",
       "<caption>A tibble: 7 × 2</caption>\n",
       "<thead>\n",
       "\t<tr><th scope=col>genomicFeature</th><th scope=col>propOverlap</th></tr>\n",
       "\t<tr><th scope=col>&lt;fct&gt;</th><th scope=col>&lt;int&gt;</th></tr>\n",
       "</thead>\n",
       "<tbody>\n",
       "\t<tr><td>exons             </td><td>202702</td></tr>\n",
       "\t<tr><td>intergenic regions</td><td> 72770</td></tr>\n",
       "\t<tr><td>introns           </td><td>107579</td></tr>\n",
       "\t<tr><td>putative promoters</td><td> 12674</td></tr>\n",
       "\t<tr><td>TEs               </td><td> 62581</td></tr>\n",
       "\t<tr><td>UTRs              </td><td> 14407</td></tr>\n",
       "\t<tr><td>other             </td><td> 44718</td></tr>\n",
       "</tbody>\n",
       "</table>\n"
      ],
      "text/latex": [
       "A tibble: 7 × 2\n",
       "\\begin{tabular}{ll}\n",
       " genomicFeature & propOverlap\\\\\n",
       " <fct> & <int>\\\\\n",
       "\\hline\n",
       "\t exons              & 202702\\\\\n",
       "\t intergenic regions &  72770\\\\\n",
       "\t introns            & 107579\\\\\n",
       "\t putative promoters &  12674\\\\\n",
       "\t TEs                &  62581\\\\\n",
       "\t UTRs               &  14407\\\\\n",
       "\t other              &  44718\\\\\n",
       "\\end{tabular}\n"
      ],
      "text/markdown": [
       "\n",
       "A tibble: 7 × 2\n",
       "\n",
       "| genomicFeature &lt;fct&gt; | propOverlap &lt;int&gt; |\n",
       "|---|---|\n",
       "| exons              | 202702 |\n",
       "| intergenic regions |  72770 |\n",
       "| introns            | 107579 |\n",
       "| putative promoters |  12674 |\n",
       "| TEs                |  62581 |\n",
       "| UTRs               |  14407 |\n",
       "| other              |  44718 |\n",
       "\n"
      ],
      "text/plain": [
       "  genomicFeature     propOverlap\n",
       "1 exons              202702     \n",
       "2 intergenic regions  72770     \n",
       "3 introns            107579     \n",
       "4 putative promoters  12674     \n",
       "5 TEs                 62581     \n",
       "6 UTRs                14407     \n",
       "7 other               44718     "
      ]
     },
     "metadata": {},
     "output_type": "display_data"
    },
    {
     "data": {
      "text/html": [
       "<table class=\"dataframe\">\n",
       "<caption>A tibble: 7 × 3</caption>\n",
       "<thead>\n",
       "\t<tr><th scope=col>genomicFeature</th><th scope=col>treatment</th><th scope=col>proportion_overlap</th></tr>\n",
       "\t<tr><th scope=col>&lt;fct&gt;</th><th scope=col>&lt;chr&gt;</th><th scope=col>&lt;dbl&gt;</th></tr>\n",
       "</thead>\n",
       "<tbody>\n",
       "\t<tr><td>exons             </td><td>methylated CpGs</td><td>39.17</td></tr>\n",
       "\t<tr><td>intergenic regions</td><td>methylated CpGs</td><td>14.06</td></tr>\n",
       "\t<tr><td>introns           </td><td>methylated CpGs</td><td>20.79</td></tr>\n",
       "\t<tr><td>putative promoters</td><td>methylated CpGs</td><td> 2.45</td></tr>\n",
       "\t<tr><td>TEs               </td><td>methylated CpGs</td><td>12.09</td></tr>\n",
       "\t<tr><td>UTRs              </td><td>methylated CpGs</td><td> 2.78</td></tr>\n",
       "\t<tr><td>other             </td><td>methylated CpGs</td><td> 8.64</td></tr>\n",
       "</tbody>\n",
       "</table>\n"
      ],
      "text/latex": [
       "A tibble: 7 × 3\n",
       "\\begin{tabular}{lll}\n",
       " genomicFeature & treatment & proportion\\_overlap\\\\\n",
       " <fct> & <chr> & <dbl>\\\\\n",
       "\\hline\n",
       "\t exons              & methylated CpGs & 39.17\\\\\n",
       "\t intergenic regions & methylated CpGs & 14.06\\\\\n",
       "\t introns            & methylated CpGs & 20.79\\\\\n",
       "\t putative promoters & methylated CpGs &  2.45\\\\\n",
       "\t TEs                & methylated CpGs & 12.09\\\\\n",
       "\t UTRs               & methylated CpGs &  2.78\\\\\n",
       "\t other              & methylated CpGs &  8.64\\\\\n",
       "\\end{tabular}\n"
      ],
      "text/markdown": [
       "\n",
       "A tibble: 7 × 3\n",
       "\n",
       "| genomicFeature &lt;fct&gt; | treatment &lt;chr&gt; | proportion_overlap &lt;dbl&gt; |\n",
       "|---|---|---|\n",
       "| exons              | methylated CpGs | 39.17 |\n",
       "| intergenic regions | methylated CpGs | 14.06 |\n",
       "| introns            | methylated CpGs | 20.79 |\n",
       "| putative promoters | methylated CpGs |  2.45 |\n",
       "| TEs                | methylated CpGs | 12.09 |\n",
       "| UTRs               | methylated CpGs |  2.78 |\n",
       "| other              | methylated CpGs |  8.64 |\n",
       "\n"
      ],
      "text/plain": [
       "  genomicFeature     treatment       proportion_overlap\n",
       "1 exons              methylated CpGs 39.17             \n",
       "2 intergenic regions methylated CpGs 14.06             \n",
       "3 introns            methylated CpGs 20.79             \n",
       "4 putative promoters methylated CpGs  2.45             \n",
       "5 TEs                methylated CpGs 12.09             \n",
       "6 UTRs               methylated CpGs  2.78             \n",
       "7 other              methylated CpGs  8.64             "
      ]
     },
     "metadata": {},
     "output_type": "display_data"
    }
   ],
   "source": [
    "trmt_group <- c('CC', 'HC', 'CH', 'HH')\n",
    "\n",
    "prop_df <- df\n",
    "\n",
    "allMethyl <- prop_df %>%\n",
    "  filter(treatment != 'all CpGs') %>%\n",
    "  group_by(genomicFeature) %>%\n",
    "  summarise(sum = sum(propOverlap))\n",
    "\n",
    "colnames(allMethyl)[2] <- 'propOverlap'\n",
    "\n",
    "allMethyl\n",
    "\n",
    "total_propSum <- sum(allMethyl$propOverlap)\n",
    "\n",
    "final_methyl <- allMethyl %>%\n",
    "  mutate(proportion_overlap = round(propOverlap/total_propSum * 100, 2)) %>%\n",
    "  mutate(treatment = 'methylated CpGs') %>%\n",
    "  select(genomicFeature, treatment, proportion_overlap)\n",
    "final_methyl"
   ]
  },
  {
   "cell_type": "code",
   "execution_count": 95,
   "id": "fa3cfdaf-dbd1-4055-a943-dfcef4dc8dc8",
   "metadata": {},
   "outputs": [
    {
     "data": {
      "text/html": [
       "<table class=\"dataframe\">\n",
       "<caption>A tibble: 14 × 3</caption>\n",
       "<thead>\n",
       "\t<tr><th scope=col>genomicFeature</th><th scope=col>treatment</th><th scope=col>proportion_overlap</th></tr>\n",
       "\t<tr><th scope=col>&lt;fct&gt;</th><th scope=col>&lt;chr&gt;</th><th scope=col>&lt;dbl&gt;</th></tr>\n",
       "</thead>\n",
       "<tbody>\n",
       "\t<tr><td>exons             </td><td>methylated CpGs</td><td>39.17</td></tr>\n",
       "\t<tr><td>intergenic regions</td><td>methylated CpGs</td><td>14.06</td></tr>\n",
       "\t<tr><td>introns           </td><td>methylated CpGs</td><td>20.79</td></tr>\n",
       "\t<tr><td>putative promoters</td><td>methylated CpGs</td><td> 2.45</td></tr>\n",
       "\t<tr><td>TEs               </td><td>methylated CpGs</td><td>12.09</td></tr>\n",
       "\t<tr><td>UTRs              </td><td>methylated CpGs</td><td> 2.78</td></tr>\n",
       "\t<tr><td>other             </td><td>methylated CpGs</td><td> 8.64</td></tr>\n",
       "\t<tr><td>TEs               </td><td>all CpGs       </td><td>12.09</td></tr>\n",
       "\t<tr><td>exons             </td><td>all CpGs       </td><td> 9.93</td></tr>\n",
       "\t<tr><td>introns           </td><td>all CpGs       </td><td>23.50</td></tr>\n",
       "\t<tr><td>putative promoters</td><td>all CpGs       </td><td> 3.96</td></tr>\n",
       "\t<tr><td>UTRs              </td><td>all CpGs       </td><td> 2.57</td></tr>\n",
       "\t<tr><td>intergenic regions</td><td>all CpGs       </td><td>28.40</td></tr>\n",
       "\t<tr><td>other             </td><td>all CpGs       </td><td>19.56</td></tr>\n",
       "</tbody>\n",
       "</table>\n"
      ],
      "text/latex": [
       "A tibble: 14 × 3\n",
       "\\begin{tabular}{lll}\n",
       " genomicFeature & treatment & proportion\\_overlap\\\\\n",
       " <fct> & <chr> & <dbl>\\\\\n",
       "\\hline\n",
       "\t exons              & methylated CpGs & 39.17\\\\\n",
       "\t intergenic regions & methylated CpGs & 14.06\\\\\n",
       "\t introns            & methylated CpGs & 20.79\\\\\n",
       "\t putative promoters & methylated CpGs &  2.45\\\\\n",
       "\t TEs                & methylated CpGs & 12.09\\\\\n",
       "\t UTRs               & methylated CpGs &  2.78\\\\\n",
       "\t other              & methylated CpGs &  8.64\\\\\n",
       "\t TEs                & all CpGs        & 12.09\\\\\n",
       "\t exons              & all CpGs        &  9.93\\\\\n",
       "\t introns            & all CpGs        & 23.50\\\\\n",
       "\t putative promoters & all CpGs        &  3.96\\\\\n",
       "\t UTRs               & all CpGs        &  2.57\\\\\n",
       "\t intergenic regions & all CpGs        & 28.40\\\\\n",
       "\t other              & all CpGs        & 19.56\\\\\n",
       "\\end{tabular}\n"
      ],
      "text/markdown": [
       "\n",
       "A tibble: 14 × 3\n",
       "\n",
       "| genomicFeature &lt;fct&gt; | treatment &lt;chr&gt; | proportion_overlap &lt;dbl&gt; |\n",
       "|---|---|---|\n",
       "| exons              | methylated CpGs | 39.17 |\n",
       "| intergenic regions | methylated CpGs | 14.06 |\n",
       "| introns            | methylated CpGs | 20.79 |\n",
       "| putative promoters | methylated CpGs |  2.45 |\n",
       "| TEs                | methylated CpGs | 12.09 |\n",
       "| UTRs               | methylated CpGs |  2.78 |\n",
       "| other              | methylated CpGs |  8.64 |\n",
       "| TEs                | all CpGs        | 12.09 |\n",
       "| exons              | all CpGs        |  9.93 |\n",
       "| introns            | all CpGs        | 23.50 |\n",
       "| putative promoters | all CpGs        |  3.96 |\n",
       "| UTRs               | all CpGs        |  2.57 |\n",
       "| intergenic regions | all CpGs        | 28.40 |\n",
       "| other              | all CpGs        | 19.56 |\n",
       "\n"
      ],
      "text/plain": [
       "   genomicFeature     treatment       proportion_overlap\n",
       "1  exons              methylated CpGs 39.17             \n",
       "2  intergenic regions methylated CpGs 14.06             \n",
       "3  introns            methylated CpGs 20.79             \n",
       "4  putative promoters methylated CpGs  2.45             \n",
       "5  TEs                methylated CpGs 12.09             \n",
       "6  UTRs               methylated CpGs  2.78             \n",
       "7  other              methylated CpGs  8.64             \n",
       "8  TEs                all CpGs        12.09             \n",
       "9  exons              all CpGs         9.93             \n",
       "10 introns            all CpGs        23.50             \n",
       "11 putative promoters all CpGs         3.96             \n",
       "12 UTRs               all CpGs         2.57             \n",
       "13 intergenic regions all CpGs        28.40             \n",
       "14 other              all CpGs        19.56             "
      ]
     },
     "metadata": {},
     "output_type": "display_data"
    }
   ],
   "source": [
    "allCpGs <- prop_df %>%\n",
    "  filter(treatment == 'all CpGs') %>%\n",
    "  select(genomicFeature, treatment, proportion_overlap)\n",
    "\n",
    "new_df <- rbind(final_methyl, allCpGs)\n",
    "new_df"
   ]
  },
  {
   "cell_type": "code",
   "execution_count": 22,
   "id": "f13bb6c4-93a9-4a25-b375-87f1b1ec3434",
   "metadata": {},
   "outputs": [
    {
     "data": {
      "image/png": "[encoded data removed]",
      "text/plain": [
       "plot without title"
      ]
     },
     "metadata": {
      "image/png": {
       "height": 600,
       "width": 900
      }
     },
     "output_type": "display_data"
    }
   ],
   "source": [
    "# plotting\n",
    "options(repr.plot.width=15, repr.plot.height=10)\n",
    "\n",
    "# Define the color palette\n",
    "colors <- c(\"other\" = \"gray\", \n",
    "             setNames(brewer.pal(nlevels(new_df$genomicFeature) - 1, \"GnBu\"), \n",
    "                       levels(new_df$genomicFeature)[-length(levels(new_df$genomicFeature))]))\n",
    "\n",
    "# Update the plot\n",
    "propOv <- ggplot(new_df) +\n",
    "  aes(x = treatment, y = proportion_overlap, fill = genomicFeature) +\n",
    "  geom_col() +\n",
    "  scale_fill_manual(values = colors) +\n",
    "  geom_col(color = \"black\", linewidth = 0.25) +\n",
    "  labs(x = \"\", y = \"Percent Overlap\", \n",
    "       fill = \"Genomic Feature\") +\n",
    "  theme_classic() +\n",
    "  theme(text = element_text(size = 20))\n",
    "\n",
    "propOv\n"
   ]
  },
  {
   "cell_type": "markdown",
   "id": "358b735a-67a5-4466-b86f-68a0a0c1660b",
   "metadata": {},
   "source": [
    "### chi-squared tests of homogeneity"
   ]
  },
  {
   "cell_type": "code",
   "execution_count": 123,
   "id": "8122bb7a-06e8-4158-9005-6e5c09482af5",
   "metadata": {},
   "outputs": [
    {
     "data": {
      "text/html": [
       "<table class=\"dataframe\">\n",
       "<caption>A data.frame: 7 × 2</caption>\n",
       "<thead>\n",
       "\t<tr><th></th><th scope=col>all_CpGs</th><th scope=col>methylated_CpGs</th></tr>\n",
       "\t<tr><th></th><th scope=col>&lt;dbl&gt;</th><th scope=col>&lt;dbl&gt;</th></tr>\n",
       "</thead>\n",
       "<tbody>\n",
       "\t<tr><th scope=row>exons</th><td> 9.93</td><td>39.17</td></tr>\n",
       "\t<tr><th scope=row>intergenic regions</th><td>28.40</td><td>14.06</td></tr>\n",
       "\t<tr><th scope=row>introns</th><td>23.50</td><td>20.79</td></tr>\n",
       "\t<tr><th scope=row>other</th><td>19.56</td><td> 8.64</td></tr>\n",
       "\t<tr><th scope=row>putative promoters</th><td> 3.96</td><td> 2.45</td></tr>\n",
       "\t<tr><th scope=row>TEs</th><td>12.09</td><td>12.09</td></tr>\n",
       "\t<tr><th scope=row>UTRs</th><td> 2.57</td><td> 2.78</td></tr>\n",
       "</tbody>\n",
       "</table>\n"
      ],
      "text/latex": [
       "A data.frame: 7 × 2\n",
       "\\begin{tabular}{r|ll}\n",
       "  & all\\_CpGs & methylated\\_CpGs\\\\\n",
       "  & <dbl> & <dbl>\\\\\n",
       "\\hline\n",
       "\texons &  9.93 & 39.17\\\\\n",
       "\tintergenic regions & 28.40 & 14.06\\\\\n",
       "\tintrons & 23.50 & 20.79\\\\\n",
       "\tother & 19.56 &  8.64\\\\\n",
       "\tputative promoters &  3.96 &  2.45\\\\\n",
       "\tTEs & 12.09 & 12.09\\\\\n",
       "\tUTRs &  2.57 &  2.78\\\\\n",
       "\\end{tabular}\n"
      ],
      "text/markdown": [
       "\n",
       "A data.frame: 7 × 2\n",
       "\n",
       "| <!--/--> | all_CpGs &lt;dbl&gt; | methylated_CpGs &lt;dbl&gt; |\n",
       "|---|---|---|\n",
       "| exons |  9.93 | 39.17 |\n",
       "| intergenic regions | 28.40 | 14.06 |\n",
       "| introns | 23.50 | 20.79 |\n",
       "| other | 19.56 |  8.64 |\n",
       "| putative promoters |  3.96 |  2.45 |\n",
       "| TEs | 12.09 | 12.09 |\n",
       "| UTRs |  2.57 |  2.78 |\n",
       "\n"
      ],
      "text/plain": [
       "                   all_CpGs methylated_CpGs\n",
       "exons               9.93    39.17          \n",
       "intergenic regions 28.40    14.06          \n",
       "introns            23.50    20.79          \n",
       "other              19.56     8.64          \n",
       "putative promoters  3.96     2.45          \n",
       "TEs                12.09    12.09          \n",
       "UTRs                2.57     2.78          "
      ]
     },
     "metadata": {},
     "output_type": "display_data"
    }
   ],
   "source": [
    "# pull out methylated CpGs\n",
    "methyl_df <- new_df %>%\n",
    "filter(treatment == 'methylated CpGs') %>%\n",
    "select(genomicFeature, proportion_overlap) %>%\n",
    "rename_with(~ \"methylated_CpGs\", proportion_overlap)\n",
    "\n",
    "# pull out all CpGs \n",
    "all_df <- new_df %>%\n",
    "filter(treatment == 'all CpGs') %>%\n",
    "select(genomicFeature, proportion_overlap) %>%\n",
    "rename_with(~ \"all_CpGs\", proportion_overlap)"
   ]
  },
  {
   "cell_type": "code",
   "execution_count": 125,
   "id": "89b14927-36b7-45dc-b44a-58bd1b092ebf",
   "metadata": {},
   "outputs": [
    {
     "data": {
      "text/html": [
       "<table class=\"dataframe\">\n",
       "<caption>A data.frame: 7 × 2</caption>\n",
       "<thead>\n",
       "\t<tr><th></th><th scope=col>all_CpGs</th><th scope=col>methylated_CpGs</th></tr>\n",
       "\t<tr><th></th><th scope=col>&lt;dbl&gt;</th><th scope=col>&lt;dbl&gt;</th></tr>\n",
       "</thead>\n",
       "<tbody>\n",
       "\t<tr><th scope=row>exons</th><td> 9.93</td><td>39.17</td></tr>\n",
       "\t<tr><th scope=row>intergenic regions</th><td>28.40</td><td>14.06</td></tr>\n",
       "\t<tr><th scope=row>introns</th><td>23.50</td><td>20.79</td></tr>\n",
       "\t<tr><th scope=row>other</th><td>19.56</td><td> 8.64</td></tr>\n",
       "\t<tr><th scope=row>putative promoters</th><td> 3.96</td><td> 2.45</td></tr>\n",
       "\t<tr><th scope=row>TEs</th><td>12.09</td><td>12.09</td></tr>\n",
       "\t<tr><th scope=row>UTRs</th><td> 2.57</td><td> 2.78</td></tr>\n",
       "</tbody>\n",
       "</table>\n"
      ],
      "text/latex": [
       "A data.frame: 7 × 2\n",
       "\\begin{tabular}{r|ll}\n",
       "  & all\\_CpGs & methylated\\_CpGs\\\\\n",
       "  & <dbl> & <dbl>\\\\\n",
       "\\hline\n",
       "\texons &  9.93 & 39.17\\\\\n",
       "\tintergenic regions & 28.40 & 14.06\\\\\n",
       "\tintrons & 23.50 & 20.79\\\\\n",
       "\tother & 19.56 &  8.64\\\\\n",
       "\tputative promoters &  3.96 &  2.45\\\\\n",
       "\tTEs & 12.09 & 12.09\\\\\n",
       "\tUTRs &  2.57 &  2.78\\\\\n",
       "\\end{tabular}\n"
      ],
      "text/markdown": [
       "\n",
       "A data.frame: 7 × 2\n",
       "\n",
       "| <!--/--> | all_CpGs &lt;dbl&gt; | methylated_CpGs &lt;dbl&gt; |\n",
       "|---|---|---|\n",
       "| exons |  9.93 | 39.17 |\n",
       "| intergenic regions | 28.40 | 14.06 |\n",
       "| introns | 23.50 | 20.79 |\n",
       "| other | 19.56 |  8.64 |\n",
       "| putative promoters |  3.96 |  2.45 |\n",
       "| TEs | 12.09 | 12.09 |\n",
       "| UTRs |  2.57 |  2.78 |\n",
       "\n"
      ],
      "text/plain": [
       "                   all_CpGs methylated_CpGs\n",
       "exons               9.93    39.17          \n",
       "intergenic regions 28.40    14.06          \n",
       "introns            23.50    20.79          \n",
       "other              19.56     8.64          \n",
       "putative promoters  3.96     2.45          \n",
       "TEs                12.09    12.09          \n",
       "UTRs                2.57     2.78          "
      ]
     },
     "metadata": {},
     "output_type": "display_data"
    }
   ],
   "source": [
    "# merge dfs to make contingency table\n",
    "chi_df <- merge(all_df, methyl_df, by = \"genomicFeature\")\n",
    "\n",
    "# make row names the genomic features (columns are the two categorical variables)\n",
    "rownames(chi_df) <- chi_df$genomicFeature\n",
    "chi_df <- chi_df[-1] # remove genomic feature in actual table\n",
    "\n",
    "# finished contingency table\n",
    "chi_df"
   ]
  },
  {
   "cell_type": "code",
   "execution_count": 126,
   "id": "4b2effe8-c238-4234-8075-125eea6ce2a8",
   "metadata": {},
   "outputs": [
    {
     "name": "stderr",
     "output_type": "stream",
     "text": [
      "Warning message in chisq.test(chi_df):\n",
      "“Chi-squared approximation may be incorrect”\n"
     ]
    },
    {
     "data": {
      "text/plain": [
       "\n",
       "\tPearson's Chi-squared test\n",
       "\n",
       "data:  chi_df\n",
       "X-squared = 27.014, df = 6, p-value = 0.0001439\n"
      ]
     },
     "metadata": {},
     "output_type": "display_data"
    }
   ],
   "source": [
    "# run chi square test\n",
    "methylchi.test <- chisq.test(chi_df)\n",
    "methylchi.test"
   ]
  },
  {
   "cell_type": "markdown",
   "id": "849021f6-d612-41e3-8e9a-213261808f1e",
   "metadata": {},
   "source": [
    "so collapsing all treatments into just methylated CpGs results in a statistically significant result (p-value = 0.0001439), allowing us to reject the null hypothesis that the distribution of methylated CpGs is independent of genomic feature"
   ]
  },
  {
   "cell_type": "markdown",
   "id": "6733a023-4a35-452b-9bee-837ade42db6d",
   "metadata": {},
   "source": [
    "## overlap WITHIN DMGs\n",
    "using files generated from [dmg_propOverlap.ipynb](https://github.com/jgmcdonough/CE18_methylRAD_analysis/blob/master/analysis/genomic_feature_tracks/proportion_overlap/dmg_propOverlap.ipynb)\n",
    "\n",
    "#### 1. pull out significantly DMGs and create bed file"
   ]
  },
  {
   "cell_type": "code",
   "execution_count": 2,
   "id": "651b849f-6f6c-4f37-a276-d83d0e964d73",
   "metadata": {},
   "outputs": [
    {
     "data": {
      "text/html": [
       "<table class=\"dataframe\">\n",
       "<caption>A data.frame: 6 × 3</caption>\n",
       "<thead>\n",
       "\t<tr><th></th><th scope=col>symbol</th><th scope=col>name</th><th scope=col>pair</th></tr>\n",
       "\t<tr><th></th><th scope=col>&lt;chr&gt;</th><th scope=col>&lt;chr&gt;</th><th scope=col>&lt;chr&gt;</th></tr>\n",
       "</thead>\n",
       "<tbody>\n",
       "\t<tr><th scope=row>1</th><td>LOC111117760</td><td>disintegrin and metalloproteinase domain-containing protein 10-like, transcript variant X3</td><td>CH, HH, CC</td></tr>\n",
       "\t<tr><th scope=row>2</th><td>LOC111119327</td><td>calcyphosin-like protein, transcript variant X3                                           </td><td>CH, HH, CC</td></tr>\n",
       "\t<tr><th scope=row>3</th><td>LOC111123492</td><td>pre-B-cell leukemia transcription factor 1-like, transcript variant X11                   </td><td>CH, HH, CC</td></tr>\n",
       "\t<tr><th scope=row>4</th><td>LOC111124674</td><td>gamma-glutamyltranspeptidase 1-like, transcript variant X1                                </td><td>CH, HH, CC</td></tr>\n",
       "\t<tr><th scope=row>5</th><td>LOC111129146</td><td>FERM domain-containing protein 8-like                                                     </td><td>CH, HH, CC</td></tr>\n",
       "\t<tr><th scope=row>6</th><td>LOC111133438</td><td>uncharacterized LOC111133438                                                              </td><td>CH, HH, CC</td></tr>\n",
       "</tbody>\n",
       "</table>\n"
      ],
      "text/latex": [
       "A data.frame: 6 × 3\n",
       "\\begin{tabular}{r|lll}\n",
       "  & symbol & name & pair\\\\\n",
       "  & <chr> & <chr> & <chr>\\\\\n",
       "\\hline\n",
       "\t1 & LOC111117760 & disintegrin and metalloproteinase domain-containing protein 10-like, transcript variant X3 & CH, HH, CC\\\\\n",
       "\t2 & LOC111119327 & calcyphosin-like protein, transcript variant X3                                            & CH, HH, CC\\\\\n",
       "\t3 & LOC111123492 & pre-B-cell leukemia transcription factor 1-like, transcript variant X11                    & CH, HH, CC\\\\\n",
       "\t4 & LOC111124674 & gamma-glutamyltranspeptidase 1-like, transcript variant X1                                 & CH, HH, CC\\\\\n",
       "\t5 & LOC111129146 & FERM domain-containing protein 8-like                                                      & CH, HH, CC\\\\\n",
       "\t6 & LOC111133438 & uncharacterized LOC111133438                                                               & CH, HH, CC\\\\\n",
       "\\end{tabular}\n"
      ],
      "text/markdown": [
       "\n",
       "A data.frame: 6 × 3\n",
       "\n",
       "| <!--/--> | symbol &lt;chr&gt; | name &lt;chr&gt; | pair &lt;chr&gt; |\n",
       "|---|---|---|---|\n",
       "| 1 | LOC111117760 | disintegrin and metalloproteinase domain-containing protein 10-like, transcript variant X3 | CH, HH, CC |\n",
       "| 2 | LOC111119327 | calcyphosin-like protein, transcript variant X3                                            | CH, HH, CC |\n",
       "| 3 | LOC111123492 | pre-B-cell leukemia transcription factor 1-like, transcript variant X11                    | CH, HH, CC |\n",
       "| 4 | LOC111124674 | gamma-glutamyltranspeptidase 1-like, transcript variant X1                                 | CH, HH, CC |\n",
       "| 5 | LOC111129146 | FERM domain-containing protein 8-like                                                      | CH, HH, CC |\n",
       "| 6 | LOC111133438 | uncharacterized LOC111133438                                                               | CH, HH, CC |\n",
       "\n"
      ],
      "text/plain": [
       "  symbol      \n",
       "1 LOC111117760\n",
       "2 LOC111119327\n",
       "3 LOC111123492\n",
       "4 LOC111124674\n",
       "5 LOC111129146\n",
       "6 LOC111133438\n",
       "  name                                                                                      \n",
       "1 disintegrin and metalloproteinase domain-containing protein 10-like, transcript variant X3\n",
       "2 calcyphosin-like protein, transcript variant X3                                           \n",
       "3 pre-B-cell leukemia transcription factor 1-like, transcript variant X11                   \n",
       "4 gamma-glutamyltranspeptidase 1-like, transcript variant X1                                \n",
       "5 FERM domain-containing protein 8-like                                                     \n",
       "6 uncharacterized LOC111133438                                                              \n",
       "  pair      \n",
       "1 CH, HH, CC\n",
       "2 CH, HH, CC\n",
       "3 CH, HH, CC\n",
       "4 CH, HH, CC\n",
       "5 CH, HH, CC\n",
       "6 CH, HH, CC"
      ]
     },
     "metadata": {},
     "output_type": "display_data"
    }
   ],
   "source": [
    "dmg <- read.csv('/project/pi_sarah_gignouxwolfsohn_uml_edu/julia/CE_MethylRAD_analysis_2018/analysis/deseq_res_files/sig_DMGs/all_sigDMGs.csv')\n",
    "head(dmg)"
   ]
  },
  {
   "cell_type": "code",
   "execution_count": 4,
   "id": "4fde6b30-d457-4363-b85c-38326be24e23",
   "metadata": {},
   "outputs": [],
   "source": [
    "library(rtracklayer)"
   ]
  },
  {
   "cell_type": "code",
   "execution_count": 65,
   "id": "47a0d5f1-2909-4dfc-ab4d-36a3273dfef2",
   "metadata": {},
   "outputs": [
    {
     "data": {
      "text/html": [
       "<table class=\"dataframe\">\n",
       "<caption>A data.frame: 6 × 51</caption>\n",
       "<thead>\n",
       "\t<tr><th></th><th scope=col>seqnames</th><th scope=col>start</th><th scope=col>end</th><th scope=col>width</th><th scope=col>strand</th><th scope=col>source</th><th scope=col>type</th><th scope=col>score</th><th scope=col>phase</th><th scope=col>ID</th><th scope=col>⋯</th><th scope=col>num_mismatch</th><th scope=col>pct_coverage</th><th scope=col>pct_coverage_hiqual</th><th scope=col>pct_identity_gap</th><th scope=col>pct_identity_ungap</th><th scope=col>rank</th><th scope=col>Gap</th><th scope=col>Is_circular</th><th scope=col>transl_table</th><th scope=col>codons</th></tr>\n",
       "\t<tr><th></th><th scope=col>&lt;fct&gt;</th><th scope=col>&lt;int&gt;</th><th scope=col>&lt;int&gt;</th><th scope=col>&lt;int&gt;</th><th scope=col>&lt;fct&gt;</th><th scope=col>&lt;fct&gt;</th><th scope=col>&lt;fct&gt;</th><th scope=col>&lt;dbl&gt;</th><th scope=col>&lt;int&gt;</th><th scope=col>&lt;chr&gt;</th><th scope=col>⋯</th><th scope=col>&lt;chr&gt;</th><th scope=col>&lt;chr&gt;</th><th scope=col>&lt;chr&gt;</th><th scope=col>&lt;chr&gt;</th><th scope=col>&lt;chr&gt;</th><th scope=col>&lt;chr&gt;</th><th scope=col>&lt;chr&gt;</th><th scope=col>&lt;chr&gt;</th><th scope=col>&lt;chr&gt;</th><th scope=col>&lt;chr&gt;</th></tr>\n",
       "</thead>\n",
       "<tbody>\n",
       "\t<tr><th scope=row>1</th><td>NC_035780.1</td><td>    1</td><td>65668440</td><td>65668440</td><td>+</td><td>RefSeq</td><td>region </td><td>NA</td><td>NA</td><td>NC_035780.1:1..65668440</td><td>⋯</td><td>NA</td><td>NA</td><td>NA</td><td>NA</td><td>NA</td><td>NA</td><td>NA</td><td>NA</td><td>NA</td><td>NA</td></tr>\n",
       "\t<tr><th scope=row>2</th><td>NC_035780.1</td><td>13578</td><td>   14594</td><td>    1017</td><td>+</td><td>Gnomon</td><td>gene   </td><td>NA</td><td>NA</td><td>gene-LOC111116054      </td><td>⋯</td><td>NA</td><td>NA</td><td>NA</td><td>NA</td><td>NA</td><td>NA</td><td>NA</td><td>NA</td><td>NA</td><td>NA</td></tr>\n",
       "\t<tr><th scope=row>3</th><td>NC_035780.1</td><td>13578</td><td>   14594</td><td>    1017</td><td>+</td><td>Gnomon</td><td>lnc_RNA</td><td>NA</td><td>NA</td><td>rna-XR_002636969.1     </td><td>⋯</td><td>NA</td><td>NA</td><td>NA</td><td>NA</td><td>NA</td><td>NA</td><td>NA</td><td>NA</td><td>NA</td><td>NA</td></tr>\n",
       "\t<tr><th scope=row>4</th><td>NC_035780.1</td><td>13578</td><td>   13603</td><td>      26</td><td>+</td><td>Gnomon</td><td>exon   </td><td>NA</td><td>NA</td><td>exon-XR_002636969.1-1  </td><td>⋯</td><td>NA</td><td>NA</td><td>NA</td><td>NA</td><td>NA</td><td>NA</td><td>NA</td><td>NA</td><td>NA</td><td>NA</td></tr>\n",
       "\t<tr><th scope=row>5</th><td>NC_035780.1</td><td>14237</td><td>   14290</td><td>      54</td><td>+</td><td>Gnomon</td><td>exon   </td><td>NA</td><td>NA</td><td>exon-XR_002636969.1-2  </td><td>⋯</td><td>NA</td><td>NA</td><td>NA</td><td>NA</td><td>NA</td><td>NA</td><td>NA</td><td>NA</td><td>NA</td><td>NA</td></tr>\n",
       "\t<tr><th scope=row>6</th><td>NC_035780.1</td><td>14557</td><td>   14594</td><td>      38</td><td>+</td><td>Gnomon</td><td>exon   </td><td>NA</td><td>NA</td><td>exon-XR_002636969.1-3  </td><td>⋯</td><td>NA</td><td>NA</td><td>NA</td><td>NA</td><td>NA</td><td>NA</td><td>NA</td><td>NA</td><td>NA</td><td>NA</td></tr>\n",
       "</tbody>\n",
       "</table>\n"
      ],
      "text/latex": [
       "A data.frame: 6 × 51\n",
       "\\begin{tabular}{r|lllllllllllllllllllll}\n",
       "  & seqnames & start & end & width & strand & source & type & score & phase & ID & ⋯ & num\\_mismatch & pct\\_coverage & pct\\_coverage\\_hiqual & pct\\_identity\\_gap & pct\\_identity\\_ungap & rank & Gap & Is\\_circular & transl\\_table & codons\\\\\n",
       "  & <fct> & <int> & <int> & <int> & <fct> & <fct> & <fct> & <dbl> & <int> & <chr> & ⋯ & <chr> & <chr> & <chr> & <chr> & <chr> & <chr> & <chr> & <chr> & <chr> & <chr>\\\\\n",
       "\\hline\n",
       "\t1 & NC\\_035780.1 &     1 & 65668440 & 65668440 & + & RefSeq & region  & NA & NA & NC\\_035780.1:1..65668440 & ⋯ & NA & NA & NA & NA & NA & NA & NA & NA & NA & NA\\\\\n",
       "\t2 & NC\\_035780.1 & 13578 &    14594 &     1017 & + & Gnomon & gene    & NA & NA & gene-LOC111116054       & ⋯ & NA & NA & NA & NA & NA & NA & NA & NA & NA & NA\\\\\n",
       "\t3 & NC\\_035780.1 & 13578 &    14594 &     1017 & + & Gnomon & lnc\\_RNA & NA & NA & rna-XR\\_002636969.1      & ⋯ & NA & NA & NA & NA & NA & NA & NA & NA & NA & NA\\\\\n",
       "\t4 & NC\\_035780.1 & 13578 &    13603 &       26 & + & Gnomon & exon    & NA & NA & exon-XR\\_002636969.1-1   & ⋯ & NA & NA & NA & NA & NA & NA & NA & NA & NA & NA\\\\\n",
       "\t5 & NC\\_035780.1 & 14237 &    14290 &       54 & + & Gnomon & exon    & NA & NA & exon-XR\\_002636969.1-2   & ⋯ & NA & NA & NA & NA & NA & NA & NA & NA & NA & NA\\\\\n",
       "\t6 & NC\\_035780.1 & 14557 &    14594 &       38 & + & Gnomon & exon    & NA & NA & exon-XR\\_002636969.1-3   & ⋯ & NA & NA & NA & NA & NA & NA & NA & NA & NA & NA\\\\\n",
       "\\end{tabular}\n"
      ],
      "text/markdown": [
       "\n",
       "A data.frame: 6 × 51\n",
       "\n",
       "| <!--/--> | seqnames &lt;fct&gt; | start &lt;int&gt; | end &lt;int&gt; | width &lt;int&gt; | strand &lt;fct&gt; | source &lt;fct&gt; | type &lt;fct&gt; | score &lt;dbl&gt; | phase &lt;int&gt; | ID &lt;chr&gt; | ⋯ ⋯ | num_mismatch &lt;chr&gt; | pct_coverage &lt;chr&gt; | pct_coverage_hiqual &lt;chr&gt; | pct_identity_gap &lt;chr&gt; | pct_identity_ungap &lt;chr&gt; | rank &lt;chr&gt; | Gap &lt;chr&gt; | Is_circular &lt;chr&gt; | transl_table &lt;chr&gt; | codons &lt;chr&gt; |\n",
       "|---|---|---|---|---|---|---|---|---|---|---|---|---|---|---|---|---|---|---|---|---|---|\n",
       "| 1 | NC_035780.1 |     1 | 65668440 | 65668440 | + | RefSeq | region  | NA | NA | NC_035780.1:1..65668440 | ⋯ | NA | NA | NA | NA | NA | NA | NA | NA | NA | NA |\n",
       "| 2 | NC_035780.1 | 13578 |    14594 |     1017 | + | Gnomon | gene    | NA | NA | gene-LOC111116054       | ⋯ | NA | NA | NA | NA | NA | NA | NA | NA | NA | NA |\n",
       "| 3 | NC_035780.1 | 13578 |    14594 |     1017 | + | Gnomon | lnc_RNA | NA | NA | rna-XR_002636969.1      | ⋯ | NA | NA | NA | NA | NA | NA | NA | NA | NA | NA |\n",
       "| 4 | NC_035780.1 | 13578 |    13603 |       26 | + | Gnomon | exon    | NA | NA | exon-XR_002636969.1-1   | ⋯ | NA | NA | NA | NA | NA | NA | NA | NA | NA | NA |\n",
       "| 5 | NC_035780.1 | 14237 |    14290 |       54 | + | Gnomon | exon    | NA | NA | exon-XR_002636969.1-2   | ⋯ | NA | NA | NA | NA | NA | NA | NA | NA | NA | NA |\n",
       "| 6 | NC_035780.1 | 14557 |    14594 |       38 | + | Gnomon | exon    | NA | NA | exon-XR_002636969.1-3   | ⋯ | NA | NA | NA | NA | NA | NA | NA | NA | NA | NA |\n",
       "\n"
      ],
      "text/plain": [
       "  seqnames    start end      width    strand source type    score phase\n",
       "1 NC_035780.1     1 65668440 65668440 +      RefSeq region  NA    NA   \n",
       "2 NC_035780.1 13578    14594     1017 +      Gnomon gene    NA    NA   \n",
       "3 NC_035780.1 13578    14594     1017 +      Gnomon lnc_RNA NA    NA   \n",
       "4 NC_035780.1 13578    13603       26 +      Gnomon exon    NA    NA   \n",
       "5 NC_035780.1 14237    14290       54 +      Gnomon exon    NA    NA   \n",
       "6 NC_035780.1 14557    14594       38 +      Gnomon exon    NA    NA   \n",
       "  ID                      ⋯ num_mismatch pct_coverage pct_coverage_hiqual\n",
       "1 NC_035780.1:1..65668440 ⋯ NA           NA           NA                 \n",
       "2 gene-LOC111116054       ⋯ NA           NA           NA                 \n",
       "3 rna-XR_002636969.1      ⋯ NA           NA           NA                 \n",
       "4 exon-XR_002636969.1-1   ⋯ NA           NA           NA                 \n",
       "5 exon-XR_002636969.1-2   ⋯ NA           NA           NA                 \n",
       "6 exon-XR_002636969.1-3   ⋯ NA           NA           NA                 \n",
       "  pct_identity_gap pct_identity_ungap rank Gap Is_circular transl_table codons\n",
       "1 NA               NA                 NA   NA  NA          NA           NA    \n",
       "2 NA               NA                 NA   NA  NA          NA           NA    \n",
       "3 NA               NA                 NA   NA  NA          NA           NA    \n",
       "4 NA               NA                 NA   NA  NA          NA           NA    \n",
       "5 NA               NA                 NA   NA  NA          NA           NA    \n",
       "6 NA               NA                 NA   NA  NA          NA           NA    "
      ]
     },
     "metadata": {},
     "output_type": "display_data"
    }
   ],
   "source": [
    "gff <- as.data.frame(import.gff('/project/pi_sarah_gignouxwolfsohn_uml_edu/Reference_genomes/Cvirginica_genome/CV_working_genomic.gff'))\n",
    "head(gff)"
   ]
  },
  {
   "cell_type": "code",
   "execution_count": 66,
   "id": "9d7f93d9-6b0b-433c-994b-8dac4781bc4f",
   "metadata": {},
   "outputs": [
    {
     "data": {
      "text/html": [
       "<table class=\"dataframe\">\n",
       "<caption>A data.frame: 6 × 12</caption>\n",
       "<thead>\n",
       "\t<tr><th></th><th scope=col>seqnames</th><th scope=col>start</th><th scope=col>end</th><th scope=col>width</th><th scope=col>strand</th><th scope=col>source</th><th scope=col>type</th><th scope=col>score</th><th scope=col>phase</th><th scope=col>ID</th><th scope=col>Dbxref</th><th scope=col>Name</th></tr>\n",
       "\t<tr><th></th><th scope=col>&lt;fct&gt;</th><th scope=col>&lt;int&gt;</th><th scope=col>&lt;int&gt;</th><th scope=col>&lt;int&gt;</th><th scope=col>&lt;fct&gt;</th><th scope=col>&lt;fct&gt;</th><th scope=col>&lt;fct&gt;</th><th scope=col>&lt;dbl&gt;</th><th scope=col>&lt;int&gt;</th><th scope=col>&lt;chr&gt;</th><th scope=col>&lt;list&gt;</th><th scope=col>&lt;chr&gt;</th></tr>\n",
       "</thead>\n",
       "<tbody>\n",
       "\t<tr><th scope=row>2</th><td>NC_035780.1</td><td> 13578</td><td> 14594</td><td> 1017</td><td>+</td><td>Gnomon</td><td>gene</td><td>NA</td><td>NA</td><td>gene-LOC111116054</td><td>GeneID:1....</td><td>LOC111116054</td></tr>\n",
       "\t<tr><th scope=row>7</th><td>NC_035780.1</td><td> 28961</td><td> 33324</td><td> 4364</td><td>+</td><td>Gnomon</td><td>gene</td><td>NA</td><td>NA</td><td>gene-LOC111126949</td><td>GeneID:1....</td><td>LOC111126949</td></tr>\n",
       "\t<tr><th scope=row>18</th><td>NC_035780.1</td><td> 43111</td><td> 66897</td><td>23787</td><td>-</td><td>Gnomon</td><td>gene</td><td>NA</td><td>NA</td><td>gene-LOC111110729</td><td>GeneID:1....</td><td>LOC111110729</td></tr>\n",
       "\t<tr><th scope=row>30</th><td>NC_035780.1</td><td> 85606</td><td> 95254</td><td> 9649</td><td>-</td><td>Gnomon</td><td>gene</td><td>NA</td><td>NA</td><td>gene-LOC111112434</td><td>GeneID:1....</td><td>LOC111112434</td></tr>\n",
       "\t<tr><th scope=row>38</th><td>NC_035780.1</td><td> 99840</td><td>106460</td><td> 6621</td><td>+</td><td>Gnomon</td><td>gene</td><td>NA</td><td>NA</td><td>gene-LOC111120752</td><td>GeneID:1....</td><td>LOC111120752</td></tr>\n",
       "\t<tr><th scope=row>50</th><td>NC_035780.1</td><td>108305</td><td>110077</td><td> 1773</td><td>-</td><td>Gnomon</td><td>gene</td><td>NA</td><td>NA</td><td>gene-LOC111128944</td><td>GeneID:1....</td><td>LOC111128944</td></tr>\n",
       "</tbody>\n",
       "</table>\n"
      ],
      "text/latex": [
       "A data.frame: 6 × 12\n",
       "\\begin{tabular}{r|llllllllllll}\n",
       "  & seqnames & start & end & width & strand & source & type & score & phase & ID & Dbxref & Name\\\\\n",
       "  & <fct> & <int> & <int> & <int> & <fct> & <fct> & <fct> & <dbl> & <int> & <chr> & <list> & <chr>\\\\\n",
       "\\hline\n",
       "\t2 & NC\\_035780.1 &  13578 &  14594 &  1017 & + & Gnomon & gene & NA & NA & gene-LOC111116054 & GeneID:1.... & LOC111116054\\\\\n",
       "\t7 & NC\\_035780.1 &  28961 &  33324 &  4364 & + & Gnomon & gene & NA & NA & gene-LOC111126949 & GeneID:1.... & LOC111126949\\\\\n",
       "\t18 & NC\\_035780.1 &  43111 &  66897 & 23787 & - & Gnomon & gene & NA & NA & gene-LOC111110729 & GeneID:1.... & LOC111110729\\\\\n",
       "\t30 & NC\\_035780.1 &  85606 &  95254 &  9649 & - & Gnomon & gene & NA & NA & gene-LOC111112434 & GeneID:1.... & LOC111112434\\\\\n",
       "\t38 & NC\\_035780.1 &  99840 & 106460 &  6621 & + & Gnomon & gene & NA & NA & gene-LOC111120752 & GeneID:1.... & LOC111120752\\\\\n",
       "\t50 & NC\\_035780.1 & 108305 & 110077 &  1773 & - & Gnomon & gene & NA & NA & gene-LOC111128944 & GeneID:1.... & LOC111128944\\\\\n",
       "\\end{tabular}\n"
      ],
      "text/markdown": [
       "\n",
       "A data.frame: 6 × 12\n",
       "\n",
       "| <!--/--> | seqnames &lt;fct&gt; | start &lt;int&gt; | end &lt;int&gt; | width &lt;int&gt; | strand &lt;fct&gt; | source &lt;fct&gt; | type &lt;fct&gt; | score &lt;dbl&gt; | phase &lt;int&gt; | ID &lt;chr&gt; | Dbxref &lt;list&gt; | Name &lt;chr&gt; |\n",
       "|---|---|---|---|---|---|---|---|---|---|---|---|---|\n",
       "| 2 | NC_035780.1 |  13578 |  14594 |  1017 | + | Gnomon | gene | NA | NA | gene-LOC111116054 | GeneID:1.... | LOC111116054 |\n",
       "| 7 | NC_035780.1 |  28961 |  33324 |  4364 | + | Gnomon | gene | NA | NA | gene-LOC111126949 | GeneID:1.... | LOC111126949 |\n",
       "| 18 | NC_035780.1 |  43111 |  66897 | 23787 | - | Gnomon | gene | NA | NA | gene-LOC111110729 | GeneID:1.... | LOC111110729 |\n",
       "| 30 | NC_035780.1 |  85606 |  95254 |  9649 | - | Gnomon | gene | NA | NA | gene-LOC111112434 | GeneID:1.... | LOC111112434 |\n",
       "| 38 | NC_035780.1 |  99840 | 106460 |  6621 | + | Gnomon | gene | NA | NA | gene-LOC111120752 | GeneID:1.... | LOC111120752 |\n",
       "| 50 | NC_035780.1 | 108305 | 110077 |  1773 | - | Gnomon | gene | NA | NA | gene-LOC111128944 | GeneID:1.... | LOC111128944 |\n",
       "\n"
      ],
      "text/plain": [
       "   seqnames    start  end    width strand source type score phase\n",
       "2  NC_035780.1  13578  14594  1017 +      Gnomon gene NA    NA   \n",
       "7  NC_035780.1  28961  33324  4364 +      Gnomon gene NA    NA   \n",
       "18 NC_035780.1  43111  66897 23787 -      Gnomon gene NA    NA   \n",
       "30 NC_035780.1  85606  95254  9649 -      Gnomon gene NA    NA   \n",
       "38 NC_035780.1  99840 106460  6621 +      Gnomon gene NA    NA   \n",
       "50 NC_035780.1 108305 110077  1773 -      Gnomon gene NA    NA   \n",
       "   ID                Dbxref       Name        \n",
       "2  gene-LOC111116054 GeneID:1.... LOC111116054\n",
       "7  gene-LOC111126949 GeneID:1.... LOC111126949\n",
       "18 gene-LOC111110729 GeneID:1.... LOC111110729\n",
       "30 gene-LOC111112434 GeneID:1.... LOC111112434\n",
       "38 gene-LOC111120752 GeneID:1.... LOC111120752\n",
       "50 gene-LOC111128944 GeneID:1.... LOC111128944"
      ]
     },
     "metadata": {},
     "output_type": "display_data"
    }
   ],
   "source": [
    "gff_genes <- gff[grep(\"LOC\", gff$Name),1:12]\n",
    "head(gff_genes)"
   ]
  },
  {
   "cell_type": "code",
   "execution_count": 74,
   "id": "c158d0f7-e405-4eaf-87b6-5aa68389ceba",
   "metadata": {},
   "outputs": [
    {
     "data": {
      "text/html": [
       "<table class=\"dataframe\">\n",
       "<caption>A data.frame: 6 × 12</caption>\n",
       "<thead>\n",
       "\t<tr><th></th><th scope=col>seqnames</th><th scope=col>start</th><th scope=col>end</th><th scope=col>width</th><th scope=col>strand</th><th scope=col>source</th><th scope=col>type</th><th scope=col>score</th><th scope=col>phase</th><th scope=col>ID</th><th scope=col>Dbxref</th><th scope=col>Name</th></tr>\n",
       "\t<tr><th></th><th scope=col>&lt;fct&gt;</th><th scope=col>&lt;int&gt;</th><th scope=col>&lt;int&gt;</th><th scope=col>&lt;int&gt;</th><th scope=col>&lt;fct&gt;</th><th scope=col>&lt;fct&gt;</th><th scope=col>&lt;fct&gt;</th><th scope=col>&lt;dbl&gt;</th><th scope=col>&lt;int&gt;</th><th scope=col>&lt;chr&gt;</th><th scope=col>&lt;list&gt;</th><th scope=col>&lt;chr&gt;</th></tr>\n",
       "</thead>\n",
       "<tbody>\n",
       "\t<tr><th scope=row>303</th><td>NC_035780.1</td><td>  315522</td><td>  340261</td><td>24740</td><td>+</td><td>Gnomon</td><td>gene</td><td>NA</td><td>NA</td><td>gene-LOC111133260</td><td>GeneID:1....</td><td>LOC111133260</td></tr>\n",
       "\t<tr><th scope=row>543</th><td>NC_035780.1</td><td>  444907</td><td>  453310</td><td> 8404</td><td>-</td><td>Gnomon</td><td>gene</td><td>NA</td><td>NA</td><td>gene-LOC111109809</td><td>GeneID:1....</td><td>LOC111109809</td></tr>\n",
       "\t<tr><th scope=row>16195</th><td>NC_035780.1</td><td> 9011563</td><td> 9043404</td><td>31842</td><td>-</td><td>Gnomon</td><td>gene</td><td>NA</td><td>NA</td><td>gene-LOC111137635</td><td>GeneID:1....</td><td>LOC111137635</td></tr>\n",
       "\t<tr><th scope=row>16555</th><td>NC_035780.1</td><td> 9288063</td><td> 9301976</td><td>13914</td><td>-</td><td>Gnomon</td><td>gene</td><td>NA</td><td>NA</td><td>gene-LOC111132155</td><td>GeneID:1....</td><td>LOC111132155</td></tr>\n",
       "\t<tr><th scope=row>27864</th><td>NC_035780.1</td><td>13324137</td><td>13332152</td><td> 8016</td><td>+</td><td>Gnomon</td><td>gene</td><td>NA</td><td>NA</td><td>gene-LOC111113022</td><td>GeneID:1....</td><td>LOC111113022</td></tr>\n",
       "\t<tr><th scope=row>28276</th><td>NC_035780.1</td><td>13591534</td><td>13596982</td><td> 5449</td><td>-</td><td>Gnomon</td><td>gene</td><td>NA</td><td>NA</td><td>gene-LOC111131329</td><td>GeneID:1....</td><td>LOC111131329</td></tr>\n",
       "</tbody>\n",
       "</table>\n"
      ],
      "text/latex": [
       "A data.frame: 6 × 12\n",
       "\\begin{tabular}{r|llllllllllll}\n",
       "  & seqnames & start & end & width & strand & source & type & score & phase & ID & Dbxref & Name\\\\\n",
       "  & <fct> & <int> & <int> & <int> & <fct> & <fct> & <fct> & <dbl> & <int> & <chr> & <list> & <chr>\\\\\n",
       "\\hline\n",
       "\t303 & NC\\_035780.1 &   315522 &   340261 & 24740 & + & Gnomon & gene & NA & NA & gene-LOC111133260 & GeneID:1.... & LOC111133260\\\\\n",
       "\t543 & NC\\_035780.1 &   444907 &   453310 &  8404 & - & Gnomon & gene & NA & NA & gene-LOC111109809 & GeneID:1.... & LOC111109809\\\\\n",
       "\t16195 & NC\\_035780.1 &  9011563 &  9043404 & 31842 & - & Gnomon & gene & NA & NA & gene-LOC111137635 & GeneID:1.... & LOC111137635\\\\\n",
       "\t16555 & NC\\_035780.1 &  9288063 &  9301976 & 13914 & - & Gnomon & gene & NA & NA & gene-LOC111132155 & GeneID:1.... & LOC111132155\\\\\n",
       "\t27864 & NC\\_035780.1 & 13324137 & 13332152 &  8016 & + & Gnomon & gene & NA & NA & gene-LOC111113022 & GeneID:1.... & LOC111113022\\\\\n",
       "\t28276 & NC\\_035780.1 & 13591534 & 13596982 &  5449 & - & Gnomon & gene & NA & NA & gene-LOC111131329 & GeneID:1.... & LOC111131329\\\\\n",
       "\\end{tabular}\n"
      ],
      "text/markdown": [
       "\n",
       "A data.frame: 6 × 12\n",
       "\n",
       "| <!--/--> | seqnames &lt;fct&gt; | start &lt;int&gt; | end &lt;int&gt; | width &lt;int&gt; | strand &lt;fct&gt; | source &lt;fct&gt; | type &lt;fct&gt; | score &lt;dbl&gt; | phase &lt;int&gt; | ID &lt;chr&gt; | Dbxref &lt;list&gt; | Name &lt;chr&gt; |\n",
       "|---|---|---|---|---|---|---|---|---|---|---|---|---|\n",
       "| 303 | NC_035780.1 |   315522 |   340261 | 24740 | + | Gnomon | gene | NA | NA | gene-LOC111133260 | GeneID:1.... | LOC111133260 |\n",
       "| 543 | NC_035780.1 |   444907 |   453310 |  8404 | - | Gnomon | gene | NA | NA | gene-LOC111109809 | GeneID:1.... | LOC111109809 |\n",
       "| 16195 | NC_035780.1 |  9011563 |  9043404 | 31842 | - | Gnomon | gene | NA | NA | gene-LOC111137635 | GeneID:1.... | LOC111137635 |\n",
       "| 16555 | NC_035780.1 |  9288063 |  9301976 | 13914 | - | Gnomon | gene | NA | NA | gene-LOC111132155 | GeneID:1.... | LOC111132155 |\n",
       "| 27864 | NC_035780.1 | 13324137 | 13332152 |  8016 | + | Gnomon | gene | NA | NA | gene-LOC111113022 | GeneID:1.... | LOC111113022 |\n",
       "| 28276 | NC_035780.1 | 13591534 | 13596982 |  5449 | - | Gnomon | gene | NA | NA | gene-LOC111131329 | GeneID:1.... | LOC111131329 |\n",
       "\n"
      ],
      "text/plain": [
       "      seqnames    start    end      width strand source type score phase\n",
       "303   NC_035780.1   315522   340261 24740 +      Gnomon gene NA    NA   \n",
       "543   NC_035780.1   444907   453310  8404 -      Gnomon gene NA    NA   \n",
       "16195 NC_035780.1  9011563  9043404 31842 -      Gnomon gene NA    NA   \n",
       "16555 NC_035780.1  9288063  9301976 13914 -      Gnomon gene NA    NA   \n",
       "27864 NC_035780.1 13324137 13332152  8016 +      Gnomon gene NA    NA   \n",
       "28276 NC_035780.1 13591534 13596982  5449 -      Gnomon gene NA    NA   \n",
       "      ID                Dbxref       Name        \n",
       "303   gene-LOC111133260 GeneID:1.... LOC111133260\n",
       "543   gene-LOC111109809 GeneID:1.... LOC111109809\n",
       "16195 gene-LOC111137635 GeneID:1.... LOC111137635\n",
       "16555 gene-LOC111132155 GeneID:1.... LOC111132155\n",
       "27864 gene-LOC111113022 GeneID:1.... LOC111113022\n",
       "28276 gene-LOC111131329 GeneID:1.... LOC111131329"
      ]
     },
     "metadata": {},
     "output_type": "display_data"
    },
    {
     "data": {
      "text/html": [
       "<style>\n",
       ".list-inline {list-style: none; margin:0; padding: 0}\n",
       ".list-inline>li {display: inline-block}\n",
       ".list-inline>li:not(:last-child)::after {content: \"\\00b7\"; padding: 0 .5ex}\n",
       "</style>\n",
       "<ol class=list-inline><li>217</li><li>12</li></ol>\n"
      ],
      "text/latex": [
       "\\begin{enumerate*}\n",
       "\\item 217\n",
       "\\item 12\n",
       "\\end{enumerate*}\n"
      ],
      "text/markdown": [
       "1. 217\n",
       "2. 12\n",
       "\n",
       "\n"
      ],
      "text/plain": [
       "[1] 217  12"
      ]
     },
     "metadata": {},
     "output_type": "display_data"
    },
    {
     "data": {
      "text/html": [
       "<style>\n",
       ".list-inline {list-style: none; margin:0; padding: 0}\n",
       ".list-inline>li {display: inline-block}\n",
       ".list-inline>li:not(:last-child)::after {content: \"\\00b7\"; padding: 0 .5ex}\n",
       "</style>\n",
       "<ol class=list-inline><li>217</li><li>3</li></ol>\n"
      ],
      "text/latex": [
       "\\begin{enumerate*}\n",
       "\\item 217\n",
       "\\item 3\n",
       "\\end{enumerate*}\n"
      ],
      "text/markdown": [
       "1. 217\n",
       "2. 3\n",
       "\n",
       "\n"
      ],
      "text/plain": [
       "[1] 217   3"
      ]
     },
     "metadata": {},
     "output_type": "display_data"
    }
   ],
   "source": [
    "dmg_gff <- gff_genes[gff_genes$Name %in% dmg$symbol,]\n",
    "head(dmg_gff)\n",
    "\n",
    "dim(dmg_gff)\n",
    "dim(dmg)"
   ]
  },
  {
   "cell_type": "code",
   "execution_count": 79,
   "id": "cc07c408-2be4-4493-ba04-c3ea6bc97762",
   "metadata": {},
   "outputs": [],
   "source": [
    "write.table(select(dmg_gff, seqnames, start, end), \n",
    "              '/project/pi_sarah_gignouxwolfsohn_uml_edu/julia/CE_MethylRAD_analysis_2018/analysis/genomic_feature_tracks/proportion_overlap/dmg_gff.bed',\n",
    "              row.names = FALSE, col.names = FALSE, sep = \"\\t\", quote = FALSE)"
   ]
  },
  {
   "cell_type": "markdown",
   "id": "e8cdbe23-37bd-497a-b5cd-a93fbceb6f70",
   "metadata": {},
   "source": [
    "#### 2. make plot"
   ]
  },
  {
   "cell_type": "code",
   "execution_count": 80,
   "id": "1f49d655-1a69-4a28-a1d4-ef3efaad2672",
   "metadata": {},
   "outputs": [
    {
     "data": {
      "text/html": [
       "<table class=\"dataframe\">\n",
       "<caption>A data.frame: 15 × 5</caption>\n",
       "<thead>\n",
       "\t<tr><th scope=col>genomicFeature</th><th scope=col>treatment</th><th scope=col>propOverlap</th><th scope=col>propOverlap_sum</th><th scope=col>proportion_overlap</th></tr>\n",
       "\t<tr><th scope=col>&lt;chr&gt;</th><th scope=col>&lt;chr&gt;</th><th scope=col>&lt;int&gt;</th><th scope=col>&lt;int&gt;</th><th scope=col>&lt;dbl&gt;</th></tr>\n",
       "</thead>\n",
       "<tbody>\n",
       "\t<tr><td>exons  </td><td>CC    </td><td>  862</td><td> 1557</td><td>0.55362877</td></tr>\n",
       "\t<tr><td>introns</td><td>CC    </td><td>  524</td><td> 1557</td><td>0.33654464</td></tr>\n",
       "\t<tr><td>UTRs   </td><td>CC    </td><td>  171</td><td> 1557</td><td>0.10982659</td></tr>\n",
       "\t<tr><td>exons  </td><td>CH    </td><td>  308</td><td>  519</td><td>0.59344894</td></tr>\n",
       "\t<tr><td>introns</td><td>CH    </td><td>  187</td><td>  519</td><td>0.36030829</td></tr>\n",
       "\t<tr><td>UTRs   </td><td>CH    </td><td>   24</td><td>  519</td><td>0.04624277</td></tr>\n",
       "\t<tr><td>exons  </td><td>HC    </td><td>  862</td><td> 1601</td><td>0.53841349</td></tr>\n",
       "\t<tr><td>introns</td><td>HC    </td><td>  585</td><td> 1601</td><td>0.36539663</td></tr>\n",
       "\t<tr><td>UTRs   </td><td>HC    </td><td>  154</td><td> 1601</td><td>0.09618988</td></tr>\n",
       "\t<tr><td>exons  </td><td>HH    </td><td>  890</td><td> 1659</td><td>0.53646775</td></tr>\n",
       "\t<tr><td>introns</td><td>HH    </td><td>  611</td><td> 1659</td><td>0.36829415</td></tr>\n",
       "\t<tr><td>UTRs   </td><td>HH    </td><td>  158</td><td> 1659</td><td>0.09523810</td></tr>\n",
       "\t<tr><td>exons  </td><td>allCpG</td><td>13793</td><td>56848</td><td>0.24262947</td></tr>\n",
       "\t<tr><td>introns</td><td>allCpG</td><td>39509</td><td>56848</td><td>0.69499367</td></tr>\n",
       "\t<tr><td>UTRs   </td><td>allCpG</td><td> 3546</td><td>56848</td><td>0.06237686</td></tr>\n",
       "</tbody>\n",
       "</table>\n"
      ],
      "text/latex": [
       "A data.frame: 15 × 5\n",
       "\\begin{tabular}{lllll}\n",
       " genomicFeature & treatment & propOverlap & propOverlap\\_sum & proportion\\_overlap\\\\\n",
       " <chr> & <chr> & <int> & <int> & <dbl>\\\\\n",
       "\\hline\n",
       "\t exons   & CC     &   862 &  1557 & 0.55362877\\\\\n",
       "\t introns & CC     &   524 &  1557 & 0.33654464\\\\\n",
       "\t UTRs    & CC     &   171 &  1557 & 0.10982659\\\\\n",
       "\t exons   & CH     &   308 &   519 & 0.59344894\\\\\n",
       "\t introns & CH     &   187 &   519 & 0.36030829\\\\\n",
       "\t UTRs    & CH     &    24 &   519 & 0.04624277\\\\\n",
       "\t exons   & HC     &   862 &  1601 & 0.53841349\\\\\n",
       "\t introns & HC     &   585 &  1601 & 0.36539663\\\\\n",
       "\t UTRs    & HC     &   154 &  1601 & 0.09618988\\\\\n",
       "\t exons   & HH     &   890 &  1659 & 0.53646775\\\\\n",
       "\t introns & HH     &   611 &  1659 & 0.36829415\\\\\n",
       "\t UTRs    & HH     &   158 &  1659 & 0.09523810\\\\\n",
       "\t exons   & allCpG & 13793 & 56848 & 0.24262947\\\\\n",
       "\t introns & allCpG & 39509 & 56848 & 0.69499367\\\\\n",
       "\t UTRs    & allCpG &  3546 & 56848 & 0.06237686\\\\\n",
       "\\end{tabular}\n"
      ],
      "text/markdown": [
       "\n",
       "A data.frame: 15 × 5\n",
       "\n",
       "| genomicFeature &lt;chr&gt; | treatment &lt;chr&gt; | propOverlap &lt;int&gt; | propOverlap_sum &lt;int&gt; | proportion_overlap &lt;dbl&gt; |\n",
       "|---|---|---|---|---|\n",
       "| exons   | CC     |   862 |  1557 | 0.55362877 |\n",
       "| introns | CC     |   524 |  1557 | 0.33654464 |\n",
       "| UTRs    | CC     |   171 |  1557 | 0.10982659 |\n",
       "| exons   | CH     |   308 |   519 | 0.59344894 |\n",
       "| introns | CH     |   187 |   519 | 0.36030829 |\n",
       "| UTRs    | CH     |    24 |   519 | 0.04624277 |\n",
       "| exons   | HC     |   862 |  1601 | 0.53841349 |\n",
       "| introns | HC     |   585 |  1601 | 0.36539663 |\n",
       "| UTRs    | HC     |   154 |  1601 | 0.09618988 |\n",
       "| exons   | HH     |   890 |  1659 | 0.53646775 |\n",
       "| introns | HH     |   611 |  1659 | 0.36829415 |\n",
       "| UTRs    | HH     |   158 |  1659 | 0.09523810 |\n",
       "| exons   | allCpG | 13793 | 56848 | 0.24262947 |\n",
       "| introns | allCpG | 39509 | 56848 | 0.69499367 |\n",
       "| UTRs    | allCpG |  3546 | 56848 | 0.06237686 |\n",
       "\n"
      ],
      "text/plain": [
       "   genomicFeature treatment propOverlap propOverlap_sum proportion_overlap\n",
       "1  exons          CC          862        1557           0.55362877        \n",
       "2  introns        CC          524        1557           0.33654464        \n",
       "3  UTRs           CC          171        1557           0.10982659        \n",
       "4  exons          CH          308         519           0.59344894        \n",
       "5  introns        CH          187         519           0.36030829        \n",
       "6  UTRs           CH           24         519           0.04624277        \n",
       "7  exons          HC          862        1601           0.53841349        \n",
       "8  introns        HC          585        1601           0.36539663        \n",
       "9  UTRs           HC          154        1601           0.09618988        \n",
       "10 exons          HH          890        1659           0.53646775        \n",
       "11 introns        HH          611        1659           0.36829415        \n",
       "12 UTRs           HH          158        1659           0.09523810        \n",
       "13 exons          allCpG    13793       56848           0.24262947        \n",
       "14 introns        allCpG    39509       56848           0.69499367        \n",
       "15 UTRs           allCpG     3546       56848           0.06237686        "
      ]
     },
     "metadata": {},
     "output_type": "display_data"
    }
   ],
   "source": [
    "df <- read.csv('/project/pi_sarah_gignouxwolfsohn_uml_edu/julia/CE_MethylRAD_analysis_2018/analysis/genomic_feature_tracks/proportion_overlap/propOverlap_dmg.csv')\n",
    "df"
   ]
  },
  {
   "cell_type": "code",
   "execution_count": 82,
   "id": "6492c91b-3d6a-48c4-b8b4-da93f7f35a1e",
   "metadata": {},
   "outputs": [
    {
     "data": {
      "text/html": [
       "<table class=\"dataframe\">\n",
       "<caption>A data.frame: 15 × 7</caption>\n",
       "<thead>\n",
       "\t<tr><th scope=col>genomicFeature</th><th scope=col>treatment</th><th scope=col>propOverlap</th><th scope=col>propOverlap_sum</th><th scope=col>proportion_overlap</th><th scope=col>phase1</th><th scope=col>phase2</th></tr>\n",
       "\t<tr><th scope=col>&lt;chr&gt;</th><th scope=col>&lt;chr&gt;</th><th scope=col>&lt;int&gt;</th><th scope=col>&lt;int&gt;</th><th scope=col>&lt;dbl&gt;</th><th scope=col>&lt;chr&gt;</th><th scope=col>&lt;chr&gt;</th></tr>\n",
       "</thead>\n",
       "<tbody>\n",
       "\t<tr><td>exons  </td><td>CC    </td><td>  862</td><td> 1557</td><td>0.55362877</td><td>Control</td><td>Control </td></tr>\n",
       "\t<tr><td>introns</td><td>CC    </td><td>  524</td><td> 1557</td><td>0.33654464</td><td>Control</td><td>Control </td></tr>\n",
       "\t<tr><td>UTRs   </td><td>CC    </td><td>  171</td><td> 1557</td><td>0.10982659</td><td>Control</td><td>Control </td></tr>\n",
       "\t<tr><td>exons  </td><td>CH    </td><td>  308</td><td>  519</td><td>0.59344894</td><td>Control</td><td>Hypoxic </td></tr>\n",
       "\t<tr><td>introns</td><td>CH    </td><td>  187</td><td>  519</td><td>0.36030829</td><td>Control</td><td>Hypoxic </td></tr>\n",
       "\t<tr><td>UTRs   </td><td>CH    </td><td>   24</td><td>  519</td><td>0.04624277</td><td>Control</td><td>Hypoxic </td></tr>\n",
       "\t<tr><td>exons  </td><td>HC    </td><td>  862</td><td> 1601</td><td>0.53841349</td><td>Hypoxic</td><td>Control </td></tr>\n",
       "\t<tr><td>introns</td><td>HC    </td><td>  585</td><td> 1601</td><td>0.36539663</td><td>Hypoxic</td><td>Control </td></tr>\n",
       "\t<tr><td>UTRs   </td><td>HC    </td><td>  154</td><td> 1601</td><td>0.09618988</td><td>Hypoxic</td><td>Control </td></tr>\n",
       "\t<tr><td>exons  </td><td>HH    </td><td>  890</td><td> 1659</td><td>0.53646775</td><td>Hypoxic</td><td>Hypoxic </td></tr>\n",
       "\t<tr><td>introns</td><td>HH    </td><td>  611</td><td> 1659</td><td>0.36829415</td><td>Hypoxic</td><td>Hypoxic </td></tr>\n",
       "\t<tr><td>UTRs   </td><td>HH    </td><td>  158</td><td> 1659</td><td>0.09523810</td><td>Hypoxic</td><td>Hypoxic </td></tr>\n",
       "\t<tr><td>exons  </td><td>allCpG</td><td>13793</td><td>56848</td><td>0.24262947</td><td>       </td><td>All CpGs</td></tr>\n",
       "\t<tr><td>introns</td><td>allCpG</td><td>39509</td><td>56848</td><td>0.69499367</td><td>       </td><td>All CpGs</td></tr>\n",
       "\t<tr><td>UTRs   </td><td>allCpG</td><td> 3546</td><td>56848</td><td>0.06237686</td><td>       </td><td>All CpGs</td></tr>\n",
       "</tbody>\n",
       "</table>\n"
      ],
      "text/latex": [
       "A data.frame: 15 × 7\n",
       "\\begin{tabular}{lllllll}\n",
       " genomicFeature & treatment & propOverlap & propOverlap\\_sum & proportion\\_overlap & phase1 & phase2\\\\\n",
       " <chr> & <chr> & <int> & <int> & <dbl> & <chr> & <chr>\\\\\n",
       "\\hline\n",
       "\t exons   & CC     &   862 &  1557 & 0.55362877 & Control & Control \\\\\n",
       "\t introns & CC     &   524 &  1557 & 0.33654464 & Control & Control \\\\\n",
       "\t UTRs    & CC     &   171 &  1557 & 0.10982659 & Control & Control \\\\\n",
       "\t exons   & CH     &   308 &   519 & 0.59344894 & Control & Hypoxic \\\\\n",
       "\t introns & CH     &   187 &   519 & 0.36030829 & Control & Hypoxic \\\\\n",
       "\t UTRs    & CH     &    24 &   519 & 0.04624277 & Control & Hypoxic \\\\\n",
       "\t exons   & HC     &   862 &  1601 & 0.53841349 & Hypoxic & Control \\\\\n",
       "\t introns & HC     &   585 &  1601 & 0.36539663 & Hypoxic & Control \\\\\n",
       "\t UTRs    & HC     &   154 &  1601 & 0.09618988 & Hypoxic & Control \\\\\n",
       "\t exons   & HH     &   890 &  1659 & 0.53646775 & Hypoxic & Hypoxic \\\\\n",
       "\t introns & HH     &   611 &  1659 & 0.36829415 & Hypoxic & Hypoxic \\\\\n",
       "\t UTRs    & HH     &   158 &  1659 & 0.09523810 & Hypoxic & Hypoxic \\\\\n",
       "\t exons   & allCpG & 13793 & 56848 & 0.24262947 &         & All CpGs\\\\\n",
       "\t introns & allCpG & 39509 & 56848 & 0.69499367 &         & All CpGs\\\\\n",
       "\t UTRs    & allCpG &  3546 & 56848 & 0.06237686 &         & All CpGs\\\\\n",
       "\\end{tabular}\n"
      ],
      "text/markdown": [
       "\n",
       "A data.frame: 15 × 7\n",
       "\n",
       "| genomicFeature &lt;chr&gt; | treatment &lt;chr&gt; | propOverlap &lt;int&gt; | propOverlap_sum &lt;int&gt; | proportion_overlap &lt;dbl&gt; | phase1 &lt;chr&gt; | phase2 &lt;chr&gt; |\n",
       "|---|---|---|---|---|---|---|\n",
       "| exons   | CC     |   862 |  1557 | 0.55362877 | Control | Control  |\n",
       "| introns | CC     |   524 |  1557 | 0.33654464 | Control | Control  |\n",
       "| UTRs    | CC     |   171 |  1557 | 0.10982659 | Control | Control  |\n",
       "| exons   | CH     |   308 |   519 | 0.59344894 | Control | Hypoxic  |\n",
       "| introns | CH     |   187 |   519 | 0.36030829 | Control | Hypoxic  |\n",
       "| UTRs    | CH     |    24 |   519 | 0.04624277 | Control | Hypoxic  |\n",
       "| exons   | HC     |   862 |  1601 | 0.53841349 | Hypoxic | Control  |\n",
       "| introns | HC     |   585 |  1601 | 0.36539663 | Hypoxic | Control  |\n",
       "| UTRs    | HC     |   154 |  1601 | 0.09618988 | Hypoxic | Control  |\n",
       "| exons   | HH     |   890 |  1659 | 0.53646775 | Hypoxic | Hypoxic  |\n",
       "| introns | HH     |   611 |  1659 | 0.36829415 | Hypoxic | Hypoxic  |\n",
       "| UTRs    | HH     |   158 |  1659 | 0.09523810 | Hypoxic | Hypoxic  |\n",
       "| exons   | allCpG | 13793 | 56848 | 0.24262947 | <!----> | All CpGs |\n",
       "| introns | allCpG | 39509 | 56848 | 0.69499367 | <!----> | All CpGs |\n",
       "| UTRs    | allCpG |  3546 | 56848 | 0.06237686 | <!----> | All CpGs |\n",
       "\n"
      ],
      "text/plain": [
       "   genomicFeature treatment propOverlap propOverlap_sum proportion_overlap\n",
       "1  exons          CC          862        1557           0.55362877        \n",
       "2  introns        CC          524        1557           0.33654464        \n",
       "3  UTRs           CC          171        1557           0.10982659        \n",
       "4  exons          CH          308         519           0.59344894        \n",
       "5  introns        CH          187         519           0.36030829        \n",
       "6  UTRs           CH           24         519           0.04624277        \n",
       "7  exons          HC          862        1601           0.53841349        \n",
       "8  introns        HC          585        1601           0.36539663        \n",
       "9  UTRs           HC          154        1601           0.09618988        \n",
       "10 exons          HH          890        1659           0.53646775        \n",
       "11 introns        HH          611        1659           0.36829415        \n",
       "12 UTRs           HH          158        1659           0.09523810        \n",
       "13 exons          allCpG    13793       56848           0.24262947        \n",
       "14 introns        allCpG    39509       56848           0.69499367        \n",
       "15 UTRs           allCpG     3546       56848           0.06237686        \n",
       "   phase1  phase2  \n",
       "1  Control Control \n",
       "2  Control Control \n",
       "3  Control Control \n",
       "4  Control Hypoxic \n",
       "5  Control Hypoxic \n",
       "6  Control Hypoxic \n",
       "7  Hypoxic Control \n",
       "8  Hypoxic Control \n",
       "9  Hypoxic Control \n",
       "10 Hypoxic Hypoxic \n",
       "11 Hypoxic Hypoxic \n",
       "12 Hypoxic Hypoxic \n",
       "13         All CpGs\n",
       "14         All CpGs\n",
       "15         All CpGs"
      ]
     },
     "metadata": {},
     "output_type": "display_data"
    }
   ],
   "source": [
    "library(dplyr)\n",
    "\n",
    "df <- df %>%\n",
    "  mutate(phase1 = case_when(\n",
    "    substr(df$treatment, 1, 1) == \"C\" ~ \"Control\",\n",
    "    substr(df$treatment, 1, 1) == \"H\" ~ \"Hypoxic\",\n",
    "    TRUE ~ \"\"\n",
    "  ),\n",
    "  phase2 = case_when(\n",
    "    substr(df$treatment, 2, 2) == \"C\" ~ \"Control\",\n",
    "    substr(df$treatment, 2, 2) == \"H\" ~ \"Hypoxic\",\n",
    "    TRUE ~ \"All CpGs\"\n",
    "  ))\n",
    "\n",
    "df"
   ]
  },
  {
   "cell_type": "code",
   "execution_count": 85,
   "id": "64e99e21-6fe0-437d-9f79-d002d7241a7a",
   "metadata": {},
   "outputs": [
    {
     "data": {
      "image/png": "[encoded data removed]",
      "text/plain": [
       "plot without title"
      ]
     },
     "metadata": {
      "image/png": {
       "height": 600,
       "width": 900
      }
     },
     "output_type": "display_data"
    }
   ],
   "source": [
    "\n",
    "propOv <- ggplot(df) +\n",
    "  aes(x = phase1, y = proportion_overlap, fill = genomicFeature) +\n",
    "  geom_col(width = 0.5) +\n",
    "  scale_fill_brewer(palette = \"GnBu\", \n",
    " direction = 1) +\n",
    "  geom_col(color = \"black\", linewidth = 0.25) +\n",
    "  labs(x = \"First Exposure\", \n",
    "       y = \"Percent Overlap\", \n",
    "       fill = \"Genomic Feature\",\n",
    "       subtitle = 'Second Exposure',\n",
    "       title = 'Overlap withing DMGs') +\n",
    "  theme_bw() +\n",
    "  facet_grid(~phase2, space = \"free_x\", scales = \"free_x\") + \n",
    "  theme(text = element_text(size = 20),\n",
    "       plot.subtitle = element_text(hjust = .65),\n",
    "       axis.title.x = element_text(hjust = .65))\n",
    "\n",
    "propOv"
   ]
  }
 ],
 "metadata": {
  "kernelspec": {
   "display_name": "R [conda env:.conda-r-env]",
   "language": "R",
   "name": "conda-env-.conda-r-env-r"
  },
  "language_info": {
   "codemirror_mode": "r",
   "file_extension": ".r",
   "mimetype": "text/x-r-source",
   "name": "R",
   "pygments_lexer": "r",
   "version": "4.3.2"
  }
 },
 "nbformat": 4,
 "nbformat_minor": 5
}
