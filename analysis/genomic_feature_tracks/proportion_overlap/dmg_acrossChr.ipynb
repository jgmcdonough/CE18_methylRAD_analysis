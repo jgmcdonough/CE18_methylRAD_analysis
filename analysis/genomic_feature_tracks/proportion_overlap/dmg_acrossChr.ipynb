{
 "cells": [
  {
   "cell_type": "markdown",
   "id": "025b566c-63b6-4641-b05b-64c40b6aecbd",
   "metadata": {},
   "source": [
    "# Distribution of DMGs across the genome\n",
    "Focusing specifically on how many DMGs are in each chromosome and where? Are there any chromosomes that are more affected than others? \n",
    "\n",
    "#### 0. load libraries"
   ]
  },
  {
   "cell_type": "code",
   "execution_count": 10,
   "id": "765dca6c-d3b6-4c75-b20a-0755dd3ad8b0",
   "metadata": {},
   "outputs": [],
   "source": [
    "library(rtracklayer)\n",
    "library(tidyverse)\n",
    "library(RColorBrewer) "
   ]
  },
  {
   "cell_type": "markdown",
   "id": "66d5963b-b586-43f4-8f32-dc5c3f0b6fb6",
   "metadata": {},
   "source": [
    "#### 1. read in dfs, clean up"
   ]
  },
  {
   "cell_type": "code",
   "execution_count": 3,
   "id": "b259e9a5-67d0-49e4-8c40-3f1e4a482b2e",
   "metadata": {},
   "outputs": [
    {
     "data": {
      "text/html": [
       "<table class=\"dataframe\">\n",
       "<caption>A data.frame: 6 × 3</caption>\n",
       "<thead>\n",
       "\t<tr><th></th><th scope=col>symbol</th><th scope=col>name</th><th scope=col>pair</th></tr>\n",
       "\t<tr><th></th><th scope=col>&lt;chr&gt;</th><th scope=col>&lt;chr&gt;</th><th scope=col>&lt;chr&gt;</th></tr>\n",
       "</thead>\n",
       "<tbody>\n",
       "\t<tr><th scope=row>1</th><td>LOC111117760</td><td>disintegrin and metalloproteinase domain-containing protein 10-like, transcript variant X3</td><td>CH, HH, CC</td></tr>\n",
       "\t<tr><th scope=row>2</th><td>LOC111119327</td><td>calcyphosin-like protein, transcript variant X3                                           </td><td>CH, HH, CC</td></tr>\n",
       "\t<tr><th scope=row>3</th><td>LOC111123492</td><td>pre-B-cell leukemia transcription factor 1-like, transcript variant X11                   </td><td>CH, HH, CC</td></tr>\n",
       "\t<tr><th scope=row>4</th><td>LOC111124674</td><td>gamma-glutamyltranspeptidase 1-like, transcript variant X1                                </td><td>CH, HH, CC</td></tr>\n",
       "\t<tr><th scope=row>5</th><td>LOC111129146</td><td>FERM domain-containing protein 8-like                                                     </td><td>CH, HH, CC</td></tr>\n",
       "\t<tr><th scope=row>6</th><td>LOC111133438</td><td>uncharacterized LOC111133438                                                              </td><td>CH, HH, CC</td></tr>\n",
       "</tbody>\n",
       "</table>\n"
      ],
      "text/latex": [
       "A data.frame: 6 × 3\n",
       "\\begin{tabular}{r|lll}\n",
       "  & symbol & name & pair\\\\\n",
       "  & <chr> & <chr> & <chr>\\\\\n",
       "\\hline\n",
       "\t1 & LOC111117760 & disintegrin and metalloproteinase domain-containing protein 10-like, transcript variant X3 & CH, HH, CC\\\\\n",
       "\t2 & LOC111119327 & calcyphosin-like protein, transcript variant X3                                            & CH, HH, CC\\\\\n",
       "\t3 & LOC111123492 & pre-B-cell leukemia transcription factor 1-like, transcript variant X11                    & CH, HH, CC\\\\\n",
       "\t4 & LOC111124674 & gamma-glutamyltranspeptidase 1-like, transcript variant X1                                 & CH, HH, CC\\\\\n",
       "\t5 & LOC111129146 & FERM domain-containing protein 8-like                                                      & CH, HH, CC\\\\\n",
       "\t6 & LOC111133438 & uncharacterized LOC111133438                                                               & CH, HH, CC\\\\\n",
       "\\end{tabular}\n"
      ],
      "text/markdown": [
       "\n",
       "A data.frame: 6 × 3\n",
       "\n",
       "| <!--/--> | symbol &lt;chr&gt; | name &lt;chr&gt; | pair &lt;chr&gt; |\n",
       "|---|---|---|---|\n",
       "| 1 | LOC111117760 | disintegrin and metalloproteinase domain-containing protein 10-like, transcript variant X3 | CH, HH, CC |\n",
       "| 2 | LOC111119327 | calcyphosin-like protein, transcript variant X3                                            | CH, HH, CC |\n",
       "| 3 | LOC111123492 | pre-B-cell leukemia transcription factor 1-like, transcript variant X11                    | CH, HH, CC |\n",
       "| 4 | LOC111124674 | gamma-glutamyltranspeptidase 1-like, transcript variant X1                                 | CH, HH, CC |\n",
       "| 5 | LOC111129146 | FERM domain-containing protein 8-like                                                      | CH, HH, CC |\n",
       "| 6 | LOC111133438 | uncharacterized LOC111133438                                                               | CH, HH, CC |\n",
       "\n"
      ],
      "text/plain": [
       "  symbol      \n",
       "1 LOC111117760\n",
       "2 LOC111119327\n",
       "3 LOC111123492\n",
       "4 LOC111124674\n",
       "5 LOC111129146\n",
       "6 LOC111133438\n",
       "  name                                                                                      \n",
       "1 disintegrin and metalloproteinase domain-containing protein 10-like, transcript variant X3\n",
       "2 calcyphosin-like protein, transcript variant X3                                           \n",
       "3 pre-B-cell leukemia transcription factor 1-like, transcript variant X11                   \n",
       "4 gamma-glutamyltranspeptidase 1-like, transcript variant X1                                \n",
       "5 FERM domain-containing protein 8-like                                                     \n",
       "6 uncharacterized LOC111133438                                                              \n",
       "  pair      \n",
       "1 CH, HH, CC\n",
       "2 CH, HH, CC\n",
       "3 CH, HH, CC\n",
       "4 CH, HH, CC\n",
       "5 CH, HH, CC\n",
       "6 CH, HH, CC"
      ]
     },
     "metadata": {},
     "output_type": "display_data"
    }
   ],
   "source": [
    "dmg <- read.csv('/project/pi_sarah_gignouxwolfsohn_uml_edu/julia/CE_MethylRAD_analysis_2018/analysis/deseq_res_files/sig_DMGs/all_sigDMGs.csv')\n",
    "head(dmg)"
   ]
  },
  {
   "cell_type": "code",
   "execution_count": 5,
   "id": "a11c66c4-b651-4966-a4d8-735db949651f",
   "metadata": {},
   "outputs": [
    {
     "data": {
      "text/html": [
       "<table class=\"dataframe\">\n",
       "<caption>A data.frame: 6 × 12</caption>\n",
       "<thead>\n",
       "\t<tr><th></th><th scope=col>seqnames</th><th scope=col>start</th><th scope=col>end</th><th scope=col>width</th><th scope=col>strand</th><th scope=col>source</th><th scope=col>type</th><th scope=col>score</th><th scope=col>phase</th><th scope=col>ID</th><th scope=col>Dbxref</th><th scope=col>Name</th></tr>\n",
       "\t<tr><th></th><th scope=col>&lt;fct&gt;</th><th scope=col>&lt;int&gt;</th><th scope=col>&lt;int&gt;</th><th scope=col>&lt;int&gt;</th><th scope=col>&lt;fct&gt;</th><th scope=col>&lt;fct&gt;</th><th scope=col>&lt;fct&gt;</th><th scope=col>&lt;dbl&gt;</th><th scope=col>&lt;int&gt;</th><th scope=col>&lt;chr&gt;</th><th scope=col>&lt;list&gt;</th><th scope=col>&lt;chr&gt;</th></tr>\n",
       "</thead>\n",
       "<tbody>\n",
       "\t<tr><th scope=row>303</th><td>NC_035780.1</td><td>  315522</td><td>  340261</td><td>24740</td><td>+</td><td>Gnomon</td><td>gene</td><td>NA</td><td>NA</td><td>gene-LOC111133260</td><td>GeneID:1....</td><td>LOC111133260</td></tr>\n",
       "\t<tr><th scope=row>543</th><td>NC_035780.1</td><td>  444907</td><td>  453310</td><td> 8404</td><td>-</td><td>Gnomon</td><td>gene</td><td>NA</td><td>NA</td><td>gene-LOC111109809</td><td>GeneID:1....</td><td>LOC111109809</td></tr>\n",
       "\t<tr><th scope=row>16195</th><td>NC_035780.1</td><td> 9011563</td><td> 9043404</td><td>31842</td><td>-</td><td>Gnomon</td><td>gene</td><td>NA</td><td>NA</td><td>gene-LOC111137635</td><td>GeneID:1....</td><td>LOC111137635</td></tr>\n",
       "\t<tr><th scope=row>16555</th><td>NC_035780.1</td><td> 9288063</td><td> 9301976</td><td>13914</td><td>-</td><td>Gnomon</td><td>gene</td><td>NA</td><td>NA</td><td>gene-LOC111132155</td><td>GeneID:1....</td><td>LOC111132155</td></tr>\n",
       "\t<tr><th scope=row>27864</th><td>NC_035780.1</td><td>13324137</td><td>13332152</td><td> 8016</td><td>+</td><td>Gnomon</td><td>gene</td><td>NA</td><td>NA</td><td>gene-LOC111113022</td><td>GeneID:1....</td><td>LOC111113022</td></tr>\n",
       "\t<tr><th scope=row>28276</th><td>NC_035780.1</td><td>13591534</td><td>13596982</td><td> 5449</td><td>-</td><td>Gnomon</td><td>gene</td><td>NA</td><td>NA</td><td>gene-LOC111131329</td><td>GeneID:1....</td><td>LOC111131329</td></tr>\n",
       "</tbody>\n",
       "</table>\n"
      ],
      "text/latex": [
       "A data.frame: 6 × 12\n",
       "\\begin{tabular}{r|llllllllllll}\n",
       "  & seqnames & start & end & width & strand & source & type & score & phase & ID & Dbxref & Name\\\\\n",
       "  & <fct> & <int> & <int> & <int> & <fct> & <fct> & <fct> & <dbl> & <int> & <chr> & <list> & <chr>\\\\\n",
       "\\hline\n",
       "\t303 & NC\\_035780.1 &   315522 &   340261 & 24740 & + & Gnomon & gene & NA & NA & gene-LOC111133260 & GeneID:1.... & LOC111133260\\\\\n",
       "\t543 & NC\\_035780.1 &   444907 &   453310 &  8404 & - & Gnomon & gene & NA & NA & gene-LOC111109809 & GeneID:1.... & LOC111109809\\\\\n",
       "\t16195 & NC\\_035780.1 &  9011563 &  9043404 & 31842 & - & Gnomon & gene & NA & NA & gene-LOC111137635 & GeneID:1.... & LOC111137635\\\\\n",
       "\t16555 & NC\\_035780.1 &  9288063 &  9301976 & 13914 & - & Gnomon & gene & NA & NA & gene-LOC111132155 & GeneID:1.... & LOC111132155\\\\\n",
       "\t27864 & NC\\_035780.1 & 13324137 & 13332152 &  8016 & + & Gnomon & gene & NA & NA & gene-LOC111113022 & GeneID:1.... & LOC111113022\\\\\n",
       "\t28276 & NC\\_035780.1 & 13591534 & 13596982 &  5449 & - & Gnomon & gene & NA & NA & gene-LOC111131329 & GeneID:1.... & LOC111131329\\\\\n",
       "\\end{tabular}\n"
      ],
      "text/markdown": [
       "\n",
       "A data.frame: 6 × 12\n",
       "\n",
       "| <!--/--> | seqnames &lt;fct&gt; | start &lt;int&gt; | end &lt;int&gt; | width &lt;int&gt; | strand &lt;fct&gt; | source &lt;fct&gt; | type &lt;fct&gt; | score &lt;dbl&gt; | phase &lt;int&gt; | ID &lt;chr&gt; | Dbxref &lt;list&gt; | Name &lt;chr&gt; |\n",
       "|---|---|---|---|---|---|---|---|---|---|---|---|---|\n",
       "| 303 | NC_035780.1 |   315522 |   340261 | 24740 | + | Gnomon | gene | NA | NA | gene-LOC111133260 | GeneID:1.... | LOC111133260 |\n",
       "| 543 | NC_035780.1 |   444907 |   453310 |  8404 | - | Gnomon | gene | NA | NA | gene-LOC111109809 | GeneID:1.... | LOC111109809 |\n",
       "| 16195 | NC_035780.1 |  9011563 |  9043404 | 31842 | - | Gnomon | gene | NA | NA | gene-LOC111137635 | GeneID:1.... | LOC111137635 |\n",
       "| 16555 | NC_035780.1 |  9288063 |  9301976 | 13914 | - | Gnomon | gene | NA | NA | gene-LOC111132155 | GeneID:1.... | LOC111132155 |\n",
       "| 27864 | NC_035780.1 | 13324137 | 13332152 |  8016 | + | Gnomon | gene | NA | NA | gene-LOC111113022 | GeneID:1.... | LOC111113022 |\n",
       "| 28276 | NC_035780.1 | 13591534 | 13596982 |  5449 | - | Gnomon | gene | NA | NA | gene-LOC111131329 | GeneID:1.... | LOC111131329 |\n",
       "\n"
      ],
      "text/plain": [
       "      seqnames    start    end      width strand source type score phase\n",
       "303   NC_035780.1   315522   340261 24740 +      Gnomon gene NA    NA   \n",
       "543   NC_035780.1   444907   453310  8404 -      Gnomon gene NA    NA   \n",
       "16195 NC_035780.1  9011563  9043404 31842 -      Gnomon gene NA    NA   \n",
       "16555 NC_035780.1  9288063  9301976 13914 -      Gnomon gene NA    NA   \n",
       "27864 NC_035780.1 13324137 13332152  8016 +      Gnomon gene NA    NA   \n",
       "28276 NC_035780.1 13591534 13596982  5449 -      Gnomon gene NA    NA   \n",
       "      ID                Dbxref       Name        \n",
       "303   gene-LOC111133260 GeneID:1.... LOC111133260\n",
       "543   gene-LOC111109809 GeneID:1.... LOC111109809\n",
       "16195 gene-LOC111137635 GeneID:1.... LOC111137635\n",
       "16555 gene-LOC111132155 GeneID:1.... LOC111132155\n",
       "27864 gene-LOC111113022 GeneID:1.... LOC111113022\n",
       "28276 gene-LOC111131329 GeneID:1.... LOC111131329"
      ]
     },
     "metadata": {},
     "output_type": "display_data"
    },
    {
     "data": {
      "text/html": [
       "<style>\n",
       ".list-inline {list-style: none; margin:0; padding: 0}\n",
       ".list-inline>li {display: inline-block}\n",
       ".list-inline>li:not(:last-child)::after {content: \"\\00b7\"; padding: 0 .5ex}\n",
       "</style>\n",
       "<ol class=list-inline><li>217</li><li>12</li></ol>\n"
      ],
      "text/latex": [
       "\\begin{enumerate*}\n",
       "\\item 217\n",
       "\\item 12\n",
       "\\end{enumerate*}\n"
      ],
      "text/markdown": [
       "1. 217\n",
       "2. 12\n",
       "\n",
       "\n"
      ],
      "text/plain": [
       "[1] 217  12"
      ]
     },
     "metadata": {},
     "output_type": "display_data"
    },
    {
     "data": {
      "text/html": [
       "<style>\n",
       ".list-inline {list-style: none; margin:0; padding: 0}\n",
       ".list-inline>li {display: inline-block}\n",
       ".list-inline>li:not(:last-child)::after {content: \"\\00b7\"; padding: 0 .5ex}\n",
       "</style>\n",
       "<ol class=list-inline><li>217</li><li>3</li></ol>\n"
      ],
      "text/latex": [
       "\\begin{enumerate*}\n",
       "\\item 217\n",
       "\\item 3\n",
       "\\end{enumerate*}\n"
      ],
      "text/markdown": [
       "1. 217\n",
       "2. 3\n",
       "\n",
       "\n"
      ],
      "text/plain": [
       "[1] 217   3"
      ]
     },
     "metadata": {},
     "output_type": "display_data"
    }
   ],
   "source": [
    "# read in gff file\n",
    "gff <- as.data.frame(import.gff('/project/pi_sarah_gignouxwolfsohn_uml_edu/Reference_genomes/Cvirginica_genome/CV_working_genomic.gff'))\n",
    "\n",
    "# only grab gene features\n",
    "gff_genes <- gff[grep(\"LOC\", gff$Name),1:12]\n",
    "\n",
    "# filter to only include genes that are DMG\n",
    "dmg_gff <- gff_genes[gff_genes$Name %in% dmg$symbol,]\n",
    "\n",
    "# double check everything looks good\n",
    "head(dmg_gff)\n",
    "\n",
    "# are the dimensions the same? \n",
    "dim(dmg_gff)\n",
    "dim(dmg)\n"
   ]
  },
  {
   "cell_type": "code",
   "execution_count": 22,
   "id": "ec6350d6-8b33-4ed4-a449-5c65e97dccee",
   "metadata": {},
   "outputs": [
    {
     "name": "stderr",
     "output_type": "stream",
     "text": [
      "Warning message in geom_histogram(stat = \"count\", color = \"black\"):\n",
      "“\u001b[1m\u001b[22mIgnoring unknown parameters: `binwidth`, `bins`, and `pad`”\n"
     ]
    },
    {
     "data": {
      "image/png": "[encoded data removed]",
      "text/plain": [
       "plot without title"
      ]
     },
     "metadata": {
      "image/png": {
       "height": 420,
       "width": 420
      }
     },
     "output_type": "display_data"
    }
   ],
   "source": [
    "ggplot(dmg_gff, aes(x=seqnames, fill = seqnames)) + \n",
    "geom_histogram(stat=\"count\",\n",
    "              color = 'black') + \n",
    "scale_fill_brewer(palette = \"Spectral\") +\n",
    "scale_x_discrete(labels = c(\"NC_035780.1\" = \"1\",\n",
    "                            \"NC_035781.1\" = \"2\", \n",
    "                            \"NC_035782.1\" = \"3\",\n",
    "                           \"NC_035783.1\" = \"4\",\n",
    "                            \"NC_035784.1\" = \"5\",\n",
    "                            \"NC_035785.1\" = \"6\",\n",
    "                            \"NC_035786.1\" = \"7\", \n",
    "                            \"NC_035787.1\" = \"8\",\n",
    "                            \"NC_035788.1\" = \"9\",\n",
    "                            \"NC_035789.1\" = \"10\"\n",
    "                           )) +\n",
    "labs(x = \"Chromosome\",\n",
    "    y = \"Number of DMGs\") + \n",
    "guides(fill = FALSE) +\n",
    "theme_bw()"
   ]
  },
  {
   "cell_type": "markdown",
   "id": "bdf90ce8-0e8a-4137-ae14-b2b547b583ea",
   "metadata": {},
   "source": [
    "could also do percent of the chromosome that is methylated? in case chr 5 just has more genes overall and chr 10 has less genes? "
   ]
  },
  {
   "cell_type": "code",
   "execution_count": 38,
   "id": "abd00439-ec4b-4368-b882-0bed45775372",
   "metadata": {},
   "outputs": [
    {
     "data": {
      "text/html": [
       "<table class=\"dataframe\">\n",
       "<caption>A tibble: 10 × 2</caption>\n",
       "<thead>\n",
       "\t<tr><th scope=col>seqnames</th><th scope=col>gene_count</th></tr>\n",
       "\t<tr><th scope=col>&lt;fct&gt;</th><th scope=col>&lt;int&gt;</th></tr>\n",
       "</thead>\n",
       "<tbody>\n",
       "\t<tr><td>NC_035780.1</td><td>3862</td></tr>\n",
       "\t<tr><td>NC_035781.1</td><td>4053</td></tr>\n",
       "\t<tr><td>NC_035782.1</td><td>4612</td></tr>\n",
       "\t<tr><td>NC_035783.1</td><td>3834</td></tr>\n",
       "\t<tr><td>NC_035784.1</td><td>6154</td></tr>\n",
       "\t<tr><td>NC_035785.1</td><td>2595</td></tr>\n",
       "\t<tr><td>NC_035786.1</td><td>2978</td></tr>\n",
       "\t<tr><td>NC_035787.1</td><td>4354</td></tr>\n",
       "\t<tr><td>NC_035788.1</td><td>4875</td></tr>\n",
       "\t<tr><td>NC_035789.1</td><td>1509</td></tr>\n",
       "</tbody>\n",
       "</table>\n"
      ],
      "text/latex": [
       "A tibble: 10 × 2\n",
       "\\begin{tabular}{ll}\n",
       " seqnames & gene\\_count\\\\\n",
       " <fct> & <int>\\\\\n",
       "\\hline\n",
       "\t NC\\_035780.1 & 3862\\\\\n",
       "\t NC\\_035781.1 & 4053\\\\\n",
       "\t NC\\_035782.1 & 4612\\\\\n",
       "\t NC\\_035783.1 & 3834\\\\\n",
       "\t NC\\_035784.1 & 6154\\\\\n",
       "\t NC\\_035785.1 & 2595\\\\\n",
       "\t NC\\_035786.1 & 2978\\\\\n",
       "\t NC\\_035787.1 & 4354\\\\\n",
       "\t NC\\_035788.1 & 4875\\\\\n",
       "\t NC\\_035789.1 & 1509\\\\\n",
       "\\end{tabular}\n"
      ],
      "text/markdown": [
       "\n",
       "A tibble: 10 × 2\n",
       "\n",
       "| seqnames &lt;fct&gt; | gene_count &lt;int&gt; |\n",
       "|---|---|\n",
       "| NC_035780.1 | 3862 |\n",
       "| NC_035781.1 | 4053 |\n",
       "| NC_035782.1 | 4612 |\n",
       "| NC_035783.1 | 3834 |\n",
       "| NC_035784.1 | 6154 |\n",
       "| NC_035785.1 | 2595 |\n",
       "| NC_035786.1 | 2978 |\n",
       "| NC_035787.1 | 4354 |\n",
       "| NC_035788.1 | 4875 |\n",
       "| NC_035789.1 | 1509 |\n",
       "\n"
      ],
      "text/plain": [
       "   seqnames    gene_count\n",
       "1  NC_035780.1 3862      \n",
       "2  NC_035781.1 4053      \n",
       "3  NC_035782.1 4612      \n",
       "4  NC_035783.1 3834      \n",
       "5  NC_035784.1 6154      \n",
       "6  NC_035785.1 2595      \n",
       "7  NC_035786.1 2978      \n",
       "8  NC_035787.1 4354      \n",
       "9  NC_035788.1 4875      \n",
       "10 NC_035789.1 1509      "
      ]
     },
     "metadata": {},
     "output_type": "display_data"
    }
   ],
   "source": [
    "gff_count <- gff %>%\n",
    "filter(type == 'gene') %>% # only want genes\n",
    "group_by(seqnames) %>% # group by chromosome\n",
    "summarise(gene_count = n()) # count genes on each chromosome\n",
    "\n",
    "# remove mitochondria\n",
    "gff_count <- gff_count[-1,]\n",
    "\n",
    "gff_count"
   ]
  },
  {
   "cell_type": "code",
   "execution_count": 37,
   "id": "f576bc35-68ab-4d1d-99d6-78f2baf1dd11",
   "metadata": {},
   "outputs": [
    {
     "data": {
      "text/html": [
       "<table class=\"dataframe\">\n",
       "<caption>A tibble: 10 × 2</caption>\n",
       "<thead>\n",
       "\t<tr><th scope=col>seqnames</th><th scope=col>dmg_count</th></tr>\n",
       "\t<tr><th scope=col>&lt;fct&gt;</th><th scope=col>&lt;int&gt;</th></tr>\n",
       "</thead>\n",
       "<tbody>\n",
       "\t<tr><td>NC_035780.1</td><td>28</td></tr>\n",
       "\t<tr><td>NC_035781.1</td><td>33</td></tr>\n",
       "\t<tr><td>NC_035782.1</td><td>26</td></tr>\n",
       "\t<tr><td>NC_035783.1</td><td>26</td></tr>\n",
       "\t<tr><td>NC_035784.1</td><td>44</td></tr>\n",
       "\t<tr><td>NC_035785.1</td><td>11</td></tr>\n",
       "\t<tr><td>NC_035786.1</td><td>13</td></tr>\n",
       "\t<tr><td>NC_035787.1</td><td>12</td></tr>\n",
       "\t<tr><td>NC_035788.1</td><td>18</td></tr>\n",
       "\t<tr><td>NC_035789.1</td><td> 6</td></tr>\n",
       "</tbody>\n",
       "</table>\n"
      ],
      "text/latex": [
       "A tibble: 10 × 2\n",
       "\\begin{tabular}{ll}\n",
       " seqnames & dmg\\_count\\\\\n",
       " <fct> & <int>\\\\\n",
       "\\hline\n",
       "\t NC\\_035780.1 & 28\\\\\n",
       "\t NC\\_035781.1 & 33\\\\\n",
       "\t NC\\_035782.1 & 26\\\\\n",
       "\t NC\\_035783.1 & 26\\\\\n",
       "\t NC\\_035784.1 & 44\\\\\n",
       "\t NC\\_035785.1 & 11\\\\\n",
       "\t NC\\_035786.1 & 13\\\\\n",
       "\t NC\\_035787.1 & 12\\\\\n",
       "\t NC\\_035788.1 & 18\\\\\n",
       "\t NC\\_035789.1 &  6\\\\\n",
       "\\end{tabular}\n"
      ],
      "text/markdown": [
       "\n",
       "A tibble: 10 × 2\n",
       "\n",
       "| seqnames &lt;fct&gt; | dmg_count &lt;int&gt; |\n",
       "|---|---|\n",
       "| NC_035780.1 | 28 |\n",
       "| NC_035781.1 | 33 |\n",
       "| NC_035782.1 | 26 |\n",
       "| NC_035783.1 | 26 |\n",
       "| NC_035784.1 | 44 |\n",
       "| NC_035785.1 | 11 |\n",
       "| NC_035786.1 | 13 |\n",
       "| NC_035787.1 | 12 |\n",
       "| NC_035788.1 | 18 |\n",
       "| NC_035789.1 |  6 |\n",
       "\n"
      ],
      "text/plain": [
       "   seqnames    dmg_count\n",
       "1  NC_035780.1 28       \n",
       "2  NC_035781.1 33       \n",
       "3  NC_035782.1 26       \n",
       "4  NC_035783.1 26       \n",
       "5  NC_035784.1 44       \n",
       "6  NC_035785.1 11       \n",
       "7  NC_035786.1 13       \n",
       "8  NC_035787.1 12       \n",
       "9  NC_035788.1 18       \n",
       "10 NC_035789.1  6       "
      ]
     },
     "metadata": {},
     "output_type": "display_data"
    }
   ],
   "source": [
    "dmg_count <- dmg_gff %>%\n",
    "group_by(seqnames) %>% \n",
    "summarise(dmg_count = n()) \n",
    "\n",
    "dmg_count"
   ]
  },
  {
   "cell_type": "code",
   "execution_count": 42,
   "id": "c0fae7ac-c56e-4dba-998a-e3c75d75f090",
   "metadata": {},
   "outputs": [
    {
     "data": {
      "text/html": [
       "<table class=\"dataframe\">\n",
       "<caption>A data.frame: 10 × 3</caption>\n",
       "<thead>\n",
       "\t<tr><th scope=col>seqnames</th><th scope=col>gene_count</th><th scope=col>dmg_count</th></tr>\n",
       "\t<tr><th scope=col>&lt;fct&gt;</th><th scope=col>&lt;int&gt;</th><th scope=col>&lt;int&gt;</th></tr>\n",
       "</thead>\n",
       "<tbody>\n",
       "\t<tr><td>NC_035780.1</td><td>3862</td><td>28</td></tr>\n",
       "\t<tr><td>NC_035781.1</td><td>4053</td><td>33</td></tr>\n",
       "\t<tr><td>NC_035782.1</td><td>4612</td><td>26</td></tr>\n",
       "\t<tr><td>NC_035783.1</td><td>3834</td><td>26</td></tr>\n",
       "\t<tr><td>NC_035784.1</td><td>6154</td><td>44</td></tr>\n",
       "\t<tr><td>NC_035785.1</td><td>2595</td><td>11</td></tr>\n",
       "\t<tr><td>NC_035786.1</td><td>2978</td><td>13</td></tr>\n",
       "\t<tr><td>NC_035787.1</td><td>4354</td><td>12</td></tr>\n",
       "\t<tr><td>NC_035788.1</td><td>4875</td><td>18</td></tr>\n",
       "\t<tr><td>NC_035789.1</td><td>1509</td><td> 6</td></tr>\n",
       "</tbody>\n",
       "</table>\n"
      ],
      "text/latex": [
       "A data.frame: 10 × 3\n",
       "\\begin{tabular}{lll}\n",
       " seqnames & gene\\_count & dmg\\_count\\\\\n",
       " <fct> & <int> & <int>\\\\\n",
       "\\hline\n",
       "\t NC\\_035780.1 & 3862 & 28\\\\\n",
       "\t NC\\_035781.1 & 4053 & 33\\\\\n",
       "\t NC\\_035782.1 & 4612 & 26\\\\\n",
       "\t NC\\_035783.1 & 3834 & 26\\\\\n",
       "\t NC\\_035784.1 & 6154 & 44\\\\\n",
       "\t NC\\_035785.1 & 2595 & 11\\\\\n",
       "\t NC\\_035786.1 & 2978 & 13\\\\\n",
       "\t NC\\_035787.1 & 4354 & 12\\\\\n",
       "\t NC\\_035788.1 & 4875 & 18\\\\\n",
       "\t NC\\_035789.1 & 1509 &  6\\\\\n",
       "\\end{tabular}\n"
      ],
      "text/markdown": [
       "\n",
       "A data.frame: 10 × 3\n",
       "\n",
       "| seqnames &lt;fct&gt; | gene_count &lt;int&gt; | dmg_count &lt;int&gt; |\n",
       "|---|---|---|\n",
       "| NC_035780.1 | 3862 | 28 |\n",
       "| NC_035781.1 | 4053 | 33 |\n",
       "| NC_035782.1 | 4612 | 26 |\n",
       "| NC_035783.1 | 3834 | 26 |\n",
       "| NC_035784.1 | 6154 | 44 |\n",
       "| NC_035785.1 | 2595 | 11 |\n",
       "| NC_035786.1 | 2978 | 13 |\n",
       "| NC_035787.1 | 4354 | 12 |\n",
       "| NC_035788.1 | 4875 | 18 |\n",
       "| NC_035789.1 | 1509 |  6 |\n",
       "\n"
      ],
      "text/plain": [
       "   seqnames    gene_count dmg_count\n",
       "1  NC_035780.1 3862       28       \n",
       "2  NC_035781.1 4053       33       \n",
       "3  NC_035782.1 4612       26       \n",
       "4  NC_035783.1 3834       26       \n",
       "5  NC_035784.1 6154       44       \n",
       "6  NC_035785.1 2595       11       \n",
       "7  NC_035786.1 2978       13       \n",
       "8  NC_035787.1 4354       12       \n",
       "9  NC_035788.1 4875       18       \n",
       "10 NC_035789.1 1509        6       "
      ]
     },
     "metadata": {},
     "output_type": "display_data"
    }
   ],
   "source": [
    "perc_dmg <- merge(gff_count, dmg_count, by = \"seqnames\")\n",
    "\n",
    "perc_dmg"
   ]
  },
  {
   "cell_type": "code",
   "execution_count": 44,
   "id": "98225998-27d3-41e5-b22e-c07c32701a0d",
   "metadata": {},
   "outputs": [
    {
     "data": {
      "text/html": [
       "<table class=\"dataframe\">\n",
       "<caption>A data.frame: 10 × 4</caption>\n",
       "<thead>\n",
       "\t<tr><th scope=col>seqnames</th><th scope=col>gene_count</th><th scope=col>dmg_count</th><th scope=col>percent_dmg</th></tr>\n",
       "\t<tr><th scope=col>&lt;fct&gt;</th><th scope=col>&lt;int&gt;</th><th scope=col>&lt;int&gt;</th><th scope=col>&lt;dbl&gt;</th></tr>\n",
       "</thead>\n",
       "<tbody>\n",
       "\t<tr><td>NC_035780.1</td><td>3862</td><td>28</td><td>0.73</td></tr>\n",
       "\t<tr><td>NC_035781.1</td><td>4053</td><td>33</td><td>0.81</td></tr>\n",
       "\t<tr><td>NC_035782.1</td><td>4612</td><td>26</td><td>0.56</td></tr>\n",
       "\t<tr><td>NC_035783.1</td><td>3834</td><td>26</td><td>0.68</td></tr>\n",
       "\t<tr><td>NC_035784.1</td><td>6154</td><td>44</td><td>0.71</td></tr>\n",
       "\t<tr><td>NC_035785.1</td><td>2595</td><td>11</td><td>0.42</td></tr>\n",
       "\t<tr><td>NC_035786.1</td><td>2978</td><td>13</td><td>0.44</td></tr>\n",
       "\t<tr><td>NC_035787.1</td><td>4354</td><td>12</td><td>0.28</td></tr>\n",
       "\t<tr><td>NC_035788.1</td><td>4875</td><td>18</td><td>0.37</td></tr>\n",
       "\t<tr><td>NC_035789.1</td><td>1509</td><td> 6</td><td>0.40</td></tr>\n",
       "</tbody>\n",
       "</table>\n"
      ],
      "text/latex": [
       "A data.frame: 10 × 4\n",
       "\\begin{tabular}{llll}\n",
       " seqnames & gene\\_count & dmg\\_count & percent\\_dmg\\\\\n",
       " <fct> & <int> & <int> & <dbl>\\\\\n",
       "\\hline\n",
       "\t NC\\_035780.1 & 3862 & 28 & 0.73\\\\\n",
       "\t NC\\_035781.1 & 4053 & 33 & 0.81\\\\\n",
       "\t NC\\_035782.1 & 4612 & 26 & 0.56\\\\\n",
       "\t NC\\_035783.1 & 3834 & 26 & 0.68\\\\\n",
       "\t NC\\_035784.1 & 6154 & 44 & 0.71\\\\\n",
       "\t NC\\_035785.1 & 2595 & 11 & 0.42\\\\\n",
       "\t NC\\_035786.1 & 2978 & 13 & 0.44\\\\\n",
       "\t NC\\_035787.1 & 4354 & 12 & 0.28\\\\\n",
       "\t NC\\_035788.1 & 4875 & 18 & 0.37\\\\\n",
       "\t NC\\_035789.1 & 1509 &  6 & 0.40\\\\\n",
       "\\end{tabular}\n"
      ],
      "text/markdown": [
       "\n",
       "A data.frame: 10 × 4\n",
       "\n",
       "| seqnames &lt;fct&gt; | gene_count &lt;int&gt; | dmg_count &lt;int&gt; | percent_dmg &lt;dbl&gt; |\n",
       "|---|---|---|---|\n",
       "| NC_035780.1 | 3862 | 28 | 0.73 |\n",
       "| NC_035781.1 | 4053 | 33 | 0.81 |\n",
       "| NC_035782.1 | 4612 | 26 | 0.56 |\n",
       "| NC_035783.1 | 3834 | 26 | 0.68 |\n",
       "| NC_035784.1 | 6154 | 44 | 0.71 |\n",
       "| NC_035785.1 | 2595 | 11 | 0.42 |\n",
       "| NC_035786.1 | 2978 | 13 | 0.44 |\n",
       "| NC_035787.1 | 4354 | 12 | 0.28 |\n",
       "| NC_035788.1 | 4875 | 18 | 0.37 |\n",
       "| NC_035789.1 | 1509 |  6 | 0.40 |\n",
       "\n"
      ],
      "text/plain": [
       "   seqnames    gene_count dmg_count percent_dmg\n",
       "1  NC_035780.1 3862       28        0.73       \n",
       "2  NC_035781.1 4053       33        0.81       \n",
       "3  NC_035782.1 4612       26        0.56       \n",
       "4  NC_035783.1 3834       26        0.68       \n",
       "5  NC_035784.1 6154       44        0.71       \n",
       "6  NC_035785.1 2595       11        0.42       \n",
       "7  NC_035786.1 2978       13        0.44       \n",
       "8  NC_035787.1 4354       12        0.28       \n",
       "9  NC_035788.1 4875       18        0.37       \n",
       "10 NC_035789.1 1509        6        0.40       "
      ]
     },
     "metadata": {},
     "output_type": "display_data"
    }
   ],
   "source": [
    "perc_dmg$percent_dmg <- round(perc_dmg$dmg_count/perc_dmg$gene_count * 100, 2)\n",
    "\n",
    "perc_dmg"
   ]
  },
  {
   "cell_type": "code",
   "execution_count": 50,
   "id": "a4de5a1a-eae7-433a-b25b-92f4ac2872c7",
   "metadata": {},
   "outputs": [
    {
     "data": {
      "image/png": "[encoded data removed]",
      "text/plain": [
       "plot without title"
      ]
     },
     "metadata": {
      "image/png": {
       "height": 420,
       "width": 420
      }
     },
     "output_type": "display_data"
    }
   ],
   "source": [
    "ggplot(perc_dmg, aes(x=seqnames, y = percent_dmg, fill = seqnames)) + \n",
    "geom_bar(stat=\"identity\",\n",
    "              color = 'black') + \n",
    "scale_fill_brewer(palette = \"Spectral\") +\n",
    "scale_x_discrete(labels = c(\"NC_035780.1\" = \"1\",\n",
    "                            \"NC_035781.1\" = \"2\", \n",
    "                            \"NC_035782.1\" = \"3\",\n",
    "                           \"NC_035783.1\" = \"4\",\n",
    "                            \"NC_035784.1\" = \"5\",\n",
    "                            \"NC_035785.1\" = \"6\",\n",
    "                            \"NC_035786.1\" = \"7\", \n",
    "                            \"NC_035787.1\" = \"8\",\n",
    "                            \"NC_035788.1\" = \"9\",\n",
    "                            \"NC_035789.1\" = \"10\"\n",
    "                           )) +\n",
    "labs(x = \"Chromosome\",\n",
    "    y = \"percent of genes differentially methylated\") + \n",
    "guides(fill = FALSE) +\n",
    "theme_bw()"
   ]
  }
 ],
 "metadata": {
  "kernelspec": {
   "display_name": "R [conda env:.conda-r-env]",
   "language": "R",
   "name": "conda-env-.conda-r-env-r"
  },
  "language_info": {
   "codemirror_mode": "r",
   "file_extension": ".r",
   "mimetype": "text/x-r-source",
   "name": "R",
   "pygments_lexer": "r",
   "version": "4.3.2"
  }
 },
 "nbformat": 4,
 "nbformat_minor": 5
}
