{
 "cells": [
  {
   "cell_type": "markdown",
   "id": "da715cbc-fd9e-482b-9b3c-988a60dc5bdf",
   "metadata": {},
   "source": [
    "# Methylation of Genomic Features"
   ]
  },
  {
   "cell_type": "code",
   "execution_count": 2,
   "id": "af969d80-edc6-4f6b-bd79-2d187c4ad4ee",
   "metadata": {},
   "outputs": [],
   "source": [
    "library(tidyverse)\n",
    "library(dplyr)\n",
    "library(rtracklayer)\n",
    "library(tibble)\n",
    "\n",
    "library(ggvenn)"
   ]
  },
  {
   "cell_type": "markdown",
   "id": "60e142b9-1495-424f-bd4f-21863370cb22",
   "metadata": {},
   "source": [
    "generate counts matrix for CG motifs, look for overlap with genomic features\n",
    "\n",
    "we're looking at just where is methylation occuring in my samples"
   ]
  },
  {
   "cell_type": "code",
   "execution_count": 2,
   "id": "bb6048ee-076c-43c7-a369-c4193074a81b",
   "metadata": {},
   "outputs": [],
   "source": [
    "!CG_motif=\"/project/pi_sarah_gignouxwolfsohn_uml_edu/julia/CE_methyl_assembly/assembly_pipeline_files/genomic_bed_files/C_virginica-3.0_CG-motif.bed\"\n",
    "\n",
    "!input_dir=\"/project/pi_sarah_gignouxwolfsohn_uml_edu/julia/CE_methyl_assembly/assembly_pipeline_files/BEDtools/working_BAM_sequences\"\n",
    "\n",
    "!output_dir=\"/project/pi_sarah_gignouxwolfsohn_uml_edu/julia/CE_methyl_assembly/assembly_pipeline_files/BEDtools/CG_coverage/\""
   ]
  },
  {
   "cell_type": "code",
   "execution_count": null,
   "id": "067b93dd-c6e9-4f53-8dcd-512f0c300446",
   "metadata": {},
   "outputs": [],
   "source": [
    "!bedtools multicov -bams *.bam -bed $CG_motif > ${output_dir}CG_coverage.csv"
   ]
  },
  {
   "cell_type": "markdown",
   "id": "18e21743-f2bf-4e72-a151-7f2f84561531",
   "metadata": {},
   "source": [
    "read in genomic features BED files"
   ]
  },
  {
   "cell_type": "markdown",
   "id": "c34a8338-3ad9-4df8-a447-50c5c89d91cd",
   "metadata": {},
   "source": [
    "# Methylation level in gene features\n",
    "I would like to know what percent of methylation is happening in exons/introns/etc. To do this, I'm going to use `bedtools multicov` to generate coverage files for each sample with bed files of the different gene features. Then, calculate the number of features with methylation and number without to get our methylation level."
   ]
  },
  {
   "cell_type": "code",
   "execution_count": 1,
   "id": "790205e5-6b05-44ae-8ad6-a72cf6cc376f",
   "metadata": {},
   "outputs": [
    {
     "name": "stdout",
     "output_type": "stream",
     "text": [
      "Removing conda\n",
      "Loading conda\n"
     ]
    }
   ],
   "source": [
    "!module load conda/latest"
   ]
  },
  {
   "cell_type": "code",
   "execution_count": 2,
   "id": "527e8c39-5682-4a42-b4c5-994f656782c4",
   "metadata": {},
   "outputs": [
    {
     "name": "stdout",
     "output_type": "stream",
     "text": [
      "\n",
      "CondaError: Run 'conda init' before 'conda activate'\n",
      "\n"
     ]
    }
   ],
   "source": [
    "!conda activate bedtools"
   ]
  },
  {
   "cell_type": "code",
   "execution_count": null,
   "id": "598c8ffd-219c-49ce-9355-39b04920f80e",
   "metadata": {},
   "outputs": [],
   "source": [
    "output_dir=\"/project/pi_sarah_gignouxwolfsohn_uml_edu/julia/CE_methyl_assembly/assembly_pipeline_files/genomic_bed_files/CpG_multicov/\"\n",
    "exon_bed=\"/project/pi_sarah_gignouxwolfsohn_uml_edu/julia/CE_MethylRAD_analysis_2018/analysis/genomic_feature_tracks/CV_exon_sorted.bed\"\n",
    "intron_bed=\"/project/pi_sarah_gignouxwolfsohn_uml_edu/julia/CE_MethylRAD_analysis_2018/analysis/genomic_feature_tracks/CV_intron.bed\"\n",
    "input_dir=\"/project/pi_sarah_gignouxwolfsohn_uml_edu/julia/CE_methyl_assembly/assembly_pipeline_files/BEDtools/working_BAM_sequences/\""
   ]
  },
  {
   "cell_type": "code",
   "execution_count": null,
   "id": "d3b549ad-4a75-469a-b631-052926c4b126",
   "metadata": {},
   "outputs": [],
   "source": [
    "# hypoxic control\n",
    "!HC_files=(\"2018--BBB-WBO-B21-CV_sorted.bam\" \"2018--BBB-WBV-B70-CV_sorted.bam\" \"2018--BBO-WBO-B16-CV_sorted.bam\" \"2018--BBO-WBV-B64-CV_sorted.bam\" \"2018--BBY-WBG-B42-CV_sorted.bam\")\n",
    "\n",
    "# control hypoxic\n",
    "!CH_files=(\"2018--WBG-BBB-W56-CV_sorted.bam\" \"2018--WBO-BBR-W03-CV_sorted.bam\" \"2018--WBR-BBY-W25-CV_sorted.bam\" \"2018--WBY-BBV-W65-CV_sorted.bam\" \"2018--WBY-BBY-W30-CV_sorted.bam\")\n",
    "\n",
    "# hypoxic hypoxic \n",
    "!HH_files=(\"2018--BBO-BBO-B16-CV_sorted.bam\" \"2018--BBO-BBY-B27-CV_sorted.bam\" \"2018--BBR-BBB-B50-CV_sorted.bam\" \"2018--BBR-BBG-B38-CV_sorted.bam\" \"2018--BBR-BBY-B26-CV_sorted.bam\")\n",
    "\n",
    "# control control\n",
    "!CC_files=(\"2018--WBB-WBV-W69-CV_sorted.bam\" \"2018--WBG-WBG-W44-CV_sorted.bam\" \"2018--WBO-WBV-W64-CV_sorted.bam\" \"2018--WBV-WBO-W23-CV_sorted.bam\" \"2018--WBV-WBR-W12-CV_sorted.bam\") \n"
   ]
  },
  {
   "cell_type": "markdown",
   "id": "6a978859-5ba8-444f-8dfc-ff58abebeb21",
   "metadata": {},
   "source": [
    "generate coverage file/counts matrix for each set of samples"
   ]
  },
  {
   "cell_type": "markdown",
   "id": "19465b1d-4518-4bb2-a4af-52a8dddcaf0e",
   "metadata": {},
   "source": [
    "## exons\n",
    "(run in command line)"
   ]
  },
  {
   "cell_type": "code",
   "execution_count": null,
   "id": "f2c83243-e98a-4e9d-bcf4-507905d40ab8",
   "metadata": {},
   "outputs": [],
   "source": [
    "# for all samples\n",
    "!bedtools multicov -bams /project/pi_sarah_gignouxwolfsohn_uml_edu/julia/CE_methyl_assembly/assembly_pipeline_files/BEDtools/working_BAM_sequences/*.bam -bed $exon_bed > ${output_dir}multicov_exon.csv"
   ]
  },
  {
   "cell_type": "code",
   "execution_count": null,
   "id": "9d52d871-00b6-417f-9dca-6e655826dfa7",
   "metadata": {},
   "outputs": [],
   "source": [
    "output_dir=\"/project/pi_sarah_gignouxwolfsohn_uml_edu/julia/CE_methyl_assembly/assembly_pipeline_files/genomic_bed_files/CpG_multicov/\""
   ]
  },
  {
   "cell_type": "code",
   "execution_count": null,
   "id": "a71dbe35-492b-455e-9ee2-84750b19df14",
   "metadata": {},
   "outputs": [],
   "source": [
    "# hypoxic control files\n",
    "HC_files=(\"2018--BBB-WBO-B21-CV_sorted.bam\" \"2018--BBB-WBV-B70-CV_sorted.bam\" \"2018--BBO-WBO-B16-CV_sorted.bam\" \"2018--BBO-WBV-B64-CV_sorted.bam\" \"2018--BBY-WBG-B42-CV_sorted.bam\")\n",
    "\n",
    "bedtools multicov -bams \"${HC_files[@]}\" -bed $exon_bed > ${output_dir}HC_multicov_exon.csv"
   ]
  },
  {
   "cell_type": "code",
   "execution_count": null,
   "id": "755a2141-5ef7-4dc3-b84b-13d3a8c8d3d3",
   "metadata": {},
   "outputs": [],
   "source": [
    "# control hypoxic files\n",
    "CH_files=(\"2018--WBG-BBB-W56-CV_sorted.bam\" \"2018--WBO-BBR-W03-CV_sorted.bam\" \"2018--WBR-BBY-W25-CV_sorted.bam\" \"2018--WBY-BBV-W65-CV_sorted.bam\" \"2018--WBY-BBY-W30-CV_sorted.bam\")\n",
    "\n",
    "bedtools multicov -bams \"${CH_files[@]}\" -bed $exon_bed > ${output_dir}CH_multicov_exon.csv"
   ]
  },
  {
   "cell_type": "code",
   "execution_count": null,
   "id": "adde17a5-13e0-4ab2-aca1-290e43f0fe0c",
   "metadata": {},
   "outputs": [],
   "source": [
    "# hypoxic hypoxic files\n",
    "HH_files=(\"2018--BBO-BBO-B16-CV_sorted.bam\" \"2018--BBO-BBY-B27-CV_sorted.bam\" \"2018--BBR-BBB-B50-CV_sorted.bam\" \"2018--BBR-BBG-B38-CV_sorted.bam\" \"2018--BBR-BBY-B26-CV_sorted.bam\")\n",
    "\n",
    "bedtools multicov -bams \"${HH_files[@]}\" -bed $exon_bed > ${output_dir}HH_multicov_exon.csv"
   ]
  },
  {
   "cell_type": "code",
   "execution_count": null,
   "id": "126a50a4-10e1-4525-827d-00210918ed4c",
   "metadata": {},
   "outputs": [],
   "source": [
    "# control control files\n",
    "CC_files=(\"2018--WBB-WBV-W69-CV_sorted.bam\" \"2018--WBG-WBG-W44-CV_sorted.bam\" \"2018--WBO-WBV-W64-CV_sorted.bam\" \"2018--WBV-WBO-W23-CV_sorted.bam\" \"2018--WBV-WBR-W12-CV_sorted.bam\")\n",
    "\n",
    "bedtools multicov -bams \"${CC_files[@]}\" -bed $exon_bed > ${output_dir}CC_multicov_exon.csv"
   ]
  },
  {
   "cell_type": "markdown",
   "id": "1660c10f-ca9a-4557-ba7a-cc4686fbfbe7",
   "metadata": {},
   "source": [
    "#### methylation level of exons\n",
    "\n",
    "(11/20/2024) so this was done with running multicov on the exon bed file - but I've since changed the bed file so this is not accurate - running code again with fixed exon bed file"
   ]
  },
  {
   "cell_type": "code",
   "execution_count": 2,
   "id": "b0f33d1f-4e39-4139-b52b-d87ff3ddf194",
   "metadata": {},
   "outputs": [],
   "source": [
    "CC_exon <- read.csv(\"/project/pi_sarah_gignouxwolfsohn_uml_edu/julia/CE_methyl_assembly/assembly_pipeline_files/genomic_bed_files/CpG_multicov/CC_multicov_exon.csv\", sep='\\t')\n",
    "CH_exon <- read.csv(\"/project/pi_sarah_gignouxwolfsohn_uml_edu/julia/CE_methyl_assembly/assembly_pipeline_files/genomic_bed_files/CpG_multicov/CH_multicov_exon.csv\", sep='\\t')\n",
    "HC_exon <- read.csv(\"/project/pi_sarah_gignouxwolfsohn_uml_edu/julia/CE_methyl_assembly/assembly_pipeline_files/genomic_bed_files/CpG_multicov/HC_multicov_exon.csv\", sep='\\t')\n",
    "HH_exon <- read.csv(\"/project/pi_sarah_gignouxwolfsohn_uml_edu/julia/CE_methyl_assembly/assembly_pipeline_files/genomic_bed_files/CpG_multicov/HH_multicov_exon.csv\", sep='\\t')"
   ]
  },
  {
   "cell_type": "code",
   "execution_count": 3,
   "id": "bbf06c80-01fc-4fd0-9b4c-9fd967de635b",
   "metadata": {},
   "outputs": [
    {
     "name": "stdout",
     "output_type": "stream",
     "text": [
      "[1] \"69098 methylated exons and 731278 total exons\"\n",
      "[1] \"exon methylation level of CC: 9.44893733983519\"\n"
     ]
    }
   ],
   "source": [
    "# CONTROL CONTROL\n",
    "\n",
    "# Calculate average counts of last 5 columns\n",
    "CC_exon$avg_counts <- rowMeans(CC_exon[, tail(names(CC_exon), 5)])\n",
    "\n",
    "# Remove rows with averages below 5\n",
    "CC_filtered <- CC_exon[CC_exon$avg_counts >= 5, ]\n",
    "\n",
    "# Remove temporary average column\n",
    "CC_filtered$avg_counts <- NULL\n",
    "\n",
    "CCmethyl_exon <- dim(CC_filtered)[1]\n",
    "total_exon <- dim(CC_exon)[1]\n",
    "CC_level <- round((CCmethyl_exon/total_exon)*100, 2)\n",
    "\n",
    "print(paste(CCmethyl_exon, \"methylated exons and\", total_exon, \"total exons\"))\n",
    "print(paste(\"exon methylation level of CC:\", (CCmethyl_exon)/(total_exon)*100))"
   ]
  },
  {
   "cell_type": "code",
   "execution_count": 4,
   "id": "241db7ea-bda8-4b78-a8ec-075cbc20ae83",
   "metadata": {},
   "outputs": [
    {
     "name": "stdout",
     "output_type": "stream",
     "text": [
      "[1] \"67823 methylated exons and 731278 total exons\"\n",
      "[1] \"exon methylation level of CH: 9.27458504153003\"\n"
     ]
    }
   ],
   "source": [
    "# CONTROL HYPOXIC\n",
    "\n",
    "# Calculate average counts of last 5 columns\n",
    "CH_exon$avg_counts <- rowMeans(CH_exon[, tail(names(CH_exon), 5)])\n",
    "\n",
    "# Remove rows with averages below 5\n",
    "CH_filtered <- CH_exon[CH_exon$avg_counts >= 5, ]\n",
    "\n",
    "# Remove temporary average column\n",
    "CH_filtered$avg_counts <- NULL\n",
    "\n",
    "CHmethyl_exon <- dim(CH_filtered)[1]\n",
    "total_exon <- dim(CH_exon)[1]\n",
    "CH_level <- round((CHmethyl_exon/total_exon)*100, 2)\n",
    "\n",
    "print(paste(CHmethyl_exon, \"methylated exons and\", total_exon, \"total exons\"))\n",
    "print(paste(\"exon methylation level of CH:\", (CHmethyl_exon)/(total_exon)*100))"
   ]
  },
  {
   "cell_type": "code",
   "execution_count": 5,
   "id": "8658491e-035f-4a8c-82d4-642d86af5cb9",
   "metadata": {},
   "outputs": [
    {
     "name": "stdout",
     "output_type": "stream",
     "text": [
      "[1] \"74706 methylated exons and 731278 total exons\"\n",
      "[1] \"exon methylation level of HH: 10.2158139585766\"\n"
     ]
    }
   ],
   "source": [
    "# HYPOXIC HYPOXIC\n",
    "\n",
    "# Calculate average counts of last 5 columns\n",
    "HH_exon$avg_counts <- rowMeans(HH_exon[, tail(names(HH_exon), 5)])\n",
    "\n",
    "# Remove rows with averages below 5\n",
    "HH_filtered <- HH_exon[HH_exon$avg_counts >= 5, ]\n",
    "\n",
    "# Remove temporary average column\n",
    "HH_filtered$avg_counts <- NULL\n",
    "\n",
    "HHmethyl_exon <- dim(HH_filtered)[1]\n",
    "total_exon <- dim(HH_exon)[1]\n",
    "HH_level <- round((HHmethyl_exon/total_exon)*100, 2)\n",
    "\n",
    "print(paste(HHmethyl_exon, \"methylated exons and\", total_exon, \"total exons\"))\n",
    "print(paste(\"exon methylation level of HH:\", (HHmethyl_exon)/(total_exon)*100))"
   ]
  },
  {
   "cell_type": "code",
   "execution_count": 6,
   "id": "7ec1f4de-d645-46db-b28e-0bf18444ba43",
   "metadata": {},
   "outputs": [
    {
     "name": "stdout",
     "output_type": "stream",
     "text": [
      "[1] \"76720 methylated exons and 731278 total exons\"\n",
      "[1] \"exon methylation level of HC: 10.4912222164485\"\n"
     ]
    }
   ],
   "source": [
    "# HYPOXIC CONTROL\n",
    "\n",
    "# Calculate average counts of last 5 columns\n",
    "HC_exon$avg_counts <- rowMeans(HC_exon[, tail(names(HC_exon), 5)])\n",
    "\n",
    "# Remove rows with averages below 5\n",
    "HC_filtered <- HC_exon[HC_exon$avg_counts >= 5, ]\n",
    "\n",
    "# Remove temporary average column\n",
    "HC_filtered$avg_counts <- NULL\n",
    "\n",
    "HCmethyl_exon <- dim(HC_filtered)[1]\n",
    "total_exon <- dim(HC_exon)[1]\n",
    "HC_level <- round((HCmethyl_exon/total_exon)*100, 2)\n",
    "\n",
    "print(paste(HCmethyl_exon, \"methylated exons and\", total_exon, \"total exons\"))\n",
    "print(paste(\"exon methylation level of HC:\", (HCmethyl_exon)/(total_exon)*100))"
   ]
  },
  {
   "cell_type": "code",
   "execution_count": 10,
   "id": "6e562f82-caa8-4b8c-b3ec-c7427bbd466e",
   "metadata": {},
   "outputs": [
    {
     "data": {
      "text/html": [
       "<table class=\"dataframe\">\n",
       "<caption>A tibble: 1 × 4</caption>\n",
       "<thead>\n",
       "\t<tr><th scope=col>CC</th><th scope=col>HC</th><th scope=col>HH</th><th scope=col>CH</th></tr>\n",
       "\t<tr><th scope=col>&lt;dbl&gt;</th><th scope=col>&lt;dbl&gt;</th><th scope=col>&lt;dbl&gt;</th><th scope=col>&lt;dbl&gt;</th></tr>\n",
       "</thead>\n",
       "<tbody>\n",
       "\t<tr><td>9.45</td><td>10.49</td><td>10.22</td><td>9.27</td></tr>\n",
       "</tbody>\n",
       "</table>\n"
      ],
      "text/latex": [
       "A tibble: 1 × 4\n",
       "\\begin{tabular}{llll}\n",
       " CC & HC & HH & CH\\\\\n",
       " <dbl> & <dbl> & <dbl> & <dbl>\\\\\n",
       "\\hline\n",
       "\t 9.45 & 10.49 & 10.22 & 9.27\\\\\n",
       "\\end{tabular}\n"
      ],
      "text/markdown": [
       "\n",
       "A tibble: 1 × 4\n",
       "\n",
       "| CC &lt;dbl&gt; | HC &lt;dbl&gt; | HH &lt;dbl&gt; | CH &lt;dbl&gt; |\n",
       "|---|---|---|---|\n",
       "| 9.45 | 10.49 | 10.22 | 9.27 |\n",
       "\n"
      ],
      "text/plain": [
       "  CC   HC    HH    CH  \n",
       "1 9.45 10.49 10.22 9.27"
      ]
     },
     "metadata": {},
     "output_type": "display_data"
    }
   ],
   "source": [
    "exon_me_level <- tibble(CC = CC_level, HC = HC_level, HH = HH_level, CH = CH_level)\n",
    "exon_me_level"
   ]
  },
  {
   "cell_type": "code",
   "execution_count": 11,
   "id": "c07c77a1-c6ba-499c-a6ac-92f87ff90295",
   "metadata": {},
   "outputs": [
    {
     "data": {
      "text/html": [
       "<table class=\"dataframe\">\n",
       "<caption>A data.frame: 4 × 2</caption>\n",
       "<thead>\n",
       "\t<tr><th scope=col>ME_Level</th><th scope=col>Sample</th></tr>\n",
       "\t<tr><th scope=col>&lt;dbl&gt;</th><th scope=col>&lt;chr&gt;</th></tr>\n",
       "</thead>\n",
       "<tbody>\n",
       "\t<tr><td> 9.45</td><td>CC</td></tr>\n",
       "\t<tr><td>10.49</td><td>HC</td></tr>\n",
       "\t<tr><td>10.22</td><td>HH</td></tr>\n",
       "\t<tr><td> 9.27</td><td>CH</td></tr>\n",
       "</tbody>\n",
       "</table>\n"
      ],
      "text/latex": [
       "A data.frame: 4 × 2\n",
       "\\begin{tabular}{ll}\n",
       " ME\\_Level & Sample\\\\\n",
       " <dbl> & <chr>\\\\\n",
       "\\hline\n",
       "\t  9.45 & CC\\\\\n",
       "\t 10.49 & HC\\\\\n",
       "\t 10.22 & HH\\\\\n",
       "\t  9.27 & CH\\\\\n",
       "\\end{tabular}\n"
      ],
      "text/markdown": [
       "\n",
       "A data.frame: 4 × 2\n",
       "\n",
       "| ME_Level &lt;dbl&gt; | Sample &lt;chr&gt; |\n",
       "|---|---|\n",
       "|  9.45 | CC |\n",
       "| 10.49 | HC |\n",
       "| 10.22 | HH |\n",
       "|  9.27 | CH |\n",
       "\n"
      ],
      "text/plain": [
       "  ME_Level Sample\n",
       "1  9.45    CC    \n",
       "2 10.49    HC    \n",
       "3 10.22    HH    \n",
       "4  9.27    CH    "
      ]
     },
     "metadata": {},
     "output_type": "display_data"
    }
   ],
   "source": [
    "exon_df <- exon_me_level %>% \n",
    "  t() %>% \n",
    "  as.data.frame() %>% \n",
    "  setNames(c(\"ME_Level\")) %>%  # rename the single column\n",
    "  mutate(Sample = rownames(.)) %>%  # add Sample column\n",
    "  `rownames<-`(NULL)  # remove row names\n",
    "\n",
    "exon_df"
   ]
  },
  {
   "cell_type": "code",
   "execution_count": 12,
   "id": "325c95a4-99ed-43b8-a1ed-e650023cacf2",
   "metadata": {},
   "outputs": [
    {
     "name": "stderr",
     "output_type": "stream",
     "text": [
      "Warning message:\n",
      "“\u001b[1m\u001b[22mUsing `size` aesthetic for lines was deprecated in ggplot2 3.4.0.\n",
      "\u001b[36mℹ\u001b[39m Please use `linewidth` instead.”\n"
     ]
    },
    {
     "data": {
      "image/png": "[encoded data removed]",
      "text/plain": [
       "plot without title"
      ]
     },
     "metadata": {
      "image/png": {
       "height": 420,
       "width": 420
      }
     },
     "output_type": "display_data"
    }
   ],
   "source": [
    "ggplot(exon_df, aes(x = Sample, y = ME_Level, fill = Sample)) +\n",
    "  geom_bar(stat = \"identity\") +\n",
    "scale_fill_brewer(palette = \"RdPu\",  direction = 1) +\n",
    "geom_col(color = \"black\", size = 0.25) +\n",
    "  labs(title = \"Exon Methylation Level\", x = \"Treatment\", y = \"% methylation\") +\n",
    "  theme_classic()"
   ]
  },
  {
   "cell_type": "code",
   "execution_count": 13,
   "id": "cb879d9a-efaa-4b1f-b548-29657e6afe75",
   "metadata": {},
   "outputs": [
    {
     "data": {
      "text/plain": [
       "\n",
       "\tWelch Two Sample t-test\n",
       "\n",
       "data:  p1c$ME_Level and p1h$ME_Level\n",
       "t = -6.1325, df = 1.7423, p-value = 0.03523\n",
       "alternative hypothesis: true difference in means is not equal to 0\n",
       "95 percent confidence interval:\n",
       " -1.8020356 -0.1879644\n",
       "sample estimates:\n",
       "mean of x mean of y \n",
       "    9.360    10.355 \n"
      ]
     },
     "metadata": {},
     "output_type": "display_data"
    }
   ],
   "source": [
    "p1c <- filter(exon_df, exon_df$Sample %in% c('CC','CH'))\n",
    "\n",
    "p1h <- filter(exon_df, exon_df$Sample %in% c('HC','HH'))\n",
    "\n",
    "t.test(p1c$ME_Level, p1h$ME_Level)"
   ]
  },
  {
   "cell_type": "markdown",
   "id": "43ce94f9-62b6-4815-b369-9c5a54f1599f",
   "metadata": {},
   "source": [
    "so the difference in methylation level of exons is statistically significant between first exposure to control vs. hypoxia"
   ]
  },
  {
   "cell_type": "code",
   "execution_count": 14,
   "id": "57f9080d-9555-42d1-9a7a-69b7f3c8e791",
   "metadata": {},
   "outputs": [],
   "source": [
    "exon_df$phase1 <- ifelse(exon_df$Sample == 'CC', 'control',\n",
    "                           ifelse(exon_df$Sample == 'CH', 'control', 'hypoxia'))\n",
    "\n",
    "exon_df$phase2 <- ifelse(exon_df$Sample == 'CC', 'control',\n",
    "                           ifelse(exon_df$Sample == 'HC', 'control', 'hypoxia'))"
   ]
  },
  {
   "cell_type": "code",
   "execution_count": 15,
   "id": "6eacb68b-4afd-425a-8aeb-29b618d79930",
   "metadata": {},
   "outputs": [
    {
     "data": {
      "text/html": [
       "<table class=\"dataframe\">\n",
       "<caption>A data.frame: 4 × 4</caption>\n",
       "<thead>\n",
       "\t<tr><th scope=col>ME_Level</th><th scope=col>Sample</th><th scope=col>phase1</th><th scope=col>phase2</th></tr>\n",
       "\t<tr><th scope=col>&lt;dbl&gt;</th><th scope=col>&lt;chr&gt;</th><th scope=col>&lt;chr&gt;</th><th scope=col>&lt;chr&gt;</th></tr>\n",
       "</thead>\n",
       "<tbody>\n",
       "\t<tr><td> 9.45</td><td>CC</td><td>control</td><td>control</td></tr>\n",
       "\t<tr><td>10.49</td><td>HC</td><td>hypoxia</td><td>control</td></tr>\n",
       "\t<tr><td>10.22</td><td>HH</td><td>hypoxia</td><td>hypoxia</td></tr>\n",
       "\t<tr><td> 9.27</td><td>CH</td><td>control</td><td>hypoxia</td></tr>\n",
       "</tbody>\n",
       "</table>\n"
      ],
      "text/latex": [
       "A data.frame: 4 × 4\n",
       "\\begin{tabular}{llll}\n",
       " ME\\_Level & Sample & phase1 & phase2\\\\\n",
       " <dbl> & <chr> & <chr> & <chr>\\\\\n",
       "\\hline\n",
       "\t  9.45 & CC & control & control\\\\\n",
       "\t 10.49 & HC & hypoxia & control\\\\\n",
       "\t 10.22 & HH & hypoxia & hypoxia\\\\\n",
       "\t  9.27 & CH & control & hypoxia\\\\\n",
       "\\end{tabular}\n"
      ],
      "text/markdown": [
       "\n",
       "A data.frame: 4 × 4\n",
       "\n",
       "| ME_Level &lt;dbl&gt; | Sample &lt;chr&gt; | phase1 &lt;chr&gt; | phase2 &lt;chr&gt; |\n",
       "|---|---|---|---|\n",
       "|  9.45 | CC | control | control |\n",
       "| 10.49 | HC | hypoxia | control |\n",
       "| 10.22 | HH | hypoxia | hypoxia |\n",
       "|  9.27 | CH | control | hypoxia |\n",
       "\n"
      ],
      "text/plain": [
       "  ME_Level Sample phase1  phase2 \n",
       "1  9.45    CC     control control\n",
       "2 10.49    HC     hypoxia control\n",
       "3 10.22    HH     hypoxia hypoxia\n",
       "4  9.27    CH     control hypoxia"
      ]
     },
     "metadata": {},
     "output_type": "display_data"
    }
   ],
   "source": [
    "exon_df"
   ]
  },
  {
   "cell_type": "markdown",
   "id": "3474126f-7d50-4ede-ad2d-ba7334c0ee4d",
   "metadata": {},
   "source": [
    "**overlap of methylated exons with other treatments?**"
   ]
  },
  {
   "cell_type": "code",
   "execution_count": 16,
   "id": "1eb9b644-ffdc-4654-9c91-29dfd2fca11d",
   "metadata": {},
   "outputs": [
    {
     "data": {
      "text/html": [
       "<table class=\"dataframe\">\n",
       "<caption>A data.frame: 6 × 9</caption>\n",
       "<thead>\n",
       "\t<tr><th></th><th scope=col>chr</th><th scope=col>start</th><th scope=col>stop</th><th scope=col>1</th><th scope=col>2</th><th scope=col>3</th><th scope=col>4</th><th scope=col>5</th><th scope=col>exon</th></tr>\n",
       "\t<tr><th></th><th scope=col>&lt;chr&gt;</th><th scope=col>&lt;int&gt;</th><th scope=col>&lt;int&gt;</th><th scope=col>&lt;int&gt;</th><th scope=col>&lt;int&gt;</th><th scope=col>&lt;int&gt;</th><th scope=col>&lt;int&gt;</th><th scope=col>&lt;int&gt;</th><th scope=col>&lt;chr&gt;</th></tr>\n",
       "</thead>\n",
       "<tbody>\n",
       "\t<tr><th scope=row>70</th><td>NC_035780.1</td><td>258108</td><td>259494</td><td> 78</td><td>14</td><td> 40</td><td>20</td><td> 2</td><td>258108_259494</td></tr>\n",
       "\t<tr><th scope=row>71</th><td>NC_035780.1</td><td>261478</td><td>262168</td><td>208</td><td>34</td><td>144</td><td>54</td><td>28</td><td>261478_262168</td></tr>\n",
       "\t<tr><th scope=row>72</th><td>NC_035780.1</td><td>263244</td><td>265531</td><td>108</td><td>24</td><td>110</td><td>60</td><td>22</td><td>263244_265531</td></tr>\n",
       "\t<tr><th scope=row>73</th><td>NC_035780.1</td><td>263245</td><td>265531</td><td>108</td><td>24</td><td>110</td><td>60</td><td>22</td><td>263245_265531</td></tr>\n",
       "\t<tr><th scope=row>74</th><td>NC_035780.1</td><td>266196</td><td>266755</td><td> 98</td><td> 8</td><td> 66</td><td>42</td><td>10</td><td>266196_266755</td></tr>\n",
       "\t<tr><th scope=row>75</th><td>NC_035780.1</td><td>268626</td><td>268864</td><td> 72</td><td>38</td><td>102</td><td>28</td><td>20</td><td>268626_268864</td></tr>\n",
       "</tbody>\n",
       "</table>\n"
      ],
      "text/latex": [
       "A data.frame: 6 × 9\n",
       "\\begin{tabular}{r|lllllllll}\n",
       "  & chr & start & stop & 1 & 2 & 3 & 4 & 5 & exon\\\\\n",
       "  & <chr> & <int> & <int> & <int> & <int> & <int> & <int> & <int> & <chr>\\\\\n",
       "\\hline\n",
       "\t70 & NC\\_035780.1 & 258108 & 259494 &  78 & 14 &  40 & 20 &  2 & 258108\\_259494\\\\\n",
       "\t71 & NC\\_035780.1 & 261478 & 262168 & 208 & 34 & 144 & 54 & 28 & 261478\\_262168\\\\\n",
       "\t72 & NC\\_035780.1 & 263244 & 265531 & 108 & 24 & 110 & 60 & 22 & 263244\\_265531\\\\\n",
       "\t73 & NC\\_035780.1 & 263245 & 265531 & 108 & 24 & 110 & 60 & 22 & 263245\\_265531\\\\\n",
       "\t74 & NC\\_035780.1 & 266196 & 266755 &  98 &  8 &  66 & 42 & 10 & 266196\\_266755\\\\\n",
       "\t75 & NC\\_035780.1 & 268626 & 268864 &  72 & 38 & 102 & 28 & 20 & 268626\\_268864\\\\\n",
       "\\end{tabular}\n"
      ],
      "text/markdown": [
       "\n",
       "A data.frame: 6 × 9\n",
       "\n",
       "| <!--/--> | chr &lt;chr&gt; | start &lt;int&gt; | stop &lt;int&gt; | 1 &lt;int&gt; | 2 &lt;int&gt; | 3 &lt;int&gt; | 4 &lt;int&gt; | 5 &lt;int&gt; | exon &lt;chr&gt; |\n",
       "|---|---|---|---|---|---|---|---|---|---|\n",
       "| 70 | NC_035780.1 | 258108 | 259494 |  78 | 14 |  40 | 20 |  2 | 258108_259494 |\n",
       "| 71 | NC_035780.1 | 261478 | 262168 | 208 | 34 | 144 | 54 | 28 | 261478_262168 |\n",
       "| 72 | NC_035780.1 | 263244 | 265531 | 108 | 24 | 110 | 60 | 22 | 263244_265531 |\n",
       "| 73 | NC_035780.1 | 263245 | 265531 | 108 | 24 | 110 | 60 | 22 | 263245_265531 |\n",
       "| 74 | NC_035780.1 | 266196 | 266755 |  98 |  8 |  66 | 42 | 10 | 266196_266755 |\n",
       "| 75 | NC_035780.1 | 268626 | 268864 |  72 | 38 | 102 | 28 | 20 | 268626_268864 |\n",
       "\n"
      ],
      "text/plain": [
       "   chr         start  stop   1   2  3   4  5  exon         \n",
       "70 NC_035780.1 258108 259494  78 14  40 20  2 258108_259494\n",
       "71 NC_035780.1 261478 262168 208 34 144 54 28 261478_262168\n",
       "72 NC_035780.1 263244 265531 108 24 110 60 22 263244_265531\n",
       "73 NC_035780.1 263245 265531 108 24 110 60 22 263245_265531\n",
       "74 NC_035780.1 266196 266755  98  8  66 42 10 266196_266755\n",
       "75 NC_035780.1 268626 268864  72 38 102 28 20 268626_268864"
      ]
     },
     "metadata": {},
     "output_type": "display_data"
    }
   ],
   "source": [
    "colnames(CC_filtered) <- c('chr','start', 'stop', '1', '2', '3', '4', '5')\n",
    "\n",
    "CC_filtered$exon <- paste(CC_filtered$start, CC_filtered$stop, sep='_')\n",
    "\n",
    "head(CC_filtered)"
   ]
  },
  {
   "cell_type": "code",
   "execution_count": 17,
   "id": "62988ce1-cc1e-4431-943f-4c9131b20545",
   "metadata": {},
   "outputs": [
    {
     "data": {
      "text/html": [
       "<table class=\"dataframe\">\n",
       "<caption>A data.frame: 6 × 9</caption>\n",
       "<thead>\n",
       "\t<tr><th></th><th scope=col>chr</th><th scope=col>start</th><th scope=col>stop</th><th scope=col>1</th><th scope=col>2</th><th scope=col>3</th><th scope=col>4</th><th scope=col>5</th><th scope=col>exon</th></tr>\n",
       "\t<tr><th></th><th scope=col>&lt;chr&gt;</th><th scope=col>&lt;int&gt;</th><th scope=col>&lt;int&gt;</th><th scope=col>&lt;int&gt;</th><th scope=col>&lt;int&gt;</th><th scope=col>&lt;int&gt;</th><th scope=col>&lt;int&gt;</th><th scope=col>&lt;int&gt;</th><th scope=col>&lt;chr&gt;</th></tr>\n",
       "</thead>\n",
       "<tbody>\n",
       "\t<tr><th scope=row>70</th><td>NC_035780.1</td><td>258108</td><td>259494</td><td> 72</td><td> 2</td><td>10</td><td> 24</td><td>18</td><td>258108_259494</td></tr>\n",
       "\t<tr><th scope=row>71</th><td>NC_035780.1</td><td>261478</td><td>262168</td><td>174</td><td>18</td><td>46</td><td>112</td><td>82</td><td>261478_262168</td></tr>\n",
       "\t<tr><th scope=row>72</th><td>NC_035780.1</td><td>263244</td><td>265531</td><td>100</td><td> 0</td><td>16</td><td> 86</td><td>78</td><td>263244_265531</td></tr>\n",
       "\t<tr><th scope=row>73</th><td>NC_035780.1</td><td>263245</td><td>265531</td><td>100</td><td> 0</td><td>16</td><td> 86</td><td>78</td><td>263245_265531</td></tr>\n",
       "\t<tr><th scope=row>74</th><td>NC_035780.1</td><td>266196</td><td>266755</td><td>130</td><td> 2</td><td>32</td><td>140</td><td>68</td><td>266196_266755</td></tr>\n",
       "\t<tr><th scope=row>75</th><td>NC_035780.1</td><td>268626</td><td>268864</td><td>136</td><td> 2</td><td>80</td><td> 68</td><td>66</td><td>268626_268864</td></tr>\n",
       "</tbody>\n",
       "</table>\n"
      ],
      "text/latex": [
       "A data.frame: 6 × 9\n",
       "\\begin{tabular}{r|lllllllll}\n",
       "  & chr & start & stop & 1 & 2 & 3 & 4 & 5 & exon\\\\\n",
       "  & <chr> & <int> & <int> & <int> & <int> & <int> & <int> & <int> & <chr>\\\\\n",
       "\\hline\n",
       "\t70 & NC\\_035780.1 & 258108 & 259494 &  72 &  2 & 10 &  24 & 18 & 258108\\_259494\\\\\n",
       "\t71 & NC\\_035780.1 & 261478 & 262168 & 174 & 18 & 46 & 112 & 82 & 261478\\_262168\\\\\n",
       "\t72 & NC\\_035780.1 & 263244 & 265531 & 100 &  0 & 16 &  86 & 78 & 263244\\_265531\\\\\n",
       "\t73 & NC\\_035780.1 & 263245 & 265531 & 100 &  0 & 16 &  86 & 78 & 263245\\_265531\\\\\n",
       "\t74 & NC\\_035780.1 & 266196 & 266755 & 130 &  2 & 32 & 140 & 68 & 266196\\_266755\\\\\n",
       "\t75 & NC\\_035780.1 & 268626 & 268864 & 136 &  2 & 80 &  68 & 66 & 268626\\_268864\\\\\n",
       "\\end{tabular}\n"
      ],
      "text/markdown": [
       "\n",
       "A data.frame: 6 × 9\n",
       "\n",
       "| <!--/--> | chr &lt;chr&gt; | start &lt;int&gt; | stop &lt;int&gt; | 1 &lt;int&gt; | 2 &lt;int&gt; | 3 &lt;int&gt; | 4 &lt;int&gt; | 5 &lt;int&gt; | exon &lt;chr&gt; |\n",
       "|---|---|---|---|---|---|---|---|---|---|\n",
       "| 70 | NC_035780.1 | 258108 | 259494 |  72 |  2 | 10 |  24 | 18 | 258108_259494 |\n",
       "| 71 | NC_035780.1 | 261478 | 262168 | 174 | 18 | 46 | 112 | 82 | 261478_262168 |\n",
       "| 72 | NC_035780.1 | 263244 | 265531 | 100 |  0 | 16 |  86 | 78 | 263244_265531 |\n",
       "| 73 | NC_035780.1 | 263245 | 265531 | 100 |  0 | 16 |  86 | 78 | 263245_265531 |\n",
       "| 74 | NC_035780.1 | 266196 | 266755 | 130 |  2 | 32 | 140 | 68 | 266196_266755 |\n",
       "| 75 | NC_035780.1 | 268626 | 268864 | 136 |  2 | 80 |  68 | 66 | 268626_268864 |\n",
       "\n"
      ],
      "text/plain": [
       "   chr         start  stop   1   2  3  4   5  exon         \n",
       "70 NC_035780.1 258108 259494  72  2 10  24 18 258108_259494\n",
       "71 NC_035780.1 261478 262168 174 18 46 112 82 261478_262168\n",
       "72 NC_035780.1 263244 265531 100  0 16  86 78 263244_265531\n",
       "73 NC_035780.1 263245 265531 100  0 16  86 78 263245_265531\n",
       "74 NC_035780.1 266196 266755 130  2 32 140 68 266196_266755\n",
       "75 NC_035780.1 268626 268864 136  2 80  68 66 268626_268864"
      ]
     },
     "metadata": {},
     "output_type": "display_data"
    }
   ],
   "source": [
    "colnames(CH_filtered) <- c('chr','start', 'stop', '1', '2', '3', '4', '5')\n",
    "\n",
    "CH_filtered$exon <- paste(CH_filtered$start, CH_filtered$stop, sep='_')\n",
    "\n",
    "head(CH_filtered)"
   ]
  },
  {
   "cell_type": "code",
   "execution_count": 18,
   "id": "f7797891-86bf-445a-8cf5-7d5f71747f31",
   "metadata": {},
   "outputs": [
    {
     "data": {
      "text/html": [
       "<table class=\"dataframe\">\n",
       "<caption>A data.frame: 6 × 9</caption>\n",
       "<thead>\n",
       "\t<tr><th></th><th scope=col>chr</th><th scope=col>start</th><th scope=col>stop</th><th scope=col>1</th><th scope=col>2</th><th scope=col>3</th><th scope=col>4</th><th scope=col>5</th><th scope=col>exon</th></tr>\n",
       "\t<tr><th></th><th scope=col>&lt;chr&gt;</th><th scope=col>&lt;int&gt;</th><th scope=col>&lt;int&gt;</th><th scope=col>&lt;int&gt;</th><th scope=col>&lt;int&gt;</th><th scope=col>&lt;int&gt;</th><th scope=col>&lt;int&gt;</th><th scope=col>&lt;int&gt;</th><th scope=col>&lt;chr&gt;</th></tr>\n",
       "</thead>\n",
       "<tbody>\n",
       "\t<tr><th scope=row>70</th><td>NC_035780.1</td><td>258108</td><td>259494</td><td> 54</td><td>104</td><td> 56</td><td> 68</td><td>18</td><td>258108_259494</td></tr>\n",
       "\t<tr><th scope=row>71</th><td>NC_035780.1</td><td>261478</td><td>262168</td><td>354</td><td>268</td><td>386</td><td>328</td><td>82</td><td>261478_262168</td></tr>\n",
       "\t<tr><th scope=row>72</th><td>NC_035780.1</td><td>263244</td><td>265531</td><td>166</td><td>110</td><td>222</td><td> 70</td><td>26</td><td>263244_265531</td></tr>\n",
       "\t<tr><th scope=row>73</th><td>NC_035780.1</td><td>263245</td><td>265531</td><td>166</td><td>110</td><td>222</td><td> 70</td><td>26</td><td>263245_265531</td></tr>\n",
       "\t<tr><th scope=row>74</th><td>NC_035780.1</td><td>266196</td><td>266755</td><td> 56</td><td> 32</td><td> 56</td><td> 30</td><td>24</td><td>266196_266755</td></tr>\n",
       "\t<tr><th scope=row>75</th><td>NC_035780.1</td><td>268626</td><td>268864</td><td>256</td><td>210</td><td>192</td><td>230</td><td>24</td><td>268626_268864</td></tr>\n",
       "</tbody>\n",
       "</table>\n"
      ],
      "text/latex": [
       "A data.frame: 6 × 9\n",
       "\\begin{tabular}{r|lllllllll}\n",
       "  & chr & start & stop & 1 & 2 & 3 & 4 & 5 & exon\\\\\n",
       "  & <chr> & <int> & <int> & <int> & <int> & <int> & <int> & <int> & <chr>\\\\\n",
       "\\hline\n",
       "\t70 & NC\\_035780.1 & 258108 & 259494 &  54 & 104 &  56 &  68 & 18 & 258108\\_259494\\\\\n",
       "\t71 & NC\\_035780.1 & 261478 & 262168 & 354 & 268 & 386 & 328 & 82 & 261478\\_262168\\\\\n",
       "\t72 & NC\\_035780.1 & 263244 & 265531 & 166 & 110 & 222 &  70 & 26 & 263244\\_265531\\\\\n",
       "\t73 & NC\\_035780.1 & 263245 & 265531 & 166 & 110 & 222 &  70 & 26 & 263245\\_265531\\\\\n",
       "\t74 & NC\\_035780.1 & 266196 & 266755 &  56 &  32 &  56 &  30 & 24 & 266196\\_266755\\\\\n",
       "\t75 & NC\\_035780.1 & 268626 & 268864 & 256 & 210 & 192 & 230 & 24 & 268626\\_268864\\\\\n",
       "\\end{tabular}\n"
      ],
      "text/markdown": [
       "\n",
       "A data.frame: 6 × 9\n",
       "\n",
       "| <!--/--> | chr &lt;chr&gt; | start &lt;int&gt; | stop &lt;int&gt; | 1 &lt;int&gt; | 2 &lt;int&gt; | 3 &lt;int&gt; | 4 &lt;int&gt; | 5 &lt;int&gt; | exon &lt;chr&gt; |\n",
       "|---|---|---|---|---|---|---|---|---|---|\n",
       "| 70 | NC_035780.1 | 258108 | 259494 |  54 | 104 |  56 |  68 | 18 | 258108_259494 |\n",
       "| 71 | NC_035780.1 | 261478 | 262168 | 354 | 268 | 386 | 328 | 82 | 261478_262168 |\n",
       "| 72 | NC_035780.1 | 263244 | 265531 | 166 | 110 | 222 |  70 | 26 | 263244_265531 |\n",
       "| 73 | NC_035780.1 | 263245 | 265531 | 166 | 110 | 222 |  70 | 26 | 263245_265531 |\n",
       "| 74 | NC_035780.1 | 266196 | 266755 |  56 |  32 |  56 |  30 | 24 | 266196_266755 |\n",
       "| 75 | NC_035780.1 | 268626 | 268864 | 256 | 210 | 192 | 230 | 24 | 268626_268864 |\n",
       "\n"
      ],
      "text/plain": [
       "   chr         start  stop   1   2   3   4   5  exon         \n",
       "70 NC_035780.1 258108 259494  54 104  56  68 18 258108_259494\n",
       "71 NC_035780.1 261478 262168 354 268 386 328 82 261478_262168\n",
       "72 NC_035780.1 263244 265531 166 110 222  70 26 263244_265531\n",
       "73 NC_035780.1 263245 265531 166 110 222  70 26 263245_265531\n",
       "74 NC_035780.1 266196 266755  56  32  56  30 24 266196_266755\n",
       "75 NC_035780.1 268626 268864 256 210 192 230 24 268626_268864"
      ]
     },
     "metadata": {},
     "output_type": "display_data"
    }
   ],
   "source": [
    "colnames(HC_filtered) <- c('chr','start', 'stop', '1', '2', '3', '4', '5')\n",
    "\n",
    "HC_filtered$exon <- paste(HC_filtered$start, HC_filtered$stop, sep='_')\n",
    "\n",
    "head(HC_filtered)"
   ]
  },
  {
   "cell_type": "code",
   "execution_count": 19,
   "id": "0ce3f8a8-3f4e-4418-9654-41bd00d55c89",
   "metadata": {},
   "outputs": [
    {
     "data": {
      "text/html": [
       "<table class=\"dataframe\">\n",
       "<caption>A data.frame: 6 × 9</caption>\n",
       "<thead>\n",
       "\t<tr><th></th><th scope=col>chr</th><th scope=col>start</th><th scope=col>stop</th><th scope=col>1</th><th scope=col>2</th><th scope=col>3</th><th scope=col>4</th><th scope=col>5</th><th scope=col>exon</th></tr>\n",
       "\t<tr><th></th><th scope=col>&lt;chr&gt;</th><th scope=col>&lt;int&gt;</th><th scope=col>&lt;int&gt;</th><th scope=col>&lt;int&gt;</th><th scope=col>&lt;int&gt;</th><th scope=col>&lt;int&gt;</th><th scope=col>&lt;int&gt;</th><th scope=col>&lt;int&gt;</th><th scope=col>&lt;chr&gt;</th></tr>\n",
       "</thead>\n",
       "<tbody>\n",
       "\t<tr><th scope=row>67</th><td>NC_035780.1</td><td>247019</td><td>247125</td><td>  0</td><td>  0</td><td> 20</td><td> 24</td><td>  0</td><td>247019_247125</td></tr>\n",
       "\t<tr><th scope=row>70</th><td>NC_035780.1</td><td>258108</td><td>259494</td><td> 26</td><td> 10</td><td> 30</td><td> 36</td><td> 10</td><td>258108_259494</td></tr>\n",
       "\t<tr><th scope=row>71</th><td>NC_035780.1</td><td>261478</td><td>262168</td><td>204</td><td>118</td><td>102</td><td>128</td><td> 84</td><td>261478_262168</td></tr>\n",
       "\t<tr><th scope=row>72</th><td>NC_035780.1</td><td>263244</td><td>265531</td><td>108</td><td> 88</td><td> 64</td><td>108</td><td>126</td><td>263244_265531</td></tr>\n",
       "\t<tr><th scope=row>73</th><td>NC_035780.1</td><td>263245</td><td>265531</td><td>108</td><td> 88</td><td> 64</td><td>108</td><td>126</td><td>263245_265531</td></tr>\n",
       "\t<tr><th scope=row>74</th><td>NC_035780.1</td><td>266196</td><td>266755</td><td> 98</td><td> 36</td><td> 48</td><td> 98</td><td>102</td><td>266196_266755</td></tr>\n",
       "</tbody>\n",
       "</table>\n"
      ],
      "text/latex": [
       "A data.frame: 6 × 9\n",
       "\\begin{tabular}{r|lllllllll}\n",
       "  & chr & start & stop & 1 & 2 & 3 & 4 & 5 & exon\\\\\n",
       "  & <chr> & <int> & <int> & <int> & <int> & <int> & <int> & <int> & <chr>\\\\\n",
       "\\hline\n",
       "\t67 & NC\\_035780.1 & 247019 & 247125 &   0 &   0 &  20 &  24 &   0 & 247019\\_247125\\\\\n",
       "\t70 & NC\\_035780.1 & 258108 & 259494 &  26 &  10 &  30 &  36 &  10 & 258108\\_259494\\\\\n",
       "\t71 & NC\\_035780.1 & 261478 & 262168 & 204 & 118 & 102 & 128 &  84 & 261478\\_262168\\\\\n",
       "\t72 & NC\\_035780.1 & 263244 & 265531 & 108 &  88 &  64 & 108 & 126 & 263244\\_265531\\\\\n",
       "\t73 & NC\\_035780.1 & 263245 & 265531 & 108 &  88 &  64 & 108 & 126 & 263245\\_265531\\\\\n",
       "\t74 & NC\\_035780.1 & 266196 & 266755 &  98 &  36 &  48 &  98 & 102 & 266196\\_266755\\\\\n",
       "\\end{tabular}\n"
      ],
      "text/markdown": [
       "\n",
       "A data.frame: 6 × 9\n",
       "\n",
       "| <!--/--> | chr &lt;chr&gt; | start &lt;int&gt; | stop &lt;int&gt; | 1 &lt;int&gt; | 2 &lt;int&gt; | 3 &lt;int&gt; | 4 &lt;int&gt; | 5 &lt;int&gt; | exon &lt;chr&gt; |\n",
       "|---|---|---|---|---|---|---|---|---|---|\n",
       "| 67 | NC_035780.1 | 247019 | 247125 |   0 |   0 |  20 |  24 |   0 | 247019_247125 |\n",
       "| 70 | NC_035780.1 | 258108 | 259494 |  26 |  10 |  30 |  36 |  10 | 258108_259494 |\n",
       "| 71 | NC_035780.1 | 261478 | 262168 | 204 | 118 | 102 | 128 |  84 | 261478_262168 |\n",
       "| 72 | NC_035780.1 | 263244 | 265531 | 108 |  88 |  64 | 108 | 126 | 263244_265531 |\n",
       "| 73 | NC_035780.1 | 263245 | 265531 | 108 |  88 |  64 | 108 | 126 | 263245_265531 |\n",
       "| 74 | NC_035780.1 | 266196 | 266755 |  98 |  36 |  48 |  98 | 102 | 266196_266755 |\n",
       "\n"
      ],
      "text/plain": [
       "   chr         start  stop   1   2   3   4   5   exon         \n",
       "67 NC_035780.1 247019 247125   0   0  20  24   0 247019_247125\n",
       "70 NC_035780.1 258108 259494  26  10  30  36  10 258108_259494\n",
       "71 NC_035780.1 261478 262168 204 118 102 128  84 261478_262168\n",
       "72 NC_035780.1 263244 265531 108  88  64 108 126 263244_265531\n",
       "73 NC_035780.1 263245 265531 108  88  64 108 126 263245_265531\n",
       "74 NC_035780.1 266196 266755  98  36  48  98 102 266196_266755"
      ]
     },
     "metadata": {},
     "output_type": "display_data"
    }
   ],
   "source": [
    "colnames(HH_filtered) <- c('chr','start', 'stop', '1', '2', '3', '4', '5')\n",
    "\n",
    "HH_filtered$exon <- paste(HH_filtered$start, HH_filtered$stop, sep='_')\n",
    "\n",
    "head(HH_filtered)"
   ]
  },
  {
   "cell_type": "code",
   "execution_count": 21,
   "id": "ec872d20-45e5-4256-aebf-09350721b8e5",
   "metadata": {},
   "outputs": [
    {
     "name": "stderr",
     "output_type": "stream",
     "text": [
      "\u001b[1m\u001b[22mScale for \u001b[32mfill\u001b[39m is already present.\n",
      "Adding another scale for \u001b[32mfill\u001b[39m, which will replace the existing scale.\n"
     ]
    },
    {
     "data": {
      "image/png": "[encoded data removed]",
      "text/plain": [
       "plot without title"
      ]
     },
     "metadata": {
      "image/png": {
       "height": 420,
       "width": 420
      }
     },
     "output_type": "display_data"
    }
   ],
   "source": [
    "x = list(A = CC_filtered$exon,\n",
    "         B = CH_filtered$exon, \n",
    "         C = HC_filtered$exon,\n",
    "        D = HH_filtered$exon)\n",
    "\n",
    "names(x) <- c('CC', 'CH', 'HC', 'HH')\n",
    "\n",
    "exon_venn <- ggvenn(x,\n",
    "      set_name_size = 6,\n",
    "       text_size = 5,\n",
    "      stroke_size = 0.5, \n",
    "       show_percentage = TRUE) + \n",
    "scale_fill_brewer(palette = \"RdPu\",  direction = 1)\n",
    "\n",
    "exon_venn"
   ]
  },
  {
   "cell_type": "code",
   "execution_count": 22,
   "id": "ab0ec63a-f570-4a9b-b0d9-c02062e4ca3c",
   "metadata": {},
   "outputs": [
    {
     "name": "stderr",
     "output_type": "stream",
     "text": [
      "\u001b[1m\u001b[22mSaving 6.67 x 6.67 in image\n"
     ]
    }
   ],
   "source": [
    "ggsave('/project/pi_sarah_gignouxwolfsohn_uml_edu/julia/CE_MethylRAD_analysis_2018/analysis/figures/exonMe_venn.pdf', exon_venn)"
   ]
  },
  {
   "cell_type": "markdown",
   "id": "46a5b591-edb4-447b-a5fa-b8ddc72fe735",
   "metadata": {},
   "source": [
    "#### methylation level of introns\n",
    "run in command line"
   ]
  },
  {
   "cell_type": "code",
   "execution_count": null,
   "id": "aed53875-22de-4edc-83fc-fbecad0433f8",
   "metadata": {},
   "outputs": [],
   "source": [
    "# hypoxic control files\n",
    "HC_files=(\"2018--BBB-WBO-B21-CV_sorted.bam\" \"2018--BBB-WBV-B70-CV_sorted.bam\" \"2018--BBO-WBO-B16-CV_sorted.bam\" \"2018--BBO-WBV-B64-CV_sorted.bam\" \"2018--BBY-WBG-B42-CV_sorted.bam\")\n",
    "\n",
    "bedtools multicov -bams \"${HC_files[@]}\" -bed $intron_bed > ${output_dir}HC_multicov_intron.csv"
   ]
  },
  {
   "cell_type": "code",
   "execution_count": null,
   "id": "80cac72a-f077-4786-9c65-8913a765f31c",
   "metadata": {},
   "outputs": [],
   "source": [
    "# control hypoxic files\n",
    "CH_files=(\"2018--WBG-BBB-W56-CV_sorted.bam\" \"2018--WBO-BBR-W03-CV_sorted.bam\" \"2018--WBR-BBY-W25-CV_sorted.bam\" \"2018--WBY-BBV-W65-CV_sorted.bam\" \"2018--WBY-BBY-W30-CV_sorted.bam\")\n",
    "\n",
    "bedtools multicov -bams \"${CH_files[@]}\" -bed $intron_bed > ${output_dir}CH_multicov_intron.csv"
   ]
  },
  {
   "cell_type": "code",
   "execution_count": null,
   "id": "e1925c84-588d-4eb7-9226-9d057b127472",
   "metadata": {},
   "outputs": [],
   "source": [
    "# hypoxic hypoxic files\n",
    "HH_files=(\"2018--BBO-BBO-B16-CV_sorted.bam\" \"2018--BBO-BBY-B27-CV_sorted.bam\" \"2018--BBR-BBB-B50-CV_sorted.bam\" \"2018--BBR-BBG-B38-CV_sorted.bam\" \"2018--BBR-BBY-B26-CV_sorted.bam\")\n",
    "\n",
    "bedtools multicov -bams \"${HH_files[@]}\" -bed $intron_bed > ${output_dir}HH_multicov_intron.csv"
   ]
  },
  {
   "cell_type": "code",
   "execution_count": null,
   "id": "bdb83fec-5a67-46af-aa2f-e0690a939ec7",
   "metadata": {},
   "outputs": [],
   "source": [
    "# control control files\n",
    "CC_files=(\"2018--WBB-WBV-W69-CV_sorted.bam\" \"2018--WBG-WBG-W44-CV_sorted.bam\" \"2018--WBO-WBV-W64-CV_sorted.bam\" \"2018--WBV-WBO-W23-CV_sorted.bam\" \"2018--WBV-WBR-W12-CV_sorted.bam\")\n",
    "\n",
    "bedtools multicov -bams \"${CC_files[@]}\" -bed $intron_bed > ${output_dir}CC_multicov_intron.csv"
   ]
  },
  {
   "cell_type": "markdown",
   "id": "f9f120dd-4a95-45bc-8504-974424739755",
   "metadata": {},
   "source": [
    "#### methylation level of introns"
   ]
  },
  {
   "cell_type": "code",
   "execution_count": 7,
   "id": "adaf667b-7c2f-4d03-8161-d290e526fc88",
   "metadata": {},
   "outputs": [],
   "source": [
    "CC_intron <- read.csv(\"/project/pi_sarah_gignouxwolfsohn_uml_edu/julia/CE_methyl_assembly/assembly_pipeline_files/genomic_bed_files/CpG_multicov/CC_multicov_intron.csv\", sep='\\t')\n",
    "CH_intron <- read.csv(\"/project/pi_sarah_gignouxwolfsohn_uml_edu/julia/CE_methyl_assembly/assembly_pipeline_files/genomic_bed_files/CpG_multicov/CH_multicov_intron.csv\", sep='\\t')\n",
    "HC_intron <- read.csv(\"/project/pi_sarah_gignouxwolfsohn_uml_edu/julia/CE_methyl_assembly/assembly_pipeline_files/genomic_bed_files/CpG_multicov/HC_multicov_intron.csv\", sep='\\t')\n",
    "HH_intron <- read.csv(\"/project/pi_sarah_gignouxwolfsohn_uml_edu/julia/CE_methyl_assembly/assembly_pipeline_files/genomic_bed_files/CpG_multicov/HH_multicov_intron.csv\", sep='\\t')"
   ]
  },
  {
   "cell_type": "code",
   "execution_count": 8,
   "id": "fdfde299-4cfc-40ed-8632-d3dd2c5365df",
   "metadata": {},
   "outputs": [
    {
     "name": "stdout",
     "output_type": "stream",
     "text": [
      "[1] \"12549 methylated introns and 311167 total intons\"\n",
      "[1] \"intron methylation level of CC: 4.03288266429281\"\n"
     ]
    }
   ],
   "source": [
    "# CONTROL CONTROL\n",
    "\n",
    "# Calculate average counts of last 5 columns\n",
    "CC_intron$avg_counts <- rowMeans(CC_intron[, tail(names(CC_intron), 5)])\n",
    "\n",
    "# Remove rows with averages below 5\n",
    "CC_filtered <- CC_intron[CC_intron$avg_counts >= 5, ]\n",
    "\n",
    "# Remove temporary average column\n",
    "CC_filtered$avg_counts <- NULL\n",
    "\n",
    "CCmethyl_intron <- dim(CC_filtered)[1]\n",
    "total_intron <- dim(CC_intron)[1]\n",
    "CC_level_intron <- round((CCmethyl_intron/total_intron)*100, 2)\n",
    "\n",
    "print(paste(CCmethyl_intron, \"methylated introns and\", total_intron, \"total intons\"))\n",
    "print(paste(\"intron methylation level of CC:\", (CCmethyl_intron)/(total_intron)*100))"
   ]
  },
  {
   "cell_type": "code",
   "execution_count": 9,
   "id": "6d2c73f2-afe3-437a-89b5-d6a5622c54a1",
   "metadata": {},
   "outputs": [
    {
     "name": "stdout",
     "output_type": "stream",
     "text": [
      "[1] \"12560 methylated introns and 311167 total introns\"\n",
      "[1] \"intron methylation level of CH: 4.03641774352679\"\n"
     ]
    }
   ],
   "source": [
    "# CONTROL HYPOXIC\n",
    "\n",
    "# Calculate average counts of last 5 columns\n",
    "CH_intron$avg_counts <- rowMeans(CH_intron[, tail(names(CH_intron), 5)])\n",
    "\n",
    "# Remove rows with averages below 5\n",
    "CH_filtered <- CH_intron[CH_intron$avg_counts >= 5, ]\n",
    "\n",
    "# Remove temporary average column\n",
    "CH_filtered$avg_counts <- NULL\n",
    "\n",
    "CHmethyl_intron <- dim(CH_filtered)[1]\n",
    "total_intron <- dim(CH_intron)[1]\n",
    "CH_level_intron <- round((CHmethyl_intron/total_intron)*100, 2)\n",
    "\n",
    "print(paste(CHmethyl_intron, \"methylated introns and\", total_intron, \"total introns\"))\n",
    "print(paste(\"intron methylation level of CH:\", (CHmethyl_intron)/(total_intron)*100))"
   ]
  },
  {
   "cell_type": "code",
   "execution_count": 10,
   "id": "dbbde907-e9e7-47a2-9934-df95756c0fb3",
   "metadata": {},
   "outputs": [
    {
     "name": "stdout",
     "output_type": "stream",
     "text": [
      "[1] \"14738 methylated introns and 311167 total introns\"\n",
      "[1] \"intron methylation level of HH: 4.73636343185492\"\n"
     ]
    }
   ],
   "source": [
    "# HYPOXIC HYPOXIC\n",
    "\n",
    "# Calculate average counts of last 5 columns\n",
    "HH_intron$avg_counts <- rowMeans(HH_intron[, tail(names(HH_intron), 5)])\n",
    "\n",
    "# Remove rows with averages below 5\n",
    "HH_filtered <- HH_intron[HH_intron$avg_counts >= 5, ]\n",
    "\n",
    "# Remove temporary average column\n",
    "HH_filtered$avg_counts <- NULL\n",
    "\n",
    "HHmethyl_intron <- dim(HH_filtered)[1]\n",
    "total_intron <- dim(HH_intron)[1]\n",
    "HH_level_intron <- round((HHmethyl_intron/total_intron)*100, 2)\n",
    "\n",
    "print(paste(HHmethyl_intron, \"methylated introns and\", total_intron, \"total introns\"))\n",
    "print(paste(\"intron methylation level of HH:\", (HHmethyl_intron)/(total_intron)*100))"
   ]
  },
  {
   "cell_type": "code",
   "execution_count": 11,
   "id": "a74c10e2-3e68-456a-a750-c00712244045",
   "metadata": {},
   "outputs": [
    {
     "name": "stdout",
     "output_type": "stream",
     "text": [
      "[1] \"15900 methylated introns and 311167 total introns\"\n",
      "[1] \"intron methylation level of HC: 5.10979634729904\"\n"
     ]
    }
   ],
   "source": [
    "# HYPOXIC CONTROL\n",
    "\n",
    "# Calculate average counts of last 5 columns\n",
    "HC_intron$avg_counts <- rowMeans(HC_intron[, tail(names(HC_intron), 5)])\n",
    "\n",
    "# Remove rows with averages below 5\n",
    "HC_filtered <- HC_intron[HC_intron$avg_counts >= 5, ]\n",
    "\n",
    "# Remove temporary average column\n",
    "HC_filtered$avg_counts <- NULL\n",
    "\n",
    "HCmethyl_intron <- dim(HC_filtered)[1]\n",
    "total_intron <- dim(HC_intron)[1]\n",
    "HC_level_intron <- round((HCmethyl_intron/total_intron)*100, 2)\n",
    "\n",
    "print(paste(HCmethyl_intron, \"methylated introns and\", total_intron, \"total introns\"))\n",
    "print(paste(\"intron methylation level of HC:\", (HCmethyl_intron)/(total_intron)*100))"
   ]
  },
  {
   "cell_type": "code",
   "execution_count": 12,
   "id": "f9d25272-ce24-4c58-adb6-896a61775580",
   "metadata": {},
   "outputs": [
    {
     "data": {
      "text/html": [
       "<table class=\"dataframe\">\n",
       "<caption>A tibble: 1 × 4</caption>\n",
       "<thead>\n",
       "\t<tr><th scope=col>CC</th><th scope=col>HC</th><th scope=col>HH</th><th scope=col>CH</th></tr>\n",
       "\t<tr><th scope=col>&lt;dbl&gt;</th><th scope=col>&lt;dbl&gt;</th><th scope=col>&lt;dbl&gt;</th><th scope=col>&lt;dbl&gt;</th></tr>\n",
       "</thead>\n",
       "<tbody>\n",
       "\t<tr><td>4.03</td><td>5.11</td><td>4.74</td><td>4.04</td></tr>\n",
       "</tbody>\n",
       "</table>\n"
      ],
      "text/latex": [
       "A tibble: 1 × 4\n",
       "\\begin{tabular}{llll}\n",
       " CC & HC & HH & CH\\\\\n",
       " <dbl> & <dbl> & <dbl> & <dbl>\\\\\n",
       "\\hline\n",
       "\t 4.03 & 5.11 & 4.74 & 4.04\\\\\n",
       "\\end{tabular}\n"
      ],
      "text/markdown": [
       "\n",
       "A tibble: 1 × 4\n",
       "\n",
       "| CC &lt;dbl&gt; | HC &lt;dbl&gt; | HH &lt;dbl&gt; | CH &lt;dbl&gt; |\n",
       "|---|---|---|---|\n",
       "| 4.03 | 5.11 | 4.74 | 4.04 |\n",
       "\n"
      ],
      "text/plain": [
       "  CC   HC   HH   CH  \n",
       "1 4.03 5.11 4.74 4.04"
      ]
     },
     "metadata": {},
     "output_type": "display_data"
    }
   ],
   "source": [
    "intron_me_level <- tibble(CC = CC_level_intron, HC = HC_level_intron, HH = HH_level_intron, CH = CH_level_intron)\n",
    "intron_me_level"
   ]
  },
  {
   "cell_type": "code",
   "execution_count": 13,
   "id": "e75189d7-d74e-41c6-8333-0f7442a01406",
   "metadata": {},
   "outputs": [
    {
     "data": {
      "text/html": [
       "<table class=\"dataframe\">\n",
       "<caption>A data.frame: 4 × 2</caption>\n",
       "<thead>\n",
       "\t<tr><th scope=col>ME_Level</th><th scope=col>Sample</th></tr>\n",
       "\t<tr><th scope=col>&lt;dbl&gt;</th><th scope=col>&lt;chr&gt;</th></tr>\n",
       "</thead>\n",
       "<tbody>\n",
       "\t<tr><td>4.03</td><td>CC</td></tr>\n",
       "\t<tr><td>5.11</td><td>HC</td></tr>\n",
       "\t<tr><td>4.74</td><td>HH</td></tr>\n",
       "\t<tr><td>4.04</td><td>CH</td></tr>\n",
       "</tbody>\n",
       "</table>\n"
      ],
      "text/latex": [
       "A data.frame: 4 × 2\n",
       "\\begin{tabular}{ll}\n",
       " ME\\_Level & Sample\\\\\n",
       " <dbl> & <chr>\\\\\n",
       "\\hline\n",
       "\t 4.03 & CC\\\\\n",
       "\t 5.11 & HC\\\\\n",
       "\t 4.74 & HH\\\\\n",
       "\t 4.04 & CH\\\\\n",
       "\\end{tabular}\n"
      ],
      "text/markdown": [
       "\n",
       "A data.frame: 4 × 2\n",
       "\n",
       "| ME_Level &lt;dbl&gt; | Sample &lt;chr&gt; |\n",
       "|---|---|\n",
       "| 4.03 | CC |\n",
       "| 5.11 | HC |\n",
       "| 4.74 | HH |\n",
       "| 4.04 | CH |\n",
       "\n"
      ],
      "text/plain": [
       "  ME_Level Sample\n",
       "1 4.03     CC    \n",
       "2 5.11     HC    \n",
       "3 4.74     HH    \n",
       "4 4.04     CH    "
      ]
     },
     "metadata": {},
     "output_type": "display_data"
    }
   ],
   "source": [
    "intron_df <- intron_me_level %>% \n",
    "  t() %>% \n",
    "  as.data.frame() %>% \n",
    "  setNames(c(\"ME_Level\")) %>%  # rename the single column\n",
    "  mutate(Sample = rownames(.)) %>%  # add Sample column\n",
    "  `rownames<-`(NULL)  # remove row names\n",
    "\n",
    "intron_df"
   ]
  },
  {
   "cell_type": "code",
   "execution_count": 15,
   "id": "ba40d0c3-cc13-4d05-9cbb-e219dc490bc5",
   "metadata": {},
   "outputs": [
    {
     "name": "stderr",
     "output_type": "stream",
     "text": [
      "Warning message:\n",
      "“\u001b[1m\u001b[22mUsing `size` aesthetic for lines was deprecated in ggplot2 3.4.0.\n",
      "\u001b[36mℹ\u001b[39m Please use `linewidth` instead.”\n"
     ]
    },
    {
     "data": {
      "image/png": "[encoded data removed]",
      "text/plain": [
       "plot without title"
      ]
     },
     "metadata": {
      "image/png": {
       "height": 420,
       "width": 420
      }
     },
     "output_type": "display_data"
    }
   ],
   "source": [
    "ggplot(intron_df, aes(x = Sample, y = ME_Level, fill = Sample)) +\n",
    "  geom_bar(stat = \"identity\") +\n",
    "geom_col(color = \"black\", size = 0.25) +\n",
    " scale_fill_brewer(palette = \"RdPu\", direction = 1) +\n",
    "  labs(title = \"Intron Methylation Level\", x = \"Treatment\", y = \"% methylation\") +\n",
    "  theme_classic()"
   ]
  },
  {
   "cell_type": "markdown",
   "id": "6262a6fd-bb9e-4889-8e51-432c76c01d48",
   "metadata": {},
   "source": [
    "# CG motif"
   ]
  },
  {
   "cell_type": "code",
   "execution_count": 8,
   "id": "0aeb2ff0-e8b4-491a-8dd4-9c1faf3e13f0",
   "metadata": {},
   "outputs": [
    {
     "data": {
      "text/html": [
       "<style>\n",
       ".list-inline {list-style: none; margin:0; padding: 0}\n",
       ".list-inline>li {display: inline-block}\n",
       ".list-inline>li:not(:last-child)::after {content: \"\\00b7\"; padding: 0 .5ex}\n",
       "</style>\n",
       "<ol class=list-inline><li>14458702</li><li>24</li></ol>\n"
      ],
      "text/latex": [
       "\\begin{enumerate*}\n",
       "\\item 14458702\n",
       "\\item 24\n",
       "\\end{enumerate*}\n"
      ],
      "text/markdown": [
       "1. 14458702\n",
       "2. 24\n",
       "\n",
       "\n"
      ],
      "text/plain": [
       "[1] 14458702       24"
      ]
     },
     "metadata": {},
     "output_type": "display_data"
    },
    {
     "data": {
      "text/html": [
       "<table class=\"dataframe\">\n",
       "<caption>A data.frame: 6 × 24</caption>\n",
       "<thead>\n",
       "\t<tr><th></th><th scope=col>NC_035780.1</th><th scope=col>X28</th><th scope=col>X30</th><th scope=col>CG_motif</th><th scope=col>X0</th><th scope=col>X0.1</th><th scope=col>X0.2</th><th scope=col>X0.3</th><th scope=col>X0.4</th><th scope=col>X0.5</th><th scope=col>⋯</th><th scope=col>X0.10</th><th scope=col>X0.11</th><th scope=col>X0.12</th><th scope=col>X0.13</th><th scope=col>X0.14</th><th scope=col>X0.15</th><th scope=col>X0.16</th><th scope=col>X0.17</th><th scope=col>X0.18</th><th scope=col>X0.19</th></tr>\n",
       "\t<tr><th></th><th scope=col>&lt;chr&gt;</th><th scope=col>&lt;int&gt;</th><th scope=col>&lt;int&gt;</th><th scope=col>&lt;chr&gt;</th><th scope=col>&lt;int&gt;</th><th scope=col>&lt;int&gt;</th><th scope=col>&lt;int&gt;</th><th scope=col>&lt;int&gt;</th><th scope=col>&lt;int&gt;</th><th scope=col>&lt;int&gt;</th><th scope=col>⋯</th><th scope=col>&lt;int&gt;</th><th scope=col>&lt;int&gt;</th><th scope=col>&lt;int&gt;</th><th scope=col>&lt;int&gt;</th><th scope=col>&lt;int&gt;</th><th scope=col>&lt;int&gt;</th><th scope=col>&lt;int&gt;</th><th scope=col>&lt;int&gt;</th><th scope=col>&lt;int&gt;</th><th scope=col>&lt;int&gt;</th></tr>\n",
       "</thead>\n",
       "<tbody>\n",
       "\t<tr><th scope=row>1</th><td>NC_035780.1</td><td> 54</td><td> 56</td><td>CG_motif</td><td>0</td><td>0</td><td>0</td><td>0</td><td>0</td><td>0</td><td>⋯</td><td>0</td><td>0</td><td>0</td><td>0</td><td>0</td><td>0</td><td>0</td><td>0</td><td>0</td><td>0</td></tr>\n",
       "\t<tr><th scope=row>2</th><td>NC_035780.1</td><td> 75</td><td> 77</td><td>CG_motif</td><td>0</td><td>0</td><td>0</td><td>0</td><td>0</td><td>0</td><td>⋯</td><td>0</td><td>0</td><td>0</td><td>0</td><td>0</td><td>0</td><td>0</td><td>0</td><td>0</td><td>0</td></tr>\n",
       "\t<tr><th scope=row>3</th><td>NC_035780.1</td><td> 93</td><td> 95</td><td>CG_motif</td><td>0</td><td>0</td><td>0</td><td>0</td><td>0</td><td>0</td><td>⋯</td><td>0</td><td>0</td><td>0</td><td>0</td><td>0</td><td>0</td><td>0</td><td>0</td><td>0</td><td>0</td></tr>\n",
       "\t<tr><th scope=row>4</th><td>NC_035780.1</td><td>103</td><td>105</td><td>CG_motif</td><td>0</td><td>0</td><td>0</td><td>0</td><td>0</td><td>0</td><td>⋯</td><td>0</td><td>0</td><td>0</td><td>0</td><td>0</td><td>0</td><td>0</td><td>0</td><td>0</td><td>0</td></tr>\n",
       "\t<tr><th scope=row>5</th><td>NC_035780.1</td><td>116</td><td>118</td><td>CG_motif</td><td>0</td><td>0</td><td>0</td><td>0</td><td>0</td><td>0</td><td>⋯</td><td>0</td><td>0</td><td>0</td><td>0</td><td>0</td><td>0</td><td>0</td><td>0</td><td>0</td><td>0</td></tr>\n",
       "\t<tr><th scope=row>6</th><td>NC_035780.1</td><td>134</td><td>136</td><td>CG_motif</td><td>0</td><td>0</td><td>0</td><td>0</td><td>0</td><td>0</td><td>⋯</td><td>0</td><td>0</td><td>0</td><td>0</td><td>0</td><td>0</td><td>0</td><td>0</td><td>0</td><td>0</td></tr>\n",
       "</tbody>\n",
       "</table>\n"
      ],
      "text/latex": [
       "A data.frame: 6 × 24\n",
       "\\begin{tabular}{r|lllllllllllllllllllll}\n",
       "  & NC\\_035780.1 & X28 & X30 & CG\\_motif & X0 & X0.1 & X0.2 & X0.3 & X0.4 & X0.5 & ⋯ & X0.10 & X0.11 & X0.12 & X0.13 & X0.14 & X0.15 & X0.16 & X0.17 & X0.18 & X0.19\\\\\n",
       "  & <chr> & <int> & <int> & <chr> & <int> & <int> & <int> & <int> & <int> & <int> & ⋯ & <int> & <int> & <int> & <int> & <int> & <int> & <int> & <int> & <int> & <int>\\\\\n",
       "\\hline\n",
       "\t1 & NC\\_035780.1 &  54 &  56 & CG\\_motif & 0 & 0 & 0 & 0 & 0 & 0 & ⋯ & 0 & 0 & 0 & 0 & 0 & 0 & 0 & 0 & 0 & 0\\\\\n",
       "\t2 & NC\\_035780.1 &  75 &  77 & CG\\_motif & 0 & 0 & 0 & 0 & 0 & 0 & ⋯ & 0 & 0 & 0 & 0 & 0 & 0 & 0 & 0 & 0 & 0\\\\\n",
       "\t3 & NC\\_035780.1 &  93 &  95 & CG\\_motif & 0 & 0 & 0 & 0 & 0 & 0 & ⋯ & 0 & 0 & 0 & 0 & 0 & 0 & 0 & 0 & 0 & 0\\\\\n",
       "\t4 & NC\\_035780.1 & 103 & 105 & CG\\_motif & 0 & 0 & 0 & 0 & 0 & 0 & ⋯ & 0 & 0 & 0 & 0 & 0 & 0 & 0 & 0 & 0 & 0\\\\\n",
       "\t5 & NC\\_035780.1 & 116 & 118 & CG\\_motif & 0 & 0 & 0 & 0 & 0 & 0 & ⋯ & 0 & 0 & 0 & 0 & 0 & 0 & 0 & 0 & 0 & 0\\\\\n",
       "\t6 & NC\\_035780.1 & 134 & 136 & CG\\_motif & 0 & 0 & 0 & 0 & 0 & 0 & ⋯ & 0 & 0 & 0 & 0 & 0 & 0 & 0 & 0 & 0 & 0\\\\\n",
       "\\end{tabular}\n"
      ],
      "text/markdown": [
       "\n",
       "A data.frame: 6 × 24\n",
       "\n",
       "| <!--/--> | NC_035780.1 &lt;chr&gt; | X28 &lt;int&gt; | X30 &lt;int&gt; | CG_motif &lt;chr&gt; | X0 &lt;int&gt; | X0.1 &lt;int&gt; | X0.2 &lt;int&gt; | X0.3 &lt;int&gt; | X0.4 &lt;int&gt; | X0.5 &lt;int&gt; | ⋯ ⋯ | X0.10 &lt;int&gt; | X0.11 &lt;int&gt; | X0.12 &lt;int&gt; | X0.13 &lt;int&gt; | X0.14 &lt;int&gt; | X0.15 &lt;int&gt; | X0.16 &lt;int&gt; | X0.17 &lt;int&gt; | X0.18 &lt;int&gt; | X0.19 &lt;int&gt; |\n",
       "|---|---|---|---|---|---|---|---|---|---|---|---|---|---|---|---|---|---|---|---|---|---|\n",
       "| 1 | NC_035780.1 |  54 |  56 | CG_motif | 0 | 0 | 0 | 0 | 0 | 0 | ⋯ | 0 | 0 | 0 | 0 | 0 | 0 | 0 | 0 | 0 | 0 |\n",
       "| 2 | NC_035780.1 |  75 |  77 | CG_motif | 0 | 0 | 0 | 0 | 0 | 0 | ⋯ | 0 | 0 | 0 | 0 | 0 | 0 | 0 | 0 | 0 | 0 |\n",
       "| 3 | NC_035780.1 |  93 |  95 | CG_motif | 0 | 0 | 0 | 0 | 0 | 0 | ⋯ | 0 | 0 | 0 | 0 | 0 | 0 | 0 | 0 | 0 | 0 |\n",
       "| 4 | NC_035780.1 | 103 | 105 | CG_motif | 0 | 0 | 0 | 0 | 0 | 0 | ⋯ | 0 | 0 | 0 | 0 | 0 | 0 | 0 | 0 | 0 | 0 |\n",
       "| 5 | NC_035780.1 | 116 | 118 | CG_motif | 0 | 0 | 0 | 0 | 0 | 0 | ⋯ | 0 | 0 | 0 | 0 | 0 | 0 | 0 | 0 | 0 | 0 |\n",
       "| 6 | NC_035780.1 | 134 | 136 | CG_motif | 0 | 0 | 0 | 0 | 0 | 0 | ⋯ | 0 | 0 | 0 | 0 | 0 | 0 | 0 | 0 | 0 | 0 |\n",
       "\n"
      ],
      "text/plain": [
       "  NC_035780.1 X28 X30 CG_motif X0 X0.1 X0.2 X0.3 X0.4 X0.5 ⋯ X0.10 X0.11 X0.12\n",
       "1 NC_035780.1  54  56 CG_motif 0  0    0    0    0    0    ⋯ 0     0     0    \n",
       "2 NC_035780.1  75  77 CG_motif 0  0    0    0    0    0    ⋯ 0     0     0    \n",
       "3 NC_035780.1  93  95 CG_motif 0  0    0    0    0    0    ⋯ 0     0     0    \n",
       "4 NC_035780.1 103 105 CG_motif 0  0    0    0    0    0    ⋯ 0     0     0    \n",
       "5 NC_035780.1 116 118 CG_motif 0  0    0    0    0    0    ⋯ 0     0     0    \n",
       "6 NC_035780.1 134 136 CG_motif 0  0    0    0    0    0    ⋯ 0     0     0    \n",
       "  X0.13 X0.14 X0.15 X0.16 X0.17 X0.18 X0.19\n",
       "1 0     0     0     0     0     0     0    \n",
       "2 0     0     0     0     0     0     0    \n",
       "3 0     0     0     0     0     0     0    \n",
       "4 0     0     0     0     0     0     0    \n",
       "5 0     0     0     0     0     0     0    \n",
       "6 0     0     0     0     0     0     0    "
      ]
     },
     "metadata": {},
     "output_type": "display_data"
    }
   ],
   "source": [
    "CG_multicov <- read.csv('/project/pi_sarah_gignouxwolfsohn_uml_edu/julia/CE_methyl_assembly/assembly_pipeline_files/genomic_bed_files/CpG_multicov/CG_motif_multicov.csv', sep='\\t')\n",
    "dim(CG_multicov)\n",
    "head(CG_multicov)"
   ]
  },
  {
   "cell_type": "code",
   "execution_count": 9,
   "id": "f7f58f9e-23ce-49ff-866f-8efcb76bca35",
   "metadata": {},
   "outputs": [
    {
     "data": {
      "text/html": [
       "<style>\n",
       ".list-inline {list-style: none; margin:0; padding: 0}\n",
       ".list-inline>li {display: inline-block}\n",
       ".list-inline>li:not(:last-child)::after {content: \"\\00b7\"; padding: 0 .5ex}\n",
       "</style>\n",
       "<ol class=list-inline><li>'2018--BBB-WBO-B21-CV_sorted.bam'</li><li>'2018--BBB-WBV-B70-CV_sorted.bam'</li><li>'2018--BBO-BBO-B16-CV_sorted.bam'</li><li>'2018--BBO-BBY-B27-CV_sorted.bam'</li><li>'2018--BBO-WBO-B16-CV_sorted.bam'</li><li>'2018--BBO-WBV-B64-CV_sorted.bam'</li><li>'2018--BBR-BBB-B50-CV_sorted.bam'</li><li>'2018--BBR-BBG-B38-CV_sorted.bam'</li><li>'2018--BBR-BBY-B26-CV_sorted.bam'</li><li>'2018--BBY-WBG-B42-CV_sorted.bam'</li><li>'2018--WBB-WBV-W69-CV_sorted.bam'</li><li>'2018--WBG-BBB-W56-CV_sorted.bam'</li><li>'2018--WBG-WBG-W44-CV_sorted.bam'</li><li>'2018--WBO-BBR-W03-CV_sorted.bam'</li><li>'2018--WBO-WBV-W64-CV_sorted.bam'</li><li>'2018--WBR-BBY-W25-CV_sorted.bam'</li><li>'2018--WBV-WBO-W23-CV_sorted.bam'</li><li>'2018--WBV-WBR-W12-CV_sorted.bam'</li><li>'2018--WBY-BBV-W65-CV_sorted.bam'</li><li>'2018--WBY-BBY-W30-CV_sorted.bam'</li></ol>\n"
      ],
      "text/latex": [
       "\\begin{enumerate*}\n",
       "\\item '2018--BBB-WBO-B21-CV\\_sorted.bam'\n",
       "\\item '2018--BBB-WBV-B70-CV\\_sorted.bam'\n",
       "\\item '2018--BBO-BBO-B16-CV\\_sorted.bam'\n",
       "\\item '2018--BBO-BBY-B27-CV\\_sorted.bam'\n",
       "\\item '2018--BBO-WBO-B16-CV\\_sorted.bam'\n",
       "\\item '2018--BBO-WBV-B64-CV\\_sorted.bam'\n",
       "\\item '2018--BBR-BBB-B50-CV\\_sorted.bam'\n",
       "\\item '2018--BBR-BBG-B38-CV\\_sorted.bam'\n",
       "\\item '2018--BBR-BBY-B26-CV\\_sorted.bam'\n",
       "\\item '2018--BBY-WBG-B42-CV\\_sorted.bam'\n",
       "\\item '2018--WBB-WBV-W69-CV\\_sorted.bam'\n",
       "\\item '2018--WBG-BBB-W56-CV\\_sorted.bam'\n",
       "\\item '2018--WBG-WBG-W44-CV\\_sorted.bam'\n",
       "\\item '2018--WBO-BBR-W03-CV\\_sorted.bam'\n",
       "\\item '2018--WBO-WBV-W64-CV\\_sorted.bam'\n",
       "\\item '2018--WBR-BBY-W25-CV\\_sorted.bam'\n",
       "\\item '2018--WBV-WBO-W23-CV\\_sorted.bam'\n",
       "\\item '2018--WBV-WBR-W12-CV\\_sorted.bam'\n",
       "\\item '2018--WBY-BBV-W65-CV\\_sorted.bam'\n",
       "\\item '2018--WBY-BBY-W30-CV\\_sorted.bam'\n",
       "\\end{enumerate*}\n"
      ],
      "text/markdown": [
       "1. '2018--BBB-WBO-B21-CV_sorted.bam'\n",
       "2. '2018--BBB-WBV-B70-CV_sorted.bam'\n",
       "3. '2018--BBO-BBO-B16-CV_sorted.bam'\n",
       "4. '2018--BBO-BBY-B27-CV_sorted.bam'\n",
       "5. '2018--BBO-WBO-B16-CV_sorted.bam'\n",
       "6. '2018--BBO-WBV-B64-CV_sorted.bam'\n",
       "7. '2018--BBR-BBB-B50-CV_sorted.bam'\n",
       "8. '2018--BBR-BBG-B38-CV_sorted.bam'\n",
       "9. '2018--BBR-BBY-B26-CV_sorted.bam'\n",
       "10. '2018--BBY-WBG-B42-CV_sorted.bam'\n",
       "11. '2018--WBB-WBV-W69-CV_sorted.bam'\n",
       "12. '2018--WBG-BBB-W56-CV_sorted.bam'\n",
       "13. '2018--WBG-WBG-W44-CV_sorted.bam'\n",
       "14. '2018--WBO-BBR-W03-CV_sorted.bam'\n",
       "15. '2018--WBO-WBV-W64-CV_sorted.bam'\n",
       "16. '2018--WBR-BBY-W25-CV_sorted.bam'\n",
       "17. '2018--WBV-WBO-W23-CV_sorted.bam'\n",
       "18. '2018--WBV-WBR-W12-CV_sorted.bam'\n",
       "19. '2018--WBY-BBV-W65-CV_sorted.bam'\n",
       "20. '2018--WBY-BBY-W30-CV_sorted.bam'\n",
       "\n",
       "\n"
      ],
      "text/plain": [
       " [1] \"2018--BBB-WBO-B21-CV_sorted.bam\" \"2018--BBB-WBV-B70-CV_sorted.bam\"\n",
       " [3] \"2018--BBO-BBO-B16-CV_sorted.bam\" \"2018--BBO-BBY-B27-CV_sorted.bam\"\n",
       " [5] \"2018--BBO-WBO-B16-CV_sorted.bam\" \"2018--BBO-WBV-B64-CV_sorted.bam\"\n",
       " [7] \"2018--BBR-BBB-B50-CV_sorted.bam\" \"2018--BBR-BBG-B38-CV_sorted.bam\"\n",
       " [9] \"2018--BBR-BBY-B26-CV_sorted.bam\" \"2018--BBY-WBG-B42-CV_sorted.bam\"\n",
       "[11] \"2018--WBB-WBV-W69-CV_sorted.bam\" \"2018--WBG-BBB-W56-CV_sorted.bam\"\n",
       "[13] \"2018--WBG-WBG-W44-CV_sorted.bam\" \"2018--WBO-BBR-W03-CV_sorted.bam\"\n",
       "[15] \"2018--WBO-WBV-W64-CV_sorted.bam\" \"2018--WBR-BBY-W25-CV_sorted.bam\"\n",
       "[17] \"2018--WBV-WBO-W23-CV_sorted.bam\" \"2018--WBV-WBR-W12-CV_sorted.bam\"\n",
       "[19] \"2018--WBY-BBV-W65-CV_sorted.bam\" \"2018--WBY-BBY-W30-CV_sorted.bam\""
      ]
     },
     "metadata": {},
     "output_type": "display_data"
    }
   ],
   "source": [
    "bam_files <- dir(path = \"/project/pi_sarah_gignouxwolfsohn_uml_edu/julia/CE_methyl_assembly/assembly_pipeline_files/BEDtools/working_BAM_sequences/\", pattern = \"^.*\\\\.bam$\", full.names = FALSE, ignore.case = TRUE, all.files = TRUE)\n",
    "bam_files"
   ]
  },
  {
   "cell_type": "code",
   "execution_count": 10,
   "id": "2071b649-9941-4dbc-8213-563c1a6bdc49",
   "metadata": {},
   "outputs": [
    {
     "data": {
      "text/html": [
       "<style>\n",
       ".list-inline {list-style: none; margin:0; padding: 0}\n",
       ".list-inline>li {display: inline-block}\n",
       ".list-inline>li:not(:last-child)::after {content: \"\\00b7\"; padding: 0 .5ex}\n",
       "</style>\n",
       "<ol class=list-inline><li>'BBB-WBO-B21'</li><li>'BBB-WBV-B70'</li><li>'BBO-BBO-B16'</li><li>'BBO-BBY-B27'</li><li>'BBO-WBO-B16'</li><li>'BBO-WBV-B64'</li><li>'BBR-BBB-B50'</li><li>'BBR-BBG-B38'</li><li>'BBR-BBY-B26'</li><li>'BBY-WBG-B42'</li><li>'WBB-WBV-W69'</li><li>'WBG-BBB-W56'</li><li>'WBG-WBG-W44'</li><li>'WBO-BBR-W03'</li><li>'WBO-WBV-W64'</li><li>'WBR-BBY-W25'</li><li>'WBV-WBO-W23'</li><li>'WBV-WBR-W12'</li><li>'WBY-BBV-W65'</li><li>'WBY-BBY-W30'</li></ol>\n"
      ],
      "text/latex": [
       "\\begin{enumerate*}\n",
       "\\item 'BBB-WBO-B21'\n",
       "\\item 'BBB-WBV-B70'\n",
       "\\item 'BBO-BBO-B16'\n",
       "\\item 'BBO-BBY-B27'\n",
       "\\item 'BBO-WBO-B16'\n",
       "\\item 'BBO-WBV-B64'\n",
       "\\item 'BBR-BBB-B50'\n",
       "\\item 'BBR-BBG-B38'\n",
       "\\item 'BBR-BBY-B26'\n",
       "\\item 'BBY-WBG-B42'\n",
       "\\item 'WBB-WBV-W69'\n",
       "\\item 'WBG-BBB-W56'\n",
       "\\item 'WBG-WBG-W44'\n",
       "\\item 'WBO-BBR-W03'\n",
       "\\item 'WBO-WBV-W64'\n",
       "\\item 'WBR-BBY-W25'\n",
       "\\item 'WBV-WBO-W23'\n",
       "\\item 'WBV-WBR-W12'\n",
       "\\item 'WBY-BBV-W65'\n",
       "\\item 'WBY-BBY-W30'\n",
       "\\end{enumerate*}\n"
      ],
      "text/markdown": [
       "1. 'BBB-WBO-B21'\n",
       "2. 'BBB-WBV-B70'\n",
       "3. 'BBO-BBO-B16'\n",
       "4. 'BBO-BBY-B27'\n",
       "5. 'BBO-WBO-B16'\n",
       "6. 'BBO-WBV-B64'\n",
       "7. 'BBR-BBB-B50'\n",
       "8. 'BBR-BBG-B38'\n",
       "9. 'BBR-BBY-B26'\n",
       "10. 'BBY-WBG-B42'\n",
       "11. 'WBB-WBV-W69'\n",
       "12. 'WBG-BBB-W56'\n",
       "13. 'WBG-WBG-W44'\n",
       "14. 'WBO-BBR-W03'\n",
       "15. 'WBO-WBV-W64'\n",
       "16. 'WBR-BBY-W25'\n",
       "17. 'WBV-WBO-W23'\n",
       "18. 'WBV-WBR-W12'\n",
       "19. 'WBY-BBV-W65'\n",
       "20. 'WBY-BBY-W30'\n",
       "\n",
       "\n"
      ],
      "text/plain": [
       " [1] \"BBB-WBO-B21\" \"BBB-WBV-B70\" \"BBO-BBO-B16\" \"BBO-BBY-B27\" \"BBO-WBO-B16\"\n",
       " [6] \"BBO-WBV-B64\" \"BBR-BBB-B50\" \"BBR-BBG-B38\" \"BBR-BBY-B26\" \"BBY-WBG-B42\"\n",
       "[11] \"WBB-WBV-W69\" \"WBG-BBB-W56\" \"WBG-WBG-W44\" \"WBO-BBR-W03\" \"WBO-WBV-W64\"\n",
       "[16] \"WBR-BBY-W25\" \"WBV-WBO-W23\" \"WBV-WBR-W12\" \"WBY-BBV-W65\" \"WBY-BBY-W30\""
      ]
     },
     "metadata": {},
     "output_type": "display_data"
    }
   ],
   "source": [
    "# clean sample names\n",
    "bam_files_clean <- gsub(\"^2018--|-CV_sorted\\\\.bam$\", \"\", bam_files)\n",
    "bam_files_clean"
   ]
  },
  {
   "cell_type": "code",
   "execution_count": 11,
   "id": "9182cbe1-bb57-4bfd-b40e-aee869647976",
   "metadata": {},
   "outputs": [
    {
     "data": {
      "text/html": [
       "<table class=\"dataframe\">\n",
       "<caption>A data.frame: 6 × 24</caption>\n",
       "<thead>\n",
       "\t<tr><th></th><th scope=col>chromosome</th><th scope=col>start</th><th scope=col>stop</th><th scope=col>CG_motif</th><th scope=col>BBB-WBO-B21</th><th scope=col>BBB-WBV-B70</th><th scope=col>BBO-BBO-B16</th><th scope=col>BBO-BBY-B27</th><th scope=col>BBO-WBO-B16</th><th scope=col>BBO-WBV-B64</th><th scope=col>⋯</th><th scope=col>WBB-WBV-W69</th><th scope=col>WBG-BBB-W56</th><th scope=col>WBG-WBG-W44</th><th scope=col>WBO-BBR-W03</th><th scope=col>WBO-WBV-W64</th><th scope=col>WBR-BBY-W25</th><th scope=col>WBV-WBO-W23</th><th scope=col>WBV-WBR-W12</th><th scope=col>WBY-BBV-W65</th><th scope=col>WBY-BBY-W30</th></tr>\n",
       "\t<tr><th></th><th scope=col>&lt;chr&gt;</th><th scope=col>&lt;int&gt;</th><th scope=col>&lt;int&gt;</th><th scope=col>&lt;chr&gt;</th><th scope=col>&lt;int&gt;</th><th scope=col>&lt;int&gt;</th><th scope=col>&lt;int&gt;</th><th scope=col>&lt;int&gt;</th><th scope=col>&lt;int&gt;</th><th scope=col>&lt;int&gt;</th><th scope=col>⋯</th><th scope=col>&lt;int&gt;</th><th scope=col>&lt;int&gt;</th><th scope=col>&lt;int&gt;</th><th scope=col>&lt;int&gt;</th><th scope=col>&lt;int&gt;</th><th scope=col>&lt;int&gt;</th><th scope=col>&lt;int&gt;</th><th scope=col>&lt;int&gt;</th><th scope=col>&lt;int&gt;</th><th scope=col>&lt;int&gt;</th></tr>\n",
       "</thead>\n",
       "<tbody>\n",
       "\t<tr><th scope=row>1</th><td>NC_035780.1</td><td> 54</td><td> 56</td><td>CG_motif</td><td>0</td><td>0</td><td>0</td><td>0</td><td>0</td><td>0</td><td>⋯</td><td>0</td><td>0</td><td>0</td><td>0</td><td>0</td><td>0</td><td>0</td><td>0</td><td>0</td><td>0</td></tr>\n",
       "\t<tr><th scope=row>2</th><td>NC_035780.1</td><td> 75</td><td> 77</td><td>CG_motif</td><td>0</td><td>0</td><td>0</td><td>0</td><td>0</td><td>0</td><td>⋯</td><td>0</td><td>0</td><td>0</td><td>0</td><td>0</td><td>0</td><td>0</td><td>0</td><td>0</td><td>0</td></tr>\n",
       "\t<tr><th scope=row>3</th><td>NC_035780.1</td><td> 93</td><td> 95</td><td>CG_motif</td><td>0</td><td>0</td><td>0</td><td>0</td><td>0</td><td>0</td><td>⋯</td><td>0</td><td>0</td><td>0</td><td>0</td><td>0</td><td>0</td><td>0</td><td>0</td><td>0</td><td>0</td></tr>\n",
       "\t<tr><th scope=row>4</th><td>NC_035780.1</td><td>103</td><td>105</td><td>CG_motif</td><td>0</td><td>0</td><td>0</td><td>0</td><td>0</td><td>0</td><td>⋯</td><td>0</td><td>0</td><td>0</td><td>0</td><td>0</td><td>0</td><td>0</td><td>0</td><td>0</td><td>0</td></tr>\n",
       "\t<tr><th scope=row>5</th><td>NC_035780.1</td><td>116</td><td>118</td><td>CG_motif</td><td>0</td><td>0</td><td>0</td><td>0</td><td>0</td><td>0</td><td>⋯</td><td>0</td><td>0</td><td>0</td><td>0</td><td>0</td><td>0</td><td>0</td><td>0</td><td>0</td><td>0</td></tr>\n",
       "\t<tr><th scope=row>6</th><td>NC_035780.1</td><td>134</td><td>136</td><td>CG_motif</td><td>0</td><td>0</td><td>0</td><td>0</td><td>0</td><td>0</td><td>⋯</td><td>0</td><td>0</td><td>0</td><td>0</td><td>0</td><td>0</td><td>0</td><td>0</td><td>0</td><td>0</td></tr>\n",
       "</tbody>\n",
       "</table>\n"
      ],
      "text/latex": [
       "A data.frame: 6 × 24\n",
       "\\begin{tabular}{r|lllllllllllllllllllll}\n",
       "  & chromosome & start & stop & CG\\_motif & BBB-WBO-B21 & BBB-WBV-B70 & BBO-BBO-B16 & BBO-BBY-B27 & BBO-WBO-B16 & BBO-WBV-B64 & ⋯ & WBB-WBV-W69 & WBG-BBB-W56 & WBG-WBG-W44 & WBO-BBR-W03 & WBO-WBV-W64 & WBR-BBY-W25 & WBV-WBO-W23 & WBV-WBR-W12 & WBY-BBV-W65 & WBY-BBY-W30\\\\\n",
       "  & <chr> & <int> & <int> & <chr> & <int> & <int> & <int> & <int> & <int> & <int> & ⋯ & <int> & <int> & <int> & <int> & <int> & <int> & <int> & <int> & <int> & <int>\\\\\n",
       "\\hline\n",
       "\t1 & NC\\_035780.1 &  54 &  56 & CG\\_motif & 0 & 0 & 0 & 0 & 0 & 0 & ⋯ & 0 & 0 & 0 & 0 & 0 & 0 & 0 & 0 & 0 & 0\\\\\n",
       "\t2 & NC\\_035780.1 &  75 &  77 & CG\\_motif & 0 & 0 & 0 & 0 & 0 & 0 & ⋯ & 0 & 0 & 0 & 0 & 0 & 0 & 0 & 0 & 0 & 0\\\\\n",
       "\t3 & NC\\_035780.1 &  93 &  95 & CG\\_motif & 0 & 0 & 0 & 0 & 0 & 0 & ⋯ & 0 & 0 & 0 & 0 & 0 & 0 & 0 & 0 & 0 & 0\\\\\n",
       "\t4 & NC\\_035780.1 & 103 & 105 & CG\\_motif & 0 & 0 & 0 & 0 & 0 & 0 & ⋯ & 0 & 0 & 0 & 0 & 0 & 0 & 0 & 0 & 0 & 0\\\\\n",
       "\t5 & NC\\_035780.1 & 116 & 118 & CG\\_motif & 0 & 0 & 0 & 0 & 0 & 0 & ⋯ & 0 & 0 & 0 & 0 & 0 & 0 & 0 & 0 & 0 & 0\\\\\n",
       "\t6 & NC\\_035780.1 & 134 & 136 & CG\\_motif & 0 & 0 & 0 & 0 & 0 & 0 & ⋯ & 0 & 0 & 0 & 0 & 0 & 0 & 0 & 0 & 0 & 0\\\\\n",
       "\\end{tabular}\n"
      ],
      "text/markdown": [
       "\n",
       "A data.frame: 6 × 24\n",
       "\n",
       "| <!--/--> | chromosome &lt;chr&gt; | start &lt;int&gt; | stop &lt;int&gt; | CG_motif &lt;chr&gt; | BBB-WBO-B21 &lt;int&gt; | BBB-WBV-B70 &lt;int&gt; | BBO-BBO-B16 &lt;int&gt; | BBO-BBY-B27 &lt;int&gt; | BBO-WBO-B16 &lt;int&gt; | BBO-WBV-B64 &lt;int&gt; | ⋯ ⋯ | WBB-WBV-W69 &lt;int&gt; | WBG-BBB-W56 &lt;int&gt; | WBG-WBG-W44 &lt;int&gt; | WBO-BBR-W03 &lt;int&gt; | WBO-WBV-W64 &lt;int&gt; | WBR-BBY-W25 &lt;int&gt; | WBV-WBO-W23 &lt;int&gt; | WBV-WBR-W12 &lt;int&gt; | WBY-BBV-W65 &lt;int&gt; | WBY-BBY-W30 &lt;int&gt; |\n",
       "|---|---|---|---|---|---|---|---|---|---|---|---|---|---|---|---|---|---|---|---|---|---|\n",
       "| 1 | NC_035780.1 |  54 |  56 | CG_motif | 0 | 0 | 0 | 0 | 0 | 0 | ⋯ | 0 | 0 | 0 | 0 | 0 | 0 | 0 | 0 | 0 | 0 |\n",
       "| 2 | NC_035780.1 |  75 |  77 | CG_motif | 0 | 0 | 0 | 0 | 0 | 0 | ⋯ | 0 | 0 | 0 | 0 | 0 | 0 | 0 | 0 | 0 | 0 |\n",
       "| 3 | NC_035780.1 |  93 |  95 | CG_motif | 0 | 0 | 0 | 0 | 0 | 0 | ⋯ | 0 | 0 | 0 | 0 | 0 | 0 | 0 | 0 | 0 | 0 |\n",
       "| 4 | NC_035780.1 | 103 | 105 | CG_motif | 0 | 0 | 0 | 0 | 0 | 0 | ⋯ | 0 | 0 | 0 | 0 | 0 | 0 | 0 | 0 | 0 | 0 |\n",
       "| 5 | NC_035780.1 | 116 | 118 | CG_motif | 0 | 0 | 0 | 0 | 0 | 0 | ⋯ | 0 | 0 | 0 | 0 | 0 | 0 | 0 | 0 | 0 | 0 |\n",
       "| 6 | NC_035780.1 | 134 | 136 | CG_motif | 0 | 0 | 0 | 0 | 0 | 0 | ⋯ | 0 | 0 | 0 | 0 | 0 | 0 | 0 | 0 | 0 | 0 |\n",
       "\n"
      ],
      "text/plain": [
       "  chromosome  start stop CG_motif BBB-WBO-B21 BBB-WBV-B70 BBO-BBO-B16\n",
       "1 NC_035780.1  54    56  CG_motif 0           0           0          \n",
       "2 NC_035780.1  75    77  CG_motif 0           0           0          \n",
       "3 NC_035780.1  93    95  CG_motif 0           0           0          \n",
       "4 NC_035780.1 103   105  CG_motif 0           0           0          \n",
       "5 NC_035780.1 116   118  CG_motif 0           0           0          \n",
       "6 NC_035780.1 134   136  CG_motif 0           0           0          \n",
       "  BBO-BBY-B27 BBO-WBO-B16 BBO-WBV-B64 ⋯ WBB-WBV-W69 WBG-BBB-W56 WBG-WBG-W44\n",
       "1 0           0           0           ⋯ 0           0           0          \n",
       "2 0           0           0           ⋯ 0           0           0          \n",
       "3 0           0           0           ⋯ 0           0           0          \n",
       "4 0           0           0           ⋯ 0           0           0          \n",
       "5 0           0           0           ⋯ 0           0           0          \n",
       "6 0           0           0           ⋯ 0           0           0          \n",
       "  WBO-BBR-W03 WBO-WBV-W64 WBR-BBY-W25 WBV-WBO-W23 WBV-WBR-W12 WBY-BBV-W65\n",
       "1 0           0           0           0           0           0          \n",
       "2 0           0           0           0           0           0          \n",
       "3 0           0           0           0           0           0          \n",
       "4 0           0           0           0           0           0          \n",
       "5 0           0           0           0           0           0          \n",
       "6 0           0           0           0           0           0          \n",
       "  WBY-BBY-W30\n",
       "1 0          \n",
       "2 0          \n",
       "3 0          \n",
       "4 0          \n",
       "5 0          \n",
       "6 0          "
      ]
     },
     "metadata": {},
     "output_type": "display_data"
    }
   ],
   "source": [
    "colnames(CG_multicov) <- c('chromosome', 'start', 'stop', 'CG_motif', bam_files_clean)\n",
    "head(CG_multicov)"
   ]
  },
  {
   "cell_type": "code",
   "execution_count": 13,
   "id": "bebb43bd-2839-47a7-b317-50fa3365e511",
   "metadata": {},
   "outputs": [],
   "source": [
    "# Base columns\n",
    "base_cols <- CG_multicov[, c(\"chromosome\", \"start\", \"stop\", \"CG_motif\")]\n",
    "\n",
    "########################################################################\n",
    "## HYPOXIC CONTROL\n",
    "\n",
    "# Additional columns matching pattern\n",
    "HC_cols <- CG_multicov[, grepl(\"BB.-WB.-\\\\w{3}\", names(CG_multicov))]\n",
    "\n",
    "# Create new data frame\n",
    "HC_multicov <- cbind(base_cols, HC_cols)\n",
    "\n",
    "write.csv(HC_multicov, \"/project/pi_sarah_gignouxwolfsohn_uml_edu/julia/CE_methyl_assembly/assembly_pipeline_files/genomic_bed_files/CpG_multicov/HC_CpGmulticov.csv\")\n",
    "\n",
    "########################################################################\n",
    "## HYPOXIC HYPOXIC\n",
    "\n",
    "# Additional columns matching pattern\n",
    "HH_cols <- CG_multicov[, grepl(\"BB.-BB.-\\\\w{3}\", names(CG_multicov))]\n",
    "\n",
    "# Create new data frame\n",
    "HH_multicov <- cbind(base_cols, HH_cols)\n",
    "\n",
    "write.csv(HH_multicov, \"/project/pi_sarah_gignouxwolfsohn_uml_edu/julia/CE_methyl_assembly/assembly_pipeline_files/genomic_bed_files/CpG_multicov/HH_CpGmulticov.csv\")\n",
    "\n",
    "########################################################################\n",
    "## CONTROL HYPOXIC\n",
    "\n",
    "# Additional columns matching pattern\n",
    "CH_cols <- CG_multicov[, grepl(\"WB.-BB.-\\\\w{3}\", names(CG_multicov))]\n",
    "\n",
    "# Create new data frame\n",
    "CH_multicov <- cbind(base_cols, CH_cols)\n",
    "\n",
    "write.csv(CH_multicov, \"/project/pi_sarah_gignouxwolfsohn_uml_edu/julia/CE_methyl_assembly/assembly_pipeline_files/genomic_bed_files/CpG_multicov/CH_CpGmulticov.csv\")\n",
    "\n",
    "########################################################################\n",
    "# CONTROL CONTROL\n",
    "\n",
    "# Additional columns matching pattern\n",
    "CC_cols <- CG_multicov[, grepl(\"WB.-WB.-\\\\w{3}\", names(CG_multicov))]\n",
    "\n",
    "# Create new data frame\n",
    "CC_multicov <- cbind(base_cols, CC_cols)\n",
    "\n",
    "write.csv(CC_multicov, \"/project/pi_sarah_gignouxwolfsohn_uml_edu/julia/CE_methyl_assembly/assembly_pipeline_files/genomic_bed_files/CpG_multicov/CC_CpGmulticov.csv\")\n",
    "\n",
    "########################################################################\n",
    "head(HC_multicov)\n",
    "head(HH_multicov)\n",
    "head(CH_multicov)\n",
    "head(CC_multicov)"
   ]
  },
  {
   "cell_type": "markdown",
   "id": "c454d90d-27a5-4fb2-9c91-3393dbd11af4",
   "metadata": {},
   "source": [
    "## calculate *overall* methylation level\n",
    "\n",
    "(number of methylated CG)/(total CG)\n",
    "\n",
    "methylated CG being those that have an average of 5 sequences over the 5 sample replicates\n",
    "\n"
   ]
  },
  {
   "cell_type": "code",
   "execution_count": 14,
   "id": "fd0243d1-3332-41e4-830d-d5376b25738f",
   "metadata": {},
   "outputs": [],
   "source": [
    "# read in files so don't have to run code from above\n",
    "CC_multicov <- read.csv('/project/pi_sarah_gignouxwolfsohn_uml_edu/julia/CE_methyl_assembly/assembly_pipeline_files/genomic_bed_files/CpG_multicov/CC_CpGmulticov.csv')\n",
    "CH_multicov <- read.csv('/project/pi_sarah_gignouxwolfsohn_uml_edu/julia/CE_methyl_assembly/assembly_pipeline_files/genomic_bed_files/CpG_multicov/CH_CpGmulticov.csv')\n",
    "HC_multicov <- read.csv('/project/pi_sarah_gignouxwolfsohn_uml_edu/julia/CE_methyl_assembly/assembly_pipeline_files/genomic_bed_files/CpG_multicov/HC_CpGmulticov.csv')\n",
    "HH_multicov <- read.csv('/project/pi_sarah_gignouxwolfsohn_uml_edu/julia/CE_methyl_assembly/assembly_pipeline_files/genomic_bed_files/CpG_multicov/HH_CpGmulticov.csv')"
   ]
  },
  {
   "cell_type": "markdown",
   "id": "9279e512-5042-47d4-b320-feb6c4393149",
   "metadata": {},
   "source": [
    "**CONTROL CONTROL**"
   ]
  },
  {
   "cell_type": "code",
   "execution_count": 16,
   "id": "f78bf899-bc41-45f7-9cff-4c61b135a2cf",
   "metadata": {},
   "outputs": [
    {
     "data": {
      "text/html": [
       "<table class=\"dataframe\">\n",
       "<caption>A data.frame: 6 × 10</caption>\n",
       "<thead>\n",
       "\t<tr><th></th><th scope=col>X</th><th scope=col>chromosome</th><th scope=col>start</th><th scope=col>stop</th><th scope=col>CG_motif</th><th scope=col>WBB.WBV.W69</th><th scope=col>WBG.WBG.W44</th><th scope=col>WBO.WBV.W64</th><th scope=col>WBV.WBO.W23</th><th scope=col>WBV.WBR.W12</th></tr>\n",
       "\t<tr><th></th><th scope=col>&lt;int&gt;</th><th scope=col>&lt;chr&gt;</th><th scope=col>&lt;int&gt;</th><th scope=col>&lt;int&gt;</th><th scope=col>&lt;chr&gt;</th><th scope=col>&lt;int&gt;</th><th scope=col>&lt;int&gt;</th><th scope=col>&lt;int&gt;</th><th scope=col>&lt;int&gt;</th><th scope=col>&lt;int&gt;</th></tr>\n",
       "</thead>\n",
       "<tbody>\n",
       "\t<tr><th scope=row>1</th><td>1</td><td>NC_035780.1</td><td> 54</td><td> 56</td><td>CG_motif</td><td>0</td><td>0</td><td>0</td><td>0</td><td>0</td></tr>\n",
       "\t<tr><th scope=row>2</th><td>2</td><td>NC_035780.1</td><td> 75</td><td> 77</td><td>CG_motif</td><td>0</td><td>0</td><td>0</td><td>0</td><td>0</td></tr>\n",
       "\t<tr><th scope=row>3</th><td>3</td><td>NC_035780.1</td><td> 93</td><td> 95</td><td>CG_motif</td><td>0</td><td>0</td><td>0</td><td>0</td><td>0</td></tr>\n",
       "\t<tr><th scope=row>4</th><td>4</td><td>NC_035780.1</td><td>103</td><td>105</td><td>CG_motif</td><td>0</td><td>0</td><td>0</td><td>0</td><td>0</td></tr>\n",
       "\t<tr><th scope=row>5</th><td>5</td><td>NC_035780.1</td><td>116</td><td>118</td><td>CG_motif</td><td>0</td><td>0</td><td>0</td><td>0</td><td>0</td></tr>\n",
       "\t<tr><th scope=row>6</th><td>6</td><td>NC_035780.1</td><td>134</td><td>136</td><td>CG_motif</td><td>0</td><td>0</td><td>0</td><td>0</td><td>0</td></tr>\n",
       "</tbody>\n",
       "</table>\n"
      ],
      "text/latex": [
       "A data.frame: 6 × 10\n",
       "\\begin{tabular}{r|llllllllll}\n",
       "  & X & chromosome & start & stop & CG\\_motif & WBB.WBV.W69 & WBG.WBG.W44 & WBO.WBV.W64 & WBV.WBO.W23 & WBV.WBR.W12\\\\\n",
       "  & <int> & <chr> & <int> & <int> & <chr> & <int> & <int> & <int> & <int> & <int>\\\\\n",
       "\\hline\n",
       "\t1 & 1 & NC\\_035780.1 &  54 &  56 & CG\\_motif & 0 & 0 & 0 & 0 & 0\\\\\n",
       "\t2 & 2 & NC\\_035780.1 &  75 &  77 & CG\\_motif & 0 & 0 & 0 & 0 & 0\\\\\n",
       "\t3 & 3 & NC\\_035780.1 &  93 &  95 & CG\\_motif & 0 & 0 & 0 & 0 & 0\\\\\n",
       "\t4 & 4 & NC\\_035780.1 & 103 & 105 & CG\\_motif & 0 & 0 & 0 & 0 & 0\\\\\n",
       "\t5 & 5 & NC\\_035780.1 & 116 & 118 & CG\\_motif & 0 & 0 & 0 & 0 & 0\\\\\n",
       "\t6 & 6 & NC\\_035780.1 & 134 & 136 & CG\\_motif & 0 & 0 & 0 & 0 & 0\\\\\n",
       "\\end{tabular}\n"
      ],
      "text/markdown": [
       "\n",
       "A data.frame: 6 × 10\n",
       "\n",
       "| <!--/--> | X &lt;int&gt; | chromosome &lt;chr&gt; | start &lt;int&gt; | stop &lt;int&gt; | CG_motif &lt;chr&gt; | WBB.WBV.W69 &lt;int&gt; | WBG.WBG.W44 &lt;int&gt; | WBO.WBV.W64 &lt;int&gt; | WBV.WBO.W23 &lt;int&gt; | WBV.WBR.W12 &lt;int&gt; |\n",
       "|---|---|---|---|---|---|---|---|---|---|---|\n",
       "| 1 | 1 | NC_035780.1 |  54 |  56 | CG_motif | 0 | 0 | 0 | 0 | 0 |\n",
       "| 2 | 2 | NC_035780.1 |  75 |  77 | CG_motif | 0 | 0 | 0 | 0 | 0 |\n",
       "| 3 | 3 | NC_035780.1 |  93 |  95 | CG_motif | 0 | 0 | 0 | 0 | 0 |\n",
       "| 4 | 4 | NC_035780.1 | 103 | 105 | CG_motif | 0 | 0 | 0 | 0 | 0 |\n",
       "| 5 | 5 | NC_035780.1 | 116 | 118 | CG_motif | 0 | 0 | 0 | 0 | 0 |\n",
       "| 6 | 6 | NC_035780.1 | 134 | 136 | CG_motif | 0 | 0 | 0 | 0 | 0 |\n",
       "\n"
      ],
      "text/plain": [
       "  X chromosome  start stop CG_motif WBB.WBV.W69 WBG.WBG.W44 WBO.WBV.W64\n",
       "1 1 NC_035780.1  54    56  CG_motif 0           0           0          \n",
       "2 2 NC_035780.1  75    77  CG_motif 0           0           0          \n",
       "3 3 NC_035780.1  93    95  CG_motif 0           0           0          \n",
       "4 4 NC_035780.1 103   105  CG_motif 0           0           0          \n",
       "5 5 NC_035780.1 116   118  CG_motif 0           0           0          \n",
       "6 6 NC_035780.1 134   136  CG_motif 0           0           0          \n",
       "  WBV.WBO.W23 WBV.WBR.W12\n",
       "1 0           0          \n",
       "2 0           0          \n",
       "3 0           0          \n",
       "4 0           0          \n",
       "5 0           0          \n",
       "6 0           0          "
      ]
     },
     "metadata": {},
     "output_type": "display_data"
    }
   ],
   "source": [
    "head(CC_multicov)"
   ]
  },
  {
   "cell_type": "code",
   "execution_count": 17,
   "id": "a836604d-7e8e-404a-8cc3-56b2ed91fcb2",
   "metadata": {},
   "outputs": [
    {
     "name": "stdout",
     "output_type": "stream",
     "text": [
      "[1] \"0.74 % of CpG dinucleotide is methylated\"\n"
     ]
    }
   ],
   "source": [
    "# Calculate average counts of last 5 columns\n",
    "CC_multicov$avg_counts <- rowMeans(CC_multicov[,6:10])\n",
    "\n",
    "# Remove rows with averages below 5\n",
    "CC_filtered <- CC_multicov[CC_multicov$avg_counts >= 5, ]\n",
    "\n",
    "# Remove temporary average column\n",
    "CC_filtered$avg_counts <- NULL\n",
    "\n",
    "\n",
    "############## methylation level ##############\n",
    "CC_CGmethyl <- dim(CC_filtered)[1]\n",
    "total_CG <- dim(CC_multicov)[1]\n",
    "\n",
    "CCpercent_me <- round((CC_CGmethyl/total_CG)*100,2)\n",
    "print(paste(CCpercent_me, \"% of CpG dinucleotide is methylated\"))\n"
   ]
  },
  {
   "cell_type": "markdown",
   "id": "e37a7ec6-245b-412e-9974-0b8e7271398f",
   "metadata": {},
   "source": [
    "**CONTROL HYPOXIC**"
   ]
  },
  {
   "cell_type": "code",
   "execution_count": 18,
   "id": "55aade7b-39e5-463a-b0f6-00c485cc7ffb",
   "metadata": {},
   "outputs": [
    {
     "name": "stdout",
     "output_type": "stream",
     "text": [
      "[1] \"0.9 % of CpG dinucleotide is methylated\"\n"
     ]
    }
   ],
   "source": [
    "# Calculate average counts of last 5 columns\n",
    "CH_multicov$avg_counts <- rowMeans(CH_multicov[,6:10])\n",
    "\n",
    "# Remove rows with averages below 5\n",
    "CH_filtered <- CH_multicov[CH_multicov$avg_counts >= 5, ]\n",
    "\n",
    "# Remove temporary average column\n",
    "CH_filtered$avg_counts <- NULL\n",
    "\n",
    "\n",
    "############## methylation level ##############\n",
    "CH_CGmethyl <- dim(CH_filtered)[1]\n",
    "total_CG <- dim(CH_multicov)[1]\n",
    "\n",
    "CHpercent_me <- round((CH_CGmethyl/total_CG)*100,2)\n",
    "print(paste(CHpercent_me, \"% of CpG dinucleotide is methylated\"))\n"
   ]
  },
  {
   "cell_type": "markdown",
   "id": "b8b541fb-3af5-4d5c-838c-a6d9c987c3b4",
   "metadata": {},
   "source": [
    "**HYPOXIC HYPOXIC**"
   ]
  },
  {
   "cell_type": "code",
   "execution_count": 19,
   "id": "bb4e4b23-a0e0-40ec-928b-40be04d38ae5",
   "metadata": {},
   "outputs": [
    {
     "name": "stdout",
     "output_type": "stream",
     "text": [
      "[1] \"0.9 % of CpG dinucleotide is methylated\"\n"
     ]
    }
   ],
   "source": [
    "# Calculate average counts of last 5 columns\n",
    "HH_multicov$avg_counts <- rowMeans(HH_multicov[,6:10])\n",
    "\n",
    "# Remove rows with averages below 5\n",
    "HH_filtered <- HH_multicov[HH_multicov$avg_counts >= 5, ]\n",
    "\n",
    "# Remove temporary average column\n",
    "HH_filtered$avg_counts <- NULL\n",
    "\n",
    "\n",
    "############## methylation level ##############\n",
    "HH_CGmethyl <- dim(HH_filtered)[1]\n",
    "total_CG <- dim(HH_multicov)[1]\n",
    "\n",
    "HHpercent_me <- round((HH_CGmethyl/total_CG)*100,2)\n",
    "print(paste(HHpercent_me, \"% of CpG dinucleotide is methylated\"))\n"
   ]
  },
  {
   "cell_type": "markdown",
   "id": "23275928-7a9b-4ad1-b6d7-f888ba735432",
   "metadata": {},
   "source": [
    "**HYPOXIC CONTROL**"
   ]
  },
  {
   "cell_type": "code",
   "execution_count": 20,
   "id": "9ff37d10-fa06-421e-9d10-7163e19004a6",
   "metadata": {},
   "outputs": [
    {
     "name": "stdout",
     "output_type": "stream",
     "text": [
      "[1] \"1 % of CpG dinucleotide is methylated\"\n"
     ]
    }
   ],
   "source": [
    "# Calculate average counts of last 5 columns\n",
    "HC_multicov$avg_counts <- rowMeans(HC_multicov[,6:10])\n",
    "\n",
    "# Remove rows with averages below 5\n",
    "HC_filtered <- HC_multicov[HC_multicov$avg_counts >= 5, ]\n",
    "\n",
    "# Remove temporary average column\n",
    "HC_filtered$avg_counts <- NULL\n",
    "\n",
    "\n",
    "############## methylation level ##############\n",
    "HC_CGmethyl <- dim(HC_filtered)[1]\n",
    "total_CG <- dim(HC_multicov)[1]\n",
    "\n",
    "HCpercent_me <- round((HC_CGmethyl/total_CG)*100,2)\n",
    "print(paste(HCpercent_me, \"% of CpG dinucleotide is methylated\"))\n"
   ]
  },
  {
   "cell_type": "code",
   "execution_count": 21,
   "id": "9bad3bde-c4ba-4111-ae5f-86894165be40",
   "metadata": {},
   "outputs": [
    {
     "data": {
      "text/html": [
       "<table class=\"dataframe\">\n",
       "<caption>A data.frame: 4 × 2</caption>\n",
       "<thead>\n",
       "\t<tr><th scope=col>percent_me</th><th scope=col>treatment</th></tr>\n",
       "\t<tr><th scope=col>&lt;dbl&gt;</th><th scope=col>&lt;chr&gt;</th></tr>\n",
       "</thead>\n",
       "<tbody>\n",
       "\t<tr><td>0.90</td><td>CH</td></tr>\n",
       "\t<tr><td>0.90</td><td>HH</td></tr>\n",
       "\t<tr><td>1.00</td><td>HC</td></tr>\n",
       "\t<tr><td>0.74</td><td>CC</td></tr>\n",
       "</tbody>\n",
       "</table>\n"
      ],
      "text/latex": [
       "A data.frame: 4 × 2\n",
       "\\begin{tabular}{ll}\n",
       " percent\\_me & treatment\\\\\n",
       " <dbl> & <chr>\\\\\n",
       "\\hline\n",
       "\t 0.90 & CH\\\\\n",
       "\t 0.90 & HH\\\\\n",
       "\t 1.00 & HC\\\\\n",
       "\t 0.74 & CC\\\\\n",
       "\\end{tabular}\n"
      ],
      "text/markdown": [
       "\n",
       "A data.frame: 4 × 2\n",
       "\n",
       "| percent_me &lt;dbl&gt; | treatment &lt;chr&gt; |\n",
       "|---|---|\n",
       "| 0.90 | CH |\n",
       "| 0.90 | HH |\n",
       "| 1.00 | HC |\n",
       "| 0.74 | CC |\n",
       "\n"
      ],
      "text/plain": [
       "  percent_me treatment\n",
       "1 0.90       CH       \n",
       "2 0.90       HH       \n",
       "3 1.00       HC       \n",
       "4 0.74       CC       "
      ]
     },
     "metadata": {},
     "output_type": "display_data"
    }
   ],
   "source": [
    "CpG_methyl <- tibble(\n",
    "    CH = CHpercent_me,\n",
    "    HH = HHpercent_me,\n",
    "    HC = HCpercent_me,\n",
    "    CC = CCpercent_me)\n",
    "\n",
    "CpG_methyl <- CpG_methyl %>% \n",
    "  t() %>% \n",
    "  as.data.frame() %>% \n",
    "  setNames(c(\"percent_me\")) %>%  # rename the single column\n",
    "  mutate(treatment = rownames(.)) %>%  # add Sample column\n",
    "  `rownames<-`(NULL)  # remove row names\n",
    "\n",
    "CpG_methyl"
   ]
  },
  {
   "cell_type": "code",
   "execution_count": 22,
   "id": "5496c148-45c3-4b8a-8d84-f77b037fac2e",
   "metadata": {},
   "outputs": [
    {
     "data": {
      "image/png": "[encoded data removed]",
      "text/plain": [
       "plot without title"
      ]
     },
     "metadata": {
      "image/png": {
       "height": 420,
       "width": 420
      }
     },
     "output_type": "display_data"
    }
   ],
   "source": [
    "ggplot(CpG_methyl, aes(x = treatment, y = percent_me, fill = treatment)) +\n",
    "  geom_bar(stat = \"identity\") +\n",
    "scale_fill_brewer(palette = \"RdPu\", \n",
    " direction = 1) +\n",
    "geom_col(color = \"black\", size = 0.25) +\n",
    "  labs(title = \"All CpG Methylation Level\", x = \"Treatment\", y = \"% methylation\") +\n",
    "  theme_classic()"
   ]
  },
  {
   "cell_type": "code",
   "execution_count": 30,
   "id": "4354ab5b-5e49-4f68-b668-2ee6169ecc26",
   "metadata": {},
   "outputs": [
    {
     "data": {
      "text/plain": [
       "\n",
       "\tWelch Two Sample t-test\n",
       "\n",
       "data:  cont and hyp\n",
       "t = -3.7355, df = 1.1786, p-value = 0.1363\n",
       "alternative hypothesis: true difference in means is not equal to 0\n",
       "95 percent confidence interval:\n",
       " -0.6621801  0.2721801\n",
       "sample estimates:\n",
       "mean of x mean of y \n",
       "    0.755     0.950 \n"
      ]
     },
     "metadata": {},
     "output_type": "display_data"
    }
   ],
   "source": [
    "cont <- c(CHpercent_me, CCpercent_me)\n",
    "hyp <- c(HHpercent_me, HCpercent_me)\n",
    "\n",
    "t.test(cont, hyp)"
   ]
  },
  {
   "cell_type": "markdown",
   "id": "24c72de0-bc85-4cc6-b5db-ca7482370023",
   "metadata": {},
   "source": [
    "**overlap of methylated exons between treatments**\n",
    "\n",
    "To determine what exons are methylated in multiple treatments, going to plot a venn diagram. To do this, I am going to create a new column in the original treatment CpG multicov dataframe called 'gene' - this will be a concatenation of the start and stop columns so that I can have names for the exons to identify them in other treatments."
   ]
  },
  {
   "cell_type": "code",
   "execution_count": 23,
   "id": "b7724557-c957-43d3-b072-6dfa6f09008f",
   "metadata": {},
   "outputs": [
    {
     "data": {
      "text/html": [
       "<table class=\"dataframe\">\n",
       "<caption>A data.frame: 6 × 11</caption>\n",
       "<thead>\n",
       "\t<tr><th></th><th scope=col>X</th><th scope=col>chromosome</th><th scope=col>start</th><th scope=col>stop</th><th scope=col>CG_motif</th><th scope=col>WBB.WBV.W69</th><th scope=col>WBG.WBG.W44</th><th scope=col>WBO.WBV.W64</th><th scope=col>WBV.WBO.W23</th><th scope=col>WBV.WBR.W12</th><th scope=col>CpG</th></tr>\n",
       "\t<tr><th></th><th scope=col>&lt;int&gt;</th><th scope=col>&lt;chr&gt;</th><th scope=col>&lt;int&gt;</th><th scope=col>&lt;int&gt;</th><th scope=col>&lt;chr&gt;</th><th scope=col>&lt;int&gt;</th><th scope=col>&lt;int&gt;</th><th scope=col>&lt;int&gt;</th><th scope=col>&lt;int&gt;</th><th scope=col>&lt;int&gt;</th><th scope=col>&lt;chr&gt;</th></tr>\n",
       "</thead>\n",
       "<tbody>\n",
       "\t<tr><th scope=row>432</th><td>432</td><td>NC_035780.1</td><td>20157</td><td>20159</td><td>CG_motif</td><td>20</td><td>2</td><td> 6</td><td>8</td><td>0</td><td>20157_20159</td></tr>\n",
       "\t<tr><th scope=row>433</th><td>433</td><td>NC_035780.1</td><td>20170</td><td>20172</td><td>CG_motif</td><td>20</td><td>2</td><td> 6</td><td>8</td><td>0</td><td>20170_20172</td></tr>\n",
       "\t<tr><th scope=row>522</th><td>522</td><td>NC_035780.1</td><td>23615</td><td>23617</td><td>CG_motif</td><td>14</td><td>6</td><td>12</td><td>4</td><td>2</td><td>23615_23617</td></tr>\n",
       "\t<tr><th scope=row>523</th><td>523</td><td>NC_035780.1</td><td>23620</td><td>23622</td><td>CG_motif</td><td>14</td><td>6</td><td>12</td><td>4</td><td>2</td><td>23620_23622</td></tr>\n",
       "\t<tr><th scope=row>524</th><td>524</td><td>NC_035780.1</td><td>23624</td><td>23626</td><td>CG_motif</td><td>14</td><td>6</td><td>12</td><td>4</td><td>2</td><td>23624_23626</td></tr>\n",
       "\t<tr><th scope=row>525</th><td>525</td><td>NC_035780.1</td><td>23631</td><td>23633</td><td>CG_motif</td><td>14</td><td>6</td><td>12</td><td>4</td><td>2</td><td>23631_23633</td></tr>\n",
       "</tbody>\n",
       "</table>\n"
      ],
      "text/latex": [
       "A data.frame: 6 × 11\n",
       "\\begin{tabular}{r|lllllllllll}\n",
       "  & X & chromosome & start & stop & CG\\_motif & WBB.WBV.W69 & WBG.WBG.W44 & WBO.WBV.W64 & WBV.WBO.W23 & WBV.WBR.W12 & CpG\\\\\n",
       "  & <int> & <chr> & <int> & <int> & <chr> & <int> & <int> & <int> & <int> & <int> & <chr>\\\\\n",
       "\\hline\n",
       "\t432 & 432 & NC\\_035780.1 & 20157 & 20159 & CG\\_motif & 20 & 2 &  6 & 8 & 0 & 20157\\_20159\\\\\n",
       "\t433 & 433 & NC\\_035780.1 & 20170 & 20172 & CG\\_motif & 20 & 2 &  6 & 8 & 0 & 20170\\_20172\\\\\n",
       "\t522 & 522 & NC\\_035780.1 & 23615 & 23617 & CG\\_motif & 14 & 6 & 12 & 4 & 2 & 23615\\_23617\\\\\n",
       "\t523 & 523 & NC\\_035780.1 & 23620 & 23622 & CG\\_motif & 14 & 6 & 12 & 4 & 2 & 23620\\_23622\\\\\n",
       "\t524 & 524 & NC\\_035780.1 & 23624 & 23626 & CG\\_motif & 14 & 6 & 12 & 4 & 2 & 23624\\_23626\\\\\n",
       "\t525 & 525 & NC\\_035780.1 & 23631 & 23633 & CG\\_motif & 14 & 6 & 12 & 4 & 2 & 23631\\_23633\\\\\n",
       "\\end{tabular}\n"
      ],
      "text/markdown": [
       "\n",
       "A data.frame: 6 × 11\n",
       "\n",
       "| <!--/--> | X &lt;int&gt; | chromosome &lt;chr&gt; | start &lt;int&gt; | stop &lt;int&gt; | CG_motif &lt;chr&gt; | WBB.WBV.W69 &lt;int&gt; | WBG.WBG.W44 &lt;int&gt; | WBO.WBV.W64 &lt;int&gt; | WBV.WBO.W23 &lt;int&gt; | WBV.WBR.W12 &lt;int&gt; | CpG &lt;chr&gt; |\n",
       "|---|---|---|---|---|---|---|---|---|---|---|---|\n",
       "| 432 | 432 | NC_035780.1 | 20157 | 20159 | CG_motif | 20 | 2 |  6 | 8 | 0 | 20157_20159 |\n",
       "| 433 | 433 | NC_035780.1 | 20170 | 20172 | CG_motif | 20 | 2 |  6 | 8 | 0 | 20170_20172 |\n",
       "| 522 | 522 | NC_035780.1 | 23615 | 23617 | CG_motif | 14 | 6 | 12 | 4 | 2 | 23615_23617 |\n",
       "| 523 | 523 | NC_035780.1 | 23620 | 23622 | CG_motif | 14 | 6 | 12 | 4 | 2 | 23620_23622 |\n",
       "| 524 | 524 | NC_035780.1 | 23624 | 23626 | CG_motif | 14 | 6 | 12 | 4 | 2 | 23624_23626 |\n",
       "| 525 | 525 | NC_035780.1 | 23631 | 23633 | CG_motif | 14 | 6 | 12 | 4 | 2 | 23631_23633 |\n",
       "\n"
      ],
      "text/plain": [
       "    X   chromosome  start stop  CG_motif WBB.WBV.W69 WBG.WBG.W44 WBO.WBV.W64\n",
       "432 432 NC_035780.1 20157 20159 CG_motif 20          2            6         \n",
       "433 433 NC_035780.1 20170 20172 CG_motif 20          2            6         \n",
       "522 522 NC_035780.1 23615 23617 CG_motif 14          6           12         \n",
       "523 523 NC_035780.1 23620 23622 CG_motif 14          6           12         \n",
       "524 524 NC_035780.1 23624 23626 CG_motif 14          6           12         \n",
       "525 525 NC_035780.1 23631 23633 CG_motif 14          6           12         \n",
       "    WBV.WBO.W23 WBV.WBR.W12 CpG        \n",
       "432 8           0           20157_20159\n",
       "433 8           0           20170_20172\n",
       "522 4           2           23615_23617\n",
       "523 4           2           23620_23622\n",
       "524 4           2           23624_23626\n",
       "525 4           2           23631_23633"
      ]
     },
     "metadata": {},
     "output_type": "display_data"
    }
   ],
   "source": [
    "CC_filtered$CpG <- paste(CC_filtered$start, CC_filtered$stop, sep='_')\n",
    "\n",
    "head(CC_filtered)"
   ]
  },
  {
   "cell_type": "code",
   "execution_count": 24,
   "id": "8e420dc2-9a57-44a7-905e-8c7085a2a0a8",
   "metadata": {},
   "outputs": [
    {
     "data": {
      "text/html": [
       "<table class=\"dataframe\">\n",
       "<caption>A data.frame: 6 × 11</caption>\n",
       "<thead>\n",
       "\t<tr><th></th><th scope=col>X</th><th scope=col>chromosome</th><th scope=col>start</th><th scope=col>stop</th><th scope=col>CG_motif</th><th scope=col>WBG.BBB.W56</th><th scope=col>WBO.BBR.W03</th><th scope=col>WBR.BBY.W25</th><th scope=col>WBY.BBV.W65</th><th scope=col>WBY.BBY.W30</th><th scope=col>CpG</th></tr>\n",
       "\t<tr><th></th><th scope=col>&lt;int&gt;</th><th scope=col>&lt;chr&gt;</th><th scope=col>&lt;int&gt;</th><th scope=col>&lt;int&gt;</th><th scope=col>&lt;chr&gt;</th><th scope=col>&lt;int&gt;</th><th scope=col>&lt;int&gt;</th><th scope=col>&lt;int&gt;</th><th scope=col>&lt;int&gt;</th><th scope=col>&lt;int&gt;</th><th scope=col>&lt;chr&gt;</th></tr>\n",
       "</thead>\n",
       "<tbody>\n",
       "\t<tr><th scope=row>522</th><td> 522</td><td>NC_035780.1</td><td> 23615</td><td> 23617</td><td>CG_motif</td><td>10</td><td>0</td><td>2</td><td>13</td><td> 8</td><td>23615_23617  </td></tr>\n",
       "\t<tr><th scope=row>523</th><td> 523</td><td>NC_035780.1</td><td> 23620</td><td> 23622</td><td>CG_motif</td><td>10</td><td>0</td><td>2</td><td>13</td><td> 8</td><td>23620_23622  </td></tr>\n",
       "\t<tr><th scope=row>524</th><td> 524</td><td>NC_035780.1</td><td> 23624</td><td> 23626</td><td>CG_motif</td><td>10</td><td>0</td><td>2</td><td>13</td><td> 8</td><td>23624_23626  </td></tr>\n",
       "\t<tr><th scope=row>525</th><td> 525</td><td>NC_035780.1</td><td> 23631</td><td> 23633</td><td>CG_motif</td><td>10</td><td>0</td><td>2</td><td>13</td><td> 8</td><td>23631_23633  </td></tr>\n",
       "\t<tr><th scope=row>526</th><td> 526</td><td>NC_035780.1</td><td> 23638</td><td> 23640</td><td>CG_motif</td><td>10</td><td>0</td><td>2</td><td>13</td><td> 6</td><td>23638_23640  </td></tr>\n",
       "\t<tr><th scope=row>4684</th><td>4684</td><td>NC_035780.1</td><td>198167</td><td>198169</td><td>CG_motif</td><td>32</td><td>0</td><td>6</td><td>16</td><td>30</td><td>198167_198169</td></tr>\n",
       "</tbody>\n",
       "</table>\n"
      ],
      "text/latex": [
       "A data.frame: 6 × 11\n",
       "\\begin{tabular}{r|lllllllllll}\n",
       "  & X & chromosome & start & stop & CG\\_motif & WBG.BBB.W56 & WBO.BBR.W03 & WBR.BBY.W25 & WBY.BBV.W65 & WBY.BBY.W30 & CpG\\\\\n",
       "  & <int> & <chr> & <int> & <int> & <chr> & <int> & <int> & <int> & <int> & <int> & <chr>\\\\\n",
       "\\hline\n",
       "\t522 &  522 & NC\\_035780.1 &  23615 &  23617 & CG\\_motif & 10 & 0 & 2 & 13 &  8 & 23615\\_23617  \\\\\n",
       "\t523 &  523 & NC\\_035780.1 &  23620 &  23622 & CG\\_motif & 10 & 0 & 2 & 13 &  8 & 23620\\_23622  \\\\\n",
       "\t524 &  524 & NC\\_035780.1 &  23624 &  23626 & CG\\_motif & 10 & 0 & 2 & 13 &  8 & 23624\\_23626  \\\\\n",
       "\t525 &  525 & NC\\_035780.1 &  23631 &  23633 & CG\\_motif & 10 & 0 & 2 & 13 &  8 & 23631\\_23633  \\\\\n",
       "\t526 &  526 & NC\\_035780.1 &  23638 &  23640 & CG\\_motif & 10 & 0 & 2 & 13 &  6 & 23638\\_23640  \\\\\n",
       "\t4684 & 4684 & NC\\_035780.1 & 198167 & 198169 & CG\\_motif & 32 & 0 & 6 & 16 & 30 & 198167\\_198169\\\\\n",
       "\\end{tabular}\n"
      ],
      "text/markdown": [
       "\n",
       "A data.frame: 6 × 11\n",
       "\n",
       "| <!--/--> | X &lt;int&gt; | chromosome &lt;chr&gt; | start &lt;int&gt; | stop &lt;int&gt; | CG_motif &lt;chr&gt; | WBG.BBB.W56 &lt;int&gt; | WBO.BBR.W03 &lt;int&gt; | WBR.BBY.W25 &lt;int&gt; | WBY.BBV.W65 &lt;int&gt; | WBY.BBY.W30 &lt;int&gt; | CpG &lt;chr&gt; |\n",
       "|---|---|---|---|---|---|---|---|---|---|---|---|\n",
       "| 522 |  522 | NC_035780.1 |  23615 |  23617 | CG_motif | 10 | 0 | 2 | 13 |  8 | 23615_23617   |\n",
       "| 523 |  523 | NC_035780.1 |  23620 |  23622 | CG_motif | 10 | 0 | 2 | 13 |  8 | 23620_23622   |\n",
       "| 524 |  524 | NC_035780.1 |  23624 |  23626 | CG_motif | 10 | 0 | 2 | 13 |  8 | 23624_23626   |\n",
       "| 525 |  525 | NC_035780.1 |  23631 |  23633 | CG_motif | 10 | 0 | 2 | 13 |  8 | 23631_23633   |\n",
       "| 526 |  526 | NC_035780.1 |  23638 |  23640 | CG_motif | 10 | 0 | 2 | 13 |  6 | 23638_23640   |\n",
       "| 4684 | 4684 | NC_035780.1 | 198167 | 198169 | CG_motif | 32 | 0 | 6 | 16 | 30 | 198167_198169 |\n",
       "\n"
      ],
      "text/plain": [
       "     X    chromosome  start  stop   CG_motif WBG.BBB.W56 WBO.BBR.W03\n",
       "522   522 NC_035780.1  23615  23617 CG_motif 10          0          \n",
       "523   523 NC_035780.1  23620  23622 CG_motif 10          0          \n",
       "524   524 NC_035780.1  23624  23626 CG_motif 10          0          \n",
       "525   525 NC_035780.1  23631  23633 CG_motif 10          0          \n",
       "526   526 NC_035780.1  23638  23640 CG_motif 10          0          \n",
       "4684 4684 NC_035780.1 198167 198169 CG_motif 32          0          \n",
       "     WBR.BBY.W25 WBY.BBV.W65 WBY.BBY.W30 CpG          \n",
       "522  2           13           8          23615_23617  \n",
       "523  2           13           8          23620_23622  \n",
       "524  2           13           8          23624_23626  \n",
       "525  2           13           8          23631_23633  \n",
       "526  2           13           6          23638_23640  \n",
       "4684 6           16          30          198167_198169"
      ]
     },
     "metadata": {},
     "output_type": "display_data"
    }
   ],
   "source": [
    "CH_filtered$CpG <- paste(CH_filtered$start, CH_filtered$stop, sep='_')\n",
    "\n",
    "head(CH_filtered)"
   ]
  },
  {
   "cell_type": "code",
   "execution_count": 25,
   "id": "317893d4-59be-4bca-938a-5dd1c3b17ed4",
   "metadata": {},
   "outputs": [
    {
     "data": {
      "text/html": [
       "<table class=\"dataframe\">\n",
       "<caption>A data.frame: 6 × 11</caption>\n",
       "<thead>\n",
       "\t<tr><th></th><th scope=col>X</th><th scope=col>chromosome</th><th scope=col>start</th><th scope=col>stop</th><th scope=col>CG_motif</th><th scope=col>BBO.BBO.B16</th><th scope=col>BBO.BBY.B27</th><th scope=col>BBR.BBB.B50</th><th scope=col>BBR.BBG.B38</th><th scope=col>BBR.BBY.B26</th><th scope=col>CpG</th></tr>\n",
       "\t<tr><th></th><th scope=col>&lt;int&gt;</th><th scope=col>&lt;chr&gt;</th><th scope=col>&lt;int&gt;</th><th scope=col>&lt;int&gt;</th><th scope=col>&lt;chr&gt;</th><th scope=col>&lt;int&gt;</th><th scope=col>&lt;int&gt;</th><th scope=col>&lt;int&gt;</th><th scope=col>&lt;int&gt;</th><th scope=col>&lt;int&gt;</th><th scope=col>&lt;chr&gt;</th></tr>\n",
       "</thead>\n",
       "<tbody>\n",
       "\t<tr><th scope=row>375</th><td>375</td><td>NC_035780.1</td><td>17176</td><td>17178</td><td>CG_motif</td><td> 4</td><td> 4</td><td>6</td><td>14</td><td> 2</td><td>17176_17178</td></tr>\n",
       "\t<tr><th scope=row>430</th><td>430</td><td>NC_035780.1</td><td>20142</td><td>20144</td><td>CG_motif</td><td> 4</td><td>12</td><td>4</td><td> 2</td><td> 6</td><td>20142_20144</td></tr>\n",
       "\t<tr><th scope=row>431</th><td>431</td><td>NC_035780.1</td><td>20149</td><td>20151</td><td>CG_motif</td><td> 4</td><td>12</td><td>4</td><td> 2</td><td> 6</td><td>20149_20151</td></tr>\n",
       "\t<tr><th scope=row>432</th><td>432</td><td>NC_035780.1</td><td>20157</td><td>20159</td><td>CG_motif</td><td> 8</td><td>12</td><td>6</td><td> 4</td><td>10</td><td>20157_20159</td></tr>\n",
       "\t<tr><th scope=row>433</th><td>433</td><td>NC_035780.1</td><td>20170</td><td>20172</td><td>CG_motif</td><td> 8</td><td>12</td><td>6</td><td> 4</td><td>10</td><td>20170_20172</td></tr>\n",
       "\t<tr><th scope=row>518</th><td>518</td><td>NC_035780.1</td><td>23584</td><td>23586</td><td>CG_motif</td><td>10</td><td>10</td><td>2</td><td> 6</td><td>12</td><td>23584_23586</td></tr>\n",
       "</tbody>\n",
       "</table>\n"
      ],
      "text/latex": [
       "A data.frame: 6 × 11\n",
       "\\begin{tabular}{r|lllllllllll}\n",
       "  & X & chromosome & start & stop & CG\\_motif & BBO.BBO.B16 & BBO.BBY.B27 & BBR.BBB.B50 & BBR.BBG.B38 & BBR.BBY.B26 & CpG\\\\\n",
       "  & <int> & <chr> & <int> & <int> & <chr> & <int> & <int> & <int> & <int> & <int> & <chr>\\\\\n",
       "\\hline\n",
       "\t375 & 375 & NC\\_035780.1 & 17176 & 17178 & CG\\_motif &  4 &  4 & 6 & 14 &  2 & 17176\\_17178\\\\\n",
       "\t430 & 430 & NC\\_035780.1 & 20142 & 20144 & CG\\_motif &  4 & 12 & 4 &  2 &  6 & 20142\\_20144\\\\\n",
       "\t431 & 431 & NC\\_035780.1 & 20149 & 20151 & CG\\_motif &  4 & 12 & 4 &  2 &  6 & 20149\\_20151\\\\\n",
       "\t432 & 432 & NC\\_035780.1 & 20157 & 20159 & CG\\_motif &  8 & 12 & 6 &  4 & 10 & 20157\\_20159\\\\\n",
       "\t433 & 433 & NC\\_035780.1 & 20170 & 20172 & CG\\_motif &  8 & 12 & 6 &  4 & 10 & 20170\\_20172\\\\\n",
       "\t518 & 518 & NC\\_035780.1 & 23584 & 23586 & CG\\_motif & 10 & 10 & 2 &  6 & 12 & 23584\\_23586\\\\\n",
       "\\end{tabular}\n"
      ],
      "text/markdown": [
       "\n",
       "A data.frame: 6 × 11\n",
       "\n",
       "| <!--/--> | X &lt;int&gt; | chromosome &lt;chr&gt; | start &lt;int&gt; | stop &lt;int&gt; | CG_motif &lt;chr&gt; | BBO.BBO.B16 &lt;int&gt; | BBO.BBY.B27 &lt;int&gt; | BBR.BBB.B50 &lt;int&gt; | BBR.BBG.B38 &lt;int&gt; | BBR.BBY.B26 &lt;int&gt; | CpG &lt;chr&gt; |\n",
       "|---|---|---|---|---|---|---|---|---|---|---|---|\n",
       "| 375 | 375 | NC_035780.1 | 17176 | 17178 | CG_motif |  4 |  4 | 6 | 14 |  2 | 17176_17178 |\n",
       "| 430 | 430 | NC_035780.1 | 20142 | 20144 | CG_motif |  4 | 12 | 4 |  2 |  6 | 20142_20144 |\n",
       "| 431 | 431 | NC_035780.1 | 20149 | 20151 | CG_motif |  4 | 12 | 4 |  2 |  6 | 20149_20151 |\n",
       "| 432 | 432 | NC_035780.1 | 20157 | 20159 | CG_motif |  8 | 12 | 6 |  4 | 10 | 20157_20159 |\n",
       "| 433 | 433 | NC_035780.1 | 20170 | 20172 | CG_motif |  8 | 12 | 6 |  4 | 10 | 20170_20172 |\n",
       "| 518 | 518 | NC_035780.1 | 23584 | 23586 | CG_motif | 10 | 10 | 2 |  6 | 12 | 23584_23586 |\n",
       "\n"
      ],
      "text/plain": [
       "    X   chromosome  start stop  CG_motif BBO.BBO.B16 BBO.BBY.B27 BBR.BBB.B50\n",
       "375 375 NC_035780.1 17176 17178 CG_motif  4           4          6          \n",
       "430 430 NC_035780.1 20142 20144 CG_motif  4          12          4          \n",
       "431 431 NC_035780.1 20149 20151 CG_motif  4          12          4          \n",
       "432 432 NC_035780.1 20157 20159 CG_motif  8          12          6          \n",
       "433 433 NC_035780.1 20170 20172 CG_motif  8          12          6          \n",
       "518 518 NC_035780.1 23584 23586 CG_motif 10          10          2          \n",
       "    BBR.BBG.B38 BBR.BBY.B26 CpG        \n",
       "375 14           2          17176_17178\n",
       "430  2           6          20142_20144\n",
       "431  2           6          20149_20151\n",
       "432  4          10          20157_20159\n",
       "433  4          10          20170_20172\n",
       "518  6          12          23584_23586"
      ]
     },
     "metadata": {},
     "output_type": "display_data"
    }
   ],
   "source": [
    "HH_filtered$CpG <- paste(HH_filtered$start, HH_filtered$stop, sep='_')\n",
    "\n",
    "head(HH_filtered)"
   ]
  },
  {
   "cell_type": "code",
   "execution_count": 30,
   "id": "01122128-c0b6-442f-b0b7-5e9a948f084e",
   "metadata": {},
   "outputs": [
    {
     "data": {
      "text/html": [
       "<table class=\"dataframe\">\n",
       "<caption>A data.frame: 6 × 11</caption>\n",
       "<thead>\n",
       "\t<tr><th></th><th scope=col>X</th><th scope=col>chromosome</th><th scope=col>start</th><th scope=col>stop</th><th scope=col>CG_motif</th><th scope=col>BBB.WBO.B21</th><th scope=col>BBB.WBV.B70</th><th scope=col>BBO.WBO.B16</th><th scope=col>BBO.WBV.B64</th><th scope=col>BBY.WBG.B42</th><th scope=col>CpG</th></tr>\n",
       "\t<tr><th></th><th scope=col>&lt;int&gt;</th><th scope=col>&lt;chr&gt;</th><th scope=col>&lt;int&gt;</th><th scope=col>&lt;int&gt;</th><th scope=col>&lt;chr&gt;</th><th scope=col>&lt;int&gt;</th><th scope=col>&lt;int&gt;</th><th scope=col>&lt;int&gt;</th><th scope=col>&lt;int&gt;</th><th scope=col>&lt;int&gt;</th><th scope=col>&lt;chr&gt;</th></tr>\n",
       "</thead>\n",
       "<tbody>\n",
       "\t<tr><th scope=row>375</th><td>375</td><td>NC_035780.1</td><td>17176</td><td>17178</td><td>CG_motif</td><td> 8</td><td>2</td><td> 7</td><td>11</td><td>0</td><td>17176_17178</td></tr>\n",
       "\t<tr><th scope=row>430</th><td>430</td><td>NC_035780.1</td><td>20142</td><td>20144</td><td>CG_motif</td><td> 0</td><td>4</td><td>18</td><td> 4</td><td>6</td><td>20142_20144</td></tr>\n",
       "\t<tr><th scope=row>431</th><td>431</td><td>NC_035780.1</td><td>20149</td><td>20151</td><td>CG_motif</td><td> 0</td><td>4</td><td>17</td><td> 4</td><td>6</td><td>20149_20151</td></tr>\n",
       "\t<tr><th scope=row>432</th><td>432</td><td>NC_035780.1</td><td>20157</td><td>20159</td><td>CG_motif</td><td> 2</td><td>8</td><td>25</td><td> 6</td><td>6</td><td>20157_20159</td></tr>\n",
       "\t<tr><th scope=row>433</th><td>433</td><td>NC_035780.1</td><td>20170</td><td>20172</td><td>CG_motif</td><td> 2</td><td>8</td><td>25</td><td> 6</td><td>6</td><td>20170_20172</td></tr>\n",
       "\t<tr><th scope=row>522</th><td>522</td><td>NC_035780.1</td><td>23615</td><td>23617</td><td>CG_motif</td><td>16</td><td>2</td><td>16</td><td> 4</td><td>2</td><td>23615_23617</td></tr>\n",
       "</tbody>\n",
       "</table>\n"
      ],
      "text/latex": [
       "A data.frame: 6 × 11\n",
       "\\begin{tabular}{r|lllllllllll}\n",
       "  & X & chromosome & start & stop & CG\\_motif & BBB.WBO.B21 & BBB.WBV.B70 & BBO.WBO.B16 & BBO.WBV.B64 & BBY.WBG.B42 & CpG\\\\\n",
       "  & <int> & <chr> & <int> & <int> & <chr> & <int> & <int> & <int> & <int> & <int> & <chr>\\\\\n",
       "\\hline\n",
       "\t375 & 375 & NC\\_035780.1 & 17176 & 17178 & CG\\_motif &  8 & 2 &  7 & 11 & 0 & 17176\\_17178\\\\\n",
       "\t430 & 430 & NC\\_035780.1 & 20142 & 20144 & CG\\_motif &  0 & 4 & 18 &  4 & 6 & 20142\\_20144\\\\\n",
       "\t431 & 431 & NC\\_035780.1 & 20149 & 20151 & CG\\_motif &  0 & 4 & 17 &  4 & 6 & 20149\\_20151\\\\\n",
       "\t432 & 432 & NC\\_035780.1 & 20157 & 20159 & CG\\_motif &  2 & 8 & 25 &  6 & 6 & 20157\\_20159\\\\\n",
       "\t433 & 433 & NC\\_035780.1 & 20170 & 20172 & CG\\_motif &  2 & 8 & 25 &  6 & 6 & 20170\\_20172\\\\\n",
       "\t522 & 522 & NC\\_035780.1 & 23615 & 23617 & CG\\_motif & 16 & 2 & 16 &  4 & 2 & 23615\\_23617\\\\\n",
       "\\end{tabular}\n"
      ],
      "text/markdown": [
       "\n",
       "A data.frame: 6 × 11\n",
       "\n",
       "| <!--/--> | X &lt;int&gt; | chromosome &lt;chr&gt; | start &lt;int&gt; | stop &lt;int&gt; | CG_motif &lt;chr&gt; | BBB.WBO.B21 &lt;int&gt; | BBB.WBV.B70 &lt;int&gt; | BBO.WBO.B16 &lt;int&gt; | BBO.WBV.B64 &lt;int&gt; | BBY.WBG.B42 &lt;int&gt; | CpG &lt;chr&gt; |\n",
       "|---|---|---|---|---|---|---|---|---|---|---|---|\n",
       "| 375 | 375 | NC_035780.1 | 17176 | 17178 | CG_motif |  8 | 2 |  7 | 11 | 0 | 17176_17178 |\n",
       "| 430 | 430 | NC_035780.1 | 20142 | 20144 | CG_motif |  0 | 4 | 18 |  4 | 6 | 20142_20144 |\n",
       "| 431 | 431 | NC_035780.1 | 20149 | 20151 | CG_motif |  0 | 4 | 17 |  4 | 6 | 20149_20151 |\n",
       "| 432 | 432 | NC_035780.1 | 20157 | 20159 | CG_motif |  2 | 8 | 25 |  6 | 6 | 20157_20159 |\n",
       "| 433 | 433 | NC_035780.1 | 20170 | 20172 | CG_motif |  2 | 8 | 25 |  6 | 6 | 20170_20172 |\n",
       "| 522 | 522 | NC_035780.1 | 23615 | 23617 | CG_motif | 16 | 2 | 16 |  4 | 2 | 23615_23617 |\n",
       "\n"
      ],
      "text/plain": [
       "    X   chromosome  start stop  CG_motif BBB.WBO.B21 BBB.WBV.B70 BBO.WBO.B16\n",
       "375 375 NC_035780.1 17176 17178 CG_motif  8          2            7         \n",
       "430 430 NC_035780.1 20142 20144 CG_motif  0          4           18         \n",
       "431 431 NC_035780.1 20149 20151 CG_motif  0          4           17         \n",
       "432 432 NC_035780.1 20157 20159 CG_motif  2          8           25         \n",
       "433 433 NC_035780.1 20170 20172 CG_motif  2          8           25         \n",
       "522 522 NC_035780.1 23615 23617 CG_motif 16          2           16         \n",
       "    BBO.WBV.B64 BBY.WBG.B42 CpG        \n",
       "375 11          0           17176_17178\n",
       "430  4          6           20142_20144\n",
       "431  4          6           20149_20151\n",
       "432  6          6           20157_20159\n",
       "433  6          6           20170_20172\n",
       "522  4          2           23615_23617"
      ]
     },
     "metadata": {},
     "output_type": "display_data"
    }
   ],
   "source": [
    "HC_filtered$CpG <- paste(HC_filtered$start, HC_filtered$stop, sep='_')\n",
    "\n",
    "head(HC_filtered)"
   ]
  },
  {
   "cell_type": "code",
   "execution_count": 31,
   "id": "a882c8ce-f33e-4d93-9329-c248628b9bda",
   "metadata": {},
   "outputs": [
    {
     "name": "stderr",
     "output_type": "stream",
     "text": [
      "\u001b[1m\u001b[22mScale for \u001b[32mfill\u001b[39m is already present.\n",
      "Adding another scale for \u001b[32mfill\u001b[39m, which will replace the existing scale.\n"
     ]
    },
    {
     "data": {
      "image/png": "[encoded data removed]",
      "text/plain": [
       "plot without title"
      ]
     },
     "metadata": {
      "image/png": {
       "height": 420,
       "width": 420
      }
     },
     "output_type": "display_data"
    }
   ],
   "source": [
    "x = list(A = CC_filtered$CpG,\n",
    "         B = CH_filtered$CpG, \n",
    "         C = HC_filtered$CpG,\n",
    "        D = HH_filtered$CpG)\n",
    "\n",
    "names(x) <- c('CC', 'CH', 'HC', 'HH')\n",
    "\n",
    "cpg_venn <- ggvenn(x,\n",
    "      set_name_size = 6,\n",
    "       text_size = 5,\n",
    "      stroke_size = 0.5, \n",
    "       show_percentage = TRUE) + \n",
    "scale_fill_brewer(palette = \"RdPu\",  direction = 1) \n",
    "\n",
    "cpg_venn"
   ]
  },
  {
   "cell_type": "code",
   "execution_count": 32,
   "id": "02ab84e9-6e67-4884-a68d-2d62ee970677",
   "metadata": {},
   "outputs": [
    {
     "name": "stderr",
     "output_type": "stream",
     "text": [
      "\u001b[1m\u001b[22mSaving 6.67 x 6.67 in image\n"
     ]
    }
   ],
   "source": [
    "ggsave('/project/pi_sarah_gignouxwolfsohn_uml_edu/julia/CE_MethylRAD_analysis_2018/analysis/figures/cpgMe_venn.pdf', cpg_venn)"
   ]
  },
  {
   "cell_type": "markdown",
   "id": "cf2733cc-f292-4ad3-bcf7-90d4fe015961",
   "metadata": {
    "tags": []
   },
   "source": [
    "## Methylation level by sample\n",
    "\n",
    "The above code calculated methylation level by averaging across the 5 replicates per treatment *before* the analysis/bar plots - going to instead calculate methylation level for each replicate, then group into treatment so we can get more statistics (error bars etc.)\n",
    "\n",
    "starting with:\n",
    "\n",
    "### ind. methylation level of EXONS\n",
    "\n",
    "General pipeline:\n",
    "1. Grab the 5 columns for each replicate in the 'big' data frame\n",
    "2. Only keep the exons that have at least 5 sequences for that replicate (choosing 5 based on 5x coverage used in Ventakamaran et al 2022) - calculate how many rows are kept \n",
    "3. Calculate methylation level based on this calculation: (methylated exons/total exons)x100\n",
    "\n",
    "\n",
    "IF ALREADY RAN CODE ONCE, skip to bottom and load CSV\n",
    "\n",
    "**control control**"
   ]
  },
  {
   "cell_type": "code",
   "execution_count": 4,
   "id": "a44baab3-e54d-41b4-934f-e08e660f12ae",
   "metadata": {},
   "outputs": [
    {
     "data": {
      "text/html": [
       "<style>\n",
       ".dl-inline {width: auto; margin:0; padding: 0}\n",
       ".dl-inline>dt, .dl-inline>dd {float: none; width: auto; display: inline-block}\n",
       ".dl-inline>dt::after {content: \":\\0020\"; padding-right: .5ex}\n",
       ".dl-inline>dt:not(:first-of-type) {padding-left: .5ex}\n",
       "</style><dl class=dl-inline><dt>X0</dt><dd>78514</dd><dt>X0.1</dt><dd>42458</dd><dt>X0.2</dt><dd>78979</dd><dt>X0.3</dt><dd>55428</dd><dt>X0.4</dt><dd>28635</dd></dl>\n"
      ],
      "text/latex": [
       "\\begin{description*}\n",
       "\\item[X0] 78514\n",
       "\\item[X0.1] 42458\n",
       "\\item[X0.2] 78979\n",
       "\\item[X0.3] 55428\n",
       "\\item[X0.4] 28635\n",
       "\\end{description*}\n"
      ],
      "text/markdown": [
       "X0\n",
       ":   78514X0.1\n",
       ":   42458X0.2\n",
       ":   78979X0.3\n",
       ":   55428X0.4\n",
       ":   28635\n",
       "\n"
      ],
      "text/plain": [
       "   X0  X0.1  X0.2  X0.3  X0.4 \n",
       "78514 42458 78979 55428 28635 "
      ]
     },
     "metadata": {},
     "output_type": "display_data"
    }
   ],
   "source": [
    "# Assuming your dataframe is named 'df'\n",
    "sample_columns <- CC_exon[, 4:ncol(CC_exon)] # Select the sample columns\n",
    "\n",
    "# Calculate the number of rows with at least 5 for each sample\n",
    "ML_cc <- colSums(sample_columns >= 5)\n",
    "\n",
    "# Print the result\n",
    "ML_cc"
   ]
  },
  {
   "cell_type": "code",
   "execution_count": 5,
   "id": "70e67e75-d173-4748-abc8-90751b5ac659",
   "metadata": {},
   "outputs": [
    {
     "data": {
      "text/html": [
       "731278"
      ],
      "text/latex": [
       "731278"
      ],
      "text/markdown": [
       "731278"
      ],
      "text/plain": [
       "[1] 731278"
      ]
     },
     "metadata": {},
     "output_type": "display_data"
    }
   ],
   "source": [
    "total_exon <- dim(CC_exon)[1]\n",
    "total_exon"
   ]
  },
  {
   "cell_type": "code",
   "execution_count": 6,
   "id": "612ffe56-3450-4937-ae5b-0f5228baa9d0",
   "metadata": {},
   "outputs": [
    {
     "data": {
      "text/html": [
       "<table class=\"dataframe\">\n",
       "<caption>A data.frame: 5 × 3</caption>\n",
       "<thead>\n",
       "\t<tr><th scope=col>methyl_count</th><th scope=col>replicate</th><th scope=col>treatment</th></tr>\n",
       "\t<tr><th scope=col>&lt;dbl&gt;</th><th scope=col>&lt;dbl&gt;</th><th scope=col>&lt;chr&gt;</th></tr>\n",
       "</thead>\n",
       "<tbody>\n",
       "\t<tr><td>78514</td><td>1</td><td>CC</td></tr>\n",
       "\t<tr><td>42458</td><td>2</td><td>CC</td></tr>\n",
       "\t<tr><td>78979</td><td>3</td><td>CC</td></tr>\n",
       "\t<tr><td>55428</td><td>4</td><td>CC</td></tr>\n",
       "\t<tr><td>28635</td><td>5</td><td>CC</td></tr>\n",
       "</tbody>\n",
       "</table>\n"
      ],
      "text/latex": [
       "A data.frame: 5 × 3\n",
       "\\begin{tabular}{lll}\n",
       " methyl\\_count & replicate & treatment\\\\\n",
       " <dbl> & <dbl> & <chr>\\\\\n",
       "\\hline\n",
       "\t 78514 & 1 & CC\\\\\n",
       "\t 42458 & 2 & CC\\\\\n",
       "\t 78979 & 3 & CC\\\\\n",
       "\t 55428 & 4 & CC\\\\\n",
       "\t 28635 & 5 & CC\\\\\n",
       "\\end{tabular}\n"
      ],
      "text/markdown": [
       "\n",
       "A data.frame: 5 × 3\n",
       "\n",
       "| methyl_count &lt;dbl&gt; | replicate &lt;dbl&gt; | treatment &lt;chr&gt; |\n",
       "|---|---|---|\n",
       "| 78514 | 1 | CC |\n",
       "| 42458 | 2 | CC |\n",
       "| 78979 | 3 | CC |\n",
       "| 55428 | 4 | CC |\n",
       "| 28635 | 5 | CC |\n",
       "\n"
      ],
      "text/plain": [
       "  methyl_count replicate treatment\n",
       "1 78514        1         CC       \n",
       "2 42458        2         CC       \n",
       "3 78979        3         CC       \n",
       "4 55428        4         CC       \n",
       "5 28635        5         CC       "
      ]
     },
     "metadata": {},
     "output_type": "display_data"
    }
   ],
   "source": [
    "# create dataframe \n",
    "CCml_exon <- as.data.frame(ML_cc)\n",
    "\n",
    "CCml_exon <- as.data.frame(CCml_exon[1:5,])\n",
    "\n",
    "# assign replicate #'s\n",
    "CCml_exon$replicate <- c(1,2,3,4,5)\n",
    "\n",
    "# rename columns\n",
    "colnames(CCml_exon) <- c('methyl_count', 'replicate')\n",
    "\n",
    "# reset rownames\n",
    "rownames(CCml_exon) <- NULL\n",
    "\n",
    "# add treatment\n",
    "CCml_exon$treatment <- 'CC'\n",
    "\n",
    "CCml_exon"
   ]
  },
  {
   "cell_type": "code",
   "execution_count": 7,
   "id": "bd415723-38a1-4f1f-a3af-1a51f8c7c8a9",
   "metadata": {},
   "outputs": [
    {
     "data": {
      "text/html": [
       "<table class=\"dataframe\">\n",
       "<caption>A data.frame: 5 × 4</caption>\n",
       "<thead>\n",
       "\t<tr><th scope=col>treatment</th><th scope=col>replicate</th><th scope=col>methyl_count</th><th scope=col>methyl_level</th></tr>\n",
       "\t<tr><th scope=col>&lt;chr&gt;</th><th scope=col>&lt;dbl&gt;</th><th scope=col>&lt;dbl&gt;</th><th scope=col>&lt;dbl&gt;</th></tr>\n",
       "</thead>\n",
       "<tbody>\n",
       "\t<tr><td>CC</td><td>1</td><td>78514</td><td>10.74</td></tr>\n",
       "\t<tr><td>CC</td><td>2</td><td>42458</td><td> 5.81</td></tr>\n",
       "\t<tr><td>CC</td><td>3</td><td>78979</td><td>10.80</td></tr>\n",
       "\t<tr><td>CC</td><td>4</td><td>55428</td><td> 7.58</td></tr>\n",
       "\t<tr><td>CC</td><td>5</td><td>28635</td><td> 3.92</td></tr>\n",
       "</tbody>\n",
       "</table>\n"
      ],
      "text/latex": [
       "A data.frame: 5 × 4\n",
       "\\begin{tabular}{llll}\n",
       " treatment & replicate & methyl\\_count & methyl\\_level\\\\\n",
       " <chr> & <dbl> & <dbl> & <dbl>\\\\\n",
       "\\hline\n",
       "\t CC & 1 & 78514 & 10.74\\\\\n",
       "\t CC & 2 & 42458 &  5.81\\\\\n",
       "\t CC & 3 & 78979 & 10.80\\\\\n",
       "\t CC & 4 & 55428 &  7.58\\\\\n",
       "\t CC & 5 & 28635 &  3.92\\\\\n",
       "\\end{tabular}\n"
      ],
      "text/markdown": [
       "\n",
       "A data.frame: 5 × 4\n",
       "\n",
       "| treatment &lt;chr&gt; | replicate &lt;dbl&gt; | methyl_count &lt;dbl&gt; | methyl_level &lt;dbl&gt; |\n",
       "|---|---|---|---|\n",
       "| CC | 1 | 78514 | 10.74 |\n",
       "| CC | 2 | 42458 |  5.81 |\n",
       "| CC | 3 | 78979 | 10.80 |\n",
       "| CC | 4 | 55428 |  7.58 |\n",
       "| CC | 5 | 28635 |  3.92 |\n",
       "\n"
      ],
      "text/plain": [
       "  treatment replicate methyl_count methyl_level\n",
       "1 CC        1         78514        10.74       \n",
       "2 CC        2         42458         5.81       \n",
       "3 CC        3         78979        10.80       \n",
       "4 CC        4         55428         7.58       \n",
       "5 CC        5         28635         3.92       "
      ]
     },
     "metadata": {},
     "output_type": "display_data"
    }
   ],
   "source": [
    "# calculate methylation level\n",
    "CCml_exon$methyl_level <- round(((CCml_exon$methyl_count/total_exon)*100),2)\n",
    "\n",
    "# reorder columns to make sense\n",
    "CCml_exon <- select(CCml_exon, treatment, replicate, methyl_count, methyl_level)\n",
    "\n",
    "CCml_exon"
   ]
  },
  {
   "cell_type": "markdown",
   "id": "3a29275c-21b8-450a-a6d2-dcd21dfc41da",
   "metadata": {},
   "source": [
    "**control hypoxic**"
   ]
  },
  {
   "cell_type": "code",
   "execution_count": 8,
   "id": "e7811e7b-1c66-494b-9619-62a17cedc560",
   "metadata": {},
   "outputs": [
    {
     "data": {
      "text/html": [
       "<style>\n",
       ".dl-inline {width: auto; margin:0; padding: 0}\n",
       ".dl-inline>dt, .dl-inline>dd {float: none; width: auto; display: inline-block}\n",
       ".dl-inline>dt::after {content: \":\\0020\"; padding-right: .5ex}\n",
       ".dl-inline>dt:not(:first-of-type) {padding-left: .5ex}\n",
       "</style><dl class=dl-inline><dt>X0</dt><dd>74413</dd><dt>X0.1</dt><dd>20653</dd><dt>X0.2</dt><dd>48196</dd><dt>X0.3</dt><dd>75422</dd><dt>X0.4</dt><dd>61892</dd></dl>\n"
      ],
      "text/latex": [
       "\\begin{description*}\n",
       "\\item[X0] 74413\n",
       "\\item[X0.1] 20653\n",
       "\\item[X0.2] 48196\n",
       "\\item[X0.3] 75422\n",
       "\\item[X0.4] 61892\n",
       "\\end{description*}\n"
      ],
      "text/markdown": [
       "X0\n",
       ":   74413X0.1\n",
       ":   20653X0.2\n",
       ":   48196X0.3\n",
       ":   75422X0.4\n",
       ":   61892\n",
       "\n"
      ],
      "text/plain": [
       "   X0  X0.1  X0.2  X0.3  X0.4 \n",
       "74413 20653 48196 75422 61892 "
      ]
     },
     "metadata": {},
     "output_type": "display_data"
    }
   ],
   "source": [
    "# Assuming your dataframe is named 'df'\n",
    "sample_columns <- CH_exon[, 4:ncol(CH_exon)] # Select the sample columns\n",
    "\n",
    "# Calculate the number of rows with at least 5 for each sample\n",
    "ML_ch <- colSums(sample_columns >= 5)\n",
    "\n",
    "# Print the result\n",
    "ML_ch"
   ]
  },
  {
   "cell_type": "code",
   "execution_count": 9,
   "id": "aebca576-6543-4c07-9e8d-df4df5ada865",
   "metadata": {},
   "outputs": [
    {
     "data": {
      "text/html": [
       "<table class=\"dataframe\">\n",
       "<caption>A data.frame: 5 × 3</caption>\n",
       "<thead>\n",
       "\t<tr><th scope=col>methyl_count</th><th scope=col>replicate</th><th scope=col>treatment</th></tr>\n",
       "\t<tr><th scope=col>&lt;dbl&gt;</th><th scope=col>&lt;dbl&gt;</th><th scope=col>&lt;chr&gt;</th></tr>\n",
       "</thead>\n",
       "<tbody>\n",
       "\t<tr><td>74413</td><td>1</td><td>CH</td></tr>\n",
       "\t<tr><td>20653</td><td>2</td><td>CH</td></tr>\n",
       "\t<tr><td>48196</td><td>3</td><td>CH</td></tr>\n",
       "\t<tr><td>75422</td><td>4</td><td>CH</td></tr>\n",
       "\t<tr><td>61892</td><td>5</td><td>CH</td></tr>\n",
       "</tbody>\n",
       "</table>\n"
      ],
      "text/latex": [
       "A data.frame: 5 × 3\n",
       "\\begin{tabular}{lll}\n",
       " methyl\\_count & replicate & treatment\\\\\n",
       " <dbl> & <dbl> & <chr>\\\\\n",
       "\\hline\n",
       "\t 74413 & 1 & CH\\\\\n",
       "\t 20653 & 2 & CH\\\\\n",
       "\t 48196 & 3 & CH\\\\\n",
       "\t 75422 & 4 & CH\\\\\n",
       "\t 61892 & 5 & CH\\\\\n",
       "\\end{tabular}\n"
      ],
      "text/markdown": [
       "\n",
       "A data.frame: 5 × 3\n",
       "\n",
       "| methyl_count &lt;dbl&gt; | replicate &lt;dbl&gt; | treatment &lt;chr&gt; |\n",
       "|---|---|---|\n",
       "| 74413 | 1 | CH |\n",
       "| 20653 | 2 | CH |\n",
       "| 48196 | 3 | CH |\n",
       "| 75422 | 4 | CH |\n",
       "| 61892 | 5 | CH |\n",
       "\n"
      ],
      "text/plain": [
       "  methyl_count replicate treatment\n",
       "1 74413        1         CH       \n",
       "2 20653        2         CH       \n",
       "3 48196        3         CH       \n",
       "4 75422        4         CH       \n",
       "5 61892        5         CH       "
      ]
     },
     "metadata": {},
     "output_type": "display_data"
    }
   ],
   "source": [
    "# create dataframe \n",
    "CHml_exon <- as.data.frame(ML_ch)\n",
    "CHml_exon <- as.data.frame(CHml_exon[1:5,])\n",
    "\n",
    "# assign replicate #'s\n",
    "CHml_exon$replicate <- c(1,2,3,4,5)\n",
    "\n",
    "# rename columns\n",
    "colnames(CHml_exon) <- c('methyl_count', 'replicate')\n",
    "\n",
    "# reset rownames\n",
    "rownames(CHml_exon) <- NULL\n",
    "\n",
    "# add treatment\n",
    "CHml_exon$treatment <- 'CH'\n",
    "\n",
    "CHml_exon"
   ]
  },
  {
   "cell_type": "code",
   "execution_count": 10,
   "id": "78a053e9-48b0-495e-9965-5baea81afeb9",
   "metadata": {},
   "outputs": [
    {
     "data": {
      "text/html": [
       "<table class=\"dataframe\">\n",
       "<caption>A data.frame: 5 × 4</caption>\n",
       "<thead>\n",
       "\t<tr><th scope=col>treatment</th><th scope=col>replicate</th><th scope=col>methyl_count</th><th scope=col>methyl_level</th></tr>\n",
       "\t<tr><th scope=col>&lt;chr&gt;</th><th scope=col>&lt;dbl&gt;</th><th scope=col>&lt;dbl&gt;</th><th scope=col>&lt;dbl&gt;</th></tr>\n",
       "</thead>\n",
       "<tbody>\n",
       "\t<tr><td>CH</td><td>1</td><td>74413</td><td>10.18</td></tr>\n",
       "\t<tr><td>CH</td><td>2</td><td>20653</td><td> 2.82</td></tr>\n",
       "\t<tr><td>CH</td><td>3</td><td>48196</td><td> 6.59</td></tr>\n",
       "\t<tr><td>CH</td><td>4</td><td>75422</td><td>10.31</td></tr>\n",
       "\t<tr><td>CH</td><td>5</td><td>61892</td><td> 8.46</td></tr>\n",
       "</tbody>\n",
       "</table>\n"
      ],
      "text/latex": [
       "A data.frame: 5 × 4\n",
       "\\begin{tabular}{llll}\n",
       " treatment & replicate & methyl\\_count & methyl\\_level\\\\\n",
       " <chr> & <dbl> & <dbl> & <dbl>\\\\\n",
       "\\hline\n",
       "\t CH & 1 & 74413 & 10.18\\\\\n",
       "\t CH & 2 & 20653 &  2.82\\\\\n",
       "\t CH & 3 & 48196 &  6.59\\\\\n",
       "\t CH & 4 & 75422 & 10.31\\\\\n",
       "\t CH & 5 & 61892 &  8.46\\\\\n",
       "\\end{tabular}\n"
      ],
      "text/markdown": [
       "\n",
       "A data.frame: 5 × 4\n",
       "\n",
       "| treatment &lt;chr&gt; | replicate &lt;dbl&gt; | methyl_count &lt;dbl&gt; | methyl_level &lt;dbl&gt; |\n",
       "|---|---|---|---|\n",
       "| CH | 1 | 74413 | 10.18 |\n",
       "| CH | 2 | 20653 |  2.82 |\n",
       "| CH | 3 | 48196 |  6.59 |\n",
       "| CH | 4 | 75422 | 10.31 |\n",
       "| CH | 5 | 61892 |  8.46 |\n",
       "\n"
      ],
      "text/plain": [
       "  treatment replicate methyl_count methyl_level\n",
       "1 CH        1         74413        10.18       \n",
       "2 CH        2         20653         2.82       \n",
       "3 CH        3         48196         6.59       \n",
       "4 CH        4         75422        10.31       \n",
       "5 CH        5         61892         8.46       "
      ]
     },
     "metadata": {},
     "output_type": "display_data"
    }
   ],
   "source": [
    "# calculate methylation level\n",
    "CHml_exon$methyl_level <- round(((CHml_exon$methyl_count/total_exon)*100),2)\n",
    "\n",
    "# reorder columns to make sense\n",
    "CHml_exon <- select(CHml_exon, treatment, replicate, methyl_count, methyl_level)\n",
    "\n",
    "CHml_exon"
   ]
  },
  {
   "cell_type": "markdown",
   "id": "2d762773-bc3e-4845-b36d-f1a3e2f13241",
   "metadata": {},
   "source": [
    "**hypoxic hypoxic**"
   ]
  },
  {
   "cell_type": "code",
   "execution_count": 11,
   "id": "66ea18ff-c970-43cb-ad3e-65509a57dba4",
   "metadata": {},
   "outputs": [
    {
     "data": {
      "text/html": [
       "<style>\n",
       ".dl-inline {width: auto; margin:0; padding: 0}\n",
       ".dl-inline>dt, .dl-inline>dd {float: none; width: auto; display: inline-block}\n",
       ".dl-inline>dt::after {content: \":\\0020\"; padding-right: .5ex}\n",
       ".dl-inline>dt:not(:first-of-type) {padding-left: .5ex}\n",
       "</style><dl class=dl-inline><dt>X0</dt><dd>73003</dd><dt>X0.1</dt><dd>61895</dd><dt>X0.2</dt><dd>66738</dd><dt>X0.3</dt><dd>72082</dd><dt>X2</dt><dd>71438</dd></dl>\n"
      ],
      "text/latex": [
       "\\begin{description*}\n",
       "\\item[X0] 73003\n",
       "\\item[X0.1] 61895\n",
       "\\item[X0.2] 66738\n",
       "\\item[X0.3] 72082\n",
       "\\item[X2] 71438\n",
       "\\end{description*}\n"
      ],
      "text/markdown": [
       "X0\n",
       ":   73003X0.1\n",
       ":   61895X0.2\n",
       ":   66738X0.3\n",
       ":   72082X2\n",
       ":   71438\n",
       "\n"
      ],
      "text/plain": [
       "   X0  X0.1  X0.2  X0.3    X2 \n",
       "73003 61895 66738 72082 71438 "
      ]
     },
     "metadata": {},
     "output_type": "display_data"
    }
   ],
   "source": [
    "# Assuming your dataframe is named 'df'\n",
    "sample_columns <- HH_exon[, 4:ncol(HH_exon)] # Select the sample columns\n",
    "\n",
    "# Calculate the number of rows with at least 5 for each sample\n",
    "ML_hh <- colSums(sample_columns >= 5)\n",
    "\n",
    "# Print the result\n",
    "ML_hh"
   ]
  },
  {
   "cell_type": "code",
   "execution_count": 12,
   "id": "5e1ce29c-af57-4963-b3e0-3e5326b9afaa",
   "metadata": {},
   "outputs": [
    {
     "data": {
      "text/html": [
       "<table class=\"dataframe\">\n",
       "<caption>A data.frame: 5 × 3</caption>\n",
       "<thead>\n",
       "\t<tr><th scope=col>methyl_count</th><th scope=col>replicate</th><th scope=col>treatment</th></tr>\n",
       "\t<tr><th scope=col>&lt;dbl&gt;</th><th scope=col>&lt;dbl&gt;</th><th scope=col>&lt;chr&gt;</th></tr>\n",
       "</thead>\n",
       "<tbody>\n",
       "\t<tr><td>73003</td><td>1</td><td>HH</td></tr>\n",
       "\t<tr><td>61895</td><td>2</td><td>HH</td></tr>\n",
       "\t<tr><td>66738</td><td>3</td><td>HH</td></tr>\n",
       "\t<tr><td>72082</td><td>4</td><td>HH</td></tr>\n",
       "\t<tr><td>71438</td><td>5</td><td>HH</td></tr>\n",
       "</tbody>\n",
       "</table>\n"
      ],
      "text/latex": [
       "A data.frame: 5 × 3\n",
       "\\begin{tabular}{lll}\n",
       " methyl\\_count & replicate & treatment\\\\\n",
       " <dbl> & <dbl> & <chr>\\\\\n",
       "\\hline\n",
       "\t 73003 & 1 & HH\\\\\n",
       "\t 61895 & 2 & HH\\\\\n",
       "\t 66738 & 3 & HH\\\\\n",
       "\t 72082 & 4 & HH\\\\\n",
       "\t 71438 & 5 & HH\\\\\n",
       "\\end{tabular}\n"
      ],
      "text/markdown": [
       "\n",
       "A data.frame: 5 × 3\n",
       "\n",
       "| methyl_count &lt;dbl&gt; | replicate &lt;dbl&gt; | treatment &lt;chr&gt; |\n",
       "|---|---|---|\n",
       "| 73003 | 1 | HH |\n",
       "| 61895 | 2 | HH |\n",
       "| 66738 | 3 | HH |\n",
       "| 72082 | 4 | HH |\n",
       "| 71438 | 5 | HH |\n",
       "\n"
      ],
      "text/plain": [
       "  methyl_count replicate treatment\n",
       "1 73003        1         HH       \n",
       "2 61895        2         HH       \n",
       "3 66738        3         HH       \n",
       "4 72082        4         HH       \n",
       "5 71438        5         HH       "
      ]
     },
     "metadata": {},
     "output_type": "display_data"
    }
   ],
   "source": [
    "# create dataframe \n",
    "HHml_exon <- as.data.frame(ML_hh)\n",
    "HHml_exon <- as.data.frame(HHml_exon[1:5,])\n",
    "\n",
    "# assign replicate #'s\n",
    "HHml_exon$replicate <- c(1,2,3,4,5)\n",
    "\n",
    "# rename columns\n",
    "colnames(HHml_exon) <- c('methyl_count', 'replicate')\n",
    "\n",
    "# reset rownames\n",
    "rownames(HHml_exon) <- NULL\n",
    "\n",
    "# add treatment\n",
    "HHml_exon$treatment <- 'HH'\n",
    "\n",
    "HHml_exon"
   ]
  },
  {
   "cell_type": "code",
   "execution_count": 13,
   "id": "bd384233-656d-4269-8d12-c71d7cb82a36",
   "metadata": {},
   "outputs": [
    {
     "data": {
      "text/html": [
       "<table class=\"dataframe\">\n",
       "<caption>A data.frame: 5 × 4</caption>\n",
       "<thead>\n",
       "\t<tr><th scope=col>treatment</th><th scope=col>replicate</th><th scope=col>methyl_count</th><th scope=col>methyl_level</th></tr>\n",
       "\t<tr><th scope=col>&lt;chr&gt;</th><th scope=col>&lt;dbl&gt;</th><th scope=col>&lt;dbl&gt;</th><th scope=col>&lt;dbl&gt;</th></tr>\n",
       "</thead>\n",
       "<tbody>\n",
       "\t<tr><td>HH</td><td>1</td><td>73003</td><td>9.98</td></tr>\n",
       "\t<tr><td>HH</td><td>2</td><td>61895</td><td>8.46</td></tr>\n",
       "\t<tr><td>HH</td><td>3</td><td>66738</td><td>9.13</td></tr>\n",
       "\t<tr><td>HH</td><td>4</td><td>72082</td><td>9.86</td></tr>\n",
       "\t<tr><td>HH</td><td>5</td><td>71438</td><td>9.77</td></tr>\n",
       "</tbody>\n",
       "</table>\n"
      ],
      "text/latex": [
       "A data.frame: 5 × 4\n",
       "\\begin{tabular}{llll}\n",
       " treatment & replicate & methyl\\_count & methyl\\_level\\\\\n",
       " <chr> & <dbl> & <dbl> & <dbl>\\\\\n",
       "\\hline\n",
       "\t HH & 1 & 73003 & 9.98\\\\\n",
       "\t HH & 2 & 61895 & 8.46\\\\\n",
       "\t HH & 3 & 66738 & 9.13\\\\\n",
       "\t HH & 4 & 72082 & 9.86\\\\\n",
       "\t HH & 5 & 71438 & 9.77\\\\\n",
       "\\end{tabular}\n"
      ],
      "text/markdown": [
       "\n",
       "A data.frame: 5 × 4\n",
       "\n",
       "| treatment &lt;chr&gt; | replicate &lt;dbl&gt; | methyl_count &lt;dbl&gt; | methyl_level &lt;dbl&gt; |\n",
       "|---|---|---|---|\n",
       "| HH | 1 | 73003 | 9.98 |\n",
       "| HH | 2 | 61895 | 8.46 |\n",
       "| HH | 3 | 66738 | 9.13 |\n",
       "| HH | 4 | 72082 | 9.86 |\n",
       "| HH | 5 | 71438 | 9.77 |\n",
       "\n"
      ],
      "text/plain": [
       "  treatment replicate methyl_count methyl_level\n",
       "1 HH        1         73003        9.98        \n",
       "2 HH        2         61895        8.46        \n",
       "3 HH        3         66738        9.13        \n",
       "4 HH        4         72082        9.86        \n",
       "5 HH        5         71438        9.77        "
      ]
     },
     "metadata": {},
     "output_type": "display_data"
    }
   ],
   "source": [
    "# calculate methylation level\n",
    "HHml_exon$methyl_level <- round(((HHml_exon$methyl_count/total_exon)*100),2)\n",
    "\n",
    "# reorder columns to make sense\n",
    "HHml_exon <- select(HHml_exon, treatment, replicate, methyl_count, methyl_level)\n",
    "\n",
    "HHml_exon"
   ]
  },
  {
   "cell_type": "markdown",
   "id": "ba6aed4f-f47c-497c-8c8d-46b8d224c120",
   "metadata": {},
   "source": [
    "**hypoxic control**"
   ]
  },
  {
   "cell_type": "code",
   "execution_count": 14,
   "id": "f1e37a32-e969-4ecc-8aa9-69806f5d5d77",
   "metadata": {},
   "outputs": [
    {
     "data": {
      "text/html": [
       "<style>\n",
       ".dl-inline {width: auto; margin:0; padding: 0}\n",
       ".dl-inline>dt, .dl-inline>dd {float: none; width: auto; display: inline-block}\n",
       ".dl-inline>dt::after {content: \":\\0020\"; padding-right: .5ex}\n",
       ".dl-inline>dt:not(:first-of-type) {padding-left: .5ex}\n",
       "</style><dl class=dl-inline><dt>X0</dt><dd>72299</dd><dt>X0.1</dt><dd>71125</dd><dt>X0.2</dt><dd>75499</dd><dt>X0.3</dt><dd>71055</dd><dt>X0.4</dt><dd>48816</dd></dl>\n"
      ],
      "text/latex": [
       "\\begin{description*}\n",
       "\\item[X0] 72299\n",
       "\\item[X0.1] 71125\n",
       "\\item[X0.2] 75499\n",
       "\\item[X0.3] 71055\n",
       "\\item[X0.4] 48816\n",
       "\\end{description*}\n"
      ],
      "text/markdown": [
       "X0\n",
       ":   72299X0.1\n",
       ":   71125X0.2\n",
       ":   75499X0.3\n",
       ":   71055X0.4\n",
       ":   48816\n",
       "\n"
      ],
      "text/plain": [
       "   X0  X0.1  X0.2  X0.3  X0.4 \n",
       "72299 71125 75499 71055 48816 "
      ]
     },
     "metadata": {},
     "output_type": "display_data"
    }
   ],
   "source": [
    "# Assuming your dataframe is named 'df'\n",
    "sample_columns <- HC_exon[, 4:ncol(HC_exon)] # Select the sample columns\n",
    "\n",
    "# Calculate the number of rows with at least 5 for each sample\n",
    "ML_hc <- colSums(sample_columns >= 5)\n",
    "\n",
    "# Print the result\n",
    "ML_hc"
   ]
  },
  {
   "cell_type": "code",
   "execution_count": 15,
   "id": "a00e1a46-fb47-4808-a2c9-ae8cdb838424",
   "metadata": {},
   "outputs": [
    {
     "data": {
      "text/html": [
       "<table class=\"dataframe\">\n",
       "<caption>A data.frame: 5 × 3</caption>\n",
       "<thead>\n",
       "\t<tr><th scope=col>methyl_count</th><th scope=col>replicate</th><th scope=col>treatment</th></tr>\n",
       "\t<tr><th scope=col>&lt;dbl&gt;</th><th scope=col>&lt;dbl&gt;</th><th scope=col>&lt;chr&gt;</th></tr>\n",
       "</thead>\n",
       "<tbody>\n",
       "\t<tr><td>72299</td><td>1</td><td>HC</td></tr>\n",
       "\t<tr><td>71125</td><td>2</td><td>HC</td></tr>\n",
       "\t<tr><td>75499</td><td>3</td><td>HC</td></tr>\n",
       "\t<tr><td>71055</td><td>4</td><td>HC</td></tr>\n",
       "\t<tr><td>48816</td><td>5</td><td>HC</td></tr>\n",
       "</tbody>\n",
       "</table>\n"
      ],
      "text/latex": [
       "A data.frame: 5 × 3\n",
       "\\begin{tabular}{lll}\n",
       " methyl\\_count & replicate & treatment\\\\\n",
       " <dbl> & <dbl> & <chr>\\\\\n",
       "\\hline\n",
       "\t 72299 & 1 & HC\\\\\n",
       "\t 71125 & 2 & HC\\\\\n",
       "\t 75499 & 3 & HC\\\\\n",
       "\t 71055 & 4 & HC\\\\\n",
       "\t 48816 & 5 & HC\\\\\n",
       "\\end{tabular}\n"
      ],
      "text/markdown": [
       "\n",
       "A data.frame: 5 × 3\n",
       "\n",
       "| methyl_count &lt;dbl&gt; | replicate &lt;dbl&gt; | treatment &lt;chr&gt; |\n",
       "|---|---|---|\n",
       "| 72299 | 1 | HC |\n",
       "| 71125 | 2 | HC |\n",
       "| 75499 | 3 | HC |\n",
       "| 71055 | 4 | HC |\n",
       "| 48816 | 5 | HC |\n",
       "\n"
      ],
      "text/plain": [
       "  methyl_count replicate treatment\n",
       "1 72299        1         HC       \n",
       "2 71125        2         HC       \n",
       "3 75499        3         HC       \n",
       "4 71055        4         HC       \n",
       "5 48816        5         HC       "
      ]
     },
     "metadata": {},
     "output_type": "display_data"
    }
   ],
   "source": [
    "# create dataframe \n",
    "HCml_exon <- as.data.frame(ML_hc)\n",
    "HCml_exon <- as.data.frame(HCml_exon[1:5,])\n",
    "\n",
    "# assign replicate #'s\n",
    "HCml_exon$replicate <- c(1,2,3,4,5)\n",
    "\n",
    "# rename columns\n",
    "colnames(HCml_exon) <- c('methyl_count', 'replicate')\n",
    "\n",
    "# reset rownames\n",
    "rownames(HCml_exon) <- NULL\n",
    "\n",
    "# add treatment\n",
    "HCml_exon$treatment <- 'HC'\n",
    "\n",
    "HCml_exon"
   ]
  },
  {
   "cell_type": "code",
   "execution_count": 16,
   "id": "9065dbee-57f8-4fc7-a872-eeb91da07d92",
   "metadata": {},
   "outputs": [
    {
     "data": {
      "text/html": [
       "<table class=\"dataframe\">\n",
       "<caption>A data.frame: 5 × 4</caption>\n",
       "<thead>\n",
       "\t<tr><th scope=col>treatment</th><th scope=col>replicate</th><th scope=col>methyl_count</th><th scope=col>methyl_level</th></tr>\n",
       "\t<tr><th scope=col>&lt;chr&gt;</th><th scope=col>&lt;dbl&gt;</th><th scope=col>&lt;dbl&gt;</th><th scope=col>&lt;dbl&gt;</th></tr>\n",
       "</thead>\n",
       "<tbody>\n",
       "\t<tr><td>HC</td><td>1</td><td>72299</td><td> 9.89</td></tr>\n",
       "\t<tr><td>HC</td><td>2</td><td>71125</td><td> 9.73</td></tr>\n",
       "\t<tr><td>HC</td><td>3</td><td>75499</td><td>10.32</td></tr>\n",
       "\t<tr><td>HC</td><td>4</td><td>71055</td><td> 9.72</td></tr>\n",
       "\t<tr><td>HC</td><td>5</td><td>48816</td><td> 6.68</td></tr>\n",
       "</tbody>\n",
       "</table>\n"
      ],
      "text/latex": [
       "A data.frame: 5 × 4\n",
       "\\begin{tabular}{llll}\n",
       " treatment & replicate & methyl\\_count & methyl\\_level\\\\\n",
       " <chr> & <dbl> & <dbl> & <dbl>\\\\\n",
       "\\hline\n",
       "\t HC & 1 & 72299 &  9.89\\\\\n",
       "\t HC & 2 & 71125 &  9.73\\\\\n",
       "\t HC & 3 & 75499 & 10.32\\\\\n",
       "\t HC & 4 & 71055 &  9.72\\\\\n",
       "\t HC & 5 & 48816 &  6.68\\\\\n",
       "\\end{tabular}\n"
      ],
      "text/markdown": [
       "\n",
       "A data.frame: 5 × 4\n",
       "\n",
       "| treatment &lt;chr&gt; | replicate &lt;dbl&gt; | methyl_count &lt;dbl&gt; | methyl_level &lt;dbl&gt; |\n",
       "|---|---|---|---|\n",
       "| HC | 1 | 72299 |  9.89 |\n",
       "| HC | 2 | 71125 |  9.73 |\n",
       "| HC | 3 | 75499 | 10.32 |\n",
       "| HC | 4 | 71055 |  9.72 |\n",
       "| HC | 5 | 48816 |  6.68 |\n",
       "\n"
      ],
      "text/plain": [
       "  treatment replicate methyl_count methyl_level\n",
       "1 HC        1         72299         9.89       \n",
       "2 HC        2         71125         9.73       \n",
       "3 HC        3         75499        10.32       \n",
       "4 HC        4         71055         9.72       \n",
       "5 HC        5         48816         6.68       "
      ]
     },
     "metadata": {},
     "output_type": "display_data"
    }
   ],
   "source": [
    "# calculate methylation level\n",
    "HCml_exon$methyl_level <- round(((HCml_exon$methyl_count/total_exon)*100),2)\n",
    "\n",
    "# reorder columns to make sense\n",
    "HCml_exon <- select(HCml_exon, treatment, replicate, methyl_count, methyl_level)\n",
    "\n",
    "HCml_exon"
   ]
  },
  {
   "cell_type": "code",
   "execution_count": 17,
   "id": "1c02e295-c94f-452c-a3e1-2f23a9cd91a1",
   "metadata": {},
   "outputs": [
    {
     "data": {
      "text/html": [
       "<table class=\"dataframe\">\n",
       "<caption>A data.frame: 20 × 4</caption>\n",
       "<thead>\n",
       "\t<tr><th scope=col>treatment</th><th scope=col>replicate</th><th scope=col>methyl_count</th><th scope=col>methyl_level</th></tr>\n",
       "\t<tr><th scope=col>&lt;chr&gt;</th><th scope=col>&lt;dbl&gt;</th><th scope=col>&lt;dbl&gt;</th><th scope=col>&lt;dbl&gt;</th></tr>\n",
       "</thead>\n",
       "<tbody>\n",
       "\t<tr><td>CC</td><td>1</td><td>78514</td><td>10.74</td></tr>\n",
       "\t<tr><td>CC</td><td>2</td><td>42458</td><td> 5.81</td></tr>\n",
       "\t<tr><td>CC</td><td>3</td><td>78979</td><td>10.80</td></tr>\n",
       "\t<tr><td>CC</td><td>4</td><td>55428</td><td> 7.58</td></tr>\n",
       "\t<tr><td>CC</td><td>5</td><td>28635</td><td> 3.92</td></tr>\n",
       "\t<tr><td>CH</td><td>1</td><td>74413</td><td>10.18</td></tr>\n",
       "\t<tr><td>CH</td><td>2</td><td>20653</td><td> 2.82</td></tr>\n",
       "\t<tr><td>CH</td><td>3</td><td>48196</td><td> 6.59</td></tr>\n",
       "\t<tr><td>CH</td><td>4</td><td>75422</td><td>10.31</td></tr>\n",
       "\t<tr><td>CH</td><td>5</td><td>61892</td><td> 8.46</td></tr>\n",
       "\t<tr><td>HC</td><td>1</td><td>72299</td><td> 9.89</td></tr>\n",
       "\t<tr><td>HC</td><td>2</td><td>71125</td><td> 9.73</td></tr>\n",
       "\t<tr><td>HC</td><td>3</td><td>75499</td><td>10.32</td></tr>\n",
       "\t<tr><td>HC</td><td>4</td><td>71055</td><td> 9.72</td></tr>\n",
       "\t<tr><td>HC</td><td>5</td><td>48816</td><td> 6.68</td></tr>\n",
       "\t<tr><td>HH</td><td>1</td><td>73003</td><td> 9.98</td></tr>\n",
       "\t<tr><td>HH</td><td>2</td><td>61895</td><td> 8.46</td></tr>\n",
       "\t<tr><td>HH</td><td>3</td><td>66738</td><td> 9.13</td></tr>\n",
       "\t<tr><td>HH</td><td>4</td><td>72082</td><td> 9.86</td></tr>\n",
       "\t<tr><td>HH</td><td>5</td><td>71438</td><td> 9.77</td></tr>\n",
       "</tbody>\n",
       "</table>\n"
      ],
      "text/latex": [
       "A data.frame: 20 × 4\n",
       "\\begin{tabular}{llll}\n",
       " treatment & replicate & methyl\\_count & methyl\\_level\\\\\n",
       " <chr> & <dbl> & <dbl> & <dbl>\\\\\n",
       "\\hline\n",
       "\t CC & 1 & 78514 & 10.74\\\\\n",
       "\t CC & 2 & 42458 &  5.81\\\\\n",
       "\t CC & 3 & 78979 & 10.80\\\\\n",
       "\t CC & 4 & 55428 &  7.58\\\\\n",
       "\t CC & 5 & 28635 &  3.92\\\\\n",
       "\t CH & 1 & 74413 & 10.18\\\\\n",
       "\t CH & 2 & 20653 &  2.82\\\\\n",
       "\t CH & 3 & 48196 &  6.59\\\\\n",
       "\t CH & 4 & 75422 & 10.31\\\\\n",
       "\t CH & 5 & 61892 &  8.46\\\\\n",
       "\t HC & 1 & 72299 &  9.89\\\\\n",
       "\t HC & 2 & 71125 &  9.73\\\\\n",
       "\t HC & 3 & 75499 & 10.32\\\\\n",
       "\t HC & 4 & 71055 &  9.72\\\\\n",
       "\t HC & 5 & 48816 &  6.68\\\\\n",
       "\t HH & 1 & 73003 &  9.98\\\\\n",
       "\t HH & 2 & 61895 &  8.46\\\\\n",
       "\t HH & 3 & 66738 &  9.13\\\\\n",
       "\t HH & 4 & 72082 &  9.86\\\\\n",
       "\t HH & 5 & 71438 &  9.77\\\\\n",
       "\\end{tabular}\n"
      ],
      "text/markdown": [
       "\n",
       "A data.frame: 20 × 4\n",
       "\n",
       "| treatment &lt;chr&gt; | replicate &lt;dbl&gt; | methyl_count &lt;dbl&gt; | methyl_level &lt;dbl&gt; |\n",
       "|---|---|---|---|\n",
       "| CC | 1 | 78514 | 10.74 |\n",
       "| CC | 2 | 42458 |  5.81 |\n",
       "| CC | 3 | 78979 | 10.80 |\n",
       "| CC | 4 | 55428 |  7.58 |\n",
       "| CC | 5 | 28635 |  3.92 |\n",
       "| CH | 1 | 74413 | 10.18 |\n",
       "| CH | 2 | 20653 |  2.82 |\n",
       "| CH | 3 | 48196 |  6.59 |\n",
       "| CH | 4 | 75422 | 10.31 |\n",
       "| CH | 5 | 61892 |  8.46 |\n",
       "| HC | 1 | 72299 |  9.89 |\n",
       "| HC | 2 | 71125 |  9.73 |\n",
       "| HC | 3 | 75499 | 10.32 |\n",
       "| HC | 4 | 71055 |  9.72 |\n",
       "| HC | 5 | 48816 |  6.68 |\n",
       "| HH | 1 | 73003 |  9.98 |\n",
       "| HH | 2 | 61895 |  8.46 |\n",
       "| HH | 3 | 66738 |  9.13 |\n",
       "| HH | 4 | 72082 |  9.86 |\n",
       "| HH | 5 | 71438 |  9.77 |\n",
       "\n"
      ],
      "text/plain": [
       "   treatment replicate methyl_count methyl_level\n",
       "1  CC        1         78514        10.74       \n",
       "2  CC        2         42458         5.81       \n",
       "3  CC        3         78979        10.80       \n",
       "4  CC        4         55428         7.58       \n",
       "5  CC        5         28635         3.92       \n",
       "6  CH        1         74413        10.18       \n",
       "7  CH        2         20653         2.82       \n",
       "8  CH        3         48196         6.59       \n",
       "9  CH        4         75422        10.31       \n",
       "10 CH        5         61892         8.46       \n",
       "11 HC        1         72299         9.89       \n",
       "12 HC        2         71125         9.73       \n",
       "13 HC        3         75499        10.32       \n",
       "14 HC        4         71055         9.72       \n",
       "15 HC        5         48816         6.68       \n",
       "16 HH        1         73003         9.98       \n",
       "17 HH        2         61895         8.46       \n",
       "18 HH        3         66738         9.13       \n",
       "19 HH        4         72082         9.86       \n",
       "20 HH        5         71438         9.77       "
      ]
     },
     "metadata": {},
     "output_type": "display_data"
    }
   ],
   "source": [
    "exon_meLevel <- rbind(CCml_exon, CHml_exon, HCml_exon, HHml_exon)\n",
    "exon_meLevel"
   ]
  },
  {
   "cell_type": "code",
   "execution_count": 18,
   "id": "4a506751-e8a9-4a13-b414-2ea54df0b3b1",
   "metadata": {},
   "outputs": [],
   "source": [
    "# create csv file so can skip the long code running above\n",
    "write.csv(exon_meLevel, '/project/pi_sarah_gignouxwolfsohn_uml_edu/julia/CE_MethylRAD_analysis_2018/analysis/genomic_feature_tracks/methylation_level/exon_meLevel.csv')"
   ]
  },
  {
   "cell_type": "code",
   "execution_count": 6,
   "id": "510c942c-7d16-4680-96f8-9a642ed9b38a",
   "metadata": {},
   "outputs": [],
   "source": [
    "exon_meLevel <- read.csv('/project/pi_sarah_gignouxwolfsohn_uml_edu/julia/CE_MethylRAD_analysis_2018/analysis/genomic_feature_tracks/methylation_level/exon_meLevel.csv')"
   ]
  },
  {
   "cell_type": "code",
   "execution_count": 50,
   "id": "c7ec35c6-c695-4607-bdcd-f700329c5a00",
   "metadata": {},
   "outputs": [
    {
     "data": {
      "image/png": "[encoded data removed]",
      "text/plain": [
       "plot without title"
      ]
     },
     "metadata": {
      "image/png": {
       "height": 420,
       "width": 420
      }
     },
     "output_type": "display_data"
    }
   ],
   "source": [
    "df_summary <- exon_meLevel %>%\n",
    "  group_by(treatment) %>%\n",
    "  summarise(\n",
    "    mean_methyl_level = mean(methyl_level),\n",
    "    sd_methyl_level = sd(methyl_level),\n",
    "    se_methyl_level = sd_methyl_level / sqrt(n())\n",
    "  )\n",
    "\n",
    "# Create a bar plot with error bars\n",
    "exonMe_barplot <- ggplot(df_summary, aes(x = treatment, y = mean_methyl_level, fill = treatment)) +\n",
    "  geom_bar(stat = \"identity\") +\n",
    "  geom_errorbar(aes(ymax = mean_methyl_level + se_methyl_level,\n",
    "                       ymin = mean_methyl_level - se_methyl_level),\n",
    "                  width = 0.2, size = 0.5) +\n",
    "#geom_col(color = \"black\", size = 0.25) +\n",
    "scale_fill_brewer(palette = \"RdPu\", \n",
    " direction = 1) +\n",
    "guides(fill = FALSE) +\n",
    "  labs(x = \"Treatment\", y = \"Methylation Level of Exons\") +\n",
    "  theme_classic()\n",
    "\n",
    "exonMe_barplot"
   ]
  },
  {
   "cell_type": "code",
   "execution_count": 51,
   "id": "7838eea7-6d59-4884-953b-2f4dd8747aa6",
   "metadata": {},
   "outputs": [
    {
     "name": "stderr",
     "output_type": "stream",
     "text": [
      "\u001b[1m\u001b[22mSaving 6.67 x 6.67 in image\n"
     ]
    }
   ],
   "source": [
    "ggsave('/project/pi_sarah_gignouxwolfsohn_uml_edu/julia/CE_MethylRAD_analysis_2018/analysis/figures/exonMe_barplot.pdf', exonMe_barplot)"
   ]
  },
  {
   "cell_type": "code",
   "execution_count": 44,
   "id": "d48ff8fa-8afe-42d7-a53d-b9f48756d167",
   "metadata": {},
   "outputs": [
    {
     "data": {
      "image/png": "[encoded data removed]",
      "text/plain": [
       "plot without title"
      ]
     },
     "metadata": {
      "image/png": {
       "height": 420,
       "width": 420
      }
     },
     "output_type": "display_data"
    }
   ],
   "source": [
    "exonMe_boxplot <- ggplot(exon_meLevel, aes(x = treatment, y = methyl_level, fill = treatment)) +\n",
    "  geom_boxplot() +\n",
    "geom_point() +\n",
    "scale_fill_brewer(palette = \"RdPu\", \n",
    " direction = 1) +\n",
    "ylim(0,12) +\n",
    "guides(fill='none') +\n",
    "  labs(x = \"Treatment\", y = \"Methylation level of exons\") +\n",
    "  theme_classic()\n",
    "\n",
    "exonMe_boxplot"
   ]
  },
  {
   "cell_type": "code",
   "execution_count": 45,
   "id": "edfc9473-acc7-4bc6-ae2b-3baea69f7ab0",
   "metadata": {},
   "outputs": [
    {
     "name": "stderr",
     "output_type": "stream",
     "text": [
      "\u001b[1m\u001b[22mSaving 6.67 x 6.67 in image\n"
     ]
    }
   ],
   "source": [
    "ggsave('/project/pi_sarah_gignouxwolfsohn_uml_edu/julia/CE_MethylRAD_analysis_2018/analysis/figures/exonMe_boxplot.pdf', exonMe_boxplot)"
   ]
  },
  {
   "cell_type": "markdown",
   "id": "cd0a8963-12ff-4085-a77c-766ea2d6bec7",
   "metadata": {},
   "source": [
    "### ANOVA of exon methylation\n",
    "want to know if the differences in exon methylation between treatments is statistically significant\n",
    "\n",
    "following pipeline [here](https://www.sthda.com/english/wiki/one-way-anova-test-in-r)"
   ]
  },
  {
   "cell_type": "code",
   "execution_count": 55,
   "id": "f847c7ab-8d11-4417-beb0-86bcc335a324",
   "metadata": {},
   "outputs": [
    {
     "data": {
      "text/html": [
       "<style>\n",
       ".list-inline {list-style: none; margin:0; padding: 0}\n",
       ".list-inline>li {display: inline-block}\n",
       ".list-inline>li:not(:last-child)::after {content: \"\\00b7\"; padding: 0 .5ex}\n",
       "</style>\n",
       "<ol class=list-inline><li>'CC'</li><li>'CH'</li><li>'HC'</li><li>'HH'</li></ol>\n"
      ],
      "text/latex": [
       "\\begin{enumerate*}\n",
       "\\item 'CC'\n",
       "\\item 'CH'\n",
       "\\item 'HC'\n",
       "\\item 'HH'\n",
       "\\end{enumerate*}\n"
      ],
      "text/markdown": [
       "1. 'CC'\n",
       "2. 'CH'\n",
       "3. 'HC'\n",
       "4. 'HH'\n",
       "\n",
       "\n"
      ],
      "text/plain": [
       "[1] \"CC\" \"CH\" \"HC\" \"HH\""
      ]
     },
     "metadata": {},
     "output_type": "display_data"
    }
   ],
   "source": [
    "# make copy of df\n",
    "exons <- exon_meLevel\n",
    "\n",
    "# set levels\n",
    "exons$treatment <- ordered(exons$treatment,\n",
    "                           levels = c('CC', 'CH', 'HC', 'HH'))\n",
    "\n",
    "levels(exons$treatment)"
   ]
  },
  {
   "cell_type": "code",
   "execution_count": 57,
   "id": "a0c60bae-8f19-468a-abd3-7204694b8d57",
   "metadata": {},
   "outputs": [
    {
     "data": {
      "text/html": [
       "<table class=\"dataframe\">\n",
       "<caption>A tibble: 4 × 4</caption>\n",
       "<thead>\n",
       "\t<tr><th scope=col>treatment</th><th scope=col>count</th><th scope=col>mean</th><th scope=col>sd</th></tr>\n",
       "\t<tr><th scope=col>&lt;ord&gt;</th><th scope=col>&lt;int&gt;</th><th scope=col>&lt;dbl&gt;</th><th scope=col>&lt;dbl&gt;</th></tr>\n",
       "</thead>\n",
       "<tbody>\n",
       "\t<tr><td>CC</td><td>5</td><td>7.770</td><td>3.0291088</td></tr>\n",
       "\t<tr><td>CH</td><td>5</td><td>7.672</td><td>3.1057479</td></tr>\n",
       "\t<tr><td>HC</td><td>5</td><td>9.268</td><td>1.4670617</td></tr>\n",
       "\t<tr><td>HH</td><td>5</td><td>9.440</td><td>0.6390227</td></tr>\n",
       "</tbody>\n",
       "</table>\n"
      ],
      "text/latex": [
       "A tibble: 4 × 4\n",
       "\\begin{tabular}{llll}\n",
       " treatment & count & mean & sd\\\\\n",
       " <ord> & <int> & <dbl> & <dbl>\\\\\n",
       "\\hline\n",
       "\t CC & 5 & 7.770 & 3.0291088\\\\\n",
       "\t CH & 5 & 7.672 & 3.1057479\\\\\n",
       "\t HC & 5 & 9.268 & 1.4670617\\\\\n",
       "\t HH & 5 & 9.440 & 0.6390227\\\\\n",
       "\\end{tabular}\n"
      ],
      "text/markdown": [
       "\n",
       "A tibble: 4 × 4\n",
       "\n",
       "| treatment &lt;ord&gt; | count &lt;int&gt; | mean &lt;dbl&gt; | sd &lt;dbl&gt; |\n",
       "|---|---|---|---|\n",
       "| CC | 5 | 7.770 | 3.0291088 |\n",
       "| CH | 5 | 7.672 | 3.1057479 |\n",
       "| HC | 5 | 9.268 | 1.4670617 |\n",
       "| HH | 5 | 9.440 | 0.6390227 |\n",
       "\n"
      ],
      "text/plain": [
       "  treatment count mean  sd       \n",
       "1 CC        5     7.770 3.0291088\n",
       "2 CH        5     7.672 3.1057479\n",
       "3 HC        5     9.268 1.4670617\n",
       "4 HH        5     9.440 0.6390227"
      ]
     },
     "metadata": {},
     "output_type": "display_data"
    }
   ],
   "source": [
    "# summary statistics\n",
    "group_by(exons, treatment) %>%\n",
    "summarise(count = n(),\n",
    "          mean = mean(methyl_level, na.rm=TRUE),\n",
    "          sd = sd(methyl_level, na.rm=TRUE)\n",
    "          )"
   ]
  },
  {
   "cell_type": "code",
   "execution_count": 62,
   "id": "17f3dd2a-007b-4033-b8f2-8a4cb811fe5b",
   "metadata": {},
   "outputs": [
    {
     "data": {
      "text/plain": [
       "            Df Sum Sq Mean Sq F value Pr(>F)\n",
       "treatment    3  13.43   4.477   0.838  0.493\n",
       "Residuals   16  85.53   5.345               "
      ]
     },
     "metadata": {},
     "output_type": "display_data"
    }
   ],
   "source": [
    "res.aov <- aov(methyl_level ~ treatment, data = exons)\n",
    "summary(res.aov)"
   ]
  },
  {
   "cell_type": "code",
   "execution_count": 63,
   "id": "9c1bfcc5-00f0-4e95-8f9b-0998dab0c563",
   "metadata": {},
   "outputs": [
    {
     "data": {
      "text/plain": [
       "  Tukey multiple comparisons of means\n",
       "    95% family-wise confidence level\n",
       "\n",
       "Fit: aov(formula = methyl_level ~ treatment, data = exons)\n",
       "\n",
       "$treatment\n",
       "        diff      lwr     upr     p adj\n",
       "CH-CC -0.098 -4.28153 4.08553 0.9998871\n",
       "HC-CC  1.498 -2.68553 5.68153 0.7379103\n",
       "HH-CC  1.670 -2.51353 5.85353 0.6699304\n",
       "HC-CH  1.596 -2.58753 5.77953 0.6995594\n",
       "HH-CH  1.768 -2.41553 5.95153 0.6301686\n",
       "HH-HC  0.172 -4.01153 4.35553 0.9993923\n"
      ]
     },
     "metadata": {},
     "output_type": "display_data"
    }
   ],
   "source": [
    "TukeyHSD(res.aov)"
   ]
  },
  {
   "cell_type": "code",
   "execution_count": 64,
   "id": "e3a23629-63f4-47d9-a9ca-bd7a0e18ba7a",
   "metadata": {},
   "outputs": [
    {
     "data": {
      "text/plain": [
       "\n",
       "\tPairwise comparisons using t tests with pooled SD \n",
       "\n",
       "data:  exons$methyl_level and exons$treatment \n",
       "\n",
       "   CC   CH   HC  \n",
       "CH 0.95 -    -   \n",
       "HC 0.48 0.48 -   \n",
       "HH 0.48 0.48 0.95\n",
       "\n",
       "P value adjustment method: BH "
      ]
     },
     "metadata": {},
     "output_type": "display_data"
    }
   ],
   "source": [
    "pairwise.t.test(exons$methyl_level, exons$treatment, p.adjust.method = 'BH')"
   ]
  },
  {
   "cell_type": "markdown",
   "id": "1974af60-7842-40f4-aea1-8bf6dfce7940",
   "metadata": {},
   "source": [
    "**check the homogeneity of variance assumption**"
   ]
  },
  {
   "cell_type": "code",
   "execution_count": 65,
   "id": "669f849c-504c-4ef8-b27d-e63100b7d4ca",
   "metadata": {},
   "outputs": [
    {
     "data": {
      "image/png": "[encoded data removed]",
      "text/plain": [
       "Plot with title “”"
      ]
     },
     "metadata": {
      "image/png": {
       "height": 420,
       "width": 420
      }
     },
     "output_type": "display_data"
    }
   ],
   "source": [
    "plot(res.aov,1)"
   ]
  },
  {
   "cell_type": "code",
   "execution_count": 67,
   "id": "2d963cb4-a288-48a5-bfd6-a3b59b91274d",
   "metadata": {},
   "outputs": [],
   "source": [
    "library(car)"
   ]
  },
  {
   "cell_type": "code",
   "execution_count": 68,
   "id": "b3b4d2f8-81eb-4ea3-899c-49ae1bf1e8ef",
   "metadata": {},
   "outputs": [
    {
     "data": {
      "text/html": [
       "<table class=\"dataframe\">\n",
       "<caption>A anova: 2 × 3</caption>\n",
       "<thead>\n",
       "\t<tr><th></th><th scope=col>Df</th><th scope=col>F value</th><th scope=col>Pr(&gt;F)</th></tr>\n",
       "\t<tr><th></th><th scope=col>&lt;int&gt;</th><th scope=col>&lt;dbl&gt;</th><th scope=col>&lt;dbl&gt;</th></tr>\n",
       "</thead>\n",
       "<tbody>\n",
       "\t<tr><th scope=row>group</th><td> 3</td><td>2.264106</td><td>0.1202529</td></tr>\n",
       "\t<tr><th scope=row> </th><td>16</td><td>      NA</td><td>       NA</td></tr>\n",
       "</tbody>\n",
       "</table>\n"
      ],
      "text/latex": [
       "A anova: 2 × 3\n",
       "\\begin{tabular}{r|lll}\n",
       "  & Df & F value & Pr(>F)\\\\\n",
       "  & <int> & <dbl> & <dbl>\\\\\n",
       "\\hline\n",
       "\tgroup &  3 & 2.264106 & 0.1202529\\\\\n",
       "\t  & 16 &       NA &        NA\\\\\n",
       "\\end{tabular}\n"
      ],
      "text/markdown": [
       "\n",
       "A anova: 2 × 3\n",
       "\n",
       "| <!--/--> | Df &lt;int&gt; | F value &lt;dbl&gt; | Pr(&gt;F) &lt;dbl&gt; |\n",
       "|---|---|---|---|\n",
       "| group |  3 | 2.264106 | 0.1202529 |\n",
       "| <!----> | 16 |       NA |        NA |\n",
       "\n"
      ],
      "text/plain": [
       "      Df F value  Pr(>F)   \n",
       "group  3 2.264106 0.1202529\n",
       "      16       NA        NA"
      ]
     },
     "metadata": {},
     "output_type": "display_data"
    }
   ],
   "source": [
    "leveneTest(methyl_level ~ treatment, data = exons)"
   ]
  },
  {
   "cell_type": "markdown",
   "id": "12040a1c-b9af-4304-86da-53a9d764cdfb",
   "metadata": {},
   "source": [
    "from [source](https://www.sthda.com/english/wiki/one-way-anova-test-in-r): \"...the p-value is not less than the significance level of 0.05. This means that there is no evidence to suggest that the variance across groups is statistically significantly different. Therefore, we can assume the homogeneity of variances in the different treatment groups.\"\n",
    "\n",
    "**check the normality assumption**"
   ]
  },
  {
   "cell_type": "code",
   "execution_count": 70,
   "id": "f5ff403d-a34a-4de0-afa7-78ec09ecb72c",
   "metadata": {},
   "outputs": [
    {
     "data": {
      "text/plain": [
       "\n",
       "\tShapiro-Wilk normality test\n",
       "\n",
       "data:  aov_residuals\n",
       "W = 0.93466, p-value = 0.1897\n"
      ]
     },
     "metadata": {},
     "output_type": "display_data"
    },
    {
     "data": {
      "image/png": "[encoded data removed]",
      "text/plain": [
       "Plot with title “”"
      ]
     },
     "metadata": {
      "image/png": {
       "height": 420,
       "width": 420
      }
     },
     "output_type": "display_data"
    }
   ],
   "source": [
    "plot(res.aov, 2)\n",
    "\n",
    "# Extract the residuals\n",
    "aov_residuals <- residuals(object = res.aov )\n",
    "# Run Shapiro-Wilk test\n",
    "shapiro.test(x = aov_residuals )"
   ]
  },
  {
   "cell_type": "markdown",
   "id": "c938308b-7c13-4cb5-940f-a56b26a19971",
   "metadata": {},
   "source": [
    "so doesn't appear to be any statistically significant differences between methylation level for exons for the diff. treatments - I wonder if I collapse the data into two groups (first exposure to control and first exposure to hypoxia) if that changes anything?"
   ]
  },
  {
   "cell_type": "code",
   "execution_count": 85,
   "id": "c3b6e02e-8d84-4f97-838f-1aabf4e5892d",
   "metadata": {},
   "outputs": [
    {
     "data": {
      "text/html": [
       "<table class=\"dataframe\">\n",
       "<caption>A data.frame: 20 × 5</caption>\n",
       "<thead>\n",
       "\t<tr><th scope=col>treatment</th><th scope=col>replicate</th><th scope=col>methyl_count</th><th scope=col>methyl_level</th><th scope=col>first_exp</th></tr>\n",
       "\t<tr><th scope=col>&lt;ord&gt;</th><th scope=col>&lt;dbl&gt;</th><th scope=col>&lt;dbl&gt;</th><th scope=col>&lt;dbl&gt;</th><th scope=col>&lt;chr&gt;</th></tr>\n",
       "</thead>\n",
       "<tbody>\n",
       "\t<tr><td>CC</td><td>1</td><td>78514</td><td>10.74</td><td>control</td></tr>\n",
       "\t<tr><td>CC</td><td>2</td><td>42458</td><td> 5.81</td><td>control</td></tr>\n",
       "\t<tr><td>CC</td><td>3</td><td>78979</td><td>10.80</td><td>control</td></tr>\n",
       "\t<tr><td>CC</td><td>4</td><td>55428</td><td> 7.58</td><td>control</td></tr>\n",
       "\t<tr><td>CC</td><td>5</td><td>28635</td><td> 3.92</td><td>control</td></tr>\n",
       "\t<tr><td>CH</td><td>1</td><td>74413</td><td>10.18</td><td>control</td></tr>\n",
       "\t<tr><td>CH</td><td>2</td><td>20653</td><td> 2.82</td><td>control</td></tr>\n",
       "\t<tr><td>CH</td><td>3</td><td>48196</td><td> 6.59</td><td>control</td></tr>\n",
       "\t<tr><td>CH</td><td>4</td><td>75422</td><td>10.31</td><td>control</td></tr>\n",
       "\t<tr><td>CH</td><td>5</td><td>61892</td><td> 8.46</td><td>control</td></tr>\n",
       "\t<tr><td>HC</td><td>1</td><td>72299</td><td> 9.89</td><td>hypoxia</td></tr>\n",
       "\t<tr><td>HC</td><td>2</td><td>71125</td><td> 9.73</td><td>hypoxia</td></tr>\n",
       "\t<tr><td>HC</td><td>3</td><td>75499</td><td>10.32</td><td>hypoxia</td></tr>\n",
       "\t<tr><td>HC</td><td>4</td><td>71055</td><td> 9.72</td><td>hypoxia</td></tr>\n",
       "\t<tr><td>HC</td><td>5</td><td>48816</td><td> 6.68</td><td>hypoxia</td></tr>\n",
       "\t<tr><td>HH</td><td>1</td><td>73003</td><td> 9.98</td><td>hypoxia</td></tr>\n",
       "\t<tr><td>HH</td><td>2</td><td>61895</td><td> 8.46</td><td>hypoxia</td></tr>\n",
       "\t<tr><td>HH</td><td>3</td><td>66738</td><td> 9.13</td><td>hypoxia</td></tr>\n",
       "\t<tr><td>HH</td><td>4</td><td>72082</td><td> 9.86</td><td>hypoxia</td></tr>\n",
       "\t<tr><td>HH</td><td>5</td><td>71438</td><td> 9.77</td><td>hypoxia</td></tr>\n",
       "</tbody>\n",
       "</table>\n"
      ],
      "text/latex": [
       "A data.frame: 20 × 5\n",
       "\\begin{tabular}{lllll}\n",
       " treatment & replicate & methyl\\_count & methyl\\_level & first\\_exp\\\\\n",
       " <ord> & <dbl> & <dbl> & <dbl> & <chr>\\\\\n",
       "\\hline\n",
       "\t CC & 1 & 78514 & 10.74 & control\\\\\n",
       "\t CC & 2 & 42458 &  5.81 & control\\\\\n",
       "\t CC & 3 & 78979 & 10.80 & control\\\\\n",
       "\t CC & 4 & 55428 &  7.58 & control\\\\\n",
       "\t CC & 5 & 28635 &  3.92 & control\\\\\n",
       "\t CH & 1 & 74413 & 10.18 & control\\\\\n",
       "\t CH & 2 & 20653 &  2.82 & control\\\\\n",
       "\t CH & 3 & 48196 &  6.59 & control\\\\\n",
       "\t CH & 4 & 75422 & 10.31 & control\\\\\n",
       "\t CH & 5 & 61892 &  8.46 & control\\\\\n",
       "\t HC & 1 & 72299 &  9.89 & hypoxia\\\\\n",
       "\t HC & 2 & 71125 &  9.73 & hypoxia\\\\\n",
       "\t HC & 3 & 75499 & 10.32 & hypoxia\\\\\n",
       "\t HC & 4 & 71055 &  9.72 & hypoxia\\\\\n",
       "\t HC & 5 & 48816 &  6.68 & hypoxia\\\\\n",
       "\t HH & 1 & 73003 &  9.98 & hypoxia\\\\\n",
       "\t HH & 2 & 61895 &  8.46 & hypoxia\\\\\n",
       "\t HH & 3 & 66738 &  9.13 & hypoxia\\\\\n",
       "\t HH & 4 & 72082 &  9.86 & hypoxia\\\\\n",
       "\t HH & 5 & 71438 &  9.77 & hypoxia\\\\\n",
       "\\end{tabular}\n"
      ],
      "text/markdown": [
       "\n",
       "A data.frame: 20 × 5\n",
       "\n",
       "| treatment &lt;ord&gt; | replicate &lt;dbl&gt; | methyl_count &lt;dbl&gt; | methyl_level &lt;dbl&gt; | first_exp &lt;chr&gt; |\n",
       "|---|---|---|---|---|\n",
       "| CC | 1 | 78514 | 10.74 | control |\n",
       "| CC | 2 | 42458 |  5.81 | control |\n",
       "| CC | 3 | 78979 | 10.80 | control |\n",
       "| CC | 4 | 55428 |  7.58 | control |\n",
       "| CC | 5 | 28635 |  3.92 | control |\n",
       "| CH | 1 | 74413 | 10.18 | control |\n",
       "| CH | 2 | 20653 |  2.82 | control |\n",
       "| CH | 3 | 48196 |  6.59 | control |\n",
       "| CH | 4 | 75422 | 10.31 | control |\n",
       "| CH | 5 | 61892 |  8.46 | control |\n",
       "| HC | 1 | 72299 |  9.89 | hypoxia |\n",
       "| HC | 2 | 71125 |  9.73 | hypoxia |\n",
       "| HC | 3 | 75499 | 10.32 | hypoxia |\n",
       "| HC | 4 | 71055 |  9.72 | hypoxia |\n",
       "| HC | 5 | 48816 |  6.68 | hypoxia |\n",
       "| HH | 1 | 73003 |  9.98 | hypoxia |\n",
       "| HH | 2 | 61895 |  8.46 | hypoxia |\n",
       "| HH | 3 | 66738 |  9.13 | hypoxia |\n",
       "| HH | 4 | 72082 |  9.86 | hypoxia |\n",
       "| HH | 5 | 71438 |  9.77 | hypoxia |\n",
       "\n"
      ],
      "text/plain": [
       "   treatment replicate methyl_count methyl_level first_exp\n",
       "1  CC        1         78514        10.74        control  \n",
       "2  CC        2         42458         5.81        control  \n",
       "3  CC        3         78979        10.80        control  \n",
       "4  CC        4         55428         7.58        control  \n",
       "5  CC        5         28635         3.92        control  \n",
       "6  CH        1         74413        10.18        control  \n",
       "7  CH        2         20653         2.82        control  \n",
       "8  CH        3         48196         6.59        control  \n",
       "9  CH        4         75422        10.31        control  \n",
       "10 CH        5         61892         8.46        control  \n",
       "11 HC        1         72299         9.89        hypoxia  \n",
       "12 HC        2         71125         9.73        hypoxia  \n",
       "13 HC        3         75499        10.32        hypoxia  \n",
       "14 HC        4         71055         9.72        hypoxia  \n",
       "15 HC        5         48816         6.68        hypoxia  \n",
       "16 HH        1         73003         9.98        hypoxia  \n",
       "17 HH        2         61895         8.46        hypoxia  \n",
       "18 HH        3         66738         9.13        hypoxia  \n",
       "19 HH        4         72082         9.86        hypoxia  \n",
       "20 HH        5         71438         9.77        hypoxia  "
      ]
     },
     "metadata": {},
     "output_type": "display_data"
    }
   ],
   "source": [
    "# first 10 rows have a first exposure to control\n",
    "exons[1:10,]$first_exp <- 'control'\n",
    "\n",
    "# last 10 rows have a first exposure to hypoxia\n",
    "exons[11:20,]$first_exp <- 'hypoxia'\n",
    "\n",
    "exons"
   ]
  },
  {
   "cell_type": "code",
   "execution_count": 86,
   "id": "c026ae37-0227-4176-b0f7-a6c09206a9d5",
   "metadata": {},
   "outputs": [
    {
     "data": {
      "image/png": "[encoded data removed]",
      "text/plain": [
       "plot without title"
      ]
     },
     "metadata": {
      "image/png": {
       "height": 420,
       "width": 420
      }
     },
     "output_type": "display_data"
    }
   ],
   "source": [
    "df_summary <- exons %>%\n",
    "  group_by(first_exp) %>%\n",
    "  summarise(\n",
    "    mean_methyl_level = mean(methyl_level),\n",
    "    sd_methyl_level = sd(methyl_level),\n",
    "    se_methyl_level = sd_methyl_level / sqrt(n())\n",
    "  )\n",
    "\n",
    "# Create a bar plot with error bars\n",
    "ggplot(df_summary, aes(x = first_exp, y = mean_methyl_level, fill = first_exp)) +\n",
    "  geom_bar(stat = \"identity\") +\n",
    "  geom_errorbar(aes(ymax = mean_methyl_level + se_methyl_level,\n",
    "                       ymin = mean_methyl_level - se_methyl_level),\n",
    "                  width = 0.2, size = 0.5) +\n",
    "#geom_col(color = \"black\", size = 0.25) +\n",
    "scale_fill_brewer(palette = \"RdPu\", \n",
    " direction = 1) +\n",
    "guides(fill = FALSE) +\n",
    "  labs(x = \"First Exposure\", y = \"Methylation Level of Exons\") +\n",
    "  theme_light()"
   ]
  },
  {
   "cell_type": "code",
   "execution_count": 91,
   "id": "84f94ff9-664a-4c0d-af3f-da2c86f3e1bf",
   "metadata": {},
   "outputs": [
    {
     "data": {
      "image/png": "[encoded data removed]",
      "text/plain": [
       "plot without title"
      ]
     },
     "metadata": {
      "image/png": {
       "height": 420,
       "width": 420
      }
     },
     "output_type": "display_data"
    }
   ],
   "source": [
    "ggplot(exons, aes(x = first_exp, y = methyl_level, fill = first_exp)) +\n",
    "  geom_boxplot() +\n",
    "geom_point() +\n",
    "scale_fill_brewer(palette = \"RdPu\", \n",
    " direction = 1) +\n",
    "ylim(0,12) +\n",
    "guides(fill='none') +\n",
    "  labs(x = \"Treatment\", y = \"Methylation level of exons\") +\n",
    "  theme_light()\n"
   ]
  },
  {
   "cell_type": "markdown",
   "id": "4a0fb020-10ff-43f6-8b5d-fb65c4e4f7f2",
   "metadata": {},
   "source": [
    "so the two groups have overlap, but first exposure to hypoxia is a lot tigheter, less variation in the methylation level of exons"
   ]
  },
  {
   "cell_type": "code",
   "execution_count": 87,
   "id": "7976f2e4-67ae-4482-a440-1b4cf7765ece",
   "metadata": {},
   "outputs": [
    {
     "data": {
      "text/html": [
       "<style>\n",
       ".list-inline {list-style: none; margin:0; padding: 0}\n",
       ".list-inline>li {display: inline-block}\n",
       ".list-inline>li:not(:last-child)::after {content: \"\\00b7\"; padding: 0 .5ex}\n",
       "</style>\n",
       "<ol class=list-inline><li>'control'</li><li>'hypoxia'</li></ol>\n"
      ],
      "text/latex": [
       "\\begin{enumerate*}\n",
       "\\item 'control'\n",
       "\\item 'hypoxia'\n",
       "\\end{enumerate*}\n"
      ],
      "text/markdown": [
       "1. 'control'\n",
       "2. 'hypoxia'\n",
       "\n",
       "\n"
      ],
      "text/plain": [
       "[1] \"control\" \"hypoxia\""
      ]
     },
     "metadata": {},
     "output_type": "display_data"
    }
   ],
   "source": [
    "# set levels\n",
    "exons$first_exp <- ordered(exons$first_exp,\n",
    "                           levels = c('control', 'hypoxia'))\n",
    "\n",
    "levels(exons$first_exp)"
   ]
  },
  {
   "cell_type": "code",
   "execution_count": 88,
   "id": "dc08bea7-0a20-40d0-9d30-75b3bed7f1a4",
   "metadata": {},
   "outputs": [
    {
     "data": {
      "text/html": [
       "<table class=\"dataframe\">\n",
       "<caption>A tibble: 2 × 4</caption>\n",
       "<thead>\n",
       "\t<tr><th scope=col>first_exp</th><th scope=col>count</th><th scope=col>mean</th><th scope=col>sd</th></tr>\n",
       "\t<tr><th scope=col>&lt;ord&gt;</th><th scope=col>&lt;int&gt;</th><th scope=col>&lt;dbl&gt;</th><th scope=col>&lt;dbl&gt;</th></tr>\n",
       "</thead>\n",
       "<tbody>\n",
       "\t<tr><td>control</td><td>10</td><td>7.721</td><td>2.892686</td></tr>\n",
       "\t<tr><td>hypoxia</td><td>10</td><td>9.354</td><td>1.070641</td></tr>\n",
       "</tbody>\n",
       "</table>\n"
      ],
      "text/latex": [
       "A tibble: 2 × 4\n",
       "\\begin{tabular}{llll}\n",
       " first\\_exp & count & mean & sd\\\\\n",
       " <ord> & <int> & <dbl> & <dbl>\\\\\n",
       "\\hline\n",
       "\t control & 10 & 7.721 & 2.892686\\\\\n",
       "\t hypoxia & 10 & 9.354 & 1.070641\\\\\n",
       "\\end{tabular}\n"
      ],
      "text/markdown": [
       "\n",
       "A tibble: 2 × 4\n",
       "\n",
       "| first_exp &lt;ord&gt; | count &lt;int&gt; | mean &lt;dbl&gt; | sd &lt;dbl&gt; |\n",
       "|---|---|---|---|\n",
       "| control | 10 | 7.721 | 2.892686 |\n",
       "| hypoxia | 10 | 9.354 | 1.070641 |\n",
       "\n"
      ],
      "text/plain": [
       "  first_exp count mean  sd      \n",
       "1 control   10    7.721 2.892686\n",
       "2 hypoxia   10    9.354 1.070641"
      ]
     },
     "metadata": {},
     "output_type": "display_data"
    }
   ],
   "source": [
    "# summary statistics\n",
    "group_by(exons, first_exp) %>%\n",
    "summarise(count = n(),\n",
    "          mean = mean(methyl_level, na.rm=TRUE),\n",
    "          sd = sd(methyl_level, na.rm=TRUE)\n",
    "          )"
   ]
  },
  {
   "cell_type": "code",
   "execution_count": 89,
   "id": "03a4b325-0365-4539-9c45-849d93e23337",
   "metadata": {},
   "outputs": [
    {
     "data": {
      "text/plain": [
       "            Df Sum Sq Mean Sq F value Pr(>F)\n",
       "first_exp    1  13.33  13.333   2.803  0.111\n",
       "Residuals   18  85.63   4.757               "
      ]
     },
     "metadata": {},
     "output_type": "display_data"
    }
   ],
   "source": [
    "res.aov <- aov(methyl_level ~ first_exp, data = exons)\n",
    "summary(res.aov)"
   ]
  },
  {
   "cell_type": "code",
   "execution_count": 90,
   "id": "cf960029-81da-4ba7-8a2d-e9a9387a7560",
   "metadata": {},
   "outputs": [
    {
     "data": {
      "text/plain": [
       "\n",
       "\tPairwise comparisons using t tests with pooled SD \n",
       "\n",
       "data:  exons$methyl_level and exons$first_exp \n",
       "\n",
       "        control\n",
       "hypoxia 0.11   \n",
       "\n",
       "P value adjustment method: BH "
      ]
     },
     "metadata": {},
     "output_type": "display_data"
    }
   ],
   "source": [
    "pairwise.t.test(exons$methyl_level, exons$first_exp, p.adjust.method = 'BH')"
   ]
  },
  {
   "cell_type": "markdown",
   "id": "11c13bef-760b-4d95-9498-e36b60d111a1",
   "metadata": {},
   "source": [
    "### ind. methylation level of CpGs\n",
    "(if already ran code once, skip to bottom and load CSV)\n",
    "\n",
    "**control control**"
   ]
  },
  {
   "cell_type": "code",
   "execution_count": 32,
   "id": "6f58586c-8711-4ff7-844f-4370df3c0baf",
   "metadata": {},
   "outputs": [
    {
     "data": {
      "text/html": [
       "<style>\n",
       ".dl-inline {width: auto; margin:0; padding: 0}\n",
       ".dl-inline>dt, .dl-inline>dd {float: none; width: auto; display: inline-block}\n",
       ".dl-inline>dt::after {content: \":\\0020\"; padding-right: .5ex}\n",
       ".dl-inline>dt:not(:first-of-type) {padding-left: .5ex}\n",
       "</style><dl class=dl-inline><dt>stop</dt><dd>14458702</dd><dt>CG_motif</dt><dd>14458702</dd><dt>WBB.WBV.W69</dt><dd>147798</dd><dt>WBG.WBG.W44</dt><dd>59287</dd><dt>WBO.WBV.W64</dt><dd>137931</dd><dt>WBV.WBO.W23</dt><dd>81789</dd><dt>WBV.WBR.W12</dt><dd>33975</dd></dl>\n"
      ],
      "text/latex": [
       "\\begin{description*}\n",
       "\\item[stop] 14458702\n",
       "\\item[CG\\textbackslash{}\\_motif] 14458702\n",
       "\\item[WBB.WBV.W69] 147798\n",
       "\\item[WBG.WBG.W44] 59287\n",
       "\\item[WBO.WBV.W64] 137931\n",
       "\\item[WBV.WBO.W23] 81789\n",
       "\\item[WBV.WBR.W12] 33975\n",
       "\\end{description*}\n"
      ],
      "text/markdown": [
       "stop\n",
       ":   14458702CG_motif\n",
       ":   14458702WBB.WBV.W69\n",
       ":   147798WBG.WBG.W44\n",
       ":   59287WBO.WBV.W64\n",
       ":   137931WBV.WBO.W23\n",
       ":   81789WBV.WBR.W12\n",
       ":   33975\n",
       "\n"
      ],
      "text/plain": [
       "       stop    CG_motif WBB.WBV.W69 WBG.WBG.W44 WBO.WBV.W64 WBV.WBO.W23 \n",
       "   14458702    14458702      147798       59287      137931       81789 \n",
       "WBV.WBR.W12 \n",
       "      33975 "
      ]
     },
     "metadata": {},
     "output_type": "display_data"
    }
   ],
   "source": [
    "# Assuming your dataframe is named 'df'\n",
    "sample_columns <- CC_multicov[, 4:ncol(CC_multicov)] # Select the sample columns\n",
    "\n",
    "# Calculate the number of rows with at least 5 for each sample\n",
    "ML_cc <- colSums(sample_columns >= 5)\n",
    "\n",
    "# Print the result\n",
    "ML_cc"
   ]
  },
  {
   "cell_type": "code",
   "execution_count": 34,
   "id": "f9838618-38a8-4c30-97d8-1b503ed24dfd",
   "metadata": {},
   "outputs": [
    {
     "data": {
      "text/html": [
       "14458702"
      ],
      "text/latex": [
       "14458702"
      ],
      "text/markdown": [
       "14458702"
      ],
      "text/plain": [
       "[1] 14458702"
      ]
     },
     "metadata": {},
     "output_type": "display_data"
    }
   ],
   "source": [
    "total_cg <- dim(CC_multicov)[1]\n",
    "total_cg"
   ]
  },
  {
   "cell_type": "code",
   "execution_count": 37,
   "id": "09c3fe65-9455-4a59-aff4-15bd990d9c78",
   "metadata": {},
   "outputs": [
    {
     "data": {
      "text/html": [
       "<table class=\"dataframe\">\n",
       "<caption>A data.frame: 5 × 3</caption>\n",
       "<thead>\n",
       "\t<tr><th scope=col>methyl_count</th><th scope=col>replicate</th><th scope=col>treatment</th></tr>\n",
       "\t<tr><th scope=col>&lt;dbl&gt;</th><th scope=col>&lt;dbl&gt;</th><th scope=col>&lt;chr&gt;</th></tr>\n",
       "</thead>\n",
       "<tbody>\n",
       "\t<tr><td>147798</td><td>1</td><td>CC</td></tr>\n",
       "\t<tr><td> 59287</td><td>2</td><td>CC</td></tr>\n",
       "\t<tr><td>137931</td><td>3</td><td>CC</td></tr>\n",
       "\t<tr><td> 81789</td><td>4</td><td>CC</td></tr>\n",
       "\t<tr><td> 33975</td><td>5</td><td>CC</td></tr>\n",
       "</tbody>\n",
       "</table>\n"
      ],
      "text/latex": [
       "A data.frame: 5 × 3\n",
       "\\begin{tabular}{lll}\n",
       " methyl\\_count & replicate & treatment\\\\\n",
       " <dbl> & <dbl> & <chr>\\\\\n",
       "\\hline\n",
       "\t 147798 & 1 & CC\\\\\n",
       "\t  59287 & 2 & CC\\\\\n",
       "\t 137931 & 3 & CC\\\\\n",
       "\t  81789 & 4 & CC\\\\\n",
       "\t  33975 & 5 & CC\\\\\n",
       "\\end{tabular}\n"
      ],
      "text/markdown": [
       "\n",
       "A data.frame: 5 × 3\n",
       "\n",
       "| methyl_count &lt;dbl&gt; | replicate &lt;dbl&gt; | treatment &lt;chr&gt; |\n",
       "|---|---|---|\n",
       "| 147798 | 1 | CC |\n",
       "|  59287 | 2 | CC |\n",
       "| 137931 | 3 | CC |\n",
       "|  81789 | 4 | CC |\n",
       "|  33975 | 5 | CC |\n",
       "\n"
      ],
      "text/plain": [
       "  methyl_count replicate treatment\n",
       "1 147798       1         CC       \n",
       "2  59287       2         CC       \n",
       "3 137931       3         CC       \n",
       "4  81789       4         CC       \n",
       "5  33975       5         CC       "
      ]
     },
     "metadata": {},
     "output_type": "display_data"
    }
   ],
   "source": [
    "# create dataframe \n",
    "CCml_cpg <- as.data.frame(ML_cc)\n",
    "\n",
    "CCml_cpg <- as.data.frame(CCml_cpg[3:7,])\n",
    "\n",
    "# assign replicate #'s\n",
    "CCml_cpg$replicate <- c(1,2,3,4,5)\n",
    "\n",
    "# rename columns\n",
    "colnames(CCml_cpg) <- c('methyl_count', 'replicate')\n",
    "\n",
    "# reset rownames\n",
    "rownames(CCml_cpg) <- NULL\n",
    "\n",
    "# add treatment\n",
    "CCml_cpg$treatment <- 'CC'\n",
    "\n",
    "CCml_cpg"
   ]
  },
  {
   "cell_type": "code",
   "execution_count": 38,
   "id": "1153ade5-5572-49d9-b4f2-a5e607e8bb43",
   "metadata": {},
   "outputs": [
    {
     "data": {
      "text/html": [
       "<table class=\"dataframe\">\n",
       "<caption>A data.frame: 5 × 4</caption>\n",
       "<thead>\n",
       "\t<tr><th scope=col>treatment</th><th scope=col>replicate</th><th scope=col>methyl_count</th><th scope=col>methyl_level</th></tr>\n",
       "\t<tr><th scope=col>&lt;chr&gt;</th><th scope=col>&lt;dbl&gt;</th><th scope=col>&lt;dbl&gt;</th><th scope=col>&lt;dbl&gt;</th></tr>\n",
       "</thead>\n",
       "<tbody>\n",
       "\t<tr><td>CC</td><td>1</td><td>147798</td><td>1.02</td></tr>\n",
       "\t<tr><td>CC</td><td>2</td><td> 59287</td><td>0.41</td></tr>\n",
       "\t<tr><td>CC</td><td>3</td><td>137931</td><td>0.95</td></tr>\n",
       "\t<tr><td>CC</td><td>4</td><td> 81789</td><td>0.57</td></tr>\n",
       "\t<tr><td>CC</td><td>5</td><td> 33975</td><td>0.23</td></tr>\n",
       "</tbody>\n",
       "</table>\n"
      ],
      "text/latex": [
       "A data.frame: 5 × 4\n",
       "\\begin{tabular}{llll}\n",
       " treatment & replicate & methyl\\_count & methyl\\_level\\\\\n",
       " <chr> & <dbl> & <dbl> & <dbl>\\\\\n",
       "\\hline\n",
       "\t CC & 1 & 147798 & 1.02\\\\\n",
       "\t CC & 2 &  59287 & 0.41\\\\\n",
       "\t CC & 3 & 137931 & 0.95\\\\\n",
       "\t CC & 4 &  81789 & 0.57\\\\\n",
       "\t CC & 5 &  33975 & 0.23\\\\\n",
       "\\end{tabular}\n"
      ],
      "text/markdown": [
       "\n",
       "A data.frame: 5 × 4\n",
       "\n",
       "| treatment &lt;chr&gt; | replicate &lt;dbl&gt; | methyl_count &lt;dbl&gt; | methyl_level &lt;dbl&gt; |\n",
       "|---|---|---|---|\n",
       "| CC | 1 | 147798 | 1.02 |\n",
       "| CC | 2 |  59287 | 0.41 |\n",
       "| CC | 3 | 137931 | 0.95 |\n",
       "| CC | 4 |  81789 | 0.57 |\n",
       "| CC | 5 |  33975 | 0.23 |\n",
       "\n"
      ],
      "text/plain": [
       "  treatment replicate methyl_count methyl_level\n",
       "1 CC        1         147798       1.02        \n",
       "2 CC        2          59287       0.41        \n",
       "3 CC        3         137931       0.95        \n",
       "4 CC        4          81789       0.57        \n",
       "5 CC        5          33975       0.23        "
      ]
     },
     "metadata": {},
     "output_type": "display_data"
    }
   ],
   "source": [
    "# calculate methylation level\n",
    "CCml_cpg$methyl_level <- round(((CCml_cpg$methyl_count/total_cg)*100),2)\n",
    "\n",
    "# reorder columns to make sense\n",
    "CCml_cpg <- select(CCml_cpg, treatment, replicate, methyl_count, methyl_level)\n",
    "\n",
    "CCml_cpg"
   ]
  },
  {
   "cell_type": "markdown",
   "id": "91eafe01-5129-4d5a-9ec0-075a26860b3f",
   "metadata": {},
   "source": [
    "**control hypoxic**"
   ]
  },
  {
   "cell_type": "code",
   "execution_count": 39,
   "id": "de2b7148-bc42-4da8-b9de-359edf365bd6",
   "metadata": {},
   "outputs": [
    {
     "data": {
      "text/html": [
       "<style>\n",
       ".dl-inline {width: auto; margin:0; padding: 0}\n",
       ".dl-inline>dt, .dl-inline>dd {float: none; width: auto; display: inline-block}\n",
       ".dl-inline>dt::after {content: \":\\0020\"; padding-right: .5ex}\n",
       ".dl-inline>dt:not(:first-of-type) {padding-left: .5ex}\n",
       "</style><dl class=dl-inline><dt>stop</dt><dd>14458702</dd><dt>CG_motif</dt><dd>14458702</dd><dt>WBG.BBB.W56</dt><dd>140077</dd><dt>WBO.BBR.W03</dt><dd>24101</dd><dt>WBR.BBY.W25</dt><dd>73538</dd><dt>WBY.BBV.W65</dt><dd>136233</dd><dt>WBY.BBY.W30</dt><dd>104170</dd></dl>\n"
      ],
      "text/latex": [
       "\\begin{description*}\n",
       "\\item[stop] 14458702\n",
       "\\item[CG\\textbackslash{}\\_motif] 14458702\n",
       "\\item[WBG.BBB.W56] 140077\n",
       "\\item[WBO.BBR.W03] 24101\n",
       "\\item[WBR.BBY.W25] 73538\n",
       "\\item[WBY.BBV.W65] 136233\n",
       "\\item[WBY.BBY.W30] 104170\n",
       "\\end{description*}\n"
      ],
      "text/markdown": [
       "stop\n",
       ":   14458702CG_motif\n",
       ":   14458702WBG.BBB.W56\n",
       ":   140077WBO.BBR.W03\n",
       ":   24101WBR.BBY.W25\n",
       ":   73538WBY.BBV.W65\n",
       ":   136233WBY.BBY.W30\n",
       ":   104170\n",
       "\n"
      ],
      "text/plain": [
       "       stop    CG_motif WBG.BBB.W56 WBO.BBR.W03 WBR.BBY.W25 WBY.BBV.W65 \n",
       "   14458702    14458702      140077       24101       73538      136233 \n",
       "WBY.BBY.W30 \n",
       "     104170 "
      ]
     },
     "metadata": {},
     "output_type": "display_data"
    }
   ],
   "source": [
    "# Assuming your dataframe is named 'df'\n",
    "sample_columns <- CH_multicov[, 4:ncol(CH_multicov)] # Select the sample columns\n",
    "\n",
    "# Calculate the number of rows with at least 5 for each sample\n",
    "ML_ch <- colSums(sample_columns >= 5)\n",
    "\n",
    "# Print the result\n",
    "ML_ch"
   ]
  },
  {
   "cell_type": "code",
   "execution_count": 40,
   "id": "4473f542-d936-4331-9940-4c0d8001ebe3",
   "metadata": {},
   "outputs": [
    {
     "data": {
      "text/html": [
       "<table class=\"dataframe\">\n",
       "<caption>A data.frame: 5 × 3</caption>\n",
       "<thead>\n",
       "\t<tr><th scope=col>methyl_count</th><th scope=col>replicate</th><th scope=col>treatment</th></tr>\n",
       "\t<tr><th scope=col>&lt;dbl&gt;</th><th scope=col>&lt;dbl&gt;</th><th scope=col>&lt;chr&gt;</th></tr>\n",
       "</thead>\n",
       "<tbody>\n",
       "\t<tr><td>140077</td><td>1</td><td>CH</td></tr>\n",
       "\t<tr><td> 24101</td><td>2</td><td>CH</td></tr>\n",
       "\t<tr><td> 73538</td><td>3</td><td>CH</td></tr>\n",
       "\t<tr><td>136233</td><td>4</td><td>CH</td></tr>\n",
       "\t<tr><td>104170</td><td>5</td><td>CH</td></tr>\n",
       "</tbody>\n",
       "</table>\n"
      ],
      "text/latex": [
       "A data.frame: 5 × 3\n",
       "\\begin{tabular}{lll}\n",
       " methyl\\_count & replicate & treatment\\\\\n",
       " <dbl> & <dbl> & <chr>\\\\\n",
       "\\hline\n",
       "\t 140077 & 1 & CH\\\\\n",
       "\t  24101 & 2 & CH\\\\\n",
       "\t  73538 & 3 & CH\\\\\n",
       "\t 136233 & 4 & CH\\\\\n",
       "\t 104170 & 5 & CH\\\\\n",
       "\\end{tabular}\n"
      ],
      "text/markdown": [
       "\n",
       "A data.frame: 5 × 3\n",
       "\n",
       "| methyl_count &lt;dbl&gt; | replicate &lt;dbl&gt; | treatment &lt;chr&gt; |\n",
       "|---|---|---|\n",
       "| 140077 | 1 | CH |\n",
       "|  24101 | 2 | CH |\n",
       "|  73538 | 3 | CH |\n",
       "| 136233 | 4 | CH |\n",
       "| 104170 | 5 | CH |\n",
       "\n"
      ],
      "text/plain": [
       "  methyl_count replicate treatment\n",
       "1 140077       1         CH       \n",
       "2  24101       2         CH       \n",
       "3  73538       3         CH       \n",
       "4 136233       4         CH       \n",
       "5 104170       5         CH       "
      ]
     },
     "metadata": {},
     "output_type": "display_data"
    }
   ],
   "source": [
    "# create dataframe \n",
    "CHml_cg <- as.data.frame(ML_ch)\n",
    "CHml_cg <- as.data.frame(CHml_cg[3:7,])\n",
    "\n",
    "# assign replicate #'s\n",
    "CHml_cg$replicate <- c(1,2,3,4,5)\n",
    "\n",
    "# rename columns\n",
    "colnames(CHml_cg) <- c('methyl_count', 'replicate')\n",
    "\n",
    "# reset rownames\n",
    "rownames(CHml_cg) <- NULL\n",
    "\n",
    "# add treatment\n",
    "CHml_cg$treatment <- 'CH'\n",
    "\n",
    "CHml_cg"
   ]
  },
  {
   "cell_type": "code",
   "execution_count": 41,
   "id": "860a9600-443f-435d-bab9-37f96f7faec8",
   "metadata": {},
   "outputs": [
    {
     "data": {
      "text/html": [
       "<table class=\"dataframe\">\n",
       "<caption>A data.frame: 5 × 4</caption>\n",
       "<thead>\n",
       "\t<tr><th scope=col>treatment</th><th scope=col>replicate</th><th scope=col>methyl_count</th><th scope=col>methyl_level</th></tr>\n",
       "\t<tr><th scope=col>&lt;chr&gt;</th><th scope=col>&lt;dbl&gt;</th><th scope=col>&lt;dbl&gt;</th><th scope=col>&lt;dbl&gt;</th></tr>\n",
       "</thead>\n",
       "<tbody>\n",
       "\t<tr><td>CH</td><td>1</td><td>140077</td><td>0.97</td></tr>\n",
       "\t<tr><td>CH</td><td>2</td><td> 24101</td><td>0.17</td></tr>\n",
       "\t<tr><td>CH</td><td>3</td><td> 73538</td><td>0.51</td></tr>\n",
       "\t<tr><td>CH</td><td>4</td><td>136233</td><td>0.94</td></tr>\n",
       "\t<tr><td>CH</td><td>5</td><td>104170</td><td>0.72</td></tr>\n",
       "</tbody>\n",
       "</table>\n"
      ],
      "text/latex": [
       "A data.frame: 5 × 4\n",
       "\\begin{tabular}{llll}\n",
       " treatment & replicate & methyl\\_count & methyl\\_level\\\\\n",
       " <chr> & <dbl> & <dbl> & <dbl>\\\\\n",
       "\\hline\n",
       "\t CH & 1 & 140077 & 0.97\\\\\n",
       "\t CH & 2 &  24101 & 0.17\\\\\n",
       "\t CH & 3 &  73538 & 0.51\\\\\n",
       "\t CH & 4 & 136233 & 0.94\\\\\n",
       "\t CH & 5 & 104170 & 0.72\\\\\n",
       "\\end{tabular}\n"
      ],
      "text/markdown": [
       "\n",
       "A data.frame: 5 × 4\n",
       "\n",
       "| treatment &lt;chr&gt; | replicate &lt;dbl&gt; | methyl_count &lt;dbl&gt; | methyl_level &lt;dbl&gt; |\n",
       "|---|---|---|---|\n",
       "| CH | 1 | 140077 | 0.97 |\n",
       "| CH | 2 |  24101 | 0.17 |\n",
       "| CH | 3 |  73538 | 0.51 |\n",
       "| CH | 4 | 136233 | 0.94 |\n",
       "| CH | 5 | 104170 | 0.72 |\n",
       "\n"
      ],
      "text/plain": [
       "  treatment replicate methyl_count methyl_level\n",
       "1 CH        1         140077       0.97        \n",
       "2 CH        2          24101       0.17        \n",
       "3 CH        3          73538       0.51        \n",
       "4 CH        4         136233       0.94        \n",
       "5 CH        5         104170       0.72        "
      ]
     },
     "metadata": {},
     "output_type": "display_data"
    }
   ],
   "source": [
    "# calculate methylation level\n",
    "CHml_cg$methyl_level <- round(((CHml_cg$methyl_count/total_cg)*100),2)\n",
    "\n",
    "# reorder columns to make sense\n",
    "CHml_cg <- select(CHml_cg, treatment, replicate, methyl_count, methyl_level)\n",
    "\n",
    "CHml_cg"
   ]
  },
  {
   "cell_type": "markdown",
   "id": "a7704876-0359-403d-a947-5f59c30ecb3b",
   "metadata": {},
   "source": [
    "**hypoxic hypoxic**"
   ]
  },
  {
   "cell_type": "code",
   "execution_count": 42,
   "id": "6a4f60ab-b2f3-420f-b664-a150dc7c8bea",
   "metadata": {},
   "outputs": [
    {
     "data": {
      "text/html": [
       "<style>\n",
       ".dl-inline {width: auto; margin:0; padding: 0}\n",
       ".dl-inline>dt, .dl-inline>dd {float: none; width: auto; display: inline-block}\n",
       ".dl-inline>dt::after {content: \":\\0020\"; padding-right: .5ex}\n",
       ".dl-inline>dt:not(:first-of-type) {padding-left: .5ex}\n",
       "</style><dl class=dl-inline><dt>stop</dt><dd>14458702</dd><dt>CG_motif</dt><dd>14458702</dd><dt>BBO.BBO.B16</dt><dd>132674</dd><dt>BBO.BBY.B27</dt><dd>105032</dd><dt>BBR.BBB.B50</dt><dd>104681</dd><dt>BBR.BBG.B38</dt><dd>134384</dd><dt>BBR.BBY.B26</dt><dd>129732</dd></dl>\n"
      ],
      "text/latex": [
       "\\begin{description*}\n",
       "\\item[stop] 14458702\n",
       "\\item[CG\\textbackslash{}\\_motif] 14458702\n",
       "\\item[BBO.BBO.B16] 132674\n",
       "\\item[BBO.BBY.B27] 105032\n",
       "\\item[BBR.BBB.B50] 104681\n",
       "\\item[BBR.BBG.B38] 134384\n",
       "\\item[BBR.BBY.B26] 129732\n",
       "\\end{description*}\n"
      ],
      "text/markdown": [
       "stop\n",
       ":   14458702CG_motif\n",
       ":   14458702BBO.BBO.B16\n",
       ":   132674BBO.BBY.B27\n",
       ":   105032BBR.BBB.B50\n",
       ":   104681BBR.BBG.B38\n",
       ":   134384BBR.BBY.B26\n",
       ":   129732\n",
       "\n"
      ],
      "text/plain": [
       "       stop    CG_motif BBO.BBO.B16 BBO.BBY.B27 BBR.BBB.B50 BBR.BBG.B38 \n",
       "   14458702    14458702      132674      105032      104681      134384 \n",
       "BBR.BBY.B26 \n",
       "     129732 "
      ]
     },
     "metadata": {},
     "output_type": "display_data"
    }
   ],
   "source": [
    "# Assuming your dataframe is named 'df'\n",
    "sample_columns <- HH_multicov[, 4:ncol(HH_multicov)] # Select the sample columns\n",
    "\n",
    "# Calculate the number of rows with at least 5 for each sample\n",
    "ML_hh <- colSums(sample_columns >= 5)\n",
    "\n",
    "# Print the result\n",
    "ML_hh"
   ]
  },
  {
   "cell_type": "code",
   "execution_count": 43,
   "id": "f226d6c7-9e52-4ef6-8bd7-13e7f901cab1",
   "metadata": {},
   "outputs": [
    {
     "data": {
      "text/html": [
       "<table class=\"dataframe\">\n",
       "<caption>A data.frame: 5 × 3</caption>\n",
       "<thead>\n",
       "\t<tr><th scope=col>methyl_count</th><th scope=col>replicate</th><th scope=col>treatment</th></tr>\n",
       "\t<tr><th scope=col>&lt;dbl&gt;</th><th scope=col>&lt;dbl&gt;</th><th scope=col>&lt;chr&gt;</th></tr>\n",
       "</thead>\n",
       "<tbody>\n",
       "\t<tr><td>132674</td><td>1</td><td>HH</td></tr>\n",
       "\t<tr><td>105032</td><td>2</td><td>HH</td></tr>\n",
       "\t<tr><td>104681</td><td>3</td><td>HH</td></tr>\n",
       "\t<tr><td>134384</td><td>4</td><td>HH</td></tr>\n",
       "\t<tr><td>129732</td><td>5</td><td>HH</td></tr>\n",
       "</tbody>\n",
       "</table>\n"
      ],
      "text/latex": [
       "A data.frame: 5 × 3\n",
       "\\begin{tabular}{lll}\n",
       " methyl\\_count & replicate & treatment\\\\\n",
       " <dbl> & <dbl> & <chr>\\\\\n",
       "\\hline\n",
       "\t 132674 & 1 & HH\\\\\n",
       "\t 105032 & 2 & HH\\\\\n",
       "\t 104681 & 3 & HH\\\\\n",
       "\t 134384 & 4 & HH\\\\\n",
       "\t 129732 & 5 & HH\\\\\n",
       "\\end{tabular}\n"
      ],
      "text/markdown": [
       "\n",
       "A data.frame: 5 × 3\n",
       "\n",
       "| methyl_count &lt;dbl&gt; | replicate &lt;dbl&gt; | treatment &lt;chr&gt; |\n",
       "|---|---|---|\n",
       "| 132674 | 1 | HH |\n",
       "| 105032 | 2 | HH |\n",
       "| 104681 | 3 | HH |\n",
       "| 134384 | 4 | HH |\n",
       "| 129732 | 5 | HH |\n",
       "\n"
      ],
      "text/plain": [
       "  methyl_count replicate treatment\n",
       "1 132674       1         HH       \n",
       "2 105032       2         HH       \n",
       "3 104681       3         HH       \n",
       "4 134384       4         HH       \n",
       "5 129732       5         HH       "
      ]
     },
     "metadata": {},
     "output_type": "display_data"
    }
   ],
   "source": [
    "# create dataframe \n",
    "HH_multicov <- as.data.frame(ML_hh)\n",
    "HH_multicov <- as.data.frame(HH_multicov[3:7,])\n",
    "\n",
    "# assign replicate #'s\n",
    "HH_multicov$replicate <- c(1,2,3,4,5)\n",
    "\n",
    "# rename columns\n",
    "colnames(HH_multicov) <- c('methyl_count', 'replicate')\n",
    "\n",
    "# reset rownames\n",
    "rownames(HH_multicov) <- NULL\n",
    "\n",
    "# add treatment\n",
    "HH_multicov$treatment <- 'HH'\n",
    "\n",
    "HH_multicov"
   ]
  },
  {
   "cell_type": "code",
   "execution_count": 44,
   "id": "fb5651f9-e606-4fd2-b85a-36541aada564",
   "metadata": {},
   "outputs": [
    {
     "data": {
      "text/html": [
       "<table class=\"dataframe\">\n",
       "<caption>A data.frame: 5 × 4</caption>\n",
       "<thead>\n",
       "\t<tr><th scope=col>treatment</th><th scope=col>replicate</th><th scope=col>methyl_count</th><th scope=col>methyl_level</th></tr>\n",
       "\t<tr><th scope=col>&lt;chr&gt;</th><th scope=col>&lt;dbl&gt;</th><th scope=col>&lt;dbl&gt;</th><th scope=col>&lt;dbl&gt;</th></tr>\n",
       "</thead>\n",
       "<tbody>\n",
       "\t<tr><td>HH</td><td>1</td><td>132674</td><td>0.92</td></tr>\n",
       "\t<tr><td>HH</td><td>2</td><td>105032</td><td>0.73</td></tr>\n",
       "\t<tr><td>HH</td><td>3</td><td>104681</td><td>0.72</td></tr>\n",
       "\t<tr><td>HH</td><td>4</td><td>134384</td><td>0.93</td></tr>\n",
       "\t<tr><td>HH</td><td>5</td><td>129732</td><td>0.90</td></tr>\n",
       "</tbody>\n",
       "</table>\n"
      ],
      "text/latex": [
       "A data.frame: 5 × 4\n",
       "\\begin{tabular}{llll}\n",
       " treatment & replicate & methyl\\_count & methyl\\_level\\\\\n",
       " <chr> & <dbl> & <dbl> & <dbl>\\\\\n",
       "\\hline\n",
       "\t HH & 1 & 132674 & 0.92\\\\\n",
       "\t HH & 2 & 105032 & 0.73\\\\\n",
       "\t HH & 3 & 104681 & 0.72\\\\\n",
       "\t HH & 4 & 134384 & 0.93\\\\\n",
       "\t HH & 5 & 129732 & 0.90\\\\\n",
       "\\end{tabular}\n"
      ],
      "text/markdown": [
       "\n",
       "A data.frame: 5 × 4\n",
       "\n",
       "| treatment &lt;chr&gt; | replicate &lt;dbl&gt; | methyl_count &lt;dbl&gt; | methyl_level &lt;dbl&gt; |\n",
       "|---|---|---|---|\n",
       "| HH | 1 | 132674 | 0.92 |\n",
       "| HH | 2 | 105032 | 0.73 |\n",
       "| HH | 3 | 104681 | 0.72 |\n",
       "| HH | 4 | 134384 | 0.93 |\n",
       "| HH | 5 | 129732 | 0.90 |\n",
       "\n"
      ],
      "text/plain": [
       "  treatment replicate methyl_count methyl_level\n",
       "1 HH        1         132674       0.92        \n",
       "2 HH        2         105032       0.73        \n",
       "3 HH        3         104681       0.72        \n",
       "4 HH        4         134384       0.93        \n",
       "5 HH        5         129732       0.90        "
      ]
     },
     "metadata": {},
     "output_type": "display_data"
    }
   ],
   "source": [
    "# calculate methylation level\n",
    "HH_multicov$methyl_level <- round(((HH_multicov$methyl_count/total_cg)*100),2)\n",
    "\n",
    "# reorder columns to make sense\n",
    "HH_multicov <- select(HH_multicov, treatment, replicate, methyl_count, methyl_level)\n",
    "\n",
    "HH_multicov"
   ]
  },
  {
   "cell_type": "markdown",
   "id": "1563219f-0d74-4387-a2d8-8d44ba25c5b5",
   "metadata": {},
   "source": [
    "**hypoxic control**"
   ]
  },
  {
   "cell_type": "code",
   "execution_count": 45,
   "id": "81b91d04-c849-45c6-80f1-42405f1375a4",
   "metadata": {},
   "outputs": [
    {
     "data": {
      "text/html": [
       "<style>\n",
       ".dl-inline {width: auto; margin:0; padding: 0}\n",
       ".dl-inline>dt, .dl-inline>dd {float: none; width: auto; display: inline-block}\n",
       ".dl-inline>dt::after {content: \":\\0020\"; padding-right: .5ex}\n",
       ".dl-inline>dt:not(:first-of-type) {padding-left: .5ex}\n",
       "</style><dl class=dl-inline><dt>stop</dt><dd>14458702</dd><dt>CG_motif</dt><dd>14458702</dd><dt>BBB.WBO.B21</dt><dd>138394</dd><dt>BBB.WBV.B70</dt><dd>136261</dd><dt>BBO.WBO.B16</dt><dd>149013</dd><dt>BBO.WBV.B64</dt><dd>136293</dd><dt>BBY.WBG.B42</dt><dd>67842</dd></dl>\n"
      ],
      "text/latex": [
       "\\begin{description*}\n",
       "\\item[stop] 14458702\n",
       "\\item[CG\\textbackslash{}\\_motif] 14458702\n",
       "\\item[BBB.WBO.B21] 138394\n",
       "\\item[BBB.WBV.B70] 136261\n",
       "\\item[BBO.WBO.B16] 149013\n",
       "\\item[BBO.WBV.B64] 136293\n",
       "\\item[BBY.WBG.B42] 67842\n",
       "\\end{description*}\n"
      ],
      "text/markdown": [
       "stop\n",
       ":   14458702CG_motif\n",
       ":   14458702BBB.WBO.B21\n",
       ":   138394BBB.WBV.B70\n",
       ":   136261BBO.WBO.B16\n",
       ":   149013BBO.WBV.B64\n",
       ":   136293BBY.WBG.B42\n",
       ":   67842\n",
       "\n"
      ],
      "text/plain": [
       "       stop    CG_motif BBB.WBO.B21 BBB.WBV.B70 BBO.WBO.B16 BBO.WBV.B64 \n",
       "   14458702    14458702      138394      136261      149013      136293 \n",
       "BBY.WBG.B42 \n",
       "      67842 "
      ]
     },
     "metadata": {},
     "output_type": "display_data"
    }
   ],
   "source": [
    "# Assuming your dataframe is named 'df'\n",
    "sample_columns <- HC_multicov[, 4:ncol(HC_multicov)] # Select the sample columns\n",
    "\n",
    "# Calculate the number of rows with at least 5 for each sample\n",
    "ML_hc <- colSums(sample_columns >= 5)\n",
    "\n",
    "# Print the result\n",
    "ML_hc"
   ]
  },
  {
   "cell_type": "code",
   "execution_count": 46,
   "id": "2bca8489-8684-4f5a-a52c-2f8373b4ca4d",
   "metadata": {},
   "outputs": [
    {
     "data": {
      "text/html": [
       "<table class=\"dataframe\">\n",
       "<caption>A data.frame: 5 × 3</caption>\n",
       "<thead>\n",
       "\t<tr><th scope=col>methyl_count</th><th scope=col>replicate</th><th scope=col>treatment</th></tr>\n",
       "\t<tr><th scope=col>&lt;dbl&gt;</th><th scope=col>&lt;dbl&gt;</th><th scope=col>&lt;chr&gt;</th></tr>\n",
       "</thead>\n",
       "<tbody>\n",
       "\t<tr><td>138394</td><td>1</td><td>HC</td></tr>\n",
       "\t<tr><td>136261</td><td>2</td><td>HC</td></tr>\n",
       "\t<tr><td>149013</td><td>3</td><td>HC</td></tr>\n",
       "\t<tr><td>136293</td><td>4</td><td>HC</td></tr>\n",
       "\t<tr><td> 67842</td><td>5</td><td>HC</td></tr>\n",
       "</tbody>\n",
       "</table>\n"
      ],
      "text/latex": [
       "A data.frame: 5 × 3\n",
       "\\begin{tabular}{lll}\n",
       " methyl\\_count & replicate & treatment\\\\\n",
       " <dbl> & <dbl> & <chr>\\\\\n",
       "\\hline\n",
       "\t 138394 & 1 & HC\\\\\n",
       "\t 136261 & 2 & HC\\\\\n",
       "\t 149013 & 3 & HC\\\\\n",
       "\t 136293 & 4 & HC\\\\\n",
       "\t  67842 & 5 & HC\\\\\n",
       "\\end{tabular}\n"
      ],
      "text/markdown": [
       "\n",
       "A data.frame: 5 × 3\n",
       "\n",
       "| methyl_count &lt;dbl&gt; | replicate &lt;dbl&gt; | treatment &lt;chr&gt; |\n",
       "|---|---|---|\n",
       "| 138394 | 1 | HC |\n",
       "| 136261 | 2 | HC |\n",
       "| 149013 | 3 | HC |\n",
       "| 136293 | 4 | HC |\n",
       "|  67842 | 5 | HC |\n",
       "\n"
      ],
      "text/plain": [
       "  methyl_count replicate treatment\n",
       "1 138394       1         HC       \n",
       "2 136261       2         HC       \n",
       "3 149013       3         HC       \n",
       "4 136293       4         HC       \n",
       "5  67842       5         HC       "
      ]
     },
     "metadata": {},
     "output_type": "display_data"
    }
   ],
   "source": [
    "# create dataframe \n",
    "HCml_cg <- as.data.frame(ML_hc)\n",
    "HCml_cg <- as.data.frame(HCml_cg[3:7,])\n",
    "\n",
    "# assign replicate #'s\n",
    "HCml_cg$replicate <- c(1,2,3,4,5)\n",
    "\n",
    "# rename columns\n",
    "colnames(HCml_cg) <- c('methyl_count', 'replicate')\n",
    "\n",
    "# reset rownames\n",
    "rownames(HCml_cg) <- NULL\n",
    "\n",
    "# add treatment\n",
    "HCml_cg$treatment <- 'HC'\n",
    "\n",
    "HCml_cg"
   ]
  },
  {
   "cell_type": "code",
   "execution_count": 47,
   "id": "e44a1e7e-c3cd-4a84-9f29-a1df4faa965b",
   "metadata": {},
   "outputs": [
    {
     "data": {
      "text/html": [
       "<table class=\"dataframe\">\n",
       "<caption>A data.frame: 5 × 4</caption>\n",
       "<thead>\n",
       "\t<tr><th scope=col>treatment</th><th scope=col>replicate</th><th scope=col>methyl_count</th><th scope=col>methyl_level</th></tr>\n",
       "\t<tr><th scope=col>&lt;chr&gt;</th><th scope=col>&lt;dbl&gt;</th><th scope=col>&lt;dbl&gt;</th><th scope=col>&lt;dbl&gt;</th></tr>\n",
       "</thead>\n",
       "<tbody>\n",
       "\t<tr><td>HC</td><td>1</td><td>138394</td><td>0.96</td></tr>\n",
       "\t<tr><td>HC</td><td>2</td><td>136261</td><td>0.94</td></tr>\n",
       "\t<tr><td>HC</td><td>3</td><td>149013</td><td>1.03</td></tr>\n",
       "\t<tr><td>HC</td><td>4</td><td>136293</td><td>0.94</td></tr>\n",
       "\t<tr><td>HC</td><td>5</td><td> 67842</td><td>0.47</td></tr>\n",
       "</tbody>\n",
       "</table>\n"
      ],
      "text/latex": [
       "A data.frame: 5 × 4\n",
       "\\begin{tabular}{llll}\n",
       " treatment & replicate & methyl\\_count & methyl\\_level\\\\\n",
       " <chr> & <dbl> & <dbl> & <dbl>\\\\\n",
       "\\hline\n",
       "\t HC & 1 & 138394 & 0.96\\\\\n",
       "\t HC & 2 & 136261 & 0.94\\\\\n",
       "\t HC & 3 & 149013 & 1.03\\\\\n",
       "\t HC & 4 & 136293 & 0.94\\\\\n",
       "\t HC & 5 &  67842 & 0.47\\\\\n",
       "\\end{tabular}\n"
      ],
      "text/markdown": [
       "\n",
       "A data.frame: 5 × 4\n",
       "\n",
       "| treatment &lt;chr&gt; | replicate &lt;dbl&gt; | methyl_count &lt;dbl&gt; | methyl_level &lt;dbl&gt; |\n",
       "|---|---|---|---|\n",
       "| HC | 1 | 138394 | 0.96 |\n",
       "| HC | 2 | 136261 | 0.94 |\n",
       "| HC | 3 | 149013 | 1.03 |\n",
       "| HC | 4 | 136293 | 0.94 |\n",
       "| HC | 5 |  67842 | 0.47 |\n",
       "\n"
      ],
      "text/plain": [
       "  treatment replicate methyl_count methyl_level\n",
       "1 HC        1         138394       0.96        \n",
       "2 HC        2         136261       0.94        \n",
       "3 HC        3         149013       1.03        \n",
       "4 HC        4         136293       0.94        \n",
       "5 HC        5          67842       0.47        "
      ]
     },
     "metadata": {},
     "output_type": "display_data"
    }
   ],
   "source": [
    "# calculate methylation level\n",
    "HCml_cg$methyl_level <- round(((HCml_cg$methyl_count/total_cg)*100),2)\n",
    "\n",
    "# reorder columns to make sense\n",
    "HCml_cg <- select(HCml_cg, treatment, replicate, methyl_count, methyl_level)\n",
    "\n",
    "HCml_cg"
   ]
  },
  {
   "cell_type": "code",
   "execution_count": 48,
   "id": "2fea14d3-7649-4923-a03b-e6f258614b5b",
   "metadata": {},
   "outputs": [
    {
     "data": {
      "text/html": [
       "<table class=\"dataframe\">\n",
       "<caption>A data.frame: 20 × 4</caption>\n",
       "<thead>\n",
       "\t<tr><th scope=col>treatment</th><th scope=col>replicate</th><th scope=col>methyl_count</th><th scope=col>methyl_level</th></tr>\n",
       "\t<tr><th scope=col>&lt;chr&gt;</th><th scope=col>&lt;dbl&gt;</th><th scope=col>&lt;dbl&gt;</th><th scope=col>&lt;dbl&gt;</th></tr>\n",
       "</thead>\n",
       "<tbody>\n",
       "\t<tr><td>CC</td><td>1</td><td>147798</td><td>1.02</td></tr>\n",
       "\t<tr><td>CC</td><td>2</td><td> 59287</td><td>0.41</td></tr>\n",
       "\t<tr><td>CC</td><td>3</td><td>137931</td><td>0.95</td></tr>\n",
       "\t<tr><td>CC</td><td>4</td><td> 81789</td><td>0.57</td></tr>\n",
       "\t<tr><td>CC</td><td>5</td><td> 33975</td><td>0.23</td></tr>\n",
       "\t<tr><td>CH</td><td>1</td><td>140077</td><td>0.97</td></tr>\n",
       "\t<tr><td>CH</td><td>2</td><td> 24101</td><td>0.17</td></tr>\n",
       "\t<tr><td>CH</td><td>3</td><td> 73538</td><td>0.51</td></tr>\n",
       "\t<tr><td>CH</td><td>4</td><td>136233</td><td>0.94</td></tr>\n",
       "\t<tr><td>CH</td><td>5</td><td>104170</td><td>0.72</td></tr>\n",
       "\t<tr><td>HC</td><td>1</td><td>138394</td><td>0.96</td></tr>\n",
       "\t<tr><td>HC</td><td>2</td><td>136261</td><td>0.94</td></tr>\n",
       "\t<tr><td>HC</td><td>3</td><td>149013</td><td>1.03</td></tr>\n",
       "\t<tr><td>HC</td><td>4</td><td>136293</td><td>0.94</td></tr>\n",
       "\t<tr><td>HC</td><td>5</td><td> 67842</td><td>0.47</td></tr>\n",
       "\t<tr><td>HH</td><td>1</td><td>132674</td><td>0.92</td></tr>\n",
       "\t<tr><td>HH</td><td>2</td><td>105032</td><td>0.73</td></tr>\n",
       "\t<tr><td>HH</td><td>3</td><td>104681</td><td>0.72</td></tr>\n",
       "\t<tr><td>HH</td><td>4</td><td>134384</td><td>0.93</td></tr>\n",
       "\t<tr><td>HH</td><td>5</td><td>129732</td><td>0.90</td></tr>\n",
       "</tbody>\n",
       "</table>\n"
      ],
      "text/latex": [
       "A data.frame: 20 × 4\n",
       "\\begin{tabular}{llll}\n",
       " treatment & replicate & methyl\\_count & methyl\\_level\\\\\n",
       " <chr> & <dbl> & <dbl> & <dbl>\\\\\n",
       "\\hline\n",
       "\t CC & 1 & 147798 & 1.02\\\\\n",
       "\t CC & 2 &  59287 & 0.41\\\\\n",
       "\t CC & 3 & 137931 & 0.95\\\\\n",
       "\t CC & 4 &  81789 & 0.57\\\\\n",
       "\t CC & 5 &  33975 & 0.23\\\\\n",
       "\t CH & 1 & 140077 & 0.97\\\\\n",
       "\t CH & 2 &  24101 & 0.17\\\\\n",
       "\t CH & 3 &  73538 & 0.51\\\\\n",
       "\t CH & 4 & 136233 & 0.94\\\\\n",
       "\t CH & 5 & 104170 & 0.72\\\\\n",
       "\t HC & 1 & 138394 & 0.96\\\\\n",
       "\t HC & 2 & 136261 & 0.94\\\\\n",
       "\t HC & 3 & 149013 & 1.03\\\\\n",
       "\t HC & 4 & 136293 & 0.94\\\\\n",
       "\t HC & 5 &  67842 & 0.47\\\\\n",
       "\t HH & 1 & 132674 & 0.92\\\\\n",
       "\t HH & 2 & 105032 & 0.73\\\\\n",
       "\t HH & 3 & 104681 & 0.72\\\\\n",
       "\t HH & 4 & 134384 & 0.93\\\\\n",
       "\t HH & 5 & 129732 & 0.90\\\\\n",
       "\\end{tabular}\n"
      ],
      "text/markdown": [
       "\n",
       "A data.frame: 20 × 4\n",
       "\n",
       "| treatment &lt;chr&gt; | replicate &lt;dbl&gt; | methyl_count &lt;dbl&gt; | methyl_level &lt;dbl&gt; |\n",
       "|---|---|---|---|\n",
       "| CC | 1 | 147798 | 1.02 |\n",
       "| CC | 2 |  59287 | 0.41 |\n",
       "| CC | 3 | 137931 | 0.95 |\n",
       "| CC | 4 |  81789 | 0.57 |\n",
       "| CC | 5 |  33975 | 0.23 |\n",
       "| CH | 1 | 140077 | 0.97 |\n",
       "| CH | 2 |  24101 | 0.17 |\n",
       "| CH | 3 |  73538 | 0.51 |\n",
       "| CH | 4 | 136233 | 0.94 |\n",
       "| CH | 5 | 104170 | 0.72 |\n",
       "| HC | 1 | 138394 | 0.96 |\n",
       "| HC | 2 | 136261 | 0.94 |\n",
       "| HC | 3 | 149013 | 1.03 |\n",
       "| HC | 4 | 136293 | 0.94 |\n",
       "| HC | 5 |  67842 | 0.47 |\n",
       "| HH | 1 | 132674 | 0.92 |\n",
       "| HH | 2 | 105032 | 0.73 |\n",
       "| HH | 3 | 104681 | 0.72 |\n",
       "| HH | 4 | 134384 | 0.93 |\n",
       "| HH | 5 | 129732 | 0.90 |\n",
       "\n"
      ],
      "text/plain": [
       "   treatment replicate methyl_count methyl_level\n",
       "1  CC        1         147798       1.02        \n",
       "2  CC        2          59287       0.41        \n",
       "3  CC        3         137931       0.95        \n",
       "4  CC        4          81789       0.57        \n",
       "5  CC        5          33975       0.23        \n",
       "6  CH        1         140077       0.97        \n",
       "7  CH        2          24101       0.17        \n",
       "8  CH        3          73538       0.51        \n",
       "9  CH        4         136233       0.94        \n",
       "10 CH        5         104170       0.72        \n",
       "11 HC        1         138394       0.96        \n",
       "12 HC        2         136261       0.94        \n",
       "13 HC        3         149013       1.03        \n",
       "14 HC        4         136293       0.94        \n",
       "15 HC        5          67842       0.47        \n",
       "16 HH        1         132674       0.92        \n",
       "17 HH        2         105032       0.73        \n",
       "18 HH        3         104681       0.72        \n",
       "19 HH        4         134384       0.93        \n",
       "20 HH        5         129732       0.90        "
      ]
     },
     "metadata": {},
     "output_type": "display_data"
    }
   ],
   "source": [
    "cg_meLevel <- rbind(CCml_cpg, CHml_cg, HCml_cg, HH_multicov)\n",
    "cg_meLevel"
   ]
  },
  {
   "cell_type": "code",
   "execution_count": 49,
   "id": "7c070ad7-4126-435a-a44c-e8faa976fc6a",
   "metadata": {},
   "outputs": [],
   "source": [
    "# create csv to avoid running long code above\n",
    "write.csv(cg_meLevel, '/project/pi_sarah_gignouxwolfsohn_uml_edu/julia/CE_MethylRAD_analysis_2018/analysis/genomic_feature_tracks/methylation_level/CpG_meLevel.csv')"
   ]
  },
  {
   "cell_type": "markdown",
   "id": "fa81b227-7c7f-4dbd-91c4-c0e8717bb8ba",
   "metadata": {},
   "source": [
    "IF ALREADY RAN ABOVE CODE just load in csv:"
   ]
  },
  {
   "cell_type": "code",
   "execution_count": 4,
   "id": "efc2ffc4-c341-4832-84e4-5e16cf63e6aa",
   "metadata": {},
   "outputs": [],
   "source": [
    "cg_meLevel <- read.csv('/project/pi_sarah_gignouxwolfsohn_uml_edu/julia/CE_MethylRAD_analysis_2018/analysis/genomic_feature_tracks/methylation_level/CpG_meLevel.csv')"
   ]
  },
  {
   "cell_type": "code",
   "execution_count": 40,
   "id": "5a594ed8-5df7-496f-abb4-14bac97cb623",
   "metadata": {},
   "outputs": [
    {
     "data": {
      "image/png": "[encoded data removed]",
      "text/plain": [
       "plot without title"
      ]
     },
     "metadata": {
      "image/png": {
       "height": 420,
       "width": 420
      }
     },
     "output_type": "display_data"
    }
   ],
   "source": [
    "df_summary <- cg_meLevel %>%\n",
    "  group_by(treatment) %>%\n",
    "  summarise(\n",
    "    mean_methyl_level = mean(methyl_level),\n",
    "    sd_methyl_level = sd(methyl_level),\n",
    "    se_methyl_level = sd_methyl_level / sqrt(n())\n",
    "  )\n",
    "\n",
    "# Create a bar plot with error bars\n",
    "cpgMe_barplot <- ggplot(df_summary, aes(x = treatment, y = mean_methyl_level, fill = treatment)) +\n",
    "  geom_bar(stat = \"identity\") +\n",
    "  geom_errorbar(aes(ymax = mean_methyl_level + se_methyl_level,\n",
    "                       ymin = mean_methyl_level - se_methyl_level),\n",
    "                  width = 0.2, size = 0.5) +\n",
    "scale_fill_brewer(palette = \"RdPu\", \n",
    " direction = 1) +\n",
    "guides(fill = FALSE) +\n",
    "  labs(x = \"Treatment\", y = \"Methylation level of CpGs\") +\n",
    "  theme_classic()\n",
    "\n",
    "cpgMe_barplot"
   ]
  },
  {
   "cell_type": "code",
   "execution_count": 41,
   "id": "6ce79f5a-6ba8-4686-8495-736229f95a19",
   "metadata": {},
   "outputs": [
    {
     "name": "stderr",
     "output_type": "stream",
     "text": [
      "\u001b[1m\u001b[22mSaving 6.67 x 6.67 in image\n"
     ]
    }
   ],
   "source": [
    "ggsave('/project/pi_sarah_gignouxwolfsohn_uml_edu/julia/CE_MethylRAD_analysis_2018/analysis/figures/cpgMe_barplot.pdf', cpgMe_barplot)"
   ]
  },
  {
   "cell_type": "code",
   "execution_count": 48,
   "id": "56caf94b-ccee-4eb3-bc2d-68cf0a592d3e",
   "metadata": {},
   "outputs": [
    {
     "data": {
      "image/png": "[encoded data removed]",
      "text/plain": [
       "plot without title"
      ]
     },
     "metadata": {
      "image/png": {
       "height": 420,
       "width": 420
      }
     },
     "output_type": "display_data"
    }
   ],
   "source": [
    "cpgMe_boxplot <- ggplot(cg_meLevel, aes(x = treatment, y = methyl_level, fill = treatment)) +\n",
    "  geom_boxplot() +\n",
    "geom_point() +\n",
    "scale_fill_brewer(palette = \"RdPu\", \n",
    " direction = 1) +\n",
    "guides(fill=FALSE) +\n",
    "  labs(x = \"Treatment\", y = \"Methylation level of CpGs\") +\n",
    "  theme_classic()\n",
    "\n",
    "cpgMe_boxplot"
   ]
  },
  {
   "cell_type": "code",
   "execution_count": 49,
   "id": "8ba56b58-359f-4645-9c82-35aa6b9019ae",
   "metadata": {},
   "outputs": [
    {
     "name": "stderr",
     "output_type": "stream",
     "text": [
      "\u001b[1m\u001b[22mSaving 6.67 x 6.67 in image\n"
     ]
    }
   ],
   "source": [
    "ggsave('/project/pi_sarah_gignouxwolfsohn_uml_edu/julia/CE_MethylRAD_analysis_2018/analysis/figures/cpgMe_boxplot.pdf', cpgMe_boxplot)"
   ]
  },
  {
   "cell_type": "markdown",
   "id": "0208b9c1-05d6-4d22-afd7-0475389b7a28",
   "metadata": {},
   "source": [
    "### ANOVA of CpG methylation\n",
    "want to know if the differences in CpG methylation between treatments is statistically significant\n",
    "\n",
    "following pipeline [here](https://www.sthda.com/english/wiki/one-way-anova-test-in-r)"
   ]
  },
  {
   "cell_type": "code",
   "execution_count": 71,
   "id": "84d0f071-e702-4389-9222-af9b39b898f4",
   "metadata": {},
   "outputs": [
    {
     "data": {
      "text/html": [
       "<style>\n",
       ".list-inline {list-style: none; margin:0; padding: 0}\n",
       ".list-inline>li {display: inline-block}\n",
       ".list-inline>li:not(:last-child)::after {content: \"\\00b7\"; padding: 0 .5ex}\n",
       "</style>\n",
       "<ol class=list-inline><li>'CC'</li><li>'CH'</li><li>'HC'</li><li>'HH'</li></ol>\n"
      ],
      "text/latex": [
       "\\begin{enumerate*}\n",
       "\\item 'CC'\n",
       "\\item 'CH'\n",
       "\\item 'HC'\n",
       "\\item 'HH'\n",
       "\\end{enumerate*}\n"
      ],
      "text/markdown": [
       "1. 'CC'\n",
       "2. 'CH'\n",
       "3. 'HC'\n",
       "4. 'HH'\n",
       "\n",
       "\n"
      ],
      "text/plain": [
       "[1] \"CC\" \"CH\" \"HC\" \"HH\""
      ]
     },
     "metadata": {},
     "output_type": "display_data"
    }
   ],
   "source": [
    "# make copy of df\n",
    "cpg <- cg_meLevel\n",
    "\n",
    "# set levels\n",
    "cpg$treatment <- ordered(cpg$treatment,\n",
    "                           levels = c('CC', 'CH', 'HC', 'HH'))\n",
    "\n",
    "levels(cpg$treatment)"
   ]
  },
  {
   "cell_type": "code",
   "execution_count": 72,
   "id": "10c65368-1872-4d10-b3a5-e8ad1cfcb8e7",
   "metadata": {},
   "outputs": [
    {
     "data": {
      "text/html": [
       "<table class=\"dataframe\">\n",
       "<caption>A tibble: 4 × 4</caption>\n",
       "<thead>\n",
       "\t<tr><th scope=col>treatment</th><th scope=col>count</th><th scope=col>mean</th><th scope=col>sd</th></tr>\n",
       "\t<tr><th scope=col>&lt;ord&gt;</th><th scope=col>&lt;int&gt;</th><th scope=col>&lt;dbl&gt;</th><th scope=col>&lt;dbl&gt;</th></tr>\n",
       "</thead>\n",
       "<tbody>\n",
       "\t<tr><td>CC</td><td>5</td><td>0.636</td><td>0.3414381</td></tr>\n",
       "\t<tr><td>CH</td><td>5</td><td>0.662</td><td>0.3319187</td></tr>\n",
       "\t<tr><td>HC</td><td>5</td><td>0.868</td><td>0.2255438</td></tr>\n",
       "\t<tr><td>HH</td><td>5</td><td>0.840</td><td>0.1055936</td></tr>\n",
       "</tbody>\n",
       "</table>\n"
      ],
      "text/latex": [
       "A tibble: 4 × 4\n",
       "\\begin{tabular}{llll}\n",
       " treatment & count & mean & sd\\\\\n",
       " <ord> & <int> & <dbl> & <dbl>\\\\\n",
       "\\hline\n",
       "\t CC & 5 & 0.636 & 0.3414381\\\\\n",
       "\t CH & 5 & 0.662 & 0.3319187\\\\\n",
       "\t HC & 5 & 0.868 & 0.2255438\\\\\n",
       "\t HH & 5 & 0.840 & 0.1055936\\\\\n",
       "\\end{tabular}\n"
      ],
      "text/markdown": [
       "\n",
       "A tibble: 4 × 4\n",
       "\n",
       "| treatment &lt;ord&gt; | count &lt;int&gt; | mean &lt;dbl&gt; | sd &lt;dbl&gt; |\n",
       "|---|---|---|---|\n",
       "| CC | 5 | 0.636 | 0.3414381 |\n",
       "| CH | 5 | 0.662 | 0.3319187 |\n",
       "| HC | 5 | 0.868 | 0.2255438 |\n",
       "| HH | 5 | 0.840 | 0.1055936 |\n",
       "\n"
      ],
      "text/plain": [
       "  treatment count mean  sd       \n",
       "1 CC        5     0.636 0.3414381\n",
       "2 CH        5     0.662 0.3319187\n",
       "3 HC        5     0.868 0.2255438\n",
       "4 HH        5     0.840 0.1055936"
      ]
     },
     "metadata": {},
     "output_type": "display_data"
    }
   ],
   "source": [
    "# summary statistics\n",
    "group_by(cpg, treatment) %>%\n",
    "summarise(count = n(),\n",
    "          mean = mean(methyl_level, na.rm=TRUE),\n",
    "          sd = sd(methyl_level, na.rm=TRUE)\n",
    "          )"
   ]
  },
  {
   "cell_type": "code",
   "execution_count": 73,
   "id": "00bf905c-907b-4e8a-81af-be6477c92d7c",
   "metadata": {},
   "outputs": [
    {
     "data": {
      "text/plain": [
       "            Df Sum Sq Mean Sq F value Pr(>F)\n",
       "treatment    3 0.2138 0.07126   0.987  0.424\n",
       "Residuals   16 1.1551 0.07219               "
      ]
     },
     "metadata": {},
     "output_type": "display_data"
    }
   ],
   "source": [
    "res.aov <- aov(methyl_level ~ treatment, data = cpg)\n",
    "summary(res.aov)"
   ]
  },
  {
   "cell_type": "code",
   "execution_count": 74,
   "id": "2175c3c9-9e3a-4ba3-9e6d-8ae89c8d82d0",
   "metadata": {},
   "outputs": [
    {
     "data": {
      "text/plain": [
       "  Tukey multiple comparisons of means\n",
       "    95% family-wise confidence level\n",
       "\n",
       "Fit: aov(formula = methyl_level ~ treatment, data = cpg)\n",
       "\n",
       "$treatment\n",
       "        diff        lwr       upr     p adj\n",
       "CH-CC  0.026 -0.4601798 0.5121798 0.9986682\n",
       "HC-CC  0.232 -0.2541798 0.7181798 0.5374580\n",
       "HH-CC  0.204 -0.2821798 0.6901798 0.6353007\n",
       "HC-CH  0.206 -0.2801798 0.6921798 0.6282900\n",
       "HH-CH  0.178 -0.3081798 0.6641798 0.7248713\n",
       "HH-HC -0.028 -0.5141798 0.4581798 0.9983394\n"
      ]
     },
     "metadata": {},
     "output_type": "display_data"
    }
   ],
   "source": [
    "TukeyHSD(res.aov)"
   ]
  },
  {
   "cell_type": "code",
   "execution_count": 75,
   "id": "c4717b0d-d634-4aa4-9471-50232d234c32",
   "metadata": {},
   "outputs": [
    {
     "data": {
      "text/plain": [
       "\n",
       "\tPairwise comparisons using t tests with pooled SD \n",
       "\n",
       "data:  cpg$methyl_level and cpg$treatment \n",
       "\n",
       "   CC   CH   HC  \n",
       "CH 0.88 -    -   \n",
       "HC 0.47 0.47 -   \n",
       "HH 0.47 0.47 0.88\n",
       "\n",
       "P value adjustment method: BH "
      ]
     },
     "metadata": {},
     "output_type": "display_data"
    }
   ],
   "source": [
    "pairwise.t.test(cpg$methyl_level, cpg$treatment, p.adjust.method = 'BH')"
   ]
  },
  {
   "cell_type": "markdown",
   "id": "7582b3e1-9716-450d-aa30-2ebc9000c825",
   "metadata": {},
   "source": [
    "**check the homogeneity of variance assumption**"
   ]
  },
  {
   "cell_type": "code",
   "execution_count": 76,
   "id": "752654c5-5ae6-49fb-935a-05d5e44e7be8",
   "metadata": {},
   "outputs": [
    {
     "data": {
      "image/png": "[encoded data removed]",
      "text/plain": [
       "Plot with title “”"
      ]
     },
     "metadata": {
      "image/png": {
       "height": 420,
       "width": 420
      }
     },
     "output_type": "display_data"
    }
   ],
   "source": [
    "plot(res.aov,1)"
   ]
  },
  {
   "cell_type": "code",
   "execution_count": 77,
   "id": "7f9f5aff-9c01-4082-9530-303c094ef9c6",
   "metadata": {},
   "outputs": [
    {
     "data": {
      "text/html": [
       "<table class=\"dataframe\">\n",
       "<caption>A anova: 2 × 3</caption>\n",
       "<thead>\n",
       "\t<tr><th></th><th scope=col>Df</th><th scope=col>F value</th><th scope=col>Pr(&gt;F)</th></tr>\n",
       "\t<tr><th></th><th scope=col>&lt;int&gt;</th><th scope=col>&lt;dbl&gt;</th><th scope=col>&lt;dbl&gt;</th></tr>\n",
       "</thead>\n",
       "<tbody>\n",
       "\t<tr><th scope=row>group</th><td> 3</td><td>1.428168</td><td>0.2713929</td></tr>\n",
       "\t<tr><th scope=row> </th><td>16</td><td>      NA</td><td>       NA</td></tr>\n",
       "</tbody>\n",
       "</table>\n"
      ],
      "text/latex": [
       "A anova: 2 × 3\n",
       "\\begin{tabular}{r|lll}\n",
       "  & Df & F value & Pr(>F)\\\\\n",
       "  & <int> & <dbl> & <dbl>\\\\\n",
       "\\hline\n",
       "\tgroup &  3 & 1.428168 & 0.2713929\\\\\n",
       "\t  & 16 &       NA &        NA\\\\\n",
       "\\end{tabular}\n"
      ],
      "text/markdown": [
       "\n",
       "A anova: 2 × 3\n",
       "\n",
       "| <!--/--> | Df &lt;int&gt; | F value &lt;dbl&gt; | Pr(&gt;F) &lt;dbl&gt; |\n",
       "|---|---|---|---|\n",
       "| group |  3 | 1.428168 | 0.2713929 |\n",
       "| <!----> | 16 |       NA |        NA |\n",
       "\n"
      ],
      "text/plain": [
       "      Df F value  Pr(>F)   \n",
       "group  3 1.428168 0.2713929\n",
       "      16       NA        NA"
      ]
     },
     "metadata": {},
     "output_type": "display_data"
    }
   ],
   "source": [
    "leveneTest(methyl_level ~ treatment, data = cpg)"
   ]
  },
  {
   "cell_type": "markdown",
   "id": "2540160b-cf68-43f3-b5b9-c2156b1a165b",
   "metadata": {},
   "source": [
    "from [source](https://www.sthda.com/english/wiki/one-way-anova-test-in-r): \"...the p-value is not less than the significance level of 0.05. This means that there is no evidence to suggest that the variance across groups is statistically significantly different. Therefore, we can assume the homogeneity of variances in the different treatment groups.\"\n",
    "\n",
    "**check the normality assumption**"
   ]
  },
  {
   "cell_type": "code",
   "execution_count": 78,
   "id": "40bc28da-62b4-4158-9870-f343fa243c7e",
   "metadata": {},
   "outputs": [
    {
     "data": {
      "text/plain": [
       "\n",
       "\tShapiro-Wilk normality test\n",
       "\n",
       "data:  aov_residuals\n",
       "W = 0.94458, p-value = 0.2922\n"
      ]
     },
     "metadata": {},
     "output_type": "display_data"
    },
    {
     "data": {
      "image/png": "[encoded data removed]",
      "text/plain": [
       "Plot with title “”"
      ]
     },
     "metadata": {
      "image/png": {
       "height": 420,
       "width": 420
      }
     },
     "output_type": "display_data"
    }
   ],
   "source": [
    "plot(res.aov, 2)\n",
    "\n",
    "# Extract the residuals\n",
    "aov_residuals <- residuals(object = res.aov )\n",
    "# Run Shapiro-Wilk test\n",
    "shapiro.test(x = aov_residuals )"
   ]
  },
  {
   "cell_type": "markdown",
   "id": "30ef822c-dd99-4ca8-8664-566a3fa7e801",
   "metadata": {},
   "source": [
    "so no statistically significant differences of methlyation levels for CpG dinucleotides between treatments"
   ]
  }
 ],
 "metadata": {
  "kernelspec": {
   "display_name": "R [conda env:.conda-r-env]",
   "language": "R",
   "name": "conda-env-.conda-r-env-r"
  },
  "language_info": {
   "codemirror_mode": "r",
   "file_extension": ".r",
   "mimetype": "text/x-r-source",
   "name": "R",
   "pygments_lexer": "r",
   "version": "4.3.2"
  }
 },
 "nbformat": 4,
 "nbformat_minor": 5
}
