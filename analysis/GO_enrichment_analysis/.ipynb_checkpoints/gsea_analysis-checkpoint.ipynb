{
 "cells": [
  {
   "cell_type": "markdown",
   "id": "8b0f0cb1-ee02-4510-b59f-65856356a6d8",
   "metadata": {},
   "source": [
    "## GSEA analysis\n",
    "\n",
    "following pipeline [here](https://bioinformatics-core-shared-training.github.io/cruk-summer-school-2018/RNASeq2018/html/06_Gene_set_testing.nb.html)\n",
    "\n",
    "#### creating ranks\n",
    "\"Rank all genes based on their fold change. We need to exclude genes for which we do not have Entrez IDs. Also, we should use the shrunk LFC values.\""
   ]
  },
  {
   "cell_type": "code",
   "execution_count": 3,
   "id": "8ff3d6f8-4e74-4807-9c94-1b85dcd58a57",
   "metadata": {},
   "outputs": [
    {
     "name": "stderr",
     "output_type": "stream",
     "text": [
      "\n",
      "Attaching package: ‘dplyr’\n",
      "\n",
      "\n",
      "The following objects are masked from ‘package:stats’:\n",
      "\n",
      "    filter, lag\n",
      "\n",
      "\n",
      "The following objects are masked from ‘package:base’:\n",
      "\n",
      "    intersect, setdiff, setequal, union\n",
      "\n",
      "\n"
     ]
    }
   ],
   "source": [
    "#BiocManager::install('fgsea')\n",
    "library(fgsea)\n",
    "library(dplyr)"
   ]
  },
  {
   "cell_type": "code",
   "execution_count": 12,
   "id": "616c324e-dba7-451e-b5b1-8f7567a9ae19",
   "metadata": {},
   "outputs": [
    {
     "data": {
      "text/html": [
       "<table class=\"dataframe\">\n",
       "<caption>A data.frame: 6 × 4</caption>\n",
       "<thead>\n",
       "\t<tr><th></th><th scope=col>gene</th><th scope=col>logFC</th><th scope=col>pval</th><th scope=col>padj</th></tr>\n",
       "\t<tr><th></th><th scope=col>&lt;chr&gt;</th><th scope=col>&lt;dbl&gt;</th><th scope=col>&lt;dbl&gt;</th><th scope=col>&lt;dbl&gt;</th></tr>\n",
       "</thead>\n",
       "<tbody>\n",
       "\t<tr><th scope=row>1</th><td>LOC111099115</td><td>1.7885864</td><td>4.161092e-06</td><td>0.0002004183</td></tr>\n",
       "\t<tr><th scope=row>2</th><td>LOC111099216</td><td>1.4828614</td><td>7.544561e-04</td><td>0.0125496496</td></tr>\n",
       "\t<tr><th scope=row>3</th><td>LOC111099417</td><td>2.7487429</td><td>6.452048e-05</td><td>0.0019567084</td></tr>\n",
       "\t<tr><th scope=row>4</th><td>LOC111099424</td><td>3.4384445</td><td>3.211770e-05</td><td>0.0010745946</td></tr>\n",
       "\t<tr><th scope=row>5</th><td>LOC111099722</td><td>0.8993515</td><td>1.093514e-04</td><td>0.0028699825</td></tr>\n",
       "\t<tr><th scope=row>6</th><td>LOC111099918</td><td>0.6567512</td><td>3.539745e-03</td><td>0.0407210025</td></tr>\n",
       "</tbody>\n",
       "</table>\n"
      ],
      "text/latex": [
       "A data.frame: 6 × 4\n",
       "\\begin{tabular}{r|llll}\n",
       "  & gene & logFC & pval & padj\\\\\n",
       "  & <chr> & <dbl> & <dbl> & <dbl>\\\\\n",
       "\\hline\n",
       "\t1 & LOC111099115 & 1.7885864 & 4.161092e-06 & 0.0002004183\\\\\n",
       "\t2 & LOC111099216 & 1.4828614 & 7.544561e-04 & 0.0125496496\\\\\n",
       "\t3 & LOC111099417 & 2.7487429 & 6.452048e-05 & 0.0019567084\\\\\n",
       "\t4 & LOC111099424 & 3.4384445 & 3.211770e-05 & 0.0010745946\\\\\n",
       "\t5 & LOC111099722 & 0.8993515 & 1.093514e-04 & 0.0028699825\\\\\n",
       "\t6 & LOC111099918 & 0.6567512 & 3.539745e-03 & 0.0407210025\\\\\n",
       "\\end{tabular}\n"
      ],
      "text/markdown": [
       "\n",
       "A data.frame: 6 × 4\n",
       "\n",
       "| <!--/--> | gene &lt;chr&gt; | logFC &lt;dbl&gt; | pval &lt;dbl&gt; | padj &lt;dbl&gt; |\n",
       "|---|---|---|---|---|\n",
       "| 1 | LOC111099115 | 1.7885864 | 4.161092e-06 | 0.0002004183 |\n",
       "| 2 | LOC111099216 | 1.4828614 | 7.544561e-04 | 0.0125496496 |\n",
       "| 3 | LOC111099417 | 2.7487429 | 6.452048e-05 | 0.0019567084 |\n",
       "| 4 | LOC111099424 | 3.4384445 | 3.211770e-05 | 0.0010745946 |\n",
       "| 5 | LOC111099722 | 0.8993515 | 1.093514e-04 | 0.0028699825 |\n",
       "| 6 | LOC111099918 | 0.6567512 | 3.539745e-03 | 0.0407210025 |\n",
       "\n"
      ],
      "text/plain": [
       "  gene         logFC     pval         padj        \n",
       "1 LOC111099115 1.7885864 4.161092e-06 0.0002004183\n",
       "2 LOC111099216 1.4828614 7.544561e-04 0.0125496496\n",
       "3 LOC111099417 2.7487429 6.452048e-05 0.0019567084\n",
       "4 LOC111099424 3.4384445 3.211770e-05 0.0010745946\n",
       "5 LOC111099722 0.8993515 1.093514e-04 0.0028699825\n",
       "6 LOC111099918 0.6567512 3.539745e-03 0.0407210025"
      ]
     },
     "metadata": {},
     "output_type": "display_data"
    },
    {
     "data": {
      "text/html": [
       "<style>\n",
       ".list-inline {list-style: none; margin:0; padding: 0}\n",
       ".list-inline>li {display: inline-block}\n",
       ".list-inline>li:not(:last-child)::after {content: \"\\00b7\"; padding: 0 .5ex}\n",
       "</style>\n",
       "<ol class=list-inline><li>405</li><li>4</li></ol>\n"
      ],
      "text/latex": [
       "\\begin{enumerate*}\n",
       "\\item 405\n",
       "\\item 4\n",
       "\\end{enumerate*}\n"
      ],
      "text/markdown": [
       "1. 405\n",
       "2. 4\n",
       "\n",
       "\n"
      ],
      "text/plain": [
       "[1] 405   4"
      ]
     },
     "metadata": {},
     "output_type": "display_data"
    }
   ],
   "source": [
    "# loading in data file\n",
    "genes <- read.csv('/project/pi_sarah_gignouxwolfsohn_uml_edu/julia/CE_MethylRAD_analysis_2018/analysis/significant_genes/sig_p1_wc_genes.csv')\n",
    "#head(genes)\n",
    "\n",
    "# only grabbing what I need and changing col names\n",
    "genes <- select(genes, Row.names, log2FoldChange, pvalue, padj)\n",
    "colnames(genes) = c('gene', 'logFC', 'pval', 'padj')\n",
    "\n",
    "head(genes)\n",
    "dim(genes)"
   ]
  },
  {
   "cell_type": "code",
   "execution_count": 14,
   "id": "54c4cc5a-bfe6-445a-9e1e-58386ad42a1e",
   "metadata": {},
   "outputs": [
    {
     "data": {
      "text/html": [
       "<table class=\"dataframe\">\n",
       "<caption>A data.frame: 6 × 2</caption>\n",
       "<thead>\n",
       "\t<tr><th></th><th scope=col>gene</th><th scope=col>entrez_id</th></tr>\n",
       "\t<tr><th></th><th scope=col>&lt;chr&gt;</th><th scope=col>&lt;int&gt;</th></tr>\n",
       "</thead>\n",
       "<tbody>\n",
       "\t<tr><th scope=row>1</th><td>LOC111134684</td><td>111134684</td></tr>\n",
       "\t<tr><th scope=row>2</th><td>LOC111110475</td><td>111110475</td></tr>\n",
       "\t<tr><th scope=row>3</th><td>LOC111132265</td><td>111132265</td></tr>\n",
       "\t<tr><th scope=row>4</th><td>LOC111135536</td><td>111135536</td></tr>\n",
       "\t<tr><th scope=row>5</th><td>LOC111099115</td><td>111099115</td></tr>\n",
       "\t<tr><th scope=row>6</th><td>LOC111136502</td><td>111136502</td></tr>\n",
       "</tbody>\n",
       "</table>\n"
      ],
      "text/latex": [
       "A data.frame: 6 × 2\n",
       "\\begin{tabular}{r|ll}\n",
       "  & gene & entrez\\_id\\\\\n",
       "  & <chr> & <int>\\\\\n",
       "\\hline\n",
       "\t1 & LOC111134684 & 111134684\\\\\n",
       "\t2 & LOC111110475 & 111110475\\\\\n",
       "\t3 & LOC111132265 & 111132265\\\\\n",
       "\t4 & LOC111135536 & 111135536\\\\\n",
       "\t5 & LOC111099115 & 111099115\\\\\n",
       "\t6 & LOC111136502 & 111136502\\\\\n",
       "\\end{tabular}\n"
      ],
      "text/markdown": [
       "\n",
       "A data.frame: 6 × 2\n",
       "\n",
       "| <!--/--> | gene &lt;chr&gt; | entrez_id &lt;int&gt; |\n",
       "|---|---|---|\n",
       "| 1 | LOC111134684 | 111134684 |\n",
       "| 2 | LOC111110475 | 111110475 |\n",
       "| 3 | LOC111132265 | 111132265 |\n",
       "| 4 | LOC111135536 | 111135536 |\n",
       "| 5 | LOC111099115 | 111099115 |\n",
       "| 6 | LOC111136502 | 111136502 |\n",
       "\n"
      ],
      "text/plain": [
       "  gene         entrez_id\n",
       "1 LOC111134684 111134684\n",
       "2 LOC111110475 111110475\n",
       "3 LOC111132265 111132265\n",
       "4 LOC111135536 111135536\n",
       "5 LOC111099115 111099115\n",
       "6 LOC111136502 111136502"
      ]
     },
     "metadata": {},
     "output_type": "display_data"
    }
   ],
   "source": [
    "# importing file with conversion IDs\n",
    "convert <- read.csv('/project/pi_sarah_gignouxwolfsohn_uml_edu/julia/CE_MethylRAD_analysis_2018/analysis/KEGG_pathway/p1_wc_DAVID_conversion.txt', sep='\\t')\n",
    "\n",
    "# selecting only the columns I need\n",
    "convert <- select(convert, From, To)\n",
    "\n",
    "# renaming col names\n",
    "colnames(convert) = c('gene', 'entrez_id')\n",
    "head(convert)"
   ]
  },
  {
   "cell_type": "code",
   "execution_count": 17,
   "id": "56266060-56ad-45ad-ab25-10ddfcb903ff",
   "metadata": {},
   "outputs": [
    {
     "data": {
      "text/html": [
       "<table class=\"dataframe\">\n",
       "<caption>A data.frame: 6 × 5</caption>\n",
       "<thead>\n",
       "\t<tr><th></th><th scope=col>gene</th><th scope=col>entrez_id</th><th scope=col>logFC</th><th scope=col>pval</th><th scope=col>padj</th></tr>\n",
       "\t<tr><th></th><th scope=col>&lt;chr&gt;</th><th scope=col>&lt;int&gt;</th><th scope=col>&lt;dbl&gt;</th><th scope=col>&lt;dbl&gt;</th><th scope=col>&lt;dbl&gt;</th></tr>\n",
       "</thead>\n",
       "<tbody>\n",
       "\t<tr><th scope=row>1</th><td>LOC111099115</td><td>111099115</td><td>1.7885864</td><td>4.161092e-06</td><td>0.0002004183</td></tr>\n",
       "\t<tr><th scope=row>2</th><td>LOC111099216</td><td>111099216</td><td>1.4828614</td><td>7.544561e-04</td><td>0.0125496496</td></tr>\n",
       "\t<tr><th scope=row>3</th><td>LOC111099417</td><td>111099417</td><td>2.7487429</td><td>6.452048e-05</td><td>0.0019567084</td></tr>\n",
       "\t<tr><th scope=row>4</th><td>LOC111099424</td><td>111099424</td><td>3.4384445</td><td>3.211770e-05</td><td>0.0010745946</td></tr>\n",
       "\t<tr><th scope=row>5</th><td>LOC111099722</td><td>111099722</td><td>0.8993515</td><td>1.093514e-04</td><td>0.0028699825</td></tr>\n",
       "\t<tr><th scope=row>6</th><td>LOC111099918</td><td>111099918</td><td>0.6567512</td><td>3.539745e-03</td><td>0.0407210025</td></tr>\n",
       "</tbody>\n",
       "</table>\n"
      ],
      "text/latex": [
       "A data.frame: 6 × 5\n",
       "\\begin{tabular}{r|lllll}\n",
       "  & gene & entrez\\_id & logFC & pval & padj\\\\\n",
       "  & <chr> & <int> & <dbl> & <dbl> & <dbl>\\\\\n",
       "\\hline\n",
       "\t1 & LOC111099115 & 111099115 & 1.7885864 & 4.161092e-06 & 0.0002004183\\\\\n",
       "\t2 & LOC111099216 & 111099216 & 1.4828614 & 7.544561e-04 & 0.0125496496\\\\\n",
       "\t3 & LOC111099417 & 111099417 & 2.7487429 & 6.452048e-05 & 0.0019567084\\\\\n",
       "\t4 & LOC111099424 & 111099424 & 3.4384445 & 3.211770e-05 & 0.0010745946\\\\\n",
       "\t5 & LOC111099722 & 111099722 & 0.8993515 & 1.093514e-04 & 0.0028699825\\\\\n",
       "\t6 & LOC111099918 & 111099918 & 0.6567512 & 3.539745e-03 & 0.0407210025\\\\\n",
       "\\end{tabular}\n"
      ],
      "text/markdown": [
       "\n",
       "A data.frame: 6 × 5\n",
       "\n",
       "| <!--/--> | gene &lt;chr&gt; | entrez_id &lt;int&gt; | logFC &lt;dbl&gt; | pval &lt;dbl&gt; | padj &lt;dbl&gt; |\n",
       "|---|---|---|---|---|---|\n",
       "| 1 | LOC111099115 | 111099115 | 1.7885864 | 4.161092e-06 | 0.0002004183 |\n",
       "| 2 | LOC111099216 | 111099216 | 1.4828614 | 7.544561e-04 | 0.0125496496 |\n",
       "| 3 | LOC111099417 | 111099417 | 2.7487429 | 6.452048e-05 | 0.0019567084 |\n",
       "| 4 | LOC111099424 | 111099424 | 3.4384445 | 3.211770e-05 | 0.0010745946 |\n",
       "| 5 | LOC111099722 | 111099722 | 0.8993515 | 1.093514e-04 | 0.0028699825 |\n",
       "| 6 | LOC111099918 | 111099918 | 0.6567512 | 3.539745e-03 | 0.0407210025 |\n",
       "\n"
      ],
      "text/plain": [
       "  gene         entrez_id logFC     pval         padj        \n",
       "1 LOC111099115 111099115 1.7885864 4.161092e-06 0.0002004183\n",
       "2 LOC111099216 111099216 1.4828614 7.544561e-04 0.0125496496\n",
       "3 LOC111099417 111099417 2.7487429 6.452048e-05 0.0019567084\n",
       "4 LOC111099424 111099424 3.4384445 3.211770e-05 0.0010745946\n",
       "5 LOC111099722 111099722 0.8993515 1.093514e-04 0.0028699825\n",
       "6 LOC111099918 111099918 0.6567512 3.539745e-03 0.0407210025"
      ]
     },
     "metadata": {},
     "output_type": "display_data"
    }
   ],
   "source": [
    "# selecting matching rows in conversion table\n",
    "Entrez <- merge(convert, genes, by = 'gene', all = TRUE)\n",
    "head(Entrez)"
   ]
  },
  {
   "cell_type": "code",
   "execution_count": 52,
   "id": "1e22d65d-dffb-4747-972d-0a0bb2b29dfe",
   "metadata": {},
   "outputs": [
    {
     "data": {
      "text/html": [
       "<table class=\"dataframe\">\n",
       "<caption>A data.frame: 6 × 5</caption>\n",
       "<thead>\n",
       "\t<tr><th></th><th scope=col>gene</th><th scope=col>entrez_id</th><th scope=col>logFC</th><th scope=col>pval</th><th scope=col>padj</th></tr>\n",
       "\t<tr><th></th><th scope=col>&lt;chr&gt;</th><th scope=col>&lt;int&gt;</th><th scope=col>&lt;dbl&gt;</th><th scope=col>&lt;dbl&gt;</th><th scope=col>&lt;dbl&gt;</th></tr>\n",
       "</thead>\n",
       "<tbody>\n",
       "\t<tr><th scope=row>1</th><td>LOC111099115</td><td>111099115</td><td>1.7885864</td><td>4.161092e-06</td><td>0.0002004183</td></tr>\n",
       "\t<tr><th scope=row>2</th><td>LOC111099216</td><td>111099216</td><td>1.4828614</td><td>7.544561e-04</td><td>0.0125496496</td></tr>\n",
       "\t<tr><th scope=row>3</th><td>LOC111099417</td><td>111099417</td><td>2.7487429</td><td>6.452048e-05</td><td>0.0019567084</td></tr>\n",
       "\t<tr><th scope=row>4</th><td>LOC111099424</td><td>111099424</td><td>3.4384445</td><td>3.211770e-05</td><td>0.0010745946</td></tr>\n",
       "\t<tr><th scope=row>5</th><td>LOC111099722</td><td>111099722</td><td>0.8993515</td><td>1.093514e-04</td><td>0.0028699825</td></tr>\n",
       "\t<tr><th scope=row>6</th><td>LOC111099918</td><td>111099918</td><td>0.6567512</td><td>3.539745e-03</td><td>0.0407210025</td></tr>\n",
       "</tbody>\n",
       "</table>\n"
      ],
      "text/latex": [
       "A data.frame: 6 × 5\n",
       "\\begin{tabular}{r|lllll}\n",
       "  & gene & entrez\\_id & logFC & pval & padj\\\\\n",
       "  & <chr> & <int> & <dbl> & <dbl> & <dbl>\\\\\n",
       "\\hline\n",
       "\t1 & LOC111099115 & 111099115 & 1.7885864 & 4.161092e-06 & 0.0002004183\\\\\n",
       "\t2 & LOC111099216 & 111099216 & 1.4828614 & 7.544561e-04 & 0.0125496496\\\\\n",
       "\t3 & LOC111099417 & 111099417 & 2.7487429 & 6.452048e-05 & 0.0019567084\\\\\n",
       "\t4 & LOC111099424 & 111099424 & 3.4384445 & 3.211770e-05 & 0.0010745946\\\\\n",
       "\t5 & LOC111099722 & 111099722 & 0.8993515 & 1.093514e-04 & 0.0028699825\\\\\n",
       "\t6 & LOC111099918 & 111099918 & 0.6567512 & 3.539745e-03 & 0.0407210025\\\\\n",
       "\\end{tabular}\n"
      ],
      "text/markdown": [
       "\n",
       "A data.frame: 6 × 5\n",
       "\n",
       "| <!--/--> | gene &lt;chr&gt; | entrez_id &lt;int&gt; | logFC &lt;dbl&gt; | pval &lt;dbl&gt; | padj &lt;dbl&gt; |\n",
       "|---|---|---|---|---|---|\n",
       "| 1 | LOC111099115 | 111099115 | 1.7885864 | 4.161092e-06 | 0.0002004183 |\n",
       "| 2 | LOC111099216 | 111099216 | 1.4828614 | 7.544561e-04 | 0.0125496496 |\n",
       "| 3 | LOC111099417 | 111099417 | 2.7487429 | 6.452048e-05 | 0.0019567084 |\n",
       "| 4 | LOC111099424 | 111099424 | 3.4384445 | 3.211770e-05 | 0.0010745946 |\n",
       "| 5 | LOC111099722 | 111099722 | 0.8993515 | 1.093514e-04 | 0.0028699825 |\n",
       "| 6 | LOC111099918 | 111099918 | 0.6567512 | 3.539745e-03 | 0.0407210025 |\n",
       "\n"
      ],
      "text/plain": [
       "  gene         entrez_id logFC     pval         padj        \n",
       "1 LOC111099115 111099115 1.7885864 4.161092e-06 0.0002004183\n",
       "2 LOC111099216 111099216 1.4828614 7.544561e-04 0.0125496496\n",
       "3 LOC111099417 111099417 2.7487429 6.452048e-05 0.0019567084\n",
       "4 LOC111099424 111099424 3.4384445 3.211770e-05 0.0010745946\n",
       "5 LOC111099722 111099722 0.8993515 1.093514e-04 0.0028699825\n",
       "6 LOC111099918 111099918 0.6567512 3.539745e-03 0.0407210025"
      ]
     },
     "metadata": {},
     "output_type": "display_data"
    },
    {
     "data": {
      "text/html": [
       "<style>\n",
       ".list-inline {list-style: none; margin:0; padding: 0}\n",
       ".list-inline>li {display: inline-block}\n",
       ".list-inline>li:not(:last-child)::after {content: \"\\00b7\"; padding: 0 .5ex}\n",
       "</style>\n",
       "<ol class=list-inline><li>405</li><li>5</li></ol>\n"
      ],
      "text/latex": [
       "\\begin{enumerate*}\n",
       "\\item 405\n",
       "\\item 5\n",
       "\\end{enumerate*}\n"
      ],
      "text/markdown": [
       "1. 405\n",
       "2. 5\n",
       "\n",
       "\n"
      ],
      "text/plain": [
       "[1] 405   5"
      ]
     },
     "metadata": {},
     "output_type": "display_data"
    }
   ],
   "source": [
    "# grabbing only unique IDs\n",
    "gene_entrez <- Entrez[Entrez$gene %in% unique(Entrez$gene),]\n",
    "head(gene_entrez)\n",
    "dim(gene_entrez)"
   ]
  },
  {
   "cell_type": "code",
   "execution_count": 53,
   "id": "a6d5dc7f-97f2-4377-a5c4-513e8796121e",
   "metadata": {},
   "outputs": [
    {
     "data": {
      "text/html": [
       "<style>\n",
       ".dl-inline {width: auto; margin:0; padding: 0}\n",
       ".dl-inline>dt, .dl-inline>dd {float: none; width: auto; display: inline-block}\n",
       ".dl-inline>dt::after {content: \":\\0020\"; padding-right: .5ex}\n",
       ".dl-inline>dt:not(:first-of-type) {padding-left: .5ex}\n",
       "</style><dl class=dl-inline><dt>111099115</dt><dd>1.78858640472996</dd><dt>111099216</dt><dd>1.48286142511512</dd><dt>111099417</dt><dd>2.74874287789152</dd><dt>111099424</dt><dd>3.43844453272146</dd><dt>111099722</dt><dd>0.899351501638737</dd><dt>111099918</dt><dd>0.656751219091182</dd></dl>\n"
      ],
      "text/latex": [
       "\\begin{description*}\n",
       "\\item[111099115] 1.78858640472996\n",
       "\\item[111099216] 1.48286142511512\n",
       "\\item[111099417] 2.74874287789152\n",
       "\\item[111099424] 3.43844453272146\n",
       "\\item[111099722] 0.899351501638737\n",
       "\\item[111099918] 0.656751219091182\n",
       "\\end{description*}\n"
      ],
      "text/markdown": [
       "111099115\n",
       ":   1.78858640472996111099216\n",
       ":   1.48286142511512111099417\n",
       ":   2.74874287789152111099424\n",
       ":   3.43844453272146111099722\n",
       ":   0.899351501638737111099918\n",
       ":   0.656751219091182\n",
       "\n"
      ],
      "text/plain": [
       "111099115 111099216 111099417 111099424 111099722 111099918 \n",
       "1.7885864 1.4828614 2.7487429 3.4384445 0.8993515 0.6567512 "
      ]
     },
     "metadata": {},
     "output_type": "display_data"
    }
   ],
   "source": [
    "gseaDat <- gene_entrez\n",
    "ranks <- gseaDat$logFC\n",
    "names(ranks) <- gseaDat$entrez_id\n",
    "head(ranks)"
   ]
  },
  {
   "cell_type": "code",
   "execution_count": 54,
   "id": "d2bb0a83-c3e8-44b6-9339-70c533fdf1f3",
   "metadata": {},
   "outputs": [
    {
     "data": {
      "image/png": "[encoded data removed]",
      "text/plain": [
       "plot without title"
      ]
     },
     "metadata": {
      "image/png": {
       "height": 420,
       "width": 420
      }
     },
     "output_type": "display_data"
    }
   ],
   "source": [
    "barplot(sort(ranks, decreasing = T))"
   ]
  },
  {
   "cell_type": "markdown",
   "id": "df90f8c6-e7eb-452d-ab5f-0ec5a438f597",
   "metadata": {},
   "source": [
    "#### load pathway"
   ]
  },
  {
   "cell_type": "code",
   "execution_count": 23,
   "id": "f01794ba-d513-45aa-a560-471a93814df9",
   "metadata": {},
   "outputs": [],
   "source": [
    "library(KEGGREST)"
   ]
  },
  {
   "cell_type": "code",
   "execution_count": 55,
   "id": "c07c6e0f-b24b-4126-a7ef-ac09e0366935",
   "metadata": {},
   "outputs": [
    {
     "data": {
      "text/html": [
       "<dl>\n",
       "\t<dt>$cvn01100</dt>\n",
       "\t\t<dd>'Metabolic pathways - Crassostrea virginica (eastern oyster)'</dd>\n",
       "\t<dt>$cvn01200</dt>\n",
       "\t\t<dd>'Carbon metabolism - Crassostrea virginica (eastern oyster)'</dd>\n",
       "\t<dt>$cvn01210</dt>\n",
       "\t\t<dd>'2-Oxocarboxylic acid metabolism - Crassostrea virginica (eastern oyster)'</dd>\n",
       "\t<dt>$cvn01212</dt>\n",
       "\t\t<dd>'Fatty acid metabolism - Crassostrea virginica (eastern oyster)'</dd>\n",
       "\t<dt>$cvn01230</dt>\n",
       "\t\t<dd>'Biosynthesis of amino acids - Crassostrea virginica (eastern oyster)'</dd>\n",
       "\t<dt>$cvn01232</dt>\n",
       "\t\t<dd>'Nucleotide metabolism - Crassostrea virginica (eastern oyster)'</dd>\n",
       "</dl>\n"
      ],
      "text/latex": [
       "\\begin{description}\n",
       "\\item[\\$cvn01100] 'Metabolic pathways - Crassostrea virginica (eastern oyster)'\n",
       "\\item[\\$cvn01200] 'Carbon metabolism - Crassostrea virginica (eastern oyster)'\n",
       "\\item[\\$cvn01210] '2-Oxocarboxylic acid metabolism - Crassostrea virginica (eastern oyster)'\n",
       "\\item[\\$cvn01212] 'Fatty acid metabolism - Crassostrea virginica (eastern oyster)'\n",
       "\\item[\\$cvn01230] 'Biosynthesis of amino acids - Crassostrea virginica (eastern oyster)'\n",
       "\\item[\\$cvn01232] 'Nucleotide metabolism - Crassostrea virginica (eastern oyster)'\n",
       "\\end{description}\n"
      ],
      "text/markdown": [
       "$cvn01100\n",
       ":   'Metabolic pathways - Crassostrea virginica (eastern oyster)'\n",
       "$cvn01200\n",
       ":   'Carbon metabolism - Crassostrea virginica (eastern oyster)'\n",
       "$cvn01210\n",
       ":   '2-Oxocarboxylic acid metabolism - Crassostrea virginica (eastern oyster)'\n",
       "$cvn01212\n",
       ":   'Fatty acid metabolism - Crassostrea virginica (eastern oyster)'\n",
       "$cvn01230\n",
       ":   'Biosynthesis of amino acids - Crassostrea virginica (eastern oyster)'\n",
       "$cvn01232\n",
       ":   'Nucleotide metabolism - Crassostrea virginica (eastern oyster)'\n",
       "\n",
       "\n"
      ],
      "text/plain": [
       "$cvn01100\n",
       "[1] \"Metabolic pathways - Crassostrea virginica (eastern oyster)\"\n",
       "\n",
       "$cvn01200\n",
       "[1] \"Carbon metabolism - Crassostrea virginica (eastern oyster)\"\n",
       "\n",
       "$cvn01210\n",
       "[1] \"2-Oxocarboxylic acid metabolism - Crassostrea virginica (eastern oyster)\"\n",
       "\n",
       "$cvn01212\n",
       "[1] \"Fatty acid metabolism - Crassostrea virginica (eastern oyster)\"\n",
       "\n",
       "$cvn01230\n",
       "[1] \"Biosynthesis of amino acids - Crassostrea virginica (eastern oyster)\"\n",
       "\n",
       "$cvn01232\n",
       "[1] \"Nucleotide metabolism - Crassostrea virginica (eastern oyster)\"\n"
      ]
     },
     "metadata": {},
     "output_type": "display_data"
    }
   ],
   "source": [
    "pathways.list <- as.list(keggList(\"pathway\", \"cvn\"))\n",
    "head(pathways.list)"
   ]
  },
  {
   "cell_type": "code",
   "execution_count": 65,
   "id": "97f84b3d-789d-46d6-a86b-6feed34c1440",
   "metadata": {},
   "outputs": [
    {
     "data": {
      "text/html": [
       "136"
      ],
      "text/latex": [
       "136"
      ],
      "text/markdown": [
       "136"
      ],
      "text/plain": [
       "[1] 136"
      ]
     },
     "metadata": {},
     "output_type": "display_data"
    },
    {
     "data": {
      "text/html": [
       "136"
      ],
      "text/latex": [
       "136"
      ],
      "text/markdown": [
       "136"
      ],
      "text/plain": [
       "[1] 136"
      ]
     },
     "metadata": {},
     "output_type": "display_data"
    }
   ],
   "source": [
    "length(unique(pathways.list))\n",
    "length(pathways.list)"
   ]
  },
  {
   "cell_type": "code",
   "execution_count": 62,
   "id": "cde724b7-a746-4bff-b948-7c84bee1bf7f",
   "metadata": {},
   "outputs": [
    {
     "data": {
      "text/html": [
       "<style>\n",
       ".dl-inline {width: auto; margin:0; padding: 0}\n",
       ".dl-inline>dt, .dl-inline>dd {float: none; width: auto; display: inline-block}\n",
       ".dl-inline>dt::after {content: \":\\0020\"; padding-right: .5ex}\n",
       ".dl-inline>dt:not(:first-of-type) {padding-left: .5ex}\n",
       "</style><dl class=dl-inline><dt>111099115</dt><dd>1.78858640472996</dd><dt>111099216</dt><dd>1.48286142511512</dd><dt>111099417</dt><dd>2.74874287789152</dd><dt>111099424</dt><dd>3.43844453272146</dd><dt>111099722</dt><dd>0.899351501638737</dd><dt>111099918</dt><dd>0.656751219091182</dd></dl>\n"
      ],
      "text/latex": [
       "\\begin{description*}\n",
       "\\item[111099115] 1.78858640472996\n",
       "\\item[111099216] 1.48286142511512\n",
       "\\item[111099417] 2.74874287789152\n",
       "\\item[111099424] 3.43844453272146\n",
       "\\item[111099722] 0.899351501638737\n",
       "\\item[111099918] 0.656751219091182\n",
       "\\end{description*}\n"
      ],
      "text/markdown": [
       "111099115\n",
       ":   1.78858640472996111099216\n",
       ":   1.48286142511512111099417\n",
       ":   2.74874287789152111099424\n",
       ":   3.43844453272146111099722\n",
       ":   0.899351501638737111099918\n",
       ":   0.656751219091182\n",
       "\n"
      ],
      "text/plain": [
       "111099115 111099216 111099417 111099424 111099722 111099918 \n",
       "1.7885864 1.4828614 2.7487429 3.4384445 0.8993515 0.6567512 "
      ]
     },
     "metadata": {},
     "output_type": "display_data"
    }
   ],
   "source": [
    "# Assuming geneList is your vector or data frame with gene names\n",
    "\n",
    "head(ranks)"
   ]
  },
  {
   "cell_type": "code",
   "execution_count": 58,
   "id": "a25667db-59aa-4cc5-b18e-726e98315052",
   "metadata": {},
   "outputs": [
    {
     "name": "stderr",
     "output_type": "stream",
     "text": [
      "Warning message in preparePathwaysAndStats(pathways, stats, minSize, maxSize, gseaParam, :\n",
      "“There are duplicate gene names, fgsea may produce unexpected results.”\n"
     ]
    }
   ],
   "source": [
    "fgseaRes <- fgsea(pathways.list, \n",
    "                  ranks, \n",
    "                  minSize=15, \n",
    "                  maxSize = 500) \n",
    "                  #nperm=1000)"
   ]
  },
  {
   "cell_type": "code",
   "execution_count": 63,
   "id": "fbe029de-d15a-4a34-9db0-125e6cdc73b6",
   "metadata": {},
   "outputs": [
    {
     "data": {
      "text/html": [
       "<table class=\"dataframe\">\n",
       "<caption>A data.table: 0 × 8</caption>\n",
       "<thead>\n",
       "\t<tr><th scope=col>pathway</th><th scope=col>pval</th><th scope=col>padj</th><th scope=col>log2err</th><th scope=col>ES</th><th scope=col>NES</th><th scope=col>size</th><th scope=col>leadingEdge</th></tr>\n",
       "\t<tr><th scope=col>&lt;chr&gt;</th><th scope=col>&lt;dbl&gt;</th><th scope=col>&lt;dbl&gt;</th><th scope=col>&lt;dbl&gt;</th><th scope=col>&lt;dbl&gt;</th><th scope=col>&lt;dbl&gt;</th><th scope=col>&lt;int&gt;</th><th scope=col>&lt;list&gt;</th></tr>\n",
       "</thead>\n",
       "<tbody>\n",
       "</tbody>\n",
       "</table>\n"
      ],
      "text/latex": [
       "A data.table: 0 × 8\n",
       "\\begin{tabular}{llllllll}\n",
       " pathway & pval & padj & log2err & ES & NES & size & leadingEdge\\\\\n",
       " <chr> & <dbl> & <dbl> & <dbl> & <dbl> & <dbl> & <int> & <list>\\\\\n",
       "\\hline\n",
       "\\end{tabular}\n"
      ],
      "text/markdown": [
       "\n",
       "A data.table: 0 × 8\n",
       "\n",
       "| pathway &lt;chr&gt; | pval &lt;dbl&gt; | padj &lt;dbl&gt; | log2err &lt;dbl&gt; | ES &lt;dbl&gt; | NES &lt;dbl&gt; | size &lt;int&gt; | leadingEdge &lt;list&gt; |\n",
       "|---|---|---|---|---|---|---|---|\n",
       "\n"
      ],
      "text/plain": [
       "     pathway pval padj log2err ES NES size leadingEdge"
      ]
     },
     "metadata": {},
     "output_type": "display_data"
    }
   ],
   "source": [
    "fgseaRes"
   ]
  },
  {
   "cell_type": "markdown",
   "id": "c5956864-c939-4ca5-9d5b-7587fb19cc10",
   "metadata": {},
   "source": [
    "#### GO enrichment analysis"
   ]
  },
  {
   "cell_type": "code",
   "execution_count": 73,
   "id": "6c01ba95-e549-4714-b916-46ec3bc7dd20",
   "metadata": {},
   "outputs": [
    {
     "name": "stderr",
     "output_type": "stream",
     "text": [
      "'getOption(\"repos\")' replaces Bioconductor standard repositories, see\n",
      "'help(\"repositories\", package = \"BiocManager\")' for details.\n",
      "Replacement repositories:\n",
      "    CRAN: https://cran.r-project.org\n",
      "\n",
      "Bioconductor version 3.18 (BiocManager 1.30.22), R 4.3.2 (2023-10-31)\n",
      "\n",
      "Warning message:\n",
      "“package(s) not installed when version(s) same as or greater than current; use\n",
      "  `force = TRUE` to re-install: 'fgsea'”\n",
      "Old packages: 'BH', 'biomaRt', 'Biostrings', 'brew', 'brio', 'bslib',\n",
      "  'commonmark', 'cowplot', 'curl', 'data.table', 'DBI', 'desc', 'digest',\n",
      "  'GenomicAlignments', 'ggfun', 'ggrepel', 'glue', 'GOSemSim', 'graphlayouts',\n",
      "  'haven', 'htmlwidgets', 'httpuv', 'igraph', 'MASS', 'Matrix', 'mgcv', 'nlme',\n",
      "  'patchwork', 'pbdZMQ', 'pkgbuild', 'pkgload', 'ps', 'ragg', 'Rcpp',\n",
      "  'RcppArmadillo', 'RCurl', 'readr', 'reprex', 'Rhtslib', 'rlang', 'scales',\n",
      "  'shadowtext', 'shiny', 'SparseArray', 'testthat', 'tidygraph', 'tidyr',\n",
      "  'timechange', 'uuid', 'viridis', 'vroom', 'withr', 'XML', 'xml2',\n",
      "  'yulab.utils', 'zip'\n",
      "\n"
     ]
    }
   ],
   "source": [
    "#BiocManager::install('fgsea')\n",
    "library(fgsea)"
   ]
  },
  {
   "cell_type": "code",
   "execution_count": 75,
   "id": "60b04c06-23a8-42d2-b913-151a4e8dab3f",
   "metadata": {},
   "outputs": [],
   "source": [
    "GSEA = function(gene_list, GO_file, pval) {\n",
    "  set.seed(54321)\n",
    "  library(dplyr)\n",
    "  library(fgsea)\n",
    "\n",
    "  if ( any( duplicated(names(gene_list)) )  ) {\n",
    "    warning(\"Duplicates in gene names\")\n",
    "    gene_list = gene_list[!duplicated(names(gene_list))]\n",
    "  }\n",
    "  if  ( !all( order(gene_list, decreasing = TRUE) == 1:length(gene_list)) ){\n",
    "    warning(\"Gene list not sorted\")\n",
    "    gene_list = sort(gene_list, decreasing = TRUE)\n",
    "  }\n",
    "  myGO = fgsea::gmtPathways(GO_file)\n",
    "\n",
    "  fgRes <- fgsea::fgsea(pathways = myGO,\n",
    "                           stats = gene_list,\n",
    "                           minSize=15, ## minimum gene set size\n",
    "                           maxSize=400, ## maximum gene set size\n",
    "                           nperm=10000) %>% \n",
    "                  as.data.frame() %>% \n",
    "                  dplyr::filter(padj < !!pval) %>% \n",
    "                  arrange(desc(NES))\n",
    "  message(paste(\"Number of signficant gene sets =\", nrow(fgRes)))\n",
    "\n",
    "  message(\"Collapsing Pathways -----\")\n",
    "  concise_pathways = collapsePathways(data.table::as.data.table(fgRes),\n",
    "                                      pathways = myGO,\n",
    "                                      stats = gene_list)\n",
    "  fgRes = fgRes[fgRes$pathway %in% concise_pathways$mainPathways, ]\n",
    "  message(paste(\"Number of gene sets after collapsing =\", nrow(fgRes)))\n",
    "\n",
    "  fgRes$Enrichment = ifelse(fgRes$NES > 0, \"Up-regulated\", \"Down-regulated\")\n",
    "  filtRes = rbind(head(fgRes, n = 10),\n",
    "                  tail(fgRes, n = 10 ))\n",
    "\n",
    "  total_up = sum(fgRes$Enrichment == \"Up-regulated\")\n",
    "  total_down = sum(fgRes$Enrichment == \"Down-regulated\")\n",
    "  header = paste0(\"Top 10 (Total pathways: Up=\", total_up,\", Down=\",    total_down, \")\")\n",
    "\n",
    "  colos = setNames(c(\"firebrick2\", \"dodgerblue2\"),\n",
    "                 c(\"Up-regulated\", \"Down-regulated\"))\n",
    "\n",
    "g1= ggplot(filtRes, aes(reorder(pathway, NES), NES)) +\n",
    "  geom_point( aes(fill = Enrichment, size = size), shape=21) +\n",
    "  scale_fill_manual(values = colos ) +\n",
    "  scale_size_continuous(range = c(2,10)) +\n",
    "  geom_hline(yintercept = 0) +\n",
    "  coord_flip() +\n",
    "  labs(x=\"Pathway\", y=\"Normalized Enrichment Score\",\n",
    "       title=header) + \n",
    "        th\n",
    "\n",
    "  output = list(\"Results\" = fgRes, \"Plot\" = g1)\n",
    "  return(output)\n",
    "}"
   ]
  },
  {
   "cell_type": "code",
   "execution_count": 67,
   "id": "282fd09a-b14f-4ebd-91de-2e49db9bc357",
   "metadata": {},
   "outputs": [
    {
     "data": {
      "text/html": [
       "<table class=\"dataframe\">\n",
       "<caption>A data.frame: 6 × 5</caption>\n",
       "<thead>\n",
       "\t<tr><th></th><th scope=col>gene</th><th scope=col>entrez_id</th><th scope=col>logFC</th><th scope=col>pval</th><th scope=col>padj</th></tr>\n",
       "\t<tr><th></th><th scope=col>&lt;chr&gt;</th><th scope=col>&lt;int&gt;</th><th scope=col>&lt;dbl&gt;</th><th scope=col>&lt;dbl&gt;</th><th scope=col>&lt;dbl&gt;</th></tr>\n",
       "</thead>\n",
       "<tbody>\n",
       "\t<tr><th scope=row>1</th><td>LOC111099115</td><td>111099115</td><td>1.7885864</td><td>4.161092e-06</td><td>0.0002004183</td></tr>\n",
       "\t<tr><th scope=row>2</th><td>LOC111099216</td><td>111099216</td><td>1.4828614</td><td>7.544561e-04</td><td>0.0125496496</td></tr>\n",
       "\t<tr><th scope=row>3</th><td>LOC111099417</td><td>111099417</td><td>2.7487429</td><td>6.452048e-05</td><td>0.0019567084</td></tr>\n",
       "\t<tr><th scope=row>4</th><td>LOC111099424</td><td>111099424</td><td>3.4384445</td><td>3.211770e-05</td><td>0.0010745946</td></tr>\n",
       "\t<tr><th scope=row>5</th><td>LOC111099722</td><td>111099722</td><td>0.8993515</td><td>1.093514e-04</td><td>0.0028699825</td></tr>\n",
       "\t<tr><th scope=row>6</th><td>LOC111099918</td><td>111099918</td><td>0.6567512</td><td>3.539745e-03</td><td>0.0407210025</td></tr>\n",
       "</tbody>\n",
       "</table>\n"
      ],
      "text/latex": [
       "A data.frame: 6 × 5\n",
       "\\begin{tabular}{r|lllll}\n",
       "  & gene & entrez\\_id & logFC & pval & padj\\\\\n",
       "  & <chr> & <int> & <dbl> & <dbl> & <dbl>\\\\\n",
       "\\hline\n",
       "\t1 & LOC111099115 & 111099115 & 1.7885864 & 4.161092e-06 & 0.0002004183\\\\\n",
       "\t2 & LOC111099216 & 111099216 & 1.4828614 & 7.544561e-04 & 0.0125496496\\\\\n",
       "\t3 & LOC111099417 & 111099417 & 2.7487429 & 6.452048e-05 & 0.0019567084\\\\\n",
       "\t4 & LOC111099424 & 111099424 & 3.4384445 & 3.211770e-05 & 0.0010745946\\\\\n",
       "\t5 & LOC111099722 & 111099722 & 0.8993515 & 1.093514e-04 & 0.0028699825\\\\\n",
       "\t6 & LOC111099918 & 111099918 & 0.6567512 & 3.539745e-03 & 0.0407210025\\\\\n",
       "\\end{tabular}\n"
      ],
      "text/markdown": [
       "\n",
       "A data.frame: 6 × 5\n",
       "\n",
       "| <!--/--> | gene &lt;chr&gt; | entrez_id &lt;int&gt; | logFC &lt;dbl&gt; | pval &lt;dbl&gt; | padj &lt;dbl&gt; |\n",
       "|---|---|---|---|---|---|\n",
       "| 1 | LOC111099115 | 111099115 | 1.7885864 | 4.161092e-06 | 0.0002004183 |\n",
       "| 2 | LOC111099216 | 111099216 | 1.4828614 | 7.544561e-04 | 0.0125496496 |\n",
       "| 3 | LOC111099417 | 111099417 | 2.7487429 | 6.452048e-05 | 0.0019567084 |\n",
       "| 4 | LOC111099424 | 111099424 | 3.4384445 | 3.211770e-05 | 0.0010745946 |\n",
       "| 5 | LOC111099722 | 111099722 | 0.8993515 | 1.093514e-04 | 0.0028699825 |\n",
       "| 6 | LOC111099918 | 111099918 | 0.6567512 | 3.539745e-03 | 0.0407210025 |\n",
       "\n"
      ],
      "text/plain": [
       "  gene         entrez_id logFC     pval         padj        \n",
       "1 LOC111099115 111099115 1.7885864 4.161092e-06 0.0002004183\n",
       "2 LOC111099216 111099216 1.4828614 7.544561e-04 0.0125496496\n",
       "3 LOC111099417 111099417 2.7487429 6.452048e-05 0.0019567084\n",
       "4 LOC111099424 111099424 3.4384445 3.211770e-05 0.0010745946\n",
       "5 LOC111099722 111099722 0.8993515 1.093514e-04 0.0028699825\n",
       "6 LOC111099918 111099918 0.6567512 3.539745e-03 0.0407210025"
      ]
     },
     "metadata": {},
     "output_type": "display_data"
    }
   ],
   "source": [
    "head(Entrez)"
   ]
  },
  {
   "cell_type": "code",
   "execution_count": 69,
   "id": "f91e9481-c523-4770-9464-17191163e265",
   "metadata": {},
   "outputs": [
    {
     "data": {
      "text/html": [
       "<style>\n",
       ".dl-inline {width: auto; margin:0; padding: 0}\n",
       ".dl-inline>dt, .dl-inline>dd {float: none; width: auto; display: inline-block}\n",
       ".dl-inline>dt::after {content: \":\\0020\"; padding-right: .5ex}\n",
       ".dl-inline>dt:not(:first-of-type) {padding-left: .5ex}\n",
       "</style><dl class=dl-inline><dt>111114820</dt><dd>7.30455059714696</dd><dt>111114521</dt><dd>6.53848195612027</dd><dt>111119752</dt><dd>6.24813789296976</dd><dt>111107999</dt><dd>6.05372348435752</dd><dt>111105528</dt><dd>6.01734437817952</dd><dt>111125118</dt><dd>5.96543381117296</dd></dl>\n"
      ],
      "text/latex": [
       "\\begin{description*}\n",
       "\\item[111114820] 7.30455059714696\n",
       "\\item[111114521] 6.53848195612027\n",
       "\\item[111119752] 6.24813789296976\n",
       "\\item[111107999] 6.05372348435752\n",
       "\\item[111105528] 6.01734437817952\n",
       "\\item[111125118] 5.96543381117296\n",
       "\\end{description*}\n"
      ],
      "text/markdown": [
       "111114820\n",
       ":   7.30455059714696111114521\n",
       ":   6.53848195612027111119752\n",
       ":   6.24813789296976111107999\n",
       ":   6.05372348435752111105528\n",
       ":   6.01734437817952111125118\n",
       ":   5.96543381117296\n",
       "\n"
      ],
      "text/plain": [
       "111114820 111114521 111119752 111107999 111105528 111125118 \n",
       " 7.304551  6.538482  6.248138  6.053723  6.017344  5.965434 "
      ]
     },
     "metadata": {},
     "output_type": "display_data"
    }
   ],
   "source": [
    "library(dplyr)\n",
    "\n",
    "sig_genes = read.csv(\"/project/pi_sarah_gignouxwolfsohn_uml_edu/julia/CE_MethylRAD_analysis_2018/analysis/significant_genes/sig_p1_wc_genes.csv\", sep='\\t')\n",
    "gene_list = Entrez$logFC\n",
    "names(gene_list) = Entrez$entrez_id\n",
    "gene_list = sort(gene_list, decreasing = TRUE)\n",
    "gene_list = gene_list[!duplicated(names(gene_list))]\n",
    "head(gene_list)"
   ]
  },
  {
   "cell_type": "code",
   "execution_count": 86,
   "id": "abfcf4ae-8f24-4fe7-a4c0-b281cce74076",
   "metadata": {},
   "outputs": [
    {
     "data": {
      "text/html": [
       "<table class=\"dataframe\">\n",
       "<caption>A data.frame: 6 × 2</caption>\n",
       "<thead>\n",
       "\t<tr><th></th><th scope=col>gene</th><th scope=col>GO_id</th></tr>\n",
       "\t<tr><th></th><th scope=col>&lt;chr&gt;</th><th scope=col>&lt;chr&gt;</th></tr>\n",
       "</thead>\n",
       "<tbody>\n",
       "\t<tr><th scope=row>1</th><td>LOC111133408</td><td>GO:2001070           </td></tr>\n",
       "\t<tr><th scope=row>2</th><td>LOC111121603</td><td>GO:2000781,GO:2000781</td></tr>\n",
       "\t<tr><th scope=row>3</th><td>LOC111132389</td><td>GO:2000145           </td></tr>\n",
       "\t<tr><th scope=row>4</th><td>LOC111115105</td><td>GO:1990904,GO:1990904</td></tr>\n",
       "\t<tr><th scope=row>5</th><td>LOC111129853</td><td>GO:1990904,GO:1990904</td></tr>\n",
       "\t<tr><th scope=row>6</th><td>LOC111101512</td><td>GO:1990904           </td></tr>\n",
       "</tbody>\n",
       "</table>\n"
      ],
      "text/latex": [
       "A data.frame: 6 × 2\n",
       "\\begin{tabular}{r|ll}\n",
       "  & gene & GO\\_id\\\\\n",
       "  & <chr> & <chr>\\\\\n",
       "\\hline\n",
       "\t1 & LOC111133408 & GO:2001070           \\\\\n",
       "\t2 & LOC111121603 & GO:2000781,GO:2000781\\\\\n",
       "\t3 & LOC111132389 & GO:2000145           \\\\\n",
       "\t4 & LOC111115105 & GO:1990904,GO:1990904\\\\\n",
       "\t5 & LOC111129853 & GO:1990904,GO:1990904\\\\\n",
       "\t6 & LOC111101512 & GO:1990904           \\\\\n",
       "\\end{tabular}\n"
      ],
      "text/markdown": [
       "\n",
       "A data.frame: 6 × 2\n",
       "\n",
       "| <!--/--> | gene &lt;chr&gt; | GO_id &lt;chr&gt; |\n",
       "|---|---|---|\n",
       "| 1 | LOC111133408 | GO:2001070            |\n",
       "| 2 | LOC111121603 | GO:2000781,GO:2000781 |\n",
       "| 3 | LOC111132389 | GO:2000145            |\n",
       "| 4 | LOC111115105 | GO:1990904,GO:1990904 |\n",
       "| 5 | LOC111129853 | GO:1990904,GO:1990904 |\n",
       "| 6 | LOC111101512 | GO:1990904            |\n",
       "\n"
      ],
      "text/plain": [
       "  gene         GO_id                \n",
       "1 LOC111133408 GO:2001070           \n",
       "2 LOC111121603 GO:2000781,GO:2000781\n",
       "3 LOC111132389 GO:2000145           \n",
       "4 LOC111115105 GO:1990904,GO:1990904\n",
       "5 LOC111129853 GO:1990904,GO:1990904\n",
       "6 LOC111101512 GO:1990904           "
      ]
     },
     "metadata": {},
     "output_type": "display_data"
    }
   ],
   "source": [
    "GO_file <- read.csv('/project/pi_sarah_gignouxwolfsohn_uml_edu/julia/CE_MethylRAD_analysis_2018/analysis/GO_enrichment_analysis/geneID2GO.txt', row.names=NULL, sep='\\t')\n",
    "colnames(GO_file) = c('gene', 'GO_id')\n",
    "head(GO_file)"
   ]
  },
  {
   "cell_type": "code",
   "execution_count": 87,
   "id": "25261f7a-0b74-474b-926a-c1e42788f530",
   "metadata": {},
   "outputs": [
    {
     "data": {
      "text/html": [
       "<table class=\"dataframe\">\n",
       "<caption>A data.frame: 6 × 2</caption>\n",
       "<thead>\n",
       "\t<tr><th></th><th scope=col>entrez_id</th><th scope=col>GO_id</th></tr>\n",
       "\t<tr><th></th><th scope=col>&lt;int&gt;</th><th scope=col>&lt;chr&gt;</th></tr>\n",
       "</thead>\n",
       "<tbody>\n",
       "\t<tr><th scope=row>70</th><td>111099115</td><td>GO:0016255, GO:0042765                                                                                                                                                                                                                                                                   </td></tr>\n",
       "\t<tr><th scope=row>154</th><td>111099424</td><td>GO:0005794                                                                                                                                                                                                                                                                               </td></tr>\n",
       "\t<tr><th scope=row>323</th><td>111099722</td><td>GO:0016020,GO:0016020                                                                                                                                                                                                                                                                    </td></tr>\n",
       "\t<tr><th scope=row>514</th><td>111100092</td><td>GO:0004672, GO:0005524                                                                                                                                                                                                                                                                   </td></tr>\n",
       "\t<tr><th scope=row>536</th><td>111100143</td><td>GO:0005085, GO:0007264,GO:0005085, GO:0007264,GO:0005085, GO:0007264,GO:0005085, GO:0007264                                                                                                                                                                                              </td></tr>\n",
       "\t<tr><th scope=row>537</th><td>111100148</td><td>GO:0004435, GO:0005085, GO:0007264, GO:0016042,GO:0004435, GO:0005085, GO:0007264, GO:0016042,GO:0004435, GO:0005085, GO:0007264, GO:0016042,GO:0004435, GO:0005085, GO:0007264, GO:0016042,GO:0004435, GO:0005085, GO:0007264, GO:0016042,GO:0004435, GO:0005085, GO:0007264, GO:0016042</td></tr>\n",
       "</tbody>\n",
       "</table>\n"
      ],
      "text/latex": [
       "A data.frame: 6 × 2\n",
       "\\begin{tabular}{r|ll}\n",
       "  & entrez\\_id & GO\\_id\\\\\n",
       "  & <int> & <chr>\\\\\n",
       "\\hline\n",
       "\t70 & 111099115 & GO:0016255, GO:0042765                                                                                                                                                                                                                                                                   \\\\\n",
       "\t154 & 111099424 & GO:0005794                                                                                                                                                                                                                                                                               \\\\\n",
       "\t323 & 111099722 & GO:0016020,GO:0016020                                                                                                                                                                                                                                                                    \\\\\n",
       "\t514 & 111100092 & GO:0004672, GO:0005524                                                                                                                                                                                                                                                                   \\\\\n",
       "\t536 & 111100143 & GO:0005085, GO:0007264,GO:0005085, GO:0007264,GO:0005085, GO:0007264,GO:0005085, GO:0007264                                                                                                                                                                                              \\\\\n",
       "\t537 & 111100148 & GO:0004435, GO:0005085, GO:0007264, GO:0016042,GO:0004435, GO:0005085, GO:0007264, GO:0016042,GO:0004435, GO:0005085, GO:0007264, GO:0016042,GO:0004435, GO:0005085, GO:0007264, GO:0016042,GO:0004435, GO:0005085, GO:0007264, GO:0016042,GO:0004435, GO:0005085, GO:0007264, GO:0016042\\\\\n",
       "\\end{tabular}\n"
      ],
      "text/markdown": [
       "\n",
       "A data.frame: 6 × 2\n",
       "\n",
       "| <!--/--> | entrez_id &lt;int&gt; | GO_id &lt;chr&gt; |\n",
       "|---|---|---|\n",
       "| 70 | 111099115 | GO:0016255, GO:0042765                                                                                                                                                                                                                                                                    |\n",
       "| 154 | 111099424 | GO:0005794                                                                                                                                                                                                                                                                                |\n",
       "| 323 | 111099722 | GO:0016020,GO:0016020                                                                                                                                                                                                                                                                     |\n",
       "| 514 | 111100092 | GO:0004672, GO:0005524                                                                                                                                                                                                                                                                    |\n",
       "| 536 | 111100143 | GO:0005085, GO:0007264,GO:0005085, GO:0007264,GO:0005085, GO:0007264,GO:0005085, GO:0007264                                                                                                                                                                                               |\n",
       "| 537 | 111100148 | GO:0004435, GO:0005085, GO:0007264, GO:0016042,GO:0004435, GO:0005085, GO:0007264, GO:0016042,GO:0004435, GO:0005085, GO:0007264, GO:0016042,GO:0004435, GO:0005085, GO:0007264, GO:0016042,GO:0004435, GO:0005085, GO:0007264, GO:0016042,GO:0004435, GO:0005085, GO:0007264, GO:0016042 |\n",
       "\n"
      ],
      "text/plain": [
       "    entrez_id\n",
       "70  111099115\n",
       "154 111099424\n",
       "323 111099722\n",
       "514 111100092\n",
       "536 111100143\n",
       "537 111100148\n",
       "    GO_id                                                                                                                                                                                                                                                                                    \n",
       "70  GO:0016255, GO:0042765                                                                                                                                                                                                                                                                   \n",
       "154 GO:0005794                                                                                                                                                                                                                                                                               \n",
       "323 GO:0016020,GO:0016020                                                                                                                                                                                                                                                                    \n",
       "514 GO:0004672, GO:0005524                                                                                                                                                                                                                                                                   \n",
       "536 GO:0005085, GO:0007264,GO:0005085, GO:0007264,GO:0005085, GO:0007264,GO:0005085, GO:0007264                                                                                                                                                                                              \n",
       "537 GO:0004435, GO:0005085, GO:0007264, GO:0016042,GO:0004435, GO:0005085, GO:0007264, GO:0016042,GO:0004435, GO:0005085, GO:0007264, GO:0016042,GO:0004435, GO:0005085, GO:0007264, GO:0016042,GO:0004435, GO:0005085, GO:0007264, GO:0016042,GO:0004435, GO:0005085, GO:0007264, GO:0016042"
      ]
     },
     "metadata": {},
     "output_type": "display_data"
    }
   ],
   "source": [
    "merge_df <- na.omit(merge(convert, GO_file, by='gene', all=TRUE))\n",
    "GO_file <- select(merge_df, entrez_id, GO_id)\n",
    "\n",
    "head(GO_file)"
   ]
  },
  {
   "cell_type": "code",
   "execution_count": 81,
   "id": "a6ce59ae-6f33-4baf-be9e-7a3df0476441",
   "metadata": {},
   "outputs": [
    {
     "data": {
      "text/html": [
       "<style>\n",
       ".dl-inline {width: auto; margin:0; padding: 0}\n",
       ".dl-inline>dt, .dl-inline>dd {float: none; width: auto; display: inline-block}\n",
       ".dl-inline>dt::after {content: \":\\0020\"; padding-right: .5ex}\n",
       ".dl-inline>dt:not(:first-of-type) {padding-left: .5ex}\n",
       "</style><dl class=dl-inline><dt>111114820</dt><dd>7.30455059714696</dd><dt>111114521</dt><dd>6.53848195612027</dd><dt>111119752</dt><dd>6.24813789296976</dd><dt>111107999</dt><dd>6.05372348435752</dd><dt>111105528</dt><dd>6.01734437817952</dd><dt>111125118</dt><dd>5.96543381117296</dd></dl>\n"
      ],
      "text/latex": [
       "\\begin{description*}\n",
       "\\item[111114820] 7.30455059714696\n",
       "\\item[111114521] 6.53848195612027\n",
       "\\item[111119752] 6.24813789296976\n",
       "\\item[111107999] 6.05372348435752\n",
       "\\item[111105528] 6.01734437817952\n",
       "\\item[111125118] 5.96543381117296\n",
       "\\end{description*}\n"
      ],
      "text/markdown": [
       "111114820\n",
       ":   7.30455059714696111114521\n",
       ":   6.53848195612027111119752\n",
       ":   6.24813789296976111107999\n",
       ":   6.05372348435752111105528\n",
       ":   6.01734437817952111125118\n",
       ":   5.96543381117296\n",
       "\n"
      ],
      "text/plain": [
       "111114820 111114521 111119752 111107999 111105528 111125118 \n",
       " 7.304551  6.538482  6.248138  6.053723  6.017344  5.965434 "
      ]
     },
     "metadata": {},
     "output_type": "display_data"
    }
   ],
   "source": [
    "head(gene_list)"
   ]
  },
  {
   "cell_type": "markdown",
   "id": "c85e8ab3-08e0-410c-abde-6afcfa825c88",
   "metadata": {},
   "source": [
    "need to look into expected input format of these variables..."
   ]
  },
  {
   "cell_type": "code",
   "execution_count": 88,
   "id": "c76eff82-e696-4b79-9293-b712d5b4a689",
   "metadata": {},
   "outputs": [
    {
     "ename": "ERROR",
     "evalue": "Error in readLines(gmt.file): 'con' is not a connection\n",
     "output_type": "error",
     "traceback": [
      "Error in readLines(gmt.file): 'con' is not a connection\nTraceback:\n",
      "1. GSEA(gene_list, GO_file, pval = 0.05)",
      "2. fgsea::gmtPathways(GO_file)   # at line 14 of file <text>",
      "3. strsplit(readLines(gmt.file), \"\\t\")",
      "4. readLines(gmt.file)"
     ]
    }
   ],
   "source": [
    "res = GSEA(gene_list, GO_file, pval = 0.05)\n",
    "dim(res$Results)"
   ]
  }
 ],
 "metadata": {
  "kernelspec": {
   "display_name": "R [conda env:.conda-r-env]",
   "language": "R",
   "name": "conda-env-.conda-r-env-r"
  },
  "language_info": {
   "codemirror_mode": "r",
   "file_extension": ".r",
   "mimetype": "text/x-r-source",
   "name": "R",
   "pygments_lexer": "r",
   "version": "4.3.2"
  }
 },
 "nbformat": 4,
 "nbformat_minor": 5
}
