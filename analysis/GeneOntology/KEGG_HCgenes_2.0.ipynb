{
 "cells": [
  {
   "cell_type": "markdown",
   "id": "bcc467ab-355c-4e65-ac03-7152c3f66d08",
   "metadata": {},
   "source": [
    "# Pathway Enrichment Analysis \n",
    "Using KEGG analysis to explore enriched pathways from DMGs identified in pairwise comparisons with HC (hypoxic control) "
   ]
  },
  {
   "cell_type": "markdown",
   "id": "3887431b-0bcc-4147-ae5c-d9fa8ec831d1",
   "metadata": {},
   "source": [
    "#### load and prep data frames"
   ]
  },
  {
   "cell_type": "code",
   "execution_count": 2,
   "id": "301a201b-619c-4600-be4b-c816e44326db",
   "metadata": {},
   "outputs": [],
   "source": [
    "# loading libraries\n",
    "library(topGO)\n",
    "library(KEGGREST)\n",
    "library(dplyr)\n",
    "library(clusterProfiler)\n",
    "library(ggridges)\n",
    "library(ggplot2)\n",
    "library(httr)"
   ]
  },
  {
   "cell_type": "code",
   "execution_count": 3,
   "id": "c3d15675-c6b3-427a-9440-ac583db3fbe3",
   "metadata": {},
   "outputs": [],
   "source": [
    "# importing csv files\n",
    "\n",
    "#1 control control vs. hypoxic control\n",
    "CC_HC <- read.csv('/project/pi_sarah_gignouxwolfsohn_uml_edu/julia/CE_MethylRAD_analysis_2018/analysis/deseq_res_files/geneFeatures_res/CC_vs_HC.csv')\n",
    "\n",
    "#2 control hypoxic vs. hypoxic control\n",
    "CH_HC <- read.csv('/project/pi_sarah_gignouxwolfsohn_uml_edu/julia/CE_MethylRAD_analysis_2018/analysis/deseq_res_files/geneFeatures_res/CH_vs_HC.csv')\n",
    "\n",
    "#3 hypoxic hypoxic vs. hypoxic control\n",
    "HH_HC <- read.csv('/project/pi_sarah_gignouxwolfsohn_uml_edu/julia/CE_MethylRAD_analysis_2018/analysis/deseq_res_files/geneFeatures_res/HH_vs_HC.csv')\n"
   ]
  },
  {
   "cell_type": "markdown",
   "id": "d45d8434-ab94-459c-850b-5f6aac668a09",
   "metadata": {},
   "source": [
    "# All DMGs for pairwise comparisons\n",
    "functional analysis for all genes in a pairwise comparison (not just focusing on significantly differentially methylated)\n",
    "\n",
    "## control control vs. hypoxic control\n",
    "CC vs. HC"
   ]
  },
  {
   "cell_type": "code",
   "execution_count": 4,
   "id": "21999e72-8752-4b6f-81cf-e417e71c6db0",
   "metadata": {},
   "outputs": [
    {
     "data": {
      "text/html": [
       "<table class=\"dataframe\">\n",
       "<caption>A data.frame: 6 × 7</caption>\n",
       "<thead>\n",
       "\t<tr><th></th><th scope=col>X</th><th scope=col>baseMean</th><th scope=col>log2FoldChange</th><th scope=col>lfcSE</th><th scope=col>stat</th><th scope=col>pvalue</th><th scope=col>padj</th></tr>\n",
       "\t<tr><th></th><th scope=col>&lt;chr&gt;</th><th scope=col>&lt;dbl&gt;</th><th scope=col>&lt;dbl&gt;</th><th scope=col>&lt;dbl&gt;</th><th scope=col>&lt;dbl&gt;</th><th scope=col>&lt;dbl&gt;</th><th scope=col>&lt;dbl&gt;</th></tr>\n",
       "</thead>\n",
       "<tbody>\n",
       "\t<tr><th scope=row>1</th><td>LOC111116054</td><td>0.03029546</td><td> 0.00000000</td><td>0.1191171</td><td> 0</td><td> 1</td><td>NA</td></tr>\n",
       "\t<tr><th scope=row>2</th><td>LOC111126949</td><td>0.02329137</td><td>-0.01938737</td><td>0.1191171</td><td> 0</td><td> 1</td><td>NA</td></tr>\n",
       "\t<tr><th scope=row>3</th><td>LOC111110729</td><td>0.24289891</td><td>-0.06519374</td><td>0.1262758</td><td> 0</td><td> 1</td><td>NA</td></tr>\n",
       "\t<tr><th scope=row>4</th><td>LOC111112434</td><td>1.05673492</td><td> 0.07479191</td><td>0.2831554</td><td> 0</td><td> 1</td><td>NA</td></tr>\n",
       "\t<tr><th scope=row>5</th><td>LOC111120752</td><td>0.61675227</td><td> 0.01438339</td><td>0.2812740</td><td> 0</td><td> 1</td><td>NA</td></tr>\n",
       "\t<tr><th scope=row>6</th><td>LOC111128944</td><td>0.00000000</td><td>         NA</td><td>       NA</td><td>NA</td><td>NA</td><td>NA</td></tr>\n",
       "</tbody>\n",
       "</table>\n"
      ],
      "text/latex": [
       "A data.frame: 6 × 7\n",
       "\\begin{tabular}{r|lllllll}\n",
       "  & X & baseMean & log2FoldChange & lfcSE & stat & pvalue & padj\\\\\n",
       "  & <chr> & <dbl> & <dbl> & <dbl> & <dbl> & <dbl> & <dbl>\\\\\n",
       "\\hline\n",
       "\t1 & LOC111116054 & 0.03029546 &  0.00000000 & 0.1191171 &  0 &  1 & NA\\\\\n",
       "\t2 & LOC111126949 & 0.02329137 & -0.01938737 & 0.1191171 &  0 &  1 & NA\\\\\n",
       "\t3 & LOC111110729 & 0.24289891 & -0.06519374 & 0.1262758 &  0 &  1 & NA\\\\\n",
       "\t4 & LOC111112434 & 1.05673492 &  0.07479191 & 0.2831554 &  0 &  1 & NA\\\\\n",
       "\t5 & LOC111120752 & 0.61675227 &  0.01438339 & 0.2812740 &  0 &  1 & NA\\\\\n",
       "\t6 & LOC111128944 & 0.00000000 &          NA &        NA & NA & NA & NA\\\\\n",
       "\\end{tabular}\n"
      ],
      "text/markdown": [
       "\n",
       "A data.frame: 6 × 7\n",
       "\n",
       "| <!--/--> | X &lt;chr&gt; | baseMean &lt;dbl&gt; | log2FoldChange &lt;dbl&gt; | lfcSE &lt;dbl&gt; | stat &lt;dbl&gt; | pvalue &lt;dbl&gt; | padj &lt;dbl&gt; |\n",
       "|---|---|---|---|---|---|---|---|\n",
       "| 1 | LOC111116054 | 0.03029546 |  0.00000000 | 0.1191171 |  0 |  1 | NA |\n",
       "| 2 | LOC111126949 | 0.02329137 | -0.01938737 | 0.1191171 |  0 |  1 | NA |\n",
       "| 3 | LOC111110729 | 0.24289891 | -0.06519374 | 0.1262758 |  0 |  1 | NA |\n",
       "| 4 | LOC111112434 | 1.05673492 |  0.07479191 | 0.2831554 |  0 |  1 | NA |\n",
       "| 5 | LOC111120752 | 0.61675227 |  0.01438339 | 0.2812740 |  0 |  1 | NA |\n",
       "| 6 | LOC111128944 | 0.00000000 |          NA |        NA | NA | NA | NA |\n",
       "\n"
      ],
      "text/plain": [
       "  X            baseMean   log2FoldChange lfcSE     stat pvalue padj\n",
       "1 LOC111116054 0.03029546  0.00000000    0.1191171  0    1     NA  \n",
       "2 LOC111126949 0.02329137 -0.01938737    0.1191171  0    1     NA  \n",
       "3 LOC111110729 0.24289891 -0.06519374    0.1262758  0    1     NA  \n",
       "4 LOC111112434 1.05673492  0.07479191    0.2831554  0    1     NA  \n",
       "5 LOC111120752 0.61675227  0.01438339    0.2812740  0    1     NA  \n",
       "6 LOC111128944 0.00000000          NA           NA NA   NA     NA  "
      ]
     },
     "metadata": {},
     "output_type": "display_data"
    }
   ],
   "source": [
    "head(CC_HC)"
   ]
  },
  {
   "cell_type": "markdown",
   "id": "eed168af-4f71-45aa-9587-8d9206fd489a",
   "metadata": {},
   "source": [
    "formatting the df as needed to run KEGG"
   ]
  },
  {
   "cell_type": "code",
   "execution_count": 5,
   "id": "17819bbb-c113-4c5c-b062-222e9a9efa94",
   "metadata": {},
   "outputs": [
    {
     "data": {
      "text/html": [
       "<table class=\"dataframe\">\n",
       "<caption>A data.frame: 6 × 3</caption>\n",
       "<thead>\n",
       "\t<tr><th></th><th scope=col>gene</th><th scope=col>lfc</th><th scope=col>padj</th></tr>\n",
       "\t<tr><th></th><th scope=col>&lt;chr&gt;</th><th scope=col>&lt;dbl&gt;</th><th scope=col>&lt;dbl&gt;</th></tr>\n",
       "</thead>\n",
       "<tbody>\n",
       "\t<tr><th scope=row>1</th><td>111116054</td><td> 0.00000000</td><td>NA</td></tr>\n",
       "\t<tr><th scope=row>2</th><td>111126949</td><td>-0.01938737</td><td>NA</td></tr>\n",
       "\t<tr><th scope=row>3</th><td>111110729</td><td>-0.06519374</td><td>NA</td></tr>\n",
       "\t<tr><th scope=row>4</th><td>111112434</td><td> 0.07479191</td><td>NA</td></tr>\n",
       "\t<tr><th scope=row>5</th><td>111120752</td><td> 0.01438339</td><td>NA</td></tr>\n",
       "\t<tr><th scope=row>6</th><td>111128944</td><td>         NA</td><td>NA</td></tr>\n",
       "</tbody>\n",
       "</table>\n"
      ],
      "text/latex": [
       "A data.frame: 6 × 3\n",
       "\\begin{tabular}{r|lll}\n",
       "  & gene & lfc & padj\\\\\n",
       "  & <chr> & <dbl> & <dbl>\\\\\n",
       "\\hline\n",
       "\t1 & 111116054 &  0.00000000 & NA\\\\\n",
       "\t2 & 111126949 & -0.01938737 & NA\\\\\n",
       "\t3 & 111110729 & -0.06519374 & NA\\\\\n",
       "\t4 & 111112434 &  0.07479191 & NA\\\\\n",
       "\t5 & 111120752 &  0.01438339 & NA\\\\\n",
       "\t6 & 111128944 &          NA & NA\\\\\n",
       "\\end{tabular}\n"
      ],
      "text/markdown": [
       "\n",
       "A data.frame: 6 × 3\n",
       "\n",
       "| <!--/--> | gene &lt;chr&gt; | lfc &lt;dbl&gt; | padj &lt;dbl&gt; |\n",
       "|---|---|---|---|\n",
       "| 1 | 111116054 |  0.00000000 | NA |\n",
       "| 2 | 111126949 | -0.01938737 | NA |\n",
       "| 3 | 111110729 | -0.06519374 | NA |\n",
       "| 4 | 111112434 |  0.07479191 | NA |\n",
       "| 5 | 111120752 |  0.01438339 | NA |\n",
       "| 6 | 111128944 |          NA | NA |\n",
       "\n"
      ],
      "text/plain": [
       "  gene      lfc         padj\n",
       "1 111116054  0.00000000 NA  \n",
       "2 111126949 -0.01938737 NA  \n",
       "3 111110729 -0.06519374 NA  \n",
       "4 111112434  0.07479191 NA  \n",
       "5 111120752  0.01438339 NA  \n",
       "6 111128944          NA NA  "
      ]
     },
     "metadata": {},
     "output_type": "display_data"
    }
   ],
   "source": [
    "# selecting columns I need\n",
    "cc_hc <- select(CC_HC, X, log2FoldChange, padj)\n",
    "\n",
    "# KEGG uses entrez IDs, which are my ensembl IDs without the 'LOC' in front of them, so need to convert those\n",
    "cc_hc$X <- substr(cc_hc$X, start = 4, stop = nchar(cc_hc$X))\n",
    "\n",
    "# renaming columns\n",
    "colnames(cc_hc) <- c('gene', 'lfc', 'padj')\n",
    "\n",
    "head(cc_hc)"
   ]
  },
  {
   "cell_type": "code",
   "execution_count": 6,
   "id": "7eb72e44-c99b-4d0c-b464-d0bc58068d0d",
   "metadata": {},
   "outputs": [
    {
     "data": {
      "text/html": [
       "<style>\n",
       ".dl-inline {width: auto; margin:0; padding: 0}\n",
       ".dl-inline>dt, .dl-inline>dd {float: none; width: auto; display: inline-block}\n",
       ".dl-inline>dt::after {content: \":\\0020\"; padding-right: .5ex}\n",
       ".dl-inline>dt:not(:first-of-type) {padding-left: .5ex}\n",
       "</style><dl class=dl-inline><dt>111129122</dt><dd>1.83097572207872</dd><dt>111111609</dt><dd>1.51628189751498</dd><dt>111136327</dt><dd>1.38971409797047</dd><dt>111130929</dt><dd>1.38105389154781</dd><dt>111100699</dt><dd>1.37564672381954</dd><dt>111115479</dt><dd>1.36227416797229</dd></dl>\n"
      ],
      "text/latex": [
       "\\begin{description*}\n",
       "\\item[111129122] 1.83097572207872\n",
       "\\item[111111609] 1.51628189751498\n",
       "\\item[111136327] 1.38971409797047\n",
       "\\item[111130929] 1.38105389154781\n",
       "\\item[111100699] 1.37564672381954\n",
       "\\item[111115479] 1.36227416797229\n",
       "\\end{description*}\n"
      ],
      "text/markdown": [
       "111129122\n",
       ":   1.83097572207872111111609\n",
       ":   1.51628189751498111136327\n",
       ":   1.38971409797047111130929\n",
       ":   1.38105389154781111100699\n",
       ":   1.37564672381954111115479\n",
       ":   1.36227416797229\n",
       "\n"
      ],
      "text/plain": [
       "111129122 111111609 111136327 111130929 111100699 111115479 \n",
       " 1.830976  1.516282  1.389714  1.381054  1.375647  1.362274 "
      ]
     },
     "metadata": {},
     "output_type": "display_data"
    },
    {
     "data": {
      "text/html": [
       "'numeric'"
      ],
      "text/latex": [
       "'numeric'"
      ],
      "text/markdown": [
       "'numeric'"
      ],
      "text/plain": [
       "[1] \"numeric\""
      ]
     },
     "metadata": {},
     "output_type": "display_data"
    }
   ],
   "source": [
    "# creating numeric vector for kegg object\n",
    "CC_kegg_gene_list <- cc_hc$lfc # log fold change\n",
    "names(CC_kegg_gene_list) <- cc_hc$gene\n",
    "\n",
    "# omitting anything with NA in a cell\n",
    "CC_kegg_gene_list <- na.omit(CC_kegg_gene_list)\n",
    "\n",
    "# sort list in descending order by fold change\n",
    "CC_kegg_gene_list = sort(CC_kegg_gene_list, decreasing = TRUE)\n",
    "\n",
    "# checking that things look okay\n",
    "head(CC_kegg_gene_list)\n",
    "class(CC_kegg_gene_list)"
   ]
  },
  {
   "cell_type": "markdown",
   "id": "778e7b01-333a-48e0-b207-5033853593e7",
   "metadata": {},
   "source": [
    "now that my gene list looks okay - running KEGG"
   ]
  },
  {
   "cell_type": "code",
   "execution_count": 7,
   "id": "3e3aed9f-d3c2-447b-a8ef-59b2b6c162f3",
   "metadata": {},
   "outputs": [
    {
     "name": "stderr",
     "output_type": "stream",
     "text": [
      "Reading KEGG annotation online: \"https://rest.kegg.jp/link/cvn/pathway\"...\n",
      "\n",
      "Reading KEGG annotation online: \"https://rest.kegg.jp/list/pathway/cvn\"...\n",
      "\n",
      "preparing geneSet collections...\n",
      "\n",
      "GSEA analysis...\n",
      "\n",
      "Warning message in preparePathwaysAndStats(pathways, stats, minSize, maxSize, gseaParam, :\n",
      "“There are ties in the preranked stats (11.11% of the list).\n",
      "The order of those tied genes will be arbitrary, which may produce unexpected results.”\n",
      "leading edge analysis...\n",
      "\n",
      "done...\n",
      "\n"
     ]
    }
   ],
   "source": [
    "kegg_organism = 'cvn'\n",
    "CC_kk2 <- gseKEGG(geneList = CC_kegg_gene_list,\n",
    "               organism = kegg_organism,\n",
    "               #minGSSize = 1,\n",
    "               #maxGSSize = 800,\n",
    "               pvalueCutoff = 1,\n",
    "               pAdjustMethod = 'BH', #Benjamini-Hockberg FDR\n",
    "               scoreType = 'std', # standard - only change for one-tailed tests\n",
    "               keyType = 'kegg')"
   ]
  },
  {
   "cell_type": "code",
   "execution_count": 12,
   "id": "3b24fc14-5587-4bb6-9ba7-a2471c52c579",
   "metadata": {},
   "outputs": [
    {
     "data": {
      "text/html": [
       "<table class=\"dataframe\">\n",
       "<caption>A data.frame: 6 × 11</caption>\n",
       "<thead>\n",
       "\t<tr><th></th><th scope=col>ID</th><th scope=col>Description</th><th scope=col>setSize</th><th scope=col>enrichmentScore</th><th scope=col>NES</th><th scope=col>pvalue</th><th scope=col>p.adjust</th><th scope=col>qvalue</th><th scope=col>rank</th><th scope=col>leading_edge</th><th scope=col>core_enrichment</th></tr>\n",
       "\t<tr><th></th><th scope=col>&lt;chr&gt;</th><th scope=col>&lt;chr&gt;</th><th scope=col>&lt;int&gt;</th><th scope=col>&lt;dbl&gt;</th><th scope=col>&lt;dbl&gt;</th><th scope=col>&lt;dbl&gt;</th><th scope=col>&lt;dbl&gt;</th><th scope=col>&lt;dbl&gt;</th><th scope=col>&lt;dbl&gt;</th><th scope=col>&lt;chr&gt;</th><th scope=col>&lt;chr&gt;</th></tr>\n",
       "</thead>\n",
       "<tbody>\n",
       "\t<tr><th scope=row>cvn00592</th><td>cvn00592</td><td>alpha-Linolenic acid metabolism        </td><td> 22</td><td> 0.6928301</td><td> 1.807250</td><td>0.001579554</td><td>0.2100807</td><td>0.2100807</td><td>4290</td><td>tags=41%, list=17%, signal=34%</td><td>111113990/111115744/111103312/111136066/111107112/111127642/111136438/111115745/111124908                                                                                                                                                                                                                                                                                                                                                                        </td></tr>\n",
       "\t<tr><th scope=row>cvn04148</th><td>cvn04148</td><td>Efferocytosis                          </td><td>143</td><td>-0.4160657</td><td>-1.396467</td><td>0.007363476</td><td>0.4896712</td><td>0.4896712</td><td>4956</td><td>tags=31%, list=20%, signal=25%</td><td>111104883/111123084/111133224/111131676/111135761/111135946/111126055/111120235/111112332/111107795/111108226/111121996/111128693/111130979/111134431/111124840/111100224/111125427/111127575/111112708/111124014/111127133/111126890/111130762/111113319/111136548/111113754/111107779/111136229/111118230/111100192/111131845/111137094/111133023/111125144/111118427/111128744/111113250/111122163/111110874/111134350/111115463/111135109/111109809/111123492</td></tr>\n",
       "\t<tr><th scope=row>cvn00603</th><td>cvn00603</td><td>Glycosphingolipid biosynthesis         </td><td> 22</td><td>-0.6063912</td><td>-1.509368</td><td>0.036113893</td><td>0.7489260</td><td>0.7489260</td><td>1434</td><td>tags=23%, list=6%, signal=21% </td><td>111131382/111125814/111125097/111131384/111119758                                                                                                                                                                                                                                                                                                                                                                                                                </td></tr>\n",
       "\t<tr><th scope=row>cvn01040</th><td>cvn01040</td><td>Biosynthesis of unsaturated fatty acids</td><td> 32</td><td> 0.5099228</td><td> 1.458245</td><td>0.037955397</td><td>0.7489260</td><td>0.7489260</td><td>4647</td><td>tags=41%, list=19%, signal=33%</td><td>111113990/111115744/111129730/111136066/111107112/111131209/111122073/111119054/111136438/111115745/111119293/111124908/111122193                                                                                                                                                                                                                                                                                                                                </td></tr>\n",
       "\t<tr><th scope=row>cvn04980</th><td>cvn04980</td><td>Cobalamin transport and metabolism     </td><td> 19</td><td> 0.5519277</td><td> 1.398519</td><td>0.099767981</td><td>0.7489260</td><td>0.7489260</td><td>6332</td><td>tags=42%, list=26%, signal=31%</td><td>111126313/111130560/111122749/111111709/111113864/111111843/111118247/111107565                                                                                                                                                                                                                                                                                                                                                                                  </td></tr>\n",
       "\t<tr><th scope=row>cvn00310</th><td>cvn00310</td><td>Lysine degradation                     </td><td> 46</td><td>-0.4756211</td><td>-1.366749</td><td>0.069073783</td><td>0.7489260</td><td>0.7489260</td><td>2739</td><td>tags=28%, list=11%, signal=25%</td><td>111112920/111121530/111131212/111130627/111115614/111137017/111130119/111122866/111130742/111125659/111107127/111110608/111128625                                                                                                                                                                                                                                                                                                                                </td></tr>\n",
       "</tbody>\n",
       "</table>\n"
      ],
      "text/latex": [
       "A data.frame: 6 × 11\n",
       "\\begin{tabular}{r|lllllllllll}\n",
       "  & ID & Description & setSize & enrichmentScore & NES & pvalue & p.adjust & qvalue & rank & leading\\_edge & core\\_enrichment\\\\\n",
       "  & <chr> & <chr> & <int> & <dbl> & <dbl> & <dbl> & <dbl> & <dbl> & <dbl> & <chr> & <chr>\\\\\n",
       "\\hline\n",
       "\tcvn00592 & cvn00592 & alpha-Linolenic acid metabolism         &  22 &  0.6928301 &  1.807250 & 0.001579554 & 0.2100807 & 0.2100807 & 4290 & tags=41\\%, list=17\\%, signal=34\\% & 111113990/111115744/111103312/111136066/111107112/111127642/111136438/111115745/111124908                                                                                                                                                                                                                                                                                                                                                                        \\\\\n",
       "\tcvn04148 & cvn04148 & Efferocytosis                           & 143 & -0.4160657 & -1.396467 & 0.007363476 & 0.4896712 & 0.4896712 & 4956 & tags=31\\%, list=20\\%, signal=25\\% & 111104883/111123084/111133224/111131676/111135761/111135946/111126055/111120235/111112332/111107795/111108226/111121996/111128693/111130979/111134431/111124840/111100224/111125427/111127575/111112708/111124014/111127133/111126890/111130762/111113319/111136548/111113754/111107779/111136229/111118230/111100192/111131845/111137094/111133023/111125144/111118427/111128744/111113250/111122163/111110874/111134350/111115463/111135109/111109809/111123492\\\\\n",
       "\tcvn00603 & cvn00603 & Glycosphingolipid biosynthesis          &  22 & -0.6063912 & -1.509368 & 0.036113893 & 0.7489260 & 0.7489260 & 1434 & tags=23\\%, list=6\\%, signal=21\\%  & 111131382/111125814/111125097/111131384/111119758                                                                                                                                                                                                                                                                                                                                                                                                                \\\\\n",
       "\tcvn01040 & cvn01040 & Biosynthesis of unsaturated fatty acids &  32 &  0.5099228 &  1.458245 & 0.037955397 & 0.7489260 & 0.7489260 & 4647 & tags=41\\%, list=19\\%, signal=33\\% & 111113990/111115744/111129730/111136066/111107112/111131209/111122073/111119054/111136438/111115745/111119293/111124908/111122193                                                                                                                                                                                                                                                                                                                                \\\\\n",
       "\tcvn04980 & cvn04980 & Cobalamin transport and metabolism      &  19 &  0.5519277 &  1.398519 & 0.099767981 & 0.7489260 & 0.7489260 & 6332 & tags=42\\%, list=26\\%, signal=31\\% & 111126313/111130560/111122749/111111709/111113864/111111843/111118247/111107565                                                                                                                                                                                                                                                                                                                                                                                  \\\\\n",
       "\tcvn00310 & cvn00310 & Lysine degradation                      &  46 & -0.4756211 & -1.366749 & 0.069073783 & 0.7489260 & 0.7489260 & 2739 & tags=28\\%, list=11\\%, signal=25\\% & 111112920/111121530/111131212/111130627/111115614/111137017/111130119/111122866/111130742/111125659/111107127/111110608/111128625                                                                                                                                                                                                                                                                                                                                \\\\\n",
       "\\end{tabular}\n"
      ],
      "text/markdown": [
       "\n",
       "A data.frame: 6 × 11\n",
       "\n",
       "| <!--/--> | ID &lt;chr&gt; | Description &lt;chr&gt; | setSize &lt;int&gt; | enrichmentScore &lt;dbl&gt; | NES &lt;dbl&gt; | pvalue &lt;dbl&gt; | p.adjust &lt;dbl&gt; | qvalue &lt;dbl&gt; | rank &lt;dbl&gt; | leading_edge &lt;chr&gt; | core_enrichment &lt;chr&gt; |\n",
       "|---|---|---|---|---|---|---|---|---|---|---|---|\n",
       "| cvn00592 | cvn00592 | alpha-Linolenic acid metabolism         |  22 |  0.6928301 |  1.807250 | 0.001579554 | 0.2100807 | 0.2100807 | 4290 | tags=41%, list=17%, signal=34% | 111113990/111115744/111103312/111136066/111107112/111127642/111136438/111115745/111124908                                                                                                                                                                                                                                                                                                                                                                         |\n",
       "| cvn04148 | cvn04148 | Efferocytosis                           | 143 | -0.4160657 | -1.396467 | 0.007363476 | 0.4896712 | 0.4896712 | 4956 | tags=31%, list=20%, signal=25% | 111104883/111123084/111133224/111131676/111135761/111135946/111126055/111120235/111112332/111107795/111108226/111121996/111128693/111130979/111134431/111124840/111100224/111125427/111127575/111112708/111124014/111127133/111126890/111130762/111113319/111136548/111113754/111107779/111136229/111118230/111100192/111131845/111137094/111133023/111125144/111118427/111128744/111113250/111122163/111110874/111134350/111115463/111135109/111109809/111123492 |\n",
       "| cvn00603 | cvn00603 | Glycosphingolipid biosynthesis          |  22 | -0.6063912 | -1.509368 | 0.036113893 | 0.7489260 | 0.7489260 | 1434 | tags=23%, list=6%, signal=21%  | 111131382/111125814/111125097/111131384/111119758                                                                                                                                                                                                                                                                                                                                                                                                                 |\n",
       "| cvn01040 | cvn01040 | Biosynthesis of unsaturated fatty acids |  32 |  0.5099228 |  1.458245 | 0.037955397 | 0.7489260 | 0.7489260 | 4647 | tags=41%, list=19%, signal=33% | 111113990/111115744/111129730/111136066/111107112/111131209/111122073/111119054/111136438/111115745/111119293/111124908/111122193                                                                                                                                                                                                                                                                                                                                 |\n",
       "| cvn04980 | cvn04980 | Cobalamin transport and metabolism      |  19 |  0.5519277 |  1.398519 | 0.099767981 | 0.7489260 | 0.7489260 | 6332 | tags=42%, list=26%, signal=31% | 111126313/111130560/111122749/111111709/111113864/111111843/111118247/111107565                                                                                                                                                                                                                                                                                                                                                                                   |\n",
       "| cvn00310 | cvn00310 | Lysine degradation                      |  46 | -0.4756211 | -1.366749 | 0.069073783 | 0.7489260 | 0.7489260 | 2739 | tags=28%, list=11%, signal=25% | 111112920/111121530/111131212/111130627/111115614/111137017/111130119/111122866/111130742/111125659/111107127/111110608/111128625                                                                                                                                                                                                                                                                                                                                 |\n",
       "\n"
      ],
      "text/plain": [
       "         ID       Description                             setSize\n",
       "cvn00592 cvn00592 alpha-Linolenic acid metabolism          22    \n",
       "cvn04148 cvn04148 Efferocytosis                           143    \n",
       "cvn00603 cvn00603 Glycosphingolipid biosynthesis           22    \n",
       "cvn01040 cvn01040 Biosynthesis of unsaturated fatty acids  32    \n",
       "cvn04980 cvn04980 Cobalamin transport and metabolism       19    \n",
       "cvn00310 cvn00310 Lysine degradation                       46    \n",
       "         enrichmentScore NES       pvalue      p.adjust  qvalue    rank\n",
       "cvn00592  0.6928301       1.807250 0.001579554 0.2100807 0.2100807 4290\n",
       "cvn04148 -0.4160657      -1.396467 0.007363476 0.4896712 0.4896712 4956\n",
       "cvn00603 -0.6063912      -1.509368 0.036113893 0.7489260 0.7489260 1434\n",
       "cvn01040  0.5099228       1.458245 0.037955397 0.7489260 0.7489260 4647\n",
       "cvn04980  0.5519277       1.398519 0.099767981 0.7489260 0.7489260 6332\n",
       "cvn00310 -0.4756211      -1.366749 0.069073783 0.7489260 0.7489260 2739\n",
       "         leading_edge                  \n",
       "cvn00592 tags=41%, list=17%, signal=34%\n",
       "cvn04148 tags=31%, list=20%, signal=25%\n",
       "cvn00603 tags=23%, list=6%, signal=21% \n",
       "cvn01040 tags=41%, list=19%, signal=33%\n",
       "cvn04980 tags=42%, list=26%, signal=31%\n",
       "cvn00310 tags=28%, list=11%, signal=25%\n",
       "         core_enrichment                                                                                                                                                                                                                                                                                                                                                                                                                                                  \n",
       "cvn00592 111113990/111115744/111103312/111136066/111107112/111127642/111136438/111115745/111124908                                                                                                                                                                                                                                                                                                                                                                        \n",
       "cvn04148 111104883/111123084/111133224/111131676/111135761/111135946/111126055/111120235/111112332/111107795/111108226/111121996/111128693/111130979/111134431/111124840/111100224/111125427/111127575/111112708/111124014/111127133/111126890/111130762/111113319/111136548/111113754/111107779/111136229/111118230/111100192/111131845/111137094/111133023/111125144/111118427/111128744/111113250/111122163/111110874/111134350/111115463/111135109/111109809/111123492\n",
       "cvn00603 111131382/111125814/111125097/111131384/111119758                                                                                                                                                                                                                                                                                                                                                                                                                \n",
       "cvn01040 111113990/111115744/111129730/111136066/111107112/111131209/111122073/111119054/111136438/111115745/111119293/111124908/111122193                                                                                                                                                                                                                                                                                                                                \n",
       "cvn04980 111126313/111130560/111122749/111111709/111113864/111111843/111118247/111107565                                                                                                                                                                                                                                                                                                                                                                                  \n",
       "cvn00310 111112920/111121530/111131212/111130627/111115614/111137017/111130119/111122866/111130742/111125659/111107127/111110608/111128625                                                                                                                                                                                                                                                                                                                                "
      ]
     },
     "metadata": {},
     "output_type": "display_data"
    }
   ],
   "source": [
    "CC_kk2_df <- as.data.frame(CC_kk2)\n",
    "CC_kk2_df$Description <- sub(\" -.*\", \"\", CC_kk2_df$Description)\n",
    "head(CC_kk2_df)"
   ]
  },
  {
   "cell_type": "code",
   "execution_count": 9,
   "id": "01388b71-7b2c-455e-bbf5-c83f5c4a7b1a",
   "metadata": {},
   "outputs": [
    {
     "data": {
      "text/html": [
       "<table class=\"dataframe\">\n",
       "<caption>A data.frame: 10 × 11</caption>\n",
       "<thead>\n",
       "\t<tr><th></th><th scope=col>ID</th><th scope=col>Description</th><th scope=col>setSize</th><th scope=col>enrichmentScore</th><th scope=col>NES</th><th scope=col>pvalue</th><th scope=col>p.adjust</th><th scope=col>qvalue</th><th scope=col>rank</th><th scope=col>leading_edge</th><th scope=col>core_enrichment</th></tr>\n",
       "\t<tr><th></th><th scope=col>&lt;chr&gt;</th><th scope=col>&lt;chr&gt;</th><th scope=col>&lt;int&gt;</th><th scope=col>&lt;dbl&gt;</th><th scope=col>&lt;dbl&gt;</th><th scope=col>&lt;dbl&gt;</th><th scope=col>&lt;dbl&gt;</th><th scope=col>&lt;dbl&gt;</th><th scope=col>&lt;dbl&gt;</th><th scope=col>&lt;chr&gt;</th><th scope=col>&lt;chr&gt;</th></tr>\n",
       "</thead>\n",
       "<tbody>\n",
       "\t<tr><th scope=row>cvn00592</th><td>cvn00592</td><td>alpha-Linolenic acid metabolism         </td><td> 22</td><td> 0.6928301</td><td> 1.807250</td><td>0.001579554</td><td>0.2100807</td><td>0.2100807</td><td>4290</td><td>tags=41%, list=17%, signal=34%</td><td>111113990/111115744/111103312/111136066/111107112/111127642/111136438/111115745/111124908                                                                                                                                                                                                                                                                                                                                                                        </td></tr>\n",
       "\t<tr><th scope=row>cvn04148</th><td>cvn04148</td><td>Efferocytosis                           </td><td>143</td><td>-0.4160657</td><td>-1.396467</td><td>0.007363476</td><td>0.4896712</td><td>0.4896712</td><td>4956</td><td>tags=31%, list=20%, signal=25%</td><td>111104883/111123084/111133224/111131676/111135761/111135946/111126055/111120235/111112332/111107795/111108226/111121996/111128693/111130979/111134431/111124840/111100224/111125427/111127575/111112708/111124014/111127133/111126890/111130762/111113319/111136548/111113754/111107779/111136229/111118230/111100192/111131845/111137094/111133023/111125144/111118427/111128744/111113250/111122163/111110874/111134350/111115463/111135109/111109809/111123492</td></tr>\n",
       "\t<tr><th scope=row>cvn00603</th><td>cvn00603</td><td>Glycosphingolipid biosynthesis          </td><td> 22</td><td>-0.6063912</td><td>-1.509368</td><td>0.036113893</td><td>0.7489260</td><td>0.7489260</td><td>1434</td><td>tags=23%, list=6%, signal=21% </td><td>111131382/111125814/111125097/111131384/111119758                                                                                                                                                                                                                                                                                                                                                                                                                </td></tr>\n",
       "\t<tr><th scope=row>cvn01040</th><td>cvn01040</td><td>Biosynthesis of unsaturated fatty acids </td><td> 32</td><td> 0.5099228</td><td> 1.458245</td><td>0.037955397</td><td>0.7489260</td><td>0.7489260</td><td>4647</td><td>tags=41%, list=19%, signal=33%</td><td>111113990/111115744/111129730/111136066/111107112/111131209/111122073/111119054/111136438/111115745/111119293/111124908/111122193                                                                                                                                                                                                                                                                                                                                </td></tr>\n",
       "\t<tr><th scope=row>cvn03015</th><td>cvn03015</td><td>mRNA surveillance pathway               </td><td> 71</td><td> 0.3879639</td><td> 1.293714</td><td>0.040295991</td><td>0.7489260</td><td>0.7489260</td><td>4992</td><td>tags=42%, list=20%, signal=34%</td><td>111116311/111130886/111127981/111128721/111132883/111136672/111122880/111133404/111130413/111129219/111110811/111126090/111111718/111129063/111136311/111135732/111138235/111138201/111135694/111103429/111114674/111130150/111108043/111128988/111118318/111135433/111130065/111134286/111121238/111101712                                                                                                                                                      </td></tr>\n",
       "\t<tr><th scope=row>cvn00561</th><td>cvn00561</td><td>Glycerolipid metabolism                 </td><td> 63</td><td> 0.3978828</td><td> 1.309088</td><td>0.051117980</td><td>0.7489260</td><td>0.7489260</td><td>3331</td><td>tags=24%, list=14%, signal=21%</td><td>111121919/111131656/111109441/111104123/111115675/111124876/111137368/111130726/111100090/111109442/111130419/111130644/111131560/111103498/111131063                                                                                                                                                                                                                                                                                                            </td></tr>\n",
       "\t<tr><th scope=row>cvn00310</th><td>cvn00310</td><td>Lysine degradation                      </td><td> 46</td><td>-0.4756211</td><td>-1.366749</td><td>0.069073783</td><td>0.7489260</td><td>0.7489260</td><td>2739</td><td>tags=28%, list=11%, signal=25%</td><td>111112920/111121530/111131212/111130627/111115614/111137017/111130119/111122866/111130742/111125659/111107127/111110608/111128625                                                                                                                                                                                                                                                                                                                                </td></tr>\n",
       "\t<tr><th scope=row>cvn00640</th><td>cvn00640</td><td>Propanoate metabolism                   </td><td> 37</td><td> 0.4640701</td><td> 1.357465</td><td>0.072916667</td><td>0.7489260</td><td>0.7489260</td><td>3845</td><td>tags=38%, list=16%, signal=32%</td><td>111119686/111119284/111105925/111136066/111107112/111109254/111101152/111121118/111104175/111100566/111136438/111129319/111115883/111105866                                                                                                                                                                                                                                                                                                                      </td></tr>\n",
       "\t<tr><th scope=row>cvn04310</th><td>cvn04310</td><td>Wnt signaling pathway                   </td><td> 96</td><td> 0.3440985</td><td> 1.213629</td><td>0.090032154</td><td>0.7489260</td><td>0.7489260</td><td>4867</td><td>tags=29%, list=20%, signal=23%</td><td>111105834/111100874/111121723/111106534/111129877/111134629/111105510/111126610/111118497/111122907/111119203/111100808/111135231/111112989/111117044/111135208/111135857/111117024/111101169/111108661/111125644/111104770/111122527/111123211/111103593/111135167/111106049/111125073                                                                                                                                                                          </td></tr>\n",
       "\t<tr><th scope=row>cvn00260</th><td>cvn00260</td><td>Glycine, serine and threonine metabolism</td><td> 53</td><td>-0.4391160</td><td>-1.289223</td><td>0.098918083</td><td>0.7489260</td><td>0.7489260</td><td>5640</td><td>tags=49%, list=23%, signal=38%</td><td>111118058/111125858/111137345/111115125/111119088/111135360/111108232/111118059/111122380/111108560/111122125/111122379/111137062/111137350/111137349/111111318/111118061/111108492/111122141/111121920/111128087/111114474/111130119/111120495/111137347/111128625                                                                                                                                                                                              </td></tr>\n",
       "</tbody>\n",
       "</table>\n"
      ],
      "text/latex": [
       "A data.frame: 10 × 11\n",
       "\\begin{tabular}{r|lllllllllll}\n",
       "  & ID & Description & setSize & enrichmentScore & NES & pvalue & p.adjust & qvalue & rank & leading\\_edge & core\\_enrichment\\\\\n",
       "  & <chr> & <chr> & <int> & <dbl> & <dbl> & <dbl> & <dbl> & <dbl> & <dbl> & <chr> & <chr>\\\\\n",
       "\\hline\n",
       "\tcvn00592 & cvn00592 & alpha-Linolenic acid metabolism          &  22 &  0.6928301 &  1.807250 & 0.001579554 & 0.2100807 & 0.2100807 & 4290 & tags=41\\%, list=17\\%, signal=34\\% & 111113990/111115744/111103312/111136066/111107112/111127642/111136438/111115745/111124908                                                                                                                                                                                                                                                                                                                                                                        \\\\\n",
       "\tcvn04148 & cvn04148 & Efferocytosis                            & 143 & -0.4160657 & -1.396467 & 0.007363476 & 0.4896712 & 0.4896712 & 4956 & tags=31\\%, list=20\\%, signal=25\\% & 111104883/111123084/111133224/111131676/111135761/111135946/111126055/111120235/111112332/111107795/111108226/111121996/111128693/111130979/111134431/111124840/111100224/111125427/111127575/111112708/111124014/111127133/111126890/111130762/111113319/111136548/111113754/111107779/111136229/111118230/111100192/111131845/111137094/111133023/111125144/111118427/111128744/111113250/111122163/111110874/111134350/111115463/111135109/111109809/111123492\\\\\n",
       "\tcvn00603 & cvn00603 & Glycosphingolipid biosynthesis           &  22 & -0.6063912 & -1.509368 & 0.036113893 & 0.7489260 & 0.7489260 & 1434 & tags=23\\%, list=6\\%, signal=21\\%  & 111131382/111125814/111125097/111131384/111119758                                                                                                                                                                                                                                                                                                                                                                                                                \\\\\n",
       "\tcvn01040 & cvn01040 & Biosynthesis of unsaturated fatty acids  &  32 &  0.5099228 &  1.458245 & 0.037955397 & 0.7489260 & 0.7489260 & 4647 & tags=41\\%, list=19\\%, signal=33\\% & 111113990/111115744/111129730/111136066/111107112/111131209/111122073/111119054/111136438/111115745/111119293/111124908/111122193                                                                                                                                                                                                                                                                                                                                \\\\\n",
       "\tcvn03015 & cvn03015 & mRNA surveillance pathway                &  71 &  0.3879639 &  1.293714 & 0.040295991 & 0.7489260 & 0.7489260 & 4992 & tags=42\\%, list=20\\%, signal=34\\% & 111116311/111130886/111127981/111128721/111132883/111136672/111122880/111133404/111130413/111129219/111110811/111126090/111111718/111129063/111136311/111135732/111138235/111138201/111135694/111103429/111114674/111130150/111108043/111128988/111118318/111135433/111130065/111134286/111121238/111101712                                                                                                                                                      \\\\\n",
       "\tcvn00561 & cvn00561 & Glycerolipid metabolism                  &  63 &  0.3978828 &  1.309088 & 0.051117980 & 0.7489260 & 0.7489260 & 3331 & tags=24\\%, list=14\\%, signal=21\\% & 111121919/111131656/111109441/111104123/111115675/111124876/111137368/111130726/111100090/111109442/111130419/111130644/111131560/111103498/111131063                                                                                                                                                                                                                                                                                                            \\\\\n",
       "\tcvn00310 & cvn00310 & Lysine degradation                       &  46 & -0.4756211 & -1.366749 & 0.069073783 & 0.7489260 & 0.7489260 & 2739 & tags=28\\%, list=11\\%, signal=25\\% & 111112920/111121530/111131212/111130627/111115614/111137017/111130119/111122866/111130742/111125659/111107127/111110608/111128625                                                                                                                                                                                                                                                                                                                                \\\\\n",
       "\tcvn00640 & cvn00640 & Propanoate metabolism                    &  37 &  0.4640701 &  1.357465 & 0.072916667 & 0.7489260 & 0.7489260 & 3845 & tags=38\\%, list=16\\%, signal=32\\% & 111119686/111119284/111105925/111136066/111107112/111109254/111101152/111121118/111104175/111100566/111136438/111129319/111115883/111105866                                                                                                                                                                                                                                                                                                                      \\\\\n",
       "\tcvn04310 & cvn04310 & Wnt signaling pathway                    &  96 &  0.3440985 &  1.213629 & 0.090032154 & 0.7489260 & 0.7489260 & 4867 & tags=29\\%, list=20\\%, signal=23\\% & 111105834/111100874/111121723/111106534/111129877/111134629/111105510/111126610/111118497/111122907/111119203/111100808/111135231/111112989/111117044/111135208/111135857/111117024/111101169/111108661/111125644/111104770/111122527/111123211/111103593/111135167/111106049/111125073                                                                                                                                                                          \\\\\n",
       "\tcvn00260 & cvn00260 & Glycine, serine and threonine metabolism &  53 & -0.4391160 & -1.289223 & 0.098918083 & 0.7489260 & 0.7489260 & 5640 & tags=49\\%, list=23\\%, signal=38\\% & 111118058/111125858/111137345/111115125/111119088/111135360/111108232/111118059/111122380/111108560/111122125/111122379/111137062/111137350/111137349/111111318/111118061/111108492/111122141/111121920/111128087/111114474/111130119/111120495/111137347/111128625                                                                                                                                                                                              \\\\\n",
       "\\end{tabular}\n"
      ],
      "text/markdown": [
       "\n",
       "A data.frame: 10 × 11\n",
       "\n",
       "| <!--/--> | ID &lt;chr&gt; | Description &lt;chr&gt; | setSize &lt;int&gt; | enrichmentScore &lt;dbl&gt; | NES &lt;dbl&gt; | pvalue &lt;dbl&gt; | p.adjust &lt;dbl&gt; | qvalue &lt;dbl&gt; | rank &lt;dbl&gt; | leading_edge &lt;chr&gt; | core_enrichment &lt;chr&gt; |\n",
       "|---|---|---|---|---|---|---|---|---|---|---|---|\n",
       "| cvn00592 | cvn00592 | alpha-Linolenic acid metabolism          |  22 |  0.6928301 |  1.807250 | 0.001579554 | 0.2100807 | 0.2100807 | 4290 | tags=41%, list=17%, signal=34% | 111113990/111115744/111103312/111136066/111107112/111127642/111136438/111115745/111124908                                                                                                                                                                                                                                                                                                                                                                         |\n",
       "| cvn04148 | cvn04148 | Efferocytosis                            | 143 | -0.4160657 | -1.396467 | 0.007363476 | 0.4896712 | 0.4896712 | 4956 | tags=31%, list=20%, signal=25% | 111104883/111123084/111133224/111131676/111135761/111135946/111126055/111120235/111112332/111107795/111108226/111121996/111128693/111130979/111134431/111124840/111100224/111125427/111127575/111112708/111124014/111127133/111126890/111130762/111113319/111136548/111113754/111107779/111136229/111118230/111100192/111131845/111137094/111133023/111125144/111118427/111128744/111113250/111122163/111110874/111134350/111115463/111135109/111109809/111123492 |\n",
       "| cvn00603 | cvn00603 | Glycosphingolipid biosynthesis           |  22 | -0.6063912 | -1.509368 | 0.036113893 | 0.7489260 | 0.7489260 | 1434 | tags=23%, list=6%, signal=21%  | 111131382/111125814/111125097/111131384/111119758                                                                                                                                                                                                                                                                                                                                                                                                                 |\n",
       "| cvn01040 | cvn01040 | Biosynthesis of unsaturated fatty acids  |  32 |  0.5099228 |  1.458245 | 0.037955397 | 0.7489260 | 0.7489260 | 4647 | tags=41%, list=19%, signal=33% | 111113990/111115744/111129730/111136066/111107112/111131209/111122073/111119054/111136438/111115745/111119293/111124908/111122193                                                                                                                                                                                                                                                                                                                                 |\n",
       "| cvn03015 | cvn03015 | mRNA surveillance pathway                |  71 |  0.3879639 |  1.293714 | 0.040295991 | 0.7489260 | 0.7489260 | 4992 | tags=42%, list=20%, signal=34% | 111116311/111130886/111127981/111128721/111132883/111136672/111122880/111133404/111130413/111129219/111110811/111126090/111111718/111129063/111136311/111135732/111138235/111138201/111135694/111103429/111114674/111130150/111108043/111128988/111118318/111135433/111130065/111134286/111121238/111101712                                                                                                                                                       |\n",
       "| cvn00561 | cvn00561 | Glycerolipid metabolism                  |  63 |  0.3978828 |  1.309088 | 0.051117980 | 0.7489260 | 0.7489260 | 3331 | tags=24%, list=14%, signal=21% | 111121919/111131656/111109441/111104123/111115675/111124876/111137368/111130726/111100090/111109442/111130419/111130644/111131560/111103498/111131063                                                                                                                                                                                                                                                                                                             |\n",
       "| cvn00310 | cvn00310 | Lysine degradation                       |  46 | -0.4756211 | -1.366749 | 0.069073783 | 0.7489260 | 0.7489260 | 2739 | tags=28%, list=11%, signal=25% | 111112920/111121530/111131212/111130627/111115614/111137017/111130119/111122866/111130742/111125659/111107127/111110608/111128625                                                                                                                                                                                                                                                                                                                                 |\n",
       "| cvn00640 | cvn00640 | Propanoate metabolism                    |  37 |  0.4640701 |  1.357465 | 0.072916667 | 0.7489260 | 0.7489260 | 3845 | tags=38%, list=16%, signal=32% | 111119686/111119284/111105925/111136066/111107112/111109254/111101152/111121118/111104175/111100566/111136438/111129319/111115883/111105866                                                                                                                                                                                                                                                                                                                       |\n",
       "| cvn04310 | cvn04310 | Wnt signaling pathway                    |  96 |  0.3440985 |  1.213629 | 0.090032154 | 0.7489260 | 0.7489260 | 4867 | tags=29%, list=20%, signal=23% | 111105834/111100874/111121723/111106534/111129877/111134629/111105510/111126610/111118497/111122907/111119203/111100808/111135231/111112989/111117044/111135208/111135857/111117024/111101169/111108661/111125644/111104770/111122527/111123211/111103593/111135167/111106049/111125073                                                                                                                                                                           |\n",
       "| cvn00260 | cvn00260 | Glycine, serine and threonine metabolism |  53 | -0.4391160 | -1.289223 | 0.098918083 | 0.7489260 | 0.7489260 | 5640 | tags=49%, list=23%, signal=38% | 111118058/111125858/111137345/111115125/111119088/111135360/111108232/111118059/111122380/111108560/111122125/111122379/111137062/111137350/111137349/111111318/111118061/111108492/111122141/111121920/111128087/111114474/111130119/111120495/111137347/111128625                                                                                                                                                                                               |\n",
       "\n"
      ],
      "text/plain": [
       "         ID       Description                              setSize\n",
       "cvn00592 cvn00592 alpha-Linolenic acid metabolism           22    \n",
       "cvn04148 cvn04148 Efferocytosis                            143    \n",
       "cvn00603 cvn00603 Glycosphingolipid biosynthesis            22    \n",
       "cvn01040 cvn01040 Biosynthesis of unsaturated fatty acids   32    \n",
       "cvn03015 cvn03015 mRNA surveillance pathway                 71    \n",
       "cvn00561 cvn00561 Glycerolipid metabolism                   63    \n",
       "cvn00310 cvn00310 Lysine degradation                        46    \n",
       "cvn00640 cvn00640 Propanoate metabolism                     37    \n",
       "cvn04310 cvn04310 Wnt signaling pathway                     96    \n",
       "cvn00260 cvn00260 Glycine, serine and threonine metabolism  53    \n",
       "         enrichmentScore NES       pvalue      p.adjust  qvalue    rank\n",
       "cvn00592  0.6928301       1.807250 0.001579554 0.2100807 0.2100807 4290\n",
       "cvn04148 -0.4160657      -1.396467 0.007363476 0.4896712 0.4896712 4956\n",
       "cvn00603 -0.6063912      -1.509368 0.036113893 0.7489260 0.7489260 1434\n",
       "cvn01040  0.5099228       1.458245 0.037955397 0.7489260 0.7489260 4647\n",
       "cvn03015  0.3879639       1.293714 0.040295991 0.7489260 0.7489260 4992\n",
       "cvn00561  0.3978828       1.309088 0.051117980 0.7489260 0.7489260 3331\n",
       "cvn00310 -0.4756211      -1.366749 0.069073783 0.7489260 0.7489260 2739\n",
       "cvn00640  0.4640701       1.357465 0.072916667 0.7489260 0.7489260 3845\n",
       "cvn04310  0.3440985       1.213629 0.090032154 0.7489260 0.7489260 4867\n",
       "cvn00260 -0.4391160      -1.289223 0.098918083 0.7489260 0.7489260 5640\n",
       "         leading_edge                  \n",
       "cvn00592 tags=41%, list=17%, signal=34%\n",
       "cvn04148 tags=31%, list=20%, signal=25%\n",
       "cvn00603 tags=23%, list=6%, signal=21% \n",
       "cvn01040 tags=41%, list=19%, signal=33%\n",
       "cvn03015 tags=42%, list=20%, signal=34%\n",
       "cvn00561 tags=24%, list=14%, signal=21%\n",
       "cvn00310 tags=28%, list=11%, signal=25%\n",
       "cvn00640 tags=38%, list=16%, signal=32%\n",
       "cvn04310 tags=29%, list=20%, signal=23%\n",
       "cvn00260 tags=49%, list=23%, signal=38%\n",
       "         core_enrichment                                                                                                                                                                                                                                                                                                                                                                                                                                                  \n",
       "cvn00592 111113990/111115744/111103312/111136066/111107112/111127642/111136438/111115745/111124908                                                                                                                                                                                                                                                                                                                                                                        \n",
       "cvn04148 111104883/111123084/111133224/111131676/111135761/111135946/111126055/111120235/111112332/111107795/111108226/111121996/111128693/111130979/111134431/111124840/111100224/111125427/111127575/111112708/111124014/111127133/111126890/111130762/111113319/111136548/111113754/111107779/111136229/111118230/111100192/111131845/111137094/111133023/111125144/111118427/111128744/111113250/111122163/111110874/111134350/111115463/111135109/111109809/111123492\n",
       "cvn00603 111131382/111125814/111125097/111131384/111119758                                                                                                                                                                                                                                                                                                                                                                                                                \n",
       "cvn01040 111113990/111115744/111129730/111136066/111107112/111131209/111122073/111119054/111136438/111115745/111119293/111124908/111122193                                                                                                                                                                                                                                                                                                                                \n",
       "cvn03015 111116311/111130886/111127981/111128721/111132883/111136672/111122880/111133404/111130413/111129219/111110811/111126090/111111718/111129063/111136311/111135732/111138235/111138201/111135694/111103429/111114674/111130150/111108043/111128988/111118318/111135433/111130065/111134286/111121238/111101712                                                                                                                                                      \n",
       "cvn00561 111121919/111131656/111109441/111104123/111115675/111124876/111137368/111130726/111100090/111109442/111130419/111130644/111131560/111103498/111131063                                                                                                                                                                                                                                                                                                            \n",
       "cvn00310 111112920/111121530/111131212/111130627/111115614/111137017/111130119/111122866/111130742/111125659/111107127/111110608/111128625                                                                                                                                                                                                                                                                                                                                \n",
       "cvn00640 111119686/111119284/111105925/111136066/111107112/111109254/111101152/111121118/111104175/111100566/111136438/111129319/111115883/111105866                                                                                                                                                                                                                                                                                                                      \n",
       "cvn04310 111105834/111100874/111121723/111106534/111129877/111134629/111105510/111126610/111118497/111122907/111119203/111100808/111135231/111112989/111117044/111135208/111135857/111117024/111101169/111108661/111125644/111104770/111122527/111123211/111103593/111135167/111106049/111125073                                                                                                                                                                          \n",
       "cvn00260 111118058/111125858/111137345/111115125/111119088/111135360/111108232/111118059/111122380/111108560/111122125/111122379/111137062/111137350/111137349/111111318/111118061/111108492/111122141/111121920/111128087/111114474/111130119/111120495/111137347/111128625                                                                                                                                                                                              "
      ]
     },
     "metadata": {},
     "output_type": "display_data"
    }
   ],
   "source": [
    "top10_CC <- head(CC_kk2_df[order(CC_kk2_df$pvalue), ], 10)\n",
    "top10_CC"
   ]
  },
  {
   "cell_type": "code",
   "execution_count": 10,
   "id": "7ccd83fc-3730-485d-8b00-5ebcf1c09845",
   "metadata": {},
   "outputs": [
    {
     "data": {
      "text/html": [
       "<table class=\"dataframe\">\n",
       "<caption>A data.frame: 10 × 3</caption>\n",
       "<thead>\n",
       "\t<tr><th></th><th scope=col>Description</th><th scope=col>pvalue</th><th scope=col>p.adjust</th></tr>\n",
       "\t<tr><th></th><th scope=col>&lt;chr&gt;</th><th scope=col>&lt;dbl&gt;</th><th scope=col>&lt;dbl&gt;</th></tr>\n",
       "</thead>\n",
       "<tbody>\n",
       "\t<tr><th scope=row>cvn00592</th><td>alpha-Linolenic acid metabolism         </td><td>0.001579554</td><td>0.2100807</td></tr>\n",
       "\t<tr><th scope=row>cvn04148</th><td>Efferocytosis                           </td><td>0.007363476</td><td>0.4896712</td></tr>\n",
       "\t<tr><th scope=row>cvn00603</th><td>Glycosphingolipid biosynthesis          </td><td>0.036113893</td><td>0.7489260</td></tr>\n",
       "\t<tr><th scope=row>cvn01040</th><td>Biosynthesis of unsaturated fatty acids </td><td>0.037955397</td><td>0.7489260</td></tr>\n",
       "\t<tr><th scope=row>cvn03015</th><td>mRNA surveillance pathway               </td><td>0.040295991</td><td>0.7489260</td></tr>\n",
       "\t<tr><th scope=row>cvn00561</th><td>Glycerolipid metabolism                 </td><td>0.051117980</td><td>0.7489260</td></tr>\n",
       "\t<tr><th scope=row>cvn00310</th><td>Lysine degradation                      </td><td>0.069073783</td><td>0.7489260</td></tr>\n",
       "\t<tr><th scope=row>cvn00640</th><td>Propanoate metabolism                   </td><td>0.072916667</td><td>0.7489260</td></tr>\n",
       "\t<tr><th scope=row>cvn04310</th><td>Wnt signaling pathway                   </td><td>0.090032154</td><td>0.7489260</td></tr>\n",
       "\t<tr><th scope=row>cvn00260</th><td>Glycine, serine and threonine metabolism</td><td>0.098918083</td><td>0.7489260</td></tr>\n",
       "</tbody>\n",
       "</table>\n"
      ],
      "text/latex": [
       "A data.frame: 10 × 3\n",
       "\\begin{tabular}{r|lll}\n",
       "  & Description & pvalue & p.adjust\\\\\n",
       "  & <chr> & <dbl> & <dbl>\\\\\n",
       "\\hline\n",
       "\tcvn00592 & alpha-Linolenic acid metabolism          & 0.001579554 & 0.2100807\\\\\n",
       "\tcvn04148 & Efferocytosis                            & 0.007363476 & 0.4896712\\\\\n",
       "\tcvn00603 & Glycosphingolipid biosynthesis           & 0.036113893 & 0.7489260\\\\\n",
       "\tcvn01040 & Biosynthesis of unsaturated fatty acids  & 0.037955397 & 0.7489260\\\\\n",
       "\tcvn03015 & mRNA surveillance pathway                & 0.040295991 & 0.7489260\\\\\n",
       "\tcvn00561 & Glycerolipid metabolism                  & 0.051117980 & 0.7489260\\\\\n",
       "\tcvn00310 & Lysine degradation                       & 0.069073783 & 0.7489260\\\\\n",
       "\tcvn00640 & Propanoate metabolism                    & 0.072916667 & 0.7489260\\\\\n",
       "\tcvn04310 & Wnt signaling pathway                    & 0.090032154 & 0.7489260\\\\\n",
       "\tcvn00260 & Glycine, serine and threonine metabolism & 0.098918083 & 0.7489260\\\\\n",
       "\\end{tabular}\n"
      ],
      "text/markdown": [
       "\n",
       "A data.frame: 10 × 3\n",
       "\n",
       "| <!--/--> | Description &lt;chr&gt; | pvalue &lt;dbl&gt; | p.adjust &lt;dbl&gt; |\n",
       "|---|---|---|---|\n",
       "| cvn00592 | alpha-Linolenic acid metabolism          | 0.001579554 | 0.2100807 |\n",
       "| cvn04148 | Efferocytosis                            | 0.007363476 | 0.4896712 |\n",
       "| cvn00603 | Glycosphingolipid biosynthesis           | 0.036113893 | 0.7489260 |\n",
       "| cvn01040 | Biosynthesis of unsaturated fatty acids  | 0.037955397 | 0.7489260 |\n",
       "| cvn03015 | mRNA surveillance pathway                | 0.040295991 | 0.7489260 |\n",
       "| cvn00561 | Glycerolipid metabolism                  | 0.051117980 | 0.7489260 |\n",
       "| cvn00310 | Lysine degradation                       | 0.069073783 | 0.7489260 |\n",
       "| cvn00640 | Propanoate metabolism                    | 0.072916667 | 0.7489260 |\n",
       "| cvn04310 | Wnt signaling pathway                    | 0.090032154 | 0.7489260 |\n",
       "| cvn00260 | Glycine, serine and threonine metabolism | 0.098918083 | 0.7489260 |\n",
       "\n"
      ],
      "text/plain": [
       "         Description                              pvalue      p.adjust \n",
       "cvn00592 alpha-Linolenic acid metabolism          0.001579554 0.2100807\n",
       "cvn04148 Efferocytosis                            0.007363476 0.4896712\n",
       "cvn00603 Glycosphingolipid biosynthesis           0.036113893 0.7489260\n",
       "cvn01040 Biosynthesis of unsaturated fatty acids  0.037955397 0.7489260\n",
       "cvn03015 mRNA surveillance pathway                0.040295991 0.7489260\n",
       "cvn00561 Glycerolipid metabolism                  0.051117980 0.7489260\n",
       "cvn00310 Lysine degradation                       0.069073783 0.7489260\n",
       "cvn00640 Propanoate metabolism                    0.072916667 0.7489260\n",
       "cvn04310 Wnt signaling pathway                    0.090032154 0.7489260\n",
       "cvn00260 Glycine, serine and threonine metabolism 0.098918083 0.7489260"
      ]
     },
     "metadata": {},
     "output_type": "display_data"
    }
   ],
   "source": [
    "select(top10_CC, Description, pvalue, p.adjust)"
   ]
  },
  {
   "cell_type": "markdown",
   "id": "4c634e6e-daec-4a3a-b7b1-76ce8545ef5d",
   "metadata": {},
   "source": [
    "the code below takes a long time to run - should only be run once, then have the resulting df saved into a csv to just call back for analysis afterwords"
   ]
  },
  {
   "cell_type": "markdown",
   "id": "be83f102-cfb8-4d15-b9dd-7a4e50b84018",
   "metadata": {
    "jp-MarkdownHeadingCollapsed": true,
    "tags": []
   },
   "source": [
    "generated with help of ChatGPT\n",
    "Function to get pathway names\n",
    "```get_pathway_names <- function(kegg_id) {\n",
    "  url <- paste0(\"http://rest.kegg.jp/get/\", kegg_id)\n",
    "  response <- GET(url)\n",
    "  \n",
    "  if (status_code(response) == 200) {\n",
    "    pathway_info <- content(response, \"text\", encoding = \"UTF-8\")\n",
    "    general_pathway <- NA\n",
    "    detailed_pathway <- NA\n",
    "    \n",
    "    # Extracting general and detailed pathways from the pathway info\n",
    "    lines <- strsplit(pathway_info, \"\\n\")[[1]]\n",
    "    for (line in lines) {\n",
    "      if (grepl(\"^CLASS\", line)) {\n",
    "        paths <- unlist(strsplit(line, \";\"))\n",
    "        general_pathway <- trimws(paths[1])\n",
    "        detailed_pathway <- ifelse(length(paths) > 1, trimws(paths[2]), NA)\n",
    "        break\n",
    "      }\n",
    "    }\n",
    "    \n",
    "    return(list(General_Pathway = general_pathway, Detailed_Pathway = detailed_pathway))\n",
    "  } else {\n",
    "    cat(\"Failed to retrieve information for pathway:\", kegg_id, \"\\n\")\n",
    "    return(NULL)\n",
    "  }\n",
    "}\n",
    "```\n",
    "generated with help of ChatGPT\n",
    "```\n",
    "gseKEGG_df <- select(CC_kk2_df, ID, Description, enrichmentScore, p.adj)\n",
    "```\n",
    "Function to apply to each KEGG ID in the dataframe\n",
    "```\n",
    "pathway_info <- lapply(gseKEGG_df$ID, get_pathway_names)\n",
    "```\n",
    "Combine pathway info into a dataframe\n",
    "```\n",
    "pathway_df <- do.call(rbind, pathway_info)\n",
    "colnames(pathway_df) <- c('GeneralPathway', 'DetailedPathway')\n",
    "```\n",
    "Combine pathway info with original dataframe\n",
    "```\n",
    "gseKEGG_df <- cbind(gseKEGG_df, pathway_df)\n",
    "```\n",
    "Print the dataframe\n",
    "```\n",
    "head(as.data.frame(gseKEGG_df))\n",
    "df <- as.data.frame(gseKEGG_df)\n",
    "```\n",
    "cleaning up GeneralPathway column to only include the pathway name and not CLASS\n",
    "```\n",
    "column <- df$GeneralPathway\n",
    "column <- gsub('^CLASS\\\\s+', '', column)\n",
    "df$GeneralPathway <- column\n",
    "```\n",
    "also changing DetailedPathway into character instead of list to be able to write csv\n",
    "```\n",
    "df$DetailedPathway <- as.character(df$DetailedPathway)\n",
    "head(df)\n",
    "```"
   ]
  },
  {
   "cell_type": "code",
   "execution_count": 13,
   "id": "a32ad29b-1202-49f1-b6a8-bd51a5313224",
   "metadata": {
    "jp-MarkdownHeadingCollapsed": true,
    "tags": []
   },
   "outputs": [
    {
     "data": {
      "text/html": [
       "<table class=\"dataframe\">\n",
       "<caption>A data.frame: 6 × 6</caption>\n",
       "<thead>\n",
       "\t<tr><th></th><th scope=col>ID</th><th scope=col>Description</th><th scope=col>enrichmentScore</th><th scope=col>p.adjust</th><th scope=col>GeneralPathway</th><th scope=col>DetailedPathway</th></tr>\n",
       "\t<tr><th></th><th scope=col>&lt;chr&gt;</th><th scope=col>&lt;chr&gt;</th><th scope=col>&lt;dbl&gt;</th><th scope=col>&lt;dbl&gt;</th><th scope=col>&lt;list&gt;</th><th scope=col>&lt;list&gt;</th></tr>\n",
       "</thead>\n",
       "<tbody>\n",
       "\t<tr><th scope=row>cvn00592</th><td>cvn00592</td><td>alpha-Linolenic acid metabolism        </td><td> 0.6928301</td><td>0.2100807</td><td>CLASS   ....</td><td>Lipid me....</td></tr>\n",
       "\t<tr><th scope=row>cvn04148</th><td>cvn04148</td><td>Efferocytosis                          </td><td>-0.4160657</td><td>0.4896712</td><td>CLASS   ....</td><td>Transpor....</td></tr>\n",
       "\t<tr><th scope=row>cvn00603</th><td>cvn00603</td><td>Glycosphingolipid biosynthesis         </td><td>-0.6063912</td><td>0.7489260</td><td>CLASS   ....</td><td>Glycan b....</td></tr>\n",
       "\t<tr><th scope=row>cvn01040</th><td>cvn01040</td><td>Biosynthesis of unsaturated fatty acids</td><td> 0.5099228</td><td>0.7489260</td><td>CLASS   ....</td><td>Lipid me....</td></tr>\n",
       "\t<tr><th scope=row>cvn04980</th><td>cvn04980</td><td>Cobalamin transport and metabolism     </td><td> 0.5519277</td><td>0.7489260</td><td>CLASS   ....</td><td>Digestiv....</td></tr>\n",
       "\t<tr><th scope=row>cvn00310</th><td>cvn00310</td><td>Lysine degradation                     </td><td>-0.4756211</td><td>0.7489260</td><td>CLASS   ....</td><td>Amino ac....</td></tr>\n",
       "</tbody>\n",
       "</table>\n"
      ],
      "text/latex": [
       "A data.frame: 6 × 6\n",
       "\\begin{tabular}{r|llllll}\n",
       "  & ID & Description & enrichmentScore & p.adjust & GeneralPathway & DetailedPathway\\\\\n",
       "  & <chr> & <chr> & <dbl> & <dbl> & <list> & <list>\\\\\n",
       "\\hline\n",
       "\tcvn00592 & cvn00592 & alpha-Linolenic acid metabolism         &  0.6928301 & 0.2100807 & CLASS   .... & Lipid me....\\\\\n",
       "\tcvn04148 & cvn04148 & Efferocytosis                           & -0.4160657 & 0.4896712 & CLASS   .... & Transpor....\\\\\n",
       "\tcvn00603 & cvn00603 & Glycosphingolipid biosynthesis          & -0.6063912 & 0.7489260 & CLASS   .... & Glycan b....\\\\\n",
       "\tcvn01040 & cvn01040 & Biosynthesis of unsaturated fatty acids &  0.5099228 & 0.7489260 & CLASS   .... & Lipid me....\\\\\n",
       "\tcvn04980 & cvn04980 & Cobalamin transport and metabolism      &  0.5519277 & 0.7489260 & CLASS   .... & Digestiv....\\\\\n",
       "\tcvn00310 & cvn00310 & Lysine degradation                      & -0.4756211 & 0.7489260 & CLASS   .... & Amino ac....\\\\\n",
       "\\end{tabular}\n"
      ],
      "text/markdown": [
       "\n",
       "A data.frame: 6 × 6\n",
       "\n",
       "| <!--/--> | ID &lt;chr&gt; | Description &lt;chr&gt; | enrichmentScore &lt;dbl&gt; | p.adjust &lt;dbl&gt; | GeneralPathway &lt;list&gt; | DetailedPathway &lt;list&gt; |\n",
       "|---|---|---|---|---|---|---|\n",
       "| cvn00592 | cvn00592 | alpha-Linolenic acid metabolism         |  0.6928301 | 0.2100807 | CLASS   .... | Lipid me.... |\n",
       "| cvn04148 | cvn04148 | Efferocytosis                           | -0.4160657 | 0.4896712 | CLASS   .... | Transpor.... |\n",
       "| cvn00603 | cvn00603 | Glycosphingolipid biosynthesis          | -0.6063912 | 0.7489260 | CLASS   .... | Glycan b.... |\n",
       "| cvn01040 | cvn01040 | Biosynthesis of unsaturated fatty acids |  0.5099228 | 0.7489260 | CLASS   .... | Lipid me.... |\n",
       "| cvn04980 | cvn04980 | Cobalamin transport and metabolism      |  0.5519277 | 0.7489260 | CLASS   .... | Digestiv.... |\n",
       "| cvn00310 | cvn00310 | Lysine degradation                      | -0.4756211 | 0.7489260 | CLASS   .... | Amino ac.... |\n",
       "\n"
      ],
      "text/plain": [
       "         ID       Description                             enrichmentScore\n",
       "cvn00592 cvn00592 alpha-Linolenic acid metabolism          0.6928301     \n",
       "cvn04148 cvn04148 Efferocytosis                           -0.4160657     \n",
       "cvn00603 cvn00603 Glycosphingolipid biosynthesis          -0.6063912     \n",
       "cvn01040 cvn01040 Biosynthesis of unsaturated fatty acids  0.5099228     \n",
       "cvn04980 cvn04980 Cobalamin transport and metabolism       0.5519277     \n",
       "cvn00310 cvn00310 Lysine degradation                      -0.4756211     \n",
       "         p.adjust  GeneralPathway DetailedPathway\n",
       "cvn00592 0.2100807 CLASS   ....   Lipid me....   \n",
       "cvn04148 0.4896712 CLASS   ....   Transpor....   \n",
       "cvn00603 0.7489260 CLASS   ....   Glycan b....   \n",
       "cvn01040 0.7489260 CLASS   ....   Lipid me....   \n",
       "cvn04980 0.7489260 CLASS   ....   Digestiv....   \n",
       "cvn00310 0.7489260 CLASS   ....   Amino ac....   "
      ]
     },
     "metadata": {},
     "output_type": "display_data"
    },
    {
     "data": {
      "text/html": [
       "<table class=\"dataframe\">\n",
       "<caption>A data.frame: 6 × 6</caption>\n",
       "<thead>\n",
       "\t<tr><th></th><th scope=col>ID</th><th scope=col>Description</th><th scope=col>enrichmentScore</th><th scope=col>p.adjust</th><th scope=col>GeneralPathway</th><th scope=col>DetailedPathway</th></tr>\n",
       "\t<tr><th></th><th scope=col>&lt;chr&gt;</th><th scope=col>&lt;chr&gt;</th><th scope=col>&lt;dbl&gt;</th><th scope=col>&lt;dbl&gt;</th><th scope=col>&lt;chr&gt;</th><th scope=col>&lt;chr&gt;</th></tr>\n",
       "</thead>\n",
       "<tbody>\n",
       "\t<tr><th scope=row>cvn00592</th><td>cvn00592</td><td>alpha-Linolenic acid metabolism        </td><td> 0.6928301</td><td>0.2100807</td><td>Metabolism        </td><td>Lipid metabolism                  </td></tr>\n",
       "\t<tr><th scope=row>cvn04148</th><td>cvn04148</td><td>Efferocytosis                          </td><td>-0.4160657</td><td>0.4896712</td><td>Cellular Processes</td><td>Transport and catabolism          </td></tr>\n",
       "\t<tr><th scope=row>cvn00603</th><td>cvn00603</td><td>Glycosphingolipid biosynthesis         </td><td>-0.6063912</td><td>0.7489260</td><td>Metabolism        </td><td>Glycan biosynthesis and metabolism</td></tr>\n",
       "\t<tr><th scope=row>cvn01040</th><td>cvn01040</td><td>Biosynthesis of unsaturated fatty acids</td><td> 0.5099228</td><td>0.7489260</td><td>Metabolism        </td><td>Lipid metabolism                  </td></tr>\n",
       "\t<tr><th scope=row>cvn04980</th><td>cvn04980</td><td>Cobalamin transport and metabolism     </td><td> 0.5519277</td><td>0.7489260</td><td>Organismal Systems</td><td>Digestive system                  </td></tr>\n",
       "\t<tr><th scope=row>cvn00310</th><td>cvn00310</td><td>Lysine degradation                     </td><td>-0.4756211</td><td>0.7489260</td><td>Metabolism        </td><td>Amino acid metabolism             </td></tr>\n",
       "</tbody>\n",
       "</table>\n"
      ],
      "text/latex": [
       "A data.frame: 6 × 6\n",
       "\\begin{tabular}{r|llllll}\n",
       "  & ID & Description & enrichmentScore & p.adjust & GeneralPathway & DetailedPathway\\\\\n",
       "  & <chr> & <chr> & <dbl> & <dbl> & <chr> & <chr>\\\\\n",
       "\\hline\n",
       "\tcvn00592 & cvn00592 & alpha-Linolenic acid metabolism         &  0.6928301 & 0.2100807 & Metabolism         & Lipid metabolism                  \\\\\n",
       "\tcvn04148 & cvn04148 & Efferocytosis                           & -0.4160657 & 0.4896712 & Cellular Processes & Transport and catabolism          \\\\\n",
       "\tcvn00603 & cvn00603 & Glycosphingolipid biosynthesis          & -0.6063912 & 0.7489260 & Metabolism         & Glycan biosynthesis and metabolism\\\\\n",
       "\tcvn01040 & cvn01040 & Biosynthesis of unsaturated fatty acids &  0.5099228 & 0.7489260 & Metabolism         & Lipid metabolism                  \\\\\n",
       "\tcvn04980 & cvn04980 & Cobalamin transport and metabolism      &  0.5519277 & 0.7489260 & Organismal Systems & Digestive system                  \\\\\n",
       "\tcvn00310 & cvn00310 & Lysine degradation                      & -0.4756211 & 0.7489260 & Metabolism         & Amino acid metabolism             \\\\\n",
       "\\end{tabular}\n"
      ],
      "text/markdown": [
       "\n",
       "A data.frame: 6 × 6\n",
       "\n",
       "| <!--/--> | ID &lt;chr&gt; | Description &lt;chr&gt; | enrichmentScore &lt;dbl&gt; | p.adjust &lt;dbl&gt; | GeneralPathway &lt;chr&gt; | DetailedPathway &lt;chr&gt; |\n",
       "|---|---|---|---|---|---|---|\n",
       "| cvn00592 | cvn00592 | alpha-Linolenic acid metabolism         |  0.6928301 | 0.2100807 | Metabolism         | Lipid metabolism                   |\n",
       "| cvn04148 | cvn04148 | Efferocytosis                           | -0.4160657 | 0.4896712 | Cellular Processes | Transport and catabolism           |\n",
       "| cvn00603 | cvn00603 | Glycosphingolipid biosynthesis          | -0.6063912 | 0.7489260 | Metabolism         | Glycan biosynthesis and metabolism |\n",
       "| cvn01040 | cvn01040 | Biosynthesis of unsaturated fatty acids |  0.5099228 | 0.7489260 | Metabolism         | Lipid metabolism                   |\n",
       "| cvn04980 | cvn04980 | Cobalamin transport and metabolism      |  0.5519277 | 0.7489260 | Organismal Systems | Digestive system                   |\n",
       "| cvn00310 | cvn00310 | Lysine degradation                      | -0.4756211 | 0.7489260 | Metabolism         | Amino acid metabolism              |\n",
       "\n"
      ],
      "text/plain": [
       "         ID       Description                             enrichmentScore\n",
       "cvn00592 cvn00592 alpha-Linolenic acid metabolism          0.6928301     \n",
       "cvn04148 cvn04148 Efferocytosis                           -0.4160657     \n",
       "cvn00603 cvn00603 Glycosphingolipid biosynthesis          -0.6063912     \n",
       "cvn01040 cvn01040 Biosynthesis of unsaturated fatty acids  0.5099228     \n",
       "cvn04980 cvn04980 Cobalamin transport and metabolism       0.5519277     \n",
       "cvn00310 cvn00310 Lysine degradation                      -0.4756211     \n",
       "         p.adjust  GeneralPathway     DetailedPathway                   \n",
       "cvn00592 0.2100807 Metabolism         Lipid metabolism                  \n",
       "cvn04148 0.4896712 Cellular Processes Transport and catabolism          \n",
       "cvn00603 0.7489260 Metabolism         Glycan biosynthesis and metabolism\n",
       "cvn01040 0.7489260 Metabolism         Lipid metabolism                  \n",
       "cvn04980 0.7489260 Organismal Systems Digestive system                  \n",
       "cvn00310 0.7489260 Metabolism         Amino acid metabolism             "
      ]
     },
     "metadata": {},
     "output_type": "display_data"
    }
   ],
   "source": [
    "get_pathway_names <- function(kegg_id) {\n",
    "  url <- paste0(\"http://rest.kegg.jp/get/\", kegg_id)\n",
    "  response <- GET(url)\n",
    "  \n",
    "  if (status_code(response) == 200) {\n",
    "    pathway_info <- content(response, \"text\", encoding = \"UTF-8\")\n",
    "    general_pathway <- NA\n",
    "    detailed_pathway <- NA\n",
    "    \n",
    "    # Extracting general and detailed pathways from the pathway info\n",
    "    lines <- strsplit(pathway_info, \"\\n\")[[1]]\n",
    "    for (line in lines) {\n",
    "      if (grepl(\"^CLASS\", line)) {\n",
    "        paths <- unlist(strsplit(line, \";\"))\n",
    "        general_pathway <- trimws(paths[1])\n",
    "        detailed_pathway <- ifelse(length(paths) > 1, trimws(paths[2]), NA)\n",
    "        break\n",
    "      }\n",
    "    }\n",
    "    \n",
    "    return(list(General_Pathway = general_pathway, Detailed_Pathway = detailed_pathway))\n",
    "  } else {\n",
    "    cat(\"Failed to retrieve information for pathway:\", kegg_id, \"\\n\")\n",
    "    return(NULL)\n",
    "  }\n",
    "}\n",
    "\n",
    "\n",
    "gseKEGG_df <- select(CC_kk2_df, ID, Description, enrichmentScore, p.adjust)\n",
    "\n",
    "pathway_info <- lapply(gseKEGG_df$ID, get_pathway_names)\n",
    "\n",
    "pathway_df <- do.call(rbind, pathway_info)\n",
    "colnames(pathway_df) <- c('GeneralPathway', 'DetailedPathway')\n",
    "\n",
    "gseKEGG_df <- cbind(gseKEGG_df, pathway_df)\n",
    "\n",
    "head(as.data.frame(gseKEGG_df))\n",
    "df <- as.data.frame(gseKEGG_df)\n",
    "\n",
    "column <- df$GeneralPathway\n",
    "column <- gsub('^CLASS\\\\s+', '', column)\n",
    "df$GeneralPathway <- column\n",
    "\n",
    "df$DetailedPathway <- as.character(df$DetailedPathway)\n",
    "head(df)\n"
   ]
  },
  {
   "cell_type": "code",
   "execution_count": 14,
   "id": "819d2e2c-2689-4510-a7ee-f31b319aaf7d",
   "metadata": {},
   "outputs": [
    {
     "data": {
      "text/html": [
       "<table class=\"dataframe\">\n",
       "<caption>A data.frame: 6 × 6</caption>\n",
       "<thead>\n",
       "\t<tr><th></th><th scope=col>ID</th><th scope=col>Description</th><th scope=col>enrichmentScore</th><th scope=col>p.adjust</th><th scope=col>GeneralPathway</th><th scope=col>DetailedPathway</th></tr>\n",
       "\t<tr><th></th><th scope=col>&lt;chr&gt;</th><th scope=col>&lt;chr&gt;</th><th scope=col>&lt;dbl&gt;</th><th scope=col>&lt;dbl&gt;</th><th scope=col>&lt;list&gt;</th><th scope=col>&lt;list&gt;</th></tr>\n",
       "</thead>\n",
       "<tbody>\n",
       "\t<tr><th scope=row>cvn00592</th><td>cvn00592</td><td>alpha-Linolenic acid metabolism        </td><td> 0.6928301</td><td>0.2100807</td><td>CLASS   ....</td><td>Lipid me....</td></tr>\n",
       "\t<tr><th scope=row>cvn04148</th><td>cvn04148</td><td>Efferocytosis                          </td><td>-0.4160657</td><td>0.4896712</td><td>CLASS   ....</td><td>Transpor....</td></tr>\n",
       "\t<tr><th scope=row>cvn00603</th><td>cvn00603</td><td>Glycosphingolipid biosynthesis         </td><td>-0.6063912</td><td>0.7489260</td><td>CLASS   ....</td><td>Glycan b....</td></tr>\n",
       "\t<tr><th scope=row>cvn01040</th><td>cvn01040</td><td>Biosynthesis of unsaturated fatty acids</td><td> 0.5099228</td><td>0.7489260</td><td>CLASS   ....</td><td>Lipid me....</td></tr>\n",
       "\t<tr><th scope=row>cvn04980</th><td>cvn04980</td><td>Cobalamin transport and metabolism     </td><td> 0.5519277</td><td>0.7489260</td><td>CLASS   ....</td><td>Digestiv....</td></tr>\n",
       "\t<tr><th scope=row>cvn00310</th><td>cvn00310</td><td>Lysine degradation                     </td><td>-0.4756211</td><td>0.7489260</td><td>CLASS   ....</td><td>Amino ac....</td></tr>\n",
       "</tbody>\n",
       "</table>\n"
      ],
      "text/latex": [
       "A data.frame: 6 × 6\n",
       "\\begin{tabular}{r|llllll}\n",
       "  & ID & Description & enrichmentScore & p.adjust & GeneralPathway & DetailedPathway\\\\\n",
       "  & <chr> & <chr> & <dbl> & <dbl> & <list> & <list>\\\\\n",
       "\\hline\n",
       "\tcvn00592 & cvn00592 & alpha-Linolenic acid metabolism         &  0.6928301 & 0.2100807 & CLASS   .... & Lipid me....\\\\\n",
       "\tcvn04148 & cvn04148 & Efferocytosis                           & -0.4160657 & 0.4896712 & CLASS   .... & Transpor....\\\\\n",
       "\tcvn00603 & cvn00603 & Glycosphingolipid biosynthesis          & -0.6063912 & 0.7489260 & CLASS   .... & Glycan b....\\\\\n",
       "\tcvn01040 & cvn01040 & Biosynthesis of unsaturated fatty acids &  0.5099228 & 0.7489260 & CLASS   .... & Lipid me....\\\\\n",
       "\tcvn04980 & cvn04980 & Cobalamin transport and metabolism      &  0.5519277 & 0.7489260 & CLASS   .... & Digestiv....\\\\\n",
       "\tcvn00310 & cvn00310 & Lysine degradation                      & -0.4756211 & 0.7489260 & CLASS   .... & Amino ac....\\\\\n",
       "\\end{tabular}\n"
      ],
      "text/markdown": [
       "\n",
       "A data.frame: 6 × 6\n",
       "\n",
       "| <!--/--> | ID &lt;chr&gt; | Description &lt;chr&gt; | enrichmentScore &lt;dbl&gt; | p.adjust &lt;dbl&gt; | GeneralPathway &lt;list&gt; | DetailedPathway &lt;list&gt; |\n",
       "|---|---|---|---|---|---|---|\n",
       "| cvn00592 | cvn00592 | alpha-Linolenic acid metabolism         |  0.6928301 | 0.2100807 | CLASS   .... | Lipid me.... |\n",
       "| cvn04148 | cvn04148 | Efferocytosis                           | -0.4160657 | 0.4896712 | CLASS   .... | Transpor.... |\n",
       "| cvn00603 | cvn00603 | Glycosphingolipid biosynthesis          | -0.6063912 | 0.7489260 | CLASS   .... | Glycan b.... |\n",
       "| cvn01040 | cvn01040 | Biosynthesis of unsaturated fatty acids |  0.5099228 | 0.7489260 | CLASS   .... | Lipid me.... |\n",
       "| cvn04980 | cvn04980 | Cobalamin transport and metabolism      |  0.5519277 | 0.7489260 | CLASS   .... | Digestiv.... |\n",
       "| cvn00310 | cvn00310 | Lysine degradation                      | -0.4756211 | 0.7489260 | CLASS   .... | Amino ac.... |\n",
       "\n"
      ],
      "text/plain": [
       "         ID       Description                             enrichmentScore\n",
       "cvn00592 cvn00592 alpha-Linolenic acid metabolism          0.6928301     \n",
       "cvn04148 cvn04148 Efferocytosis                           -0.4160657     \n",
       "cvn00603 cvn00603 Glycosphingolipid biosynthesis          -0.6063912     \n",
       "cvn01040 cvn01040 Biosynthesis of unsaturated fatty acids  0.5099228     \n",
       "cvn04980 cvn04980 Cobalamin transport and metabolism       0.5519277     \n",
       "cvn00310 cvn00310 Lysine degradation                      -0.4756211     \n",
       "         p.adjust  GeneralPathway DetailedPathway\n",
       "cvn00592 0.2100807 CLASS   ....   Lipid me....   \n",
       "cvn04148 0.4896712 CLASS   ....   Transpor....   \n",
       "cvn00603 0.7489260 CLASS   ....   Glycan b....   \n",
       "cvn01040 0.7489260 CLASS   ....   Lipid me....   \n",
       "cvn04980 0.7489260 CLASS   ....   Digestiv....   \n",
       "cvn00310 0.7489260 CLASS   ....   Amino ac....   "
      ]
     },
     "metadata": {},
     "output_type": "display_data"
    },
    {
     "data": {
      "text/html": [
       "<table class=\"dataframe\">\n",
       "<caption>A data.frame: 6 × 6</caption>\n",
       "<thead>\n",
       "\t<tr><th></th><th scope=col>ID</th><th scope=col>Description</th><th scope=col>enrichmentScore</th><th scope=col>p.adjust</th><th scope=col>GeneralPathway</th><th scope=col>DetailedPathway</th></tr>\n",
       "\t<tr><th></th><th scope=col>&lt;chr&gt;</th><th scope=col>&lt;chr&gt;</th><th scope=col>&lt;dbl&gt;</th><th scope=col>&lt;dbl&gt;</th><th scope=col>&lt;chr&gt;</th><th scope=col>&lt;chr&gt;</th></tr>\n",
       "</thead>\n",
       "<tbody>\n",
       "\t<tr><th scope=row>cvn00592</th><td>cvn00592</td><td>alpha-Linolenic acid metabolism        </td><td> 0.6928301</td><td>0.2100807</td><td>Metabolism        </td><td>Lipid metabolism                  </td></tr>\n",
       "\t<tr><th scope=row>cvn04148</th><td>cvn04148</td><td>Efferocytosis                          </td><td>-0.4160657</td><td>0.4896712</td><td>Cellular Processes</td><td>Transport and catabolism          </td></tr>\n",
       "\t<tr><th scope=row>cvn00603</th><td>cvn00603</td><td>Glycosphingolipid biosynthesis         </td><td>-0.6063912</td><td>0.7489260</td><td>Metabolism        </td><td>Glycan biosynthesis and metabolism</td></tr>\n",
       "\t<tr><th scope=row>cvn01040</th><td>cvn01040</td><td>Biosynthesis of unsaturated fatty acids</td><td> 0.5099228</td><td>0.7489260</td><td>Metabolism        </td><td>Lipid metabolism                  </td></tr>\n",
       "\t<tr><th scope=row>cvn04980</th><td>cvn04980</td><td>Cobalamin transport and metabolism     </td><td> 0.5519277</td><td>0.7489260</td><td>Organismal Systems</td><td>Digestive system                  </td></tr>\n",
       "\t<tr><th scope=row>cvn00310</th><td>cvn00310</td><td>Lysine degradation                     </td><td>-0.4756211</td><td>0.7489260</td><td>Metabolism        </td><td>Amino acid metabolism             </td></tr>\n",
       "</tbody>\n",
       "</table>\n"
      ],
      "text/latex": [
       "A data.frame: 6 × 6\n",
       "\\begin{tabular}{r|llllll}\n",
       "  & ID & Description & enrichmentScore & p.adjust & GeneralPathway & DetailedPathway\\\\\n",
       "  & <chr> & <chr> & <dbl> & <dbl> & <chr> & <chr>\\\\\n",
       "\\hline\n",
       "\tcvn00592 & cvn00592 & alpha-Linolenic acid metabolism         &  0.6928301 & 0.2100807 & Metabolism         & Lipid metabolism                  \\\\\n",
       "\tcvn04148 & cvn04148 & Efferocytosis                           & -0.4160657 & 0.4896712 & Cellular Processes & Transport and catabolism          \\\\\n",
       "\tcvn00603 & cvn00603 & Glycosphingolipid biosynthesis          & -0.6063912 & 0.7489260 & Metabolism         & Glycan biosynthesis and metabolism\\\\\n",
       "\tcvn01040 & cvn01040 & Biosynthesis of unsaturated fatty acids &  0.5099228 & 0.7489260 & Metabolism         & Lipid metabolism                  \\\\\n",
       "\tcvn04980 & cvn04980 & Cobalamin transport and metabolism      &  0.5519277 & 0.7489260 & Organismal Systems & Digestive system                  \\\\\n",
       "\tcvn00310 & cvn00310 & Lysine degradation                      & -0.4756211 & 0.7489260 & Metabolism         & Amino acid metabolism             \\\\\n",
       "\\end{tabular}\n"
      ],
      "text/markdown": [
       "\n",
       "A data.frame: 6 × 6\n",
       "\n",
       "| <!--/--> | ID &lt;chr&gt; | Description &lt;chr&gt; | enrichmentScore &lt;dbl&gt; | p.adjust &lt;dbl&gt; | GeneralPathway &lt;chr&gt; | DetailedPathway &lt;chr&gt; |\n",
       "|---|---|---|---|---|---|---|\n",
       "| cvn00592 | cvn00592 | alpha-Linolenic acid metabolism         |  0.6928301 | 0.2100807 | Metabolism         | Lipid metabolism                   |\n",
       "| cvn04148 | cvn04148 | Efferocytosis                           | -0.4160657 | 0.4896712 | Cellular Processes | Transport and catabolism           |\n",
       "| cvn00603 | cvn00603 | Glycosphingolipid biosynthesis          | -0.6063912 | 0.7489260 | Metabolism         | Glycan biosynthesis and metabolism |\n",
       "| cvn01040 | cvn01040 | Biosynthesis of unsaturated fatty acids |  0.5099228 | 0.7489260 | Metabolism         | Lipid metabolism                   |\n",
       "| cvn04980 | cvn04980 | Cobalamin transport and metabolism      |  0.5519277 | 0.7489260 | Organismal Systems | Digestive system                   |\n",
       "| cvn00310 | cvn00310 | Lysine degradation                      | -0.4756211 | 0.7489260 | Metabolism         | Amino acid metabolism              |\n",
       "\n"
      ],
      "text/plain": [
       "         ID       Description                             enrichmentScore\n",
       "cvn00592 cvn00592 alpha-Linolenic acid metabolism          0.6928301     \n",
       "cvn04148 cvn04148 Efferocytosis                           -0.4160657     \n",
       "cvn00603 cvn00603 Glycosphingolipid biosynthesis          -0.6063912     \n",
       "cvn01040 cvn01040 Biosynthesis of unsaturated fatty acids  0.5099228     \n",
       "cvn04980 cvn04980 Cobalamin transport and metabolism       0.5519277     \n",
       "cvn00310 cvn00310 Lysine degradation                      -0.4756211     \n",
       "         p.adjust  GeneralPathway     DetailedPathway                   \n",
       "cvn00592 0.2100807 Metabolism         Lipid metabolism                  \n",
       "cvn04148 0.4896712 Cellular Processes Transport and catabolism          \n",
       "cvn00603 0.7489260 Metabolism         Glycan biosynthesis and metabolism\n",
       "cvn01040 0.7489260 Metabolism         Lipid metabolism                  \n",
       "cvn04980 0.7489260 Organismal Systems Digestive system                  \n",
       "cvn00310 0.7489260 Metabolism         Amino acid metabolism             "
      ]
     },
     "metadata": {},
     "output_type": "display_data"
    }
   ],
   "source": [
    "gseKEGG_df <- select(CC_kk2_df, ID, Description, enrichmentScore, p.adjust)\n",
    "\n",
    "pathway_info <- lapply(gseKEGG_df$ID, get_pathway_names)\n",
    "\n",
    "pathway_df <- do.call(rbind, pathway_info)\n",
    "colnames(pathway_df) <- c('GeneralPathway', 'DetailedPathway')\n",
    "\n",
    "gseKEGG_df <- cbind(gseKEGG_df, pathway_df)\n",
    "\n",
    "head(as.data.frame(gseKEGG_df))\n",
    "df <- as.data.frame(gseKEGG_df)\n",
    "\n",
    "column <- df$GeneralPathway\n",
    "column <- gsub('^CLASS\\\\s+', '', column)\n",
    "df$GeneralPathway <- column\n",
    "\n",
    "df$DetailedPathway <- as.character(df$DetailedPathway)\n",
    "head(df)\n"
   ]
  },
  {
   "cell_type": "code",
   "execution_count": 15,
   "id": "94ab87d5-b704-4927-976b-44c811987540",
   "metadata": {},
   "outputs": [
    {
     "data": {
      "text/html": [
       "<table class=\"dataframe\">\n",
       "<caption>A data.frame: 6 × 6</caption>\n",
       "<thead>\n",
       "\t<tr><th></th><th scope=col>ID</th><th scope=col>Description</th><th scope=col>enrichmentScore</th><th scope=col>p.adjust</th><th scope=col>GeneralPathway</th><th scope=col>DetailedPathway</th></tr>\n",
       "\t<tr><th></th><th scope=col>&lt;chr&gt;</th><th scope=col>&lt;chr&gt;</th><th scope=col>&lt;dbl&gt;</th><th scope=col>&lt;dbl&gt;</th><th scope=col>&lt;chr&gt;</th><th scope=col>&lt;chr&gt;</th></tr>\n",
       "</thead>\n",
       "<tbody>\n",
       "\t<tr><th scope=row>cvn00592</th><td>cvn00592</td><td>alpha-Linolenic acid metabolism        </td><td> 0.6928301</td><td>0.2100807</td><td>Metabolism        </td><td>Lipid metabolism                  </td></tr>\n",
       "\t<tr><th scope=row>cvn04148</th><td>cvn04148</td><td>Efferocytosis                          </td><td>-0.4160657</td><td>0.4896712</td><td>Cellular Processes</td><td>Transport and catabolism          </td></tr>\n",
       "\t<tr><th scope=row>cvn00603</th><td>cvn00603</td><td>Glycosphingolipid biosynthesis         </td><td>-0.6063912</td><td>0.7489260</td><td>Metabolism        </td><td>Glycan biosynthesis and metabolism</td></tr>\n",
       "\t<tr><th scope=row>cvn01040</th><td>cvn01040</td><td>Biosynthesis of unsaturated fatty acids</td><td> 0.5099228</td><td>0.7489260</td><td>Metabolism        </td><td>Lipid metabolism                  </td></tr>\n",
       "\t<tr><th scope=row>cvn04980</th><td>cvn04980</td><td>Cobalamin transport and metabolism     </td><td> 0.5519277</td><td>0.7489260</td><td>Organismal Systems</td><td>Digestive system                  </td></tr>\n",
       "\t<tr><th scope=row>cvn00310</th><td>cvn00310</td><td>Lysine degradation                     </td><td>-0.4756211</td><td>0.7489260</td><td>Metabolism        </td><td>Amino acid metabolism             </td></tr>\n",
       "</tbody>\n",
       "</table>\n"
      ],
      "text/latex": [
       "A data.frame: 6 × 6\n",
       "\\begin{tabular}{r|llllll}\n",
       "  & ID & Description & enrichmentScore & p.adjust & GeneralPathway & DetailedPathway\\\\\n",
       "  & <chr> & <chr> & <dbl> & <dbl> & <chr> & <chr>\\\\\n",
       "\\hline\n",
       "\tcvn00592 & cvn00592 & alpha-Linolenic acid metabolism         &  0.6928301 & 0.2100807 & Metabolism         & Lipid metabolism                  \\\\\n",
       "\tcvn04148 & cvn04148 & Efferocytosis                           & -0.4160657 & 0.4896712 & Cellular Processes & Transport and catabolism          \\\\\n",
       "\tcvn00603 & cvn00603 & Glycosphingolipid biosynthesis          & -0.6063912 & 0.7489260 & Metabolism         & Glycan biosynthesis and metabolism\\\\\n",
       "\tcvn01040 & cvn01040 & Biosynthesis of unsaturated fatty acids &  0.5099228 & 0.7489260 & Metabolism         & Lipid metabolism                  \\\\\n",
       "\tcvn04980 & cvn04980 & Cobalamin transport and metabolism      &  0.5519277 & 0.7489260 & Organismal Systems & Digestive system                  \\\\\n",
       "\tcvn00310 & cvn00310 & Lysine degradation                      & -0.4756211 & 0.7489260 & Metabolism         & Amino acid metabolism             \\\\\n",
       "\\end{tabular}\n"
      ],
      "text/markdown": [
       "\n",
       "A data.frame: 6 × 6\n",
       "\n",
       "| <!--/--> | ID &lt;chr&gt; | Description &lt;chr&gt; | enrichmentScore &lt;dbl&gt; | p.adjust &lt;dbl&gt; | GeneralPathway &lt;chr&gt; | DetailedPathway &lt;chr&gt; |\n",
       "|---|---|---|---|---|---|---|\n",
       "| cvn00592 | cvn00592 | alpha-Linolenic acid metabolism         |  0.6928301 | 0.2100807 | Metabolism         | Lipid metabolism                   |\n",
       "| cvn04148 | cvn04148 | Efferocytosis                           | -0.4160657 | 0.4896712 | Cellular Processes | Transport and catabolism           |\n",
       "| cvn00603 | cvn00603 | Glycosphingolipid biosynthesis          | -0.6063912 | 0.7489260 | Metabolism         | Glycan biosynthesis and metabolism |\n",
       "| cvn01040 | cvn01040 | Biosynthesis of unsaturated fatty acids |  0.5099228 | 0.7489260 | Metabolism         | Lipid metabolism                   |\n",
       "| cvn04980 | cvn04980 | Cobalamin transport and metabolism      |  0.5519277 | 0.7489260 | Organismal Systems | Digestive system                   |\n",
       "| cvn00310 | cvn00310 | Lysine degradation                      | -0.4756211 | 0.7489260 | Metabolism         | Amino acid metabolism              |\n",
       "\n"
      ],
      "text/plain": [
       "         ID       Description                             enrichmentScore\n",
       "cvn00592 cvn00592 alpha-Linolenic acid metabolism          0.6928301     \n",
       "cvn04148 cvn04148 Efferocytosis                           -0.4160657     \n",
       "cvn00603 cvn00603 Glycosphingolipid biosynthesis          -0.6063912     \n",
       "cvn01040 cvn01040 Biosynthesis of unsaturated fatty acids  0.5099228     \n",
       "cvn04980 cvn04980 Cobalamin transport and metabolism       0.5519277     \n",
       "cvn00310 cvn00310 Lysine degradation                      -0.4756211     \n",
       "         p.adjust  GeneralPathway     DetailedPathway                   \n",
       "cvn00592 0.2100807 Metabolism         Lipid metabolism                  \n",
       "cvn04148 0.4896712 Cellular Processes Transport and catabolism          \n",
       "cvn00603 0.7489260 Metabolism         Glycan biosynthesis and metabolism\n",
       "cvn01040 0.7489260 Metabolism         Lipid metabolism                  \n",
       "cvn04980 0.7489260 Organismal Systems Digestive system                  \n",
       "cvn00310 0.7489260 Metabolism         Amino acid metabolism             "
      ]
     },
     "metadata": {},
     "output_type": "display_data"
    },
    {
     "name": "stderr",
     "output_type": "stream",
     "text": [
      "Warning message in file(file, ifelse(append, \"a\", \"w\")):\n",
      "“cannot open file '/project/pi_sarah_gignouxwolfsohn_uml_edu/julia/CE_MethylRAD_analysis_2018/analysis/deseq_res_files/geneFeatures_res/KEGG_pathwaysv/KEGG_CC_HC.csv': No such file or directory”\n"
     ]
    },
    {
     "ename": "ERROR",
     "evalue": "Error in file(file, ifelse(append, \"a\", \"w\")): cannot open the connection\n",
     "output_type": "error",
     "traceback": [
      "Error in file(file, ifelse(append, \"a\", \"w\")): cannot open the connection\nTraceback:\n",
      "1. write.csv(CC_df, \"/project/pi_sarah_gignouxwolfsohn_uml_edu/julia/CE_MethylRAD_analysis_2018/analysis/deseq_res_files/geneFeatures_res/KEGG_pathwaysv/KEGG_CC_HC.csv\")",
      "2. eval.parent(Call)",
      "3. eval(expr, p)",
      "4. eval(expr, p)",
      "5. utils::write.table(CC_df, \"/project/pi_sarah_gignouxwolfsohn_uml_edu/julia/CE_MethylRAD_analysis_2018/analysis/deseq_res_files/geneFeatures_res/KEGG_pathwaysv/KEGG_CC_HC.csv\", \n .     col.names = NA, sep = \",\", dec = \".\", qmethod = \"double\")",
      "6. file(file, ifelse(append, \"a\", \"w\"))"
     ]
    }
   ],
   "source": [
    "CC_df <- df\n",
    "head(CC_df)\n",
    "write.csv(CC_df, '/project/pi_sarah_gignouxwolfsohn_uml_edu/julia/CE_MethylRAD_analysis_2018/analysis/deseq_res_files/geneFeatures_res/KEGG_pathwaysv/KEGG_CC_HC.csv')"
   ]
  },
  {
   "cell_type": "code",
   "execution_count": 10,
   "id": "a6fe934a-e28d-47a9-b9db-a73a3a361d2d",
   "metadata": {},
   "outputs": [],
   "source": [
    "CC_df <- read.csv('/project/pi_sarah_gignouxwolfsohn_uml_edu/julia/CE_MethylRAD_analysis_2018/analysis/deseq_res_files/KEGG_CC_HC.csv')"
   ]
  },
  {
   "cell_type": "code",
   "execution_count": 11,
   "id": "641b190e-f2c5-4f34-81bb-d3620c4603ba",
   "metadata": {},
   "outputs": [
    {
     "data": {
      "text/html": [
       "<table class=\"dataframe\">\n",
       "<caption>A data.frame: 0 × 4</caption>\n",
       "<thead>\n",
       "\t<tr><th scope=col>X</th><th scope=col>x</th><th scope=col>enrichmentScore</th><th scope=col>direction</th></tr>\n",
       "\t<tr><th scope=col>&lt;lgl&gt;</th><th scope=col>&lt;lgl&gt;</th><th scope=col>&lt;dbl&gt;</th><th scope=col>&lt;lgl&gt;</th></tr>\n",
       "</thead>\n",
       "<tbody>\n",
       "</tbody>\n",
       "</table>\n"
      ],
      "text/latex": [
       "A data.frame: 0 × 4\n",
       "\\begin{tabular}{llll}\n",
       " X & x & enrichmentScore & direction\\\\\n",
       " <lgl> & <lgl> & <dbl> & <lgl>\\\\\n",
       "\\hline\n",
       "\\end{tabular}\n"
      ],
      "text/markdown": [
       "\n",
       "A data.frame: 0 × 4\n",
       "\n",
       "| X &lt;lgl&gt; | x &lt;lgl&gt; | enrichmentScore &lt;dbl&gt; | direction &lt;lgl&gt; |\n",
       "|---|---|---|---|\n",
       "\n"
      ],
      "text/plain": [
       "     X x enrichmentScore direction"
      ]
     },
     "metadata": {},
     "output_type": "display_data"
    }
   ],
   "source": [
    "# making sure R see enrichment score as a number\n",
    "CC_df$enrichmentScore <- as.numeric(CC_df$enrichmentScore)\n",
    "\n",
    "# assigning the enriched pathway to a phase based on the enrichment score\n",
    "CC_df$direction <- ifelse(CC_df$enrichmentScore<0, \"CC\", #neg ES = pathway for control\n",
    "                              ifelse(CC_df$enrichmentScore>0, \"HC\", # pos ES = pathway for warm\n",
    "                                     \"neutral\")) # don't need this, but example online had it and I can't figure out how to do this otherwise\n",
    "\n",
    "head(CC_df)"
   ]
  },
  {
   "cell_type": "code",
   "execution_count": 12,
   "id": "a537b24d-68a2-41a0-b95d-0ad93ba46042",
   "metadata": {},
   "outputs": [
    {
     "name": "stderr",
     "output_type": "stream",
     "text": [
      "ERROR while rich displaying an object: \u001b[1m\u001b[33mError\u001b[39m in `combine_vars()`:\u001b[22m\n",
      "\u001b[1m\u001b[22m\u001b[33m!\u001b[39m Faceting variables must have at least one value.\n",
      "\n",
      "Traceback:\n",
      "1. tryCatch(withCallingHandlers({\n",
      " .     if (!mime %in% names(repr::mime2repr)) \n",
      " .         stop(\"No repr_* for mimetype \", mime, \" in repr::mime2repr\")\n",
      " .     rpr <- repr::mime2repr[[mime]](obj)\n",
      " .     if (is.null(rpr)) \n",
      " .         return(NULL)\n",
      " .     prepare_content(is.raw(rpr), rpr)\n",
      " . }, error = error_handler), error = outer_handler)\n",
      "2. tryCatchList(expr, classes, parentenv, handlers)\n",
      "3. tryCatchOne(expr, names, parentenv, handlers[[1L]])\n",
      "4. doTryCatch(return(expr), name, parentenv, handler)\n",
      "5. withCallingHandlers({\n",
      " .     if (!mime %in% names(repr::mime2repr)) \n",
      " .         stop(\"No repr_* for mimetype \", mime, \" in repr::mime2repr\")\n",
      " .     rpr <- repr::mime2repr[[mime]](obj)\n",
      " .     if (is.null(rpr)) \n",
      " .         return(NULL)\n",
      " .     prepare_content(is.raw(rpr), rpr)\n",
      " . }, error = error_handler)\n",
      "6. repr::mime2repr[[mime]](obj)\n",
      "7. repr_text.default(obj)\n",
      "8. paste(capture.output(print(obj)), collapse = \"\\n\")\n",
      "9. capture.output(print(obj))\n",
      "10. withVisible(...elt(i))\n",
      "11. print(obj)\n",
      "12. print.ggplot(obj)\n",
      "13. ggplot_build(x)\n",
      "14. ggplot_build.ggplot(x)\n",
      "15. layout$setup(data, plot$data, plot$plot_env)\n",
      "16. setup(..., self = self)\n",
      "17. self$facet$compute_layout(data, self$facet_params)\n",
      "18. compute_layout(..., self = self)\n",
      "19. combine_vars(data, params$plot_env, rows, drop = params$drop)\n",
      "20. cli::cli_abort(\"Faceting variables must have at least one value.\")\n",
      "21. rlang::abort(message, ..., call = call, use_cli_format = TRUE, \n",
      "  .     .frame = .frame)\n",
      "22. signal_abort(cnd, .file)\n"
     ]
    }
   ],
   "source": [
    "options(repr.plot.width=35, repr.plot.height=13)\n",
    "\n",
    "ggplot(data= CC_df, aes(x = DetailedPathway, \n",
    "                        fill = GeneralPathway, \n",
    "                        col = 'black')) +\n",
    "geom_bar(show.legend=FALSE) +\n",
    "theme_bw(base_size=30) +\n",
    "facet_grid(direction~GeneralPathway, \n",
    "           scales='free_x', \n",
    "           space = 'free', \n",
    "           labeller = label_wrap_gen(multi_line = TRUE)) +\n",
    "scale_color_manual(values = c('black','black','black','black','black')) +\n",
    "theme(axis.text.x = element_text(angle = 45, hjust = 1),\n",
    "     strip.clip = \"off\", # allows grid labels to have overlap\n",
    "      strip.text = element_text(face = 'bold'), \n",
    "      panel.spacing = unit(2, \"lines\"), # adds space between panels\n",
    "      plot.margin = margin(10,100,10,10), # adds space around plot (top, right, bottom, left)\n",
    "     #strip.text.x = element_text(size=25),\n",
    "     strip.background = element_rect(fill = \"transparent\", # removes background from grid labels\n",
    "                                     color = NA )) + # removes grid border\n",
    "scale_fill_brewer(palette = 'Reds', direction = -1) +\n",
    "ylim(0,12) +\n",
    "labs(x = \"Detailed Pathway\", \n",
    "       y = \"Number of Pathways\", \n",
    "       title = \"Pathway Counts by General Pathway\",\n",
    "       subtitle = \"control control vs. hypoxic control\",\n",
    "      fill = \"General Pathway\")"
   ]
  },
  {
   "cell_type": "markdown",
   "id": "62a5c7c3-d79c-4a1f-90b7-7a21f9e9b7d4",
   "metadata": {},
   "source": [
    "**what are the top 10 most significantly enriched pathways?**\n",
    "\n",
    "I'm choosing to look at this by pulling out the pathways with the top 10 lowest adjust p-values (but maybe this would be better to do with p-value, q-value, or enrichmentScore?)"
   ]
  },
  {
   "cell_type": "code",
   "execution_count": 13,
   "id": "3f0bf3d5-5ca8-4694-abe6-aaf8511482ea",
   "metadata": {},
   "outputs": [
    {
     "ename": "ERROR",
     "evalue": "Error in h(simpleError(msg, call)): error in evaluating the argument 'x' in selecting a method for function 'head': argument 1 is not a vector\n",
     "output_type": "error",
     "traceback": [
      "Error in h(simpleError(msg, call)): error in evaluating the argument 'x' in selecting a method for function 'head': argument 1 is not a vector\nTraceback:\n",
      "1. head(CC_df[order(CC_df$p.adjust), ], 10)",
      "2. CC_df[order(CC_df$p.adjust), ]",
      "3. `[.data.frame`(CC_df, order(CC_df$p.adjust), )",
      "4. order(CC_df$p.adjust)",
      "5. standardGeneric(\"order\")",
      "6. eval(mc, env)",
      "7. eval(mc, env)",
      "8. eval(mc, env)",
      "9. order(...)",
      "10. .handleSimpleError(function (cond) \n  . .Internal(C_tryCatchHelper(addr, 1L, cond)), \"argument 1 is not a vector\", \n  .     base::quote(order(...)))",
      "11. h(simpleError(msg, call))"
     ]
    }
   ],
   "source": [
    "options(repr.plot.width=15, repr.plot.height=10)\n",
    "\n",
    "CC_top10 <- head(CC_df[order(CC_df$p.adjust), ], 10)\n",
    "CC_top10\n",
    "\n",
    "ggplot(CC_top10, aes(x = reorder(Description, -p.adjust), y = p.adjust, fill = GeneralPathway)) +\n",
    "  geom_bar(stat = \"identity\") +\n",
    "  coord_flip() +\n",
    "geom_vline(xintercept = 0.05,\n",
    "           col = \"gray\",\n",
    "           linetype = 'dashed', \n",
    "          linewidth = 10) + # significance threshold line\n",
    "scale_fill_brewer(palette = 'Blues', direction=-1) +\n",
    "  labs(y = \"Adjusted P-Value\",\n",
    "       x = \"Enriched Pathway\") +\n",
    "  theme_light(base_size=20)"
   ]
  },
  {
   "cell_type": "code",
   "execution_count": 14,
   "id": "25fff3a1-b027-470b-9b46-9fae2181c773",
   "metadata": {},
   "outputs": [
    {
     "ename": "ERROR",
     "evalue": "Error in eval(expr, envir, enclos): object 'CC_top10' not found\n",
     "output_type": "error",
     "traceback": [
      "Error in eval(expr, envir, enclos): object 'CC_top10' not found\nTraceback:\n"
     ]
    }
   ],
   "source": [
    "CC_top10$Description"
   ]
  },
  {
   "cell_type": "code",
   "execution_count": 12,
   "id": "ac05213e-3b1c-401d-9dde-0936f0e2949d",
   "metadata": {},
   "outputs": [
    {
     "data": {
      "image/png": "[encoded data removed]",
      "text/plain": [
       "plot without title"
      ]
     },
     "metadata": {
      "image/png": {
       "height": 600,
       "width": 600
      }
     },
     "output_type": "display_data"
    }
   ],
   "source": [
    "options(repr.plot.width=10, repr.plot.height=10)\n",
    "\n",
    "CC_kk2@result$Description <- gsub(CC_kk2@result$Description, pattern=\"\\\\s-\\\\sCra.+$\", replacement=\"\")\n",
    "\n",
    "# Create the dot plot\n",
    "dotplot(CC_kk2, \n",
    "        showCategory = 15,  # Number of categories to show\n",
    "        font.size = 9,      # Font size for labels\n",
    "        label_format = 100,  # Format for labels (length limit)\n",
    "        title = \"Enriched Pathways\") +\n",
    "  theme_minimal(base_size = 15)  # Optional: change theme for better appearance\n"
   ]
  },
  {
   "cell_type": "markdown",
   "id": "f25f9022-28cb-4e10-a250-4ec5c652be71",
   "metadata": {},
   "source": [
    "## control hypoxic vs. hypoxic control\n",
    "CH vs. HC"
   ]
  },
  {
   "cell_type": "code",
   "execution_count": 13,
   "id": "01ea15dc-ca59-41ca-a762-46d7707613aa",
   "metadata": {},
   "outputs": [
    {
     "data": {
      "text/html": [
       "<table class=\"dataframe\">\n",
       "<caption>A data.frame: 6 × 7</caption>\n",
       "<thead>\n",
       "\t<tr><th></th><th scope=col>X</th><th scope=col>baseMean</th><th scope=col>log2FoldChange</th><th scope=col>lfcSE</th><th scope=col>stat</th><th scope=col>pvalue</th><th scope=col>padj</th></tr>\n",
       "\t<tr><th></th><th scope=col>&lt;chr&gt;</th><th scope=col>&lt;dbl&gt;</th><th scope=col>&lt;dbl&gt;</th><th scope=col>&lt;dbl&gt;</th><th scope=col>&lt;dbl&gt;</th><th scope=col>&lt;dbl&gt;</th><th scope=col>&lt;dbl&gt;</th></tr>\n",
       "</thead>\n",
       "<tbody>\n",
       "\t<tr><th scope=row>1</th><td>LOC111116054</td><td>0.03029546</td><td> 0.00000000</td><td>0.1191171</td><td> 0</td><td> 1</td><td>NA</td></tr>\n",
       "\t<tr><th scope=row>2</th><td>LOC111126949</td><td>0.02329137</td><td>-0.01768994</td><td>0.1191171</td><td> 0</td><td> 1</td><td>NA</td></tr>\n",
       "\t<tr><th scope=row>3</th><td>LOC111110729</td><td>0.24289891</td><td>-0.06356103</td><td>0.1261820</td><td> 0</td><td> 1</td><td>NA</td></tr>\n",
       "\t<tr><th scope=row>4</th><td>LOC111112434</td><td>1.05673492</td><td> 0.11826212</td><td>0.2845709</td><td> 0</td><td> 1</td><td>NA</td></tr>\n",
       "\t<tr><th scope=row>5</th><td>LOC111120752</td><td>0.61675227</td><td> 0.20389041</td><td>0.2809352</td><td> 0</td><td> 1</td><td>NA</td></tr>\n",
       "\t<tr><th scope=row>6</th><td>LOC111128944</td><td>0.00000000</td><td>         NA</td><td>       NA</td><td>NA</td><td>NA</td><td>NA</td></tr>\n",
       "</tbody>\n",
       "</table>\n"
      ],
      "text/latex": [
       "A data.frame: 6 × 7\n",
       "\\begin{tabular}{r|lllllll}\n",
       "  & X & baseMean & log2FoldChange & lfcSE & stat & pvalue & padj\\\\\n",
       "  & <chr> & <dbl> & <dbl> & <dbl> & <dbl> & <dbl> & <dbl>\\\\\n",
       "\\hline\n",
       "\t1 & LOC111116054 & 0.03029546 &  0.00000000 & 0.1191171 &  0 &  1 & NA\\\\\n",
       "\t2 & LOC111126949 & 0.02329137 & -0.01768994 & 0.1191171 &  0 &  1 & NA\\\\\n",
       "\t3 & LOC111110729 & 0.24289891 & -0.06356103 & 0.1261820 &  0 &  1 & NA\\\\\n",
       "\t4 & LOC111112434 & 1.05673492 &  0.11826212 & 0.2845709 &  0 &  1 & NA\\\\\n",
       "\t5 & LOC111120752 & 0.61675227 &  0.20389041 & 0.2809352 &  0 &  1 & NA\\\\\n",
       "\t6 & LOC111128944 & 0.00000000 &          NA &        NA & NA & NA & NA\\\\\n",
       "\\end{tabular}\n"
      ],
      "text/markdown": [
       "\n",
       "A data.frame: 6 × 7\n",
       "\n",
       "| <!--/--> | X &lt;chr&gt; | baseMean &lt;dbl&gt; | log2FoldChange &lt;dbl&gt; | lfcSE &lt;dbl&gt; | stat &lt;dbl&gt; | pvalue &lt;dbl&gt; | padj &lt;dbl&gt; |\n",
       "|---|---|---|---|---|---|---|---|\n",
       "| 1 | LOC111116054 | 0.03029546 |  0.00000000 | 0.1191171 |  0 |  1 | NA |\n",
       "| 2 | LOC111126949 | 0.02329137 | -0.01768994 | 0.1191171 |  0 |  1 | NA |\n",
       "| 3 | LOC111110729 | 0.24289891 | -0.06356103 | 0.1261820 |  0 |  1 | NA |\n",
       "| 4 | LOC111112434 | 1.05673492 |  0.11826212 | 0.2845709 |  0 |  1 | NA |\n",
       "| 5 | LOC111120752 | 0.61675227 |  0.20389041 | 0.2809352 |  0 |  1 | NA |\n",
       "| 6 | LOC111128944 | 0.00000000 |          NA |        NA | NA | NA | NA |\n",
       "\n"
      ],
      "text/plain": [
       "  X            baseMean   log2FoldChange lfcSE     stat pvalue padj\n",
       "1 LOC111116054 0.03029546  0.00000000    0.1191171  0    1     NA  \n",
       "2 LOC111126949 0.02329137 -0.01768994    0.1191171  0    1     NA  \n",
       "3 LOC111110729 0.24289891 -0.06356103    0.1261820  0    1     NA  \n",
       "4 LOC111112434 1.05673492  0.11826212    0.2845709  0    1     NA  \n",
       "5 LOC111120752 0.61675227  0.20389041    0.2809352  0    1     NA  \n",
       "6 LOC111128944 0.00000000          NA           NA NA   NA     NA  "
      ]
     },
     "metadata": {},
     "output_type": "display_data"
    }
   ],
   "source": [
    "head(CH_HC)"
   ]
  },
  {
   "cell_type": "markdown",
   "id": "ba0db2aa-f975-4e99-8a06-314eff2a0be9",
   "metadata": {},
   "source": [
    "formatting the df as needed to run KEGG"
   ]
  },
  {
   "cell_type": "code",
   "execution_count": 14,
   "id": "e760d475-036b-4561-9fcd-f4619a77905a",
   "metadata": {},
   "outputs": [
    {
     "data": {
      "text/html": [
       "<table class=\"dataframe\">\n",
       "<caption>A data.frame: 6 × 3</caption>\n",
       "<thead>\n",
       "\t<tr><th></th><th scope=col>gene</th><th scope=col>lfc</th><th scope=col>padj</th></tr>\n",
       "\t<tr><th></th><th scope=col>&lt;chr&gt;</th><th scope=col>&lt;dbl&gt;</th><th scope=col>&lt;dbl&gt;</th></tr>\n",
       "</thead>\n",
       "<tbody>\n",
       "\t<tr><th scope=row>1</th><td>111116054</td><td> 0.00000000</td><td>NA</td></tr>\n",
       "\t<tr><th scope=row>2</th><td>111126949</td><td>-0.01768994</td><td>NA</td></tr>\n",
       "\t<tr><th scope=row>3</th><td>111110729</td><td>-0.06356103</td><td>NA</td></tr>\n",
       "\t<tr><th scope=row>4</th><td>111112434</td><td> 0.11826212</td><td>NA</td></tr>\n",
       "\t<tr><th scope=row>5</th><td>111120752</td><td> 0.20389041</td><td>NA</td></tr>\n",
       "\t<tr><th scope=row>6</th><td>111128944</td><td>         NA</td><td>NA</td></tr>\n",
       "</tbody>\n",
       "</table>\n"
      ],
      "text/latex": [
       "A data.frame: 6 × 3\n",
       "\\begin{tabular}{r|lll}\n",
       "  & gene & lfc & padj\\\\\n",
       "  & <chr> & <dbl> & <dbl>\\\\\n",
       "\\hline\n",
       "\t1 & 111116054 &  0.00000000 & NA\\\\\n",
       "\t2 & 111126949 & -0.01768994 & NA\\\\\n",
       "\t3 & 111110729 & -0.06356103 & NA\\\\\n",
       "\t4 & 111112434 &  0.11826212 & NA\\\\\n",
       "\t5 & 111120752 &  0.20389041 & NA\\\\\n",
       "\t6 & 111128944 &          NA & NA\\\\\n",
       "\\end{tabular}\n"
      ],
      "text/markdown": [
       "\n",
       "A data.frame: 6 × 3\n",
       "\n",
       "| <!--/--> | gene &lt;chr&gt; | lfc &lt;dbl&gt; | padj &lt;dbl&gt; |\n",
       "|---|---|---|---|\n",
       "| 1 | 111116054 |  0.00000000 | NA |\n",
       "| 2 | 111126949 | -0.01768994 | NA |\n",
       "| 3 | 111110729 | -0.06356103 | NA |\n",
       "| 4 | 111112434 |  0.11826212 | NA |\n",
       "| 5 | 111120752 |  0.20389041 | NA |\n",
       "| 6 | 111128944 |          NA | NA |\n",
       "\n"
      ],
      "text/plain": [
       "  gene      lfc         padj\n",
       "1 111116054  0.00000000 NA  \n",
       "2 111126949 -0.01768994 NA  \n",
       "3 111110729 -0.06356103 NA  \n",
       "4 111112434  0.11826212 NA  \n",
       "5 111120752  0.20389041 NA  \n",
       "6 111128944          NA NA  "
      ]
     },
     "metadata": {},
     "output_type": "display_data"
    }
   ],
   "source": [
    "# selecting columns I need\n",
    "ch_hc <- select(CH_HC, X, log2FoldChange, padj)\n",
    "\n",
    "# KEGG uses entrez IDs, which are my ensembl IDs without the 'LOC' in front of them, so need to convert those\n",
    "ch_hc$X <- substr(ch_hc$X, start = 4, stop = nchar(ch_hc$X))\n",
    "\n",
    "# renaming columns\n",
    "colnames(ch_hc) <- c('gene', 'lfc', 'padj')\n",
    "\n",
    "head(ch_hc)"
   ]
  },
  {
   "cell_type": "code",
   "execution_count": 15,
   "id": "3a99f102-64d1-4cbb-b4ea-edb117c573f9",
   "metadata": {},
   "outputs": [
    {
     "data": {
      "text/html": [
       "<style>\n",
       ".dl-inline {width: auto; margin:0; padding: 0}\n",
       ".dl-inline>dt, .dl-inline>dd {float: none; width: auto; display: inline-block}\n",
       ".dl-inline>dt::after {content: \":\\0020\"; padding-right: .5ex}\n",
       ".dl-inline>dt:not(:first-of-type) {padding-left: .5ex}\n",
       "</style><dl class=dl-inline><dt>111131529</dt><dd>1.86062627278448</dd><dt>111128942</dt><dd>1.76546338335866</dd><dt>111131170</dt><dd>1.73101699687971</dd><dt>111121672</dt><dd>1.72634033089268</dd><dt>111135891</dt><dd>1.69462435865912</dd><dt>111100915</dt><dd>1.65290723790474</dd></dl>\n"
      ],
      "text/latex": [
       "\\begin{description*}\n",
       "\\item[111131529] 1.86062627278448\n",
       "\\item[111128942] 1.76546338335866\n",
       "\\item[111131170] 1.73101699687971\n",
       "\\item[111121672] 1.72634033089268\n",
       "\\item[111135891] 1.69462435865912\n",
       "\\item[111100915] 1.65290723790474\n",
       "\\end{description*}\n"
      ],
      "text/markdown": [
       "111131529\n",
       ":   1.86062627278448111128942\n",
       ":   1.76546338335866111131170\n",
       ":   1.73101699687971111121672\n",
       ":   1.72634033089268111135891\n",
       ":   1.69462435865912111100915\n",
       ":   1.65290723790474\n",
       "\n"
      ],
      "text/plain": [
       "111131529 111128942 111131170 111121672 111135891 111100915 \n",
       " 1.860626  1.765463  1.731017  1.726340  1.694624  1.652907 "
      ]
     },
     "metadata": {},
     "output_type": "display_data"
    },
    {
     "data": {
      "text/html": [
       "'numeric'"
      ],
      "text/latex": [
       "'numeric'"
      ],
      "text/markdown": [
       "'numeric'"
      ],
      "text/plain": [
       "[1] \"numeric\""
      ]
     },
     "metadata": {},
     "output_type": "display_data"
    }
   ],
   "source": [
    "# creating numeric vector for kegg object\n",
    "CH_kegg_gene_list <- ch_hc$lfc\n",
    "names(CH_kegg_gene_list) <- ch_hc$gene\n",
    "\n",
    "# omitting anything with NA in a cell\n",
    "CH_kegg_gene_list <- na.omit(CH_kegg_gene_list)\n",
    "\n",
    "# sort list in descending order\n",
    "CH_kegg_gene_list = sort(CH_kegg_gene_list, decreasing = TRUE)\n",
    "\n",
    "# checking that things look okay\n",
    "head(CH_kegg_gene_list)\n",
    "class(CH_kegg_gene_list)"
   ]
  },
  {
   "cell_type": "markdown",
   "id": "4dfc49f6-6f0c-4b70-a1ef-8ba56b44f436",
   "metadata": {},
   "source": [
    "now that my gene list looks okay - running KEGG"
   ]
  },
  {
   "cell_type": "code",
   "execution_count": 16,
   "id": "339994f3-aa78-4884-a2b1-53e4aadcf009",
   "metadata": {},
   "outputs": [
    {
     "name": "stderr",
     "output_type": "stream",
     "text": [
      "preparing geneSet collections...\n",
      "\n",
      "GSEA analysis...\n",
      "\n",
      "Warning message in preparePathwaysAndStats(pathways, stats, minSize, maxSize, gseaParam, :\n",
      "“There are ties in the preranked stats (10.55% of the list).\n",
      "The order of those tied genes will be arbitrary, which may produce unexpected results.”\n",
      "leading edge analysis...\n",
      "\n",
      "done...\n",
      "\n"
     ]
    }
   ],
   "source": [
    "kegg_organism = 'cvn'\n",
    "CH_kk2 <- gseKEGG(geneList = CH_kegg_gene_list,\n",
    "               organism = kegg_organism,\n",
    "               #minGSSize = 1,\n",
    "               #maxGSSize = 800,\n",
    "               pvalueCutoff = 1,\n",
    "               pAdjustMethod = 'BH', #Benjamini-Hockberg FDR\n",
    "               scoreType = 'std', # standard - only change for one-tailed tests\n",
    "               keyType = 'kegg')"
   ]
  },
  {
   "cell_type": "code",
   "execution_count": 17,
   "id": "54da38a7-ccb5-4dd7-8ff8-5ff53bff8eab",
   "metadata": {},
   "outputs": [
    {
     "data": {
      "text/html": [
       "<table class=\"dataframe\">\n",
       "<caption>A data.frame: 6 × 11</caption>\n",
       "<thead>\n",
       "\t<tr><th></th><th scope=col>ID</th><th scope=col>Description</th><th scope=col>setSize</th><th scope=col>enrichmentScore</th><th scope=col>NES</th><th scope=col>pvalue</th><th scope=col>p.adjust</th><th scope=col>qvalue</th><th scope=col>rank</th><th scope=col>leading_edge</th><th scope=col>core_enrichment</th></tr>\n",
       "\t<tr><th></th><th scope=col>&lt;chr&gt;</th><th scope=col>&lt;chr&gt;</th><th scope=col>&lt;int&gt;</th><th scope=col>&lt;dbl&gt;</th><th scope=col>&lt;dbl&gt;</th><th scope=col>&lt;dbl&gt;</th><th scope=col>&lt;dbl&gt;</th><th scope=col>&lt;dbl&gt;</th><th scope=col>&lt;dbl&gt;</th><th scope=col>&lt;chr&gt;</th><th scope=col>&lt;chr&gt;</th></tr>\n",
       "</thead>\n",
       "<tbody>\n",
       "\t<tr><th scope=row>cvn01040</th><td>cvn01040</td><td>Biosynthesis of unsaturated fatty acids            </td><td>32</td><td> 0.5732959</td><td> 1.608429</td><td>0.010855327</td><td>0.7218793</td><td>0.7218793</td><td>2670</td><td>tags=28%, list=11%, signal=25%</td><td>111129730/111136066/111136438/111134492/111131209/111122073/111119293/111107112/111119054                                                                                                                                                                                                                                                                              </td></tr>\n",
       "\t<tr><th scope=row>cvn04310</th><td>cvn04310</td><td>Wnt signaling pathway                              </td><td>98</td><td> 0.4115187</td><td> 1.414914</td><td>0.008421842</td><td>0.7218793</td><td>0.7218793</td><td>4865</td><td>tags=37%, list=20%, signal=30%</td><td>111105834/111108661/111100808/111122907/111106534/111100874/111126610/111135167/111129877/111118497/111135231/111119203/111119669/111106049/111134629/111119924/111114913/111118435/111135857/111134796/111117024/111117044/111122527/111125073/111137105/111103593/111105510/111122108/111119736/111112989/111104770/111125433/111116519/111101169/111115059/111129084</td></tr>\n",
       "\t<tr><th scope=row>cvn04122</th><td>cvn04122</td><td>Sulfur relay system                                </td><td>10</td><td> 0.7413107</td><td> 1.563023</td><td>0.029545731</td><td>0.8956104</td><td>0.8956104</td><td> 582</td><td>tags=30%, list=2%, signal=29% </td><td>111099660/111099625/111134884                                                                                                                                                                                                                                                                                                                                          </td></tr>\n",
       "\t<tr><th scope=row>cvn00920</th><td>cvn00920</td><td>Sulfur metabolism                                  </td><td>11</td><td> 0.6375183</td><td> 1.378837</td><td>0.110599078</td><td>0.8956104</td><td>0.8956104</td><td>4418</td><td>tags=55%, list=18%, signal=45%</td><td>111099152/111132495/111128712/111129350/111117314/111100638                                                                                                                                                                                                                                                                                                            </td></tr>\n",
       "\t<tr><th scope=row>cvn00400</th><td>cvn00400</td><td>Phenylalanine, tyrosine and tryptophan biosynthesis</td><td>10</td><td>-0.6673188</td><td>-1.353707</td><td>0.101063830</td><td>0.8956104</td><td>0.8956104</td><td>7518</td><td>tags=60%, list=31%, signal=42%</td><td>111135147/111108980/111105167/111134810/111103021/111137596                                                                                                                                                                                                                                                                                                            </td></tr>\n",
       "\t<tr><th scope=row>cvn00020</th><td>cvn00020</td><td>Citrate cycle (TCA cycle)                          </td><td>39</td><td>-0.4900101</td><td>-1.347290</td><td>0.079159935</td><td>0.8956104</td><td>0.8956104</td><td> 878</td><td>tags=18%, list=4%, signal=17% </td><td>111101916/111136621/111131515/111134713/111131212/111100625/111129934                                                                                                                                                                                                                                                                                                  </td></tr>\n",
       "</tbody>\n",
       "</table>\n"
      ],
      "text/latex": [
       "A data.frame: 6 × 11\n",
       "\\begin{tabular}{r|lllllllllll}\n",
       "  & ID & Description & setSize & enrichmentScore & NES & pvalue & p.adjust & qvalue & rank & leading\\_edge & core\\_enrichment\\\\\n",
       "  & <chr> & <chr> & <int> & <dbl> & <dbl> & <dbl> & <dbl> & <dbl> & <dbl> & <chr> & <chr>\\\\\n",
       "\\hline\n",
       "\tcvn01040 & cvn01040 & Biosynthesis of unsaturated fatty acids             & 32 &  0.5732959 &  1.608429 & 0.010855327 & 0.7218793 & 0.7218793 & 2670 & tags=28\\%, list=11\\%, signal=25\\% & 111129730/111136066/111136438/111134492/111131209/111122073/111119293/111107112/111119054                                                                                                                                                                                                                                                                              \\\\\n",
       "\tcvn04310 & cvn04310 & Wnt signaling pathway                               & 98 &  0.4115187 &  1.414914 & 0.008421842 & 0.7218793 & 0.7218793 & 4865 & tags=37\\%, list=20\\%, signal=30\\% & 111105834/111108661/111100808/111122907/111106534/111100874/111126610/111135167/111129877/111118497/111135231/111119203/111119669/111106049/111134629/111119924/111114913/111118435/111135857/111134796/111117024/111117044/111122527/111125073/111137105/111103593/111105510/111122108/111119736/111112989/111104770/111125433/111116519/111101169/111115059/111129084\\\\\n",
       "\tcvn04122 & cvn04122 & Sulfur relay system                                 & 10 &  0.7413107 &  1.563023 & 0.029545731 & 0.8956104 & 0.8956104 &  582 & tags=30\\%, list=2\\%, signal=29\\%  & 111099660/111099625/111134884                                                                                                                                                                                                                                                                                                                                          \\\\\n",
       "\tcvn00920 & cvn00920 & Sulfur metabolism                                   & 11 &  0.6375183 &  1.378837 & 0.110599078 & 0.8956104 & 0.8956104 & 4418 & tags=55\\%, list=18\\%, signal=45\\% & 111099152/111132495/111128712/111129350/111117314/111100638                                                                                                                                                                                                                                                                                                            \\\\\n",
       "\tcvn00400 & cvn00400 & Phenylalanine, tyrosine and tryptophan biosynthesis & 10 & -0.6673188 & -1.353707 & 0.101063830 & 0.8956104 & 0.8956104 & 7518 & tags=60\\%, list=31\\%, signal=42\\% & 111135147/111108980/111105167/111134810/111103021/111137596                                                                                                                                                                                                                                                                                                            \\\\\n",
       "\tcvn00020 & cvn00020 & Citrate cycle (TCA cycle)                           & 39 & -0.4900101 & -1.347290 & 0.079159935 & 0.8956104 & 0.8956104 &  878 & tags=18\\%, list=4\\%, signal=17\\%  & 111101916/111136621/111131515/111134713/111131212/111100625/111129934                                                                                                                                                                                                                                                                                                  \\\\\n",
       "\\end{tabular}\n"
      ],
      "text/markdown": [
       "\n",
       "A data.frame: 6 × 11\n",
       "\n",
       "| <!--/--> | ID &lt;chr&gt; | Description &lt;chr&gt; | setSize &lt;int&gt; | enrichmentScore &lt;dbl&gt; | NES &lt;dbl&gt; | pvalue &lt;dbl&gt; | p.adjust &lt;dbl&gt; | qvalue &lt;dbl&gt; | rank &lt;dbl&gt; | leading_edge &lt;chr&gt; | core_enrichment &lt;chr&gt; |\n",
       "|---|---|---|---|---|---|---|---|---|---|---|---|\n",
       "| cvn01040 | cvn01040 | Biosynthesis of unsaturated fatty acids             | 32 |  0.5732959 |  1.608429 | 0.010855327 | 0.7218793 | 0.7218793 | 2670 | tags=28%, list=11%, signal=25% | 111129730/111136066/111136438/111134492/111131209/111122073/111119293/111107112/111119054                                                                                                                                                                                                                                                                               |\n",
       "| cvn04310 | cvn04310 | Wnt signaling pathway                               | 98 |  0.4115187 |  1.414914 | 0.008421842 | 0.7218793 | 0.7218793 | 4865 | tags=37%, list=20%, signal=30% | 111105834/111108661/111100808/111122907/111106534/111100874/111126610/111135167/111129877/111118497/111135231/111119203/111119669/111106049/111134629/111119924/111114913/111118435/111135857/111134796/111117024/111117044/111122527/111125073/111137105/111103593/111105510/111122108/111119736/111112989/111104770/111125433/111116519/111101169/111115059/111129084 |\n",
       "| cvn04122 | cvn04122 | Sulfur relay system                                 | 10 |  0.7413107 |  1.563023 | 0.029545731 | 0.8956104 | 0.8956104 |  582 | tags=30%, list=2%, signal=29%  | 111099660/111099625/111134884                                                                                                                                                                                                                                                                                                                                           |\n",
       "| cvn00920 | cvn00920 | Sulfur metabolism                                   | 11 |  0.6375183 |  1.378837 | 0.110599078 | 0.8956104 | 0.8956104 | 4418 | tags=55%, list=18%, signal=45% | 111099152/111132495/111128712/111129350/111117314/111100638                                                                                                                                                                                                                                                                                                             |\n",
       "| cvn00400 | cvn00400 | Phenylalanine, tyrosine and tryptophan biosynthesis | 10 | -0.6673188 | -1.353707 | 0.101063830 | 0.8956104 | 0.8956104 | 7518 | tags=60%, list=31%, signal=42% | 111135147/111108980/111105167/111134810/111103021/111137596                                                                                                                                                                                                                                                                                                             |\n",
       "| cvn00020 | cvn00020 | Citrate cycle (TCA cycle)                           | 39 | -0.4900101 | -1.347290 | 0.079159935 | 0.8956104 | 0.8956104 |  878 | tags=18%, list=4%, signal=17%  | 111101916/111136621/111131515/111134713/111131212/111100625/111129934                                                                                                                                                                                                                                                                                                   |\n",
       "\n"
      ],
      "text/plain": [
       "         ID       Description                                         setSize\n",
       "cvn01040 cvn01040 Biosynthesis of unsaturated fatty acids             32     \n",
       "cvn04310 cvn04310 Wnt signaling pathway                               98     \n",
       "cvn04122 cvn04122 Sulfur relay system                                 10     \n",
       "cvn00920 cvn00920 Sulfur metabolism                                   11     \n",
       "cvn00400 cvn00400 Phenylalanine, tyrosine and tryptophan biosynthesis 10     \n",
       "cvn00020 cvn00020 Citrate cycle (TCA cycle)                           39     \n",
       "         enrichmentScore NES       pvalue      p.adjust  qvalue    rank\n",
       "cvn01040  0.5732959       1.608429 0.010855327 0.7218793 0.7218793 2670\n",
       "cvn04310  0.4115187       1.414914 0.008421842 0.7218793 0.7218793 4865\n",
       "cvn04122  0.7413107       1.563023 0.029545731 0.8956104 0.8956104  582\n",
       "cvn00920  0.6375183       1.378837 0.110599078 0.8956104 0.8956104 4418\n",
       "cvn00400 -0.6673188      -1.353707 0.101063830 0.8956104 0.8956104 7518\n",
       "cvn00020 -0.4900101      -1.347290 0.079159935 0.8956104 0.8956104  878\n",
       "         leading_edge                  \n",
       "cvn01040 tags=28%, list=11%, signal=25%\n",
       "cvn04310 tags=37%, list=20%, signal=30%\n",
       "cvn04122 tags=30%, list=2%, signal=29% \n",
       "cvn00920 tags=55%, list=18%, signal=45%\n",
       "cvn00400 tags=60%, list=31%, signal=42%\n",
       "cvn00020 tags=18%, list=4%, signal=17% \n",
       "         core_enrichment                                                                                                                                                                                                                                                                                                                                                        \n",
       "cvn01040 111129730/111136066/111136438/111134492/111131209/111122073/111119293/111107112/111119054                                                                                                                                                                                                                                                                              \n",
       "cvn04310 111105834/111108661/111100808/111122907/111106534/111100874/111126610/111135167/111129877/111118497/111135231/111119203/111119669/111106049/111134629/111119924/111114913/111118435/111135857/111134796/111117024/111117044/111122527/111125073/111137105/111103593/111105510/111122108/111119736/111112989/111104770/111125433/111116519/111101169/111115059/111129084\n",
       "cvn04122 111099660/111099625/111134884                                                                                                                                                                                                                                                                                                                                          \n",
       "cvn00920 111099152/111132495/111128712/111129350/111117314/111100638                                                                                                                                                                                                                                                                                                            \n",
       "cvn00400 111135147/111108980/111105167/111134810/111103021/111137596                                                                                                                                                                                                                                                                                                            \n",
       "cvn00020 111101916/111136621/111131515/111134713/111131212/111100625/111129934                                                                                                                                                                                                                                                                                                  "
      ]
     },
     "metadata": {},
     "output_type": "display_data"
    }
   ],
   "source": [
    "CH_kk2_df <- as.data.frame(CH_kk2)\n",
    "CH_kk2_df$Description <- sub(\" -.*\", \"\", CH_kk2_df$Description)\n",
    "head(CH_kk2_df)"
   ]
  },
  {
   "cell_type": "code",
   "execution_count": 18,
   "id": "b6977b56-6942-4192-9f86-f0189108b8fc",
   "metadata": {},
   "outputs": [
    {
     "data": {
      "text/html": [
       "<style>\n",
       ".list-inline {list-style: none; margin:0; padding: 0}\n",
       ".list-inline>li {display: inline-block}\n",
       ".list-inline>li:not(:last-child)::after {content: \"\\00b7\"; padding: 0 .5ex}\n",
       "</style>\n",
       "<ol class=list-inline><li>'ID'</li><li>'Description'</li><li>'setSize'</li><li>'enrichmentScore'</li><li>'NES'</li><li>'pvalue'</li><li>'p.adjust'</li><li>'qvalue'</li><li>'rank'</li><li>'leading_edge'</li><li>'core_enrichment'</li></ol>\n"
      ],
      "text/latex": [
       "\\begin{enumerate*}\n",
       "\\item 'ID'\n",
       "\\item 'Description'\n",
       "\\item 'setSize'\n",
       "\\item 'enrichmentScore'\n",
       "\\item 'NES'\n",
       "\\item 'pvalue'\n",
       "\\item 'p.adjust'\n",
       "\\item 'qvalue'\n",
       "\\item 'rank'\n",
       "\\item 'leading\\_edge'\n",
       "\\item 'core\\_enrichment'\n",
       "\\end{enumerate*}\n"
      ],
      "text/markdown": [
       "1. 'ID'\n",
       "2. 'Description'\n",
       "3. 'setSize'\n",
       "4. 'enrichmentScore'\n",
       "5. 'NES'\n",
       "6. 'pvalue'\n",
       "7. 'p.adjust'\n",
       "8. 'qvalue'\n",
       "9. 'rank'\n",
       "10. 'leading_edge'\n",
       "11. 'core_enrichment'\n",
       "\n",
       "\n"
      ],
      "text/plain": [
       " [1] \"ID\"              \"Description\"     \"setSize\"         \"enrichmentScore\"\n",
       " [5] \"NES\"             \"pvalue\"          \"p.adjust\"        \"qvalue\"         \n",
       " [9] \"rank\"            \"leading_edge\"    \"core_enrichment\""
      ]
     },
     "metadata": {},
     "output_type": "display_data"
    }
   ],
   "source": [
    "colnames(CH_kk2_df)"
   ]
  },
  {
   "cell_type": "markdown",
   "id": "28986cd1-95db-4798-91f4-ade73a39b07f",
   "metadata": {},
   "source": [
    "looking for top 10 enriched pathways - by p-value (want to recorded unadjusted *and* adjusted p-value"
   ]
  },
  {
   "cell_type": "code",
   "execution_count": 19,
   "id": "39ece87e-9d5c-40bf-a2dd-c3e0cb63a34a",
   "metadata": {},
   "outputs": [
    {
     "data": {
      "text/html": [
       "<table class=\"dataframe\">\n",
       "<caption>A data.frame: 10 × 11</caption>\n",
       "<thead>\n",
       "\t<tr><th></th><th scope=col>ID</th><th scope=col>Description</th><th scope=col>setSize</th><th scope=col>enrichmentScore</th><th scope=col>NES</th><th scope=col>pvalue</th><th scope=col>p.adjust</th><th scope=col>qvalue</th><th scope=col>rank</th><th scope=col>leading_edge</th><th scope=col>core_enrichment</th></tr>\n",
       "\t<tr><th></th><th scope=col>&lt;chr&gt;</th><th scope=col>&lt;chr&gt;</th><th scope=col>&lt;int&gt;</th><th scope=col>&lt;dbl&gt;</th><th scope=col>&lt;dbl&gt;</th><th scope=col>&lt;dbl&gt;</th><th scope=col>&lt;dbl&gt;</th><th scope=col>&lt;dbl&gt;</th><th scope=col>&lt;dbl&gt;</th><th scope=col>&lt;chr&gt;</th><th scope=col>&lt;chr&gt;</th></tr>\n",
       "</thead>\n",
       "<tbody>\n",
       "\t<tr><th scope=row>cvn04310</th><td>cvn04310</td><td>Wnt signaling pathway                              </td><td> 98</td><td> 0.4115187</td><td> 1.414914</td><td>0.008421842</td><td>0.7218793</td><td>0.7218793</td><td>4865</td><td>tags=37%, list=20%, signal=30%</td><td>111105834/111108661/111100808/111122907/111106534/111100874/111126610/111135167/111129877/111118497/111135231/111119203/111119669/111106049/111134629/111119924/111114913/111118435/111135857/111134796/111117024/111117044/111122527/111125073/111137105/111103593/111105510/111122108/111119736/111112989/111104770/111125433/111116519/111101169/111115059/111129084                                                  </td></tr>\n",
       "\t<tr><th scope=row>cvn01040</th><td>cvn01040</td><td>Biosynthesis of unsaturated fatty acids            </td><td> 32</td><td> 0.5732959</td><td> 1.608429</td><td>0.010855327</td><td>0.7218793</td><td>0.7218793</td><td>2670</td><td>tags=28%, list=11%, signal=25%</td><td>111129730/111136066/111136438/111134492/111131209/111122073/111119293/111107112/111119054                                                                                                                                                                                                                                                                                                                                </td></tr>\n",
       "\t<tr><th scope=row>cvn04122</th><td>cvn04122</td><td>Sulfur relay system                                </td><td> 10</td><td> 0.7413107</td><td> 1.563023</td><td>0.029545731</td><td>0.8956104</td><td>0.8956104</td><td> 582</td><td>tags=30%, list=2%, signal=29% </td><td>111099660/111099625/111134884                                                                                                                                                                                                                                                                                                                                                                                            </td></tr>\n",
       "\t<tr><th scope=row>cvn03015</th><td>cvn03015</td><td>mRNA surveillance pathway                          </td><td> 71</td><td> 0.3954881</td><td> 1.289624</td><td>0.049717869</td><td>0.8956104</td><td>0.8956104</td><td>2913</td><td>tags=27%, list=12%, signal=24%</td><td>111133404/111103422/111128988/111132883/111116311/111127981/111128721/111135732/111103429/111111718/111138201/111118318/111129219/111130886/111114674/111129063/111136549/111128922/111130150                                                                                                                                                                                                                            </td></tr>\n",
       "\t<tr><th scope=row>cvn00330</th><td>cvn00330</td><td>Arginine and proline metabolism                    </td><td> 75</td><td>-0.4411142</td><td>-1.342312</td><td>0.050874404</td><td>0.8956104</td><td>0.8956104</td><td>5102</td><td>tags=40%, list=21%, signal=32%</td><td>111103445/111109369/111136020/111133872/111122379/111122529/111118061/111125396/111118058/111122381/111125850/111130979/111122380/111115614/111108373/111128087/111132780/111128753/111112920/111134508/111132445/111109392/111137751/111099180/111119088/111104425/111136221/111132935/111125537/111137596                                                                                                              </td></tr>\n",
       "\t<tr><th scope=row>cvn00561</th><td>cvn00561</td><td>Glycerolipid metabolism                            </td><td> 63</td><td> 0.4042700</td><td> 1.294747</td><td>0.057068668</td><td>0.8956104</td><td>0.8956104</td><td>3167</td><td>tags=24%, list=13%, signal=21%</td><td>111121919/111130419/111130644/111109442/111109441/111100090/111103498/111104123/111115675/111103451/111111356/111101391/111103330/111136657/111131560                                                                                                                                                                                                                                                                    </td></tr>\n",
       "\t<tr><th scope=row>cvn00020</th><td>cvn00020</td><td>Citrate cycle (TCA cycle)                          </td><td> 39</td><td>-0.4900101</td><td>-1.347290</td><td>0.079159935</td><td>0.8956104</td><td>0.8956104</td><td> 878</td><td>tags=18%, list=4%, signal=17% </td><td>111101916/111136621/111131515/111134713/111131212/111100625/111129934                                                                                                                                                                                                                                                                                                                                                    </td></tr>\n",
       "\t<tr><th scope=row>cvn04620</th><td>cvn04620</td><td>Toll-like receptor signaling pathway               </td><td> 56</td><td> 0.3948014</td><td> 1.237625</td><td>0.092838196</td><td>0.8956104</td><td>0.8956104</td><td>2496</td><td>tags=23%, list=10%, signal=21%</td><td>111100808/111127324/111107340/111135557/111135362/111125362/111130067/111104767/111130266/111107341/111108651/111120947/111118435                                                                                                                                                                                                                                                                                        </td></tr>\n",
       "\t<tr><th scope=row>cvn00400</th><td>cvn00400</td><td>Phenylalanine, tyrosine and tryptophan biosynthesis</td><td> 10</td><td>-0.6673188</td><td>-1.353707</td><td>0.101063830</td><td>0.8956104</td><td>0.8956104</td><td>7518</td><td>tags=60%, list=31%, signal=42%</td><td>111135147/111108980/111105167/111134810/111103021/111137596                                                                                                                                                                                                                                                                                                                                                              </td></tr>\n",
       "\t<tr><th scope=row>cvn04148</th><td>cvn04148</td><td>Efferocytosis                                      </td><td>143</td><td>-0.3629168</td><td>-1.200560</td><td>0.101123596</td><td>0.8956104</td><td>0.8956104</td><td>4961</td><td>tags=29%, list=20%, signal=23%</td><td>111115669/111122236/111110712/111124840/111128693/111125427/111118230/111127576/111108226/111126055/111127575/111118427/111113319/111136609/111107779/111112955/111130979/111126890/111131845/111135946/111124013/111133224/111113742/111133023/111100224/111115463/111121996/111110874/111131676/111134948/111100192/111137094/111123084/111135109/111134431/111134350/111109809/111113250/111124014/111122163/111123492</td></tr>\n",
       "</tbody>\n",
       "</table>\n"
      ],
      "text/latex": [
       "A data.frame: 10 × 11\n",
       "\\begin{tabular}{r|lllllllllll}\n",
       "  & ID & Description & setSize & enrichmentScore & NES & pvalue & p.adjust & qvalue & rank & leading\\_edge & core\\_enrichment\\\\\n",
       "  & <chr> & <chr> & <int> & <dbl> & <dbl> & <dbl> & <dbl> & <dbl> & <dbl> & <chr> & <chr>\\\\\n",
       "\\hline\n",
       "\tcvn04310 & cvn04310 & Wnt signaling pathway                               &  98 &  0.4115187 &  1.414914 & 0.008421842 & 0.7218793 & 0.7218793 & 4865 & tags=37\\%, list=20\\%, signal=30\\% & 111105834/111108661/111100808/111122907/111106534/111100874/111126610/111135167/111129877/111118497/111135231/111119203/111119669/111106049/111134629/111119924/111114913/111118435/111135857/111134796/111117024/111117044/111122527/111125073/111137105/111103593/111105510/111122108/111119736/111112989/111104770/111125433/111116519/111101169/111115059/111129084                                                  \\\\\n",
       "\tcvn01040 & cvn01040 & Biosynthesis of unsaturated fatty acids             &  32 &  0.5732959 &  1.608429 & 0.010855327 & 0.7218793 & 0.7218793 & 2670 & tags=28\\%, list=11\\%, signal=25\\% & 111129730/111136066/111136438/111134492/111131209/111122073/111119293/111107112/111119054                                                                                                                                                                                                                                                                                                                                \\\\\n",
       "\tcvn04122 & cvn04122 & Sulfur relay system                                 &  10 &  0.7413107 &  1.563023 & 0.029545731 & 0.8956104 & 0.8956104 &  582 & tags=30\\%, list=2\\%, signal=29\\%  & 111099660/111099625/111134884                                                                                                                                                                                                                                                                                                                                                                                            \\\\\n",
       "\tcvn03015 & cvn03015 & mRNA surveillance pathway                           &  71 &  0.3954881 &  1.289624 & 0.049717869 & 0.8956104 & 0.8956104 & 2913 & tags=27\\%, list=12\\%, signal=24\\% & 111133404/111103422/111128988/111132883/111116311/111127981/111128721/111135732/111103429/111111718/111138201/111118318/111129219/111130886/111114674/111129063/111136549/111128922/111130150                                                                                                                                                                                                                            \\\\\n",
       "\tcvn00330 & cvn00330 & Arginine and proline metabolism                     &  75 & -0.4411142 & -1.342312 & 0.050874404 & 0.8956104 & 0.8956104 & 5102 & tags=40\\%, list=21\\%, signal=32\\% & 111103445/111109369/111136020/111133872/111122379/111122529/111118061/111125396/111118058/111122381/111125850/111130979/111122380/111115614/111108373/111128087/111132780/111128753/111112920/111134508/111132445/111109392/111137751/111099180/111119088/111104425/111136221/111132935/111125537/111137596                                                                                                              \\\\\n",
       "\tcvn00561 & cvn00561 & Glycerolipid metabolism                             &  63 &  0.4042700 &  1.294747 & 0.057068668 & 0.8956104 & 0.8956104 & 3167 & tags=24\\%, list=13\\%, signal=21\\% & 111121919/111130419/111130644/111109442/111109441/111100090/111103498/111104123/111115675/111103451/111111356/111101391/111103330/111136657/111131560                                                                                                                                                                                                                                                                    \\\\\n",
       "\tcvn00020 & cvn00020 & Citrate cycle (TCA cycle)                           &  39 & -0.4900101 & -1.347290 & 0.079159935 & 0.8956104 & 0.8956104 &  878 & tags=18\\%, list=4\\%, signal=17\\%  & 111101916/111136621/111131515/111134713/111131212/111100625/111129934                                                                                                                                                                                                                                                                                                                                                    \\\\\n",
       "\tcvn04620 & cvn04620 & Toll-like receptor signaling pathway                &  56 &  0.3948014 &  1.237625 & 0.092838196 & 0.8956104 & 0.8956104 & 2496 & tags=23\\%, list=10\\%, signal=21\\% & 111100808/111127324/111107340/111135557/111135362/111125362/111130067/111104767/111130266/111107341/111108651/111120947/111118435                                                                                                                                                                                                                                                                                        \\\\\n",
       "\tcvn00400 & cvn00400 & Phenylalanine, tyrosine and tryptophan biosynthesis &  10 & -0.6673188 & -1.353707 & 0.101063830 & 0.8956104 & 0.8956104 & 7518 & tags=60\\%, list=31\\%, signal=42\\% & 111135147/111108980/111105167/111134810/111103021/111137596                                                                                                                                                                                                                                                                                                                                                              \\\\\n",
       "\tcvn04148 & cvn04148 & Efferocytosis                                       & 143 & -0.3629168 & -1.200560 & 0.101123596 & 0.8956104 & 0.8956104 & 4961 & tags=29\\%, list=20\\%, signal=23\\% & 111115669/111122236/111110712/111124840/111128693/111125427/111118230/111127576/111108226/111126055/111127575/111118427/111113319/111136609/111107779/111112955/111130979/111126890/111131845/111135946/111124013/111133224/111113742/111133023/111100224/111115463/111121996/111110874/111131676/111134948/111100192/111137094/111123084/111135109/111134431/111134350/111109809/111113250/111124014/111122163/111123492\\\\\n",
       "\\end{tabular}\n"
      ],
      "text/markdown": [
       "\n",
       "A data.frame: 10 × 11\n",
       "\n",
       "| <!--/--> | ID &lt;chr&gt; | Description &lt;chr&gt; | setSize &lt;int&gt; | enrichmentScore &lt;dbl&gt; | NES &lt;dbl&gt; | pvalue &lt;dbl&gt; | p.adjust &lt;dbl&gt; | qvalue &lt;dbl&gt; | rank &lt;dbl&gt; | leading_edge &lt;chr&gt; | core_enrichment &lt;chr&gt; |\n",
       "|---|---|---|---|---|---|---|---|---|---|---|---|\n",
       "| cvn04310 | cvn04310 | Wnt signaling pathway                               |  98 |  0.4115187 |  1.414914 | 0.008421842 | 0.7218793 | 0.7218793 | 4865 | tags=37%, list=20%, signal=30% | 111105834/111108661/111100808/111122907/111106534/111100874/111126610/111135167/111129877/111118497/111135231/111119203/111119669/111106049/111134629/111119924/111114913/111118435/111135857/111134796/111117024/111117044/111122527/111125073/111137105/111103593/111105510/111122108/111119736/111112989/111104770/111125433/111116519/111101169/111115059/111129084                                                   |\n",
       "| cvn01040 | cvn01040 | Biosynthesis of unsaturated fatty acids             |  32 |  0.5732959 |  1.608429 | 0.010855327 | 0.7218793 | 0.7218793 | 2670 | tags=28%, list=11%, signal=25% | 111129730/111136066/111136438/111134492/111131209/111122073/111119293/111107112/111119054                                                                                                                                                                                                                                                                                                                                 |\n",
       "| cvn04122 | cvn04122 | Sulfur relay system                                 |  10 |  0.7413107 |  1.563023 | 0.029545731 | 0.8956104 | 0.8956104 |  582 | tags=30%, list=2%, signal=29%  | 111099660/111099625/111134884                                                                                                                                                                                                                                                                                                                                                                                             |\n",
       "| cvn03015 | cvn03015 | mRNA surveillance pathway                           |  71 |  0.3954881 |  1.289624 | 0.049717869 | 0.8956104 | 0.8956104 | 2913 | tags=27%, list=12%, signal=24% | 111133404/111103422/111128988/111132883/111116311/111127981/111128721/111135732/111103429/111111718/111138201/111118318/111129219/111130886/111114674/111129063/111136549/111128922/111130150                                                                                                                                                                                                                             |\n",
       "| cvn00330 | cvn00330 | Arginine and proline metabolism                     |  75 | -0.4411142 | -1.342312 | 0.050874404 | 0.8956104 | 0.8956104 | 5102 | tags=40%, list=21%, signal=32% | 111103445/111109369/111136020/111133872/111122379/111122529/111118061/111125396/111118058/111122381/111125850/111130979/111122380/111115614/111108373/111128087/111132780/111128753/111112920/111134508/111132445/111109392/111137751/111099180/111119088/111104425/111136221/111132935/111125537/111137596                                                                                                               |\n",
       "| cvn00561 | cvn00561 | Glycerolipid metabolism                             |  63 |  0.4042700 |  1.294747 | 0.057068668 | 0.8956104 | 0.8956104 | 3167 | tags=24%, list=13%, signal=21% | 111121919/111130419/111130644/111109442/111109441/111100090/111103498/111104123/111115675/111103451/111111356/111101391/111103330/111136657/111131560                                                                                                                                                                                                                                                                     |\n",
       "| cvn00020 | cvn00020 | Citrate cycle (TCA cycle)                           |  39 | -0.4900101 | -1.347290 | 0.079159935 | 0.8956104 | 0.8956104 |  878 | tags=18%, list=4%, signal=17%  | 111101916/111136621/111131515/111134713/111131212/111100625/111129934                                                                                                                                                                                                                                                                                                                                                     |\n",
       "| cvn04620 | cvn04620 | Toll-like receptor signaling pathway                |  56 |  0.3948014 |  1.237625 | 0.092838196 | 0.8956104 | 0.8956104 | 2496 | tags=23%, list=10%, signal=21% | 111100808/111127324/111107340/111135557/111135362/111125362/111130067/111104767/111130266/111107341/111108651/111120947/111118435                                                                                                                                                                                                                                                                                         |\n",
       "| cvn00400 | cvn00400 | Phenylalanine, tyrosine and tryptophan biosynthesis |  10 | -0.6673188 | -1.353707 | 0.101063830 | 0.8956104 | 0.8956104 | 7518 | tags=60%, list=31%, signal=42% | 111135147/111108980/111105167/111134810/111103021/111137596                                                                                                                                                                                                                                                                                                                                                               |\n",
       "| cvn04148 | cvn04148 | Efferocytosis                                       | 143 | -0.3629168 | -1.200560 | 0.101123596 | 0.8956104 | 0.8956104 | 4961 | tags=29%, list=20%, signal=23% | 111115669/111122236/111110712/111124840/111128693/111125427/111118230/111127576/111108226/111126055/111127575/111118427/111113319/111136609/111107779/111112955/111130979/111126890/111131845/111135946/111124013/111133224/111113742/111133023/111100224/111115463/111121996/111110874/111131676/111134948/111100192/111137094/111123084/111135109/111134431/111134350/111109809/111113250/111124014/111122163/111123492 |\n",
       "\n"
      ],
      "text/plain": [
       "         ID       Description                                         setSize\n",
       "cvn04310 cvn04310 Wnt signaling pathway                                98    \n",
       "cvn01040 cvn01040 Biosynthesis of unsaturated fatty acids              32    \n",
       "cvn04122 cvn04122 Sulfur relay system                                  10    \n",
       "cvn03015 cvn03015 mRNA surveillance pathway                            71    \n",
       "cvn00330 cvn00330 Arginine and proline metabolism                      75    \n",
       "cvn00561 cvn00561 Glycerolipid metabolism                              63    \n",
       "cvn00020 cvn00020 Citrate cycle (TCA cycle)                            39    \n",
       "cvn04620 cvn04620 Toll-like receptor signaling pathway                 56    \n",
       "cvn00400 cvn00400 Phenylalanine, tyrosine and tryptophan biosynthesis  10    \n",
       "cvn04148 cvn04148 Efferocytosis                                       143    \n",
       "         enrichmentScore NES       pvalue      p.adjust  qvalue    rank\n",
       "cvn04310  0.4115187       1.414914 0.008421842 0.7218793 0.7218793 4865\n",
       "cvn01040  0.5732959       1.608429 0.010855327 0.7218793 0.7218793 2670\n",
       "cvn04122  0.7413107       1.563023 0.029545731 0.8956104 0.8956104  582\n",
       "cvn03015  0.3954881       1.289624 0.049717869 0.8956104 0.8956104 2913\n",
       "cvn00330 -0.4411142      -1.342312 0.050874404 0.8956104 0.8956104 5102\n",
       "cvn00561  0.4042700       1.294747 0.057068668 0.8956104 0.8956104 3167\n",
       "cvn00020 -0.4900101      -1.347290 0.079159935 0.8956104 0.8956104  878\n",
       "cvn04620  0.3948014       1.237625 0.092838196 0.8956104 0.8956104 2496\n",
       "cvn00400 -0.6673188      -1.353707 0.101063830 0.8956104 0.8956104 7518\n",
       "cvn04148 -0.3629168      -1.200560 0.101123596 0.8956104 0.8956104 4961\n",
       "         leading_edge                  \n",
       "cvn04310 tags=37%, list=20%, signal=30%\n",
       "cvn01040 tags=28%, list=11%, signal=25%\n",
       "cvn04122 tags=30%, list=2%, signal=29% \n",
       "cvn03015 tags=27%, list=12%, signal=24%\n",
       "cvn00330 tags=40%, list=21%, signal=32%\n",
       "cvn00561 tags=24%, list=13%, signal=21%\n",
       "cvn00020 tags=18%, list=4%, signal=17% \n",
       "cvn04620 tags=23%, list=10%, signal=21%\n",
       "cvn00400 tags=60%, list=31%, signal=42%\n",
       "cvn04148 tags=29%, list=20%, signal=23%\n",
       "         core_enrichment                                                                                                                                                                                                                                                                                                                                                                                                          \n",
       "cvn04310 111105834/111108661/111100808/111122907/111106534/111100874/111126610/111135167/111129877/111118497/111135231/111119203/111119669/111106049/111134629/111119924/111114913/111118435/111135857/111134796/111117024/111117044/111122527/111125073/111137105/111103593/111105510/111122108/111119736/111112989/111104770/111125433/111116519/111101169/111115059/111129084                                                  \n",
       "cvn01040 111129730/111136066/111136438/111134492/111131209/111122073/111119293/111107112/111119054                                                                                                                                                                                                                                                                                                                                \n",
       "cvn04122 111099660/111099625/111134884                                                                                                                                                                                                                                                                                                                                                                                            \n",
       "cvn03015 111133404/111103422/111128988/111132883/111116311/111127981/111128721/111135732/111103429/111111718/111138201/111118318/111129219/111130886/111114674/111129063/111136549/111128922/111130150                                                                                                                                                                                                                            \n",
       "cvn00330 111103445/111109369/111136020/111133872/111122379/111122529/111118061/111125396/111118058/111122381/111125850/111130979/111122380/111115614/111108373/111128087/111132780/111128753/111112920/111134508/111132445/111109392/111137751/111099180/111119088/111104425/111136221/111132935/111125537/111137596                                                                                                              \n",
       "cvn00561 111121919/111130419/111130644/111109442/111109441/111100090/111103498/111104123/111115675/111103451/111111356/111101391/111103330/111136657/111131560                                                                                                                                                                                                                                                                    \n",
       "cvn00020 111101916/111136621/111131515/111134713/111131212/111100625/111129934                                                                                                                                                                                                                                                                                                                                                    \n",
       "cvn04620 111100808/111127324/111107340/111135557/111135362/111125362/111130067/111104767/111130266/111107341/111108651/111120947/111118435                                                                                                                                                                                                                                                                                        \n",
       "cvn00400 111135147/111108980/111105167/111134810/111103021/111137596                                                                                                                                                                                                                                                                                                                                                              \n",
       "cvn04148 111115669/111122236/111110712/111124840/111128693/111125427/111118230/111127576/111108226/111126055/111127575/111118427/111113319/111136609/111107779/111112955/111130979/111126890/111131845/111135946/111124013/111133224/111113742/111133023/111100224/111115463/111121996/111110874/111131676/111134948/111100192/111137094/111123084/111135109/111134431/111134350/111109809/111113250/111124014/111122163/111123492"
      ]
     },
     "metadata": {},
     "output_type": "display_data"
    }
   ],
   "source": [
    "top10_CH <- head(CH_kk2_df[order(CH_kk2_df$pvalue), ], 10)\n",
    "top10_CH"
   ]
  },
  {
   "cell_type": "code",
   "execution_count": 20,
   "id": "9b07ded2-8de0-4d28-844f-b0a0f2793910",
   "metadata": {},
   "outputs": [
    {
     "data": {
      "text/html": [
       "<table class=\"dataframe\">\n",
       "<caption>A data.frame: 10 × 3</caption>\n",
       "<thead>\n",
       "\t<tr><th></th><th scope=col>Description</th><th scope=col>pvalue</th><th scope=col>p.adjust</th></tr>\n",
       "\t<tr><th></th><th scope=col>&lt;chr&gt;</th><th scope=col>&lt;dbl&gt;</th><th scope=col>&lt;dbl&gt;</th></tr>\n",
       "</thead>\n",
       "<tbody>\n",
       "\t<tr><th scope=row>cvn04310</th><td>Wnt signaling pathway                              </td><td>0.008421842</td><td>0.7218793</td></tr>\n",
       "\t<tr><th scope=row>cvn01040</th><td>Biosynthesis of unsaturated fatty acids            </td><td>0.010855327</td><td>0.7218793</td></tr>\n",
       "\t<tr><th scope=row>cvn04122</th><td>Sulfur relay system                                </td><td>0.029545731</td><td>0.8956104</td></tr>\n",
       "\t<tr><th scope=row>cvn03015</th><td>mRNA surveillance pathway                          </td><td>0.049717869</td><td>0.8956104</td></tr>\n",
       "\t<tr><th scope=row>cvn00330</th><td>Arginine and proline metabolism                    </td><td>0.050874404</td><td>0.8956104</td></tr>\n",
       "\t<tr><th scope=row>cvn00561</th><td>Glycerolipid metabolism                            </td><td>0.057068668</td><td>0.8956104</td></tr>\n",
       "\t<tr><th scope=row>cvn00020</th><td>Citrate cycle (TCA cycle)                          </td><td>0.079159935</td><td>0.8956104</td></tr>\n",
       "\t<tr><th scope=row>cvn04620</th><td>Toll-like receptor signaling pathway               </td><td>0.092838196</td><td>0.8956104</td></tr>\n",
       "\t<tr><th scope=row>cvn00400</th><td>Phenylalanine, tyrosine and tryptophan biosynthesis</td><td>0.101063830</td><td>0.8956104</td></tr>\n",
       "\t<tr><th scope=row>cvn04148</th><td>Efferocytosis                                      </td><td>0.101123596</td><td>0.8956104</td></tr>\n",
       "</tbody>\n",
       "</table>\n"
      ],
      "text/latex": [
       "A data.frame: 10 × 3\n",
       "\\begin{tabular}{r|lll}\n",
       "  & Description & pvalue & p.adjust\\\\\n",
       "  & <chr> & <dbl> & <dbl>\\\\\n",
       "\\hline\n",
       "\tcvn04310 & Wnt signaling pathway                               & 0.008421842 & 0.7218793\\\\\n",
       "\tcvn01040 & Biosynthesis of unsaturated fatty acids             & 0.010855327 & 0.7218793\\\\\n",
       "\tcvn04122 & Sulfur relay system                                 & 0.029545731 & 0.8956104\\\\\n",
       "\tcvn03015 & mRNA surveillance pathway                           & 0.049717869 & 0.8956104\\\\\n",
       "\tcvn00330 & Arginine and proline metabolism                     & 0.050874404 & 0.8956104\\\\\n",
       "\tcvn00561 & Glycerolipid metabolism                             & 0.057068668 & 0.8956104\\\\\n",
       "\tcvn00020 & Citrate cycle (TCA cycle)                           & 0.079159935 & 0.8956104\\\\\n",
       "\tcvn04620 & Toll-like receptor signaling pathway                & 0.092838196 & 0.8956104\\\\\n",
       "\tcvn00400 & Phenylalanine, tyrosine and tryptophan biosynthesis & 0.101063830 & 0.8956104\\\\\n",
       "\tcvn04148 & Efferocytosis                                       & 0.101123596 & 0.8956104\\\\\n",
       "\\end{tabular}\n"
      ],
      "text/markdown": [
       "\n",
       "A data.frame: 10 × 3\n",
       "\n",
       "| <!--/--> | Description &lt;chr&gt; | pvalue &lt;dbl&gt; | p.adjust &lt;dbl&gt; |\n",
       "|---|---|---|---|\n",
       "| cvn04310 | Wnt signaling pathway                               | 0.008421842 | 0.7218793 |\n",
       "| cvn01040 | Biosynthesis of unsaturated fatty acids             | 0.010855327 | 0.7218793 |\n",
       "| cvn04122 | Sulfur relay system                                 | 0.029545731 | 0.8956104 |\n",
       "| cvn03015 | mRNA surveillance pathway                           | 0.049717869 | 0.8956104 |\n",
       "| cvn00330 | Arginine and proline metabolism                     | 0.050874404 | 0.8956104 |\n",
       "| cvn00561 | Glycerolipid metabolism                             | 0.057068668 | 0.8956104 |\n",
       "| cvn00020 | Citrate cycle (TCA cycle)                           | 0.079159935 | 0.8956104 |\n",
       "| cvn04620 | Toll-like receptor signaling pathway                | 0.092838196 | 0.8956104 |\n",
       "| cvn00400 | Phenylalanine, tyrosine and tryptophan biosynthesis | 0.101063830 | 0.8956104 |\n",
       "| cvn04148 | Efferocytosis                                       | 0.101123596 | 0.8956104 |\n",
       "\n"
      ],
      "text/plain": [
       "         Description                                         pvalue     \n",
       "cvn04310 Wnt signaling pathway                               0.008421842\n",
       "cvn01040 Biosynthesis of unsaturated fatty acids             0.010855327\n",
       "cvn04122 Sulfur relay system                                 0.029545731\n",
       "cvn03015 mRNA surveillance pathway                           0.049717869\n",
       "cvn00330 Arginine and proline metabolism                     0.050874404\n",
       "cvn00561 Glycerolipid metabolism                             0.057068668\n",
       "cvn00020 Citrate cycle (TCA cycle)                           0.079159935\n",
       "cvn04620 Toll-like receptor signaling pathway                0.092838196\n",
       "cvn00400 Phenylalanine, tyrosine and tryptophan biosynthesis 0.101063830\n",
       "cvn04148 Efferocytosis                                       0.101123596\n",
       "         p.adjust \n",
       "cvn04310 0.7218793\n",
       "cvn01040 0.7218793\n",
       "cvn04122 0.8956104\n",
       "cvn03015 0.8956104\n",
       "cvn00330 0.8956104\n",
       "cvn00561 0.8956104\n",
       "cvn00020 0.8956104\n",
       "cvn04620 0.8956104\n",
       "cvn00400 0.8956104\n",
       "cvn04148 0.8956104"
      ]
     },
     "metadata": {},
     "output_type": "display_data"
    }
   ],
   "source": [
    "select(top10_CH, Description, pvalue, p.adjust)"
   ]
  },
  {
   "cell_type": "markdown",
   "id": "ab81dbb7-3d04-4707-9ecf-46d1606061e1",
   "metadata": {},
   "source": [
    "the code below takes a long time to run - should only be run once, then have the resulting df saved into a csv to just call back for analysis afterwords"
   ]
  },
  {
   "cell_type": "code",
   "execution_count": null,
   "id": "29baf0b7-a013-4144-9214-c27eff77f155",
   "metadata": {
    "jp-MarkdownHeadingCollapsed": true,
    "tags": []
   },
   "outputs": [],
   "source": [
    "gseKEGG_df <- select(CH_kk2_df, ID, Description, enrichmentScore, p.adj)\n",
    "\n",
    "pathway_info <- lapply(gseKEGG_df$ID, get_pathway_names)\n",
    "\n",
    "pathway_df <- do.call(rbind, pathway_info)\n",
    "colnames(pathway_df) <- c('GeneralPathway', 'DetailedPathway')\n",
    "\n",
    "gseKEGG_df <- cbind(gseKEGG_df, pathway_df)\n",
    "\n",
    "head(as.data.frame(gseKEGG_df))\n",
    "df <- as.data.frame(gseKEGG_df)\n",
    "\n",
    "column <- df$GeneralPathway\n",
    "column <- gsub('^CLASS\\\\s+', '', column)\n",
    "df$GeneralPathway <- column\n",
    "\n",
    "df$DetailedPathway <- as.character(df$DetailedPathway)\n",
    "head(df)\n"
   ]
  },
  {
   "cell_type": "code",
   "execution_count": 21,
   "id": "3cf06376-98a5-4bcb-8032-14e033731ecb",
   "metadata": {},
   "outputs": [
    {
     "name": "stderr",
     "output_type": "stream",
     "text": [
      "Warning message in file(file, \"rt\"):\n",
      "“cannot open file '/project/pi_sarah_gignouxwolfsohn_uml_edu/julia/CE_MethylRAD_analysis_2018/analysis/deseq_res_files/KEGG_CH_HC.csv': No such file or directory”\n"
     ]
    },
    {
     "ename": "ERROR",
     "evalue": "Error in file(file, \"rt\"): cannot open the connection\n",
     "output_type": "error",
     "traceback": [
      "Error in file(file, \"rt\"): cannot open the connection\nTraceback:\n",
      "1. read.csv(\"/project/pi_sarah_gignouxwolfsohn_uml_edu/julia/CE_MethylRAD_analysis_2018/analysis/deseq_res_files/KEGG_CH_HC.csv\")",
      "2. read.table(file = file, header = header, sep = sep, quote = quote, \n .     dec = dec, fill = fill, comment.char = comment.char, ...)",
      "3. file(file, \"rt\")"
     ]
    }
   ],
   "source": [
    "CH_df <- read.csv('/project/pi_sarah_gignouxwolfsohn_uml_edu/julia/CE_MethylRAD_analysis_2018/analysis/deseq_res_files/KEGG_CH_HC.csv')"
   ]
  },
  {
   "cell_type": "code",
   "execution_count": null,
   "id": "3ba685fe-949b-4b2c-91d8-d1581d11f893",
   "metadata": {},
   "outputs": [],
   "source": [
    "# making sure R see enrichment score as a number\n",
    "CH_df$enrichmentScore <- as.numeric(CH_df$enrichmentScore)\n",
    "\n",
    "# assigning the enriched pathway to a phase based on the enrichment score\n",
    "CH_df$direction <- ifelse(CH_df$enrichmentScore<0, \"CH\", #neg ES = pathway for control\n",
    "                              ifelse(CH_df$enrichmentScore>0, \"HC\", # pos ES = pathway for warm\n",
    "                                     \"neutral\")) # don't need this, but example online had it and I can't figure out how to do this otherwise\n",
    "\n",
    "head(CH_df)"
   ]
  },
  {
   "cell_type": "code",
   "execution_count": null,
   "id": "93ba5c07-ee05-4c99-b23c-0146e4741d4f",
   "metadata": {},
   "outputs": [],
   "source": [
    "options(repr.plot.width=35, repr.plot.height=13)\n",
    "\n",
    "ggplot(data= CH_df, aes(x = DetailedPathway, \n",
    "                        fill = GeneralPathway, \n",
    "                        col = 'black')) +\n",
    "geom_bar(show.legend=FALSE) +\n",
    "theme_bw(base_size=30) +\n",
    "facet_grid(direction~GeneralPathway, \n",
    "           scales='free_x', \n",
    "           space = 'free', \n",
    "           labeller = label_wrap_gen(multi_line = TRUE)) +\n",
    "scale_color_manual(values = c('black','black','black','black','black')) +\n",
    "theme(axis.text.x = element_text(angle = 45, hjust = 1),\n",
    "     strip.clip = \"off\", # allows grid labels to have overlap\n",
    "      strip.text = element_text(face = 'bold'), \n",
    "      panel.spacing = unit(2, \"lines\"), # adds space between panels\n",
    "      plot.margin = margin(10,100,10,10), # adds space around plot (top, right, bottom, left)\n",
    "     #strip.text.x = element_text(size=25),\n",
    "     strip.background = element_rect(fill = \"transparent\", # removes background from grid labels\n",
    "                                     color = NA )) + # removes grid border\n",
    "scale_fill_brewer(palette = 'Greens', direction = -1) +\n",
    "ylim(0,12) +\n",
    "labs(x = \"Detailed Pathway\", \n",
    "       y = \"Number of Pathways\", \n",
    "       title = \"Pathway Counts by General Pathway\",\n",
    "       subtitle = \"control hypoxic vs. hypoxic control\",\n",
    "      fill = \"General Pathway\")"
   ]
  },
  {
   "cell_type": "code",
   "execution_count": null,
   "id": "eab8a489-9b67-47be-b8db-cdca50737995",
   "metadata": {},
   "outputs": [],
   "source": [
    "CH_top10$Description"
   ]
  },
  {
   "cell_type": "markdown",
   "id": "8661c1b4-81a7-4223-9bba-be94c3265a16",
   "metadata": {},
   "source": [
    "**what are the top 10 most significantly enriched pathways?**\n",
    "\n",
    "I'm choosing to look at this by pulling out the pathways with the top 10 lowest adjust p-values (but maybe this would be better to do with p-value, q-value, or enrichmentScore?)"
   ]
  },
  {
   "cell_type": "code",
   "execution_count": null,
   "id": "739faaea-9aa7-43dc-a2d2-c63a6458a029",
   "metadata": {},
   "outputs": [],
   "source": [
    "options(repr.plot.width=15, repr.plot.height=10)\n",
    "\n",
    "CH_top10 <- head(CH_df[order(CH_df$p.adjust), ], 10)\n",
    "CH_top10\n",
    "\n",
    "ggplot(CH_top10, aes(x = reorder(Description, -p.adjust), y = p.adjust, fill = GeneralPathway)) +\n",
    "  geom_bar(stat = \"identity\") +\n",
    "  coord_flip() +\n",
    "geom_vline(xintercept = 0.05,\n",
    "           col = \"gray\",\n",
    "           linetype = 'dashed', \n",
    "          linewidth = 10) + # significance threshold line\n",
    "scale_fill_brewer(palette = 'Blues', direction=-1) +\n",
    "  labs(y = \"Adjusted P-Value\",\n",
    "       x = \"Enriched Pathway\") +\n",
    "  theme_light(base_size=20)"
   ]
  },
  {
   "cell_type": "code",
   "execution_count": null,
   "id": "d925c3be-4145-47db-93d8-8cc34b59f60d",
   "metadata": {},
   "outputs": [],
   "source": [
    "options(repr.plot.width=10, repr.plot.height=10)\n",
    "\n",
    "CH_kk2@result$Description <- gsub(CH_kk2@result$Description, pattern=\"\\\\s-\\\\sCra.+$\", replacement=\"\")\n",
    "\n",
    "# Create the dot plot\n",
    "dotplot(CH_kk2, \n",
    "        showCategory = 15,  # Number of categories to show\n",
    "        font.size = 9,      # Font size for labels\n",
    "        label_format = 100,  # Format for labels (length limit)\n",
    "        title = \"Enriched Pathways\") +\n",
    "  theme_minimal(base_size = 15)  # Optional: change theme for better appearance\n"
   ]
  },
  {
   "cell_type": "markdown",
   "id": "c81e6091-dd9d-45dc-93bd-dda4c3e07f8c",
   "metadata": {},
   "source": [
    "## hypoxic hypoxic vs. hypoxic control\n",
    "HH vs. HC"
   ]
  },
  {
   "cell_type": "code",
   "execution_count": 22,
   "id": "76fbf9f2-1ce4-495a-85b6-ca161982ba43",
   "metadata": {},
   "outputs": [
    {
     "data": {
      "text/html": [
       "<table class=\"dataframe\">\n",
       "<caption>A data.frame: 6 × 7</caption>\n",
       "<thead>\n",
       "\t<tr><th></th><th scope=col>X</th><th scope=col>baseMean</th><th scope=col>log2FoldChange</th><th scope=col>lfcSE</th><th scope=col>stat</th><th scope=col>pvalue</th><th scope=col>padj</th></tr>\n",
       "\t<tr><th></th><th scope=col>&lt;chr&gt;</th><th scope=col>&lt;dbl&gt;</th><th scope=col>&lt;dbl&gt;</th><th scope=col>&lt;dbl&gt;</th><th scope=col>&lt;dbl&gt;</th><th scope=col>&lt;dbl&gt;</th><th scope=col>&lt;dbl&gt;</th></tr>\n",
       "</thead>\n",
       "<tbody>\n",
       "\t<tr><th scope=row>1</th><td>LOC111116054</td><td>0.03029546</td><td> 0.023547556</td><td>0.1191171</td><td> 0.0000000</td><td>1.0000000</td><td>NA</td></tr>\n",
       "\t<tr><th scope=row>2</th><td>LOC111126949</td><td>0.02329137</td><td>-0.008575931</td><td>0.1191171</td><td> 0.0000000</td><td>1.0000000</td><td>NA</td></tr>\n",
       "\t<tr><th scope=row>3</th><td>LOC111110729</td><td>0.24289891</td><td> 0.016854142</td><td>0.1262111</td><td> 0.0000000</td><td>1.0000000</td><td>NA</td></tr>\n",
       "\t<tr><th scope=row>4</th><td>LOC111112434</td><td>1.05673492</td><td>-0.446553473</td><td>0.2878041</td><td>-0.6829420</td><td>0.4946435</td><td>NA</td></tr>\n",
       "\t<tr><th scope=row>5</th><td>LOC111120752</td><td>0.61675227</td><td>-0.332082994</td><td>0.2845998</td><td>-0.2884155</td><td>0.7730287</td><td>NA</td></tr>\n",
       "\t<tr><th scope=row>6</th><td>LOC111128944</td><td>0.00000000</td><td>          NA</td><td>       NA</td><td>        NA</td><td>       NA</td><td>NA</td></tr>\n",
       "</tbody>\n",
       "</table>\n"
      ],
      "text/latex": [
       "A data.frame: 6 × 7\n",
       "\\begin{tabular}{r|lllllll}\n",
       "  & X & baseMean & log2FoldChange & lfcSE & stat & pvalue & padj\\\\\n",
       "  & <chr> & <dbl> & <dbl> & <dbl> & <dbl> & <dbl> & <dbl>\\\\\n",
       "\\hline\n",
       "\t1 & LOC111116054 & 0.03029546 &  0.023547556 & 0.1191171 &  0.0000000 & 1.0000000 & NA\\\\\n",
       "\t2 & LOC111126949 & 0.02329137 & -0.008575931 & 0.1191171 &  0.0000000 & 1.0000000 & NA\\\\\n",
       "\t3 & LOC111110729 & 0.24289891 &  0.016854142 & 0.1262111 &  0.0000000 & 1.0000000 & NA\\\\\n",
       "\t4 & LOC111112434 & 1.05673492 & -0.446553473 & 0.2878041 & -0.6829420 & 0.4946435 & NA\\\\\n",
       "\t5 & LOC111120752 & 0.61675227 & -0.332082994 & 0.2845998 & -0.2884155 & 0.7730287 & NA\\\\\n",
       "\t6 & LOC111128944 & 0.00000000 &           NA &        NA &         NA &        NA & NA\\\\\n",
       "\\end{tabular}\n"
      ],
      "text/markdown": [
       "\n",
       "A data.frame: 6 × 7\n",
       "\n",
       "| <!--/--> | X &lt;chr&gt; | baseMean &lt;dbl&gt; | log2FoldChange &lt;dbl&gt; | lfcSE &lt;dbl&gt; | stat &lt;dbl&gt; | pvalue &lt;dbl&gt; | padj &lt;dbl&gt; |\n",
       "|---|---|---|---|---|---|---|---|\n",
       "| 1 | LOC111116054 | 0.03029546 |  0.023547556 | 0.1191171 |  0.0000000 | 1.0000000 | NA |\n",
       "| 2 | LOC111126949 | 0.02329137 | -0.008575931 | 0.1191171 |  0.0000000 | 1.0000000 | NA |\n",
       "| 3 | LOC111110729 | 0.24289891 |  0.016854142 | 0.1262111 |  0.0000000 | 1.0000000 | NA |\n",
       "| 4 | LOC111112434 | 1.05673492 | -0.446553473 | 0.2878041 | -0.6829420 | 0.4946435 | NA |\n",
       "| 5 | LOC111120752 | 0.61675227 | -0.332082994 | 0.2845998 | -0.2884155 | 0.7730287 | NA |\n",
       "| 6 | LOC111128944 | 0.00000000 |           NA |        NA |         NA |        NA | NA |\n",
       "\n"
      ],
      "text/plain": [
       "  X            baseMean   log2FoldChange lfcSE     stat       pvalue    padj\n",
       "1 LOC111116054 0.03029546  0.023547556   0.1191171  0.0000000 1.0000000 NA  \n",
       "2 LOC111126949 0.02329137 -0.008575931   0.1191171  0.0000000 1.0000000 NA  \n",
       "3 LOC111110729 0.24289891  0.016854142   0.1262111  0.0000000 1.0000000 NA  \n",
       "4 LOC111112434 1.05673492 -0.446553473   0.2878041 -0.6829420 0.4946435 NA  \n",
       "5 LOC111120752 0.61675227 -0.332082994   0.2845998 -0.2884155 0.7730287 NA  \n",
       "6 LOC111128944 0.00000000           NA          NA         NA        NA NA  "
      ]
     },
     "metadata": {},
     "output_type": "display_data"
    }
   ],
   "source": [
    "head(HH_HC)"
   ]
  },
  {
   "cell_type": "markdown",
   "id": "24e6abaa-645c-450f-b76a-267b9ba92e10",
   "metadata": {},
   "source": [
    "formatting the df as needed to run KEGG"
   ]
  },
  {
   "cell_type": "code",
   "execution_count": 23,
   "id": "ad77fa27-007b-438e-aa36-f466745b3ea3",
   "metadata": {},
   "outputs": [
    {
     "data": {
      "text/html": [
       "<table class=\"dataframe\">\n",
       "<caption>A data.frame: 6 × 3</caption>\n",
       "<thead>\n",
       "\t<tr><th></th><th scope=col>gene</th><th scope=col>lfc</th><th scope=col>padj</th></tr>\n",
       "\t<tr><th></th><th scope=col>&lt;chr&gt;</th><th scope=col>&lt;dbl&gt;</th><th scope=col>&lt;dbl&gt;</th></tr>\n",
       "</thead>\n",
       "<tbody>\n",
       "\t<tr><th scope=row>1</th><td>111116054</td><td> 0.023547556</td><td>NA</td></tr>\n",
       "\t<tr><th scope=row>2</th><td>111126949</td><td>-0.008575931</td><td>NA</td></tr>\n",
       "\t<tr><th scope=row>3</th><td>111110729</td><td> 0.016854142</td><td>NA</td></tr>\n",
       "\t<tr><th scope=row>4</th><td>111112434</td><td>-0.446553473</td><td>NA</td></tr>\n",
       "\t<tr><th scope=row>5</th><td>111120752</td><td>-0.332082994</td><td>NA</td></tr>\n",
       "\t<tr><th scope=row>6</th><td>111128944</td><td>          NA</td><td>NA</td></tr>\n",
       "</tbody>\n",
       "</table>\n"
      ],
      "text/latex": [
       "A data.frame: 6 × 3\n",
       "\\begin{tabular}{r|lll}\n",
       "  & gene & lfc & padj\\\\\n",
       "  & <chr> & <dbl> & <dbl>\\\\\n",
       "\\hline\n",
       "\t1 & 111116054 &  0.023547556 & NA\\\\\n",
       "\t2 & 111126949 & -0.008575931 & NA\\\\\n",
       "\t3 & 111110729 &  0.016854142 & NA\\\\\n",
       "\t4 & 111112434 & -0.446553473 & NA\\\\\n",
       "\t5 & 111120752 & -0.332082994 & NA\\\\\n",
       "\t6 & 111128944 &           NA & NA\\\\\n",
       "\\end{tabular}\n"
      ],
      "text/markdown": [
       "\n",
       "A data.frame: 6 × 3\n",
       "\n",
       "| <!--/--> | gene &lt;chr&gt; | lfc &lt;dbl&gt; | padj &lt;dbl&gt; |\n",
       "|---|---|---|---|\n",
       "| 1 | 111116054 |  0.023547556 | NA |\n",
       "| 2 | 111126949 | -0.008575931 | NA |\n",
       "| 3 | 111110729 |  0.016854142 | NA |\n",
       "| 4 | 111112434 | -0.446553473 | NA |\n",
       "| 5 | 111120752 | -0.332082994 | NA |\n",
       "| 6 | 111128944 |           NA | NA |\n",
       "\n"
      ],
      "text/plain": [
       "  gene      lfc          padj\n",
       "1 111116054  0.023547556 NA  \n",
       "2 111126949 -0.008575931 NA  \n",
       "3 111110729  0.016854142 NA  \n",
       "4 111112434 -0.446553473 NA  \n",
       "5 111120752 -0.332082994 NA  \n",
       "6 111128944           NA NA  "
      ]
     },
     "metadata": {},
     "output_type": "display_data"
    }
   ],
   "source": [
    "# selecting columns I need\n",
    "hh_hc <- select(HH_HC, X, log2FoldChange, padj)\n",
    "\n",
    "# KEGG uses entrez IDs, which are my ensembl IDs without the 'LOC' in front of them, so need to convert those\n",
    "hh_hc$X <- substr(hh_hc$X, start = 4, stop = nchar(hh_hc$X))\n",
    "\n",
    "# renaming columns\n",
    "colnames(hh_hc) <- c('gene', 'lfc', 'padj')\n",
    "\n",
    "head(hh_hc)"
   ]
  },
  {
   "cell_type": "code",
   "execution_count": 24,
   "id": "8362b1fc-6744-4dde-8c44-0c77c3d1c6f3",
   "metadata": {},
   "outputs": [
    {
     "data": {
      "text/html": [
       "<style>\n",
       ".dl-inline {width: auto; margin:0; padding: 0}\n",
       ".dl-inline>dt, .dl-inline>dd {float: none; width: auto; display: inline-block}\n",
       ".dl-inline>dt::after {content: \":\\0020\"; padding-right: .5ex}\n",
       ".dl-inline>dt:not(:first-of-type) {padding-left: .5ex}\n",
       "</style><dl class=dl-inline><dt>111118657</dt><dd>2.19211397174279</dd><dt>111108235</dt><dd>2.16917235901075</dd><dt>111119327</dt><dd>2.08490170003391</dd><dt>111133438</dt><dd>1.9492201403538</dd><dt>111112560</dt><dd>1.94549236284706</dd><dt>111119407</dt><dd>1.94391197349337</dd></dl>\n"
      ],
      "text/latex": [
       "\\begin{description*}\n",
       "\\item[111118657] 2.19211397174279\n",
       "\\item[111108235] 2.16917235901075\n",
       "\\item[111119327] 2.08490170003391\n",
       "\\item[111133438] 1.9492201403538\n",
       "\\item[111112560] 1.94549236284706\n",
       "\\item[111119407] 1.94391197349337\n",
       "\\end{description*}\n"
      ],
      "text/markdown": [
       "111118657\n",
       ":   2.19211397174279111108235\n",
       ":   2.16917235901075111119327\n",
       ":   2.08490170003391111133438\n",
       ":   1.9492201403538111112560\n",
       ":   1.94549236284706111119407\n",
       ":   1.94391197349337\n",
       "\n"
      ],
      "text/plain": [
       "111118657 111108235 111119327 111133438 111112560 111119407 \n",
       " 2.192114  2.169172  2.084902  1.949220  1.945492  1.943912 "
      ]
     },
     "metadata": {},
     "output_type": "display_data"
    },
    {
     "data": {
      "text/html": [
       "'numeric'"
      ],
      "text/latex": [
       "'numeric'"
      ],
      "text/markdown": [
       "'numeric'"
      ],
      "text/plain": [
       "[1] \"numeric\""
      ]
     },
     "metadata": {},
     "output_type": "display_data"
    }
   ],
   "source": [
    "# creating numeric vector for kegg object\n",
    "HH_kegg_gene_list <- hh_hc$lfc\n",
    "names(HH_kegg_gene_list) <- hh_hc$gene\n",
    "\n",
    "# omitting anything with NA in a cell\n",
    "HH_kegg_gene_list <- na.omit(HH_kegg_gene_list)\n",
    "\n",
    "# sort list in descending order\n",
    "HH_kegg_gene_list = sort(HH_kegg_gene_list, decreasing = TRUE)\n",
    "\n",
    "# checking that things look okay\n",
    "head(HH_kegg_gene_list)\n",
    "class(HH_kegg_gene_list)"
   ]
  },
  {
   "cell_type": "markdown",
   "id": "fc5da972-a733-4015-a41d-5e9115d07d18",
   "metadata": {},
   "source": [
    "now that my gene list looks okay - running KEGG"
   ]
  },
  {
   "cell_type": "code",
   "execution_count": 25,
   "id": "adbd2048-0c29-4e0e-b47e-b1d8d713a72e",
   "metadata": {},
   "outputs": [
    {
     "name": "stderr",
     "output_type": "stream",
     "text": [
      "preparing geneSet collections...\n",
      "\n",
      "GSEA analysis...\n",
      "\n",
      "Warning message in preparePathwaysAndStats(pathways, stats, minSize, maxSize, gseaParam, :\n",
      "“There are ties in the preranked stats (10.94% of the list).\n",
      "The order of those tied genes will be arbitrary, which may produce unexpected results.”\n",
      "leading edge analysis...\n",
      "\n",
      "done...\n",
      "\n"
     ]
    }
   ],
   "source": [
    "kegg_organism = 'cvn'\n",
    "HH_kk2 <- gseKEGG(geneList = HH_kegg_gene_list,\n",
    "               organism = kegg_organism,\n",
    "               #minGSSize = 1,\n",
    "               #maxGSSize = 800,\n",
    "               pvalueCutoff = 1,\n",
    "               pAdjustMethod = 'BH', #Benjamini-Hockberg FDR\n",
    "               scoreType = 'std', # standard - only change for one-tailed tests\n",
    "               keyType = 'kegg')"
   ]
  },
  {
   "cell_type": "code",
   "execution_count": 26,
   "id": "2d4b4817-024a-42f6-8b28-24b36a05087d",
   "metadata": {},
   "outputs": [
    {
     "data": {
      "text/html": [
       "<table class=\"dataframe\">\n",
       "<caption>A data.frame: 6 × 11</caption>\n",
       "<thead>\n",
       "\t<tr><th></th><th scope=col>ID</th><th scope=col>Description</th><th scope=col>setSize</th><th scope=col>enrichmentScore</th><th scope=col>NES</th><th scope=col>pvalue</th><th scope=col>p.adjust</th><th scope=col>qvalue</th><th scope=col>rank</th><th scope=col>leading_edge</th><th scope=col>core_enrichment</th></tr>\n",
       "\t<tr><th></th><th scope=col>&lt;chr&gt;</th><th scope=col>&lt;chr&gt;</th><th scope=col>&lt;int&gt;</th><th scope=col>&lt;dbl&gt;</th><th scope=col>&lt;dbl&gt;</th><th scope=col>&lt;dbl&gt;</th><th scope=col>&lt;dbl&gt;</th><th scope=col>&lt;dbl&gt;</th><th scope=col>&lt;dbl&gt;</th><th scope=col>&lt;chr&gt;</th><th scope=col>&lt;chr&gt;</th></tr>\n",
       "</thead>\n",
       "<tbody>\n",
       "\t<tr><th scope=row>cvn00270</th><td>cvn00270</td><td>Cysteine and methionine metabolism                    </td><td>55</td><td> 0.5399651</td><td> 1.567458</td><td>0.003380216</td><td>0.4495687</td><td>0.4447653</td><td>1747</td><td>tags=22%, list=7%, signal=20% </td><td>111135192/111137596/111129934/111122141/111122163/111136621/111110831/111100699/111133693/111106176/111102594/111111318</td></tr>\n",
       "\t<tr><th scope=row>cvn00592</th><td>cvn00592</td><td>alpha-Linolenic acid metabolism                       </td><td>22</td><td>-0.6569109</td><td>-1.718894</td><td>0.008570475</td><td>0.5241541</td><td>0.5185537</td><td>3407</td><td>tags=45%, list=14%, signal=39%</td><td>111115085/111135554/111121119/111115745/111103312/111124908/111136438/111107112/111103240/111113990                    </td></tr>\n",
       "\t<tr><th scope=row>cvn00563</th><td>cvn00563</td><td>Glycosylphosphatidylinositol (GPI)-anchor biosynthesis</td><td>37</td><td> 0.5648350</td><td> 1.544834</td><td>0.012550248</td><td>0.5241541</td><td>0.5185537</td><td>3720</td><td>tags=32%, list=15%, signal=28%</td><td>111120568/111118285/111121275/111133439/111137394/111136211/111136158/111137980/111129796/111118609/111132406/111125613</td></tr>\n",
       "\t<tr><th scope=row>cvn00591</th><td>cvn00591</td><td>Linoleic acid metabolism                              </td><td>31</td><td>-0.5446575</td><td>-1.497853</td><td>0.015764033</td><td>0.5241541</td><td>0.5185537</td><td>3134</td><td>tags=23%, list=13%, signal=20%</td><td>111135554/111121119/111103312/111121956/111103240/111127589/111127588                                                  </td></tr>\n",
       "\t<tr><th scope=row>cvn04980</th><td>cvn04980</td><td>Cobalamin transport and metabolism                    </td><td>19</td><td>-0.6147586</td><td>-1.551765</td><td>0.021493457</td><td>0.5613657</td><td>0.5553678</td><td>1731</td><td>tags=26%, list=7%, signal=24% </td><td>111122749/111111843/111115300/111126313/111130560                                                                      </td></tr>\n",
       "\t<tr><th scope=row>cvn00350</th><td>cvn00350</td><td>Tyrosine metabolism                                   </td><td>30</td><td> 0.5516315</td><td> 1.454327</td><td>0.033766360</td><td>0.5613657</td><td>0.5553678</td><td>5112</td><td>tags=27%, list=21%, signal=21%</td><td>111137596/111102674/111100724/111128087/111100973/111133619/111129960/111135147                                        </td></tr>\n",
       "</tbody>\n",
       "</table>\n"
      ],
      "text/latex": [
       "A data.frame: 6 × 11\n",
       "\\begin{tabular}{r|lllllllllll}\n",
       "  & ID & Description & setSize & enrichmentScore & NES & pvalue & p.adjust & qvalue & rank & leading\\_edge & core\\_enrichment\\\\\n",
       "  & <chr> & <chr> & <int> & <dbl> & <dbl> & <dbl> & <dbl> & <dbl> & <dbl> & <chr> & <chr>\\\\\n",
       "\\hline\n",
       "\tcvn00270 & cvn00270 & Cysteine and methionine metabolism                     & 55 &  0.5399651 &  1.567458 & 0.003380216 & 0.4495687 & 0.4447653 & 1747 & tags=22\\%, list=7\\%, signal=20\\%  & 111135192/111137596/111129934/111122141/111122163/111136621/111110831/111100699/111133693/111106176/111102594/111111318\\\\\n",
       "\tcvn00592 & cvn00592 & alpha-Linolenic acid metabolism                        & 22 & -0.6569109 & -1.718894 & 0.008570475 & 0.5241541 & 0.5185537 & 3407 & tags=45\\%, list=14\\%, signal=39\\% & 111115085/111135554/111121119/111115745/111103312/111124908/111136438/111107112/111103240/111113990                    \\\\\n",
       "\tcvn00563 & cvn00563 & Glycosylphosphatidylinositol (GPI)-anchor biosynthesis & 37 &  0.5648350 &  1.544834 & 0.012550248 & 0.5241541 & 0.5185537 & 3720 & tags=32\\%, list=15\\%, signal=28\\% & 111120568/111118285/111121275/111133439/111137394/111136211/111136158/111137980/111129796/111118609/111132406/111125613\\\\\n",
       "\tcvn00591 & cvn00591 & Linoleic acid metabolism                               & 31 & -0.5446575 & -1.497853 & 0.015764033 & 0.5241541 & 0.5185537 & 3134 & tags=23\\%, list=13\\%, signal=20\\% & 111135554/111121119/111103312/111121956/111103240/111127589/111127588                                                  \\\\\n",
       "\tcvn04980 & cvn04980 & Cobalamin transport and metabolism                     & 19 & -0.6147586 & -1.551765 & 0.021493457 & 0.5613657 & 0.5553678 & 1731 & tags=26\\%, list=7\\%, signal=24\\%  & 111122749/111111843/111115300/111126313/111130560                                                                      \\\\\n",
       "\tcvn00350 & cvn00350 & Tyrosine metabolism                                    & 30 &  0.5516315 &  1.454327 & 0.033766360 & 0.5613657 & 0.5553678 & 5112 & tags=27\\%, list=21\\%, signal=21\\% & 111137596/111102674/111100724/111128087/111100973/111133619/111129960/111135147                                        \\\\\n",
       "\\end{tabular}\n"
      ],
      "text/markdown": [
       "\n",
       "A data.frame: 6 × 11\n",
       "\n",
       "| <!--/--> | ID &lt;chr&gt; | Description &lt;chr&gt; | setSize &lt;int&gt; | enrichmentScore &lt;dbl&gt; | NES &lt;dbl&gt; | pvalue &lt;dbl&gt; | p.adjust &lt;dbl&gt; | qvalue &lt;dbl&gt; | rank &lt;dbl&gt; | leading_edge &lt;chr&gt; | core_enrichment &lt;chr&gt; |\n",
       "|---|---|---|---|---|---|---|---|---|---|---|---|\n",
       "| cvn00270 | cvn00270 | Cysteine and methionine metabolism                     | 55 |  0.5399651 |  1.567458 | 0.003380216 | 0.4495687 | 0.4447653 | 1747 | tags=22%, list=7%, signal=20%  | 111135192/111137596/111129934/111122141/111122163/111136621/111110831/111100699/111133693/111106176/111102594/111111318 |\n",
       "| cvn00592 | cvn00592 | alpha-Linolenic acid metabolism                        | 22 | -0.6569109 | -1.718894 | 0.008570475 | 0.5241541 | 0.5185537 | 3407 | tags=45%, list=14%, signal=39% | 111115085/111135554/111121119/111115745/111103312/111124908/111136438/111107112/111103240/111113990                     |\n",
       "| cvn00563 | cvn00563 | Glycosylphosphatidylinositol (GPI)-anchor biosynthesis | 37 |  0.5648350 |  1.544834 | 0.012550248 | 0.5241541 | 0.5185537 | 3720 | tags=32%, list=15%, signal=28% | 111120568/111118285/111121275/111133439/111137394/111136211/111136158/111137980/111129796/111118609/111132406/111125613 |\n",
       "| cvn00591 | cvn00591 | Linoleic acid metabolism                               | 31 | -0.5446575 | -1.497853 | 0.015764033 | 0.5241541 | 0.5185537 | 3134 | tags=23%, list=13%, signal=20% | 111135554/111121119/111103312/111121956/111103240/111127589/111127588                                                   |\n",
       "| cvn04980 | cvn04980 | Cobalamin transport and metabolism                     | 19 | -0.6147586 | -1.551765 | 0.021493457 | 0.5613657 | 0.5553678 | 1731 | tags=26%, list=7%, signal=24%  | 111122749/111111843/111115300/111126313/111130560                                                                       |\n",
       "| cvn00350 | cvn00350 | Tyrosine metabolism                                    | 30 |  0.5516315 |  1.454327 | 0.033766360 | 0.5613657 | 0.5553678 | 5112 | tags=27%, list=21%, signal=21% | 111137596/111102674/111100724/111128087/111100973/111133619/111129960/111135147                                         |\n",
       "\n"
      ],
      "text/plain": [
       "         ID       Description                                           \n",
       "cvn00270 cvn00270 Cysteine and methionine metabolism                    \n",
       "cvn00592 cvn00592 alpha-Linolenic acid metabolism                       \n",
       "cvn00563 cvn00563 Glycosylphosphatidylinositol (GPI)-anchor biosynthesis\n",
       "cvn00591 cvn00591 Linoleic acid metabolism                              \n",
       "cvn04980 cvn04980 Cobalamin transport and metabolism                    \n",
       "cvn00350 cvn00350 Tyrosine metabolism                                   \n",
       "         setSize enrichmentScore NES       pvalue      p.adjust  qvalue    rank\n",
       "cvn00270 55       0.5399651       1.567458 0.003380216 0.4495687 0.4447653 1747\n",
       "cvn00592 22      -0.6569109      -1.718894 0.008570475 0.5241541 0.5185537 3407\n",
       "cvn00563 37       0.5648350       1.544834 0.012550248 0.5241541 0.5185537 3720\n",
       "cvn00591 31      -0.5446575      -1.497853 0.015764033 0.5241541 0.5185537 3134\n",
       "cvn04980 19      -0.6147586      -1.551765 0.021493457 0.5613657 0.5553678 1731\n",
       "cvn00350 30       0.5516315       1.454327 0.033766360 0.5613657 0.5553678 5112\n",
       "         leading_edge                  \n",
       "cvn00270 tags=22%, list=7%, signal=20% \n",
       "cvn00592 tags=45%, list=14%, signal=39%\n",
       "cvn00563 tags=32%, list=15%, signal=28%\n",
       "cvn00591 tags=23%, list=13%, signal=20%\n",
       "cvn04980 tags=26%, list=7%, signal=24% \n",
       "cvn00350 tags=27%, list=21%, signal=21%\n",
       "         core_enrichment                                                                                                        \n",
       "cvn00270 111135192/111137596/111129934/111122141/111122163/111136621/111110831/111100699/111133693/111106176/111102594/111111318\n",
       "cvn00592 111115085/111135554/111121119/111115745/111103312/111124908/111136438/111107112/111103240/111113990                    \n",
       "cvn00563 111120568/111118285/111121275/111133439/111137394/111136211/111136158/111137980/111129796/111118609/111132406/111125613\n",
       "cvn00591 111135554/111121119/111103312/111121956/111103240/111127589/111127588                                                  \n",
       "cvn04980 111122749/111111843/111115300/111126313/111130560                                                                      \n",
       "cvn00350 111137596/111102674/111100724/111128087/111100973/111133619/111129960/111135147                                        "
      ]
     },
     "metadata": {},
     "output_type": "display_data"
    }
   ],
   "source": [
    "HH_kk2_df <- as.data.frame(HH_kk2)\n",
    "HH_kk2_df$Description <- sub(\" -.*\", \"\", HH_kk2_df$Description)\n",
    "head(HH_kk2_df)"
   ]
  },
  {
   "cell_type": "code",
   "execution_count": 27,
   "id": "b3bbe005-896f-4281-9fe7-c1b62aba6f8f",
   "metadata": {},
   "outputs": [
    {
     "data": {
      "text/html": [
       "<table class=\"dataframe\">\n",
       "<caption>A data.frame: 10 × 11</caption>\n",
       "<thead>\n",
       "\t<tr><th></th><th scope=col>ID</th><th scope=col>Description</th><th scope=col>setSize</th><th scope=col>enrichmentScore</th><th scope=col>NES</th><th scope=col>pvalue</th><th scope=col>p.adjust</th><th scope=col>qvalue</th><th scope=col>rank</th><th scope=col>leading_edge</th><th scope=col>core_enrichment</th></tr>\n",
       "\t<tr><th></th><th scope=col>&lt;chr&gt;</th><th scope=col>&lt;chr&gt;</th><th scope=col>&lt;int&gt;</th><th scope=col>&lt;dbl&gt;</th><th scope=col>&lt;dbl&gt;</th><th scope=col>&lt;dbl&gt;</th><th scope=col>&lt;dbl&gt;</th><th scope=col>&lt;dbl&gt;</th><th scope=col>&lt;dbl&gt;</th><th scope=col>&lt;chr&gt;</th><th scope=col>&lt;chr&gt;</th></tr>\n",
       "</thead>\n",
       "<tbody>\n",
       "\t<tr><th scope=row>cvn00270</th><td>cvn00270</td><td>Cysteine and methionine metabolism                    </td><td>55</td><td> 0.5399651</td><td> 1.567458</td><td>0.003380216</td><td>0.4495687</td><td>0.4447653</td><td>1747</td><td>tags=22%, list=7%, signal=20% </td><td>111135192/111137596/111129934/111122141/111122163/111136621/111110831/111100699/111133693/111106176/111102594/111111318                                                                                                                                                                                              </td></tr>\n",
       "\t<tr><th scope=row>cvn00592</th><td>cvn00592</td><td>alpha-Linolenic acid metabolism                       </td><td>22</td><td>-0.6569109</td><td>-1.718894</td><td>0.008570475</td><td>0.5241541</td><td>0.5185537</td><td>3407</td><td>tags=45%, list=14%, signal=39%</td><td>111115085/111135554/111121119/111115745/111103312/111124908/111136438/111107112/111103240/111113990                                                                                                                                                                                                                  </td></tr>\n",
       "\t<tr><th scope=row>cvn00563</th><td>cvn00563</td><td>Glycosylphosphatidylinositol (GPI)-anchor biosynthesis</td><td>37</td><td> 0.5648350</td><td> 1.544834</td><td>0.012550248</td><td>0.5241541</td><td>0.5185537</td><td>3720</td><td>tags=32%, list=15%, signal=28%</td><td>111120568/111118285/111121275/111133439/111137394/111136211/111136158/111137980/111129796/111118609/111132406/111125613                                                                                                                                                                                              </td></tr>\n",
       "\t<tr><th scope=row>cvn00591</th><td>cvn00591</td><td>Linoleic acid metabolism                              </td><td>31</td><td>-0.5446575</td><td>-1.497853</td><td>0.015764033</td><td>0.5241541</td><td>0.5185537</td><td>3134</td><td>tags=23%, list=13%, signal=20%</td><td>111135554/111121119/111103312/111121956/111103240/111127589/111127588                                                                                                                                                                                                                                                </td></tr>\n",
       "\t<tr><th scope=row>cvn04980</th><td>cvn04980</td><td>Cobalamin transport and metabolism                    </td><td>19</td><td>-0.6147586</td><td>-1.551765</td><td>0.021493457</td><td>0.5613657</td><td>0.5553678</td><td>1731</td><td>tags=26%, list=7%, signal=24% </td><td>111122749/111111843/111115300/111126313/111130560                                                                                                                                                                                                                                                                    </td></tr>\n",
       "\t<tr><th scope=row>cvn03082</th><td>cvn03082</td><td>ATP-dependent chromatin remodeling                    </td><td>98</td><td>-0.3892932</td><td>-1.332454</td><td>0.027859554</td><td>0.5613657</td><td>0.5553678</td><td>4352</td><td>tags=29%, list=18%, signal=24%</td><td>111130875/111118535/111121077/111132974/111114820/111130322/111117803/111120915/111135329/111114842/111105716/111136148/111125973/111134187/111128754/111118359/111129852/111128560/111130152/111123841/111127973/111108477/111127274/111120594/111120856/111114783/111105834/111133731                              </td></tr>\n",
       "\t<tr><th scope=row>cvn00260</th><td>cvn00260</td><td>Glycine, serine and threonine metabolism              </td><td>53</td><td> 0.4832473</td><td> 1.395923</td><td>0.030117555</td><td>0.5613657</td><td>0.5553678</td><td>6571</td><td>tags=53%, list=27%, signal=39%</td><td>111128625/111122141/111125218/111137062/111130119/111102594/111111318/111137347/111100724/111128087/111116065/111118059/111106392/111108560/111122380/111109454/111122379/111120495/111137345/111131063/111100351/111109254/111118058/111135916/111114474/111122125/111119739/111119088                              </td></tr>\n",
       "\t<tr><th scope=row>cvn00350</th><td>cvn00350</td><td>Tyrosine metabolism                                   </td><td>30</td><td> 0.5516315</td><td> 1.454327</td><td>0.033766360</td><td>0.5613657</td><td>0.5553678</td><td>5112</td><td>tags=27%, list=21%, signal=21%</td><td>111137596/111102674/111100724/111128087/111100973/111133619/111129960/111135147                                                                                                                                                                                                                                      </td></tr>\n",
       "\t<tr><th scope=row>cvn04122</th><td>cvn04122</td><td>Sulfur relay system                                   </td><td>10</td><td>-0.6982085</td><td>-1.474675</td><td>0.050902008</td><td>0.7522186</td><td>0.7441814</td><td>2031</td><td>tags=50%, list=8%, signal=46% </td><td>111134884/111136090/111130526/111099625/111099660                                                                                                                                                                                                                                                                    </td></tr>\n",
       "\t<tr><th scope=row>cvn00330</th><td>cvn00330</td><td>Arginine and proline metabolism                       </td><td>75</td><td> 0.4271446</td><td> 1.299241</td><td>0.059561129</td><td>0.7616657</td><td>0.7535276</td><td>6072</td><td>tags=41%, list=25%, signal=31%</td><td>111137596/111130979/111132445/111109392/111137751/111108373/111132779/111125850/111112920/111109369/111136221/111100724/111136020/111132935/111128087/111118059/111125396/111132780/111119820/111108560/111122380/111122379/111125295/111131063/111128753/111136290/111128747/111106780/111118058/111134733/111125537</td></tr>\n",
       "</tbody>\n",
       "</table>\n"
      ],
      "text/latex": [
       "A data.frame: 10 × 11\n",
       "\\begin{tabular}{r|lllllllllll}\n",
       "  & ID & Description & setSize & enrichmentScore & NES & pvalue & p.adjust & qvalue & rank & leading\\_edge & core\\_enrichment\\\\\n",
       "  & <chr> & <chr> & <int> & <dbl> & <dbl> & <dbl> & <dbl> & <dbl> & <dbl> & <chr> & <chr>\\\\\n",
       "\\hline\n",
       "\tcvn00270 & cvn00270 & Cysteine and methionine metabolism                     & 55 &  0.5399651 &  1.567458 & 0.003380216 & 0.4495687 & 0.4447653 & 1747 & tags=22\\%, list=7\\%, signal=20\\%  & 111135192/111137596/111129934/111122141/111122163/111136621/111110831/111100699/111133693/111106176/111102594/111111318                                                                                                                                                                                              \\\\\n",
       "\tcvn00592 & cvn00592 & alpha-Linolenic acid metabolism                        & 22 & -0.6569109 & -1.718894 & 0.008570475 & 0.5241541 & 0.5185537 & 3407 & tags=45\\%, list=14\\%, signal=39\\% & 111115085/111135554/111121119/111115745/111103312/111124908/111136438/111107112/111103240/111113990                                                                                                                                                                                                                  \\\\\n",
       "\tcvn00563 & cvn00563 & Glycosylphosphatidylinositol (GPI)-anchor biosynthesis & 37 &  0.5648350 &  1.544834 & 0.012550248 & 0.5241541 & 0.5185537 & 3720 & tags=32\\%, list=15\\%, signal=28\\% & 111120568/111118285/111121275/111133439/111137394/111136211/111136158/111137980/111129796/111118609/111132406/111125613                                                                                                                                                                                              \\\\\n",
       "\tcvn00591 & cvn00591 & Linoleic acid metabolism                               & 31 & -0.5446575 & -1.497853 & 0.015764033 & 0.5241541 & 0.5185537 & 3134 & tags=23\\%, list=13\\%, signal=20\\% & 111135554/111121119/111103312/111121956/111103240/111127589/111127588                                                                                                                                                                                                                                                \\\\\n",
       "\tcvn04980 & cvn04980 & Cobalamin transport and metabolism                     & 19 & -0.6147586 & -1.551765 & 0.021493457 & 0.5613657 & 0.5553678 & 1731 & tags=26\\%, list=7\\%, signal=24\\%  & 111122749/111111843/111115300/111126313/111130560                                                                                                                                                                                                                                                                    \\\\\n",
       "\tcvn03082 & cvn03082 & ATP-dependent chromatin remodeling                     & 98 & -0.3892932 & -1.332454 & 0.027859554 & 0.5613657 & 0.5553678 & 4352 & tags=29\\%, list=18\\%, signal=24\\% & 111130875/111118535/111121077/111132974/111114820/111130322/111117803/111120915/111135329/111114842/111105716/111136148/111125973/111134187/111128754/111118359/111129852/111128560/111130152/111123841/111127973/111108477/111127274/111120594/111120856/111114783/111105834/111133731                              \\\\\n",
       "\tcvn00260 & cvn00260 & Glycine, serine and threonine metabolism               & 53 &  0.4832473 &  1.395923 & 0.030117555 & 0.5613657 & 0.5553678 & 6571 & tags=53\\%, list=27\\%, signal=39\\% & 111128625/111122141/111125218/111137062/111130119/111102594/111111318/111137347/111100724/111128087/111116065/111118059/111106392/111108560/111122380/111109454/111122379/111120495/111137345/111131063/111100351/111109254/111118058/111135916/111114474/111122125/111119739/111119088                              \\\\\n",
       "\tcvn00350 & cvn00350 & Tyrosine metabolism                                    & 30 &  0.5516315 &  1.454327 & 0.033766360 & 0.5613657 & 0.5553678 & 5112 & tags=27\\%, list=21\\%, signal=21\\% & 111137596/111102674/111100724/111128087/111100973/111133619/111129960/111135147                                                                                                                                                                                                                                      \\\\\n",
       "\tcvn04122 & cvn04122 & Sulfur relay system                                    & 10 & -0.6982085 & -1.474675 & 0.050902008 & 0.7522186 & 0.7441814 & 2031 & tags=50\\%, list=8\\%, signal=46\\%  & 111134884/111136090/111130526/111099625/111099660                                                                                                                                                                                                                                                                    \\\\\n",
       "\tcvn00330 & cvn00330 & Arginine and proline metabolism                        & 75 &  0.4271446 &  1.299241 & 0.059561129 & 0.7616657 & 0.7535276 & 6072 & tags=41\\%, list=25\\%, signal=31\\% & 111137596/111130979/111132445/111109392/111137751/111108373/111132779/111125850/111112920/111109369/111136221/111100724/111136020/111132935/111128087/111118059/111125396/111132780/111119820/111108560/111122380/111122379/111125295/111131063/111128753/111136290/111128747/111106780/111118058/111134733/111125537\\\\\n",
       "\\end{tabular}\n"
      ],
      "text/markdown": [
       "\n",
       "A data.frame: 10 × 11\n",
       "\n",
       "| <!--/--> | ID &lt;chr&gt; | Description &lt;chr&gt; | setSize &lt;int&gt; | enrichmentScore &lt;dbl&gt; | NES &lt;dbl&gt; | pvalue &lt;dbl&gt; | p.adjust &lt;dbl&gt; | qvalue &lt;dbl&gt; | rank &lt;dbl&gt; | leading_edge &lt;chr&gt; | core_enrichment &lt;chr&gt; |\n",
       "|---|---|---|---|---|---|---|---|---|---|---|---|\n",
       "| cvn00270 | cvn00270 | Cysteine and methionine metabolism                     | 55 |  0.5399651 |  1.567458 | 0.003380216 | 0.4495687 | 0.4447653 | 1747 | tags=22%, list=7%, signal=20%  | 111135192/111137596/111129934/111122141/111122163/111136621/111110831/111100699/111133693/111106176/111102594/111111318                                                                                                                                                                                               |\n",
       "| cvn00592 | cvn00592 | alpha-Linolenic acid metabolism                        | 22 | -0.6569109 | -1.718894 | 0.008570475 | 0.5241541 | 0.5185537 | 3407 | tags=45%, list=14%, signal=39% | 111115085/111135554/111121119/111115745/111103312/111124908/111136438/111107112/111103240/111113990                                                                                                                                                                                                                   |\n",
       "| cvn00563 | cvn00563 | Glycosylphosphatidylinositol (GPI)-anchor biosynthesis | 37 |  0.5648350 |  1.544834 | 0.012550248 | 0.5241541 | 0.5185537 | 3720 | tags=32%, list=15%, signal=28% | 111120568/111118285/111121275/111133439/111137394/111136211/111136158/111137980/111129796/111118609/111132406/111125613                                                                                                                                                                                               |\n",
       "| cvn00591 | cvn00591 | Linoleic acid metabolism                               | 31 | -0.5446575 | -1.497853 | 0.015764033 | 0.5241541 | 0.5185537 | 3134 | tags=23%, list=13%, signal=20% | 111135554/111121119/111103312/111121956/111103240/111127589/111127588                                                                                                                                                                                                                                                 |\n",
       "| cvn04980 | cvn04980 | Cobalamin transport and metabolism                     | 19 | -0.6147586 | -1.551765 | 0.021493457 | 0.5613657 | 0.5553678 | 1731 | tags=26%, list=7%, signal=24%  | 111122749/111111843/111115300/111126313/111130560                                                                                                                                                                                                                                                                     |\n",
       "| cvn03082 | cvn03082 | ATP-dependent chromatin remodeling                     | 98 | -0.3892932 | -1.332454 | 0.027859554 | 0.5613657 | 0.5553678 | 4352 | tags=29%, list=18%, signal=24% | 111130875/111118535/111121077/111132974/111114820/111130322/111117803/111120915/111135329/111114842/111105716/111136148/111125973/111134187/111128754/111118359/111129852/111128560/111130152/111123841/111127973/111108477/111127274/111120594/111120856/111114783/111105834/111133731                               |\n",
       "| cvn00260 | cvn00260 | Glycine, serine and threonine metabolism               | 53 |  0.4832473 |  1.395923 | 0.030117555 | 0.5613657 | 0.5553678 | 6571 | tags=53%, list=27%, signal=39% | 111128625/111122141/111125218/111137062/111130119/111102594/111111318/111137347/111100724/111128087/111116065/111118059/111106392/111108560/111122380/111109454/111122379/111120495/111137345/111131063/111100351/111109254/111118058/111135916/111114474/111122125/111119739/111119088                               |\n",
       "| cvn00350 | cvn00350 | Tyrosine metabolism                                    | 30 |  0.5516315 |  1.454327 | 0.033766360 | 0.5613657 | 0.5553678 | 5112 | tags=27%, list=21%, signal=21% | 111137596/111102674/111100724/111128087/111100973/111133619/111129960/111135147                                                                                                                                                                                                                                       |\n",
       "| cvn04122 | cvn04122 | Sulfur relay system                                    | 10 | -0.6982085 | -1.474675 | 0.050902008 | 0.7522186 | 0.7441814 | 2031 | tags=50%, list=8%, signal=46%  | 111134884/111136090/111130526/111099625/111099660                                                                                                                                                                                                                                                                     |\n",
       "| cvn00330 | cvn00330 | Arginine and proline metabolism                        | 75 |  0.4271446 |  1.299241 | 0.059561129 | 0.7616657 | 0.7535276 | 6072 | tags=41%, list=25%, signal=31% | 111137596/111130979/111132445/111109392/111137751/111108373/111132779/111125850/111112920/111109369/111136221/111100724/111136020/111132935/111128087/111118059/111125396/111132780/111119820/111108560/111122380/111122379/111125295/111131063/111128753/111136290/111128747/111106780/111118058/111134733/111125537 |\n",
       "\n"
      ],
      "text/plain": [
       "         ID       Description                                           \n",
       "cvn00270 cvn00270 Cysteine and methionine metabolism                    \n",
       "cvn00592 cvn00592 alpha-Linolenic acid metabolism                       \n",
       "cvn00563 cvn00563 Glycosylphosphatidylinositol (GPI)-anchor biosynthesis\n",
       "cvn00591 cvn00591 Linoleic acid metabolism                              \n",
       "cvn04980 cvn04980 Cobalamin transport and metabolism                    \n",
       "cvn03082 cvn03082 ATP-dependent chromatin remodeling                    \n",
       "cvn00260 cvn00260 Glycine, serine and threonine metabolism              \n",
       "cvn00350 cvn00350 Tyrosine metabolism                                   \n",
       "cvn04122 cvn04122 Sulfur relay system                                   \n",
       "cvn00330 cvn00330 Arginine and proline metabolism                       \n",
       "         setSize enrichmentScore NES       pvalue      p.adjust  qvalue    rank\n",
       "cvn00270 55       0.5399651       1.567458 0.003380216 0.4495687 0.4447653 1747\n",
       "cvn00592 22      -0.6569109      -1.718894 0.008570475 0.5241541 0.5185537 3407\n",
       "cvn00563 37       0.5648350       1.544834 0.012550248 0.5241541 0.5185537 3720\n",
       "cvn00591 31      -0.5446575      -1.497853 0.015764033 0.5241541 0.5185537 3134\n",
       "cvn04980 19      -0.6147586      -1.551765 0.021493457 0.5613657 0.5553678 1731\n",
       "cvn03082 98      -0.3892932      -1.332454 0.027859554 0.5613657 0.5553678 4352\n",
       "cvn00260 53       0.4832473       1.395923 0.030117555 0.5613657 0.5553678 6571\n",
       "cvn00350 30       0.5516315       1.454327 0.033766360 0.5613657 0.5553678 5112\n",
       "cvn04122 10      -0.6982085      -1.474675 0.050902008 0.7522186 0.7441814 2031\n",
       "cvn00330 75       0.4271446       1.299241 0.059561129 0.7616657 0.7535276 6072\n",
       "         leading_edge                  \n",
       "cvn00270 tags=22%, list=7%, signal=20% \n",
       "cvn00592 tags=45%, list=14%, signal=39%\n",
       "cvn00563 tags=32%, list=15%, signal=28%\n",
       "cvn00591 tags=23%, list=13%, signal=20%\n",
       "cvn04980 tags=26%, list=7%, signal=24% \n",
       "cvn03082 tags=29%, list=18%, signal=24%\n",
       "cvn00260 tags=53%, list=27%, signal=39%\n",
       "cvn00350 tags=27%, list=21%, signal=21%\n",
       "cvn04122 tags=50%, list=8%, signal=46% \n",
       "cvn00330 tags=41%, list=25%, signal=31%\n",
       "         core_enrichment                                                                                                                                                                                                                                                                                                      \n",
       "cvn00270 111135192/111137596/111129934/111122141/111122163/111136621/111110831/111100699/111133693/111106176/111102594/111111318                                                                                                                                                                                              \n",
       "cvn00592 111115085/111135554/111121119/111115745/111103312/111124908/111136438/111107112/111103240/111113990                                                                                                                                                                                                                  \n",
       "cvn00563 111120568/111118285/111121275/111133439/111137394/111136211/111136158/111137980/111129796/111118609/111132406/111125613                                                                                                                                                                                              \n",
       "cvn00591 111135554/111121119/111103312/111121956/111103240/111127589/111127588                                                                                                                                                                                                                                                \n",
       "cvn04980 111122749/111111843/111115300/111126313/111130560                                                                                                                                                                                                                                                                    \n",
       "cvn03082 111130875/111118535/111121077/111132974/111114820/111130322/111117803/111120915/111135329/111114842/111105716/111136148/111125973/111134187/111128754/111118359/111129852/111128560/111130152/111123841/111127973/111108477/111127274/111120594/111120856/111114783/111105834/111133731                              \n",
       "cvn00260 111128625/111122141/111125218/111137062/111130119/111102594/111111318/111137347/111100724/111128087/111116065/111118059/111106392/111108560/111122380/111109454/111122379/111120495/111137345/111131063/111100351/111109254/111118058/111135916/111114474/111122125/111119739/111119088                              \n",
       "cvn00350 111137596/111102674/111100724/111128087/111100973/111133619/111129960/111135147                                                                                                                                                                                                                                      \n",
       "cvn04122 111134884/111136090/111130526/111099625/111099660                                                                                                                                                                                                                                                                    \n",
       "cvn00330 111137596/111130979/111132445/111109392/111137751/111108373/111132779/111125850/111112920/111109369/111136221/111100724/111136020/111132935/111128087/111118059/111125396/111132780/111119820/111108560/111122380/111122379/111125295/111131063/111128753/111136290/111128747/111106780/111118058/111134733/111125537"
      ]
     },
     "metadata": {},
     "output_type": "display_data"
    }
   ],
   "source": [
    "top10_HH <- head(HH_kk2_df[order(HH_kk2_df$pvalue), ], 10)\n",
    "top10_HH"
   ]
  },
  {
   "cell_type": "code",
   "execution_count": 28,
   "id": "08d47fc2-68e8-4473-8905-068e587e133f",
   "metadata": {},
   "outputs": [
    {
     "data": {
      "text/html": [
       "<table class=\"dataframe\">\n",
       "<caption>A data.frame: 10 × 3</caption>\n",
       "<thead>\n",
       "\t<tr><th></th><th scope=col>Description</th><th scope=col>pvalue</th><th scope=col>p.adjust</th></tr>\n",
       "\t<tr><th></th><th scope=col>&lt;chr&gt;</th><th scope=col>&lt;dbl&gt;</th><th scope=col>&lt;dbl&gt;</th></tr>\n",
       "</thead>\n",
       "<tbody>\n",
       "\t<tr><th scope=row>cvn00270</th><td>Cysteine and methionine metabolism                    </td><td>0.003380216</td><td>0.4495687</td></tr>\n",
       "\t<tr><th scope=row>cvn00592</th><td>alpha-Linolenic acid metabolism                       </td><td>0.008570475</td><td>0.5241541</td></tr>\n",
       "\t<tr><th scope=row>cvn00563</th><td>Glycosylphosphatidylinositol (GPI)-anchor biosynthesis</td><td>0.012550248</td><td>0.5241541</td></tr>\n",
       "\t<tr><th scope=row>cvn00591</th><td>Linoleic acid metabolism                              </td><td>0.015764033</td><td>0.5241541</td></tr>\n",
       "\t<tr><th scope=row>cvn04980</th><td>Cobalamin transport and metabolism                    </td><td>0.021493457</td><td>0.5613657</td></tr>\n",
       "\t<tr><th scope=row>cvn03082</th><td>ATP-dependent chromatin remodeling                    </td><td>0.027859554</td><td>0.5613657</td></tr>\n",
       "\t<tr><th scope=row>cvn00260</th><td>Glycine, serine and threonine metabolism              </td><td>0.030117555</td><td>0.5613657</td></tr>\n",
       "\t<tr><th scope=row>cvn00350</th><td>Tyrosine metabolism                                   </td><td>0.033766360</td><td>0.5613657</td></tr>\n",
       "\t<tr><th scope=row>cvn04122</th><td>Sulfur relay system                                   </td><td>0.050902008</td><td>0.7522186</td></tr>\n",
       "\t<tr><th scope=row>cvn00330</th><td>Arginine and proline metabolism                       </td><td>0.059561129</td><td>0.7616657</td></tr>\n",
       "</tbody>\n",
       "</table>\n"
      ],
      "text/latex": [
       "A data.frame: 10 × 3\n",
       "\\begin{tabular}{r|lll}\n",
       "  & Description & pvalue & p.adjust\\\\\n",
       "  & <chr> & <dbl> & <dbl>\\\\\n",
       "\\hline\n",
       "\tcvn00270 & Cysteine and methionine metabolism                     & 0.003380216 & 0.4495687\\\\\n",
       "\tcvn00592 & alpha-Linolenic acid metabolism                        & 0.008570475 & 0.5241541\\\\\n",
       "\tcvn00563 & Glycosylphosphatidylinositol (GPI)-anchor biosynthesis & 0.012550248 & 0.5241541\\\\\n",
       "\tcvn00591 & Linoleic acid metabolism                               & 0.015764033 & 0.5241541\\\\\n",
       "\tcvn04980 & Cobalamin transport and metabolism                     & 0.021493457 & 0.5613657\\\\\n",
       "\tcvn03082 & ATP-dependent chromatin remodeling                     & 0.027859554 & 0.5613657\\\\\n",
       "\tcvn00260 & Glycine, serine and threonine metabolism               & 0.030117555 & 0.5613657\\\\\n",
       "\tcvn00350 & Tyrosine metabolism                                    & 0.033766360 & 0.5613657\\\\\n",
       "\tcvn04122 & Sulfur relay system                                    & 0.050902008 & 0.7522186\\\\\n",
       "\tcvn00330 & Arginine and proline metabolism                        & 0.059561129 & 0.7616657\\\\\n",
       "\\end{tabular}\n"
      ],
      "text/markdown": [
       "\n",
       "A data.frame: 10 × 3\n",
       "\n",
       "| <!--/--> | Description &lt;chr&gt; | pvalue &lt;dbl&gt; | p.adjust &lt;dbl&gt; |\n",
       "|---|---|---|---|\n",
       "| cvn00270 | Cysteine and methionine metabolism                     | 0.003380216 | 0.4495687 |\n",
       "| cvn00592 | alpha-Linolenic acid metabolism                        | 0.008570475 | 0.5241541 |\n",
       "| cvn00563 | Glycosylphosphatidylinositol (GPI)-anchor biosynthesis | 0.012550248 | 0.5241541 |\n",
       "| cvn00591 | Linoleic acid metabolism                               | 0.015764033 | 0.5241541 |\n",
       "| cvn04980 | Cobalamin transport and metabolism                     | 0.021493457 | 0.5613657 |\n",
       "| cvn03082 | ATP-dependent chromatin remodeling                     | 0.027859554 | 0.5613657 |\n",
       "| cvn00260 | Glycine, serine and threonine metabolism               | 0.030117555 | 0.5613657 |\n",
       "| cvn00350 | Tyrosine metabolism                                    | 0.033766360 | 0.5613657 |\n",
       "| cvn04122 | Sulfur relay system                                    | 0.050902008 | 0.7522186 |\n",
       "| cvn00330 | Arginine and proline metabolism                        | 0.059561129 | 0.7616657 |\n",
       "\n"
      ],
      "text/plain": [
       "         Description                                            pvalue     \n",
       "cvn00270 Cysteine and methionine metabolism                     0.003380216\n",
       "cvn00592 alpha-Linolenic acid metabolism                        0.008570475\n",
       "cvn00563 Glycosylphosphatidylinositol (GPI)-anchor biosynthesis 0.012550248\n",
       "cvn00591 Linoleic acid metabolism                               0.015764033\n",
       "cvn04980 Cobalamin transport and metabolism                     0.021493457\n",
       "cvn03082 ATP-dependent chromatin remodeling                     0.027859554\n",
       "cvn00260 Glycine, serine and threonine metabolism               0.030117555\n",
       "cvn00350 Tyrosine metabolism                                    0.033766360\n",
       "cvn04122 Sulfur relay system                                    0.050902008\n",
       "cvn00330 Arginine and proline metabolism                        0.059561129\n",
       "         p.adjust \n",
       "cvn00270 0.4495687\n",
       "cvn00592 0.5241541\n",
       "cvn00563 0.5241541\n",
       "cvn00591 0.5241541\n",
       "cvn04980 0.5613657\n",
       "cvn03082 0.5613657\n",
       "cvn00260 0.5613657\n",
       "cvn00350 0.5613657\n",
       "cvn04122 0.7522186\n",
       "cvn00330 0.7616657"
      ]
     },
     "metadata": {},
     "output_type": "display_data"
    }
   ],
   "source": [
    "select(top10_HH, Description, pvalue, p.adjust)"
   ]
  },
  {
   "cell_type": "markdown",
   "id": "65f21aa1-7b77-44ac-bb47-d8a8b6004a21",
   "metadata": {},
   "source": [
    "the code below takes a long time to run - should only be run once, then have the resulting df saved into a csv to just call back for analysis afterwords"
   ]
  },
  {
   "cell_type": "markdown",
   "id": "0fa4ce2b-8605-42c6-854f-22af3da83780",
   "metadata": {
    "jp-MarkdownHeadingCollapsed": true,
    "tags": []
   },
   "source": [
    "generated with help of ChatGPT\n",
    "Function to get pathway names\n",
    "```get_pathway_names <- function(kegg_id) {\n",
    "  url <- paste0(\"http://rest.kegg.jp/get/\", kegg_id)\n",
    "  response <- GET(url)\n",
    "  \n",
    "  if (status_code(response) == 200) {\n",
    "    pathway_info <- content(response, \"text\", encoding = \"UTF-8\")\n",
    "    general_pathway <- NA\n",
    "    detailed_pathway <- NA\n",
    "    \n",
    "    # Extracting general and detailed pathways from the pathway info\n",
    "    lines <- strsplit(pathway_info, \"\\n\")[[1]]\n",
    "    for (line in lines) {\n",
    "      if (grepl(\"^CLASS\", line)) {\n",
    "        paths <- unlist(strsplit(line, \";\"))\n",
    "        general_pathway <- trimws(paths[1])\n",
    "        detailed_pathway <- ifelse(length(paths) > 1, trimws(paths[2]), NA)\n",
    "        break\n",
    "      }\n",
    "    }\n",
    "    \n",
    "    return(list(General_Pathway = general_pathway, Detailed_Pathway = detailed_pathway))\n",
    "  } else {\n",
    "    cat(\"Failed to retrieve information for pathway:\", kegg_id, \"\\n\")\n",
    "    return(NULL)\n",
    "  }\n",
    "}\n",
    "```\n",
    "generated with help of ChatGPT\n",
    "```\n",
    "gseKEGG_df <- select(HH_kk2_df, ID, Description, enrichmentScore, p.adj)\n",
    "```\n",
    "Function to apply to each KEGG ID in the dataframe\n",
    "```\n",
    "pathway_info <- lapply(gseKEGG_df$ID, get_pathway_names)\n",
    "```\n",
    "Combine pathway info into a dataframe\n",
    "```\n",
    "pathway_df <- do.call(rbind, pathway_info)\n",
    "colnames(pathway_df) <- c('GeneralPathway', 'DetailedPathway')\n",
    "```\n",
    "Combine pathway info with original dataframe\n",
    "```\n",
    "gseKEGG_df <- cbind(gseKEGG_df, pathway_df)\n",
    "```\n",
    "Print the dataframe\n",
    "```\n",
    "head(as.data.frame(gseKEGG_df))\n",
    "df <- as.data.frame(gseKEGG_df)\n",
    "```\n",
    "cleaning up GeneralPathway column to only include the pathway name and not CLASS\n",
    "```\n",
    "column <- df$GeneralPathway\n",
    "column <- gsub('^CLASS\\\\s+', '', column)\n",
    "df$GeneralPathway <- column\n",
    "```\n",
    "also changing DetailedPathway into character instead of list to be able to write csv\n",
    "```\n",
    "df$DetailedPathway <- as.character(df$DetailedPathway)\n",
    "head(df)\n",
    "```"
   ]
  },
  {
   "cell_type": "code",
   "execution_count": 29,
   "id": "baf310d2-b151-403a-aa90-99c1d5195d9a",
   "metadata": {},
   "outputs": [
    {
     "name": "stderr",
     "output_type": "stream",
     "text": [
      "Warning message in file(file, \"rt\"):\n",
      "“cannot open file '/project/pi_sarah_gignouxwolfsohn_uml_edu/julia/CE_MethylRAD_analysis_2018/analysis/deseq_res_files/KEGG_HH_HC.csv': No such file or directory”\n"
     ]
    },
    {
     "ename": "ERROR",
     "evalue": "Error in file(file, \"rt\"): cannot open the connection\n",
     "output_type": "error",
     "traceback": [
      "Error in file(file, \"rt\"): cannot open the connection\nTraceback:\n",
      "1. read.csv(\"/project/pi_sarah_gignouxwolfsohn_uml_edu/julia/CE_MethylRAD_analysis_2018/analysis/deseq_res_files/KEGG_HH_HC.csv\")",
      "2. read.table(file = file, header = header, sep = sep, quote = quote, \n .     dec = dec, fill = fill, comment.char = comment.char, ...)",
      "3. file(file, \"rt\")"
     ]
    }
   ],
   "source": [
    "HH_df <- read.csv('/project/pi_sarah_gignouxwolfsohn_uml_edu/julia/CE_MethylRAD_analysis_2018/analysis/deseq_res_files/KEGG_HH_HC.csv')"
   ]
  },
  {
   "cell_type": "markdown",
   "id": "3260aad4-21f7-4466-8dc4-9b50ce787fd2",
   "metadata": {},
   "source": [
    "okay so all of these KEGG bar plots are the exact same - since my input for all of them contain the same genes, just different LFC numbers, this makes sense - i'm not telling it to look at which pair has more enrichment of a pathway - but I'm not sure that I can correctly do that anyway, since methylation data doesn't necessarily tell us a direction - just that there are more differentially methylated geenes in a certain direction (but we don't know if that's 'good'/'bad', something becoming unmethylated is just as important as becoming more methylated) - DESeq only tells me that there were changes, not that there was for sure more methylation in one treatment (CC could become unmethylated, which would show up as more methylation for HC) ... things to think about with this analysis"
   ]
  },
  {
   "cell_type": "code",
   "execution_count": null,
   "id": "6143b65c-c720-4f2c-9162-270074a7432e",
   "metadata": {},
   "outputs": [],
   "source": [
    "# making sure R see enrichment score as a number\n",
    "HH_df$enrichmentScore <- as.numeric(HH_df$enrichmentScore)\n",
    "\n",
    "# assigning the enriched pathway to a phase based on the enrichment score\n",
    "HH_df$direction <- ifelse(HH_df$enrichmentScore<0, \"HH\", #neg ES = pathway for control\n",
    "                              ifelse(HH_df$enrichmentScore>0, \"HC\", # pos ES = pathway for warm\n",
    "                                     \"neutral\")) # don't need this, but example online had it and I can't figure out how to do this otherwise\n",
    "\n",
    "head(HH_df)"
   ]
  },
  {
   "cell_type": "code",
   "execution_count": null,
   "id": "37dff1a7-4df5-46ce-a131-e78cca8847f3",
   "metadata": {},
   "outputs": [],
   "source": [
    "options(repr.plot.width=35, repr.plot.height=13)\n",
    "\n",
    "ggplot(data= HH_df, aes(x = DetailedPathway, \n",
    "                        fill = GeneralPathway, \n",
    "                        col = 'black')) +\n",
    "geom_bar(show.legend=FALSE) +\n",
    "theme_bw(base_size=30) +\n",
    "facet_grid(direction~GeneralPathway, \n",
    "           scales='free_x', \n",
    "           space = 'free', \n",
    "           labeller = label_wrap_gen(multi_line = TRUE)) +\n",
    "scale_color_manual(values = c('black','black','black','black','black')) +\n",
    "theme(axis.text.x = element_text(angle = 45, hjust = 1),\n",
    "     strip.clip = \"off\", # allows grid labels to have overlap\n",
    "      strip.text = element_text(face = 'bold'), \n",
    "      panel.spacing = unit(2, \"lines\"), # adds space between panels\n",
    "      plot.margin = margin(10,100,10,10), # adds space around plot (top, right, bottom, left)\n",
    "     #strip.text.x = element_text(size=25),\n",
    "     strip.background = element_rect(fill = \"transparent\", # removes background from grid labels\n",
    "                                     color = NA )) + # removes grid border\n",
    "scale_fill_brewer(palette = 'Purples', direction = -1) +\n",
    "ylim(0,12) +\n",
    "labs(x = \"Detailed Pathway\", \n",
    "       y = \"Number of Pathways\", \n",
    "       title = \"Pathway Counts by General Pathway\",\n",
    "       subtitle = \"hypoxic hypoxic vs. hypoxic control\",\n",
    "      fill = \"General Pathway\")"
   ]
  },
  {
   "cell_type": "markdown",
   "id": "5eb34fb2-5ac3-4523-9e6d-a0451bf84509",
   "metadata": {},
   "source": [
    "**what are the top 10 most significantly enriched pathways?**\n",
    "\n",
    "I'm choosing to look at this by pulling out the pathways with the top 10 lowest adjust p-values (but maybe this would be better to do with p-value, q-value, or enrichmentScore?)"
   ]
  },
  {
   "cell_type": "code",
   "execution_count": null,
   "id": "abfc624f-9d8a-4a8a-95de-17644b915526",
   "metadata": {},
   "outputs": [],
   "source": [
    "options(repr.plot.width=15, repr.plot.height=10)\n",
    "\n",
    "HH_top10 <- head(HH_df[order(HH_df$p.adjust), ], 10)\n",
    "HH_top10\n",
    "\n",
    "ggplot(HH_top10, aes(x = reorder(Description, -p.adjust), y = p.adjust, fill = GeneralPathway)) +\n",
    "  geom_bar(stat = \"identity\") +\n",
    "  coord_flip() +\n",
    "geom_vline(xintercept = 0.05,\n",
    "           col = \"gray\",\n",
    "           linetype = 'dashed', \n",
    "          linewidth = 10) + # significance threshold line\n",
    "scale_fill_brewer(palette = 'Blues', direction=-1) +\n",
    "  labs(y = \"Adjusted P-Value\",\n",
    "       x = \"Enriched Pathway\") +\n",
    "  theme_light(base_size=20)"
   ]
  },
  {
   "cell_type": "code",
   "execution_count": null,
   "id": "719ea964-66e4-4689-ad04-bb2990f65c2f",
   "metadata": {},
   "outputs": [],
   "source": [
    "HH_top10$Description"
   ]
  },
  {
   "cell_type": "code",
   "execution_count": null,
   "id": "81b3d82e-3dd7-4ec4-b182-65c8f137e547",
   "metadata": {},
   "outputs": [],
   "source": [
    "options(repr.plot.width=10, repr.plot.height=10)\n",
    "\n",
    "HH_kk2@result$Description <- gsub(HH_kk2@result$Description, pattern=\"\\\\s-\\\\sCra.+$\", replacement=\"\")\n",
    "\n",
    "# Create the dot plot\n",
    "dotplot(HH_kk2, \n",
    "        showCategory = 15,  # Number of categories to show\n",
    "        font.size = 9,      # Font size for labels\n",
    "        label_format = 100,  # Format for labels (length limit)\n",
    "        title = \"Enriched Pathways\") +\n",
    "  theme_minimal(base_size = 15)  # Optional: change theme for better appearance\n"
   ]
  },
  {
   "cell_type": "markdown",
   "id": "8ca6d632-9f62-4838-afeb-9004ca787110",
   "metadata": {},
   "source": [
    "## significantly differentially methylated genes"
   ]
  },
  {
   "cell_type": "code",
   "execution_count": 30,
   "id": "c830e101-8861-405b-acea-df3e640b2cc3",
   "metadata": {},
   "outputs": [],
   "source": [
    "sig_CC <- read.csv('/project/pi_sarah_gignouxwolfsohn_uml_edu/julia/CE_MethylRAD_analysis_2018/analysis/deseq_res_files/geneFeatures_res/sig_DMGs/sig_CC_HC_genes.csv')\n",
    "sig_HH <- read.csv('/project/pi_sarah_gignouxwolfsohn_uml_edu/julia/CE_MethylRAD_analysis_2018/analysis/deseq_res_files/geneFeatures_res/sig_DMGs/sig_HH_HC_genes.csv')\n",
    "sig_CH <- read.csv('/project/pi_sarah_gignouxwolfsohn_uml_edu/julia/CE_MethylRAD_analysis_2018/analysis/deseq_res_files/geneFeatures_res/sig_DMGs/sig_CH_HC_genes.csv')"
   ]
  },
  {
   "cell_type": "markdown",
   "id": "e3fb99b7-bdb8-421b-8141-220e22dfb9b5",
   "metadata": {},
   "source": [
    "### control control vs. hypoxic control *sig. DMG*"
   ]
  },
  {
   "cell_type": "code",
   "execution_count": 31,
   "id": "34bc2901-1f73-421a-94a9-0dd267557620",
   "metadata": {},
   "outputs": [
    {
     "data": {
      "text/html": [
       "<table class=\"dataframe\">\n",
       "<caption>A data.frame: 6 × 9</caption>\n",
       "<thead>\n",
       "\t<tr><th></th><th scope=col>X</th><th scope=col>symbol</th><th scope=col>baseMean</th><th scope=col>log2FC</th><th scope=col>lfcSE</th><th scope=col>stat</th><th scope=col>pvalue</th><th scope=col>padj</th><th scope=col>name</th></tr>\n",
       "\t<tr><th></th><th scope=col>&lt;int&gt;</th><th scope=col>&lt;chr&gt;</th><th scope=col>&lt;dbl&gt;</th><th scope=col>&lt;dbl&gt;</th><th scope=col>&lt;dbl&gt;</th><th scope=col>&lt;dbl&gt;</th><th scope=col>&lt;dbl&gt;</th><th scope=col>&lt;dbl&gt;</th><th scope=col>&lt;chr&gt;</th></tr>\n",
       "</thead>\n",
       "<tbody>\n",
       "\t<tr><th scope=row>1</th><td>1</td><td>LOC111103344</td><td>497.52024</td><td>-1.193080</td><td>0.2105031</td><td>-4.480123</td><td>7.460015e-06</td><td>0.01869231</td><td>uncharacterized LOC111103344, transcript variant X7                                       </td></tr>\n",
       "\t<tr><th scope=row>2</th><td>2</td><td>LOC111115023</td><td> 20.27520</td><td>-1.349383</td><td>0.2740700</td><td>-4.011321</td><td>6.038007e-05</td><td>0.04126154</td><td>uncharacterized LOC111115023                                                              </td></tr>\n",
       "\t<tr><th scope=row>3</th><td>3</td><td>LOC111117745</td><td>123.41704</td><td>-1.135814</td><td>0.2070067</td><td>-4.279157</td><td>1.876021e-05</td><td>0.02350342</td><td>uncharacterized LOC111117745, transcript variant X5                                       </td></tr>\n",
       "\t<tr><th scope=row>4</th><td>4</td><td>LOC111117760</td><td>138.87250</td><td>-1.494878</td><td>0.2901102</td><td>-4.291052</td><td>1.778290e-05</td><td>0.02350342</td><td>disintegrin and metalloproteinase domain-containing protein 10-like, transcript variant X3</td></tr>\n",
       "\t<tr><th scope=row>5</th><td>5</td><td>LOC111118022</td><td> 19.27594</td><td>-1.664142</td><td>0.3486511</td><td>-4.056038</td><td>4.991215e-05</td><td>0.03751897</td><td>exocyst complex component 7-like, transcript variant X1                                   </td></tr>\n",
       "\t<tr><th scope=row>6</th><td>6</td><td>LOC111119327</td><td> 13.31739</td><td>-1.507178</td><td>0.3154716</td><td>-3.985075</td><td>6.745881e-05</td><td>0.04225732</td><td>calcyphosin-like protein, transcript variant X3                                           </td></tr>\n",
       "</tbody>\n",
       "</table>\n"
      ],
      "text/latex": [
       "A data.frame: 6 × 9\n",
       "\\begin{tabular}{r|lllllllll}\n",
       "  & X & symbol & baseMean & log2FC & lfcSE & stat & pvalue & padj & name\\\\\n",
       "  & <int> & <chr> & <dbl> & <dbl> & <dbl> & <dbl> & <dbl> & <dbl> & <chr>\\\\\n",
       "\\hline\n",
       "\t1 & 1 & LOC111103344 & 497.52024 & -1.193080 & 0.2105031 & -4.480123 & 7.460015e-06 & 0.01869231 & uncharacterized LOC111103344, transcript variant X7                                       \\\\\n",
       "\t2 & 2 & LOC111115023 &  20.27520 & -1.349383 & 0.2740700 & -4.011321 & 6.038007e-05 & 0.04126154 & uncharacterized LOC111115023                                                              \\\\\n",
       "\t3 & 3 & LOC111117745 & 123.41704 & -1.135814 & 0.2070067 & -4.279157 & 1.876021e-05 & 0.02350342 & uncharacterized LOC111117745, transcript variant X5                                       \\\\\n",
       "\t4 & 4 & LOC111117760 & 138.87250 & -1.494878 & 0.2901102 & -4.291052 & 1.778290e-05 & 0.02350342 & disintegrin and metalloproteinase domain-containing protein 10-like, transcript variant X3\\\\\n",
       "\t5 & 5 & LOC111118022 &  19.27594 & -1.664142 & 0.3486511 & -4.056038 & 4.991215e-05 & 0.03751897 & exocyst complex component 7-like, transcript variant X1                                   \\\\\n",
       "\t6 & 6 & LOC111119327 &  13.31739 & -1.507178 & 0.3154716 & -3.985075 & 6.745881e-05 & 0.04225732 & calcyphosin-like protein, transcript variant X3                                           \\\\\n",
       "\\end{tabular}\n"
      ],
      "text/markdown": [
       "\n",
       "A data.frame: 6 × 9\n",
       "\n",
       "| <!--/--> | X &lt;int&gt; | symbol &lt;chr&gt; | baseMean &lt;dbl&gt; | log2FC &lt;dbl&gt; | lfcSE &lt;dbl&gt; | stat &lt;dbl&gt; | pvalue &lt;dbl&gt; | padj &lt;dbl&gt; | name &lt;chr&gt; |\n",
       "|---|---|---|---|---|---|---|---|---|---|\n",
       "| 1 | 1 | LOC111103344 | 497.52024 | -1.193080 | 0.2105031 | -4.480123 | 7.460015e-06 | 0.01869231 | uncharacterized LOC111103344, transcript variant X7                                        |\n",
       "| 2 | 2 | LOC111115023 |  20.27520 | -1.349383 | 0.2740700 | -4.011321 | 6.038007e-05 | 0.04126154 | uncharacterized LOC111115023                                                               |\n",
       "| 3 | 3 | LOC111117745 | 123.41704 | -1.135814 | 0.2070067 | -4.279157 | 1.876021e-05 | 0.02350342 | uncharacterized LOC111117745, transcript variant X5                                        |\n",
       "| 4 | 4 | LOC111117760 | 138.87250 | -1.494878 | 0.2901102 | -4.291052 | 1.778290e-05 | 0.02350342 | disintegrin and metalloproteinase domain-containing protein 10-like, transcript variant X3 |\n",
       "| 5 | 5 | LOC111118022 |  19.27594 | -1.664142 | 0.3486511 | -4.056038 | 4.991215e-05 | 0.03751897 | exocyst complex component 7-like, transcript variant X1                                    |\n",
       "| 6 | 6 | LOC111119327 |  13.31739 | -1.507178 | 0.3154716 | -3.985075 | 6.745881e-05 | 0.04225732 | calcyphosin-like protein, transcript variant X3                                            |\n",
       "\n"
      ],
      "text/plain": [
       "  X symbol       baseMean  log2FC    lfcSE     stat      pvalue      \n",
       "1 1 LOC111103344 497.52024 -1.193080 0.2105031 -4.480123 7.460015e-06\n",
       "2 2 LOC111115023  20.27520 -1.349383 0.2740700 -4.011321 6.038007e-05\n",
       "3 3 LOC111117745 123.41704 -1.135814 0.2070067 -4.279157 1.876021e-05\n",
       "4 4 LOC111117760 138.87250 -1.494878 0.2901102 -4.291052 1.778290e-05\n",
       "5 5 LOC111118022  19.27594 -1.664142 0.3486511 -4.056038 4.991215e-05\n",
       "6 6 LOC111119327  13.31739 -1.507178 0.3154716 -3.985075 6.745881e-05\n",
       "  padj      \n",
       "1 0.01869231\n",
       "2 0.04126154\n",
       "3 0.02350342\n",
       "4 0.02350342\n",
       "5 0.03751897\n",
       "6 0.04225732\n",
       "  name                                                                                      \n",
       "1 uncharacterized LOC111103344, transcript variant X7                                       \n",
       "2 uncharacterized LOC111115023                                                              \n",
       "3 uncharacterized LOC111117745, transcript variant X5                                       \n",
       "4 disintegrin and metalloproteinase domain-containing protein 10-like, transcript variant X3\n",
       "5 exocyst complex component 7-like, transcript variant X1                                   \n",
       "6 calcyphosin-like protein, transcript variant X3                                           "
      ]
     },
     "metadata": {},
     "output_type": "display_data"
    }
   ],
   "source": [
    "head(sig_CC)"
   ]
  },
  {
   "cell_type": "code",
   "execution_count": 32,
   "id": "057f716b-621a-4706-a4f0-567b76755189",
   "metadata": {},
   "outputs": [
    {
     "data": {
      "text/html": [
       "<style>\n",
       ".dl-inline {width: auto; margin:0; padding: 0}\n",
       ".dl-inline>dt, .dl-inline>dd {float: none; width: auto; display: inline-block}\n",
       ".dl-inline>dt::after {content: \":\\0020\"; padding-right: .5ex}\n",
       ".dl-inline>dt:not(:first-of-type) {padding-left: .5ex}\n",
       "</style><dl class=dl-inline><dt>111129146</dt><dd>1.34271879385245</dd><dt>111133874</dt><dd>-0.982015603974891</dd><dt>111117745</dt><dd>-1.13581422799434</dd><dt>111103344</dt><dd>-1.19307982081316</dd><dt>111123492</dt><dd>-1.2645907821348</dd><dt>111115023</dt><dd>-1.34938269411454</dd></dl>\n"
      ],
      "text/latex": [
       "\\begin{description*}\n",
       "\\item[111129146] 1.34271879385245\n",
       "\\item[111133874] -0.982015603974891\n",
       "\\item[111117745] -1.13581422799434\n",
       "\\item[111103344] -1.19307982081316\n",
       "\\item[111123492] -1.2645907821348\n",
       "\\item[111115023] -1.34938269411454\n",
       "\\end{description*}\n"
      ],
      "text/markdown": [
       "111129146\n",
       ":   1.34271879385245111133874\n",
       ":   -0.982015603974891111117745\n",
       ":   -1.13581422799434111103344\n",
       ":   -1.19307982081316111123492\n",
       ":   -1.2645907821348111115023\n",
       ":   -1.34938269411454\n",
       "\n"
      ],
      "text/plain": [
       " 111129146  111133874  111117745  111103344  111123492  111115023 \n",
       " 1.3427188 -0.9820156 -1.1358142 -1.1930798 -1.2645908 -1.3493827 "
      ]
     },
     "metadata": {},
     "output_type": "display_data"
    },
    {
     "data": {
      "text/html": [
       "'numeric'"
      ],
      "text/latex": [
       "'numeric'"
      ],
      "text/markdown": [
       "'numeric'"
      ],
      "text/plain": [
       "[1] \"numeric\""
      ]
     },
     "metadata": {},
     "output_type": "display_data"
    }
   ],
   "source": [
    "sig_CC$symbol <- substr(sig_CC$symbol, start = 4, stop = nchar(sig_CC$symbol))\n",
    "\n",
    "# creating numeric vector for kegg object\n",
    "CCgene_list <- sig_CC$log2FC\n",
    "names(CCgene_list) <- sig_CC$symbol\n",
    "\n",
    "# omitting anything with NA in a cell\n",
    "CCgene_list <- na.omit(CCgene_list)\n",
    "\n",
    "# sort list in descending order\n",
    "CCgene_list = sort(CCgene_list, decreasing = TRUE)\n",
    "\n",
    "# checking that things look okay\n",
    "head(CCgene_list)\n",
    "class(CCgene_list)"
   ]
  },
  {
   "cell_type": "code",
   "execution_count": 38,
   "id": "f11a5f34-997a-4e93-afa3-356264f9f803",
   "metadata": {},
   "outputs": [
    {
     "ename": "ERROR",
     "evalue": "Error in gsea(geneList = CCgene_list, organism = kegg_organism, pvalueCutoff = 1, : could not find function \"gsea\"\n",
     "output_type": "error",
     "traceback": [
      "Error in gsea(geneList = CCgene_list, organism = kegg_organism, pvalueCutoff = 1, : could not find function \"gsea\"\nTraceback:\n"
     ]
    }
   ],
   "source": [
    "# Significant genes\n",
    "kegg_organism = 'cvn'\n",
    "cc_gsea <- gsea(geneList = CCgene_list,\n",
    "               organism = kegg_organism,\n",
    "               #minGSSize = 1,\n",
    "               #maxGSSize = 800,\n",
    "               pvalueCutoff = 1,\n",
    "               pAdjustMethod = 'BH' #Benjamini-Hockberg FDR\n",
    "                )"
   ]
  }
 ],
 "metadata": {
  "kernelspec": {
   "display_name": "R [conda env:.conda-r-env]",
   "language": "R",
   "name": "conda-env-.conda-r-env-r"
  },
  "language_info": {
   "codemirror_mode": "r",
   "file_extension": ".r",
   "mimetype": "text/x-r-source",
   "name": "R",
   "pygments_lexer": "r",
   "version": "4.3.2"
  }
 },
 "nbformat": 4,
 "nbformat_minor": 5
}
