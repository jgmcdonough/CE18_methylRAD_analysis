{
 "cells": [
  {
   "cell_type": "markdown",
   "id": "e30afb81-3071-4c2a-bb25-f1f02cca8a2d",
   "metadata": {},
   "source": [
    "# GO_MWU\n",
    "\n",
    "started 01/06/2025 - doing this for each of the three pairwise comparisons with HC that resulted in differentially signficiantly methylated genes\n",
    "\n",
    "following protocol outlined here: [Rank-based Gene Ontology Analysis with Adaptive Clustering (Matz, 2015)](https://github.com/z0on/GO_MWU)\n",
    "\n",
    "\"Basically, the method tests whether the genes belonging to a certain GO category are significantly bunched up near the top or the bottom of the global ranked list of genes, instead of being spread evenly all over it. The test used is called the Mann-Whitney U (MWU) test.\" [source](https://github.com/z0on/GO_MWU)\n",
    "\n",
    "**Needed in the same directory:**\n",
    "- scripts: GO_MWU.R, gomwu_a.pl, gomwu_b.pl, gomwu.functions.R\n",
    "- GO hierarchy file ([go.obo](http://www.geneontology.org/GO.downloads.ontology.shtml))\n",
    "- table of GO annotations for your sequences: two-column (gene id - GO terms), tab-delimited, one line per gene, multiple GO terms separated by semicolon. If you have multiple lines per gene, use nrify_GOtable.pl to merge them. Do NOT include genes without GO annotations.\n",
    "- table of measure of interest for your sequences: two columns of comma-separated values: gene id, continuous measure of change such as log(fold-change). To perform standard GO enrichment analysis based on Fisher's exact test, use binary measure (1 or 0, i.e., either sgnificant or not). To analyze modules derived from WGCNA, specify 0 for genes not included in the module and the kME value (number between 0 and 1, module membership score) for genes included in the module."
   ]
  },
  {
   "cell_type": "code",
   "execution_count": 2,
   "id": "e09bffcb-3088-43d7-9d4f-21237daad508",
   "metadata": {},
   "outputs": [],
   "source": [
    "library(tidyverse)\n",
    "library(ape)"
   ]
  },
  {
   "cell_type": "code",
   "execution_count": 3,
   "id": "b38a6a63-29f9-4a4e-8247-1c9ad716ac61",
   "metadata": {},
   "outputs": [
    {
     "data": {
      "text/html": [
       "'/project/pi_sarah_gignouxwolfsohn_uml_edu/julia/CE_MethylRAD_analysis_2018/analysis/DMGs_analysis/go_mwu'"
      ],
      "text/latex": [
       "'/project/pi\\_sarah\\_gignouxwolfsohn\\_uml\\_edu/julia/CE\\_MethylRAD\\_analysis\\_2018/analysis/DMGs\\_analysis/go\\_mwu'"
      ],
      "text/markdown": [
       "'/project/pi_sarah_gignouxwolfsohn_uml_edu/julia/CE_MethylRAD_analysis_2018/analysis/DMGs_analysis/go_mwu'"
      ],
      "text/plain": [
       "[1] \"/project/pi_sarah_gignouxwolfsohn_uml_edu/julia/CE_MethylRAD_analysis_2018/analysis/DMGs_analysis/go_mwu\""
      ]
     },
     "metadata": {},
     "output_type": "display_data"
    }
   ],
   "source": [
    "setwd('/project/pi_sarah_gignouxwolfsohn_uml_edu/julia/CE_MethylRAD_analysis_2018/analysis/DMGs_analysis/go_mwu')\n",
    "getwd()"
   ]
  },
  {
   "cell_type": "markdown",
   "id": "89e6f98d-fff8-4180-8739-3ec061202d90",
   "metadata": {},
   "source": [
    "## CH vs. HC\n",
    "control hypoxic vs. hypoxic control (timing of hypoxic stress)\n",
    "\n",
    "table of measure of interest for sequences: "
   ]
  },
  {
   "cell_type": "code",
   "execution_count": 66,
   "id": "499bc7ef-431f-4b6d-a35c-485ef68d59ca",
   "metadata": {},
   "outputs": [
    {
     "data": {
      "text/html": [
       "<table class=\"dataframe\">\n",
       "<caption>A data.frame: 6 × 2</caption>\n",
       "<thead>\n",
       "\t<tr><th></th><th scope=col>Symbol</th><th scope=col>log2fc</th></tr>\n",
       "\t<tr><th></th><th scope=col>&lt;chr&gt;</th><th scope=col>&lt;dbl&gt;</th></tr>\n",
       "</thead>\n",
       "<tbody>\n",
       "\t<tr><th scope=row>1</th><td>LOC111116054</td><td> 0.000000000</td></tr>\n",
       "\t<tr><th scope=row>2</th><td>LOC111126949</td><td>-0.017689935</td></tr>\n",
       "\t<tr><th scope=row>3</th><td>LOC111110729</td><td>-0.063561032</td></tr>\n",
       "\t<tr><th scope=row>4</th><td>LOC111112434</td><td> 0.118262122</td></tr>\n",
       "\t<tr><th scope=row>5</th><td>LOC111120752</td><td> 0.203890410</td></tr>\n",
       "\t<tr><th scope=row>7</th><td>LOC111128953</td><td>-0.002804562</td></tr>\n",
       "</tbody>\n",
       "</table>\n"
      ],
      "text/latex": [
       "A data.frame: 6 × 2\n",
       "\\begin{tabular}{r|ll}\n",
       "  & Symbol & log2fc\\\\\n",
       "  & <chr> & <dbl>\\\\\n",
       "\\hline\n",
       "\t1 & LOC111116054 &  0.000000000\\\\\n",
       "\t2 & LOC111126949 & -0.017689935\\\\\n",
       "\t3 & LOC111110729 & -0.063561032\\\\\n",
       "\t4 & LOC111112434 &  0.118262122\\\\\n",
       "\t5 & LOC111120752 &  0.203890410\\\\\n",
       "\t7 & LOC111128953 & -0.002804562\\\\\n",
       "\\end{tabular}\n"
      ],
      "text/markdown": [
       "\n",
       "A data.frame: 6 × 2\n",
       "\n",
       "| <!--/--> | Symbol &lt;chr&gt; | log2fc &lt;dbl&gt; |\n",
       "|---|---|---|\n",
       "| 1 | LOC111116054 |  0.000000000 |\n",
       "| 2 | LOC111126949 | -0.017689935 |\n",
       "| 3 | LOC111110729 | -0.063561032 |\n",
       "| 4 | LOC111112434 |  0.118262122 |\n",
       "| 5 | LOC111120752 |  0.203890410 |\n",
       "| 7 | LOC111128953 | -0.002804562 |\n",
       "\n"
      ],
      "text/plain": [
       "  Symbol       log2fc      \n",
       "1 LOC111116054  0.000000000\n",
       "2 LOC111126949 -0.017689935\n",
       "3 LOC111110729 -0.063561032\n",
       "4 LOC111112434  0.118262122\n",
       "5 LOC111120752  0.203890410\n",
       "7 LOC111128953 -0.002804562"
      ]
     },
     "metadata": {},
     "output_type": "display_data"
    },
    {
     "data": {
      "text/html": [
       "<table class=\"dataframe\">\n",
       "<caption>A data.frame: 6 × 2</caption>\n",
       "<thead>\n",
       "\t<tr><th></th><th scope=col>Symbol</th><th scope=col>signif</th></tr>\n",
       "\t<tr><th></th><th scope=col>&lt;chr&gt;</th><th scope=col>&lt;dbl&gt;</th></tr>\n",
       "</thead>\n",
       "<tbody>\n",
       "\t<tr><th scope=row>1</th><td>LOC111116054</td><td>0</td></tr>\n",
       "\t<tr><th scope=row>2</th><td>LOC111126949</td><td>0</td></tr>\n",
       "\t<tr><th scope=row>3</th><td>LOC111110729</td><td>0</td></tr>\n",
       "\t<tr><th scope=row>4</th><td>LOC111112434</td><td>0</td></tr>\n",
       "\t<tr><th scope=row>5</th><td>LOC111120752</td><td>0</td></tr>\n",
       "\t<tr><th scope=row>6</th><td>LOC111128944</td><td>0</td></tr>\n",
       "</tbody>\n",
       "</table>\n"
      ],
      "text/latex": [
       "A data.frame: 6 × 2\n",
       "\\begin{tabular}{r|ll}\n",
       "  & Symbol & signif\\\\\n",
       "  & <chr> & <dbl>\\\\\n",
       "\\hline\n",
       "\t1 & LOC111116054 & 0\\\\\n",
       "\t2 & LOC111126949 & 0\\\\\n",
       "\t3 & LOC111110729 & 0\\\\\n",
       "\t4 & LOC111112434 & 0\\\\\n",
       "\t5 & LOC111120752 & 0\\\\\n",
       "\t6 & LOC111128944 & 0\\\\\n",
       "\\end{tabular}\n"
      ],
      "text/markdown": [
       "\n",
       "A data.frame: 6 × 2\n",
       "\n",
       "| <!--/--> | Symbol &lt;chr&gt; | signif &lt;dbl&gt; |\n",
       "|---|---|---|\n",
       "| 1 | LOC111116054 | 0 |\n",
       "| 2 | LOC111126949 | 0 |\n",
       "| 3 | LOC111110729 | 0 |\n",
       "| 4 | LOC111112434 | 0 |\n",
       "| 5 | LOC111120752 | 0 |\n",
       "| 6 | LOC111128944 | 0 |\n",
       "\n"
      ],
      "text/plain": [
       "  Symbol       signif\n",
       "1 LOC111116054 0     \n",
       "2 LOC111126949 0     \n",
       "3 LOC111110729 0     \n",
       "4 LOC111112434 0     \n",
       "5 LOC111120752 0     \n",
       "6 LOC111128944 0     "
      ]
     },
     "metadata": {},
     "output_type": "display_data"
    }
   ],
   "source": [
    "allGenes_CH <- read.csv('/project/pi_sarah_gignouxwolfsohn_uml_edu/julia/CE_MethylRAD_analysis_2018/analysis/deseq_res_files/geneFeatures_res/CH_vs_HC.csv')\n",
    "\n",
    "# select only gene id and continuous measure of change (log fold change)\n",
    "allGenes_CH_lfc <- select(allGenes_CH, X, log2FoldChange)\n",
    "\n",
    "colnames(allGenes_CH_lfc) <- c('Symbol', 'log2fc')\n",
    "allGenes_CH_lfc <- allGenes_CH_lfc[!is.na(allGenes_CH_lfc$log2fc),]\n",
    "\n",
    "head(allGenes_CH_lfc)\n",
    "\n",
    "# binary measure for significance\n",
    "allGenes_CH$significant <- ifelse(is.na(allGenes_CH$padj) | allGenes_CH$padj > 0.05, 0, 1)\n",
    "\n",
    "allGenes_CH_sig <- select(allGenes_CH, X, significant)\n",
    "colnames(allGenes_CH_sig) <- c('Symbol', 'signif')\n",
    "\n",
    "head(allGenes_CH_sig)"
   ]
  },
  {
   "cell_type": "markdown",
   "id": "a4b3b330-5c90-414c-bd43-ca421b2c8caf",
   "metadata": {},
   "source": [
    "I did both the continuous measure (log2FoldChange) and binary (0 for non-significant, 1 for significant)"
   ]
  },
  {
   "cell_type": "code",
   "execution_count": 67,
   "id": "1920ab36-facd-4e50-b22b-e75d781c6191",
   "metadata": {},
   "outputs": [],
   "source": [
    "write.csv(allGenes_CH_lfc, '/project/pi_sarah_gignouxwolfsohn_uml_edu/julia/CE_MethylRAD_analysis_2018/analysis/DMGs_analysis/go_mwu/allGenes_CH_lfc.csv', row.names=FALSE, quote = FALSE)"
   ]
  },
  {
   "cell_type": "code",
   "execution_count": 68,
   "id": "3c2c7229-1324-47a1-a94b-e1c42aefc01f",
   "metadata": {},
   "outputs": [],
   "source": [
    "write.csv(allGenes_CH_sig, '/project/pi_sarah_gignouxwolfsohn_uml_edu/julia/CE_MethylRAD_analysis_2018/analysis/DMGs_analysis/go_mwu/allGenes_CH_sig.csv', row.names=FALSE, quote=FALSE)"
   ]
  },
  {
   "cell_type": "markdown",
   "id": "825efd71-bd63-4fa0-ad19-155da3e990b7",
   "metadata": {},
   "source": [
    "table of GO annotations for your sequences (gene id and GO terms):"
   ]
  },
  {
   "cell_type": "code",
   "execution_count": 69,
   "id": "30778b10-032a-47b2-bcf0-ad1e9fd31f9f",
   "metadata": {},
   "outputs": [
    {
     "data": {
      "text/html": [
       "<table class=\"dataframe\">\n",
       "<caption>A data.frame: 6 × 2</caption>\n",
       "<thead>\n",
       "\t<tr><th></th><th scope=col>Symbol</th><th scope=col>GO_ID</th></tr>\n",
       "\t<tr><th></th><th scope=col>&lt;chr&gt;</th><th scope=col>&lt;chr&gt;</th></tr>\n",
       "</thead>\n",
       "<tbody>\n",
       "\t<tr><th scope=row>1</th><td>LOC111099029</td><td>GO:0005261</td></tr>\n",
       "\t<tr><th scope=row>2</th><td>LOC111099029</td><td>GO:0098655</td></tr>\n",
       "\t<tr><th scope=row>3</th><td>LOC111099032</td><td>GO:0004930</td></tr>\n",
       "\t<tr><th scope=row>4</th><td>LOC111099032</td><td>GO:0004930</td></tr>\n",
       "\t<tr><th scope=row>5</th><td>LOC111099032</td><td>GO:0005886</td></tr>\n",
       "\t<tr><th scope=row>6</th><td>LOC111099032</td><td>GO:0007186</td></tr>\n",
       "</tbody>\n",
       "</table>\n"
      ],
      "text/latex": [
       "A data.frame: 6 × 2\n",
       "\\begin{tabular}{r|ll}\n",
       "  & Symbol & GO\\_ID\\\\\n",
       "  & <chr> & <chr>\\\\\n",
       "\\hline\n",
       "\t1 & LOC111099029 & GO:0005261\\\\\n",
       "\t2 & LOC111099029 & GO:0098655\\\\\n",
       "\t3 & LOC111099032 & GO:0004930\\\\\n",
       "\t4 & LOC111099032 & GO:0004930\\\\\n",
       "\t5 & LOC111099032 & GO:0005886\\\\\n",
       "\t6 & LOC111099032 & GO:0007186\\\\\n",
       "\\end{tabular}\n"
      ],
      "text/markdown": [
       "\n",
       "A data.frame: 6 × 2\n",
       "\n",
       "| <!--/--> | Symbol &lt;chr&gt; | GO_ID &lt;chr&gt; |\n",
       "|---|---|---|\n",
       "| 1 | LOC111099029 | GO:0005261 |\n",
       "| 2 | LOC111099029 | GO:0098655 |\n",
       "| 3 | LOC111099032 | GO:0004930 |\n",
       "| 4 | LOC111099032 | GO:0004930 |\n",
       "| 5 | LOC111099032 | GO:0005886 |\n",
       "| 6 | LOC111099032 | GO:0007186 |\n",
       "\n"
      ],
      "text/plain": [
       "  Symbol       GO_ID     \n",
       "1 LOC111099029 GO:0005261\n",
       "2 LOC111099029 GO:0098655\n",
       "3 LOC111099032 GO:0004930\n",
       "4 LOC111099032 GO:0004930\n",
       "5 LOC111099032 GO:0005886\n",
       "6 LOC111099032 GO:0007186"
      ]
     },
     "metadata": {},
     "output_type": "display_data"
    }
   ],
   "source": [
    "# Read the GAF file into R\n",
    "GOobo <- read.table('/project/pi_sarah_gignouxwolfsohn_uml_edu/Reference_genomes/Cvirginica_genome/GCF_002022765.2_C_virginica-3.0_gene_ontology.gaf', \n",
    "                          sep = \"\\t\", \n",
    "                          header = FALSE, \n",
    "                          comment.char = \"!\", \n",
    "                          stringsAsFactors = FALSE)\n",
    "\n",
    "# assign column names\n",
    "colnames(GOobo) <- c('DB', 'GeneID', 'Symbol', 'Qualifier', 'GO_ID', 'Reference', 'Evidence_Code', 'With,From', 'Aspect', 'Gene_Name', 'Gene_Synonym', 'Type', 'Taxon', 'Date', 'Assigned_By')\n",
    "\n",
    "# only need gene id and GO terms\n",
    "gene_GO <- select(GOobo, Symbol, GO_ID)\n",
    "\n",
    "head(gene_GO)"
   ]
  },
  {
   "cell_type": "code",
   "execution_count": 70,
   "id": "0ec94d0e-a8be-429e-b06e-fa903c5ca2e1",
   "metadata": {},
   "outputs": [
    {
     "data": {
      "text/html": [
       "<table class=\"dataframe\">\n",
       "<caption>A data.frame: 6 × 2</caption>\n",
       "<thead>\n",
       "\t<tr><th></th><th scope=col>Symbol</th><th scope=col>GO_ID</th></tr>\n",
       "\t<tr><th></th><th scope=col>&lt;chr&gt;</th><th scope=col>&lt;chr&gt;</th></tr>\n",
       "</thead>\n",
       "<tbody>\n",
       "\t<tr><th scope=row>1</th><td>LOC111099029</td><td>GO:0005261; GO:0098655            </td></tr>\n",
       "\t<tr><th scope=row>2</th><td>LOC111099032</td><td>GO:0004930; GO:0005886; GO:0007186</td></tr>\n",
       "\t<tr><th scope=row>3</th><td>LOC111099033</td><td>GO:0016020; GO:0022857; GO:0055085</td></tr>\n",
       "\t<tr><th scope=row>4</th><td>LOC111099034</td><td>GO:0005515                        </td></tr>\n",
       "\t<tr><th scope=row>5</th><td>LOC111099036</td><td>GO:0008028; GO:0015718; GO:0055085</td></tr>\n",
       "\t<tr><th scope=row>6</th><td>LOC111099039</td><td>GO:0004930; GO:0005886; GO:0007189</td></tr>\n",
       "</tbody>\n",
       "</table>\n"
      ],
      "text/latex": [
       "A data.frame: 6 × 2\n",
       "\\begin{tabular}{r|ll}\n",
       "  & Symbol & GO\\_ID\\\\\n",
       "  & <chr> & <chr>\\\\\n",
       "\\hline\n",
       "\t1 & LOC111099029 & GO:0005261; GO:0098655            \\\\\n",
       "\t2 & LOC111099032 & GO:0004930; GO:0005886; GO:0007186\\\\\n",
       "\t3 & LOC111099033 & GO:0016020; GO:0022857; GO:0055085\\\\\n",
       "\t4 & LOC111099034 & GO:0005515                        \\\\\n",
       "\t5 & LOC111099036 & GO:0008028; GO:0015718; GO:0055085\\\\\n",
       "\t6 & LOC111099039 & GO:0004930; GO:0005886; GO:0007189\\\\\n",
       "\\end{tabular}\n"
      ],
      "text/markdown": [
       "\n",
       "A data.frame: 6 × 2\n",
       "\n",
       "| <!--/--> | Symbol &lt;chr&gt; | GO_ID &lt;chr&gt; |\n",
       "|---|---|---|\n",
       "| 1 | LOC111099029 | GO:0005261; GO:0098655             |\n",
       "| 2 | LOC111099032 | GO:0004930; GO:0005886; GO:0007186 |\n",
       "| 3 | LOC111099033 | GO:0016020; GO:0022857; GO:0055085 |\n",
       "| 4 | LOC111099034 | GO:0005515                         |\n",
       "| 5 | LOC111099036 | GO:0008028; GO:0015718; GO:0055085 |\n",
       "| 6 | LOC111099039 | GO:0004930; GO:0005886; GO:0007189 |\n",
       "\n"
      ],
      "text/plain": [
       "  Symbol       GO_ID                             \n",
       "1 LOC111099029 GO:0005261; GO:0098655            \n",
       "2 LOC111099032 GO:0004930; GO:0005886; GO:0007186\n",
       "3 LOC111099033 GO:0016020; GO:0022857; GO:0055085\n",
       "4 LOC111099034 GO:0005515                        \n",
       "5 LOC111099036 GO:0008028; GO:0015718; GO:0055085\n",
       "6 LOC111099039 GO:0004930; GO:0005886; GO:0007189"
      ]
     },
     "metadata": {},
     "output_type": "display_data"
    }
   ],
   "source": [
    "# Aggregate GO IDs for each gene symbol\n",
    "geneGO <- aggregate(GO_ID ~ Symbol, data = gene_GO, function(x) paste(unique(x), collapse = \"; \"))\n",
    "\n",
    "# Print the aggregated data frame\n",
    "head(geneGO)"
   ]
  },
  {
   "cell_type": "code",
   "execution_count": 71,
   "id": "af4a9925-b164-4918-ac6d-82674c586bf7",
   "metadata": {},
   "outputs": [],
   "source": [
    "write.table(geneGO, '/project/pi_sarah_gignouxwolfsohn_uml_edu/julia/CE_MethylRAD_analysis_2018/analysis/DMGs_analysis/go_mwu/allGenes2GO.tab', sep = '\\t', row.names = FALSE, quote = FALSE)"
   ]
  },
  {
   "cell_type": "markdown",
   "id": "dedb9012-affe-42ea-8fba-461ca85c7638",
   "metadata": {},
   "source": [
    "#### GO_MWU.R\n",
    "\n",
    "**molecular function**\n",
    "\n",
    "continuous measure (log2FoldChange)"
   ]
  },
  {
   "cell_type": "code",
   "execution_count": 72,
   "id": "9d8e5af0-9334-4b73-87f7-01232b9a326f",
   "metadata": {},
   "outputs": [],
   "source": [
    "# Edit these to match your data file names: \n",
    "input=\"allGenes_CH_lfc.csv\" # two columns of comma-separated values: gene id, continuous measure of significance. To perform standard GO enrichment analysis based on Fisher's exact test, use binary measure (0 or 1, i.e., either sgnificant or not).\n",
    "goAnnotations=\"allGenes2GO.tab\" # two-column, tab-delimited, one line per gene, multiple GO terms separated by semicolon. If you have multiple lines per gene, use nrify_GOtable.pl prior to running this script.\n",
    "goDatabase=\"go.obo\" # download from http://www.geneontology.org/GO.downloads.ontology.shtml\n",
    "goDivision=\"MF\" # either MF, or BP, or CC\n",
    "source(\"gomwu.functions.R\")\n"
   ]
  },
  {
   "cell_type": "code",
   "execution_count": 73,
   "id": "09b15ee2-d3fb-4071-a59a-a27c3ae3de8a",
   "metadata": {},
   "outputs": [
    {
     "name": "stdout",
     "output_type": "stream",
     "text": [
      "Continuous measure of interest: will perform MWU test\n"
     ]
    },
    {
     "name": "stderr",
     "output_type": "stream",
     "text": [
      "0 GO terms at 10% FDR\n",
      "\n"
     ]
    }
   ],
   "source": [
    "# Calculating stats. It might take ~3 min for MF and BP. Do not rerun it if you just want to replot the data with different cutoffs, go straight to gomwuPlot. If you change any of the numeric values below, delete the files that were generated in previos runs first.\n",
    "gomwuStats(input, goDatabase, goAnnotations, goDivision,\n",
    "           perlPath=\"perl\", # replace with full path to perl executable if it is not in your system's PATH already\n",
    "           largest=0.1,  # a GO category will not be considered if it contains more than this fraction of the total number of genes\n",
    "           smallest=5,   # a GO category should contain at least this many genes to be considered\n",
    "           clusterCutHeight=0.25) # threshold for merging similar (gene-sharing) terms. See README for details.\n",
    "# There are no GO term at 10% FDR"
   ]
  },
  {
   "cell_type": "code",
   "execution_count": 23,
   "id": "2b694488-8dcf-4a8d-a6cc-2353733fe18b",
   "metadata": {},
   "outputs": [
    {
     "data": {
      "text/html": [
       "<table class=\"dataframe\">\n",
       "<caption>A data.frame: 6 × 7</caption>\n",
       "<thead>\n",
       "\t<tr><th></th><th scope=col>delta.rank</th><th scope=col>pval</th><th scope=col>level</th><th scope=col>nseqs</th><th scope=col>term</th><th scope=col>name</th><th scope=col>p.adj</th></tr>\n",
       "\t<tr><th></th><th scope=col>&lt;int&gt;</th><th scope=col>&lt;dbl&gt;</th><th scope=col>&lt;int&gt;</th><th scope=col>&lt;int&gt;</th><th scope=col>&lt;chr&gt;</th><th scope=col>&lt;chr&gt;</th><th scope=col>&lt;dbl&gt;</th></tr>\n",
       "</thead>\n",
       "<tbody>\n",
       "\t<tr><th scope=row>1</th><td>1665</td><td>0.09931216</td><td>2</td><td> 5</td><td>GO:0000026                                 </td><td>alpha-1,2-mannosyltransferase activity</td><td>0.6784797</td></tr>\n",
       "\t<tr><th scope=row>2</th><td> 171</td><td>0.72876525</td><td>5</td><td>21</td><td>GO:0000030                                 </td><td>mannosyltransferase activity          </td><td>0.9388837</td></tr>\n",
       "\t<tr><th scope=row>3</th><td> 773</td><td>0.02890507</td><td>2</td><td>41</td><td>GO:0000049                                 </td><td>tRNA binding                          </td><td>0.6102001</td></tr>\n",
       "\t<tr><th scope=row>4</th><td>-239</td><td>0.76502275</td><td>4</td><td> 8</td><td>GO:0000062;GO:0120227;GO:1901567;GO:1901681</td><td>acyl-CoA binding                      </td><td>0.9494588</td></tr>\n",
       "\t<tr><th scope=row>5</th><td> 667</td><td>0.37617952</td><td>3</td><td> 9</td><td>GO:0000146                                 </td><td>microfilament motor activity          </td><td>0.7793527</td></tr>\n",
       "\t<tr><th scope=row>6</th><td>-102</td><td>0.79309877</td><td>3</td><td>34</td><td>GO:0000149                                 </td><td>SNARE binding                         </td><td>0.9555081</td></tr>\n",
       "</tbody>\n",
       "</table>\n"
      ],
      "text/latex": [
       "A data.frame: 6 × 7\n",
       "\\begin{tabular}{r|lllllll}\n",
       "  & delta.rank & pval & level & nseqs & term & name & p.adj\\\\\n",
       "  & <int> & <dbl> & <int> & <int> & <chr> & <chr> & <dbl>\\\\\n",
       "\\hline\n",
       "\t1 & 1665 & 0.09931216 & 2 &  5 & GO:0000026                                  & alpha-1,2-mannosyltransferase activity & 0.6784797\\\\\n",
       "\t2 &  171 & 0.72876525 & 5 & 21 & GO:0000030                                  & mannosyltransferase activity           & 0.9388837\\\\\n",
       "\t3 &  773 & 0.02890507 & 2 & 41 & GO:0000049                                  & tRNA binding                           & 0.6102001\\\\\n",
       "\t4 & -239 & 0.76502275 & 4 &  8 & GO:0000062;GO:0120227;GO:1901567;GO:1901681 & acyl-CoA binding                       & 0.9494588\\\\\n",
       "\t5 &  667 & 0.37617952 & 3 &  9 & GO:0000146                                  & microfilament motor activity           & 0.7793527\\\\\n",
       "\t6 & -102 & 0.79309877 & 3 & 34 & GO:0000149                                  & SNARE binding                          & 0.9555081\\\\\n",
       "\\end{tabular}\n"
      ],
      "text/markdown": [
       "\n",
       "A data.frame: 6 × 7\n",
       "\n",
       "| <!--/--> | delta.rank &lt;int&gt; | pval &lt;dbl&gt; | level &lt;int&gt; | nseqs &lt;int&gt; | term &lt;chr&gt; | name &lt;chr&gt; | p.adj &lt;dbl&gt; |\n",
       "|---|---|---|---|---|---|---|---|\n",
       "| 1 | 1665 | 0.09931216 | 2 |  5 | GO:0000026                                  | alpha-1,2-mannosyltransferase activity | 0.6784797 |\n",
       "| 2 |  171 | 0.72876525 | 5 | 21 | GO:0000030                                  | mannosyltransferase activity           | 0.9388837 |\n",
       "| 3 |  773 | 0.02890507 | 2 | 41 | GO:0000049                                  | tRNA binding                           | 0.6102001 |\n",
       "| 4 | -239 | 0.76502275 | 4 |  8 | GO:0000062;GO:0120227;GO:1901567;GO:1901681 | acyl-CoA binding                       | 0.9494588 |\n",
       "| 5 |  667 | 0.37617952 | 3 |  9 | GO:0000146                                  | microfilament motor activity           | 0.7793527 |\n",
       "| 6 | -102 | 0.79309877 | 3 | 34 | GO:0000149                                  | SNARE binding                          | 0.9555081 |\n",
       "\n"
      ],
      "text/plain": [
       "  delta.rank pval       level nseqs term                                       \n",
       "1 1665       0.09931216 2      5    GO:0000026                                 \n",
       "2  171       0.72876525 5     21    GO:0000030                                 \n",
       "3  773       0.02890507 2     41    GO:0000049                                 \n",
       "4 -239       0.76502275 4      8    GO:0000062;GO:0120227;GO:1901567;GO:1901681\n",
       "5  667       0.37617952 3      9    GO:0000146                                 \n",
       "6 -102       0.79309877 3     34    GO:0000149                                 \n",
       "  name                                   p.adj    \n",
       "1 alpha-1,2-mannosyltransferase activity 0.6784797\n",
       "2 mannosyltransferase activity           0.9388837\n",
       "3 tRNA binding                           0.6102001\n",
       "4 acyl-CoA binding                       0.9494588\n",
       "5 microfilament motor activity           0.7793527\n",
       "6 SNARE binding                          0.9555081"
      ]
     },
     "metadata": {},
     "output_type": "display_data"
    }
   ],
   "source": [
    "mwu_MF_ch <- read.csv('/project/pi_sarah_gignouxwolfsohn_uml_edu/julia/CE_MethylRAD_analysis_2018/analysis/DMGs_analysis/go_mwu/MWU_MF_allGenes_CH_lfc.csv', sep= ' ')\n",
    "head(mwu_MF_ch)"
   ]
  },
  {
   "cell_type": "code",
   "execution_count": 24,
   "id": "16b51ea9-e72f-4220-adab-7b55e8acd927",
   "metadata": {},
   "outputs": [
    {
     "data": {
      "text/html": [
       "<table class=\"dataframe\">\n",
       "<caption>A data.frame: 3 × 7</caption>\n",
       "<thead>\n",
       "\t<tr><th scope=col>delta.rank</th><th scope=col>pval</th><th scope=col>level</th><th scope=col>nseqs</th><th scope=col>term</th><th scope=col>name</th><th scope=col>p.adj</th></tr>\n",
       "\t<tr><th scope=col>&lt;int&gt;</th><th scope=col>&lt;dbl&gt;</th><th scope=col>&lt;int&gt;</th><th scope=col>&lt;int&gt;</th><th scope=col>&lt;chr&gt;</th><th scope=col>&lt;chr&gt;</th><th scope=col>&lt;dbl&gt;</th></tr>\n",
       "</thead>\n",
       "<tbody>\n",
       "\t<tr><td>  1</td><td>0.9974835</td><td>1</td><td>111</td><td>GO:0005198</td><td>structural molecule activity    </td><td>0.9974835</td></tr>\n",
       "\t<tr><td>166</td><td>0.1818715</td><td>1</td><td>346</td><td>GO:0098772</td><td>molecular function regulator    </td><td>0.7255980</td></tr>\n",
       "\t<tr><td>178</td><td>0.3064346</td><td>1</td><td>172</td><td>GO:0140110</td><td>transcription regulator activity</td><td>0.7255980</td></tr>\n",
       "</tbody>\n",
       "</table>\n"
      ],
      "text/latex": [
       "A data.frame: 3 × 7\n",
       "\\begin{tabular}{lllllll}\n",
       " delta.rank & pval & level & nseqs & term & name & p.adj\\\\\n",
       " <int> & <dbl> & <int> & <int> & <chr> & <chr> & <dbl>\\\\\n",
       "\\hline\n",
       "\t   1 & 0.9974835 & 1 & 111 & GO:0005198 & structural molecule activity     & 0.9974835\\\\\n",
       "\t 166 & 0.1818715 & 1 & 346 & GO:0098772 & molecular function regulator     & 0.7255980\\\\\n",
       "\t 178 & 0.3064346 & 1 & 172 & GO:0140110 & transcription regulator activity & 0.7255980\\\\\n",
       "\\end{tabular}\n"
      ],
      "text/markdown": [
       "\n",
       "A data.frame: 3 × 7\n",
       "\n",
       "| delta.rank &lt;int&gt; | pval &lt;dbl&gt; | level &lt;int&gt; | nseqs &lt;int&gt; | term &lt;chr&gt; | name &lt;chr&gt; | p.adj &lt;dbl&gt; |\n",
       "|---|---|---|---|---|---|---|\n",
       "|   1 | 0.9974835 | 1 | 111 | GO:0005198 | structural molecule activity     | 0.9974835 |\n",
       "| 166 | 0.1818715 | 1 | 346 | GO:0098772 | molecular function regulator     | 0.7255980 |\n",
       "| 178 | 0.3064346 | 1 | 172 | GO:0140110 | transcription regulator activity | 0.7255980 |\n",
       "\n"
      ],
      "text/plain": [
       "  delta.rank pval      level nseqs term       name                            \n",
       "1   1        0.9974835 1     111   GO:0005198 structural molecule activity    \n",
       "2 166        0.1818715 1     346   GO:0098772 molecular function regulator    \n",
       "3 178        0.3064346 1     172   GO:0140110 transcription regulator activity\n",
       "  p.adj    \n",
       "1 0.9974835\n",
       "2 0.7255980\n",
       "3 0.7255980"
      ]
     },
     "metadata": {},
     "output_type": "display_data"
    }
   ],
   "source": [
    "filter(mwu_MF_ch, mwu_MF_ch$level == 1)"
   ]
  },
  {
   "cell_type": "code",
   "execution_count": 93,
   "id": "927c1d31-31a5-4040-9dce-85fb0647d3bf",
   "metadata": {},
   "outputs": [
    {
     "data": {
      "text/html": [
       "<table class=\"dataframe\">\n",
       "<caption>A data.frame: 0 × 7</caption>\n",
       "<thead>\n",
       "\t<tr><th scope=col>delta.rank</th><th scope=col>pval</th><th scope=col>level</th><th scope=col>nseqs</th><th scope=col>term</th><th scope=col>name</th><th scope=col>p.adj</th></tr>\n",
       "\t<tr><th scope=col>&lt;int&gt;</th><th scope=col>&lt;dbl&gt;</th><th scope=col>&lt;int&gt;</th><th scope=col>&lt;int&gt;</th><th scope=col>&lt;chr&gt;</th><th scope=col>&lt;chr&gt;</th><th scope=col>&lt;dbl&gt;</th></tr>\n",
       "</thead>\n",
       "<tbody>\n",
       "</tbody>\n",
       "</table>\n"
      ],
      "text/latex": [
       "A data.frame: 0 × 7\n",
       "\\begin{tabular}{lllllll}\n",
       " delta.rank & pval & level & nseqs & term & name & p.adj\\\\\n",
       " <int> & <dbl> & <int> & <int> & <chr> & <chr> & <dbl>\\\\\n",
       "\\hline\n",
       "\\end{tabular}\n"
      ],
      "text/markdown": [
       "\n",
       "A data.frame: 0 × 7\n",
       "\n",
       "| delta.rank &lt;int&gt; | pval &lt;dbl&gt; | level &lt;int&gt; | nseqs &lt;int&gt; | term &lt;chr&gt; | name &lt;chr&gt; | p.adj &lt;dbl&gt; |\n",
       "|---|---|---|---|---|---|---|\n",
       "\n"
      ],
      "text/plain": [
       "     delta.rank pval level nseqs term name p.adj"
      ]
     },
     "metadata": {},
     "output_type": "display_data"
    }
   ],
   "source": [
    "filter(mwu_MF_ch, mwu_MF_ch$p.adj < 0.05)"
   ]
  },
  {
   "cell_type": "markdown",
   "id": "aa072ecc-254a-4ce4-81db-f09a212c8c1f",
   "metadata": {},
   "source": [
    "no significantly enriched GO terms for molecular function"
   ]
  },
  {
   "cell_type": "markdown",
   "id": "605bf8b9-7d66-4b52-8d00-c7da1ec230b9",
   "metadata": {},
   "source": [
    "**biological process**"
   ]
  },
  {
   "cell_type": "code",
   "execution_count": 75,
   "id": "fb6968e9-f945-405c-b8fd-0f96f0a1fbe0",
   "metadata": {},
   "outputs": [],
   "source": [
    "# Edit these to match your data file names: \n",
    "input=\"allGenes_CH_lfc.csv\" # two columns of comma-separated values: gene id, continuous measure of significance. To perform standard GO enrichment analysis based on Fisher's exact test, use binary measure (0 or 1, i.e., either sgnificant or not).\n",
    "goAnnotations=\"allGenes2GO.tab\" # two-column, tab-delimited, one line per gene, multiple GO terms separated by semicolon. If you have multiple lines per gene, use nrify_GOtable.pl prior to running this script.\n",
    "goDatabase=\"go.obo\" # download from http://www.geneontology.org/GO.downloads.ontology.shtml\n",
    "goDivision=\"BP\" # either MF, or BP, or CC\n",
    "source(\"gomwu.functions.R\")\n"
   ]
  },
  {
   "cell_type": "code",
   "execution_count": 76,
   "id": "ab27d2bd-d949-48da-804f-746884629c3e",
   "metadata": {},
   "outputs": [
    {
     "name": "stdout",
     "output_type": "stream",
     "text": [
      "Continuous measure of interest: will perform MWU test\n"
     ]
    },
    {
     "name": "stderr",
     "output_type": "stream",
     "text": [
      "0 GO terms at 10% FDR\n",
      "\n"
     ]
    }
   ],
   "source": [
    "# Calculating stats. It might take ~3 min for MF and BP. Do not rerun it if you just want to replot the data with different cutoffs, go straight to gomwuPlot. If you change any of the numeric values below, delete the files that were generated in previos runs first.\n",
    "gomwuStats(input, goDatabase, goAnnotations, goDivision,\n",
    "           perlPath=\"perl\", # replace with full path to perl executable if it is not in your system's PATH already\n",
    "           largest=0.1,  # a GO category will not be considered if it contains more than this fraction of the total number of genes\n",
    "           smallest=5,   # a GO category should contain at least this many genes to be considered\n",
    "           clusterCutHeight=0.25) # threshold for merging similar (gene-sharing) terms. See README for details.\n",
    "# There are no GO term at 10% FDR"
   ]
  },
  {
   "cell_type": "code",
   "execution_count": 78,
   "id": "7b4d4817-f010-442c-9086-ed87a16b0dea",
   "metadata": {},
   "outputs": [
    {
     "ename": "ERROR",
     "evalue": "Error in `.rowNamesDF<-`(x, value = value): invalid 'row.names' length\n",
     "output_type": "error",
     "traceback": [
      "Error in `.rowNamesDF<-`(x, value = value): invalid 'row.names' length\nTraceback:\n",
      "1. gomwuPlot(input, goAnnotations, goDivision, absValue = 1e-05, \n .     level1 = 0.05, level2 = 0.05, level3 = 0.01, txtsize = 1.2, \n .     treeHeight = 0.5, )",
      "2. `row.names<-`(`*tmp*`, value = paste(good.len, \"/\", pv[pv$term %in% \n .     goods.names, ]$nseqs, \" \", pv[pv$term %in% goods.names, ]$name, \n .     sep = \"\"))",
      "3. `row.names<-.data.frame`(`*tmp*`, value = paste(good.len, \"/\", \n .     pv[pv$term %in% goods.names, ]$nseqs, \" \", pv[pv$term %in% \n .         goods.names, ]$name, sep = \"\"))",
      "4. `.rowNamesDF<-`(x, value = value)",
      "5. stop(\"invalid 'row.names' length\")"
     ]
    }
   ],
   "source": [
    "# Plotting results\n",
    "results=gomwuPlot(input,goAnnotations,goDivision,\n",
    "                  absValue=1e-5,  # genes with the measure value exceeding this will be counted as \"good genes\". This setting is for signed log-pvalues. Specify absValue=0.001 if you are doing Fisher's exact test for standard GO enrichment or analyzing a WGCNA module (all non-zero genes = \"good genes\").\n",
    "                  level1=0.05, # FDR threshold for plotting. Specify level1=1 to plot all GO categories containing genes exceeding the absValue.\n",
    "                  level2=0.05, # FDR cutoff to print in regular (not italic) font.\n",
    "                  level3=0.01, # FDR cutoff to print in large bold font.\n",
    "                  txtsize=1.2,    # decrease to fit more on one page, or increase (after rescaling the plot so the tree fits the text) for better \"word cloud\" effect\n",
    "                  treeHeight=0.5, # height of the hierarchical clustering tree\n",
    "                  )"
   ]
  },
  {
   "cell_type": "code",
   "execution_count": 5,
   "id": "99e39a61-d35c-4c98-9223-87b17b4103c0",
   "metadata": {},
   "outputs": [
    {
     "data": {
      "text/html": [
       "<table class=\"dataframe\">\n",
       "<caption>A data.frame: 6 × 7</caption>\n",
       "<thead>\n",
       "\t<tr><th></th><th scope=col>delta.rank</th><th scope=col>pval</th><th scope=col>level</th><th scope=col>nseqs</th><th scope=col>term</th><th scope=col>name</th><th scope=col>p.adj</th></tr>\n",
       "\t<tr><th></th><th scope=col>&lt;int&gt;</th><th scope=col>&lt;dbl&gt;</th><th scope=col>&lt;int&gt;</th><th scope=col>&lt;int&gt;</th><th scope=col>&lt;chr&gt;</th><th scope=col>&lt;chr&gt;</th><th scope=col>&lt;dbl&gt;</th></tr>\n",
       "</thead>\n",
       "<tbody>\n",
       "\t<tr><th scope=row>1</th><td> 115</td><td>0.61561963</td><td>2</td><td> 6</td><td>GO:0000012                                                       </td><td>single strand break repair                                   </td><td>0.8846008</td></tr>\n",
       "\t<tr><th scope=row>2</th><td>  67</td><td>0.61571333</td><td>2</td><td>18</td><td>GO:0000027                                                       </td><td>ribosomal large subunit assembly                             </td><td>0.8846008</td></tr>\n",
       "\t<tr><th scope=row>3</th><td>-271</td><td>0.12691169</td><td>4</td><td>10</td><td>GO:0000028                                                       </td><td>ribosomal small subunit assembly                             </td><td>0.6039774</td></tr>\n",
       "\t<tr><th scope=row>4</th><td> 179</td><td>0.04102924</td><td>2</td><td>42</td><td>GO:0000045;GO:0070925;GO:1905037;GO:0007033                      </td><td>organelle assembly                                           </td><td>0.4669454</td></tr>\n",
       "\t<tr><th scope=row>5</th><td> -54</td><td>0.74003195</td><td>7</td><td>12</td><td>GO:0000054;GO:0033750;GO:0071428;GO:0071426;GO:0006611;GO:0031503</td><td>rRNA-containing ribonucleoprotein complex export from nucleus</td><td>0.9399743</td></tr>\n",
       "\t<tr><th scope=row>6</th><td> 234</td><td>0.30712519</td><td>3</td><td> 6</td><td>GO:0000055                                                       </td><td>ribosomal large subunit export from nucleus                  </td><td>0.7996669</td></tr>\n",
       "</tbody>\n",
       "</table>\n"
      ],
      "text/latex": [
       "A data.frame: 6 × 7\n",
       "\\begin{tabular}{r|lllllll}\n",
       "  & delta.rank & pval & level & nseqs & term & name & p.adj\\\\\n",
       "  & <int> & <dbl> & <int> & <int> & <chr> & <chr> & <dbl>\\\\\n",
       "\\hline\n",
       "\t1 &  115 & 0.61561963 & 2 &  6 & GO:0000012                                                        & single strand break repair                                    & 0.8846008\\\\\n",
       "\t2 &   67 & 0.61571333 & 2 & 18 & GO:0000027                                                        & ribosomal large subunit assembly                              & 0.8846008\\\\\n",
       "\t3 & -271 & 0.12691169 & 4 & 10 & GO:0000028                                                        & ribosomal small subunit assembly                              & 0.6039774\\\\\n",
       "\t4 &  179 & 0.04102924 & 2 & 42 & GO:0000045;GO:0070925;GO:1905037;GO:0007033                       & organelle assembly                                            & 0.4669454\\\\\n",
       "\t5 &  -54 & 0.74003195 & 7 & 12 & GO:0000054;GO:0033750;GO:0071428;GO:0071426;GO:0006611;GO:0031503 & rRNA-containing ribonucleoprotein complex export from nucleus & 0.9399743\\\\\n",
       "\t6 &  234 & 0.30712519 & 3 &  6 & GO:0000055                                                        & ribosomal large subunit export from nucleus                   & 0.7996669\\\\\n",
       "\\end{tabular}\n"
      ],
      "text/markdown": [
       "\n",
       "A data.frame: 6 × 7\n",
       "\n",
       "| <!--/--> | delta.rank &lt;int&gt; | pval &lt;dbl&gt; | level &lt;int&gt; | nseqs &lt;int&gt; | term &lt;chr&gt; | name &lt;chr&gt; | p.adj &lt;dbl&gt; |\n",
       "|---|---|---|---|---|---|---|---|\n",
       "| 1 |  115 | 0.61561963 | 2 |  6 | GO:0000012                                                        | single strand break repair                                    | 0.8846008 |\n",
       "| 2 |   67 | 0.61571333 | 2 | 18 | GO:0000027                                                        | ribosomal large subunit assembly                              | 0.8846008 |\n",
       "| 3 | -271 | 0.12691169 | 4 | 10 | GO:0000028                                                        | ribosomal small subunit assembly                              | 0.6039774 |\n",
       "| 4 |  179 | 0.04102924 | 2 | 42 | GO:0000045;GO:0070925;GO:1905037;GO:0007033                       | organelle assembly                                            | 0.4669454 |\n",
       "| 5 |  -54 | 0.74003195 | 7 | 12 | GO:0000054;GO:0033750;GO:0071428;GO:0071426;GO:0006611;GO:0031503 | rRNA-containing ribonucleoprotein complex export from nucleus | 0.9399743 |\n",
       "| 6 |  234 | 0.30712519 | 3 |  6 | GO:0000055                                                        | ribosomal large subunit export from nucleus                   | 0.7996669 |\n",
       "\n"
      ],
      "text/plain": [
       "  delta.rank pval       level nseqs\n",
       "1  115       0.61561963 2      6   \n",
       "2   67       0.61571333 2     18   \n",
       "3 -271       0.12691169 4     10   \n",
       "4  179       0.04102924 2     42   \n",
       "5  -54       0.74003195 7     12   \n",
       "6  234       0.30712519 3      6   \n",
       "  term                                                             \n",
       "1 GO:0000012                                                       \n",
       "2 GO:0000027                                                       \n",
       "3 GO:0000028                                                       \n",
       "4 GO:0000045;GO:0070925;GO:1905037;GO:0007033                      \n",
       "5 GO:0000054;GO:0033750;GO:0071428;GO:0071426;GO:0006611;GO:0031503\n",
       "6 GO:0000055                                                       \n",
       "  name                                                          p.adj    \n",
       "1 single strand break repair                                    0.8846008\n",
       "2 ribosomal large subunit assembly                              0.8846008\n",
       "3 ribosomal small subunit assembly                              0.6039774\n",
       "4 organelle assembly                                            0.4669454\n",
       "5 rRNA-containing ribonucleoprotein complex export from nucleus 0.9399743\n",
       "6 ribosomal large subunit export from nucleus                   0.7996669"
      ]
     },
     "metadata": {},
     "output_type": "display_data"
    }
   ],
   "source": [
    "mwu_BP_ch <- read.csv('/project/pi_sarah_gignouxwolfsohn_uml_edu/julia/CE_MethylRAD_analysis_2018/analysis/DMGs_analysis/go_mwu/MWU_BP_allGenes_CH_lfc.csv', sep= ' ')\n",
    "head(mwu_BP_ch)"
   ]
  },
  {
   "cell_type": "markdown",
   "id": "61548242-d635-4348-811e-0882e27c768c",
   "metadata": {},
   "source": [
    "looking at the different levels - the levels are the hierarchy of GO terms, 1 being the most general and the higher numbers becoming more specific"
   ]
  },
  {
   "cell_type": "code",
   "execution_count": 6,
   "id": "c2d08cb9-38fb-418e-ba3f-9a2cfd16b701",
   "metadata": {},
   "outputs": [
    {
     "data": {
      "text/html": [
       "<table class=\"dataframe\">\n",
       "<caption>A data.frame: 3 × 7</caption>\n",
       "<thead>\n",
       "\t<tr><th scope=col>delta.rank</th><th scope=col>pval</th><th scope=col>level</th><th scope=col>nseqs</th><th scope=col>term</th><th scope=col>name</th><th scope=col>p.adj</th></tr>\n",
       "\t<tr><th scope=col>&lt;int&gt;</th><th scope=col>&lt;dbl&gt;</th><th scope=col>&lt;int&gt;</th><th scope=col>&lt;int&gt;</th><th scope=col>&lt;chr&gt;</th><th scope=col>&lt;chr&gt;</th><th scope=col>&lt;dbl&gt;</th></tr>\n",
       "</thead>\n",
       "<tbody>\n",
       "\t<tr><td>-34</td><td>0.7471851</td><td>1</td><td>28</td><td>GO:0022414</td><td>reproductive process            </td><td>0.9399743</td></tr>\n",
       "\t<tr><td> -8</td><td>0.9460357</td><td>1</td><td>22</td><td>GO:0032501</td><td>multicellular organismal process</td><td>0.9990491</td></tr>\n",
       "\t<tr><td> 35</td><td>0.6640649</td><td>1</td><td>49</td><td>GO:0032502</td><td>developmental process           </td><td>0.9210312</td></tr>\n",
       "</tbody>\n",
       "</table>\n"
      ],
      "text/latex": [
       "A data.frame: 3 × 7\n",
       "\\begin{tabular}{lllllll}\n",
       " delta.rank & pval & level & nseqs & term & name & p.adj\\\\\n",
       " <int> & <dbl> & <int> & <int> & <chr> & <chr> & <dbl>\\\\\n",
       "\\hline\n",
       "\t -34 & 0.7471851 & 1 & 28 & GO:0022414 & reproductive process             & 0.9399743\\\\\n",
       "\t  -8 & 0.9460357 & 1 & 22 & GO:0032501 & multicellular organismal process & 0.9990491\\\\\n",
       "\t  35 & 0.6640649 & 1 & 49 & GO:0032502 & developmental process            & 0.9210312\\\\\n",
       "\\end{tabular}\n"
      ],
      "text/markdown": [
       "\n",
       "A data.frame: 3 × 7\n",
       "\n",
       "| delta.rank &lt;int&gt; | pval &lt;dbl&gt; | level &lt;int&gt; | nseqs &lt;int&gt; | term &lt;chr&gt; | name &lt;chr&gt; | p.adj &lt;dbl&gt; |\n",
       "|---|---|---|---|---|---|---|\n",
       "| -34 | 0.7471851 | 1 | 28 | GO:0022414 | reproductive process             | 0.9399743 |\n",
       "|  -8 | 0.9460357 | 1 | 22 | GO:0032501 | multicellular organismal process | 0.9990491 |\n",
       "|  35 | 0.6640649 | 1 | 49 | GO:0032502 | developmental process            | 0.9210312 |\n",
       "\n"
      ],
      "text/plain": [
       "  delta.rank pval      level nseqs term       name                            \n",
       "1 -34        0.7471851 1     28    GO:0022414 reproductive process            \n",
       "2  -8        0.9460357 1     22    GO:0032501 multicellular organismal process\n",
       "3  35        0.6640649 1     49    GO:0032502 developmental process           \n",
       "  p.adj    \n",
       "1 0.9399743\n",
       "2 0.9990491\n",
       "3 0.9210312"
      ]
     },
     "metadata": {},
     "output_type": "display_data"
    }
   ],
   "source": [
    "filter(mwu_BP_ch, mwu_BP_ch$level == 1)"
   ]
  },
  {
   "cell_type": "markdown",
   "id": "77d500b0-a802-4f4d-bc2d-0397f323ea44",
   "metadata": {},
   "source": [
    "when only looking at the most general GO terms in the hierarchy for CH vs. HC (timing of stress), we see terms for reproductive and developmental process show up, although not significant"
   ]
  },
  {
   "cell_type": "code",
   "execution_count": 7,
   "id": "46370b82-57a0-44b6-92f9-81771389ee72",
   "metadata": {},
   "outputs": [
    {
     "data": {
      "text/html": [
       "<table class=\"dataframe\">\n",
       "<caption>A data.frame: 6 × 7</caption>\n",
       "<thead>\n",
       "\t<tr><th></th><th scope=col>delta.rank</th><th scope=col>pval</th><th scope=col>level</th><th scope=col>nseqs</th><th scope=col>term</th><th scope=col>name</th><th scope=col>p.adj</th></tr>\n",
       "\t<tr><th></th><th scope=col>&lt;int&gt;</th><th scope=col>&lt;dbl&gt;</th><th scope=col>&lt;int&gt;</th><th scope=col>&lt;int&gt;</th><th scope=col>&lt;chr&gt;</th><th scope=col>&lt;chr&gt;</th><th scope=col>&lt;dbl&gt;</th></tr>\n",
       "</thead>\n",
       "<tbody>\n",
       "\t<tr><th scope=row>98</th><td> 266</td><td>0.003006538</td><td>2</td><td>40</td><td>GO:1903047                                 </td><td>mitotic cell cycle process      </td><td>0.2045305</td></tr>\n",
       "\t<tr><th scope=row>43</th><td> 493</td><td>0.008459970</td><td>2</td><td> 9</td><td>GO:0007154                                 </td><td>cell communication              </td><td>0.2743447</td></tr>\n",
       "\t<tr><th scope=row>58</th><td> 177</td><td>0.016295537</td><td>2</td><td>60</td><td>GO:0022402                                 </td><td>cell cycle process              </td><td>0.3723792</td></tr>\n",
       "\t<tr><th scope=row>86</th><td> 399</td><td>0.033202097</td><td>2</td><td> 9</td><td>GO:0048856                                 </td><td>anatomical structure development</td><td>0.4433456</td></tr>\n",
       "\t<tr><th scope=row>3</th><td> 179</td><td>0.041029237</td><td>2</td><td>42</td><td>GO:0000045;GO:0070925;GO:1905037;GO:0007033</td><td>organelle assembly              </td><td>0.4669454</td></tr>\n",
       "\t<tr><th scope=row>88</th><td>-390</td><td>0.049811725</td><td>2</td><td> 8</td><td>GO:0051336                                 </td><td>regulation of hydrolase activity</td><td>0.4846974</td></tr>\n",
       "</tbody>\n",
       "</table>\n"
      ],
      "text/latex": [
       "A data.frame: 6 × 7\n",
       "\\begin{tabular}{r|lllllll}\n",
       "  & delta.rank & pval & level & nseqs & term & name & p.adj\\\\\n",
       "  & <int> & <dbl> & <int> & <int> & <chr> & <chr> & <dbl>\\\\\n",
       "\\hline\n",
       "\t98 &  266 & 0.003006538 & 2 & 40 & GO:1903047                                  & mitotic cell cycle process       & 0.2045305\\\\\n",
       "\t43 &  493 & 0.008459970 & 2 &  9 & GO:0007154                                  & cell communication               & 0.2743447\\\\\n",
       "\t58 &  177 & 0.016295537 & 2 & 60 & GO:0022402                                  & cell cycle process               & 0.3723792\\\\\n",
       "\t86 &  399 & 0.033202097 & 2 &  9 & GO:0048856                                  & anatomical structure development & 0.4433456\\\\\n",
       "\t3 &  179 & 0.041029237 & 2 & 42 & GO:0000045;GO:0070925;GO:1905037;GO:0007033 & organelle assembly               & 0.4669454\\\\\n",
       "\t88 & -390 & 0.049811725 & 2 &  8 & GO:0051336                                  & regulation of hydrolase activity & 0.4846974\\\\\n",
       "\\end{tabular}\n"
      ],
      "text/markdown": [
       "\n",
       "A data.frame: 6 × 7\n",
       "\n",
       "| <!--/--> | delta.rank &lt;int&gt; | pval &lt;dbl&gt; | level &lt;int&gt; | nseqs &lt;int&gt; | term &lt;chr&gt; | name &lt;chr&gt; | p.adj &lt;dbl&gt; |\n",
       "|---|---|---|---|---|---|---|---|\n",
       "| 98 |  266 | 0.003006538 | 2 | 40 | GO:1903047                                  | mitotic cell cycle process       | 0.2045305 |\n",
       "| 43 |  493 | 0.008459970 | 2 |  9 | GO:0007154                                  | cell communication               | 0.2743447 |\n",
       "| 58 |  177 | 0.016295537 | 2 | 60 | GO:0022402                                  | cell cycle process               | 0.3723792 |\n",
       "| 86 |  399 | 0.033202097 | 2 |  9 | GO:0048856                                  | anatomical structure development | 0.4433456 |\n",
       "| 3 |  179 | 0.041029237 | 2 | 42 | GO:0000045;GO:0070925;GO:1905037;GO:0007033 | organelle assembly               | 0.4669454 |\n",
       "| 88 | -390 | 0.049811725 | 2 |  8 | GO:0051336                                  | regulation of hydrolase activity | 0.4846974 |\n",
       "\n"
      ],
      "text/plain": [
       "   delta.rank pval        level nseqs\n",
       "98  266       0.003006538 2     40   \n",
       "43  493       0.008459970 2      9   \n",
       "58  177       0.016295537 2     60   \n",
       "86  399       0.033202097 2      9   \n",
       "3   179       0.041029237 2     42   \n",
       "88 -390       0.049811725 2      8   \n",
       "   term                                        name                            \n",
       "98 GO:1903047                                  mitotic cell cycle process      \n",
       "43 GO:0007154                                  cell communication              \n",
       "58 GO:0022402                                  cell cycle process              \n",
       "86 GO:0048856                                  anatomical structure development\n",
       "3  GO:0000045;GO:0070925;GO:1905037;GO:0007033 organelle assembly              \n",
       "88 GO:0051336                                  regulation of hydrolase activity\n",
       "   p.adj    \n",
       "98 0.2045305\n",
       "43 0.2743447\n",
       "58 0.3723792\n",
       "86 0.4433456\n",
       "3  0.4669454\n",
       "88 0.4846974"
      ]
     },
     "metadata": {},
     "output_type": "display_data"
    }
   ],
   "source": [
    "mwuBP_ch_level2 <- filter(mwu_BP_ch, mwu_BP_ch$level == 2)\n",
    "\n",
    "mwuBP_ch_level2 <- head(mwuBP_ch_level2[order(mwuBP_ch_level2$p.adj),], 20)\n",
    "head(mwuBP_ch_level2)"
   ]
  },
  {
   "cell_type": "code",
   "execution_count": 56,
   "id": "f21c2e05-edbc-4cea-b285-d7c2303082a2",
   "metadata": {},
   "outputs": [
    {
     "data": {
      "image/png": "[encoded data removed]",
      "text/plain": [
       "plot without title"
      ]
     },
     "metadata": {
      "image/png": {
       "height": 420,
       "width": 420
      }
     },
     "output_type": "display_data"
    }
   ],
   "source": [
    "ggplot(mwuBP_ch_level2, aes(x=reorder(name, -nseqs), y=nseqs)) + \n",
    "geom_bar(stat = \"identity\") +\n",
    "labs(x = 'Biological process GO term', y = 'Number of Genes') +\n",
    "theme_bw() + \n",
    "#theme(axis.text.x = element_text(angle = 45, hjust = 1)) +\n",
    "coord_flip()"
   ]
  },
  {
   "cell_type": "markdown",
   "id": "e69ce1f1-15e8-4e93-87c3-a968bceffd82",
   "metadata": {},
   "source": [
    "here, I filtered the MWU results for just level 2 terms (so more broader terms in the hierarchy), then pulled out the top 20 terms according to the adjusted p-value and visualized this in a bar plot that is ordered based on the number of genes that are included in the GO term. "
   ]
  },
  {
   "cell_type": "code",
   "execution_count": 94,
   "id": "11e2f63a-6821-428a-ab0b-9f4478f5f1a0",
   "metadata": {},
   "outputs": [
    {
     "data": {
      "text/html": [
       "<table class=\"dataframe\">\n",
       "<caption>A data.frame: 0 × 7</caption>\n",
       "<thead>\n",
       "\t<tr><th scope=col>delta.rank</th><th scope=col>pval</th><th scope=col>level</th><th scope=col>nseqs</th><th scope=col>term</th><th scope=col>name</th><th scope=col>p.adj</th></tr>\n",
       "\t<tr><th scope=col>&lt;int&gt;</th><th scope=col>&lt;dbl&gt;</th><th scope=col>&lt;int&gt;</th><th scope=col>&lt;int&gt;</th><th scope=col>&lt;chr&gt;</th><th scope=col>&lt;chr&gt;</th><th scope=col>&lt;dbl&gt;</th></tr>\n",
       "</thead>\n",
       "<tbody>\n",
       "</tbody>\n",
       "</table>\n"
      ],
      "text/latex": [
       "A data.frame: 0 × 7\n",
       "\\begin{tabular}{lllllll}\n",
       " delta.rank & pval & level & nseqs & term & name & p.adj\\\\\n",
       " <int> & <dbl> & <int> & <int> & <chr> & <chr> & <dbl>\\\\\n",
       "\\hline\n",
       "\\end{tabular}\n"
      ],
      "text/markdown": [
       "\n",
       "A data.frame: 0 × 7\n",
       "\n",
       "| delta.rank &lt;int&gt; | pval &lt;dbl&gt; | level &lt;int&gt; | nseqs &lt;int&gt; | term &lt;chr&gt; | name &lt;chr&gt; | p.adj &lt;dbl&gt; |\n",
       "|---|---|---|---|---|---|---|\n",
       "\n"
      ],
      "text/plain": [
       "     delta.rank pval level nseqs term name p.adj"
      ]
     },
     "metadata": {},
     "output_type": "display_data"
    }
   ],
   "source": [
    "filter(mwu_BP_ch, mwu_BP_ch$p.adj < 0.05)"
   ]
  },
  {
   "cell_type": "markdown",
   "id": "d86c7672-1d05-4e8e-b69d-571512f1681c",
   "metadata": {},
   "source": [
    "no significantly enriched GO terms for biological processes"
   ]
  },
  {
   "cell_type": "markdown",
   "id": "70bda456-dce3-46f2-9587-cdc166bf8b15",
   "metadata": {},
   "source": [
    "trying again but with **binary measure** (0/1 for non-signif./signif.) to see if that changes anything\n",
    "\n",
    "this utilizes Fisher's exact test - looking for GO categories that are significantly over-represented among significant genes"
   ]
  },
  {
   "cell_type": "code",
   "execution_count": 60,
   "id": "bfdeebd4-25c2-4fa9-ad67-125dbc1a654a",
   "metadata": {},
   "outputs": [],
   "source": [
    "# Edit these to match your data file names: \n",
    "input=\"allGenes_CH_sig.csv\" # two columns of comma-separated values: gene id, continuous measure of significance. To perform standard GO enrichment analysis based on Fisher's exact test, use binary measure (0 or 1, i.e., either sgnificant or not).\n",
    "goAnnotations=\"allGenes2GO.tab\" # two-column, tab-delimited, one line per gene, multiple GO terms separated by semicolon. If you have multiple lines per gene, use nrify_GOtable.pl prior to running this script.\n",
    "goDatabase=\"go.obo\" # download from http://www.geneontology.org/GO.downloads.ontology.shtml\n",
    "goDivision=\"MF\" # either MF, or BP, or CC\n",
    "source(\"gomwu.functions.R\")"
   ]
  },
  {
   "cell_type": "code",
   "execution_count": 61,
   "id": "1ab29633-fd60-44d4-b050-b01d219201e4",
   "metadata": {},
   "outputs": [
    {
     "name": "stdout",
     "output_type": "stream",
     "text": [
      "Binary classification detected; will perform Fisher's test\n"
     ]
    },
    {
     "name": "stderr",
     "output_type": "stream",
     "text": [
      "1 GO terms at 10% FDR\n",
      "\n"
     ]
    }
   ],
   "source": [
    "# Calculating stats. It might take ~3 min for MF and BP. Do not rerun it if you just want to replot the data with different cutoffs, go straight to gomwuPlot. If you change any of the numeric values below, delete the files that were generated in previos runs first.\n",
    "gomwuStats(input, goDatabase, goAnnotations, goDivision,\n",
    "           perlPath=\"perl\", # replace with full path to perl executable if it is not in your system's PATH already\n",
    "           largest=0.1,  # a GO category will not be considered if it contains more than this fraction of the total number of genes\n",
    "           smallest=5,   # a GO category should contain at least this many genes to be considered\n",
    "           clusterCutHeight=0.25) # threshold for merging similar (gene-sharing) terms. See README for details.\n",
    "# There are no GO term at 10% FDR"
   ]
  },
  {
   "cell_type": "code",
   "execution_count": 63,
   "id": "0ab6e966-bb91-4eba-8f79-c0187218e723",
   "metadata": {},
   "outputs": [
    {
     "data": {
      "text/html": [
       "<table class=\"dataframe\">\n",
       "<caption>A data.frame: 6 × 7</caption>\n",
       "<thead>\n",
       "\t<tr><th></th><th scope=col>delta.rank</th><th scope=col>pval</th><th scope=col>level</th><th scope=col>nseqs</th><th scope=col>term</th><th scope=col>name</th><th scope=col>p.adj</th></tr>\n",
       "\t<tr><th></th><th scope=col>&lt;int&gt;</th><th scope=col>&lt;dbl&gt;</th><th scope=col>&lt;int&gt;</th><th scope=col>&lt;int&gt;</th><th scope=col>&lt;chr&gt;</th><th scope=col>&lt;chr&gt;</th><th scope=col>&lt;dbl&gt;</th></tr>\n",
       "</thead>\n",
       "<tbody>\n",
       "\t<tr><th scope=row>1</th><td>0</td><td>1</td><td>5</td><td> 5</td><td>GO:0000026                                 </td><td>alpha-1,2-mannosyltransferase activity</td><td>1</td></tr>\n",
       "\t<tr><th scope=row>2</th><td>0</td><td>1</td><td>4</td><td>28</td><td>GO:0000030                                 </td><td>mannosyltransferase activity          </td><td>1</td></tr>\n",
       "\t<tr><th scope=row>3</th><td>0</td><td>1</td><td>4</td><td>45</td><td>GO:0000049                                 </td><td>tRNA binding                          </td><td>1</td></tr>\n",
       "\t<tr><th scope=row>4</th><td>0</td><td>1</td><td>2</td><td> 8</td><td>GO:0000062;GO:0120227;GO:1901567;GO:1901681</td><td>fatty-acyl-CoA binding                </td><td>1</td></tr>\n",
       "\t<tr><th scope=row>5</th><td>0</td><td>1</td><td>3</td><td>10</td><td>GO:0000146                                 </td><td>microfilament motor activity          </td><td>1</td></tr>\n",
       "\t<tr><th scope=row>6</th><td>0</td><td>1</td><td>2</td><td>42</td><td>GO:0000149                                 </td><td>SNARE binding                         </td><td>1</td></tr>\n",
       "</tbody>\n",
       "</table>\n"
      ],
      "text/latex": [
       "A data.frame: 6 × 7\n",
       "\\begin{tabular}{r|lllllll}\n",
       "  & delta.rank & pval & level & nseqs & term & name & p.adj\\\\\n",
       "  & <int> & <dbl> & <int> & <int> & <chr> & <chr> & <dbl>\\\\\n",
       "\\hline\n",
       "\t1 & 0 & 1 & 5 &  5 & GO:0000026                                  & alpha-1,2-mannosyltransferase activity & 1\\\\\n",
       "\t2 & 0 & 1 & 4 & 28 & GO:0000030                                  & mannosyltransferase activity           & 1\\\\\n",
       "\t3 & 0 & 1 & 4 & 45 & GO:0000049                                  & tRNA binding                           & 1\\\\\n",
       "\t4 & 0 & 1 & 2 &  8 & GO:0000062;GO:0120227;GO:1901567;GO:1901681 & fatty-acyl-CoA binding                 & 1\\\\\n",
       "\t5 & 0 & 1 & 3 & 10 & GO:0000146                                  & microfilament motor activity           & 1\\\\\n",
       "\t6 & 0 & 1 & 2 & 42 & GO:0000149                                  & SNARE binding                          & 1\\\\\n",
       "\\end{tabular}\n"
      ],
      "text/markdown": [
       "\n",
       "A data.frame: 6 × 7\n",
       "\n",
       "| <!--/--> | delta.rank &lt;int&gt; | pval &lt;dbl&gt; | level &lt;int&gt; | nseqs &lt;int&gt; | term &lt;chr&gt; | name &lt;chr&gt; | p.adj &lt;dbl&gt; |\n",
       "|---|---|---|---|---|---|---|---|\n",
       "| 1 | 0 | 1 | 5 |  5 | GO:0000026                                  | alpha-1,2-mannosyltransferase activity | 1 |\n",
       "| 2 | 0 | 1 | 4 | 28 | GO:0000030                                  | mannosyltransferase activity           | 1 |\n",
       "| 3 | 0 | 1 | 4 | 45 | GO:0000049                                  | tRNA binding                           | 1 |\n",
       "| 4 | 0 | 1 | 2 |  8 | GO:0000062;GO:0120227;GO:1901567;GO:1901681 | fatty-acyl-CoA binding                 | 1 |\n",
       "| 5 | 0 | 1 | 3 | 10 | GO:0000146                                  | microfilament motor activity           | 1 |\n",
       "| 6 | 0 | 1 | 2 | 42 | GO:0000149                                  | SNARE binding                          | 1 |\n",
       "\n"
      ],
      "text/plain": [
       "  delta.rank pval level nseqs term                                       \n",
       "1 0          1    5      5    GO:0000026                                 \n",
       "2 0          1    4     28    GO:0000030                                 \n",
       "3 0          1    4     45    GO:0000049                                 \n",
       "4 0          1    2      8    GO:0000062;GO:0120227;GO:1901567;GO:1901681\n",
       "5 0          1    3     10    GO:0000146                                 \n",
       "6 0          1    2     42    GO:0000149                                 \n",
       "  name                                   p.adj\n",
       "1 alpha-1,2-mannosyltransferase activity 1    \n",
       "2 mannosyltransferase activity           1    \n",
       "3 tRNA binding                           1    \n",
       "4 fatty-acyl-CoA binding                 1    \n",
       "5 microfilament motor activity           1    \n",
       "6 SNARE binding                          1    "
      ]
     },
     "metadata": {},
     "output_type": "display_data"
    }
   ],
   "source": [
    "mwu_MF_ch <- read.csv('/project/pi_sarah_gignouxwolfsohn_uml_edu/julia/CE_MethylRAD_analysis_2018/analysis/DMGs_analysis/go_mwu/MWU_MF_allGenes_CH_sig.csv', sep= ' ')\n",
    "head(mwu_MF_ch)"
   ]
  },
  {
   "cell_type": "code",
   "execution_count": 64,
   "id": "c97ef771-4460-4fc9-9617-9662aec6deca",
   "metadata": {},
   "outputs": [
    {
     "data": {
      "text/html": [
       "<table class=\"dataframe\">\n",
       "<caption>A data.frame: 0 × 7</caption>\n",
       "<thead>\n",
       "\t<tr><th scope=col>delta.rank</th><th scope=col>pval</th><th scope=col>level</th><th scope=col>nseqs</th><th scope=col>term</th><th scope=col>name</th><th scope=col>p.adj</th></tr>\n",
       "\t<tr><th scope=col>&lt;int&gt;</th><th scope=col>&lt;dbl&gt;</th><th scope=col>&lt;int&gt;</th><th scope=col>&lt;int&gt;</th><th scope=col>&lt;chr&gt;</th><th scope=col>&lt;chr&gt;</th><th scope=col>&lt;dbl&gt;</th></tr>\n",
       "</thead>\n",
       "<tbody>\n",
       "</tbody>\n",
       "</table>\n"
      ],
      "text/latex": [
       "A data.frame: 0 × 7\n",
       "\\begin{tabular}{lllllll}\n",
       " delta.rank & pval & level & nseqs & term & name & p.adj\\\\\n",
       " <int> & <dbl> & <int> & <int> & <chr> & <chr> & <dbl>\\\\\n",
       "\\hline\n",
       "\\end{tabular}\n"
      ],
      "text/markdown": [
       "\n",
       "A data.frame: 0 × 7\n",
       "\n",
       "| delta.rank &lt;int&gt; | pval &lt;dbl&gt; | level &lt;int&gt; | nseqs &lt;int&gt; | term &lt;chr&gt; | name &lt;chr&gt; | p.adj &lt;dbl&gt; |\n",
       "|---|---|---|---|---|---|---|\n",
       "\n"
      ],
      "text/plain": [
       "     delta.rank pval level nseqs term name p.adj"
      ]
     },
     "metadata": {},
     "output_type": "display_data"
    }
   ],
   "source": [
    "filter(mwu_MF_ch, mwu_MF_ch$p.adj < 0.05)"
   ]
  },
  {
   "cell_type": "code",
   "execution_count": 17,
   "id": "d0a09701-aa86-4785-bf23-1d2647f55c44",
   "metadata": {},
   "outputs": [],
   "source": [
    "# Edit these to match your data file names: \n",
    "input=\"allGenes_CH_sig.csv\" # two columns of comma-separated values: gene id, continuous measure of significance. To perform standard GO enrichment analysis based on Fisher's exact test, use binary measure (0 or 1, i.e., either sgnificant or not).\n",
    "goAnnotations=\"allGenes2GO.tab\" # two-column, tab-delimited, one line per gene, multiple GO terms separated by semicolon. If you have multiple lines per gene, use nrify_GOtable.pl prior to running this script.\n",
    "goDatabase=\"go.obo\" # download from http://www.geneontology.org/GO.downloads.ontology.shtml\n",
    "goDivision=\"BP\" # either MF, or BP, or CC\n",
    "source(\"gomwu.functions.R\")"
   ]
  },
  {
   "cell_type": "code",
   "execution_count": 18,
   "id": "0746a6df-b90d-4097-af1e-0418b07b4811",
   "metadata": {},
   "outputs": [
    {
     "name": "stdout",
     "output_type": "stream",
     "text": [
      "Binary classification detected; will perform Fisher's test\n"
     ]
    },
    {
     "name": "stderr",
     "output_type": "stream",
     "text": [
      "0 GO terms at 10% FDR\n",
      "\n"
     ]
    }
   ],
   "source": [
    "# Calculating stats. It might take ~3 min for MF and BP. Do not rerun it if you just want to replot the data with different cutoffs, go straight to gomwuPlot. If you change any of the numeric values below, delete the files that were generated in previos runs first.\n",
    "gomwuStats(input, goDatabase, goAnnotations, goDivision,\n",
    "           perlPath=\"perl\", # replace with full path to perl executable if it is not in your system's PATH already\n",
    "           largest=0.1,  # a GO category will not be considered if it contains more than this fraction of the total number of genes\n",
    "           smallest=5,   # a GO category should contain at least this many genes to be considered\n",
    "           clusterCutHeight=0.25) # threshold for merging similar (gene-sharing) terms. See README for details.\n",
    "# There are no GO term at 10% FDR"
   ]
  },
  {
   "cell_type": "code",
   "execution_count": 65,
   "id": "937a2ea6-8309-414a-b9f7-3ba1121293a4",
   "metadata": {},
   "outputs": [
    {
     "data": {
      "text/html": [
       "<table class=\"dataframe\">\n",
       "<caption>A data.frame: 6 × 7</caption>\n",
       "<thead>\n",
       "\t<tr><th></th><th scope=col>delta.rank</th><th scope=col>pval</th><th scope=col>level</th><th scope=col>nseqs</th><th scope=col>term</th><th scope=col>name</th><th scope=col>p.adj</th></tr>\n",
       "\t<tr><th></th><th scope=col>&lt;int&gt;</th><th scope=col>&lt;dbl&gt;</th><th scope=col>&lt;int&gt;</th><th scope=col>&lt;int&gt;</th><th scope=col>&lt;chr&gt;</th><th scope=col>&lt;chr&gt;</th><th scope=col>&lt;dbl&gt;</th></tr>\n",
       "</thead>\n",
       "<tbody>\n",
       "\t<tr><th scope=row>1</th><td>0</td><td>0.03768788</td><td>2</td><td> 7</td><td>GO:0000012                                                                                                                                               </td><td>single strand break repair                 </td><td>0.8900498</td></tr>\n",
       "\t<tr><th scope=row>2</th><td>0</td><td>0.09924269</td><td>2</td><td>19</td><td>GO:0000027                                                                                                                                               </td><td>ribosomal large subunit assembly           </td><td>1.0000000</td></tr>\n",
       "\t<tr><th scope=row>3</th><td>0</td><td>0.06379557</td><td>2</td><td>12</td><td>GO:0000028                                                                                                                                               </td><td>ribosomal small subunit assembly           </td><td>1.0000000</td></tr>\n",
       "\t<tr><th scope=row>4</th><td>0</td><td>1.00000000</td><td>5</td><td>47</td><td>GO:0000045;GO:0070925;GO:1905037;GO:0007033                                                                                                              </td><td>organelle assembly                         </td><td>1.0000000</td></tr>\n",
       "\t<tr><th scope=row>5</th><td>0</td><td>1.00000000</td><td>8</td><td>21</td><td>GO:0000054;GO:0033750;GO:0071428;GO:0071426;GO:0006405;GO:0006611;GO:0031503;GO:0050658;GO:0051168;GO:0050657;GO:0051236;GO:0006913;GO:0015931;GO:0051169</td><td>nucleocytoplasmic transport                </td><td>1.0000000</td></tr>\n",
       "\t<tr><th scope=row>6</th><td>0</td><td>1.00000000</td><td>3</td><td> 9</td><td>GO:0000055                                                                                                                                               </td><td>ribosomal large subunit export from nucleus</td><td>1.0000000</td></tr>\n",
       "</tbody>\n",
       "</table>\n"
      ],
      "text/latex": [
       "A data.frame: 6 × 7\n",
       "\\begin{tabular}{r|lllllll}\n",
       "  & delta.rank & pval & level & nseqs & term & name & p.adj\\\\\n",
       "  & <int> & <dbl> & <int> & <int> & <chr> & <chr> & <dbl>\\\\\n",
       "\\hline\n",
       "\t1 & 0 & 0.03768788 & 2 &  7 & GO:0000012                                                                                                                                                & single strand break repair                  & 0.8900498\\\\\n",
       "\t2 & 0 & 0.09924269 & 2 & 19 & GO:0000027                                                                                                                                                & ribosomal large subunit assembly            & 1.0000000\\\\\n",
       "\t3 & 0 & 0.06379557 & 2 & 12 & GO:0000028                                                                                                                                                & ribosomal small subunit assembly            & 1.0000000\\\\\n",
       "\t4 & 0 & 1.00000000 & 5 & 47 & GO:0000045;GO:0070925;GO:1905037;GO:0007033                                                                                                               & organelle assembly                          & 1.0000000\\\\\n",
       "\t5 & 0 & 1.00000000 & 8 & 21 & GO:0000054;GO:0033750;GO:0071428;GO:0071426;GO:0006405;GO:0006611;GO:0031503;GO:0050658;GO:0051168;GO:0050657;GO:0051236;GO:0006913;GO:0015931;GO:0051169 & nucleocytoplasmic transport                 & 1.0000000\\\\\n",
       "\t6 & 0 & 1.00000000 & 3 &  9 & GO:0000055                                                                                                                                                & ribosomal large subunit export from nucleus & 1.0000000\\\\\n",
       "\\end{tabular}\n"
      ],
      "text/markdown": [
       "\n",
       "A data.frame: 6 × 7\n",
       "\n",
       "| <!--/--> | delta.rank &lt;int&gt; | pval &lt;dbl&gt; | level &lt;int&gt; | nseqs &lt;int&gt; | term &lt;chr&gt; | name &lt;chr&gt; | p.adj &lt;dbl&gt; |\n",
       "|---|---|---|---|---|---|---|---|\n",
       "| 1 | 0 | 0.03768788 | 2 |  7 | GO:0000012                                                                                                                                                | single strand break repair                  | 0.8900498 |\n",
       "| 2 | 0 | 0.09924269 | 2 | 19 | GO:0000027                                                                                                                                                | ribosomal large subunit assembly            | 1.0000000 |\n",
       "| 3 | 0 | 0.06379557 | 2 | 12 | GO:0000028                                                                                                                                                | ribosomal small subunit assembly            | 1.0000000 |\n",
       "| 4 | 0 | 1.00000000 | 5 | 47 | GO:0000045;GO:0070925;GO:1905037;GO:0007033                                                                                                               | organelle assembly                          | 1.0000000 |\n",
       "| 5 | 0 | 1.00000000 | 8 | 21 | GO:0000054;GO:0033750;GO:0071428;GO:0071426;GO:0006405;GO:0006611;GO:0031503;GO:0050658;GO:0051168;GO:0050657;GO:0051236;GO:0006913;GO:0015931;GO:0051169 | nucleocytoplasmic transport                 | 1.0000000 |\n",
       "| 6 | 0 | 1.00000000 | 3 |  9 | GO:0000055                                                                                                                                                | ribosomal large subunit export from nucleus | 1.0000000 |\n",
       "\n"
      ],
      "text/plain": [
       "  delta.rank pval       level nseqs\n",
       "1 0          0.03768788 2      7   \n",
       "2 0          0.09924269 2     19   \n",
       "3 0          0.06379557 2     12   \n",
       "4 0          1.00000000 5     47   \n",
       "5 0          1.00000000 8     21   \n",
       "6 0          1.00000000 3      9   \n",
       "  term                                                                                                                                                     \n",
       "1 GO:0000012                                                                                                                                               \n",
       "2 GO:0000027                                                                                                                                               \n",
       "3 GO:0000028                                                                                                                                               \n",
       "4 GO:0000045;GO:0070925;GO:1905037;GO:0007033                                                                                                              \n",
       "5 GO:0000054;GO:0033750;GO:0071428;GO:0071426;GO:0006405;GO:0006611;GO:0031503;GO:0050658;GO:0051168;GO:0050657;GO:0051236;GO:0006913;GO:0015931;GO:0051169\n",
       "6 GO:0000055                                                                                                                                               \n",
       "  name                                        p.adj    \n",
       "1 single strand break repair                  0.8900498\n",
       "2 ribosomal large subunit assembly            1.0000000\n",
       "3 ribosomal small subunit assembly            1.0000000\n",
       "4 organelle assembly                          1.0000000\n",
       "5 nucleocytoplasmic transport                 1.0000000\n",
       "6 ribosomal large subunit export from nucleus 1.0000000"
      ]
     },
     "metadata": {},
     "output_type": "display_data"
    }
   ],
   "source": [
    "mwu_BP_ch <- read.csv('/project/pi_sarah_gignouxwolfsohn_uml_edu/julia/CE_MethylRAD_analysis_2018/analysis/DMGs_analysis/go_mwu/MWU_BP_allGenes_CH_sig.csv', sep= ' ')\n",
    "head(mwu_BP_ch)"
   ]
  },
  {
   "cell_type": "code",
   "execution_count": 66,
   "id": "3f4b2345-15bf-4780-b86f-11d8b4d41115",
   "metadata": {},
   "outputs": [
    {
     "data": {
      "text/html": [
       "<table class=\"dataframe\">\n",
       "<caption>A data.frame: 0 × 7</caption>\n",
       "<thead>\n",
       "\t<tr><th scope=col>delta.rank</th><th scope=col>pval</th><th scope=col>level</th><th scope=col>nseqs</th><th scope=col>term</th><th scope=col>name</th><th scope=col>p.adj</th></tr>\n",
       "\t<tr><th scope=col>&lt;int&gt;</th><th scope=col>&lt;dbl&gt;</th><th scope=col>&lt;int&gt;</th><th scope=col>&lt;int&gt;</th><th scope=col>&lt;chr&gt;</th><th scope=col>&lt;chr&gt;</th><th scope=col>&lt;dbl&gt;</th></tr>\n",
       "</thead>\n",
       "<tbody>\n",
       "</tbody>\n",
       "</table>\n"
      ],
      "text/latex": [
       "A data.frame: 0 × 7\n",
       "\\begin{tabular}{lllllll}\n",
       " delta.rank & pval & level & nseqs & term & name & p.adj\\\\\n",
       " <int> & <dbl> & <int> & <int> & <chr> & <chr> & <dbl>\\\\\n",
       "\\hline\n",
       "\\end{tabular}\n"
      ],
      "text/markdown": [
       "\n",
       "A data.frame: 0 × 7\n",
       "\n",
       "| delta.rank &lt;int&gt; | pval &lt;dbl&gt; | level &lt;int&gt; | nseqs &lt;int&gt; | term &lt;chr&gt; | name &lt;chr&gt; | p.adj &lt;dbl&gt; |\n",
       "|---|---|---|---|---|---|---|\n",
       "\n"
      ],
      "text/plain": [
       "     delta.rank pval level nseqs term name p.adj"
      ]
     },
     "metadata": {},
     "output_type": "display_data"
    }
   ],
   "source": [
    "filter(mwu_BP_ch, mwu_BP_ch$p.adj < 0.05)"
   ]
  },
  {
   "cell_type": "markdown",
   "id": "5fc3821c-a37d-4e01-9ce3-2418f6109f5b",
   "metadata": {},
   "source": [
    "so doing binary measure does not change the results - in that there are still no significantly enriched GO terms"
   ]
  },
  {
   "cell_type": "code",
   "execution_count": 67,
   "id": "a9b5274d-120e-4e33-a3ef-b276bf4833ae",
   "metadata": {},
   "outputs": [
    {
     "data": {
      "text/html": [
       "<table class=\"dataframe\">\n",
       "<caption>A data.frame: 6 × 7</caption>\n",
       "<thead>\n",
       "\t<tr><th></th><th scope=col>delta.rank</th><th scope=col>pval</th><th scope=col>level</th><th scope=col>nseqs</th><th scope=col>term</th><th scope=col>name</th><th scope=col>p.adj</th></tr>\n",
       "\t<tr><th></th><th scope=col>&lt;int&gt;</th><th scope=col>&lt;dbl&gt;</th><th scope=col>&lt;int&gt;</th><th scope=col>&lt;int&gt;</th><th scope=col>&lt;chr&gt;</th><th scope=col>&lt;chr&gt;</th><th scope=col>&lt;dbl&gt;</th></tr>\n",
       "</thead>\n",
       "<tbody>\n",
       "\t<tr><th scope=row>1</th><td>0</td><td>0.03768788</td><td>2</td><td> 7</td><td>GO:0000012                      </td><td>single strand break repair      </td><td>0.8900498</td></tr>\n",
       "\t<tr><th scope=row>26</th><td>0</td><td>0.03768788</td><td>2</td><td> 7</td><td>GO:0006417;GO:0010608;GO:0034248</td><td>regulation of translation       </td><td>0.8900498</td></tr>\n",
       "\t<tr><th scope=row>32</th><td>0</td><td>0.04821103</td><td>2</td><td> 9</td><td>GO:0006665;GO:0006643           </td><td>membrane lipid metabolic process</td><td>0.8900498</td></tr>\n",
       "\t<tr><th scope=row>60</th><td>0</td><td>0.01253635</td><td>2</td><td>32</td><td>GO:0016192                      </td><td>vesicle-mediated transport      </td><td>0.8900498</td></tr>\n",
       "\t<tr><th scope=row>61</th><td>0</td><td>0.02205345</td><td>2</td><td>43</td><td>GO:0018193                      </td><td>peptidyl-amino acid modification</td><td>0.8900498</td></tr>\n",
       "\t<tr><th scope=row>62</th><td>0</td><td>0.04296288</td><td>2</td><td> 8</td><td>GO:0018205                      </td><td>peptidyl-lysine modification    </td><td>0.8900498</td></tr>\n",
       "</tbody>\n",
       "</table>\n"
      ],
      "text/latex": [
       "A data.frame: 6 × 7\n",
       "\\begin{tabular}{r|lllllll}\n",
       "  & delta.rank & pval & level & nseqs & term & name & p.adj\\\\\n",
       "  & <int> & <dbl> & <int> & <int> & <chr> & <chr> & <dbl>\\\\\n",
       "\\hline\n",
       "\t1 & 0 & 0.03768788 & 2 &  7 & GO:0000012                       & single strand break repair       & 0.8900498\\\\\n",
       "\t26 & 0 & 0.03768788 & 2 &  7 & GO:0006417;GO:0010608;GO:0034248 & regulation of translation        & 0.8900498\\\\\n",
       "\t32 & 0 & 0.04821103 & 2 &  9 & GO:0006665;GO:0006643            & membrane lipid metabolic process & 0.8900498\\\\\n",
       "\t60 & 0 & 0.01253635 & 2 & 32 & GO:0016192                       & vesicle-mediated transport       & 0.8900498\\\\\n",
       "\t61 & 0 & 0.02205345 & 2 & 43 & GO:0018193                       & peptidyl-amino acid modification & 0.8900498\\\\\n",
       "\t62 & 0 & 0.04296288 & 2 &  8 & GO:0018205                       & peptidyl-lysine modification     & 0.8900498\\\\\n",
       "\\end{tabular}\n"
      ],
      "text/markdown": [
       "\n",
       "A data.frame: 6 × 7\n",
       "\n",
       "| <!--/--> | delta.rank &lt;int&gt; | pval &lt;dbl&gt; | level &lt;int&gt; | nseqs &lt;int&gt; | term &lt;chr&gt; | name &lt;chr&gt; | p.adj &lt;dbl&gt; |\n",
       "|---|---|---|---|---|---|---|---|\n",
       "| 1 | 0 | 0.03768788 | 2 |  7 | GO:0000012                       | single strand break repair       | 0.8900498 |\n",
       "| 26 | 0 | 0.03768788 | 2 |  7 | GO:0006417;GO:0010608;GO:0034248 | regulation of translation        | 0.8900498 |\n",
       "| 32 | 0 | 0.04821103 | 2 |  9 | GO:0006665;GO:0006643            | membrane lipid metabolic process | 0.8900498 |\n",
       "| 60 | 0 | 0.01253635 | 2 | 32 | GO:0016192                       | vesicle-mediated transport       | 0.8900498 |\n",
       "| 61 | 0 | 0.02205345 | 2 | 43 | GO:0018193                       | peptidyl-amino acid modification | 0.8900498 |\n",
       "| 62 | 0 | 0.04296288 | 2 |  8 | GO:0018205                       | peptidyl-lysine modification     | 0.8900498 |\n",
       "\n"
      ],
      "text/plain": [
       "   delta.rank pval       level nseqs term                            \n",
       "1  0          0.03768788 2      7    GO:0000012                      \n",
       "26 0          0.03768788 2      7    GO:0006417;GO:0010608;GO:0034248\n",
       "32 0          0.04821103 2      9    GO:0006665;GO:0006643           \n",
       "60 0          0.01253635 2     32    GO:0016192                      \n",
       "61 0          0.02205345 2     43    GO:0018193                      \n",
       "62 0          0.04296288 2      8    GO:0018205                      \n",
       "   name                             p.adj    \n",
       "1  single strand break repair       0.8900498\n",
       "26 regulation of translation        0.8900498\n",
       "32 membrane lipid metabolic process 0.8900498\n",
       "60 vesicle-mediated transport       0.8900498\n",
       "61 peptidyl-amino acid modification 0.8900498\n",
       "62 peptidyl-lysine modification     0.8900498"
      ]
     },
     "metadata": {},
     "output_type": "display_data"
    }
   ],
   "source": [
    "mwuBP_ch_level2 <- filter(mwu_BP_ch, mwu_BP_ch$level == 2)\n",
    "\n",
    "mwuBP_ch_level2 <- head(mwuBP_ch_level2[order(mwuBP_ch_level2$p.adj),], 20)\n",
    "\n",
    "head(mwuBP_ch_level2)"
   ]
  },
  {
   "cell_type": "code",
   "execution_count": 68,
   "id": "42fc8be3-b912-4a61-a570-8c70f1f5c6d7",
   "metadata": {},
   "outputs": [
    {
     "data": {
      "text/html": [
       "<table class=\"dataframe\">\n",
       "<caption>A data.frame: 3 × 7</caption>\n",
       "<thead>\n",
       "\t<tr><th scope=col>delta.rank</th><th scope=col>pval</th><th scope=col>level</th><th scope=col>nseqs</th><th scope=col>term</th><th scope=col>name</th><th scope=col>p.adj</th></tr>\n",
       "\t<tr><th scope=col>&lt;int&gt;</th><th scope=col>&lt;dbl&gt;</th><th scope=col>&lt;int&gt;</th><th scope=col>&lt;int&gt;</th><th scope=col>&lt;chr&gt;</th><th scope=col>&lt;chr&gt;</th><th scope=col>&lt;dbl&gt;</th></tr>\n",
       "</thead>\n",
       "<tbody>\n",
       "\t<tr><td>0</td><td>1</td><td>1</td><td>30</td><td>GO:0022414</td><td>reproductive process            </td><td>1</td></tr>\n",
       "\t<tr><td>0</td><td>1</td><td>1</td><td>34</td><td>GO:0032501</td><td>multicellular organismal process</td><td>1</td></tr>\n",
       "\t<tr><td>0</td><td>1</td><td>1</td><td>57</td><td>GO:0032502</td><td>developmental process           </td><td>1</td></tr>\n",
       "</tbody>\n",
       "</table>\n"
      ],
      "text/latex": [
       "A data.frame: 3 × 7\n",
       "\\begin{tabular}{lllllll}\n",
       " delta.rank & pval & level & nseqs & term & name & p.adj\\\\\n",
       " <int> & <dbl> & <int> & <int> & <chr> & <chr> & <dbl>\\\\\n",
       "\\hline\n",
       "\t 0 & 1 & 1 & 30 & GO:0022414 & reproductive process             & 1\\\\\n",
       "\t 0 & 1 & 1 & 34 & GO:0032501 & multicellular organismal process & 1\\\\\n",
       "\t 0 & 1 & 1 & 57 & GO:0032502 & developmental process            & 1\\\\\n",
       "\\end{tabular}\n"
      ],
      "text/markdown": [
       "\n",
       "A data.frame: 3 × 7\n",
       "\n",
       "| delta.rank &lt;int&gt; | pval &lt;dbl&gt; | level &lt;int&gt; | nseqs &lt;int&gt; | term &lt;chr&gt; | name &lt;chr&gt; | p.adj &lt;dbl&gt; |\n",
       "|---|---|---|---|---|---|---|\n",
       "| 0 | 1 | 1 | 30 | GO:0022414 | reproductive process             | 1 |\n",
       "| 0 | 1 | 1 | 34 | GO:0032501 | multicellular organismal process | 1 |\n",
       "| 0 | 1 | 1 | 57 | GO:0032502 | developmental process            | 1 |\n",
       "\n"
      ],
      "text/plain": [
       "  delta.rank pval level nseqs term       name                             p.adj\n",
       "1 0          1    1     30    GO:0022414 reproductive process             1    \n",
       "2 0          1    1     34    GO:0032501 multicellular organismal process 1    \n",
       "3 0          1    1     57    GO:0032502 developmental process            1    "
      ]
     },
     "metadata": {},
     "output_type": "display_data"
    }
   ],
   "source": [
    "filter(mwu_BP_ch, mwu_BP_ch$level == 1)"
   ]
  },
  {
   "cell_type": "markdown",
   "id": "a72706cb-5f23-4352-9093-35926cbd2021",
   "metadata": {},
   "source": [
    "by using binary measure and Fisher's exact test, the level 1 terms remain the same, but the level 2 terms change - still nothing is significantly enriched "
   ]
  },
  {
   "cell_type": "markdown",
   "id": "aac8d4c2-a44b-4f0e-a7f7-f72d79b028a8",
   "metadata": {},
   "source": [
    "## HH vs. HC\n",
    "hypoxic hypoxic vs. hypoxic control (continued hypoxic stress vs. removal of hypoxic stress)\n",
    "\n",
    "table of measure of interest for sequences: "
   ]
  },
  {
   "cell_type": "code",
   "execution_count": 100,
   "id": "36f47ddf-743c-4eea-8f24-e6cb2afd267c",
   "metadata": {},
   "outputs": [
    {
     "data": {
      "text/html": [
       "'/project/pi_sarah_gignouxwolfsohn_uml_edu/julia/CE_MethylRAD_analysis_2018/analysis/DMGs_analysis/go_mwu'"
      ],
      "text/latex": [
       "'/project/pi\\_sarah\\_gignouxwolfsohn\\_uml\\_edu/julia/CE\\_MethylRAD\\_analysis\\_2018/analysis/DMGs\\_analysis/go\\_mwu'"
      ],
      "text/markdown": [
       "'/project/pi_sarah_gignouxwolfsohn_uml_edu/julia/CE_MethylRAD_analysis_2018/analysis/DMGs_analysis/go_mwu'"
      ],
      "text/plain": [
       "[1] \"/project/pi_sarah_gignouxwolfsohn_uml_edu/julia/CE_MethylRAD_analysis_2018/analysis/DMGs_analysis/go_mwu\""
      ]
     },
     "metadata": {},
     "output_type": "display_data"
    }
   ],
   "source": [
    "getwd()"
   ]
  },
  {
   "cell_type": "code",
   "execution_count": 69,
   "id": "a6929c0a-30b7-472e-af83-4b0ce3d48a49",
   "metadata": {},
   "outputs": [
    {
     "data": {
      "text/html": [
       "<table class=\"dataframe\">\n",
       "<caption>A data.frame: 6 × 2</caption>\n",
       "<thead>\n",
       "\t<tr><th></th><th scope=col>Symbol</th><th scope=col>log2fc</th></tr>\n",
       "\t<tr><th></th><th scope=col>&lt;chr&gt;</th><th scope=col>&lt;dbl&gt;</th></tr>\n",
       "</thead>\n",
       "<tbody>\n",
       "\t<tr><th scope=row>1</th><td>LOC111116054</td><td> 0.023547556</td></tr>\n",
       "\t<tr><th scope=row>2</th><td>LOC111126949</td><td>-0.008575931</td></tr>\n",
       "\t<tr><th scope=row>3</th><td>LOC111110729</td><td> 0.016854142</td></tr>\n",
       "\t<tr><th scope=row>4</th><td>LOC111112434</td><td>-0.446553473</td></tr>\n",
       "\t<tr><th scope=row>5</th><td>LOC111120752</td><td>-0.332082994</td></tr>\n",
       "\t<tr><th scope=row>6</th><td>LOC111128944</td><td>          NA</td></tr>\n",
       "</tbody>\n",
       "</table>\n"
      ],
      "text/latex": [
       "A data.frame: 6 × 2\n",
       "\\begin{tabular}{r|ll}\n",
       "  & Symbol & log2fc\\\\\n",
       "  & <chr> & <dbl>\\\\\n",
       "\\hline\n",
       "\t1 & LOC111116054 &  0.023547556\\\\\n",
       "\t2 & LOC111126949 & -0.008575931\\\\\n",
       "\t3 & LOC111110729 &  0.016854142\\\\\n",
       "\t4 & LOC111112434 & -0.446553473\\\\\n",
       "\t5 & LOC111120752 & -0.332082994\\\\\n",
       "\t6 & LOC111128944 &           NA\\\\\n",
       "\\end{tabular}\n"
      ],
      "text/markdown": [
       "\n",
       "A data.frame: 6 × 2\n",
       "\n",
       "| <!--/--> | Symbol &lt;chr&gt; | log2fc &lt;dbl&gt; |\n",
       "|---|---|---|\n",
       "| 1 | LOC111116054 |  0.023547556 |\n",
       "| 2 | LOC111126949 | -0.008575931 |\n",
       "| 3 | LOC111110729 |  0.016854142 |\n",
       "| 4 | LOC111112434 | -0.446553473 |\n",
       "| 5 | LOC111120752 | -0.332082994 |\n",
       "| 6 | LOC111128944 |           NA |\n",
       "\n"
      ],
      "text/plain": [
       "  Symbol       log2fc      \n",
       "1 LOC111116054  0.023547556\n",
       "2 LOC111126949 -0.008575931\n",
       "3 LOC111110729  0.016854142\n",
       "4 LOC111112434 -0.446553473\n",
       "5 LOC111120752 -0.332082994\n",
       "6 LOC111128944           NA"
      ]
     },
     "metadata": {},
     "output_type": "display_data"
    },
    {
     "data": {
      "text/html": [
       "<table class=\"dataframe\">\n",
       "<caption>A data.frame: 6 × 2</caption>\n",
       "<thead>\n",
       "\t<tr><th></th><th scope=col>Symbol</th><th scope=col>signif</th></tr>\n",
       "\t<tr><th></th><th scope=col>&lt;chr&gt;</th><th scope=col>&lt;dbl&gt;</th></tr>\n",
       "</thead>\n",
       "<tbody>\n",
       "\t<tr><th scope=row>1</th><td>LOC111116054</td><td>0</td></tr>\n",
       "\t<tr><th scope=row>2</th><td>LOC111126949</td><td>0</td></tr>\n",
       "\t<tr><th scope=row>3</th><td>LOC111110729</td><td>0</td></tr>\n",
       "\t<tr><th scope=row>4</th><td>LOC111112434</td><td>0</td></tr>\n",
       "\t<tr><th scope=row>5</th><td>LOC111120752</td><td>0</td></tr>\n",
       "\t<tr><th scope=row>6</th><td>LOC111128944</td><td>0</td></tr>\n",
       "</tbody>\n",
       "</table>\n"
      ],
      "text/latex": [
       "A data.frame: 6 × 2\n",
       "\\begin{tabular}{r|ll}\n",
       "  & Symbol & signif\\\\\n",
       "  & <chr> & <dbl>\\\\\n",
       "\\hline\n",
       "\t1 & LOC111116054 & 0\\\\\n",
       "\t2 & LOC111126949 & 0\\\\\n",
       "\t3 & LOC111110729 & 0\\\\\n",
       "\t4 & LOC111112434 & 0\\\\\n",
       "\t5 & LOC111120752 & 0\\\\\n",
       "\t6 & LOC111128944 & 0\\\\\n",
       "\\end{tabular}\n"
      ],
      "text/markdown": [
       "\n",
       "A data.frame: 6 × 2\n",
       "\n",
       "| <!--/--> | Symbol &lt;chr&gt; | signif &lt;dbl&gt; |\n",
       "|---|---|---|\n",
       "| 1 | LOC111116054 | 0 |\n",
       "| 2 | LOC111126949 | 0 |\n",
       "| 3 | LOC111110729 | 0 |\n",
       "| 4 | LOC111112434 | 0 |\n",
       "| 5 | LOC111120752 | 0 |\n",
       "| 6 | LOC111128944 | 0 |\n",
       "\n"
      ],
      "text/plain": [
       "  Symbol       signif\n",
       "1 LOC111116054 0     \n",
       "2 LOC111126949 0     \n",
       "3 LOC111110729 0     \n",
       "4 LOC111112434 0     \n",
       "5 LOC111120752 0     \n",
       "6 LOC111128944 0     "
      ]
     },
     "metadata": {},
     "output_type": "display_data"
    }
   ],
   "source": [
    "allGenes_HH <- read.csv('/project/pi_sarah_gignouxwolfsohn_uml_edu/julia/CE_MethylRAD_analysis_2018/analysis/deseq_res_files/geneFeatures_res/HH_vs_HC.csv')\n",
    "\n",
    "# select only gene id and continuous measure of change (log fold change)\n",
    "allGenes_HH_lfc <- select(allGenes_HH, X, log2FoldChange)\n",
    "\n",
    "colnames(allGenes_HH_lfc) <- c('Symbol', 'log2fc')\n",
    "\n",
    "head(allGenes_HH_lfc)\n",
    "\n",
    "# binary measure for significance\n",
    "allGenes_HH$significant <- ifelse(is.na(allGenes_HH$padj) | allGenes_HH$padj > 0.05, 0, 1)\n",
    "\n",
    "allGenes_HH_sig <- select(allGenes_HH, X, significant)\n",
    "colnames(allGenes_HH_sig) <- c('Symbol', 'signif')\n",
    "\n",
    "head(allGenes_HH_sig)"
   ]
  },
  {
   "cell_type": "code",
   "execution_count": 102,
   "id": "b852e10c-5bba-4fd2-9c65-ad91f6909d47",
   "metadata": {},
   "outputs": [],
   "source": [
    "write.csv(allGenes_HH_lfc, '/project/pi_sarah_gignouxwolfsohn_uml_edu/julia/CE_MethylRAD_analysis_2018/analysis/DMGs_analysis/go_mwu/allGenes_HH_lfc.csv', row.names=FALSE, quote = FALSE)"
   ]
  },
  {
   "cell_type": "code",
   "execution_count": 101,
   "id": "5706dd3c-8f10-44f6-bb59-08acf9276949",
   "metadata": {},
   "outputs": [],
   "source": [
    "write.csv(allGenes_HH_sig, '/project/pi_sarah_gignouxwolfsohn_uml_edu/julia/CE_MethylRAD_analysis_2018/analysis/DMGs_analysis/go_mwu/allGenes_HH_sig.csv', row.names=FALSE, quote=FALSE)"
   ]
  },
  {
   "cell_type": "markdown",
   "id": "8195623f-d712-46f4-9865-20a8052ec70c",
   "metadata": {},
   "source": [
    "#### GO_MWU.R\n",
    "\n",
    "**molecular function**"
   ]
  },
  {
   "cell_type": "code",
   "execution_count": 70,
   "id": "21be5797-2162-419c-ad53-56c95879492e",
   "metadata": {},
   "outputs": [],
   "source": [
    "# Edit these to match your data file names: \n",
    "input=\"allGenes_HH_lfc.csv\" # two columns of comma-separated values: gene id, continuous measure of significance. To perform standard GO enrichment analysis based on Fisher's exact test, use binary measure (0 or 1, i.e., either sgnificant or not).\n",
    "goAnnotations=\"allGenes2GO.tab\" # two-column, tab-delimited, one line per gene, multiple GO terms separated by semicolon. If you have multiple lines per gene, use nrify_GOtable.pl prior to running this script.\n",
    "goDatabase=\"go.obo\" # download from http://www.geneontology.org/GO.downloads.ontology.shtml\n",
    "goDivision=\"MF\" # either MF, or BP, or CC\n",
    "source(\"gomwu.functions.R\")\n"
   ]
  },
  {
   "cell_type": "code",
   "execution_count": 104,
   "id": "ef3f7651-a872-46cd-a55b-7bdb503be133",
   "metadata": {},
   "outputs": [
    {
     "name": "stdout",
     "output_type": "stream",
     "text": [
      "Continuous measure of interest: will perform MWU test\n"
     ]
    },
    {
     "name": "stderr",
     "output_type": "stream",
     "text": [
      "0 GO terms at 10% FDR\n",
      "\n"
     ]
    }
   ],
   "source": [
    "# Calculating stats. It might take ~3 min for MF and BP. Do not rerun it if you just want to replot the data with different cutoffs, go straight to gomwuPlot. If you change any of the numeric values below, delete the files that were generated in previos runs first.\n",
    "gomwuStats(input, goDatabase, goAnnotations, goDivision,\n",
    "           perlPath=\"perl\", # replace with full path to perl executable if it is not in your system's PATH already\n",
    "           largest=0.1,  # a GO category will not be considered if it contains more than this fraction of the total number of genes\n",
    "           smallest=5,   # a GO category should contain at least this many genes to be considered\n",
    "           clusterCutHeight=0.25) # threshold for merging similar (gene-sharing) terms. See README for details.\n",
    "# There are no GO term at 10% FDR"
   ]
  },
  {
   "cell_type": "code",
   "execution_count": 71,
   "id": "539c7476-925f-4cf1-9809-5849257a600c",
   "metadata": {},
   "outputs": [
    {
     "data": {
      "text/html": [
       "<table class=\"dataframe\">\n",
       "<caption>A data.frame: 6 × 7</caption>\n",
       "<thead>\n",
       "\t<tr><th></th><th scope=col>delta.rank</th><th scope=col>pval</th><th scope=col>level</th><th scope=col>nseqs</th><th scope=col>term</th><th scope=col>name</th><th scope=col>p.adj</th></tr>\n",
       "\t<tr><th></th><th scope=col>&lt;int&gt;</th><th scope=col>&lt;dbl&gt;</th><th scope=col>&lt;int&gt;</th><th scope=col>&lt;int&gt;</th><th scope=col>&lt;chr&gt;</th><th scope=col>&lt;chr&gt;</th><th scope=col>&lt;dbl&gt;</th></tr>\n",
       "</thead>\n",
       "<tbody>\n",
       "\t<tr><th scope=row>1</th><td>-1258</td><td>0.21320839</td><td>2</td><td> 5</td><td>GO:0000026                                 </td><td>alpha-1,2-mannosyltransferase activity</td><td>0.7602279</td></tr>\n",
       "\t<tr><th scope=row>2</th><td> -178</td><td>0.71876607</td><td>2</td><td>21</td><td>GO:0000030                                 </td><td>mannosyltransferase activity          </td><td>0.9697456</td></tr>\n",
       "\t<tr><th scope=row>3</th><td> -634</td><td>0.07278138</td><td>2</td><td>41</td><td>GO:0000049                                 </td><td>tRNA binding                          </td><td>0.5785622</td></tr>\n",
       "\t<tr><th scope=row>4</th><td>  628</td><td>0.43183942</td><td>6</td><td> 8</td><td>GO:0000062;GO:0120227;GO:1901567;GO:1901681</td><td>acyl-CoA binding                      </td><td>0.8914580</td></tr>\n",
       "\t<tr><th scope=row>5</th><td>-1446</td><td>0.05480457</td><td>3</td><td> 9</td><td>GO:0000146                                 </td><td>microfilament motor activity          </td><td>0.5515916</td></tr>\n",
       "\t<tr><th scope=row>6</th><td>  -32</td><td>0.93406410</td><td>2</td><td>34</td><td>GO:0000149                                 </td><td>SNARE binding                         </td><td>0.9801257</td></tr>\n",
       "</tbody>\n",
       "</table>\n"
      ],
      "text/latex": [
       "A data.frame: 6 × 7\n",
       "\\begin{tabular}{r|lllllll}\n",
       "  & delta.rank & pval & level & nseqs & term & name & p.adj\\\\\n",
       "  & <int> & <dbl> & <int> & <int> & <chr> & <chr> & <dbl>\\\\\n",
       "\\hline\n",
       "\t1 & -1258 & 0.21320839 & 2 &  5 & GO:0000026                                  & alpha-1,2-mannosyltransferase activity & 0.7602279\\\\\n",
       "\t2 &  -178 & 0.71876607 & 2 & 21 & GO:0000030                                  & mannosyltransferase activity           & 0.9697456\\\\\n",
       "\t3 &  -634 & 0.07278138 & 2 & 41 & GO:0000049                                  & tRNA binding                           & 0.5785622\\\\\n",
       "\t4 &   628 & 0.43183942 & 6 &  8 & GO:0000062;GO:0120227;GO:1901567;GO:1901681 & acyl-CoA binding                       & 0.8914580\\\\\n",
       "\t5 & -1446 & 0.05480457 & 3 &  9 & GO:0000146                                  & microfilament motor activity           & 0.5515916\\\\\n",
       "\t6 &   -32 & 0.93406410 & 2 & 34 & GO:0000149                                  & SNARE binding                          & 0.9801257\\\\\n",
       "\\end{tabular}\n"
      ],
      "text/markdown": [
       "\n",
       "A data.frame: 6 × 7\n",
       "\n",
       "| <!--/--> | delta.rank &lt;int&gt; | pval &lt;dbl&gt; | level &lt;int&gt; | nseqs &lt;int&gt; | term &lt;chr&gt; | name &lt;chr&gt; | p.adj &lt;dbl&gt; |\n",
       "|---|---|---|---|---|---|---|---|\n",
       "| 1 | -1258 | 0.21320839 | 2 |  5 | GO:0000026                                  | alpha-1,2-mannosyltransferase activity | 0.7602279 |\n",
       "| 2 |  -178 | 0.71876607 | 2 | 21 | GO:0000030                                  | mannosyltransferase activity           | 0.9697456 |\n",
       "| 3 |  -634 | 0.07278138 | 2 | 41 | GO:0000049                                  | tRNA binding                           | 0.5785622 |\n",
       "| 4 |   628 | 0.43183942 | 6 |  8 | GO:0000062;GO:0120227;GO:1901567;GO:1901681 | acyl-CoA binding                       | 0.8914580 |\n",
       "| 5 | -1446 | 0.05480457 | 3 |  9 | GO:0000146                                  | microfilament motor activity           | 0.5515916 |\n",
       "| 6 |   -32 | 0.93406410 | 2 | 34 | GO:0000149                                  | SNARE binding                          | 0.9801257 |\n",
       "\n"
      ],
      "text/plain": [
       "  delta.rank pval       level nseqs term                                       \n",
       "1 -1258      0.21320839 2      5    GO:0000026                                 \n",
       "2  -178      0.71876607 2     21    GO:0000030                                 \n",
       "3  -634      0.07278138 2     41    GO:0000049                                 \n",
       "4   628      0.43183942 6      8    GO:0000062;GO:0120227;GO:1901567;GO:1901681\n",
       "5 -1446      0.05480457 3      9    GO:0000146                                 \n",
       "6   -32      0.93406410 2     34    GO:0000149                                 \n",
       "  name                                   p.adj    \n",
       "1 alpha-1,2-mannosyltransferase activity 0.7602279\n",
       "2 mannosyltransferase activity           0.9697456\n",
       "3 tRNA binding                           0.5785622\n",
       "4 acyl-CoA binding                       0.8914580\n",
       "5 microfilament motor activity           0.5515916\n",
       "6 SNARE binding                          0.9801257"
      ]
     },
     "metadata": {},
     "output_type": "display_data"
    }
   ],
   "source": [
    "mwu_MF_hh <- read.csv('/project/pi_sarah_gignouxwolfsohn_uml_edu/julia/CE_MethylRAD_analysis_2018/analysis/DMGs_analysis/go_mwu/MWU_MF_allGenes_HH_lfc.csv', sep= ' ')\n",
    "head(mwu_MF_hh)"
   ]
  },
  {
   "cell_type": "code",
   "execution_count": 72,
   "id": "c9824fe0-2110-40fd-8fa1-ea4f58f8635d",
   "metadata": {},
   "outputs": [
    {
     "data": {
      "text/html": [
       "<table class=\"dataframe\">\n",
       "<caption>A data.frame: 0 × 7</caption>\n",
       "<thead>\n",
       "\t<tr><th scope=col>delta.rank</th><th scope=col>pval</th><th scope=col>level</th><th scope=col>nseqs</th><th scope=col>term</th><th scope=col>name</th><th scope=col>p.adj</th></tr>\n",
       "\t<tr><th scope=col>&lt;int&gt;</th><th scope=col>&lt;dbl&gt;</th><th scope=col>&lt;int&gt;</th><th scope=col>&lt;int&gt;</th><th scope=col>&lt;chr&gt;</th><th scope=col>&lt;chr&gt;</th><th scope=col>&lt;dbl&gt;</th></tr>\n",
       "</thead>\n",
       "<tbody>\n",
       "</tbody>\n",
       "</table>\n"
      ],
      "text/latex": [
       "A data.frame: 0 × 7\n",
       "\\begin{tabular}{lllllll}\n",
       " delta.rank & pval & level & nseqs & term & name & p.adj\\\\\n",
       " <int> & <dbl> & <int> & <int> & <chr> & <chr> & <dbl>\\\\\n",
       "\\hline\n",
       "\\end{tabular}\n"
      ],
      "text/markdown": [
       "\n",
       "A data.frame: 0 × 7\n",
       "\n",
       "| delta.rank &lt;int&gt; | pval &lt;dbl&gt; | level &lt;int&gt; | nseqs &lt;int&gt; | term &lt;chr&gt; | name &lt;chr&gt; | p.adj &lt;dbl&gt; |\n",
       "|---|---|---|---|---|---|---|\n",
       "\n"
      ],
      "text/plain": [
       "     delta.rank pval level nseqs term name p.adj"
      ]
     },
     "metadata": {},
     "output_type": "display_data"
    }
   ],
   "source": [
    "filter(mwu_MF_hh, mwu_MF_hh$p.adj < 0.05)"
   ]
  },
  {
   "cell_type": "markdown",
   "id": "cb093c15-30cf-4feb-82ff-8026ace91aa5",
   "metadata": {},
   "source": [
    "no significantly enriched GO terms for molecular function"
   ]
  },
  {
   "cell_type": "code",
   "execution_count": 73,
   "id": "d1ca01a3-31f0-440c-aa5c-f54666c6c900",
   "metadata": {},
   "outputs": [
    {
     "data": {
      "text/html": [
       "<table class=\"dataframe\">\n",
       "<caption>A data.frame: 3 × 7</caption>\n",
       "<thead>\n",
       "\t<tr><th scope=col>delta.rank</th><th scope=col>pval</th><th scope=col>level</th><th scope=col>nseqs</th><th scope=col>term</th><th scope=col>name</th><th scope=col>p.adj</th></tr>\n",
       "\t<tr><th scope=col>&lt;int&gt;</th><th scope=col>&lt;dbl&gt;</th><th scope=col>&lt;int&gt;</th><th scope=col>&lt;int&gt;</th><th scope=col>&lt;chr&gt;</th><th scope=col>&lt;chr&gt;</th><th scope=col>&lt;dbl&gt;</th></tr>\n",
       "</thead>\n",
       "<tbody>\n",
       "\t<tr><td>  60</td><td>0.7800027</td><td>1</td><td>111</td><td>GO:0005198</td><td>structural molecule activity    </td><td>0.9697456</td></tr>\n",
       "\t<tr><td> -21</td><td>0.8638150</td><td>1</td><td>346</td><td>GO:0098772</td><td>molecular function regulator    </td><td>0.9697456</td></tr>\n",
       "\t<tr><td>-181</td><td>0.2983625</td><td>1</td><td>172</td><td>GO:0140110</td><td>transcription regulator activity</td><td>0.8324050</td></tr>\n",
       "</tbody>\n",
       "</table>\n"
      ],
      "text/latex": [
       "A data.frame: 3 × 7\n",
       "\\begin{tabular}{lllllll}\n",
       " delta.rank & pval & level & nseqs & term & name & p.adj\\\\\n",
       " <int> & <dbl> & <int> & <int> & <chr> & <chr> & <dbl>\\\\\n",
       "\\hline\n",
       "\t   60 & 0.7800027 & 1 & 111 & GO:0005198 & structural molecule activity     & 0.9697456\\\\\n",
       "\t  -21 & 0.8638150 & 1 & 346 & GO:0098772 & molecular function regulator     & 0.9697456\\\\\n",
       "\t -181 & 0.2983625 & 1 & 172 & GO:0140110 & transcription regulator activity & 0.8324050\\\\\n",
       "\\end{tabular}\n"
      ],
      "text/markdown": [
       "\n",
       "A data.frame: 3 × 7\n",
       "\n",
       "| delta.rank &lt;int&gt; | pval &lt;dbl&gt; | level &lt;int&gt; | nseqs &lt;int&gt; | term &lt;chr&gt; | name &lt;chr&gt; | p.adj &lt;dbl&gt; |\n",
       "|---|---|---|---|---|---|---|\n",
       "|   60 | 0.7800027 | 1 | 111 | GO:0005198 | structural molecule activity     | 0.9697456 |\n",
       "|  -21 | 0.8638150 | 1 | 346 | GO:0098772 | molecular function regulator     | 0.9697456 |\n",
       "| -181 | 0.2983625 | 1 | 172 | GO:0140110 | transcription regulator activity | 0.8324050 |\n",
       "\n"
      ],
      "text/plain": [
       "  delta.rank pval      level nseqs term       name                            \n",
       "1   60       0.7800027 1     111   GO:0005198 structural molecule activity    \n",
       "2  -21       0.8638150 1     346   GO:0098772 molecular function regulator    \n",
       "3 -181       0.2983625 1     172   GO:0140110 transcription regulator activity\n",
       "  p.adj    \n",
       "1 0.9697456\n",
       "2 0.9697456\n",
       "3 0.8324050"
      ]
     },
     "metadata": {},
     "output_type": "display_data"
    }
   ],
   "source": [
    "filter(mwu_MF_hh, mwu_MF_hh$level == 1)"
   ]
  },
  {
   "cell_type": "markdown",
   "id": "0d1e5e5b-6eda-4010-8560-f884cd3ce405",
   "metadata": {},
   "source": [
    "**biological process**"
   ]
  },
  {
   "cell_type": "code",
   "execution_count": 74,
   "id": "01f1e7f8-5068-4476-9e19-45d3aadd7f4f",
   "metadata": {},
   "outputs": [],
   "source": [
    "# Edit these to match your data file names: \n",
    "input=\"allGenes_HH_lfc.csv\" # two columns of comma-separated values: gene id, continuous measure of significance. To perform standard GO enrichment analysis based on Fisher's exact test, use binary measure (0 or 1, i.e., either sgnificant or not).\n",
    "goAnnotations=\"allGenes2GO.tab\" # two-column, tab-delimited, one line per gene, multiple GO terms separated by semicolon. If you have multiple lines per gene, use nrify_GOtable.pl prior to running this script.\n",
    "goDatabase=\"go.obo\" # download from http://www.geneontology.org/GO.downloads.ontology.shtml\n",
    "goDivision=\"BP\" # either MF, or BP, or CC\n",
    "source(\"gomwu.functions.R\")\n"
   ]
  },
  {
   "cell_type": "code",
   "execution_count": 108,
   "id": "4652a231-8d48-4d14-87c3-dd2dd477c983",
   "metadata": {},
   "outputs": [
    {
     "name": "stdout",
     "output_type": "stream",
     "text": [
      "Continuous measure of interest: will perform MWU test\n"
     ]
    },
    {
     "name": "stderr",
     "output_type": "stream",
     "text": [
      "0 GO terms at 10% FDR\n",
      "\n"
     ]
    }
   ],
   "source": [
    "# Calculating stats. It might take ~3 min for MF and BP. Do not rerun it if you just want to replot the data with different cutoffs, go straight to gomwuPlot. If you change any of the numeric values below, delete the files that were generated in previos runs first.\n",
    "gomwuStats(input, goDatabase, goAnnotations, goDivision,\n",
    "           perlPath=\"perl\", # replace with full path to perl executable if it is not in your system's PATH already\n",
    "           largest=0.1,  # a GO category will not be considered if it contains more than this fraction of the total number of genes\n",
    "           smallest=5,   # a GO category should contain at least this many genes to be considered\n",
    "           clusterCutHeight=0.25) # threshold for merging similar (gene-sharing) terms. See README for details.\n",
    "# There are no GO term at 10% FDR"
   ]
  },
  {
   "cell_type": "code",
   "execution_count": 75,
   "id": "341fb024-a6ad-4010-8754-a89e66bd113c",
   "metadata": {},
   "outputs": [
    {
     "data": {
      "text/html": [
       "<table class=\"dataframe\">\n",
       "<caption>A data.frame: 6 × 7</caption>\n",
       "<thead>\n",
       "\t<tr><th></th><th scope=col>delta.rank</th><th scope=col>pval</th><th scope=col>level</th><th scope=col>nseqs</th><th scope=col>term</th><th scope=col>name</th><th scope=col>p.adj</th></tr>\n",
       "\t<tr><th></th><th scope=col>&lt;int&gt;</th><th scope=col>&lt;dbl&gt;</th><th scope=col>&lt;int&gt;</th><th scope=col>&lt;int&gt;</th><th scope=col>&lt;chr&gt;</th><th scope=col>&lt;chr&gt;</th><th scope=col>&lt;dbl&gt;</th></tr>\n",
       "</thead>\n",
       "<tbody>\n",
       "\t<tr><th scope=row>1</th><td> -82</td><td>0.72222335</td><td>2</td><td> 6</td><td>GO:0000012                                                       </td><td>single strand break repair                 </td><td>0.9519533</td></tr>\n",
       "\t<tr><th scope=row>2</th><td>-101</td><td>0.44475592</td><td>7</td><td>18</td><td>GO:0000027                                                       </td><td>ribosomal large subunit assembly           </td><td>0.9512008</td></tr>\n",
       "\t<tr><th scope=row>3</th><td> 303</td><td>0.08829177</td><td>3</td><td>10</td><td>GO:0000028                                                       </td><td>ribosomal small subunit assembly           </td><td>0.5567287</td></tr>\n",
       "\t<tr><th scope=row>4</th><td> -47</td><td>0.59043612</td><td>2</td><td>42</td><td>GO:0000045;GO:0070925;GO:1905037;GO:0007033                      </td><td>organelle assembly                         </td><td>0.9512008</td></tr>\n",
       "\t<tr><th scope=row>5</th><td>  75</td><td>0.64263966</td><td>6</td><td>12</td><td>GO:0000054;GO:0033750;GO:0071428;GO:0071426;GO:0006611;GO:0031503</td><td>protein export from nucleus                </td><td>0.9512008</td></tr>\n",
       "\t<tr><th scope=row>6</th><td>-265</td><td>0.24702006</td><td>2</td><td> 6</td><td>GO:0000055                                                       </td><td>ribosomal large subunit export from nucleus</td><td>0.8012410</td></tr>\n",
       "</tbody>\n",
       "</table>\n"
      ],
      "text/latex": [
       "A data.frame: 6 × 7\n",
       "\\begin{tabular}{r|lllllll}\n",
       "  & delta.rank & pval & level & nseqs & term & name & p.adj\\\\\n",
       "  & <int> & <dbl> & <int> & <int> & <chr> & <chr> & <dbl>\\\\\n",
       "\\hline\n",
       "\t1 &  -82 & 0.72222335 & 2 &  6 & GO:0000012                                                        & single strand break repair                  & 0.9519533\\\\\n",
       "\t2 & -101 & 0.44475592 & 7 & 18 & GO:0000027                                                        & ribosomal large subunit assembly            & 0.9512008\\\\\n",
       "\t3 &  303 & 0.08829177 & 3 & 10 & GO:0000028                                                        & ribosomal small subunit assembly            & 0.5567287\\\\\n",
       "\t4 &  -47 & 0.59043612 & 2 & 42 & GO:0000045;GO:0070925;GO:1905037;GO:0007033                       & organelle assembly                          & 0.9512008\\\\\n",
       "\t5 &   75 & 0.64263966 & 6 & 12 & GO:0000054;GO:0033750;GO:0071428;GO:0071426;GO:0006611;GO:0031503 & protein export from nucleus                 & 0.9512008\\\\\n",
       "\t6 & -265 & 0.24702006 & 2 &  6 & GO:0000055                                                        & ribosomal large subunit export from nucleus & 0.8012410\\\\\n",
       "\\end{tabular}\n"
      ],
      "text/markdown": [
       "\n",
       "A data.frame: 6 × 7\n",
       "\n",
       "| <!--/--> | delta.rank &lt;int&gt; | pval &lt;dbl&gt; | level &lt;int&gt; | nseqs &lt;int&gt; | term &lt;chr&gt; | name &lt;chr&gt; | p.adj &lt;dbl&gt; |\n",
       "|---|---|---|---|---|---|---|---|\n",
       "| 1 |  -82 | 0.72222335 | 2 |  6 | GO:0000012                                                        | single strand break repair                  | 0.9519533 |\n",
       "| 2 | -101 | 0.44475592 | 7 | 18 | GO:0000027                                                        | ribosomal large subunit assembly            | 0.9512008 |\n",
       "| 3 |  303 | 0.08829177 | 3 | 10 | GO:0000028                                                        | ribosomal small subunit assembly            | 0.5567287 |\n",
       "| 4 |  -47 | 0.59043612 | 2 | 42 | GO:0000045;GO:0070925;GO:1905037;GO:0007033                       | organelle assembly                          | 0.9512008 |\n",
       "| 5 |   75 | 0.64263966 | 6 | 12 | GO:0000054;GO:0033750;GO:0071428;GO:0071426;GO:0006611;GO:0031503 | protein export from nucleus                 | 0.9512008 |\n",
       "| 6 | -265 | 0.24702006 | 2 |  6 | GO:0000055                                                        | ribosomal large subunit export from nucleus | 0.8012410 |\n",
       "\n"
      ],
      "text/plain": [
       "  delta.rank pval       level nseqs\n",
       "1  -82       0.72222335 2      6   \n",
       "2 -101       0.44475592 7     18   \n",
       "3  303       0.08829177 3     10   \n",
       "4  -47       0.59043612 2     42   \n",
       "5   75       0.64263966 6     12   \n",
       "6 -265       0.24702006 2      6   \n",
       "  term                                                             \n",
       "1 GO:0000012                                                       \n",
       "2 GO:0000027                                                       \n",
       "3 GO:0000028                                                       \n",
       "4 GO:0000045;GO:0070925;GO:1905037;GO:0007033                      \n",
       "5 GO:0000054;GO:0033750;GO:0071428;GO:0071426;GO:0006611;GO:0031503\n",
       "6 GO:0000055                                                       \n",
       "  name                                        p.adj    \n",
       "1 single strand break repair                  0.9519533\n",
       "2 ribosomal large subunit assembly            0.9512008\n",
       "3 ribosomal small subunit assembly            0.5567287\n",
       "4 organelle assembly                          0.9512008\n",
       "5 protein export from nucleus                 0.9512008\n",
       "6 ribosomal large subunit export from nucleus 0.8012410"
      ]
     },
     "metadata": {},
     "output_type": "display_data"
    }
   ],
   "source": [
    "mwu_BP_hh <- read.csv('/project/pi_sarah_gignouxwolfsohn_uml_edu/julia/CE_MethylRAD_analysis_2018/analysis/DMGs_analysis/go_mwu/MWU_BP_allGenes_HH_lfc.csv', sep= ' ')\n",
    "head(mwu_BP_hh)"
   ]
  },
  {
   "cell_type": "code",
   "execution_count": 110,
   "id": "5dcce925-94b8-40b4-931a-28c8dfb70265",
   "metadata": {},
   "outputs": [
    {
     "data": {
      "text/html": [
       "<table class=\"dataframe\">\n",
       "<caption>A data.frame: 0 × 7</caption>\n",
       "<thead>\n",
       "\t<tr><th scope=col>delta.rank</th><th scope=col>pval</th><th scope=col>level</th><th scope=col>nseqs</th><th scope=col>term</th><th scope=col>name</th><th scope=col>p.adj</th></tr>\n",
       "\t<tr><th scope=col>&lt;int&gt;</th><th scope=col>&lt;dbl&gt;</th><th scope=col>&lt;int&gt;</th><th scope=col>&lt;int&gt;</th><th scope=col>&lt;chr&gt;</th><th scope=col>&lt;chr&gt;</th><th scope=col>&lt;dbl&gt;</th></tr>\n",
       "</thead>\n",
       "<tbody>\n",
       "</tbody>\n",
       "</table>\n"
      ],
      "text/latex": [
       "A data.frame: 0 × 7\n",
       "\\begin{tabular}{lllllll}\n",
       " delta.rank & pval & level & nseqs & term & name & p.adj\\\\\n",
       " <int> & <dbl> & <int> & <int> & <chr> & <chr> & <dbl>\\\\\n",
       "\\hline\n",
       "\\end{tabular}\n"
      ],
      "text/markdown": [
       "\n",
       "A data.frame: 0 × 7\n",
       "\n",
       "| delta.rank &lt;int&gt; | pval &lt;dbl&gt; | level &lt;int&gt; | nseqs &lt;int&gt; | term &lt;chr&gt; | name &lt;chr&gt; | p.adj &lt;dbl&gt; |\n",
       "|---|---|---|---|---|---|---|\n",
       "\n"
      ],
      "text/plain": [
       "     delta.rank pval level nseqs term name p.adj"
      ]
     },
     "metadata": {},
     "output_type": "display_data"
    }
   ],
   "source": [
    "filter(mwu_BP_hh, mwu_BP_hh$p.adj < 0.05)"
   ]
  },
  {
   "cell_type": "markdown",
   "id": "9662138e-b087-408e-8421-a2ee7aa8ba45",
   "metadata": {},
   "source": [
    "no significantly enriched GO terms for biological processes"
   ]
  },
  {
   "cell_type": "code",
   "execution_count": 81,
   "id": "9b452cb6-0fe4-4fc5-8c5e-a7ee4bbf4cb7",
   "metadata": {},
   "outputs": [
    {
     "data": {
      "text/html": [
       "<table class=\"dataframe\">\n",
       "<caption>A data.frame: 3 × 7</caption>\n",
       "<thead>\n",
       "\t<tr><th scope=col>delta.rank</th><th scope=col>pval</th><th scope=col>level</th><th scope=col>nseqs</th><th scope=col>term</th><th scope=col>name</th><th scope=col>p.adj</th></tr>\n",
       "\t<tr><th scope=col>&lt;int&gt;</th><th scope=col>&lt;dbl&gt;</th><th scope=col>&lt;int&gt;</th><th scope=col>&lt;int&gt;</th><th scope=col>&lt;chr&gt;</th><th scope=col>&lt;chr&gt;</th><th scope=col>&lt;dbl&gt;</th></tr>\n",
       "</thead>\n",
       "<tbody>\n",
       "\t<tr><td> -78</td><td>0.4661730</td><td>1</td><td>28</td><td>GO:0022414</td><td>reproductive process            </td><td>0.9512008</td></tr>\n",
       "\t<tr><td> -59</td><td>0.6238311</td><td>1</td><td>22</td><td>GO:0032501</td><td>multicellular organismal process</td><td>0.9512008</td></tr>\n",
       "\t<tr><td>-113</td><td>0.1640609</td><td>1</td><td>49</td><td>GO:0032502</td><td>developmental process           </td><td>0.7448365</td></tr>\n",
       "</tbody>\n",
       "</table>\n"
      ],
      "text/latex": [
       "A data.frame: 3 × 7\n",
       "\\begin{tabular}{lllllll}\n",
       " delta.rank & pval & level & nseqs & term & name & p.adj\\\\\n",
       " <int> & <dbl> & <int> & <int> & <chr> & <chr> & <dbl>\\\\\n",
       "\\hline\n",
       "\t  -78 & 0.4661730 & 1 & 28 & GO:0022414 & reproductive process             & 0.9512008\\\\\n",
       "\t  -59 & 0.6238311 & 1 & 22 & GO:0032501 & multicellular organismal process & 0.9512008\\\\\n",
       "\t -113 & 0.1640609 & 1 & 49 & GO:0032502 & developmental process            & 0.7448365\\\\\n",
       "\\end{tabular}\n"
      ],
      "text/markdown": [
       "\n",
       "A data.frame: 3 × 7\n",
       "\n",
       "| delta.rank &lt;int&gt; | pval &lt;dbl&gt; | level &lt;int&gt; | nseqs &lt;int&gt; | term &lt;chr&gt; | name &lt;chr&gt; | p.adj &lt;dbl&gt; |\n",
       "|---|---|---|---|---|---|---|\n",
       "|  -78 | 0.4661730 | 1 | 28 | GO:0022414 | reproductive process             | 0.9512008 |\n",
       "|  -59 | 0.6238311 | 1 | 22 | GO:0032501 | multicellular organismal process | 0.9512008 |\n",
       "| -113 | 0.1640609 | 1 | 49 | GO:0032502 | developmental process            | 0.7448365 |\n",
       "\n"
      ],
      "text/plain": [
       "  delta.rank pval      level nseqs term       name                            \n",
       "1  -78       0.4661730 1     28    GO:0022414 reproductive process            \n",
       "2  -59       0.6238311 1     22    GO:0032501 multicellular organismal process\n",
       "3 -113       0.1640609 1     49    GO:0032502 developmental process           \n",
       "  p.adj    \n",
       "1 0.9512008\n",
       "2 0.9512008\n",
       "3 0.7448365"
      ]
     },
     "metadata": {},
     "output_type": "display_data"
    },
    {
     "data": {
      "text/html": [
       "<table class=\"dataframe\">\n",
       "<caption>A data.frame: 20 × 7</caption>\n",
       "<thead>\n",
       "\t<tr><th></th><th scope=col>delta.rank</th><th scope=col>pval</th><th scope=col>level</th><th scope=col>nseqs</th><th scope=col>term</th><th scope=col>name</th><th scope=col>p.adj</th></tr>\n",
       "\t<tr><th></th><th scope=col>&lt;int&gt;</th><th scope=col>&lt;dbl&gt;</th><th scope=col>&lt;int&gt;</th><th scope=col>&lt;int&gt;</th><th scope=col>&lt;chr&gt;</th><th scope=col>&lt;chr&gt;</th><th scope=col>&lt;dbl&gt;</th></tr>\n",
       "</thead>\n",
       "<tbody>\n",
       "\t<tr><th scope=row>87</th><td> 474</td><td>0.01146411</td><td>2</td><td>  9</td><td>GO:0055082;GO:0048878                                 </td><td>chemical homeostasis                                                                </td><td>0.3664237</td></tr>\n",
       "\t<tr><th scope=row>7</th><td> 326</td><td>0.02509634</td><td>2</td><td> 15</td><td>GO:0000289                                            </td><td>nuclear-transcribed mRNA poly(A) tail shortening                                    </td><td>0.4240095</td></tr>\n",
       "\t<tr><th scope=row>79</th><td>-434</td><td>0.02061801</td><td>2</td><td>  9</td><td>GO:0048856                                            </td><td>anatomical structure development                                                    </td><td>0.4240095</td></tr>\n",
       "\t<tr><th scope=row>88</th><td> 225</td><td>0.02458523</td><td>2</td><td> 32</td><td>GO:0065009;GO:0050790                                 </td><td>regulation of catalytic activity                                                    </td><td>0.4240095</td></tr>\n",
       "\t<tr><th scope=row>13</th><td> 466</td><td>0.06334706</td><td>2</td><td>  5</td><td>GO:0000972                                            </td><td>transcription-dependent tethering of RNA polymerase II gene DNA at nuclear periphery</td><td>0.5135637</td></tr>\n",
       "\t<tr><th scope=row>39</th><td>-384</td><td>0.04044699</td><td>2</td><td>  9</td><td>GO:0007154                                            </td><td>cell communication                                                                  </td><td>0.5135637</td></tr>\n",
       "\t<tr><th scope=row>83</th><td> 381</td><td>0.05535846</td><td>2</td><td>  8</td><td>GO:0051336                                            </td><td>regulation of hydrolase activity                                                    </td><td>0.5135637</td></tr>\n",
       "\t<tr><th scope=row>89</th><td> 220</td><td>0.04717279</td><td>2</td><td> 26</td><td>GO:1901137;GO:1901135                                 </td><td>carbohydrate derivative metabolic process                                           </td><td>0.5135637</td></tr>\n",
       "\t<tr><th scope=row>8</th><td>-217</td><td>0.07099629</td><td>2</td><td> 22</td><td>GO:0000387                                            </td><td>spliceosomal snRNP assembly                                                         </td><td>0.5525695</td></tr>\n",
       "\t<tr><th scope=row>94</th><td>-161</td><td>0.07302680</td><td>2</td><td> 40</td><td>GO:1903047                                            </td><td>mitotic cell cycle process                                                          </td><td>0.5525695</td></tr>\n",
       "\t<tr><th scope=row>55</th><td> -86</td><td>0.08027129</td><td>2</td><td>139</td><td>GO:0022607                                            </td><td>cellular component assembly                                                         </td><td>0.5529875</td></tr>\n",
       "\t<tr><th scope=row>56</th><td> -98</td><td>0.08039025</td><td>2</td><td>105</td><td>GO:0022618;GO:0034622;GO:0071826;GO:0065003;GO:0043933</td><td>protein-containing complex subunit organization                                     </td><td>0.5529875</td></tr>\n",
       "\t<tr><th scope=row>32</th><td>-150</td><td>0.09466615</td><td>2</td><td> 40</td><td>GO:0006928                                            </td><td>movement of cell or subcellular component                                           </td><td>0.5807896</td></tr>\n",
       "\t<tr><th scope=row>53</th><td>-120</td><td>0.10230645</td><td>2</td><td> 60</td><td>GO:0022402                                            </td><td>cell cycle process                                                                  </td><td>0.5919032</td></tr>\n",
       "\t<tr><th scope=row>81</th><td>-408</td><td>0.10430012</td><td>2</td><td>  5</td><td>GO:0051049                                            </td><td>regulation of transport                                                             </td><td>0.5919032</td></tr>\n",
       "\t<tr><th scope=row>44</th><td> 157</td><td>0.15516460</td><td>2</td><td> 26</td><td>GO:0008033;GO:0006399                                 </td><td>tRNA processing                                                                     </td><td>0.7337993</td></tr>\n",
       "\t<tr><th scope=row>45</th><td> 182</td><td>0.15955010</td><td>2</td><td> 19</td><td>GO:0008610                                            </td><td>lipid biosynthetic process                                                          </td><td>0.7391403</td></tr>\n",
       "\t<tr><th scope=row>24</th><td>-346</td><td>0.16857768</td><td>2</td><td>  5</td><td>GO:0006575                                            </td><td>cellular modified amino acid metabolic process                                      </td><td>0.7503360</td></tr>\n",
       "\t<tr><th scope=row>21</th><td>  88</td><td>0.19620142</td><td>2</td><td> 70</td><td>GO:0006486;GO:0043413;GO:0070085                      </td><td>protein glycosylation                                                               </td><td>0.7865277</td></tr>\n",
       "\t<tr><th scope=row>47</th><td> 106</td><td>0.18989099</td><td>2</td><td> 49</td><td>GO:0009059                                            </td><td>macromolecule biosynthetic process                                                  </td><td>0.7865277</td></tr>\n",
       "</tbody>\n",
       "</table>\n"
      ],
      "text/latex": [
       "A data.frame: 20 × 7\n",
       "\\begin{tabular}{r|lllllll}\n",
       "  & delta.rank & pval & level & nseqs & term & name & p.adj\\\\\n",
       "  & <int> & <dbl> & <int> & <int> & <chr> & <chr> & <dbl>\\\\\n",
       "\\hline\n",
       "\t87 &  474 & 0.01146411 & 2 &   9 & GO:0055082;GO:0048878                                  & chemical homeostasis                                                                 & 0.3664237\\\\\n",
       "\t7 &  326 & 0.02509634 & 2 &  15 & GO:0000289                                             & nuclear-transcribed mRNA poly(A) tail shortening                                     & 0.4240095\\\\\n",
       "\t79 & -434 & 0.02061801 & 2 &   9 & GO:0048856                                             & anatomical structure development                                                     & 0.4240095\\\\\n",
       "\t88 &  225 & 0.02458523 & 2 &  32 & GO:0065009;GO:0050790                                  & regulation of catalytic activity                                                     & 0.4240095\\\\\n",
       "\t13 &  466 & 0.06334706 & 2 &   5 & GO:0000972                                             & transcription-dependent tethering of RNA polymerase II gene DNA at nuclear periphery & 0.5135637\\\\\n",
       "\t39 & -384 & 0.04044699 & 2 &   9 & GO:0007154                                             & cell communication                                                                   & 0.5135637\\\\\n",
       "\t83 &  381 & 0.05535846 & 2 &   8 & GO:0051336                                             & regulation of hydrolase activity                                                     & 0.5135637\\\\\n",
       "\t89 &  220 & 0.04717279 & 2 &  26 & GO:1901137;GO:1901135                                  & carbohydrate derivative metabolic process                                            & 0.5135637\\\\\n",
       "\t8 & -217 & 0.07099629 & 2 &  22 & GO:0000387                                             & spliceosomal snRNP assembly                                                          & 0.5525695\\\\\n",
       "\t94 & -161 & 0.07302680 & 2 &  40 & GO:1903047                                             & mitotic cell cycle process                                                           & 0.5525695\\\\\n",
       "\t55 &  -86 & 0.08027129 & 2 & 139 & GO:0022607                                             & cellular component assembly                                                          & 0.5529875\\\\\n",
       "\t56 &  -98 & 0.08039025 & 2 & 105 & GO:0022618;GO:0034622;GO:0071826;GO:0065003;GO:0043933 & protein-containing complex subunit organization                                      & 0.5529875\\\\\n",
       "\t32 & -150 & 0.09466615 & 2 &  40 & GO:0006928                                             & movement of cell or subcellular component                                            & 0.5807896\\\\\n",
       "\t53 & -120 & 0.10230645 & 2 &  60 & GO:0022402                                             & cell cycle process                                                                   & 0.5919032\\\\\n",
       "\t81 & -408 & 0.10430012 & 2 &   5 & GO:0051049                                             & regulation of transport                                                              & 0.5919032\\\\\n",
       "\t44 &  157 & 0.15516460 & 2 &  26 & GO:0008033;GO:0006399                                  & tRNA processing                                                                      & 0.7337993\\\\\n",
       "\t45 &  182 & 0.15955010 & 2 &  19 & GO:0008610                                             & lipid biosynthetic process                                                           & 0.7391403\\\\\n",
       "\t24 & -346 & 0.16857768 & 2 &   5 & GO:0006575                                             & cellular modified amino acid metabolic process                                       & 0.7503360\\\\\n",
       "\t21 &   88 & 0.19620142 & 2 &  70 & GO:0006486;GO:0043413;GO:0070085                       & protein glycosylation                                                                & 0.7865277\\\\\n",
       "\t47 &  106 & 0.18989099 & 2 &  49 & GO:0009059                                             & macromolecule biosynthetic process                                                   & 0.7865277\\\\\n",
       "\\end{tabular}\n"
      ],
      "text/markdown": [
       "\n",
       "A data.frame: 20 × 7\n",
       "\n",
       "| <!--/--> | delta.rank &lt;int&gt; | pval &lt;dbl&gt; | level &lt;int&gt; | nseqs &lt;int&gt; | term &lt;chr&gt; | name &lt;chr&gt; | p.adj &lt;dbl&gt; |\n",
       "|---|---|---|---|---|---|---|---|\n",
       "| 87 |  474 | 0.01146411 | 2 |   9 | GO:0055082;GO:0048878                                  | chemical homeostasis                                                                 | 0.3664237 |\n",
       "| 7 |  326 | 0.02509634 | 2 |  15 | GO:0000289                                             | nuclear-transcribed mRNA poly(A) tail shortening                                     | 0.4240095 |\n",
       "| 79 | -434 | 0.02061801 | 2 |   9 | GO:0048856                                             | anatomical structure development                                                     | 0.4240095 |\n",
       "| 88 |  225 | 0.02458523 | 2 |  32 | GO:0065009;GO:0050790                                  | regulation of catalytic activity                                                     | 0.4240095 |\n",
       "| 13 |  466 | 0.06334706 | 2 |   5 | GO:0000972                                             | transcription-dependent tethering of RNA polymerase II gene DNA at nuclear periphery | 0.5135637 |\n",
       "| 39 | -384 | 0.04044699 | 2 |   9 | GO:0007154                                             | cell communication                                                                   | 0.5135637 |\n",
       "| 83 |  381 | 0.05535846 | 2 |   8 | GO:0051336                                             | regulation of hydrolase activity                                                     | 0.5135637 |\n",
       "| 89 |  220 | 0.04717279 | 2 |  26 | GO:1901137;GO:1901135                                  | carbohydrate derivative metabolic process                                            | 0.5135637 |\n",
       "| 8 | -217 | 0.07099629 | 2 |  22 | GO:0000387                                             | spliceosomal snRNP assembly                                                          | 0.5525695 |\n",
       "| 94 | -161 | 0.07302680 | 2 |  40 | GO:1903047                                             | mitotic cell cycle process                                                           | 0.5525695 |\n",
       "| 55 |  -86 | 0.08027129 | 2 | 139 | GO:0022607                                             | cellular component assembly                                                          | 0.5529875 |\n",
       "| 56 |  -98 | 0.08039025 | 2 | 105 | GO:0022618;GO:0034622;GO:0071826;GO:0065003;GO:0043933 | protein-containing complex subunit organization                                      | 0.5529875 |\n",
       "| 32 | -150 | 0.09466615 | 2 |  40 | GO:0006928                                             | movement of cell or subcellular component                                            | 0.5807896 |\n",
       "| 53 | -120 | 0.10230645 | 2 |  60 | GO:0022402                                             | cell cycle process                                                                   | 0.5919032 |\n",
       "| 81 | -408 | 0.10430012 | 2 |   5 | GO:0051049                                             | regulation of transport                                                              | 0.5919032 |\n",
       "| 44 |  157 | 0.15516460 | 2 |  26 | GO:0008033;GO:0006399                                  | tRNA processing                                                                      | 0.7337993 |\n",
       "| 45 |  182 | 0.15955010 | 2 |  19 | GO:0008610                                             | lipid biosynthetic process                                                           | 0.7391403 |\n",
       "| 24 | -346 | 0.16857768 | 2 |   5 | GO:0006575                                             | cellular modified amino acid metabolic process                                       | 0.7503360 |\n",
       "| 21 |   88 | 0.19620142 | 2 |  70 | GO:0006486;GO:0043413;GO:0070085                       | protein glycosylation                                                                | 0.7865277 |\n",
       "| 47 |  106 | 0.18989099 | 2 |  49 | GO:0009059                                             | macromolecule biosynthetic process                                                   | 0.7865277 |\n",
       "\n"
      ],
      "text/plain": [
       "   delta.rank pval       level nseqs\n",
       "87  474       0.01146411 2       9  \n",
       "7   326       0.02509634 2      15  \n",
       "79 -434       0.02061801 2       9  \n",
       "88  225       0.02458523 2      32  \n",
       "13  466       0.06334706 2       5  \n",
       "39 -384       0.04044699 2       9  \n",
       "83  381       0.05535846 2       8  \n",
       "89  220       0.04717279 2      26  \n",
       "8  -217       0.07099629 2      22  \n",
       "94 -161       0.07302680 2      40  \n",
       "55  -86       0.08027129 2     139  \n",
       "56  -98       0.08039025 2     105  \n",
       "32 -150       0.09466615 2      40  \n",
       "53 -120       0.10230645 2      60  \n",
       "81 -408       0.10430012 2       5  \n",
       "44  157       0.15516460 2      26  \n",
       "45  182       0.15955010 2      19  \n",
       "24 -346       0.16857768 2       5  \n",
       "21   88       0.19620142 2      70  \n",
       "47  106       0.18989099 2      49  \n",
       "   term                                                  \n",
       "87 GO:0055082;GO:0048878                                 \n",
       "7  GO:0000289                                            \n",
       "79 GO:0048856                                            \n",
       "88 GO:0065009;GO:0050790                                 \n",
       "13 GO:0000972                                            \n",
       "39 GO:0007154                                            \n",
       "83 GO:0051336                                            \n",
       "89 GO:1901137;GO:1901135                                 \n",
       "8  GO:0000387                                            \n",
       "94 GO:1903047                                            \n",
       "55 GO:0022607                                            \n",
       "56 GO:0022618;GO:0034622;GO:0071826;GO:0065003;GO:0043933\n",
       "32 GO:0006928                                            \n",
       "53 GO:0022402                                            \n",
       "81 GO:0051049                                            \n",
       "44 GO:0008033;GO:0006399                                 \n",
       "45 GO:0008610                                            \n",
       "24 GO:0006575                                            \n",
       "21 GO:0006486;GO:0043413;GO:0070085                      \n",
       "47 GO:0009059                                            \n",
       "   name                                                                                \n",
       "87 chemical homeostasis                                                                \n",
       "7  nuclear-transcribed mRNA poly(A) tail shortening                                    \n",
       "79 anatomical structure development                                                    \n",
       "88 regulation of catalytic activity                                                    \n",
       "13 transcription-dependent tethering of RNA polymerase II gene DNA at nuclear periphery\n",
       "39 cell communication                                                                  \n",
       "83 regulation of hydrolase activity                                                    \n",
       "89 carbohydrate derivative metabolic process                                           \n",
       "8  spliceosomal snRNP assembly                                                         \n",
       "94 mitotic cell cycle process                                                          \n",
       "55 cellular component assembly                                                         \n",
       "56 protein-containing complex subunit organization                                     \n",
       "32 movement of cell or subcellular component                                           \n",
       "53 cell cycle process                                                                  \n",
       "81 regulation of transport                                                             \n",
       "44 tRNA processing                                                                     \n",
       "45 lipid biosynthetic process                                                          \n",
       "24 cellular modified amino acid metabolic process                                      \n",
       "21 protein glycosylation                                                               \n",
       "47 macromolecule biosynthetic process                                                  \n",
       "   p.adj    \n",
       "87 0.3664237\n",
       "7  0.4240095\n",
       "79 0.4240095\n",
       "88 0.4240095\n",
       "13 0.5135637\n",
       "39 0.5135637\n",
       "83 0.5135637\n",
       "89 0.5135637\n",
       "8  0.5525695\n",
       "94 0.5525695\n",
       "55 0.5529875\n",
       "56 0.5529875\n",
       "32 0.5807896\n",
       "53 0.5919032\n",
       "81 0.5919032\n",
       "44 0.7337993\n",
       "45 0.7391403\n",
       "24 0.7503360\n",
       "21 0.7865277\n",
       "47 0.7865277"
      ]
     },
     "metadata": {},
     "output_type": "display_data"
    }
   ],
   "source": [
    "filter(mwu_BP_hh, mwu_BP_hh$level == 1)\n",
    "\n",
    "l2_BPhh <- filter(mwu_BP_hh, mwu_BP_hh$level == 2)\n",
    "head(l2_BPhh[order(l2_BPhh$p.adj),], 20)"
   ]
  },
  {
   "cell_type": "code",
   "execution_count": 90,
   "id": "bd6416b9-f4f6-43be-9da3-30ebc14031f4",
   "metadata": {},
   "outputs": [
    {
     "data": {
      "text/html": [
       "<table class=\"dataframe\">\n",
       "<caption>A data.frame: 20 × 7</caption>\n",
       "<thead>\n",
       "\t<tr><th></th><th scope=col>delta.rank</th><th scope=col>pval</th><th scope=col>level</th><th scope=col>nseqs</th><th scope=col>term</th><th scope=col>name</th><th scope=col>p.adj</th></tr>\n",
       "\t<tr><th></th><th scope=col>&lt;int&gt;</th><th scope=col>&lt;dbl&gt;</th><th scope=col>&lt;int&gt;</th><th scope=col>&lt;int&gt;</th><th scope=col>&lt;chr&gt;</th><th scope=col>&lt;chr&gt;</th><th scope=col>&lt;dbl&gt;</th></tr>\n",
       "</thead>\n",
       "<tbody>\n",
       "\t<tr><th scope=row>35</th><td>-526</td><td>0.003107508</td><td>7</td><td> 10</td><td>GO:0000491                                                       </td><td>small nucleolar ribonucleoprotein complex assembly                                  </td><td>0.3357777</td></tr>\n",
       "\t<tr><th scope=row>36</th><td>-592</td><td>0.005287969</td><td>8</td><td>  7</td><td>GO:0000492                                                       </td><td>box C/D snoRNP assembly                                                             </td><td>0.3357777</td></tr>\n",
       "\t<tr><th scope=row>51</th><td>-578</td><td>0.006500247</td><td>4</td><td>  7</td><td>GO:0001934;GO:0031401;GO:0042327;GO:0045937;GO:0010562           </td><td>positive regulation of protein phosphorylation                                      </td><td>0.3357777</td></tr>\n",
       "\t<tr><th scope=row>86</th><td> 762</td><td>0.002407875</td><td>4</td><td>  5</td><td>GO:0006664;GO:1903509;GO:0009247;GO:0046467                      </td><td>glycolipid metabolic process                                                        </td><td>0.3357777</td></tr>\n",
       "\t<tr><th scope=row>158</th><td>-454</td><td>0.007395985</td><td>5</td><td> 11</td><td>GO:0032270;GO:0031325;GO:0051247;GO:0009893;GO:0010604;GO:0051173</td><td>positive regulation of macromolecule metabolic process                              </td><td>0.3357777</td></tr>\n",
       "\t<tr><th scope=row>196</th><td>-389</td><td>0.009661005</td><td>4</td><td> 14</td><td>GO:0048522;GO:0048518                                            </td><td>positive regulation of cellular process                                             </td><td>0.3655080</td></tr>\n",
       "\t<tr><th scope=row>63</th><td> 522</td><td>0.013916724</td><td>4</td><td>  7</td><td>GO:0006353                                                       </td><td>DNA-templated transcription, termination                                            </td><td>0.3664237</td></tr>\n",
       "\t<tr><th scope=row>97</th><td>-560</td><td>0.014527814</td><td>3</td><td>  6</td><td>GO:0006888                                                       </td><td>endoplasmic reticulum to Golgi vesicle-mediated transport                           </td><td>0.3664237</td></tr>\n",
       "\t<tr><th scope=row>209</th><td> 474</td><td>0.011464110</td><td>2</td><td>  9</td><td>GO:0055082;GO:0048878                                            </td><td>chemical homeostasis                                                                </td><td>0.3664237</td></tr>\n",
       "\t<tr><th scope=row>22</th><td> 326</td><td>0.025096335</td><td>2</td><td> 15</td><td>GO:0000289                                                       </td><td>nuclear-transcribed mRNA poly(A) tail shortening                                    </td><td>0.4240095</td></tr>\n",
       "\t<tr><th scope=row>46</th><td>-582</td><td>0.020474305</td><td>5</td><td>  5</td><td>GO:0001578                                                       </td><td>microtubule bundle formation                                                        </td><td>0.4240095</td></tr>\n",
       "\t<tr><th scope=row>133</th><td> 116</td><td>0.026150363</td><td>3</td><td>123</td><td>GO:0016071                                                       </td><td>mRNA metabolic process                                                              </td><td>0.4240095</td></tr>\n",
       "\t<tr><th scope=row>198</th><td>-434</td><td>0.020618011</td><td>2</td><td>  9</td><td>GO:0048856                                                       </td><td>anatomical structure development                                                    </td><td>0.4240095</td></tr>\n",
       "\t<tr><th scope=row>214</th><td> 225</td><td>0.024585234</td><td>2</td><td> 32</td><td>GO:0065009;GO:0050790                                            </td><td>regulation of catalytic activity                                                    </td><td>0.4240095</td></tr>\n",
       "\t<tr><th scope=row>28</th><td> 136</td><td>0.033442760</td><td>3</td><td> 80</td><td>GO:0000398;GO:0000377;GO:0006397;GO:0000375;GO:0008380           </td><td>RNA splicing                                                                        </td><td>0.4744692</td></tr>\n",
       "\t<tr><th scope=row>72</th><td> 322</td><td>0.032472569</td><td>3</td><td> 14</td><td>GO:0006487                                                       </td><td>protein N-linked glycosylation                                                      </td><td>0.4744692</td></tr>\n",
       "\t<tr><th scope=row>10</th><td> 233</td><td>0.053091150</td><td>7</td><td> 22</td><td>GO:0000079;GO:0071900;GO:1904029;GO:0045859;GO:0043549;GO:0051338</td><td>regulation of cyclin-dependent protein serine/threonine kinase activity             </td><td>0.5135637</td></tr>\n",
       "\t<tr><th scope=row>15</th><td>-476</td><td>0.058187598</td><td>3</td><td>  5</td><td>GO:0000165                                                       </td><td>MAPK cascade                                                                        </td><td>0.5135637</td></tr>\n",
       "\t<tr><th scope=row>18</th><td>-397</td><td>0.061594663</td><td>3</td><td>  7</td><td>GO:0000245                                                       </td><td>spliceosomal complex assembly                                                       </td><td>0.5135637</td></tr>\n",
       "\t<tr><th scope=row>43</th><td> 466</td><td>0.063347061</td><td>2</td><td>  5</td><td>GO:0000972                                                       </td><td>transcription-dependent tethering of RNA polymerase II gene DNA at nuclear periphery</td><td>0.5135637</td></tr>\n",
       "</tbody>\n",
       "</table>\n"
      ],
      "text/latex": [
       "A data.frame: 20 × 7\n",
       "\\begin{tabular}{r|lllllll}\n",
       "  & delta.rank & pval & level & nseqs & term & name & p.adj\\\\\n",
       "  & <int> & <dbl> & <int> & <int> & <chr> & <chr> & <dbl>\\\\\n",
       "\\hline\n",
       "\t35 & -526 & 0.003107508 & 7 &  10 & GO:0000491                                                        & small nucleolar ribonucleoprotein complex assembly                                   & 0.3357777\\\\\n",
       "\t36 & -592 & 0.005287969 & 8 &   7 & GO:0000492                                                        & box C/D snoRNP assembly                                                              & 0.3357777\\\\\n",
       "\t51 & -578 & 0.006500247 & 4 &   7 & GO:0001934;GO:0031401;GO:0042327;GO:0045937;GO:0010562            & positive regulation of protein phosphorylation                                       & 0.3357777\\\\\n",
       "\t86 &  762 & 0.002407875 & 4 &   5 & GO:0006664;GO:1903509;GO:0009247;GO:0046467                       & glycolipid metabolic process                                                         & 0.3357777\\\\\n",
       "\t158 & -454 & 0.007395985 & 5 &  11 & GO:0032270;GO:0031325;GO:0051247;GO:0009893;GO:0010604;GO:0051173 & positive regulation of macromolecule metabolic process                               & 0.3357777\\\\\n",
       "\t196 & -389 & 0.009661005 & 4 &  14 & GO:0048522;GO:0048518                                             & positive regulation of cellular process                                              & 0.3655080\\\\\n",
       "\t63 &  522 & 0.013916724 & 4 &   7 & GO:0006353                                                        & DNA-templated transcription, termination                                             & 0.3664237\\\\\n",
       "\t97 & -560 & 0.014527814 & 3 &   6 & GO:0006888                                                        & endoplasmic reticulum to Golgi vesicle-mediated transport                            & 0.3664237\\\\\n",
       "\t209 &  474 & 0.011464110 & 2 &   9 & GO:0055082;GO:0048878                                             & chemical homeostasis                                                                 & 0.3664237\\\\\n",
       "\t22 &  326 & 0.025096335 & 2 &  15 & GO:0000289                                                        & nuclear-transcribed mRNA poly(A) tail shortening                                     & 0.4240095\\\\\n",
       "\t46 & -582 & 0.020474305 & 5 &   5 & GO:0001578                                                        & microtubule bundle formation                                                         & 0.4240095\\\\\n",
       "\t133 &  116 & 0.026150363 & 3 & 123 & GO:0016071                                                        & mRNA metabolic process                                                               & 0.4240095\\\\\n",
       "\t198 & -434 & 0.020618011 & 2 &   9 & GO:0048856                                                        & anatomical structure development                                                     & 0.4240095\\\\\n",
       "\t214 &  225 & 0.024585234 & 2 &  32 & GO:0065009;GO:0050790                                             & regulation of catalytic activity                                                     & 0.4240095\\\\\n",
       "\t28 &  136 & 0.033442760 & 3 &  80 & GO:0000398;GO:0000377;GO:0006397;GO:0000375;GO:0008380            & RNA splicing                                                                         & 0.4744692\\\\\n",
       "\t72 &  322 & 0.032472569 & 3 &  14 & GO:0006487                                                        & protein N-linked glycosylation                                                       & 0.4744692\\\\\n",
       "\t10 &  233 & 0.053091150 & 7 &  22 & GO:0000079;GO:0071900;GO:1904029;GO:0045859;GO:0043549;GO:0051338 & regulation of cyclin-dependent protein serine/threonine kinase activity              & 0.5135637\\\\\n",
       "\t15 & -476 & 0.058187598 & 3 &   5 & GO:0000165                                                        & MAPK cascade                                                                         & 0.5135637\\\\\n",
       "\t18 & -397 & 0.061594663 & 3 &   7 & GO:0000245                                                        & spliceosomal complex assembly                                                        & 0.5135637\\\\\n",
       "\t43 &  466 & 0.063347061 & 2 &   5 & GO:0000972                                                        & transcription-dependent tethering of RNA polymerase II gene DNA at nuclear periphery & 0.5135637\\\\\n",
       "\\end{tabular}\n"
      ],
      "text/markdown": [
       "\n",
       "A data.frame: 20 × 7\n",
       "\n",
       "| <!--/--> | delta.rank &lt;int&gt; | pval &lt;dbl&gt; | level &lt;int&gt; | nseqs &lt;int&gt; | term &lt;chr&gt; | name &lt;chr&gt; | p.adj &lt;dbl&gt; |\n",
       "|---|---|---|---|---|---|---|---|\n",
       "| 35 | -526 | 0.003107508 | 7 |  10 | GO:0000491                                                        | small nucleolar ribonucleoprotein complex assembly                                   | 0.3357777 |\n",
       "| 36 | -592 | 0.005287969 | 8 |   7 | GO:0000492                                                        | box C/D snoRNP assembly                                                              | 0.3357777 |\n",
       "| 51 | -578 | 0.006500247 | 4 |   7 | GO:0001934;GO:0031401;GO:0042327;GO:0045937;GO:0010562            | positive regulation of protein phosphorylation                                       | 0.3357777 |\n",
       "| 86 |  762 | 0.002407875 | 4 |   5 | GO:0006664;GO:1903509;GO:0009247;GO:0046467                       | glycolipid metabolic process                                                         | 0.3357777 |\n",
       "| 158 | -454 | 0.007395985 | 5 |  11 | GO:0032270;GO:0031325;GO:0051247;GO:0009893;GO:0010604;GO:0051173 | positive regulation of macromolecule metabolic process                               | 0.3357777 |\n",
       "| 196 | -389 | 0.009661005 | 4 |  14 | GO:0048522;GO:0048518                                             | positive regulation of cellular process                                              | 0.3655080 |\n",
       "| 63 |  522 | 0.013916724 | 4 |   7 | GO:0006353                                                        | DNA-templated transcription, termination                                             | 0.3664237 |\n",
       "| 97 | -560 | 0.014527814 | 3 |   6 | GO:0006888                                                        | endoplasmic reticulum to Golgi vesicle-mediated transport                            | 0.3664237 |\n",
       "| 209 |  474 | 0.011464110 | 2 |   9 | GO:0055082;GO:0048878                                             | chemical homeostasis                                                                 | 0.3664237 |\n",
       "| 22 |  326 | 0.025096335 | 2 |  15 | GO:0000289                                                        | nuclear-transcribed mRNA poly(A) tail shortening                                     | 0.4240095 |\n",
       "| 46 | -582 | 0.020474305 | 5 |   5 | GO:0001578                                                        | microtubule bundle formation                                                         | 0.4240095 |\n",
       "| 133 |  116 | 0.026150363 | 3 | 123 | GO:0016071                                                        | mRNA metabolic process                                                               | 0.4240095 |\n",
       "| 198 | -434 | 0.020618011 | 2 |   9 | GO:0048856                                                        | anatomical structure development                                                     | 0.4240095 |\n",
       "| 214 |  225 | 0.024585234 | 2 |  32 | GO:0065009;GO:0050790                                             | regulation of catalytic activity                                                     | 0.4240095 |\n",
       "| 28 |  136 | 0.033442760 | 3 |  80 | GO:0000398;GO:0000377;GO:0006397;GO:0000375;GO:0008380            | RNA splicing                                                                         | 0.4744692 |\n",
       "| 72 |  322 | 0.032472569 | 3 |  14 | GO:0006487                                                        | protein N-linked glycosylation                                                       | 0.4744692 |\n",
       "| 10 |  233 | 0.053091150 | 7 |  22 | GO:0000079;GO:0071900;GO:1904029;GO:0045859;GO:0043549;GO:0051338 | regulation of cyclin-dependent protein serine/threonine kinase activity              | 0.5135637 |\n",
       "| 15 | -476 | 0.058187598 | 3 |   5 | GO:0000165                                                        | MAPK cascade                                                                         | 0.5135637 |\n",
       "| 18 | -397 | 0.061594663 | 3 |   7 | GO:0000245                                                        | spliceosomal complex assembly                                                        | 0.5135637 |\n",
       "| 43 |  466 | 0.063347061 | 2 |   5 | GO:0000972                                                        | transcription-dependent tethering of RNA polymerase II gene DNA at nuclear periphery | 0.5135637 |\n",
       "\n"
      ],
      "text/plain": [
       "    delta.rank pval        level nseqs\n",
       "35  -526       0.003107508 7      10  \n",
       "36  -592       0.005287969 8       7  \n",
       "51  -578       0.006500247 4       7  \n",
       "86   762       0.002407875 4       5  \n",
       "158 -454       0.007395985 5      11  \n",
       "196 -389       0.009661005 4      14  \n",
       "63   522       0.013916724 4       7  \n",
       "97  -560       0.014527814 3       6  \n",
       "209  474       0.011464110 2       9  \n",
       "22   326       0.025096335 2      15  \n",
       "46  -582       0.020474305 5       5  \n",
       "133  116       0.026150363 3     123  \n",
       "198 -434       0.020618011 2       9  \n",
       "214  225       0.024585234 2      32  \n",
       "28   136       0.033442760 3      80  \n",
       "72   322       0.032472569 3      14  \n",
       "10   233       0.053091150 7      22  \n",
       "15  -476       0.058187598 3       5  \n",
       "18  -397       0.061594663 3       7  \n",
       "43   466       0.063347061 2       5  \n",
       "    term                                                             \n",
       "35  GO:0000491                                                       \n",
       "36  GO:0000492                                                       \n",
       "51  GO:0001934;GO:0031401;GO:0042327;GO:0045937;GO:0010562           \n",
       "86  GO:0006664;GO:1903509;GO:0009247;GO:0046467                      \n",
       "158 GO:0032270;GO:0031325;GO:0051247;GO:0009893;GO:0010604;GO:0051173\n",
       "196 GO:0048522;GO:0048518                                            \n",
       "63  GO:0006353                                                       \n",
       "97  GO:0006888                                                       \n",
       "209 GO:0055082;GO:0048878                                            \n",
       "22  GO:0000289                                                       \n",
       "46  GO:0001578                                                       \n",
       "133 GO:0016071                                                       \n",
       "198 GO:0048856                                                       \n",
       "214 GO:0065009;GO:0050790                                            \n",
       "28  GO:0000398;GO:0000377;GO:0006397;GO:0000375;GO:0008380           \n",
       "72  GO:0006487                                                       \n",
       "10  GO:0000079;GO:0071900;GO:1904029;GO:0045859;GO:0043549;GO:0051338\n",
       "15  GO:0000165                                                       \n",
       "18  GO:0000245                                                       \n",
       "43  GO:0000972                                                       \n",
       "    name                                                                                \n",
       "35  small nucleolar ribonucleoprotein complex assembly                                  \n",
       "36  box C/D snoRNP assembly                                                             \n",
       "51  positive regulation of protein phosphorylation                                      \n",
       "86  glycolipid metabolic process                                                        \n",
       "158 positive regulation of macromolecule metabolic process                              \n",
       "196 positive regulation of cellular process                                             \n",
       "63  DNA-templated transcription, termination                                            \n",
       "97  endoplasmic reticulum to Golgi vesicle-mediated transport                           \n",
       "209 chemical homeostasis                                                                \n",
       "22  nuclear-transcribed mRNA poly(A) tail shortening                                    \n",
       "46  microtubule bundle formation                                                        \n",
       "133 mRNA metabolic process                                                              \n",
       "198 anatomical structure development                                                    \n",
       "214 regulation of catalytic activity                                                    \n",
       "28  RNA splicing                                                                        \n",
       "72  protein N-linked glycosylation                                                      \n",
       "10  regulation of cyclin-dependent protein serine/threonine kinase activity             \n",
       "15  MAPK cascade                                                                        \n",
       "18  spliceosomal complex assembly                                                       \n",
       "43  transcription-dependent tethering of RNA polymerase II gene DNA at nuclear periphery\n",
       "    p.adj    \n",
       "35  0.3357777\n",
       "36  0.3357777\n",
       "51  0.3357777\n",
       "86  0.3357777\n",
       "158 0.3357777\n",
       "196 0.3655080\n",
       "63  0.3664237\n",
       "97  0.3664237\n",
       "209 0.3664237\n",
       "22  0.4240095\n",
       "46  0.4240095\n",
       "133 0.4240095\n",
       "198 0.4240095\n",
       "214 0.4240095\n",
       "28  0.4744692\n",
       "72  0.4744692\n",
       "10  0.5135637\n",
       "15  0.5135637\n",
       "18  0.5135637\n",
       "43  0.5135637"
      ]
     },
     "metadata": {},
     "output_type": "display_data"
    }
   ],
   "source": [
    "head(mwu_BP_hh[order(mwu_BP_hh$p.adj),], 20)"
   ]
  },
  {
   "cell_type": "markdown",
   "id": "96042d93-babc-497a-8fff-d8b747ebe2d6",
   "metadata": {},
   "source": [
    "seems like these all have to do with metabolic processes, complex assemblies, activity"
   ]
  },
  {
   "cell_type": "markdown",
   "id": "dcc28fcd-23ed-44b1-9770-7b7be31e5b9f",
   "metadata": {},
   "source": [
    "## CC vs. HC\n",
    "control control vs. hypoxic control (initial exposure to hypoxic stress vs. no stress)\n",
    "\n",
    "table of measure of interest for sequences: "
   ]
  },
  {
   "cell_type": "code",
   "execution_count": 113,
   "id": "d594c2f6-b0ac-4eda-a841-0b324b18df6e",
   "metadata": {},
   "outputs": [
    {
     "data": {
      "text/html": [
       "<table class=\"dataframe\">\n",
       "<caption>A data.frame: 6 × 2</caption>\n",
       "<thead>\n",
       "\t<tr><th></th><th scope=col>Symbol</th><th scope=col>log2fc</th></tr>\n",
       "\t<tr><th></th><th scope=col>&lt;chr&gt;</th><th scope=col>&lt;dbl&gt;</th></tr>\n",
       "</thead>\n",
       "<tbody>\n",
       "\t<tr><th scope=row>1</th><td>LOC111116054</td><td> 0.00000000</td></tr>\n",
       "\t<tr><th scope=row>2</th><td>LOC111126949</td><td>-0.01938737</td></tr>\n",
       "\t<tr><th scope=row>3</th><td>LOC111110729</td><td>-0.06519374</td></tr>\n",
       "\t<tr><th scope=row>4</th><td>LOC111112434</td><td> 0.07479191</td></tr>\n",
       "\t<tr><th scope=row>5</th><td>LOC111120752</td><td> 0.01438339</td></tr>\n",
       "\t<tr><th scope=row>6</th><td>LOC111128944</td><td>         NA</td></tr>\n",
       "</tbody>\n",
       "</table>\n"
      ],
      "text/latex": [
       "A data.frame: 6 × 2\n",
       "\\begin{tabular}{r|ll}\n",
       "  & Symbol & log2fc\\\\\n",
       "  & <chr> & <dbl>\\\\\n",
       "\\hline\n",
       "\t1 & LOC111116054 &  0.00000000\\\\\n",
       "\t2 & LOC111126949 & -0.01938737\\\\\n",
       "\t3 & LOC111110729 & -0.06519374\\\\\n",
       "\t4 & LOC111112434 &  0.07479191\\\\\n",
       "\t5 & LOC111120752 &  0.01438339\\\\\n",
       "\t6 & LOC111128944 &          NA\\\\\n",
       "\\end{tabular}\n"
      ],
      "text/markdown": [
       "\n",
       "A data.frame: 6 × 2\n",
       "\n",
       "| <!--/--> | Symbol &lt;chr&gt; | log2fc &lt;dbl&gt; |\n",
       "|---|---|---|\n",
       "| 1 | LOC111116054 |  0.00000000 |\n",
       "| 2 | LOC111126949 | -0.01938737 |\n",
       "| 3 | LOC111110729 | -0.06519374 |\n",
       "| 4 | LOC111112434 |  0.07479191 |\n",
       "| 5 | LOC111120752 |  0.01438339 |\n",
       "| 6 | LOC111128944 |          NA |\n",
       "\n"
      ],
      "text/plain": [
       "  Symbol       log2fc     \n",
       "1 LOC111116054  0.00000000\n",
       "2 LOC111126949 -0.01938737\n",
       "3 LOC111110729 -0.06519374\n",
       "4 LOC111112434  0.07479191\n",
       "5 LOC111120752  0.01438339\n",
       "6 LOC111128944          NA"
      ]
     },
     "metadata": {},
     "output_type": "display_data"
    },
    {
     "data": {
      "text/html": [
       "<table class=\"dataframe\">\n",
       "<caption>A data.frame: 6 × 2</caption>\n",
       "<thead>\n",
       "\t<tr><th></th><th scope=col>Symbol</th><th scope=col>signif</th></tr>\n",
       "\t<tr><th></th><th scope=col>&lt;chr&gt;</th><th scope=col>&lt;dbl&gt;</th></tr>\n",
       "</thead>\n",
       "<tbody>\n",
       "\t<tr><th scope=row>1</th><td>LOC111116054</td><td>0</td></tr>\n",
       "\t<tr><th scope=row>2</th><td>LOC111126949</td><td>0</td></tr>\n",
       "\t<tr><th scope=row>3</th><td>LOC111110729</td><td>0</td></tr>\n",
       "\t<tr><th scope=row>4</th><td>LOC111112434</td><td>0</td></tr>\n",
       "\t<tr><th scope=row>5</th><td>LOC111120752</td><td>0</td></tr>\n",
       "\t<tr><th scope=row>6</th><td>LOC111128944</td><td>0</td></tr>\n",
       "</tbody>\n",
       "</table>\n"
      ],
      "text/latex": [
       "A data.frame: 6 × 2\n",
       "\\begin{tabular}{r|ll}\n",
       "  & Symbol & signif\\\\\n",
       "  & <chr> & <dbl>\\\\\n",
       "\\hline\n",
       "\t1 & LOC111116054 & 0\\\\\n",
       "\t2 & LOC111126949 & 0\\\\\n",
       "\t3 & LOC111110729 & 0\\\\\n",
       "\t4 & LOC111112434 & 0\\\\\n",
       "\t5 & LOC111120752 & 0\\\\\n",
       "\t6 & LOC111128944 & 0\\\\\n",
       "\\end{tabular}\n"
      ],
      "text/markdown": [
       "\n",
       "A data.frame: 6 × 2\n",
       "\n",
       "| <!--/--> | Symbol &lt;chr&gt; | signif &lt;dbl&gt; |\n",
       "|---|---|---|\n",
       "| 1 | LOC111116054 | 0 |\n",
       "| 2 | LOC111126949 | 0 |\n",
       "| 3 | LOC111110729 | 0 |\n",
       "| 4 | LOC111112434 | 0 |\n",
       "| 5 | LOC111120752 | 0 |\n",
       "| 6 | LOC111128944 | 0 |\n",
       "\n"
      ],
      "text/plain": [
       "  Symbol       signif\n",
       "1 LOC111116054 0     \n",
       "2 LOC111126949 0     \n",
       "3 LOC111110729 0     \n",
       "4 LOC111112434 0     \n",
       "5 LOC111120752 0     \n",
       "6 LOC111128944 0     "
      ]
     },
     "metadata": {},
     "output_type": "display_data"
    }
   ],
   "source": [
    "allGenes_CC <- read.csv('/project/pi_sarah_gignouxwolfsohn_uml_edu/julia/CE_MethylRAD_analysis_2018/analysis/deseq_res_files/geneFeatures_res/CC_vs_HC.csv')\n",
    "\n",
    "# select only gene id and continuous measure of change (log fold change)\n",
    "allGenes_CC_lfc <- select(allGenes_CC, X, log2FoldChange)\n",
    "\n",
    "colnames(allGenes_CC_lfc) <- c('Symbol', 'log2fc')\n",
    "\n",
    "head(allGenes_CC_lfc)\n",
    "\n",
    "# binary measure for significance\n",
    "allGenes_CC$significant <- ifelse(is.na(allGenes_CC$padj) | allGenes_CC$padj > 0.05, 0, 1)\n",
    "\n",
    "allGenes_CC_sig <- select(allGenes_CC, X, significant)\n",
    "colnames(allGenes_CC_sig) <- c('Symbol', 'signif')\n",
    "\n",
    "head(allGenes_CC_sig)"
   ]
  },
  {
   "cell_type": "code",
   "execution_count": 124,
   "id": "7f1d5cf0-e75b-4d11-a87b-df20b6bdbddc",
   "metadata": {},
   "outputs": [],
   "source": [
    "write.csv(allGenes_CC_lfc, '/project/pi_sarah_gignouxwolfsohn_uml_edu/julia/CE_MethylRAD_analysis_2018/analysis/DMGs_analysis/go_mwu/allGenes_CC_lfc.csv', row.names=FALSE, quote = FALSE)"
   ]
  },
  {
   "cell_type": "code",
   "execution_count": 125,
   "id": "0a847f5a-a221-4337-b2e8-72d8e07e8fd6",
   "metadata": {},
   "outputs": [],
   "source": [
    "write.csv(allGenes_CC_sig, '/project/pi_sarah_gignouxwolfsohn_uml_edu/julia/CE_MethylRAD_analysis_2018/analysis/DMGs_analysis/go_mwu/allGenes_CC_sig.csv', row.names=FALSE, quote=FALSE)"
   ]
  },
  {
   "cell_type": "markdown",
   "id": "9fe9bdbf-933f-4a70-94ab-3b7cfabc7f1f",
   "metadata": {},
   "source": [
    "#### GO_MWU.R\n",
    "\n",
    "**molecular function**"
   ]
  },
  {
   "cell_type": "code",
   "execution_count": 126,
   "id": "c85623c6-e920-43a3-a7ea-9243391e8485",
   "metadata": {},
   "outputs": [],
   "source": [
    "# Edit these to match your data file names: \n",
    "input=\"allGenes_CC_lfc.csv\" # two columns of comma-separated values: gene id, continuous measure of significance. To perform standard GO enrichment analysis based on Fisher's exact test, use binary measure (0 or 1, i.e., either sgnificant or not).\n",
    "goAnnotations=\"allGenes2GO.tab\" # two-column, tab-delimited, one line per gene, multiple GO terms separated by semicolon. If you have multiple lines per gene, use nrify_GOtable.pl prior to running this script.\n",
    "goDatabase=\"go.obo\" # download from http://www.geneontology.org/GO.downloads.ontology.shtml\n",
    "goDivision=\"MF\" # either MF, or BP, or CC\n",
    "source(\"gomwu.functions.R\")"
   ]
  },
  {
   "cell_type": "code",
   "execution_count": 127,
   "id": "aaf39ce1-f782-4ea2-91c5-8c1644c36863",
   "metadata": {},
   "outputs": [
    {
     "name": "stdout",
     "output_type": "stream",
     "text": [
      "Continuous measure of interest: will perform MWU test\n"
     ]
    },
    {
     "name": "stderr",
     "output_type": "stream",
     "text": [
      "0 GO terms at 10% FDR\n",
      "\n"
     ]
    }
   ],
   "source": [
    "# Calculating stats. It might take ~3 min for MF and BP. Do not rerun it if you just want to replot the data with different cutoffs, go straight to gomwuPlot. If you change any of the numeric values below, delete the files that were generated in previos runs first.\n",
    "gomwuStats(input, goDatabase, goAnnotations, goDivision,\n",
    "           perlPath=\"perl\", # replace with full path to perl executable if it is not in your system's PATH already\n",
    "           largest=0.1,  # a GO category will not be considered if it contains more than this fraction of the total number of genes\n",
    "           smallest=5,   # a GO category should contain at least this many genes to be considered\n",
    "           clusterCutHeight=0.25) # threshold for merging similar (gene-sharing) terms. See README for details.\n",
    "# There are no GO term at 10% FDR"
   ]
  },
  {
   "cell_type": "code",
   "execution_count": 128,
   "id": "5f82bda7-4f83-4387-a7ae-30e4d4db9d5b",
   "metadata": {},
   "outputs": [
    {
     "data": {
      "text/html": [
       "<table class=\"dataframe\">\n",
       "<caption>A data.frame: 6 × 7</caption>\n",
       "<thead>\n",
       "\t<tr><th></th><th scope=col>delta.rank</th><th scope=col>pval</th><th scope=col>level</th><th scope=col>nseqs</th><th scope=col>term</th><th scope=col>name</th><th scope=col>p.adj</th></tr>\n",
       "\t<tr><th></th><th scope=col>&lt;int&gt;</th><th scope=col>&lt;dbl&gt;</th><th scope=col>&lt;int&gt;</th><th scope=col>&lt;int&gt;</th><th scope=col>&lt;chr&gt;</th><th scope=col>&lt;chr&gt;</th><th scope=col>&lt;dbl&gt;</th></tr>\n",
       "</thead>\n",
       "<tbody>\n",
       "\t<tr><th scope=row>1</th><td> 916</td><td>0.36468387</td><td>2</td><td> 5</td><td>GO:0000026                                 </td><td>alpha-1,2-mannosyltransferase activity</td><td>0.8429826</td></tr>\n",
       "\t<tr><th scope=row>2</th><td>-102</td><td>0.83650913</td><td>5</td><td>21</td><td>GO:0000030                                 </td><td>mannosyltransferase activity          </td><td>0.9956253</td></tr>\n",
       "\t<tr><th scope=row>3</th><td> 492</td><td>0.16411439</td><td>2</td><td>41</td><td>GO:0000049                                 </td><td>tRNA binding                          </td><td>0.6509256</td></tr>\n",
       "\t<tr><th scope=row>4</th><td> 372</td><td>0.64140733</td><td>6</td><td> 8</td><td>GO:0000062;GO:0120227;GO:1901567;GO:1901681</td><td>fatty-acyl-CoA binding                </td><td>0.9535436</td></tr>\n",
       "\t<tr><th scope=row>5</th><td>1359</td><td>0.07114113</td><td>2</td><td> 9</td><td>GO:0000146                                 </td><td>microfilament motor activity          </td><td>0.5920605</td></tr>\n",
       "\t<tr><th scope=row>6</th><td>-187</td><td>0.62934759</td><td>3</td><td>34</td><td>GO:0000149                                 </td><td>SNARE binding                         </td><td>0.9535436</td></tr>\n",
       "</tbody>\n",
       "</table>\n"
      ],
      "text/latex": [
       "A data.frame: 6 × 7\n",
       "\\begin{tabular}{r|lllllll}\n",
       "  & delta.rank & pval & level & nseqs & term & name & p.adj\\\\\n",
       "  & <int> & <dbl> & <int> & <int> & <chr> & <chr> & <dbl>\\\\\n",
       "\\hline\n",
       "\t1 &  916 & 0.36468387 & 2 &  5 & GO:0000026                                  & alpha-1,2-mannosyltransferase activity & 0.8429826\\\\\n",
       "\t2 & -102 & 0.83650913 & 5 & 21 & GO:0000030                                  & mannosyltransferase activity           & 0.9956253\\\\\n",
       "\t3 &  492 & 0.16411439 & 2 & 41 & GO:0000049                                  & tRNA binding                           & 0.6509256\\\\\n",
       "\t4 &  372 & 0.64140733 & 6 &  8 & GO:0000062;GO:0120227;GO:1901567;GO:1901681 & fatty-acyl-CoA binding                 & 0.9535436\\\\\n",
       "\t5 & 1359 & 0.07114113 & 2 &  9 & GO:0000146                                  & microfilament motor activity           & 0.5920605\\\\\n",
       "\t6 & -187 & 0.62934759 & 3 & 34 & GO:0000149                                  & SNARE binding                          & 0.9535436\\\\\n",
       "\\end{tabular}\n"
      ],
      "text/markdown": [
       "\n",
       "A data.frame: 6 × 7\n",
       "\n",
       "| <!--/--> | delta.rank &lt;int&gt; | pval &lt;dbl&gt; | level &lt;int&gt; | nseqs &lt;int&gt; | term &lt;chr&gt; | name &lt;chr&gt; | p.adj &lt;dbl&gt; |\n",
       "|---|---|---|---|---|---|---|---|\n",
       "| 1 |  916 | 0.36468387 | 2 |  5 | GO:0000026                                  | alpha-1,2-mannosyltransferase activity | 0.8429826 |\n",
       "| 2 | -102 | 0.83650913 | 5 | 21 | GO:0000030                                  | mannosyltransferase activity           | 0.9956253 |\n",
       "| 3 |  492 | 0.16411439 | 2 | 41 | GO:0000049                                  | tRNA binding                           | 0.6509256 |\n",
       "| 4 |  372 | 0.64140733 | 6 |  8 | GO:0000062;GO:0120227;GO:1901567;GO:1901681 | fatty-acyl-CoA binding                 | 0.9535436 |\n",
       "| 5 | 1359 | 0.07114113 | 2 |  9 | GO:0000146                                  | microfilament motor activity           | 0.5920605 |\n",
       "| 6 | -187 | 0.62934759 | 3 | 34 | GO:0000149                                  | SNARE binding                          | 0.9535436 |\n",
       "\n"
      ],
      "text/plain": [
       "  delta.rank pval       level nseqs term                                       \n",
       "1  916       0.36468387 2      5    GO:0000026                                 \n",
       "2 -102       0.83650913 5     21    GO:0000030                                 \n",
       "3  492       0.16411439 2     41    GO:0000049                                 \n",
       "4  372       0.64140733 6      8    GO:0000062;GO:0120227;GO:1901567;GO:1901681\n",
       "5 1359       0.07114113 2      9    GO:0000146                                 \n",
       "6 -187       0.62934759 3     34    GO:0000149                                 \n",
       "  name                                   p.adj    \n",
       "1 alpha-1,2-mannosyltransferase activity 0.8429826\n",
       "2 mannosyltransferase activity           0.9956253\n",
       "3 tRNA binding                           0.6509256\n",
       "4 fatty-acyl-CoA binding                 0.9535436\n",
       "5 microfilament motor activity           0.5920605\n",
       "6 SNARE binding                          0.9535436"
      ]
     },
     "metadata": {},
     "output_type": "display_data"
    }
   ],
   "source": [
    "mwu_MF_cc <- read.csv('/project/pi_sarah_gignouxwolfsohn_uml_edu/julia/CE_MethylRAD_analysis_2018/analysis/DMGs_analysis/go_mwu/MWU_MF_allGenes_CC_lfc.csv', sep= ' ')\n",
    "head(mwu_MF_cc)"
   ]
  },
  {
   "cell_type": "code",
   "execution_count": 129,
   "id": "6825a77f-3abc-4ad7-9420-ff83835a1b09",
   "metadata": {},
   "outputs": [
    {
     "data": {
      "text/html": [
       "<table class=\"dataframe\">\n",
       "<caption>A data.frame: 0 × 7</caption>\n",
       "<thead>\n",
       "\t<tr><th scope=col>delta.rank</th><th scope=col>pval</th><th scope=col>level</th><th scope=col>nseqs</th><th scope=col>term</th><th scope=col>name</th><th scope=col>p.adj</th></tr>\n",
       "\t<tr><th scope=col>&lt;int&gt;</th><th scope=col>&lt;dbl&gt;</th><th scope=col>&lt;int&gt;</th><th scope=col>&lt;int&gt;</th><th scope=col>&lt;chr&gt;</th><th scope=col>&lt;chr&gt;</th><th scope=col>&lt;dbl&gt;</th></tr>\n",
       "</thead>\n",
       "<tbody>\n",
       "</tbody>\n",
       "</table>\n"
      ],
      "text/latex": [
       "A data.frame: 0 × 7\n",
       "\\begin{tabular}{lllllll}\n",
       " delta.rank & pval & level & nseqs & term & name & p.adj\\\\\n",
       " <int> & <dbl> & <int> & <int> & <chr> & <chr> & <dbl>\\\\\n",
       "\\hline\n",
       "\\end{tabular}\n"
      ],
      "text/markdown": [
       "\n",
       "A data.frame: 0 × 7\n",
       "\n",
       "| delta.rank &lt;int&gt; | pval &lt;dbl&gt; | level &lt;int&gt; | nseqs &lt;int&gt; | term &lt;chr&gt; | name &lt;chr&gt; | p.adj &lt;dbl&gt; |\n",
       "|---|---|---|---|---|---|---|\n",
       "\n"
      ],
      "text/plain": [
       "     delta.rank pval level nseqs term name p.adj"
      ]
     },
     "metadata": {},
     "output_type": "display_data"
    }
   ],
   "source": [
    "filter(mwu_MF_cc, mwu_MF_cc$p.adj < 0.05)"
   ]
  },
  {
   "cell_type": "markdown",
   "id": "8ebeea65-7623-46d0-a8d9-e4b48b0acc20",
   "metadata": {},
   "source": [
    "no significantly enriched GO terms for molecular function"
   ]
  },
  {
   "cell_type": "markdown",
   "id": "e9adf6d0-0f55-40e4-a472-292c9f6ac689",
   "metadata": {},
   "source": [
    "**biological process**"
   ]
  },
  {
   "cell_type": "code",
   "execution_count": 82,
   "id": "58875027-dc5d-4b25-a0df-c1659b8881e8",
   "metadata": {},
   "outputs": [],
   "source": [
    "# Edit these to match your data file names: \n",
    "input=\"allGenes_CC_lfc.csv\" # two columns of comma-separated values: gene id, continuous measure of significance. To perform standard GO enrichment analysis based on Fisher's exact test, use binary measure (0 or 1, i.e., either sgnificant or not).\n",
    "goAnnotations=\"allGenes2GO.tab\" # two-column, tab-delimited, one line per gene, multiple GO terms separated by semicolon. If you have multiple lines per gene, use nrify_GOtable.pl prior to running this script.\n",
    "goDatabase=\"go.obo\" # download from http://www.geneontology.org/GO.downloads.ontology.shtml\n",
    "goDivision=\"BP\" # either MF, or BP, or CC\n",
    "source(\"gomwu.functions.R\")\n"
   ]
  },
  {
   "cell_type": "code",
   "execution_count": 83,
   "id": "867fce0e-57cb-4a6a-8874-6cc34a30b6fc",
   "metadata": {},
   "outputs": [
    {
     "name": "stdout",
     "output_type": "stream",
     "text": [
      "Continuous measure of interest: will perform MWU test\n"
     ]
    },
    {
     "name": "stderr",
     "output_type": "stream",
     "text": [
      "0 GO terms at 10% FDR\n",
      "\n"
     ]
    }
   ],
   "source": [
    "# Calculating stats. It might take ~3 min for MF and BP. Do not rerun it if you just want to replot the data with different cutoffs, go straight to gomwuPlot. If you change any of the numeric values below, delete the files that were generated in previos runs first.\n",
    "gomwuStats(input, goDatabase, goAnnotations, goDivision,\n",
    "           perlPath=\"perl\", # replace with full path to perl executable if it is not in your system's PATH already\n",
    "           largest=0.1,  # a GO category will not be considered if it contains more than this fraction of the total number of genes\n",
    "           smallest=5,   # a GO category should contain at least this many genes to be considered\n",
    "           clusterCutHeight=0.25) # threshold for merging similar (gene-sharing) terms. See README for details.\n",
    "# There are no GO term at 10% FDR"
   ]
  },
  {
   "cell_type": "code",
   "execution_count": 84,
   "id": "022a98ff-3b97-4b53-8bb8-5ff01f00069d",
   "metadata": {},
   "outputs": [
    {
     "data": {
      "text/html": [
       "<table class=\"dataframe\">\n",
       "<caption>A data.frame: 6 × 7</caption>\n",
       "<thead>\n",
       "\t<tr><th></th><th scope=col>delta.rank</th><th scope=col>pval</th><th scope=col>level</th><th scope=col>nseqs</th><th scope=col>term</th><th scope=col>name</th><th scope=col>p.adj</th></tr>\n",
       "\t<tr><th></th><th scope=col>&lt;int&gt;</th><th scope=col>&lt;dbl&gt;</th><th scope=col>&lt;int&gt;</th><th scope=col>&lt;int&gt;</th><th scope=col>&lt;chr&gt;</th><th scope=col>&lt;chr&gt;</th><th scope=col>&lt;dbl&gt;</th></tr>\n",
       "</thead>\n",
       "<tbody>\n",
       "\t<tr><th scope=row>1</th><td>  60</td><td>0.79489448</td><td>6</td><td> 6</td><td>GO:0000012                                                       </td><td>single strand break repair                 </td><td>0.9547015</td></tr>\n",
       "\t<tr><th scope=row>2</th><td>  53</td><td>0.68749613</td><td>4</td><td>18</td><td>GO:0000027                                                       </td><td>ribosomal large subunit assembly           </td><td>0.9445336</td></tr>\n",
       "\t<tr><th scope=row>3</th><td>-375</td><td>0.03477232</td><td>4</td><td>10</td><td>GO:0000028                                                       </td><td>ribosomal small subunit assembly           </td><td>0.4239334</td></tr>\n",
       "\t<tr><th scope=row>4</th><td>  27</td><td>0.75894488</td><td>2</td><td>42</td><td>GO:0000045;GO:0070925;GO:1905037;GO:0007033                      </td><td>organelle assembly                         </td><td>0.9519334</td></tr>\n",
       "\t<tr><th scope=row>5</th><td>   5</td><td>0.97775236</td><td>7</td><td>12</td><td>GO:0000054;GO:0033750;GO:0071428;GO:0071426;GO:0006611;GO:0031503</td><td>ribosomal subunit export from nucleus      </td><td>0.9903915</td></tr>\n",
       "\t<tr><th scope=row>6</th><td> 216</td><td>0.34538114</td><td>2</td><td> 6</td><td>GO:0000055                                                       </td><td>ribosomal large subunit export from nucleus</td><td>0.7804439</td></tr>\n",
       "</tbody>\n",
       "</table>\n"
      ],
      "text/latex": [
       "A data.frame: 6 × 7\n",
       "\\begin{tabular}{r|lllllll}\n",
       "  & delta.rank & pval & level & nseqs & term & name & p.adj\\\\\n",
       "  & <int> & <dbl> & <int> & <int> & <chr> & <chr> & <dbl>\\\\\n",
       "\\hline\n",
       "\t1 &   60 & 0.79489448 & 6 &  6 & GO:0000012                                                        & single strand break repair                  & 0.9547015\\\\\n",
       "\t2 &   53 & 0.68749613 & 4 & 18 & GO:0000027                                                        & ribosomal large subunit assembly            & 0.9445336\\\\\n",
       "\t3 & -375 & 0.03477232 & 4 & 10 & GO:0000028                                                        & ribosomal small subunit assembly            & 0.4239334\\\\\n",
       "\t4 &   27 & 0.75894488 & 2 & 42 & GO:0000045;GO:0070925;GO:1905037;GO:0007033                       & organelle assembly                          & 0.9519334\\\\\n",
       "\t5 &    5 & 0.97775236 & 7 & 12 & GO:0000054;GO:0033750;GO:0071428;GO:0071426;GO:0006611;GO:0031503 & ribosomal subunit export from nucleus       & 0.9903915\\\\\n",
       "\t6 &  216 & 0.34538114 & 2 &  6 & GO:0000055                                                        & ribosomal large subunit export from nucleus & 0.7804439\\\\\n",
       "\\end{tabular}\n"
      ],
      "text/markdown": [
       "\n",
       "A data.frame: 6 × 7\n",
       "\n",
       "| <!--/--> | delta.rank &lt;int&gt; | pval &lt;dbl&gt; | level &lt;int&gt; | nseqs &lt;int&gt; | term &lt;chr&gt; | name &lt;chr&gt; | p.adj &lt;dbl&gt; |\n",
       "|---|---|---|---|---|---|---|---|\n",
       "| 1 |   60 | 0.79489448 | 6 |  6 | GO:0000012                                                        | single strand break repair                  | 0.9547015 |\n",
       "| 2 |   53 | 0.68749613 | 4 | 18 | GO:0000027                                                        | ribosomal large subunit assembly            | 0.9445336 |\n",
       "| 3 | -375 | 0.03477232 | 4 | 10 | GO:0000028                                                        | ribosomal small subunit assembly            | 0.4239334 |\n",
       "| 4 |   27 | 0.75894488 | 2 | 42 | GO:0000045;GO:0070925;GO:1905037;GO:0007033                       | organelle assembly                          | 0.9519334 |\n",
       "| 5 |    5 | 0.97775236 | 7 | 12 | GO:0000054;GO:0033750;GO:0071428;GO:0071426;GO:0006611;GO:0031503 | ribosomal subunit export from nucleus       | 0.9903915 |\n",
       "| 6 |  216 | 0.34538114 | 2 |  6 | GO:0000055                                                        | ribosomal large subunit export from nucleus | 0.7804439 |\n",
       "\n"
      ],
      "text/plain": [
       "  delta.rank pval       level nseqs\n",
       "1   60       0.79489448 6      6   \n",
       "2   53       0.68749613 4     18   \n",
       "3 -375       0.03477232 4     10   \n",
       "4   27       0.75894488 2     42   \n",
       "5    5       0.97775236 7     12   \n",
       "6  216       0.34538114 2      6   \n",
       "  term                                                             \n",
       "1 GO:0000012                                                       \n",
       "2 GO:0000027                                                       \n",
       "3 GO:0000028                                                       \n",
       "4 GO:0000045;GO:0070925;GO:1905037;GO:0007033                      \n",
       "5 GO:0000054;GO:0033750;GO:0071428;GO:0071426;GO:0006611;GO:0031503\n",
       "6 GO:0000055                                                       \n",
       "  name                                        p.adj    \n",
       "1 single strand break repair                  0.9547015\n",
       "2 ribosomal large subunit assembly            0.9445336\n",
       "3 ribosomal small subunit assembly            0.4239334\n",
       "4 organelle assembly                          0.9519334\n",
       "5 ribosomal subunit export from nucleus       0.9903915\n",
       "6 ribosomal large subunit export from nucleus 0.7804439"
      ]
     },
     "metadata": {},
     "output_type": "display_data"
    }
   ],
   "source": [
    "mwu_BP_cc <- read.csv('/project/pi_sarah_gignouxwolfsohn_uml_edu/julia/CE_MethylRAD_analysis_2018/analysis/DMGs_analysis/go_mwu/MWU_BP_allGenes_CC_lfc.csv', sep= ' ')\n",
    "head(mwu_BP_cc)"
   ]
  },
  {
   "cell_type": "code",
   "execution_count": 133,
   "id": "32382339-7efa-43fd-b12c-b14da22948fb",
   "metadata": {},
   "outputs": [
    {
     "data": {
      "text/html": [
       "<table class=\"dataframe\">\n",
       "<caption>A data.frame: 0 × 7</caption>\n",
       "<thead>\n",
       "\t<tr><th scope=col>delta.rank</th><th scope=col>pval</th><th scope=col>level</th><th scope=col>nseqs</th><th scope=col>term</th><th scope=col>name</th><th scope=col>p.adj</th></tr>\n",
       "\t<tr><th scope=col>&lt;int&gt;</th><th scope=col>&lt;dbl&gt;</th><th scope=col>&lt;int&gt;</th><th scope=col>&lt;int&gt;</th><th scope=col>&lt;chr&gt;</th><th scope=col>&lt;chr&gt;</th><th scope=col>&lt;dbl&gt;</th></tr>\n",
       "</thead>\n",
       "<tbody>\n",
       "</tbody>\n",
       "</table>\n"
      ],
      "text/latex": [
       "A data.frame: 0 × 7\n",
       "\\begin{tabular}{lllllll}\n",
       " delta.rank & pval & level & nseqs & term & name & p.adj\\\\\n",
       " <int> & <dbl> & <int> & <int> & <chr> & <chr> & <dbl>\\\\\n",
       "\\hline\n",
       "\\end{tabular}\n"
      ],
      "text/markdown": [
       "\n",
       "A data.frame: 0 × 7\n",
       "\n",
       "| delta.rank &lt;int&gt; | pval &lt;dbl&gt; | level &lt;int&gt; | nseqs &lt;int&gt; | term &lt;chr&gt; | name &lt;chr&gt; | p.adj &lt;dbl&gt; |\n",
       "|---|---|---|---|---|---|---|\n",
       "\n"
      ],
      "text/plain": [
       "     delta.rank pval level nseqs term name p.adj"
      ]
     },
     "metadata": {},
     "output_type": "display_data"
    }
   ],
   "source": [
    "filter(mwu_BP_cc, mwu_BP_cc$p.adj < 0.05)"
   ]
  },
  {
   "cell_type": "markdown",
   "id": "45a02533-a120-4986-ac79-9c8b0ab19915",
   "metadata": {},
   "source": [
    "no significantly enriched GO terms for biological processes"
   ]
  },
  {
   "cell_type": "code",
   "execution_count": 87,
   "id": "00fcb48d-1a66-4e2a-8b05-aa2cde113c7c",
   "metadata": {},
   "outputs": [
    {
     "data": {
      "text/html": [
       "<table class=\"dataframe\">\n",
       "<caption>A data.frame: 20 × 7</caption>\n",
       "<thead>\n",
       "\t<tr><th></th><th scope=col>delta.rank</th><th scope=col>pval</th><th scope=col>level</th><th scope=col>nseqs</th><th scope=col>term</th><th scope=col>name</th><th scope=col>p.adj</th></tr>\n",
       "\t<tr><th></th><th scope=col>&lt;int&gt;</th><th scope=col>&lt;dbl&gt;</th><th scope=col>&lt;int&gt;</th><th scope=col>&lt;int&gt;</th><th scope=col>&lt;chr&gt;</th><th scope=col>&lt;chr&gt;</th><th scope=col>&lt;dbl&gt;</th></tr>\n",
       "</thead>\n",
       "<tbody>\n",
       "\t<tr><th scope=row>96</th><td> 760</td><td>0.002472641</td><td>2</td><td>  5</td><td>GO:0061912;GO:0016236                      </td><td>selective autophagy                                      </td><td>0.3554175</td></tr>\n",
       "\t<tr><th scope=row>26</th><td>-115</td><td>0.012035361</td><td>2</td><td>164</td><td>GO:0006396                                 </td><td>RNA processing                                           </td><td>0.3648416</td></tr>\n",
       "\t<tr><th scope=row>64</th><td>-466</td><td>0.012857855</td><td>2</td><td>  9</td><td>GO:0032886                                 </td><td>regulation of microtubule-based process                  </td><td>0.3648416</td></tr>\n",
       "\t<tr><th scope=row>33</th><td> 178</td><td>0.023588750</td><td>2</td><td> 52</td><td>GO:0006796;GO:0019637;GO:0006793           </td><td>phosphorus metabolic process                             </td><td>0.3672817</td></tr>\n",
       "\t<tr><th scope=row>37</th><td> 525</td><td>0.021933679</td><td>2</td><td>  6</td><td>GO:0006888                                 </td><td>endoplasmic reticulum to Golgi vesicle-mediated transport</td><td>0.3672817</td></tr>\n",
       "\t<tr><th scope=row>58</th><td> 176</td><td>0.016993592</td><td>2</td><td> 60</td><td>GO:0022402                                 </td><td>cell cycle process                                       </td><td>0.3672817</td></tr>\n",
       "\t<tr><th scope=row>104</th><td> 195</td><td>0.029203933</td><td>2</td><td> 40</td><td>GO:1903047                                 </td><td>mitotic cell cycle process                               </td><td>0.3899584</td></tr>\n",
       "\t<tr><th scope=row>14</th><td> 437</td><td>0.039532420</td><td>2</td><td>  7</td><td>GO:0000492                                 </td><td>box C/D snoRNP assembly                                  </td><td>0.4273266</td></tr>\n",
       "\t<tr><th scope=row>91</th><td> 502</td><td>0.045621377</td><td>2</td><td>  5</td><td>GO:0051049                                 </td><td>regulation of transport                                  </td><td>0.4707297</td></tr>\n",
       "\t<tr><th scope=row>16</th><td>-140</td><td>0.058919743</td><td>2</td><td> 59</td><td>GO:0000724;GO:0000725;GO:0006302;GO:0006310</td><td>DNA recombination                                        </td><td>0.5349913</td></tr>\n",
       "\t<tr><th scope=row>10</th><td> 191</td><td>0.073025492</td><td>2</td><td> 28</td><td>GO:0000278;GO:0007049                      </td><td>mitotic cell cycle                                       </td><td>0.5449277</td></tr>\n",
       "\t<tr><th scope=row>39</th><td>-104</td><td>0.064499343</td><td>2</td><td>104</td><td>GO:0006950;GO:0050896                      </td><td>response to stimulus                                     </td><td>0.5449277</td></tr>\n",
       "\t<tr><th scope=row>42</th><td> 103</td><td>0.074077890</td><td>2</td><td>100</td><td>GO:0007017                                 </td><td>microtubule-based process                                </td><td>0.5449277</td></tr>\n",
       "\t<tr><th scope=row>77</th><td>-413</td><td>0.071396116</td><td>2</td><td>  6</td><td>GO:0044092                                 </td><td>negative regulation of molecular function                </td><td>0.5449277</td></tr>\n",
       "\t<tr><th scope=row>24</th><td> -85</td><td>0.088716885</td><td>2</td><td>135</td><td>GO:0006259                                 </td><td>DNA metabolic process                                    </td><td>0.5648499</td></tr>\n",
       "\t<tr><th scope=row>78</th><td>  96</td><td>0.089579725</td><td>2</td><td>103</td><td>GO:0044248;GO:1901575;GO:0009056           </td><td>catabolic process                                        </td><td>0.5648499</td></tr>\n",
       "\t<tr><th scope=row>94</th><td> 312</td><td>0.095950550</td><td>2</td><td>  9</td><td>GO:0051604                                 </td><td>protein maturation                                       </td><td>0.5886696</td></tr>\n",
       "\t<tr><th scope=row>65</th><td>-411</td><td>0.102023833</td><td>2</td><td>  5</td><td>GO:0032970                                 </td><td>regulation of actin filament-based process               </td><td>0.6094582</td></tr>\n",
       "\t<tr><th scope=row>20</th><td> 381</td><td>0.128982553</td><td>2</td><td>  5</td><td>GO:0001578                                 </td><td>microtubule bundle formation                             </td><td>0.6134497</td></tr>\n",
       "\t<tr><th scope=row>25</th><td>-338</td><td>0.111313187</td><td>2</td><td>  7</td><td>GO:0006353                                 </td><td>DNA-templated transcription, termination                 </td><td>0.6134497</td></tr>\n",
       "</tbody>\n",
       "</table>\n"
      ],
      "text/latex": [
       "A data.frame: 20 × 7\n",
       "\\begin{tabular}{r|lllllll}\n",
       "  & delta.rank & pval & level & nseqs & term & name & p.adj\\\\\n",
       "  & <int> & <dbl> & <int> & <int> & <chr> & <chr> & <dbl>\\\\\n",
       "\\hline\n",
       "\t96 &  760 & 0.002472641 & 2 &   5 & GO:0061912;GO:0016236                       & selective autophagy                                       & 0.3554175\\\\\n",
       "\t26 & -115 & 0.012035361 & 2 & 164 & GO:0006396                                  & RNA processing                                            & 0.3648416\\\\\n",
       "\t64 & -466 & 0.012857855 & 2 &   9 & GO:0032886                                  & regulation of microtubule-based process                   & 0.3648416\\\\\n",
       "\t33 &  178 & 0.023588750 & 2 &  52 & GO:0006796;GO:0019637;GO:0006793            & phosphorus metabolic process                              & 0.3672817\\\\\n",
       "\t37 &  525 & 0.021933679 & 2 &   6 & GO:0006888                                  & endoplasmic reticulum to Golgi vesicle-mediated transport & 0.3672817\\\\\n",
       "\t58 &  176 & 0.016993592 & 2 &  60 & GO:0022402                                  & cell cycle process                                        & 0.3672817\\\\\n",
       "\t104 &  195 & 0.029203933 & 2 &  40 & GO:1903047                                  & mitotic cell cycle process                                & 0.3899584\\\\\n",
       "\t14 &  437 & 0.039532420 & 2 &   7 & GO:0000492                                  & box C/D snoRNP assembly                                   & 0.4273266\\\\\n",
       "\t91 &  502 & 0.045621377 & 2 &   5 & GO:0051049                                  & regulation of transport                                   & 0.4707297\\\\\n",
       "\t16 & -140 & 0.058919743 & 2 &  59 & GO:0000724;GO:0000725;GO:0006302;GO:0006310 & DNA recombination                                         & 0.5349913\\\\\n",
       "\t10 &  191 & 0.073025492 & 2 &  28 & GO:0000278;GO:0007049                       & mitotic cell cycle                                        & 0.5449277\\\\\n",
       "\t39 & -104 & 0.064499343 & 2 & 104 & GO:0006950;GO:0050896                       & response to stimulus                                      & 0.5449277\\\\\n",
       "\t42 &  103 & 0.074077890 & 2 & 100 & GO:0007017                                  & microtubule-based process                                 & 0.5449277\\\\\n",
       "\t77 & -413 & 0.071396116 & 2 &   6 & GO:0044092                                  & negative regulation of molecular function                 & 0.5449277\\\\\n",
       "\t24 &  -85 & 0.088716885 & 2 & 135 & GO:0006259                                  & DNA metabolic process                                     & 0.5648499\\\\\n",
       "\t78 &   96 & 0.089579725 & 2 & 103 & GO:0044248;GO:1901575;GO:0009056            & catabolic process                                         & 0.5648499\\\\\n",
       "\t94 &  312 & 0.095950550 & 2 &   9 & GO:0051604                                  & protein maturation                                        & 0.5886696\\\\\n",
       "\t65 & -411 & 0.102023833 & 2 &   5 & GO:0032970                                  & regulation of actin filament-based process                & 0.6094582\\\\\n",
       "\t20 &  381 & 0.128982553 & 2 &   5 & GO:0001578                                  & microtubule bundle formation                              & 0.6134497\\\\\n",
       "\t25 & -338 & 0.111313187 & 2 &   7 & GO:0006353                                  & DNA-templated transcription, termination                  & 0.6134497\\\\\n",
       "\\end{tabular}\n"
      ],
      "text/markdown": [
       "\n",
       "A data.frame: 20 × 7\n",
       "\n",
       "| <!--/--> | delta.rank &lt;int&gt; | pval &lt;dbl&gt; | level &lt;int&gt; | nseqs &lt;int&gt; | term &lt;chr&gt; | name &lt;chr&gt; | p.adj &lt;dbl&gt; |\n",
       "|---|---|---|---|---|---|---|---|\n",
       "| 96 |  760 | 0.002472641 | 2 |   5 | GO:0061912;GO:0016236                       | selective autophagy                                       | 0.3554175 |\n",
       "| 26 | -115 | 0.012035361 | 2 | 164 | GO:0006396                                  | RNA processing                                            | 0.3648416 |\n",
       "| 64 | -466 | 0.012857855 | 2 |   9 | GO:0032886                                  | regulation of microtubule-based process                   | 0.3648416 |\n",
       "| 33 |  178 | 0.023588750 | 2 |  52 | GO:0006796;GO:0019637;GO:0006793            | phosphorus metabolic process                              | 0.3672817 |\n",
       "| 37 |  525 | 0.021933679 | 2 |   6 | GO:0006888                                  | endoplasmic reticulum to Golgi vesicle-mediated transport | 0.3672817 |\n",
       "| 58 |  176 | 0.016993592 | 2 |  60 | GO:0022402                                  | cell cycle process                                        | 0.3672817 |\n",
       "| 104 |  195 | 0.029203933 | 2 |  40 | GO:1903047                                  | mitotic cell cycle process                                | 0.3899584 |\n",
       "| 14 |  437 | 0.039532420 | 2 |   7 | GO:0000492                                  | box C/D snoRNP assembly                                   | 0.4273266 |\n",
       "| 91 |  502 | 0.045621377 | 2 |   5 | GO:0051049                                  | regulation of transport                                   | 0.4707297 |\n",
       "| 16 | -140 | 0.058919743 | 2 |  59 | GO:0000724;GO:0000725;GO:0006302;GO:0006310 | DNA recombination                                         | 0.5349913 |\n",
       "| 10 |  191 | 0.073025492 | 2 |  28 | GO:0000278;GO:0007049                       | mitotic cell cycle                                        | 0.5449277 |\n",
       "| 39 | -104 | 0.064499343 | 2 | 104 | GO:0006950;GO:0050896                       | response to stimulus                                      | 0.5449277 |\n",
       "| 42 |  103 | 0.074077890 | 2 | 100 | GO:0007017                                  | microtubule-based process                                 | 0.5449277 |\n",
       "| 77 | -413 | 0.071396116 | 2 |   6 | GO:0044092                                  | negative regulation of molecular function                 | 0.5449277 |\n",
       "| 24 |  -85 | 0.088716885 | 2 | 135 | GO:0006259                                  | DNA metabolic process                                     | 0.5648499 |\n",
       "| 78 |   96 | 0.089579725 | 2 | 103 | GO:0044248;GO:1901575;GO:0009056            | catabolic process                                         | 0.5648499 |\n",
       "| 94 |  312 | 0.095950550 | 2 |   9 | GO:0051604                                  | protein maturation                                        | 0.5886696 |\n",
       "| 65 | -411 | 0.102023833 | 2 |   5 | GO:0032970                                  | regulation of actin filament-based process                | 0.6094582 |\n",
       "| 20 |  381 | 0.128982553 | 2 |   5 | GO:0001578                                  | microtubule bundle formation                              | 0.6134497 |\n",
       "| 25 | -338 | 0.111313187 | 2 |   7 | GO:0006353                                  | DNA-templated transcription, termination                  | 0.6134497 |\n",
       "\n"
      ],
      "text/plain": [
       "    delta.rank pval        level nseqs\n",
       "96   760       0.002472641 2       5  \n",
       "26  -115       0.012035361 2     164  \n",
       "64  -466       0.012857855 2       9  \n",
       "33   178       0.023588750 2      52  \n",
       "37   525       0.021933679 2       6  \n",
       "58   176       0.016993592 2      60  \n",
       "104  195       0.029203933 2      40  \n",
       "14   437       0.039532420 2       7  \n",
       "91   502       0.045621377 2       5  \n",
       "16  -140       0.058919743 2      59  \n",
       "10   191       0.073025492 2      28  \n",
       "39  -104       0.064499343 2     104  \n",
       "42   103       0.074077890 2     100  \n",
       "77  -413       0.071396116 2       6  \n",
       "24   -85       0.088716885 2     135  \n",
       "78    96       0.089579725 2     103  \n",
       "94   312       0.095950550 2       9  \n",
       "65  -411       0.102023833 2       5  \n",
       "20   381       0.128982553 2       5  \n",
       "25  -338       0.111313187 2       7  \n",
       "    term                                       \n",
       "96  GO:0061912;GO:0016236                      \n",
       "26  GO:0006396                                 \n",
       "64  GO:0032886                                 \n",
       "33  GO:0006796;GO:0019637;GO:0006793           \n",
       "37  GO:0006888                                 \n",
       "58  GO:0022402                                 \n",
       "104 GO:1903047                                 \n",
       "14  GO:0000492                                 \n",
       "91  GO:0051049                                 \n",
       "16  GO:0000724;GO:0000725;GO:0006302;GO:0006310\n",
       "10  GO:0000278;GO:0007049                      \n",
       "39  GO:0006950;GO:0050896                      \n",
       "42  GO:0007017                                 \n",
       "77  GO:0044092                                 \n",
       "24  GO:0006259                                 \n",
       "78  GO:0044248;GO:1901575;GO:0009056           \n",
       "94  GO:0051604                                 \n",
       "65  GO:0032970                                 \n",
       "20  GO:0001578                                 \n",
       "25  GO:0006353                                 \n",
       "    name                                                      p.adj    \n",
       "96  selective autophagy                                       0.3554175\n",
       "26  RNA processing                                            0.3648416\n",
       "64  regulation of microtubule-based process                   0.3648416\n",
       "33  phosphorus metabolic process                              0.3672817\n",
       "37  endoplasmic reticulum to Golgi vesicle-mediated transport 0.3672817\n",
       "58  cell cycle process                                        0.3672817\n",
       "104 mitotic cell cycle process                                0.3899584\n",
       "14  box C/D snoRNP assembly                                   0.4273266\n",
       "91  regulation of transport                                   0.4707297\n",
       "16  DNA recombination                                         0.5349913\n",
       "10  mitotic cell cycle                                        0.5449277\n",
       "39  response to stimulus                                      0.5449277\n",
       "42  microtubule-based process                                 0.5449277\n",
       "77  negative regulation of molecular function                 0.5449277\n",
       "24  DNA metabolic process                                     0.5648499\n",
       "78  catabolic process                                         0.5648499\n",
       "94  protein maturation                                        0.5886696\n",
       "65  regulation of actin filament-based process                0.6094582\n",
       "20  microtubule bundle formation                              0.6134497\n",
       "25  DNA-templated transcription, termination                  0.6134497"
      ]
     },
     "metadata": {},
     "output_type": "display_data"
    }
   ],
   "source": [
    "l2_BPcc <- filter(mwu_BP_cc, mwu_BP_cc$level == 2)\n",
    "head(l2_BPcc[order(l2_BPcc$p.adj),], 20)"
   ]
  },
  {
   "cell_type": "code",
   "execution_count": 89,
   "id": "62c2cf3f-49e8-41bf-a818-4ec570ce5ea2",
   "metadata": {},
   "outputs": [
    {
     "data": {
      "text/html": [
       "<table class=\"dataframe\">\n",
       "<caption>A data.frame: 20 × 7</caption>\n",
       "<thead>\n",
       "\t<tr><th></th><th scope=col>delta.rank</th><th scope=col>pval</th><th scope=col>level</th><th scope=col>nseqs</th><th scope=col>term</th><th scope=col>name</th><th scope=col>p.adj</th></tr>\n",
       "\t<tr><th></th><th scope=col>&lt;int&gt;</th><th scope=col>&lt;dbl&gt;</th><th scope=col>&lt;int&gt;</th><th scope=col>&lt;int&gt;</th><th scope=col>&lt;chr&gt;</th><th scope=col>&lt;chr&gt;</th><th scope=col>&lt;dbl&gt;</th></tr>\n",
       "</thead>\n",
       "<tbody>\n",
       "\t<tr><th scope=row>51</th><td> 572</td><td>0.007023425</td><td>3</td><td>  7</td><td>GO:0001934;GO:0031401;GO:0042327;GO:0045937;GO:0010562</td><td>positive regulation of protein phosphorylation                         </td><td>0.3554175</td></tr>\n",
       "\t<tr><th scope=row>58</th><td>-621</td><td>0.006771282</td><td>4</td><td>  6</td><td>GO:0003352;GO:0060632;GO:0051270                      </td><td>regulation of cellular component movement                              </td><td>0.3554175</td></tr>\n",
       "\t<tr><th scope=row>106</th><td>-646</td><td>0.004832417</td><td>4</td><td>  6</td><td>GO:0007007;GO:0007006;GO:0061024                      </td><td>membrane organization                                                  </td><td>0.3554175</td></tr>\n",
       "\t<tr><th scope=row>212</th><td> 760</td><td>0.002472641</td><td>2</td><td>  5</td><td>GO:0061912;GO:0016236                                 </td><td>selective autophagy                                                    </td><td>0.3554175</td></tr>\n",
       "\t<tr><th scope=row>217</th><td> 320</td><td>0.007828579</td><td>3</td><td> 22</td><td>GO:0090407                                            </td><td>organophosphate biosynthetic process                                   </td><td>0.3554175</td></tr>\n",
       "\t<tr><th scope=row>66</th><td>-115</td><td>0.012035361</td><td>2</td><td>164</td><td>GO:0006396                                            </td><td>RNA processing                                                         </td><td>0.3648416</td></tr>\n",
       "\t<tr><th scope=row>103</th><td>-157</td><td>0.010509536</td><td>3</td><td> 87</td><td>GO:0006974;GO:0033554;GO:0051716;GO:0006281           </td><td>cellular response to stress                                            </td><td>0.3648416</td></tr>\n",
       "\t<tr><th scope=row>164</th><td>-466</td><td>0.012857855</td><td>2</td><td>  9</td><td>GO:0032886                                            </td><td>regulation of microtubule-based process                                </td><td>0.3648416</td></tr>\n",
       "\t<tr><th scope=row>7</th><td> 566</td><td>0.024269718</td><td>5</td><td>  5</td><td>GO:0000070;GO:0000819;GO:0098813                      </td><td>mitotic sister chromatid segregation                                   </td><td>0.3672817</td></tr>\n",
       "\t<tr><th scope=row>15</th><td> 577</td><td>0.021541750</td><td>4</td><td>  5</td><td>GO:0000165                                            </td><td>MAPK cascade                                                           </td><td>0.3672817</td></tr>\n",
       "\t<tr><th scope=row>30</th><td> 352</td><td>0.019436839</td><td>5</td><td> 14</td><td>GO:0000422;GO:0006914;GO:0061726;GO:0061919;GO:1903008</td><td>autophagy                                                              </td><td>0.3672817</td></tr>\n",
       "\t<tr><th scope=row>35</th><td> 410</td><td>0.021249279</td><td>4</td><td> 10</td><td>GO:0000491                                            </td><td>small nucleolar ribonucleoprotein complex assembly                     </td><td>0.3672817</td></tr>\n",
       "\t<tr><th scope=row>89</th><td> 178</td><td>0.023588750</td><td>2</td><td> 52</td><td>GO:0006796;GO:0019637;GO:0006793                      </td><td>phosphorus metabolic process                                           </td><td>0.3672817</td></tr>\n",
       "\t<tr><th scope=row>97</th><td> 525</td><td>0.021933679</td><td>2</td><td>  6</td><td>GO:0006888                                            </td><td>endoplasmic reticulum to Golgi vesicle-mediated transport              </td><td>0.3672817</td></tr>\n",
       "\t<tr><th scope=row>143</th><td> 176</td><td>0.016993592</td><td>2</td><td> 60</td><td>GO:0022402                                            </td><td>cell cycle process                                                     </td><td>0.3672817</td></tr>\n",
       "\t<tr><th scope=row>24</th><td>-506</td><td>0.027268241</td><td>4</td><td>  6</td><td>GO:0000350                                            </td><td>generation of catalytic spliceosome for second transesterification step</td><td>0.3868682</td></tr>\n",
       "\t<tr><th scope=row>227</th><td> 195</td><td>0.029203933</td><td>2</td><td> 40</td><td>GO:1903047                                            </td><td>mitotic cell cycle process                                             </td><td>0.3899584</td></tr>\n",
       "\t<tr><th scope=row>3</th><td>-375</td><td>0.034772324</td><td>4</td><td> 10</td><td>GO:0000028                                            </td><td>ribosomal small subunit assembly                                       </td><td>0.4239334</td></tr>\n",
       "\t<tr><th scope=row>28</th><td>-134</td><td>0.035824705</td><td>4</td><td> 80</td><td>GO:0000398;GO:0000377;GO:0006397;GO:0000375;GO:0008380</td><td>RNA splicing                                                           </td><td>0.4239334</td></tr>\n",
       "\t<tr><th scope=row>209</th><td>-390</td><td>0.037350964</td><td>4</td><td>  9</td><td>GO:0055082;GO:0048878                                 </td><td>chemical homeostasis                                                   </td><td>0.4239334</td></tr>\n",
       "</tbody>\n",
       "</table>\n"
      ],
      "text/latex": [
       "A data.frame: 20 × 7\n",
       "\\begin{tabular}{r|lllllll}\n",
       "  & delta.rank & pval & level & nseqs & term & name & p.adj\\\\\n",
       "  & <int> & <dbl> & <int> & <int> & <chr> & <chr> & <dbl>\\\\\n",
       "\\hline\n",
       "\t51 &  572 & 0.007023425 & 3 &   7 & GO:0001934;GO:0031401;GO:0042327;GO:0045937;GO:0010562 & positive regulation of protein phosphorylation                          & 0.3554175\\\\\n",
       "\t58 & -621 & 0.006771282 & 4 &   6 & GO:0003352;GO:0060632;GO:0051270                       & regulation of cellular component movement                               & 0.3554175\\\\\n",
       "\t106 & -646 & 0.004832417 & 4 &   6 & GO:0007007;GO:0007006;GO:0061024                       & membrane organization                                                   & 0.3554175\\\\\n",
       "\t212 &  760 & 0.002472641 & 2 &   5 & GO:0061912;GO:0016236                                  & selective autophagy                                                     & 0.3554175\\\\\n",
       "\t217 &  320 & 0.007828579 & 3 &  22 & GO:0090407                                             & organophosphate biosynthetic process                                    & 0.3554175\\\\\n",
       "\t66 & -115 & 0.012035361 & 2 & 164 & GO:0006396                                             & RNA processing                                                          & 0.3648416\\\\\n",
       "\t103 & -157 & 0.010509536 & 3 &  87 & GO:0006974;GO:0033554;GO:0051716;GO:0006281            & cellular response to stress                                             & 0.3648416\\\\\n",
       "\t164 & -466 & 0.012857855 & 2 &   9 & GO:0032886                                             & regulation of microtubule-based process                                 & 0.3648416\\\\\n",
       "\t7 &  566 & 0.024269718 & 5 &   5 & GO:0000070;GO:0000819;GO:0098813                       & mitotic sister chromatid segregation                                    & 0.3672817\\\\\n",
       "\t15 &  577 & 0.021541750 & 4 &   5 & GO:0000165                                             & MAPK cascade                                                            & 0.3672817\\\\\n",
       "\t30 &  352 & 0.019436839 & 5 &  14 & GO:0000422;GO:0006914;GO:0061726;GO:0061919;GO:1903008 & autophagy                                                               & 0.3672817\\\\\n",
       "\t35 &  410 & 0.021249279 & 4 &  10 & GO:0000491                                             & small nucleolar ribonucleoprotein complex assembly                      & 0.3672817\\\\\n",
       "\t89 &  178 & 0.023588750 & 2 &  52 & GO:0006796;GO:0019637;GO:0006793                       & phosphorus metabolic process                                            & 0.3672817\\\\\n",
       "\t97 &  525 & 0.021933679 & 2 &   6 & GO:0006888                                             & endoplasmic reticulum to Golgi vesicle-mediated transport               & 0.3672817\\\\\n",
       "\t143 &  176 & 0.016993592 & 2 &  60 & GO:0022402                                             & cell cycle process                                                      & 0.3672817\\\\\n",
       "\t24 & -506 & 0.027268241 & 4 &   6 & GO:0000350                                             & generation of catalytic spliceosome for second transesterification step & 0.3868682\\\\\n",
       "\t227 &  195 & 0.029203933 & 2 &  40 & GO:1903047                                             & mitotic cell cycle process                                              & 0.3899584\\\\\n",
       "\t3 & -375 & 0.034772324 & 4 &  10 & GO:0000028                                             & ribosomal small subunit assembly                                        & 0.4239334\\\\\n",
       "\t28 & -134 & 0.035824705 & 4 &  80 & GO:0000398;GO:0000377;GO:0006397;GO:0000375;GO:0008380 & RNA splicing                                                            & 0.4239334\\\\\n",
       "\t209 & -390 & 0.037350964 & 4 &   9 & GO:0055082;GO:0048878                                  & chemical homeostasis                                                    & 0.4239334\\\\\n",
       "\\end{tabular}\n"
      ],
      "text/markdown": [
       "\n",
       "A data.frame: 20 × 7\n",
       "\n",
       "| <!--/--> | delta.rank &lt;int&gt; | pval &lt;dbl&gt; | level &lt;int&gt; | nseqs &lt;int&gt; | term &lt;chr&gt; | name &lt;chr&gt; | p.adj &lt;dbl&gt; |\n",
       "|---|---|---|---|---|---|---|---|\n",
       "| 51 |  572 | 0.007023425 | 3 |   7 | GO:0001934;GO:0031401;GO:0042327;GO:0045937;GO:0010562 | positive regulation of protein phosphorylation                          | 0.3554175 |\n",
       "| 58 | -621 | 0.006771282 | 4 |   6 | GO:0003352;GO:0060632;GO:0051270                       | regulation of cellular component movement                               | 0.3554175 |\n",
       "| 106 | -646 | 0.004832417 | 4 |   6 | GO:0007007;GO:0007006;GO:0061024                       | membrane organization                                                   | 0.3554175 |\n",
       "| 212 |  760 | 0.002472641 | 2 |   5 | GO:0061912;GO:0016236                                  | selective autophagy                                                     | 0.3554175 |\n",
       "| 217 |  320 | 0.007828579 | 3 |  22 | GO:0090407                                             | organophosphate biosynthetic process                                    | 0.3554175 |\n",
       "| 66 | -115 | 0.012035361 | 2 | 164 | GO:0006396                                             | RNA processing                                                          | 0.3648416 |\n",
       "| 103 | -157 | 0.010509536 | 3 |  87 | GO:0006974;GO:0033554;GO:0051716;GO:0006281            | cellular response to stress                                             | 0.3648416 |\n",
       "| 164 | -466 | 0.012857855 | 2 |   9 | GO:0032886                                             | regulation of microtubule-based process                                 | 0.3648416 |\n",
       "| 7 |  566 | 0.024269718 | 5 |   5 | GO:0000070;GO:0000819;GO:0098813                       | mitotic sister chromatid segregation                                    | 0.3672817 |\n",
       "| 15 |  577 | 0.021541750 | 4 |   5 | GO:0000165                                             | MAPK cascade                                                            | 0.3672817 |\n",
       "| 30 |  352 | 0.019436839 | 5 |  14 | GO:0000422;GO:0006914;GO:0061726;GO:0061919;GO:1903008 | autophagy                                                               | 0.3672817 |\n",
       "| 35 |  410 | 0.021249279 | 4 |  10 | GO:0000491                                             | small nucleolar ribonucleoprotein complex assembly                      | 0.3672817 |\n",
       "| 89 |  178 | 0.023588750 | 2 |  52 | GO:0006796;GO:0019637;GO:0006793                       | phosphorus metabolic process                                            | 0.3672817 |\n",
       "| 97 |  525 | 0.021933679 | 2 |   6 | GO:0006888                                             | endoplasmic reticulum to Golgi vesicle-mediated transport               | 0.3672817 |\n",
       "| 143 |  176 | 0.016993592 | 2 |  60 | GO:0022402                                             | cell cycle process                                                      | 0.3672817 |\n",
       "| 24 | -506 | 0.027268241 | 4 |   6 | GO:0000350                                             | generation of catalytic spliceosome for second transesterification step | 0.3868682 |\n",
       "| 227 |  195 | 0.029203933 | 2 |  40 | GO:1903047                                             | mitotic cell cycle process                                              | 0.3899584 |\n",
       "| 3 | -375 | 0.034772324 | 4 |  10 | GO:0000028                                             | ribosomal small subunit assembly                                        | 0.4239334 |\n",
       "| 28 | -134 | 0.035824705 | 4 |  80 | GO:0000398;GO:0000377;GO:0006397;GO:0000375;GO:0008380 | RNA splicing                                                            | 0.4239334 |\n",
       "| 209 | -390 | 0.037350964 | 4 |   9 | GO:0055082;GO:0048878                                  | chemical homeostasis                                                    | 0.4239334 |\n",
       "\n"
      ],
      "text/plain": [
       "    delta.rank pval        level nseqs\n",
       "51   572       0.007023425 3       7  \n",
       "58  -621       0.006771282 4       6  \n",
       "106 -646       0.004832417 4       6  \n",
       "212  760       0.002472641 2       5  \n",
       "217  320       0.007828579 3      22  \n",
       "66  -115       0.012035361 2     164  \n",
       "103 -157       0.010509536 3      87  \n",
       "164 -466       0.012857855 2       9  \n",
       "7    566       0.024269718 5       5  \n",
       "15   577       0.021541750 4       5  \n",
       "30   352       0.019436839 5      14  \n",
       "35   410       0.021249279 4      10  \n",
       "89   178       0.023588750 2      52  \n",
       "97   525       0.021933679 2       6  \n",
       "143  176       0.016993592 2      60  \n",
       "24  -506       0.027268241 4       6  \n",
       "227  195       0.029203933 2      40  \n",
       "3   -375       0.034772324 4      10  \n",
       "28  -134       0.035824705 4      80  \n",
       "209 -390       0.037350964 4       9  \n",
       "    term                                                  \n",
       "51  GO:0001934;GO:0031401;GO:0042327;GO:0045937;GO:0010562\n",
       "58  GO:0003352;GO:0060632;GO:0051270                      \n",
       "106 GO:0007007;GO:0007006;GO:0061024                      \n",
       "212 GO:0061912;GO:0016236                                 \n",
       "217 GO:0090407                                            \n",
       "66  GO:0006396                                            \n",
       "103 GO:0006974;GO:0033554;GO:0051716;GO:0006281           \n",
       "164 GO:0032886                                            \n",
       "7   GO:0000070;GO:0000819;GO:0098813                      \n",
       "15  GO:0000165                                            \n",
       "30  GO:0000422;GO:0006914;GO:0061726;GO:0061919;GO:1903008\n",
       "35  GO:0000491                                            \n",
       "89  GO:0006796;GO:0019637;GO:0006793                      \n",
       "97  GO:0006888                                            \n",
       "143 GO:0022402                                            \n",
       "24  GO:0000350                                            \n",
       "227 GO:1903047                                            \n",
       "3   GO:0000028                                            \n",
       "28  GO:0000398;GO:0000377;GO:0006397;GO:0000375;GO:0008380\n",
       "209 GO:0055082;GO:0048878                                 \n",
       "    name                                                                   \n",
       "51  positive regulation of protein phosphorylation                         \n",
       "58  regulation of cellular component movement                              \n",
       "106 membrane organization                                                  \n",
       "212 selective autophagy                                                    \n",
       "217 organophosphate biosynthetic process                                   \n",
       "66  RNA processing                                                         \n",
       "103 cellular response to stress                                            \n",
       "164 regulation of microtubule-based process                                \n",
       "7   mitotic sister chromatid segregation                                   \n",
       "15  MAPK cascade                                                           \n",
       "30  autophagy                                                              \n",
       "35  small nucleolar ribonucleoprotein complex assembly                     \n",
       "89  phosphorus metabolic process                                           \n",
       "97  endoplasmic reticulum to Golgi vesicle-mediated transport              \n",
       "143 cell cycle process                                                     \n",
       "24  generation of catalytic spliceosome for second transesterification step\n",
       "227 mitotic cell cycle process                                             \n",
       "3   ribosomal small subunit assembly                                       \n",
       "28  RNA splicing                                                           \n",
       "209 chemical homeostasis                                                   \n",
       "    p.adj    \n",
       "51  0.3554175\n",
       "58  0.3554175\n",
       "106 0.3554175\n",
       "212 0.3554175\n",
       "217 0.3554175\n",
       "66  0.3648416\n",
       "103 0.3648416\n",
       "164 0.3648416\n",
       "7   0.3672817\n",
       "15  0.3672817\n",
       "30  0.3672817\n",
       "35  0.3672817\n",
       "89  0.3672817\n",
       "97  0.3672817\n",
       "143 0.3672817\n",
       "24  0.3868682\n",
       "227 0.3899584\n",
       "3   0.4239334\n",
       "28  0.4239334\n",
       "209 0.4239334"
      ]
     },
     "metadata": {},
     "output_type": "display_data"
    }
   ],
   "source": [
    "# not limiting to just general level\n",
    "head(mwu_BP_cc[order(mwu_BP_cc$p.adj),], 20)"
   ]
  },
  {
   "cell_type": "markdown",
   "id": "32a3918d-2823-4861-8575-22ff2486b24d",
   "metadata": {},
   "source": [
    "seems like these are relating to autophagy, stress response, homeostasis"
   ]
  },
  {
   "cell_type": "markdown",
   "id": "c04782bd-f841-4017-83c5-c6252726cba9",
   "metadata": {},
   "source": [
    "## overlap of GO-MWU output with og list of significant genes\n",
    "\n",
    "CH vs. HC biological processes"
   ]
  },
  {
   "cell_type": "code",
   "execution_count": 85,
   "id": "e854bf8a-92ec-488b-8703-627cf55c8dec",
   "metadata": {},
   "outputs": [
    {
     "data": {
      "text/html": [
       "<table class=\"dataframe\">\n",
       "<caption>A data.frame: 6 × 5</caption>\n",
       "<thead>\n",
       "\t<tr><th></th><th scope=col>name</th><th scope=col>term</th><th scope=col>lev</th><th scope=col>seq</th><th scope=col>value</th></tr>\n",
       "\t<tr><th></th><th scope=col>&lt;chr&gt;</th><th scope=col>&lt;chr&gt;</th><th scope=col>&lt;int&gt;</th><th scope=col>&lt;chr&gt;</th><th scope=col>&lt;dbl&gt;</th></tr>\n",
       "</thead>\n",
       "<tbody>\n",
       "\t<tr><th scope=row>1</th><td>supramolecular fiber organization</td><td>GO:0007015;GO:0097435</td><td>2</td><td>LOC111101101</td><td>-0.38722520</td></tr>\n",
       "\t<tr><th scope=row>2</th><td>supramolecular fiber organization</td><td>GO:0007015;GO:0097435</td><td>2</td><td>LOC111108074</td><td> 0.08059783</td></tr>\n",
       "\t<tr><th scope=row>3</th><td>supramolecular fiber organization</td><td>GO:0007015;GO:0097435</td><td>2</td><td>LOC111109780</td><td>-1.04879576</td></tr>\n",
       "\t<tr><th scope=row>4</th><td>supramolecular fiber organization</td><td>GO:0007015;GO:0097435</td><td>2</td><td>LOC111113129</td><td>-0.33325171</td></tr>\n",
       "\t<tr><th scope=row>5</th><td>supramolecular fiber organization</td><td>GO:0007015;GO:0097435</td><td>2</td><td>LOC111113355</td><td>-0.28047982</td></tr>\n",
       "\t<tr><th scope=row>6</th><td>supramolecular fiber organization</td><td>GO:0007015;GO:0097435</td><td>2</td><td>LOC111115662</td><td>-0.31195976</td></tr>\n",
       "</tbody>\n",
       "</table>\n"
      ],
      "text/latex": [
       "A data.frame: 6 × 5\n",
       "\\begin{tabular}{r|lllll}\n",
       "  & name & term & lev & seq & value\\\\\n",
       "  & <chr> & <chr> & <int> & <chr> & <dbl>\\\\\n",
       "\\hline\n",
       "\t1 & supramolecular fiber organization & GO:0007015;GO:0097435 & 2 & LOC111101101 & -0.38722520\\\\\n",
       "\t2 & supramolecular fiber organization & GO:0007015;GO:0097435 & 2 & LOC111108074 &  0.08059783\\\\\n",
       "\t3 & supramolecular fiber organization & GO:0007015;GO:0097435 & 2 & LOC111109780 & -1.04879576\\\\\n",
       "\t4 & supramolecular fiber organization & GO:0007015;GO:0097435 & 2 & LOC111113129 & -0.33325171\\\\\n",
       "\t5 & supramolecular fiber organization & GO:0007015;GO:0097435 & 2 & LOC111113355 & -0.28047982\\\\\n",
       "\t6 & supramolecular fiber organization & GO:0007015;GO:0097435 & 2 & LOC111115662 & -0.31195976\\\\\n",
       "\\end{tabular}\n"
      ],
      "text/markdown": [
       "\n",
       "A data.frame: 6 × 5\n",
       "\n",
       "| <!--/--> | name &lt;chr&gt; | term &lt;chr&gt; | lev &lt;int&gt; | seq &lt;chr&gt; | value &lt;dbl&gt; |\n",
       "|---|---|---|---|---|---|\n",
       "| 1 | supramolecular fiber organization | GO:0007015;GO:0097435 | 2 | LOC111101101 | -0.38722520 |\n",
       "| 2 | supramolecular fiber organization | GO:0007015;GO:0097435 | 2 | LOC111108074 |  0.08059783 |\n",
       "| 3 | supramolecular fiber organization | GO:0007015;GO:0097435 | 2 | LOC111109780 | -1.04879576 |\n",
       "| 4 | supramolecular fiber organization | GO:0007015;GO:0097435 | 2 | LOC111113129 | -0.33325171 |\n",
       "| 5 | supramolecular fiber organization | GO:0007015;GO:0097435 | 2 | LOC111113355 | -0.28047982 |\n",
       "| 6 | supramolecular fiber organization | GO:0007015;GO:0097435 | 2 | LOC111115662 | -0.31195976 |\n",
       "\n"
      ],
      "text/plain": [
       "  name                              term                  lev seq         \n",
       "1 supramolecular fiber organization GO:0007015;GO:0097435 2   LOC111101101\n",
       "2 supramolecular fiber organization GO:0007015;GO:0097435 2   LOC111108074\n",
       "3 supramolecular fiber organization GO:0007015;GO:0097435 2   LOC111109780\n",
       "4 supramolecular fiber organization GO:0007015;GO:0097435 2   LOC111113129\n",
       "5 supramolecular fiber organization GO:0007015;GO:0097435 2   LOC111113355\n",
       "6 supramolecular fiber organization GO:0007015;GO:0097435 2   LOC111115662\n",
       "  value      \n",
       "1 -0.38722520\n",
       "2  0.08059783\n",
       "3 -1.04879576\n",
       "4 -0.33325171\n",
       "5 -0.28047982\n",
       "6 -0.31195976"
      ]
     },
     "metadata": {},
     "output_type": "display_data"
    },
    {
     "data": {
      "text/html": [
       "<style>\n",
       ".list-inline {list-style: none; margin:0; padding: 0}\n",
       ".list-inline>li {display: inline-block}\n",
       ".list-inline>li:not(:last-child)::after {content: \"\\00b7\"; padding: 0 .5ex}\n",
       "</style>\n",
       "<ol class=list-inline><li>6755</li><li>5</li></ol>\n"
      ],
      "text/latex": [
       "\\begin{enumerate*}\n",
       "\\item 6755\n",
       "\\item 5\n",
       "\\end{enumerate*}\n"
      ],
      "text/markdown": [
       "1. 6755\n",
       "2. 5\n",
       "\n",
       "\n"
      ],
      "text/plain": [
       "[1] 6755    5"
      ]
     },
     "metadata": {},
     "output_type": "display_data"
    }
   ],
   "source": [
    "BP_go <- read.csv('/project/pi_sarah_gignouxwolfsohn_uml_edu/julia/CE_MethylRAD_analysis_2018/analysis/DMGs_analysis/go_mwu/BP_allGenes_CH_lfc.csv', sep = '\\t')\n",
    "head(BP_go)\n",
    "dim(BP_go)"
   ]
  },
  {
   "cell_type": "code",
   "execution_count": 82,
   "id": "5b93f39c-a1d0-4f8a-8060-dce6170d38d2",
   "metadata": {},
   "outputs": [
    {
     "data": {
      "text/html": [
       "<table class=\"dataframe\">\n",
       "<caption>A data.frame: 6 × 8</caption>\n",
       "<thead>\n",
       "\t<tr><th></th><th scope=col>symbol</th><th scope=col>baseMean</th><th scope=col>log2FC</th><th scope=col>lfcSE</th><th scope=col>stat</th><th scope=col>pvalue</th><th scope=col>padj</th><th scope=col>name</th></tr>\n",
       "\t<tr><th></th><th scope=col>&lt;chr&gt;</th><th scope=col>&lt;dbl&gt;</th><th scope=col>&lt;dbl&gt;</th><th scope=col>&lt;dbl&gt;</th><th scope=col>&lt;dbl&gt;</th><th scope=col>&lt;dbl&gt;</th><th scope=col>&lt;dbl&gt;</th><th scope=col>&lt;chr&gt;</th></tr>\n",
       "</thead>\n",
       "<tbody>\n",
       "\t<tr><th scope=row>1</th><td>LOC111099548</td><td>42.98619</td><td>-1.2672684</td><td>0.2026166</td><td>-5.020656</td><td>5.149523e-07</td><td>0.0003099498</td><td>kinesin-like protein KIF17                                          </td></tr>\n",
       "\t<tr><th scope=row>2</th><td>LOC111099571</td><td>31.11937</td><td>-1.4181929</td><td>0.2861630</td><td>-4.082264</td><td>4.459915e-05</td><td>0.0069725275</td><td>histone RNA hairpin-binding protein-like                            </td></tr>\n",
       "\t<tr><th scope=row>3</th><td>LOC111099585</td><td>36.32548</td><td> 0.9854391</td><td>0.2091056</td><td> 3.517070</td><td>4.363394e-04</td><td>0.0332446433</td><td>lys-63-specific deubiquitinase BRCC36-like                          </td></tr>\n",
       "\t<tr><th scope=row>4</th><td>LOC111099930</td><td>35.09830</td><td>-1.1981548</td><td>0.2270953</td><td>-4.175140</td><td>2.978035e-05</td><td>0.0051868387</td><td>uncharacterized LOC111099930, transcript variant X1                 </td></tr>\n",
       "\t<tr><th scope=row>5</th><td>LOC111099978</td><td>37.23914</td><td> 1.1530905</td><td>0.2612132</td><td> 3.457293</td><td>5.456316e-04</td><td>0.0390971051</td><td>oncoprotein-induced transcript 3 protein-like, transcript variant X1</td></tr>\n",
       "\t<tr><th scope=row>6</th><td>LOC111100608</td><td>22.90296</td><td>-1.4622657</td><td>0.2851646</td><td>-4.251109</td><td>2.127149e-05</td><td>0.0040010349</td><td>DDRGK domain-containing protein 1-like                              </td></tr>\n",
       "</tbody>\n",
       "</table>\n"
      ],
      "text/latex": [
       "A data.frame: 6 × 8\n",
       "\\begin{tabular}{r|llllllll}\n",
       "  & symbol & baseMean & log2FC & lfcSE & stat & pvalue & padj & name\\\\\n",
       "  & <chr> & <dbl> & <dbl> & <dbl> & <dbl> & <dbl> & <dbl> & <chr>\\\\\n",
       "\\hline\n",
       "\t1 & LOC111099548 & 42.98619 & -1.2672684 & 0.2026166 & -5.020656 & 5.149523e-07 & 0.0003099498 & kinesin-like protein KIF17                                          \\\\\n",
       "\t2 & LOC111099571 & 31.11937 & -1.4181929 & 0.2861630 & -4.082264 & 4.459915e-05 & 0.0069725275 & histone RNA hairpin-binding protein-like                            \\\\\n",
       "\t3 & LOC111099585 & 36.32548 &  0.9854391 & 0.2091056 &  3.517070 & 4.363394e-04 & 0.0332446433 & lys-63-specific deubiquitinase BRCC36-like                          \\\\\n",
       "\t4 & LOC111099930 & 35.09830 & -1.1981548 & 0.2270953 & -4.175140 & 2.978035e-05 & 0.0051868387 & uncharacterized LOC111099930, transcript variant X1                 \\\\\n",
       "\t5 & LOC111099978 & 37.23914 &  1.1530905 & 0.2612132 &  3.457293 & 5.456316e-04 & 0.0390971051 & oncoprotein-induced transcript 3 protein-like, transcript variant X1\\\\\n",
       "\t6 & LOC111100608 & 22.90296 & -1.4622657 & 0.2851646 & -4.251109 & 2.127149e-05 & 0.0040010349 & DDRGK domain-containing protein 1-like                              \\\\\n",
       "\\end{tabular}\n"
      ],
      "text/markdown": [
       "\n",
       "A data.frame: 6 × 8\n",
       "\n",
       "| <!--/--> | symbol &lt;chr&gt; | baseMean &lt;dbl&gt; | log2FC &lt;dbl&gt; | lfcSE &lt;dbl&gt; | stat &lt;dbl&gt; | pvalue &lt;dbl&gt; | padj &lt;dbl&gt; | name &lt;chr&gt; |\n",
       "|---|---|---|---|---|---|---|---|---|\n",
       "| 1 | LOC111099548 | 42.98619 | -1.2672684 | 0.2026166 | -5.020656 | 5.149523e-07 | 0.0003099498 | kinesin-like protein KIF17                                           |\n",
       "| 2 | LOC111099571 | 31.11937 | -1.4181929 | 0.2861630 | -4.082264 | 4.459915e-05 | 0.0069725275 | histone RNA hairpin-binding protein-like                             |\n",
       "| 3 | LOC111099585 | 36.32548 |  0.9854391 | 0.2091056 |  3.517070 | 4.363394e-04 | 0.0332446433 | lys-63-specific deubiquitinase BRCC36-like                           |\n",
       "| 4 | LOC111099930 | 35.09830 | -1.1981548 | 0.2270953 | -4.175140 | 2.978035e-05 | 0.0051868387 | uncharacterized LOC111099930, transcript variant X1                  |\n",
       "| 5 | LOC111099978 | 37.23914 |  1.1530905 | 0.2612132 |  3.457293 | 5.456316e-04 | 0.0390971051 | oncoprotein-induced transcript 3 protein-like, transcript variant X1 |\n",
       "| 6 | LOC111100608 | 22.90296 | -1.4622657 | 0.2851646 | -4.251109 | 2.127149e-05 | 0.0040010349 | DDRGK domain-containing protein 1-like                               |\n",
       "\n"
      ],
      "text/plain": [
       "  symbol       baseMean log2FC     lfcSE     stat      pvalue      \n",
       "1 LOC111099548 42.98619 -1.2672684 0.2026166 -5.020656 5.149523e-07\n",
       "2 LOC111099571 31.11937 -1.4181929 0.2861630 -4.082264 4.459915e-05\n",
       "3 LOC111099585 36.32548  0.9854391 0.2091056  3.517070 4.363394e-04\n",
       "4 LOC111099930 35.09830 -1.1981548 0.2270953 -4.175140 2.978035e-05\n",
       "5 LOC111099978 37.23914  1.1530905 0.2612132  3.457293 5.456316e-04\n",
       "6 LOC111100608 22.90296 -1.4622657 0.2851646 -4.251109 2.127149e-05\n",
       "  padj        \n",
       "1 0.0003099498\n",
       "2 0.0069725275\n",
       "3 0.0332446433\n",
       "4 0.0051868387\n",
       "5 0.0390971051\n",
       "6 0.0040010349\n",
       "  name                                                                \n",
       "1 kinesin-like protein KIF17                                          \n",
       "2 histone RNA hairpin-binding protein-like                            \n",
       "3 lys-63-specific deubiquitinase BRCC36-like                          \n",
       "4 uncharacterized LOC111099930, transcript variant X1                 \n",
       "5 oncoprotein-induced transcript 3 protein-like, transcript variant X1\n",
       "6 DDRGK domain-containing protein 1-like                              "
      ]
     },
     "metadata": {},
     "output_type": "display_data"
    }
   ],
   "source": [
    "sigCH_dmg <- read.csv('/project/pi_sarah_gignouxwolfsohn_uml_edu/julia/CE_MethylRAD_analysis_2018/analysis/deseq_res_files/geneFeatures_res/sig_DMGs/sig_CH_HC_genes.csv')\n",
    "\n",
    "# remove rowname\n",
    "sigCH_dmg <- sigCH_dmg[-1]\n",
    "\n",
    "head(sigCH_dmg)"
   ]
  },
  {
   "cell_type": "code",
   "execution_count": 86,
   "id": "952ed9c2-ba27-4cbd-b7c4-f0870ca0b9e1",
   "metadata": {},
   "outputs": [
    {
     "data": {
      "text/html": [
       "<style>\n",
       ".list-inline {list-style: none; margin:0; padding: 0}\n",
       ".list-inline>li {display: inline-block}\n",
       ".list-inline>li:not(:last-child)::after {content: \"\\00b7\"; padding: 0 .5ex}\n",
       "</style>\n",
       "<ol class=list-inline><li>525</li><li>5</li></ol>\n"
      ],
      "text/latex": [
       "\\begin{enumerate*}\n",
       "\\item 525\n",
       "\\item 5\n",
       "\\end{enumerate*}\n"
      ],
      "text/markdown": [
       "1. 525\n",
       "2. 5\n",
       "\n",
       "\n"
      ],
      "text/plain": [
       "[1] 525   5"
      ]
     },
     "metadata": {},
     "output_type": "display_data"
    },
    {
     "data": {
      "text/html": [
       "<table class=\"dataframe\">\n",
       "<caption>A data.frame: 6 × 5</caption>\n",
       "<thead>\n",
       "\t<tr><th></th><th scope=col>name</th><th scope=col>term</th><th scope=col>lev</th><th scope=col>seq</th><th scope=col>value</th></tr>\n",
       "\t<tr><th></th><th scope=col>&lt;chr&gt;</th><th scope=col>&lt;chr&gt;</th><th scope=col>&lt;int&gt;</th><th scope=col>&lt;chr&gt;</th><th scope=col>&lt;dbl&gt;</th></tr>\n",
       "</thead>\n",
       "<tbody>\n",
       "\t<tr><th scope=row>19</th><td>negative regulation of cell cycle        </td><td>GO:0031570;GO:0000075;GO:0045786           </td><td>5</td><td>LOC111123010</td><td> 0.63793820</td></tr>\n",
       "\t<tr><th scope=row>45</th><td>chromatin organization                   </td><td>GO:0006325                                 </td><td>2</td><td>LOC111115365</td><td> 0.04582489</td></tr>\n",
       "\t<tr><th scope=row>60</th><td>negative regulation of biological process</td><td>GO:0048519;GO:0010629;GO:0010605;GO:0009892</td><td>3</td><td>LOC111101410</td><td>-0.41779725</td></tr>\n",
       "\t<tr><th scope=row>65</th><td>negative regulation of biological process</td><td>GO:0048519;GO:0010629;GO:0010605;GO:0009892</td><td>3</td><td>LOC111104183</td><td>-0.32647377</td></tr>\n",
       "\t<tr><th scope=row>70</th><td>negative regulation of biological process</td><td>GO:0048519;GO:0010629;GO:0010605;GO:0009892</td><td>3</td><td>LOC111106194</td><td> 0.00000000</td></tr>\n",
       "\t<tr><th scope=row>81</th><td>negative regulation of biological process</td><td>GO:0048519;GO:0010629;GO:0010605;GO:0009892</td><td>3</td><td>LOC111110780</td><td>-0.17750181</td></tr>\n",
       "</tbody>\n",
       "</table>\n"
      ],
      "text/latex": [
       "A data.frame: 6 × 5\n",
       "\\begin{tabular}{r|lllll}\n",
       "  & name & term & lev & seq & value\\\\\n",
       "  & <chr> & <chr> & <int> & <chr> & <dbl>\\\\\n",
       "\\hline\n",
       "\t19 & negative regulation of cell cycle         & GO:0031570;GO:0000075;GO:0045786            & 5 & LOC111123010 &  0.63793820\\\\\n",
       "\t45 & chromatin organization                    & GO:0006325                                  & 2 & LOC111115365 &  0.04582489\\\\\n",
       "\t60 & negative regulation of biological process & GO:0048519;GO:0010629;GO:0010605;GO:0009892 & 3 & LOC111101410 & -0.41779725\\\\\n",
       "\t65 & negative regulation of biological process & GO:0048519;GO:0010629;GO:0010605;GO:0009892 & 3 & LOC111104183 & -0.32647377\\\\\n",
       "\t70 & negative regulation of biological process & GO:0048519;GO:0010629;GO:0010605;GO:0009892 & 3 & LOC111106194 &  0.00000000\\\\\n",
       "\t81 & negative regulation of biological process & GO:0048519;GO:0010629;GO:0010605;GO:0009892 & 3 & LOC111110780 & -0.17750181\\\\\n",
       "\\end{tabular}\n"
      ],
      "text/markdown": [
       "\n",
       "A data.frame: 6 × 5\n",
       "\n",
       "| <!--/--> | name &lt;chr&gt; | term &lt;chr&gt; | lev &lt;int&gt; | seq &lt;chr&gt; | value &lt;dbl&gt; |\n",
       "|---|---|---|---|---|---|\n",
       "| 19 | negative regulation of cell cycle         | GO:0031570;GO:0000075;GO:0045786            | 5 | LOC111123010 |  0.63793820 |\n",
       "| 45 | chromatin organization                    | GO:0006325                                  | 2 | LOC111115365 |  0.04582489 |\n",
       "| 60 | negative regulation of biological process | GO:0048519;GO:0010629;GO:0010605;GO:0009892 | 3 | LOC111101410 | -0.41779725 |\n",
       "| 65 | negative regulation of biological process | GO:0048519;GO:0010629;GO:0010605;GO:0009892 | 3 | LOC111104183 | -0.32647377 |\n",
       "| 70 | negative regulation of biological process | GO:0048519;GO:0010629;GO:0010605;GO:0009892 | 3 | LOC111106194 |  0.00000000 |\n",
       "| 81 | negative regulation of biological process | GO:0048519;GO:0010629;GO:0010605;GO:0009892 | 3 | LOC111110780 | -0.17750181 |\n",
       "\n"
      ],
      "text/plain": [
       "   name                                     \n",
       "19 negative regulation of cell cycle        \n",
       "45 chromatin organization                   \n",
       "60 negative regulation of biological process\n",
       "65 negative regulation of biological process\n",
       "70 negative regulation of biological process\n",
       "81 negative regulation of biological process\n",
       "   term                                        lev seq          value      \n",
       "19 GO:0031570;GO:0000075;GO:0045786            5   LOC111123010  0.63793820\n",
       "45 GO:0006325                                  2   LOC111115365  0.04582489\n",
       "60 GO:0048519;GO:0010629;GO:0010605;GO:0009892 3   LOC111101410 -0.41779725\n",
       "65 GO:0048519;GO:0010629;GO:0010605;GO:0009892 3   LOC111104183 -0.32647377\n",
       "70 GO:0048519;GO:0010629;GO:0010605;GO:0009892 3   LOC111106194  0.00000000\n",
       "81 GO:0048519;GO:0010629;GO:0010605;GO:0009892 3   LOC111110780 -0.17750181"
      ]
     },
     "metadata": {},
     "output_type": "display_data"
    }
   ],
   "source": [
    "sig_BPgo <- BP_go[sigCH_dmg$symbol %in% BP_go$seq,]\n",
    "dim(sig_BPgo)\n",
    "head(sig_BPgo)"
   ]
  },
  {
   "cell_type": "code",
   "execution_count": 106,
   "id": "becb079f-bcda-44e1-ad72-fde184331bbb",
   "metadata": {},
   "outputs": [],
   "source": [
    "write.csv(sig_BPgo, '/project/pi_sarah_gignouxwolfsohn_uml_edu/julia/CE_MethylRAD_analysis_2018/analysis/deseq_res_files/geneFeatures_res/go-mwu/sig_BPgo_CHvsHC.csv', row.names = FALSE)"
   ]
  },
  {
   "cell_type": "code",
   "execution_count": 104,
   "id": "9d91c0a4-8556-40e2-8c2b-e5f3cfe5cd7a",
   "metadata": {},
   "outputs": [
    {
     "data": {
      "text/html": [
       "<table class=\"dataframe\">\n",
       "<caption>A data.frame: 7 × 5</caption>\n",
       "<thead>\n",
       "\t<tr><th scope=col>name</th><th scope=col>term</th><th scope=col>lev</th><th scope=col>seq</th><th scope=col>value</th></tr>\n",
       "\t<tr><th scope=col>&lt;chr&gt;</th><th scope=col>&lt;chr&gt;</th><th scope=col>&lt;int&gt;</th><th scope=col>&lt;chr&gt;</th><th scope=col>&lt;dbl&gt;</th></tr>\n",
       "</thead>\n",
       "<tbody>\n",
       "\t<tr><td>multicellular organismal process</td><td>GO:0032501</td><td>1</td><td>LOC111118186</td><td> 0.0006947413</td></tr>\n",
       "\t<tr><td>multicellular organismal process</td><td>GO:0032501</td><td>1</td><td>LOC111121826</td><td> 0.0685229190</td></tr>\n",
       "\t<tr><td>multicellular organismal process</td><td>GO:0032501</td><td>1</td><td>LOC111129188</td><td> 0.2317314530</td></tr>\n",
       "\t<tr><td>multicellular organismal process</td><td>GO:0032501</td><td>1</td><td>LOC111129615</td><td>-0.1613994267</td></tr>\n",
       "\t<tr><td>developmental process           </td><td>GO:0032502</td><td>1</td><td>LOC111106268</td><td>-0.0640153461</td></tr>\n",
       "\t<tr><td>developmental process           </td><td>GO:0032502</td><td>1</td><td>LOC111126123</td><td>-0.1250995576</td></tr>\n",
       "\t<tr><td>reproductive process            </td><td>GO:0022414</td><td>1</td><td>LOC111119573</td><td>-0.3763769259</td></tr>\n",
       "</tbody>\n",
       "</table>\n"
      ],
      "text/latex": [
       "A data.frame: 7 × 5\n",
       "\\begin{tabular}{lllll}\n",
       " name & term & lev & seq & value\\\\\n",
       " <chr> & <chr> & <int> & <chr> & <dbl>\\\\\n",
       "\\hline\n",
       "\t multicellular organismal process & GO:0032501 & 1 & LOC111118186 &  0.0006947413\\\\\n",
       "\t multicellular organismal process & GO:0032501 & 1 & LOC111121826 &  0.0685229190\\\\\n",
       "\t multicellular organismal process & GO:0032501 & 1 & LOC111129188 &  0.2317314530\\\\\n",
       "\t multicellular organismal process & GO:0032501 & 1 & LOC111129615 & -0.1613994267\\\\\n",
       "\t developmental process            & GO:0032502 & 1 & LOC111106268 & -0.0640153461\\\\\n",
       "\t developmental process            & GO:0032502 & 1 & LOC111126123 & -0.1250995576\\\\\n",
       "\t reproductive process             & GO:0022414 & 1 & LOC111119573 & -0.3763769259\\\\\n",
       "\\end{tabular}\n"
      ],
      "text/markdown": [
       "\n",
       "A data.frame: 7 × 5\n",
       "\n",
       "| name &lt;chr&gt; | term &lt;chr&gt; | lev &lt;int&gt; | seq &lt;chr&gt; | value &lt;dbl&gt; |\n",
       "|---|---|---|---|---|\n",
       "| multicellular organismal process | GO:0032501 | 1 | LOC111118186 |  0.0006947413 |\n",
       "| multicellular organismal process | GO:0032501 | 1 | LOC111121826 |  0.0685229190 |\n",
       "| multicellular organismal process | GO:0032501 | 1 | LOC111129188 |  0.2317314530 |\n",
       "| multicellular organismal process | GO:0032501 | 1 | LOC111129615 | -0.1613994267 |\n",
       "| developmental process            | GO:0032502 | 1 | LOC111106268 | -0.0640153461 |\n",
       "| developmental process            | GO:0032502 | 1 | LOC111126123 | -0.1250995576 |\n",
       "| reproductive process             | GO:0022414 | 1 | LOC111119573 | -0.3763769259 |\n",
       "\n"
      ],
      "text/plain": [
       "  name                             term       lev seq          value        \n",
       "1 multicellular organismal process GO:0032501 1   LOC111118186  0.0006947413\n",
       "2 multicellular organismal process GO:0032501 1   LOC111121826  0.0685229190\n",
       "3 multicellular organismal process GO:0032501 1   LOC111129188  0.2317314530\n",
       "4 multicellular organismal process GO:0032501 1   LOC111129615 -0.1613994267\n",
       "5 developmental process            GO:0032502 1   LOC111106268 -0.0640153461\n",
       "6 developmental process            GO:0032502 1   LOC111126123 -0.1250995576\n",
       "7 reproductive process             GO:0022414 1   LOC111119573 -0.3763769259"
      ]
     },
     "metadata": {},
     "output_type": "display_data"
    }
   ],
   "source": [
    "filter(sig_BPgo, sig_BPgo$lev == 1)"
   ]
  },
  {
   "cell_type": "code",
   "execution_count": 89,
   "id": "69356d98-48ac-46dc-8698-bfd3f4939a34",
   "metadata": {},
   "outputs": [
    {
     "data": {
      "text/plain": [
       "List of 1\n",
       " $ axis.text.x:List of 11\n",
       "  ..$ family       : NULL\n",
       "  ..$ face         : NULL\n",
       "  ..$ colour       : NULL\n",
       "  ..$ size         : NULL\n",
       "  ..$ hjust        : num 1\n",
       "  ..$ vjust        : NULL\n",
       "  ..$ angle        : num 90\n",
       "  ..$ lineheight   : NULL\n",
       "  ..$ margin       : NULL\n",
       "  ..$ debug        : NULL\n",
       "  ..$ inherit.blank: logi FALSE\n",
       "  ..- attr(*, \"class\")= chr [1:2] \"element_text\" \"element\"\n",
       " - attr(*, \"class\")= chr [1:2] \"theme\" \"gg\"\n",
       " - attr(*, \"complete\")= logi FALSE\n",
       " - attr(*, \"validate\")= logi TRUE"
      ]
     },
     "metadata": {},
     "output_type": "display_data"
    },
    {
     "data": {
      "image/png": "[encoded data removed]",
      "text/plain": [
       "plot without title"
      ]
     },
     "metadata": {
      "image/png": {
       "height": 420,
       "width": 420
      }
     },
     "output_type": "display_data"
    }
   ],
   "source": [
    "# Load the ggplot2 library\n",
    "library(ggplot2)\n",
    "library(dplyr)\n",
    "\n",
    "# Count the number of genes for each name\n",
    "name_counts <- sig_BPgo %>%\n",
    "  group_by(name) %>%\n",
    "  summarise(count = n())\n",
    "\n",
    "# Create a bar plot\n",
    "ggplot(name_counts, aes(x = name, y = count)) +\n",
    "  geom_bar(stat = \"identity\") +\n",
    "  labs(x = \"Name\", y = \"Count of Genes\") +\n",
    "  theme_classic() +\n",
    "coord_flip()\n",
    "  theme(axis.text.x = element_text(angle = 90, hjust = 1))"
   ]
  },
  {
   "cell_type": "markdown",
   "id": "1b03b89b-f389-49ae-aa21-ac2143788841",
   "metadata": {},
   "source": [
    "## GO-MWU with log(p-value)"
   ]
  },
  {
   "cell_type": "markdown",
   "id": "c5e1c987-d7d0-4a0b-a58e-f6d8213f4c4d",
   "metadata": {},
   "source": [
    "## CH vs. HC\n",
    "control hypoxic vs. hypoxic control (timing of hypoxic stress)\n",
    "\n",
    "table of measure of interest for sequences: "
   ]
  },
  {
   "cell_type": "code",
   "execution_count": 11,
   "id": "99150672-6307-436f-829e-fde094d240d5",
   "metadata": {},
   "outputs": [
    {
     "data": {
      "text/html": [
       "<table class=\"dataframe\">\n",
       "<caption>A data.frame: 6 × 2</caption>\n",
       "<thead>\n",
       "\t<tr><th></th><th scope=col>gene_id</th><th scope=col>logP</th></tr>\n",
       "\t<tr><th></th><th scope=col>&lt;chr&gt;</th><th scope=col>&lt;dbl&gt;</th></tr>\n",
       "</thead>\n",
       "<tbody>\n",
       "\t<tr><th scope=row>1</th><td>LOC111116054</td><td>NA</td></tr>\n",
       "\t<tr><th scope=row>2</th><td>LOC111126949</td><td>NA</td></tr>\n",
       "\t<tr><th scope=row>3</th><td>LOC111110729</td><td>NA</td></tr>\n",
       "\t<tr><th scope=row>4</th><td>LOC111112434</td><td>NA</td></tr>\n",
       "\t<tr><th scope=row>5</th><td>LOC111120752</td><td>NA</td></tr>\n",
       "\t<tr><th scope=row>6</th><td>LOC111128944</td><td>NA</td></tr>\n",
       "</tbody>\n",
       "</table>\n"
      ],
      "text/latex": [
       "A data.frame: 6 × 2\n",
       "\\begin{tabular}{r|ll}\n",
       "  & gene\\_id & logP\\\\\n",
       "  & <chr> & <dbl>\\\\\n",
       "\\hline\n",
       "\t1 & LOC111116054 & NA\\\\\n",
       "\t2 & LOC111126949 & NA\\\\\n",
       "\t3 & LOC111110729 & NA\\\\\n",
       "\t4 & LOC111112434 & NA\\\\\n",
       "\t5 & LOC111120752 & NA\\\\\n",
       "\t6 & LOC111128944 & NA\\\\\n",
       "\\end{tabular}\n"
      ],
      "text/markdown": [
       "\n",
       "A data.frame: 6 × 2\n",
       "\n",
       "| <!--/--> | gene_id &lt;chr&gt; | logP &lt;dbl&gt; |\n",
       "|---|---|---|\n",
       "| 1 | LOC111116054 | NA |\n",
       "| 2 | LOC111126949 | NA |\n",
       "| 3 | LOC111110729 | NA |\n",
       "| 4 | LOC111112434 | NA |\n",
       "| 5 | LOC111120752 | NA |\n",
       "| 6 | LOC111128944 | NA |\n",
       "\n"
      ],
      "text/plain": [
       "  gene_id      logP\n",
       "1 LOC111116054 NA  \n",
       "2 LOC111126949 NA  \n",
       "3 LOC111110729 NA  \n",
       "4 LOC111112434 NA  \n",
       "5 LOC111120752 NA  \n",
       "6 LOC111128944 NA  "
      ]
     },
     "metadata": {},
     "output_type": "display_data"
    }
   ],
   "source": [
    "allGenes_CH <- read.csv('/project/pi_sarah_gignouxwolfsohn_uml_edu/julia/CE_MethylRAD_analysis_2018/analysis/deseq_res_files/geneFeatures_res/CH_vs_HC.csv')\n",
    "\n",
    "# take the log of adjusted p-value\n",
    "allGenes_CH$logP <- log(allGenes_CH$padj)\n",
    "\n",
    "# only want gene id and log adjusted p-value\n",
    "logP_CH <- allGenes_CH[,c(1,8)]\n",
    "\n",
    "# rename gene column\n",
    "colnames(logP_CH)[1] <- 'gene_id'\n",
    "\n",
    "head(logP_CH)\n"
   ]
  },
  {
   "cell_type": "markdown",
   "id": "aeb8a8f0-5334-403c-9d02-c41e2911dc81",
   "metadata": {},
   "source": [
    "I did both the continuous measure (log2FoldChange) and binary (0 for non-significant, 1 for significant)"
   ]
  },
  {
   "cell_type": "code",
   "execution_count": 12,
   "id": "e31a2b4b-5cd9-4a0f-af76-7cee8e204118",
   "metadata": {},
   "outputs": [],
   "source": [
    "write.csv(logP_CH, '/project/pi_sarah_gignouxwolfsohn_uml_edu/julia/CE_MethylRAD_analysis_2018/analysis/DMGs_analysis/go_mwu/allGenes_CH_logP.csv', row.names=FALSE, quote = FALSE)"
   ]
  },
  {
   "cell_type": "markdown",
   "id": "7d4269f8-a3a7-4112-8931-e8a1804833d3",
   "metadata": {},
   "source": [
    "table of GO annotations for your sequences (gene id and GO terms):"
   ]
  },
  {
   "cell_type": "code",
   "execution_count": 13,
   "id": "a59bf643-85e5-4c77-bbb2-824d9167a001",
   "metadata": {},
   "outputs": [
    {
     "data": {
      "text/html": [
       "<table class=\"dataframe\">\n",
       "<caption>A data.frame: 6 × 2</caption>\n",
       "<thead>\n",
       "\t<tr><th></th><th scope=col>Symbol</th><th scope=col>GO_ID</th></tr>\n",
       "\t<tr><th></th><th scope=col>&lt;chr&gt;</th><th scope=col>&lt;chr&gt;</th></tr>\n",
       "</thead>\n",
       "<tbody>\n",
       "\t<tr><th scope=row>1</th><td>LOC111099029</td><td>GO:0005261</td></tr>\n",
       "\t<tr><th scope=row>2</th><td>LOC111099029</td><td>GO:0098655</td></tr>\n",
       "\t<tr><th scope=row>3</th><td>LOC111099032</td><td>GO:0004930</td></tr>\n",
       "\t<tr><th scope=row>4</th><td>LOC111099032</td><td>GO:0004930</td></tr>\n",
       "\t<tr><th scope=row>5</th><td>LOC111099032</td><td>GO:0005886</td></tr>\n",
       "\t<tr><th scope=row>6</th><td>LOC111099032</td><td>GO:0007186</td></tr>\n",
       "</tbody>\n",
       "</table>\n"
      ],
      "text/latex": [
       "A data.frame: 6 × 2\n",
       "\\begin{tabular}{r|ll}\n",
       "  & Symbol & GO\\_ID\\\\\n",
       "  & <chr> & <chr>\\\\\n",
       "\\hline\n",
       "\t1 & LOC111099029 & GO:0005261\\\\\n",
       "\t2 & LOC111099029 & GO:0098655\\\\\n",
       "\t3 & LOC111099032 & GO:0004930\\\\\n",
       "\t4 & LOC111099032 & GO:0004930\\\\\n",
       "\t5 & LOC111099032 & GO:0005886\\\\\n",
       "\t6 & LOC111099032 & GO:0007186\\\\\n",
       "\\end{tabular}\n"
      ],
      "text/markdown": [
       "\n",
       "A data.frame: 6 × 2\n",
       "\n",
       "| <!--/--> | Symbol &lt;chr&gt; | GO_ID &lt;chr&gt; |\n",
       "|---|---|---|\n",
       "| 1 | LOC111099029 | GO:0005261 |\n",
       "| 2 | LOC111099029 | GO:0098655 |\n",
       "| 3 | LOC111099032 | GO:0004930 |\n",
       "| 4 | LOC111099032 | GO:0004930 |\n",
       "| 5 | LOC111099032 | GO:0005886 |\n",
       "| 6 | LOC111099032 | GO:0007186 |\n",
       "\n"
      ],
      "text/plain": [
       "  Symbol       GO_ID     \n",
       "1 LOC111099029 GO:0005261\n",
       "2 LOC111099029 GO:0098655\n",
       "3 LOC111099032 GO:0004930\n",
       "4 LOC111099032 GO:0004930\n",
       "5 LOC111099032 GO:0005886\n",
       "6 LOC111099032 GO:0007186"
      ]
     },
     "metadata": {},
     "output_type": "display_data"
    }
   ],
   "source": [
    "# Read the GAF file into R\n",
    "GOobo <- read.table('/project/pi_sarah_gignouxwolfsohn_uml_edu/Reference_genomes/Cvirginica_genome/GCF_002022765.2_C_virginica-3.0_gene_ontology.gaf', \n",
    "                          sep = \"\\t\", \n",
    "                          header = FALSE, \n",
    "                          comment.char = \"!\", \n",
    "                          stringsAsFactors = FALSE)\n",
    "\n",
    "# assign column names\n",
    "colnames(GOobo) <- c('DB', 'GeneID', 'Symbol', 'Qualifier', 'GO_ID', 'Reference', 'Evidence_Code', 'With,From', 'Aspect', 'Gene_Name', 'Gene_Synonym', 'Type', 'Taxon', 'Date', 'Assigned_By')\n",
    "\n",
    "# only need gene id and GO terms\n",
    "gene_GO <- select(GOobo, Symbol, GO_ID)\n",
    "\n",
    "head(gene_GO)"
   ]
  },
  {
   "cell_type": "code",
   "execution_count": 14,
   "id": "190b598d-7aed-4ae5-a1ba-7f7e4dd4a74a",
   "metadata": {},
   "outputs": [
    {
     "data": {
      "text/html": [
       "<table class=\"dataframe\">\n",
       "<caption>A data.frame: 6 × 2</caption>\n",
       "<thead>\n",
       "\t<tr><th></th><th scope=col>Symbol</th><th scope=col>GO_ID</th></tr>\n",
       "\t<tr><th></th><th scope=col>&lt;chr&gt;</th><th scope=col>&lt;chr&gt;</th></tr>\n",
       "</thead>\n",
       "<tbody>\n",
       "\t<tr><th scope=row>1</th><td>LOC111099029</td><td>GO:0005261; GO:0098655            </td></tr>\n",
       "\t<tr><th scope=row>2</th><td>LOC111099032</td><td>GO:0004930; GO:0005886; GO:0007186</td></tr>\n",
       "\t<tr><th scope=row>3</th><td>LOC111099033</td><td>GO:0016020; GO:0022857; GO:0055085</td></tr>\n",
       "\t<tr><th scope=row>4</th><td>LOC111099034</td><td>GO:0005515                        </td></tr>\n",
       "\t<tr><th scope=row>5</th><td>LOC111099036</td><td>GO:0008028; GO:0015718; GO:0055085</td></tr>\n",
       "\t<tr><th scope=row>6</th><td>LOC111099039</td><td>GO:0004930; GO:0005886; GO:0007189</td></tr>\n",
       "</tbody>\n",
       "</table>\n"
      ],
      "text/latex": [
       "A data.frame: 6 × 2\n",
       "\\begin{tabular}{r|ll}\n",
       "  & Symbol & GO\\_ID\\\\\n",
       "  & <chr> & <chr>\\\\\n",
       "\\hline\n",
       "\t1 & LOC111099029 & GO:0005261; GO:0098655            \\\\\n",
       "\t2 & LOC111099032 & GO:0004930; GO:0005886; GO:0007186\\\\\n",
       "\t3 & LOC111099033 & GO:0016020; GO:0022857; GO:0055085\\\\\n",
       "\t4 & LOC111099034 & GO:0005515                        \\\\\n",
       "\t5 & LOC111099036 & GO:0008028; GO:0015718; GO:0055085\\\\\n",
       "\t6 & LOC111099039 & GO:0004930; GO:0005886; GO:0007189\\\\\n",
       "\\end{tabular}\n"
      ],
      "text/markdown": [
       "\n",
       "A data.frame: 6 × 2\n",
       "\n",
       "| <!--/--> | Symbol &lt;chr&gt; | GO_ID &lt;chr&gt; |\n",
       "|---|---|---|\n",
       "| 1 | LOC111099029 | GO:0005261; GO:0098655             |\n",
       "| 2 | LOC111099032 | GO:0004930; GO:0005886; GO:0007186 |\n",
       "| 3 | LOC111099033 | GO:0016020; GO:0022857; GO:0055085 |\n",
       "| 4 | LOC111099034 | GO:0005515                         |\n",
       "| 5 | LOC111099036 | GO:0008028; GO:0015718; GO:0055085 |\n",
       "| 6 | LOC111099039 | GO:0004930; GO:0005886; GO:0007189 |\n",
       "\n"
      ],
      "text/plain": [
       "  Symbol       GO_ID                             \n",
       "1 LOC111099029 GO:0005261; GO:0098655            \n",
       "2 LOC111099032 GO:0004930; GO:0005886; GO:0007186\n",
       "3 LOC111099033 GO:0016020; GO:0022857; GO:0055085\n",
       "4 LOC111099034 GO:0005515                        \n",
       "5 LOC111099036 GO:0008028; GO:0015718; GO:0055085\n",
       "6 LOC111099039 GO:0004930; GO:0005886; GO:0007189"
      ]
     },
     "metadata": {},
     "output_type": "display_data"
    }
   ],
   "source": [
    "# Aggregate GO IDs for each gene symbol\n",
    "geneGO <- aggregate(GO_ID ~ Symbol, data = gene_GO, function(x) paste(unique(x), collapse = \"; \"))\n",
    "\n",
    "# Print the aggregated data frame\n",
    "head(geneGO)"
   ]
  },
  {
   "cell_type": "code",
   "execution_count": 71,
   "id": "951d012f-2534-4ee6-a785-373b833f29da",
   "metadata": {},
   "outputs": [],
   "source": [
    "write.table(geneGO, '/project/pi_sarah_gignouxwolfsohn_uml_edu/julia/CE_MethylRAD_analysis_2018/analysis/DMGs_analysis/go_mwu/allGenes2GO.tab', sep = '\\t', row.names = FALSE, quote = FALSE)"
   ]
  },
  {
   "cell_type": "markdown",
   "id": "92e12ff7-b648-4ebb-a96a-7412e4e4abbf",
   "metadata": {},
   "source": [
    "#### GO_MWU.R\n",
    "\n",
    "**biological process**\n",
    "\n",
    "continuous measure (log adjusted p-value)"
   ]
  },
  {
   "cell_type": "code",
   "execution_count": 18,
   "id": "ac588666-e76e-4772-a414-d891cbea135a",
   "metadata": {},
   "outputs": [],
   "source": [
    "# Edit these to match your data file names: \n",
    "input=\"allGenes_CH_logP.csv\" # two columns of comma-separated values: gene id, continuous measure of significance. To perform standard GO enrichment analysis based on Fisher's exact test, use binary measure (0 or 1, i.e., either sgnificant or not).\n",
    "goAnnotations=\"allGenes2GO.tab\" # two-column, tab-delimited, one line per gene, multiple GO terms separated by semicolon. If you have multiple lines per gene, use nrify_GOtable.pl prior to running this script.\n",
    "goDatabase=\"go.obo\" # download from http://www.geneontology.org/GO.downloads.ontology.shtml\n",
    "goDivision=\"BP\" # either MF, or BP, or CC\n",
    "source(\"gomwu.functions.R\")\n"
   ]
  },
  {
   "cell_type": "code",
   "execution_count": 19,
   "id": "2f613f70-83a5-471a-9e1b-87a1ff532d08",
   "metadata": {},
   "outputs": [
    {
     "name": "stdout",
     "output_type": "stream",
     "text": [
      "Continuous measure of interest: will perform MWU test\n"
     ]
    },
    {
     "name": "stderr",
     "output_type": "stream",
     "text": [
      "0 GO terms at 10% FDR\n",
      "\n"
     ]
    }
   ],
   "source": [
    "# Calculating stats. It might take ~3 min for MF and BP. Do not rerun it if you just want to replot the data with different cutoffs, go straight to gomwuPlot. If you change any of the numeric values below, delete the files that were generated in previos runs first.\n",
    "gomwuStats(input, goDatabase, goAnnotations, goDivision,\n",
    "           perlPath=\"perl\", # replace with full path to perl executable if it is not in your system's PATH already\n",
    "           largest=0.1,  # a GO category will not be considered if it contains more than this fraction of the total number of genes\n",
    "           smallest=5,   # a GO category should contain at least this many genes to be considered\n",
    "           clusterCutHeight=0.25) # threshold for merging similar (gene-sharing) terms. See README for details.\n",
    "# There are no GO term at 10% FDR"
   ]
  },
  {
   "cell_type": "code",
   "execution_count": 20,
   "id": "73a2d9dd-1595-473c-a1ab-d4db6b60560d",
   "metadata": {},
   "outputs": [
    {
     "data": {
      "text/html": [
       "<table class=\"dataframe\">\n",
       "<caption>A data.frame: 6 × 7</caption>\n",
       "<thead>\n",
       "\t<tr><th></th><th scope=col>delta.rank</th><th scope=col>pval</th><th scope=col>level</th><th scope=col>nseqs</th><th scope=col>term</th><th scope=col>name</th><th scope=col>p.adj</th></tr>\n",
       "\t<tr><th></th><th scope=col>&lt;int&gt;</th><th scope=col>&lt;dbl&gt;</th><th scope=col>&lt;int&gt;</th><th scope=col>&lt;int&gt;</th><th scope=col>&lt;chr&gt;</th><th scope=col>&lt;chr&gt;</th><th scope=col>&lt;dbl&gt;</th></tr>\n",
       "</thead>\n",
       "<tbody>\n",
       "\t<tr><th scope=row>1</th><td>-59</td><td>0.5232417</td><td>5</td><td> 5</td><td>GO:0000012                                                       </td><td>single strand break repair      </td><td>0.8969065</td></tr>\n",
       "\t<tr><th scope=row>2</th><td> -9</td><td>0.8722809</td><td>2</td><td>15</td><td>GO:0000027                                                       </td><td>ribosomal large subunit assembly</td><td>0.9904127</td></tr>\n",
       "\t<tr><th scope=row>3</th><td>  3</td><td>0.9695610</td><td>2</td><td> 9</td><td>GO:0000028                                                       </td><td>ribosomal small subunit assembly</td><td>0.9904127</td></tr>\n",
       "\t<tr><th scope=row>4</th><td> 22</td><td>0.6422970</td><td>6</td><td>20</td><td>GO:0000045;GO:1905037;GO:0007033                                 </td><td>autophagosome organization      </td><td>0.9476513</td></tr>\n",
       "\t<tr><th scope=row>5</th><td> 79</td><td>0.2800125</td><td>6</td><td> 8</td><td>GO:0000054;GO:0033750;GO:0071428;GO:0071426;GO:0006611;GO:0031503</td><td>protein export from nucleus     </td><td>0.8440407</td></tr>\n",
       "\t<tr><th scope=row>6</th><td> 79</td><td>0.3938857</td><td>2</td><td> 5</td><td>GO:0000076                                                       </td><td>DNA replication checkpoint      </td><td>0.8440407</td></tr>\n",
       "</tbody>\n",
       "</table>\n"
      ],
      "text/latex": [
       "A data.frame: 6 × 7\n",
       "\\begin{tabular}{r|lllllll}\n",
       "  & delta.rank & pval & level & nseqs & term & name & p.adj\\\\\n",
       "  & <int> & <dbl> & <int> & <int> & <chr> & <chr> & <dbl>\\\\\n",
       "\\hline\n",
       "\t1 & -59 & 0.5232417 & 5 &  5 & GO:0000012                                                        & single strand break repair       & 0.8969065\\\\\n",
       "\t2 &  -9 & 0.8722809 & 2 & 15 & GO:0000027                                                        & ribosomal large subunit assembly & 0.9904127\\\\\n",
       "\t3 &   3 & 0.9695610 & 2 &  9 & GO:0000028                                                        & ribosomal small subunit assembly & 0.9904127\\\\\n",
       "\t4 &  22 & 0.6422970 & 6 & 20 & GO:0000045;GO:1905037;GO:0007033                                  & autophagosome organization       & 0.9476513\\\\\n",
       "\t5 &  79 & 0.2800125 & 6 &  8 & GO:0000054;GO:0033750;GO:0071428;GO:0071426;GO:0006611;GO:0031503 & protein export from nucleus      & 0.8440407\\\\\n",
       "\t6 &  79 & 0.3938857 & 2 &  5 & GO:0000076                                                        & DNA replication checkpoint       & 0.8440407\\\\\n",
       "\\end{tabular}\n"
      ],
      "text/markdown": [
       "\n",
       "A data.frame: 6 × 7\n",
       "\n",
       "| <!--/--> | delta.rank &lt;int&gt; | pval &lt;dbl&gt; | level &lt;int&gt; | nseqs &lt;int&gt; | term &lt;chr&gt; | name &lt;chr&gt; | p.adj &lt;dbl&gt; |\n",
       "|---|---|---|---|---|---|---|---|\n",
       "| 1 | -59 | 0.5232417 | 5 |  5 | GO:0000012                                                        | single strand break repair       | 0.8969065 |\n",
       "| 2 |  -9 | 0.8722809 | 2 | 15 | GO:0000027                                                        | ribosomal large subunit assembly | 0.9904127 |\n",
       "| 3 |   3 | 0.9695610 | 2 |  9 | GO:0000028                                                        | ribosomal small subunit assembly | 0.9904127 |\n",
       "| 4 |  22 | 0.6422970 | 6 | 20 | GO:0000045;GO:1905037;GO:0007033                                  | autophagosome organization       | 0.9476513 |\n",
       "| 5 |  79 | 0.2800125 | 6 |  8 | GO:0000054;GO:0033750;GO:0071428;GO:0071426;GO:0006611;GO:0031503 | protein export from nucleus      | 0.8440407 |\n",
       "| 6 |  79 | 0.3938857 | 2 |  5 | GO:0000076                                                        | DNA replication checkpoint       | 0.8440407 |\n",
       "\n"
      ],
      "text/plain": [
       "  delta.rank pval      level nseqs\n",
       "1 -59        0.5232417 5      5   \n",
       "2  -9        0.8722809 2     15   \n",
       "3   3        0.9695610 2      9   \n",
       "4  22        0.6422970 6     20   \n",
       "5  79        0.2800125 6      8   \n",
       "6  79        0.3938857 2      5   \n",
       "  term                                                             \n",
       "1 GO:0000012                                                       \n",
       "2 GO:0000027                                                       \n",
       "3 GO:0000028                                                       \n",
       "4 GO:0000045;GO:1905037;GO:0007033                                 \n",
       "5 GO:0000054;GO:0033750;GO:0071428;GO:0071426;GO:0006611;GO:0031503\n",
       "6 GO:0000076                                                       \n",
       "  name                             p.adj    \n",
       "1 single strand break repair       0.8969065\n",
       "2 ribosomal large subunit assembly 0.9904127\n",
       "3 ribosomal small subunit assembly 0.9904127\n",
       "4 autophagosome organization       0.9476513\n",
       "5 protein export from nucleus      0.8440407\n",
       "6 DNA replication checkpoint       0.8440407"
      ]
     },
     "metadata": {},
     "output_type": "display_data"
    }
   ],
   "source": [
    "mwu_BP_ch <- read.csv('/project/pi_sarah_gignouxwolfsohn_uml_edu/julia/CE_MethylRAD_analysis_2018/analysis/DMGs_analysis/go_mwu/MWU_BP_allGenes_CH_logP.csv', sep= ' ')\n",
    "head(mwu_BP_ch)"
   ]
  }
 ],
 "metadata": {
  "kernelspec": {
   "display_name": "R [conda env:.conda-r-env]",
   "language": "R",
   "name": "conda-env-.conda-r-env-r"
  },
  "language_info": {
   "codemirror_mode": "r",
   "file_extension": ".r",
   "mimetype": "text/x-r-source",
   "name": "R",
   "pygments_lexer": "r",
   "version": "4.3.2"
  }
 },
 "nbformat": 4,
 "nbformat_minor": 5
}
