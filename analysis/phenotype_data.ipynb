{
 "cells": [
  {
   "cell_type": "markdown",
   "id": "04362d03-00bd-49c0-b959-7c6970a98b80",
   "metadata": {},
   "source": [
    "## Looking into phenotype data\n",
    "seeing if there are any patterns with my methylation data"
   ]
  },
  {
   "cell_type": "code",
   "execution_count": null,
   "id": "fb4d4d40-6b1f-414e-9f92-04a8bcef1596",
   "metadata": {},
   "outputs": [],
   "source": [
    "library(tidyverse)"
   ]
  },
  {
   "cell_type": "code",
   "execution_count": 1,
   "id": "152d05be-44b7-4ec4-a461-f1875b3277d1",
   "metadata": {},
   "outputs": [
    {
     "data": {
      "text/html": [
       "<table class=\"dataframe\">\n",
       "<caption>A data.frame: 6 × 28</caption>\n",
       "<thead>\n",
       "\t<tr><th></th><th scope=col>sample</th><th scope=col>phase1_rep</th><th scope=col>phase2_rep</th><th scope=col>tag</th><th scope=col>methylation.</th><th scope=col>X16s.</th><th scope=col>tag2</th><th scope=col>combined</th><th scope=col>Oyster.Code</th><th scope=col>Phase.1.DO.Treatment</th><th scope=col>⋯</th><th scope=col>Final.Dry.Mass..g.</th><th scope=col>Initial.Shell.Mass..g.</th><th scope=col>Initial.Tissue.Mass..g.</th><th scope=col>Final.Shell.Mass..g.</th><th scope=col>Final.Tissue.Mass..g.</th><th scope=col>Shell.Growth..g.</th><th scope=col>Shell.Growth..mg.</th><th scope=col>Tissue.Growth..g.</th><th scope=col>Tissue.Growth..mg.</th><th scope=col>Tissue.Shell.Growth</th></tr>\n",
       "\t<tr><th></th><th scope=col>&lt;chr&gt;</th><th scope=col>&lt;chr&gt;</th><th scope=col>&lt;chr&gt;</th><th scope=col>&lt;chr&gt;</th><th scope=col>&lt;chr&gt;</th><th scope=col>&lt;chr&gt;</th><th scope=col>&lt;chr&gt;</th><th scope=col>&lt;chr&gt;</th><th scope=col>&lt;chr&gt;</th><th scope=col>&lt;chr&gt;</th><th scope=col>⋯</th><th scope=col>&lt;dbl&gt;</th><th scope=col>&lt;dbl&gt;</th><th scope=col>&lt;dbl&gt;</th><th scope=col>&lt;dbl&gt;</th><th scope=col>&lt;dbl&gt;</th><th scope=col>&lt;dbl&gt;</th><th scope=col>&lt;dbl&gt;</th><th scope=col>&lt;dbl&gt;</th><th scope=col>&lt;dbl&gt;</th><th scope=col>&lt;dbl&gt;</th></tr>\n",
       "</thead>\n",
       "<tbody>\n",
       "\t<tr><th scope=row>1</th><td>2018--BBB-WBO-B21-CV</td><td>BBB</td><td>WBO</td><td>B21</td><td>yes</td><td>no</td><td>21B</td><td>BBBWBO21B</td><td>21B</td><td>Hypoxic </td><td>⋯</td><td>0.3187</td><td>0.20360665</td><td>0.07299335</td><td>0.2386784</td><td>0.08002160</td><td> 0.03507175</td><td>35.07175</td><td> 0.00702825</td><td> 7.02825</td><td>0.2003963</td></tr>\n",
       "\t<tr><th scope=row>2</th><td>2018--WBB-WBV-W69-CV</td><td>WBB</td><td>WBV</td><td>W69</td><td>yes</td><td>no</td><td>69W</td><td>WBBWBV69W</td><td>69W</td><td>Normoxic</td><td>⋯</td><td>0.2334</td><td>0.14677610</td><td>0.05142390</td><td>0.1691075</td><td>0.06429250</td><td> 0.02233140</td><td>22.33140</td><td> 0.01286860</td><td>12.86860</td><td>0.5762559</td></tr>\n",
       "\t<tr><th scope=row>3</th><td>2018--BBB-WBV-B70-CV</td><td>BBB</td><td>WBV</td><td>B70</td><td>yes</td><td>no</td><td>70B</td><td>BBBWBV70B</td><td>70B</td><td>Hypoxic </td><td>⋯</td><td>0.3176</td><td>0.20704225</td><td>0.11495775</td><td>0.2037498</td><td>0.11385020</td><td>-0.00329250</td><td>-3.29245</td><td>-0.00110760</td><td>-1.10755</td><td>0.3363908</td></tr>\n",
       "\t<tr><th scope=row>4</th><td>2018--BBO-BBO-B16-CV</td><td>BBO</td><td>BBO</td><td>B16</td><td>yes</td><td>no</td><td>16B</td><td>BBOBBO16B</td><td>16B</td><td>Hypoxic </td><td>⋯</td><td>0.1332</td><td>0.09653045</td><td>0.02076955</td><td>0.1104160</td><td>0.02278400</td><td> 0.01388555</td><td>13.88555</td><td> 0.00201445</td><td> 2.01445</td><td>0.1450753</td></tr>\n",
       "\t<tr><th scope=row>5</th><td>2018--WBG-WBG-W44-CV</td><td>WBG</td><td>WBG</td><td>W44</td><td>yes</td><td>no</td><td>44W</td><td>WBGWBG44W</td><td>44W</td><td>Normoxic</td><td>⋯</td><td>0.5151</td><td>0.29636785</td><td>0.11763215</td><td>0.3749572</td><td>0.14014280</td><td> 0.07858935</td><td>78.58935</td><td> 0.02251065</td><td>22.51065</td><td>0.2864338</td></tr>\n",
       "\t<tr><th scope=row>6</th><td>2018--BBO-WBO-B16-CV</td><td>BBO</td><td>WBO</td><td>B16</td><td>yes</td><td>no</td><td>16B</td><td>BBOWBO16B</td><td>16B</td><td>Hypoxic </td><td>⋯</td><td>0.3113</td><td>0.21577440</td><td>0.05172560</td><td>0.2522777</td><td>0.05902235</td><td> 0.03650325</td><td>36.50325</td><td> 0.00729675</td><td> 7.29675</td><td>0.1998932</td></tr>\n",
       "</tbody>\n",
       "</table>\n"
      ],
      "text/latex": [
       "A data.frame: 6 × 28\n",
       "\\begin{tabular}{r|lllllllllllllllllllll}\n",
       "  & sample & phase1\\_rep & phase2\\_rep & tag & methylation. & X16s. & tag2 & combined & Oyster.Code & Phase.1.DO.Treatment & ⋯ & Final.Dry.Mass..g. & Initial.Shell.Mass..g. & Initial.Tissue.Mass..g. & Final.Shell.Mass..g. & Final.Tissue.Mass..g. & Shell.Growth..g. & Shell.Growth..mg. & Tissue.Growth..g. & Tissue.Growth..mg. & Tissue.Shell.Growth\\\\\n",
       "  & <chr> & <chr> & <chr> & <chr> & <chr> & <chr> & <chr> & <chr> & <chr> & <chr> & ⋯ & <dbl> & <dbl> & <dbl> & <dbl> & <dbl> & <dbl> & <dbl> & <dbl> & <dbl> & <dbl>\\\\\n",
       "\\hline\n",
       "\t1 & 2018--BBB-WBO-B21-CV & BBB & WBO & B21 & yes & no & 21B & BBBWBO21B & 21B & Hypoxic  & ⋯ & 0.3187 & 0.20360665 & 0.07299335 & 0.2386784 & 0.08002160 &  0.03507175 & 35.07175 &  0.00702825 &  7.02825 & 0.2003963\\\\\n",
       "\t2 & 2018--WBB-WBV-W69-CV & WBB & WBV & W69 & yes & no & 69W & WBBWBV69W & 69W & Normoxic & ⋯ & 0.2334 & 0.14677610 & 0.05142390 & 0.1691075 & 0.06429250 &  0.02233140 & 22.33140 &  0.01286860 & 12.86860 & 0.5762559\\\\\n",
       "\t3 & 2018--BBB-WBV-B70-CV & BBB & WBV & B70 & yes & no & 70B & BBBWBV70B & 70B & Hypoxic  & ⋯ & 0.3176 & 0.20704225 & 0.11495775 & 0.2037498 & 0.11385020 & -0.00329250 & -3.29245 & -0.00110760 & -1.10755 & 0.3363908\\\\\n",
       "\t4 & 2018--BBO-BBO-B16-CV & BBO & BBO & B16 & yes & no & 16B & BBOBBO16B & 16B & Hypoxic  & ⋯ & 0.1332 & 0.09653045 & 0.02076955 & 0.1104160 & 0.02278400 &  0.01388555 & 13.88555 &  0.00201445 &  2.01445 & 0.1450753\\\\\n",
       "\t5 & 2018--WBG-WBG-W44-CV & WBG & WBG & W44 & yes & no & 44W & WBGWBG44W & 44W & Normoxic & ⋯ & 0.5151 & 0.29636785 & 0.11763215 & 0.3749572 & 0.14014280 &  0.07858935 & 78.58935 &  0.02251065 & 22.51065 & 0.2864338\\\\\n",
       "\t6 & 2018--BBO-WBO-B16-CV & BBO & WBO & B16 & yes & no & 16B & BBOWBO16B & 16B & Hypoxic  & ⋯ & 0.3113 & 0.21577440 & 0.05172560 & 0.2522777 & 0.05902235 &  0.03650325 & 36.50325 &  0.00729675 &  7.29675 & 0.1998932\\\\\n",
       "\\end{tabular}\n"
      ],
      "text/markdown": [
       "\n",
       "A data.frame: 6 × 28\n",
       "\n",
       "| <!--/--> | sample &lt;chr&gt; | phase1_rep &lt;chr&gt; | phase2_rep &lt;chr&gt; | tag &lt;chr&gt; | methylation. &lt;chr&gt; | X16s. &lt;chr&gt; | tag2 &lt;chr&gt; | combined &lt;chr&gt; | Oyster.Code &lt;chr&gt; | Phase.1.DO.Treatment &lt;chr&gt; | ⋯ ⋯ | Final.Dry.Mass..g. &lt;dbl&gt; | Initial.Shell.Mass..g. &lt;dbl&gt; | Initial.Tissue.Mass..g. &lt;dbl&gt; | Final.Shell.Mass..g. &lt;dbl&gt; | Final.Tissue.Mass..g. &lt;dbl&gt; | Shell.Growth..g. &lt;dbl&gt; | Shell.Growth..mg. &lt;dbl&gt; | Tissue.Growth..g. &lt;dbl&gt; | Tissue.Growth..mg. &lt;dbl&gt; | Tissue.Shell.Growth &lt;dbl&gt; |\n",
       "|---|---|---|---|---|---|---|---|---|---|---|---|---|---|---|---|---|---|---|---|---|---|\n",
       "| 1 | 2018--BBB-WBO-B21-CV | BBB | WBO | B21 | yes | no | 21B | BBBWBO21B | 21B | Hypoxic  | ⋯ | 0.3187 | 0.20360665 | 0.07299335 | 0.2386784 | 0.08002160 |  0.03507175 | 35.07175 |  0.00702825 |  7.02825 | 0.2003963 |\n",
       "| 2 | 2018--WBB-WBV-W69-CV | WBB | WBV | W69 | yes | no | 69W | WBBWBV69W | 69W | Normoxic | ⋯ | 0.2334 | 0.14677610 | 0.05142390 | 0.1691075 | 0.06429250 |  0.02233140 | 22.33140 |  0.01286860 | 12.86860 | 0.5762559 |\n",
       "| 3 | 2018--BBB-WBV-B70-CV | BBB | WBV | B70 | yes | no | 70B | BBBWBV70B | 70B | Hypoxic  | ⋯ | 0.3176 | 0.20704225 | 0.11495775 | 0.2037498 | 0.11385020 | -0.00329250 | -3.29245 | -0.00110760 | -1.10755 | 0.3363908 |\n",
       "| 4 | 2018--BBO-BBO-B16-CV | BBO | BBO | B16 | yes | no | 16B | BBOBBO16B | 16B | Hypoxic  | ⋯ | 0.1332 | 0.09653045 | 0.02076955 | 0.1104160 | 0.02278400 |  0.01388555 | 13.88555 |  0.00201445 |  2.01445 | 0.1450753 |\n",
       "| 5 | 2018--WBG-WBG-W44-CV | WBG | WBG | W44 | yes | no | 44W | WBGWBG44W | 44W | Normoxic | ⋯ | 0.5151 | 0.29636785 | 0.11763215 | 0.3749572 | 0.14014280 |  0.07858935 | 78.58935 |  0.02251065 | 22.51065 | 0.2864338 |\n",
       "| 6 | 2018--BBO-WBO-B16-CV | BBO | WBO | B16 | yes | no | 16B | BBOWBO16B | 16B | Hypoxic  | ⋯ | 0.3113 | 0.21577440 | 0.05172560 | 0.2522777 | 0.05902235 |  0.03650325 | 36.50325 |  0.00729675 |  7.29675 | 0.1998932 |\n",
       "\n"
      ],
      "text/plain": [
       "  sample               phase1_rep phase2_rep tag methylation. X16s. tag2\n",
       "1 2018--BBB-WBO-B21-CV BBB        WBO        B21 yes          no    21B \n",
       "2 2018--WBB-WBV-W69-CV WBB        WBV        W69 yes          no    69W \n",
       "3 2018--BBB-WBV-B70-CV BBB        WBV        B70 yes          no    70B \n",
       "4 2018--BBO-BBO-B16-CV BBO        BBO        B16 yes          no    16B \n",
       "5 2018--WBG-WBG-W44-CV WBG        WBG        W44 yes          no    44W \n",
       "6 2018--BBO-WBO-B16-CV BBO        WBO        B16 yes          no    16B \n",
       "  combined  Oyster.Code Phase.1.DO.Treatment ⋯ Final.Dry.Mass..g.\n",
       "1 BBBWBO21B 21B         Hypoxic              ⋯ 0.3187            \n",
       "2 WBBWBV69W 69W         Normoxic             ⋯ 0.2334            \n",
       "3 BBBWBV70B 70B         Hypoxic              ⋯ 0.3176            \n",
       "4 BBOBBO16B 16B         Hypoxic              ⋯ 0.1332            \n",
       "5 WBGWBG44W 44W         Normoxic             ⋯ 0.5151            \n",
       "6 BBOWBO16B 16B         Hypoxic              ⋯ 0.3113            \n",
       "  Initial.Shell.Mass..g. Initial.Tissue.Mass..g. Final.Shell.Mass..g.\n",
       "1 0.20360665             0.07299335              0.2386784           \n",
       "2 0.14677610             0.05142390              0.1691075           \n",
       "3 0.20704225             0.11495775              0.2037498           \n",
       "4 0.09653045             0.02076955              0.1104160           \n",
       "5 0.29636785             0.11763215              0.3749572           \n",
       "6 0.21577440             0.05172560              0.2522777           \n",
       "  Final.Tissue.Mass..g. Shell.Growth..g. Shell.Growth..mg. Tissue.Growth..g.\n",
       "1 0.08002160             0.03507175      35.07175           0.00702825      \n",
       "2 0.06429250             0.02233140      22.33140           0.01286860      \n",
       "3 0.11385020            -0.00329250      -3.29245          -0.00110760      \n",
       "4 0.02278400             0.01388555      13.88555           0.00201445      \n",
       "5 0.14014280             0.07858935      78.58935           0.02251065      \n",
       "6 0.05902235             0.03650325      36.50325           0.00729675      \n",
       "  Tissue.Growth..mg. Tissue.Shell.Growth\n",
       "1  7.02825           0.2003963          \n",
       "2 12.86860           0.5762559          \n",
       "3 -1.10755           0.3363908          \n",
       "4  2.01445           0.1450753          \n",
       "5 22.51065           0.2864338          \n",
       "6  7.29675           0.1998932          "
      ]
     },
     "metadata": {},
     "output_type": "display_data"
    }
   ],
   "source": [
    "meta <- read.csv('/project/pi_sarah_gignouxwolfsohn_uml_edu/julia/CE_MethylRAD_analysis_2018/analysis/counts_and_meta/CV_CE_phenotype_meta.csv')\n",
    "head(meta)"
   ]
  },
  {
   "cell_type": "markdown",
   "id": "0a4b97dc-0960-4f80-a523-eb1692799758",
   "metadata": {},
   "source": [
    "only grabbing samples that we have methylation data for "
   ]
  },
  {
   "cell_type": "code",
   "execution_count": 6,
   "id": "0c453ff6-2376-4140-a922-371d85555c7a",
   "metadata": {},
   "outputs": [
    {
     "data": {
      "text/html": [
       "<style>\n",
       ".list-inline {list-style: none; margin:0; padding: 0}\n",
       ".list-inline>li {display: inline-block}\n",
       ".list-inline>li:not(:last-child)::after {content: \"\\00b7\"; padding: 0 .5ex}\n",
       "</style>\n",
       "<ol class=list-inline><li>30</li><li>28</li></ol>\n"
      ],
      "text/latex": [
       "\\begin{enumerate*}\n",
       "\\item 30\n",
       "\\item 28\n",
       "\\end{enumerate*}\n"
      ],
      "text/markdown": [
       "1. 30\n",
       "2. 28\n",
       "\n",
       "\n"
      ],
      "text/plain": [
       "[1] 30 28"
      ]
     },
     "metadata": {},
     "output_type": "display_data"
    },
    {
     "data": {
      "text/html": [
       "<table class=\"dataframe\">\n",
       "<caption>A data.frame: 6 × 28</caption>\n",
       "<thead>\n",
       "\t<tr><th></th><th scope=col>sample</th><th scope=col>phase1_rep</th><th scope=col>phase2_rep</th><th scope=col>tag</th><th scope=col>methylation.</th><th scope=col>X16s.</th><th scope=col>tag2</th><th scope=col>combined</th><th scope=col>Oyster.Code</th><th scope=col>Phase.1.DO.Treatment</th><th scope=col>⋯</th><th scope=col>Final.Dry.Mass..g.</th><th scope=col>Initial.Shell.Mass..g.</th><th scope=col>Initial.Tissue.Mass..g.</th><th scope=col>Final.Shell.Mass..g.</th><th scope=col>Final.Tissue.Mass..g.</th><th scope=col>Shell.Growth..g.</th><th scope=col>Shell.Growth..mg.</th><th scope=col>Tissue.Growth..g.</th><th scope=col>Tissue.Growth..mg.</th><th scope=col>Tissue.Shell.Growth</th></tr>\n",
       "\t<tr><th></th><th scope=col>&lt;chr&gt;</th><th scope=col>&lt;chr&gt;</th><th scope=col>&lt;chr&gt;</th><th scope=col>&lt;chr&gt;</th><th scope=col>&lt;chr&gt;</th><th scope=col>&lt;chr&gt;</th><th scope=col>&lt;chr&gt;</th><th scope=col>&lt;chr&gt;</th><th scope=col>&lt;chr&gt;</th><th scope=col>&lt;chr&gt;</th><th scope=col>⋯</th><th scope=col>&lt;dbl&gt;</th><th scope=col>&lt;dbl&gt;</th><th scope=col>&lt;dbl&gt;</th><th scope=col>&lt;dbl&gt;</th><th scope=col>&lt;dbl&gt;</th><th scope=col>&lt;dbl&gt;</th><th scope=col>&lt;dbl&gt;</th><th scope=col>&lt;dbl&gt;</th><th scope=col>&lt;dbl&gt;</th><th scope=col>&lt;dbl&gt;</th></tr>\n",
       "</thead>\n",
       "<tbody>\n",
       "\t<tr><th scope=row>1</th><td>2018--BBB-WBO-B21-CV</td><td>BBB</td><td>WBO</td><td>B21</td><td>yes</td><td>no</td><td>21B</td><td>BBBWBO21B</td><td>21B</td><td>Hypoxic </td><td>⋯</td><td>0.3187</td><td>0.20360665</td><td>0.07299335</td><td>0.2386784</td><td>0.08002160</td><td> 0.03507175</td><td>35.07175</td><td> 0.00702825</td><td> 7.02825</td><td>0.2003963</td></tr>\n",
       "\t<tr><th scope=row>2</th><td>2018--WBB-WBV-W69-CV</td><td>WBB</td><td>WBV</td><td>W69</td><td>yes</td><td>no</td><td>69W</td><td>WBBWBV69W</td><td>69W</td><td>Normoxic</td><td>⋯</td><td>0.2334</td><td>0.14677610</td><td>0.05142390</td><td>0.1691075</td><td>0.06429250</td><td> 0.02233140</td><td>22.33140</td><td> 0.01286860</td><td>12.86860</td><td>0.5762559</td></tr>\n",
       "\t<tr><th scope=row>3</th><td>2018--BBB-WBV-B70-CV</td><td>BBB</td><td>WBV</td><td>B70</td><td>yes</td><td>no</td><td>70B</td><td>BBBWBV70B</td><td>70B</td><td>Hypoxic </td><td>⋯</td><td>0.3176</td><td>0.20704225</td><td>0.11495775</td><td>0.2037498</td><td>0.11385020</td><td>-0.00329250</td><td>-3.29245</td><td>-0.00110760</td><td>-1.10755</td><td>0.3363908</td></tr>\n",
       "\t<tr><th scope=row>4</th><td>2018--BBO-BBO-B16-CV</td><td>BBO</td><td>BBO</td><td>B16</td><td>yes</td><td>no</td><td>16B</td><td>BBOBBO16B</td><td>16B</td><td>Hypoxic </td><td>⋯</td><td>0.1332</td><td>0.09653045</td><td>0.02076955</td><td>0.1104160</td><td>0.02278400</td><td> 0.01388555</td><td>13.88555</td><td> 0.00201445</td><td> 2.01445</td><td>0.1450753</td></tr>\n",
       "\t<tr><th scope=row>5</th><td>2018--WBG-WBG-W44-CV</td><td>WBG</td><td>WBG</td><td>W44</td><td>yes</td><td>no</td><td>44W</td><td>WBGWBG44W</td><td>44W</td><td>Normoxic</td><td>⋯</td><td>0.5151</td><td>0.29636785</td><td>0.11763215</td><td>0.3749572</td><td>0.14014280</td><td> 0.07858935</td><td>78.58935</td><td> 0.02251065</td><td>22.51065</td><td>0.2864338</td></tr>\n",
       "\t<tr><th scope=row>6</th><td>2018--BBO-WBO-B16-CV</td><td>BBO</td><td>WBO</td><td>B16</td><td>yes</td><td>no</td><td>16B</td><td>BBOWBO16B</td><td>16B</td><td>Hypoxic </td><td>⋯</td><td>0.3113</td><td>0.21577440</td><td>0.05172560</td><td>0.2522777</td><td>0.05902235</td><td> 0.03650325</td><td>36.50325</td><td> 0.00729675</td><td> 7.29675</td><td>0.1998932</td></tr>\n",
       "</tbody>\n",
       "</table>\n"
      ],
      "text/latex": [
       "A data.frame: 6 × 28\n",
       "\\begin{tabular}{r|lllllllllllllllllllll}\n",
       "  & sample & phase1\\_rep & phase2\\_rep & tag & methylation. & X16s. & tag2 & combined & Oyster.Code & Phase.1.DO.Treatment & ⋯ & Final.Dry.Mass..g. & Initial.Shell.Mass..g. & Initial.Tissue.Mass..g. & Final.Shell.Mass..g. & Final.Tissue.Mass..g. & Shell.Growth..g. & Shell.Growth..mg. & Tissue.Growth..g. & Tissue.Growth..mg. & Tissue.Shell.Growth\\\\\n",
       "  & <chr> & <chr> & <chr> & <chr> & <chr> & <chr> & <chr> & <chr> & <chr> & <chr> & ⋯ & <dbl> & <dbl> & <dbl> & <dbl> & <dbl> & <dbl> & <dbl> & <dbl> & <dbl> & <dbl>\\\\\n",
       "\\hline\n",
       "\t1 & 2018--BBB-WBO-B21-CV & BBB & WBO & B21 & yes & no & 21B & BBBWBO21B & 21B & Hypoxic  & ⋯ & 0.3187 & 0.20360665 & 0.07299335 & 0.2386784 & 0.08002160 &  0.03507175 & 35.07175 &  0.00702825 &  7.02825 & 0.2003963\\\\\n",
       "\t2 & 2018--WBB-WBV-W69-CV & WBB & WBV & W69 & yes & no & 69W & WBBWBV69W & 69W & Normoxic & ⋯ & 0.2334 & 0.14677610 & 0.05142390 & 0.1691075 & 0.06429250 &  0.02233140 & 22.33140 &  0.01286860 & 12.86860 & 0.5762559\\\\\n",
       "\t3 & 2018--BBB-WBV-B70-CV & BBB & WBV & B70 & yes & no & 70B & BBBWBV70B & 70B & Hypoxic  & ⋯ & 0.3176 & 0.20704225 & 0.11495775 & 0.2037498 & 0.11385020 & -0.00329250 & -3.29245 & -0.00110760 & -1.10755 & 0.3363908\\\\\n",
       "\t4 & 2018--BBO-BBO-B16-CV & BBO & BBO & B16 & yes & no & 16B & BBOBBO16B & 16B & Hypoxic  & ⋯ & 0.1332 & 0.09653045 & 0.02076955 & 0.1104160 & 0.02278400 &  0.01388555 & 13.88555 &  0.00201445 &  2.01445 & 0.1450753\\\\\n",
       "\t5 & 2018--WBG-WBG-W44-CV & WBG & WBG & W44 & yes & no & 44W & WBGWBG44W & 44W & Normoxic & ⋯ & 0.5151 & 0.29636785 & 0.11763215 & 0.3749572 & 0.14014280 &  0.07858935 & 78.58935 &  0.02251065 & 22.51065 & 0.2864338\\\\\n",
       "\t6 & 2018--BBO-WBO-B16-CV & BBO & WBO & B16 & yes & no & 16B & BBOWBO16B & 16B & Hypoxic  & ⋯ & 0.3113 & 0.21577440 & 0.05172560 & 0.2522777 & 0.05902235 &  0.03650325 & 36.50325 &  0.00729675 &  7.29675 & 0.1998932\\\\\n",
       "\\end{tabular}\n"
      ],
      "text/markdown": [
       "\n",
       "A data.frame: 6 × 28\n",
       "\n",
       "| <!--/--> | sample &lt;chr&gt; | phase1_rep &lt;chr&gt; | phase2_rep &lt;chr&gt; | tag &lt;chr&gt; | methylation. &lt;chr&gt; | X16s. &lt;chr&gt; | tag2 &lt;chr&gt; | combined &lt;chr&gt; | Oyster.Code &lt;chr&gt; | Phase.1.DO.Treatment &lt;chr&gt; | ⋯ ⋯ | Final.Dry.Mass..g. &lt;dbl&gt; | Initial.Shell.Mass..g. &lt;dbl&gt; | Initial.Tissue.Mass..g. &lt;dbl&gt; | Final.Shell.Mass..g. &lt;dbl&gt; | Final.Tissue.Mass..g. &lt;dbl&gt; | Shell.Growth..g. &lt;dbl&gt; | Shell.Growth..mg. &lt;dbl&gt; | Tissue.Growth..g. &lt;dbl&gt; | Tissue.Growth..mg. &lt;dbl&gt; | Tissue.Shell.Growth &lt;dbl&gt; |\n",
       "|---|---|---|---|---|---|---|---|---|---|---|---|---|---|---|---|---|---|---|---|---|---|\n",
       "| 1 | 2018--BBB-WBO-B21-CV | BBB | WBO | B21 | yes | no | 21B | BBBWBO21B | 21B | Hypoxic  | ⋯ | 0.3187 | 0.20360665 | 0.07299335 | 0.2386784 | 0.08002160 |  0.03507175 | 35.07175 |  0.00702825 |  7.02825 | 0.2003963 |\n",
       "| 2 | 2018--WBB-WBV-W69-CV | WBB | WBV | W69 | yes | no | 69W | WBBWBV69W | 69W | Normoxic | ⋯ | 0.2334 | 0.14677610 | 0.05142390 | 0.1691075 | 0.06429250 |  0.02233140 | 22.33140 |  0.01286860 | 12.86860 | 0.5762559 |\n",
       "| 3 | 2018--BBB-WBV-B70-CV | BBB | WBV | B70 | yes | no | 70B | BBBWBV70B | 70B | Hypoxic  | ⋯ | 0.3176 | 0.20704225 | 0.11495775 | 0.2037498 | 0.11385020 | -0.00329250 | -3.29245 | -0.00110760 | -1.10755 | 0.3363908 |\n",
       "| 4 | 2018--BBO-BBO-B16-CV | BBO | BBO | B16 | yes | no | 16B | BBOBBO16B | 16B | Hypoxic  | ⋯ | 0.1332 | 0.09653045 | 0.02076955 | 0.1104160 | 0.02278400 |  0.01388555 | 13.88555 |  0.00201445 |  2.01445 | 0.1450753 |\n",
       "| 5 | 2018--WBG-WBG-W44-CV | WBG | WBG | W44 | yes | no | 44W | WBGWBG44W | 44W | Normoxic | ⋯ | 0.5151 | 0.29636785 | 0.11763215 | 0.3749572 | 0.14014280 |  0.07858935 | 78.58935 |  0.02251065 | 22.51065 | 0.2864338 |\n",
       "| 6 | 2018--BBO-WBO-B16-CV | BBO | WBO | B16 | yes | no | 16B | BBOWBO16B | 16B | Hypoxic  | ⋯ | 0.3113 | 0.21577440 | 0.05172560 | 0.2522777 | 0.05902235 |  0.03650325 | 36.50325 |  0.00729675 |  7.29675 | 0.1998932 |\n",
       "\n"
      ],
      "text/plain": [
       "  sample               phase1_rep phase2_rep tag methylation. X16s. tag2\n",
       "1 2018--BBB-WBO-B21-CV BBB        WBO        B21 yes          no    21B \n",
       "2 2018--WBB-WBV-W69-CV WBB        WBV        W69 yes          no    69W \n",
       "3 2018--BBB-WBV-B70-CV BBB        WBV        B70 yes          no    70B \n",
       "4 2018--BBO-BBO-B16-CV BBO        BBO        B16 yes          no    16B \n",
       "5 2018--WBG-WBG-W44-CV WBG        WBG        W44 yes          no    44W \n",
       "6 2018--BBO-WBO-B16-CV BBO        WBO        B16 yes          no    16B \n",
       "  combined  Oyster.Code Phase.1.DO.Treatment ⋯ Final.Dry.Mass..g.\n",
       "1 BBBWBO21B 21B         Hypoxic              ⋯ 0.3187            \n",
       "2 WBBWBV69W 69W         Normoxic             ⋯ 0.2334            \n",
       "3 BBBWBV70B 70B         Hypoxic              ⋯ 0.3176            \n",
       "4 BBOBBO16B 16B         Hypoxic              ⋯ 0.1332            \n",
       "5 WBGWBG44W 44W         Normoxic             ⋯ 0.5151            \n",
       "6 BBOWBO16B 16B         Hypoxic              ⋯ 0.3113            \n",
       "  Initial.Shell.Mass..g. Initial.Tissue.Mass..g. Final.Shell.Mass..g.\n",
       "1 0.20360665             0.07299335              0.2386784           \n",
       "2 0.14677610             0.05142390              0.1691075           \n",
       "3 0.20704225             0.11495775              0.2037498           \n",
       "4 0.09653045             0.02076955              0.1104160           \n",
       "5 0.29636785             0.11763215              0.3749572           \n",
       "6 0.21577440             0.05172560              0.2522777           \n",
       "  Final.Tissue.Mass..g. Shell.Growth..g. Shell.Growth..mg. Tissue.Growth..g.\n",
       "1 0.08002160             0.03507175      35.07175           0.00702825      \n",
       "2 0.06429250             0.02233140      22.33140           0.01286860      \n",
       "3 0.11385020            -0.00329250      -3.29245          -0.00110760      \n",
       "4 0.02278400             0.01388555      13.88555           0.00201445      \n",
       "5 0.14014280             0.07858935      78.58935           0.02251065      \n",
       "6 0.05902235             0.03650325      36.50325           0.00729675      \n",
       "  Tissue.Growth..mg. Tissue.Shell.Growth\n",
       "1  7.02825           0.2003963          \n",
       "2 12.86860           0.5762559          \n",
       "3 -1.10755           0.3363908          \n",
       "4  2.01445           0.1450753          \n",
       "5 22.51065           0.2864338          \n",
       "6  7.29675           0.1998932          "
      ]
     },
     "metadata": {},
     "output_type": "display_data"
    }
   ],
   "source": [
    "meta2 <- filter(meta, meta$methylation == 'yes')\n",
    "dim(meta2) # 30 samples\n",
    "head(meta2)"
   ]
  },
  {
   "cell_type": "code",
   "execution_count": 2,
   "id": "723d0eac-c1ea-40bb-a0b7-e02db7a0b5d0",
   "metadata": {},
   "outputs": [
    {
     "data": {
      "text/html": [
       "<style>\n",
       ".list-inline {list-style: none; margin:0; padding: 0}\n",
       ".list-inline>li {display: inline-block}\n",
       ".list-inline>li:not(:last-child)::after {content: \"\\00b7\"; padding: 0 .5ex}\n",
       "</style>\n",
       "<ol class=list-inline><li>'sample'</li><li>'phase1_rep'</li><li>'phase2_rep'</li><li>'tag'</li><li>'methylation.'</li><li>'X16s.'</li><li>'tag2'</li><li>'combined'</li><li>'Oyster.Code'</li><li>'Phase.1.DO.Treatment'</li><li>'Phase.1.Temperature.Treatment'</li><li>'Phase.2.DO.Treatment'</li><li>'Phase.2.Temperature.Treatment'</li><li>'Phase.1.Replicate'</li><li>'Phase.2.Replicate'</li><li>'Initial.Submerged.Mass..g.'</li><li>'Initial.Dry.Mass..g.'</li><li>'Final.Submerged.Mass..g.'</li><li>'Final.Dry.Mass..g.'</li><li>'Initial.Shell.Mass..g.'</li><li>'Initial.Tissue.Mass..g.'</li><li>'Final.Shell.Mass..g.'</li><li>'Final.Tissue.Mass..g.'</li><li>'Shell.Growth..g.'</li><li>'Shell.Growth..mg.'</li><li>'Tissue.Growth..g.'</li><li>'Tissue.Growth..mg.'</li><li>'Tissue.Shell.Growth'</li></ol>\n"
      ],
      "text/latex": [
       "\\begin{enumerate*}\n",
       "\\item 'sample'\n",
       "\\item 'phase1\\_rep'\n",
       "\\item 'phase2\\_rep'\n",
       "\\item 'tag'\n",
       "\\item 'methylation.'\n",
       "\\item 'X16s.'\n",
       "\\item 'tag2'\n",
       "\\item 'combined'\n",
       "\\item 'Oyster.Code'\n",
       "\\item 'Phase.1.DO.Treatment'\n",
       "\\item 'Phase.1.Temperature.Treatment'\n",
       "\\item 'Phase.2.DO.Treatment'\n",
       "\\item 'Phase.2.Temperature.Treatment'\n",
       "\\item 'Phase.1.Replicate'\n",
       "\\item 'Phase.2.Replicate'\n",
       "\\item 'Initial.Submerged.Mass..g.'\n",
       "\\item 'Initial.Dry.Mass..g.'\n",
       "\\item 'Final.Submerged.Mass..g.'\n",
       "\\item 'Final.Dry.Mass..g.'\n",
       "\\item 'Initial.Shell.Mass..g.'\n",
       "\\item 'Initial.Tissue.Mass..g.'\n",
       "\\item 'Final.Shell.Mass..g.'\n",
       "\\item 'Final.Tissue.Mass..g.'\n",
       "\\item 'Shell.Growth..g.'\n",
       "\\item 'Shell.Growth..mg.'\n",
       "\\item 'Tissue.Growth..g.'\n",
       "\\item 'Tissue.Growth..mg.'\n",
       "\\item 'Tissue.Shell.Growth'\n",
       "\\end{enumerate*}\n"
      ],
      "text/markdown": [
       "1. 'sample'\n",
       "2. 'phase1_rep'\n",
       "3. 'phase2_rep'\n",
       "4. 'tag'\n",
       "5. 'methylation.'\n",
       "6. 'X16s.'\n",
       "7. 'tag2'\n",
       "8. 'combined'\n",
       "9. 'Oyster.Code'\n",
       "10. 'Phase.1.DO.Treatment'\n",
       "11. 'Phase.1.Temperature.Treatment'\n",
       "12. 'Phase.2.DO.Treatment'\n",
       "13. 'Phase.2.Temperature.Treatment'\n",
       "14. 'Phase.1.Replicate'\n",
       "15. 'Phase.2.Replicate'\n",
       "16. 'Initial.Submerged.Mass..g.'\n",
       "17. 'Initial.Dry.Mass..g.'\n",
       "18. 'Final.Submerged.Mass..g.'\n",
       "19. 'Final.Dry.Mass..g.'\n",
       "20. 'Initial.Shell.Mass..g.'\n",
       "21. 'Initial.Tissue.Mass..g.'\n",
       "22. 'Final.Shell.Mass..g.'\n",
       "23. 'Final.Tissue.Mass..g.'\n",
       "24. 'Shell.Growth..g.'\n",
       "25. 'Shell.Growth..mg.'\n",
       "26. 'Tissue.Growth..g.'\n",
       "27. 'Tissue.Growth..mg.'\n",
       "28. 'Tissue.Shell.Growth'\n",
       "\n",
       "\n"
      ],
      "text/plain": [
       " [1] \"sample\"                        \"phase1_rep\"                   \n",
       " [3] \"phase2_rep\"                    \"tag\"                          \n",
       " [5] \"methylation.\"                  \"X16s.\"                        \n",
       " [7] \"tag2\"                          \"combined\"                     \n",
       " [9] \"Oyster.Code\"                   \"Phase.1.DO.Treatment\"         \n",
       "[11] \"Phase.1.Temperature.Treatment\" \"Phase.2.DO.Treatment\"         \n",
       "[13] \"Phase.2.Temperature.Treatment\" \"Phase.1.Replicate\"            \n",
       "[15] \"Phase.2.Replicate\"             \"Initial.Submerged.Mass..g.\"   \n",
       "[17] \"Initial.Dry.Mass..g.\"          \"Final.Submerged.Mass..g.\"     \n",
       "[19] \"Final.Dry.Mass..g.\"            \"Initial.Shell.Mass..g.\"       \n",
       "[21] \"Initial.Tissue.Mass..g.\"       \"Final.Shell.Mass..g.\"         \n",
       "[23] \"Final.Tissue.Mass..g.\"         \"Shell.Growth..g.\"             \n",
       "[25] \"Shell.Growth..mg.\"             \"Tissue.Growth..g.\"            \n",
       "[27] \"Tissue.Growth..mg.\"            \"Tissue.Shell.Growth\"          "
      ]
     },
     "metadata": {},
     "output_type": "display_data"
    }
   ],
   "source": [
    "colnames(meta)"
   ]
  },
  {
   "cell_type": "code",
   "execution_count": 9,
   "id": "74065b0d-8dbd-48f7-9f6c-cb6b877ca415",
   "metadata": {},
   "outputs": [
    {
     "data": {
      "text/html": [
       "<style>\n",
       ".list-inline {list-style: none; margin:0; padding: 0}\n",
       ".list-inline>li {display: inline-block}\n",
       ".list-inline>li:not(:last-child)::after {content: \"\\00b7\"; padding: 0 .5ex}\n",
       "</style>\n",
       "<ol class=list-inline><li>'sample'</li><li>'Initial.Submerged.Mass..g.'</li><li>'Initial.Dry.Mass..g.'</li><li>'Final.Submerged.Mass..g.'</li><li>'Final.Dry.Mass..g.'</li><li>'Initial.Shell.Mass..g.'</li><li>'Initial.Tissue.Mass..g.'</li><li>'Final.Shell.Mass..g.'</li><li>'Final.Tissue.Mass..g.'</li><li>'Shell.Growth..g.'</li><li>'Shell.Growth..mg.'</li><li>'Tissue.Growth..g.'</li><li>'Tissue.Growth..mg.'</li><li>'Tissue.Shell.Growth'</li></ol>\n"
      ],
      "text/latex": [
       "\\begin{enumerate*}\n",
       "\\item 'sample'\n",
       "\\item 'Initial.Submerged.Mass..g.'\n",
       "\\item 'Initial.Dry.Mass..g.'\n",
       "\\item 'Final.Submerged.Mass..g.'\n",
       "\\item 'Final.Dry.Mass..g.'\n",
       "\\item 'Initial.Shell.Mass..g.'\n",
       "\\item 'Initial.Tissue.Mass..g.'\n",
       "\\item 'Final.Shell.Mass..g.'\n",
       "\\item 'Final.Tissue.Mass..g.'\n",
       "\\item 'Shell.Growth..g.'\n",
       "\\item 'Shell.Growth..mg.'\n",
       "\\item 'Tissue.Growth..g.'\n",
       "\\item 'Tissue.Growth..mg.'\n",
       "\\item 'Tissue.Shell.Growth'\n",
       "\\end{enumerate*}\n"
      ],
      "text/markdown": [
       "1. 'sample'\n",
       "2. 'Initial.Submerged.Mass..g.'\n",
       "3. 'Initial.Dry.Mass..g.'\n",
       "4. 'Final.Submerged.Mass..g.'\n",
       "5. 'Final.Dry.Mass..g.'\n",
       "6. 'Initial.Shell.Mass..g.'\n",
       "7. 'Initial.Tissue.Mass..g.'\n",
       "8. 'Final.Shell.Mass..g.'\n",
       "9. 'Final.Tissue.Mass..g.'\n",
       "10. 'Shell.Growth..g.'\n",
       "11. 'Shell.Growth..mg.'\n",
       "12. 'Tissue.Growth..g.'\n",
       "13. 'Tissue.Growth..mg.'\n",
       "14. 'Tissue.Shell.Growth'\n",
       "\n",
       "\n"
      ],
      "text/plain": [
       " [1] \"sample\"                     \"Initial.Submerged.Mass..g.\"\n",
       " [3] \"Initial.Dry.Mass..g.\"       \"Final.Submerged.Mass..g.\"  \n",
       " [5] \"Final.Dry.Mass..g.\"         \"Initial.Shell.Mass..g.\"    \n",
       " [7] \"Initial.Tissue.Mass..g.\"    \"Final.Shell.Mass..g.\"      \n",
       " [9] \"Final.Tissue.Mass..g.\"      \"Shell.Growth..g.\"          \n",
       "[11] \"Shell.Growth..mg.\"          \"Tissue.Growth..g.\"         \n",
       "[13] \"Tissue.Growth..mg.\"         \"Tissue.Shell.Growth\"       "
      ]
     },
     "metadata": {},
     "output_type": "display_data"
    },
    {
     "data": {
      "text/html": [
       "<table class=\"dataframe\">\n",
       "<caption>A data.frame: 6 × 14</caption>\n",
       "<thead>\n",
       "\t<tr><th></th><th scope=col>sample</th><th scope=col>Initial.Submerged.Mass..g.</th><th scope=col>Initial.Dry.Mass..g.</th><th scope=col>Final.Submerged.Mass..g.</th><th scope=col>Final.Dry.Mass..g.</th><th scope=col>Initial.Shell.Mass..g.</th><th scope=col>Initial.Tissue.Mass..g.</th><th scope=col>Final.Shell.Mass..g.</th><th scope=col>Final.Tissue.Mass..g.</th><th scope=col>Shell.Growth..g.</th><th scope=col>Shell.Growth..mg.</th><th scope=col>Tissue.Growth..g.</th><th scope=col>Tissue.Growth..mg.</th><th scope=col>Tissue.Shell.Growth</th></tr>\n",
       "\t<tr><th></th><th scope=col>&lt;chr&gt;</th><th scope=col>&lt;dbl&gt;</th><th scope=col>&lt;dbl&gt;</th><th scope=col>&lt;dbl&gt;</th><th scope=col>&lt;dbl&gt;</th><th scope=col>&lt;dbl&gt;</th><th scope=col>&lt;dbl&gt;</th><th scope=col>&lt;dbl&gt;</th><th scope=col>&lt;dbl&gt;</th><th scope=col>&lt;dbl&gt;</th><th scope=col>&lt;dbl&gt;</th><th scope=col>&lt;dbl&gt;</th><th scope=col>&lt;dbl&gt;</th><th scope=col>&lt;dbl&gt;</th></tr>\n",
       "</thead>\n",
       "<tbody>\n",
       "\t<tr><th scope=row>1</th><td>2018--BBB-WBO-B21-CV</td><td>0.1291</td><td>0.2766</td><td>0.1536</td><td>0.3187</td><td>0.20360665</td><td>0.07299335</td><td>0.2386784</td><td>0.08002160</td><td> 0.03507175</td><td>35.07175</td><td> 0.00702825</td><td> 7.02825</td><td>0.2003963</td></tr>\n",
       "\t<tr><th scope=row>2</th><td>2018--WBB-WBV-W69-CV</td><td>0.0894</td><td>0.1982</td><td>0.1050</td><td>0.2334</td><td>0.14677610</td><td>0.05142390</td><td>0.1691075</td><td>0.06429250</td><td> 0.02233140</td><td>22.33140</td><td> 0.01286860</td><td>12.86860</td><td>0.5762559</td></tr>\n",
       "\t<tr><th scope=row>3</th><td>2018--BBB-WBV-B70-CV</td><td>0.1315</td><td>0.3220</td><td>0.1292</td><td>0.3176</td><td>0.20704225</td><td>0.11495775</td><td>0.2037498</td><td>0.11385020</td><td>-0.00329250</td><td>-3.29245</td><td>-0.00110760</td><td>-1.10755</td><td>0.3363908</td></tr>\n",
       "\t<tr><th scope=row>4</th><td>2018--BBO-BBO-B16-CV</td><td>0.0543</td><td>0.1173</td><td>0.0640</td><td>0.1332</td><td>0.09653045</td><td>0.02076955</td><td>0.1104160</td><td>0.02278400</td><td> 0.01388555</td><td>13.88555</td><td> 0.00201445</td><td> 2.01445</td><td>0.1450753</td></tr>\n",
       "\t<tr><th scope=row>5</th><td>2018--WBG-WBG-W44-CV</td><td>0.1939</td><td>0.4140</td><td>0.2488</td><td>0.5151</td><td>0.29636785</td><td>0.11763215</td><td>0.3749572</td><td>0.14014280</td><td> 0.07858935</td><td>78.58935</td><td> 0.02251065</td><td>22.51065</td><td>0.2864338</td></tr>\n",
       "\t<tr><th scope=row>6</th><td>2018--BBO-WBO-B16-CV</td><td>0.1376</td><td>0.2675</td><td>0.1631</td><td>0.3113</td><td>0.21577440</td><td>0.05172560</td><td>0.2522777</td><td>0.05902235</td><td> 0.03650325</td><td>36.50325</td><td> 0.00729675</td><td> 7.29675</td><td>0.1998932</td></tr>\n",
       "</tbody>\n",
       "</table>\n"
      ],
      "text/latex": [
       "A data.frame: 6 × 14\n",
       "\\begin{tabular}{r|llllllllllllll}\n",
       "  & sample & Initial.Submerged.Mass..g. & Initial.Dry.Mass..g. & Final.Submerged.Mass..g. & Final.Dry.Mass..g. & Initial.Shell.Mass..g. & Initial.Tissue.Mass..g. & Final.Shell.Mass..g. & Final.Tissue.Mass..g. & Shell.Growth..g. & Shell.Growth..mg. & Tissue.Growth..g. & Tissue.Growth..mg. & Tissue.Shell.Growth\\\\\n",
       "  & <chr> & <dbl> & <dbl> & <dbl> & <dbl> & <dbl> & <dbl> & <dbl> & <dbl> & <dbl> & <dbl> & <dbl> & <dbl> & <dbl>\\\\\n",
       "\\hline\n",
       "\t1 & 2018--BBB-WBO-B21-CV & 0.1291 & 0.2766 & 0.1536 & 0.3187 & 0.20360665 & 0.07299335 & 0.2386784 & 0.08002160 &  0.03507175 & 35.07175 &  0.00702825 &  7.02825 & 0.2003963\\\\\n",
       "\t2 & 2018--WBB-WBV-W69-CV & 0.0894 & 0.1982 & 0.1050 & 0.2334 & 0.14677610 & 0.05142390 & 0.1691075 & 0.06429250 &  0.02233140 & 22.33140 &  0.01286860 & 12.86860 & 0.5762559\\\\\n",
       "\t3 & 2018--BBB-WBV-B70-CV & 0.1315 & 0.3220 & 0.1292 & 0.3176 & 0.20704225 & 0.11495775 & 0.2037498 & 0.11385020 & -0.00329250 & -3.29245 & -0.00110760 & -1.10755 & 0.3363908\\\\\n",
       "\t4 & 2018--BBO-BBO-B16-CV & 0.0543 & 0.1173 & 0.0640 & 0.1332 & 0.09653045 & 0.02076955 & 0.1104160 & 0.02278400 &  0.01388555 & 13.88555 &  0.00201445 &  2.01445 & 0.1450753\\\\\n",
       "\t5 & 2018--WBG-WBG-W44-CV & 0.1939 & 0.4140 & 0.2488 & 0.5151 & 0.29636785 & 0.11763215 & 0.3749572 & 0.14014280 &  0.07858935 & 78.58935 &  0.02251065 & 22.51065 & 0.2864338\\\\\n",
       "\t6 & 2018--BBO-WBO-B16-CV & 0.1376 & 0.2675 & 0.1631 & 0.3113 & 0.21577440 & 0.05172560 & 0.2522777 & 0.05902235 &  0.03650325 & 36.50325 &  0.00729675 &  7.29675 & 0.1998932\\\\\n",
       "\\end{tabular}\n"
      ],
      "text/markdown": [
       "\n",
       "A data.frame: 6 × 14\n",
       "\n",
       "| <!--/--> | sample &lt;chr&gt; | Initial.Submerged.Mass..g. &lt;dbl&gt; | Initial.Dry.Mass..g. &lt;dbl&gt; | Final.Submerged.Mass..g. &lt;dbl&gt; | Final.Dry.Mass..g. &lt;dbl&gt; | Initial.Shell.Mass..g. &lt;dbl&gt; | Initial.Tissue.Mass..g. &lt;dbl&gt; | Final.Shell.Mass..g. &lt;dbl&gt; | Final.Tissue.Mass..g. &lt;dbl&gt; | Shell.Growth..g. &lt;dbl&gt; | Shell.Growth..mg. &lt;dbl&gt; | Tissue.Growth..g. &lt;dbl&gt; | Tissue.Growth..mg. &lt;dbl&gt; | Tissue.Shell.Growth &lt;dbl&gt; |\n",
       "|---|---|---|---|---|---|---|---|---|---|---|---|---|---|---|\n",
       "| 1 | 2018--BBB-WBO-B21-CV | 0.1291 | 0.2766 | 0.1536 | 0.3187 | 0.20360665 | 0.07299335 | 0.2386784 | 0.08002160 |  0.03507175 | 35.07175 |  0.00702825 |  7.02825 | 0.2003963 |\n",
       "| 2 | 2018--WBB-WBV-W69-CV | 0.0894 | 0.1982 | 0.1050 | 0.2334 | 0.14677610 | 0.05142390 | 0.1691075 | 0.06429250 |  0.02233140 | 22.33140 |  0.01286860 | 12.86860 | 0.5762559 |\n",
       "| 3 | 2018--BBB-WBV-B70-CV | 0.1315 | 0.3220 | 0.1292 | 0.3176 | 0.20704225 | 0.11495775 | 0.2037498 | 0.11385020 | -0.00329250 | -3.29245 | -0.00110760 | -1.10755 | 0.3363908 |\n",
       "| 4 | 2018--BBO-BBO-B16-CV | 0.0543 | 0.1173 | 0.0640 | 0.1332 | 0.09653045 | 0.02076955 | 0.1104160 | 0.02278400 |  0.01388555 | 13.88555 |  0.00201445 |  2.01445 | 0.1450753 |\n",
       "| 5 | 2018--WBG-WBG-W44-CV | 0.1939 | 0.4140 | 0.2488 | 0.5151 | 0.29636785 | 0.11763215 | 0.3749572 | 0.14014280 |  0.07858935 | 78.58935 |  0.02251065 | 22.51065 | 0.2864338 |\n",
       "| 6 | 2018--BBO-WBO-B16-CV | 0.1376 | 0.2675 | 0.1631 | 0.3113 | 0.21577440 | 0.05172560 | 0.2522777 | 0.05902235 |  0.03650325 | 36.50325 |  0.00729675 |  7.29675 | 0.1998932 |\n",
       "\n"
      ],
      "text/plain": [
       "  sample               Initial.Submerged.Mass..g. Initial.Dry.Mass..g.\n",
       "1 2018--BBB-WBO-B21-CV 0.1291                     0.2766              \n",
       "2 2018--WBB-WBV-W69-CV 0.0894                     0.1982              \n",
       "3 2018--BBB-WBV-B70-CV 0.1315                     0.3220              \n",
       "4 2018--BBO-BBO-B16-CV 0.0543                     0.1173              \n",
       "5 2018--WBG-WBG-W44-CV 0.1939                     0.4140              \n",
       "6 2018--BBO-WBO-B16-CV 0.1376                     0.2675              \n",
       "  Final.Submerged.Mass..g. Final.Dry.Mass..g. Initial.Shell.Mass..g.\n",
       "1 0.1536                   0.3187             0.20360665            \n",
       "2 0.1050                   0.2334             0.14677610            \n",
       "3 0.1292                   0.3176             0.20704225            \n",
       "4 0.0640                   0.1332             0.09653045            \n",
       "5 0.2488                   0.5151             0.29636785            \n",
       "6 0.1631                   0.3113             0.21577440            \n",
       "  Initial.Tissue.Mass..g. Final.Shell.Mass..g. Final.Tissue.Mass..g.\n",
       "1 0.07299335              0.2386784            0.08002160           \n",
       "2 0.05142390              0.1691075            0.06429250           \n",
       "3 0.11495775              0.2037498            0.11385020           \n",
       "4 0.02076955              0.1104160            0.02278400           \n",
       "5 0.11763215              0.3749572            0.14014280           \n",
       "6 0.05172560              0.2522777            0.05902235           \n",
       "  Shell.Growth..g. Shell.Growth..mg. Tissue.Growth..g. Tissue.Growth..mg.\n",
       "1  0.03507175      35.07175           0.00702825        7.02825          \n",
       "2  0.02233140      22.33140           0.01286860       12.86860          \n",
       "3 -0.00329250      -3.29245          -0.00110760       -1.10755          \n",
       "4  0.01388555      13.88555           0.00201445        2.01445          \n",
       "5  0.07858935      78.58935           0.02251065       22.51065          \n",
       "6  0.03650325      36.50325           0.00729675        7.29675          \n",
       "  Tissue.Shell.Growth\n",
       "1 0.2003963          \n",
       "2 0.5762559          \n",
       "3 0.3363908          \n",
       "4 0.1450753          \n",
       "5 0.2864338          \n",
       "6 0.1998932          "
      ]
     },
     "metadata": {},
     "output_type": "display_data"
    }
   ],
   "source": [
    "meta3 <- meta2[,c(1,16:28)]\n",
    "colnames(meta3)\n",
    "head(meta3)"
   ]
  },
  {
   "cell_type": "code",
   "execution_count": 11,
   "id": "7f860849-b5b0-4380-8458-e717ae0b405f",
   "metadata": {},
   "outputs": [
    {
     "data": {
      "text/html": [
       "<table class=\"dataframe\">\n",
       "<caption>A data.frame: 6 × 2</caption>\n",
       "<thead>\n",
       "\t<tr><th></th><th scope=col>sample</th><th scope=col>t.s_ratio</th></tr>\n",
       "\t<tr><th></th><th scope=col>&lt;chr&gt;</th><th scope=col>&lt;dbl&gt;</th></tr>\n",
       "</thead>\n",
       "<tbody>\n",
       "\t<tr><th scope=row>1</th><td>2018--BBB-WBO-B21-CV</td><td>0.2003963</td></tr>\n",
       "\t<tr><th scope=row>2</th><td>2018--WBB-WBV-W69-CV</td><td>0.5762559</td></tr>\n",
       "\t<tr><th scope=row>3</th><td>2018--BBB-WBV-B70-CV</td><td>0.3363908</td></tr>\n",
       "\t<tr><th scope=row>4</th><td>2018--BBO-BBO-B16-CV</td><td>0.1450753</td></tr>\n",
       "\t<tr><th scope=row>5</th><td>2018--WBG-WBG-W44-CV</td><td>0.2864338</td></tr>\n",
       "\t<tr><th scope=row>6</th><td>2018--BBO-WBO-B16-CV</td><td>0.1998932</td></tr>\n",
       "</tbody>\n",
       "</table>\n"
      ],
      "text/latex": [
       "A data.frame: 6 × 2\n",
       "\\begin{tabular}{r|ll}\n",
       "  & sample & t.s\\_ratio\\\\\n",
       "  & <chr> & <dbl>\\\\\n",
       "\\hline\n",
       "\t1 & 2018--BBB-WBO-B21-CV & 0.2003963\\\\\n",
       "\t2 & 2018--WBB-WBV-W69-CV & 0.5762559\\\\\n",
       "\t3 & 2018--BBB-WBV-B70-CV & 0.3363908\\\\\n",
       "\t4 & 2018--BBO-BBO-B16-CV & 0.1450753\\\\\n",
       "\t5 & 2018--WBG-WBG-W44-CV & 0.2864338\\\\\n",
       "\t6 & 2018--BBO-WBO-B16-CV & 0.1998932\\\\\n",
       "\\end{tabular}\n"
      ],
      "text/markdown": [
       "\n",
       "A data.frame: 6 × 2\n",
       "\n",
       "| <!--/--> | sample &lt;chr&gt; | t.s_ratio &lt;dbl&gt; |\n",
       "|---|---|---|\n",
       "| 1 | 2018--BBB-WBO-B21-CV | 0.2003963 |\n",
       "| 2 | 2018--WBB-WBV-W69-CV | 0.5762559 |\n",
       "| 3 | 2018--BBB-WBV-B70-CV | 0.3363908 |\n",
       "| 4 | 2018--BBO-BBO-B16-CV | 0.1450753 |\n",
       "| 5 | 2018--WBG-WBG-W44-CV | 0.2864338 |\n",
       "| 6 | 2018--BBO-WBO-B16-CV | 0.1998932 |\n",
       "\n"
      ],
      "text/plain": [
       "  sample               t.s_ratio\n",
       "1 2018--BBB-WBO-B21-CV 0.2003963\n",
       "2 2018--WBB-WBV-W69-CV 0.5762559\n",
       "3 2018--BBB-WBV-B70-CV 0.3363908\n",
       "4 2018--BBO-BBO-B16-CV 0.1450753\n",
       "5 2018--WBG-WBG-W44-CV 0.2864338\n",
       "6 2018--BBO-WBO-B16-CV 0.1998932"
      ]
     },
     "metadata": {},
     "output_type": "display_data"
    }
   ],
   "source": [
    "meta_ratio <- select(meta3, sample, Tissue.Shell.Growth)\n",
    "\n",
    "colnames(meta_ratio) <- c('sample','t.s_ratio')\n",
    "head(meta_ratio)"
   ]
  },
  {
   "cell_type": "code",
   "execution_count": 12,
   "id": "a7c3b323-c8db-4e7a-a776-8f9dbcd20532",
   "metadata": {},
   "outputs": [
    {
     "data": {
      "text/html": [
       "<table class=\"dataframe\">\n",
       "<caption>A data.frame: 6 × 13</caption>\n",
       "<thead>\n",
       "\t<tr><th></th><th scope=col>sample_ID</th><th scope=col>unique_ID</th><th scope=col>T1_code</th><th scope=col>T2_code</th><th scope=col>ID_code</th><th scope=col>T1_oxygen</th><th scope=col>T1_temp</th><th scope=col>Tank1</th><th scope=col>T2_oxygen</th><th scope=col>T2_temp</th><th scope=col>Tank2</th><th scope=col>Phase1</th><th scope=col>Phase2</th></tr>\n",
       "\t<tr><th></th><th scope=col>&lt;chr&gt;</th><th scope=col>&lt;chr&gt;</th><th scope=col>&lt;chr&gt;</th><th scope=col>&lt;chr&gt;</th><th scope=col>&lt;chr&gt;</th><th scope=col>&lt;chr&gt;</th><th scope=col>&lt;chr&gt;</th><th scope=col>&lt;chr&gt;</th><th scope=col>&lt;chr&gt;</th><th scope=col>&lt;chr&gt;</th><th scope=col>&lt;chr&gt;</th><th scope=col>&lt;chr&gt;</th><th scope=col>&lt;chr&gt;</th></tr>\n",
       "</thead>\n",
       "<tbody>\n",
       "\t<tr><th scope=row>1</th><td>2018--BBB-WBO-B21-CV</td><td>BBB-WBO-B21</td><td>BBB</td><td>WBO</td><td>B21</td><td>hypoxic</td><td>ambient</td><td>B</td><td>normoxic</td><td>ambient</td><td>O</td><td>hypoxic</td><td>control</td></tr>\n",
       "\t<tr><th scope=row>2</th><td>2018--BBB-WBV-B70-CV</td><td>BBB-WBV-B70</td><td>BBB</td><td>WBV</td><td>B70</td><td>hypoxic</td><td>ambient</td><td>B</td><td>normoxic</td><td>ambient</td><td>V</td><td>hypoxic</td><td>control</td></tr>\n",
       "\t<tr><th scope=row>3</th><td>2018--BBO-BBO-B16-CV</td><td>BBO-BBO-B16</td><td>BBO</td><td>BBO</td><td>B16</td><td>hypoxic</td><td>ambient</td><td>O</td><td>hypoxic </td><td>ambient</td><td>O</td><td>hypoxic</td><td>hypoxic</td></tr>\n",
       "\t<tr><th scope=row>4</th><td>2018--BBO-BBY-B27-CV</td><td>BBO-BBY-B27</td><td>BBO</td><td>BBY</td><td>B27</td><td>hypoxic</td><td>ambient</td><td>O</td><td>hypoxic </td><td>ambient</td><td>Y</td><td>hypoxic</td><td>hypoxic</td></tr>\n",
       "\t<tr><th scope=row>5</th><td>2018--BBO-WBO-B16-CV</td><td>BBO-WBO-B16</td><td>BBO</td><td>WBO</td><td>B16</td><td>hypoxic</td><td>ambient</td><td>O</td><td>normoxic</td><td>ambient</td><td>O</td><td>hypoxic</td><td>control</td></tr>\n",
       "\t<tr><th scope=row>6</th><td>2018--BBO-WBV-B64-CV</td><td>BBO-WBV-B64</td><td>BBO</td><td>WBV</td><td>B64</td><td>hypoxic</td><td>ambient</td><td>O</td><td>normoxic</td><td>ambient</td><td>V</td><td>hypoxic</td><td>control</td></tr>\n",
       "</tbody>\n",
       "</table>\n"
      ],
      "text/latex": [
       "A data.frame: 6 × 13\n",
       "\\begin{tabular}{r|lllllllllllll}\n",
       "  & sample\\_ID & unique\\_ID & T1\\_code & T2\\_code & ID\\_code & T1\\_oxygen & T1\\_temp & Tank1 & T2\\_oxygen & T2\\_temp & Tank2 & Phase1 & Phase2\\\\\n",
       "  & <chr> & <chr> & <chr> & <chr> & <chr> & <chr> & <chr> & <chr> & <chr> & <chr> & <chr> & <chr> & <chr>\\\\\n",
       "\\hline\n",
       "\t1 & 2018--BBB-WBO-B21-CV & BBB-WBO-B21 & BBB & WBO & B21 & hypoxic & ambient & B & normoxic & ambient & O & hypoxic & control\\\\\n",
       "\t2 & 2018--BBB-WBV-B70-CV & BBB-WBV-B70 & BBB & WBV & B70 & hypoxic & ambient & B & normoxic & ambient & V & hypoxic & control\\\\\n",
       "\t3 & 2018--BBO-BBO-B16-CV & BBO-BBO-B16 & BBO & BBO & B16 & hypoxic & ambient & O & hypoxic  & ambient & O & hypoxic & hypoxic\\\\\n",
       "\t4 & 2018--BBO-BBY-B27-CV & BBO-BBY-B27 & BBO & BBY & B27 & hypoxic & ambient & O & hypoxic  & ambient & Y & hypoxic & hypoxic\\\\\n",
       "\t5 & 2018--BBO-WBO-B16-CV & BBO-WBO-B16 & BBO & WBO & B16 & hypoxic & ambient & O & normoxic & ambient & O & hypoxic & control\\\\\n",
       "\t6 & 2018--BBO-WBV-B64-CV & BBO-WBV-B64 & BBO & WBV & B64 & hypoxic & ambient & O & normoxic & ambient & V & hypoxic & control\\\\\n",
       "\\end{tabular}\n"
      ],
      "text/markdown": [
       "\n",
       "A data.frame: 6 × 13\n",
       "\n",
       "| <!--/--> | sample_ID &lt;chr&gt; | unique_ID &lt;chr&gt; | T1_code &lt;chr&gt; | T2_code &lt;chr&gt; | ID_code &lt;chr&gt; | T1_oxygen &lt;chr&gt; | T1_temp &lt;chr&gt; | Tank1 &lt;chr&gt; | T2_oxygen &lt;chr&gt; | T2_temp &lt;chr&gt; | Tank2 &lt;chr&gt; | Phase1 &lt;chr&gt; | Phase2 &lt;chr&gt; |\n",
       "|---|---|---|---|---|---|---|---|---|---|---|---|---|---|\n",
       "| 1 | 2018--BBB-WBO-B21-CV | BBB-WBO-B21 | BBB | WBO | B21 | hypoxic | ambient | B | normoxic | ambient | O | hypoxic | control |\n",
       "| 2 | 2018--BBB-WBV-B70-CV | BBB-WBV-B70 | BBB | WBV | B70 | hypoxic | ambient | B | normoxic | ambient | V | hypoxic | control |\n",
       "| 3 | 2018--BBO-BBO-B16-CV | BBO-BBO-B16 | BBO | BBO | B16 | hypoxic | ambient | O | hypoxic  | ambient | O | hypoxic | hypoxic |\n",
       "| 4 | 2018--BBO-BBY-B27-CV | BBO-BBY-B27 | BBO | BBY | B27 | hypoxic | ambient | O | hypoxic  | ambient | Y | hypoxic | hypoxic |\n",
       "| 5 | 2018--BBO-WBO-B16-CV | BBO-WBO-B16 | BBO | WBO | B16 | hypoxic | ambient | O | normoxic | ambient | O | hypoxic | control |\n",
       "| 6 | 2018--BBO-WBV-B64-CV | BBO-WBV-B64 | BBO | WBV | B64 | hypoxic | ambient | O | normoxic | ambient | V | hypoxic | control |\n",
       "\n"
      ],
      "text/plain": [
       "  sample_ID            unique_ID   T1_code T2_code ID_code T1_oxygen T1_temp\n",
       "1 2018--BBB-WBO-B21-CV BBB-WBO-B21 BBB     WBO     B21     hypoxic   ambient\n",
       "2 2018--BBB-WBV-B70-CV BBB-WBV-B70 BBB     WBV     B70     hypoxic   ambient\n",
       "3 2018--BBO-BBO-B16-CV BBO-BBO-B16 BBO     BBO     B16     hypoxic   ambient\n",
       "4 2018--BBO-BBY-B27-CV BBO-BBY-B27 BBO     BBY     B27     hypoxic   ambient\n",
       "5 2018--BBO-WBO-B16-CV BBO-WBO-B16 BBO     WBO     B16     hypoxic   ambient\n",
       "6 2018--BBO-WBV-B64-CV BBO-WBV-B64 BBO     WBV     B64     hypoxic   ambient\n",
       "  Tank1 T2_oxygen T2_temp Tank2 Phase1  Phase2 \n",
       "1 B     normoxic  ambient O     hypoxic control\n",
       "2 B     normoxic  ambient V     hypoxic control\n",
       "3 O     hypoxic   ambient O     hypoxic hypoxic\n",
       "4 O     hypoxic   ambient Y     hypoxic hypoxic\n",
       "5 O     normoxic  ambient O     hypoxic control\n",
       "6 O     normoxic  ambient V     hypoxic control"
      ]
     },
     "metadata": {},
     "output_type": "display_data"
    }
   ],
   "source": [
    "data <- read.csv('/project/pi_sarah_gignouxwolfsohn_uml_edu/julia/CE_MethylRAD_analysis_2018/analysis/counts_and_meta/CV_CE18_meta.csv')\n",
    "head(data)"
   ]
  },
  {
   "cell_type": "code",
   "execution_count": 13,
   "id": "1239cc1a-b69e-4363-a59e-d233c7deee6f",
   "metadata": {},
   "outputs": [
    {
     "data": {
      "text/html": [
       "<style>\n",
       ".list-inline {list-style: none; margin:0; padding: 0}\n",
       ".list-inline>li {display: inline-block}\n",
       ".list-inline>li:not(:last-child)::after {content: \"\\00b7\"; padding: 0 .5ex}\n",
       "</style>\n",
       "<ol class=list-inline><li>'2018--BBB-WBO-B21-CV'</li><li>'2018--WBB-WBV-W69-CV'</li><li>'2018--BBB-WBV-B70-CV'</li><li>'2018--BBO-BBO-B16-CV'</li><li>'2018--WBG-WBG-W44-CV'</li><li>'2018--BBO-WBO-B16-CV'</li><li>'2018--WBO-WBV-W64-CV'</li><li>'2018--BBO-WBV-B64-CV'</li><li>'2018--WBR-BBY-W25-CV'</li><li>'2018--WBV-WBO-W23-CV'</li><li>'2018--WBV-WBR-W12-CV'</li><li>'2018--BBY-WBG-B42-CV'</li><li>'2018--BPO-BPO-O16-CV'</li><li>'2018--WPR-BPY-G25-CV'</li><li>'2018--WBG-BBB-W56-CV'</li><li>'2018--BBO-BBY-B27-CV'</li><li>'2018--WBO-BBR-W03-CV'</li><li>'2018--BBR-BBB-B50-CV'</li><li>'2018--BBR-BBG-B38-CV'</li><li>'2018--BBR-BBY-B26-CV'</li><li>'2018--WBY-BBV-W65-CV'</li><li>'2018--WBY-BBY-W30-CV'</li><li>'2018--WPB-BPG-G45-CV'</li><li>'2018--BPR-BPG-O38-CV'</li><li>'2018--WPO-BPO-G16-CV'</li><li>'2018--BPR-BPR-O02-CV'</li><li>'2018--WPO-BPY-G28-CV'</li><li>'2018--BPY-BPG-O42-CV'</li><li>'2018--BPY-BPY-O29-CV'</li><li>'2018--WPV-BPR-G11-CV'</li></ol>\n"
      ],
      "text/latex": [
       "\\begin{enumerate*}\n",
       "\\item '2018--BBB-WBO-B21-CV'\n",
       "\\item '2018--WBB-WBV-W69-CV'\n",
       "\\item '2018--BBB-WBV-B70-CV'\n",
       "\\item '2018--BBO-BBO-B16-CV'\n",
       "\\item '2018--WBG-WBG-W44-CV'\n",
       "\\item '2018--BBO-WBO-B16-CV'\n",
       "\\item '2018--WBO-WBV-W64-CV'\n",
       "\\item '2018--BBO-WBV-B64-CV'\n",
       "\\item '2018--WBR-BBY-W25-CV'\n",
       "\\item '2018--WBV-WBO-W23-CV'\n",
       "\\item '2018--WBV-WBR-W12-CV'\n",
       "\\item '2018--BBY-WBG-B42-CV'\n",
       "\\item '2018--BPO-BPO-O16-CV'\n",
       "\\item '2018--WPR-BPY-G25-CV'\n",
       "\\item '2018--WBG-BBB-W56-CV'\n",
       "\\item '2018--BBO-BBY-B27-CV'\n",
       "\\item '2018--WBO-BBR-W03-CV'\n",
       "\\item '2018--BBR-BBB-B50-CV'\n",
       "\\item '2018--BBR-BBG-B38-CV'\n",
       "\\item '2018--BBR-BBY-B26-CV'\n",
       "\\item '2018--WBY-BBV-W65-CV'\n",
       "\\item '2018--WBY-BBY-W30-CV'\n",
       "\\item '2018--WPB-BPG-G45-CV'\n",
       "\\item '2018--BPR-BPG-O38-CV'\n",
       "\\item '2018--WPO-BPO-G16-CV'\n",
       "\\item '2018--BPR-BPR-O02-CV'\n",
       "\\item '2018--WPO-BPY-G28-CV'\n",
       "\\item '2018--BPY-BPG-O42-CV'\n",
       "\\item '2018--BPY-BPY-O29-CV'\n",
       "\\item '2018--WPV-BPR-G11-CV'\n",
       "\\end{enumerate*}\n"
      ],
      "text/markdown": [
       "1. '2018--BBB-WBO-B21-CV'\n",
       "2. '2018--WBB-WBV-W69-CV'\n",
       "3. '2018--BBB-WBV-B70-CV'\n",
       "4. '2018--BBO-BBO-B16-CV'\n",
       "5. '2018--WBG-WBG-W44-CV'\n",
       "6. '2018--BBO-WBO-B16-CV'\n",
       "7. '2018--WBO-WBV-W64-CV'\n",
       "8. '2018--BBO-WBV-B64-CV'\n",
       "9. '2018--WBR-BBY-W25-CV'\n",
       "10. '2018--WBV-WBO-W23-CV'\n",
       "11. '2018--WBV-WBR-W12-CV'\n",
       "12. '2018--BBY-WBG-B42-CV'\n",
       "13. '2018--BPO-BPO-O16-CV'\n",
       "14. '2018--WPR-BPY-G25-CV'\n",
       "15. '2018--WBG-BBB-W56-CV'\n",
       "16. '2018--BBO-BBY-B27-CV'\n",
       "17. '2018--WBO-BBR-W03-CV'\n",
       "18. '2018--BBR-BBB-B50-CV'\n",
       "19. '2018--BBR-BBG-B38-CV'\n",
       "20. '2018--BBR-BBY-B26-CV'\n",
       "21. '2018--WBY-BBV-W65-CV'\n",
       "22. '2018--WBY-BBY-W30-CV'\n",
       "23. '2018--WPB-BPG-G45-CV'\n",
       "24. '2018--BPR-BPG-O38-CV'\n",
       "25. '2018--WPO-BPO-G16-CV'\n",
       "26. '2018--BPR-BPR-O02-CV'\n",
       "27. '2018--WPO-BPY-G28-CV'\n",
       "28. '2018--BPY-BPG-O42-CV'\n",
       "29. '2018--BPY-BPY-O29-CV'\n",
       "30. '2018--WPV-BPR-G11-CV'\n",
       "\n",
       "\n"
      ],
      "text/plain": [
       " [1] \"2018--BBB-WBO-B21-CV\" \"2018--WBB-WBV-W69-CV\" \"2018--BBB-WBV-B70-CV\"\n",
       " [4] \"2018--BBO-BBO-B16-CV\" \"2018--WBG-WBG-W44-CV\" \"2018--BBO-WBO-B16-CV\"\n",
       " [7] \"2018--WBO-WBV-W64-CV\" \"2018--BBO-WBV-B64-CV\" \"2018--WBR-BBY-W25-CV\"\n",
       "[10] \"2018--WBV-WBO-W23-CV\" \"2018--WBV-WBR-W12-CV\" \"2018--BBY-WBG-B42-CV\"\n",
       "[13] \"2018--BPO-BPO-O16-CV\" \"2018--WPR-BPY-G25-CV\" \"2018--WBG-BBB-W56-CV\"\n",
       "[16] \"2018--BBO-BBY-B27-CV\" \"2018--WBO-BBR-W03-CV\" \"2018--BBR-BBB-B50-CV\"\n",
       "[19] \"2018--BBR-BBG-B38-CV\" \"2018--BBR-BBY-B26-CV\" \"2018--WBY-BBV-W65-CV\"\n",
       "[22] \"2018--WBY-BBY-W30-CV\" \"2018--WPB-BPG-G45-CV\" \"2018--BPR-BPG-O38-CV\"\n",
       "[25] \"2018--WPO-BPO-G16-CV\" \"2018--BPR-BPR-O02-CV\" \"2018--WPO-BPY-G28-CV\"\n",
       "[28] \"2018--BPY-BPG-O42-CV\" \"2018--BPY-BPY-O29-CV\" \"2018--WPV-BPR-G11-CV\""
      ]
     },
     "metadata": {},
     "output_type": "display_data"
    },
    {
     "data": {
      "text/html": [
       "<style>\n",
       ".list-inline {list-style: none; margin:0; padding: 0}\n",
       ".list-inline>li {display: inline-block}\n",
       ".list-inline>li:not(:last-child)::after {content: \"\\00b7\"; padding: 0 .5ex}\n",
       "</style>\n",
       "<ol class=list-inline><li>'BBB-WBO-B21'</li><li>'BBB-WBV-B70'</li><li>'BBO-BBO-B16'</li><li>'BBO-BBY-B27'</li><li>'BBO-WBO-B16'</li><li>'BBO-WBV-B64'</li><li>'BBR-BBB-B50'</li><li>'BBR-BBG-B38'</li><li>'BBR-BBY-B26'</li><li>'BBY-WBG-B42'</li><li>'BPO-BPO-O16'</li><li>'BPR-BPG-O38'</li><li>'BPR-BPR-O02'</li><li>'BPY-BPG-O42'</li><li>'BPY-BPY-O29'</li><li>'WBB-WBV-W69'</li><li>'WBG-BBB-W56'</li><li>'WBG-WBG-W44'</li><li>'WBO-BBR-W03'</li><li>'WBO-WBV-W64'</li><li>'WBR-BBY-W25'</li><li>'WBV-WBO-W23'</li><li>'WBV-WBR-W12'</li><li>'WBY-BBV-W65'</li><li>'WBY-BBY-W30'</li><li>'WPB-BPG-G45'</li><li>'WPO-BPO-G16'</li><li>'WPO-BPY-G28'</li><li>'WPR-BPY-G25'</li><li>'WPV-BPR-G11'</li></ol>\n"
      ],
      "text/latex": [
       "\\begin{enumerate*}\n",
       "\\item 'BBB-WBO-B21'\n",
       "\\item 'BBB-WBV-B70'\n",
       "\\item 'BBO-BBO-B16'\n",
       "\\item 'BBO-BBY-B27'\n",
       "\\item 'BBO-WBO-B16'\n",
       "\\item 'BBO-WBV-B64'\n",
       "\\item 'BBR-BBB-B50'\n",
       "\\item 'BBR-BBG-B38'\n",
       "\\item 'BBR-BBY-B26'\n",
       "\\item 'BBY-WBG-B42'\n",
       "\\item 'BPO-BPO-O16'\n",
       "\\item 'BPR-BPG-O38'\n",
       "\\item 'BPR-BPR-O02'\n",
       "\\item 'BPY-BPG-O42'\n",
       "\\item 'BPY-BPY-O29'\n",
       "\\item 'WBB-WBV-W69'\n",
       "\\item 'WBG-BBB-W56'\n",
       "\\item 'WBG-WBG-W44'\n",
       "\\item 'WBO-BBR-W03'\n",
       "\\item 'WBO-WBV-W64'\n",
       "\\item 'WBR-BBY-W25'\n",
       "\\item 'WBV-WBO-W23'\n",
       "\\item 'WBV-WBR-W12'\n",
       "\\item 'WBY-BBV-W65'\n",
       "\\item 'WBY-BBY-W30'\n",
       "\\item 'WPB-BPG-G45'\n",
       "\\item 'WPO-BPO-G16'\n",
       "\\item 'WPO-BPY-G28'\n",
       "\\item 'WPR-BPY-G25'\n",
       "\\item 'WPV-BPR-G11'\n",
       "\\end{enumerate*}\n"
      ],
      "text/markdown": [
       "1. 'BBB-WBO-B21'\n",
       "2. 'BBB-WBV-B70'\n",
       "3. 'BBO-BBO-B16'\n",
       "4. 'BBO-BBY-B27'\n",
       "5. 'BBO-WBO-B16'\n",
       "6. 'BBO-WBV-B64'\n",
       "7. 'BBR-BBB-B50'\n",
       "8. 'BBR-BBG-B38'\n",
       "9. 'BBR-BBY-B26'\n",
       "10. 'BBY-WBG-B42'\n",
       "11. 'BPO-BPO-O16'\n",
       "12. 'BPR-BPG-O38'\n",
       "13. 'BPR-BPR-O02'\n",
       "14. 'BPY-BPG-O42'\n",
       "15. 'BPY-BPY-O29'\n",
       "16. 'WBB-WBV-W69'\n",
       "17. 'WBG-BBB-W56'\n",
       "18. 'WBG-WBG-W44'\n",
       "19. 'WBO-BBR-W03'\n",
       "20. 'WBO-WBV-W64'\n",
       "21. 'WBR-BBY-W25'\n",
       "22. 'WBV-WBO-W23'\n",
       "23. 'WBV-WBR-W12'\n",
       "24. 'WBY-BBV-W65'\n",
       "25. 'WBY-BBY-W30'\n",
       "26. 'WPB-BPG-G45'\n",
       "27. 'WPO-BPO-G16'\n",
       "28. 'WPO-BPY-G28'\n",
       "29. 'WPR-BPY-G25'\n",
       "30. 'WPV-BPR-G11'\n",
       "\n",
       "\n"
      ],
      "text/plain": [
       " [1] \"BBB-WBO-B21\" \"BBB-WBV-B70\" \"BBO-BBO-B16\" \"BBO-BBY-B27\" \"BBO-WBO-B16\"\n",
       " [6] \"BBO-WBV-B64\" \"BBR-BBB-B50\" \"BBR-BBG-B38\" \"BBR-BBY-B26\" \"BBY-WBG-B42\"\n",
       "[11] \"BPO-BPO-O16\" \"BPR-BPG-O38\" \"BPR-BPR-O02\" \"BPY-BPG-O42\" \"BPY-BPY-O29\"\n",
       "[16] \"WBB-WBV-W69\" \"WBG-BBB-W56\" \"WBG-WBG-W44\" \"WBO-BBR-W03\" \"WBO-WBV-W64\"\n",
       "[21] \"WBR-BBY-W25\" \"WBV-WBO-W23\" \"WBV-WBR-W12\" \"WBY-BBV-W65\" \"WBY-BBY-W30\"\n",
       "[26] \"WPB-BPG-G45\" \"WPO-BPO-G16\" \"WPO-BPY-G28\" \"WPR-BPY-G25\" \"WPV-BPR-G11\""
      ]
     },
     "metadata": {},
     "output_type": "display_data"
    }
   ],
   "source": [
    "meta_ratio$sample\n",
    "data$unique_ID"
   ]
  },
  {
   "cell_type": "code",
   "execution_count": 15,
   "id": "0a20d758-55d7-4f3a-b9df-961ec94a4bc9",
   "metadata": {},
   "outputs": [
    {
     "data": {
      "text/html": [
       "<style>\n",
       ".list-inline {list-style: none; margin:0; padding: 0}\n",
       ".list-inline>li {display: inline-block}\n",
       ".list-inline>li:not(:last-child)::after {content: \"\\00b7\"; padding: 0 .5ex}\n",
       "</style>\n",
       "<ol class=list-inline><li>'BBB-WBO-B21'</li><li>'WBB-WBV-W69'</li><li>'BBB-WBV-B70'</li><li>'BBO-BBO-B16'</li><li>'WBG-WBG-W44'</li><li>'BBO-WBO-B16'</li></ol>\n"
      ],
      "text/latex": [
       "\\begin{enumerate*}\n",
       "\\item 'BBB-WBO-B21'\n",
       "\\item 'WBB-WBV-W69'\n",
       "\\item 'BBB-WBV-B70'\n",
       "\\item 'BBO-BBO-B16'\n",
       "\\item 'WBG-WBG-W44'\n",
       "\\item 'BBO-WBO-B16'\n",
       "\\end{enumerate*}\n"
      ],
      "text/markdown": [
       "1. 'BBB-WBO-B21'\n",
       "2. 'WBB-WBV-W69'\n",
       "3. 'BBB-WBV-B70'\n",
       "4. 'BBO-BBO-B16'\n",
       "5. 'WBG-WBG-W44'\n",
       "6. 'BBO-WBO-B16'\n",
       "\n",
       "\n"
      ],
      "text/plain": [
       "[1] \"BBB-WBO-B21\" \"WBB-WBV-W69\" \"BBB-WBV-B70\" \"BBO-BBO-B16\" \"WBG-WBG-W44\"\n",
       "[6] \"BBO-WBO-B16\""
      ]
     },
     "metadata": {},
     "output_type": "display_data"
    },
    {
     "data": {
      "text/html": [
       "<table class=\"dataframe\">\n",
       "<caption>A data.frame: 6 × 2</caption>\n",
       "<thead>\n",
       "\t<tr><th></th><th scope=col>sample</th><th scope=col>t.s_ratio</th></tr>\n",
       "\t<tr><th></th><th scope=col>&lt;chr&gt;</th><th scope=col>&lt;dbl&gt;</th></tr>\n",
       "</thead>\n",
       "<tbody>\n",
       "\t<tr><th scope=row>1</th><td>BBB-WBO-B21</td><td>0.2003963</td></tr>\n",
       "\t<tr><th scope=row>2</th><td>WBB-WBV-W69</td><td>0.5762559</td></tr>\n",
       "\t<tr><th scope=row>3</th><td>BBB-WBV-B70</td><td>0.3363908</td></tr>\n",
       "\t<tr><th scope=row>4</th><td>BBO-BBO-B16</td><td>0.1450753</td></tr>\n",
       "\t<tr><th scope=row>5</th><td>WBG-WBG-W44</td><td>0.2864338</td></tr>\n",
       "\t<tr><th scope=row>6</th><td>BBO-WBO-B16</td><td>0.1998932</td></tr>\n",
       "</tbody>\n",
       "</table>\n"
      ],
      "text/latex": [
       "A data.frame: 6 × 2\n",
       "\\begin{tabular}{r|ll}\n",
       "  & sample & t.s\\_ratio\\\\\n",
       "  & <chr> & <dbl>\\\\\n",
       "\\hline\n",
       "\t1 & BBB-WBO-B21 & 0.2003963\\\\\n",
       "\t2 & WBB-WBV-W69 & 0.5762559\\\\\n",
       "\t3 & BBB-WBV-B70 & 0.3363908\\\\\n",
       "\t4 & BBO-BBO-B16 & 0.1450753\\\\\n",
       "\t5 & WBG-WBG-W44 & 0.2864338\\\\\n",
       "\t6 & BBO-WBO-B16 & 0.1998932\\\\\n",
       "\\end{tabular}\n"
      ],
      "text/markdown": [
       "\n",
       "A data.frame: 6 × 2\n",
       "\n",
       "| <!--/--> | sample &lt;chr&gt; | t.s_ratio &lt;dbl&gt; |\n",
       "|---|---|---|\n",
       "| 1 | BBB-WBO-B21 | 0.2003963 |\n",
       "| 2 | WBB-WBV-W69 | 0.5762559 |\n",
       "| 3 | BBB-WBV-B70 | 0.3363908 |\n",
       "| 4 | BBO-BBO-B16 | 0.1450753 |\n",
       "| 5 | WBG-WBG-W44 | 0.2864338 |\n",
       "| 6 | BBO-WBO-B16 | 0.1998932 |\n",
       "\n"
      ],
      "text/plain": [
       "  sample      t.s_ratio\n",
       "1 BBB-WBO-B21 0.2003963\n",
       "2 WBB-WBV-W69 0.5762559\n",
       "3 BBB-WBV-B70 0.3363908\n",
       "4 BBO-BBO-B16 0.1450753\n",
       "5 WBG-WBG-W44 0.2864338\n",
       "6 BBO-WBO-B16 0.1998932"
      ]
     },
     "metadata": {},
     "output_type": "display_data"
    }
   ],
   "source": [
    "cleaned_col_names <- sub('^2018--(.+)-CV$', '\\\\1', meta_ratio$sample)\n",
    "head(cleaned_col_names)\n",
    "\n",
    "meta_ratio$sample <- cleaned_col_names\n",
    "head(meta_ratio)"
   ]
  },
  {
   "cell_type": "code",
   "execution_count": 18,
   "id": "e1378704-5911-4a87-b213-528f346748c5",
   "metadata": {},
   "outputs": [
    {
     "data": {
      "text/html": [
       "<table class=\"dataframe\">\n",
       "<caption>A data.frame: 6 × 1</caption>\n",
       "<thead>\n",
       "\t<tr><th></th><th scope=col>t.s_ratio</th></tr>\n",
       "\t<tr><th></th><th scope=col>&lt;dbl&gt;</th></tr>\n",
       "</thead>\n",
       "<tbody>\n",
       "\t<tr><th scope=row>BBB-WBO-B21</th><td>0.2003963</td></tr>\n",
       "\t<tr><th scope=row>WBB-WBV-W69</th><td>0.5762559</td></tr>\n",
       "\t<tr><th scope=row>BBB-WBV-B70</th><td>0.3363908</td></tr>\n",
       "\t<tr><th scope=row>BBO-BBO-B16</th><td>0.1450753</td></tr>\n",
       "\t<tr><th scope=row>WBG-WBG-W44</th><td>0.2864338</td></tr>\n",
       "\t<tr><th scope=row>BBO-WBO-B16</th><td>0.1998932</td></tr>\n",
       "</tbody>\n",
       "</table>\n"
      ],
      "text/latex": [
       "A data.frame: 6 × 1\n",
       "\\begin{tabular}{r|l}\n",
       "  & t.s\\_ratio\\\\\n",
       "  & <dbl>\\\\\n",
       "\\hline\n",
       "\tBBB-WBO-B21 & 0.2003963\\\\\n",
       "\tWBB-WBV-W69 & 0.5762559\\\\\n",
       "\tBBB-WBV-B70 & 0.3363908\\\\\n",
       "\tBBO-BBO-B16 & 0.1450753\\\\\n",
       "\tWBG-WBG-W44 & 0.2864338\\\\\n",
       "\tBBO-WBO-B16 & 0.1998932\\\\\n",
       "\\end{tabular}\n"
      ],
      "text/markdown": [
       "\n",
       "A data.frame: 6 × 1\n",
       "\n",
       "| <!--/--> | t.s_ratio &lt;dbl&gt; |\n",
       "|---|---|\n",
       "| BBB-WBO-B21 | 0.2003963 |\n",
       "| WBB-WBV-W69 | 0.5762559 |\n",
       "| BBB-WBV-B70 | 0.3363908 |\n",
       "| BBO-BBO-B16 | 0.1450753 |\n",
       "| WBG-WBG-W44 | 0.2864338 |\n",
       "| BBO-WBO-B16 | 0.1998932 |\n",
       "\n"
      ],
      "text/plain": [
       "            t.s_ratio\n",
       "BBB-WBO-B21 0.2003963\n",
       "WBB-WBV-W69 0.5762559\n",
       "BBB-WBV-B70 0.3363908\n",
       "BBO-BBO-B16 0.1450753\n",
       "WBG-WBG-W44 0.2864338\n",
       "BBO-WBO-B16 0.1998932"
      ]
     },
     "metadata": {},
     "output_type": "display_data"
    }
   ],
   "source": [
    "rownames(meta_ratio) <- meta_ratio$sample\n",
    "meta_ratio <- select(meta_ratio, t.s_ratio)\n",
    "head(meta_ratio)"
   ]
  },
  {
   "cell_type": "code",
   "execution_count": 21,
   "id": "acd05bc6-cbdd-4f0c-94ff-63de71c0f31c",
   "metadata": {},
   "outputs": [
    {
     "data": {
      "text/html": [
       "<table class=\"dataframe\">\n",
       "<caption>A data.frame: 6 × 2</caption>\n",
       "<thead>\n",
       "\t<tr><th></th><th scope=col>Phase1</th><th scope=col>Phase2</th></tr>\n",
       "\t<tr><th></th><th scope=col>&lt;chr&gt;</th><th scope=col>&lt;chr&gt;</th></tr>\n",
       "</thead>\n",
       "<tbody>\n",
       "\t<tr><th scope=row>BBB-WBO-B21</th><td>hypoxic</td><td>control</td></tr>\n",
       "\t<tr><th scope=row>BBB-WBV-B70</th><td>hypoxic</td><td>control</td></tr>\n",
       "\t<tr><th scope=row>BBO-BBO-B16</th><td>hypoxic</td><td>hypoxic</td></tr>\n",
       "\t<tr><th scope=row>BBO-BBY-B27</th><td>hypoxic</td><td>hypoxic</td></tr>\n",
       "\t<tr><th scope=row>BBO-WBO-B16</th><td>hypoxic</td><td>control</td></tr>\n",
       "\t<tr><th scope=row>BBO-WBV-B64</th><td>hypoxic</td><td>control</td></tr>\n",
       "</tbody>\n",
       "</table>\n"
      ],
      "text/latex": [
       "A data.frame: 6 × 2\n",
       "\\begin{tabular}{r|ll}\n",
       "  & Phase1 & Phase2\\\\\n",
       "  & <chr> & <chr>\\\\\n",
       "\\hline\n",
       "\tBBB-WBO-B21 & hypoxic & control\\\\\n",
       "\tBBB-WBV-B70 & hypoxic & control\\\\\n",
       "\tBBO-BBO-B16 & hypoxic & hypoxic\\\\\n",
       "\tBBO-BBY-B27 & hypoxic & hypoxic\\\\\n",
       "\tBBO-WBO-B16 & hypoxic & control\\\\\n",
       "\tBBO-WBV-B64 & hypoxic & control\\\\\n",
       "\\end{tabular}\n"
      ],
      "text/markdown": [
       "\n",
       "A data.frame: 6 × 2\n",
       "\n",
       "| <!--/--> | Phase1 &lt;chr&gt; | Phase2 &lt;chr&gt; |\n",
       "|---|---|---|\n",
       "| BBB-WBO-B21 | hypoxic | control |\n",
       "| BBB-WBV-B70 | hypoxic | control |\n",
       "| BBO-BBO-B16 | hypoxic | hypoxic |\n",
       "| BBO-BBY-B27 | hypoxic | hypoxic |\n",
       "| BBO-WBO-B16 | hypoxic | control |\n",
       "| BBO-WBV-B64 | hypoxic | control |\n",
       "\n"
      ],
      "text/plain": [
       "            Phase1  Phase2 \n",
       "BBB-WBO-B21 hypoxic control\n",
       "BBB-WBV-B70 hypoxic control\n",
       "BBO-BBO-B16 hypoxic hypoxic\n",
       "BBO-BBY-B27 hypoxic hypoxic\n",
       "BBO-WBO-B16 hypoxic control\n",
       "BBO-WBV-B64 hypoxic control"
      ]
     },
     "metadata": {},
     "output_type": "display_data"
    }
   ],
   "source": [
    "rownames(data) <- data$unique_ID\n",
    "\n",
    "data2 <- select(data, Phase1, Phase2)\n",
    "\n",
    "head(data2)"
   ]
  },
  {
   "cell_type": "code",
   "execution_count": 22,
   "id": "69cba01a-f325-4db7-828f-7cc59fd1023e",
   "metadata": {},
   "outputs": [],
   "source": [
    "meta_ratio$samples <- rownames(meta_ratio)\n",
    "data2$samples <- rownames(data2)"
   ]
  },
  {
   "cell_type": "code",
   "execution_count": 25,
   "id": "203673a2-c815-4ba0-a40a-e89bf484f579",
   "metadata": {},
   "outputs": [
    {
     "data": {
      "text/html": [
       "<table class=\"dataframe\">\n",
       "<caption>A data.frame: 6 × 4</caption>\n",
       "<thead>\n",
       "\t<tr><th></th><th scope=col>samples</th><th scope=col>t.s_ratio</th><th scope=col>Phase1</th><th scope=col>Phase2</th></tr>\n",
       "\t<tr><th></th><th scope=col>&lt;chr&gt;</th><th scope=col>&lt;dbl&gt;</th><th scope=col>&lt;chr&gt;</th><th scope=col>&lt;chr&gt;</th></tr>\n",
       "</thead>\n",
       "<tbody>\n",
       "\t<tr><th scope=row>1</th><td>BBB-WBO-B21</td><td>0.2003963</td><td>hypoxic</td><td>control</td></tr>\n",
       "\t<tr><th scope=row>2</th><td>BBB-WBV-B70</td><td>0.3363908</td><td>hypoxic</td><td>control</td></tr>\n",
       "\t<tr><th scope=row>3</th><td>BBO-BBO-B16</td><td>0.1450753</td><td>hypoxic</td><td>hypoxic</td></tr>\n",
       "\t<tr><th scope=row>4</th><td>BBO-BBY-B27</td><td>0.4422550</td><td>hypoxic</td><td>hypoxic</td></tr>\n",
       "\t<tr><th scope=row>5</th><td>BBO-WBO-B16</td><td>0.1998932</td><td>hypoxic</td><td>control</td></tr>\n",
       "\t<tr><th scope=row>6</th><td>BBO-WBV-B64</td><td>0.4180511</td><td>hypoxic</td><td>control</td></tr>\n",
       "</tbody>\n",
       "</table>\n"
      ],
      "text/latex": [
       "A data.frame: 6 × 4\n",
       "\\begin{tabular}{r|llll}\n",
       "  & samples & t.s\\_ratio & Phase1 & Phase2\\\\\n",
       "  & <chr> & <dbl> & <chr> & <chr>\\\\\n",
       "\\hline\n",
       "\t1 & BBB-WBO-B21 & 0.2003963 & hypoxic & control\\\\\n",
       "\t2 & BBB-WBV-B70 & 0.3363908 & hypoxic & control\\\\\n",
       "\t3 & BBO-BBO-B16 & 0.1450753 & hypoxic & hypoxic\\\\\n",
       "\t4 & BBO-BBY-B27 & 0.4422550 & hypoxic & hypoxic\\\\\n",
       "\t5 & BBO-WBO-B16 & 0.1998932 & hypoxic & control\\\\\n",
       "\t6 & BBO-WBV-B64 & 0.4180511 & hypoxic & control\\\\\n",
       "\\end{tabular}\n"
      ],
      "text/markdown": [
       "\n",
       "A data.frame: 6 × 4\n",
       "\n",
       "| <!--/--> | samples &lt;chr&gt; | t.s_ratio &lt;dbl&gt; | Phase1 &lt;chr&gt; | Phase2 &lt;chr&gt; |\n",
       "|---|---|---|---|---|\n",
       "| 1 | BBB-WBO-B21 | 0.2003963 | hypoxic | control |\n",
       "| 2 | BBB-WBV-B70 | 0.3363908 | hypoxic | control |\n",
       "| 3 | BBO-BBO-B16 | 0.1450753 | hypoxic | hypoxic |\n",
       "| 4 | BBO-BBY-B27 | 0.4422550 | hypoxic | hypoxic |\n",
       "| 5 | BBO-WBO-B16 | 0.1998932 | hypoxic | control |\n",
       "| 6 | BBO-WBV-B64 | 0.4180511 | hypoxic | control |\n",
       "\n"
      ],
      "text/plain": [
       "  samples     t.s_ratio Phase1  Phase2 \n",
       "1 BBB-WBO-B21 0.2003963 hypoxic control\n",
       "2 BBB-WBV-B70 0.3363908 hypoxic control\n",
       "3 BBO-BBO-B16 0.1450753 hypoxic hypoxic\n",
       "4 BBO-BBY-B27 0.4422550 hypoxic hypoxic\n",
       "5 BBO-WBO-B16 0.1998932 hypoxic control\n",
       "6 BBO-WBV-B64 0.4180511 hypoxic control"
      ]
     },
     "metadata": {},
     "output_type": "display_data"
    }
   ],
   "source": [
    "merge_df <- merge(meta_ratio, data2, by='samples')\n",
    "head(merge_df)"
   ]
  },
  {
   "cell_type": "code",
   "execution_count": 28,
   "id": "2ada3c14-8056-4f53-8d55-239ecac97f9b",
   "metadata": {},
   "outputs": [
    {
     "data": {
      "text/html": [
       "<style>\n",
       ".list-inline {list-style: none; margin:0; padding: 0}\n",
       ".list-inline>li {display: inline-block}\n",
       ".list-inline>li:not(:last-child)::after {content: \"\\00b7\"; padding: 0 .5ex}\n",
       "</style>\n",
       "<ol class=list-inline><li>0.20039633</li><li>0.33639083</li><li>0.14507528</li><li>0.44225496</li><li>0.19989316</li><li>0.41805108</li><li>0.26192917</li><li>0.30028427</li><li>0.43439283</li><li>0.06205044</li></ol>\n"
      ],
      "text/latex": [
       "\\begin{enumerate*}\n",
       "\\item 0.20039633\n",
       "\\item 0.33639083\n",
       "\\item 0.14507528\n",
       "\\item 0.44225496\n",
       "\\item 0.19989316\n",
       "\\item 0.41805108\n",
       "\\item 0.26192917\n",
       "\\item 0.30028427\n",
       "\\item 0.43439283\n",
       "\\item 0.06205044\n",
       "\\end{enumerate*}\n"
      ],
      "text/markdown": [
       "1. 0.20039633\n",
       "2. 0.33639083\n",
       "3. 0.14507528\n",
       "4. 0.44225496\n",
       "5. 0.19989316\n",
       "6. 0.41805108\n",
       "7. 0.26192917\n",
       "8. 0.30028427\n",
       "9. 0.43439283\n",
       "10. 0.06205044\n",
       "\n",
       "\n"
      ],
      "text/plain": [
       " [1] 0.20039633 0.33639083 0.14507528 0.44225496 0.19989316 0.41805108\n",
       " [7] 0.26192917 0.30028427 0.43439283 0.06205044"
      ]
     },
     "metadata": {},
     "output_type": "display_data"
    },
    {
     "data": {
      "text/html": [
       "<table class=\"dataframe\">\n",
       "<caption>A data.frame: 6 × 4</caption>\n",
       "<thead>\n",
       "\t<tr><th></th><th scope=col>samples</th><th scope=col>t.s_ratio</th><th scope=col>Phase1</th><th scope=col>Phase2</th></tr>\n",
       "\t<tr><th></th><th scope=col>&lt;chr&gt;</th><th scope=col>&lt;dbl&gt;</th><th scope=col>&lt;chr&gt;</th><th scope=col>&lt;chr&gt;</th></tr>\n",
       "</thead>\n",
       "<tbody>\n",
       "\t<tr><th scope=row>1</th><td>BBB-WBO-B21</td><td>0.2003963</td><td>hypoxic</td><td>control</td></tr>\n",
       "\t<tr><th scope=row>2</th><td>BBB-WBV-B70</td><td>0.3363908</td><td>hypoxic</td><td>control</td></tr>\n",
       "\t<tr><th scope=row>3</th><td>BBO-BBO-B16</td><td>0.1450753</td><td>hypoxic</td><td>hypoxic</td></tr>\n",
       "\t<tr><th scope=row>4</th><td>BBO-BBY-B27</td><td>0.4422550</td><td>hypoxic</td><td>hypoxic</td></tr>\n",
       "\t<tr><th scope=row>5</th><td>BBO-WBO-B16</td><td>0.1998932</td><td>hypoxic</td><td>control</td></tr>\n",
       "\t<tr><th scope=row>6</th><td>BBO-WBV-B64</td><td>0.4180511</td><td>hypoxic</td><td>control</td></tr>\n",
       "</tbody>\n",
       "</table>\n"
      ],
      "text/latex": [
       "A data.frame: 6 × 4\n",
       "\\begin{tabular}{r|llll}\n",
       "  & samples & t.s\\_ratio & Phase1 & Phase2\\\\\n",
       "  & <chr> & <dbl> & <chr> & <chr>\\\\\n",
       "\\hline\n",
       "\t1 & BBB-WBO-B21 & 0.2003963 & hypoxic & control\\\\\n",
       "\t2 & BBB-WBV-B70 & 0.3363908 & hypoxic & control\\\\\n",
       "\t3 & BBO-BBO-B16 & 0.1450753 & hypoxic & hypoxic\\\\\n",
       "\t4 & BBO-BBY-B27 & 0.4422550 & hypoxic & hypoxic\\\\\n",
       "\t5 & BBO-WBO-B16 & 0.1998932 & hypoxic & control\\\\\n",
       "\t6 & BBO-WBV-B64 & 0.4180511 & hypoxic & control\\\\\n",
       "\\end{tabular}\n"
      ],
      "text/markdown": [
       "\n",
       "A data.frame: 6 × 4\n",
       "\n",
       "| <!--/--> | samples &lt;chr&gt; | t.s_ratio &lt;dbl&gt; | Phase1 &lt;chr&gt; | Phase2 &lt;chr&gt; |\n",
       "|---|---|---|---|---|\n",
       "| 1 | BBB-WBO-B21 | 0.2003963 | hypoxic | control |\n",
       "| 2 | BBB-WBV-B70 | 0.3363908 | hypoxic | control |\n",
       "| 3 | BBO-BBO-B16 | 0.1450753 | hypoxic | hypoxic |\n",
       "| 4 | BBO-BBY-B27 | 0.4422550 | hypoxic | hypoxic |\n",
       "| 5 | BBO-WBO-B16 | 0.1998932 | hypoxic | control |\n",
       "| 6 | BBO-WBV-B64 | 0.4180511 | hypoxic | control |\n",
       "\n"
      ],
      "text/plain": [
       "  samples     t.s_ratio Phase1  Phase2 \n",
       "1 BBB-WBO-B21 0.2003963 hypoxic control\n",
       "2 BBB-WBV-B70 0.3363908 hypoxic control\n",
       "3 BBO-BBO-B16 0.1450753 hypoxic hypoxic\n",
       "4 BBO-BBY-B27 0.4422550 hypoxic hypoxic\n",
       "5 BBO-WBO-B16 0.1998932 hypoxic control\n",
       "6 BBO-WBV-B64 0.4180511 hypoxic control"
      ]
     },
     "metadata": {},
     "output_type": "display_data"
    }
   ],
   "source": [
    "phase1_hypoxic <- filter(merge_df, merge_df$Phase1 == 'hypoxic')\n",
    "as.numeric(phase1_hypoxic$t.s_ratio)\n",
    "head(phase1_hypoxic)"
   ]
  },
  {
   "cell_type": "code",
   "execution_count": 43,
   "id": "433f3fe9-1fb4-4e7b-bcb5-31746009b4df",
   "metadata": {},
   "outputs": [
    {
     "data": {
      "image/png": "[encoded data removed]",
      "text/plain": [
       "plot without title"
      ]
     },
     "metadata": {
      "image/png": {
       "height": 420,
       "width": 420
      }
     },
     "output_type": "display_data"
    }
   ],
   "source": [
    "# barplot of T:S when samples were phase 1 hypoxic\n",
    "ggplot(phase1_hypoxic) +\n",
    "aes(x = Phase2, y = t.s_ratio, fill = Phase2) +\n",
    "geom_boxplot() + \n",
    "scale_fill_manual(values=c(\"#000066\", \"#FF6666\")) +\n",
    "theme_minimal() +\n",
    "labs(title = 'Tissue:Shell Ratio', subtitle = 'When hypoxic for phase 1', \n",
    "     x = 'Phase 2 Treatment', y = 'Tissue:Shell Ratio')"
   ]
  },
  {
   "cell_type": "code",
   "execution_count": 44,
   "id": "1f325527-3994-4eb8-a9be-c800ca288d63",
   "metadata": {},
   "outputs": [
    {
     "data": {
      "text/html": [
       "<table class=\"dataframe\">\n",
       "<caption>A data.frame: 6 × 4</caption>\n",
       "<thead>\n",
       "\t<tr><th></th><th scope=col>samples</th><th scope=col>t.s_ratio</th><th scope=col>Phase1</th><th scope=col>Phase2</th></tr>\n",
       "\t<tr><th></th><th scope=col>&lt;chr&gt;</th><th scope=col>&lt;dbl&gt;</th><th scope=col>&lt;chr&gt;</th><th scope=col>&lt;chr&gt;</th></tr>\n",
       "</thead>\n",
       "<tbody>\n",
       "\t<tr><th scope=row>1</th><td>WBB-WBV-W69</td><td>0.5762559</td><td>control</td><td>control</td></tr>\n",
       "\t<tr><th scope=row>2</th><td>WBG-BBB-W56</td><td>0.5746725</td><td>control</td><td>hypoxic</td></tr>\n",
       "\t<tr><th scope=row>3</th><td>WBG-WBG-W44</td><td>0.2864338</td><td>control</td><td>control</td></tr>\n",
       "\t<tr><th scope=row>4</th><td>WBO-BBR-W03</td><td>0.4874679</td><td>control</td><td>hypoxic</td></tr>\n",
       "\t<tr><th scope=row>5</th><td>WBO-WBV-W64</td><td>0.2676888</td><td>control</td><td>control</td></tr>\n",
       "\t<tr><th scope=row>6</th><td>WBR-BBY-W25</td><td>0.2395642</td><td>control</td><td>hypoxic</td></tr>\n",
       "</tbody>\n",
       "</table>\n"
      ],
      "text/latex": [
       "A data.frame: 6 × 4\n",
       "\\begin{tabular}{r|llll}\n",
       "  & samples & t.s\\_ratio & Phase1 & Phase2\\\\\n",
       "  & <chr> & <dbl> & <chr> & <chr>\\\\\n",
       "\\hline\n",
       "\t1 & WBB-WBV-W69 & 0.5762559 & control & control\\\\\n",
       "\t2 & WBG-BBB-W56 & 0.5746725 & control & hypoxic\\\\\n",
       "\t3 & WBG-WBG-W44 & 0.2864338 & control & control\\\\\n",
       "\t4 & WBO-BBR-W03 & 0.4874679 & control & hypoxic\\\\\n",
       "\t5 & WBO-WBV-W64 & 0.2676888 & control & control\\\\\n",
       "\t6 & WBR-BBY-W25 & 0.2395642 & control & hypoxic\\\\\n",
       "\\end{tabular}\n"
      ],
      "text/markdown": [
       "\n",
       "A data.frame: 6 × 4\n",
       "\n",
       "| <!--/--> | samples &lt;chr&gt; | t.s_ratio &lt;dbl&gt; | Phase1 &lt;chr&gt; | Phase2 &lt;chr&gt; |\n",
       "|---|---|---|---|---|\n",
       "| 1 | WBB-WBV-W69 | 0.5762559 | control | control |\n",
       "| 2 | WBG-BBB-W56 | 0.5746725 | control | hypoxic |\n",
       "| 3 | WBG-WBG-W44 | 0.2864338 | control | control |\n",
       "| 4 | WBO-BBR-W03 | 0.4874679 | control | hypoxic |\n",
       "| 5 | WBO-WBV-W64 | 0.2676888 | control | control |\n",
       "| 6 | WBR-BBY-W25 | 0.2395642 | control | hypoxic |\n",
       "\n"
      ],
      "text/plain": [
       "  samples     t.s_ratio Phase1  Phase2 \n",
       "1 WBB-WBV-W69 0.5762559 control control\n",
       "2 WBG-BBB-W56 0.5746725 control hypoxic\n",
       "3 WBG-WBG-W44 0.2864338 control control\n",
       "4 WBO-BBR-W03 0.4874679 control hypoxic\n",
       "5 WBO-WBV-W64 0.2676888 control control\n",
       "6 WBR-BBY-W25 0.2395642 control hypoxic"
      ]
     },
     "metadata": {},
     "output_type": "display_data"
    }
   ],
   "source": [
    "phase1_control <- filter(merge_df, merge_df$Phase1 == 'control')\n",
    "head(phase1_control)"
   ]
  },
  {
   "cell_type": "code",
   "execution_count": 45,
   "id": "c148b8f5-c3bb-465b-99e2-3c6044641f5f",
   "metadata": {},
   "outputs": [
    {
     "data": {
      "image/png": "[encoded data removed]",
      "text/plain": [
       "plot without title"
      ]
     },
     "metadata": {
      "image/png": {
       "height": 420,
       "width": 420
      }
     },
     "output_type": "display_data"
    }
   ],
   "source": [
    "# barplot of T:S when samples were phase 1 control\n",
    "ggplot(phase1_control) +\n",
    "aes(x = Phase2, y = t.s_ratio, fill = Phase2) +\n",
    "geom_boxplot() + \n",
    "scale_fill_manual(values=c(\"#000066\", \"#FF6666\")) +\n",
    "theme_minimal() +\n",
    "labs(title = 'Tissue:Shell Ratio', subtitle = 'When control for phase 1', \n",
    "     x = 'Phase 2 Treatment', y = 'Tissue:Shell Ratio')"
   ]
  }
 ],
 "metadata": {
  "kernelspec": {
   "display_name": "R [conda env:.conda-r-env]",
   "language": "R",
   "name": "conda-env-.conda-r-env-r"
  },
  "language_info": {
   "codemirror_mode": "r",
   "file_extension": ".r",
   "mimetype": "text/x-r-source",
   "name": "R",
   "pygments_lexer": "r",
   "version": "4.3.2"
  }
 },
 "nbformat": 4,
 "nbformat_minor": 5
}
