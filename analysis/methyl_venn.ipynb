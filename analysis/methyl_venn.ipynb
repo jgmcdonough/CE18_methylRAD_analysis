{
 "cells": [
  {
   "cell_type": "markdown",
   "id": "e7173886-d2c1-4ad3-b2b9-fcaa559a5292",
   "metadata": {},
   "source": [
    "## Looking at DMGs across treatment groups\n",
    "want to read in all gene files with significantly differentially methylated genes and create dataframe where the rows are genes and the columns are treatments compared to the control and the values are the log2FoldChange"
   ]
  },
  {
   "cell_type": "markdown",
   "id": "2e077be4-2e0b-41fa-884c-819fed31aabf",
   "metadata": {},
   "source": [
    "#### 1. Effects of Phase 1 - Ignoring Phase 2"
   ]
  },
  {
   "cell_type": "markdown",
   "id": "6cf185fb-c93f-422b-9efe-7f973ccf1e97",
   "metadata": {},
   "source": [
    "only warm vs. control had any significantly differentially methylated genes"
   ]
  },
  {
   "cell_type": "code",
   "execution_count": 41,
   "id": "f5e9c5d5-ed0e-4629-8bb8-037afc5cb06d",
   "metadata": {},
   "outputs": [
    {
     "data": {
      "text/html": [
       "<table class=\"dataframe\">\n",
       "<caption>A data.frame: 6 × 47</caption>\n",
       "<thead>\n",
       "\t<tr><th></th><th scope=col>X</th><th scope=col>Row.names</th><th scope=col>baseMean</th><th scope=col>log2FoldChange</th><th scope=col>lfcSE</th><th scope=col>stat</th><th scope=col>pvalue</th><th scope=col>padj</th><th scope=col>BBB.WBO.B21</th><th scope=col>BBB.WBV.B70</th><th scope=col>⋯</th><th scope=col>WPV.BPR.G11</th><th scope=col>seqname</th><th scope=col>source</th><th scope=col>feature</th><th scope=col>start</th><th scope=col>end</th><th scope=col>score</th><th scope=col>strand</th><th scope=col>frame</th><th scope=col>attributes</th></tr>\n",
       "\t<tr><th></th><th scope=col>&lt;int&gt;</th><th scope=col>&lt;chr&gt;</th><th scope=col>&lt;dbl&gt;</th><th scope=col>&lt;dbl&gt;</th><th scope=col>&lt;dbl&gt;</th><th scope=col>&lt;dbl&gt;</th><th scope=col>&lt;dbl&gt;</th><th scope=col>&lt;dbl&gt;</th><th scope=col>&lt;int&gt;</th><th scope=col>&lt;int&gt;</th><th scope=col>⋯</th><th scope=col>&lt;int&gt;</th><th scope=col>&lt;chr&gt;</th><th scope=col>&lt;chr&gt;</th><th scope=col>&lt;chr&gt;</th><th scope=col>&lt;int&gt;</th><th scope=col>&lt;int&gt;</th><th scope=col>&lt;chr&gt;</th><th scope=col>&lt;chr&gt;</th><th scope=col>&lt;chr&gt;</th><th scope=col>&lt;chr&gt;</th></tr>\n",
       "</thead>\n",
       "<tbody>\n",
       "\t<tr><th scope=row>1</th><td>1</td><td>LOC111099115</td><td> 46.83069</td><td>1.7885864</td><td>0.3885554</td><td>4.603170</td><td>4.161092e-06</td><td>0.0002004183</td><td> 137</td><td> 141</td><td>⋯</td><td>  5</td><td>NC_035780.1</td><td>Gnomon</td><td>gene</td><td> 1840607</td><td> 1842557</td><td>.</td><td>-</td><td>.</td><td>gene_id \"LOC111103177\"; db_xref \"GeneID:111103177\"; gbkey \"Gene\"; gene \"LOC111103177\"; gene_biotype \"protein_coding\"; </td></tr>\n",
       "\t<tr><th scope=row>2</th><td>2</td><td>LOC111099216</td><td> 29.51165</td><td>1.4828614</td><td>0.4401508</td><td>3.368985</td><td>7.544561e-04</td><td>0.0125496496</td><td>  61</td><td>  59</td><td>⋯</td><td>  1</td><td>NC_035780.1</td><td>Gnomon</td><td>gene</td><td> 3517611</td><td> 3518657</td><td>.</td><td>+</td><td>.</td><td>gene_id \"LOC111132154\"; db_xref \"GeneID:111132154\"; gbkey \"Gene\"; gene \"LOC111132154\"; gene_biotype \"lncRNA\";         </td></tr>\n",
       "\t<tr><th scope=row>3</th><td>3</td><td>LOC111099417</td><td> 51.70011</td><td>2.7487429</td><td>0.6879361</td><td>3.995637</td><td>6.452048e-05</td><td>0.0019567084</td><td> 101</td><td>  98</td><td>⋯</td><td>  3</td><td>NC_035780.1</td><td>Gnomon</td><td>gene</td><td> 3920144</td><td> 3928549</td><td>.</td><td>+</td><td>.</td><td>gene_id \"LOC111112068\"; db_xref \"GeneID:111112068\"; gbkey \"Gene\"; gene \"LOC111112068\"; gene_biotype \"protein_coding\"; </td></tr>\n",
       "\t<tr><th scope=row>4</th><td>4</td><td>LOC111099424</td><td> 16.12747</td><td>3.4384445</td><td>0.8269653</td><td>4.157907</td><td>3.211770e-05</td><td>0.0010745946</td><td>  57</td><td>  50</td><td>⋯</td><td>  2</td><td>NC_035780.1</td><td>Gnomon</td><td>gene</td><td> 4012455</td><td> 4013027</td><td>.</td><td>+</td><td>.</td><td>gene_id \"LOC111130177\"; db_xref \"GeneID:111130177\"; gbkey \"Gene\"; gene \"LOC111130177\"; gene_biotype \"protein_coding\"; </td></tr>\n",
       "\t<tr><th scope=row>5</th><td>5</td><td>LOC111099722</td><td>593.62230</td><td>0.8993515</td><td>0.2324598</td><td>3.868847</td><td>1.093514e-04</td><td>0.0028699825</td><td>1591</td><td>1713</td><td>⋯</td><td>153</td><td>NC_035780.1</td><td>Gnomon</td><td>gene</td><td> 8951007</td><td> 8951628</td><td>.</td><td>-</td><td>.</td><td>gene_id \"LOC111114945\"; db_xref \"GeneID:111114945\"; gbkey \"Gene\"; gene \"LOC111114945\"; gene_biotype \"lncRNA\";         </td></tr>\n",
       "\t<tr><th scope=row>6</th><td>6</td><td>LOC111099918</td><td> 87.23670</td><td>0.6567512</td><td>0.2251842</td><td>2.916507</td><td>3.539745e-03</td><td>0.0407210025</td><td> 328</td><td> 280</td><td>⋯</td><td>  6</td><td>NC_035780.1</td><td>Gnomon</td><td>gene</td><td>11951821</td><td>11976757</td><td>.</td><td>+</td><td>.</td><td>gene_id \"LOC111112589\"; db_xref \"GeneID:111112589\"; gbkey \"Gene\"; gene \"LOC111112589\"; gene_biotype \"protein_coding\"; </td></tr>\n",
       "</tbody>\n",
       "</table>\n"
      ],
      "text/latex": [
       "A data.frame: 6 × 47\n",
       "\\begin{tabular}{r|lllllllllllllllllllll}\n",
       "  & X & Row.names & baseMean & log2FoldChange & lfcSE & stat & pvalue & padj & BBB.WBO.B21 & BBB.WBV.B70 & ⋯ & WPV.BPR.G11 & seqname & source & feature & start & end & score & strand & frame & attributes\\\\\n",
       "  & <int> & <chr> & <dbl> & <dbl> & <dbl> & <dbl> & <dbl> & <dbl> & <int> & <int> & ⋯ & <int> & <chr> & <chr> & <chr> & <int> & <int> & <chr> & <chr> & <chr> & <chr>\\\\\n",
       "\\hline\n",
       "\t1 & 1 & LOC111099115 &  46.83069 & 1.7885864 & 0.3885554 & 4.603170 & 4.161092e-06 & 0.0002004183 &  137 &  141 & ⋯ &   5 & NC\\_035780.1 & Gnomon & gene &  1840607 &  1842557 & . & - & . & gene\\_id \"LOC111103177\"; db\\_xref \"GeneID:111103177\"; gbkey \"Gene\"; gene \"LOC111103177\"; gene\\_biotype \"protein\\_coding\"; \\\\\n",
       "\t2 & 2 & LOC111099216 &  29.51165 & 1.4828614 & 0.4401508 & 3.368985 & 7.544561e-04 & 0.0125496496 &   61 &   59 & ⋯ &   1 & NC\\_035780.1 & Gnomon & gene &  3517611 &  3518657 & . & + & . & gene\\_id \"LOC111132154\"; db\\_xref \"GeneID:111132154\"; gbkey \"Gene\"; gene \"LOC111132154\"; gene\\_biotype \"lncRNA\";         \\\\\n",
       "\t3 & 3 & LOC111099417 &  51.70011 & 2.7487429 & 0.6879361 & 3.995637 & 6.452048e-05 & 0.0019567084 &  101 &   98 & ⋯ &   3 & NC\\_035780.1 & Gnomon & gene &  3920144 &  3928549 & . & + & . & gene\\_id \"LOC111112068\"; db\\_xref \"GeneID:111112068\"; gbkey \"Gene\"; gene \"LOC111112068\"; gene\\_biotype \"protein\\_coding\"; \\\\\n",
       "\t4 & 4 & LOC111099424 &  16.12747 & 3.4384445 & 0.8269653 & 4.157907 & 3.211770e-05 & 0.0010745946 &   57 &   50 & ⋯ &   2 & NC\\_035780.1 & Gnomon & gene &  4012455 &  4013027 & . & + & . & gene\\_id \"LOC111130177\"; db\\_xref \"GeneID:111130177\"; gbkey \"Gene\"; gene \"LOC111130177\"; gene\\_biotype \"protein\\_coding\"; \\\\\n",
       "\t5 & 5 & LOC111099722 & 593.62230 & 0.8993515 & 0.2324598 & 3.868847 & 1.093514e-04 & 0.0028699825 & 1591 & 1713 & ⋯ & 153 & NC\\_035780.1 & Gnomon & gene &  8951007 &  8951628 & . & - & . & gene\\_id \"LOC111114945\"; db\\_xref \"GeneID:111114945\"; gbkey \"Gene\"; gene \"LOC111114945\"; gene\\_biotype \"lncRNA\";         \\\\\n",
       "\t6 & 6 & LOC111099918 &  87.23670 & 0.6567512 & 0.2251842 & 2.916507 & 3.539745e-03 & 0.0407210025 &  328 &  280 & ⋯ &   6 & NC\\_035780.1 & Gnomon & gene & 11951821 & 11976757 & . & + & . & gene\\_id \"LOC111112589\"; db\\_xref \"GeneID:111112589\"; gbkey \"Gene\"; gene \"LOC111112589\"; gene\\_biotype \"protein\\_coding\"; \\\\\n",
       "\\end{tabular}\n"
      ],
      "text/markdown": [
       "\n",
       "A data.frame: 6 × 47\n",
       "\n",
       "| <!--/--> | X &lt;int&gt; | Row.names &lt;chr&gt; | baseMean &lt;dbl&gt; | log2FoldChange &lt;dbl&gt; | lfcSE &lt;dbl&gt; | stat &lt;dbl&gt; | pvalue &lt;dbl&gt; | padj &lt;dbl&gt; | BBB.WBO.B21 &lt;int&gt; | BBB.WBV.B70 &lt;int&gt; | ⋯ ⋯ | WPV.BPR.G11 &lt;int&gt; | seqname &lt;chr&gt; | source &lt;chr&gt; | feature &lt;chr&gt; | start &lt;int&gt; | end &lt;int&gt; | score &lt;chr&gt; | strand &lt;chr&gt; | frame &lt;chr&gt; | attributes &lt;chr&gt; |\n",
       "|---|---|---|---|---|---|---|---|---|---|---|---|---|---|---|---|---|---|---|---|---|---|\n",
       "| 1 | 1 | LOC111099115 |  46.83069 | 1.7885864 | 0.3885554 | 4.603170 | 4.161092e-06 | 0.0002004183 |  137 |  141 | ⋯ |   5 | NC_035780.1 | Gnomon | gene |  1840607 |  1842557 | . | - | . | gene_id \"LOC111103177\"; db_xref \"GeneID:111103177\"; gbkey \"Gene\"; gene \"LOC111103177\"; gene_biotype \"protein_coding\";  |\n",
       "| 2 | 2 | LOC111099216 |  29.51165 | 1.4828614 | 0.4401508 | 3.368985 | 7.544561e-04 | 0.0125496496 |   61 |   59 | ⋯ |   1 | NC_035780.1 | Gnomon | gene |  3517611 |  3518657 | . | + | . | gene_id \"LOC111132154\"; db_xref \"GeneID:111132154\"; gbkey \"Gene\"; gene \"LOC111132154\"; gene_biotype \"lncRNA\";          |\n",
       "| 3 | 3 | LOC111099417 |  51.70011 | 2.7487429 | 0.6879361 | 3.995637 | 6.452048e-05 | 0.0019567084 |  101 |   98 | ⋯ |   3 | NC_035780.1 | Gnomon | gene |  3920144 |  3928549 | . | + | . | gene_id \"LOC111112068\"; db_xref \"GeneID:111112068\"; gbkey \"Gene\"; gene \"LOC111112068\"; gene_biotype \"protein_coding\";  |\n",
       "| 4 | 4 | LOC111099424 |  16.12747 | 3.4384445 | 0.8269653 | 4.157907 | 3.211770e-05 | 0.0010745946 |   57 |   50 | ⋯ |   2 | NC_035780.1 | Gnomon | gene |  4012455 |  4013027 | . | + | . | gene_id \"LOC111130177\"; db_xref \"GeneID:111130177\"; gbkey \"Gene\"; gene \"LOC111130177\"; gene_biotype \"protein_coding\";  |\n",
       "| 5 | 5 | LOC111099722 | 593.62230 | 0.8993515 | 0.2324598 | 3.868847 | 1.093514e-04 | 0.0028699825 | 1591 | 1713 | ⋯ | 153 | NC_035780.1 | Gnomon | gene |  8951007 |  8951628 | . | - | . | gene_id \"LOC111114945\"; db_xref \"GeneID:111114945\"; gbkey \"Gene\"; gene \"LOC111114945\"; gene_biotype \"lncRNA\";          |\n",
       "| 6 | 6 | LOC111099918 |  87.23670 | 0.6567512 | 0.2251842 | 2.916507 | 3.539745e-03 | 0.0407210025 |  328 |  280 | ⋯ |   6 | NC_035780.1 | Gnomon | gene | 11951821 | 11976757 | . | + | . | gene_id \"LOC111112589\"; db_xref \"GeneID:111112589\"; gbkey \"Gene\"; gene \"LOC111112589\"; gene_biotype \"protein_coding\";  |\n",
       "\n"
      ],
      "text/plain": [
       "  X Row.names    baseMean  log2FoldChange lfcSE     stat     pvalue      \n",
       "1 1 LOC111099115  46.83069 1.7885864      0.3885554 4.603170 4.161092e-06\n",
       "2 2 LOC111099216  29.51165 1.4828614      0.4401508 3.368985 7.544561e-04\n",
       "3 3 LOC111099417  51.70011 2.7487429      0.6879361 3.995637 6.452048e-05\n",
       "4 4 LOC111099424  16.12747 3.4384445      0.8269653 4.157907 3.211770e-05\n",
       "5 5 LOC111099722 593.62230 0.8993515      0.2324598 3.868847 1.093514e-04\n",
       "6 6 LOC111099918  87.23670 0.6567512      0.2251842 2.916507 3.539745e-03\n",
       "  padj         BBB.WBO.B21 BBB.WBV.B70 ⋯ WPV.BPR.G11 seqname     source feature\n",
       "1 0.0002004183  137         141        ⋯   5         NC_035780.1 Gnomon gene   \n",
       "2 0.0125496496   61          59        ⋯   1         NC_035780.1 Gnomon gene   \n",
       "3 0.0019567084  101          98        ⋯   3         NC_035780.1 Gnomon gene   \n",
       "4 0.0010745946   57          50        ⋯   2         NC_035780.1 Gnomon gene   \n",
       "5 0.0028699825 1591        1713        ⋯ 153         NC_035780.1 Gnomon gene   \n",
       "6 0.0407210025  328         280        ⋯   6         NC_035780.1 Gnomon gene   \n",
       "  start    end      score strand frame\n",
       "1  1840607  1842557 .     -      .    \n",
       "2  3517611  3518657 .     +      .    \n",
       "3  3920144  3928549 .     +      .    \n",
       "4  4012455  4013027 .     +      .    \n",
       "5  8951007  8951628 .     -      .    \n",
       "6 11951821 11976757 .     +      .    \n",
       "  attributes                                                                                                            \n",
       "1 gene_id \"LOC111103177\"; db_xref \"GeneID:111103177\"; gbkey \"Gene\"; gene \"LOC111103177\"; gene_biotype \"protein_coding\"; \n",
       "2 gene_id \"LOC111132154\"; db_xref \"GeneID:111132154\"; gbkey \"Gene\"; gene \"LOC111132154\"; gene_biotype \"lncRNA\";         \n",
       "3 gene_id \"LOC111112068\"; db_xref \"GeneID:111112068\"; gbkey \"Gene\"; gene \"LOC111112068\"; gene_biotype \"protein_coding\"; \n",
       "4 gene_id \"LOC111130177\"; db_xref \"GeneID:111130177\"; gbkey \"Gene\"; gene \"LOC111130177\"; gene_biotype \"protein_coding\"; \n",
       "5 gene_id \"LOC111114945\"; db_xref \"GeneID:111114945\"; gbkey \"Gene\"; gene \"LOC111114945\"; gene_biotype \"lncRNA\";         \n",
       "6 gene_id \"LOC111112589\"; db_xref \"GeneID:111112589\"; gbkey \"Gene\"; gene \"LOC111112589\"; gene_biotype \"protein_coding\"; "
      ]
     },
     "metadata": {},
     "output_type": "display_data"
    }
   ],
   "source": [
    "# warm vs. control\n",
    "warm_p1 <- read.csv('/project/pi_sarah_gignouxwolfsohn_uml_edu/julia/CE_MethylRAD_analysis_2018/analysis/significant_genes/sig_p1_wc_genes.csv')\n",
    "\n",
    "# only selecting gene name and log2FoldChange columns\n",
    "warm_p1 = warm_p1[,c(2,4)]\n",
    "\n",
    "# renaming the columns\n",
    "colnames(warm_p1) = c('gene', 'warm_phase1')\n",
    "rownames(warm_p1) = warm_p1$gene\n",
    "head(warm_p1)"
   ]
  },
  {
   "cell_type": "markdown",
   "id": "f91d042c-fd91-4e3c-abdd-cf580345457c",
   "metadata": {},
   "source": [
    "#### 2. Effects of Phase 2 - Ignoring Phase 1\n",
    "only saw significantly differentially methylated genes with both and hypoxic when comparing to the control"
   ]
  },
  {
   "cell_type": "code",
   "execution_count": 27,
   "id": "12d5002a-a194-40f6-996b-d23a2abc88e4",
   "metadata": {},
   "outputs": [
    {
     "data": {
      "text/html": [
       "<table class=\"dataframe\">\n",
       "<caption>A data.frame: 6 × 2</caption>\n",
       "<thead>\n",
       "\t<tr><th></th><th scope=col>gene</th><th scope=col>both_phase2</th></tr>\n",
       "\t<tr><th></th><th scope=col>&lt;chr&gt;</th><th scope=col>&lt;dbl&gt;</th></tr>\n",
       "</thead>\n",
       "<tbody>\n",
       "\t<tr><th scope=row>LOC111100720</th><td>LOC111100720</td><td>1.655455</td></tr>\n",
       "\t<tr><th scope=row>LOC111100790</th><td>LOC111100790</td><td>1.631569</td></tr>\n",
       "\t<tr><th scope=row>LOC111100869</th><td>LOC111100869</td><td>1.854173</td></tr>\n",
       "\t<tr><th scope=row>LOC111100924</th><td>LOC111100924</td><td>4.698931</td></tr>\n",
       "\t<tr><th scope=row>LOC111101050</th><td>LOC111101050</td><td>1.624020</td></tr>\n",
       "\t<tr><th scope=row>LOC111101237</th><td>LOC111101237</td><td>2.978028</td></tr>\n",
       "</tbody>\n",
       "</table>\n"
      ],
      "text/latex": [
       "A data.frame: 6 × 2\n",
       "\\begin{tabular}{r|ll}\n",
       "  & gene & both\\_phase2\\\\\n",
       "  & <chr> & <dbl>\\\\\n",
       "\\hline\n",
       "\tLOC111100720 & LOC111100720 & 1.655455\\\\\n",
       "\tLOC111100790 & LOC111100790 & 1.631569\\\\\n",
       "\tLOC111100869 & LOC111100869 & 1.854173\\\\\n",
       "\tLOC111100924 & LOC111100924 & 4.698931\\\\\n",
       "\tLOC111101050 & LOC111101050 & 1.624020\\\\\n",
       "\tLOC111101237 & LOC111101237 & 2.978028\\\\\n",
       "\\end{tabular}\n"
      ],
      "text/markdown": [
       "\n",
       "A data.frame: 6 × 2\n",
       "\n",
       "| <!--/--> | gene &lt;chr&gt; | both_phase2 &lt;dbl&gt; |\n",
       "|---|---|---|\n",
       "| LOC111100720 | LOC111100720 | 1.655455 |\n",
       "| LOC111100790 | LOC111100790 | 1.631569 |\n",
       "| LOC111100869 | LOC111100869 | 1.854173 |\n",
       "| LOC111100924 | LOC111100924 | 4.698931 |\n",
       "| LOC111101050 | LOC111101050 | 1.624020 |\n",
       "| LOC111101237 | LOC111101237 | 2.978028 |\n",
       "\n"
      ],
      "text/plain": [
       "             gene         both_phase2\n",
       "LOC111100720 LOC111100720 1.655455   \n",
       "LOC111100790 LOC111100790 1.631569   \n",
       "LOC111100869 LOC111100869 1.854173   \n",
       "LOC111100924 LOC111100924 4.698931   \n",
       "LOC111101050 LOC111101050 1.624020   \n",
       "LOC111101237 LOC111101237 2.978028   "
      ]
     },
     "metadata": {},
     "output_type": "display_data"
    }
   ],
   "source": [
    "# both vs. control\n",
    "both_p2 <- read.csv('/project/pi_sarah_gignouxwolfsohn_uml_edu/julia/CE_MethylRAD_analysis_2018/analysis/significant_genes/sig_p2_bc_genes.csv')\n",
    "\n",
    "# only selecting gene name and log2FoldChange columns\n",
    "both_p2 = both_p2[,c(2,4)]\n",
    "\n",
    "# renaming the columns\n",
    "colnames(both_p2) = c('gene', 'both_phase2')\n",
    "rownames(both_p2) = both_p2$gene\n",
    "head(both_p2)"
   ]
  },
  {
   "cell_type": "code",
   "execution_count": 26,
   "id": "88fa60af-e6c7-4fa9-af82-43baaa2634e6",
   "metadata": {},
   "outputs": [
    {
     "data": {
      "text/html": [
       "<table class=\"dataframe\">\n",
       "<caption>A data.frame: 6 × 2</caption>\n",
       "<thead>\n",
       "\t<tr><th></th><th scope=col>gene</th><th scope=col>hypoxic_phase2</th></tr>\n",
       "\t<tr><th></th><th scope=col>&lt;chr&gt;</th><th scope=col>&lt;dbl&gt;</th></tr>\n",
       "</thead>\n",
       "<tbody>\n",
       "\t<tr><th scope=row>LOC111100406</th><td>LOC111100406</td><td>-1.9786229</td></tr>\n",
       "\t<tr><th scope=row>LOC111101237</th><td>LOC111101237</td><td>-2.0831676</td></tr>\n",
       "\t<tr><th scope=row>LOC111104284</th><td>LOC111104284</td><td>-0.4820848</td></tr>\n",
       "\t<tr><th scope=row>LOC111105299</th><td>LOC111105299</td><td>-2.5172192</td></tr>\n",
       "\t<tr><th scope=row>LOC111105528</th><td>LOC111105528</td><td>-3.1608623</td></tr>\n",
       "\t<tr><th scope=row>LOC111106800</th><td>LOC111106800</td><td>-2.3481348</td></tr>\n",
       "</tbody>\n",
       "</table>\n"
      ],
      "text/latex": [
       "A data.frame: 6 × 2\n",
       "\\begin{tabular}{r|ll}\n",
       "  & gene & hypoxic\\_phase2\\\\\n",
       "  & <chr> & <dbl>\\\\\n",
       "\\hline\n",
       "\tLOC111100406 & LOC111100406 & -1.9786229\\\\\n",
       "\tLOC111101237 & LOC111101237 & -2.0831676\\\\\n",
       "\tLOC111104284 & LOC111104284 & -0.4820848\\\\\n",
       "\tLOC111105299 & LOC111105299 & -2.5172192\\\\\n",
       "\tLOC111105528 & LOC111105528 & -3.1608623\\\\\n",
       "\tLOC111106800 & LOC111106800 & -2.3481348\\\\\n",
       "\\end{tabular}\n"
      ],
      "text/markdown": [
       "\n",
       "A data.frame: 6 × 2\n",
       "\n",
       "| <!--/--> | gene &lt;chr&gt; | hypoxic_phase2 &lt;dbl&gt; |\n",
       "|---|---|---|\n",
       "| LOC111100406 | LOC111100406 | -1.9786229 |\n",
       "| LOC111101237 | LOC111101237 | -2.0831676 |\n",
       "| LOC111104284 | LOC111104284 | -0.4820848 |\n",
       "| LOC111105299 | LOC111105299 | -2.5172192 |\n",
       "| LOC111105528 | LOC111105528 | -3.1608623 |\n",
       "| LOC111106800 | LOC111106800 | -2.3481348 |\n",
       "\n"
      ],
      "text/plain": [
       "             gene         hypoxic_phase2\n",
       "LOC111100406 LOC111100406 -1.9786229    \n",
       "LOC111101237 LOC111101237 -2.0831676    \n",
       "LOC111104284 LOC111104284 -0.4820848    \n",
       "LOC111105299 LOC111105299 -2.5172192    \n",
       "LOC111105528 LOC111105528 -3.1608623    \n",
       "LOC111106800 LOC111106800 -2.3481348    "
      ]
     },
     "metadata": {},
     "output_type": "display_data"
    }
   ],
   "source": [
    "# hypoxic vs. control\n",
    "hypoxic_p2 <- read.csv('/project/pi_sarah_gignouxwolfsohn_uml_edu/julia/CE_MethylRAD_analysis_2018/analysis/significant_genes/sig_p2_hc_genes.csv')\n",
    "\n",
    "# only selecting gene name and log2FoldChange columns\n",
    "hypoxic_p2 = hypoxic_p2[,c(2,4)]\n",
    "\n",
    "# renaming the columns\n",
    "colnames(hypoxic_p2) = c('gene', 'hypoxic_phase2')\n",
    "rownames(hypoxic_p2) = hypoxic_p2$gene\n",
    "head(hypoxic_p2)"
   ]
  },
  {
   "cell_type": "markdown",
   "id": "54531a2c-aea6-47cf-967b-bdb926f26b6e",
   "metadata": {},
   "source": [
    "#### 3. Given Phase 2, Effect of Phase 1\n",
    "if phase 2 is control - phase 1 hypoxic vs. control\n",
    "\n",
    "if phase 2 is hypoxic - phase 1 hypoxic vs. control"
   ]
  },
  {
   "cell_type": "code",
   "execution_count": 25,
   "id": "5a5192a8-ed57-4ea3-aac9-d71714ed5117",
   "metadata": {},
   "outputs": [
    {
     "data": {
      "text/html": [
       "<table class=\"dataframe\">\n",
       "<caption>A data.frame: 6 × 2</caption>\n",
       "<thead>\n",
       "\t<tr><th></th><th scope=col>gene</th><th scope=col>phase1hypoxic_phase2control</th></tr>\n",
       "\t<tr><th></th><th scope=col>&lt;chr&gt;</th><th scope=col>&lt;dbl&gt;</th></tr>\n",
       "</thead>\n",
       "<tbody>\n",
       "\t<tr><th scope=row>LOC111099424</th><td>LOC111099424</td><td> 2.345118</td></tr>\n",
       "\t<tr><th scope=row>LOC111099567</th><td>LOC111099567</td><td>-1.827096</td></tr>\n",
       "\t<tr><th scope=row>LOC111100699</th><td>LOC111100699</td><td> 4.063722</td></tr>\n",
       "\t<tr><th scope=row>LOC111101020</th><td>LOC111101020</td><td> 1.605386</td></tr>\n",
       "\t<tr><th scope=row>LOC111101925</th><td>LOC111101925</td><td>-2.272699</td></tr>\n",
       "\t<tr><th scope=row>LOC111103792</th><td>LOC111103792</td><td>-2.021323</td></tr>\n",
       "</tbody>\n",
       "</table>\n"
      ],
      "text/latex": [
       "A data.frame: 6 × 2\n",
       "\\begin{tabular}{r|ll}\n",
       "  & gene & phase1hypoxic\\_phase2control\\\\\n",
       "  & <chr> & <dbl>\\\\\n",
       "\\hline\n",
       "\tLOC111099424 & LOC111099424 &  2.345118\\\\\n",
       "\tLOC111099567 & LOC111099567 & -1.827096\\\\\n",
       "\tLOC111100699 & LOC111100699 &  4.063722\\\\\n",
       "\tLOC111101020 & LOC111101020 &  1.605386\\\\\n",
       "\tLOC111101925 & LOC111101925 & -2.272699\\\\\n",
       "\tLOC111103792 & LOC111103792 & -2.021323\\\\\n",
       "\\end{tabular}\n"
      ],
      "text/markdown": [
       "\n",
       "A data.frame: 6 × 2\n",
       "\n",
       "| <!--/--> | gene &lt;chr&gt; | phase1hypoxic_phase2control &lt;dbl&gt; |\n",
       "|---|---|---|\n",
       "| LOC111099424 | LOC111099424 |  2.345118 |\n",
       "| LOC111099567 | LOC111099567 | -1.827096 |\n",
       "| LOC111100699 | LOC111100699 |  4.063722 |\n",
       "| LOC111101020 | LOC111101020 |  1.605386 |\n",
       "| LOC111101925 | LOC111101925 | -2.272699 |\n",
       "| LOC111103792 | LOC111103792 | -2.021323 |\n",
       "\n"
      ],
      "text/plain": [
       "             gene         phase1hypoxic_phase2control\n",
       "LOC111099424 LOC111099424  2.345118                  \n",
       "LOC111099567 LOC111099567 -1.827096                  \n",
       "LOC111100699 LOC111100699  4.063722                  \n",
       "LOC111101020 LOC111101020  1.605386                  \n",
       "LOC111101925 LOC111101925 -2.272699                  \n",
       "LOC111103792 LOC111103792 -2.021323                  "
      ]
     },
     "metadata": {},
     "output_type": "display_data"
    }
   ],
   "source": [
    "# PHASE 2 = CONTROL\n",
    "# hypoxic vs. control\n",
    "control_p2 <- read.csv('/project/pi_sarah_gignouxwolfsohn_uml_edu/julia/CE_MethylRAD_analysis_2018/analysis/significant_genes/sig_p2c_p1hc_genes.csv')\n",
    "\n",
    "# only selecting gene name and log2FoldChange columns\n",
    "control_p2 = control_p2[,c(2,4)]\n",
    "\n",
    "# renaming the columns\n",
    "colnames(control_p2) = c('gene', 'phase1hypoxic_phase2control')\n",
    "rownames(control_p2) = control_p2$gene\n",
    "head(control_p2)"
   ]
  },
  {
   "cell_type": "code",
   "execution_count": 24,
   "id": "f1017363-6d5e-4ab1-8031-e9efe336de15",
   "metadata": {},
   "outputs": [
    {
     "data": {
      "text/html": [
       "<table class=\"dataframe\">\n",
       "<caption>A data.frame: 6 × 2</caption>\n",
       "<thead>\n",
       "\t<tr><th></th><th scope=col>gene</th><th scope=col>phase1hypoxic_phase2hypoxic</th></tr>\n",
       "\t<tr><th></th><th scope=col>&lt;chr&gt;</th><th scope=col>&lt;dbl&gt;</th></tr>\n",
       "</thead>\n",
       "<tbody>\n",
       "\t<tr><th scope=row>LOC111100393</th><td>LOC111100393</td><td> 0.6624208</td></tr>\n",
       "\t<tr><th scope=row>LOC111105858</th><td>LOC111105858</td><td>-0.5596059</td></tr>\n",
       "\t<tr><th scope=row>LOC111106800</th><td>LOC111106800</td><td>-1.0316182</td></tr>\n",
       "\t<tr><th scope=row>LOC111113273</th><td>LOC111113273</td><td>-0.8104052</td></tr>\n",
       "\t<tr><th scope=row>LOC111113309</th><td>LOC111113309</td><td> 0.6891998</td></tr>\n",
       "\t<tr><th scope=row>LOC111117059</th><td>LOC111117059</td><td>-1.2192004</td></tr>\n",
       "</tbody>\n",
       "</table>\n"
      ],
      "text/latex": [
       "A data.frame: 6 × 2\n",
       "\\begin{tabular}{r|ll}\n",
       "  & gene & phase1hypoxic\\_phase2hypoxic\\\\\n",
       "  & <chr> & <dbl>\\\\\n",
       "\\hline\n",
       "\tLOC111100393 & LOC111100393 &  0.6624208\\\\\n",
       "\tLOC111105858 & LOC111105858 & -0.5596059\\\\\n",
       "\tLOC111106800 & LOC111106800 & -1.0316182\\\\\n",
       "\tLOC111113273 & LOC111113273 & -0.8104052\\\\\n",
       "\tLOC111113309 & LOC111113309 &  0.6891998\\\\\n",
       "\tLOC111117059 & LOC111117059 & -1.2192004\\\\\n",
       "\\end{tabular}\n"
      ],
      "text/markdown": [
       "\n",
       "A data.frame: 6 × 2\n",
       "\n",
       "| <!--/--> | gene &lt;chr&gt; | phase1hypoxic_phase2hypoxic &lt;dbl&gt; |\n",
       "|---|---|---|\n",
       "| LOC111100393 | LOC111100393 |  0.6624208 |\n",
       "| LOC111105858 | LOC111105858 | -0.5596059 |\n",
       "| LOC111106800 | LOC111106800 | -1.0316182 |\n",
       "| LOC111113273 | LOC111113273 | -0.8104052 |\n",
       "| LOC111113309 | LOC111113309 |  0.6891998 |\n",
       "| LOC111117059 | LOC111117059 | -1.2192004 |\n",
       "\n"
      ],
      "text/plain": [
       "             gene         phase1hypoxic_phase2hypoxic\n",
       "LOC111100393 LOC111100393  0.6624208                 \n",
       "LOC111105858 LOC111105858 -0.5596059                 \n",
       "LOC111106800 LOC111106800 -1.0316182                 \n",
       "LOC111113273 LOC111113273 -0.8104052                 \n",
       "LOC111113309 LOC111113309  0.6891998                 \n",
       "LOC111117059 LOC111117059 -1.2192004                 "
      ]
     },
     "metadata": {},
     "output_type": "display_data"
    }
   ],
   "source": [
    "# PHASE 2 = HYPOXIC\n",
    "# hypoxic vs. control\n",
    "hypoxic_p2.2 <- read.csv('/project/pi_sarah_gignouxwolfsohn_uml_edu/julia/CE_MethylRAD_analysis_2018/analysis/significant_genes/sig_p2h_p1hc_genes.csv')\n",
    "\n",
    "# only selecting gene name and log2FoldChange columns\n",
    "hypoxic_p2.2 = hypoxic_p2.2[,c(2,4)]\n",
    "\n",
    "# renaming the columns\n",
    "colnames(hypoxic_p2.2) = c('gene', 'phase1hypoxic_phase2hypoxic')\n",
    "rownames(hypoxic_p2.2) = hypoxic_p2.2$gene\n",
    "head(hypoxic_p2.2)"
   ]
  },
  {
   "cell_type": "markdown",
   "id": "6d0c5047-5248-4ab1-8518-179cfd3986b4",
   "metadata": {},
   "source": [
    "### Merging all above dataframes"
   ]
  },
  {
   "cell_type": "code",
   "execution_count": 35,
   "id": "978dc30e-fbc9-4e0c-870f-464aec1878ba",
   "metadata": {},
   "outputs": [
    {
     "data": {
      "text/html": [
       "<table class=\"dataframe\">\n",
       "<caption>A data.frame: 513 × 6</caption>\n",
       "<thead>\n",
       "\t<tr><th scope=col>gene</th><th scope=col>warm_phase1</th><th scope=col>both_phase2</th><th scope=col>hypoxic_phase2</th><th scope=col>phase1hypoxic_phase2control</th><th scope=col>phase1hypoxic_phase2hypoxic</th></tr>\n",
       "\t<tr><th scope=col>&lt;chr&gt;</th><th scope=col>&lt;dbl&gt;</th><th scope=col>&lt;dbl&gt;</th><th scope=col>&lt;dbl&gt;</th><th scope=col>&lt;dbl&gt;</th><th scope=col>&lt;dbl&gt;</th></tr>\n",
       "</thead>\n",
       "<tbody>\n",
       "\t<tr><td>LOC111099115</td><td>1.7885864</td><td>      NA</td><td>       NA</td><td>       NA</td><td>       NA</td></tr>\n",
       "\t<tr><td>LOC111099216</td><td>1.4828614</td><td>      NA</td><td>       NA</td><td>       NA</td><td>       NA</td></tr>\n",
       "\t<tr><td>LOC111099417</td><td>2.7487429</td><td>      NA</td><td>       NA</td><td>       NA</td><td>       NA</td></tr>\n",
       "\t<tr><td>LOC111099424</td><td>3.4384445</td><td>      NA</td><td>       NA</td><td> 2.345118</td><td>       NA</td></tr>\n",
       "\t<tr><td>LOC111099567</td><td>       NA</td><td>      NA</td><td>       NA</td><td>-1.827096</td><td>       NA</td></tr>\n",
       "\t<tr><td>LOC111099722</td><td>0.8993515</td><td>      NA</td><td>       NA</td><td>       NA</td><td>       NA</td></tr>\n",
       "\t<tr><td>LOC111099918</td><td>0.6567512</td><td>      NA</td><td>       NA</td><td>       NA</td><td>       NA</td></tr>\n",
       "\t<tr><td>LOC111099923</td><td>3.6677615</td><td>      NA</td><td>       NA</td><td>       NA</td><td>       NA</td></tr>\n",
       "\t<tr><td>LOC111100043</td><td>4.4310407</td><td>      NA</td><td>       NA</td><td>       NA</td><td>       NA</td></tr>\n",
       "\t<tr><td>LOC111100092</td><td>2.0541312</td><td>      NA</td><td>       NA</td><td>       NA</td><td>       NA</td></tr>\n",
       "\t<tr><td>LOC111100143</td><td>0.9577798</td><td>      NA</td><td>       NA</td><td>       NA</td><td>       NA</td></tr>\n",
       "\t<tr><td>LOC111100148</td><td>0.9154154</td><td>      NA</td><td>       NA</td><td>       NA</td><td>       NA</td></tr>\n",
       "\t<tr><td>LOC111100327</td><td>1.3501856</td><td>      NA</td><td>       NA</td><td>       NA</td><td>       NA</td></tr>\n",
       "\t<tr><td>LOC111100344</td><td>1.2693315</td><td>      NA</td><td>       NA</td><td>       NA</td><td>       NA</td></tr>\n",
       "\t<tr><td>LOC111100393</td><td>       NA</td><td>      NA</td><td>       NA</td><td>       NA</td><td>0.6624208</td></tr>\n",
       "\t<tr><td>LOC111100406</td><td>       NA</td><td>      NA</td><td>-1.978623</td><td>       NA</td><td>       NA</td></tr>\n",
       "\t<tr><td>LOC111100574</td><td>1.2009868</td><td>      NA</td><td>       NA</td><td>       NA</td><td>       NA</td></tr>\n",
       "\t<tr><td>LOC111100602</td><td>1.5490772</td><td>      NA</td><td>       NA</td><td>       NA</td><td>       NA</td></tr>\n",
       "\t<tr><td>LOC111100699</td><td>       NA</td><td>      NA</td><td>       NA</td><td> 4.063722</td><td>       NA</td></tr>\n",
       "\t<tr><td>LOC111100714</td><td>3.2018395</td><td>      NA</td><td>       NA</td><td>       NA</td><td>       NA</td></tr>\n",
       "\t<tr><td>LOC111100720</td><td>       NA</td><td>1.655455</td><td>       NA</td><td>       NA</td><td>       NA</td></tr>\n",
       "\t<tr><td>LOC111100739</td><td>0.7951398</td><td>      NA</td><td>       NA</td><td>       NA</td><td>       NA</td></tr>\n",
       "\t<tr><td>LOC111100790</td><td>       NA</td><td>1.631569</td><td>       NA</td><td>       NA</td><td>       NA</td></tr>\n",
       "\t<tr><td>LOC111100869</td><td>1.9299287</td><td>1.854173</td><td>       NA</td><td>       NA</td><td>       NA</td></tr>\n",
       "\t<tr><td>LOC111100924</td><td>5.5060477</td><td>4.698931</td><td>       NA</td><td>       NA</td><td>       NA</td></tr>\n",
       "\t<tr><td>LOC111101020</td><td>       NA</td><td>      NA</td><td>       NA</td><td> 1.605386</td><td>       NA</td></tr>\n",
       "\t<tr><td>LOC111101050</td><td>4.6318117</td><td>1.624020</td><td>       NA</td><td>       NA</td><td>       NA</td></tr>\n",
       "\t<tr><td>LOC111101061</td><td>1.3265918</td><td>      NA</td><td>       NA</td><td>       NA</td><td>       NA</td></tr>\n",
       "\t<tr><td>LOC111101069</td><td>1.6319899</td><td>      NA</td><td>       NA</td><td>       NA</td><td>       NA</td></tr>\n",
       "\t<tr><td>LOC111101237</td><td>       NA</td><td>2.978028</td><td>-2.083168</td><td>       NA</td><td>       NA</td></tr>\n",
       "\t<tr><td>⋮</td><td>⋮</td><td>⋮</td><td>⋮</td><td>⋮</td><td>⋮</td></tr>\n",
       "\t<tr><td>LOC111136197</td><td> 1.9878287</td><td>1.751136</td><td>-1.573086</td><td>      NA</td><td>NA</td></tr>\n",
       "\t<tr><td>LOC111136220</td><td> 1.6895395</td><td>      NA</td><td>       NA</td><td>      NA</td><td>NA</td></tr>\n",
       "\t<tr><td>LOC111136295</td><td> 1.9477188</td><td>      NA</td><td>       NA</td><td>      NA</td><td>NA</td></tr>\n",
       "\t<tr><td>LOC111136307</td><td> 1.8345074</td><td>      NA</td><td>       NA</td><td>      NA</td><td>NA</td></tr>\n",
       "\t<tr><td>LOC111136410</td><td>-2.4080513</td><td>      NA</td><td>       NA</td><td>      NA</td><td>NA</td></tr>\n",
       "\t<tr><td>LOC111136466</td><td> 1.0424652</td><td>      NA</td><td>       NA</td><td>1.131218</td><td>NA</td></tr>\n",
       "\t<tr><td>LOC111136471</td><td> 1.2964123</td><td>      NA</td><td>       NA</td><td>      NA</td><td>NA</td></tr>\n",
       "\t<tr><td>LOC111136484</td><td> 1.3301899</td><td>      NA</td><td>       NA</td><td>      NA</td><td>NA</td></tr>\n",
       "\t<tr><td>LOC111136502</td><td> 1.7263742</td><td>      NA</td><td>       NA</td><td>      NA</td><td>NA</td></tr>\n",
       "\t<tr><td>LOC111136595</td><td> 1.5781384</td><td>1.124700</td><td>       NA</td><td>      NA</td><td>NA</td></tr>\n",
       "\t<tr><td>LOC111136896</td><td> 2.6886761</td><td>      NA</td><td>       NA</td><td>      NA</td><td>NA</td></tr>\n",
       "\t<tr><td>LOC111136937</td><td> 2.8694821</td><td>2.203063</td><td>-2.233223</td><td>      NA</td><td>NA</td></tr>\n",
       "\t<tr><td>LOC111136967</td><td> 2.1355754</td><td>      NA</td><td>       NA</td><td>      NA</td><td>NA</td></tr>\n",
       "\t<tr><td>LOC111137026</td><td> 1.5554222</td><td>      NA</td><td>       NA</td><td>      NA</td><td>NA</td></tr>\n",
       "\t<tr><td>LOC111137298</td><td>        NA</td><td>1.321934</td><td>       NA</td><td>      NA</td><td>NA</td></tr>\n",
       "\t<tr><td>LOC111137325</td><td> 0.7525392</td><td>      NA</td><td>       NA</td><td>      NA</td><td>NA</td></tr>\n",
       "\t<tr><td>LOC111137396</td><td> 3.7434598</td><td>      NA</td><td>       NA</td><td>      NA</td><td>NA</td></tr>\n",
       "\t<tr><td>LOC111137420</td><td>-1.4956776</td><td>      NA</td><td>       NA</td><td>      NA</td><td>NA</td></tr>\n",
       "\t<tr><td>LOC111137527</td><td> 1.6300627</td><td>1.620913</td><td>       NA</td><td>      NA</td><td>NA</td></tr>\n",
       "\t<tr><td>LOC111137657</td><td> 1.0731113</td><td>      NA</td><td>       NA</td><td>      NA</td><td>NA</td></tr>\n",
       "\t<tr><td>LOC111137678</td><td> 2.8097990</td><td>      NA</td><td>       NA</td><td>      NA</td><td>NA</td></tr>\n",
       "\t<tr><td>LOC111137687</td><td> 3.3493703</td><td>      NA</td><td>       NA</td><td>      NA</td><td>NA</td></tr>\n",
       "\t<tr><td>LOC111137731</td><td> 2.6166019</td><td>      NA</td><td>       NA</td><td>      NA</td><td>NA</td></tr>\n",
       "\t<tr><td>LOC111137770</td><td> 4.3948319</td><td>      NA</td><td>       NA</td><td>      NA</td><td>NA</td></tr>\n",
       "\t<tr><td>LOC111137876</td><td> 0.8764244</td><td>      NA</td><td>       NA</td><td>      NA</td><td>NA</td></tr>\n",
       "\t<tr><td>LOC111137946</td><td> 2.3063779</td><td>      NA</td><td>       NA</td><td>      NA</td><td>NA</td></tr>\n",
       "\t<tr><td>LOC111137983</td><td> 1.4553285</td><td>      NA</td><td>       NA</td><td>      NA</td><td>NA</td></tr>\n",
       "\t<tr><td>LOC111138095</td><td> 2.9080676</td><td>2.374853</td><td>-2.012797</td><td>      NA</td><td>NA</td></tr>\n",
       "\t<tr><td>LOC111138141</td><td> 1.0520088</td><td>      NA</td><td>       NA</td><td>      NA</td><td>NA</td></tr>\n",
       "\t<tr><td>LOC111138499</td><td> 2.8511527</td><td>      NA</td><td>       NA</td><td>      NA</td><td>NA</td></tr>\n",
       "</tbody>\n",
       "</table>\n"
      ],
      "text/latex": [
       "A data.frame: 513 × 6\n",
       "\\begin{tabular}{llllll}\n",
       " gene & warm\\_phase1 & both\\_phase2 & hypoxic\\_phase2 & phase1hypoxic\\_phase2control & phase1hypoxic\\_phase2hypoxic\\\\\n",
       " <chr> & <dbl> & <dbl> & <dbl> & <dbl> & <dbl>\\\\\n",
       "\\hline\n",
       "\t LOC111099115 & 1.7885864 &       NA &        NA &        NA &        NA\\\\\n",
       "\t LOC111099216 & 1.4828614 &       NA &        NA &        NA &        NA\\\\\n",
       "\t LOC111099417 & 2.7487429 &       NA &        NA &        NA &        NA\\\\\n",
       "\t LOC111099424 & 3.4384445 &       NA &        NA &  2.345118 &        NA\\\\\n",
       "\t LOC111099567 &        NA &       NA &        NA & -1.827096 &        NA\\\\\n",
       "\t LOC111099722 & 0.8993515 &       NA &        NA &        NA &        NA\\\\\n",
       "\t LOC111099918 & 0.6567512 &       NA &        NA &        NA &        NA\\\\\n",
       "\t LOC111099923 & 3.6677615 &       NA &        NA &        NA &        NA\\\\\n",
       "\t LOC111100043 & 4.4310407 &       NA &        NA &        NA &        NA\\\\\n",
       "\t LOC111100092 & 2.0541312 &       NA &        NA &        NA &        NA\\\\\n",
       "\t LOC111100143 & 0.9577798 &       NA &        NA &        NA &        NA\\\\\n",
       "\t LOC111100148 & 0.9154154 &       NA &        NA &        NA &        NA\\\\\n",
       "\t LOC111100327 & 1.3501856 &       NA &        NA &        NA &        NA\\\\\n",
       "\t LOC111100344 & 1.2693315 &       NA &        NA &        NA &        NA\\\\\n",
       "\t LOC111100393 &        NA &       NA &        NA &        NA & 0.6624208\\\\\n",
       "\t LOC111100406 &        NA &       NA & -1.978623 &        NA &        NA\\\\\n",
       "\t LOC111100574 & 1.2009868 &       NA &        NA &        NA &        NA\\\\\n",
       "\t LOC111100602 & 1.5490772 &       NA &        NA &        NA &        NA\\\\\n",
       "\t LOC111100699 &        NA &       NA &        NA &  4.063722 &        NA\\\\\n",
       "\t LOC111100714 & 3.2018395 &       NA &        NA &        NA &        NA\\\\\n",
       "\t LOC111100720 &        NA & 1.655455 &        NA &        NA &        NA\\\\\n",
       "\t LOC111100739 & 0.7951398 &       NA &        NA &        NA &        NA\\\\\n",
       "\t LOC111100790 &        NA & 1.631569 &        NA &        NA &        NA\\\\\n",
       "\t LOC111100869 & 1.9299287 & 1.854173 &        NA &        NA &        NA\\\\\n",
       "\t LOC111100924 & 5.5060477 & 4.698931 &        NA &        NA &        NA\\\\\n",
       "\t LOC111101020 &        NA &       NA &        NA &  1.605386 &        NA\\\\\n",
       "\t LOC111101050 & 4.6318117 & 1.624020 &        NA &        NA &        NA\\\\\n",
       "\t LOC111101061 & 1.3265918 &       NA &        NA &        NA &        NA\\\\\n",
       "\t LOC111101069 & 1.6319899 &       NA &        NA &        NA &        NA\\\\\n",
       "\t LOC111101237 &        NA & 2.978028 & -2.083168 &        NA &        NA\\\\\n",
       "\t ⋮ & ⋮ & ⋮ & ⋮ & ⋮ & ⋮\\\\\n",
       "\t LOC111136197 &  1.9878287 & 1.751136 & -1.573086 &       NA & NA\\\\\n",
       "\t LOC111136220 &  1.6895395 &       NA &        NA &       NA & NA\\\\\n",
       "\t LOC111136295 &  1.9477188 &       NA &        NA &       NA & NA\\\\\n",
       "\t LOC111136307 &  1.8345074 &       NA &        NA &       NA & NA\\\\\n",
       "\t LOC111136410 & -2.4080513 &       NA &        NA &       NA & NA\\\\\n",
       "\t LOC111136466 &  1.0424652 &       NA &        NA & 1.131218 & NA\\\\\n",
       "\t LOC111136471 &  1.2964123 &       NA &        NA &       NA & NA\\\\\n",
       "\t LOC111136484 &  1.3301899 &       NA &        NA &       NA & NA\\\\\n",
       "\t LOC111136502 &  1.7263742 &       NA &        NA &       NA & NA\\\\\n",
       "\t LOC111136595 &  1.5781384 & 1.124700 &        NA &       NA & NA\\\\\n",
       "\t LOC111136896 &  2.6886761 &       NA &        NA &       NA & NA\\\\\n",
       "\t LOC111136937 &  2.8694821 & 2.203063 & -2.233223 &       NA & NA\\\\\n",
       "\t LOC111136967 &  2.1355754 &       NA &        NA &       NA & NA\\\\\n",
       "\t LOC111137026 &  1.5554222 &       NA &        NA &       NA & NA\\\\\n",
       "\t LOC111137298 &         NA & 1.321934 &        NA &       NA & NA\\\\\n",
       "\t LOC111137325 &  0.7525392 &       NA &        NA &       NA & NA\\\\\n",
       "\t LOC111137396 &  3.7434598 &       NA &        NA &       NA & NA\\\\\n",
       "\t LOC111137420 & -1.4956776 &       NA &        NA &       NA & NA\\\\\n",
       "\t LOC111137527 &  1.6300627 & 1.620913 &        NA &       NA & NA\\\\\n",
       "\t LOC111137657 &  1.0731113 &       NA &        NA &       NA & NA\\\\\n",
       "\t LOC111137678 &  2.8097990 &       NA &        NA &       NA & NA\\\\\n",
       "\t LOC111137687 &  3.3493703 &       NA &        NA &       NA & NA\\\\\n",
       "\t LOC111137731 &  2.6166019 &       NA &        NA &       NA & NA\\\\\n",
       "\t LOC111137770 &  4.3948319 &       NA &        NA &       NA & NA\\\\\n",
       "\t LOC111137876 &  0.8764244 &       NA &        NA &       NA & NA\\\\\n",
       "\t LOC111137946 &  2.3063779 &       NA &        NA &       NA & NA\\\\\n",
       "\t LOC111137983 &  1.4553285 &       NA &        NA &       NA & NA\\\\\n",
       "\t LOC111138095 &  2.9080676 & 2.374853 & -2.012797 &       NA & NA\\\\\n",
       "\t LOC111138141 &  1.0520088 &       NA &        NA &       NA & NA\\\\\n",
       "\t LOC111138499 &  2.8511527 &       NA &        NA &       NA & NA\\\\\n",
       "\\end{tabular}\n"
      ],
      "text/markdown": [
       "\n",
       "A data.frame: 513 × 6\n",
       "\n",
       "| gene &lt;chr&gt; | warm_phase1 &lt;dbl&gt; | both_phase2 &lt;dbl&gt; | hypoxic_phase2 &lt;dbl&gt; | phase1hypoxic_phase2control &lt;dbl&gt; | phase1hypoxic_phase2hypoxic &lt;dbl&gt; |\n",
       "|---|---|---|---|---|---|\n",
       "| LOC111099115 | 1.7885864 |       NA |        NA |        NA |        NA |\n",
       "| LOC111099216 | 1.4828614 |       NA |        NA |        NA |        NA |\n",
       "| LOC111099417 | 2.7487429 |       NA |        NA |        NA |        NA |\n",
       "| LOC111099424 | 3.4384445 |       NA |        NA |  2.345118 |        NA |\n",
       "| LOC111099567 |        NA |       NA |        NA | -1.827096 |        NA |\n",
       "| LOC111099722 | 0.8993515 |       NA |        NA |        NA |        NA |\n",
       "| LOC111099918 | 0.6567512 |       NA |        NA |        NA |        NA |\n",
       "| LOC111099923 | 3.6677615 |       NA |        NA |        NA |        NA |\n",
       "| LOC111100043 | 4.4310407 |       NA |        NA |        NA |        NA |\n",
       "| LOC111100092 | 2.0541312 |       NA |        NA |        NA |        NA |\n",
       "| LOC111100143 | 0.9577798 |       NA |        NA |        NA |        NA |\n",
       "| LOC111100148 | 0.9154154 |       NA |        NA |        NA |        NA |\n",
       "| LOC111100327 | 1.3501856 |       NA |        NA |        NA |        NA |\n",
       "| LOC111100344 | 1.2693315 |       NA |        NA |        NA |        NA |\n",
       "| LOC111100393 |        NA |       NA |        NA |        NA | 0.6624208 |\n",
       "| LOC111100406 |        NA |       NA | -1.978623 |        NA |        NA |\n",
       "| LOC111100574 | 1.2009868 |       NA |        NA |        NA |        NA |\n",
       "| LOC111100602 | 1.5490772 |       NA |        NA |        NA |        NA |\n",
       "| LOC111100699 |        NA |       NA |        NA |  4.063722 |        NA |\n",
       "| LOC111100714 | 3.2018395 |       NA |        NA |        NA |        NA |\n",
       "| LOC111100720 |        NA | 1.655455 |        NA |        NA |        NA |\n",
       "| LOC111100739 | 0.7951398 |       NA |        NA |        NA |        NA |\n",
       "| LOC111100790 |        NA | 1.631569 |        NA |        NA |        NA |\n",
       "| LOC111100869 | 1.9299287 | 1.854173 |        NA |        NA |        NA |\n",
       "| LOC111100924 | 5.5060477 | 4.698931 |        NA |        NA |        NA |\n",
       "| LOC111101020 |        NA |       NA |        NA |  1.605386 |        NA |\n",
       "| LOC111101050 | 4.6318117 | 1.624020 |        NA |        NA |        NA |\n",
       "| LOC111101061 | 1.3265918 |       NA |        NA |        NA |        NA |\n",
       "| LOC111101069 | 1.6319899 |       NA |        NA |        NA |        NA |\n",
       "| LOC111101237 |        NA | 2.978028 | -2.083168 |        NA |        NA |\n",
       "| ⋮ | ⋮ | ⋮ | ⋮ | ⋮ | ⋮ |\n",
       "| LOC111136197 |  1.9878287 | 1.751136 | -1.573086 |       NA | NA |\n",
       "| LOC111136220 |  1.6895395 |       NA |        NA |       NA | NA |\n",
       "| LOC111136295 |  1.9477188 |       NA |        NA |       NA | NA |\n",
       "| LOC111136307 |  1.8345074 |       NA |        NA |       NA | NA |\n",
       "| LOC111136410 | -2.4080513 |       NA |        NA |       NA | NA |\n",
       "| LOC111136466 |  1.0424652 |       NA |        NA | 1.131218 | NA |\n",
       "| LOC111136471 |  1.2964123 |       NA |        NA |       NA | NA |\n",
       "| LOC111136484 |  1.3301899 |       NA |        NA |       NA | NA |\n",
       "| LOC111136502 |  1.7263742 |       NA |        NA |       NA | NA |\n",
       "| LOC111136595 |  1.5781384 | 1.124700 |        NA |       NA | NA |\n",
       "| LOC111136896 |  2.6886761 |       NA |        NA |       NA | NA |\n",
       "| LOC111136937 |  2.8694821 | 2.203063 | -2.233223 |       NA | NA |\n",
       "| LOC111136967 |  2.1355754 |       NA |        NA |       NA | NA |\n",
       "| LOC111137026 |  1.5554222 |       NA |        NA |       NA | NA |\n",
       "| LOC111137298 |         NA | 1.321934 |        NA |       NA | NA |\n",
       "| LOC111137325 |  0.7525392 |       NA |        NA |       NA | NA |\n",
       "| LOC111137396 |  3.7434598 |       NA |        NA |       NA | NA |\n",
       "| LOC111137420 | -1.4956776 |       NA |        NA |       NA | NA |\n",
       "| LOC111137527 |  1.6300627 | 1.620913 |        NA |       NA | NA |\n",
       "| LOC111137657 |  1.0731113 |       NA |        NA |       NA | NA |\n",
       "| LOC111137678 |  2.8097990 |       NA |        NA |       NA | NA |\n",
       "| LOC111137687 |  3.3493703 |       NA |        NA |       NA | NA |\n",
       "| LOC111137731 |  2.6166019 |       NA |        NA |       NA | NA |\n",
       "| LOC111137770 |  4.3948319 |       NA |        NA |       NA | NA |\n",
       "| LOC111137876 |  0.8764244 |       NA |        NA |       NA | NA |\n",
       "| LOC111137946 |  2.3063779 |       NA |        NA |       NA | NA |\n",
       "| LOC111137983 |  1.4553285 |       NA |        NA |       NA | NA |\n",
       "| LOC111138095 |  2.9080676 | 2.374853 | -2.012797 |       NA | NA |\n",
       "| LOC111138141 |  1.0520088 |       NA |        NA |       NA | NA |\n",
       "| LOC111138499 |  2.8511527 |       NA |        NA |       NA | NA |\n",
       "\n"
      ],
      "text/plain": [
       "    gene         warm_phase1 both_phase2 hypoxic_phase2\n",
       "1   LOC111099115 1.7885864         NA           NA     \n",
       "2   LOC111099216 1.4828614         NA           NA     \n",
       "3   LOC111099417 2.7487429         NA           NA     \n",
       "4   LOC111099424 3.4384445         NA           NA     \n",
       "5   LOC111099567        NA         NA           NA     \n",
       "6   LOC111099722 0.8993515         NA           NA     \n",
       "7   LOC111099918 0.6567512         NA           NA     \n",
       "8   LOC111099923 3.6677615         NA           NA     \n",
       "9   LOC111100043 4.4310407         NA           NA     \n",
       "10  LOC111100092 2.0541312         NA           NA     \n",
       "11  LOC111100143 0.9577798         NA           NA     \n",
       "12  LOC111100148 0.9154154         NA           NA     \n",
       "13  LOC111100327 1.3501856         NA           NA     \n",
       "14  LOC111100344 1.2693315         NA           NA     \n",
       "15  LOC111100393        NA         NA           NA     \n",
       "16  LOC111100406        NA         NA    -1.978623     \n",
       "17  LOC111100574 1.2009868         NA           NA     \n",
       "18  LOC111100602 1.5490772         NA           NA     \n",
       "19  LOC111100699        NA         NA           NA     \n",
       "20  LOC111100714 3.2018395         NA           NA     \n",
       "21  LOC111100720        NA   1.655455           NA     \n",
       "22  LOC111100739 0.7951398         NA           NA     \n",
       "23  LOC111100790        NA   1.631569           NA     \n",
       "24  LOC111100869 1.9299287   1.854173           NA     \n",
       "25  LOC111100924 5.5060477   4.698931           NA     \n",
       "26  LOC111101020        NA         NA           NA     \n",
       "27  LOC111101050 4.6318117   1.624020           NA     \n",
       "28  LOC111101061 1.3265918         NA           NA     \n",
       "29  LOC111101069 1.6319899         NA           NA     \n",
       "30  LOC111101237        NA   2.978028    -2.083168     \n",
       "⋮   ⋮            ⋮           ⋮           ⋮             \n",
       "484 LOC111136197  1.9878287  1.751136    -1.573086     \n",
       "485 LOC111136220  1.6895395        NA           NA     \n",
       "486 LOC111136295  1.9477188        NA           NA     \n",
       "487 LOC111136307  1.8345074        NA           NA     \n",
       "488 LOC111136410 -2.4080513        NA           NA     \n",
       "489 LOC111136466  1.0424652        NA           NA     \n",
       "490 LOC111136471  1.2964123        NA           NA     \n",
       "491 LOC111136484  1.3301899        NA           NA     \n",
       "492 LOC111136502  1.7263742        NA           NA     \n",
       "493 LOC111136595  1.5781384  1.124700           NA     \n",
       "494 LOC111136896  2.6886761        NA           NA     \n",
       "495 LOC111136937  2.8694821  2.203063    -2.233223     \n",
       "496 LOC111136967  2.1355754        NA           NA     \n",
       "497 LOC111137026  1.5554222        NA           NA     \n",
       "498 LOC111137298         NA  1.321934           NA     \n",
       "499 LOC111137325  0.7525392        NA           NA     \n",
       "500 LOC111137396  3.7434598        NA           NA     \n",
       "501 LOC111137420 -1.4956776        NA           NA     \n",
       "502 LOC111137527  1.6300627  1.620913           NA     \n",
       "503 LOC111137657  1.0731113        NA           NA     \n",
       "504 LOC111137678  2.8097990        NA           NA     \n",
       "505 LOC111137687  3.3493703        NA           NA     \n",
       "506 LOC111137731  2.6166019        NA           NA     \n",
       "507 LOC111137770  4.3948319        NA           NA     \n",
       "508 LOC111137876  0.8764244        NA           NA     \n",
       "509 LOC111137946  2.3063779        NA           NA     \n",
       "510 LOC111137983  1.4553285        NA           NA     \n",
       "511 LOC111138095  2.9080676  2.374853    -2.012797     \n",
       "512 LOC111138141  1.0520088        NA           NA     \n",
       "513 LOC111138499  2.8511527        NA           NA     \n",
       "    phase1hypoxic_phase2control phase1hypoxic_phase2hypoxic\n",
       "1          NA                          NA                  \n",
       "2          NA                          NA                  \n",
       "3          NA                          NA                  \n",
       "4    2.345118                          NA                  \n",
       "5   -1.827096                          NA                  \n",
       "6          NA                          NA                  \n",
       "7          NA                          NA                  \n",
       "8          NA                          NA                  \n",
       "9          NA                          NA                  \n",
       "10         NA                          NA                  \n",
       "11         NA                          NA                  \n",
       "12         NA                          NA                  \n",
       "13         NA                          NA                  \n",
       "14         NA                          NA                  \n",
       "15         NA                   0.6624208                  \n",
       "16         NA                          NA                  \n",
       "17         NA                          NA                  \n",
       "18         NA                          NA                  \n",
       "19   4.063722                          NA                  \n",
       "20         NA                          NA                  \n",
       "21         NA                          NA                  \n",
       "22         NA                          NA                  \n",
       "23         NA                          NA                  \n",
       "24         NA                          NA                  \n",
       "25         NA                          NA                  \n",
       "26   1.605386                          NA                  \n",
       "27         NA                          NA                  \n",
       "28         NA                          NA                  \n",
       "29         NA                          NA                  \n",
       "30         NA                          NA                  \n",
       "⋮   ⋮                           ⋮                          \n",
       "484       NA                    NA                         \n",
       "485       NA                    NA                         \n",
       "486       NA                    NA                         \n",
       "487       NA                    NA                         \n",
       "488       NA                    NA                         \n",
       "489 1.131218                    NA                         \n",
       "490       NA                    NA                         \n",
       "491       NA                    NA                         \n",
       "492       NA                    NA                         \n",
       "493       NA                    NA                         \n",
       "494       NA                    NA                         \n",
       "495       NA                    NA                         \n",
       "496       NA                    NA                         \n",
       "497       NA                    NA                         \n",
       "498       NA                    NA                         \n",
       "499       NA                    NA                         \n",
       "500       NA                    NA                         \n",
       "501       NA                    NA                         \n",
       "502       NA                    NA                         \n",
       "503       NA                    NA                         \n",
       "504       NA                    NA                         \n",
       "505       NA                    NA                         \n",
       "506       NA                    NA                         \n",
       "507       NA                    NA                         \n",
       "508       NA                    NA                         \n",
       "509       NA                    NA                         \n",
       "510       NA                    NA                         \n",
       "511       NA                    NA                         \n",
       "512       NA                    NA                         \n",
       "513       NA                    NA                         "
      ]
     },
     "metadata": {},
     "output_type": "display_data"
    }
   ],
   "source": [
    "# Merging all data frames created\n",
    "merge_df <- merge(warm_p1, both_p2, by = 'gene', all = TRUE)\n",
    "merge_df <- merge(merge_df, hypoxic_p2, by = 'gene', all = TRUE)\n",
    "merge_df <- merge(merge_df, control_p2, by = 'gene', all = TRUE)\n",
    "merge_df <- merge(merge_df, hypoxic_p2.2, by = 'gene', all = TRUE)\n",
    "\n",
    "# Rename the 'Row.names' column to something more descriptive\n",
    "colnames(merge_df)[1] <- 'gene'\n",
    "\n",
    "# Display the head of the merged data frame\n",
    "merge_df"
   ]
  },
  {
   "cell_type": "code",
   "execution_count": 42,
   "id": "00a51973-7bcf-4784-a05d-27b6ff42a2cf",
   "metadata": {},
   "outputs": [
    {
     "name": "stderr",
     "output_type": "stream",
     "text": [
      "\n",
      "Attaching package: ‘dplyr’\n",
      "\n",
      "\n",
      "The following objects are masked from ‘package:stats’:\n",
      "\n",
      "    filter, lag\n",
      "\n",
      "\n",
      "The following objects are masked from ‘package:base’:\n",
      "\n",
      "    intersect, setdiff, setequal, union\n",
      "\n",
      "\n",
      "Warning message:\n",
      "“\u001b[1m\u001b[22mThere was 1 warning in `mutate()`.\n",
      "\u001b[1m\u001b[22m\u001b[36mℹ\u001b[39m In argument: `gene = (structure(function (..., .x = ..1, .y = ..2, . = ..1)\n",
      "  ...`.\n",
      "Caused by warning in `ifelse()`:\n",
      "\u001b[33m!\u001b[39m NAs introduced by coercion”\n"
     ]
    },
    {
     "data": {
      "text/html": [
       "<table class=\"dataframe\">\n",
       "<caption>A data.frame: 6 × 6</caption>\n",
       "<thead>\n",
       "\t<tr><th></th><th scope=col>gene</th><th scope=col>warm_phase1</th><th scope=col>both_phase2</th><th scope=col>hypoxic_phase2</th><th scope=col>phase1hypoxic_phase2control</th><th scope=col>phase1hypoxic_phase2hypoxic</th></tr>\n",
       "\t<tr><th></th><th scope=col>&lt;dbl&gt;</th><th scope=col>&lt;dbl&gt;</th><th scope=col>&lt;dbl&gt;</th><th scope=col>&lt;dbl&gt;</th><th scope=col>&lt;dbl&gt;</th><th scope=col>&lt;dbl&gt;</th></tr>\n",
       "</thead>\n",
       "<tbody>\n",
       "\t<tr><th scope=row>1</th><td>0</td><td>1</td><td>0</td><td>0</td><td>0</td><td>0</td></tr>\n",
       "\t<tr><th scope=row>2</th><td>0</td><td>1</td><td>0</td><td>0</td><td>0</td><td>0</td></tr>\n",
       "\t<tr><th scope=row>3</th><td>0</td><td>1</td><td>0</td><td>0</td><td>0</td><td>0</td></tr>\n",
       "\t<tr><th scope=row>4</th><td>0</td><td>1</td><td>0</td><td>0</td><td>1</td><td>0</td></tr>\n",
       "\t<tr><th scope=row>5</th><td>0</td><td>0</td><td>0</td><td>0</td><td>1</td><td>0</td></tr>\n",
       "\t<tr><th scope=row>6</th><td>0</td><td>1</td><td>0</td><td>0</td><td>0</td><td>0</td></tr>\n",
       "</tbody>\n",
       "</table>\n"
      ],
      "text/latex": [
       "A data.frame: 6 × 6\n",
       "\\begin{tabular}{r|llllll}\n",
       "  & gene & warm\\_phase1 & both\\_phase2 & hypoxic\\_phase2 & phase1hypoxic\\_phase2control & phase1hypoxic\\_phase2hypoxic\\\\\n",
       "  & <dbl> & <dbl> & <dbl> & <dbl> & <dbl> & <dbl>\\\\\n",
       "\\hline\n",
       "\t1 & 0 & 1 & 0 & 0 & 0 & 0\\\\\n",
       "\t2 & 0 & 1 & 0 & 0 & 0 & 0\\\\\n",
       "\t3 & 0 & 1 & 0 & 0 & 0 & 0\\\\\n",
       "\t4 & 0 & 1 & 0 & 0 & 1 & 0\\\\\n",
       "\t5 & 0 & 0 & 0 & 0 & 1 & 0\\\\\n",
       "\t6 & 0 & 1 & 0 & 0 & 0 & 0\\\\\n",
       "\\end{tabular}\n"
      ],
      "text/markdown": [
       "\n",
       "A data.frame: 6 × 6\n",
       "\n",
       "| <!--/--> | gene &lt;dbl&gt; | warm_phase1 &lt;dbl&gt; | both_phase2 &lt;dbl&gt; | hypoxic_phase2 &lt;dbl&gt; | phase1hypoxic_phase2control &lt;dbl&gt; | phase1hypoxic_phase2hypoxic &lt;dbl&gt; |\n",
       "|---|---|---|---|---|---|---|\n",
       "| 1 | 0 | 1 | 0 | 0 | 0 | 0 |\n",
       "| 2 | 0 | 1 | 0 | 0 | 0 | 0 |\n",
       "| 3 | 0 | 1 | 0 | 0 | 0 | 0 |\n",
       "| 4 | 0 | 1 | 0 | 0 | 1 | 0 |\n",
       "| 5 | 0 | 0 | 0 | 0 | 1 | 0 |\n",
       "| 6 | 0 | 1 | 0 | 0 | 0 | 0 |\n",
       "\n"
      ],
      "text/plain": [
       "  gene warm_phase1 both_phase2 hypoxic_phase2 phase1hypoxic_phase2control\n",
       "1 0    1           0           0              0                          \n",
       "2 0    1           0           0              0                          \n",
       "3 0    1           0           0              0                          \n",
       "4 0    1           0           0              1                          \n",
       "5 0    0           0           0              1                          \n",
       "6 0    1           0           0              0                          \n",
       "  phase1hypoxic_phase2hypoxic\n",
       "1 0                          \n",
       "2 0                          \n",
       "3 0                          \n",
       "4 0                          \n",
       "5 0                          \n",
       "6 0                          "
      ]
     },
     "metadata": {},
     "output_type": "display_data"
    }
   ],
   "source": [
    "library(dplyr)\n",
    "\n",
    "# Replace any numeric values with 1 and any NAs with 0\n",
    "your_dataframe <- merge_df %>% mutate_all(~ ifelse(is.na(.), 0, 1 * !is.na(as.numeric(.))))\n",
    "head(your_dataframe)"
   ]
  },
  {
   "cell_type": "code",
   "execution_count": 43,
   "id": "0d0509c5-1da1-4e2d-9e9c-b9902f4fd675",
   "metadata": {},
   "outputs": [
    {
     "data": {
      "text/html": [
       "<table class=\"dataframe\">\n",
       "<caption>A data.frame: 6 × 6</caption>\n",
       "<thead>\n",
       "\t<tr><th></th><th scope=col>gene</th><th scope=col>warm_phase1</th><th scope=col>both_phase2</th><th scope=col>hypoxic_phase2</th><th scope=col>phase1hypoxic_phase2control</th><th scope=col>phase1hypoxic_phase2hypoxic</th></tr>\n",
       "\t<tr><th></th><th scope=col>&lt;chr&gt;</th><th scope=col>&lt;dbl&gt;</th><th scope=col>&lt;dbl&gt;</th><th scope=col>&lt;dbl&gt;</th><th scope=col>&lt;dbl&gt;</th><th scope=col>&lt;dbl&gt;</th></tr>\n",
       "</thead>\n",
       "<tbody>\n",
       "\t<tr><th scope=row>1</th><td>LOC111099115</td><td>1.7885864</td><td>NA</td><td>NA</td><td>       NA</td><td>NA</td></tr>\n",
       "\t<tr><th scope=row>2</th><td>LOC111099216</td><td>1.4828614</td><td>NA</td><td>NA</td><td>       NA</td><td>NA</td></tr>\n",
       "\t<tr><th scope=row>3</th><td>LOC111099417</td><td>2.7487429</td><td>NA</td><td>NA</td><td>       NA</td><td>NA</td></tr>\n",
       "\t<tr><th scope=row>4</th><td>LOC111099424</td><td>3.4384445</td><td>NA</td><td>NA</td><td> 2.345118</td><td>NA</td></tr>\n",
       "\t<tr><th scope=row>5</th><td>LOC111099567</td><td>       NA</td><td>NA</td><td>NA</td><td>-1.827096</td><td>NA</td></tr>\n",
       "\t<tr><th scope=row>6</th><td>LOC111099722</td><td>0.8993515</td><td>NA</td><td>NA</td><td>       NA</td><td>NA</td></tr>\n",
       "</tbody>\n",
       "</table>\n"
      ],
      "text/latex": [
       "A data.frame: 6 × 6\n",
       "\\begin{tabular}{r|llllll}\n",
       "  & gene & warm\\_phase1 & both\\_phase2 & hypoxic\\_phase2 & phase1hypoxic\\_phase2control & phase1hypoxic\\_phase2hypoxic\\\\\n",
       "  & <chr> & <dbl> & <dbl> & <dbl> & <dbl> & <dbl>\\\\\n",
       "\\hline\n",
       "\t1 & LOC111099115 & 1.7885864 & NA & NA &        NA & NA\\\\\n",
       "\t2 & LOC111099216 & 1.4828614 & NA & NA &        NA & NA\\\\\n",
       "\t3 & LOC111099417 & 2.7487429 & NA & NA &        NA & NA\\\\\n",
       "\t4 & LOC111099424 & 3.4384445 & NA & NA &  2.345118 & NA\\\\\n",
       "\t5 & LOC111099567 &        NA & NA & NA & -1.827096 & NA\\\\\n",
       "\t6 & LOC111099722 & 0.8993515 & NA & NA &        NA & NA\\\\\n",
       "\\end{tabular}\n"
      ],
      "text/markdown": [
       "\n",
       "A data.frame: 6 × 6\n",
       "\n",
       "| <!--/--> | gene &lt;chr&gt; | warm_phase1 &lt;dbl&gt; | both_phase2 &lt;dbl&gt; | hypoxic_phase2 &lt;dbl&gt; | phase1hypoxic_phase2control &lt;dbl&gt; | phase1hypoxic_phase2hypoxic &lt;dbl&gt; |\n",
       "|---|---|---|---|---|---|---|\n",
       "| 1 | LOC111099115 | 1.7885864 | NA | NA |        NA | NA |\n",
       "| 2 | LOC111099216 | 1.4828614 | NA | NA |        NA | NA |\n",
       "| 3 | LOC111099417 | 2.7487429 | NA | NA |        NA | NA |\n",
       "| 4 | LOC111099424 | 3.4384445 | NA | NA |  2.345118 | NA |\n",
       "| 5 | LOC111099567 |        NA | NA | NA | -1.827096 | NA |\n",
       "| 6 | LOC111099722 | 0.8993515 | NA | NA |        NA | NA |\n",
       "\n"
      ],
      "text/plain": [
       "  gene         warm_phase1 both_phase2 hypoxic_phase2\n",
       "1 LOC111099115 1.7885864   NA          NA            \n",
       "2 LOC111099216 1.4828614   NA          NA            \n",
       "3 LOC111099417 2.7487429   NA          NA            \n",
       "4 LOC111099424 3.4384445   NA          NA            \n",
       "5 LOC111099567        NA   NA          NA            \n",
       "6 LOC111099722 0.8993515   NA          NA            \n",
       "  phase1hypoxic_phase2control phase1hypoxic_phase2hypoxic\n",
       "1        NA                   NA                         \n",
       "2        NA                   NA                         \n",
       "3        NA                   NA                         \n",
       "4  2.345118                   NA                         \n",
       "5 -1.827096                   NA                         \n",
       "6        NA                   NA                         "
      ]
     },
     "metadata": {},
     "output_type": "display_data"
    }
   ],
   "source": [
    "head(merge_df)"
   ]
  },
  {
   "cell_type": "code",
   "execution_count": 45,
   "id": "a73af3b7-6bce-4e6c-a54a-aea02c65ba6b",
   "metadata": {},
   "outputs": [
    {
     "data": {
      "text/html": [
       "<table class=\"dataframe\">\n",
       "<caption>A data.frame: 6 × 5</caption>\n",
       "<thead>\n",
       "\t<tr><th></th><th scope=col>warm_phase1</th><th scope=col>both_phase2</th><th scope=col>hypoxic_phase2</th><th scope=col>phase1hypoxic_phase2control</th><th scope=col>phase1hypoxic_phase2hypoxic</th></tr>\n",
       "\t<tr><th></th><th scope=col>&lt;dbl&gt;</th><th scope=col>&lt;dbl&gt;</th><th scope=col>&lt;dbl&gt;</th><th scope=col>&lt;dbl&gt;</th><th scope=col>&lt;dbl&gt;</th></tr>\n",
       "</thead>\n",
       "<tbody>\n",
       "\t<tr><th scope=row>LOC111099115</th><td>1</td><td>0</td><td>0</td><td>0</td><td>0</td></tr>\n",
       "\t<tr><th scope=row>LOC111099216</th><td>1</td><td>0</td><td>0</td><td>0</td><td>0</td></tr>\n",
       "\t<tr><th scope=row>LOC111099417</th><td>1</td><td>0</td><td>0</td><td>0</td><td>0</td></tr>\n",
       "\t<tr><th scope=row>LOC111099424</th><td>1</td><td>0</td><td>0</td><td>1</td><td>0</td></tr>\n",
       "\t<tr><th scope=row>LOC111099567</th><td>0</td><td>0</td><td>0</td><td>1</td><td>0</td></tr>\n",
       "\t<tr><th scope=row>LOC111099722</th><td>1</td><td>0</td><td>0</td><td>0</td><td>0</td></tr>\n",
       "</tbody>\n",
       "</table>\n"
      ],
      "text/latex": [
       "A data.frame: 6 × 5\n",
       "\\begin{tabular}{r|lllll}\n",
       "  & warm\\_phase1 & both\\_phase2 & hypoxic\\_phase2 & phase1hypoxic\\_phase2control & phase1hypoxic\\_phase2hypoxic\\\\\n",
       "  & <dbl> & <dbl> & <dbl> & <dbl> & <dbl>\\\\\n",
       "\\hline\n",
       "\tLOC111099115 & 1 & 0 & 0 & 0 & 0\\\\\n",
       "\tLOC111099216 & 1 & 0 & 0 & 0 & 0\\\\\n",
       "\tLOC111099417 & 1 & 0 & 0 & 0 & 0\\\\\n",
       "\tLOC111099424 & 1 & 0 & 0 & 1 & 0\\\\\n",
       "\tLOC111099567 & 0 & 0 & 0 & 1 & 0\\\\\n",
       "\tLOC111099722 & 1 & 0 & 0 & 0 & 0\\\\\n",
       "\\end{tabular}\n"
      ],
      "text/markdown": [
       "\n",
       "A data.frame: 6 × 5\n",
       "\n",
       "| <!--/--> | warm_phase1 &lt;dbl&gt; | both_phase2 &lt;dbl&gt; | hypoxic_phase2 &lt;dbl&gt; | phase1hypoxic_phase2control &lt;dbl&gt; | phase1hypoxic_phase2hypoxic &lt;dbl&gt; |\n",
       "|---|---|---|---|---|---|\n",
       "| LOC111099115 | 1 | 0 | 0 | 0 | 0 |\n",
       "| LOC111099216 | 1 | 0 | 0 | 0 | 0 |\n",
       "| LOC111099417 | 1 | 0 | 0 | 0 | 0 |\n",
       "| LOC111099424 | 1 | 0 | 0 | 1 | 0 |\n",
       "| LOC111099567 | 0 | 0 | 0 | 1 | 0 |\n",
       "| LOC111099722 | 1 | 0 | 0 | 0 | 0 |\n",
       "\n"
      ],
      "text/plain": [
       "             warm_phase1 both_phase2 hypoxic_phase2 phase1hypoxic_phase2control\n",
       "LOC111099115 1           0           0              0                          \n",
       "LOC111099216 1           0           0              0                          \n",
       "LOC111099417 1           0           0              0                          \n",
       "LOC111099424 1           0           0              1                          \n",
       "LOC111099567 0           0           0              1                          \n",
       "LOC111099722 1           0           0              0                          \n",
       "             phase1hypoxic_phase2hypoxic\n",
       "LOC111099115 0                          \n",
       "LOC111099216 0                          \n",
       "LOC111099417 0                          \n",
       "LOC111099424 0                          \n",
       "LOC111099567 0                          \n",
       "LOC111099722 0                          "
      ]
     },
     "metadata": {},
     "output_type": "display_data"
    }
   ],
   "source": [
    "merge <- your_dataframe\n",
    "rownames(merge) = merge_df$gene\n",
    "merge = merge[,2:6]\n",
    "head(merge)"
   ]
  },
  {
   "cell_type": "markdown",
   "id": "01739ea4-44b8-47bd-8e90-b9498737cac6",
   "metadata": {},
   "source": [
    "### Venn Diagram of Significantly Differentially Methylated Genes Between Treatments"
   ]
  },
  {
   "cell_type": "code",
   "execution_count": 12,
   "id": "288ccce4-1557-401b-96b2-e1c76448aa0f",
   "metadata": {},
   "outputs": [
    {
     "name": "stderr",
     "output_type": "stream",
     "text": [
      "Loading required package: grid\n",
      "\n",
      "Loading required package: futile.logger\n",
      "\n"
     ]
    }
   ],
   "source": [
    "#BiocManager::install(\"VennDiagram\")\n",
    "library(VennDiagram)"
   ]
  },
  {
   "cell_type": "code",
   "execution_count": 14,
   "id": "112cc44e-6060-4d5a-99dd-1f3d0022f77c",
   "metadata": {},
   "outputs": [
    {
     "name": "stderr",
     "output_type": "stream",
     "text": [
      "\n",
      "Attaching package: ‘gplots’\n",
      "\n",
      "\n",
      "The following object is masked from ‘package:stats’:\n",
      "\n",
      "    lowess\n",
      "\n",
      "\n"
     ]
    }
   ],
   "source": [
    "#BiocManager::install(\"gplots\")\n",
    "library(gplots)"
   ]
  },
  {
   "cell_type": "code",
   "execution_count": 48,
   "id": "e1a5ab99-ca7b-444e-827f-b110c151acf2",
   "metadata": {},
   "outputs": [
    {
     "data": {
      "image/png": "[encoded data removed]",
      "text/plain": [
       "plot without title"
      ]
     },
     "metadata": {
      "image/png": {
       "height": 600,
       "width": 600
      }
     },
     "output_type": "display_data"
    }
   ],
   "source": [
    "options(repr.plot.width=10, repr.plot.height=10)\n",
    "venn(merge)"
   ]
  },
  {
   "cell_type": "markdown",
   "id": "b65d5de5-0c6b-4040-93b8-424edf936c26",
   "metadata": {},
   "source": [
    "## Trying out other things"
   ]
  },
  {
   "cell_type": "code",
   "execution_count": 1,
   "id": "e97f4f1c-a1ad-45f9-9d77-6878fd60914f",
   "metadata": {},
   "outputs": [
    {
     "name": "stderr",
     "output_type": "stream",
     "text": [
      "── \u001b[1mAttaching core tidyverse packages\u001b[22m ──────────────────────── tidyverse 2.0.0 ──\n",
      "\u001b[32m✔\u001b[39m \u001b[34mdplyr    \u001b[39m 1.1.4     \u001b[32m✔\u001b[39m \u001b[34mreadr    \u001b[39m 2.1.4\n",
      "\u001b[32m✔\u001b[39m \u001b[34mforcats  \u001b[39m 1.0.0     \u001b[32m✔\u001b[39m \u001b[34mstringr  \u001b[39m 1.5.1\n",
      "\u001b[32m✔\u001b[39m \u001b[34mggplot2  \u001b[39m 3.5.1     \u001b[32m✔\u001b[39m \u001b[34mtibble   \u001b[39m 3.2.1\n",
      "\u001b[32m✔\u001b[39m \u001b[34mlubridate\u001b[39m 1.9.3     \u001b[32m✔\u001b[39m \u001b[34mtidyr    \u001b[39m 1.3.0\n",
      "\u001b[32m✔\u001b[39m \u001b[34mpurrr    \u001b[39m 1.0.2     \n",
      "── \u001b[1mConflicts\u001b[22m ────────────────────────────────────────── tidyverse_conflicts() ──\n",
      "\u001b[31m✖\u001b[39m \u001b[34mdplyr\u001b[39m::\u001b[32mfilter()\u001b[39m masks \u001b[34mstats\u001b[39m::filter()\n",
      "\u001b[31m✖\u001b[39m \u001b[34mdplyr\u001b[39m::\u001b[32mlag()\u001b[39m    masks \u001b[34mstats\u001b[39m::lag()\n",
      "\u001b[36mℹ\u001b[39m Use the conflicted package (\u001b[3m\u001b[34m<http://conflicted.r-lib.org/>\u001b[39m\u001b[23m) to force all conflicts to become errors\n"
     ]
    }
   ],
   "source": [
    "library(tidyverse)"
   ]
  },
  {
   "cell_type": "code",
   "execution_count": 2,
   "id": "0eab5206-6c0f-4a7b-8be5-07d08311817d",
   "metadata": {},
   "outputs": [
    {
     "data": {
      "text/html": [
       "<style>\n",
       ".list-inline {list-style: none; margin:0; padding: 0}\n",
       ".list-inline>li {display: inline-block}\n",
       ".list-inline>li:not(:last-child)::after {content: \"\\00b7\"; padding: 0 .5ex}\n",
       "</style>\n",
       "<ol class=list-inline><li>38828</li><li>31</li></ol>\n"
      ],
      "text/latex": [
       "\\begin{enumerate*}\n",
       "\\item 38828\n",
       "\\item 31\n",
       "\\end{enumerate*}\n"
      ],
      "text/markdown": [
       "1. 38828\n",
       "2. 31\n",
       "\n",
       "\n"
      ],
      "text/plain": [
       "[1] 38828    31"
      ]
     },
     "metadata": {},
     "output_type": "display_data"
    },
    {
     "data": {
      "text/html": [
       "<table class=\"dataframe\">\n",
       "<caption>A data.frame: 6 × 31</caption>\n",
       "<thead>\n",
       "\t<tr><th></th><th scope=col>GeneID</th><th scope=col>X2018..BBB.WBO.B21.CV_alignment.sam</th><th scope=col>X2018..BPO.BPO.O16.CV_alignment.sam</th><th scope=col>X2018..WBR.BBY.W25.CV_alignment.sam</th><th scope=col>X2018..BBB.WBV.B70.CV_alignment.sam</th><th scope=col>X2018..BPR.BPG.O38.CV_alignment.sam</th><th scope=col>X2018..WBV.WBO.W23.CV_alignment.sam</th><th scope=col>X2018..BBO.BBO.B16.CV_alignment.sam</th><th scope=col>X2018..BPR.BPR.O02.CV_alignment.sam</th><th scope=col>X2018..WBV.WBR.W12.CV_alignment.sam</th><th scope=col>⋯</th><th scope=col>X2018..WPO.BPO.G16.CV_alignment.sam</th><th scope=col>X2018..BBR.BBG.B38.CV_alignment.sam</th><th scope=col>X2018..WBG.WBG.W44.CV_alignment.sam</th><th scope=col>X2018..WPO.BPY.G28.CV_alignment.sam</th><th scope=col>X2018..BBR.BBY.B26.CV_alignment.sam</th><th scope=col>X2018..WBO.BBR.W03.CV_alignment.sam</th><th scope=col>X2018..WPR.BPY.G25.CV_alignment.sam</th><th scope=col>X2018..BBY.WBG.B42.CV_alignment.sam</th><th scope=col>X2018..WBO.WBV.W64.CV_alignment.sam</th><th scope=col>X2018..WPV.BPR.G11.CV_alignment.sam</th></tr>\n",
       "\t<tr><th></th><th scope=col>&lt;chr&gt;</th><th scope=col>&lt;int&gt;</th><th scope=col>&lt;int&gt;</th><th scope=col>&lt;int&gt;</th><th scope=col>&lt;int&gt;</th><th scope=col>&lt;int&gt;</th><th scope=col>&lt;int&gt;</th><th scope=col>&lt;int&gt;</th><th scope=col>&lt;int&gt;</th><th scope=col>&lt;int&gt;</th><th scope=col>⋯</th><th scope=col>&lt;int&gt;</th><th scope=col>&lt;int&gt;</th><th scope=col>&lt;int&gt;</th><th scope=col>&lt;int&gt;</th><th scope=col>&lt;int&gt;</th><th scope=col>&lt;int&gt;</th><th scope=col>&lt;int&gt;</th><th scope=col>&lt;int&gt;</th><th scope=col>&lt;int&gt;</th><th scope=col>&lt;int&gt;</th></tr>\n",
       "</thead>\n",
       "<tbody>\n",
       "\t<tr><th scope=row>1</th><td>LOC111116054</td><td>0</td><td>0</td><td>0</td><td>0</td><td>0</td><td>0</td><td>0</td><td>0</td><td>0</td><td>⋯</td><td>0</td><td>0</td><td>0</td><td>0</td><td>1</td><td>0</td><td>0</td><td>0</td><td>0</td><td>0</td></tr>\n",
       "\t<tr><th scope=row>2</th><td>LOC111126949</td><td>0</td><td>0</td><td>0</td><td>0</td><td>0</td><td>0</td><td>0</td><td>0</td><td>0</td><td>⋯</td><td>0</td><td>0</td><td>0</td><td>0</td><td>0</td><td>0</td><td>0</td><td>0</td><td>0</td><td>0</td></tr>\n",
       "\t<tr><th scope=row>3</th><td>LOC111110729</td><td>0</td><td>0</td><td>0</td><td>0</td><td>0</td><td>0</td><td>0</td><td>0</td><td>0</td><td>⋯</td><td>0</td><td>0</td><td>0</td><td>0</td><td>0</td><td>0</td><td>0</td><td>0</td><td>0</td><td>0</td></tr>\n",
       "\t<tr><th scope=row>4</th><td>LOC111112434</td><td>0</td><td>0</td><td>0</td><td>0</td><td>0</td><td>0</td><td>0</td><td>2</td><td>0</td><td>⋯</td><td>0</td><td>0</td><td>0</td><td>0</td><td>0</td><td>0</td><td>0</td><td>0</td><td>0</td><td>0</td></tr>\n",
       "\t<tr><th scope=row>5</th><td>LOC111120752</td><td>2</td><td>1</td><td>0</td><td>2</td><td>0</td><td>0</td><td>0</td><td>2</td><td>0</td><td>⋯</td><td>0</td><td>0</td><td>0</td><td>1</td><td>1</td><td>0</td><td>1</td><td>0</td><td>1</td><td>0</td></tr>\n",
       "\t<tr><th scope=row>6</th><td>LOC111128944</td><td>0</td><td>0</td><td>0</td><td>0</td><td>0</td><td>0</td><td>0</td><td>0</td><td>0</td><td>⋯</td><td>0</td><td>0</td><td>0</td><td>0</td><td>0</td><td>0</td><td>0</td><td>0</td><td>0</td><td>0</td></tr>\n",
       "</tbody>\n",
       "</table>\n"
      ],
      "text/latex": [
       "A data.frame: 6 × 31\n",
       "\\begin{tabular}{r|lllllllllllllllllllll}\n",
       "  & GeneID & X2018..BBB.WBO.B21.CV\\_alignment.sam & X2018..BPO.BPO.O16.CV\\_alignment.sam & X2018..WBR.BBY.W25.CV\\_alignment.sam & X2018..BBB.WBV.B70.CV\\_alignment.sam & X2018..BPR.BPG.O38.CV\\_alignment.sam & X2018..WBV.WBO.W23.CV\\_alignment.sam & X2018..BBO.BBO.B16.CV\\_alignment.sam & X2018..BPR.BPR.O02.CV\\_alignment.sam & X2018..WBV.WBR.W12.CV\\_alignment.sam & ⋯ & X2018..WPO.BPO.G16.CV\\_alignment.sam & X2018..BBR.BBG.B38.CV\\_alignment.sam & X2018..WBG.WBG.W44.CV\\_alignment.sam & X2018..WPO.BPY.G28.CV\\_alignment.sam & X2018..BBR.BBY.B26.CV\\_alignment.sam & X2018..WBO.BBR.W03.CV\\_alignment.sam & X2018..WPR.BPY.G25.CV\\_alignment.sam & X2018..BBY.WBG.B42.CV\\_alignment.sam & X2018..WBO.WBV.W64.CV\\_alignment.sam & X2018..WPV.BPR.G11.CV\\_alignment.sam\\\\\n",
       "  & <chr> & <int> & <int> & <int> & <int> & <int> & <int> & <int> & <int> & <int> & ⋯ & <int> & <int> & <int> & <int> & <int> & <int> & <int> & <int> & <int> & <int>\\\\\n",
       "\\hline\n",
       "\t1 & LOC111116054 & 0 & 0 & 0 & 0 & 0 & 0 & 0 & 0 & 0 & ⋯ & 0 & 0 & 0 & 0 & 1 & 0 & 0 & 0 & 0 & 0\\\\\n",
       "\t2 & LOC111126949 & 0 & 0 & 0 & 0 & 0 & 0 & 0 & 0 & 0 & ⋯ & 0 & 0 & 0 & 0 & 0 & 0 & 0 & 0 & 0 & 0\\\\\n",
       "\t3 & LOC111110729 & 0 & 0 & 0 & 0 & 0 & 0 & 0 & 0 & 0 & ⋯ & 0 & 0 & 0 & 0 & 0 & 0 & 0 & 0 & 0 & 0\\\\\n",
       "\t4 & LOC111112434 & 0 & 0 & 0 & 0 & 0 & 0 & 0 & 2 & 0 & ⋯ & 0 & 0 & 0 & 0 & 0 & 0 & 0 & 0 & 0 & 0\\\\\n",
       "\t5 & LOC111120752 & 2 & 1 & 0 & 2 & 0 & 0 & 0 & 2 & 0 & ⋯ & 0 & 0 & 0 & 1 & 1 & 0 & 1 & 0 & 1 & 0\\\\\n",
       "\t6 & LOC111128944 & 0 & 0 & 0 & 0 & 0 & 0 & 0 & 0 & 0 & ⋯ & 0 & 0 & 0 & 0 & 0 & 0 & 0 & 0 & 0 & 0\\\\\n",
       "\\end{tabular}\n"
      ],
      "text/markdown": [
       "\n",
       "A data.frame: 6 × 31\n",
       "\n",
       "| <!--/--> | GeneID &lt;chr&gt; | X2018..BBB.WBO.B21.CV_alignment.sam &lt;int&gt; | X2018..BPO.BPO.O16.CV_alignment.sam &lt;int&gt; | X2018..WBR.BBY.W25.CV_alignment.sam &lt;int&gt; | X2018..BBB.WBV.B70.CV_alignment.sam &lt;int&gt; | X2018..BPR.BPG.O38.CV_alignment.sam &lt;int&gt; | X2018..WBV.WBO.W23.CV_alignment.sam &lt;int&gt; | X2018..BBO.BBO.B16.CV_alignment.sam &lt;int&gt; | X2018..BPR.BPR.O02.CV_alignment.sam &lt;int&gt; | X2018..WBV.WBR.W12.CV_alignment.sam &lt;int&gt; | ⋯ ⋯ | X2018..WPO.BPO.G16.CV_alignment.sam &lt;int&gt; | X2018..BBR.BBG.B38.CV_alignment.sam &lt;int&gt; | X2018..WBG.WBG.W44.CV_alignment.sam &lt;int&gt; | X2018..WPO.BPY.G28.CV_alignment.sam &lt;int&gt; | X2018..BBR.BBY.B26.CV_alignment.sam &lt;int&gt; | X2018..WBO.BBR.W03.CV_alignment.sam &lt;int&gt; | X2018..WPR.BPY.G25.CV_alignment.sam &lt;int&gt; | X2018..BBY.WBG.B42.CV_alignment.sam &lt;int&gt; | X2018..WBO.WBV.W64.CV_alignment.sam &lt;int&gt; | X2018..WPV.BPR.G11.CV_alignment.sam &lt;int&gt; |\n",
       "|---|---|---|---|---|---|---|---|---|---|---|---|---|---|---|---|---|---|---|---|---|---|\n",
       "| 1 | LOC111116054 | 0 | 0 | 0 | 0 | 0 | 0 | 0 | 0 | 0 | ⋯ | 0 | 0 | 0 | 0 | 1 | 0 | 0 | 0 | 0 | 0 |\n",
       "| 2 | LOC111126949 | 0 | 0 | 0 | 0 | 0 | 0 | 0 | 0 | 0 | ⋯ | 0 | 0 | 0 | 0 | 0 | 0 | 0 | 0 | 0 | 0 |\n",
       "| 3 | LOC111110729 | 0 | 0 | 0 | 0 | 0 | 0 | 0 | 0 | 0 | ⋯ | 0 | 0 | 0 | 0 | 0 | 0 | 0 | 0 | 0 | 0 |\n",
       "| 4 | LOC111112434 | 0 | 0 | 0 | 0 | 0 | 0 | 0 | 2 | 0 | ⋯ | 0 | 0 | 0 | 0 | 0 | 0 | 0 | 0 | 0 | 0 |\n",
       "| 5 | LOC111120752 | 2 | 1 | 0 | 2 | 0 | 0 | 0 | 2 | 0 | ⋯ | 0 | 0 | 0 | 1 | 1 | 0 | 1 | 0 | 1 | 0 |\n",
       "| 6 | LOC111128944 | 0 | 0 | 0 | 0 | 0 | 0 | 0 | 0 | 0 | ⋯ | 0 | 0 | 0 | 0 | 0 | 0 | 0 | 0 | 0 | 0 |\n",
       "\n"
      ],
      "text/plain": [
       "  GeneID       X2018..BBB.WBO.B21.CV_alignment.sam\n",
       "1 LOC111116054 0                                  \n",
       "2 LOC111126949 0                                  \n",
       "3 LOC111110729 0                                  \n",
       "4 LOC111112434 0                                  \n",
       "5 LOC111120752 2                                  \n",
       "6 LOC111128944 0                                  \n",
       "  X2018..BPO.BPO.O16.CV_alignment.sam X2018..WBR.BBY.W25.CV_alignment.sam\n",
       "1 0                                   0                                  \n",
       "2 0                                   0                                  \n",
       "3 0                                   0                                  \n",
       "4 0                                   0                                  \n",
       "5 1                                   0                                  \n",
       "6 0                                   0                                  \n",
       "  X2018..BBB.WBV.B70.CV_alignment.sam X2018..BPR.BPG.O38.CV_alignment.sam\n",
       "1 0                                   0                                  \n",
       "2 0                                   0                                  \n",
       "3 0                                   0                                  \n",
       "4 0                                   0                                  \n",
       "5 2                                   0                                  \n",
       "6 0                                   0                                  \n",
       "  X2018..WBV.WBO.W23.CV_alignment.sam X2018..BBO.BBO.B16.CV_alignment.sam\n",
       "1 0                                   0                                  \n",
       "2 0                                   0                                  \n",
       "3 0                                   0                                  \n",
       "4 0                                   0                                  \n",
       "5 0                                   0                                  \n",
       "6 0                                   0                                  \n",
       "  X2018..BPR.BPR.O02.CV_alignment.sam X2018..WBV.WBR.W12.CV_alignment.sam ⋯\n",
       "1 0                                   0                                   ⋯\n",
       "2 0                                   0                                   ⋯\n",
       "3 0                                   0                                   ⋯\n",
       "4 2                                   0                                   ⋯\n",
       "5 2                                   0                                   ⋯\n",
       "6 0                                   0                                   ⋯\n",
       "  X2018..WPO.BPO.G16.CV_alignment.sam X2018..BBR.BBG.B38.CV_alignment.sam\n",
       "1 0                                   0                                  \n",
       "2 0                                   0                                  \n",
       "3 0                                   0                                  \n",
       "4 0                                   0                                  \n",
       "5 0                                   0                                  \n",
       "6 0                                   0                                  \n",
       "  X2018..WBG.WBG.W44.CV_alignment.sam X2018..WPO.BPY.G28.CV_alignment.sam\n",
       "1 0                                   0                                  \n",
       "2 0                                   0                                  \n",
       "3 0                                   0                                  \n",
       "4 0                                   0                                  \n",
       "5 0                                   1                                  \n",
       "6 0                                   0                                  \n",
       "  X2018..BBR.BBY.B26.CV_alignment.sam X2018..WBO.BBR.W03.CV_alignment.sam\n",
       "1 1                                   0                                  \n",
       "2 0                                   0                                  \n",
       "3 0                                   0                                  \n",
       "4 0                                   0                                  \n",
       "5 1                                   0                                  \n",
       "6 0                                   0                                  \n",
       "  X2018..WPR.BPY.G25.CV_alignment.sam X2018..BBY.WBG.B42.CV_alignment.sam\n",
       "1 0                                   0                                  \n",
       "2 0                                   0                                  \n",
       "3 0                                   0                                  \n",
       "4 0                                   0                                  \n",
       "5 1                                   0                                  \n",
       "6 0                                   0                                  \n",
       "  X2018..WBO.WBV.W64.CV_alignment.sam X2018..WPV.BPR.G11.CV_alignment.sam\n",
       "1 0                                   0                                  \n",
       "2 0                                   0                                  \n",
       "3 0                                   0                                  \n",
       "4 0                                   0                                  \n",
       "5 1                                   0                                  \n",
       "6 0                                   0                                  "
      ]
     },
     "metadata": {},
     "output_type": "display_data"
    }
   ],
   "source": [
    "# loading counts matrix\n",
    "counts <- read.table('/project/pi_sarah_gignouxwolfsohn_uml_edu/julia/CE_methyl_assembly/assembly_pipeline_files/sam_files/fc_counts.txt', header=TRUE)\n",
    "\n",
    "# removing the length column\n",
    "counts <- counts[,-2]\n",
    "\n",
    "dim(counts) # 38,828 genes total\n",
    "head(counts)"
   ]
  },
  {
   "cell_type": "code",
   "execution_count": 3,
   "id": "5b6c9d3e-1b08-4e38-bfce-d0f80a1d672d",
   "metadata": {},
   "outputs": [
    {
     "data": {
      "text/html": [
       "<style>\n",
       ".list-inline {list-style: none; margin:0; padding: 0}\n",
       ".list-inline>li {display: inline-block}\n",
       ".list-inline>li:not(:last-child)::after {content: \"\\00b7\"; padding: 0 .5ex}\n",
       "</style>\n",
       "<ol class=list-inline><li>'GeneID'</li><li>'BBB.WBO.B21'</li><li>'BPO.BPO.O16'</li><li>'WBR.BBY.W25'</li><li>'BBB.WBV.B70'</li><li>'BPR.BPG.O38'</li></ol>\n"
      ],
      "text/latex": [
       "\\begin{enumerate*}\n",
       "\\item 'GeneID'\n",
       "\\item 'BBB.WBO.B21'\n",
       "\\item 'BPO.BPO.O16'\n",
       "\\item 'WBR.BBY.W25'\n",
       "\\item 'BBB.WBV.B70'\n",
       "\\item 'BPR.BPG.O38'\n",
       "\\end{enumerate*}\n"
      ],
      "text/markdown": [
       "1. 'GeneID'\n",
       "2. 'BBB.WBO.B21'\n",
       "3. 'BPO.BPO.O16'\n",
       "4. 'WBR.BBY.W25'\n",
       "5. 'BBB.WBV.B70'\n",
       "6. 'BPR.BPG.O38'\n",
       "\n",
       "\n"
      ],
      "text/plain": [
       "[1] \"GeneID\"      \"BBB.WBO.B21\" \"BPO.BPO.O16\" \"WBR.BBY.W25\" \"BBB.WBV.B70\"\n",
       "[6] \"BPR.BPG.O38\""
      ]
     },
     "metadata": {},
     "output_type": "display_data"
    },
    {
     "data": {
      "text/html": [
       "<style>\n",
       ".list-inline {list-style: none; margin:0; padding: 0}\n",
       ".list-inline>li {display: inline-block}\n",
       ".list-inline>li:not(:last-child)::after {content: \"\\00b7\"; padding: 0 .5ex}\n",
       "</style>\n",
       "<ol class=list-inline><li>'GeneID'</li><li>'BBB-WBO-B21'</li><li>'BPO-BPO-O16'</li><li>'WBR-BBY-W25'</li><li>'BBB-WBV-B70'</li><li>'BPR-BPG-O38'</li></ol>\n"
      ],
      "text/latex": [
       "\\begin{enumerate*}\n",
       "\\item 'GeneID'\n",
       "\\item 'BBB-WBO-B21'\n",
       "\\item 'BPO-BPO-O16'\n",
       "\\item 'WBR-BBY-W25'\n",
       "\\item 'BBB-WBV-B70'\n",
       "\\item 'BPR-BPG-O38'\n",
       "\\end{enumerate*}\n"
      ],
      "text/markdown": [
       "1. 'GeneID'\n",
       "2. 'BBB-WBO-B21'\n",
       "3. 'BPO-BPO-O16'\n",
       "4. 'WBR-BBY-W25'\n",
       "5. 'BBB-WBV-B70'\n",
       "6. 'BPR-BPG-O38'\n",
       "\n",
       "\n"
      ],
      "text/plain": [
       "[1] \"GeneID\"      \"BBB-WBO-B21\" \"BPO-BPO-O16\" \"WBR-BBY-W25\" \"BBB-WBV-B70\"\n",
       "[6] \"BPR-BPG-O38\""
      ]
     },
     "metadata": {},
     "output_type": "display_data"
    },
    {
     "data": {
      "text/html": [
       "<table class=\"dataframe\">\n",
       "<caption>A data.frame: 6 × 31</caption>\n",
       "<thead>\n",
       "\t<tr><th></th><th scope=col>GeneID</th><th scope=col>BBB-WBO-B21</th><th scope=col>BPO-BPO-O16</th><th scope=col>WBR-BBY-W25</th><th scope=col>BBB-WBV-B70</th><th scope=col>BPR-BPG-O38</th><th scope=col>WBV-WBO-W23</th><th scope=col>BBO-BBO-B16</th><th scope=col>BPR-BPR-O02</th><th scope=col>WBV-WBR-W12</th><th scope=col>⋯</th><th scope=col>WPO-BPO-G16</th><th scope=col>BBR-BBG-B38</th><th scope=col>WBG-WBG-W44</th><th scope=col>WPO-BPY-G28</th><th scope=col>BBR-BBY-B26</th><th scope=col>WBO-BBR-W03</th><th scope=col>WPR-BPY-G25</th><th scope=col>BBY-WBG-B42</th><th scope=col>WBO-WBV-W64</th><th scope=col>WPV-BPR-G11</th></tr>\n",
       "\t<tr><th></th><th scope=col>&lt;chr&gt;</th><th scope=col>&lt;int&gt;</th><th scope=col>&lt;int&gt;</th><th scope=col>&lt;int&gt;</th><th scope=col>&lt;int&gt;</th><th scope=col>&lt;int&gt;</th><th scope=col>&lt;int&gt;</th><th scope=col>&lt;int&gt;</th><th scope=col>&lt;int&gt;</th><th scope=col>&lt;int&gt;</th><th scope=col>⋯</th><th scope=col>&lt;int&gt;</th><th scope=col>&lt;int&gt;</th><th scope=col>&lt;int&gt;</th><th scope=col>&lt;int&gt;</th><th scope=col>&lt;int&gt;</th><th scope=col>&lt;int&gt;</th><th scope=col>&lt;int&gt;</th><th scope=col>&lt;int&gt;</th><th scope=col>&lt;int&gt;</th><th scope=col>&lt;int&gt;</th></tr>\n",
       "</thead>\n",
       "<tbody>\n",
       "\t<tr><th scope=row>1</th><td>LOC111116054</td><td>0</td><td>0</td><td>0</td><td>0</td><td>0</td><td>0</td><td>0</td><td>0</td><td>0</td><td>⋯</td><td>0</td><td>0</td><td>0</td><td>0</td><td>1</td><td>0</td><td>0</td><td>0</td><td>0</td><td>0</td></tr>\n",
       "\t<tr><th scope=row>2</th><td>LOC111126949</td><td>0</td><td>0</td><td>0</td><td>0</td><td>0</td><td>0</td><td>0</td><td>0</td><td>0</td><td>⋯</td><td>0</td><td>0</td><td>0</td><td>0</td><td>0</td><td>0</td><td>0</td><td>0</td><td>0</td><td>0</td></tr>\n",
       "\t<tr><th scope=row>3</th><td>LOC111110729</td><td>0</td><td>0</td><td>0</td><td>0</td><td>0</td><td>0</td><td>0</td><td>0</td><td>0</td><td>⋯</td><td>0</td><td>0</td><td>0</td><td>0</td><td>0</td><td>0</td><td>0</td><td>0</td><td>0</td><td>0</td></tr>\n",
       "\t<tr><th scope=row>4</th><td>LOC111112434</td><td>0</td><td>0</td><td>0</td><td>0</td><td>0</td><td>0</td><td>0</td><td>2</td><td>0</td><td>⋯</td><td>0</td><td>0</td><td>0</td><td>0</td><td>0</td><td>0</td><td>0</td><td>0</td><td>0</td><td>0</td></tr>\n",
       "\t<tr><th scope=row>5</th><td>LOC111120752</td><td>2</td><td>1</td><td>0</td><td>2</td><td>0</td><td>0</td><td>0</td><td>2</td><td>0</td><td>⋯</td><td>0</td><td>0</td><td>0</td><td>1</td><td>1</td><td>0</td><td>1</td><td>0</td><td>1</td><td>0</td></tr>\n",
       "\t<tr><th scope=row>6</th><td>LOC111128944</td><td>0</td><td>0</td><td>0</td><td>0</td><td>0</td><td>0</td><td>0</td><td>0</td><td>0</td><td>⋯</td><td>0</td><td>0</td><td>0</td><td>0</td><td>0</td><td>0</td><td>0</td><td>0</td><td>0</td><td>0</td></tr>\n",
       "</tbody>\n",
       "</table>\n"
      ],
      "text/latex": [
       "A data.frame: 6 × 31\n",
       "\\begin{tabular}{r|lllllllllllllllllllll}\n",
       "  & GeneID & BBB-WBO-B21 & BPO-BPO-O16 & WBR-BBY-W25 & BBB-WBV-B70 & BPR-BPG-O38 & WBV-WBO-W23 & BBO-BBO-B16 & BPR-BPR-O02 & WBV-WBR-W12 & ⋯ & WPO-BPO-G16 & BBR-BBG-B38 & WBG-WBG-W44 & WPO-BPY-G28 & BBR-BBY-B26 & WBO-BBR-W03 & WPR-BPY-G25 & BBY-WBG-B42 & WBO-WBV-W64 & WPV-BPR-G11\\\\\n",
       "  & <chr> & <int> & <int> & <int> & <int> & <int> & <int> & <int> & <int> & <int> & ⋯ & <int> & <int> & <int> & <int> & <int> & <int> & <int> & <int> & <int> & <int>\\\\\n",
       "\\hline\n",
       "\t1 & LOC111116054 & 0 & 0 & 0 & 0 & 0 & 0 & 0 & 0 & 0 & ⋯ & 0 & 0 & 0 & 0 & 1 & 0 & 0 & 0 & 0 & 0\\\\\n",
       "\t2 & LOC111126949 & 0 & 0 & 0 & 0 & 0 & 0 & 0 & 0 & 0 & ⋯ & 0 & 0 & 0 & 0 & 0 & 0 & 0 & 0 & 0 & 0\\\\\n",
       "\t3 & LOC111110729 & 0 & 0 & 0 & 0 & 0 & 0 & 0 & 0 & 0 & ⋯ & 0 & 0 & 0 & 0 & 0 & 0 & 0 & 0 & 0 & 0\\\\\n",
       "\t4 & LOC111112434 & 0 & 0 & 0 & 0 & 0 & 0 & 0 & 2 & 0 & ⋯ & 0 & 0 & 0 & 0 & 0 & 0 & 0 & 0 & 0 & 0\\\\\n",
       "\t5 & LOC111120752 & 2 & 1 & 0 & 2 & 0 & 0 & 0 & 2 & 0 & ⋯ & 0 & 0 & 0 & 1 & 1 & 0 & 1 & 0 & 1 & 0\\\\\n",
       "\t6 & LOC111128944 & 0 & 0 & 0 & 0 & 0 & 0 & 0 & 0 & 0 & ⋯ & 0 & 0 & 0 & 0 & 0 & 0 & 0 & 0 & 0 & 0\\\\\n",
       "\\end{tabular}\n"
      ],
      "text/markdown": [
       "\n",
       "A data.frame: 6 × 31\n",
       "\n",
       "| <!--/--> | GeneID &lt;chr&gt; | BBB-WBO-B21 &lt;int&gt; | BPO-BPO-O16 &lt;int&gt; | WBR-BBY-W25 &lt;int&gt; | BBB-WBV-B70 &lt;int&gt; | BPR-BPG-O38 &lt;int&gt; | WBV-WBO-W23 &lt;int&gt; | BBO-BBO-B16 &lt;int&gt; | BPR-BPR-O02 &lt;int&gt; | WBV-WBR-W12 &lt;int&gt; | ⋯ ⋯ | WPO-BPO-G16 &lt;int&gt; | BBR-BBG-B38 &lt;int&gt; | WBG-WBG-W44 &lt;int&gt; | WPO-BPY-G28 &lt;int&gt; | BBR-BBY-B26 &lt;int&gt; | WBO-BBR-W03 &lt;int&gt; | WPR-BPY-G25 &lt;int&gt; | BBY-WBG-B42 &lt;int&gt; | WBO-WBV-W64 &lt;int&gt; | WPV-BPR-G11 &lt;int&gt; |\n",
       "|---|---|---|---|---|---|---|---|---|---|---|---|---|---|---|---|---|---|---|---|---|---|\n",
       "| 1 | LOC111116054 | 0 | 0 | 0 | 0 | 0 | 0 | 0 | 0 | 0 | ⋯ | 0 | 0 | 0 | 0 | 1 | 0 | 0 | 0 | 0 | 0 |\n",
       "| 2 | LOC111126949 | 0 | 0 | 0 | 0 | 0 | 0 | 0 | 0 | 0 | ⋯ | 0 | 0 | 0 | 0 | 0 | 0 | 0 | 0 | 0 | 0 |\n",
       "| 3 | LOC111110729 | 0 | 0 | 0 | 0 | 0 | 0 | 0 | 0 | 0 | ⋯ | 0 | 0 | 0 | 0 | 0 | 0 | 0 | 0 | 0 | 0 |\n",
       "| 4 | LOC111112434 | 0 | 0 | 0 | 0 | 0 | 0 | 0 | 2 | 0 | ⋯ | 0 | 0 | 0 | 0 | 0 | 0 | 0 | 0 | 0 | 0 |\n",
       "| 5 | LOC111120752 | 2 | 1 | 0 | 2 | 0 | 0 | 0 | 2 | 0 | ⋯ | 0 | 0 | 0 | 1 | 1 | 0 | 1 | 0 | 1 | 0 |\n",
       "| 6 | LOC111128944 | 0 | 0 | 0 | 0 | 0 | 0 | 0 | 0 | 0 | ⋯ | 0 | 0 | 0 | 0 | 0 | 0 | 0 | 0 | 0 | 0 |\n",
       "\n"
      ],
      "text/plain": [
       "  GeneID       BBB-WBO-B21 BPO-BPO-O16 WBR-BBY-W25 BBB-WBV-B70 BPR-BPG-O38\n",
       "1 LOC111116054 0           0           0           0           0          \n",
       "2 LOC111126949 0           0           0           0           0          \n",
       "3 LOC111110729 0           0           0           0           0          \n",
       "4 LOC111112434 0           0           0           0           0          \n",
       "5 LOC111120752 2           1           0           2           0          \n",
       "6 LOC111128944 0           0           0           0           0          \n",
       "  WBV-WBO-W23 BBO-BBO-B16 BPR-BPR-O02 WBV-WBR-W12 ⋯ WPO-BPO-G16 BBR-BBG-B38\n",
       "1 0           0           0           0           ⋯ 0           0          \n",
       "2 0           0           0           0           ⋯ 0           0          \n",
       "3 0           0           0           0           ⋯ 0           0          \n",
       "4 0           0           2           0           ⋯ 0           0          \n",
       "5 0           0           2           0           ⋯ 0           0          \n",
       "6 0           0           0           0           ⋯ 0           0          \n",
       "  WBG-WBG-W44 WPO-BPY-G28 BBR-BBY-B26 WBO-BBR-W03 WPR-BPY-G25 BBY-WBG-B42\n",
       "1 0           0           1           0           0           0          \n",
       "2 0           0           0           0           0           0          \n",
       "3 0           0           0           0           0           0          \n",
       "4 0           0           0           0           0           0          \n",
       "5 0           1           1           0           1           0          \n",
       "6 0           0           0           0           0           0          \n",
       "  WBO-WBV-W64 WPV-BPR-G11\n",
       "1 0           0          \n",
       "2 0           0          \n",
       "3 0           0          \n",
       "4 0           0          \n",
       "5 1           0          \n",
       "6 0           0          "
      ]
     },
     "metadata": {},
     "output_type": "display_data"
    }
   ],
   "source": [
    "# removing the extra info from the file name\n",
    "cleaned_column_names <- gsub(\"^X2018\\\\.\\\\.\", \"\", gsub(\"\\\\.CV_alignment\\\\.sam$\", \"\", colnames(counts)))\n",
    "head(cleaned_column_names)\n",
    "\n",
    "# replace the '.' with '-'\n",
    "cleaned_column_names2 <- gsub('\\\\.', \"-\", cleaned_column_names)\n",
    "head(cleaned_column_names2)\n",
    "\n",
    "# now assigning to the columns\n",
    "colnames(counts) = cleaned_column_names2\n",
    "head(counts)"
   ]
  },
  {
   "cell_type": "code",
   "execution_count": 4,
   "id": "decce38b-28a9-481b-9781-3d2a0b9cb581",
   "metadata": {},
   "outputs": [
    {
     "data": {
      "text/html": [
       "<table class=\"dataframe\">\n",
       "<caption>A data.frame: 6 × 30</caption>\n",
       "<thead>\n",
       "\t<tr><th></th><th scope=col>BBB-WBO-B21</th><th scope=col>BPO-BPO-O16</th><th scope=col>WBR-BBY-W25</th><th scope=col>BBB-WBV-B70</th><th scope=col>BPR-BPG-O38</th><th scope=col>WBV-WBO-W23</th><th scope=col>BBO-BBO-B16</th><th scope=col>BPR-BPR-O02</th><th scope=col>WBV-WBR-W12</th><th scope=col>BBO-BBY-B27</th><th scope=col>⋯</th><th scope=col>WPO-BPO-G16</th><th scope=col>BBR-BBG-B38</th><th scope=col>WBG-WBG-W44</th><th scope=col>WPO-BPY-G28</th><th scope=col>BBR-BBY-B26</th><th scope=col>WBO-BBR-W03</th><th scope=col>WPR-BPY-G25</th><th scope=col>BBY-WBG-B42</th><th scope=col>WBO-WBV-W64</th><th scope=col>WPV-BPR-G11</th></tr>\n",
       "\t<tr><th></th><th scope=col>&lt;int&gt;</th><th scope=col>&lt;int&gt;</th><th scope=col>&lt;int&gt;</th><th scope=col>&lt;int&gt;</th><th scope=col>&lt;int&gt;</th><th scope=col>&lt;int&gt;</th><th scope=col>&lt;int&gt;</th><th scope=col>&lt;int&gt;</th><th scope=col>&lt;int&gt;</th><th scope=col>&lt;int&gt;</th><th scope=col>⋯</th><th scope=col>&lt;int&gt;</th><th scope=col>&lt;int&gt;</th><th scope=col>&lt;int&gt;</th><th scope=col>&lt;int&gt;</th><th scope=col>&lt;int&gt;</th><th scope=col>&lt;int&gt;</th><th scope=col>&lt;int&gt;</th><th scope=col>&lt;int&gt;</th><th scope=col>&lt;int&gt;</th><th scope=col>&lt;int&gt;</th></tr>\n",
       "</thead>\n",
       "<tbody>\n",
       "\t<tr><th scope=row>LOC111116054</th><td>0</td><td>0</td><td>0</td><td>0</td><td>0</td><td>0</td><td>0</td><td>0</td><td>0</td><td>0</td><td>⋯</td><td>0</td><td>0</td><td>0</td><td>0</td><td>1</td><td>0</td><td>0</td><td>0</td><td>0</td><td>0</td></tr>\n",
       "\t<tr><th scope=row>LOC111126949</th><td>0</td><td>0</td><td>0</td><td>0</td><td>0</td><td>0</td><td>0</td><td>0</td><td>0</td><td>0</td><td>⋯</td><td>0</td><td>0</td><td>0</td><td>0</td><td>0</td><td>0</td><td>0</td><td>0</td><td>0</td><td>0</td></tr>\n",
       "\t<tr><th scope=row>LOC111110729</th><td>0</td><td>0</td><td>0</td><td>0</td><td>0</td><td>0</td><td>0</td><td>0</td><td>0</td><td>0</td><td>⋯</td><td>0</td><td>0</td><td>0</td><td>0</td><td>0</td><td>0</td><td>0</td><td>0</td><td>0</td><td>0</td></tr>\n",
       "\t<tr><th scope=row>LOC111112434</th><td>0</td><td>0</td><td>0</td><td>0</td><td>0</td><td>0</td><td>0</td><td>2</td><td>0</td><td>0</td><td>⋯</td><td>0</td><td>0</td><td>0</td><td>0</td><td>0</td><td>0</td><td>0</td><td>0</td><td>0</td><td>0</td></tr>\n",
       "\t<tr><th scope=row>LOC111120752</th><td>2</td><td>1</td><td>0</td><td>2</td><td>0</td><td>0</td><td>0</td><td>2</td><td>0</td><td>0</td><td>⋯</td><td>0</td><td>0</td><td>0</td><td>1</td><td>1</td><td>0</td><td>1</td><td>0</td><td>1</td><td>0</td></tr>\n",
       "\t<tr><th scope=row>LOC111128944</th><td>0</td><td>0</td><td>0</td><td>0</td><td>0</td><td>0</td><td>0</td><td>0</td><td>0</td><td>0</td><td>⋯</td><td>0</td><td>0</td><td>0</td><td>0</td><td>0</td><td>0</td><td>0</td><td>0</td><td>0</td><td>0</td></tr>\n",
       "</tbody>\n",
       "</table>\n"
      ],
      "text/latex": [
       "A data.frame: 6 × 30\n",
       "\\begin{tabular}{r|lllllllllllllllllllll}\n",
       "  & BBB-WBO-B21 & BPO-BPO-O16 & WBR-BBY-W25 & BBB-WBV-B70 & BPR-BPG-O38 & WBV-WBO-W23 & BBO-BBO-B16 & BPR-BPR-O02 & WBV-WBR-W12 & BBO-BBY-B27 & ⋯ & WPO-BPO-G16 & BBR-BBG-B38 & WBG-WBG-W44 & WPO-BPY-G28 & BBR-BBY-B26 & WBO-BBR-W03 & WPR-BPY-G25 & BBY-WBG-B42 & WBO-WBV-W64 & WPV-BPR-G11\\\\\n",
       "  & <int> & <int> & <int> & <int> & <int> & <int> & <int> & <int> & <int> & <int> & ⋯ & <int> & <int> & <int> & <int> & <int> & <int> & <int> & <int> & <int> & <int>\\\\\n",
       "\\hline\n",
       "\tLOC111116054 & 0 & 0 & 0 & 0 & 0 & 0 & 0 & 0 & 0 & 0 & ⋯ & 0 & 0 & 0 & 0 & 1 & 0 & 0 & 0 & 0 & 0\\\\\n",
       "\tLOC111126949 & 0 & 0 & 0 & 0 & 0 & 0 & 0 & 0 & 0 & 0 & ⋯ & 0 & 0 & 0 & 0 & 0 & 0 & 0 & 0 & 0 & 0\\\\\n",
       "\tLOC111110729 & 0 & 0 & 0 & 0 & 0 & 0 & 0 & 0 & 0 & 0 & ⋯ & 0 & 0 & 0 & 0 & 0 & 0 & 0 & 0 & 0 & 0\\\\\n",
       "\tLOC111112434 & 0 & 0 & 0 & 0 & 0 & 0 & 0 & 2 & 0 & 0 & ⋯ & 0 & 0 & 0 & 0 & 0 & 0 & 0 & 0 & 0 & 0\\\\\n",
       "\tLOC111120752 & 2 & 1 & 0 & 2 & 0 & 0 & 0 & 2 & 0 & 0 & ⋯ & 0 & 0 & 0 & 1 & 1 & 0 & 1 & 0 & 1 & 0\\\\\n",
       "\tLOC111128944 & 0 & 0 & 0 & 0 & 0 & 0 & 0 & 0 & 0 & 0 & ⋯ & 0 & 0 & 0 & 0 & 0 & 0 & 0 & 0 & 0 & 0\\\\\n",
       "\\end{tabular}\n"
      ],
      "text/markdown": [
       "\n",
       "A data.frame: 6 × 30\n",
       "\n",
       "| <!--/--> | BBB-WBO-B21 &lt;int&gt; | BPO-BPO-O16 &lt;int&gt; | WBR-BBY-W25 &lt;int&gt; | BBB-WBV-B70 &lt;int&gt; | BPR-BPG-O38 &lt;int&gt; | WBV-WBO-W23 &lt;int&gt; | BBO-BBO-B16 &lt;int&gt; | BPR-BPR-O02 &lt;int&gt; | WBV-WBR-W12 &lt;int&gt; | BBO-BBY-B27 &lt;int&gt; | ⋯ ⋯ | WPO-BPO-G16 &lt;int&gt; | BBR-BBG-B38 &lt;int&gt; | WBG-WBG-W44 &lt;int&gt; | WPO-BPY-G28 &lt;int&gt; | BBR-BBY-B26 &lt;int&gt; | WBO-BBR-W03 &lt;int&gt; | WPR-BPY-G25 &lt;int&gt; | BBY-WBG-B42 &lt;int&gt; | WBO-WBV-W64 &lt;int&gt; | WPV-BPR-G11 &lt;int&gt; |\n",
       "|---|---|---|---|---|---|---|---|---|---|---|---|---|---|---|---|---|---|---|---|---|---|\n",
       "| LOC111116054 | 0 | 0 | 0 | 0 | 0 | 0 | 0 | 0 | 0 | 0 | ⋯ | 0 | 0 | 0 | 0 | 1 | 0 | 0 | 0 | 0 | 0 |\n",
       "| LOC111126949 | 0 | 0 | 0 | 0 | 0 | 0 | 0 | 0 | 0 | 0 | ⋯ | 0 | 0 | 0 | 0 | 0 | 0 | 0 | 0 | 0 | 0 |\n",
       "| LOC111110729 | 0 | 0 | 0 | 0 | 0 | 0 | 0 | 0 | 0 | 0 | ⋯ | 0 | 0 | 0 | 0 | 0 | 0 | 0 | 0 | 0 | 0 |\n",
       "| LOC111112434 | 0 | 0 | 0 | 0 | 0 | 0 | 0 | 2 | 0 | 0 | ⋯ | 0 | 0 | 0 | 0 | 0 | 0 | 0 | 0 | 0 | 0 |\n",
       "| LOC111120752 | 2 | 1 | 0 | 2 | 0 | 0 | 0 | 2 | 0 | 0 | ⋯ | 0 | 0 | 0 | 1 | 1 | 0 | 1 | 0 | 1 | 0 |\n",
       "| LOC111128944 | 0 | 0 | 0 | 0 | 0 | 0 | 0 | 0 | 0 | 0 | ⋯ | 0 | 0 | 0 | 0 | 0 | 0 | 0 | 0 | 0 | 0 |\n",
       "\n"
      ],
      "text/plain": [
       "             BBB-WBO-B21 BPO-BPO-O16 WBR-BBY-W25 BBB-WBV-B70 BPR-BPG-O38\n",
       "LOC111116054 0           0           0           0           0          \n",
       "LOC111126949 0           0           0           0           0          \n",
       "LOC111110729 0           0           0           0           0          \n",
       "LOC111112434 0           0           0           0           0          \n",
       "LOC111120752 2           1           0           2           0          \n",
       "LOC111128944 0           0           0           0           0          \n",
       "             WBV-WBO-W23 BBO-BBO-B16 BPR-BPR-O02 WBV-WBR-W12 BBO-BBY-B27 ⋯\n",
       "LOC111116054 0           0           0           0           0           ⋯\n",
       "LOC111126949 0           0           0           0           0           ⋯\n",
       "LOC111110729 0           0           0           0           0           ⋯\n",
       "LOC111112434 0           0           2           0           0           ⋯\n",
       "LOC111120752 0           0           2           0           0           ⋯\n",
       "LOC111128944 0           0           0           0           0           ⋯\n",
       "             WPO-BPO-G16 BBR-BBG-B38 WBG-WBG-W44 WPO-BPY-G28 BBR-BBY-B26\n",
       "LOC111116054 0           0           0           0           1          \n",
       "LOC111126949 0           0           0           0           0          \n",
       "LOC111110729 0           0           0           0           0          \n",
       "LOC111112434 0           0           0           0           0          \n",
       "LOC111120752 0           0           0           1           1          \n",
       "LOC111128944 0           0           0           0           0          \n",
       "             WBO-BBR-W03 WPR-BPY-G25 BBY-WBG-B42 WBO-WBV-W64 WPV-BPR-G11\n",
       "LOC111116054 0           0           0           0           0          \n",
       "LOC111126949 0           0           0           0           0          \n",
       "LOC111110729 0           0           0           0           0          \n",
       "LOC111112434 0           0           0           0           0          \n",
       "LOC111120752 0           1           0           1           0          \n",
       "LOC111128944 0           0           0           0           0          "
      ]
     },
     "metadata": {},
     "output_type": "display_data"
    }
   ],
   "source": [
    "# setting the gene name as the row name and deleting that column\n",
    "rownames(counts) <- counts$GeneID\n",
    "counts2 <- counts[-1]\n",
    "\n",
    "head(counts2)"
   ]
  },
  {
   "cell_type": "code",
   "execution_count": 5,
   "id": "acd74ce6-d016-400e-b0fd-d2ee9de5194d",
   "metadata": {},
   "outputs": [
    {
     "data": {
      "text/html": [
       "<style>\n",
       ".list-inline {list-style: none; margin:0; padding: 0}\n",
       ".list-inline>li {display: inline-block}\n",
       ".list-inline>li:not(:last-child)::after {content: \"\\00b7\"; padding: 0 .5ex}\n",
       "</style>\n",
       "<ol class=list-inline><li>13544</li><li>30</li></ol>\n"
      ],
      "text/latex": [
       "\\begin{enumerate*}\n",
       "\\item 13544\n",
       "\\item 30\n",
       "\\end{enumerate*}\n"
      ],
      "text/markdown": [
       "1. 13544\n",
       "2. 30\n",
       "\n",
       "\n"
      ],
      "text/plain": [
       "[1] 13544    30"
      ]
     },
     "metadata": {},
     "output_type": "display_data"
    }
   ],
   "source": [
    "# removing rows that have really low counts\n",
    "counts2 <- counts2[-which(rowSums(counts2[sapply(counts2, is.numeric)]) < 10),]\n",
    "dim(counts2)"
   ]
  },
  {
   "cell_type": "markdown",
   "id": "f0f87418-75bf-48f9-baeb-c5ce9e44f464",
   "metadata": {},
   "source": [
    "**sample meta data table** which includes info about treatments"
   ]
  },
  {
   "cell_type": "code",
   "execution_count": 6,
   "id": "14732d4f-a08e-41b3-b400-13c575477174",
   "metadata": {},
   "outputs": [
    {
     "data": {
      "text/html": [
       "<table class=\"dataframe\">\n",
       "<caption>A data.frame: 6 × 2</caption>\n",
       "<thead>\n",
       "\t<tr><th></th><th scope=col>Phase1</th><th scope=col>Phase2</th></tr>\n",
       "\t<tr><th></th><th scope=col>&lt;chr&gt;</th><th scope=col>&lt;chr&gt;</th></tr>\n",
       "</thead>\n",
       "<tbody>\n",
       "\t<tr><th scope=row>BBB-WBO-B21</th><td>hypoxic</td><td>control</td></tr>\n",
       "\t<tr><th scope=row>BBB-WBV-B70</th><td>hypoxic</td><td>control</td></tr>\n",
       "\t<tr><th scope=row>BBO-BBO-B16</th><td>hypoxic</td><td>hypoxic</td></tr>\n",
       "\t<tr><th scope=row>BBO-BBY-B27</th><td>hypoxic</td><td>hypoxic</td></tr>\n",
       "\t<tr><th scope=row>BBO-WBO-B16</th><td>hypoxic</td><td>control</td></tr>\n",
       "\t<tr><th scope=row>BBO-WBV-B64</th><td>hypoxic</td><td>control</td></tr>\n",
       "</tbody>\n",
       "</table>\n"
      ],
      "text/latex": [
       "A data.frame: 6 × 2\n",
       "\\begin{tabular}{r|ll}\n",
       "  & Phase1 & Phase2\\\\\n",
       "  & <chr> & <chr>\\\\\n",
       "\\hline\n",
       "\tBBB-WBO-B21 & hypoxic & control\\\\\n",
       "\tBBB-WBV-B70 & hypoxic & control\\\\\n",
       "\tBBO-BBO-B16 & hypoxic & hypoxic\\\\\n",
       "\tBBO-BBY-B27 & hypoxic & hypoxic\\\\\n",
       "\tBBO-WBO-B16 & hypoxic & control\\\\\n",
       "\tBBO-WBV-B64 & hypoxic & control\\\\\n",
       "\\end{tabular}\n"
      ],
      "text/markdown": [
       "\n",
       "A data.frame: 6 × 2\n",
       "\n",
       "| <!--/--> | Phase1 &lt;chr&gt; | Phase2 &lt;chr&gt; |\n",
       "|---|---|---|\n",
       "| BBB-WBO-B21 | hypoxic | control |\n",
       "| BBB-WBV-B70 | hypoxic | control |\n",
       "| BBO-BBO-B16 | hypoxic | hypoxic |\n",
       "| BBO-BBY-B27 | hypoxic | hypoxic |\n",
       "| BBO-WBO-B16 | hypoxic | control |\n",
       "| BBO-WBV-B64 | hypoxic | control |\n",
       "\n"
      ],
      "text/plain": [
       "            Phase1  Phase2 \n",
       "BBB-WBO-B21 hypoxic control\n",
       "BBB-WBV-B70 hypoxic control\n",
       "BBO-BBO-B16 hypoxic hypoxic\n",
       "BBO-BBY-B27 hypoxic hypoxic\n",
       "BBO-WBO-B16 hypoxic control\n",
       "BBO-WBV-B64 hypoxic control"
      ]
     },
     "metadata": {},
     "output_type": "display_data"
    }
   ],
   "source": [
    "meta <- read.csv('/project/pi_sarah_gignouxwolfsohn_uml_edu/julia/CE_MethylRAD_analysis_2018/analysis/counts_and_meta/CV_CE18_meta.csv')\n",
    "\n",
    "# changing rownames to the unique sample ID\n",
    "rownames(meta) <- meta$unique_ID\n",
    "\n",
    "# pulling out only the rows I need\n",
    "meta <- select(meta, Phase1, Phase2)\n",
    "head(meta)"
   ]
  },
  {
   "cell_type": "markdown",
   "id": "26b24a73-3601-4a81-859f-f6b6dd775861",
   "metadata": {},
   "source": [
    "for analysis - sample names need to be in the same order for the counts matrix and meta data"
   ]
  },
  {
   "cell_type": "code",
   "execution_count": 7,
   "id": "e2176502-9118-4ea2-a431-a5a817654777",
   "metadata": {},
   "outputs": [
    {
     "data": {
      "text/html": [
       "FALSE"
      ],
      "text/latex": [
       "FALSE"
      ],
      "text/markdown": [
       "FALSE"
      ],
      "text/plain": [
       "[1] FALSE"
      ]
     },
     "metadata": {},
     "output_type": "display_data"
    }
   ],
   "source": [
    "# checking if samples are in the right order\n",
    "all(rownames(meta) == colnames(counts2)) # FALSE - not in the same order"
   ]
  },
  {
   "cell_type": "code",
   "execution_count": 8,
   "id": "e4327dc5-0ad2-44aa-accb-c7ee1f2d3b1d",
   "metadata": {},
   "outputs": [
    {
     "data": {
      "text/html": [
       "TRUE"
      ],
      "text/latex": [
       "TRUE"
      ],
      "text/markdown": [
       "TRUE"
      ],
      "text/plain": [
       "[1] TRUE"
      ]
     },
     "metadata": {},
     "output_type": "display_data"
    }
   ],
   "source": [
    "# setting the same order for counts matrix and meta data\n",
    "counts2 <- counts2[,rownames(meta)]\n",
    "all(rownames(meta) == colnames(counts2))"
   ]
  },
  {
   "cell_type": "code",
   "execution_count": 9,
   "id": "8a2ad911-a3df-4793-9b7c-2e960491ee39",
   "metadata": {},
   "outputs": [
    {
     "data": {
      "text/html": [
       "<style>\n",
       ".list-inline {list-style: none; margin:0; padding: 0}\n",
       ".list-inline>li {display: inline-block}\n",
       ".list-inline>li:not(:last-child)::after {content: \"\\00b7\"; padding: 0 .5ex}\n",
       "</style>\n",
       "<ol class=list-inline><li>30</li><li>2</li></ol>\n"
      ],
      "text/latex": [
       "\\begin{enumerate*}\n",
       "\\item 30\n",
       "\\item 2\n",
       "\\end{enumerate*}\n"
      ],
      "text/markdown": [
       "1. 30\n",
       "2. 2\n",
       "\n",
       "\n"
      ],
      "text/plain": [
       "[1] 30  2"
      ]
     },
     "metadata": {},
     "output_type": "display_data"
    },
    {
     "data": {
      "text/html": [
       "<style>\n",
       ".list-inline {list-style: none; margin:0; padding: 0}\n",
       ".list-inline>li {display: inline-block}\n",
       ".list-inline>li:not(:last-child)::after {content: \"\\00b7\"; padding: 0 .5ex}\n",
       "</style>\n",
       "<ol class=list-inline><li>13544</li><li>30</li></ol>\n"
      ],
      "text/latex": [
       "\\begin{enumerate*}\n",
       "\\item 13544\n",
       "\\item 30\n",
       "\\end{enumerate*}\n"
      ],
      "text/markdown": [
       "1. 13544\n",
       "2. 30\n",
       "\n",
       "\n"
      ],
      "text/plain": [
       "[1] 13544    30"
      ]
     },
     "metadata": {},
     "output_type": "display_data"
    }
   ],
   "source": [
    "# checking dimensions\n",
    "dim(meta) # 30 rows\n",
    "dim(counts2) # 30 columns"
   ]
  },
  {
   "cell_type": "code",
   "execution_count": 11,
   "id": "c80f629e-2d3c-45b3-8d24-6165ca8fa658",
   "metadata": {},
   "outputs": [
    {
     "data": {
      "text/html": [
       "<table class=\"dataframe\">\n",
       "<caption>A data.frame: 6 × 3</caption>\n",
       "<thead>\n",
       "\t<tr><th></th><th scope=col>Phase1</th><th scope=col>Phase2</th><th scope=col>treatment</th></tr>\n",
       "\t<tr><th></th><th scope=col>&lt;chr&gt;</th><th scope=col>&lt;chr&gt;</th><th scope=col>&lt;chr&gt;</th></tr>\n",
       "</thead>\n",
       "<tbody>\n",
       "\t<tr><th scope=row>BBB-WBO-B21</th><td>hypoxic</td><td>control</td><td>hypoxic control</td></tr>\n",
       "\t<tr><th scope=row>BBB-WBV-B70</th><td>hypoxic</td><td>control</td><td>hypoxic control</td></tr>\n",
       "\t<tr><th scope=row>BBO-BBO-B16</th><td>hypoxic</td><td>hypoxic</td><td>hypoxic hypoxic</td></tr>\n",
       "\t<tr><th scope=row>BBO-BBY-B27</th><td>hypoxic</td><td>hypoxic</td><td>hypoxic hypoxic</td></tr>\n",
       "\t<tr><th scope=row>BBO-WBO-B16</th><td>hypoxic</td><td>control</td><td>hypoxic control</td></tr>\n",
       "\t<tr><th scope=row>BBO-WBV-B64</th><td>hypoxic</td><td>control</td><td>hypoxic control</td></tr>\n",
       "</tbody>\n",
       "</table>\n"
      ],
      "text/latex": [
       "A data.frame: 6 × 3\n",
       "\\begin{tabular}{r|lll}\n",
       "  & Phase1 & Phase2 & treatment\\\\\n",
       "  & <chr> & <chr> & <chr>\\\\\n",
       "\\hline\n",
       "\tBBB-WBO-B21 & hypoxic & control & hypoxic control\\\\\n",
       "\tBBB-WBV-B70 & hypoxic & control & hypoxic control\\\\\n",
       "\tBBO-BBO-B16 & hypoxic & hypoxic & hypoxic hypoxic\\\\\n",
       "\tBBO-BBY-B27 & hypoxic & hypoxic & hypoxic hypoxic\\\\\n",
       "\tBBO-WBO-B16 & hypoxic & control & hypoxic control\\\\\n",
       "\tBBO-WBV-B64 & hypoxic & control & hypoxic control\\\\\n",
       "\\end{tabular}\n"
      ],
      "text/markdown": [
       "\n",
       "A data.frame: 6 × 3\n",
       "\n",
       "| <!--/--> | Phase1 &lt;chr&gt; | Phase2 &lt;chr&gt; | treatment &lt;chr&gt; |\n",
       "|---|---|---|---|\n",
       "| BBB-WBO-B21 | hypoxic | control | hypoxic control |\n",
       "| BBB-WBV-B70 | hypoxic | control | hypoxic control |\n",
       "| BBO-BBO-B16 | hypoxic | hypoxic | hypoxic hypoxic |\n",
       "| BBO-BBY-B27 | hypoxic | hypoxic | hypoxic hypoxic |\n",
       "| BBO-WBO-B16 | hypoxic | control | hypoxic control |\n",
       "| BBO-WBV-B64 | hypoxic | control | hypoxic control |\n",
       "\n"
      ],
      "text/plain": [
       "            Phase1  Phase2  treatment      \n",
       "BBB-WBO-B21 hypoxic control hypoxic control\n",
       "BBB-WBV-B70 hypoxic control hypoxic control\n",
       "BBO-BBO-B16 hypoxic hypoxic hypoxic hypoxic\n",
       "BBO-BBY-B27 hypoxic hypoxic hypoxic hypoxic\n",
       "BBO-WBO-B16 hypoxic control hypoxic control\n",
       "BBO-WBV-B64 hypoxic control hypoxic control"
      ]
     },
     "metadata": {},
     "output_type": "display_data"
    }
   ],
   "source": [
    "meta$treatment <- paste(meta$Phase1, meta$Phase2)\n",
    "head(meta)"
   ]
  },
  {
   "cell_type": "code",
   "execution_count": 15,
   "id": "f0e249fa-8eb1-410c-9eab-ba247dd5240a",
   "metadata": {},
   "outputs": [
    {
     "ename": "ERROR",
     "evalue": "Error in getVennCounts.data.frame(data, universe = universe, intersections = intersections): Only indicator columns permitted\n",
     "output_type": "error",
     "traceback": [
      "Error in getVennCounts.data.frame(data, universe = universe, intersections = intersections): Only indicator columns permitted\nTraceback:\n",
      "1. venn(counts)",
      "2. getVennCounts(data, universe = universe, intersections = intersections)",
      "3. getVennCounts.data.frame(data, universe = universe, intersections = intersections)",
      "4. stop(\"Only indicator columns permitted\")"
     ]
    }
   ],
   "source": [
    "venn(counts)"
   ]
  }
 ],
 "metadata": {
  "kernelspec": {
   "display_name": "R [conda env:.conda-r-env]",
   "language": "R",
   "name": "conda-env-.conda-r-env-r"
  },
  "language_info": {
   "codemirror_mode": "r",
   "file_extension": ".r",
   "mimetype": "text/x-r-source",
   "name": "R",
   "pygments_lexer": "r",
   "version": "4.3.2"
  }
 },
 "nbformat": 4,
 "nbformat_minor": 5
}
