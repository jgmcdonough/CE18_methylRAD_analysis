{
 "cells": [
  {
   "cell_type": "markdown",
   "id": "d7eb30ad-bd2b-4072-9d4c-aab035ae7d87",
   "metadata": {},
   "source": [
    "# CV 2018 Differential Methylation Analysis\n",
    "- data generated from NSF preliminary experiment, collected by Sarah Gignoux-Wolfsohn \n",
    "- using the counts data generated from htseq-counts as well as the GTF annotation file and meta data to analyze and identify differentially methylated genes"
   ]
  },
  {
   "cell_type": "code",
   "execution_count": 1,
   "id": "ef0daac7-a801-4884-a9fc-94b6d061d349",
   "metadata": {},
   "outputs": [],
   "source": [
    "# changes size of plots\n",
    "options(repr.plot.width=15, repr.plot.height=15)"
   ]
  },
  {
   "cell_type": "markdown",
   "id": "fe3d0a6b-9822-4af3-8260-810baa80f639",
   "metadata": {},
   "source": [
    "#### installing packages\n",
    "DESeq2, dplyr, EnhancedVolcano"
   ]
  },
  {
   "cell_type": "code",
   "execution_count": 2,
   "id": "f8fc93e2-afcd-4aca-9ef5-7e425df1d65c",
   "metadata": {},
   "outputs": [
    {
     "name": "stderr",
     "output_type": "stream",
     "text": [
      "Loading required package: S4Vectors\n",
      "\n",
      "Loading required package: stats4\n",
      "\n",
      "Loading required package: BiocGenerics\n",
      "\n",
      "\n",
      "Attaching package: ‘BiocGenerics’\n",
      "\n",
      "\n",
      "The following objects are masked from ‘package:stats’:\n",
      "\n",
      "    IQR, mad, sd, var, xtabs\n",
      "\n",
      "\n",
      "The following objects are masked from ‘package:base’:\n",
      "\n",
      "    anyDuplicated, aperm, append, as.data.frame, basename, cbind,\n",
      "    colnames, dirname, do.call, duplicated, eval, evalq, Filter, Find,\n",
      "    get, grep, grepl, intersect, is.unsorted, lapply, Map, mapply,\n",
      "    match, mget, order, paste, pmax, pmax.int, pmin, pmin.int,\n",
      "    Position, rank, rbind, Reduce, rownames, sapply, setdiff, sort,\n",
      "    table, tapply, union, unique, unsplit, which.max, which.min\n",
      "\n",
      "\n",
      "\n",
      "Attaching package: ‘S4Vectors’\n",
      "\n",
      "\n",
      "The following object is masked from ‘package:utils’:\n",
      "\n",
      "    findMatches\n",
      "\n",
      "\n",
      "The following objects are masked from ‘package:base’:\n",
      "\n",
      "    expand.grid, I, unname\n",
      "\n",
      "\n",
      "Loading required package: IRanges\n",
      "\n",
      "Loading required package: GenomicRanges\n",
      "\n",
      "Loading required package: GenomeInfoDb\n",
      "\n",
      "Loading required package: SummarizedExperiment\n",
      "\n",
      "Loading required package: MatrixGenerics\n",
      "\n",
      "Loading required package: matrixStats\n",
      "\n",
      "\n",
      "Attaching package: ‘MatrixGenerics’\n",
      "\n",
      "\n",
      "The following objects are masked from ‘package:matrixStats’:\n",
      "\n",
      "    colAlls, colAnyNAs, colAnys, colAvgsPerRowSet, colCollapse,\n",
      "    colCounts, colCummaxs, colCummins, colCumprods, colCumsums,\n",
      "    colDiffs, colIQRDiffs, colIQRs, colLogSumExps, colMadDiffs,\n",
      "    colMads, colMaxs, colMeans2, colMedians, colMins, colOrderStats,\n",
      "    colProds, colQuantiles, colRanges, colRanks, colSdDiffs, colSds,\n",
      "    colSums2, colTabulates, colVarDiffs, colVars, colWeightedMads,\n",
      "    colWeightedMeans, colWeightedMedians, colWeightedSds,\n",
      "    colWeightedVars, rowAlls, rowAnyNAs, rowAnys, rowAvgsPerColSet,\n",
      "    rowCollapse, rowCounts, rowCummaxs, rowCummins, rowCumprods,\n",
      "    rowCumsums, rowDiffs, rowIQRDiffs, rowIQRs, rowLogSumExps,\n",
      "    rowMadDiffs, rowMads, rowMaxs, rowMeans2, rowMedians, rowMins,\n",
      "    rowOrderStats, rowProds, rowQuantiles, rowRanges, rowRanks,\n",
      "    rowSdDiffs, rowSds, rowSums2, rowTabulates, rowVarDiffs, rowVars,\n",
      "    rowWeightedMads, rowWeightedMeans, rowWeightedMedians,\n",
      "    rowWeightedSds, rowWeightedVars\n",
      "\n",
      "\n",
      "Loading required package: Biobase\n",
      "\n",
      "Welcome to Bioconductor\n",
      "\n",
      "    Vignettes contain introductory material; view with\n",
      "    'browseVignettes()'. To cite Bioconductor, see\n",
      "    'citation(\"Biobase\")', and for packages 'citation(\"pkgname\")'.\n",
      "\n",
      "\n",
      "\n",
      "Attaching package: ‘Biobase’\n",
      "\n",
      "\n",
      "The following object is masked from ‘package:MatrixGenerics’:\n",
      "\n",
      "    rowMedians\n",
      "\n",
      "\n",
      "The following objects are masked from ‘package:matrixStats’:\n",
      "\n",
      "    anyMissing, rowMedians\n",
      "\n",
      "\n"
     ]
    }
   ],
   "source": [
    "library(DESeq2)\n",
    "# this only works when i'm in r-env"
   ]
  },
  {
   "cell_type": "code",
   "execution_count": 3,
   "id": "ebf0a0c6-c1ed-4774-93ee-302a1b73b884",
   "metadata": {},
   "outputs": [
    {
     "name": "stderr",
     "output_type": "stream",
     "text": [
      "\n",
      "Attaching package: ‘dplyr’\n",
      "\n",
      "\n",
      "The following object is masked from ‘package:Biobase’:\n",
      "\n",
      "    combine\n",
      "\n",
      "\n",
      "The following object is masked from ‘package:matrixStats’:\n",
      "\n",
      "    count\n",
      "\n",
      "\n",
      "The following objects are masked from ‘package:GenomicRanges’:\n",
      "\n",
      "    intersect, setdiff, union\n",
      "\n",
      "\n",
      "The following object is masked from ‘package:GenomeInfoDb’:\n",
      "\n",
      "    intersect\n",
      "\n",
      "\n",
      "The following objects are masked from ‘package:IRanges’:\n",
      "\n",
      "    collapse, desc, intersect, setdiff, slice, union\n",
      "\n",
      "\n",
      "The following objects are masked from ‘package:S4Vectors’:\n",
      "\n",
      "    first, intersect, rename, setdiff, setequal, union\n",
      "\n",
      "\n",
      "The following objects are masked from ‘package:BiocGenerics’:\n",
      "\n",
      "    combine, intersect, setdiff, union\n",
      "\n",
      "\n",
      "The following objects are masked from ‘package:stats’:\n",
      "\n",
      "    filter, lag\n",
      "\n",
      "\n",
      "The following objects are masked from ‘package:base’:\n",
      "\n",
      "    intersect, setdiff, setequal, union\n",
      "\n",
      "\n"
     ]
    }
   ],
   "source": [
    "library(dplyr)"
   ]
  },
  {
   "cell_type": "code",
   "execution_count": 4,
   "id": "801a5d5f-1a3d-453b-9930-216c9157218f",
   "metadata": {},
   "outputs": [
    {
     "name": "stderr",
     "output_type": "stream",
     "text": [
      "'getOption(\"repos\")' replaces Bioconductor standard repositories, see\n",
      "'help(\"repositories\", package = \"BiocManager\")' for details.\n",
      "Replacement repositories:\n",
      "    CRAN: https://cran.r-project.org\n",
      "\n",
      "Bioconductor version 3.18 (BiocManager 1.30.22), R 4.3.2 (2023-10-31)\n",
      "\n",
      "Warning message:\n",
      "“package(s) not installed when version(s) same as or greater than current; use\n",
      "  `force = TRUE` to re-install: 'EnhancedVolcano'”\n",
      "Old packages: 'BH', 'biomaRt', 'Biostrings', 'brew', 'brio', 'bslib', 'callr',\n",
      "  'commonmark', 'cowplot', 'curl', 'data.table', 'DBI', 'desc', 'digest', 'DT',\n",
      "  'GenomeInfoDb', 'GenomicAlignments', 'GenomicFeatures', 'ggforce', 'ggfun',\n",
      "  'ggnewscale', 'ggplot2', 'ggraph', 'ggrepel', 'ggtree', 'glue', 'GOSemSim',\n",
      "  'graphlayouts', 'haven', 'htmlwidgets', 'httpuv', 'igraph', 'MASS', 'Matrix',\n",
      "  'mgcv', 'nlme', 'patchwork', 'pbdZMQ', 'pkgbuild', 'pkgload', 'ps', 'ragg',\n",
      "  'Rcpp', 'RcppArmadillo', 'RCurl', 'readr', 'reprex', 'Rhtslib', 'rlang',\n",
      "  'RUnit', 'rvest', 'scales', 'shadowtext', 'shiny', 'SparseArray', 'testthat',\n",
      "  'tidygraph', 'tidyr', 'timechange', 'tweenr', 'uuid', 'viridis', 'vroom',\n",
      "  'withr', 'xfun', 'XML', 'xml2', 'yulab.utils', 'zip'\n",
      "\n"
     ]
    }
   ],
   "source": [
    "if (!require(\"BiocManager\", quietly = TRUE))\n",
    "    install.packages(\"BiocManager\")\n",
    "\n",
    "BiocManager::install(\"EnhancedVolcano\")"
   ]
  },
  {
   "cell_type": "code",
   "execution_count": 5,
   "id": "a81fbab5-2ee0-4c63-8bbb-62181ecb4571",
   "metadata": {},
   "outputs": [
    {
     "name": "stderr",
     "output_type": "stream",
     "text": [
      "Loading required package: ggplot2\n",
      "\n",
      "Loading required package: ggrepel\n",
      "\n"
     ]
    }
   ],
   "source": [
    "library(EnhancedVolcano)"
   ]
  },
  {
   "cell_type": "markdown",
   "id": "a19b0d6f-e130-4afc-b2d6-b91cc24d0551",
   "metadata": {},
   "source": [
    "### loading in data frames\n",
    "specifically the meta data, counts matrices, and gtf file"
   ]
  },
  {
   "cell_type": "code",
   "execution_count": 6,
   "id": "c8fd5a7c-dc6e-4c5c-82d9-099091fa2abb",
   "metadata": {},
   "outputs": [
    {
     "data": {
      "text/html": [
       "<table class=\"dataframe\">\n",
       "<caption>A data.frame: 6 × 13</caption>\n",
       "<thead>\n",
       "\t<tr><th></th><th scope=col>sample_ID</th><th scope=col>unique_ID</th><th scope=col>T1_code</th><th scope=col>T2_code</th><th scope=col>ID_code</th><th scope=col>T1_oxygen</th><th scope=col>T1_temp</th><th scope=col>Tank1</th><th scope=col>T2_oxygen</th><th scope=col>T2_temp</th><th scope=col>Tank2</th><th scope=col>Phase1</th><th scope=col>Phase2</th></tr>\n",
       "\t<tr><th></th><th scope=col>&lt;chr&gt;</th><th scope=col>&lt;chr&gt;</th><th scope=col>&lt;chr&gt;</th><th scope=col>&lt;chr&gt;</th><th scope=col>&lt;chr&gt;</th><th scope=col>&lt;chr&gt;</th><th scope=col>&lt;chr&gt;</th><th scope=col>&lt;chr&gt;</th><th scope=col>&lt;chr&gt;</th><th scope=col>&lt;chr&gt;</th><th scope=col>&lt;chr&gt;</th><th scope=col>&lt;chr&gt;</th><th scope=col>&lt;chr&gt;</th></tr>\n",
       "</thead>\n",
       "<tbody>\n",
       "\t<tr><th scope=row>1</th><td>2018--BBB-WBO-B21-CV</td><td>BBB-WBO-B21</td><td>BBB</td><td>WBO</td><td>B21</td><td>hypoxic</td><td>ambient</td><td>B</td><td>normoxic</td><td>ambient</td><td>O</td><td>hypoxic</td><td>control</td></tr>\n",
       "\t<tr><th scope=row>2</th><td>2018--BBB-WBV-B70-CV</td><td>BBB-WBV-B70</td><td>BBB</td><td>WBV</td><td>B70</td><td>hypoxic</td><td>ambient</td><td>B</td><td>normoxic</td><td>ambient</td><td>V</td><td>hypoxic</td><td>control</td></tr>\n",
       "\t<tr><th scope=row>3</th><td>2018--BBO-BBO-B16-CV</td><td>BBO-BBO-B16</td><td>BBO</td><td>BBO</td><td>B16</td><td>hypoxic</td><td>ambient</td><td>O</td><td>hypoxic </td><td>ambient</td><td>O</td><td>hypoxic</td><td>hypoxic</td></tr>\n",
       "\t<tr><th scope=row>4</th><td>2018--BBO-BBY-B27-CV</td><td>BBO-BBY-B27</td><td>BBO</td><td>BBY</td><td>B27</td><td>hypoxic</td><td>ambient</td><td>O</td><td>hypoxic </td><td>ambient</td><td>Y</td><td>hypoxic</td><td>hypoxic</td></tr>\n",
       "\t<tr><th scope=row>5</th><td>2018--BBO-WBO-B16-CV</td><td>BBO-WBO-B16</td><td>BBO</td><td>WBO</td><td>B16</td><td>hypoxic</td><td>ambient</td><td>O</td><td>normoxic</td><td>ambient</td><td>O</td><td>hypoxic</td><td>control</td></tr>\n",
       "\t<tr><th scope=row>6</th><td>2018--BBO-WBV-B64-CV</td><td>BBO-WBV-B64</td><td>BBO</td><td>WBV</td><td>B64</td><td>hypoxic</td><td>ambient</td><td>O</td><td>normoxic</td><td>ambient</td><td>V</td><td>hypoxic</td><td>control</td></tr>\n",
       "</tbody>\n",
       "</table>\n"
      ],
      "text/latex": [
       "A data.frame: 6 × 13\n",
       "\\begin{tabular}{r|lllllllllllll}\n",
       "  & sample\\_ID & unique\\_ID & T1\\_code & T2\\_code & ID\\_code & T1\\_oxygen & T1\\_temp & Tank1 & T2\\_oxygen & T2\\_temp & Tank2 & Phase1 & Phase2\\\\\n",
       "  & <chr> & <chr> & <chr> & <chr> & <chr> & <chr> & <chr> & <chr> & <chr> & <chr> & <chr> & <chr> & <chr>\\\\\n",
       "\\hline\n",
       "\t1 & 2018--BBB-WBO-B21-CV & BBB-WBO-B21 & BBB & WBO & B21 & hypoxic & ambient & B & normoxic & ambient & O & hypoxic & control\\\\\n",
       "\t2 & 2018--BBB-WBV-B70-CV & BBB-WBV-B70 & BBB & WBV & B70 & hypoxic & ambient & B & normoxic & ambient & V & hypoxic & control\\\\\n",
       "\t3 & 2018--BBO-BBO-B16-CV & BBO-BBO-B16 & BBO & BBO & B16 & hypoxic & ambient & O & hypoxic  & ambient & O & hypoxic & hypoxic\\\\\n",
       "\t4 & 2018--BBO-BBY-B27-CV & BBO-BBY-B27 & BBO & BBY & B27 & hypoxic & ambient & O & hypoxic  & ambient & Y & hypoxic & hypoxic\\\\\n",
       "\t5 & 2018--BBO-WBO-B16-CV & BBO-WBO-B16 & BBO & WBO & B16 & hypoxic & ambient & O & normoxic & ambient & O & hypoxic & control\\\\\n",
       "\t6 & 2018--BBO-WBV-B64-CV & BBO-WBV-B64 & BBO & WBV & B64 & hypoxic & ambient & O & normoxic & ambient & V & hypoxic & control\\\\\n",
       "\\end{tabular}\n"
      ],
      "text/markdown": [
       "\n",
       "A data.frame: 6 × 13\n",
       "\n",
       "| <!--/--> | sample_ID &lt;chr&gt; | unique_ID &lt;chr&gt; | T1_code &lt;chr&gt; | T2_code &lt;chr&gt; | ID_code &lt;chr&gt; | T1_oxygen &lt;chr&gt; | T1_temp &lt;chr&gt; | Tank1 &lt;chr&gt; | T2_oxygen &lt;chr&gt; | T2_temp &lt;chr&gt; | Tank2 &lt;chr&gt; | Phase1 &lt;chr&gt; | Phase2 &lt;chr&gt; |\n",
       "|---|---|---|---|---|---|---|---|---|---|---|---|---|---|\n",
       "| 1 | 2018--BBB-WBO-B21-CV | BBB-WBO-B21 | BBB | WBO | B21 | hypoxic | ambient | B | normoxic | ambient | O | hypoxic | control |\n",
       "| 2 | 2018--BBB-WBV-B70-CV | BBB-WBV-B70 | BBB | WBV | B70 | hypoxic | ambient | B | normoxic | ambient | V | hypoxic | control |\n",
       "| 3 | 2018--BBO-BBO-B16-CV | BBO-BBO-B16 | BBO | BBO | B16 | hypoxic | ambient | O | hypoxic  | ambient | O | hypoxic | hypoxic |\n",
       "| 4 | 2018--BBO-BBY-B27-CV | BBO-BBY-B27 | BBO | BBY | B27 | hypoxic | ambient | O | hypoxic  | ambient | Y | hypoxic | hypoxic |\n",
       "| 5 | 2018--BBO-WBO-B16-CV | BBO-WBO-B16 | BBO | WBO | B16 | hypoxic | ambient | O | normoxic | ambient | O | hypoxic | control |\n",
       "| 6 | 2018--BBO-WBV-B64-CV | BBO-WBV-B64 | BBO | WBV | B64 | hypoxic | ambient | O | normoxic | ambient | V | hypoxic | control |\n",
       "\n"
      ],
      "text/plain": [
       "  sample_ID            unique_ID   T1_code T2_code ID_code T1_oxygen T1_temp\n",
       "1 2018--BBB-WBO-B21-CV BBB-WBO-B21 BBB     WBO     B21     hypoxic   ambient\n",
       "2 2018--BBB-WBV-B70-CV BBB-WBV-B70 BBB     WBV     B70     hypoxic   ambient\n",
       "3 2018--BBO-BBO-B16-CV BBO-BBO-B16 BBO     BBO     B16     hypoxic   ambient\n",
       "4 2018--BBO-BBY-B27-CV BBO-BBY-B27 BBO     BBY     B27     hypoxic   ambient\n",
       "5 2018--BBO-WBO-B16-CV BBO-WBO-B16 BBO     WBO     B16     hypoxic   ambient\n",
       "6 2018--BBO-WBV-B64-CV BBO-WBV-B64 BBO     WBV     B64     hypoxic   ambient\n",
       "  Tank1 T2_oxygen T2_temp Tank2 Phase1  Phase2 \n",
       "1 B     normoxic  ambient O     hypoxic control\n",
       "2 B     normoxic  ambient V     hypoxic control\n",
       "3 O     hypoxic   ambient O     hypoxic hypoxic\n",
       "4 O     hypoxic   ambient Y     hypoxic hypoxic\n",
       "5 O     normoxic  ambient O     hypoxic control\n",
       "6 O     normoxic  ambient V     hypoxic control"
      ]
     },
     "metadata": {},
     "output_type": "display_data"
    }
   ],
   "source": [
    "# meta data containing treatment conditions for CV samples\n",
    "meta = read.csv(\"/project/pi_sarah_gignouxwolfsohn_uml_edu/julia/CE_MethylRAD_analysis_2018/analysis/counts_and_meta/CV_CE18_meta.csv\")\n",
    "head(meta)"
   ]
  },
  {
   "cell_type": "code",
   "execution_count": 7,
   "id": "afe405f4-d719-49ce-ac02-041e4ca89661",
   "metadata": {},
   "outputs": [
    {
     "data": {
      "text/html": [
       "<table class=\"dataframe\">\n",
       "<caption>A data.frame: 6 × 31</caption>\n",
       "<thead>\n",
       "\t<tr><th></th><th scope=col>X</th><th scope=col>X0</th><th scope=col>X0.1</th><th scope=col>X0.2</th><th scope=col>X0.3</th><th scope=col>X0.4</th><th scope=col>X0.5</th><th scope=col>X0.6</th><th scope=col>X0.7</th><th scope=col>X0.8</th><th scope=col>⋯</th><th scope=col>X0.20</th><th scope=col>X0.21</th><th scope=col>X0.22</th><th scope=col>X0.23</th><th scope=col>X0.24</th><th scope=col>X0.25</th><th scope=col>X0.26</th><th scope=col>X0.27</th><th scope=col>X0.28</th><th scope=col>X0.29</th></tr>\n",
       "\t<tr><th></th><th scope=col>&lt;chr&gt;</th><th scope=col>&lt;int&gt;</th><th scope=col>&lt;int&gt;</th><th scope=col>&lt;int&gt;</th><th scope=col>&lt;int&gt;</th><th scope=col>&lt;int&gt;</th><th scope=col>&lt;int&gt;</th><th scope=col>&lt;int&gt;</th><th scope=col>&lt;int&gt;</th><th scope=col>&lt;int&gt;</th><th scope=col>⋯</th><th scope=col>&lt;int&gt;</th><th scope=col>&lt;int&gt;</th><th scope=col>&lt;int&gt;</th><th scope=col>&lt;int&gt;</th><th scope=col>&lt;int&gt;</th><th scope=col>&lt;int&gt;</th><th scope=col>&lt;int&gt;</th><th scope=col>&lt;int&gt;</th><th scope=col>&lt;int&gt;</th><th scope=col>&lt;int&gt;</th></tr>\n",
       "</thead>\n",
       "<tbody>\n",
       "\t<tr><th scope=row>1</th><td>LOC111099029</td><td>5</td><td>12</td><td>14</td><td>11</td><td>14</td><td>12</td><td>9</td><td>14</td><td>11</td><td>⋯</td><td>9</td><td>6</td><td>1</td><td>30</td><td>12</td><td>15</td><td>0</td><td>0</td><td>3</td><td>0</td></tr>\n",
       "\t<tr><th scope=row>2</th><td>LOC111099030</td><td>0</td><td> 0</td><td> 0</td><td> 0</td><td> 0</td><td> 0</td><td>0</td><td> 0</td><td> 0</td><td>⋯</td><td>0</td><td>0</td><td>0</td><td> 0</td><td> 0</td><td> 0</td><td>0</td><td>0</td><td>0</td><td>0</td></tr>\n",
       "\t<tr><th scope=row>3</th><td>LOC111099031</td><td>0</td><td> 0</td><td> 0</td><td> 0</td><td> 0</td><td> 0</td><td>0</td><td> 0</td><td> 0</td><td>⋯</td><td>0</td><td>0</td><td>0</td><td> 0</td><td> 0</td><td> 0</td><td>0</td><td>0</td><td>0</td><td>0</td></tr>\n",
       "\t<tr><th scope=row>4</th><td>LOC111099032</td><td>0</td><td> 0</td><td> 0</td><td> 0</td><td> 0</td><td> 0</td><td>0</td><td> 0</td><td> 0</td><td>⋯</td><td>0</td><td>0</td><td>0</td><td> 0</td><td> 0</td><td> 0</td><td>0</td><td>0</td><td>0</td><td>0</td></tr>\n",
       "\t<tr><th scope=row>5</th><td>LOC111099033</td><td>0</td><td> 0</td><td>10</td><td> 0</td><td> 1</td><td> 0</td><td>0</td><td> 0</td><td> 0</td><td>⋯</td><td>1</td><td>0</td><td>0</td><td> 1</td><td> 0</td><td> 0</td><td>0</td><td>0</td><td>0</td><td>0</td></tr>\n",
       "\t<tr><th scope=row>6</th><td>LOC111099034</td><td>0</td><td> 0</td><td> 0</td><td> 0</td><td> 0</td><td> 0</td><td>0</td><td> 0</td><td> 0</td><td>⋯</td><td>0</td><td>0</td><td>0</td><td> 0</td><td> 0</td><td> 0</td><td>0</td><td>0</td><td>0</td><td>0</td></tr>\n",
       "</tbody>\n",
       "</table>\n"
      ],
      "text/latex": [
       "A data.frame: 6 × 31\n",
       "\\begin{tabular}{r|lllllllllllllllllllll}\n",
       "  & X & X0 & X0.1 & X0.2 & X0.3 & X0.4 & X0.5 & X0.6 & X0.7 & X0.8 & ⋯ & X0.20 & X0.21 & X0.22 & X0.23 & X0.24 & X0.25 & X0.26 & X0.27 & X0.28 & X0.29\\\\\n",
       "  & <chr> & <int> & <int> & <int> & <int> & <int> & <int> & <int> & <int> & <int> & ⋯ & <int> & <int> & <int> & <int> & <int> & <int> & <int> & <int> & <int> & <int>\\\\\n",
       "\\hline\n",
       "\t1 & LOC111099029 & 5 & 12 & 14 & 11 & 14 & 12 & 9 & 14 & 11 & ⋯ & 9 & 6 & 1 & 30 & 12 & 15 & 0 & 0 & 3 & 0\\\\\n",
       "\t2 & LOC111099030 & 0 &  0 &  0 &  0 &  0 &  0 & 0 &  0 &  0 & ⋯ & 0 & 0 & 0 &  0 &  0 &  0 & 0 & 0 & 0 & 0\\\\\n",
       "\t3 & LOC111099031 & 0 &  0 &  0 &  0 &  0 &  0 & 0 &  0 &  0 & ⋯ & 0 & 0 & 0 &  0 &  0 &  0 & 0 & 0 & 0 & 0\\\\\n",
       "\t4 & LOC111099032 & 0 &  0 &  0 &  0 &  0 &  0 & 0 &  0 &  0 & ⋯ & 0 & 0 & 0 &  0 &  0 &  0 & 0 & 0 & 0 & 0\\\\\n",
       "\t5 & LOC111099033 & 0 &  0 & 10 &  0 &  1 &  0 & 0 &  0 &  0 & ⋯ & 1 & 0 & 0 &  1 &  0 &  0 & 0 & 0 & 0 & 0\\\\\n",
       "\t6 & LOC111099034 & 0 &  0 &  0 &  0 &  0 &  0 & 0 &  0 &  0 & ⋯ & 0 & 0 & 0 &  0 &  0 &  0 & 0 & 0 & 0 & 0\\\\\n",
       "\\end{tabular}\n"
      ],
      "text/markdown": [
       "\n",
       "A data.frame: 6 × 31\n",
       "\n",
       "| <!--/--> | X &lt;chr&gt; | X0 &lt;int&gt; | X0.1 &lt;int&gt; | X0.2 &lt;int&gt; | X0.3 &lt;int&gt; | X0.4 &lt;int&gt; | X0.5 &lt;int&gt; | X0.6 &lt;int&gt; | X0.7 &lt;int&gt; | X0.8 &lt;int&gt; | ⋯ ⋯ | X0.20 &lt;int&gt; | X0.21 &lt;int&gt; | X0.22 &lt;int&gt; | X0.23 &lt;int&gt; | X0.24 &lt;int&gt; | X0.25 &lt;int&gt; | X0.26 &lt;int&gt; | X0.27 &lt;int&gt; | X0.28 &lt;int&gt; | X0.29 &lt;int&gt; |\n",
       "|---|---|---|---|---|---|---|---|---|---|---|---|---|---|---|---|---|---|---|---|---|---|\n",
       "| 1 | LOC111099029 | 5 | 12 | 14 | 11 | 14 | 12 | 9 | 14 | 11 | ⋯ | 9 | 6 | 1 | 30 | 12 | 15 | 0 | 0 | 3 | 0 |\n",
       "| 2 | LOC111099030 | 0 |  0 |  0 |  0 |  0 |  0 | 0 |  0 |  0 | ⋯ | 0 | 0 | 0 |  0 |  0 |  0 | 0 | 0 | 0 | 0 |\n",
       "| 3 | LOC111099031 | 0 |  0 |  0 |  0 |  0 |  0 | 0 |  0 |  0 | ⋯ | 0 | 0 | 0 |  0 |  0 |  0 | 0 | 0 | 0 | 0 |\n",
       "| 4 | LOC111099032 | 0 |  0 |  0 |  0 |  0 |  0 | 0 |  0 |  0 | ⋯ | 0 | 0 | 0 |  0 |  0 |  0 | 0 | 0 | 0 | 0 |\n",
       "| 5 | LOC111099033 | 0 |  0 | 10 |  0 |  1 |  0 | 0 |  0 |  0 | ⋯ | 1 | 0 | 0 |  1 |  0 |  0 | 0 | 0 | 0 | 0 |\n",
       "| 6 | LOC111099034 | 0 |  0 |  0 |  0 |  0 |  0 | 0 |  0 |  0 | ⋯ | 0 | 0 | 0 |  0 |  0 |  0 | 0 | 0 | 0 | 0 |\n",
       "\n"
      ],
      "text/plain": [
       "  X            X0 X0.1 X0.2 X0.3 X0.4 X0.5 X0.6 X0.7 X0.8 ⋯ X0.20 X0.21 X0.22\n",
       "1 LOC111099029 5  12   14   11   14   12   9    14   11   ⋯ 9     6     1    \n",
       "2 LOC111099030 0   0    0    0    0    0   0     0    0   ⋯ 0     0     0    \n",
       "3 LOC111099031 0   0    0    0    0    0   0     0    0   ⋯ 0     0     0    \n",
       "4 LOC111099032 0   0    0    0    0    0   0     0    0   ⋯ 0     0     0    \n",
       "5 LOC111099033 0   0   10    0    1    0   0     0    0   ⋯ 1     0     0    \n",
       "6 LOC111099034 0   0    0    0    0    0   0     0    0   ⋯ 0     0     0    \n",
       "  X0.23 X0.24 X0.25 X0.26 X0.27 X0.28 X0.29\n",
       "1 30    12    15    0     0     3     0    \n",
       "2  0     0     0    0     0     0     0    \n",
       "3  0     0     0    0     0     0     0    \n",
       "4  0     0     0    0     0     0     0    \n",
       "5  1     0     0    0     0     0     0    \n",
       "6  0     0     0    0     0     0     0    "
      ]
     },
     "metadata": {},
     "output_type": "display_data"
    }
   ],
   "source": [
    "# counts matrix generated from htseq-counts, with type=exon\n",
    "counts_exon = read.csv(\"/project/pi_sarah_gignouxwolfsohn_uml_edu/julia/CE_MethylRAD_analysis_2018/analysis/counts_and_meta/counts_exon.txt\", sep='\\t')\n",
    "head(counts_exon)"
   ]
  },
  {
   "cell_type": "code",
   "execution_count": 8,
   "id": "965b46d8-8703-4397-add7-0fcc6afd2fcd",
   "metadata": {},
   "outputs": [
    {
     "data": {
      "text/html": [
       "<table class=\"dataframe\">\n",
       "<caption>A data.frame: 6 × 31</caption>\n",
       "<thead>\n",
       "\t<tr><th></th><th scope=col>ATP6</th><th scope=col>X0</th><th scope=col>X0.1</th><th scope=col>X0.2</th><th scope=col>X0.3</th><th scope=col>X0.4</th><th scope=col>X0.5</th><th scope=col>X0.6</th><th scope=col>X0.7</th><th scope=col>X0.8</th><th scope=col>⋯</th><th scope=col>X0.20</th><th scope=col>X0.21</th><th scope=col>X0.22</th><th scope=col>X0.23</th><th scope=col>X0.24</th><th scope=col>X0.25</th><th scope=col>X0.26</th><th scope=col>X0.27</th><th scope=col>X0.28</th><th scope=col>X0.29</th></tr>\n",
       "\t<tr><th></th><th scope=col>&lt;chr&gt;</th><th scope=col>&lt;int&gt;</th><th scope=col>&lt;int&gt;</th><th scope=col>&lt;int&gt;</th><th scope=col>&lt;int&gt;</th><th scope=col>&lt;int&gt;</th><th scope=col>&lt;int&gt;</th><th scope=col>&lt;int&gt;</th><th scope=col>&lt;int&gt;</th><th scope=col>&lt;int&gt;</th><th scope=col>⋯</th><th scope=col>&lt;int&gt;</th><th scope=col>&lt;int&gt;</th><th scope=col>&lt;int&gt;</th><th scope=col>&lt;int&gt;</th><th scope=col>&lt;int&gt;</th><th scope=col>&lt;int&gt;</th><th scope=col>&lt;int&gt;</th><th scope=col>&lt;int&gt;</th><th scope=col>&lt;int&gt;</th><th scope=col>&lt;int&gt;</th></tr>\n",
       "</thead>\n",
       "<tbody>\n",
       "\t<tr><th scope=row>1</th><td>COX1        </td><td>0</td><td> 0</td><td> 0</td><td> 0</td><td> 0</td><td> 0</td><td>0</td><td> 0</td><td> 0</td><td>⋯</td><td>0</td><td>0</td><td>0</td><td> 0</td><td> 0</td><td> 0</td><td>0</td><td>0</td><td>0</td><td>0</td></tr>\n",
       "\t<tr><th scope=row>2</th><td>COX2        </td><td>0</td><td> 0</td><td> 0</td><td> 0</td><td> 0</td><td> 0</td><td>0</td><td> 0</td><td> 0</td><td>⋯</td><td>0</td><td>0</td><td>0</td><td> 0</td><td> 0</td><td> 0</td><td>0</td><td>0</td><td>0</td><td>0</td></tr>\n",
       "\t<tr><th scope=row>3</th><td>COX3        </td><td>0</td><td> 0</td><td> 0</td><td> 0</td><td> 0</td><td> 0</td><td>0</td><td> 0</td><td> 0</td><td>⋯</td><td>0</td><td>0</td><td>0</td><td> 0</td><td> 0</td><td> 0</td><td>0</td><td>0</td><td>0</td><td>0</td></tr>\n",
       "\t<tr><th scope=row>4</th><td>CYTB        </td><td>0</td><td> 0</td><td> 0</td><td> 0</td><td> 0</td><td> 0</td><td>0</td><td> 0</td><td> 0</td><td>⋯</td><td>0</td><td>0</td><td>0</td><td> 0</td><td> 0</td><td> 0</td><td>0</td><td>0</td><td>0</td><td>0</td></tr>\n",
       "\t<tr><th scope=row>5</th><td>LOC111099029</td><td>7</td><td>13</td><td>15</td><td>11</td><td>16</td><td>12</td><td>9</td><td>15</td><td>11</td><td>⋯</td><td>9</td><td>6</td><td>1</td><td>30</td><td>13</td><td>15</td><td>0</td><td>0</td><td>4</td><td>0</td></tr>\n",
       "\t<tr><th scope=row>6</th><td>LOC111099030</td><td>0</td><td> 0</td><td> 0</td><td> 0</td><td> 0</td><td> 0</td><td>0</td><td> 0</td><td> 0</td><td>⋯</td><td>0</td><td>0</td><td>0</td><td> 0</td><td> 0</td><td> 0</td><td>0</td><td>0</td><td>0</td><td>0</td></tr>\n",
       "</tbody>\n",
       "</table>\n"
      ],
      "text/latex": [
       "A data.frame: 6 × 31\n",
       "\\begin{tabular}{r|lllllllllllllllllllll}\n",
       "  & ATP6 & X0 & X0.1 & X0.2 & X0.3 & X0.4 & X0.5 & X0.6 & X0.7 & X0.8 & ⋯ & X0.20 & X0.21 & X0.22 & X0.23 & X0.24 & X0.25 & X0.26 & X0.27 & X0.28 & X0.29\\\\\n",
       "  & <chr> & <int> & <int> & <int> & <int> & <int> & <int> & <int> & <int> & <int> & ⋯ & <int> & <int> & <int> & <int> & <int> & <int> & <int> & <int> & <int> & <int>\\\\\n",
       "\\hline\n",
       "\t1 & COX1         & 0 &  0 &  0 &  0 &  0 &  0 & 0 &  0 &  0 & ⋯ & 0 & 0 & 0 &  0 &  0 &  0 & 0 & 0 & 0 & 0\\\\\n",
       "\t2 & COX2         & 0 &  0 &  0 &  0 &  0 &  0 & 0 &  0 &  0 & ⋯ & 0 & 0 & 0 &  0 &  0 &  0 & 0 & 0 & 0 & 0\\\\\n",
       "\t3 & COX3         & 0 &  0 &  0 &  0 &  0 &  0 & 0 &  0 &  0 & ⋯ & 0 & 0 & 0 &  0 &  0 &  0 & 0 & 0 & 0 & 0\\\\\n",
       "\t4 & CYTB         & 0 &  0 &  0 &  0 &  0 &  0 & 0 &  0 &  0 & ⋯ & 0 & 0 & 0 &  0 &  0 &  0 & 0 & 0 & 0 & 0\\\\\n",
       "\t5 & LOC111099029 & 7 & 13 & 15 & 11 & 16 & 12 & 9 & 15 & 11 & ⋯ & 9 & 6 & 1 & 30 & 13 & 15 & 0 & 0 & 4 & 0\\\\\n",
       "\t6 & LOC111099030 & 0 &  0 &  0 &  0 &  0 &  0 & 0 &  0 &  0 & ⋯ & 0 & 0 & 0 &  0 &  0 &  0 & 0 & 0 & 0 & 0\\\\\n",
       "\\end{tabular}\n"
      ],
      "text/markdown": [
       "\n",
       "A data.frame: 6 × 31\n",
       "\n",
       "| <!--/--> | ATP6 &lt;chr&gt; | X0 &lt;int&gt; | X0.1 &lt;int&gt; | X0.2 &lt;int&gt; | X0.3 &lt;int&gt; | X0.4 &lt;int&gt; | X0.5 &lt;int&gt; | X0.6 &lt;int&gt; | X0.7 &lt;int&gt; | X0.8 &lt;int&gt; | ⋯ ⋯ | X0.20 &lt;int&gt; | X0.21 &lt;int&gt; | X0.22 &lt;int&gt; | X0.23 &lt;int&gt; | X0.24 &lt;int&gt; | X0.25 &lt;int&gt; | X0.26 &lt;int&gt; | X0.27 &lt;int&gt; | X0.28 &lt;int&gt; | X0.29 &lt;int&gt; |\n",
       "|---|---|---|---|---|---|---|---|---|---|---|---|---|---|---|---|---|---|---|---|---|---|\n",
       "| 1 | COX1         | 0 |  0 |  0 |  0 |  0 |  0 | 0 |  0 |  0 | ⋯ | 0 | 0 | 0 |  0 |  0 |  0 | 0 | 0 | 0 | 0 |\n",
       "| 2 | COX2         | 0 |  0 |  0 |  0 |  0 |  0 | 0 |  0 |  0 | ⋯ | 0 | 0 | 0 |  0 |  0 |  0 | 0 | 0 | 0 | 0 |\n",
       "| 3 | COX3         | 0 |  0 |  0 |  0 |  0 |  0 | 0 |  0 |  0 | ⋯ | 0 | 0 | 0 |  0 |  0 |  0 | 0 | 0 | 0 | 0 |\n",
       "| 4 | CYTB         | 0 |  0 |  0 |  0 |  0 |  0 | 0 |  0 |  0 | ⋯ | 0 | 0 | 0 |  0 |  0 |  0 | 0 | 0 | 0 | 0 |\n",
       "| 5 | LOC111099029 | 7 | 13 | 15 | 11 | 16 | 12 | 9 | 15 | 11 | ⋯ | 9 | 6 | 1 | 30 | 13 | 15 | 0 | 0 | 4 | 0 |\n",
       "| 6 | LOC111099030 | 0 |  0 |  0 |  0 |  0 |  0 | 0 |  0 |  0 | ⋯ | 0 | 0 | 0 |  0 |  0 |  0 | 0 | 0 | 0 | 0 |\n",
       "\n"
      ],
      "text/plain": [
       "  ATP6         X0 X0.1 X0.2 X0.3 X0.4 X0.5 X0.6 X0.7 X0.8 ⋯ X0.20 X0.21 X0.22\n",
       "1 COX1         0   0    0    0    0    0   0     0    0   ⋯ 0     0     0    \n",
       "2 COX2         0   0    0    0    0    0   0     0    0   ⋯ 0     0     0    \n",
       "3 COX3         0   0    0    0    0    0   0     0    0   ⋯ 0     0     0    \n",
       "4 CYTB         0   0    0    0    0    0   0     0    0   ⋯ 0     0     0    \n",
       "5 LOC111099029 7  13   15   11   16   12   9    15   11   ⋯ 9     6     1    \n",
       "6 LOC111099030 0   0    0    0    0    0   0     0    0   ⋯ 0     0     0    \n",
       "  X0.23 X0.24 X0.25 X0.26 X0.27 X0.28 X0.29\n",
       "1  0     0     0    0     0     0     0    \n",
       "2  0     0     0    0     0     0     0    \n",
       "3  0     0     0    0     0     0     0    \n",
       "4  0     0     0    0     0     0     0    \n",
       "5 30    13    15    0     0     4     0    \n",
       "6  0     0     0    0     0     0     0    "
      ]
     },
     "metadata": {},
     "output_type": "display_data"
    }
   ],
   "source": [
    "# counts matrix generated from htseq-counts, with type=gene\n",
    "counts_gene = read.csv(\"/project/pi_sarah_gignouxwolfsohn_uml_edu/julia/CE_MethylRAD_analysis_2018/analysis/counts_and_meta/counts_gene.txt\", sep='\\t')\n",
    "head(counts_gene)"
   ]
  },
  {
   "cell_type": "code",
   "execution_count": 9,
   "id": "6ccba705-fc14-480b-aa62-a26ed5577052",
   "metadata": {},
   "outputs": [
    {
     "data": {
      "text/html": [
       "<style>\n",
       ".list-inline {list-style: none; margin:0; padding: 0}\n",
       ".list-inline>li {display: inline-block}\n",
       ".list-inline>li:not(:last-child)::after {content: \"\\00b7\"; padding: 0 .5ex}\n",
       "</style>\n",
       "<ol class=list-inline><li>38833</li><li>31</li></ol>\n"
      ],
      "text/latex": [
       "\\begin{enumerate*}\n",
       "\\item 38833\n",
       "\\item 31\n",
       "\\end{enumerate*}\n"
      ],
      "text/markdown": [
       "1. 38833\n",
       "2. 31\n",
       "\n",
       "\n"
      ],
      "text/plain": [
       "[1] 38833    31"
      ]
     },
     "metadata": {},
     "output_type": "display_data"
    },
    {
     "data": {
      "text/html": [
       "<style>\n",
       ".list-inline {list-style: none; margin:0; padding: 0}\n",
       ".list-inline>li {display: inline-block}\n",
       ".list-inline>li:not(:last-child)::after {content: \"\\00b7\"; padding: 0 .5ex}\n",
       "</style>\n",
       "<ol class=list-inline><li>39509</li><li>31</li></ol>\n"
      ],
      "text/latex": [
       "\\begin{enumerate*}\n",
       "\\item 39509\n",
       "\\item 31\n",
       "\\end{enumerate*}\n"
      ],
      "text/markdown": [
       "1. 39509\n",
       "2. 31\n",
       "\n",
       "\n"
      ],
      "text/plain": [
       "[1] 39509    31"
      ]
     },
     "metadata": {},
     "output_type": "display_data"
    }
   ],
   "source": [
    "# comparing dimensions of counts_exon and counts_gene\n",
    "dim(counts_exon) #38,833 rows\n",
    "dim(counts_gene) #39,509 rows"
   ]
  },
  {
   "cell_type": "markdown",
   "id": "743fe8c6-788b-40fc-bef2-c59cc30ceb5a",
   "metadata": {},
   "source": [
    "weird that counts_gene resulted in more gene numbers ... gene is typically considered a meta-feature, and exon just a feature, so would assume number of genes would be less than number of exons..\n",
    "\n",
    "**moving forward - only using counts_gene dataframe**"
   ]
  },
  {
   "cell_type": "markdown",
   "id": "c5d2da1e-bdb3-4e6f-9e90-beb828a7db80",
   "metadata": {},
   "source": [
    "**GTF file is currently zipped - to load, have to unzip - but skip down below to read in other file**"
   ]
  },
  {
   "cell_type": "markdown",
   "id": "697669ca-e3bd-4e45-be97-f08185467ecc",
   "metadata": {},
   "source": [
    "#### SKIP\n",
    "\n",
    "```\n",
    "# loading in Crassostrea virginica annotation GTF file, downloaded from NCBI\n",
    "gtf_file <- \"/project/pi_sarah_gignouxwolfsohn_uml_edu/julia/assembly/reference_genomes/genomic.gtf\"\n",
    "\n",
    "# Read GTF file with read.table\n",
    "gtf_data <- read.table(gtf_file, header = FALSE, sep = \"\\t\", comment.char = \"#\", quote = \"\", stringsAsFactors = FALSE)\n",
    "\n",
    "# add column names manually\n",
    "colnames(gtf_data) <- c(\"seqname\", \"source\", \"feature\", \"start\", \"end\", \"score\", \"strand\", \"frame\", \"attributes\")\n",
    "\n",
    "head(gtf_data)\n",
    "```"
   ]
  },
  {
   "cell_type": "markdown",
   "id": "76020961-f190-46fa-9171-457d79aa34df",
   "metadata": {},
   "source": [
    "### cleaning data frames"
   ]
  },
  {
   "cell_type": "code",
   "execution_count": 10,
   "id": "8d251921-7625-4d0e-a709-12fb68cf2157",
   "metadata": {},
   "outputs": [
    {
     "data": {
      "text/html": [
       "<table class=\"dataframe\">\n",
       "<caption>A data.frame: 6 × 13</caption>\n",
       "<thead>\n",
       "\t<tr><th></th><th scope=col>sample_ID</th><th scope=col>unique_ID</th><th scope=col>T1_code</th><th scope=col>T2_code</th><th scope=col>ID_code</th><th scope=col>T1_oxygen</th><th scope=col>T1_temp</th><th scope=col>Tank1</th><th scope=col>T2_oxygen</th><th scope=col>T2_temp</th><th scope=col>Tank2</th><th scope=col>Phase1</th><th scope=col>Phase2</th></tr>\n",
       "\t<tr><th></th><th scope=col>&lt;chr&gt;</th><th scope=col>&lt;chr&gt;</th><th scope=col>&lt;chr&gt;</th><th scope=col>&lt;chr&gt;</th><th scope=col>&lt;chr&gt;</th><th scope=col>&lt;chr&gt;</th><th scope=col>&lt;chr&gt;</th><th scope=col>&lt;chr&gt;</th><th scope=col>&lt;chr&gt;</th><th scope=col>&lt;chr&gt;</th><th scope=col>&lt;chr&gt;</th><th scope=col>&lt;chr&gt;</th><th scope=col>&lt;chr&gt;</th></tr>\n",
       "</thead>\n",
       "<tbody>\n",
       "\t<tr><th scope=row>BBB-WBO-B21</th><td>2018--BBB-WBO-B21-CV</td><td>BBB-WBO-B21</td><td>BBB</td><td>WBO</td><td>B21</td><td>hypoxic</td><td>ambient</td><td>B</td><td>normoxic</td><td>ambient</td><td>O</td><td>hypoxic</td><td>control</td></tr>\n",
       "\t<tr><th scope=row>BBB-WBV-B70</th><td>2018--BBB-WBV-B70-CV</td><td>BBB-WBV-B70</td><td>BBB</td><td>WBV</td><td>B70</td><td>hypoxic</td><td>ambient</td><td>B</td><td>normoxic</td><td>ambient</td><td>V</td><td>hypoxic</td><td>control</td></tr>\n",
       "\t<tr><th scope=row>BBO-BBO-B16</th><td>2018--BBO-BBO-B16-CV</td><td>BBO-BBO-B16</td><td>BBO</td><td>BBO</td><td>B16</td><td>hypoxic</td><td>ambient</td><td>O</td><td>hypoxic </td><td>ambient</td><td>O</td><td>hypoxic</td><td>hypoxic</td></tr>\n",
       "\t<tr><th scope=row>BBO-BBY-B27</th><td>2018--BBO-BBY-B27-CV</td><td>BBO-BBY-B27</td><td>BBO</td><td>BBY</td><td>B27</td><td>hypoxic</td><td>ambient</td><td>O</td><td>hypoxic </td><td>ambient</td><td>Y</td><td>hypoxic</td><td>hypoxic</td></tr>\n",
       "\t<tr><th scope=row>BBO-WBO-B16</th><td>2018--BBO-WBO-B16-CV</td><td>BBO-WBO-B16</td><td>BBO</td><td>WBO</td><td>B16</td><td>hypoxic</td><td>ambient</td><td>O</td><td>normoxic</td><td>ambient</td><td>O</td><td>hypoxic</td><td>control</td></tr>\n",
       "\t<tr><th scope=row>BBO-WBV-B64</th><td>2018--BBO-WBV-B64-CV</td><td>BBO-WBV-B64</td><td>BBO</td><td>WBV</td><td>B64</td><td>hypoxic</td><td>ambient</td><td>O</td><td>normoxic</td><td>ambient</td><td>V</td><td>hypoxic</td><td>control</td></tr>\n",
       "</tbody>\n",
       "</table>\n"
      ],
      "text/latex": [
       "A data.frame: 6 × 13\n",
       "\\begin{tabular}{r|lllllllllllll}\n",
       "  & sample\\_ID & unique\\_ID & T1\\_code & T2\\_code & ID\\_code & T1\\_oxygen & T1\\_temp & Tank1 & T2\\_oxygen & T2\\_temp & Tank2 & Phase1 & Phase2\\\\\n",
       "  & <chr> & <chr> & <chr> & <chr> & <chr> & <chr> & <chr> & <chr> & <chr> & <chr> & <chr> & <chr> & <chr>\\\\\n",
       "\\hline\n",
       "\tBBB-WBO-B21 & 2018--BBB-WBO-B21-CV & BBB-WBO-B21 & BBB & WBO & B21 & hypoxic & ambient & B & normoxic & ambient & O & hypoxic & control\\\\\n",
       "\tBBB-WBV-B70 & 2018--BBB-WBV-B70-CV & BBB-WBV-B70 & BBB & WBV & B70 & hypoxic & ambient & B & normoxic & ambient & V & hypoxic & control\\\\\n",
       "\tBBO-BBO-B16 & 2018--BBO-BBO-B16-CV & BBO-BBO-B16 & BBO & BBO & B16 & hypoxic & ambient & O & hypoxic  & ambient & O & hypoxic & hypoxic\\\\\n",
       "\tBBO-BBY-B27 & 2018--BBO-BBY-B27-CV & BBO-BBY-B27 & BBO & BBY & B27 & hypoxic & ambient & O & hypoxic  & ambient & Y & hypoxic & hypoxic\\\\\n",
       "\tBBO-WBO-B16 & 2018--BBO-WBO-B16-CV & BBO-WBO-B16 & BBO & WBO & B16 & hypoxic & ambient & O & normoxic & ambient & O & hypoxic & control\\\\\n",
       "\tBBO-WBV-B64 & 2018--BBO-WBV-B64-CV & BBO-WBV-B64 & BBO & WBV & B64 & hypoxic & ambient & O & normoxic & ambient & V & hypoxic & control\\\\\n",
       "\\end{tabular}\n"
      ],
      "text/markdown": [
       "\n",
       "A data.frame: 6 × 13\n",
       "\n",
       "| <!--/--> | sample_ID &lt;chr&gt; | unique_ID &lt;chr&gt; | T1_code &lt;chr&gt; | T2_code &lt;chr&gt; | ID_code &lt;chr&gt; | T1_oxygen &lt;chr&gt; | T1_temp &lt;chr&gt; | Tank1 &lt;chr&gt; | T2_oxygen &lt;chr&gt; | T2_temp &lt;chr&gt; | Tank2 &lt;chr&gt; | Phase1 &lt;chr&gt; | Phase2 &lt;chr&gt; |\n",
       "|---|---|---|---|---|---|---|---|---|---|---|---|---|---|\n",
       "| BBB-WBO-B21 | 2018--BBB-WBO-B21-CV | BBB-WBO-B21 | BBB | WBO | B21 | hypoxic | ambient | B | normoxic | ambient | O | hypoxic | control |\n",
       "| BBB-WBV-B70 | 2018--BBB-WBV-B70-CV | BBB-WBV-B70 | BBB | WBV | B70 | hypoxic | ambient | B | normoxic | ambient | V | hypoxic | control |\n",
       "| BBO-BBO-B16 | 2018--BBO-BBO-B16-CV | BBO-BBO-B16 | BBO | BBO | B16 | hypoxic | ambient | O | hypoxic  | ambient | O | hypoxic | hypoxic |\n",
       "| BBO-BBY-B27 | 2018--BBO-BBY-B27-CV | BBO-BBY-B27 | BBO | BBY | B27 | hypoxic | ambient | O | hypoxic  | ambient | Y | hypoxic | hypoxic |\n",
       "| BBO-WBO-B16 | 2018--BBO-WBO-B16-CV | BBO-WBO-B16 | BBO | WBO | B16 | hypoxic | ambient | O | normoxic | ambient | O | hypoxic | control |\n",
       "| BBO-WBV-B64 | 2018--BBO-WBV-B64-CV | BBO-WBV-B64 | BBO | WBV | B64 | hypoxic | ambient | O | normoxic | ambient | V | hypoxic | control |\n",
       "\n"
      ],
      "text/plain": [
       "            sample_ID            unique_ID   T1_code T2_code ID_code T1_oxygen\n",
       "BBB-WBO-B21 2018--BBB-WBO-B21-CV BBB-WBO-B21 BBB     WBO     B21     hypoxic  \n",
       "BBB-WBV-B70 2018--BBB-WBV-B70-CV BBB-WBV-B70 BBB     WBV     B70     hypoxic  \n",
       "BBO-BBO-B16 2018--BBO-BBO-B16-CV BBO-BBO-B16 BBO     BBO     B16     hypoxic  \n",
       "BBO-BBY-B27 2018--BBO-BBY-B27-CV BBO-BBY-B27 BBO     BBY     B27     hypoxic  \n",
       "BBO-WBO-B16 2018--BBO-WBO-B16-CV BBO-WBO-B16 BBO     WBO     B16     hypoxic  \n",
       "BBO-WBV-B64 2018--BBO-WBV-B64-CV BBO-WBV-B64 BBO     WBV     B64     hypoxic  \n",
       "            T1_temp Tank1 T2_oxygen T2_temp Tank2 Phase1  Phase2 \n",
       "BBB-WBO-B21 ambient B     normoxic  ambient O     hypoxic control\n",
       "BBB-WBV-B70 ambient B     normoxic  ambient V     hypoxic control\n",
       "BBO-BBO-B16 ambient O     hypoxic   ambient O     hypoxic hypoxic\n",
       "BBO-BBY-B27 ambient O     hypoxic   ambient Y     hypoxic hypoxic\n",
       "BBO-WBO-B16 ambient O     normoxic  ambient O     hypoxic control\n",
       "BBO-WBV-B64 ambient O     normoxic  ambient V     hypoxic control"
      ]
     },
     "metadata": {},
     "output_type": "display_data"
    }
   ],
   "source": [
    "# setting the unique IDs as the rownames for meta\n",
    "rownames(meta) = meta$unique_ID\n",
    "head(meta)"
   ]
  },
  {
   "cell_type": "markdown",
   "id": "e81c2675-54cc-4168-8f4c-75e06e4db142",
   "metadata": {},
   "source": [
    "adding the row names of meta as the column names of both counts_exon and counts_gene"
   ]
  },
  {
   "cell_type": "code",
   "execution_count": 11,
   "id": "d35a145b-fa8a-4e03-b461-700f48c42bc4",
   "metadata": {},
   "outputs": [
    {
     "data": {
      "text/html": [
       "<table class=\"dataframe\">\n",
       "<caption>A data.frame: 6 × 31</caption>\n",
       "<thead>\n",
       "\t<tr><th></th><th scope=col>gene</th><th scope=col>BBB-WBO-B21</th><th scope=col>BBB-WBV-B70</th><th scope=col>BBO-BBO-B16</th><th scope=col>BBO-BBY-B27</th><th scope=col>BBO-WBO-B16</th><th scope=col>BBO-WBV-B64</th><th scope=col>BBR-BBB-B50</th><th scope=col>BBR-BBG-B38</th><th scope=col>BBR-BBY-B26</th><th scope=col>⋯</th><th scope=col>WBR-BBY-W25</th><th scope=col>WBV-WBO-W23</th><th scope=col>WBV-WBR-W12</th><th scope=col>WBY-BBV-W65</th><th scope=col>WBY-BBY-W30</th><th scope=col>WPB-BPG-G45</th><th scope=col>WPO-BPO-G16</th><th scope=col>WPO-BPY-G28</th><th scope=col>WPR-BPY-G25</th><th scope=col>WPV-BPR-G11</th></tr>\n",
       "\t<tr><th></th><th scope=col>&lt;chr&gt;</th><th scope=col>&lt;int&gt;</th><th scope=col>&lt;int&gt;</th><th scope=col>&lt;int&gt;</th><th scope=col>&lt;int&gt;</th><th scope=col>&lt;int&gt;</th><th scope=col>&lt;int&gt;</th><th scope=col>&lt;int&gt;</th><th scope=col>&lt;int&gt;</th><th scope=col>&lt;int&gt;</th><th scope=col>⋯</th><th scope=col>&lt;int&gt;</th><th scope=col>&lt;int&gt;</th><th scope=col>&lt;int&gt;</th><th scope=col>&lt;int&gt;</th><th scope=col>&lt;int&gt;</th><th scope=col>&lt;int&gt;</th><th scope=col>&lt;int&gt;</th><th scope=col>&lt;int&gt;</th><th scope=col>&lt;int&gt;</th><th scope=col>&lt;int&gt;</th></tr>\n",
       "</thead>\n",
       "<tbody>\n",
       "\t<tr><th scope=row>1</th><td>COX1        </td><td>0</td><td> 0</td><td> 0</td><td> 0</td><td> 0</td><td> 0</td><td>0</td><td> 0</td><td> 0</td><td>⋯</td><td>0</td><td>0</td><td>0</td><td> 0</td><td> 0</td><td> 0</td><td>0</td><td>0</td><td>0</td><td>0</td></tr>\n",
       "\t<tr><th scope=row>2</th><td>COX2        </td><td>0</td><td> 0</td><td> 0</td><td> 0</td><td> 0</td><td> 0</td><td>0</td><td> 0</td><td> 0</td><td>⋯</td><td>0</td><td>0</td><td>0</td><td> 0</td><td> 0</td><td> 0</td><td>0</td><td>0</td><td>0</td><td>0</td></tr>\n",
       "\t<tr><th scope=row>3</th><td>COX3        </td><td>0</td><td> 0</td><td> 0</td><td> 0</td><td> 0</td><td> 0</td><td>0</td><td> 0</td><td> 0</td><td>⋯</td><td>0</td><td>0</td><td>0</td><td> 0</td><td> 0</td><td> 0</td><td>0</td><td>0</td><td>0</td><td>0</td></tr>\n",
       "\t<tr><th scope=row>4</th><td>CYTB        </td><td>0</td><td> 0</td><td> 0</td><td> 0</td><td> 0</td><td> 0</td><td>0</td><td> 0</td><td> 0</td><td>⋯</td><td>0</td><td>0</td><td>0</td><td> 0</td><td> 0</td><td> 0</td><td>0</td><td>0</td><td>0</td><td>0</td></tr>\n",
       "\t<tr><th scope=row>5</th><td>LOC111099029</td><td>7</td><td>13</td><td>15</td><td>11</td><td>16</td><td>12</td><td>9</td><td>15</td><td>11</td><td>⋯</td><td>9</td><td>6</td><td>1</td><td>30</td><td>13</td><td>15</td><td>0</td><td>0</td><td>4</td><td>0</td></tr>\n",
       "\t<tr><th scope=row>6</th><td>LOC111099030</td><td>0</td><td> 0</td><td> 0</td><td> 0</td><td> 0</td><td> 0</td><td>0</td><td> 0</td><td> 0</td><td>⋯</td><td>0</td><td>0</td><td>0</td><td> 0</td><td> 0</td><td> 0</td><td>0</td><td>0</td><td>0</td><td>0</td></tr>\n",
       "</tbody>\n",
       "</table>\n"
      ],
      "text/latex": [
       "A data.frame: 6 × 31\n",
       "\\begin{tabular}{r|lllllllllllllllllllll}\n",
       "  & gene & BBB-WBO-B21 & BBB-WBV-B70 & BBO-BBO-B16 & BBO-BBY-B27 & BBO-WBO-B16 & BBO-WBV-B64 & BBR-BBB-B50 & BBR-BBG-B38 & BBR-BBY-B26 & ⋯ & WBR-BBY-W25 & WBV-WBO-W23 & WBV-WBR-W12 & WBY-BBV-W65 & WBY-BBY-W30 & WPB-BPG-G45 & WPO-BPO-G16 & WPO-BPY-G28 & WPR-BPY-G25 & WPV-BPR-G11\\\\\n",
       "  & <chr> & <int> & <int> & <int> & <int> & <int> & <int> & <int> & <int> & <int> & ⋯ & <int> & <int> & <int> & <int> & <int> & <int> & <int> & <int> & <int> & <int>\\\\\n",
       "\\hline\n",
       "\t1 & COX1         & 0 &  0 &  0 &  0 &  0 &  0 & 0 &  0 &  0 & ⋯ & 0 & 0 & 0 &  0 &  0 &  0 & 0 & 0 & 0 & 0\\\\\n",
       "\t2 & COX2         & 0 &  0 &  0 &  0 &  0 &  0 & 0 &  0 &  0 & ⋯ & 0 & 0 & 0 &  0 &  0 &  0 & 0 & 0 & 0 & 0\\\\\n",
       "\t3 & COX3         & 0 &  0 &  0 &  0 &  0 &  0 & 0 &  0 &  0 & ⋯ & 0 & 0 & 0 &  0 &  0 &  0 & 0 & 0 & 0 & 0\\\\\n",
       "\t4 & CYTB         & 0 &  0 &  0 &  0 &  0 &  0 & 0 &  0 &  0 & ⋯ & 0 & 0 & 0 &  0 &  0 &  0 & 0 & 0 & 0 & 0\\\\\n",
       "\t5 & LOC111099029 & 7 & 13 & 15 & 11 & 16 & 12 & 9 & 15 & 11 & ⋯ & 9 & 6 & 1 & 30 & 13 & 15 & 0 & 0 & 4 & 0\\\\\n",
       "\t6 & LOC111099030 & 0 &  0 &  0 &  0 &  0 &  0 & 0 &  0 &  0 & ⋯ & 0 & 0 & 0 &  0 &  0 &  0 & 0 & 0 & 0 & 0\\\\\n",
       "\\end{tabular}\n"
      ],
      "text/markdown": [
       "\n",
       "A data.frame: 6 × 31\n",
       "\n",
       "| <!--/--> | gene &lt;chr&gt; | BBB-WBO-B21 &lt;int&gt; | BBB-WBV-B70 &lt;int&gt; | BBO-BBO-B16 &lt;int&gt; | BBO-BBY-B27 &lt;int&gt; | BBO-WBO-B16 &lt;int&gt; | BBO-WBV-B64 &lt;int&gt; | BBR-BBB-B50 &lt;int&gt; | BBR-BBG-B38 &lt;int&gt; | BBR-BBY-B26 &lt;int&gt; | ⋯ ⋯ | WBR-BBY-W25 &lt;int&gt; | WBV-WBO-W23 &lt;int&gt; | WBV-WBR-W12 &lt;int&gt; | WBY-BBV-W65 &lt;int&gt; | WBY-BBY-W30 &lt;int&gt; | WPB-BPG-G45 &lt;int&gt; | WPO-BPO-G16 &lt;int&gt; | WPO-BPY-G28 &lt;int&gt; | WPR-BPY-G25 &lt;int&gt; | WPV-BPR-G11 &lt;int&gt; |\n",
       "|---|---|---|---|---|---|---|---|---|---|---|---|---|---|---|---|---|---|---|---|---|---|\n",
       "| 1 | COX1         | 0 |  0 |  0 |  0 |  0 |  0 | 0 |  0 |  0 | ⋯ | 0 | 0 | 0 |  0 |  0 |  0 | 0 | 0 | 0 | 0 |\n",
       "| 2 | COX2         | 0 |  0 |  0 |  0 |  0 |  0 | 0 |  0 |  0 | ⋯ | 0 | 0 | 0 |  0 |  0 |  0 | 0 | 0 | 0 | 0 |\n",
       "| 3 | COX3         | 0 |  0 |  0 |  0 |  0 |  0 | 0 |  0 |  0 | ⋯ | 0 | 0 | 0 |  0 |  0 |  0 | 0 | 0 | 0 | 0 |\n",
       "| 4 | CYTB         | 0 |  0 |  0 |  0 |  0 |  0 | 0 |  0 |  0 | ⋯ | 0 | 0 | 0 |  0 |  0 |  0 | 0 | 0 | 0 | 0 |\n",
       "| 5 | LOC111099029 | 7 | 13 | 15 | 11 | 16 | 12 | 9 | 15 | 11 | ⋯ | 9 | 6 | 1 | 30 | 13 | 15 | 0 | 0 | 4 | 0 |\n",
       "| 6 | LOC111099030 | 0 |  0 |  0 |  0 |  0 |  0 | 0 |  0 |  0 | ⋯ | 0 | 0 | 0 |  0 |  0 |  0 | 0 | 0 | 0 | 0 |\n",
       "\n"
      ],
      "text/plain": [
       "  gene         BBB-WBO-B21 BBB-WBV-B70 BBO-BBO-B16 BBO-BBY-B27 BBO-WBO-B16\n",
       "1 COX1         0            0           0           0           0         \n",
       "2 COX2         0            0           0           0           0         \n",
       "3 COX3         0            0           0           0           0         \n",
       "4 CYTB         0            0           0           0           0         \n",
       "5 LOC111099029 7           13          15          11          16         \n",
       "6 LOC111099030 0            0           0           0           0         \n",
       "  BBO-WBV-B64 BBR-BBB-B50 BBR-BBG-B38 BBR-BBY-B26 ⋯ WBR-BBY-W25 WBV-WBO-W23\n",
       "1  0          0            0           0          ⋯ 0           0          \n",
       "2  0          0            0           0          ⋯ 0           0          \n",
       "3  0          0            0           0          ⋯ 0           0          \n",
       "4  0          0            0           0          ⋯ 0           0          \n",
       "5 12          9           15          11          ⋯ 9           6          \n",
       "6  0          0            0           0          ⋯ 0           0          \n",
       "  WBV-WBR-W12 WBY-BBV-W65 WBY-BBY-W30 WPB-BPG-G45 WPO-BPO-G16 WPO-BPY-G28\n",
       "1 0            0           0           0          0           0          \n",
       "2 0            0           0           0          0           0          \n",
       "3 0            0           0           0          0           0          \n",
       "4 0            0           0           0          0           0          \n",
       "5 1           30          13          15          0           0          \n",
       "6 0            0           0           0          0           0          \n",
       "  WPR-BPY-G25 WPV-BPR-G11\n",
       "1 0           0          \n",
       "2 0           0          \n",
       "3 0           0          \n",
       "4 0           0          \n",
       "5 4           0          \n",
       "6 0           0          "
      ]
     },
     "metadata": {},
     "output_type": "display_data"
    }
   ],
   "source": [
    "# column names of counts matrix is the gene name, and each column is associated with a sample\n",
    "\n",
    "# for counts matrix for genes\n",
    "colnames(counts_gene) = c('gene', rownames(meta))\n",
    "head(counts_gene)"
   ]
  },
  {
   "cell_type": "code",
   "execution_count": 12,
   "id": "6f308664-48c0-4d4a-8b9e-882adc58ad64",
   "metadata": {},
   "outputs": [
    {
     "data": {
      "text/html": [
       "<table class=\"dataframe\">\n",
       "<caption>A data.frame: 6 × 30</caption>\n",
       "<thead>\n",
       "\t<tr><th></th><th scope=col>BBB-WBO-B21</th><th scope=col>BBB-WBV-B70</th><th scope=col>BBO-BBO-B16</th><th scope=col>BBO-BBY-B27</th><th scope=col>BBO-WBO-B16</th><th scope=col>BBO-WBV-B64</th><th scope=col>BBR-BBB-B50</th><th scope=col>BBR-BBG-B38</th><th scope=col>BBR-BBY-B26</th><th scope=col>BBY-WBG-B42</th><th scope=col>⋯</th><th scope=col>WBR-BBY-W25</th><th scope=col>WBV-WBO-W23</th><th scope=col>WBV-WBR-W12</th><th scope=col>WBY-BBV-W65</th><th scope=col>WBY-BBY-W30</th><th scope=col>WPB-BPG-G45</th><th scope=col>WPO-BPO-G16</th><th scope=col>WPO-BPY-G28</th><th scope=col>WPR-BPY-G25</th><th scope=col>WPV-BPR-G11</th></tr>\n",
       "\t<tr><th></th><th scope=col>&lt;int&gt;</th><th scope=col>&lt;int&gt;</th><th scope=col>&lt;int&gt;</th><th scope=col>&lt;int&gt;</th><th scope=col>&lt;int&gt;</th><th scope=col>&lt;int&gt;</th><th scope=col>&lt;int&gt;</th><th scope=col>&lt;int&gt;</th><th scope=col>&lt;int&gt;</th><th scope=col>&lt;int&gt;</th><th scope=col>⋯</th><th scope=col>&lt;int&gt;</th><th scope=col>&lt;int&gt;</th><th scope=col>&lt;int&gt;</th><th scope=col>&lt;int&gt;</th><th scope=col>&lt;int&gt;</th><th scope=col>&lt;int&gt;</th><th scope=col>&lt;int&gt;</th><th scope=col>&lt;int&gt;</th><th scope=col>&lt;int&gt;</th><th scope=col>&lt;int&gt;</th></tr>\n",
       "</thead>\n",
       "<tbody>\n",
       "\t<tr><th scope=row>COX1</th><td>0</td><td> 0</td><td> 0</td><td> 0</td><td> 0</td><td> 0</td><td>0</td><td> 0</td><td> 0</td><td>0</td><td>⋯</td><td>0</td><td>0</td><td>0</td><td> 0</td><td> 0</td><td> 0</td><td>0</td><td>0</td><td>0</td><td>0</td></tr>\n",
       "\t<tr><th scope=row>COX2</th><td>0</td><td> 0</td><td> 0</td><td> 0</td><td> 0</td><td> 0</td><td>0</td><td> 0</td><td> 0</td><td>0</td><td>⋯</td><td>0</td><td>0</td><td>0</td><td> 0</td><td> 0</td><td> 0</td><td>0</td><td>0</td><td>0</td><td>0</td></tr>\n",
       "\t<tr><th scope=row>COX3</th><td>0</td><td> 0</td><td> 0</td><td> 0</td><td> 0</td><td> 0</td><td>0</td><td> 0</td><td> 0</td><td>0</td><td>⋯</td><td>0</td><td>0</td><td>0</td><td> 0</td><td> 0</td><td> 0</td><td>0</td><td>0</td><td>0</td><td>0</td></tr>\n",
       "\t<tr><th scope=row>CYTB</th><td>0</td><td> 0</td><td> 0</td><td> 0</td><td> 0</td><td> 0</td><td>0</td><td> 0</td><td> 0</td><td>0</td><td>⋯</td><td>0</td><td>0</td><td>0</td><td> 0</td><td> 0</td><td> 0</td><td>0</td><td>0</td><td>0</td><td>0</td></tr>\n",
       "\t<tr><th scope=row>LOC111099029</th><td>7</td><td>13</td><td>15</td><td>11</td><td>16</td><td>12</td><td>9</td><td>15</td><td>11</td><td>1</td><td>⋯</td><td>9</td><td>6</td><td>1</td><td>30</td><td>13</td><td>15</td><td>0</td><td>0</td><td>4</td><td>0</td></tr>\n",
       "\t<tr><th scope=row>LOC111099030</th><td>0</td><td> 0</td><td> 0</td><td> 0</td><td> 0</td><td> 0</td><td>0</td><td> 0</td><td> 0</td><td>0</td><td>⋯</td><td>0</td><td>0</td><td>0</td><td> 0</td><td> 0</td><td> 0</td><td>0</td><td>0</td><td>0</td><td>0</td></tr>\n",
       "</tbody>\n",
       "</table>\n"
      ],
      "text/latex": [
       "A data.frame: 6 × 30\n",
       "\\begin{tabular}{r|lllllllllllllllllllll}\n",
       "  & BBB-WBO-B21 & BBB-WBV-B70 & BBO-BBO-B16 & BBO-BBY-B27 & BBO-WBO-B16 & BBO-WBV-B64 & BBR-BBB-B50 & BBR-BBG-B38 & BBR-BBY-B26 & BBY-WBG-B42 & ⋯ & WBR-BBY-W25 & WBV-WBO-W23 & WBV-WBR-W12 & WBY-BBV-W65 & WBY-BBY-W30 & WPB-BPG-G45 & WPO-BPO-G16 & WPO-BPY-G28 & WPR-BPY-G25 & WPV-BPR-G11\\\\\n",
       "  & <int> & <int> & <int> & <int> & <int> & <int> & <int> & <int> & <int> & <int> & ⋯ & <int> & <int> & <int> & <int> & <int> & <int> & <int> & <int> & <int> & <int>\\\\\n",
       "\\hline\n",
       "\tCOX1 & 0 &  0 &  0 &  0 &  0 &  0 & 0 &  0 &  0 & 0 & ⋯ & 0 & 0 & 0 &  0 &  0 &  0 & 0 & 0 & 0 & 0\\\\\n",
       "\tCOX2 & 0 &  0 &  0 &  0 &  0 &  0 & 0 &  0 &  0 & 0 & ⋯ & 0 & 0 & 0 &  0 &  0 &  0 & 0 & 0 & 0 & 0\\\\\n",
       "\tCOX3 & 0 &  0 &  0 &  0 &  0 &  0 & 0 &  0 &  0 & 0 & ⋯ & 0 & 0 & 0 &  0 &  0 &  0 & 0 & 0 & 0 & 0\\\\\n",
       "\tCYTB & 0 &  0 &  0 &  0 &  0 &  0 & 0 &  0 &  0 & 0 & ⋯ & 0 & 0 & 0 &  0 &  0 &  0 & 0 & 0 & 0 & 0\\\\\n",
       "\tLOC111099029 & 7 & 13 & 15 & 11 & 16 & 12 & 9 & 15 & 11 & 1 & ⋯ & 9 & 6 & 1 & 30 & 13 & 15 & 0 & 0 & 4 & 0\\\\\n",
       "\tLOC111099030 & 0 &  0 &  0 &  0 &  0 &  0 & 0 &  0 &  0 & 0 & ⋯ & 0 & 0 & 0 &  0 &  0 &  0 & 0 & 0 & 0 & 0\\\\\n",
       "\\end{tabular}\n"
      ],
      "text/markdown": [
       "\n",
       "A data.frame: 6 × 30\n",
       "\n",
       "| <!--/--> | BBB-WBO-B21 &lt;int&gt; | BBB-WBV-B70 &lt;int&gt; | BBO-BBO-B16 &lt;int&gt; | BBO-BBY-B27 &lt;int&gt; | BBO-WBO-B16 &lt;int&gt; | BBO-WBV-B64 &lt;int&gt; | BBR-BBB-B50 &lt;int&gt; | BBR-BBG-B38 &lt;int&gt; | BBR-BBY-B26 &lt;int&gt; | BBY-WBG-B42 &lt;int&gt; | ⋯ ⋯ | WBR-BBY-W25 &lt;int&gt; | WBV-WBO-W23 &lt;int&gt; | WBV-WBR-W12 &lt;int&gt; | WBY-BBV-W65 &lt;int&gt; | WBY-BBY-W30 &lt;int&gt; | WPB-BPG-G45 &lt;int&gt; | WPO-BPO-G16 &lt;int&gt; | WPO-BPY-G28 &lt;int&gt; | WPR-BPY-G25 &lt;int&gt; | WPV-BPR-G11 &lt;int&gt; |\n",
       "|---|---|---|---|---|---|---|---|---|---|---|---|---|---|---|---|---|---|---|---|---|---|\n",
       "| COX1 | 0 |  0 |  0 |  0 |  0 |  0 | 0 |  0 |  0 | 0 | ⋯ | 0 | 0 | 0 |  0 |  0 |  0 | 0 | 0 | 0 | 0 |\n",
       "| COX2 | 0 |  0 |  0 |  0 |  0 |  0 | 0 |  0 |  0 | 0 | ⋯ | 0 | 0 | 0 |  0 |  0 |  0 | 0 | 0 | 0 | 0 |\n",
       "| COX3 | 0 |  0 |  0 |  0 |  0 |  0 | 0 |  0 |  0 | 0 | ⋯ | 0 | 0 | 0 |  0 |  0 |  0 | 0 | 0 | 0 | 0 |\n",
       "| CYTB | 0 |  0 |  0 |  0 |  0 |  0 | 0 |  0 |  0 | 0 | ⋯ | 0 | 0 | 0 |  0 |  0 |  0 | 0 | 0 | 0 | 0 |\n",
       "| LOC111099029 | 7 | 13 | 15 | 11 | 16 | 12 | 9 | 15 | 11 | 1 | ⋯ | 9 | 6 | 1 | 30 | 13 | 15 | 0 | 0 | 4 | 0 |\n",
       "| LOC111099030 | 0 |  0 |  0 |  0 |  0 |  0 | 0 |  0 |  0 | 0 | ⋯ | 0 | 0 | 0 |  0 |  0 |  0 | 0 | 0 | 0 | 0 |\n",
       "\n"
      ],
      "text/plain": [
       "             BBB-WBO-B21 BBB-WBV-B70 BBO-BBO-B16 BBO-BBY-B27 BBO-WBO-B16\n",
       "COX1         0            0           0           0           0         \n",
       "COX2         0            0           0           0           0         \n",
       "COX3         0            0           0           0           0         \n",
       "CYTB         0            0           0           0           0         \n",
       "LOC111099029 7           13          15          11          16         \n",
       "LOC111099030 0            0           0           0           0         \n",
       "             BBO-WBV-B64 BBR-BBB-B50 BBR-BBG-B38 BBR-BBY-B26 BBY-WBG-B42 ⋯\n",
       "COX1          0          0            0           0          0           ⋯\n",
       "COX2          0          0            0           0          0           ⋯\n",
       "COX3          0          0            0           0          0           ⋯\n",
       "CYTB          0          0            0           0          0           ⋯\n",
       "LOC111099029 12          9           15          11          1           ⋯\n",
       "LOC111099030  0          0            0           0          0           ⋯\n",
       "             WBR-BBY-W25 WBV-WBO-W23 WBV-WBR-W12 WBY-BBV-W65 WBY-BBY-W30\n",
       "COX1         0           0           0            0           0         \n",
       "COX2         0           0           0            0           0         \n",
       "COX3         0           0           0            0           0         \n",
       "CYTB         0           0           0            0           0         \n",
       "LOC111099029 9           6           1           30          13         \n",
       "LOC111099030 0           0           0            0           0         \n",
       "             WPB-BPG-G45 WPO-BPO-G16 WPO-BPY-G28 WPR-BPY-G25 WPV-BPR-G11\n",
       "COX1          0          0           0           0           0          \n",
       "COX2          0          0           0           0           0          \n",
       "COX3          0          0           0           0           0          \n",
       "CYTB          0          0           0           0           0          \n",
       "LOC111099029 15          0           0           4           0          \n",
       "LOC111099030  0          0           0           0           0          "
      ]
     },
     "metadata": {},
     "output_type": "display_data"
    }
   ],
   "source": [
    "# making the genes column for both counts_exon and counts_gene be the index\n",
    "\n",
    "# for counts\n",
    "rownames(counts_gene) = counts_gene$gene # setting row names = gene\n",
    "counts_gene = counts_gene[,2:31] # dropping gene column \n",
    "head(counts_gene)"
   ]
  },
  {
   "cell_type": "code",
   "execution_count": 13,
   "id": "fd29c48b-2fa2-4798-8aac-5a237e3c8a69",
   "metadata": {},
   "outputs": [
    {
     "data": {
      "text/html": [
       "<table class=\"dataframe\">\n",
       "<caption>A data.frame: 6 × 30</caption>\n",
       "<thead>\n",
       "\t<tr><th></th><th scope=col>BBB-WBO-B21</th><th scope=col>BBB-WBV-B70</th><th scope=col>BBO-BBO-B16</th><th scope=col>BBO-BBY-B27</th><th scope=col>BBO-WBO-B16</th><th scope=col>BBO-WBV-B64</th><th scope=col>BBR-BBB-B50</th><th scope=col>BBR-BBG-B38</th><th scope=col>BBR-BBY-B26</th><th scope=col>BBY-WBG-B42</th><th scope=col>⋯</th><th scope=col>WBR-BBY-W25</th><th scope=col>WBV-WBO-W23</th><th scope=col>WBV-WBR-W12</th><th scope=col>WBY-BBV-W65</th><th scope=col>WBY-BBY-W30</th><th scope=col>WPB-BPG-G45</th><th scope=col>WPO-BPO-G16</th><th scope=col>WPO-BPY-G28</th><th scope=col>WPR-BPY-G25</th><th scope=col>WPV-BPR-G11</th></tr>\n",
       "\t<tr><th></th><th scope=col>&lt;int&gt;</th><th scope=col>&lt;int&gt;</th><th scope=col>&lt;int&gt;</th><th scope=col>&lt;int&gt;</th><th scope=col>&lt;int&gt;</th><th scope=col>&lt;int&gt;</th><th scope=col>&lt;int&gt;</th><th scope=col>&lt;int&gt;</th><th scope=col>&lt;int&gt;</th><th scope=col>&lt;int&gt;</th><th scope=col>⋯</th><th scope=col>&lt;int&gt;</th><th scope=col>&lt;int&gt;</th><th scope=col>&lt;int&gt;</th><th scope=col>&lt;int&gt;</th><th scope=col>&lt;int&gt;</th><th scope=col>&lt;int&gt;</th><th scope=col>&lt;int&gt;</th><th scope=col>&lt;int&gt;</th><th scope=col>&lt;int&gt;</th><th scope=col>&lt;int&gt;</th></tr>\n",
       "</thead>\n",
       "<tbody>\n",
       "\t<tr><th scope=row>Trnay-gua_4</th><td>0</td><td>0</td><td>0</td><td>0</td><td>0</td><td>0</td><td>0</td><td>0</td><td>0</td><td>0</td><td>⋯</td><td>0</td><td>0</td><td>0</td><td>0</td><td>0</td><td>0</td><td>0</td><td>0</td><td>0</td><td>0</td></tr>\n",
       "\t<tr><th scope=row>Trnay-gua_5</th><td>0</td><td>0</td><td>0</td><td>0</td><td>0</td><td>0</td><td>0</td><td>0</td><td>0</td><td>0</td><td>⋯</td><td>0</td><td>0</td><td>0</td><td>0</td><td>0</td><td>0</td><td>0</td><td>0</td><td>0</td><td>0</td></tr>\n",
       "\t<tr><th scope=row>Trnay-gua_6</th><td>0</td><td>0</td><td>0</td><td>0</td><td>0</td><td>0</td><td>0</td><td>0</td><td>0</td><td>0</td><td>⋯</td><td>0</td><td>0</td><td>0</td><td>0</td><td>0</td><td>0</td><td>0</td><td>0</td><td>0</td><td>0</td></tr>\n",
       "\t<tr><th scope=row>Trnay-gua_7</th><td>0</td><td>0</td><td>0</td><td>0</td><td>0</td><td>0</td><td>0</td><td>0</td><td>0</td><td>0</td><td>⋯</td><td>0</td><td>0</td><td>0</td><td>0</td><td>0</td><td>0</td><td>0</td><td>0</td><td>0</td><td>0</td></tr>\n",
       "\t<tr><th scope=row>Trnay-gua_8</th><td>0</td><td>0</td><td>0</td><td>0</td><td>0</td><td>0</td><td>0</td><td>0</td><td>0</td><td>0</td><td>⋯</td><td>0</td><td>0</td><td>0</td><td>0</td><td>0</td><td>0</td><td>0</td><td>0</td><td>0</td><td>0</td></tr>\n",
       "\t<tr><th scope=row>Trnay-gua_9</th><td>0</td><td>0</td><td>0</td><td>0</td><td>0</td><td>0</td><td>0</td><td>0</td><td>0</td><td>0</td><td>⋯</td><td>0</td><td>0</td><td>0</td><td>0</td><td>0</td><td>0</td><td>0</td><td>0</td><td>0</td><td>0</td></tr>\n",
       "</tbody>\n",
       "</table>\n"
      ],
      "text/latex": [
       "A data.frame: 6 × 30\n",
       "\\begin{tabular}{r|lllllllllllllllllllll}\n",
       "  & BBB-WBO-B21 & BBB-WBV-B70 & BBO-BBO-B16 & BBO-BBY-B27 & BBO-WBO-B16 & BBO-WBV-B64 & BBR-BBB-B50 & BBR-BBG-B38 & BBR-BBY-B26 & BBY-WBG-B42 & ⋯ & WBR-BBY-W25 & WBV-WBO-W23 & WBV-WBR-W12 & WBY-BBV-W65 & WBY-BBY-W30 & WPB-BPG-G45 & WPO-BPO-G16 & WPO-BPY-G28 & WPR-BPY-G25 & WPV-BPR-G11\\\\\n",
       "  & <int> & <int> & <int> & <int> & <int> & <int> & <int> & <int> & <int> & <int> & ⋯ & <int> & <int> & <int> & <int> & <int> & <int> & <int> & <int> & <int> & <int>\\\\\n",
       "\\hline\n",
       "\tTrnay-gua\\_4 & 0 & 0 & 0 & 0 & 0 & 0 & 0 & 0 & 0 & 0 & ⋯ & 0 & 0 & 0 & 0 & 0 & 0 & 0 & 0 & 0 & 0\\\\\n",
       "\tTrnay-gua\\_5 & 0 & 0 & 0 & 0 & 0 & 0 & 0 & 0 & 0 & 0 & ⋯ & 0 & 0 & 0 & 0 & 0 & 0 & 0 & 0 & 0 & 0\\\\\n",
       "\tTrnay-gua\\_6 & 0 & 0 & 0 & 0 & 0 & 0 & 0 & 0 & 0 & 0 & ⋯ & 0 & 0 & 0 & 0 & 0 & 0 & 0 & 0 & 0 & 0\\\\\n",
       "\tTrnay-gua\\_7 & 0 & 0 & 0 & 0 & 0 & 0 & 0 & 0 & 0 & 0 & ⋯ & 0 & 0 & 0 & 0 & 0 & 0 & 0 & 0 & 0 & 0\\\\\n",
       "\tTrnay-gua\\_8 & 0 & 0 & 0 & 0 & 0 & 0 & 0 & 0 & 0 & 0 & ⋯ & 0 & 0 & 0 & 0 & 0 & 0 & 0 & 0 & 0 & 0\\\\\n",
       "\tTrnay-gua\\_9 & 0 & 0 & 0 & 0 & 0 & 0 & 0 & 0 & 0 & 0 & ⋯ & 0 & 0 & 0 & 0 & 0 & 0 & 0 & 0 & 0 & 0\\\\\n",
       "\\end{tabular}\n"
      ],
      "text/markdown": [
       "\n",
       "A data.frame: 6 × 30\n",
       "\n",
       "| <!--/--> | BBB-WBO-B21 &lt;int&gt; | BBB-WBV-B70 &lt;int&gt; | BBO-BBO-B16 &lt;int&gt; | BBO-BBY-B27 &lt;int&gt; | BBO-WBO-B16 &lt;int&gt; | BBO-WBV-B64 &lt;int&gt; | BBR-BBB-B50 &lt;int&gt; | BBR-BBG-B38 &lt;int&gt; | BBR-BBY-B26 &lt;int&gt; | BBY-WBG-B42 &lt;int&gt; | ⋯ ⋯ | WBR-BBY-W25 &lt;int&gt; | WBV-WBO-W23 &lt;int&gt; | WBV-WBR-W12 &lt;int&gt; | WBY-BBV-W65 &lt;int&gt; | WBY-BBY-W30 &lt;int&gt; | WPB-BPG-G45 &lt;int&gt; | WPO-BPO-G16 &lt;int&gt; | WPO-BPY-G28 &lt;int&gt; | WPR-BPY-G25 &lt;int&gt; | WPV-BPR-G11 &lt;int&gt; |\n",
       "|---|---|---|---|---|---|---|---|---|---|---|---|---|---|---|---|---|---|---|---|---|---|\n",
       "| Trnay-gua_4 | 0 | 0 | 0 | 0 | 0 | 0 | 0 | 0 | 0 | 0 | ⋯ | 0 | 0 | 0 | 0 | 0 | 0 | 0 | 0 | 0 | 0 |\n",
       "| Trnay-gua_5 | 0 | 0 | 0 | 0 | 0 | 0 | 0 | 0 | 0 | 0 | ⋯ | 0 | 0 | 0 | 0 | 0 | 0 | 0 | 0 | 0 | 0 |\n",
       "| Trnay-gua_6 | 0 | 0 | 0 | 0 | 0 | 0 | 0 | 0 | 0 | 0 | ⋯ | 0 | 0 | 0 | 0 | 0 | 0 | 0 | 0 | 0 | 0 |\n",
       "| Trnay-gua_7 | 0 | 0 | 0 | 0 | 0 | 0 | 0 | 0 | 0 | 0 | ⋯ | 0 | 0 | 0 | 0 | 0 | 0 | 0 | 0 | 0 | 0 |\n",
       "| Trnay-gua_8 | 0 | 0 | 0 | 0 | 0 | 0 | 0 | 0 | 0 | 0 | ⋯ | 0 | 0 | 0 | 0 | 0 | 0 | 0 | 0 | 0 | 0 |\n",
       "| Trnay-gua_9 | 0 | 0 | 0 | 0 | 0 | 0 | 0 | 0 | 0 | 0 | ⋯ | 0 | 0 | 0 | 0 | 0 | 0 | 0 | 0 | 0 | 0 |\n",
       "\n"
      ],
      "text/plain": [
       "            BBB-WBO-B21 BBB-WBV-B70 BBO-BBO-B16 BBO-BBY-B27 BBO-WBO-B16\n",
       "Trnay-gua_4 0           0           0           0           0          \n",
       "Trnay-gua_5 0           0           0           0           0          \n",
       "Trnay-gua_6 0           0           0           0           0          \n",
       "Trnay-gua_7 0           0           0           0           0          \n",
       "Trnay-gua_8 0           0           0           0           0          \n",
       "Trnay-gua_9 0           0           0           0           0          \n",
       "            BBO-WBV-B64 BBR-BBB-B50 BBR-BBG-B38 BBR-BBY-B26 BBY-WBG-B42 ⋯\n",
       "Trnay-gua_4 0           0           0           0           0           ⋯\n",
       "Trnay-gua_5 0           0           0           0           0           ⋯\n",
       "Trnay-gua_6 0           0           0           0           0           ⋯\n",
       "Trnay-gua_7 0           0           0           0           0           ⋯\n",
       "Trnay-gua_8 0           0           0           0           0           ⋯\n",
       "Trnay-gua_9 0           0           0           0           0           ⋯\n",
       "            WBR-BBY-W25 WBV-WBO-W23 WBV-WBR-W12 WBY-BBV-W65 WBY-BBY-W30\n",
       "Trnay-gua_4 0           0           0           0           0          \n",
       "Trnay-gua_5 0           0           0           0           0          \n",
       "Trnay-gua_6 0           0           0           0           0          \n",
       "Trnay-gua_7 0           0           0           0           0          \n",
       "Trnay-gua_8 0           0           0           0           0          \n",
       "Trnay-gua_9 0           0           0           0           0          \n",
       "            WPB-BPG-G45 WPO-BPO-G16 WPO-BPY-G28 WPR-BPY-G25 WPV-BPR-G11\n",
       "Trnay-gua_4 0           0           0           0           0          \n",
       "Trnay-gua_5 0           0           0           0           0          \n",
       "Trnay-gua_6 0           0           0           0           0          \n",
       "Trnay-gua_7 0           0           0           0           0          \n",
       "Trnay-gua_8 0           0           0           0           0          \n",
       "Trnay-gua_9 0           0           0           0           0          "
      ]
     },
     "metadata": {},
     "output_type": "display_data"
    }
   ],
   "source": [
    "# have to remove extra info/'gunk' at bottom of counts_gene that is generated from htseq-counts\n",
    "counts_gene = counts_gene[1:39504,]\n",
    "tail(counts_gene)"
   ]
  },
  {
   "cell_type": "markdown",
   "id": "8ca03fab-1e2d-47df-8432-4ca833c0927c",
   "metadata": {},
   "source": [
    "#### SKIP"
   ]
  },
  {
   "cell_type": "markdown",
   "id": "8034a843-51c3-4ed9-8c55-696dc8727f4a",
   "metadata": {},
   "source": [
    "```\n",
    "# filtering gtf_data for only rows with gene\n",
    "gtf_genes = filter(gtf_data, gtf_data$feature == 'gene')\n",
    "dim(gtf_genes) # 39,505 rows\n",
    "dim(counts_gene) #39,509 rows\n",
    "```"
   ]
  },
  {
   "cell_type": "markdown",
   "id": "349da7c5-618c-4428-a163-1cb41b2bec60",
   "metadata": {},
   "source": [
    "okay so I'm pretty sure I've got the gtf data and the counts matrix to line up - except the counts_gene df has these CO... genes - checking to see if those are also in gtf_genes or if I should remove them"
   ]
  },
  {
   "cell_type": "markdown",
   "id": "d791c883-4dd0-443d-8496-37553928f15f",
   "metadata": {},
   "source": [
    "creating a new column in the gtf file to add just the gene_id info - this will help with matching up the counts_gene df"
   ]
  },
  {
   "cell_type": "markdown",
   "id": "a4fc19fb-1dbb-4aef-9881-d22f3ca5d0a5",
   "metadata": {},
   "source": [
    "```\n",
    "# Extract gene_id\n",
    "gtf_genes$gene_id <- gsub('.*gene_id \"(.*?)\";.*', '\\\\1', gtf_genes$attributes)\n",
    "\n",
    "# set row names as the gene_id\n",
    "rownames(gtf_genes) = gtf_genes$gene_id\n",
    "head(gtf_genes)\n",
    "```"
   ]
  },
  {
   "cell_type": "markdown",
   "id": "685f76bb-ff0f-4e33-bab0-76fee55b9092",
   "metadata": {},
   "source": [
    "```\n",
    "# Checking if the genes in counts_genes are also in gtf_genes\n",
    "genes_in_both <- rownames(gtf_genes) %in% rownames(counts_gene)\n",
    "\n",
    "# looking at what's FALSE (in gtf_genes but not in counts_gene)\n",
    "#sum(!genes_in_both) # only 1 FALSE\n",
    "false_cg = gtf_genes[!genes_in_both,]\n",
    "false_cg #ATP6 is in gtf_genes, but not in counts_gene\n",
    "\n",
    "# Pulling out only the rows in gtf_genes that match the genes in counts_genes\n",
    "gtf_genes1 <- gtf_genes[genes_in_both,]\n",
    "```"
   ]
  },
  {
   "cell_type": "markdown",
   "id": "79ed7a15-c0f2-48c6-8177-68f352671cba",
   "metadata": {},
   "source": [
    "```\n",
    "dim(gtf_genes1) #39,504 - removed row that didn't match in counts_gene\n",
    "dim(counts_gene) #39,504\n",
    "\n",
    "# OG gtf file of genes\n",
    "dim(gtf_genes) # 39,505\n",
    "```"
   ]
  },
  {
   "cell_type": "markdown",
   "id": "9830d93f-70f6-4977-8df6-89bede0fd8e9",
   "metadata": {},
   "source": [
    "```\n",
    "# removing gene_id column - not necessary\n",
    "gtf_genes1 <- gtf_genes1[, -ncol(gtf_genes)]\n",
    "\n",
    "# adding dataframes together \n",
    "counts_meta <- cbind(counts_gene, gtf_genes1)\n",
    "\n",
    "# checking out the new df - making sure things make sense\n",
    "dim(counts_meta) \n",
    "# 39,504 rows for 39,504 genes\n",
    "# 39 columns for 30 samples + 9 gtf columns \n",
    "head(counts_meta)\n",
    "```"
   ]
  },
  {
   "cell_type": "markdown",
   "id": "4cfcfc06-5c56-4964-9bc5-250a1f564362",
   "metadata": {},
   "source": [
    "```\n",
    "# saving counts_meta as a csv file\n",
    "write.csv(counts_meta, '/project/pi_sarah_gignouxwolfsohn_uml_edu/julia/CE_MethylRAD_analysis_2018/analysis/counts_and_meta/counts_meta.csv')\n",
    "```"
   ]
  },
  {
   "cell_type": "markdown",
   "id": "51630dd5-c9d2-4ae0-b180-c802a26e8768",
   "metadata": {},
   "source": [
    "#### skip to HERE\n",
    " \n",
    "I zipped the reference genomes to save space on Unity - so just directly reading in the saved counts_meta file that was generated from the code above"
   ]
  },
  {
   "cell_type": "code",
   "execution_count": 14,
   "id": "8720e8fa-cd63-41b3-a2d2-2c6b1bb1c63e",
   "metadata": {},
   "outputs": [
    {
     "data": {
      "text/html": [
       "<table class=\"dataframe\">\n",
       "<caption>A data.frame: 5 × 39</caption>\n",
       "<thead>\n",
       "\t<tr><th></th><th scope=col>BBB.WBO.B21</th><th scope=col>BBB.WBV.B70</th><th scope=col>BBO.BBO.B16</th><th scope=col>BBO.BBY.B27</th><th scope=col>BBO.WBO.B16</th><th scope=col>BBO.WBV.B64</th><th scope=col>BBR.BBB.B50</th><th scope=col>BBR.BBG.B38</th><th scope=col>BBR.BBY.B26</th><th scope=col>BBY.WBG.B42</th><th scope=col>⋯</th><th scope=col>WPV.BPR.G11</th><th scope=col>seqname</th><th scope=col>source</th><th scope=col>feature</th><th scope=col>start</th><th scope=col>end</th><th scope=col>score</th><th scope=col>strand</th><th scope=col>frame</th><th scope=col>attributes</th></tr>\n",
       "\t<tr><th></th><th scope=col>&lt;int&gt;</th><th scope=col>&lt;int&gt;</th><th scope=col>&lt;int&gt;</th><th scope=col>&lt;int&gt;</th><th scope=col>&lt;int&gt;</th><th scope=col>&lt;int&gt;</th><th scope=col>&lt;int&gt;</th><th scope=col>&lt;int&gt;</th><th scope=col>&lt;int&gt;</th><th scope=col>&lt;int&gt;</th><th scope=col>⋯</th><th scope=col>&lt;int&gt;</th><th scope=col>&lt;chr&gt;</th><th scope=col>&lt;chr&gt;</th><th scope=col>&lt;chr&gt;</th><th scope=col>&lt;int&gt;</th><th scope=col>&lt;int&gt;</th><th scope=col>&lt;chr&gt;</th><th scope=col>&lt;chr&gt;</th><th scope=col>&lt;chr&gt;</th><th scope=col>&lt;chr&gt;</th></tr>\n",
       "</thead>\n",
       "<tbody>\n",
       "\t<tr><th scope=row>COX1</th><td>0</td><td> 0</td><td> 0</td><td> 0</td><td> 0</td><td> 0</td><td>0</td><td> 0</td><td> 0</td><td>0</td><td>⋯</td><td>0</td><td>NC_035780.1</td><td>Gnomon</td><td>gene</td><td>13578</td><td> 14594</td><td>.</td><td>+</td><td>.</td><td>gene_id \"LOC111116054\"; db_xref \"GeneID:111116054\"; gbkey \"Gene\"; gene \"LOC111116054\"; gene_biotype \"lncRNA\";         </td></tr>\n",
       "\t<tr><th scope=row>COX2</th><td>0</td><td> 0</td><td> 0</td><td> 0</td><td> 0</td><td> 0</td><td>0</td><td> 0</td><td> 0</td><td>0</td><td>⋯</td><td>0</td><td>NC_035780.1</td><td>Gnomon</td><td>gene</td><td>28961</td><td> 33324</td><td>.</td><td>+</td><td>.</td><td>gene_id \"LOC111126949\"; db_xref \"GeneID:111126949\"; gbkey \"Gene\"; gene \"LOC111126949\"; gene_biotype \"protein_coding\"; </td></tr>\n",
       "\t<tr><th scope=row>COX3</th><td>0</td><td> 0</td><td> 0</td><td> 0</td><td> 0</td><td> 0</td><td>0</td><td> 0</td><td> 0</td><td>0</td><td>⋯</td><td>0</td><td>NC_035780.1</td><td>Gnomon</td><td>gene</td><td>43111</td><td> 66897</td><td>.</td><td>-</td><td>.</td><td>gene_id \"LOC111110729\"; db_xref \"GeneID:111110729\"; gbkey \"Gene\"; gene \"LOC111110729\"; gene_biotype \"protein_coding\"; </td></tr>\n",
       "\t<tr><th scope=row>CYTB</th><td>0</td><td> 0</td><td> 0</td><td> 0</td><td> 0</td><td> 0</td><td>0</td><td> 0</td><td> 0</td><td>0</td><td>⋯</td><td>0</td><td>NC_035780.1</td><td>Gnomon</td><td>gene</td><td>85606</td><td> 95254</td><td>.</td><td>-</td><td>.</td><td>gene_id \"LOC111112434\"; db_xref \"GeneID:111112434\"; gbkey \"Gene\"; gene \"LOC111112434\"; gene_biotype \"protein_coding\"; </td></tr>\n",
       "\t<tr><th scope=row>LOC111099029</th><td>7</td><td>13</td><td>15</td><td>11</td><td>16</td><td>12</td><td>9</td><td>15</td><td>11</td><td>1</td><td>⋯</td><td>0</td><td>NC_035780.1</td><td>Gnomon</td><td>gene</td><td>99840</td><td>106460</td><td>.</td><td>+</td><td>.</td><td>gene_id \"LOC111120752\"; db_xref \"GeneID:111120752\"; gbkey \"Gene\"; gene \"LOC111120752\"; gene_biotype \"protein_coding\"; </td></tr>\n",
       "</tbody>\n",
       "</table>\n"
      ],
      "text/latex": [
       "A data.frame: 5 × 39\n",
       "\\begin{tabular}{r|lllllllllllllllllllll}\n",
       "  & BBB.WBO.B21 & BBB.WBV.B70 & BBO.BBO.B16 & BBO.BBY.B27 & BBO.WBO.B16 & BBO.WBV.B64 & BBR.BBB.B50 & BBR.BBG.B38 & BBR.BBY.B26 & BBY.WBG.B42 & ⋯ & WPV.BPR.G11 & seqname & source & feature & start & end & score & strand & frame & attributes\\\\\n",
       "  & <int> & <int> & <int> & <int> & <int> & <int> & <int> & <int> & <int> & <int> & ⋯ & <int> & <chr> & <chr> & <chr> & <int> & <int> & <chr> & <chr> & <chr> & <chr>\\\\\n",
       "\\hline\n",
       "\tCOX1 & 0 &  0 &  0 &  0 &  0 &  0 & 0 &  0 &  0 & 0 & ⋯ & 0 & NC\\_035780.1 & Gnomon & gene & 13578 &  14594 & . & + & . & gene\\_id \"LOC111116054\"; db\\_xref \"GeneID:111116054\"; gbkey \"Gene\"; gene \"LOC111116054\"; gene\\_biotype \"lncRNA\";         \\\\\n",
       "\tCOX2 & 0 &  0 &  0 &  0 &  0 &  0 & 0 &  0 &  0 & 0 & ⋯ & 0 & NC\\_035780.1 & Gnomon & gene & 28961 &  33324 & . & + & . & gene\\_id \"LOC111126949\"; db\\_xref \"GeneID:111126949\"; gbkey \"Gene\"; gene \"LOC111126949\"; gene\\_biotype \"protein\\_coding\"; \\\\\n",
       "\tCOX3 & 0 &  0 &  0 &  0 &  0 &  0 & 0 &  0 &  0 & 0 & ⋯ & 0 & NC\\_035780.1 & Gnomon & gene & 43111 &  66897 & . & - & . & gene\\_id \"LOC111110729\"; db\\_xref \"GeneID:111110729\"; gbkey \"Gene\"; gene \"LOC111110729\"; gene\\_biotype \"protein\\_coding\"; \\\\\n",
       "\tCYTB & 0 &  0 &  0 &  0 &  0 &  0 & 0 &  0 &  0 & 0 & ⋯ & 0 & NC\\_035780.1 & Gnomon & gene & 85606 &  95254 & . & - & . & gene\\_id \"LOC111112434\"; db\\_xref \"GeneID:111112434\"; gbkey \"Gene\"; gene \"LOC111112434\"; gene\\_biotype \"protein\\_coding\"; \\\\\n",
       "\tLOC111099029 & 7 & 13 & 15 & 11 & 16 & 12 & 9 & 15 & 11 & 1 & ⋯ & 0 & NC\\_035780.1 & Gnomon & gene & 99840 & 106460 & . & + & . & gene\\_id \"LOC111120752\"; db\\_xref \"GeneID:111120752\"; gbkey \"Gene\"; gene \"LOC111120752\"; gene\\_biotype \"protein\\_coding\"; \\\\\n",
       "\\end{tabular}\n"
      ],
      "text/markdown": [
       "\n",
       "A data.frame: 5 × 39\n",
       "\n",
       "| <!--/--> | BBB.WBO.B21 &lt;int&gt; | BBB.WBV.B70 &lt;int&gt; | BBO.BBO.B16 &lt;int&gt; | BBO.BBY.B27 &lt;int&gt; | BBO.WBO.B16 &lt;int&gt; | BBO.WBV.B64 &lt;int&gt; | BBR.BBB.B50 &lt;int&gt; | BBR.BBG.B38 &lt;int&gt; | BBR.BBY.B26 &lt;int&gt; | BBY.WBG.B42 &lt;int&gt; | ⋯ ⋯ | WPV.BPR.G11 &lt;int&gt; | seqname &lt;chr&gt; | source &lt;chr&gt; | feature &lt;chr&gt; | start &lt;int&gt; | end &lt;int&gt; | score &lt;chr&gt; | strand &lt;chr&gt; | frame &lt;chr&gt; | attributes &lt;chr&gt; |\n",
       "|---|---|---|---|---|---|---|---|---|---|---|---|---|---|---|---|---|---|---|---|---|---|\n",
       "| COX1 | 0 |  0 |  0 |  0 |  0 |  0 | 0 |  0 |  0 | 0 | ⋯ | 0 | NC_035780.1 | Gnomon | gene | 13578 |  14594 | . | + | . | gene_id \"LOC111116054\"; db_xref \"GeneID:111116054\"; gbkey \"Gene\"; gene \"LOC111116054\"; gene_biotype \"lncRNA\";          |\n",
       "| COX2 | 0 |  0 |  0 |  0 |  0 |  0 | 0 |  0 |  0 | 0 | ⋯ | 0 | NC_035780.1 | Gnomon | gene | 28961 |  33324 | . | + | . | gene_id \"LOC111126949\"; db_xref \"GeneID:111126949\"; gbkey \"Gene\"; gene \"LOC111126949\"; gene_biotype \"protein_coding\";  |\n",
       "| COX3 | 0 |  0 |  0 |  0 |  0 |  0 | 0 |  0 |  0 | 0 | ⋯ | 0 | NC_035780.1 | Gnomon | gene | 43111 |  66897 | . | - | . | gene_id \"LOC111110729\"; db_xref \"GeneID:111110729\"; gbkey \"Gene\"; gene \"LOC111110729\"; gene_biotype \"protein_coding\";  |\n",
       "| CYTB | 0 |  0 |  0 |  0 |  0 |  0 | 0 |  0 |  0 | 0 | ⋯ | 0 | NC_035780.1 | Gnomon | gene | 85606 |  95254 | . | - | . | gene_id \"LOC111112434\"; db_xref \"GeneID:111112434\"; gbkey \"Gene\"; gene \"LOC111112434\"; gene_biotype \"protein_coding\";  |\n",
       "| LOC111099029 | 7 | 13 | 15 | 11 | 16 | 12 | 9 | 15 | 11 | 1 | ⋯ | 0 | NC_035780.1 | Gnomon | gene | 99840 | 106460 | . | + | . | gene_id \"LOC111120752\"; db_xref \"GeneID:111120752\"; gbkey \"Gene\"; gene \"LOC111120752\"; gene_biotype \"protein_coding\";  |\n",
       "\n"
      ],
      "text/plain": [
       "             BBB.WBO.B21 BBB.WBV.B70 BBO.BBO.B16 BBO.BBY.B27 BBO.WBO.B16\n",
       "COX1         0            0           0           0           0         \n",
       "COX2         0            0           0           0           0         \n",
       "COX3         0            0           0           0           0         \n",
       "CYTB         0            0           0           0           0         \n",
       "LOC111099029 7           13          15          11          16         \n",
       "             BBO.WBV.B64 BBR.BBB.B50 BBR.BBG.B38 BBR.BBY.B26 BBY.WBG.B42 ⋯\n",
       "COX1          0          0            0           0          0           ⋯\n",
       "COX2          0          0            0           0          0           ⋯\n",
       "COX3          0          0            0           0          0           ⋯\n",
       "CYTB          0          0            0           0          0           ⋯\n",
       "LOC111099029 12          9           15          11          1           ⋯\n",
       "             WPV.BPR.G11 seqname     source feature start end    score strand\n",
       "COX1         0           NC_035780.1 Gnomon gene    13578  14594 .     +     \n",
       "COX2         0           NC_035780.1 Gnomon gene    28961  33324 .     +     \n",
       "COX3         0           NC_035780.1 Gnomon gene    43111  66897 .     -     \n",
       "CYTB         0           NC_035780.1 Gnomon gene    85606  95254 .     -     \n",
       "LOC111099029 0           NC_035780.1 Gnomon gene    99840 106460 .     +     \n",
       "             frame\n",
       "COX1         .    \n",
       "COX2         .    \n",
       "COX3         .    \n",
       "CYTB         .    \n",
       "LOC111099029 .    \n",
       "             attributes                                                                                                            \n",
       "COX1         gene_id \"LOC111116054\"; db_xref \"GeneID:111116054\"; gbkey \"Gene\"; gene \"LOC111116054\"; gene_biotype \"lncRNA\";         \n",
       "COX2         gene_id \"LOC111126949\"; db_xref \"GeneID:111126949\"; gbkey \"Gene\"; gene \"LOC111126949\"; gene_biotype \"protein_coding\"; \n",
       "COX3         gene_id \"LOC111110729\"; db_xref \"GeneID:111110729\"; gbkey \"Gene\"; gene \"LOC111110729\"; gene_biotype \"protein_coding\"; \n",
       "CYTB         gene_id \"LOC111112434\"; db_xref \"GeneID:111112434\"; gbkey \"Gene\"; gene \"LOC111112434\"; gene_biotype \"protein_coding\"; \n",
       "LOC111099029 gene_id \"LOC111120752\"; db_xref \"GeneID:111120752\"; gbkey \"Gene\"; gene \"LOC111120752\"; gene_biotype \"protein_coding\"; "
      ]
     },
     "metadata": {},
     "output_type": "display_data"
    }
   ],
   "source": [
    "counts_meta <- read.csv('/project/pi_sarah_gignouxwolfsohn_uml_edu/julia/CE_MethylRAD_analysis_2018/analysis/counts_and_meta/counts_meta.csv')\n",
    "rownames(counts_meta) = counts_meta$X\n",
    "counts_meta = counts_meta[,2:40]\n",
    "#dim(counts_meta)\n",
    "head(counts_meta,5)"
   ]
  },
  {
   "cell_type": "markdown",
   "id": "7cc64390-b488-469b-958c-f68631473c21",
   "metadata": {},
   "source": [
    "so going forward - dataframes to use:\n",
    "> - **counts_gene:** counts matrix of genes generated from htseq-counts\n",
    "> - **counts_meta:** combined df of counts_gene and gtf_genes1\n",
    "> - **meta:** all treatment data for individual samples"
   ]
  },
  {
   "cell_type": "markdown",
   "id": "68b55cd5-ab8a-45ff-b0da-43c7fb490ccb",
   "metadata": {},
   "source": [
    "# Analysis Section"
   ]
  },
  {
   "cell_type": "markdown",
   "id": "2095b074-7749-4931-ad51-7360103f49f2",
   "metadata": {},
   "source": [
    "looking at something quickly - PCA plots to see if samples cluster together?"
   ]
  },
  {
   "cell_type": "code",
   "execution_count": 15,
   "id": "3bf8674c-c4ef-44f8-a38b-d3a3eab6feef",
   "metadata": {},
   "outputs": [
    {
     "data": {
      "text/html": [
       "<table class=\"dataframe\">\n",
       "<caption>A data.frame: 6 × 14</caption>\n",
       "<thead>\n",
       "\t<tr><th></th><th scope=col>sample_ID</th><th scope=col>unique_ID</th><th scope=col>T1_code</th><th scope=col>T2_code</th><th scope=col>ID_code</th><th scope=col>T1_oxygen</th><th scope=col>T1_temp</th><th scope=col>Tank1</th><th scope=col>T2_oxygen</th><th scope=col>T2_temp</th><th scope=col>Tank2</th><th scope=col>Phase1</th><th scope=col>Phase2</th><th scope=col>treatment</th></tr>\n",
       "\t<tr><th></th><th scope=col>&lt;chr&gt;</th><th scope=col>&lt;chr&gt;</th><th scope=col>&lt;chr&gt;</th><th scope=col>&lt;chr&gt;</th><th scope=col>&lt;chr&gt;</th><th scope=col>&lt;chr&gt;</th><th scope=col>&lt;chr&gt;</th><th scope=col>&lt;chr&gt;</th><th scope=col>&lt;chr&gt;</th><th scope=col>&lt;chr&gt;</th><th scope=col>&lt;chr&gt;</th><th scope=col>&lt;chr&gt;</th><th scope=col>&lt;chr&gt;</th><th scope=col>&lt;chr&gt;</th></tr>\n",
       "</thead>\n",
       "<tbody>\n",
       "\t<tr><th scope=row>BBB-WBO-B21</th><td>2018--BBB-WBO-B21-CV</td><td>BBB-WBO-B21</td><td>BBB</td><td>WBO</td><td>B21</td><td>hypoxic</td><td>ambient</td><td>B</td><td>normoxic</td><td>ambient</td><td>O</td><td>hypoxic</td><td>control</td><td>hypoxic_control</td></tr>\n",
       "\t<tr><th scope=row>BBB-WBV-B70</th><td>2018--BBB-WBV-B70-CV</td><td>BBB-WBV-B70</td><td>BBB</td><td>WBV</td><td>B70</td><td>hypoxic</td><td>ambient</td><td>B</td><td>normoxic</td><td>ambient</td><td>V</td><td>hypoxic</td><td>control</td><td>hypoxic_control</td></tr>\n",
       "\t<tr><th scope=row>BBO-BBO-B16</th><td>2018--BBO-BBO-B16-CV</td><td>BBO-BBO-B16</td><td>BBO</td><td>BBO</td><td>B16</td><td>hypoxic</td><td>ambient</td><td>O</td><td>hypoxic </td><td>ambient</td><td>O</td><td>hypoxic</td><td>hypoxic</td><td>hypoxic_hypoxic</td></tr>\n",
       "\t<tr><th scope=row>BBO-BBY-B27</th><td>2018--BBO-BBY-B27-CV</td><td>BBO-BBY-B27</td><td>BBO</td><td>BBY</td><td>B27</td><td>hypoxic</td><td>ambient</td><td>O</td><td>hypoxic </td><td>ambient</td><td>Y</td><td>hypoxic</td><td>hypoxic</td><td>hypoxic_hypoxic</td></tr>\n",
       "\t<tr><th scope=row>BBO-WBO-B16</th><td>2018--BBO-WBO-B16-CV</td><td>BBO-WBO-B16</td><td>BBO</td><td>WBO</td><td>B16</td><td>hypoxic</td><td>ambient</td><td>O</td><td>normoxic</td><td>ambient</td><td>O</td><td>hypoxic</td><td>control</td><td>hypoxic_control</td></tr>\n",
       "\t<tr><th scope=row>BBO-WBV-B64</th><td>2018--BBO-WBV-B64-CV</td><td>BBO-WBV-B64</td><td>BBO</td><td>WBV</td><td>B64</td><td>hypoxic</td><td>ambient</td><td>O</td><td>normoxic</td><td>ambient</td><td>V</td><td>hypoxic</td><td>control</td><td>hypoxic_control</td></tr>\n",
       "</tbody>\n",
       "</table>\n"
      ],
      "text/latex": [
       "A data.frame: 6 × 14\n",
       "\\begin{tabular}{r|llllllllllllll}\n",
       "  & sample\\_ID & unique\\_ID & T1\\_code & T2\\_code & ID\\_code & T1\\_oxygen & T1\\_temp & Tank1 & T2\\_oxygen & T2\\_temp & Tank2 & Phase1 & Phase2 & treatment\\\\\n",
       "  & <chr> & <chr> & <chr> & <chr> & <chr> & <chr> & <chr> & <chr> & <chr> & <chr> & <chr> & <chr> & <chr> & <chr>\\\\\n",
       "\\hline\n",
       "\tBBB-WBO-B21 & 2018--BBB-WBO-B21-CV & BBB-WBO-B21 & BBB & WBO & B21 & hypoxic & ambient & B & normoxic & ambient & O & hypoxic & control & hypoxic\\_control\\\\\n",
       "\tBBB-WBV-B70 & 2018--BBB-WBV-B70-CV & BBB-WBV-B70 & BBB & WBV & B70 & hypoxic & ambient & B & normoxic & ambient & V & hypoxic & control & hypoxic\\_control\\\\\n",
       "\tBBO-BBO-B16 & 2018--BBO-BBO-B16-CV & BBO-BBO-B16 & BBO & BBO & B16 & hypoxic & ambient & O & hypoxic  & ambient & O & hypoxic & hypoxic & hypoxic\\_hypoxic\\\\\n",
       "\tBBO-BBY-B27 & 2018--BBO-BBY-B27-CV & BBO-BBY-B27 & BBO & BBY & B27 & hypoxic & ambient & O & hypoxic  & ambient & Y & hypoxic & hypoxic & hypoxic\\_hypoxic\\\\\n",
       "\tBBO-WBO-B16 & 2018--BBO-WBO-B16-CV & BBO-WBO-B16 & BBO & WBO & B16 & hypoxic & ambient & O & normoxic & ambient & O & hypoxic & control & hypoxic\\_control\\\\\n",
       "\tBBO-WBV-B64 & 2018--BBO-WBV-B64-CV & BBO-WBV-B64 & BBO & WBV & B64 & hypoxic & ambient & O & normoxic & ambient & V & hypoxic & control & hypoxic\\_control\\\\\n",
       "\\end{tabular}\n"
      ],
      "text/markdown": [
       "\n",
       "A data.frame: 6 × 14\n",
       "\n",
       "| <!--/--> | sample_ID &lt;chr&gt; | unique_ID &lt;chr&gt; | T1_code &lt;chr&gt; | T2_code &lt;chr&gt; | ID_code &lt;chr&gt; | T1_oxygen &lt;chr&gt; | T1_temp &lt;chr&gt; | Tank1 &lt;chr&gt; | T2_oxygen &lt;chr&gt; | T2_temp &lt;chr&gt; | Tank2 &lt;chr&gt; | Phase1 &lt;chr&gt; | Phase2 &lt;chr&gt; | treatment &lt;chr&gt; |\n",
       "|---|---|---|---|---|---|---|---|---|---|---|---|---|---|---|\n",
       "| BBB-WBO-B21 | 2018--BBB-WBO-B21-CV | BBB-WBO-B21 | BBB | WBO | B21 | hypoxic | ambient | B | normoxic | ambient | O | hypoxic | control | hypoxic_control |\n",
       "| BBB-WBV-B70 | 2018--BBB-WBV-B70-CV | BBB-WBV-B70 | BBB | WBV | B70 | hypoxic | ambient | B | normoxic | ambient | V | hypoxic | control | hypoxic_control |\n",
       "| BBO-BBO-B16 | 2018--BBO-BBO-B16-CV | BBO-BBO-B16 | BBO | BBO | B16 | hypoxic | ambient | O | hypoxic  | ambient | O | hypoxic | hypoxic | hypoxic_hypoxic |\n",
       "| BBO-BBY-B27 | 2018--BBO-BBY-B27-CV | BBO-BBY-B27 | BBO | BBY | B27 | hypoxic | ambient | O | hypoxic  | ambient | Y | hypoxic | hypoxic | hypoxic_hypoxic |\n",
       "| BBO-WBO-B16 | 2018--BBO-WBO-B16-CV | BBO-WBO-B16 | BBO | WBO | B16 | hypoxic | ambient | O | normoxic | ambient | O | hypoxic | control | hypoxic_control |\n",
       "| BBO-WBV-B64 | 2018--BBO-WBV-B64-CV | BBO-WBV-B64 | BBO | WBV | B64 | hypoxic | ambient | O | normoxic | ambient | V | hypoxic | control | hypoxic_control |\n",
       "\n"
      ],
      "text/plain": [
       "            sample_ID            unique_ID   T1_code T2_code ID_code T1_oxygen\n",
       "BBB-WBO-B21 2018--BBB-WBO-B21-CV BBB-WBO-B21 BBB     WBO     B21     hypoxic  \n",
       "BBB-WBV-B70 2018--BBB-WBV-B70-CV BBB-WBV-B70 BBB     WBV     B70     hypoxic  \n",
       "BBO-BBO-B16 2018--BBO-BBO-B16-CV BBO-BBO-B16 BBO     BBO     B16     hypoxic  \n",
       "BBO-BBY-B27 2018--BBO-BBY-B27-CV BBO-BBY-B27 BBO     BBY     B27     hypoxic  \n",
       "BBO-WBO-B16 2018--BBO-WBO-B16-CV BBO-WBO-B16 BBO     WBO     B16     hypoxic  \n",
       "BBO-WBV-B64 2018--BBO-WBV-B64-CV BBO-WBV-B64 BBO     WBV     B64     hypoxic  \n",
       "            T1_temp Tank1 T2_oxygen T2_temp Tank2 Phase1  Phase2 \n",
       "BBB-WBO-B21 ambient B     normoxic  ambient O     hypoxic control\n",
       "BBB-WBV-B70 ambient B     normoxic  ambient V     hypoxic control\n",
       "BBO-BBO-B16 ambient O     hypoxic   ambient O     hypoxic hypoxic\n",
       "BBO-BBY-B27 ambient O     hypoxic   ambient Y     hypoxic hypoxic\n",
       "BBO-WBO-B16 ambient O     normoxic  ambient O     hypoxic control\n",
       "BBO-WBV-B64 ambient O     normoxic  ambient V     hypoxic control\n",
       "            treatment      \n",
       "BBB-WBO-B21 hypoxic_control\n",
       "BBB-WBV-B70 hypoxic_control\n",
       "BBO-BBO-B16 hypoxic_hypoxic\n",
       "BBO-BBY-B27 hypoxic_hypoxic\n",
       "BBO-WBO-B16 hypoxic_control\n",
       "BBO-WBV-B64 hypoxic_control"
      ]
     },
     "metadata": {},
     "output_type": "display_data"
    }
   ],
   "source": [
    "# creating a new column with combined treatments - so each sample has one variable that encompasses both phases/treatments\n",
    "meta$treatment <- paste(meta$Phase1, meta$Phase2, sep='_')\n",
    "head(meta)"
   ]
  },
  {
   "cell_type": "code",
   "execution_count": 16,
   "id": "f6f3d90f-17e5-451b-beaa-38c8df127978",
   "metadata": {},
   "outputs": [
    {
     "name": "stderr",
     "output_type": "stream",
     "text": [
      "Warning message in DESeqDataSet(se, design = design, ignoreRank):\n",
      "“some variables in design formula are characters, converting to factors”\n",
      "estimating size factors\n",
      "\n",
      "estimating dispersions\n",
      "\n",
      "gene-wise dispersion estimates\n",
      "\n",
      "mean-dispersion relationship\n",
      "\n",
      "final dispersion estimates\n",
      "\n",
      "fitting model and testing\n",
      "\n"
     ]
    },
    {
     "data": {
      "text/html": [
       "<style>\n",
       ".list-inline {list-style: none; margin:0; padding: 0}\n",
       ".list-inline>li {display: inline-block}\n",
       ".list-inline>li:not(:last-child)::after {content: \"\\00b7\"; padding: 0 .5ex}\n",
       "</style>\n",
       "<ol class=list-inline><li>'Intercept'</li><li>'treatment_control_control_vs_both_both'</li><li>'treatment_control_hypoxic_vs_both_both'</li><li>'treatment_hypoxic_control_vs_both_both'</li><li>'treatment_hypoxic_hypoxic_vs_both_both'</li><li>'treatment_warm_both_vs_both_both'</li></ol>\n"
      ],
      "text/latex": [
       "\\begin{enumerate*}\n",
       "\\item 'Intercept'\n",
       "\\item 'treatment\\_control\\_control\\_vs\\_both\\_both'\n",
       "\\item 'treatment\\_control\\_hypoxic\\_vs\\_both\\_both'\n",
       "\\item 'treatment\\_hypoxic\\_control\\_vs\\_both\\_both'\n",
       "\\item 'treatment\\_hypoxic\\_hypoxic\\_vs\\_both\\_both'\n",
       "\\item 'treatment\\_warm\\_both\\_vs\\_both\\_both'\n",
       "\\end{enumerate*}\n"
      ],
      "text/markdown": [
       "1. 'Intercept'\n",
       "2. 'treatment_control_control_vs_both_both'\n",
       "3. 'treatment_control_hypoxic_vs_both_both'\n",
       "4. 'treatment_hypoxic_control_vs_both_both'\n",
       "5. 'treatment_hypoxic_hypoxic_vs_both_both'\n",
       "6. 'treatment_warm_both_vs_both_both'\n",
       "\n",
       "\n"
      ],
      "text/plain": [
       "[1] \"Intercept\"                             \n",
       "[2] \"treatment_control_control_vs_both_both\"\n",
       "[3] \"treatment_control_hypoxic_vs_both_both\"\n",
       "[4] \"treatment_hypoxic_control_vs_both_both\"\n",
       "[5] \"treatment_hypoxic_hypoxic_vs_both_both\"\n",
       "[6] \"treatment_warm_both_vs_both_both\"      "
      ]
     },
     "metadata": {},
     "output_type": "display_data"
    }
   ],
   "source": [
    "# creating DESeq2 objext from the matrix, with the design = treatment (which has both phase 1 and phase 2 variables)\n",
    "p1_dds <- DESeqDataSetFromMatrix(countData = counts_gene,\n",
    "                              colData = meta, \n",
    "                              design = ~ treatment)\n",
    "p1_dds=DESeq(p1_dds)\n",
    "resultsNames(p1_dds)"
   ]
  },
  {
   "cell_type": "markdown",
   "id": "77af2968-0fe1-4555-8617-3d4226e91c72",
   "metadata": {},
   "source": [
    "### analysis\n",
    "\n"
   ]
  },
  {
   "cell_type": "markdown",
   "id": "37e0bee8-fd9d-4ae9-be56-9cbef89e3027",
   "metadata": {},
   "source": [
    "#### looking at effects of phase 1, ignoring phase 2"
   ]
  },
  {
   "cell_type": "code",
   "execution_count": 17,
   "id": "8e5c7267-5440-42cc-ac0e-e6703ec3d7a3",
   "metadata": {},
   "outputs": [
    {
     "name": "stderr",
     "output_type": "stream",
     "text": [
      "Warning message in DESeqDataSet(se, design = design, ignoreRank):\n",
      "“some variables in design formula are characters, converting to factors”\n",
      "estimating size factors\n",
      "\n",
      "estimating dispersions\n",
      "\n",
      "gene-wise dispersion estimates\n",
      "\n",
      "mean-dispersion relationship\n",
      "\n",
      "final dispersion estimates\n",
      "\n",
      "fitting model and testing\n",
      "\n",
      "-- replacing outliers and refitting for 385 genes\n",
      "-- DESeq argument 'minReplicatesForReplace' = 7 \n",
      "-- original counts are preserved in counts(dds)\n",
      "\n",
      "estimating dispersions\n",
      "\n",
      "fitting model and testing\n",
      "\n"
     ]
    },
    {
     "data": {
      "text/html": [
       "<style>\n",
       ".list-inline {list-style: none; margin:0; padding: 0}\n",
       ".list-inline>li {display: inline-block}\n",
       ".list-inline>li:not(:last-child)::after {content: \"\\00b7\"; padding: 0 .5ex}\n",
       "</style>\n",
       "<ol class=list-inline><li>'Intercept'</li><li>'Phase1_control_vs_both'</li><li>'Phase1_hypoxic_vs_both'</li><li>'Phase1_warm_vs_both'</li></ol>\n"
      ],
      "text/latex": [
       "\\begin{enumerate*}\n",
       "\\item 'Intercept'\n",
       "\\item 'Phase1\\_control\\_vs\\_both'\n",
       "\\item 'Phase1\\_hypoxic\\_vs\\_both'\n",
       "\\item 'Phase1\\_warm\\_vs\\_both'\n",
       "\\end{enumerate*}\n"
      ],
      "text/markdown": [
       "1. 'Intercept'\n",
       "2. 'Phase1_control_vs_both'\n",
       "3. 'Phase1_hypoxic_vs_both'\n",
       "4. 'Phase1_warm_vs_both'\n",
       "\n",
       "\n"
      ],
      "text/plain": [
       "[1] \"Intercept\"              \"Phase1_control_vs_both\" \"Phase1_hypoxic_vs_both\"\n",
       "[4] \"Phase1_warm_vs_both\"   "
      ]
     },
     "metadata": {},
     "output_type": "display_data"
    }
   ],
   "source": [
    "p1_dds <- DESeqDataSetFromMatrix(countData = counts_gene,\n",
    "                              colData = meta, \n",
    "                              design = ~ Phase1)\n",
    "p1_dds=DESeq(p1_dds)\n",
    "resultsNames(p1_dds)"
   ]
  },
  {
   "cell_type": "code",
   "execution_count": 18,
   "id": "c81eef83-fcc1-44e9-a583-c5d464b9b335",
   "metadata": {},
   "outputs": [],
   "source": [
    "# need to first specify contrasts - what treatments to compare against each other\n",
    "contrast1 <- c(\"Phase1\", \"hypoxic\", \"control\")\n",
    "contrast2 <- c(\"Phase1\", \"both\", \"control\")\n",
    "contrast3 <- c(\"Phase1\", \"warm\", \"control\")"
   ]
  },
  {
   "cell_type": "code",
   "execution_count": 19,
   "id": "5d239d29-f14a-4f80-996f-520bb45d7dfe",
   "metadata": {},
   "outputs": [],
   "source": [
    "# storing results in variables to call for EnhancedVolcano \n",
    "# WITHOUT FILTERING STATS\n",
    "\n",
    "# Phase 1 hypoxic vs. control\n",
    "results1 <- results(p1_dds, contrast = contrast1)\n",
    "\n",
    "# Phase 1 both vs. control\n",
    "results2 <- results(p1_dds, contrast = contrast2)\n",
    "\n",
    "# Phase 1 warm vs. control\n",
    "results3 <- results(p1_dds, contrast = contrast3)"
   ]
  },
  {
   "cell_type": "markdown",
   "id": "101a84d4-b01b-4f4e-98a1-ba504bccd241",
   "metadata": {},
   "source": [
    "first looking at hypoxic vs. control for phase 1, ignoring effects of phase 2"
   ]
  },
  {
   "cell_type": "code",
   "execution_count": 20,
   "id": "d4e3381c-708f-4786-943a-f3ecc4733f97",
   "metadata": {},
   "outputs": [
    {
     "name": "stdout",
     "output_type": "stream",
     "text": [
      "\n",
      "out of 17855 with nonzero total read count\n",
      "adjusted p-value < 0.1\n",
      "LFC > 0 (up)       : 0, 0%\n",
      "LFC < 0 (down)     : 1, 0.0056%\n",
      "outliers [1]       : 204, 1.1%\n",
      "low counts [2]     : 6, 0.034%\n",
      "(mean count < 0)\n",
      "[1] see 'cooksCutoff' argument of ?results\n",
      "[2] see 'independentFiltering' argument of ?results\n",
      "\n"
     ]
    },
    {
     "data": {
      "image/png": "[encoded data removed]",
      "text/plain": [
       "plot without title"
      ]
     },
     "metadata": {
      "image/png": {
       "height": 900,
       "width": 900
      }
     },
     "output_type": "display_data"
    }
   ],
   "source": [
    "# hypoxic vs control for phase 1\n",
    "summary(results1)\n",
    "\n",
    "EnhancedVolcano(results1,\n",
    "                lab=NA,\n",
    "                x = 'log2FoldChange',\n",
    "                y = 'padj', pCutoff=0.05)"
   ]
  },
  {
   "cell_type": "code",
   "execution_count": 21,
   "id": "5e59a203-f85f-453c-b9b6-141d0d2d6b7d",
   "metadata": {},
   "outputs": [
    {
     "data": {
      "image/png": "[encoded data removed]",
      "text/plain": [
       "plot without title"
      ]
     },
     "metadata": {
      "image/png": {
       "height": 900,
       "width": 900
      }
     },
     "output_type": "display_data"
    }
   ],
   "source": [
    "# more detailed plot with labels and colors\n",
    "\n",
    "keyvals <- ifelse(\n",
    "results1$log2FoldChange < -1& results1$padj <0.05, \"#000066\",\n",
    "  ifelse(results1$log2FoldChange > 1& results1$padj <0.05,\"#FF6666\" ,\n",
    "    'grey'))\n",
    "keyvals[is.na(keyvals)] <- 'grey'\n",
    "names(keyvals)[keyvals == \"#FF6666\"] <- 'More methylation in Hypoxic'\n",
    "names(keyvals)[keyvals == 'grey'] <- 'Not sig.'\n",
    "names(keyvals)[keyvals == \"#000066\"] <- 'More methylation in Control'\n",
    "\n",
    "results1_plot <- EnhancedVolcano(results1,\n",
    "    lab = NA,\n",
    "    x = 'log2FoldChange',\n",
    "    y = 'padj', # so we are using padj...\n",
    "    selectLab = rownames(results1)[which(names(keyvals) %in% c('More methylation in Hypoxic', 'More methylation in Control'))],\n",
    "    xlab = bquote(~Log[2]~ 'fold change'),\n",
    "    pointSize = 3.5,\n",
    "    pCutoff = 0.05, # and have our p-value cutoff to 0.05\n",
    "    colCustom = keyvals,\n",
    "    colAlpha = 1,\n",
    "    legendPosition = 'bottom',\n",
    "    legendLabSize = 20,\n",
    "    legendIconSize = 5.0,\n",
    "    drawConnectors = TRUE,\n",
    "    widthConnectors = 1.0,\n",
    "    colConnectors = 'black',\n",
    "    arrowheads = FALSE,\n",
    "    gridlines.major = TRUE,\n",
    "    gridlines.minor = FALSE,\n",
    "    border = 'partial',\n",
    "    borderWidth = 0.5,\n",
    "    borderColour = 'black')\n",
    "results1_plot"
   ]
  },
  {
   "cell_type": "markdown",
   "id": "0c4b132d-8adc-4c9f-99be-7c4a14db4654",
   "metadata": {},
   "source": [
    "saving plot as a PDF "
   ]
  },
  {
   "cell_type": "code",
   "execution_count": 22,
   "id": "92c81e77-f0ac-4c04-b2c6-5ba5723795ce",
   "metadata": {},
   "outputs": [
    {
     "ename": "ERROR",
     "evalue": "Error in setwd(\"/project/pi_sarah_gignouxwolfsohn_uml_edu/julia/CE_MethylRAD_analysis_2018/CE_methyl_analysis/figures\"): cannot change working directory\n",
     "output_type": "error",
     "traceback": [
      "Error in setwd(\"/project/pi_sarah_gignouxwolfsohn_uml_edu/julia/CE_MethylRAD_analysis_2018/CE_methyl_analysis/figures\"): cannot change working directory\nTraceback:\n",
      "1. setwd(\"/project/pi_sarah_gignouxwolfsohn_uml_edu/julia/CE_MethylRAD_analysis_2018/CE_methyl_analysis/figures\")"
     ]
    }
   ],
   "source": [
    "# Open a pdf file\n",
    "setwd(\"/project/pi_sarah_gignouxwolfsohn_uml_edu/julia/CE_MethylRAD_analysis_2018/CE_methyl_analysis/figures\")\n",
    "pdf(\"phase1_hypoxic_control.pdf\", width=10, height=10) \n",
    "# 2. Create a plot\n",
    "results1_plot\n",
    "# Close the pdf filegb\n",
    "dev.off() "
   ]
  },
  {
   "cell_type": "markdown",
   "id": "937bd337-bfa2-43ce-94cb-81ee5d077bea",
   "metadata": {},
   "source": [
    "looking at both vs. control for phase 1, ignoring effects of phase 2"
   ]
  },
  {
   "cell_type": "code",
   "execution_count": null,
   "id": "01b79920-1ec5-4592-bc1a-a5cc69eb084c",
   "metadata": {},
   "outputs": [],
   "source": [
    "# both vs control for phase 1\n",
    "summary(results2)\n",
    "\n",
    "EnhancedVolcano(results2,\n",
    "                lab=NA,\n",
    "                x = 'log2FoldChange',\n",
    "                y = 'padj', pCutoff=0.05)"
   ]
  },
  {
   "cell_type": "code",
   "execution_count": null,
   "id": "94710e30-6dce-459c-af2a-316aee5439cc",
   "metadata": {},
   "outputs": [],
   "source": [
    "# changing plot dimensions\n",
    "options(repr.plot.width=10, repr.plot.height=10)"
   ]
  },
  {
   "cell_type": "markdown",
   "id": "74f5109e-2e72-402f-ae4f-c3a0015dddbd",
   "metadata": {},
   "source": [
    "looking at warm vs. control for phase 1, ignoring effects of phase 2"
   ]
  },
  {
   "cell_type": "code",
   "execution_count": null,
   "id": "d695ac9e-8f5f-43b8-8e57-491c7f585dfe",
   "metadata": {},
   "outputs": [],
   "source": [
    "# warm vs control for phase 1\n",
    "# WITHOUT STAT FILTERING\n",
    "summary(results3)\n",
    "\n",
    "EnhancedVolcano(results3,\n",
    "                lab=NA,\n",
    "                x = 'log2FoldChange',\n",
    "                y = 'padj', pCutoff=0.05)"
   ]
  },
  {
   "cell_type": "markdown",
   "id": "ce6b118b-c33b-4ffd-bf86-945a61124f3e",
   "metadata": {},
   "source": [
    "read some papers that use filters in the DESeq results statistics - so looking at how that affects my data\n",
    "\n",
    "first, looking at adding **alpha=0.05**, which is essentially a p-value threshold, controls false positive rate (FPR)\n",
    "- typically, p-value significance is set to 0.05 or 5%"
   ]
  },
  {
   "cell_type": "code",
   "execution_count": null,
   "id": "2f3d638f-d573-4a33-ad20-542e0691b7cf",
   "metadata": {},
   "outputs": [],
   "source": [
    "# looking at how data changes with thresholds on l2fc and pvalue...\n",
    "results3.2 <- results(p1_dds, alpha=0.05, contrast = contrast3)\n",
    "\n",
    "# warm vs control for phase 1\n",
    "summary(results3.2)\n",
    "\n",
    "EnhancedVolcano(results3.2,\n",
    "                lab=NA,\n",
    "                x = 'log2FoldChange',\n",
    "                y = 'padj', pCutoff=0.05)"
   ]
  },
  {
   "cell_type": "markdown",
   "id": "b9258021-fe6d-4148-aa58-7f057f1e31f0",
   "metadata": {},
   "source": [
    "slightly changes the number of significantly differentially methylated genes (originally had around 500 genes, now have about 410)\n",
    "\n",
    "now looking at **alpha=0.05** and **lfcThreshold=1**\n",
    "- log2FoldChange threshold - have to do this in statistics because otherwise adjusted p-value means nothing (null hyp. is that lfc=0, so if filter after, padj doesn't mean anything anymore)\n",
    "    - setting lfcThreshold = 1 means you see a 2 fold-change in methylation"
   ]
  },
  {
   "cell_type": "code",
   "execution_count": null,
   "id": "6e824acf-e9cc-4318-b6f2-18916778b52b",
   "metadata": {},
   "outputs": [],
   "source": [
    "# looking at how data changes with thresholds on l2fc and pvalue...\n",
    "results3.2 <- results(p1_dds, alpha=0.05, lfcThreshold=1, contrast = contrast3)\n",
    "\n",
    "# warm vs control for phase 1\n",
    "summary(results3.2)\n",
    "\n",
    "EnhancedVolcano(results3.2,\n",
    "                lab=NA,\n",
    "                x = 'log2FoldChange',\n",
    "                y = 'padj', pCutoff=0.05)"
   ]
  },
  {
   "cell_type": "markdown",
   "id": "5dd1258c-d34c-4003-b6d6-a47d34cfc449",
   "metadata": {},
   "source": [
    "now have around 60 genes that are differentially methlyated.. \n",
    "\n",
    "graph looks weird bc want to plot *all* points, and only have colored=filtered genes"
   ]
  },
  {
   "cell_type": "code",
   "execution_count": null,
   "id": "cb060472-7088-4f15-b717-2ea28cefb4e5",
   "metadata": {},
   "outputs": [],
   "source": [
    "# looking at genes that are sig with filtered DESeq results\n",
    "\n",
    "# grabbing all sig genes for warm vs. control for phase 1\n",
    "filtered = as.data.frame(results3.2[which(results3.2$padj < 0.05), ])\n",
    "\n",
    "# add meta data for those genees\n",
    "filtered_genes = merge(filtered, counts_meta, by=\"row.names\")\n",
    "head(filtered_genes) "
   ]
  },
  {
   "cell_type": "code",
   "execution_count": null,
   "id": "960b138d-349d-4615-86e5-ac63a47f02b5",
   "metadata": {},
   "outputs": [],
   "source": [
    "# creating 'prettier' more detailed plot\n",
    "keyvals <- ifelse(\n",
    "results3$log2FoldChange < -1& results3$padj <0.05, \"#000066\",\n",
    "  ifelse(results3$log2FoldChange > 1& results3$padj <0.05,\"#FF6666\" ,\n",
    "    'grey'))\n",
    "keyvals[is.na(keyvals)] <- 'grey'\n",
    "names(keyvals)[keyvals == \"#FF6666\"] <- 'More methylation in Warm'\n",
    "names(keyvals)[keyvals == 'grey'] <- 'Not sig.'\n",
    "names(keyvals)[keyvals == \"#000066\"] <- 'More methylation in Control'\n",
    "\n",
    "results3_plot <- EnhancedVolcano(results3,\n",
    "    lab = NA,\n",
    "    x = 'log2FoldChange',\n",
    "    y = 'padj', # so we are using padj...\n",
    "    selectLab = rownames(results3)[which(names(keyvals) %in% c('More methylation in Warm', 'More methylation in Control'))],\n",
    "    xlab = bquote(~Log[2]~ 'fold change'),\n",
    "    pointSize = 3.5,\n",
    "    pCutoff = 0.05, # and have our p-value cutoff to 0.05\n",
    "    colCustom = keyvals,\n",
    "    colAlpha = 1,\n",
    "    legendPosition = 'bottom',\n",
    "    legendLabSize = 20,\n",
    "    legendIconSize = 5.0,\n",
    "    drawConnectors = TRUE,\n",
    "    widthConnectors = 1.0,\n",
    "    colConnectors = 'black',\n",
    "    arrowheads = FALSE,\n",
    "    gridlines.major = TRUE,\n",
    "    gridlines.minor = FALSE,\n",
    "    border = 'partial',\n",
    "    borderWidth = 0.5,\n",
    "    borderColour = 'black')\n",
    "results3_plot"
   ]
  },
  {
   "cell_type": "code",
   "execution_count": null,
   "id": "aae6e066-9843-468a-8006-62186c51a10d",
   "metadata": {},
   "outputs": [],
   "source": [
    "### saving UNFILTERED STAT sig genes into dataframe and csv file\n",
    "\n",
    "# grabbing all sig genes for warm vs. control for phase 1\n",
    "warm_v_control.sig_genes = as.data.frame(results3[which(results3$padj < 0.05), ])\n",
    "\n",
    "# add meta data for those genees\n",
    "sig_wc_genes = merge(warm_v_control.sig_genes, counts_meta, by=\"row.names\")\n",
    "head(sig_wc_genes) \n",
    "\n",
    "# writing csv file\n",
    "write.csv(sig_wc_genes,\n",
    "          \"/project/pi_sarah_gignouxwolfsohn_uml_edu/julia/CE_MethylRAD_analysis_2018/CE_methyl_analysis/significant_genes/sig_p1_wc_genes.csv\")"
   ]
  },
  {
   "cell_type": "code",
   "execution_count": null,
   "id": "f174e5fa-6d34-4ed3-b2e7-e551dd9fbe6e",
   "metadata": {},
   "outputs": [],
   "source": [
    "# saving 'pretty', unfiltered plot as PDF\n",
    "# Open a pdf file\n",
    "setwd(\"/project/pi_sarah_gignouxwolfsohn_uml_edu/julia/CE_MethylRAD_analysis_2018/CE_methyl_analysis/figures\")\n",
    "pdf(\"phase1_warm_control.pdf\", width=10, height=10) \n",
    "# 2. Create a plot\n",
    "results3_plot\n",
    "# Close the pdf filegb\n",
    "dev.off() "
   ]
  },
  {
   "cell_type": "markdown",
   "id": "fbe46a61-f564-4600-9571-2dde5b036163",
   "metadata": {},
   "source": [
    "#### looking at effects of phase 2, ignoring phase 1"
   ]
  },
  {
   "cell_type": "code",
   "execution_count": null,
   "id": "c2551ea2-1e0a-43be-84d5-518c1f75a698",
   "metadata": {},
   "outputs": [],
   "source": [
    "p2_dds <- DESeqDataSetFromMatrix(countData = counts_gene,\n",
    "                              colData = meta, \n",
    "                              design = ~ Phase2)\n",
    "p2_dds=DESeq(p2_dds)\n",
    "resultsNames(p2_dds)"
   ]
  },
  {
   "cell_type": "code",
   "execution_count": null,
   "id": "931ab4f4-b6d5-4e99-92f9-16116e0ad22b",
   "metadata": {},
   "outputs": [],
   "source": [
    "colData(p2_dds)$Phase2 <- factor(colData(p2_dds)$Phase2, levels = c(\"control\", \"hypoxic\", \"warm\", \"both\"))\n",
    "head(colData(p2_dds))"
   ]
  },
  {
   "cell_type": "code",
   "execution_count": null,
   "id": "483b1571-334e-4279-a5fb-1ec2a74abb81",
   "metadata": {},
   "outputs": [],
   "source": [
    "# need to first specify contrasts\n",
    "contrast4 <- c(\"Phase2\", \"hypoxic\", \"both\")\n",
    "contrast5 <- c(\"Phase2\", \"both\", \"control\")\n",
    "#contrast6 <- c(\"Phase2\", \"warm\", \"control\") don't actually have these samples"
   ]
  },
  {
   "cell_type": "code",
   "execution_count": null,
   "id": "cdcd7071-0e81-40ec-ad95-6458c1913fe8",
   "metadata": {},
   "outputs": [],
   "source": [
    "results4 <- results(p2_dds, contrast = contrast4)\n",
    "results5 <- results(p2_dds, contrast = contrast5)\n",
    "#results6 <- results(p2_dds, contrast = contrast6) don't have these samples"
   ]
  },
  {
   "cell_type": "code",
   "execution_count": null,
   "id": "a589cb93-42a3-4e13-afbd-f7ae7d5ea873",
   "metadata": {},
   "outputs": [],
   "source": [
    "# phase 2 hypoxic vs both\n",
    "summary(results4)\n",
    "   \n",
    "EnhancedVolcano(results4,\n",
    "                lab=NA,\n",
    "                x = 'log2FoldChange',\n",
    "                y = 'padj', pCutoff=0.05)"
   ]
  },
  {
   "cell_type": "code",
   "execution_count": null,
   "id": "7a46fd90-c372-46b9-afc3-88d3ad8e7153",
   "metadata": {},
   "outputs": [],
   "source": [
    "### saving sig genes into dataframe and csv file\n",
    "\n",
    "# grabbing all sig genes for hypoxic vs. control for phase 2\n",
    "hypoxic_v_control.sig_genes = as.data.frame(results4[which(results4$padj < 0.05), ])\n",
    "\n",
    "# add meta data for those genes\n",
    "sig_hc_genes = merge(hypoxic_v_control.sig_genes, counts_meta, by=\"row.names\")\n",
    "head(sig_hc_genes)\n",
    "\n",
    "# writing csv file\n",
    "write.csv(sig_hc_genes,\n",
    "          \"/project/pi_sarah_gignouxwolfsohn_uml_edu/julia/CE_MethylRAD_analysis_2018/CE_methyl_analysis/significant_genes/sig_p2_hc_genes.csv\")"
   ]
  },
  {
   "cell_type": "code",
   "execution_count": null,
   "id": "1d04fa66-e3bf-4660-a6d5-89d3ec2a22d1",
   "metadata": {},
   "outputs": [],
   "source": [
    "# phase 2 both vs control\n",
    "summary(results5)\n",
    "   \n",
    "EnhancedVolcano(results5,\n",
    "                lab=NA,\n",
    "                x = 'log2FoldChange',\n",
    "                y = 'padj', pCutoff=0.05)"
   ]
  },
  {
   "cell_type": "code",
   "execution_count": null,
   "id": "42cec046-e43f-41e4-b00d-1ae3bc9020fa",
   "metadata": {},
   "outputs": [],
   "source": [
    "keyvals <- ifelse(\n",
    "results5$log2FoldChange < -1& results5$padj <0.05, \"#000066\",\n",
    "  ifelse(results5$log2FoldChange > 1& results5$padj <0.05,\"#FF6666\" ,\n",
    "    'grey'))\n",
    "keyvals[is.na(keyvals)] <- 'grey'\n",
    "names(keyvals)[keyvals == \"#FF6666\"] <- 'More methylation in Both'\n",
    "names(keyvals)[keyvals == 'grey'] <- 'Not significant'\n",
    "names(keyvals)[keyvals == \"#000066\"] <- 'More methylation in Control'\n",
    "\n",
    "results5_plot <- EnhancedVolcano(results5,\n",
    "    lab = NA,\n",
    "    x = 'log2FoldChange',\n",
    "    y = 'padj', # so we are using padj...\n",
    "    selectLab = rownames(results5)[which(names(keyvals) %in% c('More methylation in Both', 'More methylation in Control'))],\n",
    "    xlab = bquote(~Log[2]~ 'fold change'),\n",
    "    pointSize = 3.5,\n",
    "    pCutoff = 0.05, # and have our p-value cutoff to 0.05\n",
    "    colCustom = keyvals,\n",
    "    colAlpha = 1,\n",
    "    legendPosition = 'left',\n",
    "    legendLabSize = 30,\n",
    "    legendIconSize = 5.0,\n",
    "    drawConnectors = TRUE,\n",
    "    widthConnectors = 1.0,\n",
    "    colConnectors = 'black',\n",
    "    arrowheads = FALSE,\n",
    "    gridlines.major = TRUE,\n",
    "    gridlines.minor = FALSE,\n",
    "    border = 'partial',\n",
    "    borderWidth = 0.5,\n",
    "    borderColour = 'black')\n",
    "results5_plot"
   ]
  },
  {
   "cell_type": "code",
   "execution_count": null,
   "id": "ef05eb83-30bc-4011-8c14-6c6f610982eb",
   "metadata": {},
   "outputs": [],
   "source": [
    "### saving sig genes into dataframe and csv file\n",
    "\n",
    "# grabbing all sig genes for both vs. control for phase 2\n",
    "both_v_control.sig_genes = as.data.frame(results5[which(results5$padj < 0.05), ])\n",
    "\n",
    "# add meta data for those genes\n",
    "sig_bc_genes = merge(both_v_control.sig_genes, counts_meta, by=\"row.names\")\n",
    "head(sig_bc_genes)\n",
    "\n",
    "# writing csv file\n",
    "write.csv(sig_bc_genes,\n",
    "          \"/project/pi_sarah_gignouxwolfsohn_uml_edu/julia/CE_MethylRAD_analysis_2018/CE_methyl_analysis/significant_genes/sig_p2_bc_genes.csv\")"
   ]
  },
  {
   "cell_type": "markdown",
   "id": "968407f0-232b-4877-acce-1e14a9b2b9cf",
   "metadata": {},
   "source": [
    "#### given phase 2, what is the effect of phase 1\n"
   ]
  },
  {
   "cell_type": "code",
   "execution_count": null,
   "id": "8f1a1f4e-6848-4bbc-88c8-bef8d4387d33",
   "metadata": {},
   "outputs": [],
   "source": [
    "# for phase 2 hypoxic\n",
    "p2hypoxic_meta = filter(meta, meta$Phase2 == 'hypoxic')\n",
    "p2hypoxic_meta                               "
   ]
  },
  {
   "cell_type": "code",
   "execution_count": null,
   "id": "4a964eba-61ce-49ab-b62f-893ba48b116c",
   "metadata": {},
   "outputs": [],
   "source": [
    "# have to make sure counts matrix has the same columns as rows in meta\n",
    "p2hypoxic_counts = counts_gene[,colnames(counts_gene) %in% p2hypoxic_meta$unique_ID, drop=FALSE]\n",
    "head(p2hypoxic_counts)"
   ]
  },
  {
   "cell_type": "code",
   "execution_count": null,
   "id": "ecdeff23-494a-4bdc-a4e9-cd09ea11519f",
   "metadata": {},
   "outputs": [],
   "source": [
    "p2h_dds <- DESeqDataSetFromMatrix(countData = p2hypoxic_counts,\n",
    "                              colData = p2hypoxic_meta, \n",
    "                              design = ~ Phase1)\n",
    "p2h_dds=DESeq(p2h_dds)\n",
    "resultsNames(p2h_dds)"
   ]
  },
  {
   "cell_type": "code",
   "execution_count": null,
   "id": "9d7e061b-222e-4a8b-8749-136af244752d",
   "metadata": {},
   "outputs": [],
   "source": [
    "# phase 2 = hypoxic, looking at hypoxic vs. control for phase 1\n",
    "res_p2h=results(p2h_dds, name=\"Phase1_hypoxic_vs_control\")\n",
    "\n",
    "summary(res_p2h)\n",
    "   \n",
    "EnhancedVolcano(res_p2h,\n",
    "                lab=NA,\n",
    "                x = 'log2FoldChange',\n",
    "                y = 'padj', pCutoff=0.05)"
   ]
  },
  {
   "cell_type": "code",
   "execution_count": null,
   "id": "ee3aee56-e737-4a37-8d42-76fd2195269f",
   "metadata": {},
   "outputs": [],
   "source": [
    "### saving sig genes into dataframe and csv file\n",
    "\n",
    "# grabbing all sig genes for hypoxic vs. control for phase 1, given phase 2 (hypoxic)\n",
    "p21_hc.sig_genes = as.data.frame(res_p2h[which(res_p2h$padj < 0.05), ])\n",
    "\n",
    "# add meta data for those genes\n",
    "sig_p2h_hc_genes = merge(p21_hc.sig_genes, counts_meta, by=\"row.names\")\n",
    "head(sig_p2h_hc_genes)\n",
    "\n",
    "# writing csv file\n",
    "write.csv(sig_p2h_hc_genes,\n",
    "          \"/project/pi_sarah_gignouxwolfsohn_uml_edu/julia/CE_MethylRAD_analysis_2018/CE_methyl_analysis/significant_genes/sig_p2h_p1hc_genes.csv\")"
   ]
  },
  {
   "cell_type": "code",
   "execution_count": null,
   "id": "20c06cad-53a3-4b5b-89e3-b149115caa53",
   "metadata": {},
   "outputs": [],
   "source": [
    "# for phase 2 both\n",
    "p2both_meta = filter(meta, meta$Phase2 == 'both')\n",
    "p2both_meta  \n",
    "\n",
    "# have to make sure counts matrix has the same columns as rows in meta\n",
    "p2both_counts = counts_gene[,colnames(counts_gene) %in% p2both_meta$unique_ID, drop=FALSE]\n",
    "head(p2both_counts)"
   ]
  },
  {
   "cell_type": "code",
   "execution_count": null,
   "id": "df7aaaee-cf5b-4366-a0f7-8979131a5028",
   "metadata": {},
   "outputs": [],
   "source": [
    "p2both_dds <- DESeqDataSetFromMatrix(countData = p2both_counts,\n",
    "                              colData = p2both_meta, \n",
    "                              design = ~ Phase1)\n",
    "p2both_dds=DESeq(p2both_dds)\n",
    "resultsNames(p2both_dds)"
   ]
  },
  {
   "cell_type": "code",
   "execution_count": null,
   "id": "a63746a9-e6c5-4fa7-81be-604bf70a5d5b",
   "metadata": {},
   "outputs": [],
   "source": [
    "# phase 1 effects (warm vs. both) given phase 2 (both)\n",
    "res_p2b=results(p2both_dds, name=\"Phase1_warm_vs_both\")\n",
    "\n",
    "summary(res_p2b)\n",
    "   \n",
    "EnhancedVolcano(res_p2b,\n",
    "                lab=NA,\n",
    "                x = 'log2FoldChange',\n",
    "                y = 'padj', pCutoff=0.05)"
   ]
  },
  {
   "cell_type": "code",
   "execution_count": null,
   "id": "26891a48-924b-4af2-9b4d-330b53c3df28",
   "metadata": {},
   "outputs": [],
   "source": [
    "### saving sig genes into dataframe and csv file\n",
    "\n",
    "# grabbing all sig genes for warm vs. both for phase 1, given phase 2 (both)\n",
    "p21_wb.sig_genes = as.data.frame(res_p2b[which(res_p2b$padj < 0.05), ])\n",
    "\n",
    "# add meta data for those genes\n",
    "sig_p2b_wb_genes = merge(p21_wb.sig_genes, counts_meta, by=\"row.names\")\n",
    "head(sig_p2b_wb_genes)\n",
    "\n",
    "# writing csv file\n",
    "write.csv(sig_p2b_wb_genes,\n",
    "          \"/project/pi_sarah_gignouxwolfsohn_uml_edu/julia/CE_MethylRAD_analysis_2018/CE_methyl_analysis/significant_genes/sig_p2b_p1wb_genes.csv\")"
   ]
  },
  {
   "cell_type": "code",
   "execution_count": null,
   "id": "03bdf301-d50b-4bf0-9515-0f378458210e",
   "metadata": {},
   "outputs": [],
   "source": [
    "# for phase 2 both\n",
    "p2control_meta = filter(meta, meta$Phase2 == 'control')\n",
    "p2control_meta  \n",
    "\n",
    "# have to make sure counts matrix has the same columns as rows in meta\n",
    "p2control_counts = counts_gene[,colnames(counts_gene) %in% p2control_meta$unique_ID, drop=FALSE]\n",
    "head(p2control_counts)"
   ]
  },
  {
   "cell_type": "code",
   "execution_count": null,
   "id": "4c6f4109-1931-4792-a591-29ccd5188fa7",
   "metadata": {},
   "outputs": [],
   "source": [
    "p2control_dds <- DESeqDataSetFromMatrix(countData = p2control_counts,\n",
    "                              colData = p2control_meta, \n",
    "                              design = ~ Phase1)\n",
    "p2control_dds=DESeq(p2control_dds)\n",
    "resultsNames(p2control_dds)"
   ]
  },
  {
   "cell_type": "code",
   "execution_count": null,
   "id": "7659d462-2e5c-4dbb-a670-f65d6a08def9",
   "metadata": {},
   "outputs": [],
   "source": [
    "# effects of phase 1 (hypoxic vs. control), given phase 2 (control)\n",
    "res_p2c=results(p2control_dds, name=\"Phase1_hypoxic_vs_control\")\n",
    "\n",
    "summary(res_p2c)\n",
    "   \n",
    "EnhancedVolcano(res_p2c,\n",
    "                lab=NA,\n",
    "                x = 'log2FoldChange',\n",
    "                y = 'padj', pCutoff=0.05)"
   ]
  },
  {
   "cell_type": "code",
   "execution_count": null,
   "id": "7390d3b7-9d63-4e0c-929e-a5958eb666a6",
   "metadata": {},
   "outputs": [],
   "source": [
    "### saving sig genes into dataframe and csv file\n",
    "\n",
    "# grabbing all sig genes for hypoxic vs. control for phase 1, given phase 2 (control)\n",
    "p21_hc.sig_genes = as.data.frame(res_p2c[which(res_p2c$padj < 0.05), ])\n",
    "\n",
    "# add meta data for those genes\n",
    "sig_p2c_hc_genes = merge(p21_hc.sig_genes, counts_meta, by=\"row.names\")\n",
    "head(sig_p2c_hc_genes)\n",
    "\n",
    "# writing csv file\n",
    "write.csv(sig_p2c_hc_genes,\n",
    "          \"/project/pi_sarah_gignouxwolfsohn_uml_edu/julia/CE_MethylRAD_analysis_2018/CE_methyl_analysis/significant_genes/sig_p2c_p1hc_genes.csv\")"
   ]
  },
  {
   "cell_type": "code",
   "execution_count": null,
   "id": "cef3e9f8-67e0-40d0-b69f-18699943b27b",
   "metadata": {},
   "outputs": [],
   "source": [
    "dds_t1 <- DESeqDataSetFromMatrix(countData = counts_gene,\n",
    "                              colData = meta,\n",
    "                              design= ~ T1_temp + T1_oxygen + T1_temp:T1_oxygen)\n",
    "dds_t1=DESeq(dds_t1)\n",
    "resultsNames(dds_t1)"
   ]
  },
  {
   "cell_type": "code",
   "execution_count": null,
   "id": "f00819c8-83c8-408c-9137-85823ac966e7",
   "metadata": {},
   "outputs": [],
   "source": [
    "model.matrix(~T1_temp + T1_oxygen + T1_temp:T1_oxygen, data = meta)"
   ]
  },
  {
   "cell_type": "markdown",
   "id": "af6659c1-597f-4915-8d3d-0318d9fee314",
   "metadata": {},
   "source": [
    "so i should relevel because this is treating normoxic warm as the control I think?"
   ]
  },
  {
   "cell_type": "code",
   "execution_count": null,
   "id": "c7f8c9d1-8523-44ff-88b5-b83df22b779a",
   "metadata": {},
   "outputs": [],
   "source": [
    "tail(meta)"
   ]
  },
  {
   "cell_type": "code",
   "execution_count": null,
   "id": "169850bb-5e80-439d-88f9-40a4e05dd64f",
   "metadata": {},
   "outputs": [],
   "source": [
    "res_t1_temp=results(dds_t1, name=\"T1_temp_warm_vs_ambient\")\n",
    "\n",
    "summary(res_t1_temp)\n",
    "   \n",
    "EnhancedVolcano(res_t1_temp,\n",
    "                lab=NA,\n",
    "                x = 'log2FoldChange',\n",
    "                y = 'padj', pCutoff=0.05)"
   ]
  },
  {
   "cell_type": "code",
   "execution_count": null,
   "id": "48a6313c-5a6e-4857-8c0f-97047cecf324",
   "metadata": {},
   "outputs": [],
   "source": [
    "res_t1_oxygen=results(dds_t1, name=\"T1_oxygen_normoxic_vs_hypoxic\")\n",
    "\n",
    "summary(res_t1_oxygen)\n",
    "   \n",
    "EnhancedVolcano(res_t1_oxygen,\n",
    "                lab=NA,\n",
    "                x = 'log2FoldChange',\n",
    "                y = 'padj', pCutoff=0.05)"
   ]
  },
  {
   "cell_type": "code",
   "execution_count": null,
   "id": "4dc0158c-8e72-4745-b2c3-5c4f0a760af2",
   "metadata": {},
   "outputs": [],
   "source": [
    "res_t1=results(dds_t1, name=\"T1_tempwarm.T1_oxygennormoxic\")\n",
    "\n",
    "summary(res_t1)\n",
    "   \n",
    "EnhancedVolcano(res_t1,\n",
    "                lab=NA,\n",
    "                x = 'log2FoldChange',\n",
    "                y = 'padj', pCutoff=0.05)"
   ]
  },
  {
   "cell_type": "code",
   "execution_count": null,
   "id": "922d8cd8-9332-4bcf-b339-486779fd7eed",
   "metadata": {},
   "outputs": [],
   "source": [
    "dds_t2 <- DESeqDataSetFromMatrix(countData = counts_gene,\n",
    "                              colData = meta,\n",
    "                              design= ~ T2_temp + T2_oxygen)\n",
    "dds_t2=DESeq(dds_t2)\n",
    "resultsNames(dds_t2)"
   ]
  },
  {
   "cell_type": "code",
   "execution_count": null,
   "id": "7f621a3b-050d-4e7c-a589-dcedbc068f2d",
   "metadata": {},
   "outputs": [],
   "source": [
    "res_t2_temp=results(dds_t2, name=\"T2_temp_warm_vs_ambient\")\n",
    "\n",
    "summary(res_t2_temp)\n",
    "   \n",
    "EnhancedVolcano(res_t2_temp,\n",
    "                lab=NA,\n",
    "                x = 'log2FoldChange',\n",
    "                y = 'padj', pCutoff=0.05)"
   ]
  },
  {
   "cell_type": "code",
   "execution_count": null,
   "id": "f8fff00a-9835-4856-970f-976c58708c5b",
   "metadata": {},
   "outputs": [],
   "source": [
    "res_t2_oxygen=results(dds_t2, name=\"T2_oxygen_normoxic_vs_hypoxic\")\n",
    "\n",
    "summary(res_t2_oxygen)\n",
    "   \n",
    "EnhancedVolcano(res_t2_oxygen,\n",
    "                lab=NA,\n",
    "                x = 'log2FoldChange',\n",
    "                y = 'padj', pCutoff=0.05)"
   ]
  }
 ],
 "metadata": {
  "kernelspec": {
   "display_name": "R [conda env:.conda-r-env]",
   "language": "R",
   "name": "conda-env-.conda-r-env-r"
  },
  "language_info": {
   "codemirror_mode": "r",
   "file_extension": ".r",
   "mimetype": "text/x-r-source",
   "name": "R",
   "pygments_lexer": "r",
   "version": "4.3.2"
  }
 },
 "nbformat": 4,
 "nbformat_minor": 5
}
