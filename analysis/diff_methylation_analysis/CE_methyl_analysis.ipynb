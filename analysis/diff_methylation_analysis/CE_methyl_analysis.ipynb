{
 "cells": [
  {
   "cell_type": "markdown",
   "id": "fe3d0a6b-9822-4af3-8260-810baa80f639",
   "metadata": {},
   "source": [
    "#### installing packages\n",
    "DESeq2, dplyr, EnhancedVolcano"
   ]
  },
  {
   "cell_type": "code",
   "execution_count": 1,
   "id": "ef0daac7-a801-4884-a9fc-94b6d061d349",
   "metadata": {},
   "outputs": [],
   "source": [
    "options(repr.plot.width=15, repr.plot.height=15)"
   ]
  },
  {
   "cell_type": "code",
   "execution_count": 1,
   "id": "f8fc93e2-afcd-4aca-9ef5-7e425df1d65c",
   "metadata": {},
   "outputs": [
    {
     "name": "stderr",
     "output_type": "stream",
     "text": [
      "Loading required package: S4Vectors\n",
      "\n",
      "Loading required package: stats4\n",
      "\n",
      "Loading required package: BiocGenerics\n",
      "\n",
      "\n",
      "Attaching package: ‘BiocGenerics’\n",
      "\n",
      "\n",
      "The following objects are masked from ‘package:stats’:\n",
      "\n",
      "    IQR, mad, sd, var, xtabs\n",
      "\n",
      "\n",
      "The following objects are masked from ‘package:base’:\n",
      "\n",
      "    anyDuplicated, aperm, append, as.data.frame, basename, cbind,\n",
      "    colnames, dirname, do.call, duplicated, eval, evalq, Filter, Find,\n",
      "    get, grep, grepl, intersect, is.unsorted, lapply, Map, mapply,\n",
      "    match, mget, order, paste, pmax, pmax.int, pmin, pmin.int,\n",
      "    Position, rank, rbind, Reduce, rownames, sapply, setdiff, sort,\n",
      "    table, tapply, union, unique, unsplit, which.max, which.min\n",
      "\n",
      "\n",
      "\n",
      "Attaching package: ‘S4Vectors’\n",
      "\n",
      "\n",
      "The following object is masked from ‘package:utils’:\n",
      "\n",
      "    findMatches\n",
      "\n",
      "\n",
      "The following objects are masked from ‘package:base’:\n",
      "\n",
      "    expand.grid, I, unname\n",
      "\n",
      "\n",
      "Loading required package: IRanges\n",
      "\n",
      "Loading required package: GenomicRanges\n",
      "\n",
      "Loading required package: GenomeInfoDb\n",
      "\n",
      "Loading required package: SummarizedExperiment\n",
      "\n",
      "Loading required package: MatrixGenerics\n",
      "\n",
      "Loading required package: matrixStats\n",
      "\n",
      "\n",
      "Attaching package: ‘MatrixGenerics’\n",
      "\n",
      "\n",
      "The following objects are masked from ‘package:matrixStats’:\n",
      "\n",
      "    colAlls, colAnyNAs, colAnys, colAvgsPerRowSet, colCollapse,\n",
      "    colCounts, colCummaxs, colCummins, colCumprods, colCumsums,\n",
      "    colDiffs, colIQRDiffs, colIQRs, colLogSumExps, colMadDiffs,\n",
      "    colMads, colMaxs, colMeans2, colMedians, colMins, colOrderStats,\n",
      "    colProds, colQuantiles, colRanges, colRanks, colSdDiffs, colSds,\n",
      "    colSums2, colTabulates, colVarDiffs, colVars, colWeightedMads,\n",
      "    colWeightedMeans, colWeightedMedians, colWeightedSds,\n",
      "    colWeightedVars, rowAlls, rowAnyNAs, rowAnys, rowAvgsPerColSet,\n",
      "    rowCollapse, rowCounts, rowCummaxs, rowCummins, rowCumprods,\n",
      "    rowCumsums, rowDiffs, rowIQRDiffs, rowIQRs, rowLogSumExps,\n",
      "    rowMadDiffs, rowMads, rowMaxs, rowMeans2, rowMedians, rowMins,\n",
      "    rowOrderStats, rowProds, rowQuantiles, rowRanges, rowRanks,\n",
      "    rowSdDiffs, rowSds, rowSums2, rowTabulates, rowVarDiffs, rowVars,\n",
      "    rowWeightedMads, rowWeightedMeans, rowWeightedMedians,\n",
      "    rowWeightedSds, rowWeightedVars\n",
      "\n",
      "\n",
      "Loading required package: Biobase\n",
      "\n",
      "Welcome to Bioconductor\n",
      "\n",
      "    Vignettes contain introductory material; view with\n",
      "    'browseVignettes()'. To cite Bioconductor, see\n",
      "    'citation(\"Biobase\")', and for packages 'citation(\"pkgname\")'.\n",
      "\n",
      "\n",
      "\n",
      "Attaching package: ‘Biobase’\n",
      "\n",
      "\n",
      "The following object is masked from ‘package:MatrixGenerics’:\n",
      "\n",
      "    rowMedians\n",
      "\n",
      "\n",
      "The following objects are masked from ‘package:matrixStats’:\n",
      "\n",
      "    anyMissing, rowMedians\n",
      "\n",
      "\n"
     ]
    }
   ],
   "source": [
    "library(DESeq2)\n",
    "# this only works when i'm in r-env"
   ]
  },
  {
   "cell_type": "code",
   "execution_count": 2,
   "id": "ebf0a0c6-c1ed-4774-93ee-302a1b73b884",
   "metadata": {},
   "outputs": [
    {
     "name": "stderr",
     "output_type": "stream",
     "text": [
      "\n",
      "Attaching package: ‘dplyr’\n",
      "\n",
      "\n",
      "The following object is masked from ‘package:Biobase’:\n",
      "\n",
      "    combine\n",
      "\n",
      "\n",
      "The following object is masked from ‘package:matrixStats’:\n",
      "\n",
      "    count\n",
      "\n",
      "\n",
      "The following objects are masked from ‘package:GenomicRanges’:\n",
      "\n",
      "    intersect, setdiff, union\n",
      "\n",
      "\n",
      "The following object is masked from ‘package:GenomeInfoDb’:\n",
      "\n",
      "    intersect\n",
      "\n",
      "\n",
      "The following objects are masked from ‘package:IRanges’:\n",
      "\n",
      "    collapse, desc, intersect, setdiff, slice, union\n",
      "\n",
      "\n",
      "The following objects are masked from ‘package:S4Vectors’:\n",
      "\n",
      "    first, intersect, rename, setdiff, setequal, union\n",
      "\n",
      "\n",
      "The following objects are masked from ‘package:BiocGenerics’:\n",
      "\n",
      "    combine, intersect, setdiff, union\n",
      "\n",
      "\n",
      "The following objects are masked from ‘package:stats’:\n",
      "\n",
      "    filter, lag\n",
      "\n",
      "\n",
      "The following objects are masked from ‘package:base’:\n",
      "\n",
      "    intersect, setdiff, setequal, union\n",
      "\n",
      "\n"
     ]
    }
   ],
   "source": [
    "library(dplyr)"
   ]
  },
  {
   "cell_type": "code",
   "execution_count": 3,
   "id": "801a5d5f-1a3d-453b-9930-216c9157218f",
   "metadata": {},
   "outputs": [
    {
     "name": "stderr",
     "output_type": "stream",
     "text": [
      "'getOption(\"repos\")' replaces Bioconductor standard repositories, see\n",
      "'help(\"repositories\", package = \"BiocManager\")' for details.\n",
      "Replacement repositories:\n",
      "    CRAN: https://cran.r-project.org\n",
      "\n",
      "Bioconductor version 3.18 (BiocManager 1.30.22), R 4.3.2 (2023-10-31)\n",
      "\n",
      "Warning message:\n",
      "“package(s) not installed when version(s) same as or greater than current; use\n",
      "  `force = TRUE` to re-install: 'EnhancedVolcano'”\n",
      "Old packages: 'BH', 'biomaRt', 'Biostrings', 'brew', 'brio', 'bslib',\n",
      "  'commonmark', 'cowplot', 'curl', 'data.table', 'DBI', 'desc', 'digest',\n",
      "  'GenomeInfoDb', 'GenomicAlignments', 'GenomicFeatures', 'ggfun',\n",
      "  'ggnewscale', 'ggrepel', 'glue', 'GOSemSim', 'graphlayouts', 'haven',\n",
      "  'htmlwidgets', 'httpuv', 'igraph', 'MASS', 'Matrix', 'mgcv', 'nlme',\n",
      "  'patchwork', 'pbdZMQ', 'pkgbuild', 'pkgload', 'ps', 'ragg', 'Rcpp',\n",
      "  'RcppArmadillo', 'RCurl', 'readr', 'reprex', 'Rhtslib', 'rlang', 'rvest',\n",
      "  'scales', 'shadowtext', 'shiny', 'SparseArray', 'testthat', 'tidygraph',\n",
      "  'tidyr', 'timechange', 'uuid', 'viridis', 'vroom', 'withr', 'xfun', 'XML',\n",
      "  'xml2', 'yulab.utils', 'zip'\n",
      "\n"
     ]
    }
   ],
   "source": [
    "if (!require(\"BiocManager\", quietly = TRUE))\n",
    "    install.packages(\"BiocManager\")\n",
    "\n",
    "BiocManager::install(\"EnhancedVolcano\")"
   ]
  },
  {
   "cell_type": "code",
   "execution_count": 4,
   "id": "a81fbab5-2ee0-4c63-8bbb-62181ecb4571",
   "metadata": {},
   "outputs": [
    {
     "name": "stderr",
     "output_type": "stream",
     "text": [
      "Loading required package: ggplot2\n",
      "\n",
      "Loading required package: ggrepel\n",
      "\n"
     ]
    }
   ],
   "source": [
    "library(EnhancedVolcano)"
   ]
  },
  {
   "cell_type": "markdown",
   "id": "a19b0d6f-e130-4afc-b2d6-b91cc24d0551",
   "metadata": {},
   "source": [
    "#### loading in data frames\n",
    "specifically the meta data, counts matrices, and gtf file"
   ]
  },
  {
   "cell_type": "code",
   "execution_count": 6,
   "id": "c8fd5a7c-dc6e-4c5c-82d9-099091fa2abb",
   "metadata": {},
   "outputs": [
    {
     "data": {
      "text/html": [
       "<table class=\"dataframe\">\n",
       "<caption>A data.frame: 6 × 13</caption>\n",
       "<thead>\n",
       "\t<tr><th></th><th scope=col>sample_ID</th><th scope=col>unique_ID</th><th scope=col>T1_code</th><th scope=col>T2_code</th><th scope=col>ID_code</th><th scope=col>T1_oxygen</th><th scope=col>T1_temp</th><th scope=col>Tank1</th><th scope=col>T2_oxygen</th><th scope=col>T2_temp</th><th scope=col>Tank2</th><th scope=col>Phase1</th><th scope=col>Phase2</th></tr>\n",
       "\t<tr><th></th><th scope=col>&lt;chr&gt;</th><th scope=col>&lt;chr&gt;</th><th scope=col>&lt;chr&gt;</th><th scope=col>&lt;chr&gt;</th><th scope=col>&lt;chr&gt;</th><th scope=col>&lt;chr&gt;</th><th scope=col>&lt;chr&gt;</th><th scope=col>&lt;chr&gt;</th><th scope=col>&lt;chr&gt;</th><th scope=col>&lt;chr&gt;</th><th scope=col>&lt;chr&gt;</th><th scope=col>&lt;chr&gt;</th><th scope=col>&lt;chr&gt;</th></tr>\n",
       "</thead>\n",
       "<tbody>\n",
       "\t<tr><th scope=row>1</th><td>2018--BBB-WBO-B21-CV</td><td>BBB-WBO-B21</td><td>BBB</td><td>WBO</td><td>B21</td><td>hypoxic</td><td>ambient</td><td>B</td><td>normoxic</td><td>ambient</td><td>O</td><td>hypoxic</td><td>control</td></tr>\n",
       "\t<tr><th scope=row>2</th><td>2018--BBB-WBV-B70-CV</td><td>BBB-WBV-B70</td><td>BBB</td><td>WBV</td><td>B70</td><td>hypoxic</td><td>ambient</td><td>B</td><td>normoxic</td><td>ambient</td><td>V</td><td>hypoxic</td><td>control</td></tr>\n",
       "\t<tr><th scope=row>3</th><td>2018--BBO-BBO-B16-CV</td><td>BBO-BBO-B16</td><td>BBO</td><td>BBO</td><td>B16</td><td>hypoxic</td><td>ambient</td><td>O</td><td>hypoxic </td><td>ambient</td><td>O</td><td>hypoxic</td><td>hypoxic</td></tr>\n",
       "\t<tr><th scope=row>4</th><td>2018--BBO-BBY-B27-CV</td><td>BBO-BBY-B27</td><td>BBO</td><td>BBY</td><td>B27</td><td>hypoxic</td><td>ambient</td><td>O</td><td>hypoxic </td><td>ambient</td><td>Y</td><td>hypoxic</td><td>hypoxic</td></tr>\n",
       "\t<tr><th scope=row>5</th><td>2018--BBO-WBO-B16-CV</td><td>BBO-WBO-B16</td><td>BBO</td><td>WBO</td><td>B16</td><td>hypoxic</td><td>ambient</td><td>O</td><td>normoxic</td><td>ambient</td><td>O</td><td>hypoxic</td><td>control</td></tr>\n",
       "\t<tr><th scope=row>6</th><td>2018--BBO-WBV-B64-CV</td><td>BBO-WBV-B64</td><td>BBO</td><td>WBV</td><td>B64</td><td>hypoxic</td><td>ambient</td><td>O</td><td>normoxic</td><td>ambient</td><td>V</td><td>hypoxic</td><td>control</td></tr>\n",
       "</tbody>\n",
       "</table>\n"
      ],
      "text/latex": [
       "A data.frame: 6 × 13\n",
       "\\begin{tabular}{r|lllllllllllll}\n",
       "  & sample\\_ID & unique\\_ID & T1\\_code & T2\\_code & ID\\_code & T1\\_oxygen & T1\\_temp & Tank1 & T2\\_oxygen & T2\\_temp & Tank2 & Phase1 & Phase2\\\\\n",
       "  & <chr> & <chr> & <chr> & <chr> & <chr> & <chr> & <chr> & <chr> & <chr> & <chr> & <chr> & <chr> & <chr>\\\\\n",
       "\\hline\n",
       "\t1 & 2018--BBB-WBO-B21-CV & BBB-WBO-B21 & BBB & WBO & B21 & hypoxic & ambient & B & normoxic & ambient & O & hypoxic & control\\\\\n",
       "\t2 & 2018--BBB-WBV-B70-CV & BBB-WBV-B70 & BBB & WBV & B70 & hypoxic & ambient & B & normoxic & ambient & V & hypoxic & control\\\\\n",
       "\t3 & 2018--BBO-BBO-B16-CV & BBO-BBO-B16 & BBO & BBO & B16 & hypoxic & ambient & O & hypoxic  & ambient & O & hypoxic & hypoxic\\\\\n",
       "\t4 & 2018--BBO-BBY-B27-CV & BBO-BBY-B27 & BBO & BBY & B27 & hypoxic & ambient & O & hypoxic  & ambient & Y & hypoxic & hypoxic\\\\\n",
       "\t5 & 2018--BBO-WBO-B16-CV & BBO-WBO-B16 & BBO & WBO & B16 & hypoxic & ambient & O & normoxic & ambient & O & hypoxic & control\\\\\n",
       "\t6 & 2018--BBO-WBV-B64-CV & BBO-WBV-B64 & BBO & WBV & B64 & hypoxic & ambient & O & normoxic & ambient & V & hypoxic & control\\\\\n",
       "\\end{tabular}\n"
      ],
      "text/markdown": [
       "\n",
       "A data.frame: 6 × 13\n",
       "\n",
       "| <!--/--> | sample_ID &lt;chr&gt; | unique_ID &lt;chr&gt; | T1_code &lt;chr&gt; | T2_code &lt;chr&gt; | ID_code &lt;chr&gt; | T1_oxygen &lt;chr&gt; | T1_temp &lt;chr&gt; | Tank1 &lt;chr&gt; | T2_oxygen &lt;chr&gt; | T2_temp &lt;chr&gt; | Tank2 &lt;chr&gt; | Phase1 &lt;chr&gt; | Phase2 &lt;chr&gt; |\n",
       "|---|---|---|---|---|---|---|---|---|---|---|---|---|---|\n",
       "| 1 | 2018--BBB-WBO-B21-CV | BBB-WBO-B21 | BBB | WBO | B21 | hypoxic | ambient | B | normoxic | ambient | O | hypoxic | control |\n",
       "| 2 | 2018--BBB-WBV-B70-CV | BBB-WBV-B70 | BBB | WBV | B70 | hypoxic | ambient | B | normoxic | ambient | V | hypoxic | control |\n",
       "| 3 | 2018--BBO-BBO-B16-CV | BBO-BBO-B16 | BBO | BBO | B16 | hypoxic | ambient | O | hypoxic  | ambient | O | hypoxic | hypoxic |\n",
       "| 4 | 2018--BBO-BBY-B27-CV | BBO-BBY-B27 | BBO | BBY | B27 | hypoxic | ambient | O | hypoxic  | ambient | Y | hypoxic | hypoxic |\n",
       "| 5 | 2018--BBO-WBO-B16-CV | BBO-WBO-B16 | BBO | WBO | B16 | hypoxic | ambient | O | normoxic | ambient | O | hypoxic | control |\n",
       "| 6 | 2018--BBO-WBV-B64-CV | BBO-WBV-B64 | BBO | WBV | B64 | hypoxic | ambient | O | normoxic | ambient | V | hypoxic | control |\n",
       "\n"
      ],
      "text/plain": [
       "  sample_ID            unique_ID   T1_code T2_code ID_code T1_oxygen T1_temp\n",
       "1 2018--BBB-WBO-B21-CV BBB-WBO-B21 BBB     WBO     B21     hypoxic   ambient\n",
       "2 2018--BBB-WBV-B70-CV BBB-WBV-B70 BBB     WBV     B70     hypoxic   ambient\n",
       "3 2018--BBO-BBO-B16-CV BBO-BBO-B16 BBO     BBO     B16     hypoxic   ambient\n",
       "4 2018--BBO-BBY-B27-CV BBO-BBY-B27 BBO     BBY     B27     hypoxic   ambient\n",
       "5 2018--BBO-WBO-B16-CV BBO-WBO-B16 BBO     WBO     B16     hypoxic   ambient\n",
       "6 2018--BBO-WBV-B64-CV BBO-WBV-B64 BBO     WBV     B64     hypoxic   ambient\n",
       "  Tank1 T2_oxygen T2_temp Tank2 Phase1  Phase2 \n",
       "1 B     normoxic  ambient O     hypoxic control\n",
       "2 B     normoxic  ambient V     hypoxic control\n",
       "3 O     hypoxic   ambient O     hypoxic hypoxic\n",
       "4 O     hypoxic   ambient Y     hypoxic hypoxic\n",
       "5 O     normoxic  ambient O     hypoxic control\n",
       "6 O     normoxic  ambient V     hypoxic control"
      ]
     },
     "metadata": {},
     "output_type": "display_data"
    }
   ],
   "source": [
    "meta = read.csv(\"/project/pi_sarah_gignouxwolfsohn_uml_edu/julia/CE_MethylRAD_analysis_2018/analysis/counts_and_meta/CV_CE18_meta.csv\")\n",
    "head(meta)"
   ]
  },
  {
   "cell_type": "code",
   "execution_count": 7,
   "id": "afe405f4-d719-49ce-ac02-041e4ca89661",
   "metadata": {},
   "outputs": [
    {
     "data": {
      "text/html": [
       "<table class=\"dataframe\">\n",
       "<caption>A data.frame: 6 × 31</caption>\n",
       "<thead>\n",
       "\t<tr><th></th><th scope=col>X</th><th scope=col>X0</th><th scope=col>X0.1</th><th scope=col>X0.2</th><th scope=col>X0.3</th><th scope=col>X0.4</th><th scope=col>X0.5</th><th scope=col>X0.6</th><th scope=col>X0.7</th><th scope=col>X0.8</th><th scope=col>⋯</th><th scope=col>X0.20</th><th scope=col>X0.21</th><th scope=col>X0.22</th><th scope=col>X0.23</th><th scope=col>X0.24</th><th scope=col>X0.25</th><th scope=col>X0.26</th><th scope=col>X0.27</th><th scope=col>X0.28</th><th scope=col>X0.29</th></tr>\n",
       "\t<tr><th></th><th scope=col>&lt;chr&gt;</th><th scope=col>&lt;int&gt;</th><th scope=col>&lt;int&gt;</th><th scope=col>&lt;int&gt;</th><th scope=col>&lt;int&gt;</th><th scope=col>&lt;int&gt;</th><th scope=col>&lt;int&gt;</th><th scope=col>&lt;int&gt;</th><th scope=col>&lt;int&gt;</th><th scope=col>&lt;int&gt;</th><th scope=col>⋯</th><th scope=col>&lt;int&gt;</th><th scope=col>&lt;int&gt;</th><th scope=col>&lt;int&gt;</th><th scope=col>&lt;int&gt;</th><th scope=col>&lt;int&gt;</th><th scope=col>&lt;int&gt;</th><th scope=col>&lt;int&gt;</th><th scope=col>&lt;int&gt;</th><th scope=col>&lt;int&gt;</th><th scope=col>&lt;int&gt;</th></tr>\n",
       "</thead>\n",
       "<tbody>\n",
       "\t<tr><th scope=row>1</th><td>LOC111099029</td><td>5</td><td>12</td><td>14</td><td>11</td><td>14</td><td>12</td><td>9</td><td>14</td><td>11</td><td>⋯</td><td>9</td><td>6</td><td>1</td><td>30</td><td>12</td><td>15</td><td>0</td><td>0</td><td>3</td><td>0</td></tr>\n",
       "\t<tr><th scope=row>2</th><td>LOC111099030</td><td>0</td><td> 0</td><td> 0</td><td> 0</td><td> 0</td><td> 0</td><td>0</td><td> 0</td><td> 0</td><td>⋯</td><td>0</td><td>0</td><td>0</td><td> 0</td><td> 0</td><td> 0</td><td>0</td><td>0</td><td>0</td><td>0</td></tr>\n",
       "\t<tr><th scope=row>3</th><td>LOC111099031</td><td>0</td><td> 0</td><td> 0</td><td> 0</td><td> 0</td><td> 0</td><td>0</td><td> 0</td><td> 0</td><td>⋯</td><td>0</td><td>0</td><td>0</td><td> 0</td><td> 0</td><td> 0</td><td>0</td><td>0</td><td>0</td><td>0</td></tr>\n",
       "\t<tr><th scope=row>4</th><td>LOC111099032</td><td>0</td><td> 0</td><td> 0</td><td> 0</td><td> 0</td><td> 0</td><td>0</td><td> 0</td><td> 0</td><td>⋯</td><td>0</td><td>0</td><td>0</td><td> 0</td><td> 0</td><td> 0</td><td>0</td><td>0</td><td>0</td><td>0</td></tr>\n",
       "\t<tr><th scope=row>5</th><td>LOC111099033</td><td>0</td><td> 0</td><td>10</td><td> 0</td><td> 1</td><td> 0</td><td>0</td><td> 0</td><td> 0</td><td>⋯</td><td>1</td><td>0</td><td>0</td><td> 1</td><td> 0</td><td> 0</td><td>0</td><td>0</td><td>0</td><td>0</td></tr>\n",
       "\t<tr><th scope=row>6</th><td>LOC111099034</td><td>0</td><td> 0</td><td> 0</td><td> 0</td><td> 0</td><td> 0</td><td>0</td><td> 0</td><td> 0</td><td>⋯</td><td>0</td><td>0</td><td>0</td><td> 0</td><td> 0</td><td> 0</td><td>0</td><td>0</td><td>0</td><td>0</td></tr>\n",
       "</tbody>\n",
       "</table>\n"
      ],
      "text/latex": [
       "A data.frame: 6 × 31\n",
       "\\begin{tabular}{r|lllllllllllllllllllll}\n",
       "  & X & X0 & X0.1 & X0.2 & X0.3 & X0.4 & X0.5 & X0.6 & X0.7 & X0.8 & ⋯ & X0.20 & X0.21 & X0.22 & X0.23 & X0.24 & X0.25 & X0.26 & X0.27 & X0.28 & X0.29\\\\\n",
       "  & <chr> & <int> & <int> & <int> & <int> & <int> & <int> & <int> & <int> & <int> & ⋯ & <int> & <int> & <int> & <int> & <int> & <int> & <int> & <int> & <int> & <int>\\\\\n",
       "\\hline\n",
       "\t1 & LOC111099029 & 5 & 12 & 14 & 11 & 14 & 12 & 9 & 14 & 11 & ⋯ & 9 & 6 & 1 & 30 & 12 & 15 & 0 & 0 & 3 & 0\\\\\n",
       "\t2 & LOC111099030 & 0 &  0 &  0 &  0 &  0 &  0 & 0 &  0 &  0 & ⋯ & 0 & 0 & 0 &  0 &  0 &  0 & 0 & 0 & 0 & 0\\\\\n",
       "\t3 & LOC111099031 & 0 &  0 &  0 &  0 &  0 &  0 & 0 &  0 &  0 & ⋯ & 0 & 0 & 0 &  0 &  0 &  0 & 0 & 0 & 0 & 0\\\\\n",
       "\t4 & LOC111099032 & 0 &  0 &  0 &  0 &  0 &  0 & 0 &  0 &  0 & ⋯ & 0 & 0 & 0 &  0 &  0 &  0 & 0 & 0 & 0 & 0\\\\\n",
       "\t5 & LOC111099033 & 0 &  0 & 10 &  0 &  1 &  0 & 0 &  0 &  0 & ⋯ & 1 & 0 & 0 &  1 &  0 &  0 & 0 & 0 & 0 & 0\\\\\n",
       "\t6 & LOC111099034 & 0 &  0 &  0 &  0 &  0 &  0 & 0 &  0 &  0 & ⋯ & 0 & 0 & 0 &  0 &  0 &  0 & 0 & 0 & 0 & 0\\\\\n",
       "\\end{tabular}\n"
      ],
      "text/markdown": [
       "\n",
       "A data.frame: 6 × 31\n",
       "\n",
       "| <!--/--> | X &lt;chr&gt; | X0 &lt;int&gt; | X0.1 &lt;int&gt; | X0.2 &lt;int&gt; | X0.3 &lt;int&gt; | X0.4 &lt;int&gt; | X0.5 &lt;int&gt; | X0.6 &lt;int&gt; | X0.7 &lt;int&gt; | X0.8 &lt;int&gt; | ⋯ ⋯ | X0.20 &lt;int&gt; | X0.21 &lt;int&gt; | X0.22 &lt;int&gt; | X0.23 &lt;int&gt; | X0.24 &lt;int&gt; | X0.25 &lt;int&gt; | X0.26 &lt;int&gt; | X0.27 &lt;int&gt; | X0.28 &lt;int&gt; | X0.29 &lt;int&gt; |\n",
       "|---|---|---|---|---|---|---|---|---|---|---|---|---|---|---|---|---|---|---|---|---|---|\n",
       "| 1 | LOC111099029 | 5 | 12 | 14 | 11 | 14 | 12 | 9 | 14 | 11 | ⋯ | 9 | 6 | 1 | 30 | 12 | 15 | 0 | 0 | 3 | 0 |\n",
       "| 2 | LOC111099030 | 0 |  0 |  0 |  0 |  0 |  0 | 0 |  0 |  0 | ⋯ | 0 | 0 | 0 |  0 |  0 |  0 | 0 | 0 | 0 | 0 |\n",
       "| 3 | LOC111099031 | 0 |  0 |  0 |  0 |  0 |  0 | 0 |  0 |  0 | ⋯ | 0 | 0 | 0 |  0 |  0 |  0 | 0 | 0 | 0 | 0 |\n",
       "| 4 | LOC111099032 | 0 |  0 |  0 |  0 |  0 |  0 | 0 |  0 |  0 | ⋯ | 0 | 0 | 0 |  0 |  0 |  0 | 0 | 0 | 0 | 0 |\n",
       "| 5 | LOC111099033 | 0 |  0 | 10 |  0 |  1 |  0 | 0 |  0 |  0 | ⋯ | 1 | 0 | 0 |  1 |  0 |  0 | 0 | 0 | 0 | 0 |\n",
       "| 6 | LOC111099034 | 0 |  0 |  0 |  0 |  0 |  0 | 0 |  0 |  0 | ⋯ | 0 | 0 | 0 |  0 |  0 |  0 | 0 | 0 | 0 | 0 |\n",
       "\n"
      ],
      "text/plain": [
       "  X            X0 X0.1 X0.2 X0.3 X0.4 X0.5 X0.6 X0.7 X0.8 ⋯ X0.20 X0.21 X0.22\n",
       "1 LOC111099029 5  12   14   11   14   12   9    14   11   ⋯ 9     6     1    \n",
       "2 LOC111099030 0   0    0    0    0    0   0     0    0   ⋯ 0     0     0    \n",
       "3 LOC111099031 0   0    0    0    0    0   0     0    0   ⋯ 0     0     0    \n",
       "4 LOC111099032 0   0    0    0    0    0   0     0    0   ⋯ 0     0     0    \n",
       "5 LOC111099033 0   0   10    0    1    0   0     0    0   ⋯ 1     0     0    \n",
       "6 LOC111099034 0   0    0    0    0    0   0     0    0   ⋯ 0     0     0    \n",
       "  X0.23 X0.24 X0.25 X0.26 X0.27 X0.28 X0.29\n",
       "1 30    12    15    0     0     3     0    \n",
       "2  0     0     0    0     0     0     0    \n",
       "3  0     0     0    0     0     0     0    \n",
       "4  0     0     0    0     0     0     0    \n",
       "5  1     0     0    0     0     0     0    \n",
       "6  0     0     0    0     0     0     0    "
      ]
     },
     "metadata": {},
     "output_type": "display_data"
    }
   ],
   "source": [
    "# counts matrix generated from htseq-counts, with type=exon\n",
    "counts_exon = read.csv(\"/project/pi_sarah_gignouxwolfsohn_uml_edu/julia/CE_MethylRAD_analysis_2018/analysis/counts_and_meta/counts_exon.txt\", sep='\\t')\n",
    "head(counts_exon)"
   ]
  },
  {
   "cell_type": "code",
   "execution_count": 8,
   "id": "965b46d8-8703-4397-add7-0fcc6afd2fcd",
   "metadata": {},
   "outputs": [
    {
     "data": {
      "text/html": [
       "<table class=\"dataframe\">\n",
       "<caption>A data.frame: 6 × 31</caption>\n",
       "<thead>\n",
       "\t<tr><th></th><th scope=col>ATP6</th><th scope=col>X0</th><th scope=col>X0.1</th><th scope=col>X0.2</th><th scope=col>X0.3</th><th scope=col>X0.4</th><th scope=col>X0.5</th><th scope=col>X0.6</th><th scope=col>X0.7</th><th scope=col>X0.8</th><th scope=col>⋯</th><th scope=col>X0.20</th><th scope=col>X0.21</th><th scope=col>X0.22</th><th scope=col>X0.23</th><th scope=col>X0.24</th><th scope=col>X0.25</th><th scope=col>X0.26</th><th scope=col>X0.27</th><th scope=col>X0.28</th><th scope=col>X0.29</th></tr>\n",
       "\t<tr><th></th><th scope=col>&lt;chr&gt;</th><th scope=col>&lt;int&gt;</th><th scope=col>&lt;int&gt;</th><th scope=col>&lt;int&gt;</th><th scope=col>&lt;int&gt;</th><th scope=col>&lt;int&gt;</th><th scope=col>&lt;int&gt;</th><th scope=col>&lt;int&gt;</th><th scope=col>&lt;int&gt;</th><th scope=col>&lt;int&gt;</th><th scope=col>⋯</th><th scope=col>&lt;int&gt;</th><th scope=col>&lt;int&gt;</th><th scope=col>&lt;int&gt;</th><th scope=col>&lt;int&gt;</th><th scope=col>&lt;int&gt;</th><th scope=col>&lt;int&gt;</th><th scope=col>&lt;int&gt;</th><th scope=col>&lt;int&gt;</th><th scope=col>&lt;int&gt;</th><th scope=col>&lt;int&gt;</th></tr>\n",
       "</thead>\n",
       "<tbody>\n",
       "\t<tr><th scope=row>1</th><td>COX1        </td><td>0</td><td> 0</td><td> 0</td><td> 0</td><td> 0</td><td> 0</td><td>0</td><td> 0</td><td> 0</td><td>⋯</td><td>0</td><td>0</td><td>0</td><td> 0</td><td> 0</td><td> 0</td><td>0</td><td>0</td><td>0</td><td>0</td></tr>\n",
       "\t<tr><th scope=row>2</th><td>COX2        </td><td>0</td><td> 0</td><td> 0</td><td> 0</td><td> 0</td><td> 0</td><td>0</td><td> 0</td><td> 0</td><td>⋯</td><td>0</td><td>0</td><td>0</td><td> 0</td><td> 0</td><td> 0</td><td>0</td><td>0</td><td>0</td><td>0</td></tr>\n",
       "\t<tr><th scope=row>3</th><td>COX3        </td><td>0</td><td> 0</td><td> 0</td><td> 0</td><td> 0</td><td> 0</td><td>0</td><td> 0</td><td> 0</td><td>⋯</td><td>0</td><td>0</td><td>0</td><td> 0</td><td> 0</td><td> 0</td><td>0</td><td>0</td><td>0</td><td>0</td></tr>\n",
       "\t<tr><th scope=row>4</th><td>CYTB        </td><td>0</td><td> 0</td><td> 0</td><td> 0</td><td> 0</td><td> 0</td><td>0</td><td> 0</td><td> 0</td><td>⋯</td><td>0</td><td>0</td><td>0</td><td> 0</td><td> 0</td><td> 0</td><td>0</td><td>0</td><td>0</td><td>0</td></tr>\n",
       "\t<tr><th scope=row>5</th><td>LOC111099029</td><td>7</td><td>13</td><td>15</td><td>11</td><td>16</td><td>12</td><td>9</td><td>15</td><td>11</td><td>⋯</td><td>9</td><td>6</td><td>1</td><td>30</td><td>13</td><td>15</td><td>0</td><td>0</td><td>4</td><td>0</td></tr>\n",
       "\t<tr><th scope=row>6</th><td>LOC111099030</td><td>0</td><td> 0</td><td> 0</td><td> 0</td><td> 0</td><td> 0</td><td>0</td><td> 0</td><td> 0</td><td>⋯</td><td>0</td><td>0</td><td>0</td><td> 0</td><td> 0</td><td> 0</td><td>0</td><td>0</td><td>0</td><td>0</td></tr>\n",
       "</tbody>\n",
       "</table>\n"
      ],
      "text/latex": [
       "A data.frame: 6 × 31\n",
       "\\begin{tabular}{r|lllllllllllllllllllll}\n",
       "  & ATP6 & X0 & X0.1 & X0.2 & X0.3 & X0.4 & X0.5 & X0.6 & X0.7 & X0.8 & ⋯ & X0.20 & X0.21 & X0.22 & X0.23 & X0.24 & X0.25 & X0.26 & X0.27 & X0.28 & X0.29\\\\\n",
       "  & <chr> & <int> & <int> & <int> & <int> & <int> & <int> & <int> & <int> & <int> & ⋯ & <int> & <int> & <int> & <int> & <int> & <int> & <int> & <int> & <int> & <int>\\\\\n",
       "\\hline\n",
       "\t1 & COX1         & 0 &  0 &  0 &  0 &  0 &  0 & 0 &  0 &  0 & ⋯ & 0 & 0 & 0 &  0 &  0 &  0 & 0 & 0 & 0 & 0\\\\\n",
       "\t2 & COX2         & 0 &  0 &  0 &  0 &  0 &  0 & 0 &  0 &  0 & ⋯ & 0 & 0 & 0 &  0 &  0 &  0 & 0 & 0 & 0 & 0\\\\\n",
       "\t3 & COX3         & 0 &  0 &  0 &  0 &  0 &  0 & 0 &  0 &  0 & ⋯ & 0 & 0 & 0 &  0 &  0 &  0 & 0 & 0 & 0 & 0\\\\\n",
       "\t4 & CYTB         & 0 &  0 &  0 &  0 &  0 &  0 & 0 &  0 &  0 & ⋯ & 0 & 0 & 0 &  0 &  0 &  0 & 0 & 0 & 0 & 0\\\\\n",
       "\t5 & LOC111099029 & 7 & 13 & 15 & 11 & 16 & 12 & 9 & 15 & 11 & ⋯ & 9 & 6 & 1 & 30 & 13 & 15 & 0 & 0 & 4 & 0\\\\\n",
       "\t6 & LOC111099030 & 0 &  0 &  0 &  0 &  0 &  0 & 0 &  0 &  0 & ⋯ & 0 & 0 & 0 &  0 &  0 &  0 & 0 & 0 & 0 & 0\\\\\n",
       "\\end{tabular}\n"
      ],
      "text/markdown": [
       "\n",
       "A data.frame: 6 × 31\n",
       "\n",
       "| <!--/--> | ATP6 &lt;chr&gt; | X0 &lt;int&gt; | X0.1 &lt;int&gt; | X0.2 &lt;int&gt; | X0.3 &lt;int&gt; | X0.4 &lt;int&gt; | X0.5 &lt;int&gt; | X0.6 &lt;int&gt; | X0.7 &lt;int&gt; | X0.8 &lt;int&gt; | ⋯ ⋯ | X0.20 &lt;int&gt; | X0.21 &lt;int&gt; | X0.22 &lt;int&gt; | X0.23 &lt;int&gt; | X0.24 &lt;int&gt; | X0.25 &lt;int&gt; | X0.26 &lt;int&gt; | X0.27 &lt;int&gt; | X0.28 &lt;int&gt; | X0.29 &lt;int&gt; |\n",
       "|---|---|---|---|---|---|---|---|---|---|---|---|---|---|---|---|---|---|---|---|---|---|\n",
       "| 1 | COX1         | 0 |  0 |  0 |  0 |  0 |  0 | 0 |  0 |  0 | ⋯ | 0 | 0 | 0 |  0 |  0 |  0 | 0 | 0 | 0 | 0 |\n",
       "| 2 | COX2         | 0 |  0 |  0 |  0 |  0 |  0 | 0 |  0 |  0 | ⋯ | 0 | 0 | 0 |  0 |  0 |  0 | 0 | 0 | 0 | 0 |\n",
       "| 3 | COX3         | 0 |  0 |  0 |  0 |  0 |  0 | 0 |  0 |  0 | ⋯ | 0 | 0 | 0 |  0 |  0 |  0 | 0 | 0 | 0 | 0 |\n",
       "| 4 | CYTB         | 0 |  0 |  0 |  0 |  0 |  0 | 0 |  0 |  0 | ⋯ | 0 | 0 | 0 |  0 |  0 |  0 | 0 | 0 | 0 | 0 |\n",
       "| 5 | LOC111099029 | 7 | 13 | 15 | 11 | 16 | 12 | 9 | 15 | 11 | ⋯ | 9 | 6 | 1 | 30 | 13 | 15 | 0 | 0 | 4 | 0 |\n",
       "| 6 | LOC111099030 | 0 |  0 |  0 |  0 |  0 |  0 | 0 |  0 |  0 | ⋯ | 0 | 0 | 0 |  0 |  0 |  0 | 0 | 0 | 0 | 0 |\n",
       "\n"
      ],
      "text/plain": [
       "  ATP6         X0 X0.1 X0.2 X0.3 X0.4 X0.5 X0.6 X0.7 X0.8 ⋯ X0.20 X0.21 X0.22\n",
       "1 COX1         0   0    0    0    0    0   0     0    0   ⋯ 0     0     0    \n",
       "2 COX2         0   0    0    0    0    0   0     0    0   ⋯ 0     0     0    \n",
       "3 COX3         0   0    0    0    0    0   0     0    0   ⋯ 0     0     0    \n",
       "4 CYTB         0   0    0    0    0    0   0     0    0   ⋯ 0     0     0    \n",
       "5 LOC111099029 7  13   15   11   16   12   9    15   11   ⋯ 9     6     1    \n",
       "6 LOC111099030 0   0    0    0    0    0   0     0    0   ⋯ 0     0     0    \n",
       "  X0.23 X0.24 X0.25 X0.26 X0.27 X0.28 X0.29\n",
       "1  0     0     0    0     0     0     0    \n",
       "2  0     0     0    0     0     0     0    \n",
       "3  0     0     0    0     0     0     0    \n",
       "4  0     0     0    0     0     0     0    \n",
       "5 30    13    15    0     0     4     0    \n",
       "6  0     0     0    0     0     0     0    "
      ]
     },
     "metadata": {},
     "output_type": "display_data"
    }
   ],
   "source": [
    "# counts matrix generated from htseq-counts, with type=gene\n",
    "counts_gene = read.csv(\"/project/pi_sarah_gignouxwolfsohn_uml_edu/julia/CE_MethylRAD_analysis_2018/analysis/counts_and_meta/counts_gene.txt\", sep='\\t')\n",
    "head(counts_gene)"
   ]
  },
  {
   "cell_type": "code",
   "execution_count": 9,
   "id": "6ccba705-fc14-480b-aa62-a26ed5577052",
   "metadata": {},
   "outputs": [
    {
     "data": {
      "text/html": [
       "<style>\n",
       ".list-inline {list-style: none; margin:0; padding: 0}\n",
       ".list-inline>li {display: inline-block}\n",
       ".list-inline>li:not(:last-child)::after {content: \"\\00b7\"; padding: 0 .5ex}\n",
       "</style>\n",
       "<ol class=list-inline><li>38833</li><li>31</li></ol>\n"
      ],
      "text/latex": [
       "\\begin{enumerate*}\n",
       "\\item 38833\n",
       "\\item 31\n",
       "\\end{enumerate*}\n"
      ],
      "text/markdown": [
       "1. 38833\n",
       "2. 31\n",
       "\n",
       "\n"
      ],
      "text/plain": [
       "[1] 38833    31"
      ]
     },
     "metadata": {},
     "output_type": "display_data"
    },
    {
     "data": {
      "text/html": [
       "<style>\n",
       ".list-inline {list-style: none; margin:0; padding: 0}\n",
       ".list-inline>li {display: inline-block}\n",
       ".list-inline>li:not(:last-child)::after {content: \"\\00b7\"; padding: 0 .5ex}\n",
       "</style>\n",
       "<ol class=list-inline><li>39509</li><li>31</li></ol>\n"
      ],
      "text/latex": [
       "\\begin{enumerate*}\n",
       "\\item 39509\n",
       "\\item 31\n",
       "\\end{enumerate*}\n"
      ],
      "text/markdown": [
       "1. 39509\n",
       "2. 31\n",
       "\n",
       "\n"
      ],
      "text/plain": [
       "[1] 39509    31"
      ]
     },
     "metadata": {},
     "output_type": "display_data"
    }
   ],
   "source": [
    "# comparing dimensions of counts_exon and counts_gene\n",
    "dim(counts_exon) #38,833 rows\n",
    "dim(counts_gene) #39,509 rows"
   ]
  },
  {
   "cell_type": "markdown",
   "id": "c5d2da1e-bdb3-4e6f-9e90-beb828a7db80",
   "metadata": {},
   "source": [
    "loading in gtf file"
   ]
  },
  {
   "cell_type": "code",
   "execution_count": null,
   "id": "4bc218ae-c079-4c83-9a05-4a6d9eeb3505",
   "metadata": {},
   "outputs": [],
   "source": [
    "gtf_file <- \"/project/pi_sarah_gignouxwolfsohn_uml_edu/julia/assembly/reference_genomes/genomic.gtf\"\n",
    "\n",
    "# Read GTF file with read.table\n",
    "gtf_data <- read.table(gtf_file, header = FALSE, sep = \"\\t\", comment.char = \"#\", quote = \"\", stringsAsFactors = FALSE)\n",
    "\n",
    "# add column names manually\n",
    "colnames(gtf_data) <- c(\"seqname\", \"source\", \"feature\", \"start\", \"end\", \"score\", \"strand\", \"frame\", \"attributes\")"
   ]
  },
  {
   "cell_type": "code",
   "execution_count": null,
   "id": "be84d02a-206d-42cc-b19c-2001a61f3cbe",
   "metadata": {},
   "outputs": [],
   "source": [
    "head(gtf_data)"
   ]
  },
  {
   "cell_type": "markdown",
   "id": "76020961-f190-46fa-9171-457d79aa34df",
   "metadata": {},
   "source": [
    "#### cleaning data frames"
   ]
  },
  {
   "cell_type": "markdown",
   "id": "92f392b9-b420-4ef3-a01e-975cb2de6665",
   "metadata": {},
   "source": [
    "setting the unique IDs as the rownames for meta "
   ]
  },
  {
   "cell_type": "code",
   "execution_count": 11,
   "id": "8d251921-7625-4d0e-a709-12fb68cf2157",
   "metadata": {},
   "outputs": [
    {
     "data": {
      "text/html": [
       "<table class=\"dataframe\">\n",
       "<caption>A data.frame: 6 × 13</caption>\n",
       "<thead>\n",
       "\t<tr><th></th><th scope=col>sample_ID</th><th scope=col>unique_ID</th><th scope=col>T1_code</th><th scope=col>T2_code</th><th scope=col>ID_code</th><th scope=col>T1_oxygen</th><th scope=col>T1_temp</th><th scope=col>Tank1</th><th scope=col>T2_oxygen</th><th scope=col>T2_temp</th><th scope=col>Tank2</th><th scope=col>Phase1</th><th scope=col>Phase2</th></tr>\n",
       "\t<tr><th></th><th scope=col>&lt;chr&gt;</th><th scope=col>&lt;chr&gt;</th><th scope=col>&lt;chr&gt;</th><th scope=col>&lt;chr&gt;</th><th scope=col>&lt;chr&gt;</th><th scope=col>&lt;chr&gt;</th><th scope=col>&lt;chr&gt;</th><th scope=col>&lt;chr&gt;</th><th scope=col>&lt;chr&gt;</th><th scope=col>&lt;chr&gt;</th><th scope=col>&lt;chr&gt;</th><th scope=col>&lt;chr&gt;</th><th scope=col>&lt;chr&gt;</th></tr>\n",
       "</thead>\n",
       "<tbody>\n",
       "\t<tr><th scope=row>BBB-WBO-B21</th><td>2018--BBB-WBO-B21-CV</td><td>BBB-WBO-B21</td><td>BBB</td><td>WBO</td><td>B21</td><td>hypoxic</td><td>ambient</td><td>B</td><td>normoxic</td><td>ambient</td><td>O</td><td>hypoxic</td><td>control</td></tr>\n",
       "\t<tr><th scope=row>BBB-WBV-B70</th><td>2018--BBB-WBV-B70-CV</td><td>BBB-WBV-B70</td><td>BBB</td><td>WBV</td><td>B70</td><td>hypoxic</td><td>ambient</td><td>B</td><td>normoxic</td><td>ambient</td><td>V</td><td>hypoxic</td><td>control</td></tr>\n",
       "\t<tr><th scope=row>BBO-BBO-B16</th><td>2018--BBO-BBO-B16-CV</td><td>BBO-BBO-B16</td><td>BBO</td><td>BBO</td><td>B16</td><td>hypoxic</td><td>ambient</td><td>O</td><td>hypoxic </td><td>ambient</td><td>O</td><td>hypoxic</td><td>hypoxic</td></tr>\n",
       "\t<tr><th scope=row>BBO-BBY-B27</th><td>2018--BBO-BBY-B27-CV</td><td>BBO-BBY-B27</td><td>BBO</td><td>BBY</td><td>B27</td><td>hypoxic</td><td>ambient</td><td>O</td><td>hypoxic </td><td>ambient</td><td>Y</td><td>hypoxic</td><td>hypoxic</td></tr>\n",
       "\t<tr><th scope=row>BBO-WBO-B16</th><td>2018--BBO-WBO-B16-CV</td><td>BBO-WBO-B16</td><td>BBO</td><td>WBO</td><td>B16</td><td>hypoxic</td><td>ambient</td><td>O</td><td>normoxic</td><td>ambient</td><td>O</td><td>hypoxic</td><td>control</td></tr>\n",
       "\t<tr><th scope=row>BBO-WBV-B64</th><td>2018--BBO-WBV-B64-CV</td><td>BBO-WBV-B64</td><td>BBO</td><td>WBV</td><td>B64</td><td>hypoxic</td><td>ambient</td><td>O</td><td>normoxic</td><td>ambient</td><td>V</td><td>hypoxic</td><td>control</td></tr>\n",
       "</tbody>\n",
       "</table>\n"
      ],
      "text/latex": [
       "A data.frame: 6 × 13\n",
       "\\begin{tabular}{r|lllllllllllll}\n",
       "  & sample\\_ID & unique\\_ID & T1\\_code & T2\\_code & ID\\_code & T1\\_oxygen & T1\\_temp & Tank1 & T2\\_oxygen & T2\\_temp & Tank2 & Phase1 & Phase2\\\\\n",
       "  & <chr> & <chr> & <chr> & <chr> & <chr> & <chr> & <chr> & <chr> & <chr> & <chr> & <chr> & <chr> & <chr>\\\\\n",
       "\\hline\n",
       "\tBBB-WBO-B21 & 2018--BBB-WBO-B21-CV & BBB-WBO-B21 & BBB & WBO & B21 & hypoxic & ambient & B & normoxic & ambient & O & hypoxic & control\\\\\n",
       "\tBBB-WBV-B70 & 2018--BBB-WBV-B70-CV & BBB-WBV-B70 & BBB & WBV & B70 & hypoxic & ambient & B & normoxic & ambient & V & hypoxic & control\\\\\n",
       "\tBBO-BBO-B16 & 2018--BBO-BBO-B16-CV & BBO-BBO-B16 & BBO & BBO & B16 & hypoxic & ambient & O & hypoxic  & ambient & O & hypoxic & hypoxic\\\\\n",
       "\tBBO-BBY-B27 & 2018--BBO-BBY-B27-CV & BBO-BBY-B27 & BBO & BBY & B27 & hypoxic & ambient & O & hypoxic  & ambient & Y & hypoxic & hypoxic\\\\\n",
       "\tBBO-WBO-B16 & 2018--BBO-WBO-B16-CV & BBO-WBO-B16 & BBO & WBO & B16 & hypoxic & ambient & O & normoxic & ambient & O & hypoxic & control\\\\\n",
       "\tBBO-WBV-B64 & 2018--BBO-WBV-B64-CV & BBO-WBV-B64 & BBO & WBV & B64 & hypoxic & ambient & O & normoxic & ambient & V & hypoxic & control\\\\\n",
       "\\end{tabular}\n"
      ],
      "text/markdown": [
       "\n",
       "A data.frame: 6 × 13\n",
       "\n",
       "| <!--/--> | sample_ID &lt;chr&gt; | unique_ID &lt;chr&gt; | T1_code &lt;chr&gt; | T2_code &lt;chr&gt; | ID_code &lt;chr&gt; | T1_oxygen &lt;chr&gt; | T1_temp &lt;chr&gt; | Tank1 &lt;chr&gt; | T2_oxygen &lt;chr&gt; | T2_temp &lt;chr&gt; | Tank2 &lt;chr&gt; | Phase1 &lt;chr&gt; | Phase2 &lt;chr&gt; |\n",
       "|---|---|---|---|---|---|---|---|---|---|---|---|---|---|\n",
       "| BBB-WBO-B21 | 2018--BBB-WBO-B21-CV | BBB-WBO-B21 | BBB | WBO | B21 | hypoxic | ambient | B | normoxic | ambient | O | hypoxic | control |\n",
       "| BBB-WBV-B70 | 2018--BBB-WBV-B70-CV | BBB-WBV-B70 | BBB | WBV | B70 | hypoxic | ambient | B | normoxic | ambient | V | hypoxic | control |\n",
       "| BBO-BBO-B16 | 2018--BBO-BBO-B16-CV | BBO-BBO-B16 | BBO | BBO | B16 | hypoxic | ambient | O | hypoxic  | ambient | O | hypoxic | hypoxic |\n",
       "| BBO-BBY-B27 | 2018--BBO-BBY-B27-CV | BBO-BBY-B27 | BBO | BBY | B27 | hypoxic | ambient | O | hypoxic  | ambient | Y | hypoxic | hypoxic |\n",
       "| BBO-WBO-B16 | 2018--BBO-WBO-B16-CV | BBO-WBO-B16 | BBO | WBO | B16 | hypoxic | ambient | O | normoxic | ambient | O | hypoxic | control |\n",
       "| BBO-WBV-B64 | 2018--BBO-WBV-B64-CV | BBO-WBV-B64 | BBO | WBV | B64 | hypoxic | ambient | O | normoxic | ambient | V | hypoxic | control |\n",
       "\n"
      ],
      "text/plain": [
       "            sample_ID            unique_ID   T1_code T2_code ID_code T1_oxygen\n",
       "BBB-WBO-B21 2018--BBB-WBO-B21-CV BBB-WBO-B21 BBB     WBO     B21     hypoxic  \n",
       "BBB-WBV-B70 2018--BBB-WBV-B70-CV BBB-WBV-B70 BBB     WBV     B70     hypoxic  \n",
       "BBO-BBO-B16 2018--BBO-BBO-B16-CV BBO-BBO-B16 BBO     BBO     B16     hypoxic  \n",
       "BBO-BBY-B27 2018--BBO-BBY-B27-CV BBO-BBY-B27 BBO     BBY     B27     hypoxic  \n",
       "BBO-WBO-B16 2018--BBO-WBO-B16-CV BBO-WBO-B16 BBO     WBO     B16     hypoxic  \n",
       "BBO-WBV-B64 2018--BBO-WBV-B64-CV BBO-WBV-B64 BBO     WBV     B64     hypoxic  \n",
       "            T1_temp Tank1 T2_oxygen T2_temp Tank2 Phase1  Phase2 \n",
       "BBB-WBO-B21 ambient B     normoxic  ambient O     hypoxic control\n",
       "BBB-WBV-B70 ambient B     normoxic  ambient V     hypoxic control\n",
       "BBO-BBO-B16 ambient O     hypoxic   ambient O     hypoxic hypoxic\n",
       "BBO-BBY-B27 ambient O     hypoxic   ambient Y     hypoxic hypoxic\n",
       "BBO-WBO-B16 ambient O     normoxic  ambient O     hypoxic control\n",
       "BBO-WBV-B64 ambient O     normoxic  ambient V     hypoxic control"
      ]
     },
     "metadata": {},
     "output_type": "display_data"
    }
   ],
   "source": [
    "rownames(meta) = meta$unique_ID\n",
    "head(meta)"
   ]
  },
  {
   "cell_type": "markdown",
   "id": "e81c2675-54cc-4168-8f4c-75e06e4db142",
   "metadata": {},
   "source": [
    "adding the row names of meta as the column names of both counts_exon and counts_gene"
   ]
  },
  {
   "cell_type": "code",
   "execution_count": 12,
   "id": "d35a145b-fa8a-4e03-b461-700f48c42bc4",
   "metadata": {},
   "outputs": [
    {
     "data": {
      "text/html": [
       "<table class=\"dataframe\">\n",
       "<caption>A data.frame: 6 × 31</caption>\n",
       "<thead>\n",
       "\t<tr><th></th><th scope=col>gene</th><th scope=col>BBB-WBO-B21</th><th scope=col>BBB-WBV-B70</th><th scope=col>BBO-BBO-B16</th><th scope=col>BBO-BBY-B27</th><th scope=col>BBO-WBO-B16</th><th scope=col>BBO-WBV-B64</th><th scope=col>BBR-BBB-B50</th><th scope=col>BBR-BBG-B38</th><th scope=col>BBR-BBY-B26</th><th scope=col>⋯</th><th scope=col>WBR-BBY-W25</th><th scope=col>WBV-WBO-W23</th><th scope=col>WBV-WBR-W12</th><th scope=col>WBY-BBV-W65</th><th scope=col>WBY-BBY-W30</th><th scope=col>WPB-BPG-G45</th><th scope=col>WPO-BPO-G16</th><th scope=col>WPO-BPY-G28</th><th scope=col>WPR-BPY-G25</th><th scope=col>WPV-BPR-G11</th></tr>\n",
       "\t<tr><th></th><th scope=col>&lt;chr&gt;</th><th scope=col>&lt;int&gt;</th><th scope=col>&lt;int&gt;</th><th scope=col>&lt;int&gt;</th><th scope=col>&lt;int&gt;</th><th scope=col>&lt;int&gt;</th><th scope=col>&lt;int&gt;</th><th scope=col>&lt;int&gt;</th><th scope=col>&lt;int&gt;</th><th scope=col>&lt;int&gt;</th><th scope=col>⋯</th><th scope=col>&lt;int&gt;</th><th scope=col>&lt;int&gt;</th><th scope=col>&lt;int&gt;</th><th scope=col>&lt;int&gt;</th><th scope=col>&lt;int&gt;</th><th scope=col>&lt;int&gt;</th><th scope=col>&lt;int&gt;</th><th scope=col>&lt;int&gt;</th><th scope=col>&lt;int&gt;</th><th scope=col>&lt;int&gt;</th></tr>\n",
       "</thead>\n",
       "<tbody>\n",
       "\t<tr><th scope=row>1</th><td>LOC111099029</td><td>5</td><td>12</td><td>14</td><td>11</td><td>14</td><td>12</td><td>9</td><td>14</td><td>11</td><td>⋯</td><td>9</td><td>6</td><td>1</td><td>30</td><td>12</td><td>15</td><td>0</td><td>0</td><td>3</td><td>0</td></tr>\n",
       "\t<tr><th scope=row>2</th><td>LOC111099030</td><td>0</td><td> 0</td><td> 0</td><td> 0</td><td> 0</td><td> 0</td><td>0</td><td> 0</td><td> 0</td><td>⋯</td><td>0</td><td>0</td><td>0</td><td> 0</td><td> 0</td><td> 0</td><td>0</td><td>0</td><td>0</td><td>0</td></tr>\n",
       "\t<tr><th scope=row>3</th><td>LOC111099031</td><td>0</td><td> 0</td><td> 0</td><td> 0</td><td> 0</td><td> 0</td><td>0</td><td> 0</td><td> 0</td><td>⋯</td><td>0</td><td>0</td><td>0</td><td> 0</td><td> 0</td><td> 0</td><td>0</td><td>0</td><td>0</td><td>0</td></tr>\n",
       "\t<tr><th scope=row>4</th><td>LOC111099032</td><td>0</td><td> 0</td><td> 0</td><td> 0</td><td> 0</td><td> 0</td><td>0</td><td> 0</td><td> 0</td><td>⋯</td><td>0</td><td>0</td><td>0</td><td> 0</td><td> 0</td><td> 0</td><td>0</td><td>0</td><td>0</td><td>0</td></tr>\n",
       "\t<tr><th scope=row>5</th><td>LOC111099033</td><td>0</td><td> 0</td><td>10</td><td> 0</td><td> 1</td><td> 0</td><td>0</td><td> 0</td><td> 0</td><td>⋯</td><td>1</td><td>0</td><td>0</td><td> 1</td><td> 0</td><td> 0</td><td>0</td><td>0</td><td>0</td><td>0</td></tr>\n",
       "\t<tr><th scope=row>6</th><td>LOC111099034</td><td>0</td><td> 0</td><td> 0</td><td> 0</td><td> 0</td><td> 0</td><td>0</td><td> 0</td><td> 0</td><td>⋯</td><td>0</td><td>0</td><td>0</td><td> 0</td><td> 0</td><td> 0</td><td>0</td><td>0</td><td>0</td><td>0</td></tr>\n",
       "</tbody>\n",
       "</table>\n"
      ],
      "text/latex": [
       "A data.frame: 6 × 31\n",
       "\\begin{tabular}{r|lllllllllllllllllllll}\n",
       "  & gene & BBB-WBO-B21 & BBB-WBV-B70 & BBO-BBO-B16 & BBO-BBY-B27 & BBO-WBO-B16 & BBO-WBV-B64 & BBR-BBB-B50 & BBR-BBG-B38 & BBR-BBY-B26 & ⋯ & WBR-BBY-W25 & WBV-WBO-W23 & WBV-WBR-W12 & WBY-BBV-W65 & WBY-BBY-W30 & WPB-BPG-G45 & WPO-BPO-G16 & WPO-BPY-G28 & WPR-BPY-G25 & WPV-BPR-G11\\\\\n",
       "  & <chr> & <int> & <int> & <int> & <int> & <int> & <int> & <int> & <int> & <int> & ⋯ & <int> & <int> & <int> & <int> & <int> & <int> & <int> & <int> & <int> & <int>\\\\\n",
       "\\hline\n",
       "\t1 & LOC111099029 & 5 & 12 & 14 & 11 & 14 & 12 & 9 & 14 & 11 & ⋯ & 9 & 6 & 1 & 30 & 12 & 15 & 0 & 0 & 3 & 0\\\\\n",
       "\t2 & LOC111099030 & 0 &  0 &  0 &  0 &  0 &  0 & 0 &  0 &  0 & ⋯ & 0 & 0 & 0 &  0 &  0 &  0 & 0 & 0 & 0 & 0\\\\\n",
       "\t3 & LOC111099031 & 0 &  0 &  0 &  0 &  0 &  0 & 0 &  0 &  0 & ⋯ & 0 & 0 & 0 &  0 &  0 &  0 & 0 & 0 & 0 & 0\\\\\n",
       "\t4 & LOC111099032 & 0 &  0 &  0 &  0 &  0 &  0 & 0 &  0 &  0 & ⋯ & 0 & 0 & 0 &  0 &  0 &  0 & 0 & 0 & 0 & 0\\\\\n",
       "\t5 & LOC111099033 & 0 &  0 & 10 &  0 &  1 &  0 & 0 &  0 &  0 & ⋯ & 1 & 0 & 0 &  1 &  0 &  0 & 0 & 0 & 0 & 0\\\\\n",
       "\t6 & LOC111099034 & 0 &  0 &  0 &  0 &  0 &  0 & 0 &  0 &  0 & ⋯ & 0 & 0 & 0 &  0 &  0 &  0 & 0 & 0 & 0 & 0\\\\\n",
       "\\end{tabular}\n"
      ],
      "text/markdown": [
       "\n",
       "A data.frame: 6 × 31\n",
       "\n",
       "| <!--/--> | gene &lt;chr&gt; | BBB-WBO-B21 &lt;int&gt; | BBB-WBV-B70 &lt;int&gt; | BBO-BBO-B16 &lt;int&gt; | BBO-BBY-B27 &lt;int&gt; | BBO-WBO-B16 &lt;int&gt; | BBO-WBV-B64 &lt;int&gt; | BBR-BBB-B50 &lt;int&gt; | BBR-BBG-B38 &lt;int&gt; | BBR-BBY-B26 &lt;int&gt; | ⋯ ⋯ | WBR-BBY-W25 &lt;int&gt; | WBV-WBO-W23 &lt;int&gt; | WBV-WBR-W12 &lt;int&gt; | WBY-BBV-W65 &lt;int&gt; | WBY-BBY-W30 &lt;int&gt; | WPB-BPG-G45 &lt;int&gt; | WPO-BPO-G16 &lt;int&gt; | WPO-BPY-G28 &lt;int&gt; | WPR-BPY-G25 &lt;int&gt; | WPV-BPR-G11 &lt;int&gt; |\n",
       "|---|---|---|---|---|---|---|---|---|---|---|---|---|---|---|---|---|---|---|---|---|---|\n",
       "| 1 | LOC111099029 | 5 | 12 | 14 | 11 | 14 | 12 | 9 | 14 | 11 | ⋯ | 9 | 6 | 1 | 30 | 12 | 15 | 0 | 0 | 3 | 0 |\n",
       "| 2 | LOC111099030 | 0 |  0 |  0 |  0 |  0 |  0 | 0 |  0 |  0 | ⋯ | 0 | 0 | 0 |  0 |  0 |  0 | 0 | 0 | 0 | 0 |\n",
       "| 3 | LOC111099031 | 0 |  0 |  0 |  0 |  0 |  0 | 0 |  0 |  0 | ⋯ | 0 | 0 | 0 |  0 |  0 |  0 | 0 | 0 | 0 | 0 |\n",
       "| 4 | LOC111099032 | 0 |  0 |  0 |  0 |  0 |  0 | 0 |  0 |  0 | ⋯ | 0 | 0 | 0 |  0 |  0 |  0 | 0 | 0 | 0 | 0 |\n",
       "| 5 | LOC111099033 | 0 |  0 | 10 |  0 |  1 |  0 | 0 |  0 |  0 | ⋯ | 1 | 0 | 0 |  1 |  0 |  0 | 0 | 0 | 0 | 0 |\n",
       "| 6 | LOC111099034 | 0 |  0 |  0 |  0 |  0 |  0 | 0 |  0 |  0 | ⋯ | 0 | 0 | 0 |  0 |  0 |  0 | 0 | 0 | 0 | 0 |\n",
       "\n"
      ],
      "text/plain": [
       "  gene         BBB-WBO-B21 BBB-WBV-B70 BBO-BBO-B16 BBO-BBY-B27 BBO-WBO-B16\n",
       "1 LOC111099029 5           12          14          11          14         \n",
       "2 LOC111099030 0            0           0           0           0         \n",
       "3 LOC111099031 0            0           0           0           0         \n",
       "4 LOC111099032 0            0           0           0           0         \n",
       "5 LOC111099033 0            0          10           0           1         \n",
       "6 LOC111099034 0            0           0           0           0         \n",
       "  BBO-WBV-B64 BBR-BBB-B50 BBR-BBG-B38 BBR-BBY-B26 ⋯ WBR-BBY-W25 WBV-WBO-W23\n",
       "1 12          9           14          11          ⋯ 9           6          \n",
       "2  0          0            0           0          ⋯ 0           0          \n",
       "3  0          0            0           0          ⋯ 0           0          \n",
       "4  0          0            0           0          ⋯ 0           0          \n",
       "5  0          0            0           0          ⋯ 1           0          \n",
       "6  0          0            0           0          ⋯ 0           0          \n",
       "  WBV-WBR-W12 WBY-BBV-W65 WBY-BBY-W30 WPB-BPG-G45 WPO-BPO-G16 WPO-BPY-G28\n",
       "1 1           30          12          15          0           0          \n",
       "2 0            0           0           0          0           0          \n",
       "3 0            0           0           0          0           0          \n",
       "4 0            0           0           0          0           0          \n",
       "5 0            1           0           0          0           0          \n",
       "6 0            0           0           0          0           0          \n",
       "  WPR-BPY-G25 WPV-BPR-G11\n",
       "1 3           0          \n",
       "2 0           0          \n",
       "3 0           0          \n",
       "4 0           0          \n",
       "5 0           0          \n",
       "6 0           0          "
      ]
     },
     "metadata": {},
     "output_type": "display_data"
    },
    {
     "data": {
      "text/html": [
       "<table class=\"dataframe\">\n",
       "<caption>A data.frame: 6 × 31</caption>\n",
       "<thead>\n",
       "\t<tr><th></th><th scope=col>gene</th><th scope=col>BBB-WBO-B21</th><th scope=col>BBB-WBV-B70</th><th scope=col>BBO-BBO-B16</th><th scope=col>BBO-BBY-B27</th><th scope=col>BBO-WBO-B16</th><th scope=col>BBO-WBV-B64</th><th scope=col>BBR-BBB-B50</th><th scope=col>BBR-BBG-B38</th><th scope=col>BBR-BBY-B26</th><th scope=col>⋯</th><th scope=col>WBR-BBY-W25</th><th scope=col>WBV-WBO-W23</th><th scope=col>WBV-WBR-W12</th><th scope=col>WBY-BBV-W65</th><th scope=col>WBY-BBY-W30</th><th scope=col>WPB-BPG-G45</th><th scope=col>WPO-BPO-G16</th><th scope=col>WPO-BPY-G28</th><th scope=col>WPR-BPY-G25</th><th scope=col>WPV-BPR-G11</th></tr>\n",
       "\t<tr><th></th><th scope=col>&lt;chr&gt;</th><th scope=col>&lt;int&gt;</th><th scope=col>&lt;int&gt;</th><th scope=col>&lt;int&gt;</th><th scope=col>&lt;int&gt;</th><th scope=col>&lt;int&gt;</th><th scope=col>&lt;int&gt;</th><th scope=col>&lt;int&gt;</th><th scope=col>&lt;int&gt;</th><th scope=col>&lt;int&gt;</th><th scope=col>⋯</th><th scope=col>&lt;int&gt;</th><th scope=col>&lt;int&gt;</th><th scope=col>&lt;int&gt;</th><th scope=col>&lt;int&gt;</th><th scope=col>&lt;int&gt;</th><th scope=col>&lt;int&gt;</th><th scope=col>&lt;int&gt;</th><th scope=col>&lt;int&gt;</th><th scope=col>&lt;int&gt;</th><th scope=col>&lt;int&gt;</th></tr>\n",
       "</thead>\n",
       "<tbody>\n",
       "\t<tr><th scope=row>1</th><td>COX1        </td><td>0</td><td> 0</td><td> 0</td><td> 0</td><td> 0</td><td> 0</td><td>0</td><td> 0</td><td> 0</td><td>⋯</td><td>0</td><td>0</td><td>0</td><td> 0</td><td> 0</td><td> 0</td><td>0</td><td>0</td><td>0</td><td>0</td></tr>\n",
       "\t<tr><th scope=row>2</th><td>COX2        </td><td>0</td><td> 0</td><td> 0</td><td> 0</td><td> 0</td><td> 0</td><td>0</td><td> 0</td><td> 0</td><td>⋯</td><td>0</td><td>0</td><td>0</td><td> 0</td><td> 0</td><td> 0</td><td>0</td><td>0</td><td>0</td><td>0</td></tr>\n",
       "\t<tr><th scope=row>3</th><td>COX3        </td><td>0</td><td> 0</td><td> 0</td><td> 0</td><td> 0</td><td> 0</td><td>0</td><td> 0</td><td> 0</td><td>⋯</td><td>0</td><td>0</td><td>0</td><td> 0</td><td> 0</td><td> 0</td><td>0</td><td>0</td><td>0</td><td>0</td></tr>\n",
       "\t<tr><th scope=row>4</th><td>CYTB        </td><td>0</td><td> 0</td><td> 0</td><td> 0</td><td> 0</td><td> 0</td><td>0</td><td> 0</td><td> 0</td><td>⋯</td><td>0</td><td>0</td><td>0</td><td> 0</td><td> 0</td><td> 0</td><td>0</td><td>0</td><td>0</td><td>0</td></tr>\n",
       "\t<tr><th scope=row>5</th><td>LOC111099029</td><td>7</td><td>13</td><td>15</td><td>11</td><td>16</td><td>12</td><td>9</td><td>15</td><td>11</td><td>⋯</td><td>9</td><td>6</td><td>1</td><td>30</td><td>13</td><td>15</td><td>0</td><td>0</td><td>4</td><td>0</td></tr>\n",
       "\t<tr><th scope=row>6</th><td>LOC111099030</td><td>0</td><td> 0</td><td> 0</td><td> 0</td><td> 0</td><td> 0</td><td>0</td><td> 0</td><td> 0</td><td>⋯</td><td>0</td><td>0</td><td>0</td><td> 0</td><td> 0</td><td> 0</td><td>0</td><td>0</td><td>0</td><td>0</td></tr>\n",
       "</tbody>\n",
       "</table>\n"
      ],
      "text/latex": [
       "A data.frame: 6 × 31\n",
       "\\begin{tabular}{r|lllllllllllllllllllll}\n",
       "  & gene & BBB-WBO-B21 & BBB-WBV-B70 & BBO-BBO-B16 & BBO-BBY-B27 & BBO-WBO-B16 & BBO-WBV-B64 & BBR-BBB-B50 & BBR-BBG-B38 & BBR-BBY-B26 & ⋯ & WBR-BBY-W25 & WBV-WBO-W23 & WBV-WBR-W12 & WBY-BBV-W65 & WBY-BBY-W30 & WPB-BPG-G45 & WPO-BPO-G16 & WPO-BPY-G28 & WPR-BPY-G25 & WPV-BPR-G11\\\\\n",
       "  & <chr> & <int> & <int> & <int> & <int> & <int> & <int> & <int> & <int> & <int> & ⋯ & <int> & <int> & <int> & <int> & <int> & <int> & <int> & <int> & <int> & <int>\\\\\n",
       "\\hline\n",
       "\t1 & COX1         & 0 &  0 &  0 &  0 &  0 &  0 & 0 &  0 &  0 & ⋯ & 0 & 0 & 0 &  0 &  0 &  0 & 0 & 0 & 0 & 0\\\\\n",
       "\t2 & COX2         & 0 &  0 &  0 &  0 &  0 &  0 & 0 &  0 &  0 & ⋯ & 0 & 0 & 0 &  0 &  0 &  0 & 0 & 0 & 0 & 0\\\\\n",
       "\t3 & COX3         & 0 &  0 &  0 &  0 &  0 &  0 & 0 &  0 &  0 & ⋯ & 0 & 0 & 0 &  0 &  0 &  0 & 0 & 0 & 0 & 0\\\\\n",
       "\t4 & CYTB         & 0 &  0 &  0 &  0 &  0 &  0 & 0 &  0 &  0 & ⋯ & 0 & 0 & 0 &  0 &  0 &  0 & 0 & 0 & 0 & 0\\\\\n",
       "\t5 & LOC111099029 & 7 & 13 & 15 & 11 & 16 & 12 & 9 & 15 & 11 & ⋯ & 9 & 6 & 1 & 30 & 13 & 15 & 0 & 0 & 4 & 0\\\\\n",
       "\t6 & LOC111099030 & 0 &  0 &  0 &  0 &  0 &  0 & 0 &  0 &  0 & ⋯ & 0 & 0 & 0 &  0 &  0 &  0 & 0 & 0 & 0 & 0\\\\\n",
       "\\end{tabular}\n"
      ],
      "text/markdown": [
       "\n",
       "A data.frame: 6 × 31\n",
       "\n",
       "| <!--/--> | gene &lt;chr&gt; | BBB-WBO-B21 &lt;int&gt; | BBB-WBV-B70 &lt;int&gt; | BBO-BBO-B16 &lt;int&gt; | BBO-BBY-B27 &lt;int&gt; | BBO-WBO-B16 &lt;int&gt; | BBO-WBV-B64 &lt;int&gt; | BBR-BBB-B50 &lt;int&gt; | BBR-BBG-B38 &lt;int&gt; | BBR-BBY-B26 &lt;int&gt; | ⋯ ⋯ | WBR-BBY-W25 &lt;int&gt; | WBV-WBO-W23 &lt;int&gt; | WBV-WBR-W12 &lt;int&gt; | WBY-BBV-W65 &lt;int&gt; | WBY-BBY-W30 &lt;int&gt; | WPB-BPG-G45 &lt;int&gt; | WPO-BPO-G16 &lt;int&gt; | WPO-BPY-G28 &lt;int&gt; | WPR-BPY-G25 &lt;int&gt; | WPV-BPR-G11 &lt;int&gt; |\n",
       "|---|---|---|---|---|---|---|---|---|---|---|---|---|---|---|---|---|---|---|---|---|---|\n",
       "| 1 | COX1         | 0 |  0 |  0 |  0 |  0 |  0 | 0 |  0 |  0 | ⋯ | 0 | 0 | 0 |  0 |  0 |  0 | 0 | 0 | 0 | 0 |\n",
       "| 2 | COX2         | 0 |  0 |  0 |  0 |  0 |  0 | 0 |  0 |  0 | ⋯ | 0 | 0 | 0 |  0 |  0 |  0 | 0 | 0 | 0 | 0 |\n",
       "| 3 | COX3         | 0 |  0 |  0 |  0 |  0 |  0 | 0 |  0 |  0 | ⋯ | 0 | 0 | 0 |  0 |  0 |  0 | 0 | 0 | 0 | 0 |\n",
       "| 4 | CYTB         | 0 |  0 |  0 |  0 |  0 |  0 | 0 |  0 |  0 | ⋯ | 0 | 0 | 0 |  0 |  0 |  0 | 0 | 0 | 0 | 0 |\n",
       "| 5 | LOC111099029 | 7 | 13 | 15 | 11 | 16 | 12 | 9 | 15 | 11 | ⋯ | 9 | 6 | 1 | 30 | 13 | 15 | 0 | 0 | 4 | 0 |\n",
       "| 6 | LOC111099030 | 0 |  0 |  0 |  0 |  0 |  0 | 0 |  0 |  0 | ⋯ | 0 | 0 | 0 |  0 |  0 |  0 | 0 | 0 | 0 | 0 |\n",
       "\n"
      ],
      "text/plain": [
       "  gene         BBB-WBO-B21 BBB-WBV-B70 BBO-BBO-B16 BBO-BBY-B27 BBO-WBO-B16\n",
       "1 COX1         0            0           0           0           0         \n",
       "2 COX2         0            0           0           0           0         \n",
       "3 COX3         0            0           0           0           0         \n",
       "4 CYTB         0            0           0           0           0         \n",
       "5 LOC111099029 7           13          15          11          16         \n",
       "6 LOC111099030 0            0           0           0           0         \n",
       "  BBO-WBV-B64 BBR-BBB-B50 BBR-BBG-B38 BBR-BBY-B26 ⋯ WBR-BBY-W25 WBV-WBO-W23\n",
       "1  0          0            0           0          ⋯ 0           0          \n",
       "2  0          0            0           0          ⋯ 0           0          \n",
       "3  0          0            0           0          ⋯ 0           0          \n",
       "4  0          0            0           0          ⋯ 0           0          \n",
       "5 12          9           15          11          ⋯ 9           6          \n",
       "6  0          0            0           0          ⋯ 0           0          \n",
       "  WBV-WBR-W12 WBY-BBV-W65 WBY-BBY-W30 WPB-BPG-G45 WPO-BPO-G16 WPO-BPY-G28\n",
       "1 0            0           0           0          0           0          \n",
       "2 0            0           0           0          0           0          \n",
       "3 0            0           0           0          0           0          \n",
       "4 0            0           0           0          0           0          \n",
       "5 1           30          13          15          0           0          \n",
       "6 0            0           0           0          0           0          \n",
       "  WPR-BPY-G25 WPV-BPR-G11\n",
       "1 0           0          \n",
       "2 0           0          \n",
       "3 0           0          \n",
       "4 0           0          \n",
       "5 4           0          \n",
       "6 0           0          "
      ]
     },
     "metadata": {},
     "output_type": "display_data"
    }
   ],
   "source": [
    "colnames(counts_exon) = c('gene', rownames(meta))\n",
    "head(counts_exon)\n",
    "\n",
    "colnames(counts_gene) = c('gene', rownames(meta))\n",
    "head(counts_gene)"
   ]
  },
  {
   "cell_type": "markdown",
   "id": "c6647e1c-3ed1-488c-9268-80f97ce2f2cc",
   "metadata": {},
   "source": [
    "making the genes column for both counts_exon and counts_gene be the index"
   ]
  },
  {
   "cell_type": "code",
   "execution_count": 13,
   "id": "6f308664-48c0-4d4a-8b9e-882adc58ad64",
   "metadata": {},
   "outputs": [
    {
     "data": {
      "text/html": [
       "<table class=\"dataframe\">\n",
       "<caption>A data.frame: 6 × 30</caption>\n",
       "<thead>\n",
       "\t<tr><th></th><th scope=col>BBB-WBO-B21</th><th scope=col>BBB-WBV-B70</th><th scope=col>BBO-BBO-B16</th><th scope=col>BBO-BBY-B27</th><th scope=col>BBO-WBO-B16</th><th scope=col>BBO-WBV-B64</th><th scope=col>BBR-BBB-B50</th><th scope=col>BBR-BBG-B38</th><th scope=col>BBR-BBY-B26</th><th scope=col>BBY-WBG-B42</th><th scope=col>⋯</th><th scope=col>WBR-BBY-W25</th><th scope=col>WBV-WBO-W23</th><th scope=col>WBV-WBR-W12</th><th scope=col>WBY-BBV-W65</th><th scope=col>WBY-BBY-W30</th><th scope=col>WPB-BPG-G45</th><th scope=col>WPO-BPO-G16</th><th scope=col>WPO-BPY-G28</th><th scope=col>WPR-BPY-G25</th><th scope=col>WPV-BPR-G11</th></tr>\n",
       "\t<tr><th></th><th scope=col>&lt;int&gt;</th><th scope=col>&lt;int&gt;</th><th scope=col>&lt;int&gt;</th><th scope=col>&lt;int&gt;</th><th scope=col>&lt;int&gt;</th><th scope=col>&lt;int&gt;</th><th scope=col>&lt;int&gt;</th><th scope=col>&lt;int&gt;</th><th scope=col>&lt;int&gt;</th><th scope=col>&lt;int&gt;</th><th scope=col>⋯</th><th scope=col>&lt;int&gt;</th><th scope=col>&lt;int&gt;</th><th scope=col>&lt;int&gt;</th><th scope=col>&lt;int&gt;</th><th scope=col>&lt;int&gt;</th><th scope=col>&lt;int&gt;</th><th scope=col>&lt;int&gt;</th><th scope=col>&lt;int&gt;</th><th scope=col>&lt;int&gt;</th><th scope=col>&lt;int&gt;</th></tr>\n",
       "</thead>\n",
       "<tbody>\n",
       "\t<tr><th scope=row>LOC111099029</th><td>5</td><td>12</td><td>14</td><td>11</td><td>14</td><td>12</td><td>9</td><td>14</td><td>11</td><td>1</td><td>⋯</td><td>9</td><td>6</td><td>1</td><td>30</td><td>12</td><td>15</td><td>0</td><td>0</td><td>3</td><td>0</td></tr>\n",
       "\t<tr><th scope=row>LOC111099030</th><td>0</td><td> 0</td><td> 0</td><td> 0</td><td> 0</td><td> 0</td><td>0</td><td> 0</td><td> 0</td><td>0</td><td>⋯</td><td>0</td><td>0</td><td>0</td><td> 0</td><td> 0</td><td> 0</td><td>0</td><td>0</td><td>0</td><td>0</td></tr>\n",
       "\t<tr><th scope=row>LOC111099031</th><td>0</td><td> 0</td><td> 0</td><td> 0</td><td> 0</td><td> 0</td><td>0</td><td> 0</td><td> 0</td><td>0</td><td>⋯</td><td>0</td><td>0</td><td>0</td><td> 0</td><td> 0</td><td> 0</td><td>0</td><td>0</td><td>0</td><td>0</td></tr>\n",
       "\t<tr><th scope=row>LOC111099032</th><td>0</td><td> 0</td><td> 0</td><td> 0</td><td> 0</td><td> 0</td><td>0</td><td> 0</td><td> 0</td><td>0</td><td>⋯</td><td>0</td><td>0</td><td>0</td><td> 0</td><td> 0</td><td> 0</td><td>0</td><td>0</td><td>0</td><td>0</td></tr>\n",
       "\t<tr><th scope=row>LOC111099033</th><td>0</td><td> 0</td><td>10</td><td> 0</td><td> 1</td><td> 0</td><td>0</td><td> 0</td><td> 0</td><td>0</td><td>⋯</td><td>1</td><td>0</td><td>0</td><td> 1</td><td> 0</td><td> 0</td><td>0</td><td>0</td><td>0</td><td>0</td></tr>\n",
       "\t<tr><th scope=row>LOC111099034</th><td>0</td><td> 0</td><td> 0</td><td> 0</td><td> 0</td><td> 0</td><td>0</td><td> 0</td><td> 0</td><td>0</td><td>⋯</td><td>0</td><td>0</td><td>0</td><td> 0</td><td> 0</td><td> 0</td><td>0</td><td>0</td><td>0</td><td>0</td></tr>\n",
       "</tbody>\n",
       "</table>\n"
      ],
      "text/latex": [
       "A data.frame: 6 × 30\n",
       "\\begin{tabular}{r|lllllllllllllllllllll}\n",
       "  & BBB-WBO-B21 & BBB-WBV-B70 & BBO-BBO-B16 & BBO-BBY-B27 & BBO-WBO-B16 & BBO-WBV-B64 & BBR-BBB-B50 & BBR-BBG-B38 & BBR-BBY-B26 & BBY-WBG-B42 & ⋯ & WBR-BBY-W25 & WBV-WBO-W23 & WBV-WBR-W12 & WBY-BBV-W65 & WBY-BBY-W30 & WPB-BPG-G45 & WPO-BPO-G16 & WPO-BPY-G28 & WPR-BPY-G25 & WPV-BPR-G11\\\\\n",
       "  & <int> & <int> & <int> & <int> & <int> & <int> & <int> & <int> & <int> & <int> & ⋯ & <int> & <int> & <int> & <int> & <int> & <int> & <int> & <int> & <int> & <int>\\\\\n",
       "\\hline\n",
       "\tLOC111099029 & 5 & 12 & 14 & 11 & 14 & 12 & 9 & 14 & 11 & 1 & ⋯ & 9 & 6 & 1 & 30 & 12 & 15 & 0 & 0 & 3 & 0\\\\\n",
       "\tLOC111099030 & 0 &  0 &  0 &  0 &  0 &  0 & 0 &  0 &  0 & 0 & ⋯ & 0 & 0 & 0 &  0 &  0 &  0 & 0 & 0 & 0 & 0\\\\\n",
       "\tLOC111099031 & 0 &  0 &  0 &  0 &  0 &  0 & 0 &  0 &  0 & 0 & ⋯ & 0 & 0 & 0 &  0 &  0 &  0 & 0 & 0 & 0 & 0\\\\\n",
       "\tLOC111099032 & 0 &  0 &  0 &  0 &  0 &  0 & 0 &  0 &  0 & 0 & ⋯ & 0 & 0 & 0 &  0 &  0 &  0 & 0 & 0 & 0 & 0\\\\\n",
       "\tLOC111099033 & 0 &  0 & 10 &  0 &  1 &  0 & 0 &  0 &  0 & 0 & ⋯ & 1 & 0 & 0 &  1 &  0 &  0 & 0 & 0 & 0 & 0\\\\\n",
       "\tLOC111099034 & 0 &  0 &  0 &  0 &  0 &  0 & 0 &  0 &  0 & 0 & ⋯ & 0 & 0 & 0 &  0 &  0 &  0 & 0 & 0 & 0 & 0\\\\\n",
       "\\end{tabular}\n"
      ],
      "text/markdown": [
       "\n",
       "A data.frame: 6 × 30\n",
       "\n",
       "| <!--/--> | BBB-WBO-B21 &lt;int&gt; | BBB-WBV-B70 &lt;int&gt; | BBO-BBO-B16 &lt;int&gt; | BBO-BBY-B27 &lt;int&gt; | BBO-WBO-B16 &lt;int&gt; | BBO-WBV-B64 &lt;int&gt; | BBR-BBB-B50 &lt;int&gt; | BBR-BBG-B38 &lt;int&gt; | BBR-BBY-B26 &lt;int&gt; | BBY-WBG-B42 &lt;int&gt; | ⋯ ⋯ | WBR-BBY-W25 &lt;int&gt; | WBV-WBO-W23 &lt;int&gt; | WBV-WBR-W12 &lt;int&gt; | WBY-BBV-W65 &lt;int&gt; | WBY-BBY-W30 &lt;int&gt; | WPB-BPG-G45 &lt;int&gt; | WPO-BPO-G16 &lt;int&gt; | WPO-BPY-G28 &lt;int&gt; | WPR-BPY-G25 &lt;int&gt; | WPV-BPR-G11 &lt;int&gt; |\n",
       "|---|---|---|---|---|---|---|---|---|---|---|---|---|---|---|---|---|---|---|---|---|---|\n",
       "| LOC111099029 | 5 | 12 | 14 | 11 | 14 | 12 | 9 | 14 | 11 | 1 | ⋯ | 9 | 6 | 1 | 30 | 12 | 15 | 0 | 0 | 3 | 0 |\n",
       "| LOC111099030 | 0 |  0 |  0 |  0 |  0 |  0 | 0 |  0 |  0 | 0 | ⋯ | 0 | 0 | 0 |  0 |  0 |  0 | 0 | 0 | 0 | 0 |\n",
       "| LOC111099031 | 0 |  0 |  0 |  0 |  0 |  0 | 0 |  0 |  0 | 0 | ⋯ | 0 | 0 | 0 |  0 |  0 |  0 | 0 | 0 | 0 | 0 |\n",
       "| LOC111099032 | 0 |  0 |  0 |  0 |  0 |  0 | 0 |  0 |  0 | 0 | ⋯ | 0 | 0 | 0 |  0 |  0 |  0 | 0 | 0 | 0 | 0 |\n",
       "| LOC111099033 | 0 |  0 | 10 |  0 |  1 |  0 | 0 |  0 |  0 | 0 | ⋯ | 1 | 0 | 0 |  1 |  0 |  0 | 0 | 0 | 0 | 0 |\n",
       "| LOC111099034 | 0 |  0 |  0 |  0 |  0 |  0 | 0 |  0 |  0 | 0 | ⋯ | 0 | 0 | 0 |  0 |  0 |  0 | 0 | 0 | 0 | 0 |\n",
       "\n"
      ],
      "text/plain": [
       "             BBB-WBO-B21 BBB-WBV-B70 BBO-BBO-B16 BBO-BBY-B27 BBO-WBO-B16\n",
       "LOC111099029 5           12          14          11          14         \n",
       "LOC111099030 0            0           0           0           0         \n",
       "LOC111099031 0            0           0           0           0         \n",
       "LOC111099032 0            0           0           0           0         \n",
       "LOC111099033 0            0          10           0           1         \n",
       "LOC111099034 0            0           0           0           0         \n",
       "             BBO-WBV-B64 BBR-BBB-B50 BBR-BBG-B38 BBR-BBY-B26 BBY-WBG-B42 ⋯\n",
       "LOC111099029 12          9           14          11          1           ⋯\n",
       "LOC111099030  0          0            0           0          0           ⋯\n",
       "LOC111099031  0          0            0           0          0           ⋯\n",
       "LOC111099032  0          0            0           0          0           ⋯\n",
       "LOC111099033  0          0            0           0          0           ⋯\n",
       "LOC111099034  0          0            0           0          0           ⋯\n",
       "             WBR-BBY-W25 WBV-WBO-W23 WBV-WBR-W12 WBY-BBV-W65 WBY-BBY-W30\n",
       "LOC111099029 9           6           1           30          12         \n",
       "LOC111099030 0           0           0            0           0         \n",
       "LOC111099031 0           0           0            0           0         \n",
       "LOC111099032 0           0           0            0           0         \n",
       "LOC111099033 1           0           0            1           0         \n",
       "LOC111099034 0           0           0            0           0         \n",
       "             WPB-BPG-G45 WPO-BPO-G16 WPO-BPY-G28 WPR-BPY-G25 WPV-BPR-G11\n",
       "LOC111099029 15          0           0           3           0          \n",
       "LOC111099030  0          0           0           0           0          \n",
       "LOC111099031  0          0           0           0           0          \n",
       "LOC111099032  0          0           0           0           0          \n",
       "LOC111099033  0          0           0           0           0          \n",
       "LOC111099034  0          0           0           0           0          "
      ]
     },
     "metadata": {},
     "output_type": "display_data"
    }
   ],
   "source": [
    "rownames(counts_exon) = counts_exon$gene # setting row names = gene\n",
    "counts_exon = counts_exon[,2:31] # dropping gene column \n",
    "head(counts_exon)"
   ]
  },
  {
   "cell_type": "code",
   "execution_count": 14,
   "id": "cd124192-38e8-4774-83a8-62c7a04332d9",
   "metadata": {},
   "outputs": [
    {
     "data": {
      "text/html": [
       "<table class=\"dataframe\">\n",
       "<caption>A data.frame: 6 × 30</caption>\n",
       "<thead>\n",
       "\t<tr><th></th><th scope=col>BBB-WBO-B21</th><th scope=col>BBB-WBV-B70</th><th scope=col>BBO-BBO-B16</th><th scope=col>BBO-BBY-B27</th><th scope=col>BBO-WBO-B16</th><th scope=col>BBO-WBV-B64</th><th scope=col>BBR-BBB-B50</th><th scope=col>BBR-BBG-B38</th><th scope=col>BBR-BBY-B26</th><th scope=col>BBY-WBG-B42</th><th scope=col>⋯</th><th scope=col>WBR-BBY-W25</th><th scope=col>WBV-WBO-W23</th><th scope=col>WBV-WBR-W12</th><th scope=col>WBY-BBV-W65</th><th scope=col>WBY-BBY-W30</th><th scope=col>WPB-BPG-G45</th><th scope=col>WPO-BPO-G16</th><th scope=col>WPO-BPY-G28</th><th scope=col>WPR-BPY-G25</th><th scope=col>WPV-BPR-G11</th></tr>\n",
       "\t<tr><th></th><th scope=col>&lt;int&gt;</th><th scope=col>&lt;int&gt;</th><th scope=col>&lt;int&gt;</th><th scope=col>&lt;int&gt;</th><th scope=col>&lt;int&gt;</th><th scope=col>&lt;int&gt;</th><th scope=col>&lt;int&gt;</th><th scope=col>&lt;int&gt;</th><th scope=col>&lt;int&gt;</th><th scope=col>&lt;int&gt;</th><th scope=col>⋯</th><th scope=col>&lt;int&gt;</th><th scope=col>&lt;int&gt;</th><th scope=col>&lt;int&gt;</th><th scope=col>&lt;int&gt;</th><th scope=col>&lt;int&gt;</th><th scope=col>&lt;int&gt;</th><th scope=col>&lt;int&gt;</th><th scope=col>&lt;int&gt;</th><th scope=col>&lt;int&gt;</th><th scope=col>&lt;int&gt;</th></tr>\n",
       "</thead>\n",
       "<tbody>\n",
       "\t<tr><th scope=row>COX1</th><td>0</td><td> 0</td><td> 0</td><td> 0</td><td> 0</td><td> 0</td><td>0</td><td> 0</td><td> 0</td><td>0</td><td>⋯</td><td>0</td><td>0</td><td>0</td><td> 0</td><td> 0</td><td> 0</td><td>0</td><td>0</td><td>0</td><td>0</td></tr>\n",
       "\t<tr><th scope=row>COX2</th><td>0</td><td> 0</td><td> 0</td><td> 0</td><td> 0</td><td> 0</td><td>0</td><td> 0</td><td> 0</td><td>0</td><td>⋯</td><td>0</td><td>0</td><td>0</td><td> 0</td><td> 0</td><td> 0</td><td>0</td><td>0</td><td>0</td><td>0</td></tr>\n",
       "\t<tr><th scope=row>COX3</th><td>0</td><td> 0</td><td> 0</td><td> 0</td><td> 0</td><td> 0</td><td>0</td><td> 0</td><td> 0</td><td>0</td><td>⋯</td><td>0</td><td>0</td><td>0</td><td> 0</td><td> 0</td><td> 0</td><td>0</td><td>0</td><td>0</td><td>0</td></tr>\n",
       "\t<tr><th scope=row>CYTB</th><td>0</td><td> 0</td><td> 0</td><td> 0</td><td> 0</td><td> 0</td><td>0</td><td> 0</td><td> 0</td><td>0</td><td>⋯</td><td>0</td><td>0</td><td>0</td><td> 0</td><td> 0</td><td> 0</td><td>0</td><td>0</td><td>0</td><td>0</td></tr>\n",
       "\t<tr><th scope=row>LOC111099029</th><td>7</td><td>13</td><td>15</td><td>11</td><td>16</td><td>12</td><td>9</td><td>15</td><td>11</td><td>1</td><td>⋯</td><td>9</td><td>6</td><td>1</td><td>30</td><td>13</td><td>15</td><td>0</td><td>0</td><td>4</td><td>0</td></tr>\n",
       "\t<tr><th scope=row>LOC111099030</th><td>0</td><td> 0</td><td> 0</td><td> 0</td><td> 0</td><td> 0</td><td>0</td><td> 0</td><td> 0</td><td>0</td><td>⋯</td><td>0</td><td>0</td><td>0</td><td> 0</td><td> 0</td><td> 0</td><td>0</td><td>0</td><td>0</td><td>0</td></tr>\n",
       "</tbody>\n",
       "</table>\n"
      ],
      "text/latex": [
       "A data.frame: 6 × 30\n",
       "\\begin{tabular}{r|lllllllllllllllllllll}\n",
       "  & BBB-WBO-B21 & BBB-WBV-B70 & BBO-BBO-B16 & BBO-BBY-B27 & BBO-WBO-B16 & BBO-WBV-B64 & BBR-BBB-B50 & BBR-BBG-B38 & BBR-BBY-B26 & BBY-WBG-B42 & ⋯ & WBR-BBY-W25 & WBV-WBO-W23 & WBV-WBR-W12 & WBY-BBV-W65 & WBY-BBY-W30 & WPB-BPG-G45 & WPO-BPO-G16 & WPO-BPY-G28 & WPR-BPY-G25 & WPV-BPR-G11\\\\\n",
       "  & <int> & <int> & <int> & <int> & <int> & <int> & <int> & <int> & <int> & <int> & ⋯ & <int> & <int> & <int> & <int> & <int> & <int> & <int> & <int> & <int> & <int>\\\\\n",
       "\\hline\n",
       "\tCOX1 & 0 &  0 &  0 &  0 &  0 &  0 & 0 &  0 &  0 & 0 & ⋯ & 0 & 0 & 0 &  0 &  0 &  0 & 0 & 0 & 0 & 0\\\\\n",
       "\tCOX2 & 0 &  0 &  0 &  0 &  0 &  0 & 0 &  0 &  0 & 0 & ⋯ & 0 & 0 & 0 &  0 &  0 &  0 & 0 & 0 & 0 & 0\\\\\n",
       "\tCOX3 & 0 &  0 &  0 &  0 &  0 &  0 & 0 &  0 &  0 & 0 & ⋯ & 0 & 0 & 0 &  0 &  0 &  0 & 0 & 0 & 0 & 0\\\\\n",
       "\tCYTB & 0 &  0 &  0 &  0 &  0 &  0 & 0 &  0 &  0 & 0 & ⋯ & 0 & 0 & 0 &  0 &  0 &  0 & 0 & 0 & 0 & 0\\\\\n",
       "\tLOC111099029 & 7 & 13 & 15 & 11 & 16 & 12 & 9 & 15 & 11 & 1 & ⋯ & 9 & 6 & 1 & 30 & 13 & 15 & 0 & 0 & 4 & 0\\\\\n",
       "\tLOC111099030 & 0 &  0 &  0 &  0 &  0 &  0 & 0 &  0 &  0 & 0 & ⋯ & 0 & 0 & 0 &  0 &  0 &  0 & 0 & 0 & 0 & 0\\\\\n",
       "\\end{tabular}\n"
      ],
      "text/markdown": [
       "\n",
       "A data.frame: 6 × 30\n",
       "\n",
       "| <!--/--> | BBB-WBO-B21 &lt;int&gt; | BBB-WBV-B70 &lt;int&gt; | BBO-BBO-B16 &lt;int&gt; | BBO-BBY-B27 &lt;int&gt; | BBO-WBO-B16 &lt;int&gt; | BBO-WBV-B64 &lt;int&gt; | BBR-BBB-B50 &lt;int&gt; | BBR-BBG-B38 &lt;int&gt; | BBR-BBY-B26 &lt;int&gt; | BBY-WBG-B42 &lt;int&gt; | ⋯ ⋯ | WBR-BBY-W25 &lt;int&gt; | WBV-WBO-W23 &lt;int&gt; | WBV-WBR-W12 &lt;int&gt; | WBY-BBV-W65 &lt;int&gt; | WBY-BBY-W30 &lt;int&gt; | WPB-BPG-G45 &lt;int&gt; | WPO-BPO-G16 &lt;int&gt; | WPO-BPY-G28 &lt;int&gt; | WPR-BPY-G25 &lt;int&gt; | WPV-BPR-G11 &lt;int&gt; |\n",
       "|---|---|---|---|---|---|---|---|---|---|---|---|---|---|---|---|---|---|---|---|---|---|\n",
       "| COX1 | 0 |  0 |  0 |  0 |  0 |  0 | 0 |  0 |  0 | 0 | ⋯ | 0 | 0 | 0 |  0 |  0 |  0 | 0 | 0 | 0 | 0 |\n",
       "| COX2 | 0 |  0 |  0 |  0 |  0 |  0 | 0 |  0 |  0 | 0 | ⋯ | 0 | 0 | 0 |  0 |  0 |  0 | 0 | 0 | 0 | 0 |\n",
       "| COX3 | 0 |  0 |  0 |  0 |  0 |  0 | 0 |  0 |  0 | 0 | ⋯ | 0 | 0 | 0 |  0 |  0 |  0 | 0 | 0 | 0 | 0 |\n",
       "| CYTB | 0 |  0 |  0 |  0 |  0 |  0 | 0 |  0 |  0 | 0 | ⋯ | 0 | 0 | 0 |  0 |  0 |  0 | 0 | 0 | 0 | 0 |\n",
       "| LOC111099029 | 7 | 13 | 15 | 11 | 16 | 12 | 9 | 15 | 11 | 1 | ⋯ | 9 | 6 | 1 | 30 | 13 | 15 | 0 | 0 | 4 | 0 |\n",
       "| LOC111099030 | 0 |  0 |  0 |  0 |  0 |  0 | 0 |  0 |  0 | 0 | ⋯ | 0 | 0 | 0 |  0 |  0 |  0 | 0 | 0 | 0 | 0 |\n",
       "\n"
      ],
      "text/plain": [
       "             BBB-WBO-B21 BBB-WBV-B70 BBO-BBO-B16 BBO-BBY-B27 BBO-WBO-B16\n",
       "COX1         0            0           0           0           0         \n",
       "COX2         0            0           0           0           0         \n",
       "COX3         0            0           0           0           0         \n",
       "CYTB         0            0           0           0           0         \n",
       "LOC111099029 7           13          15          11          16         \n",
       "LOC111099030 0            0           0           0           0         \n",
       "             BBO-WBV-B64 BBR-BBB-B50 BBR-BBG-B38 BBR-BBY-B26 BBY-WBG-B42 ⋯\n",
       "COX1          0          0            0           0          0           ⋯\n",
       "COX2          0          0            0           0          0           ⋯\n",
       "COX3          0          0            0           0          0           ⋯\n",
       "CYTB          0          0            0           0          0           ⋯\n",
       "LOC111099029 12          9           15          11          1           ⋯\n",
       "LOC111099030  0          0            0           0          0           ⋯\n",
       "             WBR-BBY-W25 WBV-WBO-W23 WBV-WBR-W12 WBY-BBV-W65 WBY-BBY-W30\n",
       "COX1         0           0           0            0           0         \n",
       "COX2         0           0           0            0           0         \n",
       "COX3         0           0           0            0           0         \n",
       "CYTB         0           0           0            0           0         \n",
       "LOC111099029 9           6           1           30          13         \n",
       "LOC111099030 0           0           0            0           0         \n",
       "             WPB-BPG-G45 WPO-BPO-G16 WPO-BPY-G28 WPR-BPY-G25 WPV-BPR-G11\n",
       "COX1          0          0           0           0           0          \n",
       "COX2          0          0           0           0           0          \n",
       "COX3          0          0           0           0           0          \n",
       "CYTB          0          0           0           0           0          \n",
       "LOC111099029 15          0           0           4           0          \n",
       "LOC111099030  0          0           0           0           0          "
      ]
     },
     "metadata": {},
     "output_type": "display_data"
    }
   ],
   "source": [
    "rownames(counts_gene) = counts_gene$gene # setting row names = gene\n",
    "counts_gene = counts_gene[,2:31] # dropping gene column \n",
    "head(counts_gene)"
   ]
  },
  {
   "cell_type": "code",
   "execution_count": 15,
   "id": "fd29c48b-2fa2-4798-8aac-5a237e3c8a69",
   "metadata": {},
   "outputs": [
    {
     "data": {
      "text/html": [
       "<table class=\"dataframe\">\n",
       "<caption>A data.frame: 6 × 30</caption>\n",
       "<thead>\n",
       "\t<tr><th></th><th scope=col>BBB-WBO-B21</th><th scope=col>BBB-WBV-B70</th><th scope=col>BBO-BBO-B16</th><th scope=col>BBO-BBY-B27</th><th scope=col>BBO-WBO-B16</th><th scope=col>BBO-WBV-B64</th><th scope=col>BBR-BBB-B50</th><th scope=col>BBR-BBG-B38</th><th scope=col>BBR-BBY-B26</th><th scope=col>BBY-WBG-B42</th><th scope=col>⋯</th><th scope=col>WBR-BBY-W25</th><th scope=col>WBV-WBO-W23</th><th scope=col>WBV-WBR-W12</th><th scope=col>WBY-BBV-W65</th><th scope=col>WBY-BBY-W30</th><th scope=col>WPB-BPG-G45</th><th scope=col>WPO-BPO-G16</th><th scope=col>WPO-BPY-G28</th><th scope=col>WPR-BPY-G25</th><th scope=col>WPV-BPR-G11</th></tr>\n",
       "\t<tr><th></th><th scope=col>&lt;int&gt;</th><th scope=col>&lt;int&gt;</th><th scope=col>&lt;int&gt;</th><th scope=col>&lt;int&gt;</th><th scope=col>&lt;int&gt;</th><th scope=col>&lt;int&gt;</th><th scope=col>&lt;int&gt;</th><th scope=col>&lt;int&gt;</th><th scope=col>&lt;int&gt;</th><th scope=col>&lt;int&gt;</th><th scope=col>⋯</th><th scope=col>&lt;int&gt;</th><th scope=col>&lt;int&gt;</th><th scope=col>&lt;int&gt;</th><th scope=col>&lt;int&gt;</th><th scope=col>&lt;int&gt;</th><th scope=col>&lt;int&gt;</th><th scope=col>&lt;int&gt;</th><th scope=col>&lt;int&gt;</th><th scope=col>&lt;int&gt;</th><th scope=col>&lt;int&gt;</th></tr>\n",
       "</thead>\n",
       "<tbody>\n",
       "\t<tr><th scope=row>Trnay-gua_4</th><td>0</td><td>0</td><td>0</td><td>0</td><td>0</td><td>0</td><td>0</td><td>0</td><td>0</td><td>0</td><td>⋯</td><td>0</td><td>0</td><td>0</td><td>0</td><td>0</td><td>0</td><td>0</td><td>0</td><td>0</td><td>0</td></tr>\n",
       "\t<tr><th scope=row>Trnay-gua_5</th><td>0</td><td>0</td><td>0</td><td>0</td><td>0</td><td>0</td><td>0</td><td>0</td><td>0</td><td>0</td><td>⋯</td><td>0</td><td>0</td><td>0</td><td>0</td><td>0</td><td>0</td><td>0</td><td>0</td><td>0</td><td>0</td></tr>\n",
       "\t<tr><th scope=row>Trnay-gua_6</th><td>0</td><td>0</td><td>0</td><td>0</td><td>0</td><td>0</td><td>0</td><td>0</td><td>0</td><td>0</td><td>⋯</td><td>0</td><td>0</td><td>0</td><td>0</td><td>0</td><td>0</td><td>0</td><td>0</td><td>0</td><td>0</td></tr>\n",
       "\t<tr><th scope=row>Trnay-gua_7</th><td>0</td><td>0</td><td>0</td><td>0</td><td>0</td><td>0</td><td>0</td><td>0</td><td>0</td><td>0</td><td>⋯</td><td>0</td><td>0</td><td>0</td><td>0</td><td>0</td><td>0</td><td>0</td><td>0</td><td>0</td><td>0</td></tr>\n",
       "\t<tr><th scope=row>Trnay-gua_8</th><td>0</td><td>0</td><td>0</td><td>0</td><td>0</td><td>0</td><td>0</td><td>0</td><td>0</td><td>0</td><td>⋯</td><td>0</td><td>0</td><td>0</td><td>0</td><td>0</td><td>0</td><td>0</td><td>0</td><td>0</td><td>0</td></tr>\n",
       "\t<tr><th scope=row>Trnay-gua_9</th><td>0</td><td>0</td><td>0</td><td>0</td><td>0</td><td>0</td><td>0</td><td>0</td><td>0</td><td>0</td><td>⋯</td><td>0</td><td>0</td><td>0</td><td>0</td><td>0</td><td>0</td><td>0</td><td>0</td><td>0</td><td>0</td></tr>\n",
       "</tbody>\n",
       "</table>\n"
      ],
      "text/latex": [
       "A data.frame: 6 × 30\n",
       "\\begin{tabular}{r|lllllllllllllllllllll}\n",
       "  & BBB-WBO-B21 & BBB-WBV-B70 & BBO-BBO-B16 & BBO-BBY-B27 & BBO-WBO-B16 & BBO-WBV-B64 & BBR-BBB-B50 & BBR-BBG-B38 & BBR-BBY-B26 & BBY-WBG-B42 & ⋯ & WBR-BBY-W25 & WBV-WBO-W23 & WBV-WBR-W12 & WBY-BBV-W65 & WBY-BBY-W30 & WPB-BPG-G45 & WPO-BPO-G16 & WPO-BPY-G28 & WPR-BPY-G25 & WPV-BPR-G11\\\\\n",
       "  & <int> & <int> & <int> & <int> & <int> & <int> & <int> & <int> & <int> & <int> & ⋯ & <int> & <int> & <int> & <int> & <int> & <int> & <int> & <int> & <int> & <int>\\\\\n",
       "\\hline\n",
       "\tTrnay-gua\\_4 & 0 & 0 & 0 & 0 & 0 & 0 & 0 & 0 & 0 & 0 & ⋯ & 0 & 0 & 0 & 0 & 0 & 0 & 0 & 0 & 0 & 0\\\\\n",
       "\tTrnay-gua\\_5 & 0 & 0 & 0 & 0 & 0 & 0 & 0 & 0 & 0 & 0 & ⋯ & 0 & 0 & 0 & 0 & 0 & 0 & 0 & 0 & 0 & 0\\\\\n",
       "\tTrnay-gua\\_6 & 0 & 0 & 0 & 0 & 0 & 0 & 0 & 0 & 0 & 0 & ⋯ & 0 & 0 & 0 & 0 & 0 & 0 & 0 & 0 & 0 & 0\\\\\n",
       "\tTrnay-gua\\_7 & 0 & 0 & 0 & 0 & 0 & 0 & 0 & 0 & 0 & 0 & ⋯ & 0 & 0 & 0 & 0 & 0 & 0 & 0 & 0 & 0 & 0\\\\\n",
       "\tTrnay-gua\\_8 & 0 & 0 & 0 & 0 & 0 & 0 & 0 & 0 & 0 & 0 & ⋯ & 0 & 0 & 0 & 0 & 0 & 0 & 0 & 0 & 0 & 0\\\\\n",
       "\tTrnay-gua\\_9 & 0 & 0 & 0 & 0 & 0 & 0 & 0 & 0 & 0 & 0 & ⋯ & 0 & 0 & 0 & 0 & 0 & 0 & 0 & 0 & 0 & 0\\\\\n",
       "\\end{tabular}\n"
      ],
      "text/markdown": [
       "\n",
       "A data.frame: 6 × 30\n",
       "\n",
       "| <!--/--> | BBB-WBO-B21 &lt;int&gt; | BBB-WBV-B70 &lt;int&gt; | BBO-BBO-B16 &lt;int&gt; | BBO-BBY-B27 &lt;int&gt; | BBO-WBO-B16 &lt;int&gt; | BBO-WBV-B64 &lt;int&gt; | BBR-BBB-B50 &lt;int&gt; | BBR-BBG-B38 &lt;int&gt; | BBR-BBY-B26 &lt;int&gt; | BBY-WBG-B42 &lt;int&gt; | ⋯ ⋯ | WBR-BBY-W25 &lt;int&gt; | WBV-WBO-W23 &lt;int&gt; | WBV-WBR-W12 &lt;int&gt; | WBY-BBV-W65 &lt;int&gt; | WBY-BBY-W30 &lt;int&gt; | WPB-BPG-G45 &lt;int&gt; | WPO-BPO-G16 &lt;int&gt; | WPO-BPY-G28 &lt;int&gt; | WPR-BPY-G25 &lt;int&gt; | WPV-BPR-G11 &lt;int&gt; |\n",
       "|---|---|---|---|---|---|---|---|---|---|---|---|---|---|---|---|---|---|---|---|---|---|\n",
       "| Trnay-gua_4 | 0 | 0 | 0 | 0 | 0 | 0 | 0 | 0 | 0 | 0 | ⋯ | 0 | 0 | 0 | 0 | 0 | 0 | 0 | 0 | 0 | 0 |\n",
       "| Trnay-gua_5 | 0 | 0 | 0 | 0 | 0 | 0 | 0 | 0 | 0 | 0 | ⋯ | 0 | 0 | 0 | 0 | 0 | 0 | 0 | 0 | 0 | 0 |\n",
       "| Trnay-gua_6 | 0 | 0 | 0 | 0 | 0 | 0 | 0 | 0 | 0 | 0 | ⋯ | 0 | 0 | 0 | 0 | 0 | 0 | 0 | 0 | 0 | 0 |\n",
       "| Trnay-gua_7 | 0 | 0 | 0 | 0 | 0 | 0 | 0 | 0 | 0 | 0 | ⋯ | 0 | 0 | 0 | 0 | 0 | 0 | 0 | 0 | 0 | 0 |\n",
       "| Trnay-gua_8 | 0 | 0 | 0 | 0 | 0 | 0 | 0 | 0 | 0 | 0 | ⋯ | 0 | 0 | 0 | 0 | 0 | 0 | 0 | 0 | 0 | 0 |\n",
       "| Trnay-gua_9 | 0 | 0 | 0 | 0 | 0 | 0 | 0 | 0 | 0 | 0 | ⋯ | 0 | 0 | 0 | 0 | 0 | 0 | 0 | 0 | 0 | 0 |\n",
       "\n"
      ],
      "text/plain": [
       "            BBB-WBO-B21 BBB-WBV-B70 BBO-BBO-B16 BBO-BBY-B27 BBO-WBO-B16\n",
       "Trnay-gua_4 0           0           0           0           0          \n",
       "Trnay-gua_5 0           0           0           0           0          \n",
       "Trnay-gua_6 0           0           0           0           0          \n",
       "Trnay-gua_7 0           0           0           0           0          \n",
       "Trnay-gua_8 0           0           0           0           0          \n",
       "Trnay-gua_9 0           0           0           0           0          \n",
       "            BBO-WBV-B64 BBR-BBB-B50 BBR-BBG-B38 BBR-BBY-B26 BBY-WBG-B42 ⋯\n",
       "Trnay-gua_4 0           0           0           0           0           ⋯\n",
       "Trnay-gua_5 0           0           0           0           0           ⋯\n",
       "Trnay-gua_6 0           0           0           0           0           ⋯\n",
       "Trnay-gua_7 0           0           0           0           0           ⋯\n",
       "Trnay-gua_8 0           0           0           0           0           ⋯\n",
       "Trnay-gua_9 0           0           0           0           0           ⋯\n",
       "            WBR-BBY-W25 WBV-WBO-W23 WBV-WBR-W12 WBY-BBV-W65 WBY-BBY-W30\n",
       "Trnay-gua_4 0           0           0           0           0          \n",
       "Trnay-gua_5 0           0           0           0           0          \n",
       "Trnay-gua_6 0           0           0           0           0          \n",
       "Trnay-gua_7 0           0           0           0           0          \n",
       "Trnay-gua_8 0           0           0           0           0          \n",
       "Trnay-gua_9 0           0           0           0           0          \n",
       "            WPB-BPG-G45 WPO-BPO-G16 WPO-BPY-G28 WPR-BPY-G25 WPV-BPR-G11\n",
       "Trnay-gua_4 0           0           0           0           0          \n",
       "Trnay-gua_5 0           0           0           0           0          \n",
       "Trnay-gua_6 0           0           0           0           0          \n",
       "Trnay-gua_7 0           0           0           0           0          \n",
       "Trnay-gua_8 0           0           0           0           0          \n",
       "Trnay-gua_9 0           0           0           0           0          "
      ]
     },
     "metadata": {},
     "output_type": "display_data"
    }
   ],
   "source": [
    "# have to remove extra info/'gunk' at bottom of counts_gene that is generated from htseq-counts\n",
    "counts_gene = counts_gene[1:39504,]\n",
    "tail(counts_gene)"
   ]
  },
  {
   "cell_type": "code",
   "execution_count": 16,
   "id": "4350a073-f479-4705-98f1-89ff05298241",
   "metadata": {},
   "outputs": [
    {
     "data": {
      "text/html": [
       "<style>\n",
       ".list-inline {list-style: none; margin:0; padding: 0}\n",
       ".list-inline>li {display: inline-block}\n",
       ".list-inline>li:not(:last-child)::after {content: \"\\00b7\"; padding: 0 .5ex}\n",
       "</style>\n",
       "<ol class=list-inline><li>'hypoxic'</li><li>'both'</li><li>'control'</li><li>'warm'</li></ol>\n"
      ],
      "text/latex": [
       "\\begin{enumerate*}\n",
       "\\item 'hypoxic'\n",
       "\\item 'both'\n",
       "\\item 'control'\n",
       "\\item 'warm'\n",
       "\\end{enumerate*}\n"
      ],
      "text/markdown": [
       "1. 'hypoxic'\n",
       "2. 'both'\n",
       "3. 'control'\n",
       "4. 'warm'\n",
       "\n",
       "\n"
      ],
      "text/plain": [
       "[1] \"hypoxic\" \"both\"    \"control\" \"warm\"   "
      ]
     },
     "metadata": {},
     "output_type": "display_data"
    },
    {
     "data": {
      "text/html": [
       "<style>\n",
       ".list-inline {list-style: none; margin:0; padding: 0}\n",
       ".list-inline>li {display: inline-block}\n",
       ".list-inline>li:not(:last-child)::after {content: \"\\00b7\"; padding: 0 .5ex}\n",
       "</style>\n",
       "<ol class=list-inline><li>'control'</li><li>'hypoxic'</li><li>'both'</li></ol>\n"
      ],
      "text/latex": [
       "\\begin{enumerate*}\n",
       "\\item 'control'\n",
       "\\item 'hypoxic'\n",
       "\\item 'both'\n",
       "\\end{enumerate*}\n"
      ],
      "text/markdown": [
       "1. 'control'\n",
       "2. 'hypoxic'\n",
       "3. 'both'\n",
       "\n",
       "\n"
      ],
      "text/plain": [
       "[1] \"control\" \"hypoxic\" \"both\"   "
      ]
     },
     "metadata": {},
     "output_type": "display_data"
    }
   ],
   "source": [
    "#### unique phase treatments for the samples\n",
    "unique(meta$Phase1) # 'hypoxic''both''control''warm'\n",
    "unique(meta$Phase2) # 'control''hypoxic''both'"
   ]
  },
  {
   "cell_type": "markdown",
   "id": "830cda48-bf52-4715-b385-2b583080e158",
   "metadata": {},
   "source": [
    "looking at https://htseq.readthedocs.io/en/master/features.html"
   ]
  },
  {
   "cell_type": "markdown",
   "id": "8ca03fab-1e2d-47df-8432-4ca833c0927c",
   "metadata": {},
   "source": [
    "trying to match up gtf file with genes file (counts matrix) - although might not need to do rn"
   ]
  },
  {
   "cell_type": "code",
   "execution_count": 17,
   "id": "764f4ea3-67a5-439f-89ac-b25a24db7f26",
   "metadata": {},
   "outputs": [
    {
     "ename": "ERROR",
     "evalue": "Error in eval(expr, envir, enclos): object 'gtf_data' not found\n",
     "output_type": "error",
     "traceback": [
      "Error in eval(expr, envir, enclos): object 'gtf_data' not found\nTraceback:\n",
      "1. filter(gtf_data, gtf_data$feature == \"gene\")"
     ]
    }
   ],
   "source": [
    "# filtering gtf_data for only rows with gene\n",
    "gtf_genes = filter(gtf_data, gtf_data$feature == 'gene')\n",
    "dim(gtf_genes) # 39,505 rows"
   ]
  },
  {
   "cell_type": "code",
   "execution_count": null,
   "id": "d8c72df7-77b5-40ca-98f1-c71dad562a96",
   "metadata": {},
   "outputs": [],
   "source": [
    "dim(counts_gene) #39,509 rows"
   ]
  },
  {
   "cell_type": "markdown",
   "id": "349da7c5-618c-4428-a163-1cb41b2bec60",
   "metadata": {},
   "source": [
    "okay so I'm pretty sure I've got the gtf data and the counts matrix to line up - except the counts_gene df has these CO... genes - checking to see if those are also in gtf_genes or if I should remove them"
   ]
  },
  {
   "cell_type": "markdown",
   "id": "d791c883-4dd0-443d-8496-37553928f15f",
   "metadata": {},
   "source": [
    "creating a new column in the gtf file to add just the gene_id info - this will help with matching up the counts_gene df"
   ]
  },
  {
   "cell_type": "code",
   "execution_count": null,
   "id": "0fd4f7ba-c9f3-4466-9ca2-bd5188276207",
   "metadata": {},
   "outputs": [],
   "source": [
    "# Extract gene_id\n",
    "gtf_genes$gene_id <- gsub('.*gene_id \"(.*?)\";.*', '\\\\1', gtf_genes$attributes)\n",
    "\n",
    "# set row names as the gene_id\n",
    "rownames(gtf_genes) = gtf_genes$gene_id\n",
    "head(gtf_genes)"
   ]
  },
  {
   "cell_type": "code",
   "execution_count": 18,
   "id": "63a9b908-511d-44b9-b3bd-9c735edf466a",
   "metadata": {},
   "outputs": [
    {
     "ename": "ERROR",
     "evalue": "Error in h(simpleError(msg, call)): error in evaluating the argument 'x' in selecting a method for function '%in%': error in evaluating the argument 'x' in selecting a method for function 'rownames': object 'gtf_genes' not found\n",
     "output_type": "error",
     "traceback": [
      "Error in h(simpleError(msg, call)): error in evaluating the argument 'x' in selecting a method for function '%in%': error in evaluating the argument 'x' in selecting a method for function 'rownames': object 'gtf_genes' not found\nTraceback:\n",
      "1. rownames(gtf_genes) %in% rownames(counts_gene)",
      "2. rownames(gtf_genes)",
      "3. .handleSimpleError(function (cond) \n . .Internal(C_tryCatchHelper(addr, 1L, cond)), \"object 'gtf_genes' not found\", \n .     base::quote(eval(expr, envir, enclos)))",
      "4. h(simpleError(msg, call))",
      "5. .handleSimpleError(function (cond) \n . .Internal(C_tryCatchHelper(addr, 1L, cond)), \"error in evaluating the argument 'x' in selecting a method for function 'rownames': object 'gtf_genes' not found\", \n .     base::quote(h(simpleError(msg, call))))",
      "6. h(simpleError(msg, call))"
     ]
    }
   ],
   "source": [
    "# Checking if the genes in counts_genes are also in gtf_genes\n",
    "genes_in_both <- rownames(gtf_genes) %in% rownames(counts_gene)\n",
    "\n",
    "# looking at what's FALSE (in gtf_genes but not in counts_gene)\n",
    "#sum(!genes_in_both) # only 1 FALSE\n",
    "false_cg = gtf_genes[!genes_in_both,]\n",
    "false_cg #ATP6 is in gtf_genes, but not in counts_gene\n",
    "\n",
    "# Pulling out only the rows in gtf_genes that match the genes in counts_genes\n",
    "gtf_genes1 <- gtf_genes[genes_in_both,]"
   ]
  },
  {
   "cell_type": "code",
   "execution_count": null,
   "id": "8b2e2263-3f1f-4769-91cc-e60f21159238",
   "metadata": {},
   "outputs": [],
   "source": [
    "dim(gtf_genes1) #39,504 - removed row that didn't match in counts_gene\n",
    "dim(counts_gene) #39,504\n",
    "\n",
    "# OG gtf file of genes\n",
    "dim(gtf_genes) # 39,505"
   ]
  },
  {
   "cell_type": "code",
   "execution_count": null,
   "id": "d156e831-11b7-4bd6-a827-f2bac87ebb1c",
   "metadata": {},
   "outputs": [],
   "source": [
    "# removing gene_id column - not necessary\n",
    "gtf_genes1 <- gtf_genes1[, -ncol(gtf_genes)]\n",
    "\n",
    "# adding dataframes together \n",
    "counts_meta <- cbind(counts_gene, gtf_genes1)\n",
    "\n",
    "# checking out the new df - making sure things make sense\n",
    "dim(counts_meta) \n",
    "# 39,504 rows for 39,504 genes\n",
    "# 39 columns for 30 samples + 9 gtf columns \n",
    "head(counts_meta)"
   ]
  },
  {
   "cell_type": "code",
   "execution_count": 19,
   "id": "0011b83c-91ae-4957-8a61-436a92faf503",
   "metadata": {},
   "outputs": [
    {
     "ename": "ERROR",
     "evalue": "Error in eval(expr, p): object 'counts_meta' not found\n",
     "output_type": "error",
     "traceback": [
      "Error in eval(expr, p): object 'counts_meta' not found\nTraceback:\n",
      "1. write.csv(counts_meta, \"/project/pi_sarah_gignouxwolfsohn_uml_edu/julia/CE_MethylRAD_analysis_2018/analysis/counts_and_meta/counts_meta.csv\")",
      "2. eval.parent(Call)",
      "3. eval(expr, p)",
      "4. eval(expr, p)",
      "5. utils::write.table(counts_meta, \"/project/pi_sarah_gignouxwolfsohn_uml_edu/julia/CE_MethylRAD_analysis_2018/analysis/counts_and_meta/counts_meta.csv\", \n .     col.names = NA, sep = \",\", dec = \".\", qmethod = \"double\")",
      "6. is.data.frame(x)"
     ]
    }
   ],
   "source": [
    "# saving counts_meta as a csv file\n",
    "write.csv(counts_meta, '/project/pi_sarah_gignouxwolfsohn_uml_edu/julia/CE_MethylRAD_analysis_2018/analysis/counts_and_meta/counts_meta.csv')"
   ]
  },
  {
   "cell_type": "markdown",
   "id": "51630dd5-c9d2-4ae0-b180-c802a26e8768",
   "metadata": {},
   "source": [
    "I zipped the reference genomes to save space on Unity - so just directly reading in the saved counts_meta file that was generated from the code above"
   ]
  },
  {
   "cell_type": "code",
   "execution_count": 24,
   "id": "8720e8fa-cd63-41b3-a2d2-2c6b1bb1c63e",
   "metadata": {},
   "outputs": [
    {
     "data": {
      "text/html": [
       "<table class=\"dataframe\">\n",
       "<caption>A data.frame: 6 × 39</caption>\n",
       "<thead>\n",
       "\t<tr><th></th><th scope=col>BBB.WBO.B21</th><th scope=col>BBB.WBV.B70</th><th scope=col>BBO.BBO.B16</th><th scope=col>BBO.BBY.B27</th><th scope=col>BBO.WBO.B16</th><th scope=col>BBO.WBV.B64</th><th scope=col>BBR.BBB.B50</th><th scope=col>BBR.BBG.B38</th><th scope=col>BBR.BBY.B26</th><th scope=col>BBY.WBG.B42</th><th scope=col>⋯</th><th scope=col>WPV.BPR.G11</th><th scope=col>seqname</th><th scope=col>source</th><th scope=col>feature</th><th scope=col>start</th><th scope=col>end</th><th scope=col>score</th><th scope=col>strand</th><th scope=col>frame</th><th scope=col>attributes</th></tr>\n",
       "\t<tr><th></th><th scope=col>&lt;int&gt;</th><th scope=col>&lt;int&gt;</th><th scope=col>&lt;int&gt;</th><th scope=col>&lt;int&gt;</th><th scope=col>&lt;int&gt;</th><th scope=col>&lt;int&gt;</th><th scope=col>&lt;int&gt;</th><th scope=col>&lt;int&gt;</th><th scope=col>&lt;int&gt;</th><th scope=col>&lt;int&gt;</th><th scope=col>⋯</th><th scope=col>&lt;int&gt;</th><th scope=col>&lt;chr&gt;</th><th scope=col>&lt;chr&gt;</th><th scope=col>&lt;chr&gt;</th><th scope=col>&lt;int&gt;</th><th scope=col>&lt;int&gt;</th><th scope=col>&lt;chr&gt;</th><th scope=col>&lt;chr&gt;</th><th scope=col>&lt;chr&gt;</th><th scope=col>&lt;chr&gt;</th></tr>\n",
       "</thead>\n",
       "<tbody>\n",
       "\t<tr><th scope=row>COX1</th><td>0</td><td> 0</td><td> 0</td><td> 0</td><td> 0</td><td> 0</td><td>0</td><td> 0</td><td> 0</td><td>0</td><td>⋯</td><td>0</td><td>NC_035780.1</td><td>Gnomon</td><td>gene</td><td> 13578</td><td> 14594</td><td>.</td><td>+</td><td>.</td><td>gene_id \"LOC111116054\"; db_xref \"GeneID:111116054\"; gbkey \"Gene\"; gene \"LOC111116054\"; gene_biotype \"lncRNA\";                         </td></tr>\n",
       "\t<tr><th scope=row>COX2</th><td>0</td><td> 0</td><td> 0</td><td> 0</td><td> 0</td><td> 0</td><td>0</td><td> 0</td><td> 0</td><td>0</td><td>⋯</td><td>0</td><td>NC_035780.1</td><td>Gnomon</td><td>gene</td><td> 28961</td><td> 33324</td><td>.</td><td>+</td><td>.</td><td>gene_id \"LOC111126949\"; db_xref \"GeneID:111126949\"; gbkey \"Gene\"; gene \"LOC111126949\"; gene_biotype \"protein_coding\";                 </td></tr>\n",
       "\t<tr><th scope=row>COX3</th><td>0</td><td> 0</td><td> 0</td><td> 0</td><td> 0</td><td> 0</td><td>0</td><td> 0</td><td> 0</td><td>0</td><td>⋯</td><td>0</td><td>NC_035780.1</td><td>Gnomon</td><td>gene</td><td> 43111</td><td> 66897</td><td>.</td><td>-</td><td>.</td><td>gene_id \"LOC111110729\"; db_xref \"GeneID:111110729\"; gbkey \"Gene\"; gene \"LOC111110729\"; gene_biotype \"protein_coding\";                 </td></tr>\n",
       "\t<tr><th scope=row>CYTB</th><td>0</td><td> 0</td><td> 0</td><td> 0</td><td> 0</td><td> 0</td><td>0</td><td> 0</td><td> 0</td><td>0</td><td>⋯</td><td>0</td><td>NC_035780.1</td><td>Gnomon</td><td>gene</td><td> 85606</td><td> 95254</td><td>.</td><td>-</td><td>.</td><td>gene_id \"LOC111112434\"; db_xref \"GeneID:111112434\"; gbkey \"Gene\"; gene \"LOC111112434\"; gene_biotype \"protein_coding\";                 </td></tr>\n",
       "\t<tr><th scope=row>LOC111099029</th><td>7</td><td>13</td><td>15</td><td>11</td><td>16</td><td>12</td><td>9</td><td>15</td><td>11</td><td>1</td><td>⋯</td><td>0</td><td>NC_035780.1</td><td>Gnomon</td><td>gene</td><td> 99840</td><td>106460</td><td>.</td><td>+</td><td>.</td><td>gene_id \"LOC111120752\"; db_xref \"GeneID:111120752\"; gbkey \"Gene\"; gene \"LOC111120752\"; gene_biotype \"protein_coding\";                 </td></tr>\n",
       "\t<tr><th scope=row>LOC111099030</th><td>0</td><td> 0</td><td> 0</td><td> 0</td><td> 0</td><td> 0</td><td>0</td><td> 0</td><td> 0</td><td>0</td><td>⋯</td><td>0</td><td>NC_035780.1</td><td>Gnomon</td><td>gene</td><td>108305</td><td>110077</td><td>.</td><td>-</td><td>.</td><td>gene_id \"LOC111128944\"; db_xref \"GeneID:111128944\"; gbkey \"Gene\"; gene \"LOC111128944\"; gene_biotype \"protein_coding\"; partial \"true\"; </td></tr>\n",
       "</tbody>\n",
       "</table>\n"
      ],
      "text/latex": [
       "A data.frame: 6 × 39\n",
       "\\begin{tabular}{r|lllllllllllllllllllll}\n",
       "  & BBB.WBO.B21 & BBB.WBV.B70 & BBO.BBO.B16 & BBO.BBY.B27 & BBO.WBO.B16 & BBO.WBV.B64 & BBR.BBB.B50 & BBR.BBG.B38 & BBR.BBY.B26 & BBY.WBG.B42 & ⋯ & WPV.BPR.G11 & seqname & source & feature & start & end & score & strand & frame & attributes\\\\\n",
       "  & <int> & <int> & <int> & <int> & <int> & <int> & <int> & <int> & <int> & <int> & ⋯ & <int> & <chr> & <chr> & <chr> & <int> & <int> & <chr> & <chr> & <chr> & <chr>\\\\\n",
       "\\hline\n",
       "\tCOX1 & 0 &  0 &  0 &  0 &  0 &  0 & 0 &  0 &  0 & 0 & ⋯ & 0 & NC\\_035780.1 & Gnomon & gene &  13578 &  14594 & . & + & . & gene\\_id \"LOC111116054\"; db\\_xref \"GeneID:111116054\"; gbkey \"Gene\"; gene \"LOC111116054\"; gene\\_biotype \"lncRNA\";                         \\\\\n",
       "\tCOX2 & 0 &  0 &  0 &  0 &  0 &  0 & 0 &  0 &  0 & 0 & ⋯ & 0 & NC\\_035780.1 & Gnomon & gene &  28961 &  33324 & . & + & . & gene\\_id \"LOC111126949\"; db\\_xref \"GeneID:111126949\"; gbkey \"Gene\"; gene \"LOC111126949\"; gene\\_biotype \"protein\\_coding\";                 \\\\\n",
       "\tCOX3 & 0 &  0 &  0 &  0 &  0 &  0 & 0 &  0 &  0 & 0 & ⋯ & 0 & NC\\_035780.1 & Gnomon & gene &  43111 &  66897 & . & - & . & gene\\_id \"LOC111110729\"; db\\_xref \"GeneID:111110729\"; gbkey \"Gene\"; gene \"LOC111110729\"; gene\\_biotype \"protein\\_coding\";                 \\\\\n",
       "\tCYTB & 0 &  0 &  0 &  0 &  0 &  0 & 0 &  0 &  0 & 0 & ⋯ & 0 & NC\\_035780.1 & Gnomon & gene &  85606 &  95254 & . & - & . & gene\\_id \"LOC111112434\"; db\\_xref \"GeneID:111112434\"; gbkey \"Gene\"; gene \"LOC111112434\"; gene\\_biotype \"protein\\_coding\";                 \\\\\n",
       "\tLOC111099029 & 7 & 13 & 15 & 11 & 16 & 12 & 9 & 15 & 11 & 1 & ⋯ & 0 & NC\\_035780.1 & Gnomon & gene &  99840 & 106460 & . & + & . & gene\\_id \"LOC111120752\"; db\\_xref \"GeneID:111120752\"; gbkey \"Gene\"; gene \"LOC111120752\"; gene\\_biotype \"protein\\_coding\";                 \\\\\n",
       "\tLOC111099030 & 0 &  0 &  0 &  0 &  0 &  0 & 0 &  0 &  0 & 0 & ⋯ & 0 & NC\\_035780.1 & Gnomon & gene & 108305 & 110077 & . & - & . & gene\\_id \"LOC111128944\"; db\\_xref \"GeneID:111128944\"; gbkey \"Gene\"; gene \"LOC111128944\"; gene\\_biotype \"protein\\_coding\"; partial \"true\"; \\\\\n",
       "\\end{tabular}\n"
      ],
      "text/markdown": [
       "\n",
       "A data.frame: 6 × 39\n",
       "\n",
       "| <!--/--> | BBB.WBO.B21 &lt;int&gt; | BBB.WBV.B70 &lt;int&gt; | BBO.BBO.B16 &lt;int&gt; | BBO.BBY.B27 &lt;int&gt; | BBO.WBO.B16 &lt;int&gt; | BBO.WBV.B64 &lt;int&gt; | BBR.BBB.B50 &lt;int&gt; | BBR.BBG.B38 &lt;int&gt; | BBR.BBY.B26 &lt;int&gt; | BBY.WBG.B42 &lt;int&gt; | ⋯ ⋯ | WPV.BPR.G11 &lt;int&gt; | seqname &lt;chr&gt; | source &lt;chr&gt; | feature &lt;chr&gt; | start &lt;int&gt; | end &lt;int&gt; | score &lt;chr&gt; | strand &lt;chr&gt; | frame &lt;chr&gt; | attributes &lt;chr&gt; |\n",
       "|---|---|---|---|---|---|---|---|---|---|---|---|---|---|---|---|---|---|---|---|---|---|\n",
       "| COX1 | 0 |  0 |  0 |  0 |  0 |  0 | 0 |  0 |  0 | 0 | ⋯ | 0 | NC_035780.1 | Gnomon | gene |  13578 |  14594 | . | + | . | gene_id \"LOC111116054\"; db_xref \"GeneID:111116054\"; gbkey \"Gene\"; gene \"LOC111116054\"; gene_biotype \"lncRNA\";                          |\n",
       "| COX2 | 0 |  0 |  0 |  0 |  0 |  0 | 0 |  0 |  0 | 0 | ⋯ | 0 | NC_035780.1 | Gnomon | gene |  28961 |  33324 | . | + | . | gene_id \"LOC111126949\"; db_xref \"GeneID:111126949\"; gbkey \"Gene\"; gene \"LOC111126949\"; gene_biotype \"protein_coding\";                  |\n",
       "| COX3 | 0 |  0 |  0 |  0 |  0 |  0 | 0 |  0 |  0 | 0 | ⋯ | 0 | NC_035780.1 | Gnomon | gene |  43111 |  66897 | . | - | . | gene_id \"LOC111110729\"; db_xref \"GeneID:111110729\"; gbkey \"Gene\"; gene \"LOC111110729\"; gene_biotype \"protein_coding\";                  |\n",
       "| CYTB | 0 |  0 |  0 |  0 |  0 |  0 | 0 |  0 |  0 | 0 | ⋯ | 0 | NC_035780.1 | Gnomon | gene |  85606 |  95254 | . | - | . | gene_id \"LOC111112434\"; db_xref \"GeneID:111112434\"; gbkey \"Gene\"; gene \"LOC111112434\"; gene_biotype \"protein_coding\";                  |\n",
       "| LOC111099029 | 7 | 13 | 15 | 11 | 16 | 12 | 9 | 15 | 11 | 1 | ⋯ | 0 | NC_035780.1 | Gnomon | gene |  99840 | 106460 | . | + | . | gene_id \"LOC111120752\"; db_xref \"GeneID:111120752\"; gbkey \"Gene\"; gene \"LOC111120752\"; gene_biotype \"protein_coding\";                  |\n",
       "| LOC111099030 | 0 |  0 |  0 |  0 |  0 |  0 | 0 |  0 |  0 | 0 | ⋯ | 0 | NC_035780.1 | Gnomon | gene | 108305 | 110077 | . | - | . | gene_id \"LOC111128944\"; db_xref \"GeneID:111128944\"; gbkey \"Gene\"; gene \"LOC111128944\"; gene_biotype \"protein_coding\"; partial \"true\";  |\n",
       "\n"
      ],
      "text/plain": [
       "             BBB.WBO.B21 BBB.WBV.B70 BBO.BBO.B16 BBO.BBY.B27 BBO.WBO.B16\n",
       "COX1         0            0           0           0           0         \n",
       "COX2         0            0           0           0           0         \n",
       "COX3         0            0           0           0           0         \n",
       "CYTB         0            0           0           0           0         \n",
       "LOC111099029 7           13          15          11          16         \n",
       "LOC111099030 0            0           0           0           0         \n",
       "             BBO.WBV.B64 BBR.BBB.B50 BBR.BBG.B38 BBR.BBY.B26 BBY.WBG.B42 ⋯\n",
       "COX1          0          0            0           0          0           ⋯\n",
       "COX2          0          0            0           0          0           ⋯\n",
       "COX3          0          0            0           0          0           ⋯\n",
       "CYTB          0          0            0           0          0           ⋯\n",
       "LOC111099029 12          9           15          11          1           ⋯\n",
       "LOC111099030  0          0            0           0          0           ⋯\n",
       "             WPV.BPR.G11 seqname     source feature start  end    score strand\n",
       "COX1         0           NC_035780.1 Gnomon gene     13578  14594 .     +     \n",
       "COX2         0           NC_035780.1 Gnomon gene     28961  33324 .     +     \n",
       "COX3         0           NC_035780.1 Gnomon gene     43111  66897 .     -     \n",
       "CYTB         0           NC_035780.1 Gnomon gene     85606  95254 .     -     \n",
       "LOC111099029 0           NC_035780.1 Gnomon gene     99840 106460 .     +     \n",
       "LOC111099030 0           NC_035780.1 Gnomon gene    108305 110077 .     -     \n",
       "             frame\n",
       "COX1         .    \n",
       "COX2         .    \n",
       "COX3         .    \n",
       "CYTB         .    \n",
       "LOC111099029 .    \n",
       "LOC111099030 .    \n",
       "             attributes                                                                                                                            \n",
       "COX1         gene_id \"LOC111116054\"; db_xref \"GeneID:111116054\"; gbkey \"Gene\"; gene \"LOC111116054\"; gene_biotype \"lncRNA\";                         \n",
       "COX2         gene_id \"LOC111126949\"; db_xref \"GeneID:111126949\"; gbkey \"Gene\"; gene \"LOC111126949\"; gene_biotype \"protein_coding\";                 \n",
       "COX3         gene_id \"LOC111110729\"; db_xref \"GeneID:111110729\"; gbkey \"Gene\"; gene \"LOC111110729\"; gene_biotype \"protein_coding\";                 \n",
       "CYTB         gene_id \"LOC111112434\"; db_xref \"GeneID:111112434\"; gbkey \"Gene\"; gene \"LOC111112434\"; gene_biotype \"protein_coding\";                 \n",
       "LOC111099029 gene_id \"LOC111120752\"; db_xref \"GeneID:111120752\"; gbkey \"Gene\"; gene \"LOC111120752\"; gene_biotype \"protein_coding\";                 \n",
       "LOC111099030 gene_id \"LOC111128944\"; db_xref \"GeneID:111128944\"; gbkey \"Gene\"; gene \"LOC111128944\"; gene_biotype \"protein_coding\"; partial \"true\"; "
      ]
     },
     "metadata": {},
     "output_type": "display_data"
    }
   ],
   "source": [
    "counts_meta <- read.csv('/project/pi_sarah_gignouxwolfsohn_uml_edu/julia/CE_MethylRAD_analysis_2018/analysis/counts_and_meta/counts_meta.csv')\n",
    "rownames(counts_meta) = counts_meta$X\n",
    "counts_meta = counts_meta[,2:40]\n",
    "#dim(counts_meta)\n",
    "head(counts_meta)"
   ]
  },
  {
   "cell_type": "markdown",
   "id": "0f597811-7e17-4ba3-9ce5-7fb913dc92e8",
   "metadata": {},
   "source": [
    "creating variables to use for anaylsis"
   ]
  },
  {
   "cell_type": "markdown",
   "id": "7cc64390-b488-469b-958c-f68631473c21",
   "metadata": {},
   "source": [
    "so going forward - dataframes to use:\n",
    "> - **counts_gene:** counts matrix of genes generated from htseq-counts\n",
    "> - **gtf_genes1:** gtf file filtered for only genes and removed gene that wasn't in counts_gene\n",
    "> - **counts_meta:** combined df of counts_gene and gtf_genes1\n",
    "> - **meta:** all treatment data for individual samples"
   ]
  },
  {
   "cell_type": "code",
   "execution_count": 48,
   "id": "3bf8674c-c4ef-44f8-a38b-d3a3eab6feef",
   "metadata": {},
   "outputs": [
    {
     "data": {
      "text/html": [
       "<table class=\"dataframe\">\n",
       "<caption>A data.frame: 6 × 14</caption>\n",
       "<thead>\n",
       "\t<tr><th></th><th scope=col>sample_ID</th><th scope=col>unique_ID</th><th scope=col>T1_code</th><th scope=col>T2_code</th><th scope=col>ID_code</th><th scope=col>T1_oxygen</th><th scope=col>T1_temp</th><th scope=col>Tank1</th><th scope=col>T2_oxygen</th><th scope=col>T2_temp</th><th scope=col>Tank2</th><th scope=col>Phase1</th><th scope=col>Phase2</th><th scope=col>treatment</th></tr>\n",
       "\t<tr><th></th><th scope=col>&lt;chr&gt;</th><th scope=col>&lt;chr&gt;</th><th scope=col>&lt;chr&gt;</th><th scope=col>&lt;chr&gt;</th><th scope=col>&lt;chr&gt;</th><th scope=col>&lt;chr&gt;</th><th scope=col>&lt;chr&gt;</th><th scope=col>&lt;chr&gt;</th><th scope=col>&lt;chr&gt;</th><th scope=col>&lt;chr&gt;</th><th scope=col>&lt;chr&gt;</th><th scope=col>&lt;chr&gt;</th><th scope=col>&lt;chr&gt;</th><th scope=col>&lt;chr&gt;</th></tr>\n",
       "</thead>\n",
       "<tbody>\n",
       "\t<tr><th scope=row>BBB-WBO-B21</th><td>2018--BBB-WBO-B21-CV</td><td>BBB-WBO-B21</td><td>BBB</td><td>WBO</td><td>B21</td><td>hypoxic</td><td>ambient</td><td>B</td><td>normoxic</td><td>ambient</td><td>O</td><td>hypoxic</td><td>control</td><td>hypoxic_control</td></tr>\n",
       "\t<tr><th scope=row>BBB-WBV-B70</th><td>2018--BBB-WBV-B70-CV</td><td>BBB-WBV-B70</td><td>BBB</td><td>WBV</td><td>B70</td><td>hypoxic</td><td>ambient</td><td>B</td><td>normoxic</td><td>ambient</td><td>V</td><td>hypoxic</td><td>control</td><td>hypoxic_control</td></tr>\n",
       "\t<tr><th scope=row>BBO-BBO-B16</th><td>2018--BBO-BBO-B16-CV</td><td>BBO-BBO-B16</td><td>BBO</td><td>BBO</td><td>B16</td><td>hypoxic</td><td>ambient</td><td>O</td><td>hypoxic </td><td>ambient</td><td>O</td><td>hypoxic</td><td>hypoxic</td><td>hypoxic_hypoxic</td></tr>\n",
       "\t<tr><th scope=row>BBO-BBY-B27</th><td>2018--BBO-BBY-B27-CV</td><td>BBO-BBY-B27</td><td>BBO</td><td>BBY</td><td>B27</td><td>hypoxic</td><td>ambient</td><td>O</td><td>hypoxic </td><td>ambient</td><td>Y</td><td>hypoxic</td><td>hypoxic</td><td>hypoxic_hypoxic</td></tr>\n",
       "\t<tr><th scope=row>BBO-WBO-B16</th><td>2018--BBO-WBO-B16-CV</td><td>BBO-WBO-B16</td><td>BBO</td><td>WBO</td><td>B16</td><td>hypoxic</td><td>ambient</td><td>O</td><td>normoxic</td><td>ambient</td><td>O</td><td>hypoxic</td><td>control</td><td>hypoxic_control</td></tr>\n",
       "\t<tr><th scope=row>BBO-WBV-B64</th><td>2018--BBO-WBV-B64-CV</td><td>BBO-WBV-B64</td><td>BBO</td><td>WBV</td><td>B64</td><td>hypoxic</td><td>ambient</td><td>O</td><td>normoxic</td><td>ambient</td><td>V</td><td>hypoxic</td><td>control</td><td>hypoxic_control</td></tr>\n",
       "</tbody>\n",
       "</table>\n"
      ],
      "text/latex": [
       "A data.frame: 6 × 14\n",
       "\\begin{tabular}{r|llllllllllllll}\n",
       "  & sample\\_ID & unique\\_ID & T1\\_code & T2\\_code & ID\\_code & T1\\_oxygen & T1\\_temp & Tank1 & T2\\_oxygen & T2\\_temp & Tank2 & Phase1 & Phase2 & treatment\\\\\n",
       "  & <chr> & <chr> & <chr> & <chr> & <chr> & <chr> & <chr> & <chr> & <chr> & <chr> & <chr> & <chr> & <chr> & <chr>\\\\\n",
       "\\hline\n",
       "\tBBB-WBO-B21 & 2018--BBB-WBO-B21-CV & BBB-WBO-B21 & BBB & WBO & B21 & hypoxic & ambient & B & normoxic & ambient & O & hypoxic & control & hypoxic\\_control\\\\\n",
       "\tBBB-WBV-B70 & 2018--BBB-WBV-B70-CV & BBB-WBV-B70 & BBB & WBV & B70 & hypoxic & ambient & B & normoxic & ambient & V & hypoxic & control & hypoxic\\_control\\\\\n",
       "\tBBO-BBO-B16 & 2018--BBO-BBO-B16-CV & BBO-BBO-B16 & BBO & BBO & B16 & hypoxic & ambient & O & hypoxic  & ambient & O & hypoxic & hypoxic & hypoxic\\_hypoxic\\\\\n",
       "\tBBO-BBY-B27 & 2018--BBO-BBY-B27-CV & BBO-BBY-B27 & BBO & BBY & B27 & hypoxic & ambient & O & hypoxic  & ambient & Y & hypoxic & hypoxic & hypoxic\\_hypoxic\\\\\n",
       "\tBBO-WBO-B16 & 2018--BBO-WBO-B16-CV & BBO-WBO-B16 & BBO & WBO & B16 & hypoxic & ambient & O & normoxic & ambient & O & hypoxic & control & hypoxic\\_control\\\\\n",
       "\tBBO-WBV-B64 & 2018--BBO-WBV-B64-CV & BBO-WBV-B64 & BBO & WBV & B64 & hypoxic & ambient & O & normoxic & ambient & V & hypoxic & control & hypoxic\\_control\\\\\n",
       "\\end{tabular}\n"
      ],
      "text/markdown": [
       "\n",
       "A data.frame: 6 × 14\n",
       "\n",
       "| <!--/--> | sample_ID &lt;chr&gt; | unique_ID &lt;chr&gt; | T1_code &lt;chr&gt; | T2_code &lt;chr&gt; | ID_code &lt;chr&gt; | T1_oxygen &lt;chr&gt; | T1_temp &lt;chr&gt; | Tank1 &lt;chr&gt; | T2_oxygen &lt;chr&gt; | T2_temp &lt;chr&gt; | Tank2 &lt;chr&gt; | Phase1 &lt;chr&gt; | Phase2 &lt;chr&gt; | treatment &lt;chr&gt; |\n",
       "|---|---|---|---|---|---|---|---|---|---|---|---|---|---|---|\n",
       "| BBB-WBO-B21 | 2018--BBB-WBO-B21-CV | BBB-WBO-B21 | BBB | WBO | B21 | hypoxic | ambient | B | normoxic | ambient | O | hypoxic | control | hypoxic_control |\n",
       "| BBB-WBV-B70 | 2018--BBB-WBV-B70-CV | BBB-WBV-B70 | BBB | WBV | B70 | hypoxic | ambient | B | normoxic | ambient | V | hypoxic | control | hypoxic_control |\n",
       "| BBO-BBO-B16 | 2018--BBO-BBO-B16-CV | BBO-BBO-B16 | BBO | BBO | B16 | hypoxic | ambient | O | hypoxic  | ambient | O | hypoxic | hypoxic | hypoxic_hypoxic |\n",
       "| BBO-BBY-B27 | 2018--BBO-BBY-B27-CV | BBO-BBY-B27 | BBO | BBY | B27 | hypoxic | ambient | O | hypoxic  | ambient | Y | hypoxic | hypoxic | hypoxic_hypoxic |\n",
       "| BBO-WBO-B16 | 2018--BBO-WBO-B16-CV | BBO-WBO-B16 | BBO | WBO | B16 | hypoxic | ambient | O | normoxic | ambient | O | hypoxic | control | hypoxic_control |\n",
       "| BBO-WBV-B64 | 2018--BBO-WBV-B64-CV | BBO-WBV-B64 | BBO | WBV | B64 | hypoxic | ambient | O | normoxic | ambient | V | hypoxic | control | hypoxic_control |\n",
       "\n"
      ],
      "text/plain": [
       "            sample_ID            unique_ID   T1_code T2_code ID_code T1_oxygen\n",
       "BBB-WBO-B21 2018--BBB-WBO-B21-CV BBB-WBO-B21 BBB     WBO     B21     hypoxic  \n",
       "BBB-WBV-B70 2018--BBB-WBV-B70-CV BBB-WBV-B70 BBB     WBV     B70     hypoxic  \n",
       "BBO-BBO-B16 2018--BBO-BBO-B16-CV BBO-BBO-B16 BBO     BBO     B16     hypoxic  \n",
       "BBO-BBY-B27 2018--BBO-BBY-B27-CV BBO-BBY-B27 BBO     BBY     B27     hypoxic  \n",
       "BBO-WBO-B16 2018--BBO-WBO-B16-CV BBO-WBO-B16 BBO     WBO     B16     hypoxic  \n",
       "BBO-WBV-B64 2018--BBO-WBV-B64-CV BBO-WBV-B64 BBO     WBV     B64     hypoxic  \n",
       "            T1_temp Tank1 T2_oxygen T2_temp Tank2 Phase1  Phase2 \n",
       "BBB-WBO-B21 ambient B     normoxic  ambient O     hypoxic control\n",
       "BBB-WBV-B70 ambient B     normoxic  ambient V     hypoxic control\n",
       "BBO-BBO-B16 ambient O     hypoxic   ambient O     hypoxic hypoxic\n",
       "BBO-BBY-B27 ambient O     hypoxic   ambient Y     hypoxic hypoxic\n",
       "BBO-WBO-B16 ambient O     normoxic  ambient O     hypoxic control\n",
       "BBO-WBV-B64 ambient O     normoxic  ambient V     hypoxic control\n",
       "            treatment      \n",
       "BBB-WBO-B21 hypoxic_control\n",
       "BBB-WBV-B70 hypoxic_control\n",
       "BBO-BBO-B16 hypoxic_hypoxic\n",
       "BBO-BBY-B27 hypoxic_hypoxic\n",
       "BBO-WBO-B16 hypoxic_control\n",
       "BBO-WBV-B64 hypoxic_control"
      ]
     },
     "metadata": {},
     "output_type": "display_data"
    }
   ],
   "source": [
    "meta$treatment <- paste(meta$Phase1, meta$Phase2, sep='_')\n",
    "head(meta)"
   ]
  },
  {
   "cell_type": "code",
   "execution_count": 51,
   "id": "f6f3d90f-17e5-451b-beaa-38c8df127978",
   "metadata": {},
   "outputs": [
    {
     "name": "stderr",
     "output_type": "stream",
     "text": [
      "Warning message in DESeqDataSet(se, design = design, ignoreRank):\n",
      "“some variables in design formula are characters, converting to factors”\n",
      "estimating size factors\n",
      "\n",
      "estimating dispersions\n",
      "\n",
      "gene-wise dispersion estimates\n",
      "\n",
      "mean-dispersion relationship\n",
      "\n",
      "final dispersion estimates\n",
      "\n",
      "fitting model and testing\n",
      "\n"
     ]
    },
    {
     "data": {
      "text/html": [
       "<style>\n",
       ".list-inline {list-style: none; margin:0; padding: 0}\n",
       ".list-inline>li {display: inline-block}\n",
       ".list-inline>li:not(:last-child)::after {content: \"\\00b7\"; padding: 0 .5ex}\n",
       "</style>\n",
       "<ol class=list-inline><li>'Intercept'</li><li>'treatment_control_control_vs_both_both'</li><li>'treatment_control_hypoxic_vs_both_both'</li><li>'treatment_hypoxic_control_vs_both_both'</li><li>'treatment_hypoxic_hypoxic_vs_both_both'</li><li>'treatment_warm_both_vs_both_both'</li></ol>\n"
      ],
      "text/latex": [
       "\\begin{enumerate*}\n",
       "\\item 'Intercept'\n",
       "\\item 'treatment\\_control\\_control\\_vs\\_both\\_both'\n",
       "\\item 'treatment\\_control\\_hypoxic\\_vs\\_both\\_both'\n",
       "\\item 'treatment\\_hypoxic\\_control\\_vs\\_both\\_both'\n",
       "\\item 'treatment\\_hypoxic\\_hypoxic\\_vs\\_both\\_both'\n",
       "\\item 'treatment\\_warm\\_both\\_vs\\_both\\_both'\n",
       "\\end{enumerate*}\n"
      ],
      "text/markdown": [
       "1. 'Intercept'\n",
       "2. 'treatment_control_control_vs_both_both'\n",
       "3. 'treatment_control_hypoxic_vs_both_both'\n",
       "4. 'treatment_hypoxic_control_vs_both_both'\n",
       "5. 'treatment_hypoxic_hypoxic_vs_both_both'\n",
       "6. 'treatment_warm_both_vs_both_both'\n",
       "\n",
       "\n"
      ],
      "text/plain": [
       "[1] \"Intercept\"                             \n",
       "[2] \"treatment_control_control_vs_both_both\"\n",
       "[3] \"treatment_control_hypoxic_vs_both_both\"\n",
       "[4] \"treatment_hypoxic_control_vs_both_both\"\n",
       "[5] \"treatment_hypoxic_hypoxic_vs_both_both\"\n",
       "[6] \"treatment_warm_both_vs_both_both\"      "
      ]
     },
     "metadata": {},
     "output_type": "display_data"
    },
    {
     "name": "stderr",
     "output_type": "stream",
     "text": [
      "rlog() may take a few minutes with 30 or more samples,\n",
      "vst() is a much faster transformation\n",
      "\n",
      "using ntop=500 top features by variance\n",
      "\n"
     ]
    },
    {
     "data": {
      "image/png": "[encoded data removed]",
      "text/plain": [
       "plot without title"
      ]
     },
     "metadata": {
      "image/png": {
       "height": 420,
       "width": 420
      }
     },
     "output_type": "display_data"
    }
   ],
   "source": [
    "dds <- DESeqDataSetFromMatrix(countData = counts_gene,\n",
    "                              colData = meta, \n",
    "                              design = ~ treatment)\n",
    "dds=DESeq(dds)\n",
    "resultsNames(dds)\n",
    "\n",
    "rld <- rlog(dds, blind=FALSE)\n",
    "\n",
    "plotPCA(rld, intgroup=c(\"treatment\"))"
   ]
  },
  {
   "cell_type": "markdown",
   "id": "77af2968-0fe1-4555-8617-3d4226e91c72",
   "metadata": {},
   "source": [
    "### analysis\n",
    "\n"
   ]
  },
  {
   "cell_type": "markdown",
   "id": "37e0bee8-fd9d-4ae9-be56-9cbef89e3027",
   "metadata": {},
   "source": [
    "#### looking at effects of phase 1, ignoring phase 2"
   ]
  },
  {
   "cell_type": "code",
   "execution_count": 25,
   "id": "8e5c7267-5440-42cc-ac0e-e6703ec3d7a3",
   "metadata": {},
   "outputs": [
    {
     "name": "stderr",
     "output_type": "stream",
     "text": [
      "Warning message in DESeqDataSet(se, design = design, ignoreRank):\n",
      "“some variables in design formula are characters, converting to factors”\n",
      "estimating size factors\n",
      "\n",
      "estimating dispersions\n",
      "\n",
      "gene-wise dispersion estimates\n",
      "\n",
      "mean-dispersion relationship\n",
      "\n",
      "final dispersion estimates\n",
      "\n",
      "fitting model and testing\n",
      "\n",
      "-- replacing outliers and refitting for 385 genes\n",
      "-- DESeq argument 'minReplicatesForReplace' = 7 \n",
      "-- original counts are preserved in counts(dds)\n",
      "\n",
      "estimating dispersions\n",
      "\n",
      "fitting model and testing\n",
      "\n"
     ]
    },
    {
     "data": {
      "text/html": [
       "<style>\n",
       ".list-inline {list-style: none; margin:0; padding: 0}\n",
       ".list-inline>li {display: inline-block}\n",
       ".list-inline>li:not(:last-child)::after {content: \"\\00b7\"; padding: 0 .5ex}\n",
       "</style>\n",
       "<ol class=list-inline><li>'Intercept'</li><li>'Phase1_control_vs_both'</li><li>'Phase1_hypoxic_vs_both'</li><li>'Phase1_warm_vs_both'</li></ol>\n"
      ],
      "text/latex": [
       "\\begin{enumerate*}\n",
       "\\item 'Intercept'\n",
       "\\item 'Phase1\\_control\\_vs\\_both'\n",
       "\\item 'Phase1\\_hypoxic\\_vs\\_both'\n",
       "\\item 'Phase1\\_warm\\_vs\\_both'\n",
       "\\end{enumerate*}\n"
      ],
      "text/markdown": [
       "1. 'Intercept'\n",
       "2. 'Phase1_control_vs_both'\n",
       "3. 'Phase1_hypoxic_vs_both'\n",
       "4. 'Phase1_warm_vs_both'\n",
       "\n",
       "\n"
      ],
      "text/plain": [
       "[1] \"Intercept\"              \"Phase1_control_vs_both\" \"Phase1_hypoxic_vs_both\"\n",
       "[4] \"Phase1_warm_vs_both\"   "
      ]
     },
     "metadata": {},
     "output_type": "display_data"
    }
   ],
   "source": [
    "p1_dds <- DESeqDataSetFromMatrix(countData = counts_gene,\n",
    "                              colData = meta, \n",
    "                              design = ~ Phase1)\n",
    "p1_dds=DESeq(p1_dds)\n",
    "resultsNames(p1_dds)"
   ]
  },
  {
   "cell_type": "code",
   "execution_count": 26,
   "id": "c81eef83-fcc1-44e9-a583-c5d464b9b335",
   "metadata": {},
   "outputs": [],
   "source": [
    "# need to first specify contrasts\n",
    "contrast1 <- c(\"Phase1\", \"hypoxic\", \"control\")\n",
    "contrast2 <- c(\"Phase1\", \"both\", \"control\")\n",
    "contrast3 <- c(\"Phase1\", \"warm\", \"control\")"
   ]
  },
  {
   "cell_type": "code",
   "execution_count": 32,
   "id": "5d239d29-f14a-4f80-996f-520bb45d7dfe",
   "metadata": {},
   "outputs": [],
   "source": [
    "# Phase 1 hypoxic vs. control\n",
    "results1 <- results(p1_dds, contrast = contrast1)\n",
    "# Phase 1 both vs. control\n",
    "results2 <- results(p1_dds, contrast = contrast2)\n",
    "# Phase 1 warm vs. control\n",
    "results3 <- results(p1_dds, contrast = contrast3)"
   ]
  },
  {
   "cell_type": "code",
   "execution_count": 28,
   "id": "d4e3381c-708f-4786-943a-f3ecc4733f97",
   "metadata": {},
   "outputs": [
    {
     "name": "stdout",
     "output_type": "stream",
     "text": [
      "\n",
      "out of 17855 with nonzero total read count\n",
      "adjusted p-value < 0.1\n",
      "LFC > 0 (up)       : 0, 0%\n",
      "LFC < 0 (down)     : 1, 0.0056%\n",
      "outliers [1]       : 204, 1.1%\n",
      "low counts [2]     : 6, 0.034%\n",
      "(mean count < 0)\n",
      "[1] see 'cooksCutoff' argument of ?results\n",
      "[2] see 'independentFiltering' argument of ?results\n",
      "\n"
     ]
    },
    {
     "data": {
      "image/png": "[encoded data removed]",
      "text/plain": [
       "plot without title"
      ]
     },
     "metadata": {
      "image/png": {
       "height": 420,
       "width": 420
      }
     },
     "output_type": "display_data"
    }
   ],
   "source": [
    "# hypoxic vs control for phase 1\n",
    "summary(results1)\n",
    "\n",
    "EnhancedVolcano(results1,\n",
    "                lab=NA,\n",
    "                x = 'log2FoldChange',\n",
    "                y = 'padj', pCutoff=0.05)"
   ]
  },
  {
   "cell_type": "code",
   "execution_count": 29,
   "id": "5e59a203-f85f-453c-b9b6-141d0d2d6b7d",
   "metadata": {},
   "outputs": [
    {
     "data": {
      "image/png": "[encoded data removed]",
      "text/plain": [
       "plot without title"
      ]
     },
     "metadata": {
      "image/png": {
       "height": 420,
       "width": 420
      }
     },
     "output_type": "display_data"
    }
   ],
   "source": [
    "keyvals <- ifelse(\n",
    "results1$log2FoldChange < -1& results1$padj <0.05, \"#000066\",\n",
    "  ifelse(results1$log2FoldChange > 1& results1$padj <0.05,\"#FF6666\" ,\n",
    "    'grey'))\n",
    "keyvals[is.na(keyvals)] <- 'grey'\n",
    "names(keyvals)[keyvals == \"#FF6666\"] <- 'More methylation in Hypoxic'\n",
    "names(keyvals)[keyvals == 'grey'] <- 'Not sig.'\n",
    "names(keyvals)[keyvals == \"#000066\"] <- 'More methylation in Control'\n",
    "\n",
    "results1_plot <- EnhancedVolcano(results1,\n",
    "    lab = NA,\n",
    "    x = 'log2FoldChange',\n",
    "    y = 'padj', # so we are using padj...\n",
    "    selectLab = rownames(results1)[which(names(keyvals) %in% c('More methylation in Hypoxic', 'More methylation in Control'))],\n",
    "    xlab = bquote(~Log[2]~ 'fold change'),\n",
    "    pointSize = 3.5,\n",
    "    pCutoff = 0.05, # and have our p-value cutoff to 0.05\n",
    "    colCustom = keyvals,\n",
    "    colAlpha = 1,\n",
    "    legendPosition = 'bottom',\n",
    "    legendLabSize = 20,\n",
    "    legendIconSize = 5.0,\n",
    "    drawConnectors = TRUE,\n",
    "    widthConnectors = 1.0,\n",
    "    colConnectors = 'black',\n",
    "    arrowheads = FALSE,\n",
    "    gridlines.major = TRUE,\n",
    "    gridlines.minor = FALSE,\n",
    "    border = 'partial',\n",
    "    borderWidth = 0.5,\n",
    "    borderColour = 'black')\n",
    "results1_plot"
   ]
  },
  {
   "cell_type": "code",
   "execution_count": 30,
   "id": "92c81e77-f0ac-4c04-b2c6-5ba5723795ce",
   "metadata": {},
   "outputs": [
    {
     "ename": "ERROR",
     "evalue": "Error in setwd(\"/project/pi_sarah_gignouxwolfsohn_uml_edu/julia/CE_MethylRAD_analysis_2018/CE_methyl_analysis/figures\"): cannot change working directory\n",
     "output_type": "error",
     "traceback": [
      "Error in setwd(\"/project/pi_sarah_gignouxwolfsohn_uml_edu/julia/CE_MethylRAD_analysis_2018/CE_methyl_analysis/figures\"): cannot change working directory\nTraceback:\n",
      "1. setwd(\"/project/pi_sarah_gignouxwolfsohn_uml_edu/julia/CE_MethylRAD_analysis_2018/CE_methyl_analysis/figures\")"
     ]
    }
   ],
   "source": [
    "# Open a pdf file\n",
    "setwd(\"/project/pi_sarah_gignouxwolfsohn_uml_edu/julia/CE_MethylRAD_analysis_2018/CE_methyl_analysis/figures\")\n",
    "pdf(\"phase1_hypoxic_control.pdf\", width=10, height=10) \n",
    "# 2. Create a plot\n",
    "results1_plot\n",
    "# Close the pdf filegb\n",
    "dev.off() "
   ]
  },
  {
   "cell_type": "code",
   "execution_count": 31,
   "id": "01b79920-1ec5-4592-bc1a-a5cc69eb084c",
   "metadata": {},
   "outputs": [
    {
     "name": "stdout",
     "output_type": "stream",
     "text": [
      "\n",
      "out of 17855 with nonzero total read count\n",
      "adjusted p-value < 0.1\n",
      "LFC > 0 (up)       : 0, 0%\n",
      "LFC < 0 (down)     : 0, 0%\n",
      "outliers [1]       : 204, 1.1%\n",
      "low counts [2]     : 6, 0.034%\n",
      "(mean count < 0)\n",
      "[1] see 'cooksCutoff' argument of ?results\n",
      "[2] see 'independentFiltering' argument of ?results\n",
      "\n"
     ]
    },
    {
     "data": {
      "image/png": "[encoded data removed]",
      "text/plain": [
       "plot without title"
      ]
     },
     "metadata": {
      "image/png": {
       "height": 420,
       "width": 420
      }
     },
     "output_type": "display_data"
    }
   ],
   "source": [
    "# both vs control for phase 1\n",
    "summary(results2)\n",
    "\n",
    "EnhancedVolcano(results2,\n",
    "                lab=NA,\n",
    "                x = 'log2FoldChange',\n",
    "                y = 'padj', pCutoff=0.05)"
   ]
  },
  {
   "cell_type": "code",
   "execution_count": 33,
   "id": "d695ac9e-8f5f-43b8-8e57-491c7f585dfe",
   "metadata": {},
   "outputs": [
    {
     "name": "stdout",
     "output_type": "stream",
     "text": [
      "\n",
      "out of 17855 with nonzero total read count\n",
      "adjusted p-value < 0.1\n",
      "LFC > 0 (up)       : 493, 2.8%\n",
      "LFC < 0 (down)     : 43, 0.24%\n",
      "outliers [1]       : 204, 1.1%\n",
      "low counts [2]     : 13274, 74%\n",
      "(mean count < 6)\n",
      "[1] see 'cooksCutoff' argument of ?results\n",
      "[2] see 'independentFiltering' argument of ?results\n",
      "\n"
     ]
    },
    {
     "data": {
      "image/png": "[encoded data removed]",
      "text/plain": [
       "plot without title"
      ]
     },
     "metadata": {
      "image/png": {
       "height": 420,
       "width": 420
      }
     },
     "output_type": "display_data"
    }
   ],
   "source": [
    "# warm vs control for phase 1\n",
    "summary(results3)\n",
    "\n",
    "EnhancedVolcano(results3,\n",
    "                lab=NA,\n",
    "                x = 'log2FoldChange',\n",
    "                y = 'padj', pCutoff=0.05)"
   ]
  },
  {
   "cell_type": "code",
   "execution_count": 34,
   "id": "960b138d-349d-4615-86e5-ac63a47f02b5",
   "metadata": {},
   "outputs": [
    {
     "data": {
      "image/png": "[encoded data removed]",
      "text/plain": [
       "plot without title"
      ]
     },
     "metadata": {
      "image/png": {
       "height": 420,
       "width": 420
      }
     },
     "output_type": "display_data"
    }
   ],
   "source": [
    "keyvals <- ifelse(\n",
    "results3$log2FoldChange < -1& results3$padj <0.05, \"#000066\",\n",
    "  ifelse(results3$log2FoldChange > 1& results3$padj <0.05,\"#FF6666\" ,\n",
    "    'grey'))\n",
    "keyvals[is.na(keyvals)] <- 'grey'\n",
    "names(keyvals)[keyvals == \"#FF6666\"] <- 'More methylation in Warm'\n",
    "names(keyvals)[keyvals == 'grey'] <- 'Not sig.'\n",
    "names(keyvals)[keyvals == \"#000066\"] <- 'More methylation in Control'\n",
    "\n",
    "results3_plot <- EnhancedVolcano(results3,\n",
    "    lab = NA,\n",
    "    x = 'log2FoldChange',\n",
    "    y = 'padj', # so we are using padj...\n",
    "    selectLab = rownames(results3)[which(names(keyvals) %in% c('More methylation in Warm', 'More methylation in Control'))],\n",
    "    xlab = bquote(~Log[2]~ 'fold change'),\n",
    "    pointSize = 3.5,\n",
    "    pCutoff = 0.05, # and have our p-value cutoff to 0.05\n",
    "    colCustom = keyvals,\n",
    "    colAlpha = 1,\n",
    "    legendPosition = 'bottom',\n",
    "    legendLabSize = 20,\n",
    "    legendIconSize = 5.0,\n",
    "    drawConnectors = TRUE,\n",
    "    widthConnectors = 1.0,\n",
    "    colConnectors = 'black',\n",
    "    arrowheads = FALSE,\n",
    "    gridlines.major = TRUE,\n",
    "    gridlines.minor = FALSE,\n",
    "    border = 'partial',\n",
    "    borderWidth = 0.5,\n",
    "    borderColour = 'black')\n",
    "results3_plot"
   ]
  },
  {
   "cell_type": "code",
   "execution_count": 35,
   "id": "aae6e066-9843-468a-8006-62186c51a10d",
   "metadata": {},
   "outputs": [
    {
     "data": {
      "text/html": [
       "<table class=\"dataframe\">\n",
       "<caption>A data.frame: 6 × 46</caption>\n",
       "<thead>\n",
       "\t<tr><th></th><th scope=col>Row.names</th><th scope=col>baseMean</th><th scope=col>log2FoldChange</th><th scope=col>lfcSE</th><th scope=col>stat</th><th scope=col>pvalue</th><th scope=col>padj</th><th scope=col>BBB.WBO.B21</th><th scope=col>BBB.WBV.B70</th><th scope=col>BBO.BBO.B16</th><th scope=col>⋯</th><th scope=col>WPV.BPR.G11</th><th scope=col>seqname</th><th scope=col>source</th><th scope=col>feature</th><th scope=col>start</th><th scope=col>end</th><th scope=col>score</th><th scope=col>strand</th><th scope=col>frame</th><th scope=col>attributes</th></tr>\n",
       "\t<tr><th></th><th scope=col>&lt;I&lt;chr&gt;&gt;</th><th scope=col>&lt;dbl&gt;</th><th scope=col>&lt;dbl&gt;</th><th scope=col>&lt;dbl&gt;</th><th scope=col>&lt;dbl&gt;</th><th scope=col>&lt;dbl&gt;</th><th scope=col>&lt;dbl&gt;</th><th scope=col>&lt;int&gt;</th><th scope=col>&lt;int&gt;</th><th scope=col>&lt;int&gt;</th><th scope=col>⋯</th><th scope=col>&lt;int&gt;</th><th scope=col>&lt;chr&gt;</th><th scope=col>&lt;chr&gt;</th><th scope=col>&lt;chr&gt;</th><th scope=col>&lt;int&gt;</th><th scope=col>&lt;int&gt;</th><th scope=col>&lt;chr&gt;</th><th scope=col>&lt;chr&gt;</th><th scope=col>&lt;chr&gt;</th><th scope=col>&lt;chr&gt;</th></tr>\n",
       "</thead>\n",
       "<tbody>\n",
       "\t<tr><th scope=row>1</th><td>LOC111099115</td><td> 46.83069</td><td>1.7885864</td><td>0.3885554</td><td>4.603170</td><td>4.161092e-06</td><td>0.0002004183</td><td> 137</td><td> 141</td><td>  70</td><td>⋯</td><td>  5</td><td>NC_035780.1</td><td>Gnomon</td><td>gene</td><td> 1840607</td><td> 1842557</td><td>.</td><td>-</td><td>.</td><td>gene_id \"LOC111103177\"; db_xref \"GeneID:111103177\"; gbkey \"Gene\"; gene \"LOC111103177\"; gene_biotype \"protein_coding\"; </td></tr>\n",
       "\t<tr><th scope=row>2</th><td>LOC111099216</td><td> 29.51165</td><td>1.4828614</td><td>0.4401508</td><td>3.368985</td><td>7.544561e-04</td><td>0.0125496496</td><td>  61</td><td>  59</td><td>  55</td><td>⋯</td><td>  1</td><td>NC_035780.1</td><td>Gnomon</td><td>gene</td><td> 3517611</td><td> 3518657</td><td>.</td><td>+</td><td>.</td><td>gene_id \"LOC111132154\"; db_xref \"GeneID:111132154\"; gbkey \"Gene\"; gene \"LOC111132154\"; gene_biotype \"lncRNA\";         </td></tr>\n",
       "\t<tr><th scope=row>3</th><td>LOC111099417</td><td> 51.70011</td><td>2.7487429</td><td>0.6879361</td><td>3.995637</td><td>6.452048e-05</td><td>0.0019567084</td><td> 101</td><td>  98</td><td>  62</td><td>⋯</td><td>  3</td><td>NC_035780.1</td><td>Gnomon</td><td>gene</td><td> 3920144</td><td> 3928549</td><td>.</td><td>+</td><td>.</td><td>gene_id \"LOC111112068\"; db_xref \"GeneID:111112068\"; gbkey \"Gene\"; gene \"LOC111112068\"; gene_biotype \"protein_coding\"; </td></tr>\n",
       "\t<tr><th scope=row>4</th><td>LOC111099424</td><td> 16.12747</td><td>3.4384445</td><td>0.8269653</td><td>4.157907</td><td>3.211770e-05</td><td>0.0010745946</td><td>  57</td><td>  50</td><td>  10</td><td>⋯</td><td>  2</td><td>NC_035780.1</td><td>Gnomon</td><td>gene</td><td> 4012455</td><td> 4013027</td><td>.</td><td>+</td><td>.</td><td>gene_id \"LOC111130177\"; db_xref \"GeneID:111130177\"; gbkey \"Gene\"; gene \"LOC111130177\"; gene_biotype \"protein_coding\"; </td></tr>\n",
       "\t<tr><th scope=row>5</th><td>LOC111099722</td><td>593.62230</td><td>0.8993515</td><td>0.2324598</td><td>3.868847</td><td>1.093514e-04</td><td>0.0028699825</td><td>1591</td><td>1713</td><td>1323</td><td>⋯</td><td>153</td><td>NC_035780.1</td><td>Gnomon</td><td>gene</td><td> 8951007</td><td> 8951628</td><td>.</td><td>-</td><td>.</td><td>gene_id \"LOC111114945\"; db_xref \"GeneID:111114945\"; gbkey \"Gene\"; gene \"LOC111114945\"; gene_biotype \"lncRNA\";         </td></tr>\n",
       "\t<tr><th scope=row>6</th><td>LOC111099918</td><td> 87.23670</td><td>0.6567512</td><td>0.2251842</td><td>2.916507</td><td>3.539745e-03</td><td>0.0407210025</td><td> 328</td><td> 280</td><td> 280</td><td>⋯</td><td>  6</td><td>NC_035780.1</td><td>Gnomon</td><td>gene</td><td>11951821</td><td>11976757</td><td>.</td><td>+</td><td>.</td><td>gene_id \"LOC111112589\"; db_xref \"GeneID:111112589\"; gbkey \"Gene\"; gene \"LOC111112589\"; gene_biotype \"protein_coding\"; </td></tr>\n",
       "</tbody>\n",
       "</table>\n"
      ],
      "text/latex": [
       "A data.frame: 6 × 46\n",
       "\\begin{tabular}{r|lllllllllllllllllllll}\n",
       "  & Row.names & baseMean & log2FoldChange & lfcSE & stat & pvalue & padj & BBB.WBO.B21 & BBB.WBV.B70 & BBO.BBO.B16 & ⋯ & WPV.BPR.G11 & seqname & source & feature & start & end & score & strand & frame & attributes\\\\\n",
       "  & <I<chr>> & <dbl> & <dbl> & <dbl> & <dbl> & <dbl> & <dbl> & <int> & <int> & <int> & ⋯ & <int> & <chr> & <chr> & <chr> & <int> & <int> & <chr> & <chr> & <chr> & <chr>\\\\\n",
       "\\hline\n",
       "\t1 & LOC111099115 &  46.83069 & 1.7885864 & 0.3885554 & 4.603170 & 4.161092e-06 & 0.0002004183 &  137 &  141 &   70 & ⋯ &   5 & NC\\_035780.1 & Gnomon & gene &  1840607 &  1842557 & . & - & . & gene\\_id \"LOC111103177\"; db\\_xref \"GeneID:111103177\"; gbkey \"Gene\"; gene \"LOC111103177\"; gene\\_biotype \"protein\\_coding\"; \\\\\n",
       "\t2 & LOC111099216 &  29.51165 & 1.4828614 & 0.4401508 & 3.368985 & 7.544561e-04 & 0.0125496496 &   61 &   59 &   55 & ⋯ &   1 & NC\\_035780.1 & Gnomon & gene &  3517611 &  3518657 & . & + & . & gene\\_id \"LOC111132154\"; db\\_xref \"GeneID:111132154\"; gbkey \"Gene\"; gene \"LOC111132154\"; gene\\_biotype \"lncRNA\";         \\\\\n",
       "\t3 & LOC111099417 &  51.70011 & 2.7487429 & 0.6879361 & 3.995637 & 6.452048e-05 & 0.0019567084 &  101 &   98 &   62 & ⋯ &   3 & NC\\_035780.1 & Gnomon & gene &  3920144 &  3928549 & . & + & . & gene\\_id \"LOC111112068\"; db\\_xref \"GeneID:111112068\"; gbkey \"Gene\"; gene \"LOC111112068\"; gene\\_biotype \"protein\\_coding\"; \\\\\n",
       "\t4 & LOC111099424 &  16.12747 & 3.4384445 & 0.8269653 & 4.157907 & 3.211770e-05 & 0.0010745946 &   57 &   50 &   10 & ⋯ &   2 & NC\\_035780.1 & Gnomon & gene &  4012455 &  4013027 & . & + & . & gene\\_id \"LOC111130177\"; db\\_xref \"GeneID:111130177\"; gbkey \"Gene\"; gene \"LOC111130177\"; gene\\_biotype \"protein\\_coding\"; \\\\\n",
       "\t5 & LOC111099722 & 593.62230 & 0.8993515 & 0.2324598 & 3.868847 & 1.093514e-04 & 0.0028699825 & 1591 & 1713 & 1323 & ⋯ & 153 & NC\\_035780.1 & Gnomon & gene &  8951007 &  8951628 & . & - & . & gene\\_id \"LOC111114945\"; db\\_xref \"GeneID:111114945\"; gbkey \"Gene\"; gene \"LOC111114945\"; gene\\_biotype \"lncRNA\";         \\\\\n",
       "\t6 & LOC111099918 &  87.23670 & 0.6567512 & 0.2251842 & 2.916507 & 3.539745e-03 & 0.0407210025 &  328 &  280 &  280 & ⋯ &   6 & NC\\_035780.1 & Gnomon & gene & 11951821 & 11976757 & . & + & . & gene\\_id \"LOC111112589\"; db\\_xref \"GeneID:111112589\"; gbkey \"Gene\"; gene \"LOC111112589\"; gene\\_biotype \"protein\\_coding\"; \\\\\n",
       "\\end{tabular}\n"
      ],
      "text/markdown": [
       "\n",
       "A data.frame: 6 × 46\n",
       "\n",
       "| <!--/--> | Row.names &lt;I&lt;chr&gt;&gt; | baseMean &lt;dbl&gt; | log2FoldChange &lt;dbl&gt; | lfcSE &lt;dbl&gt; | stat &lt;dbl&gt; | pvalue &lt;dbl&gt; | padj &lt;dbl&gt; | BBB.WBO.B21 &lt;int&gt; | BBB.WBV.B70 &lt;int&gt; | BBO.BBO.B16 &lt;int&gt; | ⋯ ⋯ | WPV.BPR.G11 &lt;int&gt; | seqname &lt;chr&gt; | source &lt;chr&gt; | feature &lt;chr&gt; | start &lt;int&gt; | end &lt;int&gt; | score &lt;chr&gt; | strand &lt;chr&gt; | frame &lt;chr&gt; | attributes &lt;chr&gt; |\n",
       "|---|---|---|---|---|---|---|---|---|---|---|---|---|---|---|---|---|---|---|---|---|---|\n",
       "| 1 | LOC111099115 |  46.83069 | 1.7885864 | 0.3885554 | 4.603170 | 4.161092e-06 | 0.0002004183 |  137 |  141 |   70 | ⋯ |   5 | NC_035780.1 | Gnomon | gene |  1840607 |  1842557 | . | - | . | gene_id \"LOC111103177\"; db_xref \"GeneID:111103177\"; gbkey \"Gene\"; gene \"LOC111103177\"; gene_biotype \"protein_coding\";  |\n",
       "| 2 | LOC111099216 |  29.51165 | 1.4828614 | 0.4401508 | 3.368985 | 7.544561e-04 | 0.0125496496 |   61 |   59 |   55 | ⋯ |   1 | NC_035780.1 | Gnomon | gene |  3517611 |  3518657 | . | + | . | gene_id \"LOC111132154\"; db_xref \"GeneID:111132154\"; gbkey \"Gene\"; gene \"LOC111132154\"; gene_biotype \"lncRNA\";          |\n",
       "| 3 | LOC111099417 |  51.70011 | 2.7487429 | 0.6879361 | 3.995637 | 6.452048e-05 | 0.0019567084 |  101 |   98 |   62 | ⋯ |   3 | NC_035780.1 | Gnomon | gene |  3920144 |  3928549 | . | + | . | gene_id \"LOC111112068\"; db_xref \"GeneID:111112068\"; gbkey \"Gene\"; gene \"LOC111112068\"; gene_biotype \"protein_coding\";  |\n",
       "| 4 | LOC111099424 |  16.12747 | 3.4384445 | 0.8269653 | 4.157907 | 3.211770e-05 | 0.0010745946 |   57 |   50 |   10 | ⋯ |   2 | NC_035780.1 | Gnomon | gene |  4012455 |  4013027 | . | + | . | gene_id \"LOC111130177\"; db_xref \"GeneID:111130177\"; gbkey \"Gene\"; gene \"LOC111130177\"; gene_biotype \"protein_coding\";  |\n",
       "| 5 | LOC111099722 | 593.62230 | 0.8993515 | 0.2324598 | 3.868847 | 1.093514e-04 | 0.0028699825 | 1591 | 1713 | 1323 | ⋯ | 153 | NC_035780.1 | Gnomon | gene |  8951007 |  8951628 | . | - | . | gene_id \"LOC111114945\"; db_xref \"GeneID:111114945\"; gbkey \"Gene\"; gene \"LOC111114945\"; gene_biotype \"lncRNA\";          |\n",
       "| 6 | LOC111099918 |  87.23670 | 0.6567512 | 0.2251842 | 2.916507 | 3.539745e-03 | 0.0407210025 |  328 |  280 |  280 | ⋯ |   6 | NC_035780.1 | Gnomon | gene | 11951821 | 11976757 | . | + | . | gene_id \"LOC111112589\"; db_xref \"GeneID:111112589\"; gbkey \"Gene\"; gene \"LOC111112589\"; gene_biotype \"protein_coding\";  |\n",
       "\n"
      ],
      "text/plain": [
       "  Row.names    baseMean  log2FoldChange lfcSE     stat     pvalue      \n",
       "1 LOC111099115  46.83069 1.7885864      0.3885554 4.603170 4.161092e-06\n",
       "2 LOC111099216  29.51165 1.4828614      0.4401508 3.368985 7.544561e-04\n",
       "3 LOC111099417  51.70011 2.7487429      0.6879361 3.995637 6.452048e-05\n",
       "4 LOC111099424  16.12747 3.4384445      0.8269653 4.157907 3.211770e-05\n",
       "5 LOC111099722 593.62230 0.8993515      0.2324598 3.868847 1.093514e-04\n",
       "6 LOC111099918  87.23670 0.6567512      0.2251842 2.916507 3.539745e-03\n",
       "  padj         BBB.WBO.B21 BBB.WBV.B70 BBO.BBO.B16 ⋯ WPV.BPR.G11 seqname    \n",
       "1 0.0002004183  137         141          70        ⋯   5         NC_035780.1\n",
       "2 0.0125496496   61          59          55        ⋯   1         NC_035780.1\n",
       "3 0.0019567084  101          98          62        ⋯   3         NC_035780.1\n",
       "4 0.0010745946   57          50          10        ⋯   2         NC_035780.1\n",
       "5 0.0028699825 1591        1713        1323        ⋯ 153         NC_035780.1\n",
       "6 0.0407210025  328         280         280        ⋯   6         NC_035780.1\n",
       "  source feature start    end      score strand frame\n",
       "1 Gnomon gene     1840607  1842557 .     -      .    \n",
       "2 Gnomon gene     3517611  3518657 .     +      .    \n",
       "3 Gnomon gene     3920144  3928549 .     +      .    \n",
       "4 Gnomon gene     4012455  4013027 .     +      .    \n",
       "5 Gnomon gene     8951007  8951628 .     -      .    \n",
       "6 Gnomon gene    11951821 11976757 .     +      .    \n",
       "  attributes                                                                                                            \n",
       "1 gene_id \"LOC111103177\"; db_xref \"GeneID:111103177\"; gbkey \"Gene\"; gene \"LOC111103177\"; gene_biotype \"protein_coding\"; \n",
       "2 gene_id \"LOC111132154\"; db_xref \"GeneID:111132154\"; gbkey \"Gene\"; gene \"LOC111132154\"; gene_biotype \"lncRNA\";         \n",
       "3 gene_id \"LOC111112068\"; db_xref \"GeneID:111112068\"; gbkey \"Gene\"; gene \"LOC111112068\"; gene_biotype \"protein_coding\"; \n",
       "4 gene_id \"LOC111130177\"; db_xref \"GeneID:111130177\"; gbkey \"Gene\"; gene \"LOC111130177\"; gene_biotype \"protein_coding\"; \n",
       "5 gene_id \"LOC111114945\"; db_xref \"GeneID:111114945\"; gbkey \"Gene\"; gene \"LOC111114945\"; gene_biotype \"lncRNA\";         \n",
       "6 gene_id \"LOC111112589\"; db_xref \"GeneID:111112589\"; gbkey \"Gene\"; gene \"LOC111112589\"; gene_biotype \"protein_coding\"; "
      ]
     },
     "metadata": {},
     "output_type": "display_data"
    },
    {
     "name": "stderr",
     "output_type": "stream",
     "text": [
      "Warning message in file(file, ifelse(append, \"a\", \"w\")):\n",
      "“cannot open file '/project/pi_sarah_gignouxwolfsohn_uml_edu/julia/CE_MethylRAD_analysis_2018/CE_methyl_analysis/significant_genes/sig_p1_wc_genes.csv': No such file or directory”\n"
     ]
    },
    {
     "ename": "ERROR",
     "evalue": "Error in file(file, ifelse(append, \"a\", \"w\")): cannot open the connection\n",
     "output_type": "error",
     "traceback": [
      "Error in file(file, ifelse(append, \"a\", \"w\")): cannot open the connection\nTraceback:\n",
      "1. write.csv(sig_wc_genes, \"/project/pi_sarah_gignouxwolfsohn_uml_edu/julia/CE_MethylRAD_analysis_2018/CE_methyl_analysis/significant_genes/sig_p1_wc_genes.csv\")",
      "2. eval.parent(Call)",
      "3. eval(expr, p)",
      "4. eval(expr, p)",
      "5. utils::write.table(sig_wc_genes, \"/project/pi_sarah_gignouxwolfsohn_uml_edu/julia/CE_MethylRAD_analysis_2018/CE_methyl_analysis/significant_genes/sig_p1_wc_genes.csv\", \n .     col.names = NA, sep = \",\", dec = \".\", qmethod = \"double\")",
      "6. file(file, ifelse(append, \"a\", \"w\"))"
     ]
    }
   ],
   "source": [
    "### saving sig genes into dataframe and csv file\n",
    "\n",
    "# grabbing all sig genes for warm vs. control for phase 1\n",
    "warm_v_control.sig_genes = as.data.frame(results3[which(results3$padj < 0.05), ])\n",
    "\n",
    "# add meta data for those genees\n",
    "sig_wc_genes = merge(warm_v_control.sig_genes, counts_meta, by=\"row.names\")\n",
    "head(sig_wc_genes) \n",
    "\n",
    "# writing csv file\n",
    "write.csv(sig_wc_genes,\n",
    "          \"/project/pi_sarah_gignouxwolfsohn_uml_edu/julia/CE_MethylRAD_analysis_2018/CE_methyl_analysis/significant_genes/sig_p1_wc_genes.csv\")"
   ]
  },
  {
   "cell_type": "code",
   "execution_count": null,
   "id": "f0d8db47-e405-403e-9f04-b810b0d9354d",
   "metadata": {},
   "outputs": [],
   "source": [
    "tail(results3)\n",
    "write.csv(results3, '/project/pi_sarah_gignouxwolfsohn_uml_edu/julia/CE_MethylRAD_analysis_2018/CE_methyl_analysis/GO_enrichment_analysis/sig_p1_wc_genes_ALL.csv')"
   ]
  },
  {
   "cell_type": "code",
   "execution_count": null,
   "id": "f174e5fa-6d34-4ed3-b2e7-e551dd9fbe6e",
   "metadata": {},
   "outputs": [],
   "source": [
    "# Open a pdf file\n",
    "setwd(\"/project/pi_sarah_gignouxwolfsohn_uml_edu/julia/CE_MethylRAD_analysis_2018/CE_methyl_analysis/figures\")\n",
    "pdf(\"phase1_warm_control.pdf\", width=10, height=10) \n",
    "# 2. Create a plot\n",
    "results3_plot\n",
    "# Close the pdf filegb\n",
    "dev.off() "
   ]
  },
  {
   "cell_type": "code",
   "execution_count": null,
   "id": "c4d7484f-8f77-42d9-99ce-860f3cc9e3bc",
   "metadata": {},
   "outputs": [],
   "source": [
    "head(meta)"
   ]
  },
  {
   "cell_type": "markdown",
   "id": "fbe46a61-f564-4600-9571-2dde5b036163",
   "metadata": {},
   "source": [
    "#### looking at effects of phase 2, ignoring phase 1"
   ]
  },
  {
   "cell_type": "code",
   "execution_count": 38,
   "id": "c2551ea2-1e0a-43be-84d5-518c1f75a698",
   "metadata": {},
   "outputs": [
    {
     "name": "stderr",
     "output_type": "stream",
     "text": [
      "Warning message in DESeqDataSet(se, design = design, ignoreRank):\n",
      "“some variables in design formula are characters, converting to factors”\n",
      "estimating size factors\n",
      "\n",
      "estimating dispersions\n",
      "\n",
      "gene-wise dispersion estimates\n",
      "\n",
      "mean-dispersion relationship\n",
      "\n",
      "final dispersion estimates\n",
      "\n",
      "fitting model and testing\n",
      "\n",
      "-- replacing outliers and refitting for 641 genes\n",
      "-- DESeq argument 'minReplicatesForReplace' = 7 \n",
      "-- original counts are preserved in counts(dds)\n",
      "\n",
      "estimating dispersions\n",
      "\n",
      "fitting model and testing\n",
      "\n"
     ]
    },
    {
     "data": {
      "text/html": [
       "<style>\n",
       ".list-inline {list-style: none; margin:0; padding: 0}\n",
       ".list-inline>li {display: inline-block}\n",
       ".list-inline>li:not(:last-child)::after {content: \"\\00b7\"; padding: 0 .5ex}\n",
       "</style>\n",
       "<ol class=list-inline><li>'Intercept'</li><li>'Phase2_control_vs_both'</li><li>'Phase2_hypoxic_vs_both'</li></ol>\n"
      ],
      "text/latex": [
       "\\begin{enumerate*}\n",
       "\\item 'Intercept'\n",
       "\\item 'Phase2\\_control\\_vs\\_both'\n",
       "\\item 'Phase2\\_hypoxic\\_vs\\_both'\n",
       "\\end{enumerate*}\n"
      ],
      "text/markdown": [
       "1. 'Intercept'\n",
       "2. 'Phase2_control_vs_both'\n",
       "3. 'Phase2_hypoxic_vs_both'\n",
       "\n",
       "\n"
      ],
      "text/plain": [
       "[1] \"Intercept\"              \"Phase2_control_vs_both\" \"Phase2_hypoxic_vs_both\""
      ]
     },
     "metadata": {},
     "output_type": "display_data"
    }
   ],
   "source": [
    "p2_dds <- DESeqDataSetFromMatrix(countData = counts_gene,\n",
    "                              colData = meta, \n",
    "                              design = ~ Phase2)\n",
    "p2_dds=DESeq(p2_dds)\n",
    "resultsNames(p2_dds)"
   ]
  },
  {
   "cell_type": "code",
   "execution_count": null,
   "id": "931ab4f4-b6d5-4e99-92f9-16116e0ad22b",
   "metadata": {},
   "outputs": [],
   "source": [
    "colData(p2_dds)$Phase2 <- factor(colData(p2_dds)$Phase2, levels = c(\"control\", \"hypoxic\", \"warm\", \"both\"))\n",
    "head(colData(p2_dds))"
   ]
  },
  {
   "cell_type": "code",
   "execution_count": null,
   "id": "483b1571-334e-4279-a5fb-1ec2a74abb81",
   "metadata": {},
   "outputs": [],
   "source": [
    "# need to first specify contrasts\n",
    "contrast4 <- c(\"Phase2\", \"hypoxic\", \"both\")\n",
    "contrast5 <- c(\"Phase2\", \"both\", \"control\")\n",
    "#contrast6 <- c(\"Phase2\", \"warm\", \"control\") don't actually have these samples"
   ]
  },
  {
   "cell_type": "code",
   "execution_count": null,
   "id": "cdcd7071-0e81-40ec-ad95-6458c1913fe8",
   "metadata": {},
   "outputs": [],
   "source": [
    "results4 <- results(p2_dds, contrast = contrast4)\n",
    "results5 <- results(p2_dds, contrast = contrast5)\n",
    "#results6 <- results(p2_dds, contrast = contrast6) don't have these samples"
   ]
  },
  {
   "cell_type": "code",
   "execution_count": null,
   "id": "a589cb93-42a3-4e13-afbd-f7ae7d5ea873",
   "metadata": {},
   "outputs": [],
   "source": [
    "# phase 2 hypoxic vs both\n",
    "summary(results4)\n",
    "   \n",
    "EnhancedVolcano(results4,\n",
    "                lab=NA,\n",
    "                x = 'log2FoldChange',\n",
    "                y = 'padj', pCutoff=0.05)"
   ]
  },
  {
   "cell_type": "code",
   "execution_count": null,
   "id": "7a46fd90-c372-46b9-afc3-88d3ad8e7153",
   "metadata": {},
   "outputs": [],
   "source": [
    "### saving sig genes into dataframe and csv file\n",
    "\n",
    "# grabbing all sig genes for hypoxic vs. control for phase 2\n",
    "hypoxic_v_control.sig_genes = as.data.frame(results4[which(results4$padj < 0.05), ])\n",
    "\n",
    "# add meta data for those genes\n",
    "sig_hc_genes = merge(hypoxic_v_control.sig_genes, counts_meta, by=\"row.names\")\n",
    "head(sig_hc_genes)\n",
    "\n",
    "# writing csv file\n",
    "write.csv(sig_hc_genes,\n",
    "          \"/project/pi_sarah_gignouxwolfsohn_uml_edu/julia/CE_MethylRAD_analysis_2018/CE_methyl_analysis/significant_genes/sig_p2_hc_genes.csv\")"
   ]
  },
  {
   "cell_type": "code",
   "execution_count": null,
   "id": "1d04fa66-e3bf-4660-a6d5-89d3ec2a22d1",
   "metadata": {},
   "outputs": [],
   "source": [
    "# phase 2 both vs control\n",
    "summary(results5)\n",
    "   \n",
    "EnhancedVolcano(results5,\n",
    "                lab=NA,\n",
    "                x = 'log2FoldChange',\n",
    "                y = 'padj', pCutoff=0.05)"
   ]
  },
  {
   "cell_type": "code",
   "execution_count": null,
   "id": "42cec046-e43f-41e4-b00d-1ae3bc9020fa",
   "metadata": {},
   "outputs": [],
   "source": [
    "keyvals <- ifelse(\n",
    "results5$log2FoldChange < -1& results5$padj <0.05, \"#000066\",\n",
    "  ifelse(results5$log2FoldChange > 1& results5$padj <0.05,\"#FF6666\" ,\n",
    "    'grey'))\n",
    "keyvals[is.na(keyvals)] <- 'grey'\n",
    "names(keyvals)[keyvals == \"#FF6666\"] <- 'More methylation in Both'\n",
    "names(keyvals)[keyvals == 'grey'] <- 'Not significant'\n",
    "names(keyvals)[keyvals == \"#000066\"] <- 'More methylation in Control'\n",
    "\n",
    "results5_plot <- EnhancedVolcano(results5,\n",
    "    lab = NA,\n",
    "    x = 'log2FoldChange',\n",
    "    y = 'padj', # so we are using padj...\n",
    "    selectLab = rownames(results5)[which(names(keyvals) %in% c('More methylation in Both', 'More methylation in Control'))],\n",
    "    xlab = bquote(~Log[2]~ 'fold change'),\n",
    "    pointSize = 3.5,\n",
    "    pCutoff = 0.05, # and have our p-value cutoff to 0.05\n",
    "    colCustom = keyvals,\n",
    "    colAlpha = 1,\n",
    "    legendPosition = 'left',\n",
    "    legendLabSize = 30,\n",
    "    legendIconSize = 5.0,\n",
    "    drawConnectors = TRUE,\n",
    "    widthConnectors = 1.0,\n",
    "    colConnectors = 'black',\n",
    "    arrowheads = FALSE,\n",
    "    gridlines.major = TRUE,\n",
    "    gridlines.minor = FALSE,\n",
    "    border = 'partial',\n",
    "    borderWidth = 0.5,\n",
    "    borderColour = 'black')\n",
    "results5_plot"
   ]
  },
  {
   "cell_type": "code",
   "execution_count": null,
   "id": "ef05eb83-30bc-4011-8c14-6c6f610982eb",
   "metadata": {},
   "outputs": [],
   "source": [
    "### saving sig genes into dataframe and csv file\n",
    "\n",
    "# grabbing all sig genes for both vs. control for phase 2\n",
    "both_v_control.sig_genes = as.data.frame(results5[which(results5$padj < 0.05), ])\n",
    "\n",
    "# add meta data for those genes\n",
    "sig_bc_genes = merge(both_v_control.sig_genes, counts_meta, by=\"row.names\")\n",
    "head(sig_bc_genes)\n",
    "\n",
    "# writing csv file\n",
    "write.csv(sig_bc_genes,\n",
    "          \"/project/pi_sarah_gignouxwolfsohn_uml_edu/julia/CE_MethylRAD_analysis_2018/CE_methyl_analysis/significant_genes/sig_p2_bc_genes.csv\")"
   ]
  },
  {
   "cell_type": "markdown",
   "id": "968407f0-232b-4877-acce-1e14a9b2b9cf",
   "metadata": {},
   "source": [
    "#### given phase 2, what is the effect of phase 1\n"
   ]
  },
  {
   "cell_type": "code",
   "execution_count": null,
   "id": "8f1a1f4e-6848-4bbc-88c8-bef8d4387d33",
   "metadata": {},
   "outputs": [],
   "source": [
    "# for phase 2 hypoxic\n",
    "p2hypoxic_meta = filter(meta, meta$Phase2 == 'hypoxic')\n",
    "p2hypoxic_meta                               "
   ]
  },
  {
   "cell_type": "code",
   "execution_count": null,
   "id": "4a964eba-61ce-49ab-b62f-893ba48b116c",
   "metadata": {},
   "outputs": [],
   "source": [
    "# have to make sure counts matrix has the same columns as rows in meta\n",
    "p2hypoxic_counts = counts_gene[,colnames(counts_gene) %in% p2hypoxic_meta$unique_ID, drop=FALSE]\n",
    "head(p2hypoxic_counts)"
   ]
  },
  {
   "cell_type": "code",
   "execution_count": null,
   "id": "ecdeff23-494a-4bdc-a4e9-cd09ea11519f",
   "metadata": {},
   "outputs": [],
   "source": [
    "p2h_dds <- DESeqDataSetFromMatrix(countData = p2hypoxic_counts,\n",
    "                              colData = p2hypoxic_meta, \n",
    "                              design = ~ Phase1)\n",
    "p2h_dds=DESeq(p2h_dds)\n",
    "resultsNames(p2h_dds)"
   ]
  },
  {
   "cell_type": "code",
   "execution_count": null,
   "id": "9d7e061b-222e-4a8b-8749-136af244752d",
   "metadata": {},
   "outputs": [],
   "source": [
    "# phase 2 = hypoxic, looking at hypoxic vs. control for phase 1\n",
    "res_p2h=results(p2h_dds, name=\"Phase1_hypoxic_vs_control\")\n",
    "\n",
    "summary(res_p2h)\n",
    "   \n",
    "EnhancedVolcano(res_p2h,\n",
    "                lab=NA,\n",
    "                x = 'log2FoldChange',\n",
    "                y = 'padj', pCutoff=0.05)"
   ]
  },
  {
   "cell_type": "code",
   "execution_count": null,
   "id": "ee3aee56-e737-4a37-8d42-76fd2195269f",
   "metadata": {},
   "outputs": [],
   "source": [
    "### saving sig genes into dataframe and csv file\n",
    "\n",
    "# grabbing all sig genes for hypoxic vs. control for phase 1, given phase 2 (hypoxic)\n",
    "p21_hc.sig_genes = as.data.frame(res_p2h[which(res_p2h$padj < 0.05), ])\n",
    "\n",
    "# add meta data for those genes\n",
    "sig_p2h_hc_genes = merge(p21_hc.sig_genes, counts_meta, by=\"row.names\")\n",
    "head(sig_p2h_hc_genes)\n",
    "\n",
    "# writing csv file\n",
    "write.csv(sig_p2h_hc_genes,\n",
    "          \"/project/pi_sarah_gignouxwolfsohn_uml_edu/julia/CE_MethylRAD_analysis_2018/CE_methyl_analysis/significant_genes/sig_p2h_p1hc_genes.csv\")"
   ]
  },
  {
   "cell_type": "code",
   "execution_count": null,
   "id": "20c06cad-53a3-4b5b-89e3-b149115caa53",
   "metadata": {},
   "outputs": [],
   "source": [
    "# for phase 2 both\n",
    "p2both_meta = filter(meta, meta$Phase2 == 'both')\n",
    "p2both_meta  \n",
    "\n",
    "# have to make sure counts matrix has the same columns as rows in meta\n",
    "p2both_counts = counts_gene[,colnames(counts_gene) %in% p2both_meta$unique_ID, drop=FALSE]\n",
    "head(p2both_counts)"
   ]
  },
  {
   "cell_type": "code",
   "execution_count": null,
   "id": "df7aaaee-cf5b-4366-a0f7-8979131a5028",
   "metadata": {},
   "outputs": [],
   "source": [
    "p2both_dds <- DESeqDataSetFromMatrix(countData = p2both_counts,\n",
    "                              colData = p2both_meta, \n",
    "                              design = ~ Phase1)\n",
    "p2both_dds=DESeq(p2both_dds)\n",
    "resultsNames(p2both_dds)"
   ]
  },
  {
   "cell_type": "code",
   "execution_count": null,
   "id": "a63746a9-e6c5-4fa7-81be-604bf70a5d5b",
   "metadata": {},
   "outputs": [],
   "source": [
    "# phase 1 effects (warm vs. both) given phase 2 (both)\n",
    "res_p2b=results(p2both_dds, name=\"Phase1_warm_vs_both\")\n",
    "\n",
    "summary(res_p2b)\n",
    "   \n",
    "EnhancedVolcano(res_p2b,\n",
    "                lab=NA,\n",
    "                x = 'log2FoldChange',\n",
    "                y = 'padj', pCutoff=0.05)"
   ]
  },
  {
   "cell_type": "code",
   "execution_count": null,
   "id": "26891a48-924b-4af2-9b4d-330b53c3df28",
   "metadata": {},
   "outputs": [],
   "source": [
    "### saving sig genes into dataframe and csv file\n",
    "\n",
    "# grabbing all sig genes for warm vs. both for phase 1, given phase 2 (both)\n",
    "p21_wb.sig_genes = as.data.frame(res_p2b[which(res_p2b$padj < 0.05), ])\n",
    "\n",
    "# add meta data for those genes\n",
    "sig_p2b_wb_genes = merge(p21_wb.sig_genes, counts_meta, by=\"row.names\")\n",
    "head(sig_p2b_wb_genes)\n",
    "\n",
    "# writing csv file\n",
    "write.csv(sig_p2b_wb_genes,\n",
    "          \"/project/pi_sarah_gignouxwolfsohn_uml_edu/julia/CE_MethylRAD_analysis_2018/CE_methyl_analysis/significant_genes/sig_p2b_p1wb_genes.csv\")"
   ]
  },
  {
   "cell_type": "code",
   "execution_count": null,
   "id": "03bdf301-d50b-4bf0-9515-0f378458210e",
   "metadata": {},
   "outputs": [],
   "source": [
    "# for phase 2 both\n",
    "p2control_meta = filter(meta, meta$Phase2 == 'control')\n",
    "p2control_meta  \n",
    "\n",
    "# have to make sure counts matrix has the same columns as rows in meta\n",
    "p2control_counts = counts_gene[,colnames(counts_gene) %in% p2control_meta$unique_ID, drop=FALSE]\n",
    "head(p2control_counts)"
   ]
  },
  {
   "cell_type": "code",
   "execution_count": null,
   "id": "4c6f4109-1931-4792-a591-29ccd5188fa7",
   "metadata": {},
   "outputs": [],
   "source": [
    "p2control_dds <- DESeqDataSetFromMatrix(countData = p2control_counts,\n",
    "                              colData = p2control_meta, \n",
    "                              design = ~ Phase1)\n",
    "p2control_dds=DESeq(p2control_dds)\n",
    "resultsNames(p2control_dds)"
   ]
  },
  {
   "cell_type": "code",
   "execution_count": null,
   "id": "7659d462-2e5c-4dbb-a670-f65d6a08def9",
   "metadata": {},
   "outputs": [],
   "source": [
    "# effects of phase 1 (hypoxic vs. control), given phase 2 (control)\n",
    "res_p2c=results(p2control_dds, name=\"Phase1_hypoxic_vs_control\")\n",
    "\n",
    "summary(res_p2c)\n",
    "   \n",
    "EnhancedVolcano(res_p2c,\n",
    "                lab=NA,\n",
    "                x = 'log2FoldChange',\n",
    "                y = 'padj', pCutoff=0.05)"
   ]
  },
  {
   "cell_type": "code",
   "execution_count": null,
   "id": "7390d3b7-9d63-4e0c-929e-a5958eb666a6",
   "metadata": {},
   "outputs": [],
   "source": [
    "### saving sig genes into dataframe and csv file\n",
    "\n",
    "# grabbing all sig genes for hypoxic vs. control for phase 1, given phase 2 (control)\n",
    "p21_hc.sig_genes = as.data.frame(res_p2c[which(res_p2c$padj < 0.05), ])\n",
    "\n",
    "# add meta data for those genes\n",
    "sig_p2c_hc_genes = merge(p21_hc.sig_genes, counts_meta, by=\"row.names\")\n",
    "head(sig_p2c_hc_genes)\n",
    "\n",
    "# writing csv file\n",
    "write.csv(sig_p2c_hc_genes,\n",
    "          \"/project/pi_sarah_gignouxwolfsohn_uml_edu/julia/CE_MethylRAD_analysis_2018/CE_methyl_analysis/significant_genes/sig_p2c_p1hc_genes.csv\")"
   ]
  },
  {
   "cell_type": "markdown",
   "id": "95fb8969-3d83-4d31-96b1-d2f2e558a932",
   "metadata": {},
   "source": [
    "#### design = ~T1_temp + T1_oxygen"
   ]
  },
  {
   "cell_type": "code",
   "execution_count": null,
   "id": "cef3e9f8-67e0-40d0-b69f-18699943b27b",
   "metadata": {},
   "outputs": [],
   "source": [
    "dds_t1 <- DESeqDataSetFromMatrix(countData = counts_gene,\n",
    "                              colData = meta,\n",
    "                              design= ~ T1_temp + T1_oxygen + T1_temp:T1_oxygen)\n",
    "dds_t1=DESeq(dds_t1)\n",
    "resultsNames(dds_t1)"
   ]
  },
  {
   "cell_type": "code",
   "execution_count": null,
   "id": "f00819c8-83c8-408c-9137-85823ac966e7",
   "metadata": {},
   "outputs": [],
   "source": [
    "model.matrix(~T1_temp + T1_oxygen + T1_temp:T1_oxygen, data = meta)"
   ]
  },
  {
   "cell_type": "markdown",
   "id": "af6659c1-597f-4915-8d3d-0318d9fee314",
   "metadata": {},
   "source": [
    "so i should relevel because this is treating normoxic warm as the control I think?"
   ]
  },
  {
   "cell_type": "code",
   "execution_count": null,
   "id": "c7f8c9d1-8523-44ff-88b5-b83df22b779a",
   "metadata": {},
   "outputs": [],
   "source": [
    "tail(meta)"
   ]
  },
  {
   "cell_type": "code",
   "execution_count": null,
   "id": "169850bb-5e80-439d-88f9-40a4e05dd64f",
   "metadata": {},
   "outputs": [],
   "source": [
    "res_t1_temp=results(dds_t1, name=\"T1_temp_warm_vs_ambient\")\n",
    "\n",
    "summary(res_t1_temp)\n",
    "   \n",
    "EnhancedVolcano(res_t1_temp,\n",
    "                lab=NA,\n",
    "                x = 'log2FoldChange',\n",
    "                y = 'padj', pCutoff=0.05)"
   ]
  },
  {
   "cell_type": "code",
   "execution_count": null,
   "id": "48a6313c-5a6e-4857-8c0f-97047cecf324",
   "metadata": {},
   "outputs": [],
   "source": [
    "res_t1_oxygen=results(dds_t1, name=\"T1_oxygen_normoxic_vs_hypoxic\")\n",
    "\n",
    "summary(res_t1_oxygen)\n",
    "   \n",
    "EnhancedVolcano(res_t1_oxygen,\n",
    "                lab=NA,\n",
    "                x = 'log2FoldChange',\n",
    "                y = 'padj', pCutoff=0.05)"
   ]
  },
  {
   "cell_type": "code",
   "execution_count": null,
   "id": "4dc0158c-8e72-4745-b2c3-5c4f0a760af2",
   "metadata": {},
   "outputs": [],
   "source": [
    "res_t1=results(dds_t1, name=\"T1_tempwarm.T1_oxygennormoxic\")\n",
    "\n",
    "summary(res_t1)\n",
    "   \n",
    "EnhancedVolcano(res_t1,\n",
    "                lab=NA,\n",
    "                x = 'log2FoldChange',\n",
    "                y = 'padj', pCutoff=0.05)"
   ]
  },
  {
   "cell_type": "markdown",
   "id": "45feb888-319c-486b-8aab-4799a3cc3b97",
   "metadata": {},
   "source": [
    "#### design = ~T2_temp + T2_oxygen"
   ]
  },
  {
   "cell_type": "code",
   "execution_count": null,
   "id": "922d8cd8-9332-4bcf-b339-486779fd7eed",
   "metadata": {},
   "outputs": [],
   "source": [
    "dds_t2 <- DESeqDataSetFromMatrix(countData = counts_gene,\n",
    "                              colData = meta,\n",
    "                              design= ~ T2_temp + T2_oxygen)\n",
    "dds_t2=DESeq(dds_t2)\n",
    "resultsNames(dds_t2)"
   ]
  },
  {
   "cell_type": "code",
   "execution_count": null,
   "id": "7f621a3b-050d-4e7c-a589-dcedbc068f2d",
   "metadata": {},
   "outputs": [],
   "source": [
    "res_t2_temp=results(dds_t2, name=\"T2_temp_warm_vs_ambient\")\n",
    "\n",
    "summary(res_t2_temp)\n",
    "   \n",
    "EnhancedVolcano(res_t2_temp,\n",
    "                lab=NA,\n",
    "                x = 'log2FoldChange',\n",
    "                y = 'padj', pCutoff=0.05)"
   ]
  },
  {
   "cell_type": "code",
   "execution_count": null,
   "id": "f8fff00a-9835-4856-970f-976c58708c5b",
   "metadata": {},
   "outputs": [],
   "source": [
    "res_t2_oxygen=results(dds_t2, name=\"T2_oxygen_normoxic_vs_hypoxic\")\n",
    "\n",
    "summary(res_t2_oxygen)\n",
    "   \n",
    "EnhancedVolcano(res_t2_oxygen,\n",
    "                lab=NA,\n",
    "                x = 'log2FoldChange',\n",
    "                y = 'padj', pCutoff=0.05)"
   ]
  },
  {
   "cell_type": "markdown",
   "id": "9299aa51-d589-40db-b57a-665a2a302f97",
   "metadata": {},
   "source": [
    "#### design = ~TC1 + TC2\n",
    "so this doesn't work because (I think) the treatment labels are not unique between TC1 and TC2 (could have normoxic ambient for both) - possible work around is to make new columns to be able to capture all treatment conditions..."
   ]
  },
  {
   "cell_type": "code",
   "execution_count": null,
   "id": "d894767b-d730-4c7f-a2db-43b28169e656",
   "metadata": {},
   "outputs": [],
   "source": [
    "meta$phase1 = paste(meta$TC1, '1')\n",
    "meta$phase2 = paste(meta$TC2, '2')\n",
    "head(meta)"
   ]
  },
  {
   "cell_type": "code",
   "execution_count": null,
   "id": "ce54402c-5a5f-4563-8ca3-49f080a756ec",
   "metadata": {},
   "outputs": [],
   "source": [
    "dds_both <- DESeqDataSetFromMatrix(countData = counts_gene,\n",
    "                              colData = meta,\n",
    "                              design= ~ phase1 + phase2) # don't think you can do this\n",
    "dds_both=DESeq(dds_both)\n",
    "resultsNames(dds_both)"
   ]
  },
  {
   "cell_type": "code",
   "execution_count": null,
   "id": "3f2e7ba1-af1b-44bd-b948-45b51dc779cb",
   "metadata": {},
   "outputs": [],
   "source": [
    "meta$temp_treatment = paste(meta$T1_temp, meta$T2_temp)\n",
    "meta$oxygen_treatment = paste(meta$T1_oxygen, meta$T2_oxygen)\n",
    "head(meta)"
   ]
  },
  {
   "cell_type": "code",
   "execution_count": null,
   "id": "5ec4c13e-c74b-4fb9-9296-f08575e3b4f1",
   "metadata": {},
   "outputs": [],
   "source": [
    "dds_both <- DESeqDataSetFromMatrix(countData = counts_gene,\n",
    "                              colData = meta,\n",
    "                              design= ~ temp_treatment + oxygen_treatment) # don't think you can do this\n",
    "dds_both=DESeq(dds_both)\n",
    "resultsNames(dds_both)"
   ]
  },
  {
   "cell_type": "code",
   "execution_count": null,
   "id": "e67f1b9a-2186-4eb2-a183-d6963e833741",
   "metadata": {},
   "outputs": [],
   "source": [
    "res1=results(dds_both, name=\"temp_treatment_warm.warm_vs_ambient.ambient\")\n",
    "\n",
    "summary(res1)\n",
    "   \n",
    "EnhancedVolcano(res1,\n",
    "                lab=NA,\n",
    "                x = 'log2FoldChange',\n",
    "                y = 'padj', pCutoff=0.05)"
   ]
  },
  {
   "cell_type": "code",
   "execution_count": null,
   "id": "96630b76-58a3-4238-8f89-6a8846ac4a8e",
   "metadata": {},
   "outputs": [],
   "source": [
    "res2=results(dds_both, name=\"oxygen_treatment_hypoxic.normoxic_vs_hypoxic.hypoxic\")\n",
    "\n",
    "summary(res2)\n",
    "   \n",
    "EnhancedVolcano(res2,\n",
    "                lab=NA,\n",
    "                x = 'log2FoldChange',\n",
    "                y = 'padj', pCutoff=0.05)"
   ]
  },
  {
   "cell_type": "code",
   "execution_count": null,
   "id": "4e227758-7fc8-4cdf-a112-7f57a40c6f54",
   "metadata": {},
   "outputs": [],
   "source": [
    "res3=results(dds_both, name=\"oxygen_treatment_normoxic.hypoxic_vs_hypoxic.hypoxic\")\n",
    "\n",
    "summary(res3)\n",
    "   \n",
    "EnhancedVolcano(res3,\n",
    "                lab=NA,\n",
    "                x = 'log2FoldChange',\n",
    "                y = 'padj', pCutoff=0.05)"
   ]
  },
  {
   "cell_type": "code",
   "execution_count": null,
   "id": "b1ad45b5-4494-412d-8969-2481a6380591",
   "metadata": {},
   "outputs": [],
   "source": [
    "res4=results(dds_both, name=\"oxygen_treatment_normoxic.normoxic_vs_hypoxic.hypoxic\")\n",
    "\n",
    "summary(res4)\n",
    "   \n",
    "EnhancedVolcano(res4,\n",
    "                lab=NA,\n",
    "                x = 'log2FoldChange',\n",
    "                y = 'padj', pCutoff=0.05)"
   ]
  },
  {
   "cell_type": "markdown",
   "id": "87c309c8-dc86-49aa-ae30-252ec4ddc03c",
   "metadata": {},
   "source": [
    "#### can look at effect of effect (difference of differences)\n",
    "[link for example](https://hbctraining.github.io/DGE_workshop_salmon_online/lessons/04a_design_formulas.html#:~:text=The%20design%20formula%20should%20have,of%20variation%20in%20your%20data.&text=The%20tilde%20(%20~%20)%20should%20always,counts%20using%20the%20following%20formula.)"
   ]
  },
  {
   "cell_type": "code",
   "execution_count": null,
   "id": "2f37243c-2dbf-4af6-ae45-c66b1796e42e",
   "metadata": {},
   "outputs": [],
   "source": [
    "dds_both <- DESeqDataSetFromMatrix(countData = counts_gene,\n",
    "                              colData = meta,\n",
    "                              design= ~ T1_temp + T1_oxygen + T1_temp:T1_oxygen)\n",
    "# includes main effects of temp and oxygen, as well as their interaction (temp:oxygen)\n",
    "dds_both=DESeq(dds_both)\n",
    "resultsNames(dds_both)"
   ]
  },
  {
   "cell_type": "code",
   "execution_count": null,
   "id": "23a9ff65-21e8-4525-91a3-721faa0f5523",
   "metadata": {},
   "outputs": [],
   "source": [
    "res=results(dds_both, name=\"T1_temp_warm_vs_ambient\")\n",
    "\n",
    "summary(res)\n",
    "   \n",
    "EnhancedVolcano(res,\n",
    "                lab=NA,\n",
    "                x = 'log2FoldChange',\n",
    "                y = 'padj', pCutoff=0.05)"
   ]
  },
  {
   "cell_type": "code",
   "execution_count": null,
   "id": "39fd30d5-e346-4ce1-be8e-c56086760d5b",
   "metadata": {},
   "outputs": [],
   "source": [
    "res=results(dds_both, name=\"T1_oxygen_normoxic_vs_hypoxic\")\n",
    "\n",
    "summary(res)\n",
    "   \n",
    "EnhancedVolcano(res,\n",
    "                lab=NA,\n",
    "                x = 'log2FoldChange',\n",
    "                y = 'padj', pCutoff=0.05)"
   ]
  },
  {
   "cell_type": "code",
   "execution_count": null,
   "id": "f4eaebf8-f35d-4a05-b268-a2d719453860",
   "metadata": {},
   "outputs": [],
   "source": [
    "res=results(dds_both, name=\"T1_tempwarm.T1_oxygennormoxic\")\n",
    "\n",
    "summary(res)\n",
    "   \n",
    "EnhancedVolcano(res,\n",
    "                lab=NA,\n",
    "                x = 'log2FoldChange',\n",
    "                y = 'padj', pCutoff=0.05)"
   ]
  },
  {
   "cell_type": "markdown",
   "id": "d125a019-5f02-4b20-bac6-a0a60f53c82c",
   "metadata": {},
   "source": [
    "#### hypoxic warm for phase 2\n",
    "only grabbing samples that were hypoxic warm for phase 2\n",
    "this leaves normoxic ambient and hypoxic warm as phase 1 treatments, so we can look at how HW priming affects response later"
   ]
  },
  {
   "cell_type": "code",
   "execution_count": null,
   "id": "e48287f3-3f8a-4f8d-bd99-79d25e8bdd7c",
   "metadata": {},
   "outputs": [],
   "source": [
    "# looking at samples that had hypoxic warm for treatment 2\n",
    "meta_hw=meta[meta$TC2==\"hypoxic warm\",]\n",
    "dim(meta_hw)\n",
    "head(meta_hw)"
   ]
  },
  {
   "cell_type": "code",
   "execution_count": null,
   "id": "b03fe802-e344-4774-88de-d4e87ca879cf",
   "metadata": {},
   "outputs": [],
   "source": [
    "# returning T/F for samples in that specific treatment\n",
    "colnames(counts_gene) %in% meta_hw$unique_ID"
   ]
  },
  {
   "cell_type": "code",
   "execution_count": null,
   "id": "0baa6667-2170-4589-8ab5-4ce177a2007e",
   "metadata": {},
   "outputs": [],
   "source": [
    "# creating new df that only has samples with that specific treatment 2\n",
    "counts_hw = counts_gene[,colnames(counts_gene) %in% meta_hw$unique_ID, drop=FALSE]\n",
    "head(counts_hw)"
   ]
  },
  {
   "cell_type": "code",
   "execution_count": null,
   "id": "60473d9e-5c78-444d-a96d-f11a97994270",
   "metadata": {},
   "outputs": [],
   "source": [
    "# checking that things make sense\n",
    "dim(counts_hw)\n",
    "dim(counts_gene)"
   ]
  },
  {
   "cell_type": "code",
   "execution_count": null,
   "id": "a6ab8637-3415-47a6-afb6-46b5a77f8427",
   "metadata": {},
   "outputs": [],
   "source": [
    "dds_hw <- DESeqDataSetFromMatrix(countData = counts_hw,\n",
    "                              colData = meta_hw,\n",
    "                              design= ~ TC1)"
   ]
  },
  {
   "cell_type": "code",
   "execution_count": null,
   "id": "cc4dee22-7db8-4800-91e4-b1f88addbc45",
   "metadata": {},
   "outputs": [],
   "source": [
    "unique(meta_hw$TC1)"
   ]
  },
  {
   "cell_type": "code",
   "execution_count": null,
   "id": "6176e04f-c708-44ac-8622-324a785dac81",
   "metadata": {},
   "outputs": [],
   "source": [
    "# prefiltering\n",
    "keep <- rowSums(counts(dds_hw)) >= 5\n",
    "dds_hw <- dds_hw[keep,]"
   ]
  },
  {
   "cell_type": "code",
   "execution_count": null,
   "id": "e280b271-7f8d-49ec-bf57-0b49284e1c90",
   "metadata": {},
   "outputs": [],
   "source": [
    "dds_hw <- DESeq(dds_hw)\n",
    "res <- results(dds_hw)"
   ]
  },
  {
   "cell_type": "code",
   "execution_count": null,
   "id": "e53dd8a7-3125-4fd8-bf0a-3250842385cc",
   "metadata": {},
   "outputs": [],
   "source": [
    "#res\n",
    "res <- results(dds_hw, contrast=c(\"TC1\",\"normoxic.ambient\",\"hypoxic.warm\"))"
   ]
  },
  {
   "cell_type": "code",
   "execution_count": null,
   "id": "a0a7974d-9302-4bf5-b762-68e6e7def750",
   "metadata": {},
   "outputs": [],
   "source": [
    "summary(res)"
   ]
  },
  {
   "cell_type": "code",
   "execution_count": null,
   "id": "5bee1f21-8e5e-4faa-bcce-ab415092f01c",
   "metadata": {},
   "outputs": [],
   "source": [
    "plotMA(res)"
   ]
  },
  {
   "cell_type": "code",
   "execution_count": null,
   "id": "d59083a6-bfda-4834-8262-18ca6654e15e",
   "metadata": {},
   "outputs": [],
   "source": [
    "EnhancedVolcano(res,\n",
    "                lab=NA,\n",
    "                x='log2FoldChange',\n",
    "                y='padj',\n",
    "                pCutoff = 0.05)"
   ]
  },
  {
   "cell_type": "code",
   "execution_count": null,
   "id": "ad0f8849-8f92-4e21-80d9-b6a17c4ba78a",
   "metadata": {},
   "outputs": [],
   "source": [
    "resultsNames(dds_hw)"
   ]
  },
  {
   "cell_type": "code",
   "execution_count": null,
   "id": "5e26ea81-8d62-431b-b570-b237c4ac01ce",
   "metadata": {},
   "outputs": [],
   "source": [
    "res=results(dds_hw, name='TC1_normoxic.warm_vs_hypoxic.warm')"
   ]
  },
  {
   "cell_type": "code",
   "execution_count": null,
   "id": "dc8eb598-e254-45b0-acc2-9e9b371b38d9",
   "metadata": {},
   "outputs": [],
   "source": [
    "keyvals <- ifelse(\n",
    "res$log2FoldChange < -1& res$padj <0.05, \"#000066\",\n",
    "  ifelse(res$log2FoldChange > 1& res$padj <0.05,\"#FF6666\" ,\n",
    "    'grey'))\n",
    "keyvals[is.na(keyvals)] <- 'grey'\n",
    "names(keyvals)[keyvals == \"#FF6666\"] <- 'More methylation in Normoxic Warm'\n",
    "names(keyvals)[keyvals == 'grey'] <- 'Not significant'\n",
    "names(keyvals)[keyvals == \"#000066\"] <- 'More methylation in Hypoxic Warm'\n",
    "\n",
    "hw_plot <- EnhancedVolcano(res,\n",
    "    lab = NA,\n",
    "    x = 'log2FoldChange',\n",
    "    y = 'padj', # so we are using padj...\n",
    "    selectLab = rownames(res)[which(names(keyvals) %in% c('More methylation in Normoxic Warm', 'More methylation in Hypoxic Ambient'))],\n",
    "    xlab = bquote(~Log[2]~ 'fold change'),\n",
    "    pointSize = 3.5,\n",
    "    pCutoff = 0.05, # and have our p-value cutoff to 0.05\n",
    "    colCustom = keyvals,\n",
    "    colAlpha = 1,\n",
    "    legendPosition = 'left',\n",
    "    legendLabSize = 30,\n",
    "    legendIconSize = 5.0,\n",
    "    drawConnectors = TRUE,\n",
    "    widthConnectors = 1.0,\n",
    "    colConnectors = 'black',\n",
    "    arrowheads = FALSE,\n",
    "    gridlines.major = TRUE,\n",
    "    gridlines.minor = FALSE,\n",
    "    border = 'partial',\n",
    "    borderWidth = 0.5,\n",
    "    borderColour = 'black')\n",
    "hw_plot"
   ]
  },
  {
   "cell_type": "markdown",
   "id": "6a3f938b-b823-421b-b770-a7b767d8b927",
   "metadata": {},
   "source": [
    "so the above is showing all hypoxic warm samples for treatment 2 and looking at treatment 1\n",
    "* seeing more methylation in normoxic warm\n",
    "    * from summary(res) - LFC > 0 (up): 78, 0.88%\n",
    "* less/no methylation in hypoxic warm"
   ]
  },
  {
   "cell_type": "code",
   "execution_count": null,
   "id": "b3bac561-64a2-411c-8c4d-29f49fccf86d",
   "metadata": {},
   "outputs": [],
   "source": [
    "# saving the plot as a pdf file\n",
    "\n",
    "# Open a pdf file\n",
    "setwd(\"/project/pi_sarah_gignouxwolfsohn_uml_edu/julia/CE_MethylRAD_analysis_2018/CE_methyl_analysis/figures\")\n",
    "pdf(\"TC2_hw.pdf\", width=20, height=10) \n",
    "# 2. Create a plot\n",
    "hw_plot\n",
    "# Close the pdf filegb\n",
    "dev.off() "
   ]
  },
  {
   "cell_type": "code",
   "execution_count": null,
   "id": "c6d7ccf0-9c06-4ff1-a396-c55f335baf5b",
   "metadata": {},
   "outputs": [],
   "source": [
    "sig1_stress = res[which(res$padj < 0.05),] \n",
    "dim(sig1_stress)\n",
    "sig1_stress=as.data.frame(sig1_stress)\n",
    "# 51 rows for 51 p<0.05 (significant) genes"
   ]
  },
  {
   "cell_type": "code",
   "execution_count": null,
   "id": "88bbd41d-2f31-4ec6-9d98-a56da702b4e4",
   "metadata": {},
   "outputs": [],
   "source": [
    "# adding meta data \n",
    "match_rows = rownames(gtf_genes1) %in% rownames(sig1_stress)\n",
    "gtf_match = gtf_genes1[match_rows,]"
   ]
  },
  {
   "cell_type": "code",
   "execution_count": null,
   "id": "6a47d305-8a0f-4761-a54b-5f0346836167",
   "metadata": {},
   "outputs": [],
   "source": [
    "sig_hw_genes = cbind(sig1_stress, gtf_match)\n",
    "write.csv(sig_hw_genes, \"/project/pi_sarah_gignouxwolfsohn_uml_edu/julia/CE_MethylRAD_analysis_2018/CE_methyl_analysis/significant_genes/sig_hw_genes.csv\")"
   ]
  },
  {
   "cell_type": "markdown",
   "id": "9ff87846-6a46-4cfa-91cb-bb3458972b31",
   "metadata": {},
   "source": [
    "what other treatment combos can we look at for phase 2..."
   ]
  },
  {
   "cell_type": "code",
   "execution_count": null,
   "id": "e5f8b4df-7dd8-44df-9f08-91ce53416dcc",
   "metadata": {},
   "outputs": [],
   "source": [
    "unique(meta$TC2)"
   ]
  },
  {
   "cell_type": "markdown",
   "id": "a88ef96f-3b36-4c2c-8f1e-cf962aa89256",
   "metadata": {},
   "source": [
    "#### hypoxic ambient phase 2 samples\n",
    "only grabbing samples that were HA for phase 2, so phase 1 options are normoxic ambient and hypoxic ambient (just looking at the effect of dissolved oxygen)\n",
    "\n",
    "how does priming with dissolved oxygen affect response later?"
   ]
  },
  {
   "cell_type": "code",
   "execution_count": null,
   "id": "af7b7567-b2aa-4f37-934c-781e97c80cd1",
   "metadata": {},
   "outputs": [],
   "source": [
    "# filtering out only samples with HA for phase 2\n",
    "meta_ha <- filter(meta, meta$TC2 == 'hypoxic ambient')\n",
    "#meta_ha\n",
    "\n",
    "# what are the treatments of phase 1 for these samples?\n",
    "unique(meta_ha$TC1)\n",
    "# HA and NA"
   ]
  },
  {
   "cell_type": "code",
   "execution_count": null,
   "id": "9c4e89e7-70bb-4e26-8357-04a02c76f7f0",
   "metadata": {},
   "outputs": [],
   "source": [
    "# pulling out the matching samples from the counts matrix\n",
    "counts_ha = counts_gene[,colnames(counts_gene) %in% meta_ha$unique_ID, drop=FALSE]\n",
    "head(counts_ha)"
   ]
  },
  {
   "cell_type": "code",
   "execution_count": null,
   "id": "24a53a73-703a-43dd-bbc5-2683c8381700",
   "metadata": {},
   "outputs": [],
   "source": [
    "# running DESeq\n",
    "dds_ha <- DESeqDataSetFromMatrix(countData = counts_ha,\n",
    "                              colData = meta_ha,\n",
    "                              design= ~ TC1)\n",
    "\n",
    "dds_ha <- DESeq(dds_ha)\n",
    "res_ha <- results(dds_ha)\n",
    "\n",
    "summary(res_ha)"
   ]
  },
  {
   "cell_type": "code",
   "execution_count": null,
   "id": "5d5faef0-85ed-4794-8386-13d249093aab",
   "metadata": {},
   "outputs": [],
   "source": [
    "resultsNames(dds_ha)"
   ]
  },
  {
   "cell_type": "code",
   "execution_count": null,
   "id": "16d929b2-1109-43d2-bdee-cad93416793b",
   "metadata": {},
   "outputs": [],
   "source": [
    "res_ha=results(dds_ha, name='TC1_normoxic.ambient_vs_hypoxic.ambient')\n",
    "\n",
    "EnhancedVolcano(res_ha,\n",
    "                lab=NA,\n",
    "                x='log2FoldChange',\n",
    "                y='padj',\n",
    "                pCutoff = 0.05)"
   ]
  },
  {
   "cell_type": "code",
   "execution_count": null,
   "id": "aae5db22-099c-4d9d-8dcc-b5d0e30f14fb",
   "metadata": {},
   "outputs": [],
   "source": [
    "keyvals <- ifelse(\n",
    "res_ha$log2FoldChange < -1& res_ha$padj <0.05, \"#000066\",\n",
    "  ifelse(res_ha$log2FoldChange > 1& res_ha$padj <0.05,\"#FF6666\" ,\n",
    "    'grey'))\n",
    "keyvals[is.na(keyvals)] <- 'grey'\n",
    "names(keyvals)[keyvals == \"#FF6666\"] <- 'More methylation in Normoxic Ambient'\n",
    "names(keyvals)[keyvals == 'grey'] <- 'Not significant'\n",
    "names(keyvals)[keyvals == \"#000066\"] <- 'More methylation in Hypoxic Ambient'\n",
    "\n",
    "ha_plot <- EnhancedVolcano(res_ha,\n",
    "    lab = NA,\n",
    "    x = 'log2FoldChange',\n",
    "    y = 'padj', # so we are using padj...\n",
    "    selectLab = rownames(res_ha)[which(names(keyvals) %in% c('More methylation in Normoxic Ambient', 'More methylation in Hypoxic Ambient'))],\n",
    "    xlab = bquote(~Log[2]~ 'fold change'),\n",
    "    pointSize = 3.5,\n",
    "    pCutoff = 0.05, # and have our p-value cutoff to 0.05\n",
    "    colCustom = keyvals,\n",
    "    colAlpha = 1,\n",
    "    legendPosition = 'left',\n",
    "    legendLabSize = 30,\n",
    "    legendIconSize = 5.0,\n",
    "    drawConnectors = TRUE,\n",
    "    widthConnectors = 1.0,\n",
    "    colConnectors = 'black',\n",
    "    arrowheads = FALSE,\n",
    "    gridlines.major = TRUE,\n",
    "    gridlines.minor = FALSE,\n",
    "    border = 'partial',\n",
    "    borderWidth = 0.5,\n",
    "    borderColour = 'black')\n",
    "ha_plot"
   ]
  },
  {
   "cell_type": "markdown",
   "id": "ddc5189f-4c27-4093-b180-ec8bf9867b78",
   "metadata": {},
   "source": [
    "above is looking at only samples that were hypoxic ambient for phase 2\n",
    "\n",
    "#### normoxic ambient samples for phase 2 \n",
    "looking at only samples that were normoxic ambient for phase 2 treatments, phase 1 treatment options were normoxic ambient and hypoxic ambient"
   ]
  },
  {
   "cell_type": "code",
   "execution_count": null,
   "id": "4c4248ba-e247-4e8d-b426-bb074e636a49",
   "metadata": {},
   "outputs": [],
   "source": [
    "# pulling out only samples that were NA for phase 2\n",
    "meta_na <- filter(meta, meta$TC2 == 'normoxic ambient')\n",
    "# looking at the unique treatments for phase 1 of these samples\n",
    "unique(meta_na$TC1)"
   ]
  },
  {
   "cell_type": "code",
   "execution_count": null,
   "id": "f3f95c73-46db-4761-9bbd-6f62416ce451",
   "metadata": {},
   "outputs": [],
   "source": [
    "# pulling out the matching samples from the counts matrix\n",
    "counts_na = counts_gene[,colnames(counts_gene) %in% meta_na$unique_ID, drop=FALSE]\n",
    "head(counts_na)"
   ]
  },
  {
   "cell_type": "code",
   "execution_count": null,
   "id": "93087217-600a-4c37-830d-6ba87145b432",
   "metadata": {},
   "outputs": [],
   "source": [
    "# running DESeq\n",
    "dds_na <- DESeqDataSetFromMatrix(countData = counts_na,\n",
    "                              colData = meta_na,\n",
    "                              design= ~ TC1)\n",
    "\n",
    "dds_na <- DESeq(dds_na)\n",
    "res_na <- results(dds_na)\n",
    "\n",
    "summary(res_na)"
   ]
  },
  {
   "cell_type": "code",
   "execution_count": null,
   "id": "8bc05ca1-9f0f-4d99-a3b7-2a502f44e127",
   "metadata": {},
   "outputs": [],
   "source": [
    "resultsNames(dds_na)"
   ]
  },
  {
   "cell_type": "code",
   "execution_count": null,
   "id": "025134bd-e85f-4f54-9994-eeae5e5e56c8",
   "metadata": {},
   "outputs": [],
   "source": [
    "res_na=results(dds_ha, name='TC1_normoxic.ambient_vs_hypoxic.ambient')\n",
    "\n",
    "keyvals <- ifelse(\n",
    "res_na$log2FoldChange < -1& res_na$padj <0.05, \"#000066\",\n",
    "  ifelse(res_na$log2FoldChange > 1& res_na$padj <0.05,\"#FF6666\" ,\n",
    "    'grey'))\n",
    "keyvals[is.na(keyvals)] <- 'grey'\n",
    "names(keyvals)[keyvals == \"#FF6666\"] <- 'More methylation in Normoxic Ambient'\n",
    "names(keyvals)[keyvals == 'grey'] <- 'Not significant'\n",
    "names(keyvals)[keyvals == \"#000066\"] <- 'More methylation in Hypoxic Ambient'\n",
    "\n",
    "na_plot <- EnhancedVolcano(res_na,\n",
    "    lab = NA,\n",
    "    x = 'log2FoldChange',\n",
    "    y = 'padj', # so we are using padj...\n",
    "    selectLab = rownames(res_na)[which(names(keyvals) %in% c('More methylation in Normoxic Ambient', 'More methylation in Hypoxic Ambient'))],\n",
    "    xlab = bquote(~Log[2]~ 'fold change'),\n",
    "    pointSize = 3.5,\n",
    "    pCutoff = 0.05, # and have our p-value cutoff to 0.05\n",
    "    colCustom = keyvals,\n",
    "    colAlpha = 1,\n",
    "    legendPosition = 'left',\n",
    "    legendLabSize = 30,\n",
    "    legendIconSize = 5.0,\n",
    "    drawConnectors = TRUE,\n",
    "    widthConnectors = 1.0,\n",
    "    colConnectors = 'black',\n",
    "    arrowheads = FALSE,\n",
    "    gridlines.major = TRUE,\n",
    "    gridlines.minor = FALSE,\n",
    "    border = 'partial',\n",
    "    borderWidth = 0.5,\n",
    "    borderColour = 'black')\n",
    "na_plot"
   ]
  },
  {
   "cell_type": "markdown",
   "id": "283c2494-5f81-4d83-bbbe-e11e904494b1",
   "metadata": {},
   "source": [
    "above is looking at normoxic ambient samples for phase 2"
   ]
  },
  {
   "cell_type": "markdown",
   "id": "3d472c03-b6aa-4bc0-8e77-5108332a5284",
   "metadata": {},
   "source": [
    "#### design= ~TC1\n",
    "\n",
    "this is using *all* samples and looking at TC1 as the design value"
   ]
  },
  {
   "cell_type": "code",
   "execution_count": null,
   "id": "8c874577-81b6-43b4-b086-0b5928f9d775",
   "metadata": {},
   "outputs": [],
   "source": [
    "dds_TC1 <- DESeqDataSetFromMatrix(countData = counts_gene,\n",
    "                              colData = meta,\n",
    "                              design= ~ TC1)\n",
    "dds_TC1=DESeq(dds_TC1)"
   ]
  },
  {
   "cell_type": "code",
   "execution_count": null,
   "id": "e3256d83-51d2-4943-b5f7-b0793e788a23",
   "metadata": {},
   "outputs": [],
   "source": [
    "resultsNames(dds_TC1)"
   ]
  },
  {
   "cell_type": "markdown",
   "id": "aa02288e-2ead-475e-b0a5-afe75364cc7a",
   "metadata": {},
   "source": [
    "TC1 hypoxic warm vs hypoxic ambient "
   ]
  },
  {
   "cell_type": "code",
   "execution_count": null,
   "id": "394b4dfe-1e06-493b-b74a-3a83987584eb",
   "metadata": {},
   "outputs": [],
   "source": [
    "res_TC1=results(dds_TC1, name=\"TC1_hypoxic.warm_vs_hypoxic.ambient\")\n",
    "    \n",
    "sig1_TC1 = res[which(res$padj < 0.05), ]\n",
    "     \n",
    "dim(sig1_TC1)\n",
    "\n",
    "summary(res_TC1)\n",
    "   \n",
    "EnhancedVolcano(res_TC1,\n",
    "                lab=NA,\n",
    "                x = 'log2FoldChange',\n",
    "                y = 'padj', pCutoff = 0.05)\n"
   ]
  },
  {
   "cell_type": "code",
   "execution_count": null,
   "id": "b8e19ceb-e651-4ade-91ef-09c820186527",
   "metadata": {},
   "outputs": [],
   "source": [
    "keyvals <- ifelse(\n",
    "res_TC1$log2FoldChange < -1& res_TC1$padj <0.05, \"#000066\",\n",
    "  ifelse(res_TC1$log2FoldChange > 1& res_TC1$padj <0.05,\"#FF6666\" ,\n",
    "    'grey'))\n",
    "keyvals[is.na(keyvals)] <- 'grey'\n",
    "names(keyvals)[keyvals == \"#FF6666\"] <- 'More methylation in Hypoxic Warm'\n",
    "names(keyvals)[keyvals == 'grey'] <- 'Not significant'\n",
    "names(keyvals)[keyvals == \"#000066\"] <- 'More methylation in Hypoxic Ambient'\n",
    "\n",
    "TC1_hw_ha_plot <- EnhancedVolcano(res_TC1,\n",
    "    lab = NA,\n",
    "    x = 'log2FoldChange',\n",
    "    y = 'padj',\n",
    "    selectLab = rownames(res_TC1)[which(names(keyvals) %in% c('More methylation in Hypoxic Warm', 'More methylation in Hypoxic Ambient'))],\n",
    "    xlab = bquote(~Log[2]~ 'fold change'),\n",
    "    pointSize = 3.5,\n",
    "    pCutoff = 0.05,\n",
    "    colCustom = keyvals,\n",
    "    colAlpha = 1,\n",
    "    legendPosition = 'left',\n",
    "    legendLabSize = 30,\n",
    "    legendIconSize = 5.0,\n",
    "    drawConnectors = TRUE,\n",
    "    widthConnectors = 1.0,\n",
    "    colConnectors = 'black',\n",
    "    arrowheads = FALSE,\n",
    "    gridlines.major = TRUE,\n",
    "    gridlines.minor = FALSE,\n",
    "    border = 'partial',\n",
    "    borderWidth = 0.5,\n",
    "    borderColour = 'black')\n",
    "TC1_hw_ha_plot"
   ]
  },
  {
   "cell_type": "markdown",
   "id": "42921335-3b2a-4148-8cd7-abae7a5c6b41",
   "metadata": {},
   "source": [
    "TC1 normoxic warm vs hypoxic ambient "
   ]
  },
  {
   "cell_type": "code",
   "execution_count": null,
   "id": "01056040-51e0-43a7-914a-5f766e970f9d",
   "metadata": {},
   "outputs": [],
   "source": [
    "## this one has a lot of differential methylation\n",
    "# same deal, all samples, design=~TC1\n",
    "res_nw_ha=results(dds_TC1, name=\"TC1_normoxic.warm_vs_hypoxic.ambient\")\n",
    "    \n",
    "sig1_nw_ha = res_nw_ha[which(res_nw_ha$padj < 0.05), ]\n",
    "     \n",
    "dim(sig1_nw_ha)\n",
    "\n",
    "summary(res_nw_ha)\n",
    "\n",
    "EnhancedVolcano(res_nw_ha,\n",
    "                lab=NA,\n",
    "                x = 'log2FoldChange',\n",
    "                y = 'padj',pCutoff=0.05)"
   ]
  },
  {
   "cell_type": "code",
   "execution_count": null,
   "id": "ebdcfabd-a659-402b-808b-e74b652d2ea9",
   "metadata": {},
   "outputs": [],
   "source": [
    "keyvals <- ifelse(\n",
    "res_nw_ha$log2FoldChange < -1& res_nw_ha$padj <0.05, \"#000066\",\n",
    "  ifelse(res_nw_ha$log2FoldChange > 1& res_nw_ha$padj <0.05,\"#FF6666\" ,\n",
    "    'grey'))\n",
    "keyvals[is.na(keyvals)] <- 'grey'\n",
    "names(keyvals)[keyvals == \"#FF6666\"] <- 'More methylation in Normoxic Warm'\n",
    "names(keyvals)[keyvals == 'grey'] <- 'Not significant'\n",
    "names(keyvals)[keyvals == \"#000066\"] <- 'More methylation in Hypoxic Ambient'"
   ]
  },
  {
   "cell_type": "code",
   "execution_count": null,
   "id": "847157d7-7141-4a8f-b416-3e133b85a721",
   "metadata": {},
   "outputs": [],
   "source": [
    "TC1_nw_ha_plot <- EnhancedVolcano(res_nw_ha,\n",
    "    lab = NA,\n",
    "    x = 'log2FoldChange',\n",
    "    y = 'padj',\n",
    "    selectLab = rownames(res_nw_ha)[which(names(keyvals) %in% c('More methylation in Normoxic Warm', 'More methylation in Hypoxic Ambient'))],\n",
    "    xlab = bquote(~Log[2]~ 'fold change'),\n",
    "    pointSize = 3.5,\n",
    "    pCutoff = 0.05,\n",
    "    colCustom = keyvals,\n",
    "    colAlpha = 1,\n",
    "    legendPosition = 'left',\n",
    "    legendLabSize = 30,\n",
    "    legendIconSize = 5.0,\n",
    "    drawConnectors = TRUE,\n",
    "    widthConnectors = 1.0,\n",
    "    colConnectors = 'black',\n",
    "    arrowheads = FALSE,\n",
    "    gridlines.major = TRUE,\n",
    "    gridlines.minor = FALSE,\n",
    "    border = 'partial',\n",
    "    borderWidth = 0.5,\n",
    "    borderColour = 'black')\n",
    "TC1_nw_ha_plot"
   ]
  },
  {
   "cell_type": "markdown",
   "id": "64ed439a-6b76-48ad-b1e6-7b6e1f32fa64",
   "metadata": {},
   "source": [
    "methylation differences between TC1 (phase one treatment conditions) as the design"
   ]
  },
  {
   "cell_type": "markdown",
   "id": "6eb66d3a-0cd4-46e8-bc06-511293d9cde6",
   "metadata": {},
   "source": [
    "saving plot as PDF"
   ]
  },
  {
   "cell_type": "code",
   "execution_count": null,
   "id": "394348b5-0841-416b-8569-8f0fff9a8896",
   "metadata": {},
   "outputs": [],
   "source": [
    "# Open a pdf file\n",
    "setwd(\"/project/pi_sarah_gignouxwolfsohn_uml_edu/julia/CE_MethylRAD_analysis_2018/CE_methyl_analysis/figures\")\n",
    "pdf(\"TC1_nw_v_ha.pdf\", width=20, height=10) \n",
    "# 2. Create a plot\n",
    "TC1_plot\n",
    "# Close the pdf filegb\n",
    "dev.off() "
   ]
  },
  {
   "cell_type": "code",
   "execution_count": null,
   "id": "230f7242-9110-411c-92a1-8fc26e32e5e1",
   "metadata": {},
   "outputs": [],
   "source": [
    "summary(res)\n",
    "sig1_t=as.data.frame(sig1_t)\n",
    "head(sig1_t)\n",
    "# adding meta data \n",
    "match_rows = rownames(gtf_genes1) %in% rownames(sig1_t)\n",
    "gtf_match = gtf_genes1[match_rows,]\n",
    "\n",
    "sig_1t_stress = cbind(sig1_t, gtf_match)\n",
    "head(sig_1t_stress)\n",
    "\n",
    "write.csv(sig_1t_stress, \"/project/pi_sarah_gignouxwolfsohn_uml_edu/julia/CE_MethylRAD_analysis_2018/CE_methyl_analysis/significant_genes/sig_TC1_normoxic.warm_vs_hypoxic.ambient.csv\")"
   ]
  },
  {
   "cell_type": "markdown",
   "id": "afa615b8-b5bb-41d8-9b54-0dea759a060a",
   "metadata": {},
   "source": [
    "TC1 normoxic ambient vs hypoxic ambient"
   ]
  },
  {
   "cell_type": "code",
   "execution_count": null,
   "id": "6f59e9f3-4f10-4ef7-85dd-1563186591cd",
   "metadata": {},
   "outputs": [],
   "source": [
    "res_na_ha=results(dds_TC1, name=\"TC1_normoxic.ambient_vs_hypoxic.ambient\")\n",
    "\n",
    "sig1_na_ha = res_na_ha[which(res_na_ha$padj < 0.05), ]\n",
    "     \n",
    "dim(sig1_na_ha)\n",
    "   \n",
    "\n",
    "EnhancedVolcano(res_na_ha,\n",
    "                lab=NA,\n",
    "                x = 'log2FoldChange',\n",
    "                y = 'padj', pCutoff=0.05)"
   ]
  },
  {
   "cell_type": "markdown",
   "id": "40b1b804-e993-45c3-b1b1-eddb11e56ead",
   "metadata": {},
   "source": [
    "#### design= ~TC2"
   ]
  },
  {
   "cell_type": "code",
   "execution_count": null,
   "id": "d5317f5a-1556-4e5c-aa7d-8a1c7f26a53d",
   "metadata": {},
   "outputs": [],
   "source": [
    "dds <- DESeqDataSetFromMatrix(countData = counts_gene,\n",
    "                              colData = meta,\n",
    "                              design= ~ TC2)\n",
    "dds=DESeq(dds)\n",
    "resultsNames(dds)"
   ]
  },
  {
   "cell_type": "markdown",
   "id": "c8ae7808-5c2e-43f7-b4b6-711ba884ee7b",
   "metadata": {},
   "source": [
    "TC2 hypoxic warm vs hypoxic ambient"
   ]
  },
  {
   "cell_type": "code",
   "execution_count": null,
   "id": "17d848c4-c75a-4a24-8422-38f2aa8022e0",
   "metadata": {},
   "outputs": [],
   "source": [
    "res=results(dds, name=\"TC2_hypoxic.warm_vs_hypoxic.ambient\")\n",
    "    \n",
    "sig1_t = res[which(res$padj < 0.05), ]\n",
    "     \n",
    "dim(sig1_t)\n",
    "\n",
    "summary(res)\n",
    "   \n",
    "EnhancedVolcano(res,\n",
    "                lab=NA,\n",
    "                x = 'log2FoldChange',\n",
    "                y = 'pvalue')"
   ]
  },
  {
   "cell_type": "code",
   "execution_count": null,
   "id": "f7222edf-5769-454f-910c-97f8ecf9b52d",
   "metadata": {},
   "outputs": [],
   "source": [
    "keyvals <- ifelse(\n",
    "res$log2FoldChange < -1& res$padj <0.05, \"#000066\",\n",
    "  ifelse(res$log2FoldChange > 1& res$padj <0.05,\"#FF6666\" ,\n",
    "    'grey'))\n",
    "keyvals[is.na(keyvals)] <- 'grey'\n",
    "names(keyvals)[keyvals == \"#FF6666\"] <- 'More methylation in Hypoxic Warm'\n",
    "names(keyvals)[keyvals == 'grey'] <- 'Not significant'\n",
    "names(keyvals)[keyvals == \"#000066\"] <- 'More methylation in Hypoxic Ambient'"
   ]
  },
  {
   "cell_type": "code",
   "execution_count": null,
   "id": "25277a38-6f81-4f6d-b9bd-889ac86a10c6",
   "metadata": {},
   "outputs": [],
   "source": [
    "TC2_plot <- EnhancedVolcano(res,\n",
    "    lab = NA,\n",
    "    x = 'log2FoldChange',\n",
    "    y = 'padj',\n",
    "    selectLab = rownames(res)[which(names(keyvals) %in% c('More methylation in Normoxic Warm', 'More methylation in Hypoxic Ambient'))],\n",
    "    xlab = bquote(~Log[2]~ 'fold change'),\n",
    "    pointSize = 3.5,\n",
    "    pCutoff = 0.05,\n",
    "    colCustom = keyvals,\n",
    "    colAlpha = 1,\n",
    "    legendPosition = 'left',\n",
    "    legendLabSize = 30,\n",
    "    legendIconSize = 5.0,\n",
    "    drawConnectors = TRUE,\n",
    "    widthConnectors = 1.0,\n",
    "    colConnectors = 'black',\n",
    "    arrowheads = FALSE,\n",
    "    gridlines.major = TRUE,\n",
    "    gridlines.minor = FALSE,\n",
    "    border = 'partial',\n",
    "    borderWidth = 0.5,\n",
    "    borderColour = 'black')\n",
    "\n",
    "TC2_plot"
   ]
  },
  {
   "cell_type": "code",
   "execution_count": null,
   "id": "c7b2df57-1205-411d-83f3-8626f4ba5d43",
   "metadata": {},
   "outputs": [],
   "source": [
    "# Open a pdf file\n",
    "setwd(\"/project/pi_sarah_gignouxwolfsohn_uml_edu/julia/CE_MethylRAD_analysis_2018/CE_methyl_analysis/figures\")\n",
    "pdf(\"TC2_hw_v_ha.pdf\", width=20, height=10) \n",
    "# 2. Create a plot\n",
    "TC2_plot\n",
    "# Close the pdf file\n",
    "dev.off() "
   ]
  },
  {
   "cell_type": "markdown",
   "id": "a8537e37-9e7d-4d47-a5d1-fb8fbe539ebb",
   "metadata": {},
   "source": [
    "TC2 normoxic ambient vs hypoxic ambient"
   ]
  },
  {
   "cell_type": "code",
   "execution_count": null,
   "id": "e42db816-a2f3-404d-b574-d55d86a21020",
   "metadata": {},
   "outputs": [],
   "source": [
    "res=results(dds, name=\"TC2_normoxic.ambient_vs_hypoxic.ambient\")\n",
    "    \n",
    "sig1_t = res[which(res$padj < 0.05), ]\n",
    "     \n",
    "dim(sig1_t)\n",
    "\n",
    "summary(res)\n",
    "   \n",
    "EnhancedVolcano(res,\n",
    "                lab=NA,\n",
    "                x = 'log2FoldChange',\n",
    "                y = 'pvalue')"
   ]
  },
  {
   "cell_type": "code",
   "execution_count": null,
   "id": "90385831-3fb3-4a04-ab59-f03041396764",
   "metadata": {},
   "outputs": [],
   "source": [
    "keyvals <- ifelse(\n",
    "res$log2FoldChange < -1& res$padj <0.05, \"#000066\",\n",
    "  ifelse(res$log2FoldChange > 1& res$padj <0.05,\"#FF6666\" ,\n",
    "    'grey'))\n",
    "keyvals[is.na(keyvals)] <- 'grey'\n",
    "names(keyvals)[keyvals == \"#FF6666\"] <- 'More methylation in Normoxic Ambient'\n",
    "names(keyvals)[keyvals == 'grey'] <- 'Not significant'\n",
    "names(keyvals)[keyvals == \"#000066\"] <- 'More methylation in Hypoxic Ambient'\n",
    "\n",
    "hw_plot <- EnhancedVolcano(res,\n",
    "    lab = NA,\n",
    "    x = 'log2FoldChange',\n",
    "    y = 'padj',\n",
    "    selectLab = rownames(res)[which(names(keyvals) %in% c('More methylation in Normoxic Warm', 'More methylation in Hypoxic Ambient'))],\n",
    "    xlab = bquote(~Log[2]~ 'fold change'),\n",
    "    pointSize = 3.5,\n",
    "    pCutoff = 0.05,\n",
    "    colCustom = keyvals,\n",
    "    colAlpha = 1,\n",
    "    legendPosition = 'left',\n",
    "    legendLabSize = 30,\n",
    "    legendIconSize = 5.0,\n",
    "    drawConnectors = TRUE,\n",
    "    widthConnectors = 1.0,\n",
    "    colConnectors = 'black',\n",
    "    arrowheads = FALSE,\n",
    "    gridlines.major = TRUE,\n",
    "    gridlines.minor = FALSE,\n",
    "    border = 'partial',\n",
    "    borderWidth = 0.5,\n",
    "    borderColour = 'black')\n",
    "hw_plot"
   ]
  },
  {
   "cell_type": "code",
   "execution_count": null,
   "id": "9b6fea19-df95-4e9b-837a-bf89c0987bbe",
   "metadata": {},
   "outputs": [],
   "source": [
    "# Open a pdf file\n",
    "setwd(\"/project/pi_sarah_gignouxwolfsohn_uml_edu/julia/CE_MethylRAD_analysis_2018/CE_methyl_analysis/figures\")\n",
    "pdf(\"TC2_ha_v_na.pdf\", width=20, height=10) \n",
    "# 2. Create a plot\n",
    "hw_plot\n",
    "# Close the pdf file\n",
    "dev.off() "
   ]
  },
  {
   "cell_type": "markdown",
   "id": "09ad007f-d7b3-48f7-b209-de65732d57fc",
   "metadata": {},
   "source": [
    "#### design = ~T2_temp"
   ]
  },
  {
   "cell_type": "code",
   "execution_count": null,
   "id": "d3fca126-6914-4d22-a7dc-b5ad284d4aa7",
   "metadata": {},
   "outputs": [],
   "source": [
    "dds <- DESeqDataSetFromMatrix(countData = counts_gene,\n",
    "                              colData = meta,\n",
    "                              design= ~ T2_temp)\n",
    "dds=DESeq(dds)\n",
    "\n",
    "resultsNames(dds)"
   ]
  },
  {
   "cell_type": "code",
   "execution_count": null,
   "id": "c92da6c8-b389-4aa1-8094-817e8bf4689b",
   "metadata": {},
   "outputs": [],
   "source": [
    "res=results(dds, name=\"T2_temp_warm_vs_ambient\")\n",
    "    \n",
    "sig1_t = res[which(res$padj < 0.05), ]\n",
    "     \n",
    "dim(sig1_t)\n",
    "summary(res)\n",
    "\n",
    "EnhancedVolcano(res,\n",
    "                lab=NA,\n",
    "                x = 'log2FoldChange',\n",
    "                y = 'pvalue')"
   ]
  },
  {
   "cell_type": "markdown",
   "id": "b95a01cb-c3bc-40d6-974c-6b15b735fd90",
   "metadata": {},
   "source": [
    "#### design = ~T1_temp"
   ]
  },
  {
   "cell_type": "code",
   "execution_count": null,
   "id": "b9835c03-a338-4d17-b630-ba29e40a8e92",
   "metadata": {},
   "outputs": [],
   "source": [
    "dds <- DESeqDataSetFromMatrix(countData = counts_gene,\n",
    "                              colData = meta,\n",
    "                              design= ~ T1_temp)\n",
    "dds=DESeq(dds)\n",
    "\n",
    "resultsNames(dds)"
   ]
  },
  {
   "cell_type": "code",
   "execution_count": null,
   "id": "8858590f-eac7-445d-b350-c8c3b73dea35",
   "metadata": {},
   "outputs": [],
   "source": [
    "res=results(dds, name=\"T1_temp_warm_vs_ambient\")\n",
    "    \n",
    "sig1_t = res[which(res$padj < 0.05), ]\n",
    "     \n",
    "dim(sig1_t)\n",
    "   \n",
    "\n",
    "EnhancedVolcano(res,\n",
    "                lab=NA,\n",
    "                x = 'log2FoldChange',\n",
    "                y = 'pvalue')"
   ]
  },
  {
   "cell_type": "code",
   "execution_count": null,
   "id": "50a8a1ee-9c09-4321-9f90-5ffc7d186c98",
   "metadata": {},
   "outputs": [],
   "source": [
    "keyvals <- ifelse(\n",
    "res$log2FoldChange < -1& res$padj <0.05, \"#000066\",\n",
    "  ifelse(res$log2FoldChange > 1& res$padj <0.05,\"#FF6666\" ,\n",
    "    'grey'))\n",
    "keyvals[is.na(keyvals)] <- 'grey'\n",
    "names(keyvals)[keyvals == \"#FF6666\"] <- 'More methylation in Warm'\n",
    "names(keyvals)[keyvals == 'grey'] <- 'Not significant'\n",
    "names(keyvals)[keyvals == \"#000066\"] <- 'More methylation in Ambient'"
   ]
  },
  {
   "cell_type": "code",
   "execution_count": null,
   "id": "0e142871-cd4f-4f0e-baa6-2bd231501094",
   "metadata": {},
   "outputs": [],
   "source": [
    "T1temp_plot <- EnhancedVolcano(res,\n",
    "    lab = NA,\n",
    "    x = 'log2FoldChange',\n",
    "    y = 'padj',\n",
    "    selectLab = rownames(res)[which(names(keyvals) %in% c('More methylation in Normoxic Warm', 'More methylation in Hypoxic Ambient'))],\n",
    "    xlab = bquote(~Log[2]~ 'fold change'),\n",
    "    pointSize = 3.5,\n",
    "    pCutoff = 0.05,\n",
    "    colCustom = keyvals,\n",
    "    colAlpha = 1,\n",
    "    legendPosition = 'left',\n",
    "    legendLabSize = 30,\n",
    "    legendIconSize = 5.0,\n",
    "    drawConnectors = TRUE,\n",
    "    widthConnectors = 1.0,\n",
    "    colConnectors = 'black',\n",
    "    arrowheads = FALSE,\n",
    "    gridlines.major = TRUE,\n",
    "    gridlines.minor = FALSE,\n",
    "    border = 'partial',\n",
    "    borderWidth = 0.5,\n",
    "    borderColour = 'black')\n",
    "\n",
    "T1temp_plot"
   ]
  },
  {
   "cell_type": "markdown",
   "id": "08f01bb2-cf7e-4f59-8b89-e0a3def2ef7d",
   "metadata": {},
   "source": [
    "saving as pdf"
   ]
  },
  {
   "cell_type": "code",
   "execution_count": null,
   "id": "0eb3b124-20ce-4a4a-b0df-4d13a7104307",
   "metadata": {},
   "outputs": [],
   "source": [
    "# Open a pdf file\n",
    "setwd(\"/project/pi_sarah_gignouxwolfsohn_uml_edu/julia/CE_MethylRAD_analysis_2018/CE_methyl_analysis/figures\")\n",
    "pdf(\"T1_temp.pdf\", width=20, height=10) \n",
    "# 2. Create a plot\n",
    "T1temp_plot\n",
    "# Close the pdf filegb\n",
    "dev.off() "
   ]
  },
  {
   "cell_type": "markdown",
   "id": "5c570f75-ebb8-4e03-9f0b-f044ae673a40",
   "metadata": {},
   "source": [
    "saving significant genes into a csv file"
   ]
  },
  {
   "cell_type": "code",
   "execution_count": null,
   "id": "1f4dbe6e-13ad-44ee-ae50-ff7de26b3b1a",
   "metadata": {},
   "outputs": [],
   "source": [
    "summary(res)\n",
    "sig1_t=as.data.frame(sig1_t)\n",
    "head(sig1_t)\n",
    "# adding meta data \n",
    "match_rows = rownames(gtf_genes1) %in% rownames(sig1_t)\n",
    "gtf_match = gtf_genes1[match_rows,]\n",
    "\n",
    "sig_1t_stress = cbind(sig1_t, gtf_match)\n",
    "head(sig_1t_stress)\n",
    "\n",
    "write.csv(sig_1t_stress, \"/project/pi_sarah_gignouxwolfsohn_uml_edu/julia/CE_MethylRAD_analysis_2018/CE_methyl_analysis/significant_genes/sig_T1_temp.csv\")"
   ]
  },
  {
   "cell_type": "markdown",
   "id": "38d205ff-aac4-44db-9e61-326a27e2ce76",
   "metadata": {},
   "source": [
    "#### design = ~T1_oxygen"
   ]
  },
  {
   "cell_type": "code",
   "execution_count": null,
   "id": "549e25f1-596e-42aa-8c89-9c57eac53537",
   "metadata": {},
   "outputs": [],
   "source": [
    "dds <- DESeqDataSetFromMatrix(countData = counts_gene,\n",
    "                              colData = meta,\n",
    "                              design= ~ T1_oxygen)\n",
    "dds=DESeq(dds)\n",
    "\n",
    "resultsNames(dds)"
   ]
  },
  {
   "cell_type": "code",
   "execution_count": null,
   "id": "8ec2df39-a238-4f4a-9eb1-a29c635ac685",
   "metadata": {},
   "outputs": [],
   "source": [
    "res=results(dds, name=\"T1_oxygen_normoxic_vs_hypoxic\")\n",
    "    \n",
    "sig1_t = res[which(res$padj < 0.05), ]\n",
    "     \n",
    "dim(sig1_t)\n",
    "\n",
    "summary(res)\n",
    "   \n",
    "\n",
    "EnhancedVolcano(res,\n",
    "                lab=NA,\n",
    "                x = 'log2FoldChange',\n",
    "                y = 'pvalue')"
   ]
  },
  {
   "cell_type": "code",
   "execution_count": null,
   "id": "d605f305-abf1-4684-9198-c1055d058657",
   "metadata": {},
   "outputs": [],
   "source": [
    "keyvals <- ifelse(\n",
    "res$log2FoldChange < -1& res$padj <0.05, \"#000066\",\n",
    "  ifelse(res$log2FoldChange > 1& res$padj <0.05,\"#FF6666\" ,\n",
    "    'grey'))\n",
    "keyvals[is.na(keyvals)] <- 'grey'\n",
    "names(keyvals)[keyvals == \"#FF6666\"] <- 'More methylation in Normoxic'\n",
    "names(keyvals)[keyvals == 'grey'] <- 'Not significant'\n",
    "names(keyvals)[keyvals == \"#000066\"] <- 'More methylation in Hypoxic'\n",
    "\n",
    "hw_plot <- EnhancedVolcano(res,\n",
    "    lab = NA,\n",
    "    x = 'log2FoldChange',\n",
    "    y = 'padj',\n",
    "    selectLab = rownames(res)[which(names(keyvals) %in% c('More methylation in Normoxic Warm', 'More methylation in Hypoxic Ambient'))],\n",
    "    xlab = bquote(~Log[2]~ 'fold change'),\n",
    "    pointSize = 3.5,\n",
    "    pCutoff = 0.05,\n",
    "    colCustom = keyvals,\n",
    "    colAlpha = 1,\n",
    "    legendPosition = 'left',\n",
    "    legendLabSize = 30,\n",
    "    legendIconSize = 5.0,\n",
    "    drawConnectors = TRUE,\n",
    "    widthConnectors = 1.0,\n",
    "    colConnectors = 'black',\n",
    "    arrowheads = FALSE,\n",
    "    gridlines.major = TRUE,\n",
    "    gridlines.minor = FALSE,\n",
    "    border = 'partial',\n",
    "    borderWidth = 0.5,\n",
    "    borderColour = 'black')\n",
    "hw_plot\n",
    "\n",
    "# Open a pdf file\n",
    "setwd(\"/project/pi_sarah_gignouxwolfsohn_uml_edu/julia/CE_MethylRAD_analysis_2018/CE_methyl_analysis/figures\")\n",
    "pdf(\"T1_oxygen.pdf\", width=20, height=10) \n",
    "# 2. Create a plot\n",
    "hw_plot\n",
    "# Close the pdf file\n",
    "dev.off() "
   ]
  },
  {
   "cell_type": "markdown",
   "id": "99075470-4d68-4248-b160-6e710d3479d0",
   "metadata": {},
   "source": [
    "#### design = ~T2_oxygen"
   ]
  },
  {
   "cell_type": "code",
   "execution_count": null,
   "id": "10946f23-ab35-43bb-9560-011d8c49106a",
   "metadata": {},
   "outputs": [],
   "source": [
    "dds <- DESeqDataSetFromMatrix(countData = counts_gene,\n",
    "                              colData = meta,\n",
    "                              design= ~ T2_oxygen)\n",
    "dds=DESeq(dds)\n",
    "\n",
    "resultsNames(dds)"
   ]
  },
  {
   "cell_type": "code",
   "execution_count": null,
   "id": "853774f8-4a46-4720-93dc-04ce0c607902",
   "metadata": {},
   "outputs": [],
   "source": [
    "res=results(dds, name=\"T2_oxygen_normoxic_vs_hypoxic\")\n",
    "    \n",
    "sig1_t = res[which(res$padj < 0.05), ]\n",
    "     \n",
    "dim(sig1_t)\n",
    "   \n",
    "\n",
    "EnhancedVolcano(res,\n",
    "                lab=NA,\n",
    "                x = 'log2FoldChange',\n",
    "                y = 'pvalue')"
   ]
  },
  {
   "cell_type": "markdown",
   "id": "36615ba7-24a5-45cd-932d-f3f5bfed4b38",
   "metadata": {},
   "source": [
    "doesn't seem that oxygen has a big impact/influence on methylation "
   ]
  },
  {
   "cell_type": "markdown",
   "id": "1d79fc69-ae92-44cf-8ea2-56ad43f49826",
   "metadata": {},
   "source": [
    "#### looking at carryover effects"
   ]
  },
  {
   "cell_type": "code",
   "execution_count": null,
   "id": "94c3c717-b49b-409b-8b18-e7c06ca18231",
   "metadata": {},
   "outputs": [],
   "source": [
    "head(meta)"
   ]
  },
  {
   "cell_type": "code",
   "execution_count": null,
   "id": "bd859d31-c8d5-4b24-a349-d083271f153e",
   "metadata": {},
   "outputs": [],
   "source": [
    "meta$all_TC = paste(meta$TC1, meta$TC2)"
   ]
  },
  {
   "cell_type": "code",
   "execution_count": null,
   "id": "2f302bbc-6fb0-487b-af14-84e25bd63c72",
   "metadata": {},
   "outputs": [],
   "source": [
    "unique(meta$all_TC)"
   ]
  },
  {
   "cell_type": "code",
   "execution_count": null,
   "id": "6d23983d-aef4-45e7-9156-0525153e6350",
   "metadata": {},
   "outputs": [],
   "source": [
    "dds <- DESeqDataSetFromMatrix(countData = counts_gene,\n",
    "                              colData = meta,\n",
    "                              design= ~ all_TC)\n",
    "dds=DESeq(dds)\n",
    "\n",
    "resultsNames(dds)"
   ]
  },
  {
   "cell_type": "code",
   "execution_count": null,
   "id": "b20fa44b-cf47-42e0-adfb-fcfd1e54bd7f",
   "metadata": {},
   "outputs": [],
   "source": [
    "res=results(dds, name=\"all_TC_hypoxic.ambient.normoxic.ambient_vs_hypoxic.ambient.hypoxic.ambient\")\n",
    "    \n",
    "sig = res[which(res$padj < 0.05), ]\n",
    "     \n",
    "dim(sig)\n",
    "\n",
    "summary(res)\n",
    "\n",
    "EnhancedVolcano(res,\n",
    "                lab=NA,\n",
    "                x = 'log2FoldChange',\n",
    "                y = 'pvalue')"
   ]
  },
  {
   "cell_type": "code",
   "execution_count": null,
   "id": "bb77e1b2-43d6-4f8d-9f7a-e8a6d3ea4e73",
   "metadata": {},
   "outputs": [],
   "source": [
    "res=results(dds, name=\"all_TC_hypoxic.warm.hypoxic.warm_vs_hypoxic.ambient.hypoxic.ambient\")\n",
    "    \n",
    "sig = res[which(res$padj < 0.05), ]\n",
    "     \n",
    "dim(sig)\n",
    "\n",
    "summary(res)\n",
    "\n",
    "EnhancedVolcano(res,\n",
    "                lab=NA,\n",
    "                x = 'log2FoldChange',\n",
    "                y = 'pvalue')"
   ]
  },
  {
   "cell_type": "code",
   "execution_count": null,
   "id": "40e1f065-efba-48d0-bc52-a1e72e67f1a7",
   "metadata": {},
   "outputs": [],
   "source": [
    "res=results(dds, name=\"all_TC_normoxic.ambient.hypoxic.ambient_vs_hypoxic.ambient.hypoxic.ambient\")\n",
    "    \n",
    "sig = res[which(res$padj < 0.05), ]\n",
    "     \n",
    "dim(sig)\n",
    "\n",
    "summary(res)\n",
    "\n",
    "EnhancedVolcano(res,\n",
    "                lab=NA,\n",
    "                x = 'log2FoldChange',\n",
    "                y = 'pvalue')"
   ]
  },
  {
   "cell_type": "code",
   "execution_count": null,
   "id": "a770de7f-9348-4e96-b285-74d554d42adc",
   "metadata": {},
   "outputs": [],
   "source": [
    "res=results(dds, name=\"all_TC_normoxic.ambient.normoxic.ambient_vs_hypoxic.ambient.hypoxic.ambient\")\n",
    "    \n",
    "sig = res[which(res$padj < 0.05), ]\n",
    "     \n",
    "dim(sig)\n",
    "\n",
    "summary(res)\n",
    "\n",
    "EnhancedVolcano(res,\n",
    "                lab=NA,\n",
    "                x = 'log2FoldChange',\n",
    "                y = 'pvalue')"
   ]
  },
  {
   "cell_type": "code",
   "execution_count": null,
   "id": "b7863d6f-71e1-46ef-9289-32db01c9c74a",
   "metadata": {},
   "outputs": [],
   "source": [
    "res=results(dds, name=\"all_TC_normoxic.warm.hypoxic.warm_vs_hypoxic.ambient.hypoxic.ambient\")\n",
    "    \n",
    "sig = res[which(res$padj < 0.05), ]\n",
    "     \n",
    "dim(sig)\n",
    "\n",
    "summary(res)\n",
    "\n",
    "EnhancedVolcano(res,\n",
    "                lab=NA,\n",
    "                x = 'log2FoldChange',\n",
    "                y = 'pvalue')"
   ]
  },
  {
   "cell_type": "code",
   "execution_count": null,
   "id": "faad62a8-2d12-4bd3-920b-e1aa7009a085",
   "metadata": {},
   "outputs": [],
   "source": [
    "keyvals <- ifelse(\n",
    "res$log2FoldChange < -1& res$padj <0.05, \"#000066\",\n",
    "  ifelse(res$log2FoldChange > 1& res$padj <0.05,\"#FF6666\" ,\n",
    "    'grey'))\n",
    "keyvals[is.na(keyvals)] <- 'grey'\n",
    "names(keyvals)[keyvals == \"#FF6666\"] <- 'More methylation in normoxic.warm.hypoxic.warm'\n",
    "names(keyvals)[keyvals == 'grey'] <- 'Not significant'\n",
    "names(keyvals)[keyvals == \"#000066\"] <- 'More methylation in hypoxic.ambient.hypoxic.ambient'"
   ]
  },
  {
   "cell_type": "code",
   "execution_count": null,
   "id": "049a1ea2-ec9c-460c-8e40-ac2193e9901b",
   "metadata": {},
   "outputs": [],
   "source": [
    "T1temp_plot <- EnhancedVolcano(res,\n",
    "    lab = NA,\n",
    "    x = 'log2FoldChange',\n",
    "    y = 'padj',\n",
    "    selectLab = rownames(res)[which(names(keyvals) %in% c('More methylation in Normoxic Warm', 'More methylation in Hypoxic Ambient'))],\n",
    "    xlab = bquote(~Log[2]~ 'fold change'),\n",
    "    pointSize = 3.5,\n",
    "    pCutoff = 0.05,\n",
    "    colCustom = keyvals,\n",
    "    colAlpha = 1,\n",
    "    legendPosition = 'left',\n",
    "    legendLabSize = 30,\n",
    "    legendIconSize = 5.0,\n",
    "    drawConnectors = TRUE,\n",
    "    widthConnectors = 1.0,\n",
    "    colConnectors = 'black',\n",
    "    arrowheads = FALSE,\n",
    "    gridlines.major = TRUE,\n",
    "    gridlines.minor = FALSE,\n",
    "    border = 'partial',\n",
    "    borderWidth = 0.5,\n",
    "    borderColour = 'black')\n",
    "\n",
    "T1temp_plot"
   ]
  }
 ],
 "metadata": {
  "kernelspec": {
   "display_name": "R [conda env:.conda-r-env]",
   "language": "R",
   "name": "conda-env-.conda-r-env-r"
  },
  "language_info": {
   "codemirror_mode": "r",
   "file_extension": ".r",
   "mimetype": "text/x-r-source",
   "name": "R",
   "pygments_lexer": "r",
   "version": "4.3.2"
  }
 },
 "nbformat": 4,
 "nbformat_minor": 5
}
