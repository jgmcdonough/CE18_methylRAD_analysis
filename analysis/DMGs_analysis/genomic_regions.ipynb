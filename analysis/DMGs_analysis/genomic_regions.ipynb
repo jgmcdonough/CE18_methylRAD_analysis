{
 "cells": [
  {
   "cell_type": "markdown",
   "id": "41e5eac8-b7db-48da-9573-43191080b48b",
   "metadata": {},
   "source": [
    "# Characterizing genomic regions\n",
    "I am interested in knowing where the methylation is happening (i.e., exons, introns, promoters, etc.) - I believe I should be able to figure this all out from the annotation file from NCBI [gff file](https://www.ncbi.nlm.nih.gov/datasets/genome/GCF_002022765.2/)\n",
    "\n",
    "following pipeline from [Venkataraman et al 2022](https://github.com/epigeneticstoocean/paper-gonad-meth/tree/master)\n",
    "\n",
    "\n",
    "## 0. library setup and file processing"
   ]
  },
  {
   "cell_type": "code",
   "execution_count": 1,
   "id": "f88d9002-c2fe-4da0-b339-9681ce15c3f4",
   "metadata": {},
   "outputs": [
    {
     "name": "stderr",
     "output_type": "stream",
     "text": [
      "── \u001b[1mAttaching core tidyverse packages\u001b[22m ──────────────────────── tidyverse 2.0.0 ──\n",
      "\u001b[32m✔\u001b[39m \u001b[34mdplyr    \u001b[39m 1.1.4     \u001b[32m✔\u001b[39m \u001b[34mreadr    \u001b[39m 2.1.4\n",
      "\u001b[32m✔\u001b[39m \u001b[34mforcats  \u001b[39m 1.0.0     \u001b[32m✔\u001b[39m \u001b[34mstringr  \u001b[39m 1.5.1\n",
      "\u001b[32m✔\u001b[39m \u001b[34mggplot2  \u001b[39m 3.5.1     \u001b[32m✔\u001b[39m \u001b[34mtibble   \u001b[39m 3.2.1\n",
      "\u001b[32m✔\u001b[39m \u001b[34mlubridate\u001b[39m 1.9.3     \u001b[32m✔\u001b[39m \u001b[34mtidyr    \u001b[39m 1.3.0\n",
      "\u001b[32m✔\u001b[39m \u001b[34mpurrr    \u001b[39m 1.0.2     \n",
      "── \u001b[1mConflicts\u001b[22m ────────────────────────────────────────── tidyverse_conflicts() ──\n",
      "\u001b[31m✖\u001b[39m \u001b[34mdplyr\u001b[39m::\u001b[32mfilter()\u001b[39m masks \u001b[34mstats\u001b[39m::filter()\n",
      "\u001b[31m✖\u001b[39m \u001b[34mdplyr\u001b[39m::\u001b[32mlag()\u001b[39m    masks \u001b[34mstats\u001b[39m::lag()\n",
      "\u001b[36mℹ\u001b[39m Use the conflicted package (\u001b[3m\u001b[34m<http://conflicted.r-lib.org/>\u001b[39m\u001b[23m) to force all conflicts to become errors\n",
      "\n",
      "Attaching package: ‘ape’\n",
      "\n",
      "\n",
      "The following object is masked from ‘package:dplyr’:\n",
      "\n",
      "    where\n",
      "\n",
      "\n",
      "Loading required package: GenomicRanges\n",
      "\n",
      "Loading required package: stats4\n",
      "\n",
      "Loading required package: BiocGenerics\n",
      "\n",
      "\n",
      "Attaching package: ‘BiocGenerics’\n",
      "\n",
      "\n",
      "The following objects are masked from ‘package:lubridate’:\n",
      "\n",
      "    intersect, setdiff, union\n",
      "\n",
      "\n",
      "The following objects are masked from ‘package:dplyr’:\n",
      "\n",
      "    combine, intersect, setdiff, union\n",
      "\n",
      "\n",
      "The following objects are masked from ‘package:stats’:\n",
      "\n",
      "    IQR, mad, sd, var, xtabs\n",
      "\n",
      "\n",
      "The following objects are masked from ‘package:base’:\n",
      "\n",
      "    anyDuplicated, aperm, append, as.data.frame, basename, cbind,\n",
      "    colnames, dirname, do.call, duplicated, eval, evalq, Filter, Find,\n",
      "    get, grep, grepl, intersect, is.unsorted, lapply, Map, mapply,\n",
      "    match, mget, order, paste, pmax, pmax.int, pmin, pmin.int,\n",
      "    Position, rank, rbind, Reduce, rownames, sapply, setdiff, sort,\n",
      "    table, tapply, union, unique, unsplit, which.max, which.min\n",
      "\n",
      "\n",
      "Loading required package: S4Vectors\n",
      "\n",
      "\n",
      "Attaching package: ‘S4Vectors’\n",
      "\n",
      "\n",
      "The following objects are masked from ‘package:lubridate’:\n",
      "\n",
      "    second, second<-\n",
      "\n",
      "\n",
      "The following objects are masked from ‘package:dplyr’:\n",
      "\n",
      "    first, rename\n",
      "\n",
      "\n",
      "The following object is masked from ‘package:tidyr’:\n",
      "\n",
      "    expand\n",
      "\n",
      "\n",
      "The following object is masked from ‘package:utils’:\n",
      "\n",
      "    findMatches\n",
      "\n",
      "\n",
      "The following objects are masked from ‘package:base’:\n",
      "\n",
      "    expand.grid, I, unname\n",
      "\n",
      "\n",
      "Loading required package: IRanges\n",
      "\n",
      "\n",
      "Attaching package: ‘IRanges’\n",
      "\n",
      "\n",
      "The following object is masked from ‘package:lubridate’:\n",
      "\n",
      "    %within%\n",
      "\n",
      "\n",
      "The following objects are masked from ‘package:dplyr’:\n",
      "\n",
      "    collapse, desc, slice\n",
      "\n",
      "\n",
      "The following object is masked from ‘package:purrr’:\n",
      "\n",
      "    reduce\n",
      "\n",
      "\n",
      "Loading required package: GenomeInfoDb\n",
      "\n"
     ]
    }
   ],
   "source": [
    "library(tidyverse)\n",
    "library(ape) # for read.gff function\n",
    "library(rtracklayer) "
   ]
  },
  {
   "cell_type": "code",
   "execution_count": 2,
   "id": "d0727845-f7e9-4df8-8547-ea4e7ba3987a",
   "metadata": {},
   "outputs": [],
   "source": [
    "# Load the GFF file\n",
    "gff_data <- import.gff('/project/pi_sarah_gignouxwolfsohn_uml_edu/Reference_genomes/Cvirginica_genome/CV_genomic.gff')"
   ]
  },
  {
   "cell_type": "code",
   "execution_count": 3,
   "id": "d2e40b2a-7d45-4a2a-9bbb-371e166e2be1",
   "metadata": {},
   "outputs": [
    {
     "data": {
      "text/html": [
       "<table class=\"dataframe\">\n",
       "<caption>A data.frame: 6 × 9</caption>\n",
       "<thead>\n",
       "\t<tr><th></th><th scope=col>seqid</th><th scope=col>source</th><th scope=col>type</th><th scope=col>start</th><th scope=col>end</th><th scope=col>score</th><th scope=col>strand</th><th scope=col>phase</th><th scope=col>attributes</th></tr>\n",
       "\t<tr><th></th><th scope=col>&lt;fct&gt;</th><th scope=col>&lt;fct&gt;</th><th scope=col>&lt;fct&gt;</th><th scope=col>&lt;int&gt;</th><th scope=col>&lt;int&gt;</th><th scope=col>&lt;dbl&gt;</th><th scope=col>&lt;fct&gt;</th><th scope=col>&lt;fct&gt;</th><th scope=col>&lt;chr&gt;</th></tr>\n",
       "</thead>\n",
       "<tbody>\n",
       "\t<tr><th scope=row>1</th><td>NC_035780.1</td><td>RefSeq</td><td>region </td><td>    1</td><td>65668440</td><td>NA</td><td>+</td><td>NA</td><td>ID=NC_035780.1:1..65668440;Dbxref=taxon:6565;Name=1;chromosome=1;collection-date=22-Mar-2015;country=USA;gbkey=Src;genome=chromosome;isolate=RU13XGHG1-28;isolation-source=Rutgers Haskin Shellfish Research Laboratory inbred lines (NJ);mol_type=genomic DNA;tissue-type=whole sample                                                                                                                        </td></tr>\n",
       "\t<tr><th scope=row>2</th><td>NC_035780.1</td><td>Gnomon</td><td>gene   </td><td>13578</td><td>   14594</td><td>NA</td><td>+</td><td>NA</td><td>ID=gene-LOC111116054;Dbxref=GeneID:111116054;Name=LOC111116054;gbkey=Gene;gene=LOC111116054;gene_biotype=lncRNA                                                                                                                                                                                                                                                                                                </td></tr>\n",
       "\t<tr><th scope=row>3</th><td>NC_035780.1</td><td>Gnomon</td><td>lnc_RNA</td><td>13578</td><td>   14594</td><td>NA</td><td>+</td><td>NA</td><td>ID=rna-XR_002636969.1;Parent=gene-LOC111116054;Dbxref=GeneID:111116054,Genbank:XR_002636969.1;Name=XR_002636969.1;gbkey=ncRNA;gene=LOC111116054;model_evidence=Supporting evidence includes similarity to: 100%25 coverage of the annotated genomic feature by RNAseq alignments%2C including 1 sample with support for all annotated introns;product=uncharacterized LOC111116054;transcript_id=XR_002636969.1</td></tr>\n",
       "\t<tr><th scope=row>4</th><td>NC_035780.1</td><td>Gnomon</td><td>exon   </td><td>13578</td><td>   13603</td><td>NA</td><td>+</td><td>NA</td><td>ID=exon-XR_002636969.1-1;Parent=rna-XR_002636969.1;Dbxref=GeneID:111116054,Genbank:XR_002636969.1;gbkey=ncRNA;gene=LOC111116054;product=uncharacterized LOC111116054;transcript_id=XR_002636969.1                                                                                                                                                                                                              </td></tr>\n",
       "\t<tr><th scope=row>5</th><td>NC_035780.1</td><td>Gnomon</td><td>exon   </td><td>14237</td><td>   14290</td><td>NA</td><td>+</td><td>NA</td><td>ID=exon-XR_002636969.1-2;Parent=rna-XR_002636969.1;Dbxref=GeneID:111116054,Genbank:XR_002636969.1;gbkey=ncRNA;gene=LOC111116054;product=uncharacterized LOC111116054;transcript_id=XR_002636969.1                                                                                                                                                                                                              </td></tr>\n",
       "\t<tr><th scope=row>6</th><td>NC_035780.1</td><td>Gnomon</td><td>exon   </td><td>14557</td><td>   14594</td><td>NA</td><td>+</td><td>NA</td><td>ID=exon-XR_002636969.1-3;Parent=rna-XR_002636969.1;Dbxref=GeneID:111116054,Genbank:XR_002636969.1;gbkey=ncRNA;gene=LOC111116054;product=uncharacterized LOC111116054;transcript_id=XR_002636969.1                                                                                                                                                                                                              </td></tr>\n",
       "</tbody>\n",
       "</table>\n"
      ],
      "text/latex": [
       "A data.frame: 6 × 9\n",
       "\\begin{tabular}{r|lllllllll}\n",
       "  & seqid & source & type & start & end & score & strand & phase & attributes\\\\\n",
       "  & <fct> & <fct> & <fct> & <int> & <int> & <dbl> & <fct> & <fct> & <chr>\\\\\n",
       "\\hline\n",
       "\t1 & NC\\_035780.1 & RefSeq & region  &     1 & 65668440 & NA & + & NA & ID=NC\\_035780.1:1..65668440;Dbxref=taxon:6565;Name=1;chromosome=1;collection-date=22-Mar-2015;country=USA;gbkey=Src;genome=chromosome;isolate=RU13XGHG1-28;isolation-source=Rutgers Haskin Shellfish Research Laboratory inbred lines (NJ);mol\\_type=genomic DNA;tissue-type=whole sample                                                                                                                        \\\\\n",
       "\t2 & NC\\_035780.1 & Gnomon & gene    & 13578 &    14594 & NA & + & NA & ID=gene-LOC111116054;Dbxref=GeneID:111116054;Name=LOC111116054;gbkey=Gene;gene=LOC111116054;gene\\_biotype=lncRNA                                                                                                                                                                                                                                                                                                \\\\\n",
       "\t3 & NC\\_035780.1 & Gnomon & lnc\\_RNA & 13578 &    14594 & NA & + & NA & ID=rna-XR\\_002636969.1;Parent=gene-LOC111116054;Dbxref=GeneID:111116054,Genbank:XR\\_002636969.1;Name=XR\\_002636969.1;gbkey=ncRNA;gene=LOC111116054;model\\_evidence=Supporting evidence includes similarity to: 100\\%25 coverage of the annotated genomic feature by RNAseq alignments\\%2C including 1 sample with support for all annotated introns;product=uncharacterized LOC111116054;transcript\\_id=XR\\_002636969.1\\\\\n",
       "\t4 & NC\\_035780.1 & Gnomon & exon    & 13578 &    13603 & NA & + & NA & ID=exon-XR\\_002636969.1-1;Parent=rna-XR\\_002636969.1;Dbxref=GeneID:111116054,Genbank:XR\\_002636969.1;gbkey=ncRNA;gene=LOC111116054;product=uncharacterized LOC111116054;transcript\\_id=XR\\_002636969.1                                                                                                                                                                                                              \\\\\n",
       "\t5 & NC\\_035780.1 & Gnomon & exon    & 14237 &    14290 & NA & + & NA & ID=exon-XR\\_002636969.1-2;Parent=rna-XR\\_002636969.1;Dbxref=GeneID:111116054,Genbank:XR\\_002636969.1;gbkey=ncRNA;gene=LOC111116054;product=uncharacterized LOC111116054;transcript\\_id=XR\\_002636969.1                                                                                                                                                                                                              \\\\\n",
       "\t6 & NC\\_035780.1 & Gnomon & exon    & 14557 &    14594 & NA & + & NA & ID=exon-XR\\_002636969.1-3;Parent=rna-XR\\_002636969.1;Dbxref=GeneID:111116054,Genbank:XR\\_002636969.1;gbkey=ncRNA;gene=LOC111116054;product=uncharacterized LOC111116054;transcript\\_id=XR\\_002636969.1                                                                                                                                                                                                              \\\\\n",
       "\\end{tabular}\n"
      ],
      "text/markdown": [
       "\n",
       "A data.frame: 6 × 9\n",
       "\n",
       "| <!--/--> | seqid &lt;fct&gt; | source &lt;fct&gt; | type &lt;fct&gt; | start &lt;int&gt; | end &lt;int&gt; | score &lt;dbl&gt; | strand &lt;fct&gt; | phase &lt;fct&gt; | attributes &lt;chr&gt; |\n",
       "|---|---|---|---|---|---|---|---|---|---|\n",
       "| 1 | NC_035780.1 | RefSeq | region  |     1 | 65668440 | NA | + | NA | ID=NC_035780.1:1..65668440;Dbxref=taxon:6565;Name=1;chromosome=1;collection-date=22-Mar-2015;country=USA;gbkey=Src;genome=chromosome;isolate=RU13XGHG1-28;isolation-source=Rutgers Haskin Shellfish Research Laboratory inbred lines (NJ);mol_type=genomic DNA;tissue-type=whole sample                                                                                                                         |\n",
       "| 2 | NC_035780.1 | Gnomon | gene    | 13578 |    14594 | NA | + | NA | ID=gene-LOC111116054;Dbxref=GeneID:111116054;Name=LOC111116054;gbkey=Gene;gene=LOC111116054;gene_biotype=lncRNA                                                                                                                                                                                                                                                                                                 |\n",
       "| 3 | NC_035780.1 | Gnomon | lnc_RNA | 13578 |    14594 | NA | + | NA | ID=rna-XR_002636969.1;Parent=gene-LOC111116054;Dbxref=GeneID:111116054,Genbank:XR_002636969.1;Name=XR_002636969.1;gbkey=ncRNA;gene=LOC111116054;model_evidence=Supporting evidence includes similarity to: 100%25 coverage of the annotated genomic feature by RNAseq alignments%2C including 1 sample with support for all annotated introns;product=uncharacterized LOC111116054;transcript_id=XR_002636969.1 |\n",
       "| 4 | NC_035780.1 | Gnomon | exon    | 13578 |    13603 | NA | + | NA | ID=exon-XR_002636969.1-1;Parent=rna-XR_002636969.1;Dbxref=GeneID:111116054,Genbank:XR_002636969.1;gbkey=ncRNA;gene=LOC111116054;product=uncharacterized LOC111116054;transcript_id=XR_002636969.1                                                                                                                                                                                                               |\n",
       "| 5 | NC_035780.1 | Gnomon | exon    | 14237 |    14290 | NA | + | NA | ID=exon-XR_002636969.1-2;Parent=rna-XR_002636969.1;Dbxref=GeneID:111116054,Genbank:XR_002636969.1;gbkey=ncRNA;gene=LOC111116054;product=uncharacterized LOC111116054;transcript_id=XR_002636969.1                                                                                                                                                                                                               |\n",
       "| 6 | NC_035780.1 | Gnomon | exon    | 14557 |    14594 | NA | + | NA | ID=exon-XR_002636969.1-3;Parent=rna-XR_002636969.1;Dbxref=GeneID:111116054,Genbank:XR_002636969.1;gbkey=ncRNA;gene=LOC111116054;product=uncharacterized LOC111116054;transcript_id=XR_002636969.1                                                                                                                                                                                                               |\n",
       "\n"
      ],
      "text/plain": [
       "  seqid       source type    start end      score strand phase\n",
       "1 NC_035780.1 RefSeq region      1 65668440 NA    +      NA   \n",
       "2 NC_035780.1 Gnomon gene    13578    14594 NA    +      NA   \n",
       "3 NC_035780.1 Gnomon lnc_RNA 13578    14594 NA    +      NA   \n",
       "4 NC_035780.1 Gnomon exon    13578    13603 NA    +      NA   \n",
       "5 NC_035780.1 Gnomon exon    14237    14290 NA    +      NA   \n",
       "6 NC_035780.1 Gnomon exon    14557    14594 NA    +      NA   \n",
       "  attributes                                                                                                                                                                                                                                                                                                                                                                                                     \n",
       "1 ID=NC_035780.1:1..65668440;Dbxref=taxon:6565;Name=1;chromosome=1;collection-date=22-Mar-2015;country=USA;gbkey=Src;genome=chromosome;isolate=RU13XGHG1-28;isolation-source=Rutgers Haskin Shellfish Research Laboratory inbred lines (NJ);mol_type=genomic DNA;tissue-type=whole sample                                                                                                                        \n",
       "2 ID=gene-LOC111116054;Dbxref=GeneID:111116054;Name=LOC111116054;gbkey=Gene;gene=LOC111116054;gene_biotype=lncRNA                                                                                                                                                                                                                                                                                                \n",
       "3 ID=rna-XR_002636969.1;Parent=gene-LOC111116054;Dbxref=GeneID:111116054,Genbank:XR_002636969.1;Name=XR_002636969.1;gbkey=ncRNA;gene=LOC111116054;model_evidence=Supporting evidence includes similarity to: 100%25 coverage of the annotated genomic feature by RNAseq alignments%2C including 1 sample with support for all annotated introns;product=uncharacterized LOC111116054;transcript_id=XR_002636969.1\n",
       "4 ID=exon-XR_002636969.1-1;Parent=rna-XR_002636969.1;Dbxref=GeneID:111116054,Genbank:XR_002636969.1;gbkey=ncRNA;gene=LOC111116054;product=uncharacterized LOC111116054;transcript_id=XR_002636969.1                                                                                                                                                                                                              \n",
       "5 ID=exon-XR_002636969.1-2;Parent=rna-XR_002636969.1;Dbxref=GeneID:111116054,Genbank:XR_002636969.1;gbkey=ncRNA;gene=LOC111116054;product=uncharacterized LOC111116054;transcript_id=XR_002636969.1                                                                                                                                                                                                              \n",
       "6 ID=exon-XR_002636969.1-3;Parent=rna-XR_002636969.1;Dbxref=GeneID:111116054,Genbank:XR_002636969.1;gbkey=ncRNA;gene=LOC111116054;product=uncharacterized LOC111116054;transcript_id=XR_002636969.1                                                                                                                                                                                                              "
      ]
     },
     "metadata": {},
     "output_type": "display_data"
    }
   ],
   "source": [
    "# this reads in GFF as a data table\n",
    "gff <- read.gff('/project/pi_sarah_gignouxwolfsohn_uml_edu/Reference_genomes/Cvirginica_genome/CV_genomic.gff')\n",
    "head(gff)"
   ]
  },
  {
   "cell_type": "markdown",
   "id": "c7abbb6b-006d-4170-aca5-3c31fa2a0848",
   "metadata": {},
   "source": [
    "from the attributes column, creating two new columns, extracting the gene name (LOCxxxx) and the product info"
   ]
  },
  {
   "cell_type": "code",
   "execution_count": 4,
   "id": "0a1720b3-3a67-422a-bd82-0ad014e582c0",
   "metadata": {},
   "outputs": [
    {
     "data": {
      "text/html": [
       "<table class=\"dataframe\">\n",
       "<caption>A data.frame: 6 × 11</caption>\n",
       "<thead>\n",
       "\t<tr><th></th><th scope=col>seqid</th><th scope=col>source</th><th scope=col>type</th><th scope=col>start</th><th scope=col>end</th><th scope=col>score</th><th scope=col>strand</th><th scope=col>phase</th><th scope=col>attributes</th><th scope=col>gene</th><th scope=col>product</th></tr>\n",
       "\t<tr><th></th><th scope=col>&lt;fct&gt;</th><th scope=col>&lt;fct&gt;</th><th scope=col>&lt;fct&gt;</th><th scope=col>&lt;int&gt;</th><th scope=col>&lt;int&gt;</th><th scope=col>&lt;dbl&gt;</th><th scope=col>&lt;fct&gt;</th><th scope=col>&lt;fct&gt;</th><th scope=col>&lt;chr&gt;</th><th scope=col>&lt;chr&gt;</th><th scope=col>&lt;chr&gt;</th></tr>\n",
       "</thead>\n",
       "<tbody>\n",
       "\t<tr><th scope=row>1</th><td>NC_035780.1</td><td>RefSeq</td><td>region </td><td>    1</td><td>65668440</td><td>NA</td><td>+</td><td>NA</td><td>ID=NC_035780.1:1..65668440;Dbxref=taxon:6565;Name=1;chromosome=1;collection-date=22-Mar-2015;country=USA;gbkey=Src;genome=chromosome;isolate=RU13XGHG1-28;isolation-source=Rutgers Haskin Shellfish Research Laboratory inbred lines (NJ);mol_type=genomic DNA;tissue-type=whole sample                                                                                                                        </td><td>NA          </td><td>NA                          </td></tr>\n",
       "\t<tr><th scope=row>2</th><td>NC_035780.1</td><td>Gnomon</td><td>gene   </td><td>13578</td><td>   14594</td><td>NA</td><td>+</td><td>NA</td><td>ID=gene-LOC111116054;Dbxref=GeneID:111116054;Name=LOC111116054;gbkey=Gene;gene=LOC111116054;gene_biotype=lncRNA                                                                                                                                                                                                                                                                                                </td><td>LOC111116054</td><td>NA                          </td></tr>\n",
       "\t<tr><th scope=row>3</th><td>NC_035780.1</td><td>Gnomon</td><td>lnc_RNA</td><td>13578</td><td>   14594</td><td>NA</td><td>+</td><td>NA</td><td>ID=rna-XR_002636969.1;Parent=gene-LOC111116054;Dbxref=GeneID:111116054,Genbank:XR_002636969.1;Name=XR_002636969.1;gbkey=ncRNA;gene=LOC111116054;model_evidence=Supporting evidence includes similarity to: 100%25 coverage of the annotated genomic feature by RNAseq alignments%2C including 1 sample with support for all annotated introns;product=uncharacterized LOC111116054;transcript_id=XR_002636969.1</td><td>LOC111116054</td><td>uncharacterized LOC111116054</td></tr>\n",
       "\t<tr><th scope=row>4</th><td>NC_035780.1</td><td>Gnomon</td><td>exon   </td><td>13578</td><td>   13603</td><td>NA</td><td>+</td><td>NA</td><td>ID=exon-XR_002636969.1-1;Parent=rna-XR_002636969.1;Dbxref=GeneID:111116054,Genbank:XR_002636969.1;gbkey=ncRNA;gene=LOC111116054;product=uncharacterized LOC111116054;transcript_id=XR_002636969.1                                                                                                                                                                                                              </td><td>LOC111116054</td><td>uncharacterized LOC111116054</td></tr>\n",
       "\t<tr><th scope=row>5</th><td>NC_035780.1</td><td>Gnomon</td><td>exon   </td><td>14237</td><td>   14290</td><td>NA</td><td>+</td><td>NA</td><td>ID=exon-XR_002636969.1-2;Parent=rna-XR_002636969.1;Dbxref=GeneID:111116054,Genbank:XR_002636969.1;gbkey=ncRNA;gene=LOC111116054;product=uncharacterized LOC111116054;transcript_id=XR_002636969.1                                                                                                                                                                                                              </td><td>LOC111116054</td><td>uncharacterized LOC111116054</td></tr>\n",
       "\t<tr><th scope=row>6</th><td>NC_035780.1</td><td>Gnomon</td><td>exon   </td><td>14557</td><td>   14594</td><td>NA</td><td>+</td><td>NA</td><td>ID=exon-XR_002636969.1-3;Parent=rna-XR_002636969.1;Dbxref=GeneID:111116054,Genbank:XR_002636969.1;gbkey=ncRNA;gene=LOC111116054;product=uncharacterized LOC111116054;transcript_id=XR_002636969.1                                                                                                                                                                                                              </td><td>LOC111116054</td><td>uncharacterized LOC111116054</td></tr>\n",
       "</tbody>\n",
       "</table>\n"
      ],
      "text/latex": [
       "A data.frame: 6 × 11\n",
       "\\begin{tabular}{r|lllllllllll}\n",
       "  & seqid & source & type & start & end & score & strand & phase & attributes & gene & product\\\\\n",
       "  & <fct> & <fct> & <fct> & <int> & <int> & <dbl> & <fct> & <fct> & <chr> & <chr> & <chr>\\\\\n",
       "\\hline\n",
       "\t1 & NC\\_035780.1 & RefSeq & region  &     1 & 65668440 & NA & + & NA & ID=NC\\_035780.1:1..65668440;Dbxref=taxon:6565;Name=1;chromosome=1;collection-date=22-Mar-2015;country=USA;gbkey=Src;genome=chromosome;isolate=RU13XGHG1-28;isolation-source=Rutgers Haskin Shellfish Research Laboratory inbred lines (NJ);mol\\_type=genomic DNA;tissue-type=whole sample                                                                                                                         & NA           & NA                          \\\\\n",
       "\t2 & NC\\_035780.1 & Gnomon & gene    & 13578 &    14594 & NA & + & NA & ID=gene-LOC111116054;Dbxref=GeneID:111116054;Name=LOC111116054;gbkey=Gene;gene=LOC111116054;gene\\_biotype=lncRNA                                                                                                                                                                                                                                                                                                 & LOC111116054 & NA                          \\\\\n",
       "\t3 & NC\\_035780.1 & Gnomon & lnc\\_RNA & 13578 &    14594 & NA & + & NA & ID=rna-XR\\_002636969.1;Parent=gene-LOC111116054;Dbxref=GeneID:111116054,Genbank:XR\\_002636969.1;Name=XR\\_002636969.1;gbkey=ncRNA;gene=LOC111116054;model\\_evidence=Supporting evidence includes similarity to: 100\\%25 coverage of the annotated genomic feature by RNAseq alignments\\%2C including 1 sample with support for all annotated introns;product=uncharacterized LOC111116054;transcript\\_id=XR\\_002636969.1 & LOC111116054 & uncharacterized LOC111116054\\\\\n",
       "\t4 & NC\\_035780.1 & Gnomon & exon    & 13578 &    13603 & NA & + & NA & ID=exon-XR\\_002636969.1-1;Parent=rna-XR\\_002636969.1;Dbxref=GeneID:111116054,Genbank:XR\\_002636969.1;gbkey=ncRNA;gene=LOC111116054;product=uncharacterized LOC111116054;transcript\\_id=XR\\_002636969.1                                                                                                                                                                                                               & LOC111116054 & uncharacterized LOC111116054\\\\\n",
       "\t5 & NC\\_035780.1 & Gnomon & exon    & 14237 &    14290 & NA & + & NA & ID=exon-XR\\_002636969.1-2;Parent=rna-XR\\_002636969.1;Dbxref=GeneID:111116054,Genbank:XR\\_002636969.1;gbkey=ncRNA;gene=LOC111116054;product=uncharacterized LOC111116054;transcript\\_id=XR\\_002636969.1                                                                                                                                                                                                               & LOC111116054 & uncharacterized LOC111116054\\\\\n",
       "\t6 & NC\\_035780.1 & Gnomon & exon    & 14557 &    14594 & NA & + & NA & ID=exon-XR\\_002636969.1-3;Parent=rna-XR\\_002636969.1;Dbxref=GeneID:111116054,Genbank:XR\\_002636969.1;gbkey=ncRNA;gene=LOC111116054;product=uncharacterized LOC111116054;transcript\\_id=XR\\_002636969.1                                                                                                                                                                                                               & LOC111116054 & uncharacterized LOC111116054\\\\\n",
       "\\end{tabular}\n"
      ],
      "text/markdown": [
       "\n",
       "A data.frame: 6 × 11\n",
       "\n",
       "| <!--/--> | seqid &lt;fct&gt; | source &lt;fct&gt; | type &lt;fct&gt; | start &lt;int&gt; | end &lt;int&gt; | score &lt;dbl&gt; | strand &lt;fct&gt; | phase &lt;fct&gt; | attributes &lt;chr&gt; | gene &lt;chr&gt; | product &lt;chr&gt; |\n",
       "|---|---|---|---|---|---|---|---|---|---|---|---|\n",
       "| 1 | NC_035780.1 | RefSeq | region  |     1 | 65668440 | NA | + | NA | ID=NC_035780.1:1..65668440;Dbxref=taxon:6565;Name=1;chromosome=1;collection-date=22-Mar-2015;country=USA;gbkey=Src;genome=chromosome;isolate=RU13XGHG1-28;isolation-source=Rutgers Haskin Shellfish Research Laboratory inbred lines (NJ);mol_type=genomic DNA;tissue-type=whole sample                                                                                                                         | NA           | NA                           |\n",
       "| 2 | NC_035780.1 | Gnomon | gene    | 13578 |    14594 | NA | + | NA | ID=gene-LOC111116054;Dbxref=GeneID:111116054;Name=LOC111116054;gbkey=Gene;gene=LOC111116054;gene_biotype=lncRNA                                                                                                                                                                                                                                                                                                 | LOC111116054 | NA                           |\n",
       "| 3 | NC_035780.1 | Gnomon | lnc_RNA | 13578 |    14594 | NA | + | NA | ID=rna-XR_002636969.1;Parent=gene-LOC111116054;Dbxref=GeneID:111116054,Genbank:XR_002636969.1;Name=XR_002636969.1;gbkey=ncRNA;gene=LOC111116054;model_evidence=Supporting evidence includes similarity to: 100%25 coverage of the annotated genomic feature by RNAseq alignments%2C including 1 sample with support for all annotated introns;product=uncharacterized LOC111116054;transcript_id=XR_002636969.1 | LOC111116054 | uncharacterized LOC111116054 |\n",
       "| 4 | NC_035780.1 | Gnomon | exon    | 13578 |    13603 | NA | + | NA | ID=exon-XR_002636969.1-1;Parent=rna-XR_002636969.1;Dbxref=GeneID:111116054,Genbank:XR_002636969.1;gbkey=ncRNA;gene=LOC111116054;product=uncharacterized LOC111116054;transcript_id=XR_002636969.1                                                                                                                                                                                                               | LOC111116054 | uncharacterized LOC111116054 |\n",
       "| 5 | NC_035780.1 | Gnomon | exon    | 14237 |    14290 | NA | + | NA | ID=exon-XR_002636969.1-2;Parent=rna-XR_002636969.1;Dbxref=GeneID:111116054,Genbank:XR_002636969.1;gbkey=ncRNA;gene=LOC111116054;product=uncharacterized LOC111116054;transcript_id=XR_002636969.1                                                                                                                                                                                                               | LOC111116054 | uncharacterized LOC111116054 |\n",
       "| 6 | NC_035780.1 | Gnomon | exon    | 14557 |    14594 | NA | + | NA | ID=exon-XR_002636969.1-3;Parent=rna-XR_002636969.1;Dbxref=GeneID:111116054,Genbank:XR_002636969.1;gbkey=ncRNA;gene=LOC111116054;product=uncharacterized LOC111116054;transcript_id=XR_002636969.1                                                                                                                                                                                                               | LOC111116054 | uncharacterized LOC111116054 |\n",
       "\n"
      ],
      "text/plain": [
       "  seqid       source type    start end      score strand phase\n",
       "1 NC_035780.1 RefSeq region      1 65668440 NA    +      NA   \n",
       "2 NC_035780.1 Gnomon gene    13578    14594 NA    +      NA   \n",
       "3 NC_035780.1 Gnomon lnc_RNA 13578    14594 NA    +      NA   \n",
       "4 NC_035780.1 Gnomon exon    13578    13603 NA    +      NA   \n",
       "5 NC_035780.1 Gnomon exon    14237    14290 NA    +      NA   \n",
       "6 NC_035780.1 Gnomon exon    14557    14594 NA    +      NA   \n",
       "  attributes                                                                                                                                                                                                                                                                                                                                                                                                     \n",
       "1 ID=NC_035780.1:1..65668440;Dbxref=taxon:6565;Name=1;chromosome=1;collection-date=22-Mar-2015;country=USA;gbkey=Src;genome=chromosome;isolate=RU13XGHG1-28;isolation-source=Rutgers Haskin Shellfish Research Laboratory inbred lines (NJ);mol_type=genomic DNA;tissue-type=whole sample                                                                                                                        \n",
       "2 ID=gene-LOC111116054;Dbxref=GeneID:111116054;Name=LOC111116054;gbkey=Gene;gene=LOC111116054;gene_biotype=lncRNA                                                                                                                                                                                                                                                                                                \n",
       "3 ID=rna-XR_002636969.1;Parent=gene-LOC111116054;Dbxref=GeneID:111116054,Genbank:XR_002636969.1;Name=XR_002636969.1;gbkey=ncRNA;gene=LOC111116054;model_evidence=Supporting evidence includes similarity to: 100%25 coverage of the annotated genomic feature by RNAseq alignments%2C including 1 sample with support for all annotated introns;product=uncharacterized LOC111116054;transcript_id=XR_002636969.1\n",
       "4 ID=exon-XR_002636969.1-1;Parent=rna-XR_002636969.1;Dbxref=GeneID:111116054,Genbank:XR_002636969.1;gbkey=ncRNA;gene=LOC111116054;product=uncharacterized LOC111116054;transcript_id=XR_002636969.1                                                                                                                                                                                                              \n",
       "5 ID=exon-XR_002636969.1-2;Parent=rna-XR_002636969.1;Dbxref=GeneID:111116054,Genbank:XR_002636969.1;gbkey=ncRNA;gene=LOC111116054;product=uncharacterized LOC111116054;transcript_id=XR_002636969.1                                                                                                                                                                                                              \n",
       "6 ID=exon-XR_002636969.1-3;Parent=rna-XR_002636969.1;Dbxref=GeneID:111116054,Genbank:XR_002636969.1;gbkey=ncRNA;gene=LOC111116054;product=uncharacterized LOC111116054;transcript_id=XR_002636969.1                                                                                                                                                                                                              \n",
       "  gene         product                     \n",
       "1 NA           NA                          \n",
       "2 LOC111116054 NA                          \n",
       "3 LOC111116054 uncharacterized LOC111116054\n",
       "4 LOC111116054 uncharacterized LOC111116054\n",
       "5 LOC111116054 uncharacterized LOC111116054\n",
       "6 LOC111116054 uncharacterized LOC111116054"
      ]
     },
     "metadata": {},
     "output_type": "display_data"
    }
   ],
   "source": [
    "gff2 <- gff %>% mutate(gene = str_extract(attributes, \"(?<=gene=)([^;]+)\"),\n",
    "    product = str_extract(attributes, \"(?<=product=)([^;]+)\")\n",
    "  )\n",
    "\n",
    "head(gff2)"
   ]
  },
  {
   "cell_type": "markdown",
   "id": "82914dfe-012a-4e0f-b3fb-de681f9cbb33",
   "metadata": {},
   "source": [
    "cleaning up the df to contain the info I want in the order I want"
   ]
  },
  {
   "cell_type": "code",
   "execution_count": 5,
   "id": "ccadc4c0-8025-4811-90f1-e53d3f2ac0f1",
   "metadata": {},
   "outputs": [
    {
     "data": {
      "text/html": [
       "<table class=\"dataframe\">\n",
       "<caption>A data.frame: 6 × 8</caption>\n",
       "<thead>\n",
       "\t<tr><th></th><th scope=col>seqid</th><th scope=col>type</th><th scope=col>start</th><th scope=col>end</th><th scope=col>strand</th><th scope=col>gene</th><th scope=col>product</th><th scope=col>attributes</th></tr>\n",
       "\t<tr><th></th><th scope=col>&lt;fct&gt;</th><th scope=col>&lt;fct&gt;</th><th scope=col>&lt;int&gt;</th><th scope=col>&lt;int&gt;</th><th scope=col>&lt;fct&gt;</th><th scope=col>&lt;chr&gt;</th><th scope=col>&lt;chr&gt;</th><th scope=col>&lt;chr&gt;</th></tr>\n",
       "</thead>\n",
       "<tbody>\n",
       "\t<tr><th scope=row>1</th><td>NC_035780.1</td><td>region </td><td>    1</td><td>65668440</td><td>+</td><td>NA          </td><td>NA                          </td><td>ID=NC_035780.1:1..65668440;Dbxref=taxon:6565;Name=1;chromosome=1;collection-date=22-Mar-2015;country=USA;gbkey=Src;genome=chromosome;isolate=RU13XGHG1-28;isolation-source=Rutgers Haskin Shellfish Research Laboratory inbred lines (NJ);mol_type=genomic DNA;tissue-type=whole sample                                                                                                                        </td></tr>\n",
       "\t<tr><th scope=row>2</th><td>NC_035780.1</td><td>gene   </td><td>13578</td><td>   14594</td><td>+</td><td>LOC111116054</td><td>NA                          </td><td>ID=gene-LOC111116054;Dbxref=GeneID:111116054;Name=LOC111116054;gbkey=Gene;gene=LOC111116054;gene_biotype=lncRNA                                                                                                                                                                                                                                                                                                </td></tr>\n",
       "\t<tr><th scope=row>3</th><td>NC_035780.1</td><td>lnc_RNA</td><td>13578</td><td>   14594</td><td>+</td><td>LOC111116054</td><td>uncharacterized LOC111116054</td><td>ID=rna-XR_002636969.1;Parent=gene-LOC111116054;Dbxref=GeneID:111116054,Genbank:XR_002636969.1;Name=XR_002636969.1;gbkey=ncRNA;gene=LOC111116054;model_evidence=Supporting evidence includes similarity to: 100%25 coverage of the annotated genomic feature by RNAseq alignments%2C including 1 sample with support for all annotated introns;product=uncharacterized LOC111116054;transcript_id=XR_002636969.1</td></tr>\n",
       "\t<tr><th scope=row>4</th><td>NC_035780.1</td><td>exon   </td><td>13578</td><td>   13603</td><td>+</td><td>LOC111116054</td><td>uncharacterized LOC111116054</td><td>ID=exon-XR_002636969.1-1;Parent=rna-XR_002636969.1;Dbxref=GeneID:111116054,Genbank:XR_002636969.1;gbkey=ncRNA;gene=LOC111116054;product=uncharacterized LOC111116054;transcript_id=XR_002636969.1                                                                                                                                                                                                              </td></tr>\n",
       "\t<tr><th scope=row>5</th><td>NC_035780.1</td><td>exon   </td><td>14237</td><td>   14290</td><td>+</td><td>LOC111116054</td><td>uncharacterized LOC111116054</td><td>ID=exon-XR_002636969.1-2;Parent=rna-XR_002636969.1;Dbxref=GeneID:111116054,Genbank:XR_002636969.1;gbkey=ncRNA;gene=LOC111116054;product=uncharacterized LOC111116054;transcript_id=XR_002636969.1                                                                                                                                                                                                              </td></tr>\n",
       "\t<tr><th scope=row>6</th><td>NC_035780.1</td><td>exon   </td><td>14557</td><td>   14594</td><td>+</td><td>LOC111116054</td><td>uncharacterized LOC111116054</td><td>ID=exon-XR_002636969.1-3;Parent=rna-XR_002636969.1;Dbxref=GeneID:111116054,Genbank:XR_002636969.1;gbkey=ncRNA;gene=LOC111116054;product=uncharacterized LOC111116054;transcript_id=XR_002636969.1                                                                                                                                                                                                              </td></tr>\n",
       "</tbody>\n",
       "</table>\n"
      ],
      "text/latex": [
       "A data.frame: 6 × 8\n",
       "\\begin{tabular}{r|llllllll}\n",
       "  & seqid & type & start & end & strand & gene & product & attributes\\\\\n",
       "  & <fct> & <fct> & <int> & <int> & <fct> & <chr> & <chr> & <chr>\\\\\n",
       "\\hline\n",
       "\t1 & NC\\_035780.1 & region  &     1 & 65668440 & + & NA           & NA                           & ID=NC\\_035780.1:1..65668440;Dbxref=taxon:6565;Name=1;chromosome=1;collection-date=22-Mar-2015;country=USA;gbkey=Src;genome=chromosome;isolate=RU13XGHG1-28;isolation-source=Rutgers Haskin Shellfish Research Laboratory inbred lines (NJ);mol\\_type=genomic DNA;tissue-type=whole sample                                                                                                                        \\\\\n",
       "\t2 & NC\\_035780.1 & gene    & 13578 &    14594 & + & LOC111116054 & NA                           & ID=gene-LOC111116054;Dbxref=GeneID:111116054;Name=LOC111116054;gbkey=Gene;gene=LOC111116054;gene\\_biotype=lncRNA                                                                                                                                                                                                                                                                                                \\\\\n",
       "\t3 & NC\\_035780.1 & lnc\\_RNA & 13578 &    14594 & + & LOC111116054 & uncharacterized LOC111116054 & ID=rna-XR\\_002636969.1;Parent=gene-LOC111116054;Dbxref=GeneID:111116054,Genbank:XR\\_002636969.1;Name=XR\\_002636969.1;gbkey=ncRNA;gene=LOC111116054;model\\_evidence=Supporting evidence includes similarity to: 100\\%25 coverage of the annotated genomic feature by RNAseq alignments\\%2C including 1 sample with support for all annotated introns;product=uncharacterized LOC111116054;transcript\\_id=XR\\_002636969.1\\\\\n",
       "\t4 & NC\\_035780.1 & exon    & 13578 &    13603 & + & LOC111116054 & uncharacterized LOC111116054 & ID=exon-XR\\_002636969.1-1;Parent=rna-XR\\_002636969.1;Dbxref=GeneID:111116054,Genbank:XR\\_002636969.1;gbkey=ncRNA;gene=LOC111116054;product=uncharacterized LOC111116054;transcript\\_id=XR\\_002636969.1                                                                                                                                                                                                              \\\\\n",
       "\t5 & NC\\_035780.1 & exon    & 14237 &    14290 & + & LOC111116054 & uncharacterized LOC111116054 & ID=exon-XR\\_002636969.1-2;Parent=rna-XR\\_002636969.1;Dbxref=GeneID:111116054,Genbank:XR\\_002636969.1;gbkey=ncRNA;gene=LOC111116054;product=uncharacterized LOC111116054;transcript\\_id=XR\\_002636969.1                                                                                                                                                                                                              \\\\\n",
       "\t6 & NC\\_035780.1 & exon    & 14557 &    14594 & + & LOC111116054 & uncharacterized LOC111116054 & ID=exon-XR\\_002636969.1-3;Parent=rna-XR\\_002636969.1;Dbxref=GeneID:111116054,Genbank:XR\\_002636969.1;gbkey=ncRNA;gene=LOC111116054;product=uncharacterized LOC111116054;transcript\\_id=XR\\_002636969.1                                                                                                                                                                                                              \\\\\n",
       "\\end{tabular}\n"
      ],
      "text/markdown": [
       "\n",
       "A data.frame: 6 × 8\n",
       "\n",
       "| <!--/--> | seqid &lt;fct&gt; | type &lt;fct&gt; | start &lt;int&gt; | end &lt;int&gt; | strand &lt;fct&gt; | gene &lt;chr&gt; | product &lt;chr&gt; | attributes &lt;chr&gt; |\n",
       "|---|---|---|---|---|---|---|---|---|\n",
       "| 1 | NC_035780.1 | region  |     1 | 65668440 | + | NA           | NA                           | ID=NC_035780.1:1..65668440;Dbxref=taxon:6565;Name=1;chromosome=1;collection-date=22-Mar-2015;country=USA;gbkey=Src;genome=chromosome;isolate=RU13XGHG1-28;isolation-source=Rutgers Haskin Shellfish Research Laboratory inbred lines (NJ);mol_type=genomic DNA;tissue-type=whole sample                                                                                                                         |\n",
       "| 2 | NC_035780.1 | gene    | 13578 |    14594 | + | LOC111116054 | NA                           | ID=gene-LOC111116054;Dbxref=GeneID:111116054;Name=LOC111116054;gbkey=Gene;gene=LOC111116054;gene_biotype=lncRNA                                                                                                                                                                                                                                                                                                 |\n",
       "| 3 | NC_035780.1 | lnc_RNA | 13578 |    14594 | + | LOC111116054 | uncharacterized LOC111116054 | ID=rna-XR_002636969.1;Parent=gene-LOC111116054;Dbxref=GeneID:111116054,Genbank:XR_002636969.1;Name=XR_002636969.1;gbkey=ncRNA;gene=LOC111116054;model_evidence=Supporting evidence includes similarity to: 100%25 coverage of the annotated genomic feature by RNAseq alignments%2C including 1 sample with support for all annotated introns;product=uncharacterized LOC111116054;transcript_id=XR_002636969.1 |\n",
       "| 4 | NC_035780.1 | exon    | 13578 |    13603 | + | LOC111116054 | uncharacterized LOC111116054 | ID=exon-XR_002636969.1-1;Parent=rna-XR_002636969.1;Dbxref=GeneID:111116054,Genbank:XR_002636969.1;gbkey=ncRNA;gene=LOC111116054;product=uncharacterized LOC111116054;transcript_id=XR_002636969.1                                                                                                                                                                                                               |\n",
       "| 5 | NC_035780.1 | exon    | 14237 |    14290 | + | LOC111116054 | uncharacterized LOC111116054 | ID=exon-XR_002636969.1-2;Parent=rna-XR_002636969.1;Dbxref=GeneID:111116054,Genbank:XR_002636969.1;gbkey=ncRNA;gene=LOC111116054;product=uncharacterized LOC111116054;transcript_id=XR_002636969.1                                                                                                                                                                                                               |\n",
       "| 6 | NC_035780.1 | exon    | 14557 |    14594 | + | LOC111116054 | uncharacterized LOC111116054 | ID=exon-XR_002636969.1-3;Parent=rna-XR_002636969.1;Dbxref=GeneID:111116054,Genbank:XR_002636969.1;gbkey=ncRNA;gene=LOC111116054;product=uncharacterized LOC111116054;transcript_id=XR_002636969.1                                                                                                                                                                                                               |\n",
       "\n"
      ],
      "text/plain": [
       "  seqid       type    start end      strand gene        \n",
       "1 NC_035780.1 region      1 65668440 +      NA          \n",
       "2 NC_035780.1 gene    13578    14594 +      LOC111116054\n",
       "3 NC_035780.1 lnc_RNA 13578    14594 +      LOC111116054\n",
       "4 NC_035780.1 exon    13578    13603 +      LOC111116054\n",
       "5 NC_035780.1 exon    14237    14290 +      LOC111116054\n",
       "6 NC_035780.1 exon    14557    14594 +      LOC111116054\n",
       "  product                     \n",
       "1 NA                          \n",
       "2 NA                          \n",
       "3 uncharacterized LOC111116054\n",
       "4 uncharacterized LOC111116054\n",
       "5 uncharacterized LOC111116054\n",
       "6 uncharacterized LOC111116054\n",
       "  attributes                                                                                                                                                                                                                                                                                                                                                                                                     \n",
       "1 ID=NC_035780.1:1..65668440;Dbxref=taxon:6565;Name=1;chromosome=1;collection-date=22-Mar-2015;country=USA;gbkey=Src;genome=chromosome;isolate=RU13XGHG1-28;isolation-source=Rutgers Haskin Shellfish Research Laboratory inbred lines (NJ);mol_type=genomic DNA;tissue-type=whole sample                                                                                                                        \n",
       "2 ID=gene-LOC111116054;Dbxref=GeneID:111116054;Name=LOC111116054;gbkey=Gene;gene=LOC111116054;gene_biotype=lncRNA                                                                                                                                                                                                                                                                                                \n",
       "3 ID=rna-XR_002636969.1;Parent=gene-LOC111116054;Dbxref=GeneID:111116054,Genbank:XR_002636969.1;Name=XR_002636969.1;gbkey=ncRNA;gene=LOC111116054;model_evidence=Supporting evidence includes similarity to: 100%25 coverage of the annotated genomic feature by RNAseq alignments%2C including 1 sample with support for all annotated introns;product=uncharacterized LOC111116054;transcript_id=XR_002636969.1\n",
       "4 ID=exon-XR_002636969.1-1;Parent=rna-XR_002636969.1;Dbxref=GeneID:111116054,Genbank:XR_002636969.1;gbkey=ncRNA;gene=LOC111116054;product=uncharacterized LOC111116054;transcript_id=XR_002636969.1                                                                                                                                                                                                              \n",
       "5 ID=exon-XR_002636969.1-2;Parent=rna-XR_002636969.1;Dbxref=GeneID:111116054,Genbank:XR_002636969.1;gbkey=ncRNA;gene=LOC111116054;product=uncharacterized LOC111116054;transcript_id=XR_002636969.1                                                                                                                                                                                                              \n",
       "6 ID=exon-XR_002636969.1-3;Parent=rna-XR_002636969.1;Dbxref=GeneID:111116054,Genbank:XR_002636969.1;gbkey=ncRNA;gene=LOC111116054;product=uncharacterized LOC111116054;transcript_id=XR_002636969.1                                                                                                                                                                                                              "
      ]
     },
     "metadata": {},
     "output_type": "display_data"
    }
   ],
   "source": [
    "gff3 <- select(gff2, seqid, type, start, end, strand, gene, product, attributes)\n",
    "head(gff3)"
   ]
  },
  {
   "cell_type": "code",
   "execution_count": 6,
   "id": "09fa36aa-ca8d-4f9c-a335-86a08edd670a",
   "metadata": {},
   "outputs": [
    {
     "data": {
      "text/html": [
       "<style>\n",
       ".list-inline {list-style: none; margin:0; padding: 0}\n",
       ".list-inline>li {display: inline-block}\n",
       ".list-inline>li:not(:last-child)::after {content: \"\\00b7\"; padding: 0 .5ex}\n",
       "</style>\n",
       "<ol class=list-inline><li>2011</li><li>9</li></ol>\n"
      ],
      "text/latex": [
       "\\begin{enumerate*}\n",
       "\\item 2011\n",
       "\\item 9\n",
       "\\end{enumerate*}\n"
      ],
      "text/markdown": [
       "1. 2011\n",
       "2. 9\n",
       "\n",
       "\n"
      ],
      "text/plain": [
       "[1] 2011    9"
      ]
     },
     "metadata": {},
     "output_type": "display_data"
    }
   ],
   "source": [
    "dim(filter(gff, gff$type == \"gene\"))"
   ]
  },
  {
   "cell_type": "markdown",
   "id": "a5bea75a-7ea4-4ec6-878f-dd70160c6a70",
   "metadata": {},
   "source": [
    "checking the types of features in the gff file"
   ]
  },
  {
   "cell_type": "code",
   "execution_count": 7,
   "id": "588f7ba8-0fbb-4460-8f18-6cb7e338a354",
   "metadata": {},
   "outputs": [
    {
     "data": {
      "text/html": [
       "<style>\n",
       ".list-inline {list-style: none; margin:0; padding: 0}\n",
       ".list-inline>li {display: inline-block}\n",
       ".list-inline>li:not(:last-child)::after {content: \"\\00b7\"; padding: 0 .5ex}\n",
       "</style>\n",
       "<ol class=list-inline><li>region</li><li>gene</li><li>lnc_RNA</li><li>exon</li><li>mRNA</li><li>CDS</li><li>pseudogene</li><li>tRNA</li><li>transcript</li></ol>\n",
       "\n",
       "<details>\n",
       "\t<summary style=display:list-item;cursor:pointer>\n",
       "\t\t<strong>Levels</strong>:\n",
       "\t</summary>\n",
       "\t<style>\n",
       "\t.list-inline {list-style: none; margin:0; padding: 0}\n",
       "\t.list-inline>li {display: inline-block}\n",
       "\t.list-inline>li:not(:last-child)::after {content: \"\\00b7\"; padding: 0 .5ex}\n",
       "\t</style>\n",
       "\t<ol class=list-inline><li>'CDS'</li><li>'exon'</li><li>'gene'</li><li>'lnc_RNA'</li><li>'mRNA'</li><li>'pseudogene'</li><li>'region'</li><li>'transcript'</li><li>'tRNA'</li></ol>\n",
       "</details>"
      ],
      "text/latex": [
       "\\begin{enumerate*}\n",
       "\\item region\n",
       "\\item gene\n",
       "\\item lnc\\_RNA\n",
       "\\item exon\n",
       "\\item mRNA\n",
       "\\item CDS\n",
       "\\item pseudogene\n",
       "\\item tRNA\n",
       "\\item transcript\n",
       "\\end{enumerate*}\n",
       "\n",
       "\\emph{Levels}: \\begin{enumerate*}\n",
       "\\item 'CDS'\n",
       "\\item 'exon'\n",
       "\\item 'gene'\n",
       "\\item 'lnc\\_RNA'\n",
       "\\item 'mRNA'\n",
       "\\item 'pseudogene'\n",
       "\\item 'region'\n",
       "\\item 'transcript'\n",
       "\\item 'tRNA'\n",
       "\\end{enumerate*}\n"
      ],
      "text/markdown": [
       "1. region\n",
       "2. gene\n",
       "3. lnc_RNA\n",
       "4. exon\n",
       "5. mRNA\n",
       "6. CDS\n",
       "7. pseudogene\n",
       "8. tRNA\n",
       "9. transcript\n",
       "\n",
       "\n",
       "\n",
       "**Levels**: 1. 'CDS'\n",
       "2. 'exon'\n",
       "3. 'gene'\n",
       "4. 'lnc_RNA'\n",
       "5. 'mRNA'\n",
       "6. 'pseudogene'\n",
       "7. 'region'\n",
       "8. 'transcript'\n",
       "9. 'tRNA'\n",
       "\n",
       "\n"
      ],
      "text/plain": [
       "[1] region     gene       lnc_RNA    exon       mRNA       CDS        pseudogene\n",
       "[8] tRNA       transcript\n",
       "Levels: CDS exon gene lnc_RNA mRNA pseudogene region transcript tRNA"
      ]
     },
     "metadata": {},
     "output_type": "display_data"
    }
   ],
   "source": [
    "unique(gff3$type)"
   ]
  },
  {
   "cell_type": "markdown",
   "id": "a5e4e800-1882-4ef6-8ee7-816d630e2a6d",
   "metadata": {},
   "source": [
    "## Generate feature tracks\n",
    "\n",
    "[Venkataraman et al 2020](https://www.frontiersin.org/journals/marine-science/articles/10.3389/fmars.2020.00225/full#h7) had a nice pipeline and description of how to extract other features from the *C. virginica* GFF file - following and adapting that here\n",
    "\n",
    "They were able to get:\n",
    "- putative promoters\n",
    "- UTRs\n",
    "- Exons\n",
    "- Introns\n",
    "- Transposable elements\n",
    "- Intergenic\n",
    "- Other\n",
    "\n",
    "\n",
    "want to export **gff3** files to keep the same format (includes attributes column at the end of the row)\n",
    "\n",
    "\n",
    "### genes"
   ]
  },
  {
   "cell_type": "code",
   "execution_count": 9,
   "id": "7e45b662-a81d-4069-8850-845b74dd86e5",
   "metadata": {},
   "outputs": [
    {
     "data": {
      "text/plain": [
       "GRanges object with 6 ranges and 32 metadata columns:\n",
       "         seqnames      ranges strand |   source     type     score     phase\n",
       "            <Rle>   <IRanges>  <Rle> | <factor> <factor> <numeric> <integer>\n",
       "  [1] NC_035780.1  1-65668440      + |   RefSeq  region         NA      <NA>\n",
       "  [2] NC_035780.1 13578-14594      + |   Gnomon  gene           NA      <NA>\n",
       "  [3] NC_035780.1 13578-14594      + |   Gnomon  lnc_RNA        NA      <NA>\n",
       "  [4] NC_035780.1 13578-13603      + |   Gnomon  exon           NA      <NA>\n",
       "  [5] NC_035780.1 14237-14290      + |   Gnomon  exon           NA      <NA>\n",
       "  [6] NC_035780.1 14557-14594      + |   Gnomon  exon           NA      <NA>\n",
       "                          ID                                  Dbxref\n",
       "                 <character>                         <CharacterList>\n",
       "  [1] NC_035780.1:1..65668..                              taxon:6565\n",
       "  [2]      gene-LOC111116054                        GeneID:111116054\n",
       "  [3]     rna-XR_002636969.1 GeneID:111116054,Genbank:XR_002636969.1\n",
       "  [4]  exon-XR_002636969.1-1 GeneID:111116054,Genbank:XR_002636969.1\n",
       "  [5]  exon-XR_002636969.1-2 GeneID:111116054,Genbank:XR_002636969.1\n",
       "  [6]  exon-XR_002636969.1-3 GeneID:111116054,Genbank:XR_002636969.1\n",
       "                Name  chromosome collection-date     country       gbkey\n",
       "         <character> <character>     <character> <character> <character>\n",
       "  [1]              1           1     22-Mar-2015         USA         Src\n",
       "  [2]   LOC111116054        <NA>            <NA>        <NA>        Gene\n",
       "  [3] XR_002636969.1        <NA>            <NA>        <NA>       ncRNA\n",
       "  [4]           <NA>        <NA>            <NA>        <NA>       ncRNA\n",
       "  [5]           <NA>        <NA>            <NA>        <NA>       ncRNA\n",
       "  [6]           <NA>        <NA>            <NA>        <NA>       ncRNA\n",
       "           genome      isolate       isolation-source    mol_type  tissue-type\n",
       "      <character>  <character>            <character> <character>  <character>\n",
       "  [1]  chromosome RU13XGHG1-28 Rutgers Haskin Shell.. genomic DNA whole sample\n",
       "  [2]        <NA>         <NA>                   <NA>        <NA>         <NA>\n",
       "  [3]        <NA>         <NA>                   <NA>        <NA>         <NA>\n",
       "  [4]        <NA>         <NA>                   <NA>        <NA>         <NA>\n",
       "  [5]        <NA>         <NA>                   <NA>        <NA>         <NA>\n",
       "  [6]        <NA>         <NA>                   <NA>        <NA>         <NA>\n",
       "              gene gene_biotype             Parent         model_evidence\n",
       "       <character>  <character>    <CharacterList>            <character>\n",
       "  [1]         <NA>         <NA>                                      <NA>\n",
       "  [2] LOC111116054       lncRNA                                      <NA>\n",
       "  [3] LOC111116054         <NA>  gene-LOC111116054 Supporting evidence ..\n",
       "  [4] LOC111116054         <NA> rna-XR_002636969.1                   <NA>\n",
       "  [5] LOC111116054         <NA> rna-XR_002636969.1                   <NA>\n",
       "  [6] LOC111116054         <NA> rna-XR_002636969.1                   <NA>\n",
       "                     product  transcript_id  protein_id     partial\n",
       "                 <character>    <character> <character> <character>\n",
       "  [1]                   <NA>           <NA>        <NA>        <NA>\n",
       "  [2]                   <NA>           <NA>        <NA>        <NA>\n",
       "  [3] uncharacterized LOC1.. XR_002636969.1        <NA>        <NA>\n",
       "  [4] uncharacterized LOC1.. XR_002636969.1        <NA>        <NA>\n",
       "  [5] uncharacterized LOC1.. XR_002636969.1        <NA>        <NA>\n",
       "  [6] uncharacterized LOC1.. XR_002636969.1        <NA>        <NA>\n",
       "          start_range            Note   exception   transl_except      pseudo\n",
       "      <CharacterList> <CharacterList> <character> <CharacterList> <character>\n",
       "  [1]                                        <NA>                        <NA>\n",
       "  [2]                                        <NA>                        <NA>\n",
       "  [3]                                        <NA>                        <NA>\n",
       "  [4]                                        <NA>                        <NA>\n",
       "  [5]                                        <NA>                        <NA>\n",
       "  [6]                                        <NA>                        <NA>\n",
       "            end_range   anticodon   inference\n",
       "      <CharacterList> <character> <character>\n",
       "  [1]                        <NA>        <NA>\n",
       "  [2]                        <NA>        <NA>\n",
       "  [3]                        <NA>        <NA>\n",
       "  [4]                        <NA>        <NA>\n",
       "  [5]                        <NA>        <NA>\n",
       "  [6]                        <NA>        <NA>\n",
       "  -------\n",
       "  seqinfo: 1 sequence from an unspecified genome; no seqlengths"
      ]
     },
     "metadata": {},
     "output_type": "display_data"
    }
   ],
   "source": [
    "head(gff_data)"
   ]
  },
  {
   "cell_type": "code",
   "execution_count": 14,
   "id": "d83f68fa-72e2-4a9b-82bb-b2f98cb034b9",
   "metadata": {},
   "outputs": [
    {
     "data": {
      "text/plain": [
       "GRanges object with 3 ranges and 32 metadata columns:\n",
       "         seqnames      ranges strand |   source     type     score     phase\n",
       "            <Rle>   <IRanges>  <Rle> | <factor> <factor> <numeric> <integer>\n",
       "  [1] NC_035780.1 13578-14594      + |   Gnomon     gene        NA      <NA>\n",
       "  [2] NC_035780.1 28961-33324      + |   Gnomon     gene        NA      <NA>\n",
       "  [3] NC_035780.1 43111-66897      - |   Gnomon     gene        NA      <NA>\n",
       "                     ID           Dbxref         Name  chromosome\n",
       "            <character>  <CharacterList>  <character> <character>\n",
       "  [1] gene-LOC111116054 GeneID:111116054 LOC111116054        <NA>\n",
       "  [2] gene-LOC111126949 GeneID:111126949 LOC111126949        <NA>\n",
       "  [3] gene-LOC111110729 GeneID:111110729 LOC111110729        <NA>\n",
       "      collection-date     country       gbkey      genome     isolate\n",
       "          <character> <character> <character> <character> <character>\n",
       "  [1]            <NA>        <NA>        Gene        <NA>        <NA>\n",
       "  [2]            <NA>        <NA>        Gene        <NA>        <NA>\n",
       "  [3]            <NA>        <NA>        Gene        <NA>        <NA>\n",
       "      isolation-source    mol_type tissue-type         gene   gene_biotype\n",
       "           <character> <character> <character>  <character>    <character>\n",
       "  [1]             <NA>        <NA>        <NA> LOC111116054         lncRNA\n",
       "  [2]             <NA>        <NA>        <NA> LOC111126949 protein_coding\n",
       "  [3]             <NA>        <NA>        <NA> LOC111110729 protein_coding\n",
       "               Parent model_evidence     product transcript_id  protein_id\n",
       "      <CharacterList>    <character> <character>   <character> <character>\n",
       "  [1]                           <NA>        <NA>          <NA>        <NA>\n",
       "  [2]                           <NA>        <NA>          <NA>        <NA>\n",
       "  [3]                           <NA>        <NA>          <NA>        <NA>\n",
       "          partial     start_range            Note   exception   transl_except\n",
       "      <character> <CharacterList> <CharacterList> <character> <CharacterList>\n",
       "  [1]        <NA>                                        <NA>                \n",
       "  [2]        <NA>                                        <NA>                \n",
       "  [3]        <NA>                                        <NA>                \n",
       "           pseudo       end_range   anticodon   inference\n",
       "      <character> <CharacterList> <character> <character>\n",
       "  [1]        <NA>                        <NA>        <NA>\n",
       "  [2]        <NA>                        <NA>        <NA>\n",
       "  [3]        <NA>                        <NA>        <NA>\n",
       "  -------\n",
       "  seqinfo: 1 sequence from an unspecified genome; no seqlengths"
      ]
     },
     "metadata": {},
     "output_type": "display_data"
    }
   ],
   "source": [
    "# Select rows where type == \"gene\"\n",
    "gene <- gff_data[gff_data$type == \"gene\", ]\n",
    "head(gene, 3)\n",
    "\n",
    "# Save the selected rows to a new GFF file\n",
    "export.gff(gene, \"/project/pi_sarah_gignouxwolfsohn_uml_edu/julia/CE_MethylRAD_analysis_2018/analysis/genomic_feature_tracks/CV_gene.gff3\")"
   ]
  },
  {
   "cell_type": "code",
   "execution_count": 23,
   "id": "28093503-420a-4798-9125-069e94e34f8b",
   "metadata": {},
   "outputs": [
    {
     "data": {
      "text/html": [
       "'/project/pi_sarah_gignouxwolfsohn_uml_edu/julia/CE_MethylRAD_analysis_2018/analysis/genomic_feature_tracks'"
      ],
      "text/latex": [
       "'/project/pi\\_sarah\\_gignouxwolfsohn\\_uml\\_edu/julia/CE\\_MethylRAD\\_analysis\\_2018/analysis/genomic\\_feature\\_tracks'"
      ],
      "text/markdown": [
       "'/project/pi_sarah_gignouxwolfsohn_uml_edu/julia/CE_MethylRAD_analysis_2018/analysis/genomic_feature_tracks'"
      ],
      "text/plain": [
       "[1] \"/project/pi_sarah_gignouxwolfsohn_uml_edu/julia/CE_MethylRAD_analysis_2018/analysis/genomic_feature_tracks\""
      ]
     },
     "metadata": {},
     "output_type": "display_data"
    }
   ],
   "source": [
    "setwd('/project/pi_sarah_gignouxwolfsohn_uml_edu/julia/CE_MethylRAD_analysis_2018/analysis/genomic_feature_tracks')\n",
    "getwd()"
   ]
  },
  {
   "cell_type": "code",
   "execution_count": 29,
   "id": "c3031d86-1555-4659-929d-bd0e4f2674fc",
   "metadata": {},
   "outputs": [
    {
     "ename": "ERROR",
     "evalue": "Error in parse(text = x, srcfile = src): attempt to use zero-length variable name\n",
     "output_type": "error",
     "traceback": [
      "Error in parse(text = x, srcfile = src): attempt to use zero-length variable name\nTraceback:\n"
     ]
    }
   ],
   "source": [
    "# run in command line\n",
    "!sortBed -i CV_gene.gff3 > CV_sorted_gene.gff3"
   ]
  },
  {
   "cell_type": "markdown",
   "id": "a9a5c5a5-4c55-4916-8c06-7f63749d58a9",
   "metadata": {},
   "source": [
    "### exons"
   ]
  },
  {
   "cell_type": "code",
   "execution_count": 15,
   "id": "41a2df2a-93cf-4ca5-9131-28aaa578ae67",
   "metadata": {},
   "outputs": [
    {
     "data": {
      "text/plain": [
       "GRanges object with 3 ranges and 32 metadata columns:\n",
       "         seqnames      ranges strand |   source     type     score     phase\n",
       "            <Rle>   <IRanges>  <Rle> | <factor> <factor> <numeric> <integer>\n",
       "  [1] NC_035780.1 13578-13603      + |   Gnomon     exon        NA      <NA>\n",
       "  [2] NC_035780.1 14237-14290      + |   Gnomon     exon        NA      <NA>\n",
       "  [3] NC_035780.1 14557-14594      + |   Gnomon     exon        NA      <NA>\n",
       "                         ID                                  Dbxref        Name\n",
       "                <character>                         <CharacterList> <character>\n",
       "  [1] exon-XR_002636969.1-1 GeneID:111116054,Genbank:XR_002636969.1        <NA>\n",
       "  [2] exon-XR_002636969.1-2 GeneID:111116054,Genbank:XR_002636969.1        <NA>\n",
       "  [3] exon-XR_002636969.1-3 GeneID:111116054,Genbank:XR_002636969.1        <NA>\n",
       "       chromosome collection-date     country       gbkey      genome\n",
       "      <character>     <character> <character> <character> <character>\n",
       "  [1]        <NA>            <NA>        <NA>       ncRNA        <NA>\n",
       "  [2]        <NA>            <NA>        <NA>       ncRNA        <NA>\n",
       "  [3]        <NA>            <NA>        <NA>       ncRNA        <NA>\n",
       "          isolate isolation-source    mol_type tissue-type         gene\n",
       "      <character>      <character> <character> <character>  <character>\n",
       "  [1]        <NA>             <NA>        <NA>        <NA> LOC111116054\n",
       "  [2]        <NA>             <NA>        <NA>        <NA> LOC111116054\n",
       "  [3]        <NA>             <NA>        <NA>        <NA> LOC111116054\n",
       "      gene_biotype             Parent model_evidence                product\n",
       "       <character>    <CharacterList>    <character>            <character>\n",
       "  [1]         <NA> rna-XR_002636969.1           <NA> uncharacterized LOC1..\n",
       "  [2]         <NA> rna-XR_002636969.1           <NA> uncharacterized LOC1..\n",
       "  [3]         <NA> rna-XR_002636969.1           <NA> uncharacterized LOC1..\n",
       "       transcript_id  protein_id     partial     start_range            Note\n",
       "         <character> <character> <character> <CharacterList> <CharacterList>\n",
       "  [1] XR_002636969.1        <NA>        <NA>                                \n",
       "  [2] XR_002636969.1        <NA>        <NA>                                \n",
       "  [3] XR_002636969.1        <NA>        <NA>                                \n",
       "        exception   transl_except      pseudo       end_range   anticodon\n",
       "      <character> <CharacterList> <character> <CharacterList> <character>\n",
       "  [1]        <NA>                        <NA>                        <NA>\n",
       "  [2]        <NA>                        <NA>                        <NA>\n",
       "  [3]        <NA>                        <NA>                        <NA>\n",
       "        inference\n",
       "      <character>\n",
       "  [1]        <NA>\n",
       "  [2]        <NA>\n",
       "  [3]        <NA>\n",
       "  -------\n",
       "  seqinfo: 1 sequence from an unspecified genome; no seqlengths"
      ]
     },
     "metadata": {},
     "output_type": "display_data"
    }
   ],
   "source": [
    "# Select rows where type == \"exon\"\n",
    "exons <- gff_data[gff_data$type == \"exon\", ]\n",
    "head(exons, 3)\n",
    "\n",
    "# Save the selected rows to a new GFF file\n",
    "export.gff(exons, \"/project/pi_sarah_gignouxwolfsohn_uml_edu/julia/CE_MethylRAD_analysis_2018/analysis/genomic_feature_tracks/CV_exons.gff3\")\n",
    "\n",
    "# save as bed file\n",
    "exons$score[is.na(exons$score)] <- 0\n",
    "export.bed(exons, \"/project/pi_sarah_gignouxwolfsohn_uml_edu/julia/CE_MethylRAD_analysis_2018/analysis/genomic_feature_tracks/CV_exons.bed\")"
   ]
  },
  {
   "cell_type": "code",
   "execution_count": null,
   "id": "af9b5fd4-8677-4d21-8f08-bcd6afe6a82f",
   "metadata": {},
   "outputs": [],
   "source": [
    "# run in command line\n",
    "!sortBed -i CV_exon.gff3 > CV_sorted_exons.gff3"
   ]
  },
  {
   "cell_type": "markdown",
   "id": "cd5efdb1-4bc6-4227-9678-503425cfc873",
   "metadata": {},
   "source": [
    "### coding regions"
   ]
  },
  {
   "cell_type": "code",
   "execution_count": 16,
   "id": "a49acafc-8cd9-4f1c-89eb-5e080e89c516",
   "metadata": {},
   "outputs": [
    {
     "data": {
      "text/plain": [
       "GRanges object with 3 ranges and 32 metadata columns:\n",
       "         seqnames      ranges strand |   source     type     score     phase\n",
       "            <Rle>   <IRanges>  <Rle> | <factor> <factor> <numeric> <integer>\n",
       "  [1] NC_035780.1 30535-31557      + |   Gnomon      CDS        NA         0\n",
       "  [2] NC_035780.1 31736-31887      + |   Gnomon      CDS        NA         0\n",
       "  [3] NC_035780.1 31977-32565      + |   Gnomon      CDS        NA         1\n",
       "                      ID                                  Dbxref           Name\n",
       "             <character>                         <CharacterList>    <character>\n",
       "  [1] cds-XP_022327646.1 GeneID:111126949,Genbank:XP_022327646.1 XP_022327646.1\n",
       "  [2] cds-XP_022327646.1 GeneID:111126949,Genbank:XP_022327646.1 XP_022327646.1\n",
       "  [3] cds-XP_022327646.1 GeneID:111126949,Genbank:XP_022327646.1 XP_022327646.1\n",
       "       chromosome collection-date     country       gbkey      genome\n",
       "      <character>     <character> <character> <character> <character>\n",
       "  [1]        <NA>            <NA>        <NA>         CDS        <NA>\n",
       "  [2]        <NA>            <NA>        <NA>         CDS        <NA>\n",
       "  [3]        <NA>            <NA>        <NA>         CDS        <NA>\n",
       "          isolate isolation-source    mol_type tissue-type         gene\n",
       "      <character>      <character> <character> <character>  <character>\n",
       "  [1]        <NA>             <NA>        <NA>        <NA> LOC111126949\n",
       "  [2]        <NA>             <NA>        <NA>        <NA> LOC111126949\n",
       "  [3]        <NA>             <NA>        <NA>        <NA> LOC111126949\n",
       "      gene_biotype             Parent model_evidence            product\n",
       "       <character>    <CharacterList>    <character>        <character>\n",
       "  [1]         <NA> rna-XM_022471938.1           <NA> UNC5C-like protein\n",
       "  [2]         <NA> rna-XM_022471938.1           <NA> UNC5C-like protein\n",
       "  [3]         <NA> rna-XM_022471938.1           <NA> UNC5C-like protein\n",
       "      transcript_id     protein_id     partial     start_range            Note\n",
       "        <character>    <character> <character> <CharacterList> <CharacterList>\n",
       "  [1]          <NA> XP_022327646.1        <NA>                                \n",
       "  [2]          <NA> XP_022327646.1        <NA>                                \n",
       "  [3]          <NA> XP_022327646.1        <NA>                                \n",
       "        exception   transl_except      pseudo       end_range   anticodon\n",
       "      <character> <CharacterList> <character> <CharacterList> <character>\n",
       "  [1]        <NA>                        <NA>                        <NA>\n",
       "  [2]        <NA>                        <NA>                        <NA>\n",
       "  [3]        <NA>                        <NA>                        <NA>\n",
       "        inference\n",
       "      <character>\n",
       "  [1]        <NA>\n",
       "  [2]        <NA>\n",
       "  [3]        <NA>\n",
       "  -------\n",
       "  seqinfo: 1 sequence from an unspecified genome; no seqlengths"
      ]
     },
     "metadata": {},
     "output_type": "display_data"
    }
   ],
   "source": [
    "# Select rows where type == \"CDS\"\n",
    "CDS <- gff_data[gff_data$type == \"CDS\", ]\n",
    "head(CDS, 3)\n",
    "\n",
    "# Save the selected rows to a new GFF file\n",
    "export.gff(CDS, \"/project/pi_sarah_gignouxwolfsohn_uml_edu/julia/CE_MethylRAD_analysis_2018/analysis/genomic_feature_tracks/CV_CDS.gff3\")"
   ]
  },
  {
   "cell_type": "code",
   "execution_count": null,
   "id": "00fbd581-ccfc-46db-8ab8-0d1dad77d9bd",
   "metadata": {},
   "outputs": [],
   "source": [
    "# run in command line\n",
    "!sortBed -i CV_CDS.gff3 > CV_sorted_CDS.gff3"
   ]
  },
  {
   "cell_type": "markdown",
   "id": "d2b8fab6-c532-4b5e-af8a-5f3118971aa0",
   "metadata": {},
   "source": [
    "### mRNA"
   ]
  },
  {
   "cell_type": "code",
   "execution_count": 17,
   "id": "5b1fceac-b8ea-432b-898d-e0578002da89",
   "metadata": {},
   "outputs": [
    {
     "data": {
      "text/plain": [
       "GRanges object with 3 ranges and 32 metadata columns:\n",
       "         seqnames      ranges strand |   source     type     score     phase\n",
       "            <Rle>   <IRanges>  <Rle> | <factor> <factor> <numeric> <integer>\n",
       "  [1] NC_035780.1 28961-33324      + |   Gnomon     mRNA        NA      <NA>\n",
       "  [2] NC_035780.1 43111-66897      - |   Gnomon     mRNA        NA      <NA>\n",
       "  [3] NC_035780.1 43111-46506      - |   Gnomon     mRNA        NA      <NA>\n",
       "                      ID                                  Dbxref           Name\n",
       "             <character>                         <CharacterList>    <character>\n",
       "  [1] rna-XM_022471938.1 GeneID:111126949,Genbank:XM_022471938.1 XM_022471938.1\n",
       "  [2] rna-XM_022447324.1 GeneID:111110729,Genbank:XM_022447324.1 XM_022447324.1\n",
       "  [3] rna-XM_022447333.1 GeneID:111110729,Genbank:XM_022447333.1 XM_022447333.1\n",
       "       chromosome collection-date     country       gbkey      genome\n",
       "      <character>     <character> <character> <character> <character>\n",
       "  [1]        <NA>            <NA>        <NA>        mRNA        <NA>\n",
       "  [2]        <NA>            <NA>        <NA>        mRNA        <NA>\n",
       "  [3]        <NA>            <NA>        <NA>        mRNA        <NA>\n",
       "          isolate isolation-source    mol_type tissue-type         gene\n",
       "      <character>      <character> <character> <character>  <character>\n",
       "  [1]        <NA>             <NA>        <NA>        <NA> LOC111126949\n",
       "  [2]        <NA>             <NA>        <NA>        <NA> LOC111110729\n",
       "  [3]        <NA>             <NA>        <NA>        <NA> LOC111110729\n",
       "      gene_biotype            Parent         model_evidence\n",
       "       <character>   <CharacterList>            <character>\n",
       "  [1]         <NA> gene-LOC111126949 Supporting evidence ..\n",
       "  [2]         <NA> gene-LOC111110729 Supporting evidence ..\n",
       "  [3]         <NA> gene-LOC111110729 Supporting evidence ..\n",
       "                     product  transcript_id  protein_id     partial\n",
       "                 <character>    <character> <character> <character>\n",
       "  [1]     UNC5C-like protein XM_022471938.1        <NA>        <NA>\n",
       "  [2] FMRFamide receptor-l.. XM_022447324.1        <NA>        <NA>\n",
       "  [3] FMRFamide receptor-l.. XM_022447333.1        <NA>        <NA>\n",
       "          start_range            Note   exception   transl_except      pseudo\n",
       "      <CharacterList> <CharacterList> <character> <CharacterList> <character>\n",
       "  [1]                                        <NA>                        <NA>\n",
       "  [2]                                        <NA>                        <NA>\n",
       "  [3]                                        <NA>                        <NA>\n",
       "            end_range   anticodon   inference\n",
       "      <CharacterList> <character> <character>\n",
       "  [1]                        <NA>        <NA>\n",
       "  [2]                        <NA>        <NA>\n",
       "  [3]                        <NA>        <NA>\n",
       "  -------\n",
       "  seqinfo: 1 sequence from an unspecified genome; no seqlengths"
      ]
     },
     "metadata": {},
     "output_type": "display_data"
    }
   ],
   "source": [
    "# Select rows where type == \"mRNA\"\n",
    "mRNA <- gff_data[gff_data$type == \"mRNA\", ]\n",
    "head(mRNA, 3)\n",
    "\n",
    "# Save the selected rows to a new GFF file\n",
    "export.gff(mRNA, \"/project/pi_sarah_gignouxwolfsohn_uml_edu/julia/CE_MethylRAD_analysis_2018/analysis/genomic_feature_tracks/CV_mRNA.gff3\")"
   ]
  },
  {
   "cell_type": "code",
   "execution_count": null,
   "id": "ec15fc69-581d-478d-9147-3fc9040c74b1",
   "metadata": {},
   "outputs": [],
   "source": [
    "# run in command line\n",
    "!sortBed -i CV_mRNA.gff3 > CV_sorted_mRNA.gff3"
   ]
  },
  {
   "cell_type": "markdown",
   "id": "f4b32a54-8f36-4402-8a5a-b04ea027d6e8",
   "metadata": {},
   "source": [
    "### introns\n",
    "\n",
    "introns are the space between exons within a gene - so to pull this out, I have to look within a gene (LOC number), subtract the end of exon 1 from the start of exon 2\n",
    "\n",
    "\n",
    "can create GFF file of non-coding regions based on the original GFF file - then introns, by definition, are the intersections of non-coding regions and genes\n",
    "\n",
    "\n",
    "following pipeline from [Venkataraman et al 2020](https://www.frontiersin.org/journals/marine-science/articles/10.3389/fmars.2020.00225/full#h7)"
   ]
  },
  {
   "cell_type": "code",
   "execution_count": 18,
   "id": "c788ea2b-b074-4e86-8268-1b6757feaeaf",
   "metadata": {},
   "outputs": [
    {
     "data": {
      "text/plain": [
       "GRanges object with 6 ranges and 32 metadata columns:\n",
       "         seqnames      ranges strand |   source     type     score     phase\n",
       "            <Rle>   <IRanges>  <Rle> | <factor> <factor> <numeric> <integer>\n",
       "  [1] NC_035780.1 13578-13603      + |   Gnomon     exon         0      <NA>\n",
       "  [2] NC_035780.1 14237-14290      + |   Gnomon     exon         0      <NA>\n",
       "  [3] NC_035780.1 14557-14594      + |   Gnomon     exon         0      <NA>\n",
       "  [4] NC_035780.1 28961-29073      + |   Gnomon     exon         0      <NA>\n",
       "  [5] NC_035780.1 30524-31557      + |   Gnomon     exon         0      <NA>\n",
       "  [6] NC_035780.1 31736-31887      + |   Gnomon     exon         0      <NA>\n",
       "                         ID                                  Dbxref        Name\n",
       "                <character>                         <CharacterList> <character>\n",
       "  [1] exon-XR_002636969.1-1 GeneID:111116054,Genbank:XR_002636969.1        <NA>\n",
       "  [2] exon-XR_002636969.1-2 GeneID:111116054,Genbank:XR_002636969.1        <NA>\n",
       "  [3] exon-XR_002636969.1-3 GeneID:111116054,Genbank:XR_002636969.1        <NA>\n",
       "  [4] exon-XM_022471938.1-1 GeneID:111126949,Genbank:XM_022471938.1        <NA>\n",
       "  [5] exon-XM_022471938.1-2 GeneID:111126949,Genbank:XM_022471938.1        <NA>\n",
       "  [6] exon-XM_022471938.1-3 GeneID:111126949,Genbank:XM_022471938.1        <NA>\n",
       "       chromosome collection-date     country       gbkey      genome\n",
       "      <character>     <character> <character> <character> <character>\n",
       "  [1]        <NA>            <NA>        <NA>       ncRNA        <NA>\n",
       "  [2]        <NA>            <NA>        <NA>       ncRNA        <NA>\n",
       "  [3]        <NA>            <NA>        <NA>       ncRNA        <NA>\n",
       "  [4]        <NA>            <NA>        <NA>        mRNA        <NA>\n",
       "  [5]        <NA>            <NA>        <NA>        mRNA        <NA>\n",
       "  [6]        <NA>            <NA>        <NA>        mRNA        <NA>\n",
       "          isolate isolation-source    mol_type tissue-type         gene\n",
       "      <character>      <character> <character> <character>  <character>\n",
       "  [1]        <NA>             <NA>        <NA>        <NA> LOC111116054\n",
       "  [2]        <NA>             <NA>        <NA>        <NA> LOC111116054\n",
       "  [3]        <NA>             <NA>        <NA>        <NA> LOC111116054\n",
       "  [4]        <NA>             <NA>        <NA>        <NA> LOC111126949\n",
       "  [5]        <NA>             <NA>        <NA>        <NA> LOC111126949\n",
       "  [6]        <NA>             <NA>        <NA>        <NA> LOC111126949\n",
       "      gene_biotype             Parent model_evidence                product\n",
       "       <character>    <CharacterList>    <character>            <character>\n",
       "  [1]         <NA> rna-XR_002636969.1           <NA> uncharacterized LOC1..\n",
       "  [2]         <NA> rna-XR_002636969.1           <NA> uncharacterized LOC1..\n",
       "  [3]         <NA> rna-XR_002636969.1           <NA> uncharacterized LOC1..\n",
       "  [4]         <NA> rna-XM_022471938.1           <NA>     UNC5C-like protein\n",
       "  [5]         <NA> rna-XM_022471938.1           <NA>     UNC5C-like protein\n",
       "  [6]         <NA> rna-XM_022471938.1           <NA>     UNC5C-like protein\n",
       "       transcript_id  protein_id     partial     start_range            Note\n",
       "         <character> <character> <character> <CharacterList> <CharacterList>\n",
       "  [1] XR_002636969.1        <NA>        <NA>                                \n",
       "  [2] XR_002636969.1        <NA>        <NA>                                \n",
       "  [3] XR_002636969.1        <NA>        <NA>                                \n",
       "  [4] XM_022471938.1        <NA>        <NA>                                \n",
       "  [5] XM_022471938.1        <NA>        <NA>                                \n",
       "  [6] XM_022471938.1        <NA>        <NA>                                \n",
       "        exception   transl_except      pseudo       end_range   anticodon\n",
       "      <character> <CharacterList> <character> <CharacterList> <character>\n",
       "  [1]        <NA>                        <NA>                        <NA>\n",
       "  [2]        <NA>                        <NA>                        <NA>\n",
       "  [3]        <NA>                        <NA>                        <NA>\n",
       "  [4]        <NA>                        <NA>                        <NA>\n",
       "  [5]        <NA>                        <NA>                        <NA>\n",
       "  [6]        <NA>                        <NA>                        <NA>\n",
       "        inference\n",
       "      <character>\n",
       "  [1]        <NA>\n",
       "  [2]        <NA>\n",
       "  [3]        <NA>\n",
       "  [4]        <NA>\n",
       "  [5]        <NA>\n",
       "  [6]        <NA>\n",
       "  -------\n",
       "  seqinfo: 1 sequence from an unspecified genome; no seqlengths"
      ]
     },
     "metadata": {},
     "output_type": "display_data"
    }
   ],
   "source": [
    "head(exons)"
   ]
  },
  {
   "cell_type": "code",
   "execution_count": null,
   "id": "e0753a19-7986-4adb-a9bc-f5c59adc9086",
   "metadata": {},
   "outputs": [],
   "source": [
    "# run in command line\n",
    "complementBed -i CV_sorted_exons.gff3 -g 2018-06-15-bedtools-Chromosome-Lengths.txt > CV_noncoding.gff3"
   ]
  },
  {
   "cell_type": "code",
   "execution_count": null,
   "id": "0c631bd0-c6fe-476d-802f-6ed0dc6ee99e",
   "metadata": {},
   "outputs": [],
   "source": [
    "# run in command line\n",
    "!intersectBed \\\n",
    "-a CV_noncoding.gff3 \\\n",
    "-b CV_sorted_gene.gff3 -sorted \\\n",
    "> CV_sorted_intron.gff3"
   ]
  },
  {
   "cell_type": "code",
   "execution_count": 30,
   "id": "097c503e-edad-4f1b-8e1c-38980680f8a7",
   "metadata": {},
   "outputs": [
    {
     "ename": "ERROR",
     "evalue": "Error in scan(file, w, sep = \"\\t\", quote = \"\", quiet = TRUE, na.strings = na.strings, : scan() expected 'an integer', got 'NC_035780.1'\n",
     "output_type": "error",
     "traceback": [
      "Error in scan(file, w, sep = \"\\t\", quote = \"\", quiet = TRUE, na.strings = na.strings, : scan() expected 'an integer', got 'NC_035780.1'\nTraceback:\n",
      "1. read.gff(\"/project/pi_sarah_gignouxwolfsohn_uml_edu/julia/CE_MethylRAD_analysis_2018/analysis/genomic_feature_tracks/CV_sorted_intron.gff3\")",
      "2. scan(file, w, sep = \"\\t\", quote = \"\", quiet = TRUE, na.strings = na.strings, \n .     comment.char = \"#\")"
     ]
    }
   ],
   "source": []
  },
  {
   "cell_type": "markdown",
   "id": "b3ee6fc3-c115-42e0-b8a8-039f50f6d0cb",
   "metadata": {},
   "source": [
    "# bedtools multicov"
   ]
  },
  {
   "cell_type": "code",
   "execution_count": null,
   "id": "7f2e729c-3fe9-493a-a8e8-d93d040306c2",
   "metadata": {},
   "outputs": [],
   "source": [
    "multiBamCov -bams *.bam -bed /project/pi_sarah_gignouxwolfsohn_uml_edu/julia/CE_MethylRAD_analysis_2018/analysis/genomic_feature_tracks/CV_sorted_exon.bed > exon_multicov.csv"
   ]
  },
  {
   "cell_type": "code",
   "execution_count": null,
   "id": "85760b3c-e04a-4706-afc7-5bac1cfee42c",
   "metadata": {},
   "outputs": [],
   "source": [
    "multiBamCov -bams *.bam -bed /project/pi_sarah_gignouxwolfsohn_uml_edu/julia/CE_MethylRAD_analysis_2018/analysis/genomic_feature_tracks/CV_sorted_intron.bed > intron_multicov.csv"
   ]
  }
 ],
 "metadata": {
  "kernelspec": {
   "display_name": "R [conda env:.conda-r-env]",
   "language": "R",
   "name": "conda-env-.conda-r-env-r"
  },
  "language_info": {
   "codemirror_mode": "r",
   "file_extension": ".r",
   "mimetype": "text/x-r-source",
   "name": "R",
   "pygments_lexer": "r",
   "version": "4.3.2"
  }
 },
 "nbformat": 4,
 "nbformat_minor": 5
}
