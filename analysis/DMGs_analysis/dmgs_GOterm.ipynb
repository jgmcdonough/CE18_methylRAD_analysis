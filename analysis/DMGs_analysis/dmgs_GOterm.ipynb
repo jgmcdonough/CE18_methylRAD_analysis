{
 "cells": [
  {
   "cell_type": "markdown",
   "id": "489fb739-c7db-4ef3-934d-83924e162310",
   "metadata": {},
   "source": [
    "# GO Annotation\n",
    "\n",
    "following [AnnotationDbi manual](https://bioconductor.org/packages/devel/bioc/vignettes/AnnotationDbi/inst/doc/IntroToAnnotationPackages.pdf#page=8.61) and [GO.db manual](https://bioconductor.org/packages/release/data/annotation/manuals/GO.db/man/GO.db.pdf)"
   ]
  },
  {
   "cell_type": "code",
   "execution_count": 6,
   "id": "d941220f-eb74-4aa1-a0e3-3164c3f81646",
   "metadata": {},
   "outputs": [],
   "source": [
    "library(GO.db)"
   ]
  },
  {
   "cell_type": "code",
   "execution_count": 7,
   "id": "f03ef471-7343-46f4-b4ad-64e53a0b1da6",
   "metadata": {},
   "outputs": [
    {
     "data": {
      "text/html": [
       "<table class=\"dataframe\">\n",
       "<caption>A data.frame: 6 × 10</caption>\n",
       "<thead>\n",
       "\t<tr><th></th><th scope=col>gene_id</th><th scope=col>order</th><th scope=col>name</th><th scope=col>pair_vs_HC</th><th scope=col>gene_name</th><th scope=col>process</th><th scope=col>notes</th><th scope=col>GO.IDs</th><th scope=col>GOslim</th><th scope=col>Term</th></tr>\n",
       "\t<tr><th></th><th scope=col>&lt;chr&gt;</th><th scope=col>&lt;int&gt;</th><th scope=col>&lt;chr&gt;</th><th scope=col>&lt;chr&gt;</th><th scope=col>&lt;chr&gt;</th><th scope=col>&lt;chr&gt;</th><th scope=col>&lt;chr&gt;</th><th scope=col>&lt;chr&gt;</th><th scope=col>&lt;chr&gt;</th><th scope=col>&lt;chr&gt;</th></tr>\n",
       "</thead>\n",
       "<tbody>\n",
       "\t<tr><th scope=row>1</th><td>LOC111117760</td><td>1</td><td>disintegrin and metalloproteinase domain-containing protein 10-like, transcript variant X3</td><td>CH, HH, CC</td><td>ADAM10</td><td>cell signaling, adhesion, migration                      </td><td></td><td>GO:0007219</td><td>GO:0023052           </td><td>signaling                       </td></tr>\n",
       "\t<tr><th scope=row>2</th><td>LOC111119327</td><td>2</td><td>calcyphosin-like protein, transcript variant X3                                           </td><td>CH, HH, CC</td><td>CAPSL </td><td>calcium ion binding                                      </td><td></td><td>NA        </td><td>NA                   </td><td>NA                              </td></tr>\n",
       "\t<tr><th scope=row>3</th><td>LOC111123492</td><td>3</td><td>pre-B-cell leukemia transcription factor 1-like, transcript variant X11                   </td><td>CH, HH, CC</td><td>PBX1  </td><td>regulates embryonic development and cellular differention</td><td></td><td>GO:0048568</td><td>GO:0048856           </td><td>anatomical structure development</td></tr>\n",
       "\t<tr><th scope=row>4</th><td>LOC111123492</td><td>3</td><td>pre-B-cell leukemia transcription factor 1-like, transcript variant X11                   </td><td>CH, HH, CC</td><td>PBX1  </td><td>regulates embryonic development and cellular differention</td><td></td><td>GO:0009887</td><td>GO:0048856           </td><td>anatomical structure development</td></tr>\n",
       "\t<tr><th scope=row>5</th><td>LOC111123492</td><td>3</td><td>pre-B-cell leukemia transcription factor 1-like, transcript variant X11                   </td><td>CH, HH, CC</td><td>PBX1  </td><td>regulates embryonic development and cellular differention</td><td></td><td>GO:0048666</td><td>GO:0030154;GO:0048856</td><td>cell differentiation            </td></tr>\n",
       "\t<tr><th scope=row>6</th><td>LOC111123492</td><td>3</td><td>pre-B-cell leukemia transcription factor 1-like, transcript variant X11                   </td><td>CH, HH, CC</td><td>PBX1  </td><td>regulates embryonic development and cellular differention</td><td></td><td>GO:0048666</td><td>GO:0030154;GO:0048856</td><td>anatomical structure development</td></tr>\n",
       "</tbody>\n",
       "</table>\n"
      ],
      "text/latex": [
       "A data.frame: 6 × 10\n",
       "\\begin{tabular}{r|llllllllll}\n",
       "  & gene\\_id & order & name & pair\\_vs\\_HC & gene\\_name & process & notes & GO.IDs & GOslim & Term\\\\\n",
       "  & <chr> & <int> & <chr> & <chr> & <chr> & <chr> & <chr> & <chr> & <chr> & <chr>\\\\\n",
       "\\hline\n",
       "\t1 & LOC111117760 & 1 & disintegrin and metalloproteinase domain-containing protein 10-like, transcript variant X3 & CH, HH, CC & ADAM10 & cell signaling, adhesion, migration                       &  & GO:0007219 & GO:0023052            & signaling                       \\\\\n",
       "\t2 & LOC111119327 & 2 & calcyphosin-like protein, transcript variant X3                                            & CH, HH, CC & CAPSL  & calcium ion binding                                       &  & NA         & NA                    & NA                              \\\\\n",
       "\t3 & LOC111123492 & 3 & pre-B-cell leukemia transcription factor 1-like, transcript variant X11                    & CH, HH, CC & PBX1   & regulates embryonic development and cellular differention &  & GO:0048568 & GO:0048856            & anatomical structure development\\\\\n",
       "\t4 & LOC111123492 & 3 & pre-B-cell leukemia transcription factor 1-like, transcript variant X11                    & CH, HH, CC & PBX1   & regulates embryonic development and cellular differention &  & GO:0009887 & GO:0048856            & anatomical structure development\\\\\n",
       "\t5 & LOC111123492 & 3 & pre-B-cell leukemia transcription factor 1-like, transcript variant X11                    & CH, HH, CC & PBX1   & regulates embryonic development and cellular differention &  & GO:0048666 & GO:0030154;GO:0048856 & cell differentiation            \\\\\n",
       "\t6 & LOC111123492 & 3 & pre-B-cell leukemia transcription factor 1-like, transcript variant X11                    & CH, HH, CC & PBX1   & regulates embryonic development and cellular differention &  & GO:0048666 & GO:0030154;GO:0048856 & anatomical structure development\\\\\n",
       "\\end{tabular}\n"
      ],
      "text/markdown": [
       "\n",
       "A data.frame: 6 × 10\n",
       "\n",
       "| <!--/--> | gene_id &lt;chr&gt; | order &lt;int&gt; | name &lt;chr&gt; | pair_vs_HC &lt;chr&gt; | gene_name &lt;chr&gt; | process &lt;chr&gt; | notes &lt;chr&gt; | GO.IDs &lt;chr&gt; | GOslim &lt;chr&gt; | Term &lt;chr&gt; |\n",
       "|---|---|---|---|---|---|---|---|---|---|---|\n",
       "| 1 | LOC111117760 | 1 | disintegrin and metalloproteinase domain-containing protein 10-like, transcript variant X3 | CH, HH, CC | ADAM10 | cell signaling, adhesion, migration                       | <!----> | GO:0007219 | GO:0023052            | signaling                        |\n",
       "| 2 | LOC111119327 | 2 | calcyphosin-like protein, transcript variant X3                                            | CH, HH, CC | CAPSL  | calcium ion binding                                       | <!----> | NA         | NA                    | NA                               |\n",
       "| 3 | LOC111123492 | 3 | pre-B-cell leukemia transcription factor 1-like, transcript variant X11                    | CH, HH, CC | PBX1   | regulates embryonic development and cellular differention | <!----> | GO:0048568 | GO:0048856            | anatomical structure development |\n",
       "| 4 | LOC111123492 | 3 | pre-B-cell leukemia transcription factor 1-like, transcript variant X11                    | CH, HH, CC | PBX1   | regulates embryonic development and cellular differention | <!----> | GO:0009887 | GO:0048856            | anatomical structure development |\n",
       "| 5 | LOC111123492 | 3 | pre-B-cell leukemia transcription factor 1-like, transcript variant X11                    | CH, HH, CC | PBX1   | regulates embryonic development and cellular differention | <!----> | GO:0048666 | GO:0030154;GO:0048856 | cell differentiation             |\n",
       "| 6 | LOC111123492 | 3 | pre-B-cell leukemia transcription factor 1-like, transcript variant X11                    | CH, HH, CC | PBX1   | regulates embryonic development and cellular differention | <!----> | GO:0048666 | GO:0030154;GO:0048856 | anatomical structure development |\n",
       "\n"
      ],
      "text/plain": [
       "  gene_id      order\n",
       "1 LOC111117760 1    \n",
       "2 LOC111119327 2    \n",
       "3 LOC111123492 3    \n",
       "4 LOC111123492 3    \n",
       "5 LOC111123492 3    \n",
       "6 LOC111123492 3    \n",
       "  name                                                                                      \n",
       "1 disintegrin and metalloproteinase domain-containing protein 10-like, transcript variant X3\n",
       "2 calcyphosin-like protein, transcript variant X3                                           \n",
       "3 pre-B-cell leukemia transcription factor 1-like, transcript variant X11                   \n",
       "4 pre-B-cell leukemia transcription factor 1-like, transcript variant X11                   \n",
       "5 pre-B-cell leukemia transcription factor 1-like, transcript variant X11                   \n",
       "6 pre-B-cell leukemia transcription factor 1-like, transcript variant X11                   \n",
       "  pair_vs_HC gene_name\n",
       "1 CH, HH, CC ADAM10   \n",
       "2 CH, HH, CC CAPSL    \n",
       "3 CH, HH, CC PBX1     \n",
       "4 CH, HH, CC PBX1     \n",
       "5 CH, HH, CC PBX1     \n",
       "6 CH, HH, CC PBX1     \n",
       "  process                                                   notes GO.IDs    \n",
       "1 cell signaling, adhesion, migration                             GO:0007219\n",
       "2 calcium ion binding                                             NA        \n",
       "3 regulates embryonic development and cellular differention       GO:0048568\n",
       "4 regulates embryonic development and cellular differention       GO:0009887\n",
       "5 regulates embryonic development and cellular differention       GO:0048666\n",
       "6 regulates embryonic development and cellular differention       GO:0048666\n",
       "  GOslim                Term                            \n",
       "1 GO:0023052            signaling                       \n",
       "2 NA                    NA                              \n",
       "3 GO:0048856            anatomical structure development\n",
       "4 GO:0048856            anatomical structure development\n",
       "5 GO:0030154;GO:0048856 cell differentiation            \n",
       "6 GO:0030154;GO:0048856 anatomical structure development"
      ]
     },
     "metadata": {},
     "output_type": "display_data"
    }
   ],
   "source": [
    "dmgs <- read.csv('/project/pi_sarah_gignouxwolfsohn_uml_edu/julia/CE_MethylRAD_analysis_2018/analysis/deseq_res_files/GO_terms/sigDMG.goSlim.csv')\n",
    "head(dmgs)"
   ]
  },
  {
   "cell_type": "code",
   "execution_count": 10,
   "id": "ef0a8652-60f5-409c-897c-9d8ffcede789",
   "metadata": {},
   "outputs": [
    {
     "name": "stderr",
     "output_type": "stream",
     "text": [
      "'select()' returned many:1 mapping between keys and columns\n",
      "\n"
     ]
    },
    {
     "data": {
      "text/html": [
       "<table class=\"dataframe\">\n",
       "<caption>A data.frame: 299 × 2</caption>\n",
       "<thead>\n",
       "\t<tr><th scope=col>GOID</th><th scope=col>TERM</th></tr>\n",
       "\t<tr><th scope=col>&lt;chr&gt;</th><th scope=col>&lt;chr&gt;</th></tr>\n",
       "</thead>\n",
       "<tbody>\n",
       "\t<tr><td>GO:0007219</td><td>Notch signaling pathway                                          </td></tr>\n",
       "\t<tr><td>NA        </td><td>NA                                                               </td></tr>\n",
       "\t<tr><td>GO:0048568</td><td>embryonic organ development                                      </td></tr>\n",
       "\t<tr><td>GO:0009887</td><td>animal organ morphogenesis                                       </td></tr>\n",
       "\t<tr><td>GO:0048666</td><td>neuron development                                               </td></tr>\n",
       "\t<tr><td>GO:0048666</td><td>neuron development                                               </td></tr>\n",
       "\t<tr><td>GO:0006357</td><td>regulation of transcription by RNA polymerase II                 </td></tr>\n",
       "\t<tr><td>GO:0006357</td><td>regulation of transcription by RNA polymerase II                 </td></tr>\n",
       "\t<tr><td>NA        </td><td>NA                                                               </td></tr>\n",
       "\t<tr><td>GO:0090090</td><td>negative regulation of canonical Wnt signaling pathway           </td></tr>\n",
       "\t<tr><td>NA        </td><td>NA                                                               </td></tr>\n",
       "\t<tr><td>NA        </td><td>NA                                                               </td></tr>\n",
       "\t<tr><td>GO:0006398</td><td>mRNA 3'-end processing by stem-loop binding and cleavage         </td></tr>\n",
       "\t<tr><td>NA        </td><td>NA                                                               </td></tr>\n",
       "\t<tr><td>NA        </td><td>NA                                                               </td></tr>\n",
       "\t<tr><td>GO:0009159</td><td>deoxyribonucleoside monophosphate catabolic process              </td></tr>\n",
       "\t<tr><td>NA        </td><td>NA                                                               </td></tr>\n",
       "\t<tr><td>NA        </td><td>NA                                                               </td></tr>\n",
       "\t<tr><td>GO:0030041</td><td>actin filament polymerization                                    </td></tr>\n",
       "\t<tr><td>GO:0030041</td><td>actin filament polymerization                                    </td></tr>\n",
       "\t<tr><td>NA        </td><td>NA                                                               </td></tr>\n",
       "\t<tr><td>GO:0071028</td><td>nuclear mRNA surveillance                                        </td></tr>\n",
       "\t<tr><td>GO:0034475</td><td>U4 snRNA 3'-end processing                                       </td></tr>\n",
       "\t<tr><td>GO:0034427</td><td>nuclear-transcribed mRNA catabolic process, exonucleolytic, 3'-5'</td></tr>\n",
       "\t<tr><td>GO:0071051</td><td>polyadenylation-dependent snoRNA 3'-end processing               </td></tr>\n",
       "\t<tr><td>NA        </td><td>NA                                                               </td></tr>\n",
       "\t<tr><td>NA        </td><td>NA                                                               </td></tr>\n",
       "\t<tr><td>NA        </td><td>NA                                                               </td></tr>\n",
       "\t<tr><td>NA        </td><td>NA                                                               </td></tr>\n",
       "\t<tr><td>NA        </td><td>NA                                                               </td></tr>\n",
       "\t<tr><td>⋮</td><td>⋮</td></tr>\n",
       "\t<tr><td>GO:0006357</td><td>regulation of transcription by RNA polymerase II           </td></tr>\n",
       "\t<tr><td>GO:0006357</td><td>regulation of transcription by RNA polymerase II           </td></tr>\n",
       "\t<tr><td>GO:0006357</td><td>regulation of transcription by RNA polymerase II           </td></tr>\n",
       "\t<tr><td>GO:0006357</td><td>regulation of transcription by RNA polymerase II           </td></tr>\n",
       "\t<tr><td>GO:0006614</td><td>SRP-dependent cotranslational protein targeting to membrane</td></tr>\n",
       "\t<tr><td>NA        </td><td>NA                                                         </td></tr>\n",
       "\t<tr><td>NA        </td><td>NA                                                         </td></tr>\n",
       "\t<tr><td>GO:0016558</td><td>protein import into peroxisome matrix                      </td></tr>\n",
       "\t<tr><td>GO:0016558</td><td>protein import into peroxisome matrix                      </td></tr>\n",
       "\t<tr><td>GO:0016558</td><td>protein import into peroxisome matrix                      </td></tr>\n",
       "\t<tr><td>GO:0006357</td><td>regulation of transcription by RNA polymerase II           </td></tr>\n",
       "\t<tr><td>GO:0006357</td><td>regulation of transcription by RNA polymerase II           </td></tr>\n",
       "\t<tr><td>NA        </td><td>NA                                                         </td></tr>\n",
       "\t<tr><td>NA        </td><td>NA                                                         </td></tr>\n",
       "\t<tr><td>NA        </td><td>NA                                                         </td></tr>\n",
       "\t<tr><td>NA        </td><td>NA                                                         </td></tr>\n",
       "\t<tr><td>NA        </td><td>NA                                                         </td></tr>\n",
       "\t<tr><td>NA        </td><td>NA                                                         </td></tr>\n",
       "\t<tr><td>GO:0042026</td><td>protein refolding                                          </td></tr>\n",
       "\t<tr><td>GO:0042026</td><td>protein refolding                                          </td></tr>\n",
       "\t<tr><td>GO:0051085</td><td>chaperone cofactor-dependent protein refolding             </td></tr>\n",
       "\t<tr><td>GO:0051085</td><td>chaperone cofactor-dependent protein refolding             </td></tr>\n",
       "\t<tr><td>GO:0035556</td><td>intracellular signal transduction                          </td></tr>\n",
       "\t<tr><td>GO:0046854</td><td>phosphatidylinositol phosphate biosynthetic process        </td></tr>\n",
       "\t<tr><td>NA        </td><td>NA                                                         </td></tr>\n",
       "\t<tr><td>NA        </td><td>NA                                                         </td></tr>\n",
       "\t<tr><td>GO:0009229</td><td>thiamine diphosphate biosynthetic process                  </td></tr>\n",
       "\t<tr><td>GO:0009229</td><td>thiamine diphosphate biosynthetic process                  </td></tr>\n",
       "\t<tr><td>GO:0006772</td><td>thiamine metabolic process                                 </td></tr>\n",
       "\t<tr><td>GO:0006772</td><td>thiamine metabolic process                                 </td></tr>\n",
       "</tbody>\n",
       "</table>\n"
      ],
      "text/latex": [
       "A data.frame: 299 × 2\n",
       "\\begin{tabular}{ll}\n",
       " GOID & TERM\\\\\n",
       " <chr> & <chr>\\\\\n",
       "\\hline\n",
       "\t GO:0007219 & Notch signaling pathway                                          \\\\\n",
       "\t NA         & NA                                                               \\\\\n",
       "\t GO:0048568 & embryonic organ development                                      \\\\\n",
       "\t GO:0009887 & animal organ morphogenesis                                       \\\\\n",
       "\t GO:0048666 & neuron development                                               \\\\\n",
       "\t GO:0048666 & neuron development                                               \\\\\n",
       "\t GO:0006357 & regulation of transcription by RNA polymerase II                 \\\\\n",
       "\t GO:0006357 & regulation of transcription by RNA polymerase II                 \\\\\n",
       "\t NA         & NA                                                               \\\\\n",
       "\t GO:0090090 & negative regulation of canonical Wnt signaling pathway           \\\\\n",
       "\t NA         & NA                                                               \\\\\n",
       "\t NA         & NA                                                               \\\\\n",
       "\t GO:0006398 & mRNA 3'-end processing by stem-loop binding and cleavage         \\\\\n",
       "\t NA         & NA                                                               \\\\\n",
       "\t NA         & NA                                                               \\\\\n",
       "\t GO:0009159 & deoxyribonucleoside monophosphate catabolic process              \\\\\n",
       "\t NA         & NA                                                               \\\\\n",
       "\t NA         & NA                                                               \\\\\n",
       "\t GO:0030041 & actin filament polymerization                                    \\\\\n",
       "\t GO:0030041 & actin filament polymerization                                    \\\\\n",
       "\t NA         & NA                                                               \\\\\n",
       "\t GO:0071028 & nuclear mRNA surveillance                                        \\\\\n",
       "\t GO:0034475 & U4 snRNA 3'-end processing                                       \\\\\n",
       "\t GO:0034427 & nuclear-transcribed mRNA catabolic process, exonucleolytic, 3'-5'\\\\\n",
       "\t GO:0071051 & polyadenylation-dependent snoRNA 3'-end processing               \\\\\n",
       "\t NA         & NA                                                               \\\\\n",
       "\t NA         & NA                                                               \\\\\n",
       "\t NA         & NA                                                               \\\\\n",
       "\t NA         & NA                                                               \\\\\n",
       "\t NA         & NA                                                               \\\\\n",
       "\t ⋮ & ⋮\\\\\n",
       "\t GO:0006357 & regulation of transcription by RNA polymerase II           \\\\\n",
       "\t GO:0006357 & regulation of transcription by RNA polymerase II           \\\\\n",
       "\t GO:0006357 & regulation of transcription by RNA polymerase II           \\\\\n",
       "\t GO:0006357 & regulation of transcription by RNA polymerase II           \\\\\n",
       "\t GO:0006614 & SRP-dependent cotranslational protein targeting to membrane\\\\\n",
       "\t NA         & NA                                                         \\\\\n",
       "\t NA         & NA                                                         \\\\\n",
       "\t GO:0016558 & protein import into peroxisome matrix                      \\\\\n",
       "\t GO:0016558 & protein import into peroxisome matrix                      \\\\\n",
       "\t GO:0016558 & protein import into peroxisome matrix                      \\\\\n",
       "\t GO:0006357 & regulation of transcription by RNA polymerase II           \\\\\n",
       "\t GO:0006357 & regulation of transcription by RNA polymerase II           \\\\\n",
       "\t NA         & NA                                                         \\\\\n",
       "\t NA         & NA                                                         \\\\\n",
       "\t NA         & NA                                                         \\\\\n",
       "\t NA         & NA                                                         \\\\\n",
       "\t NA         & NA                                                         \\\\\n",
       "\t NA         & NA                                                         \\\\\n",
       "\t GO:0042026 & protein refolding                                          \\\\\n",
       "\t GO:0042026 & protein refolding                                          \\\\\n",
       "\t GO:0051085 & chaperone cofactor-dependent protein refolding             \\\\\n",
       "\t GO:0051085 & chaperone cofactor-dependent protein refolding             \\\\\n",
       "\t GO:0035556 & intracellular signal transduction                          \\\\\n",
       "\t GO:0046854 & phosphatidylinositol phosphate biosynthetic process        \\\\\n",
       "\t NA         & NA                                                         \\\\\n",
       "\t NA         & NA                                                         \\\\\n",
       "\t GO:0009229 & thiamine diphosphate biosynthetic process                  \\\\\n",
       "\t GO:0009229 & thiamine diphosphate biosynthetic process                  \\\\\n",
       "\t GO:0006772 & thiamine metabolic process                                 \\\\\n",
       "\t GO:0006772 & thiamine metabolic process                                 \\\\\n",
       "\\end{tabular}\n"
      ],
      "text/markdown": [
       "\n",
       "A data.frame: 299 × 2\n",
       "\n",
       "| GOID &lt;chr&gt; | TERM &lt;chr&gt; |\n",
       "|---|---|\n",
       "| GO:0007219 | Notch signaling pathway                                           |\n",
       "| NA         | NA                                                                |\n",
       "| GO:0048568 | embryonic organ development                                       |\n",
       "| GO:0009887 | animal organ morphogenesis                                        |\n",
       "| GO:0048666 | neuron development                                                |\n",
       "| GO:0048666 | neuron development                                                |\n",
       "| GO:0006357 | regulation of transcription by RNA polymerase II                  |\n",
       "| GO:0006357 | regulation of transcription by RNA polymerase II                  |\n",
       "| NA         | NA                                                                |\n",
       "| GO:0090090 | negative regulation of canonical Wnt signaling pathway            |\n",
       "| NA         | NA                                                                |\n",
       "| NA         | NA                                                                |\n",
       "| GO:0006398 | mRNA 3'-end processing by stem-loop binding and cleavage          |\n",
       "| NA         | NA                                                                |\n",
       "| NA         | NA                                                                |\n",
       "| GO:0009159 | deoxyribonucleoside monophosphate catabolic process               |\n",
       "| NA         | NA                                                                |\n",
       "| NA         | NA                                                                |\n",
       "| GO:0030041 | actin filament polymerization                                     |\n",
       "| GO:0030041 | actin filament polymerization                                     |\n",
       "| NA         | NA                                                                |\n",
       "| GO:0071028 | nuclear mRNA surveillance                                         |\n",
       "| GO:0034475 | U4 snRNA 3'-end processing                                        |\n",
       "| GO:0034427 | nuclear-transcribed mRNA catabolic process, exonucleolytic, 3'-5' |\n",
       "| GO:0071051 | polyadenylation-dependent snoRNA 3'-end processing                |\n",
       "| NA         | NA                                                                |\n",
       "| NA         | NA                                                                |\n",
       "| NA         | NA                                                                |\n",
       "| NA         | NA                                                                |\n",
       "| NA         | NA                                                                |\n",
       "| ⋮ | ⋮ |\n",
       "| GO:0006357 | regulation of transcription by RNA polymerase II            |\n",
       "| GO:0006357 | regulation of transcription by RNA polymerase II            |\n",
       "| GO:0006357 | regulation of transcription by RNA polymerase II            |\n",
       "| GO:0006357 | regulation of transcription by RNA polymerase II            |\n",
       "| GO:0006614 | SRP-dependent cotranslational protein targeting to membrane |\n",
       "| NA         | NA                                                          |\n",
       "| NA         | NA                                                          |\n",
       "| GO:0016558 | protein import into peroxisome matrix                       |\n",
       "| GO:0016558 | protein import into peroxisome matrix                       |\n",
       "| GO:0016558 | protein import into peroxisome matrix                       |\n",
       "| GO:0006357 | regulation of transcription by RNA polymerase II            |\n",
       "| GO:0006357 | regulation of transcription by RNA polymerase II            |\n",
       "| NA         | NA                                                          |\n",
       "| NA         | NA                                                          |\n",
       "| NA         | NA                                                          |\n",
       "| NA         | NA                                                          |\n",
       "| NA         | NA                                                          |\n",
       "| NA         | NA                                                          |\n",
       "| GO:0042026 | protein refolding                                           |\n",
       "| GO:0042026 | protein refolding                                           |\n",
       "| GO:0051085 | chaperone cofactor-dependent protein refolding              |\n",
       "| GO:0051085 | chaperone cofactor-dependent protein refolding              |\n",
       "| GO:0035556 | intracellular signal transduction                           |\n",
       "| GO:0046854 | phosphatidylinositol phosphate biosynthetic process         |\n",
       "| NA         | NA                                                          |\n",
       "| NA         | NA                                                          |\n",
       "| GO:0009229 | thiamine diphosphate biosynthetic process                   |\n",
       "| GO:0009229 | thiamine diphosphate biosynthetic process                   |\n",
       "| GO:0006772 | thiamine metabolic process                                  |\n",
       "| GO:0006772 | thiamine metabolic process                                  |\n",
       "\n"
      ],
      "text/plain": [
       "    GOID      \n",
       "1   GO:0007219\n",
       "2   NA        \n",
       "3   GO:0048568\n",
       "4   GO:0009887\n",
       "5   GO:0048666\n",
       "6   GO:0048666\n",
       "7   GO:0006357\n",
       "8   GO:0006357\n",
       "9   NA        \n",
       "10  GO:0090090\n",
       "11  NA        \n",
       "12  NA        \n",
       "13  GO:0006398\n",
       "14  NA        \n",
       "15  NA        \n",
       "16  GO:0009159\n",
       "17  NA        \n",
       "18  NA        \n",
       "19  GO:0030041\n",
       "20  GO:0030041\n",
       "21  NA        \n",
       "22  GO:0071028\n",
       "23  GO:0034475\n",
       "24  GO:0034427\n",
       "25  GO:0071051\n",
       "26  NA        \n",
       "27  NA        \n",
       "28  NA        \n",
       "29  NA        \n",
       "30  NA        \n",
       "⋮   ⋮         \n",
       "270 GO:0006357\n",
       "271 GO:0006357\n",
       "272 GO:0006357\n",
       "273 GO:0006357\n",
       "274 GO:0006614\n",
       "275 NA        \n",
       "276 NA        \n",
       "277 GO:0016558\n",
       "278 GO:0016558\n",
       "279 GO:0016558\n",
       "280 GO:0006357\n",
       "281 GO:0006357\n",
       "282 NA        \n",
       "283 NA        \n",
       "284 NA        \n",
       "285 NA        \n",
       "286 NA        \n",
       "287 NA        \n",
       "288 GO:0042026\n",
       "289 GO:0042026\n",
       "290 GO:0051085\n",
       "291 GO:0051085\n",
       "292 GO:0035556\n",
       "293 GO:0046854\n",
       "294 NA        \n",
       "295 NA        \n",
       "296 GO:0009229\n",
       "297 GO:0009229\n",
       "298 GO:0006772\n",
       "299 GO:0006772\n",
       "    TERM                                                             \n",
       "1   Notch signaling pathway                                          \n",
       "2   NA                                                               \n",
       "3   embryonic organ development                                      \n",
       "4   animal organ morphogenesis                                       \n",
       "5   neuron development                                               \n",
       "6   neuron development                                               \n",
       "7   regulation of transcription by RNA polymerase II                 \n",
       "8   regulation of transcription by RNA polymerase II                 \n",
       "9   NA                                                               \n",
       "10  negative regulation of canonical Wnt signaling pathway           \n",
       "11  NA                                                               \n",
       "12  NA                                                               \n",
       "13  mRNA 3'-end processing by stem-loop binding and cleavage         \n",
       "14  NA                                                               \n",
       "15  NA                                                               \n",
       "16  deoxyribonucleoside monophosphate catabolic process              \n",
       "17  NA                                                               \n",
       "18  NA                                                               \n",
       "19  actin filament polymerization                                    \n",
       "20  actin filament polymerization                                    \n",
       "21  NA                                                               \n",
       "22  nuclear mRNA surveillance                                        \n",
       "23  U4 snRNA 3'-end processing                                       \n",
       "24  nuclear-transcribed mRNA catabolic process, exonucleolytic, 3'-5'\n",
       "25  polyadenylation-dependent snoRNA 3'-end processing               \n",
       "26  NA                                                               \n",
       "27  NA                                                               \n",
       "28  NA                                                               \n",
       "29  NA                                                               \n",
       "30  NA                                                               \n",
       "⋮   ⋮                                                                \n",
       "270 regulation of transcription by RNA polymerase II                 \n",
       "271 regulation of transcription by RNA polymerase II                 \n",
       "272 regulation of transcription by RNA polymerase II                 \n",
       "273 regulation of transcription by RNA polymerase II                 \n",
       "274 SRP-dependent cotranslational protein targeting to membrane      \n",
       "275 NA                                                               \n",
       "276 NA                                                               \n",
       "277 protein import into peroxisome matrix                            \n",
       "278 protein import into peroxisome matrix                            \n",
       "279 protein import into peroxisome matrix                            \n",
       "280 regulation of transcription by RNA polymerase II                 \n",
       "281 regulation of transcription by RNA polymerase II                 \n",
       "282 NA                                                               \n",
       "283 NA                                                               \n",
       "284 NA                                                               \n",
       "285 NA                                                               \n",
       "286 NA                                                               \n",
       "287 NA                                                               \n",
       "288 protein refolding                                                \n",
       "289 protein refolding                                                \n",
       "290 chaperone cofactor-dependent protein refolding                   \n",
       "291 chaperone cofactor-dependent protein refolding                   \n",
       "292 intracellular signal transduction                                \n",
       "293 phosphatidylinositol phosphate biosynthetic process              \n",
       "294 NA                                                               \n",
       "295 NA                                                               \n",
       "296 thiamine diphosphate biosynthetic process                        \n",
       "297 thiamine diphosphate biosynthetic process                        \n",
       "298 thiamine metabolic process                                       \n",
       "299 thiamine metabolic process                                       "
      ]
     },
     "metadata": {},
     "output_type": "display_data"
    }
   ],
   "source": [
    "# looking at parent terms from the GO database\n",
    "GOIDs <- dmgs$GO.IDs\n",
    "AnnotationDbi::select(GO.db, keys=GOIDs, columns=\"TERM\", keytype=\"GOID\")"
   ]
  },
  {
   "cell_type": "code",
   "execution_count": 12,
   "id": "4f523d8b-a1f0-4208-b59e-bc6f59340ad5",
   "metadata": {},
   "outputs": [
    {
     "data": {
      "text/html": [
       "<table class=\"dataframe\">\n",
       "<caption>A data.frame: 176 × 3</caption>\n",
       "<thead>\n",
       "\t<tr><th></th><th scope=col>GO_ID</th><th scope=col>Parent_GO_ID</th><th scope=col>Parent_Term</th></tr>\n",
       "\t<tr><th></th><th scope=col>&lt;chr&gt;</th><th scope=col>&lt;chr&gt;</th><th scope=col>&lt;chr&gt;</th></tr>\n",
       "</thead>\n",
       "<tbody>\n",
       "\t<tr><th scope=row>isa</th><td>GO:0007219</td><td>GO:0007166</td><td>cell surface receptor signaling pathway                   </td></tr>\n",
       "\t<tr><th scope=row>part of</th><td>GO:0048568</td><td>GO:0009790</td><td>embryo development                                        </td></tr>\n",
       "\t<tr><th scope=row>isa1</th><td>GO:0009887</td><td>GO:0009653</td><td>anatomical structure morphogenesis                        </td></tr>\n",
       "\t<tr><th scope=row>part of1</th><td>GO:0048666</td><td>GO:0030182</td><td>neuron differentiation                                    </td></tr>\n",
       "\t<tr><th scope=row>part of2</th><td>GO:0048666</td><td>GO:0030182</td><td>neuron differentiation                                    </td></tr>\n",
       "\t<tr><th scope=row>isa2</th><td>GO:0006357</td><td>GO:0006355</td><td>regulation of DNA-templated transcription                 </td></tr>\n",
       "\t<tr><th scope=row>isa3</th><td>GO:0006357</td><td>GO:0006355</td><td>regulation of DNA-templated transcription                 </td></tr>\n",
       "\t<tr><th scope=row>isa4</th><td>GO:0090090</td><td>GO:0030178</td><td>negative regulation of Wnt signaling pathway              </td></tr>\n",
       "\t<tr><th scope=row>isa5</th><td>GO:0006398</td><td>GO:0008334</td><td>histone mRNA metabolic process                            </td></tr>\n",
       "\t<tr><th scope=row>isa6</th><td>GO:0009159</td><td>GO:0009125</td><td>nucleoside monophosphate catabolic process                </td></tr>\n",
       "\t<tr><th scope=row>isa7</th><td>GO:0030041</td><td>GO:0008154</td><td>actin polymerization or depolymerization                  </td></tr>\n",
       "\t<tr><th scope=row>isa8</th><td>GO:0030041</td><td>GO:0008154</td><td>actin polymerization or depolymerization                  </td></tr>\n",
       "\t<tr><th scope=row>isa9</th><td>GO:0071028</td><td>GO:0000956</td><td>nuclear-transcribed mRNA catabolic process                </td></tr>\n",
       "\t<tr><th scope=row>isa10</th><td>GO:0034475</td><td>GO:0034472</td><td>snRNA 3'-end processing                                   </td></tr>\n",
       "\t<tr><th scope=row>isa11</th><td>GO:0034427</td><td>GO:0000291</td><td>nuclear-transcribed mRNA catabolic process, exonucleolytic</td></tr>\n",
       "\t<tr><th scope=row>isa12</th><td>GO:0071051</td><td>GO:0031126</td><td>sno(s)RNA 3'-end processing                               </td></tr>\n",
       "\t<tr><th scope=row>isa13</th><td>GO:0006538</td><td>GO:0006536</td><td>glutamate metabolic process                               </td></tr>\n",
       "\t<tr><th scope=row>isa14</th><td>GO:0000027</td><td>GO:0022618</td><td>protein-RNA complex assembly                              </td></tr>\n",
       "\t<tr><th scope=row>isa15</th><td>GO:0000027</td><td>GO:0022618</td><td>protein-RNA complex assembly                              </td></tr>\n",
       "\t<tr><th scope=row>isa16</th><td>GO:0016266</td><td>GO:0006493</td><td>protein O-linked glycosylation                            </td></tr>\n",
       "\t<tr><th scope=row>isa17</th><td>GO:0016266</td><td>GO:0006493</td><td>protein O-linked glycosylation                            </td></tr>\n",
       "\t<tr><th scope=row>isa18</th><td>GO:0033314</td><td>GO:0000076</td><td>DNA replication checkpoint signaling                      </td></tr>\n",
       "\t<tr><th scope=row>isa19</th><td>GO:0033314</td><td>GO:0000076</td><td>DNA replication checkpoint signaling                      </td></tr>\n",
       "\t<tr><th scope=row>isa20</th><td>GO:0006270</td><td>GO:0006259</td><td>DNA metabolic process                                     </td></tr>\n",
       "\t<tr><th scope=row>isa21</th><td>GO:0007264</td><td>GO:0035556</td><td>intracellular signal transduction                         </td></tr>\n",
       "\t<tr><th scope=row>isa22</th><td>GO:0070125</td><td>GO:0006414</td><td>translational elongation                                  </td></tr>\n",
       "\t<tr><th scope=row>isa23</th><td>GO:0006614</td><td>GO:0006613</td><td>cotranslational protein targeting to membrane             </td></tr>\n",
       "\t<tr><th scope=row>isa24</th><td>GO:0008611</td><td>GO:0046485</td><td>ether lipid metabolic process                             </td></tr>\n",
       "\t<tr><th scope=row>isa25</th><td>GO:0042984</td><td>GO:0010559</td><td>regulation of glycoprotein biosynthetic process           </td></tr>\n",
       "\t<tr><th scope=row>isa26</th><td>GO:0007275</td><td>GO:0032501</td><td>multicellular organismal process                          </td></tr>\n",
       "\t<tr><th scope=row>⋮</th><td>⋮</td><td>⋮</td><td>⋮</td></tr>\n",
       "\t<tr><th scope=row>isa111</th><td>GO:0042796</td><td>GO:0006383</td><td>transcription by RNA polymerase III          </td></tr>\n",
       "\t<tr><th scope=row>isa112</th><td>GO:0006897</td><td>GO:0016192</td><td>vesicle-mediated transport                   </td></tr>\n",
       "\t<tr><th scope=row>isa113</th><td>GO:0042795</td><td>GO:0006366</td><td>transcription by RNA polymerase II           </td></tr>\n",
       "\t<tr><th scope=row>isa114</th><td>GO:0042795</td><td>GO:0006366</td><td>transcription by RNA polymerase II           </td></tr>\n",
       "\t<tr><th scope=row>isa115</th><td>GO:0002188</td><td>GO:0002183</td><td>cytoplasmic translational initiation         </td></tr>\n",
       "\t<tr><th scope=row>part of25</th><td>GO:0001732</td><td>GO:0002183</td><td>cytoplasmic translational initiation         </td></tr>\n",
       "\t<tr><th scope=row>part of26</th><td>GO:0001732</td><td>GO:0002183</td><td>cytoplasmic translational initiation         </td></tr>\n",
       "\t<tr><th scope=row>isa116</th><td>GO:0006357</td><td>GO:0006355</td><td>regulation of DNA-templated transcription    </td></tr>\n",
       "\t<tr><th scope=row>isa117</th><td>GO:0006357</td><td>GO:0006355</td><td>regulation of DNA-templated transcription    </td></tr>\n",
       "\t<tr><th scope=row>isa118</th><td>GO:0071577</td><td>GO:0006829</td><td>zinc ion transport                           </td></tr>\n",
       "\t<tr><th scope=row>isa119</th><td>GO:0006357</td><td>GO:0006355</td><td>regulation of DNA-templated transcription    </td></tr>\n",
       "\t<tr><th scope=row>isa120</th><td>GO:0006357</td><td>GO:0006355</td><td>regulation of DNA-templated transcription    </td></tr>\n",
       "\t<tr><th scope=row>isa121</th><td>GO:0006357</td><td>GO:0006355</td><td>regulation of DNA-templated transcription    </td></tr>\n",
       "\t<tr><th scope=row>isa122</th><td>GO:0006357</td><td>GO:0006355</td><td>regulation of DNA-templated transcription    </td></tr>\n",
       "\t<tr><th scope=row>isa123</th><td>GO:0006614</td><td>GO:0006613</td><td>cotranslational protein targeting to membrane</td></tr>\n",
       "\t<tr><th scope=row>isa124</th><td>GO:0016558</td><td>GO:0006625</td><td>protein targeting to peroxisome              </td></tr>\n",
       "\t<tr><th scope=row>isa125</th><td>GO:0016558</td><td>GO:0006625</td><td>protein targeting to peroxisome              </td></tr>\n",
       "\t<tr><th scope=row>isa126</th><td>GO:0016558</td><td>GO:0006625</td><td>protein targeting to peroxisome              </td></tr>\n",
       "\t<tr><th scope=row>isa127</th><td>GO:0006357</td><td>GO:0006355</td><td>regulation of DNA-templated transcription    </td></tr>\n",
       "\t<tr><th scope=row>isa128</th><td>GO:0006357</td><td>GO:0006355</td><td>regulation of DNA-templated transcription    </td></tr>\n",
       "\t<tr><th scope=row>isa129</th><td>GO:0042026</td><td>GO:0006457</td><td>protein folding                              </td></tr>\n",
       "\t<tr><th scope=row>isa130</th><td>GO:0042026</td><td>GO:0006457</td><td>protein folding                              </td></tr>\n",
       "\t<tr><th scope=row>isa131</th><td>GO:0051085</td><td>GO:0051084</td><td>'de novo' post-translational protein folding </td></tr>\n",
       "\t<tr><th scope=row>isa132</th><td>GO:0051085</td><td>GO:0051084</td><td>'de novo' post-translational protein folding </td></tr>\n",
       "\t<tr><th scope=row>isa133</th><td>GO:0035556</td><td>GO:0007165</td><td>signal transduction                          </td></tr>\n",
       "\t<tr><th scope=row>isa134</th><td>GO:0046854</td><td>GO:0006661</td><td>phosphatidylinositol biosynthetic process    </td></tr>\n",
       "\t<tr><th scope=row>isa135</th><td>GO:0009229</td><td>GO:0042357</td><td>thiamine diphosphate metabolic process       </td></tr>\n",
       "\t<tr><th scope=row>isa136</th><td>GO:0009229</td><td>GO:0042357</td><td>thiamine diphosphate metabolic process       </td></tr>\n",
       "\t<tr><th scope=row>isa137</th><td>GO:0006772</td><td>GO:0034308</td><td>primary alcohol metabolic process            </td></tr>\n",
       "\t<tr><th scope=row>isa138</th><td>GO:0006772</td><td>GO:0034308</td><td>primary alcohol metabolic process            </td></tr>\n",
       "</tbody>\n",
       "</table>\n"
      ],
      "text/latex": [
       "A data.frame: 176 × 3\n",
       "\\begin{tabular}{r|lll}\n",
       "  & GO\\_ID & Parent\\_GO\\_ID & Parent\\_Term\\\\\n",
       "  & <chr> & <chr> & <chr>\\\\\n",
       "\\hline\n",
       "\tisa & GO:0007219 & GO:0007166 & cell surface receptor signaling pathway                   \\\\\n",
       "\tpart of & GO:0048568 & GO:0009790 & embryo development                                        \\\\\n",
       "\tisa1 & GO:0009887 & GO:0009653 & anatomical structure morphogenesis                        \\\\\n",
       "\tpart of1 & GO:0048666 & GO:0030182 & neuron differentiation                                    \\\\\n",
       "\tpart of2 & GO:0048666 & GO:0030182 & neuron differentiation                                    \\\\\n",
       "\tisa2 & GO:0006357 & GO:0006355 & regulation of DNA-templated transcription                 \\\\\n",
       "\tisa3 & GO:0006357 & GO:0006355 & regulation of DNA-templated transcription                 \\\\\n",
       "\tisa4 & GO:0090090 & GO:0030178 & negative regulation of Wnt signaling pathway              \\\\\n",
       "\tisa5 & GO:0006398 & GO:0008334 & histone mRNA metabolic process                            \\\\\n",
       "\tisa6 & GO:0009159 & GO:0009125 & nucleoside monophosphate catabolic process                \\\\\n",
       "\tisa7 & GO:0030041 & GO:0008154 & actin polymerization or depolymerization                  \\\\\n",
       "\tisa8 & GO:0030041 & GO:0008154 & actin polymerization or depolymerization                  \\\\\n",
       "\tisa9 & GO:0071028 & GO:0000956 & nuclear-transcribed mRNA catabolic process                \\\\\n",
       "\tisa10 & GO:0034475 & GO:0034472 & snRNA 3'-end processing                                   \\\\\n",
       "\tisa11 & GO:0034427 & GO:0000291 & nuclear-transcribed mRNA catabolic process, exonucleolytic\\\\\n",
       "\tisa12 & GO:0071051 & GO:0031126 & sno(s)RNA 3'-end processing                               \\\\\n",
       "\tisa13 & GO:0006538 & GO:0006536 & glutamate metabolic process                               \\\\\n",
       "\tisa14 & GO:0000027 & GO:0022618 & protein-RNA complex assembly                              \\\\\n",
       "\tisa15 & GO:0000027 & GO:0022618 & protein-RNA complex assembly                              \\\\\n",
       "\tisa16 & GO:0016266 & GO:0006493 & protein O-linked glycosylation                            \\\\\n",
       "\tisa17 & GO:0016266 & GO:0006493 & protein O-linked glycosylation                            \\\\\n",
       "\tisa18 & GO:0033314 & GO:0000076 & DNA replication checkpoint signaling                      \\\\\n",
       "\tisa19 & GO:0033314 & GO:0000076 & DNA replication checkpoint signaling                      \\\\\n",
       "\tisa20 & GO:0006270 & GO:0006259 & DNA metabolic process                                     \\\\\n",
       "\tisa21 & GO:0007264 & GO:0035556 & intracellular signal transduction                         \\\\\n",
       "\tisa22 & GO:0070125 & GO:0006414 & translational elongation                                  \\\\\n",
       "\tisa23 & GO:0006614 & GO:0006613 & cotranslational protein targeting to membrane             \\\\\n",
       "\tisa24 & GO:0008611 & GO:0046485 & ether lipid metabolic process                             \\\\\n",
       "\tisa25 & GO:0042984 & GO:0010559 & regulation of glycoprotein biosynthetic process           \\\\\n",
       "\tisa26 & GO:0007275 & GO:0032501 & multicellular organismal process                          \\\\\n",
       "\t⋮ & ⋮ & ⋮ & ⋮\\\\\n",
       "\tisa111 & GO:0042796 & GO:0006383 & transcription by RNA polymerase III          \\\\\n",
       "\tisa112 & GO:0006897 & GO:0016192 & vesicle-mediated transport                   \\\\\n",
       "\tisa113 & GO:0042795 & GO:0006366 & transcription by RNA polymerase II           \\\\\n",
       "\tisa114 & GO:0042795 & GO:0006366 & transcription by RNA polymerase II           \\\\\n",
       "\tisa115 & GO:0002188 & GO:0002183 & cytoplasmic translational initiation         \\\\\n",
       "\tpart of25 & GO:0001732 & GO:0002183 & cytoplasmic translational initiation         \\\\\n",
       "\tpart of26 & GO:0001732 & GO:0002183 & cytoplasmic translational initiation         \\\\\n",
       "\tisa116 & GO:0006357 & GO:0006355 & regulation of DNA-templated transcription    \\\\\n",
       "\tisa117 & GO:0006357 & GO:0006355 & regulation of DNA-templated transcription    \\\\\n",
       "\tisa118 & GO:0071577 & GO:0006829 & zinc ion transport                           \\\\\n",
       "\tisa119 & GO:0006357 & GO:0006355 & regulation of DNA-templated transcription    \\\\\n",
       "\tisa120 & GO:0006357 & GO:0006355 & regulation of DNA-templated transcription    \\\\\n",
       "\tisa121 & GO:0006357 & GO:0006355 & regulation of DNA-templated transcription    \\\\\n",
       "\tisa122 & GO:0006357 & GO:0006355 & regulation of DNA-templated transcription    \\\\\n",
       "\tisa123 & GO:0006614 & GO:0006613 & cotranslational protein targeting to membrane\\\\\n",
       "\tisa124 & GO:0016558 & GO:0006625 & protein targeting to peroxisome              \\\\\n",
       "\tisa125 & GO:0016558 & GO:0006625 & protein targeting to peroxisome              \\\\\n",
       "\tisa126 & GO:0016558 & GO:0006625 & protein targeting to peroxisome              \\\\\n",
       "\tisa127 & GO:0006357 & GO:0006355 & regulation of DNA-templated transcription    \\\\\n",
       "\tisa128 & GO:0006357 & GO:0006355 & regulation of DNA-templated transcription    \\\\\n",
       "\tisa129 & GO:0042026 & GO:0006457 & protein folding                              \\\\\n",
       "\tisa130 & GO:0042026 & GO:0006457 & protein folding                              \\\\\n",
       "\tisa131 & GO:0051085 & GO:0051084 & 'de novo' post-translational protein folding \\\\\n",
       "\tisa132 & GO:0051085 & GO:0051084 & 'de novo' post-translational protein folding \\\\\n",
       "\tisa133 & GO:0035556 & GO:0007165 & signal transduction                          \\\\\n",
       "\tisa134 & GO:0046854 & GO:0006661 & phosphatidylinositol biosynthetic process    \\\\\n",
       "\tisa135 & GO:0009229 & GO:0042357 & thiamine diphosphate metabolic process       \\\\\n",
       "\tisa136 & GO:0009229 & GO:0042357 & thiamine diphosphate metabolic process       \\\\\n",
       "\tisa137 & GO:0006772 & GO:0034308 & primary alcohol metabolic process            \\\\\n",
       "\tisa138 & GO:0006772 & GO:0034308 & primary alcohol metabolic process            \\\\\n",
       "\\end{tabular}\n"
      ],
      "text/markdown": [
       "\n",
       "A data.frame: 176 × 3\n",
       "\n",
       "| <!--/--> | GO_ID &lt;chr&gt; | Parent_GO_ID &lt;chr&gt; | Parent_Term &lt;chr&gt; |\n",
       "|---|---|---|---|\n",
       "| isa | GO:0007219 | GO:0007166 | cell surface receptor signaling pathway                    |\n",
       "| part of | GO:0048568 | GO:0009790 | embryo development                                         |\n",
       "| isa1 | GO:0009887 | GO:0009653 | anatomical structure morphogenesis                         |\n",
       "| part of1 | GO:0048666 | GO:0030182 | neuron differentiation                                     |\n",
       "| part of2 | GO:0048666 | GO:0030182 | neuron differentiation                                     |\n",
       "| isa2 | GO:0006357 | GO:0006355 | regulation of DNA-templated transcription                  |\n",
       "| isa3 | GO:0006357 | GO:0006355 | regulation of DNA-templated transcription                  |\n",
       "| isa4 | GO:0090090 | GO:0030178 | negative regulation of Wnt signaling pathway               |\n",
       "| isa5 | GO:0006398 | GO:0008334 | histone mRNA metabolic process                             |\n",
       "| isa6 | GO:0009159 | GO:0009125 | nucleoside monophosphate catabolic process                 |\n",
       "| isa7 | GO:0030041 | GO:0008154 | actin polymerization or depolymerization                   |\n",
       "| isa8 | GO:0030041 | GO:0008154 | actin polymerization or depolymerization                   |\n",
       "| isa9 | GO:0071028 | GO:0000956 | nuclear-transcribed mRNA catabolic process                 |\n",
       "| isa10 | GO:0034475 | GO:0034472 | snRNA 3'-end processing                                    |\n",
       "| isa11 | GO:0034427 | GO:0000291 | nuclear-transcribed mRNA catabolic process, exonucleolytic |\n",
       "| isa12 | GO:0071051 | GO:0031126 | sno(s)RNA 3'-end processing                                |\n",
       "| isa13 | GO:0006538 | GO:0006536 | glutamate metabolic process                                |\n",
       "| isa14 | GO:0000027 | GO:0022618 | protein-RNA complex assembly                               |\n",
       "| isa15 | GO:0000027 | GO:0022618 | protein-RNA complex assembly                               |\n",
       "| isa16 | GO:0016266 | GO:0006493 | protein O-linked glycosylation                             |\n",
       "| isa17 | GO:0016266 | GO:0006493 | protein O-linked glycosylation                             |\n",
       "| isa18 | GO:0033314 | GO:0000076 | DNA replication checkpoint signaling                       |\n",
       "| isa19 | GO:0033314 | GO:0000076 | DNA replication checkpoint signaling                       |\n",
       "| isa20 | GO:0006270 | GO:0006259 | DNA metabolic process                                      |\n",
       "| isa21 | GO:0007264 | GO:0035556 | intracellular signal transduction                          |\n",
       "| isa22 | GO:0070125 | GO:0006414 | translational elongation                                   |\n",
       "| isa23 | GO:0006614 | GO:0006613 | cotranslational protein targeting to membrane              |\n",
       "| isa24 | GO:0008611 | GO:0046485 | ether lipid metabolic process                              |\n",
       "| isa25 | GO:0042984 | GO:0010559 | regulation of glycoprotein biosynthetic process            |\n",
       "| isa26 | GO:0007275 | GO:0032501 | multicellular organismal process                           |\n",
       "| ⋮ | ⋮ | ⋮ | ⋮ |\n",
       "| isa111 | GO:0042796 | GO:0006383 | transcription by RNA polymerase III           |\n",
       "| isa112 | GO:0006897 | GO:0016192 | vesicle-mediated transport                    |\n",
       "| isa113 | GO:0042795 | GO:0006366 | transcription by RNA polymerase II            |\n",
       "| isa114 | GO:0042795 | GO:0006366 | transcription by RNA polymerase II            |\n",
       "| isa115 | GO:0002188 | GO:0002183 | cytoplasmic translational initiation          |\n",
       "| part of25 | GO:0001732 | GO:0002183 | cytoplasmic translational initiation          |\n",
       "| part of26 | GO:0001732 | GO:0002183 | cytoplasmic translational initiation          |\n",
       "| isa116 | GO:0006357 | GO:0006355 | regulation of DNA-templated transcription     |\n",
       "| isa117 | GO:0006357 | GO:0006355 | regulation of DNA-templated transcription     |\n",
       "| isa118 | GO:0071577 | GO:0006829 | zinc ion transport                            |\n",
       "| isa119 | GO:0006357 | GO:0006355 | regulation of DNA-templated transcription     |\n",
       "| isa120 | GO:0006357 | GO:0006355 | regulation of DNA-templated transcription     |\n",
       "| isa121 | GO:0006357 | GO:0006355 | regulation of DNA-templated transcription     |\n",
       "| isa122 | GO:0006357 | GO:0006355 | regulation of DNA-templated transcription     |\n",
       "| isa123 | GO:0006614 | GO:0006613 | cotranslational protein targeting to membrane |\n",
       "| isa124 | GO:0016558 | GO:0006625 | protein targeting to peroxisome               |\n",
       "| isa125 | GO:0016558 | GO:0006625 | protein targeting to peroxisome               |\n",
       "| isa126 | GO:0016558 | GO:0006625 | protein targeting to peroxisome               |\n",
       "| isa127 | GO:0006357 | GO:0006355 | regulation of DNA-templated transcription     |\n",
       "| isa128 | GO:0006357 | GO:0006355 | regulation of DNA-templated transcription     |\n",
       "| isa129 | GO:0042026 | GO:0006457 | protein folding                               |\n",
       "| isa130 | GO:0042026 | GO:0006457 | protein folding                               |\n",
       "| isa131 | GO:0051085 | GO:0051084 | 'de novo' post-translational protein folding  |\n",
       "| isa132 | GO:0051085 | GO:0051084 | 'de novo' post-translational protein folding  |\n",
       "| isa133 | GO:0035556 | GO:0007165 | signal transduction                           |\n",
       "| isa134 | GO:0046854 | GO:0006661 | phosphatidylinositol biosynthetic process     |\n",
       "| isa135 | GO:0009229 | GO:0042357 | thiamine diphosphate metabolic process        |\n",
       "| isa136 | GO:0009229 | GO:0042357 | thiamine diphosphate metabolic process        |\n",
       "| isa137 | GO:0006772 | GO:0034308 | primary alcohol metabolic process             |\n",
       "| isa138 | GO:0006772 | GO:0034308 | primary alcohol metabolic process             |\n",
       "\n"
      ],
      "text/plain": [
       "          GO_ID      Parent_GO_ID\n",
       "isa       GO:0007219 GO:0007166  \n",
       "part of   GO:0048568 GO:0009790  \n",
       "isa1      GO:0009887 GO:0009653  \n",
       "part of1  GO:0048666 GO:0030182  \n",
       "part of2  GO:0048666 GO:0030182  \n",
       "isa2      GO:0006357 GO:0006355  \n",
       "isa3      GO:0006357 GO:0006355  \n",
       "isa4      GO:0090090 GO:0030178  \n",
       "isa5      GO:0006398 GO:0008334  \n",
       "isa6      GO:0009159 GO:0009125  \n",
       "isa7      GO:0030041 GO:0008154  \n",
       "isa8      GO:0030041 GO:0008154  \n",
       "isa9      GO:0071028 GO:0000956  \n",
       "isa10     GO:0034475 GO:0034472  \n",
       "isa11     GO:0034427 GO:0000291  \n",
       "isa12     GO:0071051 GO:0031126  \n",
       "isa13     GO:0006538 GO:0006536  \n",
       "isa14     GO:0000027 GO:0022618  \n",
       "isa15     GO:0000027 GO:0022618  \n",
       "isa16     GO:0016266 GO:0006493  \n",
       "isa17     GO:0016266 GO:0006493  \n",
       "isa18     GO:0033314 GO:0000076  \n",
       "isa19     GO:0033314 GO:0000076  \n",
       "isa20     GO:0006270 GO:0006259  \n",
       "isa21     GO:0007264 GO:0035556  \n",
       "isa22     GO:0070125 GO:0006414  \n",
       "isa23     GO:0006614 GO:0006613  \n",
       "isa24     GO:0008611 GO:0046485  \n",
       "isa25     GO:0042984 GO:0010559  \n",
       "isa26     GO:0007275 GO:0032501  \n",
       "⋮         ⋮          ⋮           \n",
       "isa111    GO:0042796 GO:0006383  \n",
       "isa112    GO:0006897 GO:0016192  \n",
       "isa113    GO:0042795 GO:0006366  \n",
       "isa114    GO:0042795 GO:0006366  \n",
       "isa115    GO:0002188 GO:0002183  \n",
       "part of25 GO:0001732 GO:0002183  \n",
       "part of26 GO:0001732 GO:0002183  \n",
       "isa116    GO:0006357 GO:0006355  \n",
       "isa117    GO:0006357 GO:0006355  \n",
       "isa118    GO:0071577 GO:0006829  \n",
       "isa119    GO:0006357 GO:0006355  \n",
       "isa120    GO:0006357 GO:0006355  \n",
       "isa121    GO:0006357 GO:0006355  \n",
       "isa122    GO:0006357 GO:0006355  \n",
       "isa123    GO:0006614 GO:0006613  \n",
       "isa124    GO:0016558 GO:0006625  \n",
       "isa125    GO:0016558 GO:0006625  \n",
       "isa126    GO:0016558 GO:0006625  \n",
       "isa127    GO:0006357 GO:0006355  \n",
       "isa128    GO:0006357 GO:0006355  \n",
       "isa129    GO:0042026 GO:0006457  \n",
       "isa130    GO:0042026 GO:0006457  \n",
       "isa131    GO:0051085 GO:0051084  \n",
       "isa132    GO:0051085 GO:0051084  \n",
       "isa133    GO:0035556 GO:0007165  \n",
       "isa134    GO:0046854 GO:0006661  \n",
       "isa135    GO:0009229 GO:0042357  \n",
       "isa136    GO:0009229 GO:0042357  \n",
       "isa137    GO:0006772 GO:0034308  \n",
       "isa138    GO:0006772 GO:0034308  \n",
       "          Parent_Term                                               \n",
       "isa       cell surface receptor signaling pathway                   \n",
       "part of   embryo development                                        \n",
       "isa1      anatomical structure morphogenesis                        \n",
       "part of1  neuron differentiation                                    \n",
       "part of2  neuron differentiation                                    \n",
       "isa2      regulation of DNA-templated transcription                 \n",
       "isa3      regulation of DNA-templated transcription                 \n",
       "isa4      negative regulation of Wnt signaling pathway              \n",
       "isa5      histone mRNA metabolic process                            \n",
       "isa6      nucleoside monophosphate catabolic process                \n",
       "isa7      actin polymerization or depolymerization                  \n",
       "isa8      actin polymerization or depolymerization                  \n",
       "isa9      nuclear-transcribed mRNA catabolic process                \n",
       "isa10     snRNA 3'-end processing                                   \n",
       "isa11     nuclear-transcribed mRNA catabolic process, exonucleolytic\n",
       "isa12     sno(s)RNA 3'-end processing                               \n",
       "isa13     glutamate metabolic process                               \n",
       "isa14     protein-RNA complex assembly                              \n",
       "isa15     protein-RNA complex assembly                              \n",
       "isa16     protein O-linked glycosylation                            \n",
       "isa17     protein O-linked glycosylation                            \n",
       "isa18     DNA replication checkpoint signaling                      \n",
       "isa19     DNA replication checkpoint signaling                      \n",
       "isa20     DNA metabolic process                                     \n",
       "isa21     intracellular signal transduction                         \n",
       "isa22     translational elongation                                  \n",
       "isa23     cotranslational protein targeting to membrane             \n",
       "isa24     ether lipid metabolic process                             \n",
       "isa25     regulation of glycoprotein biosynthetic process           \n",
       "isa26     multicellular organismal process                          \n",
       "⋮         ⋮                                                         \n",
       "isa111    transcription by RNA polymerase III                       \n",
       "isa112    vesicle-mediated transport                                \n",
       "isa113    transcription by RNA polymerase II                        \n",
       "isa114    transcription by RNA polymerase II                        \n",
       "isa115    cytoplasmic translational initiation                      \n",
       "part of25 cytoplasmic translational initiation                      \n",
       "part of26 cytoplasmic translational initiation                      \n",
       "isa116    regulation of DNA-templated transcription                 \n",
       "isa117    regulation of DNA-templated transcription                 \n",
       "isa118    zinc ion transport                                        \n",
       "isa119    regulation of DNA-templated transcription                 \n",
       "isa120    regulation of DNA-templated transcription                 \n",
       "isa121    regulation of DNA-templated transcription                 \n",
       "isa122    regulation of DNA-templated transcription                 \n",
       "isa123    cotranslational protein targeting to membrane             \n",
       "isa124    protein targeting to peroxisome                           \n",
       "isa125    protein targeting to peroxisome                           \n",
       "isa126    protein targeting to peroxisome                           \n",
       "isa127    regulation of DNA-templated transcription                 \n",
       "isa128    regulation of DNA-templated transcription                 \n",
       "isa129    protein folding                                           \n",
       "isa130    protein folding                                           \n",
       "isa131    'de novo' post-translational protein folding              \n",
       "isa132    'de novo' post-translational protein folding              \n",
       "isa133    signal transduction                                       \n",
       "isa134    phosphatidylinositol biosynthetic process                 \n",
       "isa135    thiamine diphosphate metabolic process                    \n",
       "isa136    thiamine diphosphate metabolic process                    \n",
       "isa137    primary alcohol metabolic process                         \n",
       "isa138    primary alcohol metabolic process                         "
      ]
     },
     "metadata": {},
     "output_type": "display_data"
    }
   ],
   "source": [
    "# Ensure GOIDs is a character vector without NA values\n",
    "GOIDs <- as.character(dmgs$GO.IDs)\n",
    "GOIDs <- GOIDs[!is.na(GOIDs)]\n",
    "\n",
    "# Get the parent terms for each of your GO IDs\n",
    "parent_terms <- mget(GOIDs, envir = GOBPPARENTS)\n",
    "\n",
    "# Initialize an empty data frame to store the results\n",
    "results <- data.frame(GO_ID = character(), Parent_GO_ID = character(), Parent_Term = character(), stringsAsFactors = FALSE)\n",
    "\n",
    "# Loop through each of your GO IDs and their parent terms\n",
    "for (i in seq_along(GOIDs)) {\n",
    "  go_id <- GOIDs[i]\n",
    "  parent_id <- parent_terms[[i]]\n",
    "  \n",
    "  # Get the term name for the parent ID\n",
    "  parent_term <- Term(GOTERM[[parent_id[1]]])\n",
    "  \n",
    "  # Add the result to the data frame\n",
    "  results <- rbind(results, data.frame(GO_ID = go_id, Parent_GO_ID = parent_id[1], Parent_Term = parent_term))\n",
    "}\n",
    "\n",
    "# Print the results\n",
    "results"
   ]
  },
  {
   "cell_type": "code",
   "execution_count": 13,
   "id": "d5d15d55-0bfd-4c3d-b01d-a827a44f0c11",
   "metadata": {},
   "outputs": [
    {
     "data": {
      "text/html": [
       "<table class=\"dataframe\">\n",
       "<caption>A data.frame: 6 × 3</caption>\n",
       "<thead>\n",
       "\t<tr><th></th><th scope=col>GO.IDs</th><th scope=col>Parent_GO_ID</th><th scope=col>Parent_Term</th></tr>\n",
       "\t<tr><th></th><th scope=col>&lt;chr&gt;</th><th scope=col>&lt;chr&gt;</th><th scope=col>&lt;chr&gt;</th></tr>\n",
       "</thead>\n",
       "<tbody>\n",
       "\t<tr><th scope=row>isa</th><td>GO:0007219</td><td>GO:0007166</td><td>cell surface receptor signaling pathway  </td></tr>\n",
       "\t<tr><th scope=row>part of</th><td>GO:0048568</td><td>GO:0009790</td><td>embryo development                       </td></tr>\n",
       "\t<tr><th scope=row>isa1</th><td>GO:0009887</td><td>GO:0009653</td><td>anatomical structure morphogenesis       </td></tr>\n",
       "\t<tr><th scope=row>part of1</th><td>GO:0048666</td><td>GO:0030182</td><td>neuron differentiation                   </td></tr>\n",
       "\t<tr><th scope=row>part of2</th><td>GO:0048666</td><td>GO:0030182</td><td>neuron differentiation                   </td></tr>\n",
       "\t<tr><th scope=row>isa2</th><td>GO:0006357</td><td>GO:0006355</td><td>regulation of DNA-templated transcription</td></tr>\n",
       "</tbody>\n",
       "</table>\n"
      ],
      "text/latex": [
       "A data.frame: 6 × 3\n",
       "\\begin{tabular}{r|lll}\n",
       "  & GO.IDs & Parent\\_GO\\_ID & Parent\\_Term\\\\\n",
       "  & <chr> & <chr> & <chr>\\\\\n",
       "\\hline\n",
       "\tisa & GO:0007219 & GO:0007166 & cell surface receptor signaling pathway  \\\\\n",
       "\tpart of & GO:0048568 & GO:0009790 & embryo development                       \\\\\n",
       "\tisa1 & GO:0009887 & GO:0009653 & anatomical structure morphogenesis       \\\\\n",
       "\tpart of1 & GO:0048666 & GO:0030182 & neuron differentiation                   \\\\\n",
       "\tpart of2 & GO:0048666 & GO:0030182 & neuron differentiation                   \\\\\n",
       "\tisa2 & GO:0006357 & GO:0006355 & regulation of DNA-templated transcription\\\\\n",
       "\\end{tabular}\n"
      ],
      "text/markdown": [
       "\n",
       "A data.frame: 6 × 3\n",
       "\n",
       "| <!--/--> | GO.IDs &lt;chr&gt; | Parent_GO_ID &lt;chr&gt; | Parent_Term &lt;chr&gt; |\n",
       "|---|---|---|---|\n",
       "| isa | GO:0007219 | GO:0007166 | cell surface receptor signaling pathway   |\n",
       "| part of | GO:0048568 | GO:0009790 | embryo development                        |\n",
       "| isa1 | GO:0009887 | GO:0009653 | anatomical structure morphogenesis        |\n",
       "| part of1 | GO:0048666 | GO:0030182 | neuron differentiation                    |\n",
       "| part of2 | GO:0048666 | GO:0030182 | neuron differentiation                    |\n",
       "| isa2 | GO:0006357 | GO:0006355 | regulation of DNA-templated transcription |\n",
       "\n"
      ],
      "text/plain": [
       "         GO.IDs     Parent_GO_ID Parent_Term                              \n",
       "isa      GO:0007219 GO:0007166   cell surface receptor signaling pathway  \n",
       "part of  GO:0048568 GO:0009790   embryo development                       \n",
       "isa1     GO:0009887 GO:0009653   anatomical structure morphogenesis       \n",
       "part of1 GO:0048666 GO:0030182   neuron differentiation                   \n",
       "part of2 GO:0048666 GO:0030182   neuron differentiation                   \n",
       "isa2     GO:0006357 GO:0006355   regulation of DNA-templated transcription"
      ]
     },
     "metadata": {},
     "output_type": "display_data"
    }
   ],
   "source": [
    "colnames(results)[1] <- 'GO.IDs'\n",
    "head(results)"
   ]
  },
  {
   "cell_type": "code",
   "execution_count": 15,
   "id": "9585dc60-bc46-4ebc-beae-c36ab3f6bc75",
   "metadata": {},
   "outputs": [
    {
     "data": {
      "text/html": [
       "<table class=\"dataframe\">\n",
       "<caption>A data.frame: 6 × 12</caption>\n",
       "<thead>\n",
       "\t<tr><th></th><th scope=col>GO.IDs</th><th scope=col>gene_id</th><th scope=col>order</th><th scope=col>name</th><th scope=col>pair_vs_HC</th><th scope=col>gene_name</th><th scope=col>process</th><th scope=col>notes</th><th scope=col>GOslim</th><th scope=col>Term</th><th scope=col>Parent_GO_ID</th><th scope=col>Parent_Term</th></tr>\n",
       "\t<tr><th></th><th scope=col>&lt;chr&gt;</th><th scope=col>&lt;chr&gt;</th><th scope=col>&lt;int&gt;</th><th scope=col>&lt;chr&gt;</th><th scope=col>&lt;chr&gt;</th><th scope=col>&lt;chr&gt;</th><th scope=col>&lt;chr&gt;</th><th scope=col>&lt;chr&gt;</th><th scope=col>&lt;chr&gt;</th><th scope=col>&lt;chr&gt;</th><th scope=col>&lt;chr&gt;</th><th scope=col>&lt;chr&gt;</th></tr>\n",
       "</thead>\n",
       "<tbody>\n",
       "\t<tr><th scope=row>1</th><td>GO:0000012</td><td>LOC111111498</td><td>113</td><td>uncharacterized LOC111111498, transcript variant X2  </td><td>CH    </td><td>     </td><td>                       </td><td></td><td>GO:0006281           </td><td>DNA repair                         </td><td>GO:0006281</td><td>DNA repair                  </td></tr>\n",
       "\t<tr><th scope=row>2</th><td>GO:0000027</td><td>LOC111119745</td><td> 27</td><td>60S ribosomal protein L10-like                       </td><td>CH, HH</td><td>RPL10</td><td>translation            </td><td></td><td>GO:0042254;GO:0065003</td><td>protein-containing complex assembly</td><td>GO:0022618</td><td>protein-RNA complex assembly</td></tr>\n",
       "\t<tr><th scope=row>3</th><td>GO:0000027</td><td>LOC111119745</td><td> 27</td><td>60S ribosomal protein L10-like                       </td><td>CH, HH</td><td>RPL10</td><td>translation            </td><td></td><td>GO:0042254;GO:0065003</td><td>protein-containing complex assembly</td><td>GO:0022618</td><td>protein-RNA complex assembly</td></tr>\n",
       "\t<tr><th scope=row>4</th><td>GO:0000027</td><td>LOC111119745</td><td> 27</td><td>60S ribosomal protein L10-like                       </td><td>CH, HH</td><td>RPL10</td><td>translation            </td><td></td><td>GO:0042254;GO:0065003</td><td>ribosome biogenesis                </td><td>GO:0022618</td><td>protein-RNA complex assembly</td></tr>\n",
       "\t<tr><th scope=row>5</th><td>GO:0000027</td><td>LOC111119745</td><td> 27</td><td>60S ribosomal protein L10-like                       </td><td>CH, HH</td><td>RPL10</td><td>translation            </td><td></td><td>GO:0042254;GO:0065003</td><td>ribosome biogenesis                </td><td>GO:0022618</td><td>protein-RNA complex assembly</td></tr>\n",
       "\t<tr><th scope=row>6</th><td>GO:0000028</td><td>LOC111127769</td><td>165</td><td>30S ribosomal protein S11-like, transcript variant X4</td><td>CH    </td><td>rps11</td><td>cytoplasmic translation</td><td></td><td>GO:0042254;GO:0065003</td><td>protein-containing complex assembly</td><td>GO:0022618</td><td>protein-RNA complex assembly</td></tr>\n",
       "</tbody>\n",
       "</table>\n"
      ],
      "text/latex": [
       "A data.frame: 6 × 12\n",
       "\\begin{tabular}{r|llllllllllll}\n",
       "  & GO.IDs & gene\\_id & order & name & pair\\_vs\\_HC & gene\\_name & process & notes & GOslim & Term & Parent\\_GO\\_ID & Parent\\_Term\\\\\n",
       "  & <chr> & <chr> & <int> & <chr> & <chr> & <chr> & <chr> & <chr> & <chr> & <chr> & <chr> & <chr>\\\\\n",
       "\\hline\n",
       "\t1 & GO:0000012 & LOC111111498 & 113 & uncharacterized LOC111111498, transcript variant X2   & CH     &       &                         &  & GO:0006281            & DNA repair                          & GO:0006281 & DNA repair                  \\\\\n",
       "\t2 & GO:0000027 & LOC111119745 &  27 & 60S ribosomal protein L10-like                        & CH, HH & RPL10 & translation             &  & GO:0042254;GO:0065003 & protein-containing complex assembly & GO:0022618 & protein-RNA complex assembly\\\\\n",
       "\t3 & GO:0000027 & LOC111119745 &  27 & 60S ribosomal protein L10-like                        & CH, HH & RPL10 & translation             &  & GO:0042254;GO:0065003 & protein-containing complex assembly & GO:0022618 & protein-RNA complex assembly\\\\\n",
       "\t4 & GO:0000027 & LOC111119745 &  27 & 60S ribosomal protein L10-like                        & CH, HH & RPL10 & translation             &  & GO:0042254;GO:0065003 & ribosome biogenesis                 & GO:0022618 & protein-RNA complex assembly\\\\\n",
       "\t5 & GO:0000027 & LOC111119745 &  27 & 60S ribosomal protein L10-like                        & CH, HH & RPL10 & translation             &  & GO:0042254;GO:0065003 & ribosome biogenesis                 & GO:0022618 & protein-RNA complex assembly\\\\\n",
       "\t6 & GO:0000028 & LOC111127769 & 165 & 30S ribosomal protein S11-like, transcript variant X4 & CH     & rps11 & cytoplasmic translation &  & GO:0042254;GO:0065003 & protein-containing complex assembly & GO:0022618 & protein-RNA complex assembly\\\\\n",
       "\\end{tabular}\n"
      ],
      "text/markdown": [
       "\n",
       "A data.frame: 6 × 12\n",
       "\n",
       "| <!--/--> | GO.IDs &lt;chr&gt; | gene_id &lt;chr&gt; | order &lt;int&gt; | name &lt;chr&gt; | pair_vs_HC &lt;chr&gt; | gene_name &lt;chr&gt; | process &lt;chr&gt; | notes &lt;chr&gt; | GOslim &lt;chr&gt; | Term &lt;chr&gt; | Parent_GO_ID &lt;chr&gt; | Parent_Term &lt;chr&gt; |\n",
       "|---|---|---|---|---|---|---|---|---|---|---|---|---|\n",
       "| 1 | GO:0000012 | LOC111111498 | 113 | uncharacterized LOC111111498, transcript variant X2   | CH     | <!----> | <!----> | <!----> | GO:0006281            | DNA repair                          | GO:0006281 | DNA repair                   |\n",
       "| 2 | GO:0000027 | LOC111119745 |  27 | 60S ribosomal protein L10-like                        | CH, HH | RPL10 | translation             | <!----> | GO:0042254;GO:0065003 | protein-containing complex assembly | GO:0022618 | protein-RNA complex assembly |\n",
       "| 3 | GO:0000027 | LOC111119745 |  27 | 60S ribosomal protein L10-like                        | CH, HH | RPL10 | translation             | <!----> | GO:0042254;GO:0065003 | protein-containing complex assembly | GO:0022618 | protein-RNA complex assembly |\n",
       "| 4 | GO:0000027 | LOC111119745 |  27 | 60S ribosomal protein L10-like                        | CH, HH | RPL10 | translation             | <!----> | GO:0042254;GO:0065003 | ribosome biogenesis                 | GO:0022618 | protein-RNA complex assembly |\n",
       "| 5 | GO:0000027 | LOC111119745 |  27 | 60S ribosomal protein L10-like                        | CH, HH | RPL10 | translation             | <!----> | GO:0042254;GO:0065003 | ribosome biogenesis                 | GO:0022618 | protein-RNA complex assembly |\n",
       "| 6 | GO:0000028 | LOC111127769 | 165 | 30S ribosomal protein S11-like, transcript variant X4 | CH     | rps11 | cytoplasmic translation | <!----> | GO:0042254;GO:0065003 | protein-containing complex assembly | GO:0022618 | protein-RNA complex assembly |\n",
       "\n"
      ],
      "text/plain": [
       "  GO.IDs     gene_id      order\n",
       "1 GO:0000012 LOC111111498 113  \n",
       "2 GO:0000027 LOC111119745  27  \n",
       "3 GO:0000027 LOC111119745  27  \n",
       "4 GO:0000027 LOC111119745  27  \n",
       "5 GO:0000027 LOC111119745  27  \n",
       "6 GO:0000028 LOC111127769 165  \n",
       "  name                                                  pair_vs_HC gene_name\n",
       "1 uncharacterized LOC111111498, transcript variant X2   CH                  \n",
       "2 60S ribosomal protein L10-like                        CH, HH     RPL10    \n",
       "3 60S ribosomal protein L10-like                        CH, HH     RPL10    \n",
       "4 60S ribosomal protein L10-like                        CH, HH     RPL10    \n",
       "5 60S ribosomal protein L10-like                        CH, HH     RPL10    \n",
       "6 30S ribosomal protein S11-like, transcript variant X4 CH         rps11    \n",
       "  process                 notes GOslim               \n",
       "1                               GO:0006281           \n",
       "2 translation                   GO:0042254;GO:0065003\n",
       "3 translation                   GO:0042254;GO:0065003\n",
       "4 translation                   GO:0042254;GO:0065003\n",
       "5 translation                   GO:0042254;GO:0065003\n",
       "6 cytoplasmic translation       GO:0042254;GO:0065003\n",
       "  Term                                Parent_GO_ID Parent_Term                 \n",
       "1 DNA repair                          GO:0006281   DNA repair                  \n",
       "2 protein-containing complex assembly GO:0022618   protein-RNA complex assembly\n",
       "3 protein-containing complex assembly GO:0022618   protein-RNA complex assembly\n",
       "4 ribosome biogenesis                 GO:0022618   protein-RNA complex assembly\n",
       "5 ribosome biogenesis                 GO:0022618   protein-RNA complex assembly\n",
       "6 protein-containing complex assembly GO:0022618   protein-RNA complex assembly"
      ]
     },
     "metadata": {},
     "output_type": "display_data"
    }
   ],
   "source": [
    "merged <- merge(dmgs, results, by = 'GO.IDs')\n",
    "head(merged)\n",
    "\n",
    "#dplyr::select(merged, process, Term, Parent_Term)"
   ]
  },
  {
   "cell_type": "code",
   "execution_count": 16,
   "id": "a4785635-f5dd-4398-99f8-6aa5abadcc3d",
   "metadata": {},
   "outputs": [
    {
     "data": {
      "text/html": [
       "101"
      ],
      "text/latex": [
       "101"
      ],
      "text/markdown": [
       "101"
      ],
      "text/plain": [
       "[1] 101"
      ]
     },
     "metadata": {},
     "output_type": "display_data"
    },
    {
     "data": {
      "text/html": [
       "43"
      ],
      "text/latex": [
       "43"
      ],
      "text/markdown": [
       "43"
      ],
      "text/plain": [
       "[1] 43"
      ]
     },
     "metadata": {},
     "output_type": "display_data"
    }
   ],
   "source": [
    "length(unique(merged$Parent_Term))\n",
    "length(unique(merged$Term)) # less Terms (which were the GO slim terms, than Parent Terms and they basically are the same thing ..."
   ]
  },
  {
   "cell_type": "markdown",
   "id": "14201727-34e7-4ba6-b853-3baeae2b780a",
   "metadata": {},
   "source": [
    "## ONLY unique DMGs\n",
    "\n",
    "for **control control vs. hypoxic control**\n",
    "\n",
    "CC vs. HC"
   ]
  },
  {
   "cell_type": "code",
   "execution_count": 17,
   "id": "d3626b40-8819-44d8-8a6c-bc7b90760c1f",
   "metadata": {},
   "outputs": [],
   "source": [
    "library(tidyverse)"
   ]
  },
  {
   "cell_type": "markdown",
   "id": "ea459708-d852-493d-94fb-209a046c309d",
   "metadata": {},
   "source": [
    "**hypoxic hypoxic vs. hypoxic control**\n",
    "\n",
    "HH vs. HC"
   ]
  },
  {
   "cell_type": "code",
   "execution_count": 104,
   "id": "a83dfeac-eea1-4922-bffd-f5155e266a1b",
   "metadata": {},
   "outputs": [
    {
     "data": {
      "text/html": [
       "<table class=\"dataframe\">\n",
       "<caption>A grouped_df: 17 × 3</caption>\n",
       "<thead>\n",
       "\t<tr><th scope=col>Term</th><th scope=col>n</th><th scope=col>Percent</th></tr>\n",
       "\t<tr><th scope=col>&lt;chr&gt;</th><th scope=col>&lt;int&gt;</th><th scope=col>&lt;dbl&gt;</th></tr>\n",
       "</thead>\n",
       "<tbody>\n",
       "\t<tr><td>DNA-templated transcription              </td><td>18</td><td>25.35</td></tr>\n",
       "\t<tr><td>anatomical structure development         </td><td> 2</td><td> 2.82</td></tr>\n",
       "\t<tr><td>carbohydrate derivative metabolic process</td><td> 1</td><td> 1.41</td></tr>\n",
       "\t<tr><td>carbohydrate metabolic process           </td><td> 1</td><td> 1.41</td></tr>\n",
       "\t<tr><td>cell adhesion                            </td><td> 1</td><td> 1.41</td></tr>\n",
       "\t<tr><td>cilium organization                      </td><td> 1</td><td> 1.41</td></tr>\n",
       "\t<tr><td>cytokinesis                              </td><td> 1</td><td> 1.41</td></tr>\n",
       "\t<tr><td>intracellular protein transport          </td><td> 7</td><td> 9.86</td></tr>\n",
       "\t<tr><td>lipid metabolic process                  </td><td> 1</td><td> 1.41</td></tr>\n",
       "\t<tr><td>mRNA metabolic process                   </td><td> 1</td><td> 1.41</td></tr>\n",
       "\t<tr><td>mitochondrion organization               </td><td> 3</td><td> 4.23</td></tr>\n",
       "\t<tr><td>nucleocytoplasmic transport              </td><td> 4</td><td> 5.63</td></tr>\n",
       "\t<tr><td>protein catabolic process                </td><td> 5</td><td> 7.04</td></tr>\n",
       "\t<tr><td>regulation of DNA-templated transcription</td><td>18</td><td>25.35</td></tr>\n",
       "\t<tr><td>ribosome biogenesis                      </td><td> 2</td><td> 2.82</td></tr>\n",
       "\t<tr><td>signaling                                </td><td> 2</td><td> 2.82</td></tr>\n",
       "\t<tr><td>transmembrane transport                  </td><td> 3</td><td> 4.23</td></tr>\n",
       "</tbody>\n",
       "</table>\n"
      ],
      "text/latex": [
       "A grouped\\_df: 17 × 3\n",
       "\\begin{tabular}{lll}\n",
       " Term & n & Percent\\\\\n",
       " <chr> & <int> & <dbl>\\\\\n",
       "\\hline\n",
       "\t DNA-templated transcription               & 18 & 25.35\\\\\n",
       "\t anatomical structure development          &  2 &  2.82\\\\\n",
       "\t carbohydrate derivative metabolic process &  1 &  1.41\\\\\n",
       "\t carbohydrate metabolic process            &  1 &  1.41\\\\\n",
       "\t cell adhesion                             &  1 &  1.41\\\\\n",
       "\t cilium organization                       &  1 &  1.41\\\\\n",
       "\t cytokinesis                               &  1 &  1.41\\\\\n",
       "\t intracellular protein transport           &  7 &  9.86\\\\\n",
       "\t lipid metabolic process                   &  1 &  1.41\\\\\n",
       "\t mRNA metabolic process                    &  1 &  1.41\\\\\n",
       "\t mitochondrion organization                &  3 &  4.23\\\\\n",
       "\t nucleocytoplasmic transport               &  4 &  5.63\\\\\n",
       "\t protein catabolic process                 &  5 &  7.04\\\\\n",
       "\t regulation of DNA-templated transcription & 18 & 25.35\\\\\n",
       "\t ribosome biogenesis                       &  2 &  2.82\\\\\n",
       "\t signaling                                 &  2 &  2.82\\\\\n",
       "\t transmembrane transport                   &  3 &  4.23\\\\\n",
       "\\end{tabular}\n"
      ],
      "text/markdown": [
       "\n",
       "A grouped_df: 17 × 3\n",
       "\n",
       "| Term &lt;chr&gt; | n &lt;int&gt; | Percent &lt;dbl&gt; |\n",
       "|---|---|---|\n",
       "| DNA-templated transcription               | 18 | 25.35 |\n",
       "| anatomical structure development          |  2 |  2.82 |\n",
       "| carbohydrate derivative metabolic process |  1 |  1.41 |\n",
       "| carbohydrate metabolic process            |  1 |  1.41 |\n",
       "| cell adhesion                             |  1 |  1.41 |\n",
       "| cilium organization                       |  1 |  1.41 |\n",
       "| cytokinesis                               |  1 |  1.41 |\n",
       "| intracellular protein transport           |  7 |  9.86 |\n",
       "| lipid metabolic process                   |  1 |  1.41 |\n",
       "| mRNA metabolic process                    |  1 |  1.41 |\n",
       "| mitochondrion organization                |  3 |  4.23 |\n",
       "| nucleocytoplasmic transport               |  4 |  5.63 |\n",
       "| protein catabolic process                 |  5 |  7.04 |\n",
       "| regulation of DNA-templated transcription | 18 | 25.35 |\n",
       "| ribosome biogenesis                       |  2 |  2.82 |\n",
       "| signaling                                 |  2 |  2.82 |\n",
       "| transmembrane transport                   |  3 |  4.23 |\n",
       "\n"
      ],
      "text/plain": [
       "   Term                                      n  Percent\n",
       "1  DNA-templated transcription               18 25.35  \n",
       "2  anatomical structure development           2  2.82  \n",
       "3  carbohydrate derivative metabolic process  1  1.41  \n",
       "4  carbohydrate metabolic process             1  1.41  \n",
       "5  cell adhesion                              1  1.41  \n",
       "6  cilium organization                        1  1.41  \n",
       "7  cytokinesis                                1  1.41  \n",
       "8  intracellular protein transport            7  9.86  \n",
       "9  lipid metabolic process                    1  1.41  \n",
       "10 mRNA metabolic process                     1  1.41  \n",
       "11 mitochondrion organization                 3  4.23  \n",
       "12 nucleocytoplasmic transport                4  5.63  \n",
       "13 protein catabolic process                  5  7.04  \n",
       "14 regulation of DNA-templated transcription 18 25.35  \n",
       "15 ribosome biogenesis                        2  2.82  \n",
       "16 signaling                                  2  2.82  \n",
       "17 transmembrane transport                    3  4.23  "
      ]
     },
     "metadata": {},
     "output_type": "display_data"
    }
   ],
   "source": [
    "unique_HH <- merged %>%\n",
    "filter(pair_vs_HC == 'HH') %>%\n",
    "group_by(Term) %>%\n",
    "count() %>%\n",
    "mutate(Percent = round((n / sum(unique_HH$n)) * 100, 2))\n",
    "\n",
    "unique_HH"
   ]
  },
  {
   "cell_type": "code",
   "execution_count": 105,
   "id": "15030f8e-ea26-4be7-bc07-c1690fd2dd27",
   "metadata": {},
   "outputs": [
    {
     "data": {
      "image/png": "[encoded data removed]",
      "text/plain": [
       "plot without title"
      ]
     },
     "metadata": {
      "image/png": {
       "height": 420,
       "width": 420
      }
     },
     "output_type": "display_data"
    }
   ],
   "source": [
    "ggplot(unique_HH, aes(x = fct_reorder(Term,n), y = Percent)) + \n",
    "geom_col() +\n",
    "coord_flip() +\n",
    "theme_bw()"
   ]
  },
  {
   "cell_type": "markdown",
   "id": "d92988ca-9634-475b-8cf6-80d4bb0b38de",
   "metadata": {},
   "source": [
    "**control hypoxic vs. hypoxic control**\n",
    "\n",
    "CH vs. HC"
   ]
  },
  {
   "cell_type": "code",
   "execution_count": 110,
   "id": "b0fe74c1-2c12-48a3-93e0-b2b84490fec1",
   "metadata": {},
   "outputs": [
    {
     "data": {
      "text/html": [
       "<table class=\"dataframe\">\n",
       "<caption>A grouped_df: 36 × 3</caption>\n",
       "<thead>\n",
       "\t<tr><th scope=col>Term</th><th scope=col>n</th><th scope=col>Percent</th></tr>\n",
       "\t<tr><th scope=col>&lt;chr&gt;</th><th scope=col>&lt;int&gt;</th><th scope=col>&lt;dbl&gt;</th></tr>\n",
       "</thead>\n",
       "<tbody>\n",
       "\t<tr><td>DNA-templated transcription                           </td><td>77</td><td>24.60</td></tr>\n",
       "\t<tr><td>regulation of DNA-templated transcription             </td><td>72</td><td>23.00</td></tr>\n",
       "\t<tr><td>signaling                                             </td><td>25</td><td> 7.99</td></tr>\n",
       "\t<tr><td>protein catabolic process                             </td><td>15</td><td> 4.79</td></tr>\n",
       "\t<tr><td>intracellular protein transport                       </td><td>12</td><td> 3.83</td></tr>\n",
       "\t<tr><td>mitotic cell cycle                                    </td><td>10</td><td> 3.19</td></tr>\n",
       "\t<tr><td>ribosome biogenesis                                   </td><td> 8</td><td> 2.56</td></tr>\n",
       "\t<tr><td>DNA repair                                            </td><td> 7</td><td> 2.24</td></tr>\n",
       "\t<tr><td>generation of precursor metabolites and energy        </td><td> 6</td><td> 1.92</td></tr>\n",
       "\t<tr><td>protein maturation                                    </td><td> 6</td><td> 1.92</td></tr>\n",
       "\t<tr><td>protein-containing complex assembly                   </td><td> 6</td><td> 1.92</td></tr>\n",
       "\t<tr><td>transmembrane transport                               </td><td> 6</td><td> 1.92</td></tr>\n",
       "\t<tr><td>vesicle-mediated transport                            </td><td> 6</td><td> 1.92</td></tr>\n",
       "\t<tr><td>anatomical structure development                      </td><td> 4</td><td> 1.28</td></tr>\n",
       "\t<tr><td>cytoskeleton organization                             </td><td> 4</td><td> 1.28</td></tr>\n",
       "\t<tr><td>protein folding                                       </td><td> 4</td><td> 1.28</td></tr>\n",
       "\t<tr><td>snRNA metabolic process                               </td><td> 4</td><td> 1.28</td></tr>\n",
       "\t<tr><td>sulfur compound metabolic process                     </td><td> 4</td><td> 1.28</td></tr>\n",
       "\t<tr><td>vitamin metabolic process                             </td><td> 4</td><td> 1.28</td></tr>\n",
       "\t<tr><td>chromosome segregation                                </td><td> 3</td><td> 0.96</td></tr>\n",
       "\t<tr><td>cytoplasmic translation                               </td><td> 3</td><td> 0.96</td></tr>\n",
       "\t<tr><td>mitotic nuclear division                              </td><td> 3</td><td> 0.96</td></tr>\n",
       "\t<tr><td>peroxisome organization                               </td><td> 3</td><td> 0.96</td></tr>\n",
       "\t<tr><td>DNA recombination                                     </td><td> 2</td><td> 0.64</td></tr>\n",
       "\t<tr><td>carbohydrate metabolic process                        </td><td> 2</td><td> 0.64</td></tr>\n",
       "\t<tr><td>cell differentiation                                  </td><td> 2</td><td> 0.64</td></tr>\n",
       "\t<tr><td>lipid metabolic process                               </td><td> 2</td><td> 0.64</td></tr>\n",
       "\t<tr><td>membrane organization                                 </td><td> 2</td><td> 0.64</td></tr>\n",
       "\t<tr><td>nucleobase-containing small molecule metabolic process</td><td> 2</td><td> 0.64</td></tr>\n",
       "\t<tr><td>programmed cell death                                 </td><td> 2</td><td> 0.64</td></tr>\n",
       "\t<tr><td>reproductive process                                  </td><td> 2</td><td> 0.64</td></tr>\n",
       "\t<tr><td>DNA replication                                       </td><td> 1</td><td> 0.32</td></tr>\n",
       "\t<tr><td>amino acid metabolic process                          </td><td> 1</td><td> 0.32</td></tr>\n",
       "\t<tr><td>carbohydrate derivative metabolic process             </td><td> 1</td><td> 0.32</td></tr>\n",
       "\t<tr><td>cilium organization                                   </td><td> 1</td><td> 0.32</td></tr>\n",
       "\t<tr><td>mRNA metabolic process                                </td><td> 1</td><td> 0.32</td></tr>\n",
       "</tbody>\n",
       "</table>\n"
      ],
      "text/latex": [
       "A grouped\\_df: 36 × 3\n",
       "\\begin{tabular}{lll}\n",
       " Term & n & Percent\\\\\n",
       " <chr> & <int> & <dbl>\\\\\n",
       "\\hline\n",
       "\t DNA-templated transcription                            & 77 & 24.60\\\\\n",
       "\t regulation of DNA-templated transcription              & 72 & 23.00\\\\\n",
       "\t signaling                                              & 25 &  7.99\\\\\n",
       "\t protein catabolic process                              & 15 &  4.79\\\\\n",
       "\t intracellular protein transport                        & 12 &  3.83\\\\\n",
       "\t mitotic cell cycle                                     & 10 &  3.19\\\\\n",
       "\t ribosome biogenesis                                    &  8 &  2.56\\\\\n",
       "\t DNA repair                                             &  7 &  2.24\\\\\n",
       "\t generation of precursor metabolites and energy         &  6 &  1.92\\\\\n",
       "\t protein maturation                                     &  6 &  1.92\\\\\n",
       "\t protein-containing complex assembly                    &  6 &  1.92\\\\\n",
       "\t transmembrane transport                                &  6 &  1.92\\\\\n",
       "\t vesicle-mediated transport                             &  6 &  1.92\\\\\n",
       "\t anatomical structure development                       &  4 &  1.28\\\\\n",
       "\t cytoskeleton organization                              &  4 &  1.28\\\\\n",
       "\t protein folding                                        &  4 &  1.28\\\\\n",
       "\t snRNA metabolic process                                &  4 &  1.28\\\\\n",
       "\t sulfur compound metabolic process                      &  4 &  1.28\\\\\n",
       "\t vitamin metabolic process                              &  4 &  1.28\\\\\n",
       "\t chromosome segregation                                 &  3 &  0.96\\\\\n",
       "\t cytoplasmic translation                                &  3 &  0.96\\\\\n",
       "\t mitotic nuclear division                               &  3 &  0.96\\\\\n",
       "\t peroxisome organization                                &  3 &  0.96\\\\\n",
       "\t DNA recombination                                      &  2 &  0.64\\\\\n",
       "\t carbohydrate metabolic process                         &  2 &  0.64\\\\\n",
       "\t cell differentiation                                   &  2 &  0.64\\\\\n",
       "\t lipid metabolic process                                &  2 &  0.64\\\\\n",
       "\t membrane organization                                  &  2 &  0.64\\\\\n",
       "\t nucleobase-containing small molecule metabolic process &  2 &  0.64\\\\\n",
       "\t programmed cell death                                  &  2 &  0.64\\\\\n",
       "\t reproductive process                                   &  2 &  0.64\\\\\n",
       "\t DNA replication                                        &  1 &  0.32\\\\\n",
       "\t amino acid metabolic process                           &  1 &  0.32\\\\\n",
       "\t carbohydrate derivative metabolic process              &  1 &  0.32\\\\\n",
       "\t cilium organization                                    &  1 &  0.32\\\\\n",
       "\t mRNA metabolic process                                 &  1 &  0.32\\\\\n",
       "\\end{tabular}\n"
      ],
      "text/markdown": [
       "\n",
       "A grouped_df: 36 × 3\n",
       "\n",
       "| Term &lt;chr&gt; | n &lt;int&gt; | Percent &lt;dbl&gt; |\n",
       "|---|---|---|\n",
       "| DNA-templated transcription                            | 77 | 24.60 |\n",
       "| regulation of DNA-templated transcription              | 72 | 23.00 |\n",
       "| signaling                                              | 25 |  7.99 |\n",
       "| protein catabolic process                              | 15 |  4.79 |\n",
       "| intracellular protein transport                        | 12 |  3.83 |\n",
       "| mitotic cell cycle                                     | 10 |  3.19 |\n",
       "| ribosome biogenesis                                    |  8 |  2.56 |\n",
       "| DNA repair                                             |  7 |  2.24 |\n",
       "| generation of precursor metabolites and energy         |  6 |  1.92 |\n",
       "| protein maturation                                     |  6 |  1.92 |\n",
       "| protein-containing complex assembly                    |  6 |  1.92 |\n",
       "| transmembrane transport                                |  6 |  1.92 |\n",
       "| vesicle-mediated transport                             |  6 |  1.92 |\n",
       "| anatomical structure development                       |  4 |  1.28 |\n",
       "| cytoskeleton organization                              |  4 |  1.28 |\n",
       "| protein folding                                        |  4 |  1.28 |\n",
       "| snRNA metabolic process                                |  4 |  1.28 |\n",
       "| sulfur compound metabolic process                      |  4 |  1.28 |\n",
       "| vitamin metabolic process                              |  4 |  1.28 |\n",
       "| chromosome segregation                                 |  3 |  0.96 |\n",
       "| cytoplasmic translation                                |  3 |  0.96 |\n",
       "| mitotic nuclear division                               |  3 |  0.96 |\n",
       "| peroxisome organization                                |  3 |  0.96 |\n",
       "| DNA recombination                                      |  2 |  0.64 |\n",
       "| carbohydrate metabolic process                         |  2 |  0.64 |\n",
       "| cell differentiation                                   |  2 |  0.64 |\n",
       "| lipid metabolic process                                |  2 |  0.64 |\n",
       "| membrane organization                                  |  2 |  0.64 |\n",
       "| nucleobase-containing small molecule metabolic process |  2 |  0.64 |\n",
       "| programmed cell death                                  |  2 |  0.64 |\n",
       "| reproductive process                                   |  2 |  0.64 |\n",
       "| DNA replication                                        |  1 |  0.32 |\n",
       "| amino acid metabolic process                           |  1 |  0.32 |\n",
       "| carbohydrate derivative metabolic process              |  1 |  0.32 |\n",
       "| cilium organization                                    |  1 |  0.32 |\n",
       "| mRNA metabolic process                                 |  1 |  0.32 |\n",
       "\n"
      ],
      "text/plain": [
       "   Term                                                   n  Percent\n",
       "1  DNA-templated transcription                            77 24.60  \n",
       "2  regulation of DNA-templated transcription              72 23.00  \n",
       "3  signaling                                              25  7.99  \n",
       "4  protein catabolic process                              15  4.79  \n",
       "5  intracellular protein transport                        12  3.83  \n",
       "6  mitotic cell cycle                                     10  3.19  \n",
       "7  ribosome biogenesis                                     8  2.56  \n",
       "8  DNA repair                                              7  2.24  \n",
       "9  generation of precursor metabolites and energy          6  1.92  \n",
       "10 protein maturation                                      6  1.92  \n",
       "11 protein-containing complex assembly                     6  1.92  \n",
       "12 transmembrane transport                                 6  1.92  \n",
       "13 vesicle-mediated transport                              6  1.92  \n",
       "14 anatomical structure development                        4  1.28  \n",
       "15 cytoskeleton organization                               4  1.28  \n",
       "16 protein folding                                         4  1.28  \n",
       "17 snRNA metabolic process                                 4  1.28  \n",
       "18 sulfur compound metabolic process                       4  1.28  \n",
       "19 vitamin metabolic process                               4  1.28  \n",
       "20 chromosome segregation                                  3  0.96  \n",
       "21 cytoplasmic translation                                 3  0.96  \n",
       "22 mitotic nuclear division                                3  0.96  \n",
       "23 peroxisome organization                                 3  0.96  \n",
       "24 DNA recombination                                       2  0.64  \n",
       "25 carbohydrate metabolic process                          2  0.64  \n",
       "26 cell differentiation                                    2  0.64  \n",
       "27 lipid metabolic process                                 2  0.64  \n",
       "28 membrane organization                                   2  0.64  \n",
       "29 nucleobase-containing small molecule metabolic process  2  0.64  \n",
       "30 programmed cell death                                   2  0.64  \n",
       "31 reproductive process                                    2  0.64  \n",
       "32 DNA replication                                         1  0.32  \n",
       "33 amino acid metabolic process                            1  0.32  \n",
       "34 carbohydrate derivative metabolic process               1  0.32  \n",
       "35 cilium organization                                     1  0.32  \n",
       "36 mRNA metabolic process                                  1  0.32  "
      ]
     },
     "metadata": {},
     "output_type": "display_data"
    }
   ],
   "source": [
    "unique_CH <- merged %>%\n",
    "filter(pair_vs_HC == 'CH') %>%\n",
    "group_by(Term) %>%\n",
    "count() %>%\n",
    "mutate(Percent = round((n / sum(unique_CH$n)) * 100, 2)) %>%\n",
    "arrange(desc(Percent))\n",
    "\n",
    "unique_CH"
   ]
  },
  {
   "cell_type": "code",
   "execution_count": 54,
   "id": "77431eb7-d12f-46f9-82eb-b8ed156539c6",
   "metadata": {},
   "outputs": [
    {
     "data": {
      "image/png": "[encoded data removed]",
      "text/plain": [
       "plot without title"
      ]
     },
     "metadata": {
      "image/png": {
       "height": 420,
       "width": 420
      }
     },
     "output_type": "display_data"
    }
   ],
   "source": [
    "ggplot(unique_CH, aes(x = fct_reorder(Term,n), y = n)) + \n",
    "geom_col() +\n",
    "coord_flip() +\n",
    "theme_bw()"
   ]
  },
  {
   "cell_type": "markdown",
   "id": "1561c39a-de32-49ab-836c-5401f826b097",
   "metadata": {},
   "source": [
    "## ONLY shared DMGs\n",
    "\n",
    "\n",
    "**CH vs. HC** and **HH vs. HC**"
   ]
  },
  {
   "cell_type": "code",
   "execution_count": 111,
   "id": "3b5982be-7d5b-461b-9b37-9bd9e5f87f12",
   "metadata": {},
   "outputs": [
    {
     "data": {
      "text/html": [
       "<table class=\"dataframe\">\n",
       "<caption>A grouped_df: 20 × 3</caption>\n",
       "<thead>\n",
       "\t<tr><th scope=col>Term</th><th scope=col>n</th><th scope=col>Percent</th></tr>\n",
       "\t<tr><th scope=col>&lt;chr&gt;</th><th scope=col>&lt;int&gt;</th><th scope=col>&lt;dbl&gt;</th></tr>\n",
       "</thead>\n",
       "<tbody>\n",
       "\t<tr><td>intracellular protein transport                       </td><td>7</td><td>12.73</td></tr>\n",
       "\t<tr><td>signaling                                             </td><td>6</td><td>10.91</td></tr>\n",
       "\t<tr><td>carbohydrate derivative metabolic process             </td><td>5</td><td> 9.09</td></tr>\n",
       "\t<tr><td>mitotic cell cycle                                    </td><td>4</td><td> 7.27</td></tr>\n",
       "\t<tr><td>nucleocytoplasmic transport                           </td><td>4</td><td> 7.27</td></tr>\n",
       "\t<tr><td>protein-containing complex assembly                   </td><td>4</td><td> 7.27</td></tr>\n",
       "\t<tr><td>anatomical structure development                      </td><td>3</td><td> 5.45</td></tr>\n",
       "\t<tr><td>lipid metabolic process                               </td><td>3</td><td> 5.45</td></tr>\n",
       "\t<tr><td>mRNA metabolic process                                </td><td>3</td><td> 5.45</td></tr>\n",
       "\t<tr><td>amino acid metabolic process                          </td><td>2</td><td> 3.64</td></tr>\n",
       "\t<tr><td>cell differentiation                                  </td><td>2</td><td> 3.64</td></tr>\n",
       "\t<tr><td>cytoskeleton organization                             </td><td>2</td><td> 3.64</td></tr>\n",
       "\t<tr><td>protein glycosylation                                 </td><td>2</td><td> 3.64</td></tr>\n",
       "\t<tr><td>ribosome biogenesis                                   </td><td>2</td><td> 3.64</td></tr>\n",
       "\t<tr><td>DNA replication                                       </td><td>1</td><td> 1.82</td></tr>\n",
       "\t<tr><td>mitochondrial gene expression                         </td><td>1</td><td> 1.82</td></tr>\n",
       "\t<tr><td>nucleobase-containing small molecule metabolic process</td><td>1</td><td> 1.82</td></tr>\n",
       "\t<tr><td>protein catabolic process                             </td><td>1</td><td> 1.82</td></tr>\n",
       "\t<tr><td>regulatory ncRNA-mediated gene silencing              </td><td>1</td><td> 1.82</td></tr>\n",
       "\t<tr><td>snRNA metabolic process                               </td><td>1</td><td> 1.82</td></tr>\n",
       "</tbody>\n",
       "</table>\n"
      ],
      "text/latex": [
       "A grouped\\_df: 20 × 3\n",
       "\\begin{tabular}{lll}\n",
       " Term & n & Percent\\\\\n",
       " <chr> & <int> & <dbl>\\\\\n",
       "\\hline\n",
       "\t intracellular protein transport                        & 7 & 12.73\\\\\n",
       "\t signaling                                              & 6 & 10.91\\\\\n",
       "\t carbohydrate derivative metabolic process              & 5 &  9.09\\\\\n",
       "\t mitotic cell cycle                                     & 4 &  7.27\\\\\n",
       "\t nucleocytoplasmic transport                            & 4 &  7.27\\\\\n",
       "\t protein-containing complex assembly                    & 4 &  7.27\\\\\n",
       "\t anatomical structure development                       & 3 &  5.45\\\\\n",
       "\t lipid metabolic process                                & 3 &  5.45\\\\\n",
       "\t mRNA metabolic process                                 & 3 &  5.45\\\\\n",
       "\t amino acid metabolic process                           & 2 &  3.64\\\\\n",
       "\t cell differentiation                                   & 2 &  3.64\\\\\n",
       "\t cytoskeleton organization                              & 2 &  3.64\\\\\n",
       "\t protein glycosylation                                  & 2 &  3.64\\\\\n",
       "\t ribosome biogenesis                                    & 2 &  3.64\\\\\n",
       "\t DNA replication                                        & 1 &  1.82\\\\\n",
       "\t mitochondrial gene expression                          & 1 &  1.82\\\\\n",
       "\t nucleobase-containing small molecule metabolic process & 1 &  1.82\\\\\n",
       "\t protein catabolic process                              & 1 &  1.82\\\\\n",
       "\t regulatory ncRNA-mediated gene silencing               & 1 &  1.82\\\\\n",
       "\t snRNA metabolic process                                & 1 &  1.82\\\\\n",
       "\\end{tabular}\n"
      ],
      "text/markdown": [
       "\n",
       "A grouped_df: 20 × 3\n",
       "\n",
       "| Term &lt;chr&gt; | n &lt;int&gt; | Percent &lt;dbl&gt; |\n",
       "|---|---|---|\n",
       "| intracellular protein transport                        | 7 | 12.73 |\n",
       "| signaling                                              | 6 | 10.91 |\n",
       "| carbohydrate derivative metabolic process              | 5 |  9.09 |\n",
       "| mitotic cell cycle                                     | 4 |  7.27 |\n",
       "| nucleocytoplasmic transport                            | 4 |  7.27 |\n",
       "| protein-containing complex assembly                    | 4 |  7.27 |\n",
       "| anatomical structure development                       | 3 |  5.45 |\n",
       "| lipid metabolic process                                | 3 |  5.45 |\n",
       "| mRNA metabolic process                                 | 3 |  5.45 |\n",
       "| amino acid metabolic process                           | 2 |  3.64 |\n",
       "| cell differentiation                                   | 2 |  3.64 |\n",
       "| cytoskeleton organization                              | 2 |  3.64 |\n",
       "| protein glycosylation                                  | 2 |  3.64 |\n",
       "| ribosome biogenesis                                    | 2 |  3.64 |\n",
       "| DNA replication                                        | 1 |  1.82 |\n",
       "| mitochondrial gene expression                          | 1 |  1.82 |\n",
       "| nucleobase-containing small molecule metabolic process | 1 |  1.82 |\n",
       "| protein catabolic process                              | 1 |  1.82 |\n",
       "| regulatory ncRNA-mediated gene silencing               | 1 |  1.82 |\n",
       "| snRNA metabolic process                                | 1 |  1.82 |\n",
       "\n"
      ],
      "text/plain": [
       "   Term                                                   n Percent\n",
       "1  intracellular protein transport                        7 12.73  \n",
       "2  signaling                                              6 10.91  \n",
       "3  carbohydrate derivative metabolic process              5  9.09  \n",
       "4  mitotic cell cycle                                     4  7.27  \n",
       "5  nucleocytoplasmic transport                            4  7.27  \n",
       "6  protein-containing complex assembly                    4  7.27  \n",
       "7  anatomical structure development                       3  5.45  \n",
       "8  lipid metabolic process                                3  5.45  \n",
       "9  mRNA metabolic process                                 3  5.45  \n",
       "10 amino acid metabolic process                           2  3.64  \n",
       "11 cell differentiation                                   2  3.64  \n",
       "12 cytoskeleton organization                              2  3.64  \n",
       "13 protein glycosylation                                  2  3.64  \n",
       "14 ribosome biogenesis                                    2  3.64  \n",
       "15 DNA replication                                        1  1.82  \n",
       "16 mitochondrial gene expression                          1  1.82  \n",
       "17 nucleobase-containing small molecule metabolic process 1  1.82  \n",
       "18 protein catabolic process                              1  1.82  \n",
       "19 regulatory ncRNA-mediated gene silencing               1  1.82  \n",
       "20 snRNA metabolic process                                1  1.82  "
      ]
     },
     "metadata": {},
     "output_type": "display_data"
    }
   ],
   "source": [
    "shared1 <- merged %>%\n",
    "filter(pair_vs_HC == 'CH, HH') %>%\n",
    "group_by(Term) %>%\n",
    "count() %>%\n",
    "mutate(Percent = round((n / sum(shared1$n)) * 100, 2)) %>%\n",
    "arrange(desc(Percent))\n",
    "\n",
    "shared1"
   ]
  },
  {
   "cell_type": "code",
   "execution_count": 64,
   "id": "faa96a93-d970-4903-ad9f-b661fd3ea0c1",
   "metadata": {},
   "outputs": [
    {
     "data": {
      "image/png": "[encoded data removed]",
      "text/plain": [
       "plot without title"
      ]
     },
     "metadata": {
      "image/png": {
       "height": 420,
       "width": 420
      }
     },
     "output_type": "display_data"
    }
   ],
   "source": [
    "ggplot(shared1, aes(x = fct_reorder(Term,n), y = n)) + \n",
    "geom_col() +\n",
    "coord_flip() +\n",
    "theme_bw()"
   ]
  },
  {
   "cell_type": "markdown",
   "id": "8fe01f3a-a863-4aa0-82d4-891b9b5b6f85",
   "metadata": {},
   "source": [
    "shared between **all three**"
   ]
  },
  {
   "cell_type": "code",
   "execution_count": 84,
   "id": "31268831-c72d-4084-82f8-a5b33f389717",
   "metadata": {},
   "outputs": [
    {
     "data": {
      "text/html": [
       "<style>\n",
       ".list-inline {list-style: none; margin:0; padding: 0}\n",
       ".list-inline>li {display: inline-block}\n",
       ".list-inline>li:not(:last-child)::after {content: \"\\00b7\"; padding: 0 .5ex}\n",
       "</style>\n",
       "<ol class=list-inline><li>'CH, HH, CC'</li><li>'CH, HH'</li><li>'CH, CC'</li><li>'CC, HH'</li><li>'CC'</li><li>'HH'</li><li>'CH'</li></ol>\n"
      ],
      "text/latex": [
       "\\begin{enumerate*}\n",
       "\\item 'CH, HH, CC'\n",
       "\\item 'CH, HH'\n",
       "\\item 'CH, CC'\n",
       "\\item 'CC, HH'\n",
       "\\item 'CC'\n",
       "\\item 'HH'\n",
       "\\item 'CH'\n",
       "\\end{enumerate*}\n"
      ],
      "text/markdown": [
       "1. 'CH, HH, CC'\n",
       "2. 'CH, HH'\n",
       "3. 'CH, CC'\n",
       "4. 'CC, HH'\n",
       "5. 'CC'\n",
       "6. 'HH'\n",
       "7. 'CH'\n",
       "\n",
       "\n"
      ],
      "text/plain": [
       "[1] \"CH, HH, CC\" \"CH, HH\"     \"CH, CC\"     \"CC, HH\"     \"CC\"        \n",
       "[6] \"HH\"         \"CH\"        "
      ]
     },
     "metadata": {},
     "output_type": "display_data"
    }
   ],
   "source": [
    "unique(dmgs$pair_vs_HC)"
   ]
  },
  {
   "cell_type": "code",
   "execution_count": 114,
   "id": "90ec7136-9589-4eaa-8e4e-f2ea6295cfd0",
   "metadata": {},
   "outputs": [
    {
     "data": {
      "text/html": [
       "<table class=\"dataframe\">\n",
       "<caption>A grouped_df: 5 × 3</caption>\n",
       "<thead>\n",
       "\t<tr><th scope=col>Term</th><th scope=col>n</th><th scope=col>Percent</th></tr>\n",
       "\t<tr><th scope=col>&lt;chr&gt;</th><th scope=col>&lt;int&gt;</th><th scope=col>&lt;dbl&gt;</th></tr>\n",
       "</thead>\n",
       "<tbody>\n",
       "\t<tr><td>DNA-templated transcription              </td><td>14</td><td>38.89</td></tr>\n",
       "\t<tr><td>regulation of DNA-templated transcription</td><td>14</td><td>38.89</td></tr>\n",
       "\t<tr><td>anatomical structure development         </td><td> 4</td><td>11.11</td></tr>\n",
       "\t<tr><td>cell differentiation                     </td><td> 2</td><td> 5.56</td></tr>\n",
       "\t<tr><td>signaling                                </td><td> 2</td><td> 5.56</td></tr>\n",
       "</tbody>\n",
       "</table>\n"
      ],
      "text/latex": [
       "A grouped\\_df: 5 × 3\n",
       "\\begin{tabular}{lll}\n",
       " Term & n & Percent\\\\\n",
       " <chr> & <int> & <dbl>\\\\\n",
       "\\hline\n",
       "\t DNA-templated transcription               & 14 & 38.89\\\\\n",
       "\t regulation of DNA-templated transcription & 14 & 38.89\\\\\n",
       "\t anatomical structure development          &  4 & 11.11\\\\\n",
       "\t cell differentiation                      &  2 &  5.56\\\\\n",
       "\t signaling                                 &  2 &  5.56\\\\\n",
       "\\end{tabular}\n"
      ],
      "text/markdown": [
       "\n",
       "A grouped_df: 5 × 3\n",
       "\n",
       "| Term &lt;chr&gt; | n &lt;int&gt; | Percent &lt;dbl&gt; |\n",
       "|---|---|---|\n",
       "| DNA-templated transcription               | 14 | 38.89 |\n",
       "| regulation of DNA-templated transcription | 14 | 38.89 |\n",
       "| anatomical structure development          |  4 | 11.11 |\n",
       "| cell differentiation                      |  2 |  5.56 |\n",
       "| signaling                                 |  2 |  5.56 |\n",
       "\n"
      ],
      "text/plain": [
       "  Term                                      n  Percent\n",
       "1 DNA-templated transcription               14 38.89  \n",
       "2 regulation of DNA-templated transcription 14 38.89  \n",
       "3 anatomical structure development           4 11.11  \n",
       "4 cell differentiation                       2  5.56  \n",
       "5 signaling                                  2  5.56  "
      ]
     },
     "metadata": {},
     "output_type": "display_data"
    }
   ],
   "source": [
    "shared2 <- merged %>%\n",
    "filter(pair_vs_HC == 'CH, HH, CC') %>%\n",
    "group_by(Term) %>%\n",
    "count() %>%\n",
    "mutate(Percent = round((n / sum(shared2$n)) * 100, 2)) %>%\n",
    "arrange(desc(Percent))\n",
    "\n",
    "shared2"
   ]
  },
  {
   "cell_type": "markdown",
   "id": "13a2a82a-5500-4456-9d00-3b0c626095d4",
   "metadata": {},
   "source": [
    "so I'm getting tripped up on this because there's a lot of overlap (one gene can be involved in numerous processes), and I've flattened out the GOslim file so there's one bit of info per row, meaning there's not multiple GO terms/names in the same row for a single gene, so a gene will have multiple rows. \n",
    "\n",
    "We see a problem with that here, because obviously we only have 6 genes that are shared between all three pairs, "
   ]
  },
  {
   "cell_type": "code",
   "execution_count": null,
   "id": "f2eba766-2f56-43bd-8401-1c03cb70141c",
   "metadata": {},
   "outputs": [],
   "source": []
  },
  {
   "cell_type": "code",
   "execution_count": 122,
   "id": "69b48672-87ac-487e-8086-b9d6ae037dd4",
   "metadata": {},
   "outputs": [
    {
     "data": {
      "text/html": [
       "<style>\n",
       ".list-inline {list-style: none; margin:0; padding: 0}\n",
       ".list-inline>li {display: inline-block}\n",
       ".list-inline>li:not(:last-child)::after {content: \"\\00b7\"; padding: 0 .5ex}\n",
       "</style>\n",
       "<ol class=list-inline><li>'LOC111117760'</li><li>'LOC111119327'</li><li>'LOC111123492'</li><li>'LOC111124674'</li><li>'LOC111129146'</li><li>'LOC111133438'</li></ol>\n"
      ],
      "text/latex": [
       "\\begin{enumerate*}\n",
       "\\item 'LOC111117760'\n",
       "\\item 'LOC111119327'\n",
       "\\item 'LOC111123492'\n",
       "\\item 'LOC111124674'\n",
       "\\item 'LOC111129146'\n",
       "\\item 'LOC111133438'\n",
       "\\end{enumerate*}\n"
      ],
      "text/markdown": [
       "1. 'LOC111117760'\n",
       "2. 'LOC111119327'\n",
       "3. 'LOC111123492'\n",
       "4. 'LOC111124674'\n",
       "5. 'LOC111129146'\n",
       "6. 'LOC111133438'\n",
       "\n",
       "\n"
      ],
      "text/plain": [
       "[1] \"LOC111117760\" \"LOC111119327\" \"LOC111123492\" \"LOC111124674\" \"LOC111129146\"\n",
       "[6] \"LOC111133438\""
      ]
     },
     "metadata": {},
     "output_type": "display_data"
    },
    {
     "data": {
      "text/html": [
       "<table class=\"dataframe\">\n",
       "<caption>A grouped_df: 11 × 10</caption>\n",
       "<thead>\n",
       "\t<tr><th scope=col>gene_id</th><th scope=col>order</th><th scope=col>name</th><th scope=col>pair_vs_HC</th><th scope=col>gene_name</th><th scope=col>process</th><th scope=col>notes</th><th scope=col>GO.IDs</th><th scope=col>GOslim</th><th scope=col>Term</th></tr>\n",
       "\t<tr><th scope=col>&lt;chr&gt;</th><th scope=col>&lt;int&gt;</th><th scope=col>&lt;chr&gt;</th><th scope=col>&lt;chr&gt;</th><th scope=col>&lt;chr&gt;</th><th scope=col>&lt;chr&gt;</th><th scope=col>&lt;chr&gt;</th><th scope=col>&lt;chr&gt;</th><th scope=col>&lt;chr&gt;</th><th scope=col>&lt;chr&gt;</th></tr>\n",
       "</thead>\n",
       "<tbody>\n",
       "\t<tr><td>LOC111117760</td><td>1</td><td>disintegrin and metalloproteinase domain-containing protein 10-like, transcript variant X3</td><td>CH, HH, CC</td><td>ADAM10</td><td>cell signaling, adhesion, migration                       </td><td>                            </td><td>GO:0007219</td><td>GO:0023052           </td><td>signaling                                </td></tr>\n",
       "\t<tr><td>LOC111119327</td><td>2</td><td>calcyphosin-like protein, transcript variant X3                                           </td><td>CH, HH, CC</td><td>CAPSL </td><td>calcium ion binding                                       </td><td>                            </td><td>NA        </td><td>NA                   </td><td>NA                                       </td></tr>\n",
       "\t<tr><td>LOC111123492</td><td>3</td><td>pre-B-cell leukemia transcription factor 1-like, transcript variant X11                   </td><td>CH, HH, CC</td><td>PBX1  </td><td>regulates embryonic development and cellular differention </td><td>                            </td><td>GO:0048568</td><td>GO:0048856           </td><td>anatomical structure development         </td></tr>\n",
       "\t<tr><td>LOC111123492</td><td>3</td><td>pre-B-cell leukemia transcription factor 1-like, transcript variant X11                   </td><td>CH, HH, CC</td><td>PBX1  </td><td>regulates embryonic development and cellular differention </td><td>                            </td><td>GO:0009887</td><td>GO:0048856           </td><td>anatomical structure development         </td></tr>\n",
       "\t<tr><td>LOC111123492</td><td>3</td><td>pre-B-cell leukemia transcription factor 1-like, transcript variant X11                   </td><td>CH, HH, CC</td><td>PBX1  </td><td>regulates embryonic development and cellular differention </td><td>                            </td><td>GO:0048666</td><td>GO:0030154;GO:0048856</td><td>cell differentiation                     </td></tr>\n",
       "\t<tr><td>LOC111123492</td><td>3</td><td>pre-B-cell leukemia transcription factor 1-like, transcript variant X11                   </td><td>CH, HH, CC</td><td>PBX1  </td><td>regulates embryonic development and cellular differention </td><td>                            </td><td>GO:0048666</td><td>GO:0030154;GO:0048856</td><td>anatomical structure development         </td></tr>\n",
       "\t<tr><td>LOC111123492</td><td>3</td><td>pre-B-cell leukemia transcription factor 1-like, transcript variant X11                   </td><td>CH, HH, CC</td><td>PBX1  </td><td>regulates embryonic development and cellular differention </td><td>                            </td><td>GO:0006357</td><td>GO:0006351;GO:0006355</td><td>DNA-templated transcription              </td></tr>\n",
       "\t<tr><td>LOC111123492</td><td>3</td><td>pre-B-cell leukemia transcription factor 1-like, transcript variant X11                   </td><td>CH, HH, CC</td><td>PBX1  </td><td>regulates embryonic development and cellular differention </td><td>                            </td><td>GO:0006357</td><td>GO:0006351;GO:0006355</td><td>regulation of DNA-templated transcription</td></tr>\n",
       "\t<tr><td>LOC111124674</td><td>4</td><td>gamma-glutamyltranspeptidase 1-like, transcript variant X1                                </td><td>CH, HH, CC</td><td>GGT1  </td><td>proteolysis, metabolisis, immune response, spermatogenesis</td><td>other are from human homolog</td><td>NA        </td><td>NA                   </td><td>NA                                       </td></tr>\n",
       "\t<tr><td>LOC111129146</td><td>5</td><td>FERM domain-containing protein 8-like                                                     </td><td>CH, HH, CC</td><td>FRMD8 </td><td>inflammatory and growth factor                            </td><td>                            </td><td>GO:0090090</td><td>GO:0023052           </td><td>signaling                                </td></tr>\n",
       "\t<tr><td>LOC111133438</td><td>6</td><td>uncharacterized LOC111133438                                                              </td><td>CH, HH, CC</td><td>      </td><td>                                                          </td><td>                            </td><td>NA        </td><td>NA                   </td><td>NA                                       </td></tr>\n",
       "</tbody>\n",
       "</table>\n"
      ],
      "text/latex": [
       "A grouped\\_df: 11 × 10\n",
       "\\begin{tabular}{llllllllll}\n",
       " gene\\_id & order & name & pair\\_vs\\_HC & gene\\_name & process & notes & GO.IDs & GOslim & Term\\\\\n",
       " <chr> & <int> & <chr> & <chr> & <chr> & <chr> & <chr> & <chr> & <chr> & <chr>\\\\\n",
       "\\hline\n",
       "\t LOC111117760 & 1 & disintegrin and metalloproteinase domain-containing protein 10-like, transcript variant X3 & CH, HH, CC & ADAM10 & cell signaling, adhesion, migration                        &                              & GO:0007219 & GO:0023052            & signaling                                \\\\\n",
       "\t LOC111119327 & 2 & calcyphosin-like protein, transcript variant X3                                            & CH, HH, CC & CAPSL  & calcium ion binding                                        &                              & NA         & NA                    & NA                                       \\\\\n",
       "\t LOC111123492 & 3 & pre-B-cell leukemia transcription factor 1-like, transcript variant X11                    & CH, HH, CC & PBX1   & regulates embryonic development and cellular differention  &                              & GO:0048568 & GO:0048856            & anatomical structure development         \\\\\n",
       "\t LOC111123492 & 3 & pre-B-cell leukemia transcription factor 1-like, transcript variant X11                    & CH, HH, CC & PBX1   & regulates embryonic development and cellular differention  &                              & GO:0009887 & GO:0048856            & anatomical structure development         \\\\\n",
       "\t LOC111123492 & 3 & pre-B-cell leukemia transcription factor 1-like, transcript variant X11                    & CH, HH, CC & PBX1   & regulates embryonic development and cellular differention  &                              & GO:0048666 & GO:0030154;GO:0048856 & cell differentiation                     \\\\\n",
       "\t LOC111123492 & 3 & pre-B-cell leukemia transcription factor 1-like, transcript variant X11                    & CH, HH, CC & PBX1   & regulates embryonic development and cellular differention  &                              & GO:0048666 & GO:0030154;GO:0048856 & anatomical structure development         \\\\\n",
       "\t LOC111123492 & 3 & pre-B-cell leukemia transcription factor 1-like, transcript variant X11                    & CH, HH, CC & PBX1   & regulates embryonic development and cellular differention  &                              & GO:0006357 & GO:0006351;GO:0006355 & DNA-templated transcription              \\\\\n",
       "\t LOC111123492 & 3 & pre-B-cell leukemia transcription factor 1-like, transcript variant X11                    & CH, HH, CC & PBX1   & regulates embryonic development and cellular differention  &                              & GO:0006357 & GO:0006351;GO:0006355 & regulation of DNA-templated transcription\\\\\n",
       "\t LOC111124674 & 4 & gamma-glutamyltranspeptidase 1-like, transcript variant X1                                 & CH, HH, CC & GGT1   & proteolysis, metabolisis, immune response, spermatogenesis & other are from human homolog & NA         & NA                    & NA                                       \\\\\n",
       "\t LOC111129146 & 5 & FERM domain-containing protein 8-like                                                      & CH, HH, CC & FRMD8  & inflammatory and growth factor                             &                              & GO:0090090 & GO:0023052            & signaling                                \\\\\n",
       "\t LOC111133438 & 6 & uncharacterized LOC111133438                                                               & CH, HH, CC &        &                                                            &                              & NA         & NA                    & NA                                       \\\\\n",
       "\\end{tabular}\n"
      ],
      "text/markdown": [
       "\n",
       "A grouped_df: 11 × 10\n",
       "\n",
       "| gene_id &lt;chr&gt; | order &lt;int&gt; | name &lt;chr&gt; | pair_vs_HC &lt;chr&gt; | gene_name &lt;chr&gt; | process &lt;chr&gt; | notes &lt;chr&gt; | GO.IDs &lt;chr&gt; | GOslim &lt;chr&gt; | Term &lt;chr&gt; |\n",
       "|---|---|---|---|---|---|---|---|---|---|\n",
       "| LOC111117760 | 1 | disintegrin and metalloproteinase domain-containing protein 10-like, transcript variant X3 | CH, HH, CC | ADAM10 | cell signaling, adhesion, migration                        | <!----> | GO:0007219 | GO:0023052            | signaling                                 |\n",
       "| LOC111119327 | 2 | calcyphosin-like protein, transcript variant X3                                            | CH, HH, CC | CAPSL  | calcium ion binding                                        | <!----> | NA         | NA                    | NA                                        |\n",
       "| LOC111123492 | 3 | pre-B-cell leukemia transcription factor 1-like, transcript variant X11                    | CH, HH, CC | PBX1   | regulates embryonic development and cellular differention  | <!----> | GO:0048568 | GO:0048856            | anatomical structure development          |\n",
       "| LOC111123492 | 3 | pre-B-cell leukemia transcription factor 1-like, transcript variant X11                    | CH, HH, CC | PBX1   | regulates embryonic development and cellular differention  | <!----> | GO:0009887 | GO:0048856            | anatomical structure development          |\n",
       "| LOC111123492 | 3 | pre-B-cell leukemia transcription factor 1-like, transcript variant X11                    | CH, HH, CC | PBX1   | regulates embryonic development and cellular differention  | <!----> | GO:0048666 | GO:0030154;GO:0048856 | cell differentiation                      |\n",
       "| LOC111123492 | 3 | pre-B-cell leukemia transcription factor 1-like, transcript variant X11                    | CH, HH, CC | PBX1   | regulates embryonic development and cellular differention  | <!----> | GO:0048666 | GO:0030154;GO:0048856 | anatomical structure development          |\n",
       "| LOC111123492 | 3 | pre-B-cell leukemia transcription factor 1-like, transcript variant X11                    | CH, HH, CC | PBX1   | regulates embryonic development and cellular differention  | <!----> | GO:0006357 | GO:0006351;GO:0006355 | DNA-templated transcription               |\n",
       "| LOC111123492 | 3 | pre-B-cell leukemia transcription factor 1-like, transcript variant X11                    | CH, HH, CC | PBX1   | regulates embryonic development and cellular differention  | <!----> | GO:0006357 | GO:0006351;GO:0006355 | regulation of DNA-templated transcription |\n",
       "| LOC111124674 | 4 | gamma-glutamyltranspeptidase 1-like, transcript variant X1                                 | CH, HH, CC | GGT1   | proteolysis, metabolisis, immune response, spermatogenesis | other are from human homolog | NA         | NA                    | NA                                        |\n",
       "| LOC111129146 | 5 | FERM domain-containing protein 8-like                                                      | CH, HH, CC | FRMD8  | inflammatory and growth factor                             | <!----> | GO:0090090 | GO:0023052            | signaling                                 |\n",
       "| LOC111133438 | 6 | uncharacterized LOC111133438                                                               | CH, HH, CC | <!----> | <!----> | <!----> | NA         | NA                    | NA                                        |\n",
       "\n"
      ],
      "text/plain": [
       "   gene_id      order\n",
       "1  LOC111117760 1    \n",
       "2  LOC111119327 2    \n",
       "3  LOC111123492 3    \n",
       "4  LOC111123492 3    \n",
       "5  LOC111123492 3    \n",
       "6  LOC111123492 3    \n",
       "7  LOC111123492 3    \n",
       "8  LOC111123492 3    \n",
       "9  LOC111124674 4    \n",
       "10 LOC111129146 5    \n",
       "11 LOC111133438 6    \n",
       "   name                                                                                      \n",
       "1  disintegrin and metalloproteinase domain-containing protein 10-like, transcript variant X3\n",
       "2  calcyphosin-like protein, transcript variant X3                                           \n",
       "3  pre-B-cell leukemia transcription factor 1-like, transcript variant X11                   \n",
       "4  pre-B-cell leukemia transcription factor 1-like, transcript variant X11                   \n",
       "5  pre-B-cell leukemia transcription factor 1-like, transcript variant X11                   \n",
       "6  pre-B-cell leukemia transcription factor 1-like, transcript variant X11                   \n",
       "7  pre-B-cell leukemia transcription factor 1-like, transcript variant X11                   \n",
       "8  pre-B-cell leukemia transcription factor 1-like, transcript variant X11                   \n",
       "9  gamma-glutamyltranspeptidase 1-like, transcript variant X1                                \n",
       "10 FERM domain-containing protein 8-like                                                     \n",
       "11 uncharacterized LOC111133438                                                              \n",
       "   pair_vs_HC gene_name\n",
       "1  CH, HH, CC ADAM10   \n",
       "2  CH, HH, CC CAPSL    \n",
       "3  CH, HH, CC PBX1     \n",
       "4  CH, HH, CC PBX1     \n",
       "5  CH, HH, CC PBX1     \n",
       "6  CH, HH, CC PBX1     \n",
       "7  CH, HH, CC PBX1     \n",
       "8  CH, HH, CC PBX1     \n",
       "9  CH, HH, CC GGT1     \n",
       "10 CH, HH, CC FRMD8    \n",
       "11 CH, HH, CC          \n",
       "   process                                                   \n",
       "1  cell signaling, adhesion, migration                       \n",
       "2  calcium ion binding                                       \n",
       "3  regulates embryonic development and cellular differention \n",
       "4  regulates embryonic development and cellular differention \n",
       "5  regulates embryonic development and cellular differention \n",
       "6  regulates embryonic development and cellular differention \n",
       "7  regulates embryonic development and cellular differention \n",
       "8  regulates embryonic development and cellular differention \n",
       "9  proteolysis, metabolisis, immune response, spermatogenesis\n",
       "10 inflammatory and growth factor                            \n",
       "11                                                           \n",
       "   notes                        GO.IDs     GOslim               \n",
       "1                               GO:0007219 GO:0023052           \n",
       "2                               NA         NA                   \n",
       "3                               GO:0048568 GO:0048856           \n",
       "4                               GO:0009887 GO:0048856           \n",
       "5                               GO:0048666 GO:0030154;GO:0048856\n",
       "6                               GO:0048666 GO:0030154;GO:0048856\n",
       "7                               GO:0006357 GO:0006351;GO:0006355\n",
       "8                               GO:0006357 GO:0006351;GO:0006355\n",
       "9  other are from human homolog NA         NA                   \n",
       "10                              GO:0090090 GO:0023052           \n",
       "11                              NA         NA                   \n",
       "   Term                                     \n",
       "1  signaling                                \n",
       "2  NA                                       \n",
       "3  anatomical structure development         \n",
       "4  anatomical structure development         \n",
       "5  cell differentiation                     \n",
       "6  anatomical structure development         \n",
       "7  DNA-templated transcription              \n",
       "8  regulation of DNA-templated transcription\n",
       "9  NA                                       \n",
       "10 signaling                                \n",
       "11 NA                                       "
      ]
     },
     "metadata": {},
     "output_type": "display_data"
    }
   ],
   "source": [
    "all.shared <- filter(dmgs, dmgs$pair_vs_HC == 'CH, HH, CC') \n",
    "unique(all.shared$gene_id)\n",
    "\n",
    "all.shared %>%\n",
    "group_by(gene_id)"
   ]
  },
  {
   "cell_type": "code",
   "execution_count": 86,
   "id": "1171bba5-190d-421b-a678-03b64871bde6",
   "metadata": {},
   "outputs": [
    {
     "data": {
      "image/png": "[encoded data removed]",
      "text/plain": [
       "plot without title"
      ]
     },
     "metadata": {
      "image/png": {
       "height": 420,
       "width": 420
      }
     },
     "output_type": "display_data"
    }
   ],
   "source": [
    "ggplot(shared2, aes(x = fct_reorder(Term,n), y = n)) + \n",
    "geom_col() +\n",
    "coord_flip() +\n",
    "theme_bw()"
   ]
  },
  {
   "cell_type": "markdown",
   "id": "31f28e4f-b05a-4f91-91ca-9042f1129456",
   "metadata": {},
   "source": [
    "**CC vs. HC** and **HH vs. HC**"
   ]
  },
  {
   "cell_type": "code",
   "execution_count": 61,
   "id": "a68a122d-5dc1-4f35-9f5d-cb7adde4d2f0",
   "metadata": {},
   "outputs": [
    {
     "data": {
      "text/html": [
       "<style>\n",
       ".list-inline {list-style: none; margin:0; padding: 0}\n",
       ".list-inline>li {display: inline-block}\n",
       ".list-inline>li:not(:last-child)::after {content: \"\\00b7\"; padding: 0 .5ex}\n",
       "</style>\n",
       "<ol class=list-inline><li>'CH'</li><li>'CH, HH'</li><li>'HH'</li><li>'CH, HH, CC'</li><li>'CC, HH'</li><li>'CC'</li></ol>\n"
      ],
      "text/latex": [
       "\\begin{enumerate*}\n",
       "\\item 'CH'\n",
       "\\item 'CH, HH'\n",
       "\\item 'HH'\n",
       "\\item 'CH, HH, CC'\n",
       "\\item 'CC, HH'\n",
       "\\item 'CC'\n",
       "\\end{enumerate*}\n"
      ],
      "text/markdown": [
       "1. 'CH'\n",
       "2. 'CH, HH'\n",
       "3. 'HH'\n",
       "4. 'CH, HH, CC'\n",
       "5. 'CC, HH'\n",
       "6. 'CC'\n",
       "\n",
       "\n"
      ],
      "text/plain": [
       "[1] \"CH\"         \"CH, HH\"     \"HH\"         \"CH, HH, CC\" \"CC, HH\"    \n",
       "[6] \"CC\"        "
      ]
     },
     "metadata": {},
     "output_type": "display_data"
    }
   ],
   "source": [
    "unique(merged$pair_vs_HC)"
   ]
  },
  {
   "cell_type": "code",
   "execution_count": 62,
   "id": "62ec9acc-0ada-4eef-ad1f-6f60e6950fe6",
   "metadata": {},
   "outputs": [
    {
     "data": {
      "text/html": [
       "<table class=\"dataframe\">\n",
       "<caption>A grouped_df: 1 × 2</caption>\n",
       "<thead>\n",
       "\t<tr><th scope=col>Term</th><th scope=col>n</th></tr>\n",
       "\t<tr><th scope=col>&lt;chr&gt;</th><th scope=col>&lt;int&gt;</th></tr>\n",
       "</thead>\n",
       "<tbody>\n",
       "\t<tr><td>vesicle-mediated transport</td><td>1</td></tr>\n",
       "</tbody>\n",
       "</table>\n"
      ],
      "text/latex": [
       "A grouped\\_df: 1 × 2\n",
       "\\begin{tabular}{ll}\n",
       " Term & n\\\\\n",
       " <chr> & <int>\\\\\n",
       "\\hline\n",
       "\t vesicle-mediated transport & 1\\\\\n",
       "\\end{tabular}\n"
      ],
      "text/markdown": [
       "\n",
       "A grouped_df: 1 × 2\n",
       "\n",
       "| Term &lt;chr&gt; | n &lt;int&gt; |\n",
       "|---|---|\n",
       "| vesicle-mediated transport | 1 |\n",
       "\n"
      ],
      "text/plain": [
       "  Term                       n\n",
       "1 vesicle-mediated transport 1"
      ]
     },
     "metadata": {},
     "output_type": "display_data"
    }
   ],
   "source": [
    "shared2 <- merged %>%\n",
    "filter(pair_vs_HC == 'CC, HH') %>%\n",
    "group_by(Term) %>%\n",
    "count()\n",
    "\n",
    "shared2"
   ]
  },
  {
   "cell_type": "markdown",
   "id": "d898450d-d5fe-4fe2-9bef-04c7be777d8d",
   "metadata": {},
   "source": [
    "### somewhat unrelated to surrounding code\n",
    "curious how many DMGs 1) do not match to a GO term and 2) are uncharacterized"
   ]
  },
  {
   "cell_type": "code",
   "execution_count": 73,
   "id": "660afa37-bb61-4381-8164-644736601029",
   "metadata": {},
   "outputs": [
    {
     "data": {
      "text/html": [
       "<style>\n",
       ".list-inline {list-style: none; margin:0; padding: 0}\n",
       ".list-inline>li {display: inline-block}\n",
       ".list-inline>li:not(:last-child)::after {content: \"\\00b7\"; padding: 0 .5ex}\n",
       "</style>\n",
       "<ol class=list-inline><li>123</li><li>10</li></ol>\n"
      ],
      "text/latex": [
       "\\begin{enumerate*}\n",
       "\\item 123\n",
       "\\item 10\n",
       "\\end{enumerate*}\n"
      ],
      "text/markdown": [
       "1. 123\n",
       "2. 10\n",
       "\n",
       "\n"
      ],
      "text/plain": [
       "[1] 123  10"
      ]
     },
     "metadata": {},
     "output_type": "display_data"
    },
    {
     "data": {
      "text/html": [
       "<style>\n",
       ".list-inline {list-style: none; margin:0; padding: 0}\n",
       ".list-inline>li {display: inline-block}\n",
       ".list-inline>li:not(:last-child)::after {content: \"\\00b7\"; padding: 0 .5ex}\n",
       "</style>\n",
       "<ol class=list-inline><li>299</li><li>10</li></ol>\n"
      ],
      "text/latex": [
       "\\begin{enumerate*}\n",
       "\\item 299\n",
       "\\item 10\n",
       "\\end{enumerate*}\n"
      ],
      "text/markdown": [
       "1. 299\n",
       "2. 10\n",
       "\n",
       "\n"
      ],
      "text/plain": [
       "[1] 299  10"
      ]
     },
     "metadata": {},
     "output_type": "display_data"
    }
   ],
   "source": [
    "dim(dmgs[is.na(dmgs$GO.IDs),])\n",
    "\n",
    "dim(dmgs)"
   ]
  },
  {
   "cell_type": "code",
   "execution_count": 74,
   "id": "407568c8-ec05-4d09-9070-c06cadc54a3e",
   "metadata": {},
   "outputs": [
    {
     "data": {
      "text/html": [
       "0.411371237458194"
      ],
      "text/latex": [
       "0.411371237458194"
      ],
      "text/markdown": [
       "0.411371237458194"
      ],
      "text/plain": [
       "[1] 0.4113712"
      ]
     },
     "metadata": {},
     "output_type": "display_data"
    }
   ],
   "source": [
    "123/299 # percent of dmgs without matches for GO terms"
   ]
  },
  {
   "cell_type": "code",
   "execution_count": 82,
   "id": "d417d3fd-eb83-4467-b5dc-0fde0fb5f884",
   "metadata": {},
   "outputs": [
    {
     "data": {
      "text/html": [
       "<style>\n",
       ".list-inline {list-style: none; margin:0; padding: 0}\n",
       ".list-inline>li {display: inline-block}\n",
       ".list-inline>li:not(:last-child)::after {content: \"\\00b7\"; padding: 0 .5ex}\n",
       "</style>\n",
       "<ol class=list-inline><li>55</li><li>10</li></ol>\n"
      ],
      "text/latex": [
       "\\begin{enumerate*}\n",
       "\\item 55\n",
       "\\item 10\n",
       "\\end{enumerate*}\n"
      ],
      "text/markdown": [
       "1. 55\n",
       "2. 10\n",
       "\n",
       "\n"
      ],
      "text/plain": [
       "[1] 55 10"
      ]
     },
     "metadata": {},
     "output_type": "display_data"
    }
   ],
   "source": [
    "dmgs %>%\n",
    "  filter(grepl(\"uncharacterized\", name)) %>% # pull out anything that is uncharacterized\n",
    "dim() # 55 genes are uncharacterized"
   ]
  },
  {
   "cell_type": "code",
   "execution_count": 83,
   "id": "f4ef114a-1691-4b26-905e-7c9dee58b0c4",
   "metadata": {},
   "outputs": [
    {
     "data": {
      "text/html": [
       "0.183946488294314"
      ],
      "text/latex": [
       "0.183946488294314"
      ],
      "text/markdown": [
       "0.183946488294314"
      ],
      "text/plain": [
       "[1] 0.1839465"
      ]
     },
     "metadata": {},
     "output_type": "display_data"
    }
   ],
   "source": [
    "55/299"
   ]
  },
  {
   "cell_type": "markdown",
   "id": "b346c979-d062-4b7b-9c83-05ebed098d35",
   "metadata": {},
   "source": [
    "**shared between:**\n",
    "\n",
    "CH vs. HC and CC vs. HC\n",
    "\n",
    "(for whatever reason, this is not showing up in the big dmgs df..."
   ]
  },
  {
   "cell_type": "code",
   "execution_count": 42,
   "id": "8a355c0e-e6e2-4474-9090-61aee4686d11",
   "metadata": {},
   "outputs": [
    {
     "data": {
      "text/html": [
       "<table class=\"dataframe\">\n",
       "<caption>A data.frame: 6 × 9</caption>\n",
       "<thead>\n",
       "\t<tr><th></th><th scope=col>X</th><th scope=col>symbol</th><th scope=col>baseMean</th><th scope=col>log2FC</th><th scope=col>lfcSE</th><th scope=col>stat</th><th scope=col>pvalue</th><th scope=col>padj</th><th scope=col>name</th></tr>\n",
       "\t<tr><th></th><th scope=col>&lt;int&gt;</th><th scope=col>&lt;chr&gt;</th><th scope=col>&lt;dbl&gt;</th><th scope=col>&lt;dbl&gt;</th><th scope=col>&lt;dbl&gt;</th><th scope=col>&lt;dbl&gt;</th><th scope=col>&lt;dbl&gt;</th><th scope=col>&lt;dbl&gt;</th><th scope=col>&lt;chr&gt;</th></tr>\n",
       "</thead>\n",
       "<tbody>\n",
       "\t<tr><th scope=row>1</th><td>1</td><td>LOC111103344</td><td>497.52024</td><td>-1.193080</td><td>0.2105031</td><td>-4.480123</td><td>7.460015e-06</td><td>0.01869231</td><td>uncharacterized LOC111103344, transcript variant X7                                       </td></tr>\n",
       "\t<tr><th scope=row>2</th><td>2</td><td>LOC111115023</td><td> 20.27520</td><td>-1.349383</td><td>0.2740700</td><td>-4.011321</td><td>6.038007e-05</td><td>0.04126154</td><td>uncharacterized LOC111115023                                                              </td></tr>\n",
       "\t<tr><th scope=row>3</th><td>3</td><td>LOC111117745</td><td>123.41704</td><td>-1.135814</td><td>0.2070067</td><td>-4.279157</td><td>1.876021e-05</td><td>0.02350342</td><td>uncharacterized LOC111117745, transcript variant X5                                       </td></tr>\n",
       "\t<tr><th scope=row>4</th><td>4</td><td>LOC111117760</td><td>138.87250</td><td>-1.494878</td><td>0.2901102</td><td>-4.291052</td><td>1.778290e-05</td><td>0.02350342</td><td>disintegrin and metalloproteinase domain-containing protein 10-like, transcript variant X3</td></tr>\n",
       "\t<tr><th scope=row>5</th><td>5</td><td>LOC111118022</td><td> 19.27594</td><td>-1.664142</td><td>0.3486511</td><td>-4.056038</td><td>4.991215e-05</td><td>0.03751897</td><td>exocyst complex component 7-like, transcript variant X1                                   </td></tr>\n",
       "\t<tr><th scope=row>6</th><td>6</td><td>LOC111119327</td><td> 13.31739</td><td>-1.507178</td><td>0.3154716</td><td>-3.985075</td><td>6.745881e-05</td><td>0.04225732</td><td>calcyphosin-like protein, transcript variant X3                                           </td></tr>\n",
       "</tbody>\n",
       "</table>\n"
      ],
      "text/latex": [
       "A data.frame: 6 × 9\n",
       "\\begin{tabular}{r|lllllllll}\n",
       "  & X & symbol & baseMean & log2FC & lfcSE & stat & pvalue & padj & name\\\\\n",
       "  & <int> & <chr> & <dbl> & <dbl> & <dbl> & <dbl> & <dbl> & <dbl> & <chr>\\\\\n",
       "\\hline\n",
       "\t1 & 1 & LOC111103344 & 497.52024 & -1.193080 & 0.2105031 & -4.480123 & 7.460015e-06 & 0.01869231 & uncharacterized LOC111103344, transcript variant X7                                       \\\\\n",
       "\t2 & 2 & LOC111115023 &  20.27520 & -1.349383 & 0.2740700 & -4.011321 & 6.038007e-05 & 0.04126154 & uncharacterized LOC111115023                                                              \\\\\n",
       "\t3 & 3 & LOC111117745 & 123.41704 & -1.135814 & 0.2070067 & -4.279157 & 1.876021e-05 & 0.02350342 & uncharacterized LOC111117745, transcript variant X5                                       \\\\\n",
       "\t4 & 4 & LOC111117760 & 138.87250 & -1.494878 & 0.2901102 & -4.291052 & 1.778290e-05 & 0.02350342 & disintegrin and metalloproteinase domain-containing protein 10-like, transcript variant X3\\\\\n",
       "\t5 & 5 & LOC111118022 &  19.27594 & -1.664142 & 0.3486511 & -4.056038 & 4.991215e-05 & 0.03751897 & exocyst complex component 7-like, transcript variant X1                                   \\\\\n",
       "\t6 & 6 & LOC111119327 &  13.31739 & -1.507178 & 0.3154716 & -3.985075 & 6.745881e-05 & 0.04225732 & calcyphosin-like protein, transcript variant X3                                           \\\\\n",
       "\\end{tabular}\n"
      ],
      "text/markdown": [
       "\n",
       "A data.frame: 6 × 9\n",
       "\n",
       "| <!--/--> | X &lt;int&gt; | symbol &lt;chr&gt; | baseMean &lt;dbl&gt; | log2FC &lt;dbl&gt; | lfcSE &lt;dbl&gt; | stat &lt;dbl&gt; | pvalue &lt;dbl&gt; | padj &lt;dbl&gt; | name &lt;chr&gt; |\n",
       "|---|---|---|---|---|---|---|---|---|---|\n",
       "| 1 | 1 | LOC111103344 | 497.52024 | -1.193080 | 0.2105031 | -4.480123 | 7.460015e-06 | 0.01869231 | uncharacterized LOC111103344, transcript variant X7                                        |\n",
       "| 2 | 2 | LOC111115023 |  20.27520 | -1.349383 | 0.2740700 | -4.011321 | 6.038007e-05 | 0.04126154 | uncharacterized LOC111115023                                                               |\n",
       "| 3 | 3 | LOC111117745 | 123.41704 | -1.135814 | 0.2070067 | -4.279157 | 1.876021e-05 | 0.02350342 | uncharacterized LOC111117745, transcript variant X5                                        |\n",
       "| 4 | 4 | LOC111117760 | 138.87250 | -1.494878 | 0.2901102 | -4.291052 | 1.778290e-05 | 0.02350342 | disintegrin and metalloproteinase domain-containing protein 10-like, transcript variant X3 |\n",
       "| 5 | 5 | LOC111118022 |  19.27594 | -1.664142 | 0.3486511 | -4.056038 | 4.991215e-05 | 0.03751897 | exocyst complex component 7-like, transcript variant X1                                    |\n",
       "| 6 | 6 | LOC111119327 |  13.31739 | -1.507178 | 0.3154716 | -3.985075 | 6.745881e-05 | 0.04225732 | calcyphosin-like protein, transcript variant X3                                            |\n",
       "\n"
      ],
      "text/plain": [
       "  X symbol       baseMean  log2FC    lfcSE     stat      pvalue      \n",
       "1 1 LOC111103344 497.52024 -1.193080 0.2105031 -4.480123 7.460015e-06\n",
       "2 2 LOC111115023  20.27520 -1.349383 0.2740700 -4.011321 6.038007e-05\n",
       "3 3 LOC111117745 123.41704 -1.135814 0.2070067 -4.279157 1.876021e-05\n",
       "4 4 LOC111117760 138.87250 -1.494878 0.2901102 -4.291052 1.778290e-05\n",
       "5 5 LOC111118022  19.27594 -1.664142 0.3486511 -4.056038 4.991215e-05\n",
       "6 6 LOC111119327  13.31739 -1.507178 0.3154716 -3.985075 6.745881e-05\n",
       "  padj      \n",
       "1 0.01869231\n",
       "2 0.04126154\n",
       "3 0.02350342\n",
       "4 0.02350342\n",
       "5 0.03751897\n",
       "6 0.04225732\n",
       "  name                                                                                      \n",
       "1 uncharacterized LOC111103344, transcript variant X7                                       \n",
       "2 uncharacterized LOC111115023                                                              \n",
       "3 uncharacterized LOC111117745, transcript variant X5                                       \n",
       "4 disintegrin and metalloproteinase domain-containing protein 10-like, transcript variant X3\n",
       "5 exocyst complex component 7-like, transcript variant X1                                   \n",
       "6 calcyphosin-like protein, transcript variant X3                                           "
      ]
     },
     "metadata": {},
     "output_type": "display_data"
    },
    {
     "data": {
      "text/html": [
       "<table class=\"dataframe\">\n",
       "<caption>A data.frame: 6 × 9</caption>\n",
       "<thead>\n",
       "\t<tr><th></th><th scope=col>X</th><th scope=col>symbol</th><th scope=col>baseMean</th><th scope=col>log2FC</th><th scope=col>lfcSE</th><th scope=col>stat</th><th scope=col>pvalue</th><th scope=col>padj</th><th scope=col>name</th></tr>\n",
       "\t<tr><th></th><th scope=col>&lt;int&gt;</th><th scope=col>&lt;chr&gt;</th><th scope=col>&lt;dbl&gt;</th><th scope=col>&lt;dbl&gt;</th><th scope=col>&lt;dbl&gt;</th><th scope=col>&lt;dbl&gt;</th><th scope=col>&lt;dbl&gt;</th><th scope=col>&lt;dbl&gt;</th><th scope=col>&lt;chr&gt;</th></tr>\n",
       "</thead>\n",
       "<tbody>\n",
       "\t<tr><th scope=row>1</th><td>1</td><td>LOC111099548</td><td>42.98619</td><td>-1.2672684</td><td>0.2026166</td><td>-5.020656</td><td>5.149523e-07</td><td>0.0003099498</td><td>kinesin-like protein KIF17                                          </td></tr>\n",
       "\t<tr><th scope=row>2</th><td>2</td><td>LOC111099571</td><td>31.11937</td><td>-1.4181929</td><td>0.2861630</td><td>-4.082264</td><td>4.459915e-05</td><td>0.0069725275</td><td>histone RNA hairpin-binding protein-like                            </td></tr>\n",
       "\t<tr><th scope=row>3</th><td>3</td><td>LOC111099585</td><td>36.32548</td><td> 0.9854391</td><td>0.2091056</td><td> 3.517070</td><td>4.363394e-04</td><td>0.0332446433</td><td>lys-63-specific deubiquitinase BRCC36-like                          </td></tr>\n",
       "\t<tr><th scope=row>4</th><td>4</td><td>LOC111099930</td><td>35.09830</td><td>-1.1981548</td><td>0.2270953</td><td>-4.175140</td><td>2.978035e-05</td><td>0.0051868387</td><td>uncharacterized LOC111099930, transcript variant X1                 </td></tr>\n",
       "\t<tr><th scope=row>5</th><td>5</td><td>LOC111099978</td><td>37.23914</td><td> 1.1530905</td><td>0.2612132</td><td> 3.457293</td><td>5.456316e-04</td><td>0.0390971051</td><td>oncoprotein-induced transcript 3 protein-like, transcript variant X1</td></tr>\n",
       "\t<tr><th scope=row>6</th><td>6</td><td>LOC111100608</td><td>22.90296</td><td>-1.4622657</td><td>0.2851646</td><td>-4.251109</td><td>2.127149e-05</td><td>0.0040010349</td><td>DDRGK domain-containing protein 1-like                              </td></tr>\n",
       "</tbody>\n",
       "</table>\n"
      ],
      "text/latex": [
       "A data.frame: 6 × 9\n",
       "\\begin{tabular}{r|lllllllll}\n",
       "  & X & symbol & baseMean & log2FC & lfcSE & stat & pvalue & padj & name\\\\\n",
       "  & <int> & <chr> & <dbl> & <dbl> & <dbl> & <dbl> & <dbl> & <dbl> & <chr>\\\\\n",
       "\\hline\n",
       "\t1 & 1 & LOC111099548 & 42.98619 & -1.2672684 & 0.2026166 & -5.020656 & 5.149523e-07 & 0.0003099498 & kinesin-like protein KIF17                                          \\\\\n",
       "\t2 & 2 & LOC111099571 & 31.11937 & -1.4181929 & 0.2861630 & -4.082264 & 4.459915e-05 & 0.0069725275 & histone RNA hairpin-binding protein-like                            \\\\\n",
       "\t3 & 3 & LOC111099585 & 36.32548 &  0.9854391 & 0.2091056 &  3.517070 & 4.363394e-04 & 0.0332446433 & lys-63-specific deubiquitinase BRCC36-like                          \\\\\n",
       "\t4 & 4 & LOC111099930 & 35.09830 & -1.1981548 & 0.2270953 & -4.175140 & 2.978035e-05 & 0.0051868387 & uncharacterized LOC111099930, transcript variant X1                 \\\\\n",
       "\t5 & 5 & LOC111099978 & 37.23914 &  1.1530905 & 0.2612132 &  3.457293 & 5.456316e-04 & 0.0390971051 & oncoprotein-induced transcript 3 protein-like, transcript variant X1\\\\\n",
       "\t6 & 6 & LOC111100608 & 22.90296 & -1.4622657 & 0.2851646 & -4.251109 & 2.127149e-05 & 0.0040010349 & DDRGK domain-containing protein 1-like                              \\\\\n",
       "\\end{tabular}\n"
      ],
      "text/markdown": [
       "\n",
       "A data.frame: 6 × 9\n",
       "\n",
       "| <!--/--> | X &lt;int&gt; | symbol &lt;chr&gt; | baseMean &lt;dbl&gt; | log2FC &lt;dbl&gt; | lfcSE &lt;dbl&gt; | stat &lt;dbl&gt; | pvalue &lt;dbl&gt; | padj &lt;dbl&gt; | name &lt;chr&gt; |\n",
       "|---|---|---|---|---|---|---|---|---|---|\n",
       "| 1 | 1 | LOC111099548 | 42.98619 | -1.2672684 | 0.2026166 | -5.020656 | 5.149523e-07 | 0.0003099498 | kinesin-like protein KIF17                                           |\n",
       "| 2 | 2 | LOC111099571 | 31.11937 | -1.4181929 | 0.2861630 | -4.082264 | 4.459915e-05 | 0.0069725275 | histone RNA hairpin-binding protein-like                             |\n",
       "| 3 | 3 | LOC111099585 | 36.32548 |  0.9854391 | 0.2091056 |  3.517070 | 4.363394e-04 | 0.0332446433 | lys-63-specific deubiquitinase BRCC36-like                           |\n",
       "| 4 | 4 | LOC111099930 | 35.09830 | -1.1981548 | 0.2270953 | -4.175140 | 2.978035e-05 | 0.0051868387 | uncharacterized LOC111099930, transcript variant X1                  |\n",
       "| 5 | 5 | LOC111099978 | 37.23914 |  1.1530905 | 0.2612132 |  3.457293 | 5.456316e-04 | 0.0390971051 | oncoprotein-induced transcript 3 protein-like, transcript variant X1 |\n",
       "| 6 | 6 | LOC111100608 | 22.90296 | -1.4622657 | 0.2851646 | -4.251109 | 2.127149e-05 | 0.0040010349 | DDRGK domain-containing protein 1-like                               |\n",
       "\n"
      ],
      "text/plain": [
       "  X symbol       baseMean log2FC     lfcSE     stat      pvalue      \n",
       "1 1 LOC111099548 42.98619 -1.2672684 0.2026166 -5.020656 5.149523e-07\n",
       "2 2 LOC111099571 31.11937 -1.4181929 0.2861630 -4.082264 4.459915e-05\n",
       "3 3 LOC111099585 36.32548  0.9854391 0.2091056  3.517070 4.363394e-04\n",
       "4 4 LOC111099930 35.09830 -1.1981548 0.2270953 -4.175140 2.978035e-05\n",
       "5 5 LOC111099978 37.23914  1.1530905 0.2612132  3.457293 5.456316e-04\n",
       "6 6 LOC111100608 22.90296 -1.4622657 0.2851646 -4.251109 2.127149e-05\n",
       "  padj        \n",
       "1 0.0003099498\n",
       "2 0.0069725275\n",
       "3 0.0332446433\n",
       "4 0.0051868387\n",
       "5 0.0390971051\n",
       "6 0.0040010349\n",
       "  name                                                                \n",
       "1 kinesin-like protein KIF17                                          \n",
       "2 histone RNA hairpin-binding protein-like                            \n",
       "3 lys-63-specific deubiquitinase BRCC36-like                          \n",
       "4 uncharacterized LOC111099930, transcript variant X1                 \n",
       "5 oncoprotein-induced transcript 3 protein-like, transcript variant X1\n",
       "6 DDRGK domain-containing protein 1-like                              "
      ]
     },
     "metadata": {},
     "output_type": "display_data"
    }
   ],
   "source": [
    "cc.hc <- read.csv('/project/pi_sarah_gignouxwolfsohn_uml_edu/julia/CE_MethylRAD_analysis_2018/analysis/deseq_res_files/sig_DMGs/sig_CC_HC_genes.csv')\n",
    "ch.hc <- read.csv('/project/pi_sarah_gignouxwolfsohn_uml_edu/julia/CE_MethylRAD_analysis_2018/analysis/deseq_res_files/sig_DMGs/sig_CH_HC_genes.csv')\n",
    "\n",
    "head(cc.hc)\n",
    "head(ch.hc)"
   ]
  },
  {
   "cell_type": "code",
   "execution_count": 43,
   "id": "46e8acda-f68b-4522-a6bb-9633e9d044e9",
   "metadata": {},
   "outputs": [
    {
     "data": {
      "text/html": [
       "<style>\n",
       ".list-inline {list-style: none; margin:0; padding: 0}\n",
       ".list-inline>li {display: inline-block}\n",
       ".list-inline>li:not(:last-child)::after {content: \"\\00b7\"; padding: 0 .5ex}\n",
       "</style>\n",
       "<ol class=list-inline><li>'LOC111103344'</li><li>'LOC111132100'</li><li>'LOC111133874'</li></ol>\n"
      ],
      "text/latex": [
       "\\begin{enumerate*}\n",
       "\\item 'LOC111103344'\n",
       "\\item 'LOC111132100'\n",
       "\\item 'LOC111133874'\n",
       "\\end{enumerate*}\n"
      ],
      "text/markdown": [
       "1. 'LOC111103344'\n",
       "2. 'LOC111132100'\n",
       "3. 'LOC111133874'\n",
       "\n",
       "\n"
      ],
      "text/plain": [
       "[1] \"LOC111103344\" \"LOC111132100\" \"LOC111133874\""
      ]
     },
     "metadata": {},
     "output_type": "display_data"
    }
   ],
   "source": [
    "ch.cc.shared <- ch.hc[ch.hc$symbol %in% cc.hc$symbol, ]\n",
    "\n",
    "hh.hc <- read.csv('/project/pi_sarah_gignouxwolfsohn_uml_edu/julia/CE_MethylRAD_analysis_2018/analysis/deseq_res_files/sig_DMGs/sig_HH_HC_genes.csv')\n",
    "\n",
    "shared3 <- ch.cc.shared[!ch.cc.shared$symbol %in% hh.hc$symbol,]$symbol\n",
    "shared3 "
   ]
  },
  {
   "cell_type": "code",
   "execution_count": 44,
   "id": "8dbb83ff-d86d-4595-b3c9-dbc33813458f",
   "metadata": {},
   "outputs": [
    {
     "data": {
      "text/html": [
       "<table class=\"dataframe\">\n",
       "<caption>A data.frame: 6 × 4</caption>\n",
       "<thead>\n",
       "\t<tr><th></th><th scope=col>GO.IDs</th><th scope=col>GOslim</th><th scope=col>Term</th><th scope=col>gene_id</th></tr>\n",
       "\t<tr><th></th><th scope=col>&lt;chr&gt;</th><th scope=col>&lt;chr&gt;</th><th scope=col>&lt;chr&gt;</th><th scope=col>&lt;chr&gt;</th></tr>\n",
       "</thead>\n",
       "<tbody>\n",
       "\t<tr><th scope=row>1</th><td>GO:0000002</td><td>GO:0007005</td><td>mitochondrion organization</td><td>LOC111135903</td></tr>\n",
       "\t<tr><th scope=row>2</th><td>GO:0000012</td><td>GO:0006281</td><td>DNA repair                </td><td>LOC111136704</td></tr>\n",
       "\t<tr><th scope=row>3</th><td>GO:0000012</td><td>GO:0006281</td><td>DNA repair                </td><td>LOC111111498</td></tr>\n",
       "\t<tr><th scope=row>4</th><td>GO:0000012</td><td>GO:0006281</td><td>DNA repair                </td><td>LOC111128516</td></tr>\n",
       "\t<tr><th scope=row>5</th><td>GO:0000012</td><td>GO:0006281</td><td>DNA repair                </td><td>LOC111135354</td></tr>\n",
       "\t<tr><th scope=row>6</th><td>GO:0000012</td><td>GO:0006281</td><td>DNA repair                </td><td>LOC111128425</td></tr>\n",
       "</tbody>\n",
       "</table>\n"
      ],
      "text/latex": [
       "A data.frame: 6 × 4\n",
       "\\begin{tabular}{r|llll}\n",
       "  & GO.IDs & GOslim & Term & gene\\_id\\\\\n",
       "  & <chr> & <chr> & <chr> & <chr>\\\\\n",
       "\\hline\n",
       "\t1 & GO:0000002 & GO:0007005 & mitochondrion organization & LOC111135903\\\\\n",
       "\t2 & GO:0000012 & GO:0006281 & DNA repair                 & LOC111136704\\\\\n",
       "\t3 & GO:0000012 & GO:0006281 & DNA repair                 & LOC111111498\\\\\n",
       "\t4 & GO:0000012 & GO:0006281 & DNA repair                 & LOC111128516\\\\\n",
       "\t5 & GO:0000012 & GO:0006281 & DNA repair                 & LOC111135354\\\\\n",
       "\t6 & GO:0000012 & GO:0006281 & DNA repair                 & LOC111128425\\\\\n",
       "\\end{tabular}\n"
      ],
      "text/markdown": [
       "\n",
       "A data.frame: 6 × 4\n",
       "\n",
       "| <!--/--> | GO.IDs &lt;chr&gt; | GOslim &lt;chr&gt; | Term &lt;chr&gt; | gene_id &lt;chr&gt; |\n",
       "|---|---|---|---|---|\n",
       "| 1 | GO:0000002 | GO:0007005 | mitochondrion organization | LOC111135903 |\n",
       "| 2 | GO:0000012 | GO:0006281 | DNA repair                 | LOC111136704 |\n",
       "| 3 | GO:0000012 | GO:0006281 | DNA repair                 | LOC111111498 |\n",
       "| 4 | GO:0000012 | GO:0006281 | DNA repair                 | LOC111128516 |\n",
       "| 5 | GO:0000012 | GO:0006281 | DNA repair                 | LOC111135354 |\n",
       "| 6 | GO:0000012 | GO:0006281 | DNA repair                 | LOC111128425 |\n",
       "\n"
      ],
      "text/plain": [
       "  GO.IDs     GOslim     Term                       gene_id     \n",
       "1 GO:0000002 GO:0007005 mitochondrion organization LOC111135903\n",
       "2 GO:0000012 GO:0006281 DNA repair                 LOC111136704\n",
       "3 GO:0000012 GO:0006281 DNA repair                 LOC111111498\n",
       "4 GO:0000012 GO:0006281 DNA repair                 LOC111128516\n",
       "5 GO:0000012 GO:0006281 DNA repair                 LOC111135354\n",
       "6 GO:0000012 GO:0006281 DNA repair                 LOC111128425"
      ]
     },
     "metadata": {},
     "output_type": "display_data"
    }
   ],
   "source": [
    "matchGO <- read.csv('/project/pi_sarah_gignouxwolfsohn_uml_edu/julia/CE_MethylRAD_analysis_2018/analysis/deseq_res_files/GO_terms/gene2GOslim.csv')\n",
    "head(matchGO)"
   ]
  },
  {
   "cell_type": "code",
   "execution_count": 46,
   "id": "5d9aea7b-cab5-4b2f-aa05-0a4b51e937e0",
   "metadata": {},
   "outputs": [
    {
     "data": {
      "text/html": [
       "<style>\n",
       ".list-inline {list-style: none; margin:0; padding: 0}\n",
       ".list-inline>li {display: inline-block}\n",
       ".list-inline>li:not(:last-child)::after {content: \"\\00b7\"; padding: 0 .5ex}\n",
       "</style>\n",
       "<ol class=list-inline><li>16024</li><li>4</li></ol>\n"
      ],
      "text/latex": [
       "\\begin{enumerate*}\n",
       "\\item 16024\n",
       "\\item 4\n",
       "\\end{enumerate*}\n"
      ],
      "text/markdown": [
       "1. 16024\n",
       "2. 4\n",
       "\n",
       "\n"
      ],
      "text/plain": [
       "[1] 16024     4"
      ]
     },
     "metadata": {},
     "output_type": "display_data"
    }
   ],
   "source": [
    "dim(matchGO)"
   ]
  },
  {
   "cell_type": "code",
   "execution_count": 45,
   "id": "b4f5e7ad-6e50-431b-b6f3-8d6a04234a0d",
   "metadata": {},
   "outputs": [
    {
     "data": {
      "text/html": [
       "<table class=\"dataframe\">\n",
       "<caption>A data.frame: 0 × 4</caption>\n",
       "<thead>\n",
       "\t<tr><th scope=col>GO.IDs</th><th scope=col>GOslim</th><th scope=col>Term</th><th scope=col>gene_id</th></tr>\n",
       "\t<tr><th scope=col>&lt;chr&gt;</th><th scope=col>&lt;chr&gt;</th><th scope=col>&lt;chr&gt;</th><th scope=col>&lt;chr&gt;</th></tr>\n",
       "</thead>\n",
       "<tbody>\n",
       "</tbody>\n",
       "</table>\n"
      ],
      "text/latex": [
       "A data.frame: 0 × 4\n",
       "\\begin{tabular}{llll}\n",
       " GO.IDs & GOslim & Term & gene\\_id\\\\\n",
       " <chr> & <chr> & <chr> & <chr>\\\\\n",
       "\\hline\n",
       "\\end{tabular}\n"
      ],
      "text/markdown": [
       "\n",
       "A data.frame: 0 × 4\n",
       "\n",
       "| GO.IDs &lt;chr&gt; | GOslim &lt;chr&gt; | Term &lt;chr&gt; | gene_id &lt;chr&gt; |\n",
       "|---|---|---|---|\n",
       "\n"
      ],
      "text/plain": [
       "     GO.IDs GOslim Term gene_id"
      ]
     },
     "metadata": {},
     "output_type": "display_data"
    }
   ],
   "source": [
    "matchGO[shared3 %in% matchGO$gene_id,]"
   ]
  },
  {
   "cell_type": "markdown",
   "id": "ad43b94a-fc1c-4fc3-ad9b-268ed34a6709",
   "metadata": {},
   "source": [
    "# new approach\n",
    "\n",
    "I think I'm having problems with redundancy in my gene categories, so I only want to keep unique GO term entries for each gene ID to avoid this issue\n",
    "\n",
    "For example: one gene may have multiple, related GO terms and so they all say transcription, inflating results when in reality, it's just one gene that is involved in transcription instead of 50% of the genes aligning with transcription (because it's so redundant)"
   ]
  },
  {
   "cell_type": "code",
   "execution_count": 133,
   "id": "3f772abd-3256-4c72-a99b-7c63d1dab4d5",
   "metadata": {},
   "outputs": [
    {
     "data": {
      "text/html": [
       "<table class=\"dataframe\">\n",
       "<caption>A grouped_df: 6 × 10</caption>\n",
       "<thead>\n",
       "\t<tr><th scope=col>gene_id</th><th scope=col>order</th><th scope=col>name</th><th scope=col>pair_vs_HC</th><th scope=col>gene_name</th><th scope=col>process</th><th scope=col>notes</th><th scope=col>GO.IDs</th><th scope=col>GOslim</th><th scope=col>Term</th></tr>\n",
       "\t<tr><th scope=col>&lt;chr&gt;</th><th scope=col>&lt;int&gt;</th><th scope=col>&lt;chr&gt;</th><th scope=col>&lt;chr&gt;</th><th scope=col>&lt;chr&gt;</th><th scope=col>&lt;chr&gt;</th><th scope=col>&lt;chr&gt;</th><th scope=col>&lt;chr&gt;</th><th scope=col>&lt;chr&gt;</th><th scope=col>&lt;chr&gt;</th></tr>\n",
       "</thead>\n",
       "<tbody>\n",
       "\t<tr><td>LOC111117760</td><td>1</td><td>disintegrin and metalloproteinase domain-containing protein 10-like, transcript variant X3</td><td>CH, HH, CC</td><td>ADAM10</td><td>cell signaling, adhesion, migration                      </td><td></td><td>GO:0007219</td><td>GO:0023052           </td><td>signaling                                </td></tr>\n",
       "\t<tr><td>LOC111119327</td><td>2</td><td>calcyphosin-like protein, transcript variant X3                                           </td><td>CH, HH, CC</td><td>CAPSL </td><td>calcium ion binding                                      </td><td></td><td>NA        </td><td>NA                   </td><td>NA                                       </td></tr>\n",
       "\t<tr><td>LOC111123492</td><td>3</td><td>pre-B-cell leukemia transcription factor 1-like, transcript variant X11                   </td><td>CH, HH, CC</td><td>PBX1  </td><td>regulates embryonic development and cellular differention</td><td></td><td>GO:0048568</td><td>GO:0048856           </td><td>anatomical structure development         </td></tr>\n",
       "\t<tr><td>LOC111123492</td><td>3</td><td>pre-B-cell leukemia transcription factor 1-like, transcript variant X11                   </td><td>CH, HH, CC</td><td>PBX1  </td><td>regulates embryonic development and cellular differention</td><td></td><td>GO:0048666</td><td>GO:0030154;GO:0048856</td><td>cell differentiation                     </td></tr>\n",
       "\t<tr><td>LOC111123492</td><td>3</td><td>pre-B-cell leukemia transcription factor 1-like, transcript variant X11                   </td><td>CH, HH, CC</td><td>PBX1  </td><td>regulates embryonic development and cellular differention</td><td></td><td>GO:0006357</td><td>GO:0006351;GO:0006355</td><td>DNA-templated transcription              </td></tr>\n",
       "\t<tr><td>LOC111123492</td><td>3</td><td>pre-B-cell leukemia transcription factor 1-like, transcript variant X11                   </td><td>CH, HH, CC</td><td>PBX1  </td><td>regulates embryonic development and cellular differention</td><td></td><td>GO:0006357</td><td>GO:0006351;GO:0006355</td><td>regulation of DNA-templated transcription</td></tr>\n",
       "</tbody>\n",
       "</table>\n"
      ],
      "text/latex": [
       "A grouped\\_df: 6 × 10\n",
       "\\begin{tabular}{llllllllll}\n",
       " gene\\_id & order & name & pair\\_vs\\_HC & gene\\_name & process & notes & GO.IDs & GOslim & Term\\\\\n",
       " <chr> & <int> & <chr> & <chr> & <chr> & <chr> & <chr> & <chr> & <chr> & <chr>\\\\\n",
       "\\hline\n",
       "\t LOC111117760 & 1 & disintegrin and metalloproteinase domain-containing protein 10-like, transcript variant X3 & CH, HH, CC & ADAM10 & cell signaling, adhesion, migration                       &  & GO:0007219 & GO:0023052            & signaling                                \\\\\n",
       "\t LOC111119327 & 2 & calcyphosin-like protein, transcript variant X3                                            & CH, HH, CC & CAPSL  & calcium ion binding                                       &  & NA         & NA                    & NA                                       \\\\\n",
       "\t LOC111123492 & 3 & pre-B-cell leukemia transcription factor 1-like, transcript variant X11                    & CH, HH, CC & PBX1   & regulates embryonic development and cellular differention &  & GO:0048568 & GO:0048856            & anatomical structure development         \\\\\n",
       "\t LOC111123492 & 3 & pre-B-cell leukemia transcription factor 1-like, transcript variant X11                    & CH, HH, CC & PBX1   & regulates embryonic development and cellular differention &  & GO:0048666 & GO:0030154;GO:0048856 & cell differentiation                     \\\\\n",
       "\t LOC111123492 & 3 & pre-B-cell leukemia transcription factor 1-like, transcript variant X11                    & CH, HH, CC & PBX1   & regulates embryonic development and cellular differention &  & GO:0006357 & GO:0006351;GO:0006355 & DNA-templated transcription              \\\\\n",
       "\t LOC111123492 & 3 & pre-B-cell leukemia transcription factor 1-like, transcript variant X11                    & CH, HH, CC & PBX1   & regulates embryonic development and cellular differention &  & GO:0006357 & GO:0006351;GO:0006355 & regulation of DNA-templated transcription\\\\\n",
       "\\end{tabular}\n"
      ],
      "text/markdown": [
       "\n",
       "A grouped_df: 6 × 10\n",
       "\n",
       "| gene_id &lt;chr&gt; | order &lt;int&gt; | name &lt;chr&gt; | pair_vs_HC &lt;chr&gt; | gene_name &lt;chr&gt; | process &lt;chr&gt; | notes &lt;chr&gt; | GO.IDs &lt;chr&gt; | GOslim &lt;chr&gt; | Term &lt;chr&gt; |\n",
       "|---|---|---|---|---|---|---|---|---|---|\n",
       "| LOC111117760 | 1 | disintegrin and metalloproteinase domain-containing protein 10-like, transcript variant X3 | CH, HH, CC | ADAM10 | cell signaling, adhesion, migration                       | <!----> | GO:0007219 | GO:0023052            | signaling                                 |\n",
       "| LOC111119327 | 2 | calcyphosin-like protein, transcript variant X3                                            | CH, HH, CC | CAPSL  | calcium ion binding                                       | <!----> | NA         | NA                    | NA                                        |\n",
       "| LOC111123492 | 3 | pre-B-cell leukemia transcription factor 1-like, transcript variant X11                    | CH, HH, CC | PBX1   | regulates embryonic development and cellular differention | <!----> | GO:0048568 | GO:0048856            | anatomical structure development          |\n",
       "| LOC111123492 | 3 | pre-B-cell leukemia transcription factor 1-like, transcript variant X11                    | CH, HH, CC | PBX1   | regulates embryonic development and cellular differention | <!----> | GO:0048666 | GO:0030154;GO:0048856 | cell differentiation                      |\n",
       "| LOC111123492 | 3 | pre-B-cell leukemia transcription factor 1-like, transcript variant X11                    | CH, HH, CC | PBX1   | regulates embryonic development and cellular differention | <!----> | GO:0006357 | GO:0006351;GO:0006355 | DNA-templated transcription               |\n",
       "| LOC111123492 | 3 | pre-B-cell leukemia transcription factor 1-like, transcript variant X11                    | CH, HH, CC | PBX1   | regulates embryonic development and cellular differention | <!----> | GO:0006357 | GO:0006351;GO:0006355 | regulation of DNA-templated transcription |\n",
       "\n"
      ],
      "text/plain": [
       "  gene_id      order\n",
       "1 LOC111117760 1    \n",
       "2 LOC111119327 2    \n",
       "3 LOC111123492 3    \n",
       "4 LOC111123492 3    \n",
       "5 LOC111123492 3    \n",
       "6 LOC111123492 3    \n",
       "  name                                                                                      \n",
       "1 disintegrin and metalloproteinase domain-containing protein 10-like, transcript variant X3\n",
       "2 calcyphosin-like protein, transcript variant X3                                           \n",
       "3 pre-B-cell leukemia transcription factor 1-like, transcript variant X11                   \n",
       "4 pre-B-cell leukemia transcription factor 1-like, transcript variant X11                   \n",
       "5 pre-B-cell leukemia transcription factor 1-like, transcript variant X11                   \n",
       "6 pre-B-cell leukemia transcription factor 1-like, transcript variant X11                   \n",
       "  pair_vs_HC gene_name\n",
       "1 CH, HH, CC ADAM10   \n",
       "2 CH, HH, CC CAPSL    \n",
       "3 CH, HH, CC PBX1     \n",
       "4 CH, HH, CC PBX1     \n",
       "5 CH, HH, CC PBX1     \n",
       "6 CH, HH, CC PBX1     \n",
       "  process                                                   notes GO.IDs    \n",
       "1 cell signaling, adhesion, migration                             GO:0007219\n",
       "2 calcium ion binding                                             NA        \n",
       "3 regulates embryonic development and cellular differention       GO:0048568\n",
       "4 regulates embryonic development and cellular differention       GO:0048666\n",
       "5 regulates embryonic development and cellular differention       GO:0006357\n",
       "6 regulates embryonic development and cellular differention       GO:0006357\n",
       "  GOslim                Term                                     \n",
       "1 GO:0023052            signaling                                \n",
       "2 NA                    NA                                       \n",
       "3 GO:0048856            anatomical structure development         \n",
       "4 GO:0030154;GO:0048856 cell differentiation                     \n",
       "5 GO:0006351;GO:0006355 DNA-templated transcription              \n",
       "6 GO:0006351;GO:0006355 regulation of DNA-templated transcription"
      ]
     },
     "metadata": {},
     "output_type": "display_data"
    }
   ],
   "source": [
    "no_dupes <- dmgs %>%\n",
    "  group_by(gene_id) %>%\n",
    "  distinct(Term, .keep_all = TRUE)\n",
    "\n",
    "head(no_dupes)"
   ]
  },
  {
   "cell_type": "code",
   "execution_count": 134,
   "id": "b166a242-03fd-4b5d-b898-dd183ba90984",
   "metadata": {},
   "outputs": [],
   "source": [
    "write.csv(no_dupes, '/project/pi_sarah_gignouxwolfsohn_uml_edu/julia/CE_MethylRAD_analysis_2018/analysis/deseq_res_files/noDupes_sigDMGs.csv', row.names=FALSE)"
   ]
  },
  {
   "cell_type": "markdown",
   "id": "7bf68932-1d1a-482a-b193-49f2e3952a0e",
   "metadata": {},
   "source": [
    "did some manipulation in excel - if a gene had multiple lines of similarly related categories (like metabolism or transcription), I collapsed them to further help with redundancy\n",
    "                                                    "
   ]
  },
  {
   "cell_type": "code",
   "execution_count": 25,
   "id": "18c1cdd3-2986-4f07-abc3-a038ed77b802",
   "metadata": {},
   "outputs": [
    {
     "data": {
      "text/html": [
       "<table class=\"dataframe\">\n",
       "<caption>A data.frame: 6 × 11</caption>\n",
       "<thead>\n",
       "\t<tr><th></th><th scope=col>gene_id</th><th scope=col>X</th><th scope=col>Term</th><th scope=col>order</th><th scope=col>name</th><th scope=col>pair_vs_HC</th><th scope=col>gene_name</th><th scope=col>process</th><th scope=col>notes</th><th scope=col>GO.IDs</th><th scope=col>GOslim</th></tr>\n",
       "\t<tr><th></th><th scope=col>&lt;chr&gt;</th><th scope=col>&lt;chr&gt;</th><th scope=col>&lt;chr&gt;</th><th scope=col>&lt;int&gt;</th><th scope=col>&lt;chr&gt;</th><th scope=col>&lt;chr&gt;</th><th scope=col>&lt;chr&gt;</th><th scope=col>&lt;chr&gt;</th><th scope=col>&lt;chr&gt;</th><th scope=col>&lt;chr&gt;</th><th scope=col>&lt;chr&gt;</th></tr>\n",
       "</thead>\n",
       "<tbody>\n",
       "\t<tr><th scope=row>1</th><td>LOC111117760</td><td>signaling            </td><td>signaling                       </td><td>1</td><td>disintegrin and metalloproteinase domain-containing protein 10-like, transcript variant X3</td><td>CH, HH, CC</td><td>ADAM10</td><td>cell signaling, adhesion, migration                       </td><td>                            </td><td>GO:0007219</td><td>GO:0023052           </td></tr>\n",
       "\t<tr><th scope=row>2</th><td>LOC111119327</td><td>                     </td><td>NA                              </td><td>2</td><td>calcyphosin-like protein, transcript variant X3                                           </td><td>CH, HH, CC</td><td>CAPSL </td><td>calcium ion binding                                       </td><td>                            </td><td>NA        </td><td>NA                   </td></tr>\n",
       "\t<tr><th scope=row>3</th><td>LOC111123492</td><td>developmental process</td><td>anatomical structure development</td><td>3</td><td>pre-B-cell leukemia transcription factor 1-like, transcript variant X11                   </td><td>CH, HH, CC</td><td>PBX1  </td><td>regulates embryonic development and cellular differention </td><td>                            </td><td>GO:0048568</td><td>GO:0048856           </td></tr>\n",
       "\t<tr><th scope=row>4</th><td>LOC111123492</td><td>developmental process</td><td>cell differentiation            </td><td>3</td><td>pre-B-cell leukemia transcription factor 1-like, transcript variant X11                   </td><td>CH, HH, CC</td><td>PBX1  </td><td>regulates embryonic development and cellular differention </td><td>                            </td><td>GO:0048666</td><td>GO:0030154;GO:0048856</td></tr>\n",
       "\t<tr><th scope=row>5</th><td>LOC111123492</td><td>transcription        </td><td>DNA-templated transcription     </td><td>3</td><td>pre-B-cell leukemia transcription factor 1-like, transcript variant X11                   </td><td>CH, HH, CC</td><td>PBX1  </td><td>regulates embryonic development and cellular differention </td><td>                            </td><td>GO:0006357</td><td>GO:0006351;GO:0006355</td></tr>\n",
       "\t<tr><th scope=row>6</th><td>LOC111124674</td><td>                     </td><td>NA                              </td><td>4</td><td>gamma-glutamyltranspeptidase 1-like, transcript variant X1                                </td><td>CH, HH, CC</td><td>GGT1  </td><td>proteolysis, metabolisis, immune response, spermatogenesis</td><td>other are from human homolog</td><td>NA        </td><td>NA                   </td></tr>\n",
       "</tbody>\n",
       "</table>\n"
      ],
      "text/latex": [
       "A data.frame: 6 × 11\n",
       "\\begin{tabular}{r|lllllllllll}\n",
       "  & gene\\_id & X & Term & order & name & pair\\_vs\\_HC & gene\\_name & process & notes & GO.IDs & GOslim\\\\\n",
       "  & <chr> & <chr> & <chr> & <int> & <chr> & <chr> & <chr> & <chr> & <chr> & <chr> & <chr>\\\\\n",
       "\\hline\n",
       "\t1 & LOC111117760 & signaling             & signaling                        & 1 & disintegrin and metalloproteinase domain-containing protein 10-like, transcript variant X3 & CH, HH, CC & ADAM10 & cell signaling, adhesion, migration                        &                              & GO:0007219 & GO:0023052           \\\\\n",
       "\t2 & LOC111119327 &                       & NA                               & 2 & calcyphosin-like protein, transcript variant X3                                            & CH, HH, CC & CAPSL  & calcium ion binding                                        &                              & NA         & NA                   \\\\\n",
       "\t3 & LOC111123492 & developmental process & anatomical structure development & 3 & pre-B-cell leukemia transcription factor 1-like, transcript variant X11                    & CH, HH, CC & PBX1   & regulates embryonic development and cellular differention  &                              & GO:0048568 & GO:0048856           \\\\\n",
       "\t4 & LOC111123492 & developmental process & cell differentiation             & 3 & pre-B-cell leukemia transcription factor 1-like, transcript variant X11                    & CH, HH, CC & PBX1   & regulates embryonic development and cellular differention  &                              & GO:0048666 & GO:0030154;GO:0048856\\\\\n",
       "\t5 & LOC111123492 & transcription         & DNA-templated transcription      & 3 & pre-B-cell leukemia transcription factor 1-like, transcript variant X11                    & CH, HH, CC & PBX1   & regulates embryonic development and cellular differention  &                              & GO:0006357 & GO:0006351;GO:0006355\\\\\n",
       "\t6 & LOC111124674 &                       & NA                               & 4 & gamma-glutamyltranspeptidase 1-like, transcript variant X1                                 & CH, HH, CC & GGT1   & proteolysis, metabolisis, immune response, spermatogenesis & other are from human homolog & NA         & NA                   \\\\\n",
       "\\end{tabular}\n"
      ],
      "text/markdown": [
       "\n",
       "A data.frame: 6 × 11\n",
       "\n",
       "| <!--/--> | gene_id &lt;chr&gt; | X &lt;chr&gt; | Term &lt;chr&gt; | order &lt;int&gt; | name &lt;chr&gt; | pair_vs_HC &lt;chr&gt; | gene_name &lt;chr&gt; | process &lt;chr&gt; | notes &lt;chr&gt; | GO.IDs &lt;chr&gt; | GOslim &lt;chr&gt; |\n",
       "|---|---|---|---|---|---|---|---|---|---|---|---|\n",
       "| 1 | LOC111117760 | signaling             | signaling                        | 1 | disintegrin and metalloproteinase domain-containing protein 10-like, transcript variant X3 | CH, HH, CC | ADAM10 | cell signaling, adhesion, migration                        | <!----> | GO:0007219 | GO:0023052            |\n",
       "| 2 | LOC111119327 | <!----> | NA                               | 2 | calcyphosin-like protein, transcript variant X3                                            | CH, HH, CC | CAPSL  | calcium ion binding                                        | <!----> | NA         | NA                    |\n",
       "| 3 | LOC111123492 | developmental process | anatomical structure development | 3 | pre-B-cell leukemia transcription factor 1-like, transcript variant X11                    | CH, HH, CC | PBX1   | regulates embryonic development and cellular differention  | <!----> | GO:0048568 | GO:0048856            |\n",
       "| 4 | LOC111123492 | developmental process | cell differentiation             | 3 | pre-B-cell leukemia transcription factor 1-like, transcript variant X11                    | CH, HH, CC | PBX1   | regulates embryonic development and cellular differention  | <!----> | GO:0048666 | GO:0030154;GO:0048856 |\n",
       "| 5 | LOC111123492 | transcription         | DNA-templated transcription      | 3 | pre-B-cell leukemia transcription factor 1-like, transcript variant X11                    | CH, HH, CC | PBX1   | regulates embryonic development and cellular differention  | <!----> | GO:0006357 | GO:0006351;GO:0006355 |\n",
       "| 6 | LOC111124674 | <!----> | NA                               | 4 | gamma-glutamyltranspeptidase 1-like, transcript variant X1                                 | CH, HH, CC | GGT1   | proteolysis, metabolisis, immune response, spermatogenesis | other are from human homolog | NA         | NA                    |\n",
       "\n"
      ],
      "text/plain": [
       "  gene_id      X                     Term                             order\n",
       "1 LOC111117760 signaling             signaling                        1    \n",
       "2 LOC111119327                       NA                               2    \n",
       "3 LOC111123492 developmental process anatomical structure development 3    \n",
       "4 LOC111123492 developmental process cell differentiation             3    \n",
       "5 LOC111123492 transcription         DNA-templated transcription      3    \n",
       "6 LOC111124674                       NA                               4    \n",
       "  name                                                                                      \n",
       "1 disintegrin and metalloproteinase domain-containing protein 10-like, transcript variant X3\n",
       "2 calcyphosin-like protein, transcript variant X3                                           \n",
       "3 pre-B-cell leukemia transcription factor 1-like, transcript variant X11                   \n",
       "4 pre-B-cell leukemia transcription factor 1-like, transcript variant X11                   \n",
       "5 pre-B-cell leukemia transcription factor 1-like, transcript variant X11                   \n",
       "6 gamma-glutamyltranspeptidase 1-like, transcript variant X1                                \n",
       "  pair_vs_HC gene_name\n",
       "1 CH, HH, CC ADAM10   \n",
       "2 CH, HH, CC CAPSL    \n",
       "3 CH, HH, CC PBX1     \n",
       "4 CH, HH, CC PBX1     \n",
       "5 CH, HH, CC PBX1     \n",
       "6 CH, HH, CC GGT1     \n",
       "  process                                                   \n",
       "1 cell signaling, adhesion, migration                       \n",
       "2 calcium ion binding                                       \n",
       "3 regulates embryonic development and cellular differention \n",
       "4 regulates embryonic development and cellular differention \n",
       "5 regulates embryonic development and cellular differention \n",
       "6 proteolysis, metabolisis, immune response, spermatogenesis\n",
       "  notes                        GO.IDs     GOslim               \n",
       "1                              GO:0007219 GO:0023052           \n",
       "2                              NA         NA                   \n",
       "3                              GO:0048568 GO:0048856           \n",
       "4                              GO:0048666 GO:0030154;GO:0048856\n",
       "5                              GO:0006357 GO:0006351;GO:0006355\n",
       "6 other are from human homolog NA         NA                   "
      ]
     },
     "metadata": {},
     "output_type": "display_data"
    }
   ],
   "source": [
    "noDupe <- read.csv('/project/pi_sarah_gignouxwolfsohn_uml_edu/julia/CE_MethylRAD_analysis_2018/analysis/deseq_res_files/noDupes_sigDMGs2.csv')\n",
    "head(noDupe)"
   ]
  },
  {
   "cell_type": "code",
   "execution_count": 31,
   "id": "0ecaccaf-2589-468f-84e8-54dc589a208c",
   "metadata": {},
   "outputs": [
    {
     "data": {
      "image/png": "[encoded data removed]",
      "text/plain": [
       "plot without title"
      ]
     },
     "metadata": {
      "image/png": {
       "height": 420,
       "width": 420
      }
     },
     "output_type": "display_data"
    }
   ],
   "source": [
    "# all sig. DMGs with HC\n",
    "ggplot(na.omit(noDupe), aes(x=X)) +\n",
    "geom_bar(stat = 'count') + \n",
    "coord_flip() + \n",
    "theme_bw()"
   ]
  },
  {
   "cell_type": "markdown",
   "id": "d45275f7-e918-4b79-b7c5-50101dddb47d",
   "metadata": {},
   "source": [
    "### only unique DMGs for HH vs. HC (21 dmgs)"
   ]
  },
  {
   "cell_type": "code",
   "execution_count": 40,
   "id": "74a501e0-0b35-4679-879e-0aa8f76e76f9",
   "metadata": {},
   "outputs": [
    {
     "data": {
      "text/html": [
       "<table class=\"dataframe\">\n",
       "<caption>A data.frame: 13 × 3</caption>\n",
       "<thead>\n",
       "\t<tr><th scope=col>Term</th><th scope=col>n</th><th scope=col>Percent</th></tr>\n",
       "\t<tr><th scope=col>&lt;chr&gt;</th><th scope=col>&lt;int&gt;</th><th scope=col>&lt;dbl&gt;</th></tr>\n",
       "</thead>\n",
       "<tbody>\n",
       "\t<tr><td>NA                                       </td><td>7</td><td>30.43</td></tr>\n",
       "\t<tr><td>DNA-templated transcription              </td><td>2</td><td> 8.70</td></tr>\n",
       "\t<tr><td>intracellular protein transport          </td><td>2</td><td> 8.70</td></tr>\n",
       "\t<tr><td>protein catabolic process                </td><td>2</td><td> 8.70</td></tr>\n",
       "\t<tr><td>signaling                                </td><td>2</td><td> 8.70</td></tr>\n",
       "\t<tr><td>anatomical structure development         </td><td>1</td><td> 4.35</td></tr>\n",
       "\t<tr><td>carbohydrate derivative metabolic process</td><td>1</td><td> 4.35</td></tr>\n",
       "\t<tr><td>cell adhesion                            </td><td>1</td><td> 4.35</td></tr>\n",
       "\t<tr><td>cilium organization                      </td><td>1</td><td> 4.35</td></tr>\n",
       "\t<tr><td>cytokinesis                              </td><td>1</td><td> 4.35</td></tr>\n",
       "\t<tr><td>lipid metabolic process                  </td><td>1</td><td> 4.35</td></tr>\n",
       "\t<tr><td>mRNA metabolic process                   </td><td>1</td><td> 4.35</td></tr>\n",
       "\t<tr><td>ribosome biogenesis                      </td><td>1</td><td> 4.35</td></tr>\n",
       "</tbody>\n",
       "</table>\n"
      ],
      "text/latex": [
       "A data.frame: 13 × 3\n",
       "\\begin{tabular}{lll}\n",
       " Term & n & Percent\\\\\n",
       " <chr> & <int> & <dbl>\\\\\n",
       "\\hline\n",
       "\t NA                                        & 7 & 30.43\\\\\n",
       "\t DNA-templated transcription               & 2 &  8.70\\\\\n",
       "\t intracellular protein transport           & 2 &  8.70\\\\\n",
       "\t protein catabolic process                 & 2 &  8.70\\\\\n",
       "\t signaling                                 & 2 &  8.70\\\\\n",
       "\t anatomical structure development          & 1 &  4.35\\\\\n",
       "\t carbohydrate derivative metabolic process & 1 &  4.35\\\\\n",
       "\t cell adhesion                             & 1 &  4.35\\\\\n",
       "\t cilium organization                       & 1 &  4.35\\\\\n",
       "\t cytokinesis                               & 1 &  4.35\\\\\n",
       "\t lipid metabolic process                   & 1 &  4.35\\\\\n",
       "\t mRNA metabolic process                    & 1 &  4.35\\\\\n",
       "\t ribosome biogenesis                       & 1 &  4.35\\\\\n",
       "\\end{tabular}\n"
      ],
      "text/markdown": [
       "\n",
       "A data.frame: 13 × 3\n",
       "\n",
       "| Term &lt;chr&gt; | n &lt;int&gt; | Percent &lt;dbl&gt; |\n",
       "|---|---|---|\n",
       "| NA                                        | 7 | 30.43 |\n",
       "| DNA-templated transcription               | 2 |  8.70 |\n",
       "| intracellular protein transport           | 2 |  8.70 |\n",
       "| protein catabolic process                 | 2 |  8.70 |\n",
       "| signaling                                 | 2 |  8.70 |\n",
       "| anatomical structure development          | 1 |  4.35 |\n",
       "| carbohydrate derivative metabolic process | 1 |  4.35 |\n",
       "| cell adhesion                             | 1 |  4.35 |\n",
       "| cilium organization                       | 1 |  4.35 |\n",
       "| cytokinesis                               | 1 |  4.35 |\n",
       "| lipid metabolic process                   | 1 |  4.35 |\n",
       "| mRNA metabolic process                    | 1 |  4.35 |\n",
       "| ribosome biogenesis                       | 1 |  4.35 |\n",
       "\n"
      ],
      "text/plain": [
       "   Term                                      n Percent\n",
       "1  NA                                        7 30.43  \n",
       "2  DNA-templated transcription               2  8.70  \n",
       "3  intracellular protein transport           2  8.70  \n",
       "4  protein catabolic process                 2  8.70  \n",
       "5  signaling                                 2  8.70  \n",
       "6  anatomical structure development          1  4.35  \n",
       "7  carbohydrate derivative metabolic process 1  4.35  \n",
       "8  cell adhesion                             1  4.35  \n",
       "9  cilium organization                       1  4.35  \n",
       "10 cytokinesis                               1  4.35  \n",
       "11 lipid metabolic process                   1  4.35  \n",
       "12 mRNA metabolic process                    1  4.35  \n",
       "13 ribosome biogenesis                       1  4.35  "
      ]
     },
     "metadata": {},
     "output_type": "display_data"
    }
   ],
   "source": [
    "HH_unique <- noDupe %>%\n",
    "filter(pair_vs_HC == 'HH') %>%\n",
    "count(Term) %>%\n",
    "mutate(Percent = round((n / sum(n)) * 100, 2)) %>%\n",
    "arrange(desc(n))\n",
    "\n",
    "HH_unique"
   ]
  },
  {
   "cell_type": "markdown",
   "id": "2604fe3c-5760-48aa-bc62-7eb8c94d7a4d",
   "metadata": {},
   "source": [
    "### only unique for CH vs. HC (136 dmgs)"
   ]
  },
  {
   "cell_type": "code",
   "execution_count": 47,
   "id": "89f1cd22-227c-4c28-a023-db498b8a5b59",
   "metadata": {},
   "outputs": [
    {
     "data": {
      "text/html": [
       "<table class=\"dataframe\">\n",
       "<caption>A data.frame: 33 × 3</caption>\n",
       "<thead>\n",
       "\t<tr><th scope=col>Term</th><th scope=col>n</th><th scope=col>Percent</th></tr>\n",
       "\t<tr><th scope=col>&lt;chr&gt;</th><th scope=col>&lt;int&gt;</th><th scope=col>&lt;dbl&gt;</th></tr>\n",
       "</thead>\n",
       "<tbody>\n",
       "\t<tr><td>NA                                                    </td><td>79</td><td>50.97</td></tr>\n",
       "\t<tr><td>signaling                                             </td><td>10</td><td> 6.45</td></tr>\n",
       "\t<tr><td>DNA-templated transcription                           </td><td> 7</td><td> 4.52</td></tr>\n",
       "\t<tr><td>protein catabolic process                             </td><td> 7</td><td> 4.52</td></tr>\n",
       "\t<tr><td>DNA repair                                            </td><td> 5</td><td> 3.23</td></tr>\n",
       "\t<tr><td>intracellular protein transport                       </td><td> 4</td><td> 2.58</td></tr>\n",
       "\t<tr><td>ribosome biogenesis                                   </td><td> 4</td><td> 2.58</td></tr>\n",
       "\t<tr><td>generation of precursor metabolites and energy        </td><td> 3</td><td> 1.94</td></tr>\n",
       "\t<tr><td>mitotic cell cycle                                    </td><td> 3</td><td> 1.94</td></tr>\n",
       "\t<tr><td>protein-containing complex assembly                   </td><td> 3</td><td> 1.94</td></tr>\n",
       "\t<tr><td>vesicle-mediated transport                            </td><td> 3</td><td> 1.94</td></tr>\n",
       "\t<tr><td>anatomical structure development                      </td><td> 2</td><td> 1.29</td></tr>\n",
       "\t<tr><td>lipid metabolic process                               </td><td> 2</td><td> 1.29</td></tr>\n",
       "\t<tr><td>protein maturation                                    </td><td> 2</td><td> 1.29</td></tr>\n",
       "\t<tr><td>reproductive process                                  </td><td> 2</td><td> 1.29</td></tr>\n",
       "\t<tr><td>transmembrane transport                               </td><td> 2</td><td> 1.29</td></tr>\n",
       "\t<tr><td>DNA recombination                                     </td><td> 1</td><td> 0.65</td></tr>\n",
       "\t<tr><td>DNA replication                                       </td><td> 1</td><td> 0.65</td></tr>\n",
       "\t<tr><td>amino acid metabolic process                          </td><td> 1</td><td> 0.65</td></tr>\n",
       "\t<tr><td>carbohydrate derivative metabolic process             </td><td> 1</td><td> 0.65</td></tr>\n",
       "\t<tr><td>carbohydrate metabolic process                        </td><td> 1</td><td> 0.65</td></tr>\n",
       "\t<tr><td>cell differentiation                                  </td><td> 1</td><td> 0.65</td></tr>\n",
       "\t<tr><td>cilium organization                                   </td><td> 1</td><td> 0.65</td></tr>\n",
       "\t<tr><td>cytoplasmic translation                               </td><td> 1</td><td> 0.65</td></tr>\n",
       "\t<tr><td>cytoskeleton organization                             </td><td> 1</td><td> 0.65</td></tr>\n",
       "\t<tr><td>mRNA metabolic process                                </td><td> 1</td><td> 0.65</td></tr>\n",
       "\t<tr><td>membrane organization                                 </td><td> 1</td><td> 0.65</td></tr>\n",
       "\t<tr><td>nucleobase-containing small molecule metabolic process</td><td> 1</td><td> 0.65</td></tr>\n",
       "\t<tr><td>peroxisome organization                               </td><td> 1</td><td> 0.65</td></tr>\n",
       "\t<tr><td>programmed cell death                                 </td><td> 1</td><td> 0.65</td></tr>\n",
       "\t<tr><td>protein folding                                       </td><td> 1</td><td> 0.65</td></tr>\n",
       "\t<tr><td>snRNA metabolic process                               </td><td> 1</td><td> 0.65</td></tr>\n",
       "\t<tr><td>vitamin metabolic process                             </td><td> 1</td><td> 0.65</td></tr>\n",
       "</tbody>\n",
       "</table>\n"
      ],
      "text/latex": [
       "A data.frame: 33 × 3\n",
       "\\begin{tabular}{lll}\n",
       " Term & n & Percent\\\\\n",
       " <chr> & <int> & <dbl>\\\\\n",
       "\\hline\n",
       "\t NA                                                     & 79 & 50.97\\\\\n",
       "\t signaling                                              & 10 &  6.45\\\\\n",
       "\t DNA-templated transcription                            &  7 &  4.52\\\\\n",
       "\t protein catabolic process                              &  7 &  4.52\\\\\n",
       "\t DNA repair                                             &  5 &  3.23\\\\\n",
       "\t intracellular protein transport                        &  4 &  2.58\\\\\n",
       "\t ribosome biogenesis                                    &  4 &  2.58\\\\\n",
       "\t generation of precursor metabolites and energy         &  3 &  1.94\\\\\n",
       "\t mitotic cell cycle                                     &  3 &  1.94\\\\\n",
       "\t protein-containing complex assembly                    &  3 &  1.94\\\\\n",
       "\t vesicle-mediated transport                             &  3 &  1.94\\\\\n",
       "\t anatomical structure development                       &  2 &  1.29\\\\\n",
       "\t lipid metabolic process                                &  2 &  1.29\\\\\n",
       "\t protein maturation                                     &  2 &  1.29\\\\\n",
       "\t reproductive process                                   &  2 &  1.29\\\\\n",
       "\t transmembrane transport                                &  2 &  1.29\\\\\n",
       "\t DNA recombination                                      &  1 &  0.65\\\\\n",
       "\t DNA replication                                        &  1 &  0.65\\\\\n",
       "\t amino acid metabolic process                           &  1 &  0.65\\\\\n",
       "\t carbohydrate derivative metabolic process              &  1 &  0.65\\\\\n",
       "\t carbohydrate metabolic process                         &  1 &  0.65\\\\\n",
       "\t cell differentiation                                   &  1 &  0.65\\\\\n",
       "\t cilium organization                                    &  1 &  0.65\\\\\n",
       "\t cytoplasmic translation                                &  1 &  0.65\\\\\n",
       "\t cytoskeleton organization                              &  1 &  0.65\\\\\n",
       "\t mRNA metabolic process                                 &  1 &  0.65\\\\\n",
       "\t membrane organization                                  &  1 &  0.65\\\\\n",
       "\t nucleobase-containing small molecule metabolic process &  1 &  0.65\\\\\n",
       "\t peroxisome organization                                &  1 &  0.65\\\\\n",
       "\t programmed cell death                                  &  1 &  0.65\\\\\n",
       "\t protein folding                                        &  1 &  0.65\\\\\n",
       "\t snRNA metabolic process                                &  1 &  0.65\\\\\n",
       "\t vitamin metabolic process                              &  1 &  0.65\\\\\n",
       "\\end{tabular}\n"
      ],
      "text/markdown": [
       "\n",
       "A data.frame: 33 × 3\n",
       "\n",
       "| Term &lt;chr&gt; | n &lt;int&gt; | Percent &lt;dbl&gt; |\n",
       "|---|---|---|\n",
       "| NA                                                     | 79 | 50.97 |\n",
       "| signaling                                              | 10 |  6.45 |\n",
       "| DNA-templated transcription                            |  7 |  4.52 |\n",
       "| protein catabolic process                              |  7 |  4.52 |\n",
       "| DNA repair                                             |  5 |  3.23 |\n",
       "| intracellular protein transport                        |  4 |  2.58 |\n",
       "| ribosome biogenesis                                    |  4 |  2.58 |\n",
       "| generation of precursor metabolites and energy         |  3 |  1.94 |\n",
       "| mitotic cell cycle                                     |  3 |  1.94 |\n",
       "| protein-containing complex assembly                    |  3 |  1.94 |\n",
       "| vesicle-mediated transport                             |  3 |  1.94 |\n",
       "| anatomical structure development                       |  2 |  1.29 |\n",
       "| lipid metabolic process                                |  2 |  1.29 |\n",
       "| protein maturation                                     |  2 |  1.29 |\n",
       "| reproductive process                                   |  2 |  1.29 |\n",
       "| transmembrane transport                                |  2 |  1.29 |\n",
       "| DNA recombination                                      |  1 |  0.65 |\n",
       "| DNA replication                                        |  1 |  0.65 |\n",
       "| amino acid metabolic process                           |  1 |  0.65 |\n",
       "| carbohydrate derivative metabolic process              |  1 |  0.65 |\n",
       "| carbohydrate metabolic process                         |  1 |  0.65 |\n",
       "| cell differentiation                                   |  1 |  0.65 |\n",
       "| cilium organization                                    |  1 |  0.65 |\n",
       "| cytoplasmic translation                                |  1 |  0.65 |\n",
       "| cytoskeleton organization                              |  1 |  0.65 |\n",
       "| mRNA metabolic process                                 |  1 |  0.65 |\n",
       "| membrane organization                                  |  1 |  0.65 |\n",
       "| nucleobase-containing small molecule metabolic process |  1 |  0.65 |\n",
       "| peroxisome organization                                |  1 |  0.65 |\n",
       "| programmed cell death                                  |  1 |  0.65 |\n",
       "| protein folding                                        |  1 |  0.65 |\n",
       "| snRNA metabolic process                                |  1 |  0.65 |\n",
       "| vitamin metabolic process                              |  1 |  0.65 |\n",
       "\n"
      ],
      "text/plain": [
       "   Term                                                   n  Percent\n",
       "1  NA                                                     79 50.97  \n",
       "2  signaling                                              10  6.45  \n",
       "3  DNA-templated transcription                             7  4.52  \n",
       "4  protein catabolic process                               7  4.52  \n",
       "5  DNA repair                                              5  3.23  \n",
       "6  intracellular protein transport                         4  2.58  \n",
       "7  ribosome biogenesis                                     4  2.58  \n",
       "8  generation of precursor metabolites and energy          3  1.94  \n",
       "9  mitotic cell cycle                                      3  1.94  \n",
       "10 protein-containing complex assembly                     3  1.94  \n",
       "11 vesicle-mediated transport                              3  1.94  \n",
       "12 anatomical structure development                        2  1.29  \n",
       "13 lipid metabolic process                                 2  1.29  \n",
       "14 protein maturation                                      2  1.29  \n",
       "15 reproductive process                                    2  1.29  \n",
       "16 transmembrane transport                                 2  1.29  \n",
       "17 DNA recombination                                       1  0.65  \n",
       "18 DNA replication                                         1  0.65  \n",
       "19 amino acid metabolic process                            1  0.65  \n",
       "20 carbohydrate derivative metabolic process               1  0.65  \n",
       "21 carbohydrate metabolic process                          1  0.65  \n",
       "22 cell differentiation                                    1  0.65  \n",
       "23 cilium organization                                     1  0.65  \n",
       "24 cytoplasmic translation                                 1  0.65  \n",
       "25 cytoskeleton organization                               1  0.65  \n",
       "26 mRNA metabolic process                                  1  0.65  \n",
       "27 membrane organization                                   1  0.65  \n",
       "28 nucleobase-containing small molecule metabolic process  1  0.65  \n",
       "29 peroxisome organization                                 1  0.65  \n",
       "30 programmed cell death                                   1  0.65  \n",
       "31 protein folding                                         1  0.65  \n",
       "32 snRNA metabolic process                                 1  0.65  \n",
       "33 vitamin metabolic process                               1  0.65  "
      ]
     },
     "metadata": {},
     "output_type": "display_data"
    }
   ],
   "source": [
    "CH_unique <- noDupe %>%\n",
    "filter(pair_vs_HC == 'CH') %>%\n",
    "count(Term) %>%\n",
    "mutate(Percent = round((n / sum(n)) * 100, 2)) %>%\n",
    "arrange(desc(n))\n",
    "\n",
    "CH_unique"
   ]
  },
  {
   "cell_type": "code",
   "execution_count": 51,
   "id": "cff3043a-32cb-470a-af60-349768ecdcc8",
   "metadata": {},
   "outputs": [
    {
     "data": {
      "text/html": [
       "<table class=\"dataframe\">\n",
       "<caption>A tibble: 26 × 3</caption>\n",
       "<thead>\n",
       "\t<tr><th scope=col>Term</th><th scope=col>n</th><th scope=col>Percent</th></tr>\n",
       "\t<tr><th scope=col>&lt;chr&gt;</th><th scope=col>&lt;int&gt;</th><th scope=col>&lt;dbl&gt;</th></tr>\n",
       "</thead>\n",
       "<tbody>\n",
       "\t<tr><td>NA                                            </td><td>79</td><td>50.97</td></tr>\n",
       "\t<tr><td>signaling                                     </td><td>10</td><td> 6.45</td></tr>\n",
       "\t<tr><td>metabolic processes                           </td><td> 9</td><td> 5.84</td></tr>\n",
       "\t<tr><td>DNA-templated transcription                   </td><td> 7</td><td> 4.52</td></tr>\n",
       "\t<tr><td>protein catabolic process                     </td><td> 7</td><td> 4.52</td></tr>\n",
       "\t<tr><td>DNA repair                                    </td><td> 5</td><td> 3.23</td></tr>\n",
       "\t<tr><td>intracellular protein transport               </td><td> 4</td><td> 2.58</td></tr>\n",
       "\t<tr><td>ribosome biogenesis                           </td><td> 4</td><td> 2.58</td></tr>\n",
       "\t<tr><td>generation of precursor metabolites and energy</td><td> 3</td><td> 1.94</td></tr>\n",
       "\t<tr><td>mitotic cell cycle                            </td><td> 3</td><td> 1.94</td></tr>\n",
       "\t<tr><td>protein-containing complex assembly           </td><td> 3</td><td> 1.94</td></tr>\n",
       "\t<tr><td>vesicle-mediated transport                    </td><td> 3</td><td> 1.94</td></tr>\n",
       "\t<tr><td>anatomical structure development              </td><td> 2</td><td> 1.29</td></tr>\n",
       "\t<tr><td>protein maturation                            </td><td> 2</td><td> 1.29</td></tr>\n",
       "\t<tr><td>reproductive process                          </td><td> 2</td><td> 1.29</td></tr>\n",
       "\t<tr><td>transmembrane transport                       </td><td> 2</td><td> 1.29</td></tr>\n",
       "\t<tr><td>DNA recombination                             </td><td> 1</td><td> 0.65</td></tr>\n",
       "\t<tr><td>DNA replication                               </td><td> 1</td><td> 0.65</td></tr>\n",
       "\t<tr><td>cell differentiation                          </td><td> 1</td><td> 0.65</td></tr>\n",
       "\t<tr><td>cilium organization                           </td><td> 1</td><td> 0.65</td></tr>\n",
       "\t<tr><td>cytoplasmic translation                       </td><td> 1</td><td> 0.65</td></tr>\n",
       "\t<tr><td>cytoskeleton organization                     </td><td> 1</td><td> 0.65</td></tr>\n",
       "\t<tr><td>membrane organization                         </td><td> 1</td><td> 0.65</td></tr>\n",
       "\t<tr><td>peroxisome organization                       </td><td> 1</td><td> 0.65</td></tr>\n",
       "\t<tr><td>programmed cell death                         </td><td> 1</td><td> 0.65</td></tr>\n",
       "\t<tr><td>protein folding                               </td><td> 1</td><td> 0.65</td></tr>\n",
       "</tbody>\n",
       "</table>\n"
      ],
      "text/latex": [
       "A tibble: 26 × 3\n",
       "\\begin{tabular}{lll}\n",
       " Term & n & Percent\\\\\n",
       " <chr> & <int> & <dbl>\\\\\n",
       "\\hline\n",
       "\t NA                                             & 79 & 50.97\\\\\n",
       "\t signaling                                      & 10 &  6.45\\\\\n",
       "\t metabolic processes                            &  9 &  5.84\\\\\n",
       "\t DNA-templated transcription                    &  7 &  4.52\\\\\n",
       "\t protein catabolic process                      &  7 &  4.52\\\\\n",
       "\t DNA repair                                     &  5 &  3.23\\\\\n",
       "\t intracellular protein transport                &  4 &  2.58\\\\\n",
       "\t ribosome biogenesis                            &  4 &  2.58\\\\\n",
       "\t generation of precursor metabolites and energy &  3 &  1.94\\\\\n",
       "\t mitotic cell cycle                             &  3 &  1.94\\\\\n",
       "\t protein-containing complex assembly            &  3 &  1.94\\\\\n",
       "\t vesicle-mediated transport                     &  3 &  1.94\\\\\n",
       "\t anatomical structure development               &  2 &  1.29\\\\\n",
       "\t protein maturation                             &  2 &  1.29\\\\\n",
       "\t reproductive process                           &  2 &  1.29\\\\\n",
       "\t transmembrane transport                        &  2 &  1.29\\\\\n",
       "\t DNA recombination                              &  1 &  0.65\\\\\n",
       "\t DNA replication                                &  1 &  0.65\\\\\n",
       "\t cell differentiation                           &  1 &  0.65\\\\\n",
       "\t cilium organization                            &  1 &  0.65\\\\\n",
       "\t cytoplasmic translation                        &  1 &  0.65\\\\\n",
       "\t cytoskeleton organization                      &  1 &  0.65\\\\\n",
       "\t membrane organization                          &  1 &  0.65\\\\\n",
       "\t peroxisome organization                        &  1 &  0.65\\\\\n",
       "\t programmed cell death                          &  1 &  0.65\\\\\n",
       "\t protein folding                                &  1 &  0.65\\\\\n",
       "\\end{tabular}\n"
      ],
      "text/markdown": [
       "\n",
       "A tibble: 26 × 3\n",
       "\n",
       "| Term &lt;chr&gt; | n &lt;int&gt; | Percent &lt;dbl&gt; |\n",
       "|---|---|---|\n",
       "| NA                                             | 79 | 50.97 |\n",
       "| signaling                                      | 10 |  6.45 |\n",
       "| metabolic processes                            |  9 |  5.84 |\n",
       "| DNA-templated transcription                    |  7 |  4.52 |\n",
       "| protein catabolic process                      |  7 |  4.52 |\n",
       "| DNA repair                                     |  5 |  3.23 |\n",
       "| intracellular protein transport                |  4 |  2.58 |\n",
       "| ribosome biogenesis                            |  4 |  2.58 |\n",
       "| generation of precursor metabolites and energy |  3 |  1.94 |\n",
       "| mitotic cell cycle                             |  3 |  1.94 |\n",
       "| protein-containing complex assembly            |  3 |  1.94 |\n",
       "| vesicle-mediated transport                     |  3 |  1.94 |\n",
       "| anatomical structure development               |  2 |  1.29 |\n",
       "| protein maturation                             |  2 |  1.29 |\n",
       "| reproductive process                           |  2 |  1.29 |\n",
       "| transmembrane transport                        |  2 |  1.29 |\n",
       "| DNA recombination                              |  1 |  0.65 |\n",
       "| DNA replication                                |  1 |  0.65 |\n",
       "| cell differentiation                           |  1 |  0.65 |\n",
       "| cilium organization                            |  1 |  0.65 |\n",
       "| cytoplasmic translation                        |  1 |  0.65 |\n",
       "| cytoskeleton organization                      |  1 |  0.65 |\n",
       "| membrane organization                          |  1 |  0.65 |\n",
       "| peroxisome organization                        |  1 |  0.65 |\n",
       "| programmed cell death                          |  1 |  0.65 |\n",
       "| protein folding                                |  1 |  0.65 |\n",
       "\n"
      ],
      "text/plain": [
       "   Term                                           n  Percent\n",
       "1  NA                                             79 50.97  \n",
       "2  signaling                                      10  6.45  \n",
       "3  metabolic processes                             9  5.84  \n",
       "4  DNA-templated transcription                     7  4.52  \n",
       "5  protein catabolic process                       7  4.52  \n",
       "6  DNA repair                                      5  3.23  \n",
       "7  intracellular protein transport                 4  2.58  \n",
       "8  ribosome biogenesis                             4  2.58  \n",
       "9  generation of precursor metabolites and energy  3  1.94  \n",
       "10 mitotic cell cycle                              3  1.94  \n",
       "11 protein-containing complex assembly             3  1.94  \n",
       "12 vesicle-mediated transport                      3  1.94  \n",
       "13 anatomical structure development                2  1.29  \n",
       "14 protein maturation                              2  1.29  \n",
       "15 reproductive process                            2  1.29  \n",
       "16 transmembrane transport                         2  1.29  \n",
       "17 DNA recombination                               1  0.65  \n",
       "18 DNA replication                                 1  0.65  \n",
       "19 cell differentiation                            1  0.65  \n",
       "20 cilium organization                             1  0.65  \n",
       "21 cytoplasmic translation                         1  0.65  \n",
       "22 cytoskeleton organization                       1  0.65  \n",
       "23 membrane organization                           1  0.65  \n",
       "24 peroxisome organization                         1  0.65  \n",
       "25 programmed cell death                           1  0.65  \n",
       "26 protein folding                                 1  0.65  "
      ]
     },
     "metadata": {},
     "output_type": "display_data"
    }
   ],
   "source": [
    "CH_unique %>%\n",
    "  mutate(Term = case_when(\n",
    "    str_detect(Term, \"metabolic\") ~ \"metabolic processes\",\n",
    "    TRUE ~ Term\n",
    "  )) %>%\n",
    "  group_by(Term) %>%\n",
    "  summarise(n = sum(n), Percent = sum(Percent)) %>%\n",
    "arrange(desc(n))"
   ]
  },
  {
   "cell_type": "code",
   "execution_count": 59,
   "id": "d31456ea-7bb9-4204-a515-b6954d563d6f",
   "metadata": {},
   "outputs": [
    {
     "data": {
      "text/html": [
       "<table class=\"dataframe\">\n",
       "<caption>A data.frame: 29 × 3</caption>\n",
       "<thead>\n",
       "\t<tr><th scope=col>Term</th><th scope=col>n</th><th scope=col>Percent</th></tr>\n",
       "\t<tr><th scope=col>&lt;chr&gt;</th><th scope=col>&lt;int&gt;</th><th scope=col>&lt;dbl&gt;</th></tr>\n",
       "</thead>\n",
       "<tbody>\n",
       "\t<tr><td>NA                                            </td><td>79</td><td>47.02</td></tr>\n",
       "\t<tr><td>metabolic processes                           </td><td>11</td><td> 6.55</td></tr>\n",
       "\t<tr><td>signaling                                     </td><td>10</td><td> 5.95</td></tr>\n",
       "\t<tr><td>DNA-templated transcription                   </td><td> 7</td><td> 4.17</td></tr>\n",
       "\t<tr><td>protein catabolic process                     </td><td> 7</td><td> 4.17</td></tr>\n",
       "\t<tr><td>regulation of DNA-templated transcription     </td><td> 6</td><td> 3.57</td></tr>\n",
       "\t<tr><td>DNA repair                                    </td><td> 5</td><td> 2.98</td></tr>\n",
       "\t<tr><td>intracellular protein transport               </td><td> 4</td><td> 2.38</td></tr>\n",
       "\t<tr><td>ribosome biogenesis                           </td><td> 4</td><td> 2.38</td></tr>\n",
       "\t<tr><td>generation of precursor metabolites and energy</td><td> 3</td><td> 1.79</td></tr>\n",
       "\t<tr><td>mitotic cell cycle                            </td><td> 3</td><td> 1.79</td></tr>\n",
       "\t<tr><td>protein maturation                            </td><td> 3</td><td> 1.79</td></tr>\n",
       "\t<tr><td>protein-containing complex assembly           </td><td> 3</td><td> 1.79</td></tr>\n",
       "\t<tr><td>transmembrane transport                       </td><td> 3</td><td> 1.79</td></tr>\n",
       "\t<tr><td>vesicle-mediated transport                    </td><td> 3</td><td> 1.79</td></tr>\n",
       "\t<tr><td>anatomical structure development              </td><td> 2</td><td> 1.19</td></tr>\n",
       "\t<tr><td>cytoskeleton organization                     </td><td> 2</td><td> 1.19</td></tr>\n",
       "\t<tr><td>reproductive process                          </td><td> 2</td><td> 1.19</td></tr>\n",
       "\t<tr><td>DNA recombination                             </td><td> 1</td><td> 0.60</td></tr>\n",
       "\t<tr><td>DNA replication                               </td><td> 1</td><td> 0.60</td></tr>\n",
       "\t<tr><td>cell differentiation                          </td><td> 1</td><td> 0.60</td></tr>\n",
       "\t<tr><td>chromosome segregation                        </td><td> 1</td><td> 0.60</td></tr>\n",
       "\t<tr><td>cilium organization                           </td><td> 1</td><td> 0.60</td></tr>\n",
       "\t<tr><td>cytoplasmic translation                       </td><td> 1</td><td> 0.60</td></tr>\n",
       "\t<tr><td>membrane organization                         </td><td> 1</td><td> 0.60</td></tr>\n",
       "\t<tr><td>mitotic nuclear division                      </td><td> 1</td><td> 0.60</td></tr>\n",
       "\t<tr><td>peroxisome organization                       </td><td> 1</td><td> 0.60</td></tr>\n",
       "\t<tr><td>programmed cell death                         </td><td> 1</td><td> 0.60</td></tr>\n",
       "\t<tr><td>protein folding                               </td><td> 1</td><td> 0.60</td></tr>\n",
       "</tbody>\n",
       "</table>\n"
      ],
      "text/latex": [
       "A data.frame: 29 × 3\n",
       "\\begin{tabular}{lll}\n",
       " Term & n & Percent\\\\\n",
       " <chr> & <int> & <dbl>\\\\\n",
       "\\hline\n",
       "\t NA                                             & 79 & 47.02\\\\\n",
       "\t metabolic processes                            & 11 &  6.55\\\\\n",
       "\t signaling                                      & 10 &  5.95\\\\\n",
       "\t DNA-templated transcription                    &  7 &  4.17\\\\\n",
       "\t protein catabolic process                      &  7 &  4.17\\\\\n",
       "\t regulation of DNA-templated transcription      &  6 &  3.57\\\\\n",
       "\t DNA repair                                     &  5 &  2.98\\\\\n",
       "\t intracellular protein transport                &  4 &  2.38\\\\\n",
       "\t ribosome biogenesis                            &  4 &  2.38\\\\\n",
       "\t generation of precursor metabolites and energy &  3 &  1.79\\\\\n",
       "\t mitotic cell cycle                             &  3 &  1.79\\\\\n",
       "\t protein maturation                             &  3 &  1.79\\\\\n",
       "\t protein-containing complex assembly            &  3 &  1.79\\\\\n",
       "\t transmembrane transport                        &  3 &  1.79\\\\\n",
       "\t vesicle-mediated transport                     &  3 &  1.79\\\\\n",
       "\t anatomical structure development               &  2 &  1.19\\\\\n",
       "\t cytoskeleton organization                      &  2 &  1.19\\\\\n",
       "\t reproductive process                           &  2 &  1.19\\\\\n",
       "\t DNA recombination                              &  1 &  0.60\\\\\n",
       "\t DNA replication                                &  1 &  0.60\\\\\n",
       "\t cell differentiation                           &  1 &  0.60\\\\\n",
       "\t chromosome segregation                         &  1 &  0.60\\\\\n",
       "\t cilium organization                            &  1 &  0.60\\\\\n",
       "\t cytoplasmic translation                        &  1 &  0.60\\\\\n",
       "\t membrane organization                          &  1 &  0.60\\\\\n",
       "\t mitotic nuclear division                       &  1 &  0.60\\\\\n",
       "\t peroxisome organization                        &  1 &  0.60\\\\\n",
       "\t programmed cell death                          &  1 &  0.60\\\\\n",
       "\t protein folding                                &  1 &  0.60\\\\\n",
       "\\end{tabular}\n"
      ],
      "text/markdown": [
       "\n",
       "A data.frame: 29 × 3\n",
       "\n",
       "| Term &lt;chr&gt; | n &lt;int&gt; | Percent &lt;dbl&gt; |\n",
       "|---|---|---|\n",
       "| NA                                             | 79 | 47.02 |\n",
       "| metabolic processes                            | 11 |  6.55 |\n",
       "| signaling                                      | 10 |  5.95 |\n",
       "| DNA-templated transcription                    |  7 |  4.17 |\n",
       "| protein catabolic process                      |  7 |  4.17 |\n",
       "| regulation of DNA-templated transcription      |  6 |  3.57 |\n",
       "| DNA repair                                     |  5 |  2.98 |\n",
       "| intracellular protein transport                |  4 |  2.38 |\n",
       "| ribosome biogenesis                            |  4 |  2.38 |\n",
       "| generation of precursor metabolites and energy |  3 |  1.79 |\n",
       "| mitotic cell cycle                             |  3 |  1.79 |\n",
       "| protein maturation                             |  3 |  1.79 |\n",
       "| protein-containing complex assembly            |  3 |  1.79 |\n",
       "| transmembrane transport                        |  3 |  1.79 |\n",
       "| vesicle-mediated transport                     |  3 |  1.79 |\n",
       "| anatomical structure development               |  2 |  1.19 |\n",
       "| cytoskeleton organization                      |  2 |  1.19 |\n",
       "| reproductive process                           |  2 |  1.19 |\n",
       "| DNA recombination                              |  1 |  0.60 |\n",
       "| DNA replication                                |  1 |  0.60 |\n",
       "| cell differentiation                           |  1 |  0.60 |\n",
       "| chromosome segregation                         |  1 |  0.60 |\n",
       "| cilium organization                            |  1 |  0.60 |\n",
       "| cytoplasmic translation                        |  1 |  0.60 |\n",
       "| membrane organization                          |  1 |  0.60 |\n",
       "| mitotic nuclear division                       |  1 |  0.60 |\n",
       "| peroxisome organization                        |  1 |  0.60 |\n",
       "| programmed cell death                          |  1 |  0.60 |\n",
       "| protein folding                                |  1 |  0.60 |\n",
       "\n"
      ],
      "text/plain": [
       "   Term                                           n  Percent\n",
       "1  NA                                             79 47.02  \n",
       "2  metabolic processes                            11  6.55  \n",
       "3  signaling                                      10  5.95  \n",
       "4  DNA-templated transcription                     7  4.17  \n",
       "5  protein catabolic process                       7  4.17  \n",
       "6  regulation of DNA-templated transcription       6  3.57  \n",
       "7  DNA repair                                      5  2.98  \n",
       "8  intracellular protein transport                 4  2.38  \n",
       "9  ribosome biogenesis                             4  2.38  \n",
       "10 generation of precursor metabolites and energy  3  1.79  \n",
       "11 mitotic cell cycle                              3  1.79  \n",
       "12 protein maturation                              3  1.79  \n",
       "13 protein-containing complex assembly             3  1.79  \n",
       "14 transmembrane transport                         3  1.79  \n",
       "15 vesicle-mediated transport                      3  1.79  \n",
       "16 anatomical structure development                2  1.19  \n",
       "17 cytoskeleton organization                       2  1.19  \n",
       "18 reproductive process                            2  1.19  \n",
       "19 DNA recombination                               1  0.60  \n",
       "20 DNA replication                                 1  0.60  \n",
       "21 cell differentiation                            1  0.60  \n",
       "22 chromosome segregation                          1  0.60  \n",
       "23 cilium organization                             1  0.60  \n",
       "24 cytoplasmic translation                         1  0.60  \n",
       "25 membrane organization                           1  0.60  \n",
       "26 mitotic nuclear division                        1  0.60  \n",
       "27 peroxisome organization                         1  0.60  \n",
       "28 programmed cell death                           1  0.60  \n",
       "29 protein folding                                 1  0.60  "
      ]
     },
     "metadata": {},
     "output_type": "display_data"
    }
   ],
   "source": [
    "dmgs %>%\n",
    "  filter(pair_vs_HC == 'CH')  %>%\n",
    "  select(gene_id, Term) %>%\n",
    "  distinct() %>% \n",
    "  mutate(Term = case_when(\n",
    "    str_detect(Term, \"metabolic\") ~ \"metabolic processes\",\n",
    "    TRUE ~ Term\n",
    "  )) %>%\n",
    "  count(Term) %>%\n",
    "  mutate(Percent = round((n / sum(n)) * 100, 2)) %>%\n",
    "  arrange(desc(n))"
   ]
  },
  {
   "cell_type": "code",
   "execution_count": 62,
   "id": "b61d9268-9376-4d5a-bda0-cb2ab81131e0",
   "metadata": {},
   "outputs": [
    {
     "data": {
      "text/html": [
       "<style>\n",
       ".list-inline {list-style: none; margin:0; padding: 0}\n",
       ".list-inline>li {display: inline-block}\n",
       ".list-inline>li:not(:last-child)::after {content: \"\\00b7\"; padding: 0 .5ex}\n",
       "</style>\n",
       "<ol class=list-inline><li>37</li><li>10</li></ol>\n"
      ],
      "text/latex": [
       "\\begin{enumerate*}\n",
       "\\item 37\n",
       "\\item 10\n",
       "\\end{enumerate*}\n"
      ],
      "text/markdown": [
       "1. 37\n",
       "2. 10\n",
       "\n",
       "\n"
      ],
      "text/plain": [
       "[1] 37 10"
      ]
     },
     "metadata": {},
     "output_type": "display_data"
    }
   ],
   "source": [
    "dmgs %>%\n",
    "filter(pair_vs_HC == 'CH') %>%\n",
    "  filter(grepl(\"uncharacterized\", name)) %>% # pull out anything that is uncharacterized\n",
    "dim() # 37 genes are uncharacterized"
   ]
  },
  {
   "cell_type": "markdown",
   "id": "511e2d4f-1152-45ec-83f3-2ed2b5284e3e",
   "metadata": {},
   "source": [
    "### shared between HH vs. HC and CH vs. HC"
   ]
  },
  {
   "cell_type": "code",
   "execution_count": 64,
   "id": "f4684f9a-2ca1-4374-829a-3e6cf0f8ee27",
   "metadata": {},
   "outputs": [
    {
     "data": {
      "text/html": [
       "<table class=\"dataframe\">\n",
       "<caption>A data.frame: 17 × 3</caption>\n",
       "<thead>\n",
       "\t<tr><th scope=col>Term</th><th scope=col>n</th><th scope=col>Percent</th></tr>\n",
       "\t<tr><th scope=col>&lt;chr&gt;</th><th scope=col>&lt;int&gt;</th><th scope=col>&lt;dbl&gt;</th></tr>\n",
       "</thead>\n",
       "<tbody>\n",
       "\t<tr><td>NA                                                    </td><td>30</td><td>55.56</td></tr>\n",
       "\t<tr><td>signaling                                             </td><td> 3</td><td> 5.56</td></tr>\n",
       "\t<tr><td>amino acid metabolic process                          </td><td> 2</td><td> 3.70</td></tr>\n",
       "\t<tr><td>carbohydrate derivative metabolic process             </td><td> 2</td><td> 3.70</td></tr>\n",
       "\t<tr><td>intracellular protein transport                       </td><td> 2</td><td> 3.70</td></tr>\n",
       "\t<tr><td>lipid metabolic process                               </td><td> 2</td><td> 3.70</td></tr>\n",
       "\t<tr><td>mRNA metabolic process                                </td><td> 2</td><td> 3.70</td></tr>\n",
       "\t<tr><td>protein-containing complex assembly                   </td><td> 2</td><td> 3.70</td></tr>\n",
       "\t<tr><td>DNA replication                                       </td><td> 1</td><td> 1.85</td></tr>\n",
       "\t<tr><td>anatomical structure development                      </td><td> 1</td><td> 1.85</td></tr>\n",
       "\t<tr><td>cytoskeleton organization                             </td><td> 1</td><td> 1.85</td></tr>\n",
       "\t<tr><td>mitochondrial gene expression                         </td><td> 1</td><td> 1.85</td></tr>\n",
       "\t<tr><td>mitotic cell cycle                                    </td><td> 1</td><td> 1.85</td></tr>\n",
       "\t<tr><td>nucleobase-containing small molecule metabolic process</td><td> 1</td><td> 1.85</td></tr>\n",
       "\t<tr><td>protein catabolic process                             </td><td> 1</td><td> 1.85</td></tr>\n",
       "\t<tr><td>regulatory ncRNA-mediated gene silencing              </td><td> 1</td><td> 1.85</td></tr>\n",
       "\t<tr><td>ribosome biogenesis                                   </td><td> 1</td><td> 1.85</td></tr>\n",
       "</tbody>\n",
       "</table>\n"
      ],
      "text/latex": [
       "A data.frame: 17 × 3\n",
       "\\begin{tabular}{lll}\n",
       " Term & n & Percent\\\\\n",
       " <chr> & <int> & <dbl>\\\\\n",
       "\\hline\n",
       "\t NA                                                     & 30 & 55.56\\\\\n",
       "\t signaling                                              &  3 &  5.56\\\\\n",
       "\t amino acid metabolic process                           &  2 &  3.70\\\\\n",
       "\t carbohydrate derivative metabolic process              &  2 &  3.70\\\\\n",
       "\t intracellular protein transport                        &  2 &  3.70\\\\\n",
       "\t lipid metabolic process                                &  2 &  3.70\\\\\n",
       "\t mRNA metabolic process                                 &  2 &  3.70\\\\\n",
       "\t protein-containing complex assembly                    &  2 &  3.70\\\\\n",
       "\t DNA replication                                        &  1 &  1.85\\\\\n",
       "\t anatomical structure development                       &  1 &  1.85\\\\\n",
       "\t cytoskeleton organization                              &  1 &  1.85\\\\\n",
       "\t mitochondrial gene expression                          &  1 &  1.85\\\\\n",
       "\t mitotic cell cycle                                     &  1 &  1.85\\\\\n",
       "\t nucleobase-containing small molecule metabolic process &  1 &  1.85\\\\\n",
       "\t protein catabolic process                              &  1 &  1.85\\\\\n",
       "\t regulatory ncRNA-mediated gene silencing               &  1 &  1.85\\\\\n",
       "\t ribosome biogenesis                                    &  1 &  1.85\\\\\n",
       "\\end{tabular}\n"
      ],
      "text/markdown": [
       "\n",
       "A data.frame: 17 × 3\n",
       "\n",
       "| Term &lt;chr&gt; | n &lt;int&gt; | Percent &lt;dbl&gt; |\n",
       "|---|---|---|\n",
       "| NA                                                     | 30 | 55.56 |\n",
       "| signaling                                              |  3 |  5.56 |\n",
       "| amino acid metabolic process                           |  2 |  3.70 |\n",
       "| carbohydrate derivative metabolic process              |  2 |  3.70 |\n",
       "| intracellular protein transport                        |  2 |  3.70 |\n",
       "| lipid metabolic process                                |  2 |  3.70 |\n",
       "| mRNA metabolic process                                 |  2 |  3.70 |\n",
       "| protein-containing complex assembly                    |  2 |  3.70 |\n",
       "| DNA replication                                        |  1 |  1.85 |\n",
       "| anatomical structure development                       |  1 |  1.85 |\n",
       "| cytoskeleton organization                              |  1 |  1.85 |\n",
       "| mitochondrial gene expression                          |  1 |  1.85 |\n",
       "| mitotic cell cycle                                     |  1 |  1.85 |\n",
       "| nucleobase-containing small molecule metabolic process |  1 |  1.85 |\n",
       "| protein catabolic process                              |  1 |  1.85 |\n",
       "| regulatory ncRNA-mediated gene silencing               |  1 |  1.85 |\n",
       "| ribosome biogenesis                                    |  1 |  1.85 |\n",
       "\n"
      ],
      "text/plain": [
       "   Term                                                   n  Percent\n",
       "1  NA                                                     30 55.56  \n",
       "2  signaling                                               3  5.56  \n",
       "3  amino acid metabolic process                            2  3.70  \n",
       "4  carbohydrate derivative metabolic process               2  3.70  \n",
       "5  intracellular protein transport                         2  3.70  \n",
       "6  lipid metabolic process                                 2  3.70  \n",
       "7  mRNA metabolic process                                  2  3.70  \n",
       "8  protein-containing complex assembly                     2  3.70  \n",
       "9  DNA replication                                         1  1.85  \n",
       "10 anatomical structure development                        1  1.85  \n",
       "11 cytoskeleton organization                               1  1.85  \n",
       "12 mitochondrial gene expression                           1  1.85  \n",
       "13 mitotic cell cycle                                      1  1.85  \n",
       "14 nucleobase-containing small molecule metabolic process  1  1.85  \n",
       "15 protein catabolic process                               1  1.85  \n",
       "16 regulatory ncRNA-mediated gene silencing                1  1.85  \n",
       "17 ribosome biogenesis                                     1  1.85  "
      ]
     },
     "metadata": {},
     "output_type": "display_data"
    }
   ],
   "source": [
    "shared3 <- noDupe %>%\n",
    "filter(pair_vs_HC == 'CH, HH') %>%\n",
    "count(Term) %>%\n",
    "mutate(Percent = round((n / sum(n)) * 100, 2)) %>%\n",
    "arrange(desc(n))\n",
    "\n",
    "shared3"
   ]
  },
  {
   "cell_type": "code",
   "execution_count": 66,
   "id": "04ffc829-ff4e-4058-b55b-9cf3c0228a89",
   "metadata": {},
   "outputs": [
    {
     "data": {
      "text/html": [
       "<table class=\"dataframe\">\n",
       "<caption>A tibble: 13 × 3</caption>\n",
       "<thead>\n",
       "\t<tr><th scope=col>Term</th><th scope=col>n</th><th scope=col>Percent</th></tr>\n",
       "\t<tr><th scope=col>&lt;chr&gt;</th><th scope=col>&lt;int&gt;</th><th scope=col>&lt;dbl&gt;</th></tr>\n",
       "</thead>\n",
       "<tbody>\n",
       "\t<tr><td>NA                                      </td><td>30</td><td>55.56</td></tr>\n",
       "\t<tr><td>metabolic processes                     </td><td> 9</td><td>16.65</td></tr>\n",
       "\t<tr><td>signaling                               </td><td> 3</td><td> 5.56</td></tr>\n",
       "\t<tr><td>intracellular protein transport         </td><td> 2</td><td> 3.70</td></tr>\n",
       "\t<tr><td>protein-containing complex assembly     </td><td> 2</td><td> 3.70</td></tr>\n",
       "\t<tr><td>DNA replication                         </td><td> 1</td><td> 1.85</td></tr>\n",
       "\t<tr><td>anatomical structure development        </td><td> 1</td><td> 1.85</td></tr>\n",
       "\t<tr><td>cytoskeleton organization               </td><td> 1</td><td> 1.85</td></tr>\n",
       "\t<tr><td>mitochondrial gene expression           </td><td> 1</td><td> 1.85</td></tr>\n",
       "\t<tr><td>mitotic cell cycle                      </td><td> 1</td><td> 1.85</td></tr>\n",
       "\t<tr><td>protein catabolic process               </td><td> 1</td><td> 1.85</td></tr>\n",
       "\t<tr><td>regulatory ncRNA-mediated gene silencing</td><td> 1</td><td> 1.85</td></tr>\n",
       "\t<tr><td>ribosome biogenesis                     </td><td> 1</td><td> 1.85</td></tr>\n",
       "</tbody>\n",
       "</table>\n"
      ],
      "text/latex": [
       "A tibble: 13 × 3\n",
       "\\begin{tabular}{lll}\n",
       " Term & n & Percent\\\\\n",
       " <chr> & <int> & <dbl>\\\\\n",
       "\\hline\n",
       "\t NA                                       & 30 & 55.56\\\\\n",
       "\t metabolic processes                      &  9 & 16.65\\\\\n",
       "\t signaling                                &  3 &  5.56\\\\\n",
       "\t intracellular protein transport          &  2 &  3.70\\\\\n",
       "\t protein-containing complex assembly      &  2 &  3.70\\\\\n",
       "\t DNA replication                          &  1 &  1.85\\\\\n",
       "\t anatomical structure development         &  1 &  1.85\\\\\n",
       "\t cytoskeleton organization                &  1 &  1.85\\\\\n",
       "\t mitochondrial gene expression            &  1 &  1.85\\\\\n",
       "\t mitotic cell cycle                       &  1 &  1.85\\\\\n",
       "\t protein catabolic process                &  1 &  1.85\\\\\n",
       "\t regulatory ncRNA-mediated gene silencing &  1 &  1.85\\\\\n",
       "\t ribosome biogenesis                      &  1 &  1.85\\\\\n",
       "\\end{tabular}\n"
      ],
      "text/markdown": [
       "\n",
       "A tibble: 13 × 3\n",
       "\n",
       "| Term &lt;chr&gt; | n &lt;int&gt; | Percent &lt;dbl&gt; |\n",
       "|---|---|---|\n",
       "| NA                                       | 30 | 55.56 |\n",
       "| metabolic processes                      |  9 | 16.65 |\n",
       "| signaling                                |  3 |  5.56 |\n",
       "| intracellular protein transport          |  2 |  3.70 |\n",
       "| protein-containing complex assembly      |  2 |  3.70 |\n",
       "| DNA replication                          |  1 |  1.85 |\n",
       "| anatomical structure development         |  1 |  1.85 |\n",
       "| cytoskeleton organization                |  1 |  1.85 |\n",
       "| mitochondrial gene expression            |  1 |  1.85 |\n",
       "| mitotic cell cycle                       |  1 |  1.85 |\n",
       "| protein catabolic process                |  1 |  1.85 |\n",
       "| regulatory ncRNA-mediated gene silencing |  1 |  1.85 |\n",
       "| ribosome biogenesis                      |  1 |  1.85 |\n",
       "\n"
      ],
      "text/plain": [
       "   Term                                     n  Percent\n",
       "1  NA                                       30 55.56  \n",
       "2  metabolic processes                       9 16.65  \n",
       "3  signaling                                 3  5.56  \n",
       "4  intracellular protein transport           2  3.70  \n",
       "5  protein-containing complex assembly       2  3.70  \n",
       "6  DNA replication                           1  1.85  \n",
       "7  anatomical structure development          1  1.85  \n",
       "8  cytoskeleton organization                 1  1.85  \n",
       "9  mitochondrial gene expression             1  1.85  \n",
       "10 mitotic cell cycle                        1  1.85  \n",
       "11 protein catabolic process                 1  1.85  \n",
       "12 regulatory ncRNA-mediated gene silencing  1  1.85  \n",
       "13 ribosome biogenesis                       1  1.85  "
      ]
     },
     "metadata": {},
     "output_type": "display_data"
    }
   ],
   "source": [
    "shared3 %>%\n",
    "  mutate(Term = case_when(\n",
    "    str_detect(Term, \"metabolic\") ~ \"metabolic processes\",\n",
    "    TRUE ~ Term\n",
    "  )) %>%\n",
    "  group_by(Term) %>%\n",
    "  summarise(n = sum(n), Percent = sum(Percent)) %>%\n",
    "arrange(desc(n))"
   ]
  }
 ],
 "metadata": {
  "kernelspec": {
   "display_name": "R [conda env:.conda-r-env]",
   "language": "R",
   "name": "conda-env-.conda-r-env-r"
  },
  "language_info": {
   "codemirror_mode": "r",
   "file_extension": ".r",
   "mimetype": "text/x-r-source",
   "name": "R",
   "pygments_lexer": "r",
   "version": "4.3.2"
  }
 },
 "nbformat": 4,
 "nbformat_minor": 5
}
