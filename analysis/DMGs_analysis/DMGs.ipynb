{
 "cells": [
  {
   "cell_type": "markdown",
   "id": "537c59ab-39a1-4453-8bf7-b0bd4f50fb78",
   "metadata": {},
   "source": [
    "# investigating hypoxic control treatment\n",
    "\n",
    "this treatment resulted in 3 pairwise comparisons with DMGs - interested if all of these DMGs are unique to hypoxia control (HC)"
   ]
  },
  {
   "cell_type": "code",
   "execution_count": 1,
   "id": "54a9b643-5704-42a5-b1bd-bb01898eeefd",
   "metadata": {},
   "outputs": [
    {
     "name": "stderr",
     "output_type": "stream",
     "text": [
      "── \u001b[1mAttaching core tidyverse packages\u001b[22m ──────────────────────── tidyverse 2.0.0 ──\n",
      "\u001b[32m✔\u001b[39m \u001b[34mdplyr    \u001b[39m 1.1.4     \u001b[32m✔\u001b[39m \u001b[34mreadr    \u001b[39m 2.1.4\n",
      "\u001b[32m✔\u001b[39m \u001b[34mforcats  \u001b[39m 1.0.0     \u001b[32m✔\u001b[39m \u001b[34mstringr  \u001b[39m 1.5.1\n",
      "\u001b[32m✔\u001b[39m \u001b[34mggplot2  \u001b[39m 3.5.1     \u001b[32m✔\u001b[39m \u001b[34mtibble   \u001b[39m 3.2.1\n",
      "\u001b[32m✔\u001b[39m \u001b[34mlubridate\u001b[39m 1.9.3     \u001b[32m✔\u001b[39m \u001b[34mtidyr    \u001b[39m 1.3.0\n",
      "\u001b[32m✔\u001b[39m \u001b[34mpurrr    \u001b[39m 1.0.2     \n",
      "── \u001b[1mConflicts\u001b[22m ────────────────────────────────────────── tidyverse_conflicts() ──\n",
      "\u001b[31m✖\u001b[39m \u001b[34mdplyr\u001b[39m::\u001b[32mfilter()\u001b[39m masks \u001b[34mstats\u001b[39m::filter()\n",
      "\u001b[31m✖\u001b[39m \u001b[34mdplyr\u001b[39m::\u001b[32mlag()\u001b[39m    masks \u001b[34mstats\u001b[39m::lag()\n",
      "\u001b[36mℹ\u001b[39m Use the conflicted package (\u001b[3m\u001b[34m<http://conflicted.r-lib.org/>\u001b[39m\u001b[23m) to force all conflicts to become errors\n",
      "Loading required package: grid\n",
      "\n",
      "Loading required package: BiocGenerics\n",
      "\n",
      "\n",
      "Attaching package: ‘BiocGenerics’\n",
      "\n",
      "\n",
      "The following objects are masked from ‘package:lubridate’:\n",
      "\n",
      "    intersect, setdiff, union\n",
      "\n",
      "\n",
      "The following objects are masked from ‘package:dplyr’:\n",
      "\n",
      "    combine, intersect, setdiff, union\n",
      "\n",
      "\n",
      "The following objects are masked from ‘package:stats’:\n",
      "\n",
      "    IQR, mad, sd, var, xtabs\n",
      "\n",
      "\n",
      "The following objects are masked from ‘package:base’:\n",
      "\n",
      "    anyDuplicated, aperm, append, as.data.frame, basename, cbind,\n",
      "    colnames, dirname, do.call, duplicated, eval, evalq, Filter, Find,\n",
      "    get, grep, grepl, intersect, is.unsorted, lapply, Map, mapply,\n",
      "    match, mget, order, paste, pmax, pmax.int, pmin, pmin.int,\n",
      "    Position, rank, rbind, Reduce, rownames, sapply, setdiff, sort,\n",
      "    table, tapply, union, unique, unsplit, which.max, which.min\n",
      "\n",
      "\n",
      "Loading required package: graph\n",
      "\n",
      "\n",
      "Attaching package: ‘graph’\n",
      "\n",
      "\n",
      "The following object is masked from ‘package:stringr’:\n",
      "\n",
      "    boundary\n",
      "\n",
      "\n",
      "Loading required package: Biobase\n",
      "\n",
      "Welcome to Bioconductor\n",
      "\n",
      "    Vignettes contain introductory material; view with\n",
      "    'browseVignettes()'. To cite Bioconductor, see\n",
      "    'citation(\"Biobase\")', and for packages 'citation(\"pkgname\")'.\n",
      "\n",
      "\n",
      "Loading required package: GO.db\n",
      "\n",
      "Loading required package: AnnotationDbi\n",
      "\n",
      "Loading required package: stats4\n",
      "\n",
      "Loading required package: IRanges\n",
      "\n",
      "Loading required package: S4Vectors\n",
      "\n",
      "\n",
      "Attaching package: ‘S4Vectors’\n",
      "\n",
      "\n",
      "The following objects are masked from ‘package:lubridate’:\n",
      "\n",
      "    second, second<-\n",
      "\n",
      "\n",
      "The following objects are masked from ‘package:dplyr’:\n",
      "\n",
      "    first, rename\n",
      "\n",
      "\n",
      "The following object is masked from ‘package:tidyr’:\n",
      "\n",
      "    expand\n",
      "\n",
      "\n",
      "The following object is masked from ‘package:utils’:\n",
      "\n",
      "    findMatches\n",
      "\n",
      "\n",
      "The following objects are masked from ‘package:base’:\n",
      "\n",
      "    expand.grid, I, unname\n",
      "\n",
      "\n",
      "\n",
      "Attaching package: ‘IRanges’\n",
      "\n",
      "\n",
      "The following object is masked from ‘package:lubridate’:\n",
      "\n",
      "    %within%\n",
      "\n",
      "\n",
      "The following objects are masked from ‘package:dplyr’:\n",
      "\n",
      "    collapse, desc, slice\n",
      "\n",
      "\n",
      "The following object is masked from ‘package:purrr’:\n",
      "\n",
      "    reduce\n",
      "\n",
      "\n",
      "\n",
      "Attaching package: ‘AnnotationDbi’\n",
      "\n",
      "\n",
      "The following object is masked from ‘package:dplyr’:\n",
      "\n",
      "    select\n",
      "\n",
      "\n",
      "\n",
      "\n",
      "Loading required package: SparseM\n",
      "\n",
      "\n",
      "Attaching package: ‘SparseM’\n",
      "\n",
      "\n",
      "The following object is masked from ‘package:base’:\n",
      "\n",
      "    backsolve\n",
      "\n",
      "\n",
      "\n",
      "groupGOTerms: \tGOBPTerm, GOMFTerm, GOCCTerm environments built.\n",
      "\n",
      "\n",
      "Attaching package: ‘topGO’\n",
      "\n",
      "\n",
      "The following object is masked from ‘package:IRanges’:\n",
      "\n",
      "    members\n",
      "\n",
      "\n",
      "The following object is masked from ‘package:grid’:\n",
      "\n",
      "    depth\n",
      "\n",
      "\n",
      "clusterProfiler v4.10.0  For help: https://yulab-smu.top/biomedical-knowledge-mining-book/\n",
      "\n",
      "If you use clusterProfiler in published research, please cite:\n",
      "T Wu, E Hu, S Xu, M Chen, P Guo, Z Dai, T Feng, L Zhou, W Tang, L Zhan, X Fu, S Liu, X Bo, and G Yu. clusterProfiler 4.0: A universal enrichment tool for interpreting omics data. The Innovation. 2021, 2(3):100141\n",
      "\n",
      "\n",
      "Attaching package: ‘clusterProfiler’\n",
      "\n",
      "\n",
      "The following object is masked from ‘package:AnnotationDbi’:\n",
      "\n",
      "    select\n",
      "\n",
      "\n",
      "The following object is masked from ‘package:IRanges’:\n",
      "\n",
      "    slice\n",
      "\n",
      "\n",
      "The following object is masked from ‘package:S4Vectors’:\n",
      "\n",
      "    rename\n",
      "\n",
      "\n",
      "The following object is masked from ‘package:purrr’:\n",
      "\n",
      "    simplify\n",
      "\n",
      "\n",
      "The following object is masked from ‘package:stats’:\n",
      "\n",
      "    filter\n",
      "\n",
      "\n",
      "\n",
      "Attaching package: ‘httr’\n",
      "\n",
      "\n",
      "The following object is masked from ‘package:Biobase’:\n",
      "\n",
      "    content\n",
      "\n",
      "\n"
     ]
    }
   ],
   "source": [
    "library(tidyverse)\n",
    "library(ggvenn)\n",
    "library(dplyr)\n",
    "library(RColorBrewer)\n",
    "\n",
    "###### for KEGG analysis ######\n",
    "library(topGO)\n",
    "library(KEGGREST)\n",
    "library(clusterProfiler)\n",
    "library(ggridges)\n",
    "library(httr)"
   ]
  },
  {
   "cell_type": "markdown",
   "id": "8c2ec5de-e345-4ee0-bb71-5aa4e7e15377",
   "metadata": {},
   "source": [
    "### loading and formatting"
   ]
  },
  {
   "cell_type": "code",
   "execution_count": 3,
   "id": "f223e2ef-11ca-45fd-be9a-8fb16996af66",
   "metadata": {},
   "outputs": [],
   "source": [
    "# importing csv files\n",
    "\n",
    "#1 control control vs. hypoxic control\n",
    "CC_HC <- read.csv('/project/pi_sarah_gignouxwolfsohn_uml_edu/julia/CE_MethylRAD_analysis_2018/analysis/deseq_res_files/CC_vs_HC.csv')\n",
    "\n",
    "#2 control hypoxic vs. hypoxic control\n",
    "CH_HC <- read.csv('/project/pi_sarah_gignouxwolfsohn_uml_edu/julia/CE_MethylRAD_analysis_2018/analysis/deseq_res_files/CH_vs_HC.csv')\n",
    "\n",
    "#3 hypoxic hypoxic vs. hypoxic control\n",
    "HH_HC <- read.csv('/project/pi_sarah_gignouxwolfsohn_uml_edu/julia/CE_MethylRAD_analysis_2018/analysis/deseq_res_files/HH_vs_HC.csv')\n",
    "\n",
    "#######################################\n",
    "\n",
    "#4 hypoxic hypoxic vs. control hypoxic\n",
    "HH_CH <- read.csv('/project/pi_sarah_gignouxwolfsohn_uml_edu/julia/CE_MethylRAD_analysis_2018/analysis/deseq_res_files/HH_vs_CH.csv')\n",
    "\n",
    "#5 hypoxic hypoxic vs. control control\n",
    "HH_CC <- read.csv('/project/pi_sarah_gignouxwolfsohn_uml_edu/julia/CE_MethylRAD_analysis_2018/analysis/deseq_res_files/CC_vs_HH.csv')\n",
    "\n",
    "#6 control control vs. control hypoxic\n",
    "CC_CH <- read.csv('/project/pi_sarah_gignouxwolfsohn_uml_edu/julia/CE_MethylRAD_analysis_2018/analysis/deseq_res_files/CC_vs_CH.csv')\n"
   ]
  },
  {
   "cell_type": "markdown",
   "id": "08afbdbf-e471-4803-99ff-8d181c50e264",
   "metadata": {},
   "source": [
    "pulling out significant DMGs for the three pairwise comparisons with HC (adjusted p-value < 0.05)"
   ]
  },
  {
   "cell_type": "code",
   "execution_count": 4,
   "id": "18aab80e-5ba0-4058-8a44-2b139079fa0a",
   "metadata": {},
   "outputs": [
    {
     "data": {
      "text/html": [
       "<style>\n",
       ".list-inline {list-style: none; margin:0; padding: 0}\n",
       ".list-inline>li {display: inline-block}\n",
       ".list-inline>li:not(:last-child)::after {content: \"\\00b7\"; padding: 0 .5ex}\n",
       "</style>\n",
       "<ol class=list-inline><li>12</li><li>7</li></ol>\n"
      ],
      "text/latex": [
       "\\begin{enumerate*}\n",
       "\\item 12\n",
       "\\item 7\n",
       "\\end{enumerate*}\n"
      ],
      "text/markdown": [
       "1. 12\n",
       "2. 7\n",
       "\n",
       "\n"
      ],
      "text/plain": [
       "[1] 12  7"
      ]
     },
     "metadata": {},
     "output_type": "display_data"
    },
    {
     "data": {
      "text/html": [
       "<style>\n",
       ".list-inline {list-style: none; margin:0; padding: 0}\n",
       ".list-inline>li {display: inline-block}\n",
       ".list-inline>li:not(:last-child)::after {content: \"\\00b7\"; padding: 0 .5ex}\n",
       "</style>\n",
       "<ol class=list-inline><li>196</li><li>7</li></ol>\n"
      ],
      "text/latex": [
       "\\begin{enumerate*}\n",
       "\\item 196\n",
       "\\item 7\n",
       "\\end{enumerate*}\n"
      ],
      "text/markdown": [
       "1. 196\n",
       "2. 7\n",
       "\n",
       "\n"
      ],
      "text/plain": [
       "[1] 196   7"
      ]
     },
     "metadata": {},
     "output_type": "display_data"
    },
    {
     "data": {
      "text/html": [
       "<style>\n",
       ".list-inline {list-style: none; margin:0; padding: 0}\n",
       ".list-inline>li {display: inline-block}\n",
       ".list-inline>li:not(:last-child)::after {content: \"\\00b7\"; padding: 0 .5ex}\n",
       "</style>\n",
       "<ol class=list-inline><li>77</li><li>7</li></ol>\n"
      ],
      "text/latex": [
       "\\begin{enumerate*}\n",
       "\\item 77\n",
       "\\item 7\n",
       "\\end{enumerate*}\n"
      ],
      "text/markdown": [
       "1. 77\n",
       "2. 7\n",
       "\n",
       "\n"
      ],
      "text/plain": [
       "[1] 77  7"
      ]
     },
     "metadata": {},
     "output_type": "display_data"
    }
   ],
   "source": [
    "# significant DMGs\n",
    "\n",
    "# 1. control control vs. hypoxic control\n",
    "sig_CC_HC <- filter(CC_HC, CC_HC$padj < 0.05)\n",
    "dim(sig_CC_HC) # 20 total sig DMGs\n",
    "\n",
    "# 2. control hypoxic vs. hypoxic control\n",
    "sig_CH_HC <- filter(CH_HC, CH_HC$padj < 0.05)\n",
    "dim(sig_CH_HC) # 258 total sig DMGs\n",
    "\n",
    "# 3. hypoxic hypoxic vs. hypoxic control\n",
    "sig_HH_HC <- filter(HH_HC, HH_HC$padj < 0.05)\n",
    "dim(sig_HH_HC) # 124 total sig DMGs"
   ]
  },
  {
   "cell_type": "code",
   "execution_count": 5,
   "id": "6a0df43b-d31f-4b2f-999a-804da0a05317",
   "metadata": {},
   "outputs": [
    {
     "data": {
      "text/html": [
       "<style>\n",
       ".list-inline {list-style: none; margin:0; padding: 0}\n",
       ".list-inline>li {display: inline-block}\n",
       ".list-inline>li:not(:last-child)::after {content: \"\\00b7\"; padding: 0 .5ex}\n",
       "</style>\n",
       "<ol class=list-inline><li>0</li><li>7</li></ol>\n"
      ],
      "text/latex": [
       "\\begin{enumerate*}\n",
       "\\item 0\n",
       "\\item 7\n",
       "\\end{enumerate*}\n"
      ],
      "text/markdown": [
       "1. 0\n",
       "2. 7\n",
       "\n",
       "\n"
      ],
      "text/plain": [
       "[1] 0 7"
      ]
     },
     "metadata": {},
     "output_type": "display_data"
    },
    {
     "data": {
      "text/html": [
       "<style>\n",
       ".list-inline {list-style: none; margin:0; padding: 0}\n",
       ".list-inline>li {display: inline-block}\n",
       ".list-inline>li:not(:last-child)::after {content: \"\\00b7\"; padding: 0 .5ex}\n",
       "</style>\n",
       "<ol class=list-inline><li>1</li><li>7</li></ol>\n"
      ],
      "text/latex": [
       "\\begin{enumerate*}\n",
       "\\item 1\n",
       "\\item 7\n",
       "\\end{enumerate*}\n"
      ],
      "text/markdown": [
       "1. 1\n",
       "2. 7\n",
       "\n",
       "\n"
      ],
      "text/plain": [
       "[1] 1 7"
      ]
     },
     "metadata": {},
     "output_type": "display_data"
    },
    {
     "data": {
      "text/html": [
       "<style>\n",
       ".list-inline {list-style: none; margin:0; padding: 0}\n",
       ".list-inline>li {display: inline-block}\n",
       ".list-inline>li:not(:last-child)::after {content: \"\\00b7\"; padding: 0 .5ex}\n",
       "</style>\n",
       "<ol class=list-inline><li>1</li><li>7</li></ol>\n"
      ],
      "text/latex": [
       "\\begin{enumerate*}\n",
       "\\item 1\n",
       "\\item 7\n",
       "\\end{enumerate*}\n"
      ],
      "text/markdown": [
       "1. 1\n",
       "2. 7\n",
       "\n",
       "\n"
      ],
      "text/plain": [
       "[1] 1 7"
      ]
     },
     "metadata": {},
     "output_type": "display_data"
    }
   ],
   "source": [
    "# significant DMGs\n",
    "\n",
    "# 4. hypoxic hypoxic vs. control hypoxic\n",
    "sig_HH_CH <- filter(HH_CH, HH_CH$padj < 0.05)\n",
    "dim(sig_HH_CH) # 0 total sig DMGs\n",
    "\n",
    "# 5. hypoxic hypoxic vs. control control\n",
    "sig_HH_CC <- filter(HH_CC, HH_CC$padj < 0.05)\n",
    "dim(sig_HH_CC) # 2 total sig DMGs\n",
    "\n",
    "# 6. control control vs. control hypoxic\n",
    "sig_CC_CH <- filter(CC_CH, CC_CH$padj < 0.05)\n",
    "dim(sig_CC_CH) # 1 total sig DMGs"
   ]
  },
  {
   "cell_type": "code",
   "execution_count": 6,
   "id": "990896ff-ea80-415c-8c91-637e64cb9551",
   "metadata": {},
   "outputs": [
    {
     "data": {
      "text/html": [
       "<table class=\"dataframe\">\n",
       "<caption>A data.frame: 1 × 7</caption>\n",
       "<thead>\n",
       "\t<tr><th scope=col>X</th><th scope=col>baseMean</th><th scope=col>log2FoldChange</th><th scope=col>lfcSE</th><th scope=col>stat</th><th scope=col>pvalue</th><th scope=col>padj</th></tr>\n",
       "\t<tr><th scope=col>&lt;chr&gt;</th><th scope=col>&lt;dbl&gt;</th><th scope=col>&lt;dbl&gt;</th><th scope=col>&lt;dbl&gt;</th><th scope=col>&lt;dbl&gt;</th><th scope=col>&lt;dbl&gt;</th><th scope=col>&lt;dbl&gt;</th></tr>\n",
       "</thead>\n",
       "<tbody>\n",
       "\t<tr><td>LOC111100699</td><td>13.59616</td><td>1.958284</td><td>0.3546143</td><td>4.817301</td><td>1.455128e-06</td><td>0.03538143</td></tr>\n",
       "</tbody>\n",
       "</table>\n"
      ],
      "text/latex": [
       "A data.frame: 1 × 7\n",
       "\\begin{tabular}{lllllll}\n",
       " X & baseMean & log2FoldChange & lfcSE & stat & pvalue & padj\\\\\n",
       " <chr> & <dbl> & <dbl> & <dbl> & <dbl> & <dbl> & <dbl>\\\\\n",
       "\\hline\n",
       "\t LOC111100699 & 13.59616 & 1.958284 & 0.3546143 & 4.817301 & 1.455128e-06 & 0.03538143\\\\\n",
       "\\end{tabular}\n"
      ],
      "text/markdown": [
       "\n",
       "A data.frame: 1 × 7\n",
       "\n",
       "| X &lt;chr&gt; | baseMean &lt;dbl&gt; | log2FoldChange &lt;dbl&gt; | lfcSE &lt;dbl&gt; | stat &lt;dbl&gt; | pvalue &lt;dbl&gt; | padj &lt;dbl&gt; |\n",
       "|---|---|---|---|---|---|---|\n",
       "| LOC111100699 | 13.59616 | 1.958284 | 0.3546143 | 4.817301 | 1.455128e-06 | 0.03538143 |\n",
       "\n"
      ],
      "text/plain": [
       "  X            baseMean log2FoldChange lfcSE     stat     pvalue      \n",
       "1 LOC111100699 13.59616 1.958284       0.3546143 4.817301 1.455128e-06\n",
       "  padj      \n",
       "1 0.03538143"
      ]
     },
     "metadata": {},
     "output_type": "display_data"
    }
   ],
   "source": [
    "sig_CC_CH"
   ]
  },
  {
   "cell_type": "code",
   "execution_count": 7,
   "id": "8d1000be-1451-4bbe-ad52-75558b8aefb8",
   "metadata": {},
   "outputs": [
    {
     "data": {
      "text/html": [
       "<table class=\"dataframe\">\n",
       "<caption>A data.frame: 1 × 7</caption>\n",
       "<thead>\n",
       "\t<tr><th scope=col>X</th><th scope=col>baseMean</th><th scope=col>log2FoldChange</th><th scope=col>lfcSE</th><th scope=col>stat</th><th scope=col>pvalue</th><th scope=col>padj</th></tr>\n",
       "\t<tr><th scope=col>&lt;chr&gt;</th><th scope=col>&lt;dbl&gt;</th><th scope=col>&lt;dbl&gt;</th><th scope=col>&lt;dbl&gt;</th><th scope=col>&lt;dbl&gt;</th><th scope=col>&lt;dbl&gt;</th><th scope=col>&lt;dbl&gt;</th></tr>\n",
       "</thead>\n",
       "<tbody>\n",
       "\t<tr><td>LOC111100699</td><td>13.59616</td><td>2.087349</td><td>0.3509947</td><td>5.234691</td><td>1.652615e-07</td><td>0.004018332</td></tr>\n",
       "</tbody>\n",
       "</table>\n"
      ],
      "text/latex": [
       "A data.frame: 1 × 7\n",
       "\\begin{tabular}{lllllll}\n",
       " X & baseMean & log2FoldChange & lfcSE & stat & pvalue & padj\\\\\n",
       " <chr> & <dbl> & <dbl> & <dbl> & <dbl> & <dbl> & <dbl>\\\\\n",
       "\\hline\n",
       "\t LOC111100699 & 13.59616 & 2.087349 & 0.3509947 & 5.234691 & 1.652615e-07 & 0.004018332\\\\\n",
       "\\end{tabular}\n"
      ],
      "text/markdown": [
       "\n",
       "A data.frame: 1 × 7\n",
       "\n",
       "| X &lt;chr&gt; | baseMean &lt;dbl&gt; | log2FoldChange &lt;dbl&gt; | lfcSE &lt;dbl&gt; | stat &lt;dbl&gt; | pvalue &lt;dbl&gt; | padj &lt;dbl&gt; |\n",
       "|---|---|---|---|---|---|---|\n",
       "| LOC111100699 | 13.59616 | 2.087349 | 0.3509947 | 5.234691 | 1.652615e-07 | 0.004018332 |\n",
       "\n"
      ],
      "text/plain": [
       "  X            baseMean log2FoldChange lfcSE     stat     pvalue      \n",
       "1 LOC111100699 13.59616 2.087349       0.3509947 5.234691 1.652615e-07\n",
       "  padj       \n",
       "1 0.004018332"
      ]
     },
     "metadata": {},
     "output_type": "display_data"
    }
   ],
   "source": [
    "sig_HH_CC"
   ]
  },
  {
   "cell_type": "markdown",
   "id": "a62fe3a2-00b9-4966-a330-cabf22764060",
   "metadata": {},
   "source": [
    "adding columns to the dfs - need to assign which direction the methylation is in order to assign colors in the plots - also adding a column to denote what the pairwise comparison is in case I end up combining dataframes and faceting by this later on... "
   ]
  },
  {
   "cell_type": "code",
   "execution_count": 6,
   "id": "df76bb72-ca27-45bf-9ee2-2242e22e84d5",
   "metadata": {},
   "outputs": [],
   "source": [
    "# column 'pair' to denote the pairwise comparison this data is originally from \n",
    "CC_HC$pair <- 'CC_HC' #1\n",
    "CH_HC$pair <- 'CH_HC' #2\n",
    "HH_HC$pair <- 'HH_HC' #3\n",
    "HH_CH$pair <- 'HH_CH' #4\n",
    "HH_CC$pair <- 'HH_CC' #5\n",
    "CC_CH$pair <- 'CC_CH' #6"
   ]
  },
  {
   "cell_type": "code",
   "execution_count": 7,
   "id": "b2d8ca26-2a57-450c-b295-9eb918ca44d3",
   "metadata": {},
   "outputs": [],
   "source": [
    "#1 control control vs. hypoxic control\n",
    "CC_HC$methyl <- ifelse(CC_HC$log2FoldChange<0 & CC_HC$padj < 0.05, \"CC\", \n",
    "                        ifelse(CC_HC$log2FoldChange>0 & CC_HC$padj < 0.05, \"HC\", \n",
    "                               \"not significant\"))\n",
    "\n",
    "#2 control hypoxic vs. hypoxic control\n",
    "CH_HC$methyl <- ifelse(CH_HC$log2FoldChange<0 & CH_HC$padj < 0.05, \"CH\", \n",
    "                        ifelse(CH_HC$log2FoldChange>0 & CH_HC$padj < 0.05, \"HC\", \n",
    "                               \"not significant\"))\n",
    "\n",
    "#3 hypoxic hypoxic vs. hypoxic control\n",
    "HH_HC$methyl <- ifelse(HH_HC$log2FoldChange<0 & HH_HC$padj < 0.05, \"HC\", \n",
    "                        ifelse(HH_HC$log2FoldChange>0 & HH_HC$padj < 0.05, \"HH\", \n",
    "                               \"not significant\"))\n",
    "\n",
    "#4 hypoxic hypoxic vs. control hypoxic\n",
    "HH_CH$methyl <- ifelse(HH_CH$log2FoldChange<0 & HH_CH$padj < 0.05, \"CH\",\n",
    "                        ifelse(HH_CH$log2FoldChange>0 & HH_CH$padj < 0.05, \"HH\", \n",
    "                               \"not significant\"))\n",
    "\n",
    "#5 hypoxic hypoxic vs. control control\n",
    "HH_CC$methyl <- ifelse(HH_CC$log2FoldChange<0 & HH_CC$padj < 0.05, \"CC\", \n",
    "                        ifelse(HH_CC$log2FoldChange>0 & HH_CC$padj < 0.05, \"HH\", \n",
    "                               \"not significant\"))\n",
    "\n",
    "\n",
    "\n",
    "#6 control control vs. control hypoxic\n",
    "CC_CH$methyl <- ifelse(CC_CH$log2FoldChange<0 & CC_CH$padj < 0.05, \"CC\", \n",
    "                        ifelse(CC_CH$log2FoldChange>0 & CC_CH$padj < 0.05, \"CH\", \n",
    "                               \"not significant\"))\n"
   ]
  },
  {
   "cell_type": "markdown",
   "id": "2ec0ee30-4596-47f7-8e99-6d9db5f45284",
   "metadata": {},
   "source": [
    "### add gene names/meta data to significant DMGs in pairwise comparisons\n",
    "\n",
    "From the Index of *C. virginica* genomes/annotations page ([link](https://ftp.ncbi.nlm.nih.gov/genomes/all/annotation_releases/6565/100/GCF_002022765.2_C_virginica-3.0/))\n",
    "\n",
    "I downloaded the file `GCF_002022765.2_C_virginica-3.0_feature_table` - since only the mRNA lines had gene names (gene products), I first removed empty rows for those and then removed duplicate rows for the gene_id - that csv is what is being loaded here, with the idea that I can provide a list of sig. genes from a pairwise comparison and add gene names to that list"
   ]
  },
  {
   "cell_type": "code",
   "execution_count": 9,
   "id": "11fed2de-7fff-41ba-8c7c-e55dff723f89",
   "metadata": {},
   "outputs": [
    {
     "data": {
      "text/html": [
       "<table class=\"dataframe\">\n",
       "<caption>A data.frame: 6 × 20</caption>\n",
       "<thead>\n",
       "\t<tr><th></th><th scope=col>X..feature</th><th scope=col>class</th><th scope=col>assembly</th><th scope=col>assembly_unit</th><th scope=col>seq_type</th><th scope=col>chromosome</th><th scope=col>genomic_accession</th><th scope=col>start</th><th scope=col>end</th><th scope=col>strand</th><th scope=col>product_accession</th><th scope=col>non.redundant_refseq</th><th scope=col>related_accession</th><th scope=col>name</th><th scope=col>symbol</th><th scope=col>GeneID</th><th scope=col>locus_tag</th><th scope=col>feature_interval_length</th><th scope=col>product_length</th><th scope=col>attributes</th></tr>\n",
       "\t<tr><th></th><th scope=col>&lt;chr&gt;</th><th scope=col>&lt;chr&gt;</th><th scope=col>&lt;chr&gt;</th><th scope=col>&lt;chr&gt;</th><th scope=col>&lt;chr&gt;</th><th scope=col>&lt;chr&gt;</th><th scope=col>&lt;chr&gt;</th><th scope=col>&lt;int&gt;</th><th scope=col>&lt;int&gt;</th><th scope=col>&lt;chr&gt;</th><th scope=col>&lt;chr&gt;</th><th scope=col>&lt;lgl&gt;</th><th scope=col>&lt;chr&gt;</th><th scope=col>&lt;chr&gt;</th><th scope=col>&lt;chr&gt;</th><th scope=col>&lt;int&gt;</th><th scope=col>&lt;lgl&gt;</th><th scope=col>&lt;int&gt;</th><th scope=col>&lt;int&gt;</th><th scope=col>&lt;chr&gt;</th></tr>\n",
       "</thead>\n",
       "<tbody>\n",
       "\t<tr><th scope=row>1</th><td>gene</td><td>lncRNA</td><td>GCF_002022765.2</td><td>Primary Assembly</td><td>chromosome</td><td>1</td><td>NC_035780.1</td><td> 13578</td><td> 14594</td><td>+</td><td>              </td><td>NA</td><td>              </td><td>                                              </td><td>LOC111116054</td><td>111116054</td><td>NA</td><td>1017</td><td>  NA</td><td>       </td></tr>\n",
       "\t<tr><th scope=row>2</th><td>mRNA</td><td>      </td><td>GCF_002022765.2</td><td>Primary Assembly</td><td>chromosome</td><td>1</td><td>NC_035780.1</td><td> 28961</td><td> 33324</td><td>+</td><td>XM_022471938.1</td><td>NA</td><td>XP_022327646.1</td><td>UNC5C-like protein                            </td><td>LOC111126949</td><td>111126949</td><td>NA</td><td>2254</td><td>2254</td><td>       </td></tr>\n",
       "\t<tr><th scope=row>3</th><td>mRNA</td><td>      </td><td>GCF_002022765.2</td><td>Primary Assembly</td><td>chromosome</td><td>1</td><td>NC_035780.1</td><td> 43111</td><td> 66897</td><td>-</td><td>XM_022447324.1</td><td>NA</td><td>XP_022303032.1</td><td>FMRFamide receptor-like, transcript variant X1</td><td>LOC111110729</td><td>111110729</td><td>NA</td><td>1489</td><td>1489</td><td>       </td></tr>\n",
       "\t<tr><th scope=row>4</th><td>mRNA</td><td>      </td><td>GCF_002022765.2</td><td>Primary Assembly</td><td>chromosome</td><td>1</td><td>NC_035780.1</td><td> 85606</td><td> 95254</td><td>-</td><td>XM_022449924.1</td><td>NA</td><td>XP_022305632.1</td><td>homeobox protein Hox-B7-like                  </td><td>LOC111112434</td><td>111112434</td><td>NA</td><td>1023</td><td>1023</td><td>       </td></tr>\n",
       "\t<tr><th scope=row>5</th><td>mRNA</td><td>      </td><td>GCF_002022765.2</td><td>Primary Assembly</td><td>chromosome</td><td>1</td><td>NC_035780.1</td><td> 99840</td><td>106460</td><td>+</td><td>XM_022461698.1</td><td>NA</td><td>XP_022317406.1</td><td>ribulose-phosphate 3-epimerase-like           </td><td>LOC111120752</td><td>111120752</td><td>NA</td><td>1070</td><td>1070</td><td>       </td></tr>\n",
       "\t<tr><th scope=row>6</th><td>mRNA</td><td>      </td><td>GCF_002022765.2</td><td>Primary Assembly</td><td>chromosome</td><td>1</td><td>NC_035780.1</td><td>108305</td><td>110077</td><td>-</td><td>XM_022474921.1</td><td>NA</td><td>XP_022330629.1</td><td>mucin-19-like                                 </td><td>LOC111128944</td><td>111128944</td><td>NA</td><td>1773</td><td>1773</td><td>partial</td></tr>\n",
       "</tbody>\n",
       "</table>\n"
      ],
      "text/latex": [
       "A data.frame: 6 × 20\n",
       "\\begin{tabular}{r|llllllllllllllllllll}\n",
       "  & X..feature & class & assembly & assembly\\_unit & seq\\_type & chromosome & genomic\\_accession & start & end & strand & product\\_accession & non.redundant\\_refseq & related\\_accession & name & symbol & GeneID & locus\\_tag & feature\\_interval\\_length & product\\_length & attributes\\\\\n",
       "  & <chr> & <chr> & <chr> & <chr> & <chr> & <chr> & <chr> & <int> & <int> & <chr> & <chr> & <lgl> & <chr> & <chr> & <chr> & <int> & <lgl> & <int> & <int> & <chr>\\\\\n",
       "\\hline\n",
       "\t1 & gene & lncRNA & GCF\\_002022765.2 & Primary Assembly & chromosome & 1 & NC\\_035780.1 &  13578 &  14594 & + &                & NA &                &                                                & LOC111116054 & 111116054 & NA & 1017 &   NA &        \\\\\n",
       "\t2 & mRNA &        & GCF\\_002022765.2 & Primary Assembly & chromosome & 1 & NC\\_035780.1 &  28961 &  33324 & + & XM\\_022471938.1 & NA & XP\\_022327646.1 & UNC5C-like protein                             & LOC111126949 & 111126949 & NA & 2254 & 2254 &        \\\\\n",
       "\t3 & mRNA &        & GCF\\_002022765.2 & Primary Assembly & chromosome & 1 & NC\\_035780.1 &  43111 &  66897 & - & XM\\_022447324.1 & NA & XP\\_022303032.1 & FMRFamide receptor-like, transcript variant X1 & LOC111110729 & 111110729 & NA & 1489 & 1489 &        \\\\\n",
       "\t4 & mRNA &        & GCF\\_002022765.2 & Primary Assembly & chromosome & 1 & NC\\_035780.1 &  85606 &  95254 & - & XM\\_022449924.1 & NA & XP\\_022305632.1 & homeobox protein Hox-B7-like                   & LOC111112434 & 111112434 & NA & 1023 & 1023 &        \\\\\n",
       "\t5 & mRNA &        & GCF\\_002022765.2 & Primary Assembly & chromosome & 1 & NC\\_035780.1 &  99840 & 106460 & + & XM\\_022461698.1 & NA & XP\\_022317406.1 & ribulose-phosphate 3-epimerase-like            & LOC111120752 & 111120752 & NA & 1070 & 1070 &        \\\\\n",
       "\t6 & mRNA &        & GCF\\_002022765.2 & Primary Assembly & chromosome & 1 & NC\\_035780.1 & 108305 & 110077 & - & XM\\_022474921.1 & NA & XP\\_022330629.1 & mucin-19-like                                  & LOC111128944 & 111128944 & NA & 1773 & 1773 & partial\\\\\n",
       "\\end{tabular}\n"
      ],
      "text/markdown": [
       "\n",
       "A data.frame: 6 × 20\n",
       "\n",
       "| <!--/--> | X..feature &lt;chr&gt; | class &lt;chr&gt; | assembly &lt;chr&gt; | assembly_unit &lt;chr&gt; | seq_type &lt;chr&gt; | chromosome &lt;chr&gt; | genomic_accession &lt;chr&gt; | start &lt;int&gt; | end &lt;int&gt; | strand &lt;chr&gt; | product_accession &lt;chr&gt; | non.redundant_refseq &lt;lgl&gt; | related_accession &lt;chr&gt; | name &lt;chr&gt; | symbol &lt;chr&gt; | GeneID &lt;int&gt; | locus_tag &lt;lgl&gt; | feature_interval_length &lt;int&gt; | product_length &lt;int&gt; | attributes &lt;chr&gt; |\n",
       "|---|---|---|---|---|---|---|---|---|---|---|---|---|---|---|---|---|---|---|---|---|\n",
       "| 1 | gene | lncRNA | GCF_002022765.2 | Primary Assembly | chromosome | 1 | NC_035780.1 |  13578 |  14594 | + | <!----> | NA | <!----> | <!----> | LOC111116054 | 111116054 | NA | 1017 |   NA | <!----> |\n",
       "| 2 | mRNA | <!----> | GCF_002022765.2 | Primary Assembly | chromosome | 1 | NC_035780.1 |  28961 |  33324 | + | XM_022471938.1 | NA | XP_022327646.1 | UNC5C-like protein                             | LOC111126949 | 111126949 | NA | 2254 | 2254 | <!----> |\n",
       "| 3 | mRNA | <!----> | GCF_002022765.2 | Primary Assembly | chromosome | 1 | NC_035780.1 |  43111 |  66897 | - | XM_022447324.1 | NA | XP_022303032.1 | FMRFamide receptor-like, transcript variant X1 | LOC111110729 | 111110729 | NA | 1489 | 1489 | <!----> |\n",
       "| 4 | mRNA | <!----> | GCF_002022765.2 | Primary Assembly | chromosome | 1 | NC_035780.1 |  85606 |  95254 | - | XM_022449924.1 | NA | XP_022305632.1 | homeobox protein Hox-B7-like                   | LOC111112434 | 111112434 | NA | 1023 | 1023 | <!----> |\n",
       "| 5 | mRNA | <!----> | GCF_002022765.2 | Primary Assembly | chromosome | 1 | NC_035780.1 |  99840 | 106460 | + | XM_022461698.1 | NA | XP_022317406.1 | ribulose-phosphate 3-epimerase-like            | LOC111120752 | 111120752 | NA | 1070 | 1070 | <!----> |\n",
       "| 6 | mRNA | <!----> | GCF_002022765.2 | Primary Assembly | chromosome | 1 | NC_035780.1 | 108305 | 110077 | - | XM_022474921.1 | NA | XP_022330629.1 | mucin-19-like                                  | LOC111128944 | 111128944 | NA | 1773 | 1773 | partial |\n",
       "\n"
      ],
      "text/plain": [
       "  X..feature class  assembly        assembly_unit    seq_type   chromosome\n",
       "1 gene       lncRNA GCF_002022765.2 Primary Assembly chromosome 1         \n",
       "2 mRNA              GCF_002022765.2 Primary Assembly chromosome 1         \n",
       "3 mRNA              GCF_002022765.2 Primary Assembly chromosome 1         \n",
       "4 mRNA              GCF_002022765.2 Primary Assembly chromosome 1         \n",
       "5 mRNA              GCF_002022765.2 Primary Assembly chromosome 1         \n",
       "6 mRNA              GCF_002022765.2 Primary Assembly chromosome 1         \n",
       "  genomic_accession start  end    strand product_accession non.redundant_refseq\n",
       "1 NC_035780.1        13578  14594 +                        NA                  \n",
       "2 NC_035780.1        28961  33324 +      XM_022471938.1    NA                  \n",
       "3 NC_035780.1        43111  66897 -      XM_022447324.1    NA                  \n",
       "4 NC_035780.1        85606  95254 -      XM_022449924.1    NA                  \n",
       "5 NC_035780.1        99840 106460 +      XM_022461698.1    NA                  \n",
       "6 NC_035780.1       108305 110077 -      XM_022474921.1    NA                  \n",
       "  related_accession name                                           symbol      \n",
       "1                                                                  LOC111116054\n",
       "2 XP_022327646.1    UNC5C-like protein                             LOC111126949\n",
       "3 XP_022303032.1    FMRFamide receptor-like, transcript variant X1 LOC111110729\n",
       "4 XP_022305632.1    homeobox protein Hox-B7-like                   LOC111112434\n",
       "5 XP_022317406.1    ribulose-phosphate 3-epimerase-like            LOC111120752\n",
       "6 XP_022330629.1    mucin-19-like                                  LOC111128944\n",
       "  GeneID    locus_tag feature_interval_length product_length attributes\n",
       "1 111116054 NA        1017                      NA                     \n",
       "2 111126949 NA        2254                    2254                     \n",
       "3 111110729 NA        1489                    1489                     \n",
       "4 111112434 NA        1023                    1023                     \n",
       "5 111120752 NA        1070                    1070                     \n",
       "6 111128944 NA        1773                    1773           partial   "
      ]
     },
     "metadata": {},
     "output_type": "display_data"
    }
   ],
   "source": [
    "gene_products <- read.csv('/project/pi_sarah_gignouxwolfsohn_uml_edu/julia/CE_MethylRAD_analysis_2018/analysis/counts_and_meta/GCF_CV_gene_products.csv')\n",
    "head(gene_products)"
   ]
  },
  {
   "cell_type": "code",
   "execution_count": 10,
   "id": "0cc59900-dc4e-47b7-abfc-2445191e53f4",
   "metadata": {},
   "outputs": [
    {
     "data": {
      "text/html": [
       "<table class=\"dataframe\">\n",
       "<caption>A data.frame: 6 × 8</caption>\n",
       "<thead>\n",
       "\t<tr><th></th><th scope=col>symbol</th><th scope=col>baseMean</th><th scope=col>log2FC</th><th scope=col>lfcSE</th><th scope=col>stat</th><th scope=col>pvalue</th><th scope=col>padj</th><th scope=col>name</th></tr>\n",
       "\t<tr><th></th><th scope=col>&lt;chr&gt;</th><th scope=col>&lt;dbl&gt;</th><th scope=col>&lt;dbl&gt;</th><th scope=col>&lt;dbl&gt;</th><th scope=col>&lt;dbl&gt;</th><th scope=col>&lt;dbl&gt;</th><th scope=col>&lt;dbl&gt;</th><th scope=col>&lt;chr&gt;</th></tr>\n",
       "</thead>\n",
       "<tbody>\n",
       "\t<tr><th scope=row>1</th><td>LOC111103344</td><td>497.52024</td><td>-1.193080</td><td>0.2105031</td><td>-4.480123</td><td>7.460015e-06</td><td>0.01869231</td><td>uncharacterized LOC111103344, transcript variant X7                                       </td></tr>\n",
       "\t<tr><th scope=row>2</th><td>LOC111115023</td><td> 20.27520</td><td>-1.349383</td><td>0.2740700</td><td>-4.011321</td><td>6.038007e-05</td><td>0.04126154</td><td>uncharacterized LOC111115023                                                              </td></tr>\n",
       "\t<tr><th scope=row>3</th><td>LOC111117745</td><td>123.41704</td><td>-1.135814</td><td>0.2070067</td><td>-4.279157</td><td>1.876021e-05</td><td>0.02350342</td><td>uncharacterized LOC111117745, transcript variant X5                                       </td></tr>\n",
       "\t<tr><th scope=row>4</th><td>LOC111117760</td><td>138.87250</td><td>-1.494878</td><td>0.2901102</td><td>-4.291052</td><td>1.778290e-05</td><td>0.02350342</td><td>disintegrin and metalloproteinase domain-containing protein 10-like, transcript variant X3</td></tr>\n",
       "\t<tr><th scope=row>5</th><td>LOC111118022</td><td> 19.27594</td><td>-1.664142</td><td>0.3486511</td><td>-4.056038</td><td>4.991215e-05</td><td>0.03751897</td><td>exocyst complex component 7-like, transcript variant X1                                   </td></tr>\n",
       "\t<tr><th scope=row>6</th><td>LOC111119327</td><td> 13.31739</td><td>-1.507178</td><td>0.3154716</td><td>-3.985075</td><td>6.745881e-05</td><td>0.04225732</td><td>calcyphosin-like protein, transcript variant X3                                           </td></tr>\n",
       "</tbody>\n",
       "</table>\n"
      ],
      "text/latex": [
       "A data.frame: 6 × 8\n",
       "\\begin{tabular}{r|llllllll}\n",
       "  & symbol & baseMean & log2FC & lfcSE & stat & pvalue & padj & name\\\\\n",
       "  & <chr> & <dbl> & <dbl> & <dbl> & <dbl> & <dbl> & <dbl> & <chr>\\\\\n",
       "\\hline\n",
       "\t1 & LOC111103344 & 497.52024 & -1.193080 & 0.2105031 & -4.480123 & 7.460015e-06 & 0.01869231 & uncharacterized LOC111103344, transcript variant X7                                       \\\\\n",
       "\t2 & LOC111115023 &  20.27520 & -1.349383 & 0.2740700 & -4.011321 & 6.038007e-05 & 0.04126154 & uncharacterized LOC111115023                                                              \\\\\n",
       "\t3 & LOC111117745 & 123.41704 & -1.135814 & 0.2070067 & -4.279157 & 1.876021e-05 & 0.02350342 & uncharacterized LOC111117745, transcript variant X5                                       \\\\\n",
       "\t4 & LOC111117760 & 138.87250 & -1.494878 & 0.2901102 & -4.291052 & 1.778290e-05 & 0.02350342 & disintegrin and metalloproteinase domain-containing protein 10-like, transcript variant X3\\\\\n",
       "\t5 & LOC111118022 &  19.27594 & -1.664142 & 0.3486511 & -4.056038 & 4.991215e-05 & 0.03751897 & exocyst complex component 7-like, transcript variant X1                                   \\\\\n",
       "\t6 & LOC111119327 &  13.31739 & -1.507178 & 0.3154716 & -3.985075 & 6.745881e-05 & 0.04225732 & calcyphosin-like protein, transcript variant X3                                           \\\\\n",
       "\\end{tabular}\n"
      ],
      "text/markdown": [
       "\n",
       "A data.frame: 6 × 8\n",
       "\n",
       "| <!--/--> | symbol &lt;chr&gt; | baseMean &lt;dbl&gt; | log2FC &lt;dbl&gt; | lfcSE &lt;dbl&gt; | stat &lt;dbl&gt; | pvalue &lt;dbl&gt; | padj &lt;dbl&gt; | name &lt;chr&gt; |\n",
       "|---|---|---|---|---|---|---|---|---|\n",
       "| 1 | LOC111103344 | 497.52024 | -1.193080 | 0.2105031 | -4.480123 | 7.460015e-06 | 0.01869231 | uncharacterized LOC111103344, transcript variant X7                                        |\n",
       "| 2 | LOC111115023 |  20.27520 | -1.349383 | 0.2740700 | -4.011321 | 6.038007e-05 | 0.04126154 | uncharacterized LOC111115023                                                               |\n",
       "| 3 | LOC111117745 | 123.41704 | -1.135814 | 0.2070067 | -4.279157 | 1.876021e-05 | 0.02350342 | uncharacterized LOC111117745, transcript variant X5                                        |\n",
       "| 4 | LOC111117760 | 138.87250 | -1.494878 | 0.2901102 | -4.291052 | 1.778290e-05 | 0.02350342 | disintegrin and metalloproteinase domain-containing protein 10-like, transcript variant X3 |\n",
       "| 5 | LOC111118022 |  19.27594 | -1.664142 | 0.3486511 | -4.056038 | 4.991215e-05 | 0.03751897 | exocyst complex component 7-like, transcript variant X1                                    |\n",
       "| 6 | LOC111119327 |  13.31739 | -1.507178 | 0.3154716 | -3.985075 | 6.745881e-05 | 0.04225732 | calcyphosin-like protein, transcript variant X3                                            |\n",
       "\n"
      ],
      "text/plain": [
       "  symbol       baseMean  log2FC    lfcSE     stat      pvalue       padj      \n",
       "1 LOC111103344 497.52024 -1.193080 0.2105031 -4.480123 7.460015e-06 0.01869231\n",
       "2 LOC111115023  20.27520 -1.349383 0.2740700 -4.011321 6.038007e-05 0.04126154\n",
       "3 LOC111117745 123.41704 -1.135814 0.2070067 -4.279157 1.876021e-05 0.02350342\n",
       "4 LOC111117760 138.87250 -1.494878 0.2901102 -4.291052 1.778290e-05 0.02350342\n",
       "5 LOC111118022  19.27594 -1.664142 0.3486511 -4.056038 4.991215e-05 0.03751897\n",
       "6 LOC111119327  13.31739 -1.507178 0.3154716 -3.985075 6.745881e-05 0.04225732\n",
       "  name                                                                                      \n",
       "1 uncharacterized LOC111103344, transcript variant X7                                       \n",
       "2 uncharacterized LOC111115023                                                              \n",
       "3 uncharacterized LOC111117745, transcript variant X5                                       \n",
       "4 disintegrin and metalloproteinase domain-containing protein 10-like, transcript variant X3\n",
       "5 exocyst complex component 7-like, transcript variant X1                                   \n",
       "6 calcyphosin-like protein, transcript variant X3                                           "
      ]
     },
     "metadata": {},
     "output_type": "display_data"
    }
   ],
   "source": [
    "# 1. control control vs. hypoxic control\n",
    "#gene_products[gene_products$symbol %in% sig_CC_HC$X,]\n",
    "\n",
    "colnames(sig_CC_HC) <- c('symbol','baseMean','log2FC', 'lfcSE', 'stat','pvalue','padj')\n",
    "\n",
    "sig_CC_HC_genes <- merge(sig_CC_HC, gene_products, by='symbol')\n",
    "sig_CC_HC_genes <- select(sig_CC_HC_genes, symbol, baseMean, log2FC, lfcSE, stat, pvalue, padj, name)\n",
    "\n",
    "#write.csv(sig_CC_HC_genes, '/project/pi_sarah_gignouxwolfsohn_uml_edu/julia/CE_MethylRAD_analysis_2018/analysis/deseq_res_files/geneFeatures_res/sig_DMGs/sig_CC_HC_genes.csv')\n",
    "\n",
    "\n",
    "head(sig_CC_HC_genes)"
   ]
  },
  {
   "cell_type": "code",
   "execution_count": 11,
   "id": "cf4e1f8a-8223-45a7-83d0-9383dff2e7cf",
   "metadata": {},
   "outputs": [
    {
     "data": {
      "text/html": [
       "<table class=\"dataframe\">\n",
       "<caption>A data.frame: 6 × 8</caption>\n",
       "<thead>\n",
       "\t<tr><th></th><th scope=col>symbol</th><th scope=col>baseMean</th><th scope=col>log2FC</th><th scope=col>lfcSE</th><th scope=col>stat</th><th scope=col>pvalue</th><th scope=col>padj</th><th scope=col>name</th></tr>\n",
       "\t<tr><th></th><th scope=col>&lt;chr&gt;</th><th scope=col>&lt;dbl&gt;</th><th scope=col>&lt;dbl&gt;</th><th scope=col>&lt;dbl&gt;</th><th scope=col>&lt;dbl&gt;</th><th scope=col>&lt;dbl&gt;</th><th scope=col>&lt;dbl&gt;</th><th scope=col>&lt;chr&gt;</th></tr>\n",
       "</thead>\n",
       "<tbody>\n",
       "\t<tr><th scope=row>1</th><td>LOC111099548</td><td>42.98619</td><td>-1.2672684</td><td>0.2026166</td><td>-5.020656</td><td>5.149523e-07</td><td>0.0003099498</td><td>kinesin-like protein KIF17                                          </td></tr>\n",
       "\t<tr><th scope=row>2</th><td>LOC111099571</td><td>31.11937</td><td>-1.4181929</td><td>0.2861630</td><td>-4.082264</td><td>4.459915e-05</td><td>0.0069725275</td><td>histone RNA hairpin-binding protein-like                            </td></tr>\n",
       "\t<tr><th scope=row>3</th><td>LOC111099585</td><td>36.32548</td><td> 0.9854391</td><td>0.2091056</td><td> 3.517070</td><td>4.363394e-04</td><td>0.0332446433</td><td>lys-63-specific deubiquitinase BRCC36-like                          </td></tr>\n",
       "\t<tr><th scope=row>4</th><td>LOC111099930</td><td>35.09830</td><td>-1.1981548</td><td>0.2270953</td><td>-4.175140</td><td>2.978035e-05</td><td>0.0051868387</td><td>uncharacterized LOC111099930, transcript variant X1                 </td></tr>\n",
       "\t<tr><th scope=row>5</th><td>LOC111099978</td><td>37.23914</td><td> 1.1530905</td><td>0.2612132</td><td> 3.457293</td><td>5.456316e-04</td><td>0.0390971051</td><td>oncoprotein-induced transcript 3 protein-like, transcript variant X1</td></tr>\n",
       "\t<tr><th scope=row>6</th><td>LOC111100608</td><td>22.90296</td><td>-1.4622657</td><td>0.2851646</td><td>-4.251109</td><td>2.127149e-05</td><td>0.0040010349</td><td>DDRGK domain-containing protein 1-like                              </td></tr>\n",
       "</tbody>\n",
       "</table>\n"
      ],
      "text/latex": [
       "A data.frame: 6 × 8\n",
       "\\begin{tabular}{r|llllllll}\n",
       "  & symbol & baseMean & log2FC & lfcSE & stat & pvalue & padj & name\\\\\n",
       "  & <chr> & <dbl> & <dbl> & <dbl> & <dbl> & <dbl> & <dbl> & <chr>\\\\\n",
       "\\hline\n",
       "\t1 & LOC111099548 & 42.98619 & -1.2672684 & 0.2026166 & -5.020656 & 5.149523e-07 & 0.0003099498 & kinesin-like protein KIF17                                          \\\\\n",
       "\t2 & LOC111099571 & 31.11937 & -1.4181929 & 0.2861630 & -4.082264 & 4.459915e-05 & 0.0069725275 & histone RNA hairpin-binding protein-like                            \\\\\n",
       "\t3 & LOC111099585 & 36.32548 &  0.9854391 & 0.2091056 &  3.517070 & 4.363394e-04 & 0.0332446433 & lys-63-specific deubiquitinase BRCC36-like                          \\\\\n",
       "\t4 & LOC111099930 & 35.09830 & -1.1981548 & 0.2270953 & -4.175140 & 2.978035e-05 & 0.0051868387 & uncharacterized LOC111099930, transcript variant X1                 \\\\\n",
       "\t5 & LOC111099978 & 37.23914 &  1.1530905 & 0.2612132 &  3.457293 & 5.456316e-04 & 0.0390971051 & oncoprotein-induced transcript 3 protein-like, transcript variant X1\\\\\n",
       "\t6 & LOC111100608 & 22.90296 & -1.4622657 & 0.2851646 & -4.251109 & 2.127149e-05 & 0.0040010349 & DDRGK domain-containing protein 1-like                              \\\\\n",
       "\\end{tabular}\n"
      ],
      "text/markdown": [
       "\n",
       "A data.frame: 6 × 8\n",
       "\n",
       "| <!--/--> | symbol &lt;chr&gt; | baseMean &lt;dbl&gt; | log2FC &lt;dbl&gt; | lfcSE &lt;dbl&gt; | stat &lt;dbl&gt; | pvalue &lt;dbl&gt; | padj &lt;dbl&gt; | name &lt;chr&gt; |\n",
       "|---|---|---|---|---|---|---|---|---|\n",
       "| 1 | LOC111099548 | 42.98619 | -1.2672684 | 0.2026166 | -5.020656 | 5.149523e-07 | 0.0003099498 | kinesin-like protein KIF17                                           |\n",
       "| 2 | LOC111099571 | 31.11937 | -1.4181929 | 0.2861630 | -4.082264 | 4.459915e-05 | 0.0069725275 | histone RNA hairpin-binding protein-like                             |\n",
       "| 3 | LOC111099585 | 36.32548 |  0.9854391 | 0.2091056 |  3.517070 | 4.363394e-04 | 0.0332446433 | lys-63-specific deubiquitinase BRCC36-like                           |\n",
       "| 4 | LOC111099930 | 35.09830 | -1.1981548 | 0.2270953 | -4.175140 | 2.978035e-05 | 0.0051868387 | uncharacterized LOC111099930, transcript variant X1                  |\n",
       "| 5 | LOC111099978 | 37.23914 |  1.1530905 | 0.2612132 |  3.457293 | 5.456316e-04 | 0.0390971051 | oncoprotein-induced transcript 3 protein-like, transcript variant X1 |\n",
       "| 6 | LOC111100608 | 22.90296 | -1.4622657 | 0.2851646 | -4.251109 | 2.127149e-05 | 0.0040010349 | DDRGK domain-containing protein 1-like                               |\n",
       "\n"
      ],
      "text/plain": [
       "  symbol       baseMean log2FC     lfcSE     stat      pvalue      \n",
       "1 LOC111099548 42.98619 -1.2672684 0.2026166 -5.020656 5.149523e-07\n",
       "2 LOC111099571 31.11937 -1.4181929 0.2861630 -4.082264 4.459915e-05\n",
       "3 LOC111099585 36.32548  0.9854391 0.2091056  3.517070 4.363394e-04\n",
       "4 LOC111099930 35.09830 -1.1981548 0.2270953 -4.175140 2.978035e-05\n",
       "5 LOC111099978 37.23914  1.1530905 0.2612132  3.457293 5.456316e-04\n",
       "6 LOC111100608 22.90296 -1.4622657 0.2851646 -4.251109 2.127149e-05\n",
       "  padj        \n",
       "1 0.0003099498\n",
       "2 0.0069725275\n",
       "3 0.0332446433\n",
       "4 0.0051868387\n",
       "5 0.0390971051\n",
       "6 0.0040010349\n",
       "  name                                                                \n",
       "1 kinesin-like protein KIF17                                          \n",
       "2 histone RNA hairpin-binding protein-like                            \n",
       "3 lys-63-specific deubiquitinase BRCC36-like                          \n",
       "4 uncharacterized LOC111099930, transcript variant X1                 \n",
       "5 oncoprotein-induced transcript 3 protein-like, transcript variant X1\n",
       "6 DDRGK domain-containing protein 1-like                              "
      ]
     },
     "metadata": {},
     "output_type": "display_data"
    }
   ],
   "source": [
    "# 2. control hypoxic vs. hypoxic control\n",
    "colnames(sig_CH_HC) <- c('symbol','baseMean','log2FC', 'lfcSE', 'stat','pvalue','padj')\n",
    "\n",
    "sig_CH_HC_genes <- merge(sig_CH_HC, gene_products, by='symbol')\n",
    "sig_CH_HC_genes <- select(sig_CH_HC_genes, symbol, baseMean, log2FC, lfcSE, stat, pvalue, padj, name)\n",
    "\n",
    "#write.csv(sig_CH_HC_genes, '/project/pi_sarah_gignouxwolfsohn_uml_edu/julia/CE_MethylRAD_analysis_2018/analysis/deseq_res_files/geneFeatures_res/sig_DMGs/sig_CH_HC_genes.csv')\n",
    "\n",
    "\n",
    "\n",
    "head(sig_CH_HC_genes)"
   ]
  },
  {
   "cell_type": "code",
   "execution_count": 12,
   "id": "0092831a-41ac-4c9f-bfe4-91f37147caf3",
   "metadata": {},
   "outputs": [
    {
     "data": {
      "text/html": [
       "<table class=\"dataframe\">\n",
       "<caption>A data.frame: 6 × 8</caption>\n",
       "<thead>\n",
       "\t<tr><th></th><th scope=col>symbol</th><th scope=col>baseMean</th><th scope=col>log2FC</th><th scope=col>lfcSE</th><th scope=col>stat</th><th scope=col>pvalue</th><th scope=col>padj</th><th scope=col>name</th></tr>\n",
       "\t<tr><th></th><th scope=col>&lt;chr&gt;</th><th scope=col>&lt;dbl&gt;</th><th scope=col>&lt;dbl&gt;</th><th scope=col>&lt;dbl&gt;</th><th scope=col>&lt;dbl&gt;</th><th scope=col>&lt;dbl&gt;</th><th scope=col>&lt;dbl&gt;</th><th scope=col>&lt;chr&gt;</th></tr>\n",
       "</thead>\n",
       "<tbody>\n",
       "\t<tr><th scope=row>1</th><td>LOC111099548</td><td>42.98619</td><td>1.054197</td><td>0.1952758</td><td>4.118262</td><td>3.817409e-05</td><td>0.0119860976</td><td>kinesin-like protein KIF17                                    </td></tr>\n",
       "\t<tr><th scope=row>2</th><td>LOC111099571</td><td>31.11937</td><td>1.583044</td><td>0.2784773</td><td>4.786904</td><td>1.693737e-06</td><td>0.0010731159</td><td>histone RNA hairpin-binding protein-like                      </td></tr>\n",
       "\t<tr><th scope=row>3</th><td>LOC111099930</td><td>35.09830</td><td>1.318024</td><td>0.2167696</td><td>4.927003</td><td>8.350045e-07</td><td>0.0007732142</td><td>uncharacterized LOC111099930, transcript variant X1           </td></tr>\n",
       "\t<tr><th scope=row>4</th><td>LOC111100608</td><td>22.90296</td><td>1.584298</td><td>0.2760621</td><td>4.833325</td><td>1.342715e-06</td><td>0.0009508000</td><td>DDRGK domain-containing protein 1-like                        </td></tr>\n",
       "\t<tr><th scope=row>5</th><td>LOC111101237</td><td>37.09165</td><td>1.078964</td><td>0.1927178</td><td>4.301443</td><td>1.696897e-05</td><td>0.0061900739</td><td>putative 2'-deoxynucleoside 5'-phosphate N-hydrolase 1        </td></tr>\n",
       "\t<tr><th scope=row>6</th><td>LOC111101984</td><td>10.15872</td><td>1.604290</td><td>0.3316931</td><td>4.082963</td><td>4.446518e-05</td><td>0.0130554113</td><td>von Willebrand factor D and EGF domain-containing protein-like</td></tr>\n",
       "</tbody>\n",
       "</table>\n"
      ],
      "text/latex": [
       "A data.frame: 6 × 8\n",
       "\\begin{tabular}{r|llllllll}\n",
       "  & symbol & baseMean & log2FC & lfcSE & stat & pvalue & padj & name\\\\\n",
       "  & <chr> & <dbl> & <dbl> & <dbl> & <dbl> & <dbl> & <dbl> & <chr>\\\\\n",
       "\\hline\n",
       "\t1 & LOC111099548 & 42.98619 & 1.054197 & 0.1952758 & 4.118262 & 3.817409e-05 & 0.0119860976 & kinesin-like protein KIF17                                    \\\\\n",
       "\t2 & LOC111099571 & 31.11937 & 1.583044 & 0.2784773 & 4.786904 & 1.693737e-06 & 0.0010731159 & histone RNA hairpin-binding protein-like                      \\\\\n",
       "\t3 & LOC111099930 & 35.09830 & 1.318024 & 0.2167696 & 4.927003 & 8.350045e-07 & 0.0007732142 & uncharacterized LOC111099930, transcript variant X1           \\\\\n",
       "\t4 & LOC111100608 & 22.90296 & 1.584298 & 0.2760621 & 4.833325 & 1.342715e-06 & 0.0009508000 & DDRGK domain-containing protein 1-like                        \\\\\n",
       "\t5 & LOC111101237 & 37.09165 & 1.078964 & 0.1927178 & 4.301443 & 1.696897e-05 & 0.0061900739 & putative 2'-deoxynucleoside 5'-phosphate N-hydrolase 1        \\\\\n",
       "\t6 & LOC111101984 & 10.15872 & 1.604290 & 0.3316931 & 4.082963 & 4.446518e-05 & 0.0130554113 & von Willebrand factor D and EGF domain-containing protein-like\\\\\n",
       "\\end{tabular}\n"
      ],
      "text/markdown": [
       "\n",
       "A data.frame: 6 × 8\n",
       "\n",
       "| <!--/--> | symbol &lt;chr&gt; | baseMean &lt;dbl&gt; | log2FC &lt;dbl&gt; | lfcSE &lt;dbl&gt; | stat &lt;dbl&gt; | pvalue &lt;dbl&gt; | padj &lt;dbl&gt; | name &lt;chr&gt; |\n",
       "|---|---|---|---|---|---|---|---|---|\n",
       "| 1 | LOC111099548 | 42.98619 | 1.054197 | 0.1952758 | 4.118262 | 3.817409e-05 | 0.0119860976 | kinesin-like protein KIF17                                     |\n",
       "| 2 | LOC111099571 | 31.11937 | 1.583044 | 0.2784773 | 4.786904 | 1.693737e-06 | 0.0010731159 | histone RNA hairpin-binding protein-like                       |\n",
       "| 3 | LOC111099930 | 35.09830 | 1.318024 | 0.2167696 | 4.927003 | 8.350045e-07 | 0.0007732142 | uncharacterized LOC111099930, transcript variant X1            |\n",
       "| 4 | LOC111100608 | 22.90296 | 1.584298 | 0.2760621 | 4.833325 | 1.342715e-06 | 0.0009508000 | DDRGK domain-containing protein 1-like                         |\n",
       "| 5 | LOC111101237 | 37.09165 | 1.078964 | 0.1927178 | 4.301443 | 1.696897e-05 | 0.0061900739 | putative 2'-deoxynucleoside 5'-phosphate N-hydrolase 1         |\n",
       "| 6 | LOC111101984 | 10.15872 | 1.604290 | 0.3316931 | 4.082963 | 4.446518e-05 | 0.0130554113 | von Willebrand factor D and EGF domain-containing protein-like |\n",
       "\n"
      ],
      "text/plain": [
       "  symbol       baseMean log2FC   lfcSE     stat     pvalue       padj        \n",
       "1 LOC111099548 42.98619 1.054197 0.1952758 4.118262 3.817409e-05 0.0119860976\n",
       "2 LOC111099571 31.11937 1.583044 0.2784773 4.786904 1.693737e-06 0.0010731159\n",
       "3 LOC111099930 35.09830 1.318024 0.2167696 4.927003 8.350045e-07 0.0007732142\n",
       "4 LOC111100608 22.90296 1.584298 0.2760621 4.833325 1.342715e-06 0.0009508000\n",
       "5 LOC111101237 37.09165 1.078964 0.1927178 4.301443 1.696897e-05 0.0061900739\n",
       "6 LOC111101984 10.15872 1.604290 0.3316931 4.082963 4.446518e-05 0.0130554113\n",
       "  name                                                          \n",
       "1 kinesin-like protein KIF17                                    \n",
       "2 histone RNA hairpin-binding protein-like                      \n",
       "3 uncharacterized LOC111099930, transcript variant X1           \n",
       "4 DDRGK domain-containing protein 1-like                        \n",
       "5 putative 2'-deoxynucleoside 5'-phosphate N-hydrolase 1        \n",
       "6 von Willebrand factor D and EGF domain-containing protein-like"
      ]
     },
     "metadata": {},
     "output_type": "display_data"
    }
   ],
   "source": [
    "# 3. hypoxic hypoxic vs. hypoxic control\n",
    "colnames(sig_HH_HC) <- c('symbol','baseMean','log2FC', 'lfcSE', 'stat','pvalue','padj')\n",
    "\n",
    "sig_HH_HC_genes <- merge(sig_HH_HC, gene_products, by='symbol')\n",
    "sig_HH_HC_genes <- select(sig_HH_HC_genes, symbol, baseMean, log2FC, lfcSE, stat, pvalue, padj, name)\n",
    "\n",
    "#write.csv(sig_HH_HC_genes, '/project/pi_sarah_gignouxwolfsohn_uml_edu/julia/CE_MethylRAD_analysis_2018/analysis/deseq_res_files/geneFeatures_res/sig_DMGs/sig_HH_HC_genes.csv')\n",
    "\n",
    "\n",
    "\n",
    "head(sig_HH_HC_genes)"
   ]
  },
  {
   "cell_type": "markdown",
   "id": "2d21cf4e-d89a-4244-be2a-a55b20361736",
   "metadata": {},
   "source": [
    "4. hypoxic hypoxic vs. control hypoxic\n",
    "\n",
    "no sig. DMGs\n"
   ]
  },
  {
   "cell_type": "code",
   "execution_count": 13,
   "id": "ef82296f-c1cf-4155-9632-620c79329418",
   "metadata": {},
   "outputs": [
    {
     "data": {
      "text/html": [
       "<table class=\"dataframe\">\n",
       "<caption>A data.frame: 1 × 8</caption>\n",
       "<thead>\n",
       "\t<tr><th></th><th scope=col>symbol</th><th scope=col>baseMean</th><th scope=col>log2FC</th><th scope=col>lfcSE</th><th scope=col>stat</th><th scope=col>pvalue</th><th scope=col>padj</th><th scope=col>name</th></tr>\n",
       "\t<tr><th></th><th scope=col>&lt;chr&gt;</th><th scope=col>&lt;dbl&gt;</th><th scope=col>&lt;dbl&gt;</th><th scope=col>&lt;dbl&gt;</th><th scope=col>&lt;dbl&gt;</th><th scope=col>&lt;dbl&gt;</th><th scope=col>&lt;dbl&gt;</th><th scope=col>&lt;chr&gt;</th></tr>\n",
       "</thead>\n",
       "<tbody>\n",
       "\t<tr><th scope=row>1</th><td>LOC111100699</td><td>13.59616</td><td>2.087349</td><td>0.3509947</td><td>5.234691</td><td>1.652615e-07</td><td>0.004018332</td><td>methylthioribulose-1-phosphate dehydratase-like</td></tr>\n",
       "</tbody>\n",
       "</table>\n"
      ],
      "text/latex": [
       "A data.frame: 1 × 8\n",
       "\\begin{tabular}{r|llllllll}\n",
       "  & symbol & baseMean & log2FC & lfcSE & stat & pvalue & padj & name\\\\\n",
       "  & <chr> & <dbl> & <dbl> & <dbl> & <dbl> & <dbl> & <dbl> & <chr>\\\\\n",
       "\\hline\n",
       "\t1 & LOC111100699 & 13.59616 & 2.087349 & 0.3509947 & 5.234691 & 1.652615e-07 & 0.004018332 & methylthioribulose-1-phosphate dehydratase-like\\\\\n",
       "\\end{tabular}\n"
      ],
      "text/markdown": [
       "\n",
       "A data.frame: 1 × 8\n",
       "\n",
       "| <!--/--> | symbol &lt;chr&gt; | baseMean &lt;dbl&gt; | log2FC &lt;dbl&gt; | lfcSE &lt;dbl&gt; | stat &lt;dbl&gt; | pvalue &lt;dbl&gt; | padj &lt;dbl&gt; | name &lt;chr&gt; |\n",
       "|---|---|---|---|---|---|---|---|---|\n",
       "| 1 | LOC111100699 | 13.59616 | 2.087349 | 0.3509947 | 5.234691 | 1.652615e-07 | 0.004018332 | methylthioribulose-1-phosphate dehydratase-like |\n",
       "\n"
      ],
      "text/plain": [
       "  symbol       baseMean log2FC   lfcSE     stat     pvalue       padj       \n",
       "1 LOC111100699 13.59616 2.087349 0.3509947 5.234691 1.652615e-07 0.004018332\n",
       "  name                                           \n",
       "1 methylthioribulose-1-phosphate dehydratase-like"
      ]
     },
     "metadata": {},
     "output_type": "display_data"
    }
   ],
   "source": [
    "# 5. hypoxic hypoxic vs. control control\n",
    "colnames(sig_HH_CC) <- c('symbol','baseMean','log2FC', 'lfcSE', 'stat','pvalue','padj')\n",
    "\n",
    "sig_HH_CC_genes <- merge(sig_HH_CC, gene_products, by='symbol')\n",
    "sig_HH_CC_genes <- select(sig_HH_CC_genes, symbol, baseMean, log2FC, lfcSE, stat, pvalue, padj, name)\n",
    "\n",
    "#write.csv(sig_HH_CC_genes, '/project/pi_sarah_gignouxwolfsohn_uml_edu/julia/CE_MethylRAD_analysis_2018/analysis/deseq_res_files/geneFeatures_res/sig_DMGs/sig_HH_CC_genes.csv')\n",
    "\n",
    "\n",
    "\n",
    "head(sig_HH_CC_genes)"
   ]
  },
  {
   "cell_type": "code",
   "execution_count": 14,
   "id": "3ce68a4a-814b-44f2-8f97-948cfea2e665",
   "metadata": {},
   "outputs": [
    {
     "data": {
      "text/html": [
       "<table class=\"dataframe\">\n",
       "<caption>A data.frame: 1 × 8</caption>\n",
       "<thead>\n",
       "\t<tr><th></th><th scope=col>symbol</th><th scope=col>baseMean</th><th scope=col>log2FC</th><th scope=col>lfcSE</th><th scope=col>stat</th><th scope=col>pvalue</th><th scope=col>padj</th><th scope=col>name</th></tr>\n",
       "\t<tr><th></th><th scope=col>&lt;chr&gt;</th><th scope=col>&lt;dbl&gt;</th><th scope=col>&lt;dbl&gt;</th><th scope=col>&lt;dbl&gt;</th><th scope=col>&lt;dbl&gt;</th><th scope=col>&lt;dbl&gt;</th><th scope=col>&lt;dbl&gt;</th><th scope=col>&lt;chr&gt;</th></tr>\n",
       "</thead>\n",
       "<tbody>\n",
       "\t<tr><th scope=row>1</th><td>LOC111100699</td><td>13.59616</td><td>1.958284</td><td>0.3546143</td><td>4.817301</td><td>1.455128e-06</td><td>0.03538143</td><td>methylthioribulose-1-phosphate dehydratase-like</td></tr>\n",
       "</tbody>\n",
       "</table>\n"
      ],
      "text/latex": [
       "A data.frame: 1 × 8\n",
       "\\begin{tabular}{r|llllllll}\n",
       "  & symbol & baseMean & log2FC & lfcSE & stat & pvalue & padj & name\\\\\n",
       "  & <chr> & <dbl> & <dbl> & <dbl> & <dbl> & <dbl> & <dbl> & <chr>\\\\\n",
       "\\hline\n",
       "\t1 & LOC111100699 & 13.59616 & 1.958284 & 0.3546143 & 4.817301 & 1.455128e-06 & 0.03538143 & methylthioribulose-1-phosphate dehydratase-like\\\\\n",
       "\\end{tabular}\n"
      ],
      "text/markdown": [
       "\n",
       "A data.frame: 1 × 8\n",
       "\n",
       "| <!--/--> | symbol &lt;chr&gt; | baseMean &lt;dbl&gt; | log2FC &lt;dbl&gt; | lfcSE &lt;dbl&gt; | stat &lt;dbl&gt; | pvalue &lt;dbl&gt; | padj &lt;dbl&gt; | name &lt;chr&gt; |\n",
       "|---|---|---|---|---|---|---|---|---|\n",
       "| 1 | LOC111100699 | 13.59616 | 1.958284 | 0.3546143 | 4.817301 | 1.455128e-06 | 0.03538143 | methylthioribulose-1-phosphate dehydratase-like |\n",
       "\n"
      ],
      "text/plain": [
       "  symbol       baseMean log2FC   lfcSE     stat     pvalue       padj      \n",
       "1 LOC111100699 13.59616 1.958284 0.3546143 4.817301 1.455128e-06 0.03538143\n",
       "  name                                           \n",
       "1 methylthioribulose-1-phosphate dehydratase-like"
      ]
     },
     "metadata": {},
     "output_type": "display_data"
    }
   ],
   "source": [
    "# 6. control control vs. control hypoxic\n",
    "colnames(sig_CC_CH) <- c('symbol','baseMean','log2FC', 'lfcSE', 'stat','pvalue','padj')\n",
    "\n",
    "sig_CC_CH_genes <- merge(sig_CC_CH, gene_products, by='symbol')\n",
    "sig_CC_CH_genes <- select(sig_CC_CH_genes, symbol, baseMean, log2FC, lfcSE, stat, pvalue, padj, name)\n",
    "\n",
    "#write.csv(sig_CC_CH_genes, '/project/pi_sarah_gignouxwolfsohn_uml_edu/julia/CE_MethylRAD_analysis_2018/analysis/deseq_res_files/geneFeatures_res/sig_DMGs/sig_CC_CH_genes.csv')\n",
    "\n",
    "\n",
    "\n",
    "head(sig_CC_CH_genes)"
   ]
  },
  {
   "cell_type": "markdown",
   "id": "91a19610-de4a-4364-a12b-8080735d0f83",
   "metadata": {},
   "source": [
    "### Venn diagram of all sig. DMGs"
   ]
  },
  {
   "cell_type": "code",
   "execution_count": 29,
   "id": "3a4565f2-b3be-4e27-8cef-62db43fc4f6a",
   "metadata": {},
   "outputs": [
    {
     "data": {
      "text/html": [
       "<table class=\"dataframe\">\n",
       "<caption>A data.frame: 6 × 7</caption>\n",
       "<thead>\n",
       "\t<tr><th></th><th scope=col>symbol</th><th scope=col>baseMean</th><th scope=col>log2FC</th><th scope=col>lfcSE</th><th scope=col>stat</th><th scope=col>pvalue</th><th scope=col>padj</th></tr>\n",
       "\t<tr><th></th><th scope=col>&lt;chr&gt;</th><th scope=col>&lt;dbl&gt;</th><th scope=col>&lt;dbl&gt;</th><th scope=col>&lt;dbl&gt;</th><th scope=col>&lt;dbl&gt;</th><th scope=col>&lt;dbl&gt;</th><th scope=col>&lt;dbl&gt;</th></tr>\n",
       "</thead>\n",
       "<tbody>\n",
       "\t<tr><th scope=row>1</th><td>LOC111133260</td><td>47.32761</td><td>-1.252909</td><td>0.1909959</td><td>-5.250946</td><td>1.513200e-07</td><td>0.0001206848</td></tr>\n",
       "\t<tr><th scope=row>2</th><td>LOC111132155</td><td>15.68891</td><td>-1.610318</td><td>0.3063351</td><td>-4.440620</td><td>8.970017e-06</td><td>0.0022920612</td></tr>\n",
       "\t<tr><th scope=row>3</th><td>LOC111113022</td><td>22.94658</td><td>-1.785998</td><td>0.3172529</td><td>-4.841557</td><td>1.288255e-06</td><td>0.0005743709</td></tr>\n",
       "\t<tr><th scope=row>4</th><td>LOC111131329</td><td>61.85996</td><td>-1.173904</td><td>0.2150709</td><td>-4.295812</td><td>1.740547e-05</td><td>0.0035513059</td></tr>\n",
       "\t<tr><th scope=row>5</th><td>LOC111104327</td><td>95.77165</td><td>-1.090093</td><td>0.2206110</td><td>-3.808027</td><td>1.400802e-04</td><td>0.0154705034</td></tr>\n",
       "\t<tr><th scope=row>6</th><td>LOC111108643</td><td>20.24159</td><td>-1.351946</td><td>0.3067237</td><td>-3.592633</td><td>3.273533e-04</td><td>0.0269909550</td></tr>\n",
       "</tbody>\n",
       "</table>\n"
      ],
      "text/latex": [
       "A data.frame: 6 × 7\n",
       "\\begin{tabular}{r|lllllll}\n",
       "  & symbol & baseMean & log2FC & lfcSE & stat & pvalue & padj\\\\\n",
       "  & <chr> & <dbl> & <dbl> & <dbl> & <dbl> & <dbl> & <dbl>\\\\\n",
       "\\hline\n",
       "\t1 & LOC111133260 & 47.32761 & -1.252909 & 0.1909959 & -5.250946 & 1.513200e-07 & 0.0001206848\\\\\n",
       "\t2 & LOC111132155 & 15.68891 & -1.610318 & 0.3063351 & -4.440620 & 8.970017e-06 & 0.0022920612\\\\\n",
       "\t3 & LOC111113022 & 22.94658 & -1.785998 & 0.3172529 & -4.841557 & 1.288255e-06 & 0.0005743709\\\\\n",
       "\t4 & LOC111131329 & 61.85996 & -1.173904 & 0.2150709 & -4.295812 & 1.740547e-05 & 0.0035513059\\\\\n",
       "\t5 & LOC111104327 & 95.77165 & -1.090093 & 0.2206110 & -3.808027 & 1.400802e-04 & 0.0154705034\\\\\n",
       "\t6 & LOC111108643 & 20.24159 & -1.351946 & 0.3067237 & -3.592633 & 3.273533e-04 & 0.0269909550\\\\\n",
       "\\end{tabular}\n"
      ],
      "text/markdown": [
       "\n",
       "A data.frame: 6 × 7\n",
       "\n",
       "| <!--/--> | symbol &lt;chr&gt; | baseMean &lt;dbl&gt; | log2FC &lt;dbl&gt; | lfcSE &lt;dbl&gt; | stat &lt;dbl&gt; | pvalue &lt;dbl&gt; | padj &lt;dbl&gt; |\n",
       "|---|---|---|---|---|---|---|---|\n",
       "| 1 | LOC111133260 | 47.32761 | -1.252909 | 0.1909959 | -5.250946 | 1.513200e-07 | 0.0001206848 |\n",
       "| 2 | LOC111132155 | 15.68891 | -1.610318 | 0.3063351 | -4.440620 | 8.970017e-06 | 0.0022920612 |\n",
       "| 3 | LOC111113022 | 22.94658 | -1.785998 | 0.3172529 | -4.841557 | 1.288255e-06 | 0.0005743709 |\n",
       "| 4 | LOC111131329 | 61.85996 | -1.173904 | 0.2150709 | -4.295812 | 1.740547e-05 | 0.0035513059 |\n",
       "| 5 | LOC111104327 | 95.77165 | -1.090093 | 0.2206110 | -3.808027 | 1.400802e-04 | 0.0154705034 |\n",
       "| 6 | LOC111108643 | 20.24159 | -1.351946 | 0.3067237 | -3.592633 | 3.273533e-04 | 0.0269909550 |\n",
       "\n"
      ],
      "text/plain": [
       "  symbol       baseMean log2FC    lfcSE     stat      pvalue       padj        \n",
       "1 LOC111133260 47.32761 -1.252909 0.1909959 -5.250946 1.513200e-07 0.0001206848\n",
       "2 LOC111132155 15.68891 -1.610318 0.3063351 -4.440620 8.970017e-06 0.0022920612\n",
       "3 LOC111113022 22.94658 -1.785998 0.3172529 -4.841557 1.288255e-06 0.0005743709\n",
       "4 LOC111131329 61.85996 -1.173904 0.2150709 -4.295812 1.740547e-05 0.0035513059\n",
       "5 LOC111104327 95.77165 -1.090093 0.2206110 -3.808027 1.400802e-04 0.0154705034\n",
       "6 LOC111108643 20.24159 -1.351946 0.3067237 -3.592633 3.273533e-04 0.0269909550"
      ]
     },
     "metadata": {},
     "output_type": "display_data"
    }
   ],
   "source": [
    "head(sig_CH_HC)"
   ]
  },
  {
   "cell_type": "code",
   "execution_count": 30,
   "id": "f3fca811-0108-47d4-9268-d5913abc78f8",
   "metadata": {},
   "outputs": [
    {
     "data": {
      "text/html": [
       "<table class=\"dataframe\">\n",
       "<caption>A data.frame: 6 × 9</caption>\n",
       "<thead>\n",
       "\t<tr><th></th><th scope=col>X</th><th scope=col>symbol</th><th scope=col>baseMean</th><th scope=col>log2FC</th><th scope=col>lfcSE</th><th scope=col>stat</th><th scope=col>pvalue</th><th scope=col>padj</th><th scope=col>name</th></tr>\n",
       "\t<tr><th></th><th scope=col>&lt;int&gt;</th><th scope=col>&lt;chr&gt;</th><th scope=col>&lt;dbl&gt;</th><th scope=col>&lt;dbl&gt;</th><th scope=col>&lt;dbl&gt;</th><th scope=col>&lt;dbl&gt;</th><th scope=col>&lt;dbl&gt;</th><th scope=col>&lt;dbl&gt;</th><th scope=col>&lt;chr&gt;</th></tr>\n",
       "</thead>\n",
       "<tbody>\n",
       "\t<tr><th scope=row>1</th><td>1</td><td>LOC111103344</td><td>497.52024</td><td>-1.193080</td><td>0.2105031</td><td>-4.480123</td><td>7.460015e-06</td><td>0.01869231</td><td>uncharacterized LOC111103344, transcript variant X7                                       </td></tr>\n",
       "\t<tr><th scope=row>2</th><td>2</td><td>LOC111115023</td><td> 20.27520</td><td>-1.349383</td><td>0.2740700</td><td>-4.011321</td><td>6.038007e-05</td><td>0.04126154</td><td>uncharacterized LOC111115023                                                              </td></tr>\n",
       "\t<tr><th scope=row>3</th><td>3</td><td>LOC111117745</td><td>123.41704</td><td>-1.135814</td><td>0.2070067</td><td>-4.279157</td><td>1.876021e-05</td><td>0.02350342</td><td>uncharacterized LOC111117745, transcript variant X5                                       </td></tr>\n",
       "\t<tr><th scope=row>4</th><td>4</td><td>LOC111117760</td><td>138.87250</td><td>-1.494878</td><td>0.2901102</td><td>-4.291052</td><td>1.778290e-05</td><td>0.02350342</td><td>disintegrin and metalloproteinase domain-containing protein 10-like, transcript variant X3</td></tr>\n",
       "\t<tr><th scope=row>5</th><td>5</td><td>LOC111118022</td><td> 19.27594</td><td>-1.664142</td><td>0.3486511</td><td>-4.056038</td><td>4.991215e-05</td><td>0.03751897</td><td>exocyst complex component 7-like, transcript variant X1                                   </td></tr>\n",
       "\t<tr><th scope=row>6</th><td>6</td><td>LOC111119327</td><td> 13.31739</td><td>-1.507178</td><td>0.3154716</td><td>-3.985075</td><td>6.745881e-05</td><td>0.04225732</td><td>calcyphosin-like protein, transcript variant X3                                           </td></tr>\n",
       "</tbody>\n",
       "</table>\n"
      ],
      "text/latex": [
       "A data.frame: 6 × 9\n",
       "\\begin{tabular}{r|lllllllll}\n",
       "  & X & symbol & baseMean & log2FC & lfcSE & stat & pvalue & padj & name\\\\\n",
       "  & <int> & <chr> & <dbl> & <dbl> & <dbl> & <dbl> & <dbl> & <dbl> & <chr>\\\\\n",
       "\\hline\n",
       "\t1 & 1 & LOC111103344 & 497.52024 & -1.193080 & 0.2105031 & -4.480123 & 7.460015e-06 & 0.01869231 & uncharacterized LOC111103344, transcript variant X7                                       \\\\\n",
       "\t2 & 2 & LOC111115023 &  20.27520 & -1.349383 & 0.2740700 & -4.011321 & 6.038007e-05 & 0.04126154 & uncharacterized LOC111115023                                                              \\\\\n",
       "\t3 & 3 & LOC111117745 & 123.41704 & -1.135814 & 0.2070067 & -4.279157 & 1.876021e-05 & 0.02350342 & uncharacterized LOC111117745, transcript variant X5                                       \\\\\n",
       "\t4 & 4 & LOC111117760 & 138.87250 & -1.494878 & 0.2901102 & -4.291052 & 1.778290e-05 & 0.02350342 & disintegrin and metalloproteinase domain-containing protein 10-like, transcript variant X3\\\\\n",
       "\t5 & 5 & LOC111118022 &  19.27594 & -1.664142 & 0.3486511 & -4.056038 & 4.991215e-05 & 0.03751897 & exocyst complex component 7-like, transcript variant X1                                   \\\\\n",
       "\t6 & 6 & LOC111119327 &  13.31739 & -1.507178 & 0.3154716 & -3.985075 & 6.745881e-05 & 0.04225732 & calcyphosin-like protein, transcript variant X3                                           \\\\\n",
       "\\end{tabular}\n"
      ],
      "text/markdown": [
       "\n",
       "A data.frame: 6 × 9\n",
       "\n",
       "| <!--/--> | X &lt;int&gt; | symbol &lt;chr&gt; | baseMean &lt;dbl&gt; | log2FC &lt;dbl&gt; | lfcSE &lt;dbl&gt; | stat &lt;dbl&gt; | pvalue &lt;dbl&gt; | padj &lt;dbl&gt; | name &lt;chr&gt; |\n",
       "|---|---|---|---|---|---|---|---|---|---|\n",
       "| 1 | 1 | LOC111103344 | 497.52024 | -1.193080 | 0.2105031 | -4.480123 | 7.460015e-06 | 0.01869231 | uncharacterized LOC111103344, transcript variant X7                                        |\n",
       "| 2 | 2 | LOC111115023 |  20.27520 | -1.349383 | 0.2740700 | -4.011321 | 6.038007e-05 | 0.04126154 | uncharacterized LOC111115023                                                               |\n",
       "| 3 | 3 | LOC111117745 | 123.41704 | -1.135814 | 0.2070067 | -4.279157 | 1.876021e-05 | 0.02350342 | uncharacterized LOC111117745, transcript variant X5                                        |\n",
       "| 4 | 4 | LOC111117760 | 138.87250 | -1.494878 | 0.2901102 | -4.291052 | 1.778290e-05 | 0.02350342 | disintegrin and metalloproteinase domain-containing protein 10-like, transcript variant X3 |\n",
       "| 5 | 5 | LOC111118022 |  19.27594 | -1.664142 | 0.3486511 | -4.056038 | 4.991215e-05 | 0.03751897 | exocyst complex component 7-like, transcript variant X1                                    |\n",
       "| 6 | 6 | LOC111119327 |  13.31739 | -1.507178 | 0.3154716 | -3.985075 | 6.745881e-05 | 0.04225732 | calcyphosin-like protein, transcript variant X3                                            |\n",
       "\n"
      ],
      "text/plain": [
       "  X symbol       baseMean  log2FC    lfcSE     stat      pvalue      \n",
       "1 1 LOC111103344 497.52024 -1.193080 0.2105031 -4.480123 7.460015e-06\n",
       "2 2 LOC111115023  20.27520 -1.349383 0.2740700 -4.011321 6.038007e-05\n",
       "3 3 LOC111117745 123.41704 -1.135814 0.2070067 -4.279157 1.876021e-05\n",
       "4 4 LOC111117760 138.87250 -1.494878 0.2901102 -4.291052 1.778290e-05\n",
       "5 5 LOC111118022  19.27594 -1.664142 0.3486511 -4.056038 4.991215e-05\n",
       "6 6 LOC111119327  13.31739 -1.507178 0.3154716 -3.985075 6.745881e-05\n",
       "  padj      \n",
       "1 0.01869231\n",
       "2 0.04126154\n",
       "3 0.02350342\n",
       "4 0.02350342\n",
       "5 0.03751897\n",
       "6 0.04225732\n",
       "  name                                                                                      \n",
       "1 uncharacterized LOC111103344, transcript variant X7                                       \n",
       "2 uncharacterized LOC111115023                                                              \n",
       "3 uncharacterized LOC111117745, transcript variant X5                                       \n",
       "4 disintegrin and metalloproteinase domain-containing protein 10-like, transcript variant X3\n",
       "5 exocyst complex component 7-like, transcript variant X1                                   \n",
       "6 calcyphosin-like protein, transcript variant X3                                           "
      ]
     },
     "metadata": {},
     "output_type": "display_data"
    }
   ],
   "source": [
    "sig_CC_HC <- read.csv('/project/pi_sarah_gignouxwolfsohn_uml_edu/julia/CE_MethylRAD_analysis_2018/analysis/deseq_res_files/geneFeatures_res/sig_DMGs/sig_CC_HC_genes.csv')\n",
    "sig_CH_HC <- read.csv('/project/pi_sarah_gignouxwolfsohn_uml_edu/julia/CE_MethylRAD_analysis_2018/analysis/deseq_res_files/geneFeatures_res/sig_DMGs/sig_CH_HC_genes.csv')\n",
    "sig_HH_HC <- read.csv('/project/pi_sarah_gignouxwolfsohn_uml_edu/julia/CE_MethylRAD_analysis_2018/analysis/deseq_res_files/geneFeatures_res/sig_DMGs/sig_HH_HC_genes.csv')\n",
    "\n",
    "head(sig_CC_HC)"
   ]
  },
  {
   "cell_type": "code",
   "execution_count": 35,
   "id": "2b5b3c90-56f8-418c-8081-2b8c9ed64a63",
   "metadata": {},
   "outputs": [
    {
     "data": {
      "image/png": "[encoded data removed]",
      "text/plain": [
       "plot without title"
      ]
     },
     "metadata": {
      "image/png": {
       "height": 600,
       "width": 900
      }
     },
     "output_type": "display_data"
    }
   ],
   "source": [
    "\n",
    "x = list(A = sig_CC_HC$symbol,\n",
    "         B = sig_CH_HC$symbol, \n",
    "         C = sig_HH_HC$symbol)\n",
    "\n",
    "names(x) <- c('CC vs. HC',\n",
    "              'CH vs. HC',\n",
    "              'HH vs. HC')\n",
    "\n",
    "# same colors as used in the volcano plots\n",
    "custom_colors <- c('cornflowerblue',  'mediumpurple', 'deeppink2')\n",
    "\n",
    "venn <- ggvenn(x,\n",
    "      set_name_size = 6,\n",
    "       text_size = 7,\n",
    "      stroke_size = 0.5, \n",
    "       show_percentage = TRUE,\n",
    "      fill_color = custom_colors)\n",
    "\n",
    "venn"
   ]
  },
  {
   "cell_type": "code",
   "execution_count": 36,
   "id": "375b901f-e1a7-4d42-b1c5-0e4283eb43d6",
   "metadata": {},
   "outputs": [
    {
     "name": "stderr",
     "output_type": "stream",
     "text": [
      "\u001b[1m\u001b[22mSaving 6.67 x 6.67 in image\n"
     ]
    }
   ],
   "source": [
    "ggsave('/project/pi_sarah_gignouxwolfsohn_uml_edu/julia/CE_MethylRAD_analysis_2018/analysis/figures/DMG_venn.pdf', venn)"
   ]
  },
  {
   "cell_type": "markdown",
   "id": "96ea475f-62e7-4b75-85be-ad3ee31a4c15",
   "metadata": {},
   "source": [
    "### shared sig DMGs for the pairwise comparisons"
   ]
  },
  {
   "cell_type": "code",
   "execution_count": 35,
   "id": "d7ba5ae7-c947-4137-9f51-5ed74263fa7a",
   "metadata": {},
   "outputs": [
    {
     "data": {
      "text/html": [
       "<style>\n",
       ".list-inline {list-style: none; margin:0; padding: 0}\n",
       ".list-inline>li {display: inline-block}\n",
       ".list-inline>li:not(:last-child)::after {content: \"\\00b7\"; padding: 0 .5ex}\n",
       "</style>\n",
       "<ol class=list-inline><li>6</li><li>22</li></ol>\n"
      ],
      "text/latex": [
       "\\begin{enumerate*}\n",
       "\\item 6\n",
       "\\item 22\n",
       "\\end{enumerate*}\n"
      ],
      "text/markdown": [
       "1. 6\n",
       "2. 22\n",
       "\n",
       "\n"
      ],
      "text/plain": [
       "[1]  6 22"
      ]
     },
     "metadata": {},
     "output_type": "display_data"
    }
   ],
   "source": [
    "# pulling out the 14 shared genes\n",
    "\n",
    "# Merge the data frames on the 'gene' column\n",
    "shared_genes6 <- Reduce(function(x, y) merge(x, y, by = \"symbol\"), list(sig_CC_HC_genes, sig_CH_HC_genes, sig_HH_HC_genes))\n",
    "\n",
    "shared_genes6 <- as.data.frame(shared_genes6)\n",
    "                    \n",
    "# View the result\n",
    "dim(shared_genes6)\n"
   ]
  },
  {
   "cell_type": "code",
   "execution_count": 36,
   "id": "18422d21-d578-45fe-bc05-f62217b58896",
   "metadata": {},
   "outputs": [
    {
     "data": {
      "text/html": [
       "<table class=\"dataframe\">\n",
       "<caption>A data.frame: 6 × 22</caption>\n",
       "<thead>\n",
       "\t<tr><th scope=col>symbol</th><th scope=col>baseMean.x</th><th scope=col>log2FC.x</th><th scope=col>lfcSE.x</th><th scope=col>stat.x</th><th scope=col>pvalue.x</th><th scope=col>padj.x</th><th scope=col>name.x</th><th scope=col>baseMean.y</th><th scope=col>log2FC.y</th><th scope=col>⋯</th><th scope=col>pvalue.y</th><th scope=col>padj.y</th><th scope=col>name.y</th><th scope=col>baseMean</th><th scope=col>log2FC</th><th scope=col>lfcSE</th><th scope=col>stat</th><th scope=col>pvalue</th><th scope=col>padj</th><th scope=col>name</th></tr>\n",
       "\t<tr><th scope=col>&lt;chr&gt;</th><th scope=col>&lt;dbl&gt;</th><th scope=col>&lt;dbl&gt;</th><th scope=col>&lt;dbl&gt;</th><th scope=col>&lt;dbl&gt;</th><th scope=col>&lt;dbl&gt;</th><th scope=col>&lt;dbl&gt;</th><th scope=col>&lt;chr&gt;</th><th scope=col>&lt;dbl&gt;</th><th scope=col>&lt;dbl&gt;</th><th scope=col>⋯</th><th scope=col>&lt;dbl&gt;</th><th scope=col>&lt;dbl&gt;</th><th scope=col>&lt;chr&gt;</th><th scope=col>&lt;dbl&gt;</th><th scope=col>&lt;dbl&gt;</th><th scope=col>&lt;dbl&gt;</th><th scope=col>&lt;dbl&gt;</th><th scope=col>&lt;dbl&gt;</th><th scope=col>&lt;dbl&gt;</th><th scope=col>&lt;chr&gt;</th></tr>\n",
       "</thead>\n",
       "<tbody>\n",
       "\t<tr><td>LOC111117760</td><td>138.87250</td><td>-1.494878</td><td>0.2901102</td><td>-4.291052</td><td>1.778290e-05</td><td>0.023503416</td><td>disintegrin and metalloproteinase domain-containing protein 10-like, transcript variant X3</td><td>138.87250</td><td>-1.351404</td><td>⋯</td><td>1.504690e-04</td><td>1.631844e-02</td><td>disintegrin and metalloproteinase domain-containing protein 10-like, transcript variant X3</td><td>138.87250</td><td> 1.356759</td><td>0.2882152</td><td> 3.840044</td><td>1.230124e-04</td><td>2.639809e-02</td><td>disintegrin and metalloproteinase domain-containing protein 10-like, transcript variant X3</td></tr>\n",
       "\t<tr><td>LOC111119327</td><td> 13.31739</td><td>-1.507178</td><td>0.3154716</td><td>-3.985075</td><td>6.745881e-05</td><td>0.042257323</td><td>calcyphosin-like protein, transcript variant X3                                           </td><td> 13.31739</td><td>-1.898432</td><td>⋯</td><td>1.012038e-07</td><td>1.107538e-04</td><td>calcyphosin-like protein, transcript variant X3                                           </td><td> 13.31739</td><td> 2.084902</td><td>0.2990502</td><td> 6.135765</td><td>8.475033e-10</td><td>5.101122e-06</td><td>calcyphosin-like protein, transcript variant X3                                           </td></tr>\n",
       "\t<tr><td>LOC111123492</td><td> 43.91933</td><td>-1.264591</td><td>0.2211555</td><td>-4.587681</td><td>4.481962e-06</td><td>0.016845456</td><td>pre-B-cell leukemia transcription factor 1-like, transcript variant X11                   </td><td> 43.91933</td><td>-1.590124</td><td>⋯</td><td>5.947551e-10</td><td>3.579831e-06</td><td>pre-B-cell leukemia transcription factor 1-like, transcript variant X11                   </td><td> 43.91933</td><td> 1.565953</td><td>0.2081032</td><td> 6.323557</td><td>2.556094e-10</td><td>3.077026e-06</td><td>pre-B-cell leukemia transcription factor 1-like, transcript variant X11                   </td></tr>\n",
       "\t<tr><td>LOC111124674</td><td> 17.57497</td><td>-1.406706</td><td>0.2805413</td><td>-4.123123</td><td>3.737706e-05</td><td>0.036303375</td><td>gamma-glutamyltranspeptidase 1-like, transcript variant X1                                </td><td> 17.57497</td><td>-1.408187</td><td>⋯</td><td>3.273030e-05</td><td>5.438185e-03</td><td>gamma-glutamyltranspeptidase 1-like, transcript variant X1                                </td><td> 17.57497</td><td> 1.589960</td><td>0.2664452</td><td> 5.029027</td><td>4.929756e-07</td><td>6.171045e-04</td><td>gamma-glutamyltranspeptidase 1-like, transcript variant X1                                </td></tr>\n",
       "\t<tr><td>LOC111129146</td><td> 22.23491</td><td> 1.342719</td><td>0.2551562</td><td> 4.282548</td><td>1.847653e-05</td><td>0.023503416</td><td>FERM domain-containing protein 8-like                                                     </td><td> 22.23491</td><td> 1.463103</td><td>⋯</td><td>1.978316e-06</td><td>7.004403e-04</td><td>FERM domain-containing protein 8-like                                                     </td><td> 22.23491</td><td>-1.633663</td><td>0.2432214</td><td>-5.688903</td><td>1.278579e-08</td><td>3.651925e-05</td><td>FERM domain-containing protein 8-like                                                     </td></tr>\n",
       "\t<tr><td>LOC111133438</td><td> 21.61303</td><td>-1.806478</td><td>0.3140663</td><td>-4.955889</td><td>7.200032e-07</td><td>0.005412264</td><td>uncharacterized LOC111133438                                                              </td><td> 21.61303</td><td>-1.558558</td><td>⋯</td><td>3.297786e-05</td><td>5.438185e-03</td><td>uncharacterized LOC111133438                                                              </td><td> 21.61303</td><td> 1.949220</td><td>0.3058639</td><td> 5.555479</td><td>2.768520e-08</td><td>5.554574e-05</td><td>uncharacterized LOC111133438                                                              </td></tr>\n",
       "</tbody>\n",
       "</table>\n"
      ],
      "text/latex": [
       "A data.frame: 6 × 22\n",
       "\\begin{tabular}{lllllllllllllllllllll}\n",
       " symbol & baseMean.x & log2FC.x & lfcSE.x & stat.x & pvalue.x & padj.x & name.x & baseMean.y & log2FC.y & ⋯ & pvalue.y & padj.y & name.y & baseMean & log2FC & lfcSE & stat & pvalue & padj & name\\\\\n",
       " <chr> & <dbl> & <dbl> & <dbl> & <dbl> & <dbl> & <dbl> & <chr> & <dbl> & <dbl> & ⋯ & <dbl> & <dbl> & <chr> & <dbl> & <dbl> & <dbl> & <dbl> & <dbl> & <dbl> & <chr>\\\\\n",
       "\\hline\n",
       "\t LOC111117760 & 138.87250 & -1.494878 & 0.2901102 & -4.291052 & 1.778290e-05 & 0.023503416 & disintegrin and metalloproteinase domain-containing protein 10-like, transcript variant X3 & 138.87250 & -1.351404 & ⋯ & 1.504690e-04 & 1.631844e-02 & disintegrin and metalloproteinase domain-containing protein 10-like, transcript variant X3 & 138.87250 &  1.356759 & 0.2882152 &  3.840044 & 1.230124e-04 & 2.639809e-02 & disintegrin and metalloproteinase domain-containing protein 10-like, transcript variant X3\\\\\n",
       "\t LOC111119327 &  13.31739 & -1.507178 & 0.3154716 & -3.985075 & 6.745881e-05 & 0.042257323 & calcyphosin-like protein, transcript variant X3                                            &  13.31739 & -1.898432 & ⋯ & 1.012038e-07 & 1.107538e-04 & calcyphosin-like protein, transcript variant X3                                            &  13.31739 &  2.084902 & 0.2990502 &  6.135765 & 8.475033e-10 & 5.101122e-06 & calcyphosin-like protein, transcript variant X3                                           \\\\\n",
       "\t LOC111123492 &  43.91933 & -1.264591 & 0.2211555 & -4.587681 & 4.481962e-06 & 0.016845456 & pre-B-cell leukemia transcription factor 1-like, transcript variant X11                    &  43.91933 & -1.590124 & ⋯ & 5.947551e-10 & 3.579831e-06 & pre-B-cell leukemia transcription factor 1-like, transcript variant X11                    &  43.91933 &  1.565953 & 0.2081032 &  6.323557 & 2.556094e-10 & 3.077026e-06 & pre-B-cell leukemia transcription factor 1-like, transcript variant X11                   \\\\\n",
       "\t LOC111124674 &  17.57497 & -1.406706 & 0.2805413 & -4.123123 & 3.737706e-05 & 0.036303375 & gamma-glutamyltranspeptidase 1-like, transcript variant X1                                 &  17.57497 & -1.408187 & ⋯ & 3.273030e-05 & 5.438185e-03 & gamma-glutamyltranspeptidase 1-like, transcript variant X1                                 &  17.57497 &  1.589960 & 0.2664452 &  5.029027 & 4.929756e-07 & 6.171045e-04 & gamma-glutamyltranspeptidase 1-like, transcript variant X1                                \\\\\n",
       "\t LOC111129146 &  22.23491 &  1.342719 & 0.2551562 &  4.282548 & 1.847653e-05 & 0.023503416 & FERM domain-containing protein 8-like                                                      &  22.23491 &  1.463103 & ⋯ & 1.978316e-06 & 7.004403e-04 & FERM domain-containing protein 8-like                                                      &  22.23491 & -1.633663 & 0.2432214 & -5.688903 & 1.278579e-08 & 3.651925e-05 & FERM domain-containing protein 8-like                                                     \\\\\n",
       "\t LOC111133438 &  21.61303 & -1.806478 & 0.3140663 & -4.955889 & 7.200032e-07 & 0.005412264 & uncharacterized LOC111133438                                                               &  21.61303 & -1.558558 & ⋯ & 3.297786e-05 & 5.438185e-03 & uncharacterized LOC111133438                                                               &  21.61303 &  1.949220 & 0.3058639 &  5.555479 & 2.768520e-08 & 5.554574e-05 & uncharacterized LOC111133438                                                              \\\\\n",
       "\\end{tabular}\n"
      ],
      "text/markdown": [
       "\n",
       "A data.frame: 6 × 22\n",
       "\n",
       "| symbol &lt;chr&gt; | baseMean.x &lt;dbl&gt; | log2FC.x &lt;dbl&gt; | lfcSE.x &lt;dbl&gt; | stat.x &lt;dbl&gt; | pvalue.x &lt;dbl&gt; | padj.x &lt;dbl&gt; | name.x &lt;chr&gt; | baseMean.y &lt;dbl&gt; | log2FC.y &lt;dbl&gt; | ⋯ ⋯ | pvalue.y &lt;dbl&gt; | padj.y &lt;dbl&gt; | name.y &lt;chr&gt; | baseMean &lt;dbl&gt; | log2FC &lt;dbl&gt; | lfcSE &lt;dbl&gt; | stat &lt;dbl&gt; | pvalue &lt;dbl&gt; | padj &lt;dbl&gt; | name &lt;chr&gt; |\n",
       "|---|---|---|---|---|---|---|---|---|---|---|---|---|---|---|---|---|---|---|---|---|\n",
       "| LOC111117760 | 138.87250 | -1.494878 | 0.2901102 | -4.291052 | 1.778290e-05 | 0.023503416 | disintegrin and metalloproteinase domain-containing protein 10-like, transcript variant X3 | 138.87250 | -1.351404 | ⋯ | 1.504690e-04 | 1.631844e-02 | disintegrin and metalloproteinase domain-containing protein 10-like, transcript variant X3 | 138.87250 |  1.356759 | 0.2882152 |  3.840044 | 1.230124e-04 | 2.639809e-02 | disintegrin and metalloproteinase domain-containing protein 10-like, transcript variant X3 |\n",
       "| LOC111119327 |  13.31739 | -1.507178 | 0.3154716 | -3.985075 | 6.745881e-05 | 0.042257323 | calcyphosin-like protein, transcript variant X3                                            |  13.31739 | -1.898432 | ⋯ | 1.012038e-07 | 1.107538e-04 | calcyphosin-like protein, transcript variant X3                                            |  13.31739 |  2.084902 | 0.2990502 |  6.135765 | 8.475033e-10 | 5.101122e-06 | calcyphosin-like protein, transcript variant X3                                            |\n",
       "| LOC111123492 |  43.91933 | -1.264591 | 0.2211555 | -4.587681 | 4.481962e-06 | 0.016845456 | pre-B-cell leukemia transcription factor 1-like, transcript variant X11                    |  43.91933 | -1.590124 | ⋯ | 5.947551e-10 | 3.579831e-06 | pre-B-cell leukemia transcription factor 1-like, transcript variant X11                    |  43.91933 |  1.565953 | 0.2081032 |  6.323557 | 2.556094e-10 | 3.077026e-06 | pre-B-cell leukemia transcription factor 1-like, transcript variant X11                    |\n",
       "| LOC111124674 |  17.57497 | -1.406706 | 0.2805413 | -4.123123 | 3.737706e-05 | 0.036303375 | gamma-glutamyltranspeptidase 1-like, transcript variant X1                                 |  17.57497 | -1.408187 | ⋯ | 3.273030e-05 | 5.438185e-03 | gamma-glutamyltranspeptidase 1-like, transcript variant X1                                 |  17.57497 |  1.589960 | 0.2664452 |  5.029027 | 4.929756e-07 | 6.171045e-04 | gamma-glutamyltranspeptidase 1-like, transcript variant X1                                 |\n",
       "| LOC111129146 |  22.23491 |  1.342719 | 0.2551562 |  4.282548 | 1.847653e-05 | 0.023503416 | FERM domain-containing protein 8-like                                                      |  22.23491 |  1.463103 | ⋯ | 1.978316e-06 | 7.004403e-04 | FERM domain-containing protein 8-like                                                      |  22.23491 | -1.633663 | 0.2432214 | -5.688903 | 1.278579e-08 | 3.651925e-05 | FERM domain-containing protein 8-like                                                      |\n",
       "| LOC111133438 |  21.61303 | -1.806478 | 0.3140663 | -4.955889 | 7.200032e-07 | 0.005412264 | uncharacterized LOC111133438                                                               |  21.61303 | -1.558558 | ⋯ | 3.297786e-05 | 5.438185e-03 | uncharacterized LOC111133438                                                               |  21.61303 |  1.949220 | 0.3058639 |  5.555479 | 2.768520e-08 | 5.554574e-05 | uncharacterized LOC111133438                                                               |\n",
       "\n"
      ],
      "text/plain": [
       "  symbol       baseMean.x log2FC.x  lfcSE.x   stat.x    pvalue.x    \n",
       "1 LOC111117760 138.87250  -1.494878 0.2901102 -4.291052 1.778290e-05\n",
       "2 LOC111119327  13.31739  -1.507178 0.3154716 -3.985075 6.745881e-05\n",
       "3 LOC111123492  43.91933  -1.264591 0.2211555 -4.587681 4.481962e-06\n",
       "4 LOC111124674  17.57497  -1.406706 0.2805413 -4.123123 3.737706e-05\n",
       "5 LOC111129146  22.23491   1.342719 0.2551562  4.282548 1.847653e-05\n",
       "6 LOC111133438  21.61303  -1.806478 0.3140663 -4.955889 7.200032e-07\n",
       "  padj.x     \n",
       "1 0.023503416\n",
       "2 0.042257323\n",
       "3 0.016845456\n",
       "4 0.036303375\n",
       "5 0.023503416\n",
       "6 0.005412264\n",
       "  name.x                                                                                    \n",
       "1 disintegrin and metalloproteinase domain-containing protein 10-like, transcript variant X3\n",
       "2 calcyphosin-like protein, transcript variant X3                                           \n",
       "3 pre-B-cell leukemia transcription factor 1-like, transcript variant X11                   \n",
       "4 gamma-glutamyltranspeptidase 1-like, transcript variant X1                                \n",
       "5 FERM domain-containing protein 8-like                                                     \n",
       "6 uncharacterized LOC111133438                                                              \n",
       "  baseMean.y log2FC.y  ⋯ pvalue.y     padj.y      \n",
       "1 138.87250  -1.351404 ⋯ 1.504690e-04 1.631844e-02\n",
       "2  13.31739  -1.898432 ⋯ 1.012038e-07 1.107538e-04\n",
       "3  43.91933  -1.590124 ⋯ 5.947551e-10 3.579831e-06\n",
       "4  17.57497  -1.408187 ⋯ 3.273030e-05 5.438185e-03\n",
       "5  22.23491   1.463103 ⋯ 1.978316e-06 7.004403e-04\n",
       "6  21.61303  -1.558558 ⋯ 3.297786e-05 5.438185e-03\n",
       "  name.y                                                                                    \n",
       "1 disintegrin and metalloproteinase domain-containing protein 10-like, transcript variant X3\n",
       "2 calcyphosin-like protein, transcript variant X3                                           \n",
       "3 pre-B-cell leukemia transcription factor 1-like, transcript variant X11                   \n",
       "4 gamma-glutamyltranspeptidase 1-like, transcript variant X1                                \n",
       "5 FERM domain-containing protein 8-like                                                     \n",
       "6 uncharacterized LOC111133438                                                              \n",
       "  baseMean  log2FC    lfcSE     stat      pvalue       padj        \n",
       "1 138.87250  1.356759 0.2882152  3.840044 1.230124e-04 2.639809e-02\n",
       "2  13.31739  2.084902 0.2990502  6.135765 8.475033e-10 5.101122e-06\n",
       "3  43.91933  1.565953 0.2081032  6.323557 2.556094e-10 3.077026e-06\n",
       "4  17.57497  1.589960 0.2664452  5.029027 4.929756e-07 6.171045e-04\n",
       "5  22.23491 -1.633663 0.2432214 -5.688903 1.278579e-08 3.651925e-05\n",
       "6  21.61303  1.949220 0.3058639  5.555479 2.768520e-08 5.554574e-05\n",
       "  name                                                                                      \n",
       "1 disintegrin and metalloproteinase domain-containing protein 10-like, transcript variant X3\n",
       "2 calcyphosin-like protein, transcript variant X3                                           \n",
       "3 pre-B-cell leukemia transcription factor 1-like, transcript variant X11                   \n",
       "4 gamma-glutamyltranspeptidase 1-like, transcript variant X1                                \n",
       "5 FERM domain-containing protein 8-like                                                     \n",
       "6 uncharacterized LOC111133438                                                              "
      ]
     },
     "metadata": {},
     "output_type": "display_data"
    }
   ],
   "source": [
    "shared_genes6"
   ]
  },
  {
   "cell_type": "code",
   "execution_count": 37,
   "id": "58f87c17-b282-4148-8816-c50d3d89a807",
   "metadata": {},
   "outputs": [],
   "source": [
    "# adding info for what pairwise comparisons for HC these genes show up for\n",
    "shared_genes6$pair <- 'CH, HH, CC'"
   ]
  },
  {
   "cell_type": "markdown",
   "id": "767f6898-cc6c-4e58-930c-c7cbea8e1b2b",
   "metadata": {},
   "source": [
    "all of these except for LOC111133438 were in the original analysis - should make a venn diagram of overlap between exon features-to-meta features and new analysis with gene body methylation"
   ]
  },
  {
   "cell_type": "code",
   "execution_count": 38,
   "id": "af59f8a8-9ebd-401a-92a5-bf716992f9b2",
   "metadata": {},
   "outputs": [],
   "source": [
    "write.csv(shared_genes6, '/project/pi_sarah_gignouxwolfsohn_uml_edu/julia/CE_MethylRAD_analysis_2018/analysis/deseq_res_files/geneFeatures_res/venn_genes/6shared_genes.csv')"
   ]
  },
  {
   "cell_type": "markdown",
   "id": "27ad1fce-b00b-470b-af5c-8f105ee66d81",
   "metadata": {},
   "source": [
    "pulling out the **54 shared genes between HH vs. HC and CH vs. HC**"
   ]
  },
  {
   "cell_type": "code",
   "execution_count": 39,
   "id": "2ce2a9c4-ad2a-4db1-87b2-dc54182e1bad",
   "metadata": {},
   "outputs": [
    {
     "data": {
      "text/html": [
       "<style>\n",
       ".list-inline {list-style: none; margin:0; padding: 0}\n",
       ".list-inline>li {display: inline-block}\n",
       ".list-inline>li:not(:last-child)::after {content: \"\\00b7\"; padding: 0 .5ex}\n",
       "</style>\n",
       "<ol class=list-inline><li>54</li><li>15</li></ol>\n"
      ],
      "text/latex": [
       "\\begin{enumerate*}\n",
       "\\item 54\n",
       "\\item 15\n",
       "\\end{enumerate*}\n"
      ],
      "text/markdown": [
       "1. 54\n",
       "2. 15\n",
       "\n",
       "\n"
      ],
      "text/plain": [
       "[1] 54 15"
      ]
     },
     "metadata": {},
     "output_type": "display_data"
    }
   ],
   "source": [
    "# pulling out the 54 shared genes\n",
    "\n",
    "# Merge the data frames on the 'gene' column\n",
    "shared_genes54 <- Reduce(function(x, y) merge(x, y, by = \"symbol\"), list(sig_CH_HC_genes, sig_HH_HC_genes))\n",
    "                    \n",
    "shared_genes54 <- as.data.frame(shared_genes54)\n",
    "\n",
    "# View the result\n",
    "dim(shared_genes54)\n"
   ]
  },
  {
   "cell_type": "code",
   "execution_count": 40,
   "id": "670bdc6f-a500-41ac-9570-ef79fcdeb63a",
   "metadata": {},
   "outputs": [],
   "source": [
    "# adding info for what pairwise comparisons for HC these genes show up for\n",
    "shared_genes54$pair <- 'CH, HH'"
   ]
  },
  {
   "cell_type": "code",
   "execution_count": 41,
   "id": "ff04c122-af20-4384-90d6-2b357c3ac4e5",
   "metadata": {},
   "outputs": [
    {
     "data": {
      "text/html": [
       "<table class=\"dataframe\">\n",
       "<caption>A data.frame: 6 × 16</caption>\n",
       "<thead>\n",
       "\t<tr><th></th><th scope=col>symbol</th><th scope=col>baseMean.x</th><th scope=col>log2FC.x</th><th scope=col>lfcSE.x</th><th scope=col>stat.x</th><th scope=col>pvalue.x</th><th scope=col>padj.x</th><th scope=col>name.x</th><th scope=col>baseMean.y</th><th scope=col>log2FC.y</th><th scope=col>lfcSE.y</th><th scope=col>stat.y</th><th scope=col>pvalue.y</th><th scope=col>padj.y</th><th scope=col>name.y</th><th scope=col>pair</th></tr>\n",
       "\t<tr><th></th><th scope=col>&lt;chr&gt;</th><th scope=col>&lt;dbl&gt;</th><th scope=col>&lt;dbl&gt;</th><th scope=col>&lt;dbl&gt;</th><th scope=col>&lt;dbl&gt;</th><th scope=col>&lt;dbl&gt;</th><th scope=col>&lt;dbl&gt;</th><th scope=col>&lt;chr&gt;</th><th scope=col>&lt;dbl&gt;</th><th scope=col>&lt;dbl&gt;</th><th scope=col>&lt;dbl&gt;</th><th scope=col>&lt;dbl&gt;</th><th scope=col>&lt;dbl&gt;</th><th scope=col>&lt;dbl&gt;</th><th scope=col>&lt;chr&gt;</th><th scope=col>&lt;chr&gt;</th></tr>\n",
       "</thead>\n",
       "<tbody>\n",
       "\t<tr><th scope=row>1</th><td>LOC111099548</td><td>42.98619</td><td>-1.267268</td><td>0.2026166</td><td>-5.020656</td><td>5.149523e-07</td><td>0.0003099498</td><td>kinesin-like protein KIF17                                    </td><td>42.98619</td><td>1.054197</td><td>0.1952758</td><td>4.118262</td><td>3.817409e-05</td><td>0.0119860976</td><td>kinesin-like protein KIF17                                    </td><td>CH, HH</td></tr>\n",
       "\t<tr><th scope=row>2</th><td>LOC111099571</td><td>31.11937</td><td>-1.418193</td><td>0.2861630</td><td>-4.082264</td><td>4.459915e-05</td><td>0.0069725275</td><td>histone RNA hairpin-binding protein-like                      </td><td>31.11937</td><td>1.583044</td><td>0.2784773</td><td>4.786904</td><td>1.693737e-06</td><td>0.0010731159</td><td>histone RNA hairpin-binding protein-like                      </td><td>CH, HH</td></tr>\n",
       "\t<tr><th scope=row>3</th><td>LOC111099930</td><td>35.09830</td><td>-1.198155</td><td>0.2270953</td><td>-4.175140</td><td>2.978035e-05</td><td>0.0051868387</td><td>uncharacterized LOC111099930, transcript variant X1           </td><td>35.09830</td><td>1.318024</td><td>0.2167696</td><td>4.927003</td><td>8.350045e-07</td><td>0.0007732142</td><td>uncharacterized LOC111099930, transcript variant X1           </td><td>CH, HH</td></tr>\n",
       "\t<tr><th scope=row>4</th><td>LOC111100608</td><td>22.90296</td><td>-1.462266</td><td>0.2851646</td><td>-4.251109</td><td>2.127149e-05</td><td>0.0040010349</td><td>DDRGK domain-containing protein 1-like                        </td><td>22.90296</td><td>1.584298</td><td>0.2760621</td><td>4.833325</td><td>1.342715e-06</td><td>0.0009508000</td><td>DDRGK domain-containing protein 1-like                        </td><td>CH, HH</td></tr>\n",
       "\t<tr><th scope=row>5</th><td>LOC111101237</td><td>37.09165</td><td>-1.139884</td><td>0.2019498</td><td>-4.406461</td><td>1.050732e-05</td><td>0.0024801387</td><td>putative 2'-deoxynucleoside 5'-phosphate N-hydrolase 1        </td><td>37.09165</td><td>1.078964</td><td>0.1927178</td><td>4.301443</td><td>1.696897e-05</td><td>0.0061900739</td><td>putative 2'-deoxynucleoside 5'-phosphate N-hydrolase 1        </td><td>CH, HH</td></tr>\n",
       "\t<tr><th scope=row>6</th><td>LOC111101984</td><td>10.15872</td><td>-1.767496</td><td>0.3372300</td><td>-4.499884</td><td>6.799068e-06</td><td>0.0018601633</td><td>von Willebrand factor D and EGF domain-containing protein-like</td><td>10.15872</td><td>1.604290</td><td>0.3316931</td><td>4.082963</td><td>4.446518e-05</td><td>0.0130554113</td><td>von Willebrand factor D and EGF domain-containing protein-like</td><td>CH, HH</td></tr>\n",
       "</tbody>\n",
       "</table>\n"
      ],
      "text/latex": [
       "A data.frame: 6 × 16\n",
       "\\begin{tabular}{r|llllllllllllllll}\n",
       "  & symbol & baseMean.x & log2FC.x & lfcSE.x & stat.x & pvalue.x & padj.x & name.x & baseMean.y & log2FC.y & lfcSE.y & stat.y & pvalue.y & padj.y & name.y & pair\\\\\n",
       "  & <chr> & <dbl> & <dbl> & <dbl> & <dbl> & <dbl> & <dbl> & <chr> & <dbl> & <dbl> & <dbl> & <dbl> & <dbl> & <dbl> & <chr> & <chr>\\\\\n",
       "\\hline\n",
       "\t1 & LOC111099548 & 42.98619 & -1.267268 & 0.2026166 & -5.020656 & 5.149523e-07 & 0.0003099498 & kinesin-like protein KIF17                                     & 42.98619 & 1.054197 & 0.1952758 & 4.118262 & 3.817409e-05 & 0.0119860976 & kinesin-like protein KIF17                                     & CH, HH\\\\\n",
       "\t2 & LOC111099571 & 31.11937 & -1.418193 & 0.2861630 & -4.082264 & 4.459915e-05 & 0.0069725275 & histone RNA hairpin-binding protein-like                       & 31.11937 & 1.583044 & 0.2784773 & 4.786904 & 1.693737e-06 & 0.0010731159 & histone RNA hairpin-binding protein-like                       & CH, HH\\\\\n",
       "\t3 & LOC111099930 & 35.09830 & -1.198155 & 0.2270953 & -4.175140 & 2.978035e-05 & 0.0051868387 & uncharacterized LOC111099930, transcript variant X1            & 35.09830 & 1.318024 & 0.2167696 & 4.927003 & 8.350045e-07 & 0.0007732142 & uncharacterized LOC111099930, transcript variant X1            & CH, HH\\\\\n",
       "\t4 & LOC111100608 & 22.90296 & -1.462266 & 0.2851646 & -4.251109 & 2.127149e-05 & 0.0040010349 & DDRGK domain-containing protein 1-like                         & 22.90296 & 1.584298 & 0.2760621 & 4.833325 & 1.342715e-06 & 0.0009508000 & DDRGK domain-containing protein 1-like                         & CH, HH\\\\\n",
       "\t5 & LOC111101237 & 37.09165 & -1.139884 & 0.2019498 & -4.406461 & 1.050732e-05 & 0.0024801387 & putative 2'-deoxynucleoside 5'-phosphate N-hydrolase 1         & 37.09165 & 1.078964 & 0.1927178 & 4.301443 & 1.696897e-05 & 0.0061900739 & putative 2'-deoxynucleoside 5'-phosphate N-hydrolase 1         & CH, HH\\\\\n",
       "\t6 & LOC111101984 & 10.15872 & -1.767496 & 0.3372300 & -4.499884 & 6.799068e-06 & 0.0018601633 & von Willebrand factor D and EGF domain-containing protein-like & 10.15872 & 1.604290 & 0.3316931 & 4.082963 & 4.446518e-05 & 0.0130554113 & von Willebrand factor D and EGF domain-containing protein-like & CH, HH\\\\\n",
       "\\end{tabular}\n"
      ],
      "text/markdown": [
       "\n",
       "A data.frame: 6 × 16\n",
       "\n",
       "| <!--/--> | symbol &lt;chr&gt; | baseMean.x &lt;dbl&gt; | log2FC.x &lt;dbl&gt; | lfcSE.x &lt;dbl&gt; | stat.x &lt;dbl&gt; | pvalue.x &lt;dbl&gt; | padj.x &lt;dbl&gt; | name.x &lt;chr&gt; | baseMean.y &lt;dbl&gt; | log2FC.y &lt;dbl&gt; | lfcSE.y &lt;dbl&gt; | stat.y &lt;dbl&gt; | pvalue.y &lt;dbl&gt; | padj.y &lt;dbl&gt; | name.y &lt;chr&gt; | pair &lt;chr&gt; |\n",
       "|---|---|---|---|---|---|---|---|---|---|---|---|---|---|---|---|---|\n",
       "| 1 | LOC111099548 | 42.98619 | -1.267268 | 0.2026166 | -5.020656 | 5.149523e-07 | 0.0003099498 | kinesin-like protein KIF17                                     | 42.98619 | 1.054197 | 0.1952758 | 4.118262 | 3.817409e-05 | 0.0119860976 | kinesin-like protein KIF17                                     | CH, HH |\n",
       "| 2 | LOC111099571 | 31.11937 | -1.418193 | 0.2861630 | -4.082264 | 4.459915e-05 | 0.0069725275 | histone RNA hairpin-binding protein-like                       | 31.11937 | 1.583044 | 0.2784773 | 4.786904 | 1.693737e-06 | 0.0010731159 | histone RNA hairpin-binding protein-like                       | CH, HH |\n",
       "| 3 | LOC111099930 | 35.09830 | -1.198155 | 0.2270953 | -4.175140 | 2.978035e-05 | 0.0051868387 | uncharacterized LOC111099930, transcript variant X1            | 35.09830 | 1.318024 | 0.2167696 | 4.927003 | 8.350045e-07 | 0.0007732142 | uncharacterized LOC111099930, transcript variant X1            | CH, HH |\n",
       "| 4 | LOC111100608 | 22.90296 | -1.462266 | 0.2851646 | -4.251109 | 2.127149e-05 | 0.0040010349 | DDRGK domain-containing protein 1-like                         | 22.90296 | 1.584298 | 0.2760621 | 4.833325 | 1.342715e-06 | 0.0009508000 | DDRGK domain-containing protein 1-like                         | CH, HH |\n",
       "| 5 | LOC111101237 | 37.09165 | -1.139884 | 0.2019498 | -4.406461 | 1.050732e-05 | 0.0024801387 | putative 2'-deoxynucleoside 5'-phosphate N-hydrolase 1         | 37.09165 | 1.078964 | 0.1927178 | 4.301443 | 1.696897e-05 | 0.0061900739 | putative 2'-deoxynucleoside 5'-phosphate N-hydrolase 1         | CH, HH |\n",
       "| 6 | LOC111101984 | 10.15872 | -1.767496 | 0.3372300 | -4.499884 | 6.799068e-06 | 0.0018601633 | von Willebrand factor D and EGF domain-containing protein-like | 10.15872 | 1.604290 | 0.3316931 | 4.082963 | 4.446518e-05 | 0.0130554113 | von Willebrand factor D and EGF domain-containing protein-like | CH, HH |\n",
       "\n"
      ],
      "text/plain": [
       "  symbol       baseMean.x log2FC.x  lfcSE.x   stat.x    pvalue.x    \n",
       "1 LOC111099548 42.98619   -1.267268 0.2026166 -5.020656 5.149523e-07\n",
       "2 LOC111099571 31.11937   -1.418193 0.2861630 -4.082264 4.459915e-05\n",
       "3 LOC111099930 35.09830   -1.198155 0.2270953 -4.175140 2.978035e-05\n",
       "4 LOC111100608 22.90296   -1.462266 0.2851646 -4.251109 2.127149e-05\n",
       "5 LOC111101237 37.09165   -1.139884 0.2019498 -4.406461 1.050732e-05\n",
       "6 LOC111101984 10.15872   -1.767496 0.3372300 -4.499884 6.799068e-06\n",
       "  padj.x       name.x                                                        \n",
       "1 0.0003099498 kinesin-like protein KIF17                                    \n",
       "2 0.0069725275 histone RNA hairpin-binding protein-like                      \n",
       "3 0.0051868387 uncharacterized LOC111099930, transcript variant X1           \n",
       "4 0.0040010349 DDRGK domain-containing protein 1-like                        \n",
       "5 0.0024801387 putative 2'-deoxynucleoside 5'-phosphate N-hydrolase 1        \n",
       "6 0.0018601633 von Willebrand factor D and EGF domain-containing protein-like\n",
       "  baseMean.y log2FC.y lfcSE.y   stat.y   pvalue.y     padj.y      \n",
       "1 42.98619   1.054197 0.1952758 4.118262 3.817409e-05 0.0119860976\n",
       "2 31.11937   1.583044 0.2784773 4.786904 1.693737e-06 0.0010731159\n",
       "3 35.09830   1.318024 0.2167696 4.927003 8.350045e-07 0.0007732142\n",
       "4 22.90296   1.584298 0.2760621 4.833325 1.342715e-06 0.0009508000\n",
       "5 37.09165   1.078964 0.1927178 4.301443 1.696897e-05 0.0061900739\n",
       "6 10.15872   1.604290 0.3316931 4.082963 4.446518e-05 0.0130554113\n",
       "  name.y                                                         pair  \n",
       "1 kinesin-like protein KIF17                                     CH, HH\n",
       "2 histone RNA hairpin-binding protein-like                       CH, HH\n",
       "3 uncharacterized LOC111099930, transcript variant X1            CH, HH\n",
       "4 DDRGK domain-containing protein 1-like                         CH, HH\n",
       "5 putative 2'-deoxynucleoside 5'-phosphate N-hydrolase 1         CH, HH\n",
       "6 von Willebrand factor D and EGF domain-containing protein-like CH, HH"
      ]
     },
     "metadata": {},
     "output_type": "display_data"
    }
   ],
   "source": [
    "head(shared_genes54)"
   ]
  },
  {
   "cell_type": "markdown",
   "id": "7fdde9d3-df60-4219-a7d7-516d851a5b71",
   "metadata": {},
   "source": [
    "pulling out the **48 genes shared ONLY between HH vs. HC and CH vs. HC**"
   ]
  },
  {
   "cell_type": "code",
   "execution_count": 42,
   "id": "f14bcd56-8da7-4f5a-b490-1f41afc8c99f",
   "metadata": {},
   "outputs": [
    {
     "data": {
      "text/html": [
       "<style>\n",
       ".list-inline {list-style: none; margin:0; padding: 0}\n",
       ".list-inline>li {display: inline-block}\n",
       ".list-inline>li:not(:last-child)::after {content: \"\\00b7\"; padding: 0 .5ex}\n",
       "</style>\n",
       "<ol class=list-inline><li>48</li><li>16</li></ol>\n"
      ],
      "text/latex": [
       "\\begin{enumerate*}\n",
       "\\item 48\n",
       "\\item 16\n",
       "\\end{enumerate*}\n"
      ],
      "text/markdown": [
       "1. 48\n",
       "2. 16\n",
       "\n",
       "\n"
      ],
      "text/plain": [
       "[1] 48 16"
      ]
     },
     "metadata": {},
     "output_type": "display_data"
    }
   ],
   "source": [
    "# to remove the 6 genes that are shared between all the comparisons, and to only look at those shared between just these two...\n",
    "shared_genes48 <- shared_genes54[!shared_genes54$symbol %in% shared_genes6$symbol, ]\n",
    "dim(shared_genes48)"
   ]
  },
  {
   "cell_type": "code",
   "execution_count": 43,
   "id": "70a81e84-7f98-4f9d-87d4-3fa342e58234",
   "metadata": {},
   "outputs": [],
   "source": [
    "# adding info for what pairwise comparisons for HC these genes show up for\n",
    "shared_genes48$pair <- 'CH, HH'"
   ]
  },
  {
   "cell_type": "code",
   "execution_count": 44,
   "id": "cf949b2d-bfb1-43ff-9499-89e959cd7518",
   "metadata": {},
   "outputs": [
    {
     "data": {
      "text/html": [
       "<table class=\"dataframe\">\n",
       "<caption>A data.frame: 6 × 16</caption>\n",
       "<thead>\n",
       "\t<tr><th></th><th scope=col>symbol</th><th scope=col>baseMean.x</th><th scope=col>log2FC.x</th><th scope=col>lfcSE.x</th><th scope=col>stat.x</th><th scope=col>pvalue.x</th><th scope=col>padj.x</th><th scope=col>name.x</th><th scope=col>baseMean.y</th><th scope=col>log2FC.y</th><th scope=col>lfcSE.y</th><th scope=col>stat.y</th><th scope=col>pvalue.y</th><th scope=col>padj.y</th><th scope=col>name.y</th><th scope=col>pair</th></tr>\n",
       "\t<tr><th></th><th scope=col>&lt;chr&gt;</th><th scope=col>&lt;dbl&gt;</th><th scope=col>&lt;dbl&gt;</th><th scope=col>&lt;dbl&gt;</th><th scope=col>&lt;dbl&gt;</th><th scope=col>&lt;dbl&gt;</th><th scope=col>&lt;dbl&gt;</th><th scope=col>&lt;chr&gt;</th><th scope=col>&lt;dbl&gt;</th><th scope=col>&lt;dbl&gt;</th><th scope=col>&lt;dbl&gt;</th><th scope=col>&lt;dbl&gt;</th><th scope=col>&lt;dbl&gt;</th><th scope=col>&lt;dbl&gt;</th><th scope=col>&lt;chr&gt;</th><th scope=col>&lt;chr&gt;</th></tr>\n",
       "</thead>\n",
       "<tbody>\n",
       "\t<tr><th scope=row>1</th><td>LOC111099548</td><td>42.98619</td><td>-1.267268</td><td>0.2026166</td><td>-5.020656</td><td>5.149523e-07</td><td>0.0003099498</td><td>kinesin-like protein KIF17                                    </td><td>42.98619</td><td>1.054197</td><td>0.1952758</td><td>4.118262</td><td>3.817409e-05</td><td>0.0119860976</td><td>kinesin-like protein KIF17                                    </td><td>CH, HH</td></tr>\n",
       "\t<tr><th scope=row>2</th><td>LOC111099571</td><td>31.11937</td><td>-1.418193</td><td>0.2861630</td><td>-4.082264</td><td>4.459915e-05</td><td>0.0069725275</td><td>histone RNA hairpin-binding protein-like                      </td><td>31.11937</td><td>1.583044</td><td>0.2784773</td><td>4.786904</td><td>1.693737e-06</td><td>0.0010731159</td><td>histone RNA hairpin-binding protein-like                      </td><td>CH, HH</td></tr>\n",
       "\t<tr><th scope=row>3</th><td>LOC111099930</td><td>35.09830</td><td>-1.198155</td><td>0.2270953</td><td>-4.175140</td><td>2.978035e-05</td><td>0.0051868387</td><td>uncharacterized LOC111099930, transcript variant X1           </td><td>35.09830</td><td>1.318024</td><td>0.2167696</td><td>4.927003</td><td>8.350045e-07</td><td>0.0007732142</td><td>uncharacterized LOC111099930, transcript variant X1           </td><td>CH, HH</td></tr>\n",
       "\t<tr><th scope=row>4</th><td>LOC111100608</td><td>22.90296</td><td>-1.462266</td><td>0.2851646</td><td>-4.251109</td><td>2.127149e-05</td><td>0.0040010349</td><td>DDRGK domain-containing protein 1-like                        </td><td>22.90296</td><td>1.584298</td><td>0.2760621</td><td>4.833325</td><td>1.342715e-06</td><td>0.0009508000</td><td>DDRGK domain-containing protein 1-like                        </td><td>CH, HH</td></tr>\n",
       "\t<tr><th scope=row>5</th><td>LOC111101237</td><td>37.09165</td><td>-1.139884</td><td>0.2019498</td><td>-4.406461</td><td>1.050732e-05</td><td>0.0024801387</td><td>putative 2'-deoxynucleoside 5'-phosphate N-hydrolase 1        </td><td>37.09165</td><td>1.078964</td><td>0.1927178</td><td>4.301443</td><td>1.696897e-05</td><td>0.0061900739</td><td>putative 2'-deoxynucleoside 5'-phosphate N-hydrolase 1        </td><td>CH, HH</td></tr>\n",
       "\t<tr><th scope=row>6</th><td>LOC111101984</td><td>10.15872</td><td>-1.767496</td><td>0.3372300</td><td>-4.499884</td><td>6.799068e-06</td><td>0.0018601633</td><td>von Willebrand factor D and EGF domain-containing protein-like</td><td>10.15872</td><td>1.604290</td><td>0.3316931</td><td>4.082963</td><td>4.446518e-05</td><td>0.0130554113</td><td>von Willebrand factor D and EGF domain-containing protein-like</td><td>CH, HH</td></tr>\n",
       "</tbody>\n",
       "</table>\n"
      ],
      "text/latex": [
       "A data.frame: 6 × 16\n",
       "\\begin{tabular}{r|llllllllllllllll}\n",
       "  & symbol & baseMean.x & log2FC.x & lfcSE.x & stat.x & pvalue.x & padj.x & name.x & baseMean.y & log2FC.y & lfcSE.y & stat.y & pvalue.y & padj.y & name.y & pair\\\\\n",
       "  & <chr> & <dbl> & <dbl> & <dbl> & <dbl> & <dbl> & <dbl> & <chr> & <dbl> & <dbl> & <dbl> & <dbl> & <dbl> & <dbl> & <chr> & <chr>\\\\\n",
       "\\hline\n",
       "\t1 & LOC111099548 & 42.98619 & -1.267268 & 0.2026166 & -5.020656 & 5.149523e-07 & 0.0003099498 & kinesin-like protein KIF17                                     & 42.98619 & 1.054197 & 0.1952758 & 4.118262 & 3.817409e-05 & 0.0119860976 & kinesin-like protein KIF17                                     & CH, HH\\\\\n",
       "\t2 & LOC111099571 & 31.11937 & -1.418193 & 0.2861630 & -4.082264 & 4.459915e-05 & 0.0069725275 & histone RNA hairpin-binding protein-like                       & 31.11937 & 1.583044 & 0.2784773 & 4.786904 & 1.693737e-06 & 0.0010731159 & histone RNA hairpin-binding protein-like                       & CH, HH\\\\\n",
       "\t3 & LOC111099930 & 35.09830 & -1.198155 & 0.2270953 & -4.175140 & 2.978035e-05 & 0.0051868387 & uncharacterized LOC111099930, transcript variant X1            & 35.09830 & 1.318024 & 0.2167696 & 4.927003 & 8.350045e-07 & 0.0007732142 & uncharacterized LOC111099930, transcript variant X1            & CH, HH\\\\\n",
       "\t4 & LOC111100608 & 22.90296 & -1.462266 & 0.2851646 & -4.251109 & 2.127149e-05 & 0.0040010349 & DDRGK domain-containing protein 1-like                         & 22.90296 & 1.584298 & 0.2760621 & 4.833325 & 1.342715e-06 & 0.0009508000 & DDRGK domain-containing protein 1-like                         & CH, HH\\\\\n",
       "\t5 & LOC111101237 & 37.09165 & -1.139884 & 0.2019498 & -4.406461 & 1.050732e-05 & 0.0024801387 & putative 2'-deoxynucleoside 5'-phosphate N-hydrolase 1         & 37.09165 & 1.078964 & 0.1927178 & 4.301443 & 1.696897e-05 & 0.0061900739 & putative 2'-deoxynucleoside 5'-phosphate N-hydrolase 1         & CH, HH\\\\\n",
       "\t6 & LOC111101984 & 10.15872 & -1.767496 & 0.3372300 & -4.499884 & 6.799068e-06 & 0.0018601633 & von Willebrand factor D and EGF domain-containing protein-like & 10.15872 & 1.604290 & 0.3316931 & 4.082963 & 4.446518e-05 & 0.0130554113 & von Willebrand factor D and EGF domain-containing protein-like & CH, HH\\\\\n",
       "\\end{tabular}\n"
      ],
      "text/markdown": [
       "\n",
       "A data.frame: 6 × 16\n",
       "\n",
       "| <!--/--> | symbol &lt;chr&gt; | baseMean.x &lt;dbl&gt; | log2FC.x &lt;dbl&gt; | lfcSE.x &lt;dbl&gt; | stat.x &lt;dbl&gt; | pvalue.x &lt;dbl&gt; | padj.x &lt;dbl&gt; | name.x &lt;chr&gt; | baseMean.y &lt;dbl&gt; | log2FC.y &lt;dbl&gt; | lfcSE.y &lt;dbl&gt; | stat.y &lt;dbl&gt; | pvalue.y &lt;dbl&gt; | padj.y &lt;dbl&gt; | name.y &lt;chr&gt; | pair &lt;chr&gt; |\n",
       "|---|---|---|---|---|---|---|---|---|---|---|---|---|---|---|---|---|\n",
       "| 1 | LOC111099548 | 42.98619 | -1.267268 | 0.2026166 | -5.020656 | 5.149523e-07 | 0.0003099498 | kinesin-like protein KIF17                                     | 42.98619 | 1.054197 | 0.1952758 | 4.118262 | 3.817409e-05 | 0.0119860976 | kinesin-like protein KIF17                                     | CH, HH |\n",
       "| 2 | LOC111099571 | 31.11937 | -1.418193 | 0.2861630 | -4.082264 | 4.459915e-05 | 0.0069725275 | histone RNA hairpin-binding protein-like                       | 31.11937 | 1.583044 | 0.2784773 | 4.786904 | 1.693737e-06 | 0.0010731159 | histone RNA hairpin-binding protein-like                       | CH, HH |\n",
       "| 3 | LOC111099930 | 35.09830 | -1.198155 | 0.2270953 | -4.175140 | 2.978035e-05 | 0.0051868387 | uncharacterized LOC111099930, transcript variant X1            | 35.09830 | 1.318024 | 0.2167696 | 4.927003 | 8.350045e-07 | 0.0007732142 | uncharacterized LOC111099930, transcript variant X1            | CH, HH |\n",
       "| 4 | LOC111100608 | 22.90296 | -1.462266 | 0.2851646 | -4.251109 | 2.127149e-05 | 0.0040010349 | DDRGK domain-containing protein 1-like                         | 22.90296 | 1.584298 | 0.2760621 | 4.833325 | 1.342715e-06 | 0.0009508000 | DDRGK domain-containing protein 1-like                         | CH, HH |\n",
       "| 5 | LOC111101237 | 37.09165 | -1.139884 | 0.2019498 | -4.406461 | 1.050732e-05 | 0.0024801387 | putative 2'-deoxynucleoside 5'-phosphate N-hydrolase 1         | 37.09165 | 1.078964 | 0.1927178 | 4.301443 | 1.696897e-05 | 0.0061900739 | putative 2'-deoxynucleoside 5'-phosphate N-hydrolase 1         | CH, HH |\n",
       "| 6 | LOC111101984 | 10.15872 | -1.767496 | 0.3372300 | -4.499884 | 6.799068e-06 | 0.0018601633 | von Willebrand factor D and EGF domain-containing protein-like | 10.15872 | 1.604290 | 0.3316931 | 4.082963 | 4.446518e-05 | 0.0130554113 | von Willebrand factor D and EGF domain-containing protein-like | CH, HH |\n",
       "\n"
      ],
      "text/plain": [
       "  symbol       baseMean.x log2FC.x  lfcSE.x   stat.x    pvalue.x    \n",
       "1 LOC111099548 42.98619   -1.267268 0.2026166 -5.020656 5.149523e-07\n",
       "2 LOC111099571 31.11937   -1.418193 0.2861630 -4.082264 4.459915e-05\n",
       "3 LOC111099930 35.09830   -1.198155 0.2270953 -4.175140 2.978035e-05\n",
       "4 LOC111100608 22.90296   -1.462266 0.2851646 -4.251109 2.127149e-05\n",
       "5 LOC111101237 37.09165   -1.139884 0.2019498 -4.406461 1.050732e-05\n",
       "6 LOC111101984 10.15872   -1.767496 0.3372300 -4.499884 6.799068e-06\n",
       "  padj.x       name.x                                                        \n",
       "1 0.0003099498 kinesin-like protein KIF17                                    \n",
       "2 0.0069725275 histone RNA hairpin-binding protein-like                      \n",
       "3 0.0051868387 uncharacterized LOC111099930, transcript variant X1           \n",
       "4 0.0040010349 DDRGK domain-containing protein 1-like                        \n",
       "5 0.0024801387 putative 2'-deoxynucleoside 5'-phosphate N-hydrolase 1        \n",
       "6 0.0018601633 von Willebrand factor D and EGF domain-containing protein-like\n",
       "  baseMean.y log2FC.y lfcSE.y   stat.y   pvalue.y     padj.y      \n",
       "1 42.98619   1.054197 0.1952758 4.118262 3.817409e-05 0.0119860976\n",
       "2 31.11937   1.583044 0.2784773 4.786904 1.693737e-06 0.0010731159\n",
       "3 35.09830   1.318024 0.2167696 4.927003 8.350045e-07 0.0007732142\n",
       "4 22.90296   1.584298 0.2760621 4.833325 1.342715e-06 0.0009508000\n",
       "5 37.09165   1.078964 0.1927178 4.301443 1.696897e-05 0.0061900739\n",
       "6 10.15872   1.604290 0.3316931 4.082963 4.446518e-05 0.0130554113\n",
       "  name.y                                                         pair  \n",
       "1 kinesin-like protein KIF17                                     CH, HH\n",
       "2 histone RNA hairpin-binding protein-like                       CH, HH\n",
       "3 uncharacterized LOC111099930, transcript variant X1            CH, HH\n",
       "4 DDRGK domain-containing protein 1-like                         CH, HH\n",
       "5 putative 2'-deoxynucleoside 5'-phosphate N-hydrolase 1         CH, HH\n",
       "6 von Willebrand factor D and EGF domain-containing protein-like CH, HH"
      ]
     },
     "metadata": {},
     "output_type": "display_data"
    }
   ],
   "source": [
    "head(shared_genes48)"
   ]
  },
  {
   "cell_type": "code",
   "execution_count": 45,
   "id": "ab60f428-efb6-4253-bc82-c99c5b0fb85b",
   "metadata": {},
   "outputs": [],
   "source": [
    "write.csv(shared_genes48, '/project/pi_sarah_gignouxwolfsohn_uml_edu/julia/CE_MethylRAD_analysis_2018/analysis/deseq_res_files/geneFeatures_res/venn_genes/48shared_genes.csv')"
   ]
  },
  {
   "cell_type": "markdown",
   "id": "b2270809-0194-4575-9c03-935eea67b7e4",
   "metadata": {},
   "source": [
    "pulling out the **9 genes shared bewteen CC vs. HC and CH vs. HC**"
   ]
  },
  {
   "cell_type": "code",
   "execution_count": 46,
   "id": "fa44b419-7017-4535-a640-c1b7afa568e1",
   "metadata": {},
   "outputs": [
    {
     "data": {
      "text/html": [
       "<style>\n",
       ".list-inline {list-style: none; margin:0; padding: 0}\n",
       ".list-inline>li {display: inline-block}\n",
       ".list-inline>li:not(:last-child)::after {content: \"\\00b7\"; padding: 0 .5ex}\n",
       "</style>\n",
       "<ol class=list-inline><li>9</li><li>15</li></ol>\n"
      ],
      "text/latex": [
       "\\begin{enumerate*}\n",
       "\\item 9\n",
       "\\item 15\n",
       "\\end{enumerate*}\n"
      ],
      "text/markdown": [
       "1. 9\n",
       "2. 15\n",
       "\n",
       "\n"
      ],
      "text/plain": [
       "[1]  9 15"
      ]
     },
     "metadata": {},
     "output_type": "display_data"
    }
   ],
   "source": [
    "# pulling out the 9 shared genes\n",
    "\n",
    "# Merge the data frames on the 'gene' column\n",
    "shared_genes9 <- Reduce(function(x, y) merge(x, y, by = \"symbol\"), list(sig_CC_HC_genes, sig_CH_HC_genes))  \n",
    "shared_genes9 <- as.data.frame(shared_genes9)\n",
    "\n",
    "dim(shared_genes9)"
   ]
  },
  {
   "cell_type": "code",
   "execution_count": 47,
   "id": "171a1d67-798d-4504-a58c-9ba97ef21786",
   "metadata": {},
   "outputs": [
    {
     "data": {
      "text/html": [
       "<table class=\"dataframe\">\n",
       "<caption>A data.frame: 6 × 15</caption>\n",
       "<thead>\n",
       "\t<tr><th></th><th scope=col>symbol</th><th scope=col>baseMean.x</th><th scope=col>log2FC.x</th><th scope=col>lfcSE.x</th><th scope=col>stat.x</th><th scope=col>pvalue.x</th><th scope=col>padj.x</th><th scope=col>name.x</th><th scope=col>baseMean.y</th><th scope=col>log2FC.y</th><th scope=col>lfcSE.y</th><th scope=col>stat.y</th><th scope=col>pvalue.y</th><th scope=col>padj.y</th><th scope=col>name.y</th></tr>\n",
       "\t<tr><th></th><th scope=col>&lt;chr&gt;</th><th scope=col>&lt;dbl&gt;</th><th scope=col>&lt;dbl&gt;</th><th scope=col>&lt;dbl&gt;</th><th scope=col>&lt;dbl&gt;</th><th scope=col>&lt;dbl&gt;</th><th scope=col>&lt;dbl&gt;</th><th scope=col>&lt;chr&gt;</th><th scope=col>&lt;dbl&gt;</th><th scope=col>&lt;dbl&gt;</th><th scope=col>&lt;dbl&gt;</th><th scope=col>&lt;dbl&gt;</th><th scope=col>&lt;dbl&gt;</th><th scope=col>&lt;dbl&gt;</th><th scope=col>&lt;chr&gt;</th></tr>\n",
       "</thead>\n",
       "<tbody>\n",
       "\t<tr><th scope=row>1</th><td>LOC111103344</td><td>497.52024</td><td>-1.193080</td><td>0.2105031</td><td>-4.480123</td><td>7.460015e-06</td><td>0.01869231</td><td>uncharacterized LOC111103344, transcript variant X7                                       </td><td>497.52024</td><td>-1.016149</td><td>0.2108982</td><td>-3.632792</td><td>2.803705e-04</td><td>2.376831e-02</td><td>uncharacterized LOC111103344, transcript variant X7                                       </td></tr>\n",
       "\t<tr><th scope=row>2</th><td>LOC111117760</td><td>138.87250</td><td>-1.494878</td><td>0.2901102</td><td>-4.291052</td><td>1.778290e-05</td><td>0.02350342</td><td>disintegrin and metalloproteinase domain-containing protein 10-like, transcript variant X3</td><td>138.87250</td><td>-1.351404</td><td>0.2905854</td><td>-3.790294</td><td>1.504690e-04</td><td>1.631844e-02</td><td>disintegrin and metalloproteinase domain-containing protein 10-like, transcript variant X3</td></tr>\n",
       "\t<tr><th scope=row>3</th><td>LOC111119327</td><td> 13.31739</td><td>-1.507178</td><td>0.3154716</td><td>-3.985075</td><td>6.745881e-05</td><td>0.04225732</td><td>calcyphosin-like protein, transcript variant X3                                           </td><td> 13.31739</td><td>-1.898432</td><td>0.3095909</td><td>-5.324549</td><td>1.012038e-07</td><td>1.107538e-04</td><td>calcyphosin-like protein, transcript variant X3                                           </td></tr>\n",
       "\t<tr><th scope=row>4</th><td>LOC111123492</td><td> 43.91933</td><td>-1.264591</td><td>0.2211555</td><td>-4.587681</td><td>4.481962e-06</td><td>0.01684546</td><td>pre-B-cell leukemia transcription factor 1-like, transcript variant X11                   </td><td> 43.91933</td><td>-1.590124</td><td>0.2164348</td><td>-6.191815</td><td>5.947551e-10</td><td>3.579831e-06</td><td>pre-B-cell leukemia transcription factor 1-like, transcript variant X11                   </td></tr>\n",
       "\t<tr><th scope=row>5</th><td>LOC111124674</td><td> 17.57497</td><td>-1.406706</td><td>0.2805413</td><td>-4.123123</td><td>3.737706e-05</td><td>0.03630337</td><td>gamma-glutamyltranspeptidase 1-like, transcript variant X1                                </td><td> 17.57497</td><td>-1.408187</td><td>0.2788402</td><td>-4.153588</td><td>3.273030e-05</td><td>5.438185e-03</td><td>gamma-glutamyltranspeptidase 1-like, transcript variant X1                                </td></tr>\n",
       "\t<tr><th scope=row>6</th><td>LOC111129146</td><td> 22.23491</td><td> 1.342719</td><td>0.2551562</td><td> 4.282548</td><td>1.847653e-05</td><td>0.02350342</td><td>FERM domain-containing protein 8-like                                                     </td><td> 22.23491</td><td> 1.463103</td><td>0.2550880</td><td> 4.755627</td><td>1.978316e-06</td><td>7.004403e-04</td><td>FERM domain-containing protein 8-like                                                     </td></tr>\n",
       "</tbody>\n",
       "</table>\n"
      ],
      "text/latex": [
       "A data.frame: 6 × 15\n",
       "\\begin{tabular}{r|lllllllllllllll}\n",
       "  & symbol & baseMean.x & log2FC.x & lfcSE.x & stat.x & pvalue.x & padj.x & name.x & baseMean.y & log2FC.y & lfcSE.y & stat.y & pvalue.y & padj.y & name.y\\\\\n",
       "  & <chr> & <dbl> & <dbl> & <dbl> & <dbl> & <dbl> & <dbl> & <chr> & <dbl> & <dbl> & <dbl> & <dbl> & <dbl> & <dbl> & <chr>\\\\\n",
       "\\hline\n",
       "\t1 & LOC111103344 & 497.52024 & -1.193080 & 0.2105031 & -4.480123 & 7.460015e-06 & 0.01869231 & uncharacterized LOC111103344, transcript variant X7                                        & 497.52024 & -1.016149 & 0.2108982 & -3.632792 & 2.803705e-04 & 2.376831e-02 & uncharacterized LOC111103344, transcript variant X7                                       \\\\\n",
       "\t2 & LOC111117760 & 138.87250 & -1.494878 & 0.2901102 & -4.291052 & 1.778290e-05 & 0.02350342 & disintegrin and metalloproteinase domain-containing protein 10-like, transcript variant X3 & 138.87250 & -1.351404 & 0.2905854 & -3.790294 & 1.504690e-04 & 1.631844e-02 & disintegrin and metalloproteinase domain-containing protein 10-like, transcript variant X3\\\\\n",
       "\t3 & LOC111119327 &  13.31739 & -1.507178 & 0.3154716 & -3.985075 & 6.745881e-05 & 0.04225732 & calcyphosin-like protein, transcript variant X3                                            &  13.31739 & -1.898432 & 0.3095909 & -5.324549 & 1.012038e-07 & 1.107538e-04 & calcyphosin-like protein, transcript variant X3                                           \\\\\n",
       "\t4 & LOC111123492 &  43.91933 & -1.264591 & 0.2211555 & -4.587681 & 4.481962e-06 & 0.01684546 & pre-B-cell leukemia transcription factor 1-like, transcript variant X11                    &  43.91933 & -1.590124 & 0.2164348 & -6.191815 & 5.947551e-10 & 3.579831e-06 & pre-B-cell leukemia transcription factor 1-like, transcript variant X11                   \\\\\n",
       "\t5 & LOC111124674 &  17.57497 & -1.406706 & 0.2805413 & -4.123123 & 3.737706e-05 & 0.03630337 & gamma-glutamyltranspeptidase 1-like, transcript variant X1                                 &  17.57497 & -1.408187 & 0.2788402 & -4.153588 & 3.273030e-05 & 5.438185e-03 & gamma-glutamyltranspeptidase 1-like, transcript variant X1                                \\\\\n",
       "\t6 & LOC111129146 &  22.23491 &  1.342719 & 0.2551562 &  4.282548 & 1.847653e-05 & 0.02350342 & FERM domain-containing protein 8-like                                                      &  22.23491 &  1.463103 & 0.2550880 &  4.755627 & 1.978316e-06 & 7.004403e-04 & FERM domain-containing protein 8-like                                                     \\\\\n",
       "\\end{tabular}\n"
      ],
      "text/markdown": [
       "\n",
       "A data.frame: 6 × 15\n",
       "\n",
       "| <!--/--> | symbol &lt;chr&gt; | baseMean.x &lt;dbl&gt; | log2FC.x &lt;dbl&gt; | lfcSE.x &lt;dbl&gt; | stat.x &lt;dbl&gt; | pvalue.x &lt;dbl&gt; | padj.x &lt;dbl&gt; | name.x &lt;chr&gt; | baseMean.y &lt;dbl&gt; | log2FC.y &lt;dbl&gt; | lfcSE.y &lt;dbl&gt; | stat.y &lt;dbl&gt; | pvalue.y &lt;dbl&gt; | padj.y &lt;dbl&gt; | name.y &lt;chr&gt; |\n",
       "|---|---|---|---|---|---|---|---|---|---|---|---|---|---|---|---|\n",
       "| 1 | LOC111103344 | 497.52024 | -1.193080 | 0.2105031 | -4.480123 | 7.460015e-06 | 0.01869231 | uncharacterized LOC111103344, transcript variant X7                                        | 497.52024 | -1.016149 | 0.2108982 | -3.632792 | 2.803705e-04 | 2.376831e-02 | uncharacterized LOC111103344, transcript variant X7                                        |\n",
       "| 2 | LOC111117760 | 138.87250 | -1.494878 | 0.2901102 | -4.291052 | 1.778290e-05 | 0.02350342 | disintegrin and metalloproteinase domain-containing protein 10-like, transcript variant X3 | 138.87250 | -1.351404 | 0.2905854 | -3.790294 | 1.504690e-04 | 1.631844e-02 | disintegrin and metalloproteinase domain-containing protein 10-like, transcript variant X3 |\n",
       "| 3 | LOC111119327 |  13.31739 | -1.507178 | 0.3154716 | -3.985075 | 6.745881e-05 | 0.04225732 | calcyphosin-like protein, transcript variant X3                                            |  13.31739 | -1.898432 | 0.3095909 | -5.324549 | 1.012038e-07 | 1.107538e-04 | calcyphosin-like protein, transcript variant X3                                            |\n",
       "| 4 | LOC111123492 |  43.91933 | -1.264591 | 0.2211555 | -4.587681 | 4.481962e-06 | 0.01684546 | pre-B-cell leukemia transcription factor 1-like, transcript variant X11                    |  43.91933 | -1.590124 | 0.2164348 | -6.191815 | 5.947551e-10 | 3.579831e-06 | pre-B-cell leukemia transcription factor 1-like, transcript variant X11                    |\n",
       "| 5 | LOC111124674 |  17.57497 | -1.406706 | 0.2805413 | -4.123123 | 3.737706e-05 | 0.03630337 | gamma-glutamyltranspeptidase 1-like, transcript variant X1                                 |  17.57497 | -1.408187 | 0.2788402 | -4.153588 | 3.273030e-05 | 5.438185e-03 | gamma-glutamyltranspeptidase 1-like, transcript variant X1                                 |\n",
       "| 6 | LOC111129146 |  22.23491 |  1.342719 | 0.2551562 |  4.282548 | 1.847653e-05 | 0.02350342 | FERM domain-containing protein 8-like                                                      |  22.23491 |  1.463103 | 0.2550880 |  4.755627 | 1.978316e-06 | 7.004403e-04 | FERM domain-containing protein 8-like                                                      |\n",
       "\n"
      ],
      "text/plain": [
       "  symbol       baseMean.x log2FC.x  lfcSE.x   stat.x    pvalue.x     padj.x    \n",
       "1 LOC111103344 497.52024  -1.193080 0.2105031 -4.480123 7.460015e-06 0.01869231\n",
       "2 LOC111117760 138.87250  -1.494878 0.2901102 -4.291052 1.778290e-05 0.02350342\n",
       "3 LOC111119327  13.31739  -1.507178 0.3154716 -3.985075 6.745881e-05 0.04225732\n",
       "4 LOC111123492  43.91933  -1.264591 0.2211555 -4.587681 4.481962e-06 0.01684546\n",
       "5 LOC111124674  17.57497  -1.406706 0.2805413 -4.123123 3.737706e-05 0.03630337\n",
       "6 LOC111129146  22.23491   1.342719 0.2551562  4.282548 1.847653e-05 0.02350342\n",
       "  name.x                                                                                    \n",
       "1 uncharacterized LOC111103344, transcript variant X7                                       \n",
       "2 disintegrin and metalloproteinase domain-containing protein 10-like, transcript variant X3\n",
       "3 calcyphosin-like protein, transcript variant X3                                           \n",
       "4 pre-B-cell leukemia transcription factor 1-like, transcript variant X11                   \n",
       "5 gamma-glutamyltranspeptidase 1-like, transcript variant X1                                \n",
       "6 FERM domain-containing protein 8-like                                                     \n",
       "  baseMean.y log2FC.y  lfcSE.y   stat.y    pvalue.y     padj.y      \n",
       "1 497.52024  -1.016149 0.2108982 -3.632792 2.803705e-04 2.376831e-02\n",
       "2 138.87250  -1.351404 0.2905854 -3.790294 1.504690e-04 1.631844e-02\n",
       "3  13.31739  -1.898432 0.3095909 -5.324549 1.012038e-07 1.107538e-04\n",
       "4  43.91933  -1.590124 0.2164348 -6.191815 5.947551e-10 3.579831e-06\n",
       "5  17.57497  -1.408187 0.2788402 -4.153588 3.273030e-05 5.438185e-03\n",
       "6  22.23491   1.463103 0.2550880  4.755627 1.978316e-06 7.004403e-04\n",
       "  name.y                                                                                    \n",
       "1 uncharacterized LOC111103344, transcript variant X7                                       \n",
       "2 disintegrin and metalloproteinase domain-containing protein 10-like, transcript variant X3\n",
       "3 calcyphosin-like protein, transcript variant X3                                           \n",
       "4 pre-B-cell leukemia transcription factor 1-like, transcript variant X11                   \n",
       "5 gamma-glutamyltranspeptidase 1-like, transcript variant X1                                \n",
       "6 FERM domain-containing protein 8-like                                                     "
      ]
     },
     "metadata": {},
     "output_type": "display_data"
    }
   ],
   "source": [
    "head(shared_genes9)"
   ]
  },
  {
   "cell_type": "markdown",
   "id": "a867c301-15fc-419a-a127-57b5c30dbe74",
   "metadata": {},
   "source": [
    "pulling out the **3 genes shared between ONLY CC vs. HC and CH vs. HC**"
   ]
  },
  {
   "cell_type": "code",
   "execution_count": 48,
   "id": "449715c9-3b0d-49a9-940f-0389811ddd9b",
   "metadata": {},
   "outputs": [
    {
     "data": {
      "text/html": [
       "<style>\n",
       ".list-inline {list-style: none; margin:0; padding: 0}\n",
       ".list-inline>li {display: inline-block}\n",
       ".list-inline>li:not(:last-child)::after {content: \"\\00b7\"; padding: 0 .5ex}\n",
       "</style>\n",
       "<ol class=list-inline><li>3</li><li>15</li></ol>\n"
      ],
      "text/latex": [
       "\\begin{enumerate*}\n",
       "\\item 3\n",
       "\\item 15\n",
       "\\end{enumerate*}\n"
      ],
      "text/markdown": [
       "1. 3\n",
       "2. 15\n",
       "\n",
       "\n"
      ],
      "text/plain": [
       "[1]  3 15"
      ]
     },
     "metadata": {},
     "output_type": "display_data"
    }
   ],
   "source": [
    "# to remove the 3 genes that are shared between all the comparisons, and to only look at those shared between just these two...\n",
    "shared_genes3 <- shared_genes9[!shared_genes9$symbol %in% shared_genes6$symbol, ]\n",
    "dim(shared_genes3)"
   ]
  },
  {
   "cell_type": "code",
   "execution_count": 49,
   "id": "20b2a134-e162-4a18-b01f-15d25efa6f30",
   "metadata": {},
   "outputs": [],
   "source": [
    "# adding info for what pairwise comparisons for HC these genes show up for\n",
    "shared_genes3$pair <- 'CH, CC'"
   ]
  },
  {
   "cell_type": "code",
   "execution_count": 50,
   "id": "6f58fc30-4157-4bdb-81b9-76f30fa718dc",
   "metadata": {},
   "outputs": [
    {
     "data": {
      "text/html": [
       "<table class=\"dataframe\">\n",
       "<caption>A data.frame: 3 × 16</caption>\n",
       "<thead>\n",
       "\t<tr><th></th><th scope=col>symbol</th><th scope=col>baseMean.x</th><th scope=col>log2FC.x</th><th scope=col>lfcSE.x</th><th scope=col>stat.x</th><th scope=col>pvalue.x</th><th scope=col>padj.x</th><th scope=col>name.x</th><th scope=col>baseMean.y</th><th scope=col>log2FC.y</th><th scope=col>lfcSE.y</th><th scope=col>stat.y</th><th scope=col>pvalue.y</th><th scope=col>padj.y</th><th scope=col>name.y</th><th scope=col>pair</th></tr>\n",
       "\t<tr><th></th><th scope=col>&lt;chr&gt;</th><th scope=col>&lt;dbl&gt;</th><th scope=col>&lt;dbl&gt;</th><th scope=col>&lt;dbl&gt;</th><th scope=col>&lt;dbl&gt;</th><th scope=col>&lt;dbl&gt;</th><th scope=col>&lt;dbl&gt;</th><th scope=col>&lt;chr&gt;</th><th scope=col>&lt;dbl&gt;</th><th scope=col>&lt;dbl&gt;</th><th scope=col>&lt;dbl&gt;</th><th scope=col>&lt;dbl&gt;</th><th scope=col>&lt;dbl&gt;</th><th scope=col>&lt;dbl&gt;</th><th scope=col>&lt;chr&gt;</th><th scope=col>&lt;chr&gt;</th></tr>\n",
       "</thead>\n",
       "<tbody>\n",
       "\t<tr><th scope=row>1</th><td>LOC111103344</td><td>497.52024</td><td>-1.1930798</td><td>0.2105031</td><td>-4.480123</td><td>7.460015e-06</td><td>0.01869231</td><td>uncharacterized LOC111103344, transcript variant X7</td><td>497.52024</td><td>-1.016149</td><td>0.2108982</td><td>-3.632792</td><td>2.803705e-04</td><td>0.0237683108</td><td>uncharacterized LOC111103344, transcript variant X7</td><td>CH, CC</td></tr>\n",
       "\t<tr><th scope=row>7</th><td>LOC111132100</td><td> 25.78011</td><td>-1.3964117</td><td>0.2804168</td><td>-4.088242</td><td>4.346553e-05</td><td>0.03630337</td><td>uncharacterized LOC111132100, transcript variant X3</td><td> 25.78011</td><td>-1.590381</td><td>0.2776263</td><td>-4.828004</td><td>1.379080e-06</td><td>0.0005929060</td><td>uncharacterized LOC111132100, transcript variant X3</td><td>CH, CC</td></tr>\n",
       "\t<tr><th scope=row>9</th><td>LOC111133874</td><td>106.76763</td><td>-0.9820156</td><td>0.1780116</td><td>-4.112179</td><td>3.919417e-05</td><td>0.03630337</td><td>uncharacterized LOC111133874                       </td><td>106.76763</td><td>-1.154486</td><td>0.1763009</td><td>-5.130353</td><td>2.891988e-07</td><td>0.0001934097</td><td>uncharacterized LOC111133874                       </td><td>CH, CC</td></tr>\n",
       "</tbody>\n",
       "</table>\n"
      ],
      "text/latex": [
       "A data.frame: 3 × 16\n",
       "\\begin{tabular}{r|llllllllllllllll}\n",
       "  & symbol & baseMean.x & log2FC.x & lfcSE.x & stat.x & pvalue.x & padj.x & name.x & baseMean.y & log2FC.y & lfcSE.y & stat.y & pvalue.y & padj.y & name.y & pair\\\\\n",
       "  & <chr> & <dbl> & <dbl> & <dbl> & <dbl> & <dbl> & <dbl> & <chr> & <dbl> & <dbl> & <dbl> & <dbl> & <dbl> & <dbl> & <chr> & <chr>\\\\\n",
       "\\hline\n",
       "\t1 & LOC111103344 & 497.52024 & -1.1930798 & 0.2105031 & -4.480123 & 7.460015e-06 & 0.01869231 & uncharacterized LOC111103344, transcript variant X7 & 497.52024 & -1.016149 & 0.2108982 & -3.632792 & 2.803705e-04 & 0.0237683108 & uncharacterized LOC111103344, transcript variant X7 & CH, CC\\\\\n",
       "\t7 & LOC111132100 &  25.78011 & -1.3964117 & 0.2804168 & -4.088242 & 4.346553e-05 & 0.03630337 & uncharacterized LOC111132100, transcript variant X3 &  25.78011 & -1.590381 & 0.2776263 & -4.828004 & 1.379080e-06 & 0.0005929060 & uncharacterized LOC111132100, transcript variant X3 & CH, CC\\\\\n",
       "\t9 & LOC111133874 & 106.76763 & -0.9820156 & 0.1780116 & -4.112179 & 3.919417e-05 & 0.03630337 & uncharacterized LOC111133874                        & 106.76763 & -1.154486 & 0.1763009 & -5.130353 & 2.891988e-07 & 0.0001934097 & uncharacterized LOC111133874                        & CH, CC\\\\\n",
       "\\end{tabular}\n"
      ],
      "text/markdown": [
       "\n",
       "A data.frame: 3 × 16\n",
       "\n",
       "| <!--/--> | symbol &lt;chr&gt; | baseMean.x &lt;dbl&gt; | log2FC.x &lt;dbl&gt; | lfcSE.x &lt;dbl&gt; | stat.x &lt;dbl&gt; | pvalue.x &lt;dbl&gt; | padj.x &lt;dbl&gt; | name.x &lt;chr&gt; | baseMean.y &lt;dbl&gt; | log2FC.y &lt;dbl&gt; | lfcSE.y &lt;dbl&gt; | stat.y &lt;dbl&gt; | pvalue.y &lt;dbl&gt; | padj.y &lt;dbl&gt; | name.y &lt;chr&gt; | pair &lt;chr&gt; |\n",
       "|---|---|---|---|---|---|---|---|---|---|---|---|---|---|---|---|---|\n",
       "| 1 | LOC111103344 | 497.52024 | -1.1930798 | 0.2105031 | -4.480123 | 7.460015e-06 | 0.01869231 | uncharacterized LOC111103344, transcript variant X7 | 497.52024 | -1.016149 | 0.2108982 | -3.632792 | 2.803705e-04 | 0.0237683108 | uncharacterized LOC111103344, transcript variant X7 | CH, CC |\n",
       "| 7 | LOC111132100 |  25.78011 | -1.3964117 | 0.2804168 | -4.088242 | 4.346553e-05 | 0.03630337 | uncharacterized LOC111132100, transcript variant X3 |  25.78011 | -1.590381 | 0.2776263 | -4.828004 | 1.379080e-06 | 0.0005929060 | uncharacterized LOC111132100, transcript variant X3 | CH, CC |\n",
       "| 9 | LOC111133874 | 106.76763 | -0.9820156 | 0.1780116 | -4.112179 | 3.919417e-05 | 0.03630337 | uncharacterized LOC111133874                        | 106.76763 | -1.154486 | 0.1763009 | -5.130353 | 2.891988e-07 | 0.0001934097 | uncharacterized LOC111133874                        | CH, CC |\n",
       "\n"
      ],
      "text/plain": [
       "  symbol       baseMean.x log2FC.x   lfcSE.x   stat.x    pvalue.x    \n",
       "1 LOC111103344 497.52024  -1.1930798 0.2105031 -4.480123 7.460015e-06\n",
       "7 LOC111132100  25.78011  -1.3964117 0.2804168 -4.088242 4.346553e-05\n",
       "9 LOC111133874 106.76763  -0.9820156 0.1780116 -4.112179 3.919417e-05\n",
       "  padj.x     name.x                                              baseMean.y\n",
       "1 0.01869231 uncharacterized LOC111103344, transcript variant X7 497.52024 \n",
       "7 0.03630337 uncharacterized LOC111132100, transcript variant X3  25.78011 \n",
       "9 0.03630337 uncharacterized LOC111133874                        106.76763 \n",
       "  log2FC.y  lfcSE.y   stat.y    pvalue.y     padj.y      \n",
       "1 -1.016149 0.2108982 -3.632792 2.803705e-04 0.0237683108\n",
       "7 -1.590381 0.2776263 -4.828004 1.379080e-06 0.0005929060\n",
       "9 -1.154486 0.1763009 -5.130353 2.891988e-07 0.0001934097\n",
       "  name.y                                              pair  \n",
       "1 uncharacterized LOC111103344, transcript variant X7 CH, CC\n",
       "7 uncharacterized LOC111132100, transcript variant X3 CH, CC\n",
       "9 uncharacterized LOC111133874                        CH, CC"
      ]
     },
     "metadata": {},
     "output_type": "display_data"
    }
   ],
   "source": [
    "head(shared_genes3)"
   ]
  },
  {
   "cell_type": "code",
   "execution_count": 51,
   "id": "35215b57-d265-4ea0-8839-a7b6f963d624",
   "metadata": {},
   "outputs": [],
   "source": [
    "write.csv(shared_genes3, '/project/pi_sarah_gignouxwolfsohn_uml_edu/julia/CE_MethylRAD_analysis_2018/analysis/deseq_res_files/geneFeatures_res/venn_genes/3shared_genes.csv')"
   ]
  },
  {
   "cell_type": "markdown",
   "id": "ccc673cb-2d07-40ff-9bf0-bb31d2b305c3",
   "metadata": {},
   "source": [
    "shared gene between **CC vs. HC and HH vs. HC**"
   ]
  },
  {
   "cell_type": "code",
   "execution_count": 52,
   "id": "05d6617e-01fb-474a-a529-499c5fbc24d1",
   "metadata": {},
   "outputs": [
    {
     "data": {
      "text/html": [
       "<style>\n",
       ".list-inline {list-style: none; margin:0; padding: 0}\n",
       ".list-inline>li {display: inline-block}\n",
       ".list-inline>li:not(:last-child)::after {content: \"\\00b7\"; padding: 0 .5ex}\n",
       "</style>\n",
       "<ol class=list-inline><li>1</li><li>15</li></ol>\n"
      ],
      "text/latex": [
       "\\begin{enumerate*}\n",
       "\\item 1\n",
       "\\item 15\n",
       "\\end{enumerate*}\n"
      ],
      "text/markdown": [
       "1. 1\n",
       "2. 15\n",
       "\n",
       "\n"
      ],
      "text/plain": [
       "[1]  1 15"
      ]
     },
     "metadata": {},
     "output_type": "display_data"
    }
   ],
   "source": [
    "shared_gene7 <- Reduce(function(x, y) merge(x, y, by = \"symbol\"), list(sig_CC_HC_genes, sig_HH_HC_genes))\n",
    "shared_gene1 <- shared_gene7[!shared_gene7$symbol %in% shared_genes6$symbol, ]                     \n",
    "dim(shared_gene1)"
   ]
  },
  {
   "cell_type": "code",
   "execution_count": 53,
   "id": "c8b30844-7b15-4c98-ad6c-384547d850c4",
   "metadata": {},
   "outputs": [],
   "source": [
    "# adding info for what pairwise comparisons for HC these genes show up for\n",
    "shared_gene1$pair <- 'CC, HH'"
   ]
  },
  {
   "cell_type": "code",
   "execution_count": 54,
   "id": "e0461e25-6c4e-4352-80a2-cb7ee1cabc9f",
   "metadata": {},
   "outputs": [
    {
     "data": {
      "text/html": [
       "<table class=\"dataframe\">\n",
       "<caption>A data.frame: 1 × 16</caption>\n",
       "<thead>\n",
       "\t<tr><th></th><th scope=col>symbol</th><th scope=col>baseMean.x</th><th scope=col>log2FC.x</th><th scope=col>lfcSE.x</th><th scope=col>stat.x</th><th scope=col>pvalue.x</th><th scope=col>padj.x</th><th scope=col>name.x</th><th scope=col>baseMean.y</th><th scope=col>log2FC.y</th><th scope=col>lfcSE.y</th><th scope=col>stat.y</th><th scope=col>pvalue.y</th><th scope=col>padj.y</th><th scope=col>name.y</th><th scope=col>pair</th></tr>\n",
       "\t<tr><th></th><th scope=col>&lt;chr&gt;</th><th scope=col>&lt;dbl&gt;</th><th scope=col>&lt;dbl&gt;</th><th scope=col>&lt;dbl&gt;</th><th scope=col>&lt;dbl&gt;</th><th scope=col>&lt;dbl&gt;</th><th scope=col>&lt;dbl&gt;</th><th scope=col>&lt;chr&gt;</th><th scope=col>&lt;dbl&gt;</th><th scope=col>&lt;dbl&gt;</th><th scope=col>&lt;dbl&gt;</th><th scope=col>&lt;dbl&gt;</th><th scope=col>&lt;dbl&gt;</th><th scope=col>&lt;dbl&gt;</th><th scope=col>&lt;chr&gt;</th><th scope=col>&lt;chr&gt;</th></tr>\n",
       "</thead>\n",
       "<tbody>\n",
       "\t<tr><th scope=row>2</th><td>LOC111118022</td><td>19.27594</td><td>-1.664142</td><td>0.3486511</td><td>-4.056038</td><td>4.991215e-05</td><td>0.03751897</td><td>exocyst complex component 7-like, transcript variant X1</td><td>19.27594</td><td>1.556436</td><td>0.3455086</td><td>3.781196</td><td>0.000156077</td><td>0.02870595</td><td>exocyst complex component 7-like, transcript variant X1</td><td>CC, HH</td></tr>\n",
       "</tbody>\n",
       "</table>\n"
      ],
      "text/latex": [
       "A data.frame: 1 × 16\n",
       "\\begin{tabular}{r|llllllllllllllll}\n",
       "  & symbol & baseMean.x & log2FC.x & lfcSE.x & stat.x & pvalue.x & padj.x & name.x & baseMean.y & log2FC.y & lfcSE.y & stat.y & pvalue.y & padj.y & name.y & pair\\\\\n",
       "  & <chr> & <dbl> & <dbl> & <dbl> & <dbl> & <dbl> & <dbl> & <chr> & <dbl> & <dbl> & <dbl> & <dbl> & <dbl> & <dbl> & <chr> & <chr>\\\\\n",
       "\\hline\n",
       "\t2 & LOC111118022 & 19.27594 & -1.664142 & 0.3486511 & -4.056038 & 4.991215e-05 & 0.03751897 & exocyst complex component 7-like, transcript variant X1 & 19.27594 & 1.556436 & 0.3455086 & 3.781196 & 0.000156077 & 0.02870595 & exocyst complex component 7-like, transcript variant X1 & CC, HH\\\\\n",
       "\\end{tabular}\n"
      ],
      "text/markdown": [
       "\n",
       "A data.frame: 1 × 16\n",
       "\n",
       "| <!--/--> | symbol &lt;chr&gt; | baseMean.x &lt;dbl&gt; | log2FC.x &lt;dbl&gt; | lfcSE.x &lt;dbl&gt; | stat.x &lt;dbl&gt; | pvalue.x &lt;dbl&gt; | padj.x &lt;dbl&gt; | name.x &lt;chr&gt; | baseMean.y &lt;dbl&gt; | log2FC.y &lt;dbl&gt; | lfcSE.y &lt;dbl&gt; | stat.y &lt;dbl&gt; | pvalue.y &lt;dbl&gt; | padj.y &lt;dbl&gt; | name.y &lt;chr&gt; | pair &lt;chr&gt; |\n",
       "|---|---|---|---|---|---|---|---|---|---|---|---|---|---|---|---|---|\n",
       "| 2 | LOC111118022 | 19.27594 | -1.664142 | 0.3486511 | -4.056038 | 4.991215e-05 | 0.03751897 | exocyst complex component 7-like, transcript variant X1 | 19.27594 | 1.556436 | 0.3455086 | 3.781196 | 0.000156077 | 0.02870595 | exocyst complex component 7-like, transcript variant X1 | CC, HH |\n",
       "\n"
      ],
      "text/plain": [
       "  symbol       baseMean.x log2FC.x  lfcSE.x   stat.x    pvalue.x     padj.x    \n",
       "2 LOC111118022 19.27594   -1.664142 0.3486511 -4.056038 4.991215e-05 0.03751897\n",
       "  name.x                                                  baseMean.y log2FC.y\n",
       "2 exocyst complex component 7-like, transcript variant X1 19.27594   1.556436\n",
       "  lfcSE.y   stat.y   pvalue.y    padj.y    \n",
       "2 0.3455086 3.781196 0.000156077 0.02870595\n",
       "  name.y                                                  pair  \n",
       "2 exocyst complex component 7-like, transcript variant X1 CC, HH"
      ]
     },
     "metadata": {},
     "output_type": "display_data"
    }
   ],
   "source": [
    "shared_gene1"
   ]
  },
  {
   "cell_type": "markdown",
   "id": "29a248c9-f67a-4b50-b906-5801d9bf9e06",
   "metadata": {},
   "source": [
    "### unique sig DMGs for pairwise comparison"
   ]
  },
  {
   "cell_type": "markdown",
   "id": "cba6f52a-3695-4795-be38-9e46b9fe63d6",
   "metadata": {},
   "source": [
    "pulling out the **173 unique sig DMGs for CH vs. HC**"
   ]
  },
  {
   "cell_type": "code",
   "execution_count": 55,
   "id": "125faa40-092c-41f0-83a8-8c41cc73194f",
   "metadata": {},
   "outputs": [
    {
     "data": {
      "text/html": [
       "<style>\n",
       ".list-inline {list-style: none; margin:0; padding: 0}\n",
       ".list-inline>li {display: inline-block}\n",
       ".list-inline>li:not(:last-child)::after {content: \"\\00b7\"; padding: 0 .5ex}\n",
       "</style>\n",
       "<ol class=list-inline><li>136</li><li>8</li></ol>\n"
      ],
      "text/latex": [
       "\\begin{enumerate*}\n",
       "\\item 136\n",
       "\\item 8\n",
       "\\end{enumerate*}\n"
      ],
      "text/markdown": [
       "1. 136\n",
       "2. 8\n",
       "\n",
       "\n"
      ],
      "text/plain": [
       "[1] 136   8"
      ]
     },
     "metadata": {},
     "output_type": "display_data"
    }
   ],
   "source": [
    "unique_CH_HC <- sig_CH_HC_genes[!sig_CH_HC_genes$symbol %in% c(shared_genes6$symbol, shared_genes3$symbol, shared_genes48$symbol), ]\n",
    "dim(unique_CH_HC)"
   ]
  },
  {
   "cell_type": "code",
   "execution_count": 56,
   "id": "ac66ab19-db1a-4ac2-848b-ecd429ca9495",
   "metadata": {},
   "outputs": [],
   "source": [
    "# adding info for what pairwise comparisons for HC these genes show up for\n",
    "unique_CH_HC$pair <- 'CH'"
   ]
  },
  {
   "cell_type": "code",
   "execution_count": 57,
   "id": "3a151543-6ded-4d40-aba4-568c3a87eaff",
   "metadata": {},
   "outputs": [
    {
     "data": {
      "text/html": [
       "<table class=\"dataframe\">\n",
       "<caption>A data.frame: 6 × 9</caption>\n",
       "<thead>\n",
       "\t<tr><th></th><th scope=col>symbol</th><th scope=col>baseMean</th><th scope=col>log2FC</th><th scope=col>lfcSE</th><th scope=col>stat</th><th scope=col>pvalue</th><th scope=col>padj</th><th scope=col>name</th><th scope=col>pair</th></tr>\n",
       "\t<tr><th></th><th scope=col>&lt;chr&gt;</th><th scope=col>&lt;dbl&gt;</th><th scope=col>&lt;dbl&gt;</th><th scope=col>&lt;dbl&gt;</th><th scope=col>&lt;dbl&gt;</th><th scope=col>&lt;dbl&gt;</th><th scope=col>&lt;dbl&gt;</th><th scope=col>&lt;chr&gt;</th><th scope=col>&lt;chr&gt;</th></tr>\n",
       "</thead>\n",
       "<tbody>\n",
       "\t<tr><th scope=row>3</th><td>LOC111099585</td><td>36.32548</td><td> 0.9854391</td><td>0.2091056</td><td> 3.517070</td><td>4.363394e-04</td><td>0.033244643</td><td>lys-63-specific deubiquitinase BRCC36-like                                                          </td><td>CH</td></tr>\n",
       "\t<tr><th scope=row>5</th><td>LOC111099978</td><td>37.23914</td><td> 1.1530905</td><td>0.2612132</td><td> 3.457293</td><td>5.456316e-04</td><td>0.039097105</td><td>oncoprotein-induced transcript 3 protein-like, transcript variant X1                                </td><td>CH</td></tr>\n",
       "\t<tr><th scope=row>7</th><td>LOC111100625</td><td>38.39518</td><td>-1.2060788</td><td>0.2621809</td><td>-3.646638</td><td>2.656942e-04</td><td>0.023517848</td><td>succinate dehydrogenase [ubiquinone] flavoprotein subunit, mitochondrial-like, transcript variant X2</td><td>CH</td></tr>\n",
       "\t<tr><th scope=row>8</th><td>LOC111100898</td><td>38.34191</td><td>-1.3046636</td><td>0.2438064</td><td>-4.325825</td><td>1.519623e-05</td><td>0.003201238</td><td>uncharacterized LOC111100898, transcript variant X3                                                 </td><td>CH</td></tr>\n",
       "\t<tr><th scope=row>9</th><td>LOC111100915</td><td>20.55756</td><td> 1.6529072</td><td>0.3015883</td><td> 4.651730</td><td>3.291615e-06</td><td>0.001037820</td><td>uncharacterized LOC111100915, transcript variant X2                                                 </td><td>CH</td></tr>\n",
       "\t<tr><th scope=row>11</th><td>LOC111101375</td><td>40.32033</td><td>-1.2280407</td><td>0.2367017</td><td>-4.131955</td><td>3.596914e-05</td><td>0.005773287</td><td>mu-type opioid receptor-like                                                                        </td><td>CH</td></tr>\n",
       "</tbody>\n",
       "</table>\n"
      ],
      "text/latex": [
       "A data.frame: 6 × 9\n",
       "\\begin{tabular}{r|lllllllll}\n",
       "  & symbol & baseMean & log2FC & lfcSE & stat & pvalue & padj & name & pair\\\\\n",
       "  & <chr> & <dbl> & <dbl> & <dbl> & <dbl> & <dbl> & <dbl> & <chr> & <chr>\\\\\n",
       "\\hline\n",
       "\t3 & LOC111099585 & 36.32548 &  0.9854391 & 0.2091056 &  3.517070 & 4.363394e-04 & 0.033244643 & lys-63-specific deubiquitinase BRCC36-like                                                           & CH\\\\\n",
       "\t5 & LOC111099978 & 37.23914 &  1.1530905 & 0.2612132 &  3.457293 & 5.456316e-04 & 0.039097105 & oncoprotein-induced transcript 3 protein-like, transcript variant X1                                 & CH\\\\\n",
       "\t7 & LOC111100625 & 38.39518 & -1.2060788 & 0.2621809 & -3.646638 & 2.656942e-04 & 0.023517848 & succinate dehydrogenase {[}ubiquinone{]} flavoprotein subunit, mitochondrial-like, transcript variant X2 & CH\\\\\n",
       "\t8 & LOC111100898 & 38.34191 & -1.3046636 & 0.2438064 & -4.325825 & 1.519623e-05 & 0.003201238 & uncharacterized LOC111100898, transcript variant X3                                                  & CH\\\\\n",
       "\t9 & LOC111100915 & 20.55756 &  1.6529072 & 0.3015883 &  4.651730 & 3.291615e-06 & 0.001037820 & uncharacterized LOC111100915, transcript variant X2                                                  & CH\\\\\n",
       "\t11 & LOC111101375 & 40.32033 & -1.2280407 & 0.2367017 & -4.131955 & 3.596914e-05 & 0.005773287 & mu-type opioid receptor-like                                                                         & CH\\\\\n",
       "\\end{tabular}\n"
      ],
      "text/markdown": [
       "\n",
       "A data.frame: 6 × 9\n",
       "\n",
       "| <!--/--> | symbol &lt;chr&gt; | baseMean &lt;dbl&gt; | log2FC &lt;dbl&gt; | lfcSE &lt;dbl&gt; | stat &lt;dbl&gt; | pvalue &lt;dbl&gt; | padj &lt;dbl&gt; | name &lt;chr&gt; | pair &lt;chr&gt; |\n",
       "|---|---|---|---|---|---|---|---|---|---|\n",
       "| 3 | LOC111099585 | 36.32548 |  0.9854391 | 0.2091056 |  3.517070 | 4.363394e-04 | 0.033244643 | lys-63-specific deubiquitinase BRCC36-like                                                           | CH |\n",
       "| 5 | LOC111099978 | 37.23914 |  1.1530905 | 0.2612132 |  3.457293 | 5.456316e-04 | 0.039097105 | oncoprotein-induced transcript 3 protein-like, transcript variant X1                                 | CH |\n",
       "| 7 | LOC111100625 | 38.39518 | -1.2060788 | 0.2621809 | -3.646638 | 2.656942e-04 | 0.023517848 | succinate dehydrogenase [ubiquinone] flavoprotein subunit, mitochondrial-like, transcript variant X2 | CH |\n",
       "| 8 | LOC111100898 | 38.34191 | -1.3046636 | 0.2438064 | -4.325825 | 1.519623e-05 | 0.003201238 | uncharacterized LOC111100898, transcript variant X3                                                  | CH |\n",
       "| 9 | LOC111100915 | 20.55756 |  1.6529072 | 0.3015883 |  4.651730 | 3.291615e-06 | 0.001037820 | uncharacterized LOC111100915, transcript variant X2                                                  | CH |\n",
       "| 11 | LOC111101375 | 40.32033 | -1.2280407 | 0.2367017 | -4.131955 | 3.596914e-05 | 0.005773287 | mu-type opioid receptor-like                                                                         | CH |\n",
       "\n"
      ],
      "text/plain": [
       "   symbol       baseMean log2FC     lfcSE     stat      pvalue      \n",
       "3  LOC111099585 36.32548  0.9854391 0.2091056  3.517070 4.363394e-04\n",
       "5  LOC111099978 37.23914  1.1530905 0.2612132  3.457293 5.456316e-04\n",
       "7  LOC111100625 38.39518 -1.2060788 0.2621809 -3.646638 2.656942e-04\n",
       "8  LOC111100898 38.34191 -1.3046636 0.2438064 -4.325825 1.519623e-05\n",
       "9  LOC111100915 20.55756  1.6529072 0.3015883  4.651730 3.291615e-06\n",
       "11 LOC111101375 40.32033 -1.2280407 0.2367017 -4.131955 3.596914e-05\n",
       "   padj       \n",
       "3  0.033244643\n",
       "5  0.039097105\n",
       "7  0.023517848\n",
       "8  0.003201238\n",
       "9  0.001037820\n",
       "11 0.005773287\n",
       "   name                                                                                                \n",
       "3  lys-63-specific deubiquitinase BRCC36-like                                                          \n",
       "5  oncoprotein-induced transcript 3 protein-like, transcript variant X1                                \n",
       "7  succinate dehydrogenase [ubiquinone] flavoprotein subunit, mitochondrial-like, transcript variant X2\n",
       "8  uncharacterized LOC111100898, transcript variant X3                                                 \n",
       "9  uncharacterized LOC111100915, transcript variant X2                                                 \n",
       "11 mu-type opioid receptor-like                                                                        \n",
       "   pair\n",
       "3  CH  \n",
       "5  CH  \n",
       "7  CH  \n",
       "8  CH  \n",
       "9  CH  \n",
       "11 CH  "
      ]
     },
     "metadata": {},
     "output_type": "display_data"
    }
   ],
   "source": [
    "head(unique_CH_HC)"
   ]
  },
  {
   "cell_type": "code",
   "execution_count": 58,
   "id": "b4a0b550-94c7-49f0-ab8d-363e0c78e5b5",
   "metadata": {},
   "outputs": [],
   "source": [
    "write.csv(unique_CH_HC, '/project/pi_sarah_gignouxwolfsohn_uml_edu/julia/CE_MethylRAD_analysis_2018/analysis/deseq_res_files/geneFeatures_res/venn_genes/139unique_genes_CHvHC.csv')"
   ]
  },
  {
   "cell_type": "markdown",
   "id": "0d94983a-7b26-498b-9510-4395bf0b51ea",
   "metadata": {},
   "source": [
    "pulling out the **2 unique sig DMGs for CC vs. HC**"
   ]
  },
  {
   "cell_type": "code",
   "execution_count": 59,
   "id": "3ccb1b7c-ecdc-49b9-adfd-e9c7b21eed11",
   "metadata": {},
   "outputs": [
    {
     "data": {
      "text/html": [
       "<style>\n",
       ".list-inline {list-style: none; margin:0; padding: 0}\n",
       ".list-inline>li {display: inline-block}\n",
       ".list-inline>li:not(:last-child)::after {content: \"\\00b7\"; padding: 0 .5ex}\n",
       "</style>\n",
       "<ol class=list-inline><li>2</li><li>8</li></ol>\n"
      ],
      "text/latex": [
       "\\begin{enumerate*}\n",
       "\\item 2\n",
       "\\item 8\n",
       "\\end{enumerate*}\n"
      ],
      "text/markdown": [
       "1. 2\n",
       "2. 8\n",
       "\n",
       "\n"
      ],
      "text/plain": [
       "[1] 2 8"
      ]
     },
     "metadata": {},
     "output_type": "display_data"
    }
   ],
   "source": [
    "unique_CC_HC <- sig_CC_HC_genes[!sig_CC_HC_genes$symbol %in% c(shared_genes6$symbol, shared_genes3$symbol, shared_gene1$symbol), ]\n",
    "dim(unique_CC_HC)"
   ]
  },
  {
   "cell_type": "code",
   "execution_count": 60,
   "id": "8cea3659-972e-4a60-9c26-b0eb52c695b0",
   "metadata": {},
   "outputs": [],
   "source": [
    "# adding info for what pairwise comparisons for HC these genes show up for\n",
    "unique_CC_HC$pair <- 'CC'"
   ]
  },
  {
   "cell_type": "code",
   "execution_count": 61,
   "id": "6b559000-1338-4ec9-bb30-672bd5eb687f",
   "metadata": {},
   "outputs": [
    {
     "data": {
      "text/html": [
       "<table class=\"dataframe\">\n",
       "<caption>A data.frame: 2 × 9</caption>\n",
       "<thead>\n",
       "\t<tr><th></th><th scope=col>symbol</th><th scope=col>baseMean</th><th scope=col>log2FC</th><th scope=col>lfcSE</th><th scope=col>stat</th><th scope=col>pvalue</th><th scope=col>padj</th><th scope=col>name</th><th scope=col>pair</th></tr>\n",
       "\t<tr><th></th><th scope=col>&lt;chr&gt;</th><th scope=col>&lt;dbl&gt;</th><th scope=col>&lt;dbl&gt;</th><th scope=col>&lt;dbl&gt;</th><th scope=col>&lt;dbl&gt;</th><th scope=col>&lt;dbl&gt;</th><th scope=col>&lt;dbl&gt;</th><th scope=col>&lt;chr&gt;</th><th scope=col>&lt;chr&gt;</th></tr>\n",
       "</thead>\n",
       "<tbody>\n",
       "\t<tr><th scope=row>2</th><td>LOC111115023</td><td> 20.2752</td><td>-1.349383</td><td>0.2740700</td><td>-4.011321</td><td>6.038007e-05</td><td>0.04126154</td><td>uncharacterized LOC111115023                       </td><td>CC</td></tr>\n",
       "\t<tr><th scope=row>3</th><td>LOC111117745</td><td>123.4170</td><td>-1.135814</td><td>0.2070067</td><td>-4.279157</td><td>1.876021e-05</td><td>0.02350342</td><td>uncharacterized LOC111117745, transcript variant X5</td><td>CC</td></tr>\n",
       "</tbody>\n",
       "</table>\n"
      ],
      "text/latex": [
       "A data.frame: 2 × 9\n",
       "\\begin{tabular}{r|lllllllll}\n",
       "  & symbol & baseMean & log2FC & lfcSE & stat & pvalue & padj & name & pair\\\\\n",
       "  & <chr> & <dbl> & <dbl> & <dbl> & <dbl> & <dbl> & <dbl> & <chr> & <chr>\\\\\n",
       "\\hline\n",
       "\t2 & LOC111115023 &  20.2752 & -1.349383 & 0.2740700 & -4.011321 & 6.038007e-05 & 0.04126154 & uncharacterized LOC111115023                        & CC\\\\\n",
       "\t3 & LOC111117745 & 123.4170 & -1.135814 & 0.2070067 & -4.279157 & 1.876021e-05 & 0.02350342 & uncharacterized LOC111117745, transcript variant X5 & CC\\\\\n",
       "\\end{tabular}\n"
      ],
      "text/markdown": [
       "\n",
       "A data.frame: 2 × 9\n",
       "\n",
       "| <!--/--> | symbol &lt;chr&gt; | baseMean &lt;dbl&gt; | log2FC &lt;dbl&gt; | lfcSE &lt;dbl&gt; | stat &lt;dbl&gt; | pvalue &lt;dbl&gt; | padj &lt;dbl&gt; | name &lt;chr&gt; | pair &lt;chr&gt; |\n",
       "|---|---|---|---|---|---|---|---|---|---|\n",
       "| 2 | LOC111115023 |  20.2752 | -1.349383 | 0.2740700 | -4.011321 | 6.038007e-05 | 0.04126154 | uncharacterized LOC111115023                        | CC |\n",
       "| 3 | LOC111117745 | 123.4170 | -1.135814 | 0.2070067 | -4.279157 | 1.876021e-05 | 0.02350342 | uncharacterized LOC111117745, transcript variant X5 | CC |\n",
       "\n"
      ],
      "text/plain": [
       "  symbol       baseMean log2FC    lfcSE     stat      pvalue       padj      \n",
       "2 LOC111115023  20.2752 -1.349383 0.2740700 -4.011321 6.038007e-05 0.04126154\n",
       "3 LOC111117745 123.4170 -1.135814 0.2070067 -4.279157 1.876021e-05 0.02350342\n",
       "  name                                                pair\n",
       "2 uncharacterized LOC111115023                        CC  \n",
       "3 uncharacterized LOC111117745, transcript variant X5 CC  "
      ]
     },
     "metadata": {},
     "output_type": "display_data"
    }
   ],
   "source": [
    "head(unique_CC_HC)"
   ]
  },
  {
   "cell_type": "code",
   "execution_count": 62,
   "id": "4b610e88-39af-405f-8ffe-d9b69904e4e5",
   "metadata": {},
   "outputs": [],
   "source": [
    "write.csv(unique_CC_HC, '/project/pi_sarah_gignouxwolfsohn_uml_edu/julia/CE_MethylRAD_analysis_2018/analysis/deseq_res_files/geneFeatures_res/venn_genes/2unique_genes_CCvHC.csv')"
   ]
  },
  {
   "cell_type": "markdown",
   "id": "b6e2d9ea-2a87-4971-8fb1-33de4838037d",
   "metadata": {},
   "source": [
    "pulling out the **22 unique sig DMGs for HH vs. HC**"
   ]
  },
  {
   "cell_type": "code",
   "execution_count": 63,
   "id": "3a1642f4-fd97-41ca-a63e-089ae9970ab0",
   "metadata": {},
   "outputs": [
    {
     "data": {
      "text/html": [
       "<style>\n",
       ".list-inline {list-style: none; margin:0; padding: 0}\n",
       ".list-inline>li {display: inline-block}\n",
       ".list-inline>li:not(:last-child)::after {content: \"\\00b7\"; padding: 0 .5ex}\n",
       "</style>\n",
       "<ol class=list-inline><li>21</li><li>8</li></ol>\n"
      ],
      "text/latex": [
       "\\begin{enumerate*}\n",
       "\\item 21\n",
       "\\item 8\n",
       "\\end{enumerate*}\n"
      ],
      "text/markdown": [
       "1. 21\n",
       "2. 8\n",
       "\n",
       "\n"
      ],
      "text/plain": [
       "[1] 21  8"
      ]
     },
     "metadata": {},
     "output_type": "display_data"
    }
   ],
   "source": [
    "unique_HH_HC <- sig_HH_HC_genes[!sig_HH_HC_genes$symbol %in% c(shared_genes6$symbol, shared_genes48$symbol, shared_gene1$symbol), ]\n",
    "dim(unique_HH_HC)"
   ]
  },
  {
   "cell_type": "code",
   "execution_count": 64,
   "id": "7e1a4b61-6f1c-4647-a4af-21610cc33ded",
   "metadata": {},
   "outputs": [],
   "source": [
    "# adding info for what pairwise comparisons for HC these genes show up for\n",
    "unique_HH_HC$pair <- 'HH'"
   ]
  },
  {
   "cell_type": "code",
   "execution_count": 65,
   "id": "7287dc55-ebbb-49c0-bbdb-9b84c5d74236",
   "metadata": {},
   "outputs": [
    {
     "data": {
      "text/html": [
       "<table class=\"dataframe\">\n",
       "<caption>A data.frame: 6 × 9</caption>\n",
       "<thead>\n",
       "\t<tr><th></th><th scope=col>symbol</th><th scope=col>baseMean</th><th scope=col>log2FC</th><th scope=col>lfcSE</th><th scope=col>stat</th><th scope=col>pvalue</th><th scope=col>padj</th><th scope=col>name</th><th scope=col>pair</th></tr>\n",
       "\t<tr><th></th><th scope=col>&lt;chr&gt;</th><th scope=col>&lt;dbl&gt;</th><th scope=col>&lt;dbl&gt;</th><th scope=col>&lt;dbl&gt;</th><th scope=col>&lt;dbl&gt;</th><th scope=col>&lt;dbl&gt;</th><th scope=col>&lt;dbl&gt;</th><th scope=col>&lt;chr&gt;</th><th scope=col>&lt;chr&gt;</th></tr>\n",
       "</thead>\n",
       "<tbody>\n",
       "\t<tr><th scope=row>9</th><td>LOC111106272</td><td>26.730416</td><td> 1.444594</td><td>0.2630936</td><td> 4.540567</td><td>5.610309e-06</td><td>0.003069859</td><td>UDP-xylose and UDP-N-acetylglucosamine transporter-like       </td><td>HH</td></tr>\n",
       "\t<tr><th scope=row>11</th><td>LOC111106920</td><td>20.924617</td><td> 1.461400</td><td>0.3262911</td><td> 3.712636</td><td>2.051118e-04</td><td>0.035784586</td><td>plasma alpha-L-fucosidase-like                                </td><td>HH</td></tr>\n",
       "\t<tr><th scope=row>13</th><td>LOC111109361</td><td>22.421224</td><td> 1.332604</td><td>0.2694038</td><td> 4.018519</td><td>5.856517e-05</td><td>0.014280548</td><td>fucolectin-like                                               </td><td>HH</td></tr>\n",
       "\t<tr><th scope=row>14</th><td>LOC111109809</td><td> 2.629455</td><td> 1.698251</td><td>0.3601734</td><td> 4.020982</td><td>5.795609e-05</td><td>0.014280548</td><td>peroxisome proliferator-activated receptor delta-like         </td><td>HH</td></tr>\n",
       "\t<tr><th scope=row>16</th><td>LOC111110897</td><td>42.967001</td><td>-1.312697</td><td>0.2770241</td><td>-3.836117</td><td>1.249951e-04</td><td>0.026398089</td><td>E3 ubiquitin-protein ligase TRIM71-like, transcript variant X1</td><td>HH</td></tr>\n",
       "\t<tr><th scope=row>22</th><td>LOC111115873</td><td> 8.605695</td><td> 1.535518</td><td>0.3373803</td><td> 3.810293</td><td>1.388020e-04</td><td>0.027864621</td><td>uncharacterized LOC111115873, transcript variant X2           </td><td>HH</td></tr>\n",
       "</tbody>\n",
       "</table>\n"
      ],
      "text/latex": [
       "A data.frame: 6 × 9\n",
       "\\begin{tabular}{r|lllllllll}\n",
       "  & symbol & baseMean & log2FC & lfcSE & stat & pvalue & padj & name & pair\\\\\n",
       "  & <chr> & <dbl> & <dbl> & <dbl> & <dbl> & <dbl> & <dbl> & <chr> & <chr>\\\\\n",
       "\\hline\n",
       "\t9 & LOC111106272 & 26.730416 &  1.444594 & 0.2630936 &  4.540567 & 5.610309e-06 & 0.003069859 & UDP-xylose and UDP-N-acetylglucosamine transporter-like        & HH\\\\\n",
       "\t11 & LOC111106920 & 20.924617 &  1.461400 & 0.3262911 &  3.712636 & 2.051118e-04 & 0.035784586 & plasma alpha-L-fucosidase-like                                 & HH\\\\\n",
       "\t13 & LOC111109361 & 22.421224 &  1.332604 & 0.2694038 &  4.018519 & 5.856517e-05 & 0.014280548 & fucolectin-like                                                & HH\\\\\n",
       "\t14 & LOC111109809 &  2.629455 &  1.698251 & 0.3601734 &  4.020982 & 5.795609e-05 & 0.014280548 & peroxisome proliferator-activated receptor delta-like          & HH\\\\\n",
       "\t16 & LOC111110897 & 42.967001 & -1.312697 & 0.2770241 & -3.836117 & 1.249951e-04 & 0.026398089 & E3 ubiquitin-protein ligase TRIM71-like, transcript variant X1 & HH\\\\\n",
       "\t22 & LOC111115873 &  8.605695 &  1.535518 & 0.3373803 &  3.810293 & 1.388020e-04 & 0.027864621 & uncharacterized LOC111115873, transcript variant X2            & HH\\\\\n",
       "\\end{tabular}\n"
      ],
      "text/markdown": [
       "\n",
       "A data.frame: 6 × 9\n",
       "\n",
       "| <!--/--> | symbol &lt;chr&gt; | baseMean &lt;dbl&gt; | log2FC &lt;dbl&gt; | lfcSE &lt;dbl&gt; | stat &lt;dbl&gt; | pvalue &lt;dbl&gt; | padj &lt;dbl&gt; | name &lt;chr&gt; | pair &lt;chr&gt; |\n",
       "|---|---|---|---|---|---|---|---|---|---|\n",
       "| 9 | LOC111106272 | 26.730416 |  1.444594 | 0.2630936 |  4.540567 | 5.610309e-06 | 0.003069859 | UDP-xylose and UDP-N-acetylglucosamine transporter-like        | HH |\n",
       "| 11 | LOC111106920 | 20.924617 |  1.461400 | 0.3262911 |  3.712636 | 2.051118e-04 | 0.035784586 | plasma alpha-L-fucosidase-like                                 | HH |\n",
       "| 13 | LOC111109361 | 22.421224 |  1.332604 | 0.2694038 |  4.018519 | 5.856517e-05 | 0.014280548 | fucolectin-like                                                | HH |\n",
       "| 14 | LOC111109809 |  2.629455 |  1.698251 | 0.3601734 |  4.020982 | 5.795609e-05 | 0.014280548 | peroxisome proliferator-activated receptor delta-like          | HH |\n",
       "| 16 | LOC111110897 | 42.967001 | -1.312697 | 0.2770241 | -3.836117 | 1.249951e-04 | 0.026398089 | E3 ubiquitin-protein ligase TRIM71-like, transcript variant X1 | HH |\n",
       "| 22 | LOC111115873 |  8.605695 |  1.535518 | 0.3373803 |  3.810293 | 1.388020e-04 | 0.027864621 | uncharacterized LOC111115873, transcript variant X2            | HH |\n",
       "\n"
      ],
      "text/plain": [
       "   symbol       baseMean  log2FC    lfcSE     stat      pvalue      \n",
       "9  LOC111106272 26.730416  1.444594 0.2630936  4.540567 5.610309e-06\n",
       "11 LOC111106920 20.924617  1.461400 0.3262911  3.712636 2.051118e-04\n",
       "13 LOC111109361 22.421224  1.332604 0.2694038  4.018519 5.856517e-05\n",
       "14 LOC111109809  2.629455  1.698251 0.3601734  4.020982 5.795609e-05\n",
       "16 LOC111110897 42.967001 -1.312697 0.2770241 -3.836117 1.249951e-04\n",
       "22 LOC111115873  8.605695  1.535518 0.3373803  3.810293 1.388020e-04\n",
       "   padj        name                                                          \n",
       "9  0.003069859 UDP-xylose and UDP-N-acetylglucosamine transporter-like       \n",
       "11 0.035784586 plasma alpha-L-fucosidase-like                                \n",
       "13 0.014280548 fucolectin-like                                               \n",
       "14 0.014280548 peroxisome proliferator-activated receptor delta-like         \n",
       "16 0.026398089 E3 ubiquitin-protein ligase TRIM71-like, transcript variant X1\n",
       "22 0.027864621 uncharacterized LOC111115873, transcript variant X2           \n",
       "   pair\n",
       "9  HH  \n",
       "11 HH  \n",
       "13 HH  \n",
       "14 HH  \n",
       "16 HH  \n",
       "22 HH  "
      ]
     },
     "metadata": {},
     "output_type": "display_data"
    }
   ],
   "source": [
    "head(unique_HH_HC)"
   ]
  },
  {
   "cell_type": "code",
   "execution_count": 66,
   "id": "210b919b-1ba4-47d2-be3d-2342d27c3384",
   "metadata": {},
   "outputs": [],
   "source": [
    "write.csv(unique_HH_HC, '/project/pi_sarah_gignouxwolfsohn_uml_edu/julia/CE_MethylRAD_analysis_2018/analysis/deseq_res_files/geneFeatures_res/venn_genes/22unique_genes_HHvHC.csv')"
   ]
  },
  {
   "cell_type": "markdown",
   "id": "86c9eb27-b7c1-45ff-b3a0-de34e2ab6a02",
   "metadata": {},
   "source": [
    "Now have multiple dfs that contain shared and unique sig DMGs from the Venn diagram of pairwise comparisons with HC\n",
    "\n",
    "**Shared sig DMGs**:\n",
    "- shared_genes14 - shared between all 3 comparisons\n",
    "- shared_genes67 - shared *ONLY* between HH vs. HC and CH vs. HC\n",
    "- shared_genes81 - shared between HH vs. HC and CH vs. HC (including the 14 that are shared between all)\n",
    "- shared_genes18 - shared between CC vs. HC and CH vs. HC (including the 14 that are shared between all)\n",
    "- shared_genes4 - shared *ONLY* between CC vs. HC and CH vs. HC\n",
    "\n",
    "**Unique sig DMGs**:\n",
    "- unique_HH_HC - 43 sig DMGs\n",
    "- unique_CH_HC - 173 sig DMGs\n",
    "- unique_CC_HC - 2 sig DMGs"
   ]
  },
  {
   "cell_type": "markdown",
   "id": "c9cc82a3-42c0-4a49-b8a8-a8002cb862ce",
   "metadata": {},
   "source": [
    "#### creating master df for sig. DMGs"
   ]
  },
  {
   "cell_type": "code",
   "execution_count": 67,
   "id": "209d7566-300a-44ca-8496-e0ab71a91953",
   "metadata": {},
   "outputs": [],
   "source": [
    "# formatting dfs for merging\n",
    "\n",
    "# shared genes 6\n",
    "sg6 <- select(shared_genes6, symbol, name.x, pair)\n",
    "colnames(sg6) <- c('symbol', 'name', 'pair')\n",
    "\n",
    "# shared genes 48\n",
    "sg48 <- select(shared_genes48, symbol, name.x, pair)\n",
    "colnames(sg48) <- c('symbol', 'name', 'pair')\n",
    "\n",
    "# shared genes 3\n",
    "sg3 <- select(shared_genes3, symbol, name.x, pair)\n",
    "colnames(sg3) <- c('symbol', 'name', 'pair')\n",
    "\n",
    "# shared genes 3\n",
    "sg1 <- select(shared_gene1, symbol, name.x, pair)\n",
    "colnames(sg1) <- c('symbol', 'name', 'pair')\n",
    "\n",
    "# unique for CC vs. HC\n",
    "uCC <- select(unique_CC_HC, symbol, name, pair)\n",
    "\n",
    "# unique for HH vs. HC\n",
    "uHH <- select(unique_HH_HC, symbol, name, pair)\n",
    "\n",
    "# unique for CH vs. HC\n",
    "uCH <- select(unique_CH_HC, symbol, name, pair)"
   ]
  },
  {
   "cell_type": "code",
   "execution_count": 68,
   "id": "0389ab76-3f85-47f6-91bc-d6f06899d509",
   "metadata": {},
   "outputs": [
    {
     "data": {
      "text/html": [
       "<table class=\"dataframe\">\n",
       "<caption>A data.frame: 6 × 3</caption>\n",
       "<thead>\n",
       "\t<tr><th></th><th scope=col>symbol</th><th scope=col>name</th><th scope=col>pair</th></tr>\n",
       "\t<tr><th></th><th scope=col>&lt;chr&gt;</th><th scope=col>&lt;chr&gt;</th><th scope=col>&lt;chr&gt;</th></tr>\n",
       "</thead>\n",
       "<tbody>\n",
       "\t<tr><th scope=row>1</th><td>LOC111117760</td><td>disintegrin and metalloproteinase domain-containing protein 10-like, transcript variant X3</td><td>CH, HH, CC</td></tr>\n",
       "\t<tr><th scope=row>2</th><td>LOC111119327</td><td>calcyphosin-like protein, transcript variant X3                                           </td><td>CH, HH, CC</td></tr>\n",
       "\t<tr><th scope=row>3</th><td>LOC111123492</td><td>pre-B-cell leukemia transcription factor 1-like, transcript variant X11                   </td><td>CH, HH, CC</td></tr>\n",
       "\t<tr><th scope=row>4</th><td>LOC111124674</td><td>gamma-glutamyltranspeptidase 1-like, transcript variant X1                                </td><td>CH, HH, CC</td></tr>\n",
       "\t<tr><th scope=row>5</th><td>LOC111129146</td><td>FERM domain-containing protein 8-like                                                     </td><td>CH, HH, CC</td></tr>\n",
       "\t<tr><th scope=row>6</th><td>LOC111133438</td><td>uncharacterized LOC111133438                                                              </td><td>CH, HH, CC</td></tr>\n",
       "</tbody>\n",
       "</table>\n"
      ],
      "text/latex": [
       "A data.frame: 6 × 3\n",
       "\\begin{tabular}{r|lll}\n",
       "  & symbol & name & pair\\\\\n",
       "  & <chr> & <chr> & <chr>\\\\\n",
       "\\hline\n",
       "\t1 & LOC111117760 & disintegrin and metalloproteinase domain-containing protein 10-like, transcript variant X3 & CH, HH, CC\\\\\n",
       "\t2 & LOC111119327 & calcyphosin-like protein, transcript variant X3                                            & CH, HH, CC\\\\\n",
       "\t3 & LOC111123492 & pre-B-cell leukemia transcription factor 1-like, transcript variant X11                    & CH, HH, CC\\\\\n",
       "\t4 & LOC111124674 & gamma-glutamyltranspeptidase 1-like, transcript variant X1                                 & CH, HH, CC\\\\\n",
       "\t5 & LOC111129146 & FERM domain-containing protein 8-like                                                      & CH, HH, CC\\\\\n",
       "\t6 & LOC111133438 & uncharacterized LOC111133438                                                               & CH, HH, CC\\\\\n",
       "\\end{tabular}\n"
      ],
      "text/markdown": [
       "\n",
       "A data.frame: 6 × 3\n",
       "\n",
       "| <!--/--> | symbol &lt;chr&gt; | name &lt;chr&gt; | pair &lt;chr&gt; |\n",
       "|---|---|---|---|\n",
       "| 1 | LOC111117760 | disintegrin and metalloproteinase domain-containing protein 10-like, transcript variant X3 | CH, HH, CC |\n",
       "| 2 | LOC111119327 | calcyphosin-like protein, transcript variant X3                                            | CH, HH, CC |\n",
       "| 3 | LOC111123492 | pre-B-cell leukemia transcription factor 1-like, transcript variant X11                    | CH, HH, CC |\n",
       "| 4 | LOC111124674 | gamma-glutamyltranspeptidase 1-like, transcript variant X1                                 | CH, HH, CC |\n",
       "| 5 | LOC111129146 | FERM domain-containing protein 8-like                                                      | CH, HH, CC |\n",
       "| 6 | LOC111133438 | uncharacterized LOC111133438                                                               | CH, HH, CC |\n",
       "\n"
      ],
      "text/plain": [
       "  symbol      \n",
       "1 LOC111117760\n",
       "2 LOC111119327\n",
       "3 LOC111123492\n",
       "4 LOC111124674\n",
       "5 LOC111129146\n",
       "6 LOC111133438\n",
       "  name                                                                                      \n",
       "1 disintegrin and metalloproteinase domain-containing protein 10-like, transcript variant X3\n",
       "2 calcyphosin-like protein, transcript variant X3                                           \n",
       "3 pre-B-cell leukemia transcription factor 1-like, transcript variant X11                   \n",
       "4 gamma-glutamyltranspeptidase 1-like, transcript variant X1                                \n",
       "5 FERM domain-containing protein 8-like                                                     \n",
       "6 uncharacterized LOC111133438                                                              \n",
       "  pair      \n",
       "1 CH, HH, CC\n",
       "2 CH, HH, CC\n",
       "3 CH, HH, CC\n",
       "4 CH, HH, CC\n",
       "5 CH, HH, CC\n",
       "6 CH, HH, CC"
      ]
     },
     "metadata": {},
     "output_type": "display_data"
    }
   ],
   "source": [
    "all_sigDMGs <- rbind(sg6, sg48, sg3, sg1, uCC, uHH, uCH)\n",
    "head(all_sigDMGs)"
   ]
  },
  {
   "cell_type": "code",
   "execution_count": 69,
   "id": "4fc509db-a6af-4546-b0fd-3e70c015612d",
   "metadata": {},
   "outputs": [],
   "source": [
    "write.csv(all_sigDMGs, '/project/pi_sarah_gignouxwolfsohn_uml_edu/julia/CE_MethylRAD_analysis_2018/analysis/deseq_res_files/geneFeatures_res/sig_DMGs/all_sigDMGs.csv', row.names = FALSE)"
   ]
  }
 ],
 "metadata": {
  "kernelspec": {
   "display_name": "R [conda env:.conda-r-env]",
   "language": "R",
   "name": "conda-env-.conda-r-env-r"
  },
  "language_info": {
   "codemirror_mode": "r",
   "file_extension": ".r",
   "mimetype": "text/x-r-source",
   "name": "R",
   "pygments_lexer": "r",
   "version": "4.3.2"
  }
 },
 "nbformat": 4,
 "nbformat_minor": 5
}
