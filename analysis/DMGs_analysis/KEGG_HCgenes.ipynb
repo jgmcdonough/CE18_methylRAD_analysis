{
 "cells": [
  {
   "cell_type": "markdown",
   "id": "bcc467ab-355c-4e65-ac03-7152c3f66d08",
   "metadata": {},
   "source": [
    "# Pathway Enrichment Analysis \n",
    "Using KEGG analysis to explore enriched pathways from DMGs identified in pairwise comparisons with HC (hypoxic control) "
   ]
  },
  {
   "cell_type": "markdown",
   "id": "3887431b-0bcc-4147-ae5c-d9fa8ec831d1",
   "metadata": {},
   "source": [
    "#### load and prep data frames"
   ]
  },
  {
   "cell_type": "code",
   "execution_count": 2,
   "id": "301a201b-619c-4600-be4b-c816e44326db",
   "metadata": {},
   "outputs": [],
   "source": [
    "# loading libraries\n",
    "library(topGO)\n",
    "library(KEGGREST)\n",
    "library(dplyr)\n",
    "library(clusterProfiler)\n",
    "library(ggridges)\n",
    "library(ggplot2)\n",
    "library(httr)"
   ]
  },
  {
   "cell_type": "code",
   "execution_count": 3,
   "id": "c3d15675-c6b3-427a-9440-ac583db3fbe3",
   "metadata": {},
   "outputs": [],
   "source": [
    "# importing csv files\n",
    "\n",
    "#1 control control vs. hypoxic control\n",
    "CC_HC <- read.csv('/project/pi_sarah_gignouxwolfsohn_uml_edu/julia/CE_MethylRAD_analysis_2018/analysis/deseq_res_files/CC_vs_HC.csv')\n",
    "\n",
    "#2 control hypoxic vs. hypoxic control\n",
    "CH_HC <- read.csv('/project/pi_sarah_gignouxwolfsohn_uml_edu/julia/CE_MethylRAD_analysis_2018/analysis/deseq_res_files/CH_vs_HC.csv')\n",
    "\n",
    "#3 hypoxic hypoxic vs. hypoxic control\n",
    "HH_HC <- read.csv('/project/pi_sarah_gignouxwolfsohn_uml_edu/julia/CE_MethylRAD_analysis_2018/analysis/deseq_res_files/HH_vs_HC.csv')\n"
   ]
  },
  {
   "cell_type": "markdown",
   "id": "d45d8434-ab94-459c-850b-5f6aac668a09",
   "metadata": {},
   "source": [
    "## control control vs. hypoxic control\n",
    "CC vs. HC"
   ]
  },
  {
   "cell_type": "code",
   "execution_count": 4,
   "id": "21999e72-8752-4b6f-81cf-e417e71c6db0",
   "metadata": {},
   "outputs": [
    {
     "data": {
      "text/html": [
       "<table class=\"dataframe\">\n",
       "<caption>A data.frame: 6 × 7</caption>\n",
       "<thead>\n",
       "\t<tr><th></th><th scope=col>X</th><th scope=col>baseMean</th><th scope=col>log2FoldChange</th><th scope=col>lfcSE</th><th scope=col>stat</th><th scope=col>pvalue</th><th scope=col>padj</th></tr>\n",
       "\t<tr><th></th><th scope=col>&lt;chr&gt;</th><th scope=col>&lt;dbl&gt;</th><th scope=col>&lt;dbl&gt;</th><th scope=col>&lt;dbl&gt;</th><th scope=col>&lt;dbl&gt;</th><th scope=col>&lt;dbl&gt;</th><th scope=col>&lt;dbl&gt;</th></tr>\n",
       "</thead>\n",
       "<tbody>\n",
       "\t<tr><th scope=row>1</th><td>LOC111120752</td><td>  0.3456118</td><td>-0.04195790</td><td>0.2300421</td><td>0</td><td>1</td><td>NA</td></tr>\n",
       "\t<tr><th scope=row>2</th><td>LOC111109452</td><td>  1.5973302</td><td>-0.09288309</td><td>0.2529871</td><td>0</td><td>1</td><td>NA</td></tr>\n",
       "\t<tr><th scope=row>3</th><td>LOC111124802</td><td>213.0013054</td><td> 0.06672759</td><td>0.1192547</td><td>0</td><td>1</td><td> 1</td></tr>\n",
       "\t<tr><th scope=row>4</th><td>LOC111101273</td><td> 76.7130208</td><td>-0.20267259</td><td>0.1576994</td><td>0</td><td>1</td><td> 1</td></tr>\n",
       "\t<tr><th scope=row>5</th><td>LOC111101250</td><td>123.4748149</td><td>-0.13501125</td><td>0.1799700</td><td>0</td><td>1</td><td> 1</td></tr>\n",
       "\t<tr><th scope=row>6</th><td>LOC111101262</td><td>269.4443993</td><td> 0.14318006</td><td>0.1234759</td><td>0</td><td>1</td><td> 1</td></tr>\n",
       "</tbody>\n",
       "</table>\n"
      ],
      "text/latex": [
       "A data.frame: 6 × 7\n",
       "\\begin{tabular}{r|lllllll}\n",
       "  & X & baseMean & log2FoldChange & lfcSE & stat & pvalue & padj\\\\\n",
       "  & <chr> & <dbl> & <dbl> & <dbl> & <dbl> & <dbl> & <dbl>\\\\\n",
       "\\hline\n",
       "\t1 & LOC111120752 &   0.3456118 & -0.04195790 & 0.2300421 & 0 & 1 & NA\\\\\n",
       "\t2 & LOC111109452 &   1.5973302 & -0.09288309 & 0.2529871 & 0 & 1 & NA\\\\\n",
       "\t3 & LOC111124802 & 213.0013054 &  0.06672759 & 0.1192547 & 0 & 1 &  1\\\\\n",
       "\t4 & LOC111101273 &  76.7130208 & -0.20267259 & 0.1576994 & 0 & 1 &  1\\\\\n",
       "\t5 & LOC111101250 & 123.4748149 & -0.13501125 & 0.1799700 & 0 & 1 &  1\\\\\n",
       "\t6 & LOC111101262 & 269.4443993 &  0.14318006 & 0.1234759 & 0 & 1 &  1\\\\\n",
       "\\end{tabular}\n"
      ],
      "text/markdown": [
       "\n",
       "A data.frame: 6 × 7\n",
       "\n",
       "| <!--/--> | X &lt;chr&gt; | baseMean &lt;dbl&gt; | log2FoldChange &lt;dbl&gt; | lfcSE &lt;dbl&gt; | stat &lt;dbl&gt; | pvalue &lt;dbl&gt; | padj &lt;dbl&gt; |\n",
       "|---|---|---|---|---|---|---|---|\n",
       "| 1 | LOC111120752 |   0.3456118 | -0.04195790 | 0.2300421 | 0 | 1 | NA |\n",
       "| 2 | LOC111109452 |   1.5973302 | -0.09288309 | 0.2529871 | 0 | 1 | NA |\n",
       "| 3 | LOC111124802 | 213.0013054 |  0.06672759 | 0.1192547 | 0 | 1 |  1 |\n",
       "| 4 | LOC111101273 |  76.7130208 | -0.20267259 | 0.1576994 | 0 | 1 |  1 |\n",
       "| 5 | LOC111101250 | 123.4748149 | -0.13501125 | 0.1799700 | 0 | 1 |  1 |\n",
       "| 6 | LOC111101262 | 269.4443993 |  0.14318006 | 0.1234759 | 0 | 1 |  1 |\n",
       "\n"
      ],
      "text/plain": [
       "  X            baseMean    log2FoldChange lfcSE     stat pvalue padj\n",
       "1 LOC111120752   0.3456118 -0.04195790    0.2300421 0    1      NA  \n",
       "2 LOC111109452   1.5973302 -0.09288309    0.2529871 0    1      NA  \n",
       "3 LOC111124802 213.0013054  0.06672759    0.1192547 0    1       1  \n",
       "4 LOC111101273  76.7130208 -0.20267259    0.1576994 0    1       1  \n",
       "5 LOC111101250 123.4748149 -0.13501125    0.1799700 0    1       1  \n",
       "6 LOC111101262 269.4443993  0.14318006    0.1234759 0    1       1  "
      ]
     },
     "metadata": {},
     "output_type": "display_data"
    }
   ],
   "source": [
    "head(CC_HC)"
   ]
  },
  {
   "cell_type": "markdown",
   "id": "eed168af-4f71-45aa-9587-8d9206fd489a",
   "metadata": {},
   "source": [
    "formatting the df as needed to run KEGG"
   ]
  },
  {
   "cell_type": "code",
   "execution_count": 5,
   "id": "17819bbb-c113-4c5c-b062-222e9a9efa94",
   "metadata": {},
   "outputs": [
    {
     "data": {
      "text/html": [
       "<table class=\"dataframe\">\n",
       "<caption>A data.frame: 6 × 3</caption>\n",
       "<thead>\n",
       "\t<tr><th></th><th scope=col>gene</th><th scope=col>lfc</th><th scope=col>padj</th></tr>\n",
       "\t<tr><th></th><th scope=col>&lt;chr&gt;</th><th scope=col>&lt;dbl&gt;</th><th scope=col>&lt;dbl&gt;</th></tr>\n",
       "</thead>\n",
       "<tbody>\n",
       "\t<tr><th scope=row>1</th><td>111120752</td><td>-0.04195790</td><td>NA</td></tr>\n",
       "\t<tr><th scope=row>2</th><td>111109452</td><td>-0.09288309</td><td>NA</td></tr>\n",
       "\t<tr><th scope=row>3</th><td>111124802</td><td> 0.06672759</td><td> 1</td></tr>\n",
       "\t<tr><th scope=row>4</th><td>111101273</td><td>-0.20267259</td><td> 1</td></tr>\n",
       "\t<tr><th scope=row>5</th><td>111101250</td><td>-0.13501125</td><td> 1</td></tr>\n",
       "\t<tr><th scope=row>6</th><td>111101262</td><td> 0.14318006</td><td> 1</td></tr>\n",
       "</tbody>\n",
       "</table>\n"
      ],
      "text/latex": [
       "A data.frame: 6 × 3\n",
       "\\begin{tabular}{r|lll}\n",
       "  & gene & lfc & padj\\\\\n",
       "  & <chr> & <dbl> & <dbl>\\\\\n",
       "\\hline\n",
       "\t1 & 111120752 & -0.04195790 & NA\\\\\n",
       "\t2 & 111109452 & -0.09288309 & NA\\\\\n",
       "\t3 & 111124802 &  0.06672759 &  1\\\\\n",
       "\t4 & 111101273 & -0.20267259 &  1\\\\\n",
       "\t5 & 111101250 & -0.13501125 &  1\\\\\n",
       "\t6 & 111101262 &  0.14318006 &  1\\\\\n",
       "\\end{tabular}\n"
      ],
      "text/markdown": [
       "\n",
       "A data.frame: 6 × 3\n",
       "\n",
       "| <!--/--> | gene &lt;chr&gt; | lfc &lt;dbl&gt; | padj &lt;dbl&gt; |\n",
       "|---|---|---|---|\n",
       "| 1 | 111120752 | -0.04195790 | NA |\n",
       "| 2 | 111109452 | -0.09288309 | NA |\n",
       "| 3 | 111124802 |  0.06672759 |  1 |\n",
       "| 4 | 111101273 | -0.20267259 |  1 |\n",
       "| 5 | 111101250 | -0.13501125 |  1 |\n",
       "| 6 | 111101262 |  0.14318006 |  1 |\n",
       "\n"
      ],
      "text/plain": [
       "  gene      lfc         padj\n",
       "1 111120752 -0.04195790 NA  \n",
       "2 111109452 -0.09288309 NA  \n",
       "3 111124802  0.06672759  1  \n",
       "4 111101273 -0.20267259  1  \n",
       "5 111101250 -0.13501125  1  \n",
       "6 111101262  0.14318006  1  "
      ]
     },
     "metadata": {},
     "output_type": "display_data"
    }
   ],
   "source": [
    "# selecting columns I need\n",
    "cc_hc <- select(CC_HC, X, log2FoldChange, padj)\n",
    "\n",
    "# KEGG uses entrez IDs, which are my ensembl IDs without the 'LOC' in front of them, so need to convert those\n",
    "cc_hc$X <- substr(cc_hc$X, start = 4, stop = nchar(cc_hc$X))\n",
    "\n",
    "# renaming columns\n",
    "colnames(cc_hc) <- c('gene', 'lfc', 'padj')\n",
    "\n",
    "head(cc_hc)"
   ]
  },
  {
   "cell_type": "code",
   "execution_count": 6,
   "id": "7eb72e44-c99b-4d0c-b464-d0bc58068d0d",
   "metadata": {},
   "outputs": [
    {
     "data": {
      "text/html": [
       "<style>\n",
       ".dl-inline {width: auto; margin:0; padding: 0}\n",
       ".dl-inline>dt, .dl-inline>dd {float: none; width: auto; display: inline-block}\n",
       ".dl-inline>dt::after {content: \":\\0020\"; padding-right: .5ex}\n",
       ".dl-inline>dt:not(:first-of-type) {padding-left: .5ex}\n",
       "</style><dl class=dl-inline><dt>111129122</dt><dd>1.89368414192628</dd><dt>111100699</dt><dd>1.42900655360356</dd><dt>111130929</dt><dd>1.41898923028618</dd><dt>111129146</dt><dd>1.39545071801945</dd><dt>111136327</dt><dd>1.39485792690797</dd><dt>111130870</dt><dd>1.38153019135739</dd></dl>\n"
      ],
      "text/latex": [
       "\\begin{description*}\n",
       "\\item[111129122] 1.89368414192628\n",
       "\\item[111100699] 1.42900655360356\n",
       "\\item[111130929] 1.41898923028618\n",
       "\\item[111129146] 1.39545071801945\n",
       "\\item[111136327] 1.39485792690797\n",
       "\\item[111130870] 1.38153019135739\n",
       "\\end{description*}\n"
      ],
      "text/markdown": [
       "111129122\n",
       ":   1.89368414192628111100699\n",
       ":   1.42900655360356111130929\n",
       ":   1.41898923028618111129146\n",
       ":   1.39545071801945111136327\n",
       ":   1.39485792690797111130870\n",
       ":   1.38153019135739\n",
       "\n"
      ],
      "text/plain": [
       "111129122 111100699 111130929 111129146 111136327 111130870 \n",
       " 1.893684  1.429007  1.418989  1.395451  1.394858  1.381530 "
      ]
     },
     "metadata": {},
     "output_type": "display_data"
    },
    {
     "data": {
      "text/html": [
       "'numeric'"
      ],
      "text/latex": [
       "'numeric'"
      ],
      "text/markdown": [
       "'numeric'"
      ],
      "text/plain": [
       "[1] \"numeric\""
      ]
     },
     "metadata": {},
     "output_type": "display_data"
    }
   ],
   "source": [
    "# creating numeric vector for kegg object\n",
    "CC_kegg_gene_list <- cc_hc$lfc\n",
    "names(CC_kegg_gene_list) <- cc_hc$gene\n",
    "\n",
    "# omitting anything with NA in a cell\n",
    "CC_kegg_gene_list <- na.omit(CC_kegg_gene_list)\n",
    "\n",
    "# sort list in descending order\n",
    "CC_kegg_gene_list = sort(CC_kegg_gene_list, decreasing = TRUE)\n",
    "\n",
    "# checking that things look okay\n",
    "head(CC_kegg_gene_list)\n",
    "class(CC_kegg_gene_list)"
   ]
  },
  {
   "cell_type": "markdown",
   "id": "778e7b01-333a-48e0-b207-5033853593e7",
   "metadata": {},
   "source": [
    "now that my gene list looks okay - running KEGG"
   ]
  },
  {
   "cell_type": "code",
   "execution_count": 7,
   "id": "3e3aed9f-d3c2-447b-a8ef-59b2b6c162f3",
   "metadata": {},
   "outputs": [
    {
     "name": "stderr",
     "output_type": "stream",
     "text": [
      "Reading KEGG annotation online: \"https://rest.kegg.jp/link/cvn/pathway\"...\n",
      "\n",
      "Reading KEGG annotation online: \"https://rest.kegg.jp/list/pathway/cvn\"...\n",
      "\n",
      "preparing geneSet collections...\n",
      "\n",
      "GSEA analysis...\n",
      "\n",
      "Warning message in preparePathwaysAndStats(pathways, stats, minSize, maxSize, gseaParam, :\n",
      "“There are ties in the preranked stats (0.18% of the list).\n",
      "The order of those tied genes will be arbitrary, which may produce unexpected results.”\n",
      "leading edge analysis...\n",
      "\n",
      "done...\n",
      "\n"
     ]
    }
   ],
   "source": [
    "kegg_organism = 'cvn'\n",
    "CC_kk2 <- gseKEGG(geneList = CC_kegg_gene_list,\n",
    "               organism = kegg_organism,\n",
    "               #minGSSize = 1,\n",
    "               #maxGSSize = 800,\n",
    "               pvalueCutoff = 1,\n",
    "               pAdjustMethod = 'BH', #Benjamini-Hockberg FDR\n",
    "               scoreType = 'std', # standard - only change for one-tailed tests\n",
    "               keyType = 'kegg')"
   ]
  },
  {
   "cell_type": "code",
   "execution_count": 10,
   "id": "3b24fc14-5587-4bb6-9ba7-a2471c52c579",
   "metadata": {},
   "outputs": [
    {
     "data": {
      "text/html": [
       "<table class=\"dataframe\">\n",
       "<caption>A data.frame: 6 × 11</caption>\n",
       "<thead>\n",
       "\t<tr><th></th><th scope=col>ID</th><th scope=col>Description</th><th scope=col>setSize</th><th scope=col>enrichmentScore</th><th scope=col>NES</th><th scope=col>pvalue</th><th scope=col>p.adjust</th><th scope=col>qvalue</th><th scope=col>rank</th><th scope=col>leading_edge</th><th scope=col>core_enrichment</th></tr>\n",
       "\t<tr><th></th><th scope=col>&lt;chr&gt;</th><th scope=col>&lt;chr&gt;</th><th scope=col>&lt;int&gt;</th><th scope=col>&lt;dbl&gt;</th><th scope=col>&lt;dbl&gt;</th><th scope=col>&lt;dbl&gt;</th><th scope=col>&lt;dbl&gt;</th><th scope=col>&lt;dbl&gt;</th><th scope=col>&lt;dbl&gt;</th><th scope=col>&lt;chr&gt;</th><th scope=col>&lt;chr&gt;</th></tr>\n",
       "</thead>\n",
       "<tbody>\n",
       "\t<tr><th scope=row>cvn00592</th><td>cvn00592</td><td>alpha-Linolenic acid metabolism        </td><td>11</td><td> 0.7847989</td><td> 1.980242</td><td>0.0005798551</td><td>0.07074233</td><td>0.07019299</td><td>1855</td><td>tags=73%, list=14%, signal=63%</td><td>111113990/111115744/111127642/111136066/111123661/111107112/111115745/111136438                                                                                                                                                                          </td></tr>\n",
       "\t<tr><th scope=row>cvn00310</th><td>cvn00310</td><td>Lysine degradation                     </td><td>31</td><td>-0.5216369</td><td>-1.579220</td><td>0.0125270455</td><td>0.66371146</td><td>0.65855754</td><td>1860</td><td>tags=32%, list=14%, signal=28%</td><td>111130627/111109254/111115614/111130119/111121380/111125659/111107127/111110608/111112920/111128625                                                                                                                                                      </td></tr>\n",
       "\t<tr><th scope=row>cvn00591</th><td>cvn00591</td><td>Linoleic acid metabolism               </td><td>11</td><td> 0.6158160</td><td> 1.553857</td><td>0.0342321447</td><td>0.66371146</td><td>0.65855754</td><td>3475</td><td>tags=55%, list=26%, signal=41%</td><td>111127642/111123661/111127589/111127588/111121119/111111230                                                                                                                                                                                              </td></tr>\n",
       "\t<tr><th scope=row>cvn01040</th><td>cvn01040</td><td>Biosynthesis of unsaturated fatty acids</td><td>18</td><td> 0.5444173</td><td> 1.549269</td><td>0.0345683297</td><td>0.66371146</td><td>0.65855754</td><td>2069</td><td>tags=44%, list=15%, signal=38%</td><td>111113990/111115744/111129730/111136066/111107112/111115745/111136438/111131209                                                                                                                                                                          </td></tr>\n",
       "\t<tr><th scope=row>cvn03008</th><td>cvn03008</td><td>Ribosome biogenesis in eukaryotes      </td><td>57</td><td>-0.4211890</td><td>-1.421319</td><td>0.0358166189</td><td>0.66371146</td><td>0.65855754</td><td>3013</td><td>tags=39%, list=22%, signal=30%</td><td>111103436/111122686/111102690/111134591/111123620/111119396/111128896/111123381/111112561/111102803/111105066/111110086/111119458/111125104/111128153/111121480/111132055/111119695/111128265/111120056/111128132/111133163                              </td></tr>\n",
       "\t<tr><th scope=row>cvn04068</th><td>cvn04068</td><td>FoxO signaling pathway                 </td><td>66</td><td>-0.4086433</td><td>-1.410737</td><td>0.0380818054</td><td>0.66371146</td><td>0.65855754</td><td>2298</td><td>tags=38%, list=17%, signal=32%</td><td>111128693/111125223/111121739/111121135/111134642/111118834/111131500/111112841/111126185/111103474/111119108/111130138/111105462/111121839/111107163/111120632/111113171/111134713/111102390/111119905/111121740/111120947/111112940/111128744/111104196</td></tr>\n",
       "</tbody>\n",
       "</table>\n"
      ],
      "text/latex": [
       "A data.frame: 6 × 11\n",
       "\\begin{tabular}{r|lllllllllll}\n",
       "  & ID & Description & setSize & enrichmentScore & NES & pvalue & p.adjust & qvalue & rank & leading\\_edge & core\\_enrichment\\\\\n",
       "  & <chr> & <chr> & <int> & <dbl> & <dbl> & <dbl> & <dbl> & <dbl> & <dbl> & <chr> & <chr>\\\\\n",
       "\\hline\n",
       "\tcvn00592 & cvn00592 & alpha-Linolenic acid metabolism         & 11 &  0.7847989 &  1.980242 & 0.0005798551 & 0.07074233 & 0.07019299 & 1855 & tags=73\\%, list=14\\%, signal=63\\% & 111113990/111115744/111127642/111136066/111123661/111107112/111115745/111136438                                                                                                                                                                          \\\\\n",
       "\tcvn00310 & cvn00310 & Lysine degradation                      & 31 & -0.5216369 & -1.579220 & 0.0125270455 & 0.66371146 & 0.65855754 & 1860 & tags=32\\%, list=14\\%, signal=28\\% & 111130627/111109254/111115614/111130119/111121380/111125659/111107127/111110608/111112920/111128625                                                                                                                                                      \\\\\n",
       "\tcvn00591 & cvn00591 & Linoleic acid metabolism                & 11 &  0.6158160 &  1.553857 & 0.0342321447 & 0.66371146 & 0.65855754 & 3475 & tags=55\\%, list=26\\%, signal=41\\% & 111127642/111123661/111127589/111127588/111121119/111111230                                                                                                                                                                                              \\\\\n",
       "\tcvn01040 & cvn01040 & Biosynthesis of unsaturated fatty acids & 18 &  0.5444173 &  1.549269 & 0.0345683297 & 0.66371146 & 0.65855754 & 2069 & tags=44\\%, list=15\\%, signal=38\\% & 111113990/111115744/111129730/111136066/111107112/111115745/111136438/111131209                                                                                                                                                                          \\\\\n",
       "\tcvn03008 & cvn03008 & Ribosome biogenesis in eukaryotes       & 57 & -0.4211890 & -1.421319 & 0.0358166189 & 0.66371146 & 0.65855754 & 3013 & tags=39\\%, list=22\\%, signal=30\\% & 111103436/111122686/111102690/111134591/111123620/111119396/111128896/111123381/111112561/111102803/111105066/111110086/111119458/111125104/111128153/111121480/111132055/111119695/111128265/111120056/111128132/111133163                              \\\\\n",
       "\tcvn04068 & cvn04068 & FoxO signaling pathway                  & 66 & -0.4086433 & -1.410737 & 0.0380818054 & 0.66371146 & 0.65855754 & 2298 & tags=38\\%, list=17\\%, signal=32\\% & 111128693/111125223/111121739/111121135/111134642/111118834/111131500/111112841/111126185/111103474/111119108/111130138/111105462/111121839/111107163/111120632/111113171/111134713/111102390/111119905/111121740/111120947/111112940/111128744/111104196\\\\\n",
       "\\end{tabular}\n"
      ],
      "text/markdown": [
       "\n",
       "A data.frame: 6 × 11\n",
       "\n",
       "| <!--/--> | ID &lt;chr&gt; | Description &lt;chr&gt; | setSize &lt;int&gt; | enrichmentScore &lt;dbl&gt; | NES &lt;dbl&gt; | pvalue &lt;dbl&gt; | p.adjust &lt;dbl&gt; | qvalue &lt;dbl&gt; | rank &lt;dbl&gt; | leading_edge &lt;chr&gt; | core_enrichment &lt;chr&gt; |\n",
       "|---|---|---|---|---|---|---|---|---|---|---|---|\n",
       "| cvn00592 | cvn00592 | alpha-Linolenic acid metabolism         | 11 |  0.7847989 |  1.980242 | 0.0005798551 | 0.07074233 | 0.07019299 | 1855 | tags=73%, list=14%, signal=63% | 111113990/111115744/111127642/111136066/111123661/111107112/111115745/111136438                                                                                                                                                                           |\n",
       "| cvn00310 | cvn00310 | Lysine degradation                      | 31 | -0.5216369 | -1.579220 | 0.0125270455 | 0.66371146 | 0.65855754 | 1860 | tags=32%, list=14%, signal=28% | 111130627/111109254/111115614/111130119/111121380/111125659/111107127/111110608/111112920/111128625                                                                                                                                                       |\n",
       "| cvn00591 | cvn00591 | Linoleic acid metabolism                | 11 |  0.6158160 |  1.553857 | 0.0342321447 | 0.66371146 | 0.65855754 | 3475 | tags=55%, list=26%, signal=41% | 111127642/111123661/111127589/111127588/111121119/111111230                                                                                                                                                                                               |\n",
       "| cvn01040 | cvn01040 | Biosynthesis of unsaturated fatty acids | 18 |  0.5444173 |  1.549269 | 0.0345683297 | 0.66371146 | 0.65855754 | 2069 | tags=44%, list=15%, signal=38% | 111113990/111115744/111129730/111136066/111107112/111115745/111136438/111131209                                                                                                                                                                           |\n",
       "| cvn03008 | cvn03008 | Ribosome biogenesis in eukaryotes       | 57 | -0.4211890 | -1.421319 | 0.0358166189 | 0.66371146 | 0.65855754 | 3013 | tags=39%, list=22%, signal=30% | 111103436/111122686/111102690/111134591/111123620/111119396/111128896/111123381/111112561/111102803/111105066/111110086/111119458/111125104/111128153/111121480/111132055/111119695/111128265/111120056/111128132/111133163                               |\n",
       "| cvn04068 | cvn04068 | FoxO signaling pathway                  | 66 | -0.4086433 | -1.410737 | 0.0380818054 | 0.66371146 | 0.65855754 | 2298 | tags=38%, list=17%, signal=32% | 111128693/111125223/111121739/111121135/111134642/111118834/111131500/111112841/111126185/111103474/111119108/111130138/111105462/111121839/111107163/111120632/111113171/111134713/111102390/111119905/111121740/111120947/111112940/111128744/111104196 |\n",
       "\n"
      ],
      "text/plain": [
       "         ID       Description                             setSize\n",
       "cvn00592 cvn00592 alpha-Linolenic acid metabolism         11     \n",
       "cvn00310 cvn00310 Lysine degradation                      31     \n",
       "cvn00591 cvn00591 Linoleic acid metabolism                11     \n",
       "cvn01040 cvn01040 Biosynthesis of unsaturated fatty acids 18     \n",
       "cvn03008 cvn03008 Ribosome biogenesis in eukaryotes       57     \n",
       "cvn04068 cvn04068 FoxO signaling pathway                  66     \n",
       "         enrichmentScore NES       pvalue       p.adjust   qvalue     rank\n",
       "cvn00592  0.7847989       1.980242 0.0005798551 0.07074233 0.07019299 1855\n",
       "cvn00310 -0.5216369      -1.579220 0.0125270455 0.66371146 0.65855754 1860\n",
       "cvn00591  0.6158160       1.553857 0.0342321447 0.66371146 0.65855754 3475\n",
       "cvn01040  0.5444173       1.549269 0.0345683297 0.66371146 0.65855754 2069\n",
       "cvn03008 -0.4211890      -1.421319 0.0358166189 0.66371146 0.65855754 3013\n",
       "cvn04068 -0.4086433      -1.410737 0.0380818054 0.66371146 0.65855754 2298\n",
       "         leading_edge                  \n",
       "cvn00592 tags=73%, list=14%, signal=63%\n",
       "cvn00310 tags=32%, list=14%, signal=28%\n",
       "cvn00591 tags=55%, list=26%, signal=41%\n",
       "cvn01040 tags=44%, list=15%, signal=38%\n",
       "cvn03008 tags=39%, list=22%, signal=30%\n",
       "cvn04068 tags=38%, list=17%, signal=32%\n",
       "         core_enrichment                                                                                                                                                                                                                                          \n",
       "cvn00592 111113990/111115744/111127642/111136066/111123661/111107112/111115745/111136438                                                                                                                                                                          \n",
       "cvn00310 111130627/111109254/111115614/111130119/111121380/111125659/111107127/111110608/111112920/111128625                                                                                                                                                      \n",
       "cvn00591 111127642/111123661/111127589/111127588/111121119/111111230                                                                                                                                                                                              \n",
       "cvn01040 111113990/111115744/111129730/111136066/111107112/111115745/111136438/111131209                                                                                                                                                                          \n",
       "cvn03008 111103436/111122686/111102690/111134591/111123620/111119396/111128896/111123381/111112561/111102803/111105066/111110086/111119458/111125104/111128153/111121480/111132055/111119695/111128265/111120056/111128132/111133163                              \n",
       "cvn04068 111128693/111125223/111121739/111121135/111134642/111118834/111131500/111112841/111126185/111103474/111119108/111130138/111105462/111121839/111107163/111120632/111113171/111134713/111102390/111119905/111121740/111120947/111112940/111128744/111104196"
      ]
     },
     "metadata": {},
     "output_type": "display_data"
    }
   ],
   "source": [
    "CC_kk2_df <- as.data.frame(CC_kk2)\n",
    "CC_kk2_df$Description <- sub(\" -.*\", \"\", CC_kk2_df$Description)\n",
    "head(CC_kk2_df)"
   ]
  }
 ],
 "metadata": {
  "kernelspec": {
   "display_name": "R [conda env:.conda-r-env]",
   "language": "R",
   "name": "conda-env-.conda-r-env-r"
  },
  "language_info": {
   "codemirror_mode": "r",
   "file_extension": ".r",
   "mimetype": "text/x-r-source",
   "name": "R",
   "pygments_lexer": "r",
   "version": "4.3.2"
  }
 },
 "nbformat": 4,
 "nbformat_minor": 5
}
