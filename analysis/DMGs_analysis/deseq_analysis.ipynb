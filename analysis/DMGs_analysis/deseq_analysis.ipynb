{
 "cells": [
  {
   "cell_type": "markdown",
   "id": "b0b547d6-3218-471c-ba7d-7f730ef83b1b",
   "metadata": {},
   "source": [
    "# DESeq2 analysis with featureCounts meta counts matrix\n",
    "\n",
    "using the counts matrix generated from featureCounts that counted number of methylated sequences for a meta feature\n",
    "\n",
    "volcano plots are generated with ggplot in volcano_plots.ipynb file"
   ]
  },
  {
   "cell_type": "code",
   "execution_count": 1,
   "id": "57e0c59c-42b5-42bb-b547-63df87d6ccb5",
   "metadata": {},
   "outputs": [
    {
     "name": "stderr",
     "output_type": "stream",
     "text": [
      "── \u001b[1mAttaching core tidyverse packages\u001b[22m ──────────────────────── tidyverse 2.0.0 ──\n",
      "\u001b[32m✔\u001b[39m \u001b[34mdplyr    \u001b[39m 1.1.4     \u001b[32m✔\u001b[39m \u001b[34mreadr    \u001b[39m 2.1.4\n",
      "\u001b[32m✔\u001b[39m \u001b[34mforcats  \u001b[39m 1.0.0     \u001b[32m✔\u001b[39m \u001b[34mstringr  \u001b[39m 1.5.1\n",
      "\u001b[32m✔\u001b[39m \u001b[34mggplot2  \u001b[39m 3.5.1     \u001b[32m✔\u001b[39m \u001b[34mtibble   \u001b[39m 3.2.1\n",
      "\u001b[32m✔\u001b[39m \u001b[34mlubridate\u001b[39m 1.9.3     \u001b[32m✔\u001b[39m \u001b[34mtidyr    \u001b[39m 1.3.0\n",
      "\u001b[32m✔\u001b[39m \u001b[34mpurrr    \u001b[39m 1.0.2     \n",
      "── \u001b[1mConflicts\u001b[22m ────────────────────────────────────────── tidyverse_conflicts() ──\n",
      "\u001b[31m✖\u001b[39m \u001b[34mdplyr\u001b[39m::\u001b[32mfilter()\u001b[39m masks \u001b[34mstats\u001b[39m::filter()\n",
      "\u001b[31m✖\u001b[39m \u001b[34mdplyr\u001b[39m::\u001b[32mlag()\u001b[39m    masks \u001b[34mstats\u001b[39m::lag()\n",
      "\u001b[36mℹ\u001b[39m Use the conflicted package (\u001b[3m\u001b[34m<http://conflicted.r-lib.org/>\u001b[39m\u001b[23m) to force all conflicts to become errors\n",
      "Loading required package: S4Vectors\n",
      "\n",
      "Loading required package: stats4\n",
      "\n",
      "Loading required package: BiocGenerics\n",
      "\n",
      "\n",
      "Attaching package: ‘BiocGenerics’\n",
      "\n",
      "\n",
      "The following objects are masked from ‘package:lubridate’:\n",
      "\n",
      "    intersect, setdiff, union\n",
      "\n",
      "\n",
      "The following objects are masked from ‘package:dplyr’:\n",
      "\n",
      "    combine, intersect, setdiff, union\n",
      "\n",
      "\n",
      "The following objects are masked from ‘package:stats’:\n",
      "\n",
      "    IQR, mad, sd, var, xtabs\n",
      "\n",
      "\n",
      "The following objects are masked from ‘package:base’:\n",
      "\n",
      "    anyDuplicated, aperm, append, as.data.frame, basename, cbind,\n",
      "    colnames, dirname, do.call, duplicated, eval, evalq, Filter, Find,\n",
      "    get, grep, grepl, intersect, is.unsorted, lapply, Map, mapply,\n",
      "    match, mget, order, paste, pmax, pmax.int, pmin, pmin.int,\n",
      "    Position, rank, rbind, Reduce, rownames, sapply, setdiff, sort,\n",
      "    table, tapply, union, unique, unsplit, which.max, which.min\n",
      "\n",
      "\n",
      "\n",
      "Attaching package: ‘S4Vectors’\n",
      "\n",
      "\n",
      "The following objects are masked from ‘package:lubridate’:\n",
      "\n",
      "    second, second<-\n",
      "\n",
      "\n",
      "The following objects are masked from ‘package:dplyr’:\n",
      "\n",
      "    first, rename\n",
      "\n",
      "\n",
      "The following object is masked from ‘package:tidyr’:\n",
      "\n",
      "    expand\n",
      "\n",
      "\n",
      "The following object is masked from ‘package:utils’:\n",
      "\n",
      "    findMatches\n",
      "\n",
      "\n",
      "The following objects are masked from ‘package:base’:\n",
      "\n",
      "    expand.grid, I, unname\n",
      "\n",
      "\n",
      "Loading required package: IRanges\n",
      "\n",
      "\n",
      "Attaching package: ‘IRanges’\n",
      "\n",
      "\n",
      "The following object is masked from ‘package:lubridate’:\n",
      "\n",
      "    %within%\n",
      "\n",
      "\n",
      "The following objects are masked from ‘package:dplyr’:\n",
      "\n",
      "    collapse, desc, slice\n",
      "\n",
      "\n",
      "The following object is masked from ‘package:purrr’:\n",
      "\n",
      "    reduce\n",
      "\n",
      "\n",
      "Loading required package: GenomicRanges\n",
      "\n",
      "Loading required package: GenomeInfoDb\n",
      "\n",
      "Loading required package: SummarizedExperiment\n",
      "\n",
      "Loading required package: MatrixGenerics\n",
      "\n",
      "Loading required package: matrixStats\n",
      "\n",
      "\n",
      "Attaching package: ‘matrixStats’\n",
      "\n",
      "\n",
      "The following object is masked from ‘package:dplyr’:\n",
      "\n",
      "    count\n",
      "\n",
      "\n",
      "\n",
      "Attaching package: ‘MatrixGenerics’\n",
      "\n",
      "\n",
      "The following objects are masked from ‘package:matrixStats’:\n",
      "\n",
      "    colAlls, colAnyNAs, colAnys, colAvgsPerRowSet, colCollapse,\n",
      "    colCounts, colCummaxs, colCummins, colCumprods, colCumsums,\n",
      "    colDiffs, colIQRDiffs, colIQRs, colLogSumExps, colMadDiffs,\n",
      "    colMads, colMaxs, colMeans2, colMedians, colMins, colOrderStats,\n",
      "    colProds, colQuantiles, colRanges, colRanks, colSdDiffs, colSds,\n",
      "    colSums2, colTabulates, colVarDiffs, colVars, colWeightedMads,\n",
      "    colWeightedMeans, colWeightedMedians, colWeightedSds,\n",
      "    colWeightedVars, rowAlls, rowAnyNAs, rowAnys, rowAvgsPerColSet,\n",
      "    rowCollapse, rowCounts, rowCummaxs, rowCummins, rowCumprods,\n",
      "    rowCumsums, rowDiffs, rowIQRDiffs, rowIQRs, rowLogSumExps,\n",
      "    rowMadDiffs, rowMads, rowMaxs, rowMeans2, rowMedians, rowMins,\n",
      "    rowOrderStats, rowProds, rowQuantiles, rowRanges, rowRanks,\n",
      "    rowSdDiffs, rowSds, rowSums2, rowTabulates, rowVarDiffs, rowVars,\n",
      "    rowWeightedMads, rowWeightedMeans, rowWeightedMedians,\n",
      "    rowWeightedSds, rowWeightedVars\n",
      "\n",
      "\n",
      "Loading required package: Biobase\n",
      "\n",
      "Welcome to Bioconductor\n",
      "\n",
      "    Vignettes contain introductory material; view with\n",
      "    'browseVignettes()'. To cite Bioconductor, see\n",
      "    'citation(\"Biobase\")', and for packages 'citation(\"pkgname\")'.\n",
      "\n",
      "\n",
      "\n",
      "Attaching package: ‘Biobase’\n",
      "\n",
      "\n",
      "The following object is masked from ‘package:MatrixGenerics’:\n",
      "\n",
      "    rowMedians\n",
      "\n",
      "\n",
      "The following objects are masked from ‘package:matrixStats’:\n",
      "\n",
      "    anyMissing, rowMedians\n",
      "\n",
      "\n",
      "Loading required package: ggrepel\n",
      "\n"
     ]
    }
   ],
   "source": [
    "# loading required packages\n",
    "library(tidyverse)\n",
    "library(DESeq2)\n",
    "library(EnhancedVolcano)\n",
    "library(dplyr)\n",
    "library(ggh4x)"
   ]
  },
  {
   "cell_type": "markdown",
   "id": "967ec9af-49ce-4e09-8202-73699f208e65",
   "metadata": {},
   "source": [
    "## I. Load and clean data frames\n",
    "this includes the featureCounts matrix of meta features and the meta data of the samples (which includes the phase treatment info)\n",
    "\n",
    "**counts matrix generated from featureCounts (meta features)**"
   ]
  },
  {
   "cell_type": "code",
   "execution_count": 2,
   "id": "f2e891d2-272b-4cd6-8924-f687c03cde46",
   "metadata": {},
   "outputs": [
    {
     "data": {
      "text/html": [
       "<style>\n",
       ".list-inline {list-style: none; margin:0; padding: 0}\n",
       ".list-inline>li {display: inline-block}\n",
       ".list-inline>li:not(:last-child)::after {content: \"\\00b7\"; padding: 0 .5ex}\n",
       "</style>\n",
       "<ol class=list-inline><li>38828</li><li>31</li></ol>\n"
      ],
      "text/latex": [
       "\\begin{enumerate*}\n",
       "\\item 38828\n",
       "\\item 31\n",
       "\\end{enumerate*}\n"
      ],
      "text/markdown": [
       "1. 38828\n",
       "2. 31\n",
       "\n",
       "\n"
      ],
      "text/plain": [
       "[1] 38828    31"
      ]
     },
     "metadata": {},
     "output_type": "display_data"
    },
    {
     "data": {
      "text/html": [
       "<table class=\"dataframe\">\n",
       "<caption>A data.frame: 6 × 31</caption>\n",
       "<thead>\n",
       "\t<tr><th></th><th scope=col>GeneID</th><th scope=col>X2018..BBB.WBO.B21.CV_alignment.sam</th><th scope=col>X2018..BPO.BPO.O16.CV_alignment.sam</th><th scope=col>X2018..WBR.BBY.W25.CV_alignment.sam</th><th scope=col>X2018..BBB.WBV.B70.CV_alignment.sam</th><th scope=col>X2018..BPR.BPG.O38.CV_alignment.sam</th><th scope=col>X2018..WBV.WBO.W23.CV_alignment.sam</th><th scope=col>X2018..BBO.BBO.B16.CV_alignment.sam</th><th scope=col>X2018..BPR.BPR.O02.CV_alignment.sam</th><th scope=col>X2018..WBV.WBR.W12.CV_alignment.sam</th><th scope=col>⋯</th><th scope=col>X2018..WPO.BPO.G16.CV_alignment.sam</th><th scope=col>X2018..BBR.BBG.B38.CV_alignment.sam</th><th scope=col>X2018..WBG.WBG.W44.CV_alignment.sam</th><th scope=col>X2018..WPO.BPY.G28.CV_alignment.sam</th><th scope=col>X2018..BBR.BBY.B26.CV_alignment.sam</th><th scope=col>X2018..WBO.BBR.W03.CV_alignment.sam</th><th scope=col>X2018..WPR.BPY.G25.CV_alignment.sam</th><th scope=col>X2018..BBY.WBG.B42.CV_alignment.sam</th><th scope=col>X2018..WBO.WBV.W64.CV_alignment.sam</th><th scope=col>X2018..WPV.BPR.G11.CV_alignment.sam</th></tr>\n",
       "\t<tr><th></th><th scope=col>&lt;chr&gt;</th><th scope=col>&lt;int&gt;</th><th scope=col>&lt;int&gt;</th><th scope=col>&lt;int&gt;</th><th scope=col>&lt;int&gt;</th><th scope=col>&lt;int&gt;</th><th scope=col>&lt;int&gt;</th><th scope=col>&lt;int&gt;</th><th scope=col>&lt;int&gt;</th><th scope=col>&lt;int&gt;</th><th scope=col>⋯</th><th scope=col>&lt;int&gt;</th><th scope=col>&lt;int&gt;</th><th scope=col>&lt;int&gt;</th><th scope=col>&lt;int&gt;</th><th scope=col>&lt;int&gt;</th><th scope=col>&lt;int&gt;</th><th scope=col>&lt;int&gt;</th><th scope=col>&lt;int&gt;</th><th scope=col>&lt;int&gt;</th><th scope=col>&lt;int&gt;</th></tr>\n",
       "</thead>\n",
       "<tbody>\n",
       "\t<tr><th scope=row>1</th><td>LOC111116054</td><td>0</td><td>0</td><td>0</td><td>0</td><td>0</td><td>0</td><td>0</td><td>0</td><td>0</td><td>⋯</td><td>0</td><td>0</td><td>0</td><td>0</td><td>1</td><td>0</td><td>0</td><td>0</td><td>0</td><td>0</td></tr>\n",
       "\t<tr><th scope=row>2</th><td>LOC111126949</td><td>0</td><td>0</td><td>0</td><td>0</td><td>0</td><td>0</td><td>0</td><td>0</td><td>0</td><td>⋯</td><td>0</td><td>0</td><td>0</td><td>0</td><td>0</td><td>0</td><td>0</td><td>0</td><td>0</td><td>0</td></tr>\n",
       "\t<tr><th scope=row>3</th><td>LOC111110729</td><td>0</td><td>0</td><td>0</td><td>0</td><td>0</td><td>0</td><td>0</td><td>0</td><td>0</td><td>⋯</td><td>0</td><td>0</td><td>0</td><td>0</td><td>0</td><td>0</td><td>0</td><td>0</td><td>0</td><td>0</td></tr>\n",
       "\t<tr><th scope=row>4</th><td>LOC111112434</td><td>0</td><td>0</td><td>0</td><td>0</td><td>0</td><td>0</td><td>0</td><td>2</td><td>0</td><td>⋯</td><td>0</td><td>0</td><td>0</td><td>0</td><td>0</td><td>0</td><td>0</td><td>0</td><td>0</td><td>0</td></tr>\n",
       "\t<tr><th scope=row>5</th><td>LOC111120752</td><td>2</td><td>1</td><td>0</td><td>2</td><td>0</td><td>0</td><td>0</td><td>2</td><td>0</td><td>⋯</td><td>0</td><td>0</td><td>0</td><td>1</td><td>1</td><td>0</td><td>1</td><td>0</td><td>1</td><td>0</td></tr>\n",
       "\t<tr><th scope=row>6</th><td>LOC111128944</td><td>0</td><td>0</td><td>0</td><td>0</td><td>0</td><td>0</td><td>0</td><td>0</td><td>0</td><td>⋯</td><td>0</td><td>0</td><td>0</td><td>0</td><td>0</td><td>0</td><td>0</td><td>0</td><td>0</td><td>0</td></tr>\n",
       "</tbody>\n",
       "</table>\n"
      ],
      "text/latex": [
       "A data.frame: 6 × 31\n",
       "\\begin{tabular}{r|lllllllllllllllllllll}\n",
       "  & GeneID & X2018..BBB.WBO.B21.CV\\_alignment.sam & X2018..BPO.BPO.O16.CV\\_alignment.sam & X2018..WBR.BBY.W25.CV\\_alignment.sam & X2018..BBB.WBV.B70.CV\\_alignment.sam & X2018..BPR.BPG.O38.CV\\_alignment.sam & X2018..WBV.WBO.W23.CV\\_alignment.sam & X2018..BBO.BBO.B16.CV\\_alignment.sam & X2018..BPR.BPR.O02.CV\\_alignment.sam & X2018..WBV.WBR.W12.CV\\_alignment.sam & ⋯ & X2018..WPO.BPO.G16.CV\\_alignment.sam & X2018..BBR.BBG.B38.CV\\_alignment.sam & X2018..WBG.WBG.W44.CV\\_alignment.sam & X2018..WPO.BPY.G28.CV\\_alignment.sam & X2018..BBR.BBY.B26.CV\\_alignment.sam & X2018..WBO.BBR.W03.CV\\_alignment.sam & X2018..WPR.BPY.G25.CV\\_alignment.sam & X2018..BBY.WBG.B42.CV\\_alignment.sam & X2018..WBO.WBV.W64.CV\\_alignment.sam & X2018..WPV.BPR.G11.CV\\_alignment.sam\\\\\n",
       "  & <chr> & <int> & <int> & <int> & <int> & <int> & <int> & <int> & <int> & <int> & ⋯ & <int> & <int> & <int> & <int> & <int> & <int> & <int> & <int> & <int> & <int>\\\\\n",
       "\\hline\n",
       "\t1 & LOC111116054 & 0 & 0 & 0 & 0 & 0 & 0 & 0 & 0 & 0 & ⋯ & 0 & 0 & 0 & 0 & 1 & 0 & 0 & 0 & 0 & 0\\\\\n",
       "\t2 & LOC111126949 & 0 & 0 & 0 & 0 & 0 & 0 & 0 & 0 & 0 & ⋯ & 0 & 0 & 0 & 0 & 0 & 0 & 0 & 0 & 0 & 0\\\\\n",
       "\t3 & LOC111110729 & 0 & 0 & 0 & 0 & 0 & 0 & 0 & 0 & 0 & ⋯ & 0 & 0 & 0 & 0 & 0 & 0 & 0 & 0 & 0 & 0\\\\\n",
       "\t4 & LOC111112434 & 0 & 0 & 0 & 0 & 0 & 0 & 0 & 2 & 0 & ⋯ & 0 & 0 & 0 & 0 & 0 & 0 & 0 & 0 & 0 & 0\\\\\n",
       "\t5 & LOC111120752 & 2 & 1 & 0 & 2 & 0 & 0 & 0 & 2 & 0 & ⋯ & 0 & 0 & 0 & 1 & 1 & 0 & 1 & 0 & 1 & 0\\\\\n",
       "\t6 & LOC111128944 & 0 & 0 & 0 & 0 & 0 & 0 & 0 & 0 & 0 & ⋯ & 0 & 0 & 0 & 0 & 0 & 0 & 0 & 0 & 0 & 0\\\\\n",
       "\\end{tabular}\n"
      ],
      "text/markdown": [
       "\n",
       "A data.frame: 6 × 31\n",
       "\n",
       "| <!--/--> | GeneID &lt;chr&gt; | X2018..BBB.WBO.B21.CV_alignment.sam &lt;int&gt; | X2018..BPO.BPO.O16.CV_alignment.sam &lt;int&gt; | X2018..WBR.BBY.W25.CV_alignment.sam &lt;int&gt; | X2018..BBB.WBV.B70.CV_alignment.sam &lt;int&gt; | X2018..BPR.BPG.O38.CV_alignment.sam &lt;int&gt; | X2018..WBV.WBO.W23.CV_alignment.sam &lt;int&gt; | X2018..BBO.BBO.B16.CV_alignment.sam &lt;int&gt; | X2018..BPR.BPR.O02.CV_alignment.sam &lt;int&gt; | X2018..WBV.WBR.W12.CV_alignment.sam &lt;int&gt; | ⋯ ⋯ | X2018..WPO.BPO.G16.CV_alignment.sam &lt;int&gt; | X2018..BBR.BBG.B38.CV_alignment.sam &lt;int&gt; | X2018..WBG.WBG.W44.CV_alignment.sam &lt;int&gt; | X2018..WPO.BPY.G28.CV_alignment.sam &lt;int&gt; | X2018..BBR.BBY.B26.CV_alignment.sam &lt;int&gt; | X2018..WBO.BBR.W03.CV_alignment.sam &lt;int&gt; | X2018..WPR.BPY.G25.CV_alignment.sam &lt;int&gt; | X2018..BBY.WBG.B42.CV_alignment.sam &lt;int&gt; | X2018..WBO.WBV.W64.CV_alignment.sam &lt;int&gt; | X2018..WPV.BPR.G11.CV_alignment.sam &lt;int&gt; |\n",
       "|---|---|---|---|---|---|---|---|---|---|---|---|---|---|---|---|---|---|---|---|---|---|\n",
       "| 1 | LOC111116054 | 0 | 0 | 0 | 0 | 0 | 0 | 0 | 0 | 0 | ⋯ | 0 | 0 | 0 | 0 | 1 | 0 | 0 | 0 | 0 | 0 |\n",
       "| 2 | LOC111126949 | 0 | 0 | 0 | 0 | 0 | 0 | 0 | 0 | 0 | ⋯ | 0 | 0 | 0 | 0 | 0 | 0 | 0 | 0 | 0 | 0 |\n",
       "| 3 | LOC111110729 | 0 | 0 | 0 | 0 | 0 | 0 | 0 | 0 | 0 | ⋯ | 0 | 0 | 0 | 0 | 0 | 0 | 0 | 0 | 0 | 0 |\n",
       "| 4 | LOC111112434 | 0 | 0 | 0 | 0 | 0 | 0 | 0 | 2 | 0 | ⋯ | 0 | 0 | 0 | 0 | 0 | 0 | 0 | 0 | 0 | 0 |\n",
       "| 5 | LOC111120752 | 2 | 1 | 0 | 2 | 0 | 0 | 0 | 2 | 0 | ⋯ | 0 | 0 | 0 | 1 | 1 | 0 | 1 | 0 | 1 | 0 |\n",
       "| 6 | LOC111128944 | 0 | 0 | 0 | 0 | 0 | 0 | 0 | 0 | 0 | ⋯ | 0 | 0 | 0 | 0 | 0 | 0 | 0 | 0 | 0 | 0 |\n",
       "\n"
      ],
      "text/plain": [
       "  GeneID       X2018..BBB.WBO.B21.CV_alignment.sam\n",
       "1 LOC111116054 0                                  \n",
       "2 LOC111126949 0                                  \n",
       "3 LOC111110729 0                                  \n",
       "4 LOC111112434 0                                  \n",
       "5 LOC111120752 2                                  \n",
       "6 LOC111128944 0                                  \n",
       "  X2018..BPO.BPO.O16.CV_alignment.sam X2018..WBR.BBY.W25.CV_alignment.sam\n",
       "1 0                                   0                                  \n",
       "2 0                                   0                                  \n",
       "3 0                                   0                                  \n",
       "4 0                                   0                                  \n",
       "5 1                                   0                                  \n",
       "6 0                                   0                                  \n",
       "  X2018..BBB.WBV.B70.CV_alignment.sam X2018..BPR.BPG.O38.CV_alignment.sam\n",
       "1 0                                   0                                  \n",
       "2 0                                   0                                  \n",
       "3 0                                   0                                  \n",
       "4 0                                   0                                  \n",
       "5 2                                   0                                  \n",
       "6 0                                   0                                  \n",
       "  X2018..WBV.WBO.W23.CV_alignment.sam X2018..BBO.BBO.B16.CV_alignment.sam\n",
       "1 0                                   0                                  \n",
       "2 0                                   0                                  \n",
       "3 0                                   0                                  \n",
       "4 0                                   0                                  \n",
       "5 0                                   0                                  \n",
       "6 0                                   0                                  \n",
       "  X2018..BPR.BPR.O02.CV_alignment.sam X2018..WBV.WBR.W12.CV_alignment.sam ⋯\n",
       "1 0                                   0                                   ⋯\n",
       "2 0                                   0                                   ⋯\n",
       "3 0                                   0                                   ⋯\n",
       "4 2                                   0                                   ⋯\n",
       "5 2                                   0                                   ⋯\n",
       "6 0                                   0                                   ⋯\n",
       "  X2018..WPO.BPO.G16.CV_alignment.sam X2018..BBR.BBG.B38.CV_alignment.sam\n",
       "1 0                                   0                                  \n",
       "2 0                                   0                                  \n",
       "3 0                                   0                                  \n",
       "4 0                                   0                                  \n",
       "5 0                                   0                                  \n",
       "6 0                                   0                                  \n",
       "  X2018..WBG.WBG.W44.CV_alignment.sam X2018..WPO.BPY.G28.CV_alignment.sam\n",
       "1 0                                   0                                  \n",
       "2 0                                   0                                  \n",
       "3 0                                   0                                  \n",
       "4 0                                   0                                  \n",
       "5 0                                   1                                  \n",
       "6 0                                   0                                  \n",
       "  X2018..BBR.BBY.B26.CV_alignment.sam X2018..WBO.BBR.W03.CV_alignment.sam\n",
       "1 1                                   0                                  \n",
       "2 0                                   0                                  \n",
       "3 0                                   0                                  \n",
       "4 0                                   0                                  \n",
       "5 1                                   0                                  \n",
       "6 0                                   0                                  \n",
       "  X2018..WPR.BPY.G25.CV_alignment.sam X2018..BBY.WBG.B42.CV_alignment.sam\n",
       "1 0                                   0                                  \n",
       "2 0                                   0                                  \n",
       "3 0                                   0                                  \n",
       "4 0                                   0                                  \n",
       "5 1                                   0                                  \n",
       "6 0                                   0                                  \n",
       "  X2018..WBO.WBV.W64.CV_alignment.sam X2018..WPV.BPR.G11.CV_alignment.sam\n",
       "1 0                                   0                                  \n",
       "2 0                                   0                                  \n",
       "3 0                                   0                                  \n",
       "4 0                                   0                                  \n",
       "5 1                                   0                                  \n",
       "6 0                                   0                                  "
      ]
     },
     "metadata": {},
     "output_type": "display_data"
    }
   ],
   "source": [
    "# loading counts matrix\n",
    "counts <- read.table('/project/pi_sarah_gignouxwolfsohn_uml_edu/julia/CE_methyl_assembly/assembly_pipeline_files/sam_files/fc_counts.txt', header=TRUE)\n",
    "\n",
    "# removing the length column\n",
    "counts <- counts[,-2]\n",
    "\n",
    "dim(counts) # 38,828 genes total\n",
    "head(counts)"
   ]
  },
  {
   "cell_type": "code",
   "execution_count": 3,
   "id": "acc5cb5b-0f5b-4ac7-aedd-a68e76f68a15",
   "metadata": {},
   "outputs": [
    {
     "data": {
      "text/html": [
       "<style>\n",
       ".list-inline {list-style: none; margin:0; padding: 0}\n",
       ".list-inline>li {display: inline-block}\n",
       ".list-inline>li:not(:last-child)::after {content: \"\\00b7\"; padding: 0 .5ex}\n",
       "</style>\n",
       "<ol class=list-inline><li>'GeneID'</li><li>'BBB.WBO.B21'</li><li>'BPO.BPO.O16'</li><li>'WBR.BBY.W25'</li><li>'BBB.WBV.B70'</li><li>'BPR.BPG.O38'</li></ol>\n"
      ],
      "text/latex": [
       "\\begin{enumerate*}\n",
       "\\item 'GeneID'\n",
       "\\item 'BBB.WBO.B21'\n",
       "\\item 'BPO.BPO.O16'\n",
       "\\item 'WBR.BBY.W25'\n",
       "\\item 'BBB.WBV.B70'\n",
       "\\item 'BPR.BPG.O38'\n",
       "\\end{enumerate*}\n"
      ],
      "text/markdown": [
       "1. 'GeneID'\n",
       "2. 'BBB.WBO.B21'\n",
       "3. 'BPO.BPO.O16'\n",
       "4. 'WBR.BBY.W25'\n",
       "5. 'BBB.WBV.B70'\n",
       "6. 'BPR.BPG.O38'\n",
       "\n",
       "\n"
      ],
      "text/plain": [
       "[1] \"GeneID\"      \"BBB.WBO.B21\" \"BPO.BPO.O16\" \"WBR.BBY.W25\" \"BBB.WBV.B70\"\n",
       "[6] \"BPR.BPG.O38\""
      ]
     },
     "metadata": {},
     "output_type": "display_data"
    },
    {
     "data": {
      "text/html": [
       "<style>\n",
       ".list-inline {list-style: none; margin:0; padding: 0}\n",
       ".list-inline>li {display: inline-block}\n",
       ".list-inline>li:not(:last-child)::after {content: \"\\00b7\"; padding: 0 .5ex}\n",
       "</style>\n",
       "<ol class=list-inline><li>'GeneID'</li><li>'BBB-WBO-B21'</li><li>'BPO-BPO-O16'</li><li>'WBR-BBY-W25'</li><li>'BBB-WBV-B70'</li><li>'BPR-BPG-O38'</li></ol>\n"
      ],
      "text/latex": [
       "\\begin{enumerate*}\n",
       "\\item 'GeneID'\n",
       "\\item 'BBB-WBO-B21'\n",
       "\\item 'BPO-BPO-O16'\n",
       "\\item 'WBR-BBY-W25'\n",
       "\\item 'BBB-WBV-B70'\n",
       "\\item 'BPR-BPG-O38'\n",
       "\\end{enumerate*}\n"
      ],
      "text/markdown": [
       "1. 'GeneID'\n",
       "2. 'BBB-WBO-B21'\n",
       "3. 'BPO-BPO-O16'\n",
       "4. 'WBR-BBY-W25'\n",
       "5. 'BBB-WBV-B70'\n",
       "6. 'BPR-BPG-O38'\n",
       "\n",
       "\n"
      ],
      "text/plain": [
       "[1] \"GeneID\"      \"BBB-WBO-B21\" \"BPO-BPO-O16\" \"WBR-BBY-W25\" \"BBB-WBV-B70\"\n",
       "[6] \"BPR-BPG-O38\""
      ]
     },
     "metadata": {},
     "output_type": "display_data"
    },
    {
     "data": {
      "text/html": [
       "<table class=\"dataframe\">\n",
       "<caption>A data.frame: 6 × 31</caption>\n",
       "<thead>\n",
       "\t<tr><th></th><th scope=col>GeneID</th><th scope=col>BBB-WBO-B21</th><th scope=col>BPO-BPO-O16</th><th scope=col>WBR-BBY-W25</th><th scope=col>BBB-WBV-B70</th><th scope=col>BPR-BPG-O38</th><th scope=col>WBV-WBO-W23</th><th scope=col>BBO-BBO-B16</th><th scope=col>BPR-BPR-O02</th><th scope=col>WBV-WBR-W12</th><th scope=col>⋯</th><th scope=col>WPO-BPO-G16</th><th scope=col>BBR-BBG-B38</th><th scope=col>WBG-WBG-W44</th><th scope=col>WPO-BPY-G28</th><th scope=col>BBR-BBY-B26</th><th scope=col>WBO-BBR-W03</th><th scope=col>WPR-BPY-G25</th><th scope=col>BBY-WBG-B42</th><th scope=col>WBO-WBV-W64</th><th scope=col>WPV-BPR-G11</th></tr>\n",
       "\t<tr><th></th><th scope=col>&lt;chr&gt;</th><th scope=col>&lt;int&gt;</th><th scope=col>&lt;int&gt;</th><th scope=col>&lt;int&gt;</th><th scope=col>&lt;int&gt;</th><th scope=col>&lt;int&gt;</th><th scope=col>&lt;int&gt;</th><th scope=col>&lt;int&gt;</th><th scope=col>&lt;int&gt;</th><th scope=col>&lt;int&gt;</th><th scope=col>⋯</th><th scope=col>&lt;int&gt;</th><th scope=col>&lt;int&gt;</th><th scope=col>&lt;int&gt;</th><th scope=col>&lt;int&gt;</th><th scope=col>&lt;int&gt;</th><th scope=col>&lt;int&gt;</th><th scope=col>&lt;int&gt;</th><th scope=col>&lt;int&gt;</th><th scope=col>&lt;int&gt;</th><th scope=col>&lt;int&gt;</th></tr>\n",
       "</thead>\n",
       "<tbody>\n",
       "\t<tr><th scope=row>1</th><td>LOC111116054</td><td>0</td><td>0</td><td>0</td><td>0</td><td>0</td><td>0</td><td>0</td><td>0</td><td>0</td><td>⋯</td><td>0</td><td>0</td><td>0</td><td>0</td><td>1</td><td>0</td><td>0</td><td>0</td><td>0</td><td>0</td></tr>\n",
       "\t<tr><th scope=row>2</th><td>LOC111126949</td><td>0</td><td>0</td><td>0</td><td>0</td><td>0</td><td>0</td><td>0</td><td>0</td><td>0</td><td>⋯</td><td>0</td><td>0</td><td>0</td><td>0</td><td>0</td><td>0</td><td>0</td><td>0</td><td>0</td><td>0</td></tr>\n",
       "\t<tr><th scope=row>3</th><td>LOC111110729</td><td>0</td><td>0</td><td>0</td><td>0</td><td>0</td><td>0</td><td>0</td><td>0</td><td>0</td><td>⋯</td><td>0</td><td>0</td><td>0</td><td>0</td><td>0</td><td>0</td><td>0</td><td>0</td><td>0</td><td>0</td></tr>\n",
       "\t<tr><th scope=row>4</th><td>LOC111112434</td><td>0</td><td>0</td><td>0</td><td>0</td><td>0</td><td>0</td><td>0</td><td>2</td><td>0</td><td>⋯</td><td>0</td><td>0</td><td>0</td><td>0</td><td>0</td><td>0</td><td>0</td><td>0</td><td>0</td><td>0</td></tr>\n",
       "\t<tr><th scope=row>5</th><td>LOC111120752</td><td>2</td><td>1</td><td>0</td><td>2</td><td>0</td><td>0</td><td>0</td><td>2</td><td>0</td><td>⋯</td><td>0</td><td>0</td><td>0</td><td>1</td><td>1</td><td>0</td><td>1</td><td>0</td><td>1</td><td>0</td></tr>\n",
       "\t<tr><th scope=row>6</th><td>LOC111128944</td><td>0</td><td>0</td><td>0</td><td>0</td><td>0</td><td>0</td><td>0</td><td>0</td><td>0</td><td>⋯</td><td>0</td><td>0</td><td>0</td><td>0</td><td>0</td><td>0</td><td>0</td><td>0</td><td>0</td><td>0</td></tr>\n",
       "</tbody>\n",
       "</table>\n"
      ],
      "text/latex": [
       "A data.frame: 6 × 31\n",
       "\\begin{tabular}{r|lllllllllllllllllllll}\n",
       "  & GeneID & BBB-WBO-B21 & BPO-BPO-O16 & WBR-BBY-W25 & BBB-WBV-B70 & BPR-BPG-O38 & WBV-WBO-W23 & BBO-BBO-B16 & BPR-BPR-O02 & WBV-WBR-W12 & ⋯ & WPO-BPO-G16 & BBR-BBG-B38 & WBG-WBG-W44 & WPO-BPY-G28 & BBR-BBY-B26 & WBO-BBR-W03 & WPR-BPY-G25 & BBY-WBG-B42 & WBO-WBV-W64 & WPV-BPR-G11\\\\\n",
       "  & <chr> & <int> & <int> & <int> & <int> & <int> & <int> & <int> & <int> & <int> & ⋯ & <int> & <int> & <int> & <int> & <int> & <int> & <int> & <int> & <int> & <int>\\\\\n",
       "\\hline\n",
       "\t1 & LOC111116054 & 0 & 0 & 0 & 0 & 0 & 0 & 0 & 0 & 0 & ⋯ & 0 & 0 & 0 & 0 & 1 & 0 & 0 & 0 & 0 & 0\\\\\n",
       "\t2 & LOC111126949 & 0 & 0 & 0 & 0 & 0 & 0 & 0 & 0 & 0 & ⋯ & 0 & 0 & 0 & 0 & 0 & 0 & 0 & 0 & 0 & 0\\\\\n",
       "\t3 & LOC111110729 & 0 & 0 & 0 & 0 & 0 & 0 & 0 & 0 & 0 & ⋯ & 0 & 0 & 0 & 0 & 0 & 0 & 0 & 0 & 0 & 0\\\\\n",
       "\t4 & LOC111112434 & 0 & 0 & 0 & 0 & 0 & 0 & 0 & 2 & 0 & ⋯ & 0 & 0 & 0 & 0 & 0 & 0 & 0 & 0 & 0 & 0\\\\\n",
       "\t5 & LOC111120752 & 2 & 1 & 0 & 2 & 0 & 0 & 0 & 2 & 0 & ⋯ & 0 & 0 & 0 & 1 & 1 & 0 & 1 & 0 & 1 & 0\\\\\n",
       "\t6 & LOC111128944 & 0 & 0 & 0 & 0 & 0 & 0 & 0 & 0 & 0 & ⋯ & 0 & 0 & 0 & 0 & 0 & 0 & 0 & 0 & 0 & 0\\\\\n",
       "\\end{tabular}\n"
      ],
      "text/markdown": [
       "\n",
       "A data.frame: 6 × 31\n",
       "\n",
       "| <!--/--> | GeneID &lt;chr&gt; | BBB-WBO-B21 &lt;int&gt; | BPO-BPO-O16 &lt;int&gt; | WBR-BBY-W25 &lt;int&gt; | BBB-WBV-B70 &lt;int&gt; | BPR-BPG-O38 &lt;int&gt; | WBV-WBO-W23 &lt;int&gt; | BBO-BBO-B16 &lt;int&gt; | BPR-BPR-O02 &lt;int&gt; | WBV-WBR-W12 &lt;int&gt; | ⋯ ⋯ | WPO-BPO-G16 &lt;int&gt; | BBR-BBG-B38 &lt;int&gt; | WBG-WBG-W44 &lt;int&gt; | WPO-BPY-G28 &lt;int&gt; | BBR-BBY-B26 &lt;int&gt; | WBO-BBR-W03 &lt;int&gt; | WPR-BPY-G25 &lt;int&gt; | BBY-WBG-B42 &lt;int&gt; | WBO-WBV-W64 &lt;int&gt; | WPV-BPR-G11 &lt;int&gt; |\n",
       "|---|---|---|---|---|---|---|---|---|---|---|---|---|---|---|---|---|---|---|---|---|---|\n",
       "| 1 | LOC111116054 | 0 | 0 | 0 | 0 | 0 | 0 | 0 | 0 | 0 | ⋯ | 0 | 0 | 0 | 0 | 1 | 0 | 0 | 0 | 0 | 0 |\n",
       "| 2 | LOC111126949 | 0 | 0 | 0 | 0 | 0 | 0 | 0 | 0 | 0 | ⋯ | 0 | 0 | 0 | 0 | 0 | 0 | 0 | 0 | 0 | 0 |\n",
       "| 3 | LOC111110729 | 0 | 0 | 0 | 0 | 0 | 0 | 0 | 0 | 0 | ⋯ | 0 | 0 | 0 | 0 | 0 | 0 | 0 | 0 | 0 | 0 |\n",
       "| 4 | LOC111112434 | 0 | 0 | 0 | 0 | 0 | 0 | 0 | 2 | 0 | ⋯ | 0 | 0 | 0 | 0 | 0 | 0 | 0 | 0 | 0 | 0 |\n",
       "| 5 | LOC111120752 | 2 | 1 | 0 | 2 | 0 | 0 | 0 | 2 | 0 | ⋯ | 0 | 0 | 0 | 1 | 1 | 0 | 1 | 0 | 1 | 0 |\n",
       "| 6 | LOC111128944 | 0 | 0 | 0 | 0 | 0 | 0 | 0 | 0 | 0 | ⋯ | 0 | 0 | 0 | 0 | 0 | 0 | 0 | 0 | 0 | 0 |\n",
       "\n"
      ],
      "text/plain": [
       "  GeneID       BBB-WBO-B21 BPO-BPO-O16 WBR-BBY-W25 BBB-WBV-B70 BPR-BPG-O38\n",
       "1 LOC111116054 0           0           0           0           0          \n",
       "2 LOC111126949 0           0           0           0           0          \n",
       "3 LOC111110729 0           0           0           0           0          \n",
       "4 LOC111112434 0           0           0           0           0          \n",
       "5 LOC111120752 2           1           0           2           0          \n",
       "6 LOC111128944 0           0           0           0           0          \n",
       "  WBV-WBO-W23 BBO-BBO-B16 BPR-BPR-O02 WBV-WBR-W12 ⋯ WPO-BPO-G16 BBR-BBG-B38\n",
       "1 0           0           0           0           ⋯ 0           0          \n",
       "2 0           0           0           0           ⋯ 0           0          \n",
       "3 0           0           0           0           ⋯ 0           0          \n",
       "4 0           0           2           0           ⋯ 0           0          \n",
       "5 0           0           2           0           ⋯ 0           0          \n",
       "6 0           0           0           0           ⋯ 0           0          \n",
       "  WBG-WBG-W44 WPO-BPY-G28 BBR-BBY-B26 WBO-BBR-W03 WPR-BPY-G25 BBY-WBG-B42\n",
       "1 0           0           1           0           0           0          \n",
       "2 0           0           0           0           0           0          \n",
       "3 0           0           0           0           0           0          \n",
       "4 0           0           0           0           0           0          \n",
       "5 0           1           1           0           1           0          \n",
       "6 0           0           0           0           0           0          \n",
       "  WBO-WBV-W64 WPV-BPR-G11\n",
       "1 0           0          \n",
       "2 0           0          \n",
       "3 0           0          \n",
       "4 0           0          \n",
       "5 1           0          \n",
       "6 0           0          "
      ]
     },
     "metadata": {},
     "output_type": "display_data"
    }
   ],
   "source": [
    "# removing the extra info from the file name\n",
    "cleaned_column_names <- gsub(\"^X2018\\\\.\\\\.\", \"\", gsub(\"\\\\.CV_alignment\\\\.sam$\", \"\", colnames(counts)))\n",
    "head(cleaned_column_names)\n",
    "\n",
    "# replace the '.' with '-'\n",
    "cleaned_column_names2 <- gsub('\\\\.', \"-\", cleaned_column_names)\n",
    "head(cleaned_column_names2)\n",
    "\n",
    "# now assigning to the columns\n",
    "colnames(counts) = cleaned_column_names2\n",
    "head(counts)"
   ]
  },
  {
   "cell_type": "code",
   "execution_count": 4,
   "id": "2c451a55-cd55-468d-b5bc-458a62d7da22",
   "metadata": {},
   "outputs": [
    {
     "data": {
      "text/html": [
       "<table class=\"dataframe\">\n",
       "<caption>A data.frame: 6 × 30</caption>\n",
       "<thead>\n",
       "\t<tr><th></th><th scope=col>BBB-WBO-B21</th><th scope=col>BPO-BPO-O16</th><th scope=col>WBR-BBY-W25</th><th scope=col>BBB-WBV-B70</th><th scope=col>BPR-BPG-O38</th><th scope=col>WBV-WBO-W23</th><th scope=col>BBO-BBO-B16</th><th scope=col>BPR-BPR-O02</th><th scope=col>WBV-WBR-W12</th><th scope=col>BBO-BBY-B27</th><th scope=col>⋯</th><th scope=col>WPO-BPO-G16</th><th scope=col>BBR-BBG-B38</th><th scope=col>WBG-WBG-W44</th><th scope=col>WPO-BPY-G28</th><th scope=col>BBR-BBY-B26</th><th scope=col>WBO-BBR-W03</th><th scope=col>WPR-BPY-G25</th><th scope=col>BBY-WBG-B42</th><th scope=col>WBO-WBV-W64</th><th scope=col>WPV-BPR-G11</th></tr>\n",
       "\t<tr><th></th><th scope=col>&lt;int&gt;</th><th scope=col>&lt;int&gt;</th><th scope=col>&lt;int&gt;</th><th scope=col>&lt;int&gt;</th><th scope=col>&lt;int&gt;</th><th scope=col>&lt;int&gt;</th><th scope=col>&lt;int&gt;</th><th scope=col>&lt;int&gt;</th><th scope=col>&lt;int&gt;</th><th scope=col>&lt;int&gt;</th><th scope=col>⋯</th><th scope=col>&lt;int&gt;</th><th scope=col>&lt;int&gt;</th><th scope=col>&lt;int&gt;</th><th scope=col>&lt;int&gt;</th><th scope=col>&lt;int&gt;</th><th scope=col>&lt;int&gt;</th><th scope=col>&lt;int&gt;</th><th scope=col>&lt;int&gt;</th><th scope=col>&lt;int&gt;</th><th scope=col>&lt;int&gt;</th></tr>\n",
       "</thead>\n",
       "<tbody>\n",
       "\t<tr><th scope=row>LOC111116054</th><td>0</td><td>0</td><td>0</td><td>0</td><td>0</td><td>0</td><td>0</td><td>0</td><td>0</td><td>0</td><td>⋯</td><td>0</td><td>0</td><td>0</td><td>0</td><td>1</td><td>0</td><td>0</td><td>0</td><td>0</td><td>0</td></tr>\n",
       "\t<tr><th scope=row>LOC111126949</th><td>0</td><td>0</td><td>0</td><td>0</td><td>0</td><td>0</td><td>0</td><td>0</td><td>0</td><td>0</td><td>⋯</td><td>0</td><td>0</td><td>0</td><td>0</td><td>0</td><td>0</td><td>0</td><td>0</td><td>0</td><td>0</td></tr>\n",
       "\t<tr><th scope=row>LOC111110729</th><td>0</td><td>0</td><td>0</td><td>0</td><td>0</td><td>0</td><td>0</td><td>0</td><td>0</td><td>0</td><td>⋯</td><td>0</td><td>0</td><td>0</td><td>0</td><td>0</td><td>0</td><td>0</td><td>0</td><td>0</td><td>0</td></tr>\n",
       "\t<tr><th scope=row>LOC111112434</th><td>0</td><td>0</td><td>0</td><td>0</td><td>0</td><td>0</td><td>0</td><td>2</td><td>0</td><td>0</td><td>⋯</td><td>0</td><td>0</td><td>0</td><td>0</td><td>0</td><td>0</td><td>0</td><td>0</td><td>0</td><td>0</td></tr>\n",
       "\t<tr><th scope=row>LOC111120752</th><td>2</td><td>1</td><td>0</td><td>2</td><td>0</td><td>0</td><td>0</td><td>2</td><td>0</td><td>0</td><td>⋯</td><td>0</td><td>0</td><td>0</td><td>1</td><td>1</td><td>0</td><td>1</td><td>0</td><td>1</td><td>0</td></tr>\n",
       "\t<tr><th scope=row>LOC111128944</th><td>0</td><td>0</td><td>0</td><td>0</td><td>0</td><td>0</td><td>0</td><td>0</td><td>0</td><td>0</td><td>⋯</td><td>0</td><td>0</td><td>0</td><td>0</td><td>0</td><td>0</td><td>0</td><td>0</td><td>0</td><td>0</td></tr>\n",
       "</tbody>\n",
       "</table>\n"
      ],
      "text/latex": [
       "A data.frame: 6 × 30\n",
       "\\begin{tabular}{r|lllllllllllllllllllll}\n",
       "  & BBB-WBO-B21 & BPO-BPO-O16 & WBR-BBY-W25 & BBB-WBV-B70 & BPR-BPG-O38 & WBV-WBO-W23 & BBO-BBO-B16 & BPR-BPR-O02 & WBV-WBR-W12 & BBO-BBY-B27 & ⋯ & WPO-BPO-G16 & BBR-BBG-B38 & WBG-WBG-W44 & WPO-BPY-G28 & BBR-BBY-B26 & WBO-BBR-W03 & WPR-BPY-G25 & BBY-WBG-B42 & WBO-WBV-W64 & WPV-BPR-G11\\\\\n",
       "  & <int> & <int> & <int> & <int> & <int> & <int> & <int> & <int> & <int> & <int> & ⋯ & <int> & <int> & <int> & <int> & <int> & <int> & <int> & <int> & <int> & <int>\\\\\n",
       "\\hline\n",
       "\tLOC111116054 & 0 & 0 & 0 & 0 & 0 & 0 & 0 & 0 & 0 & 0 & ⋯ & 0 & 0 & 0 & 0 & 1 & 0 & 0 & 0 & 0 & 0\\\\\n",
       "\tLOC111126949 & 0 & 0 & 0 & 0 & 0 & 0 & 0 & 0 & 0 & 0 & ⋯ & 0 & 0 & 0 & 0 & 0 & 0 & 0 & 0 & 0 & 0\\\\\n",
       "\tLOC111110729 & 0 & 0 & 0 & 0 & 0 & 0 & 0 & 0 & 0 & 0 & ⋯ & 0 & 0 & 0 & 0 & 0 & 0 & 0 & 0 & 0 & 0\\\\\n",
       "\tLOC111112434 & 0 & 0 & 0 & 0 & 0 & 0 & 0 & 2 & 0 & 0 & ⋯ & 0 & 0 & 0 & 0 & 0 & 0 & 0 & 0 & 0 & 0\\\\\n",
       "\tLOC111120752 & 2 & 1 & 0 & 2 & 0 & 0 & 0 & 2 & 0 & 0 & ⋯ & 0 & 0 & 0 & 1 & 1 & 0 & 1 & 0 & 1 & 0\\\\\n",
       "\tLOC111128944 & 0 & 0 & 0 & 0 & 0 & 0 & 0 & 0 & 0 & 0 & ⋯ & 0 & 0 & 0 & 0 & 0 & 0 & 0 & 0 & 0 & 0\\\\\n",
       "\\end{tabular}\n"
      ],
      "text/markdown": [
       "\n",
       "A data.frame: 6 × 30\n",
       "\n",
       "| <!--/--> | BBB-WBO-B21 &lt;int&gt; | BPO-BPO-O16 &lt;int&gt; | WBR-BBY-W25 &lt;int&gt; | BBB-WBV-B70 &lt;int&gt; | BPR-BPG-O38 &lt;int&gt; | WBV-WBO-W23 &lt;int&gt; | BBO-BBO-B16 &lt;int&gt; | BPR-BPR-O02 &lt;int&gt; | WBV-WBR-W12 &lt;int&gt; | BBO-BBY-B27 &lt;int&gt; | ⋯ ⋯ | WPO-BPO-G16 &lt;int&gt; | BBR-BBG-B38 &lt;int&gt; | WBG-WBG-W44 &lt;int&gt; | WPO-BPY-G28 &lt;int&gt; | BBR-BBY-B26 &lt;int&gt; | WBO-BBR-W03 &lt;int&gt; | WPR-BPY-G25 &lt;int&gt; | BBY-WBG-B42 &lt;int&gt; | WBO-WBV-W64 &lt;int&gt; | WPV-BPR-G11 &lt;int&gt; |\n",
       "|---|---|---|---|---|---|---|---|---|---|---|---|---|---|---|---|---|---|---|---|---|---|\n",
       "| LOC111116054 | 0 | 0 | 0 | 0 | 0 | 0 | 0 | 0 | 0 | 0 | ⋯ | 0 | 0 | 0 | 0 | 1 | 0 | 0 | 0 | 0 | 0 |\n",
       "| LOC111126949 | 0 | 0 | 0 | 0 | 0 | 0 | 0 | 0 | 0 | 0 | ⋯ | 0 | 0 | 0 | 0 | 0 | 0 | 0 | 0 | 0 | 0 |\n",
       "| LOC111110729 | 0 | 0 | 0 | 0 | 0 | 0 | 0 | 0 | 0 | 0 | ⋯ | 0 | 0 | 0 | 0 | 0 | 0 | 0 | 0 | 0 | 0 |\n",
       "| LOC111112434 | 0 | 0 | 0 | 0 | 0 | 0 | 0 | 2 | 0 | 0 | ⋯ | 0 | 0 | 0 | 0 | 0 | 0 | 0 | 0 | 0 | 0 |\n",
       "| LOC111120752 | 2 | 1 | 0 | 2 | 0 | 0 | 0 | 2 | 0 | 0 | ⋯ | 0 | 0 | 0 | 1 | 1 | 0 | 1 | 0 | 1 | 0 |\n",
       "| LOC111128944 | 0 | 0 | 0 | 0 | 0 | 0 | 0 | 0 | 0 | 0 | ⋯ | 0 | 0 | 0 | 0 | 0 | 0 | 0 | 0 | 0 | 0 |\n",
       "\n"
      ],
      "text/plain": [
       "             BBB-WBO-B21 BPO-BPO-O16 WBR-BBY-W25 BBB-WBV-B70 BPR-BPG-O38\n",
       "LOC111116054 0           0           0           0           0          \n",
       "LOC111126949 0           0           0           0           0          \n",
       "LOC111110729 0           0           0           0           0          \n",
       "LOC111112434 0           0           0           0           0          \n",
       "LOC111120752 2           1           0           2           0          \n",
       "LOC111128944 0           0           0           0           0          \n",
       "             WBV-WBO-W23 BBO-BBO-B16 BPR-BPR-O02 WBV-WBR-W12 BBO-BBY-B27 ⋯\n",
       "LOC111116054 0           0           0           0           0           ⋯\n",
       "LOC111126949 0           0           0           0           0           ⋯\n",
       "LOC111110729 0           0           0           0           0           ⋯\n",
       "LOC111112434 0           0           2           0           0           ⋯\n",
       "LOC111120752 0           0           2           0           0           ⋯\n",
       "LOC111128944 0           0           0           0           0           ⋯\n",
       "             WPO-BPO-G16 BBR-BBG-B38 WBG-WBG-W44 WPO-BPY-G28 BBR-BBY-B26\n",
       "LOC111116054 0           0           0           0           1          \n",
       "LOC111126949 0           0           0           0           0          \n",
       "LOC111110729 0           0           0           0           0          \n",
       "LOC111112434 0           0           0           0           0          \n",
       "LOC111120752 0           0           0           1           1          \n",
       "LOC111128944 0           0           0           0           0          \n",
       "             WBO-BBR-W03 WPR-BPY-G25 BBY-WBG-B42 WBO-WBV-W64 WPV-BPR-G11\n",
       "LOC111116054 0           0           0           0           0          \n",
       "LOC111126949 0           0           0           0           0          \n",
       "LOC111110729 0           0           0           0           0          \n",
       "LOC111112434 0           0           0           0           0          \n",
       "LOC111120752 0           1           0           1           0          \n",
       "LOC111128944 0           0           0           0           0          "
      ]
     },
     "metadata": {},
     "output_type": "display_data"
    }
   ],
   "source": [
    "# setting the gene name as the row name and deleting that column\n",
    "rownames(counts) <- counts$GeneID\n",
    "counts2 <- counts[-1]\n",
    "\n",
    "head(counts2)"
   ]
  },
  {
   "cell_type": "code",
   "execution_count": 5,
   "id": "96241cc1-987b-474d-ac55-5de34dc9f9c4",
   "metadata": {},
   "outputs": [
    {
     "data": {
      "text/html": [
       "<style>\n",
       ".list-inline {list-style: none; margin:0; padding: 0}\n",
       ".list-inline>li {display: inline-block}\n",
       ".list-inline>li:not(:last-child)::after {content: \"\\00b7\"; padding: 0 .5ex}\n",
       "</style>\n",
       "<ol class=list-inline><li>13544</li><li>30</li></ol>\n"
      ],
      "text/latex": [
       "\\begin{enumerate*}\n",
       "\\item 13544\n",
       "\\item 30\n",
       "\\end{enumerate*}\n"
      ],
      "text/markdown": [
       "1. 13544\n",
       "2. 30\n",
       "\n",
       "\n"
      ],
      "text/plain": [
       "[1] 13544    30"
      ]
     },
     "metadata": {},
     "output_type": "display_data"
    }
   ],
   "source": [
    "# removing rows that have really low counts\n",
    "counts2 <- counts2[-which(rowSums(counts2[sapply(counts2, is.numeric)]) < 10),]\n",
    "dim(counts2)"
   ]
  },
  {
   "cell_type": "markdown",
   "id": "9230739b-fb3d-445f-8fe8-a4811dbb36a0",
   "metadata": {},
   "source": [
    "**sample meta data table** which includes info about treatments"
   ]
  },
  {
   "cell_type": "code",
   "execution_count": 40,
   "id": "0577805a-c2ab-4557-80e7-49a9068eaa1f",
   "metadata": {},
   "outputs": [
    {
     "data": {
      "text/html": [
       "<table class=\"dataframe\">\n",
       "<caption>A data.frame: 6 × 3</caption>\n",
       "<thead>\n",
       "\t<tr><th></th><th scope=col>Phase1</th><th scope=col>Phase2</th><th scope=col>treatment</th></tr>\n",
       "\t<tr><th></th><th scope=col>&lt;chr&gt;</th><th scope=col>&lt;chr&gt;</th><th scope=col>&lt;chr&gt;</th></tr>\n",
       "</thead>\n",
       "<tbody>\n",
       "\t<tr><th scope=row>BBB-WBO-B21</th><td>hypoxic</td><td>control</td><td>hypoxic control</td></tr>\n",
       "\t<tr><th scope=row>BBB-WBV-B70</th><td>hypoxic</td><td>control</td><td>hypoxic control</td></tr>\n",
       "\t<tr><th scope=row>BBO-BBO-B16</th><td>hypoxic</td><td>hypoxic</td><td>hypoxic hypoxic</td></tr>\n",
       "\t<tr><th scope=row>BBO-BBY-B27</th><td>hypoxic</td><td>hypoxic</td><td>hypoxic hypoxic</td></tr>\n",
       "\t<tr><th scope=row>BBO-WBO-B16</th><td>hypoxic</td><td>control</td><td>hypoxic control</td></tr>\n",
       "\t<tr><th scope=row>BBO-WBV-B64</th><td>hypoxic</td><td>control</td><td>hypoxic control</td></tr>\n",
       "</tbody>\n",
       "</table>\n"
      ],
      "text/latex": [
       "A data.frame: 6 × 3\n",
       "\\begin{tabular}{r|lll}\n",
       "  & Phase1 & Phase2 & treatment\\\\\n",
       "  & <chr> & <chr> & <chr>\\\\\n",
       "\\hline\n",
       "\tBBB-WBO-B21 & hypoxic & control & hypoxic control\\\\\n",
       "\tBBB-WBV-B70 & hypoxic & control & hypoxic control\\\\\n",
       "\tBBO-BBO-B16 & hypoxic & hypoxic & hypoxic hypoxic\\\\\n",
       "\tBBO-BBY-B27 & hypoxic & hypoxic & hypoxic hypoxic\\\\\n",
       "\tBBO-WBO-B16 & hypoxic & control & hypoxic control\\\\\n",
       "\tBBO-WBV-B64 & hypoxic & control & hypoxic control\\\\\n",
       "\\end{tabular}\n"
      ],
      "text/markdown": [
       "\n",
       "A data.frame: 6 × 3\n",
       "\n",
       "| <!--/--> | Phase1 &lt;chr&gt; | Phase2 &lt;chr&gt; | treatment &lt;chr&gt; |\n",
       "|---|---|---|---|\n",
       "| BBB-WBO-B21 | hypoxic | control | hypoxic control |\n",
       "| BBB-WBV-B70 | hypoxic | control | hypoxic control |\n",
       "| BBO-BBO-B16 | hypoxic | hypoxic | hypoxic hypoxic |\n",
       "| BBO-BBY-B27 | hypoxic | hypoxic | hypoxic hypoxic |\n",
       "| BBO-WBO-B16 | hypoxic | control | hypoxic control |\n",
       "| BBO-WBV-B64 | hypoxic | control | hypoxic control |\n",
       "\n"
      ],
      "text/plain": [
       "            Phase1  Phase2  treatment      \n",
       "BBB-WBO-B21 hypoxic control hypoxic control\n",
       "BBB-WBV-B70 hypoxic control hypoxic control\n",
       "BBO-BBO-B16 hypoxic hypoxic hypoxic hypoxic\n",
       "BBO-BBY-B27 hypoxic hypoxic hypoxic hypoxic\n",
       "BBO-WBO-B16 hypoxic control hypoxic control\n",
       "BBO-WBV-B64 hypoxic control hypoxic control"
      ]
     },
     "metadata": {},
     "output_type": "display_data"
    }
   ],
   "source": [
    "meta <- read.csv('/project/pi_sarah_gignouxwolfsohn_uml_edu/julia/CE_MethylRAD_analysis_2018/analysis/counts_and_meta/CV_CE18_meta.csv')\n",
    "\n",
    "# changing rownames to the unique sample ID\n",
    "rownames(meta) <- meta$unique_ID\n",
    "\n",
    "meta$treatment <- paste(meta$Phase1, meta$Phase2)\n",
    "\n",
    "# pulling out only the rows I need\n",
    "meta <- select(meta, Phase1, Phase2, treatment)\n",
    "head(meta)"
   ]
  },
  {
   "cell_type": "markdown",
   "id": "20f863f8-d8f4-493e-a355-3aec72cee25c",
   "metadata": {},
   "source": [
    "for analysis - sample names need to be in the same order for the counts matrix and meta data"
   ]
  },
  {
   "cell_type": "code",
   "execution_count": 41,
   "id": "c57fb727-2ed5-4bec-af4b-3a746e6513f2",
   "metadata": {},
   "outputs": [
    {
     "data": {
      "text/html": [
       "TRUE"
      ],
      "text/latex": [
       "TRUE"
      ],
      "text/markdown": [
       "TRUE"
      ],
      "text/plain": [
       "[1] TRUE"
      ]
     },
     "metadata": {},
     "output_type": "display_data"
    }
   ],
   "source": [
    "# checking if samples are in the right order\n",
    "all(rownames(meta) == colnames(counts2)) # FALSE - not in the same order"
   ]
  },
  {
   "cell_type": "code",
   "execution_count": 42,
   "id": "e6d65ee9-221e-4cc7-a394-164bd067b1b1",
   "metadata": {},
   "outputs": [
    {
     "data": {
      "text/html": [
       "TRUE"
      ],
      "text/latex": [
       "TRUE"
      ],
      "text/markdown": [
       "TRUE"
      ],
      "text/plain": [
       "[1] TRUE"
      ]
     },
     "metadata": {},
     "output_type": "display_data"
    }
   ],
   "source": [
    "# setting the same order for counts matrix and meta data\n",
    "counts2 <- counts2[,rownames(meta)]\n",
    "all(rownames(meta) == colnames(counts2))"
   ]
  },
  {
   "cell_type": "code",
   "execution_count": 43,
   "id": "94cdcb32-5c11-4125-8717-38ea6bf386e2",
   "metadata": {},
   "outputs": [
    {
     "data": {
      "text/html": [
       "<style>\n",
       ".list-inline {list-style: none; margin:0; padding: 0}\n",
       ".list-inline>li {display: inline-block}\n",
       ".list-inline>li:not(:last-child)::after {content: \"\\00b7\"; padding: 0 .5ex}\n",
       "</style>\n",
       "<ol class=list-inline><li>30</li><li>3</li></ol>\n"
      ],
      "text/latex": [
       "\\begin{enumerate*}\n",
       "\\item 30\n",
       "\\item 3\n",
       "\\end{enumerate*}\n"
      ],
      "text/markdown": [
       "1. 30\n",
       "2. 3\n",
       "\n",
       "\n"
      ],
      "text/plain": [
       "[1] 30  3"
      ]
     },
     "metadata": {},
     "output_type": "display_data"
    },
    {
     "data": {
      "text/html": [
       "<style>\n",
       ".list-inline {list-style: none; margin:0; padding: 0}\n",
       ".list-inline>li {display: inline-block}\n",
       ".list-inline>li:not(:last-child)::after {content: \"\\00b7\"; padding: 0 .5ex}\n",
       "</style>\n",
       "<ol class=list-inline><li>13544</li><li>30</li></ol>\n"
      ],
      "text/latex": [
       "\\begin{enumerate*}\n",
       "\\item 13544\n",
       "\\item 30\n",
       "\\end{enumerate*}\n"
      ],
      "text/markdown": [
       "1. 13544\n",
       "2. 30\n",
       "\n",
       "\n"
      ],
      "text/plain": [
       "[1] 13544    30"
      ]
     },
     "metadata": {},
     "output_type": "display_data"
    }
   ],
   "source": [
    "# checking dimensions\n",
    "dim(meta) # 30 rows\n",
    "dim(counts2) # 30 columns"
   ]
  },
  {
   "cell_type": "code",
   "execution_count": 10,
   "id": "466eee79-bb1f-4e47-a626-01988a505bac",
   "metadata": {},
   "outputs": [],
   "source": [
    "write.csv(counts2, \"/project/pi_sarah_gignouxwolfsohn_uml_edu/julia/CE_MethylRAD_analysis_2018/analysis/counts_and_meta/counts_formatted.csv\")"
   ]
  },
  {
   "cell_type": "markdown",
   "id": "3a7ed05a-5ee8-4689-9586-01dd85e992ec",
   "metadata": {},
   "source": [
    "**to use for analysis:**\n",
    "- counts2 - counts matrix of meta features for 30 samples\n",
    "- meta - meta data frame for sample information \n",
    "both are formatted as needed for analysis and will be used going forward"
   ]
  },
  {
   "cell_type": "markdown",
   "id": "a0ec95a3-3e83-43de-80e9-2ad329628b05",
   "metadata": {},
   "source": [
    "## II. DESeq Analysis\n",
    "Using DESeq2 to compare between two treatments the differences in methylation.\n",
    "\n",
    "All DESeq analysis is using the same arguments:\n",
    "- type = \"normal\"\n",
    "- lfcThreshold = 0.25\n",
    "- cooksCutoff = FALSE\n",
    "- independentFiltering = FALSE\n",
    "- pCutOff = 0.05\n",
    "\n",
    "Starting with:\n",
    "### **Effects of Phase 1, regardless of phase 2**"
   ]
  },
  {
   "cell_type": "code",
   "execution_count": 48,
   "id": "0d6d2af3-c412-47b8-b0b2-5e12e2618ad5",
   "metadata": {},
   "outputs": [
    {
     "name": "stderr",
     "output_type": "stream",
     "text": [
      "Warning message in DESeqDataSet(se, design = design, ignoreRank):\n",
      "“some variables in design formula are characters, converting to factors”\n",
      "estimating size factors\n",
      "\n",
      "estimating dispersions\n",
      "\n",
      "gene-wise dispersion estimates\n",
      "\n",
      "mean-dispersion relationship\n",
      "\n",
      "final dispersion estimates\n",
      "\n",
      "fitting model and testing\n",
      "\n",
      "-- replacing outliers and refitting for 607 genes\n",
      "-- DESeq argument 'minReplicatesForReplace' = 7 \n",
      "-- original counts are preserved in counts(dds)\n",
      "\n",
      "estimating dispersions\n",
      "\n",
      "fitting model and testing\n",
      "\n"
     ]
    },
    {
     "data": {
      "text/html": [
       "<style>\n",
       ".list-inline {list-style: none; margin:0; padding: 0}\n",
       ".list-inline>li {display: inline-block}\n",
       ".list-inline>li:not(:last-child)::after {content: \"\\00b7\"; padding: 0 .5ex}\n",
       "</style>\n",
       "<ol class=list-inline><li>'Intercept'</li><li>'Phase1_control_vs_both'</li><li>'Phase1_hypoxic_vs_both'</li><li>'Phase1_warm_vs_both'</li></ol>\n"
      ],
      "text/latex": [
       "\\begin{enumerate*}\n",
       "\\item 'Intercept'\n",
       "\\item 'Phase1\\_control\\_vs\\_both'\n",
       "\\item 'Phase1\\_hypoxic\\_vs\\_both'\n",
       "\\item 'Phase1\\_warm\\_vs\\_both'\n",
       "\\end{enumerate*}\n"
      ],
      "text/markdown": [
       "1. 'Intercept'\n",
       "2. 'Phase1_control_vs_both'\n",
       "3. 'Phase1_hypoxic_vs_both'\n",
       "4. 'Phase1_warm_vs_both'\n",
       "\n",
       "\n"
      ],
      "text/plain": [
       "[1] \"Intercept\"              \"Phase1_control_vs_both\" \"Phase1_hypoxic_vs_both\"\n",
       "[4] \"Phase1_warm_vs_both\"   "
      ]
     },
     "metadata": {},
     "output_type": "display_data"
    }
   ],
   "source": [
    "# creating DESeq2 objext from the matrix, with the design = treatment (which has both phase 1 and phase 2 variables)\n",
    "p1_dds <- DESeqDataSetFromMatrix(countData = counts2,\n",
    "                              colData = meta, \n",
    "                              design = ~ Phase1)\n",
    "p1_dds=DESeq(p1_dds)\n",
    "resultsNames(p1_dds)"
   ]
  },
  {
   "cell_type": "markdown",
   "id": "9ca838d6-f9bc-44e3-a8da-a2b0dbd25a9e",
   "metadata": {},
   "source": [
    "starting first with looking at **Phase 1 warm vs. control**"
   ]
  },
  {
   "cell_type": "code",
   "execution_count": 13,
   "id": "8a4b058a-d7e8-495a-aaf3-dc5fc3216f86",
   "metadata": {},
   "outputs": [
    {
     "name": "stderr",
     "output_type": "stream",
     "text": [
      "using 'normal' for LFC shrinkage, the Normal prior from Love et al (2014).\n",
      "\n",
      "Note that type='apeglm' and type='ashr' have shown to have less bias than type='normal'.\n",
      "See ?lfcShrink for more details on shrinkage type, and the DESeq2 vignette.\n",
      "Reference: https://doi.org/10.1093/bioinformatics/bty895\n",
      "\n"
     ]
    },
    {
     "name": "stdout",
     "output_type": "stream",
     "text": [
      "\n",
      "out of 13538 with nonzero total read count\n",
      "adjusted p-value < 0.1\n",
      "LFC > 0.25 (up)    : 439, 3.2%\n",
      "LFC < -0.25 (down) : 4, 0.03%\n",
      "outliers [1]       : 601, 4.4%\n",
      "low counts [2]     : 6744, 50%\n",
      "(mean count < 2)\n",
      "[1] see 'cooksCutoff' argument of ?results\n",
      "[2] see 'independentFiltering' argument of ?results\n",
      "\n"
     ]
    },
    {
     "data": {
      "image/png": "[encoded data removed]",
      "text/plain": [
       "plot without title"
      ]
     },
     "metadata": {
      "image/png": {
       "height": 420,
       "width": 420
      }
     },
     "output_type": "display_data"
    }
   ],
   "source": [
    "contrast1 <- c(\"Phase1\", \"warm\", \"control\")\n",
    "\n",
    "# results of contrast3 with lfcThreshold=0.5 and normal shrinkage estimator\n",
    "ls_p1wc<-lfcShrink(p1_dds, # dds object\n",
    "                      contrast = contrast1, # only coef or contrast can be specified\n",
    "                      type=\"normal\", lfcThreshold=0.25,\n",
    "                      cooksCutoff=FALSE, independentFiltering=FALSE) # adding stuff to change outliers/padj=NA\n",
    "summary(ls_p1wc)\n",
    "\n",
    "EnhancedVolcano(ls_p1wc, \n",
    "                lab=NA,\n",
    "                x = 'log2FoldChange',\n",
    "                y='padj',\n",
    "                pCutoff=0.05)"
   ]
  },
  {
   "cell_type": "code",
   "execution_count": 14,
   "id": "3579d4c9-e322-431e-a176-25cb368dd96b",
   "metadata": {},
   "outputs": [
    {
     "data": {
      "image/png": "[encoded data removed]",
      "text/plain": [
       "Plot with title “”"
      ]
     },
     "metadata": {
      "image/png": {
       "height": 420,
       "width": 420
      }
     },
     "output_type": "display_data"
    }
   ],
   "source": [
    "plotMA(ls_p1wc)"
   ]
  },
  {
   "cell_type": "code",
   "execution_count": 15,
   "id": "e3972d5f-38e0-4b48-9ebc-61d1fa25292b",
   "metadata": {},
   "outputs": [],
   "source": [
    "# saving data into a csv file to look at kegg enrichment\n",
    "write.csv(ls_p1wc, '/project/pi_sarah_gignouxwolfsohn_uml_edu/julia/CE_MethylRAD_analysis_2018/analysis/significant_genes/p1wc_lfc25_genes.csv')"
   ]
  },
  {
   "cell_type": "code",
   "execution_count": 16,
   "id": "d8c03c6a-5e74-4076-a561-d5076f343633",
   "metadata": {},
   "outputs": [
    {
     "data": {
      "text/html": [
       "<table class=\"dataframe\">\n",
       "<caption>A data.frame: 6 × 8</caption>\n",
       "<thead>\n",
       "\t<tr><th></th><th scope=col>baseMean</th><th scope=col>log2FoldChange</th><th scope=col>lfcSE</th><th scope=col>stat</th><th scope=col>pvalue</th><th scope=col>padj</th><th scope=col>plot</th><th scope=col>more_me_in</th></tr>\n",
       "\t<tr><th></th><th scope=col>&lt;dbl&gt;</th><th scope=col>&lt;dbl&gt;</th><th scope=col>&lt;dbl&gt;</th><th scope=col>&lt;dbl&gt;</th><th scope=col>&lt;dbl&gt;</th><th scope=col>&lt;dbl&gt;</th><th scope=col>&lt;chr&gt;</th><th scope=col>&lt;chr&gt;</th></tr>\n",
       "</thead>\n",
       "<tbody>\n",
       "\t<tr><th scope=row>LOC111120752</th><td>  0.9171026</td><td> 0.5117345</td><td>0.7219483</td><td> 0.3625391</td><td>0.71694919</td><td>       NA</td><td>warm_vs_control</td><td>NA             </td></tr>\n",
       "\t<tr><th scope=row>LOC111109452</th><td>  1.3692365</td><td> 1.0072548</td><td>0.7205748</td><td> 1.0509038</td><td>0.29330277</td><td>       NA</td><td>warm_vs_control</td><td>NA             </td></tr>\n",
       "\t<tr><th scope=row>LOC111124802</th><td>160.7331187</td><td> 0.4591660</td><td>0.1879969</td><td> 1.1126035</td><td>0.26587874</td><td>1.0000000</td><td>warm_vs_control</td><td>not significant</td></tr>\n",
       "\t<tr><th scope=row>LOC111101273</th><td> 55.0404755</td><td> 0.4055670</td><td>0.2258263</td><td> 0.6888791</td><td>0.49089935</td><td>1.0000000</td><td>warm_vs_control</td><td>not significant</td></tr>\n",
       "\t<tr><th scope=row>LOC111101250</th><td> 77.7947775</td><td>-0.6027753</td><td>0.2031945</td><td>-1.7361458</td><td>0.08253806</td><td>0.6036878</td><td>warm_vs_control</td><td>not significant</td></tr>\n",
       "\t<tr><th scope=row>LOC111101262</th><td>188.9039051</td><td> 0.1674635</td><td>0.1795188</td><td> 0.0000000</td><td>1.00000000</td><td>1.0000000</td><td>warm_vs_control</td><td>not significant</td></tr>\n",
       "</tbody>\n",
       "</table>\n"
      ],
      "text/latex": [
       "A data.frame: 6 × 8\n",
       "\\begin{tabular}{r|llllllll}\n",
       "  & baseMean & log2FoldChange & lfcSE & stat & pvalue & padj & plot & more\\_me\\_in\\\\\n",
       "  & <dbl> & <dbl> & <dbl> & <dbl> & <dbl> & <dbl> & <chr> & <chr>\\\\\n",
       "\\hline\n",
       "\tLOC111120752 &   0.9171026 &  0.5117345 & 0.7219483 &  0.3625391 & 0.71694919 &        NA & warm\\_vs\\_control & NA             \\\\\n",
       "\tLOC111109452 &   1.3692365 &  1.0072548 & 0.7205748 &  1.0509038 & 0.29330277 &        NA & warm\\_vs\\_control & NA             \\\\\n",
       "\tLOC111124802 & 160.7331187 &  0.4591660 & 0.1879969 &  1.1126035 & 0.26587874 & 1.0000000 & warm\\_vs\\_control & not significant\\\\\n",
       "\tLOC111101273 &  55.0404755 &  0.4055670 & 0.2258263 &  0.6888791 & 0.49089935 & 1.0000000 & warm\\_vs\\_control & not significant\\\\\n",
       "\tLOC111101250 &  77.7947775 & -0.6027753 & 0.2031945 & -1.7361458 & 0.08253806 & 0.6036878 & warm\\_vs\\_control & not significant\\\\\n",
       "\tLOC111101262 & 188.9039051 &  0.1674635 & 0.1795188 &  0.0000000 & 1.00000000 & 1.0000000 & warm\\_vs\\_control & not significant\\\\\n",
       "\\end{tabular}\n"
      ],
      "text/markdown": [
       "\n",
       "A data.frame: 6 × 8\n",
       "\n",
       "| <!--/--> | baseMean &lt;dbl&gt; | log2FoldChange &lt;dbl&gt; | lfcSE &lt;dbl&gt; | stat &lt;dbl&gt; | pvalue &lt;dbl&gt; | padj &lt;dbl&gt; | plot &lt;chr&gt; | more_me_in &lt;chr&gt; |\n",
       "|---|---|---|---|---|---|---|---|---|\n",
       "| LOC111120752 |   0.9171026 |  0.5117345 | 0.7219483 |  0.3625391 | 0.71694919 |        NA | warm_vs_control | NA              |\n",
       "| LOC111109452 |   1.3692365 |  1.0072548 | 0.7205748 |  1.0509038 | 0.29330277 |        NA | warm_vs_control | NA              |\n",
       "| LOC111124802 | 160.7331187 |  0.4591660 | 0.1879969 |  1.1126035 | 0.26587874 | 1.0000000 | warm_vs_control | not significant |\n",
       "| LOC111101273 |  55.0404755 |  0.4055670 | 0.2258263 |  0.6888791 | 0.49089935 | 1.0000000 | warm_vs_control | not significant |\n",
       "| LOC111101250 |  77.7947775 | -0.6027753 | 0.2031945 | -1.7361458 | 0.08253806 | 0.6036878 | warm_vs_control | not significant |\n",
       "| LOC111101262 | 188.9039051 |  0.1674635 | 0.1795188 |  0.0000000 | 1.00000000 | 1.0000000 | warm_vs_control | not significant |\n",
       "\n"
      ],
      "text/plain": [
       "             baseMean    log2FoldChange lfcSE     stat       pvalue    \n",
       "LOC111120752   0.9171026  0.5117345     0.7219483  0.3625391 0.71694919\n",
       "LOC111109452   1.3692365  1.0072548     0.7205748  1.0509038 0.29330277\n",
       "LOC111124802 160.7331187  0.4591660     0.1879969  1.1126035 0.26587874\n",
       "LOC111101273  55.0404755  0.4055670     0.2258263  0.6888791 0.49089935\n",
       "LOC111101250  77.7947775 -0.6027753     0.2031945 -1.7361458 0.08253806\n",
       "LOC111101262 188.9039051  0.1674635     0.1795188  0.0000000 1.00000000\n",
       "             padj      plot            more_me_in     \n",
       "LOC111120752        NA warm_vs_control NA             \n",
       "LOC111109452        NA warm_vs_control NA             \n",
       "LOC111124802 1.0000000 warm_vs_control not significant\n",
       "LOC111101273 1.0000000 warm_vs_control not significant\n",
       "LOC111101250 0.6036878 warm_vs_control not significant\n",
       "LOC111101262 1.0000000 warm_vs_control not significant"
      ]
     },
     "metadata": {},
     "output_type": "display_data"
    }
   ],
   "source": [
    "# creating df of DESeq result\n",
    "p1wc_shrink <- as.data.frame(ls_p1wc)\n",
    "\n",
    "# adding column to denote that these are for warm vs. control samples\n",
    "p1wc_shrink$plot <- 'warm_vs_control'\n",
    "\n",
    "# adding column to tell us if this gene has more methylation in warming or control\n",
    "p1wc_shrink$more_me_in <- ifelse(p1wc_shrink$log2FoldChange<0 & p1wc_shrink$padj < 0.05, \"control\", #neg ES = pathway for control\n",
    "                        ifelse(p1wc_shrink$log2FoldChange>0 & p1wc_shrink$padj < 0.05, \"warm\", # pos ES = pathway for warm\n",
    "                               \"not significant\"))\n",
    "\n",
    "head(p1wc_shrink)"
   ]
  },
  {
   "cell_type": "markdown",
   "id": "28c7b7ae-d859-4112-a3e1-3cce5e077a0f",
   "metadata": {},
   "source": [
    "repeating above, but looking at **Phase 1 hypoxic vs. control**"
   ]
  },
  {
   "cell_type": "code",
   "execution_count": 17,
   "id": "cb1bb5a3-6e88-4861-af39-f63ba3dcc884",
   "metadata": {},
   "outputs": [
    {
     "name": "stderr",
     "output_type": "stream",
     "text": [
      "using 'normal' for LFC shrinkage, the Normal prior from Love et al (2014).\n",
      "\n",
      "Note that type='apeglm' and type='ashr' have shown to have less bias than type='normal'.\n",
      "See ?lfcShrink for more details on shrinkage type, and the DESeq2 vignette.\n",
      "Reference: https://doi.org/10.1093/bioinformatics/bty895\n",
      "\n"
     ]
    },
    {
     "name": "stdout",
     "output_type": "stream",
     "text": [
      "\n",
      "out of 13538 with nonzero total read count\n",
      "adjusted p-value < 0.1\n",
      "LFC > 0.25 (up)    : 0, 0%\n",
      "LFC < -0.25 (down) : 0, 0%\n",
      "outliers [1]       : 601, 4.4%\n",
      "low counts [2]     : 6, 0.044%\n",
      "(mean count < 0)\n",
      "[1] see 'cooksCutoff' argument of ?results\n",
      "[2] see 'independentFiltering' argument of ?results\n",
      "\n"
     ]
    },
    {
     "data": {
      "image/png": "[encoded data removed]",
      "text/plain": [
       "plot without title"
      ]
     },
     "metadata": {
      "image/png": {
       "height": 420,
       "width": 420
      }
     },
     "output_type": "display_data"
    }
   ],
   "source": [
    "contrast2 <- c(\"Phase1\", \"hypoxic\", \"control\")\n",
    "\n",
    "# results of contrast3 with lfcThreshold=0.5 and normal shrinkage estimator\n",
    "ls_p1hc<-lfcShrink(p1_dds, # dds object\n",
    "                      contrast = contrast2, # only coef or contrast can be specified\n",
    "                      type=\"normal\", lfcThreshold=0.25,\n",
    "                      cooksCutoff=FALSE, independentFiltering=FALSE) # adding stuff to change outliers/padj=NA\n",
    "summary(ls_p1hc)\n",
    "\n",
    "EnhancedVolcano(ls_p1hc, \n",
    "                lab=NA,\n",
    "                x = 'log2FoldChange',\n",
    "                y='padj',\n",
    "                pCutoff=0.05)"
   ]
  },
  {
   "cell_type": "code",
   "execution_count": 18,
   "id": "450d5288-2365-485d-8fdf-919a9569b5d6",
   "metadata": {},
   "outputs": [
    {
     "data": {
      "text/html": [
       "<table class=\"dataframe\">\n",
       "<caption>A data.frame: 6 × 8</caption>\n",
       "<thead>\n",
       "\t<tr><th></th><th scope=col>baseMean</th><th scope=col>log2FoldChange</th><th scope=col>lfcSE</th><th scope=col>stat</th><th scope=col>pvalue</th><th scope=col>padj</th><th scope=col>plot</th><th scope=col>more_me_in</th></tr>\n",
       "\t<tr><th></th><th scope=col>&lt;dbl&gt;</th><th scope=col>&lt;dbl&gt;</th><th scope=col>&lt;dbl&gt;</th><th scope=col>&lt;dbl&gt;</th><th scope=col>&lt;dbl&gt;</th><th scope=col>&lt;dbl&gt;</th><th scope=col>&lt;chr&gt;</th><th scope=col>&lt;chr&gt;</th></tr>\n",
       "</thead>\n",
       "<tbody>\n",
       "\t<tr><th scope=row>LOC111120752</th><td>  0.9171026</td><td>-0.47211850</td><td>0.7009473</td><td>-0.3168833</td><td>0.7513321</td><td>1</td><td>hypoxic_vs_control</td><td>not significant</td></tr>\n",
       "\t<tr><th scope=row>LOC111109452</th><td>  1.3692365</td><td> 0.45155837</td><td>0.7241066</td><td> 0.2783545</td><td>0.7807402</td><td>1</td><td>hypoxic_vs_control</td><td>not significant</td></tr>\n",
       "\t<tr><th scope=row>LOC111124802</th><td>160.7331187</td><td> 0.01015871</td><td>0.1456254</td><td> 0.0000000</td><td>1.0000000</td><td>1</td><td>hypoxic_vs_control</td><td>not significant</td></tr>\n",
       "\t<tr><th scope=row>LOC111101273</th><td> 55.0404755</td><td>-0.12778328</td><td>0.1709562</td><td> 0.0000000</td><td>1.0000000</td><td>1</td><td>hypoxic_vs_control</td><td>not significant</td></tr>\n",
       "\t<tr><th scope=row>LOC111101250</th><td> 77.7947775</td><td>-0.20645216</td><td>0.1441565</td><td> 0.0000000</td><td>1.0000000</td><td>1</td><td>hypoxic_vs_control</td><td>not significant</td></tr>\n",
       "\t<tr><th scope=row>LOC111101262</th><td>188.9039051</td><td> 0.01284188</td><td>0.1377824</td><td> 0.0000000</td><td>1.0000000</td><td>1</td><td>hypoxic_vs_control</td><td>not significant</td></tr>\n",
       "</tbody>\n",
       "</table>\n"
      ],
      "text/latex": [
       "A data.frame: 6 × 8\n",
       "\\begin{tabular}{r|llllllll}\n",
       "  & baseMean & log2FoldChange & lfcSE & stat & pvalue & padj & plot & more\\_me\\_in\\\\\n",
       "  & <dbl> & <dbl> & <dbl> & <dbl> & <dbl> & <dbl> & <chr> & <chr>\\\\\n",
       "\\hline\n",
       "\tLOC111120752 &   0.9171026 & -0.47211850 & 0.7009473 & -0.3168833 & 0.7513321 & 1 & hypoxic\\_vs\\_control & not significant\\\\\n",
       "\tLOC111109452 &   1.3692365 &  0.45155837 & 0.7241066 &  0.2783545 & 0.7807402 & 1 & hypoxic\\_vs\\_control & not significant\\\\\n",
       "\tLOC111124802 & 160.7331187 &  0.01015871 & 0.1456254 &  0.0000000 & 1.0000000 & 1 & hypoxic\\_vs\\_control & not significant\\\\\n",
       "\tLOC111101273 &  55.0404755 & -0.12778328 & 0.1709562 &  0.0000000 & 1.0000000 & 1 & hypoxic\\_vs\\_control & not significant\\\\\n",
       "\tLOC111101250 &  77.7947775 & -0.20645216 & 0.1441565 &  0.0000000 & 1.0000000 & 1 & hypoxic\\_vs\\_control & not significant\\\\\n",
       "\tLOC111101262 & 188.9039051 &  0.01284188 & 0.1377824 &  0.0000000 & 1.0000000 & 1 & hypoxic\\_vs\\_control & not significant\\\\\n",
       "\\end{tabular}\n"
      ],
      "text/markdown": [
       "\n",
       "A data.frame: 6 × 8\n",
       "\n",
       "| <!--/--> | baseMean &lt;dbl&gt; | log2FoldChange &lt;dbl&gt; | lfcSE &lt;dbl&gt; | stat &lt;dbl&gt; | pvalue &lt;dbl&gt; | padj &lt;dbl&gt; | plot &lt;chr&gt; | more_me_in &lt;chr&gt; |\n",
       "|---|---|---|---|---|---|---|---|---|\n",
       "| LOC111120752 |   0.9171026 | -0.47211850 | 0.7009473 | -0.3168833 | 0.7513321 | 1 | hypoxic_vs_control | not significant |\n",
       "| LOC111109452 |   1.3692365 |  0.45155837 | 0.7241066 |  0.2783545 | 0.7807402 | 1 | hypoxic_vs_control | not significant |\n",
       "| LOC111124802 | 160.7331187 |  0.01015871 | 0.1456254 |  0.0000000 | 1.0000000 | 1 | hypoxic_vs_control | not significant |\n",
       "| LOC111101273 |  55.0404755 | -0.12778328 | 0.1709562 |  0.0000000 | 1.0000000 | 1 | hypoxic_vs_control | not significant |\n",
       "| LOC111101250 |  77.7947775 | -0.20645216 | 0.1441565 |  0.0000000 | 1.0000000 | 1 | hypoxic_vs_control | not significant |\n",
       "| LOC111101262 | 188.9039051 |  0.01284188 | 0.1377824 |  0.0000000 | 1.0000000 | 1 | hypoxic_vs_control | not significant |\n",
       "\n"
      ],
      "text/plain": [
       "             baseMean    log2FoldChange lfcSE     stat       pvalue    padj\n",
       "LOC111120752   0.9171026 -0.47211850    0.7009473 -0.3168833 0.7513321 1   \n",
       "LOC111109452   1.3692365  0.45155837    0.7241066  0.2783545 0.7807402 1   \n",
       "LOC111124802 160.7331187  0.01015871    0.1456254  0.0000000 1.0000000 1   \n",
       "LOC111101273  55.0404755 -0.12778328    0.1709562  0.0000000 1.0000000 1   \n",
       "LOC111101250  77.7947775 -0.20645216    0.1441565  0.0000000 1.0000000 1   \n",
       "LOC111101262 188.9039051  0.01284188    0.1377824  0.0000000 1.0000000 1   \n",
       "             plot               more_me_in     \n",
       "LOC111120752 hypoxic_vs_control not significant\n",
       "LOC111109452 hypoxic_vs_control not significant\n",
       "LOC111124802 hypoxic_vs_control not significant\n",
       "LOC111101273 hypoxic_vs_control not significant\n",
       "LOC111101250 hypoxic_vs_control not significant\n",
       "LOC111101262 hypoxic_vs_control not significant"
      ]
     },
     "metadata": {},
     "output_type": "display_data"
    }
   ],
   "source": [
    "# creating df of DESeq result\n",
    "p1hc_shrink <- as.data.frame(ls_p1hc)\n",
    "\n",
    "# adding column to denote that these are for hypoxic vs. control samples\n",
    "p1hc_shrink$plot <- 'hypoxic_vs_control'\n",
    "\n",
    "# adding column to tell us if this gene has more methylation in hypoxia or control\n",
    "p1hc_shrink$more_me_in <- ifelse(p1hc_shrink$log2FoldChange<0 & p1hc_shrink$padj < 0.05, \"control\", #neg ES = pathway for control\n",
    "                        ifelse(p1hc_shrink$log2FoldChange>0 & p1hc_shrink$padj < 0.05, \"hypoxia\", # pos ES = pathway for warm\n",
    "                               \"not significant\"))\n",
    "\n",
    "head(p1hc_shrink)"
   ]
  },
  {
   "cell_type": "code",
   "execution_count": 19,
   "id": "b56686fe-00e2-45ce-8924-35963e0a066c",
   "metadata": {},
   "outputs": [],
   "source": [
    "write.csv(p1hc_shrink, '/project/pi_sarah_gignouxwolfsohn_uml_edu/julia/CE_MethylRAD_analysis_2018/analysis/significant_genes/p1hc_lfc25_genes.csv')"
   ]
  },
  {
   "cell_type": "markdown",
   "id": "fc3cb172-f256-4a44-8a89-05bf9edd0569",
   "metadata": {},
   "source": [
    "now adding the two data frames together"
   ]
  },
  {
   "cell_type": "code",
   "execution_count": 20,
   "id": "b3385d4f-eacc-4445-b8b5-c27c0a5861ee",
   "metadata": {},
   "outputs": [
    {
     "data": {
      "text/html": [
       "<table class=\"dataframe\">\n",
       "<caption>A data.frame: 6 × 8</caption>\n",
       "<thead>\n",
       "\t<tr><th></th><th scope=col>baseMean</th><th scope=col>log2FoldChange</th><th scope=col>lfcSE</th><th scope=col>stat</th><th scope=col>pvalue</th><th scope=col>padj</th><th scope=col>plot</th><th scope=col>more_me_in</th></tr>\n",
       "\t<tr><th></th><th scope=col>&lt;dbl&gt;</th><th scope=col>&lt;dbl&gt;</th><th scope=col>&lt;dbl&gt;</th><th scope=col>&lt;dbl&gt;</th><th scope=col>&lt;dbl&gt;</th><th scope=col>&lt;dbl&gt;</th><th scope=col>&lt;chr&gt;</th><th scope=col>&lt;chr&gt;</th></tr>\n",
       "</thead>\n",
       "<tbody>\n",
       "\t<tr><th scope=row>LOC1111169411</th><td> 9.4281985</td><td> 1.2951418</td><td>0.6177018</td><td> 1.6919845</td><td>0.09064893</td><td>1</td><td>hypoxic_vs_control</td><td>not significant</td></tr>\n",
       "\t<tr><th scope=row>LOC1111175661</th><td> 2.0103277</td><td> 0.4575072</td><td>0.4862327</td><td> 0.4267652</td><td>0.66955039</td><td>1</td><td>hypoxic_vs_control</td><td>not significant</td></tr>\n",
       "\t<tr><th scope=row>LOC1111176891</th><td>20.3169059</td><td>-0.2189097</td><td>0.2553920</td><td> 0.0000000</td><td>1.00000000</td><td>1</td><td>hypoxic_vs_control</td><td>not significant</td></tr>\n",
       "\t<tr><th scope=row>LOC1111171201</th><td> 0.9885273</td><td>-0.4105955</td><td>0.6906943</td><td>-0.2325131</td><td>0.81613949</td><td>1</td><td>hypoxic_vs_control</td><td>not significant</td></tr>\n",
       "\t<tr><th scope=row>LOC1111171151</th><td> 0.3123175</td><td>-0.5419666</td><td>0.7202081</td><td>-0.4053920</td><td>0.68518943</td><td>1</td><td>hypoxic_vs_control</td><td>not significant</td></tr>\n",
       "\t<tr><th scope=row>LOC1111166031</th><td> 0.9944027</td><td>-0.1856000</td><td>0.6687666</td><td> 0.0000000</td><td>1.00000000</td><td>1</td><td>hypoxic_vs_control</td><td>not significant</td></tr>\n",
       "</tbody>\n",
       "</table>\n"
      ],
      "text/latex": [
       "A data.frame: 6 × 8\n",
       "\\begin{tabular}{r|llllllll}\n",
       "  & baseMean & log2FoldChange & lfcSE & stat & pvalue & padj & plot & more\\_me\\_in\\\\\n",
       "  & <dbl> & <dbl> & <dbl> & <dbl> & <dbl> & <dbl> & <chr> & <chr>\\\\\n",
       "\\hline\n",
       "\tLOC1111169411 &  9.4281985 &  1.2951418 & 0.6177018 &  1.6919845 & 0.09064893 & 1 & hypoxic\\_vs\\_control & not significant\\\\\n",
       "\tLOC1111175661 &  2.0103277 &  0.4575072 & 0.4862327 &  0.4267652 & 0.66955039 & 1 & hypoxic\\_vs\\_control & not significant\\\\\n",
       "\tLOC1111176891 & 20.3169059 & -0.2189097 & 0.2553920 &  0.0000000 & 1.00000000 & 1 & hypoxic\\_vs\\_control & not significant\\\\\n",
       "\tLOC1111171201 &  0.9885273 & -0.4105955 & 0.6906943 & -0.2325131 & 0.81613949 & 1 & hypoxic\\_vs\\_control & not significant\\\\\n",
       "\tLOC1111171151 &  0.3123175 & -0.5419666 & 0.7202081 & -0.4053920 & 0.68518943 & 1 & hypoxic\\_vs\\_control & not significant\\\\\n",
       "\tLOC1111166031 &  0.9944027 & -0.1856000 & 0.6687666 &  0.0000000 & 1.00000000 & 1 & hypoxic\\_vs\\_control & not significant\\\\\n",
       "\\end{tabular}\n"
      ],
      "text/markdown": [
       "\n",
       "A data.frame: 6 × 8\n",
       "\n",
       "| <!--/--> | baseMean &lt;dbl&gt; | log2FoldChange &lt;dbl&gt; | lfcSE &lt;dbl&gt; | stat &lt;dbl&gt; | pvalue &lt;dbl&gt; | padj &lt;dbl&gt; | plot &lt;chr&gt; | more_me_in &lt;chr&gt; |\n",
       "|---|---|---|---|---|---|---|---|---|\n",
       "| LOC1111169411 |  9.4281985 |  1.2951418 | 0.6177018 |  1.6919845 | 0.09064893 | 1 | hypoxic_vs_control | not significant |\n",
       "| LOC1111175661 |  2.0103277 |  0.4575072 | 0.4862327 |  0.4267652 | 0.66955039 | 1 | hypoxic_vs_control | not significant |\n",
       "| LOC1111176891 | 20.3169059 | -0.2189097 | 0.2553920 |  0.0000000 | 1.00000000 | 1 | hypoxic_vs_control | not significant |\n",
       "| LOC1111171201 |  0.9885273 | -0.4105955 | 0.6906943 | -0.2325131 | 0.81613949 | 1 | hypoxic_vs_control | not significant |\n",
       "| LOC1111171151 |  0.3123175 | -0.5419666 | 0.7202081 | -0.4053920 | 0.68518943 | 1 | hypoxic_vs_control | not significant |\n",
       "| LOC1111166031 |  0.9944027 | -0.1856000 | 0.6687666 |  0.0000000 | 1.00000000 | 1 | hypoxic_vs_control | not significant |\n",
       "\n"
      ],
      "text/plain": [
       "              baseMean   log2FoldChange lfcSE     stat       pvalue     padj\n",
       "LOC1111169411  9.4281985  1.2951418     0.6177018  1.6919845 0.09064893 1   \n",
       "LOC1111175661  2.0103277  0.4575072     0.4862327  0.4267652 0.66955039 1   \n",
       "LOC1111176891 20.3169059 -0.2189097     0.2553920  0.0000000 1.00000000 1   \n",
       "LOC1111171201  0.9885273 -0.4105955     0.6906943 -0.2325131 0.81613949 1   \n",
       "LOC1111171151  0.3123175 -0.5419666     0.7202081 -0.4053920 0.68518943 1   \n",
       "LOC1111166031  0.9944027 -0.1856000     0.6687666  0.0000000 1.00000000 1   \n",
       "              plot               more_me_in     \n",
       "LOC1111169411 hypoxic_vs_control not significant\n",
       "LOC1111175661 hypoxic_vs_control not significant\n",
       "LOC1111176891 hypoxic_vs_control not significant\n",
       "LOC1111171201 hypoxic_vs_control not significant\n",
       "LOC1111171151 hypoxic_vs_control not significant\n",
       "LOC1111166031 hypoxic_vs_control not significant"
      ]
     },
     "metadata": {},
     "output_type": "display_data"
    }
   ],
   "source": [
    "phase1 <- rbind(p1wc_shrink, p1hc_shrink)\n",
    "phase1<- na.omit(phase1)\n",
    "tail(phase1)"
   ]
  },
  {
   "cell_type": "code",
   "execution_count": 21,
   "id": "e0e6ddc0-ab10-40a9-a725-e4478561fa06",
   "metadata": {},
   "outputs": [],
   "source": [
    "write.csv(phase1, '/project/pi_sarah_gignouxwolfsohn_uml_edu/julia/CE_MethylRAD_analysis_2018/analysis/significant_genes/volcano_data/phase1_lasting_genes.csv')"
   ]
  },
  {
   "cell_type": "markdown",
   "id": "5dcc06ec-04e7-4345-9d1b-1e0e7244ed14",
   "metadata": {},
   "source": [
    "writing df of both analysis (phase 1 warm vs. control and phase 1 hypoxia vs. control) to a df - creating volcano plots in volcano_plots.ipynb file"
   ]
  },
  {
   "cell_type": "markdown",
   "id": "745b5ea3-fe0f-43fb-9502-9f0abb43787c",
   "metadata": {},
   "source": [
    "now doing the same thing for CE of hypoxia\n",
    "\n",
    "### **Effects of Phase 2, Given Phase 1**\n",
    "in other words - looking at:\n",
    "- phase 1 = control, phase 2 = hypoxia or control\n",
    "- phase 2 = hypoxia, phase 2 = hypoxia or control\n",
    "\n",
    "starting with **phase 1 = *control*** first"
   ]
  },
  {
   "cell_type": "code",
   "execution_count": 22,
   "id": "364de3d7-9d44-45d1-b97d-61f4665c1877",
   "metadata": {},
   "outputs": [
    {
     "data": {
      "text/html": [
       "<table class=\"dataframe\">\n",
       "<caption>A data.frame: 6 × 2</caption>\n",
       "<thead>\n",
       "\t<tr><th></th><th scope=col>Phase1</th><th scope=col>Phase2</th></tr>\n",
       "\t<tr><th></th><th scope=col>&lt;chr&gt;</th><th scope=col>&lt;chr&gt;</th></tr>\n",
       "</thead>\n",
       "<tbody>\n",
       "\t<tr><th scope=row>WBB-WBV-W69</th><td>control</td><td>control</td></tr>\n",
       "\t<tr><th scope=row>WBG-BBB-W56</th><td>control</td><td>hypoxic</td></tr>\n",
       "\t<tr><th scope=row>WBG-WBG-W44</th><td>control</td><td>control</td></tr>\n",
       "\t<tr><th scope=row>WBO-BBR-W03</th><td>control</td><td>hypoxic</td></tr>\n",
       "\t<tr><th scope=row>WBO-WBV-W64</th><td>control</td><td>control</td></tr>\n",
       "\t<tr><th scope=row>WBR-BBY-W25</th><td>control</td><td>hypoxic</td></tr>\n",
       "</tbody>\n",
       "</table>\n"
      ],
      "text/latex": [
       "A data.frame: 6 × 2\n",
       "\\begin{tabular}{r|ll}\n",
       "  & Phase1 & Phase2\\\\\n",
       "  & <chr> & <chr>\\\\\n",
       "\\hline\n",
       "\tWBB-WBV-W69 & control & control\\\\\n",
       "\tWBG-BBB-W56 & control & hypoxic\\\\\n",
       "\tWBG-WBG-W44 & control & control\\\\\n",
       "\tWBO-BBR-W03 & control & hypoxic\\\\\n",
       "\tWBO-WBV-W64 & control & control\\\\\n",
       "\tWBR-BBY-W25 & control & hypoxic\\\\\n",
       "\\end{tabular}\n"
      ],
      "text/markdown": [
       "\n",
       "A data.frame: 6 × 2\n",
       "\n",
       "| <!--/--> | Phase1 &lt;chr&gt; | Phase2 &lt;chr&gt; |\n",
       "|---|---|---|\n",
       "| WBB-WBV-W69 | control | control |\n",
       "| WBG-BBB-W56 | control | hypoxic |\n",
       "| WBG-WBG-W44 | control | control |\n",
       "| WBO-BBR-W03 | control | hypoxic |\n",
       "| WBO-WBV-W64 | control | control |\n",
       "| WBR-BBY-W25 | control | hypoxic |\n",
       "\n"
      ],
      "text/plain": [
       "            Phase1  Phase2 \n",
       "WBB-WBV-W69 control control\n",
       "WBG-BBB-W56 control hypoxic\n",
       "WBG-WBG-W44 control control\n",
       "WBO-BBR-W03 control hypoxic\n",
       "WBO-WBV-W64 control control\n",
       "WBR-BBY-W25 control hypoxic"
      ]
     },
     "metadata": {},
     "output_type": "display_data"
    },
    {
     "data": {
      "text/html": [
       "<table class=\"dataframe\">\n",
       "<caption>A data.frame: 6 × 10</caption>\n",
       "<thead>\n",
       "\t<tr><th></th><th scope=col>WBB-WBV-W69</th><th scope=col>WBG-BBB-W56</th><th scope=col>WBG-WBG-W44</th><th scope=col>WBO-BBR-W03</th><th scope=col>WBO-WBV-W64</th><th scope=col>WBR-BBY-W25</th><th scope=col>WBV-WBO-W23</th><th scope=col>WBV-WBR-W12</th><th scope=col>WBY-BBV-W65</th><th scope=col>WBY-BBY-W30</th></tr>\n",
       "\t<tr><th></th><th scope=col>&lt;int&gt;</th><th scope=col>&lt;int&gt;</th><th scope=col>&lt;int&gt;</th><th scope=col>&lt;int&gt;</th><th scope=col>&lt;int&gt;</th><th scope=col>&lt;int&gt;</th><th scope=col>&lt;int&gt;</th><th scope=col>&lt;int&gt;</th><th scope=col>&lt;int&gt;</th><th scope=col>&lt;int&gt;</th></tr>\n",
       "</thead>\n",
       "<tbody>\n",
       "\t<tr><th scope=row>LOC111120752</th><td>  3</td><td>  1</td><td>  0</td><td> 0</td><td>  1</td><td>  0</td><td>  0</td><td> 0</td><td>  0</td><td>  1</td></tr>\n",
       "\t<tr><th scope=row>LOC111109452</th><td>  0</td><td>  1</td><td>  0</td><td> 0</td><td>  7</td><td>  0</td><td>  1</td><td> 0</td><td>  1</td><td>  2</td></tr>\n",
       "\t<tr><th scope=row>LOC111124802</th><td>418</td><td>455</td><td> 76</td><td>20</td><td>305</td><td>122</td><td>120</td><td>57</td><td>289</td><td>202</td></tr>\n",
       "\t<tr><th scope=row>LOC111101273</th><td>132</td><td>127</td><td> 49</td><td> 8</td><td>143</td><td> 43</td><td> 45</td><td>18</td><td> 87</td><td> 81</td></tr>\n",
       "\t<tr><th scope=row>LOC111101250</th><td>212</td><td>261</td><td> 56</td><td> 7</td><td>201</td><td> 91</td><td> 96</td><td>24</td><td>254</td><td>109</td></tr>\n",
       "\t<tr><th scope=row>LOC111101262</th><td>453</td><td>485</td><td>102</td><td>40</td><td>422</td><td>184</td><td>146</td><td>52</td><td>387</td><td>251</td></tr>\n",
       "</tbody>\n",
       "</table>\n"
      ],
      "text/latex": [
       "A data.frame: 6 × 10\n",
       "\\begin{tabular}{r|llllllllll}\n",
       "  & WBB-WBV-W69 & WBG-BBB-W56 & WBG-WBG-W44 & WBO-BBR-W03 & WBO-WBV-W64 & WBR-BBY-W25 & WBV-WBO-W23 & WBV-WBR-W12 & WBY-BBV-W65 & WBY-BBY-W30\\\\\n",
       "  & <int> & <int> & <int> & <int> & <int> & <int> & <int> & <int> & <int> & <int>\\\\\n",
       "\\hline\n",
       "\tLOC111120752 &   3 &   1 &   0 &  0 &   1 &   0 &   0 &  0 &   0 &   1\\\\\n",
       "\tLOC111109452 &   0 &   1 &   0 &  0 &   7 &   0 &   1 &  0 &   1 &   2\\\\\n",
       "\tLOC111124802 & 418 & 455 &  76 & 20 & 305 & 122 & 120 & 57 & 289 & 202\\\\\n",
       "\tLOC111101273 & 132 & 127 &  49 &  8 & 143 &  43 &  45 & 18 &  87 &  81\\\\\n",
       "\tLOC111101250 & 212 & 261 &  56 &  7 & 201 &  91 &  96 & 24 & 254 & 109\\\\\n",
       "\tLOC111101262 & 453 & 485 & 102 & 40 & 422 & 184 & 146 & 52 & 387 & 251\\\\\n",
       "\\end{tabular}\n"
      ],
      "text/markdown": [
       "\n",
       "A data.frame: 6 × 10\n",
       "\n",
       "| <!--/--> | WBB-WBV-W69 &lt;int&gt; | WBG-BBB-W56 &lt;int&gt; | WBG-WBG-W44 &lt;int&gt; | WBO-BBR-W03 &lt;int&gt; | WBO-WBV-W64 &lt;int&gt; | WBR-BBY-W25 &lt;int&gt; | WBV-WBO-W23 &lt;int&gt; | WBV-WBR-W12 &lt;int&gt; | WBY-BBV-W65 &lt;int&gt; | WBY-BBY-W30 &lt;int&gt; |\n",
       "|---|---|---|---|---|---|---|---|---|---|---|\n",
       "| LOC111120752 |   3 |   1 |   0 |  0 |   1 |   0 |   0 |  0 |   0 |   1 |\n",
       "| LOC111109452 |   0 |   1 |   0 |  0 |   7 |   0 |   1 |  0 |   1 |   2 |\n",
       "| LOC111124802 | 418 | 455 |  76 | 20 | 305 | 122 | 120 | 57 | 289 | 202 |\n",
       "| LOC111101273 | 132 | 127 |  49 |  8 | 143 |  43 |  45 | 18 |  87 |  81 |\n",
       "| LOC111101250 | 212 | 261 |  56 |  7 | 201 |  91 |  96 | 24 | 254 | 109 |\n",
       "| LOC111101262 | 453 | 485 | 102 | 40 | 422 | 184 | 146 | 52 | 387 | 251 |\n",
       "\n"
      ],
      "text/plain": [
       "             WBB-WBV-W69 WBG-BBB-W56 WBG-WBG-W44 WBO-BBR-W03 WBO-WBV-W64\n",
       "LOC111120752   3           1           0          0            1        \n",
       "LOC111109452   0           1           0          0            7        \n",
       "LOC111124802 418         455          76         20          305        \n",
       "LOC111101273 132         127          49          8          143        \n",
       "LOC111101250 212         261          56          7          201        \n",
       "LOC111101262 453         485         102         40          422        \n",
       "             WBR-BBY-W25 WBV-WBO-W23 WBV-WBR-W12 WBY-BBV-W65 WBY-BBY-W30\n",
       "LOC111120752   0           0          0            0           1        \n",
       "LOC111109452   0           1          0            1           2        \n",
       "LOC111124802 122         120         57          289         202        \n",
       "LOC111101273  43          45         18           87          81        \n",
       "LOC111101250  91          96         24          254         109        \n",
       "LOC111101262 184         146         52          387         251        "
      ]
     },
     "metadata": {},
     "output_type": "display_data"
    }
   ],
   "source": [
    "# first need to filter for samples that were control for phase 1\n",
    "p1_control <- filter(meta, meta$Phase1 == 'control')\n",
    "head(p1_control)\n",
    "\n",
    "# now select those same samples out of the counts matrix\n",
    "p1c_counts <- counts2[,colnames(counts2) %in% rownames(p1_control)]\n",
    "head(p1c_counts)"
   ]
  },
  {
   "cell_type": "markdown",
   "id": "d45f3990-2517-4dc3-b872-a96a6f4435eb",
   "metadata": {},
   "source": [
    "both have 6 samples, so they match and we're good to move on to the DESeq analysis"
   ]
  },
  {
   "cell_type": "code",
   "execution_count": 23,
   "id": "6bb781b5-2178-4e8e-829b-eb2170c60cb8",
   "metadata": {},
   "outputs": [
    {
     "name": "stderr",
     "output_type": "stream",
     "text": [
      "Warning message in DESeqDataSet(se, design = design, ignoreRank):\n",
      "“some variables in design formula are characters, converting to factors”\n",
      "estimating size factors\n",
      "\n",
      "estimating dispersions\n",
      "\n",
      "gene-wise dispersion estimates\n",
      "\n",
      "mean-dispersion relationship\n",
      "\n",
      "-- note: fitType='parametric', but the dispersion trend was not well captured by the\n",
      "   function: y = a/x + b, and a local regression fit was automatically substituted.\n",
      "   specify fitType='local' or 'mean' to avoid this message next time.\n",
      "\n",
      "final dispersion estimates\n",
      "\n",
      "fitting model and testing\n",
      "\n"
     ]
    },
    {
     "data": {
      "text/html": [
       "<style>\n",
       ".list-inline {list-style: none; margin:0; padding: 0}\n",
       ".list-inline>li {display: inline-block}\n",
       ".list-inline>li:not(:last-child)::after {content: \"\\00b7\"; padding: 0 .5ex}\n",
       "</style>\n",
       "<ol class=list-inline><li>'Intercept'</li><li>'Phase2_hypoxic_vs_control'</li></ol>\n"
      ],
      "text/latex": [
       "\\begin{enumerate*}\n",
       "\\item 'Intercept'\n",
       "\\item 'Phase2\\_hypoxic\\_vs\\_control'\n",
       "\\end{enumerate*}\n"
      ],
      "text/markdown": [
       "1. 'Intercept'\n",
       "2. 'Phase2_hypoxic_vs_control'\n",
       "\n",
       "\n"
      ],
      "text/plain": [
       "[1] \"Intercept\"                 \"Phase2_hypoxic_vs_control\""
      ]
     },
     "metadata": {},
     "output_type": "display_data"
    }
   ],
   "source": [
    "# creating DESeq2 objext from the matrix, with the design = treatment (which has both phase 1 and phase 2 variables)\n",
    "p1c_dds <- DESeqDataSetFromMatrix(countData = p1c_counts,\n",
    "                              colData = p1_control, \n",
    "                              design = ~ Phase2)\n",
    "p1c_dds=DESeq(p1c_dds)\n",
    "resultsNames(p1c_dds)"
   ]
  },
  {
   "cell_type": "code",
   "execution_count": 24,
   "id": "ee3d32c2-7cee-4bc2-9a76-a6addfb5ad59",
   "metadata": {},
   "outputs": [
    {
     "name": "stderr",
     "output_type": "stream",
     "text": [
      "using 'normal' for LFC shrinkage, the Normal prior from Love et al (2014).\n",
      "\n",
      "Note that type='apeglm' and type='ashr' have shown to have less bias than type='normal'.\n",
      "See ?lfcShrink for more details on shrinkage type, and the DESeq2 vignette.\n",
      "Reference: https://doi.org/10.1093/bioinformatics/bty895\n",
      "\n"
     ]
    },
    {
     "name": "stdout",
     "output_type": "stream",
     "text": [
      "\n",
      "out of 13274 with nonzero total read count\n",
      "adjusted p-value < 0.1\n",
      "LFC > 0.25 (up)    : 1, 0.0075%\n",
      "LFC < -0.25 (down) : 0, 0%\n",
      "outliers [1]       : 175, 1.3%\n",
      "low counts [2]     : 0, 0%\n",
      "(mean count < 1)\n",
      "[1] see 'cooksCutoff' argument of ?results\n",
      "[2] see 'independentFiltering' argument of ?results\n",
      "\n"
     ]
    },
    {
     "data": {
      "image/png": "[encoded data removed]",
      "text/plain": [
       "plot without title"
      ]
     },
     "metadata": {
      "image/png": {
       "height": 420,
       "width": 420
      }
     },
     "output_type": "display_data"
    }
   ],
   "source": [
    "contrast2 <- c(\"Phase2\", \"hypoxic\", \"control\")\n",
    "\n",
    "# results of contrast1 with lfcThreshold=0.25 and normal shrinkage estimator\n",
    "ls_p1c<-lfcShrink(p1c_dds, # dds object\n",
    "                      contrast = contrast2, # only coef or contrast can be specified\n",
    "                      type=\"normal\", lfcThreshold=0.25,\n",
    "                      cooksCutoff=FALSE, independentFiltering=FALSE) # adding stuff to change outliers/padj=NA\n",
    "summary(ls_p1c)\n",
    "\n",
    "EnhancedVolcano(ls_p1c, \n",
    "                lab=NA,\n",
    "                x = 'log2FoldChange',\n",
    "                y='padj',\n",
    "                pCutoff=0.05)"
   ]
  },
  {
   "cell_type": "code",
   "execution_count": 25,
   "id": "8ae05fe3-3d16-4d37-991d-73307faa0d2d",
   "metadata": {},
   "outputs": [
    {
     "data": {
      "text/html": [
       "<table class=\"dataframe\">\n",
       "<caption>A data.frame: 6 × 8</caption>\n",
       "<thead>\n",
       "\t<tr><th></th><th scope=col>baseMean</th><th scope=col>log2FoldChange</th><th scope=col>lfcSE</th><th scope=col>stat</th><th scope=col>pvalue</th><th scope=col>padj</th><th scope=col>phase1</th><th scope=col>more_me_in</th></tr>\n",
       "\t<tr><th></th><th scope=col>&lt;dbl&gt;</th><th scope=col>&lt;dbl&gt;</th><th scope=col>&lt;dbl&gt;</th><th scope=col>&lt;dbl&gt;</th><th scope=col>&lt;dbl&gt;</th><th scope=col>&lt;dbl&gt;</th><th scope=col>&lt;chr&gt;</th><th scope=col>&lt;chr&gt;</th></tr>\n",
       "</thead>\n",
       "<tbody>\n",
       "\t<tr><th scope=row>LOC111120752</th><td>  0.2502286</td><td>-0.01831450</td><td>0.1324564</td><td> 0.00000000</td><td>1.0000000</td><td>1</td><td>control</td><td>not significant</td></tr>\n",
       "\t<tr><th scope=row>LOC111109452</th><td>  0.6276346</td><td>-0.06431818</td><td>0.1758236</td><td> 0.00000000</td><td>1.0000000</td><td>1</td><td>control</td><td>not significant</td></tr>\n",
       "\t<tr><th scope=row>LOC111124802</th><td>143.4993752</td><td> 0.01425287</td><td>0.1425472</td><td> 0.00000000</td><td>1.0000000</td><td>1</td><td>control</td><td>not significant</td></tr>\n",
       "\t<tr><th scope=row>LOC111101273</th><td> 54.3974633</td><td>-0.25915086</td><td>0.1971998</td><td>-0.04640401</td><td>0.9629882</td><td>1</td><td>control</td><td>not significant</td></tr>\n",
       "\t<tr><th scope=row>LOC111101250</th><td> 88.6108831</td><td> 0.06661223</td><td>0.1889832</td><td> 0.00000000</td><td>1.0000000</td><td>1</td><td>control</td><td>not significant</td></tr>\n",
       "\t<tr><th scope=row>LOC111101262</th><td>182.2669054</td><td> 0.15981376</td><td>0.1181916</td><td> 0.00000000</td><td>1.0000000</td><td>1</td><td>control</td><td>not significant</td></tr>\n",
       "</tbody>\n",
       "</table>\n"
      ],
      "text/latex": [
       "A data.frame: 6 × 8\n",
       "\\begin{tabular}{r|llllllll}\n",
       "  & baseMean & log2FoldChange & lfcSE & stat & pvalue & padj & phase1 & more\\_me\\_in\\\\\n",
       "  & <dbl> & <dbl> & <dbl> & <dbl> & <dbl> & <dbl> & <chr> & <chr>\\\\\n",
       "\\hline\n",
       "\tLOC111120752 &   0.2502286 & -0.01831450 & 0.1324564 &  0.00000000 & 1.0000000 & 1 & control & not significant\\\\\n",
       "\tLOC111109452 &   0.6276346 & -0.06431818 & 0.1758236 &  0.00000000 & 1.0000000 & 1 & control & not significant\\\\\n",
       "\tLOC111124802 & 143.4993752 &  0.01425287 & 0.1425472 &  0.00000000 & 1.0000000 & 1 & control & not significant\\\\\n",
       "\tLOC111101273 &  54.3974633 & -0.25915086 & 0.1971998 & -0.04640401 & 0.9629882 & 1 & control & not significant\\\\\n",
       "\tLOC111101250 &  88.6108831 &  0.06661223 & 0.1889832 &  0.00000000 & 1.0000000 & 1 & control & not significant\\\\\n",
       "\tLOC111101262 & 182.2669054 &  0.15981376 & 0.1181916 &  0.00000000 & 1.0000000 & 1 & control & not significant\\\\\n",
       "\\end{tabular}\n"
      ],
      "text/markdown": [
       "\n",
       "A data.frame: 6 × 8\n",
       "\n",
       "| <!--/--> | baseMean &lt;dbl&gt; | log2FoldChange &lt;dbl&gt; | lfcSE &lt;dbl&gt; | stat &lt;dbl&gt; | pvalue &lt;dbl&gt; | padj &lt;dbl&gt; | phase1 &lt;chr&gt; | more_me_in &lt;chr&gt; |\n",
       "|---|---|---|---|---|---|---|---|---|\n",
       "| LOC111120752 |   0.2502286 | -0.01831450 | 0.1324564 |  0.00000000 | 1.0000000 | 1 | control | not significant |\n",
       "| LOC111109452 |   0.6276346 | -0.06431818 | 0.1758236 |  0.00000000 | 1.0000000 | 1 | control | not significant |\n",
       "| LOC111124802 | 143.4993752 |  0.01425287 | 0.1425472 |  0.00000000 | 1.0000000 | 1 | control | not significant |\n",
       "| LOC111101273 |  54.3974633 | -0.25915086 | 0.1971998 | -0.04640401 | 0.9629882 | 1 | control | not significant |\n",
       "| LOC111101250 |  88.6108831 |  0.06661223 | 0.1889832 |  0.00000000 | 1.0000000 | 1 | control | not significant |\n",
       "| LOC111101262 | 182.2669054 |  0.15981376 | 0.1181916 |  0.00000000 | 1.0000000 | 1 | control | not significant |\n",
       "\n"
      ],
      "text/plain": [
       "             baseMean    log2FoldChange lfcSE     stat        pvalue    padj\n",
       "LOC111120752   0.2502286 -0.01831450    0.1324564  0.00000000 1.0000000 1   \n",
       "LOC111109452   0.6276346 -0.06431818    0.1758236  0.00000000 1.0000000 1   \n",
       "LOC111124802 143.4993752  0.01425287    0.1425472  0.00000000 1.0000000 1   \n",
       "LOC111101273  54.3974633 -0.25915086    0.1971998 -0.04640401 0.9629882 1   \n",
       "LOC111101250  88.6108831  0.06661223    0.1889832  0.00000000 1.0000000 1   \n",
       "LOC111101262 182.2669054  0.15981376    0.1181916  0.00000000 1.0000000 1   \n",
       "             phase1  more_me_in     \n",
       "LOC111120752 control not significant\n",
       "LOC111109452 control not significant\n",
       "LOC111124802 control not significant\n",
       "LOC111101273 control not significant\n",
       "LOC111101250 control not significant\n",
       "LOC111101262 control not significant"
      ]
     },
     "metadata": {},
     "output_type": "display_data"
    }
   ],
   "source": [
    "# creating df of DESeq result\n",
    "p1c_shrink <- as.data.frame(ls_p1c)\n",
    "\n",
    "# adding column to denote that these are for warm vs. control samples\n",
    "p1c_shrink$phase1 <- 'control'\n",
    "\n",
    "# adding column to tell us if this gene has more methylation in warming or control\n",
    "p1c_shrink$more_me_in <- ifelse(p1c_shrink$log2FoldChange<0 & p1c_shrink$padj < 0.05, \"control\", #neg ES = pathway for control\n",
    "                        ifelse(p1c_shrink$log2FoldChange>0 & p1c_shrink$padj < 0.05, \"hypoxic\", # pos ES = pathway for warm\n",
    "                               \"not significant\"))\n",
    "\n",
    "head(p1c_shrink)"
   ]
  },
  {
   "cell_type": "code",
   "execution_count": 26,
   "id": "387af90b-35bf-4f3f-b21b-44bf9bcefce7",
   "metadata": {},
   "outputs": [],
   "source": [
    "write.csv(p1c_shrink, '/project/pi_sarah_gignouxwolfsohn_uml_edu/julia/CE_MethylRAD_analysis_2018/analysis/significant_genes/p1control_p2hc_genes.csv')"
   ]
  },
  {
   "cell_type": "markdown",
   "id": "aa52da3f-5b71-4630-8add-5d116e879042",
   "metadata": {},
   "source": [
    "now doing the same thing but for **phase 1 = *hypoxic***"
   ]
  },
  {
   "cell_type": "code",
   "execution_count": 27,
   "id": "b94bfeb8-1024-4c95-bd1b-86b8f933a0d2",
   "metadata": {},
   "outputs": [
    {
     "data": {
      "text/html": [
       "<table class=\"dataframe\">\n",
       "<caption>A data.frame: 6 × 2</caption>\n",
       "<thead>\n",
       "\t<tr><th></th><th scope=col>Phase1</th><th scope=col>Phase2</th></tr>\n",
       "\t<tr><th></th><th scope=col>&lt;chr&gt;</th><th scope=col>&lt;chr&gt;</th></tr>\n",
       "</thead>\n",
       "<tbody>\n",
       "\t<tr><th scope=row>BBB-WBO-B21</th><td>hypoxic</td><td>control</td></tr>\n",
       "\t<tr><th scope=row>BBB-WBV-B70</th><td>hypoxic</td><td>control</td></tr>\n",
       "\t<tr><th scope=row>BBO-BBO-B16</th><td>hypoxic</td><td>hypoxic</td></tr>\n",
       "\t<tr><th scope=row>BBO-BBY-B27</th><td>hypoxic</td><td>hypoxic</td></tr>\n",
       "\t<tr><th scope=row>BBO-WBO-B16</th><td>hypoxic</td><td>control</td></tr>\n",
       "\t<tr><th scope=row>BBO-WBV-B64</th><td>hypoxic</td><td>control</td></tr>\n",
       "</tbody>\n",
       "</table>\n"
      ],
      "text/latex": [
       "A data.frame: 6 × 2\n",
       "\\begin{tabular}{r|ll}\n",
       "  & Phase1 & Phase2\\\\\n",
       "  & <chr> & <chr>\\\\\n",
       "\\hline\n",
       "\tBBB-WBO-B21 & hypoxic & control\\\\\n",
       "\tBBB-WBV-B70 & hypoxic & control\\\\\n",
       "\tBBO-BBO-B16 & hypoxic & hypoxic\\\\\n",
       "\tBBO-BBY-B27 & hypoxic & hypoxic\\\\\n",
       "\tBBO-WBO-B16 & hypoxic & control\\\\\n",
       "\tBBO-WBV-B64 & hypoxic & control\\\\\n",
       "\\end{tabular}\n"
      ],
      "text/markdown": [
       "\n",
       "A data.frame: 6 × 2\n",
       "\n",
       "| <!--/--> | Phase1 &lt;chr&gt; | Phase2 &lt;chr&gt; |\n",
       "|---|---|---|\n",
       "| BBB-WBO-B21 | hypoxic | control |\n",
       "| BBB-WBV-B70 | hypoxic | control |\n",
       "| BBO-BBO-B16 | hypoxic | hypoxic |\n",
       "| BBO-BBY-B27 | hypoxic | hypoxic |\n",
       "| BBO-WBO-B16 | hypoxic | control |\n",
       "| BBO-WBV-B64 | hypoxic | control |\n",
       "\n"
      ],
      "text/plain": [
       "            Phase1  Phase2 \n",
       "BBB-WBO-B21 hypoxic control\n",
       "BBB-WBV-B70 hypoxic control\n",
       "BBO-BBO-B16 hypoxic hypoxic\n",
       "BBO-BBY-B27 hypoxic hypoxic\n",
       "BBO-WBO-B16 hypoxic control\n",
       "BBO-WBV-B64 hypoxic control"
      ]
     },
     "metadata": {},
     "output_type": "display_data"
    },
    {
     "data": {
      "text/html": [
       "<table class=\"dataframe\">\n",
       "<caption>A data.frame: 6 × 10</caption>\n",
       "<thead>\n",
       "\t<tr><th></th><th scope=col>BBB-WBO-B21</th><th scope=col>BBB-WBV-B70</th><th scope=col>BBO-BBO-B16</th><th scope=col>BBO-BBY-B27</th><th scope=col>BBO-WBO-B16</th><th scope=col>BBO-WBV-B64</th><th scope=col>BBR-BBB-B50</th><th scope=col>BBR-BBG-B38</th><th scope=col>BBR-BBY-B26</th><th scope=col>BBY-WBG-B42</th></tr>\n",
       "\t<tr><th></th><th scope=col>&lt;int&gt;</th><th scope=col>&lt;int&gt;</th><th scope=col>&lt;int&gt;</th><th scope=col>&lt;int&gt;</th><th scope=col>&lt;int&gt;</th><th scope=col>&lt;int&gt;</th><th scope=col>&lt;int&gt;</th><th scope=col>&lt;int&gt;</th><th scope=col>&lt;int&gt;</th><th scope=col>&lt;int&gt;</th></tr>\n",
       "</thead>\n",
       "<tbody>\n",
       "\t<tr><th scope=row>LOC111120752</th><td>  2</td><td>  2</td><td>  0</td><td>  0</td><td>  2</td><td>  0</td><td>  0</td><td>  0</td><td>  1</td><td>  0</td></tr>\n",
       "\t<tr><th scope=row>LOC111109452</th><td>  0</td><td>  0</td><td>  0</td><td>  0</td><td>  1</td><td>  1</td><td> 10</td><td> 12</td><td>  0</td><td>  2</td></tr>\n",
       "\t<tr><th scope=row>LOC111124802</th><td>597</td><td>453</td><td>408</td><td>244</td><td>502</td><td>434</td><td>187</td><td>336</td><td>311</td><td>110</td></tr>\n",
       "\t<tr><th scope=row>LOC111101273</th><td>173</td><td>146</td><td>115</td><td> 75</td><td>171</td><td>158</td><td> 64</td><td>115</td><td>137</td><td> 45</td></tr>\n",
       "\t<tr><th scope=row>LOC111101250</th><td>253</td><td>255</td><td>257</td><td>118</td><td>327</td><td>269</td><td>115</td><td>141</td><td>184</td><td> 49</td></tr>\n",
       "\t<tr><th scope=row>LOC111101262</th><td>645</td><td>634</td><td>502</td><td>364</td><td>647</td><td>677</td><td>246</td><td>389</td><td>355</td><td>108</td></tr>\n",
       "</tbody>\n",
       "</table>\n"
      ],
      "text/latex": [
       "A data.frame: 6 × 10\n",
       "\\begin{tabular}{r|llllllllll}\n",
       "  & BBB-WBO-B21 & BBB-WBV-B70 & BBO-BBO-B16 & BBO-BBY-B27 & BBO-WBO-B16 & BBO-WBV-B64 & BBR-BBB-B50 & BBR-BBG-B38 & BBR-BBY-B26 & BBY-WBG-B42\\\\\n",
       "  & <int> & <int> & <int> & <int> & <int> & <int> & <int> & <int> & <int> & <int>\\\\\n",
       "\\hline\n",
       "\tLOC111120752 &   2 &   2 &   0 &   0 &   2 &   0 &   0 &   0 &   1 &   0\\\\\n",
       "\tLOC111109452 &   0 &   0 &   0 &   0 &   1 &   1 &  10 &  12 &   0 &   2\\\\\n",
       "\tLOC111124802 & 597 & 453 & 408 & 244 & 502 & 434 & 187 & 336 & 311 & 110\\\\\n",
       "\tLOC111101273 & 173 & 146 & 115 &  75 & 171 & 158 &  64 & 115 & 137 &  45\\\\\n",
       "\tLOC111101250 & 253 & 255 & 257 & 118 & 327 & 269 & 115 & 141 & 184 &  49\\\\\n",
       "\tLOC111101262 & 645 & 634 & 502 & 364 & 647 & 677 & 246 & 389 & 355 & 108\\\\\n",
       "\\end{tabular}\n"
      ],
      "text/markdown": [
       "\n",
       "A data.frame: 6 × 10\n",
       "\n",
       "| <!--/--> | BBB-WBO-B21 &lt;int&gt; | BBB-WBV-B70 &lt;int&gt; | BBO-BBO-B16 &lt;int&gt; | BBO-BBY-B27 &lt;int&gt; | BBO-WBO-B16 &lt;int&gt; | BBO-WBV-B64 &lt;int&gt; | BBR-BBB-B50 &lt;int&gt; | BBR-BBG-B38 &lt;int&gt; | BBR-BBY-B26 &lt;int&gt; | BBY-WBG-B42 &lt;int&gt; |\n",
       "|---|---|---|---|---|---|---|---|---|---|---|\n",
       "| LOC111120752 |   2 |   2 |   0 |   0 |   2 |   0 |   0 |   0 |   1 |   0 |\n",
       "| LOC111109452 |   0 |   0 |   0 |   0 |   1 |   1 |  10 |  12 |   0 |   2 |\n",
       "| LOC111124802 | 597 | 453 | 408 | 244 | 502 | 434 | 187 | 336 | 311 | 110 |\n",
       "| LOC111101273 | 173 | 146 | 115 |  75 | 171 | 158 |  64 | 115 | 137 |  45 |\n",
       "| LOC111101250 | 253 | 255 | 257 | 118 | 327 | 269 | 115 | 141 | 184 |  49 |\n",
       "| LOC111101262 | 645 | 634 | 502 | 364 | 647 | 677 | 246 | 389 | 355 | 108 |\n",
       "\n"
      ],
      "text/plain": [
       "             BBB-WBO-B21 BBB-WBV-B70 BBO-BBO-B16 BBO-BBY-B27 BBO-WBO-B16\n",
       "LOC111120752   2           2           0           0           2        \n",
       "LOC111109452   0           0           0           0           1        \n",
       "LOC111124802 597         453         408         244         502        \n",
       "LOC111101273 173         146         115          75         171        \n",
       "LOC111101250 253         255         257         118         327        \n",
       "LOC111101262 645         634         502         364         647        \n",
       "             BBO-WBV-B64 BBR-BBB-B50 BBR-BBG-B38 BBR-BBY-B26 BBY-WBG-B42\n",
       "LOC111120752   0           0           0           1           0        \n",
       "LOC111109452   1          10          12           0           2        \n",
       "LOC111124802 434         187         336         311         110        \n",
       "LOC111101273 158          64         115         137          45        \n",
       "LOC111101250 269         115         141         184          49        \n",
       "LOC111101262 677         246         389         355         108        "
      ]
     },
     "metadata": {},
     "output_type": "display_data"
    }
   ],
   "source": [
    "# first need to filter for samples that were control for phase 1\n",
    "p1_hypoxia <- filter(meta, meta$Phase1 == 'hypoxic')\n",
    "head(p1_hypoxia)\n",
    "\n",
    "# now select those same samples out of the counts matrix\n",
    "p1h_counts <- counts2[,colnames(counts2) %in% rownames(p1_hypoxia)]\n",
    "head(p1h_counts)"
   ]
  },
  {
   "cell_type": "markdown",
   "id": "b2be6236-aa21-46d4-85eb-712fc9fc50df",
   "metadata": {},
   "source": [
    "both have 6 samples, so they match and we're good to move on to the DESeq analysis"
   ]
  },
  {
   "cell_type": "code",
   "execution_count": 28,
   "id": "8f1612e5-bbdc-4376-8a19-960602f8750b",
   "metadata": {},
   "outputs": [
    {
     "name": "stderr",
     "output_type": "stream",
     "text": [
      "Warning message in DESeqDataSet(se, design = design, ignoreRank):\n",
      "“some variables in design formula are characters, converting to factors”\n",
      "estimating size factors\n",
      "\n",
      "estimating dispersions\n",
      "\n",
      "gene-wise dispersion estimates\n",
      "\n",
      "mean-dispersion relationship\n",
      "\n",
      "-- note: fitType='parametric', but the dispersion trend was not well captured by the\n",
      "   function: y = a/x + b, and a local regression fit was automatically substituted.\n",
      "   specify fitType='local' or 'mean' to avoid this message next time.\n",
      "\n",
      "final dispersion estimates\n",
      "\n",
      "fitting model and testing\n",
      "\n"
     ]
    },
    {
     "data": {
      "text/html": [
       "<style>\n",
       ".list-inline {list-style: none; margin:0; padding: 0}\n",
       ".list-inline>li {display: inline-block}\n",
       ".list-inline>li:not(:last-child)::after {content: \"\\00b7\"; padding: 0 .5ex}\n",
       "</style>\n",
       "<ol class=list-inline><li>'Intercept'</li><li>'Phase2_hypoxic_vs_control'</li></ol>\n"
      ],
      "text/latex": [
       "\\begin{enumerate*}\n",
       "\\item 'Intercept'\n",
       "\\item 'Phase2\\_hypoxic\\_vs\\_control'\n",
       "\\end{enumerate*}\n"
      ],
      "text/markdown": [
       "1. 'Intercept'\n",
       "2. 'Phase2_hypoxic_vs_control'\n",
       "\n",
       "\n"
      ],
      "text/plain": [
       "[1] \"Intercept\"                 \"Phase2_hypoxic_vs_control\""
      ]
     },
     "metadata": {},
     "output_type": "display_data"
    }
   ],
   "source": [
    "# creating DESeq2 objext from the matrix, with the design = treatment (which has both phase 1 and phase 2 variables)\n",
    "p1h_dds <- DESeqDataSetFromMatrix(countData = p1h_counts,\n",
    "                              colData = p1_hypoxia, \n",
    "                              design = ~ Phase2)\n",
    "p1h_dds=DESeq(p1h_dds)\n",
    "resultsNames(p1h_dds)"
   ]
  },
  {
   "cell_type": "code",
   "execution_count": 29,
   "id": "351ee683-61e6-4b58-82bc-32718cd0d807",
   "metadata": {},
   "outputs": [
    {
     "name": "stderr",
     "output_type": "stream",
     "text": [
      "using 'normal' for LFC shrinkage, the Normal prior from Love et al (2014).\n",
      "\n",
      "Note that type='apeglm' and type='ashr' have shown to have less bias than type='normal'.\n",
      "See ?lfcShrink for more details on shrinkage type, and the DESeq2 vignette.\n",
      "Reference: https://doi.org/10.1093/bioinformatics/bty895\n",
      "\n"
     ]
    },
    {
     "name": "stdout",
     "output_type": "stream",
     "text": [
      "\n",
      "out of 13397 with nonzero total read count\n",
      "adjusted p-value < 0.1\n",
      "LFC > 0.25 (up)    : 258, 1.9%\n",
      "LFC < -0.25 (down) : 87, 0.65%\n",
      "outliers [1]       : 302, 2.3%\n",
      "low counts [2]     : 3570, 27%\n",
      "(mean count < 2)\n",
      "[1] see 'cooksCutoff' argument of ?results\n",
      "[2] see 'independentFiltering' argument of ?results\n",
      "\n"
     ]
    },
    {
     "data": {
      "image/png": "[encoded data removed]",
      "text/plain": [
       "plot without title"
      ]
     },
     "metadata": {
      "image/png": {
       "height": 420,
       "width": 420
      }
     },
     "output_type": "display_data"
    }
   ],
   "source": [
    "contrast3 <- c(\"Phase2\", \"hypoxic\", \"control\")\n",
    "\n",
    "# results of contrast3 with lfcThreshold=0.25 and normal shrinkage estimator\n",
    "ls_p1h<-lfcShrink(p1h_dds, # dds object\n",
    "                      contrast = contrast3, # only coef or contrast can be specified\n",
    "                      type=\"normal\", lfcThreshold=0.25,\n",
    "                      cooksCutoff=FALSE, independentFiltering=FALSE) # adding stuff to change outliers/padj=NA\n",
    "summary(ls_p1h)\n",
    "\n",
    "EnhancedVolcano(ls_p1h, \n",
    "                lab=NA,\n",
    "                x = 'log2FoldChange',\n",
    "                y='padj',\n",
    "                pCutoff=0.05)"
   ]
  },
  {
   "cell_type": "code",
   "execution_count": 30,
   "id": "840ab6d3-f4f1-4ea2-97db-d556a25c1f2e",
   "metadata": {},
   "outputs": [
    {
     "data": {
      "image/png": "[encoded data removed]",
      "text/plain": [
       "Plot with title “LOC111108235”"
      ]
     },
     "metadata": {
      "image/png": {
       "height": 420,
       "width": 420
      }
     },
     "output_type": "display_data"
    }
   ],
   "source": [
    "plotCounts(p1h_dds, gene=which.min(ls_p1h$padj), intgroup=\"Phase2\")"
   ]
  },
  {
   "cell_type": "code",
   "execution_count": 37,
   "id": "906cc124-4e2f-4754-839f-bd138d94b580",
   "metadata": {},
   "outputs": [
    {
     "name": "stderr",
     "output_type": "stream",
     "text": [
      "-- note: fitType='parametric', but the dispersion trend was not well captured by the\n",
      "   function: y = a/x + b, and a local regression fit was automatically substituted.\n",
      "   specify fitType='local' or 'mean' to avoid this message next time.\n",
      "\n"
     ]
    },
    {
     "data": {
      "text/html": [
       "<table class=\"dataframe\">\n",
       "<caption>A matrix: 6 × 10 of type dbl</caption>\n",
       "<thead>\n",
       "\t<tr><th></th><th scope=col>BBB-WBO-B21</th><th scope=col>BBB-WBV-B70</th><th scope=col>BBO-BBO-B16</th><th scope=col>BBO-BBY-B27</th><th scope=col>BBO-WBO-B16</th><th scope=col>BBO-WBV-B64</th><th scope=col>BBR-BBB-B50</th><th scope=col>BBR-BBG-B38</th><th scope=col>BBR-BBY-B26</th><th scope=col>BBY-WBG-B42</th></tr>\n",
       "</thead>\n",
       "<tbody>\n",
       "\t<tr><th scope=row>BBB-WBO-B21</th><td> 0.00000</td><td>33.45774</td><td>37.58371</td><td>37.33702</td><td>32.22849</td><td>32.03489</td><td>36.72380</td><td>35.50753</td><td>36.24104</td><td>33.01657</td></tr>\n",
       "\t<tr><th scope=row>BBB-WBV-B70</th><td>33.45774</td><td> 0.00000</td><td>34.02500</td><td>35.93776</td><td>32.27563</td><td>33.00002</td><td>32.79953</td><td>34.95494</td><td>34.54939</td><td>38.58113</td></tr>\n",
       "\t<tr><th scope=row>BBO-BBO-B16</th><td>37.58371</td><td>34.02500</td><td> 0.00000</td><td>32.24923</td><td>33.51937</td><td>36.88948</td><td>29.39671</td><td>31.16789</td><td>29.39043</td><td>38.47542</td></tr>\n",
       "\t<tr><th scope=row>BBO-BBY-B27</th><td>37.33702</td><td>35.93776</td><td>32.24923</td><td> 0.00000</td><td>35.24649</td><td>35.26954</td><td>31.76518</td><td>32.34154</td><td>28.79042</td><td>40.09532</td></tr>\n",
       "\t<tr><th scope=row>BBO-WBO-B16</th><td>32.22849</td><td>32.27563</td><td>33.51937</td><td>35.24649</td><td> 0.00000</td><td>32.24318</td><td>33.59614</td><td>34.88267</td><td>33.47269</td><td>35.71032</td></tr>\n",
       "\t<tr><th scope=row>BBO-WBV-B64</th><td>32.03489</td><td>33.00002</td><td>36.88948</td><td>35.26954</td><td>32.24318</td><td> 0.00000</td><td>36.08347</td><td>36.56903</td><td>34.08124</td><td>37.26816</td></tr>\n",
       "</tbody>\n",
       "</table>\n"
      ],
      "text/latex": [
       "A matrix: 6 × 10 of type dbl\n",
       "\\begin{tabular}{r|llllllllll}\n",
       "  & BBB-WBO-B21 & BBB-WBV-B70 & BBO-BBO-B16 & BBO-BBY-B27 & BBO-WBO-B16 & BBO-WBV-B64 & BBR-BBB-B50 & BBR-BBG-B38 & BBR-BBY-B26 & BBY-WBG-B42\\\\\n",
       "\\hline\n",
       "\tBBB-WBO-B21 &  0.00000 & 33.45774 & 37.58371 & 37.33702 & 32.22849 & 32.03489 & 36.72380 & 35.50753 & 36.24104 & 33.01657\\\\\n",
       "\tBBB-WBV-B70 & 33.45774 &  0.00000 & 34.02500 & 35.93776 & 32.27563 & 33.00002 & 32.79953 & 34.95494 & 34.54939 & 38.58113\\\\\n",
       "\tBBO-BBO-B16 & 37.58371 & 34.02500 &  0.00000 & 32.24923 & 33.51937 & 36.88948 & 29.39671 & 31.16789 & 29.39043 & 38.47542\\\\\n",
       "\tBBO-BBY-B27 & 37.33702 & 35.93776 & 32.24923 &  0.00000 & 35.24649 & 35.26954 & 31.76518 & 32.34154 & 28.79042 & 40.09532\\\\\n",
       "\tBBO-WBO-B16 & 32.22849 & 32.27563 & 33.51937 & 35.24649 &  0.00000 & 32.24318 & 33.59614 & 34.88267 & 33.47269 & 35.71032\\\\\n",
       "\tBBO-WBV-B64 & 32.03489 & 33.00002 & 36.88948 & 35.26954 & 32.24318 &  0.00000 & 36.08347 & 36.56903 & 34.08124 & 37.26816\\\\\n",
       "\\end{tabular}\n"
      ],
      "text/markdown": [
       "\n",
       "A matrix: 6 × 10 of type dbl\n",
       "\n",
       "| <!--/--> | BBB-WBO-B21 | BBB-WBV-B70 | BBO-BBO-B16 | BBO-BBY-B27 | BBO-WBO-B16 | BBO-WBV-B64 | BBR-BBB-B50 | BBR-BBG-B38 | BBR-BBY-B26 | BBY-WBG-B42 |\n",
       "|---|---|---|---|---|---|---|---|---|---|---|\n",
       "| BBB-WBO-B21 |  0.00000 | 33.45774 | 37.58371 | 37.33702 | 32.22849 | 32.03489 | 36.72380 | 35.50753 | 36.24104 | 33.01657 |\n",
       "| BBB-WBV-B70 | 33.45774 |  0.00000 | 34.02500 | 35.93776 | 32.27563 | 33.00002 | 32.79953 | 34.95494 | 34.54939 | 38.58113 |\n",
       "| BBO-BBO-B16 | 37.58371 | 34.02500 |  0.00000 | 32.24923 | 33.51937 | 36.88948 | 29.39671 | 31.16789 | 29.39043 | 38.47542 |\n",
       "| BBO-BBY-B27 | 37.33702 | 35.93776 | 32.24923 |  0.00000 | 35.24649 | 35.26954 | 31.76518 | 32.34154 | 28.79042 | 40.09532 |\n",
       "| BBO-WBO-B16 | 32.22849 | 32.27563 | 33.51937 | 35.24649 |  0.00000 | 32.24318 | 33.59614 | 34.88267 | 33.47269 | 35.71032 |\n",
       "| BBO-WBV-B64 | 32.03489 | 33.00002 | 36.88948 | 35.26954 | 32.24318 |  0.00000 | 36.08347 | 36.56903 | 34.08124 | 37.26816 |\n",
       "\n"
      ],
      "text/plain": [
       "            BBB-WBO-B21 BBB-WBV-B70 BBO-BBO-B16 BBO-BBY-B27 BBO-WBO-B16\n",
       "BBB-WBO-B21  0.00000    33.45774    37.58371    37.33702    32.22849   \n",
       "BBB-WBV-B70 33.45774     0.00000    34.02500    35.93776    32.27563   \n",
       "BBO-BBO-B16 37.58371    34.02500     0.00000    32.24923    33.51937   \n",
       "BBO-BBY-B27 37.33702    35.93776    32.24923     0.00000    35.24649   \n",
       "BBO-WBO-B16 32.22849    32.27563    33.51937    35.24649     0.00000   \n",
       "BBO-WBV-B64 32.03489    33.00002    36.88948    35.26954    32.24318   \n",
       "            BBO-WBV-B64 BBR-BBB-B50 BBR-BBG-B38 BBR-BBY-B26 BBY-WBG-B42\n",
       "BBB-WBO-B21 32.03489    36.72380    35.50753    36.24104    33.01657   \n",
       "BBB-WBV-B70 33.00002    32.79953    34.95494    34.54939    38.58113   \n",
       "BBO-BBO-B16 36.88948    29.39671    31.16789    29.39043    38.47542   \n",
       "BBO-BBY-B27 35.26954    31.76518    32.34154    28.79042    40.09532   \n",
       "BBO-WBO-B16 32.24318    33.59614    34.88267    33.47269    35.71032   \n",
       "BBO-WBV-B64  0.00000    36.08347    36.56903    34.08124    37.26816   "
      ]
     },
     "metadata": {},
     "output_type": "display_data"
    },
    {
     "data": {
      "text/html": [
       "<table class=\"dataframe\">\n",
       "<caption>A data.frame: 6 × 5</caption>\n",
       "<thead>\n",
       "\t<tr><th></th><th scope=col>X1</th><th scope=col>X2</th><th scope=col>Phase1</th><th scope=col>Phase2</th><th scope=col>sizeFactor</th></tr>\n",
       "\t<tr><th></th><th scope=col>&lt;dbl&gt;</th><th scope=col>&lt;dbl&gt;</th><th scope=col>&lt;chr&gt;</th><th scope=col>&lt;fct&gt;</th><th scope=col>&lt;dbl&gt;</th></tr>\n",
       "</thead>\n",
       "<tbody>\n",
       "\t<tr><th scope=row>BBB-WBO-B21</th><td> 15.959357</td><td> 0.2247667</td><td>hypoxic</td><td>control</td><td>1.5926578</td></tr>\n",
       "\t<tr><th scope=row>BBB-WBV-B70</th><td>  3.926827</td><td>12.1168840</td><td>hypoxic</td><td>control</td><td>1.3920522</td></tr>\n",
       "\t<tr><th scope=row>BBO-BBO-B16</th><td>-11.410898</td><td>-2.2174511</td><td>hypoxic</td><td>hypoxic</td><td>1.1343082</td></tr>\n",
       "\t<tr><th scope=row>BBO-BBY-B27</th><td>-11.548760</td><td> 2.7233267</td><td>hypoxic</td><td>hypoxic</td><td>0.7651855</td></tr>\n",
       "\t<tr><th scope=row>BBO-WBO-B16</th><td>  6.737760</td><td> 5.5290305</td><td>hypoxic</td><td>control</td><td>1.6685621</td></tr>\n",
       "\t<tr><th scope=row>BBO-WBV-B64</th><td>  9.867968</td><td>12.2960588</td><td>hypoxic</td><td>control</td><td>1.4671714</td></tr>\n",
       "</tbody>\n",
       "</table>\n"
      ],
      "text/latex": [
       "A data.frame: 6 × 5\n",
       "\\begin{tabular}{r|lllll}\n",
       "  & X1 & X2 & Phase1 & Phase2 & sizeFactor\\\\\n",
       "  & <dbl> & <dbl> & <chr> & <fct> & <dbl>\\\\\n",
       "\\hline\n",
       "\tBBB-WBO-B21 &  15.959357 &  0.2247667 & hypoxic & control & 1.5926578\\\\\n",
       "\tBBB-WBV-B70 &   3.926827 & 12.1168840 & hypoxic & control & 1.3920522\\\\\n",
       "\tBBO-BBO-B16 & -11.410898 & -2.2174511 & hypoxic & hypoxic & 1.1343082\\\\\n",
       "\tBBO-BBY-B27 & -11.548760 &  2.7233267 & hypoxic & hypoxic & 0.7651855\\\\\n",
       "\tBBO-WBO-B16 &   6.737760 &  5.5290305 & hypoxic & control & 1.6685621\\\\\n",
       "\tBBO-WBV-B64 &   9.867968 & 12.2960588 & hypoxic & control & 1.4671714\\\\\n",
       "\\end{tabular}\n"
      ],
      "text/markdown": [
       "\n",
       "A data.frame: 6 × 5\n",
       "\n",
       "| <!--/--> | X1 &lt;dbl&gt; | X2 &lt;dbl&gt; | Phase1 &lt;chr&gt; | Phase2 &lt;fct&gt; | sizeFactor &lt;dbl&gt; |\n",
       "|---|---|---|---|---|---|\n",
       "| BBB-WBO-B21 |  15.959357 |  0.2247667 | hypoxic | control | 1.5926578 |\n",
       "| BBB-WBV-B70 |   3.926827 | 12.1168840 | hypoxic | control | 1.3920522 |\n",
       "| BBO-BBO-B16 | -11.410898 | -2.2174511 | hypoxic | hypoxic | 1.1343082 |\n",
       "| BBO-BBY-B27 | -11.548760 |  2.7233267 | hypoxic | hypoxic | 0.7651855 |\n",
       "| BBO-WBO-B16 |   6.737760 |  5.5290305 | hypoxic | control | 1.6685621 |\n",
       "| BBO-WBV-B64 |   9.867968 | 12.2960588 | hypoxic | control | 1.4671714 |\n",
       "\n"
      ],
      "text/plain": [
       "            X1         X2         Phase1  Phase2  sizeFactor\n",
       "BBB-WBO-B21  15.959357  0.2247667 hypoxic control 1.5926578 \n",
       "BBB-WBV-B70   3.926827 12.1168840 hypoxic control 1.3920522 \n",
       "BBO-BBO-B16 -11.410898 -2.2174511 hypoxic hypoxic 1.1343082 \n",
       "BBO-BBY-B27 -11.548760  2.7233267 hypoxic hypoxic 0.7651855 \n",
       "BBO-WBO-B16   6.737760  5.5290305 hypoxic control 1.6685621 \n",
       "BBO-WBV-B64   9.867968 12.2960588 hypoxic control 1.4671714 "
      ]
     },
     "metadata": {},
     "output_type": "display_data"
    },
    {
     "data": {
      "image/png": "[encoded data removed]",
      "text/plain": [
       "plot without title"
      ]
     },
     "metadata": {
      "image/png": {
       "height": 420,
       "width": 420
      }
     },
     "output_type": "display_data"
    }
   ],
   "source": [
    "# MDS plot\n",
    "\n",
    "# normalization & transformation\n",
    "vsd <- vst(p1h_dds)\n",
    "\n",
    "# calculate sample distances\n",
    "sample_dists <- assay(vsd) %>%\n",
    "t() %>%\n",
    "dist() %>%\n",
    "as.matrix()\n",
    "\n",
    "head(sample_dists)\n",
    "\n",
    "# calculate MDS value from distance matrix\n",
    "mdsData <- data.frame(cmdscale(sample_dists))\n",
    "mds <- cbind(mdsData, as.data.frame(colData(vsd))) # combine with sample data\n",
    "head(mds)\n",
    "\n",
    "# plot\n",
    "ggplot(mds, aes(X1, X2, shape = Phase2)) + \n",
    "  geom_point(size = 3) +\n",
    "  theme_minimal()"
   ]
  },
  {
   "cell_type": "code",
   "execution_count": 31,
   "id": "e6e47144-2ef6-4213-b912-5ffcd54b2542",
   "metadata": {},
   "outputs": [
    {
     "name": "stderr",
     "output_type": "stream",
     "text": [
      "-- note: fitType='parametric', but the dispersion trend was not well captured by the\n",
      "   function: y = a/x + b, and a local regression fit was automatically substituted.\n",
      "   specify fitType='local' or 'mean' to avoid this message next time.\n",
      "\n"
     ]
    },
    {
     "data": {
      "text/html": [
       "'DESeqTransform'"
      ],
      "text/latex": [
       "'DESeqTransform'"
      ],
      "text/markdown": [
       "'DESeqTransform'"
      ],
      "text/plain": [
       "[1] \"DESeqTransform\"\n",
       "attr(,\"package\")\n",
       "[1] \"DESeq2\""
      ]
     },
     "metadata": {},
     "output_type": "display_data"
    },
    {
     "data": {
      "text/plain": [
       "DataFrame with 3 rows and 3 columns\n",
       "                 Phase1   Phase2 sizeFactor\n",
       "            <character> <factor>  <numeric>\n",
       "BBB-WBO-B21     hypoxic  control    1.59266\n",
       "BBB-WBV-B70     hypoxic  control    1.39205\n",
       "BBO-BBO-B16     hypoxic  hypoxic    1.13431"
      ]
     },
     "metadata": {},
     "output_type": "display_data"
    }
   ],
   "source": [
    "vsd <- vst(p1h_dds)\n",
    "class(vsd)\n",
    "head(colData(vsd),3)"
   ]
  },
  {
   "cell_type": "code",
   "execution_count": null,
   "id": "1d8630c3-2e90-4713-aacf-f76092019817",
   "metadata": {},
   "outputs": [
    {
     "ename": "ERROR",
     "evalue": "Error in h(simpleError(msg, call)): error in evaluating the argument 'x' in selecting a method for function 'head': object 'res' not found\n",
     "output_type": "error",
     "traceback": [
      "Error in h(simpleError(msg, call)): error in evaluating the argument 'x' in selecting a method for function 'head': object 'res' not found\nTraceback:\n",
      "1. head(order(res$padj), 30)",
      "2. order(res$padj)",
      "3. standardGeneric(\"order\")",
      "4. eval(quote(list(...)), env)",
      "5. eval(quote(list(...)), env)",
      "6. eval(quote(list(...)), env)",
      "7. .handleSimpleError(function (cond) \n . .Internal(C_tryCatchHelper(addr, 1L, cond)), \"object 'res' not found\", \n .     base::quote(eval(expr, envir, enclos)))",
      "8. h(simpleError(msg, call))"
     ]
    }
   ],
   "source": [
    "mat <- assay(vsd)[ head(order(res$padj),30), ]"
   ]
  },
  {
   "cell_type": "code",
   "execution_count": null,
   "id": "f5a696f2-9c04-4d17-938a-56c6e0535b8c",
   "metadata": {},
   "outputs": [
    {
     "ename": "ERROR",
     "evalue": "Error in eval(expr, envir, enclos): object 'mat' not found\n",
     "output_type": "error",
     "traceback": [
      "Error in eval(expr, envir, enclos): object 'mat' not found\nTraceback:\n"
     ]
    }
   ],
   "source": [
    "mat <- mat - rowMeans(mat)"
   ]
  },
  {
   "cell_type": "code",
   "execution_count": null,
   "id": "7ebff256-2fa6-4399-9ab1-af3aae2370a7",
   "metadata": {},
   "outputs": [
    {
     "ename": "ERROR",
     "evalue": "Error in pheatmap(mat): could not find function \"pheatmap\"\n",
     "output_type": "error",
     "traceback": [
      "Error in pheatmap(mat): could not find function \"pheatmap\"\nTraceback:\n"
     ]
    }
   ],
   "source": [
    "pheatmap(mat)"
   ]
  },
  {
   "cell_type": "code",
   "execution_count": null,
   "id": "11d53970-4996-435d-a339-5919304c9f8a",
   "metadata": {},
   "outputs": [],
   "source": [
    "write.csv(ls_p1h, '/project/pi_sarah_gignouxwolfsohn_uml_edu/julia/CE_MethylRAD_analysis_2018/analysis/significant_genes/p1hyp_p2hc_genes.csv')\n"
   ]
  },
  {
   "cell_type": "code",
   "execution_count": null,
   "id": "ade81d5c-8769-48b8-8026-be5144c72e01",
   "metadata": {},
   "outputs": [],
   "source": [
    "# creating df of DESeq result\n",
    "p1h_shrink <- as.data.frame(ls_p1h)\n",
    "\n",
    "# adding column to denote that these are for warm vs. control samples\n",
    "p1h_shrink$phase1 <- 'hypoxic'\n",
    "\n",
    "# adding column to tell us if this gene has more methylation in warming or control\n",
    "p1h_shrink$more_me_in <- ifelse(p1h_shrink$log2FoldChange<0 & p1h_shrink$padj < 0.05, \"control\", #neg ES = pathway for control\n",
    "                        ifelse(p1h_shrink$log2FoldChange>0 & p1h_shrink$padj < 0.05, \"hypoxic\", # pos ES = pathway for warm\n",
    "                               \"not significant\"))\n",
    "\n",
    "head(p1h_shrink)"
   ]
  },
  {
   "cell_type": "markdown",
   "id": "f2b7117f-f280-43b2-adbb-7d2498fce821",
   "metadata": {},
   "source": [
    "now combining the two dataframes into one"
   ]
  },
  {
   "cell_type": "code",
   "execution_count": null,
   "id": "a17d35f3-c2b8-4992-9692-216c58850635",
   "metadata": {},
   "outputs": [],
   "source": [
    "ce_df <- rbind(p1c_shrink, p1h_shrink)\n",
    "ce_df <- na.omit(ce_df)\n",
    "head(ce_df)\n",
    "tail(ce_df)"
   ]
  },
  {
   "cell_type": "markdown",
   "id": "a78d6b95-f0eb-4a16-bb36-ee320b97427e",
   "metadata": {},
   "source": [
    "writing csv file of combination of DESeq for all phase 1 control and comparing phase 2 control/hypoxia  & for all phase 1 hypoxia and comparing phase 2 control/hypoxia\n",
    "\n",
    "aka faceting by first exposure"
   ]
  },
  {
   "cell_type": "code",
   "execution_count": null,
   "id": "ce91c1f8-3d85-491d-8d7e-ab407804bff6",
   "metadata": {},
   "outputs": [],
   "source": [
    "write.csv(ce_df, '/project/pi_sarah_gignouxwolfsohn_uml_edu/julia/CE_MethylRAD_analysis_2018/analysis/significant_genes/volcano_data/phase1_ch_ce_genes.csv')"
   ]
  },
  {
   "cell_type": "markdown",
   "id": "4c235b16-4388-400b-8ab7-6adf25244b31",
   "metadata": {},
   "source": [
    "### Effects of phase one, given phase 2\n",
    "looking at samples that are:\n",
    "- phase 1 = hypoxic or control, phase 2 = hypoxic\n",
    "- phase 1 = hypoxic or control, phase 2 = control\n",
    "\n",
    "starting with **phase 2 = control**"
   ]
  },
  {
   "cell_type": "code",
   "execution_count": null,
   "id": "5318fe7d-058e-4505-94de-eb14a635e71d",
   "metadata": {},
   "outputs": [],
   "source": [
    "# first need to filter for samples that were control for phase 1\n",
    "p2_control <- filter(meta, meta$Phase2 == 'control')\n",
    "head(p2_control)\n",
    "\n",
    "# now select those same samples out of the counts matrix\n",
    "p2c_counts <- counts2[,colnames(counts2) %in% rownames(p2_control)]\n",
    "head(p2c_counts)"
   ]
  },
  {
   "cell_type": "markdown",
   "id": "9954407e-8fd0-45d4-99af-8fe3f32066a8",
   "metadata": {},
   "source": [
    "both have 6 samples, so they match and we're good to move on to the DESeq analysis"
   ]
  },
  {
   "cell_type": "code",
   "execution_count": null,
   "id": "282b7112-64dc-4592-9783-57d34e8d18cf",
   "metadata": {},
   "outputs": [],
   "source": [
    "# creating DESeq2 objext from the matrix, with the design = treatment (which has both phase 1 and phase 2 variables)\n",
    "p2c_dds <- DESeqDataSetFromMatrix(countData = p2c_counts,\n",
    "                              colData = p2_control, \n",
    "                              design = ~ Phase1)\n",
    "p2c_dds=DESeq(p2c_dds)\n",
    "resultsNames(p2c_dds)"
   ]
  },
  {
   "cell_type": "code",
   "execution_count": null,
   "id": "d6373ec5-51c3-4886-9d2b-fd68fa3ffac3",
   "metadata": {},
   "outputs": [],
   "source": [
    "contrast2 <- c(\"Phase1\", \"hypoxic\", \"control\")\n",
    "\n",
    "# results of contrast1 with lfcThreshold=0.25 and normal shrinkage estimator\n",
    "ls_p2c<-lfcShrink(p2c_dds, # dds object\n",
    "                      contrast = contrast2, # only coef or contrast can be specified\n",
    "                      type=\"normal\", lfcThreshold=0.25,\n",
    "                      cooksCutoff=FALSE, independentFiltering=FALSE) # adding stuff to change outliers/padj=NA\n",
    "summary(ls_p2c)\n",
    "\n",
    "EnhancedVolcano(ls_p2c, \n",
    "                lab=NA,\n",
    "                x = 'log2FoldChange',\n",
    "                y='padj',\n",
    "                pCutoff=0.05)"
   ]
  },
  {
   "cell_type": "code",
   "execution_count": null,
   "id": "230f7d46-cb27-4c8d-8cd6-f331a3a5a975",
   "metadata": {},
   "outputs": [],
   "source": [
    "write.csv(ls_p2c, '/project/pi_sarah_gignouxwolfsohn_uml_edu/julia/CE_MethylRAD_analysis_2018/analysis/significant_genes/p1ch_p2c_genes.csv')"
   ]
  },
  {
   "cell_type": "code",
   "execution_count": null,
   "id": "af43c00c-d83d-4c32-971f-9820aeba036d",
   "metadata": {},
   "outputs": [],
   "source": [
    "# creating df of DESeq result\n",
    "p2c_shrink <- as.data.frame(ls_p2c)\n",
    "\n",
    "# adding column to denote that these are for warm vs. control samples\n",
    "p2c_shrink$phase2 <- 'control'\n",
    "\n",
    "# adding column to tell us if this gene has more methylation in warming or control\n",
    "p2c_shrink$more_me_in <- ifelse(p2c_shrink$log2FoldChange<0 & p2c_shrink$padj < 0.05, \"control\", #neg ES = pathway for control\n",
    "                        ifelse(p2c_shrink$log2FoldChange>0 & p2c_shrink$padj < 0.05, \"hypoxic\", # pos ES = pathway for warm\n",
    "                               \"not significant\"))\n",
    "\n",
    "head(p2c_shrink)"
   ]
  },
  {
   "cell_type": "markdown",
   "id": "7ce650cf-4621-438b-9b02-9d0dfbfac656",
   "metadata": {},
   "source": [
    "now doing the same thing but for **phase 2 = *hypoxic***"
   ]
  },
  {
   "cell_type": "code",
   "execution_count": null,
   "id": "4465faec-2b1e-48c2-b062-4839c8439eca",
   "metadata": {},
   "outputs": [],
   "source": [
    "# first need to filter for samples that were control for phase 1\n",
    "p2_hypoxia <- filter(meta, meta$Phase2 == 'hypoxic')\n",
    "head(p2_hypoxia)\n",
    "\n",
    "# now select those same samples out of the counts matrix\n",
    "p2h_counts <- counts2[,colnames(counts2) %in% rownames(p2_hypoxia)]\n",
    "head(p2h_counts)"
   ]
  },
  {
   "cell_type": "markdown",
   "id": "276f7cc3-4e27-4d05-aeb0-70a41fb21f00",
   "metadata": {},
   "source": [
    "both have 6 samples, so they match and we're good to move on to the DESeq analysis"
   ]
  },
  {
   "cell_type": "code",
   "execution_count": null,
   "id": "9d42e510-e4f5-43ef-bf4b-c3d90c0d708b",
   "metadata": {},
   "outputs": [],
   "source": [
    "# creating DESeq2 objext from the matrix, with the design = treatment (which has both phase 1 and phase 2 variables)\n",
    "p2h_dds <- DESeqDataSetFromMatrix(countData = p2h_counts,\n",
    "                              colData = p2_hypoxia, \n",
    "                              design = ~ Phase1)\n",
    "p2h_dds=DESeq(p2h_dds)\n",
    "resultsNames(p2h_dds)"
   ]
  },
  {
   "cell_type": "code",
   "execution_count": null,
   "id": "2c262f92-d8a4-49bb-aa44-949d9c8cb9d7",
   "metadata": {},
   "outputs": [],
   "source": [
    "contrast3 <- c(\"Phase1\", \"hypoxic\", \"control\")\n",
    "\n",
    "# results of contrast3 with lfcThreshold=0.25 and normal shrinkage estimator\n",
    "ls_p2h<-lfcShrink(p2h_dds, # dds object\n",
    "                      contrast = contrast3, # only coef or contrast can be specified\n",
    "                      type=\"normal\", lfcThreshold=0.25,\n",
    "                      cooksCutoff=FALSE, independentFiltering=FALSE) # adding stuff to change outliers/padj=NA\n",
    "summary(ls_p2h)\n",
    "\n",
    "EnhancedVolcano(ls_p2h, \n",
    "                lab=NA,\n",
    "                x = 'log2FoldChange',\n",
    "                y='padj',\n",
    "                pCutoff=0.05)"
   ]
  },
  {
   "cell_type": "code",
   "execution_count": null,
   "id": "4434a8df-a5e2-45b6-8c2a-c251991f79d0",
   "metadata": {},
   "outputs": [],
   "source": [
    "# creating df of DESeq result\n",
    "p2h_shrink <- as.data.frame(ls_p2h)\n",
    "\n",
    "# adding column to denote that these are for warm vs. control samples\n",
    "p2h_shrink$phase2 <- 'hypoxic'\n",
    "\n",
    "# adding column to tell us if this gene has more methylation in warming or control\n",
    "p2h_shrink$more_me_in <- ifelse(p2h_shrink$log2FoldChange<0 & p2h_shrink$padj < 0.05, \"control\", #neg ES = pathway for control\n",
    "                        ifelse(p2h_shrink$log2FoldChange>0 & p2h_shrink$padj < 0.05, \"hypoxic\", # pos ES = pathway for warm\n",
    "                               \"not significant\"))\n",
    "\n",
    "head(p2h_shrink)"
   ]
  },
  {
   "cell_type": "markdown",
   "id": "2a1862a4-4060-4576-a1c3-0a3cea32108c",
   "metadata": {},
   "source": [
    "now combining the two dataframes into one"
   ]
  },
  {
   "cell_type": "code",
   "execution_count": null,
   "id": "6b108319-76db-4e75-8ecb-82f835867b36",
   "metadata": {},
   "outputs": [],
   "source": [
    "p2_ce_df <- rbind(p2c_shrink, p2h_shrink)\n",
    "p2_ce_df <- na.omit(p2_ce_df)\n",
    "head(p2_ce_df)\n",
    "tail(p2_ce_df)"
   ]
  },
  {
   "cell_type": "code",
   "execution_count": null,
   "id": "2414a518-b989-4db9-b7de-68a4d1952e05",
   "metadata": {},
   "outputs": [],
   "source": [
    "write.csv(p2_ce_df, '/project/pi_sarah_gignouxwolfsohn_uml_edu/julia/CE_MethylRAD_analysis_2018/analysis/significant_genes/volcano_data/phase2_ce_genes.csv')"
   ]
  },
  {
   "cell_type": "markdown",
   "id": "b8f697da-3c97-4c50-b895-c286411c219d",
   "metadata": {},
   "source": [
    "### DMGs of the other combinations \n",
    "Now that I've generated plots and done DESeq for the three 'more important' treatment comparisons, going back to get the DMGs for all the other combinations to fill out DMGs table\n",
    "\n",
    "checking out **effects of phase 1, ignoring phase 2**"
   ]
  },
  {
   "cell_type": "code",
   "execution_count": null,
   "id": "6a783f6c-3eb4-4dab-bfd0-4912e576a04e",
   "metadata": {},
   "outputs": [],
   "source": [
    "# creating DESeq2 objext from the matrix, with the design = treatment (which has both phase 1 and phase 2 variables)\n",
    "p1_dds <- DESeqDataSetFromMatrix(countData = counts2,\n",
    "                              colData = meta, \n",
    "                              design = ~ Phase1)\n",
    "p1_dds=DESeq(p1_dds)\n",
    "resultsNames(p1_dds)"
   ]
  },
  {
   "cell_type": "markdown",
   "id": "49d14ac9-0565-489e-ad88-42671370ee39",
   "metadata": {},
   "source": [
    "**Phase 1 both vs. control**"
   ]
  },
  {
   "cell_type": "code",
   "execution_count": null,
   "id": "9e8937ad-7656-4067-9a03-295c68fa098d",
   "metadata": {},
   "outputs": [],
   "source": [
    "contrast4 <- c(\"Phase1\", \"both\", \"control\")\n",
    "\n",
    "# results of contrast3 with lfcThreshold=0.5 and normal shrinkage estimator\n",
    "ls_p1bc<-lfcShrink(p1_dds, # dds object\n",
    "                      contrast = contrast4, # only coef or contrast can be specified\n",
    "                      type=\"normal\", lfcThreshold=0.25,\n",
    "                      cooksCutoff=FALSE, independentFiltering=FALSE) # adding stuff to change outliers/padj=NA\n",
    "summary(ls_p1bc)\n",
    "\n",
    "EnhancedVolcano(ls_p1bc, \n",
    "                lab=NA,\n",
    "                x = 'log2FoldChange',\n",
    "                y='padj',\n",
    "                pCutoff=0.05)"
   ]
  },
  {
   "cell_type": "markdown",
   "id": "a4371578-ee95-4805-a948-9dd653d28756",
   "metadata": {},
   "source": [
    "checking out **effects of phase 2, ignoring phase 1**"
   ]
  },
  {
   "cell_type": "code",
   "execution_count": null,
   "id": "d5d7f4c9-e14c-4269-b963-d429a4c24d87",
   "metadata": {},
   "outputs": [],
   "source": [
    "# creating DESeq2 objext from the matrix, with the design = treatment (which has both phase 1 and phase 2 variables)\n",
    "p2_dds <- DESeqDataSetFromMatrix(countData = counts2,\n",
    "                              colData = meta, \n",
    "                              design = ~ Phase2)\n",
    "p2_dds=DESeq(p2_dds)\n",
    "resultsNames(p2_dds)"
   ]
  },
  {
   "cell_type": "markdown",
   "id": "edaf34ee-3d9d-414b-82de-1abe5f528d3a",
   "metadata": {},
   "source": [
    "**Phase 2 both vs. control**"
   ]
  },
  {
   "cell_type": "code",
   "execution_count": null,
   "id": "c85acdfe-e62c-47a1-ad7f-82e29838df48",
   "metadata": {},
   "outputs": [],
   "source": [
    "contrast5 <- c(\"Phase2\", \"both\", \"control\")\n",
    "\n",
    "# results of contrast3 with lfcThreshold=0.5 and normal shrinkage estimator\n",
    "ls_p2bc<-lfcShrink(p2_dds, # dds object\n",
    "                      contrast = contrast5, # only coef or contrast can be specified\n",
    "                      type=\"normal\", lfcThreshold=0.25,\n",
    "                      cooksCutoff=FALSE, independentFiltering=FALSE) # adding stuff to change outliers/padj=NA\n",
    "summary(ls_p2bc)\n",
    "\n",
    "EnhancedVolcano(ls_p2bc, \n",
    "                lab=NA,\n",
    "                x = 'log2FoldChange',\n",
    "                y='padj',\n",
    "                pCutoff=0.05)"
   ]
  },
  {
   "cell_type": "markdown",
   "id": "5f46b38d-9001-4cea-ab14-fc2532861a92",
   "metadata": {},
   "source": [
    "**Phase 2 both vs. hypoxic**"
   ]
  },
  {
   "cell_type": "code",
   "execution_count": null,
   "id": "690859d8-9670-4e95-acf2-5482eeedad01",
   "metadata": {},
   "outputs": [],
   "source": [
    "contrast6 <- c(\"Phase2\", \"both\", \"hypoxic\")\n",
    "\n",
    "# results of contrast3 with lfcThreshold=0.5 and normal shrinkage estimator\n",
    "ls_p2hb<-lfcShrink(p2_dds, # dds object\n",
    "                      contrast = contrast6, # only coef or contrast can be specified\n",
    "                      type=\"normal\", lfcThreshold=0.25,\n",
    "                      cooksCutoff=FALSE, independentFiltering=FALSE) # adding stuff to change outliers/padj=NA\n",
    "\n",
    "summary(ls_p2hb)\n",
    "\n",
    "EnhancedVolcano(ls_p2hb, \n",
    "                lab=NA,\n",
    "                x = 'log2FoldChange',\n",
    "                y='padj',\n",
    "                pCutoff=0.05)"
   ]
  },
  {
   "cell_type": "markdown",
   "id": "b93c03d4-7d0a-4fa2-975b-4216eb29e262",
   "metadata": {},
   "source": [
    "**given phase 2, what are the effects of phase 1**\n",
    "\n",
    "filtering first for phase2=control"
   ]
  },
  {
   "cell_type": "code",
   "execution_count": null,
   "id": "14b45783-9060-4c85-8ac3-75b314adec42",
   "metadata": {},
   "outputs": [],
   "source": [
    "control_meta <- filter(meta, meta$Phase2 == 'control')\n",
    "control_counts <- counts2[,colnames(counts2) %in% rownames(control_meta)]\n",
    "\n",
    "head(control_meta, 15)\n",
    "head(control_counts)"
   ]
  },
  {
   "cell_type": "code",
   "execution_count": null,
   "id": "2944279e-cfe4-473e-87e9-bfbd30456586",
   "metadata": {},
   "outputs": [],
   "source": [
    "# creating DESeq2 objext from the matrix, with the design = treatment (which has both phase 1 and phase 2 variables)\n",
    "p2c_dds <- DESeqDataSetFromMatrix(countData = control_counts,\n",
    "                              colData = control_meta, \n",
    "                              design = ~ Phase1)\n",
    "p2c_dds=DESeq(p2c_dds)\n",
    "resultsNames(p2c_dds)"
   ]
  },
  {
   "cell_type": "code",
   "execution_count": null,
   "id": "c9629956-4748-44a7-baea-b51bb24c4af3",
   "metadata": {},
   "outputs": [],
   "source": [
    "contrast6 <- c(\"Phase1\", \"hypoxic\", \"control\")\n",
    "\n",
    "# results of contrast3 with lfcThreshold=0.5 and normal shrinkage estimator\n",
    "ls_p2c<-lfcShrink(p2c_dds, # dds object\n",
    "                      contrast = contrast6, # only coef or contrast can be specified\n",
    "                      type=\"normal\", lfcThreshold=0.25,\n",
    "                      cooksCutoff=FALSE, independentFiltering=FALSE) # adding stuff to change outliers/padj=NA\n",
    "summary(ls_p2c)\n",
    "\n",
    "EnhancedVolcano(ls_p2c, \n",
    "                lab=NA,\n",
    "                x = 'log2FoldChange',\n",
    "                y='padj',\n",
    "                pCutoff=0.05)"
   ]
  },
  {
   "cell_type": "markdown",
   "id": "937783a5-f92f-48c1-886f-ea50b5e5987b",
   "metadata": {},
   "source": [
    "**phase 2 = hypoxia**"
   ]
  },
  {
   "cell_type": "code",
   "execution_count": null,
   "id": "87b432c8-75d7-4d5b-94b6-f0c850736b33",
   "metadata": {},
   "outputs": [],
   "source": [
    "hypoxic_meta <- filter(meta, meta$Phase2 == 'hypoxic')\n",
    "hypoxic_counts <- counts2[,colnames(counts2) %in% rownames(hypoxic_meta)]\n",
    "\n",
    "head(hypoxic_meta)\n",
    "head(hypoxic_counts)"
   ]
  },
  {
   "cell_type": "code",
   "execution_count": null,
   "id": "5956ea02-c528-4f42-be86-2ef7fd451d7e",
   "metadata": {},
   "outputs": [],
   "source": [
    "# creating DESeq2 objext from the matrix, with the design = treatment (which has both phase 1 and phase 2 variables)\n",
    "p2h_dds <- DESeqDataSetFromMatrix(countData = hypoxic_counts,\n",
    "                              colData = hypoxic_meta, \n",
    "                              design = ~ Phase1)\n",
    "p2h_dds=DESeq(p2h_dds)\n",
    "resultsNames(p2h_dds)"
   ]
  },
  {
   "cell_type": "code",
   "execution_count": null,
   "id": "f0aa925b-3180-471e-99ec-1a5c88697d0e",
   "metadata": {},
   "outputs": [],
   "source": [
    "contrast7 <- c(\"Phase1\", \"hypoxic\", \"control\")\n",
    "\n",
    "# results of contrast3 with lfcThreshold=0.5 and normal shrinkage estimator\n",
    "ls_p2h<-lfcShrink(p2h_dds, # dds object\n",
    "                      contrast = contrast7, # only coef or contrast can be specified\n",
    "                      type=\"normal\", lfcThreshold=0.25,\n",
    "                      cooksCutoff=FALSE, independentFiltering=FALSE) # adding stuff to change outliers/padj=NA\n",
    "summary(ls_p2h)\n",
    "\n",
    "EnhancedVolcano(ls_p2h, \n",
    "                lab=NA,\n",
    "                x = 'log2FoldChange',\n",
    "                y='padj',\n",
    "                pCutoff=0.05)"
   ]
  },
  {
   "cell_type": "markdown",
   "id": "cf635f92-75f3-4d5b-b3a8-8208c9a5c36f",
   "metadata": {},
   "source": [
    "## Phase 2 = both, effects of phase 1\n",
    "in Sarah's paper - this is the only combination we saw that had a significant effect on growth"
   ]
  },
  {
   "cell_type": "code",
   "execution_count": null,
   "id": "69b26ba3-ee69-4c1a-90f4-2f247339003d",
   "metadata": {},
   "outputs": [],
   "source": [
    "# selecting only samples that were both for phase 2\n",
    "p2b_meta <- filter(meta, meta$Phase2 == 'both')\n",
    "p2b_meta"
   ]
  },
  {
   "cell_type": "code",
   "execution_count": null,
   "id": "00d8d4d0-5666-4d15-b60a-c83b57c52168",
   "metadata": {},
   "outputs": [],
   "source": [
    "# selecting matching columns from counts matrix\n",
    "p2b_counts <- counts2[,colnames(counts2) %in% rownames(p2b_meta)]\n",
    "head(p2b_counts)"
   ]
  },
  {
   "cell_type": "code",
   "execution_count": null,
   "id": "91ee2dd5-cd1f-4f0d-9cfb-3bf08bf89406",
   "metadata": {},
   "outputs": [],
   "source": [
    "# creating DESeq2 objext from the matrix, with the design = treatment (which has both phase 1 and phase 2 variables)\n",
    "p2b_dds <- DESeqDataSetFromMatrix(countData = p2b_counts,\n",
    "                              colData = p2b_meta, \n",
    "                              design = ~ Phase1)\n",
    "p2b_dds=DESeq(p2b_dds)\n",
    "resultsNames(p2b_dds)"
   ]
  },
  {
   "cell_type": "code",
   "execution_count": null,
   "id": "8150c471-51d8-4a86-8cc6-a3372e35a297",
   "metadata": {},
   "outputs": [],
   "source": [
    "contrast8 <- c(\"Phase1\", \"warm\", \"both\")\n",
    "\n",
    "# results of contrast3 with lfcThreshold=0.5 and normal shrinkage estimator\n",
    "ls_p2b<-lfcShrink(p2b_dds, # dds object\n",
    "                      contrast = contrast8, # only coef or contrast can be specified\n",
    "                      type=\"normal\", lfcThreshold=0.25,\n",
    "                      cooksCutoff=FALSE, independentFiltering=FALSE) # adding stuff to change outliers/padj=NA\n",
    "summary(ls_p2b)\n",
    "\n",
    "EnhancedVolcano(ls_p2b, \n",
    "                lab=NA,\n",
    "                x = 'log2FoldChange',\n",
    "                y='padj',\n",
    "                pCutoff=0.05)\n",
    "\n",
    "res <- results(p2b_dds, alpha=0.05)\n",
    "summary(res)\n",
    "\n",
    "EnhancedVolcano(res, \n",
    "                lab=NA,\n",
    "                x = 'log2FoldChange',\n",
    "                y='padj',\n",
    "                pCutoff=0.05)"
   ]
  },
  {
   "cell_type": "markdown",
   "id": "368585c8-6c10-4fa8-8de0-85ff1f22122a",
   "metadata": {},
   "source": [
    "so only see a difference between first exposure when there's no filtering applied (first plot is filtered, second plot is removing filters)"
   ]
  },
  {
   "cell_type": "markdown",
   "id": "8e37e1b6-7410-4e61-881a-7d756ec17762",
   "metadata": {},
   "source": [
    "## checking out some other combinations\n",
    "\n",
    "#### both both vs. control control"
   ]
  },
  {
   "cell_type": "code",
   "execution_count": null,
   "id": "82a71851-9718-4cd1-a08e-cd58c3e0ce3e",
   "metadata": {},
   "outputs": [],
   "source": [
    "head(meta)\n",
    "head(counts2)"
   ]
  },
  {
   "cell_type": "code",
   "execution_count": null,
   "id": "7657001c-635b-4bb0-9b05-eb49da1aefd3",
   "metadata": {},
   "outputs": [],
   "source": [
    "both_meta <- filter(meta, meta$Phase1=='both')\n",
    "both_meta"
   ]
  },
  {
   "cell_type": "code",
   "execution_count": null,
   "id": "d063ee02-8865-4ce4-ab15-a39e0e60cd67",
   "metadata": {},
   "outputs": [],
   "source": [
    "control_meta <- filter(meta, meta$Phase1 == 'control' & meta$Phase2 == 'control')\n",
    "control_meta"
   ]
  },
  {
   "cell_type": "code",
   "execution_count": null,
   "id": "66fef130-9f94-4085-be7b-e6580c2ae70e",
   "metadata": {},
   "outputs": [],
   "source": [
    "df <- rbind(both_meta, control_meta)\n",
    "df"
   ]
  },
  {
   "cell_type": "code",
   "execution_count": null,
   "id": "a6888525-bb84-4710-8e10-7b288760d021",
   "metadata": {},
   "outputs": [],
   "source": [
    "new_counts <- counts2[,(colnames(counts2) %in% rownames(df))]"
   ]
  },
  {
   "cell_type": "code",
   "execution_count": null,
   "id": "37949f6f-9887-4367-81f2-6bcc47f18c60",
   "metadata": {},
   "outputs": [],
   "source": [
    "# creating DESeq2 objext from the matrix, with the design = treatment (which has both phase 1 and phase 2 variables)\n",
    "dds <- DESeqDataSetFromMatrix(countData = new_counts,\n",
    "                              colData = df, \n",
    "                              design = ~ Phase2)\n",
    "dds=DESeq(dds)\n",
    "resultsNames(dds)"
   ]
  },
  {
   "cell_type": "code",
   "execution_count": null,
   "id": "ef93a31a-bfe3-4db1-9c7d-f0b16d81b83f",
   "metadata": {},
   "outputs": [],
   "source": [
    "contrast <- c(\"Phase2\", \"control\", \"both\")\n",
    "\n",
    "# results of contrast3 with lfcThreshold=0.5 and normal shrinkage estimator\n",
    "res<-lfcShrink(dds, # dds object\n",
    "                      contrast = contrast, # only coef or contrast can be specified\n",
    "                      type=\"normal\", lfcThreshold=0.25,\n",
    "                      cooksCutoff=FALSE, independentFiltering=FALSE) # adding stuff to change outliers/padj=NA\n",
    "summary(res)\n",
    "\n",
    "EnhancedVolcano(res, \n",
    "                lab=NA,\n",
    "                x = 'log2FoldChange',\n",
    "                y='padj',\n",
    "                pCutoff=0.05)"
   ]
  },
  {
   "cell_type": "markdown",
   "id": "83f0884d-c1ef-4fc3-819c-7b64e64c65a3",
   "metadata": {},
   "source": [
    "**effects of phase 2 hypoxia vs. control, ignoring phase 1**"
   ]
  },
  {
   "cell_type": "code",
   "execution_count": null,
   "id": "625b6897-d00c-4334-9ccc-942a0b12ddc7",
   "metadata": {},
   "outputs": [],
   "source": [
    "df<-filter(meta, meta$Phase2 == 'hypoxic' | meta$Phase2 == 'control')\n",
    "df"
   ]
  },
  {
   "cell_type": "code",
   "execution_count": null,
   "id": "ed010385-73ad-46d0-ba97-9d2a741e3866",
   "metadata": {},
   "outputs": [],
   "source": [
    "new_counts <- counts2[,(colnames(counts2) %in% rownames(df))]\n",
    "head(new_counts)"
   ]
  },
  {
   "cell_type": "code",
   "execution_count": null,
   "id": "e728eedd-d1da-40a6-9bf8-94d1f19dd20d",
   "metadata": {},
   "outputs": [],
   "source": [
    "# creating DESeq2 objext from the matrix, with the design = treatment (which has both phase 1 and phase 2 variables)\n",
    "dds <- DESeqDataSetFromMatrix(countData = new_counts,\n",
    "                              colData = df, \n",
    "                              design = ~ Phase2)\n",
    "dds=DESeq(dds)\n",
    "resultsNames(dds)"
   ]
  },
  {
   "cell_type": "markdown",
   "id": "ce4ee94a-8b7d-42e9-baba-0ee1ead373bd",
   "metadata": {},
   "source": [
    "effect of phase 2, ignoring phase 1 (so only looking at phase 2 hypoxia vs. phase 2 control)"
   ]
  },
  {
   "cell_type": "code",
   "execution_count": null,
   "id": "616aec87-bcb2-453e-aea6-4f238bb472a2",
   "metadata": {},
   "outputs": [],
   "source": [
    "contrast <- c(\"Phase2\", \"hypoxic\", \"control\")\n",
    "\n",
    "# results of contrast3 with lfcThreshold=0.5 and normal shrinkage estimator\n",
    "res<-lfcShrink(dds, # dds object\n",
    "                      contrast = contrast, # only coef or contrast can be specified\n",
    "                      type=\"normal\", lfcThreshold=0.25,\n",
    "                      cooksCutoff=FALSE, independentFiltering=FALSE) # adding stuff to change outliers/padj=NA\n",
    "summary(res)\n",
    "\n",
    "EnhancedVolcano(res, \n",
    "                lab=NA,\n",
    "                x = 'log2FoldChange',\n",
    "                y='padj',\n",
    "                pCutoff=0.05)"
   ]
  },
  {
   "cell_type": "code",
   "execution_count": null,
   "id": "dac640a4-c6a4-4def-ac5f-7f18930e8bb6",
   "metadata": {},
   "outputs": [],
   "source": [
    "res$log2FoldChange <- as.numeric(res$log2FoldChange)\n",
    "res$more_me_in <- ifelse(res$log2FoldChange<0 & res$padj < 0.05, \"second exposure control\", \n",
    "                        ifelse(res$log2FoldChange>0 & res$padj < 0.05, \"second exposure hypoxic\", \n",
    "                               \"not significant\"))\n",
    "\n",
    "res$phase_effect <- 'phase2'\n",
    "\n",
    "head(res)"
   ]
  },
  {
   "cell_type": "code",
   "execution_count": null,
   "id": "99ed4c17-3f09-4ce1-a387-0c1916410f61",
   "metadata": {},
   "outputs": [],
   "source": [
    "write.csv(res, '/project/pi_sarah_gignouxwolfsohn_uml_edu/julia/CE_MethylRAD_analysis_2018/analysis/significant_genes/p2_ch.csv')"
   ]
  },
  {
   "cell_type": "code",
   "execution_count": null,
   "id": "3bde926c-e78f-4dee-962e-9836868f3a26",
   "metadata": {},
   "outputs": [],
   "source": [
    "df2<-filter(meta, meta$Phase1 == 'hypoxic' | meta$Phase1 == 'control')\n",
    "df2"
   ]
  },
  {
   "cell_type": "code",
   "execution_count": null,
   "id": "d31f0b3b-07da-44e9-811b-d8c87593f489",
   "metadata": {},
   "outputs": [],
   "source": [
    "new_counts2 <- counts2[,(colnames(counts2) %in% rownames(df2))]\n",
    "head(new_counts2)"
   ]
  },
  {
   "cell_type": "code",
   "execution_count": null,
   "id": "1adcc7ca-dfb3-44a2-8893-ef1c465d8571",
   "metadata": {},
   "outputs": [],
   "source": [
    "# creating DESeq2 objext from the matrix, with the design = treatment (which has both phase 1 and phase 2 variables)\n",
    "dds2 <- DESeqDataSetFromMatrix(countData = new_counts2,\n",
    "                              colData = df2, \n",
    "                              design = ~ Phase1)\n",
    "dds2=DESeq(dds2)\n",
    "resultsNames(dds2)"
   ]
  },
  {
   "cell_type": "code",
   "execution_count": null,
   "id": "c05a1b12-7d4e-434a-b1b4-0323c144edc7",
   "metadata": {},
   "outputs": [],
   "source": [
    "contrast2 <- c(\"Phase1\", \"hypoxic\", \"control\")\n",
    "\n",
    "# results of contrast3 with lfcThreshold=0.5 and normal shrinkage estimator\n",
    "res2<-lfcShrink(dds2, # dds object\n",
    "                      contrast = contrast2, # only coef or contrast can be specified\n",
    "                      type=\"normal\", lfcThreshold=0.25,\n",
    "                      cooksCutoff=FALSE, independentFiltering=FALSE) # adding stuff to change outliers/padj=NA\n",
    "summary(res2)\n",
    "\n",
    "EnhancedVolcano(res2, \n",
    "                lab=NA,\n",
    "                x = 'log2FoldChange',\n",
    "                y='padj',\n",
    "                pCutoff=0.05)"
   ]
  },
  {
   "cell_type": "code",
   "execution_count": null,
   "id": "e898a970-2cd6-4a20-b956-cb324bbbac46",
   "metadata": {},
   "outputs": [],
   "source": [
    "res2$log2FoldChange <- as.numeric(res2$log2FoldChange)\n",
    "res2$more_me_in <- ifelse(res2$log2FoldChange<0 & res2$padj < 0.05, \"first exposure control\", #neg ES = pathway for control\n",
    "                        ifelse(res2$log2FoldChange>0 & res2$padj < 0.05, \"first exposure hypoxic\", # pos ES = pathway for warm\n",
    "                               \"not significant\"))\n",
    "\n",
    "res2$phase_effect <- 'phase1'\n",
    "\n",
    "head(res2)"
   ]
  },
  {
   "cell_type": "code",
   "execution_count": null,
   "id": "b3580ec3-d9a2-41d4-8aa4-0c7a259b9581",
   "metadata": {},
   "outputs": [],
   "source": [
    "merge_df <- as.data.frame(rbind(res, res2))\n",
    "dim(merge_df)\n",
    "head(merge_df)"
   ]
  },
  {
   "cell_type": "code",
   "execution_count": null,
   "id": "3649785c-b307-4847-9021-a45efe7c5e64",
   "metadata": {},
   "outputs": [],
   "source": [
    "write.csv(merge_df, '/project/pi_sarah_gignouxwolfsohn_uml_edu/julia/CE_MethylRAD_analysis_2018/analysis/significant_genes/volcano_data/phase1_phase1_only_genes.csv')"
   ]
  },
  {
   "cell_type": "markdown",
   "id": "40f6767f-e357-4007-a198-41f870b0369d",
   "metadata": {},
   "source": [
    "## trying to find other visualizations\n",
    "like an MDS (multi-dimensional scaling) plot - following [this tutorial](https://angus.readthedocs.io/en/2019/diff-ex-and-viz.html)"
   ]
  },
  {
   "cell_type": "code",
   "execution_count": 49,
   "id": "ad10d022-c875-4672-8d86-60813237cf88",
   "metadata": {},
   "outputs": [
    {
     "name": "stderr",
     "output_type": "stream",
     "text": [
      "Warning message in DESeqDataSet(se, design = design, ignoreRank):\n",
      "“some variables in design formula are characters, converting to factors”\n",
      "  Note: levels of factors in the design contain characters other than\n",
      "  letters, numbers, '_' and '.'. It is recommended (but not required) to use\n",
      "  only letters, numbers, and delimiters '_' or '.', as these are safe characters\n",
      "  for column names in R. [This is a message, not a warning or an error]\n",
      "\n",
      "estimating size factors\n",
      "\n",
      "  Note: levels of factors in the design contain characters other than\n",
      "  letters, numbers, '_' and '.'. It is recommended (but not required) to use\n",
      "  only letters, numbers, and delimiters '_' or '.', as these are safe characters\n",
      "  for column names in R. [This is a message, not a warning or an error]\n",
      "\n",
      "estimating dispersions\n",
      "\n",
      "gene-wise dispersion estimates\n",
      "\n",
      "mean-dispersion relationship\n",
      "\n",
      "  Note: levels of factors in the design contain characters other than\n",
      "  letters, numbers, '_' and '.'. It is recommended (but not required) to use\n",
      "  only letters, numbers, and delimiters '_' or '.', as these are safe characters\n",
      "  for column names in R. [This is a message, not a warning or an error]\n",
      "\n",
      "final dispersion estimates\n",
      "\n",
      "fitting model and testing\n",
      "\n"
     ]
    },
    {
     "data": {
      "text/html": [
       "<style>\n",
       ".list-inline {list-style: none; margin:0; padding: 0}\n",
       ".list-inline>li {display: inline-block}\n",
       ".list-inline>li:not(:last-child)::after {content: \"\\00b7\"; padding: 0 .5ex}\n",
       "</style>\n",
       "<ol class=list-inline><li>'Intercept'</li><li>'treatment_control.control_vs_both.both'</li><li>'treatment_control.hypoxic_vs_both.both'</li><li>'treatment_hypoxic.control_vs_both.both'</li><li>'treatment_hypoxic.hypoxic_vs_both.both'</li><li>'treatment_warm.both_vs_both.both'</li></ol>\n"
      ],
      "text/latex": [
       "\\begin{enumerate*}\n",
       "\\item 'Intercept'\n",
       "\\item 'treatment\\_control.control\\_vs\\_both.both'\n",
       "\\item 'treatment\\_control.hypoxic\\_vs\\_both.both'\n",
       "\\item 'treatment\\_hypoxic.control\\_vs\\_both.both'\n",
       "\\item 'treatment\\_hypoxic.hypoxic\\_vs\\_both.both'\n",
       "\\item 'treatment\\_warm.both\\_vs\\_both.both'\n",
       "\\end{enumerate*}\n"
      ],
      "text/markdown": [
       "1. 'Intercept'\n",
       "2. 'treatment_control.control_vs_both.both'\n",
       "3. 'treatment_control.hypoxic_vs_both.both'\n",
       "4. 'treatment_hypoxic.control_vs_both.both'\n",
       "5. 'treatment_hypoxic.hypoxic_vs_both.both'\n",
       "6. 'treatment_warm.both_vs_both.both'\n",
       "\n",
       "\n"
      ],
      "text/plain": [
       "[1] \"Intercept\"                             \n",
       "[2] \"treatment_control.control_vs_both.both\"\n",
       "[3] \"treatment_control.hypoxic_vs_both.both\"\n",
       "[4] \"treatment_hypoxic.control_vs_both.both\"\n",
       "[5] \"treatment_hypoxic.hypoxic_vs_both.both\"\n",
       "[6] \"treatment_warm.both_vs_both.both\"      "
      ]
     },
     "metadata": {},
     "output_type": "display_data"
    }
   ],
   "source": [
    "# creating DESeq2 objext from the matrix, with the design = treatment (which has both phase 1 and phase 2 variables)\n",
    "dds <- DESeqDataSetFromMatrix(countData = counts2,\n",
    "                              colData = meta, \n",
    "                              design = ~ treatment)\n",
    "dds=DESeq(dds)\n",
    "resultsNames(dds)"
   ]
  },
  {
   "cell_type": "code",
   "execution_count": 50,
   "id": "660b6868-879b-4a1d-8d4e-977e2d59d87e",
   "metadata": {},
   "outputs": [
    {
     "data": {
      "text/html": [
       "<table class=\"dataframe\">\n",
       "<caption>A matrix: 6 × 30 of type dbl</caption>\n",
       "<thead>\n",
       "\t<tr><th></th><th scope=col>BBB-WBO-B21</th><th scope=col>BBB-WBV-B70</th><th scope=col>BBO-BBO-B16</th><th scope=col>BBO-BBY-B27</th><th scope=col>BBO-WBO-B16</th><th scope=col>BBO-WBV-B64</th><th scope=col>BBR-BBB-B50</th><th scope=col>BBR-BBG-B38</th><th scope=col>BBR-BBY-B26</th><th scope=col>BBY-WBG-B42</th><th scope=col>⋯</th><th scope=col>WBR-BBY-W25</th><th scope=col>WBV-WBO-W23</th><th scope=col>WBV-WBR-W12</th><th scope=col>WBY-BBV-W65</th><th scope=col>WBY-BBY-W30</th><th scope=col>WPB-BPG-G45</th><th scope=col>WPO-BPO-G16</th><th scope=col>WPO-BPY-G28</th><th scope=col>WPR-BPY-G25</th><th scope=col>WPV-BPR-G11</th></tr>\n",
       "</thead>\n",
       "<tbody>\n",
       "\t<tr><th scope=row>BBB-WBO-B21</th><td> 0.00000</td><td>72.59921</td><td>80.13301</td><td>81.27722</td><td>71.56917</td><td>70.10412</td><td>80.28364</td><td>74.55826</td><td>77.84297</td><td>74.92646</td><td>⋯</td><td>86.31488</td><td>85.33591</td><td>97.54780</td><td>87.73409</td><td>84.98002</td><td>88.88191</td><td>86.81277</td><td>156.5135</td><td>72.91909</td><td>170.3403</td></tr>\n",
       "\t<tr><th scope=row>BBB-WBV-B70</th><td>72.59921</td><td> 0.00000</td><td>74.24841</td><td>79.44012</td><td>71.68014</td><td>71.06009</td><td>71.90308</td><td>75.68720</td><td>75.98667</td><td>85.99663</td><td>⋯</td><td>77.57145</td><td>84.73642</td><td>98.37139</td><td>86.00201</td><td>82.15592</td><td>86.69282</td><td>86.14067</td><td>157.3118</td><td>75.67415</td><td>171.6488</td></tr>\n",
       "\t<tr><th scope=row>BBO-BBO-B16</th><td>80.13301</td><td>74.24841</td><td> 0.00000</td><td>72.32758</td><td>72.75041</td><td>78.04398</td><td>68.70168</td><td>69.57046</td><td>66.84247</td><td>86.23718</td><td>⋯</td><td>76.66986</td><td>77.96083</td><td>90.69229</td><td>72.24595</td><td>72.07933</td><td>75.44177</td><td>78.37029</td><td>156.7060</td><td>78.82918</td><td>169.2188</td></tr>\n",
       "\t<tr><th scope=row>BBO-BBY-B27</th><td>81.27722</td><td>79.44012</td><td>72.32758</td><td> 0.00000</td><td>78.54427</td><td>77.25424</td><td>73.63429</td><td>72.62026</td><td>65.81371</td><td>90.33445</td><td>⋯</td><td>84.07142</td><td>82.94747</td><td>92.68411</td><td>74.24694</td><td>69.20839</td><td>80.91111</td><td>82.33069</td><td>156.6965</td><td>89.04985</td><td>164.4188</td></tr>\n",
       "\t<tr><th scope=row>BBO-WBO-B16</th><td>71.56917</td><td>71.68014</td><td>72.75041</td><td>78.54427</td><td> 0.00000</td><td>70.54558</td><td>76.09906</td><td>76.51411</td><td>74.29076</td><td>82.28612</td><td>⋯</td><td>84.43243</td><td>82.46757</td><td>92.83942</td><td>80.23510</td><td>80.50514</td><td>84.80849</td><td>84.18771</td><td>157.8641</td><td>77.40410</td><td>171.1277</td></tr>\n",
       "\t<tr><th scope=row>BBO-WBV-B64</th><td>70.10412</td><td>71.06009</td><td>78.04398</td><td>77.25424</td><td>70.54558</td><td> 0.00000</td><td>78.94966</td><td>76.72987</td><td>71.49559</td><td>83.38631</td><td>⋯</td><td>84.76568</td><td>85.77544</td><td>95.97231</td><td>84.97153</td><td>81.40162</td><td>86.98666</td><td>84.03077</td><td>155.6548</td><td>78.03934</td><td>169.5302</td></tr>\n",
       "</tbody>\n",
       "</table>\n"
      ],
      "text/latex": [
       "A matrix: 6 × 30 of type dbl\n",
       "\\begin{tabular}{r|lllllllllllllllllllll}\n",
       "  & BBB-WBO-B21 & BBB-WBV-B70 & BBO-BBO-B16 & BBO-BBY-B27 & BBO-WBO-B16 & BBO-WBV-B64 & BBR-BBB-B50 & BBR-BBG-B38 & BBR-BBY-B26 & BBY-WBG-B42 & ⋯ & WBR-BBY-W25 & WBV-WBO-W23 & WBV-WBR-W12 & WBY-BBV-W65 & WBY-BBY-W30 & WPB-BPG-G45 & WPO-BPO-G16 & WPO-BPY-G28 & WPR-BPY-G25 & WPV-BPR-G11\\\\\n",
       "\\hline\n",
       "\tBBB-WBO-B21 &  0.00000 & 72.59921 & 80.13301 & 81.27722 & 71.56917 & 70.10412 & 80.28364 & 74.55826 & 77.84297 & 74.92646 & ⋯ & 86.31488 & 85.33591 & 97.54780 & 87.73409 & 84.98002 & 88.88191 & 86.81277 & 156.5135 & 72.91909 & 170.3403\\\\\n",
       "\tBBB-WBV-B70 & 72.59921 &  0.00000 & 74.24841 & 79.44012 & 71.68014 & 71.06009 & 71.90308 & 75.68720 & 75.98667 & 85.99663 & ⋯ & 77.57145 & 84.73642 & 98.37139 & 86.00201 & 82.15592 & 86.69282 & 86.14067 & 157.3118 & 75.67415 & 171.6488\\\\\n",
       "\tBBO-BBO-B16 & 80.13301 & 74.24841 &  0.00000 & 72.32758 & 72.75041 & 78.04398 & 68.70168 & 69.57046 & 66.84247 & 86.23718 & ⋯ & 76.66986 & 77.96083 & 90.69229 & 72.24595 & 72.07933 & 75.44177 & 78.37029 & 156.7060 & 78.82918 & 169.2188\\\\\n",
       "\tBBO-BBY-B27 & 81.27722 & 79.44012 & 72.32758 &  0.00000 & 78.54427 & 77.25424 & 73.63429 & 72.62026 & 65.81371 & 90.33445 & ⋯ & 84.07142 & 82.94747 & 92.68411 & 74.24694 & 69.20839 & 80.91111 & 82.33069 & 156.6965 & 89.04985 & 164.4188\\\\\n",
       "\tBBO-WBO-B16 & 71.56917 & 71.68014 & 72.75041 & 78.54427 &  0.00000 & 70.54558 & 76.09906 & 76.51411 & 74.29076 & 82.28612 & ⋯ & 84.43243 & 82.46757 & 92.83942 & 80.23510 & 80.50514 & 84.80849 & 84.18771 & 157.8641 & 77.40410 & 171.1277\\\\\n",
       "\tBBO-WBV-B64 & 70.10412 & 71.06009 & 78.04398 & 77.25424 & 70.54558 &  0.00000 & 78.94966 & 76.72987 & 71.49559 & 83.38631 & ⋯ & 84.76568 & 85.77544 & 95.97231 & 84.97153 & 81.40162 & 86.98666 & 84.03077 & 155.6548 & 78.03934 & 169.5302\\\\\n",
       "\\end{tabular}\n"
      ],
      "text/markdown": [
       "\n",
       "A matrix: 6 × 30 of type dbl\n",
       "\n",
       "| <!--/--> | BBB-WBO-B21 | BBB-WBV-B70 | BBO-BBO-B16 | BBO-BBY-B27 | BBO-WBO-B16 | BBO-WBV-B64 | BBR-BBB-B50 | BBR-BBG-B38 | BBR-BBY-B26 | BBY-WBG-B42 | ⋯ | WBR-BBY-W25 | WBV-WBO-W23 | WBV-WBR-W12 | WBY-BBV-W65 | WBY-BBY-W30 | WPB-BPG-G45 | WPO-BPO-G16 | WPO-BPY-G28 | WPR-BPY-G25 | WPV-BPR-G11 |\n",
       "|---|---|---|---|---|---|---|---|---|---|---|---|---|---|---|---|---|---|---|---|---|---|\n",
       "| BBB-WBO-B21 |  0.00000 | 72.59921 | 80.13301 | 81.27722 | 71.56917 | 70.10412 | 80.28364 | 74.55826 | 77.84297 | 74.92646 | ⋯ | 86.31488 | 85.33591 | 97.54780 | 87.73409 | 84.98002 | 88.88191 | 86.81277 | 156.5135 | 72.91909 | 170.3403 |\n",
       "| BBB-WBV-B70 | 72.59921 |  0.00000 | 74.24841 | 79.44012 | 71.68014 | 71.06009 | 71.90308 | 75.68720 | 75.98667 | 85.99663 | ⋯ | 77.57145 | 84.73642 | 98.37139 | 86.00201 | 82.15592 | 86.69282 | 86.14067 | 157.3118 | 75.67415 | 171.6488 |\n",
       "| BBO-BBO-B16 | 80.13301 | 74.24841 |  0.00000 | 72.32758 | 72.75041 | 78.04398 | 68.70168 | 69.57046 | 66.84247 | 86.23718 | ⋯ | 76.66986 | 77.96083 | 90.69229 | 72.24595 | 72.07933 | 75.44177 | 78.37029 | 156.7060 | 78.82918 | 169.2188 |\n",
       "| BBO-BBY-B27 | 81.27722 | 79.44012 | 72.32758 |  0.00000 | 78.54427 | 77.25424 | 73.63429 | 72.62026 | 65.81371 | 90.33445 | ⋯ | 84.07142 | 82.94747 | 92.68411 | 74.24694 | 69.20839 | 80.91111 | 82.33069 | 156.6965 | 89.04985 | 164.4188 |\n",
       "| BBO-WBO-B16 | 71.56917 | 71.68014 | 72.75041 | 78.54427 |  0.00000 | 70.54558 | 76.09906 | 76.51411 | 74.29076 | 82.28612 | ⋯ | 84.43243 | 82.46757 | 92.83942 | 80.23510 | 80.50514 | 84.80849 | 84.18771 | 157.8641 | 77.40410 | 171.1277 |\n",
       "| BBO-WBV-B64 | 70.10412 | 71.06009 | 78.04398 | 77.25424 | 70.54558 |  0.00000 | 78.94966 | 76.72987 | 71.49559 | 83.38631 | ⋯ | 84.76568 | 85.77544 | 95.97231 | 84.97153 | 81.40162 | 86.98666 | 84.03077 | 155.6548 | 78.03934 | 169.5302 |\n",
       "\n"
      ],
      "text/plain": [
       "            BBB-WBO-B21 BBB-WBV-B70 BBO-BBO-B16 BBO-BBY-B27 BBO-WBO-B16\n",
       "BBB-WBO-B21  0.00000    72.59921    80.13301    81.27722    71.56917   \n",
       "BBB-WBV-B70 72.59921     0.00000    74.24841    79.44012    71.68014   \n",
       "BBO-BBO-B16 80.13301    74.24841     0.00000    72.32758    72.75041   \n",
       "BBO-BBY-B27 81.27722    79.44012    72.32758     0.00000    78.54427   \n",
       "BBO-WBO-B16 71.56917    71.68014    72.75041    78.54427     0.00000   \n",
       "BBO-WBV-B64 70.10412    71.06009    78.04398    77.25424    70.54558   \n",
       "            BBO-WBV-B64 BBR-BBB-B50 BBR-BBG-B38 BBR-BBY-B26 BBY-WBG-B42 ⋯\n",
       "BBB-WBO-B21 70.10412    80.28364    74.55826    77.84297    74.92646    ⋯\n",
       "BBB-WBV-B70 71.06009    71.90308    75.68720    75.98667    85.99663    ⋯\n",
       "BBO-BBO-B16 78.04398    68.70168    69.57046    66.84247    86.23718    ⋯\n",
       "BBO-BBY-B27 77.25424    73.63429    72.62026    65.81371    90.33445    ⋯\n",
       "BBO-WBO-B16 70.54558    76.09906    76.51411    74.29076    82.28612    ⋯\n",
       "BBO-WBV-B64  0.00000    78.94966    76.72987    71.49559    83.38631    ⋯\n",
       "            WBR-BBY-W25 WBV-WBO-W23 WBV-WBR-W12 WBY-BBV-W65 WBY-BBY-W30\n",
       "BBB-WBO-B21 86.31488    85.33591    97.54780    87.73409    84.98002   \n",
       "BBB-WBV-B70 77.57145    84.73642    98.37139    86.00201    82.15592   \n",
       "BBO-BBO-B16 76.66986    77.96083    90.69229    72.24595    72.07933   \n",
       "BBO-BBY-B27 84.07142    82.94747    92.68411    74.24694    69.20839   \n",
       "BBO-WBO-B16 84.43243    82.46757    92.83942    80.23510    80.50514   \n",
       "BBO-WBV-B64 84.76568    85.77544    95.97231    84.97153    81.40162   \n",
       "            WPB-BPG-G45 WPO-BPO-G16 WPO-BPY-G28 WPR-BPY-G25 WPV-BPR-G11\n",
       "BBB-WBO-B21 88.88191    86.81277    156.5135    72.91909    170.3403   \n",
       "BBB-WBV-B70 86.69282    86.14067    157.3118    75.67415    171.6488   \n",
       "BBO-BBO-B16 75.44177    78.37029    156.7060    78.82918    169.2188   \n",
       "BBO-BBY-B27 80.91111    82.33069    156.6965    89.04985    164.4188   \n",
       "BBO-WBO-B16 84.80849    84.18771    157.8641    77.40410    171.1277   \n",
       "BBO-WBV-B64 86.98666    84.03077    155.6548    78.03934    169.5302   "
      ]
     },
     "metadata": {},
     "output_type": "display_data"
    },
    {
     "data": {
      "text/html": [
       "<table class=\"dataframe\">\n",
       "<caption>A data.frame: 6 × 6</caption>\n",
       "<thead>\n",
       "\t<tr><th></th><th scope=col>X1</th><th scope=col>X2</th><th scope=col>Phase1</th><th scope=col>Phase2</th><th scope=col>treatment</th><th scope=col>sizeFactor</th></tr>\n",
       "\t<tr><th></th><th scope=col>&lt;dbl&gt;</th><th scope=col>&lt;dbl&gt;</th><th scope=col>&lt;chr&gt;</th><th scope=col>&lt;chr&gt;</th><th scope=col>&lt;fct&gt;</th><th scope=col>&lt;dbl&gt;</th></tr>\n",
       "</thead>\n",
       "<tbody>\n",
       "\t<tr><th scope=row>BBB-WBO-B21</th><td>-10.271375</td><td>-2.628717</td><td>hypoxic</td><td>control</td><td>hypoxic control</td><td>3.531894</td></tr>\n",
       "\t<tr><th scope=row>BBB-WBV-B70</th><td>-12.523839</td><td>-2.714344</td><td>hypoxic</td><td>control</td><td>hypoxic control</td><td>3.041609</td></tr>\n",
       "\t<tr><th scope=row>BBO-BBO-B16</th><td>-12.685491</td><td>-4.792714</td><td>hypoxic</td><td>hypoxic</td><td>hypoxic hypoxic</td><td>2.460376</td></tr>\n",
       "\t<tr><th scope=row>BBO-BBY-B27</th><td> -5.432878</td><td>-7.115912</td><td>hypoxic</td><td>hypoxic</td><td>hypoxic hypoxic</td><td>1.683002</td></tr>\n",
       "\t<tr><th scope=row>BBO-WBO-B16</th><td>-13.181542</td><td>-4.131192</td><td>hypoxic</td><td>control</td><td>hypoxic control</td><td>3.586636</td></tr>\n",
       "\t<tr><th scope=row>BBO-WBV-B64</th><td> -9.660726</td><td>-2.273444</td><td>hypoxic</td><td>control</td><td>hypoxic control</td><td>3.235239</td></tr>\n",
       "</tbody>\n",
       "</table>\n"
      ],
      "text/latex": [
       "A data.frame: 6 × 6\n",
       "\\begin{tabular}{r|llllll}\n",
       "  & X1 & X2 & Phase1 & Phase2 & treatment & sizeFactor\\\\\n",
       "  & <dbl> & <dbl> & <chr> & <chr> & <fct> & <dbl>\\\\\n",
       "\\hline\n",
       "\tBBB-WBO-B21 & -10.271375 & -2.628717 & hypoxic & control & hypoxic control & 3.531894\\\\\n",
       "\tBBB-WBV-B70 & -12.523839 & -2.714344 & hypoxic & control & hypoxic control & 3.041609\\\\\n",
       "\tBBO-BBO-B16 & -12.685491 & -4.792714 & hypoxic & hypoxic & hypoxic hypoxic & 2.460376\\\\\n",
       "\tBBO-BBY-B27 &  -5.432878 & -7.115912 & hypoxic & hypoxic & hypoxic hypoxic & 1.683002\\\\\n",
       "\tBBO-WBO-B16 & -13.181542 & -4.131192 & hypoxic & control & hypoxic control & 3.586636\\\\\n",
       "\tBBO-WBV-B64 &  -9.660726 & -2.273444 & hypoxic & control & hypoxic control & 3.235239\\\\\n",
       "\\end{tabular}\n"
      ],
      "text/markdown": [
       "\n",
       "A data.frame: 6 × 6\n",
       "\n",
       "| <!--/--> | X1 &lt;dbl&gt; | X2 &lt;dbl&gt; | Phase1 &lt;chr&gt; | Phase2 &lt;chr&gt; | treatment &lt;fct&gt; | sizeFactor &lt;dbl&gt; |\n",
       "|---|---|---|---|---|---|---|\n",
       "| BBB-WBO-B21 | -10.271375 | -2.628717 | hypoxic | control | hypoxic control | 3.531894 |\n",
       "| BBB-WBV-B70 | -12.523839 | -2.714344 | hypoxic | control | hypoxic control | 3.041609 |\n",
       "| BBO-BBO-B16 | -12.685491 | -4.792714 | hypoxic | hypoxic | hypoxic hypoxic | 2.460376 |\n",
       "| BBO-BBY-B27 |  -5.432878 | -7.115912 | hypoxic | hypoxic | hypoxic hypoxic | 1.683002 |\n",
       "| BBO-WBO-B16 | -13.181542 | -4.131192 | hypoxic | control | hypoxic control | 3.586636 |\n",
       "| BBO-WBV-B64 |  -9.660726 | -2.273444 | hypoxic | control | hypoxic control | 3.235239 |\n",
       "\n"
      ],
      "text/plain": [
       "            X1         X2        Phase1  Phase2  treatment       sizeFactor\n",
       "BBB-WBO-B21 -10.271375 -2.628717 hypoxic control hypoxic control 3.531894  \n",
       "BBB-WBV-B70 -12.523839 -2.714344 hypoxic control hypoxic control 3.041609  \n",
       "BBO-BBO-B16 -12.685491 -4.792714 hypoxic hypoxic hypoxic hypoxic 2.460376  \n",
       "BBO-BBY-B27  -5.432878 -7.115912 hypoxic hypoxic hypoxic hypoxic 1.683002  \n",
       "BBO-WBO-B16 -13.181542 -4.131192 hypoxic control hypoxic control 3.586636  \n",
       "BBO-WBV-B64  -9.660726 -2.273444 hypoxic control hypoxic control 3.235239  "
      ]
     },
     "metadata": {},
     "output_type": "display_data"
    }
   ],
   "source": [
    "# MDS plot\n",
    "\n",
    "# normalization & transformation\n",
    "vsd <- vst(dds)\n",
    "\n",
    "# calculate sample distances\n",
    "sample_dists <- assay(vsd) %>%\n",
    "t() %>%\n",
    "dist() %>%\n",
    "as.matrix()\n",
    "\n",
    "head(sample_dists)\n",
    "\n",
    "# calculate MDS value from distance matrix\n",
    "mdsData <- data.frame(cmdscale(sample_dists))\n",
    "mds <- cbind(mdsData, as.data.frame(colData(vsd))) # combine with sample data\n",
    "head(mds)"
   ]
  },
  {
   "cell_type": "code",
   "execution_count": 51,
   "id": "7e3541ab-0cab-454f-89c1-c7a7f70a9e91",
   "metadata": {},
   "outputs": [
    {
     "data": {
      "image/png": "[encoded data removed]",
      "text/plain": [
       "plot without title"
      ]
     },
     "metadata": {
      "image/png": {
       "height": 420,
       "width": 420
      }
     },
     "output_type": "display_data"
    }
   ],
   "source": [
    "# plot\n",
    "ggplot(mds, aes(X1, X2, shape = treatment, col = treatment)) + \n",
    "  geom_point(size = 3) +\n",
    "  theme_minimal()"
   ]
  },
  {
   "cell_type": "code",
   "execution_count": 59,
   "id": "4b7b08be-96e4-4293-83b9-aa382060862d",
   "metadata": {},
   "outputs": [
    {
     "data": {
      "image/png": "[encoded data removed]",
      "text/plain": [
       "plot without title"
      ]
     },
     "metadata": {
      "image/png": {
       "height": 420,
       "width": 420
      }
     },
     "output_type": "display_data"
    }
   ],
   "source": [
    "# plot\n",
    "ggplot(mds, aes(X1, X2, shape = treatment, col = treatment)) + \n",
    "  geom_point(size = 3) +\n",
    "coord_cartesian(xlim=c(-25,25), ylim = c(-25,25)) +\n",
    "labs(title = \"MDS plot\") +\n",
    "  theme_light()"
   ]
  },
  {
   "cell_type": "code",
   "execution_count": 60,
   "id": "14612c08-7d22-4563-b48a-2357b800f1b4",
   "metadata": {},
   "outputs": [
    {
     "data": {
      "image/png": "[encoded data removed]",
      "text/plain": [
       "plot without title"
      ]
     },
     "metadata": {
      "image/png": {
       "height": 420,
       "width": 420
      }
     },
     "output_type": "display_data"
    }
   ],
   "source": [
    "# plot\n",
    "ggplot(mds, aes(X1, X2, shape = Phase1, col = Phase2)) + \n",
    "  geom_point(size = 3) +\n",
    "coord_cartesian(xlim=c(-25,25), ylim = c(-25,25)) +\n",
    "labs(title = \"MDS plot\") +\n",
    "  theme_light()"
   ]
  },
  {
   "cell_type": "markdown",
   "id": "445aa3d2-885d-4b1d-8150-db79c5da0aee",
   "metadata": {},
   "source": [
    "above plot shows all samples - but for this analysis, I'm not using any of the warm both or oth. both samples - so want to remove those"
   ]
  },
  {
   "cell_type": "code",
   "execution_count": 63,
   "id": "c28ba5d4-8265-40fb-8fee-b5b9569be83b",
   "metadata": {},
   "outputs": [
    {
     "data": {
      "text/html": [
       "<style>\n",
       ".list-inline {list-style: none; margin:0; padding: 0}\n",
       ".list-inline>li {display: inline-block}\n",
       ".list-inline>li:not(:last-child)::after {content: \"\\00b7\"; padding: 0 .5ex}\n",
       "</style>\n",
       "<ol class=list-inline><li>20</li><li>3</li></ol>\n"
      ],
      "text/latex": [
       "\\begin{enumerate*}\n",
       "\\item 20\n",
       "\\item 3\n",
       "\\end{enumerate*}\n"
      ],
      "text/markdown": [
       "1. 20\n",
       "2. 3\n",
       "\n",
       "\n"
      ],
      "text/plain": [
       "[1] 20  3"
      ]
     },
     "metadata": {},
     "output_type": "display_data"
    },
    {
     "data": {
      "text/html": [
       "<style>\n",
       ".list-inline {list-style: none; margin:0; padding: 0}\n",
       ".list-inline>li {display: inline-block}\n",
       ".list-inline>li:not(:last-child)::after {content: \"\\00b7\"; padding: 0 .5ex}\n",
       "</style>\n",
       "<ol class=list-inline><li>13544</li><li>20</li></ol>\n"
      ],
      "text/latex": [
       "\\begin{enumerate*}\n",
       "\\item 13544\n",
       "\\item 20\n",
       "\\end{enumerate*}\n"
      ],
      "text/markdown": [
       "1. 13544\n",
       "2. 20\n",
       "\n",
       "\n"
      ],
      "text/plain": [
       "[1] 13544    20"
      ]
     },
     "metadata": {},
     "output_type": "display_data"
    }
   ],
   "source": [
    "# removing warm both and both both samples\n",
    "meta_filtered <- filter(meta, meta$Phase2 != 'both')\n",
    "\n",
    "# need to remove them from counts as well\n",
    "counts_filtered <- counts2[, colnames(counts2) %in% rownames(meta_filtered)]\n",
    "\n",
    "dim(meta_filtered)\n",
    "dim(counts_filtered)"
   ]
  },
  {
   "cell_type": "code",
   "execution_count": 64,
   "id": "ac00ceaf-9a0f-468b-984a-8f5528028dd4",
   "metadata": {},
   "outputs": [
    {
     "name": "stderr",
     "output_type": "stream",
     "text": [
      "Warning message in DESeqDataSet(se, design = design, ignoreRank):\n",
      "“some variables in design formula are characters, converting to factors”\n",
      "  Note: levels of factors in the design contain characters other than\n",
      "  letters, numbers, '_' and '.'. It is recommended (but not required) to use\n",
      "  only letters, numbers, and delimiters '_' or '.', as these are safe characters\n",
      "  for column names in R. [This is a message, not a warning or an error]\n",
      "\n",
      "estimating size factors\n",
      "\n",
      "  Note: levels of factors in the design contain characters other than\n",
      "  letters, numbers, '_' and '.'. It is recommended (but not required) to use\n",
      "  only letters, numbers, and delimiters '_' or '.', as these are safe characters\n",
      "  for column names in R. [This is a message, not a warning or an error]\n",
      "\n",
      "estimating dispersions\n",
      "\n",
      "gene-wise dispersion estimates\n",
      "\n",
      "mean-dispersion relationship\n",
      "\n",
      "-- note: fitType='parametric', but the dispersion trend was not well captured by the\n",
      "   function: y = a/x + b, and a local regression fit was automatically substituted.\n",
      "   specify fitType='local' or 'mean' to avoid this message next time.\n",
      "\n",
      "  Note: levels of factors in the design contain characters other than\n",
      "  letters, numbers, '_' and '.'. It is recommended (but not required) to use\n",
      "  only letters, numbers, and delimiters '_' or '.', as these are safe characters\n",
      "  for column names in R. [This is a message, not a warning or an error]\n",
      "\n",
      "final dispersion estimates\n",
      "\n",
      "fitting model and testing\n",
      "\n"
     ]
    },
    {
     "data": {
      "text/html": [
       "<style>\n",
       ".list-inline {list-style: none; margin:0; padding: 0}\n",
       ".list-inline>li {display: inline-block}\n",
       ".list-inline>li:not(:last-child)::after {content: \"\\00b7\"; padding: 0 .5ex}\n",
       "</style>\n",
       "<ol class=list-inline><li>'Intercept'</li><li>'treatment_control.hypoxic_vs_control.control'</li><li>'treatment_hypoxic.control_vs_control.control'</li><li>'treatment_hypoxic.hypoxic_vs_control.control'</li></ol>\n"
      ],
      "text/latex": [
       "\\begin{enumerate*}\n",
       "\\item 'Intercept'\n",
       "\\item 'treatment\\_control.hypoxic\\_vs\\_control.control'\n",
       "\\item 'treatment\\_hypoxic.control\\_vs\\_control.control'\n",
       "\\item 'treatment\\_hypoxic.hypoxic\\_vs\\_control.control'\n",
       "\\end{enumerate*}\n"
      ],
      "text/markdown": [
       "1. 'Intercept'\n",
       "2. 'treatment_control.hypoxic_vs_control.control'\n",
       "3. 'treatment_hypoxic.control_vs_control.control'\n",
       "4. 'treatment_hypoxic.hypoxic_vs_control.control'\n",
       "\n",
       "\n"
      ],
      "text/plain": [
       "[1] \"Intercept\"                                   \n",
       "[2] \"treatment_control.hypoxic_vs_control.control\"\n",
       "[3] \"treatment_hypoxic.control_vs_control.control\"\n",
       "[4] \"treatment_hypoxic.hypoxic_vs_control.control\""
      ]
     },
     "metadata": {},
     "output_type": "display_data"
    }
   ],
   "source": [
    "# creating DESeq2 objext from the matrix, with the design = treatment (which has both phase 1 and phase 2 variables)\n",
    "dds <- DESeqDataSetFromMatrix(countData = counts_filtered,\n",
    "                              colData = meta_filtered, \n",
    "                              design = ~ treatment)\n",
    "dds=DESeq(dds)\n",
    "resultsNames(dds)"
   ]
  },
  {
   "cell_type": "markdown",
   "id": "1c896bc5-92b9-431c-9396-883eb1375d7b",
   "metadata": {},
   "source": [
    "so we see that DESeq2 has recognized and assigned control control as the control condition - everything will be compared to this"
   ]
  },
  {
   "cell_type": "code",
   "execution_count": 65,
   "id": "0990def1-af66-4e43-b3f7-113f28341b5f",
   "metadata": {},
   "outputs": [
    {
     "data": {
      "text/html": [
       "<table class=\"dataframe\">\n",
       "<caption>A matrix: 6 × 20 of type dbl</caption>\n",
       "<thead>\n",
       "\t<tr><th></th><th scope=col>BBB-WBO-B21</th><th scope=col>BBB-WBV-B70</th><th scope=col>BBO-BBO-B16</th><th scope=col>BBO-BBY-B27</th><th scope=col>BBO-WBO-B16</th><th scope=col>BBO-WBV-B64</th><th scope=col>BBR-BBB-B50</th><th scope=col>BBR-BBG-B38</th><th scope=col>BBR-BBY-B26</th><th scope=col>BBY-WBG-B42</th><th scope=col>WBB-WBV-W69</th><th scope=col>WBG-BBB-W56</th><th scope=col>WBG-WBG-W44</th><th scope=col>WBO-BBR-W03</th><th scope=col>WBO-WBV-W64</th><th scope=col>WBR-BBY-W25</th><th scope=col>WBV-WBO-W23</th><th scope=col>WBV-WBR-W12</th><th scope=col>WBY-BBV-W65</th><th scope=col>WBY-BBY-W30</th></tr>\n",
       "</thead>\n",
       "<tbody>\n",
       "\t<tr><th scope=row>BBB-WBO-B21</th><td> 0.00000</td><td>18.84577</td><td>20.92953</td><td>20.96794</td><td>18.21364</td><td>18.11468</td><td>20.63180</td><td>19.75147</td><td>20.22578</td><td>18.92113</td><td>19.59980</td><td>22.22072</td><td>22.99473</td><td>25.76891</td><td>19.89501</td><td>22.74966</td><td>21.92330</td><td>24.57036</td><td>22.87723</td><td>22.23458</td></tr>\n",
       "\t<tr><th scope=row>BBB-WBV-B70</th><td>18.84577</td><td> 0.00000</td><td>19.18891</td><td>20.44833</td><td>18.37856</td><td>18.70862</td><td>18.49159</td><td>19.88195</td><td>19.52910</td><td>22.14748</td><td>19.82340</td><td>21.78769</td><td>23.04090</td><td>27.07967</td><td>19.68026</td><td>20.36870</td><td>21.60692</td><td>24.96069</td><td>22.56522</td><td>21.60935</td></tr>\n",
       "\t<tr><th scope=row>BBO-BBO-B16</th><td>20.92953</td><td>19.18891</td><td> 0.00000</td><td>18.48364</td><td>18.67343</td><td>20.61852</td><td>17.09182</td><td>17.92361</td><td>16.80276</td><td>22.11230</td><td>19.36438</td><td>18.71328</td><td>20.35510</td><td>27.10422</td><td>18.51823</td><td>19.93818</td><td>19.39514</td><td>22.60180</td><td>18.58325</td><td>18.38694</td></tr>\n",
       "\t<tr><th scope=row>BBO-BBY-B27</th><td>20.96794</td><td>20.44833</td><td>18.48364</td><td> 0.00000</td><td>20.06915</td><td>19.96350</td><td>18.48062</td><td>18.78633</td><td>16.63747</td><td>23.02284</td><td>19.67587</td><td>19.59168</td><td>21.10106</td><td>26.91646</td><td>19.63858</td><td>21.92601</td><td>21.00382</td><td>23.25080</td><td>18.86815</td><td>17.57746</td></tr>\n",
       "\t<tr><th scope=row>BBO-WBO-B16</th><td>18.21364</td><td>18.37856</td><td>18.67343</td><td>20.06915</td><td> 0.00000</td><td>18.29444</td><td>19.18185</td><td>19.88428</td><td>18.89404</td><td>20.74670</td><td>18.86631</td><td>21.12054</td><td>22.26473</td><td>26.68688</td><td>18.52538</td><td>21.98739</td><td>20.68327</td><td>23.12099</td><td>20.82959</td><td>20.82289</td></tr>\n",
       "\t<tr><th scope=row>BBO-WBV-B64</th><td>18.11468</td><td>18.70862</td><td>20.61852</td><td>19.96350</td><td>18.29444</td><td> 0.00000</td><td>20.41040</td><td>20.58917</td><td>18.89354</td><td>21.39994</td><td>17.71932</td><td>21.61194</td><td>22.00616</td><td>25.44915</td><td>19.60662</td><td>22.17830</td><td>22.25292</td><td>24.32149</td><td>22.19753</td><td>21.13937</td></tr>\n",
       "</tbody>\n",
       "</table>\n"
      ],
      "text/latex": [
       "A matrix: 6 × 20 of type dbl\n",
       "\\begin{tabular}{r|llllllllllllllllllll}\n",
       "  & BBB-WBO-B21 & BBB-WBV-B70 & BBO-BBO-B16 & BBO-BBY-B27 & BBO-WBO-B16 & BBO-WBV-B64 & BBR-BBB-B50 & BBR-BBG-B38 & BBR-BBY-B26 & BBY-WBG-B42 & WBB-WBV-W69 & WBG-BBB-W56 & WBG-WBG-W44 & WBO-BBR-W03 & WBO-WBV-W64 & WBR-BBY-W25 & WBV-WBO-W23 & WBV-WBR-W12 & WBY-BBV-W65 & WBY-BBY-W30\\\\\n",
       "\\hline\n",
       "\tBBB-WBO-B21 &  0.00000 & 18.84577 & 20.92953 & 20.96794 & 18.21364 & 18.11468 & 20.63180 & 19.75147 & 20.22578 & 18.92113 & 19.59980 & 22.22072 & 22.99473 & 25.76891 & 19.89501 & 22.74966 & 21.92330 & 24.57036 & 22.87723 & 22.23458\\\\\n",
       "\tBBB-WBV-B70 & 18.84577 &  0.00000 & 19.18891 & 20.44833 & 18.37856 & 18.70862 & 18.49159 & 19.88195 & 19.52910 & 22.14748 & 19.82340 & 21.78769 & 23.04090 & 27.07967 & 19.68026 & 20.36870 & 21.60692 & 24.96069 & 22.56522 & 21.60935\\\\\n",
       "\tBBO-BBO-B16 & 20.92953 & 19.18891 &  0.00000 & 18.48364 & 18.67343 & 20.61852 & 17.09182 & 17.92361 & 16.80276 & 22.11230 & 19.36438 & 18.71328 & 20.35510 & 27.10422 & 18.51823 & 19.93818 & 19.39514 & 22.60180 & 18.58325 & 18.38694\\\\\n",
       "\tBBO-BBY-B27 & 20.96794 & 20.44833 & 18.48364 &  0.00000 & 20.06915 & 19.96350 & 18.48062 & 18.78633 & 16.63747 & 23.02284 & 19.67587 & 19.59168 & 21.10106 & 26.91646 & 19.63858 & 21.92601 & 21.00382 & 23.25080 & 18.86815 & 17.57746\\\\\n",
       "\tBBO-WBO-B16 & 18.21364 & 18.37856 & 18.67343 & 20.06915 &  0.00000 & 18.29444 & 19.18185 & 19.88428 & 18.89404 & 20.74670 & 18.86631 & 21.12054 & 22.26473 & 26.68688 & 18.52538 & 21.98739 & 20.68327 & 23.12099 & 20.82959 & 20.82289\\\\\n",
       "\tBBO-WBV-B64 & 18.11468 & 18.70862 & 20.61852 & 19.96350 & 18.29444 &  0.00000 & 20.41040 & 20.58917 & 18.89354 & 21.39994 & 17.71932 & 21.61194 & 22.00616 & 25.44915 & 19.60662 & 22.17830 & 22.25292 & 24.32149 & 22.19753 & 21.13937\\\\\n",
       "\\end{tabular}\n"
      ],
      "text/markdown": [
       "\n",
       "A matrix: 6 × 20 of type dbl\n",
       "\n",
       "| <!--/--> | BBB-WBO-B21 | BBB-WBV-B70 | BBO-BBO-B16 | BBO-BBY-B27 | BBO-WBO-B16 | BBO-WBV-B64 | BBR-BBB-B50 | BBR-BBG-B38 | BBR-BBY-B26 | BBY-WBG-B42 | WBB-WBV-W69 | WBG-BBB-W56 | WBG-WBG-W44 | WBO-BBR-W03 | WBO-WBV-W64 | WBR-BBY-W25 | WBV-WBO-W23 | WBV-WBR-W12 | WBY-BBV-W65 | WBY-BBY-W30 |\n",
       "|---|---|---|---|---|---|---|---|---|---|---|---|---|---|---|---|---|---|---|---|---|\n",
       "| BBB-WBO-B21 |  0.00000 | 18.84577 | 20.92953 | 20.96794 | 18.21364 | 18.11468 | 20.63180 | 19.75147 | 20.22578 | 18.92113 | 19.59980 | 22.22072 | 22.99473 | 25.76891 | 19.89501 | 22.74966 | 21.92330 | 24.57036 | 22.87723 | 22.23458 |\n",
       "| BBB-WBV-B70 | 18.84577 |  0.00000 | 19.18891 | 20.44833 | 18.37856 | 18.70862 | 18.49159 | 19.88195 | 19.52910 | 22.14748 | 19.82340 | 21.78769 | 23.04090 | 27.07967 | 19.68026 | 20.36870 | 21.60692 | 24.96069 | 22.56522 | 21.60935 |\n",
       "| BBO-BBO-B16 | 20.92953 | 19.18891 |  0.00000 | 18.48364 | 18.67343 | 20.61852 | 17.09182 | 17.92361 | 16.80276 | 22.11230 | 19.36438 | 18.71328 | 20.35510 | 27.10422 | 18.51823 | 19.93818 | 19.39514 | 22.60180 | 18.58325 | 18.38694 |\n",
       "| BBO-BBY-B27 | 20.96794 | 20.44833 | 18.48364 |  0.00000 | 20.06915 | 19.96350 | 18.48062 | 18.78633 | 16.63747 | 23.02284 | 19.67587 | 19.59168 | 21.10106 | 26.91646 | 19.63858 | 21.92601 | 21.00382 | 23.25080 | 18.86815 | 17.57746 |\n",
       "| BBO-WBO-B16 | 18.21364 | 18.37856 | 18.67343 | 20.06915 |  0.00000 | 18.29444 | 19.18185 | 19.88428 | 18.89404 | 20.74670 | 18.86631 | 21.12054 | 22.26473 | 26.68688 | 18.52538 | 21.98739 | 20.68327 | 23.12099 | 20.82959 | 20.82289 |\n",
       "| BBO-WBV-B64 | 18.11468 | 18.70862 | 20.61852 | 19.96350 | 18.29444 |  0.00000 | 20.41040 | 20.58917 | 18.89354 | 21.39994 | 17.71932 | 21.61194 | 22.00616 | 25.44915 | 19.60662 | 22.17830 | 22.25292 | 24.32149 | 22.19753 | 21.13937 |\n",
       "\n"
      ],
      "text/plain": [
       "            BBB-WBO-B21 BBB-WBV-B70 BBO-BBO-B16 BBO-BBY-B27 BBO-WBO-B16\n",
       "BBB-WBO-B21  0.00000    18.84577    20.92953    20.96794    18.21364   \n",
       "BBB-WBV-B70 18.84577     0.00000    19.18891    20.44833    18.37856   \n",
       "BBO-BBO-B16 20.92953    19.18891     0.00000    18.48364    18.67343   \n",
       "BBO-BBY-B27 20.96794    20.44833    18.48364     0.00000    20.06915   \n",
       "BBO-WBO-B16 18.21364    18.37856    18.67343    20.06915     0.00000   \n",
       "BBO-WBV-B64 18.11468    18.70862    20.61852    19.96350    18.29444   \n",
       "            BBO-WBV-B64 BBR-BBB-B50 BBR-BBG-B38 BBR-BBY-B26 BBY-WBG-B42\n",
       "BBB-WBO-B21 18.11468    20.63180    19.75147    20.22578    18.92113   \n",
       "BBB-WBV-B70 18.70862    18.49159    19.88195    19.52910    22.14748   \n",
       "BBO-BBO-B16 20.61852    17.09182    17.92361    16.80276    22.11230   \n",
       "BBO-BBY-B27 19.96350    18.48062    18.78633    16.63747    23.02284   \n",
       "BBO-WBO-B16 18.29444    19.18185    19.88428    18.89404    20.74670   \n",
       "BBO-WBV-B64  0.00000    20.41040    20.58917    18.89354    21.39994   \n",
       "            WBB-WBV-W69 WBG-BBB-W56 WBG-WBG-W44 WBO-BBR-W03 WBO-WBV-W64\n",
       "BBB-WBO-B21 19.59980    22.22072    22.99473    25.76891    19.89501   \n",
       "BBB-WBV-B70 19.82340    21.78769    23.04090    27.07967    19.68026   \n",
       "BBO-BBO-B16 19.36438    18.71328    20.35510    27.10422    18.51823   \n",
       "BBO-BBY-B27 19.67587    19.59168    21.10106    26.91646    19.63858   \n",
       "BBO-WBO-B16 18.86631    21.12054    22.26473    26.68688    18.52538   \n",
       "BBO-WBV-B64 17.71932    21.61194    22.00616    25.44915    19.60662   \n",
       "            WBR-BBY-W25 WBV-WBO-W23 WBV-WBR-W12 WBY-BBV-W65 WBY-BBY-W30\n",
       "BBB-WBO-B21 22.74966    21.92330    24.57036    22.87723    22.23458   \n",
       "BBB-WBV-B70 20.36870    21.60692    24.96069    22.56522    21.60935   \n",
       "BBO-BBO-B16 19.93818    19.39514    22.60180    18.58325    18.38694   \n",
       "BBO-BBY-B27 21.92601    21.00382    23.25080    18.86815    17.57746   \n",
       "BBO-WBO-B16 21.98739    20.68327    23.12099    20.82959    20.82289   \n",
       "BBO-WBV-B64 22.17830    22.25292    24.32149    22.19753    21.13937   "
      ]
     },
     "metadata": {},
     "output_type": "display_data"
    },
    {
     "data": {
      "text/html": [
       "<table class=\"dataframe\">\n",
       "<caption>A data.frame: 6 × 6</caption>\n",
       "<thead>\n",
       "\t<tr><th></th><th scope=col>X1</th><th scope=col>X2</th><th scope=col>Phase1</th><th scope=col>Phase2</th><th scope=col>treatment</th><th scope=col>sizeFactor</th></tr>\n",
       "\t<tr><th></th><th scope=col>&lt;dbl&gt;</th><th scope=col>&lt;dbl&gt;</th><th scope=col>&lt;chr&gt;</th><th scope=col>&lt;chr&gt;</th><th scope=col>&lt;fct&gt;</th><th scope=col>&lt;dbl&gt;</th></tr>\n",
       "</thead>\n",
       "<tbody>\n",
       "\t<tr><th scope=row>BBB-WBO-B21</th><td>-5.843530</td><td>-7.9131927</td><td>hypoxic</td><td>control</td><td>hypoxic control</td><td>2.383679</td></tr>\n",
       "\t<tr><th scope=row>BBB-WBV-B70</th><td>-2.252235</td><td>-5.9162123</td><td>hypoxic</td><td>control</td><td>hypoxic control</td><td>2.070380</td></tr>\n",
       "\t<tr><th scope=row>BBO-BBO-B16</th><td> 3.785809</td><td> 0.6607293</td><td>hypoxic</td><td>hypoxic</td><td>hypoxic hypoxic</td><td>1.679982</td></tr>\n",
       "\t<tr><th scope=row>BBO-BBY-B27</th><td> 2.993232</td><td> 2.0566212</td><td>hypoxic</td><td>hypoxic</td><td>hypoxic hypoxic</td><td>1.131588</td></tr>\n",
       "\t<tr><th scope=row>BBO-WBO-B16</th><td>-1.893454</td><td>-5.7008254</td><td>hypoxic</td><td>control</td><td>hypoxic control</td><td>2.459313</td></tr>\n",
       "\t<tr><th scope=row>BBO-WBV-B64</th><td>-5.037877</td><td>-4.4132410</td><td>hypoxic</td><td>control</td><td>hypoxic control</td><td>2.191596</td></tr>\n",
       "</tbody>\n",
       "</table>\n"
      ],
      "text/latex": [
       "A data.frame: 6 × 6\n",
       "\\begin{tabular}{r|llllll}\n",
       "  & X1 & X2 & Phase1 & Phase2 & treatment & sizeFactor\\\\\n",
       "  & <dbl> & <dbl> & <chr> & <chr> & <fct> & <dbl>\\\\\n",
       "\\hline\n",
       "\tBBB-WBO-B21 & -5.843530 & -7.9131927 & hypoxic & control & hypoxic control & 2.383679\\\\\n",
       "\tBBB-WBV-B70 & -2.252235 & -5.9162123 & hypoxic & control & hypoxic control & 2.070380\\\\\n",
       "\tBBO-BBO-B16 &  3.785809 &  0.6607293 & hypoxic & hypoxic & hypoxic hypoxic & 1.679982\\\\\n",
       "\tBBO-BBY-B27 &  2.993232 &  2.0566212 & hypoxic & hypoxic & hypoxic hypoxic & 1.131588\\\\\n",
       "\tBBO-WBO-B16 & -1.893454 & -5.7008254 & hypoxic & control & hypoxic control & 2.459313\\\\\n",
       "\tBBO-WBV-B64 & -5.037877 & -4.4132410 & hypoxic & control & hypoxic control & 2.191596\\\\\n",
       "\\end{tabular}\n"
      ],
      "text/markdown": [
       "\n",
       "A data.frame: 6 × 6\n",
       "\n",
       "| <!--/--> | X1 &lt;dbl&gt; | X2 &lt;dbl&gt; | Phase1 &lt;chr&gt; | Phase2 &lt;chr&gt; | treatment &lt;fct&gt; | sizeFactor &lt;dbl&gt; |\n",
       "|---|---|---|---|---|---|---|\n",
       "| BBB-WBO-B21 | -5.843530 | -7.9131927 | hypoxic | control | hypoxic control | 2.383679 |\n",
       "| BBB-WBV-B70 | -2.252235 | -5.9162123 | hypoxic | control | hypoxic control | 2.070380 |\n",
       "| BBO-BBO-B16 |  3.785809 |  0.6607293 | hypoxic | hypoxic | hypoxic hypoxic | 1.679982 |\n",
       "| BBO-BBY-B27 |  2.993232 |  2.0566212 | hypoxic | hypoxic | hypoxic hypoxic | 1.131588 |\n",
       "| BBO-WBO-B16 | -1.893454 | -5.7008254 | hypoxic | control | hypoxic control | 2.459313 |\n",
       "| BBO-WBV-B64 | -5.037877 | -4.4132410 | hypoxic | control | hypoxic control | 2.191596 |\n",
       "\n"
      ],
      "text/plain": [
       "            X1        X2         Phase1  Phase2  treatment       sizeFactor\n",
       "BBB-WBO-B21 -5.843530 -7.9131927 hypoxic control hypoxic control 2.383679  \n",
       "BBB-WBV-B70 -2.252235 -5.9162123 hypoxic control hypoxic control 2.070380  \n",
       "BBO-BBO-B16  3.785809  0.6607293 hypoxic hypoxic hypoxic hypoxic 1.679982  \n",
       "BBO-BBY-B27  2.993232  2.0566212 hypoxic hypoxic hypoxic hypoxic 1.131588  \n",
       "BBO-WBO-B16 -1.893454 -5.7008254 hypoxic control hypoxic control 2.459313  \n",
       "BBO-WBV-B64 -5.037877 -4.4132410 hypoxic control hypoxic control 2.191596  "
      ]
     },
     "metadata": {},
     "output_type": "display_data"
    }
   ],
   "source": [
    "# MDS plot\n",
    "\n",
    "# normalization & transformation\n",
    "vsd <- vst(dds)\n",
    "\n",
    "# calculate sample distances\n",
    "sample_dists <- assay(vsd) %>%\n",
    "t() %>%\n",
    "dist() %>%\n",
    "as.matrix()\n",
    "\n",
    "head(sample_dists)\n",
    "\n",
    "# calculate MDS value from distance matrix\n",
    "mdsData <- data.frame(cmdscale(sample_dists))\n",
    "mds <- cbind(mdsData, as.data.frame(colData(vsd))) # combine with sample data\n",
    "head(mds)"
   ]
  },
  {
   "cell_type": "code",
   "execution_count": 89,
   "id": "67d5d565-38cc-4b6c-b160-a21240caa462",
   "metadata": {},
   "outputs": [
    {
     "data": {
      "image/png": "[encoded data removed]",
      "text/plain": [
       "plot without title"
      ]
     },
     "metadata": {
      "image/png": {
       "height": 420,
       "width": 420
      }
     },
     "output_type": "display_data"
    }
   ],
   "source": [
    "# plot\n",
    "ggplot(mds, aes(X1, X2, shape = treatment, col = treatment)) + \n",
    "  geom_point(size = 5) +\n",
    "coord_cartesian(xlim=c(-20,20), ylim = c(-15,15)) +\n",
    "labs(title = \"MDS plot\", x = \"Dimension 1\", y = \"Dimension 2\") +\n",
    "  theme_light()"
   ]
  },
  {
   "cell_type": "markdown",
   "id": "f843064c-9c21-489a-88f4-732489091cea",
   "metadata": {},
   "source": [
    "above plot - how similar counts are for each treatment, compared to control control oysters. Color *and* shape denote the treatment"
   ]
  },
  {
   "cell_type": "code",
   "execution_count": 103,
   "id": "bb74c020-6bbe-4603-aeb0-c10cb5accf7d",
   "metadata": {},
   "outputs": [
    {
     "data": {
      "image/png": "[encoded data removed]",
      "text/plain": [
       "plot without title"
      ]
     },
     "metadata": {
      "image/png": {
       "height": 420,
       "width": 420
      }
     },
     "output_type": "display_data"
    }
   ],
   "source": [
    "# plot\n",
    "ggplot(mds, aes(X1, X2, shape = Phase2, col = Phase1)) + \n",
    "  geom_point(size = 5, alpha = 0.7) +\n",
    "scale_shape_manual(values = c(15, 17)) +\n",
    "coord_cartesian(xlim=c(-20,20), ylim = c(-15,15)) +\n",
    "scale_color_manual(values = c('lightgreen','royalblue')) +\n",
    "labs(title = \"MDS plot\", x = \"Dimension 1\", y = \"Dimension 2\", color = \"First Exposure\", shape = \"Second Exposure\") +\n",
    "  theme_light()"
   ]
  },
  {
   "cell_type": "markdown",
   "id": "bc51097a-ec2f-44ab-857e-331ee470bfd1",
   "metadata": {},
   "source": [
    "same plot as above, but now the color denotes the first exposure (phase 1) and shape denotes second exposure (phase 2)\n",
    "\n",
    "observations:\n",
    "- hypoxia control oysters are clustering away from the group in the middle\n",
    "- hypoxia hypoxia fall in the clump of all first exposure control oysters\n",
    "\n",
    "*reminder that this is the differences/similarities of counts when compared to control control*"
   ]
  }
 ],
 "metadata": {
  "kernelspec": {
   "display_name": "R [conda env:.conda-r-env]",
   "language": "R",
   "name": "conda-env-.conda-r-env-r"
  },
  "language_info": {
   "codemirror_mode": "r",
   "file_extension": ".r",
   "mimetype": "text/x-r-source",
   "name": "R",
   "pygments_lexer": "r",
   "version": "4.3.2"
  }
 },
 "nbformat": 4,
 "nbformat_minor": 5
}
