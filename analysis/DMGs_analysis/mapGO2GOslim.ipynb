{
 "cells": [
  {
   "cell_type": "markdown",
   "id": "8794aeae-b532-40b8-bd70-5c51fe256cb5",
   "metadata": {},
   "source": [
    "# Mapping GO IDs to GO Slim Terms\n",
    "\n",
    "This code utilizes pipelines from the [paper-gonad-meth repo](https://github.com/epigeneticstoocean/paper-gonad-meth/tree/master) and [bioinformatics pipeline](https://robertslab.github.io/resources/bio-Annotation/#map-go-ids-to-goslims), both out of the Roberts Lab."
   ]
  },
  {
   "cell_type": "code",
   "execution_count": 7,
   "id": "7a5eb15c-4ddf-42c9-8af9-ebe61261a4d0",
   "metadata": {},
   "outputs": [],
   "source": [
    "# loading packages\n",
    "library(tidyverse)\n",
    "library(dplyr)\n",
    "library(GSEABase)\n",
    "library(GO.db)"
   ]
  },
  {
   "cell_type": "markdown",
   "id": "632be731-9f81-4d80-b75f-ad8cccbe5b37",
   "metadata": {},
   "source": [
    "input file includes column of gene ID and column of Gene Ontology (GO) ID, separated by semi-colon\n",
    "\n",
    "Gene Onology file for *Crassostrea virginica* obtained from [NCBI](https://ftp.ncbi.nlm.nih.gov/genomes/all/GCF/002/022/765/GCF_002022765.2_C_virginica-3.0/)"
   ]
  },
  {
   "cell_type": "code",
   "execution_count": 26,
   "id": "fadcb137-7003-4ae7-bc65-ed5c89774132",
   "metadata": {},
   "outputs": [
    {
     "data": {
      "text/html": [
       "<table class=\"dataframe\">\n",
       "<caption>A data.frame: 6 × 2</caption>\n",
       "<thead>\n",
       "\t<tr><th></th><th scope=col>gene_id</th><th scope=col>Gene.Ontology.IDs</th></tr>\n",
       "\t<tr><th></th><th scope=col>&lt;chr&gt;</th><th scope=col>&lt;chr&gt;</th></tr>\n",
       "</thead>\n",
       "<tbody>\n",
       "\t<tr><th scope=row>1</th><td>LOC111099029</td><td>GO:0005261; GO:0098655            </td></tr>\n",
       "\t<tr><th scope=row>2</th><td>LOC111099032</td><td>GO:0004930; GO:0005886; GO:0007186</td></tr>\n",
       "\t<tr><th scope=row>3</th><td>LOC111099033</td><td>GO:0016020; GO:0022857; GO:0055085</td></tr>\n",
       "\t<tr><th scope=row>4</th><td>LOC111099034</td><td>GO:0005515                        </td></tr>\n",
       "\t<tr><th scope=row>5</th><td>LOC111099036</td><td>GO:0008028; GO:0015718; GO:0055085</td></tr>\n",
       "\t<tr><th scope=row>6</th><td>LOC111099039</td><td>GO:0004930; GO:0005886; GO:0007189</td></tr>\n",
       "</tbody>\n",
       "</table>\n"
      ],
      "text/latex": [
       "A data.frame: 6 × 2\n",
       "\\begin{tabular}{r|ll}\n",
       "  & gene\\_id & Gene.Ontology.IDs\\\\\n",
       "  & <chr> & <chr>\\\\\n",
       "\\hline\n",
       "\t1 & LOC111099029 & GO:0005261; GO:0098655            \\\\\n",
       "\t2 & LOC111099032 & GO:0004930; GO:0005886; GO:0007186\\\\\n",
       "\t3 & LOC111099033 & GO:0016020; GO:0022857; GO:0055085\\\\\n",
       "\t4 & LOC111099034 & GO:0005515                        \\\\\n",
       "\t5 & LOC111099036 & GO:0008028; GO:0015718; GO:0055085\\\\\n",
       "\t6 & LOC111099039 & GO:0004930; GO:0005886; GO:0007189\\\\\n",
       "\\end{tabular}\n"
      ],
      "text/markdown": [
       "\n",
       "A data.frame: 6 × 2\n",
       "\n",
       "| <!--/--> | gene_id &lt;chr&gt; | Gene.Ontology.IDs &lt;chr&gt; |\n",
       "|---|---|---|\n",
       "| 1 | LOC111099029 | GO:0005261; GO:0098655             |\n",
       "| 2 | LOC111099032 | GO:0004930; GO:0005886; GO:0007186 |\n",
       "| 3 | LOC111099033 | GO:0016020; GO:0022857; GO:0055085 |\n",
       "| 4 | LOC111099034 | GO:0005515                         |\n",
       "| 5 | LOC111099036 | GO:0008028; GO:0015718; GO:0055085 |\n",
       "| 6 | LOC111099039 | GO:0004930; GO:0005886; GO:0007189 |\n",
       "\n"
      ],
      "text/plain": [
       "  gene_id      Gene.Ontology.IDs                 \n",
       "1 LOC111099029 GO:0005261; GO:0098655            \n",
       "2 LOC111099032 GO:0004930; GO:0005886; GO:0007186\n",
       "3 LOC111099033 GO:0016020; GO:0022857; GO:0055085\n",
       "4 LOC111099034 GO:0005515                        \n",
       "5 LOC111099036 GO:0008028; GO:0015718; GO:0055085\n",
       "6 LOC111099039 GO:0004930; GO:0005886; GO:0007189"
      ]
     },
     "metadata": {},
     "output_type": "display_data"
    }
   ],
   "source": [
    "# Read the GAF file into R\n",
    "GOobo <- read.table('/project/pi_sarah_gignouxwolfsohn_uml_edu/Reference_genomes/Cvirginica_genome/GCF_002022765.2_C_virginica-3.0_gene_ontology.gaf', \n",
    "                          sep = \"\\t\", \n",
    "                          header = FALSE, \n",
    "                          comment.char = \"!\", \n",
    "                          stringsAsFactors = FALSE)\n",
    "\n",
    "# assign column names\n",
    "colnames(GOobo) <- c('DB', 'GeneID', 'gene_id', 'Qualifier', 'Gene.Ontology.IDs', 'Reference', 'Evidence_Code', 'With,From', 'Aspect', 'Gene_Name', 'Gene_Synonym', 'Type', 'Taxon', 'Date', 'Assigned_By')\n",
    "\n",
    "# selecting only the LOC number and GO ID columns\n",
    "gene2GO <- GOobo[,c(3,5)]\n",
    "\n",
    "# Aggregate GO IDs for each gene symbol\n",
    "gene2GO <- aggregate(Gene.Ontology.IDs ~ gene_id, data = gene2GO, function(x) paste(unique(x), collapse = \"; \"))\n",
    "\n",
    "# preview df\n",
    "head(gene2GO)\n"
   ]
  },
  {
   "cell_type": "code",
   "execution_count": 27,
   "id": "c88cfc64-bf34-4dc0-a20a-f42dc0040c16",
   "metadata": {},
   "outputs": [],
   "source": [
    "write.csv(gene2GO, '/project/pi_sarah_gignouxwolfsohn_uml_edu/julia/CE_MethylRAD_analysis_2018/analysis/DMGs_analysis/gene2GO.csv', row.names=FALSE)"
   ]
  },
  {
   "cell_type": "code",
   "execution_count": 30,
   "id": "e0653386-445c-4100-9d7e-8f7f2b48d4bc",
   "metadata": {},
   "outputs": [
    {
     "data": {
      "text/html": [
       "<table class=\"dataframe\">\n",
       "<caption>A data.frame: 6 × 2</caption>\n",
       "<thead>\n",
       "\t<tr><th></th><th scope=col>gene_id</th><th scope=col>Gene.Ontology.IDs</th></tr>\n",
       "\t<tr><th></th><th scope=col>&lt;chr&gt;</th><th scope=col>&lt;chr&gt;</th></tr>\n",
       "</thead>\n",
       "<tbody>\n",
       "\t<tr><th scope=row>1</th><td>LOC111099029</td><td>GO:0005261; GO:0098655            </td></tr>\n",
       "\t<tr><th scope=row>2</th><td>LOC111099032</td><td>GO:0004930; GO:0005886; GO:0007186</td></tr>\n",
       "\t<tr><th scope=row>3</th><td>LOC111099033</td><td>GO:0016020; GO:0022857; GO:0055085</td></tr>\n",
       "\t<tr><th scope=row>4</th><td>LOC111099034</td><td>GO:0005515                        </td></tr>\n",
       "\t<tr><th scope=row>5</th><td>LOC111099036</td><td>GO:0008028; GO:0015718; GO:0055085</td></tr>\n",
       "\t<tr><th scope=row>6</th><td>LOC111099039</td><td>GO:0004930; GO:0005886; GO:0007189</td></tr>\n",
       "</tbody>\n",
       "</table>\n"
      ],
      "text/latex": [
       "A data.frame: 6 × 2\n",
       "\\begin{tabular}{r|ll}\n",
       "  & gene\\_id & Gene.Ontology.IDs\\\\\n",
       "  & <chr> & <chr>\\\\\n",
       "\\hline\n",
       "\t1 & LOC111099029 & GO:0005261; GO:0098655            \\\\\n",
       "\t2 & LOC111099032 & GO:0004930; GO:0005886; GO:0007186\\\\\n",
       "\t3 & LOC111099033 & GO:0016020; GO:0022857; GO:0055085\\\\\n",
       "\t4 & LOC111099034 & GO:0005515                        \\\\\n",
       "\t5 & LOC111099036 & GO:0008028; GO:0015718; GO:0055085\\\\\n",
       "\t6 & LOC111099039 & GO:0004930; GO:0005886; GO:0007189\\\\\n",
       "\\end{tabular}\n"
      ],
      "text/markdown": [
       "\n",
       "A data.frame: 6 × 2\n",
       "\n",
       "| <!--/--> | gene_id &lt;chr&gt; | Gene.Ontology.IDs &lt;chr&gt; |\n",
       "|---|---|---|\n",
       "| 1 | LOC111099029 | GO:0005261; GO:0098655             |\n",
       "| 2 | LOC111099032 | GO:0004930; GO:0005886; GO:0007186 |\n",
       "| 3 | LOC111099033 | GO:0016020; GO:0022857; GO:0055085 |\n",
       "| 4 | LOC111099034 | GO:0005515                         |\n",
       "| 5 | LOC111099036 | GO:0008028; GO:0015718; GO:0055085 |\n",
       "| 6 | LOC111099039 | GO:0004930; GO:0005886; GO:0007189 |\n",
       "\n"
      ],
      "text/plain": [
       "  gene_id      Gene.Ontology.IDs                 \n",
       "1 LOC111099029 GO:0005261; GO:0098655            \n",
       "2 LOC111099032 GO:0004930; GO:0005886; GO:0007186\n",
       "3 LOC111099033 GO:0016020; GO:0022857; GO:0055085\n",
       "4 LOC111099034 GO:0005515                        \n",
       "5 LOC111099036 GO:0008028; GO:0015718; GO:0055085\n",
       "6 LOC111099039 GO:0004930; GO:0005886; GO:0007189"
      ]
     },
     "metadata": {},
     "output_type": "display_data"
    }
   ],
   "source": [
    "head(read.csv('/project/pi_sarah_gignouxwolfsohn_uml_edu/julia/CE_MethylRAD_analysis_2018/analysis/DMGs_analysis/gene2GO.csv'))"
   ]
  },
  {
   "cell_type": "code",
   "execution_count": 73,
   "id": "ab47aee1-8ca9-4ad7-9cd9-47bd39272309",
   "metadata": {},
   "outputs": [],
   "source": [
    "# copied from workflow pipeline linked above\n",
    "\n",
    "# set variables\n",
    "\n",
    "# Column names corresponding to gene name/ID and GO IDs\n",
    "GO.ID.column <- \"Gene.Ontology.IDs\"\n",
    "gene.ID.column <- \"gene_id\"\n",
    "\n",
    "# Relative path or URL to input file\n",
    "input.file <- \"/project/pi_sarah_gignouxwolfsohn_uml_edu/julia/CE_MethylRAD_analysis_2018/analysis/DMGs_analysis/gene2GO.csv\"\n",
    "\n",
    "\n",
    "##### Official GO info - no need to change #####\n",
    "goslims_obo <- \"goslim_generic.obo\"\n",
    "goslims_url <- \"http://current.geneontology.org/ontology/subsets/goslim_generic.obo\"\n"
   ]
  },
  {
   "cell_type": "code",
   "execution_count": 71,
   "id": "756e784d-cf11-4b75-a9e1-4cbc2f93c3b2",
   "metadata": {},
   "outputs": [],
   "source": [
    "# copied from workflow pipeline linked above\n",
    "\n",
    "# download generic goslim-obo\n",
    "\n",
    "# Find GSEAbase installation location\n",
    "gseabase_location <- find.package(\"GSEABase\")\n",
    "\n",
    "# Load path to GOslim OBO file\n",
    "goslim_obo_destintation <- file.path(gseabase_location, \"extdata\", goslims_obo, fsep = \"/\")\n",
    "\n",
    "# Download the GOslim OBO file\n",
    "download.file(url = goslims_url, destfile = goslim_obo_destintation)\n",
    "\n",
    "# Loads package files\n",
    "gseabase_files <- system.file(\"extdata\", goslims_obo, package=\"GSEABase\")"
   ]
  },
  {
   "cell_type": "markdown",
   "id": "5c03d33f-431d-48f7-9d8c-885f0615132b",
   "metadata": {},
   "source": [
    "one unique gene per row, multiple GO IDs per gene"
   ]
  },
  {
   "cell_type": "code",
   "execution_count": 75,
   "id": "e3bd2dec-ec3f-42a2-8eac-7b282eb34538",
   "metadata": {},
   "outputs": [
    {
     "name": "stdout",
     "output_type": "stream",
     "text": [
      "'data.frame':\t22614 obs. of  2 variables:\n",
      " $ gene_id          : chr  \"LOC111099029\" \"LOC111099032\" \"LOC111099033\" \"LOC111099034\" ...\n",
      " $ Gene.Ontology.IDs: chr  \"GO:0005261; GO:0098655\" \"GO:0004930; GO:0005886; GO:0007186\" \"GO:0016020; GO:0022857; GO:0055085\" \"GO:0005515\" ...\n"
     ]
    },
    {
     "data": {
      "text/html": [
       "<table class=\"dataframe\">\n",
       "<caption>A data.frame: 6 × 2</caption>\n",
       "<thead>\n",
       "\t<tr><th></th><th scope=col>gene_id</th><th scope=col>Gene.Ontology.IDs</th></tr>\n",
       "\t<tr><th></th><th scope=col>&lt;chr&gt;</th><th scope=col>&lt;chr&gt;</th></tr>\n",
       "</thead>\n",
       "<tbody>\n",
       "\t<tr><th scope=row>1</th><td>LOC111099029</td><td>GO:0005261; GO:0098655            </td></tr>\n",
       "\t<tr><th scope=row>2</th><td>LOC111099032</td><td>GO:0004930; GO:0005886; GO:0007186</td></tr>\n",
       "\t<tr><th scope=row>3</th><td>LOC111099033</td><td>GO:0016020; GO:0022857; GO:0055085</td></tr>\n",
       "\t<tr><th scope=row>4</th><td>LOC111099034</td><td>GO:0005515                        </td></tr>\n",
       "\t<tr><th scope=row>5</th><td>LOC111099036</td><td>GO:0008028; GO:0015718; GO:0055085</td></tr>\n",
       "\t<tr><th scope=row>6</th><td>LOC111099039</td><td>GO:0004930; GO:0005886; GO:0007189</td></tr>\n",
       "</tbody>\n",
       "</table>\n"
      ],
      "text/latex": [
       "A data.frame: 6 × 2\n",
       "\\begin{tabular}{r|ll}\n",
       "  & gene\\_id & Gene.Ontology.IDs\\\\\n",
       "  & <chr> & <chr>\\\\\n",
       "\\hline\n",
       "\t1 & LOC111099029 & GO:0005261; GO:0098655            \\\\\n",
       "\t2 & LOC111099032 & GO:0004930; GO:0005886; GO:0007186\\\\\n",
       "\t3 & LOC111099033 & GO:0016020; GO:0022857; GO:0055085\\\\\n",
       "\t4 & LOC111099034 & GO:0005515                        \\\\\n",
       "\t5 & LOC111099036 & GO:0008028; GO:0015718; GO:0055085\\\\\n",
       "\t6 & LOC111099039 & GO:0004930; GO:0005886; GO:0007189\\\\\n",
       "\\end{tabular}\n"
      ],
      "text/markdown": [
       "\n",
       "A data.frame: 6 × 2\n",
       "\n",
       "| <!--/--> | gene_id &lt;chr&gt; | Gene.Ontology.IDs &lt;chr&gt; |\n",
       "|---|---|---|\n",
       "| 1 | LOC111099029 | GO:0005261; GO:0098655             |\n",
       "| 2 | LOC111099032 | GO:0004930; GO:0005886; GO:0007186 |\n",
       "| 3 | LOC111099033 | GO:0016020; GO:0022857; GO:0055085 |\n",
       "| 4 | LOC111099034 | GO:0005515                         |\n",
       "| 5 | LOC111099036 | GO:0008028; GO:0015718; GO:0055085 |\n",
       "| 6 | LOC111099039 | GO:0004930; GO:0005886; GO:0007189 |\n",
       "\n"
      ],
      "text/plain": [
       "  gene_id      Gene.Ontology.IDs                 \n",
       "1 LOC111099029 GO:0005261; GO:0098655            \n",
       "2 LOC111099032 GO:0004930; GO:0005886; GO:0007186\n",
       "3 LOC111099033 GO:0016020; GO:0022857; GO:0055085\n",
       "4 LOC111099034 GO:0005515                        \n",
       "5 LOC111099036 GO:0008028; GO:0015718; GO:0055085\n",
       "6 LOC111099039 GO:0004930; GO:0005886; GO:0007189"
      ]
     },
     "metadata": {},
     "output_type": "display_data"
    }
   ],
   "source": [
    "# copied from workflow pipeline linked above\n",
    "\n",
    "# read in gene file\n",
    "\n",
    "full.gene.df <- read.csv(file = input.file, header = TRUE)\n",
    "\n",
    "str(full.gene.df)\n",
    "head(full.gene.df)"
   ]
  },
  {
   "cell_type": "code",
   "execution_count": 76,
   "id": "083b5e68-417f-4f2b-8164-67487d44947a",
   "metadata": {},
   "outputs": [
    {
     "data": {
      "text/html": [
       "<table class=\"dataframe\">\n",
       "<caption>A data.frame: 6 × 2</caption>\n",
       "<thead>\n",
       "\t<tr><th></th><th scope=col>gene_id</th><th scope=col>Gene.Ontology.IDs</th></tr>\n",
       "\t<tr><th></th><th scope=col>&lt;chr&gt;</th><th scope=col>&lt;chr&gt;</th></tr>\n",
       "</thead>\n",
       "<tbody>\n",
       "\t<tr><th scope=row>1</th><td>LOC111099029</td><td>GO:0005261;GO:0098655           </td></tr>\n",
       "\t<tr><th scope=row>2</th><td>LOC111099032</td><td>GO:0004930;GO:0005886;GO:0007186</td></tr>\n",
       "\t<tr><th scope=row>3</th><td>LOC111099033</td><td>GO:0016020;GO:0022857;GO:0055085</td></tr>\n",
       "\t<tr><th scope=row>4</th><td>LOC111099034</td><td>GO:0005515                      </td></tr>\n",
       "\t<tr><th scope=row>5</th><td>LOC111099036</td><td>GO:0008028;GO:0015718;GO:0055085</td></tr>\n",
       "\t<tr><th scope=row>6</th><td>LOC111099039</td><td>GO:0004930;GO:0005886;GO:0007189</td></tr>\n",
       "</tbody>\n",
       "</table>\n"
      ],
      "text/latex": [
       "A data.frame: 6 × 2\n",
       "\\begin{tabular}{r|ll}\n",
       "  & gene\\_id & Gene.Ontology.IDs\\\\\n",
       "  & <chr> & <chr>\\\\\n",
       "\\hline\n",
       "\t1 & LOC111099029 & GO:0005261;GO:0098655           \\\\\n",
       "\t2 & LOC111099032 & GO:0004930;GO:0005886;GO:0007186\\\\\n",
       "\t3 & LOC111099033 & GO:0016020;GO:0022857;GO:0055085\\\\\n",
       "\t4 & LOC111099034 & GO:0005515                      \\\\\n",
       "\t5 & LOC111099036 & GO:0008028;GO:0015718;GO:0055085\\\\\n",
       "\t6 & LOC111099039 & GO:0004930;GO:0005886;GO:0007189\\\\\n",
       "\\end{tabular}\n"
      ],
      "text/markdown": [
       "\n",
       "A data.frame: 6 × 2\n",
       "\n",
       "| <!--/--> | gene_id &lt;chr&gt; | Gene.Ontology.IDs &lt;chr&gt; |\n",
       "|---|---|---|\n",
       "| 1 | LOC111099029 | GO:0005261;GO:0098655            |\n",
       "| 2 | LOC111099032 | GO:0004930;GO:0005886;GO:0007186 |\n",
       "| 3 | LOC111099033 | GO:0016020;GO:0022857;GO:0055085 |\n",
       "| 4 | LOC111099034 | GO:0005515                       |\n",
       "| 5 | LOC111099036 | GO:0008028;GO:0015718;GO:0055085 |\n",
       "| 6 | LOC111099039 | GO:0004930;GO:0005886;GO:0007189 |\n",
       "\n"
      ],
      "text/plain": [
       "  gene_id      Gene.Ontology.IDs               \n",
       "1 LOC111099029 GO:0005261;GO:0098655           \n",
       "2 LOC111099032 GO:0004930;GO:0005886;GO:0007186\n",
       "3 LOC111099033 GO:0016020;GO:0022857;GO:0055085\n",
       "4 LOC111099034 GO:0005515                      \n",
       "5 LOC111099036 GO:0008028;GO:0015718;GO:0055085\n",
       "6 LOC111099039 GO:0004930;GO:0005886;GO:0007189"
      ]
     },
     "metadata": {},
     "output_type": "display_data"
    }
   ],
   "source": [
    "# copied from workflow pipeline linked above\n",
    "\n",
    "# remove NA and uniprotIDs\n",
    "\n",
    "# Clean whitespace, filter NA/empty rows, select columns, and split GO terms using column name variables\n",
    "library(dplyr) # for some reason I'm having conflicts with select()\n",
    "gene.GO.df <- gene2GO %>%\n",
    "  mutate(!!GO.ID.column := str_replace_all(.data[[GO.ID.column]], \"\\\\s*;\\\\s*\", \";\")) %>%\n",
    "  filter(!is.na(.data[[gene.ID.column]]) & !is.na(.data[[GO.ID.column]]) & .data[[GO.ID.column]] != \"\") %>%\n",
    "  dplyr::select(all_of(c(gene.ID.column, GO.ID.column)))\n",
    "\n",
    "head(gene.GO.df)"
   ]
  },
  {
   "cell_type": "markdown",
   "id": "14f373d3-7ebd-46f8-9325-6f3b3a1c8bcb",
   "metadata": {},
   "source": [
    "flatten df so only one gene and one GO ID per row"
   ]
  },
  {
   "cell_type": "code",
   "execution_count": 78,
   "id": "ea5c6f9a-a2a5-4cd5-85e7-260399065c77",
   "metadata": {},
   "outputs": [
    {
     "name": "stdout",
     "output_type": "stream",
     "text": [
      "tibble [77,015 × 2] (S3: tbl_df/tbl/data.frame)\n",
      " $ gene_id          : chr [1:77015] \"LOC111099029\" \"LOC111099029\" \"LOC111099032\" \"LOC111099032\" ...\n",
      " $ Gene.Ontology.IDs: chr [1:77015] \"GO:0005261\" \"GO:0098655\" \"GO:0004930\" \"GO:0005886\" ...\n"
     ]
    },
    {
     "data": {
      "text/html": [
       "<table class=\"dataframe\">\n",
       "<caption>A tibble: 6 × 2</caption>\n",
       "<thead>\n",
       "\t<tr><th scope=col>gene_id</th><th scope=col>Gene.Ontology.IDs</th></tr>\n",
       "\t<tr><th scope=col>&lt;chr&gt;</th><th scope=col>&lt;chr&gt;</th></tr>\n",
       "</thead>\n",
       "<tbody>\n",
       "\t<tr><td>LOC111099029</td><td>GO:0005261</td></tr>\n",
       "\t<tr><td>LOC111099029</td><td>GO:0098655</td></tr>\n",
       "\t<tr><td>LOC111099032</td><td>GO:0004930</td></tr>\n",
       "\t<tr><td>LOC111099032</td><td>GO:0005886</td></tr>\n",
       "\t<tr><td>LOC111099032</td><td>GO:0007186</td></tr>\n",
       "\t<tr><td>LOC111099033</td><td>GO:0016020</td></tr>\n",
       "</tbody>\n",
       "</table>\n"
      ],
      "text/latex": [
       "A tibble: 6 × 2\n",
       "\\begin{tabular}{ll}\n",
       " gene\\_id & Gene.Ontology.IDs\\\\\n",
       " <chr> & <chr>\\\\\n",
       "\\hline\n",
       "\t LOC111099029 & GO:0005261\\\\\n",
       "\t LOC111099029 & GO:0098655\\\\\n",
       "\t LOC111099032 & GO:0004930\\\\\n",
       "\t LOC111099032 & GO:0005886\\\\\n",
       "\t LOC111099032 & GO:0007186\\\\\n",
       "\t LOC111099033 & GO:0016020\\\\\n",
       "\\end{tabular}\n"
      ],
      "text/markdown": [
       "\n",
       "A tibble: 6 × 2\n",
       "\n",
       "| gene_id &lt;chr&gt; | Gene.Ontology.IDs &lt;chr&gt; |\n",
       "|---|---|\n",
       "| LOC111099029 | GO:0005261 |\n",
       "| LOC111099029 | GO:0098655 |\n",
       "| LOC111099032 | GO:0004930 |\n",
       "| LOC111099032 | GO:0005886 |\n",
       "| LOC111099032 | GO:0007186 |\n",
       "| LOC111099033 | GO:0016020 |\n",
       "\n"
      ],
      "text/plain": [
       "  gene_id      Gene.Ontology.IDs\n",
       "1 LOC111099029 GO:0005261       \n",
       "2 LOC111099029 GO:0098655       \n",
       "3 LOC111099032 GO:0004930       \n",
       "4 LOC111099032 GO:0005886       \n",
       "5 LOC111099032 GO:0007186       \n",
       "6 LOC111099033 GO:0016020       "
      ]
     },
     "metadata": {},
     "output_type": "display_data"
    }
   ],
   "source": [
    "# copied from workflow pipeline linked above\n",
    "\n",
    "# flatten gene and GO IDs\n",
    "\n",
    "flat.gene.GO.df <- gene.GO.df %>% separate_rows(!!sym(GO.ID.column), sep = \";\")\n",
    "\n",
    "str(flat.gene.GO.df)\n",
    "head(flat.gene.GO.df)"
   ]
  },
  {
   "cell_type": "markdown",
   "id": "867d4ce1-377b-4cca-90d9-623d7aeec4d7",
   "metadata": {},
   "source": [
    "Grouping by GO ID - one unique GO ID per row, multiple genes per GO ID"
   ]
  },
  {
   "cell_type": "code",
   "execution_count": 79,
   "id": "d5471c73-f94d-4b77-ab99-ac6649ae8d81",
   "metadata": {},
   "outputs": [
    {
     "name": "stdout",
     "output_type": "stream",
     "text": [
      "tibble [5,357 × 2] (S3: tbl_df/tbl/data.frame)\n",
      " $ Gene.Ontology.IDs: chr [1:5357] \"GO:0000002\" \"GO:0000003\" \"GO:0000009\" \"GO:0000012\" ...\n",
      " $ gene_id          : chr [1:5357] \"LOC111135903\" \"LOC111115224\" \"LOC111099485,LOC111099578,LOC111108038,LOC111119818\" \"LOC111111498,LOC111111868,LOC111128425,LOC111128516,LOC111135198,LOC111135354,LOC111136704\" ...\n"
     ]
    },
    {
     "data": {
      "text/html": [
       "<table class=\"dataframe\">\n",
       "<caption>A tibble: 6 × 2</caption>\n",
       "<thead>\n",
       "\t<tr><th scope=col>Gene.Ontology.IDs</th><th scope=col>gene_id</th></tr>\n",
       "\t<tr><th scope=col>&lt;chr&gt;</th><th scope=col>&lt;chr&gt;</th></tr>\n",
       "</thead>\n",
       "<tbody>\n",
       "\t<tr><td>GO:0000002</td><td>LOC111135903                                                                              </td></tr>\n",
       "\t<tr><td>GO:0000003</td><td>LOC111115224                                                                              </td></tr>\n",
       "\t<tr><td>GO:0000009</td><td>LOC111099485,LOC111099578,LOC111108038,LOC111119818                                       </td></tr>\n",
       "\t<tr><td>GO:0000012</td><td>LOC111111498,LOC111111868,LOC111128425,LOC111128516,LOC111135198,LOC111135354,LOC111136704</td></tr>\n",
       "\t<tr><td>GO:0000014</td><td>LOC111111711,LOC111111845,LOC111121059,LOC111126118                                       </td></tr>\n",
       "\t<tr><td>GO:0000015</td><td>LOC111132341,LOC111137133                                                                 </td></tr>\n",
       "</tbody>\n",
       "</table>\n"
      ],
      "text/latex": [
       "A tibble: 6 × 2\n",
       "\\begin{tabular}{ll}\n",
       " Gene.Ontology.IDs & gene\\_id\\\\\n",
       " <chr> & <chr>\\\\\n",
       "\\hline\n",
       "\t GO:0000002 & LOC111135903                                                                              \\\\\n",
       "\t GO:0000003 & LOC111115224                                                                              \\\\\n",
       "\t GO:0000009 & LOC111099485,LOC111099578,LOC111108038,LOC111119818                                       \\\\\n",
       "\t GO:0000012 & LOC111111498,LOC111111868,LOC111128425,LOC111128516,LOC111135198,LOC111135354,LOC111136704\\\\\n",
       "\t GO:0000014 & LOC111111711,LOC111111845,LOC111121059,LOC111126118                                       \\\\\n",
       "\t GO:0000015 & LOC111132341,LOC111137133                                                                 \\\\\n",
       "\\end{tabular}\n"
      ],
      "text/markdown": [
       "\n",
       "A tibble: 6 × 2\n",
       "\n",
       "| Gene.Ontology.IDs &lt;chr&gt; | gene_id &lt;chr&gt; |\n",
       "|---|---|\n",
       "| GO:0000002 | LOC111135903                                                                               |\n",
       "| GO:0000003 | LOC111115224                                                                               |\n",
       "| GO:0000009 | LOC111099485,LOC111099578,LOC111108038,LOC111119818                                        |\n",
       "| GO:0000012 | LOC111111498,LOC111111868,LOC111128425,LOC111128516,LOC111135198,LOC111135354,LOC111136704 |\n",
       "| GO:0000014 | LOC111111711,LOC111111845,LOC111121059,LOC111126118                                        |\n",
       "| GO:0000015 | LOC111132341,LOC111137133                                                                  |\n",
       "\n"
      ],
      "text/plain": [
       "  Gene.Ontology.IDs\n",
       "1 GO:0000002       \n",
       "2 GO:0000003       \n",
       "3 GO:0000009       \n",
       "4 GO:0000012       \n",
       "5 GO:0000014       \n",
       "6 GO:0000015       \n",
       "  gene_id                                                                                   \n",
       "1 LOC111135903                                                                              \n",
       "2 LOC111115224                                                                              \n",
       "3 LOC111099485,LOC111099578,LOC111108038,LOC111119818                                       \n",
       "4 LOC111111498,LOC111111868,LOC111128425,LOC111128516,LOC111135198,LOC111135354,LOC111136704\n",
       "5 LOC111111711,LOC111111845,LOC111121059,LOC111126118                                       \n",
       "6 LOC111132341,LOC111137133                                                                 "
      ]
     },
     "metadata": {},
     "output_type": "display_data"
    }
   ],
   "source": [
    "# copied from workflow pipeline linked above\n",
    "\n",
    "# group by GO\n",
    "\n",
    "grouped.gene.GO.df <- flat.gene.GO.df %>%\n",
    "  group_by(!!sym(GO.ID.column)) %>%\n",
    "  summarise(!!gene.ID.column := paste(.data[[gene.ID.column]], collapse = \",\"))\n",
    "\n",
    "str(grouped.gene.GO.df)\n",
    "head(grouped.gene.GO.df)"
   ]
  },
  {
   "cell_type": "markdown",
   "id": "83a66e8b-d35e-4564-9725-4f0206f9e590",
   "metadata": {},
   "source": [
    "#### Mapping GO IDs to GO Slim"
   ]
  },
  {
   "cell_type": "code",
   "execution_count": 81,
   "id": "0980a8a4-16cf-49da-9a70-a5b895bd742d",
   "metadata": {},
   "outputs": [
    {
     "name": "stdout",
     "output_type": "stream",
     "text": [
      " chr [1:5357] \"GO:0000002\" \"GO:0000003\" \"GO:0000009\" \"GO:0000012\" ...\n"
     ]
    },
    {
     "data": {
      "text/html": [
       "<style>\n",
       ".list-inline {list-style: none; margin:0; padding: 0}\n",
       ".list-inline>li {display: inline-block}\n",
       ".list-inline>li:not(:last-child)::after {content: \"\\00b7\"; padding: 0 .5ex}\n",
       "</style>\n",
       "<ol class=list-inline><li>'GO:0000002'</li><li>'GO:0000003'</li><li>'GO:0000009'</li><li>'GO:0000012'</li><li>'GO:0000014'</li><li>'GO:0000015'</li></ol>\n"
      ],
      "text/latex": [
       "\\begin{enumerate*}\n",
       "\\item 'GO:0000002'\n",
       "\\item 'GO:0000003'\n",
       "\\item 'GO:0000009'\n",
       "\\item 'GO:0000012'\n",
       "\\item 'GO:0000014'\n",
       "\\item 'GO:0000015'\n",
       "\\end{enumerate*}\n"
      ],
      "text/markdown": [
       "1. 'GO:0000002'\n",
       "2. 'GO:0000003'\n",
       "3. 'GO:0000009'\n",
       "4. 'GO:0000012'\n",
       "5. 'GO:0000014'\n",
       "6. 'GO:0000015'\n",
       "\n",
       "\n"
      ],
      "text/plain": [
       "[1] \"GO:0000002\" \"GO:0000003\" \"GO:0000009\" \"GO:0000012\" \"GO:0000014\"\n",
       "[6] \"GO:0000015\""
      ]
     },
     "metadata": {},
     "output_type": "display_data"
    }
   ],
   "source": [
    "# copied from workflow pipeline linked above\n",
    "\n",
    "# Vectorize GO IDs\n",
    "go_ids <- grouped.gene.GO.df[[GO.ID.column]]\n",
    "\n",
    "str(go_ids)\n",
    "head(go_ids)"
   ]
  },
  {
   "cell_type": "code",
   "execution_count": 84,
   "id": "151c7df5-08fa-41f3-ad7b-7a7c9d015f2c",
   "metadata": {},
   "outputs": [
    {
     "name": "stdout",
     "output_type": "stream",
     "text": [
      "Formal class 'OBOCollection' [package \"GSEABase\"] with 7 slots\n",
      "  ..@ .stanza     :'data.frame':\t153 obs. of  1 variable:\n",
      "  .. ..$ value: chr [1:153] \"Root\" \"Term\" \"Term\" \"Term\" ...\n",
      "  ..@ .subset     :'data.frame':\t22 obs. of  1 variable:\n",
      "  .. ..$ value: chr [1:22] \"Rhea list of ChEBI terms representing the major species at pH 7.3.\" \"Term not to be used for direct annotation\" \"Terms planned for obsoletion\" \"AGR slim\" ...\n",
      "  ..@ .kv         :'data.frame':\t2075 obs. of  3 variables:\n",
      "  .. ..$ stanza_id: chr [1:2075] \".__Root__\" \".__Root__\" \".__Root__\" \".__Root__\" ...\n",
      "  .. ..$ key      : chr [1:2075] \"format-version\" \"data-version\" \"synonymtypedef\" \"synonymtypedef\" ...\n",
      "  .. ..$ value    : chr [1:2075] \"1.2\" \"go/2024-11-03/subsets/goslim_generic.owl\" \"syngo_official_label \\\"label approved by the SynGO project\\\"\" \"systematic_synonym \\\"Systematic synonym\\\" EXACT\" ...\n",
      "  ..@ evidenceCode: chr [1:26] \"EXP\" \"IDA\" \"IPI\" \"IMP\" ...\n",
      "  ..@ ontology    : chr NA\n",
      "  ..@ ids         : chr [1:141] \"GO:0000228\" \"GO:0000278\" \"GO:0000910\" \"GO:0001618\" ...\n",
      "  ..@ type        : chr \"OBO\"\n"
     ]
    }
   ],
   "source": [
    "# copied from workflow pipeline linked above\n",
    "\n",
    "# extract GOslims from OBO\n",
    "\n",
    "# Create GSEAbase GOCollection using `go_ids`\n",
    "myCollection <- GOCollection(go_ids)\n",
    "\n",
    "# Retrieve GOslims from GO OBO file set\n",
    "slim <- getOBOCollection(gseabase_files)\n",
    "\n",
    "str(slim)"
   ]
  },
  {
   "cell_type": "code",
   "execution_count": 85,
   "id": "7a07672f-171f-4996-9775-c9d3c9741b7b",
   "metadata": {},
   "outputs": [
    {
     "name": "stdout",
     "output_type": "stream",
     "text": [
      "'data.frame':\t72 obs. of  3 variables:\n",
      " $ Count  : int  54 11 9 32 4 3 0 0 44 33 ...\n",
      " $ Percent: num  2.127 0.433 0.354 1.26 0.158 ...\n",
      " $ Term   : chr  \"mitotic cell cycle\" \"cytokinesis\" \"cytoplasmic translation\" \"immune system process\" ...\n"
     ]
    },
    {
     "data": {
      "text/html": [
       "<table class=\"dataframe\">\n",
       "<caption>A data.frame: 6 × 3</caption>\n",
       "<thead>\n",
       "\t<tr><th></th><th scope=col>Count</th><th scope=col>Percent</th><th scope=col>Term</th></tr>\n",
       "\t<tr><th></th><th scope=col>&lt;int&gt;</th><th scope=col>&lt;dbl&gt;</th><th scope=col>&lt;chr&gt;</th></tr>\n",
       "</thead>\n",
       "<tbody>\n",
       "\t<tr><th scope=row>GO:0000278</th><td>54</td><td>2.1268216</td><td>mitotic cell cycle        </td></tr>\n",
       "\t<tr><th scope=row>GO:0000910</th><td>11</td><td>0.4332414</td><td>cytokinesis               </td></tr>\n",
       "\t<tr><th scope=row>GO:0002181</th><td> 9</td><td>0.3544703</td><td>cytoplasmic translation   </td></tr>\n",
       "\t<tr><th scope=row>GO:0002376</th><td>32</td><td>1.2603387</td><td>immune system process     </td></tr>\n",
       "\t<tr><th scope=row>GO:0003012</th><td> 4</td><td>0.1575423</td><td>muscle system process     </td></tr>\n",
       "\t<tr><th scope=row>GO:0003013</th><td> 3</td><td>0.1181568</td><td>circulatory system process</td></tr>\n",
       "</tbody>\n",
       "</table>\n"
      ],
      "text/latex": [
       "A data.frame: 6 × 3\n",
       "\\begin{tabular}{r|lll}\n",
       "  & Count & Percent & Term\\\\\n",
       "  & <int> & <dbl> & <chr>\\\\\n",
       "\\hline\n",
       "\tGO:0000278 & 54 & 2.1268216 & mitotic cell cycle        \\\\\n",
       "\tGO:0000910 & 11 & 0.4332414 & cytokinesis               \\\\\n",
       "\tGO:0002181 &  9 & 0.3544703 & cytoplasmic translation   \\\\\n",
       "\tGO:0002376 & 32 & 1.2603387 & immune system process     \\\\\n",
       "\tGO:0003012 &  4 & 0.1575423 & muscle system process     \\\\\n",
       "\tGO:0003013 &  3 & 0.1181568 & circulatory system process\\\\\n",
       "\\end{tabular}\n"
      ],
      "text/markdown": [
       "\n",
       "A data.frame: 6 × 3\n",
       "\n",
       "| <!--/--> | Count &lt;int&gt; | Percent &lt;dbl&gt; | Term &lt;chr&gt; |\n",
       "|---|---|---|---|\n",
       "| GO:0000278 | 54 | 2.1268216 | mitotic cell cycle         |\n",
       "| GO:0000910 | 11 | 0.4332414 | cytokinesis                |\n",
       "| GO:0002181 |  9 | 0.3544703 | cytoplasmic translation    |\n",
       "| GO:0002376 | 32 | 1.2603387 | immune system process      |\n",
       "| GO:0003012 |  4 | 0.1575423 | muscle system process      |\n",
       "| GO:0003013 |  3 | 0.1181568 | circulatory system process |\n",
       "\n"
      ],
      "text/plain": [
       "           Count Percent   Term                      \n",
       "GO:0000278 54    2.1268216 mitotic cell cycle        \n",
       "GO:0000910 11    0.4332414 cytokinesis               \n",
       "GO:0002181  9    0.3544703 cytoplasmic translation   \n",
       "GO:0002376 32    1.2603387 immune system process     \n",
       "GO:0003012  4    0.1575423 muscle system process     \n",
       "GO:0003013  3    0.1181568 circulatory system process"
      ]
     },
     "metadata": {},
     "output_type": "display_data"
    }
   ],
   "source": [
    "# copied from workflow pipeline linked above\n",
    "\n",
    "# retrieve BP GOslims\n",
    "\n",
    "# Retrieve Biological Process (BP) GOslims\n",
    "slimdf <- goSlim(myCollection, slim, \"BP\", verbose)\n",
    "str(slimdf)\n",
    "head(slimdf)"
   ]
  },
  {
   "cell_type": "code",
   "execution_count": 86,
   "id": "10d6ca76-af1a-4e85-a4f5-2bda0d98c0f9",
   "metadata": {},
   "outputs": [
    {
     "name": "stdout",
     "output_type": "stream",
     "text": [
      "'data.frame':\t72 obs. of  4 variables:\n",
      " $ Count  : int  54 11 9 32 4 3 0 0 44 33 ...\n",
      " $ Percent: num  2.127 0.433 0.354 1.26 0.158 ...\n",
      " $ Term   : chr  \"mitotic cell cycle\" \"cytokinesis\" \"cytoplasmic translation\" \"immune system process\" ...\n",
      " $ GO.IDs : chr  \"GO:0000070;GO:0000082;GO:0000083;GO:0000086;GO:0000132;GO:0000281;GO:0007052;GO:0007076;GO:0007080;GO:0007088;G\"| __truncated__ \"GO:0000281;GO:0000915;GO:0032465;GO:0032467;GO:0036089;GO:0040038;GO:0061640;GO:0061952;GO:1902410;GO:1902412;GO:2000431\" \"GO:0001731;GO:0001732;GO:0002182;GO:0002183;GO:0002184;GO:0002188;GO:2000766;GO:2000767; GO:0002181\" \"GO:0001782;GO:0002218;GO:0002224;GO:0002250;GO:0002495;GO:0002682;GO:0002755;GO:0006955;GO:0006956;GO:0006959;G\"| __truncated__ ...\n"
     ]
    },
    {
     "data": {
      "text/html": [
       "<table class=\"dataframe\">\n",
       "<caption>A data.frame: 6 × 4</caption>\n",
       "<thead>\n",
       "\t<tr><th></th><th scope=col>Count</th><th scope=col>Percent</th><th scope=col>Term</th><th scope=col>GO.IDs</th></tr>\n",
       "\t<tr><th></th><th scope=col>&lt;int&gt;</th><th scope=col>&lt;dbl&gt;</th><th scope=col>&lt;chr&gt;</th><th scope=col>&lt;chr&gt;</th></tr>\n",
       "</thead>\n",
       "<tbody>\n",
       "\t<tr><th scope=row>GO:0000278</th><td>54</td><td>2.1268216</td><td>mitotic cell cycle        </td><td>GO:0000070;GO:0000082;GO:0000083;GO:0000086;GO:0000132;GO:0000281;GO:0007052;GO:0007076;GO:0007080;GO:0007088;GO:0007089;GO:0007091;GO:0007093;GO:0007094;GO:0007095;GO:0007096;GO:0007100;GO:0007346;GO:0010389;GO:0010971;GO:0010972;GO:0031573;GO:0033314;GO:0034087;GO:0040001;GO:0044772;GO:0044773;GO:0045840;GO:0045842;GO:0045930;GO:0051228;GO:0051256;GO:0051306;GO:0051315;GO:0060236;GO:0061780;GO:0061952;GO:0090266;GO:0090307;GO:1900087;GO:1901673;GO:1902410;GO:1902412;GO:1902969;GO:1902975;GO:1902977;GO:1902979;GO:1902983;GO:1903461;GO:1990426;GO:1990810;GO:2000045;GO:2000134; GO:0000278</td></tr>\n",
       "\t<tr><th scope=row>GO:0000910</th><td>11</td><td>0.4332414</td><td>cytokinesis               </td><td>GO:0000281;GO:0000915;GO:0032465;GO:0032467;GO:0036089;GO:0040038;GO:0061640;GO:0061952;GO:1902410;GO:1902412;GO:2000431                                                                                                                                                                                                                                                                                                                                                                                                                                                                                          </td></tr>\n",
       "\t<tr><th scope=row>GO:0002181</th><td> 9</td><td>0.3544703</td><td>cytoplasmic translation   </td><td>GO:0001731;GO:0001732;GO:0002182;GO:0002183;GO:0002184;GO:0002188;GO:2000766;GO:2000767; GO:0002181                                                                                                                                                                                                                                                                                                                                                                                                                                                                                                               </td></tr>\n",
       "\t<tr><th scope=row>GO:0002376</th><td>32</td><td>1.2603387</td><td>immune system process     </td><td>GO:0001782;GO:0002218;GO:0002224;GO:0002250;GO:0002495;GO:0002682;GO:0002755;GO:0006955;GO:0006956;GO:0006959;GO:0019731;GO:0030888;GO:0030890;GO:0031295;GO:0033151;GO:0034128;GO:0034164;GO:0039536;GO:0042102;GO:0042130;GO:0043029;GO:0045087;GO:0045088;GO:0045089;GO:0045579;GO:0046651;GO:0048821;GO:0050852;GO:0050901;GO:0051251;GO:0060335; GO:0002376                                                                                                                                                                                                                                                  </td></tr>\n",
       "\t<tr><th scope=row>GO:0003012</th><td> 4</td><td>0.1575423</td><td>muscle system process     </td><td>GO:0003009;GO:0006936;GO:0006937;GO:0055117                                                                                                                                                                                                                                                                                                                                                                                                                                                                                                                                                                       </td></tr>\n",
       "\t<tr><th scope=row>GO:0003013</th><td> 3</td><td>0.1181568</td><td>circulatory system process</td><td>GO:0003085;GO:0055117;GO:0060047                                                                                                                                                                                                                                                                                                                                                                                                                                                                                                                                                                                  </td></tr>\n",
       "</tbody>\n",
       "</table>\n"
      ],
      "text/latex": [
       "A data.frame: 6 × 4\n",
       "\\begin{tabular}{r|llll}\n",
       "  & Count & Percent & Term & GO.IDs\\\\\n",
       "  & <int> & <dbl> & <chr> & <chr>\\\\\n",
       "\\hline\n",
       "\tGO:0000278 & 54 & 2.1268216 & mitotic cell cycle         & GO:0000070;GO:0000082;GO:0000083;GO:0000086;GO:0000132;GO:0000281;GO:0007052;GO:0007076;GO:0007080;GO:0007088;GO:0007089;GO:0007091;GO:0007093;GO:0007094;GO:0007095;GO:0007096;GO:0007100;GO:0007346;GO:0010389;GO:0010971;GO:0010972;GO:0031573;GO:0033314;GO:0034087;GO:0040001;GO:0044772;GO:0044773;GO:0045840;GO:0045842;GO:0045930;GO:0051228;GO:0051256;GO:0051306;GO:0051315;GO:0060236;GO:0061780;GO:0061952;GO:0090266;GO:0090307;GO:1900087;GO:1901673;GO:1902410;GO:1902412;GO:1902969;GO:1902975;GO:1902977;GO:1902979;GO:1902983;GO:1903461;GO:1990426;GO:1990810;GO:2000045;GO:2000134; GO:0000278\\\\\n",
       "\tGO:0000910 & 11 & 0.4332414 & cytokinesis                & GO:0000281;GO:0000915;GO:0032465;GO:0032467;GO:0036089;GO:0040038;GO:0061640;GO:0061952;GO:1902410;GO:1902412;GO:2000431                                                                                                                                                                                                                                                                                                                                                                                                                                                                                          \\\\\n",
       "\tGO:0002181 &  9 & 0.3544703 & cytoplasmic translation    & GO:0001731;GO:0001732;GO:0002182;GO:0002183;GO:0002184;GO:0002188;GO:2000766;GO:2000767; GO:0002181                                                                                                                                                                                                                                                                                                                                                                                                                                                                                                               \\\\\n",
       "\tGO:0002376 & 32 & 1.2603387 & immune system process      & GO:0001782;GO:0002218;GO:0002224;GO:0002250;GO:0002495;GO:0002682;GO:0002755;GO:0006955;GO:0006956;GO:0006959;GO:0019731;GO:0030888;GO:0030890;GO:0031295;GO:0033151;GO:0034128;GO:0034164;GO:0039536;GO:0042102;GO:0042130;GO:0043029;GO:0045087;GO:0045088;GO:0045089;GO:0045579;GO:0046651;GO:0048821;GO:0050852;GO:0050901;GO:0051251;GO:0060335; GO:0002376                                                                                                                                                                                                                                                  \\\\\n",
       "\tGO:0003012 &  4 & 0.1575423 & muscle system process      & GO:0003009;GO:0006936;GO:0006937;GO:0055117                                                                                                                                                                                                                                                                                                                                                                                                                                                                                                                                                                       \\\\\n",
       "\tGO:0003013 &  3 & 0.1181568 & circulatory system process & GO:0003085;GO:0055117;GO:0060047                                                                                                                                                                                                                                                                                                                                                                                                                                                                                                                                                                                  \\\\\n",
       "\\end{tabular}\n"
      ],
      "text/markdown": [
       "\n",
       "A data.frame: 6 × 4\n",
       "\n",
       "| <!--/--> | Count &lt;int&gt; | Percent &lt;dbl&gt; | Term &lt;chr&gt; | GO.IDs &lt;chr&gt; |\n",
       "|---|---|---|---|---|\n",
       "| GO:0000278 | 54 | 2.1268216 | mitotic cell cycle         | GO:0000070;GO:0000082;GO:0000083;GO:0000086;GO:0000132;GO:0000281;GO:0007052;GO:0007076;GO:0007080;GO:0007088;GO:0007089;GO:0007091;GO:0007093;GO:0007094;GO:0007095;GO:0007096;GO:0007100;GO:0007346;GO:0010389;GO:0010971;GO:0010972;GO:0031573;GO:0033314;GO:0034087;GO:0040001;GO:0044772;GO:0044773;GO:0045840;GO:0045842;GO:0045930;GO:0051228;GO:0051256;GO:0051306;GO:0051315;GO:0060236;GO:0061780;GO:0061952;GO:0090266;GO:0090307;GO:1900087;GO:1901673;GO:1902410;GO:1902412;GO:1902969;GO:1902975;GO:1902977;GO:1902979;GO:1902983;GO:1903461;GO:1990426;GO:1990810;GO:2000045;GO:2000134; GO:0000278 |\n",
       "| GO:0000910 | 11 | 0.4332414 | cytokinesis                | GO:0000281;GO:0000915;GO:0032465;GO:0032467;GO:0036089;GO:0040038;GO:0061640;GO:0061952;GO:1902410;GO:1902412;GO:2000431                                                                                                                                                                                                                                                                                                                                                                                                                                                                                           |\n",
       "| GO:0002181 |  9 | 0.3544703 | cytoplasmic translation    | GO:0001731;GO:0001732;GO:0002182;GO:0002183;GO:0002184;GO:0002188;GO:2000766;GO:2000767; GO:0002181                                                                                                                                                                                                                                                                                                                                                                                                                                                                                                                |\n",
       "| GO:0002376 | 32 | 1.2603387 | immune system process      | GO:0001782;GO:0002218;GO:0002224;GO:0002250;GO:0002495;GO:0002682;GO:0002755;GO:0006955;GO:0006956;GO:0006959;GO:0019731;GO:0030888;GO:0030890;GO:0031295;GO:0033151;GO:0034128;GO:0034164;GO:0039536;GO:0042102;GO:0042130;GO:0043029;GO:0045087;GO:0045088;GO:0045089;GO:0045579;GO:0046651;GO:0048821;GO:0050852;GO:0050901;GO:0051251;GO:0060335; GO:0002376                                                                                                                                                                                                                                                   |\n",
       "| GO:0003012 |  4 | 0.1575423 | muscle system process      | GO:0003009;GO:0006936;GO:0006937;GO:0055117                                                                                                                                                                                                                                                                                                                                                                                                                                                                                                                                                                        |\n",
       "| GO:0003013 |  3 | 0.1181568 | circulatory system process | GO:0003085;GO:0055117;GO:0060047                                                                                                                                                                                                                                                                                                                                                                                                                                                                                                                                                                                   |\n",
       "\n"
      ],
      "text/plain": [
       "           Count Percent   Term                      \n",
       "GO:0000278 54    2.1268216 mitotic cell cycle        \n",
       "GO:0000910 11    0.4332414 cytokinesis               \n",
       "GO:0002181  9    0.3544703 cytoplasmic translation   \n",
       "GO:0002376 32    1.2603387 immune system process     \n",
       "GO:0003012  4    0.1575423 muscle system process     \n",
       "GO:0003013  3    0.1181568 circulatory system process\n",
       "           GO.IDs                                                                                                                                                                                                                                                                                                                                                                                                                                                                                                                                                                                                            \n",
       "GO:0000278 GO:0000070;GO:0000082;GO:0000083;GO:0000086;GO:0000132;GO:0000281;GO:0007052;GO:0007076;GO:0007080;GO:0007088;GO:0007089;GO:0007091;GO:0007093;GO:0007094;GO:0007095;GO:0007096;GO:0007100;GO:0007346;GO:0010389;GO:0010971;GO:0010972;GO:0031573;GO:0033314;GO:0034087;GO:0040001;GO:0044772;GO:0044773;GO:0045840;GO:0045842;GO:0045930;GO:0051228;GO:0051256;GO:0051306;GO:0051315;GO:0060236;GO:0061780;GO:0061952;GO:0090266;GO:0090307;GO:1900087;GO:1901673;GO:1902410;GO:1902412;GO:1902969;GO:1902975;GO:1902977;GO:1902979;GO:1902983;GO:1903461;GO:1990426;GO:1990810;GO:2000045;GO:2000134; GO:0000278\n",
       "GO:0000910 GO:0000281;GO:0000915;GO:0032465;GO:0032467;GO:0036089;GO:0040038;GO:0061640;GO:0061952;GO:1902410;GO:1902412;GO:2000431                                                                                                                                                                                                                                                                                                                                                                                                                                                                                          \n",
       "GO:0002181 GO:0001731;GO:0001732;GO:0002182;GO:0002183;GO:0002184;GO:0002188;GO:2000766;GO:2000767; GO:0002181                                                                                                                                                                                                                                                                                                                                                                                                                                                                                                               \n",
       "GO:0002376 GO:0001782;GO:0002218;GO:0002224;GO:0002250;GO:0002495;GO:0002682;GO:0002755;GO:0006955;GO:0006956;GO:0006959;GO:0019731;GO:0030888;GO:0030890;GO:0031295;GO:0033151;GO:0034128;GO:0034164;GO:0039536;GO:0042102;GO:0042130;GO:0043029;GO:0045087;GO:0045088;GO:0045089;GO:0045579;GO:0046651;GO:0048821;GO:0050852;GO:0050901;GO:0051251;GO:0060335; GO:0002376                                                                                                                                                                                                                                                  \n",
       "GO:0003012 GO:0003009;GO:0006936;GO:0006937;GO:0055117                                                                                                                                                                                                                                                                                                                                                                                                                                                                                                                                                                       \n",
       "GO:0003013 GO:0003085;GO:0055117;GO:0060047                                                                                                                                                                                                                                                                                                                                                                                                                                                                                                                                                                                  "
      ]
     },
     "metadata": {},
     "output_type": "display_data"
    }
   ],
   "source": [
    "# copied from workflow pipeline linked above\n",
    "\n",
    "#Map GO to GOslims\n",
    "\n",
    "# List of GOslims and all GO IDs from `go_ids`\n",
    "gomap <- as.list(GOBPOFFSPRING[rownames(slimdf)])\n",
    "\n",
    "# Maps `go_ids` to matching GOslims\n",
    "mapped <- lapply(gomap, intersect, ids(myCollection))\n",
    "\n",
    "# Append all mapped GO IDs to `slimdf`\n",
    "# `sapply` needed to apply paste() to create semi-colon delimited values\n",
    "slimdf$GO.IDs <- sapply(lapply(gomap, intersect, ids(myCollection)), paste, collapse=\";\")\n",
    "\n",
    "# Remove \"character(0) string from \"GO.IDs\" column\n",
    "slimdf$GO.IDs[slimdf$GO.IDs == \"character(0)\"] <- \"\"\n",
    "\n",
    "# Add self-matching GOIDs to \"GO.IDs\" column, if not present\n",
    "for (go_id in go_ids) {\n",
    "  # Check if the go_id is present in the row names\n",
    "  if (go_id %in% rownames(slimdf)) {\n",
    "    # Check if the go_id is not present in the GO.IDs column\n",
    "    # Also removes white space \"trimws()\" and converts all to upper case to handle\n",
    "    # any weird, \"invisible\" formatting issues.\n",
    "    if (!go_id %in% trimws(toupper(strsplit(slimdf[go_id, \"GO.IDs\"], \";\")[[1]]))) {\n",
    "      # Append the go_id to the GO.IDs column with a semi-colon separator\n",
    "      if (length(slimdf$GO.IDs) > 0 && nchar(slimdf$GO.IDs[nrow(slimdf)]) > 0) {\n",
    "        slimdf[go_id, \"GO.IDs\"] <- paste0(slimdf[go_id, \"GO.IDs\"], \"; \", go_id)\n",
    "      } else {\n",
    "        slimdf[go_id, \"GO.IDs\"] <- go_id\n",
    "      }\n",
    "    }\n",
    "  }\n",
    "}\n",
    "\n",
    "str(slimdf)\n",
    "head(slimdf)"
   ]
  },
  {
   "cell_type": "markdown",
   "id": "e1454392-d376-4dec-89ef-ba3d34d855f4",
   "metadata": {},
   "source": [
    "flatten GOslims file - one GO ID and one GOslim term per row"
   ]
  },
  {
   "cell_type": "code",
   "execution_count": 64,
   "id": "c0298c34-1801-4a8f-a4e9-ffd35605e2da",
   "metadata": {},
   "outputs": [
    {
     "name": "stdout",
     "output_type": "stream",
     "text": [
      "tibble [1,850 × 3] (S3: tbl_df/tbl/data.frame)\n",
      " $ GO.IDs: chr [1:1850] \" GO:0000278\" \" GO:0002181\" \" GO:0002376\" \" GO:0005975\" ...\n",
      " $ GOslim: chr [1:1850] \"GO:0000278\" \"GO:0002181\" \"GO:0002376\" \"GO:0005975\" ...\n",
      " $ Term  : chr [1:1850] \"mitotic cell cycle\" \"cytoplasmic translation\" \"immune system process\" \"carbohydrate metabolic process\" ...\n"
     ]
    },
    {
     "data": {
      "text/html": [
       "<table class=\"dataframe\">\n",
       "<caption>A tibble: 6 × 3</caption>\n",
       "<thead>\n",
       "\t<tr><th scope=col>GO.IDs</th><th scope=col>GOslim</th><th scope=col>Term</th></tr>\n",
       "\t<tr><th scope=col>&lt;chr&gt;</th><th scope=col>&lt;chr&gt;</th><th scope=col>&lt;chr&gt;</th></tr>\n",
       "</thead>\n",
       "<tbody>\n",
       "\t<tr><td> GO:0000278</td><td>GO:0000278</td><td>mitotic cell cycle                            </td></tr>\n",
       "\t<tr><td> GO:0002181</td><td>GO:0002181</td><td>cytoplasmic translation                       </td></tr>\n",
       "\t<tr><td> GO:0002376</td><td>GO:0002376</td><td>immune system process                         </td></tr>\n",
       "\t<tr><td> GO:0005975</td><td>GO:0005975</td><td>carbohydrate metabolic process                </td></tr>\n",
       "\t<tr><td> GO:0006091</td><td>GO:0006091</td><td>generation of precursor metabolites and energy</td></tr>\n",
       "\t<tr><td> GO:0006260</td><td>GO:0006260</td><td>DNA replication                               </td></tr>\n",
       "</tbody>\n",
       "</table>\n"
      ],
      "text/latex": [
       "A tibble: 6 × 3\n",
       "\\begin{tabular}{lll}\n",
       " GO.IDs & GOslim & Term\\\\\n",
       " <chr> & <chr> & <chr>\\\\\n",
       "\\hline\n",
       "\t  GO:0000278 & GO:0000278 & mitotic cell cycle                            \\\\\n",
       "\t  GO:0002181 & GO:0002181 & cytoplasmic translation                       \\\\\n",
       "\t  GO:0002376 & GO:0002376 & immune system process                         \\\\\n",
       "\t  GO:0005975 & GO:0005975 & carbohydrate metabolic process                \\\\\n",
       "\t  GO:0006091 & GO:0006091 & generation of precursor metabolites and energy\\\\\n",
       "\t  GO:0006260 & GO:0006260 & DNA replication                               \\\\\n",
       "\\end{tabular}\n"
      ],
      "text/markdown": [
       "\n",
       "A tibble: 6 × 3\n",
       "\n",
       "| GO.IDs &lt;chr&gt; | GOslim &lt;chr&gt; | Term &lt;chr&gt; |\n",
       "|---|---|---|\n",
       "|  GO:0000278 | GO:0000278 | mitotic cell cycle                             |\n",
       "|  GO:0002181 | GO:0002181 | cytoplasmic translation                        |\n",
       "|  GO:0002376 | GO:0002376 | immune system process                          |\n",
       "|  GO:0005975 | GO:0005975 | carbohydrate metabolic process                 |\n",
       "|  GO:0006091 | GO:0006091 | generation of precursor metabolites and energy |\n",
       "|  GO:0006260 | GO:0006260 | DNA replication                                |\n",
       "\n"
      ],
      "text/plain": [
       "  GO.IDs      GOslim     Term                                          \n",
       "1  GO:0000278 GO:0000278 mitotic cell cycle                            \n",
       "2  GO:0002181 GO:0002181 cytoplasmic translation                       \n",
       "3  GO:0002376 GO:0002376 immune system process                         \n",
       "4  GO:0005975 GO:0005975 carbohydrate metabolic process                \n",
       "5  GO:0006091 GO:0006091 generation of precursor metabolites and energy\n",
       "6  GO:0006260 GO:0006260 DNA replication                               "
      ]
     },
     "metadata": {},
     "output_type": "display_data"
    }
   ],
   "source": [
    "# copied from workflow pipeline linked above\n",
    "\n",
    "# flatten-GOslims-file\n",
    "\n",
    "# \"Flatten\" file so each row is single GO ID with corresponding GOslim\n",
    "# rownames_to_column needed to retain row name info\n",
    "slimdf_separated <- as.data.frame(slimdf %>%\n",
    "  rownames_to_column('GOslim') %>%\n",
    "  separate_rows(GO.IDs, sep = \";\"))\n",
    "\n",
    "# Group by unique GO ID\n",
    "grouped_slimdf <- slimdf_separated %>%\n",
    "  filter(!is.na(GO.IDs) & GO.IDs != \"\") %>%\n",
    "  group_by(GO.IDs) %>%\n",
    "  summarize(GOslim = paste(GOslim, collapse = \";\"),\n",
    "            Term = paste(Term, collapse = \";\"))\n",
    "\n",
    "\n",
    "str(grouped_slimdf)\n",
    "head(grouped_slimdf)"
   ]
  },
  {
   "cell_type": "code",
   "execution_count": 65,
   "id": "2704ffca-9758-4429-9510-cbdc3663768c",
   "metadata": {},
   "outputs": [
    {
     "name": "stdout",
     "output_type": "stream",
     "text": [
      "'data.frame':\t72 obs. of  2 variables:\n",
      " $ Term : chr  \"signaling\" \"carbohydrate derivative metabolic process\" \"lipid metabolic process\" \"anatomical structure development\" ...\n",
      " $ Count: int  232 151 133 126 119 98 96 94 78 77 ...\n"
     ]
    },
    {
     "data": {
      "text/html": [
       "<table class=\"dataframe\">\n",
       "<caption>A data.frame: 6 × 2</caption>\n",
       "<thead>\n",
       "\t<tr><th></th><th scope=col>Term</th><th scope=col>Count</th></tr>\n",
       "\t<tr><th></th><th scope=col>&lt;chr&gt;</th><th scope=col>&lt;int&gt;</th></tr>\n",
       "</thead>\n",
       "<tbody>\n",
       "\t<tr><th scope=row>GO:0023052</th><td>signaling                                             </td><td>232</td></tr>\n",
       "\t<tr><th scope=row>GO:1901135</th><td>carbohydrate derivative metabolic process             </td><td>151</td></tr>\n",
       "\t<tr><th scope=row>GO:0006629</th><td>lipid metabolic process                               </td><td>133</td></tr>\n",
       "\t<tr><th scope=row>GO:0048856</th><td>anatomical structure development                      </td><td>126</td></tr>\n",
       "\t<tr><th scope=row>GO:0055086</th><td>nucleobase-containing small molecule metabolic process</td><td>119</td></tr>\n",
       "\t<tr><th scope=row>GO:0006520</th><td>amino acid metabolic process                          </td><td> 98</td></tr>\n",
       "</tbody>\n",
       "</table>\n"
      ],
      "text/latex": [
       "A data.frame: 6 × 2\n",
       "\\begin{tabular}{r|ll}\n",
       "  & Term & Count\\\\\n",
       "  & <chr> & <int>\\\\\n",
       "\\hline\n",
       "\tGO:0023052 & signaling                                              & 232\\\\\n",
       "\tGO:1901135 & carbohydrate derivative metabolic process              & 151\\\\\n",
       "\tGO:0006629 & lipid metabolic process                                & 133\\\\\n",
       "\tGO:0048856 & anatomical structure development                       & 126\\\\\n",
       "\tGO:0055086 & nucleobase-containing small molecule metabolic process & 119\\\\\n",
       "\tGO:0006520 & amino acid metabolic process                           &  98\\\\\n",
       "\\end{tabular}\n"
      ],
      "text/markdown": [
       "\n",
       "A data.frame: 6 × 2\n",
       "\n",
       "| <!--/--> | Term &lt;chr&gt; | Count &lt;int&gt; |\n",
       "|---|---|---|\n",
       "| GO:0023052 | signaling                                              | 232 |\n",
       "| GO:1901135 | carbohydrate derivative metabolic process              | 151 |\n",
       "| GO:0006629 | lipid metabolic process                                | 133 |\n",
       "| GO:0048856 | anatomical structure development                       | 126 |\n",
       "| GO:0055086 | nucleobase-containing small molecule metabolic process | 119 |\n",
       "| GO:0006520 | amino acid metabolic process                           |  98 |\n",
       "\n"
      ],
      "text/plain": [
       "           Term                                                   Count\n",
       "GO:0023052 signaling                                              232  \n",
       "GO:1901135 carbohydrate derivative metabolic process              151  \n",
       "GO:0006629 lipid metabolic process                                133  \n",
       "GO:0048856 anatomical structure development                       126  \n",
       "GO:0055086 nucleobase-containing small molecule metabolic process 119  \n",
       "GO:0006520 amino acid metabolic process                            98  "
      ]
     },
     "metadata": {},
     "output_type": "display_data"
    }
   ],
   "source": [
    "# copied from workflow pipeline linked above\n",
    "\n",
    "# sort and select slimdf counts\n",
    "\n",
    "slimdf.sorted <- slimdf %>% arrange(desc(Count))\n",
    "\n",
    "slim.count.df <- slimdf.sorted[,c(3,1)]\n",
    " # select(Term, Count)\n",
    "\n",
    "str(slim.count.df)\n",
    "\n",
    "head(slim.count.df)"
   ]
  },
  {
   "cell_type": "markdown",
   "id": "50beb8db-4cfa-479e-a78e-7599499bccd1",
   "metadata": {},
   "source": [
    "here, count means out of the whole genome/GOslim file, the number of GO IDs that fall into that GOslim term\n"
   ]
  },
  {
   "cell_type": "code",
   "execution_count": 88,
   "id": "00896102-a6c6-4ee6-a86a-22e2bb525f20",
   "metadata": {},
   "outputs": [
    {
     "data": {
      "text/html": [
       "<table class=\"dataframe\">\n",
       "<caption>A tibble: 6 × 3</caption>\n",
       "<thead>\n",
       "\t<tr><th scope=col>GO.IDs</th><th scope=col>GOslim</th><th scope=col>Term</th></tr>\n",
       "\t<tr><th scope=col>&lt;chr&gt;</th><th scope=col>&lt;chr&gt;</th><th scope=col>&lt;chr&gt;</th></tr>\n",
       "</thead>\n",
       "<tbody>\n",
       "\t<tr><td> GO:0000278</td><td>GO:0000278</td><td>mitotic cell cycle                            </td></tr>\n",
       "\t<tr><td> GO:0002181</td><td>GO:0002181</td><td>cytoplasmic translation                       </td></tr>\n",
       "\t<tr><td> GO:0002376</td><td>GO:0002376</td><td>immune system process                         </td></tr>\n",
       "\t<tr><td> GO:0005975</td><td>GO:0005975</td><td>carbohydrate metabolic process                </td></tr>\n",
       "\t<tr><td> GO:0006091</td><td>GO:0006091</td><td>generation of precursor metabolites and energy</td></tr>\n",
       "\t<tr><td> GO:0006260</td><td>GO:0006260</td><td>DNA replication                               </td></tr>\n",
       "</tbody>\n",
       "</table>\n"
      ],
      "text/latex": [
       "A tibble: 6 × 3\n",
       "\\begin{tabular}{lll}\n",
       " GO.IDs & GOslim & Term\\\\\n",
       " <chr> & <chr> & <chr>\\\\\n",
       "\\hline\n",
       "\t  GO:0000278 & GO:0000278 & mitotic cell cycle                            \\\\\n",
       "\t  GO:0002181 & GO:0002181 & cytoplasmic translation                       \\\\\n",
       "\t  GO:0002376 & GO:0002376 & immune system process                         \\\\\n",
       "\t  GO:0005975 & GO:0005975 & carbohydrate metabolic process                \\\\\n",
       "\t  GO:0006091 & GO:0006091 & generation of precursor metabolites and energy\\\\\n",
       "\t  GO:0006260 & GO:0006260 & DNA replication                               \\\\\n",
       "\\end{tabular}\n"
      ],
      "text/markdown": [
       "\n",
       "A tibble: 6 × 3\n",
       "\n",
       "| GO.IDs &lt;chr&gt; | GOslim &lt;chr&gt; | Term &lt;chr&gt; |\n",
       "|---|---|---|\n",
       "|  GO:0000278 | GO:0000278 | mitotic cell cycle                             |\n",
       "|  GO:0002181 | GO:0002181 | cytoplasmic translation                        |\n",
       "|  GO:0002376 | GO:0002376 | immune system process                          |\n",
       "|  GO:0005975 | GO:0005975 | carbohydrate metabolic process                 |\n",
       "|  GO:0006091 | GO:0006091 | generation of precursor metabolites and energy |\n",
       "|  GO:0006260 | GO:0006260 | DNA replication                                |\n",
       "\n"
      ],
      "text/plain": [
       "  GO.IDs      GOslim     Term                                          \n",
       "1  GO:0000278 GO:0000278 mitotic cell cycle                            \n",
       "2  GO:0002181 GO:0002181 cytoplasmic translation                       \n",
       "3  GO:0002376 GO:0002376 immune system process                         \n",
       "4  GO:0005975 GO:0005975 carbohydrate metabolic process                \n",
       "5  GO:0006091 GO:0006091 generation of precursor metabolites and energy\n",
       "6  GO:0006260 GO:0006260 DNA replication                               "
      ]
     },
     "metadata": {},
     "output_type": "display_data"
    },
    {
     "data": {
      "text/html": [
       "<table class=\"dataframe\">\n",
       "<caption>A tibble: 6 × 2</caption>\n",
       "<thead>\n",
       "\t<tr><th scope=col>gene_id</th><th scope=col>Gene.Ontology.IDs</th></tr>\n",
       "\t<tr><th scope=col>&lt;chr&gt;</th><th scope=col>&lt;chr&gt;</th></tr>\n",
       "</thead>\n",
       "<tbody>\n",
       "\t<tr><td>LOC111099029</td><td>GO:0005261</td></tr>\n",
       "\t<tr><td>LOC111099029</td><td>GO:0098655</td></tr>\n",
       "\t<tr><td>LOC111099032</td><td>GO:0004930</td></tr>\n",
       "\t<tr><td>LOC111099032</td><td>GO:0005886</td></tr>\n",
       "\t<tr><td>LOC111099032</td><td>GO:0007186</td></tr>\n",
       "\t<tr><td>LOC111099033</td><td>GO:0016020</td></tr>\n",
       "</tbody>\n",
       "</table>\n"
      ],
      "text/latex": [
       "A tibble: 6 × 2\n",
       "\\begin{tabular}{ll}\n",
       " gene\\_id & Gene.Ontology.IDs\\\\\n",
       " <chr> & <chr>\\\\\n",
       "\\hline\n",
       "\t LOC111099029 & GO:0005261\\\\\n",
       "\t LOC111099029 & GO:0098655\\\\\n",
       "\t LOC111099032 & GO:0004930\\\\\n",
       "\t LOC111099032 & GO:0005886\\\\\n",
       "\t LOC111099032 & GO:0007186\\\\\n",
       "\t LOC111099033 & GO:0016020\\\\\n",
       "\\end{tabular}\n"
      ],
      "text/markdown": [
       "\n",
       "A tibble: 6 × 2\n",
       "\n",
       "| gene_id &lt;chr&gt; | Gene.Ontology.IDs &lt;chr&gt; |\n",
       "|---|---|\n",
       "| LOC111099029 | GO:0005261 |\n",
       "| LOC111099029 | GO:0098655 |\n",
       "| LOC111099032 | GO:0004930 |\n",
       "| LOC111099032 | GO:0005886 |\n",
       "| LOC111099032 | GO:0007186 |\n",
       "| LOC111099033 | GO:0016020 |\n",
       "\n"
      ],
      "text/plain": [
       "  gene_id      Gene.Ontology.IDs\n",
       "1 LOC111099029 GO:0005261       \n",
       "2 LOC111099029 GO:0098655       \n",
       "3 LOC111099032 GO:0004930       \n",
       "4 LOC111099032 GO:0005886       \n",
       "5 LOC111099032 GO:0007186       \n",
       "6 LOC111099033 GO:0016020       "
      ]
     },
     "metadata": {},
     "output_type": "display_data"
    }
   ],
   "source": [
    "head(grouped_slimdf)\n",
    "head(flat.gene.GO.df)"
   ]
  },
  {
   "cell_type": "markdown",
   "id": "5b869049-ea18-4fd1-ace1-ec1e0cc5f113",
   "metadata": {},
   "source": [
    "\n",
    "so have two flat dfs - one that has one gene and one GO ID per row, and one with one GO ID and one GOslim term per row - want to merge them to get a new flat df with one gene and one GOslim term per row"
   ]
  },
  {
   "cell_type": "code",
   "execution_count": 92,
   "id": "ed4f3232-6a20-45c5-98a4-d8e563b21c13",
   "metadata": {},
   "outputs": [
    {
     "data": {
      "text/html": [
       "<table class=\"dataframe\">\n",
       "<caption>A data.frame: 6 × 4</caption>\n",
       "<thead>\n",
       "\t<tr><th></th><th scope=col>GO.IDs</th><th scope=col>GOslim</th><th scope=col>Term</th><th scope=col>gene_id</th></tr>\n",
       "\t<tr><th></th><th scope=col>&lt;chr&gt;</th><th scope=col>&lt;chr&gt;</th><th scope=col>&lt;chr&gt;</th><th scope=col>&lt;chr&gt;</th></tr>\n",
       "</thead>\n",
       "<tbody>\n",
       "\t<tr><th scope=row>1</th><td>GO:0000002</td><td>GO:0007005</td><td>mitochondrion organization</td><td>LOC111135903</td></tr>\n",
       "\t<tr><th scope=row>2</th><td>GO:0000012</td><td>GO:0006281</td><td>DNA repair                </td><td>LOC111136704</td></tr>\n",
       "\t<tr><th scope=row>3</th><td>GO:0000012</td><td>GO:0006281</td><td>DNA repair                </td><td>LOC111111498</td></tr>\n",
       "\t<tr><th scope=row>4</th><td>GO:0000012</td><td>GO:0006281</td><td>DNA repair                </td><td>LOC111128516</td></tr>\n",
       "\t<tr><th scope=row>5</th><td>GO:0000012</td><td>GO:0006281</td><td>DNA repair                </td><td>LOC111135354</td></tr>\n",
       "\t<tr><th scope=row>6</th><td>GO:0000012</td><td>GO:0006281</td><td>DNA repair                </td><td>LOC111128425</td></tr>\n",
       "</tbody>\n",
       "</table>\n"
      ],
      "text/latex": [
       "A data.frame: 6 × 4\n",
       "\\begin{tabular}{r|llll}\n",
       "  & GO.IDs & GOslim & Term & gene\\_id\\\\\n",
       "  & <chr> & <chr> & <chr> & <chr>\\\\\n",
       "\\hline\n",
       "\t1 & GO:0000002 & GO:0007005 & mitochondrion organization & LOC111135903\\\\\n",
       "\t2 & GO:0000012 & GO:0006281 & DNA repair                 & LOC111136704\\\\\n",
       "\t3 & GO:0000012 & GO:0006281 & DNA repair                 & LOC111111498\\\\\n",
       "\t4 & GO:0000012 & GO:0006281 & DNA repair                 & LOC111128516\\\\\n",
       "\t5 & GO:0000012 & GO:0006281 & DNA repair                 & LOC111135354\\\\\n",
       "\t6 & GO:0000012 & GO:0006281 & DNA repair                 & LOC111128425\\\\\n",
       "\\end{tabular}\n"
      ],
      "text/markdown": [
       "\n",
       "A data.frame: 6 × 4\n",
       "\n",
       "| <!--/--> | GO.IDs &lt;chr&gt; | GOslim &lt;chr&gt; | Term &lt;chr&gt; | gene_id &lt;chr&gt; |\n",
       "|---|---|---|---|---|\n",
       "| 1 | GO:0000002 | GO:0007005 | mitochondrion organization | LOC111135903 |\n",
       "| 2 | GO:0000012 | GO:0006281 | DNA repair                 | LOC111136704 |\n",
       "| 3 | GO:0000012 | GO:0006281 | DNA repair                 | LOC111111498 |\n",
       "| 4 | GO:0000012 | GO:0006281 | DNA repair                 | LOC111128516 |\n",
       "| 5 | GO:0000012 | GO:0006281 | DNA repair                 | LOC111135354 |\n",
       "| 6 | GO:0000012 | GO:0006281 | DNA repair                 | LOC111128425 |\n",
       "\n"
      ],
      "text/plain": [
       "  GO.IDs     GOslim     Term                       gene_id     \n",
       "1 GO:0000002 GO:0007005 mitochondrion organization LOC111135903\n",
       "2 GO:0000012 GO:0006281 DNA repair                 LOC111136704\n",
       "3 GO:0000012 GO:0006281 DNA repair                 LOC111111498\n",
       "4 GO:0000012 GO:0006281 DNA repair                 LOC111128516\n",
       "5 GO:0000012 GO:0006281 DNA repair                 LOC111135354\n",
       "6 GO:0000012 GO:0006281 DNA repair                 LOC111128425"
      ]
     },
     "metadata": {},
     "output_type": "display_data"
    }
   ],
   "source": [
    "# change column name to same as grouped_slimdf\n",
    "colnames(flat.gene.GO.df) <- c('gene_id', 'GO.IDs')\n",
    "\n",
    "gene2GOslim <- merge(grouped_slimdf, flat.gene.GO.df, by = 'GO.IDs')\n",
    "head(gene2GOslim)"
   ]
  },
  {
   "cell_type": "markdown",
   "id": "4da1f3b5-d2f1-4a6a-b9bf-6712a7e2ffb0",
   "metadata": {},
   "source": [
    "so presumably, can take my list of significant genes and match to GO Slim terms?\n",
    "\n",
    "following protocol from [paper-gonad-meth repo](https://github.com/epigeneticstoocean/paper-gonad-meth/tree/master), fitting [this pipeline](https://github.com/epigeneticstoocean/paper-gonad-meth/blob/master/code/14-Gene-Enrichment-with-GO-MWU.Rmd) to my GOSlim and GO-MWU files\n",
    "\n",
    "all GO-MWU files were created from [GO-MWU.R](https://github.com/jgmcdonough/CE18_methylRAD_analysis/blob/master/analysis/DMGs_analysis/go_mwu/GO_MWU.R) - all **biological process** and using log2FoldChange as measure of significance\n",
    "\n",
    "\n",
    "starting with:\n",
    "\n",
    "## CH vs. HC\n"
   ]
  },
  {
   "cell_type": "code",
   "execution_count": 93,
   "id": "e27b3b57-3cc8-4095-82e9-23a443878ab3",
   "metadata": {},
   "outputs": [
    {
     "data": {
      "text/html": [
       "<table class=\"dataframe\">\n",
       "<caption>A data.frame: 6 × 5</caption>\n",
       "<thead>\n",
       "\t<tr><th></th><th scope=col>name</th><th scope=col>term</th><th scope=col>lev</th><th scope=col>gene_id</th><th scope=col>value</th></tr>\n",
       "\t<tr><th></th><th scope=col>&lt;chr&gt;</th><th scope=col>&lt;chr&gt;</th><th scope=col>&lt;int&gt;</th><th scope=col>&lt;chr&gt;</th><th scope=col>&lt;dbl&gt;</th></tr>\n",
       "</thead>\n",
       "<tbody>\n",
       "\t<tr><th scope=row>1</th><td>supramolecular fiber organization</td><td>GO:0007015;GO:0097435</td><td>2</td><td>LOC111101101</td><td>-0.38722520</td></tr>\n",
       "\t<tr><th scope=row>2</th><td>supramolecular fiber organization</td><td>GO:0007015;GO:0097435</td><td>2</td><td>LOC111108074</td><td> 0.08059783</td></tr>\n",
       "\t<tr><th scope=row>3</th><td>supramolecular fiber organization</td><td>GO:0007015;GO:0097435</td><td>2</td><td>LOC111109780</td><td>-1.04879576</td></tr>\n",
       "\t<tr><th scope=row>4</th><td>supramolecular fiber organization</td><td>GO:0007015;GO:0097435</td><td>2</td><td>LOC111113129</td><td>-0.33325171</td></tr>\n",
       "\t<tr><th scope=row>5</th><td>supramolecular fiber organization</td><td>GO:0007015;GO:0097435</td><td>2</td><td>LOC111113355</td><td>-0.28047982</td></tr>\n",
       "\t<tr><th scope=row>6</th><td>supramolecular fiber organization</td><td>GO:0007015;GO:0097435</td><td>2</td><td>LOC111115662</td><td>-0.31195976</td></tr>\n",
       "</tbody>\n",
       "</table>\n"
      ],
      "text/latex": [
       "A data.frame: 6 × 5\n",
       "\\begin{tabular}{r|lllll}\n",
       "  & name & term & lev & gene\\_id & value\\\\\n",
       "  & <chr> & <chr> & <int> & <chr> & <dbl>\\\\\n",
       "\\hline\n",
       "\t1 & supramolecular fiber organization & GO:0007015;GO:0097435 & 2 & LOC111101101 & -0.38722520\\\\\n",
       "\t2 & supramolecular fiber organization & GO:0007015;GO:0097435 & 2 & LOC111108074 &  0.08059783\\\\\n",
       "\t3 & supramolecular fiber organization & GO:0007015;GO:0097435 & 2 & LOC111109780 & -1.04879576\\\\\n",
       "\t4 & supramolecular fiber organization & GO:0007015;GO:0097435 & 2 & LOC111113129 & -0.33325171\\\\\n",
       "\t5 & supramolecular fiber organization & GO:0007015;GO:0097435 & 2 & LOC111113355 & -0.28047982\\\\\n",
       "\t6 & supramolecular fiber organization & GO:0007015;GO:0097435 & 2 & LOC111115662 & -0.31195976\\\\\n",
       "\\end{tabular}\n"
      ],
      "text/markdown": [
       "\n",
       "A data.frame: 6 × 5\n",
       "\n",
       "| <!--/--> | name &lt;chr&gt; | term &lt;chr&gt; | lev &lt;int&gt; | gene_id &lt;chr&gt; | value &lt;dbl&gt; |\n",
       "|---|---|---|---|---|---|\n",
       "| 1 | supramolecular fiber organization | GO:0007015;GO:0097435 | 2 | LOC111101101 | -0.38722520 |\n",
       "| 2 | supramolecular fiber organization | GO:0007015;GO:0097435 | 2 | LOC111108074 |  0.08059783 |\n",
       "| 3 | supramolecular fiber organization | GO:0007015;GO:0097435 | 2 | LOC111109780 | -1.04879576 |\n",
       "| 4 | supramolecular fiber organization | GO:0007015;GO:0097435 | 2 | LOC111113129 | -0.33325171 |\n",
       "| 5 | supramolecular fiber organization | GO:0007015;GO:0097435 | 2 | LOC111113355 | -0.28047982 |\n",
       "| 6 | supramolecular fiber organization | GO:0007015;GO:0097435 | 2 | LOC111115662 | -0.31195976 |\n",
       "\n"
      ],
      "text/plain": [
       "  name                              term                  lev gene_id     \n",
       "1 supramolecular fiber organization GO:0007015;GO:0097435 2   LOC111101101\n",
       "2 supramolecular fiber organization GO:0007015;GO:0097435 2   LOC111108074\n",
       "3 supramolecular fiber organization GO:0007015;GO:0097435 2   LOC111109780\n",
       "4 supramolecular fiber organization GO:0007015;GO:0097435 2   LOC111113129\n",
       "5 supramolecular fiber organization GO:0007015;GO:0097435 2   LOC111113355\n",
       "6 supramolecular fiber organization GO:0007015;GO:0097435 2   LOC111115662\n",
       "  value      \n",
       "1 -0.38722520\n",
       "2  0.08059783\n",
       "3 -1.04879576\n",
       "4 -0.33325171\n",
       "5 -0.28047982\n",
       "6 -0.31195976"
      ]
     },
     "metadata": {},
     "output_type": "display_data"
    }
   ],
   "source": [
    "goMWU_ch <- read.csv('/project/pi_sarah_gignouxwolfsohn_uml_edu/julia/CE_MethylRAD_analysis_2018/analysis/DMGs_analysis/go_mwu/BP_allGenes_CH_lfc.csv', sep = '\\t')\n",
    "\n",
    "# change column name for gene to be the same in gene2GOslim\n",
    "colnames(goMWU_ch) <- c('name', 'term', 'lev', 'gene_id', 'value')\n",
    "\n",
    "head(goMWU_ch)"
   ]
  },
  {
   "cell_type": "code",
   "execution_count": 94,
   "id": "92544eea-fedb-412f-924f-be8855a2c14d",
   "metadata": {},
   "outputs": [
    {
     "data": {
      "text/html": [
       "<table class=\"dataframe\">\n",
       "<caption>A data.frame: 6 × 8</caption>\n",
       "<thead>\n",
       "\t<tr><th></th><th scope=col>gene_id</th><th scope=col>name</th><th scope=col>term</th><th scope=col>lev</th><th scope=col>value</th><th scope=col>GO.IDs</th><th scope=col>GOslim</th><th scope=col>Term</th></tr>\n",
       "\t<tr><th></th><th scope=col>&lt;chr&gt;</th><th scope=col>&lt;chr&gt;</th><th scope=col>&lt;chr&gt;</th><th scope=col>&lt;int&gt;</th><th scope=col>&lt;dbl&gt;</th><th scope=col>&lt;chr&gt;</th><th scope=col>&lt;chr&gt;</th><th scope=col>&lt;chr&gt;</th></tr>\n",
       "</thead>\n",
       "<tbody>\n",
       "\t<tr><th scope=row>1</th><td>LOC111099047</td><td>anion transport                               </td><td>GO:0071705;GO:0071702;GO:0006820                                 </td><td>2</td><td>-0.6811806</td><td>GO:0003333</td><td>GO:0055085           </td><td>transmembrane transport                                    </td></tr>\n",
       "\t<tr><th scope=row>2</th><td>LOC111099047</td><td>carboxylic acid transmembrane transport       </td><td>GO:0003333;GO:0006865;GO:1905039;GO:0015849;GO:1903825;GO:0098656</td><td>4</td><td>-0.6811806</td><td>GO:0003333</td><td>GO:0055085           </td><td>transmembrane transport                                    </td></tr>\n",
       "\t<tr><th scope=row>3</th><td>LOC111099047</td><td>localization                                  </td><td>GO:0006810;GO:0051234;GO:0006811;GO:0051179                      </td><td>2</td><td>-0.6811806</td><td>GO:0003333</td><td>GO:0055085           </td><td>transmembrane transport                                    </td></tr>\n",
       "\t<tr><th scope=row>4</th><td>LOC111099047</td><td>transmembrane transport                       </td><td>GO:0034220;GO:0055085                                            </td><td>4</td><td>-0.6811806</td><td>GO:0003333</td><td>GO:0055085           </td><td>transmembrane transport                                    </td></tr>\n",
       "\t<tr><th scope=row>5</th><td>LOC111099053</td><td>formation of translation preinitiation complex</td><td>GO:0001731                                                       </td><td>2</td><td> 0.9973747</td><td>GO:0001731</td><td>GO:0002181;GO:0065003</td><td>cytoplasmic translation;protein-containing complex assembly</td></tr>\n",
       "\t<tr><th scope=row>6</th><td>LOC111099053</td><td>formation of translation preinitiation complex</td><td>GO:0001731                                                       </td><td>2</td><td> 0.9973747</td><td>GO:0001732</td><td>GO:0002181;GO:0065003</td><td>cytoplasmic translation;protein-containing complex assembly</td></tr>\n",
       "</tbody>\n",
       "</table>\n"
      ],
      "text/latex": [
       "A data.frame: 6 × 8\n",
       "\\begin{tabular}{r|llllllll}\n",
       "  & gene\\_id & name & term & lev & value & GO.IDs & GOslim & Term\\\\\n",
       "  & <chr> & <chr> & <chr> & <int> & <dbl> & <chr> & <chr> & <chr>\\\\\n",
       "\\hline\n",
       "\t1 & LOC111099047 & anion transport                                & GO:0071705;GO:0071702;GO:0006820                                  & 2 & -0.6811806 & GO:0003333 & GO:0055085            & transmembrane transport                                    \\\\\n",
       "\t2 & LOC111099047 & carboxylic acid transmembrane transport        & GO:0003333;GO:0006865;GO:1905039;GO:0015849;GO:1903825;GO:0098656 & 4 & -0.6811806 & GO:0003333 & GO:0055085            & transmembrane transport                                    \\\\\n",
       "\t3 & LOC111099047 & localization                                   & GO:0006810;GO:0051234;GO:0006811;GO:0051179                       & 2 & -0.6811806 & GO:0003333 & GO:0055085            & transmembrane transport                                    \\\\\n",
       "\t4 & LOC111099047 & transmembrane transport                        & GO:0034220;GO:0055085                                             & 4 & -0.6811806 & GO:0003333 & GO:0055085            & transmembrane transport                                    \\\\\n",
       "\t5 & LOC111099053 & formation of translation preinitiation complex & GO:0001731                                                        & 2 &  0.9973747 & GO:0001731 & GO:0002181;GO:0065003 & cytoplasmic translation;protein-containing complex assembly\\\\\n",
       "\t6 & LOC111099053 & formation of translation preinitiation complex & GO:0001731                                                        & 2 &  0.9973747 & GO:0001732 & GO:0002181;GO:0065003 & cytoplasmic translation;protein-containing complex assembly\\\\\n",
       "\\end{tabular}\n"
      ],
      "text/markdown": [
       "\n",
       "A data.frame: 6 × 8\n",
       "\n",
       "| <!--/--> | gene_id &lt;chr&gt; | name &lt;chr&gt; | term &lt;chr&gt; | lev &lt;int&gt; | value &lt;dbl&gt; | GO.IDs &lt;chr&gt; | GOslim &lt;chr&gt; | Term &lt;chr&gt; |\n",
       "|---|---|---|---|---|---|---|---|---|\n",
       "| 1 | LOC111099047 | anion transport                                | GO:0071705;GO:0071702;GO:0006820                                  | 2 | -0.6811806 | GO:0003333 | GO:0055085            | transmembrane transport                                     |\n",
       "| 2 | LOC111099047 | carboxylic acid transmembrane transport        | GO:0003333;GO:0006865;GO:1905039;GO:0015849;GO:1903825;GO:0098656 | 4 | -0.6811806 | GO:0003333 | GO:0055085            | transmembrane transport                                     |\n",
       "| 3 | LOC111099047 | localization                                   | GO:0006810;GO:0051234;GO:0006811;GO:0051179                       | 2 | -0.6811806 | GO:0003333 | GO:0055085            | transmembrane transport                                     |\n",
       "| 4 | LOC111099047 | transmembrane transport                        | GO:0034220;GO:0055085                                             | 4 | -0.6811806 | GO:0003333 | GO:0055085            | transmembrane transport                                     |\n",
       "| 5 | LOC111099053 | formation of translation preinitiation complex | GO:0001731                                                        | 2 |  0.9973747 | GO:0001731 | GO:0002181;GO:0065003 | cytoplasmic translation;protein-containing complex assembly |\n",
       "| 6 | LOC111099053 | formation of translation preinitiation complex | GO:0001731                                                        | 2 |  0.9973747 | GO:0001732 | GO:0002181;GO:0065003 | cytoplasmic translation;protein-containing complex assembly |\n",
       "\n"
      ],
      "text/plain": [
       "  gene_id      name                                          \n",
       "1 LOC111099047 anion transport                               \n",
       "2 LOC111099047 carboxylic acid transmembrane transport       \n",
       "3 LOC111099047 localization                                  \n",
       "4 LOC111099047 transmembrane transport                       \n",
       "5 LOC111099053 formation of translation preinitiation complex\n",
       "6 LOC111099053 formation of translation preinitiation complex\n",
       "  term                                                              lev\n",
       "1 GO:0071705;GO:0071702;GO:0006820                                  2  \n",
       "2 GO:0003333;GO:0006865;GO:1905039;GO:0015849;GO:1903825;GO:0098656 4  \n",
       "3 GO:0006810;GO:0051234;GO:0006811;GO:0051179                       2  \n",
       "4 GO:0034220;GO:0055085                                             4  \n",
       "5 GO:0001731                                                        2  \n",
       "6 GO:0001731                                                        2  \n",
       "  value      GO.IDs     GOslim               \n",
       "1 -0.6811806 GO:0003333 GO:0055085           \n",
       "2 -0.6811806 GO:0003333 GO:0055085           \n",
       "3 -0.6811806 GO:0003333 GO:0055085           \n",
       "4 -0.6811806 GO:0003333 GO:0055085           \n",
       "5  0.9973747 GO:0001731 GO:0002181;GO:0065003\n",
       "6  0.9973747 GO:0001732 GO:0002181;GO:0065003\n",
       "  Term                                                       \n",
       "1 transmembrane transport                                    \n",
       "2 transmembrane transport                                    \n",
       "3 transmembrane transport                                    \n",
       "4 transmembrane transport                                    \n",
       "5 cytoplasmic translation;protein-containing complex assembly\n",
       "6 cytoplasmic translation;protein-containing complex assembly"
      ]
     },
     "metadata": {},
     "output_type": "display_data"
    },
    {
     "data": {
      "text/html": [
       "10818"
      ],
      "text/latex": [
       "10818"
      ],
      "text/markdown": [
       "10818"
      ],
      "text/plain": [
       "[1] 10818"
      ]
     },
     "metadata": {},
     "output_type": "display_data"
    }
   ],
   "source": [
    "parentGOBPGOslim <- unique(merge(x = goMWU_ch, y = gene2GOslim, by = \"gene_id\", all.x = TRUE)) #Merge GO-MWU with GOslim information, retaining all GO-MWU entries. Remove any merging artifacts\n",
    "head(parentGOBPGOslim) #Confirm merge\n",
    "length(parentGOBPGOslim$GOslim) #Count number of entries"
   ]
  },
  {
   "cell_type": "code",
   "execution_count": 95,
   "id": "fba488ef-de98-46ce-86e1-78cb06af5451",
   "metadata": {},
   "outputs": [
    {
     "data": {
      "text/html": [
       "830"
      ],
      "text/latex": [
       "830"
      ],
      "text/markdown": [
       "830"
      ],
      "text/plain": [
       "[1] 830"
      ]
     },
     "metadata": {},
     "output_type": "display_data"
    }
   ],
   "source": [
    "sum(is.na(parentGOBPGOslim$GOslim)) #Count how many entries do not have GOslim terms. 830/10818 GO-MWU entries do not have GOslim entries."
   ]
  },
  {
   "cell_type": "markdown",
   "id": "8d4c7442-eb5a-45a8-98ef-479f351ab064",
   "metadata": {},
   "source": [
    "***NEED TO CHECK CODE BELOW*** - copied from paper-gonad-meth but need to check that it works for this "
   ]
  },
  {
   "cell_type": "code",
   "execution_count": 100,
   "id": "8f75b9be-f54e-452a-8c9c-b0ac72bb9c42",
   "metadata": {},
   "outputs": [
    {
     "data": {
      "text/html": [
       "<table class=\"dataframe\">\n",
       "<caption>A data.frame: 6 × 2</caption>\n",
       "<thead>\n",
       "\t<tr><th></th><th scope=col>GOslim</th><th scope=col>frequency</th></tr>\n",
       "\t<tr><th></th><th scope=col>&lt;fct&gt;</th><th scope=col>&lt;int&gt;</th></tr>\n",
       "</thead>\n",
       "<tbody>\n",
       "\t<tr><th scope=row>1</th><td>GO:0000278                      </td><td>194</td></tr>\n",
       "\t<tr><th scope=row>2</th><td>GO:0000278;GO:0000910           </td><td> 36</td></tr>\n",
       "\t<tr><th scope=row>3</th><td>GO:0000278;GO:0006260           </td><td> 25</td></tr>\n",
       "\t<tr><th scope=row>4</th><td>GO:0000278;GO:0006260;GO:0065003</td><td>  5</td></tr>\n",
       "\t<tr><th scope=row>5</th><td>GO:0000278;GO:0006351;GO:0006355</td><td> 30</td></tr>\n",
       "\t<tr><th scope=row>6</th><td>GO:0000278;GO:0007010           </td><td>  9</td></tr>\n",
       "</tbody>\n",
       "</table>\n"
      ],
      "text/latex": [
       "A data.frame: 6 × 2\n",
       "\\begin{tabular}{r|ll}\n",
       "  & GOslim & frequency\\\\\n",
       "  & <fct> & <int>\\\\\n",
       "\\hline\n",
       "\t1 & GO:0000278                       & 194\\\\\n",
       "\t2 & GO:0000278;GO:0000910            &  36\\\\\n",
       "\t3 & GO:0000278;GO:0006260            &  25\\\\\n",
       "\t4 & GO:0000278;GO:0006260;GO:0065003 &   5\\\\\n",
       "\t5 & GO:0000278;GO:0006351;GO:0006355 &  30\\\\\n",
       "\t6 & GO:0000278;GO:0007010            &   9\\\\\n",
       "\\end{tabular}\n"
      ],
      "text/markdown": [
       "\n",
       "A data.frame: 6 × 2\n",
       "\n",
       "| <!--/--> | GOslim &lt;fct&gt; | frequency &lt;int&gt; |\n",
       "|---|---|---|\n",
       "| 1 | GO:0000278                       | 194 |\n",
       "| 2 | GO:0000278;GO:0000910            |  36 |\n",
       "| 3 | GO:0000278;GO:0006260            |  25 |\n",
       "| 4 | GO:0000278;GO:0006260;GO:0065003 |   5 |\n",
       "| 5 | GO:0000278;GO:0006351;GO:0006355 |  30 |\n",
       "| 6 | GO:0000278;GO:0007010            |   9 |\n",
       "\n"
      ],
      "text/plain": [
       "  GOslim                           frequency\n",
       "1 GO:0000278                       194      \n",
       "2 GO:0000278;GO:0000910             36      \n",
       "3 GO:0000278;GO:0006260             25      \n",
       "4 GO:0000278;GO:0006260;GO:0065003   5      \n",
       "5 GO:0000278;GO:0006351;GO:0006355  30      \n",
       "6 GO:0000278;GO:0007010              9      "
      ]
     },
     "metadata": {},
     "output_type": "display_data"
    }
   ],
   "source": [
    "parentGOBPGOslimCounts <- as.data.frame(table(parentGOBPGOslim$GOslim)) #Count the frequency of each GOslim term\n",
    "colnames(parentGOBPGOslimCounts) <- c(\"GOslim\", \"frequency\") #Rename columns\n",
    "head(parentGOBPGOslimCounts) #Confirm counts"
   ]
  },
  {
   "cell_type": "code",
   "execution_count": 101,
   "id": "36e63123-5920-4464-80a2-9676cd3c2522",
   "metadata": {},
   "outputs": [
    {
     "data": {
      "text/html": [
       "<table class=\"dataframe\">\n",
       "<caption>A data.frame: 6 × 3</caption>\n",
       "<thead>\n",
       "\t<tr><th></th><th scope=col>GOslim</th><th scope=col>frequency</th><th scope=col>percentage</th></tr>\n",
       "\t<tr><th></th><th scope=col>&lt;fct&gt;</th><th scope=col>&lt;int&gt;</th><th scope=col>&lt;dbl&gt;</th></tr>\n",
       "</thead>\n",
       "<tbody>\n",
       "\t<tr><th scope=row>1</th><td>GO:0000278                      </td><td>194</td><td>1.94233080</td></tr>\n",
       "\t<tr><th scope=row>2</th><td>GO:0000278;GO:0000910           </td><td> 36</td><td>0.36043252</td></tr>\n",
       "\t<tr><th scope=row>3</th><td>GO:0000278;GO:0006260           </td><td> 25</td><td>0.25030036</td></tr>\n",
       "\t<tr><th scope=row>4</th><td>GO:0000278;GO:0006260;GO:0065003</td><td>  5</td><td>0.05006007</td></tr>\n",
       "\t<tr><th scope=row>5</th><td>GO:0000278;GO:0006351;GO:0006355</td><td> 30</td><td>0.30036043</td></tr>\n",
       "\t<tr><th scope=row>6</th><td>GO:0000278;GO:0007010           </td><td>  9</td><td>0.09010813</td></tr>\n",
       "</tbody>\n",
       "</table>\n"
      ],
      "text/latex": [
       "A data.frame: 6 × 3\n",
       "\\begin{tabular}{r|lll}\n",
       "  & GOslim & frequency & percentage\\\\\n",
       "  & <fct> & <int> & <dbl>\\\\\n",
       "\\hline\n",
       "\t1 & GO:0000278                       & 194 & 1.94233080\\\\\n",
       "\t2 & GO:0000278;GO:0000910            &  36 & 0.36043252\\\\\n",
       "\t3 & GO:0000278;GO:0006260            &  25 & 0.25030036\\\\\n",
       "\t4 & GO:0000278;GO:0006260;GO:0065003 &   5 & 0.05006007\\\\\n",
       "\t5 & GO:0000278;GO:0006351;GO:0006355 &  30 & 0.30036043\\\\\n",
       "\t6 & GO:0000278;GO:0007010            &   9 & 0.09010813\\\\\n",
       "\\end{tabular}\n"
      ],
      "text/markdown": [
       "\n",
       "A data.frame: 6 × 3\n",
       "\n",
       "| <!--/--> | GOslim &lt;fct&gt; | frequency &lt;int&gt; | percentage &lt;dbl&gt; |\n",
       "|---|---|---|---|\n",
       "| 1 | GO:0000278                       | 194 | 1.94233080 |\n",
       "| 2 | GO:0000278;GO:0000910            |  36 | 0.36043252 |\n",
       "| 3 | GO:0000278;GO:0006260            |  25 | 0.25030036 |\n",
       "| 4 | GO:0000278;GO:0006260;GO:0065003 |   5 | 0.05006007 |\n",
       "| 5 | GO:0000278;GO:0006351;GO:0006355 |  30 | 0.30036043 |\n",
       "| 6 | GO:0000278;GO:0007010            |   9 | 0.09010813 |\n",
       "\n"
      ],
      "text/plain": [
       "  GOslim                           frequency percentage\n",
       "1 GO:0000278                       194       1.94233080\n",
       "2 GO:0000278;GO:0000910             36       0.36043252\n",
       "3 GO:0000278;GO:0006260             25       0.25030036\n",
       "4 GO:0000278;GO:0006260;GO:0065003   5       0.05006007\n",
       "5 GO:0000278;GO:0006351;GO:0006355  30       0.30036043\n",
       "6 GO:0000278;GO:0007010              9       0.09010813"
      ]
     },
     "metadata": {},
     "output_type": "display_data"
    },
    {
     "data": {
      "text/html": [
       "9.11093311974369"
      ],
      "text/latex": [
       "9.11093311974369"
      ],
      "text/markdown": [
       "9.11093311974369"
      ],
      "text/plain": [
       "[1] 9.110933"
      ]
     },
     "metadata": {},
     "output_type": "display_data"
    }
   ],
   "source": [
    "parentGOBPGOslimCounts$percentage <- (parentGOBPGOslimCounts$frequency/sum(parentGOBPGOslimCounts$frequency)*100) #Create a new column with percentages of GOSlim terms instead of raw counts\n",
    "head(parentGOBPGOslimCounts) #Confirm column creation\n",
    "max(parentGOBPGOslimCounts$percentage)"
   ]
  },
  {
   "cell_type": "code",
   "execution_count": 98,
   "id": "14505038-98d4-4140-84fb-e237f6c1517c",
   "metadata": {},
   "outputs": [
    {
     "data": {
      "text/html": [
       "<table class=\"dataframe\">\n",
       "<caption>A data.frame: 6 × 3</caption>\n",
       "<thead>\n",
       "\t<tr><th></th><th scope=col>CVGOslim</th><th scope=col>frequency</th><th scope=col>percentage</th></tr>\n",
       "\t<tr><th></th><th scope=col>&lt;fct&gt;</th><th scope=col>&lt;int&gt;</th><th scope=col>&lt;dbl&gt;</th></tr>\n",
       "</thead>\n",
       "<tbody>\n",
       "\t<tr><th scope=row>4</th><td>GO:0000278;GO:0006260;GO:0065003</td><td>  5</td><td>0.05006007</td></tr>\n",
       "\t<tr><th scope=row>1</th><td>GO:0000278                      </td><td>194</td><td>1.94233080</td></tr>\n",
       "\t<tr><th scope=row>5</th><td>GO:0000278;GO:0006351;GO:0006355</td><td> 30</td><td>0.30036043</td></tr>\n",
       "\t<tr><th scope=row>11</th><td>GO:0000278;GO:0023052           </td><td> 71</td><td>0.71085302</td></tr>\n",
       "\t<tr><th scope=row>13</th><td>GO:0000910                      </td><td> 11</td><td>0.11013216</td></tr>\n",
       "\t<tr><th scope=row>2</th><td>GO:0000278;GO:0000910           </td><td> 36</td><td>0.36043252</td></tr>\n",
       "</tbody>\n",
       "</table>\n"
      ],
      "text/latex": [
       "A data.frame: 6 × 3\n",
       "\\begin{tabular}{r|lll}\n",
       "  & CVGOslim & frequency & percentage\\\\\n",
       "  & <fct> & <int> & <dbl>\\\\\n",
       "\\hline\n",
       "\t4 & GO:0000278;GO:0006260;GO:0065003 &   5 & 0.05006007\\\\\n",
       "\t1 & GO:0000278                       & 194 & 1.94233080\\\\\n",
       "\t5 & GO:0000278;GO:0006351;GO:0006355 &  30 & 0.30036043\\\\\n",
       "\t11 & GO:0000278;GO:0023052            &  71 & 0.71085302\\\\\n",
       "\t13 & GO:0000910                       &  11 & 0.11013216\\\\\n",
       "\t2 & GO:0000278;GO:0000910            &  36 & 0.36043252\\\\\n",
       "\\end{tabular}\n"
      ],
      "text/markdown": [
       "\n",
       "A data.frame: 6 × 3\n",
       "\n",
       "| <!--/--> | CVGOslim &lt;fct&gt; | frequency &lt;int&gt; | percentage &lt;dbl&gt; |\n",
       "|---|---|---|---|\n",
       "| 4 | GO:0000278;GO:0006260;GO:0065003 |   5 | 0.05006007 |\n",
       "| 1 | GO:0000278                       | 194 | 1.94233080 |\n",
       "| 5 | GO:0000278;GO:0006351;GO:0006355 |  30 | 0.30036043 |\n",
       "| 11 | GO:0000278;GO:0023052            |  71 | 0.71085302 |\n",
       "| 13 | GO:0000910                       |  11 | 0.11013216 |\n",
       "| 2 | GO:0000278;GO:0000910            |  36 | 0.36043252 |\n",
       "\n"
      ],
      "text/plain": [
       "   CVGOslim                         frequency percentage\n",
       "4  GO:0000278;GO:0006260;GO:0065003   5       0.05006007\n",
       "1  GO:0000278                       194       1.94233080\n",
       "5  GO:0000278;GO:0006351;GO:0006355  30       0.30036043\n",
       "11 GO:0000278;GO:0023052             71       0.71085302\n",
       "13 GO:0000910                        11       0.11013216\n",
       "2  GO:0000278;GO:0000910             36       0.36043252"
      ]
     },
     "metadata": {},
     "output_type": "display_data"
    }
   ],
   "source": [
    "parentGOBPGOslimCounts <- parentGOBPGOslimCounts[c(4, 1, 5, 11, 13,\n",
    "                                                         2, 6, 3,\n",
    "                                                         12,\n",
    "                                                         7, 10, 9, 8),] #Reorganize rows based on broader functions. Rows are general activity, development, stress response, and metabolic processes\n",
    "head(parentGOBPGOslimCounts) #Confirm organization"
   ]
  },
  {
   "cell_type": "code",
   "execution_count": 99,
   "id": "860ede5b-78a2-4e6d-a7c1-afd448ccd393",
   "metadata": {},
   "outputs": [
    {
     "data": {
      "text/html": [
       "<table class=\"dataframe\">\n",
       "<caption>A data.frame: 6 × 4</caption>\n",
       "<thead>\n",
       "\t<tr><th></th><th scope=col>CVGOslim</th><th scope=col>frequency</th><th scope=col>percentage</th><th scope=col>GOSlim</th></tr>\n",
       "\t<tr><th></th><th scope=col>&lt;fct&gt;</th><th scope=col>&lt;int&gt;</th><th scope=col>&lt;dbl&gt;</th><th scope=col>&lt;chr&gt;</th></tr>\n",
       "</thead>\n",
       "<tbody>\n",
       "\t<tr><th scope=row>4</th><td>GO:0000278;GO:0006260;GO:0065003</td><td>  5</td><td>0.05006007</td><td>Cell-Cell Signaling         </td></tr>\n",
       "\t<tr><th scope=row>1</th><td>GO:0000278                      </td><td>194</td><td>1.94233080</td><td>Cell Adhesion               </td></tr>\n",
       "\t<tr><th scope=row>5</th><td>GO:0000278;GO:0006351;GO:0006355</td><td> 30</td><td>0.30036043</td><td>Death                       </td></tr>\n",
       "\t<tr><th scope=row>11</th><td>GO:0000278;GO:0023052           </td><td> 71</td><td>0.71085302</td><td>Signal Transduction         </td></tr>\n",
       "\t<tr><th scope=row>13</th><td>GO:0000910                      </td><td> 11</td><td>0.11013216</td><td>Transport                   </td></tr>\n",
       "\t<tr><th scope=row>2</th><td>GO:0000278;GO:0000910           </td><td> 36</td><td>0.36043252</td><td>Cell Cycle and Proliferation</td></tr>\n",
       "</tbody>\n",
       "</table>\n"
      ],
      "text/latex": [
       "A data.frame: 6 × 4\n",
       "\\begin{tabular}{r|llll}\n",
       "  & CVGOslim & frequency & percentage & GOSlim\\\\\n",
       "  & <fct> & <int> & <dbl> & <chr>\\\\\n",
       "\\hline\n",
       "\t4 & GO:0000278;GO:0006260;GO:0065003 &   5 & 0.05006007 & Cell-Cell Signaling         \\\\\n",
       "\t1 & GO:0000278                       & 194 & 1.94233080 & Cell Adhesion               \\\\\n",
       "\t5 & GO:0000278;GO:0006351;GO:0006355 &  30 & 0.30036043 & Death                       \\\\\n",
       "\t11 & GO:0000278;GO:0023052            &  71 & 0.71085302 & Signal Transduction         \\\\\n",
       "\t13 & GO:0000910                       &  11 & 0.11013216 & Transport                   \\\\\n",
       "\t2 & GO:0000278;GO:0000910            &  36 & 0.36043252 & Cell Cycle and Proliferation\\\\\n",
       "\\end{tabular}\n"
      ],
      "text/markdown": [
       "\n",
       "A data.frame: 6 × 4\n",
       "\n",
       "| <!--/--> | CVGOslim &lt;fct&gt; | frequency &lt;int&gt; | percentage &lt;dbl&gt; | GOSlim &lt;chr&gt; |\n",
       "|---|---|---|---|---|\n",
       "| 4 | GO:0000278;GO:0006260;GO:0065003 |   5 | 0.05006007 | Cell-Cell Signaling          |\n",
       "| 1 | GO:0000278                       | 194 | 1.94233080 | Cell Adhesion                |\n",
       "| 5 | GO:0000278;GO:0006351;GO:0006355 |  30 | 0.30036043 | Death                        |\n",
       "| 11 | GO:0000278;GO:0023052            |  71 | 0.71085302 | Signal Transduction          |\n",
       "| 13 | GO:0000910                       |  11 | 0.11013216 | Transport                    |\n",
       "| 2 | GO:0000278;GO:0000910            |  36 | 0.36043252 | Cell Cycle and Proliferation |\n",
       "\n"
      ],
      "text/plain": [
       "   CVGOslim                         frequency percentage\n",
       "4  GO:0000278;GO:0006260;GO:0065003   5       0.05006007\n",
       "1  GO:0000278                       194       1.94233080\n",
       "5  GO:0000278;GO:0006351;GO:0006355  30       0.30036043\n",
       "11 GO:0000278;GO:0023052             71       0.71085302\n",
       "13 GO:0000910                        11       0.11013216\n",
       "2  GO:0000278;GO:0000910             36       0.36043252\n",
       "   GOSlim                      \n",
       "4  Cell-Cell Signaling         \n",
       "1  Cell Adhesion               \n",
       "5  Death                       \n",
       "11 Signal Transduction         \n",
       "13 Transport                   \n",
       "2  Cell Cycle and Proliferation"
      ]
     },
     "metadata": {},
     "output_type": "display_data"
    }
   ],
   "source": [
    "parentGOBPGOslimCounts$GOSlim <- c(\"Cell-Cell Signaling\", \"Cell Adhesion\", \"Death\", \"Signal Transduction\", \"Transport\",\n",
    "                                   \"Cell Cycle and Proliferation\", \"Developmental Processes\", \"Cell Organization and Biogenesis\",\n",
    "                                   \"Stress Response\",\n",
    "                                   \"DNA Metabolism\", \"RNA Metabolism\", \"Protein Metabolism\", \"Other Metabolic Processes\") #Capitalize labels\n",
    "head(parentGOBPGOslimCounts) #Confirm capitalization"
   ]
  }
 ],
 "metadata": {
  "kernelspec": {
   "display_name": "R [conda env:.conda-r-env]",
   "language": "R",
   "name": "conda-env-.conda-r-env-r"
  },
  "language_info": {
   "codemirror_mode": "r",
   "file_extension": ".r",
   "mimetype": "text/x-r-source",
   "name": "R",
   "pygments_lexer": "r",
   "version": "4.3.2"
  }
 },
 "nbformat": 4,
 "nbformat_minor": 5
}
