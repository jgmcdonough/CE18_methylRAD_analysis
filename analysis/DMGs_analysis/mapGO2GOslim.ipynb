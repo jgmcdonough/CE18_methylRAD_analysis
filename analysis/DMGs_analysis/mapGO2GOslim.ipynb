{
 "cells": [
  {
   "cell_type": "markdown",
   "id": "8794aeae-b532-40b8-bd70-5c51fe256cb5",
   "metadata": {},
   "source": [
    "# Mapping GO IDs to GO Slim Terms\n",
    "\n",
    "This code utilizes pipelines from the [paper-gonad-meth repo](https://github.com/epigeneticstoocean/paper-gonad-meth/tree/master) and [bioinformatics pipeline](https://robertslab.github.io/resources/bio-Annotation/#map-go-ids-to-goslims), both out of the Roberts Lab."
   ]
  },
  {
   "cell_type": "code",
   "execution_count": 2,
   "id": "7a5eb15c-4ddf-42c9-8af9-ebe61261a4d0",
   "metadata": {},
   "outputs": [],
   "source": [
    "# loading packages\n",
    "library(tidyverse)\n",
    "library(dplyr)\n",
    "library(GSEABase)\n",
    "library(GO.db)"
   ]
  },
  {
   "cell_type": "markdown",
   "id": "632be731-9f81-4d80-b75f-ad8cccbe5b37",
   "metadata": {},
   "source": [
    "input file includes column of gene ID and column of Gene Ontology (GO) ID, separated by semi-colon\n",
    "\n",
    "Gene Onology file for *Crassostrea virginica* obtained from [NCBI](https://ftp.ncbi.nlm.nih.gov/genomes/all/GCF/002/022/765/GCF_002022765.2_C_virginica-3.0/)"
   ]
  },
  {
   "cell_type": "code",
   "execution_count": 26,
   "id": "fadcb137-7003-4ae7-bc65-ed5c89774132",
   "metadata": {},
   "outputs": [
    {
     "data": {
      "text/html": [
       "<table class=\"dataframe\">\n",
       "<caption>A data.frame: 6 × 2</caption>\n",
       "<thead>\n",
       "\t<tr><th></th><th scope=col>gene_id</th><th scope=col>Gene.Ontology.IDs</th></tr>\n",
       "\t<tr><th></th><th scope=col>&lt;chr&gt;</th><th scope=col>&lt;chr&gt;</th></tr>\n",
       "</thead>\n",
       "<tbody>\n",
       "\t<tr><th scope=row>1</th><td>LOC111099029</td><td>GO:0005261; GO:0098655            </td></tr>\n",
       "\t<tr><th scope=row>2</th><td>LOC111099032</td><td>GO:0004930; GO:0005886; GO:0007186</td></tr>\n",
       "\t<tr><th scope=row>3</th><td>LOC111099033</td><td>GO:0016020; GO:0022857; GO:0055085</td></tr>\n",
       "\t<tr><th scope=row>4</th><td>LOC111099034</td><td>GO:0005515                        </td></tr>\n",
       "\t<tr><th scope=row>5</th><td>LOC111099036</td><td>GO:0008028; GO:0015718; GO:0055085</td></tr>\n",
       "\t<tr><th scope=row>6</th><td>LOC111099039</td><td>GO:0004930; GO:0005886; GO:0007189</td></tr>\n",
       "</tbody>\n",
       "</table>\n"
      ],
      "text/latex": [
       "A data.frame: 6 × 2\n",
       "\\begin{tabular}{r|ll}\n",
       "  & gene\\_id & Gene.Ontology.IDs\\\\\n",
       "  & <chr> & <chr>\\\\\n",
       "\\hline\n",
       "\t1 & LOC111099029 & GO:0005261; GO:0098655            \\\\\n",
       "\t2 & LOC111099032 & GO:0004930; GO:0005886; GO:0007186\\\\\n",
       "\t3 & LOC111099033 & GO:0016020; GO:0022857; GO:0055085\\\\\n",
       "\t4 & LOC111099034 & GO:0005515                        \\\\\n",
       "\t5 & LOC111099036 & GO:0008028; GO:0015718; GO:0055085\\\\\n",
       "\t6 & LOC111099039 & GO:0004930; GO:0005886; GO:0007189\\\\\n",
       "\\end{tabular}\n"
      ],
      "text/markdown": [
       "\n",
       "A data.frame: 6 × 2\n",
       "\n",
       "| <!--/--> | gene_id &lt;chr&gt; | Gene.Ontology.IDs &lt;chr&gt; |\n",
       "|---|---|---|\n",
       "| 1 | LOC111099029 | GO:0005261; GO:0098655             |\n",
       "| 2 | LOC111099032 | GO:0004930; GO:0005886; GO:0007186 |\n",
       "| 3 | LOC111099033 | GO:0016020; GO:0022857; GO:0055085 |\n",
       "| 4 | LOC111099034 | GO:0005515                         |\n",
       "| 5 | LOC111099036 | GO:0008028; GO:0015718; GO:0055085 |\n",
       "| 6 | LOC111099039 | GO:0004930; GO:0005886; GO:0007189 |\n",
       "\n"
      ],
      "text/plain": [
       "  gene_id      Gene.Ontology.IDs                 \n",
       "1 LOC111099029 GO:0005261; GO:0098655            \n",
       "2 LOC111099032 GO:0004930; GO:0005886; GO:0007186\n",
       "3 LOC111099033 GO:0016020; GO:0022857; GO:0055085\n",
       "4 LOC111099034 GO:0005515                        \n",
       "5 LOC111099036 GO:0008028; GO:0015718; GO:0055085\n",
       "6 LOC111099039 GO:0004930; GO:0005886; GO:0007189"
      ]
     },
     "metadata": {},
     "output_type": "display_data"
    }
   ],
   "source": [
    "# Read the GAF file into R\n",
    "GOobo <- read.table('/project/pi_sarah_gignouxwolfsohn_uml_edu/Reference_genomes/Cvirginica_genome/GCF_002022765.2_C_virginica-3.0_gene_ontology.gaf', \n",
    "                          sep = \"\\t\", \n",
    "                          header = FALSE, \n",
    "                          comment.char = \"!\", \n",
    "                          stringsAsFactors = FALSE)\n",
    "\n",
    "# assign column names\n",
    "colnames(GOobo) <- c('DB', 'GeneID', 'gene_id', 'Qualifier', 'Gene.Ontology.IDs', 'Reference', 'Evidence_Code', 'With,From', 'Aspect', 'Gene_Name', 'Gene_Synonym', 'Type', 'Taxon', 'Date', 'Assigned_By')\n",
    "\n",
    "# selecting only the LOC number and GO ID columns\n",
    "gene2GO <- GOobo[,c(3,5)]\n",
    "\n",
    "# Aggregate GO IDs for each gene symbol\n",
    "gene2GO <- aggregate(Gene.Ontology.IDs ~ gene_id, data = gene2GO, function(x) paste(unique(x), collapse = \"; \"))\n",
    "\n",
    "# preview df\n",
    "head(gene2GO)\n"
   ]
  },
  {
   "cell_type": "code",
   "execution_count": 27,
   "id": "c88cfc64-bf34-4dc0-a20a-f42dc0040c16",
   "metadata": {},
   "outputs": [],
   "source": [
    "write.csv(gene2GO, '/project/pi_sarah_gignouxwolfsohn_uml_edu/julia/CE_MethylRAD_analysis_2018/analysis/DMGs_analysis/gene2GO.csv', row.names=FALSE)"
   ]
  },
  {
   "cell_type": "code",
   "execution_count": 30,
   "id": "e0653386-445c-4100-9d7e-8f7f2b48d4bc",
   "metadata": {},
   "outputs": [
    {
     "data": {
      "text/html": [
       "<table class=\"dataframe\">\n",
       "<caption>A data.frame: 6 × 2</caption>\n",
       "<thead>\n",
       "\t<tr><th></th><th scope=col>gene_id</th><th scope=col>Gene.Ontology.IDs</th></tr>\n",
       "\t<tr><th></th><th scope=col>&lt;chr&gt;</th><th scope=col>&lt;chr&gt;</th></tr>\n",
       "</thead>\n",
       "<tbody>\n",
       "\t<tr><th scope=row>1</th><td>LOC111099029</td><td>GO:0005261; GO:0098655            </td></tr>\n",
       "\t<tr><th scope=row>2</th><td>LOC111099032</td><td>GO:0004930; GO:0005886; GO:0007186</td></tr>\n",
       "\t<tr><th scope=row>3</th><td>LOC111099033</td><td>GO:0016020; GO:0022857; GO:0055085</td></tr>\n",
       "\t<tr><th scope=row>4</th><td>LOC111099034</td><td>GO:0005515                        </td></tr>\n",
       "\t<tr><th scope=row>5</th><td>LOC111099036</td><td>GO:0008028; GO:0015718; GO:0055085</td></tr>\n",
       "\t<tr><th scope=row>6</th><td>LOC111099039</td><td>GO:0004930; GO:0005886; GO:0007189</td></tr>\n",
       "</tbody>\n",
       "</table>\n"
      ],
      "text/latex": [
       "A data.frame: 6 × 2\n",
       "\\begin{tabular}{r|ll}\n",
       "  & gene\\_id & Gene.Ontology.IDs\\\\\n",
       "  & <chr> & <chr>\\\\\n",
       "\\hline\n",
       "\t1 & LOC111099029 & GO:0005261; GO:0098655            \\\\\n",
       "\t2 & LOC111099032 & GO:0004930; GO:0005886; GO:0007186\\\\\n",
       "\t3 & LOC111099033 & GO:0016020; GO:0022857; GO:0055085\\\\\n",
       "\t4 & LOC111099034 & GO:0005515                        \\\\\n",
       "\t5 & LOC111099036 & GO:0008028; GO:0015718; GO:0055085\\\\\n",
       "\t6 & LOC111099039 & GO:0004930; GO:0005886; GO:0007189\\\\\n",
       "\\end{tabular}\n"
      ],
      "text/markdown": [
       "\n",
       "A data.frame: 6 × 2\n",
       "\n",
       "| <!--/--> | gene_id &lt;chr&gt; | Gene.Ontology.IDs &lt;chr&gt; |\n",
       "|---|---|---|\n",
       "| 1 | LOC111099029 | GO:0005261; GO:0098655             |\n",
       "| 2 | LOC111099032 | GO:0004930; GO:0005886; GO:0007186 |\n",
       "| 3 | LOC111099033 | GO:0016020; GO:0022857; GO:0055085 |\n",
       "| 4 | LOC111099034 | GO:0005515                         |\n",
       "| 5 | LOC111099036 | GO:0008028; GO:0015718; GO:0055085 |\n",
       "| 6 | LOC111099039 | GO:0004930; GO:0005886; GO:0007189 |\n",
       "\n"
      ],
      "text/plain": [
       "  gene_id      Gene.Ontology.IDs                 \n",
       "1 LOC111099029 GO:0005261; GO:0098655            \n",
       "2 LOC111099032 GO:0004930; GO:0005886; GO:0007186\n",
       "3 LOC111099033 GO:0016020; GO:0022857; GO:0055085\n",
       "4 LOC111099034 GO:0005515                        \n",
       "5 LOC111099036 GO:0008028; GO:0015718; GO:0055085\n",
       "6 LOC111099039 GO:0004930; GO:0005886; GO:0007189"
      ]
     },
     "metadata": {},
     "output_type": "display_data"
    }
   ],
   "source": [
    "head(read.csv('/project/pi_sarah_gignouxwolfsohn_uml_edu/julia/CE_MethylRAD_analysis_2018/analysis/DMGs_analysis/gene2GO.csv'))"
   ]
  },
  {
   "cell_type": "markdown",
   "id": "b31870f3-8d5d-4640-bfd3-aaff9c2f5397",
   "metadata": {},
   "source": [
    "### [Roberts Lab Bioinformatic Annotation Pipeline](https://robertslab.github.io/resources/bio-Annotation/#map-go-ids-to-goslims)"
   ]
  },
  {
   "cell_type": "code",
   "execution_count": 3,
   "id": "ab47aee1-8ca9-4ad7-9cd9-47bd39272309",
   "metadata": {},
   "outputs": [],
   "source": [
    "# copied from workflow pipeline linked above\n",
    "\n",
    "# set variables\n",
    "\n",
    "# Column names corresponding to gene name/ID and GO IDs\n",
    "GO.ID.column <- \"Gene.Ontology.IDs\"\n",
    "gene.ID.column <- \"gene_id\"\n",
    "\n",
    "# Relative path or URL to input file\n",
    "input.file <- \"/project/pi_sarah_gignouxwolfsohn_uml_edu/julia/CE_MethylRAD_analysis_2018/analysis/DMGs_analysis/gene2GO.csv\"\n",
    "\n",
    "\n",
    "##### Official GO info - no need to change #####\n",
    "goslims_obo <- \"goslim_generic.obo\"\n",
    "goslims_url <- \"http://current.geneontology.org/ontology/subsets/goslim_generic.obo\"\n"
   ]
  },
  {
   "cell_type": "code",
   "execution_count": 4,
   "id": "756e784d-cf11-4b75-a9e1-4cbc2f93c3b2",
   "metadata": {},
   "outputs": [],
   "source": [
    "# copied from workflow pipeline linked above\n",
    "\n",
    "# download generic goslim-obo\n",
    "\n",
    "# Find GSEAbase installation location\n",
    "gseabase_location <- find.package(\"GSEABase\")\n",
    "\n",
    "# Load path to GOslim OBO file\n",
    "goslim_obo_destintation <- file.path(gseabase_location, \"extdata\", goslims_obo, fsep = \"/\")\n",
    "\n",
    "# Download the GOslim OBO file\n",
    "download.file(url = goslims_url, destfile = goslim_obo_destintation)\n",
    "\n",
    "# Loads package files\n",
    "gseabase_files <- system.file(\"extdata\", goslims_obo, package=\"GSEABase\")"
   ]
  },
  {
   "cell_type": "markdown",
   "id": "5c03d33f-431d-48f7-9d8c-885f0615132b",
   "metadata": {},
   "source": [
    "one unique gene per row, multiple GO IDs per gene"
   ]
  },
  {
   "cell_type": "code",
   "execution_count": 5,
   "id": "e3bd2dec-ec3f-42a2-8eac-7b282eb34538",
   "metadata": {},
   "outputs": [
    {
     "name": "stdout",
     "output_type": "stream",
     "text": [
      "'data.frame':\t22614 obs. of  2 variables:\n",
      " $ gene_id          : chr  \"LOC111099029\" \"LOC111099032\" \"LOC111099033\" \"LOC111099034\" ...\n",
      " $ Gene.Ontology.IDs: chr  \"GO:0005261; GO:0098655\" \"GO:0004930; GO:0005886; GO:0007186\" \"GO:0016020; GO:0022857; GO:0055085\" \"GO:0005515\" ...\n"
     ]
    },
    {
     "data": {
      "text/html": [
       "<table class=\"dataframe\">\n",
       "<caption>A data.frame: 6 × 2</caption>\n",
       "<thead>\n",
       "\t<tr><th></th><th scope=col>gene_id</th><th scope=col>Gene.Ontology.IDs</th></tr>\n",
       "\t<tr><th></th><th scope=col>&lt;chr&gt;</th><th scope=col>&lt;chr&gt;</th></tr>\n",
       "</thead>\n",
       "<tbody>\n",
       "\t<tr><th scope=row>1</th><td>LOC111099029</td><td>GO:0005261; GO:0098655            </td></tr>\n",
       "\t<tr><th scope=row>2</th><td>LOC111099032</td><td>GO:0004930; GO:0005886; GO:0007186</td></tr>\n",
       "\t<tr><th scope=row>3</th><td>LOC111099033</td><td>GO:0016020; GO:0022857; GO:0055085</td></tr>\n",
       "\t<tr><th scope=row>4</th><td>LOC111099034</td><td>GO:0005515                        </td></tr>\n",
       "\t<tr><th scope=row>5</th><td>LOC111099036</td><td>GO:0008028; GO:0015718; GO:0055085</td></tr>\n",
       "\t<tr><th scope=row>6</th><td>LOC111099039</td><td>GO:0004930; GO:0005886; GO:0007189</td></tr>\n",
       "</tbody>\n",
       "</table>\n"
      ],
      "text/latex": [
       "A data.frame: 6 × 2\n",
       "\\begin{tabular}{r|ll}\n",
       "  & gene\\_id & Gene.Ontology.IDs\\\\\n",
       "  & <chr> & <chr>\\\\\n",
       "\\hline\n",
       "\t1 & LOC111099029 & GO:0005261; GO:0098655            \\\\\n",
       "\t2 & LOC111099032 & GO:0004930; GO:0005886; GO:0007186\\\\\n",
       "\t3 & LOC111099033 & GO:0016020; GO:0022857; GO:0055085\\\\\n",
       "\t4 & LOC111099034 & GO:0005515                        \\\\\n",
       "\t5 & LOC111099036 & GO:0008028; GO:0015718; GO:0055085\\\\\n",
       "\t6 & LOC111099039 & GO:0004930; GO:0005886; GO:0007189\\\\\n",
       "\\end{tabular}\n"
      ],
      "text/markdown": [
       "\n",
       "A data.frame: 6 × 2\n",
       "\n",
       "| <!--/--> | gene_id &lt;chr&gt; | Gene.Ontology.IDs &lt;chr&gt; |\n",
       "|---|---|---|\n",
       "| 1 | LOC111099029 | GO:0005261; GO:0098655             |\n",
       "| 2 | LOC111099032 | GO:0004930; GO:0005886; GO:0007186 |\n",
       "| 3 | LOC111099033 | GO:0016020; GO:0022857; GO:0055085 |\n",
       "| 4 | LOC111099034 | GO:0005515                         |\n",
       "| 5 | LOC111099036 | GO:0008028; GO:0015718; GO:0055085 |\n",
       "| 6 | LOC111099039 | GO:0004930; GO:0005886; GO:0007189 |\n",
       "\n"
      ],
      "text/plain": [
       "  gene_id      Gene.Ontology.IDs                 \n",
       "1 LOC111099029 GO:0005261; GO:0098655            \n",
       "2 LOC111099032 GO:0004930; GO:0005886; GO:0007186\n",
       "3 LOC111099033 GO:0016020; GO:0022857; GO:0055085\n",
       "4 LOC111099034 GO:0005515                        \n",
       "5 LOC111099036 GO:0008028; GO:0015718; GO:0055085\n",
       "6 LOC111099039 GO:0004930; GO:0005886; GO:0007189"
      ]
     },
     "metadata": {},
     "output_type": "display_data"
    }
   ],
   "source": [
    "# copied from workflow pipeline linked above\n",
    "\n",
    "# read in gene file\n",
    "\n",
    "full.gene.df <- read.csv(file = input.file, header = TRUE)\n",
    "\n",
    "str(full.gene.df)\n",
    "head(full.gene.df)"
   ]
  },
  {
   "cell_type": "code",
   "execution_count": 7,
   "id": "083b5e68-417f-4f2b-8164-67487d44947a",
   "metadata": {},
   "outputs": [
    {
     "data": {
      "text/html": [
       "<table class=\"dataframe\">\n",
       "<caption>A data.frame: 6 × 2</caption>\n",
       "<thead>\n",
       "\t<tr><th></th><th scope=col>gene_id</th><th scope=col>Gene.Ontology.IDs</th></tr>\n",
       "\t<tr><th></th><th scope=col>&lt;chr&gt;</th><th scope=col>&lt;chr&gt;</th></tr>\n",
       "</thead>\n",
       "<tbody>\n",
       "\t<tr><th scope=row>1</th><td>LOC111099029</td><td>GO:0005261;GO:0098655           </td></tr>\n",
       "\t<tr><th scope=row>2</th><td>LOC111099032</td><td>GO:0004930;GO:0005886;GO:0007186</td></tr>\n",
       "\t<tr><th scope=row>3</th><td>LOC111099033</td><td>GO:0016020;GO:0022857;GO:0055085</td></tr>\n",
       "\t<tr><th scope=row>4</th><td>LOC111099034</td><td>GO:0005515                      </td></tr>\n",
       "\t<tr><th scope=row>5</th><td>LOC111099036</td><td>GO:0008028;GO:0015718;GO:0055085</td></tr>\n",
       "\t<tr><th scope=row>6</th><td>LOC111099039</td><td>GO:0004930;GO:0005886;GO:0007189</td></tr>\n",
       "</tbody>\n",
       "</table>\n"
      ],
      "text/latex": [
       "A data.frame: 6 × 2\n",
       "\\begin{tabular}{r|ll}\n",
       "  & gene\\_id & Gene.Ontology.IDs\\\\\n",
       "  & <chr> & <chr>\\\\\n",
       "\\hline\n",
       "\t1 & LOC111099029 & GO:0005261;GO:0098655           \\\\\n",
       "\t2 & LOC111099032 & GO:0004930;GO:0005886;GO:0007186\\\\\n",
       "\t3 & LOC111099033 & GO:0016020;GO:0022857;GO:0055085\\\\\n",
       "\t4 & LOC111099034 & GO:0005515                      \\\\\n",
       "\t5 & LOC111099036 & GO:0008028;GO:0015718;GO:0055085\\\\\n",
       "\t6 & LOC111099039 & GO:0004930;GO:0005886;GO:0007189\\\\\n",
       "\\end{tabular}\n"
      ],
      "text/markdown": [
       "\n",
       "A data.frame: 6 × 2\n",
       "\n",
       "| <!--/--> | gene_id &lt;chr&gt; | Gene.Ontology.IDs &lt;chr&gt; |\n",
       "|---|---|---|\n",
       "| 1 | LOC111099029 | GO:0005261;GO:0098655            |\n",
       "| 2 | LOC111099032 | GO:0004930;GO:0005886;GO:0007186 |\n",
       "| 3 | LOC111099033 | GO:0016020;GO:0022857;GO:0055085 |\n",
       "| 4 | LOC111099034 | GO:0005515                       |\n",
       "| 5 | LOC111099036 | GO:0008028;GO:0015718;GO:0055085 |\n",
       "| 6 | LOC111099039 | GO:0004930;GO:0005886;GO:0007189 |\n",
       "\n"
      ],
      "text/plain": [
       "  gene_id      Gene.Ontology.IDs               \n",
       "1 LOC111099029 GO:0005261;GO:0098655           \n",
       "2 LOC111099032 GO:0004930;GO:0005886;GO:0007186\n",
       "3 LOC111099033 GO:0016020;GO:0022857;GO:0055085\n",
       "4 LOC111099034 GO:0005515                      \n",
       "5 LOC111099036 GO:0008028;GO:0015718;GO:0055085\n",
       "6 LOC111099039 GO:0004930;GO:0005886;GO:0007189"
      ]
     },
     "metadata": {},
     "output_type": "display_data"
    }
   ],
   "source": [
    "# copied from workflow pipeline linked above\n",
    "\n",
    "# remove NA and uniprotIDs\n",
    "\n",
    "# Clean whitespace, filter NA/empty rows, select columns, and split GO terms using column name variables\n",
    "library(dplyr) # for some reason I'm having conflicts with select()\n",
    "gene.GO.df <- full.gene.df %>%\n",
    "  mutate(!!GO.ID.column := str_replace_all(.data[[GO.ID.column]], \"\\\\s*;\\\\s*\", \";\")) %>%\n",
    "  filter(!is.na(.data[[gene.ID.column]]) & !is.na(.data[[GO.ID.column]]) & .data[[GO.ID.column]] != \"\") %>%\n",
    "  dplyr::select(all_of(c(gene.ID.column, GO.ID.column)))\n",
    "\n",
    "head(gene.GO.df)"
   ]
  },
  {
   "cell_type": "markdown",
   "id": "14f373d3-7ebd-46f8-9325-6f3b3a1c8bcb",
   "metadata": {},
   "source": [
    "flatten df so only one gene and one GO ID per row"
   ]
  },
  {
   "cell_type": "code",
   "execution_count": 8,
   "id": "ea5c6f9a-a2a5-4cd5-85e7-260399065c77",
   "metadata": {},
   "outputs": [
    {
     "name": "stdout",
     "output_type": "stream",
     "text": [
      "tibble [77,015 × 2] (S3: tbl_df/tbl/data.frame)\n",
      " $ gene_id          : chr [1:77015] \"LOC111099029\" \"LOC111099029\" \"LOC111099032\" \"LOC111099032\" ...\n",
      " $ Gene.Ontology.IDs: chr [1:77015] \"GO:0005261\" \"GO:0098655\" \"GO:0004930\" \"GO:0005886\" ...\n"
     ]
    },
    {
     "data": {
      "text/html": [
       "<table class=\"dataframe\">\n",
       "<caption>A tibble: 6 × 2</caption>\n",
       "<thead>\n",
       "\t<tr><th scope=col>gene_id</th><th scope=col>Gene.Ontology.IDs</th></tr>\n",
       "\t<tr><th scope=col>&lt;chr&gt;</th><th scope=col>&lt;chr&gt;</th></tr>\n",
       "</thead>\n",
       "<tbody>\n",
       "\t<tr><td>LOC111099029</td><td>GO:0005261</td></tr>\n",
       "\t<tr><td>LOC111099029</td><td>GO:0098655</td></tr>\n",
       "\t<tr><td>LOC111099032</td><td>GO:0004930</td></tr>\n",
       "\t<tr><td>LOC111099032</td><td>GO:0005886</td></tr>\n",
       "\t<tr><td>LOC111099032</td><td>GO:0007186</td></tr>\n",
       "\t<tr><td>LOC111099033</td><td>GO:0016020</td></tr>\n",
       "</tbody>\n",
       "</table>\n"
      ],
      "text/latex": [
       "A tibble: 6 × 2\n",
       "\\begin{tabular}{ll}\n",
       " gene\\_id & Gene.Ontology.IDs\\\\\n",
       " <chr> & <chr>\\\\\n",
       "\\hline\n",
       "\t LOC111099029 & GO:0005261\\\\\n",
       "\t LOC111099029 & GO:0098655\\\\\n",
       "\t LOC111099032 & GO:0004930\\\\\n",
       "\t LOC111099032 & GO:0005886\\\\\n",
       "\t LOC111099032 & GO:0007186\\\\\n",
       "\t LOC111099033 & GO:0016020\\\\\n",
       "\\end{tabular}\n"
      ],
      "text/markdown": [
       "\n",
       "A tibble: 6 × 2\n",
       "\n",
       "| gene_id &lt;chr&gt; | Gene.Ontology.IDs &lt;chr&gt; |\n",
       "|---|---|\n",
       "| LOC111099029 | GO:0005261 |\n",
       "| LOC111099029 | GO:0098655 |\n",
       "| LOC111099032 | GO:0004930 |\n",
       "| LOC111099032 | GO:0005886 |\n",
       "| LOC111099032 | GO:0007186 |\n",
       "| LOC111099033 | GO:0016020 |\n",
       "\n"
      ],
      "text/plain": [
       "  gene_id      Gene.Ontology.IDs\n",
       "1 LOC111099029 GO:0005261       \n",
       "2 LOC111099029 GO:0098655       \n",
       "3 LOC111099032 GO:0004930       \n",
       "4 LOC111099032 GO:0005886       \n",
       "5 LOC111099032 GO:0007186       \n",
       "6 LOC111099033 GO:0016020       "
      ]
     },
     "metadata": {},
     "output_type": "display_data"
    }
   ],
   "source": [
    "# copied from workflow pipeline linked above\n",
    "\n",
    "# flatten gene and GO IDs\n",
    "\n",
    "flat.gene.GO.df <- gene.GO.df %>% separate_rows(!!sym(GO.ID.column), sep = \";\")\n",
    "\n",
    "str(flat.gene.GO.df)\n",
    "head(flat.gene.GO.df)"
   ]
  },
  {
   "cell_type": "markdown",
   "id": "867d4ce1-377b-4cca-90d9-623d7aeec4d7",
   "metadata": {},
   "source": [
    "Grouping by GO ID - one unique GO ID per row, multiple genes per GO ID"
   ]
  },
  {
   "cell_type": "code",
   "execution_count": 9,
   "id": "d5471c73-f94d-4b77-ab99-ac6649ae8d81",
   "metadata": {},
   "outputs": [
    {
     "name": "stdout",
     "output_type": "stream",
     "text": [
      "tibble [5,357 × 2] (S3: tbl_df/tbl/data.frame)\n",
      " $ Gene.Ontology.IDs: chr [1:5357] \"GO:0000002\" \"GO:0000003\" \"GO:0000009\" \"GO:0000012\" ...\n",
      " $ gene_id          : chr [1:5357] \"LOC111135903\" \"LOC111115224\" \"LOC111099485,LOC111099578,LOC111108038,LOC111119818\" \"LOC111111498,LOC111111868,LOC111128425,LOC111128516,LOC111135198,LOC111135354,LOC111136704\" ...\n"
     ]
    },
    {
     "data": {
      "text/html": [
       "<table class=\"dataframe\">\n",
       "<caption>A tibble: 6 × 2</caption>\n",
       "<thead>\n",
       "\t<tr><th scope=col>Gene.Ontology.IDs</th><th scope=col>gene_id</th></tr>\n",
       "\t<tr><th scope=col>&lt;chr&gt;</th><th scope=col>&lt;chr&gt;</th></tr>\n",
       "</thead>\n",
       "<tbody>\n",
       "\t<tr><td>GO:0000002</td><td>LOC111135903                                                                              </td></tr>\n",
       "\t<tr><td>GO:0000003</td><td>LOC111115224                                                                              </td></tr>\n",
       "\t<tr><td>GO:0000009</td><td>LOC111099485,LOC111099578,LOC111108038,LOC111119818                                       </td></tr>\n",
       "\t<tr><td>GO:0000012</td><td>LOC111111498,LOC111111868,LOC111128425,LOC111128516,LOC111135198,LOC111135354,LOC111136704</td></tr>\n",
       "\t<tr><td>GO:0000014</td><td>LOC111111711,LOC111111845,LOC111121059,LOC111126118                                       </td></tr>\n",
       "\t<tr><td>GO:0000015</td><td>LOC111132341,LOC111137133                                                                 </td></tr>\n",
       "</tbody>\n",
       "</table>\n"
      ],
      "text/latex": [
       "A tibble: 6 × 2\n",
       "\\begin{tabular}{ll}\n",
       " Gene.Ontology.IDs & gene\\_id\\\\\n",
       " <chr> & <chr>\\\\\n",
       "\\hline\n",
       "\t GO:0000002 & LOC111135903                                                                              \\\\\n",
       "\t GO:0000003 & LOC111115224                                                                              \\\\\n",
       "\t GO:0000009 & LOC111099485,LOC111099578,LOC111108038,LOC111119818                                       \\\\\n",
       "\t GO:0000012 & LOC111111498,LOC111111868,LOC111128425,LOC111128516,LOC111135198,LOC111135354,LOC111136704\\\\\n",
       "\t GO:0000014 & LOC111111711,LOC111111845,LOC111121059,LOC111126118                                       \\\\\n",
       "\t GO:0000015 & LOC111132341,LOC111137133                                                                 \\\\\n",
       "\\end{tabular}\n"
      ],
      "text/markdown": [
       "\n",
       "A tibble: 6 × 2\n",
       "\n",
       "| Gene.Ontology.IDs &lt;chr&gt; | gene_id &lt;chr&gt; |\n",
       "|---|---|\n",
       "| GO:0000002 | LOC111135903                                                                               |\n",
       "| GO:0000003 | LOC111115224                                                                               |\n",
       "| GO:0000009 | LOC111099485,LOC111099578,LOC111108038,LOC111119818                                        |\n",
       "| GO:0000012 | LOC111111498,LOC111111868,LOC111128425,LOC111128516,LOC111135198,LOC111135354,LOC111136704 |\n",
       "| GO:0000014 | LOC111111711,LOC111111845,LOC111121059,LOC111126118                                        |\n",
       "| GO:0000015 | LOC111132341,LOC111137133                                                                  |\n",
       "\n"
      ],
      "text/plain": [
       "  Gene.Ontology.IDs\n",
       "1 GO:0000002       \n",
       "2 GO:0000003       \n",
       "3 GO:0000009       \n",
       "4 GO:0000012       \n",
       "5 GO:0000014       \n",
       "6 GO:0000015       \n",
       "  gene_id                                                                                   \n",
       "1 LOC111135903                                                                              \n",
       "2 LOC111115224                                                                              \n",
       "3 LOC111099485,LOC111099578,LOC111108038,LOC111119818                                       \n",
       "4 LOC111111498,LOC111111868,LOC111128425,LOC111128516,LOC111135198,LOC111135354,LOC111136704\n",
       "5 LOC111111711,LOC111111845,LOC111121059,LOC111126118                                       \n",
       "6 LOC111132341,LOC111137133                                                                 "
      ]
     },
     "metadata": {},
     "output_type": "display_data"
    }
   ],
   "source": [
    "# copied from workflow pipeline linked above\n",
    "\n",
    "# group by GO\n",
    "\n",
    "grouped.gene.GO.df <- flat.gene.GO.df %>%\n",
    "  group_by(!!sym(GO.ID.column)) %>%\n",
    "  summarise(!!gene.ID.column := paste(.data[[gene.ID.column]], collapse = \",\"))\n",
    "\n",
    "str(grouped.gene.GO.df)\n",
    "head(grouped.gene.GO.df)"
   ]
  },
  {
   "cell_type": "markdown",
   "id": "83a66e8b-d35e-4564-9725-4f0206f9e590",
   "metadata": {},
   "source": [
    "#### Mapping GO IDs to GO Slim"
   ]
  },
  {
   "cell_type": "code",
   "execution_count": 10,
   "id": "0980a8a4-16cf-49da-9a70-a5b895bd742d",
   "metadata": {},
   "outputs": [
    {
     "name": "stdout",
     "output_type": "stream",
     "text": [
      " chr [1:5357] \"GO:0000002\" \"GO:0000003\" \"GO:0000009\" \"GO:0000012\" ...\n"
     ]
    },
    {
     "data": {
      "text/html": [
       "<style>\n",
       ".list-inline {list-style: none; margin:0; padding: 0}\n",
       ".list-inline>li {display: inline-block}\n",
       ".list-inline>li:not(:last-child)::after {content: \"\\00b7\"; padding: 0 .5ex}\n",
       "</style>\n",
       "<ol class=list-inline><li>'GO:0000002'</li><li>'GO:0000003'</li><li>'GO:0000009'</li><li>'GO:0000012'</li><li>'GO:0000014'</li><li>'GO:0000015'</li></ol>\n"
      ],
      "text/latex": [
       "\\begin{enumerate*}\n",
       "\\item 'GO:0000002'\n",
       "\\item 'GO:0000003'\n",
       "\\item 'GO:0000009'\n",
       "\\item 'GO:0000012'\n",
       "\\item 'GO:0000014'\n",
       "\\item 'GO:0000015'\n",
       "\\end{enumerate*}\n"
      ],
      "text/markdown": [
       "1. 'GO:0000002'\n",
       "2. 'GO:0000003'\n",
       "3. 'GO:0000009'\n",
       "4. 'GO:0000012'\n",
       "5. 'GO:0000014'\n",
       "6. 'GO:0000015'\n",
       "\n",
       "\n"
      ],
      "text/plain": [
       "[1] \"GO:0000002\" \"GO:0000003\" \"GO:0000009\" \"GO:0000012\" \"GO:0000014\"\n",
       "[6] \"GO:0000015\""
      ]
     },
     "metadata": {},
     "output_type": "display_data"
    }
   ],
   "source": [
    "# copied from workflow pipeline linked above\n",
    "\n",
    "# Vectorize GO IDs\n",
    "go_ids <- grouped.gene.GO.df[[GO.ID.column]]\n",
    "\n",
    "str(go_ids)\n",
    "head(go_ids)"
   ]
  },
  {
   "cell_type": "code",
   "execution_count": 11,
   "id": "151c7df5-08fa-41f3-ad7b-7a7c9d015f2c",
   "metadata": {},
   "outputs": [
    {
     "name": "stdout",
     "output_type": "stream",
     "text": [
      "Formal class 'OBOCollection' [package \"GSEABase\"] with 7 slots\n",
      "  ..@ .stanza     :'data.frame':\t153 obs. of  1 variable:\n",
      "  .. ..$ value: chr [1:153] \"Root\" \"Term\" \"Term\" \"Term\" ...\n",
      "  ..@ .subset     :'data.frame':\t22 obs. of  1 variable:\n",
      "  .. ..$ value: chr [1:22] \"Rhea list of ChEBI terms representing the major species at pH 7.3.\" \"Term not to be used for direct annotation\" \"Terms planned for obsoletion\" \"AGR slim\" ...\n",
      "  ..@ .kv         :'data.frame':\t2075 obs. of  3 variables:\n",
      "  .. ..$ stanza_id: chr [1:2075] \".__Root__\" \".__Root__\" \".__Root__\" \".__Root__\" ...\n",
      "  .. ..$ key      : chr [1:2075] \"format-version\" \"data-version\" \"synonymtypedef\" \"synonymtypedef\" ...\n",
      "  .. ..$ value    : chr [1:2075] \"1.2\" \"go/2024-11-03/subsets/goslim_generic.owl\" \"syngo_official_label \\\"label approved by the SynGO project\\\"\" \"systematic_synonym \\\"Systematic synonym\\\" EXACT\" ...\n",
      "  ..@ evidenceCode: chr [1:26] \"EXP\" \"IDA\" \"IPI\" \"IMP\" ...\n",
      "  ..@ ontology    : chr NA\n",
      "  ..@ ids         : chr [1:141] \"GO:0000228\" \"GO:0000278\" \"GO:0000910\" \"GO:0001618\" ...\n",
      "  ..@ type        : chr \"OBO\"\n"
     ]
    }
   ],
   "source": [
    "# copied from workflow pipeline linked above\n",
    "\n",
    "# extract GOslims from OBO\n",
    "\n",
    "# Create GSEAbase GOCollection using `go_ids`\n",
    "myCollection <- GOCollection(go_ids)\n",
    "\n",
    "# Retrieve GOslims from GO OBO file set\n",
    "slim <- getOBOCollection(gseabase_files)\n",
    "\n",
    "str(slim)"
   ]
  },
  {
   "cell_type": "code",
   "execution_count": 12,
   "id": "7a07672f-171f-4996-9775-c9d3c9741b7b",
   "metadata": {},
   "outputs": [
    {
     "name": "stdout",
     "output_type": "stream",
     "text": [
      "'data.frame':\t72 obs. of  3 variables:\n",
      " $ Count  : int  54 11 9 32 4 3 0 0 44 33 ...\n",
      " $ Percent: num  2.127 0.433 0.354 1.26 0.158 ...\n",
      " $ Term   : chr  \"mitotic cell cycle\" \"cytokinesis\" \"cytoplasmic translation\" \"immune system process\" ...\n"
     ]
    },
    {
     "data": {
      "text/html": [
       "<table class=\"dataframe\">\n",
       "<caption>A data.frame: 6 × 3</caption>\n",
       "<thead>\n",
       "\t<tr><th></th><th scope=col>Count</th><th scope=col>Percent</th><th scope=col>Term</th></tr>\n",
       "\t<tr><th></th><th scope=col>&lt;int&gt;</th><th scope=col>&lt;dbl&gt;</th><th scope=col>&lt;chr&gt;</th></tr>\n",
       "</thead>\n",
       "<tbody>\n",
       "\t<tr><th scope=row>GO:0000278</th><td>54</td><td>2.1268216</td><td>mitotic cell cycle        </td></tr>\n",
       "\t<tr><th scope=row>GO:0000910</th><td>11</td><td>0.4332414</td><td>cytokinesis               </td></tr>\n",
       "\t<tr><th scope=row>GO:0002181</th><td> 9</td><td>0.3544703</td><td>cytoplasmic translation   </td></tr>\n",
       "\t<tr><th scope=row>GO:0002376</th><td>32</td><td>1.2603387</td><td>immune system process     </td></tr>\n",
       "\t<tr><th scope=row>GO:0003012</th><td> 4</td><td>0.1575423</td><td>muscle system process     </td></tr>\n",
       "\t<tr><th scope=row>GO:0003013</th><td> 3</td><td>0.1181568</td><td>circulatory system process</td></tr>\n",
       "</tbody>\n",
       "</table>\n"
      ],
      "text/latex": [
       "A data.frame: 6 × 3\n",
       "\\begin{tabular}{r|lll}\n",
       "  & Count & Percent & Term\\\\\n",
       "  & <int> & <dbl> & <chr>\\\\\n",
       "\\hline\n",
       "\tGO:0000278 & 54 & 2.1268216 & mitotic cell cycle        \\\\\n",
       "\tGO:0000910 & 11 & 0.4332414 & cytokinesis               \\\\\n",
       "\tGO:0002181 &  9 & 0.3544703 & cytoplasmic translation   \\\\\n",
       "\tGO:0002376 & 32 & 1.2603387 & immune system process     \\\\\n",
       "\tGO:0003012 &  4 & 0.1575423 & muscle system process     \\\\\n",
       "\tGO:0003013 &  3 & 0.1181568 & circulatory system process\\\\\n",
       "\\end{tabular}\n"
      ],
      "text/markdown": [
       "\n",
       "A data.frame: 6 × 3\n",
       "\n",
       "| <!--/--> | Count &lt;int&gt; | Percent &lt;dbl&gt; | Term &lt;chr&gt; |\n",
       "|---|---|---|---|\n",
       "| GO:0000278 | 54 | 2.1268216 | mitotic cell cycle         |\n",
       "| GO:0000910 | 11 | 0.4332414 | cytokinesis                |\n",
       "| GO:0002181 |  9 | 0.3544703 | cytoplasmic translation    |\n",
       "| GO:0002376 | 32 | 1.2603387 | immune system process      |\n",
       "| GO:0003012 |  4 | 0.1575423 | muscle system process      |\n",
       "| GO:0003013 |  3 | 0.1181568 | circulatory system process |\n",
       "\n"
      ],
      "text/plain": [
       "           Count Percent   Term                      \n",
       "GO:0000278 54    2.1268216 mitotic cell cycle        \n",
       "GO:0000910 11    0.4332414 cytokinesis               \n",
       "GO:0002181  9    0.3544703 cytoplasmic translation   \n",
       "GO:0002376 32    1.2603387 immune system process     \n",
       "GO:0003012  4    0.1575423 muscle system process     \n",
       "GO:0003013  3    0.1181568 circulatory system process"
      ]
     },
     "metadata": {},
     "output_type": "display_data"
    }
   ],
   "source": [
    "# copied from workflow pipeline linked above\n",
    "\n",
    "# retrieve BP GOslims\n",
    "\n",
    "# Retrieve Biological Process (BP) GOslims\n",
    "slimdf <- goSlim(myCollection, slim, \"BP\", verbose)\n",
    "str(slimdf)\n",
    "head(slimdf)"
   ]
  },
  {
   "cell_type": "code",
   "execution_count": 14,
   "id": "db004641-769e-443a-b542-2739215a8d43",
   "metadata": {},
   "outputs": [
    {
     "data": {
      "text/html": [
       "<style>\n",
       ".list-inline {list-style: none; margin:0; padding: 0}\n",
       ".list-inline>li {display: inline-block}\n",
       ".list-inline>li:not(:last-child)::after {content: \"\\00b7\"; padding: 0 .5ex}\n",
       "</style>\n",
       "<ol class=list-inline><li>72</li><li>3</li></ol>\n"
      ],
      "text/latex": [
       "\\begin{enumerate*}\n",
       "\\item 72\n",
       "\\item 3\n",
       "\\end{enumerate*}\n"
      ],
      "text/markdown": [
       "1. 72\n",
       "2. 3\n",
       "\n",
       "\n"
      ],
      "text/plain": [
       "[1] 72  3"
      ]
     },
     "metadata": {},
     "output_type": "display_data"
    }
   ],
   "source": [
    "dim(slimdf) # 72 total GOslim terms"
   ]
  },
  {
   "cell_type": "markdown",
   "id": "081704e4-ccbb-4ae7-9c32-88290b50e6e6",
   "metadata": {},
   "source": [
    "so now have df with GOslim term and GO ID"
   ]
  },
  {
   "cell_type": "code",
   "execution_count": 15,
   "id": "10d6ca76-af1a-4e85-a4f5-2bda0d98c0f9",
   "metadata": {},
   "outputs": [
    {
     "name": "stdout",
     "output_type": "stream",
     "text": [
      "'data.frame':\t72 obs. of  4 variables:\n",
      " $ Count  : int  54 11 9 32 4 3 0 0 44 33 ...\n",
      " $ Percent: num  2.127 0.433 0.354 1.26 0.158 ...\n",
      " $ Term   : chr  \"mitotic cell cycle\" \"cytokinesis\" \"cytoplasmic translation\" \"immune system process\" ...\n",
      " $ GO.IDs : chr  \"GO:0000070;GO:0000082;GO:0000083;GO:0000086;GO:0000132;GO:0000281;GO:0007052;GO:0007076;GO:0007080;GO:0007088;G\"| __truncated__ \"GO:0000281;GO:0000915;GO:0032465;GO:0032467;GO:0036089;GO:0040038;GO:0061640;GO:0061952;GO:1902410;GO:1902412;GO:2000431\" \"GO:0001731;GO:0001732;GO:0002182;GO:0002183;GO:0002184;GO:0002188;GO:2000766;GO:2000767; GO:0002181\" \"GO:0001782;GO:0002218;GO:0002224;GO:0002250;GO:0002495;GO:0002682;GO:0002755;GO:0006955;GO:0006956;GO:0006959;G\"| __truncated__ ...\n"
     ]
    },
    {
     "data": {
      "text/html": [
       "<table class=\"dataframe\">\n",
       "<caption>A data.frame: 6 × 4</caption>\n",
       "<thead>\n",
       "\t<tr><th></th><th scope=col>Count</th><th scope=col>Percent</th><th scope=col>Term</th><th scope=col>GO.IDs</th></tr>\n",
       "\t<tr><th></th><th scope=col>&lt;int&gt;</th><th scope=col>&lt;dbl&gt;</th><th scope=col>&lt;chr&gt;</th><th scope=col>&lt;chr&gt;</th></tr>\n",
       "</thead>\n",
       "<tbody>\n",
       "\t<tr><th scope=row>GO:0000278</th><td>54</td><td>2.1268216</td><td>mitotic cell cycle        </td><td>GO:0000070;GO:0000082;GO:0000083;GO:0000086;GO:0000132;GO:0000281;GO:0007052;GO:0007076;GO:0007080;GO:0007088;GO:0007089;GO:0007091;GO:0007093;GO:0007094;GO:0007095;GO:0007096;GO:0007100;GO:0007346;GO:0010389;GO:0010971;GO:0010972;GO:0031573;GO:0033314;GO:0034087;GO:0040001;GO:0044772;GO:0044773;GO:0045840;GO:0045842;GO:0045930;GO:0051228;GO:0051256;GO:0051306;GO:0051315;GO:0060236;GO:0061780;GO:0061952;GO:0090266;GO:0090307;GO:1900087;GO:1901673;GO:1902410;GO:1902412;GO:1902969;GO:1902975;GO:1902977;GO:1902979;GO:1902983;GO:1903461;GO:1990426;GO:1990810;GO:2000045;GO:2000134; GO:0000278</td></tr>\n",
       "\t<tr><th scope=row>GO:0000910</th><td>11</td><td>0.4332414</td><td>cytokinesis               </td><td>GO:0000281;GO:0000915;GO:0032465;GO:0032467;GO:0036089;GO:0040038;GO:0061640;GO:0061952;GO:1902410;GO:1902412;GO:2000431                                                                                                                                                                                                                                                                                                                                                                                                                                                                                          </td></tr>\n",
       "\t<tr><th scope=row>GO:0002181</th><td> 9</td><td>0.3544703</td><td>cytoplasmic translation   </td><td>GO:0001731;GO:0001732;GO:0002182;GO:0002183;GO:0002184;GO:0002188;GO:2000766;GO:2000767; GO:0002181                                                                                                                                                                                                                                                                                                                                                                                                                                                                                                               </td></tr>\n",
       "\t<tr><th scope=row>GO:0002376</th><td>32</td><td>1.2603387</td><td>immune system process     </td><td>GO:0001782;GO:0002218;GO:0002224;GO:0002250;GO:0002495;GO:0002682;GO:0002755;GO:0006955;GO:0006956;GO:0006959;GO:0019731;GO:0030888;GO:0030890;GO:0031295;GO:0033151;GO:0034128;GO:0034164;GO:0039536;GO:0042102;GO:0042130;GO:0043029;GO:0045087;GO:0045088;GO:0045089;GO:0045579;GO:0046651;GO:0048821;GO:0050852;GO:0050901;GO:0051251;GO:0060335; GO:0002376                                                                                                                                                                                                                                                  </td></tr>\n",
       "\t<tr><th scope=row>GO:0003012</th><td> 4</td><td>0.1575423</td><td>muscle system process     </td><td>GO:0003009;GO:0006936;GO:0006937;GO:0055117                                                                                                                                                                                                                                                                                                                                                                                                                                                                                                                                                                       </td></tr>\n",
       "\t<tr><th scope=row>GO:0003013</th><td> 3</td><td>0.1181568</td><td>circulatory system process</td><td>GO:0003085;GO:0055117;GO:0060047                                                                                                                                                                                                                                                                                                                                                                                                                                                                                                                                                                                  </td></tr>\n",
       "</tbody>\n",
       "</table>\n"
      ],
      "text/latex": [
       "A data.frame: 6 × 4\n",
       "\\begin{tabular}{r|llll}\n",
       "  & Count & Percent & Term & GO.IDs\\\\\n",
       "  & <int> & <dbl> & <chr> & <chr>\\\\\n",
       "\\hline\n",
       "\tGO:0000278 & 54 & 2.1268216 & mitotic cell cycle         & GO:0000070;GO:0000082;GO:0000083;GO:0000086;GO:0000132;GO:0000281;GO:0007052;GO:0007076;GO:0007080;GO:0007088;GO:0007089;GO:0007091;GO:0007093;GO:0007094;GO:0007095;GO:0007096;GO:0007100;GO:0007346;GO:0010389;GO:0010971;GO:0010972;GO:0031573;GO:0033314;GO:0034087;GO:0040001;GO:0044772;GO:0044773;GO:0045840;GO:0045842;GO:0045930;GO:0051228;GO:0051256;GO:0051306;GO:0051315;GO:0060236;GO:0061780;GO:0061952;GO:0090266;GO:0090307;GO:1900087;GO:1901673;GO:1902410;GO:1902412;GO:1902969;GO:1902975;GO:1902977;GO:1902979;GO:1902983;GO:1903461;GO:1990426;GO:1990810;GO:2000045;GO:2000134; GO:0000278\\\\\n",
       "\tGO:0000910 & 11 & 0.4332414 & cytokinesis                & GO:0000281;GO:0000915;GO:0032465;GO:0032467;GO:0036089;GO:0040038;GO:0061640;GO:0061952;GO:1902410;GO:1902412;GO:2000431                                                                                                                                                                                                                                                                                                                                                                                                                                                                                          \\\\\n",
       "\tGO:0002181 &  9 & 0.3544703 & cytoplasmic translation    & GO:0001731;GO:0001732;GO:0002182;GO:0002183;GO:0002184;GO:0002188;GO:2000766;GO:2000767; GO:0002181                                                                                                                                                                                                                                                                                                                                                                                                                                                                                                               \\\\\n",
       "\tGO:0002376 & 32 & 1.2603387 & immune system process      & GO:0001782;GO:0002218;GO:0002224;GO:0002250;GO:0002495;GO:0002682;GO:0002755;GO:0006955;GO:0006956;GO:0006959;GO:0019731;GO:0030888;GO:0030890;GO:0031295;GO:0033151;GO:0034128;GO:0034164;GO:0039536;GO:0042102;GO:0042130;GO:0043029;GO:0045087;GO:0045088;GO:0045089;GO:0045579;GO:0046651;GO:0048821;GO:0050852;GO:0050901;GO:0051251;GO:0060335; GO:0002376                                                                                                                                                                                                                                                  \\\\\n",
       "\tGO:0003012 &  4 & 0.1575423 & muscle system process      & GO:0003009;GO:0006936;GO:0006937;GO:0055117                                                                                                                                                                                                                                                                                                                                                                                                                                                                                                                                                                       \\\\\n",
       "\tGO:0003013 &  3 & 0.1181568 & circulatory system process & GO:0003085;GO:0055117;GO:0060047                                                                                                                                                                                                                                                                                                                                                                                                                                                                                                                                                                                  \\\\\n",
       "\\end{tabular}\n"
      ],
      "text/markdown": [
       "\n",
       "A data.frame: 6 × 4\n",
       "\n",
       "| <!--/--> | Count &lt;int&gt; | Percent &lt;dbl&gt; | Term &lt;chr&gt; | GO.IDs &lt;chr&gt; |\n",
       "|---|---|---|---|---|\n",
       "| GO:0000278 | 54 | 2.1268216 | mitotic cell cycle         | GO:0000070;GO:0000082;GO:0000083;GO:0000086;GO:0000132;GO:0000281;GO:0007052;GO:0007076;GO:0007080;GO:0007088;GO:0007089;GO:0007091;GO:0007093;GO:0007094;GO:0007095;GO:0007096;GO:0007100;GO:0007346;GO:0010389;GO:0010971;GO:0010972;GO:0031573;GO:0033314;GO:0034087;GO:0040001;GO:0044772;GO:0044773;GO:0045840;GO:0045842;GO:0045930;GO:0051228;GO:0051256;GO:0051306;GO:0051315;GO:0060236;GO:0061780;GO:0061952;GO:0090266;GO:0090307;GO:1900087;GO:1901673;GO:1902410;GO:1902412;GO:1902969;GO:1902975;GO:1902977;GO:1902979;GO:1902983;GO:1903461;GO:1990426;GO:1990810;GO:2000045;GO:2000134; GO:0000278 |\n",
       "| GO:0000910 | 11 | 0.4332414 | cytokinesis                | GO:0000281;GO:0000915;GO:0032465;GO:0032467;GO:0036089;GO:0040038;GO:0061640;GO:0061952;GO:1902410;GO:1902412;GO:2000431                                                                                                                                                                                                                                                                                                                                                                                                                                                                                           |\n",
       "| GO:0002181 |  9 | 0.3544703 | cytoplasmic translation    | GO:0001731;GO:0001732;GO:0002182;GO:0002183;GO:0002184;GO:0002188;GO:2000766;GO:2000767; GO:0002181                                                                                                                                                                                                                                                                                                                                                                                                                                                                                                                |\n",
       "| GO:0002376 | 32 | 1.2603387 | immune system process      | GO:0001782;GO:0002218;GO:0002224;GO:0002250;GO:0002495;GO:0002682;GO:0002755;GO:0006955;GO:0006956;GO:0006959;GO:0019731;GO:0030888;GO:0030890;GO:0031295;GO:0033151;GO:0034128;GO:0034164;GO:0039536;GO:0042102;GO:0042130;GO:0043029;GO:0045087;GO:0045088;GO:0045089;GO:0045579;GO:0046651;GO:0048821;GO:0050852;GO:0050901;GO:0051251;GO:0060335; GO:0002376                                                                                                                                                                                                                                                   |\n",
       "| GO:0003012 |  4 | 0.1575423 | muscle system process      | GO:0003009;GO:0006936;GO:0006937;GO:0055117                                                                                                                                                                                                                                                                                                                                                                                                                                                                                                                                                                        |\n",
       "| GO:0003013 |  3 | 0.1181568 | circulatory system process | GO:0003085;GO:0055117;GO:0060047                                                                                                                                                                                                                                                                                                                                                                                                                                                                                                                                                                                   |\n",
       "\n"
      ],
      "text/plain": [
       "           Count Percent   Term                      \n",
       "GO:0000278 54    2.1268216 mitotic cell cycle        \n",
       "GO:0000910 11    0.4332414 cytokinesis               \n",
       "GO:0002181  9    0.3544703 cytoplasmic translation   \n",
       "GO:0002376 32    1.2603387 immune system process     \n",
       "GO:0003012  4    0.1575423 muscle system process     \n",
       "GO:0003013  3    0.1181568 circulatory system process\n",
       "           GO.IDs                                                                                                                                                                                                                                                                                                                                                                                                                                                                                                                                                                                                            \n",
       "GO:0000278 GO:0000070;GO:0000082;GO:0000083;GO:0000086;GO:0000132;GO:0000281;GO:0007052;GO:0007076;GO:0007080;GO:0007088;GO:0007089;GO:0007091;GO:0007093;GO:0007094;GO:0007095;GO:0007096;GO:0007100;GO:0007346;GO:0010389;GO:0010971;GO:0010972;GO:0031573;GO:0033314;GO:0034087;GO:0040001;GO:0044772;GO:0044773;GO:0045840;GO:0045842;GO:0045930;GO:0051228;GO:0051256;GO:0051306;GO:0051315;GO:0060236;GO:0061780;GO:0061952;GO:0090266;GO:0090307;GO:1900087;GO:1901673;GO:1902410;GO:1902412;GO:1902969;GO:1902975;GO:1902977;GO:1902979;GO:1902983;GO:1903461;GO:1990426;GO:1990810;GO:2000045;GO:2000134; GO:0000278\n",
       "GO:0000910 GO:0000281;GO:0000915;GO:0032465;GO:0032467;GO:0036089;GO:0040038;GO:0061640;GO:0061952;GO:1902410;GO:1902412;GO:2000431                                                                                                                                                                                                                                                                                                                                                                                                                                                                                          \n",
       "GO:0002181 GO:0001731;GO:0001732;GO:0002182;GO:0002183;GO:0002184;GO:0002188;GO:2000766;GO:2000767; GO:0002181                                                                                                                                                                                                                                                                                                                                                                                                                                                                                                               \n",
       "GO:0002376 GO:0001782;GO:0002218;GO:0002224;GO:0002250;GO:0002495;GO:0002682;GO:0002755;GO:0006955;GO:0006956;GO:0006959;GO:0019731;GO:0030888;GO:0030890;GO:0031295;GO:0033151;GO:0034128;GO:0034164;GO:0039536;GO:0042102;GO:0042130;GO:0043029;GO:0045087;GO:0045088;GO:0045089;GO:0045579;GO:0046651;GO:0048821;GO:0050852;GO:0050901;GO:0051251;GO:0060335; GO:0002376                                                                                                                                                                                                                                                  \n",
       "GO:0003012 GO:0003009;GO:0006936;GO:0006937;GO:0055117                                                                                                                                                                                                                                                                                                                                                                                                                                                                                                                                                                       \n",
       "GO:0003013 GO:0003085;GO:0055117;GO:0060047                                                                                                                                                                                                                                                                                                                                                                                                                                                                                                                                                                                  "
      ]
     },
     "metadata": {},
     "output_type": "display_data"
    }
   ],
   "source": [
    "# copied from workflow pipeline linked above\n",
    "\n",
    "#Map GO to GOslims\n",
    "\n",
    "# List of GOslims and all GO IDs from `go_ids`\n",
    "gomap <- as.list(GOBPOFFSPRING[rownames(slimdf)])\n",
    "\n",
    "# Maps `go_ids` to matching GOslims\n",
    "mapped <- lapply(gomap, intersect, ids(myCollection))\n",
    "\n",
    "# Append all mapped GO IDs to `slimdf`\n",
    "# `sapply` needed to apply paste() to create semi-colon delimited values\n",
    "slimdf$GO.IDs <- sapply(lapply(gomap, intersect, ids(myCollection)), paste, collapse=\";\")\n",
    "\n",
    "# Remove \"character(0) string from \"GO.IDs\" column\n",
    "slimdf$GO.IDs[slimdf$GO.IDs == \"character(0)\"] <- \"\"\n",
    "\n",
    "# Add self-matching GOIDs to \"GO.IDs\" column, if not present\n",
    "for (go_id in go_ids) {\n",
    "  # Check if the go_id is present in the row names\n",
    "  if (go_id %in% rownames(slimdf)) {\n",
    "    # Check if the go_id is not present in the GO.IDs column\n",
    "    # Also removes white space \"trimws()\" and converts all to upper case to handle\n",
    "    # any weird, \"invisible\" formatting issues.\n",
    "    if (!go_id %in% trimws(toupper(strsplit(slimdf[go_id, \"GO.IDs\"], \";\")[[1]]))) {\n",
    "      # Append the go_id to the GO.IDs column with a semi-colon separator\n",
    "      if (length(slimdf$GO.IDs) > 0 && nchar(slimdf$GO.IDs[nrow(slimdf)]) > 0) {\n",
    "        slimdf[go_id, \"GO.IDs\"] <- paste0(slimdf[go_id, \"GO.IDs\"], \"; \", go_id)\n",
    "      } else {\n",
    "        slimdf[go_id, \"GO.IDs\"] <- go_id\n",
    "      }\n",
    "    }\n",
    "  }\n",
    "}\n",
    "\n",
    "str(slimdf)\n",
    "head(slimdf)"
   ]
  },
  {
   "cell_type": "markdown",
   "id": "24c17263-235d-472c-9b53-24f1f128508c",
   "metadata": {},
   "source": [
    "now have df with GOslim ID as the rowname and the corresponding GO IDs that fall within the GOslim term listed"
   ]
  },
  {
   "cell_type": "markdown",
   "id": "e1454392-d376-4dec-89ef-ba3d34d855f4",
   "metadata": {},
   "source": [
    "flatten GOslims file - one GO ID and one GOslim term per row"
   ]
  },
  {
   "cell_type": "code",
   "execution_count": 17,
   "id": "c0298c34-1801-4a8f-a4e9-ffd35605e2da",
   "metadata": {},
   "outputs": [
    {
     "name": "stdout",
     "output_type": "stream",
     "text": [
      "tibble [1,850 × 3] (S3: tbl_df/tbl/data.frame)\n",
      " $ GO.IDs: chr [1:1850] \" GO:0000278\" \" GO:0002181\" \" GO:0002376\" \" GO:0005975\" ...\n",
      " $ GOslim: chr [1:1850] \"GO:0000278\" \"GO:0002181\" \"GO:0002376\" \"GO:0005975\" ...\n",
      " $ Term  : chr [1:1850] \"mitotic cell cycle\" \"cytoplasmic translation\" \"immune system process\" \"carbohydrate metabolic process\" ...\n"
     ]
    },
    {
     "data": {
      "text/html": [
       "<table class=\"dataframe\">\n",
       "<caption>A tibble: 6 × 3</caption>\n",
       "<thead>\n",
       "\t<tr><th scope=col>GO.IDs</th><th scope=col>GOslim</th><th scope=col>Term</th></tr>\n",
       "\t<tr><th scope=col>&lt;chr&gt;</th><th scope=col>&lt;chr&gt;</th><th scope=col>&lt;chr&gt;</th></tr>\n",
       "</thead>\n",
       "<tbody>\n",
       "\t<tr><td> GO:0000278</td><td>GO:0000278</td><td>mitotic cell cycle                            </td></tr>\n",
       "\t<tr><td> GO:0002181</td><td>GO:0002181</td><td>cytoplasmic translation                       </td></tr>\n",
       "\t<tr><td> GO:0002376</td><td>GO:0002376</td><td>immune system process                         </td></tr>\n",
       "\t<tr><td> GO:0005975</td><td>GO:0005975</td><td>carbohydrate metabolic process                </td></tr>\n",
       "\t<tr><td> GO:0006091</td><td>GO:0006091</td><td>generation of precursor metabolites and energy</td></tr>\n",
       "\t<tr><td> GO:0006260</td><td>GO:0006260</td><td>DNA replication                               </td></tr>\n",
       "</tbody>\n",
       "</table>\n"
      ],
      "text/latex": [
       "A tibble: 6 × 3\n",
       "\\begin{tabular}{lll}\n",
       " GO.IDs & GOslim & Term\\\\\n",
       " <chr> & <chr> & <chr>\\\\\n",
       "\\hline\n",
       "\t  GO:0000278 & GO:0000278 & mitotic cell cycle                            \\\\\n",
       "\t  GO:0002181 & GO:0002181 & cytoplasmic translation                       \\\\\n",
       "\t  GO:0002376 & GO:0002376 & immune system process                         \\\\\n",
       "\t  GO:0005975 & GO:0005975 & carbohydrate metabolic process                \\\\\n",
       "\t  GO:0006091 & GO:0006091 & generation of precursor metabolites and energy\\\\\n",
       "\t  GO:0006260 & GO:0006260 & DNA replication                               \\\\\n",
       "\\end{tabular}\n"
      ],
      "text/markdown": [
       "\n",
       "A tibble: 6 × 3\n",
       "\n",
       "| GO.IDs &lt;chr&gt; | GOslim &lt;chr&gt; | Term &lt;chr&gt; |\n",
       "|---|---|---|\n",
       "|  GO:0000278 | GO:0000278 | mitotic cell cycle                             |\n",
       "|  GO:0002181 | GO:0002181 | cytoplasmic translation                        |\n",
       "|  GO:0002376 | GO:0002376 | immune system process                          |\n",
       "|  GO:0005975 | GO:0005975 | carbohydrate metabolic process                 |\n",
       "|  GO:0006091 | GO:0006091 | generation of precursor metabolites and energy |\n",
       "|  GO:0006260 | GO:0006260 | DNA replication                                |\n",
       "\n"
      ],
      "text/plain": [
       "  GO.IDs      GOslim     Term                                          \n",
       "1  GO:0000278 GO:0000278 mitotic cell cycle                            \n",
       "2  GO:0002181 GO:0002181 cytoplasmic translation                       \n",
       "3  GO:0002376 GO:0002376 immune system process                         \n",
       "4  GO:0005975 GO:0005975 carbohydrate metabolic process                \n",
       "5  GO:0006091 GO:0006091 generation of precursor metabolites and energy\n",
       "6  GO:0006260 GO:0006260 DNA replication                               "
      ]
     },
     "metadata": {},
     "output_type": "display_data"
    }
   ],
   "source": [
    "# copied from workflow pipeline linked above\n",
    "\n",
    "# flatten-GOslims-file\n",
    "\n",
    "# \"Flatten\" file so each row is single GO ID with corresponding GOslim\n",
    "# rownames_to_column needed to retain row name info\n",
    "slimdf_separated <- as.data.frame(slimdf %>%\n",
    "  rownames_to_column('GOslim') %>%\n",
    "  separate_rows(GO.IDs, sep = \";\"))\n",
    "\n",
    "# Group by unique GO ID\n",
    "grouped_slimdf <- slimdf_separated %>%\n",
    "  filter(!is.na(GO.IDs) & GO.IDs != \"\") %>%\n",
    "  group_by(GO.IDs) %>%\n",
    "  summarize(GOslim = paste(GOslim, collapse = \";\"),\n",
    "            Term = paste(Term, collapse = \";\"))\n",
    "\n",
    "\n",
    "str(grouped_slimdf)\n",
    "head(grouped_slimdf)"
   ]
  },
  {
   "cell_type": "code",
   "execution_count": 65,
   "id": "2704ffca-9758-4429-9510-cbdc3663768c",
   "metadata": {},
   "outputs": [
    {
     "name": "stdout",
     "output_type": "stream",
     "text": [
      "'data.frame':\t72 obs. of  2 variables:\n",
      " $ Term : chr  \"signaling\" \"carbohydrate derivative metabolic process\" \"lipid metabolic process\" \"anatomical structure development\" ...\n",
      " $ Count: int  232 151 133 126 119 98 96 94 78 77 ...\n"
     ]
    },
    {
     "data": {
      "text/html": [
       "<table class=\"dataframe\">\n",
       "<caption>A data.frame: 6 × 2</caption>\n",
       "<thead>\n",
       "\t<tr><th></th><th scope=col>Term</th><th scope=col>Count</th></tr>\n",
       "\t<tr><th></th><th scope=col>&lt;chr&gt;</th><th scope=col>&lt;int&gt;</th></tr>\n",
       "</thead>\n",
       "<tbody>\n",
       "\t<tr><th scope=row>GO:0023052</th><td>signaling                                             </td><td>232</td></tr>\n",
       "\t<tr><th scope=row>GO:1901135</th><td>carbohydrate derivative metabolic process             </td><td>151</td></tr>\n",
       "\t<tr><th scope=row>GO:0006629</th><td>lipid metabolic process                               </td><td>133</td></tr>\n",
       "\t<tr><th scope=row>GO:0048856</th><td>anatomical structure development                      </td><td>126</td></tr>\n",
       "\t<tr><th scope=row>GO:0055086</th><td>nucleobase-containing small molecule metabolic process</td><td>119</td></tr>\n",
       "\t<tr><th scope=row>GO:0006520</th><td>amino acid metabolic process                          </td><td> 98</td></tr>\n",
       "</tbody>\n",
       "</table>\n"
      ],
      "text/latex": [
       "A data.frame: 6 × 2\n",
       "\\begin{tabular}{r|ll}\n",
       "  & Term & Count\\\\\n",
       "  & <chr> & <int>\\\\\n",
       "\\hline\n",
       "\tGO:0023052 & signaling                                              & 232\\\\\n",
       "\tGO:1901135 & carbohydrate derivative metabolic process              & 151\\\\\n",
       "\tGO:0006629 & lipid metabolic process                                & 133\\\\\n",
       "\tGO:0048856 & anatomical structure development                       & 126\\\\\n",
       "\tGO:0055086 & nucleobase-containing small molecule metabolic process & 119\\\\\n",
       "\tGO:0006520 & amino acid metabolic process                           &  98\\\\\n",
       "\\end{tabular}\n"
      ],
      "text/markdown": [
       "\n",
       "A data.frame: 6 × 2\n",
       "\n",
       "| <!--/--> | Term &lt;chr&gt; | Count &lt;int&gt; |\n",
       "|---|---|---|\n",
       "| GO:0023052 | signaling                                              | 232 |\n",
       "| GO:1901135 | carbohydrate derivative metabolic process              | 151 |\n",
       "| GO:0006629 | lipid metabolic process                                | 133 |\n",
       "| GO:0048856 | anatomical structure development                       | 126 |\n",
       "| GO:0055086 | nucleobase-containing small molecule metabolic process | 119 |\n",
       "| GO:0006520 | amino acid metabolic process                           |  98 |\n",
       "\n"
      ],
      "text/plain": [
       "           Term                                                   Count\n",
       "GO:0023052 signaling                                              232  \n",
       "GO:1901135 carbohydrate derivative metabolic process              151  \n",
       "GO:0006629 lipid metabolic process                                133  \n",
       "GO:0048856 anatomical structure development                       126  \n",
       "GO:0055086 nucleobase-containing small molecule metabolic process 119  \n",
       "GO:0006520 amino acid metabolic process                            98  "
      ]
     },
     "metadata": {},
     "output_type": "display_data"
    }
   ],
   "source": [
    "# copied from workflow pipeline linked above\n",
    "\n",
    "# sort and select slimdf counts\n",
    "\n",
    "slimdf.sorted <- slimdf %>% arrange(desc(Count))\n",
    "\n",
    "slim.count.df <- slimdf.sorted[,c(3,1)]\n",
    " # select(Term, Count)\n",
    "\n",
    "str(slim.count.df)\n",
    "\n",
    "head(slim.count.df)"
   ]
  },
  {
   "cell_type": "markdown",
   "id": "50beb8db-4cfa-479e-a78e-7599499bccd1",
   "metadata": {},
   "source": [
    "here, count means out of the whole genome/GOslim file, the number of GO IDs that fall into that GOslim term\n"
   ]
  },
  {
   "cell_type": "code",
   "execution_count": 88,
   "id": "00896102-a6c6-4ee6-a86a-22e2bb525f20",
   "metadata": {},
   "outputs": [
    {
     "data": {
      "text/html": [
       "<table class=\"dataframe\">\n",
       "<caption>A tibble: 6 × 3</caption>\n",
       "<thead>\n",
       "\t<tr><th scope=col>GO.IDs</th><th scope=col>GOslim</th><th scope=col>Term</th></tr>\n",
       "\t<tr><th scope=col>&lt;chr&gt;</th><th scope=col>&lt;chr&gt;</th><th scope=col>&lt;chr&gt;</th></tr>\n",
       "</thead>\n",
       "<tbody>\n",
       "\t<tr><td> GO:0000278</td><td>GO:0000278</td><td>mitotic cell cycle                            </td></tr>\n",
       "\t<tr><td> GO:0002181</td><td>GO:0002181</td><td>cytoplasmic translation                       </td></tr>\n",
       "\t<tr><td> GO:0002376</td><td>GO:0002376</td><td>immune system process                         </td></tr>\n",
       "\t<tr><td> GO:0005975</td><td>GO:0005975</td><td>carbohydrate metabolic process                </td></tr>\n",
       "\t<tr><td> GO:0006091</td><td>GO:0006091</td><td>generation of precursor metabolites and energy</td></tr>\n",
       "\t<tr><td> GO:0006260</td><td>GO:0006260</td><td>DNA replication                               </td></tr>\n",
       "</tbody>\n",
       "</table>\n"
      ],
      "text/latex": [
       "A tibble: 6 × 3\n",
       "\\begin{tabular}{lll}\n",
       " GO.IDs & GOslim & Term\\\\\n",
       " <chr> & <chr> & <chr>\\\\\n",
       "\\hline\n",
       "\t  GO:0000278 & GO:0000278 & mitotic cell cycle                            \\\\\n",
       "\t  GO:0002181 & GO:0002181 & cytoplasmic translation                       \\\\\n",
       "\t  GO:0002376 & GO:0002376 & immune system process                         \\\\\n",
       "\t  GO:0005975 & GO:0005975 & carbohydrate metabolic process                \\\\\n",
       "\t  GO:0006091 & GO:0006091 & generation of precursor metabolites and energy\\\\\n",
       "\t  GO:0006260 & GO:0006260 & DNA replication                               \\\\\n",
       "\\end{tabular}\n"
      ],
      "text/markdown": [
       "\n",
       "A tibble: 6 × 3\n",
       "\n",
       "| GO.IDs &lt;chr&gt; | GOslim &lt;chr&gt; | Term &lt;chr&gt; |\n",
       "|---|---|---|\n",
       "|  GO:0000278 | GO:0000278 | mitotic cell cycle                             |\n",
       "|  GO:0002181 | GO:0002181 | cytoplasmic translation                        |\n",
       "|  GO:0002376 | GO:0002376 | immune system process                          |\n",
       "|  GO:0005975 | GO:0005975 | carbohydrate metabolic process                 |\n",
       "|  GO:0006091 | GO:0006091 | generation of precursor metabolites and energy |\n",
       "|  GO:0006260 | GO:0006260 | DNA replication                                |\n",
       "\n"
      ],
      "text/plain": [
       "  GO.IDs      GOslim     Term                                          \n",
       "1  GO:0000278 GO:0000278 mitotic cell cycle                            \n",
       "2  GO:0002181 GO:0002181 cytoplasmic translation                       \n",
       "3  GO:0002376 GO:0002376 immune system process                         \n",
       "4  GO:0005975 GO:0005975 carbohydrate metabolic process                \n",
       "5  GO:0006091 GO:0006091 generation of precursor metabolites and energy\n",
       "6  GO:0006260 GO:0006260 DNA replication                               "
      ]
     },
     "metadata": {},
     "output_type": "display_data"
    },
    {
     "data": {
      "text/html": [
       "<table class=\"dataframe\">\n",
       "<caption>A tibble: 6 × 2</caption>\n",
       "<thead>\n",
       "\t<tr><th scope=col>gene_id</th><th scope=col>Gene.Ontology.IDs</th></tr>\n",
       "\t<tr><th scope=col>&lt;chr&gt;</th><th scope=col>&lt;chr&gt;</th></tr>\n",
       "</thead>\n",
       "<tbody>\n",
       "\t<tr><td>LOC111099029</td><td>GO:0005261</td></tr>\n",
       "\t<tr><td>LOC111099029</td><td>GO:0098655</td></tr>\n",
       "\t<tr><td>LOC111099032</td><td>GO:0004930</td></tr>\n",
       "\t<tr><td>LOC111099032</td><td>GO:0005886</td></tr>\n",
       "\t<tr><td>LOC111099032</td><td>GO:0007186</td></tr>\n",
       "\t<tr><td>LOC111099033</td><td>GO:0016020</td></tr>\n",
       "</tbody>\n",
       "</table>\n"
      ],
      "text/latex": [
       "A tibble: 6 × 2\n",
       "\\begin{tabular}{ll}\n",
       " gene\\_id & Gene.Ontology.IDs\\\\\n",
       " <chr> & <chr>\\\\\n",
       "\\hline\n",
       "\t LOC111099029 & GO:0005261\\\\\n",
       "\t LOC111099029 & GO:0098655\\\\\n",
       "\t LOC111099032 & GO:0004930\\\\\n",
       "\t LOC111099032 & GO:0005886\\\\\n",
       "\t LOC111099032 & GO:0007186\\\\\n",
       "\t LOC111099033 & GO:0016020\\\\\n",
       "\\end{tabular}\n"
      ],
      "text/markdown": [
       "\n",
       "A tibble: 6 × 2\n",
       "\n",
       "| gene_id &lt;chr&gt; | Gene.Ontology.IDs &lt;chr&gt; |\n",
       "|---|---|\n",
       "| LOC111099029 | GO:0005261 |\n",
       "| LOC111099029 | GO:0098655 |\n",
       "| LOC111099032 | GO:0004930 |\n",
       "| LOC111099032 | GO:0005886 |\n",
       "| LOC111099032 | GO:0007186 |\n",
       "| LOC111099033 | GO:0016020 |\n",
       "\n"
      ],
      "text/plain": [
       "  gene_id      Gene.Ontology.IDs\n",
       "1 LOC111099029 GO:0005261       \n",
       "2 LOC111099029 GO:0098655       \n",
       "3 LOC111099032 GO:0004930       \n",
       "4 LOC111099032 GO:0005886       \n",
       "5 LOC111099032 GO:0007186       \n",
       "6 LOC111099033 GO:0016020       "
      ]
     },
     "metadata": {},
     "output_type": "display_data"
    }
   ],
   "source": [
    "head(grouped_slimdf)\n",
    "head(flat.gene.GO.df)"
   ]
  },
  {
   "cell_type": "markdown",
   "id": "5b869049-ea18-4fd1-ace1-ec1e0cc5f113",
   "metadata": {},
   "source": [
    "\n",
    "so have two flat dfs - one that has one gene and one GO ID per row, and one with one GO ID and one GOslim term per row - want to merge them to get a new flat df with one gene and one GOslim term per row"
   ]
  },
  {
   "cell_type": "code",
   "execution_count": 66,
   "id": "ed4f3232-6a20-45c5-98a4-d8e563b21c13",
   "metadata": {},
   "outputs": [
    {
     "data": {
      "text/html": [
       "<table class=\"dataframe\">\n",
       "<caption>A data.frame: 6 × 4</caption>\n",
       "<thead>\n",
       "\t<tr><th></th><th scope=col>GO.IDs</th><th scope=col>GOslim</th><th scope=col>Term</th><th scope=col>gene_id</th></tr>\n",
       "\t<tr><th></th><th scope=col>&lt;chr&gt;</th><th scope=col>&lt;chr&gt;</th><th scope=col>&lt;chr&gt;</th><th scope=col>&lt;chr&gt;</th></tr>\n",
       "</thead>\n",
       "<tbody>\n",
       "\t<tr><th scope=row>1</th><td>GO:0000012</td><td>GO:0006281</td><td>DNA repair</td><td>LOC111111868</td></tr>\n",
       "\t<tr><th scope=row>2</th><td>GO:0000012</td><td>GO:0006281</td><td>DNA repair</td><td>LOC111128425</td></tr>\n",
       "\t<tr><th scope=row>3</th><td>GO:0000012</td><td>GO:0006281</td><td>DNA repair</td><td>LOC111135198</td></tr>\n",
       "\t<tr><th scope=row>4</th><td>GO:0000012</td><td>GO:0006281</td><td>DNA repair</td><td>LOC111111498</td></tr>\n",
       "\t<tr><th scope=row>5</th><td>GO:0000012</td><td>GO:0006281</td><td>DNA repair</td><td>LOC111128516</td></tr>\n",
       "\t<tr><th scope=row>6</th><td>GO:0000012</td><td>GO:0006281</td><td>DNA repair</td><td>LOC111136704</td></tr>\n",
       "</tbody>\n",
       "</table>\n"
      ],
      "text/latex": [
       "A data.frame: 6 × 4\n",
       "\\begin{tabular}{r|llll}\n",
       "  & GO.IDs & GOslim & Term & gene\\_id\\\\\n",
       "  & <chr> & <chr> & <chr> & <chr>\\\\\n",
       "\\hline\n",
       "\t1 & GO:0000012 & GO:0006281 & DNA repair & LOC111111868\\\\\n",
       "\t2 & GO:0000012 & GO:0006281 & DNA repair & LOC111128425\\\\\n",
       "\t3 & GO:0000012 & GO:0006281 & DNA repair & LOC111135198\\\\\n",
       "\t4 & GO:0000012 & GO:0006281 & DNA repair & LOC111111498\\\\\n",
       "\t5 & GO:0000012 & GO:0006281 & DNA repair & LOC111128516\\\\\n",
       "\t6 & GO:0000012 & GO:0006281 & DNA repair & LOC111136704\\\\\n",
       "\\end{tabular}\n"
      ],
      "text/markdown": [
       "\n",
       "A data.frame: 6 × 4\n",
       "\n",
       "| <!--/--> | GO.IDs &lt;chr&gt; | GOslim &lt;chr&gt; | Term &lt;chr&gt; | gene_id &lt;chr&gt; |\n",
       "|---|---|---|---|---|\n",
       "| 1 | GO:0000012 | GO:0006281 | DNA repair | LOC111111868 |\n",
       "| 2 | GO:0000012 | GO:0006281 | DNA repair | LOC111128425 |\n",
       "| 3 | GO:0000012 | GO:0006281 | DNA repair | LOC111135198 |\n",
       "| 4 | GO:0000012 | GO:0006281 | DNA repair | LOC111111498 |\n",
       "| 5 | GO:0000012 | GO:0006281 | DNA repair | LOC111128516 |\n",
       "| 6 | GO:0000012 | GO:0006281 | DNA repair | LOC111136704 |\n",
       "\n"
      ],
      "text/plain": [
       "  GO.IDs     GOslim     Term       gene_id     \n",
       "1 GO:0000012 GO:0006281 DNA repair LOC111111868\n",
       "2 GO:0000012 GO:0006281 DNA repair LOC111128425\n",
       "3 GO:0000012 GO:0006281 DNA repair LOC111135198\n",
       "4 GO:0000012 GO:0006281 DNA repair LOC111111498\n",
       "5 GO:0000012 GO:0006281 DNA repair LOC111128516\n",
       "6 GO:0000012 GO:0006281 DNA repair LOC111136704"
      ]
     },
     "metadata": {},
     "output_type": "display_data"
    }
   ],
   "source": [
    "# change column name to same as grouped_slimdf\n",
    "colnames(flat.gene.GO.df) <- c('gene_id', 'GO.IDs')\n",
    "\n",
    "gene2GOslim <- merge(grouped_slimdf, flat.gene.GO.df, by = 'GO.IDs')\n",
    "head(gene2GOslim)"
   ]
  },
  {
   "cell_type": "markdown",
   "id": "428646a1-33cd-4744-bbe0-0bd8f58c9a02",
   "metadata": {},
   "source": [
    "The code above just used `goSlim()` on a provided set of GO IDs - the ones I provided were the entire set of genes in *C. virginica* - I think, according to this [Bioconductor forum response](https://support.bioconductor.org/p/128407/#128408), I can provide my list of genes and GO IDs from the pairwise comparison and run `goSlim()`(/all of the code above?) and it will spit out counts and percentage for me? \n",
    "\n",
    "I guess my question becomes:\n",
    "- I ran GO-MWU on *all* of my genes, not just the ones that were significant, using log2FC as my measure of significance - that would be my input for this?\n",
    "- I shouldn't take my list of significant DMG and just match it to the GO term and GOslim term? "
   ]
  },
  {
   "cell_type": "markdown",
   "id": "4da1f3b5-d2f1-4a6a-b9bf-6712a7e2ffb0",
   "metadata": {},
   "source": [
    "\n",
    "\n",
    "following protocol from [paper-gonad-meth repo](https://github.com/epigeneticstoocean/paper-gonad-meth/tree/master), fitting [this pipeline](https://github.com/epigeneticstoocean/paper-gonad-meth/blob/master/code/14-Gene-Enrichment-with-GO-MWU.Rmd) to my GOSlim and GO-MWU files\n",
    "\n",
    "all GO-MWU files were created from [GO-MWU.R](https://github.com/jgmcdonough/CE18_methylRAD_analysis/blob/master/analysis/DMGs_analysis/go_mwu/GO_MWU.R) - all **biological process** and using log2FoldChange as measure of significance\n",
    "\n",
    "\n",
    "starting with:\n",
    "\n",
    "## CH vs. HC\n"
   ]
  },
  {
   "cell_type": "code",
   "execution_count": 22,
   "id": "e27b3b57-3cc8-4095-82e9-23a443878ab3",
   "metadata": {},
   "outputs": [
    {
     "data": {
      "text/html": [
       "<table class=\"dataframe\">\n",
       "<caption>A data.frame: 6 × 2</caption>\n",
       "<thead>\n",
       "\t<tr><th></th><th scope=col>gene_id</th><th scope=col>Gene.Ontology.IDs</th></tr>\n",
       "\t<tr><th></th><th scope=col>&lt;chr&gt;</th><th scope=col>&lt;chr&gt;</th></tr>\n",
       "</thead>\n",
       "<tbody>\n",
       "\t<tr><th scope=row>1</th><td>LOC111101101</td><td>GO:0007015;GO:0097435</td></tr>\n",
       "\t<tr><th scope=row>2</th><td>LOC111108074</td><td>GO:0007015;GO:0097435</td></tr>\n",
       "\t<tr><th scope=row>3</th><td>LOC111109780</td><td>GO:0007015;GO:0097435</td></tr>\n",
       "\t<tr><th scope=row>4</th><td>LOC111113129</td><td>GO:0007015;GO:0097435</td></tr>\n",
       "\t<tr><th scope=row>5</th><td>LOC111113355</td><td>GO:0007015;GO:0097435</td></tr>\n",
       "\t<tr><th scope=row>6</th><td>LOC111115662</td><td>GO:0007015;GO:0097435</td></tr>\n",
       "</tbody>\n",
       "</table>\n"
      ],
      "text/latex": [
       "A data.frame: 6 × 2\n",
       "\\begin{tabular}{r|ll}\n",
       "  & gene\\_id & Gene.Ontology.IDs\\\\\n",
       "  & <chr> & <chr>\\\\\n",
       "\\hline\n",
       "\t1 & LOC111101101 & GO:0007015;GO:0097435\\\\\n",
       "\t2 & LOC111108074 & GO:0007015;GO:0097435\\\\\n",
       "\t3 & LOC111109780 & GO:0007015;GO:0097435\\\\\n",
       "\t4 & LOC111113129 & GO:0007015;GO:0097435\\\\\n",
       "\t5 & LOC111113355 & GO:0007015;GO:0097435\\\\\n",
       "\t6 & LOC111115662 & GO:0007015;GO:0097435\\\\\n",
       "\\end{tabular}\n"
      ],
      "text/markdown": [
       "\n",
       "A data.frame: 6 × 2\n",
       "\n",
       "| <!--/--> | gene_id &lt;chr&gt; | Gene.Ontology.IDs &lt;chr&gt; |\n",
       "|---|---|---|\n",
       "| 1 | LOC111101101 | GO:0007015;GO:0097435 |\n",
       "| 2 | LOC111108074 | GO:0007015;GO:0097435 |\n",
       "| 3 | LOC111109780 | GO:0007015;GO:0097435 |\n",
       "| 4 | LOC111113129 | GO:0007015;GO:0097435 |\n",
       "| 5 | LOC111113355 | GO:0007015;GO:0097435 |\n",
       "| 6 | LOC111115662 | GO:0007015;GO:0097435 |\n",
       "\n"
      ],
      "text/plain": [
       "  gene_id      Gene.Ontology.IDs    \n",
       "1 LOC111101101 GO:0007015;GO:0097435\n",
       "2 LOC111108074 GO:0007015;GO:0097435\n",
       "3 LOC111109780 GO:0007015;GO:0097435\n",
       "4 LOC111113129 GO:0007015;GO:0097435\n",
       "5 LOC111113355 GO:0007015;GO:0097435\n",
       "6 LOC111115662 GO:0007015;GO:0097435"
      ]
     },
     "metadata": {},
     "output_type": "display_data"
    }
   ],
   "source": [
    "goMWU_ch <- read.csv('/project/pi_sarah_gignouxwolfsohn_uml_edu/julia/CE_MethylRAD_analysis_2018/analysis/DMGs_analysis/go_mwu/BP_allGenes_CH_lfc.csv', sep = '\\t')\n",
    "\n",
    "# change column name for gene to be the same in gene2GOslim\n",
    "colnames(goMWU_ch) <- c('name', 'Gene.Ontology.IDs', 'lev', 'gene_id', 'value')\n",
    "\n",
    "# only need gene_id and GO ID for input\n",
    "goMWU_ch <- goMWU_ch[,c(4,2)]\n",
    "\n",
    "head(goMWU_ch)"
   ]
  },
  {
   "cell_type": "code",
   "execution_count": 32,
   "id": "383d27c2-60bb-48ab-ac92-c664d50f0955",
   "metadata": {},
   "outputs": [],
   "source": [
    "write.csv(goMWU_ch, '/project/pi_sarah_gignouxwolfsohn_uml_edu/julia/CE_MethylRAD_analysis_2018/analysis/deseq_res_files/geneFeatures_res/go-mwu/goMWU_ch.csv', row.names = FALSE)"
   ]
  },
  {
   "cell_type": "code",
   "execution_count": 33,
   "id": "071907d7-5244-48bf-9141-d03d0478f7f3",
   "metadata": {},
   "outputs": [],
   "source": [
    "# copied from workflow pipeline linked above\n",
    "\n",
    "# set variables\n",
    "\n",
    "# Column names corresponding to gene name/ID and GO IDs\n",
    "GO.ID.column <- \"Gene.Ontology.IDs\"\n",
    "gene.ID.column <- \"gene_id\"\n",
    "\n",
    "# Relative path or URL to input file\n",
    "input.file <- '/project/pi_sarah_gignouxwolfsohn_uml_edu/julia/CE_MethylRAD_analysis_2018/analysis/deseq_res_files/geneFeatures_res/go-mwu/goMWU_ch.csv'\n",
    "\n",
    "\n",
    "##### Official GO info - no need to change #####\n",
    "goslims_obo <- \"goslim_generic.obo\"\n",
    "goslims_url <- \"http://current.geneontology.org/ontology/subsets/goslim_generic.obo\"\n"
   ]
  },
  {
   "cell_type": "code",
   "execution_count": 34,
   "id": "26693ba7-964d-4057-9958-7838c45862ef",
   "metadata": {},
   "outputs": [],
   "source": [
    "# copied from workflow pipeline linked above\n",
    "\n",
    "# download generic goslim-obo\n",
    "\n",
    "# Find GSEAbase installation location\n",
    "gseabase_location <- find.package(\"GSEABase\")\n",
    "\n",
    "# Load path to GOslim OBO file\n",
    "goslim_obo_destintation <- file.path(gseabase_location, \"extdata\", goslims_obo, fsep = \"/\")\n",
    "\n",
    "# Download the GOslim OBO file\n",
    "download.file(url = goslims_url, destfile = goslim_obo_destintation)\n",
    "\n",
    "# Loads package files\n",
    "gseabase_files <- system.file(\"extdata\", goslims_obo, package=\"GSEABase\")"
   ]
  },
  {
   "cell_type": "markdown",
   "id": "e3fb37f6-1abe-4644-aa5e-c1b00b600d65",
   "metadata": {},
   "source": [
    "one unique gene per row, multiple GO IDs per gene"
   ]
  },
  {
   "cell_type": "code",
   "execution_count": 35,
   "id": "9a5b16cf-ff4a-4bd7-8b27-3ed278209267",
   "metadata": {},
   "outputs": [
    {
     "name": "stdout",
     "output_type": "stream",
     "text": [
      "'data.frame':\t6755 obs. of  2 variables:\n",
      " $ gene_id          : chr  \"LOC111101101\" \"LOC111108074\" \"LOC111109780\" \"LOC111113129\" ...\n",
      " $ Gene.Ontology.IDs: chr  \"GO:0007015;GO:0097435\" \"GO:0007015;GO:0097435\" \"GO:0007015;GO:0097435\" \"GO:0007015;GO:0097435\" ...\n"
     ]
    },
    {
     "data": {
      "text/html": [
       "<table class=\"dataframe\">\n",
       "<caption>A data.frame: 6 × 2</caption>\n",
       "<thead>\n",
       "\t<tr><th></th><th scope=col>gene_id</th><th scope=col>Gene.Ontology.IDs</th></tr>\n",
       "\t<tr><th></th><th scope=col>&lt;chr&gt;</th><th scope=col>&lt;chr&gt;</th></tr>\n",
       "</thead>\n",
       "<tbody>\n",
       "\t<tr><th scope=row>1</th><td>LOC111101101</td><td>GO:0007015;GO:0097435</td></tr>\n",
       "\t<tr><th scope=row>2</th><td>LOC111108074</td><td>GO:0007015;GO:0097435</td></tr>\n",
       "\t<tr><th scope=row>3</th><td>LOC111109780</td><td>GO:0007015;GO:0097435</td></tr>\n",
       "\t<tr><th scope=row>4</th><td>LOC111113129</td><td>GO:0007015;GO:0097435</td></tr>\n",
       "\t<tr><th scope=row>5</th><td>LOC111113355</td><td>GO:0007015;GO:0097435</td></tr>\n",
       "\t<tr><th scope=row>6</th><td>LOC111115662</td><td>GO:0007015;GO:0097435</td></tr>\n",
       "</tbody>\n",
       "</table>\n"
      ],
      "text/latex": [
       "A data.frame: 6 × 2\n",
       "\\begin{tabular}{r|ll}\n",
       "  & gene\\_id & Gene.Ontology.IDs\\\\\n",
       "  & <chr> & <chr>\\\\\n",
       "\\hline\n",
       "\t1 & LOC111101101 & GO:0007015;GO:0097435\\\\\n",
       "\t2 & LOC111108074 & GO:0007015;GO:0097435\\\\\n",
       "\t3 & LOC111109780 & GO:0007015;GO:0097435\\\\\n",
       "\t4 & LOC111113129 & GO:0007015;GO:0097435\\\\\n",
       "\t5 & LOC111113355 & GO:0007015;GO:0097435\\\\\n",
       "\t6 & LOC111115662 & GO:0007015;GO:0097435\\\\\n",
       "\\end{tabular}\n"
      ],
      "text/markdown": [
       "\n",
       "A data.frame: 6 × 2\n",
       "\n",
       "| <!--/--> | gene_id &lt;chr&gt; | Gene.Ontology.IDs &lt;chr&gt; |\n",
       "|---|---|---|\n",
       "| 1 | LOC111101101 | GO:0007015;GO:0097435 |\n",
       "| 2 | LOC111108074 | GO:0007015;GO:0097435 |\n",
       "| 3 | LOC111109780 | GO:0007015;GO:0097435 |\n",
       "| 4 | LOC111113129 | GO:0007015;GO:0097435 |\n",
       "| 5 | LOC111113355 | GO:0007015;GO:0097435 |\n",
       "| 6 | LOC111115662 | GO:0007015;GO:0097435 |\n",
       "\n"
      ],
      "text/plain": [
       "  gene_id      Gene.Ontology.IDs    \n",
       "1 LOC111101101 GO:0007015;GO:0097435\n",
       "2 LOC111108074 GO:0007015;GO:0097435\n",
       "3 LOC111109780 GO:0007015;GO:0097435\n",
       "4 LOC111113129 GO:0007015;GO:0097435\n",
       "5 LOC111113355 GO:0007015;GO:0097435\n",
       "6 LOC111115662 GO:0007015;GO:0097435"
      ]
     },
     "metadata": {},
     "output_type": "display_data"
    }
   ],
   "source": [
    "# copied from workflow pipeline linked above\n",
    "\n",
    "# read in gene file\n",
    "\n",
    "full.gene.df <- read.csv(file = input.file, header = TRUE)\n",
    "\n",
    "str(full.gene.df)\n",
    "head(full.gene.df)"
   ]
  },
  {
   "cell_type": "code",
   "execution_count": 36,
   "id": "8f5bf905-28bf-4fdc-bb5a-33868bf6e5ba",
   "metadata": {},
   "outputs": [
    {
     "data": {
      "text/html": [
       "<table class=\"dataframe\">\n",
       "<caption>A data.frame: 6 × 2</caption>\n",
       "<thead>\n",
       "\t<tr><th></th><th scope=col>gene_id</th><th scope=col>Gene.Ontology.IDs</th></tr>\n",
       "\t<tr><th></th><th scope=col>&lt;chr&gt;</th><th scope=col>&lt;chr&gt;</th></tr>\n",
       "</thead>\n",
       "<tbody>\n",
       "\t<tr><th scope=row>1</th><td>LOC111101101</td><td>GO:0007015;GO:0097435</td></tr>\n",
       "\t<tr><th scope=row>2</th><td>LOC111108074</td><td>GO:0007015;GO:0097435</td></tr>\n",
       "\t<tr><th scope=row>3</th><td>LOC111109780</td><td>GO:0007015;GO:0097435</td></tr>\n",
       "\t<tr><th scope=row>4</th><td>LOC111113129</td><td>GO:0007015;GO:0097435</td></tr>\n",
       "\t<tr><th scope=row>5</th><td>LOC111113355</td><td>GO:0007015;GO:0097435</td></tr>\n",
       "\t<tr><th scope=row>6</th><td>LOC111115662</td><td>GO:0007015;GO:0097435</td></tr>\n",
       "</tbody>\n",
       "</table>\n"
      ],
      "text/latex": [
       "A data.frame: 6 × 2\n",
       "\\begin{tabular}{r|ll}\n",
       "  & gene\\_id & Gene.Ontology.IDs\\\\\n",
       "  & <chr> & <chr>\\\\\n",
       "\\hline\n",
       "\t1 & LOC111101101 & GO:0007015;GO:0097435\\\\\n",
       "\t2 & LOC111108074 & GO:0007015;GO:0097435\\\\\n",
       "\t3 & LOC111109780 & GO:0007015;GO:0097435\\\\\n",
       "\t4 & LOC111113129 & GO:0007015;GO:0097435\\\\\n",
       "\t5 & LOC111113355 & GO:0007015;GO:0097435\\\\\n",
       "\t6 & LOC111115662 & GO:0007015;GO:0097435\\\\\n",
       "\\end{tabular}\n"
      ],
      "text/markdown": [
       "\n",
       "A data.frame: 6 × 2\n",
       "\n",
       "| <!--/--> | gene_id &lt;chr&gt; | Gene.Ontology.IDs &lt;chr&gt; |\n",
       "|---|---|---|\n",
       "| 1 | LOC111101101 | GO:0007015;GO:0097435 |\n",
       "| 2 | LOC111108074 | GO:0007015;GO:0097435 |\n",
       "| 3 | LOC111109780 | GO:0007015;GO:0097435 |\n",
       "| 4 | LOC111113129 | GO:0007015;GO:0097435 |\n",
       "| 5 | LOC111113355 | GO:0007015;GO:0097435 |\n",
       "| 6 | LOC111115662 | GO:0007015;GO:0097435 |\n",
       "\n"
      ],
      "text/plain": [
       "  gene_id      Gene.Ontology.IDs    \n",
       "1 LOC111101101 GO:0007015;GO:0097435\n",
       "2 LOC111108074 GO:0007015;GO:0097435\n",
       "3 LOC111109780 GO:0007015;GO:0097435\n",
       "4 LOC111113129 GO:0007015;GO:0097435\n",
       "5 LOC111113355 GO:0007015;GO:0097435\n",
       "6 LOC111115662 GO:0007015;GO:0097435"
      ]
     },
     "metadata": {},
     "output_type": "display_data"
    }
   ],
   "source": [
    "# copied from workflow pipeline linked above\n",
    "\n",
    "# remove NA and uniprotIDs\n",
    "\n",
    "# Clean whitespace, filter NA/empty rows, select columns, and split GO terms using column name variables\n",
    "library(dplyr) # for some reason I'm having conflicts with select()\n",
    "gene.GO.df <- full.gene.df %>%\n",
    "  mutate(!!GO.ID.column := str_replace_all(.data[[GO.ID.column]], \"\\\\s*;\\\\s*\", \";\")) %>%\n",
    "  filter(!is.na(.data[[gene.ID.column]]) & !is.na(.data[[GO.ID.column]]) & .data[[GO.ID.column]] != \"\") %>%\n",
    "  dplyr::select(all_of(c(gene.ID.column, GO.ID.column)))\n",
    "\n",
    "head(gene.GO.df)"
   ]
  },
  {
   "cell_type": "markdown",
   "id": "d43f55e5-d2be-4a0c-9cc6-e3bb7f73a061",
   "metadata": {},
   "source": [
    "flatten df so only one gene and one GO ID per row"
   ]
  },
  {
   "cell_type": "code",
   "execution_count": 37,
   "id": "3a8e9c69-bb3b-41cb-a043-d27f5962a898",
   "metadata": {},
   "outputs": [
    {
     "name": "stdout",
     "output_type": "stream",
     "text": [
      "tibble [16,653 × 2] (S3: tbl_df/tbl/data.frame)\n",
      " $ gene_id          : chr [1:16653] \"LOC111101101\" \"LOC111101101\" \"LOC111108074\" \"LOC111108074\" ...\n",
      " $ Gene.Ontology.IDs: chr [1:16653] \"GO:0007015\" \"GO:0097435\" \"GO:0007015\" \"GO:0097435\" ...\n"
     ]
    },
    {
     "data": {
      "text/html": [
       "<table class=\"dataframe\">\n",
       "<caption>A tibble: 6 × 2</caption>\n",
       "<thead>\n",
       "\t<tr><th scope=col>gene_id</th><th scope=col>Gene.Ontology.IDs</th></tr>\n",
       "\t<tr><th scope=col>&lt;chr&gt;</th><th scope=col>&lt;chr&gt;</th></tr>\n",
       "</thead>\n",
       "<tbody>\n",
       "\t<tr><td>LOC111101101</td><td>GO:0007015</td></tr>\n",
       "\t<tr><td>LOC111101101</td><td>GO:0097435</td></tr>\n",
       "\t<tr><td>LOC111108074</td><td>GO:0007015</td></tr>\n",
       "\t<tr><td>LOC111108074</td><td>GO:0097435</td></tr>\n",
       "\t<tr><td>LOC111109780</td><td>GO:0007015</td></tr>\n",
       "\t<tr><td>LOC111109780</td><td>GO:0097435</td></tr>\n",
       "</tbody>\n",
       "</table>\n"
      ],
      "text/latex": [
       "A tibble: 6 × 2\n",
       "\\begin{tabular}{ll}\n",
       " gene\\_id & Gene.Ontology.IDs\\\\\n",
       " <chr> & <chr>\\\\\n",
       "\\hline\n",
       "\t LOC111101101 & GO:0007015\\\\\n",
       "\t LOC111101101 & GO:0097435\\\\\n",
       "\t LOC111108074 & GO:0007015\\\\\n",
       "\t LOC111108074 & GO:0097435\\\\\n",
       "\t LOC111109780 & GO:0007015\\\\\n",
       "\t LOC111109780 & GO:0097435\\\\\n",
       "\\end{tabular}\n"
      ],
      "text/markdown": [
       "\n",
       "A tibble: 6 × 2\n",
       "\n",
       "| gene_id &lt;chr&gt; | Gene.Ontology.IDs &lt;chr&gt; |\n",
       "|---|---|\n",
       "| LOC111101101 | GO:0007015 |\n",
       "| LOC111101101 | GO:0097435 |\n",
       "| LOC111108074 | GO:0007015 |\n",
       "| LOC111108074 | GO:0097435 |\n",
       "| LOC111109780 | GO:0007015 |\n",
       "| LOC111109780 | GO:0097435 |\n",
       "\n"
      ],
      "text/plain": [
       "  gene_id      Gene.Ontology.IDs\n",
       "1 LOC111101101 GO:0007015       \n",
       "2 LOC111101101 GO:0097435       \n",
       "3 LOC111108074 GO:0007015       \n",
       "4 LOC111108074 GO:0097435       \n",
       "5 LOC111109780 GO:0007015       \n",
       "6 LOC111109780 GO:0097435       "
      ]
     },
     "metadata": {},
     "output_type": "display_data"
    }
   ],
   "source": [
    "# copied from workflow pipeline linked above\n",
    "\n",
    "# flatten gene and GO IDs\n",
    "\n",
    "flat.gene.GO.df <- gene.GO.df %>% separate_rows(!!sym(GO.ID.column), sep = \";\")\n",
    "\n",
    "str(flat.gene.GO.df)\n",
    "head(flat.gene.GO.df)"
   ]
  },
  {
   "cell_type": "markdown",
   "id": "b9a83848-db77-4f24-bfbb-16b50caed200",
   "metadata": {},
   "source": [
    "Grouping by GO ID - one unique GO ID per row, multiple genes per GO ID"
   ]
  },
  {
   "cell_type": "code",
   "execution_count": 38,
   "id": "e9d4ddda-4647-474d-897c-aa94a6e5ca7a",
   "metadata": {},
   "outputs": [
    {
     "name": "stdout",
     "output_type": "stream",
     "text": [
      "tibble [496 × 2] (S3: tbl_df/tbl/data.frame)\n",
      " $ Gene.Ontology.IDs: chr [1:496] \"GO:0000012\" \"GO:0000027\" \"GO:0000028\" \"GO:0000045\" ...\n",
      " $ gene_id          : chr [1:496] \"LOC111111498,LOC111111868,LOC111128425,LOC111128516,LOC111135198,LOC111136704\" \"LOC111103620,LOC111109112,LOC111116477,LOC111118739,LOC111119745,LOC111119970,LOC111120109,LOC111120886,LOC1111\"| __truncated__ \"LOC111112561,LOC111118540,LOC111120557,LOC111121432,LOC111123620,LOC111125548,LOC111126883,LOC111127769,LOC1111\"| __truncated__ \"LOC111099721,LOC111099934,LOC111100289,LOC111100878,LOC111101815,LOC111102871,LOC111106048,LOC111108144,LOC1111\"| __truncated__ ...\n"
     ]
    },
    {
     "data": {
      "text/html": [
       "<table class=\"dataframe\">\n",
       "<caption>A tibble: 6 × 2</caption>\n",
       "<thead>\n",
       "\t<tr><th scope=col>Gene.Ontology.IDs</th><th scope=col>gene_id</th></tr>\n",
       "\t<tr><th scope=col>&lt;chr&gt;</th><th scope=col>&lt;chr&gt;</th></tr>\n",
       "</thead>\n",
       "<tbody>\n",
       "\t<tr><td>GO:0000012</td><td>LOC111111498,LOC111111868,LOC111128425,LOC111128516,LOC111135198,LOC111136704                                                                                                                                                                                                                                                                                                                                                                                                                                                                                    </td></tr>\n",
       "\t<tr><td>GO:0000027</td><td>LOC111103620,LOC111109112,LOC111116477,LOC111118739,LOC111119745,LOC111119970,LOC111120109,LOC111120886,LOC111120892,LOC111120994,LOC111121522,LOC111121958,LOC111129891,LOC111130039,LOC111132903,LOC111135538,LOC111136247,LOC111137006                                                                                                                                                                                                                                                                                                                        </td></tr>\n",
       "\t<tr><td>GO:0000028</td><td>LOC111112561,LOC111118540,LOC111120557,LOC111121432,LOC111123620,LOC111125548,LOC111126883,LOC111127769,LOC111128580,LOC111135312                                                                                                                                                                                                                                                                                                                                                                                                                                </td></tr>\n",
       "\t<tr><td>GO:0000045</td><td>LOC111099721,LOC111099934,LOC111100289,LOC111100878,LOC111101815,LOC111102871,LOC111106048,LOC111108144,LOC111111295,LOC111111995,LOC111118945,LOC111120809,LOC111122717,LOC111123325,LOC111124607,LOC111124610,LOC111125798,LOC111127040,LOC111127325,LOC111127879,LOC111127926,LOC111128047,LOC111128059,LOC111129370,LOC111131691,LOC111131738,LOC111132058,LOC111132962,LOC111133363,LOC111134873,LOC111136300,LOC111137152,LOC111110828,LOC111112253,LOC111123221,LOC111124399,LOC111126629,LOC111133574,LOC111133575,LOC111135792,LOC111136338,LOC111137481</td></tr>\n",
       "\t<tr><td>GO:0000054</td><td>LOC111106509,LOC111119150,LOC111119639,LOC111122535,LOC111125104,LOC111125671,LOC111129825,LOC111130459,LOC111133705,LOC111135936,LOC111136254,LOC111136517                                                                                                                                                                                                                                                                                                                                                                                                      </td></tr>\n",
       "\t<tr><td>GO:0000055</td><td>LOC111106509,LOC111119150,LOC111122535,LOC111129825,LOC111130459,LOC111135936                                                                                                                                                                                                                                                                                                                                                                                                                                                                                    </td></tr>\n",
       "</tbody>\n",
       "</table>\n"
      ],
      "text/latex": [
       "A tibble: 6 × 2\n",
       "\\begin{tabular}{ll}\n",
       " Gene.Ontology.IDs & gene\\_id\\\\\n",
       " <chr> & <chr>\\\\\n",
       "\\hline\n",
       "\t GO:0000012 & LOC111111498,LOC111111868,LOC111128425,LOC111128516,LOC111135198,LOC111136704                                                                                                                                                                                                                                                                                                                                                                                                                                                                                    \\\\\n",
       "\t GO:0000027 & LOC111103620,LOC111109112,LOC111116477,LOC111118739,LOC111119745,LOC111119970,LOC111120109,LOC111120886,LOC111120892,LOC111120994,LOC111121522,LOC111121958,LOC111129891,LOC111130039,LOC111132903,LOC111135538,LOC111136247,LOC111137006                                                                                                                                                                                                                                                                                                                        \\\\\n",
       "\t GO:0000028 & LOC111112561,LOC111118540,LOC111120557,LOC111121432,LOC111123620,LOC111125548,LOC111126883,LOC111127769,LOC111128580,LOC111135312                                                                                                                                                                                                                                                                                                                                                                                                                                \\\\\n",
       "\t GO:0000045 & LOC111099721,LOC111099934,LOC111100289,LOC111100878,LOC111101815,LOC111102871,LOC111106048,LOC111108144,LOC111111295,LOC111111995,LOC111118945,LOC111120809,LOC111122717,LOC111123325,LOC111124607,LOC111124610,LOC111125798,LOC111127040,LOC111127325,LOC111127879,LOC111127926,LOC111128047,LOC111128059,LOC111129370,LOC111131691,LOC111131738,LOC111132058,LOC111132962,LOC111133363,LOC111134873,LOC111136300,LOC111137152,LOC111110828,LOC111112253,LOC111123221,LOC111124399,LOC111126629,LOC111133574,LOC111133575,LOC111135792,LOC111136338,LOC111137481\\\\\n",
       "\t GO:0000054 & LOC111106509,LOC111119150,LOC111119639,LOC111122535,LOC111125104,LOC111125671,LOC111129825,LOC111130459,LOC111133705,LOC111135936,LOC111136254,LOC111136517                                                                                                                                                                                                                                                                                                                                                                                                      \\\\\n",
       "\t GO:0000055 & LOC111106509,LOC111119150,LOC111122535,LOC111129825,LOC111130459,LOC111135936                                                                                                                                                                                                                                                                                                                                                                                                                                                                                    \\\\\n",
       "\\end{tabular}\n"
      ],
      "text/markdown": [
       "\n",
       "A tibble: 6 × 2\n",
       "\n",
       "| Gene.Ontology.IDs &lt;chr&gt; | gene_id &lt;chr&gt; |\n",
       "|---|---|\n",
       "| GO:0000012 | LOC111111498,LOC111111868,LOC111128425,LOC111128516,LOC111135198,LOC111136704                                                                                                                                                                                                                                                                                                                                                                                                                                                                                     |\n",
       "| GO:0000027 | LOC111103620,LOC111109112,LOC111116477,LOC111118739,LOC111119745,LOC111119970,LOC111120109,LOC111120886,LOC111120892,LOC111120994,LOC111121522,LOC111121958,LOC111129891,LOC111130039,LOC111132903,LOC111135538,LOC111136247,LOC111137006                                                                                                                                                                                                                                                                                                                         |\n",
       "| GO:0000028 | LOC111112561,LOC111118540,LOC111120557,LOC111121432,LOC111123620,LOC111125548,LOC111126883,LOC111127769,LOC111128580,LOC111135312                                                                                                                                                                                                                                                                                                                                                                                                                                 |\n",
       "| GO:0000045 | LOC111099721,LOC111099934,LOC111100289,LOC111100878,LOC111101815,LOC111102871,LOC111106048,LOC111108144,LOC111111295,LOC111111995,LOC111118945,LOC111120809,LOC111122717,LOC111123325,LOC111124607,LOC111124610,LOC111125798,LOC111127040,LOC111127325,LOC111127879,LOC111127926,LOC111128047,LOC111128059,LOC111129370,LOC111131691,LOC111131738,LOC111132058,LOC111132962,LOC111133363,LOC111134873,LOC111136300,LOC111137152,LOC111110828,LOC111112253,LOC111123221,LOC111124399,LOC111126629,LOC111133574,LOC111133575,LOC111135792,LOC111136338,LOC111137481 |\n",
       "| GO:0000054 | LOC111106509,LOC111119150,LOC111119639,LOC111122535,LOC111125104,LOC111125671,LOC111129825,LOC111130459,LOC111133705,LOC111135936,LOC111136254,LOC111136517                                                                                                                                                                                                                                                                                                                                                                                                       |\n",
       "| GO:0000055 | LOC111106509,LOC111119150,LOC111122535,LOC111129825,LOC111130459,LOC111135936                                                                                                                                                                                                                                                                                                                                                                                                                                                                                     |\n",
       "\n"
      ],
      "text/plain": [
       "  Gene.Ontology.IDs\n",
       "1 GO:0000012       \n",
       "2 GO:0000027       \n",
       "3 GO:0000028       \n",
       "4 GO:0000045       \n",
       "5 GO:0000054       \n",
       "6 GO:0000055       \n",
       "  gene_id                                                                                                                                                                                                                                                                                                                                                                                                                                                                                                                                                          \n",
       "1 LOC111111498,LOC111111868,LOC111128425,LOC111128516,LOC111135198,LOC111136704                                                                                                                                                                                                                                                                                                                                                                                                                                                                                    \n",
       "2 LOC111103620,LOC111109112,LOC111116477,LOC111118739,LOC111119745,LOC111119970,LOC111120109,LOC111120886,LOC111120892,LOC111120994,LOC111121522,LOC111121958,LOC111129891,LOC111130039,LOC111132903,LOC111135538,LOC111136247,LOC111137006                                                                                                                                                                                                                                                                                                                        \n",
       "3 LOC111112561,LOC111118540,LOC111120557,LOC111121432,LOC111123620,LOC111125548,LOC111126883,LOC111127769,LOC111128580,LOC111135312                                                                                                                                                                                                                                                                                                                                                                                                                                \n",
       "4 LOC111099721,LOC111099934,LOC111100289,LOC111100878,LOC111101815,LOC111102871,LOC111106048,LOC111108144,LOC111111295,LOC111111995,LOC111118945,LOC111120809,LOC111122717,LOC111123325,LOC111124607,LOC111124610,LOC111125798,LOC111127040,LOC111127325,LOC111127879,LOC111127926,LOC111128047,LOC111128059,LOC111129370,LOC111131691,LOC111131738,LOC111132058,LOC111132962,LOC111133363,LOC111134873,LOC111136300,LOC111137152,LOC111110828,LOC111112253,LOC111123221,LOC111124399,LOC111126629,LOC111133574,LOC111133575,LOC111135792,LOC111136338,LOC111137481\n",
       "5 LOC111106509,LOC111119150,LOC111119639,LOC111122535,LOC111125104,LOC111125671,LOC111129825,LOC111130459,LOC111133705,LOC111135936,LOC111136254,LOC111136517                                                                                                                                                                                                                                                                                                                                                                                                      \n",
       "6 LOC111106509,LOC111119150,LOC111122535,LOC111129825,LOC111130459,LOC111135936                                                                                                                                                                                                                                                                                                                                                                                                                                                                                    "
      ]
     },
     "metadata": {},
     "output_type": "display_data"
    }
   ],
   "source": [
    "# copied from workflow pipeline linked above\n",
    "\n",
    "# group by GO\n",
    "\n",
    "grouped.gene.GO.df <- flat.gene.GO.df %>%\n",
    "  group_by(!!sym(GO.ID.column)) %>%\n",
    "  summarise(!!gene.ID.column := paste(.data[[gene.ID.column]], collapse = \",\"))\n",
    "\n",
    "str(grouped.gene.GO.df)\n",
    "head(grouped.gene.GO.df)"
   ]
  },
  {
   "cell_type": "markdown",
   "id": "df177c64-6943-4fe8-ac56-6696bd5e8e9b",
   "metadata": {},
   "source": [
    "#### Mapping GO IDs to GO Slim"
   ]
  },
  {
   "cell_type": "code",
   "execution_count": 39,
   "id": "3b79c166-22b4-4bdb-af36-f78ad64059ca",
   "metadata": {},
   "outputs": [
    {
     "name": "stdout",
     "output_type": "stream",
     "text": [
      " chr [1:496] \"GO:0000012\" \"GO:0000027\" \"GO:0000028\" \"GO:0000045\" ...\n"
     ]
    },
    {
     "data": {
      "text/html": [
       "<style>\n",
       ".list-inline {list-style: none; margin:0; padding: 0}\n",
       ".list-inline>li {display: inline-block}\n",
       ".list-inline>li:not(:last-child)::after {content: \"\\00b7\"; padding: 0 .5ex}\n",
       "</style>\n",
       "<ol class=list-inline><li>'GO:0000012'</li><li>'GO:0000027'</li><li>'GO:0000028'</li><li>'GO:0000045'</li><li>'GO:0000054'</li><li>'GO:0000055'</li></ol>\n"
      ],
      "text/latex": [
       "\\begin{enumerate*}\n",
       "\\item 'GO:0000012'\n",
       "\\item 'GO:0000027'\n",
       "\\item 'GO:0000028'\n",
       "\\item 'GO:0000045'\n",
       "\\item 'GO:0000054'\n",
       "\\item 'GO:0000055'\n",
       "\\end{enumerate*}\n"
      ],
      "text/markdown": [
       "1. 'GO:0000012'\n",
       "2. 'GO:0000027'\n",
       "3. 'GO:0000028'\n",
       "4. 'GO:0000045'\n",
       "5. 'GO:0000054'\n",
       "6. 'GO:0000055'\n",
       "\n",
       "\n"
      ],
      "text/plain": [
       "[1] \"GO:0000012\" \"GO:0000027\" \"GO:0000028\" \"GO:0000045\" \"GO:0000054\"\n",
       "[6] \"GO:0000055\""
      ]
     },
     "metadata": {},
     "output_type": "display_data"
    }
   ],
   "source": [
    "# copied from workflow pipeline linked above\n",
    "\n",
    "# Vectorize GO IDs\n",
    "go_ids <- grouped.gene.GO.df[[GO.ID.column]]\n",
    "\n",
    "str(go_ids)\n",
    "head(go_ids)"
   ]
  },
  {
   "cell_type": "code",
   "execution_count": 40,
   "id": "47a71546-fbce-4b3a-9cbc-0d6a519d1f02",
   "metadata": {},
   "outputs": [
    {
     "name": "stdout",
     "output_type": "stream",
     "text": [
      "Formal class 'OBOCollection' [package \"GSEABase\"] with 7 slots\n",
      "  ..@ .stanza     :'data.frame':\t153 obs. of  1 variable:\n",
      "  .. ..$ value: chr [1:153] \"Root\" \"Term\" \"Term\" \"Term\" ...\n",
      "  ..@ .subset     :'data.frame':\t22 obs. of  1 variable:\n",
      "  .. ..$ value: chr [1:22] \"Rhea list of ChEBI terms representing the major species at pH 7.3.\" \"Term not to be used for direct annotation\" \"Terms planned for obsoletion\" \"AGR slim\" ...\n",
      "  ..@ .kv         :'data.frame':\t2075 obs. of  3 variables:\n",
      "  .. ..$ stanza_id: chr [1:2075] \".__Root__\" \".__Root__\" \".__Root__\" \".__Root__\" ...\n",
      "  .. ..$ key      : chr [1:2075] \"format-version\" \"data-version\" \"synonymtypedef\" \"synonymtypedef\" ...\n",
      "  .. ..$ value    : chr [1:2075] \"1.2\" \"go/2024-11-03/subsets/goslim_generic.owl\" \"syngo_official_label \\\"label approved by the SynGO project\\\"\" \"systematic_synonym \\\"Systematic synonym\\\" EXACT\" ...\n",
      "  ..@ evidenceCode: chr [1:26] \"EXP\" \"IDA\" \"IPI\" \"IMP\" ...\n",
      "  ..@ ontology    : chr NA\n",
      "  ..@ ids         : chr [1:141] \"GO:0000228\" \"GO:0000278\" \"GO:0000910\" \"GO:0001618\" ...\n",
      "  ..@ type        : chr \"OBO\"\n"
     ]
    }
   ],
   "source": [
    "# copied from workflow pipeline linked above\n",
    "\n",
    "# extract GOslims from OBO\n",
    "\n",
    "# Create GSEAbase GOCollection using `go_ids`\n",
    "myCollection <- GOCollection(go_ids)\n",
    "\n",
    "# Retrieve GOslims from GO OBO file set\n",
    "slim <- getOBOCollection(gseabase_files)\n",
    "\n",
    "str(slim)"
   ]
  },
  {
   "cell_type": "code",
   "execution_count": 41,
   "id": "d0daa09a-a169-477b-b8ee-f5479f489727",
   "metadata": {},
   "outputs": [
    {
     "name": "stdout",
     "output_type": "stream",
     "text": [
      "'data.frame':\t72 obs. of  3 variables:\n",
      " $ Count  : int  9 3 2 4 0 0 0 0 6 0 ...\n",
      " $ Percent: num  3.543 1.181 0.787 1.575 0 ...\n",
      " $ Term   : chr  \"mitotic cell cycle\" \"cytokinesis\" \"cytoplasmic translation\" \"immune system process\" ...\n"
     ]
    },
    {
     "data": {
      "text/html": [
       "<table class=\"dataframe\">\n",
       "<caption>A data.frame: 6 × 3</caption>\n",
       "<thead>\n",
       "\t<tr><th></th><th scope=col>Count</th><th scope=col>Percent</th><th scope=col>Term</th></tr>\n",
       "\t<tr><th></th><th scope=col>&lt;int&gt;</th><th scope=col>&lt;dbl&gt;</th><th scope=col>&lt;chr&gt;</th></tr>\n",
       "</thead>\n",
       "<tbody>\n",
       "\t<tr><th scope=row>GO:0000278</th><td>9</td><td>3.5433071</td><td>mitotic cell cycle        </td></tr>\n",
       "\t<tr><th scope=row>GO:0000910</th><td>3</td><td>1.1811024</td><td>cytokinesis               </td></tr>\n",
       "\t<tr><th scope=row>GO:0002181</th><td>2</td><td>0.7874016</td><td>cytoplasmic translation   </td></tr>\n",
       "\t<tr><th scope=row>GO:0002376</th><td>4</td><td>1.5748031</td><td>immune system process     </td></tr>\n",
       "\t<tr><th scope=row>GO:0003012</th><td>0</td><td>0.0000000</td><td>muscle system process     </td></tr>\n",
       "\t<tr><th scope=row>GO:0003013</th><td>0</td><td>0.0000000</td><td>circulatory system process</td></tr>\n",
       "</tbody>\n",
       "</table>\n"
      ],
      "text/latex": [
       "A data.frame: 6 × 3\n",
       "\\begin{tabular}{r|lll}\n",
       "  & Count & Percent & Term\\\\\n",
       "  & <int> & <dbl> & <chr>\\\\\n",
       "\\hline\n",
       "\tGO:0000278 & 9 & 3.5433071 & mitotic cell cycle        \\\\\n",
       "\tGO:0000910 & 3 & 1.1811024 & cytokinesis               \\\\\n",
       "\tGO:0002181 & 2 & 0.7874016 & cytoplasmic translation   \\\\\n",
       "\tGO:0002376 & 4 & 1.5748031 & immune system process     \\\\\n",
       "\tGO:0003012 & 0 & 0.0000000 & muscle system process     \\\\\n",
       "\tGO:0003013 & 0 & 0.0000000 & circulatory system process\\\\\n",
       "\\end{tabular}\n"
      ],
      "text/markdown": [
       "\n",
       "A data.frame: 6 × 3\n",
       "\n",
       "| <!--/--> | Count &lt;int&gt; | Percent &lt;dbl&gt; | Term &lt;chr&gt; |\n",
       "|---|---|---|---|\n",
       "| GO:0000278 | 9 | 3.5433071 | mitotic cell cycle         |\n",
       "| GO:0000910 | 3 | 1.1811024 | cytokinesis                |\n",
       "| GO:0002181 | 2 | 0.7874016 | cytoplasmic translation    |\n",
       "| GO:0002376 | 4 | 1.5748031 | immune system process      |\n",
       "| GO:0003012 | 0 | 0.0000000 | muscle system process      |\n",
       "| GO:0003013 | 0 | 0.0000000 | circulatory system process |\n",
       "\n"
      ],
      "text/plain": [
       "           Count Percent   Term                      \n",
       "GO:0000278 9     3.5433071 mitotic cell cycle        \n",
       "GO:0000910 3     1.1811024 cytokinesis               \n",
       "GO:0002181 2     0.7874016 cytoplasmic translation   \n",
       "GO:0002376 4     1.5748031 immune system process     \n",
       "GO:0003012 0     0.0000000 muscle system process     \n",
       "GO:0003013 0     0.0000000 circulatory system process"
      ]
     },
     "metadata": {},
     "output_type": "display_data"
    }
   ],
   "source": [
    "# copied from workflow pipeline linked above\n",
    "\n",
    "# retrieve BP GOslims\n",
    "\n",
    "# Retrieve Biological Process (BP) GOslims\n",
    "slimdf <- goSlim(myCollection, slim, \"BP\", verbose)\n",
    "str(slimdf)\n",
    "head(slimdf)"
   ]
  },
  {
   "cell_type": "code",
   "execution_count": 42,
   "id": "38f12c70-36d4-4f65-9045-8ad80d205669",
   "metadata": {},
   "outputs": [
    {
     "data": {
      "text/html": [
       "<style>\n",
       ".list-inline {list-style: none; margin:0; padding: 0}\n",
       ".list-inline>li {display: inline-block}\n",
       ".list-inline>li:not(:last-child)::after {content: \"\\00b7\"; padding: 0 .5ex}\n",
       "</style>\n",
       "<ol class=list-inline><li>72</li><li>3</li></ol>\n"
      ],
      "text/latex": [
       "\\begin{enumerate*}\n",
       "\\item 72\n",
       "\\item 3\n",
       "\\end{enumerate*}\n"
      ],
      "text/markdown": [
       "1. 72\n",
       "2. 3\n",
       "\n",
       "\n"
      ],
      "text/plain": [
       "[1] 72  3"
      ]
     },
     "metadata": {},
     "output_type": "display_data"
    }
   ],
   "source": [
    "dim(slimdf) # 72 total GOslim terms"
   ]
  },
  {
   "cell_type": "markdown",
   "id": "92abf812-c0a0-4993-a721-ecd5c65aaa0b",
   "metadata": {},
   "source": [
    "so now have df with GOslim term and GO ID"
   ]
  },
  {
   "cell_type": "code",
   "execution_count": 43,
   "id": "46a46c23-c443-4001-acd5-dcc77c38ed4e",
   "metadata": {},
   "outputs": [
    {
     "name": "stdout",
     "output_type": "stream",
     "text": [
      "'data.frame':\t72 obs. of  4 variables:\n",
      " $ Count  : int  9 3 2 4 0 0 0 0 6 0 ...\n",
      " $ Percent: num  3.543 1.181 0.787 1.575 0 ...\n",
      " $ Term   : chr  \"mitotic cell cycle\" \"cytokinesis\" \"cytoplasmic translation\" \"immune system process\" ...\n",
      " $ GO.IDs : chr  \"GO:0000070;GO:0000082;GO:0000083;GO:0000086;GO:0000281;GO:0007346;GO:0044772;GO:1903047; GO:0000278\" \"GO:0000281;GO:0061640; GO:0000910\" \"GO:0001731; GO:0002181\" \"GO:0002221;GO:0002224;GO:0006955; GO:0002376\" ...\n"
     ]
    },
    {
     "data": {
      "text/html": [
       "<table class=\"dataframe\">\n",
       "<caption>A data.frame: 6 × 4</caption>\n",
       "<thead>\n",
       "\t<tr><th></th><th scope=col>Count</th><th scope=col>Percent</th><th scope=col>Term</th><th scope=col>GO.IDs</th></tr>\n",
       "\t<tr><th></th><th scope=col>&lt;int&gt;</th><th scope=col>&lt;dbl&gt;</th><th scope=col>&lt;chr&gt;</th><th scope=col>&lt;chr&gt;</th></tr>\n",
       "</thead>\n",
       "<tbody>\n",
       "\t<tr><th scope=row>GO:0000278</th><td>9</td><td>3.5433071</td><td>mitotic cell cycle        </td><td>GO:0000070;GO:0000082;GO:0000083;GO:0000086;GO:0000281;GO:0007346;GO:0044772;GO:1903047; GO:0000278</td></tr>\n",
       "\t<tr><th scope=row>GO:0000910</th><td>3</td><td>1.1811024</td><td>cytokinesis               </td><td>GO:0000281;GO:0061640; GO:0000910                                                                  </td></tr>\n",
       "\t<tr><th scope=row>GO:0002181</th><td>2</td><td>0.7874016</td><td>cytoplasmic translation   </td><td>GO:0001731; GO:0002181                                                                             </td></tr>\n",
       "\t<tr><th scope=row>GO:0002376</th><td>4</td><td>1.5748031</td><td>immune system process     </td><td>GO:0002221;GO:0002224;GO:0006955; GO:0002376                                                       </td></tr>\n",
       "\t<tr><th scope=row>GO:0003012</th><td>0</td><td>0.0000000</td><td>muscle system process     </td><td>                                                                                                   </td></tr>\n",
       "\t<tr><th scope=row>GO:0003013</th><td>0</td><td>0.0000000</td><td>circulatory system process</td><td>                                                                                                   </td></tr>\n",
       "</tbody>\n",
       "</table>\n"
      ],
      "text/latex": [
       "A data.frame: 6 × 4\n",
       "\\begin{tabular}{r|llll}\n",
       "  & Count & Percent & Term & GO.IDs\\\\\n",
       "  & <int> & <dbl> & <chr> & <chr>\\\\\n",
       "\\hline\n",
       "\tGO:0000278 & 9 & 3.5433071 & mitotic cell cycle         & GO:0000070;GO:0000082;GO:0000083;GO:0000086;GO:0000281;GO:0007346;GO:0044772;GO:1903047; GO:0000278\\\\\n",
       "\tGO:0000910 & 3 & 1.1811024 & cytokinesis                & GO:0000281;GO:0061640; GO:0000910                                                                  \\\\\n",
       "\tGO:0002181 & 2 & 0.7874016 & cytoplasmic translation    & GO:0001731; GO:0002181                                                                             \\\\\n",
       "\tGO:0002376 & 4 & 1.5748031 & immune system process      & GO:0002221;GO:0002224;GO:0006955; GO:0002376                                                       \\\\\n",
       "\tGO:0003012 & 0 & 0.0000000 & muscle system process      &                                                                                                    \\\\\n",
       "\tGO:0003013 & 0 & 0.0000000 & circulatory system process &                                                                                                    \\\\\n",
       "\\end{tabular}\n"
      ],
      "text/markdown": [
       "\n",
       "A data.frame: 6 × 4\n",
       "\n",
       "| <!--/--> | Count &lt;int&gt; | Percent &lt;dbl&gt; | Term &lt;chr&gt; | GO.IDs &lt;chr&gt; |\n",
       "|---|---|---|---|---|\n",
       "| GO:0000278 | 9 | 3.5433071 | mitotic cell cycle         | GO:0000070;GO:0000082;GO:0000083;GO:0000086;GO:0000281;GO:0007346;GO:0044772;GO:1903047; GO:0000278 |\n",
       "| GO:0000910 | 3 | 1.1811024 | cytokinesis                | GO:0000281;GO:0061640; GO:0000910                                                                   |\n",
       "| GO:0002181 | 2 | 0.7874016 | cytoplasmic translation    | GO:0001731; GO:0002181                                                                              |\n",
       "| GO:0002376 | 4 | 1.5748031 | immune system process      | GO:0002221;GO:0002224;GO:0006955; GO:0002376                                                        |\n",
       "| GO:0003012 | 0 | 0.0000000 | muscle system process      | <!----> |\n",
       "| GO:0003013 | 0 | 0.0000000 | circulatory system process | <!----> |\n",
       "\n"
      ],
      "text/plain": [
       "           Count Percent   Term                      \n",
       "GO:0000278 9     3.5433071 mitotic cell cycle        \n",
       "GO:0000910 3     1.1811024 cytokinesis               \n",
       "GO:0002181 2     0.7874016 cytoplasmic translation   \n",
       "GO:0002376 4     1.5748031 immune system process     \n",
       "GO:0003012 0     0.0000000 muscle system process     \n",
       "GO:0003013 0     0.0000000 circulatory system process\n",
       "           GO.IDs                                                                                             \n",
       "GO:0000278 GO:0000070;GO:0000082;GO:0000083;GO:0000086;GO:0000281;GO:0007346;GO:0044772;GO:1903047; GO:0000278\n",
       "GO:0000910 GO:0000281;GO:0061640; GO:0000910                                                                  \n",
       "GO:0002181 GO:0001731; GO:0002181                                                                             \n",
       "GO:0002376 GO:0002221;GO:0002224;GO:0006955; GO:0002376                                                       \n",
       "GO:0003012                                                                                                    \n",
       "GO:0003013                                                                                                    "
      ]
     },
     "metadata": {},
     "output_type": "display_data"
    }
   ],
   "source": [
    "# copied from workflow pipeline linked above\n",
    "\n",
    "#Map GO to GOslims\n",
    "\n",
    "# List of GOslims and all GO IDs from `go_ids`\n",
    "gomap <- as.list(GOBPOFFSPRING[rownames(slimdf)])\n",
    "\n",
    "# Maps `go_ids` to matching GOslims\n",
    "mapped <- lapply(gomap, intersect, ids(myCollection))\n",
    "\n",
    "# Append all mapped GO IDs to `slimdf`\n",
    "# `sapply` needed to apply paste() to create semi-colon delimited values\n",
    "slimdf$GO.IDs <- sapply(lapply(gomap, intersect, ids(myCollection)), paste, collapse=\";\")\n",
    "\n",
    "# Remove \"character(0) string from \"GO.IDs\" column\n",
    "slimdf$GO.IDs[slimdf$GO.IDs == \"character(0)\"] <- \"\"\n",
    "\n",
    "# Add self-matching GOIDs to \"GO.IDs\" column, if not present\n",
    "for (go_id in go_ids) {\n",
    "  # Check if the go_id is present in the row names\n",
    "  if (go_id %in% rownames(slimdf)) {\n",
    "    # Check if the go_id is not present in the GO.IDs column\n",
    "    # Also removes white space \"trimws()\" and converts all to upper case to handle\n",
    "    # any weird, \"invisible\" formatting issues.\n",
    "    if (!go_id %in% trimws(toupper(strsplit(slimdf[go_id, \"GO.IDs\"], \";\")[[1]]))) {\n",
    "      # Append the go_id to the GO.IDs column with a semi-colon separator\n",
    "      if (length(slimdf$GO.IDs) > 0 && nchar(slimdf$GO.IDs[nrow(slimdf)]) > 0) {\n",
    "        slimdf[go_id, \"GO.IDs\"] <- paste0(slimdf[go_id, \"GO.IDs\"], \"; \", go_id)\n",
    "      } else {\n",
    "        slimdf[go_id, \"GO.IDs\"] <- go_id\n",
    "      }\n",
    "    }\n",
    "  }\n",
    "}\n",
    "\n",
    "str(slimdf)\n",
    "head(slimdf)"
   ]
  },
  {
   "cell_type": "markdown",
   "id": "f0cdcb70-16ff-4c14-ae8a-2fc5c4a5a786",
   "metadata": {},
   "source": [
    "now have df with GOslim ID as the rowname and the corresponding GO IDs that fall within the GOslim term listed"
   ]
  },
  {
   "cell_type": "markdown",
   "id": "aee1d046-69bf-49e8-b18b-c77ffc9108d8",
   "metadata": {},
   "source": [
    "flatten GOslims file - one GO ID and one GOslim term per row"
   ]
  },
  {
   "cell_type": "code",
   "execution_count": 44,
   "id": "b7fa269e-bed7-4f84-bc2c-2874399d4ca9",
   "metadata": {},
   "outputs": [
    {
     "name": "stdout",
     "output_type": "stream",
     "text": [
      "tibble [219 × 3] (S3: tbl_df/tbl/data.frame)\n",
      " $ GO.IDs: chr [1:219] \" GO:0000278\" \" GO:0000910\" \" GO:0002181\" \" GO:0002376\" ...\n",
      " $ GOslim: chr [1:219] \"GO:0000278\" \"GO:0000910\" \"GO:0002181\" \"GO:0002376\" ...\n",
      " $ Term  : chr [1:219] \"mitotic cell cycle\" \"cytokinesis\" \"cytoplasmic translation\" \"immune system process\" ...\n"
     ]
    },
    {
     "data": {
      "text/html": [
       "<table class=\"dataframe\">\n",
       "<caption>A tibble: 6 × 3</caption>\n",
       "<thead>\n",
       "\t<tr><th scope=col>GO.IDs</th><th scope=col>GOslim</th><th scope=col>Term</th></tr>\n",
       "\t<tr><th scope=col>&lt;chr&gt;</th><th scope=col>&lt;chr&gt;</th><th scope=col>&lt;chr&gt;</th></tr>\n",
       "</thead>\n",
       "<tbody>\n",
       "\t<tr><td> GO:0000278</td><td>GO:0000278</td><td>mitotic cell cycle            </td></tr>\n",
       "\t<tr><td> GO:0000910</td><td>GO:0000910</td><td>cytokinesis                   </td></tr>\n",
       "\t<tr><td> GO:0002181</td><td>GO:0002181</td><td>cytoplasmic translation       </td></tr>\n",
       "\t<tr><td> GO:0002376</td><td>GO:0002376</td><td>immune system process         </td></tr>\n",
       "\t<tr><td> GO:0005975</td><td>GO:0005975</td><td>carbohydrate metabolic process</td></tr>\n",
       "\t<tr><td> GO:0006281</td><td>GO:0006281</td><td>DNA repair                    </td></tr>\n",
       "</tbody>\n",
       "</table>\n"
      ],
      "text/latex": [
       "A tibble: 6 × 3\n",
       "\\begin{tabular}{lll}\n",
       " GO.IDs & GOslim & Term\\\\\n",
       " <chr> & <chr> & <chr>\\\\\n",
       "\\hline\n",
       "\t  GO:0000278 & GO:0000278 & mitotic cell cycle            \\\\\n",
       "\t  GO:0000910 & GO:0000910 & cytokinesis                   \\\\\n",
       "\t  GO:0002181 & GO:0002181 & cytoplasmic translation       \\\\\n",
       "\t  GO:0002376 & GO:0002376 & immune system process         \\\\\n",
       "\t  GO:0005975 & GO:0005975 & carbohydrate metabolic process\\\\\n",
       "\t  GO:0006281 & GO:0006281 & DNA repair                    \\\\\n",
       "\\end{tabular}\n"
      ],
      "text/markdown": [
       "\n",
       "A tibble: 6 × 3\n",
       "\n",
       "| GO.IDs &lt;chr&gt; | GOslim &lt;chr&gt; | Term &lt;chr&gt; |\n",
       "|---|---|---|\n",
       "|  GO:0000278 | GO:0000278 | mitotic cell cycle             |\n",
       "|  GO:0000910 | GO:0000910 | cytokinesis                    |\n",
       "|  GO:0002181 | GO:0002181 | cytoplasmic translation        |\n",
       "|  GO:0002376 | GO:0002376 | immune system process          |\n",
       "|  GO:0005975 | GO:0005975 | carbohydrate metabolic process |\n",
       "|  GO:0006281 | GO:0006281 | DNA repair                     |\n",
       "\n"
      ],
      "text/plain": [
       "  GO.IDs      GOslim     Term                          \n",
       "1  GO:0000278 GO:0000278 mitotic cell cycle            \n",
       "2  GO:0000910 GO:0000910 cytokinesis                   \n",
       "3  GO:0002181 GO:0002181 cytoplasmic translation       \n",
       "4  GO:0002376 GO:0002376 immune system process         \n",
       "5  GO:0005975 GO:0005975 carbohydrate metabolic process\n",
       "6  GO:0006281 GO:0006281 DNA repair                    "
      ]
     },
     "metadata": {},
     "output_type": "display_data"
    }
   ],
   "source": [
    "# copied from workflow pipeline linked above\n",
    "\n",
    "# flatten-GOslims-file\n",
    "\n",
    "# \"Flatten\" file so each row is single GO ID with corresponding GOslim\n",
    "# rownames_to_column needed to retain row name info\n",
    "slimdf_separated <- as.data.frame(slimdf %>%\n",
    "  rownames_to_column('GOslim') %>%\n",
    "  separate_rows(GO.IDs, sep = \";\"))\n",
    "\n",
    "# Group by unique GO ID\n",
    "grouped_slimdf <- slimdf_separated %>%\n",
    "  filter(!is.na(GO.IDs) & GO.IDs != \"\") %>%\n",
    "  group_by(GO.IDs) %>%\n",
    "  summarize(GOslim = paste(GOslim, collapse = \";\"),\n",
    "            Term = paste(Term, collapse = \";\"))\n",
    "\n",
    "\n",
    "str(grouped_slimdf)\n",
    "head(grouped_slimdf)"
   ]
  },
  {
   "cell_type": "code",
   "execution_count": 45,
   "id": "2b79c2c8-0db7-499b-aaa0-b0252d16cd25",
   "metadata": {},
   "outputs": [
    {
     "name": "stdout",
     "output_type": "stream",
     "text": [
      "'data.frame':\t72 obs. of  2 variables:\n",
      " $ Term : chr  \"lipid metabolic process\" \"signaling\" \"mRNA metabolic process\" \"protein-containing complex assembly\" ...\n",
      " $ Count: int  21 21 18 12 11 11 10 9 9 7 ...\n"
     ]
    },
    {
     "data": {
      "text/html": [
       "<table class=\"dataframe\">\n",
       "<caption>A data.frame: 6 × 2</caption>\n",
       "<thead>\n",
       "\t<tr><th></th><th scope=col>Term</th><th scope=col>Count</th></tr>\n",
       "\t<tr><th></th><th scope=col>&lt;chr&gt;</th><th scope=col>&lt;int&gt;</th></tr>\n",
       "</thead>\n",
       "<tbody>\n",
       "\t<tr><th scope=row>GO:0006629</th><td>lipid metabolic process                  </td><td>21</td></tr>\n",
       "\t<tr><th scope=row>GO:0023052</th><td>signaling                                </td><td>21</td></tr>\n",
       "\t<tr><th scope=row>GO:0016071</th><td>mRNA metabolic process                   </td><td>18</td></tr>\n",
       "\t<tr><th scope=row>GO:0065003</th><td>protein-containing complex assembly      </td><td>12</td></tr>\n",
       "\t<tr><th scope=row>GO:0042254</th><td>ribosome biogenesis                      </td><td>11</td></tr>\n",
       "\t<tr><th scope=row>GO:1901135</th><td>carbohydrate derivative metabolic process</td><td>11</td></tr>\n",
       "</tbody>\n",
       "</table>\n"
      ],
      "text/latex": [
       "A data.frame: 6 × 2\n",
       "\\begin{tabular}{r|ll}\n",
       "  & Term & Count\\\\\n",
       "  & <chr> & <int>\\\\\n",
       "\\hline\n",
       "\tGO:0006629 & lipid metabolic process                   & 21\\\\\n",
       "\tGO:0023052 & signaling                                 & 21\\\\\n",
       "\tGO:0016071 & mRNA metabolic process                    & 18\\\\\n",
       "\tGO:0065003 & protein-containing complex assembly       & 12\\\\\n",
       "\tGO:0042254 & ribosome biogenesis                       & 11\\\\\n",
       "\tGO:1901135 & carbohydrate derivative metabolic process & 11\\\\\n",
       "\\end{tabular}\n"
      ],
      "text/markdown": [
       "\n",
       "A data.frame: 6 × 2\n",
       "\n",
       "| <!--/--> | Term &lt;chr&gt; | Count &lt;int&gt; |\n",
       "|---|---|---|\n",
       "| GO:0006629 | lipid metabolic process                   | 21 |\n",
       "| GO:0023052 | signaling                                 | 21 |\n",
       "| GO:0016071 | mRNA metabolic process                    | 18 |\n",
       "| GO:0065003 | protein-containing complex assembly       | 12 |\n",
       "| GO:0042254 | ribosome biogenesis                       | 11 |\n",
       "| GO:1901135 | carbohydrate derivative metabolic process | 11 |\n",
       "\n"
      ],
      "text/plain": [
       "           Term                                      Count\n",
       "GO:0006629 lipid metabolic process                   21   \n",
       "GO:0023052 signaling                                 21   \n",
       "GO:0016071 mRNA metabolic process                    18   \n",
       "GO:0065003 protein-containing complex assembly       12   \n",
       "GO:0042254 ribosome biogenesis                       11   \n",
       "GO:1901135 carbohydrate derivative metabolic process 11   "
      ]
     },
     "metadata": {},
     "output_type": "display_data"
    }
   ],
   "source": [
    "# copied from workflow pipeline linked above\n",
    "\n",
    "# sort and select slimdf counts\n",
    "\n",
    "slimdf.sorted <- slimdf %>% arrange(desc(Count))\n",
    "\n",
    "slim.count.df <- slimdf.sorted[,c(3,1)]\n",
    " # select(Term, Count)\n",
    "\n",
    "str(slim.count.df)\n",
    "\n",
    "head(slim.count.df)"
   ]
  },
  {
   "cell_type": "code",
   "execution_count": 52,
   "id": "716a390c-c647-4666-b8d1-2ff696b55a0d",
   "metadata": {},
   "outputs": [],
   "source": [
    "library(ggplot2)"
   ]
  },
  {
   "cell_type": "code",
   "execution_count": 64,
   "id": "ef297806-eaf3-4e41-b686-4aa4090b0c62",
   "metadata": {},
   "outputs": [
    {
     "data": {
      "image/png": "[encoded data removed]",
      "text/plain": [
       "plot without title"
      ]
     },
     "metadata": {
      "image/png": {
       "height": 420,
       "width": 420
      }
     },
     "output_type": "display_data"
    }
   ],
   "source": [
    "ggplot(slimdf %>% \n",
    "         filter(Percent > 0) %>% # remove those without any matching GO IDs\n",
    "         arrange(desc(Percent)), # order by most to least\n",
    "       aes(x=reorder(Term, Percent), y=Percent)) +\n",
    "  geom_col(fill = 'mediumpurple') +\n",
    "  labs(x=\"GOSlim Term\", y=\"Percent of GO IDs\") +\n",
    "coord_flip() + \n",
    "  theme_bw()"
   ]
  },
  {
   "cell_type": "markdown",
   "id": "d18d6d08-1417-402b-befc-a1d73433eda2",
   "metadata": {},
   "source": [
    "what if I just take my list of significant DMG and match them to GOSlim terms? "
   ]
  },
  {
   "cell_type": "code",
   "execution_count": 67,
   "id": "6d6776df-c297-46b1-8ca6-ad71b3764593",
   "metadata": {},
   "outputs": [
    {
     "data": {
      "text/html": [
       "<table class=\"dataframe\">\n",
       "<caption>A data.frame: 6 × 4</caption>\n",
       "<thead>\n",
       "\t<tr><th></th><th scope=col>GO.IDs</th><th scope=col>GOslim</th><th scope=col>Term</th><th scope=col>gene_id</th></tr>\n",
       "\t<tr><th></th><th scope=col>&lt;chr&gt;</th><th scope=col>&lt;chr&gt;</th><th scope=col>&lt;chr&gt;</th><th scope=col>&lt;chr&gt;</th></tr>\n",
       "</thead>\n",
       "<tbody>\n",
       "\t<tr><th scope=row>1</th><td>GO:0000012</td><td>GO:0006281</td><td>DNA repair</td><td>LOC111111868</td></tr>\n",
       "\t<tr><th scope=row>2</th><td>GO:0000012</td><td>GO:0006281</td><td>DNA repair</td><td>LOC111128425</td></tr>\n",
       "\t<tr><th scope=row>3</th><td>GO:0000012</td><td>GO:0006281</td><td>DNA repair</td><td>LOC111135198</td></tr>\n",
       "\t<tr><th scope=row>4</th><td>GO:0000012</td><td>GO:0006281</td><td>DNA repair</td><td>LOC111111498</td></tr>\n",
       "\t<tr><th scope=row>5</th><td>GO:0000012</td><td>GO:0006281</td><td>DNA repair</td><td>LOC111128516</td></tr>\n",
       "\t<tr><th scope=row>6</th><td>GO:0000012</td><td>GO:0006281</td><td>DNA repair</td><td>LOC111136704</td></tr>\n",
       "</tbody>\n",
       "</table>\n"
      ],
      "text/latex": [
       "A data.frame: 6 × 4\n",
       "\\begin{tabular}{r|llll}\n",
       "  & GO.IDs & GOslim & Term & gene\\_id\\\\\n",
       "  & <chr> & <chr> & <chr> & <chr>\\\\\n",
       "\\hline\n",
       "\t1 & GO:0000012 & GO:0006281 & DNA repair & LOC111111868\\\\\n",
       "\t2 & GO:0000012 & GO:0006281 & DNA repair & LOC111128425\\\\\n",
       "\t3 & GO:0000012 & GO:0006281 & DNA repair & LOC111135198\\\\\n",
       "\t4 & GO:0000012 & GO:0006281 & DNA repair & LOC111111498\\\\\n",
       "\t5 & GO:0000012 & GO:0006281 & DNA repair & LOC111128516\\\\\n",
       "\t6 & GO:0000012 & GO:0006281 & DNA repair & LOC111136704\\\\\n",
       "\\end{tabular}\n"
      ],
      "text/markdown": [
       "\n",
       "A data.frame: 6 × 4\n",
       "\n",
       "| <!--/--> | GO.IDs &lt;chr&gt; | GOslim &lt;chr&gt; | Term &lt;chr&gt; | gene_id &lt;chr&gt; |\n",
       "|---|---|---|---|---|\n",
       "| 1 | GO:0000012 | GO:0006281 | DNA repair | LOC111111868 |\n",
       "| 2 | GO:0000012 | GO:0006281 | DNA repair | LOC111128425 |\n",
       "| 3 | GO:0000012 | GO:0006281 | DNA repair | LOC111135198 |\n",
       "| 4 | GO:0000012 | GO:0006281 | DNA repair | LOC111111498 |\n",
       "| 5 | GO:0000012 | GO:0006281 | DNA repair | LOC111128516 |\n",
       "| 6 | GO:0000012 | GO:0006281 | DNA repair | LOC111136704 |\n",
       "\n"
      ],
      "text/plain": [
       "  GO.IDs     GOslim     Term       gene_id     \n",
       "1 GO:0000012 GO:0006281 DNA repair LOC111111868\n",
       "2 GO:0000012 GO:0006281 DNA repair LOC111128425\n",
       "3 GO:0000012 GO:0006281 DNA repair LOC111135198\n",
       "4 GO:0000012 GO:0006281 DNA repair LOC111111498\n",
       "5 GO:0000012 GO:0006281 DNA repair LOC111128516\n",
       "6 GO:0000012 GO:0006281 DNA repair LOC111136704"
      ]
     },
     "metadata": {},
     "output_type": "display_data"
    }
   ],
   "source": [
    "head(gene2GOslim)"
   ]
  },
  {
   "cell_type": "code",
   "execution_count": 74,
   "id": "0c9537c8-8c0d-44ae-b71d-a171071623d7",
   "metadata": {},
   "outputs": [
    {
     "data": {
      "text/html": [
       "193"
      ],
      "text/latex": [
       "193"
      ],
      "text/markdown": [
       "193"
      ],
      "text/plain": [
       "[1] 193"
      ]
     },
     "metadata": {},
     "output_type": "display_data"
    },
    {
     "data": {
      "text/html": [
       "<style>\n",
       ".list-inline {list-style: none; margin:0; padding: 0}\n",
       ".list-inline>li {display: inline-block}\n",
       ".list-inline>li:not(:last-child)::after {content: \"\\00b7\"; padding: 0 .5ex}\n",
       "</style>\n",
       "<ol class=list-inline><li>'LOC111099548'</li><li>'LOC111099571'</li><li>'LOC111099585'</li><li>'LOC111099930'</li><li>'LOC111099978'</li><li>'LOC111100608'</li></ol>\n"
      ],
      "text/latex": [
       "\\begin{enumerate*}\n",
       "\\item 'LOC111099548'\n",
       "\\item 'LOC111099571'\n",
       "\\item 'LOC111099585'\n",
       "\\item 'LOC111099930'\n",
       "\\item 'LOC111099978'\n",
       "\\item 'LOC111100608'\n",
       "\\end{enumerate*}\n"
      ],
      "text/markdown": [
       "1. 'LOC111099548'\n",
       "2. 'LOC111099571'\n",
       "3. 'LOC111099585'\n",
       "4. 'LOC111099930'\n",
       "5. 'LOC111099978'\n",
       "6. 'LOC111100608'\n",
       "\n",
       "\n"
      ],
      "text/plain": [
       "[1] \"LOC111099548\" \"LOC111099571\" \"LOC111099585\" \"LOC111099930\" \"LOC111099978\"\n",
       "[6] \"LOC111100608\""
      ]
     },
     "metadata": {},
     "output_type": "display_data"
    }
   ],
   "source": [
    "# list of sig. DMG from CH vs. HC\n",
    "sigCH <- read.csv('/project/pi_sarah_gignouxwolfsohn_uml_edu/julia/CE_MethylRAD_analysis_2018/analysis/deseq_res_files/geneFeatures_res/sig_DMGs/sig_CH_HC_genes.csv')\n",
    "sigCH <- sigCH[,2]\n",
    "\n",
    "length(sigCH)\n",
    "head(sigCH)"
   ]
  },
  {
   "cell_type": "code",
   "execution_count": 75,
   "id": "9d096922-0f23-4a4d-b7de-1a2bd28ec3d0",
   "metadata": {},
   "outputs": [
    {
     "data": {
      "text/html": [
       "<table class=\"dataframe\">\n",
       "<caption>A data.frame: 6 × 4</caption>\n",
       "<thead>\n",
       "\t<tr><th></th><th scope=col>GO.IDs</th><th scope=col>GOslim</th><th scope=col>Term</th><th scope=col>gene_id</th></tr>\n",
       "\t<tr><th></th><th scope=col>&lt;chr&gt;</th><th scope=col>&lt;chr&gt;</th><th scope=col>&lt;chr&gt;</th><th scope=col>&lt;chr&gt;</th></tr>\n",
       "</thead>\n",
       "<tbody>\n",
       "\t<tr><th scope=row>19</th><td>GO:0000027</td><td>GO:0042254;GO:0065003</td><td>ribosome biogenesis;protein-containing complex assembly</td><td>LOC111137006</td></tr>\n",
       "\t<tr><th scope=row>45</th><td>GO:0000045</td><td>GO:0006914           </td><td>autophagy                                              </td><td>LOC111131738</td></tr>\n",
       "\t<tr><th scope=row>60</th><td>GO:0000045</td><td>GO:0006914           </td><td>autophagy                                              </td><td>LOC111127879</td></tr>\n",
       "\t<tr><th scope=row>81</th><td>GO:0000054</td><td>GO:0006913;GO:0042254</td><td>nucleocytoplasmic transport;ribosome biogenesis        </td><td>LOC111125671</td></tr>\n",
       "\t<tr><th scope=row>82</th><td>GO:0000054</td><td>GO:0006913;GO:0042254</td><td>nucleocytoplasmic transport;ribosome biogenesis        </td><td>LOC111135936</td></tr>\n",
       "\t<tr><th scope=row>94</th><td>GO:0000055</td><td>GO:0006913;GO:0042254</td><td>nucleocytoplasmic transport;ribosome biogenesis        </td><td>LOC111122535</td></tr>\n",
       "</tbody>\n",
       "</table>\n"
      ],
      "text/latex": [
       "A data.frame: 6 × 4\n",
       "\\begin{tabular}{r|llll}\n",
       "  & GO.IDs & GOslim & Term & gene\\_id\\\\\n",
       "  & <chr> & <chr> & <chr> & <chr>\\\\\n",
       "\\hline\n",
       "\t19 & GO:0000027 & GO:0042254;GO:0065003 & ribosome biogenesis;protein-containing complex assembly & LOC111137006\\\\\n",
       "\t45 & GO:0000045 & GO:0006914            & autophagy                                               & LOC111131738\\\\\n",
       "\t60 & GO:0000045 & GO:0006914            & autophagy                                               & LOC111127879\\\\\n",
       "\t81 & GO:0000054 & GO:0006913;GO:0042254 & nucleocytoplasmic transport;ribosome biogenesis         & LOC111125671\\\\\n",
       "\t82 & GO:0000054 & GO:0006913;GO:0042254 & nucleocytoplasmic transport;ribosome biogenesis         & LOC111135936\\\\\n",
       "\t94 & GO:0000055 & GO:0006913;GO:0042254 & nucleocytoplasmic transport;ribosome biogenesis         & LOC111122535\\\\\n",
       "\\end{tabular}\n"
      ],
      "text/markdown": [
       "\n",
       "A data.frame: 6 × 4\n",
       "\n",
       "| <!--/--> | GO.IDs &lt;chr&gt; | GOslim &lt;chr&gt; | Term &lt;chr&gt; | gene_id &lt;chr&gt; |\n",
       "|---|---|---|---|---|\n",
       "| 19 | GO:0000027 | GO:0042254;GO:0065003 | ribosome biogenesis;protein-containing complex assembly | LOC111137006 |\n",
       "| 45 | GO:0000045 | GO:0006914            | autophagy                                               | LOC111131738 |\n",
       "| 60 | GO:0000045 | GO:0006914            | autophagy                                               | LOC111127879 |\n",
       "| 81 | GO:0000054 | GO:0006913;GO:0042254 | nucleocytoplasmic transport;ribosome biogenesis         | LOC111125671 |\n",
       "| 82 | GO:0000054 | GO:0006913;GO:0042254 | nucleocytoplasmic transport;ribosome biogenesis         | LOC111135936 |\n",
       "| 94 | GO:0000055 | GO:0006913;GO:0042254 | nucleocytoplasmic transport;ribosome biogenesis         | LOC111122535 |\n",
       "\n"
      ],
      "text/plain": [
       "   GO.IDs     GOslim               \n",
       "19 GO:0000027 GO:0042254;GO:0065003\n",
       "45 GO:0000045 GO:0006914           \n",
       "60 GO:0000045 GO:0006914           \n",
       "81 GO:0000054 GO:0006913;GO:0042254\n",
       "82 GO:0000054 GO:0006913;GO:0042254\n",
       "94 GO:0000055 GO:0006913;GO:0042254\n",
       "   Term                                                    gene_id     \n",
       "19 ribosome biogenesis;protein-containing complex assembly LOC111137006\n",
       "45 autophagy                                               LOC111131738\n",
       "60 autophagy                                               LOC111127879\n",
       "81 nucleocytoplasmic transport;ribosome biogenesis         LOC111125671\n",
       "82 nucleocytoplasmic transport;ribosome biogenesis         LOC111135936\n",
       "94 nucleocytoplasmic transport;ribosome biogenesis         LOC111122535"
      ]
     },
     "metadata": {},
     "output_type": "display_data"
    }
   ],
   "source": [
    "CH_goSlim <- gene2GOslim[sigCH %in% gene2GOslim$gene_id,]\n",
    "head(CH_goSlim)"
   ]
  },
  {
   "cell_type": "code",
   "execution_count": 86,
   "id": "3bb119d0-7e7e-40b6-ba80-bdae5d8a0376",
   "metadata": {},
   "outputs": [
    {
     "data": {
      "text/html": [
       "<table class=\"dataframe\">\n",
       "<caption>A tibble: 6 × 4</caption>\n",
       "<thead>\n",
       "\t<tr><th scope=col>GO.IDs</th><th scope=col>GOslim</th><th scope=col>Term</th><th scope=col>gene_id</th></tr>\n",
       "\t<tr><th scope=col>&lt;chr&gt;</th><th scope=col>&lt;chr&gt;</th><th scope=col>&lt;chr&gt;</th><th scope=col>&lt;chr&gt;</th></tr>\n",
       "</thead>\n",
       "<tbody>\n",
       "\t<tr><td>GO:0000027</td><td>GO:0042254</td><td>ribosome biogenesis                </td><td>LOC111137006</td></tr>\n",
       "\t<tr><td>GO:0000027</td><td>GO:0042254</td><td>protein-containing complex assembly</td><td>LOC111137006</td></tr>\n",
       "\t<tr><td>GO:0000027</td><td>GO:0065003</td><td>ribosome biogenesis                </td><td>LOC111137006</td></tr>\n",
       "\t<tr><td>GO:0000027</td><td>GO:0065003</td><td>protein-containing complex assembly</td><td>LOC111137006</td></tr>\n",
       "\t<tr><td>GO:0000045</td><td>GO:0006914</td><td>autophagy                          </td><td>LOC111131738</td></tr>\n",
       "\t<tr><td>GO:0000045</td><td>GO:0006914</td><td>autophagy                          </td><td>LOC111127879</td></tr>\n",
       "</tbody>\n",
       "</table>\n"
      ],
      "text/latex": [
       "A tibble: 6 × 4\n",
       "\\begin{tabular}{llll}\n",
       " GO.IDs & GOslim & Term & gene\\_id\\\\\n",
       " <chr> & <chr> & <chr> & <chr>\\\\\n",
       "\\hline\n",
       "\t GO:0000027 & GO:0042254 & ribosome biogenesis                 & LOC111137006\\\\\n",
       "\t GO:0000027 & GO:0042254 & protein-containing complex assembly & LOC111137006\\\\\n",
       "\t GO:0000027 & GO:0065003 & ribosome biogenesis                 & LOC111137006\\\\\n",
       "\t GO:0000027 & GO:0065003 & protein-containing complex assembly & LOC111137006\\\\\n",
       "\t GO:0000045 & GO:0006914 & autophagy                           & LOC111131738\\\\\n",
       "\t GO:0000045 & GO:0006914 & autophagy                           & LOC111127879\\\\\n",
       "\\end{tabular}\n"
      ],
      "text/markdown": [
       "\n",
       "A tibble: 6 × 4\n",
       "\n",
       "| GO.IDs &lt;chr&gt; | GOslim &lt;chr&gt; | Term &lt;chr&gt; | gene_id &lt;chr&gt; |\n",
       "|---|---|---|---|\n",
       "| GO:0000027 | GO:0042254 | ribosome biogenesis                 | LOC111137006 |\n",
       "| GO:0000027 | GO:0042254 | protein-containing complex assembly | LOC111137006 |\n",
       "| GO:0000027 | GO:0065003 | ribosome biogenesis                 | LOC111137006 |\n",
       "| GO:0000027 | GO:0065003 | protein-containing complex assembly | LOC111137006 |\n",
       "| GO:0000045 | GO:0006914 | autophagy                           | LOC111131738 |\n",
       "| GO:0000045 | GO:0006914 | autophagy                           | LOC111127879 |\n",
       "\n"
      ],
      "text/plain": [
       "  GO.IDs     GOslim     Term                                gene_id     \n",
       "1 GO:0000027 GO:0042254 ribosome biogenesis                 LOC111137006\n",
       "2 GO:0000027 GO:0042254 protein-containing complex assembly LOC111137006\n",
       "3 GO:0000027 GO:0065003 ribosome biogenesis                 LOC111137006\n",
       "4 GO:0000027 GO:0065003 protein-containing complex assembly LOC111137006\n",
       "5 GO:0000045 GO:0006914 autophagy                           LOC111131738\n",
       "6 GO:0000045 GO:0006914 autophagy                           LOC111127879"
      ]
     },
     "metadata": {},
     "output_type": "display_data"
    }
   ],
   "source": [
    "flat.CH_goSlim <- CH_goSlim %>% separate_rows(!!sym('GOslim'), sep = \";\")\n",
    "\n",
    "flat.CH_goSlim <- flat.CH_goSlim %>% separate_rows(!!sym('Term'), sep = \";\") \n",
    "head(flat.CH_goSlim)"
   ]
  },
  {
   "cell_type": "code",
   "execution_count": 94,
   "id": "dc00b558-8107-4f67-8c9b-998bb1454f7f",
   "metadata": {},
   "outputs": [
    {
     "data": {
      "image/png": "[encoded data removed]",
      "text/plain": [
       "plot without title"
      ]
     },
     "metadata": {
      "image/png": {
       "height": 420,
       "width": 420
      }
     },
     "output_type": "display_data"
    }
   ],
   "source": [
    "CH_goSlim_DMG <- flat.CH_goSlim %>% \n",
    "  count(Term, sort = TRUE) %>% \n",
    "  mutate(Percent = n / sum(n) * 100) %>% \n",
    "  ggplot(aes(x=reorder(Term, Percent), y=Percent)) +\n",
    "  geom_col(fill = 'mediumpurple') +\n",
    "  labs(x=\"Term\", y=\"Percent\") +\n",
    "  theme_bw() +\n",
    "coord_flip()\n",
    "\n",
    "CH_goSlim_DMG"
   ]
  },
  {
   "cell_type": "markdown",
   "id": "fc6c1f45-c6d8-41b3-acce-de041a0977ba",
   "metadata": {},
   "source": [
    "so this is looking at *only* sig. DMG instead of all of the genes.... not sure which way is correct"
   ]
  },
  {
   "cell_type": "markdown",
   "id": "d3c8df93-4a50-4cd6-9e23-059f1831428f",
   "metadata": {},
   "source": [
    "## HH vs. HC"
   ]
  },
  {
   "cell_type": "code",
   "execution_count": 88,
   "id": "7b2e02fd-7a26-474e-bd9b-b3479275b915",
   "metadata": {},
   "outputs": [
    {
     "data": {
      "text/html": [
       "76"
      ],
      "text/latex": [
       "76"
      ],
      "text/markdown": [
       "76"
      ],
      "text/plain": [
       "[1] 76"
      ]
     },
     "metadata": {},
     "output_type": "display_data"
    },
    {
     "data": {
      "text/html": [
       "<style>\n",
       ".list-inline {list-style: none; margin:0; padding: 0}\n",
       ".list-inline>li {display: inline-block}\n",
       ".list-inline>li:not(:last-child)::after {content: \"\\00b7\"; padding: 0 .5ex}\n",
       "</style>\n",
       "<ol class=list-inline><li>'LOC111099548'</li><li>'LOC111099571'</li><li>'LOC111099930'</li><li>'LOC111100608'</li><li>'LOC111101237'</li><li>'LOC111101984'</li></ol>\n"
      ],
      "text/latex": [
       "\\begin{enumerate*}\n",
       "\\item 'LOC111099548'\n",
       "\\item 'LOC111099571'\n",
       "\\item 'LOC111099930'\n",
       "\\item 'LOC111100608'\n",
       "\\item 'LOC111101237'\n",
       "\\item 'LOC111101984'\n",
       "\\end{enumerate*}\n"
      ],
      "text/markdown": [
       "1. 'LOC111099548'\n",
       "2. 'LOC111099571'\n",
       "3. 'LOC111099930'\n",
       "4. 'LOC111100608'\n",
       "5. 'LOC111101237'\n",
       "6. 'LOC111101984'\n",
       "\n",
       "\n"
      ],
      "text/plain": [
       "[1] \"LOC111099548\" \"LOC111099571\" \"LOC111099930\" \"LOC111100608\" \"LOC111101237\"\n",
       "[6] \"LOC111101984\""
      ]
     },
     "metadata": {},
     "output_type": "display_data"
    }
   ],
   "source": [
    "# list of sig. DMG from CH vs. HC\n",
    "sigHH <- read.csv('/project/pi_sarah_gignouxwolfsohn_uml_edu/julia/CE_MethylRAD_analysis_2018/analysis/deseq_res_files/geneFeatures_res/sig_DMGs/sig_HH_HC_genes.csv')\n",
    "sigHH <- sigHH[,2]\n",
    "\n",
    "length(sigHH)\n",
    "head(sigHH)"
   ]
  },
  {
   "cell_type": "code",
   "execution_count": 89,
   "id": "2aa1d05c-be8f-4471-8e13-3c47a586a647",
   "metadata": {},
   "outputs": [
    {
     "data": {
      "text/html": [
       "<table class=\"dataframe\">\n",
       "<caption>A data.frame: 6 × 4</caption>\n",
       "<thead>\n",
       "\t<tr><th></th><th scope=col>GO.IDs</th><th scope=col>GOslim</th><th scope=col>Term</th><th scope=col>gene_id</th></tr>\n",
       "\t<tr><th></th><th scope=col>&lt;chr&gt;</th><th scope=col>&lt;chr&gt;</th><th scope=col>&lt;chr&gt;</th><th scope=col>&lt;chr&gt;</th></tr>\n",
       "</thead>\n",
       "<tbody>\n",
       "\t<tr><th scope=row>14</th><td>GO:0000027</td><td>GO:0042254;GO:0065003</td><td>ribosome biogenesis;protein-containing complex assembly</td><td>LOC111120109</td></tr>\n",
       "\t<tr><th scope=row>31</th><td>GO:0000028</td><td>GO:0042254;GO:0065003</td><td>ribosome biogenesis;protein-containing complex assembly</td><td>LOC111120557</td></tr>\n",
       "\t<tr><th scope=row>34</th><td>GO:0000028</td><td>GO:0042254;GO:0065003</td><td>ribosome biogenesis;protein-containing complex assembly</td><td>LOC111126883</td></tr>\n",
       "\t<tr><th scope=row>59</th><td>GO:0000045</td><td>GO:0006914           </td><td>autophagy                                              </td><td>LOC111131691</td></tr>\n",
       "\t<tr><th scope=row>70</th><td>GO:0000045</td><td>GO:0006914           </td><td>autophagy                                              </td><td>LOC111137481</td></tr>\n",
       "\t<tr><th scope=row>90</th><td>GO:0000055</td><td>GO:0006913;GO:0042254</td><td>nucleocytoplasmic transport;ribosome biogenesis        </td><td>LOC111129825</td></tr>\n",
       "</tbody>\n",
       "</table>\n"
      ],
      "text/latex": [
       "A data.frame: 6 × 4\n",
       "\\begin{tabular}{r|llll}\n",
       "  & GO.IDs & GOslim & Term & gene\\_id\\\\\n",
       "  & <chr> & <chr> & <chr> & <chr>\\\\\n",
       "\\hline\n",
       "\t14 & GO:0000027 & GO:0042254;GO:0065003 & ribosome biogenesis;protein-containing complex assembly & LOC111120109\\\\\n",
       "\t31 & GO:0000028 & GO:0042254;GO:0065003 & ribosome biogenesis;protein-containing complex assembly & LOC111120557\\\\\n",
       "\t34 & GO:0000028 & GO:0042254;GO:0065003 & ribosome biogenesis;protein-containing complex assembly & LOC111126883\\\\\n",
       "\t59 & GO:0000045 & GO:0006914            & autophagy                                               & LOC111131691\\\\\n",
       "\t70 & GO:0000045 & GO:0006914            & autophagy                                               & LOC111137481\\\\\n",
       "\t90 & GO:0000055 & GO:0006913;GO:0042254 & nucleocytoplasmic transport;ribosome biogenesis         & LOC111129825\\\\\n",
       "\\end{tabular}\n"
      ],
      "text/markdown": [
       "\n",
       "A data.frame: 6 × 4\n",
       "\n",
       "| <!--/--> | GO.IDs &lt;chr&gt; | GOslim &lt;chr&gt; | Term &lt;chr&gt; | gene_id &lt;chr&gt; |\n",
       "|---|---|---|---|---|\n",
       "| 14 | GO:0000027 | GO:0042254;GO:0065003 | ribosome biogenesis;protein-containing complex assembly | LOC111120109 |\n",
       "| 31 | GO:0000028 | GO:0042254;GO:0065003 | ribosome biogenesis;protein-containing complex assembly | LOC111120557 |\n",
       "| 34 | GO:0000028 | GO:0042254;GO:0065003 | ribosome biogenesis;protein-containing complex assembly | LOC111126883 |\n",
       "| 59 | GO:0000045 | GO:0006914            | autophagy                                               | LOC111131691 |\n",
       "| 70 | GO:0000045 | GO:0006914            | autophagy                                               | LOC111137481 |\n",
       "| 90 | GO:0000055 | GO:0006913;GO:0042254 | nucleocytoplasmic transport;ribosome biogenesis         | LOC111129825 |\n",
       "\n"
      ],
      "text/plain": [
       "   GO.IDs     GOslim               \n",
       "14 GO:0000027 GO:0042254;GO:0065003\n",
       "31 GO:0000028 GO:0042254;GO:0065003\n",
       "34 GO:0000028 GO:0042254;GO:0065003\n",
       "59 GO:0000045 GO:0006914           \n",
       "70 GO:0000045 GO:0006914           \n",
       "90 GO:0000055 GO:0006913;GO:0042254\n",
       "   Term                                                    gene_id     \n",
       "14 ribosome biogenesis;protein-containing complex assembly LOC111120109\n",
       "31 ribosome biogenesis;protein-containing complex assembly LOC111120557\n",
       "34 ribosome biogenesis;protein-containing complex assembly LOC111126883\n",
       "59 autophagy                                               LOC111131691\n",
       "70 autophagy                                               LOC111137481\n",
       "90 nucleocytoplasmic transport;ribosome biogenesis         LOC111129825"
      ]
     },
     "metadata": {},
     "output_type": "display_data"
    }
   ],
   "source": [
    "HH_goSlim <- gene2GOslim[sigHH %in% gene2GOslim$gene_id,]\n",
    "head(HH_goSlim)"
   ]
  },
  {
   "cell_type": "code",
   "execution_count": 90,
   "id": "879c92c4-a032-4b83-85ee-e3909342a4fe",
   "metadata": {},
   "outputs": [
    {
     "data": {
      "text/html": [
       "<table class=\"dataframe\">\n",
       "<caption>A tibble: 6 × 4</caption>\n",
       "<thead>\n",
       "\t<tr><th scope=col>GO.IDs</th><th scope=col>GOslim</th><th scope=col>Term</th><th scope=col>gene_id</th></tr>\n",
       "\t<tr><th scope=col>&lt;chr&gt;</th><th scope=col>&lt;chr&gt;</th><th scope=col>&lt;chr&gt;</th><th scope=col>&lt;chr&gt;</th></tr>\n",
       "</thead>\n",
       "<tbody>\n",
       "\t<tr><td>GO:0000027</td><td>GO:0042254</td><td>ribosome biogenesis                </td><td>LOC111120109</td></tr>\n",
       "\t<tr><td>GO:0000027</td><td>GO:0042254</td><td>protein-containing complex assembly</td><td>LOC111120109</td></tr>\n",
       "\t<tr><td>GO:0000027</td><td>GO:0065003</td><td>ribosome biogenesis                </td><td>LOC111120109</td></tr>\n",
       "\t<tr><td>GO:0000027</td><td>GO:0065003</td><td>protein-containing complex assembly</td><td>LOC111120109</td></tr>\n",
       "\t<tr><td>GO:0000028</td><td>GO:0042254</td><td>ribosome biogenesis                </td><td>LOC111120557</td></tr>\n",
       "\t<tr><td>GO:0000028</td><td>GO:0042254</td><td>protein-containing complex assembly</td><td>LOC111120557</td></tr>\n",
       "</tbody>\n",
       "</table>\n"
      ],
      "text/latex": [
       "A tibble: 6 × 4\n",
       "\\begin{tabular}{llll}\n",
       " GO.IDs & GOslim & Term & gene\\_id\\\\\n",
       " <chr> & <chr> & <chr> & <chr>\\\\\n",
       "\\hline\n",
       "\t GO:0000027 & GO:0042254 & ribosome biogenesis                 & LOC111120109\\\\\n",
       "\t GO:0000027 & GO:0042254 & protein-containing complex assembly & LOC111120109\\\\\n",
       "\t GO:0000027 & GO:0065003 & ribosome biogenesis                 & LOC111120109\\\\\n",
       "\t GO:0000027 & GO:0065003 & protein-containing complex assembly & LOC111120109\\\\\n",
       "\t GO:0000028 & GO:0042254 & ribosome biogenesis                 & LOC111120557\\\\\n",
       "\t GO:0000028 & GO:0042254 & protein-containing complex assembly & LOC111120557\\\\\n",
       "\\end{tabular}\n"
      ],
      "text/markdown": [
       "\n",
       "A tibble: 6 × 4\n",
       "\n",
       "| GO.IDs &lt;chr&gt; | GOslim &lt;chr&gt; | Term &lt;chr&gt; | gene_id &lt;chr&gt; |\n",
       "|---|---|---|---|\n",
       "| GO:0000027 | GO:0042254 | ribosome biogenesis                 | LOC111120109 |\n",
       "| GO:0000027 | GO:0042254 | protein-containing complex assembly | LOC111120109 |\n",
       "| GO:0000027 | GO:0065003 | ribosome biogenesis                 | LOC111120109 |\n",
       "| GO:0000027 | GO:0065003 | protein-containing complex assembly | LOC111120109 |\n",
       "| GO:0000028 | GO:0042254 | ribosome biogenesis                 | LOC111120557 |\n",
       "| GO:0000028 | GO:0042254 | protein-containing complex assembly | LOC111120557 |\n",
       "\n"
      ],
      "text/plain": [
       "  GO.IDs     GOslim     Term                                gene_id     \n",
       "1 GO:0000027 GO:0042254 ribosome biogenesis                 LOC111120109\n",
       "2 GO:0000027 GO:0042254 protein-containing complex assembly LOC111120109\n",
       "3 GO:0000027 GO:0065003 ribosome biogenesis                 LOC111120109\n",
       "4 GO:0000027 GO:0065003 protein-containing complex assembly LOC111120109\n",
       "5 GO:0000028 GO:0042254 ribosome biogenesis                 LOC111120557\n",
       "6 GO:0000028 GO:0042254 protein-containing complex assembly LOC111120557"
      ]
     },
     "metadata": {},
     "output_type": "display_data"
    }
   ],
   "source": [
    "flat.HH_goSlim <- HH_goSlim %>% separate_rows(!!sym('GOslim'), sep = \";\")\n",
    "\n",
    "flat.HH_goSlim <- flat.HH_goSlim %>% separate_rows(!!sym('Term'), sep = \";\") \n",
    "head(flat.HH_goSlim)"
   ]
  },
  {
   "cell_type": "code",
   "execution_count": 92,
   "id": "83d408a2-07de-4374-ac48-e288102d19be",
   "metadata": {},
   "outputs": [
    {
     "data": {
      "image/png": "[encoded data removed]",
      "text/plain": [
       "plot without title"
      ]
     },
     "metadata": {
      "image/png": {
       "height": 420,
       "width": 420
      }
     },
     "output_type": "display_data"
    }
   ],
   "source": [
    "HH_goSlim_DMG <- flat.HH_goSlim %>% \n",
    "  count(Term, sort = TRUE) %>% \n",
    "  mutate(Percent = n / sum(n) * 100) %>% \n",
    "  ggplot(aes(x=reorder(Term, Percent), y=Percent)) +\n",
    "  geom_col(fill = 'deeppink2') +\n",
    "  labs(x=\"Term\", y=\"Percent\") +\n",
    "  theme_bw() +\n",
    "coord_flip()\n",
    "\n",
    "HH_goSlim_DMG"
   ]
  },
  {
   "cell_type": "markdown",
   "id": "3858fe3f-8120-479a-aca2-9e39cbbd8830",
   "metadata": {},
   "source": [
    "## CC vs. HC"
   ]
  },
  {
   "cell_type": "code",
   "execution_count": 106,
   "id": "45347c0c-5566-47a5-b283-a12fcba470aa",
   "metadata": {},
   "outputs": [
    {
     "data": {
      "text/html": [
       "<table class=\"dataframe\">\n",
       "<caption>A data.frame: 6 × 5</caption>\n",
       "<thead>\n",
       "\t<tr><th></th><th scope=col>name</th><th scope=col>term</th><th scope=col>lev</th><th scope=col>seq</th><th scope=col>value</th></tr>\n",
       "\t<tr><th></th><th scope=col>&lt;chr&gt;</th><th scope=col>&lt;chr&gt;</th><th scope=col>&lt;int&gt;</th><th scope=col>&lt;chr&gt;</th><th scope=col>&lt;dbl&gt;</th></tr>\n",
       "</thead>\n",
       "<tbody>\n",
       "\t<tr><th scope=row>1</th><td>small molecule biosynthetic process</td><td>GO:0044283</td><td>2</td><td>LOC111100410</td><td> 0.388846817</td></tr>\n",
       "\t<tr><th scope=row>2</th><td>small molecule biosynthetic process</td><td>GO:0044283</td><td>2</td><td>LOC111104439</td><td>-0.193034443</td></tr>\n",
       "\t<tr><th scope=row>3</th><td>small molecule biosynthetic process</td><td>GO:0044283</td><td>2</td><td>LOC111104443</td><td>-0.063696703</td></tr>\n",
       "\t<tr><th scope=row>4</th><td>small molecule biosynthetic process</td><td>GO:0044283</td><td>2</td><td>LOC111108042</td><td> 0.038312953</td></tr>\n",
       "\t<tr><th scope=row>5</th><td>small molecule biosynthetic process</td><td>GO:0044283</td><td>2</td><td>LOC111112404</td><td> 0.085243036</td></tr>\n",
       "\t<tr><th scope=row>6</th><td>small molecule biosynthetic process</td><td>GO:0044283</td><td>2</td><td>LOC111113806</td><td> 0.008974317</td></tr>\n",
       "</tbody>\n",
       "</table>\n"
      ],
      "text/latex": [
       "A data.frame: 6 × 5\n",
       "\\begin{tabular}{r|lllll}\n",
       "  & name & term & lev & seq & value\\\\\n",
       "  & <chr> & <chr> & <int> & <chr> & <dbl>\\\\\n",
       "\\hline\n",
       "\t1 & small molecule biosynthetic process & GO:0044283 & 2 & LOC111100410 &  0.388846817\\\\\n",
       "\t2 & small molecule biosynthetic process & GO:0044283 & 2 & LOC111104439 & -0.193034443\\\\\n",
       "\t3 & small molecule biosynthetic process & GO:0044283 & 2 & LOC111104443 & -0.063696703\\\\\n",
       "\t4 & small molecule biosynthetic process & GO:0044283 & 2 & LOC111108042 &  0.038312953\\\\\n",
       "\t5 & small molecule biosynthetic process & GO:0044283 & 2 & LOC111112404 &  0.085243036\\\\\n",
       "\t6 & small molecule biosynthetic process & GO:0044283 & 2 & LOC111113806 &  0.008974317\\\\\n",
       "\\end{tabular}\n"
      ],
      "text/markdown": [
       "\n",
       "A data.frame: 6 × 5\n",
       "\n",
       "| <!--/--> | name &lt;chr&gt; | term &lt;chr&gt; | lev &lt;int&gt; | seq &lt;chr&gt; | value &lt;dbl&gt; |\n",
       "|---|---|---|---|---|---|\n",
       "| 1 | small molecule biosynthetic process | GO:0044283 | 2 | LOC111100410 |  0.388846817 |\n",
       "| 2 | small molecule biosynthetic process | GO:0044283 | 2 | LOC111104439 | -0.193034443 |\n",
       "| 3 | small molecule biosynthetic process | GO:0044283 | 2 | LOC111104443 | -0.063696703 |\n",
       "| 4 | small molecule biosynthetic process | GO:0044283 | 2 | LOC111108042 |  0.038312953 |\n",
       "| 5 | small molecule biosynthetic process | GO:0044283 | 2 | LOC111112404 |  0.085243036 |\n",
       "| 6 | small molecule biosynthetic process | GO:0044283 | 2 | LOC111113806 |  0.008974317 |\n",
       "\n"
      ],
      "text/plain": [
       "  name                                term       lev seq          value       \n",
       "1 small molecule biosynthetic process GO:0044283 2   LOC111100410  0.388846817\n",
       "2 small molecule biosynthetic process GO:0044283 2   LOC111104439 -0.193034443\n",
       "3 small molecule biosynthetic process GO:0044283 2   LOC111104443 -0.063696703\n",
       "4 small molecule biosynthetic process GO:0044283 2   LOC111108042  0.038312953\n",
       "5 small molecule biosynthetic process GO:0044283 2   LOC111112404  0.085243036\n",
       "6 small molecule biosynthetic process GO:0044283 2   LOC111113806  0.008974317"
      ]
     },
     "metadata": {},
     "output_type": "display_data"
    }
   ],
   "source": [
    "CCmwu <- read.csv('/project/pi_sarah_gignouxwolfsohn_uml_edu/julia/CE_MethylRAD_analysis_2018/analysis/DMGs_analysis/go_mwu/BP_allGenes_CC_lfc.csv', sep = '\\t')\n",
    "head(CCmwu)"
   ]
  },
  {
   "cell_type": "code",
   "execution_count": 95,
   "id": "4e3b76bd-ad89-4df1-830a-b9015e4a1479",
   "metadata": {},
   "outputs": [
    {
     "data": {
      "text/html": [
       "12"
      ],
      "text/latex": [
       "12"
      ],
      "text/markdown": [
       "12"
      ],
      "text/plain": [
       "[1] 12"
      ]
     },
     "metadata": {},
     "output_type": "display_data"
    },
    {
     "data": {
      "text/html": [
       "<style>\n",
       ".list-inline {list-style: none; margin:0; padding: 0}\n",
       ".list-inline>li {display: inline-block}\n",
       ".list-inline>li:not(:last-child)::after {content: \"\\00b7\"; padding: 0 .5ex}\n",
       "</style>\n",
       "<ol class=list-inline><li>'LOC111103344'</li><li>'LOC111115023'</li><li>'LOC111117745'</li><li>'LOC111117760'</li><li>'LOC111118022'</li><li>'LOC111119327'</li></ol>\n"
      ],
      "text/latex": [
       "\\begin{enumerate*}\n",
       "\\item 'LOC111103344'\n",
       "\\item 'LOC111115023'\n",
       "\\item 'LOC111117745'\n",
       "\\item 'LOC111117760'\n",
       "\\item 'LOC111118022'\n",
       "\\item 'LOC111119327'\n",
       "\\end{enumerate*}\n"
      ],
      "text/markdown": [
       "1. 'LOC111103344'\n",
       "2. 'LOC111115023'\n",
       "3. 'LOC111117745'\n",
       "4. 'LOC111117760'\n",
       "5. 'LOC111118022'\n",
       "6. 'LOC111119327'\n",
       "\n",
       "\n"
      ],
      "text/plain": [
       "[1] \"LOC111103344\" \"LOC111115023\" \"LOC111117745\" \"LOC111117760\" \"LOC111118022\"\n",
       "[6] \"LOC111119327\""
      ]
     },
     "metadata": {},
     "output_type": "display_data"
    }
   ],
   "source": [
    "# list of sig. DMG from CH vs. HC\n",
    "sigCC <- read.csv('/project/pi_sarah_gignouxwolfsohn_uml_edu/julia/CE_MethylRAD_analysis_2018/analysis/deseq_res_files/geneFeatures_res/sig_DMGs/sig_CC_HC_genes.csv')\n",
    "sigCC <- sigCC[,2]\n",
    "\n",
    "length(sigCC)\n",
    "head(sigCC)"
   ]
  },
  {
   "cell_type": "code",
   "execution_count": 90,
   "id": "9bbb874f-8f10-45da-8c6c-8349eba1765a",
   "metadata": {},
   "outputs": [
    {
     "data": {
      "text/html": [
       "<table class=\"dataframe\">\n",
       "<caption>A tibble: 6 × 4</caption>\n",
       "<thead>\n",
       "\t<tr><th scope=col>GO.IDs</th><th scope=col>GOslim</th><th scope=col>Term</th><th scope=col>gene_id</th></tr>\n",
       "\t<tr><th scope=col>&lt;chr&gt;</th><th scope=col>&lt;chr&gt;</th><th scope=col>&lt;chr&gt;</th><th scope=col>&lt;chr&gt;</th></tr>\n",
       "</thead>\n",
       "<tbody>\n",
       "\t<tr><td>GO:0000027</td><td>GO:0042254</td><td>ribosome biogenesis                </td><td>LOC111120109</td></tr>\n",
       "\t<tr><td>GO:0000027</td><td>GO:0042254</td><td>protein-containing complex assembly</td><td>LOC111120109</td></tr>\n",
       "\t<tr><td>GO:0000027</td><td>GO:0065003</td><td>ribosome biogenesis                </td><td>LOC111120109</td></tr>\n",
       "\t<tr><td>GO:0000027</td><td>GO:0065003</td><td>protein-containing complex assembly</td><td>LOC111120109</td></tr>\n",
       "\t<tr><td>GO:0000028</td><td>GO:0042254</td><td>ribosome biogenesis                </td><td>LOC111120557</td></tr>\n",
       "\t<tr><td>GO:0000028</td><td>GO:0042254</td><td>protein-containing complex assembly</td><td>LOC111120557</td></tr>\n",
       "</tbody>\n",
       "</table>\n"
      ],
      "text/latex": [
       "A tibble: 6 × 4\n",
       "\\begin{tabular}{llll}\n",
       " GO.IDs & GOslim & Term & gene\\_id\\\\\n",
       " <chr> & <chr> & <chr> & <chr>\\\\\n",
       "\\hline\n",
       "\t GO:0000027 & GO:0042254 & ribosome biogenesis                 & LOC111120109\\\\\n",
       "\t GO:0000027 & GO:0042254 & protein-containing complex assembly & LOC111120109\\\\\n",
       "\t GO:0000027 & GO:0065003 & ribosome biogenesis                 & LOC111120109\\\\\n",
       "\t GO:0000027 & GO:0065003 & protein-containing complex assembly & LOC111120109\\\\\n",
       "\t GO:0000028 & GO:0042254 & ribosome biogenesis                 & LOC111120557\\\\\n",
       "\t GO:0000028 & GO:0042254 & protein-containing complex assembly & LOC111120557\\\\\n",
       "\\end{tabular}\n"
      ],
      "text/markdown": [
       "\n",
       "A tibble: 6 × 4\n",
       "\n",
       "| GO.IDs &lt;chr&gt; | GOslim &lt;chr&gt; | Term &lt;chr&gt; | gene_id &lt;chr&gt; |\n",
       "|---|---|---|---|\n",
       "| GO:0000027 | GO:0042254 | ribosome biogenesis                 | LOC111120109 |\n",
       "| GO:0000027 | GO:0042254 | protein-containing complex assembly | LOC111120109 |\n",
       "| GO:0000027 | GO:0065003 | ribosome biogenesis                 | LOC111120109 |\n",
       "| GO:0000027 | GO:0065003 | protein-containing complex assembly | LOC111120109 |\n",
       "| GO:0000028 | GO:0042254 | ribosome biogenesis                 | LOC111120557 |\n",
       "| GO:0000028 | GO:0042254 | protein-containing complex assembly | LOC111120557 |\n",
       "\n"
      ],
      "text/plain": [
       "  GO.IDs     GOslim     Term                                gene_id     \n",
       "1 GO:0000027 GO:0042254 ribosome biogenesis                 LOC111120109\n",
       "2 GO:0000027 GO:0042254 protein-containing complex assembly LOC111120109\n",
       "3 GO:0000027 GO:0065003 ribosome biogenesis                 LOC111120109\n",
       "4 GO:0000027 GO:0065003 protein-containing complex assembly LOC111120109\n",
       "5 GO:0000028 GO:0042254 ribosome biogenesis                 LOC111120557\n",
       "6 GO:0000028 GO:0042254 protein-containing complex assembly LOC111120557"
      ]
     },
     "metadata": {},
     "output_type": "display_data"
    }
   ],
   "source": [
    "flat.HH_goSlim <- HH_goSlim %>% separate_rows(!!sym('GOslim'), sep = \";\")\n",
    "\n",
    "flat.HH_goSlim <- flat.HH_goSlim %>% separate_rows(!!sym('Term'), sep = \";\") \n",
    "head(flat.HH_goSlim)"
   ]
  },
  {
   "cell_type": "code",
   "execution_count": 92,
   "id": "92e08886-557f-46b0-984e-2fc2ed87d940",
   "metadata": {},
   "outputs": [
    {
     "data": {
      "image/png": "[encoded data removed]",
      "text/plain": [
       "plot without title"
      ]
     },
     "metadata": {
      "image/png": {
       "height": 420,
       "width": 420
      }
     },
     "output_type": "display_data"
    }
   ],
   "source": [
    "HH_goSlim_DMG <- flat.HH_goSlim %>% \n",
    "  count(Term, sort = TRUE) %>% \n",
    "  mutate(Percent = n / sum(n) * 100) %>% \n",
    "  ggplot(aes(x=reorder(Term, Percent), y=Percent)) +\n",
    "  geom_col(fill = 'deeppink2') +\n",
    "  labs(x=\"Term\", y=\"Percent\") +\n",
    "  theme_bw() +\n",
    "coord_flip()\n",
    "\n",
    "HH_goSlim_DMG"
   ]
  }
 ],
 "metadata": {
  "kernelspec": {
   "display_name": "R [conda env:.conda-r-env]",
   "language": "R",
   "name": "conda-env-.conda-r-env-r"
  },
  "language_info": {
   "codemirror_mode": "r",
   "file_extension": ".r",
   "mimetype": "text/x-r-source",
   "name": "R",
   "pygments_lexer": "r",
   "version": "4.3.2"
  }
 },
 "nbformat": 4,
 "nbformat_minor": 5
}
