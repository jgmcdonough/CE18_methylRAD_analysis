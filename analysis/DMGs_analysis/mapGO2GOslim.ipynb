{
 "cells": [
  {
   "cell_type": "markdown",
   "id": "8794aeae-b532-40b8-bd70-5c51fe256cb5",
   "metadata": {},
   "source": [
    "# Mapping GO IDs to GO Slim Terms\n",
    "\n",
    "This code utilizes pipelines from the [paper-gonad-meth repo](https://github.com/epigeneticstoocean/paper-gonad-meth/tree/master) and [bioinformatics pipeline](https://robertslab.github.io/resources/bio-Annotation/#map-go-ids-to-goslims), both out of the Roberts Lab."
   ]
  },
  {
   "cell_type": "code",
   "execution_count": 2,
   "id": "7a5eb15c-4ddf-42c9-8af9-ebe61261a4d0",
   "metadata": {},
   "outputs": [],
   "source": [
    "# loading packages\n",
    "library(tidyverse)\n",
    "library(dplyr)\n",
    "library(GSEABase)\n",
    "library(GO.db)"
   ]
  },
  {
   "cell_type": "markdown",
   "id": "632be731-9f81-4d80-b75f-ad8cccbe5b37",
   "metadata": {},
   "source": [
    "input file includes column of gene ID and column of Gene Ontology (GO) ID, separated by semi-colon\n",
    "\n",
    "Gene Onology file for *Crassostrea virginica* obtained from [NCBI](https://ftp.ncbi.nlm.nih.gov/genomes/all/GCF/002/022/765/GCF_002022765.2_C_virginica-3.0/)"
   ]
  },
  {
   "cell_type": "code",
   "execution_count": 26,
   "id": "fadcb137-7003-4ae7-bc65-ed5c89774132",
   "metadata": {},
   "outputs": [
    {
     "data": {
      "text/html": [
       "<table class=\"dataframe\">\n",
       "<caption>A data.frame: 6 × 2</caption>\n",
       "<thead>\n",
       "\t<tr><th></th><th scope=col>gene_id</th><th scope=col>Gene.Ontology.IDs</th></tr>\n",
       "\t<tr><th></th><th scope=col>&lt;chr&gt;</th><th scope=col>&lt;chr&gt;</th></tr>\n",
       "</thead>\n",
       "<tbody>\n",
       "\t<tr><th scope=row>1</th><td>LOC111099029</td><td>GO:0005261; GO:0098655            </td></tr>\n",
       "\t<tr><th scope=row>2</th><td>LOC111099032</td><td>GO:0004930; GO:0005886; GO:0007186</td></tr>\n",
       "\t<tr><th scope=row>3</th><td>LOC111099033</td><td>GO:0016020; GO:0022857; GO:0055085</td></tr>\n",
       "\t<tr><th scope=row>4</th><td>LOC111099034</td><td>GO:0005515                        </td></tr>\n",
       "\t<tr><th scope=row>5</th><td>LOC111099036</td><td>GO:0008028; GO:0015718; GO:0055085</td></tr>\n",
       "\t<tr><th scope=row>6</th><td>LOC111099039</td><td>GO:0004930; GO:0005886; GO:0007189</td></tr>\n",
       "</tbody>\n",
       "</table>\n"
      ],
      "text/latex": [
       "A data.frame: 6 × 2\n",
       "\\begin{tabular}{r|ll}\n",
       "  & gene\\_id & Gene.Ontology.IDs\\\\\n",
       "  & <chr> & <chr>\\\\\n",
       "\\hline\n",
       "\t1 & LOC111099029 & GO:0005261; GO:0098655            \\\\\n",
       "\t2 & LOC111099032 & GO:0004930; GO:0005886; GO:0007186\\\\\n",
       "\t3 & LOC111099033 & GO:0016020; GO:0022857; GO:0055085\\\\\n",
       "\t4 & LOC111099034 & GO:0005515                        \\\\\n",
       "\t5 & LOC111099036 & GO:0008028; GO:0015718; GO:0055085\\\\\n",
       "\t6 & LOC111099039 & GO:0004930; GO:0005886; GO:0007189\\\\\n",
       "\\end{tabular}\n"
      ],
      "text/markdown": [
       "\n",
       "A data.frame: 6 × 2\n",
       "\n",
       "| <!--/--> | gene_id &lt;chr&gt; | Gene.Ontology.IDs &lt;chr&gt; |\n",
       "|---|---|---|\n",
       "| 1 | LOC111099029 | GO:0005261; GO:0098655             |\n",
       "| 2 | LOC111099032 | GO:0004930; GO:0005886; GO:0007186 |\n",
       "| 3 | LOC111099033 | GO:0016020; GO:0022857; GO:0055085 |\n",
       "| 4 | LOC111099034 | GO:0005515                         |\n",
       "| 5 | LOC111099036 | GO:0008028; GO:0015718; GO:0055085 |\n",
       "| 6 | LOC111099039 | GO:0004930; GO:0005886; GO:0007189 |\n",
       "\n"
      ],
      "text/plain": [
       "  gene_id      Gene.Ontology.IDs                 \n",
       "1 LOC111099029 GO:0005261; GO:0098655            \n",
       "2 LOC111099032 GO:0004930; GO:0005886; GO:0007186\n",
       "3 LOC111099033 GO:0016020; GO:0022857; GO:0055085\n",
       "4 LOC111099034 GO:0005515                        \n",
       "5 LOC111099036 GO:0008028; GO:0015718; GO:0055085\n",
       "6 LOC111099039 GO:0004930; GO:0005886; GO:0007189"
      ]
     },
     "metadata": {},
     "output_type": "display_data"
    }
   ],
   "source": [
    "# Read the GAF file into R\n",
    "GOobo <- read.table('/project/pi_sarah_gignouxwolfsohn_uml_edu/Reference_genomes/Cvirginica_genome/GCF_002022765.2_C_virginica-3.0_gene_ontology.gaf', \n",
    "                          sep = \"\\t\", \n",
    "                          header = FALSE, \n",
    "                          comment.char = \"!\", \n",
    "                          stringsAsFactors = FALSE)\n",
    "\n",
    "# assign column names\n",
    "colnames(GOobo) <- c('DB', 'GeneID', 'gene_id', 'Qualifier', 'Gene.Ontology.IDs', 'Reference', 'Evidence_Code', 'With,From', 'Aspect', 'Gene_Name', 'Gene_Synonym', 'Type', 'Taxon', 'Date', 'Assigned_By')\n",
    "\n",
    "# selecting only the LOC number and GO ID columns\n",
    "gene2GO <- GOobo[,c(3,5)]\n",
    "\n",
    "# Aggregate GO IDs for each gene symbol\n",
    "gene2GO <- aggregate(Gene.Ontology.IDs ~ gene_id, data = gene2GO, function(x) paste(unique(x), collapse = \"; \"))\n",
    "\n",
    "# preview df\n",
    "head(gene2GO)\n"
   ]
  },
  {
   "cell_type": "code",
   "execution_count": 27,
   "id": "c88cfc64-bf34-4dc0-a20a-f42dc0040c16",
   "metadata": {},
   "outputs": [],
   "source": [
    "write.csv(gene2GO, '/project/pi_sarah_gignouxwolfsohn_uml_edu/julia/CE_MethylRAD_analysis_2018/analysis/DMGs_analysis/gene2GO.csv', row.names=FALSE)"
   ]
  },
  {
   "cell_type": "code",
   "execution_count": 3,
   "id": "e0653386-445c-4100-9d7e-8f7f2b48d4bc",
   "metadata": {},
   "outputs": [
    {
     "data": {
      "text/html": [
       "<table class=\"dataframe\">\n",
       "<caption>A data.frame: 6 × 2</caption>\n",
       "<thead>\n",
       "\t<tr><th></th><th scope=col>gene_id</th><th scope=col>Gene.Ontology.IDs</th></tr>\n",
       "\t<tr><th></th><th scope=col>&lt;chr&gt;</th><th scope=col>&lt;chr&gt;</th></tr>\n",
       "</thead>\n",
       "<tbody>\n",
       "\t<tr><th scope=row>1</th><td>LOC111099029</td><td>GO:0005261; GO:0098655            </td></tr>\n",
       "\t<tr><th scope=row>2</th><td>LOC111099032</td><td>GO:0004930; GO:0005886; GO:0007186</td></tr>\n",
       "\t<tr><th scope=row>3</th><td>LOC111099033</td><td>GO:0016020; GO:0022857; GO:0055085</td></tr>\n",
       "\t<tr><th scope=row>4</th><td>LOC111099034</td><td>GO:0005515                        </td></tr>\n",
       "\t<tr><th scope=row>5</th><td>LOC111099036</td><td>GO:0008028; GO:0015718; GO:0055085</td></tr>\n",
       "\t<tr><th scope=row>6</th><td>LOC111099039</td><td>GO:0004930; GO:0005886; GO:0007189</td></tr>\n",
       "</tbody>\n",
       "</table>\n"
      ],
      "text/latex": [
       "A data.frame: 6 × 2\n",
       "\\begin{tabular}{r|ll}\n",
       "  & gene\\_id & Gene.Ontology.IDs\\\\\n",
       "  & <chr> & <chr>\\\\\n",
       "\\hline\n",
       "\t1 & LOC111099029 & GO:0005261; GO:0098655            \\\\\n",
       "\t2 & LOC111099032 & GO:0004930; GO:0005886; GO:0007186\\\\\n",
       "\t3 & LOC111099033 & GO:0016020; GO:0022857; GO:0055085\\\\\n",
       "\t4 & LOC111099034 & GO:0005515                        \\\\\n",
       "\t5 & LOC111099036 & GO:0008028; GO:0015718; GO:0055085\\\\\n",
       "\t6 & LOC111099039 & GO:0004930; GO:0005886; GO:0007189\\\\\n",
       "\\end{tabular}\n"
      ],
      "text/markdown": [
       "\n",
       "A data.frame: 6 × 2\n",
       "\n",
       "| <!--/--> | gene_id &lt;chr&gt; | Gene.Ontology.IDs &lt;chr&gt; |\n",
       "|---|---|---|\n",
       "| 1 | LOC111099029 | GO:0005261; GO:0098655             |\n",
       "| 2 | LOC111099032 | GO:0004930; GO:0005886; GO:0007186 |\n",
       "| 3 | LOC111099033 | GO:0016020; GO:0022857; GO:0055085 |\n",
       "| 4 | LOC111099034 | GO:0005515                         |\n",
       "| 5 | LOC111099036 | GO:0008028; GO:0015718; GO:0055085 |\n",
       "| 6 | LOC111099039 | GO:0004930; GO:0005886; GO:0007189 |\n",
       "\n"
      ],
      "text/plain": [
       "  gene_id      Gene.Ontology.IDs                 \n",
       "1 LOC111099029 GO:0005261; GO:0098655            \n",
       "2 LOC111099032 GO:0004930; GO:0005886; GO:0007186\n",
       "3 LOC111099033 GO:0016020; GO:0022857; GO:0055085\n",
       "4 LOC111099034 GO:0005515                        \n",
       "5 LOC111099036 GO:0008028; GO:0015718; GO:0055085\n",
       "6 LOC111099039 GO:0004930; GO:0005886; GO:0007189"
      ]
     },
     "metadata": {},
     "output_type": "display_data"
    }
   ],
   "source": [
    "head(read.csv('/project/pi_sarah_gignouxwolfsohn_uml_edu/julia/CE_MethylRAD_analysis_2018/analysis/DMGs_analysis/gene2GO.csv'))"
   ]
  },
  {
   "cell_type": "markdown",
   "id": "b31870f3-8d5d-4640-bfd3-aaff9c2f5397",
   "metadata": {
    "tags": []
   },
   "source": [
    "### [Roberts Lab Bioinformatic Annotation Pipeline](https://robertslab.github.io/resources/bio-Annotation/#map-go-ids-to-goslims)"
   ]
  },
  {
   "cell_type": "code",
   "execution_count": 5,
   "id": "ab47aee1-8ca9-4ad7-9cd9-47bd39272309",
   "metadata": {},
   "outputs": [],
   "source": [
    "# copied from workflow pipeline linked above\n",
    "\n",
    "# set variables\n",
    "\n",
    "# Column names corresponding to gene name/ID and GO IDs\n",
    "GO.ID.column <- \"Gene.Ontology.IDs\"\n",
    "gene.ID.column <- \"gene_id\"\n",
    "\n",
    "# Relative path or URL to input file\n",
    "input.file <- \"/project/pi_sarah_gignouxwolfsohn_uml_edu/julia/CE_MethylRAD_analysis_2018/analysis/DMGs_analysis/gene2GO.csv\"\n",
    "\n",
    "\n",
    "##### Official GO info - no need to change #####\n",
    "goslims_obo <- \"goslim_generic.obo\"\n",
    "goslims_url <- \"http://current.geneontology.org/ontology/subsets/goslim_generic.obo\"\n"
   ]
  },
  {
   "cell_type": "code",
   "execution_count": 6,
   "id": "756e784d-cf11-4b75-a9e1-4cbc2f93c3b2",
   "metadata": {},
   "outputs": [],
   "source": [
    "# copied from workflow pipeline linked above\n",
    "\n",
    "# download generic goslim-obo\n",
    "\n",
    "# Find GSEAbase installation location\n",
    "gseabase_location <- find.package(\"GSEABase\")\n",
    "\n",
    "# Load path to GOslim OBO file\n",
    "goslim_obo_destintation <- file.path(gseabase_location, \"extdata\", goslims_obo, fsep = \"/\")\n",
    "\n",
    "# Download the GOslim OBO file\n",
    "download.file(url = goslims_url, destfile = goslim_obo_destintation)\n",
    "\n",
    "# Loads package files\n",
    "gseabase_files <- system.file(\"extdata\", goslims_obo, package=\"GSEABase\")"
   ]
  },
  {
   "cell_type": "markdown",
   "id": "5c03d33f-431d-48f7-9d8c-885f0615132b",
   "metadata": {},
   "source": [
    "one unique gene per row, multiple GO IDs per gene"
   ]
  },
  {
   "cell_type": "code",
   "execution_count": 7,
   "id": "e3bd2dec-ec3f-42a2-8eac-7b282eb34538",
   "metadata": {},
   "outputs": [
    {
     "name": "stdout",
     "output_type": "stream",
     "text": [
      "'data.frame':\t22614 obs. of  2 variables:\n",
      " $ gene_id          : chr  \"LOC111099029\" \"LOC111099032\" \"LOC111099033\" \"LOC111099034\" ...\n",
      " $ Gene.Ontology.IDs: chr  \"GO:0005261; GO:0098655\" \"GO:0004930; GO:0005886; GO:0007186\" \"GO:0016020; GO:0022857; GO:0055085\" \"GO:0005515\" ...\n"
     ]
    },
    {
     "data": {
      "text/html": [
       "<table class=\"dataframe\">\n",
       "<caption>A data.frame: 6 × 2</caption>\n",
       "<thead>\n",
       "\t<tr><th></th><th scope=col>gene_id</th><th scope=col>Gene.Ontology.IDs</th></tr>\n",
       "\t<tr><th></th><th scope=col>&lt;chr&gt;</th><th scope=col>&lt;chr&gt;</th></tr>\n",
       "</thead>\n",
       "<tbody>\n",
       "\t<tr><th scope=row>1</th><td>LOC111099029</td><td>GO:0005261; GO:0098655            </td></tr>\n",
       "\t<tr><th scope=row>2</th><td>LOC111099032</td><td>GO:0004930; GO:0005886; GO:0007186</td></tr>\n",
       "\t<tr><th scope=row>3</th><td>LOC111099033</td><td>GO:0016020; GO:0022857; GO:0055085</td></tr>\n",
       "\t<tr><th scope=row>4</th><td>LOC111099034</td><td>GO:0005515                        </td></tr>\n",
       "\t<tr><th scope=row>5</th><td>LOC111099036</td><td>GO:0008028; GO:0015718; GO:0055085</td></tr>\n",
       "\t<tr><th scope=row>6</th><td>LOC111099039</td><td>GO:0004930; GO:0005886; GO:0007189</td></tr>\n",
       "</tbody>\n",
       "</table>\n"
      ],
      "text/latex": [
       "A data.frame: 6 × 2\n",
       "\\begin{tabular}{r|ll}\n",
       "  & gene\\_id & Gene.Ontology.IDs\\\\\n",
       "  & <chr> & <chr>\\\\\n",
       "\\hline\n",
       "\t1 & LOC111099029 & GO:0005261; GO:0098655            \\\\\n",
       "\t2 & LOC111099032 & GO:0004930; GO:0005886; GO:0007186\\\\\n",
       "\t3 & LOC111099033 & GO:0016020; GO:0022857; GO:0055085\\\\\n",
       "\t4 & LOC111099034 & GO:0005515                        \\\\\n",
       "\t5 & LOC111099036 & GO:0008028; GO:0015718; GO:0055085\\\\\n",
       "\t6 & LOC111099039 & GO:0004930; GO:0005886; GO:0007189\\\\\n",
       "\\end{tabular}\n"
      ],
      "text/markdown": [
       "\n",
       "A data.frame: 6 × 2\n",
       "\n",
       "| <!--/--> | gene_id &lt;chr&gt; | Gene.Ontology.IDs &lt;chr&gt; |\n",
       "|---|---|---|\n",
       "| 1 | LOC111099029 | GO:0005261; GO:0098655             |\n",
       "| 2 | LOC111099032 | GO:0004930; GO:0005886; GO:0007186 |\n",
       "| 3 | LOC111099033 | GO:0016020; GO:0022857; GO:0055085 |\n",
       "| 4 | LOC111099034 | GO:0005515                         |\n",
       "| 5 | LOC111099036 | GO:0008028; GO:0015718; GO:0055085 |\n",
       "| 6 | LOC111099039 | GO:0004930; GO:0005886; GO:0007189 |\n",
       "\n"
      ],
      "text/plain": [
       "  gene_id      Gene.Ontology.IDs                 \n",
       "1 LOC111099029 GO:0005261; GO:0098655            \n",
       "2 LOC111099032 GO:0004930; GO:0005886; GO:0007186\n",
       "3 LOC111099033 GO:0016020; GO:0022857; GO:0055085\n",
       "4 LOC111099034 GO:0005515                        \n",
       "5 LOC111099036 GO:0008028; GO:0015718; GO:0055085\n",
       "6 LOC111099039 GO:0004930; GO:0005886; GO:0007189"
      ]
     },
     "metadata": {},
     "output_type": "display_data"
    }
   ],
   "source": [
    "# copied from workflow pipeline linked above\n",
    "\n",
    "# read in gene file\n",
    "\n",
    "full.gene.df <- read.csv(file = input.file, header = TRUE)\n",
    "\n",
    "str(full.gene.df)\n",
    "head(full.gene.df)"
   ]
  },
  {
   "cell_type": "code",
   "execution_count": 8,
   "id": "083b5e68-417f-4f2b-8164-67487d44947a",
   "metadata": {},
   "outputs": [
    {
     "data": {
      "text/html": [
       "<table class=\"dataframe\">\n",
       "<caption>A data.frame: 6 × 2</caption>\n",
       "<thead>\n",
       "\t<tr><th></th><th scope=col>gene_id</th><th scope=col>Gene.Ontology.IDs</th></tr>\n",
       "\t<tr><th></th><th scope=col>&lt;chr&gt;</th><th scope=col>&lt;chr&gt;</th></tr>\n",
       "</thead>\n",
       "<tbody>\n",
       "\t<tr><th scope=row>1</th><td>LOC111099029</td><td>GO:0005261;GO:0098655           </td></tr>\n",
       "\t<tr><th scope=row>2</th><td>LOC111099032</td><td>GO:0004930;GO:0005886;GO:0007186</td></tr>\n",
       "\t<tr><th scope=row>3</th><td>LOC111099033</td><td>GO:0016020;GO:0022857;GO:0055085</td></tr>\n",
       "\t<tr><th scope=row>4</th><td>LOC111099034</td><td>GO:0005515                      </td></tr>\n",
       "\t<tr><th scope=row>5</th><td>LOC111099036</td><td>GO:0008028;GO:0015718;GO:0055085</td></tr>\n",
       "\t<tr><th scope=row>6</th><td>LOC111099039</td><td>GO:0004930;GO:0005886;GO:0007189</td></tr>\n",
       "</tbody>\n",
       "</table>\n"
      ],
      "text/latex": [
       "A data.frame: 6 × 2\n",
       "\\begin{tabular}{r|ll}\n",
       "  & gene\\_id & Gene.Ontology.IDs\\\\\n",
       "  & <chr> & <chr>\\\\\n",
       "\\hline\n",
       "\t1 & LOC111099029 & GO:0005261;GO:0098655           \\\\\n",
       "\t2 & LOC111099032 & GO:0004930;GO:0005886;GO:0007186\\\\\n",
       "\t3 & LOC111099033 & GO:0016020;GO:0022857;GO:0055085\\\\\n",
       "\t4 & LOC111099034 & GO:0005515                      \\\\\n",
       "\t5 & LOC111099036 & GO:0008028;GO:0015718;GO:0055085\\\\\n",
       "\t6 & LOC111099039 & GO:0004930;GO:0005886;GO:0007189\\\\\n",
       "\\end{tabular}\n"
      ],
      "text/markdown": [
       "\n",
       "A data.frame: 6 × 2\n",
       "\n",
       "| <!--/--> | gene_id &lt;chr&gt; | Gene.Ontology.IDs &lt;chr&gt; |\n",
       "|---|---|---|\n",
       "| 1 | LOC111099029 | GO:0005261;GO:0098655            |\n",
       "| 2 | LOC111099032 | GO:0004930;GO:0005886;GO:0007186 |\n",
       "| 3 | LOC111099033 | GO:0016020;GO:0022857;GO:0055085 |\n",
       "| 4 | LOC111099034 | GO:0005515                       |\n",
       "| 5 | LOC111099036 | GO:0008028;GO:0015718;GO:0055085 |\n",
       "| 6 | LOC111099039 | GO:0004930;GO:0005886;GO:0007189 |\n",
       "\n"
      ],
      "text/plain": [
       "  gene_id      Gene.Ontology.IDs               \n",
       "1 LOC111099029 GO:0005261;GO:0098655           \n",
       "2 LOC111099032 GO:0004930;GO:0005886;GO:0007186\n",
       "3 LOC111099033 GO:0016020;GO:0022857;GO:0055085\n",
       "4 LOC111099034 GO:0005515                      \n",
       "5 LOC111099036 GO:0008028;GO:0015718;GO:0055085\n",
       "6 LOC111099039 GO:0004930;GO:0005886;GO:0007189"
      ]
     },
     "metadata": {},
     "output_type": "display_data"
    }
   ],
   "source": [
    "# copied from workflow pipeline linked above\n",
    "\n",
    "# remove NA and uniprotIDs\n",
    "\n",
    "# Clean whitespace, filter NA/empty rows, select columns, and split GO terms using column name variables\n",
    "library(dplyr) # for some reason I'm having conflicts with select()\n",
    "gene.GO.df <- full.gene.df %>%\n",
    "  mutate(!!GO.ID.column := str_replace_all(.data[[GO.ID.column]], \"\\\\s*;\\\\s*\", \";\")) %>%\n",
    "  filter(!is.na(.data[[gene.ID.column]]) & !is.na(.data[[GO.ID.column]]) & .data[[GO.ID.column]] != \"\") %>%\n",
    "  dplyr::select(all_of(c(gene.ID.column, GO.ID.column)))\n",
    "\n",
    "head(gene.GO.df)"
   ]
  },
  {
   "cell_type": "markdown",
   "id": "14f373d3-7ebd-46f8-9325-6f3b3a1c8bcb",
   "metadata": {},
   "source": [
    "flatten df so only one gene and one GO ID per row"
   ]
  },
  {
   "cell_type": "code",
   "execution_count": 9,
   "id": "ea5c6f9a-a2a5-4cd5-85e7-260399065c77",
   "metadata": {},
   "outputs": [
    {
     "name": "stdout",
     "output_type": "stream",
     "text": [
      "tibble [77,015 × 2] (S3: tbl_df/tbl/data.frame)\n",
      " $ gene_id          : chr [1:77015] \"LOC111099029\" \"LOC111099029\" \"LOC111099032\" \"LOC111099032\" ...\n",
      " $ Gene.Ontology.IDs: chr [1:77015] \"GO:0005261\" \"GO:0098655\" \"GO:0004930\" \"GO:0005886\" ...\n"
     ]
    },
    {
     "data": {
      "text/html": [
       "<table class=\"dataframe\">\n",
       "<caption>A tibble: 6 × 2</caption>\n",
       "<thead>\n",
       "\t<tr><th scope=col>gene_id</th><th scope=col>Gene.Ontology.IDs</th></tr>\n",
       "\t<tr><th scope=col>&lt;chr&gt;</th><th scope=col>&lt;chr&gt;</th></tr>\n",
       "</thead>\n",
       "<tbody>\n",
       "\t<tr><td>LOC111099029</td><td>GO:0005261</td></tr>\n",
       "\t<tr><td>LOC111099029</td><td>GO:0098655</td></tr>\n",
       "\t<tr><td>LOC111099032</td><td>GO:0004930</td></tr>\n",
       "\t<tr><td>LOC111099032</td><td>GO:0005886</td></tr>\n",
       "\t<tr><td>LOC111099032</td><td>GO:0007186</td></tr>\n",
       "\t<tr><td>LOC111099033</td><td>GO:0016020</td></tr>\n",
       "</tbody>\n",
       "</table>\n"
      ],
      "text/latex": [
       "A tibble: 6 × 2\n",
       "\\begin{tabular}{ll}\n",
       " gene\\_id & Gene.Ontology.IDs\\\\\n",
       " <chr> & <chr>\\\\\n",
       "\\hline\n",
       "\t LOC111099029 & GO:0005261\\\\\n",
       "\t LOC111099029 & GO:0098655\\\\\n",
       "\t LOC111099032 & GO:0004930\\\\\n",
       "\t LOC111099032 & GO:0005886\\\\\n",
       "\t LOC111099032 & GO:0007186\\\\\n",
       "\t LOC111099033 & GO:0016020\\\\\n",
       "\\end{tabular}\n"
      ],
      "text/markdown": [
       "\n",
       "A tibble: 6 × 2\n",
       "\n",
       "| gene_id &lt;chr&gt; | Gene.Ontology.IDs &lt;chr&gt; |\n",
       "|---|---|\n",
       "| LOC111099029 | GO:0005261 |\n",
       "| LOC111099029 | GO:0098655 |\n",
       "| LOC111099032 | GO:0004930 |\n",
       "| LOC111099032 | GO:0005886 |\n",
       "| LOC111099032 | GO:0007186 |\n",
       "| LOC111099033 | GO:0016020 |\n",
       "\n"
      ],
      "text/plain": [
       "  gene_id      Gene.Ontology.IDs\n",
       "1 LOC111099029 GO:0005261       \n",
       "2 LOC111099029 GO:0098655       \n",
       "3 LOC111099032 GO:0004930       \n",
       "4 LOC111099032 GO:0005886       \n",
       "5 LOC111099032 GO:0007186       \n",
       "6 LOC111099033 GO:0016020       "
      ]
     },
     "metadata": {},
     "output_type": "display_data"
    }
   ],
   "source": [
    "# copied from workflow pipeline linked above\n",
    "\n",
    "# flatten gene and GO IDs\n",
    "\n",
    "flat.gene.GO.df <- gene.GO.df %>% separate_rows(!!sym(GO.ID.column), sep = \";\")\n",
    "\n",
    "str(flat.gene.GO.df)\n",
    "head(flat.gene.GO.df)"
   ]
  },
  {
   "cell_type": "markdown",
   "id": "867d4ce1-377b-4cca-90d9-623d7aeec4d7",
   "metadata": {},
   "source": [
    "Grouping by GO ID - one unique GO ID per row, multiple genes per GO ID"
   ]
  },
  {
   "cell_type": "code",
   "execution_count": 10,
   "id": "d5471c73-f94d-4b77-ab99-ac6649ae8d81",
   "metadata": {},
   "outputs": [
    {
     "name": "stdout",
     "output_type": "stream",
     "text": [
      "tibble [5,357 × 2] (S3: tbl_df/tbl/data.frame)\n",
      " $ Gene.Ontology.IDs: chr [1:5357] \"GO:0000002\" \"GO:0000003\" \"GO:0000009\" \"GO:0000012\" ...\n",
      " $ gene_id          : chr [1:5357] \"LOC111135903\" \"LOC111115224\" \"LOC111099485,LOC111099578,LOC111108038,LOC111119818\" \"LOC111111498,LOC111111868,LOC111128425,LOC111128516,LOC111135198,LOC111135354,LOC111136704\" ...\n"
     ]
    },
    {
     "data": {
      "text/html": [
       "<table class=\"dataframe\">\n",
       "<caption>A tibble: 6 × 2</caption>\n",
       "<thead>\n",
       "\t<tr><th scope=col>Gene.Ontology.IDs</th><th scope=col>gene_id</th></tr>\n",
       "\t<tr><th scope=col>&lt;chr&gt;</th><th scope=col>&lt;chr&gt;</th></tr>\n",
       "</thead>\n",
       "<tbody>\n",
       "\t<tr><td>GO:0000002</td><td>LOC111135903                                                                              </td></tr>\n",
       "\t<tr><td>GO:0000003</td><td>LOC111115224                                                                              </td></tr>\n",
       "\t<tr><td>GO:0000009</td><td>LOC111099485,LOC111099578,LOC111108038,LOC111119818                                       </td></tr>\n",
       "\t<tr><td>GO:0000012</td><td>LOC111111498,LOC111111868,LOC111128425,LOC111128516,LOC111135198,LOC111135354,LOC111136704</td></tr>\n",
       "\t<tr><td>GO:0000014</td><td>LOC111111711,LOC111111845,LOC111121059,LOC111126118                                       </td></tr>\n",
       "\t<tr><td>GO:0000015</td><td>LOC111132341,LOC111137133                                                                 </td></tr>\n",
       "</tbody>\n",
       "</table>\n"
      ],
      "text/latex": [
       "A tibble: 6 × 2\n",
       "\\begin{tabular}{ll}\n",
       " Gene.Ontology.IDs & gene\\_id\\\\\n",
       " <chr> & <chr>\\\\\n",
       "\\hline\n",
       "\t GO:0000002 & LOC111135903                                                                              \\\\\n",
       "\t GO:0000003 & LOC111115224                                                                              \\\\\n",
       "\t GO:0000009 & LOC111099485,LOC111099578,LOC111108038,LOC111119818                                       \\\\\n",
       "\t GO:0000012 & LOC111111498,LOC111111868,LOC111128425,LOC111128516,LOC111135198,LOC111135354,LOC111136704\\\\\n",
       "\t GO:0000014 & LOC111111711,LOC111111845,LOC111121059,LOC111126118                                       \\\\\n",
       "\t GO:0000015 & LOC111132341,LOC111137133                                                                 \\\\\n",
       "\\end{tabular}\n"
      ],
      "text/markdown": [
       "\n",
       "A tibble: 6 × 2\n",
       "\n",
       "| Gene.Ontology.IDs &lt;chr&gt; | gene_id &lt;chr&gt; |\n",
       "|---|---|\n",
       "| GO:0000002 | LOC111135903                                                                               |\n",
       "| GO:0000003 | LOC111115224                                                                               |\n",
       "| GO:0000009 | LOC111099485,LOC111099578,LOC111108038,LOC111119818                                        |\n",
       "| GO:0000012 | LOC111111498,LOC111111868,LOC111128425,LOC111128516,LOC111135198,LOC111135354,LOC111136704 |\n",
       "| GO:0000014 | LOC111111711,LOC111111845,LOC111121059,LOC111126118                                        |\n",
       "| GO:0000015 | LOC111132341,LOC111137133                                                                  |\n",
       "\n"
      ],
      "text/plain": [
       "  Gene.Ontology.IDs\n",
       "1 GO:0000002       \n",
       "2 GO:0000003       \n",
       "3 GO:0000009       \n",
       "4 GO:0000012       \n",
       "5 GO:0000014       \n",
       "6 GO:0000015       \n",
       "  gene_id                                                                                   \n",
       "1 LOC111135903                                                                              \n",
       "2 LOC111115224                                                                              \n",
       "3 LOC111099485,LOC111099578,LOC111108038,LOC111119818                                       \n",
       "4 LOC111111498,LOC111111868,LOC111128425,LOC111128516,LOC111135198,LOC111135354,LOC111136704\n",
       "5 LOC111111711,LOC111111845,LOC111121059,LOC111126118                                       \n",
       "6 LOC111132341,LOC111137133                                                                 "
      ]
     },
     "metadata": {},
     "output_type": "display_data"
    }
   ],
   "source": [
    "# copied from workflow pipeline linked above\n",
    "\n",
    "# group by GO\n",
    "\n",
    "grouped.gene.GO.df <- flat.gene.GO.df %>%\n",
    "  group_by(!!sym(GO.ID.column)) %>%\n",
    "  summarise(!!gene.ID.column := paste(.data[[gene.ID.column]], collapse = \",\"))\n",
    "\n",
    "str(grouped.gene.GO.df)\n",
    "head(grouped.gene.GO.df)"
   ]
  },
  {
   "cell_type": "markdown",
   "id": "83a66e8b-d35e-4564-9725-4f0206f9e590",
   "metadata": {},
   "source": [
    "#### Mapping GO IDs to GO Slim"
   ]
  },
  {
   "cell_type": "code",
   "execution_count": 11,
   "id": "0980a8a4-16cf-49da-9a70-a5b895bd742d",
   "metadata": {},
   "outputs": [
    {
     "name": "stdout",
     "output_type": "stream",
     "text": [
      " chr [1:5357] \"GO:0000002\" \"GO:0000003\" \"GO:0000009\" \"GO:0000012\" ...\n"
     ]
    },
    {
     "data": {
      "text/html": [
       "<style>\n",
       ".list-inline {list-style: none; margin:0; padding: 0}\n",
       ".list-inline>li {display: inline-block}\n",
       ".list-inline>li:not(:last-child)::after {content: \"\\00b7\"; padding: 0 .5ex}\n",
       "</style>\n",
       "<ol class=list-inline><li>'GO:0000002'</li><li>'GO:0000003'</li><li>'GO:0000009'</li><li>'GO:0000012'</li><li>'GO:0000014'</li><li>'GO:0000015'</li></ol>\n"
      ],
      "text/latex": [
       "\\begin{enumerate*}\n",
       "\\item 'GO:0000002'\n",
       "\\item 'GO:0000003'\n",
       "\\item 'GO:0000009'\n",
       "\\item 'GO:0000012'\n",
       "\\item 'GO:0000014'\n",
       "\\item 'GO:0000015'\n",
       "\\end{enumerate*}\n"
      ],
      "text/markdown": [
       "1. 'GO:0000002'\n",
       "2. 'GO:0000003'\n",
       "3. 'GO:0000009'\n",
       "4. 'GO:0000012'\n",
       "5. 'GO:0000014'\n",
       "6. 'GO:0000015'\n",
       "\n",
       "\n"
      ],
      "text/plain": [
       "[1] \"GO:0000002\" \"GO:0000003\" \"GO:0000009\" \"GO:0000012\" \"GO:0000014\"\n",
       "[6] \"GO:0000015\""
      ]
     },
     "metadata": {},
     "output_type": "display_data"
    }
   ],
   "source": [
    "# copied from workflow pipeline linked above\n",
    "\n",
    "# Vectorize GO IDs\n",
    "go_ids <- grouped.gene.GO.df[[GO.ID.column]]\n",
    "\n",
    "str(go_ids)\n",
    "head(go_ids)"
   ]
  },
  {
   "cell_type": "code",
   "execution_count": 12,
   "id": "151c7df5-08fa-41f3-ad7b-7a7c9d015f2c",
   "metadata": {},
   "outputs": [
    {
     "name": "stdout",
     "output_type": "stream",
     "text": [
      "Formal class 'OBOCollection' [package \"GSEABase\"] with 7 slots\n",
      "  ..@ .stanza     :'data.frame':\t153 obs. of  1 variable:\n",
      "  .. ..$ value: chr [1:153] \"Root\" \"Term\" \"Term\" \"Term\" ...\n",
      "  ..@ .subset     :'data.frame':\t22 obs. of  1 variable:\n",
      "  .. ..$ value: chr [1:22] \"Rhea list of ChEBI terms representing the major species at pH 7.3.\" \"Term not to be used for direct annotation\" \"Terms planned for obsoletion\" \"AGR slim\" ...\n",
      "  ..@ .kv         :'data.frame':\t2075 obs. of  3 variables:\n",
      "  .. ..$ stanza_id: chr [1:2075] \".__Root__\" \".__Root__\" \".__Root__\" \".__Root__\" ...\n",
      "  .. ..$ key      : chr [1:2075] \"format-version\" \"data-version\" \"synonymtypedef\" \"synonymtypedef\" ...\n",
      "  .. ..$ value    : chr [1:2075] \"1.2\" \"go/2024-11-03/subsets/goslim_generic.owl\" \"syngo_official_label \\\"label approved by the SynGO project\\\"\" \"systematic_synonym \\\"Systematic synonym\\\" EXACT\" ...\n",
      "  ..@ evidenceCode: chr [1:26] \"EXP\" \"IDA\" \"IPI\" \"IMP\" ...\n",
      "  ..@ ontology    : chr NA\n",
      "  ..@ ids         : chr [1:141] \"GO:0000228\" \"GO:0000278\" \"GO:0000910\" \"GO:0001618\" ...\n",
      "  ..@ type        : chr \"OBO\"\n"
     ]
    }
   ],
   "source": [
    "# copied from workflow pipeline linked above\n",
    "\n",
    "# extract GOslims from OBO\n",
    "\n",
    "# Create GSEAbase GOCollection using `go_ids`\n",
    "myCollection <- GOCollection(go_ids)\n",
    "\n",
    "# Retrieve GOslims from GO OBO file set\n",
    "slim <- getOBOCollection(gseabase_files)\n",
    "\n",
    "str(slim)"
   ]
  },
  {
   "cell_type": "code",
   "execution_count": 13,
   "id": "7a07672f-171f-4996-9775-c9d3c9741b7b",
   "metadata": {},
   "outputs": [
    {
     "name": "stdout",
     "output_type": "stream",
     "text": [
      "'data.frame':\t72 obs. of  3 variables:\n",
      " $ Count  : int  54 11 9 32 4 3 0 0 44 33 ...\n",
      " $ Percent: num  2.127 0.433 0.354 1.26 0.158 ...\n",
      " $ Term   : chr  \"mitotic cell cycle\" \"cytokinesis\" \"cytoplasmic translation\" \"immune system process\" ...\n"
     ]
    },
    {
     "data": {
      "text/html": [
       "<table class=\"dataframe\">\n",
       "<caption>A data.frame: 6 × 3</caption>\n",
       "<thead>\n",
       "\t<tr><th></th><th scope=col>Count</th><th scope=col>Percent</th><th scope=col>Term</th></tr>\n",
       "\t<tr><th></th><th scope=col>&lt;int&gt;</th><th scope=col>&lt;dbl&gt;</th><th scope=col>&lt;chr&gt;</th></tr>\n",
       "</thead>\n",
       "<tbody>\n",
       "\t<tr><th scope=row>GO:0000278</th><td>54</td><td>2.1268216</td><td>mitotic cell cycle        </td></tr>\n",
       "\t<tr><th scope=row>GO:0000910</th><td>11</td><td>0.4332414</td><td>cytokinesis               </td></tr>\n",
       "\t<tr><th scope=row>GO:0002181</th><td> 9</td><td>0.3544703</td><td>cytoplasmic translation   </td></tr>\n",
       "\t<tr><th scope=row>GO:0002376</th><td>32</td><td>1.2603387</td><td>immune system process     </td></tr>\n",
       "\t<tr><th scope=row>GO:0003012</th><td> 4</td><td>0.1575423</td><td>muscle system process     </td></tr>\n",
       "\t<tr><th scope=row>GO:0003013</th><td> 3</td><td>0.1181568</td><td>circulatory system process</td></tr>\n",
       "</tbody>\n",
       "</table>\n"
      ],
      "text/latex": [
       "A data.frame: 6 × 3\n",
       "\\begin{tabular}{r|lll}\n",
       "  & Count & Percent & Term\\\\\n",
       "  & <int> & <dbl> & <chr>\\\\\n",
       "\\hline\n",
       "\tGO:0000278 & 54 & 2.1268216 & mitotic cell cycle        \\\\\n",
       "\tGO:0000910 & 11 & 0.4332414 & cytokinesis               \\\\\n",
       "\tGO:0002181 &  9 & 0.3544703 & cytoplasmic translation   \\\\\n",
       "\tGO:0002376 & 32 & 1.2603387 & immune system process     \\\\\n",
       "\tGO:0003012 &  4 & 0.1575423 & muscle system process     \\\\\n",
       "\tGO:0003013 &  3 & 0.1181568 & circulatory system process\\\\\n",
       "\\end{tabular}\n"
      ],
      "text/markdown": [
       "\n",
       "A data.frame: 6 × 3\n",
       "\n",
       "| <!--/--> | Count &lt;int&gt; | Percent &lt;dbl&gt; | Term &lt;chr&gt; |\n",
       "|---|---|---|---|\n",
       "| GO:0000278 | 54 | 2.1268216 | mitotic cell cycle         |\n",
       "| GO:0000910 | 11 | 0.4332414 | cytokinesis                |\n",
       "| GO:0002181 |  9 | 0.3544703 | cytoplasmic translation    |\n",
       "| GO:0002376 | 32 | 1.2603387 | immune system process      |\n",
       "| GO:0003012 |  4 | 0.1575423 | muscle system process      |\n",
       "| GO:0003013 |  3 | 0.1181568 | circulatory system process |\n",
       "\n"
      ],
      "text/plain": [
       "           Count Percent   Term                      \n",
       "GO:0000278 54    2.1268216 mitotic cell cycle        \n",
       "GO:0000910 11    0.4332414 cytokinesis               \n",
       "GO:0002181  9    0.3544703 cytoplasmic translation   \n",
       "GO:0002376 32    1.2603387 immune system process     \n",
       "GO:0003012  4    0.1575423 muscle system process     \n",
       "GO:0003013  3    0.1181568 circulatory system process"
      ]
     },
     "metadata": {},
     "output_type": "display_data"
    }
   ],
   "source": [
    "# copied from workflow pipeline linked above\n",
    "\n",
    "# retrieve BP GOslims\n",
    "\n",
    "# Retrieve Biological Process (BP) GOslims\n",
    "slimdf <- goSlim(myCollection, slim, \"BP\", verbose)\n",
    "str(slimdf)\n",
    "head(slimdf)"
   ]
  },
  {
   "cell_type": "code",
   "execution_count": 14,
   "id": "db004641-769e-443a-b542-2739215a8d43",
   "metadata": {},
   "outputs": [
    {
     "data": {
      "text/html": [
       "<style>\n",
       ".list-inline {list-style: none; margin:0; padding: 0}\n",
       ".list-inline>li {display: inline-block}\n",
       ".list-inline>li:not(:last-child)::after {content: \"\\00b7\"; padding: 0 .5ex}\n",
       "</style>\n",
       "<ol class=list-inline><li>72</li><li>3</li></ol>\n"
      ],
      "text/latex": [
       "\\begin{enumerate*}\n",
       "\\item 72\n",
       "\\item 3\n",
       "\\end{enumerate*}\n"
      ],
      "text/markdown": [
       "1. 72\n",
       "2. 3\n",
       "\n",
       "\n"
      ],
      "text/plain": [
       "[1] 72  3"
      ]
     },
     "metadata": {},
     "output_type": "display_data"
    }
   ],
   "source": [
    "dim(slimdf) # 72 total GOslim terms"
   ]
  },
  {
   "cell_type": "markdown",
   "id": "081704e4-ccbb-4ae7-9c32-88290b50e6e6",
   "metadata": {},
   "source": [
    "so now have df with GOslim term and GO ID"
   ]
  },
  {
   "cell_type": "code",
   "execution_count": 15,
   "id": "10d6ca76-af1a-4e85-a4f5-2bda0d98c0f9",
   "metadata": {},
   "outputs": [
    {
     "name": "stdout",
     "output_type": "stream",
     "text": [
      "'data.frame':\t72 obs. of  4 variables:\n",
      " $ Count  : int  54 11 9 32 4 3 0 0 44 33 ...\n",
      " $ Percent: num  2.127 0.433 0.354 1.26 0.158 ...\n",
      " $ Term   : chr  \"mitotic cell cycle\" \"cytokinesis\" \"cytoplasmic translation\" \"immune system process\" ...\n",
      " $ GO.IDs : chr  \"GO:0000070;GO:0000082;GO:0000083;GO:0000086;GO:0000132;GO:0000281;GO:0007052;GO:0007076;GO:0007080;GO:0007088;G\"| __truncated__ \"GO:0000281;GO:0000915;GO:0032465;GO:0032467;GO:0036089;GO:0040038;GO:0061640;GO:0061952;GO:1902410;GO:1902412;GO:2000431\" \"GO:0001731;GO:0001732;GO:0002182;GO:0002183;GO:0002184;GO:0002188;GO:2000766;GO:2000767; GO:0002181\" \"GO:0001782;GO:0002218;GO:0002224;GO:0002250;GO:0002495;GO:0002682;GO:0002755;GO:0006955;GO:0006956;GO:0006959;G\"| __truncated__ ...\n"
     ]
    },
    {
     "data": {
      "text/html": [
       "<table class=\"dataframe\">\n",
       "<caption>A data.frame: 6 × 4</caption>\n",
       "<thead>\n",
       "\t<tr><th></th><th scope=col>Count</th><th scope=col>Percent</th><th scope=col>Term</th><th scope=col>GO.IDs</th></tr>\n",
       "\t<tr><th></th><th scope=col>&lt;int&gt;</th><th scope=col>&lt;dbl&gt;</th><th scope=col>&lt;chr&gt;</th><th scope=col>&lt;chr&gt;</th></tr>\n",
       "</thead>\n",
       "<tbody>\n",
       "\t<tr><th scope=row>GO:0000278</th><td>54</td><td>2.1268216</td><td>mitotic cell cycle        </td><td>GO:0000070;GO:0000082;GO:0000083;GO:0000086;GO:0000132;GO:0000281;GO:0007052;GO:0007076;GO:0007080;GO:0007088;GO:0007089;GO:0007091;GO:0007093;GO:0007094;GO:0007095;GO:0007096;GO:0007100;GO:0007346;GO:0010389;GO:0010971;GO:0010972;GO:0031573;GO:0033314;GO:0034087;GO:0040001;GO:0044772;GO:0044773;GO:0045840;GO:0045842;GO:0045930;GO:0051228;GO:0051256;GO:0051306;GO:0051315;GO:0060236;GO:0061780;GO:0061952;GO:0090266;GO:0090307;GO:1900087;GO:1901673;GO:1902410;GO:1902412;GO:1902969;GO:1902975;GO:1902977;GO:1902979;GO:1902983;GO:1903461;GO:1990426;GO:1990810;GO:2000045;GO:2000134; GO:0000278</td></tr>\n",
       "\t<tr><th scope=row>GO:0000910</th><td>11</td><td>0.4332414</td><td>cytokinesis               </td><td>GO:0000281;GO:0000915;GO:0032465;GO:0032467;GO:0036089;GO:0040038;GO:0061640;GO:0061952;GO:1902410;GO:1902412;GO:2000431                                                                                                                                                                                                                                                                                                                                                                                                                                                                                          </td></tr>\n",
       "\t<tr><th scope=row>GO:0002181</th><td> 9</td><td>0.3544703</td><td>cytoplasmic translation   </td><td>GO:0001731;GO:0001732;GO:0002182;GO:0002183;GO:0002184;GO:0002188;GO:2000766;GO:2000767; GO:0002181                                                                                                                                                                                                                                                                                                                                                                                                                                                                                                               </td></tr>\n",
       "\t<tr><th scope=row>GO:0002376</th><td>32</td><td>1.2603387</td><td>immune system process     </td><td>GO:0001782;GO:0002218;GO:0002224;GO:0002250;GO:0002495;GO:0002682;GO:0002755;GO:0006955;GO:0006956;GO:0006959;GO:0019731;GO:0030888;GO:0030890;GO:0031295;GO:0033151;GO:0034128;GO:0034164;GO:0039536;GO:0042102;GO:0042130;GO:0043029;GO:0045087;GO:0045088;GO:0045089;GO:0045579;GO:0046651;GO:0048821;GO:0050852;GO:0050901;GO:0051251;GO:0060335; GO:0002376                                                                                                                                                                                                                                                  </td></tr>\n",
       "\t<tr><th scope=row>GO:0003012</th><td> 4</td><td>0.1575423</td><td>muscle system process     </td><td>GO:0003009;GO:0006936;GO:0006937;GO:0055117                                                                                                                                                                                                                                                                                                                                                                                                                                                                                                                                                                       </td></tr>\n",
       "\t<tr><th scope=row>GO:0003013</th><td> 3</td><td>0.1181568</td><td>circulatory system process</td><td>GO:0003085;GO:0055117;GO:0060047                                                                                                                                                                                                                                                                                                                                                                                                                                                                                                                                                                                  </td></tr>\n",
       "</tbody>\n",
       "</table>\n"
      ],
      "text/latex": [
       "A data.frame: 6 × 4\n",
       "\\begin{tabular}{r|llll}\n",
       "  & Count & Percent & Term & GO.IDs\\\\\n",
       "  & <int> & <dbl> & <chr> & <chr>\\\\\n",
       "\\hline\n",
       "\tGO:0000278 & 54 & 2.1268216 & mitotic cell cycle         & GO:0000070;GO:0000082;GO:0000083;GO:0000086;GO:0000132;GO:0000281;GO:0007052;GO:0007076;GO:0007080;GO:0007088;GO:0007089;GO:0007091;GO:0007093;GO:0007094;GO:0007095;GO:0007096;GO:0007100;GO:0007346;GO:0010389;GO:0010971;GO:0010972;GO:0031573;GO:0033314;GO:0034087;GO:0040001;GO:0044772;GO:0044773;GO:0045840;GO:0045842;GO:0045930;GO:0051228;GO:0051256;GO:0051306;GO:0051315;GO:0060236;GO:0061780;GO:0061952;GO:0090266;GO:0090307;GO:1900087;GO:1901673;GO:1902410;GO:1902412;GO:1902969;GO:1902975;GO:1902977;GO:1902979;GO:1902983;GO:1903461;GO:1990426;GO:1990810;GO:2000045;GO:2000134; GO:0000278\\\\\n",
       "\tGO:0000910 & 11 & 0.4332414 & cytokinesis                & GO:0000281;GO:0000915;GO:0032465;GO:0032467;GO:0036089;GO:0040038;GO:0061640;GO:0061952;GO:1902410;GO:1902412;GO:2000431                                                                                                                                                                                                                                                                                                                                                                                                                                                                                          \\\\\n",
       "\tGO:0002181 &  9 & 0.3544703 & cytoplasmic translation    & GO:0001731;GO:0001732;GO:0002182;GO:0002183;GO:0002184;GO:0002188;GO:2000766;GO:2000767; GO:0002181                                                                                                                                                                                                                                                                                                                                                                                                                                                                                                               \\\\\n",
       "\tGO:0002376 & 32 & 1.2603387 & immune system process      & GO:0001782;GO:0002218;GO:0002224;GO:0002250;GO:0002495;GO:0002682;GO:0002755;GO:0006955;GO:0006956;GO:0006959;GO:0019731;GO:0030888;GO:0030890;GO:0031295;GO:0033151;GO:0034128;GO:0034164;GO:0039536;GO:0042102;GO:0042130;GO:0043029;GO:0045087;GO:0045088;GO:0045089;GO:0045579;GO:0046651;GO:0048821;GO:0050852;GO:0050901;GO:0051251;GO:0060335; GO:0002376                                                                                                                                                                                                                                                  \\\\\n",
       "\tGO:0003012 &  4 & 0.1575423 & muscle system process      & GO:0003009;GO:0006936;GO:0006937;GO:0055117                                                                                                                                                                                                                                                                                                                                                                                                                                                                                                                                                                       \\\\\n",
       "\tGO:0003013 &  3 & 0.1181568 & circulatory system process & GO:0003085;GO:0055117;GO:0060047                                                                                                                                                                                                                                                                                                                                                                                                                                                                                                                                                                                  \\\\\n",
       "\\end{tabular}\n"
      ],
      "text/markdown": [
       "\n",
       "A data.frame: 6 × 4\n",
       "\n",
       "| <!--/--> | Count &lt;int&gt; | Percent &lt;dbl&gt; | Term &lt;chr&gt; | GO.IDs &lt;chr&gt; |\n",
       "|---|---|---|---|---|\n",
       "| GO:0000278 | 54 | 2.1268216 | mitotic cell cycle         | GO:0000070;GO:0000082;GO:0000083;GO:0000086;GO:0000132;GO:0000281;GO:0007052;GO:0007076;GO:0007080;GO:0007088;GO:0007089;GO:0007091;GO:0007093;GO:0007094;GO:0007095;GO:0007096;GO:0007100;GO:0007346;GO:0010389;GO:0010971;GO:0010972;GO:0031573;GO:0033314;GO:0034087;GO:0040001;GO:0044772;GO:0044773;GO:0045840;GO:0045842;GO:0045930;GO:0051228;GO:0051256;GO:0051306;GO:0051315;GO:0060236;GO:0061780;GO:0061952;GO:0090266;GO:0090307;GO:1900087;GO:1901673;GO:1902410;GO:1902412;GO:1902969;GO:1902975;GO:1902977;GO:1902979;GO:1902983;GO:1903461;GO:1990426;GO:1990810;GO:2000045;GO:2000134; GO:0000278 |\n",
       "| GO:0000910 | 11 | 0.4332414 | cytokinesis                | GO:0000281;GO:0000915;GO:0032465;GO:0032467;GO:0036089;GO:0040038;GO:0061640;GO:0061952;GO:1902410;GO:1902412;GO:2000431                                                                                                                                                                                                                                                                                                                                                                                                                                                                                           |\n",
       "| GO:0002181 |  9 | 0.3544703 | cytoplasmic translation    | GO:0001731;GO:0001732;GO:0002182;GO:0002183;GO:0002184;GO:0002188;GO:2000766;GO:2000767; GO:0002181                                                                                                                                                                                                                                                                                                                                                                                                                                                                                                                |\n",
       "| GO:0002376 | 32 | 1.2603387 | immune system process      | GO:0001782;GO:0002218;GO:0002224;GO:0002250;GO:0002495;GO:0002682;GO:0002755;GO:0006955;GO:0006956;GO:0006959;GO:0019731;GO:0030888;GO:0030890;GO:0031295;GO:0033151;GO:0034128;GO:0034164;GO:0039536;GO:0042102;GO:0042130;GO:0043029;GO:0045087;GO:0045088;GO:0045089;GO:0045579;GO:0046651;GO:0048821;GO:0050852;GO:0050901;GO:0051251;GO:0060335; GO:0002376                                                                                                                                                                                                                                                   |\n",
       "| GO:0003012 |  4 | 0.1575423 | muscle system process      | GO:0003009;GO:0006936;GO:0006937;GO:0055117                                                                                                                                                                                                                                                                                                                                                                                                                                                                                                                                                                        |\n",
       "| GO:0003013 |  3 | 0.1181568 | circulatory system process | GO:0003085;GO:0055117;GO:0060047                                                                                                                                                                                                                                                                                                                                                                                                                                                                                                                                                                                   |\n",
       "\n"
      ],
      "text/plain": [
       "           Count Percent   Term                      \n",
       "GO:0000278 54    2.1268216 mitotic cell cycle        \n",
       "GO:0000910 11    0.4332414 cytokinesis               \n",
       "GO:0002181  9    0.3544703 cytoplasmic translation   \n",
       "GO:0002376 32    1.2603387 immune system process     \n",
       "GO:0003012  4    0.1575423 muscle system process     \n",
       "GO:0003013  3    0.1181568 circulatory system process\n",
       "           GO.IDs                                                                                                                                                                                                                                                                                                                                                                                                                                                                                                                                                                                                            \n",
       "GO:0000278 GO:0000070;GO:0000082;GO:0000083;GO:0000086;GO:0000132;GO:0000281;GO:0007052;GO:0007076;GO:0007080;GO:0007088;GO:0007089;GO:0007091;GO:0007093;GO:0007094;GO:0007095;GO:0007096;GO:0007100;GO:0007346;GO:0010389;GO:0010971;GO:0010972;GO:0031573;GO:0033314;GO:0034087;GO:0040001;GO:0044772;GO:0044773;GO:0045840;GO:0045842;GO:0045930;GO:0051228;GO:0051256;GO:0051306;GO:0051315;GO:0060236;GO:0061780;GO:0061952;GO:0090266;GO:0090307;GO:1900087;GO:1901673;GO:1902410;GO:1902412;GO:1902969;GO:1902975;GO:1902977;GO:1902979;GO:1902983;GO:1903461;GO:1990426;GO:1990810;GO:2000045;GO:2000134; GO:0000278\n",
       "GO:0000910 GO:0000281;GO:0000915;GO:0032465;GO:0032467;GO:0036089;GO:0040038;GO:0061640;GO:0061952;GO:1902410;GO:1902412;GO:2000431                                                                                                                                                                                                                                                                                                                                                                                                                                                                                          \n",
       "GO:0002181 GO:0001731;GO:0001732;GO:0002182;GO:0002183;GO:0002184;GO:0002188;GO:2000766;GO:2000767; GO:0002181                                                                                                                                                                                                                                                                                                                                                                                                                                                                                                               \n",
       "GO:0002376 GO:0001782;GO:0002218;GO:0002224;GO:0002250;GO:0002495;GO:0002682;GO:0002755;GO:0006955;GO:0006956;GO:0006959;GO:0019731;GO:0030888;GO:0030890;GO:0031295;GO:0033151;GO:0034128;GO:0034164;GO:0039536;GO:0042102;GO:0042130;GO:0043029;GO:0045087;GO:0045088;GO:0045089;GO:0045579;GO:0046651;GO:0048821;GO:0050852;GO:0050901;GO:0051251;GO:0060335; GO:0002376                                                                                                                                                                                                                                                  \n",
       "GO:0003012 GO:0003009;GO:0006936;GO:0006937;GO:0055117                                                                                                                                                                                                                                                                                                                                                                                                                                                                                                                                                                       \n",
       "GO:0003013 GO:0003085;GO:0055117;GO:0060047                                                                                                                                                                                                                                                                                                                                                                                                                                                                                                                                                                                  "
      ]
     },
     "metadata": {},
     "output_type": "display_data"
    }
   ],
   "source": [
    "# copied from workflow pipeline linked above\n",
    "\n",
    "#Map GO to GOslims\n",
    "\n",
    "# List of GOslims and all GO IDs from `go_ids`\n",
    "gomap <- as.list(GOBPOFFSPRING[rownames(slimdf)])\n",
    "\n",
    "# Maps `go_ids` to matching GOslims\n",
    "mapped <- lapply(gomap, intersect, ids(myCollection))\n",
    "\n",
    "# Append all mapped GO IDs to `slimdf`\n",
    "# `sapply` needed to apply paste() to create semi-colon delimited values\n",
    "slimdf$GO.IDs <- sapply(lapply(gomap, intersect, ids(myCollection)), paste, collapse=\";\")\n",
    "\n",
    "# Remove \"character(0) string from \"GO.IDs\" column\n",
    "slimdf$GO.IDs[slimdf$GO.IDs == \"character(0)\"] <- \"\"\n",
    "\n",
    "# Add self-matching GOIDs to \"GO.IDs\" column, if not present\n",
    "for (go_id in go_ids) {\n",
    "  # Check if the go_id is present in the row names\n",
    "  if (go_id %in% rownames(slimdf)) {\n",
    "    # Check if the go_id is not present in the GO.IDs column\n",
    "    # Also removes white space \"trimws()\" and converts all to upper case to handle\n",
    "    # any weird, \"invisible\" formatting issues.\n",
    "    if (!go_id %in% trimws(toupper(strsplit(slimdf[go_id, \"GO.IDs\"], \";\")[[1]]))) {\n",
    "      # Append the go_id to the GO.IDs column with a semi-colon separator\n",
    "      if (length(slimdf$GO.IDs) > 0 && nchar(slimdf$GO.IDs[nrow(slimdf)]) > 0) {\n",
    "        slimdf[go_id, \"GO.IDs\"] <- paste0(slimdf[go_id, \"GO.IDs\"], \"; \", go_id)\n",
    "      } else {\n",
    "        slimdf[go_id, \"GO.IDs\"] <- go_id\n",
    "      }\n",
    "    }\n",
    "  }\n",
    "}\n",
    "\n",
    "str(slimdf)\n",
    "head(slimdf)"
   ]
  },
  {
   "cell_type": "markdown",
   "id": "24c17263-235d-472c-9b53-24f1f128508c",
   "metadata": {},
   "source": [
    "now have df with GOslim ID as the rowname and the corresponding GO IDs that fall within the GOslim term listed"
   ]
  },
  {
   "cell_type": "markdown",
   "id": "e1454392-d376-4dec-89ef-ba3d34d855f4",
   "metadata": {},
   "source": [
    "flatten GOslims file - one GO ID and one GOslim term per row"
   ]
  },
  {
   "cell_type": "code",
   "execution_count": 16,
   "id": "c0298c34-1801-4a8f-a4e9-ffd35605e2da",
   "metadata": {},
   "outputs": [
    {
     "name": "stdout",
     "output_type": "stream",
     "text": [
      "tibble [1,850 × 3] (S3: tbl_df/tbl/data.frame)\n",
      " $ GO.IDs: chr [1:1850] \" GO:0000278\" \" GO:0002181\" \" GO:0002376\" \" GO:0005975\" ...\n",
      " $ GOslim: chr [1:1850] \"GO:0000278\" \"GO:0002181\" \"GO:0002376\" \"GO:0005975\" ...\n",
      " $ Term  : chr [1:1850] \"mitotic cell cycle\" \"cytoplasmic translation\" \"immune system process\" \"carbohydrate metabolic process\" ...\n"
     ]
    },
    {
     "data": {
      "text/html": [
       "<table class=\"dataframe\">\n",
       "<caption>A tibble: 6 × 3</caption>\n",
       "<thead>\n",
       "\t<tr><th scope=col>GO.IDs</th><th scope=col>GOslim</th><th scope=col>Term</th></tr>\n",
       "\t<tr><th scope=col>&lt;chr&gt;</th><th scope=col>&lt;chr&gt;</th><th scope=col>&lt;chr&gt;</th></tr>\n",
       "</thead>\n",
       "<tbody>\n",
       "\t<tr><td> GO:0000278</td><td>GO:0000278</td><td>mitotic cell cycle                            </td></tr>\n",
       "\t<tr><td> GO:0002181</td><td>GO:0002181</td><td>cytoplasmic translation                       </td></tr>\n",
       "\t<tr><td> GO:0002376</td><td>GO:0002376</td><td>immune system process                         </td></tr>\n",
       "\t<tr><td> GO:0005975</td><td>GO:0005975</td><td>carbohydrate metabolic process                </td></tr>\n",
       "\t<tr><td> GO:0006091</td><td>GO:0006091</td><td>generation of precursor metabolites and energy</td></tr>\n",
       "\t<tr><td> GO:0006260</td><td>GO:0006260</td><td>DNA replication                               </td></tr>\n",
       "</tbody>\n",
       "</table>\n"
      ],
      "text/latex": [
       "A tibble: 6 × 3\n",
       "\\begin{tabular}{lll}\n",
       " GO.IDs & GOslim & Term\\\\\n",
       " <chr> & <chr> & <chr>\\\\\n",
       "\\hline\n",
       "\t  GO:0000278 & GO:0000278 & mitotic cell cycle                            \\\\\n",
       "\t  GO:0002181 & GO:0002181 & cytoplasmic translation                       \\\\\n",
       "\t  GO:0002376 & GO:0002376 & immune system process                         \\\\\n",
       "\t  GO:0005975 & GO:0005975 & carbohydrate metabolic process                \\\\\n",
       "\t  GO:0006091 & GO:0006091 & generation of precursor metabolites and energy\\\\\n",
       "\t  GO:0006260 & GO:0006260 & DNA replication                               \\\\\n",
       "\\end{tabular}\n"
      ],
      "text/markdown": [
       "\n",
       "A tibble: 6 × 3\n",
       "\n",
       "| GO.IDs &lt;chr&gt; | GOslim &lt;chr&gt; | Term &lt;chr&gt; |\n",
       "|---|---|---|\n",
       "|  GO:0000278 | GO:0000278 | mitotic cell cycle                             |\n",
       "|  GO:0002181 | GO:0002181 | cytoplasmic translation                        |\n",
       "|  GO:0002376 | GO:0002376 | immune system process                          |\n",
       "|  GO:0005975 | GO:0005975 | carbohydrate metabolic process                 |\n",
       "|  GO:0006091 | GO:0006091 | generation of precursor metabolites and energy |\n",
       "|  GO:0006260 | GO:0006260 | DNA replication                                |\n",
       "\n"
      ],
      "text/plain": [
       "  GO.IDs      GOslim     Term                                          \n",
       "1  GO:0000278 GO:0000278 mitotic cell cycle                            \n",
       "2  GO:0002181 GO:0002181 cytoplasmic translation                       \n",
       "3  GO:0002376 GO:0002376 immune system process                         \n",
       "4  GO:0005975 GO:0005975 carbohydrate metabolic process                \n",
       "5  GO:0006091 GO:0006091 generation of precursor metabolites and energy\n",
       "6  GO:0006260 GO:0006260 DNA replication                               "
      ]
     },
     "metadata": {},
     "output_type": "display_data"
    }
   ],
   "source": [
    "# copied from workflow pipeline linked above\n",
    "\n",
    "# flatten-GOslims-file\n",
    "\n",
    "# \"Flatten\" file so each row is single GO ID with corresponding GOslim\n",
    "# rownames_to_column needed to retain row name info\n",
    "slimdf_separated <- as.data.frame(slimdf %>%\n",
    "  rownames_to_column('GOslim') %>%\n",
    "  separate_rows(GO.IDs, sep = \";\"))\n",
    "\n",
    "# Group by unique GO ID\n",
    "grouped_slimdf <- slimdf_separated %>%\n",
    "  filter(!is.na(GO.IDs) & GO.IDs != \"\") %>%\n",
    "  group_by(GO.IDs) %>%\n",
    "  summarize(GOslim = paste(GOslim, collapse = \";\"),\n",
    "            Term = paste(Term, collapse = \";\"))\n",
    "\n",
    "\n",
    "str(grouped_slimdf)\n",
    "head(grouped_slimdf)"
   ]
  },
  {
   "cell_type": "code",
   "execution_count": 17,
   "id": "2704ffca-9758-4429-9510-cbdc3663768c",
   "metadata": {},
   "outputs": [
    {
     "name": "stdout",
     "output_type": "stream",
     "text": [
      "'data.frame':\t72 obs. of  2 variables:\n",
      " $ Term : chr  \"signaling\" \"carbohydrate derivative metabolic process\" \"lipid metabolic process\" \"anatomical structure development\" ...\n",
      " $ Count: int  232 151 133 126 119 98 96 94 78 77 ...\n"
     ]
    },
    {
     "data": {
      "text/html": [
       "<table class=\"dataframe\">\n",
       "<caption>A data.frame: 6 × 2</caption>\n",
       "<thead>\n",
       "\t<tr><th></th><th scope=col>Term</th><th scope=col>Count</th></tr>\n",
       "\t<tr><th></th><th scope=col>&lt;chr&gt;</th><th scope=col>&lt;int&gt;</th></tr>\n",
       "</thead>\n",
       "<tbody>\n",
       "\t<tr><th scope=row>GO:0023052</th><td>signaling                                             </td><td>232</td></tr>\n",
       "\t<tr><th scope=row>GO:1901135</th><td>carbohydrate derivative metabolic process             </td><td>151</td></tr>\n",
       "\t<tr><th scope=row>GO:0006629</th><td>lipid metabolic process                               </td><td>133</td></tr>\n",
       "\t<tr><th scope=row>GO:0048856</th><td>anatomical structure development                      </td><td>126</td></tr>\n",
       "\t<tr><th scope=row>GO:0055086</th><td>nucleobase-containing small molecule metabolic process</td><td>119</td></tr>\n",
       "\t<tr><th scope=row>GO:0006520</th><td>amino acid metabolic process                          </td><td> 98</td></tr>\n",
       "</tbody>\n",
       "</table>\n"
      ],
      "text/latex": [
       "A data.frame: 6 × 2\n",
       "\\begin{tabular}{r|ll}\n",
       "  & Term & Count\\\\\n",
       "  & <chr> & <int>\\\\\n",
       "\\hline\n",
       "\tGO:0023052 & signaling                                              & 232\\\\\n",
       "\tGO:1901135 & carbohydrate derivative metabolic process              & 151\\\\\n",
       "\tGO:0006629 & lipid metabolic process                                & 133\\\\\n",
       "\tGO:0048856 & anatomical structure development                       & 126\\\\\n",
       "\tGO:0055086 & nucleobase-containing small molecule metabolic process & 119\\\\\n",
       "\tGO:0006520 & amino acid metabolic process                           &  98\\\\\n",
       "\\end{tabular}\n"
      ],
      "text/markdown": [
       "\n",
       "A data.frame: 6 × 2\n",
       "\n",
       "| <!--/--> | Term &lt;chr&gt; | Count &lt;int&gt; |\n",
       "|---|---|---|\n",
       "| GO:0023052 | signaling                                              | 232 |\n",
       "| GO:1901135 | carbohydrate derivative metabolic process              | 151 |\n",
       "| GO:0006629 | lipid metabolic process                                | 133 |\n",
       "| GO:0048856 | anatomical structure development                       | 126 |\n",
       "| GO:0055086 | nucleobase-containing small molecule metabolic process | 119 |\n",
       "| GO:0006520 | amino acid metabolic process                           |  98 |\n",
       "\n"
      ],
      "text/plain": [
       "           Term                                                   Count\n",
       "GO:0023052 signaling                                              232  \n",
       "GO:1901135 carbohydrate derivative metabolic process              151  \n",
       "GO:0006629 lipid metabolic process                                133  \n",
       "GO:0048856 anatomical structure development                       126  \n",
       "GO:0055086 nucleobase-containing small molecule metabolic process 119  \n",
       "GO:0006520 amino acid metabolic process                            98  "
      ]
     },
     "metadata": {},
     "output_type": "display_data"
    }
   ],
   "source": [
    "# copied from workflow pipeline linked above\n",
    "\n",
    "# sort and select slimdf counts\n",
    "\n",
    "slimdf.sorted <- slimdf %>% arrange(desc(Count))\n",
    "\n",
    "slim.count.df <- slimdf.sorted[,c(3,1)]\n",
    " # select(Term, Count)\n",
    "\n",
    "str(slim.count.df)\n",
    "\n",
    "head(slim.count.df)"
   ]
  },
  {
   "cell_type": "markdown",
   "id": "50beb8db-4cfa-479e-a78e-7599499bccd1",
   "metadata": {},
   "source": [
    "here, count means out of the whole genome/GOslim file, the number of GO IDs that fall into that GOslim term\n"
   ]
  },
  {
   "cell_type": "code",
   "execution_count": 18,
   "id": "00896102-a6c6-4ee6-a86a-22e2bb525f20",
   "metadata": {},
   "outputs": [
    {
     "data": {
      "text/html": [
       "<table class=\"dataframe\">\n",
       "<caption>A tibble: 6 × 3</caption>\n",
       "<thead>\n",
       "\t<tr><th scope=col>GO.IDs</th><th scope=col>GOslim</th><th scope=col>Term</th></tr>\n",
       "\t<tr><th scope=col>&lt;chr&gt;</th><th scope=col>&lt;chr&gt;</th><th scope=col>&lt;chr&gt;</th></tr>\n",
       "</thead>\n",
       "<tbody>\n",
       "\t<tr><td> GO:0000278</td><td>GO:0000278</td><td>mitotic cell cycle                            </td></tr>\n",
       "\t<tr><td> GO:0002181</td><td>GO:0002181</td><td>cytoplasmic translation                       </td></tr>\n",
       "\t<tr><td> GO:0002376</td><td>GO:0002376</td><td>immune system process                         </td></tr>\n",
       "\t<tr><td> GO:0005975</td><td>GO:0005975</td><td>carbohydrate metabolic process                </td></tr>\n",
       "\t<tr><td> GO:0006091</td><td>GO:0006091</td><td>generation of precursor metabolites and energy</td></tr>\n",
       "\t<tr><td> GO:0006260</td><td>GO:0006260</td><td>DNA replication                               </td></tr>\n",
       "</tbody>\n",
       "</table>\n"
      ],
      "text/latex": [
       "A tibble: 6 × 3\n",
       "\\begin{tabular}{lll}\n",
       " GO.IDs & GOslim & Term\\\\\n",
       " <chr> & <chr> & <chr>\\\\\n",
       "\\hline\n",
       "\t  GO:0000278 & GO:0000278 & mitotic cell cycle                            \\\\\n",
       "\t  GO:0002181 & GO:0002181 & cytoplasmic translation                       \\\\\n",
       "\t  GO:0002376 & GO:0002376 & immune system process                         \\\\\n",
       "\t  GO:0005975 & GO:0005975 & carbohydrate metabolic process                \\\\\n",
       "\t  GO:0006091 & GO:0006091 & generation of precursor metabolites and energy\\\\\n",
       "\t  GO:0006260 & GO:0006260 & DNA replication                               \\\\\n",
       "\\end{tabular}\n"
      ],
      "text/markdown": [
       "\n",
       "A tibble: 6 × 3\n",
       "\n",
       "| GO.IDs &lt;chr&gt; | GOslim &lt;chr&gt; | Term &lt;chr&gt; |\n",
       "|---|---|---|\n",
       "|  GO:0000278 | GO:0000278 | mitotic cell cycle                             |\n",
       "|  GO:0002181 | GO:0002181 | cytoplasmic translation                        |\n",
       "|  GO:0002376 | GO:0002376 | immune system process                          |\n",
       "|  GO:0005975 | GO:0005975 | carbohydrate metabolic process                 |\n",
       "|  GO:0006091 | GO:0006091 | generation of precursor metabolites and energy |\n",
       "|  GO:0006260 | GO:0006260 | DNA replication                                |\n",
       "\n"
      ],
      "text/plain": [
       "  GO.IDs      GOslim     Term                                          \n",
       "1  GO:0000278 GO:0000278 mitotic cell cycle                            \n",
       "2  GO:0002181 GO:0002181 cytoplasmic translation                       \n",
       "3  GO:0002376 GO:0002376 immune system process                         \n",
       "4  GO:0005975 GO:0005975 carbohydrate metabolic process                \n",
       "5  GO:0006091 GO:0006091 generation of precursor metabolites and energy\n",
       "6  GO:0006260 GO:0006260 DNA replication                               "
      ]
     },
     "metadata": {},
     "output_type": "display_data"
    },
    {
     "data": {
      "text/html": [
       "<table class=\"dataframe\">\n",
       "<caption>A tibble: 6 × 2</caption>\n",
       "<thead>\n",
       "\t<tr><th scope=col>gene_id</th><th scope=col>Gene.Ontology.IDs</th></tr>\n",
       "\t<tr><th scope=col>&lt;chr&gt;</th><th scope=col>&lt;chr&gt;</th></tr>\n",
       "</thead>\n",
       "<tbody>\n",
       "\t<tr><td>LOC111099029</td><td>GO:0005261</td></tr>\n",
       "\t<tr><td>LOC111099029</td><td>GO:0098655</td></tr>\n",
       "\t<tr><td>LOC111099032</td><td>GO:0004930</td></tr>\n",
       "\t<tr><td>LOC111099032</td><td>GO:0005886</td></tr>\n",
       "\t<tr><td>LOC111099032</td><td>GO:0007186</td></tr>\n",
       "\t<tr><td>LOC111099033</td><td>GO:0016020</td></tr>\n",
       "</tbody>\n",
       "</table>\n"
      ],
      "text/latex": [
       "A tibble: 6 × 2\n",
       "\\begin{tabular}{ll}\n",
       " gene\\_id & Gene.Ontology.IDs\\\\\n",
       " <chr> & <chr>\\\\\n",
       "\\hline\n",
       "\t LOC111099029 & GO:0005261\\\\\n",
       "\t LOC111099029 & GO:0098655\\\\\n",
       "\t LOC111099032 & GO:0004930\\\\\n",
       "\t LOC111099032 & GO:0005886\\\\\n",
       "\t LOC111099032 & GO:0007186\\\\\n",
       "\t LOC111099033 & GO:0016020\\\\\n",
       "\\end{tabular}\n"
      ],
      "text/markdown": [
       "\n",
       "A tibble: 6 × 2\n",
       "\n",
       "| gene_id &lt;chr&gt; | Gene.Ontology.IDs &lt;chr&gt; |\n",
       "|---|---|\n",
       "| LOC111099029 | GO:0005261 |\n",
       "| LOC111099029 | GO:0098655 |\n",
       "| LOC111099032 | GO:0004930 |\n",
       "| LOC111099032 | GO:0005886 |\n",
       "| LOC111099032 | GO:0007186 |\n",
       "| LOC111099033 | GO:0016020 |\n",
       "\n"
      ],
      "text/plain": [
       "  gene_id      Gene.Ontology.IDs\n",
       "1 LOC111099029 GO:0005261       \n",
       "2 LOC111099029 GO:0098655       \n",
       "3 LOC111099032 GO:0004930       \n",
       "4 LOC111099032 GO:0005886       \n",
       "5 LOC111099032 GO:0007186       \n",
       "6 LOC111099033 GO:0016020       "
      ]
     },
     "metadata": {},
     "output_type": "display_data"
    }
   ],
   "source": [
    "head(grouped_slimdf)\n",
    "head(flat.gene.GO.df)"
   ]
  },
  {
   "cell_type": "markdown",
   "id": "5b869049-ea18-4fd1-ace1-ec1e0cc5f113",
   "metadata": {},
   "source": [
    "\n",
    "so have two flat dfs - one that has one gene and one GO ID per row, and one with one GO ID and one GOslim term per row - want to merge them to get a new flat df with one gene and one GOslim term per row"
   ]
  },
  {
   "cell_type": "code",
   "execution_count": 19,
   "id": "ed4f3232-6a20-45c5-98a4-d8e563b21c13",
   "metadata": {},
   "outputs": [
    {
     "data": {
      "text/html": [
       "<table class=\"dataframe\">\n",
       "<caption>A data.frame: 6 × 4</caption>\n",
       "<thead>\n",
       "\t<tr><th></th><th scope=col>GO.IDs</th><th scope=col>GOslim</th><th scope=col>Term</th><th scope=col>gene_id</th></tr>\n",
       "\t<tr><th></th><th scope=col>&lt;chr&gt;</th><th scope=col>&lt;chr&gt;</th><th scope=col>&lt;chr&gt;</th><th scope=col>&lt;chr&gt;</th></tr>\n",
       "</thead>\n",
       "<tbody>\n",
       "\t<tr><th scope=row>1</th><td>GO:0000002</td><td>GO:0007005</td><td>mitochondrion organization</td><td>LOC111135903</td></tr>\n",
       "\t<tr><th scope=row>2</th><td>GO:0000012</td><td>GO:0006281</td><td>DNA repair                </td><td>LOC111136704</td></tr>\n",
       "\t<tr><th scope=row>3</th><td>GO:0000012</td><td>GO:0006281</td><td>DNA repair                </td><td>LOC111111498</td></tr>\n",
       "\t<tr><th scope=row>4</th><td>GO:0000012</td><td>GO:0006281</td><td>DNA repair                </td><td>LOC111128516</td></tr>\n",
       "\t<tr><th scope=row>5</th><td>GO:0000012</td><td>GO:0006281</td><td>DNA repair                </td><td>LOC111135354</td></tr>\n",
       "\t<tr><th scope=row>6</th><td>GO:0000012</td><td>GO:0006281</td><td>DNA repair                </td><td>LOC111128425</td></tr>\n",
       "</tbody>\n",
       "</table>\n"
      ],
      "text/latex": [
       "A data.frame: 6 × 4\n",
       "\\begin{tabular}{r|llll}\n",
       "  & GO.IDs & GOslim & Term & gene\\_id\\\\\n",
       "  & <chr> & <chr> & <chr> & <chr>\\\\\n",
       "\\hline\n",
       "\t1 & GO:0000002 & GO:0007005 & mitochondrion organization & LOC111135903\\\\\n",
       "\t2 & GO:0000012 & GO:0006281 & DNA repair                 & LOC111136704\\\\\n",
       "\t3 & GO:0000012 & GO:0006281 & DNA repair                 & LOC111111498\\\\\n",
       "\t4 & GO:0000012 & GO:0006281 & DNA repair                 & LOC111128516\\\\\n",
       "\t5 & GO:0000012 & GO:0006281 & DNA repair                 & LOC111135354\\\\\n",
       "\t6 & GO:0000012 & GO:0006281 & DNA repair                 & LOC111128425\\\\\n",
       "\\end{tabular}\n"
      ],
      "text/markdown": [
       "\n",
       "A data.frame: 6 × 4\n",
       "\n",
       "| <!--/--> | GO.IDs &lt;chr&gt; | GOslim &lt;chr&gt; | Term &lt;chr&gt; | gene_id &lt;chr&gt; |\n",
       "|---|---|---|---|---|\n",
       "| 1 | GO:0000002 | GO:0007005 | mitochondrion organization | LOC111135903 |\n",
       "| 2 | GO:0000012 | GO:0006281 | DNA repair                 | LOC111136704 |\n",
       "| 3 | GO:0000012 | GO:0006281 | DNA repair                 | LOC111111498 |\n",
       "| 4 | GO:0000012 | GO:0006281 | DNA repair                 | LOC111128516 |\n",
       "| 5 | GO:0000012 | GO:0006281 | DNA repair                 | LOC111135354 |\n",
       "| 6 | GO:0000012 | GO:0006281 | DNA repair                 | LOC111128425 |\n",
       "\n"
      ],
      "text/plain": [
       "  GO.IDs     GOslim     Term                       gene_id     \n",
       "1 GO:0000002 GO:0007005 mitochondrion organization LOC111135903\n",
       "2 GO:0000012 GO:0006281 DNA repair                 LOC111136704\n",
       "3 GO:0000012 GO:0006281 DNA repair                 LOC111111498\n",
       "4 GO:0000012 GO:0006281 DNA repair                 LOC111128516\n",
       "5 GO:0000012 GO:0006281 DNA repair                 LOC111135354\n",
       "6 GO:0000012 GO:0006281 DNA repair                 LOC111128425"
      ]
     },
     "metadata": {},
     "output_type": "display_data"
    }
   ],
   "source": [
    "# change column name to same as grouped_slimdf\n",
    "colnames(flat.gene.GO.df) <- c('gene_id', 'GO.IDs')\n",
    "\n",
    "gene2GOslim <- merge(grouped_slimdf, flat.gene.GO.df, by = 'GO.IDs')\n",
    "head(gene2GOslim)"
   ]
  },
  {
   "cell_type": "code",
   "execution_count": 20,
   "id": "9e0b5984-ebb2-476e-a14f-332e3cfbd379",
   "metadata": {},
   "outputs": [],
   "source": [
    "write.csv(gene2GOslim, '/project/pi_sarah_gignouxwolfsohn_uml_edu/julia/CE_MethylRAD_analysis_2018/analysis/deseq_res_files/GO_terms/gene2GOslim.csv', row.names=FALSE)"
   ]
  },
  {
   "cell_type": "markdown",
   "id": "f7de720d-eb81-46eb-af75-1edbd573d30d",
   "metadata": {},
   "source": [
    "## Match GOslim terms to list of annotated sig DMGs"
   ]
  },
  {
   "cell_type": "code",
   "execution_count": 3,
   "id": "a8eea248-385d-4cca-a0a7-5bba3f967bef",
   "metadata": {},
   "outputs": [
    {
     "data": {
      "text/html": [
       "<table class=\"dataframe\">\n",
       "<caption>A data.frame: 6 × 4</caption>\n",
       "<thead>\n",
       "\t<tr><th></th><th scope=col>GO.IDs</th><th scope=col>GOslim</th><th scope=col>Term</th><th scope=col>gene_id</th></tr>\n",
       "\t<tr><th></th><th scope=col>&lt;chr&gt;</th><th scope=col>&lt;chr&gt;</th><th scope=col>&lt;chr&gt;</th><th scope=col>&lt;chr&gt;</th></tr>\n",
       "</thead>\n",
       "<tbody>\n",
       "\t<tr><th scope=row>1</th><td>GO:0000002</td><td>GO:0007005</td><td>mitochondrion organization</td><td>LOC111135903</td></tr>\n",
       "\t<tr><th scope=row>2</th><td>GO:0000012</td><td>GO:0006281</td><td>DNA repair                </td><td>LOC111136704</td></tr>\n",
       "\t<tr><th scope=row>3</th><td>GO:0000012</td><td>GO:0006281</td><td>DNA repair                </td><td>LOC111111498</td></tr>\n",
       "\t<tr><th scope=row>4</th><td>GO:0000012</td><td>GO:0006281</td><td>DNA repair                </td><td>LOC111128516</td></tr>\n",
       "\t<tr><th scope=row>5</th><td>GO:0000012</td><td>GO:0006281</td><td>DNA repair                </td><td>LOC111135354</td></tr>\n",
       "\t<tr><th scope=row>6</th><td>GO:0000012</td><td>GO:0006281</td><td>DNA repair                </td><td>LOC111128425</td></tr>\n",
       "</tbody>\n",
       "</table>\n"
      ],
      "text/latex": [
       "A data.frame: 6 × 4\n",
       "\\begin{tabular}{r|llll}\n",
       "  & GO.IDs & GOslim & Term & gene\\_id\\\\\n",
       "  & <chr> & <chr> & <chr> & <chr>\\\\\n",
       "\\hline\n",
       "\t1 & GO:0000002 & GO:0007005 & mitochondrion organization & LOC111135903\\\\\n",
       "\t2 & GO:0000012 & GO:0006281 & DNA repair                 & LOC111136704\\\\\n",
       "\t3 & GO:0000012 & GO:0006281 & DNA repair                 & LOC111111498\\\\\n",
       "\t4 & GO:0000012 & GO:0006281 & DNA repair                 & LOC111128516\\\\\n",
       "\t5 & GO:0000012 & GO:0006281 & DNA repair                 & LOC111135354\\\\\n",
       "\t6 & GO:0000012 & GO:0006281 & DNA repair                 & LOC111128425\\\\\n",
       "\\end{tabular}\n"
      ],
      "text/markdown": [
       "\n",
       "A data.frame: 6 × 4\n",
       "\n",
       "| <!--/--> | GO.IDs &lt;chr&gt; | GOslim &lt;chr&gt; | Term &lt;chr&gt; | gene_id &lt;chr&gt; |\n",
       "|---|---|---|---|---|\n",
       "| 1 | GO:0000002 | GO:0007005 | mitochondrion organization | LOC111135903 |\n",
       "| 2 | GO:0000012 | GO:0006281 | DNA repair                 | LOC111136704 |\n",
       "| 3 | GO:0000012 | GO:0006281 | DNA repair                 | LOC111111498 |\n",
       "| 4 | GO:0000012 | GO:0006281 | DNA repair                 | LOC111128516 |\n",
       "| 5 | GO:0000012 | GO:0006281 | DNA repair                 | LOC111135354 |\n",
       "| 6 | GO:0000012 | GO:0006281 | DNA repair                 | LOC111128425 |\n",
       "\n"
      ],
      "text/plain": [
       "  GO.IDs     GOslim     Term                       gene_id     \n",
       "1 GO:0000002 GO:0007005 mitochondrion organization LOC111135903\n",
       "2 GO:0000012 GO:0006281 DNA repair                 LOC111136704\n",
       "3 GO:0000012 GO:0006281 DNA repair                 LOC111111498\n",
       "4 GO:0000012 GO:0006281 DNA repair                 LOC111128516\n",
       "5 GO:0000012 GO:0006281 DNA repair                 LOC111135354\n",
       "6 GO:0000012 GO:0006281 DNA repair                 LOC111128425"
      ]
     },
     "metadata": {},
     "output_type": "display_data"
    }
   ],
   "source": [
    "gene2GOslim <- read.csv('/project/pi_sarah_gignouxwolfsohn_uml_edu/julia/CE_MethylRAD_analysis_2018/analysis/deseq_res_files/GO_terms/gene2GOslim.csv')\n",
    "head(gene2GOslim)"
   ]
  },
  {
   "cell_type": "code",
   "execution_count": 4,
   "id": "c8a7cddc-1a4a-4e2a-9599-ed5ed4d43194",
   "metadata": {},
   "outputs": [
    {
     "data": {
      "text/html": [
       "<table class=\"dataframe\">\n",
       "<caption>A data.frame: 6 × 7</caption>\n",
       "<thead>\n",
       "\t<tr><th></th><th scope=col>order</th><th scope=col>gene_id</th><th scope=col>name</th><th scope=col>pair_vs_HC</th><th scope=col>gene_name</th><th scope=col>process</th><th scope=col>notes</th></tr>\n",
       "\t<tr><th></th><th scope=col>&lt;int&gt;</th><th scope=col>&lt;chr&gt;</th><th scope=col>&lt;chr&gt;</th><th scope=col>&lt;chr&gt;</th><th scope=col>&lt;chr&gt;</th><th scope=col>&lt;chr&gt;</th><th scope=col>&lt;chr&gt;</th></tr>\n",
       "</thead>\n",
       "<tbody>\n",
       "\t<tr><th scope=row>1</th><td>1</td><td>LOC111117760</td><td>disintegrin and metalloproteinase domain-containing protein 10-like, transcript variant X3</td><td>CH, HH, CC</td><td>ADAM10</td><td>cell signaling, adhesion, migration                       </td><td>                            </td></tr>\n",
       "\t<tr><th scope=row>2</th><td>2</td><td>LOC111119327</td><td>calcyphosin-like protein, transcript variant X3                                           </td><td>CH, HH, CC</td><td>CAPSL </td><td>calcium ion binding                                       </td><td>                            </td></tr>\n",
       "\t<tr><th scope=row>3</th><td>3</td><td>LOC111123492</td><td>pre-B-cell leukemia transcription factor 1-like, transcript variant X11                   </td><td>CH, HH, CC</td><td>PBX1  </td><td>regulates embryonic development and cellular differention </td><td>                            </td></tr>\n",
       "\t<tr><th scope=row>4</th><td>4</td><td>LOC111124674</td><td>gamma-glutamyltranspeptidase 1-like, transcript variant X1                                </td><td>CH, HH, CC</td><td>GGT1  </td><td>proteolysis, metabolisis, immune response, spermatogenesis</td><td>other are from human homolog</td></tr>\n",
       "\t<tr><th scope=row>5</th><td>5</td><td>LOC111129146</td><td>FERM domain-containing protein 8-like                                                     </td><td>CH, HH, CC</td><td>FRMD8 </td><td>inflammatory and growth factor                            </td><td>                            </td></tr>\n",
       "\t<tr><th scope=row>6</th><td>6</td><td>LOC111133438</td><td>uncharacterized LOC111133438                                                              </td><td>CH, HH, CC</td><td>      </td><td>                                                          </td><td>                            </td></tr>\n",
       "</tbody>\n",
       "</table>\n"
      ],
      "text/latex": [
       "A data.frame: 6 × 7\n",
       "\\begin{tabular}{r|lllllll}\n",
       "  & order & gene\\_id & name & pair\\_vs\\_HC & gene\\_name & process & notes\\\\\n",
       "  & <int> & <chr> & <chr> & <chr> & <chr> & <chr> & <chr>\\\\\n",
       "\\hline\n",
       "\t1 & 1 & LOC111117760 & disintegrin and metalloproteinase domain-containing protein 10-like, transcript variant X3 & CH, HH, CC & ADAM10 & cell signaling, adhesion, migration                        &                             \\\\\n",
       "\t2 & 2 & LOC111119327 & calcyphosin-like protein, transcript variant X3                                            & CH, HH, CC & CAPSL  & calcium ion binding                                        &                             \\\\\n",
       "\t3 & 3 & LOC111123492 & pre-B-cell leukemia transcription factor 1-like, transcript variant X11                    & CH, HH, CC & PBX1   & regulates embryonic development and cellular differention  &                             \\\\\n",
       "\t4 & 4 & LOC111124674 & gamma-glutamyltranspeptidase 1-like, transcript variant X1                                 & CH, HH, CC & GGT1   & proteolysis, metabolisis, immune response, spermatogenesis & other are from human homolog\\\\\n",
       "\t5 & 5 & LOC111129146 & FERM domain-containing protein 8-like                                                      & CH, HH, CC & FRMD8  & inflammatory and growth factor                             &                             \\\\\n",
       "\t6 & 6 & LOC111133438 & uncharacterized LOC111133438                                                               & CH, HH, CC &        &                                                            &                             \\\\\n",
       "\\end{tabular}\n"
      ],
      "text/markdown": [
       "\n",
       "A data.frame: 6 × 7\n",
       "\n",
       "| <!--/--> | order &lt;int&gt; | gene_id &lt;chr&gt; | name &lt;chr&gt; | pair_vs_HC &lt;chr&gt; | gene_name &lt;chr&gt; | process &lt;chr&gt; | notes &lt;chr&gt; |\n",
       "|---|---|---|---|---|---|---|---|\n",
       "| 1 | 1 | LOC111117760 | disintegrin and metalloproteinase domain-containing protein 10-like, transcript variant X3 | CH, HH, CC | ADAM10 | cell signaling, adhesion, migration                        | <!----> |\n",
       "| 2 | 2 | LOC111119327 | calcyphosin-like protein, transcript variant X3                                            | CH, HH, CC | CAPSL  | calcium ion binding                                        | <!----> |\n",
       "| 3 | 3 | LOC111123492 | pre-B-cell leukemia transcription factor 1-like, transcript variant X11                    | CH, HH, CC | PBX1   | regulates embryonic development and cellular differention  | <!----> |\n",
       "| 4 | 4 | LOC111124674 | gamma-glutamyltranspeptidase 1-like, transcript variant X1                                 | CH, HH, CC | GGT1   | proteolysis, metabolisis, immune response, spermatogenesis | other are from human homolog |\n",
       "| 5 | 5 | LOC111129146 | FERM domain-containing protein 8-like                                                      | CH, HH, CC | FRMD8  | inflammatory and growth factor                             | <!----> |\n",
       "| 6 | 6 | LOC111133438 | uncharacterized LOC111133438                                                               | CH, HH, CC | <!----> | <!----> | <!----> |\n",
       "\n"
      ],
      "text/plain": [
       "  order gene_id     \n",
       "1 1     LOC111117760\n",
       "2 2     LOC111119327\n",
       "3 3     LOC111123492\n",
       "4 4     LOC111124674\n",
       "5 5     LOC111129146\n",
       "6 6     LOC111133438\n",
       "  name                                                                                      \n",
       "1 disintegrin and metalloproteinase domain-containing protein 10-like, transcript variant X3\n",
       "2 calcyphosin-like protein, transcript variant X3                                           \n",
       "3 pre-B-cell leukemia transcription factor 1-like, transcript variant X11                   \n",
       "4 gamma-glutamyltranspeptidase 1-like, transcript variant X1                                \n",
       "5 FERM domain-containing protein 8-like                                                     \n",
       "6 uncharacterized LOC111133438                                                              \n",
       "  pair_vs_HC gene_name\n",
       "1 CH, HH, CC ADAM10   \n",
       "2 CH, HH, CC CAPSL    \n",
       "3 CH, HH, CC PBX1     \n",
       "4 CH, HH, CC GGT1     \n",
       "5 CH, HH, CC FRMD8    \n",
       "6 CH, HH, CC          \n",
       "  process                                                   \n",
       "1 cell signaling, adhesion, migration                       \n",
       "2 calcium ion binding                                       \n",
       "3 regulates embryonic development and cellular differention \n",
       "4 proteolysis, metabolisis, immune response, spermatogenesis\n",
       "5 inflammatory and growth factor                            \n",
       "6                                                           \n",
       "  notes                       \n",
       "1                             \n",
       "2                             \n",
       "3                             \n",
       "4 other are from human homolog\n",
       "5                             \n",
       "6                             "
      ]
     },
     "metadata": {},
     "output_type": "display_data"
    }
   ],
   "source": [
    "sigDMG <- read.csv('/project/pi_sarah_gignouxwolfsohn_uml_edu/julia/CE_MethylRAD_analysis_2018/analysis/deseq_res_files/sig_DMGs/all_sigDMG_annotated.csv')\n",
    "\n",
    "# renaming columns\n",
    "colnames(sigDMG)[2] <- 'gene_id'\n",
    "colnames(sigDMG)[7] <- 'notes'\n",
    "\n",
    "head(sigDMG)"
   ]
  },
  {
   "cell_type": "code",
   "execution_count": 6,
   "id": "d3c94ce0-7315-4181-a78d-2c64791e846c",
   "metadata": {},
   "outputs": [
    {
     "data": {
      "text/html": [
       "<table class=\"dataframe\">\n",
       "<caption>A data.frame: 6 × 10</caption>\n",
       "<thead>\n",
       "\t<tr><th></th><th scope=col>gene_id</th><th scope=col>order</th><th scope=col>name</th><th scope=col>pair_vs_HC</th><th scope=col>gene_name</th><th scope=col>process</th><th scope=col>notes</th><th scope=col>GO.IDs</th><th scope=col>GOslim</th><th scope=col>Term</th></tr>\n",
       "\t<tr><th></th><th scope=col>&lt;chr&gt;</th><th scope=col>&lt;int&gt;</th><th scope=col>&lt;chr&gt;</th><th scope=col>&lt;chr&gt;</th><th scope=col>&lt;chr&gt;</th><th scope=col>&lt;chr&gt;</th><th scope=col>&lt;chr&gt;</th><th scope=col>&lt;chr&gt;</th><th scope=col>&lt;chr&gt;</th><th scope=col>&lt;chr&gt;</th></tr>\n",
       "</thead>\n",
       "<tbody>\n",
       "\t<tr><th scope=row>1</th><td>LOC111099548</td><td> 7</td><td>kinesin-like protein KIF17                                          </td><td>CH, HH</td><td>KIF17 </td><td>motor protein                                                                </td><td></td><td>NA        </td><td>NA        </td><td>NA                    </td></tr>\n",
       "\t<tr><th scope=row>2</th><td>LOC111099571</td><td> 8</td><td>histone RNA hairpin-binding protein-like                            </td><td>CH, HH</td><td>      </td><td>mRNA binding, transport                                                      </td><td></td><td>GO:0006398</td><td>GO:0016071</td><td>mRNA metabolic process</td></tr>\n",
       "\t<tr><th scope=row>3</th><td>LOC111099585</td><td>82</td><td>lys-63-specific deubiquitinase BRCC36-like                          </td><td>CH    </td><td>BRCC36</td><td>dna repair, immune regulation (Rabl et al., 2019)                            </td><td></td><td>GO:0006302</td><td>GO:0006281</td><td>DNA repair            </td></tr>\n",
       "\t<tr><th scope=row>4</th><td>LOC111099930</td><td> 9</td><td>uncharacterized LOC111099930, transcript variant X1                 </td><td>CH, HH</td><td>      </td><td>                                                                             </td><td></td><td>NA        </td><td>NA        </td><td>NA                    </td></tr>\n",
       "\t<tr><th scope=row>5</th><td>LOC111099978</td><td>83</td><td>oncoprotein-induced transcript 3 protein-like, transcript variant X1</td><td>CH    </td><td>OIT3  </td><td>renal system process, calcium ion binding                                    </td><td></td><td>NA        </td><td>NA        </td><td>NA                    </td></tr>\n",
       "\t<tr><th scope=row>6</th><td>LOC111100608</td><td>10</td><td>DDRGK domain-containing protein 1-like                              </td><td>CH, HH</td><td>DDRGK </td><td>regulates ubiquitin-fold modifier, lysosomal function, autophagic degradation</td><td></td><td>NA        </td><td>NA        </td><td>NA                    </td></tr>\n",
       "</tbody>\n",
       "</table>\n"
      ],
      "text/latex": [
       "A data.frame: 6 × 10\n",
       "\\begin{tabular}{r|llllllllll}\n",
       "  & gene\\_id & order & name & pair\\_vs\\_HC & gene\\_name & process & notes & GO.IDs & GOslim & Term\\\\\n",
       "  & <chr> & <int> & <chr> & <chr> & <chr> & <chr> & <chr> & <chr> & <chr> & <chr>\\\\\n",
       "\\hline\n",
       "\t1 & LOC111099548 &  7 & kinesin-like protein KIF17                                           & CH, HH & KIF17  & motor protein                                                                 &  & NA         & NA         & NA                    \\\\\n",
       "\t2 & LOC111099571 &  8 & histone RNA hairpin-binding protein-like                             & CH, HH &        & mRNA binding, transport                                                       &  & GO:0006398 & GO:0016071 & mRNA metabolic process\\\\\n",
       "\t3 & LOC111099585 & 82 & lys-63-specific deubiquitinase BRCC36-like                           & CH     & BRCC36 & dna repair, immune regulation (Rabl et al., 2019)                             &  & GO:0006302 & GO:0006281 & DNA repair            \\\\\n",
       "\t4 & LOC111099930 &  9 & uncharacterized LOC111099930, transcript variant X1                  & CH, HH &        &                                                                               &  & NA         & NA         & NA                    \\\\\n",
       "\t5 & LOC111099978 & 83 & oncoprotein-induced transcript 3 protein-like, transcript variant X1 & CH     & OIT3   & renal system process, calcium ion binding                                     &  & NA         & NA         & NA                    \\\\\n",
       "\t6 & LOC111100608 & 10 & DDRGK domain-containing protein 1-like                               & CH, HH & DDRGK  & regulates ubiquitin-fold modifier, lysosomal function, autophagic degradation &  & NA         & NA         & NA                    \\\\\n",
       "\\end{tabular}\n"
      ],
      "text/markdown": [
       "\n",
       "A data.frame: 6 × 10\n",
       "\n",
       "| <!--/--> | gene_id &lt;chr&gt; | order &lt;int&gt; | name &lt;chr&gt; | pair_vs_HC &lt;chr&gt; | gene_name &lt;chr&gt; | process &lt;chr&gt; | notes &lt;chr&gt; | GO.IDs &lt;chr&gt; | GOslim &lt;chr&gt; | Term &lt;chr&gt; |\n",
       "|---|---|---|---|---|---|---|---|---|---|---|\n",
       "| 1 | LOC111099548 |  7 | kinesin-like protein KIF17                                           | CH, HH | KIF17  | motor protein                                                                 | <!----> | NA         | NA         | NA                     |\n",
       "| 2 | LOC111099571 |  8 | histone RNA hairpin-binding protein-like                             | CH, HH | <!----> | mRNA binding, transport                                                       | <!----> | GO:0006398 | GO:0016071 | mRNA metabolic process |\n",
       "| 3 | LOC111099585 | 82 | lys-63-specific deubiquitinase BRCC36-like                           | CH     | BRCC36 | dna repair, immune regulation (Rabl et al., 2019)                             | <!----> | GO:0006302 | GO:0006281 | DNA repair             |\n",
       "| 4 | LOC111099930 |  9 | uncharacterized LOC111099930, transcript variant X1                  | CH, HH | <!----> | <!----> | <!----> | NA         | NA         | NA                     |\n",
       "| 5 | LOC111099978 | 83 | oncoprotein-induced transcript 3 protein-like, transcript variant X1 | CH     | OIT3   | renal system process, calcium ion binding                                     | <!----> | NA         | NA         | NA                     |\n",
       "| 6 | LOC111100608 | 10 | DDRGK domain-containing protein 1-like                               | CH, HH | DDRGK  | regulates ubiquitin-fold modifier, lysosomal function, autophagic degradation | <!----> | NA         | NA         | NA                     |\n",
       "\n"
      ],
      "text/plain": [
       "  gene_id      order\n",
       "1 LOC111099548  7   \n",
       "2 LOC111099571  8   \n",
       "3 LOC111099585 82   \n",
       "4 LOC111099930  9   \n",
       "5 LOC111099978 83   \n",
       "6 LOC111100608 10   \n",
       "  name                                                                \n",
       "1 kinesin-like protein KIF17                                          \n",
       "2 histone RNA hairpin-binding protein-like                            \n",
       "3 lys-63-specific deubiquitinase BRCC36-like                          \n",
       "4 uncharacterized LOC111099930, transcript variant X1                 \n",
       "5 oncoprotein-induced transcript 3 protein-like, transcript variant X1\n",
       "6 DDRGK domain-containing protein 1-like                              \n",
       "  pair_vs_HC gene_name\n",
       "1 CH, HH     KIF17    \n",
       "2 CH, HH              \n",
       "3 CH         BRCC36   \n",
       "4 CH, HH              \n",
       "5 CH         OIT3     \n",
       "6 CH, HH     DDRGK    \n",
       "  process                                                                      \n",
       "1 motor protein                                                                \n",
       "2 mRNA binding, transport                                                      \n",
       "3 dna repair, immune regulation (Rabl et al., 2019)                            \n",
       "4                                                                              \n",
       "5 renal system process, calcium ion binding                                    \n",
       "6 regulates ubiquitin-fold modifier, lysosomal function, autophagic degradation\n",
       "  notes GO.IDs     GOslim     Term                  \n",
       "1       NA         NA         NA                    \n",
       "2       GO:0006398 GO:0016071 mRNA metabolic process\n",
       "3       GO:0006302 GO:0006281 DNA repair            \n",
       "4       NA         NA         NA                    \n",
       "5       NA         NA         NA                    \n",
       "6       NA         NA         NA                    "
      ]
     },
     "metadata": {},
     "output_type": "display_data"
    }
   ],
   "source": [
    "# merge dfs, keeping all sigDMG that don't have matching goSlim term\n",
    "sigDMG.goSlim <- merge(sigDMG, gene2GOslim, by = 'gene_id', all.x = TRUE)\n",
    "head(sigDMG.goSlim)"
   ]
  },
  {
   "cell_type": "markdown",
   "id": "665c2778-2783-402a-ad01-1f6af119813b",
   "metadata": {},
   "source": [
    "some of the GO IDs or GO slims have mutliple terms that are separated by ';', so I want to flatten the file"
   ]
  },
  {
   "cell_type": "code",
   "execution_count": 14,
   "id": "677169bf-385b-42d8-92dd-d14c9180308f",
   "metadata": {},
   "outputs": [
    {
     "data": {
      "text/html": [
       "<table class=\"dataframe\">\n",
       "<caption>A data.frame: 6 × 10</caption>\n",
       "<thead>\n",
       "\t<tr><th></th><th scope=col>gene_id</th><th scope=col>order</th><th scope=col>name</th><th scope=col>pair_vs_HC</th><th scope=col>gene_name</th><th scope=col>process</th><th scope=col>notes</th><th scope=col>GO.IDs</th><th scope=col>GOslim</th><th scope=col>Term</th></tr>\n",
       "\t<tr><th></th><th scope=col>&lt;chr&gt;</th><th scope=col>&lt;int&gt;</th><th scope=col>&lt;chr&gt;</th><th scope=col>&lt;chr&gt;</th><th scope=col>&lt;chr&gt;</th><th scope=col>&lt;chr&gt;</th><th scope=col>&lt;chr&gt;</th><th scope=col>&lt;chr&gt;</th><th scope=col>&lt;chr&gt;</th><th scope=col>&lt;chr&gt;</th></tr>\n",
       "</thead>\n",
       "<tbody>\n",
       "\t<tr><th scope=row>1</th><td>LOC111099548</td><td> 7</td><td>kinesin-like protein KIF17                                          </td><td>CH, HH</td><td>KIF17 </td><td>motor protein                                                                </td><td></td><td>NA        </td><td>NA        </td><td>NA                    </td></tr>\n",
       "\t<tr><th scope=row>2</th><td>LOC111099571</td><td> 8</td><td>histone RNA hairpin-binding protein-like                            </td><td>CH, HH</td><td>      </td><td>mRNA binding, transport                                                      </td><td></td><td>GO:0006398</td><td>GO:0016071</td><td>mRNA metabolic process</td></tr>\n",
       "\t<tr><th scope=row>3</th><td>LOC111099585</td><td>82</td><td>lys-63-specific deubiquitinase BRCC36-like                          </td><td>CH    </td><td>BRCC36</td><td>dna repair, immune regulation (Rabl et al., 2019)                            </td><td></td><td>GO:0006302</td><td>GO:0006281</td><td>DNA repair            </td></tr>\n",
       "\t<tr><th scope=row>4</th><td>LOC111099930</td><td> 9</td><td>uncharacterized LOC111099930, transcript variant X1                 </td><td>CH, HH</td><td>      </td><td>                                                                             </td><td></td><td>NA        </td><td>NA        </td><td>NA                    </td></tr>\n",
       "\t<tr><th scope=row>5</th><td>LOC111099978</td><td>83</td><td>oncoprotein-induced transcript 3 protein-like, transcript variant X1</td><td>CH    </td><td>OIT3  </td><td>renal system process, calcium ion binding                                    </td><td></td><td>NA        </td><td>NA        </td><td>NA                    </td></tr>\n",
       "\t<tr><th scope=row>6</th><td>LOC111100608</td><td>10</td><td>DDRGK domain-containing protein 1-like                              </td><td>CH, HH</td><td>DDRGK </td><td>regulates ubiquitin-fold modifier, lysosomal function, autophagic degradation</td><td></td><td>NA        </td><td>NA        </td><td>NA                    </td></tr>\n",
       "</tbody>\n",
       "</table>\n"
      ],
      "text/latex": [
       "A data.frame: 6 × 10\n",
       "\\begin{tabular}{r|llllllllll}\n",
       "  & gene\\_id & order & name & pair\\_vs\\_HC & gene\\_name & process & notes & GO.IDs & GOslim & Term\\\\\n",
       "  & <chr> & <int> & <chr> & <chr> & <chr> & <chr> & <chr> & <chr> & <chr> & <chr>\\\\\n",
       "\\hline\n",
       "\t1 & LOC111099548 &  7 & kinesin-like protein KIF17                                           & CH, HH & KIF17  & motor protein                                                                 &  & NA         & NA         & NA                    \\\\\n",
       "\t2 & LOC111099571 &  8 & histone RNA hairpin-binding protein-like                             & CH, HH &        & mRNA binding, transport                                                       &  & GO:0006398 & GO:0016071 & mRNA metabolic process\\\\\n",
       "\t3 & LOC111099585 & 82 & lys-63-specific deubiquitinase BRCC36-like                           & CH     & BRCC36 & dna repair, immune regulation (Rabl et al., 2019)                             &  & GO:0006302 & GO:0006281 & DNA repair            \\\\\n",
       "\t4 & LOC111099930 &  9 & uncharacterized LOC111099930, transcript variant X1                  & CH, HH &        &                                                                               &  & NA         & NA         & NA                    \\\\\n",
       "\t5 & LOC111099978 & 83 & oncoprotein-induced transcript 3 protein-like, transcript variant X1 & CH     & OIT3   & renal system process, calcium ion binding                                     &  & NA         & NA         & NA                    \\\\\n",
       "\t6 & LOC111100608 & 10 & DDRGK domain-containing protein 1-like                               & CH, HH & DDRGK  & regulates ubiquitin-fold modifier, lysosomal function, autophagic degradation &  & NA         & NA         & NA                    \\\\\n",
       "\\end{tabular}\n"
      ],
      "text/markdown": [
       "\n",
       "A data.frame: 6 × 10\n",
       "\n",
       "| <!--/--> | gene_id &lt;chr&gt; | order &lt;int&gt; | name &lt;chr&gt; | pair_vs_HC &lt;chr&gt; | gene_name &lt;chr&gt; | process &lt;chr&gt; | notes &lt;chr&gt; | GO.IDs &lt;chr&gt; | GOslim &lt;chr&gt; | Term &lt;chr&gt; |\n",
       "|---|---|---|---|---|---|---|---|---|---|---|\n",
       "| 1 | LOC111099548 |  7 | kinesin-like protein KIF17                                           | CH, HH | KIF17  | motor protein                                                                 | <!----> | NA         | NA         | NA                     |\n",
       "| 2 | LOC111099571 |  8 | histone RNA hairpin-binding protein-like                             | CH, HH | <!----> | mRNA binding, transport                                                       | <!----> | GO:0006398 | GO:0016071 | mRNA metabolic process |\n",
       "| 3 | LOC111099585 | 82 | lys-63-specific deubiquitinase BRCC36-like                           | CH     | BRCC36 | dna repair, immune regulation (Rabl et al., 2019)                             | <!----> | GO:0006302 | GO:0006281 | DNA repair             |\n",
       "| 4 | LOC111099930 |  9 | uncharacterized LOC111099930, transcript variant X1                  | CH, HH | <!----> | <!----> | <!----> | NA         | NA         | NA                     |\n",
       "| 5 | LOC111099978 | 83 | oncoprotein-induced transcript 3 protein-like, transcript variant X1 | CH     | OIT3   | renal system process, calcium ion binding                                     | <!----> | NA         | NA         | NA                     |\n",
       "| 6 | LOC111100608 | 10 | DDRGK domain-containing protein 1-like                               | CH, HH | DDRGK  | regulates ubiquitin-fold modifier, lysosomal function, autophagic degradation | <!----> | NA         | NA         | NA                     |\n",
       "\n"
      ],
      "text/plain": [
       "  gene_id      order\n",
       "1 LOC111099548  7   \n",
       "2 LOC111099571  8   \n",
       "3 LOC111099585 82   \n",
       "4 LOC111099930  9   \n",
       "5 LOC111099978 83   \n",
       "6 LOC111100608 10   \n",
       "  name                                                                \n",
       "1 kinesin-like protein KIF17                                          \n",
       "2 histone RNA hairpin-binding protein-like                            \n",
       "3 lys-63-specific deubiquitinase BRCC36-like                          \n",
       "4 uncharacterized LOC111099930, transcript variant X1                 \n",
       "5 oncoprotein-induced transcript 3 protein-like, transcript variant X1\n",
       "6 DDRGK domain-containing protein 1-like                              \n",
       "  pair_vs_HC gene_name\n",
       "1 CH, HH     KIF17    \n",
       "2 CH, HH              \n",
       "3 CH         BRCC36   \n",
       "4 CH, HH              \n",
       "5 CH         OIT3     \n",
       "6 CH, HH     DDRGK    \n",
       "  process                                                                      \n",
       "1 motor protein                                                                \n",
       "2 mRNA binding, transport                                                      \n",
       "3 dna repair, immune regulation (Rabl et al., 2019)                            \n",
       "4                                                                              \n",
       "5 renal system process, calcium ion binding                                    \n",
       "6 regulates ubiquitin-fold modifier, lysosomal function, autophagic degradation\n",
       "  notes GO.IDs     GOslim     Term                  \n",
       "1       NA         NA         NA                    \n",
       "2       GO:0006398 GO:0016071 mRNA metabolic process\n",
       "3       GO:0006302 GO:0006281 DNA repair            \n",
       "4       NA         NA         NA                    \n",
       "5       NA         NA         NA                    \n",
       "6       NA         NA         NA                    "
      ]
     },
     "metadata": {},
     "output_type": "display_data"
    }
   ],
   "source": [
    "sigDMG.goSlim_FLAT <- as.data.frame(sigDMG.goSlim %>%\n",
    "  separate_rows(Term, sep = \";\"))\n",
    "\n",
    "head(sigDMG.goSlim_FLAT)"
   ]
  },
  {
   "cell_type": "code",
   "execution_count": 16,
   "id": "71197cb7-cb95-4045-926a-7bec968d99b6",
   "metadata": {},
   "outputs": [],
   "source": [
    "# incr. order for df and writing csv\n",
    "write.csv(sigDMG.goSlim_FLAT[order(sigDMG.goSlim_FLAT$order),], '/project/pi_sarah_gignouxwolfsohn_uml_edu/julia/CE_MethylRAD_analysis_2018/analysis/deseq_res_files/GO_terms/sigDMG.goSlim.csv', row.names = FALSE)"
   ]
  },
  {
   "cell_type": "markdown",
   "id": "428646a1-33cd-4744-bbe0-0bd8f58c9a02",
   "metadata": {},
   "source": [
    "The code above just used `goSlim()` on a provided set of GO IDs - the ones I provided were the entire set of genes in *C. virginica* - I think, according to this [Bioconductor forum response](https://support.bioconductor.org/p/128407/#128408), I can provide my list of genes and GO IDs from the pairwise comparison and run `goSlim()`(/all of the code above?) and it will spit out counts and percentage for me? \n",
    "\n",
    "I guess my question becomes:\n",
    "- I ran GO-MWU on *all* of my genes, not just the ones that were significant, using log2FC as my measure of significance - that would be my input for this?\n",
    "- I shouldn't take my list of significant DMG and just match it to the GO term and GOslim term? "
   ]
  },
  {
   "cell_type": "markdown",
   "id": "4da1f3b5-d2f1-4a6a-b9bf-6712a7e2ffb0",
   "metadata": {
    "tags": []
   },
   "source": [
    "\n",
    "\n",
    "following protocol from [paper-gonad-meth repo](https://github.com/epigeneticstoocean/paper-gonad-meth/tree/master), fitting [this pipeline](https://github.com/epigeneticstoocean/paper-gonad-meth/blob/master/code/14-Gene-Enrichment-with-GO-MWU.Rmd) to my GOSlim and GO-MWU files\n",
    "\n",
    "all GO-MWU files were created from [GO-MWU.R](https://github.com/jgmcdonough/CE18_methylRAD_analysis/blob/master/analysis/DMGs_analysis/go_mwu/GO_MWU.R) - all **biological process** and using log2FoldChange as measure of significance\n",
    "\n",
    "\n",
    "starting with:\n",
    "\n",
    "## CH vs. HC\n"
   ]
  },
  {
   "cell_type": "code",
   "execution_count": 22,
   "id": "e27b3b57-3cc8-4095-82e9-23a443878ab3",
   "metadata": {},
   "outputs": [
    {
     "data": {
      "text/html": [
       "<table class=\"dataframe\">\n",
       "<caption>A data.frame: 6 × 2</caption>\n",
       "<thead>\n",
       "\t<tr><th></th><th scope=col>gene_id</th><th scope=col>Gene.Ontology.IDs</th></tr>\n",
       "\t<tr><th></th><th scope=col>&lt;chr&gt;</th><th scope=col>&lt;chr&gt;</th></tr>\n",
       "</thead>\n",
       "<tbody>\n",
       "\t<tr><th scope=row>1</th><td>LOC111101101</td><td>GO:0007015;GO:0097435</td></tr>\n",
       "\t<tr><th scope=row>2</th><td>LOC111108074</td><td>GO:0007015;GO:0097435</td></tr>\n",
       "\t<tr><th scope=row>3</th><td>LOC111109780</td><td>GO:0007015;GO:0097435</td></tr>\n",
       "\t<tr><th scope=row>4</th><td>LOC111113129</td><td>GO:0007015;GO:0097435</td></tr>\n",
       "\t<tr><th scope=row>5</th><td>LOC111113355</td><td>GO:0007015;GO:0097435</td></tr>\n",
       "\t<tr><th scope=row>6</th><td>LOC111115662</td><td>GO:0007015;GO:0097435</td></tr>\n",
       "</tbody>\n",
       "</table>\n"
      ],
      "text/latex": [
       "A data.frame: 6 × 2\n",
       "\\begin{tabular}{r|ll}\n",
       "  & gene\\_id & Gene.Ontology.IDs\\\\\n",
       "  & <chr> & <chr>\\\\\n",
       "\\hline\n",
       "\t1 & LOC111101101 & GO:0007015;GO:0097435\\\\\n",
       "\t2 & LOC111108074 & GO:0007015;GO:0097435\\\\\n",
       "\t3 & LOC111109780 & GO:0007015;GO:0097435\\\\\n",
       "\t4 & LOC111113129 & GO:0007015;GO:0097435\\\\\n",
       "\t5 & LOC111113355 & GO:0007015;GO:0097435\\\\\n",
       "\t6 & LOC111115662 & GO:0007015;GO:0097435\\\\\n",
       "\\end{tabular}\n"
      ],
      "text/markdown": [
       "\n",
       "A data.frame: 6 × 2\n",
       "\n",
       "| <!--/--> | gene_id &lt;chr&gt; | Gene.Ontology.IDs &lt;chr&gt; |\n",
       "|---|---|---|\n",
       "| 1 | LOC111101101 | GO:0007015;GO:0097435 |\n",
       "| 2 | LOC111108074 | GO:0007015;GO:0097435 |\n",
       "| 3 | LOC111109780 | GO:0007015;GO:0097435 |\n",
       "| 4 | LOC111113129 | GO:0007015;GO:0097435 |\n",
       "| 5 | LOC111113355 | GO:0007015;GO:0097435 |\n",
       "| 6 | LOC111115662 | GO:0007015;GO:0097435 |\n",
       "\n"
      ],
      "text/plain": [
       "  gene_id      Gene.Ontology.IDs    \n",
       "1 LOC111101101 GO:0007015;GO:0097435\n",
       "2 LOC111108074 GO:0007015;GO:0097435\n",
       "3 LOC111109780 GO:0007015;GO:0097435\n",
       "4 LOC111113129 GO:0007015;GO:0097435\n",
       "5 LOC111113355 GO:0007015;GO:0097435\n",
       "6 LOC111115662 GO:0007015;GO:0097435"
      ]
     },
     "metadata": {},
     "output_type": "display_data"
    }
   ],
   "source": [
    "goMWU_ch <- read.csv('/project/pi_sarah_gignouxwolfsohn_uml_edu/julia/CE_MethylRAD_analysis_2018/analysis/DMGs_analysis/go_mwu/BP_allGenes_CH_lfc.csv', sep = '\\t')\n",
    "\n",
    "# change column name for gene to be the same in gene2GOslim\n",
    "colnames(goMWU_ch) <- c('name', 'Gene.Ontology.IDs', 'lev', 'gene_id', 'value')\n",
    "\n",
    "# only need gene_id and GO ID for input\n",
    "goMWU_ch <- goMWU_ch[,c(4,2)]\n",
    "\n",
    "head(goMWU_ch)"
   ]
  },
  {
   "cell_type": "code",
   "execution_count": 32,
   "id": "383d27c2-60bb-48ab-ac92-c664d50f0955",
   "metadata": {},
   "outputs": [],
   "source": [
    "write.csv(goMWU_ch, '/project/pi_sarah_gignouxwolfsohn_uml_edu/julia/CE_MethylRAD_analysis_2018/analysis/deseq_res_files/geneFeatures_res/go-mwu/goMWU_ch.csv', row.names = FALSE)"
   ]
  },
  {
   "cell_type": "code",
   "execution_count": 33,
   "id": "071907d7-5244-48bf-9141-d03d0478f7f3",
   "metadata": {},
   "outputs": [],
   "source": [
    "# copied from workflow pipeline linked above\n",
    "\n",
    "# set variables\n",
    "\n",
    "# Column names corresponding to gene name/ID and GO IDs\n",
    "GO.ID.column <- \"Gene.Ontology.IDs\"\n",
    "gene.ID.column <- \"gene_id\"\n",
    "\n",
    "# Relative path or URL to input file\n",
    "input.file <- '/project/pi_sarah_gignouxwolfsohn_uml_edu/julia/CE_MethylRAD_analysis_2018/analysis/deseq_res_files/geneFeatures_res/go-mwu/goMWU_ch.csv'\n",
    "\n",
    "\n",
    "##### Official GO info - no need to change #####\n",
    "goslims_obo <- \"goslim_generic.obo\"\n",
    "goslims_url <- \"http://current.geneontology.org/ontology/subsets/goslim_generic.obo\"\n"
   ]
  },
  {
   "cell_type": "code",
   "execution_count": 34,
   "id": "26693ba7-964d-4057-9958-7838c45862ef",
   "metadata": {},
   "outputs": [],
   "source": [
    "# copied from workflow pipeline linked above\n",
    "\n",
    "# download generic goslim-obo\n",
    "\n",
    "# Find GSEAbase installation location\n",
    "gseabase_location <- find.package(\"GSEABase\")\n",
    "\n",
    "# Load path to GOslim OBO file\n",
    "goslim_obo_destintation <- file.path(gseabase_location, \"extdata\", goslims_obo, fsep = \"/\")\n",
    "\n",
    "# Download the GOslim OBO file\n",
    "download.file(url = goslims_url, destfile = goslim_obo_destintation)\n",
    "\n",
    "# Loads package files\n",
    "gseabase_files <- system.file(\"extdata\", goslims_obo, package=\"GSEABase\")"
   ]
  },
  {
   "cell_type": "markdown",
   "id": "e3fb37f6-1abe-4644-aa5e-c1b00b600d65",
   "metadata": {},
   "source": [
    "one unique gene per row, multiple GO IDs per gene"
   ]
  },
  {
   "cell_type": "code",
   "execution_count": 35,
   "id": "9a5b16cf-ff4a-4bd7-8b27-3ed278209267",
   "metadata": {},
   "outputs": [
    {
     "name": "stdout",
     "output_type": "stream",
     "text": [
      "'data.frame':\t6755 obs. of  2 variables:\n",
      " $ gene_id          : chr  \"LOC111101101\" \"LOC111108074\" \"LOC111109780\" \"LOC111113129\" ...\n",
      " $ Gene.Ontology.IDs: chr  \"GO:0007015;GO:0097435\" \"GO:0007015;GO:0097435\" \"GO:0007015;GO:0097435\" \"GO:0007015;GO:0097435\" ...\n"
     ]
    },
    {
     "data": {
      "text/html": [
       "<table class=\"dataframe\">\n",
       "<caption>A data.frame: 6 × 2</caption>\n",
       "<thead>\n",
       "\t<tr><th></th><th scope=col>gene_id</th><th scope=col>Gene.Ontology.IDs</th></tr>\n",
       "\t<tr><th></th><th scope=col>&lt;chr&gt;</th><th scope=col>&lt;chr&gt;</th></tr>\n",
       "</thead>\n",
       "<tbody>\n",
       "\t<tr><th scope=row>1</th><td>LOC111101101</td><td>GO:0007015;GO:0097435</td></tr>\n",
       "\t<tr><th scope=row>2</th><td>LOC111108074</td><td>GO:0007015;GO:0097435</td></tr>\n",
       "\t<tr><th scope=row>3</th><td>LOC111109780</td><td>GO:0007015;GO:0097435</td></tr>\n",
       "\t<tr><th scope=row>4</th><td>LOC111113129</td><td>GO:0007015;GO:0097435</td></tr>\n",
       "\t<tr><th scope=row>5</th><td>LOC111113355</td><td>GO:0007015;GO:0097435</td></tr>\n",
       "\t<tr><th scope=row>6</th><td>LOC111115662</td><td>GO:0007015;GO:0097435</td></tr>\n",
       "</tbody>\n",
       "</table>\n"
      ],
      "text/latex": [
       "A data.frame: 6 × 2\n",
       "\\begin{tabular}{r|ll}\n",
       "  & gene\\_id & Gene.Ontology.IDs\\\\\n",
       "  & <chr> & <chr>\\\\\n",
       "\\hline\n",
       "\t1 & LOC111101101 & GO:0007015;GO:0097435\\\\\n",
       "\t2 & LOC111108074 & GO:0007015;GO:0097435\\\\\n",
       "\t3 & LOC111109780 & GO:0007015;GO:0097435\\\\\n",
       "\t4 & LOC111113129 & GO:0007015;GO:0097435\\\\\n",
       "\t5 & LOC111113355 & GO:0007015;GO:0097435\\\\\n",
       "\t6 & LOC111115662 & GO:0007015;GO:0097435\\\\\n",
       "\\end{tabular}\n"
      ],
      "text/markdown": [
       "\n",
       "A data.frame: 6 × 2\n",
       "\n",
       "| <!--/--> | gene_id &lt;chr&gt; | Gene.Ontology.IDs &lt;chr&gt; |\n",
       "|---|---|---|\n",
       "| 1 | LOC111101101 | GO:0007015;GO:0097435 |\n",
       "| 2 | LOC111108074 | GO:0007015;GO:0097435 |\n",
       "| 3 | LOC111109780 | GO:0007015;GO:0097435 |\n",
       "| 4 | LOC111113129 | GO:0007015;GO:0097435 |\n",
       "| 5 | LOC111113355 | GO:0007015;GO:0097435 |\n",
       "| 6 | LOC111115662 | GO:0007015;GO:0097435 |\n",
       "\n"
      ],
      "text/plain": [
       "  gene_id      Gene.Ontology.IDs    \n",
       "1 LOC111101101 GO:0007015;GO:0097435\n",
       "2 LOC111108074 GO:0007015;GO:0097435\n",
       "3 LOC111109780 GO:0007015;GO:0097435\n",
       "4 LOC111113129 GO:0007015;GO:0097435\n",
       "5 LOC111113355 GO:0007015;GO:0097435\n",
       "6 LOC111115662 GO:0007015;GO:0097435"
      ]
     },
     "metadata": {},
     "output_type": "display_data"
    }
   ],
   "source": [
    "# copied from workflow pipeline linked above\n",
    "\n",
    "# read in gene file\n",
    "\n",
    "full.gene.df <- read.csv(file = input.file, header = TRUE)\n",
    "\n",
    "str(full.gene.df)\n",
    "head(full.gene.df)"
   ]
  },
  {
   "cell_type": "code",
   "execution_count": 36,
   "id": "8f5bf905-28bf-4fdc-bb5a-33868bf6e5ba",
   "metadata": {},
   "outputs": [
    {
     "data": {
      "text/html": [
       "<table class=\"dataframe\">\n",
       "<caption>A data.frame: 6 × 2</caption>\n",
       "<thead>\n",
       "\t<tr><th></th><th scope=col>gene_id</th><th scope=col>Gene.Ontology.IDs</th></tr>\n",
       "\t<tr><th></th><th scope=col>&lt;chr&gt;</th><th scope=col>&lt;chr&gt;</th></tr>\n",
       "</thead>\n",
       "<tbody>\n",
       "\t<tr><th scope=row>1</th><td>LOC111101101</td><td>GO:0007015;GO:0097435</td></tr>\n",
       "\t<tr><th scope=row>2</th><td>LOC111108074</td><td>GO:0007015;GO:0097435</td></tr>\n",
       "\t<tr><th scope=row>3</th><td>LOC111109780</td><td>GO:0007015;GO:0097435</td></tr>\n",
       "\t<tr><th scope=row>4</th><td>LOC111113129</td><td>GO:0007015;GO:0097435</td></tr>\n",
       "\t<tr><th scope=row>5</th><td>LOC111113355</td><td>GO:0007015;GO:0097435</td></tr>\n",
       "\t<tr><th scope=row>6</th><td>LOC111115662</td><td>GO:0007015;GO:0097435</td></tr>\n",
       "</tbody>\n",
       "</table>\n"
      ],
      "text/latex": [
       "A data.frame: 6 × 2\n",
       "\\begin{tabular}{r|ll}\n",
       "  & gene\\_id & Gene.Ontology.IDs\\\\\n",
       "  & <chr> & <chr>\\\\\n",
       "\\hline\n",
       "\t1 & LOC111101101 & GO:0007015;GO:0097435\\\\\n",
       "\t2 & LOC111108074 & GO:0007015;GO:0097435\\\\\n",
       "\t3 & LOC111109780 & GO:0007015;GO:0097435\\\\\n",
       "\t4 & LOC111113129 & GO:0007015;GO:0097435\\\\\n",
       "\t5 & LOC111113355 & GO:0007015;GO:0097435\\\\\n",
       "\t6 & LOC111115662 & GO:0007015;GO:0097435\\\\\n",
       "\\end{tabular}\n"
      ],
      "text/markdown": [
       "\n",
       "A data.frame: 6 × 2\n",
       "\n",
       "| <!--/--> | gene_id &lt;chr&gt; | Gene.Ontology.IDs &lt;chr&gt; |\n",
       "|---|---|---|\n",
       "| 1 | LOC111101101 | GO:0007015;GO:0097435 |\n",
       "| 2 | LOC111108074 | GO:0007015;GO:0097435 |\n",
       "| 3 | LOC111109780 | GO:0007015;GO:0097435 |\n",
       "| 4 | LOC111113129 | GO:0007015;GO:0097435 |\n",
       "| 5 | LOC111113355 | GO:0007015;GO:0097435 |\n",
       "| 6 | LOC111115662 | GO:0007015;GO:0097435 |\n",
       "\n"
      ],
      "text/plain": [
       "  gene_id      Gene.Ontology.IDs    \n",
       "1 LOC111101101 GO:0007015;GO:0097435\n",
       "2 LOC111108074 GO:0007015;GO:0097435\n",
       "3 LOC111109780 GO:0007015;GO:0097435\n",
       "4 LOC111113129 GO:0007015;GO:0097435\n",
       "5 LOC111113355 GO:0007015;GO:0097435\n",
       "6 LOC111115662 GO:0007015;GO:0097435"
      ]
     },
     "metadata": {},
     "output_type": "display_data"
    }
   ],
   "source": [
    "# copied from workflow pipeline linked above\n",
    "\n",
    "# remove NA and uniprotIDs\n",
    "\n",
    "# Clean whitespace, filter NA/empty rows, select columns, and split GO terms using column name variables\n",
    "library(dplyr) # for some reason I'm having conflicts with select()\n",
    "gene.GO.df <- full.gene.df %>%\n",
    "  mutate(!!GO.ID.column := str_replace_all(.data[[GO.ID.column]], \"\\\\s*;\\\\s*\", \";\")) %>%\n",
    "  filter(!is.na(.data[[gene.ID.column]]) & !is.na(.data[[GO.ID.column]]) & .data[[GO.ID.column]] != \"\") %>%\n",
    "  dplyr::select(all_of(c(gene.ID.column, GO.ID.column)))\n",
    "\n",
    "head(gene.GO.df)"
   ]
  },
  {
   "cell_type": "markdown",
   "id": "d43f55e5-d2be-4a0c-9cc6-e3bb7f73a061",
   "metadata": {},
   "source": [
    "flatten df so only one gene and one GO ID per row"
   ]
  },
  {
   "cell_type": "code",
   "execution_count": 37,
   "id": "3a8e9c69-bb3b-41cb-a043-d27f5962a898",
   "metadata": {},
   "outputs": [
    {
     "name": "stdout",
     "output_type": "stream",
     "text": [
      "tibble [16,653 × 2] (S3: tbl_df/tbl/data.frame)\n",
      " $ gene_id          : chr [1:16653] \"LOC111101101\" \"LOC111101101\" \"LOC111108074\" \"LOC111108074\" ...\n",
      " $ Gene.Ontology.IDs: chr [1:16653] \"GO:0007015\" \"GO:0097435\" \"GO:0007015\" \"GO:0097435\" ...\n"
     ]
    },
    {
     "data": {
      "text/html": [
       "<table class=\"dataframe\">\n",
       "<caption>A tibble: 6 × 2</caption>\n",
       "<thead>\n",
       "\t<tr><th scope=col>gene_id</th><th scope=col>Gene.Ontology.IDs</th></tr>\n",
       "\t<tr><th scope=col>&lt;chr&gt;</th><th scope=col>&lt;chr&gt;</th></tr>\n",
       "</thead>\n",
       "<tbody>\n",
       "\t<tr><td>LOC111101101</td><td>GO:0007015</td></tr>\n",
       "\t<tr><td>LOC111101101</td><td>GO:0097435</td></tr>\n",
       "\t<tr><td>LOC111108074</td><td>GO:0007015</td></tr>\n",
       "\t<tr><td>LOC111108074</td><td>GO:0097435</td></tr>\n",
       "\t<tr><td>LOC111109780</td><td>GO:0007015</td></tr>\n",
       "\t<tr><td>LOC111109780</td><td>GO:0097435</td></tr>\n",
       "</tbody>\n",
       "</table>\n"
      ],
      "text/latex": [
       "A tibble: 6 × 2\n",
       "\\begin{tabular}{ll}\n",
       " gene\\_id & Gene.Ontology.IDs\\\\\n",
       " <chr> & <chr>\\\\\n",
       "\\hline\n",
       "\t LOC111101101 & GO:0007015\\\\\n",
       "\t LOC111101101 & GO:0097435\\\\\n",
       "\t LOC111108074 & GO:0007015\\\\\n",
       "\t LOC111108074 & GO:0097435\\\\\n",
       "\t LOC111109780 & GO:0007015\\\\\n",
       "\t LOC111109780 & GO:0097435\\\\\n",
       "\\end{tabular}\n"
      ],
      "text/markdown": [
       "\n",
       "A tibble: 6 × 2\n",
       "\n",
       "| gene_id &lt;chr&gt; | Gene.Ontology.IDs &lt;chr&gt; |\n",
       "|---|---|\n",
       "| LOC111101101 | GO:0007015 |\n",
       "| LOC111101101 | GO:0097435 |\n",
       "| LOC111108074 | GO:0007015 |\n",
       "| LOC111108074 | GO:0097435 |\n",
       "| LOC111109780 | GO:0007015 |\n",
       "| LOC111109780 | GO:0097435 |\n",
       "\n"
      ],
      "text/plain": [
       "  gene_id      Gene.Ontology.IDs\n",
       "1 LOC111101101 GO:0007015       \n",
       "2 LOC111101101 GO:0097435       \n",
       "3 LOC111108074 GO:0007015       \n",
       "4 LOC111108074 GO:0097435       \n",
       "5 LOC111109780 GO:0007015       \n",
       "6 LOC111109780 GO:0097435       "
      ]
     },
     "metadata": {},
     "output_type": "display_data"
    }
   ],
   "source": [
    "# copied from workflow pipeline linked above\n",
    "\n",
    "# flatten gene and GO IDs\n",
    "\n",
    "flat.gene.GO.df <- gene.GO.df %>% separate_rows(!!sym(GO.ID.column), sep = \";\")\n",
    "\n",
    "str(flat.gene.GO.df)\n",
    "head(flat.gene.GO.df)"
   ]
  },
  {
   "cell_type": "markdown",
   "id": "b9a83848-db77-4f24-bfbb-16b50caed200",
   "metadata": {},
   "source": [
    "Grouping by GO ID - one unique GO ID per row, multiple genes per GO ID"
   ]
  },
  {
   "cell_type": "code",
   "execution_count": 38,
   "id": "e9d4ddda-4647-474d-897c-aa94a6e5ca7a",
   "metadata": {},
   "outputs": [
    {
     "name": "stdout",
     "output_type": "stream",
     "text": [
      "tibble [496 × 2] (S3: tbl_df/tbl/data.frame)\n",
      " $ Gene.Ontology.IDs: chr [1:496] \"GO:0000012\" \"GO:0000027\" \"GO:0000028\" \"GO:0000045\" ...\n",
      " $ gene_id          : chr [1:496] \"LOC111111498,LOC111111868,LOC111128425,LOC111128516,LOC111135198,LOC111136704\" \"LOC111103620,LOC111109112,LOC111116477,LOC111118739,LOC111119745,LOC111119970,LOC111120109,LOC111120886,LOC1111\"| __truncated__ \"LOC111112561,LOC111118540,LOC111120557,LOC111121432,LOC111123620,LOC111125548,LOC111126883,LOC111127769,LOC1111\"| __truncated__ \"LOC111099721,LOC111099934,LOC111100289,LOC111100878,LOC111101815,LOC111102871,LOC111106048,LOC111108144,LOC1111\"| __truncated__ ...\n"
     ]
    },
    {
     "data": {
      "text/html": [
       "<table class=\"dataframe\">\n",
       "<caption>A tibble: 6 × 2</caption>\n",
       "<thead>\n",
       "\t<tr><th scope=col>Gene.Ontology.IDs</th><th scope=col>gene_id</th></tr>\n",
       "\t<tr><th scope=col>&lt;chr&gt;</th><th scope=col>&lt;chr&gt;</th></tr>\n",
       "</thead>\n",
       "<tbody>\n",
       "\t<tr><td>GO:0000012</td><td>LOC111111498,LOC111111868,LOC111128425,LOC111128516,LOC111135198,LOC111136704                                                                                                                                                                                                                                                                                                                                                                                                                                                                                    </td></tr>\n",
       "\t<tr><td>GO:0000027</td><td>LOC111103620,LOC111109112,LOC111116477,LOC111118739,LOC111119745,LOC111119970,LOC111120109,LOC111120886,LOC111120892,LOC111120994,LOC111121522,LOC111121958,LOC111129891,LOC111130039,LOC111132903,LOC111135538,LOC111136247,LOC111137006                                                                                                                                                                                                                                                                                                                        </td></tr>\n",
       "\t<tr><td>GO:0000028</td><td>LOC111112561,LOC111118540,LOC111120557,LOC111121432,LOC111123620,LOC111125548,LOC111126883,LOC111127769,LOC111128580,LOC111135312                                                                                                                                                                                                                                                                                                                                                                                                                                </td></tr>\n",
       "\t<tr><td>GO:0000045</td><td>LOC111099721,LOC111099934,LOC111100289,LOC111100878,LOC111101815,LOC111102871,LOC111106048,LOC111108144,LOC111111295,LOC111111995,LOC111118945,LOC111120809,LOC111122717,LOC111123325,LOC111124607,LOC111124610,LOC111125798,LOC111127040,LOC111127325,LOC111127879,LOC111127926,LOC111128047,LOC111128059,LOC111129370,LOC111131691,LOC111131738,LOC111132058,LOC111132962,LOC111133363,LOC111134873,LOC111136300,LOC111137152,LOC111110828,LOC111112253,LOC111123221,LOC111124399,LOC111126629,LOC111133574,LOC111133575,LOC111135792,LOC111136338,LOC111137481</td></tr>\n",
       "\t<tr><td>GO:0000054</td><td>LOC111106509,LOC111119150,LOC111119639,LOC111122535,LOC111125104,LOC111125671,LOC111129825,LOC111130459,LOC111133705,LOC111135936,LOC111136254,LOC111136517                                                                                                                                                                                                                                                                                                                                                                                                      </td></tr>\n",
       "\t<tr><td>GO:0000055</td><td>LOC111106509,LOC111119150,LOC111122535,LOC111129825,LOC111130459,LOC111135936                                                                                                                                                                                                                                                                                                                                                                                                                                                                                    </td></tr>\n",
       "</tbody>\n",
       "</table>\n"
      ],
      "text/latex": [
       "A tibble: 6 × 2\n",
       "\\begin{tabular}{ll}\n",
       " Gene.Ontology.IDs & gene\\_id\\\\\n",
       " <chr> & <chr>\\\\\n",
       "\\hline\n",
       "\t GO:0000012 & LOC111111498,LOC111111868,LOC111128425,LOC111128516,LOC111135198,LOC111136704                                                                                                                                                                                                                                                                                                                                                                                                                                                                                    \\\\\n",
       "\t GO:0000027 & LOC111103620,LOC111109112,LOC111116477,LOC111118739,LOC111119745,LOC111119970,LOC111120109,LOC111120886,LOC111120892,LOC111120994,LOC111121522,LOC111121958,LOC111129891,LOC111130039,LOC111132903,LOC111135538,LOC111136247,LOC111137006                                                                                                                                                                                                                                                                                                                        \\\\\n",
       "\t GO:0000028 & LOC111112561,LOC111118540,LOC111120557,LOC111121432,LOC111123620,LOC111125548,LOC111126883,LOC111127769,LOC111128580,LOC111135312                                                                                                                                                                                                                                                                                                                                                                                                                                \\\\\n",
       "\t GO:0000045 & LOC111099721,LOC111099934,LOC111100289,LOC111100878,LOC111101815,LOC111102871,LOC111106048,LOC111108144,LOC111111295,LOC111111995,LOC111118945,LOC111120809,LOC111122717,LOC111123325,LOC111124607,LOC111124610,LOC111125798,LOC111127040,LOC111127325,LOC111127879,LOC111127926,LOC111128047,LOC111128059,LOC111129370,LOC111131691,LOC111131738,LOC111132058,LOC111132962,LOC111133363,LOC111134873,LOC111136300,LOC111137152,LOC111110828,LOC111112253,LOC111123221,LOC111124399,LOC111126629,LOC111133574,LOC111133575,LOC111135792,LOC111136338,LOC111137481\\\\\n",
       "\t GO:0000054 & LOC111106509,LOC111119150,LOC111119639,LOC111122535,LOC111125104,LOC111125671,LOC111129825,LOC111130459,LOC111133705,LOC111135936,LOC111136254,LOC111136517                                                                                                                                                                                                                                                                                                                                                                                                      \\\\\n",
       "\t GO:0000055 & LOC111106509,LOC111119150,LOC111122535,LOC111129825,LOC111130459,LOC111135936                                                                                                                                                                                                                                                                                                                                                                                                                                                                                    \\\\\n",
       "\\end{tabular}\n"
      ],
      "text/markdown": [
       "\n",
       "A tibble: 6 × 2\n",
       "\n",
       "| Gene.Ontology.IDs &lt;chr&gt; | gene_id &lt;chr&gt; |\n",
       "|---|---|\n",
       "| GO:0000012 | LOC111111498,LOC111111868,LOC111128425,LOC111128516,LOC111135198,LOC111136704                                                                                                                                                                                                                                                                                                                                                                                                                                                                                     |\n",
       "| GO:0000027 | LOC111103620,LOC111109112,LOC111116477,LOC111118739,LOC111119745,LOC111119970,LOC111120109,LOC111120886,LOC111120892,LOC111120994,LOC111121522,LOC111121958,LOC111129891,LOC111130039,LOC111132903,LOC111135538,LOC111136247,LOC111137006                                                                                                                                                                                                                                                                                                                         |\n",
       "| GO:0000028 | LOC111112561,LOC111118540,LOC111120557,LOC111121432,LOC111123620,LOC111125548,LOC111126883,LOC111127769,LOC111128580,LOC111135312                                                                                                                                                                                                                                                                                                                                                                                                                                 |\n",
       "| GO:0000045 | LOC111099721,LOC111099934,LOC111100289,LOC111100878,LOC111101815,LOC111102871,LOC111106048,LOC111108144,LOC111111295,LOC111111995,LOC111118945,LOC111120809,LOC111122717,LOC111123325,LOC111124607,LOC111124610,LOC111125798,LOC111127040,LOC111127325,LOC111127879,LOC111127926,LOC111128047,LOC111128059,LOC111129370,LOC111131691,LOC111131738,LOC111132058,LOC111132962,LOC111133363,LOC111134873,LOC111136300,LOC111137152,LOC111110828,LOC111112253,LOC111123221,LOC111124399,LOC111126629,LOC111133574,LOC111133575,LOC111135792,LOC111136338,LOC111137481 |\n",
       "| GO:0000054 | LOC111106509,LOC111119150,LOC111119639,LOC111122535,LOC111125104,LOC111125671,LOC111129825,LOC111130459,LOC111133705,LOC111135936,LOC111136254,LOC111136517                                                                                                                                                                                                                                                                                                                                                                                                       |\n",
       "| GO:0000055 | LOC111106509,LOC111119150,LOC111122535,LOC111129825,LOC111130459,LOC111135936                                                                                                                                                                                                                                                                                                                                                                                                                                                                                     |\n",
       "\n"
      ],
      "text/plain": [
       "  Gene.Ontology.IDs\n",
       "1 GO:0000012       \n",
       "2 GO:0000027       \n",
       "3 GO:0000028       \n",
       "4 GO:0000045       \n",
       "5 GO:0000054       \n",
       "6 GO:0000055       \n",
       "  gene_id                                                                                                                                                                                                                                                                                                                                                                                                                                                                                                                                                          \n",
       "1 LOC111111498,LOC111111868,LOC111128425,LOC111128516,LOC111135198,LOC111136704                                                                                                                                                                                                                                                                                                                                                                                                                                                                                    \n",
       "2 LOC111103620,LOC111109112,LOC111116477,LOC111118739,LOC111119745,LOC111119970,LOC111120109,LOC111120886,LOC111120892,LOC111120994,LOC111121522,LOC111121958,LOC111129891,LOC111130039,LOC111132903,LOC111135538,LOC111136247,LOC111137006                                                                                                                                                                                                                                                                                                                        \n",
       "3 LOC111112561,LOC111118540,LOC111120557,LOC111121432,LOC111123620,LOC111125548,LOC111126883,LOC111127769,LOC111128580,LOC111135312                                                                                                                                                                                                                                                                                                                                                                                                                                \n",
       "4 LOC111099721,LOC111099934,LOC111100289,LOC111100878,LOC111101815,LOC111102871,LOC111106048,LOC111108144,LOC111111295,LOC111111995,LOC111118945,LOC111120809,LOC111122717,LOC111123325,LOC111124607,LOC111124610,LOC111125798,LOC111127040,LOC111127325,LOC111127879,LOC111127926,LOC111128047,LOC111128059,LOC111129370,LOC111131691,LOC111131738,LOC111132058,LOC111132962,LOC111133363,LOC111134873,LOC111136300,LOC111137152,LOC111110828,LOC111112253,LOC111123221,LOC111124399,LOC111126629,LOC111133574,LOC111133575,LOC111135792,LOC111136338,LOC111137481\n",
       "5 LOC111106509,LOC111119150,LOC111119639,LOC111122535,LOC111125104,LOC111125671,LOC111129825,LOC111130459,LOC111133705,LOC111135936,LOC111136254,LOC111136517                                                                                                                                                                                                                                                                                                                                                                                                      \n",
       "6 LOC111106509,LOC111119150,LOC111122535,LOC111129825,LOC111130459,LOC111135936                                                                                                                                                                                                                                                                                                                                                                                                                                                                                    "
      ]
     },
     "metadata": {},
     "output_type": "display_data"
    }
   ],
   "source": [
    "# copied from workflow pipeline linked above\n",
    "\n",
    "# group by GO\n",
    "\n",
    "grouped.gene.GO.df <- flat.gene.GO.df %>%\n",
    "  group_by(!!sym(GO.ID.column)) %>%\n",
    "  summarise(!!gene.ID.column := paste(.data[[gene.ID.column]], collapse = \",\"))\n",
    "\n",
    "str(grouped.gene.GO.df)\n",
    "head(grouped.gene.GO.df)"
   ]
  },
  {
   "cell_type": "markdown",
   "id": "df177c64-6943-4fe8-ac56-6696bd5e8e9b",
   "metadata": {},
   "source": [
    "#### Mapping GO IDs to GO Slim"
   ]
  },
  {
   "cell_type": "code",
   "execution_count": 39,
   "id": "3b79c166-22b4-4bdb-af36-f78ad64059ca",
   "metadata": {},
   "outputs": [
    {
     "name": "stdout",
     "output_type": "stream",
     "text": [
      " chr [1:496] \"GO:0000012\" \"GO:0000027\" \"GO:0000028\" \"GO:0000045\" ...\n"
     ]
    },
    {
     "data": {
      "text/html": [
       "<style>\n",
       ".list-inline {list-style: none; margin:0; padding: 0}\n",
       ".list-inline>li {display: inline-block}\n",
       ".list-inline>li:not(:last-child)::after {content: \"\\00b7\"; padding: 0 .5ex}\n",
       "</style>\n",
       "<ol class=list-inline><li>'GO:0000012'</li><li>'GO:0000027'</li><li>'GO:0000028'</li><li>'GO:0000045'</li><li>'GO:0000054'</li><li>'GO:0000055'</li></ol>\n"
      ],
      "text/latex": [
       "\\begin{enumerate*}\n",
       "\\item 'GO:0000012'\n",
       "\\item 'GO:0000027'\n",
       "\\item 'GO:0000028'\n",
       "\\item 'GO:0000045'\n",
       "\\item 'GO:0000054'\n",
       "\\item 'GO:0000055'\n",
       "\\end{enumerate*}\n"
      ],
      "text/markdown": [
       "1. 'GO:0000012'\n",
       "2. 'GO:0000027'\n",
       "3. 'GO:0000028'\n",
       "4. 'GO:0000045'\n",
       "5. 'GO:0000054'\n",
       "6. 'GO:0000055'\n",
       "\n",
       "\n"
      ],
      "text/plain": [
       "[1] \"GO:0000012\" \"GO:0000027\" \"GO:0000028\" \"GO:0000045\" \"GO:0000054\"\n",
       "[6] \"GO:0000055\""
      ]
     },
     "metadata": {},
     "output_type": "display_data"
    }
   ],
   "source": [
    "# copied from workflow pipeline linked above\n",
    "\n",
    "# Vectorize GO IDs\n",
    "go_ids <- grouped.gene.GO.df[[GO.ID.column]]\n",
    "\n",
    "str(go_ids)\n",
    "head(go_ids)"
   ]
  },
  {
   "cell_type": "code",
   "execution_count": 40,
   "id": "47a71546-fbce-4b3a-9cbc-0d6a519d1f02",
   "metadata": {},
   "outputs": [
    {
     "name": "stdout",
     "output_type": "stream",
     "text": [
      "Formal class 'OBOCollection' [package \"GSEABase\"] with 7 slots\n",
      "  ..@ .stanza     :'data.frame':\t153 obs. of  1 variable:\n",
      "  .. ..$ value: chr [1:153] \"Root\" \"Term\" \"Term\" \"Term\" ...\n",
      "  ..@ .subset     :'data.frame':\t22 obs. of  1 variable:\n",
      "  .. ..$ value: chr [1:22] \"Rhea list of ChEBI terms representing the major species at pH 7.3.\" \"Term not to be used for direct annotation\" \"Terms planned for obsoletion\" \"AGR slim\" ...\n",
      "  ..@ .kv         :'data.frame':\t2075 obs. of  3 variables:\n",
      "  .. ..$ stanza_id: chr [1:2075] \".__Root__\" \".__Root__\" \".__Root__\" \".__Root__\" ...\n",
      "  .. ..$ key      : chr [1:2075] \"format-version\" \"data-version\" \"synonymtypedef\" \"synonymtypedef\" ...\n",
      "  .. ..$ value    : chr [1:2075] \"1.2\" \"go/2024-11-03/subsets/goslim_generic.owl\" \"syngo_official_label \\\"label approved by the SynGO project\\\"\" \"systematic_synonym \\\"Systematic synonym\\\" EXACT\" ...\n",
      "  ..@ evidenceCode: chr [1:26] \"EXP\" \"IDA\" \"IPI\" \"IMP\" ...\n",
      "  ..@ ontology    : chr NA\n",
      "  ..@ ids         : chr [1:141] \"GO:0000228\" \"GO:0000278\" \"GO:0000910\" \"GO:0001618\" ...\n",
      "  ..@ type        : chr \"OBO\"\n"
     ]
    }
   ],
   "source": [
    "# copied from workflow pipeline linked above\n",
    "\n",
    "# extract GOslims from OBO\n",
    "\n",
    "# Create GSEAbase GOCollection using `go_ids`\n",
    "myCollection <- GOCollection(go_ids)\n",
    "\n",
    "# Retrieve GOslims from GO OBO file set\n",
    "slim <- getOBOCollection(gseabase_files)\n",
    "\n",
    "str(slim)"
   ]
  },
  {
   "cell_type": "code",
   "execution_count": 41,
   "id": "d0daa09a-a169-477b-b8ee-f5479f489727",
   "metadata": {},
   "outputs": [
    {
     "name": "stdout",
     "output_type": "stream",
     "text": [
      "'data.frame':\t72 obs. of  3 variables:\n",
      " $ Count  : int  9 3 2 4 0 0 0 0 6 0 ...\n",
      " $ Percent: num  3.543 1.181 0.787 1.575 0 ...\n",
      " $ Term   : chr  \"mitotic cell cycle\" \"cytokinesis\" \"cytoplasmic translation\" \"immune system process\" ...\n"
     ]
    },
    {
     "data": {
      "text/html": [
       "<table class=\"dataframe\">\n",
       "<caption>A data.frame: 6 × 3</caption>\n",
       "<thead>\n",
       "\t<tr><th></th><th scope=col>Count</th><th scope=col>Percent</th><th scope=col>Term</th></tr>\n",
       "\t<tr><th></th><th scope=col>&lt;int&gt;</th><th scope=col>&lt;dbl&gt;</th><th scope=col>&lt;chr&gt;</th></tr>\n",
       "</thead>\n",
       "<tbody>\n",
       "\t<tr><th scope=row>GO:0000278</th><td>9</td><td>3.5433071</td><td>mitotic cell cycle        </td></tr>\n",
       "\t<tr><th scope=row>GO:0000910</th><td>3</td><td>1.1811024</td><td>cytokinesis               </td></tr>\n",
       "\t<tr><th scope=row>GO:0002181</th><td>2</td><td>0.7874016</td><td>cytoplasmic translation   </td></tr>\n",
       "\t<tr><th scope=row>GO:0002376</th><td>4</td><td>1.5748031</td><td>immune system process     </td></tr>\n",
       "\t<tr><th scope=row>GO:0003012</th><td>0</td><td>0.0000000</td><td>muscle system process     </td></tr>\n",
       "\t<tr><th scope=row>GO:0003013</th><td>0</td><td>0.0000000</td><td>circulatory system process</td></tr>\n",
       "</tbody>\n",
       "</table>\n"
      ],
      "text/latex": [
       "A data.frame: 6 × 3\n",
       "\\begin{tabular}{r|lll}\n",
       "  & Count & Percent & Term\\\\\n",
       "  & <int> & <dbl> & <chr>\\\\\n",
       "\\hline\n",
       "\tGO:0000278 & 9 & 3.5433071 & mitotic cell cycle        \\\\\n",
       "\tGO:0000910 & 3 & 1.1811024 & cytokinesis               \\\\\n",
       "\tGO:0002181 & 2 & 0.7874016 & cytoplasmic translation   \\\\\n",
       "\tGO:0002376 & 4 & 1.5748031 & immune system process     \\\\\n",
       "\tGO:0003012 & 0 & 0.0000000 & muscle system process     \\\\\n",
       "\tGO:0003013 & 0 & 0.0000000 & circulatory system process\\\\\n",
       "\\end{tabular}\n"
      ],
      "text/markdown": [
       "\n",
       "A data.frame: 6 × 3\n",
       "\n",
       "| <!--/--> | Count &lt;int&gt; | Percent &lt;dbl&gt; | Term &lt;chr&gt; |\n",
       "|---|---|---|---|\n",
       "| GO:0000278 | 9 | 3.5433071 | mitotic cell cycle         |\n",
       "| GO:0000910 | 3 | 1.1811024 | cytokinesis                |\n",
       "| GO:0002181 | 2 | 0.7874016 | cytoplasmic translation    |\n",
       "| GO:0002376 | 4 | 1.5748031 | immune system process      |\n",
       "| GO:0003012 | 0 | 0.0000000 | muscle system process      |\n",
       "| GO:0003013 | 0 | 0.0000000 | circulatory system process |\n",
       "\n"
      ],
      "text/plain": [
       "           Count Percent   Term                      \n",
       "GO:0000278 9     3.5433071 mitotic cell cycle        \n",
       "GO:0000910 3     1.1811024 cytokinesis               \n",
       "GO:0002181 2     0.7874016 cytoplasmic translation   \n",
       "GO:0002376 4     1.5748031 immune system process     \n",
       "GO:0003012 0     0.0000000 muscle system process     \n",
       "GO:0003013 0     0.0000000 circulatory system process"
      ]
     },
     "metadata": {},
     "output_type": "display_data"
    }
   ],
   "source": [
    "# copied from workflow pipeline linked above\n",
    "\n",
    "# retrieve BP GOslims\n",
    "\n",
    "# Retrieve Biological Process (BP) GOslims\n",
    "slimdf <- goSlim(myCollection, slim, \"BP\", verbose)\n",
    "str(slimdf)\n",
    "head(slimdf)"
   ]
  },
  {
   "cell_type": "code",
   "execution_count": 42,
   "id": "38f12c70-36d4-4f65-9045-8ad80d205669",
   "metadata": {},
   "outputs": [
    {
     "data": {
      "text/html": [
       "<style>\n",
       ".list-inline {list-style: none; margin:0; padding: 0}\n",
       ".list-inline>li {display: inline-block}\n",
       ".list-inline>li:not(:last-child)::after {content: \"\\00b7\"; padding: 0 .5ex}\n",
       "</style>\n",
       "<ol class=list-inline><li>72</li><li>3</li></ol>\n"
      ],
      "text/latex": [
       "\\begin{enumerate*}\n",
       "\\item 72\n",
       "\\item 3\n",
       "\\end{enumerate*}\n"
      ],
      "text/markdown": [
       "1. 72\n",
       "2. 3\n",
       "\n",
       "\n"
      ],
      "text/plain": [
       "[1] 72  3"
      ]
     },
     "metadata": {},
     "output_type": "display_data"
    }
   ],
   "source": [
    "dim(slimdf) # 72 total GOslim terms"
   ]
  },
  {
   "cell_type": "markdown",
   "id": "92abf812-c0a0-4993-a721-ecd5c65aaa0b",
   "metadata": {},
   "source": [
    "so now have df with GOslim term and GO ID"
   ]
  },
  {
   "cell_type": "code",
   "execution_count": 43,
   "id": "46a46c23-c443-4001-acd5-dcc77c38ed4e",
   "metadata": {},
   "outputs": [
    {
     "name": "stdout",
     "output_type": "stream",
     "text": [
      "'data.frame':\t72 obs. of  4 variables:\n",
      " $ Count  : int  9 3 2 4 0 0 0 0 6 0 ...\n",
      " $ Percent: num  3.543 1.181 0.787 1.575 0 ...\n",
      " $ Term   : chr  \"mitotic cell cycle\" \"cytokinesis\" \"cytoplasmic translation\" \"immune system process\" ...\n",
      " $ GO.IDs : chr  \"GO:0000070;GO:0000082;GO:0000083;GO:0000086;GO:0000281;GO:0007346;GO:0044772;GO:1903047; GO:0000278\" \"GO:0000281;GO:0061640; GO:0000910\" \"GO:0001731; GO:0002181\" \"GO:0002221;GO:0002224;GO:0006955; GO:0002376\" ...\n"
     ]
    },
    {
     "data": {
      "text/html": [
       "<table class=\"dataframe\">\n",
       "<caption>A data.frame: 6 × 4</caption>\n",
       "<thead>\n",
       "\t<tr><th></th><th scope=col>Count</th><th scope=col>Percent</th><th scope=col>Term</th><th scope=col>GO.IDs</th></tr>\n",
       "\t<tr><th></th><th scope=col>&lt;int&gt;</th><th scope=col>&lt;dbl&gt;</th><th scope=col>&lt;chr&gt;</th><th scope=col>&lt;chr&gt;</th></tr>\n",
       "</thead>\n",
       "<tbody>\n",
       "\t<tr><th scope=row>GO:0000278</th><td>9</td><td>3.5433071</td><td>mitotic cell cycle        </td><td>GO:0000070;GO:0000082;GO:0000083;GO:0000086;GO:0000281;GO:0007346;GO:0044772;GO:1903047; GO:0000278</td></tr>\n",
       "\t<tr><th scope=row>GO:0000910</th><td>3</td><td>1.1811024</td><td>cytokinesis               </td><td>GO:0000281;GO:0061640; GO:0000910                                                                  </td></tr>\n",
       "\t<tr><th scope=row>GO:0002181</th><td>2</td><td>0.7874016</td><td>cytoplasmic translation   </td><td>GO:0001731; GO:0002181                                                                             </td></tr>\n",
       "\t<tr><th scope=row>GO:0002376</th><td>4</td><td>1.5748031</td><td>immune system process     </td><td>GO:0002221;GO:0002224;GO:0006955; GO:0002376                                                       </td></tr>\n",
       "\t<tr><th scope=row>GO:0003012</th><td>0</td><td>0.0000000</td><td>muscle system process     </td><td>                                                                                                   </td></tr>\n",
       "\t<tr><th scope=row>GO:0003013</th><td>0</td><td>0.0000000</td><td>circulatory system process</td><td>                                                                                                   </td></tr>\n",
       "</tbody>\n",
       "</table>\n"
      ],
      "text/latex": [
       "A data.frame: 6 × 4\n",
       "\\begin{tabular}{r|llll}\n",
       "  & Count & Percent & Term & GO.IDs\\\\\n",
       "  & <int> & <dbl> & <chr> & <chr>\\\\\n",
       "\\hline\n",
       "\tGO:0000278 & 9 & 3.5433071 & mitotic cell cycle         & GO:0000070;GO:0000082;GO:0000083;GO:0000086;GO:0000281;GO:0007346;GO:0044772;GO:1903047; GO:0000278\\\\\n",
       "\tGO:0000910 & 3 & 1.1811024 & cytokinesis                & GO:0000281;GO:0061640; GO:0000910                                                                  \\\\\n",
       "\tGO:0002181 & 2 & 0.7874016 & cytoplasmic translation    & GO:0001731; GO:0002181                                                                             \\\\\n",
       "\tGO:0002376 & 4 & 1.5748031 & immune system process      & GO:0002221;GO:0002224;GO:0006955; GO:0002376                                                       \\\\\n",
       "\tGO:0003012 & 0 & 0.0000000 & muscle system process      &                                                                                                    \\\\\n",
       "\tGO:0003013 & 0 & 0.0000000 & circulatory system process &                                                                                                    \\\\\n",
       "\\end{tabular}\n"
      ],
      "text/markdown": [
       "\n",
       "A data.frame: 6 × 4\n",
       "\n",
       "| <!--/--> | Count &lt;int&gt; | Percent &lt;dbl&gt; | Term &lt;chr&gt; | GO.IDs &lt;chr&gt; |\n",
       "|---|---|---|---|---|\n",
       "| GO:0000278 | 9 | 3.5433071 | mitotic cell cycle         | GO:0000070;GO:0000082;GO:0000083;GO:0000086;GO:0000281;GO:0007346;GO:0044772;GO:1903047; GO:0000278 |\n",
       "| GO:0000910 | 3 | 1.1811024 | cytokinesis                | GO:0000281;GO:0061640; GO:0000910                                                                   |\n",
       "| GO:0002181 | 2 | 0.7874016 | cytoplasmic translation    | GO:0001731; GO:0002181                                                                              |\n",
       "| GO:0002376 | 4 | 1.5748031 | immune system process      | GO:0002221;GO:0002224;GO:0006955; GO:0002376                                                        |\n",
       "| GO:0003012 | 0 | 0.0000000 | muscle system process      | <!----> |\n",
       "| GO:0003013 | 0 | 0.0000000 | circulatory system process | <!----> |\n",
       "\n"
      ],
      "text/plain": [
       "           Count Percent   Term                      \n",
       "GO:0000278 9     3.5433071 mitotic cell cycle        \n",
       "GO:0000910 3     1.1811024 cytokinesis               \n",
       "GO:0002181 2     0.7874016 cytoplasmic translation   \n",
       "GO:0002376 4     1.5748031 immune system process     \n",
       "GO:0003012 0     0.0000000 muscle system process     \n",
       "GO:0003013 0     0.0000000 circulatory system process\n",
       "           GO.IDs                                                                                             \n",
       "GO:0000278 GO:0000070;GO:0000082;GO:0000083;GO:0000086;GO:0000281;GO:0007346;GO:0044772;GO:1903047; GO:0000278\n",
       "GO:0000910 GO:0000281;GO:0061640; GO:0000910                                                                  \n",
       "GO:0002181 GO:0001731; GO:0002181                                                                             \n",
       "GO:0002376 GO:0002221;GO:0002224;GO:0006955; GO:0002376                                                       \n",
       "GO:0003012                                                                                                    \n",
       "GO:0003013                                                                                                    "
      ]
     },
     "metadata": {},
     "output_type": "display_data"
    }
   ],
   "source": [
    "# copied from workflow pipeline linked above\n",
    "\n",
    "#Map GO to GOslims\n",
    "\n",
    "# List of GOslims and all GO IDs from `go_ids`\n",
    "gomap <- as.list(GOBPOFFSPRING[rownames(slimdf)])\n",
    "\n",
    "# Maps `go_ids` to matching GOslims\n",
    "mapped <- lapply(gomap, intersect, ids(myCollection))\n",
    "\n",
    "# Append all mapped GO IDs to `slimdf`\n",
    "# `sapply` needed to apply paste() to create semi-colon delimited values\n",
    "slimdf$GO.IDs <- sapply(lapply(gomap, intersect, ids(myCollection)), paste, collapse=\";\")\n",
    "\n",
    "# Remove \"character(0) string from \"GO.IDs\" column\n",
    "slimdf$GO.IDs[slimdf$GO.IDs == \"character(0)\"] <- \"\"\n",
    "\n",
    "# Add self-matching GOIDs to \"GO.IDs\" column, if not present\n",
    "for (go_id in go_ids) {\n",
    "  # Check if the go_id is present in the row names\n",
    "  if (go_id %in% rownames(slimdf)) {\n",
    "    # Check if the go_id is not present in the GO.IDs column\n",
    "    # Also removes white space \"trimws()\" and converts all to upper case to handle\n",
    "    # any weird, \"invisible\" formatting issues.\n",
    "    if (!go_id %in% trimws(toupper(strsplit(slimdf[go_id, \"GO.IDs\"], \";\")[[1]]))) {\n",
    "      # Append the go_id to the GO.IDs column with a semi-colon separator\n",
    "      if (length(slimdf$GO.IDs) > 0 && nchar(slimdf$GO.IDs[nrow(slimdf)]) > 0) {\n",
    "        slimdf[go_id, \"GO.IDs\"] <- paste0(slimdf[go_id, \"GO.IDs\"], \"; \", go_id)\n",
    "      } else {\n",
    "        slimdf[go_id, \"GO.IDs\"] <- go_id\n",
    "      }\n",
    "    }\n",
    "  }\n",
    "}\n",
    "\n",
    "str(slimdf)\n",
    "head(slimdf)"
   ]
  },
  {
   "cell_type": "markdown",
   "id": "f0cdcb70-16ff-4c14-ae8a-2fc5c4a5a786",
   "metadata": {},
   "source": [
    "now have df with GOslim ID as the rowname and the corresponding GO IDs that fall within the GOslim term listed"
   ]
  },
  {
   "cell_type": "markdown",
   "id": "aee1d046-69bf-49e8-b18b-c77ffc9108d8",
   "metadata": {},
   "source": [
    "flatten GOslims file - one GO ID and one GOslim term per row"
   ]
  },
  {
   "cell_type": "code",
   "execution_count": 44,
   "id": "b7fa269e-bed7-4f84-bc2c-2874399d4ca9",
   "metadata": {},
   "outputs": [
    {
     "name": "stdout",
     "output_type": "stream",
     "text": [
      "tibble [219 × 3] (S3: tbl_df/tbl/data.frame)\n",
      " $ GO.IDs: chr [1:219] \" GO:0000278\" \" GO:0000910\" \" GO:0002181\" \" GO:0002376\" ...\n",
      " $ GOslim: chr [1:219] \"GO:0000278\" \"GO:0000910\" \"GO:0002181\" \"GO:0002376\" ...\n",
      " $ Term  : chr [1:219] \"mitotic cell cycle\" \"cytokinesis\" \"cytoplasmic translation\" \"immune system process\" ...\n"
     ]
    },
    {
     "data": {
      "text/html": [
       "<table class=\"dataframe\">\n",
       "<caption>A tibble: 6 × 3</caption>\n",
       "<thead>\n",
       "\t<tr><th scope=col>GO.IDs</th><th scope=col>GOslim</th><th scope=col>Term</th></tr>\n",
       "\t<tr><th scope=col>&lt;chr&gt;</th><th scope=col>&lt;chr&gt;</th><th scope=col>&lt;chr&gt;</th></tr>\n",
       "</thead>\n",
       "<tbody>\n",
       "\t<tr><td> GO:0000278</td><td>GO:0000278</td><td>mitotic cell cycle            </td></tr>\n",
       "\t<tr><td> GO:0000910</td><td>GO:0000910</td><td>cytokinesis                   </td></tr>\n",
       "\t<tr><td> GO:0002181</td><td>GO:0002181</td><td>cytoplasmic translation       </td></tr>\n",
       "\t<tr><td> GO:0002376</td><td>GO:0002376</td><td>immune system process         </td></tr>\n",
       "\t<tr><td> GO:0005975</td><td>GO:0005975</td><td>carbohydrate metabolic process</td></tr>\n",
       "\t<tr><td> GO:0006281</td><td>GO:0006281</td><td>DNA repair                    </td></tr>\n",
       "</tbody>\n",
       "</table>\n"
      ],
      "text/latex": [
       "A tibble: 6 × 3\n",
       "\\begin{tabular}{lll}\n",
       " GO.IDs & GOslim & Term\\\\\n",
       " <chr> & <chr> & <chr>\\\\\n",
       "\\hline\n",
       "\t  GO:0000278 & GO:0000278 & mitotic cell cycle            \\\\\n",
       "\t  GO:0000910 & GO:0000910 & cytokinesis                   \\\\\n",
       "\t  GO:0002181 & GO:0002181 & cytoplasmic translation       \\\\\n",
       "\t  GO:0002376 & GO:0002376 & immune system process         \\\\\n",
       "\t  GO:0005975 & GO:0005975 & carbohydrate metabolic process\\\\\n",
       "\t  GO:0006281 & GO:0006281 & DNA repair                    \\\\\n",
       "\\end{tabular}\n"
      ],
      "text/markdown": [
       "\n",
       "A tibble: 6 × 3\n",
       "\n",
       "| GO.IDs &lt;chr&gt; | GOslim &lt;chr&gt; | Term &lt;chr&gt; |\n",
       "|---|---|---|\n",
       "|  GO:0000278 | GO:0000278 | mitotic cell cycle             |\n",
       "|  GO:0000910 | GO:0000910 | cytokinesis                    |\n",
       "|  GO:0002181 | GO:0002181 | cytoplasmic translation        |\n",
       "|  GO:0002376 | GO:0002376 | immune system process          |\n",
       "|  GO:0005975 | GO:0005975 | carbohydrate metabolic process |\n",
       "|  GO:0006281 | GO:0006281 | DNA repair                     |\n",
       "\n"
      ],
      "text/plain": [
       "  GO.IDs      GOslim     Term                          \n",
       "1  GO:0000278 GO:0000278 mitotic cell cycle            \n",
       "2  GO:0000910 GO:0000910 cytokinesis                   \n",
       "3  GO:0002181 GO:0002181 cytoplasmic translation       \n",
       "4  GO:0002376 GO:0002376 immune system process         \n",
       "5  GO:0005975 GO:0005975 carbohydrate metabolic process\n",
       "6  GO:0006281 GO:0006281 DNA repair                    "
      ]
     },
     "metadata": {},
     "output_type": "display_data"
    }
   ],
   "source": [
    "# copied from workflow pipeline linked above\n",
    "\n",
    "# flatten-GOslims-file\n",
    "\n",
    "# \"Flatten\" file so each row is single GO ID with corresponding GOslim\n",
    "# rownames_to_column needed to retain row name info\n",
    "slimdf_separated <- as.data.frame(slimdf %>%\n",
    "  rownames_to_column('GOslim') %>%\n",
    "  separate_rows(GO.IDs, sep = \";\"))\n",
    "\n",
    "# Group by unique GO ID\n",
    "grouped_slimdf <- slimdf_separated %>%\n",
    "  filter(!is.na(GO.IDs) & GO.IDs != \"\") %>%\n",
    "  group_by(GO.IDs) %>%\n",
    "  summarize(GOslim = paste(GOslim, collapse = \";\"),\n",
    "            Term = paste(Term, collapse = \";\"))\n",
    "\n",
    "\n",
    "str(grouped_slimdf)\n",
    "head(grouped_slimdf)"
   ]
  },
  {
   "cell_type": "code",
   "execution_count": 45,
   "id": "2b79c2c8-0db7-499b-aaa0-b0252d16cd25",
   "metadata": {},
   "outputs": [
    {
     "name": "stdout",
     "output_type": "stream",
     "text": [
      "'data.frame':\t72 obs. of  2 variables:\n",
      " $ Term : chr  \"lipid metabolic process\" \"signaling\" \"mRNA metabolic process\" \"protein-containing complex assembly\" ...\n",
      " $ Count: int  21 21 18 12 11 11 10 9 9 7 ...\n"
     ]
    },
    {
     "data": {
      "text/html": [
       "<table class=\"dataframe\">\n",
       "<caption>A data.frame: 6 × 2</caption>\n",
       "<thead>\n",
       "\t<tr><th></th><th scope=col>Term</th><th scope=col>Count</th></tr>\n",
       "\t<tr><th></th><th scope=col>&lt;chr&gt;</th><th scope=col>&lt;int&gt;</th></tr>\n",
       "</thead>\n",
       "<tbody>\n",
       "\t<tr><th scope=row>GO:0006629</th><td>lipid metabolic process                  </td><td>21</td></tr>\n",
       "\t<tr><th scope=row>GO:0023052</th><td>signaling                                </td><td>21</td></tr>\n",
       "\t<tr><th scope=row>GO:0016071</th><td>mRNA metabolic process                   </td><td>18</td></tr>\n",
       "\t<tr><th scope=row>GO:0065003</th><td>protein-containing complex assembly      </td><td>12</td></tr>\n",
       "\t<tr><th scope=row>GO:0042254</th><td>ribosome biogenesis                      </td><td>11</td></tr>\n",
       "\t<tr><th scope=row>GO:1901135</th><td>carbohydrate derivative metabolic process</td><td>11</td></tr>\n",
       "</tbody>\n",
       "</table>\n"
      ],
      "text/latex": [
       "A data.frame: 6 × 2\n",
       "\\begin{tabular}{r|ll}\n",
       "  & Term & Count\\\\\n",
       "  & <chr> & <int>\\\\\n",
       "\\hline\n",
       "\tGO:0006629 & lipid metabolic process                   & 21\\\\\n",
       "\tGO:0023052 & signaling                                 & 21\\\\\n",
       "\tGO:0016071 & mRNA metabolic process                    & 18\\\\\n",
       "\tGO:0065003 & protein-containing complex assembly       & 12\\\\\n",
       "\tGO:0042254 & ribosome biogenesis                       & 11\\\\\n",
       "\tGO:1901135 & carbohydrate derivative metabolic process & 11\\\\\n",
       "\\end{tabular}\n"
      ],
      "text/markdown": [
       "\n",
       "A data.frame: 6 × 2\n",
       "\n",
       "| <!--/--> | Term &lt;chr&gt; | Count &lt;int&gt; |\n",
       "|---|---|---|\n",
       "| GO:0006629 | lipid metabolic process                   | 21 |\n",
       "| GO:0023052 | signaling                                 | 21 |\n",
       "| GO:0016071 | mRNA metabolic process                    | 18 |\n",
       "| GO:0065003 | protein-containing complex assembly       | 12 |\n",
       "| GO:0042254 | ribosome biogenesis                       | 11 |\n",
       "| GO:1901135 | carbohydrate derivative metabolic process | 11 |\n",
       "\n"
      ],
      "text/plain": [
       "           Term                                      Count\n",
       "GO:0006629 lipid metabolic process                   21   \n",
       "GO:0023052 signaling                                 21   \n",
       "GO:0016071 mRNA metabolic process                    18   \n",
       "GO:0065003 protein-containing complex assembly       12   \n",
       "GO:0042254 ribosome biogenesis                       11   \n",
       "GO:1901135 carbohydrate derivative metabolic process 11   "
      ]
     },
     "metadata": {},
     "output_type": "display_data"
    }
   ],
   "source": [
    "# copied from workflow pipeline linked above\n",
    "\n",
    "# sort and select slimdf counts\n",
    "\n",
    "slimdf.sorted <- slimdf %>% arrange(desc(Count))\n",
    "\n",
    "slim.count.df <- slimdf.sorted[,c(3,1)]\n",
    " # select(Term, Count)\n",
    "\n",
    "str(slim.count.df)\n",
    "\n",
    "head(slim.count.df)"
   ]
  },
  {
   "cell_type": "code",
   "execution_count": 52,
   "id": "716a390c-c647-4666-b8d1-2ff696b55a0d",
   "metadata": {},
   "outputs": [],
   "source": [
    "library(ggplot2)"
   ]
  },
  {
   "cell_type": "code",
   "execution_count": 64,
   "id": "ef297806-eaf3-4e41-b686-4aa4090b0c62",
   "metadata": {},
   "outputs": [
    {
     "data": {
      "image/png": "[encoded data removed]",
      "text/plain": [
       "plot without title"
      ]
     },
     "metadata": {
      "image/png": {
       "height": 420,
       "width": 420
      }
     },
     "output_type": "display_data"
    }
   ],
   "source": [
    "ggplot(slimdf %>% \n",
    "         filter(Percent > 0) %>% # remove those without any matching GO IDs\n",
    "         arrange(desc(Percent)), # order by most to least\n",
    "       aes(x=reorder(Term, Percent), y=Percent)) +\n",
    "  geom_col(fill = 'mediumpurple') +\n",
    "  labs(x=\"GOSlim Term\", y=\"Percent of GO IDs\") +\n",
    "coord_flip() + \n",
    "  theme_bw()"
   ]
  },
  {
   "cell_type": "markdown",
   "id": "d18d6d08-1417-402b-befc-a1d73433eda2",
   "metadata": {},
   "source": [
    "what if I just take my list of significant DMG and match them to GOSlim terms? "
   ]
  },
  {
   "cell_type": "code",
   "execution_count": 67,
   "id": "6d6776df-c297-46b1-8ca6-ad71b3764593",
   "metadata": {},
   "outputs": [
    {
     "data": {
      "text/html": [
       "<table class=\"dataframe\">\n",
       "<caption>A data.frame: 6 × 4</caption>\n",
       "<thead>\n",
       "\t<tr><th></th><th scope=col>GO.IDs</th><th scope=col>GOslim</th><th scope=col>Term</th><th scope=col>gene_id</th></tr>\n",
       "\t<tr><th></th><th scope=col>&lt;chr&gt;</th><th scope=col>&lt;chr&gt;</th><th scope=col>&lt;chr&gt;</th><th scope=col>&lt;chr&gt;</th></tr>\n",
       "</thead>\n",
       "<tbody>\n",
       "\t<tr><th scope=row>1</th><td>GO:0000012</td><td>GO:0006281</td><td>DNA repair</td><td>LOC111111868</td></tr>\n",
       "\t<tr><th scope=row>2</th><td>GO:0000012</td><td>GO:0006281</td><td>DNA repair</td><td>LOC111128425</td></tr>\n",
       "\t<tr><th scope=row>3</th><td>GO:0000012</td><td>GO:0006281</td><td>DNA repair</td><td>LOC111135198</td></tr>\n",
       "\t<tr><th scope=row>4</th><td>GO:0000012</td><td>GO:0006281</td><td>DNA repair</td><td>LOC111111498</td></tr>\n",
       "\t<tr><th scope=row>5</th><td>GO:0000012</td><td>GO:0006281</td><td>DNA repair</td><td>LOC111128516</td></tr>\n",
       "\t<tr><th scope=row>6</th><td>GO:0000012</td><td>GO:0006281</td><td>DNA repair</td><td>LOC111136704</td></tr>\n",
       "</tbody>\n",
       "</table>\n"
      ],
      "text/latex": [
       "A data.frame: 6 × 4\n",
       "\\begin{tabular}{r|llll}\n",
       "  & GO.IDs & GOslim & Term & gene\\_id\\\\\n",
       "  & <chr> & <chr> & <chr> & <chr>\\\\\n",
       "\\hline\n",
       "\t1 & GO:0000012 & GO:0006281 & DNA repair & LOC111111868\\\\\n",
       "\t2 & GO:0000012 & GO:0006281 & DNA repair & LOC111128425\\\\\n",
       "\t3 & GO:0000012 & GO:0006281 & DNA repair & LOC111135198\\\\\n",
       "\t4 & GO:0000012 & GO:0006281 & DNA repair & LOC111111498\\\\\n",
       "\t5 & GO:0000012 & GO:0006281 & DNA repair & LOC111128516\\\\\n",
       "\t6 & GO:0000012 & GO:0006281 & DNA repair & LOC111136704\\\\\n",
       "\\end{tabular}\n"
      ],
      "text/markdown": [
       "\n",
       "A data.frame: 6 × 4\n",
       "\n",
       "| <!--/--> | GO.IDs &lt;chr&gt; | GOslim &lt;chr&gt; | Term &lt;chr&gt; | gene_id &lt;chr&gt; |\n",
       "|---|---|---|---|---|\n",
       "| 1 | GO:0000012 | GO:0006281 | DNA repair | LOC111111868 |\n",
       "| 2 | GO:0000012 | GO:0006281 | DNA repair | LOC111128425 |\n",
       "| 3 | GO:0000012 | GO:0006281 | DNA repair | LOC111135198 |\n",
       "| 4 | GO:0000012 | GO:0006281 | DNA repair | LOC111111498 |\n",
       "| 5 | GO:0000012 | GO:0006281 | DNA repair | LOC111128516 |\n",
       "| 6 | GO:0000012 | GO:0006281 | DNA repair | LOC111136704 |\n",
       "\n"
      ],
      "text/plain": [
       "  GO.IDs     GOslim     Term       gene_id     \n",
       "1 GO:0000012 GO:0006281 DNA repair LOC111111868\n",
       "2 GO:0000012 GO:0006281 DNA repair LOC111128425\n",
       "3 GO:0000012 GO:0006281 DNA repair LOC111135198\n",
       "4 GO:0000012 GO:0006281 DNA repair LOC111111498\n",
       "5 GO:0000012 GO:0006281 DNA repair LOC111128516\n",
       "6 GO:0000012 GO:0006281 DNA repair LOC111136704"
      ]
     },
     "metadata": {},
     "output_type": "display_data"
    }
   ],
   "source": [
    "head(gene2GOslim)"
   ]
  },
  {
   "cell_type": "code",
   "execution_count": 95,
   "id": "0c9537c8-8c0d-44ae-b71d-a171071623d7",
   "metadata": {},
   "outputs": [
    {
     "data": {
      "text/html": [
       "<table class=\"dataframe\">\n",
       "<caption>A data.frame: 6 × 8</caption>\n",
       "<thead>\n",
       "\t<tr><th></th><th scope=col>gene_id</th><th scope=col>baseMean</th><th scope=col>log2FC</th><th scope=col>lfcSE</th><th scope=col>stat</th><th scope=col>pvalue</th><th scope=col>padj</th><th scope=col>name</th></tr>\n",
       "\t<tr><th></th><th scope=col>&lt;chr&gt;</th><th scope=col>&lt;dbl&gt;</th><th scope=col>&lt;dbl&gt;</th><th scope=col>&lt;dbl&gt;</th><th scope=col>&lt;dbl&gt;</th><th scope=col>&lt;dbl&gt;</th><th scope=col>&lt;dbl&gt;</th><th scope=col>&lt;chr&gt;</th></tr>\n",
       "</thead>\n",
       "<tbody>\n",
       "\t<tr><th scope=row>1</th><td>LOC111099548</td><td>42.98619</td><td>-1.2672684</td><td>0.2026166</td><td>-5.020656</td><td>5.149523e-07</td><td>0.0003099498</td><td>kinesin-like protein KIF17                                          </td></tr>\n",
       "\t<tr><th scope=row>2</th><td>LOC111099571</td><td>31.11937</td><td>-1.4181929</td><td>0.2861630</td><td>-4.082264</td><td>4.459915e-05</td><td>0.0069725275</td><td>histone RNA hairpin-binding protein-like                            </td></tr>\n",
       "\t<tr><th scope=row>3</th><td>LOC111099585</td><td>36.32548</td><td> 0.9854391</td><td>0.2091056</td><td> 3.517070</td><td>4.363394e-04</td><td>0.0332446433</td><td>lys-63-specific deubiquitinase BRCC36-like                          </td></tr>\n",
       "\t<tr><th scope=row>4</th><td>LOC111099930</td><td>35.09830</td><td>-1.1981548</td><td>0.2270953</td><td>-4.175140</td><td>2.978035e-05</td><td>0.0051868387</td><td>uncharacterized LOC111099930, transcript variant X1                 </td></tr>\n",
       "\t<tr><th scope=row>5</th><td>LOC111099978</td><td>37.23914</td><td> 1.1530905</td><td>0.2612132</td><td> 3.457293</td><td>5.456316e-04</td><td>0.0390971051</td><td>oncoprotein-induced transcript 3 protein-like, transcript variant X1</td></tr>\n",
       "\t<tr><th scope=row>6</th><td>LOC111100608</td><td>22.90296</td><td>-1.4622657</td><td>0.2851646</td><td>-4.251109</td><td>2.127149e-05</td><td>0.0040010349</td><td>DDRGK domain-containing protein 1-like                              </td></tr>\n",
       "</tbody>\n",
       "</table>\n"
      ],
      "text/latex": [
       "A data.frame: 6 × 8\n",
       "\\begin{tabular}{r|llllllll}\n",
       "  & gene\\_id & baseMean & log2FC & lfcSE & stat & pvalue & padj & name\\\\\n",
       "  & <chr> & <dbl> & <dbl> & <dbl> & <dbl> & <dbl> & <dbl> & <chr>\\\\\n",
       "\\hline\n",
       "\t1 & LOC111099548 & 42.98619 & -1.2672684 & 0.2026166 & -5.020656 & 5.149523e-07 & 0.0003099498 & kinesin-like protein KIF17                                          \\\\\n",
       "\t2 & LOC111099571 & 31.11937 & -1.4181929 & 0.2861630 & -4.082264 & 4.459915e-05 & 0.0069725275 & histone RNA hairpin-binding protein-like                            \\\\\n",
       "\t3 & LOC111099585 & 36.32548 &  0.9854391 & 0.2091056 &  3.517070 & 4.363394e-04 & 0.0332446433 & lys-63-specific deubiquitinase BRCC36-like                          \\\\\n",
       "\t4 & LOC111099930 & 35.09830 & -1.1981548 & 0.2270953 & -4.175140 & 2.978035e-05 & 0.0051868387 & uncharacterized LOC111099930, transcript variant X1                 \\\\\n",
       "\t5 & LOC111099978 & 37.23914 &  1.1530905 & 0.2612132 &  3.457293 & 5.456316e-04 & 0.0390971051 & oncoprotein-induced transcript 3 protein-like, transcript variant X1\\\\\n",
       "\t6 & LOC111100608 & 22.90296 & -1.4622657 & 0.2851646 & -4.251109 & 2.127149e-05 & 0.0040010349 & DDRGK domain-containing protein 1-like                              \\\\\n",
       "\\end{tabular}\n"
      ],
      "text/markdown": [
       "\n",
       "A data.frame: 6 × 8\n",
       "\n",
       "| <!--/--> | gene_id &lt;chr&gt; | baseMean &lt;dbl&gt; | log2FC &lt;dbl&gt; | lfcSE &lt;dbl&gt; | stat &lt;dbl&gt; | pvalue &lt;dbl&gt; | padj &lt;dbl&gt; | name &lt;chr&gt; |\n",
       "|---|---|---|---|---|---|---|---|---|\n",
       "| 1 | LOC111099548 | 42.98619 | -1.2672684 | 0.2026166 | -5.020656 | 5.149523e-07 | 0.0003099498 | kinesin-like protein KIF17                                           |\n",
       "| 2 | LOC111099571 | 31.11937 | -1.4181929 | 0.2861630 | -4.082264 | 4.459915e-05 | 0.0069725275 | histone RNA hairpin-binding protein-like                             |\n",
       "| 3 | LOC111099585 | 36.32548 |  0.9854391 | 0.2091056 |  3.517070 | 4.363394e-04 | 0.0332446433 | lys-63-specific deubiquitinase BRCC36-like                           |\n",
       "| 4 | LOC111099930 | 35.09830 | -1.1981548 | 0.2270953 | -4.175140 | 2.978035e-05 | 0.0051868387 | uncharacterized LOC111099930, transcript variant X1                  |\n",
       "| 5 | LOC111099978 | 37.23914 |  1.1530905 | 0.2612132 |  3.457293 | 5.456316e-04 | 0.0390971051 | oncoprotein-induced transcript 3 protein-like, transcript variant X1 |\n",
       "| 6 | LOC111100608 | 22.90296 | -1.4622657 | 0.2851646 | -4.251109 | 2.127149e-05 | 0.0040010349 | DDRGK domain-containing protein 1-like                               |\n",
       "\n"
      ],
      "text/plain": [
       "  gene_id      baseMean log2FC     lfcSE     stat      pvalue      \n",
       "1 LOC111099548 42.98619 -1.2672684 0.2026166 -5.020656 5.149523e-07\n",
       "2 LOC111099571 31.11937 -1.4181929 0.2861630 -4.082264 4.459915e-05\n",
       "3 LOC111099585 36.32548  0.9854391 0.2091056  3.517070 4.363394e-04\n",
       "4 LOC111099930 35.09830 -1.1981548 0.2270953 -4.175140 2.978035e-05\n",
       "5 LOC111099978 37.23914  1.1530905 0.2612132  3.457293 5.456316e-04\n",
       "6 LOC111100608 22.90296 -1.4622657 0.2851646 -4.251109 2.127149e-05\n",
       "  padj        \n",
       "1 0.0003099498\n",
       "2 0.0069725275\n",
       "3 0.0332446433\n",
       "4 0.0051868387\n",
       "5 0.0390971051\n",
       "6 0.0040010349\n",
       "  name                                                                \n",
       "1 kinesin-like protein KIF17                                          \n",
       "2 histone RNA hairpin-binding protein-like                            \n",
       "3 lys-63-specific deubiquitinase BRCC36-like                          \n",
       "4 uncharacterized LOC111099930, transcript variant X1                 \n",
       "5 oncoprotein-induced transcript 3 protein-like, transcript variant X1\n",
       "6 DDRGK domain-containing protein 1-like                              "
      ]
     },
     "metadata": {},
     "output_type": "display_data"
    }
   ],
   "source": [
    "# list of sig. DMG from CH vs. HC\n",
    "sigCH <- read.csv('/project/pi_sarah_gignouxwolfsohn_uml_edu/julia/CE_MethylRAD_analysis_2018/analysis/deseq_res_files/geneFeatures_res/sig_DMGs/sig_CH_HC_genes.csv')\n",
    "sigCH <- sigCH[-1]\n",
    "\n",
    "colnames(sigCH)[1] <- 'gene_id'\n",
    "\n",
    "head(sigCH)"
   ]
  },
  {
   "cell_type": "code",
   "execution_count": 102,
   "id": "a8c5631b-d6f4-4e6c-97b3-c09bf325b248",
   "metadata": {},
   "outputs": [
    {
     "data": {
      "text/html": [
       "<style>\n",
       ".list-inline {list-style: none; margin:0; padding: 0}\n",
       ".list-inline>li {display: inline-block}\n",
       ".list-inline>li:not(:last-child)::after {content: \"\\00b7\"; padding: 0 .5ex}\n",
       "</style>\n",
       "<ol class=list-inline><li>228</li><li>11</li></ol>\n"
      ],
      "text/latex": [
       "\\begin{enumerate*}\n",
       "\\item 228\n",
       "\\item 11\n",
       "\\end{enumerate*}\n"
      ],
      "text/markdown": [
       "1. 228\n",
       "2. 11\n",
       "\n",
       "\n"
      ],
      "text/plain": [
       "[1] 228  11"
      ]
     },
     "metadata": {},
     "output_type": "display_data"
    },
    {
     "data": {
      "text/html": [
       "<table class=\"dataframe\">\n",
       "<caption>A data.frame: 6 × 11</caption>\n",
       "<thead>\n",
       "\t<tr><th></th><th scope=col>gene_id</th><th scope=col>baseMean</th><th scope=col>log2FC</th><th scope=col>lfcSE</th><th scope=col>stat</th><th scope=col>pvalue</th><th scope=col>padj</th><th scope=col>name</th><th scope=col>GO.IDs</th><th scope=col>GOslim</th><th scope=col>Term</th></tr>\n",
       "\t<tr><th></th><th scope=col>&lt;chr&gt;</th><th scope=col>&lt;dbl&gt;</th><th scope=col>&lt;dbl&gt;</th><th scope=col>&lt;dbl&gt;</th><th scope=col>&lt;dbl&gt;</th><th scope=col>&lt;dbl&gt;</th><th scope=col>&lt;dbl&gt;</th><th scope=col>&lt;chr&gt;</th><th scope=col>&lt;chr&gt;</th><th scope=col>&lt;chr&gt;</th><th scope=col>&lt;chr&gt;</th></tr>\n",
       "</thead>\n",
       "<tbody>\n",
       "\t<tr><th scope=row>1</th><td>LOC111099548</td><td>42.98619</td><td>-1.2672684</td><td>0.2026166</td><td>-5.020656</td><td>5.149523e-07</td><td>0.0003099498</td><td>kinesin-like protein KIF17                                          </td><td>NA        </td><td>NA        </td><td>NA                    </td></tr>\n",
       "\t<tr><th scope=row>2</th><td>LOC111099571</td><td>31.11937</td><td>-1.4181929</td><td>0.2861630</td><td>-4.082264</td><td>4.459915e-05</td><td>0.0069725275</td><td>histone RNA hairpin-binding protein-like                            </td><td>GO:0006398</td><td>GO:0016071</td><td>mRNA metabolic process</td></tr>\n",
       "\t<tr><th scope=row>3</th><td>LOC111099585</td><td>36.32548</td><td> 0.9854391</td><td>0.2091056</td><td> 3.517070</td><td>4.363394e-04</td><td>0.0332446433</td><td>lys-63-specific deubiquitinase BRCC36-like                          </td><td>GO:0006302</td><td>GO:0006281</td><td>DNA repair            </td></tr>\n",
       "\t<tr><th scope=row>4</th><td>LOC111099930</td><td>35.09830</td><td>-1.1981548</td><td>0.2270953</td><td>-4.175140</td><td>2.978035e-05</td><td>0.0051868387</td><td>uncharacterized LOC111099930, transcript variant X1                 </td><td>NA        </td><td>NA        </td><td>NA                    </td></tr>\n",
       "\t<tr><th scope=row>5</th><td>LOC111099978</td><td>37.23914</td><td> 1.1530905</td><td>0.2612132</td><td> 3.457293</td><td>5.456316e-04</td><td>0.0390971051</td><td>oncoprotein-induced transcript 3 protein-like, transcript variant X1</td><td>NA        </td><td>NA        </td><td>NA                    </td></tr>\n",
       "\t<tr><th scope=row>6</th><td>LOC111100608</td><td>22.90296</td><td>-1.4622657</td><td>0.2851646</td><td>-4.251109</td><td>2.127149e-05</td><td>0.0040010349</td><td>DDRGK domain-containing protein 1-like                              </td><td>NA        </td><td>NA        </td><td>NA                    </td></tr>\n",
       "</tbody>\n",
       "</table>\n"
      ],
      "text/latex": [
       "A data.frame: 6 × 11\n",
       "\\begin{tabular}{r|lllllllllll}\n",
       "  & gene\\_id & baseMean & log2FC & lfcSE & stat & pvalue & padj & name & GO.IDs & GOslim & Term\\\\\n",
       "  & <chr> & <dbl> & <dbl> & <dbl> & <dbl> & <dbl> & <dbl> & <chr> & <chr> & <chr> & <chr>\\\\\n",
       "\\hline\n",
       "\t1 & LOC111099548 & 42.98619 & -1.2672684 & 0.2026166 & -5.020656 & 5.149523e-07 & 0.0003099498 & kinesin-like protein KIF17                                           & NA         & NA         & NA                    \\\\\n",
       "\t2 & LOC111099571 & 31.11937 & -1.4181929 & 0.2861630 & -4.082264 & 4.459915e-05 & 0.0069725275 & histone RNA hairpin-binding protein-like                             & GO:0006398 & GO:0016071 & mRNA metabolic process\\\\\n",
       "\t3 & LOC111099585 & 36.32548 &  0.9854391 & 0.2091056 &  3.517070 & 4.363394e-04 & 0.0332446433 & lys-63-specific deubiquitinase BRCC36-like                           & GO:0006302 & GO:0006281 & DNA repair            \\\\\n",
       "\t4 & LOC111099930 & 35.09830 & -1.1981548 & 0.2270953 & -4.175140 & 2.978035e-05 & 0.0051868387 & uncharacterized LOC111099930, transcript variant X1                  & NA         & NA         & NA                    \\\\\n",
       "\t5 & LOC111099978 & 37.23914 &  1.1530905 & 0.2612132 &  3.457293 & 5.456316e-04 & 0.0390971051 & oncoprotein-induced transcript 3 protein-like, transcript variant X1 & NA         & NA         & NA                    \\\\\n",
       "\t6 & LOC111100608 & 22.90296 & -1.4622657 & 0.2851646 & -4.251109 & 2.127149e-05 & 0.0040010349 & DDRGK domain-containing protein 1-like                               & NA         & NA         & NA                    \\\\\n",
       "\\end{tabular}\n"
      ],
      "text/markdown": [
       "\n",
       "A data.frame: 6 × 11\n",
       "\n",
       "| <!--/--> | gene_id &lt;chr&gt; | baseMean &lt;dbl&gt; | log2FC &lt;dbl&gt; | lfcSE &lt;dbl&gt; | stat &lt;dbl&gt; | pvalue &lt;dbl&gt; | padj &lt;dbl&gt; | name &lt;chr&gt; | GO.IDs &lt;chr&gt; | GOslim &lt;chr&gt; | Term &lt;chr&gt; |\n",
       "|---|---|---|---|---|---|---|---|---|---|---|---|\n",
       "| 1 | LOC111099548 | 42.98619 | -1.2672684 | 0.2026166 | -5.020656 | 5.149523e-07 | 0.0003099498 | kinesin-like protein KIF17                                           | NA         | NA         | NA                     |\n",
       "| 2 | LOC111099571 | 31.11937 | -1.4181929 | 0.2861630 | -4.082264 | 4.459915e-05 | 0.0069725275 | histone RNA hairpin-binding protein-like                             | GO:0006398 | GO:0016071 | mRNA metabolic process |\n",
       "| 3 | LOC111099585 | 36.32548 |  0.9854391 | 0.2091056 |  3.517070 | 4.363394e-04 | 0.0332446433 | lys-63-specific deubiquitinase BRCC36-like                           | GO:0006302 | GO:0006281 | DNA repair             |\n",
       "| 4 | LOC111099930 | 35.09830 | -1.1981548 | 0.2270953 | -4.175140 | 2.978035e-05 | 0.0051868387 | uncharacterized LOC111099930, transcript variant X1                  | NA         | NA         | NA                     |\n",
       "| 5 | LOC111099978 | 37.23914 |  1.1530905 | 0.2612132 |  3.457293 | 5.456316e-04 | 0.0390971051 | oncoprotein-induced transcript 3 protein-like, transcript variant X1 | NA         | NA         | NA                     |\n",
       "| 6 | LOC111100608 | 22.90296 | -1.4622657 | 0.2851646 | -4.251109 | 2.127149e-05 | 0.0040010349 | DDRGK domain-containing protein 1-like                               | NA         | NA         | NA                     |\n",
       "\n"
      ],
      "text/plain": [
       "  gene_id      baseMean log2FC     lfcSE     stat      pvalue      \n",
       "1 LOC111099548 42.98619 -1.2672684 0.2026166 -5.020656 5.149523e-07\n",
       "2 LOC111099571 31.11937 -1.4181929 0.2861630 -4.082264 4.459915e-05\n",
       "3 LOC111099585 36.32548  0.9854391 0.2091056  3.517070 4.363394e-04\n",
       "4 LOC111099930 35.09830 -1.1981548 0.2270953 -4.175140 2.978035e-05\n",
       "5 LOC111099978 37.23914  1.1530905 0.2612132  3.457293 5.456316e-04\n",
       "6 LOC111100608 22.90296 -1.4622657 0.2851646 -4.251109 2.127149e-05\n",
       "  padj        \n",
       "1 0.0003099498\n",
       "2 0.0069725275\n",
       "3 0.0332446433\n",
       "4 0.0051868387\n",
       "5 0.0390971051\n",
       "6 0.0040010349\n",
       "  name                                                                \n",
       "1 kinesin-like protein KIF17                                          \n",
       "2 histone RNA hairpin-binding protein-like                            \n",
       "3 lys-63-specific deubiquitinase BRCC36-like                          \n",
       "4 uncharacterized LOC111099930, transcript variant X1                 \n",
       "5 oncoprotein-induced transcript 3 protein-like, transcript variant X1\n",
       "6 DDRGK domain-containing protein 1-like                              \n",
       "  GO.IDs     GOslim     Term                  \n",
       "1 NA         NA         NA                    \n",
       "2 GO:0006398 GO:0016071 mRNA metabolic process\n",
       "3 GO:0006302 GO:0006281 DNA repair            \n",
       "4 NA         NA         NA                    \n",
       "5 NA         NA         NA                    \n",
       "6 NA         NA         NA                    "
      ]
     },
     "metadata": {},
     "output_type": "display_data"
    }
   ],
   "source": [
    "CHmerged_df <- merge(sigCH, gene2GOslim, by = \"gene_id\", all.x = TRUE)\n",
    "dim(CHmerged_df)\n",
    "head(CHmerged_df)"
   ]
  },
  {
   "cell_type": "code",
   "execution_count": 103,
   "id": "c028fc17-955b-42c0-a843-d0276c1181a9",
   "metadata": {},
   "outputs": [],
   "source": [
    "write.csv(CHmerged_df, '/project/pi_sarah_gignouxwolfsohn_uml_edu/julia/CE_MethylRAD_analysis_2018/analysis/deseq_res_files/geneFeatures_res/go-mwu/sigCH2GOslim.csv', row.names=FALSE)"
   ]
  },
  {
   "cell_type": "code",
   "execution_count": 98,
   "id": "84a74152-5103-49c1-a65a-251ce8cf94de",
   "metadata": {},
   "outputs": [
    {
     "data": {
      "text/html": [
       "78"
      ],
      "text/latex": [
       "78"
      ],
      "text/markdown": [
       "78"
      ],
      "text/plain": [
       "[1] 78"
      ]
     },
     "metadata": {},
     "output_type": "display_data"
    }
   ],
   "source": [
    "sum(sigCH$gene_id %in% gene2GOslim$gene_id)"
   ]
  },
  {
   "cell_type": "code",
   "execution_count": 99,
   "id": "9d096922-0f23-4a4d-b7de-1a2bd28ec3d0",
   "metadata": {},
   "outputs": [
    {
     "data": {
      "text/html": [
       "<table class=\"dataframe\">\n",
       "<caption>A data.frame: 6 × 4</caption>\n",
       "<thead>\n",
       "\t<tr><th></th><th scope=col>GO.IDs</th><th scope=col>GOslim</th><th scope=col>Term</th><th scope=col>gene_id</th></tr>\n",
       "\t<tr><th></th><th scope=col>&lt;chr&gt;</th><th scope=col>&lt;chr&gt;</th><th scope=col>&lt;chr&gt;</th><th scope=col>&lt;chr&gt;</th></tr>\n",
       "</thead>\n",
       "<tbody>\n",
       "\t<tr><th scope=row>2</th><td>GO:0000012</td><td>GO:0006281           </td><td>DNA repair                                             </td><td>LOC111136704</td></tr>\n",
       "\t<tr><th scope=row>3</th><td>GO:0000012</td><td>GO:0006281           </td><td>DNA repair                                             </td><td>LOC111111498</td></tr>\n",
       "\t<tr><th scope=row>7</th><td>GO:0000012</td><td>GO:0006281           </td><td>DNA repair                                             </td><td>LOC111135198</td></tr>\n",
       "\t<tr><th scope=row>10</th><td>GO:0000027</td><td>GO:0042254;GO:0065003</td><td>ribosome biogenesis;protein-containing complex assembly</td><td>LOC111121522</td></tr>\n",
       "\t<tr><th scope=row>11</th><td>GO:0000027</td><td>GO:0042254;GO:0065003</td><td>ribosome biogenesis;protein-containing complex assembly</td><td>LOC111121958</td></tr>\n",
       "\t<tr><th scope=row>13</th><td>GO:0000027</td><td>GO:0042254;GO:0065003</td><td>ribosome biogenesis;protein-containing complex assembly</td><td>LOC111118739</td></tr>\n",
       "</tbody>\n",
       "</table>\n"
      ],
      "text/latex": [
       "A data.frame: 6 × 4\n",
       "\\begin{tabular}{r|llll}\n",
       "  & GO.IDs & GOslim & Term & gene\\_id\\\\\n",
       "  & <chr> & <chr> & <chr> & <chr>\\\\\n",
       "\\hline\n",
       "\t2 & GO:0000012 & GO:0006281            & DNA repair                                              & LOC111136704\\\\\n",
       "\t3 & GO:0000012 & GO:0006281            & DNA repair                                              & LOC111111498\\\\\n",
       "\t7 & GO:0000012 & GO:0006281            & DNA repair                                              & LOC111135198\\\\\n",
       "\t10 & GO:0000027 & GO:0042254;GO:0065003 & ribosome biogenesis;protein-containing complex assembly & LOC111121522\\\\\n",
       "\t11 & GO:0000027 & GO:0042254;GO:0065003 & ribosome biogenesis;protein-containing complex assembly & LOC111121958\\\\\n",
       "\t13 & GO:0000027 & GO:0042254;GO:0065003 & ribosome biogenesis;protein-containing complex assembly & LOC111118739\\\\\n",
       "\\end{tabular}\n"
      ],
      "text/markdown": [
       "\n",
       "A data.frame: 6 × 4\n",
       "\n",
       "| <!--/--> | GO.IDs &lt;chr&gt; | GOslim &lt;chr&gt; | Term &lt;chr&gt; | gene_id &lt;chr&gt; |\n",
       "|---|---|---|---|---|\n",
       "| 2 | GO:0000012 | GO:0006281            | DNA repair                                              | LOC111136704 |\n",
       "| 3 | GO:0000012 | GO:0006281            | DNA repair                                              | LOC111111498 |\n",
       "| 7 | GO:0000012 | GO:0006281            | DNA repair                                              | LOC111135198 |\n",
       "| 10 | GO:0000027 | GO:0042254;GO:0065003 | ribosome biogenesis;protein-containing complex assembly | LOC111121522 |\n",
       "| 11 | GO:0000027 | GO:0042254;GO:0065003 | ribosome biogenesis;protein-containing complex assembly | LOC111121958 |\n",
       "| 13 | GO:0000027 | GO:0042254;GO:0065003 | ribosome biogenesis;protein-containing complex assembly | LOC111118739 |\n",
       "\n"
      ],
      "text/plain": [
       "   GO.IDs     GOslim               \n",
       "2  GO:0000012 GO:0006281           \n",
       "3  GO:0000012 GO:0006281           \n",
       "7  GO:0000012 GO:0006281           \n",
       "10 GO:0000027 GO:0042254;GO:0065003\n",
       "11 GO:0000027 GO:0042254;GO:0065003\n",
       "13 GO:0000027 GO:0042254;GO:0065003\n",
       "   Term                                                    gene_id     \n",
       "2  DNA repair                                              LOC111136704\n",
       "3  DNA repair                                              LOC111111498\n",
       "7  DNA repair                                              LOC111135198\n",
       "10 ribosome biogenesis;protein-containing complex assembly LOC111121522\n",
       "11 ribosome biogenesis;protein-containing complex assembly LOC111121958\n",
       "13 ribosome biogenesis;protein-containing complex assembly LOC111118739"
      ]
     },
     "metadata": {},
     "output_type": "display_data"
    }
   ],
   "source": [
    "CH_goSlim <- gene2GOslim[sigCH$gene_id %in% gene2GOslim$gene_id,]\n",
    "head(CH_goSlim)"
   ]
  },
  {
   "cell_type": "code",
   "execution_count": 100,
   "id": "e90791dc-502d-4fc8-ab3b-c7c51aa61821",
   "metadata": {},
   "outputs": [
    {
     "data": {
      "text/html": [
       "5365"
      ],
      "text/latex": [
       "5365"
      ],
      "text/markdown": [
       "5365"
      ],
      "text/plain": [
       "[1] 5365"
      ]
     },
     "metadata": {},
     "output_type": "display_data"
    },
    {
     "data": {
      "text/html": [
       "<style>\n",
       ".list-inline {list-style: none; margin:0; padding: 0}\n",
       ".list-inline>li {display: inline-block}\n",
       ".list-inline>li:not(:last-child)::after {content: \"\\00b7\"; padding: 0 .5ex}\n",
       "</style>\n",
       "<ol class=list-inline><li>16024</li><li>4</li></ol>\n"
      ],
      "text/latex": [
       "\\begin{enumerate*}\n",
       "\\item 16024\n",
       "\\item 4\n",
       "\\end{enumerate*}\n"
      ],
      "text/markdown": [
       "1. 16024\n",
       "2. 4\n",
       "\n",
       "\n"
      ],
      "text/plain": [
       "[1] 16024     4"
      ]
     },
     "metadata": {},
     "output_type": "display_data"
    }
   ],
   "source": [
    "# checking that only have sig. DMGs for CH vs. HC\n",
    "length(unique(CH_goSlim$gene_id))\n",
    "dim(gene2GOslim)"
   ]
  },
  {
   "cell_type": "code",
   "execution_count": 74,
   "id": "3bb119d0-7e7e-40b6-ba80-bdae5d8a0376",
   "metadata": {},
   "outputs": [
    {
     "data": {
      "text/html": [
       "<table class=\"dataframe\">\n",
       "<caption>A tibble: 6 × 4</caption>\n",
       "<thead>\n",
       "\t<tr><th scope=col>GO.IDs</th><th scope=col>GOslim</th><th scope=col>Term</th><th scope=col>gene_id</th></tr>\n",
       "\t<tr><th scope=col>&lt;chr&gt;</th><th scope=col>&lt;chr&gt;</th><th scope=col>&lt;chr&gt;</th><th scope=col>&lt;chr&gt;</th></tr>\n",
       "</thead>\n",
       "<tbody>\n",
       "\t<tr><td>GO:0000012</td><td>GO:0006281</td><td>DNA repair                         </td><td>LOC111136704</td></tr>\n",
       "\t<tr><td>GO:0000012</td><td>GO:0006281</td><td>DNA repair                         </td><td>LOC111111498</td></tr>\n",
       "\t<tr><td>GO:0000012</td><td>GO:0006281</td><td>DNA repair                         </td><td>LOC111135198</td></tr>\n",
       "\t<tr><td>GO:0000027</td><td>GO:0042254</td><td>ribosome biogenesis                </td><td>LOC111121522</td></tr>\n",
       "\t<tr><td>GO:0000027</td><td>GO:0042254</td><td>protein-containing complex assembly</td><td>LOC111121522</td></tr>\n",
       "\t<tr><td>GO:0000027</td><td>GO:0065003</td><td>ribosome biogenesis                </td><td>LOC111121522</td></tr>\n",
       "</tbody>\n",
       "</table>\n"
      ],
      "text/latex": [
       "A tibble: 6 × 4\n",
       "\\begin{tabular}{llll}\n",
       " GO.IDs & GOslim & Term & gene\\_id\\\\\n",
       " <chr> & <chr> & <chr> & <chr>\\\\\n",
       "\\hline\n",
       "\t GO:0000012 & GO:0006281 & DNA repair                          & LOC111136704\\\\\n",
       "\t GO:0000012 & GO:0006281 & DNA repair                          & LOC111111498\\\\\n",
       "\t GO:0000012 & GO:0006281 & DNA repair                          & LOC111135198\\\\\n",
       "\t GO:0000027 & GO:0042254 & ribosome biogenesis                 & LOC111121522\\\\\n",
       "\t GO:0000027 & GO:0042254 & protein-containing complex assembly & LOC111121522\\\\\n",
       "\t GO:0000027 & GO:0065003 & ribosome biogenesis                 & LOC111121522\\\\\n",
       "\\end{tabular}\n"
      ],
      "text/markdown": [
       "\n",
       "A tibble: 6 × 4\n",
       "\n",
       "| GO.IDs &lt;chr&gt; | GOslim &lt;chr&gt; | Term &lt;chr&gt; | gene_id &lt;chr&gt; |\n",
       "|---|---|---|---|\n",
       "| GO:0000012 | GO:0006281 | DNA repair                          | LOC111136704 |\n",
       "| GO:0000012 | GO:0006281 | DNA repair                          | LOC111111498 |\n",
       "| GO:0000012 | GO:0006281 | DNA repair                          | LOC111135198 |\n",
       "| GO:0000027 | GO:0042254 | ribosome biogenesis                 | LOC111121522 |\n",
       "| GO:0000027 | GO:0042254 | protein-containing complex assembly | LOC111121522 |\n",
       "| GO:0000027 | GO:0065003 | ribosome biogenesis                 | LOC111121522 |\n",
       "\n"
      ],
      "text/plain": [
       "  GO.IDs     GOslim     Term                                gene_id     \n",
       "1 GO:0000012 GO:0006281 DNA repair                          LOC111136704\n",
       "2 GO:0000012 GO:0006281 DNA repair                          LOC111111498\n",
       "3 GO:0000012 GO:0006281 DNA repair                          LOC111135198\n",
       "4 GO:0000027 GO:0042254 ribosome biogenesis                 LOC111121522\n",
       "5 GO:0000027 GO:0042254 protein-containing complex assembly LOC111121522\n",
       "6 GO:0000027 GO:0065003 ribosome biogenesis                 LOC111121522"
      ]
     },
     "metadata": {},
     "output_type": "display_data"
    }
   ],
   "source": [
    "flat.CH_goSlim <- CH_goSlim %>% separate_rows(!!sym('GOslim'), sep = \";\")\n",
    "\n",
    "flat.CH_goSlim <- flat.CH_goSlim %>% separate_rows(!!sym('Term'), sep = \";\") \n",
    "head(flat.CH_goSlim)"
   ]
  },
  {
   "cell_type": "code",
   "execution_count": 75,
   "id": "dc00b558-8107-4f67-8c9b-998bb1454f7f",
   "metadata": {},
   "outputs": [
    {
     "data": {
      "image/png": "[encoded data removed]",
      "text/plain": [
       "plot without title"
      ]
     },
     "metadata": {
      "image/png": {
       "height": 420,
       "width": 420
      }
     },
     "output_type": "display_data"
    }
   ],
   "source": [
    "CH_goSlim_DMG <- flat.CH_goSlim %>% \n",
    "  count(Term, sort = TRUE) %>% \n",
    "  mutate(Percent = n / sum(n) * 100) %>% \n",
    "  ggplot(aes(x=reorder(Term, Percent), y=Percent)) +\n",
    "  geom_col(fill = 'mediumpurple') +\n",
    "  labs(x=\"Term\", y=\"Percent\") +\n",
    "  theme_bw() +\n",
    "coord_flip()\n",
    "\n",
    "CH_goSlim_DMG"
   ]
  },
  {
   "cell_type": "markdown",
   "id": "fc6c1f45-c6d8-41b3-acce-de041a0977ba",
   "metadata": {},
   "source": [
    "so this is looking at *only* sig. DMG instead of all of the genes.... not sure which way is correct"
   ]
  },
  {
   "cell_type": "markdown",
   "id": "cf1cdccc-6f65-4d46-a67b-03d5dc838260",
   "metadata": {
    "tags": []
   },
   "source": [
    "Above, I used the GO terms generated using LFC as the significance measure (Mann-U Whitney test) - what happens when I use the ones that were genereated with 0 for not significant and 1 for significant (Fisher's exact test)\n",
    "\n",
    "#### 0/1 sig GO terms"
   ]
  },
  {
   "cell_type": "code",
   "execution_count": 3,
   "id": "832fc4e2-f642-411e-9dad-6edda970aef7",
   "metadata": {},
   "outputs": [
    {
     "data": {
      "text/html": [
       "<table class=\"dataframe\">\n",
       "<caption>A data.frame: 6 × 2</caption>\n",
       "<thead>\n",
       "\t<tr><th></th><th scope=col>gene_id</th><th scope=col>Gene.Ontology.IDs</th></tr>\n",
       "\t<tr><th></th><th scope=col>&lt;chr&gt;</th><th scope=col>&lt;chr&gt;</th></tr>\n",
       "</thead>\n",
       "<tbody>\n",
       "\t<tr><th scope=row>1</th><td>LOC111100489</td><td>GO:0006353</td></tr>\n",
       "\t<tr><th scope=row>2</th><td>LOC111102992</td><td>GO:0006353</td></tr>\n",
       "\t<tr><th scope=row>3</th><td>LOC111108285</td><td>GO:0006353</td></tr>\n",
       "\t<tr><th scope=row>4</th><td>LOC111115381</td><td>GO:0006353</td></tr>\n",
       "\t<tr><th scope=row>5</th><td>LOC111118878</td><td>GO:0006353</td></tr>\n",
       "\t<tr><th scope=row>6</th><td>LOC111125093</td><td>GO:0006353</td></tr>\n",
       "</tbody>\n",
       "</table>\n"
      ],
      "text/latex": [
       "A data.frame: 6 × 2\n",
       "\\begin{tabular}{r|ll}\n",
       "  & gene\\_id & Gene.Ontology.IDs\\\\\n",
       "  & <chr> & <chr>\\\\\n",
       "\\hline\n",
       "\t1 & LOC111100489 & GO:0006353\\\\\n",
       "\t2 & LOC111102992 & GO:0006353\\\\\n",
       "\t3 & LOC111108285 & GO:0006353\\\\\n",
       "\t4 & LOC111115381 & GO:0006353\\\\\n",
       "\t5 & LOC111118878 & GO:0006353\\\\\n",
       "\t6 & LOC111125093 & GO:0006353\\\\\n",
       "\\end{tabular}\n"
      ],
      "text/markdown": [
       "\n",
       "A data.frame: 6 × 2\n",
       "\n",
       "| <!--/--> | gene_id &lt;chr&gt; | Gene.Ontology.IDs &lt;chr&gt; |\n",
       "|---|---|---|\n",
       "| 1 | LOC111100489 | GO:0006353 |\n",
       "| 2 | LOC111102992 | GO:0006353 |\n",
       "| 3 | LOC111108285 | GO:0006353 |\n",
       "| 4 | LOC111115381 | GO:0006353 |\n",
       "| 5 | LOC111118878 | GO:0006353 |\n",
       "| 6 | LOC111125093 | GO:0006353 |\n",
       "\n"
      ],
      "text/plain": [
       "  gene_id      Gene.Ontology.IDs\n",
       "1 LOC111100489 GO:0006353       \n",
       "2 LOC111102992 GO:0006353       \n",
       "3 LOC111108285 GO:0006353       \n",
       "4 LOC111115381 GO:0006353       \n",
       "5 LOC111118878 GO:0006353       \n",
       "6 LOC111125093 GO:0006353       "
      ]
     },
     "metadata": {},
     "output_type": "display_data"
    }
   ],
   "source": [
    "goMWU_ch <- read.csv('/project/pi_sarah_gignouxwolfsohn_uml_edu/julia/CE_MethylRAD_analysis_2018/analysis/DMGs_analysis/go_mwu/BP_allGenes_CH_sig.csv', sep = '\\t')\n",
    "\n",
    "# change column name for gene to be the same in gene2GOslim\n",
    "colnames(goMWU_ch) <- c('name', 'Gene.Ontology.IDs', 'lev', 'gene_id', 'value')\n",
    "\n",
    "# only need gene_id and GO ID for input\n",
    "goMWU_ch <- goMWU_ch[,c(4,2)]\n",
    "\n",
    "head(goMWU_ch)"
   ]
  },
  {
   "cell_type": "code",
   "execution_count": 4,
   "id": "b2b423e8-4c69-489a-9c3d-96b231d51d94",
   "metadata": {},
   "outputs": [],
   "source": [
    "write.csv(goMWU_ch, '/project/pi_sarah_gignouxwolfsohn_uml_edu/julia/CE_MethylRAD_analysis_2018/analysis/deseq_res_files/geneFeatures_res/go-mwu/goMWU_ch_sig.csv', row.names = FALSE)"
   ]
  },
  {
   "cell_type": "code",
   "execution_count": 5,
   "id": "946fde5a-eba0-4e99-90a8-b71c45df1035",
   "metadata": {},
   "outputs": [],
   "source": [
    "# copied from workflow pipeline linked above\n",
    "\n",
    "# set variables\n",
    "\n",
    "# Column names corresponding to gene name/ID and GO IDs\n",
    "GO.ID.column <- \"Gene.Ontology.IDs\"\n",
    "gene.ID.column <- \"gene_id\"\n",
    "\n",
    "# Relative path or URL to input file\n",
    "input.file <- '/project/pi_sarah_gignouxwolfsohn_uml_edu/julia/CE_MethylRAD_analysis_2018/analysis/deseq_res_files/geneFeatures_res/go-mwu/goMWU_ch_sig.csv'\n",
    "\n",
    "\n",
    "##### Official GO info - no need to change #####\n",
    "goslims_obo <- \"goslim_generic.obo\"\n",
    "goslims_url <- \"http://current.geneontology.org/ontology/subsets/goslim_generic.obo\"\n"
   ]
  },
  {
   "cell_type": "code",
   "execution_count": 6,
   "id": "e3522e2b-0d06-48b7-ab06-3daf095624f7",
   "metadata": {},
   "outputs": [],
   "source": [
    "# copied from workflow pipeline linked above\n",
    "\n",
    "# download generic goslim-obo\n",
    "\n",
    "# Find GSEAbase installation location\n",
    "gseabase_location <- find.package(\"GSEABase\")\n",
    "\n",
    "# Load path to GOslim OBO file\n",
    "goslim_obo_destintation <- file.path(gseabase_location, \"extdata\", goslims_obo, fsep = \"/\")\n",
    "\n",
    "# Download the GOslim OBO file\n",
    "download.file(url = goslims_url, destfile = goslim_obo_destintation)\n",
    "\n",
    "# Loads package files\n",
    "gseabase_files <- system.file(\"extdata\", goslims_obo, package=\"GSEABase\")"
   ]
  },
  {
   "cell_type": "markdown",
   "id": "9f76965f-7749-49ea-9cee-b83935e18321",
   "metadata": {},
   "source": [
    "one unique gene per row, multiple GO IDs per gene"
   ]
  },
  {
   "cell_type": "code",
   "execution_count": 7,
   "id": "6f0c2d6b-0216-4a16-a4df-c72138be125e",
   "metadata": {},
   "outputs": [
    {
     "name": "stdout",
     "output_type": "stream",
     "text": [
      "'data.frame':\t8379 obs. of  2 variables:\n",
      " $ gene_id          : chr  \"LOC111100489\" \"LOC111102992\" \"LOC111108285\" \"LOC111115381\" ...\n",
      " $ Gene.Ontology.IDs: chr  \"GO:0006353\" \"GO:0006353\" \"GO:0006353\" \"GO:0006353\" ...\n"
     ]
    },
    {
     "data": {
      "text/html": [
       "<table class=\"dataframe\">\n",
       "<caption>A data.frame: 6 × 2</caption>\n",
       "<thead>\n",
       "\t<tr><th></th><th scope=col>gene_id</th><th scope=col>Gene.Ontology.IDs</th></tr>\n",
       "\t<tr><th></th><th scope=col>&lt;chr&gt;</th><th scope=col>&lt;chr&gt;</th></tr>\n",
       "</thead>\n",
       "<tbody>\n",
       "\t<tr><th scope=row>1</th><td>LOC111100489</td><td>GO:0006353</td></tr>\n",
       "\t<tr><th scope=row>2</th><td>LOC111102992</td><td>GO:0006353</td></tr>\n",
       "\t<tr><th scope=row>3</th><td>LOC111108285</td><td>GO:0006353</td></tr>\n",
       "\t<tr><th scope=row>4</th><td>LOC111115381</td><td>GO:0006353</td></tr>\n",
       "\t<tr><th scope=row>5</th><td>LOC111118878</td><td>GO:0006353</td></tr>\n",
       "\t<tr><th scope=row>6</th><td>LOC111125093</td><td>GO:0006353</td></tr>\n",
       "</tbody>\n",
       "</table>\n"
      ],
      "text/latex": [
       "A data.frame: 6 × 2\n",
       "\\begin{tabular}{r|ll}\n",
       "  & gene\\_id & Gene.Ontology.IDs\\\\\n",
       "  & <chr> & <chr>\\\\\n",
       "\\hline\n",
       "\t1 & LOC111100489 & GO:0006353\\\\\n",
       "\t2 & LOC111102992 & GO:0006353\\\\\n",
       "\t3 & LOC111108285 & GO:0006353\\\\\n",
       "\t4 & LOC111115381 & GO:0006353\\\\\n",
       "\t5 & LOC111118878 & GO:0006353\\\\\n",
       "\t6 & LOC111125093 & GO:0006353\\\\\n",
       "\\end{tabular}\n"
      ],
      "text/markdown": [
       "\n",
       "A data.frame: 6 × 2\n",
       "\n",
       "| <!--/--> | gene_id &lt;chr&gt; | Gene.Ontology.IDs &lt;chr&gt; |\n",
       "|---|---|---|\n",
       "| 1 | LOC111100489 | GO:0006353 |\n",
       "| 2 | LOC111102992 | GO:0006353 |\n",
       "| 3 | LOC111108285 | GO:0006353 |\n",
       "| 4 | LOC111115381 | GO:0006353 |\n",
       "| 5 | LOC111118878 | GO:0006353 |\n",
       "| 6 | LOC111125093 | GO:0006353 |\n",
       "\n"
      ],
      "text/plain": [
       "  gene_id      Gene.Ontology.IDs\n",
       "1 LOC111100489 GO:0006353       \n",
       "2 LOC111102992 GO:0006353       \n",
       "3 LOC111108285 GO:0006353       \n",
       "4 LOC111115381 GO:0006353       \n",
       "5 LOC111118878 GO:0006353       \n",
       "6 LOC111125093 GO:0006353       "
      ]
     },
     "metadata": {},
     "output_type": "display_data"
    }
   ],
   "source": [
    "# copied from workflow pipeline linked above\n",
    "\n",
    "# read in gene file\n",
    "\n",
    "full.gene.df <- read.csv(file = input.file, header = TRUE)\n",
    "\n",
    "str(full.gene.df)\n",
    "head(full.gene.df)"
   ]
  },
  {
   "cell_type": "code",
   "execution_count": 8,
   "id": "636e2584-039a-4102-80f2-8f8a2fe177cb",
   "metadata": {},
   "outputs": [
    {
     "data": {
      "text/html": [
       "<table class=\"dataframe\">\n",
       "<caption>A data.frame: 6 × 2</caption>\n",
       "<thead>\n",
       "\t<tr><th></th><th scope=col>gene_id</th><th scope=col>Gene.Ontology.IDs</th></tr>\n",
       "\t<tr><th></th><th scope=col>&lt;chr&gt;</th><th scope=col>&lt;chr&gt;</th></tr>\n",
       "</thead>\n",
       "<tbody>\n",
       "\t<tr><th scope=row>1</th><td>LOC111100489</td><td>GO:0006353</td></tr>\n",
       "\t<tr><th scope=row>2</th><td>LOC111102992</td><td>GO:0006353</td></tr>\n",
       "\t<tr><th scope=row>3</th><td>LOC111108285</td><td>GO:0006353</td></tr>\n",
       "\t<tr><th scope=row>4</th><td>LOC111115381</td><td>GO:0006353</td></tr>\n",
       "\t<tr><th scope=row>5</th><td>LOC111118878</td><td>GO:0006353</td></tr>\n",
       "\t<tr><th scope=row>6</th><td>LOC111125093</td><td>GO:0006353</td></tr>\n",
       "</tbody>\n",
       "</table>\n"
      ],
      "text/latex": [
       "A data.frame: 6 × 2\n",
       "\\begin{tabular}{r|ll}\n",
       "  & gene\\_id & Gene.Ontology.IDs\\\\\n",
       "  & <chr> & <chr>\\\\\n",
       "\\hline\n",
       "\t1 & LOC111100489 & GO:0006353\\\\\n",
       "\t2 & LOC111102992 & GO:0006353\\\\\n",
       "\t3 & LOC111108285 & GO:0006353\\\\\n",
       "\t4 & LOC111115381 & GO:0006353\\\\\n",
       "\t5 & LOC111118878 & GO:0006353\\\\\n",
       "\t6 & LOC111125093 & GO:0006353\\\\\n",
       "\\end{tabular}\n"
      ],
      "text/markdown": [
       "\n",
       "A data.frame: 6 × 2\n",
       "\n",
       "| <!--/--> | gene_id &lt;chr&gt; | Gene.Ontology.IDs &lt;chr&gt; |\n",
       "|---|---|---|\n",
       "| 1 | LOC111100489 | GO:0006353 |\n",
       "| 2 | LOC111102992 | GO:0006353 |\n",
       "| 3 | LOC111108285 | GO:0006353 |\n",
       "| 4 | LOC111115381 | GO:0006353 |\n",
       "| 5 | LOC111118878 | GO:0006353 |\n",
       "| 6 | LOC111125093 | GO:0006353 |\n",
       "\n"
      ],
      "text/plain": [
       "  gene_id      Gene.Ontology.IDs\n",
       "1 LOC111100489 GO:0006353       \n",
       "2 LOC111102992 GO:0006353       \n",
       "3 LOC111108285 GO:0006353       \n",
       "4 LOC111115381 GO:0006353       \n",
       "5 LOC111118878 GO:0006353       \n",
       "6 LOC111125093 GO:0006353       "
      ]
     },
     "metadata": {},
     "output_type": "display_data"
    }
   ],
   "source": [
    "# copied from workflow pipeline linked above\n",
    "\n",
    "# remove NA and uniprotIDs\n",
    "\n",
    "# Clean whitespace, filter NA/empty rows, select columns, and split GO terms using column name variables\n",
    "library(dplyr) # for some reason I'm having conflicts with select()\n",
    "gene.GO.df <- full.gene.df %>%\n",
    "  mutate(!!GO.ID.column := str_replace_all(.data[[GO.ID.column]], \"\\\\s*;\\\\s*\", \";\")) %>%\n",
    "  filter(!is.na(.data[[gene.ID.column]]) & !is.na(.data[[GO.ID.column]]) & .data[[GO.ID.column]] != \"\") %>%\n",
    "  dplyr::select(all_of(c(gene.ID.column, GO.ID.column)))\n",
    "\n",
    "head(gene.GO.df)"
   ]
  },
  {
   "cell_type": "markdown",
   "id": "c0e20079-6468-43e4-b7a2-f5155bb2d63e",
   "metadata": {},
   "source": [
    "flatten df so only one gene and one GO ID per row"
   ]
  },
  {
   "cell_type": "code",
   "execution_count": 9,
   "id": "61300567-d6cd-4387-9289-10495bfd21eb",
   "metadata": {},
   "outputs": [
    {
     "name": "stdout",
     "output_type": "stream",
     "text": [
      "tibble [20,586 × 2] (S3: tbl_df/tbl/data.frame)\n",
      " $ gene_id          : chr [1:20586] \"LOC111100489\" \"LOC111102992\" \"LOC111108285\" \"LOC111115381\" ...\n",
      " $ Gene.Ontology.IDs: chr [1:20586] \"GO:0006353\" \"GO:0006353\" \"GO:0006353\" \"GO:0006353\" ...\n"
     ]
    },
    {
     "data": {
      "text/html": [
       "<table class=\"dataframe\">\n",
       "<caption>A tibble: 6 × 2</caption>\n",
       "<thead>\n",
       "\t<tr><th scope=col>gene_id</th><th scope=col>Gene.Ontology.IDs</th></tr>\n",
       "\t<tr><th scope=col>&lt;chr&gt;</th><th scope=col>&lt;chr&gt;</th></tr>\n",
       "</thead>\n",
       "<tbody>\n",
       "\t<tr><td>LOC111100489</td><td>GO:0006353</td></tr>\n",
       "\t<tr><td>LOC111102992</td><td>GO:0006353</td></tr>\n",
       "\t<tr><td>LOC111108285</td><td>GO:0006353</td></tr>\n",
       "\t<tr><td>LOC111115381</td><td>GO:0006353</td></tr>\n",
       "\t<tr><td>LOC111118878</td><td>GO:0006353</td></tr>\n",
       "\t<tr><td>LOC111125093</td><td>GO:0006353</td></tr>\n",
       "</tbody>\n",
       "</table>\n"
      ],
      "text/latex": [
       "A tibble: 6 × 2\n",
       "\\begin{tabular}{ll}\n",
       " gene\\_id & Gene.Ontology.IDs\\\\\n",
       " <chr> & <chr>\\\\\n",
       "\\hline\n",
       "\t LOC111100489 & GO:0006353\\\\\n",
       "\t LOC111102992 & GO:0006353\\\\\n",
       "\t LOC111108285 & GO:0006353\\\\\n",
       "\t LOC111115381 & GO:0006353\\\\\n",
       "\t LOC111118878 & GO:0006353\\\\\n",
       "\t LOC111125093 & GO:0006353\\\\\n",
       "\\end{tabular}\n"
      ],
      "text/markdown": [
       "\n",
       "A tibble: 6 × 2\n",
       "\n",
       "| gene_id &lt;chr&gt; | Gene.Ontology.IDs &lt;chr&gt; |\n",
       "|---|---|\n",
       "| LOC111100489 | GO:0006353 |\n",
       "| LOC111102992 | GO:0006353 |\n",
       "| LOC111108285 | GO:0006353 |\n",
       "| LOC111115381 | GO:0006353 |\n",
       "| LOC111118878 | GO:0006353 |\n",
       "| LOC111125093 | GO:0006353 |\n",
       "\n"
      ],
      "text/plain": [
       "  gene_id      Gene.Ontology.IDs\n",
       "1 LOC111100489 GO:0006353       \n",
       "2 LOC111102992 GO:0006353       \n",
       "3 LOC111108285 GO:0006353       \n",
       "4 LOC111115381 GO:0006353       \n",
       "5 LOC111118878 GO:0006353       \n",
       "6 LOC111125093 GO:0006353       "
      ]
     },
     "metadata": {},
     "output_type": "display_data"
    }
   ],
   "source": [
    "# copied from workflow pipeline linked above\n",
    "\n",
    "# flatten gene and GO IDs\n",
    "\n",
    "flat.gene.GO.df <- gene.GO.df %>% separate_rows(!!sym(GO.ID.column), sep = \";\")\n",
    "\n",
    "str(flat.gene.GO.df)\n",
    "head(flat.gene.GO.df)"
   ]
  },
  {
   "cell_type": "markdown",
   "id": "fc30b72e-a6b9-41d1-b98e-5f7c88479da4",
   "metadata": {},
   "source": [
    "Grouping by GO ID - one unique GO ID per row, multiple genes per GO ID"
   ]
  },
  {
   "cell_type": "code",
   "execution_count": 10,
   "id": "af42826a-a20d-4f52-8456-2d7345655409",
   "metadata": {},
   "outputs": [
    {
     "name": "stdout",
     "output_type": "stream",
     "text": [
      "tibble [536 × 2] (S3: tbl_df/tbl/data.frame)\n",
      " $ Gene.Ontology.IDs: chr [1:536] \"GO:0000012\" \"GO:0000027\" \"GO:0000028\" \"GO:0000045\" ...\n",
      " $ gene_id          : chr [1:536] \"LOC111111498,LOC111111868,LOC111128425,LOC111128516,LOC111135198,LOC111135354,LOC111136704\" \"LOC111103620,LOC111109112,LOC111116477,LOC111118739,LOC111119745,LOC111119970,LOC111120109,LOC111120886,LOC1111\"| __truncated__ \"LOC111112561,LOC111114778,LOC111115985,LOC111118540,LOC111120557,LOC111121432,LOC111123620,LOC111125548,LOC1111\"| __truncated__ \"LOC111099721,LOC111099934,LOC111100289,LOC111100878,LOC111101476,LOC111101815,LOC111102871,LOC111106048,LOC1111\"| __truncated__ ...\n"
     ]
    },
    {
     "data": {
      "text/html": [
       "<table class=\"dataframe\">\n",
       "<caption>A tibble: 6 × 2</caption>\n",
       "<thead>\n",
       "\t<tr><th scope=col>Gene.Ontology.IDs</th><th scope=col>gene_id</th></tr>\n",
       "\t<tr><th scope=col>&lt;chr&gt;</th><th scope=col>&lt;chr&gt;</th></tr>\n",
       "</thead>\n",
       "<tbody>\n",
       "\t<tr><td>GO:0000012</td><td>LOC111111498,LOC111111868,LOC111128425,LOC111128516,LOC111135198,LOC111135354,LOC111136704                                                                                                                                                                                                                                                                                                                                                                                                                                                                                                                                        </td></tr>\n",
       "\t<tr><td>GO:0000027</td><td>LOC111103620,LOC111109112,LOC111116477,LOC111118739,LOC111119745,LOC111119970,LOC111120109,LOC111120886,LOC111120892,LOC111120994,LOC111121522,LOC111121958,LOC111126614,LOC111129891,LOC111130039,LOC111132903,LOC111135538,LOC111136247,LOC111137006                                                                                                                                                                                                                                                                                                                                                                            </td></tr>\n",
       "\t<tr><td>GO:0000028</td><td>LOC111112561,LOC111114778,LOC111115985,LOC111118540,LOC111120557,LOC111121432,LOC111123620,LOC111125548,LOC111126883,LOC111127769,LOC111128580,LOC111135312                                                                                                                                                                                                                                                                                                                                                                                                                                                                       </td></tr>\n",
       "\t<tr><td>GO:0000045</td><td>LOC111099721,LOC111099934,LOC111100289,LOC111100878,LOC111101476,LOC111101815,LOC111102871,LOC111106048,LOC111108144,LOC111111295,LOC111111995,LOC111118945,LOC111120809,LOC111122717,LOC111123262,LOC111123325,LOC111124607,LOC111124608,LOC111124610,LOC111125472,LOC111125798,LOC111127040,LOC111127325,LOC111127879,LOC111127926,LOC111128047,LOC111128059,LOC111129370,LOC111131691,LOC111131738,LOC111132058,LOC111132962,LOC111133363,LOC111134873,LOC111135459,LOC111136300,LOC111137152,LOC111110828,LOC111112253,LOC111123221,LOC111124399,LOC111126629,LOC111133574,LOC111133575,LOC111135792,LOC111136338,LOC111137481</td></tr>\n",
       "\t<tr><td>GO:0000054</td><td>LOC111106509,LOC111114937,LOC111119150,LOC111119639,LOC111121751,LOC111122535,LOC111125104,LOC111125671,LOC111129825,LOC111130459,LOC111130520,LOC111130539,LOC111133705,LOC111135936,LOC111136254,LOC111136517,LOC111121980,LOC111124932,LOC111125592,LOC111134066,LOC111137405                                                                                                                                                                                                                                                                                                                                                  </td></tr>\n",
       "\t<tr><td>GO:0000055</td><td>LOC111106509,LOC111119150,LOC111121751,LOC111122535,LOC111129825,LOC111130459,LOC111130520,LOC111130539,LOC111135936                                                                                                                                                                                                                                                                                                                                                                                                                                                                                                              </td></tr>\n",
       "</tbody>\n",
       "</table>\n"
      ],
      "text/latex": [
       "A tibble: 6 × 2\n",
       "\\begin{tabular}{ll}\n",
       " Gene.Ontology.IDs & gene\\_id\\\\\n",
       " <chr> & <chr>\\\\\n",
       "\\hline\n",
       "\t GO:0000012 & LOC111111498,LOC111111868,LOC111128425,LOC111128516,LOC111135198,LOC111135354,LOC111136704                                                                                                                                                                                                                                                                                                                                                                                                                                                                                                                                        \\\\\n",
       "\t GO:0000027 & LOC111103620,LOC111109112,LOC111116477,LOC111118739,LOC111119745,LOC111119970,LOC111120109,LOC111120886,LOC111120892,LOC111120994,LOC111121522,LOC111121958,LOC111126614,LOC111129891,LOC111130039,LOC111132903,LOC111135538,LOC111136247,LOC111137006                                                                                                                                                                                                                                                                                                                                                                            \\\\\n",
       "\t GO:0000028 & LOC111112561,LOC111114778,LOC111115985,LOC111118540,LOC111120557,LOC111121432,LOC111123620,LOC111125548,LOC111126883,LOC111127769,LOC111128580,LOC111135312                                                                                                                                                                                                                                                                                                                                                                                                                                                                       \\\\\n",
       "\t GO:0000045 & LOC111099721,LOC111099934,LOC111100289,LOC111100878,LOC111101476,LOC111101815,LOC111102871,LOC111106048,LOC111108144,LOC111111295,LOC111111995,LOC111118945,LOC111120809,LOC111122717,LOC111123262,LOC111123325,LOC111124607,LOC111124608,LOC111124610,LOC111125472,LOC111125798,LOC111127040,LOC111127325,LOC111127879,LOC111127926,LOC111128047,LOC111128059,LOC111129370,LOC111131691,LOC111131738,LOC111132058,LOC111132962,LOC111133363,LOC111134873,LOC111135459,LOC111136300,LOC111137152,LOC111110828,LOC111112253,LOC111123221,LOC111124399,LOC111126629,LOC111133574,LOC111133575,LOC111135792,LOC111136338,LOC111137481\\\\\n",
       "\t GO:0000054 & LOC111106509,LOC111114937,LOC111119150,LOC111119639,LOC111121751,LOC111122535,LOC111125104,LOC111125671,LOC111129825,LOC111130459,LOC111130520,LOC111130539,LOC111133705,LOC111135936,LOC111136254,LOC111136517,LOC111121980,LOC111124932,LOC111125592,LOC111134066,LOC111137405                                                                                                                                                                                                                                                                                                                                                  \\\\\n",
       "\t GO:0000055 & LOC111106509,LOC111119150,LOC111121751,LOC111122535,LOC111129825,LOC111130459,LOC111130520,LOC111130539,LOC111135936                                                                                                                                                                                                                                                                                                                                                                                                                                                                                                              \\\\\n",
       "\\end{tabular}\n"
      ],
      "text/markdown": [
       "\n",
       "A tibble: 6 × 2\n",
       "\n",
       "| Gene.Ontology.IDs &lt;chr&gt; | gene_id &lt;chr&gt; |\n",
       "|---|---|\n",
       "| GO:0000012 | LOC111111498,LOC111111868,LOC111128425,LOC111128516,LOC111135198,LOC111135354,LOC111136704                                                                                                                                                                                                                                                                                                                                                                                                                                                                                                                                         |\n",
       "| GO:0000027 | LOC111103620,LOC111109112,LOC111116477,LOC111118739,LOC111119745,LOC111119970,LOC111120109,LOC111120886,LOC111120892,LOC111120994,LOC111121522,LOC111121958,LOC111126614,LOC111129891,LOC111130039,LOC111132903,LOC111135538,LOC111136247,LOC111137006                                                                                                                                                                                                                                                                                                                                                                             |\n",
       "| GO:0000028 | LOC111112561,LOC111114778,LOC111115985,LOC111118540,LOC111120557,LOC111121432,LOC111123620,LOC111125548,LOC111126883,LOC111127769,LOC111128580,LOC111135312                                                                                                                                                                                                                                                                                                                                                                                                                                                                        |\n",
       "| GO:0000045 | LOC111099721,LOC111099934,LOC111100289,LOC111100878,LOC111101476,LOC111101815,LOC111102871,LOC111106048,LOC111108144,LOC111111295,LOC111111995,LOC111118945,LOC111120809,LOC111122717,LOC111123262,LOC111123325,LOC111124607,LOC111124608,LOC111124610,LOC111125472,LOC111125798,LOC111127040,LOC111127325,LOC111127879,LOC111127926,LOC111128047,LOC111128059,LOC111129370,LOC111131691,LOC111131738,LOC111132058,LOC111132962,LOC111133363,LOC111134873,LOC111135459,LOC111136300,LOC111137152,LOC111110828,LOC111112253,LOC111123221,LOC111124399,LOC111126629,LOC111133574,LOC111133575,LOC111135792,LOC111136338,LOC111137481 |\n",
       "| GO:0000054 | LOC111106509,LOC111114937,LOC111119150,LOC111119639,LOC111121751,LOC111122535,LOC111125104,LOC111125671,LOC111129825,LOC111130459,LOC111130520,LOC111130539,LOC111133705,LOC111135936,LOC111136254,LOC111136517,LOC111121980,LOC111124932,LOC111125592,LOC111134066,LOC111137405                                                                                                                                                                                                                                                                                                                                                   |\n",
       "| GO:0000055 | LOC111106509,LOC111119150,LOC111121751,LOC111122535,LOC111129825,LOC111130459,LOC111130520,LOC111130539,LOC111135936                                                                                                                                                                                                                                                                                                                                                                                                                                                                                                               |\n",
       "\n"
      ],
      "text/plain": [
       "  Gene.Ontology.IDs\n",
       "1 GO:0000012       \n",
       "2 GO:0000027       \n",
       "3 GO:0000028       \n",
       "4 GO:0000045       \n",
       "5 GO:0000054       \n",
       "6 GO:0000055       \n",
       "  gene_id                                                                                                                                                                                                                                                                                                                                                                                                                                                                                                                                                                                                                           \n",
       "1 LOC111111498,LOC111111868,LOC111128425,LOC111128516,LOC111135198,LOC111135354,LOC111136704                                                                                                                                                                                                                                                                                                                                                                                                                                                                                                                                        \n",
       "2 LOC111103620,LOC111109112,LOC111116477,LOC111118739,LOC111119745,LOC111119970,LOC111120109,LOC111120886,LOC111120892,LOC111120994,LOC111121522,LOC111121958,LOC111126614,LOC111129891,LOC111130039,LOC111132903,LOC111135538,LOC111136247,LOC111137006                                                                                                                                                                                                                                                                                                                                                                            \n",
       "3 LOC111112561,LOC111114778,LOC111115985,LOC111118540,LOC111120557,LOC111121432,LOC111123620,LOC111125548,LOC111126883,LOC111127769,LOC111128580,LOC111135312                                                                                                                                                                                                                                                                                                                                                                                                                                                                       \n",
       "4 LOC111099721,LOC111099934,LOC111100289,LOC111100878,LOC111101476,LOC111101815,LOC111102871,LOC111106048,LOC111108144,LOC111111295,LOC111111995,LOC111118945,LOC111120809,LOC111122717,LOC111123262,LOC111123325,LOC111124607,LOC111124608,LOC111124610,LOC111125472,LOC111125798,LOC111127040,LOC111127325,LOC111127879,LOC111127926,LOC111128047,LOC111128059,LOC111129370,LOC111131691,LOC111131738,LOC111132058,LOC111132962,LOC111133363,LOC111134873,LOC111135459,LOC111136300,LOC111137152,LOC111110828,LOC111112253,LOC111123221,LOC111124399,LOC111126629,LOC111133574,LOC111133575,LOC111135792,LOC111136338,LOC111137481\n",
       "5 LOC111106509,LOC111114937,LOC111119150,LOC111119639,LOC111121751,LOC111122535,LOC111125104,LOC111125671,LOC111129825,LOC111130459,LOC111130520,LOC111130539,LOC111133705,LOC111135936,LOC111136254,LOC111136517,LOC111121980,LOC111124932,LOC111125592,LOC111134066,LOC111137405                                                                                                                                                                                                                                                                                                                                                  \n",
       "6 LOC111106509,LOC111119150,LOC111121751,LOC111122535,LOC111129825,LOC111130459,LOC111130520,LOC111130539,LOC111135936                                                                                                                                                                                                                                                                                                                                                                                                                                                                                                              "
      ]
     },
     "metadata": {},
     "output_type": "display_data"
    }
   ],
   "source": [
    "# copied from workflow pipeline linked above\n",
    "\n",
    "# group by GO\n",
    "\n",
    "grouped.gene.GO.df <- flat.gene.GO.df %>%\n",
    "  group_by(!!sym(GO.ID.column)) %>%\n",
    "  summarise(!!gene.ID.column := paste(.data[[gene.ID.column]], collapse = \",\"))\n",
    "\n",
    "str(grouped.gene.GO.df)\n",
    "head(grouped.gene.GO.df)"
   ]
  },
  {
   "cell_type": "markdown",
   "id": "e61de98b-cc06-4e5d-a003-08cb8119bc91",
   "metadata": {},
   "source": [
    "#### Mapping GO IDs to GO Slim"
   ]
  },
  {
   "cell_type": "code",
   "execution_count": 11,
   "id": "912bd432-86ce-483e-9fc7-574d68f8a234",
   "metadata": {},
   "outputs": [
    {
     "name": "stdout",
     "output_type": "stream",
     "text": [
      " chr [1:536] \"GO:0000012\" \"GO:0000027\" \"GO:0000028\" \"GO:0000045\" ...\n"
     ]
    },
    {
     "data": {
      "text/html": [
       "<style>\n",
       ".list-inline {list-style: none; margin:0; padding: 0}\n",
       ".list-inline>li {display: inline-block}\n",
       ".list-inline>li:not(:last-child)::after {content: \"\\00b7\"; padding: 0 .5ex}\n",
       "</style>\n",
       "<ol class=list-inline><li>'GO:0000012'</li><li>'GO:0000027'</li><li>'GO:0000028'</li><li>'GO:0000045'</li><li>'GO:0000054'</li><li>'GO:0000055'</li></ol>\n"
      ],
      "text/latex": [
       "\\begin{enumerate*}\n",
       "\\item 'GO:0000012'\n",
       "\\item 'GO:0000027'\n",
       "\\item 'GO:0000028'\n",
       "\\item 'GO:0000045'\n",
       "\\item 'GO:0000054'\n",
       "\\item 'GO:0000055'\n",
       "\\end{enumerate*}\n"
      ],
      "text/markdown": [
       "1. 'GO:0000012'\n",
       "2. 'GO:0000027'\n",
       "3. 'GO:0000028'\n",
       "4. 'GO:0000045'\n",
       "5. 'GO:0000054'\n",
       "6. 'GO:0000055'\n",
       "\n",
       "\n"
      ],
      "text/plain": [
       "[1] \"GO:0000012\" \"GO:0000027\" \"GO:0000028\" \"GO:0000045\" \"GO:0000054\"\n",
       "[6] \"GO:0000055\""
      ]
     },
     "metadata": {},
     "output_type": "display_data"
    }
   ],
   "source": [
    "# copied from workflow pipeline linked above\n",
    "\n",
    "# Vectorize GO IDs\n",
    "go_ids <- grouped.gene.GO.df[[GO.ID.column]]\n",
    "\n",
    "str(go_ids)\n",
    "head(go_ids)"
   ]
  },
  {
   "cell_type": "code",
   "execution_count": 12,
   "id": "048303be-e7a6-4c7b-be7d-df7b56ed692d",
   "metadata": {},
   "outputs": [
    {
     "name": "stdout",
     "output_type": "stream",
     "text": [
      "Formal class 'OBOCollection' [package \"GSEABase\"] with 7 slots\n",
      "  ..@ .stanza     :'data.frame':\t153 obs. of  1 variable:\n",
      "  .. ..$ value: chr [1:153] \"Root\" \"Term\" \"Term\" \"Term\" ...\n",
      "  ..@ .subset     :'data.frame':\t22 obs. of  1 variable:\n",
      "  .. ..$ value: chr [1:22] \"Rhea list of ChEBI terms representing the major species at pH 7.3.\" \"Term not to be used for direct annotation\" \"Terms planned for obsoletion\" \"AGR slim\" ...\n",
      "  ..@ .kv         :'data.frame':\t2075 obs. of  3 variables:\n",
      "  .. ..$ stanza_id: chr [1:2075] \".__Root__\" \".__Root__\" \".__Root__\" \".__Root__\" ...\n",
      "  .. ..$ key      : chr [1:2075] \"format-version\" \"data-version\" \"synonymtypedef\" \"synonymtypedef\" ...\n",
      "  .. ..$ value    : chr [1:2075] \"1.2\" \"go/2024-11-03/subsets/goslim_generic.owl\" \"syngo_official_label \\\"label approved by the SynGO project\\\"\" \"systematic_synonym \\\"Systematic synonym\\\" EXACT\" ...\n",
      "  ..@ evidenceCode: chr [1:26] \"EXP\" \"IDA\" \"IPI\" \"IMP\" ...\n",
      "  ..@ ontology    : chr NA\n",
      "  ..@ ids         : chr [1:141] \"GO:0000228\" \"GO:0000278\" \"GO:0000910\" \"GO:0001618\" ...\n",
      "  ..@ type        : chr \"OBO\"\n"
     ]
    }
   ],
   "source": [
    "# copied from workflow pipeline linked above\n",
    "\n",
    "# extract GOslims from OBO\n",
    "\n",
    "# Create GSEAbase GOCollection using `go_ids`\n",
    "myCollection <- GOCollection(go_ids)\n",
    "\n",
    "# Retrieve GOslims from GO OBO file set\n",
    "slim <- getOBOCollection(gseabase_files)\n",
    "\n",
    "str(slim)"
   ]
  },
  {
   "cell_type": "code",
   "execution_count": 13,
   "id": "6e2480af-0ab9-4098-8ca7-ee3d9c41c1df",
   "metadata": {},
   "outputs": [
    {
     "name": "stdout",
     "output_type": "stream",
     "text": [
      "'data.frame':\t72 obs. of  3 variables:\n",
      " $ Count  : int  12 3 2 6 0 0 0 0 6 0 ...\n",
      " $ Percent: num  4.225 1.056 0.704 2.113 0 ...\n",
      " $ Term   : chr  \"mitotic cell cycle\" \"cytokinesis\" \"cytoplasmic translation\" \"immune system process\" ...\n"
     ]
    },
    {
     "data": {
      "text/html": [
       "<table class=\"dataframe\">\n",
       "<caption>A data.frame: 6 × 3</caption>\n",
       "<thead>\n",
       "\t<tr><th></th><th scope=col>Count</th><th scope=col>Percent</th><th scope=col>Term</th></tr>\n",
       "\t<tr><th></th><th scope=col>&lt;int&gt;</th><th scope=col>&lt;dbl&gt;</th><th scope=col>&lt;chr&gt;</th></tr>\n",
       "</thead>\n",
       "<tbody>\n",
       "\t<tr><th scope=row>GO:0000278</th><td>12</td><td>4.2253521</td><td>mitotic cell cycle        </td></tr>\n",
       "\t<tr><th scope=row>GO:0000910</th><td> 3</td><td>1.0563380</td><td>cytokinesis               </td></tr>\n",
       "\t<tr><th scope=row>GO:0002181</th><td> 2</td><td>0.7042254</td><td>cytoplasmic translation   </td></tr>\n",
       "\t<tr><th scope=row>GO:0002376</th><td> 6</td><td>2.1126761</td><td>immune system process     </td></tr>\n",
       "\t<tr><th scope=row>GO:0003012</th><td> 0</td><td>0.0000000</td><td>muscle system process     </td></tr>\n",
       "\t<tr><th scope=row>GO:0003013</th><td> 0</td><td>0.0000000</td><td>circulatory system process</td></tr>\n",
       "</tbody>\n",
       "</table>\n"
      ],
      "text/latex": [
       "A data.frame: 6 × 3\n",
       "\\begin{tabular}{r|lll}\n",
       "  & Count & Percent & Term\\\\\n",
       "  & <int> & <dbl> & <chr>\\\\\n",
       "\\hline\n",
       "\tGO:0000278 & 12 & 4.2253521 & mitotic cell cycle        \\\\\n",
       "\tGO:0000910 &  3 & 1.0563380 & cytokinesis               \\\\\n",
       "\tGO:0002181 &  2 & 0.7042254 & cytoplasmic translation   \\\\\n",
       "\tGO:0002376 &  6 & 2.1126761 & immune system process     \\\\\n",
       "\tGO:0003012 &  0 & 0.0000000 & muscle system process     \\\\\n",
       "\tGO:0003013 &  0 & 0.0000000 & circulatory system process\\\\\n",
       "\\end{tabular}\n"
      ],
      "text/markdown": [
       "\n",
       "A data.frame: 6 × 3\n",
       "\n",
       "| <!--/--> | Count &lt;int&gt; | Percent &lt;dbl&gt; | Term &lt;chr&gt; |\n",
       "|---|---|---|---|\n",
       "| GO:0000278 | 12 | 4.2253521 | mitotic cell cycle         |\n",
       "| GO:0000910 |  3 | 1.0563380 | cytokinesis                |\n",
       "| GO:0002181 |  2 | 0.7042254 | cytoplasmic translation    |\n",
       "| GO:0002376 |  6 | 2.1126761 | immune system process      |\n",
       "| GO:0003012 |  0 | 0.0000000 | muscle system process      |\n",
       "| GO:0003013 |  0 | 0.0000000 | circulatory system process |\n",
       "\n"
      ],
      "text/plain": [
       "           Count Percent   Term                      \n",
       "GO:0000278 12    4.2253521 mitotic cell cycle        \n",
       "GO:0000910  3    1.0563380 cytokinesis               \n",
       "GO:0002181  2    0.7042254 cytoplasmic translation   \n",
       "GO:0002376  6    2.1126761 immune system process     \n",
       "GO:0003012  0    0.0000000 muscle system process     \n",
       "GO:0003013  0    0.0000000 circulatory system process"
      ]
     },
     "metadata": {},
     "output_type": "display_data"
    }
   ],
   "source": [
    "# copied from workflow pipeline linked above\n",
    "\n",
    "# retrieve BP GOslims\n",
    "\n",
    "# Retrieve Biological Process (BP) GOslims\n",
    "slimdf <- goSlim(myCollection, slim, \"BP\", verbose)\n",
    "str(slimdf)\n",
    "head(slimdf)"
   ]
  },
  {
   "cell_type": "code",
   "execution_count": 14,
   "id": "7ac8ddb9-fdb8-4ac6-b120-58355913aa63",
   "metadata": {},
   "outputs": [
    {
     "data": {
      "text/html": [
       "<style>\n",
       ".list-inline {list-style: none; margin:0; padding: 0}\n",
       ".list-inline>li {display: inline-block}\n",
       ".list-inline>li:not(:last-child)::after {content: \"\\00b7\"; padding: 0 .5ex}\n",
       "</style>\n",
       "<ol class=list-inline><li>72</li><li>3</li></ol>\n"
      ],
      "text/latex": [
       "\\begin{enumerate*}\n",
       "\\item 72\n",
       "\\item 3\n",
       "\\end{enumerate*}\n"
      ],
      "text/markdown": [
       "1. 72\n",
       "2. 3\n",
       "\n",
       "\n"
      ],
      "text/plain": [
       "[1] 72  3"
      ]
     },
     "metadata": {},
     "output_type": "display_data"
    }
   ],
   "source": [
    "dim(slimdf) # 72 total GOslim terms"
   ]
  },
  {
   "cell_type": "markdown",
   "id": "5d943aee-d024-4ed1-9976-8fe02144a6e4",
   "metadata": {},
   "source": [
    "so now have df with GOslim term and GO ID"
   ]
  },
  {
   "cell_type": "code",
   "execution_count": 15,
   "id": "875b6da7-4057-4e19-8d65-e628ac4c029f",
   "metadata": {},
   "outputs": [
    {
     "name": "stdout",
     "output_type": "stream",
     "text": [
      "'data.frame':\t72 obs. of  4 variables:\n",
      " $ Count  : int  12 3 2 6 0 0 0 0 6 0 ...\n",
      " $ Percent: num  4.225 1.056 0.704 2.113 0 ...\n",
      " $ Term   : chr  \"mitotic cell cycle\" \"cytokinesis\" \"cytoplasmic translation\" \"immune system process\" ...\n",
      " $ GO.IDs : chr  \"GO:0000070;GO:0000082;GO:0000083;GO:0000086;GO:0000132;GO:0000281;GO:0007346;GO:0040001;GO:0044772;GO:1902850;G\"| __truncated__ \"GO:0000281;GO:0061640; GO:0000910\" \"GO:0001731; GO:0002181\" \"GO:0002221;GO:0002224;GO:0002755;GO:0006955;GO:0006959; GO:0002376\" ...\n"
     ]
    },
    {
     "data": {
      "text/html": [
       "<table class=\"dataframe\">\n",
       "<caption>A data.frame: 6 × 4</caption>\n",
       "<thead>\n",
       "\t<tr><th></th><th scope=col>Count</th><th scope=col>Percent</th><th scope=col>Term</th><th scope=col>GO.IDs</th></tr>\n",
       "\t<tr><th></th><th scope=col>&lt;int&gt;</th><th scope=col>&lt;dbl&gt;</th><th scope=col>&lt;chr&gt;</th><th scope=col>&lt;chr&gt;</th></tr>\n",
       "</thead>\n",
       "<tbody>\n",
       "\t<tr><th scope=row>GO:0000278</th><td>12</td><td>4.2253521</td><td>mitotic cell cycle        </td><td>GO:0000070;GO:0000082;GO:0000083;GO:0000086;GO:0000132;GO:0000281;GO:0007346;GO:0040001;GO:0044772;GO:1902850;GO:1903047; GO:0000278</td></tr>\n",
       "\t<tr><th scope=row>GO:0000910</th><td> 3</td><td>1.0563380</td><td>cytokinesis               </td><td>GO:0000281;GO:0061640; GO:0000910                                                                                                   </td></tr>\n",
       "\t<tr><th scope=row>GO:0002181</th><td> 2</td><td>0.7042254</td><td>cytoplasmic translation   </td><td>GO:0001731; GO:0002181                                                                                                              </td></tr>\n",
       "\t<tr><th scope=row>GO:0002376</th><td> 6</td><td>2.1126761</td><td>immune system process     </td><td>GO:0002221;GO:0002224;GO:0002755;GO:0006955;GO:0006959; GO:0002376                                                                  </td></tr>\n",
       "\t<tr><th scope=row>GO:0003012</th><td> 0</td><td>0.0000000</td><td>muscle system process     </td><td>                                                                                                                                    </td></tr>\n",
       "\t<tr><th scope=row>GO:0003013</th><td> 0</td><td>0.0000000</td><td>circulatory system process</td><td>                                                                                                                                    </td></tr>\n",
       "</tbody>\n",
       "</table>\n"
      ],
      "text/latex": [
       "A data.frame: 6 × 4\n",
       "\\begin{tabular}{r|llll}\n",
       "  & Count & Percent & Term & GO.IDs\\\\\n",
       "  & <int> & <dbl> & <chr> & <chr>\\\\\n",
       "\\hline\n",
       "\tGO:0000278 & 12 & 4.2253521 & mitotic cell cycle         & GO:0000070;GO:0000082;GO:0000083;GO:0000086;GO:0000132;GO:0000281;GO:0007346;GO:0040001;GO:0044772;GO:1902850;GO:1903047; GO:0000278\\\\\n",
       "\tGO:0000910 &  3 & 1.0563380 & cytokinesis                & GO:0000281;GO:0061640; GO:0000910                                                                                                   \\\\\n",
       "\tGO:0002181 &  2 & 0.7042254 & cytoplasmic translation    & GO:0001731; GO:0002181                                                                                                              \\\\\n",
       "\tGO:0002376 &  6 & 2.1126761 & immune system process      & GO:0002221;GO:0002224;GO:0002755;GO:0006955;GO:0006959; GO:0002376                                                                  \\\\\n",
       "\tGO:0003012 &  0 & 0.0000000 & muscle system process      &                                                                                                                                     \\\\\n",
       "\tGO:0003013 &  0 & 0.0000000 & circulatory system process &                                                                                                                                     \\\\\n",
       "\\end{tabular}\n"
      ],
      "text/markdown": [
       "\n",
       "A data.frame: 6 × 4\n",
       "\n",
       "| <!--/--> | Count &lt;int&gt; | Percent &lt;dbl&gt; | Term &lt;chr&gt; | GO.IDs &lt;chr&gt; |\n",
       "|---|---|---|---|---|\n",
       "| GO:0000278 | 12 | 4.2253521 | mitotic cell cycle         | GO:0000070;GO:0000082;GO:0000083;GO:0000086;GO:0000132;GO:0000281;GO:0007346;GO:0040001;GO:0044772;GO:1902850;GO:1903047; GO:0000278 |\n",
       "| GO:0000910 |  3 | 1.0563380 | cytokinesis                | GO:0000281;GO:0061640; GO:0000910                                                                                                    |\n",
       "| GO:0002181 |  2 | 0.7042254 | cytoplasmic translation    | GO:0001731; GO:0002181                                                                                                               |\n",
       "| GO:0002376 |  6 | 2.1126761 | immune system process      | GO:0002221;GO:0002224;GO:0002755;GO:0006955;GO:0006959; GO:0002376                                                                   |\n",
       "| GO:0003012 |  0 | 0.0000000 | muscle system process      | <!----> |\n",
       "| GO:0003013 |  0 | 0.0000000 | circulatory system process | <!----> |\n",
       "\n"
      ],
      "text/plain": [
       "           Count Percent   Term                      \n",
       "GO:0000278 12    4.2253521 mitotic cell cycle        \n",
       "GO:0000910  3    1.0563380 cytokinesis               \n",
       "GO:0002181  2    0.7042254 cytoplasmic translation   \n",
       "GO:0002376  6    2.1126761 immune system process     \n",
       "GO:0003012  0    0.0000000 muscle system process     \n",
       "GO:0003013  0    0.0000000 circulatory system process\n",
       "           GO.IDs                                                                                                                              \n",
       "GO:0000278 GO:0000070;GO:0000082;GO:0000083;GO:0000086;GO:0000132;GO:0000281;GO:0007346;GO:0040001;GO:0044772;GO:1902850;GO:1903047; GO:0000278\n",
       "GO:0000910 GO:0000281;GO:0061640; GO:0000910                                                                                                   \n",
       "GO:0002181 GO:0001731; GO:0002181                                                                                                              \n",
       "GO:0002376 GO:0002221;GO:0002224;GO:0002755;GO:0006955;GO:0006959; GO:0002376                                                                  \n",
       "GO:0003012                                                                                                                                     \n",
       "GO:0003013                                                                                                                                     "
      ]
     },
     "metadata": {},
     "output_type": "display_data"
    }
   ],
   "source": [
    "# copied from workflow pipeline linked above\n",
    "\n",
    "#Map GO to GOslims\n",
    "\n",
    "# List of GOslims and all GO IDs from `go_ids`\n",
    "gomap <- as.list(GOBPOFFSPRING[rownames(slimdf)])\n",
    "\n",
    "# Maps `go_ids` to matching GOslims\n",
    "mapped <- lapply(gomap, intersect, ids(myCollection))\n",
    "\n",
    "# Append all mapped GO IDs to `slimdf`\n",
    "# `sapply` needed to apply paste() to create semi-colon delimited values\n",
    "slimdf$GO.IDs <- sapply(lapply(gomap, intersect, ids(myCollection)), paste, collapse=\";\")\n",
    "\n",
    "# Remove \"character(0) string from \"GO.IDs\" column\n",
    "slimdf$GO.IDs[slimdf$GO.IDs == \"character(0)\"] <- \"\"\n",
    "\n",
    "# Add self-matching GOIDs to \"GO.IDs\" column, if not present\n",
    "for (go_id in go_ids) {\n",
    "  # Check if the go_id is present in the row names\n",
    "  if (go_id %in% rownames(slimdf)) {\n",
    "    # Check if the go_id is not present in the GO.IDs column\n",
    "    # Also removes white space \"trimws()\" and converts all to upper case to handle\n",
    "    # any weird, \"invisible\" formatting issues.\n",
    "    if (!go_id %in% trimws(toupper(strsplit(slimdf[go_id, \"GO.IDs\"], \";\")[[1]]))) {\n",
    "      # Append the go_id to the GO.IDs column with a semi-colon separator\n",
    "      if (length(slimdf$GO.IDs) > 0 && nchar(slimdf$GO.IDs[nrow(slimdf)]) > 0) {\n",
    "        slimdf[go_id, \"GO.IDs\"] <- paste0(slimdf[go_id, \"GO.IDs\"], \"; \", go_id)\n",
    "      } else {\n",
    "        slimdf[go_id, \"GO.IDs\"] <- go_id\n",
    "      }\n",
    "    }\n",
    "  }\n",
    "}\n",
    "\n",
    "str(slimdf)\n",
    "head(slimdf)"
   ]
  },
  {
   "cell_type": "markdown",
   "id": "6c6561f3-5375-4e95-bf73-e0e0690a3ec8",
   "metadata": {},
   "source": [
    "now have df with GOslim ID as the rowname and the corresponding GO IDs that fall within the GOslim term listed"
   ]
  },
  {
   "cell_type": "markdown",
   "id": "aae7765a-ebfe-4eb0-b997-902dfee555f0",
   "metadata": {},
   "source": [
    "flatten GOslims file - one GO ID and one GOslim term per row"
   ]
  },
  {
   "cell_type": "code",
   "execution_count": 16,
   "id": "a86cbb93-dbd4-4b5d-af6d-970a8b38d79f",
   "metadata": {},
   "outputs": [
    {
     "name": "stdout",
     "output_type": "stream",
     "text": [
      "tibble [242 × 3] (S3: tbl_df/tbl/data.frame)\n",
      " $ GO.IDs: chr [1:242] \" GO:0000278\" \" GO:0000910\" \" GO:0002181\" \" GO:0002376\" ...\n",
      " $ GOslim: chr [1:242] \"GO:0000278\" \"GO:0000910\" \"GO:0002181\" \"GO:0002376\" ...\n",
      " $ Term  : chr [1:242] \"mitotic cell cycle\" \"cytokinesis\" \"cytoplasmic translation\" \"immune system process\" ...\n"
     ]
    },
    {
     "data": {
      "text/html": [
       "<table class=\"dataframe\">\n",
       "<caption>A tibble: 6 × 3</caption>\n",
       "<thead>\n",
       "\t<tr><th scope=col>GO.IDs</th><th scope=col>GOslim</th><th scope=col>Term</th></tr>\n",
       "\t<tr><th scope=col>&lt;chr&gt;</th><th scope=col>&lt;chr&gt;</th><th scope=col>&lt;chr&gt;</th></tr>\n",
       "</thead>\n",
       "<tbody>\n",
       "\t<tr><td> GO:0000278</td><td>GO:0000278</td><td>mitotic cell cycle            </td></tr>\n",
       "\t<tr><td> GO:0000910</td><td>GO:0000910</td><td>cytokinesis                   </td></tr>\n",
       "\t<tr><td> GO:0002181</td><td>GO:0002181</td><td>cytoplasmic translation       </td></tr>\n",
       "\t<tr><td> GO:0002376</td><td>GO:0002376</td><td>immune system process         </td></tr>\n",
       "\t<tr><td> GO:0005975</td><td>GO:0005975</td><td>carbohydrate metabolic process</td></tr>\n",
       "\t<tr><td> GO:0006281</td><td>GO:0006281</td><td>DNA repair                    </td></tr>\n",
       "</tbody>\n",
       "</table>\n"
      ],
      "text/latex": [
       "A tibble: 6 × 3\n",
       "\\begin{tabular}{lll}\n",
       " GO.IDs & GOslim & Term\\\\\n",
       " <chr> & <chr> & <chr>\\\\\n",
       "\\hline\n",
       "\t  GO:0000278 & GO:0000278 & mitotic cell cycle            \\\\\n",
       "\t  GO:0000910 & GO:0000910 & cytokinesis                   \\\\\n",
       "\t  GO:0002181 & GO:0002181 & cytoplasmic translation       \\\\\n",
       "\t  GO:0002376 & GO:0002376 & immune system process         \\\\\n",
       "\t  GO:0005975 & GO:0005975 & carbohydrate metabolic process\\\\\n",
       "\t  GO:0006281 & GO:0006281 & DNA repair                    \\\\\n",
       "\\end{tabular}\n"
      ],
      "text/markdown": [
       "\n",
       "A tibble: 6 × 3\n",
       "\n",
       "| GO.IDs &lt;chr&gt; | GOslim &lt;chr&gt; | Term &lt;chr&gt; |\n",
       "|---|---|---|\n",
       "|  GO:0000278 | GO:0000278 | mitotic cell cycle             |\n",
       "|  GO:0000910 | GO:0000910 | cytokinesis                    |\n",
       "|  GO:0002181 | GO:0002181 | cytoplasmic translation        |\n",
       "|  GO:0002376 | GO:0002376 | immune system process          |\n",
       "|  GO:0005975 | GO:0005975 | carbohydrate metabolic process |\n",
       "|  GO:0006281 | GO:0006281 | DNA repair                     |\n",
       "\n"
      ],
      "text/plain": [
       "  GO.IDs      GOslim     Term                          \n",
       "1  GO:0000278 GO:0000278 mitotic cell cycle            \n",
       "2  GO:0000910 GO:0000910 cytokinesis                   \n",
       "3  GO:0002181 GO:0002181 cytoplasmic translation       \n",
       "4  GO:0002376 GO:0002376 immune system process         \n",
       "5  GO:0005975 GO:0005975 carbohydrate metabolic process\n",
       "6  GO:0006281 GO:0006281 DNA repair                    "
      ]
     },
     "metadata": {},
     "output_type": "display_data"
    }
   ],
   "source": [
    "# copied from workflow pipeline linked above\n",
    "\n",
    "# flatten-GOslims-file\n",
    "\n",
    "# \"Flatten\" file so each row is single GO ID with corresponding GOslim\n",
    "# rownames_to_column needed to retain row name info\n",
    "slimdf_separated <- as.data.frame(slimdf %>%\n",
    "  rownames_to_column('GOslim') %>%\n",
    "  separate_rows(GO.IDs, sep = \";\"))\n",
    "\n",
    "# Group by unique GO ID\n",
    "grouped_slimdf <- slimdf_separated %>%\n",
    "  filter(!is.na(GO.IDs) & GO.IDs != \"\") %>%\n",
    "  group_by(GO.IDs) %>%\n",
    "  summarize(GOslim = paste(GOslim, collapse = \";\"),\n",
    "            Term = paste(Term, collapse = \";\"))\n",
    "\n",
    "\n",
    "str(grouped_slimdf)\n",
    "head(grouped_slimdf)"
   ]
  },
  {
   "cell_type": "code",
   "execution_count": 17,
   "id": "82d06cfb-4c9d-459b-8c07-d79ae709fc6a",
   "metadata": {},
   "outputs": [
    {
     "name": "stdout",
     "output_type": "stream",
     "text": [
      "'data.frame':\t72 obs. of  2 variables:\n",
      " $ Term : chr  \"lipid metabolic process\" \"signaling\" \"mRNA metabolic process\" \"mitotic cell cycle\" ...\n",
      " $ Count: int  25 21 18 12 12 12 12 11 10 9 ...\n"
     ]
    },
    {
     "data": {
      "text/html": [
       "<table class=\"dataframe\">\n",
       "<caption>A data.frame: 6 × 2</caption>\n",
       "<thead>\n",
       "\t<tr><th></th><th scope=col>Term</th><th scope=col>Count</th></tr>\n",
       "\t<tr><th></th><th scope=col>&lt;chr&gt;</th><th scope=col>&lt;int&gt;</th></tr>\n",
       "</thead>\n",
       "<tbody>\n",
       "\t<tr><th scope=row>GO:0006629</th><td>lipid metabolic process  </td><td>25</td></tr>\n",
       "\t<tr><th scope=row>GO:0023052</th><td>signaling                </td><td>21</td></tr>\n",
       "\t<tr><th scope=row>GO:0016071</th><td>mRNA metabolic process   </td><td>18</td></tr>\n",
       "\t<tr><th scope=row>GO:0000278</th><td>mitotic cell cycle       </td><td>12</td></tr>\n",
       "\t<tr><th scope=row>GO:0007010</th><td>cytoskeleton organization</td><td>12</td></tr>\n",
       "\t<tr><th scope=row>GO:0042254</th><td>ribosome biogenesis      </td><td>12</td></tr>\n",
       "</tbody>\n",
       "</table>\n"
      ],
      "text/latex": [
       "A data.frame: 6 × 2\n",
       "\\begin{tabular}{r|ll}\n",
       "  & Term & Count\\\\\n",
       "  & <chr> & <int>\\\\\n",
       "\\hline\n",
       "\tGO:0006629 & lipid metabolic process   & 25\\\\\n",
       "\tGO:0023052 & signaling                 & 21\\\\\n",
       "\tGO:0016071 & mRNA metabolic process    & 18\\\\\n",
       "\tGO:0000278 & mitotic cell cycle        & 12\\\\\n",
       "\tGO:0007010 & cytoskeleton organization & 12\\\\\n",
       "\tGO:0042254 & ribosome biogenesis       & 12\\\\\n",
       "\\end{tabular}\n"
      ],
      "text/markdown": [
       "\n",
       "A data.frame: 6 × 2\n",
       "\n",
       "| <!--/--> | Term &lt;chr&gt; | Count &lt;int&gt; |\n",
       "|---|---|---|\n",
       "| GO:0006629 | lipid metabolic process   | 25 |\n",
       "| GO:0023052 | signaling                 | 21 |\n",
       "| GO:0016071 | mRNA metabolic process    | 18 |\n",
       "| GO:0000278 | mitotic cell cycle        | 12 |\n",
       "| GO:0007010 | cytoskeleton organization | 12 |\n",
       "| GO:0042254 | ribosome biogenesis       | 12 |\n",
       "\n"
      ],
      "text/plain": [
       "           Term                      Count\n",
       "GO:0006629 lipid metabolic process   25   \n",
       "GO:0023052 signaling                 21   \n",
       "GO:0016071 mRNA metabolic process    18   \n",
       "GO:0000278 mitotic cell cycle        12   \n",
       "GO:0007010 cytoskeleton organization 12   \n",
       "GO:0042254 ribosome biogenesis       12   "
      ]
     },
     "metadata": {},
     "output_type": "display_data"
    }
   ],
   "source": [
    "# copied from workflow pipeline linked above\n",
    "\n",
    "# sort and select slimdf counts\n",
    "\n",
    "slimdf.sorted <- slimdf %>% arrange(desc(Count))\n",
    "\n",
    "slim.count.df <- slimdf.sorted[,c(3,1)]\n",
    " # select(Term, Count)\n",
    "\n",
    "str(slim.count.df)\n",
    "\n",
    "head(slim.count.df)"
   ]
  },
  {
   "cell_type": "code",
   "execution_count": 19,
   "id": "b796a26c-a0c1-43f3-9247-3cccd314743e",
   "metadata": {},
   "outputs": [
    {
     "data": {
      "image/png": "[encoded data removed]",
      "text/plain": [
       "plot without title"
      ]
     },
     "metadata": {
      "image/png": {
       "height": 420,
       "width": 420
      }
     },
     "output_type": "display_data"
    }
   ],
   "source": [
    "ggplot(slimdf %>% \n",
    "         filter(Percent > 0) %>% # remove those without any matching GO IDs\n",
    "         arrange(desc(Percent)), # order by most to least\n",
    "       aes(x=reorder(Term, Percent), y=Percent)) +\n",
    "  geom_col(fill = 'mediumpurple') +\n",
    "  labs(x=\"GOSlim Term\", y=\"Percent of GO IDs\", subtitle = 'A) CH vs. HC') +\n",
    "coord_flip() + \n",
    "  theme_bw()"
   ]
  },
  {
   "cell_type": "markdown",
   "id": "b94a4454-27d6-4516-8de9-df2fc35fe189",
   "metadata": {},
   "source": [
    "looking more at the code [here](https://github.com/epigeneticstoocean/paper-gonad-meth/blob/master/code/14-Gene-Enrichment-with-GO-MWU.Rmd), it appears that they took their GO-MWU results csv (BP_filename) and merged with their list of differentially methylated genes, then merged with the GOSlim file"
   ]
  },
  {
   "cell_type": "code",
   "execution_count": 26,
   "id": "5ee1f459-7558-46cc-878c-2a7533d90823",
   "metadata": {},
   "outputs": [
    {
     "data": {
      "text/html": [
       "<table class=\"dataframe\">\n",
       "<caption>A data.frame: 6 × 5</caption>\n",
       "<thead>\n",
       "\t<tr><th></th><th scope=col>name</th><th scope=col>term</th><th scope=col>lev</th><th scope=col>seq</th><th scope=col>value</th></tr>\n",
       "\t<tr><th></th><th scope=col>&lt;chr&gt;</th><th scope=col>&lt;chr&gt;</th><th scope=col>&lt;int&gt;</th><th scope=col>&lt;chr&gt;</th><th scope=col>&lt;dbl&gt;</th></tr>\n",
       "</thead>\n",
       "<tbody>\n",
       "\t<tr><th scope=row>1</th><td>supramolecular fiber organization</td><td>GO:0007015;GO:0097435</td><td>2</td><td>LOC111101101</td><td>-0.38722520</td></tr>\n",
       "\t<tr><th scope=row>2</th><td>supramolecular fiber organization</td><td>GO:0007015;GO:0097435</td><td>2</td><td>LOC111108074</td><td> 0.08059783</td></tr>\n",
       "\t<tr><th scope=row>3</th><td>supramolecular fiber organization</td><td>GO:0007015;GO:0097435</td><td>2</td><td>LOC111109780</td><td>-1.04879576</td></tr>\n",
       "\t<tr><th scope=row>4</th><td>supramolecular fiber organization</td><td>GO:0007015;GO:0097435</td><td>2</td><td>LOC111113129</td><td>-0.33325171</td></tr>\n",
       "\t<tr><th scope=row>5</th><td>supramolecular fiber organization</td><td>GO:0007015;GO:0097435</td><td>2</td><td>LOC111113355</td><td>-0.28047982</td></tr>\n",
       "\t<tr><th scope=row>6</th><td>supramolecular fiber organization</td><td>GO:0007015;GO:0097435</td><td>2</td><td>LOC111115662</td><td>-0.31195976</td></tr>\n",
       "</tbody>\n",
       "</table>\n"
      ],
      "text/latex": [
       "A data.frame: 6 × 5\n",
       "\\begin{tabular}{r|lllll}\n",
       "  & name & term & lev & seq & value\\\\\n",
       "  & <chr> & <chr> & <int> & <chr> & <dbl>\\\\\n",
       "\\hline\n",
       "\t1 & supramolecular fiber organization & GO:0007015;GO:0097435 & 2 & LOC111101101 & -0.38722520\\\\\n",
       "\t2 & supramolecular fiber organization & GO:0007015;GO:0097435 & 2 & LOC111108074 &  0.08059783\\\\\n",
       "\t3 & supramolecular fiber organization & GO:0007015;GO:0097435 & 2 & LOC111109780 & -1.04879576\\\\\n",
       "\t4 & supramolecular fiber organization & GO:0007015;GO:0097435 & 2 & LOC111113129 & -0.33325171\\\\\n",
       "\t5 & supramolecular fiber organization & GO:0007015;GO:0097435 & 2 & LOC111113355 & -0.28047982\\\\\n",
       "\t6 & supramolecular fiber organization & GO:0007015;GO:0097435 & 2 & LOC111115662 & -0.31195976\\\\\n",
       "\\end{tabular}\n"
      ],
      "text/markdown": [
       "\n",
       "A data.frame: 6 × 5\n",
       "\n",
       "| <!--/--> | name &lt;chr&gt; | term &lt;chr&gt; | lev &lt;int&gt; | seq &lt;chr&gt; | value &lt;dbl&gt; |\n",
       "|---|---|---|---|---|---|\n",
       "| 1 | supramolecular fiber organization | GO:0007015;GO:0097435 | 2 | LOC111101101 | -0.38722520 |\n",
       "| 2 | supramolecular fiber organization | GO:0007015;GO:0097435 | 2 | LOC111108074 |  0.08059783 |\n",
       "| 3 | supramolecular fiber organization | GO:0007015;GO:0097435 | 2 | LOC111109780 | -1.04879576 |\n",
       "| 4 | supramolecular fiber organization | GO:0007015;GO:0097435 | 2 | LOC111113129 | -0.33325171 |\n",
       "| 5 | supramolecular fiber organization | GO:0007015;GO:0097435 | 2 | LOC111113355 | -0.28047982 |\n",
       "| 6 | supramolecular fiber organization | GO:0007015;GO:0097435 | 2 | LOC111115662 | -0.31195976 |\n",
       "\n"
      ],
      "text/plain": [
       "  name                              term                  lev seq         \n",
       "1 supramolecular fiber organization GO:0007015;GO:0097435 2   LOC111101101\n",
       "2 supramolecular fiber organization GO:0007015;GO:0097435 2   LOC111108074\n",
       "3 supramolecular fiber organization GO:0007015;GO:0097435 2   LOC111109780\n",
       "4 supramolecular fiber organization GO:0007015;GO:0097435 2   LOC111113129\n",
       "5 supramolecular fiber organization GO:0007015;GO:0097435 2   LOC111113355\n",
       "6 supramolecular fiber organization GO:0007015;GO:0097435 2   LOC111115662\n",
       "  value      \n",
       "1 -0.38722520\n",
       "2  0.08059783\n",
       "3 -1.04879576\n",
       "4 -0.33325171\n",
       "5 -0.28047982\n",
       "6 -0.31195976"
      ]
     },
     "metadata": {},
     "output_type": "display_data"
    }
   ],
   "source": [
    "# read in BP_go-mwu res csv for this pairwise comparison\n",
    "bpCHlog <- read.csv('/project/pi_sarah_gignouxwolfsohn_uml_edu/julia/CE_MethylRAD_analysis_2018/analysis/DMGs_analysis/go_mwu/BP_allGenes_CH_lfc.csv', sep = '\\t')\n",
    "head(bpCHlog)"
   ]
  },
  {
   "cell_type": "code",
   "execution_count": 34,
   "id": "b9dd8c5b-6b76-428e-9b90-145577815b12",
   "metadata": {},
   "outputs": [
    {
     "data": {
      "text/html": [
       "<table class=\"dataframe\">\n",
       "<caption>A data.frame: 6 × 1</caption>\n",
       "<thead>\n",
       "\t<tr><th></th><th scope=col>seq</th></tr>\n",
       "\t<tr><th></th><th scope=col>&lt;chr&gt;</th></tr>\n",
       "</thead>\n",
       "<tbody>\n",
       "\t<tr><th scope=row>1</th><td>LOC111099548</td></tr>\n",
       "\t<tr><th scope=row>2</th><td>LOC111099571</td></tr>\n",
       "\t<tr><th scope=row>3</th><td>LOC111099585</td></tr>\n",
       "\t<tr><th scope=row>4</th><td>LOC111099930</td></tr>\n",
       "\t<tr><th scope=row>5</th><td>LOC111099978</td></tr>\n",
       "\t<tr><th scope=row>6</th><td>LOC111100608</td></tr>\n",
       "</tbody>\n",
       "</table>\n"
      ],
      "text/latex": [
       "A data.frame: 6 × 1\n",
       "\\begin{tabular}{r|l}\n",
       "  & seq\\\\\n",
       "  & <chr>\\\\\n",
       "\\hline\n",
       "\t1 & LOC111099548\\\\\n",
       "\t2 & LOC111099571\\\\\n",
       "\t3 & LOC111099585\\\\\n",
       "\t4 & LOC111099930\\\\\n",
       "\t5 & LOC111099978\\\\\n",
       "\t6 & LOC111100608\\\\\n",
       "\\end{tabular}\n"
      ],
      "text/markdown": [
       "\n",
       "A data.frame: 6 × 1\n",
       "\n",
       "| <!--/--> | seq &lt;chr&gt; |\n",
       "|---|---|\n",
       "| 1 | LOC111099548 |\n",
       "| 2 | LOC111099571 |\n",
       "| 3 | LOC111099585 |\n",
       "| 4 | LOC111099930 |\n",
       "| 5 | LOC111099978 |\n",
       "| 6 | LOC111100608 |\n",
       "\n"
      ],
      "text/plain": [
       "  seq         \n",
       "1 LOC111099548\n",
       "2 LOC111099571\n",
       "3 LOC111099585\n",
       "4 LOC111099930\n",
       "5 LOC111099978\n",
       "6 LOC111100608"
      ]
     },
     "metadata": {},
     "output_type": "display_data"
    }
   ],
   "source": [
    "# read in list of DMG for CH vs. HC\n",
    "sigCH <- read.csv('/project/pi_sarah_gignouxwolfsohn_uml_edu/julia/CE_MethylRAD_analysis_2018/analysis/deseq_res_files/geneFeatures_res/sig_DMGs/sig_CH_HC_genes.csv')\n",
    "\n",
    "# really only interested in the gene id\n",
    "sigCH <- sigCH[2]\n",
    "\n",
    "# change colname of genes to match GO-MWU res file\n",
    "colnames(sigCH)[1] <- 'seq'\n",
    "\n",
    "head(sigCH)"
   ]
  },
  {
   "cell_type": "code",
   "execution_count": 56,
   "id": "495da563-792c-43b5-907d-6d928b90d735",
   "metadata": {},
   "outputs": [
    {
     "data": {
      "text/html": [
       "<table class=\"dataframe\">\n",
       "<caption>A data.frame: 6 × 5</caption>\n",
       "<thead>\n",
       "\t<tr><th></th><th scope=col>gene_id</th><th scope=col>name</th><th scope=col>term</th><th scope=col>lev</th><th scope=col>value</th></tr>\n",
       "\t<tr><th></th><th scope=col>&lt;chr&gt;</th><th scope=col>&lt;chr&gt;</th><th scope=col>&lt;chr&gt;</th><th scope=col>&lt;int&gt;</th><th scope=col>&lt;dbl&gt;</th></tr>\n",
       "</thead>\n",
       "<tbody>\n",
       "\t<tr><th scope=row>1</th><td>LOC111099548</td><td>NA</td><td>NA</td><td>NA</td><td>NA</td></tr>\n",
       "\t<tr><th scope=row>2</th><td>LOC111099571</td><td>NA</td><td>NA</td><td>NA</td><td>NA</td></tr>\n",
       "\t<tr><th scope=row>3</th><td>LOC111099585</td><td>NA</td><td>NA</td><td>NA</td><td>NA</td></tr>\n",
       "\t<tr><th scope=row>4</th><td>LOC111099930</td><td>NA</td><td>NA</td><td>NA</td><td>NA</td></tr>\n",
       "\t<tr><th scope=row>5</th><td>LOC111099978</td><td>NA</td><td>NA</td><td>NA</td><td>NA</td></tr>\n",
       "\t<tr><th scope=row>6</th><td>LOC111100608</td><td>NA</td><td>NA</td><td>NA</td><td>NA</td></tr>\n",
       "</tbody>\n",
       "</table>\n"
      ],
      "text/latex": [
       "A data.frame: 6 × 5\n",
       "\\begin{tabular}{r|lllll}\n",
       "  & gene\\_id & name & term & lev & value\\\\\n",
       "  & <chr> & <chr> & <chr> & <int> & <dbl>\\\\\n",
       "\\hline\n",
       "\t1 & LOC111099548 & NA & NA & NA & NA\\\\\n",
       "\t2 & LOC111099571 & NA & NA & NA & NA\\\\\n",
       "\t3 & LOC111099585 & NA & NA & NA & NA\\\\\n",
       "\t4 & LOC111099930 & NA & NA & NA & NA\\\\\n",
       "\t5 & LOC111099978 & NA & NA & NA & NA\\\\\n",
       "\t6 & LOC111100608 & NA & NA & NA & NA\\\\\n",
       "\\end{tabular}\n"
      ],
      "text/markdown": [
       "\n",
       "A data.frame: 6 × 5\n",
       "\n",
       "| <!--/--> | gene_id &lt;chr&gt; | name &lt;chr&gt; | term &lt;chr&gt; | lev &lt;int&gt; | value &lt;dbl&gt; |\n",
       "|---|---|---|---|---|---|\n",
       "| 1 | LOC111099548 | NA | NA | NA | NA |\n",
       "| 2 | LOC111099571 | NA | NA | NA | NA |\n",
       "| 3 | LOC111099585 | NA | NA | NA | NA |\n",
       "| 4 | LOC111099930 | NA | NA | NA | NA |\n",
       "| 5 | LOC111099978 | NA | NA | NA | NA |\n",
       "| 6 | LOC111100608 | NA | NA | NA | NA |\n",
       "\n"
      ],
      "text/plain": [
       "  gene_id      name term lev value\n",
       "1 LOC111099548 NA   NA   NA  NA   \n",
       "2 LOC111099571 NA   NA   NA  NA   \n",
       "3 LOC111099585 NA   NA   NA  NA   \n",
       "4 LOC111099930 NA   NA   NA  NA   \n",
       "5 LOC111099978 NA   NA   NA  NA   \n",
       "6 LOC111100608 NA   NA   NA  NA   "
      ]
     },
     "metadata": {},
     "output_type": "display_data"
    }
   ],
   "source": [
    "# merge my sig DMG with the go-mwu res to see how many GO terms involve my sig DMGs\n",
    "sigDMG_bp <- merge(sigCH, bpCHlog, by = 'seq', all.x = TRUE)\n",
    "\n",
    "colnames(sigDMG_bp)[1] <- 'gene_id'\n",
    "\n",
    "head(sigDMG_bp)"
   ]
  },
  {
   "cell_type": "code",
   "execution_count": 105,
   "id": "8b959247-182e-4840-af92-fe8bba40f82e",
   "metadata": {},
   "outputs": [
    {
     "data": {
      "text/html": [
       "178"
      ],
      "text/latex": [
       "178"
      ],
      "text/markdown": [
       "178"
      ],
      "text/plain": [
       "[1] 178"
      ]
     },
     "metadata": {},
     "output_type": "display_data"
    }
   ],
   "source": [
    "sum(is.na(sigDMG_bp$name))"
   ]
  },
  {
   "cell_type": "code",
   "execution_count": 63,
   "id": "aa3ab817-fc8b-4abc-bd4f-279b1552b8d5",
   "metadata": {},
   "outputs": [
    {
     "data": {
      "text/html": [
       "<style>\n",
       ".list-inline {list-style: none; margin:0; padding: 0}\n",
       ".list-inline>li {display: inline-block}\n",
       ".list-inline>li:not(:last-child)::after {content: \"\\00b7\"; padding: 0 .5ex}\n",
       "</style>\n",
       "<ol class=list-inline><li>193</li><li>1</li></ol>\n"
      ],
      "text/latex": [
       "\\begin{enumerate*}\n",
       "\\item 193\n",
       "\\item 1\n",
       "\\end{enumerate*}\n"
      ],
      "text/markdown": [
       "1. 193\n",
       "2. 1\n",
       "\n",
       "\n"
      ],
      "text/plain": [
       "[1] 193   1"
      ]
     },
     "metadata": {},
     "output_type": "display_data"
    },
    {
     "data": {
      "text/html": [
       "<style>\n",
       ".list-inline {list-style: none; margin:0; padding: 0}\n",
       ".list-inline>li {display: inline-block}\n",
       ".list-inline>li:not(:last-child)::after {content: \"\\00b7\"; padding: 0 .5ex}\n",
       "</style>\n",
       "<ol class=list-inline><li>6755</li><li>5</li></ol>\n"
      ],
      "text/latex": [
       "\\begin{enumerate*}\n",
       "\\item 6755\n",
       "\\item 5\n",
       "\\end{enumerate*}\n"
      ],
      "text/markdown": [
       "1. 6755\n",
       "2. 5\n",
       "\n",
       "\n"
      ],
      "text/plain": [
       "[1] 6755    5"
      ]
     },
     "metadata": {},
     "output_type": "display_data"
    },
    {
     "data": {
      "text/html": [
       "<style>\n",
       ".list-inline {list-style: none; margin:0; padding: 0}\n",
       ".list-inline>li {display: inline-block}\n",
       ".list-inline>li:not(:last-child)::after {content: \"\\00b7\"; padding: 0 .5ex}\n",
       "</style>\n",
       "<ol class=list-inline><li>233</li><li>5</li></ol>\n"
      ],
      "text/latex": [
       "\\begin{enumerate*}\n",
       "\\item 233\n",
       "\\item 5\n",
       "\\end{enumerate*}\n"
      ],
      "text/markdown": [
       "1. 233\n",
       "2. 5\n",
       "\n",
       "\n"
      ],
      "text/plain": [
       "[1] 233   5"
      ]
     },
     "metadata": {},
     "output_type": "display_data"
    }
   ],
   "source": [
    "dim(sigCH) # 193 sig DMG\n",
    "dim(bpCHlog) # 6755 GO terms from go-mwu\n",
    "sum(is.na(sigDMG_bp$name)) # 178 sig DMG without matching GO terms from go-mwu"
   ]
  },
  {
   "cell_type": "markdown",
   "id": "e9c28c5a-f62a-4839-b23f-4ac19a7c757d",
   "metadata": {},
   "source": [
    "there is several genes without matching entries from GO-MWU - they saw the same thing\n",
    "\n",
    "now map to GOslim"
   ]
  },
  {
   "cell_type": "code",
   "execution_count": 54,
   "id": "7f664110-2544-4ef2-ab1b-898822154f8a",
   "metadata": {},
   "outputs": [
    {
     "data": {
      "text/html": [
       "<table class=\"dataframe\">\n",
       "<caption>A data.frame: 6 × 4</caption>\n",
       "<thead>\n",
       "\t<tr><th></th><th scope=col>GO.IDs</th><th scope=col>GOslim</th><th scope=col>Term</th><th scope=col>gene_id</th></tr>\n",
       "\t<tr><th></th><th scope=col>&lt;chr&gt;</th><th scope=col>&lt;chr&gt;</th><th scope=col>&lt;chr&gt;</th><th scope=col>&lt;chr&gt;</th></tr>\n",
       "</thead>\n",
       "<tbody>\n",
       "\t<tr><th scope=row>1</th><td>GO:0000002</td><td>GO:0007005</td><td>mitochondrion organization</td><td>LOC111135903</td></tr>\n",
       "\t<tr><th scope=row>2</th><td>GO:0000012</td><td>GO:0006281</td><td>DNA repair                </td><td>LOC111136704</td></tr>\n",
       "\t<tr><th scope=row>3</th><td>GO:0000012</td><td>GO:0006281</td><td>DNA repair                </td><td>LOC111111498</td></tr>\n",
       "\t<tr><th scope=row>4</th><td>GO:0000012</td><td>GO:0006281</td><td>DNA repair                </td><td>LOC111128516</td></tr>\n",
       "\t<tr><th scope=row>5</th><td>GO:0000012</td><td>GO:0006281</td><td>DNA repair                </td><td>LOC111135354</td></tr>\n",
       "\t<tr><th scope=row>6</th><td>GO:0000012</td><td>GO:0006281</td><td>DNA repair                </td><td>LOC111128425</td></tr>\n",
       "</tbody>\n",
       "</table>\n"
      ],
      "text/latex": [
       "A data.frame: 6 × 4\n",
       "\\begin{tabular}{r|llll}\n",
       "  & GO.IDs & GOslim & Term & gene\\_id\\\\\n",
       "  & <chr> & <chr> & <chr> & <chr>\\\\\n",
       "\\hline\n",
       "\t1 & GO:0000002 & GO:0007005 & mitochondrion organization & LOC111135903\\\\\n",
       "\t2 & GO:0000012 & GO:0006281 & DNA repair                 & LOC111136704\\\\\n",
       "\t3 & GO:0000012 & GO:0006281 & DNA repair                 & LOC111111498\\\\\n",
       "\t4 & GO:0000012 & GO:0006281 & DNA repair                 & LOC111128516\\\\\n",
       "\t5 & GO:0000012 & GO:0006281 & DNA repair                 & LOC111135354\\\\\n",
       "\t6 & GO:0000012 & GO:0006281 & DNA repair                 & LOC111128425\\\\\n",
       "\\end{tabular}\n"
      ],
      "text/markdown": [
       "\n",
       "A data.frame: 6 × 4\n",
       "\n",
       "| <!--/--> | GO.IDs &lt;chr&gt; | GOslim &lt;chr&gt; | Term &lt;chr&gt; | gene_id &lt;chr&gt; |\n",
       "|---|---|---|---|---|\n",
       "| 1 | GO:0000002 | GO:0007005 | mitochondrion organization | LOC111135903 |\n",
       "| 2 | GO:0000012 | GO:0006281 | DNA repair                 | LOC111136704 |\n",
       "| 3 | GO:0000012 | GO:0006281 | DNA repair                 | LOC111111498 |\n",
       "| 4 | GO:0000012 | GO:0006281 | DNA repair                 | LOC111128516 |\n",
       "| 5 | GO:0000012 | GO:0006281 | DNA repair                 | LOC111135354 |\n",
       "| 6 | GO:0000012 | GO:0006281 | DNA repair                 | LOC111128425 |\n",
       "\n"
      ],
      "text/plain": [
       "  GO.IDs     GOslim     Term                       gene_id     \n",
       "1 GO:0000002 GO:0007005 mitochondrion organization LOC111135903\n",
       "2 GO:0000012 GO:0006281 DNA repair                 LOC111136704\n",
       "3 GO:0000012 GO:0006281 DNA repair                 LOC111111498\n",
       "4 GO:0000012 GO:0006281 DNA repair                 LOC111128516\n",
       "5 GO:0000012 GO:0006281 DNA repair                 LOC111135354\n",
       "6 GO:0000012 GO:0006281 DNA repair                 LOC111128425"
      ]
     },
     "metadata": {},
     "output_type": "display_data"
    }
   ],
   "source": [
    "head(gene2GOslim)"
   ]
  },
  {
   "cell_type": "code",
   "execution_count": 59,
   "id": "dfa91c56-186a-4e37-ae7a-d4b0d97548af",
   "metadata": {},
   "outputs": [
    {
     "data": {
      "text/html": [
       "<table class=\"dataframe\">\n",
       "<caption>A data.frame: 6 × 8</caption>\n",
       "<thead>\n",
       "\t<tr><th></th><th scope=col>gene_id</th><th scope=col>name</th><th scope=col>term</th><th scope=col>lev</th><th scope=col>value</th><th scope=col>GO.IDs</th><th scope=col>GOslim</th><th scope=col>Term</th></tr>\n",
       "\t<tr><th></th><th scope=col>&lt;chr&gt;</th><th scope=col>&lt;chr&gt;</th><th scope=col>&lt;chr&gt;</th><th scope=col>&lt;int&gt;</th><th scope=col>&lt;dbl&gt;</th><th scope=col>&lt;chr&gt;</th><th scope=col>&lt;chr&gt;</th><th scope=col>&lt;chr&gt;</th></tr>\n",
       "</thead>\n",
       "<tbody>\n",
       "\t<tr><th scope=row>1</th><td>LOC111099548</td><td>NA</td><td>NA</td><td>NA</td><td>NA</td><td>NA        </td><td>NA        </td><td>NA                    </td></tr>\n",
       "\t<tr><th scope=row>2</th><td>LOC111099571</td><td>NA</td><td>NA</td><td>NA</td><td>NA</td><td>GO:0006398</td><td>GO:0016071</td><td>mRNA metabolic process</td></tr>\n",
       "\t<tr><th scope=row>3</th><td>LOC111099585</td><td>NA</td><td>NA</td><td>NA</td><td>NA</td><td>GO:0006302</td><td>GO:0006281</td><td>DNA repair            </td></tr>\n",
       "\t<tr><th scope=row>4</th><td>LOC111099930</td><td>NA</td><td>NA</td><td>NA</td><td>NA</td><td>NA        </td><td>NA        </td><td>NA                    </td></tr>\n",
       "\t<tr><th scope=row>5</th><td>LOC111099978</td><td>NA</td><td>NA</td><td>NA</td><td>NA</td><td>NA        </td><td>NA        </td><td>NA                    </td></tr>\n",
       "\t<tr><th scope=row>6</th><td>LOC111100608</td><td>NA</td><td>NA</td><td>NA</td><td>NA</td><td>NA        </td><td>NA        </td><td>NA                    </td></tr>\n",
       "</tbody>\n",
       "</table>\n"
      ],
      "text/latex": [
       "A data.frame: 6 × 8\n",
       "\\begin{tabular}{r|llllllll}\n",
       "  & gene\\_id & name & term & lev & value & GO.IDs & GOslim & Term\\\\\n",
       "  & <chr> & <chr> & <chr> & <int> & <dbl> & <chr> & <chr> & <chr>\\\\\n",
       "\\hline\n",
       "\t1 & LOC111099548 & NA & NA & NA & NA & NA         & NA         & NA                    \\\\\n",
       "\t2 & LOC111099571 & NA & NA & NA & NA & GO:0006398 & GO:0016071 & mRNA metabolic process\\\\\n",
       "\t3 & LOC111099585 & NA & NA & NA & NA & GO:0006302 & GO:0006281 & DNA repair            \\\\\n",
       "\t4 & LOC111099930 & NA & NA & NA & NA & NA         & NA         & NA                    \\\\\n",
       "\t5 & LOC111099978 & NA & NA & NA & NA & NA         & NA         & NA                    \\\\\n",
       "\t6 & LOC111100608 & NA & NA & NA & NA & NA         & NA         & NA                    \\\\\n",
       "\\end{tabular}\n"
      ],
      "text/markdown": [
       "\n",
       "A data.frame: 6 × 8\n",
       "\n",
       "| <!--/--> | gene_id &lt;chr&gt; | name &lt;chr&gt; | term &lt;chr&gt; | lev &lt;int&gt; | value &lt;dbl&gt; | GO.IDs &lt;chr&gt; | GOslim &lt;chr&gt; | Term &lt;chr&gt; |\n",
       "|---|---|---|---|---|---|---|---|---|\n",
       "| 1 | LOC111099548 | NA | NA | NA | NA | NA         | NA         | NA                     |\n",
       "| 2 | LOC111099571 | NA | NA | NA | NA | GO:0006398 | GO:0016071 | mRNA metabolic process |\n",
       "| 3 | LOC111099585 | NA | NA | NA | NA | GO:0006302 | GO:0006281 | DNA repair             |\n",
       "| 4 | LOC111099930 | NA | NA | NA | NA | NA         | NA         | NA                     |\n",
       "| 5 | LOC111099978 | NA | NA | NA | NA | NA         | NA         | NA                     |\n",
       "| 6 | LOC111100608 | NA | NA | NA | NA | NA         | NA         | NA                     |\n",
       "\n"
      ],
      "text/plain": [
       "  gene_id      name term lev value GO.IDs     GOslim     Term                  \n",
       "1 LOC111099548 NA   NA   NA  NA    NA         NA         NA                    \n",
       "2 LOC111099571 NA   NA   NA  NA    GO:0006398 GO:0016071 mRNA metabolic process\n",
       "3 LOC111099585 NA   NA   NA  NA    GO:0006302 GO:0006281 DNA repair            \n",
       "4 LOC111099930 NA   NA   NA  NA    NA         NA         NA                    \n",
       "5 LOC111099978 NA   NA   NA  NA    NA         NA         NA                    \n",
       "6 LOC111100608 NA   NA   NA  NA    NA         NA         NA                    "
      ]
     },
     "metadata": {},
     "output_type": "display_data"
    }
   ],
   "source": [
    "sigCH2GOslim <- merge(sigDMG_bp, gene2GOslim, by = 'gene_id', all.x = TRUE)\n",
    "head(sigCH2GOslim)"
   ]
  },
  {
   "cell_type": "code",
   "execution_count": 62,
   "id": "2103f7ca-d830-4d30-a67a-82e91aca9bb6",
   "metadata": {},
   "outputs": [
    {
     "data": {
      "text/html": [
       "<style>\n",
       ".list-inline {list-style: none; margin:0; padding: 0}\n",
       ".list-inline>li {display: inline-block}\n",
       ".list-inline>li:not(:last-child)::after {content: \"\\00b7\"; padding: 0 .5ex}\n",
       "</style>\n",
       "<ol class=list-inline><li>193</li><li>1</li></ol>\n"
      ],
      "text/latex": [
       "\\begin{enumerate*}\n",
       "\\item 193\n",
       "\\item 1\n",
       "\\end{enumerate*}\n"
      ],
      "text/markdown": [
       "1. 193\n",
       "2. 1\n",
       "\n",
       "\n"
      ],
      "text/plain": [
       "[1] 193   1"
      ]
     },
     "metadata": {},
     "output_type": "display_data"
    }
   ],
   "source": [
    "dim(sigCH)"
   ]
  },
  {
   "cell_type": "code",
   "execution_count": 65,
   "id": "7d7fc354-adc2-4272-a5a6-9a9206cb8677",
   "metadata": {},
   "outputs": [
    {
     "data": {
      "text/html": [
       "<style>\n",
       ".list-inline {list-style: none; margin:0; padding: 0}\n",
       ".list-inline>li {display: inline-block}\n",
       ".list-inline>li:not(:last-child)::after {content: \"\\00b7\"; padding: 0 .5ex}\n",
       "</style>\n",
       "<ol class=list-inline><li>280</li><li>8</li></ol>\n"
      ],
      "text/latex": [
       "\\begin{enumerate*}\n",
       "\\item 280\n",
       "\\item 8\n",
       "\\end{enumerate*}\n"
      ],
      "text/markdown": [
       "1. 280\n",
       "2. 8\n",
       "\n",
       "\n"
      ],
      "text/plain": [
       "[1] 280   8"
      ]
     },
     "metadata": {},
     "output_type": "display_data"
    }
   ],
   "source": [
    "dim(sigCH2GOslim)"
   ]
  },
  {
   "cell_type": "code",
   "execution_count": 66,
   "id": "cd4203f2-d57c-422b-b3b7-c82ba740513e",
   "metadata": {},
   "outputs": [
    {
     "data": {
      "text/html": [
       "178"
      ],
      "text/latex": [
       "178"
      ],
      "text/markdown": [
       "178"
      ],
      "text/plain": [
       "[1] 178"
      ]
     },
     "metadata": {},
     "output_type": "display_data"
    }
   ],
   "source": [
    "sum(is.na(sigDMG_bp$name)) # 178/6755"
   ]
  },
  {
   "cell_type": "markdown",
   "id": "d3c8df93-4a50-4cd6-9e23-059f1831428f",
   "metadata": {
    "jp-MarkdownHeadingCollapsed": true,
    "tags": []
   },
   "source": [
    "## HH vs. HC"
   ]
  },
  {
   "cell_type": "code",
   "execution_count": 68,
   "id": "7b2e02fd-7a26-474e-bd9b-b3479275b915",
   "metadata": {},
   "outputs": [
    {
     "data": {
      "text/html": [
       "76"
      ],
      "text/latex": [
       "76"
      ],
      "text/markdown": [
       "76"
      ],
      "text/plain": [
       "[1] 76"
      ]
     },
     "metadata": {},
     "output_type": "display_data"
    },
    {
     "data": {
      "text/html": [
       "<style>\n",
       ".list-inline {list-style: none; margin:0; padding: 0}\n",
       ".list-inline>li {display: inline-block}\n",
       ".list-inline>li:not(:last-child)::after {content: \"\\00b7\"; padding: 0 .5ex}\n",
       "</style>\n",
       "<ol class=list-inline><li>'LOC111099548'</li><li>'LOC111099571'</li><li>'LOC111099930'</li><li>'LOC111100608'</li><li>'LOC111101237'</li><li>'LOC111101984'</li></ol>\n"
      ],
      "text/latex": [
       "\\begin{enumerate*}\n",
       "\\item 'LOC111099548'\n",
       "\\item 'LOC111099571'\n",
       "\\item 'LOC111099930'\n",
       "\\item 'LOC111100608'\n",
       "\\item 'LOC111101237'\n",
       "\\item 'LOC111101984'\n",
       "\\end{enumerate*}\n"
      ],
      "text/markdown": [
       "1. 'LOC111099548'\n",
       "2. 'LOC111099571'\n",
       "3. 'LOC111099930'\n",
       "4. 'LOC111100608'\n",
       "5. 'LOC111101237'\n",
       "6. 'LOC111101984'\n",
       "\n",
       "\n"
      ],
      "text/plain": [
       "[1] \"LOC111099548\" \"LOC111099571\" \"LOC111099930\" \"LOC111100608\" \"LOC111101237\"\n",
       "[6] \"LOC111101984\""
      ]
     },
     "metadata": {},
     "output_type": "display_data"
    }
   ],
   "source": [
    "# list of sig. DMG from CH vs. HC\n",
    "sigHH <- read.csv('/project/pi_sarah_gignouxwolfsohn_uml_edu/julia/CE_MethylRAD_analysis_2018/analysis/deseq_res_files/geneFeatures_res/sig_DMGs/sig_HH_HC_genes.csv')\n",
    "sigHH <- sigHH[,2]\n",
    "\n",
    "length(sigHH)\n",
    "head(sigHH)"
   ]
  },
  {
   "cell_type": "code",
   "execution_count": 69,
   "id": "2aa1d05c-be8f-4471-8e13-3c47a586a647",
   "metadata": {},
   "outputs": [
    {
     "data": {
      "text/html": [
       "<table class=\"dataframe\">\n",
       "<caption>A data.frame: 6 × 4</caption>\n",
       "<thead>\n",
       "\t<tr><th></th><th scope=col>GO.IDs</th><th scope=col>GOslim</th><th scope=col>Term</th><th scope=col>gene_id</th></tr>\n",
       "\t<tr><th></th><th scope=col>&lt;chr&gt;</th><th scope=col>&lt;chr&gt;</th><th scope=col>&lt;chr&gt;</th><th scope=col>&lt;chr&gt;</th></tr>\n",
       "</thead>\n",
       "<tbody>\n",
       "\t<tr><th scope=row>2</th><td>GO:0000012</td><td>GO:0006281           </td><td>DNA repair                                             </td><td>LOC111136704</td></tr>\n",
       "\t<tr><th scope=row>5</th><td>GO:0000012</td><td>GO:0006281           </td><td>DNA repair                                             </td><td>LOC111135354</td></tr>\n",
       "\t<tr><th scope=row>8</th><td>GO:0000012</td><td>GO:0006281           </td><td>DNA repair                                             </td><td>LOC111111868</td></tr>\n",
       "\t<tr><th scope=row>11</th><td>GO:0000027</td><td>GO:0042254;GO:0065003</td><td>ribosome biogenesis;protein-containing complex assembly</td><td>LOC111121958</td></tr>\n",
       "\t<tr><th scope=row>12</th><td>GO:0000027</td><td>GO:0042254;GO:0065003</td><td>ribosome biogenesis;protein-containing complex assembly</td><td>LOC111120892</td></tr>\n",
       "\t<tr><th scope=row>14</th><td>GO:0000027</td><td>GO:0042254;GO:0065003</td><td>ribosome biogenesis;protein-containing complex assembly</td><td>LOC111135538</td></tr>\n",
       "</tbody>\n",
       "</table>\n"
      ],
      "text/latex": [
       "A data.frame: 6 × 4\n",
       "\\begin{tabular}{r|llll}\n",
       "  & GO.IDs & GOslim & Term & gene\\_id\\\\\n",
       "  & <chr> & <chr> & <chr> & <chr>\\\\\n",
       "\\hline\n",
       "\t2 & GO:0000012 & GO:0006281            & DNA repair                                              & LOC111136704\\\\\n",
       "\t5 & GO:0000012 & GO:0006281            & DNA repair                                              & LOC111135354\\\\\n",
       "\t8 & GO:0000012 & GO:0006281            & DNA repair                                              & LOC111111868\\\\\n",
       "\t11 & GO:0000027 & GO:0042254;GO:0065003 & ribosome biogenesis;protein-containing complex assembly & LOC111121958\\\\\n",
       "\t12 & GO:0000027 & GO:0042254;GO:0065003 & ribosome biogenesis;protein-containing complex assembly & LOC111120892\\\\\n",
       "\t14 & GO:0000027 & GO:0042254;GO:0065003 & ribosome biogenesis;protein-containing complex assembly & LOC111135538\\\\\n",
       "\\end{tabular}\n"
      ],
      "text/markdown": [
       "\n",
       "A data.frame: 6 × 4\n",
       "\n",
       "| <!--/--> | GO.IDs &lt;chr&gt; | GOslim &lt;chr&gt; | Term &lt;chr&gt; | gene_id &lt;chr&gt; |\n",
       "|---|---|---|---|---|\n",
       "| 2 | GO:0000012 | GO:0006281            | DNA repair                                              | LOC111136704 |\n",
       "| 5 | GO:0000012 | GO:0006281            | DNA repair                                              | LOC111135354 |\n",
       "| 8 | GO:0000012 | GO:0006281            | DNA repair                                              | LOC111111868 |\n",
       "| 11 | GO:0000027 | GO:0042254;GO:0065003 | ribosome biogenesis;protein-containing complex assembly | LOC111121958 |\n",
       "| 12 | GO:0000027 | GO:0042254;GO:0065003 | ribosome biogenesis;protein-containing complex assembly | LOC111120892 |\n",
       "| 14 | GO:0000027 | GO:0042254;GO:0065003 | ribosome biogenesis;protein-containing complex assembly | LOC111135538 |\n",
       "\n"
      ],
      "text/plain": [
       "   GO.IDs     GOslim               \n",
       "2  GO:0000012 GO:0006281           \n",
       "5  GO:0000012 GO:0006281           \n",
       "8  GO:0000012 GO:0006281           \n",
       "11 GO:0000027 GO:0042254;GO:0065003\n",
       "12 GO:0000027 GO:0042254;GO:0065003\n",
       "14 GO:0000027 GO:0042254;GO:0065003\n",
       "   Term                                                    gene_id     \n",
       "2  DNA repair                                              LOC111136704\n",
       "5  DNA repair                                              LOC111135354\n",
       "8  DNA repair                                              LOC111111868\n",
       "11 ribosome biogenesis;protein-containing complex assembly LOC111121958\n",
       "12 ribosome biogenesis;protein-containing complex assembly LOC111120892\n",
       "14 ribosome biogenesis;protein-containing complex assembly LOC111135538"
      ]
     },
     "metadata": {},
     "output_type": "display_data"
    }
   ],
   "source": [
    "HH_goSlim <- gene2GOslim[sigHH %in% gene2GOslim$gene_id,]\n",
    "head(HH_goSlim)"
   ]
  },
  {
   "cell_type": "code",
   "execution_count": 70,
   "id": "879c92c4-a032-4b83-85ee-e3909342a4fe",
   "metadata": {},
   "outputs": [
    {
     "data": {
      "text/html": [
       "<table class=\"dataframe\">\n",
       "<caption>A tibble: 6 × 4</caption>\n",
       "<thead>\n",
       "\t<tr><th scope=col>GO.IDs</th><th scope=col>GOslim</th><th scope=col>Term</th><th scope=col>gene_id</th></tr>\n",
       "\t<tr><th scope=col>&lt;chr&gt;</th><th scope=col>&lt;chr&gt;</th><th scope=col>&lt;chr&gt;</th><th scope=col>&lt;chr&gt;</th></tr>\n",
       "</thead>\n",
       "<tbody>\n",
       "\t<tr><td>GO:0000012</td><td>GO:0006281</td><td>DNA repair                         </td><td>LOC111136704</td></tr>\n",
       "\t<tr><td>GO:0000012</td><td>GO:0006281</td><td>DNA repair                         </td><td>LOC111135354</td></tr>\n",
       "\t<tr><td>GO:0000012</td><td>GO:0006281</td><td>DNA repair                         </td><td>LOC111111868</td></tr>\n",
       "\t<tr><td>GO:0000027</td><td>GO:0042254</td><td>ribosome biogenesis                </td><td>LOC111121958</td></tr>\n",
       "\t<tr><td>GO:0000027</td><td>GO:0042254</td><td>protein-containing complex assembly</td><td>LOC111121958</td></tr>\n",
       "\t<tr><td>GO:0000027</td><td>GO:0065003</td><td>ribosome biogenesis                </td><td>LOC111121958</td></tr>\n",
       "</tbody>\n",
       "</table>\n"
      ],
      "text/latex": [
       "A tibble: 6 × 4\n",
       "\\begin{tabular}{llll}\n",
       " GO.IDs & GOslim & Term & gene\\_id\\\\\n",
       " <chr> & <chr> & <chr> & <chr>\\\\\n",
       "\\hline\n",
       "\t GO:0000012 & GO:0006281 & DNA repair                          & LOC111136704\\\\\n",
       "\t GO:0000012 & GO:0006281 & DNA repair                          & LOC111135354\\\\\n",
       "\t GO:0000012 & GO:0006281 & DNA repair                          & LOC111111868\\\\\n",
       "\t GO:0000027 & GO:0042254 & ribosome biogenesis                 & LOC111121958\\\\\n",
       "\t GO:0000027 & GO:0042254 & protein-containing complex assembly & LOC111121958\\\\\n",
       "\t GO:0000027 & GO:0065003 & ribosome biogenesis                 & LOC111121958\\\\\n",
       "\\end{tabular}\n"
      ],
      "text/markdown": [
       "\n",
       "A tibble: 6 × 4\n",
       "\n",
       "| GO.IDs &lt;chr&gt; | GOslim &lt;chr&gt; | Term &lt;chr&gt; | gene_id &lt;chr&gt; |\n",
       "|---|---|---|---|\n",
       "| GO:0000012 | GO:0006281 | DNA repair                          | LOC111136704 |\n",
       "| GO:0000012 | GO:0006281 | DNA repair                          | LOC111135354 |\n",
       "| GO:0000012 | GO:0006281 | DNA repair                          | LOC111111868 |\n",
       "| GO:0000027 | GO:0042254 | ribosome biogenesis                 | LOC111121958 |\n",
       "| GO:0000027 | GO:0042254 | protein-containing complex assembly | LOC111121958 |\n",
       "| GO:0000027 | GO:0065003 | ribosome biogenesis                 | LOC111121958 |\n",
       "\n"
      ],
      "text/plain": [
       "  GO.IDs     GOslim     Term                                gene_id     \n",
       "1 GO:0000012 GO:0006281 DNA repair                          LOC111136704\n",
       "2 GO:0000012 GO:0006281 DNA repair                          LOC111135354\n",
       "3 GO:0000012 GO:0006281 DNA repair                          LOC111111868\n",
       "4 GO:0000027 GO:0042254 ribosome biogenesis                 LOC111121958\n",
       "5 GO:0000027 GO:0042254 protein-containing complex assembly LOC111121958\n",
       "6 GO:0000027 GO:0065003 ribosome biogenesis                 LOC111121958"
      ]
     },
     "metadata": {},
     "output_type": "display_data"
    }
   ],
   "source": [
    "flat.HH_goSlim <- HH_goSlim %>% separate_rows(!!sym('GOslim'), sep = \";\")\n",
    "\n",
    "flat.HH_goSlim <- flat.HH_goSlim %>% separate_rows(!!sym('Term'), sep = \";\") \n",
    "head(flat.HH_goSlim)"
   ]
  },
  {
   "cell_type": "code",
   "execution_count": 71,
   "id": "83d408a2-07de-4374-ac48-e288102d19be",
   "metadata": {},
   "outputs": [
    {
     "data": {
      "image/png": "[encoded data removed]",
      "text/plain": [
       "plot without title"
      ]
     },
     "metadata": {
      "image/png": {
       "height": 420,
       "width": 420
      }
     },
     "output_type": "display_data"
    }
   ],
   "source": [
    "HH_goSlim_DMG <- flat.HH_goSlim %>% \n",
    "  count(Term, sort = TRUE) %>% \n",
    "  mutate(Percent = n / sum(n) * 100) %>% \n",
    "  ggplot(aes(x=reorder(Term, Percent), y=Percent)) +\n",
    "  geom_col(fill = 'deeppink2') +\n",
    "  labs(x=\"Term\", y=\"Percent\") +\n",
    "  theme_bw() +\n",
    "coord_flip()\n",
    "\n",
    "HH_goSlim_DMG"
   ]
  },
  {
   "cell_type": "markdown",
   "id": "3858fe3f-8120-479a-aca2-9e39cbbd8830",
   "metadata": {
    "jp-MarkdownHeadingCollapsed": true,
    "tags": []
   },
   "source": [
    "## CC vs. HC"
   ]
  },
  {
   "cell_type": "code",
   "execution_count": 108,
   "id": "4e3b76bd-ad89-4df1-830a-b9015e4a1479",
   "metadata": {},
   "outputs": [
    {
     "data": {
      "text/html": [
       "<table class=\"dataframe\">\n",
       "<caption>A data.frame: 6 × 9</caption>\n",
       "<thead>\n",
       "\t<tr><th></th><th scope=col>X</th><th scope=col>symbol</th><th scope=col>baseMean</th><th scope=col>log2FC</th><th scope=col>lfcSE</th><th scope=col>stat</th><th scope=col>pvalue</th><th scope=col>padj</th><th scope=col>name</th></tr>\n",
       "\t<tr><th></th><th scope=col>&lt;int&gt;</th><th scope=col>&lt;chr&gt;</th><th scope=col>&lt;dbl&gt;</th><th scope=col>&lt;dbl&gt;</th><th scope=col>&lt;dbl&gt;</th><th scope=col>&lt;dbl&gt;</th><th scope=col>&lt;dbl&gt;</th><th scope=col>&lt;dbl&gt;</th><th scope=col>&lt;chr&gt;</th></tr>\n",
       "</thead>\n",
       "<tbody>\n",
       "\t<tr><th scope=row>1</th><td>1</td><td>LOC111103344</td><td>497.52024</td><td>-1.193080</td><td>0.2105031</td><td>-4.480123</td><td>7.460015e-06</td><td>0.01869231</td><td>uncharacterized LOC111103344, transcript variant X7                                       </td></tr>\n",
       "\t<tr><th scope=row>2</th><td>2</td><td>LOC111115023</td><td> 20.27520</td><td>-1.349383</td><td>0.2740700</td><td>-4.011321</td><td>6.038007e-05</td><td>0.04126154</td><td>uncharacterized LOC111115023                                                              </td></tr>\n",
       "\t<tr><th scope=row>3</th><td>3</td><td>LOC111117745</td><td>123.41704</td><td>-1.135814</td><td>0.2070067</td><td>-4.279157</td><td>1.876021e-05</td><td>0.02350342</td><td>uncharacterized LOC111117745, transcript variant X5                                       </td></tr>\n",
       "\t<tr><th scope=row>4</th><td>4</td><td>LOC111117760</td><td>138.87250</td><td>-1.494878</td><td>0.2901102</td><td>-4.291052</td><td>1.778290e-05</td><td>0.02350342</td><td>disintegrin and metalloproteinase domain-containing protein 10-like, transcript variant X3</td></tr>\n",
       "\t<tr><th scope=row>5</th><td>5</td><td>LOC111118022</td><td> 19.27594</td><td>-1.664142</td><td>0.3486511</td><td>-4.056038</td><td>4.991215e-05</td><td>0.03751897</td><td>exocyst complex component 7-like, transcript variant X1                                   </td></tr>\n",
       "\t<tr><th scope=row>6</th><td>6</td><td>LOC111119327</td><td> 13.31739</td><td>-1.507178</td><td>0.3154716</td><td>-3.985075</td><td>6.745881e-05</td><td>0.04225732</td><td>calcyphosin-like protein, transcript variant X3                                           </td></tr>\n",
       "</tbody>\n",
       "</table>\n"
      ],
      "text/latex": [
       "A data.frame: 6 × 9\n",
       "\\begin{tabular}{r|lllllllll}\n",
       "  & X & symbol & baseMean & log2FC & lfcSE & stat & pvalue & padj & name\\\\\n",
       "  & <int> & <chr> & <dbl> & <dbl> & <dbl> & <dbl> & <dbl> & <dbl> & <chr>\\\\\n",
       "\\hline\n",
       "\t1 & 1 & LOC111103344 & 497.52024 & -1.193080 & 0.2105031 & -4.480123 & 7.460015e-06 & 0.01869231 & uncharacterized LOC111103344, transcript variant X7                                       \\\\\n",
       "\t2 & 2 & LOC111115023 &  20.27520 & -1.349383 & 0.2740700 & -4.011321 & 6.038007e-05 & 0.04126154 & uncharacterized LOC111115023                                                              \\\\\n",
       "\t3 & 3 & LOC111117745 & 123.41704 & -1.135814 & 0.2070067 & -4.279157 & 1.876021e-05 & 0.02350342 & uncharacterized LOC111117745, transcript variant X5                                       \\\\\n",
       "\t4 & 4 & LOC111117760 & 138.87250 & -1.494878 & 0.2901102 & -4.291052 & 1.778290e-05 & 0.02350342 & disintegrin and metalloproteinase domain-containing protein 10-like, transcript variant X3\\\\\n",
       "\t5 & 5 & LOC111118022 &  19.27594 & -1.664142 & 0.3486511 & -4.056038 & 4.991215e-05 & 0.03751897 & exocyst complex component 7-like, transcript variant X1                                   \\\\\n",
       "\t6 & 6 & LOC111119327 &  13.31739 & -1.507178 & 0.3154716 & -3.985075 & 6.745881e-05 & 0.04225732 & calcyphosin-like protein, transcript variant X3                                           \\\\\n",
       "\\end{tabular}\n"
      ],
      "text/markdown": [
       "\n",
       "A data.frame: 6 × 9\n",
       "\n",
       "| <!--/--> | X &lt;int&gt; | symbol &lt;chr&gt; | baseMean &lt;dbl&gt; | log2FC &lt;dbl&gt; | lfcSE &lt;dbl&gt; | stat &lt;dbl&gt; | pvalue &lt;dbl&gt; | padj &lt;dbl&gt; | name &lt;chr&gt; |\n",
       "|---|---|---|---|---|---|---|---|---|---|\n",
       "| 1 | 1 | LOC111103344 | 497.52024 | -1.193080 | 0.2105031 | -4.480123 | 7.460015e-06 | 0.01869231 | uncharacterized LOC111103344, transcript variant X7                                        |\n",
       "| 2 | 2 | LOC111115023 |  20.27520 | -1.349383 | 0.2740700 | -4.011321 | 6.038007e-05 | 0.04126154 | uncharacterized LOC111115023                                                               |\n",
       "| 3 | 3 | LOC111117745 | 123.41704 | -1.135814 | 0.2070067 | -4.279157 | 1.876021e-05 | 0.02350342 | uncharacterized LOC111117745, transcript variant X5                                        |\n",
       "| 4 | 4 | LOC111117760 | 138.87250 | -1.494878 | 0.2901102 | -4.291052 | 1.778290e-05 | 0.02350342 | disintegrin and metalloproteinase domain-containing protein 10-like, transcript variant X3 |\n",
       "| 5 | 5 | LOC111118022 |  19.27594 | -1.664142 | 0.3486511 | -4.056038 | 4.991215e-05 | 0.03751897 | exocyst complex component 7-like, transcript variant X1                                    |\n",
       "| 6 | 6 | LOC111119327 |  13.31739 | -1.507178 | 0.3154716 | -3.985075 | 6.745881e-05 | 0.04225732 | calcyphosin-like protein, transcript variant X3                                            |\n",
       "\n"
      ],
      "text/plain": [
       "  X symbol       baseMean  log2FC    lfcSE     stat      pvalue      \n",
       "1 1 LOC111103344 497.52024 -1.193080 0.2105031 -4.480123 7.460015e-06\n",
       "2 2 LOC111115023  20.27520 -1.349383 0.2740700 -4.011321 6.038007e-05\n",
       "3 3 LOC111117745 123.41704 -1.135814 0.2070067 -4.279157 1.876021e-05\n",
       "4 4 LOC111117760 138.87250 -1.494878 0.2901102 -4.291052 1.778290e-05\n",
       "5 5 LOC111118022  19.27594 -1.664142 0.3486511 -4.056038 4.991215e-05\n",
       "6 6 LOC111119327  13.31739 -1.507178 0.3154716 -3.985075 6.745881e-05\n",
       "  padj      \n",
       "1 0.01869231\n",
       "2 0.04126154\n",
       "3 0.02350342\n",
       "4 0.02350342\n",
       "5 0.03751897\n",
       "6 0.04225732\n",
       "  name                                                                                      \n",
       "1 uncharacterized LOC111103344, transcript variant X7                                       \n",
       "2 uncharacterized LOC111115023                                                              \n",
       "3 uncharacterized LOC111117745, transcript variant X5                                       \n",
       "4 disintegrin and metalloproteinase domain-containing protein 10-like, transcript variant X3\n",
       "5 exocyst complex component 7-like, transcript variant X1                                   \n",
       "6 calcyphosin-like protein, transcript variant X3                                           "
      ]
     },
     "metadata": {},
     "output_type": "display_data"
    }
   ],
   "source": [
    "# list of sig. DMG from CH vs. HC\n",
    "sigCC <- read.csv('/project/pi_sarah_gignouxwolfsohn_uml_edu/julia/CE_MethylRAD_analysis_2018/analysis/deseq_res_files/geneFeatures_res/sig_DMGs/sig_CC_HC_genes.csv')\n",
    "\n",
    "head(sigCC)"
   ]
  },
  {
   "cell_type": "code",
   "execution_count": 109,
   "id": "9bbb8f3b-09a5-4b1f-96fe-8708a7dc4eff",
   "metadata": {},
   "outputs": [
    {
     "data": {
      "text/html": [
       "<table class=\"dataframe\">\n",
       "<caption>A data.frame: 0 × 4</caption>\n",
       "<thead>\n",
       "\t<tr><th scope=col>GO.IDs</th><th scope=col>GOslim</th><th scope=col>Term</th><th scope=col>gene_id</th></tr>\n",
       "\t<tr><th scope=col>&lt;chr&gt;</th><th scope=col>&lt;chr&gt;</th><th scope=col>&lt;chr&gt;</th><th scope=col>&lt;chr&gt;</th></tr>\n",
       "</thead>\n",
       "<tbody>\n",
       "</tbody>\n",
       "</table>\n"
      ],
      "text/latex": [
       "A data.frame: 0 × 4\n",
       "\\begin{tabular}{llll}\n",
       " GO.IDs & GOslim & Term & gene\\_id\\\\\n",
       " <chr> & <chr> & <chr> & <chr>\\\\\n",
       "\\hline\n",
       "\\end{tabular}\n"
      ],
      "text/markdown": [
       "\n",
       "A data.frame: 0 × 4\n",
       "\n",
       "| GO.IDs &lt;chr&gt; | GOslim &lt;chr&gt; | Term &lt;chr&gt; | gene_id &lt;chr&gt; |\n",
       "|---|---|---|---|\n",
       "\n"
      ],
      "text/plain": [
       "     GO.IDs GOslim Term gene_id"
      ]
     },
     "metadata": {},
     "output_type": "display_data"
    }
   ],
   "source": [
    "CC_goSlim <- gene2GOslim[sigCC$symbol %in% gene2GOslim$gene_id,]\n",
    "head(CC_goSlim)"
   ]
  },
  {
   "cell_type": "code",
   "execution_count": 117,
   "id": "cb64993a-93d7-4dc3-98a0-ce4bc44a22fa",
   "metadata": {},
   "outputs": [
    {
     "data": {
      "text/html": [
       "<table class=\"dataframe\">\n",
       "<caption>A tibble: 6 × 2</caption>\n",
       "<thead>\n",
       "\t<tr><th scope=col>gene_id</th><th scope=col>GO.IDs</th></tr>\n",
       "\t<tr><th scope=col>&lt;chr&gt;</th><th scope=col>&lt;chr&gt;</th></tr>\n",
       "</thead>\n",
       "<tbody>\n",
       "\t<tr><td>LOC111101101</td><td>GO:0007015</td></tr>\n",
       "\t<tr><td>LOC111101101</td><td>GO:0097435</td></tr>\n",
       "\t<tr><td>LOC111108074</td><td>GO:0007015</td></tr>\n",
       "\t<tr><td>LOC111108074</td><td>GO:0097435</td></tr>\n",
       "\t<tr><td>LOC111109780</td><td>GO:0007015</td></tr>\n",
       "\t<tr><td>LOC111109780</td><td>GO:0097435</td></tr>\n",
       "</tbody>\n",
       "</table>\n"
      ],
      "text/latex": [
       "A tibble: 6 × 2\n",
       "\\begin{tabular}{ll}\n",
       " gene\\_id & GO.IDs\\\\\n",
       " <chr> & <chr>\\\\\n",
       "\\hline\n",
       "\t LOC111101101 & GO:0007015\\\\\n",
       "\t LOC111101101 & GO:0097435\\\\\n",
       "\t LOC111108074 & GO:0007015\\\\\n",
       "\t LOC111108074 & GO:0097435\\\\\n",
       "\t LOC111109780 & GO:0007015\\\\\n",
       "\t LOC111109780 & GO:0097435\\\\\n",
       "\\end{tabular}\n"
      ],
      "text/markdown": [
       "\n",
       "A tibble: 6 × 2\n",
       "\n",
       "| gene_id &lt;chr&gt; | GO.IDs &lt;chr&gt; |\n",
       "|---|---|\n",
       "| LOC111101101 | GO:0007015 |\n",
       "| LOC111101101 | GO:0097435 |\n",
       "| LOC111108074 | GO:0007015 |\n",
       "| LOC111108074 | GO:0097435 |\n",
       "| LOC111109780 | GO:0007015 |\n",
       "| LOC111109780 | GO:0097435 |\n",
       "\n"
      ],
      "text/plain": [
       "  gene_id      GO.IDs    \n",
       "1 LOC111101101 GO:0007015\n",
       "2 LOC111101101 GO:0097435\n",
       "3 LOC111108074 GO:0007015\n",
       "4 LOC111108074 GO:0097435\n",
       "5 LOC111109780 GO:0007015\n",
       "6 LOC111109780 GO:0097435"
      ]
     },
     "metadata": {},
     "output_type": "display_data"
    },
    {
     "data": {
      "text/html": [
       "<table class=\"dataframe\">\n",
       "<caption>A data.frame: 12 × 9</caption>\n",
       "<thead>\n",
       "\t<tr><th scope=col>X</th><th scope=col>symbol</th><th scope=col>baseMean</th><th scope=col>log2FC</th><th scope=col>lfcSE</th><th scope=col>stat</th><th scope=col>pvalue</th><th scope=col>padj</th><th scope=col>name</th></tr>\n",
       "\t<tr><th scope=col>&lt;int&gt;</th><th scope=col>&lt;chr&gt;</th><th scope=col>&lt;dbl&gt;</th><th scope=col>&lt;dbl&gt;</th><th scope=col>&lt;dbl&gt;</th><th scope=col>&lt;dbl&gt;</th><th scope=col>&lt;dbl&gt;</th><th scope=col>&lt;dbl&gt;</th><th scope=col>&lt;chr&gt;</th></tr>\n",
       "</thead>\n",
       "<tbody>\n",
       "\t<tr><td> 1</td><td>LOC111103344</td><td>497.52024</td><td>-1.1930798</td><td>0.2105031</td><td>-4.480123</td><td>7.460015e-06</td><td>0.018692311</td><td>uncharacterized LOC111103344, transcript variant X7                                       </td></tr>\n",
       "\t<tr><td> 2</td><td>LOC111115023</td><td> 20.27520</td><td>-1.3493827</td><td>0.2740700</td><td>-4.011321</td><td>6.038007e-05</td><td>0.041261543</td><td>uncharacterized LOC111115023                                                              </td></tr>\n",
       "\t<tr><td> 3</td><td>LOC111117745</td><td>123.41704</td><td>-1.1358142</td><td>0.2070067</td><td>-4.279157</td><td>1.876021e-05</td><td>0.023503416</td><td>uncharacterized LOC111117745, transcript variant X5                                       </td></tr>\n",
       "\t<tr><td> 4</td><td>LOC111117760</td><td>138.87250</td><td>-1.4948780</td><td>0.2901102</td><td>-4.291052</td><td>1.778290e-05</td><td>0.023503416</td><td>disintegrin and metalloproteinase domain-containing protein 10-like, transcript variant X3</td></tr>\n",
       "\t<tr><td> 5</td><td>LOC111118022</td><td> 19.27594</td><td>-1.6641421</td><td>0.3486511</td><td>-4.056038</td><td>4.991215e-05</td><td>0.037518966</td><td>exocyst complex component 7-like, transcript variant X1                                   </td></tr>\n",
       "\t<tr><td> 6</td><td>LOC111119327</td><td> 13.31739</td><td>-1.5071778</td><td>0.3154716</td><td>-3.985075</td><td>6.745881e-05</td><td>0.042257323</td><td>calcyphosin-like protein, transcript variant X3                                           </td></tr>\n",
       "\t<tr><td> 7</td><td>LOC111123492</td><td> 43.91933</td><td>-1.2645908</td><td>0.2211555</td><td>-4.587681</td><td>4.481962e-06</td><td>0.016845456</td><td>pre-B-cell leukemia transcription factor 1-like, transcript variant X11                   </td></tr>\n",
       "\t<tr><td> 8</td><td>LOC111124674</td><td> 17.57497</td><td>-1.4067061</td><td>0.2805413</td><td>-4.123123</td><td>3.737706e-05</td><td>0.036303375</td><td>gamma-glutamyltranspeptidase 1-like, transcript variant X1                                </td></tr>\n",
       "\t<tr><td> 9</td><td>LOC111129146</td><td> 22.23491</td><td> 1.3427188</td><td>0.2551562</td><td> 4.282548</td><td>1.847653e-05</td><td>0.023503416</td><td>FERM domain-containing protein 8-like                                                     </td></tr>\n",
       "\t<tr><td>10</td><td>LOC111132100</td><td> 25.78011</td><td>-1.3964117</td><td>0.2804168</td><td>-4.088242</td><td>4.346553e-05</td><td>0.036303375</td><td>uncharacterized LOC111132100, transcript variant X3                                       </td></tr>\n",
       "\t<tr><td>11</td><td>LOC111133438</td><td> 21.61303</td><td>-1.8064778</td><td>0.3140663</td><td>-4.955889</td><td>7.200032e-07</td><td>0.005412264</td><td>uncharacterized LOC111133438                                                              </td></tr>\n",
       "\t<tr><td>12</td><td>LOC111133874</td><td>106.76763</td><td>-0.9820156</td><td>0.1780116</td><td>-4.112179</td><td>3.919417e-05</td><td>0.036303375</td><td>uncharacterized LOC111133874                                                              </td></tr>\n",
       "</tbody>\n",
       "</table>\n"
      ],
      "text/latex": [
       "A data.frame: 12 × 9\n",
       "\\begin{tabular}{lllllllll}\n",
       " X & symbol & baseMean & log2FC & lfcSE & stat & pvalue & padj & name\\\\\n",
       " <int> & <chr> & <dbl> & <dbl> & <dbl> & <dbl> & <dbl> & <dbl> & <chr>\\\\\n",
       "\\hline\n",
       "\t  1 & LOC111103344 & 497.52024 & -1.1930798 & 0.2105031 & -4.480123 & 7.460015e-06 & 0.018692311 & uncharacterized LOC111103344, transcript variant X7                                       \\\\\n",
       "\t  2 & LOC111115023 &  20.27520 & -1.3493827 & 0.2740700 & -4.011321 & 6.038007e-05 & 0.041261543 & uncharacterized LOC111115023                                                              \\\\\n",
       "\t  3 & LOC111117745 & 123.41704 & -1.1358142 & 0.2070067 & -4.279157 & 1.876021e-05 & 0.023503416 & uncharacterized LOC111117745, transcript variant X5                                       \\\\\n",
       "\t  4 & LOC111117760 & 138.87250 & -1.4948780 & 0.2901102 & -4.291052 & 1.778290e-05 & 0.023503416 & disintegrin and metalloproteinase domain-containing protein 10-like, transcript variant X3\\\\\n",
       "\t  5 & LOC111118022 &  19.27594 & -1.6641421 & 0.3486511 & -4.056038 & 4.991215e-05 & 0.037518966 & exocyst complex component 7-like, transcript variant X1                                   \\\\\n",
       "\t  6 & LOC111119327 &  13.31739 & -1.5071778 & 0.3154716 & -3.985075 & 6.745881e-05 & 0.042257323 & calcyphosin-like protein, transcript variant X3                                           \\\\\n",
       "\t  7 & LOC111123492 &  43.91933 & -1.2645908 & 0.2211555 & -4.587681 & 4.481962e-06 & 0.016845456 & pre-B-cell leukemia transcription factor 1-like, transcript variant X11                   \\\\\n",
       "\t  8 & LOC111124674 &  17.57497 & -1.4067061 & 0.2805413 & -4.123123 & 3.737706e-05 & 0.036303375 & gamma-glutamyltranspeptidase 1-like, transcript variant X1                                \\\\\n",
       "\t  9 & LOC111129146 &  22.23491 &  1.3427188 & 0.2551562 &  4.282548 & 1.847653e-05 & 0.023503416 & FERM domain-containing protein 8-like                                                     \\\\\n",
       "\t 10 & LOC111132100 &  25.78011 & -1.3964117 & 0.2804168 & -4.088242 & 4.346553e-05 & 0.036303375 & uncharacterized LOC111132100, transcript variant X3                                       \\\\\n",
       "\t 11 & LOC111133438 &  21.61303 & -1.8064778 & 0.3140663 & -4.955889 & 7.200032e-07 & 0.005412264 & uncharacterized LOC111133438                                                              \\\\\n",
       "\t 12 & LOC111133874 & 106.76763 & -0.9820156 & 0.1780116 & -4.112179 & 3.919417e-05 & 0.036303375 & uncharacterized LOC111133874                                                              \\\\\n",
       "\\end{tabular}\n"
      ],
      "text/markdown": [
       "\n",
       "A data.frame: 12 × 9\n",
       "\n",
       "| X &lt;int&gt; | symbol &lt;chr&gt; | baseMean &lt;dbl&gt; | log2FC &lt;dbl&gt; | lfcSE &lt;dbl&gt; | stat &lt;dbl&gt; | pvalue &lt;dbl&gt; | padj &lt;dbl&gt; | name &lt;chr&gt; |\n",
       "|---|---|---|---|---|---|---|---|---|\n",
       "|  1 | LOC111103344 | 497.52024 | -1.1930798 | 0.2105031 | -4.480123 | 7.460015e-06 | 0.018692311 | uncharacterized LOC111103344, transcript variant X7                                        |\n",
       "|  2 | LOC111115023 |  20.27520 | -1.3493827 | 0.2740700 | -4.011321 | 6.038007e-05 | 0.041261543 | uncharacterized LOC111115023                                                               |\n",
       "|  3 | LOC111117745 | 123.41704 | -1.1358142 | 0.2070067 | -4.279157 | 1.876021e-05 | 0.023503416 | uncharacterized LOC111117745, transcript variant X5                                        |\n",
       "|  4 | LOC111117760 | 138.87250 | -1.4948780 | 0.2901102 | -4.291052 | 1.778290e-05 | 0.023503416 | disintegrin and metalloproteinase domain-containing protein 10-like, transcript variant X3 |\n",
       "|  5 | LOC111118022 |  19.27594 | -1.6641421 | 0.3486511 | -4.056038 | 4.991215e-05 | 0.037518966 | exocyst complex component 7-like, transcript variant X1                                    |\n",
       "|  6 | LOC111119327 |  13.31739 | -1.5071778 | 0.3154716 | -3.985075 | 6.745881e-05 | 0.042257323 | calcyphosin-like protein, transcript variant X3                                            |\n",
       "|  7 | LOC111123492 |  43.91933 | -1.2645908 | 0.2211555 | -4.587681 | 4.481962e-06 | 0.016845456 | pre-B-cell leukemia transcription factor 1-like, transcript variant X11                    |\n",
       "|  8 | LOC111124674 |  17.57497 | -1.4067061 | 0.2805413 | -4.123123 | 3.737706e-05 | 0.036303375 | gamma-glutamyltranspeptidase 1-like, transcript variant X1                                 |\n",
       "|  9 | LOC111129146 |  22.23491 |  1.3427188 | 0.2551562 |  4.282548 | 1.847653e-05 | 0.023503416 | FERM domain-containing protein 8-like                                                      |\n",
       "| 10 | LOC111132100 |  25.78011 | -1.3964117 | 0.2804168 | -4.088242 | 4.346553e-05 | 0.036303375 | uncharacterized LOC111132100, transcript variant X3                                        |\n",
       "| 11 | LOC111133438 |  21.61303 | -1.8064778 | 0.3140663 | -4.955889 | 7.200032e-07 | 0.005412264 | uncharacterized LOC111133438                                                               |\n",
       "| 12 | LOC111133874 | 106.76763 | -0.9820156 | 0.1780116 | -4.112179 | 3.919417e-05 | 0.036303375 | uncharacterized LOC111133874                                                               |\n",
       "\n"
      ],
      "text/plain": [
       "   X  symbol       baseMean  log2FC     lfcSE     stat      pvalue      \n",
       "1   1 LOC111103344 497.52024 -1.1930798 0.2105031 -4.480123 7.460015e-06\n",
       "2   2 LOC111115023  20.27520 -1.3493827 0.2740700 -4.011321 6.038007e-05\n",
       "3   3 LOC111117745 123.41704 -1.1358142 0.2070067 -4.279157 1.876021e-05\n",
       "4   4 LOC111117760 138.87250 -1.4948780 0.2901102 -4.291052 1.778290e-05\n",
       "5   5 LOC111118022  19.27594 -1.6641421 0.3486511 -4.056038 4.991215e-05\n",
       "6   6 LOC111119327  13.31739 -1.5071778 0.3154716 -3.985075 6.745881e-05\n",
       "7   7 LOC111123492  43.91933 -1.2645908 0.2211555 -4.587681 4.481962e-06\n",
       "8   8 LOC111124674  17.57497 -1.4067061 0.2805413 -4.123123 3.737706e-05\n",
       "9   9 LOC111129146  22.23491  1.3427188 0.2551562  4.282548 1.847653e-05\n",
       "10 10 LOC111132100  25.78011 -1.3964117 0.2804168 -4.088242 4.346553e-05\n",
       "11 11 LOC111133438  21.61303 -1.8064778 0.3140663 -4.955889 7.200032e-07\n",
       "12 12 LOC111133874 106.76763 -0.9820156 0.1780116 -4.112179 3.919417e-05\n",
       "   padj       \n",
       "1  0.018692311\n",
       "2  0.041261543\n",
       "3  0.023503416\n",
       "4  0.023503416\n",
       "5  0.037518966\n",
       "6  0.042257323\n",
       "7  0.016845456\n",
       "8  0.036303375\n",
       "9  0.023503416\n",
       "10 0.036303375\n",
       "11 0.005412264\n",
       "12 0.036303375\n",
       "   name                                                                                      \n",
       "1  uncharacterized LOC111103344, transcript variant X7                                       \n",
       "2  uncharacterized LOC111115023                                                              \n",
       "3  uncharacterized LOC111117745, transcript variant X5                                       \n",
       "4  disintegrin and metalloproteinase domain-containing protein 10-like, transcript variant X3\n",
       "5  exocyst complex component 7-like, transcript variant X1                                   \n",
       "6  calcyphosin-like protein, transcript variant X3                                           \n",
       "7  pre-B-cell leukemia transcription factor 1-like, transcript variant X11                   \n",
       "8  gamma-glutamyltranspeptidase 1-like, transcript variant X1                                \n",
       "9  FERM domain-containing protein 8-like                                                     \n",
       "10 uncharacterized LOC111132100, transcript variant X3                                       \n",
       "11 uncharacterized LOC111133438                                                              \n",
       "12 uncharacterized LOC111133874                                                              "
      ]
     },
     "metadata": {},
     "output_type": "display_data"
    }
   ],
   "source": [
    "head(flat.gene.GO.df)\n",
    "sigCC"
   ]
  },
  {
   "cell_type": "markdown",
   "id": "86e3c89a-0282-4425-a9f8-64bebaabadc4",
   "metadata": {},
   "source": [
    "half of the sig. DMG in CC vs. HC are uncharacterized (6/12) and none of the gene IDs appear in the GOslim files I have - so have to do it the other way..."
   ]
  },
  {
   "cell_type": "markdown",
   "id": "10796dfa-8b34-4a77-8560-d3995dac6a4f",
   "metadata": {},
   "source": [
    "**using OBO**"
   ]
  },
  {
   "cell_type": "code",
   "execution_count": 124,
   "id": "afb0411c-4099-4230-88ad-14bcba4b0def",
   "metadata": {},
   "outputs": [
    {
     "data": {
      "text/html": [
       "<table class=\"dataframe\">\n",
       "<caption>A data.frame: 6 × 2</caption>\n",
       "<thead>\n",
       "\t<tr><th></th><th scope=col>gene_id</th><th scope=col>Gene.Ontology.IDs</th></tr>\n",
       "\t<tr><th></th><th scope=col>&lt;chr&gt;</th><th scope=col>&lt;chr&gt;</th></tr>\n",
       "</thead>\n",
       "<tbody>\n",
       "\t<tr><th scope=row>1</th><td>LOC111100410</td><td>GO:0044283</td></tr>\n",
       "\t<tr><th scope=row>2</th><td>LOC111104439</td><td>GO:0044283</td></tr>\n",
       "\t<tr><th scope=row>3</th><td>LOC111104443</td><td>GO:0044283</td></tr>\n",
       "\t<tr><th scope=row>4</th><td>LOC111108042</td><td>GO:0044283</td></tr>\n",
       "\t<tr><th scope=row>5</th><td>LOC111112404</td><td>GO:0044283</td></tr>\n",
       "\t<tr><th scope=row>6</th><td>LOC111113806</td><td>GO:0044283</td></tr>\n",
       "</tbody>\n",
       "</table>\n"
      ],
      "text/latex": [
       "A data.frame: 6 × 2\n",
       "\\begin{tabular}{r|ll}\n",
       "  & gene\\_id & Gene.Ontology.IDs\\\\\n",
       "  & <chr> & <chr>\\\\\n",
       "\\hline\n",
       "\t1 & LOC111100410 & GO:0044283\\\\\n",
       "\t2 & LOC111104439 & GO:0044283\\\\\n",
       "\t3 & LOC111104443 & GO:0044283\\\\\n",
       "\t4 & LOC111108042 & GO:0044283\\\\\n",
       "\t5 & LOC111112404 & GO:0044283\\\\\n",
       "\t6 & LOC111113806 & GO:0044283\\\\\n",
       "\\end{tabular}\n"
      ],
      "text/markdown": [
       "\n",
       "A data.frame: 6 × 2\n",
       "\n",
       "| <!--/--> | gene_id &lt;chr&gt; | Gene.Ontology.IDs &lt;chr&gt; |\n",
       "|---|---|---|\n",
       "| 1 | LOC111100410 | GO:0044283 |\n",
       "| 2 | LOC111104439 | GO:0044283 |\n",
       "| 3 | LOC111104443 | GO:0044283 |\n",
       "| 4 | LOC111108042 | GO:0044283 |\n",
       "| 5 | LOC111112404 | GO:0044283 |\n",
       "| 6 | LOC111113806 | GO:0044283 |\n",
       "\n"
      ],
      "text/plain": [
       "  gene_id      Gene.Ontology.IDs\n",
       "1 LOC111100410 GO:0044283       \n",
       "2 LOC111104439 GO:0044283       \n",
       "3 LOC111104443 GO:0044283       \n",
       "4 LOC111108042 GO:0044283       \n",
       "5 LOC111112404 GO:0044283       \n",
       "6 LOC111113806 GO:0044283       "
      ]
     },
     "metadata": {},
     "output_type": "display_data"
    }
   ],
   "source": [
    "goMWU_cc <- read.csv('/project/pi_sarah_gignouxwolfsohn_uml_edu/julia/CE_MethylRAD_analysis_2018/analysis/DMGs_analysis/go_mwu/BP_allGenes_CC_lfc.csv', sep = '\\t')\n",
    "\n",
    "# change column name for gene to be the same in gene2GOslim\n",
    "colnames(goMWU_cc) <- c('name', 'Gene.Ontology.IDs', 'lev', 'gene_id', 'value')\n",
    "\n",
    "# only need gene_id and GO ID for input\n",
    "goMWU_cc <- goMWU_cc[,c(4,2)]\n",
    "\n",
    "head(goMWU_cc)"
   ]
  },
  {
   "cell_type": "code",
   "execution_count": 125,
   "id": "c4fce2ae-b87f-40ac-b05d-c65c1645ab2b",
   "metadata": {},
   "outputs": [],
   "source": [
    "write.csv(goMWU_cc, '/project/pi_sarah_gignouxwolfsohn_uml_edu/julia/CE_MethylRAD_analysis_2018/analysis/deseq_res_files/geneFeatures_res/go-mwu/goMWU_cc.csv', row.names = FALSE)"
   ]
  },
  {
   "cell_type": "code",
   "execution_count": 126,
   "id": "e4cd0bca-0e8f-4d37-ae86-1ae49e465f0f",
   "metadata": {},
   "outputs": [],
   "source": [
    "# copied from workflow pipeline linked above\n",
    "\n",
    "# set variables\n",
    "\n",
    "# Column names corresponding to gene name/ID and GO IDs\n",
    "GO.ID.column <- \"Gene.Ontology.IDs\"\n",
    "gene.ID.column <- \"gene_id\"\n",
    "\n",
    "# Relative path or URL to input file\n",
    "input.file <- '/project/pi_sarah_gignouxwolfsohn_uml_edu/julia/CE_MethylRAD_analysis_2018/analysis/deseq_res_files/geneFeatures_res/go-mwu/goMWU_cc.csv'\n",
    "\n",
    "\n",
    "##### Official GO info - no need to change #####\n",
    "goslims_obo <- \"goslim_generic.obo\"\n",
    "goslims_url <- \"http://current.geneontology.org/ontology/subsets/goslim_generic.obo\"\n"
   ]
  },
  {
   "cell_type": "code",
   "execution_count": 127,
   "id": "8c9899e7-b6b7-4688-a5ee-0a40262f1587",
   "metadata": {},
   "outputs": [],
   "source": [
    "# copied from workflow pipeline linked above\n",
    "\n",
    "# download generic goslim-obo\n",
    "\n",
    "# Find GSEAbase installation location\n",
    "gseabase_location <- find.package(\"GSEABase\")\n",
    "\n",
    "# Load path to GOslim OBO file\n",
    "goslim_obo_destintation <- file.path(gseabase_location, \"extdata\", goslims_obo, fsep = \"/\")\n",
    "\n",
    "# Download the GOslim OBO file\n",
    "download.file(url = goslims_url, destfile = goslim_obo_destintation)\n",
    "\n",
    "# Loads package files\n",
    "gseabase_files <- system.file(\"extdata\", goslims_obo, package=\"GSEABase\")"
   ]
  },
  {
   "cell_type": "markdown",
   "id": "75e37383-05ce-46a1-8b33-37cf4c0b689c",
   "metadata": {},
   "source": [
    "one unique gene per row, multiple GO IDs per gene"
   ]
  },
  {
   "cell_type": "code",
   "execution_count": 128,
   "id": "9e9daedc-adf0-4588-ac11-292ee4a1e6c6",
   "metadata": {},
   "outputs": [
    {
     "name": "stdout",
     "output_type": "stream",
     "text": [
      "'data.frame':\t6755 obs. of  2 variables:\n",
      " $ gene_id          : chr  \"LOC111100410\" \"LOC111104439\" \"LOC111104443\" \"LOC111108042\" ...\n",
      " $ Gene.Ontology.IDs: chr  \"GO:0044283\" \"GO:0044283\" \"GO:0044283\" \"GO:0044283\" ...\n"
     ]
    },
    {
     "data": {
      "text/html": [
       "<table class=\"dataframe\">\n",
       "<caption>A data.frame: 6 × 2</caption>\n",
       "<thead>\n",
       "\t<tr><th></th><th scope=col>gene_id</th><th scope=col>Gene.Ontology.IDs</th></tr>\n",
       "\t<tr><th></th><th scope=col>&lt;chr&gt;</th><th scope=col>&lt;chr&gt;</th></tr>\n",
       "</thead>\n",
       "<tbody>\n",
       "\t<tr><th scope=row>1</th><td>LOC111100410</td><td>GO:0044283</td></tr>\n",
       "\t<tr><th scope=row>2</th><td>LOC111104439</td><td>GO:0044283</td></tr>\n",
       "\t<tr><th scope=row>3</th><td>LOC111104443</td><td>GO:0044283</td></tr>\n",
       "\t<tr><th scope=row>4</th><td>LOC111108042</td><td>GO:0044283</td></tr>\n",
       "\t<tr><th scope=row>5</th><td>LOC111112404</td><td>GO:0044283</td></tr>\n",
       "\t<tr><th scope=row>6</th><td>LOC111113806</td><td>GO:0044283</td></tr>\n",
       "</tbody>\n",
       "</table>\n"
      ],
      "text/latex": [
       "A data.frame: 6 × 2\n",
       "\\begin{tabular}{r|ll}\n",
       "  & gene\\_id & Gene.Ontology.IDs\\\\\n",
       "  & <chr> & <chr>\\\\\n",
       "\\hline\n",
       "\t1 & LOC111100410 & GO:0044283\\\\\n",
       "\t2 & LOC111104439 & GO:0044283\\\\\n",
       "\t3 & LOC111104443 & GO:0044283\\\\\n",
       "\t4 & LOC111108042 & GO:0044283\\\\\n",
       "\t5 & LOC111112404 & GO:0044283\\\\\n",
       "\t6 & LOC111113806 & GO:0044283\\\\\n",
       "\\end{tabular}\n"
      ],
      "text/markdown": [
       "\n",
       "A data.frame: 6 × 2\n",
       "\n",
       "| <!--/--> | gene_id &lt;chr&gt; | Gene.Ontology.IDs &lt;chr&gt; |\n",
       "|---|---|---|\n",
       "| 1 | LOC111100410 | GO:0044283 |\n",
       "| 2 | LOC111104439 | GO:0044283 |\n",
       "| 3 | LOC111104443 | GO:0044283 |\n",
       "| 4 | LOC111108042 | GO:0044283 |\n",
       "| 5 | LOC111112404 | GO:0044283 |\n",
       "| 6 | LOC111113806 | GO:0044283 |\n",
       "\n"
      ],
      "text/plain": [
       "  gene_id      Gene.Ontology.IDs\n",
       "1 LOC111100410 GO:0044283       \n",
       "2 LOC111104439 GO:0044283       \n",
       "3 LOC111104443 GO:0044283       \n",
       "4 LOC111108042 GO:0044283       \n",
       "5 LOC111112404 GO:0044283       \n",
       "6 LOC111113806 GO:0044283       "
      ]
     },
     "metadata": {},
     "output_type": "display_data"
    }
   ],
   "source": [
    "# copied from workflow pipeline linked above\n",
    "\n",
    "# read in gene file\n",
    "\n",
    "full.gene.df <- read.csv(file = input.file, header = TRUE)\n",
    "\n",
    "str(full.gene.df)\n",
    "head(full.gene.df)"
   ]
  },
  {
   "cell_type": "code",
   "execution_count": 129,
   "id": "f22ae511-de1b-403d-82ca-c703c97af4fd",
   "metadata": {},
   "outputs": [
    {
     "data": {
      "text/html": [
       "<table class=\"dataframe\">\n",
       "<caption>A data.frame: 6 × 2</caption>\n",
       "<thead>\n",
       "\t<tr><th></th><th scope=col>gene_id</th><th scope=col>Gene.Ontology.IDs</th></tr>\n",
       "\t<tr><th></th><th scope=col>&lt;chr&gt;</th><th scope=col>&lt;chr&gt;</th></tr>\n",
       "</thead>\n",
       "<tbody>\n",
       "\t<tr><th scope=row>1</th><td>LOC111100410</td><td>GO:0044283</td></tr>\n",
       "\t<tr><th scope=row>2</th><td>LOC111104439</td><td>GO:0044283</td></tr>\n",
       "\t<tr><th scope=row>3</th><td>LOC111104443</td><td>GO:0044283</td></tr>\n",
       "\t<tr><th scope=row>4</th><td>LOC111108042</td><td>GO:0044283</td></tr>\n",
       "\t<tr><th scope=row>5</th><td>LOC111112404</td><td>GO:0044283</td></tr>\n",
       "\t<tr><th scope=row>6</th><td>LOC111113806</td><td>GO:0044283</td></tr>\n",
       "</tbody>\n",
       "</table>\n"
      ],
      "text/latex": [
       "A data.frame: 6 × 2\n",
       "\\begin{tabular}{r|ll}\n",
       "  & gene\\_id & Gene.Ontology.IDs\\\\\n",
       "  & <chr> & <chr>\\\\\n",
       "\\hline\n",
       "\t1 & LOC111100410 & GO:0044283\\\\\n",
       "\t2 & LOC111104439 & GO:0044283\\\\\n",
       "\t3 & LOC111104443 & GO:0044283\\\\\n",
       "\t4 & LOC111108042 & GO:0044283\\\\\n",
       "\t5 & LOC111112404 & GO:0044283\\\\\n",
       "\t6 & LOC111113806 & GO:0044283\\\\\n",
       "\\end{tabular}\n"
      ],
      "text/markdown": [
       "\n",
       "A data.frame: 6 × 2\n",
       "\n",
       "| <!--/--> | gene_id &lt;chr&gt; | Gene.Ontology.IDs &lt;chr&gt; |\n",
       "|---|---|---|\n",
       "| 1 | LOC111100410 | GO:0044283 |\n",
       "| 2 | LOC111104439 | GO:0044283 |\n",
       "| 3 | LOC111104443 | GO:0044283 |\n",
       "| 4 | LOC111108042 | GO:0044283 |\n",
       "| 5 | LOC111112404 | GO:0044283 |\n",
       "| 6 | LOC111113806 | GO:0044283 |\n",
       "\n"
      ],
      "text/plain": [
       "  gene_id      Gene.Ontology.IDs\n",
       "1 LOC111100410 GO:0044283       \n",
       "2 LOC111104439 GO:0044283       \n",
       "3 LOC111104443 GO:0044283       \n",
       "4 LOC111108042 GO:0044283       \n",
       "5 LOC111112404 GO:0044283       \n",
       "6 LOC111113806 GO:0044283       "
      ]
     },
     "metadata": {},
     "output_type": "display_data"
    }
   ],
   "source": [
    "# copied from workflow pipeline linked above\n",
    "\n",
    "# remove NA and uniprotIDs\n",
    "\n",
    "# Clean whitespace, filter NA/empty rows, select columns, and split GO terms using column name variables\n",
    "library(dplyr) # for some reason I'm having conflicts with select()\n",
    "gene.GO.df <- full.gene.df %>%\n",
    "  mutate(!!GO.ID.column := str_replace_all(.data[[GO.ID.column]], \"\\\\s*;\\\\s*\", \";\")) %>%\n",
    "  filter(!is.na(.data[[gene.ID.column]]) & !is.na(.data[[GO.ID.column]]) & .data[[GO.ID.column]] != \"\") %>%\n",
    "  dplyr::select(all_of(c(gene.ID.column, GO.ID.column)))\n",
    "\n",
    "head(gene.GO.df)"
   ]
  },
  {
   "cell_type": "markdown",
   "id": "e8b6dffa-a4df-4e60-be73-cc6dcc49f3a8",
   "metadata": {},
   "source": [
    "flatten df so only one gene and one GO ID per row"
   ]
  },
  {
   "cell_type": "code",
   "execution_count": 130,
   "id": "43ccfd80-8a4e-4190-a3d5-7d6202d650f7",
   "metadata": {},
   "outputs": [
    {
     "name": "stdout",
     "output_type": "stream",
     "text": [
      "tibble [16,653 × 2] (S3: tbl_df/tbl/data.frame)\n",
      " $ gene_id          : chr [1:16653] \"LOC111100410\" \"LOC111104439\" \"LOC111104443\" \"LOC111108042\" ...\n",
      " $ Gene.Ontology.IDs: chr [1:16653] \"GO:0044283\" \"GO:0044283\" \"GO:0044283\" \"GO:0044283\" ...\n"
     ]
    },
    {
     "data": {
      "text/html": [
       "<table class=\"dataframe\">\n",
       "<caption>A tibble: 6 × 2</caption>\n",
       "<thead>\n",
       "\t<tr><th scope=col>gene_id</th><th scope=col>Gene.Ontology.IDs</th></tr>\n",
       "\t<tr><th scope=col>&lt;chr&gt;</th><th scope=col>&lt;chr&gt;</th></tr>\n",
       "</thead>\n",
       "<tbody>\n",
       "\t<tr><td>LOC111100410</td><td>GO:0044283</td></tr>\n",
       "\t<tr><td>LOC111104439</td><td>GO:0044283</td></tr>\n",
       "\t<tr><td>LOC111104443</td><td>GO:0044283</td></tr>\n",
       "\t<tr><td>LOC111108042</td><td>GO:0044283</td></tr>\n",
       "\t<tr><td>LOC111112404</td><td>GO:0044283</td></tr>\n",
       "\t<tr><td>LOC111113806</td><td>GO:0044283</td></tr>\n",
       "</tbody>\n",
       "</table>\n"
      ],
      "text/latex": [
       "A tibble: 6 × 2\n",
       "\\begin{tabular}{ll}\n",
       " gene\\_id & Gene.Ontology.IDs\\\\\n",
       " <chr> & <chr>\\\\\n",
       "\\hline\n",
       "\t LOC111100410 & GO:0044283\\\\\n",
       "\t LOC111104439 & GO:0044283\\\\\n",
       "\t LOC111104443 & GO:0044283\\\\\n",
       "\t LOC111108042 & GO:0044283\\\\\n",
       "\t LOC111112404 & GO:0044283\\\\\n",
       "\t LOC111113806 & GO:0044283\\\\\n",
       "\\end{tabular}\n"
      ],
      "text/markdown": [
       "\n",
       "A tibble: 6 × 2\n",
       "\n",
       "| gene_id &lt;chr&gt; | Gene.Ontology.IDs &lt;chr&gt; |\n",
       "|---|---|\n",
       "| LOC111100410 | GO:0044283 |\n",
       "| LOC111104439 | GO:0044283 |\n",
       "| LOC111104443 | GO:0044283 |\n",
       "| LOC111108042 | GO:0044283 |\n",
       "| LOC111112404 | GO:0044283 |\n",
       "| LOC111113806 | GO:0044283 |\n",
       "\n"
      ],
      "text/plain": [
       "  gene_id      Gene.Ontology.IDs\n",
       "1 LOC111100410 GO:0044283       \n",
       "2 LOC111104439 GO:0044283       \n",
       "3 LOC111104443 GO:0044283       \n",
       "4 LOC111108042 GO:0044283       \n",
       "5 LOC111112404 GO:0044283       \n",
       "6 LOC111113806 GO:0044283       "
      ]
     },
     "metadata": {},
     "output_type": "display_data"
    }
   ],
   "source": [
    "# copied from workflow pipeline linked above\n",
    "\n",
    "# flatten gene and GO IDs\n",
    "\n",
    "flat.gene.GO.df <- gene.GO.df %>% separate_rows(!!sym(GO.ID.column), sep = \";\")\n",
    "\n",
    "str(flat.gene.GO.df)\n",
    "head(flat.gene.GO.df)"
   ]
  },
  {
   "cell_type": "markdown",
   "id": "4c4f6299-a2f3-4928-a14a-f37b25a0ffae",
   "metadata": {},
   "source": [
    "Grouping by GO ID - one unique GO ID per row, multiple genes per GO ID"
   ]
  },
  {
   "cell_type": "code",
   "execution_count": 131,
   "id": "c842c630-ab0f-4311-bcd2-b5a5165d9bb7",
   "metadata": {},
   "outputs": [
    {
     "name": "stdout",
     "output_type": "stream",
     "text": [
      "tibble [496 × 2] (S3: tbl_df/tbl/data.frame)\n",
      " $ Gene.Ontology.IDs: chr [1:496] \"GO:0000012\" \"GO:0000027\" \"GO:0000028\" \"GO:0000045\" ...\n",
      " $ gene_id          : chr [1:496] \"LOC111111498,LOC111111868,LOC111128425,LOC111128516,LOC111135198,LOC111136704\" \"LOC111103620,LOC111109112,LOC111116477,LOC111118739,LOC111119745,LOC111119970,LOC111120109,LOC111120886,LOC1111\"| __truncated__ \"LOC111112561,LOC111118540,LOC111120557,LOC111121432,LOC111123620,LOC111125548,LOC111126883,LOC111127769,LOC1111\"| __truncated__ \"LOC111099721,LOC111099934,LOC111100289,LOC111100878,LOC111101815,LOC111102871,LOC111106048,LOC111108144,LOC1111\"| __truncated__ ...\n"
     ]
    },
    {
     "data": {
      "text/html": [
       "<table class=\"dataframe\">\n",
       "<caption>A tibble: 6 × 2</caption>\n",
       "<thead>\n",
       "\t<tr><th scope=col>Gene.Ontology.IDs</th><th scope=col>gene_id</th></tr>\n",
       "\t<tr><th scope=col>&lt;chr&gt;</th><th scope=col>&lt;chr&gt;</th></tr>\n",
       "</thead>\n",
       "<tbody>\n",
       "\t<tr><td>GO:0000012</td><td>LOC111111498,LOC111111868,LOC111128425,LOC111128516,LOC111135198,LOC111136704                                                                                                                                                                                                                                                                                                                                                                                                                                                                                    </td></tr>\n",
       "\t<tr><td>GO:0000027</td><td>LOC111103620,LOC111109112,LOC111116477,LOC111118739,LOC111119745,LOC111119970,LOC111120109,LOC111120886,LOC111120892,LOC111120994,LOC111121522,LOC111121958,LOC111129891,LOC111130039,LOC111132903,LOC111135538,LOC111136247,LOC111137006                                                                                                                                                                                                                                                                                                                        </td></tr>\n",
       "\t<tr><td>GO:0000028</td><td>LOC111112561,LOC111118540,LOC111120557,LOC111121432,LOC111123620,LOC111125548,LOC111126883,LOC111127769,LOC111128580,LOC111135312                                                                                                                                                                                                                                                                                                                                                                                                                                </td></tr>\n",
       "\t<tr><td>GO:0000045</td><td>LOC111099721,LOC111099934,LOC111100289,LOC111100878,LOC111101815,LOC111102871,LOC111106048,LOC111108144,LOC111111295,LOC111111995,LOC111118945,LOC111120809,LOC111122717,LOC111123325,LOC111124607,LOC111124610,LOC111125798,LOC111127040,LOC111127325,LOC111127879,LOC111127926,LOC111128047,LOC111128059,LOC111129370,LOC111131691,LOC111131738,LOC111132058,LOC111132962,LOC111133363,LOC111134873,LOC111136300,LOC111137152,LOC111110828,LOC111112253,LOC111123221,LOC111124399,LOC111126629,LOC111133574,LOC111133575,LOC111135792,LOC111136338,LOC111137481</td></tr>\n",
       "\t<tr><td>GO:0000054</td><td>LOC111106509,LOC111119150,LOC111119639,LOC111122535,LOC111125104,LOC111125671,LOC111129825,LOC111130459,LOC111133705,LOC111135936,LOC111136254,LOC111136517                                                                                                                                                                                                                                                                                                                                                                                                      </td></tr>\n",
       "\t<tr><td>GO:0000055</td><td>LOC111106509,LOC111119150,LOC111122535,LOC111129825,LOC111130459,LOC111135936                                                                                                                                                                                                                                                                                                                                                                                                                                                                                    </td></tr>\n",
       "</tbody>\n",
       "</table>\n"
      ],
      "text/latex": [
       "A tibble: 6 × 2\n",
       "\\begin{tabular}{ll}\n",
       " Gene.Ontology.IDs & gene\\_id\\\\\n",
       " <chr> & <chr>\\\\\n",
       "\\hline\n",
       "\t GO:0000012 & LOC111111498,LOC111111868,LOC111128425,LOC111128516,LOC111135198,LOC111136704                                                                                                                                                                                                                                                                                                                                                                                                                                                                                    \\\\\n",
       "\t GO:0000027 & LOC111103620,LOC111109112,LOC111116477,LOC111118739,LOC111119745,LOC111119970,LOC111120109,LOC111120886,LOC111120892,LOC111120994,LOC111121522,LOC111121958,LOC111129891,LOC111130039,LOC111132903,LOC111135538,LOC111136247,LOC111137006                                                                                                                                                                                                                                                                                                                        \\\\\n",
       "\t GO:0000028 & LOC111112561,LOC111118540,LOC111120557,LOC111121432,LOC111123620,LOC111125548,LOC111126883,LOC111127769,LOC111128580,LOC111135312                                                                                                                                                                                                                                                                                                                                                                                                                                \\\\\n",
       "\t GO:0000045 & LOC111099721,LOC111099934,LOC111100289,LOC111100878,LOC111101815,LOC111102871,LOC111106048,LOC111108144,LOC111111295,LOC111111995,LOC111118945,LOC111120809,LOC111122717,LOC111123325,LOC111124607,LOC111124610,LOC111125798,LOC111127040,LOC111127325,LOC111127879,LOC111127926,LOC111128047,LOC111128059,LOC111129370,LOC111131691,LOC111131738,LOC111132058,LOC111132962,LOC111133363,LOC111134873,LOC111136300,LOC111137152,LOC111110828,LOC111112253,LOC111123221,LOC111124399,LOC111126629,LOC111133574,LOC111133575,LOC111135792,LOC111136338,LOC111137481\\\\\n",
       "\t GO:0000054 & LOC111106509,LOC111119150,LOC111119639,LOC111122535,LOC111125104,LOC111125671,LOC111129825,LOC111130459,LOC111133705,LOC111135936,LOC111136254,LOC111136517                                                                                                                                                                                                                                                                                                                                                                                                      \\\\\n",
       "\t GO:0000055 & LOC111106509,LOC111119150,LOC111122535,LOC111129825,LOC111130459,LOC111135936                                                                                                                                                                                                                                                                                                                                                                                                                                                                                    \\\\\n",
       "\\end{tabular}\n"
      ],
      "text/markdown": [
       "\n",
       "A tibble: 6 × 2\n",
       "\n",
       "| Gene.Ontology.IDs &lt;chr&gt; | gene_id &lt;chr&gt; |\n",
       "|---|---|\n",
       "| GO:0000012 | LOC111111498,LOC111111868,LOC111128425,LOC111128516,LOC111135198,LOC111136704                                                                                                                                                                                                                                                                                                                                                                                                                                                                                     |\n",
       "| GO:0000027 | LOC111103620,LOC111109112,LOC111116477,LOC111118739,LOC111119745,LOC111119970,LOC111120109,LOC111120886,LOC111120892,LOC111120994,LOC111121522,LOC111121958,LOC111129891,LOC111130039,LOC111132903,LOC111135538,LOC111136247,LOC111137006                                                                                                                                                                                                                                                                                                                         |\n",
       "| GO:0000028 | LOC111112561,LOC111118540,LOC111120557,LOC111121432,LOC111123620,LOC111125548,LOC111126883,LOC111127769,LOC111128580,LOC111135312                                                                                                                                                                                                                                                                                                                                                                                                                                 |\n",
       "| GO:0000045 | LOC111099721,LOC111099934,LOC111100289,LOC111100878,LOC111101815,LOC111102871,LOC111106048,LOC111108144,LOC111111295,LOC111111995,LOC111118945,LOC111120809,LOC111122717,LOC111123325,LOC111124607,LOC111124610,LOC111125798,LOC111127040,LOC111127325,LOC111127879,LOC111127926,LOC111128047,LOC111128059,LOC111129370,LOC111131691,LOC111131738,LOC111132058,LOC111132962,LOC111133363,LOC111134873,LOC111136300,LOC111137152,LOC111110828,LOC111112253,LOC111123221,LOC111124399,LOC111126629,LOC111133574,LOC111133575,LOC111135792,LOC111136338,LOC111137481 |\n",
       "| GO:0000054 | LOC111106509,LOC111119150,LOC111119639,LOC111122535,LOC111125104,LOC111125671,LOC111129825,LOC111130459,LOC111133705,LOC111135936,LOC111136254,LOC111136517                                                                                                                                                                                                                                                                                                                                                                                                       |\n",
       "| GO:0000055 | LOC111106509,LOC111119150,LOC111122535,LOC111129825,LOC111130459,LOC111135936                                                                                                                                                                                                                                                                                                                                                                                                                                                                                     |\n",
       "\n"
      ],
      "text/plain": [
       "  Gene.Ontology.IDs\n",
       "1 GO:0000012       \n",
       "2 GO:0000027       \n",
       "3 GO:0000028       \n",
       "4 GO:0000045       \n",
       "5 GO:0000054       \n",
       "6 GO:0000055       \n",
       "  gene_id                                                                                                                                                                                                                                                                                                                                                                                                                                                                                                                                                          \n",
       "1 LOC111111498,LOC111111868,LOC111128425,LOC111128516,LOC111135198,LOC111136704                                                                                                                                                                                                                                                                                                                                                                                                                                                                                    \n",
       "2 LOC111103620,LOC111109112,LOC111116477,LOC111118739,LOC111119745,LOC111119970,LOC111120109,LOC111120886,LOC111120892,LOC111120994,LOC111121522,LOC111121958,LOC111129891,LOC111130039,LOC111132903,LOC111135538,LOC111136247,LOC111137006                                                                                                                                                                                                                                                                                                                        \n",
       "3 LOC111112561,LOC111118540,LOC111120557,LOC111121432,LOC111123620,LOC111125548,LOC111126883,LOC111127769,LOC111128580,LOC111135312                                                                                                                                                                                                                                                                                                                                                                                                                                \n",
       "4 LOC111099721,LOC111099934,LOC111100289,LOC111100878,LOC111101815,LOC111102871,LOC111106048,LOC111108144,LOC111111295,LOC111111995,LOC111118945,LOC111120809,LOC111122717,LOC111123325,LOC111124607,LOC111124610,LOC111125798,LOC111127040,LOC111127325,LOC111127879,LOC111127926,LOC111128047,LOC111128059,LOC111129370,LOC111131691,LOC111131738,LOC111132058,LOC111132962,LOC111133363,LOC111134873,LOC111136300,LOC111137152,LOC111110828,LOC111112253,LOC111123221,LOC111124399,LOC111126629,LOC111133574,LOC111133575,LOC111135792,LOC111136338,LOC111137481\n",
       "5 LOC111106509,LOC111119150,LOC111119639,LOC111122535,LOC111125104,LOC111125671,LOC111129825,LOC111130459,LOC111133705,LOC111135936,LOC111136254,LOC111136517                                                                                                                                                                                                                                                                                                                                                                                                      \n",
       "6 LOC111106509,LOC111119150,LOC111122535,LOC111129825,LOC111130459,LOC111135936                                                                                                                                                                                                                                                                                                                                                                                                                                                                                    "
      ]
     },
     "metadata": {},
     "output_type": "display_data"
    }
   ],
   "source": [
    "# copied from workflow pipeline linked above\n",
    "\n",
    "# group by GO\n",
    "\n",
    "grouped.gene.GO.df <- flat.gene.GO.df %>%\n",
    "  group_by(!!sym(GO.ID.column)) %>%\n",
    "  summarise(!!gene.ID.column := paste(.data[[gene.ID.column]], collapse = \",\"))\n",
    "\n",
    "str(grouped.gene.GO.df)\n",
    "head(grouped.gene.GO.df)"
   ]
  },
  {
   "cell_type": "markdown",
   "id": "1e6fa91a-6ce0-4cb9-8838-7059d880ad40",
   "metadata": {},
   "source": [
    "#### Mapping GO IDs to GO Slim"
   ]
  },
  {
   "cell_type": "code",
   "execution_count": 132,
   "id": "d05cc841-1b0a-4a35-a0a2-2962abfb3d1a",
   "metadata": {},
   "outputs": [
    {
     "name": "stdout",
     "output_type": "stream",
     "text": [
      " chr [1:496] \"GO:0000012\" \"GO:0000027\" \"GO:0000028\" \"GO:0000045\" ...\n"
     ]
    },
    {
     "data": {
      "text/html": [
       "<style>\n",
       ".list-inline {list-style: none; margin:0; padding: 0}\n",
       ".list-inline>li {display: inline-block}\n",
       ".list-inline>li:not(:last-child)::after {content: \"\\00b7\"; padding: 0 .5ex}\n",
       "</style>\n",
       "<ol class=list-inline><li>'GO:0000012'</li><li>'GO:0000027'</li><li>'GO:0000028'</li><li>'GO:0000045'</li><li>'GO:0000054'</li><li>'GO:0000055'</li></ol>\n"
      ],
      "text/latex": [
       "\\begin{enumerate*}\n",
       "\\item 'GO:0000012'\n",
       "\\item 'GO:0000027'\n",
       "\\item 'GO:0000028'\n",
       "\\item 'GO:0000045'\n",
       "\\item 'GO:0000054'\n",
       "\\item 'GO:0000055'\n",
       "\\end{enumerate*}\n"
      ],
      "text/markdown": [
       "1. 'GO:0000012'\n",
       "2. 'GO:0000027'\n",
       "3. 'GO:0000028'\n",
       "4. 'GO:0000045'\n",
       "5. 'GO:0000054'\n",
       "6. 'GO:0000055'\n",
       "\n",
       "\n"
      ],
      "text/plain": [
       "[1] \"GO:0000012\" \"GO:0000027\" \"GO:0000028\" \"GO:0000045\" \"GO:0000054\"\n",
       "[6] \"GO:0000055\""
      ]
     },
     "metadata": {},
     "output_type": "display_data"
    }
   ],
   "source": [
    "# copied from workflow pipeline linked above\n",
    "\n",
    "# Vectorize GO IDs\n",
    "go_ids <- grouped.gene.GO.df[[GO.ID.column]]\n",
    "\n",
    "str(go_ids)\n",
    "head(go_ids)"
   ]
  },
  {
   "cell_type": "code",
   "execution_count": 133,
   "id": "b7b6151f-beb6-4d0d-8504-4e297d4f01df",
   "metadata": {},
   "outputs": [
    {
     "name": "stdout",
     "output_type": "stream",
     "text": [
      "Formal class 'OBOCollection' [package \"GSEABase\"] with 7 slots\n",
      "  ..@ .stanza     :'data.frame':\t153 obs. of  1 variable:\n",
      "  .. ..$ value: chr [1:153] \"Root\" \"Term\" \"Term\" \"Term\" ...\n",
      "  ..@ .subset     :'data.frame':\t22 obs. of  1 variable:\n",
      "  .. ..$ value: chr [1:22] \"Rhea list of ChEBI terms representing the major species at pH 7.3.\" \"Term not to be used for direct annotation\" \"Terms planned for obsoletion\" \"AGR slim\" ...\n",
      "  ..@ .kv         :'data.frame':\t2075 obs. of  3 variables:\n",
      "  .. ..$ stanza_id: chr [1:2075] \".__Root__\" \".__Root__\" \".__Root__\" \".__Root__\" ...\n",
      "  .. ..$ key      : chr [1:2075] \"format-version\" \"data-version\" \"synonymtypedef\" \"synonymtypedef\" ...\n",
      "  .. ..$ value    : chr [1:2075] \"1.2\" \"go/2024-11-03/subsets/goslim_generic.owl\" \"syngo_official_label \\\"label approved by the SynGO project\\\"\" \"systematic_synonym \\\"Systematic synonym\\\" EXACT\" ...\n",
      "  ..@ evidenceCode: chr [1:26] \"EXP\" \"IDA\" \"IPI\" \"IMP\" ...\n",
      "  ..@ ontology    : chr NA\n",
      "  ..@ ids         : chr [1:141] \"GO:0000228\" \"GO:0000278\" \"GO:0000910\" \"GO:0001618\" ...\n",
      "  ..@ type        : chr \"OBO\"\n"
     ]
    }
   ],
   "source": [
    "# copied from workflow pipeline linked above\n",
    "\n",
    "# extract GOslims from OBO\n",
    "\n",
    "# Create GSEAbase GOCollection using `go_ids`\n",
    "myCollection <- GOCollection(go_ids)\n",
    "\n",
    "# Retrieve GOslims from GO OBO file set\n",
    "slim <- getOBOCollection(gseabase_files)\n",
    "\n",
    "str(slim)"
   ]
  },
  {
   "cell_type": "code",
   "execution_count": 134,
   "id": "30d76371-2cdc-4783-a08b-cd130cd98e01",
   "metadata": {},
   "outputs": [
    {
     "name": "stdout",
     "output_type": "stream",
     "text": [
      "'data.frame':\t72 obs. of  3 variables:\n",
      " $ Count  : int  9 3 2 4 0 0 0 0 6 0 ...\n",
      " $ Percent: num  3.543 1.181 0.787 1.575 0 ...\n",
      " $ Term   : chr  \"mitotic cell cycle\" \"cytokinesis\" \"cytoplasmic translation\" \"immune system process\" ...\n"
     ]
    },
    {
     "data": {
      "text/html": [
       "<table class=\"dataframe\">\n",
       "<caption>A data.frame: 6 × 3</caption>\n",
       "<thead>\n",
       "\t<tr><th></th><th scope=col>Count</th><th scope=col>Percent</th><th scope=col>Term</th></tr>\n",
       "\t<tr><th></th><th scope=col>&lt;int&gt;</th><th scope=col>&lt;dbl&gt;</th><th scope=col>&lt;chr&gt;</th></tr>\n",
       "</thead>\n",
       "<tbody>\n",
       "\t<tr><th scope=row>GO:0000278</th><td>9</td><td>3.5433071</td><td>mitotic cell cycle        </td></tr>\n",
       "\t<tr><th scope=row>GO:0000910</th><td>3</td><td>1.1811024</td><td>cytokinesis               </td></tr>\n",
       "\t<tr><th scope=row>GO:0002181</th><td>2</td><td>0.7874016</td><td>cytoplasmic translation   </td></tr>\n",
       "\t<tr><th scope=row>GO:0002376</th><td>4</td><td>1.5748031</td><td>immune system process     </td></tr>\n",
       "\t<tr><th scope=row>GO:0003012</th><td>0</td><td>0.0000000</td><td>muscle system process     </td></tr>\n",
       "\t<tr><th scope=row>GO:0003013</th><td>0</td><td>0.0000000</td><td>circulatory system process</td></tr>\n",
       "</tbody>\n",
       "</table>\n"
      ],
      "text/latex": [
       "A data.frame: 6 × 3\n",
       "\\begin{tabular}{r|lll}\n",
       "  & Count & Percent & Term\\\\\n",
       "  & <int> & <dbl> & <chr>\\\\\n",
       "\\hline\n",
       "\tGO:0000278 & 9 & 3.5433071 & mitotic cell cycle        \\\\\n",
       "\tGO:0000910 & 3 & 1.1811024 & cytokinesis               \\\\\n",
       "\tGO:0002181 & 2 & 0.7874016 & cytoplasmic translation   \\\\\n",
       "\tGO:0002376 & 4 & 1.5748031 & immune system process     \\\\\n",
       "\tGO:0003012 & 0 & 0.0000000 & muscle system process     \\\\\n",
       "\tGO:0003013 & 0 & 0.0000000 & circulatory system process\\\\\n",
       "\\end{tabular}\n"
      ],
      "text/markdown": [
       "\n",
       "A data.frame: 6 × 3\n",
       "\n",
       "| <!--/--> | Count &lt;int&gt; | Percent &lt;dbl&gt; | Term &lt;chr&gt; |\n",
       "|---|---|---|---|\n",
       "| GO:0000278 | 9 | 3.5433071 | mitotic cell cycle         |\n",
       "| GO:0000910 | 3 | 1.1811024 | cytokinesis                |\n",
       "| GO:0002181 | 2 | 0.7874016 | cytoplasmic translation    |\n",
       "| GO:0002376 | 4 | 1.5748031 | immune system process      |\n",
       "| GO:0003012 | 0 | 0.0000000 | muscle system process      |\n",
       "| GO:0003013 | 0 | 0.0000000 | circulatory system process |\n",
       "\n"
      ],
      "text/plain": [
       "           Count Percent   Term                      \n",
       "GO:0000278 9     3.5433071 mitotic cell cycle        \n",
       "GO:0000910 3     1.1811024 cytokinesis               \n",
       "GO:0002181 2     0.7874016 cytoplasmic translation   \n",
       "GO:0002376 4     1.5748031 immune system process     \n",
       "GO:0003012 0     0.0000000 muscle system process     \n",
       "GO:0003013 0     0.0000000 circulatory system process"
      ]
     },
     "metadata": {},
     "output_type": "display_data"
    }
   ],
   "source": [
    "# copied from workflow pipeline linked above\n",
    "\n",
    "# retrieve BP GOslims\n",
    "\n",
    "# Retrieve Biological Process (BP) GOslims\n",
    "slimdf <- goSlim(myCollection, slim, \"BP\", verbose)\n",
    "str(slimdf)\n",
    "head(slimdf)"
   ]
  },
  {
   "cell_type": "code",
   "execution_count": 135,
   "id": "f5b862a2-f643-45fc-bcf0-3be199fa4d8e",
   "metadata": {},
   "outputs": [
    {
     "data": {
      "text/html": [
       "<style>\n",
       ".list-inline {list-style: none; margin:0; padding: 0}\n",
       ".list-inline>li {display: inline-block}\n",
       ".list-inline>li:not(:last-child)::after {content: \"\\00b7\"; padding: 0 .5ex}\n",
       "</style>\n",
       "<ol class=list-inline><li>72</li><li>3</li></ol>\n"
      ],
      "text/latex": [
       "\\begin{enumerate*}\n",
       "\\item 72\n",
       "\\item 3\n",
       "\\end{enumerate*}\n"
      ],
      "text/markdown": [
       "1. 72\n",
       "2. 3\n",
       "\n",
       "\n"
      ],
      "text/plain": [
       "[1] 72  3"
      ]
     },
     "metadata": {},
     "output_type": "display_data"
    }
   ],
   "source": [
    "dim(slimdf) # 72 total GOslim terms"
   ]
  },
  {
   "cell_type": "markdown",
   "id": "ff44e07d-d76d-4136-9ab2-62f713f73445",
   "metadata": {},
   "source": [
    "so now have df with GOslim term and GO ID"
   ]
  },
  {
   "cell_type": "code",
   "execution_count": 136,
   "id": "0e75edc7-6e09-41d9-9b9a-b1d2fdc71ba8",
   "metadata": {},
   "outputs": [
    {
     "name": "stdout",
     "output_type": "stream",
     "text": [
      "'data.frame':\t72 obs. of  4 variables:\n",
      " $ Count  : int  9 3 2 4 0 0 0 0 6 0 ...\n",
      " $ Percent: num  3.543 1.181 0.787 1.575 0 ...\n",
      " $ Term   : chr  \"mitotic cell cycle\" \"cytokinesis\" \"cytoplasmic translation\" \"immune system process\" ...\n",
      " $ GO.IDs : chr  \"GO:0000070;GO:0000082;GO:0000083;GO:0000086;GO:0000281;GO:0007346;GO:0044772;GO:1903047; GO:0000278\" \"GO:0000281;GO:0061640; GO:0000910\" \"GO:0001731; GO:0002181\" \"GO:0002221;GO:0002224;GO:0006955; GO:0002376\" ...\n"
     ]
    },
    {
     "data": {
      "text/html": [
       "<table class=\"dataframe\">\n",
       "<caption>A data.frame: 6 × 4</caption>\n",
       "<thead>\n",
       "\t<tr><th></th><th scope=col>Count</th><th scope=col>Percent</th><th scope=col>Term</th><th scope=col>GO.IDs</th></tr>\n",
       "\t<tr><th></th><th scope=col>&lt;int&gt;</th><th scope=col>&lt;dbl&gt;</th><th scope=col>&lt;chr&gt;</th><th scope=col>&lt;chr&gt;</th></tr>\n",
       "</thead>\n",
       "<tbody>\n",
       "\t<tr><th scope=row>GO:0000278</th><td>9</td><td>3.5433071</td><td>mitotic cell cycle        </td><td>GO:0000070;GO:0000082;GO:0000083;GO:0000086;GO:0000281;GO:0007346;GO:0044772;GO:1903047; GO:0000278</td></tr>\n",
       "\t<tr><th scope=row>GO:0000910</th><td>3</td><td>1.1811024</td><td>cytokinesis               </td><td>GO:0000281;GO:0061640; GO:0000910                                                                  </td></tr>\n",
       "\t<tr><th scope=row>GO:0002181</th><td>2</td><td>0.7874016</td><td>cytoplasmic translation   </td><td>GO:0001731; GO:0002181                                                                             </td></tr>\n",
       "\t<tr><th scope=row>GO:0002376</th><td>4</td><td>1.5748031</td><td>immune system process     </td><td>GO:0002221;GO:0002224;GO:0006955; GO:0002376                                                       </td></tr>\n",
       "\t<tr><th scope=row>GO:0003012</th><td>0</td><td>0.0000000</td><td>muscle system process     </td><td>                                                                                                   </td></tr>\n",
       "\t<tr><th scope=row>GO:0003013</th><td>0</td><td>0.0000000</td><td>circulatory system process</td><td>                                                                                                   </td></tr>\n",
       "</tbody>\n",
       "</table>\n"
      ],
      "text/latex": [
       "A data.frame: 6 × 4\n",
       "\\begin{tabular}{r|llll}\n",
       "  & Count & Percent & Term & GO.IDs\\\\\n",
       "  & <int> & <dbl> & <chr> & <chr>\\\\\n",
       "\\hline\n",
       "\tGO:0000278 & 9 & 3.5433071 & mitotic cell cycle         & GO:0000070;GO:0000082;GO:0000083;GO:0000086;GO:0000281;GO:0007346;GO:0044772;GO:1903047; GO:0000278\\\\\n",
       "\tGO:0000910 & 3 & 1.1811024 & cytokinesis                & GO:0000281;GO:0061640; GO:0000910                                                                  \\\\\n",
       "\tGO:0002181 & 2 & 0.7874016 & cytoplasmic translation    & GO:0001731; GO:0002181                                                                             \\\\\n",
       "\tGO:0002376 & 4 & 1.5748031 & immune system process      & GO:0002221;GO:0002224;GO:0006955; GO:0002376                                                       \\\\\n",
       "\tGO:0003012 & 0 & 0.0000000 & muscle system process      &                                                                                                    \\\\\n",
       "\tGO:0003013 & 0 & 0.0000000 & circulatory system process &                                                                                                    \\\\\n",
       "\\end{tabular}\n"
      ],
      "text/markdown": [
       "\n",
       "A data.frame: 6 × 4\n",
       "\n",
       "| <!--/--> | Count &lt;int&gt; | Percent &lt;dbl&gt; | Term &lt;chr&gt; | GO.IDs &lt;chr&gt; |\n",
       "|---|---|---|---|---|\n",
       "| GO:0000278 | 9 | 3.5433071 | mitotic cell cycle         | GO:0000070;GO:0000082;GO:0000083;GO:0000086;GO:0000281;GO:0007346;GO:0044772;GO:1903047; GO:0000278 |\n",
       "| GO:0000910 | 3 | 1.1811024 | cytokinesis                | GO:0000281;GO:0061640; GO:0000910                                                                   |\n",
       "| GO:0002181 | 2 | 0.7874016 | cytoplasmic translation    | GO:0001731; GO:0002181                                                                              |\n",
       "| GO:0002376 | 4 | 1.5748031 | immune system process      | GO:0002221;GO:0002224;GO:0006955; GO:0002376                                                        |\n",
       "| GO:0003012 | 0 | 0.0000000 | muscle system process      | <!----> |\n",
       "| GO:0003013 | 0 | 0.0000000 | circulatory system process | <!----> |\n",
       "\n"
      ],
      "text/plain": [
       "           Count Percent   Term                      \n",
       "GO:0000278 9     3.5433071 mitotic cell cycle        \n",
       "GO:0000910 3     1.1811024 cytokinesis               \n",
       "GO:0002181 2     0.7874016 cytoplasmic translation   \n",
       "GO:0002376 4     1.5748031 immune system process     \n",
       "GO:0003012 0     0.0000000 muscle system process     \n",
       "GO:0003013 0     0.0000000 circulatory system process\n",
       "           GO.IDs                                                                                             \n",
       "GO:0000278 GO:0000070;GO:0000082;GO:0000083;GO:0000086;GO:0000281;GO:0007346;GO:0044772;GO:1903047; GO:0000278\n",
       "GO:0000910 GO:0000281;GO:0061640; GO:0000910                                                                  \n",
       "GO:0002181 GO:0001731; GO:0002181                                                                             \n",
       "GO:0002376 GO:0002221;GO:0002224;GO:0006955; GO:0002376                                                       \n",
       "GO:0003012                                                                                                    \n",
       "GO:0003013                                                                                                    "
      ]
     },
     "metadata": {},
     "output_type": "display_data"
    }
   ],
   "source": [
    "# copied from workflow pipeline linked above\n",
    "\n",
    "#Map GO to GOslims\n",
    "\n",
    "# List of GOslims and all GO IDs from `go_ids`\n",
    "gomap <- as.list(GOBPOFFSPRING[rownames(slimdf)])\n",
    "\n",
    "# Maps `go_ids` to matching GOslims\n",
    "mapped <- lapply(gomap, intersect, ids(myCollection))\n",
    "\n",
    "# Append all mapped GO IDs to `slimdf`\n",
    "# `sapply` needed to apply paste() to create semi-colon delimited values\n",
    "slimdf$GO.IDs <- sapply(lapply(gomap, intersect, ids(myCollection)), paste, collapse=\";\")\n",
    "\n",
    "# Remove \"character(0) string from \"GO.IDs\" column\n",
    "slimdf$GO.IDs[slimdf$GO.IDs == \"character(0)\"] <- \"\"\n",
    "\n",
    "# Add self-matching GOIDs to \"GO.IDs\" column, if not present\n",
    "for (go_id in go_ids) {\n",
    "  # Check if the go_id is present in the row names\n",
    "  if (go_id %in% rownames(slimdf)) {\n",
    "    # Check if the go_id is not present in the GO.IDs column\n",
    "    # Also removes white space \"trimws()\" and converts all to upper case to handle\n",
    "    # any weird, \"invisible\" formatting issues.\n",
    "    if (!go_id %in% trimws(toupper(strsplit(slimdf[go_id, \"GO.IDs\"], \";\")[[1]]))) {\n",
    "      # Append the go_id to the GO.IDs column with a semi-colon separator\n",
    "      if (length(slimdf$GO.IDs) > 0 && nchar(slimdf$GO.IDs[nrow(slimdf)]) > 0) {\n",
    "        slimdf[go_id, \"GO.IDs\"] <- paste0(slimdf[go_id, \"GO.IDs\"], \"; \", go_id)\n",
    "      } else {\n",
    "        slimdf[go_id, \"GO.IDs\"] <- go_id\n",
    "      }\n",
    "    }\n",
    "  }\n",
    "}\n",
    "\n",
    "str(slimdf)\n",
    "head(slimdf)"
   ]
  },
  {
   "cell_type": "markdown",
   "id": "230cae27-7f4f-42ea-b5b9-3a4e316007c9",
   "metadata": {},
   "source": [
    "now have df with GOslim ID as the rowname and the corresponding GO IDs that fall within the GOslim term listed"
   ]
  },
  {
   "cell_type": "markdown",
   "id": "81a369cb-d6c1-4166-bf1e-02f60223fde4",
   "metadata": {},
   "source": [
    "flatten GOslims file - one GO ID and one GOslim term per row"
   ]
  },
  {
   "cell_type": "code",
   "execution_count": 137,
   "id": "f28a817d-b0b2-4ecd-b96f-1a7a82cca410",
   "metadata": {},
   "outputs": [
    {
     "name": "stdout",
     "output_type": "stream",
     "text": [
      "tibble [219 × 3] (S3: tbl_df/tbl/data.frame)\n",
      " $ GO.IDs: chr [1:219] \" GO:0000278\" \" GO:0000910\" \" GO:0002181\" \" GO:0002376\" ...\n",
      " $ GOslim: chr [1:219] \"GO:0000278\" \"GO:0000910\" \"GO:0002181\" \"GO:0002376\" ...\n",
      " $ Term  : chr [1:219] \"mitotic cell cycle\" \"cytokinesis\" \"cytoplasmic translation\" \"immune system process\" ...\n"
     ]
    },
    {
     "data": {
      "text/html": [
       "<table class=\"dataframe\">\n",
       "<caption>A tibble: 6 × 3</caption>\n",
       "<thead>\n",
       "\t<tr><th scope=col>GO.IDs</th><th scope=col>GOslim</th><th scope=col>Term</th></tr>\n",
       "\t<tr><th scope=col>&lt;chr&gt;</th><th scope=col>&lt;chr&gt;</th><th scope=col>&lt;chr&gt;</th></tr>\n",
       "</thead>\n",
       "<tbody>\n",
       "\t<tr><td> GO:0000278</td><td>GO:0000278</td><td>mitotic cell cycle            </td></tr>\n",
       "\t<tr><td> GO:0000910</td><td>GO:0000910</td><td>cytokinesis                   </td></tr>\n",
       "\t<tr><td> GO:0002181</td><td>GO:0002181</td><td>cytoplasmic translation       </td></tr>\n",
       "\t<tr><td> GO:0002376</td><td>GO:0002376</td><td>immune system process         </td></tr>\n",
       "\t<tr><td> GO:0005975</td><td>GO:0005975</td><td>carbohydrate metabolic process</td></tr>\n",
       "\t<tr><td> GO:0006281</td><td>GO:0006281</td><td>DNA repair                    </td></tr>\n",
       "</tbody>\n",
       "</table>\n"
      ],
      "text/latex": [
       "A tibble: 6 × 3\n",
       "\\begin{tabular}{lll}\n",
       " GO.IDs & GOslim & Term\\\\\n",
       " <chr> & <chr> & <chr>\\\\\n",
       "\\hline\n",
       "\t  GO:0000278 & GO:0000278 & mitotic cell cycle            \\\\\n",
       "\t  GO:0000910 & GO:0000910 & cytokinesis                   \\\\\n",
       "\t  GO:0002181 & GO:0002181 & cytoplasmic translation       \\\\\n",
       "\t  GO:0002376 & GO:0002376 & immune system process         \\\\\n",
       "\t  GO:0005975 & GO:0005975 & carbohydrate metabolic process\\\\\n",
       "\t  GO:0006281 & GO:0006281 & DNA repair                    \\\\\n",
       "\\end{tabular}\n"
      ],
      "text/markdown": [
       "\n",
       "A tibble: 6 × 3\n",
       "\n",
       "| GO.IDs &lt;chr&gt; | GOslim &lt;chr&gt; | Term &lt;chr&gt; |\n",
       "|---|---|---|\n",
       "|  GO:0000278 | GO:0000278 | mitotic cell cycle             |\n",
       "|  GO:0000910 | GO:0000910 | cytokinesis                    |\n",
       "|  GO:0002181 | GO:0002181 | cytoplasmic translation        |\n",
       "|  GO:0002376 | GO:0002376 | immune system process          |\n",
       "|  GO:0005975 | GO:0005975 | carbohydrate metabolic process |\n",
       "|  GO:0006281 | GO:0006281 | DNA repair                     |\n",
       "\n"
      ],
      "text/plain": [
       "  GO.IDs      GOslim     Term                          \n",
       "1  GO:0000278 GO:0000278 mitotic cell cycle            \n",
       "2  GO:0000910 GO:0000910 cytokinesis                   \n",
       "3  GO:0002181 GO:0002181 cytoplasmic translation       \n",
       "4  GO:0002376 GO:0002376 immune system process         \n",
       "5  GO:0005975 GO:0005975 carbohydrate metabolic process\n",
       "6  GO:0006281 GO:0006281 DNA repair                    "
      ]
     },
     "metadata": {},
     "output_type": "display_data"
    }
   ],
   "source": [
    "# copied from workflow pipeline linked above\n",
    "\n",
    "# flatten-GOslims-file\n",
    "\n",
    "# \"Flatten\" file so each row is single GO ID with corresponding GOslim\n",
    "# rownames_to_column needed to retain row name info\n",
    "slimdf_separated <- as.data.frame(slimdf %>%\n",
    "  rownames_to_column('GOslim') %>%\n",
    "  separate_rows(GO.IDs, sep = \";\"))\n",
    "\n",
    "# Group by unique GO ID\n",
    "grouped_slimdf <- slimdf_separated %>%\n",
    "  filter(!is.na(GO.IDs) & GO.IDs != \"\") %>%\n",
    "  group_by(GO.IDs) %>%\n",
    "  summarize(GOslim = paste(GOslim, collapse = \";\"),\n",
    "            Term = paste(Term, collapse = \";\"))\n",
    "\n",
    "\n",
    "str(grouped_slimdf)\n",
    "head(grouped_slimdf)"
   ]
  },
  {
   "cell_type": "code",
   "execution_count": 138,
   "id": "2879b61a-4708-40f1-ae07-eb115493e3b7",
   "metadata": {},
   "outputs": [
    {
     "name": "stdout",
     "output_type": "stream",
     "text": [
      "'data.frame':\t72 obs. of  2 variables:\n",
      " $ Term : chr  \"lipid metabolic process\" \"signaling\" \"mRNA metabolic process\" \"protein-containing complex assembly\" ...\n",
      " $ Count: int  21 21 18 12 11 11 10 9 9 7 ...\n"
     ]
    },
    {
     "data": {
      "text/html": [
       "<table class=\"dataframe\">\n",
       "<caption>A data.frame: 6 × 2</caption>\n",
       "<thead>\n",
       "\t<tr><th></th><th scope=col>Term</th><th scope=col>Count</th></tr>\n",
       "\t<tr><th></th><th scope=col>&lt;chr&gt;</th><th scope=col>&lt;int&gt;</th></tr>\n",
       "</thead>\n",
       "<tbody>\n",
       "\t<tr><th scope=row>GO:0006629</th><td>lipid metabolic process                  </td><td>21</td></tr>\n",
       "\t<tr><th scope=row>GO:0023052</th><td>signaling                                </td><td>21</td></tr>\n",
       "\t<tr><th scope=row>GO:0016071</th><td>mRNA metabolic process                   </td><td>18</td></tr>\n",
       "\t<tr><th scope=row>GO:0065003</th><td>protein-containing complex assembly      </td><td>12</td></tr>\n",
       "\t<tr><th scope=row>GO:0042254</th><td>ribosome biogenesis                      </td><td>11</td></tr>\n",
       "\t<tr><th scope=row>GO:1901135</th><td>carbohydrate derivative metabolic process</td><td>11</td></tr>\n",
       "</tbody>\n",
       "</table>\n"
      ],
      "text/latex": [
       "A data.frame: 6 × 2\n",
       "\\begin{tabular}{r|ll}\n",
       "  & Term & Count\\\\\n",
       "  & <chr> & <int>\\\\\n",
       "\\hline\n",
       "\tGO:0006629 & lipid metabolic process                   & 21\\\\\n",
       "\tGO:0023052 & signaling                                 & 21\\\\\n",
       "\tGO:0016071 & mRNA metabolic process                    & 18\\\\\n",
       "\tGO:0065003 & protein-containing complex assembly       & 12\\\\\n",
       "\tGO:0042254 & ribosome biogenesis                       & 11\\\\\n",
       "\tGO:1901135 & carbohydrate derivative metabolic process & 11\\\\\n",
       "\\end{tabular}\n"
      ],
      "text/markdown": [
       "\n",
       "A data.frame: 6 × 2\n",
       "\n",
       "| <!--/--> | Term &lt;chr&gt; | Count &lt;int&gt; |\n",
       "|---|---|---|\n",
       "| GO:0006629 | lipid metabolic process                   | 21 |\n",
       "| GO:0023052 | signaling                                 | 21 |\n",
       "| GO:0016071 | mRNA metabolic process                    | 18 |\n",
       "| GO:0065003 | protein-containing complex assembly       | 12 |\n",
       "| GO:0042254 | ribosome biogenesis                       | 11 |\n",
       "| GO:1901135 | carbohydrate derivative metabolic process | 11 |\n",
       "\n"
      ],
      "text/plain": [
       "           Term                                      Count\n",
       "GO:0006629 lipid metabolic process                   21   \n",
       "GO:0023052 signaling                                 21   \n",
       "GO:0016071 mRNA metabolic process                    18   \n",
       "GO:0065003 protein-containing complex assembly       12   \n",
       "GO:0042254 ribosome biogenesis                       11   \n",
       "GO:1901135 carbohydrate derivative metabolic process 11   "
      ]
     },
     "metadata": {},
     "output_type": "display_data"
    }
   ],
   "source": [
    "# copied from workflow pipeline linked above\n",
    "\n",
    "# sort and select slimdf counts\n",
    "\n",
    "slimdf.sorted <- slimdf %>% arrange(desc(Count))\n",
    "\n",
    "slim.count.df <- slimdf.sorted[,c(3,1)]\n",
    " # select(Term, Count)\n",
    "\n",
    "str(slim.count.df)\n",
    "\n",
    "head(slim.count.df)"
   ]
  },
  {
   "cell_type": "code",
   "execution_count": 139,
   "id": "73bbae14-0286-402b-92aa-187ada7167d5",
   "metadata": {},
   "outputs": [
    {
     "data": {
      "image/png": "[encoded data removed]",
      "text/plain": [
       "plot without title"
      ]
     },
     "metadata": {
      "image/png": {
       "height": 420,
       "width": 420
      }
     },
     "output_type": "display_data"
    }
   ],
   "source": [
    "ggplot(slimdf %>% \n",
    "         filter(Percent > 0) %>% # remove those without any matching GO IDs\n",
    "         arrange(desc(Percent)), # order by most to least\n",
    "       aes(x=reorder(Term, Percent), y=Percent)) +\n",
    "  geom_col(fill = 'cornflowerblue') +\n",
    "  labs(x=\"GOSlim Term\", y=\"Percent of GO IDs\") +\n",
    "coord_flip() + \n",
    "  theme_bw()"
   ]
  },
  {
   "cell_type": "markdown",
   "id": "349071a9-bdf3-4671-9a08-08d7567fadfd",
   "metadata": {},
   "source": [
    "this is the exact same as the plot above with CH vs. HC when using the same method... so since there weren't any significantly enriched GO terms from the `go-mwu` analysis, they might all have similar plots in this regard - so maybe it makes sense to take my list of significant genes and just directly match to the GOslim terms"
   ]
  },
  {
   "cell_type": "markdown",
   "id": "93b7ade4-77c0-4e89-a2ff-f1f5f5f62235",
   "metadata": {
    "jp-MarkdownHeadingCollapsed": true,
    "tags": []
   },
   "source": [
    "## Combining plots\n",
    "All of these plots were created by mapping the sig. DMG in each pairwise comparison to GOslim terms"
   ]
  },
  {
   "cell_type": "code",
   "execution_count": 76,
   "id": "2a8dd4be-02f3-45ab-beca-af106f43de13",
   "metadata": {},
   "outputs": [
    {
     "data": {
      "image/png": "[encoded data removed]",
      "text/plain": [
       "plot without title"
      ]
     },
     "metadata": {
      "image/png": {
       "height": 420,
       "width": 420
      }
     },
     "output_type": "display_data"
    }
   ],
   "source": [
    "HH_goSlim_DMG"
   ]
  },
  {
   "cell_type": "code",
   "execution_count": 77,
   "id": "dc333036-8d30-448d-97af-54f1ae0898e2",
   "metadata": {},
   "outputs": [
    {
     "data": {
      "image/png": "[encoded data removed]",
      "text/plain": [
       "plot without title"
      ]
     },
     "metadata": {
      "image/png": {
       "height": 420,
       "width": 420
      }
     },
     "output_type": "display_data"
    }
   ],
   "source": [
    "CH_goSlim_DMG"
   ]
  },
  {
   "cell_type": "code",
   "execution_count": 84,
   "id": "b4a953f5-edea-4067-bd69-40c4857e7496",
   "metadata": {},
   "outputs": [
    {
     "data": {
      "text/html": [
       "<table class=\"dataframe\">\n",
       "<caption>A tibble: 6 × 4</caption>\n",
       "<thead>\n",
       "\t<tr><th scope=col>GO.IDs</th><th scope=col>GOslim</th><th scope=col>Term</th><th scope=col>gene_id</th></tr>\n",
       "\t<tr><th scope=col>&lt;chr&gt;</th><th scope=col>&lt;chr&gt;</th><th scope=col>&lt;chr&gt;</th><th scope=col>&lt;chr&gt;</th></tr>\n",
       "</thead>\n",
       "<tbody>\n",
       "\t<tr><td>GO:0000012</td><td>GO:0006281</td><td>DNA repair                         </td><td>LOC111136704</td></tr>\n",
       "\t<tr><td>GO:0000012</td><td>GO:0006281</td><td>DNA repair                         </td><td>LOC111111498</td></tr>\n",
       "\t<tr><td>GO:0000012</td><td>GO:0006281</td><td>DNA repair                         </td><td>LOC111135198</td></tr>\n",
       "\t<tr><td>GO:0000027</td><td>GO:0042254</td><td>ribosome biogenesis                </td><td>LOC111121522</td></tr>\n",
       "\t<tr><td>GO:0000027</td><td>GO:0042254</td><td>protein-containing complex assembly</td><td>LOC111121522</td></tr>\n",
       "\t<tr><td>GO:0000027</td><td>GO:0065003</td><td>ribosome biogenesis                </td><td>LOC111121522</td></tr>\n",
       "</tbody>\n",
       "</table>\n"
      ],
      "text/latex": [
       "A tibble: 6 × 4\n",
       "\\begin{tabular}{llll}\n",
       " GO.IDs & GOslim & Term & gene\\_id\\\\\n",
       " <chr> & <chr> & <chr> & <chr>\\\\\n",
       "\\hline\n",
       "\t GO:0000012 & GO:0006281 & DNA repair                          & LOC111136704\\\\\n",
       "\t GO:0000012 & GO:0006281 & DNA repair                          & LOC111111498\\\\\n",
       "\t GO:0000012 & GO:0006281 & DNA repair                          & LOC111135198\\\\\n",
       "\t GO:0000027 & GO:0042254 & ribosome biogenesis                 & LOC111121522\\\\\n",
       "\t GO:0000027 & GO:0042254 & protein-containing complex assembly & LOC111121522\\\\\n",
       "\t GO:0000027 & GO:0065003 & ribosome biogenesis                 & LOC111121522\\\\\n",
       "\\end{tabular}\n"
      ],
      "text/markdown": [
       "\n",
       "A tibble: 6 × 4\n",
       "\n",
       "| GO.IDs &lt;chr&gt; | GOslim &lt;chr&gt; | Term &lt;chr&gt; | gene_id &lt;chr&gt; |\n",
       "|---|---|---|---|\n",
       "| GO:0000012 | GO:0006281 | DNA repair                          | LOC111136704 |\n",
       "| GO:0000012 | GO:0006281 | DNA repair                          | LOC111111498 |\n",
       "| GO:0000012 | GO:0006281 | DNA repair                          | LOC111135198 |\n",
       "| GO:0000027 | GO:0042254 | ribosome biogenesis                 | LOC111121522 |\n",
       "| GO:0000027 | GO:0042254 | protein-containing complex assembly | LOC111121522 |\n",
       "| GO:0000027 | GO:0065003 | ribosome biogenesis                 | LOC111121522 |\n",
       "\n"
      ],
      "text/plain": [
       "  GO.IDs     GOslim     Term                                gene_id     \n",
       "1 GO:0000012 GO:0006281 DNA repair                          LOC111136704\n",
       "2 GO:0000012 GO:0006281 DNA repair                          LOC111111498\n",
       "3 GO:0000012 GO:0006281 DNA repair                          LOC111135198\n",
       "4 GO:0000027 GO:0042254 ribosome biogenesis                 LOC111121522\n",
       "5 GO:0000027 GO:0042254 protein-containing complex assembly LOC111121522\n",
       "6 GO:0000027 GO:0065003 ribosome biogenesis                 LOC111121522"
      ]
     },
     "metadata": {},
     "output_type": "display_data"
    }
   ],
   "source": [
    "head(flat.CH_goSlim)"
   ]
  },
  {
   "cell_type": "code",
   "execution_count": 87,
   "id": "f1cbb515-31b9-4efc-81fd-a23308acebdc",
   "metadata": {},
   "outputs": [
    {
     "data": {
      "text/html": [
       "5365"
      ],
      "text/latex": [
       "5365"
      ],
      "text/markdown": [
       "5365"
      ],
      "text/plain": [
       "[1] 5365"
      ]
     },
     "metadata": {},
     "output_type": "display_data"
    }
   ],
   "source": [
    "length(unique(flat.CH_goSlim$gene_id))"
   ]
  },
  {
   "cell_type": "markdown",
   "id": "703e22ff-9a84-4ae1-937a-e42bae800769",
   "metadata": {
    "jp-MarkdownHeadingCollapsed": true,
    "tags": []
   },
   "source": [
    "## using log(adjusted p-value)"
   ]
  },
  {
   "cell_type": "code",
   "execution_count": 106,
   "id": "de034152-1473-4366-ad49-11d1bd975218",
   "metadata": {},
   "outputs": [
    {
     "data": {
      "text/html": [
       "<table class=\"dataframe\">\n",
       "<caption>A data.frame: 6 × 2</caption>\n",
       "<thead>\n",
       "\t<tr><th></th><th scope=col>gene_id</th><th scope=col>Gene.Ontology.IDs</th></tr>\n",
       "\t<tr><th></th><th scope=col>&lt;chr&gt;</th><th scope=col>&lt;chr&gt;</th></tr>\n",
       "</thead>\n",
       "<tbody>\n",
       "\t<tr><th scope=row>1</th><td>LOC111102393</td><td>GO:0002098;GO:0002097</td></tr>\n",
       "\t<tr><th scope=row>2</th><td>LOC111108698</td><td>GO:0002098;GO:0002097</td></tr>\n",
       "\t<tr><th scope=row>3</th><td>LOC111111424</td><td>GO:0002098;GO:0002097</td></tr>\n",
       "\t<tr><th scope=row>4</th><td>LOC111113426</td><td>GO:0002098;GO:0002097</td></tr>\n",
       "\t<tr><th scope=row>5</th><td>LOC111118089</td><td>GO:0002098;GO:0002097</td></tr>\n",
       "\t<tr><th scope=row>6</th><td>LOC111119998</td><td>GO:0002098;GO:0002097</td></tr>\n",
       "</tbody>\n",
       "</table>\n"
      ],
      "text/latex": [
       "A data.frame: 6 × 2\n",
       "\\begin{tabular}{r|ll}\n",
       "  & gene\\_id & Gene.Ontology.IDs\\\\\n",
       "  & <chr> & <chr>\\\\\n",
       "\\hline\n",
       "\t1 & LOC111102393 & GO:0002098;GO:0002097\\\\\n",
       "\t2 & LOC111108698 & GO:0002098;GO:0002097\\\\\n",
       "\t3 & LOC111111424 & GO:0002098;GO:0002097\\\\\n",
       "\t4 & LOC111113426 & GO:0002098;GO:0002097\\\\\n",
       "\t5 & LOC111118089 & GO:0002098;GO:0002097\\\\\n",
       "\t6 & LOC111119998 & GO:0002098;GO:0002097\\\\\n",
       "\\end{tabular}\n"
      ],
      "text/markdown": [
       "\n",
       "A data.frame: 6 × 2\n",
       "\n",
       "| <!--/--> | gene_id &lt;chr&gt; | Gene.Ontology.IDs &lt;chr&gt; |\n",
       "|---|---|---|\n",
       "| 1 | LOC111102393 | GO:0002098;GO:0002097 |\n",
       "| 2 | LOC111108698 | GO:0002098;GO:0002097 |\n",
       "| 3 | LOC111111424 | GO:0002098;GO:0002097 |\n",
       "| 4 | LOC111113426 | GO:0002098;GO:0002097 |\n",
       "| 5 | LOC111118089 | GO:0002098;GO:0002097 |\n",
       "| 6 | LOC111119998 | GO:0002098;GO:0002097 |\n",
       "\n"
      ],
      "text/plain": [
       "  gene_id      Gene.Ontology.IDs    \n",
       "1 LOC111102393 GO:0002098;GO:0002097\n",
       "2 LOC111108698 GO:0002098;GO:0002097\n",
       "3 LOC111111424 GO:0002098;GO:0002097\n",
       "4 LOC111113426 GO:0002098;GO:0002097\n",
       "5 LOC111118089 GO:0002098;GO:0002097\n",
       "6 LOC111119998 GO:0002098;GO:0002097"
      ]
     },
     "metadata": {},
     "output_type": "display_data"
    }
   ],
   "source": [
    "goMWU_ch <- read.csv('/project/pi_sarah_gignouxwolfsohn_uml_edu/julia/CE_MethylRAD_analysis_2018/analysis/DMGs_analysis/go_mwu/BP_allGenes_CH_logP.csv', sep = '\\t')\n",
    "\n",
    "# change column name for gene to be the same in gene2GOslim\n",
    "colnames(goMWU_ch) <- c('name', 'Gene.Ontology.IDs', 'lev', 'gene_id', 'value')\n",
    "\n",
    "# only need gene_id and GO ID for input\n",
    "goMWU_ch <- goMWU_ch[,c(4,2)]\n",
    "\n",
    "head(goMWU_ch)"
   ]
  },
  {
   "cell_type": "code",
   "execution_count": 107,
   "id": "bdeb8442-4500-4a83-8754-519872f4bdc0",
   "metadata": {},
   "outputs": [],
   "source": [
    "write.csv(goMWU_ch, '/project/pi_sarah_gignouxwolfsohn_uml_edu/julia/CE_MethylRAD_analysis_2018/analysis/deseq_res_files/geneFeatures_res/go-mwu/goMWU_ch_logP.csv', row.names = FALSE)"
   ]
  },
  {
   "cell_type": "code",
   "execution_count": 108,
   "id": "b0e304d4-ab12-4af3-a188-2719d13eed99",
   "metadata": {},
   "outputs": [],
   "source": [
    "# copied from workflow pipeline linked above\n",
    "\n",
    "# set variables\n",
    "\n",
    "# Column names corresponding to gene name/ID and GO IDs\n",
    "GO.ID.column <- \"Gene.Ontology.IDs\"\n",
    "gene.ID.column <- \"gene_id\"\n",
    "\n",
    "# Relative path or URL to input file\n",
    "input.file <- '/project/pi_sarah_gignouxwolfsohn_uml_edu/julia/CE_MethylRAD_analysis_2018/analysis/deseq_res_files/geneFeatures_res/go-mwu/goMWU_ch_logP.csv'\n",
    "\n",
    "\n",
    "##### Official GO info - no need to change #####\n",
    "goslims_obo <- \"goslim_generic.obo\"\n",
    "goslims_url <- \"http://current.geneontology.org/ontology/subsets/goslim_generic.obo\"\n"
   ]
  },
  {
   "cell_type": "code",
   "execution_count": 109,
   "id": "34329ae9-58ec-40aa-a09d-97a96568516e",
   "metadata": {},
   "outputs": [],
   "source": [
    "# copied from workflow pipeline linked above\n",
    "\n",
    "# download generic goslim-obo\n",
    "\n",
    "# Find GSEAbase installation location\n",
    "gseabase_location <- find.package(\"GSEABase\")\n",
    "\n",
    "# Load path to GOslim OBO file\n",
    "goslim_obo_destintation <- file.path(gseabase_location, \"extdata\", goslims_obo, fsep = \"/\")\n",
    "\n",
    "# Download the GOslim OBO file\n",
    "download.file(url = goslims_url, destfile = goslim_obo_destintation)\n",
    "\n",
    "# Loads package files\n",
    "gseabase_files <- system.file(\"extdata\", goslims_obo, package=\"GSEABase\")"
   ]
  },
  {
   "cell_type": "markdown",
   "id": "22b90efa-7dcf-44bd-8016-d799ba5d5443",
   "metadata": {},
   "source": [
    "one unique gene per row, multiple GO IDs per gene"
   ]
  },
  {
   "cell_type": "code",
   "execution_count": 110,
   "id": "4f7268e9-c34b-486b-a507-8c9ff6eb0748",
   "metadata": {},
   "outputs": [
    {
     "name": "stdout",
     "output_type": "stream",
     "text": [
      "'data.frame':\t4371 obs. of  2 variables:\n",
      " $ gene_id          : chr  \"LOC111102393\" \"LOC111108698\" \"LOC111111424\" \"LOC111113426\" ...\n",
      " $ Gene.Ontology.IDs: chr  \"GO:0002098;GO:0002097\" \"GO:0002098;GO:0002097\" \"GO:0002098;GO:0002097\" \"GO:0002098;GO:0002097\" ...\n"
     ]
    },
    {
     "data": {
      "text/html": [
       "<table class=\"dataframe\">\n",
       "<caption>A data.frame: 6 × 2</caption>\n",
       "<thead>\n",
       "\t<tr><th></th><th scope=col>gene_id</th><th scope=col>Gene.Ontology.IDs</th></tr>\n",
       "\t<tr><th></th><th scope=col>&lt;chr&gt;</th><th scope=col>&lt;chr&gt;</th></tr>\n",
       "</thead>\n",
       "<tbody>\n",
       "\t<tr><th scope=row>1</th><td>LOC111102393</td><td>GO:0002098;GO:0002097</td></tr>\n",
       "\t<tr><th scope=row>2</th><td>LOC111108698</td><td>GO:0002098;GO:0002097</td></tr>\n",
       "\t<tr><th scope=row>3</th><td>LOC111111424</td><td>GO:0002098;GO:0002097</td></tr>\n",
       "\t<tr><th scope=row>4</th><td>LOC111113426</td><td>GO:0002098;GO:0002097</td></tr>\n",
       "\t<tr><th scope=row>5</th><td>LOC111118089</td><td>GO:0002098;GO:0002097</td></tr>\n",
       "\t<tr><th scope=row>6</th><td>LOC111119998</td><td>GO:0002098;GO:0002097</td></tr>\n",
       "</tbody>\n",
       "</table>\n"
      ],
      "text/latex": [
       "A data.frame: 6 × 2\n",
       "\\begin{tabular}{r|ll}\n",
       "  & gene\\_id & Gene.Ontology.IDs\\\\\n",
       "  & <chr> & <chr>\\\\\n",
       "\\hline\n",
       "\t1 & LOC111102393 & GO:0002098;GO:0002097\\\\\n",
       "\t2 & LOC111108698 & GO:0002098;GO:0002097\\\\\n",
       "\t3 & LOC111111424 & GO:0002098;GO:0002097\\\\\n",
       "\t4 & LOC111113426 & GO:0002098;GO:0002097\\\\\n",
       "\t5 & LOC111118089 & GO:0002098;GO:0002097\\\\\n",
       "\t6 & LOC111119998 & GO:0002098;GO:0002097\\\\\n",
       "\\end{tabular}\n"
      ],
      "text/markdown": [
       "\n",
       "A data.frame: 6 × 2\n",
       "\n",
       "| <!--/--> | gene_id &lt;chr&gt; | Gene.Ontology.IDs &lt;chr&gt; |\n",
       "|---|---|---|\n",
       "| 1 | LOC111102393 | GO:0002098;GO:0002097 |\n",
       "| 2 | LOC111108698 | GO:0002098;GO:0002097 |\n",
       "| 3 | LOC111111424 | GO:0002098;GO:0002097 |\n",
       "| 4 | LOC111113426 | GO:0002098;GO:0002097 |\n",
       "| 5 | LOC111118089 | GO:0002098;GO:0002097 |\n",
       "| 6 | LOC111119998 | GO:0002098;GO:0002097 |\n",
       "\n"
      ],
      "text/plain": [
       "  gene_id      Gene.Ontology.IDs    \n",
       "1 LOC111102393 GO:0002098;GO:0002097\n",
       "2 LOC111108698 GO:0002098;GO:0002097\n",
       "3 LOC111111424 GO:0002098;GO:0002097\n",
       "4 LOC111113426 GO:0002098;GO:0002097\n",
       "5 LOC111118089 GO:0002098;GO:0002097\n",
       "6 LOC111119998 GO:0002098;GO:0002097"
      ]
     },
     "metadata": {},
     "output_type": "display_data"
    }
   ],
   "source": [
    "# copied from workflow pipeline linked above\n",
    "\n",
    "# read in gene file\n",
    "\n",
    "full.gene.df <- read.csv(file = input.file, header = TRUE)\n",
    "\n",
    "str(full.gene.df)\n",
    "head(full.gene.df)"
   ]
  },
  {
   "cell_type": "code",
   "execution_count": 111,
   "id": "4e73e36f-98dd-4cf7-9844-f821b1861ebb",
   "metadata": {},
   "outputs": [
    {
     "data": {
      "text/html": [
       "<table class=\"dataframe\">\n",
       "<caption>A data.frame: 6 × 2</caption>\n",
       "<thead>\n",
       "\t<tr><th></th><th scope=col>gene_id</th><th scope=col>Gene.Ontology.IDs</th></tr>\n",
       "\t<tr><th></th><th scope=col>&lt;chr&gt;</th><th scope=col>&lt;chr&gt;</th></tr>\n",
       "</thead>\n",
       "<tbody>\n",
       "\t<tr><th scope=row>1</th><td>LOC111102393</td><td>GO:0002098;GO:0002097</td></tr>\n",
       "\t<tr><th scope=row>2</th><td>LOC111108698</td><td>GO:0002098;GO:0002097</td></tr>\n",
       "\t<tr><th scope=row>3</th><td>LOC111111424</td><td>GO:0002098;GO:0002097</td></tr>\n",
       "\t<tr><th scope=row>4</th><td>LOC111113426</td><td>GO:0002098;GO:0002097</td></tr>\n",
       "\t<tr><th scope=row>5</th><td>LOC111118089</td><td>GO:0002098;GO:0002097</td></tr>\n",
       "\t<tr><th scope=row>6</th><td>LOC111119998</td><td>GO:0002098;GO:0002097</td></tr>\n",
       "</tbody>\n",
       "</table>\n"
      ],
      "text/latex": [
       "A data.frame: 6 × 2\n",
       "\\begin{tabular}{r|ll}\n",
       "  & gene\\_id & Gene.Ontology.IDs\\\\\n",
       "  & <chr> & <chr>\\\\\n",
       "\\hline\n",
       "\t1 & LOC111102393 & GO:0002098;GO:0002097\\\\\n",
       "\t2 & LOC111108698 & GO:0002098;GO:0002097\\\\\n",
       "\t3 & LOC111111424 & GO:0002098;GO:0002097\\\\\n",
       "\t4 & LOC111113426 & GO:0002098;GO:0002097\\\\\n",
       "\t5 & LOC111118089 & GO:0002098;GO:0002097\\\\\n",
       "\t6 & LOC111119998 & GO:0002098;GO:0002097\\\\\n",
       "\\end{tabular}\n"
      ],
      "text/markdown": [
       "\n",
       "A data.frame: 6 × 2\n",
       "\n",
       "| <!--/--> | gene_id &lt;chr&gt; | Gene.Ontology.IDs &lt;chr&gt; |\n",
       "|---|---|---|\n",
       "| 1 | LOC111102393 | GO:0002098;GO:0002097 |\n",
       "| 2 | LOC111108698 | GO:0002098;GO:0002097 |\n",
       "| 3 | LOC111111424 | GO:0002098;GO:0002097 |\n",
       "| 4 | LOC111113426 | GO:0002098;GO:0002097 |\n",
       "| 5 | LOC111118089 | GO:0002098;GO:0002097 |\n",
       "| 6 | LOC111119998 | GO:0002098;GO:0002097 |\n",
       "\n"
      ],
      "text/plain": [
       "  gene_id      Gene.Ontology.IDs    \n",
       "1 LOC111102393 GO:0002098;GO:0002097\n",
       "2 LOC111108698 GO:0002098;GO:0002097\n",
       "3 LOC111111424 GO:0002098;GO:0002097\n",
       "4 LOC111113426 GO:0002098;GO:0002097\n",
       "5 LOC111118089 GO:0002098;GO:0002097\n",
       "6 LOC111119998 GO:0002098;GO:0002097"
      ]
     },
     "metadata": {},
     "output_type": "display_data"
    }
   ],
   "source": [
    "# copied from workflow pipeline linked above\n",
    "\n",
    "# remove NA and uniprotIDs\n",
    "\n",
    "# Clean whitespace, filter NA/empty rows, select columns, and split GO terms using column name variables\n",
    "library(dplyr) # for some reason I'm having conflicts with select()\n",
    "gene.GO.df <- full.gene.df %>%\n",
    "  mutate(!!GO.ID.column := str_replace_all(.data[[GO.ID.column]], \"\\\\s*;\\\\s*\", \";\")) %>%\n",
    "  filter(!is.na(.data[[gene.ID.column]]) & !is.na(.data[[GO.ID.column]]) & .data[[GO.ID.column]] != \"\") %>%\n",
    "  dplyr::select(all_of(c(gene.ID.column, GO.ID.column)))\n",
    "\n",
    "head(gene.GO.df)"
   ]
  },
  {
   "cell_type": "markdown",
   "id": "82c9dc00-4e06-428b-ac89-c9859feb1205",
   "metadata": {},
   "source": [
    "flatten df so only one gene and one GO ID per row"
   ]
  },
  {
   "cell_type": "code",
   "execution_count": 112,
   "id": "92430c58-9a1d-46bc-aae0-6292fd225ddd",
   "metadata": {},
   "outputs": [
    {
     "name": "stdout",
     "output_type": "stream",
     "text": [
      "tibble [10,410 × 2] (S3: tbl_df/tbl/data.frame)\n",
      " $ gene_id          : chr [1:10410] \"LOC111102393\" \"LOC111102393\" \"LOC111108698\" \"LOC111108698\" ...\n",
      " $ Gene.Ontology.IDs: chr [1:10410] \"GO:0002098\" \"GO:0002097\" \"GO:0002098\" \"GO:0002097\" ...\n"
     ]
    },
    {
     "data": {
      "text/html": [
       "<table class=\"dataframe\">\n",
       "<caption>A tibble: 6 × 2</caption>\n",
       "<thead>\n",
       "\t<tr><th scope=col>gene_id</th><th scope=col>Gene.Ontology.IDs</th></tr>\n",
       "\t<tr><th scope=col>&lt;chr&gt;</th><th scope=col>&lt;chr&gt;</th></tr>\n",
       "</thead>\n",
       "<tbody>\n",
       "\t<tr><td>LOC111102393</td><td>GO:0002098</td></tr>\n",
       "\t<tr><td>LOC111102393</td><td>GO:0002097</td></tr>\n",
       "\t<tr><td>LOC111108698</td><td>GO:0002098</td></tr>\n",
       "\t<tr><td>LOC111108698</td><td>GO:0002097</td></tr>\n",
       "\t<tr><td>LOC111111424</td><td>GO:0002098</td></tr>\n",
       "\t<tr><td>LOC111111424</td><td>GO:0002097</td></tr>\n",
       "</tbody>\n",
       "</table>\n"
      ],
      "text/latex": [
       "A tibble: 6 × 2\n",
       "\\begin{tabular}{ll}\n",
       " gene\\_id & Gene.Ontology.IDs\\\\\n",
       " <chr> & <chr>\\\\\n",
       "\\hline\n",
       "\t LOC111102393 & GO:0002098\\\\\n",
       "\t LOC111102393 & GO:0002097\\\\\n",
       "\t LOC111108698 & GO:0002098\\\\\n",
       "\t LOC111108698 & GO:0002097\\\\\n",
       "\t LOC111111424 & GO:0002098\\\\\n",
       "\t LOC111111424 & GO:0002097\\\\\n",
       "\\end{tabular}\n"
      ],
      "text/markdown": [
       "\n",
       "A tibble: 6 × 2\n",
       "\n",
       "| gene_id &lt;chr&gt; | Gene.Ontology.IDs &lt;chr&gt; |\n",
       "|---|---|\n",
       "| LOC111102393 | GO:0002098 |\n",
       "| LOC111102393 | GO:0002097 |\n",
       "| LOC111108698 | GO:0002098 |\n",
       "| LOC111108698 | GO:0002097 |\n",
       "| LOC111111424 | GO:0002098 |\n",
       "| LOC111111424 | GO:0002097 |\n",
       "\n"
      ],
      "text/plain": [
       "  gene_id      Gene.Ontology.IDs\n",
       "1 LOC111102393 GO:0002098       \n",
       "2 LOC111102393 GO:0002097       \n",
       "3 LOC111108698 GO:0002098       \n",
       "4 LOC111108698 GO:0002097       \n",
       "5 LOC111111424 GO:0002098       \n",
       "6 LOC111111424 GO:0002097       "
      ]
     },
     "metadata": {},
     "output_type": "display_data"
    }
   ],
   "source": [
    "# copied from workflow pipeline linked above\n",
    "\n",
    "# flatten gene and GO IDs\n",
    "\n",
    "flat.gene.GO.df <- gene.GO.df %>% separate_rows(!!sym(GO.ID.column), sep = \";\")\n",
    "\n",
    "str(flat.gene.GO.df)\n",
    "head(flat.gene.GO.df)"
   ]
  },
  {
   "cell_type": "markdown",
   "id": "73093ae3-4c5b-4868-aece-7f6d54740543",
   "metadata": {},
   "source": [
    "Grouping by GO ID - one unique GO ID per row, multiple genes per GO ID"
   ]
  },
  {
   "cell_type": "code",
   "execution_count": 113,
   "id": "b4a4f0e8-ed6f-4340-9038-ccd4e077484a",
   "metadata": {},
   "outputs": [
    {
     "name": "stdout",
     "output_type": "stream",
     "text": [
      "tibble [387 × 2] (S3: tbl_df/tbl/data.frame)\n",
      " $ Gene.Ontology.IDs: chr [1:387] \"GO:0000012\" \"GO:0000027\" \"GO:0000028\" \"GO:0000045\" ...\n",
      " $ gene_id          : chr [1:387] \"LOC111111498,LOC111111868,LOC111128425,LOC111128516,LOC111135198\" \"LOC111103620,LOC111109112,LOC111116477,LOC111118739,LOC111119745,LOC111119970,LOC111120886,LOC111120892,LOC1111\"| __truncated__ \"LOC111112561,LOC111118540,LOC111120557,LOC111123620,LOC111125548,LOC111126883,LOC111127769,LOC111128580,LOC111135312\" \"LOC111100878,LOC111101815,LOC111102871,LOC111106048,LOC111108144,LOC111111295,LOC111111995,LOC111118945,LOC1111\"| __truncated__ ...\n"
     ]
    },
    {
     "data": {
      "text/html": [
       "<table class=\"dataframe\">\n",
       "<caption>A tibble: 6 × 2</caption>\n",
       "<thead>\n",
       "\t<tr><th scope=col>Gene.Ontology.IDs</th><th scope=col>gene_id</th></tr>\n",
       "\t<tr><th scope=col>&lt;chr&gt;</th><th scope=col>&lt;chr&gt;</th></tr>\n",
       "</thead>\n",
       "<tbody>\n",
       "\t<tr><td>GO:0000012</td><td>LOC111111498,LOC111111868,LOC111128425,LOC111128516,LOC111135198                                                                                                                                                                                                   </td></tr>\n",
       "\t<tr><td>GO:0000027</td><td>LOC111103620,LOC111109112,LOC111116477,LOC111118739,LOC111119745,LOC111119970,LOC111120886,LOC111120892,LOC111121522,LOC111121958,LOC111129891,LOC111130039,LOC111132903,LOC111135538,LOC111136247                                                                 </td></tr>\n",
       "\t<tr><td>GO:0000028</td><td>LOC111112561,LOC111118540,LOC111120557,LOC111123620,LOC111125548,LOC111126883,LOC111127769,LOC111128580,LOC111135312                                                                                                                                               </td></tr>\n",
       "\t<tr><td>GO:0000045</td><td>LOC111100878,LOC111101815,LOC111102871,LOC111106048,LOC111108144,LOC111111295,LOC111111995,LOC111118945,LOC111122717,LOC111123325,LOC111127879,LOC111127926,LOC111128047,LOC111128059,LOC111129370,LOC111132058,LOC111132962,LOC111133363,LOC111134873,LOC111137152</td></tr>\n",
       "\t<tr><td>GO:0000054</td><td>LOC111119639,LOC111122535,LOC111125104,LOC111125671,LOC111129825,LOC111133705,LOC111135936,LOC111136254                                                                                                                                                            </td></tr>\n",
       "\t<tr><td>GO:0000075</td><td>LOC111100380,LOC111107373,LOC111118434,LOC111122215,LOC111123010,LOC111129910,LOC111130869,LOC111130932,LOC111131374,LOC111132658,LOC111133654,LOC111135160,LOC111136545,LOC111124911,LOC111138117                                                                 </td></tr>\n",
       "</tbody>\n",
       "</table>\n"
      ],
      "text/latex": [
       "A tibble: 6 × 2\n",
       "\\begin{tabular}{ll}\n",
       " Gene.Ontology.IDs & gene\\_id\\\\\n",
       " <chr> & <chr>\\\\\n",
       "\\hline\n",
       "\t GO:0000012 & LOC111111498,LOC111111868,LOC111128425,LOC111128516,LOC111135198                                                                                                                                                                                                   \\\\\n",
       "\t GO:0000027 & LOC111103620,LOC111109112,LOC111116477,LOC111118739,LOC111119745,LOC111119970,LOC111120886,LOC111120892,LOC111121522,LOC111121958,LOC111129891,LOC111130039,LOC111132903,LOC111135538,LOC111136247                                                                 \\\\\n",
       "\t GO:0000028 & LOC111112561,LOC111118540,LOC111120557,LOC111123620,LOC111125548,LOC111126883,LOC111127769,LOC111128580,LOC111135312                                                                                                                                               \\\\\n",
       "\t GO:0000045 & LOC111100878,LOC111101815,LOC111102871,LOC111106048,LOC111108144,LOC111111295,LOC111111995,LOC111118945,LOC111122717,LOC111123325,LOC111127879,LOC111127926,LOC111128047,LOC111128059,LOC111129370,LOC111132058,LOC111132962,LOC111133363,LOC111134873,LOC111137152\\\\\n",
       "\t GO:0000054 & LOC111119639,LOC111122535,LOC111125104,LOC111125671,LOC111129825,LOC111133705,LOC111135936,LOC111136254                                                                                                                                                            \\\\\n",
       "\t GO:0000075 & LOC111100380,LOC111107373,LOC111118434,LOC111122215,LOC111123010,LOC111129910,LOC111130869,LOC111130932,LOC111131374,LOC111132658,LOC111133654,LOC111135160,LOC111136545,LOC111124911,LOC111138117                                                                 \\\\\n",
       "\\end{tabular}\n"
      ],
      "text/markdown": [
       "\n",
       "A tibble: 6 × 2\n",
       "\n",
       "| Gene.Ontology.IDs &lt;chr&gt; | gene_id &lt;chr&gt; |\n",
       "|---|---|\n",
       "| GO:0000012 | LOC111111498,LOC111111868,LOC111128425,LOC111128516,LOC111135198                                                                                                                                                                                                    |\n",
       "| GO:0000027 | LOC111103620,LOC111109112,LOC111116477,LOC111118739,LOC111119745,LOC111119970,LOC111120886,LOC111120892,LOC111121522,LOC111121958,LOC111129891,LOC111130039,LOC111132903,LOC111135538,LOC111136247                                                                  |\n",
       "| GO:0000028 | LOC111112561,LOC111118540,LOC111120557,LOC111123620,LOC111125548,LOC111126883,LOC111127769,LOC111128580,LOC111135312                                                                                                                                                |\n",
       "| GO:0000045 | LOC111100878,LOC111101815,LOC111102871,LOC111106048,LOC111108144,LOC111111295,LOC111111995,LOC111118945,LOC111122717,LOC111123325,LOC111127879,LOC111127926,LOC111128047,LOC111128059,LOC111129370,LOC111132058,LOC111132962,LOC111133363,LOC111134873,LOC111137152 |\n",
       "| GO:0000054 | LOC111119639,LOC111122535,LOC111125104,LOC111125671,LOC111129825,LOC111133705,LOC111135936,LOC111136254                                                                                                                                                             |\n",
       "| GO:0000075 | LOC111100380,LOC111107373,LOC111118434,LOC111122215,LOC111123010,LOC111129910,LOC111130869,LOC111130932,LOC111131374,LOC111132658,LOC111133654,LOC111135160,LOC111136545,LOC111124911,LOC111138117                                                                  |\n",
       "\n"
      ],
      "text/plain": [
       "  Gene.Ontology.IDs\n",
       "1 GO:0000012       \n",
       "2 GO:0000027       \n",
       "3 GO:0000028       \n",
       "4 GO:0000045       \n",
       "5 GO:0000054       \n",
       "6 GO:0000075       \n",
       "  gene_id                                                                                                                                                                                                                                                            \n",
       "1 LOC111111498,LOC111111868,LOC111128425,LOC111128516,LOC111135198                                                                                                                                                                                                   \n",
       "2 LOC111103620,LOC111109112,LOC111116477,LOC111118739,LOC111119745,LOC111119970,LOC111120886,LOC111120892,LOC111121522,LOC111121958,LOC111129891,LOC111130039,LOC111132903,LOC111135538,LOC111136247                                                                 \n",
       "3 LOC111112561,LOC111118540,LOC111120557,LOC111123620,LOC111125548,LOC111126883,LOC111127769,LOC111128580,LOC111135312                                                                                                                                               \n",
       "4 LOC111100878,LOC111101815,LOC111102871,LOC111106048,LOC111108144,LOC111111295,LOC111111995,LOC111118945,LOC111122717,LOC111123325,LOC111127879,LOC111127926,LOC111128047,LOC111128059,LOC111129370,LOC111132058,LOC111132962,LOC111133363,LOC111134873,LOC111137152\n",
       "5 LOC111119639,LOC111122535,LOC111125104,LOC111125671,LOC111129825,LOC111133705,LOC111135936,LOC111136254                                                                                                                                                            \n",
       "6 LOC111100380,LOC111107373,LOC111118434,LOC111122215,LOC111123010,LOC111129910,LOC111130869,LOC111130932,LOC111131374,LOC111132658,LOC111133654,LOC111135160,LOC111136545,LOC111124911,LOC111138117                                                                 "
      ]
     },
     "metadata": {},
     "output_type": "display_data"
    }
   ],
   "source": [
    "# copied from workflow pipeline linked above\n",
    "\n",
    "# group by GO\n",
    "\n",
    "grouped.gene.GO.df <- flat.gene.GO.df %>%\n",
    "  group_by(!!sym(GO.ID.column)) %>%\n",
    "  summarise(!!gene.ID.column := paste(.data[[gene.ID.column]], collapse = \",\"))\n",
    "\n",
    "str(grouped.gene.GO.df)\n",
    "head(grouped.gene.GO.df)"
   ]
  },
  {
   "cell_type": "markdown",
   "id": "6b2b3be5-adad-411d-a387-5345585d115b",
   "metadata": {},
   "source": [
    "#### Mapping GO IDs to GO Slim"
   ]
  },
  {
   "cell_type": "code",
   "execution_count": 114,
   "id": "3f40f47b-0bb1-4466-b31a-4113a564e067",
   "metadata": {},
   "outputs": [
    {
     "name": "stdout",
     "output_type": "stream",
     "text": [
      " chr [1:387] \"GO:0000012\" \"GO:0000027\" \"GO:0000028\" \"GO:0000045\" ...\n"
     ]
    },
    {
     "data": {
      "text/html": [
       "<style>\n",
       ".list-inline {list-style: none; margin:0; padding: 0}\n",
       ".list-inline>li {display: inline-block}\n",
       ".list-inline>li:not(:last-child)::after {content: \"\\00b7\"; padding: 0 .5ex}\n",
       "</style>\n",
       "<ol class=list-inline><li>'GO:0000012'</li><li>'GO:0000027'</li><li>'GO:0000028'</li><li>'GO:0000045'</li><li>'GO:0000054'</li><li>'GO:0000075'</li></ol>\n"
      ],
      "text/latex": [
       "\\begin{enumerate*}\n",
       "\\item 'GO:0000012'\n",
       "\\item 'GO:0000027'\n",
       "\\item 'GO:0000028'\n",
       "\\item 'GO:0000045'\n",
       "\\item 'GO:0000054'\n",
       "\\item 'GO:0000075'\n",
       "\\end{enumerate*}\n"
      ],
      "text/markdown": [
       "1. 'GO:0000012'\n",
       "2. 'GO:0000027'\n",
       "3. 'GO:0000028'\n",
       "4. 'GO:0000045'\n",
       "5. 'GO:0000054'\n",
       "6. 'GO:0000075'\n",
       "\n",
       "\n"
      ],
      "text/plain": [
       "[1] \"GO:0000012\" \"GO:0000027\" \"GO:0000028\" \"GO:0000045\" \"GO:0000054\"\n",
       "[6] \"GO:0000075\""
      ]
     },
     "metadata": {},
     "output_type": "display_data"
    }
   ],
   "source": [
    "# copied from workflow pipeline linked above\n",
    "\n",
    "# Vectorize GO IDs\n",
    "go_ids <- grouped.gene.GO.df[[GO.ID.column]]\n",
    "\n",
    "str(go_ids)\n",
    "head(go_ids)"
   ]
  },
  {
   "cell_type": "code",
   "execution_count": 115,
   "id": "884bc1f2-7157-4a4e-91a9-ea7a38594c61",
   "metadata": {},
   "outputs": [
    {
     "name": "stdout",
     "output_type": "stream",
     "text": [
      "Formal class 'OBOCollection' [package \"GSEABase\"] with 7 slots\n",
      "  ..@ .stanza     :'data.frame':\t153 obs. of  1 variable:\n",
      "  .. ..$ value: chr [1:153] \"Root\" \"Term\" \"Term\" \"Term\" ...\n",
      "  ..@ .subset     :'data.frame':\t22 obs. of  1 variable:\n",
      "  .. ..$ value: chr [1:22] \"Rhea list of ChEBI terms representing the major species at pH 7.3.\" \"Term not to be used for direct annotation\" \"Terms planned for obsoletion\" \"AGR slim\" ...\n",
      "  ..@ .kv         :'data.frame':\t2075 obs. of  3 variables:\n",
      "  .. ..$ stanza_id: chr [1:2075] \".__Root__\" \".__Root__\" \".__Root__\" \".__Root__\" ...\n",
      "  .. ..$ key      : chr [1:2075] \"format-version\" \"data-version\" \"synonymtypedef\" \"synonymtypedef\" ...\n",
      "  .. ..$ value    : chr [1:2075] \"1.2\" \"go/2024-11-03/subsets/goslim_generic.owl\" \"syngo_official_label \\\"label approved by the SynGO project\\\"\" \"systematic_synonym \\\"Systematic synonym\\\" EXACT\" ...\n",
      "  ..@ evidenceCode: chr [1:26] \"EXP\" \"IDA\" \"IPI\" \"IMP\" ...\n",
      "  ..@ ontology    : chr NA\n",
      "  ..@ ids         : chr [1:141] \"GO:0000228\" \"GO:0000278\" \"GO:0000910\" \"GO:0001618\" ...\n",
      "  ..@ type        : chr \"OBO\"\n"
     ]
    }
   ],
   "source": [
    "# copied from workflow pipeline linked above\n",
    "\n",
    "# extract GOslims from OBO\n",
    "\n",
    "# Create GSEAbase GOCollection using `go_ids`\n",
    "myCollection <- GOCollection(go_ids)\n",
    "\n",
    "# Retrieve GOslims from GO OBO file set\n",
    "slim <- getOBOCollection(gseabase_files)\n",
    "\n",
    "str(slim)"
   ]
  },
  {
   "cell_type": "code",
   "execution_count": 116,
   "id": "647db4c7-368b-4b12-b008-94d6f260e076",
   "metadata": {},
   "outputs": [
    {
     "name": "stdout",
     "output_type": "stream",
     "text": [
      "'data.frame':\t72 obs. of  3 variables:\n",
      " $ Count  : int  5 3 1 2 0 0 0 0 2 0 ...\n",
      " $ Percent: num  2.632 1.579 0.526 1.053 0 ...\n",
      " $ Term   : chr  \"mitotic cell cycle\" \"cytokinesis\" \"cytoplasmic translation\" \"immune system process\" ...\n"
     ]
    },
    {
     "data": {
      "text/html": [
       "<table class=\"dataframe\">\n",
       "<caption>A data.frame: 6 × 3</caption>\n",
       "<thead>\n",
       "\t<tr><th></th><th scope=col>Count</th><th scope=col>Percent</th><th scope=col>Term</th></tr>\n",
       "\t<tr><th></th><th scope=col>&lt;int&gt;</th><th scope=col>&lt;dbl&gt;</th><th scope=col>&lt;chr&gt;</th></tr>\n",
       "</thead>\n",
       "<tbody>\n",
       "\t<tr><th scope=row>GO:0000278</th><td>5</td><td>2.6315789</td><td>mitotic cell cycle        </td></tr>\n",
       "\t<tr><th scope=row>GO:0000910</th><td>3</td><td>1.5789474</td><td>cytokinesis               </td></tr>\n",
       "\t<tr><th scope=row>GO:0002181</th><td>1</td><td>0.5263158</td><td>cytoplasmic translation   </td></tr>\n",
       "\t<tr><th scope=row>GO:0002376</th><td>2</td><td>1.0526316</td><td>immune system process     </td></tr>\n",
       "\t<tr><th scope=row>GO:0003012</th><td>0</td><td>0.0000000</td><td>muscle system process     </td></tr>\n",
       "\t<tr><th scope=row>GO:0003013</th><td>0</td><td>0.0000000</td><td>circulatory system process</td></tr>\n",
       "</tbody>\n",
       "</table>\n"
      ],
      "text/latex": [
       "A data.frame: 6 × 3\n",
       "\\begin{tabular}{r|lll}\n",
       "  & Count & Percent & Term\\\\\n",
       "  & <int> & <dbl> & <chr>\\\\\n",
       "\\hline\n",
       "\tGO:0000278 & 5 & 2.6315789 & mitotic cell cycle        \\\\\n",
       "\tGO:0000910 & 3 & 1.5789474 & cytokinesis               \\\\\n",
       "\tGO:0002181 & 1 & 0.5263158 & cytoplasmic translation   \\\\\n",
       "\tGO:0002376 & 2 & 1.0526316 & immune system process     \\\\\n",
       "\tGO:0003012 & 0 & 0.0000000 & muscle system process     \\\\\n",
       "\tGO:0003013 & 0 & 0.0000000 & circulatory system process\\\\\n",
       "\\end{tabular}\n"
      ],
      "text/markdown": [
       "\n",
       "A data.frame: 6 × 3\n",
       "\n",
       "| <!--/--> | Count &lt;int&gt; | Percent &lt;dbl&gt; | Term &lt;chr&gt; |\n",
       "|---|---|---|---|\n",
       "| GO:0000278 | 5 | 2.6315789 | mitotic cell cycle         |\n",
       "| GO:0000910 | 3 | 1.5789474 | cytokinesis                |\n",
       "| GO:0002181 | 1 | 0.5263158 | cytoplasmic translation    |\n",
       "| GO:0002376 | 2 | 1.0526316 | immune system process      |\n",
       "| GO:0003012 | 0 | 0.0000000 | muscle system process      |\n",
       "| GO:0003013 | 0 | 0.0000000 | circulatory system process |\n",
       "\n"
      ],
      "text/plain": [
       "           Count Percent   Term                      \n",
       "GO:0000278 5     2.6315789 mitotic cell cycle        \n",
       "GO:0000910 3     1.5789474 cytokinesis               \n",
       "GO:0002181 1     0.5263158 cytoplasmic translation   \n",
       "GO:0002376 2     1.0526316 immune system process     \n",
       "GO:0003012 0     0.0000000 muscle system process     \n",
       "GO:0003013 0     0.0000000 circulatory system process"
      ]
     },
     "metadata": {},
     "output_type": "display_data"
    }
   ],
   "source": [
    "# copied from workflow pipeline linked above\n",
    "\n",
    "# retrieve BP GOslims\n",
    "\n",
    "# Retrieve Biological Process (BP) GOslims\n",
    "slimdf <- goSlim(myCollection, slim, \"BP\", verbose)\n",
    "str(slimdf)\n",
    "head(slimdf)"
   ]
  },
  {
   "cell_type": "code",
   "execution_count": 117,
   "id": "cbf5ce5d-0852-456a-8b11-68f61f785d2b",
   "metadata": {},
   "outputs": [
    {
     "data": {
      "text/html": [
       "<style>\n",
       ".list-inline {list-style: none; margin:0; padding: 0}\n",
       ".list-inline>li {display: inline-block}\n",
       ".list-inline>li:not(:last-child)::after {content: \"\\00b7\"; padding: 0 .5ex}\n",
       "</style>\n",
       "<ol class=list-inline><li>72</li><li>3</li></ol>\n"
      ],
      "text/latex": [
       "\\begin{enumerate*}\n",
       "\\item 72\n",
       "\\item 3\n",
       "\\end{enumerate*}\n"
      ],
      "text/markdown": [
       "1. 72\n",
       "2. 3\n",
       "\n",
       "\n"
      ],
      "text/plain": [
       "[1] 72  3"
      ]
     },
     "metadata": {},
     "output_type": "display_data"
    }
   ],
   "source": [
    "dim(slimdf) # 72 total GOslim terms"
   ]
  },
  {
   "cell_type": "markdown",
   "id": "184b196c-ab50-446f-bd02-099f6388908f",
   "metadata": {},
   "source": [
    "so now have df with GOslim term and GO ID"
   ]
  },
  {
   "cell_type": "code",
   "execution_count": 118,
   "id": "810ba9f9-4768-4d08-9b11-c12825f879ef",
   "metadata": {},
   "outputs": [
    {
     "name": "stdout",
     "output_type": "stream",
     "text": [
      "'data.frame':\t72 obs. of  4 variables:\n",
      " $ Count  : int  5 3 1 2 0 0 0 0 2 0 ...\n",
      " $ Percent: num  2.632 1.579 0.526 1.053 0 ...\n",
      " $ Term   : chr  \"mitotic cell cycle\" \"cytokinesis\" \"cytoplasmic translation\" \"immune system process\" ...\n",
      " $ GO.IDs : chr  \"GO:0000082;GO:0000281;GO:0044772;GO:1903047; GO:0000278\" \"GO:0000281;GO:0061640; GO:0000910\" \"; GO:0002181\" \"GO:0002221;GO:0002224\" ...\n"
     ]
    },
    {
     "data": {
      "text/html": [
       "<table class=\"dataframe\">\n",
       "<caption>A data.frame: 6 × 4</caption>\n",
       "<thead>\n",
       "\t<tr><th></th><th scope=col>Count</th><th scope=col>Percent</th><th scope=col>Term</th><th scope=col>GO.IDs</th></tr>\n",
       "\t<tr><th></th><th scope=col>&lt;int&gt;</th><th scope=col>&lt;dbl&gt;</th><th scope=col>&lt;chr&gt;</th><th scope=col>&lt;chr&gt;</th></tr>\n",
       "</thead>\n",
       "<tbody>\n",
       "\t<tr><th scope=row>GO:0000278</th><td>5</td><td>2.6315789</td><td>mitotic cell cycle        </td><td>GO:0000082;GO:0000281;GO:0044772;GO:1903047; GO:0000278</td></tr>\n",
       "\t<tr><th scope=row>GO:0000910</th><td>3</td><td>1.5789474</td><td>cytokinesis               </td><td>GO:0000281;GO:0061640; GO:0000910                      </td></tr>\n",
       "\t<tr><th scope=row>GO:0002181</th><td>1</td><td>0.5263158</td><td>cytoplasmic translation   </td><td>; GO:0002181                                           </td></tr>\n",
       "\t<tr><th scope=row>GO:0002376</th><td>2</td><td>1.0526316</td><td>immune system process     </td><td>GO:0002221;GO:0002224                                  </td></tr>\n",
       "\t<tr><th scope=row>GO:0003012</th><td>0</td><td>0.0000000</td><td>muscle system process     </td><td>                                                       </td></tr>\n",
       "\t<tr><th scope=row>GO:0003013</th><td>0</td><td>0.0000000</td><td>circulatory system process</td><td>                                                       </td></tr>\n",
       "</tbody>\n",
       "</table>\n"
      ],
      "text/latex": [
       "A data.frame: 6 × 4\n",
       "\\begin{tabular}{r|llll}\n",
       "  & Count & Percent & Term & GO.IDs\\\\\n",
       "  & <int> & <dbl> & <chr> & <chr>\\\\\n",
       "\\hline\n",
       "\tGO:0000278 & 5 & 2.6315789 & mitotic cell cycle         & GO:0000082;GO:0000281;GO:0044772;GO:1903047; GO:0000278\\\\\n",
       "\tGO:0000910 & 3 & 1.5789474 & cytokinesis                & GO:0000281;GO:0061640; GO:0000910                      \\\\\n",
       "\tGO:0002181 & 1 & 0.5263158 & cytoplasmic translation    & ; GO:0002181                                           \\\\\n",
       "\tGO:0002376 & 2 & 1.0526316 & immune system process      & GO:0002221;GO:0002224                                  \\\\\n",
       "\tGO:0003012 & 0 & 0.0000000 & muscle system process      &                                                        \\\\\n",
       "\tGO:0003013 & 0 & 0.0000000 & circulatory system process &                                                        \\\\\n",
       "\\end{tabular}\n"
      ],
      "text/markdown": [
       "\n",
       "A data.frame: 6 × 4\n",
       "\n",
       "| <!--/--> | Count &lt;int&gt; | Percent &lt;dbl&gt; | Term &lt;chr&gt; | GO.IDs &lt;chr&gt; |\n",
       "|---|---|---|---|---|\n",
       "| GO:0000278 | 5 | 2.6315789 | mitotic cell cycle         | GO:0000082;GO:0000281;GO:0044772;GO:1903047; GO:0000278 |\n",
       "| GO:0000910 | 3 | 1.5789474 | cytokinesis                | GO:0000281;GO:0061640; GO:0000910                       |\n",
       "| GO:0002181 | 1 | 0.5263158 | cytoplasmic translation    | ; GO:0002181                                            |\n",
       "| GO:0002376 | 2 | 1.0526316 | immune system process      | GO:0002221;GO:0002224                                   |\n",
       "| GO:0003012 | 0 | 0.0000000 | muscle system process      | <!----> |\n",
       "| GO:0003013 | 0 | 0.0000000 | circulatory system process | <!----> |\n",
       "\n"
      ],
      "text/plain": [
       "           Count Percent   Term                      \n",
       "GO:0000278 5     2.6315789 mitotic cell cycle        \n",
       "GO:0000910 3     1.5789474 cytokinesis               \n",
       "GO:0002181 1     0.5263158 cytoplasmic translation   \n",
       "GO:0002376 2     1.0526316 immune system process     \n",
       "GO:0003012 0     0.0000000 muscle system process     \n",
       "GO:0003013 0     0.0000000 circulatory system process\n",
       "           GO.IDs                                                 \n",
       "GO:0000278 GO:0000082;GO:0000281;GO:0044772;GO:1903047; GO:0000278\n",
       "GO:0000910 GO:0000281;GO:0061640; GO:0000910                      \n",
       "GO:0002181 ; GO:0002181                                           \n",
       "GO:0002376 GO:0002221;GO:0002224                                  \n",
       "GO:0003012                                                        \n",
       "GO:0003013                                                        "
      ]
     },
     "metadata": {},
     "output_type": "display_data"
    }
   ],
   "source": [
    "# copied from workflow pipeline linked above\n",
    "\n",
    "#Map GO to GOslims\n",
    "\n",
    "# List of GOslims and all GO IDs from `go_ids`\n",
    "gomap <- as.list(GOBPOFFSPRING[rownames(slimdf)])\n",
    "\n",
    "# Maps `go_ids` to matching GOslims\n",
    "mapped <- lapply(gomap, intersect, ids(myCollection))\n",
    "\n",
    "# Append all mapped GO IDs to `slimdf`\n",
    "# `sapply` needed to apply paste() to create semi-colon delimited values\n",
    "slimdf$GO.IDs <- sapply(lapply(gomap, intersect, ids(myCollection)), paste, collapse=\";\")\n",
    "\n",
    "# Remove \"character(0) string from \"GO.IDs\" column\n",
    "slimdf$GO.IDs[slimdf$GO.IDs == \"character(0)\"] <- \"\"\n",
    "\n",
    "# Add self-matching GOIDs to \"GO.IDs\" column, if not present\n",
    "for (go_id in go_ids) {\n",
    "  # Check if the go_id is present in the row names\n",
    "  if (go_id %in% rownames(slimdf)) {\n",
    "    # Check if the go_id is not present in the GO.IDs column\n",
    "    # Also removes white space \"trimws()\" and converts all to upper case to handle\n",
    "    # any weird, \"invisible\" formatting issues.\n",
    "    if (!go_id %in% trimws(toupper(strsplit(slimdf[go_id, \"GO.IDs\"], \";\")[[1]]))) {\n",
    "      # Append the go_id to the GO.IDs column with a semi-colon separator\n",
    "      if (length(slimdf$GO.IDs) > 0 && nchar(slimdf$GO.IDs[nrow(slimdf)]) > 0) {\n",
    "        slimdf[go_id, \"GO.IDs\"] <- paste0(slimdf[go_id, \"GO.IDs\"], \"; \", go_id)\n",
    "      } else {\n",
    "        slimdf[go_id, \"GO.IDs\"] <- go_id\n",
    "      }\n",
    "    }\n",
    "  }\n",
    "}\n",
    "\n",
    "str(slimdf)\n",
    "head(slimdf)"
   ]
  },
  {
   "cell_type": "markdown",
   "id": "bbd303a4-10b1-4763-8f9c-dfec0046304f",
   "metadata": {},
   "source": [
    "now have df with GOslim ID as the rowname and the corresponding GO IDs that fall within the GOslim term listed"
   ]
  },
  {
   "cell_type": "markdown",
   "id": "8fb739c5-2d41-4d20-a1e4-e7d312676a1f",
   "metadata": {},
   "source": [
    "flatten GOslims file - one GO ID and one GOslim term per row"
   ]
  },
  {
   "cell_type": "code",
   "execution_count": 119,
   "id": "9a1558ee-4d3c-45df-9832-c0e2c6dbf82b",
   "metadata": {},
   "outputs": [
    {
     "name": "stdout",
     "output_type": "stream",
     "text": [
      "tibble [165 × 3] (S3: tbl_df/tbl/data.frame)\n",
      " $ GO.IDs: chr [1:165] \" GO:0000278\" \" GO:0000910\" \" GO:0002181\" \" GO:0005975\" ...\n",
      " $ GOslim: chr [1:165] \"GO:0000278\" \"GO:0000910\" \"GO:0002181\" \"GO:0005975\" ...\n",
      " $ Term  : chr [1:165] \"mitotic cell cycle\" \"cytokinesis\" \"cytoplasmic translation\" \"carbohydrate metabolic process\" ...\n"
     ]
    },
    {
     "data": {
      "text/html": [
       "<table class=\"dataframe\">\n",
       "<caption>A tibble: 6 × 3</caption>\n",
       "<thead>\n",
       "\t<tr><th scope=col>GO.IDs</th><th scope=col>GOslim</th><th scope=col>Term</th></tr>\n",
       "\t<tr><th scope=col>&lt;chr&gt;</th><th scope=col>&lt;chr&gt;</th><th scope=col>&lt;chr&gt;</th></tr>\n",
       "</thead>\n",
       "<tbody>\n",
       "\t<tr><td> GO:0000278</td><td>GO:0000278</td><td>mitotic cell cycle            </td></tr>\n",
       "\t<tr><td> GO:0000910</td><td>GO:0000910</td><td>cytokinesis                   </td></tr>\n",
       "\t<tr><td> GO:0002181</td><td>GO:0002181</td><td>cytoplasmic translation       </td></tr>\n",
       "\t<tr><td> GO:0005975</td><td>GO:0005975</td><td>carbohydrate metabolic process</td></tr>\n",
       "\t<tr><td> GO:0006281</td><td>GO:0006281</td><td>DNA repair                    </td></tr>\n",
       "\t<tr><td> GO:0006310</td><td>GO:0006310</td><td>DNA recombination             </td></tr>\n",
       "</tbody>\n",
       "</table>\n"
      ],
      "text/latex": [
       "A tibble: 6 × 3\n",
       "\\begin{tabular}{lll}\n",
       " GO.IDs & GOslim & Term\\\\\n",
       " <chr> & <chr> & <chr>\\\\\n",
       "\\hline\n",
       "\t  GO:0000278 & GO:0000278 & mitotic cell cycle            \\\\\n",
       "\t  GO:0000910 & GO:0000910 & cytokinesis                   \\\\\n",
       "\t  GO:0002181 & GO:0002181 & cytoplasmic translation       \\\\\n",
       "\t  GO:0005975 & GO:0005975 & carbohydrate metabolic process\\\\\n",
       "\t  GO:0006281 & GO:0006281 & DNA repair                    \\\\\n",
       "\t  GO:0006310 & GO:0006310 & DNA recombination             \\\\\n",
       "\\end{tabular}\n"
      ],
      "text/markdown": [
       "\n",
       "A tibble: 6 × 3\n",
       "\n",
       "| GO.IDs &lt;chr&gt; | GOslim &lt;chr&gt; | Term &lt;chr&gt; |\n",
       "|---|---|---|\n",
       "|  GO:0000278 | GO:0000278 | mitotic cell cycle             |\n",
       "|  GO:0000910 | GO:0000910 | cytokinesis                    |\n",
       "|  GO:0002181 | GO:0002181 | cytoplasmic translation        |\n",
       "|  GO:0005975 | GO:0005975 | carbohydrate metabolic process |\n",
       "|  GO:0006281 | GO:0006281 | DNA repair                     |\n",
       "|  GO:0006310 | GO:0006310 | DNA recombination              |\n",
       "\n"
      ],
      "text/plain": [
       "  GO.IDs      GOslim     Term                          \n",
       "1  GO:0000278 GO:0000278 mitotic cell cycle            \n",
       "2  GO:0000910 GO:0000910 cytokinesis                   \n",
       "3  GO:0002181 GO:0002181 cytoplasmic translation       \n",
       "4  GO:0005975 GO:0005975 carbohydrate metabolic process\n",
       "5  GO:0006281 GO:0006281 DNA repair                    \n",
       "6  GO:0006310 GO:0006310 DNA recombination             "
      ]
     },
     "metadata": {},
     "output_type": "display_data"
    }
   ],
   "source": [
    "# copied from workflow pipeline linked above\n",
    "\n",
    "# flatten-GOslims-file\n",
    "\n",
    "# \"Flatten\" file so each row is single GO ID with corresponding GOslim\n",
    "# rownames_to_column needed to retain row name info\n",
    "slimdf_separated <- as.data.frame(slimdf %>%\n",
    "  rownames_to_column('GOslim') %>%\n",
    "  separate_rows(GO.IDs, sep = \";\"))\n",
    "\n",
    "# Group by unique GO ID\n",
    "grouped_slimdf <- slimdf_separated %>%\n",
    "  filter(!is.na(GO.IDs) & GO.IDs != \"\") %>%\n",
    "  group_by(GO.IDs) %>%\n",
    "  summarize(GOslim = paste(GOslim, collapse = \";\"),\n",
    "            Term = paste(Term, collapse = \";\"))\n",
    "\n",
    "\n",
    "str(grouped_slimdf)\n",
    "head(grouped_slimdf)"
   ]
  },
  {
   "cell_type": "code",
   "execution_count": 120,
   "id": "643b0042-0b5a-4c0a-a5ff-7ad7bea462ca",
   "metadata": {},
   "outputs": [
    {
     "name": "stdout",
     "output_type": "stream",
     "text": [
      "'data.frame':\t72 obs. of  2 variables:\n",
      " $ Term : chr  \"lipid metabolic process\" \"mRNA metabolic process\" \"signaling\" \"protein-containing complex assembly\" ...\n",
      " $ Count: int  20 17 14 10 9 9 9 7 6 6 ...\n"
     ]
    },
    {
     "data": {
      "text/html": [
       "<table class=\"dataframe\">\n",
       "<caption>A data.frame: 6 × 2</caption>\n",
       "<thead>\n",
       "\t<tr><th></th><th scope=col>Term</th><th scope=col>Count</th></tr>\n",
       "\t<tr><th></th><th scope=col>&lt;chr&gt;</th><th scope=col>&lt;int&gt;</th></tr>\n",
       "</thead>\n",
       "<tbody>\n",
       "\t<tr><th scope=row>GO:0006629</th><td>lipid metabolic process            </td><td>20</td></tr>\n",
       "\t<tr><th scope=row>GO:0016071</th><td>mRNA metabolic process             </td><td>17</td></tr>\n",
       "\t<tr><th scope=row>GO:0023052</th><td>signaling                          </td><td>14</td></tr>\n",
       "\t<tr><th scope=row>GO:0065003</th><td>protein-containing complex assembly</td><td>10</td></tr>\n",
       "\t<tr><th scope=row>GO:0022414</th><td>reproductive process               </td><td> 9</td></tr>\n",
       "\t<tr><th scope=row>GO:0042254</th><td>ribosome biogenesis                </td><td> 9</td></tr>\n",
       "</tbody>\n",
       "</table>\n"
      ],
      "text/latex": [
       "A data.frame: 6 × 2\n",
       "\\begin{tabular}{r|ll}\n",
       "  & Term & Count\\\\\n",
       "  & <chr> & <int>\\\\\n",
       "\\hline\n",
       "\tGO:0006629 & lipid metabolic process             & 20\\\\\n",
       "\tGO:0016071 & mRNA metabolic process              & 17\\\\\n",
       "\tGO:0023052 & signaling                           & 14\\\\\n",
       "\tGO:0065003 & protein-containing complex assembly & 10\\\\\n",
       "\tGO:0022414 & reproductive process                &  9\\\\\n",
       "\tGO:0042254 & ribosome biogenesis                 &  9\\\\\n",
       "\\end{tabular}\n"
      ],
      "text/markdown": [
       "\n",
       "A data.frame: 6 × 2\n",
       "\n",
       "| <!--/--> | Term &lt;chr&gt; | Count &lt;int&gt; |\n",
       "|---|---|---|\n",
       "| GO:0006629 | lipid metabolic process             | 20 |\n",
       "| GO:0016071 | mRNA metabolic process              | 17 |\n",
       "| GO:0023052 | signaling                           | 14 |\n",
       "| GO:0065003 | protein-containing complex assembly | 10 |\n",
       "| GO:0022414 | reproductive process                |  9 |\n",
       "| GO:0042254 | ribosome biogenesis                 |  9 |\n",
       "\n"
      ],
      "text/plain": [
       "           Term                                Count\n",
       "GO:0006629 lipid metabolic process             20   \n",
       "GO:0016071 mRNA metabolic process              17   \n",
       "GO:0023052 signaling                           14   \n",
       "GO:0065003 protein-containing complex assembly 10   \n",
       "GO:0022414 reproductive process                 9   \n",
       "GO:0042254 ribosome biogenesis                  9   "
      ]
     },
     "metadata": {},
     "output_type": "display_data"
    }
   ],
   "source": [
    "# copied from workflow pipeline linked above\n",
    "\n",
    "# sort and select slimdf counts\n",
    "\n",
    "slimdf.sorted <- slimdf %>% arrange(desc(Count))\n",
    "\n",
    "slim.count.df <- slimdf.sorted[,c(3,1)]\n",
    " # select(Term, Count)\n",
    "\n",
    "str(slim.count.df)\n",
    "\n",
    "head(slim.count.df)"
   ]
  },
  {
   "cell_type": "code",
   "execution_count": 121,
   "id": "76b22bc1-19bc-4eda-a851-83dd61f78615",
   "metadata": {},
   "outputs": [],
   "source": [
    "library(ggplot2)"
   ]
  },
  {
   "cell_type": "code",
   "execution_count": 122,
   "id": "5cf15a5c-4c2b-4c96-89f3-aeb7a6338855",
   "metadata": {},
   "outputs": [
    {
     "data": {
      "image/png": "[encoded data removed]",
      "text/plain": [
       "plot without title"
      ]
     },
     "metadata": {
      "image/png": {
       "height": 420,
       "width": 420
      }
     },
     "output_type": "display_data"
    }
   ],
   "source": [
    "ggplot(slimdf %>% \n",
    "         filter(Percent > 0) %>% # remove those without any matching GO IDs\n",
    "         arrange(desc(Percent)), # order by most to least\n",
    "       aes(x=reorder(Term, Percent), y=Percent)) +\n",
    "  geom_col(fill = 'mediumpurple') +\n",
    "  labs(x=\"GOSlim Term\", y=\"Percent of GO IDs\") +\n",
    "coord_flip() + \n",
    "  theme_bw()"
   ]
  }
 ],
 "metadata": {
  "kernelspec": {
   "display_name": "R [conda env:.conda-r-env]",
   "language": "R",
   "name": "conda-env-.conda-r-env-r"
  },
  "language_info": {
   "codemirror_mode": "r",
   "file_extension": ".r",
   "mimetype": "text/x-r-source",
   "name": "R",
   "pygments_lexer": "r",
   "version": "4.3.2"
  }
 },
 "nbformat": 4,
 "nbformat_minor": 5
}
