{
 "cells": [
  {
   "cell_type": "markdown",
   "id": "ade7a9e4-a94f-463c-8fde-a3e673271a48",
   "metadata": {},
   "source": [
    "# TWL Side Quest\n",
    "We've been trying to brainstorm ways to identify what is causing genes to be differentially methylated (areas of plasticity/plastic markers) - had a meeting with Teresa Lee on 04/16 to talk about some ideas \n",
    "\n",
    "There's three main plot ideas to help visualize:\n",
    "1. metaplot\n",
    "2. coverage plot\n",
    "3. Euclidean geometry plot"
   ]
  },
  {
   "cell_type": "markdown",
   "id": "775ba713-bce5-4e4a-b9e8-d415c02017a1",
   "metadata": {},
   "source": [
    "## 0. load libraries "
   ]
  },
  {
   "cell_type": "code",
   "execution_count": 1,
   "id": "0d21b495-8146-4b57-874d-dd9c2aadbaee",
   "metadata": {},
   "outputs": [
    {
     "name": "stderr",
     "output_type": "stream",
     "text": [
      "── \u001b[1mAttaching core tidyverse packages\u001b[22m ──────────────────────── tidyverse 2.0.0 ──\n",
      "\u001b[32m✔\u001b[39m \u001b[34mdplyr    \u001b[39m 1.1.4     \u001b[32m✔\u001b[39m \u001b[34mreadr    \u001b[39m 2.1.4\n",
      "\u001b[32m✔\u001b[39m \u001b[34mforcats  \u001b[39m 1.0.0     \u001b[32m✔\u001b[39m \u001b[34mstringr  \u001b[39m 1.5.1\n",
      "\u001b[32m✔\u001b[39m \u001b[34mggplot2  \u001b[39m 3.5.1     \u001b[32m✔\u001b[39m \u001b[34mtibble   \u001b[39m 3.2.1\n",
      "\u001b[32m✔\u001b[39m \u001b[34mlubridate\u001b[39m 1.9.3     \u001b[32m✔\u001b[39m \u001b[34mtidyr    \u001b[39m 1.3.0\n",
      "\u001b[32m✔\u001b[39m \u001b[34mpurrr    \u001b[39m 1.0.2     \n",
      "── \u001b[1mConflicts\u001b[22m ────────────────────────────────────────── tidyverse_conflicts() ──\n",
      "\u001b[31m✖\u001b[39m \u001b[34mdplyr\u001b[39m::\u001b[32mfilter()\u001b[39m masks \u001b[34mstats\u001b[39m::filter()\n",
      "\u001b[31m✖\u001b[39m \u001b[34mdplyr\u001b[39m::\u001b[32mlag()\u001b[39m    masks \u001b[34mstats\u001b[39m::lag()\n",
      "\u001b[36mℹ\u001b[39m Use the conflicted package (\u001b[3m\u001b[34m<http://conflicted.r-lib.org/>\u001b[39m\u001b[23m) to force all conflicts to become errors\n"
     ]
    }
   ],
   "source": [
    "library(tidyverse)"
   ]
  },
  {
   "cell_type": "markdown",
   "id": "81c79772-2900-46c8-b43e-a6d33d8c7c5f",
   "metadata": {},
   "source": [
    "## 1. metaplot\n",
    "\n",
    "scaled position of genes and features - stetch/shrink individual genes/features to all be the same length, and see if there's a similar distribution of methylation for each treatment combination"
   ]
  },
  {
   "cell_type": "markdown",
   "id": "de7d606b-7459-4d95-a22c-8ce622a9dfc6",
   "metadata": {},
   "source": []
  },
  {
   "cell_type": "markdown",
   "id": "34355502-f994-47fc-92ce-97715f66a5aa",
   "metadata": {},
   "source": [
    "## 2. coverage plot\n",
    "For methlyation levels, I was counting methylation as a binary thing (either the CpG is methylated or not), but instead, it might be helpful to look at the sequencing depth/coverage and see if there are patterns that emerge when focusing on specific features (exons, introns, UTRs) within DMGs and in all genes"
   ]
  },
  {
   "cell_type": "markdown",
   "id": "2c1ea65d-db05-4d29-9b22-b1f2803a7e31",
   "metadata": {},
   "source": [
    "**desired dataframe:**\n",
    "each row is a feature, columns include what feature (exon, intron, UTR), what gene that feature is apart of, then sequencing depth for each replicate oyster (n=5 per treatment combo)\n",
    "\n",
    "**pipeline to do this:**\n",
    "- counts matrix for exons, introns, UTRs (for all genes and within DMGs) - can use `bedtools multicov`\n",
    "- metadata df matching features (exons, introns, UTRs) to genes \n",
    "- match these up - use ggplot to create dotplot of sequence depth \n"
   ]
  },
  {
   "cell_type": "markdown",
   "id": "ee0c5b93-e169-4b1a-b28e-826457909623",
   "metadata": {},
   "source": [
    "### all genes\n",
    "\n",
    "to be run in command line using `bedtools multicov` (ran as job using script 'generate_matrixAll.txt'):"
   ]
  },
  {
   "cell_type": "markdown",
   "id": "411dafc9-c3f3-4402-b9f9-c8c9ce987bf2",
   "metadata": {},
   "source": [
    "```exonList='/project/pi_sarah_gignouxwolfsohn_uml_edu/julia/CE_MethylRAD_analysis_2018/analysis/genomic_feature_tracks/CV_exon_sorted.bed'\n",
    "intronList='/project/pi_sarah_gignouxwolfsohn_uml_edu/julia/CE_MethylRAD_analysis_2018/analysis/genomic_feature_tracks/CV_intron.bed'\n",
    "utrList='/project/pi_sarah_gignouxwolfsohn_uml_edu/julia/CE_MethylRAD_analysis_2018/analysis/genomic_feature_tracks/CV_exonUTR.bed'\n",
    "geneList='/project/pi_sarah_gignouxwolfsohn_uml_edu/julia/CE_MethylRAD_analysis_2018/analysis/genomic_feature_tracks/CV_gene_sorted.bed'\n",
    "\n",
    "input_dir='/project/pi_sarah_gignouxwolfsohn_uml_edu/julia/CE_methyl_assembly/assembly_pipeline_files/BEDtools/working_BAM_sequences'\n",
    "output_dir='/project/pi_sarah_gignouxwolfsohn_uml_edu/julia/genomic_feature_tracks/twl_sideQuest/' \n"
   ]
  },
  {
   "cell_type": "markdown",
   "id": "9f89f65e-5d2b-4738-8c43-4ad67932e143",
   "metadata": {},
   "source": [
    "```bedtools multicov -bams ${input_dir}/*.bam -bed $exonList > ${output_dir}allExon_multicov.csv\n",
    "bedtools multicov -bams ${input_dir}/*.bam -bed $intronList > ${output_dir}allIntron_multicov.csv\n",
    "bedtools multicov -bams ${input_dir}/*.bam -bed $utrList > ${output_dir}allUTR_multicov.csv\n",
    "bedtools multicov -bams ${input_dir}/*.bam -bed $geneList > ${output_dir}allGene_multicov.csv```"
   ]
  },
  {
   "cell_type": "markdown",
   "id": "c84a1d89-ed0d-4a0d-8dfd-3fc9e5b55a89",
   "metadata": {},
   "source": [
    "#### load dfs\n",
    "these dfs are counts of aligned seqs to each gene/gene feature (*not* individual CpGs within the genes/gene features) \n",
    "\n",
    "again, this is for ALL genes, not differentially methylated genes"
   ]
  },
  {
   "cell_type": "code",
   "execution_count": 3,
   "id": "4af31e24-77ec-406f-ab55-9c98d5fe4946",
   "metadata": {},
   "outputs": [],
   "source": [
    "exons <- read.csv('/project/pi_sarah_gignouxwolfsohn_uml_edu/julia/genomic_feature_tracks/twl_sideQuest/allExon_multicov.csv', sep = '\\t')\n",
    "introns <- read.csv('/project/pi_sarah_gignouxwolfsohn_uml_edu/julia/genomic_feature_tracks/twl_sideQuest/allIntron_multicov.csv', sep = '\\t')\n",
    "utr <- read.csv('/project/pi_sarah_gignouxwolfsohn_uml_edu/julia/genomic_feature_tracks/twl_sideQuest/allUTR_multicov.csv', sep = '\\t')\n",
    "gene <- read.csv('/project/pi_sarah_gignouxwolfsohn_uml_edu/julia/genomic_feature_tracks/twl_sideQuest/allGene_multicov.csv', sep = '\\t')"
   ]
  },
  {
   "cell_type": "markdown",
   "id": "3b63a876-93ce-4d71-9127-678216473245",
   "metadata": {},
   "source": [
    "need to add oyster names for assigning treatment types"
   ]
  },
  {
   "cell_type": "code",
   "execution_count": 8,
   "id": "eca5b90d-f1bf-4164-b9d5-562e86ad4436",
   "metadata": {},
   "outputs": [
    {
     "data": {
      "text/html": [
       "<style>\n",
       ".list-inline {list-style: none; margin:0; padding: 0}\n",
       ".list-inline>li {display: inline-block}\n",
       ".list-inline>li:not(:last-child)::after {content: \"\\00b7\"; padding: 0 .5ex}\n",
       "</style>\n",
       "<ol class=list-inline><li>'BBB-WBO-B21'</li><li>'BBB-WBV-B70'</li><li>'BBO-BBO-B16'</li><li>'BBO-BBY-B27'</li><li>'BBO-WBO-B16'</li><li>'BBO-WBV-B64'</li><li>'BBR-BBB-B50'</li><li>'BBR-BBG-B38'</li><li>'BBR-BBY-B26'</li><li>'BBY-WBG-B42'</li><li>'WBB-WBV-W69'</li><li>'WBG-BBB-W56'</li><li>'WBG-WBG-W44'</li><li>'WBO-BBR-W03'</li><li>'WBO-WBV-W64'</li><li>'WBR-BBY-W25'</li><li>'WBV-WBO-W23'</li><li>'WBV-WBR-W12'</li><li>'WBY-BBV-W65'</li><li>'WBY-BBY-W30'</li></ol>\n"
      ],
      "text/latex": [
       "\\begin{enumerate*}\n",
       "\\item 'BBB-WBO-B21'\n",
       "\\item 'BBB-WBV-B70'\n",
       "\\item 'BBO-BBO-B16'\n",
       "\\item 'BBO-BBY-B27'\n",
       "\\item 'BBO-WBO-B16'\n",
       "\\item 'BBO-WBV-B64'\n",
       "\\item 'BBR-BBB-B50'\n",
       "\\item 'BBR-BBG-B38'\n",
       "\\item 'BBR-BBY-B26'\n",
       "\\item 'BBY-WBG-B42'\n",
       "\\item 'WBB-WBV-W69'\n",
       "\\item 'WBG-BBB-W56'\n",
       "\\item 'WBG-WBG-W44'\n",
       "\\item 'WBO-BBR-W03'\n",
       "\\item 'WBO-WBV-W64'\n",
       "\\item 'WBR-BBY-W25'\n",
       "\\item 'WBV-WBO-W23'\n",
       "\\item 'WBV-WBR-W12'\n",
       "\\item 'WBY-BBV-W65'\n",
       "\\item 'WBY-BBY-W30'\n",
       "\\end{enumerate*}\n"
      ],
      "text/markdown": [
       "1. 'BBB-WBO-B21'\n",
       "2. 'BBB-WBV-B70'\n",
       "3. 'BBO-BBO-B16'\n",
       "4. 'BBO-BBY-B27'\n",
       "5. 'BBO-WBO-B16'\n",
       "6. 'BBO-WBV-B64'\n",
       "7. 'BBR-BBB-B50'\n",
       "8. 'BBR-BBG-B38'\n",
       "9. 'BBR-BBY-B26'\n",
       "10. 'BBY-WBG-B42'\n",
       "11. 'WBB-WBV-W69'\n",
       "12. 'WBG-BBB-W56'\n",
       "13. 'WBG-WBG-W44'\n",
       "14. 'WBO-BBR-W03'\n",
       "15. 'WBO-WBV-W64'\n",
       "16. 'WBR-BBY-W25'\n",
       "17. 'WBV-WBO-W23'\n",
       "18. 'WBV-WBR-W12'\n",
       "19. 'WBY-BBV-W65'\n",
       "20. 'WBY-BBY-W30'\n",
       "\n",
       "\n"
      ],
      "text/plain": [
       " [1] \"BBB-WBO-B21\" \"BBB-WBV-B70\" \"BBO-BBO-B16\" \"BBO-BBY-B27\" \"BBO-WBO-B16\"\n",
       " [6] \"BBO-WBV-B64\" \"BBR-BBB-B50\" \"BBR-BBG-B38\" \"BBR-BBY-B26\" \"BBY-WBG-B42\"\n",
       "[11] \"WBB-WBV-W69\" \"WBG-BBB-W56\" \"WBG-WBG-W44\" \"WBO-BBR-W03\" \"WBO-WBV-W64\"\n",
       "[16] \"WBR-BBY-W25\" \"WBV-WBO-W23\" \"WBV-WBR-W12\" \"WBY-BBV-W65\" \"WBY-BBY-W30\""
      ]
     },
     "metadata": {},
     "output_type": "display_data"
    }
   ],
   "source": [
    "# getting names of the BAM files for each oyster individual\n",
    "bam_files <- dir(path = \"/project/pi_sarah_gignouxwolfsohn_uml_edu/julia/CE_methyl_assembly/assembly_pipeline_files/BEDtools/working_BAM_sequences/\", pattern = \"^.*\\\\.bam$\", full.names = FALSE, ignore.case = TRUE, all.files = TRUE)\n",
    "\n",
    "# clean sample names\n",
    "bam_files_clean <- gsub(\"^2018--|-CV_sorted\\\\.bam$\", \"\", bam_files)\n",
    "bam_files_clean"
   ]
  },
  {
   "cell_type": "code",
   "execution_count": 14,
   "id": "91b5b0fb-b49b-4740-8807-a22b9b1f9260",
   "metadata": {},
   "outputs": [],
   "source": [
    "# function to add sample names to the columns\n",
    "add_sampleNames <- function(df) {\n",
    "    colnames(df) <- c('chromosome', 'start', 'stop', bam_files_clean)\n",
    "    return(df)\n",
    "    }"
   ]
  },
  {
   "cell_type": "code",
   "execution_count": 17,
   "id": "4000fcd5-2fe6-4a64-af25-a60779e664e8",
   "metadata": {},
   "outputs": [],
   "source": [
    "introns2 <- add_sampleNames(introns)\n",
    "exons2 <- add_sampleNames(exons)\n",
    "utr2 <- add_sampleNames(utr)\n",
    "gene2 <- add_sampleNames(gene)"
   ]
  },
  {
   "cell_type": "markdown",
   "id": "062ad2fa-7f7f-4e13-957d-2de45459dc3d",
   "metadata": {},
   "source": [
    "**genes**"
   ]
  },
  {
   "cell_type": "code",
   "execution_count": 23,
   "id": "c8015706-b8f3-4a43-96e7-c5d46d3aa8a0",
   "metadata": {},
   "outputs": [
    {
     "data": {
      "text/html": [
       "<table class=\"dataframe\">\n",
       "<caption>A data.frame: 6 × 24</caption>\n",
       "<thead>\n",
       "\t<tr><th></th><th scope=col>chromosome</th><th scope=col>start</th><th scope=col>stop</th><th scope=col>BBB-WBO-B21</th><th scope=col>BBB-WBV-B70</th><th scope=col>BBO-BBO-B16</th><th scope=col>BBO-BBY-B27</th><th scope=col>BBO-WBO-B16</th><th scope=col>BBO-WBV-B64</th><th scope=col>BBR-BBB-B50</th><th scope=col>⋯</th><th scope=col>WBG-BBB-W56</th><th scope=col>WBG-WBG-W44</th><th scope=col>WBO-BBR-W03</th><th scope=col>WBO-WBV-W64</th><th scope=col>WBR-BBY-W25</th><th scope=col>WBV-WBO-W23</th><th scope=col>WBV-WBR-W12</th><th scope=col>WBY-BBV-W65</th><th scope=col>WBY-BBY-W30</th><th scope=col>start_stop</th></tr>\n",
       "\t<tr><th></th><th scope=col>&lt;chr&gt;</th><th scope=col>&lt;int&gt;</th><th scope=col>&lt;int&gt;</th><th scope=col>&lt;int&gt;</th><th scope=col>&lt;int&gt;</th><th scope=col>&lt;int&gt;</th><th scope=col>&lt;int&gt;</th><th scope=col>&lt;int&gt;</th><th scope=col>&lt;int&gt;</th><th scope=col>&lt;int&gt;</th><th scope=col>⋯</th><th scope=col>&lt;int&gt;</th><th scope=col>&lt;int&gt;</th><th scope=col>&lt;int&gt;</th><th scope=col>&lt;int&gt;</th><th scope=col>&lt;int&gt;</th><th scope=col>&lt;int&gt;</th><th scope=col>&lt;int&gt;</th><th scope=col>&lt;int&gt;</th><th scope=col>&lt;int&gt;</th><th scope=col>&lt;chr&gt;</th></tr>\n",
       "</thead>\n",
       "<tbody>\n",
       "\t<tr><th scope=row>1</th><td>NC_035780.1</td><td> 28961</td><td> 33324</td><td> 0</td><td> 0</td><td>0</td><td>0</td><td>0</td><td>2</td><td>0</td><td>⋯</td><td>0</td><td>0</td><td>0</td><td>0</td><td>0</td><td>0</td><td>0</td><td>0</td><td> 0</td><td>28961_33324  </td></tr>\n",
       "\t<tr><th scope=row>2</th><td>NC_035780.1</td><td> 43111</td><td> 66897</td><td> 0</td><td> 0</td><td>0</td><td>0</td><td>0</td><td>0</td><td>2</td><td>⋯</td><td>0</td><td>0</td><td>0</td><td>4</td><td>2</td><td>0</td><td>0</td><td>2</td><td> 0</td><td>43111_66897  </td></tr>\n",
       "\t<tr><th scope=row>3</th><td>NC_035780.1</td><td> 85606</td><td> 95254</td><td> 8</td><td>12</td><td>0</td><td>0</td><td>6</td><td>4</td><td>0</td><td>⋯</td><td>1</td><td>0</td><td>0</td><td>4</td><td>0</td><td>6</td><td>0</td><td>0</td><td>10</td><td>85606_95254  </td></tr>\n",
       "\t<tr><th scope=row>4</th><td>NC_035780.1</td><td> 99840</td><td>106460</td><td>14</td><td> 4</td><td>2</td><td>0</td><td>6</td><td>0</td><td>0</td><td>⋯</td><td>2</td><td>0</td><td>0</td><td>4</td><td>0</td><td>2</td><td>0</td><td>0</td><td> 2</td><td>99840_106460 </td></tr>\n",
       "\t<tr><th scope=row>5</th><td>NC_035780.1</td><td>108305</td><td>110077</td><td> 0</td><td> 0</td><td>0</td><td>0</td><td>0</td><td>0</td><td>0</td><td>⋯</td><td>0</td><td>0</td><td>0</td><td>0</td><td>0</td><td>0</td><td>0</td><td>0</td><td> 0</td><td>108305_110077</td></tr>\n",
       "\t<tr><th scope=row>6</th><td>NC_035780.1</td><td>151859</td><td>157536</td><td> 4</td><td> 0</td><td>0</td><td>0</td><td>0</td><td>0</td><td>0</td><td>⋯</td><td>0</td><td>0</td><td>0</td><td>0</td><td>0</td><td>0</td><td>0</td><td>0</td><td> 0</td><td>151859_157536</td></tr>\n",
       "</tbody>\n",
       "</table>\n"
      ],
      "text/latex": [
       "A data.frame: 6 × 24\n",
       "\\begin{tabular}{r|lllllllllllllllllllll}\n",
       "  & chromosome & start & stop & BBB-WBO-B21 & BBB-WBV-B70 & BBO-BBO-B16 & BBO-BBY-B27 & BBO-WBO-B16 & BBO-WBV-B64 & BBR-BBB-B50 & ⋯ & WBG-BBB-W56 & WBG-WBG-W44 & WBO-BBR-W03 & WBO-WBV-W64 & WBR-BBY-W25 & WBV-WBO-W23 & WBV-WBR-W12 & WBY-BBV-W65 & WBY-BBY-W30 & start\\_stop\\\\\n",
       "  & <chr> & <int> & <int> & <int> & <int> & <int> & <int> & <int> & <int> & <int> & ⋯ & <int> & <int> & <int> & <int> & <int> & <int> & <int> & <int> & <int> & <chr>\\\\\n",
       "\\hline\n",
       "\t1 & NC\\_035780.1 &  28961 &  33324 &  0 &  0 & 0 & 0 & 0 & 2 & 0 & ⋯ & 0 & 0 & 0 & 0 & 0 & 0 & 0 & 0 &  0 & 28961\\_33324  \\\\\n",
       "\t2 & NC\\_035780.1 &  43111 &  66897 &  0 &  0 & 0 & 0 & 0 & 0 & 2 & ⋯ & 0 & 0 & 0 & 4 & 2 & 0 & 0 & 2 &  0 & 43111\\_66897  \\\\\n",
       "\t3 & NC\\_035780.1 &  85606 &  95254 &  8 & 12 & 0 & 0 & 6 & 4 & 0 & ⋯ & 1 & 0 & 0 & 4 & 0 & 6 & 0 & 0 & 10 & 85606\\_95254  \\\\\n",
       "\t4 & NC\\_035780.1 &  99840 & 106460 & 14 &  4 & 2 & 0 & 6 & 0 & 0 & ⋯ & 2 & 0 & 0 & 4 & 0 & 2 & 0 & 0 &  2 & 99840\\_106460 \\\\\n",
       "\t5 & NC\\_035780.1 & 108305 & 110077 &  0 &  0 & 0 & 0 & 0 & 0 & 0 & ⋯ & 0 & 0 & 0 & 0 & 0 & 0 & 0 & 0 &  0 & 108305\\_110077\\\\\n",
       "\t6 & NC\\_035780.1 & 151859 & 157536 &  4 &  0 & 0 & 0 & 0 & 0 & 0 & ⋯ & 0 & 0 & 0 & 0 & 0 & 0 & 0 & 0 &  0 & 151859\\_157536\\\\\n",
       "\\end{tabular}\n"
      ],
      "text/markdown": [
       "\n",
       "A data.frame: 6 × 24\n",
       "\n",
       "| <!--/--> | chromosome &lt;chr&gt; | start &lt;int&gt; | stop &lt;int&gt; | BBB-WBO-B21 &lt;int&gt; | BBB-WBV-B70 &lt;int&gt; | BBO-BBO-B16 &lt;int&gt; | BBO-BBY-B27 &lt;int&gt; | BBO-WBO-B16 &lt;int&gt; | BBO-WBV-B64 &lt;int&gt; | BBR-BBB-B50 &lt;int&gt; | ⋯ ⋯ | WBG-BBB-W56 &lt;int&gt; | WBG-WBG-W44 &lt;int&gt; | WBO-BBR-W03 &lt;int&gt; | WBO-WBV-W64 &lt;int&gt; | WBR-BBY-W25 &lt;int&gt; | WBV-WBO-W23 &lt;int&gt; | WBV-WBR-W12 &lt;int&gt; | WBY-BBV-W65 &lt;int&gt; | WBY-BBY-W30 &lt;int&gt; | start_stop &lt;chr&gt; |\n",
       "|---|---|---|---|---|---|---|---|---|---|---|---|---|---|---|---|---|---|---|---|---|---|\n",
       "| 1 | NC_035780.1 |  28961 |  33324 |  0 |  0 | 0 | 0 | 0 | 2 | 0 | ⋯ | 0 | 0 | 0 | 0 | 0 | 0 | 0 | 0 |  0 | 28961_33324   |\n",
       "| 2 | NC_035780.1 |  43111 |  66897 |  0 |  0 | 0 | 0 | 0 | 0 | 2 | ⋯ | 0 | 0 | 0 | 4 | 2 | 0 | 0 | 2 |  0 | 43111_66897   |\n",
       "| 3 | NC_035780.1 |  85606 |  95254 |  8 | 12 | 0 | 0 | 6 | 4 | 0 | ⋯ | 1 | 0 | 0 | 4 | 0 | 6 | 0 | 0 | 10 | 85606_95254   |\n",
       "| 4 | NC_035780.1 |  99840 | 106460 | 14 |  4 | 2 | 0 | 6 | 0 | 0 | ⋯ | 2 | 0 | 0 | 4 | 0 | 2 | 0 | 0 |  2 | 99840_106460  |\n",
       "| 5 | NC_035780.1 | 108305 | 110077 |  0 |  0 | 0 | 0 | 0 | 0 | 0 | ⋯ | 0 | 0 | 0 | 0 | 0 | 0 | 0 | 0 |  0 | 108305_110077 |\n",
       "| 6 | NC_035780.1 | 151859 | 157536 |  4 |  0 | 0 | 0 | 0 | 0 | 0 | ⋯ | 0 | 0 | 0 | 0 | 0 | 0 | 0 | 0 |  0 | 151859_157536 |\n",
       "\n"
      ],
      "text/plain": [
       "  chromosome  start  stop   BBB-WBO-B21 BBB-WBV-B70 BBO-BBO-B16 BBO-BBY-B27\n",
       "1 NC_035780.1  28961  33324  0           0          0           0          \n",
       "2 NC_035780.1  43111  66897  0           0          0           0          \n",
       "3 NC_035780.1  85606  95254  8          12          0           0          \n",
       "4 NC_035780.1  99840 106460 14           4          2           0          \n",
       "5 NC_035780.1 108305 110077  0           0          0           0          \n",
       "6 NC_035780.1 151859 157536  4           0          0           0          \n",
       "  BBO-WBO-B16 BBO-WBV-B64 BBR-BBB-B50 ⋯ WBG-BBB-W56 WBG-WBG-W44 WBO-BBR-W03\n",
       "1 0           2           0           ⋯ 0           0           0          \n",
       "2 0           0           2           ⋯ 0           0           0          \n",
       "3 6           4           0           ⋯ 1           0           0          \n",
       "4 6           0           0           ⋯ 2           0           0          \n",
       "5 0           0           0           ⋯ 0           0           0          \n",
       "6 0           0           0           ⋯ 0           0           0          \n",
       "  WBO-WBV-W64 WBR-BBY-W25 WBV-WBO-W23 WBV-WBR-W12 WBY-BBV-W65 WBY-BBY-W30\n",
       "1 0           0           0           0           0            0         \n",
       "2 4           2           0           0           2            0         \n",
       "3 4           0           6           0           0           10         \n",
       "4 4           0           2           0           0            2         \n",
       "5 0           0           0           0           0            0         \n",
       "6 0           0           0           0           0            0         \n",
       "  start_stop   \n",
       "1 28961_33324  \n",
       "2 43111_66897  \n",
       "3 85606_95254  \n",
       "4 99840_106460 \n",
       "5 108305_110077\n",
       "6 151859_157536"
      ]
     },
     "metadata": {},
     "output_type": "display_data"
    }
   ],
   "source": [
    "gene2$start_stop <- paste(gene2$start, gene2$stop, sep = '_')\n",
    "head(gene2)"
   ]
  },
  {
   "cell_type": "code",
   "execution_count": 25,
   "id": "b2626e15-fde4-4f19-afc4-27be88f4299e",
   "metadata": {},
   "outputs": [
    {
     "data": {
      "text/html": [
       "<style>\n",
       ".list-inline {list-style: none; margin:0; padding: 0}\n",
       ".list-inline>li {display: inline-block}\n",
       ".list-inline>li:not(:last-child)::after {content: \"\\00b7\"; padding: 0 .5ex}\n",
       "</style>\n",
       "<ol class=list-inline><li>765220</li><li>6</li></ol>\n"
      ],
      "text/latex": [
       "\\begin{enumerate*}\n",
       "\\item 765220\n",
       "\\item 6\n",
       "\\end{enumerate*}\n"
      ],
      "text/markdown": [
       "1. 765220\n",
       "2. 6\n",
       "\n",
       "\n"
      ],
      "text/plain": [
       "[1] 765220      6"
      ]
     },
     "metadata": {},
     "output_type": "display_data"
    },
    {
     "data": {
      "text/html": [
       "<table class=\"dataframe\">\n",
       "<caption>A tibble: 6 × 6</caption>\n",
       "<thead>\n",
       "\t<tr><th scope=col>chromosome</th><th scope=col>start</th><th scope=col>stop</th><th scope=col>start_stop</th><th scope=col>oyster_rep</th><th scope=col>count</th></tr>\n",
       "\t<tr><th scope=col>&lt;chr&gt;</th><th scope=col>&lt;int&gt;</th><th scope=col>&lt;int&gt;</th><th scope=col>&lt;chr&gt;</th><th scope=col>&lt;chr&gt;</th><th scope=col>&lt;int&gt;</th></tr>\n",
       "</thead>\n",
       "<tbody>\n",
       "\t<tr><td>NC_035780.1</td><td>28961</td><td>33324</td><td>28961_33324</td><td>BBB-WBO-B21</td><td>0</td></tr>\n",
       "\t<tr><td>NC_035780.1</td><td>28961</td><td>33324</td><td>28961_33324</td><td>BBB-WBV-B70</td><td>0</td></tr>\n",
       "\t<tr><td>NC_035780.1</td><td>28961</td><td>33324</td><td>28961_33324</td><td>BBO-BBO-B16</td><td>0</td></tr>\n",
       "\t<tr><td>NC_035780.1</td><td>28961</td><td>33324</td><td>28961_33324</td><td>BBO-BBY-B27</td><td>0</td></tr>\n",
       "\t<tr><td>NC_035780.1</td><td>28961</td><td>33324</td><td>28961_33324</td><td>BBO-WBO-B16</td><td>0</td></tr>\n",
       "\t<tr><td>NC_035780.1</td><td>28961</td><td>33324</td><td>28961_33324</td><td>BBO-WBV-B64</td><td>2</td></tr>\n",
       "</tbody>\n",
       "</table>\n"
      ],
      "text/latex": [
       "A tibble: 6 × 6\n",
       "\\begin{tabular}{llllll}\n",
       " chromosome & start & stop & start\\_stop & oyster\\_rep & count\\\\\n",
       " <chr> & <int> & <int> & <chr> & <chr> & <int>\\\\\n",
       "\\hline\n",
       "\t NC\\_035780.1 & 28961 & 33324 & 28961\\_33324 & BBB-WBO-B21 & 0\\\\\n",
       "\t NC\\_035780.1 & 28961 & 33324 & 28961\\_33324 & BBB-WBV-B70 & 0\\\\\n",
       "\t NC\\_035780.1 & 28961 & 33324 & 28961\\_33324 & BBO-BBO-B16 & 0\\\\\n",
       "\t NC\\_035780.1 & 28961 & 33324 & 28961\\_33324 & BBO-BBY-B27 & 0\\\\\n",
       "\t NC\\_035780.1 & 28961 & 33324 & 28961\\_33324 & BBO-WBO-B16 & 0\\\\\n",
       "\t NC\\_035780.1 & 28961 & 33324 & 28961\\_33324 & BBO-WBV-B64 & 2\\\\\n",
       "\\end{tabular}\n"
      ],
      "text/markdown": [
       "\n",
       "A tibble: 6 × 6\n",
       "\n",
       "| chromosome &lt;chr&gt; | start &lt;int&gt; | stop &lt;int&gt; | start_stop &lt;chr&gt; | oyster_rep &lt;chr&gt; | count &lt;int&gt; |\n",
       "|---|---|---|---|---|---|\n",
       "| NC_035780.1 | 28961 | 33324 | 28961_33324 | BBB-WBO-B21 | 0 |\n",
       "| NC_035780.1 | 28961 | 33324 | 28961_33324 | BBB-WBV-B70 | 0 |\n",
       "| NC_035780.1 | 28961 | 33324 | 28961_33324 | BBO-BBO-B16 | 0 |\n",
       "| NC_035780.1 | 28961 | 33324 | 28961_33324 | BBO-BBY-B27 | 0 |\n",
       "| NC_035780.1 | 28961 | 33324 | 28961_33324 | BBO-WBO-B16 | 0 |\n",
       "| NC_035780.1 | 28961 | 33324 | 28961_33324 | BBO-WBV-B64 | 2 |\n",
       "\n"
      ],
      "text/plain": [
       "  chromosome  start stop  start_stop  oyster_rep  count\n",
       "1 NC_035780.1 28961 33324 28961_33324 BBB-WBO-B21 0    \n",
       "2 NC_035780.1 28961 33324 28961_33324 BBB-WBV-B70 0    \n",
       "3 NC_035780.1 28961 33324 28961_33324 BBO-BBO-B16 0    \n",
       "4 NC_035780.1 28961 33324 28961_33324 BBO-BBY-B27 0    \n",
       "5 NC_035780.1 28961 33324 28961_33324 BBO-WBO-B16 0    \n",
       "6 NC_035780.1 28961 33324 28961_33324 BBO-WBV-B64 2    "
      ]
     },
     "metadata": {},
     "output_type": "display_data"
    }
   ],
   "source": [
    "gene_long <- gene2 |>\n",
    "pivot_longer(cols = 4:23, \n",
    "             names_to = 'oyster_rep',\n",
    "            values_to = 'count' ) \n",
    "\n",
    "dim(gene_long)\n",
    "head(gene_long)"
   ]
  },
  {
   "cell_type": "code",
   "execution_count": 56,
   "id": "a6ad7e6a-49bf-457b-9e4d-f25eff028e1a",
   "metadata": {},
   "outputs": [
    {
     "data": {
      "text/html": [
       "<table class=\"dataframe\">\n",
       "<caption>A data.frame: 20 × 6</caption>\n",
       "<thead>\n",
       "\t<tr><th></th><th scope=col>oyster_rep</th><th scope=col>phase1</th><th scope=col>phase2</th><th scope=col>code</th><th scope=col>replicate</th><th scope=col>arbitrary_code</th></tr>\n",
       "\t<tr><th></th><th scope=col>&lt;chr&gt;</th><th scope=col>&lt;chr&gt;</th><th scope=col>&lt;chr&gt;</th><th scope=col>&lt;chr&gt;</th><th scope=col>&lt;int&gt;</th><th scope=col>&lt;chr&gt;</th></tr>\n",
       "</thead>\n",
       "<tbody>\n",
       "\t<tr><th scope=row>1</th><td>BBB-WBO-B21</td><td>Hypoxic</td><td>Control</td><td>HC</td><td>21</td><td>HC21</td></tr>\n",
       "\t<tr><th scope=row>2</th><td>BBB-WBV-B70</td><td>Hypoxic</td><td>Control</td><td>HC</td><td>70</td><td>HC70</td></tr>\n",
       "\t<tr><th scope=row>3</th><td>BBO-BBO-B16</td><td>Hypoxic</td><td>Hypoxic</td><td>HH</td><td>16</td><td>HH16</td></tr>\n",
       "\t<tr><th scope=row>4</th><td>BBO-BBY-B27</td><td>Hypoxic</td><td>Hypoxic</td><td>HH</td><td>27</td><td>HH27</td></tr>\n",
       "\t<tr><th scope=row>5</th><td>BBO-WBO-B16</td><td>Hypoxic</td><td>Control</td><td>HC</td><td>16</td><td>HC16</td></tr>\n",
       "\t<tr><th scope=row>6</th><td>BBO-WBV-B64</td><td>Hypoxic</td><td>Control</td><td>HC</td><td>64</td><td>HC64</td></tr>\n",
       "\t<tr><th scope=row>7</th><td>BBR-BBB-B50</td><td>Hypoxic</td><td>Hypoxic</td><td>HH</td><td>50</td><td>HH50</td></tr>\n",
       "\t<tr><th scope=row>8</th><td>BBR-BBG-B38</td><td>Hypoxic</td><td>Hypoxic</td><td>HH</td><td>38</td><td>HH38</td></tr>\n",
       "\t<tr><th scope=row>9</th><td>BBR-BBY-B26</td><td>Hypoxic</td><td>Hypoxic</td><td>HH</td><td>26</td><td>HH26</td></tr>\n",
       "\t<tr><th scope=row>10</th><td>BBY-WBG-B42</td><td>Hypoxic</td><td>Control</td><td>HC</td><td>42</td><td>HC42</td></tr>\n",
       "\t<tr><th scope=row>11</th><td>WBB-WBV-W69</td><td>Control</td><td>Control</td><td>CC</td><td>69</td><td>CC69</td></tr>\n",
       "\t<tr><th scope=row>12</th><td>WBG-BBB-W56</td><td>Control</td><td>Hypoxic</td><td>CH</td><td>56</td><td>CH56</td></tr>\n",
       "\t<tr><th scope=row>13</th><td>WBG-WBG-W44</td><td>Control</td><td>Control</td><td>CC</td><td>44</td><td>CC44</td></tr>\n",
       "\t<tr><th scope=row>14</th><td>WBO-BBR-W03</td><td>Control</td><td>Hypoxic</td><td>CH</td><td> 3</td><td>CH3 </td></tr>\n",
       "\t<tr><th scope=row>15</th><td>WBO-WBV-W64</td><td>Control</td><td>Control</td><td>CC</td><td>64</td><td>CC64</td></tr>\n",
       "\t<tr><th scope=row>16</th><td>WBR-BBY-W25</td><td>Control</td><td>Hypoxic</td><td>CH</td><td>25</td><td>CH25</td></tr>\n",
       "\t<tr><th scope=row>17</th><td>WBV-WBO-W23</td><td>Control</td><td>Control</td><td>CC</td><td>23</td><td>CC23</td></tr>\n",
       "\t<tr><th scope=row>18</th><td>WBV-WBR-W12</td><td>Control</td><td>Control</td><td>CC</td><td>12</td><td>CC12</td></tr>\n",
       "\t<tr><th scope=row>19</th><td>WBY-BBV-W65</td><td>Control</td><td>Hypoxic</td><td>CH</td><td>65</td><td>CH65</td></tr>\n",
       "\t<tr><th scope=row>20</th><td>WBY-BBY-W30</td><td>Control</td><td>Hypoxic</td><td>CH</td><td>30</td><td>CH30</td></tr>\n",
       "</tbody>\n",
       "</table>\n"
      ],
      "text/latex": [
       "A data.frame: 20 × 6\n",
       "\\begin{tabular}{r|llllll}\n",
       "  & oyster\\_rep & phase1 & phase2 & code & replicate & arbitrary\\_code\\\\\n",
       "  & <chr> & <chr> & <chr> & <chr> & <int> & <chr>\\\\\n",
       "\\hline\n",
       "\t1 & BBB-WBO-B21 & Hypoxic & Control & HC & 21 & HC21\\\\\n",
       "\t2 & BBB-WBV-B70 & Hypoxic & Control & HC & 70 & HC70\\\\\n",
       "\t3 & BBO-BBO-B16 & Hypoxic & Hypoxic & HH & 16 & HH16\\\\\n",
       "\t4 & BBO-BBY-B27 & Hypoxic & Hypoxic & HH & 27 & HH27\\\\\n",
       "\t5 & BBO-WBO-B16 & Hypoxic & Control & HC & 16 & HC16\\\\\n",
       "\t6 & BBO-WBV-B64 & Hypoxic & Control & HC & 64 & HC64\\\\\n",
       "\t7 & BBR-BBB-B50 & Hypoxic & Hypoxic & HH & 50 & HH50\\\\\n",
       "\t8 & BBR-BBG-B38 & Hypoxic & Hypoxic & HH & 38 & HH38\\\\\n",
       "\t9 & BBR-BBY-B26 & Hypoxic & Hypoxic & HH & 26 & HH26\\\\\n",
       "\t10 & BBY-WBG-B42 & Hypoxic & Control & HC & 42 & HC42\\\\\n",
       "\t11 & WBB-WBV-W69 & Control & Control & CC & 69 & CC69\\\\\n",
       "\t12 & WBG-BBB-W56 & Control & Hypoxic & CH & 56 & CH56\\\\\n",
       "\t13 & WBG-WBG-W44 & Control & Control & CC & 44 & CC44\\\\\n",
       "\t14 & WBO-BBR-W03 & Control & Hypoxic & CH &  3 & CH3 \\\\\n",
       "\t15 & WBO-WBV-W64 & Control & Control & CC & 64 & CC64\\\\\n",
       "\t16 & WBR-BBY-W25 & Control & Hypoxic & CH & 25 & CH25\\\\\n",
       "\t17 & WBV-WBO-W23 & Control & Control & CC & 23 & CC23\\\\\n",
       "\t18 & WBV-WBR-W12 & Control & Control & CC & 12 & CC12\\\\\n",
       "\t19 & WBY-BBV-W65 & Control & Hypoxic & CH & 65 & CH65\\\\\n",
       "\t20 & WBY-BBY-W30 & Control & Hypoxic & CH & 30 & CH30\\\\\n",
       "\\end{tabular}\n"
      ],
      "text/markdown": [
       "\n",
       "A data.frame: 20 × 6\n",
       "\n",
       "| <!--/--> | oyster_rep &lt;chr&gt; | phase1 &lt;chr&gt; | phase2 &lt;chr&gt; | code &lt;chr&gt; | replicate &lt;int&gt; | arbitrary_code &lt;chr&gt; |\n",
       "|---|---|---|---|---|---|---|\n",
       "| 1 | BBB-WBO-B21 | Hypoxic | Control | HC | 21 | HC21 |\n",
       "| 2 | BBB-WBV-B70 | Hypoxic | Control | HC | 70 | HC70 |\n",
       "| 3 | BBO-BBO-B16 | Hypoxic | Hypoxic | HH | 16 | HH16 |\n",
       "| 4 | BBO-BBY-B27 | Hypoxic | Hypoxic | HH | 27 | HH27 |\n",
       "| 5 | BBO-WBO-B16 | Hypoxic | Control | HC | 16 | HC16 |\n",
       "| 6 | BBO-WBV-B64 | Hypoxic | Control | HC | 64 | HC64 |\n",
       "| 7 | BBR-BBB-B50 | Hypoxic | Hypoxic | HH | 50 | HH50 |\n",
       "| 8 | BBR-BBG-B38 | Hypoxic | Hypoxic | HH | 38 | HH38 |\n",
       "| 9 | BBR-BBY-B26 | Hypoxic | Hypoxic | HH | 26 | HH26 |\n",
       "| 10 | BBY-WBG-B42 | Hypoxic | Control | HC | 42 | HC42 |\n",
       "| 11 | WBB-WBV-W69 | Control | Control | CC | 69 | CC69 |\n",
       "| 12 | WBG-BBB-W56 | Control | Hypoxic | CH | 56 | CH56 |\n",
       "| 13 | WBG-WBG-W44 | Control | Control | CC | 44 | CC44 |\n",
       "| 14 | WBO-BBR-W03 | Control | Hypoxic | CH |  3 | CH3  |\n",
       "| 15 | WBO-WBV-W64 | Control | Control | CC | 64 | CC64 |\n",
       "| 16 | WBR-BBY-W25 | Control | Hypoxic | CH | 25 | CH25 |\n",
       "| 17 | WBV-WBO-W23 | Control | Control | CC | 23 | CC23 |\n",
       "| 18 | WBV-WBR-W12 | Control | Control | CC | 12 | CC12 |\n",
       "| 19 | WBY-BBV-W65 | Control | Hypoxic | CH | 65 | CH65 |\n",
       "| 20 | WBY-BBY-W30 | Control | Hypoxic | CH | 30 | CH30 |\n",
       "\n"
      ],
      "text/plain": [
       "   oyster_rep  phase1  phase2  code replicate arbitrary_code\n",
       "1  BBB-WBO-B21 Hypoxic Control HC   21        HC21          \n",
       "2  BBB-WBV-B70 Hypoxic Control HC   70        HC70          \n",
       "3  BBO-BBO-B16 Hypoxic Hypoxic HH   16        HH16          \n",
       "4  BBO-BBY-B27 Hypoxic Hypoxic HH   27        HH27          \n",
       "5  BBO-WBO-B16 Hypoxic Control HC   16        HC16          \n",
       "6  BBO-WBV-B64 Hypoxic Control HC   64        HC64          \n",
       "7  BBR-BBB-B50 Hypoxic Hypoxic HH   50        HH50          \n",
       "8  BBR-BBG-B38 Hypoxic Hypoxic HH   38        HH38          \n",
       "9  BBR-BBY-B26 Hypoxic Hypoxic HH   26        HH26          \n",
       "10 BBY-WBG-B42 Hypoxic Control HC   42        HC42          \n",
       "11 WBB-WBV-W69 Control Control CC   69        CC69          \n",
       "12 WBG-BBB-W56 Control Hypoxic CH   56        CH56          \n",
       "13 WBG-WBG-W44 Control Control CC   44        CC44          \n",
       "14 WBO-BBR-W03 Control Hypoxic CH    3        CH3           \n",
       "15 WBO-WBV-W64 Control Control CC   64        CC64          \n",
       "16 WBR-BBY-W25 Control Hypoxic CH   25        CH25          \n",
       "17 WBV-WBO-W23 Control Control CC   23        CC23          \n",
       "18 WBV-WBR-W12 Control Control CC   12        CC12          \n",
       "19 WBY-BBV-W65 Control Hypoxic CH   65        CH65          \n",
       "20 WBY-BBY-W30 Control Hypoxic CH   30        CH30          "
      ]
     },
     "metadata": {},
     "output_type": "display_data"
    }
   ],
   "source": [
    "meta_df <- gene_long[1:20,] %>%\n",
    "select(oyster_rep, phase1, phase2)\n",
    "\n",
    "meta_df <- meta_df %>%\n",
    "  mutate(\n",
    "    code = case_when(\n",
    "      phase1 == \"Hypoxic\" & phase2 == \"Hypoxic\" ~ \"HH\",\n",
    "      phase1 == \"Hypoxic\" & phase2 == \"Control\" ~ \"HC\",\n",
    "      phase1 == \"Control\" & phase2 == \"Hypoxic\" ~ \"CH\",\n",
    "      phase1 == \"Control\" & phase2 == \"Control\" ~ \"CC\",\n",
    "      TRUE ~ \"Unknown\"\n",
    "    ),\n",
    "    replicate = str_extract(oyster_rep, \"\\\\d+\") %>% as.integer()\n",
    "  ) %>%\n",
    "mutate(arbitrary_code = paste(code, replicate, sep ='')) %>%\n",
    "as.data.frame()\n",
    "\n",
    "\n",
    "meta_df"
   ]
  },
  {
   "cell_type": "code",
   "execution_count": 55,
   "id": "e70516d9-63bc-44a9-9991-260919be02f4",
   "metadata": {},
   "outputs": [
    {
     "data": {
      "text/html": [
       "<table class=\"dataframe\">\n",
       "<caption>A data.frame: 6 × 9</caption>\n",
       "<thead>\n",
       "\t<tr><th></th><th scope=col>chromosome</th><th scope=col>start</th><th scope=col>stop</th><th scope=col>start_stop</th><th scope=col>oyster_rep</th><th scope=col>count</th><th scope=col>phase1</th><th scope=col>phase2</th><th scope=col>treatment</th></tr>\n",
       "\t<tr><th></th><th scope=col>&lt;chr&gt;</th><th scope=col>&lt;int&gt;</th><th scope=col>&lt;int&gt;</th><th scope=col>&lt;chr&gt;</th><th scope=col>&lt;chr&gt;</th><th scope=col>&lt;int&gt;</th><th scope=col>&lt;chr&gt;</th><th scope=col>&lt;chr&gt;</th><th scope=col>&lt;chr&gt;</th></tr>\n",
       "</thead>\n",
       "<tbody>\n",
       "\t<tr><th scope=row>1</th><td>NC_035780.1</td><td>28961</td><td>33324</td><td>28961_33324</td><td>BBB-WBO-B21</td><td>0</td><td>Hypoxic</td><td>Control</td><td>Hypoxic Control</td></tr>\n",
       "\t<tr><th scope=row>2</th><td>NC_035780.1</td><td>28961</td><td>33324</td><td>28961_33324</td><td>BBB-WBV-B70</td><td>0</td><td>Hypoxic</td><td>Control</td><td>Hypoxic Control</td></tr>\n",
       "\t<tr><th scope=row>3</th><td>NC_035780.1</td><td>28961</td><td>33324</td><td>28961_33324</td><td>BBO-BBO-B16</td><td>0</td><td>Hypoxic</td><td>Hypoxic</td><td>Hypoxic Hypoxic</td></tr>\n",
       "\t<tr><th scope=row>4</th><td>NC_035780.1</td><td>28961</td><td>33324</td><td>28961_33324</td><td>BBO-BBY-B27</td><td>0</td><td>Hypoxic</td><td>Hypoxic</td><td>Hypoxic Hypoxic</td></tr>\n",
       "\t<tr><th scope=row>5</th><td>NC_035780.1</td><td>28961</td><td>33324</td><td>28961_33324</td><td>BBO-WBO-B16</td><td>0</td><td>Hypoxic</td><td>Control</td><td>Hypoxic Control</td></tr>\n",
       "\t<tr><th scope=row>6</th><td>NC_035780.1</td><td>28961</td><td>33324</td><td>28961_33324</td><td>BBO-WBV-B64</td><td>2</td><td>Hypoxic</td><td>Control</td><td>Hypoxic Control</td></tr>\n",
       "</tbody>\n",
       "</table>\n"
      ],
      "text/latex": [
       "A data.frame: 6 × 9\n",
       "\\begin{tabular}{r|lllllllll}\n",
       "  & chromosome & start & stop & start\\_stop & oyster\\_rep & count & phase1 & phase2 & treatment\\\\\n",
       "  & <chr> & <int> & <int> & <chr> & <chr> & <int> & <chr> & <chr> & <chr>\\\\\n",
       "\\hline\n",
       "\t1 & NC\\_035780.1 & 28961 & 33324 & 28961\\_33324 & BBB-WBO-B21 & 0 & Hypoxic & Control & Hypoxic Control\\\\\n",
       "\t2 & NC\\_035780.1 & 28961 & 33324 & 28961\\_33324 & BBB-WBV-B70 & 0 & Hypoxic & Control & Hypoxic Control\\\\\n",
       "\t3 & NC\\_035780.1 & 28961 & 33324 & 28961\\_33324 & BBO-BBO-B16 & 0 & Hypoxic & Hypoxic & Hypoxic Hypoxic\\\\\n",
       "\t4 & NC\\_035780.1 & 28961 & 33324 & 28961\\_33324 & BBO-BBY-B27 & 0 & Hypoxic & Hypoxic & Hypoxic Hypoxic\\\\\n",
       "\t5 & NC\\_035780.1 & 28961 & 33324 & 28961\\_33324 & BBO-WBO-B16 & 0 & Hypoxic & Control & Hypoxic Control\\\\\n",
       "\t6 & NC\\_035780.1 & 28961 & 33324 & 28961\\_33324 & BBO-WBV-B64 & 2 & Hypoxic & Control & Hypoxic Control\\\\\n",
       "\\end{tabular}\n"
      ],
      "text/markdown": [
       "\n",
       "A data.frame: 6 × 9\n",
       "\n",
       "| <!--/--> | chromosome &lt;chr&gt; | start &lt;int&gt; | stop &lt;int&gt; | start_stop &lt;chr&gt; | oyster_rep &lt;chr&gt; | count &lt;int&gt; | phase1 &lt;chr&gt; | phase2 &lt;chr&gt; | treatment &lt;chr&gt; |\n",
       "|---|---|---|---|---|---|---|---|---|---|\n",
       "| 1 | NC_035780.1 | 28961 | 33324 | 28961_33324 | BBB-WBO-B21 | 0 | Hypoxic | Control | Hypoxic Control |\n",
       "| 2 | NC_035780.1 | 28961 | 33324 | 28961_33324 | BBB-WBV-B70 | 0 | Hypoxic | Control | Hypoxic Control |\n",
       "| 3 | NC_035780.1 | 28961 | 33324 | 28961_33324 | BBO-BBO-B16 | 0 | Hypoxic | Hypoxic | Hypoxic Hypoxic |\n",
       "| 4 | NC_035780.1 | 28961 | 33324 | 28961_33324 | BBO-BBY-B27 | 0 | Hypoxic | Hypoxic | Hypoxic Hypoxic |\n",
       "| 5 | NC_035780.1 | 28961 | 33324 | 28961_33324 | BBO-WBO-B16 | 0 | Hypoxic | Control | Hypoxic Control |\n",
       "| 6 | NC_035780.1 | 28961 | 33324 | 28961_33324 | BBO-WBV-B64 | 2 | Hypoxic | Control | Hypoxic Control |\n",
       "\n"
      ],
      "text/plain": [
       "  chromosome  start stop  start_stop  oyster_rep  count phase1  phase2 \n",
       "1 NC_035780.1 28961 33324 28961_33324 BBB-WBO-B21 0     Hypoxic Control\n",
       "2 NC_035780.1 28961 33324 28961_33324 BBB-WBV-B70 0     Hypoxic Control\n",
       "3 NC_035780.1 28961 33324 28961_33324 BBO-BBO-B16 0     Hypoxic Hypoxic\n",
       "4 NC_035780.1 28961 33324 28961_33324 BBO-BBY-B27 0     Hypoxic Hypoxic\n",
       "5 NC_035780.1 28961 33324 28961_33324 BBO-WBO-B16 0     Hypoxic Control\n",
       "6 NC_035780.1 28961 33324 28961_33324 BBO-WBV-B64 2     Hypoxic Control\n",
       "  treatment      \n",
       "1 Hypoxic Control\n",
       "2 Hypoxic Control\n",
       "3 Hypoxic Hypoxic\n",
       "4 Hypoxic Hypoxic\n",
       "5 Hypoxic Control\n",
       "6 Hypoxic Control"
      ]
     },
     "metadata": {},
     "output_type": "display_data"
    }
   ],
   "source": [
    "gene_long <- gene_long %>%\n",
    "  mutate(\n",
    "    phase1 = ifelse(str_detect(oyster_rep, \"^BB\"), \"Hypoxic\", \"Control\"),\n",
    "    phase2 = ifelse(str_detect(oyster_rep, \"-BB\"), \"Hypoxic\", \"Control\")\n",
    "  ) %>%\n",
    "mutate(treatment = paste(phase1, phase2, sep = ' ')) %>%\n",
    "as.data.frame()\n",
    "\n",
    "head(gene_long)"
   ]
  },
  {
   "cell_type": "code",
   "execution_count": 60,
   "id": "655cc23a-cfa4-46f2-8307-b4cd6c41d89f",
   "metadata": {},
   "outputs": [],
   "source": [
    "# add shortened rep name\n",
    "gene_long2 <- merge(gene_long, meta_df, by = 'oyster_rep')"
   ]
  },
  {
   "cell_type": "code",
   "execution_count": 76,
   "id": "e9902c0d-3874-45e3-bce8-6b089c6bc57d",
   "metadata": {},
   "outputs": [
    {
     "data": {
      "image/png": "[encoded data removed]",
      "text/plain": [
       "plot without title"
      ]
     },
     "metadata": {
      "image/png": {
       "height": 300,
       "width": 600
      }
     },
     "output_type": "display_data"
    }
   ],
   "source": [
    "options(repr.plot.width=10, repr.plot.height=5)\n",
    "\n",
    "ggplot(gene_long2, aes(x = arbitrary_code, y = count, colour = treatment)) +\n",
    "  geom_jitter(color = \"gray\") +\n",
    "  stat_summary(fun = \"mean\", geom = \"crossbar\") +\n",
    "labs(x = '', y = 'Number of Aligned Sequences', title = 'all genes') +\n",
    "guides(fill = 'none') +\n",
    "  theme_bw()"
   ]
  },
  {
   "cell_type": "markdown",
   "id": "c2f6a664-0584-4f99-a98f-f6a5ea888d18",
   "metadata": {},
   "source": [
    "the average number of sequences for each gene is really low - as seen by the bars at the bottom of the plot\n",
    "\n",
    "wondering if I should take an average of the counts for each gene within a treatment combo - so instead of having 20 x variables, just have 4, one for each treatment combo (might reduce noise too?)"
   ]
  },
  {
   "cell_type": "code",
   "execution_count": 79,
   "id": "f77d9714-4863-4d38-9222-02ef1714fe3e",
   "metadata": {},
   "outputs": [
    {
     "data": {
      "text/html": [
       "<table class=\"dataframe\">\n",
       "<caption>A data.frame: 6 × 14</caption>\n",
       "<thead>\n",
       "\t<tr><th></th><th scope=col>oyster_rep</th><th scope=col>chromosome</th><th scope=col>start</th><th scope=col>stop</th><th scope=col>start_stop</th><th scope=col>count</th><th scope=col>phase1.x</th><th scope=col>phase2.x</th><th scope=col>treatment</th><th scope=col>phase1.y</th><th scope=col>phase2.y</th><th scope=col>code</th><th scope=col>replicate</th><th scope=col>arbitrary_code</th></tr>\n",
       "\t<tr><th></th><th scope=col>&lt;chr&gt;</th><th scope=col>&lt;chr&gt;</th><th scope=col>&lt;int&gt;</th><th scope=col>&lt;int&gt;</th><th scope=col>&lt;chr&gt;</th><th scope=col>&lt;int&gt;</th><th scope=col>&lt;chr&gt;</th><th scope=col>&lt;chr&gt;</th><th scope=col>&lt;chr&gt;</th><th scope=col>&lt;chr&gt;</th><th scope=col>&lt;chr&gt;</th><th scope=col>&lt;chr&gt;</th><th scope=col>&lt;int&gt;</th><th scope=col>&lt;chr&gt;</th></tr>\n",
       "</thead>\n",
       "<tbody>\n",
       "\t<tr><th scope=row>1</th><td>BBB-WBO-B21</td><td>NC_035780.1</td><td>   28961</td><td>   33324</td><td>28961_33324      </td><td>  0</td><td>Hypoxic</td><td>Control</td><td>Hypoxic Control</td><td>Hypoxic</td><td>Control</td><td>HC</td><td>21</td><td>HC21</td></tr>\n",
       "\t<tr><th scope=row>2</th><td>BBB-WBO-B21</td><td>NC_035783.1</td><td>14596993</td><td>14610253</td><td>14596993_14610253</td><td>  0</td><td>Hypoxic</td><td>Control</td><td>Hypoxic Control</td><td>Hypoxic</td><td>Control</td><td>HC</td><td>21</td><td>HC21</td></tr>\n",
       "\t<tr><th scope=row>3</th><td>BBB-WBO-B21</td><td>NC_035786.1</td><td>38798795</td><td>38802017</td><td>38798795_38802017</td><td>  0</td><td>Hypoxic</td><td>Control</td><td>Hypoxic Control</td><td>Hypoxic</td><td>Control</td><td>HC</td><td>21</td><td>HC21</td></tr>\n",
       "\t<tr><th scope=row>4</th><td>BBB-WBO-B21</td><td>NC_035781.1</td><td>32898285</td><td>32899500</td><td>32898285_32899500</td><td>  0</td><td>Hypoxic</td><td>Control</td><td>Hypoxic Control</td><td>Hypoxic</td><td>Control</td><td>HC</td><td>21</td><td>HC21</td></tr>\n",
       "\t<tr><th scope=row>5</th><td>BBB-WBO-B21</td><td>NC_035784.1</td><td>47497685</td><td>47524217</td><td>47497685_47524217</td><td>180</td><td>Hypoxic</td><td>Control</td><td>Hypoxic Control</td><td>Hypoxic</td><td>Control</td><td>HC</td><td>21</td><td>HC21</td></tr>\n",
       "\t<tr><th scope=row>6</th><td>BBB-WBO-B21</td><td>NC_035788.1</td><td>12708014</td><td>12711392</td><td>12708014_12711392</td><td>  0</td><td>Hypoxic</td><td>Control</td><td>Hypoxic Control</td><td>Hypoxic</td><td>Control</td><td>HC</td><td>21</td><td>HC21</td></tr>\n",
       "</tbody>\n",
       "</table>\n"
      ],
      "text/latex": [
       "A data.frame: 6 × 14\n",
       "\\begin{tabular}{r|llllllllllllll}\n",
       "  & oyster\\_rep & chromosome & start & stop & start\\_stop & count & phase1.x & phase2.x & treatment & phase1.y & phase2.y & code & replicate & arbitrary\\_code\\\\\n",
       "  & <chr> & <chr> & <int> & <int> & <chr> & <int> & <chr> & <chr> & <chr> & <chr> & <chr> & <chr> & <int> & <chr>\\\\\n",
       "\\hline\n",
       "\t1 & BBB-WBO-B21 & NC\\_035780.1 &    28961 &    33324 & 28961\\_33324       &   0 & Hypoxic & Control & Hypoxic Control & Hypoxic & Control & HC & 21 & HC21\\\\\n",
       "\t2 & BBB-WBO-B21 & NC\\_035783.1 & 14596993 & 14610253 & 14596993\\_14610253 &   0 & Hypoxic & Control & Hypoxic Control & Hypoxic & Control & HC & 21 & HC21\\\\\n",
       "\t3 & BBB-WBO-B21 & NC\\_035786.1 & 38798795 & 38802017 & 38798795\\_38802017 &   0 & Hypoxic & Control & Hypoxic Control & Hypoxic & Control & HC & 21 & HC21\\\\\n",
       "\t4 & BBB-WBO-B21 & NC\\_035781.1 & 32898285 & 32899500 & 32898285\\_32899500 &   0 & Hypoxic & Control & Hypoxic Control & Hypoxic & Control & HC & 21 & HC21\\\\\n",
       "\t5 & BBB-WBO-B21 & NC\\_035784.1 & 47497685 & 47524217 & 47497685\\_47524217 & 180 & Hypoxic & Control & Hypoxic Control & Hypoxic & Control & HC & 21 & HC21\\\\\n",
       "\t6 & BBB-WBO-B21 & NC\\_035788.1 & 12708014 & 12711392 & 12708014\\_12711392 &   0 & Hypoxic & Control & Hypoxic Control & Hypoxic & Control & HC & 21 & HC21\\\\\n",
       "\\end{tabular}\n"
      ],
      "text/markdown": [
       "\n",
       "A data.frame: 6 × 14\n",
       "\n",
       "| <!--/--> | oyster_rep &lt;chr&gt; | chromosome &lt;chr&gt; | start &lt;int&gt; | stop &lt;int&gt; | start_stop &lt;chr&gt; | count &lt;int&gt; | phase1.x &lt;chr&gt; | phase2.x &lt;chr&gt; | treatment &lt;chr&gt; | phase1.y &lt;chr&gt; | phase2.y &lt;chr&gt; | code &lt;chr&gt; | replicate &lt;int&gt; | arbitrary_code &lt;chr&gt; |\n",
       "|---|---|---|---|---|---|---|---|---|---|---|---|---|---|---|\n",
       "| 1 | BBB-WBO-B21 | NC_035780.1 |    28961 |    33324 | 28961_33324       |   0 | Hypoxic | Control | Hypoxic Control | Hypoxic | Control | HC | 21 | HC21 |\n",
       "| 2 | BBB-WBO-B21 | NC_035783.1 | 14596993 | 14610253 | 14596993_14610253 |   0 | Hypoxic | Control | Hypoxic Control | Hypoxic | Control | HC | 21 | HC21 |\n",
       "| 3 | BBB-WBO-B21 | NC_035786.1 | 38798795 | 38802017 | 38798795_38802017 |   0 | Hypoxic | Control | Hypoxic Control | Hypoxic | Control | HC | 21 | HC21 |\n",
       "| 4 | BBB-WBO-B21 | NC_035781.1 | 32898285 | 32899500 | 32898285_32899500 |   0 | Hypoxic | Control | Hypoxic Control | Hypoxic | Control | HC | 21 | HC21 |\n",
       "| 5 | BBB-WBO-B21 | NC_035784.1 | 47497685 | 47524217 | 47497685_47524217 | 180 | Hypoxic | Control | Hypoxic Control | Hypoxic | Control | HC | 21 | HC21 |\n",
       "| 6 | BBB-WBO-B21 | NC_035788.1 | 12708014 | 12711392 | 12708014_12711392 |   0 | Hypoxic | Control | Hypoxic Control | Hypoxic | Control | HC | 21 | HC21 |\n",
       "\n"
      ],
      "text/plain": [
       "  oyster_rep \n",
       "1 BBB-WBO-B21\n",
       "2 BBB-WBO-B21\n",
       "3 BBB-WBO-B21\n",
       "4 BBB-WBO-B21\n",
       "5 BBB-WBO-B21\n",
       "6 BBB-WBO-B21\n",
       "  chromosome \n",
       "1 NC_035780.1\n",
       "2 NC_035783.1\n",
       "3 NC_035786.1\n",
       "4 NC_035781.1\n",
       "5 NC_035784.1\n",
       "6 NC_035788.1\n",
       "  start   \n",
       "1    28961\n",
       "2 14596993\n",
       "3 38798795\n",
       "4 32898285\n",
       "5 47497685\n",
       "6 12708014\n",
       "  stop    \n",
       "1    33324\n",
       "2 14610253\n",
       "3 38802017\n",
       "4 32899500\n",
       "5 47524217\n",
       "6 12711392\n",
       "  start_stop       \n",
       "1 28961_33324      \n",
       "2 14596993_14610253\n",
       "3 38798795_38802017\n",
       "4 32898285_32899500\n",
       "5 47497685_47524217\n",
       "6 12708014_12711392\n",
       "  count\n",
       "1   0  \n",
       "2   0  \n",
       "3   0  \n",
       "4   0  \n",
       "5 180  \n",
       "6   0  \n",
       "  phase1.x\n",
       "1 Hypoxic \n",
       "2 Hypoxic \n",
       "3 Hypoxic \n",
       "4 Hypoxic \n",
       "5 Hypoxic \n",
       "6 Hypoxic \n",
       "  phase2.x\n",
       "1 Control \n",
       "2 Control \n",
       "3 Control \n",
       "4 Control \n",
       "5 Control \n",
       "6 Control \n",
       "  treatment      \n",
       "1 Hypoxic Control\n",
       "2 Hypoxic Control\n",
       "3 Hypoxic Control\n",
       "4 Hypoxic Control\n",
       "5 Hypoxic Control\n",
       "6 Hypoxic Control\n",
       "  phase1.y\n",
       "1 Hypoxic \n",
       "2 Hypoxic \n",
       "3 Hypoxic \n",
       "4 Hypoxic \n",
       "5 Hypoxic \n",
       "6 Hypoxic \n",
       "  phase2.y\n",
       "1 Control \n",
       "2 Control \n",
       "3 Control \n",
       "4 Control \n",
       "5 Control \n",
       "6 Control \n",
       "  code\n",
       "1 HC  \n",
       "2 HC  \n",
       "3 HC  \n",
       "4 HC  \n",
       "5 HC  \n",
       "6 HC  \n",
       "  replicate\n",
       "1 21       \n",
       "2 21       \n",
       "3 21       \n",
       "4 21       \n",
       "5 21       \n",
       "6 21       \n",
       "  arbitrary_code\n",
       "1 HC21          \n",
       "2 HC21          \n",
       "3 HC21          \n",
       "4 HC21          \n",
       "5 HC21          \n",
       "6 HC21          "
      ]
     },
     "metadata": {},
     "output_type": "display_data"
    }
   ],
   "source": [
    "head(gene_long2)"
   ]
  },
  {
   "cell_type": "code",
   "execution_count": 88,
   "id": "f93e8719-9250-422b-ae8c-e7fc3a5ab29f",
   "metadata": {},
   "outputs": [
    {
     "name": "stderr",
     "output_type": "stream",
     "text": [
      "\u001b[1m\u001b[22m`summarise()`\n",
      "has grouped\n",
      "output by\n",
      "'start_stop'.\n",
      "You can\n",
      "override using\n",
      "the `.groups`\n",
      "argument.\n"
     ]
    },
    {
     "data": {
      "text/html": [
       "<table class=\"dataframe\">\n",
       "<caption>A tibble: 6 × 7</caption>\n",
       "<thead>\n",
       "\t<tr><th scope=col>start_stop</th><th scope=col>code</th><th scope=col>avg_count</th><th scope=col>phase1</th><th scope=col>phase2</th><th scope=col>treatment</th><th scope=col>feature</th></tr>\n",
       "\t<tr><th scope=col>&lt;chr&gt;</th><th scope=col>&lt;chr&gt;</th><th scope=col>&lt;dbl&gt;</th><th scope=col>&lt;chr&gt;</th><th scope=col>&lt;chr&gt;</th><th scope=col>&lt;chr&gt;</th><th scope=col>&lt;chr&gt;</th></tr>\n",
       "</thead>\n",
       "<tbody>\n",
       "\t<tr><td>100010101_100016587</td><td>CC</td><td> 0.0</td><td>Control</td><td>Control</td><td>Control Control</td><td>gene</td></tr>\n",
       "\t<tr><td>100010101_100016587</td><td>CH</td><td> 0.0</td><td>Control</td><td>Hypoxic</td><td>Control Hypoxic</td><td>gene</td></tr>\n",
       "\t<tr><td>100010101_100016587</td><td>HC</td><td> 0.0</td><td>Hypoxic</td><td>Control</td><td>Hypoxic Control</td><td>gene</td></tr>\n",
       "\t<tr><td>100010101_100016587</td><td>HH</td><td> 0.0</td><td>Hypoxic</td><td>Hypoxic</td><td>Hypoxic Hypoxic</td><td>gene</td></tr>\n",
       "\t<tr><td>10001514_10009558  </td><td>CC</td><td> 5.6</td><td>Control</td><td>Control</td><td>Control Control</td><td>gene</td></tr>\n",
       "\t<tr><td>10001514_10009558  </td><td>CH</td><td>20.0</td><td>Control</td><td>Hypoxic</td><td>Control Hypoxic</td><td>gene</td></tr>\n",
       "</tbody>\n",
       "</table>\n"
      ],
      "text/latex": [
       "A tibble: 6 × 7\n",
       "\\begin{tabular}{lllllll}\n",
       " start\\_stop & code & avg\\_count & phase1 & phase2 & treatment & feature\\\\\n",
       " <chr> & <chr> & <dbl> & <chr> & <chr> & <chr> & <chr>\\\\\n",
       "\\hline\n",
       "\t 100010101\\_100016587 & CC &  0.0 & Control & Control & Control Control & gene\\\\\n",
       "\t 100010101\\_100016587 & CH &  0.0 & Control & Hypoxic & Control Hypoxic & gene\\\\\n",
       "\t 100010101\\_100016587 & HC &  0.0 & Hypoxic & Control & Hypoxic Control & gene\\\\\n",
       "\t 100010101\\_100016587 & HH &  0.0 & Hypoxic & Hypoxic & Hypoxic Hypoxic & gene\\\\\n",
       "\t 10001514\\_10009558   & CC &  5.6 & Control & Control & Control Control & gene\\\\\n",
       "\t 10001514\\_10009558   & CH & 20.0 & Control & Hypoxic & Control Hypoxic & gene\\\\\n",
       "\\end{tabular}\n"
      ],
      "text/markdown": [
       "\n",
       "A tibble: 6 × 7\n",
       "\n",
       "| start_stop &lt;chr&gt; | code &lt;chr&gt; | avg_count &lt;dbl&gt; | phase1 &lt;chr&gt; | phase2 &lt;chr&gt; | treatment &lt;chr&gt; | feature &lt;chr&gt; |\n",
       "|---|---|---|---|---|---|---|\n",
       "| 100010101_100016587 | CC |  0.0 | Control | Control | Control Control | gene |\n",
       "| 100010101_100016587 | CH |  0.0 | Control | Hypoxic | Control Hypoxic | gene |\n",
       "| 100010101_100016587 | HC |  0.0 | Hypoxic | Control | Hypoxic Control | gene |\n",
       "| 100010101_100016587 | HH |  0.0 | Hypoxic | Hypoxic | Hypoxic Hypoxic | gene |\n",
       "| 10001514_10009558   | CC |  5.6 | Control | Control | Control Control | gene |\n",
       "| 10001514_10009558   | CH | 20.0 | Control | Hypoxic | Control Hypoxic | gene |\n",
       "\n"
      ],
      "text/plain": [
       "  start_stop         \n",
       "1 100010101_100016587\n",
       "2 100010101_100016587\n",
       "3 100010101_100016587\n",
       "4 100010101_100016587\n",
       "5 10001514_10009558  \n",
       "6 10001514_10009558  \n",
       "  code\n",
       "1 CC  \n",
       "2 CH  \n",
       "3 HC  \n",
       "4 HH  \n",
       "5 CC  \n",
       "6 CH  \n",
       "  avg_count\n",
       "1  0.0     \n",
       "2  0.0     \n",
       "3  0.0     \n",
       "4  0.0     \n",
       "5  5.6     \n",
       "6 20.0     \n",
       "  phase1 \n",
       "1 Control\n",
       "2 Control\n",
       "3 Hypoxic\n",
       "4 Hypoxic\n",
       "5 Control\n",
       "6 Control\n",
       "  phase2 \n",
       "1 Control\n",
       "2 Hypoxic\n",
       "3 Control\n",
       "4 Hypoxic\n",
       "5 Control\n",
       "6 Hypoxic\n",
       "  treatment      \n",
       "1 Control Control\n",
       "2 Control Hypoxic\n",
       "3 Hypoxic Control\n",
       "4 Hypoxic Hypoxic\n",
       "5 Control Control\n",
       "6 Control Hypoxic\n",
       "  feature\n",
       "1 gene   \n",
       "2 gene   \n",
       "3 gene   \n",
       "4 gene   \n",
       "5 gene   \n",
       "6 gene   "
      ]
     },
     "metadata": {},
     "output_type": "display_data"
    }
   ],
   "source": [
    "# collapse gene_long2 into four treatment combos - average count for each gene across replicates within a treatment combo\n",
    "avg_geneLong <- gene_long2 %>%\n",
    "  group_by(start_stop, code) %>% # for each gene within treatment combo\n",
    "  summarise(avg_count = mean(count, na.rm = TRUE)) %>% # calculate average # of sequences \n",
    "  ungroup() %>%\n",
    "mutate(\n",
    "    phase1 = case_when(\n",
    "      substr(code, 1, 1) == \"C\" ~ \"Control\", # phase 1 is control when first letter is C\n",
    "      substr(code, 1, 1) == \"H\" ~ \"Hypoxic\" # and hypoxic when first letter is H\n",
    "    ),\n",
    "    phase2 = case_when(\n",
    "      substr(code, 2, 2) == \"C\" ~ \"Control\", # phase 2 same as above ^\n",
    "      substr(code, 2, 2) == \"H\" ~ \"Hypoxic\"\n",
    "    ),\n",
    "    treatment = paste(phase1, phase2, sep = \" \") # concatenate phase info for treatment \n",
    "  ) %>%\n",
    "# adding column to designate these are for genes, will merge later on?\n",
    "mutate(feature = 'gene')\n",
    "\n",
    "head(avg_geneLong)"
   ]
  },
  {
   "cell_type": "code",
   "execution_count": 87,
   "id": "28789809-8322-4389-a652-c539d44faa9b",
   "metadata": {},
   "outputs": [
    {
     "data": {
      "image/png": "[encoded data removed]",
      "text/plain": [
       "plot without title"
      ]
     },
     "metadata": {
      "image/png": {
       "height": 300,
       "width": 600
      }
     },
     "output_type": "display_data"
    }
   ],
   "source": [
    "options(repr.plot.width=10, repr.plot.height=5)\n",
    "\n",
    "ggplot(avg_geneLong, aes(x = phase1, y = avg_count, colour = phase1)) +\n",
    "  geom_jitter(color = \"gray\") +\n",
    "facet_wrap(~phase2) + \n",
    "  stat_summary(fun = \"mean\", geom = \"crossbar\") +\n",
    "  scale_colour_manual(values=c('cornflowerblue', 'deeppink2')) +\n",
    "labs(x = 'First Exposure', \n",
    "     y = 'Average Number of Aligned Sequences', \n",
    "     title = 'all genes', \n",
    "     subtitle = 'average counts across 5 replicates') +\n",
    "guides(colour = 'none') +\n",
    "  theme_bw()"
   ]
  },
  {
   "cell_type": "markdown",
   "id": "cad0707e-fa2a-4344-8c9f-a6c004278945",
   "metadata": {},
   "source": [
    "now to do the same for exons, utrs, introns\n",
    "\n",
    "#### exons"
   ]
  },
  {
   "cell_type": "code",
   "execution_count": 89,
   "id": "0e4843ed-3d3b-4493-90e4-439ca47b56fe",
   "metadata": {},
   "outputs": [
    {
     "data": {
      "text/html": [
       "<style>\n",
       ".list-inline {list-style: none; margin:0; padding: 0}\n",
       ".list-inline>li {display: inline-block}\n",
       ".list-inline>li:not(:last-child)::after {content: \"\\00b7\"; padding: 0 .5ex}\n",
       "</style>\n",
       "<ol class=list-inline><li>14625560</li><li>5</li></ol>\n"
      ],
      "text/latex": [
       "\\begin{enumerate*}\n",
       "\\item 14625560\n",
       "\\item 5\n",
       "\\end{enumerate*}\n"
      ],
      "text/markdown": [
       "1. 14625560\n",
       "2. 5\n",
       "\n",
       "\n"
      ],
      "text/plain": [
       "[1] 14625560\n",
       "[2]        5"
      ]
     },
     "metadata": {},
     "output_type": "display_data"
    },
    {
     "data": {
      "text/html": [
       "<table class=\"dataframe\">\n",
       "<caption>A tibble: 6 × 5</caption>\n",
       "<thead>\n",
       "\t<tr><th scope=col>chromosome</th><th scope=col>start</th><th scope=col>stop</th><th scope=col>oyster_rep</th><th scope=col>count</th></tr>\n",
       "\t<tr><th scope=col>&lt;chr&gt;</th><th scope=col>&lt;int&gt;</th><th scope=col>&lt;int&gt;</th><th scope=col>&lt;chr&gt;</th><th scope=col>&lt;int&gt;</th></tr>\n",
       "</thead>\n",
       "<tbody>\n",
       "\t<tr><td>NC_035780.1</td><td>14237</td><td>14290</td><td>BBB-WBO-B21</td><td>0</td></tr>\n",
       "\t<tr><td>NC_035780.1</td><td>14237</td><td>14290</td><td>BBB-WBV-B70</td><td>0</td></tr>\n",
       "\t<tr><td>NC_035780.1</td><td>14237</td><td>14290</td><td>BBO-BBO-B16</td><td>0</td></tr>\n",
       "\t<tr><td>NC_035780.1</td><td>14237</td><td>14290</td><td>BBO-BBY-B27</td><td>0</td></tr>\n",
       "\t<tr><td>NC_035780.1</td><td>14237</td><td>14290</td><td>BBO-WBO-B16</td><td>0</td></tr>\n",
       "\t<tr><td>NC_035780.1</td><td>14237</td><td>14290</td><td>BBO-WBV-B64</td><td>0</td></tr>\n",
       "</tbody>\n",
       "</table>\n"
      ],
      "text/latex": [
       "A tibble: 6 × 5\n",
       "\\begin{tabular}{lllll}\n",
       " chromosome & start & stop & oyster\\_rep & count\\\\\n",
       " <chr> & <int> & <int> & <chr> & <int>\\\\\n",
       "\\hline\n",
       "\t NC\\_035780.1 & 14237 & 14290 & BBB-WBO-B21 & 0\\\\\n",
       "\t NC\\_035780.1 & 14237 & 14290 & BBB-WBV-B70 & 0\\\\\n",
       "\t NC\\_035780.1 & 14237 & 14290 & BBO-BBO-B16 & 0\\\\\n",
       "\t NC\\_035780.1 & 14237 & 14290 & BBO-BBY-B27 & 0\\\\\n",
       "\t NC\\_035780.1 & 14237 & 14290 & BBO-WBO-B16 & 0\\\\\n",
       "\t NC\\_035780.1 & 14237 & 14290 & BBO-WBV-B64 & 0\\\\\n",
       "\\end{tabular}\n"
      ],
      "text/markdown": [
       "\n",
       "A tibble: 6 × 5\n",
       "\n",
       "| chromosome &lt;chr&gt; | start &lt;int&gt; | stop &lt;int&gt; | oyster_rep &lt;chr&gt; | count &lt;int&gt; |\n",
       "|---|---|---|---|---|\n",
       "| NC_035780.1 | 14237 | 14290 | BBB-WBO-B21 | 0 |\n",
       "| NC_035780.1 | 14237 | 14290 | BBB-WBV-B70 | 0 |\n",
       "| NC_035780.1 | 14237 | 14290 | BBO-BBO-B16 | 0 |\n",
       "| NC_035780.1 | 14237 | 14290 | BBO-BBY-B27 | 0 |\n",
       "| NC_035780.1 | 14237 | 14290 | BBO-WBO-B16 | 0 |\n",
       "| NC_035780.1 | 14237 | 14290 | BBO-WBV-B64 | 0 |\n",
       "\n"
      ],
      "text/plain": [
       "  chromosome \n",
       "1 NC_035780.1\n",
       "2 NC_035780.1\n",
       "3 NC_035780.1\n",
       "4 NC_035780.1\n",
       "5 NC_035780.1\n",
       "6 NC_035780.1\n",
       "  start stop \n",
       "1 14237 14290\n",
       "2 14237 14290\n",
       "3 14237 14290\n",
       "4 14237 14290\n",
       "5 14237 14290\n",
       "6 14237 14290\n",
       "  oyster_rep \n",
       "1 BBB-WBO-B21\n",
       "2 BBB-WBV-B70\n",
       "3 BBO-BBO-B16\n",
       "4 BBO-BBY-B27\n",
       "5 BBO-WBO-B16\n",
       "6 BBO-WBV-B64\n",
       "  count\n",
       "1 0    \n",
       "2 0    \n",
       "3 0    \n",
       "4 0    \n",
       "5 0    \n",
       "6 0    "
      ]
     },
     "metadata": {},
     "output_type": "display_data"
    }
   ],
   "source": [
    "exon_long <- exons |>\n",
    "pivot_longer(cols = 4:23, \n",
    "             names_to = 'oyster_rep',\n",
    "            values_to = 'count' ) \n",
    "\n",
    "dim(exon_long)\n",
    "head(exon_long)"
   ]
  },
  {
   "cell_type": "code",
   "execution_count": 91,
   "id": "5a743903-d006-4683-ab05-948d1380597c",
   "metadata": {},
   "outputs": [
    {
     "data": {
      "text/html": [
       "<table class=\"dataframe\">\n",
       "<caption>A data.frame: 6 × 8</caption>\n",
       "<thead>\n",
       "\t<tr><th></th><th scope=col>chromosome</th><th scope=col>start</th><th scope=col>stop</th><th scope=col>oyster_rep</th><th scope=col>count</th><th scope=col>phase1</th><th scope=col>phase2</th><th scope=col>treatment</th></tr>\n",
       "\t<tr><th></th><th scope=col>&lt;chr&gt;</th><th scope=col>&lt;int&gt;</th><th scope=col>&lt;int&gt;</th><th scope=col>&lt;chr&gt;</th><th scope=col>&lt;int&gt;</th><th scope=col>&lt;chr&gt;</th><th scope=col>&lt;chr&gt;</th><th scope=col>&lt;chr&gt;</th></tr>\n",
       "</thead>\n",
       "<tbody>\n",
       "\t<tr><th scope=row>1</th><td>NC_035780.1</td><td>14237</td><td>14290</td><td>BBB-WBO-B21</td><td>0</td><td>Hypoxic</td><td>Control</td><td>Hypoxic Control</td></tr>\n",
       "\t<tr><th scope=row>2</th><td>NC_035780.1</td><td>14237</td><td>14290</td><td>BBB-WBV-B70</td><td>0</td><td>Hypoxic</td><td>Control</td><td>Hypoxic Control</td></tr>\n",
       "\t<tr><th scope=row>3</th><td>NC_035780.1</td><td>14237</td><td>14290</td><td>BBO-BBO-B16</td><td>0</td><td>Hypoxic</td><td>Hypoxic</td><td>Hypoxic Hypoxic</td></tr>\n",
       "\t<tr><th scope=row>4</th><td>NC_035780.1</td><td>14237</td><td>14290</td><td>BBO-BBY-B27</td><td>0</td><td>Hypoxic</td><td>Hypoxic</td><td>Hypoxic Hypoxic</td></tr>\n",
       "\t<tr><th scope=row>5</th><td>NC_035780.1</td><td>14237</td><td>14290</td><td>BBO-WBO-B16</td><td>0</td><td>Hypoxic</td><td>Control</td><td>Hypoxic Control</td></tr>\n",
       "\t<tr><th scope=row>6</th><td>NC_035780.1</td><td>14237</td><td>14290</td><td>BBO-WBV-B64</td><td>0</td><td>Hypoxic</td><td>Control</td><td>Hypoxic Control</td></tr>\n",
       "</tbody>\n",
       "</table>\n"
      ],
      "text/latex": [
       "A data.frame: 6 × 8\n",
       "\\begin{tabular}{r|llllllll}\n",
       "  & chromosome & start & stop & oyster\\_rep & count & phase1 & phase2 & treatment\\\\\n",
       "  & <chr> & <int> & <int> & <chr> & <int> & <chr> & <chr> & <chr>\\\\\n",
       "\\hline\n",
       "\t1 & NC\\_035780.1 & 14237 & 14290 & BBB-WBO-B21 & 0 & Hypoxic & Control & Hypoxic Control\\\\\n",
       "\t2 & NC\\_035780.1 & 14237 & 14290 & BBB-WBV-B70 & 0 & Hypoxic & Control & Hypoxic Control\\\\\n",
       "\t3 & NC\\_035780.1 & 14237 & 14290 & BBO-BBO-B16 & 0 & Hypoxic & Hypoxic & Hypoxic Hypoxic\\\\\n",
       "\t4 & NC\\_035780.1 & 14237 & 14290 & BBO-BBY-B27 & 0 & Hypoxic & Hypoxic & Hypoxic Hypoxic\\\\\n",
       "\t5 & NC\\_035780.1 & 14237 & 14290 & BBO-WBO-B16 & 0 & Hypoxic & Control & Hypoxic Control\\\\\n",
       "\t6 & NC\\_035780.1 & 14237 & 14290 & BBO-WBV-B64 & 0 & Hypoxic & Control & Hypoxic Control\\\\\n",
       "\\end{tabular}\n"
      ],
      "text/markdown": [
       "\n",
       "A data.frame: 6 × 8\n",
       "\n",
       "| <!--/--> | chromosome &lt;chr&gt; | start &lt;int&gt; | stop &lt;int&gt; | oyster_rep &lt;chr&gt; | count &lt;int&gt; | phase1 &lt;chr&gt; | phase2 &lt;chr&gt; | treatment &lt;chr&gt; |\n",
       "|---|---|---|---|---|---|---|---|---|\n",
       "| 1 | NC_035780.1 | 14237 | 14290 | BBB-WBO-B21 | 0 | Hypoxic | Control | Hypoxic Control |\n",
       "| 2 | NC_035780.1 | 14237 | 14290 | BBB-WBV-B70 | 0 | Hypoxic | Control | Hypoxic Control |\n",
       "| 3 | NC_035780.1 | 14237 | 14290 | BBO-BBO-B16 | 0 | Hypoxic | Hypoxic | Hypoxic Hypoxic |\n",
       "| 4 | NC_035780.1 | 14237 | 14290 | BBO-BBY-B27 | 0 | Hypoxic | Hypoxic | Hypoxic Hypoxic |\n",
       "| 5 | NC_035780.1 | 14237 | 14290 | BBO-WBO-B16 | 0 | Hypoxic | Control | Hypoxic Control |\n",
       "| 6 | NC_035780.1 | 14237 | 14290 | BBO-WBV-B64 | 0 | Hypoxic | Control | Hypoxic Control |\n",
       "\n"
      ],
      "text/plain": [
       "  chromosome \n",
       "1 NC_035780.1\n",
       "2 NC_035780.1\n",
       "3 NC_035780.1\n",
       "4 NC_035780.1\n",
       "5 NC_035780.1\n",
       "6 NC_035780.1\n",
       "  start stop \n",
       "1 14237 14290\n",
       "2 14237 14290\n",
       "3 14237 14290\n",
       "4 14237 14290\n",
       "5 14237 14290\n",
       "6 14237 14290\n",
       "  oyster_rep \n",
       "1 BBB-WBO-B21\n",
       "2 BBB-WBV-B70\n",
       "3 BBO-BBO-B16\n",
       "4 BBO-BBY-B27\n",
       "5 BBO-WBO-B16\n",
       "6 BBO-WBV-B64\n",
       "  count\n",
       "1 0    \n",
       "2 0    \n",
       "3 0    \n",
       "4 0    \n",
       "5 0    \n",
       "6 0    \n",
       "  phase1 \n",
       "1 Hypoxic\n",
       "2 Hypoxic\n",
       "3 Hypoxic\n",
       "4 Hypoxic\n",
       "5 Hypoxic\n",
       "6 Hypoxic\n",
       "  phase2 \n",
       "1 Control\n",
       "2 Control\n",
       "3 Hypoxic\n",
       "4 Hypoxic\n",
       "5 Control\n",
       "6 Control\n",
       "  treatment      \n",
       "1 Hypoxic Control\n",
       "2 Hypoxic Control\n",
       "3 Hypoxic Hypoxic\n",
       "4 Hypoxic Hypoxic\n",
       "5 Hypoxic Control\n",
       "6 Hypoxic Control"
      ]
     },
     "metadata": {},
     "output_type": "display_data"
    }
   ],
   "source": [
    "exon_long <- exon_long %>%\n",
    "  mutate(\n",
    "    phase1 = ifelse(str_detect(oyster_rep, \"^BB\"), \"Hypoxic\", \"Control\"),\n",
    "    phase2 = ifelse(str_detect(oyster_rep, \"-BB\"), \"Hypoxic\", \"Control\")\n",
    "  ) %>%\n",
    "mutate(treatment = paste(phase1, phase2, sep = ' ')) %>%\n",
    "as.data.frame()\n",
    "\n",
    "head(exon_long)"
   ]
  },
  {
   "cell_type": "code",
   "execution_count": 93,
   "id": "8696d636-7a67-4107-a897-b66315c5b217",
   "metadata": {},
   "outputs": [
    {
     "data": {
      "text/html": [
       "<table class=\"dataframe\">\n",
       "<caption>A data.frame: 20 × 6</caption>\n",
       "<thead>\n",
       "\t<tr><th></th><th scope=col>oyster_rep</th><th scope=col>phase1</th><th scope=col>phase2</th><th scope=col>code</th><th scope=col>replicate</th><th scope=col>arbitrary_code</th></tr>\n",
       "\t<tr><th></th><th scope=col>&lt;chr&gt;</th><th scope=col>&lt;chr&gt;</th><th scope=col>&lt;chr&gt;</th><th scope=col>&lt;chr&gt;</th><th scope=col>&lt;int&gt;</th><th scope=col>&lt;chr&gt;</th></tr>\n",
       "</thead>\n",
       "<tbody>\n",
       "\t<tr><th scope=row>1</th><td>BBB-WBO-B21</td><td>Hypoxic</td><td>Control</td><td>HC</td><td>21</td><td>HC21</td></tr>\n",
       "\t<tr><th scope=row>2</th><td>BBB-WBV-B70</td><td>Hypoxic</td><td>Control</td><td>HC</td><td>70</td><td>HC70</td></tr>\n",
       "\t<tr><th scope=row>3</th><td>BBO-BBO-B16</td><td>Hypoxic</td><td>Hypoxic</td><td>HH</td><td>16</td><td>HH16</td></tr>\n",
       "\t<tr><th scope=row>4</th><td>BBO-BBY-B27</td><td>Hypoxic</td><td>Hypoxic</td><td>HH</td><td>27</td><td>HH27</td></tr>\n",
       "\t<tr><th scope=row>5</th><td>BBO-WBO-B16</td><td>Hypoxic</td><td>Control</td><td>HC</td><td>16</td><td>HC16</td></tr>\n",
       "\t<tr><th scope=row>6</th><td>BBO-WBV-B64</td><td>Hypoxic</td><td>Control</td><td>HC</td><td>64</td><td>HC64</td></tr>\n",
       "\t<tr><th scope=row>7</th><td>BBR-BBB-B50</td><td>Hypoxic</td><td>Hypoxic</td><td>HH</td><td>50</td><td>HH50</td></tr>\n",
       "\t<tr><th scope=row>8</th><td>BBR-BBG-B38</td><td>Hypoxic</td><td>Hypoxic</td><td>HH</td><td>38</td><td>HH38</td></tr>\n",
       "\t<tr><th scope=row>9</th><td>BBR-BBY-B26</td><td>Hypoxic</td><td>Hypoxic</td><td>HH</td><td>26</td><td>HH26</td></tr>\n",
       "\t<tr><th scope=row>10</th><td>BBY-WBG-B42</td><td>Hypoxic</td><td>Control</td><td>HC</td><td>42</td><td>HC42</td></tr>\n",
       "\t<tr><th scope=row>11</th><td>WBB-WBV-W69</td><td>Control</td><td>Control</td><td>CC</td><td>69</td><td>CC69</td></tr>\n",
       "\t<tr><th scope=row>12</th><td>WBG-BBB-W56</td><td>Control</td><td>Hypoxic</td><td>CH</td><td>56</td><td>CH56</td></tr>\n",
       "\t<tr><th scope=row>13</th><td>WBG-WBG-W44</td><td>Control</td><td>Control</td><td>CC</td><td>44</td><td>CC44</td></tr>\n",
       "\t<tr><th scope=row>14</th><td>WBO-BBR-W03</td><td>Control</td><td>Hypoxic</td><td>CH</td><td> 3</td><td>CH3 </td></tr>\n",
       "\t<tr><th scope=row>15</th><td>WBO-WBV-W64</td><td>Control</td><td>Control</td><td>CC</td><td>64</td><td>CC64</td></tr>\n",
       "\t<tr><th scope=row>16</th><td>WBR-BBY-W25</td><td>Control</td><td>Hypoxic</td><td>CH</td><td>25</td><td>CH25</td></tr>\n",
       "\t<tr><th scope=row>17</th><td>WBV-WBO-W23</td><td>Control</td><td>Control</td><td>CC</td><td>23</td><td>CC23</td></tr>\n",
       "\t<tr><th scope=row>18</th><td>WBV-WBR-W12</td><td>Control</td><td>Control</td><td>CC</td><td>12</td><td>CC12</td></tr>\n",
       "\t<tr><th scope=row>19</th><td>WBY-BBV-W65</td><td>Control</td><td>Hypoxic</td><td>CH</td><td>65</td><td>CH65</td></tr>\n",
       "\t<tr><th scope=row>20</th><td>WBY-BBY-W30</td><td>Control</td><td>Hypoxic</td><td>CH</td><td>30</td><td>CH30</td></tr>\n",
       "</tbody>\n",
       "</table>\n"
      ],
      "text/latex": [
       "A data.frame: 20 × 6\n",
       "\\begin{tabular}{r|llllll}\n",
       "  & oyster\\_rep & phase1 & phase2 & code & replicate & arbitrary\\_code\\\\\n",
       "  & <chr> & <chr> & <chr> & <chr> & <int> & <chr>\\\\\n",
       "\\hline\n",
       "\t1 & BBB-WBO-B21 & Hypoxic & Control & HC & 21 & HC21\\\\\n",
       "\t2 & BBB-WBV-B70 & Hypoxic & Control & HC & 70 & HC70\\\\\n",
       "\t3 & BBO-BBO-B16 & Hypoxic & Hypoxic & HH & 16 & HH16\\\\\n",
       "\t4 & BBO-BBY-B27 & Hypoxic & Hypoxic & HH & 27 & HH27\\\\\n",
       "\t5 & BBO-WBO-B16 & Hypoxic & Control & HC & 16 & HC16\\\\\n",
       "\t6 & BBO-WBV-B64 & Hypoxic & Control & HC & 64 & HC64\\\\\n",
       "\t7 & BBR-BBB-B50 & Hypoxic & Hypoxic & HH & 50 & HH50\\\\\n",
       "\t8 & BBR-BBG-B38 & Hypoxic & Hypoxic & HH & 38 & HH38\\\\\n",
       "\t9 & BBR-BBY-B26 & Hypoxic & Hypoxic & HH & 26 & HH26\\\\\n",
       "\t10 & BBY-WBG-B42 & Hypoxic & Control & HC & 42 & HC42\\\\\n",
       "\t11 & WBB-WBV-W69 & Control & Control & CC & 69 & CC69\\\\\n",
       "\t12 & WBG-BBB-W56 & Control & Hypoxic & CH & 56 & CH56\\\\\n",
       "\t13 & WBG-WBG-W44 & Control & Control & CC & 44 & CC44\\\\\n",
       "\t14 & WBO-BBR-W03 & Control & Hypoxic & CH &  3 & CH3 \\\\\n",
       "\t15 & WBO-WBV-W64 & Control & Control & CC & 64 & CC64\\\\\n",
       "\t16 & WBR-BBY-W25 & Control & Hypoxic & CH & 25 & CH25\\\\\n",
       "\t17 & WBV-WBO-W23 & Control & Control & CC & 23 & CC23\\\\\n",
       "\t18 & WBV-WBR-W12 & Control & Control & CC & 12 & CC12\\\\\n",
       "\t19 & WBY-BBV-W65 & Control & Hypoxic & CH & 65 & CH65\\\\\n",
       "\t20 & WBY-BBY-W30 & Control & Hypoxic & CH & 30 & CH30\\\\\n",
       "\\end{tabular}\n"
      ],
      "text/markdown": [
       "\n",
       "A data.frame: 20 × 6\n",
       "\n",
       "| <!--/--> | oyster_rep &lt;chr&gt; | phase1 &lt;chr&gt; | phase2 &lt;chr&gt; | code &lt;chr&gt; | replicate &lt;int&gt; | arbitrary_code &lt;chr&gt; |\n",
       "|---|---|---|---|---|---|---|\n",
       "| 1 | BBB-WBO-B21 | Hypoxic | Control | HC | 21 | HC21 |\n",
       "| 2 | BBB-WBV-B70 | Hypoxic | Control | HC | 70 | HC70 |\n",
       "| 3 | BBO-BBO-B16 | Hypoxic | Hypoxic | HH | 16 | HH16 |\n",
       "| 4 | BBO-BBY-B27 | Hypoxic | Hypoxic | HH | 27 | HH27 |\n",
       "| 5 | BBO-WBO-B16 | Hypoxic | Control | HC | 16 | HC16 |\n",
       "| 6 | BBO-WBV-B64 | Hypoxic | Control | HC | 64 | HC64 |\n",
       "| 7 | BBR-BBB-B50 | Hypoxic | Hypoxic | HH | 50 | HH50 |\n",
       "| 8 | BBR-BBG-B38 | Hypoxic | Hypoxic | HH | 38 | HH38 |\n",
       "| 9 | BBR-BBY-B26 | Hypoxic | Hypoxic | HH | 26 | HH26 |\n",
       "| 10 | BBY-WBG-B42 | Hypoxic | Control | HC | 42 | HC42 |\n",
       "| 11 | WBB-WBV-W69 | Control | Control | CC | 69 | CC69 |\n",
       "| 12 | WBG-BBB-W56 | Control | Hypoxic | CH | 56 | CH56 |\n",
       "| 13 | WBG-WBG-W44 | Control | Control | CC | 44 | CC44 |\n",
       "| 14 | WBO-BBR-W03 | Control | Hypoxic | CH |  3 | CH3  |\n",
       "| 15 | WBO-WBV-W64 | Control | Control | CC | 64 | CC64 |\n",
       "| 16 | WBR-BBY-W25 | Control | Hypoxic | CH | 25 | CH25 |\n",
       "| 17 | WBV-WBO-W23 | Control | Control | CC | 23 | CC23 |\n",
       "| 18 | WBV-WBR-W12 | Control | Control | CC | 12 | CC12 |\n",
       "| 19 | WBY-BBV-W65 | Control | Hypoxic | CH | 65 | CH65 |\n",
       "| 20 | WBY-BBY-W30 | Control | Hypoxic | CH | 30 | CH30 |\n",
       "\n"
      ],
      "text/plain": [
       "   oyster_rep \n",
       "1  BBB-WBO-B21\n",
       "2  BBB-WBV-B70\n",
       "3  BBO-BBO-B16\n",
       "4  BBO-BBY-B27\n",
       "5  BBO-WBO-B16\n",
       "6  BBO-WBV-B64\n",
       "7  BBR-BBB-B50\n",
       "8  BBR-BBG-B38\n",
       "9  BBR-BBY-B26\n",
       "10 BBY-WBG-B42\n",
       "11 WBB-WBV-W69\n",
       "12 WBG-BBB-W56\n",
       "13 WBG-WBG-W44\n",
       "14 WBO-BBR-W03\n",
       "15 WBO-WBV-W64\n",
       "16 WBR-BBY-W25\n",
       "17 WBV-WBO-W23\n",
       "18 WBV-WBR-W12\n",
       "19 WBY-BBV-W65\n",
       "20 WBY-BBY-W30\n",
       "   phase1 \n",
       "1  Hypoxic\n",
       "2  Hypoxic\n",
       "3  Hypoxic\n",
       "4  Hypoxic\n",
       "5  Hypoxic\n",
       "6  Hypoxic\n",
       "7  Hypoxic\n",
       "8  Hypoxic\n",
       "9  Hypoxic\n",
       "10 Hypoxic\n",
       "11 Control\n",
       "12 Control\n",
       "13 Control\n",
       "14 Control\n",
       "15 Control\n",
       "16 Control\n",
       "17 Control\n",
       "18 Control\n",
       "19 Control\n",
       "20 Control\n",
       "   phase2 \n",
       "1  Control\n",
       "2  Control\n",
       "3  Hypoxic\n",
       "4  Hypoxic\n",
       "5  Control\n",
       "6  Control\n",
       "7  Hypoxic\n",
       "8  Hypoxic\n",
       "9  Hypoxic\n",
       "10 Control\n",
       "11 Control\n",
       "12 Hypoxic\n",
       "13 Control\n",
       "14 Hypoxic\n",
       "15 Control\n",
       "16 Hypoxic\n",
       "17 Control\n",
       "18 Control\n",
       "19 Hypoxic\n",
       "20 Hypoxic\n",
       "   code\n",
       "1  HC  \n",
       "2  HC  \n",
       "3  HH  \n",
       "4  HH  \n",
       "5  HC  \n",
       "6  HC  \n",
       "7  HH  \n",
       "8  HH  \n",
       "9  HH  \n",
       "10 HC  \n",
       "11 CC  \n",
       "12 CH  \n",
       "13 CC  \n",
       "14 CH  \n",
       "15 CC  \n",
       "16 CH  \n",
       "17 CC  \n",
       "18 CC  \n",
       "19 CH  \n",
       "20 CH  \n",
       "   replicate\n",
       "1  21       \n",
       "2  70       \n",
       "3  16       \n",
       "4  27       \n",
       "5  16       \n",
       "6  64       \n",
       "7  50       \n",
       "8  38       \n",
       "9  26       \n",
       "10 42       \n",
       "11 69       \n",
       "12 56       \n",
       "13 44       \n",
       "14  3       \n",
       "15 64       \n",
       "16 25       \n",
       "17 23       \n",
       "18 12       \n",
       "19 65       \n",
       "20 30       \n",
       "   arbitrary_code\n",
       "1  HC21          \n",
       "2  HC70          \n",
       "3  HH16          \n",
       "4  HH27          \n",
       "5  HC16          \n",
       "6  HC64          \n",
       "7  HH50          \n",
       "8  HH38          \n",
       "9  HH26          \n",
       "10 HC42          \n",
       "11 CC69          \n",
       "12 CH56          \n",
       "13 CC44          \n",
       "14 CH3           \n",
       "15 CC64          \n",
       "16 CH25          \n",
       "17 CC23          \n",
       "18 CC12          \n",
       "19 CH65          \n",
       "20 CH30          "
      ]
     },
     "metadata": {},
     "output_type": "display_data"
    }
   ],
   "source": [
    "meta_df <- exon_long[1:20,] %>%\n",
    "select(oyster_rep, phase1, phase2)\n",
    "\n",
    "meta_df <- meta_df %>%\n",
    "  mutate(\n",
    "    code = case_when(\n",
    "      phase1 == \"Hypoxic\" & phase2 == \"Hypoxic\" ~ \"HH\",\n",
    "      phase1 == \"Hypoxic\" & phase2 == \"Control\" ~ \"HC\",\n",
    "      phase1 == \"Control\" & phase2 == \"Hypoxic\" ~ \"CH\",\n",
    "      phase1 == \"Control\" & phase2 == \"Control\" ~ \"CC\",\n",
    "      TRUE ~ \"Unknown\"\n",
    "    ),\n",
    "    replicate = str_extract(oyster_rep, \"\\\\d+\") %>% as.integer()\n",
    "  ) %>%\n",
    "mutate(arbitrary_code = paste(code, replicate, sep ='')) %>%\n",
    "as.data.frame()\n",
    "\n",
    "\n",
    "meta_df"
   ]
  },
  {
   "cell_type": "code",
   "execution_count": 94,
   "id": "5202551f-c73b-4e1f-a85e-b02abafeecab",
   "metadata": {},
   "outputs": [],
   "source": [
    "# add shortened rep name\n",
    "exon_long2 <- merge(exon_long, meta_df, by = 'oyster_rep')"
   ]
  },
  {
   "cell_type": "code",
   "execution_count": null,
   "id": "626750ea-c830-4d6e-b375-0fb3915875bb",
   "metadata": {},
   "outputs": [],
   "source": [
    "options(repr.plot.width=10, repr.plot.height=5)\n",
    "\n",
    "ggplot(exon_long2, aes(x = arbitrary_code, y = count, colour = treatment)) +\n",
    "  geom_jitter(color = \"gray\") +\n",
    "  stat_summary(fun = \"mean\", geom = \"crossbar\") +\n",
    "labs(x = '', y = 'Number of Aligned Sequences', title = 'all exons') +\n",
    "guides(colour = 'none') +\n",
    "  theme_bw()"
   ]
  },
  {
   "cell_type": "code",
   "execution_count": null,
   "id": "e0d48e0d-50ec-4b5f-a22d-187167b296b1",
   "metadata": {},
   "outputs": [],
   "source": []
  },
  {
   "cell_type": "markdown",
   "id": "4717c45a-4f43-407f-b8b5-6fe50026aae0",
   "metadata": {},
   "source": [
    "## 3. Euclidean geometry plot"
   ]
  }
 ],
 "metadata": {
  "kernelspec": {
   "display_name": "R [conda env:.conda-r-env]",
   "language": "R",
   "name": "conda-env-.conda-r-env-r"
  },
  "language_info": {
   "codemirror_mode": "r",
   "file_extension": ".r",
   "mimetype": "text/x-r-source",
   "name": "R",
   "pygments_lexer": "r",
   "version": "4.3.2"
  }
 },
 "nbformat": 4,
 "nbformat_minor": 5
}
