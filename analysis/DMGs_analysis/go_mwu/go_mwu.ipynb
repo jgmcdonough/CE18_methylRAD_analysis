{
 "cells": [
  {
   "cell_type": "markdown",
   "id": "e30afb81-3071-4c2a-bb25-f1f02cca8a2d",
   "metadata": {},
   "source": [
    "# GO_MWU\n",
    "\n",
    "started 01/06/2025\n",
    "\n",
    "following protocol outlined [here](https://github.com/z0on/GO_MWU)\n",
    "\n",
    "**Needed in the same directory:**\n",
    "- scripts: GO_MWU.R, gomwu_a.pl, gomwu_b.pl, gomwu.functions.R\n",
    "- GO hierarchy file ([go.obo](http://www.geneontology.org/GO.downloads.ontology.shtml))\n",
    "- table of GO annotations for your sequences: two-column (gene id - GO terms), tab-delimited, one line per gene, multiple GO terms separated by semicolon. If you have multiple lines per gene, use nrify_GOtable.pl to merge them. Do NOT include genes without GO annotations.\n",
    "- table of measure of interest for your sequences: two columns of comma-separated values: gene id, continuous measure of change such as log(fold-change). To perform standard GO enrichment analysis based on Fisher's exact test, use binary measure (1 or 0, i.e., either sgnificant or not). To analyze modules derived from WGCNA, specify 0 for genes not included in the module and the kME value (number between 0 and 1, module membership score) for genes included in the module."
   ]
  },
  {
   "cell_type": "code",
   "execution_count": 25,
   "id": "e09bffcb-3088-43d7-9d4f-21237daad508",
   "metadata": {},
   "outputs": [],
   "source": [
    "library(tidyverse)\n",
    "library(ape)"
   ]
  },
  {
   "cell_type": "code",
   "execution_count": 41,
   "id": "b38a6a63-29f9-4a4e-8247-1c9ad716ac61",
   "metadata": {},
   "outputs": [
    {
     "data": {
      "text/html": [
       "'/project/pi_sarah_gignouxwolfsohn_uml_edu/julia/CE_MethylRAD_analysis_2018/analysis/DMGs_analysis/go_mwu'"
      ],
      "text/latex": [
       "'/project/pi\\_sarah\\_gignouxwolfsohn\\_uml\\_edu/julia/CE\\_MethylRAD\\_analysis\\_2018/analysis/DMGs\\_analysis/go\\_mwu'"
      ],
      "text/markdown": [
       "'/project/pi_sarah_gignouxwolfsohn_uml_edu/julia/CE_MethylRAD_analysis_2018/analysis/DMGs_analysis/go_mwu'"
      ],
      "text/plain": [
       "[1] \"/project/pi_sarah_gignouxwolfsohn_uml_edu/julia/CE_MethylRAD_analysis_2018/analysis/DMGs_analysis/go_mwu\""
      ]
     },
     "metadata": {},
     "output_type": "display_data"
    }
   ],
   "source": [
    "setwd('/project/pi_sarah_gignouxwolfsohn_uml_edu/julia/CE_MethylRAD_analysis_2018/analysis/DMGs_analysis/go_mwu')\n",
    "getwd()"
   ]
  },
  {
   "cell_type": "markdown",
   "id": "89e6f98d-fff8-4180-8739-3ec061202d90",
   "metadata": {},
   "source": [
    "### CH vs. HC\n",
    "table of measure of interest for sequences: "
   ]
  },
  {
   "cell_type": "code",
   "execution_count": 23,
   "id": "499bc7ef-431f-4b6d-a35c-485ef68d59ca",
   "metadata": {},
   "outputs": [
    {
     "data": {
      "text/html": [
       "<table class=\"dataframe\">\n",
       "<caption>A data.frame: 6 × 2</caption>\n",
       "<thead>\n",
       "\t<tr><th></th><th scope=col>Symbol</th><th scope=col>log2fc</th></tr>\n",
       "\t<tr><th></th><th scope=col>&lt;chr&gt;</th><th scope=col>&lt;dbl&gt;</th></tr>\n",
       "</thead>\n",
       "<tbody>\n",
       "\t<tr><th scope=row>1</th><td>LOC111116054</td><td> 0.00000000</td></tr>\n",
       "\t<tr><th scope=row>2</th><td>LOC111126949</td><td>-0.01768994</td></tr>\n",
       "\t<tr><th scope=row>3</th><td>LOC111110729</td><td>-0.06356103</td></tr>\n",
       "\t<tr><th scope=row>4</th><td>LOC111112434</td><td> 0.11826212</td></tr>\n",
       "\t<tr><th scope=row>5</th><td>LOC111120752</td><td> 0.20389041</td></tr>\n",
       "\t<tr><th scope=row>6</th><td>LOC111128944</td><td>         NA</td></tr>\n",
       "</tbody>\n",
       "</table>\n"
      ],
      "text/latex": [
       "A data.frame: 6 × 2\n",
       "\\begin{tabular}{r|ll}\n",
       "  & Symbol & log2fc\\\\\n",
       "  & <chr> & <dbl>\\\\\n",
       "\\hline\n",
       "\t1 & LOC111116054 &  0.00000000\\\\\n",
       "\t2 & LOC111126949 & -0.01768994\\\\\n",
       "\t3 & LOC111110729 & -0.06356103\\\\\n",
       "\t4 & LOC111112434 &  0.11826212\\\\\n",
       "\t5 & LOC111120752 &  0.20389041\\\\\n",
       "\t6 & LOC111128944 &          NA\\\\\n",
       "\\end{tabular}\n"
      ],
      "text/markdown": [
       "\n",
       "A data.frame: 6 × 2\n",
       "\n",
       "| <!--/--> | Symbol &lt;chr&gt; | log2fc &lt;dbl&gt; |\n",
       "|---|---|---|\n",
       "| 1 | LOC111116054 |  0.00000000 |\n",
       "| 2 | LOC111126949 | -0.01768994 |\n",
       "| 3 | LOC111110729 | -0.06356103 |\n",
       "| 4 | LOC111112434 |  0.11826212 |\n",
       "| 5 | LOC111120752 |  0.20389041 |\n",
       "| 6 | LOC111128944 |          NA |\n",
       "\n"
      ],
      "text/plain": [
       "  Symbol       log2fc     \n",
       "1 LOC111116054  0.00000000\n",
       "2 LOC111126949 -0.01768994\n",
       "3 LOC111110729 -0.06356103\n",
       "4 LOC111112434  0.11826212\n",
       "5 LOC111120752  0.20389041\n",
       "6 LOC111128944          NA"
      ]
     },
     "metadata": {},
     "output_type": "display_data"
    },
    {
     "data": {
      "text/html": [
       "<table class=\"dataframe\">\n",
       "<caption>A data.frame: 6 × 2</caption>\n",
       "<thead>\n",
       "\t<tr><th></th><th scope=col>Symbol</th><th scope=col>signif</th></tr>\n",
       "\t<tr><th></th><th scope=col>&lt;chr&gt;</th><th scope=col>&lt;dbl&gt;</th></tr>\n",
       "</thead>\n",
       "<tbody>\n",
       "\t<tr><th scope=row>1</th><td>LOC111116054</td><td>0</td></tr>\n",
       "\t<tr><th scope=row>2</th><td>LOC111126949</td><td>0</td></tr>\n",
       "\t<tr><th scope=row>3</th><td>LOC111110729</td><td>0</td></tr>\n",
       "\t<tr><th scope=row>4</th><td>LOC111112434</td><td>0</td></tr>\n",
       "\t<tr><th scope=row>5</th><td>LOC111120752</td><td>0</td></tr>\n",
       "\t<tr><th scope=row>6</th><td>LOC111128944</td><td>0</td></tr>\n",
       "</tbody>\n",
       "</table>\n"
      ],
      "text/latex": [
       "A data.frame: 6 × 2\n",
       "\\begin{tabular}{r|ll}\n",
       "  & Symbol & signif\\\\\n",
       "  & <chr> & <dbl>\\\\\n",
       "\\hline\n",
       "\t1 & LOC111116054 & 0\\\\\n",
       "\t2 & LOC111126949 & 0\\\\\n",
       "\t3 & LOC111110729 & 0\\\\\n",
       "\t4 & LOC111112434 & 0\\\\\n",
       "\t5 & LOC111120752 & 0\\\\\n",
       "\t6 & LOC111128944 & 0\\\\\n",
       "\\end{tabular}\n"
      ],
      "text/markdown": [
       "\n",
       "A data.frame: 6 × 2\n",
       "\n",
       "| <!--/--> | Symbol &lt;chr&gt; | signif &lt;dbl&gt; |\n",
       "|---|---|---|\n",
       "| 1 | LOC111116054 | 0 |\n",
       "| 2 | LOC111126949 | 0 |\n",
       "| 3 | LOC111110729 | 0 |\n",
       "| 4 | LOC111112434 | 0 |\n",
       "| 5 | LOC111120752 | 0 |\n",
       "| 6 | LOC111128944 | 0 |\n",
       "\n"
      ],
      "text/plain": [
       "  Symbol       signif\n",
       "1 LOC111116054 0     \n",
       "2 LOC111126949 0     \n",
       "3 LOC111110729 0     \n",
       "4 LOC111112434 0     \n",
       "5 LOC111120752 0     \n",
       "6 LOC111128944 0     "
      ]
     },
     "metadata": {},
     "output_type": "display_data"
    }
   ],
   "source": [
    "allGenes_CH <- read.csv('/project/pi_sarah_gignouxwolfsohn_uml_edu/julia/CE_MethylRAD_analysis_2018/analysis/deseq_res_files/geneFeatures_res/CH_vs_HC.csv')\n",
    "\n",
    "# select only gene id and continuous measure of change (log fold change)\n",
    "allGenes_CH_lfc <- select(allGenes_CH, X, log2FoldChange)\n",
    "\n",
    "colnames(allGenes_CH_lfc) <- c('Symbol', 'log2fc')\n",
    "\n",
    "head(allGenes_CH_lfc)\n",
    "\n",
    "# binary measure for significance\n",
    "allGenes_CH$significant <- ifelse(is.na(allGenes_CH$padj) | allGenes_CH$padj > 0.05, 0, 1)\n",
    "\n",
    "allGenes_CH_sig <- select(allGenes_CH, X, significant)\n",
    "colnames(allGenes_CH_sig) <- c('Symbol', 'signif')\n",
    "\n",
    "head(allGenes_CH_sig)"
   ]
  },
  {
   "cell_type": "code",
   "execution_count": 111,
   "id": "1920ab36-facd-4e50-b22b-e75d781c6191",
   "metadata": {},
   "outputs": [],
   "source": [
    "write.csv(allGenes_CH_lfc, '/project/pi_sarah_gignouxwolfsohn_uml_edu/julia/CE_MethylRAD_analysis_2018/analysis/DMGs_analysis/go_mwu/allGenes_CH_lfc.csv', row.names=FALSE, quote = FALSE)"
   ]
  },
  {
   "cell_type": "code",
   "execution_count": 112,
   "id": "3c2c7229-1324-47a1-a94b-e1c42aefc01f",
   "metadata": {},
   "outputs": [],
   "source": [
    "write.csv(allGenes_CH_sig, '/project/pi_sarah_gignouxwolfsohn_uml_edu/julia/CE_MethylRAD_analysis_2018/analysis/DMGs_analysis/go_mwu/allGenes_CH_sig.csv', row.names=FALSE, quote=FALSE)"
   ]
  },
  {
   "cell_type": "markdown",
   "id": "825efd71-bd63-4fa0-ad19-155da3e990b7",
   "metadata": {},
   "source": [
    "table of GO annotations for your sequences (gene id and GO terms):"
   ]
  },
  {
   "cell_type": "code",
   "execution_count": 11,
   "id": "30778b10-032a-47b2-bcf0-ad1e9fd31f9f",
   "metadata": {},
   "outputs": [
    {
     "data": {
      "text/html": [
       "<table class=\"dataframe\">\n",
       "<caption>A data.frame: 6 × 2</caption>\n",
       "<thead>\n",
       "\t<tr><th></th><th scope=col>Symbol</th><th scope=col>GO_ID</th></tr>\n",
       "\t<tr><th></th><th scope=col>&lt;chr&gt;</th><th scope=col>&lt;chr&gt;</th></tr>\n",
       "</thead>\n",
       "<tbody>\n",
       "\t<tr><th scope=row>1</th><td>LOC111099029</td><td>GO:0005261</td></tr>\n",
       "\t<tr><th scope=row>2</th><td>LOC111099029</td><td>GO:0098655</td></tr>\n",
       "\t<tr><th scope=row>3</th><td>LOC111099032</td><td>GO:0004930</td></tr>\n",
       "\t<tr><th scope=row>4</th><td>LOC111099032</td><td>GO:0004930</td></tr>\n",
       "\t<tr><th scope=row>5</th><td>LOC111099032</td><td>GO:0005886</td></tr>\n",
       "\t<tr><th scope=row>6</th><td>LOC111099032</td><td>GO:0007186</td></tr>\n",
       "</tbody>\n",
       "</table>\n"
      ],
      "text/latex": [
       "A data.frame: 6 × 2\n",
       "\\begin{tabular}{r|ll}\n",
       "  & Symbol & GO\\_ID\\\\\n",
       "  & <chr> & <chr>\\\\\n",
       "\\hline\n",
       "\t1 & LOC111099029 & GO:0005261\\\\\n",
       "\t2 & LOC111099029 & GO:0098655\\\\\n",
       "\t3 & LOC111099032 & GO:0004930\\\\\n",
       "\t4 & LOC111099032 & GO:0004930\\\\\n",
       "\t5 & LOC111099032 & GO:0005886\\\\\n",
       "\t6 & LOC111099032 & GO:0007186\\\\\n",
       "\\end{tabular}\n"
      ],
      "text/markdown": [
       "\n",
       "A data.frame: 6 × 2\n",
       "\n",
       "| <!--/--> | Symbol &lt;chr&gt; | GO_ID &lt;chr&gt; |\n",
       "|---|---|---|\n",
       "| 1 | LOC111099029 | GO:0005261 |\n",
       "| 2 | LOC111099029 | GO:0098655 |\n",
       "| 3 | LOC111099032 | GO:0004930 |\n",
       "| 4 | LOC111099032 | GO:0004930 |\n",
       "| 5 | LOC111099032 | GO:0005886 |\n",
       "| 6 | LOC111099032 | GO:0007186 |\n",
       "\n"
      ],
      "text/plain": [
       "  Symbol       GO_ID     \n",
       "1 LOC111099029 GO:0005261\n",
       "2 LOC111099029 GO:0098655\n",
       "3 LOC111099032 GO:0004930\n",
       "4 LOC111099032 GO:0004930\n",
       "5 LOC111099032 GO:0005886\n",
       "6 LOC111099032 GO:0007186"
      ]
     },
     "metadata": {},
     "output_type": "display_data"
    }
   ],
   "source": [
    "# Read the GAF file into R\n",
    "GOobo <- read.table('/project/pi_sarah_gignouxwolfsohn_uml_edu/Reference_genomes/Cvirginica_genome/GCF_002022765.2_C_virginica-3.0_gene_ontology.gaf', \n",
    "                          sep = \"\\t\", \n",
    "                          header = FALSE, \n",
    "                          comment.char = \"!\", \n",
    "                          stringsAsFactors = FALSE)\n",
    "\n",
    "# assign column names\n",
    "colnames(GOobo) <- c('DB', 'GeneID', 'Symbol', 'Qualifier', 'GO_ID', 'Reference', 'Evidence_Code', 'With,From', 'Aspect', 'Gene_Name', 'Gene_Synonym', 'Type', 'Taxon', 'Date', 'Assigned_By')\n",
    "\n",
    "# only need gene id and GO terms\n",
    "gene_GO <- select(GOobo, Symbol, GO_ID)\n",
    "\n",
    "head(gene_GO)"
   ]
  },
  {
   "cell_type": "code",
   "execution_count": 14,
   "id": "0ec94d0e-a8be-429e-b06e-fa903c5ca2e1",
   "metadata": {},
   "outputs": [
    {
     "data": {
      "text/html": [
       "<table class=\"dataframe\">\n",
       "<caption>A data.frame: 6 × 2</caption>\n",
       "<thead>\n",
       "\t<tr><th></th><th scope=col>Symbol</th><th scope=col>GO_ID</th></tr>\n",
       "\t<tr><th></th><th scope=col>&lt;chr&gt;</th><th scope=col>&lt;chr&gt;</th></tr>\n",
       "</thead>\n",
       "<tbody>\n",
       "\t<tr><th scope=row>1</th><td>LOC111099029</td><td>GO:0005261; GO:0098655            </td></tr>\n",
       "\t<tr><th scope=row>2</th><td>LOC111099032</td><td>GO:0004930; GO:0005886; GO:0007186</td></tr>\n",
       "\t<tr><th scope=row>3</th><td>LOC111099033</td><td>GO:0016020; GO:0022857; GO:0055085</td></tr>\n",
       "\t<tr><th scope=row>4</th><td>LOC111099034</td><td>GO:0005515                        </td></tr>\n",
       "\t<tr><th scope=row>5</th><td>LOC111099036</td><td>GO:0008028; GO:0015718; GO:0055085</td></tr>\n",
       "\t<tr><th scope=row>6</th><td>LOC111099039</td><td>GO:0004930; GO:0005886; GO:0007189</td></tr>\n",
       "</tbody>\n",
       "</table>\n"
      ],
      "text/latex": [
       "A data.frame: 6 × 2\n",
       "\\begin{tabular}{r|ll}\n",
       "  & Symbol & GO\\_ID\\\\\n",
       "  & <chr> & <chr>\\\\\n",
       "\\hline\n",
       "\t1 & LOC111099029 & GO:0005261; GO:0098655            \\\\\n",
       "\t2 & LOC111099032 & GO:0004930; GO:0005886; GO:0007186\\\\\n",
       "\t3 & LOC111099033 & GO:0016020; GO:0022857; GO:0055085\\\\\n",
       "\t4 & LOC111099034 & GO:0005515                        \\\\\n",
       "\t5 & LOC111099036 & GO:0008028; GO:0015718; GO:0055085\\\\\n",
       "\t6 & LOC111099039 & GO:0004930; GO:0005886; GO:0007189\\\\\n",
       "\\end{tabular}\n"
      ],
      "text/markdown": [
       "\n",
       "A data.frame: 6 × 2\n",
       "\n",
       "| <!--/--> | Symbol &lt;chr&gt; | GO_ID &lt;chr&gt; |\n",
       "|---|---|---|\n",
       "| 1 | LOC111099029 | GO:0005261; GO:0098655             |\n",
       "| 2 | LOC111099032 | GO:0004930; GO:0005886; GO:0007186 |\n",
       "| 3 | LOC111099033 | GO:0016020; GO:0022857; GO:0055085 |\n",
       "| 4 | LOC111099034 | GO:0005515                         |\n",
       "| 5 | LOC111099036 | GO:0008028; GO:0015718; GO:0055085 |\n",
       "| 6 | LOC111099039 | GO:0004930; GO:0005886; GO:0007189 |\n",
       "\n"
      ],
      "text/plain": [
       "  Symbol       GO_ID                             \n",
       "1 LOC111099029 GO:0005261; GO:0098655            \n",
       "2 LOC111099032 GO:0004930; GO:0005886; GO:0007186\n",
       "3 LOC111099033 GO:0016020; GO:0022857; GO:0055085\n",
       "4 LOC111099034 GO:0005515                        \n",
       "5 LOC111099036 GO:0008028; GO:0015718; GO:0055085\n",
       "6 LOC111099039 GO:0004930; GO:0005886; GO:0007189"
      ]
     },
     "metadata": {},
     "output_type": "display_data"
    }
   ],
   "source": [
    "# Aggregate GO IDs for each gene symbol\n",
    "geneGO <- aggregate(GO_ID ~ Symbol, data = gene_GO, function(x) paste(unique(x), collapse = \"; \"))\n",
    "\n",
    "# Print the aggregated data frame\n",
    "head(geneGO)"
   ]
  },
  {
   "cell_type": "code",
   "execution_count": 56,
   "id": "af4a9925-b164-4918-ac6d-82674c586bf7",
   "metadata": {},
   "outputs": [],
   "source": [
    "write.table(geneGO, '/project/pi_sarah_gignouxwolfsohn_uml_edu/julia/CE_MethylRAD_analysis_2018/analysis/DMGs_analysis/go_mwu/allGenes2GO.tab', sep = '\\t', row.names = FALSE, quote = FALSE)"
   ]
  },
  {
   "cell_type": "markdown",
   "id": "dedb9012-affe-42ea-8fba-461ca85c7638",
   "metadata": {},
   "source": [
    "#### GO_MWU.R\n",
    "\n",
    "**molecular function**"
   ]
  },
  {
   "cell_type": "code",
   "execution_count": 72,
   "id": "9d8e5af0-9334-4b73-87f7-01232b9a326f",
   "metadata": {},
   "outputs": [],
   "source": [
    "# Edit these to match your data file names: \n",
    "input=\"allGenes_CH_lfc.csv\" # two columns of comma-separated values: gene id, continuous measure of significance. To perform standard GO enrichment analysis based on Fisher's exact test, use binary measure (0 or 1, i.e., either sgnificant or not).\n",
    "goAnnotations=\"allGenes2GO.tab\" # two-column, tab-delimited, one line per gene, multiple GO terms separated by semicolon. If you have multiple lines per gene, use nrify_GOtable.pl prior to running this script.\n",
    "goDatabase=\"go.obo\" # download from http://www.geneontology.org/GO.downloads.ontology.shtml\n",
    "goDivision=\"MF\" # either MF, or BP, or CC\n",
    "source(\"gomwu.functions.R\")\n"
   ]
  },
  {
   "cell_type": "code",
   "execution_count": 73,
   "id": "09b15ee2-d3fb-4071-a59a-a27c3ae3de8a",
   "metadata": {},
   "outputs": [
    {
     "name": "stdout",
     "output_type": "stream",
     "text": [
      "Continuous measure of interest: will perform MWU test\n"
     ]
    },
    {
     "name": "stderr",
     "output_type": "stream",
     "text": [
      "0 GO terms at 10% FDR\n",
      "\n"
     ]
    }
   ],
   "source": [
    "# Calculating stats. It might take ~3 min for MF and BP. Do not rerun it if you just want to replot the data with different cutoffs, go straight to gomwuPlot. If you change any of the numeric values below, delete the files that were generated in previos runs first.\n",
    "gomwuStats(input, goDatabase, goAnnotations, goDivision,\n",
    "           perlPath=\"perl\", # replace with full path to perl executable if it is not in your system's PATH already\n",
    "           largest=0.1,  # a GO category will not be considered if it contains more than this fraction of the total number of genes\n",
    "           smallest=5,   # a GO category should contain at least this many genes to be considered\n",
    "           clusterCutHeight=0.25) # threshold for merging similar (gene-sharing) terms. See README for details.\n",
    "# There are no GO term at 10% FDR"
   ]
  },
  {
   "cell_type": "code",
   "execution_count": 92,
   "id": "2b694488-8dcf-4a8d-a6cc-2353733fe18b",
   "metadata": {},
   "outputs": [
    {
     "data": {
      "text/html": [
       "<table class=\"dataframe\">\n",
       "<caption>A data.frame: 6 × 7</caption>\n",
       "<thead>\n",
       "\t<tr><th></th><th scope=col>delta.rank</th><th scope=col>pval</th><th scope=col>level</th><th scope=col>nseqs</th><th scope=col>term</th><th scope=col>name</th><th scope=col>p.adj</th></tr>\n",
       "\t<tr><th></th><th scope=col>&lt;int&gt;</th><th scope=col>&lt;dbl&gt;</th><th scope=col>&lt;int&gt;</th><th scope=col>&lt;int&gt;</th><th scope=col>&lt;chr&gt;</th><th scope=col>&lt;chr&gt;</th><th scope=col>&lt;dbl&gt;</th></tr>\n",
       "</thead>\n",
       "<tbody>\n",
       "\t<tr><th scope=row>1</th><td>1665</td><td>0.09931216</td><td>2</td><td> 5</td><td>GO:0000026                                 </td><td>alpha-1,2-mannosyltransferase activity</td><td>0.6784797</td></tr>\n",
       "\t<tr><th scope=row>2</th><td> 171</td><td>0.72876525</td><td>3</td><td>21</td><td>GO:0000030                                 </td><td>mannosyltransferase activity          </td><td>0.9388837</td></tr>\n",
       "\t<tr><th scope=row>3</th><td> 773</td><td>0.02890507</td><td>4</td><td>41</td><td>GO:0000049                                 </td><td>tRNA binding                          </td><td>0.6102001</td></tr>\n",
       "\t<tr><th scope=row>4</th><td>-239</td><td>0.76502275</td><td>6</td><td> 8</td><td>GO:0000062;GO:0120227;GO:1901567;GO:1901681</td><td>acyl-CoA binding                      </td><td>0.9494588</td></tr>\n",
       "\t<tr><th scope=row>5</th><td> 667</td><td>0.37617952</td><td>4</td><td> 9</td><td>GO:0000146                                 </td><td>microfilament motor activity          </td><td>0.7793527</td></tr>\n",
       "\t<tr><th scope=row>6</th><td>-102</td><td>0.79309877</td><td>2</td><td>34</td><td>GO:0000149                                 </td><td>SNARE binding                         </td><td>0.9555081</td></tr>\n",
       "</tbody>\n",
       "</table>\n"
      ],
      "text/latex": [
       "A data.frame: 6 × 7\n",
       "\\begin{tabular}{r|lllllll}\n",
       "  & delta.rank & pval & level & nseqs & term & name & p.adj\\\\\n",
       "  & <int> & <dbl> & <int> & <int> & <chr> & <chr> & <dbl>\\\\\n",
       "\\hline\n",
       "\t1 & 1665 & 0.09931216 & 2 &  5 & GO:0000026                                  & alpha-1,2-mannosyltransferase activity & 0.6784797\\\\\n",
       "\t2 &  171 & 0.72876525 & 3 & 21 & GO:0000030                                  & mannosyltransferase activity           & 0.9388837\\\\\n",
       "\t3 &  773 & 0.02890507 & 4 & 41 & GO:0000049                                  & tRNA binding                           & 0.6102001\\\\\n",
       "\t4 & -239 & 0.76502275 & 6 &  8 & GO:0000062;GO:0120227;GO:1901567;GO:1901681 & acyl-CoA binding                       & 0.9494588\\\\\n",
       "\t5 &  667 & 0.37617952 & 4 &  9 & GO:0000146                                  & microfilament motor activity           & 0.7793527\\\\\n",
       "\t6 & -102 & 0.79309877 & 2 & 34 & GO:0000149                                  & SNARE binding                          & 0.9555081\\\\\n",
       "\\end{tabular}\n"
      ],
      "text/markdown": [
       "\n",
       "A data.frame: 6 × 7\n",
       "\n",
       "| <!--/--> | delta.rank &lt;int&gt; | pval &lt;dbl&gt; | level &lt;int&gt; | nseqs &lt;int&gt; | term &lt;chr&gt; | name &lt;chr&gt; | p.adj &lt;dbl&gt; |\n",
       "|---|---|---|---|---|---|---|---|\n",
       "| 1 | 1665 | 0.09931216 | 2 |  5 | GO:0000026                                  | alpha-1,2-mannosyltransferase activity | 0.6784797 |\n",
       "| 2 |  171 | 0.72876525 | 3 | 21 | GO:0000030                                  | mannosyltransferase activity           | 0.9388837 |\n",
       "| 3 |  773 | 0.02890507 | 4 | 41 | GO:0000049                                  | tRNA binding                           | 0.6102001 |\n",
       "| 4 | -239 | 0.76502275 | 6 |  8 | GO:0000062;GO:0120227;GO:1901567;GO:1901681 | acyl-CoA binding                       | 0.9494588 |\n",
       "| 5 |  667 | 0.37617952 | 4 |  9 | GO:0000146                                  | microfilament motor activity           | 0.7793527 |\n",
       "| 6 | -102 | 0.79309877 | 2 | 34 | GO:0000149                                  | SNARE binding                          | 0.9555081 |\n",
       "\n"
      ],
      "text/plain": [
       "  delta.rank pval       level nseqs term                                       \n",
       "1 1665       0.09931216 2      5    GO:0000026                                 \n",
       "2  171       0.72876525 3     21    GO:0000030                                 \n",
       "3  773       0.02890507 4     41    GO:0000049                                 \n",
       "4 -239       0.76502275 6      8    GO:0000062;GO:0120227;GO:1901567;GO:1901681\n",
       "5  667       0.37617952 4      9    GO:0000146                                 \n",
       "6 -102       0.79309877 2     34    GO:0000149                                 \n",
       "  name                                   p.adj    \n",
       "1 alpha-1,2-mannosyltransferase activity 0.6784797\n",
       "2 mannosyltransferase activity           0.9388837\n",
       "3 tRNA binding                           0.6102001\n",
       "4 acyl-CoA binding                       0.9494588\n",
       "5 microfilament motor activity           0.7793527\n",
       "6 SNARE binding                          0.9555081"
      ]
     },
     "metadata": {},
     "output_type": "display_data"
    }
   ],
   "source": [
    "mwu_MF_ch <- read.csv('/project/pi_sarah_gignouxwolfsohn_uml_edu/julia/CE_MethylRAD_analysis_2018/analysis/DMGs_analysis/go_mwu/MWU_MF_allGenes_CH_lfc.csv', sep= ' ')\n",
    "head(mwu_MF_ch)"
   ]
  },
  {
   "cell_type": "code",
   "execution_count": 93,
   "id": "927c1d31-31a5-4040-9dce-85fb0647d3bf",
   "metadata": {},
   "outputs": [
    {
     "data": {
      "text/html": [
       "<table class=\"dataframe\">\n",
       "<caption>A data.frame: 0 × 7</caption>\n",
       "<thead>\n",
       "\t<tr><th scope=col>delta.rank</th><th scope=col>pval</th><th scope=col>level</th><th scope=col>nseqs</th><th scope=col>term</th><th scope=col>name</th><th scope=col>p.adj</th></tr>\n",
       "\t<tr><th scope=col>&lt;int&gt;</th><th scope=col>&lt;dbl&gt;</th><th scope=col>&lt;int&gt;</th><th scope=col>&lt;int&gt;</th><th scope=col>&lt;chr&gt;</th><th scope=col>&lt;chr&gt;</th><th scope=col>&lt;dbl&gt;</th></tr>\n",
       "</thead>\n",
       "<tbody>\n",
       "</tbody>\n",
       "</table>\n"
      ],
      "text/latex": [
       "A data.frame: 0 × 7\n",
       "\\begin{tabular}{lllllll}\n",
       " delta.rank & pval & level & nseqs & term & name & p.adj\\\\\n",
       " <int> & <dbl> & <int> & <int> & <chr> & <chr> & <dbl>\\\\\n",
       "\\hline\n",
       "\\end{tabular}\n"
      ],
      "text/markdown": [
       "\n",
       "A data.frame: 0 × 7\n",
       "\n",
       "| delta.rank &lt;int&gt; | pval &lt;dbl&gt; | level &lt;int&gt; | nseqs &lt;int&gt; | term &lt;chr&gt; | name &lt;chr&gt; | p.adj &lt;dbl&gt; |\n",
       "|---|---|---|---|---|---|---|\n",
       "\n"
      ],
      "text/plain": [
       "     delta.rank pval level nseqs term name p.adj"
      ]
     },
     "metadata": {},
     "output_type": "display_data"
    }
   ],
   "source": [
    "filter(mwu_MF_ch, mwu_MF_ch$p.adj < 0.05)"
   ]
  },
  {
   "cell_type": "markdown",
   "id": "aa072ecc-254a-4ce4-81db-f09a212c8c1f",
   "metadata": {},
   "source": [
    "no significantly enriched GO terms for molecular function"
   ]
  },
  {
   "cell_type": "markdown",
   "id": "605bf8b9-7d66-4b52-8d00-c7da1ec230b9",
   "metadata": {},
   "source": [
    "**biological process**"
   ]
  },
  {
   "cell_type": "code",
   "execution_count": 89,
   "id": "fb6968e9-f945-405c-b8fd-0f96f0a1fbe0",
   "metadata": {},
   "outputs": [],
   "source": [
    "# Edit these to match your data file names: \n",
    "input=\"allGenes_CH_lfc.csv\" # two columns of comma-separated values: gene id, continuous measure of significance. To perform standard GO enrichment analysis based on Fisher's exact test, use binary measure (0 or 1, i.e., either sgnificant or not).\n",
    "goAnnotations=\"allGenes2GO.tab\" # two-column, tab-delimited, one line per gene, multiple GO terms separated by semicolon. If you have multiple lines per gene, use nrify_GOtable.pl prior to running this script.\n",
    "goDatabase=\"go.obo\" # download from http://www.geneontology.org/GO.downloads.ontology.shtml\n",
    "goDivision=\"BP\" # either MF, or BP, or CC\n",
    "source(\"gomwu.functions.R\")\n"
   ]
  },
  {
   "cell_type": "code",
   "execution_count": 90,
   "id": "ab27d2bd-d949-48da-804f-746884629c3e",
   "metadata": {},
   "outputs": [
    {
     "name": "stdout",
     "output_type": "stream",
     "text": [
      "Continuous measure of interest: will perform MWU test\n"
     ]
    },
    {
     "name": "stderr",
     "output_type": "stream",
     "text": [
      "0 GO terms at 10% FDR\n",
      "\n"
     ]
    }
   ],
   "source": [
    "# Calculating stats. It might take ~3 min for MF and BP. Do not rerun it if you just want to replot the data with different cutoffs, go straight to gomwuPlot. If you change any of the numeric values below, delete the files that were generated in previos runs first.\n",
    "gomwuStats(input, goDatabase, goAnnotations, goDivision,\n",
    "           perlPath=\"perl\", # replace with full path to perl executable if it is not in your system's PATH already\n",
    "           largest=0.1,  # a GO category will not be considered if it contains more than this fraction of the total number of genes\n",
    "           smallest=5,   # a GO category should contain at least this many genes to be considered\n",
    "           clusterCutHeight=0.25) # threshold for merging similar (gene-sharing) terms. See README for details.\n",
    "# There are no GO term at 10% FDR"
   ]
  },
  {
   "cell_type": "code",
   "execution_count": 80,
   "id": "99e39a61-d35c-4c98-9223-87b17b4103c0",
   "metadata": {},
   "outputs": [
    {
     "data": {
      "text/html": [
       "<table class=\"dataframe\">\n",
       "<caption>A data.frame: 6 × 7</caption>\n",
       "<thead>\n",
       "\t<tr><th></th><th scope=col>delta.rank</th><th scope=col>pval</th><th scope=col>level</th><th scope=col>nseqs</th><th scope=col>term</th><th scope=col>name</th><th scope=col>p.adj</th></tr>\n",
       "\t<tr><th></th><th scope=col>&lt;int&gt;</th><th scope=col>&lt;dbl&gt;</th><th scope=col>&lt;int&gt;</th><th scope=col>&lt;int&gt;</th><th scope=col>&lt;chr&gt;</th><th scope=col>&lt;chr&gt;</th><th scope=col>&lt;dbl&gt;</th></tr>\n",
       "</thead>\n",
       "<tbody>\n",
       "\t<tr><th scope=row>1</th><td> 115</td><td>0.61561963</td><td>4</td><td> 6</td><td>GO:0000012                                                       </td><td>single strand break repair                   </td><td>0.8846008</td></tr>\n",
       "\t<tr><th scope=row>2</th><td>  67</td><td>0.61571333</td><td>2</td><td>18</td><td>GO:0000027                                                       </td><td>ribosomal large subunit assembly             </td><td>0.8846008</td></tr>\n",
       "\t<tr><th scope=row>3</th><td>-271</td><td>0.12691169</td><td>4</td><td>10</td><td>GO:0000028                                                       </td><td>ribosomal small subunit assembly             </td><td>0.6039774</td></tr>\n",
       "\t<tr><th scope=row>4</th><td> 179</td><td>0.04102924</td><td>2</td><td>42</td><td>GO:0000045;GO:0070925;GO:1905037;GO:0007033                      </td><td>organelle assembly                           </td><td>0.4669454</td></tr>\n",
       "\t<tr><th scope=row>5</th><td> -54</td><td>0.74003195</td><td>7</td><td>12</td><td>GO:0000054;GO:0033750;GO:0071428;GO:0071426;GO:0006611;GO:0031503</td><td>ribonucleoprotein complex export from nucleus</td><td>0.9399743</td></tr>\n",
       "\t<tr><th scope=row>6</th><td> 234</td><td>0.30712519</td><td>2</td><td> 6</td><td>GO:0000055                                                       </td><td>ribosomal large subunit export from nucleus  </td><td>0.7996669</td></tr>\n",
       "</tbody>\n",
       "</table>\n"
      ],
      "text/latex": [
       "A data.frame: 6 × 7\n",
       "\\begin{tabular}{r|lllllll}\n",
       "  & delta.rank & pval & level & nseqs & term & name & p.adj\\\\\n",
       "  & <int> & <dbl> & <int> & <int> & <chr> & <chr> & <dbl>\\\\\n",
       "\\hline\n",
       "\t1 &  115 & 0.61561963 & 4 &  6 & GO:0000012                                                        & single strand break repair                    & 0.8846008\\\\\n",
       "\t2 &   67 & 0.61571333 & 2 & 18 & GO:0000027                                                        & ribosomal large subunit assembly              & 0.8846008\\\\\n",
       "\t3 & -271 & 0.12691169 & 4 & 10 & GO:0000028                                                        & ribosomal small subunit assembly              & 0.6039774\\\\\n",
       "\t4 &  179 & 0.04102924 & 2 & 42 & GO:0000045;GO:0070925;GO:1905037;GO:0007033                       & organelle assembly                            & 0.4669454\\\\\n",
       "\t5 &  -54 & 0.74003195 & 7 & 12 & GO:0000054;GO:0033750;GO:0071428;GO:0071426;GO:0006611;GO:0031503 & ribonucleoprotein complex export from nucleus & 0.9399743\\\\\n",
       "\t6 &  234 & 0.30712519 & 2 &  6 & GO:0000055                                                        & ribosomal large subunit export from nucleus   & 0.7996669\\\\\n",
       "\\end{tabular}\n"
      ],
      "text/markdown": [
       "\n",
       "A data.frame: 6 × 7\n",
       "\n",
       "| <!--/--> | delta.rank &lt;int&gt; | pval &lt;dbl&gt; | level &lt;int&gt; | nseqs &lt;int&gt; | term &lt;chr&gt; | name &lt;chr&gt; | p.adj &lt;dbl&gt; |\n",
       "|---|---|---|---|---|---|---|---|\n",
       "| 1 |  115 | 0.61561963 | 4 |  6 | GO:0000012                                                        | single strand break repair                    | 0.8846008 |\n",
       "| 2 |   67 | 0.61571333 | 2 | 18 | GO:0000027                                                        | ribosomal large subunit assembly              | 0.8846008 |\n",
       "| 3 | -271 | 0.12691169 | 4 | 10 | GO:0000028                                                        | ribosomal small subunit assembly              | 0.6039774 |\n",
       "| 4 |  179 | 0.04102924 | 2 | 42 | GO:0000045;GO:0070925;GO:1905037;GO:0007033                       | organelle assembly                            | 0.4669454 |\n",
       "| 5 |  -54 | 0.74003195 | 7 | 12 | GO:0000054;GO:0033750;GO:0071428;GO:0071426;GO:0006611;GO:0031503 | ribonucleoprotein complex export from nucleus | 0.9399743 |\n",
       "| 6 |  234 | 0.30712519 | 2 |  6 | GO:0000055                                                        | ribosomal large subunit export from nucleus   | 0.7996669 |\n",
       "\n"
      ],
      "text/plain": [
       "  delta.rank pval       level nseqs\n",
       "1  115       0.61561963 4      6   \n",
       "2   67       0.61571333 2     18   \n",
       "3 -271       0.12691169 4     10   \n",
       "4  179       0.04102924 2     42   \n",
       "5  -54       0.74003195 7     12   \n",
       "6  234       0.30712519 2      6   \n",
       "  term                                                             \n",
       "1 GO:0000012                                                       \n",
       "2 GO:0000027                                                       \n",
       "3 GO:0000028                                                       \n",
       "4 GO:0000045;GO:0070925;GO:1905037;GO:0007033                      \n",
       "5 GO:0000054;GO:0033750;GO:0071428;GO:0071426;GO:0006611;GO:0031503\n",
       "6 GO:0000055                                                       \n",
       "  name                                          p.adj    \n",
       "1 single strand break repair                    0.8846008\n",
       "2 ribosomal large subunit assembly              0.8846008\n",
       "3 ribosomal small subunit assembly              0.6039774\n",
       "4 organelle assembly                            0.4669454\n",
       "5 ribonucleoprotein complex export from nucleus 0.9399743\n",
       "6 ribosomal large subunit export from nucleus   0.7996669"
      ]
     },
     "metadata": {},
     "output_type": "display_data"
    }
   ],
   "source": [
    "mwu_BP_ch <- read.csv('/project/pi_sarah_gignouxwolfsohn_uml_edu/julia/CE_MethylRAD_analysis_2018/analysis/DMGs_analysis/go_mwu/MWU_BP_allGenes_CH_lfc.csv', sep= ' ')\n",
    "head(mwu_BP_ch)"
   ]
  },
  {
   "cell_type": "code",
   "execution_count": 94,
   "id": "c2d08cb9-38fb-418e-ba3f-9a2cfd16b701",
   "metadata": {},
   "outputs": [
    {
     "data": {
      "text/html": [
       "<table class=\"dataframe\">\n",
       "<caption>A data.frame: 0 × 7</caption>\n",
       "<thead>\n",
       "\t<tr><th scope=col>delta.rank</th><th scope=col>pval</th><th scope=col>level</th><th scope=col>nseqs</th><th scope=col>term</th><th scope=col>name</th><th scope=col>p.adj</th></tr>\n",
       "\t<tr><th scope=col>&lt;int&gt;</th><th scope=col>&lt;dbl&gt;</th><th scope=col>&lt;int&gt;</th><th scope=col>&lt;int&gt;</th><th scope=col>&lt;chr&gt;</th><th scope=col>&lt;chr&gt;</th><th scope=col>&lt;dbl&gt;</th></tr>\n",
       "</thead>\n",
       "<tbody>\n",
       "</tbody>\n",
       "</table>\n"
      ],
      "text/latex": [
       "A data.frame: 0 × 7\n",
       "\\begin{tabular}{lllllll}\n",
       " delta.rank & pval & level & nseqs & term & name & p.adj\\\\\n",
       " <int> & <dbl> & <int> & <int> & <chr> & <chr> & <dbl>\\\\\n",
       "\\hline\n",
       "\\end{tabular}\n"
      ],
      "text/markdown": [
       "\n",
       "A data.frame: 0 × 7\n",
       "\n",
       "| delta.rank &lt;int&gt; | pval &lt;dbl&gt; | level &lt;int&gt; | nseqs &lt;int&gt; | term &lt;chr&gt; | name &lt;chr&gt; | p.adj &lt;dbl&gt; |\n",
       "|---|---|---|---|---|---|---|\n",
       "\n"
      ],
      "text/plain": [
       "     delta.rank pval level nseqs term name p.adj"
      ]
     },
     "metadata": {},
     "output_type": "display_data"
    }
   ],
   "source": [
    "filter(mwu_BP_ch, mwu_BP_ch$p.adj < 0.05)"
   ]
  },
  {
   "cell_type": "markdown",
   "id": "d86c7672-1d05-4e8e-b69d-571512f1681c",
   "metadata": {},
   "source": [
    "no significantly enriched GO terms for biological processes"
   ]
  },
  {
   "cell_type": "markdown",
   "id": "aac8d4c2-a44b-4f0e-a7f7-f72d79b028a8",
   "metadata": {},
   "source": [
    "### HH vs. HC\n",
    "table of measure of interest for sequences: "
   ]
  },
  {
   "cell_type": "code",
   "execution_count": 100,
   "id": "36f47ddf-743c-4eea-8f24-e6cb2afd267c",
   "metadata": {},
   "outputs": [
    {
     "data": {
      "text/html": [
       "'/project/pi_sarah_gignouxwolfsohn_uml_edu/julia/CE_MethylRAD_analysis_2018/analysis/DMGs_analysis/go_mwu'"
      ],
      "text/latex": [
       "'/project/pi\\_sarah\\_gignouxwolfsohn\\_uml\\_edu/julia/CE\\_MethylRAD\\_analysis\\_2018/analysis/DMGs\\_analysis/go\\_mwu'"
      ],
      "text/markdown": [
       "'/project/pi_sarah_gignouxwolfsohn_uml_edu/julia/CE_MethylRAD_analysis_2018/analysis/DMGs_analysis/go_mwu'"
      ],
      "text/plain": [
       "[1] \"/project/pi_sarah_gignouxwolfsohn_uml_edu/julia/CE_MethylRAD_analysis_2018/analysis/DMGs_analysis/go_mwu\""
      ]
     },
     "metadata": {},
     "output_type": "display_data"
    }
   ],
   "source": [
    "getwd()"
   ]
  },
  {
   "cell_type": "code",
   "execution_count": 95,
   "id": "a6929c0a-30b7-472e-af83-4b0ce3d48a49",
   "metadata": {},
   "outputs": [
    {
     "data": {
      "text/html": [
       "<table class=\"dataframe\">\n",
       "<caption>A data.frame: 6 × 2</caption>\n",
       "<thead>\n",
       "\t<tr><th></th><th scope=col>Symbol</th><th scope=col>log2fc</th></tr>\n",
       "\t<tr><th></th><th scope=col>&lt;chr&gt;</th><th scope=col>&lt;dbl&gt;</th></tr>\n",
       "</thead>\n",
       "<tbody>\n",
       "\t<tr><th scope=row>1</th><td>LOC111116054</td><td> 0.023547556</td></tr>\n",
       "\t<tr><th scope=row>2</th><td>LOC111126949</td><td>-0.008575931</td></tr>\n",
       "\t<tr><th scope=row>3</th><td>LOC111110729</td><td> 0.016854142</td></tr>\n",
       "\t<tr><th scope=row>4</th><td>LOC111112434</td><td>-0.446553473</td></tr>\n",
       "\t<tr><th scope=row>5</th><td>LOC111120752</td><td>-0.332082994</td></tr>\n",
       "\t<tr><th scope=row>6</th><td>LOC111128944</td><td>          NA</td></tr>\n",
       "</tbody>\n",
       "</table>\n"
      ],
      "text/latex": [
       "A data.frame: 6 × 2\n",
       "\\begin{tabular}{r|ll}\n",
       "  & Symbol & log2fc\\\\\n",
       "  & <chr> & <dbl>\\\\\n",
       "\\hline\n",
       "\t1 & LOC111116054 &  0.023547556\\\\\n",
       "\t2 & LOC111126949 & -0.008575931\\\\\n",
       "\t3 & LOC111110729 &  0.016854142\\\\\n",
       "\t4 & LOC111112434 & -0.446553473\\\\\n",
       "\t5 & LOC111120752 & -0.332082994\\\\\n",
       "\t6 & LOC111128944 &           NA\\\\\n",
       "\\end{tabular}\n"
      ],
      "text/markdown": [
       "\n",
       "A data.frame: 6 × 2\n",
       "\n",
       "| <!--/--> | Symbol &lt;chr&gt; | log2fc &lt;dbl&gt; |\n",
       "|---|---|---|\n",
       "| 1 | LOC111116054 |  0.023547556 |\n",
       "| 2 | LOC111126949 | -0.008575931 |\n",
       "| 3 | LOC111110729 |  0.016854142 |\n",
       "| 4 | LOC111112434 | -0.446553473 |\n",
       "| 5 | LOC111120752 | -0.332082994 |\n",
       "| 6 | LOC111128944 |           NA |\n",
       "\n"
      ],
      "text/plain": [
       "  Symbol       log2fc      \n",
       "1 LOC111116054  0.023547556\n",
       "2 LOC111126949 -0.008575931\n",
       "3 LOC111110729  0.016854142\n",
       "4 LOC111112434 -0.446553473\n",
       "5 LOC111120752 -0.332082994\n",
       "6 LOC111128944           NA"
      ]
     },
     "metadata": {},
     "output_type": "display_data"
    },
    {
     "data": {
      "text/html": [
       "<table class=\"dataframe\">\n",
       "<caption>A data.frame: 6 × 2</caption>\n",
       "<thead>\n",
       "\t<tr><th></th><th scope=col>Symbol</th><th scope=col>signif</th></tr>\n",
       "\t<tr><th></th><th scope=col>&lt;chr&gt;</th><th scope=col>&lt;dbl&gt;</th></tr>\n",
       "</thead>\n",
       "<tbody>\n",
       "\t<tr><th scope=row>1</th><td>LOC111116054</td><td>0</td></tr>\n",
       "\t<tr><th scope=row>2</th><td>LOC111126949</td><td>0</td></tr>\n",
       "\t<tr><th scope=row>3</th><td>LOC111110729</td><td>0</td></tr>\n",
       "\t<tr><th scope=row>4</th><td>LOC111112434</td><td>0</td></tr>\n",
       "\t<tr><th scope=row>5</th><td>LOC111120752</td><td>0</td></tr>\n",
       "\t<tr><th scope=row>6</th><td>LOC111128944</td><td>0</td></tr>\n",
       "</tbody>\n",
       "</table>\n"
      ],
      "text/latex": [
       "A data.frame: 6 × 2\n",
       "\\begin{tabular}{r|ll}\n",
       "  & Symbol & signif\\\\\n",
       "  & <chr> & <dbl>\\\\\n",
       "\\hline\n",
       "\t1 & LOC111116054 & 0\\\\\n",
       "\t2 & LOC111126949 & 0\\\\\n",
       "\t3 & LOC111110729 & 0\\\\\n",
       "\t4 & LOC111112434 & 0\\\\\n",
       "\t5 & LOC111120752 & 0\\\\\n",
       "\t6 & LOC111128944 & 0\\\\\n",
       "\\end{tabular}\n"
      ],
      "text/markdown": [
       "\n",
       "A data.frame: 6 × 2\n",
       "\n",
       "| <!--/--> | Symbol &lt;chr&gt; | signif &lt;dbl&gt; |\n",
       "|---|---|---|\n",
       "| 1 | LOC111116054 | 0 |\n",
       "| 2 | LOC111126949 | 0 |\n",
       "| 3 | LOC111110729 | 0 |\n",
       "| 4 | LOC111112434 | 0 |\n",
       "| 5 | LOC111120752 | 0 |\n",
       "| 6 | LOC111128944 | 0 |\n",
       "\n"
      ],
      "text/plain": [
       "  Symbol       signif\n",
       "1 LOC111116054 0     \n",
       "2 LOC111126949 0     \n",
       "3 LOC111110729 0     \n",
       "4 LOC111112434 0     \n",
       "5 LOC111120752 0     \n",
       "6 LOC111128944 0     "
      ]
     },
     "metadata": {},
     "output_type": "display_data"
    }
   ],
   "source": [
    "allGenes_HH <- read.csv('/project/pi_sarah_gignouxwolfsohn_uml_edu/julia/CE_MethylRAD_analysis_2018/analysis/deseq_res_files/geneFeatures_res/HH_vs_HC.csv')\n",
    "\n",
    "# select only gene id and continuous measure of change (log fold change)\n",
    "allGenes_HH_lfc <- select(allGenes_HH, X, log2FoldChange)\n",
    "\n",
    "colnames(allGenes_HH_lfc) <- c('Symbol', 'log2fc')\n",
    "\n",
    "head(allGenes_HH_lfc)\n",
    "\n",
    "# binary measure for significance\n",
    "allGenes_HH$significant <- ifelse(is.na(allGenes_HH$padj) | allGenes_HH$padj > 0.05, 0, 1)\n",
    "\n",
    "allGenes_HH_sig <- select(allGenes_HH, X, significant)\n",
    "colnames(allGenes_HH_sig) <- c('Symbol', 'signif')\n",
    "\n",
    "head(allGenes_HH_sig)"
   ]
  },
  {
   "cell_type": "code",
   "execution_count": 102,
   "id": "b852e10c-5bba-4fd2-9c65-ad91f6909d47",
   "metadata": {},
   "outputs": [],
   "source": [
    "write.csv(allGenes_HH_lfc, '/project/pi_sarah_gignouxwolfsohn_uml_edu/julia/CE_MethylRAD_analysis_2018/analysis/DMGs_analysis/go_mwu/allGenes_HH_lfc.csv', row.names=FALSE, quote = FALSE)"
   ]
  },
  {
   "cell_type": "code",
   "execution_count": 101,
   "id": "5706dd3c-8f10-44f6-bb59-08acf9276949",
   "metadata": {},
   "outputs": [],
   "source": [
    "write.csv(allGenes_HH_sig, '/project/pi_sarah_gignouxwolfsohn_uml_edu/julia/CE_MethylRAD_analysis_2018/analysis/DMGs_analysis/go_mwu/allGenes_HH_sig.csv', row.names=FALSE, quote=FALSE)"
   ]
  },
  {
   "cell_type": "markdown",
   "id": "8195623f-d712-46f4-9865-20a8052ec70c",
   "metadata": {},
   "source": [
    "#### GO_MWU.R\n",
    "\n",
    "**molecular function**"
   ]
  },
  {
   "cell_type": "code",
   "execution_count": 103,
   "id": "21be5797-2162-419c-ad53-56c95879492e",
   "metadata": {},
   "outputs": [],
   "source": [
    "# Edit these to match your data file names: \n",
    "input=\"allGenes_HH_lfc.csv\" # two columns of comma-separated values: gene id, continuous measure of significance. To perform standard GO enrichment analysis based on Fisher's exact test, use binary measure (0 or 1, i.e., either sgnificant or not).\n",
    "goAnnotations=\"allGenes2GO.tab\" # two-column, tab-delimited, one line per gene, multiple GO terms separated by semicolon. If you have multiple lines per gene, use nrify_GOtable.pl prior to running this script.\n",
    "goDatabase=\"go.obo\" # download from http://www.geneontology.org/GO.downloads.ontology.shtml\n",
    "goDivision=\"MF\" # either MF, or BP, or CC\n",
    "source(\"gomwu.functions.R\")\n"
   ]
  },
  {
   "cell_type": "code",
   "execution_count": 104,
   "id": "ef3f7651-a872-46cd-a55b-7bdb503be133",
   "metadata": {},
   "outputs": [
    {
     "name": "stdout",
     "output_type": "stream",
     "text": [
      "Continuous measure of interest: will perform MWU test\n"
     ]
    },
    {
     "name": "stderr",
     "output_type": "stream",
     "text": [
      "0 GO terms at 10% FDR\n",
      "\n"
     ]
    }
   ],
   "source": [
    "# Calculating stats. It might take ~3 min for MF and BP. Do not rerun it if you just want to replot the data with different cutoffs, go straight to gomwuPlot. If you change any of the numeric values below, delete the files that were generated in previos runs first.\n",
    "gomwuStats(input, goDatabase, goAnnotations, goDivision,\n",
    "           perlPath=\"perl\", # replace with full path to perl executable if it is not in your system's PATH already\n",
    "           largest=0.1,  # a GO category will not be considered if it contains more than this fraction of the total number of genes\n",
    "           smallest=5,   # a GO category should contain at least this many genes to be considered\n",
    "           clusterCutHeight=0.25) # threshold for merging similar (gene-sharing) terms. See README for details.\n",
    "# There are no GO term at 10% FDR"
   ]
  },
  {
   "cell_type": "code",
   "execution_count": 105,
   "id": "539c7476-925f-4cf1-9809-5849257a600c",
   "metadata": {},
   "outputs": [
    {
     "data": {
      "text/html": [
       "<table class=\"dataframe\">\n",
       "<caption>A data.frame: 6 × 7</caption>\n",
       "<thead>\n",
       "\t<tr><th></th><th scope=col>delta.rank</th><th scope=col>pval</th><th scope=col>level</th><th scope=col>nseqs</th><th scope=col>term</th><th scope=col>name</th><th scope=col>p.adj</th></tr>\n",
       "\t<tr><th></th><th scope=col>&lt;int&gt;</th><th scope=col>&lt;dbl&gt;</th><th scope=col>&lt;int&gt;</th><th scope=col>&lt;int&gt;</th><th scope=col>&lt;chr&gt;</th><th scope=col>&lt;chr&gt;</th><th scope=col>&lt;dbl&gt;</th></tr>\n",
       "</thead>\n",
       "<tbody>\n",
       "\t<tr><th scope=row>1</th><td>-1258</td><td>0.21320839</td><td>2</td><td> 5</td><td>GO:0000026                                 </td><td>alpha-1,2-mannosyltransferase activity</td><td>0.7602279</td></tr>\n",
       "\t<tr><th scope=row>2</th><td> -178</td><td>0.71876607</td><td>2</td><td>21</td><td>GO:0000030                                 </td><td>mannosyltransferase activity          </td><td>0.9697456</td></tr>\n",
       "\t<tr><th scope=row>3</th><td> -634</td><td>0.07278138</td><td>2</td><td>41</td><td>GO:0000049                                 </td><td>tRNA binding                          </td><td>0.5785622</td></tr>\n",
       "\t<tr><th scope=row>4</th><td>  628</td><td>0.43183942</td><td>6</td><td> 8</td><td>GO:0000062;GO:0120227;GO:1901567;GO:1901681</td><td>acyl-CoA binding                      </td><td>0.8914580</td></tr>\n",
       "\t<tr><th scope=row>5</th><td>-1446</td><td>0.05480457</td><td>3</td><td> 9</td><td>GO:0000146                                 </td><td>microfilament motor activity          </td><td>0.5515916</td></tr>\n",
       "\t<tr><th scope=row>6</th><td>  -32</td><td>0.93406410</td><td>2</td><td>34</td><td>GO:0000149                                 </td><td>SNARE binding                         </td><td>0.9801257</td></tr>\n",
       "</tbody>\n",
       "</table>\n"
      ],
      "text/latex": [
       "A data.frame: 6 × 7\n",
       "\\begin{tabular}{r|lllllll}\n",
       "  & delta.rank & pval & level & nseqs & term & name & p.adj\\\\\n",
       "  & <int> & <dbl> & <int> & <int> & <chr> & <chr> & <dbl>\\\\\n",
       "\\hline\n",
       "\t1 & -1258 & 0.21320839 & 2 &  5 & GO:0000026                                  & alpha-1,2-mannosyltransferase activity & 0.7602279\\\\\n",
       "\t2 &  -178 & 0.71876607 & 2 & 21 & GO:0000030                                  & mannosyltransferase activity           & 0.9697456\\\\\n",
       "\t3 &  -634 & 0.07278138 & 2 & 41 & GO:0000049                                  & tRNA binding                           & 0.5785622\\\\\n",
       "\t4 &   628 & 0.43183942 & 6 &  8 & GO:0000062;GO:0120227;GO:1901567;GO:1901681 & acyl-CoA binding                       & 0.8914580\\\\\n",
       "\t5 & -1446 & 0.05480457 & 3 &  9 & GO:0000146                                  & microfilament motor activity           & 0.5515916\\\\\n",
       "\t6 &   -32 & 0.93406410 & 2 & 34 & GO:0000149                                  & SNARE binding                          & 0.9801257\\\\\n",
       "\\end{tabular}\n"
      ],
      "text/markdown": [
       "\n",
       "A data.frame: 6 × 7\n",
       "\n",
       "| <!--/--> | delta.rank &lt;int&gt; | pval &lt;dbl&gt; | level &lt;int&gt; | nseqs &lt;int&gt; | term &lt;chr&gt; | name &lt;chr&gt; | p.adj &lt;dbl&gt; |\n",
       "|---|---|---|---|---|---|---|---|\n",
       "| 1 | -1258 | 0.21320839 | 2 |  5 | GO:0000026                                  | alpha-1,2-mannosyltransferase activity | 0.7602279 |\n",
       "| 2 |  -178 | 0.71876607 | 2 | 21 | GO:0000030                                  | mannosyltransferase activity           | 0.9697456 |\n",
       "| 3 |  -634 | 0.07278138 | 2 | 41 | GO:0000049                                  | tRNA binding                           | 0.5785622 |\n",
       "| 4 |   628 | 0.43183942 | 6 |  8 | GO:0000062;GO:0120227;GO:1901567;GO:1901681 | acyl-CoA binding                       | 0.8914580 |\n",
       "| 5 | -1446 | 0.05480457 | 3 |  9 | GO:0000146                                  | microfilament motor activity           | 0.5515916 |\n",
       "| 6 |   -32 | 0.93406410 | 2 | 34 | GO:0000149                                  | SNARE binding                          | 0.9801257 |\n",
       "\n"
      ],
      "text/plain": [
       "  delta.rank pval       level nseqs term                                       \n",
       "1 -1258      0.21320839 2      5    GO:0000026                                 \n",
       "2  -178      0.71876607 2     21    GO:0000030                                 \n",
       "3  -634      0.07278138 2     41    GO:0000049                                 \n",
       "4   628      0.43183942 6      8    GO:0000062;GO:0120227;GO:1901567;GO:1901681\n",
       "5 -1446      0.05480457 3      9    GO:0000146                                 \n",
       "6   -32      0.93406410 2     34    GO:0000149                                 \n",
       "  name                                   p.adj    \n",
       "1 alpha-1,2-mannosyltransferase activity 0.7602279\n",
       "2 mannosyltransferase activity           0.9697456\n",
       "3 tRNA binding                           0.5785622\n",
       "4 acyl-CoA binding                       0.8914580\n",
       "5 microfilament motor activity           0.5515916\n",
       "6 SNARE binding                          0.9801257"
      ]
     },
     "metadata": {},
     "output_type": "display_data"
    }
   ],
   "source": [
    "mwu_MF_hh <- read.csv('/project/pi_sarah_gignouxwolfsohn_uml_edu/julia/CE_MethylRAD_analysis_2018/analysis/DMGs_analysis/go_mwu/MWU_MF_allGenes_HH_lfc.csv', sep= ' ')\n",
    "head(mwu_MF_hh)"
   ]
  },
  {
   "cell_type": "code",
   "execution_count": 106,
   "id": "c9824fe0-2110-40fd-8fa1-ea4f58f8635d",
   "metadata": {},
   "outputs": [
    {
     "data": {
      "text/html": [
       "<table class=\"dataframe\">\n",
       "<caption>A data.frame: 0 × 7</caption>\n",
       "<thead>\n",
       "\t<tr><th scope=col>delta.rank</th><th scope=col>pval</th><th scope=col>level</th><th scope=col>nseqs</th><th scope=col>term</th><th scope=col>name</th><th scope=col>p.adj</th></tr>\n",
       "\t<tr><th scope=col>&lt;int&gt;</th><th scope=col>&lt;dbl&gt;</th><th scope=col>&lt;int&gt;</th><th scope=col>&lt;int&gt;</th><th scope=col>&lt;chr&gt;</th><th scope=col>&lt;chr&gt;</th><th scope=col>&lt;dbl&gt;</th></tr>\n",
       "</thead>\n",
       "<tbody>\n",
       "</tbody>\n",
       "</table>\n"
      ],
      "text/latex": [
       "A data.frame: 0 × 7\n",
       "\\begin{tabular}{lllllll}\n",
       " delta.rank & pval & level & nseqs & term & name & p.adj\\\\\n",
       " <int> & <dbl> & <int> & <int> & <chr> & <chr> & <dbl>\\\\\n",
       "\\hline\n",
       "\\end{tabular}\n"
      ],
      "text/markdown": [
       "\n",
       "A data.frame: 0 × 7\n",
       "\n",
       "| delta.rank &lt;int&gt; | pval &lt;dbl&gt; | level &lt;int&gt; | nseqs &lt;int&gt; | term &lt;chr&gt; | name &lt;chr&gt; | p.adj &lt;dbl&gt; |\n",
       "|---|---|---|---|---|---|---|\n",
       "\n"
      ],
      "text/plain": [
       "     delta.rank pval level nseqs term name p.adj"
      ]
     },
     "metadata": {},
     "output_type": "display_data"
    }
   ],
   "source": [
    "filter(mwu_MF_hh, mwu_MF_hh$p.adj < 0.05)"
   ]
  },
  {
   "cell_type": "markdown",
   "id": "cb093c15-30cf-4feb-82ff-8026ace91aa5",
   "metadata": {},
   "source": [
    "no significantly enriched GO terms for molecular function"
   ]
  },
  {
   "cell_type": "markdown",
   "id": "0d1e5e5b-6eda-4010-8560-f884cd3ce405",
   "metadata": {},
   "source": [
    "**biological process**"
   ]
  },
  {
   "cell_type": "code",
   "execution_count": 107,
   "id": "01f1e7f8-5068-4476-9e19-45d3aadd7f4f",
   "metadata": {},
   "outputs": [],
   "source": [
    "# Edit these to match your data file names: \n",
    "input=\"allGenes_HH_lfc.csv\" # two columns of comma-separated values: gene id, continuous measure of significance. To perform standard GO enrichment analysis based on Fisher's exact test, use binary measure (0 or 1, i.e., either sgnificant or not).\n",
    "goAnnotations=\"allGenes2GO.tab\" # two-column, tab-delimited, one line per gene, multiple GO terms separated by semicolon. If you have multiple lines per gene, use nrify_GOtable.pl prior to running this script.\n",
    "goDatabase=\"go.obo\" # download from http://www.geneontology.org/GO.downloads.ontology.shtml\n",
    "goDivision=\"BP\" # either MF, or BP, or CC\n",
    "source(\"gomwu.functions.R\")\n"
   ]
  },
  {
   "cell_type": "code",
   "execution_count": 108,
   "id": "4652a231-8d48-4d14-87c3-dd2dd477c983",
   "metadata": {},
   "outputs": [
    {
     "name": "stdout",
     "output_type": "stream",
     "text": [
      "Continuous measure of interest: will perform MWU test\n"
     ]
    },
    {
     "name": "stderr",
     "output_type": "stream",
     "text": [
      "0 GO terms at 10% FDR\n",
      "\n"
     ]
    }
   ],
   "source": [
    "# Calculating stats. It might take ~3 min for MF and BP. Do not rerun it if you just want to replot the data with different cutoffs, go straight to gomwuPlot. If you change any of the numeric values below, delete the files that were generated in previos runs first.\n",
    "gomwuStats(input, goDatabase, goAnnotations, goDivision,\n",
    "           perlPath=\"perl\", # replace with full path to perl executable if it is not in your system's PATH already\n",
    "           largest=0.1,  # a GO category will not be considered if it contains more than this fraction of the total number of genes\n",
    "           smallest=5,   # a GO category should contain at least this many genes to be considered\n",
    "           clusterCutHeight=0.25) # threshold for merging similar (gene-sharing) terms. See README for details.\n",
    "# There are no GO term at 10% FDR"
   ]
  },
  {
   "cell_type": "code",
   "execution_count": 109,
   "id": "341fb024-a6ad-4010-8754-a89e66bd113c",
   "metadata": {},
   "outputs": [
    {
     "data": {
      "text/html": [
       "<table class=\"dataframe\">\n",
       "<caption>A data.frame: 6 × 7</caption>\n",
       "<thead>\n",
       "\t<tr><th></th><th scope=col>delta.rank</th><th scope=col>pval</th><th scope=col>level</th><th scope=col>nseqs</th><th scope=col>term</th><th scope=col>name</th><th scope=col>p.adj</th></tr>\n",
       "\t<tr><th></th><th scope=col>&lt;int&gt;</th><th scope=col>&lt;dbl&gt;</th><th scope=col>&lt;int&gt;</th><th scope=col>&lt;int&gt;</th><th scope=col>&lt;chr&gt;</th><th scope=col>&lt;chr&gt;</th><th scope=col>&lt;dbl&gt;</th></tr>\n",
       "</thead>\n",
       "<tbody>\n",
       "\t<tr><th scope=row>1</th><td> -82</td><td>0.72222335</td><td>2</td><td> 6</td><td>GO:0000012                                                       </td><td>single strand break repair                 </td><td>0.9519533</td></tr>\n",
       "\t<tr><th scope=row>2</th><td>-101</td><td>0.44475592</td><td>7</td><td>18</td><td>GO:0000027                                                       </td><td>ribosomal large subunit assembly           </td><td>0.9512008</td></tr>\n",
       "\t<tr><th scope=row>3</th><td> 303</td><td>0.08829177</td><td>3</td><td>10</td><td>GO:0000028                                                       </td><td>ribosomal small subunit assembly           </td><td>0.5567287</td></tr>\n",
       "\t<tr><th scope=row>4</th><td> -47</td><td>0.59043612</td><td>2</td><td>42</td><td>GO:0000045;GO:0070925;GO:1905037;GO:0007033                      </td><td>organelle assembly                         </td><td>0.9512008</td></tr>\n",
       "\t<tr><th scope=row>5</th><td>  75</td><td>0.64263966</td><td>6</td><td>12</td><td>GO:0000054;GO:0033750;GO:0071428;GO:0071426;GO:0006611;GO:0031503</td><td>protein export from nucleus                </td><td>0.9512008</td></tr>\n",
       "\t<tr><th scope=row>6</th><td>-265</td><td>0.24702006</td><td>2</td><td> 6</td><td>GO:0000055                                                       </td><td>ribosomal large subunit export from nucleus</td><td>0.8012410</td></tr>\n",
       "</tbody>\n",
       "</table>\n"
      ],
      "text/latex": [
       "A data.frame: 6 × 7\n",
       "\\begin{tabular}{r|lllllll}\n",
       "  & delta.rank & pval & level & nseqs & term & name & p.adj\\\\\n",
       "  & <int> & <dbl> & <int> & <int> & <chr> & <chr> & <dbl>\\\\\n",
       "\\hline\n",
       "\t1 &  -82 & 0.72222335 & 2 &  6 & GO:0000012                                                        & single strand break repair                  & 0.9519533\\\\\n",
       "\t2 & -101 & 0.44475592 & 7 & 18 & GO:0000027                                                        & ribosomal large subunit assembly            & 0.9512008\\\\\n",
       "\t3 &  303 & 0.08829177 & 3 & 10 & GO:0000028                                                        & ribosomal small subunit assembly            & 0.5567287\\\\\n",
       "\t4 &  -47 & 0.59043612 & 2 & 42 & GO:0000045;GO:0070925;GO:1905037;GO:0007033                       & organelle assembly                          & 0.9512008\\\\\n",
       "\t5 &   75 & 0.64263966 & 6 & 12 & GO:0000054;GO:0033750;GO:0071428;GO:0071426;GO:0006611;GO:0031503 & protein export from nucleus                 & 0.9512008\\\\\n",
       "\t6 & -265 & 0.24702006 & 2 &  6 & GO:0000055                                                        & ribosomal large subunit export from nucleus & 0.8012410\\\\\n",
       "\\end{tabular}\n"
      ],
      "text/markdown": [
       "\n",
       "A data.frame: 6 × 7\n",
       "\n",
       "| <!--/--> | delta.rank &lt;int&gt; | pval &lt;dbl&gt; | level &lt;int&gt; | nseqs &lt;int&gt; | term &lt;chr&gt; | name &lt;chr&gt; | p.adj &lt;dbl&gt; |\n",
       "|---|---|---|---|---|---|---|---|\n",
       "| 1 |  -82 | 0.72222335 | 2 |  6 | GO:0000012                                                        | single strand break repair                  | 0.9519533 |\n",
       "| 2 | -101 | 0.44475592 | 7 | 18 | GO:0000027                                                        | ribosomal large subunit assembly            | 0.9512008 |\n",
       "| 3 |  303 | 0.08829177 | 3 | 10 | GO:0000028                                                        | ribosomal small subunit assembly            | 0.5567287 |\n",
       "| 4 |  -47 | 0.59043612 | 2 | 42 | GO:0000045;GO:0070925;GO:1905037;GO:0007033                       | organelle assembly                          | 0.9512008 |\n",
       "| 5 |   75 | 0.64263966 | 6 | 12 | GO:0000054;GO:0033750;GO:0071428;GO:0071426;GO:0006611;GO:0031503 | protein export from nucleus                 | 0.9512008 |\n",
       "| 6 | -265 | 0.24702006 | 2 |  6 | GO:0000055                                                        | ribosomal large subunit export from nucleus | 0.8012410 |\n",
       "\n"
      ],
      "text/plain": [
       "  delta.rank pval       level nseqs\n",
       "1  -82       0.72222335 2      6   \n",
       "2 -101       0.44475592 7     18   \n",
       "3  303       0.08829177 3     10   \n",
       "4  -47       0.59043612 2     42   \n",
       "5   75       0.64263966 6     12   \n",
       "6 -265       0.24702006 2      6   \n",
       "  term                                                             \n",
       "1 GO:0000012                                                       \n",
       "2 GO:0000027                                                       \n",
       "3 GO:0000028                                                       \n",
       "4 GO:0000045;GO:0070925;GO:1905037;GO:0007033                      \n",
       "5 GO:0000054;GO:0033750;GO:0071428;GO:0071426;GO:0006611;GO:0031503\n",
       "6 GO:0000055                                                       \n",
       "  name                                        p.adj    \n",
       "1 single strand break repair                  0.9519533\n",
       "2 ribosomal large subunit assembly            0.9512008\n",
       "3 ribosomal small subunit assembly            0.5567287\n",
       "4 organelle assembly                          0.9512008\n",
       "5 protein export from nucleus                 0.9512008\n",
       "6 ribosomal large subunit export from nucleus 0.8012410"
      ]
     },
     "metadata": {},
     "output_type": "display_data"
    }
   ],
   "source": [
    "mwu_BP_hh <- read.csv('/project/pi_sarah_gignouxwolfsohn_uml_edu/julia/CE_MethylRAD_analysis_2018/analysis/DMGs_analysis/go_mwu/MWU_BP_allGenes_HH_lfc.csv', sep= ' ')\n",
    "head(mwu_BP_hh)"
   ]
  },
  {
   "cell_type": "code",
   "execution_count": 110,
   "id": "5dcce925-94b8-40b4-931a-28c8dfb70265",
   "metadata": {},
   "outputs": [
    {
     "data": {
      "text/html": [
       "<table class=\"dataframe\">\n",
       "<caption>A data.frame: 0 × 7</caption>\n",
       "<thead>\n",
       "\t<tr><th scope=col>delta.rank</th><th scope=col>pval</th><th scope=col>level</th><th scope=col>nseqs</th><th scope=col>term</th><th scope=col>name</th><th scope=col>p.adj</th></tr>\n",
       "\t<tr><th scope=col>&lt;int&gt;</th><th scope=col>&lt;dbl&gt;</th><th scope=col>&lt;int&gt;</th><th scope=col>&lt;int&gt;</th><th scope=col>&lt;chr&gt;</th><th scope=col>&lt;chr&gt;</th><th scope=col>&lt;dbl&gt;</th></tr>\n",
       "</thead>\n",
       "<tbody>\n",
       "</tbody>\n",
       "</table>\n"
      ],
      "text/latex": [
       "A data.frame: 0 × 7\n",
       "\\begin{tabular}{lllllll}\n",
       " delta.rank & pval & level & nseqs & term & name & p.adj\\\\\n",
       " <int> & <dbl> & <int> & <int> & <chr> & <chr> & <dbl>\\\\\n",
       "\\hline\n",
       "\\end{tabular}\n"
      ],
      "text/markdown": [
       "\n",
       "A data.frame: 0 × 7\n",
       "\n",
       "| delta.rank &lt;int&gt; | pval &lt;dbl&gt; | level &lt;int&gt; | nseqs &lt;int&gt; | term &lt;chr&gt; | name &lt;chr&gt; | p.adj &lt;dbl&gt; |\n",
       "|---|---|---|---|---|---|---|\n",
       "\n"
      ],
      "text/plain": [
       "     delta.rank pval level nseqs term name p.adj"
      ]
     },
     "metadata": {},
     "output_type": "display_data"
    }
   ],
   "source": [
    "filter(mwu_BP_hh, mwu_BP_hh$p.adj < 0.05)"
   ]
  },
  {
   "cell_type": "markdown",
   "id": "9662138e-b087-408e-8421-a2ee7aa8ba45",
   "metadata": {},
   "source": [
    "no significantly enriched GO terms for biological processes"
   ]
  },
  {
   "cell_type": "markdown",
   "id": "dcc28fcd-23ed-44b1-9770-7b7be31e5b9f",
   "metadata": {},
   "source": [
    "### CC vs. HC\n",
    "table of measure of interest for sequences: "
   ]
  },
  {
   "cell_type": "code",
   "execution_count": 113,
   "id": "d594c2f6-b0ac-4eda-a841-0b324b18df6e",
   "metadata": {},
   "outputs": [
    {
     "data": {
      "text/html": [
       "<table class=\"dataframe\">\n",
       "<caption>A data.frame: 6 × 2</caption>\n",
       "<thead>\n",
       "\t<tr><th></th><th scope=col>Symbol</th><th scope=col>log2fc</th></tr>\n",
       "\t<tr><th></th><th scope=col>&lt;chr&gt;</th><th scope=col>&lt;dbl&gt;</th></tr>\n",
       "</thead>\n",
       "<tbody>\n",
       "\t<tr><th scope=row>1</th><td>LOC111116054</td><td> 0.00000000</td></tr>\n",
       "\t<tr><th scope=row>2</th><td>LOC111126949</td><td>-0.01938737</td></tr>\n",
       "\t<tr><th scope=row>3</th><td>LOC111110729</td><td>-0.06519374</td></tr>\n",
       "\t<tr><th scope=row>4</th><td>LOC111112434</td><td> 0.07479191</td></tr>\n",
       "\t<tr><th scope=row>5</th><td>LOC111120752</td><td> 0.01438339</td></tr>\n",
       "\t<tr><th scope=row>6</th><td>LOC111128944</td><td>         NA</td></tr>\n",
       "</tbody>\n",
       "</table>\n"
      ],
      "text/latex": [
       "A data.frame: 6 × 2\n",
       "\\begin{tabular}{r|ll}\n",
       "  & Symbol & log2fc\\\\\n",
       "  & <chr> & <dbl>\\\\\n",
       "\\hline\n",
       "\t1 & LOC111116054 &  0.00000000\\\\\n",
       "\t2 & LOC111126949 & -0.01938737\\\\\n",
       "\t3 & LOC111110729 & -0.06519374\\\\\n",
       "\t4 & LOC111112434 &  0.07479191\\\\\n",
       "\t5 & LOC111120752 &  0.01438339\\\\\n",
       "\t6 & LOC111128944 &          NA\\\\\n",
       "\\end{tabular}\n"
      ],
      "text/markdown": [
       "\n",
       "A data.frame: 6 × 2\n",
       "\n",
       "| <!--/--> | Symbol &lt;chr&gt; | log2fc &lt;dbl&gt; |\n",
       "|---|---|---|\n",
       "| 1 | LOC111116054 |  0.00000000 |\n",
       "| 2 | LOC111126949 | -0.01938737 |\n",
       "| 3 | LOC111110729 | -0.06519374 |\n",
       "| 4 | LOC111112434 |  0.07479191 |\n",
       "| 5 | LOC111120752 |  0.01438339 |\n",
       "| 6 | LOC111128944 |          NA |\n",
       "\n"
      ],
      "text/plain": [
       "  Symbol       log2fc     \n",
       "1 LOC111116054  0.00000000\n",
       "2 LOC111126949 -0.01938737\n",
       "3 LOC111110729 -0.06519374\n",
       "4 LOC111112434  0.07479191\n",
       "5 LOC111120752  0.01438339\n",
       "6 LOC111128944          NA"
      ]
     },
     "metadata": {},
     "output_type": "display_data"
    },
    {
     "data": {
      "text/html": [
       "<table class=\"dataframe\">\n",
       "<caption>A data.frame: 6 × 2</caption>\n",
       "<thead>\n",
       "\t<tr><th></th><th scope=col>Symbol</th><th scope=col>signif</th></tr>\n",
       "\t<tr><th></th><th scope=col>&lt;chr&gt;</th><th scope=col>&lt;dbl&gt;</th></tr>\n",
       "</thead>\n",
       "<tbody>\n",
       "\t<tr><th scope=row>1</th><td>LOC111116054</td><td>0</td></tr>\n",
       "\t<tr><th scope=row>2</th><td>LOC111126949</td><td>0</td></tr>\n",
       "\t<tr><th scope=row>3</th><td>LOC111110729</td><td>0</td></tr>\n",
       "\t<tr><th scope=row>4</th><td>LOC111112434</td><td>0</td></tr>\n",
       "\t<tr><th scope=row>5</th><td>LOC111120752</td><td>0</td></tr>\n",
       "\t<tr><th scope=row>6</th><td>LOC111128944</td><td>0</td></tr>\n",
       "</tbody>\n",
       "</table>\n"
      ],
      "text/latex": [
       "A data.frame: 6 × 2\n",
       "\\begin{tabular}{r|ll}\n",
       "  & Symbol & signif\\\\\n",
       "  & <chr> & <dbl>\\\\\n",
       "\\hline\n",
       "\t1 & LOC111116054 & 0\\\\\n",
       "\t2 & LOC111126949 & 0\\\\\n",
       "\t3 & LOC111110729 & 0\\\\\n",
       "\t4 & LOC111112434 & 0\\\\\n",
       "\t5 & LOC111120752 & 0\\\\\n",
       "\t6 & LOC111128944 & 0\\\\\n",
       "\\end{tabular}\n"
      ],
      "text/markdown": [
       "\n",
       "A data.frame: 6 × 2\n",
       "\n",
       "| <!--/--> | Symbol &lt;chr&gt; | signif &lt;dbl&gt; |\n",
       "|---|---|---|\n",
       "| 1 | LOC111116054 | 0 |\n",
       "| 2 | LOC111126949 | 0 |\n",
       "| 3 | LOC111110729 | 0 |\n",
       "| 4 | LOC111112434 | 0 |\n",
       "| 5 | LOC111120752 | 0 |\n",
       "| 6 | LOC111128944 | 0 |\n",
       "\n"
      ],
      "text/plain": [
       "  Symbol       signif\n",
       "1 LOC111116054 0     \n",
       "2 LOC111126949 0     \n",
       "3 LOC111110729 0     \n",
       "4 LOC111112434 0     \n",
       "5 LOC111120752 0     \n",
       "6 LOC111128944 0     "
      ]
     },
     "metadata": {},
     "output_type": "display_data"
    }
   ],
   "source": [
    "allGenes_CC <- read.csv('/project/pi_sarah_gignouxwolfsohn_uml_edu/julia/CE_MethylRAD_analysis_2018/analysis/deseq_res_files/geneFeatures_res/CC_vs_HC.csv')\n",
    "\n",
    "# select only gene id and continuous measure of change (log fold change)\n",
    "allGenes_CC_lfc <- select(allGenes_CC, X, log2FoldChange)\n",
    "\n",
    "colnames(allGenes_CC_lfc) <- c('Symbol', 'log2fc')\n",
    "\n",
    "head(allGenes_CC_lfc)\n",
    "\n",
    "# binary measure for significance\n",
    "allGenes_CC$significant <- ifelse(is.na(allGenes_CC$padj) | allGenes_CC$padj > 0.05, 0, 1)\n",
    "\n",
    "allGenes_CC_sig <- select(allGenes_CC, X, significant)\n",
    "colnames(allGenes_CC_sig) <- c('Symbol', 'signif')\n",
    "\n",
    "head(allGenes_CC_sig)"
   ]
  },
  {
   "cell_type": "code",
   "execution_count": 124,
   "id": "7f1d5cf0-e75b-4d11-a87b-df20b6bdbddc",
   "metadata": {},
   "outputs": [],
   "source": [
    "write.csv(allGenes_CC_lfc, '/project/pi_sarah_gignouxwolfsohn_uml_edu/julia/CE_MethylRAD_analysis_2018/analysis/DMGs_analysis/go_mwu/allGenes_CC_lfc.csv', row.names=FALSE, quote = FALSE)"
   ]
  },
  {
   "cell_type": "code",
   "execution_count": 125,
   "id": "0a847f5a-a221-4337-b2e8-72d8e07e8fd6",
   "metadata": {},
   "outputs": [],
   "source": [
    "write.csv(allGenes_CC_sig, '/project/pi_sarah_gignouxwolfsohn_uml_edu/julia/CE_MethylRAD_analysis_2018/analysis/DMGs_analysis/go_mwu/allGenes_CC_sig.csv', row.names=FALSE, quote=FALSE)"
   ]
  },
  {
   "cell_type": "markdown",
   "id": "9fe9bdbf-933f-4a70-94ab-3b7cfabc7f1f",
   "metadata": {},
   "source": [
    "#### GO_MWU.R\n",
    "\n",
    "**molecular function**"
   ]
  },
  {
   "cell_type": "code",
   "execution_count": 126,
   "id": "c85623c6-e920-43a3-a7ea-9243391e8485",
   "metadata": {},
   "outputs": [],
   "source": [
    "# Edit these to match your data file names: \n",
    "input=\"allGenes_CC_lfc.csv\" # two columns of comma-separated values: gene id, continuous measure of significance. To perform standard GO enrichment analysis based on Fisher's exact test, use binary measure (0 or 1, i.e., either sgnificant or not).\n",
    "goAnnotations=\"allGenes2GO.tab\" # two-column, tab-delimited, one line per gene, multiple GO terms separated by semicolon. If you have multiple lines per gene, use nrify_GOtable.pl prior to running this script.\n",
    "goDatabase=\"go.obo\" # download from http://www.geneontology.org/GO.downloads.ontology.shtml\n",
    "goDivision=\"MF\" # either MF, or BP, or CC\n",
    "source(\"gomwu.functions.R\")"
   ]
  },
  {
   "cell_type": "code",
   "execution_count": 127,
   "id": "aaf39ce1-f782-4ea2-91c5-8c1644c36863",
   "metadata": {},
   "outputs": [
    {
     "name": "stdout",
     "output_type": "stream",
     "text": [
      "Continuous measure of interest: will perform MWU test\n"
     ]
    },
    {
     "name": "stderr",
     "output_type": "stream",
     "text": [
      "0 GO terms at 10% FDR\n",
      "\n"
     ]
    }
   ],
   "source": [
    "# Calculating stats. It might take ~3 min for MF and BP. Do not rerun it if you just want to replot the data with different cutoffs, go straight to gomwuPlot. If you change any of the numeric values below, delete the files that were generated in previos runs first.\n",
    "gomwuStats(input, goDatabase, goAnnotations, goDivision,\n",
    "           perlPath=\"perl\", # replace with full path to perl executable if it is not in your system's PATH already\n",
    "           largest=0.1,  # a GO category will not be considered if it contains more than this fraction of the total number of genes\n",
    "           smallest=5,   # a GO category should contain at least this many genes to be considered\n",
    "           clusterCutHeight=0.25) # threshold for merging similar (gene-sharing) terms. See README for details.\n",
    "# There are no GO term at 10% FDR"
   ]
  },
  {
   "cell_type": "code",
   "execution_count": 128,
   "id": "5f82bda7-4f83-4387-a7ae-30e4d4db9d5b",
   "metadata": {},
   "outputs": [
    {
     "data": {
      "text/html": [
       "<table class=\"dataframe\">\n",
       "<caption>A data.frame: 6 × 7</caption>\n",
       "<thead>\n",
       "\t<tr><th></th><th scope=col>delta.rank</th><th scope=col>pval</th><th scope=col>level</th><th scope=col>nseqs</th><th scope=col>term</th><th scope=col>name</th><th scope=col>p.adj</th></tr>\n",
       "\t<tr><th></th><th scope=col>&lt;int&gt;</th><th scope=col>&lt;dbl&gt;</th><th scope=col>&lt;int&gt;</th><th scope=col>&lt;int&gt;</th><th scope=col>&lt;chr&gt;</th><th scope=col>&lt;chr&gt;</th><th scope=col>&lt;dbl&gt;</th></tr>\n",
       "</thead>\n",
       "<tbody>\n",
       "\t<tr><th scope=row>1</th><td> 916</td><td>0.36468387</td><td>2</td><td> 5</td><td>GO:0000026                                 </td><td>alpha-1,2-mannosyltransferase activity</td><td>0.8429826</td></tr>\n",
       "\t<tr><th scope=row>2</th><td>-102</td><td>0.83650913</td><td>5</td><td>21</td><td>GO:0000030                                 </td><td>mannosyltransferase activity          </td><td>0.9956253</td></tr>\n",
       "\t<tr><th scope=row>3</th><td> 492</td><td>0.16411439</td><td>2</td><td>41</td><td>GO:0000049                                 </td><td>tRNA binding                          </td><td>0.6509256</td></tr>\n",
       "\t<tr><th scope=row>4</th><td> 372</td><td>0.64140733</td><td>6</td><td> 8</td><td>GO:0000062;GO:0120227;GO:1901567;GO:1901681</td><td>fatty-acyl-CoA binding                </td><td>0.9535436</td></tr>\n",
       "\t<tr><th scope=row>5</th><td>1359</td><td>0.07114113</td><td>2</td><td> 9</td><td>GO:0000146                                 </td><td>microfilament motor activity          </td><td>0.5920605</td></tr>\n",
       "\t<tr><th scope=row>6</th><td>-187</td><td>0.62934759</td><td>3</td><td>34</td><td>GO:0000149                                 </td><td>SNARE binding                         </td><td>0.9535436</td></tr>\n",
       "</tbody>\n",
       "</table>\n"
      ],
      "text/latex": [
       "A data.frame: 6 × 7\n",
       "\\begin{tabular}{r|lllllll}\n",
       "  & delta.rank & pval & level & nseqs & term & name & p.adj\\\\\n",
       "  & <int> & <dbl> & <int> & <int> & <chr> & <chr> & <dbl>\\\\\n",
       "\\hline\n",
       "\t1 &  916 & 0.36468387 & 2 &  5 & GO:0000026                                  & alpha-1,2-mannosyltransferase activity & 0.8429826\\\\\n",
       "\t2 & -102 & 0.83650913 & 5 & 21 & GO:0000030                                  & mannosyltransferase activity           & 0.9956253\\\\\n",
       "\t3 &  492 & 0.16411439 & 2 & 41 & GO:0000049                                  & tRNA binding                           & 0.6509256\\\\\n",
       "\t4 &  372 & 0.64140733 & 6 &  8 & GO:0000062;GO:0120227;GO:1901567;GO:1901681 & fatty-acyl-CoA binding                 & 0.9535436\\\\\n",
       "\t5 & 1359 & 0.07114113 & 2 &  9 & GO:0000146                                  & microfilament motor activity           & 0.5920605\\\\\n",
       "\t6 & -187 & 0.62934759 & 3 & 34 & GO:0000149                                  & SNARE binding                          & 0.9535436\\\\\n",
       "\\end{tabular}\n"
      ],
      "text/markdown": [
       "\n",
       "A data.frame: 6 × 7\n",
       "\n",
       "| <!--/--> | delta.rank &lt;int&gt; | pval &lt;dbl&gt; | level &lt;int&gt; | nseqs &lt;int&gt; | term &lt;chr&gt; | name &lt;chr&gt; | p.adj &lt;dbl&gt; |\n",
       "|---|---|---|---|---|---|---|---|\n",
       "| 1 |  916 | 0.36468387 | 2 |  5 | GO:0000026                                  | alpha-1,2-mannosyltransferase activity | 0.8429826 |\n",
       "| 2 | -102 | 0.83650913 | 5 | 21 | GO:0000030                                  | mannosyltransferase activity           | 0.9956253 |\n",
       "| 3 |  492 | 0.16411439 | 2 | 41 | GO:0000049                                  | tRNA binding                           | 0.6509256 |\n",
       "| 4 |  372 | 0.64140733 | 6 |  8 | GO:0000062;GO:0120227;GO:1901567;GO:1901681 | fatty-acyl-CoA binding                 | 0.9535436 |\n",
       "| 5 | 1359 | 0.07114113 | 2 |  9 | GO:0000146                                  | microfilament motor activity           | 0.5920605 |\n",
       "| 6 | -187 | 0.62934759 | 3 | 34 | GO:0000149                                  | SNARE binding                          | 0.9535436 |\n",
       "\n"
      ],
      "text/plain": [
       "  delta.rank pval       level nseqs term                                       \n",
       "1  916       0.36468387 2      5    GO:0000026                                 \n",
       "2 -102       0.83650913 5     21    GO:0000030                                 \n",
       "3  492       0.16411439 2     41    GO:0000049                                 \n",
       "4  372       0.64140733 6      8    GO:0000062;GO:0120227;GO:1901567;GO:1901681\n",
       "5 1359       0.07114113 2      9    GO:0000146                                 \n",
       "6 -187       0.62934759 3     34    GO:0000149                                 \n",
       "  name                                   p.adj    \n",
       "1 alpha-1,2-mannosyltransferase activity 0.8429826\n",
       "2 mannosyltransferase activity           0.9956253\n",
       "3 tRNA binding                           0.6509256\n",
       "4 fatty-acyl-CoA binding                 0.9535436\n",
       "5 microfilament motor activity           0.5920605\n",
       "6 SNARE binding                          0.9535436"
      ]
     },
     "metadata": {},
     "output_type": "display_data"
    }
   ],
   "source": [
    "mwu_MF_cc <- read.csv('/project/pi_sarah_gignouxwolfsohn_uml_edu/julia/CE_MethylRAD_analysis_2018/analysis/DMGs_analysis/go_mwu/MWU_MF_allGenes_CC_lfc.csv', sep= ' ')\n",
    "head(mwu_MF_cc)"
   ]
  },
  {
   "cell_type": "code",
   "execution_count": 129,
   "id": "6825a77f-3abc-4ad7-9420-ff83835a1b09",
   "metadata": {},
   "outputs": [
    {
     "data": {
      "text/html": [
       "<table class=\"dataframe\">\n",
       "<caption>A data.frame: 0 × 7</caption>\n",
       "<thead>\n",
       "\t<tr><th scope=col>delta.rank</th><th scope=col>pval</th><th scope=col>level</th><th scope=col>nseqs</th><th scope=col>term</th><th scope=col>name</th><th scope=col>p.adj</th></tr>\n",
       "\t<tr><th scope=col>&lt;int&gt;</th><th scope=col>&lt;dbl&gt;</th><th scope=col>&lt;int&gt;</th><th scope=col>&lt;int&gt;</th><th scope=col>&lt;chr&gt;</th><th scope=col>&lt;chr&gt;</th><th scope=col>&lt;dbl&gt;</th></tr>\n",
       "</thead>\n",
       "<tbody>\n",
       "</tbody>\n",
       "</table>\n"
      ],
      "text/latex": [
       "A data.frame: 0 × 7\n",
       "\\begin{tabular}{lllllll}\n",
       " delta.rank & pval & level & nseqs & term & name & p.adj\\\\\n",
       " <int> & <dbl> & <int> & <int> & <chr> & <chr> & <dbl>\\\\\n",
       "\\hline\n",
       "\\end{tabular}\n"
      ],
      "text/markdown": [
       "\n",
       "A data.frame: 0 × 7\n",
       "\n",
       "| delta.rank &lt;int&gt; | pval &lt;dbl&gt; | level &lt;int&gt; | nseqs &lt;int&gt; | term &lt;chr&gt; | name &lt;chr&gt; | p.adj &lt;dbl&gt; |\n",
       "|---|---|---|---|---|---|---|\n",
       "\n"
      ],
      "text/plain": [
       "     delta.rank pval level nseqs term name p.adj"
      ]
     },
     "metadata": {},
     "output_type": "display_data"
    }
   ],
   "source": [
    "filter(mwu_MF_cc, mwu_MF_cc$p.adj < 0.05)"
   ]
  },
  {
   "cell_type": "markdown",
   "id": "8ebeea65-7623-46d0-a8d9-e4b48b0acc20",
   "metadata": {},
   "source": [
    "no significantly enriched GO terms for molecular function"
   ]
  },
  {
   "cell_type": "markdown",
   "id": "e9adf6d0-0f55-40e4-a472-292c9f6ac689",
   "metadata": {},
   "source": [
    "**biological process**"
   ]
  },
  {
   "cell_type": "code",
   "execution_count": 130,
   "id": "58875027-dc5d-4b25-a0df-c1659b8881e8",
   "metadata": {},
   "outputs": [],
   "source": [
    "# Edit these to match your data file names: \n",
    "input=\"allGenes_CC_lfc.csv\" # two columns of comma-separated values: gene id, continuous measure of significance. To perform standard GO enrichment analysis based on Fisher's exact test, use binary measure (0 or 1, i.e., either sgnificant or not).\n",
    "goAnnotations=\"allGenes2GO.tab\" # two-column, tab-delimited, one line per gene, multiple GO terms separated by semicolon. If you have multiple lines per gene, use nrify_GOtable.pl prior to running this script.\n",
    "goDatabase=\"go.obo\" # download from http://www.geneontology.org/GO.downloads.ontology.shtml\n",
    "goDivision=\"BP\" # either MF, or BP, or CC\n",
    "source(\"gomwu.functions.R\")\n"
   ]
  },
  {
   "cell_type": "code",
   "execution_count": 131,
   "id": "867fce0e-57cb-4a6a-8874-6cc34a30b6fc",
   "metadata": {},
   "outputs": [
    {
     "name": "stdout",
     "output_type": "stream",
     "text": [
      "Continuous measure of interest: will perform MWU test\n"
     ]
    },
    {
     "name": "stderr",
     "output_type": "stream",
     "text": [
      "0 GO terms at 10% FDR\n",
      "\n"
     ]
    }
   ],
   "source": [
    "# Calculating stats. It might take ~3 min for MF and BP. Do not rerun it if you just want to replot the data with different cutoffs, go straight to gomwuPlot. If you change any of the numeric values below, delete the files that were generated in previos runs first.\n",
    "gomwuStats(input, goDatabase, goAnnotations, goDivision,\n",
    "           perlPath=\"perl\", # replace with full path to perl executable if it is not in your system's PATH already\n",
    "           largest=0.1,  # a GO category will not be considered if it contains more than this fraction of the total number of genes\n",
    "           smallest=5,   # a GO category should contain at least this many genes to be considered\n",
    "           clusterCutHeight=0.25) # threshold for merging similar (gene-sharing) terms. See README for details.\n",
    "# There are no GO term at 10% FDR"
   ]
  },
  {
   "cell_type": "code",
   "execution_count": 132,
   "id": "022a98ff-3b97-4b53-8bb8-5ff01f00069d",
   "metadata": {},
   "outputs": [
    {
     "data": {
      "text/html": [
       "<table class=\"dataframe\">\n",
       "<caption>A data.frame: 6 × 7</caption>\n",
       "<thead>\n",
       "\t<tr><th></th><th scope=col>delta.rank</th><th scope=col>pval</th><th scope=col>level</th><th scope=col>nseqs</th><th scope=col>term</th><th scope=col>name</th><th scope=col>p.adj</th></tr>\n",
       "\t<tr><th></th><th scope=col>&lt;int&gt;</th><th scope=col>&lt;dbl&gt;</th><th scope=col>&lt;int&gt;</th><th scope=col>&lt;int&gt;</th><th scope=col>&lt;chr&gt;</th><th scope=col>&lt;chr&gt;</th><th scope=col>&lt;dbl&gt;</th></tr>\n",
       "</thead>\n",
       "<tbody>\n",
       "\t<tr><th scope=row>1</th><td>  60</td><td>0.79489448</td><td>5</td><td> 6</td><td>GO:0000012                                                       </td><td>single strand break repair                                   </td><td>0.9547015</td></tr>\n",
       "\t<tr><th scope=row>2</th><td>  53</td><td>0.68749613</td><td>7</td><td>18</td><td>GO:0000027                                                       </td><td>ribosomal large subunit assembly                             </td><td>0.9445336</td></tr>\n",
       "\t<tr><th scope=row>3</th><td>-375</td><td>0.03477232</td><td>2</td><td>10</td><td>GO:0000028                                                       </td><td>ribosomal small subunit assembly                             </td><td>0.4239334</td></tr>\n",
       "\t<tr><th scope=row>4</th><td>  27</td><td>0.75894488</td><td>2</td><td>42</td><td>GO:0000045;GO:0070925;GO:1905037;GO:0007033                      </td><td>organelle assembly                                           </td><td>0.9519334</td></tr>\n",
       "\t<tr><th scope=row>5</th><td>   5</td><td>0.97775236</td><td>5</td><td>12</td><td>GO:0000054;GO:0033750;GO:0071428;GO:0071426;GO:0006611;GO:0031503</td><td>rRNA-containing ribonucleoprotein complex export from nucleus</td><td>0.9903915</td></tr>\n",
       "\t<tr><th scope=row>6</th><td> 216</td><td>0.34538114</td><td>3</td><td> 6</td><td>GO:0000055                                                       </td><td>ribosomal large subunit export from nucleus                  </td><td>0.7804439</td></tr>\n",
       "</tbody>\n",
       "</table>\n"
      ],
      "text/latex": [
       "A data.frame: 6 × 7\n",
       "\\begin{tabular}{r|lllllll}\n",
       "  & delta.rank & pval & level & nseqs & term & name & p.adj\\\\\n",
       "  & <int> & <dbl> & <int> & <int> & <chr> & <chr> & <dbl>\\\\\n",
       "\\hline\n",
       "\t1 &   60 & 0.79489448 & 5 &  6 & GO:0000012                                                        & single strand break repair                                    & 0.9547015\\\\\n",
       "\t2 &   53 & 0.68749613 & 7 & 18 & GO:0000027                                                        & ribosomal large subunit assembly                              & 0.9445336\\\\\n",
       "\t3 & -375 & 0.03477232 & 2 & 10 & GO:0000028                                                        & ribosomal small subunit assembly                              & 0.4239334\\\\\n",
       "\t4 &   27 & 0.75894488 & 2 & 42 & GO:0000045;GO:0070925;GO:1905037;GO:0007033                       & organelle assembly                                            & 0.9519334\\\\\n",
       "\t5 &    5 & 0.97775236 & 5 & 12 & GO:0000054;GO:0033750;GO:0071428;GO:0071426;GO:0006611;GO:0031503 & rRNA-containing ribonucleoprotein complex export from nucleus & 0.9903915\\\\\n",
       "\t6 &  216 & 0.34538114 & 3 &  6 & GO:0000055                                                        & ribosomal large subunit export from nucleus                   & 0.7804439\\\\\n",
       "\\end{tabular}\n"
      ],
      "text/markdown": [
       "\n",
       "A data.frame: 6 × 7\n",
       "\n",
       "| <!--/--> | delta.rank &lt;int&gt; | pval &lt;dbl&gt; | level &lt;int&gt; | nseqs &lt;int&gt; | term &lt;chr&gt; | name &lt;chr&gt; | p.adj &lt;dbl&gt; |\n",
       "|---|---|---|---|---|---|---|---|\n",
       "| 1 |   60 | 0.79489448 | 5 |  6 | GO:0000012                                                        | single strand break repair                                    | 0.9547015 |\n",
       "| 2 |   53 | 0.68749613 | 7 | 18 | GO:0000027                                                        | ribosomal large subunit assembly                              | 0.9445336 |\n",
       "| 3 | -375 | 0.03477232 | 2 | 10 | GO:0000028                                                        | ribosomal small subunit assembly                              | 0.4239334 |\n",
       "| 4 |   27 | 0.75894488 | 2 | 42 | GO:0000045;GO:0070925;GO:1905037;GO:0007033                       | organelle assembly                                            | 0.9519334 |\n",
       "| 5 |    5 | 0.97775236 | 5 | 12 | GO:0000054;GO:0033750;GO:0071428;GO:0071426;GO:0006611;GO:0031503 | rRNA-containing ribonucleoprotein complex export from nucleus | 0.9903915 |\n",
       "| 6 |  216 | 0.34538114 | 3 |  6 | GO:0000055                                                        | ribosomal large subunit export from nucleus                   | 0.7804439 |\n",
       "\n"
      ],
      "text/plain": [
       "  delta.rank pval       level nseqs\n",
       "1   60       0.79489448 5      6   \n",
       "2   53       0.68749613 7     18   \n",
       "3 -375       0.03477232 2     10   \n",
       "4   27       0.75894488 2     42   \n",
       "5    5       0.97775236 5     12   \n",
       "6  216       0.34538114 3      6   \n",
       "  term                                                             \n",
       "1 GO:0000012                                                       \n",
       "2 GO:0000027                                                       \n",
       "3 GO:0000028                                                       \n",
       "4 GO:0000045;GO:0070925;GO:1905037;GO:0007033                      \n",
       "5 GO:0000054;GO:0033750;GO:0071428;GO:0071426;GO:0006611;GO:0031503\n",
       "6 GO:0000055                                                       \n",
       "  name                                                          p.adj    \n",
       "1 single strand break repair                                    0.9547015\n",
       "2 ribosomal large subunit assembly                              0.9445336\n",
       "3 ribosomal small subunit assembly                              0.4239334\n",
       "4 organelle assembly                                            0.9519334\n",
       "5 rRNA-containing ribonucleoprotein complex export from nucleus 0.9903915\n",
       "6 ribosomal large subunit export from nucleus                   0.7804439"
      ]
     },
     "metadata": {},
     "output_type": "display_data"
    }
   ],
   "source": [
    "mwu_BP_cc <- read.csv('/project/pi_sarah_gignouxwolfsohn_uml_edu/julia/CE_MethylRAD_analysis_2018/analysis/DMGs_analysis/go_mwu/MWU_BP_allGenes_CC_lfc.csv', sep= ' ')\n",
    "head(mwu_BP_cc)"
   ]
  },
  {
   "cell_type": "code",
   "execution_count": 133,
   "id": "32382339-7efa-43fd-b12c-b14da22948fb",
   "metadata": {},
   "outputs": [
    {
     "data": {
      "text/html": [
       "<table class=\"dataframe\">\n",
       "<caption>A data.frame: 0 × 7</caption>\n",
       "<thead>\n",
       "\t<tr><th scope=col>delta.rank</th><th scope=col>pval</th><th scope=col>level</th><th scope=col>nseqs</th><th scope=col>term</th><th scope=col>name</th><th scope=col>p.adj</th></tr>\n",
       "\t<tr><th scope=col>&lt;int&gt;</th><th scope=col>&lt;dbl&gt;</th><th scope=col>&lt;int&gt;</th><th scope=col>&lt;int&gt;</th><th scope=col>&lt;chr&gt;</th><th scope=col>&lt;chr&gt;</th><th scope=col>&lt;dbl&gt;</th></tr>\n",
       "</thead>\n",
       "<tbody>\n",
       "</tbody>\n",
       "</table>\n"
      ],
      "text/latex": [
       "A data.frame: 0 × 7\n",
       "\\begin{tabular}{lllllll}\n",
       " delta.rank & pval & level & nseqs & term & name & p.adj\\\\\n",
       " <int> & <dbl> & <int> & <int> & <chr> & <chr> & <dbl>\\\\\n",
       "\\hline\n",
       "\\end{tabular}\n"
      ],
      "text/markdown": [
       "\n",
       "A data.frame: 0 × 7\n",
       "\n",
       "| delta.rank &lt;int&gt; | pval &lt;dbl&gt; | level &lt;int&gt; | nseqs &lt;int&gt; | term &lt;chr&gt; | name &lt;chr&gt; | p.adj &lt;dbl&gt; |\n",
       "|---|---|---|---|---|---|---|\n",
       "\n"
      ],
      "text/plain": [
       "     delta.rank pval level nseqs term name p.adj"
      ]
     },
     "metadata": {},
     "output_type": "display_data"
    }
   ],
   "source": [
    "filter(mwu_BP_cc, mwu_BP_cc$p.adj < 0.05)"
   ]
  },
  {
   "cell_type": "markdown",
   "id": "45a02533-a120-4986-ac79-9c8b0ab19915",
   "metadata": {},
   "source": [
    "no significantly enriched GO terms for biological processes"
   ]
  }
 ],
 "metadata": {
  "kernelspec": {
   "display_name": "R [conda env:.conda-r-env]",
   "language": "R",
   "name": "conda-env-.conda-r-env-r"
  },
  "language_info": {
   "codemirror_mode": "r",
   "file_extension": ".r",
   "mimetype": "text/x-r-source",
   "name": "R",
   "pygments_lexer": "r",
   "version": "4.3.2"
  }
 },
 "nbformat": 4,
 "nbformat_minor": 5
}
