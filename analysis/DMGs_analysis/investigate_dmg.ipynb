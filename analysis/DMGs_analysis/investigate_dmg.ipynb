{
 "cells": [
  {
   "cell_type": "markdown",
   "id": "ca8402d9-1eaa-428d-bf41-bd0c7a27483e",
   "metadata": {},
   "source": [
    "# Investigating DMGs\n",
    "Further investigating DMGs (differentially methylated genes) for each set of volcano plots with sig DMGs - want to know if there's overlap in what's being methylated, if any of the top methylated genes are the same across treatments, etc. - so generating a venn diagram"
   ]
  },
  {
   "cell_type": "markdown",
   "id": "70e33d1f-0d97-4a37-b328-0e0402c662f9",
   "metadata": {},
   "source": [
    "#### I. load packages"
   ]
  },
  {
   "cell_type": "code",
   "execution_count": 1,
   "id": "2ecc9efc-25c3-4b64-9b8f-c3f35112c266",
   "metadata": {},
   "outputs": [
    {
     "name": "stderr",
     "output_type": "stream",
     "text": [
      "── \u001b[1mAttaching core tidyverse packages\u001b[22m ──────────────────────── tidyverse 2.0.0 ──\n",
      "\u001b[32m✔\u001b[39m \u001b[34mdplyr    \u001b[39m 1.1.4     \u001b[32m✔\u001b[39m \u001b[34mreadr    \u001b[39m 2.1.4\n",
      "\u001b[32m✔\u001b[39m \u001b[34mforcats  \u001b[39m 1.0.0     \u001b[32m✔\u001b[39m \u001b[34mstringr  \u001b[39m 1.5.1\n",
      "\u001b[32m✔\u001b[39m \u001b[34mggplot2  \u001b[39m 3.5.1     \u001b[32m✔\u001b[39m \u001b[34mtibble   \u001b[39m 3.2.1\n",
      "\u001b[32m✔\u001b[39m \u001b[34mlubridate\u001b[39m 1.9.3     \u001b[32m✔\u001b[39m \u001b[34mtidyr    \u001b[39m 1.3.0\n",
      "\u001b[32m✔\u001b[39m \u001b[34mpurrr    \u001b[39m 1.0.2     \n",
      "── \u001b[1mConflicts\u001b[22m ────────────────────────────────────────── tidyverse_conflicts() ──\n",
      "\u001b[31m✖\u001b[39m \u001b[34mdplyr\u001b[39m::\u001b[32mfilter()\u001b[39m masks \u001b[34mstats\u001b[39m::filter()\n",
      "\u001b[31m✖\u001b[39m \u001b[34mdplyr\u001b[39m::\u001b[32mlag()\u001b[39m    masks \u001b[34mstats\u001b[39m::lag()\n",
      "\u001b[36mℹ\u001b[39m Use the conflicted package (\u001b[3m\u001b[34m<http://conflicted.r-lib.org/>\u001b[39m\u001b[23m) to force all conflicts to become errors\n"
     ]
    }
   ],
   "source": [
    "library(tidyverse)"
   ]
  },
  {
   "cell_type": "markdown",
   "id": "e6e2a641-cff8-43e1-8378-77e47eb6d6f4",
   "metadata": {},
   "source": [
    "#### II. load all data frames\n",
    "loading data frame, filtering for only significantly differentially methylated (adjusted p-value < 0.05), then sorting by log fold change, so largest log fold change is at the top (aka most differentially methylated genes are at the top)\n",
    "\n",
    "all genes for comparing methylation between ...\n",
    "\n",
    "**phase 1 warm vs. control, regardless of phase 2** (~350 sig DMGs)"
   ]
  },
  {
   "cell_type": "code",
   "execution_count": 2,
   "id": "7c81c43b-0c97-4a92-bec7-b4fd5babf17b",
   "metadata": {},
   "outputs": [
    {
     "data": {
      "text/html": [
       "<style>\n",
       ".list-inline {list-style: none; margin:0; padding: 0}\n",
       ".list-inline>li {display: inline-block}\n",
       ".list-inline>li:not(:last-child)::after {content: \"\\00b7\"; padding: 0 .5ex}\n",
       "</style>\n",
       "<ol class=list-inline><li>20</li><li>3</li></ol>\n"
      ],
      "text/latex": [
       "\\begin{enumerate*}\n",
       "\\item 20\n",
       "\\item 3\n",
       "\\end{enumerate*}\n"
      ],
      "text/markdown": [
       "1. 20\n",
       "2. 3\n",
       "\n",
       "\n"
      ],
      "text/plain": [
       "[1] 20  3"
      ]
     },
     "metadata": {},
     "output_type": "display_data"
    },
    {
     "data": {
      "text/html": [
       "<table class=\"dataframe\">\n",
       "<caption>A data.frame: 6 × 3</caption>\n",
       "<thead>\n",
       "\t<tr><th></th><th scope=col>gene</th><th scope=col>lfc</th><th scope=col>padj</th></tr>\n",
       "\t<tr><th></th><th scope=col>&lt;chr&gt;</th><th scope=col>&lt;dbl&gt;</th><th scope=col>&lt;dbl&gt;</th></tr>\n",
       "</thead>\n",
       "<tbody>\n",
       "\t<tr><th scope=row>2</th><td>LOC111108235</td><td>1.744852</td><td>0.0002271785</td></tr>\n",
       "\t<tr><th scope=row>8</th><td>LOC111131029</td><td>1.552122</td><td>0.0031562125</td></tr>\n",
       "\t<tr><th scope=row>18</th><td>LOC111108786</td><td>1.413823</td><td>0.0307357392</td></tr>\n",
       "\t<tr><th scope=row>4</th><td>LOC111119407</td><td>1.383288</td><td>0.0307357392</td></tr>\n",
       "\t<tr><th scope=row>12</th><td>LOC111130099</td><td>1.318371</td><td>0.0307357392</td></tr>\n",
       "\t<tr><th scope=row>5</th><td>LOC111121187</td><td>1.295148</td><td>0.0307357392</td></tr>\n",
       "</tbody>\n",
       "</table>\n"
      ],
      "text/latex": [
       "A data.frame: 6 × 3\n",
       "\\begin{tabular}{r|lll}\n",
       "  & gene & lfc & padj\\\\\n",
       "  & <chr> & <dbl> & <dbl>\\\\\n",
       "\\hline\n",
       "\t2 & LOC111108235 & 1.744852 & 0.0002271785\\\\\n",
       "\t8 & LOC111131029 & 1.552122 & 0.0031562125\\\\\n",
       "\t18 & LOC111108786 & 1.413823 & 0.0307357392\\\\\n",
       "\t4 & LOC111119407 & 1.383288 & 0.0307357392\\\\\n",
       "\t12 & LOC111130099 & 1.318371 & 0.0307357392\\\\\n",
       "\t5 & LOC111121187 & 1.295148 & 0.0307357392\\\\\n",
       "\\end{tabular}\n"
      ],
      "text/markdown": [
       "\n",
       "A data.frame: 6 × 3\n",
       "\n",
       "| <!--/--> | gene &lt;chr&gt; | lfc &lt;dbl&gt; | padj &lt;dbl&gt; |\n",
       "|---|---|---|---|\n",
       "| 2 | LOC111108235 | 1.744852 | 0.0002271785 |\n",
       "| 8 | LOC111131029 | 1.552122 | 0.0031562125 |\n",
       "| 18 | LOC111108786 | 1.413823 | 0.0307357392 |\n",
       "| 4 | LOC111119407 | 1.383288 | 0.0307357392 |\n",
       "| 12 | LOC111130099 | 1.318371 | 0.0307357392 |\n",
       "| 5 | LOC111121187 | 1.295148 | 0.0307357392 |\n",
       "\n"
      ],
      "text/plain": [
       "   gene         lfc      padj        \n",
       "2  LOC111108235 1.744852 0.0002271785\n",
       "8  LOC111131029 1.552122 0.0031562125\n",
       "18 LOC111108786 1.413823 0.0307357392\n",
       "4  LOC111119407 1.383288 0.0307357392\n",
       "12 LOC111130099 1.318371 0.0307357392\n",
       "5  LOC111121187 1.295148 0.0307357392"
      ]
     },
     "metadata": {},
     "output_type": "display_data"
    }
   ],
   "source": [
    "# phase 2 control vs. hypoxia, regardless of phase 1 treatment\n",
    "p2_ch <- read.csv('/project/pi_sarah_gignouxwolfsohn_uml_edu/julia/CE_MethylRAD_analysis_2018/analysis/significant_genes/p2_ch.csv')\n",
    "\n",
    "p2_ch <- filter(p2_ch, p2_ch$padj < 0.05)\n",
    "\n",
    "p2_ch <- p2_ch[order(-p2_ch$log2FoldChange),]\n",
    "\n",
    "p2_ch <- select(p2_ch, X, log2FoldChange, padj)\n",
    "colnames(p2_ch) <- c('gene','lfc','padj')\n",
    "\n",
    "dim(p2_ch) # 344 sig DMG\n",
    "head(p2_ch)"
   ]
  },
  {
   "cell_type": "markdown",
   "id": "b5097c44-e4e9-4749-81f8-541b9f454b22",
   "metadata": {},
   "source": [
    "**phase 1 control, phase 2 control or hypoxia**\n",
    "(1 sig DMG)"
   ]
  },
  {
   "cell_type": "code",
   "execution_count": 3,
   "id": "aedbf9db-fce3-4942-b61e-39648a25d3f6",
   "metadata": {},
   "outputs": [
    {
     "data": {
      "text/html": [
       "<style>\n",
       ".list-inline {list-style: none; margin:0; padding: 0}\n",
       ".list-inline>li {display: inline-block}\n",
       ".list-inline>li:not(:last-child)::after {content: \"\\00b7\"; padding: 0 .5ex}\n",
       "</style>\n",
       "<ol class=list-inline><li>1</li><li>3</li></ol>\n"
      ],
      "text/latex": [
       "\\begin{enumerate*}\n",
       "\\item 1\n",
       "\\item 3\n",
       "\\end{enumerate*}\n"
      ],
      "text/markdown": [
       "1. 1\n",
       "2. 3\n",
       "\n",
       "\n"
      ],
      "text/plain": [
       "[1] 1 3"
      ]
     },
     "metadata": {},
     "output_type": "display_data"
    },
    {
     "data": {
      "text/html": [
       "<table class=\"dataframe\">\n",
       "<caption>A data.frame: 1 × 3</caption>\n",
       "<thead>\n",
       "\t<tr><th></th><th scope=col>gene</th><th scope=col>lfc</th><th scope=col>padj</th></tr>\n",
       "\t<tr><th></th><th scope=col>&lt;chr&gt;</th><th scope=col>&lt;dbl&gt;</th><th scope=col>&lt;dbl&gt;</th></tr>\n",
       "</thead>\n",
       "<tbody>\n",
       "\t<tr><th scope=row>1</th><td>LOC111122519</td><td>1.784993</td><td>0.004402823</td></tr>\n",
       "</tbody>\n",
       "</table>\n"
      ],
      "text/latex": [
       "A data.frame: 1 × 3\n",
       "\\begin{tabular}{r|lll}\n",
       "  & gene & lfc & padj\\\\\n",
       "  & <chr> & <dbl> & <dbl>\\\\\n",
       "\\hline\n",
       "\t1 & LOC111122519 & 1.784993 & 0.004402823\\\\\n",
       "\\end{tabular}\n"
      ],
      "text/markdown": [
       "\n",
       "A data.frame: 1 × 3\n",
       "\n",
       "| <!--/--> | gene &lt;chr&gt; | lfc &lt;dbl&gt; | padj &lt;dbl&gt; |\n",
       "|---|---|---|---|\n",
       "| 1 | LOC111122519 | 1.784993 | 0.004402823 |\n",
       "\n"
      ],
      "text/plain": [
       "  gene         lfc      padj       \n",
       "1 LOC111122519 1.784993 0.004402823"
      ]
     },
     "metadata": {},
     "output_type": "display_data"
    }
   ],
   "source": [
    "# phase 1 control, phase 2 control or hypoxia\n",
    "p1c_p2hc <- read.csv('/project/pi_sarah_gignouxwolfsohn_uml_edu/julia/CE_MethylRAD_analysis_2018/analysis/significant_genes/p1control_p2hc_genes.csv')\n",
    "\n",
    "p1c_p2hc <- filter(p1c_p2hc, p1c_p2hc$padj < 0.05)\n",
    "\n",
    "p1c_p2hc <- p1c_p2hc[order(-p1c_p2hc$log2FoldChange),]\n",
    "p1c_p2hc <- select(p1c_p2hc, X, log2FoldChange, padj)\n",
    "colnames(p1c_p2hc) <- c('gene','lfc','padj')\n",
    "\n",
    "dim(p1c_p2hc) # 1 sig DMG\n",
    "head(p1c_p2hc)"
   ]
  },
  {
   "cell_type": "markdown",
   "id": "4b8b9aa2-0826-443c-9f69-7fbe9282c8d3",
   "metadata": {},
   "source": [
    "**phase 1 hypoxic, phase 2 hypoxic or control** (~250 sig DMGs)"
   ]
  },
  {
   "cell_type": "code",
   "execution_count": 4,
   "id": "077c6a53-a74a-4eb2-8b0c-d5d5abd98e26",
   "metadata": {},
   "outputs": [
    {
     "data": {
      "text/html": [
       "<style>\n",
       ".list-inline {list-style: none; margin:0; padding: 0}\n",
       ".list-inline>li {display: inline-block}\n",
       ".list-inline>li:not(:last-child)::after {content: \"\\00b7\"; padding: 0 .5ex}\n",
       "</style>\n",
       "<ol class=list-inline><li>231</li><li>3</li></ol>\n"
      ],
      "text/latex": [
       "\\begin{enumerate*}\n",
       "\\item 231\n",
       "\\item 3\n",
       "\\end{enumerate*}\n"
      ],
      "text/markdown": [
       "1. 231\n",
       "2. 3\n",
       "\n",
       "\n"
      ],
      "text/plain": [
       "[1] 231   3"
      ]
     },
     "metadata": {},
     "output_type": "display_data"
    },
    {
     "data": {
      "text/html": [
       "<table class=\"dataframe\">\n",
       "<caption>A data.frame: 6 × 3</caption>\n",
       "<thead>\n",
       "\t<tr><th></th><th scope=col>gene</th><th scope=col>lfc</th><th scope=col>padj</th></tr>\n",
       "\t<tr><th></th><th scope=col>&lt;chr&gt;</th><th scope=col>&lt;dbl&gt;</th><th scope=col>&lt;dbl&gt;</th></tr>\n",
       "</thead>\n",
       "<tbody>\n",
       "\t<tr><th scope=row>25</th><td>LOC111108235</td><td>2.953389</td><td>1.622521e-16</td></tr>\n",
       "\t<tr><th scope=row>213</th><td>LOC111109525</td><td>2.397251</td><td>6.852803e-07</td></tr>\n",
       "\t<tr><th scope=row>70</th><td>LOC111124824</td><td>2.394202</td><td>5.233129e-06</td></tr>\n",
       "\t<tr><th scope=row>153</th><td>LOC111133240</td><td>2.304038</td><td>2.142465e-05</td></tr>\n",
       "\t<tr><th scope=row>52</th><td>LOC111119327</td><td>2.243978</td><td>1.719736e-07</td></tr>\n",
       "\t<tr><th scope=row>138</th><td>LOC111130099</td><td>2.236989</td><td>7.605352e-08</td></tr>\n",
       "</tbody>\n",
       "</table>\n"
      ],
      "text/latex": [
       "A data.frame: 6 × 3\n",
       "\\begin{tabular}{r|lll}\n",
       "  & gene & lfc & padj\\\\\n",
       "  & <chr> & <dbl> & <dbl>\\\\\n",
       "\\hline\n",
       "\t25 & LOC111108235 & 2.953389 & 1.622521e-16\\\\\n",
       "\t213 & LOC111109525 & 2.397251 & 6.852803e-07\\\\\n",
       "\t70 & LOC111124824 & 2.394202 & 5.233129e-06\\\\\n",
       "\t153 & LOC111133240 & 2.304038 & 2.142465e-05\\\\\n",
       "\t52 & LOC111119327 & 2.243978 & 1.719736e-07\\\\\n",
       "\t138 & LOC111130099 & 2.236989 & 7.605352e-08\\\\\n",
       "\\end{tabular}\n"
      ],
      "text/markdown": [
       "\n",
       "A data.frame: 6 × 3\n",
       "\n",
       "| <!--/--> | gene &lt;chr&gt; | lfc &lt;dbl&gt; | padj &lt;dbl&gt; |\n",
       "|---|---|---|---|\n",
       "| 25 | LOC111108235 | 2.953389 | 1.622521e-16 |\n",
       "| 213 | LOC111109525 | 2.397251 | 6.852803e-07 |\n",
       "| 70 | LOC111124824 | 2.394202 | 5.233129e-06 |\n",
       "| 153 | LOC111133240 | 2.304038 | 2.142465e-05 |\n",
       "| 52 | LOC111119327 | 2.243978 | 1.719736e-07 |\n",
       "| 138 | LOC111130099 | 2.236989 | 7.605352e-08 |\n",
       "\n"
      ],
      "text/plain": [
       "    gene         lfc      padj        \n",
       "25  LOC111108235 2.953389 1.622521e-16\n",
       "213 LOC111109525 2.397251 6.852803e-07\n",
       "70  LOC111124824 2.394202 5.233129e-06\n",
       "153 LOC111133240 2.304038 2.142465e-05\n",
       "52  LOC111119327 2.243978 1.719736e-07\n",
       "138 LOC111130099 2.236989 7.605352e-08"
      ]
     },
     "metadata": {},
     "output_type": "display_data"
    }
   ],
   "source": [
    "# phase 1 hypoxic, phase 2 hypoxic or control\n",
    "p1h_p2hc <- read.csv('/project/pi_sarah_gignouxwolfsohn_uml_edu/julia/CE_MethylRAD_analysis_2018/analysis/significant_genes/p1hyp_p2hc_genes.csv')\n",
    "\n",
    "p1h_p2hc <- filter(p1h_p2hc, p1h_p2hc$padj < 0.05)\n",
    "\n",
    "p1h_p2hc <- p1h_p2hc[order(-p1h_p2hc$log2FoldChange),]\n",
    "p1h_p2hc <- select(p1h_p2hc, X, log2FoldChange, padj)\n",
    "colnames(p1h_p2hc) <- c('gene','lfc','padj')\n",
    "\n",
    "\n",
    "dim(p1h_p2hc) # 231 sig DMG\n",
    "head(p1h_p2hc)"
   ]
  },
  {
   "cell_type": "markdown",
   "id": "52a6100b-00bc-4040-955e-3662e7b551c3",
   "metadata": {},
   "source": [
    "**phase 1 control or hypoxic, phase 2 control** (12 sig DMGs)"
   ]
  },
  {
   "cell_type": "code",
   "execution_count": 5,
   "id": "91c79ce0-a270-4e50-987e-b1bb1a19d273",
   "metadata": {},
   "outputs": [
    {
     "data": {
      "text/html": [
       "<style>\n",
       ".list-inline {list-style: none; margin:0; padding: 0}\n",
       ".list-inline>li {display: inline-block}\n",
       ".list-inline>li:not(:last-child)::after {content: \"\\00b7\"; padding: 0 .5ex}\n",
       "</style>\n",
       "<ol class=list-inline><li>12</li><li>3</li></ol>\n"
      ],
      "text/latex": [
       "\\begin{enumerate*}\n",
       "\\item 12\n",
       "\\item 3\n",
       "\\end{enumerate*}\n"
      ],
      "text/markdown": [
       "1. 12\n",
       "2. 3\n",
       "\n",
       "\n"
      ],
      "text/plain": [
       "[1] 12  3"
      ]
     },
     "metadata": {},
     "output_type": "display_data"
    },
    {
     "data": {
      "text/html": [
       "<table class=\"dataframe\">\n",
       "<caption>A data.frame: 6 × 3</caption>\n",
       "<thead>\n",
       "\t<tr><th></th><th scope=col>gene</th><th scope=col>lfc</th><th scope=col>padj</th></tr>\n",
       "\t<tr><th></th><th scope=col>&lt;chr&gt;</th><th scope=col>&lt;dbl&gt;</th><th scope=col>&lt;dbl&gt;</th></tr>\n",
       "</thead>\n",
       "<tbody>\n",
       "\t<tr><th scope=row>2</th><td>LOC111130870</td><td> 1.930161</td><td>0.005163700</td></tr>\n",
       "\t<tr><th scope=row>9</th><td>LOC111132673</td><td> 1.418782</td><td>0.030150204</td></tr>\n",
       "\t<tr><th scope=row>6</th><td>LOC111129146</td><td> 1.352978</td><td>0.022250667</td></tr>\n",
       "\t<tr><th scope=row>8</th><td>LOC111133874</td><td>-1.008349</td><td>0.001161994</td></tr>\n",
       "\t<tr><th scope=row>7</th><td>LOC111133892</td><td>-1.039787</td><td>0.017555964</td></tr>\n",
       "\t<tr><th scope=row>12</th><td>LOC111117745</td><td>-1.198957</td><td>0.042204450</td></tr>\n",
       "</tbody>\n",
       "</table>\n"
      ],
      "text/latex": [
       "A data.frame: 6 × 3\n",
       "\\begin{tabular}{r|lll}\n",
       "  & gene & lfc & padj\\\\\n",
       "  & <chr> & <dbl> & <dbl>\\\\\n",
       "\\hline\n",
       "\t2 & LOC111130870 &  1.930161 & 0.005163700\\\\\n",
       "\t9 & LOC111132673 &  1.418782 & 0.030150204\\\\\n",
       "\t6 & LOC111129146 &  1.352978 & 0.022250667\\\\\n",
       "\t8 & LOC111133874 & -1.008349 & 0.001161994\\\\\n",
       "\t7 & LOC111133892 & -1.039787 & 0.017555964\\\\\n",
       "\t12 & LOC111117745 & -1.198957 & 0.042204450\\\\\n",
       "\\end{tabular}\n"
      ],
      "text/markdown": [
       "\n",
       "A data.frame: 6 × 3\n",
       "\n",
       "| <!--/--> | gene &lt;chr&gt; | lfc &lt;dbl&gt; | padj &lt;dbl&gt; |\n",
       "|---|---|---|---|\n",
       "| 2 | LOC111130870 |  1.930161 | 0.005163700 |\n",
       "| 9 | LOC111132673 |  1.418782 | 0.030150204 |\n",
       "| 6 | LOC111129146 |  1.352978 | 0.022250667 |\n",
       "| 8 | LOC111133874 | -1.008349 | 0.001161994 |\n",
       "| 7 | LOC111133892 | -1.039787 | 0.017555964 |\n",
       "| 12 | LOC111117745 | -1.198957 | 0.042204450 |\n",
       "\n"
      ],
      "text/plain": [
       "   gene         lfc       padj       \n",
       "2  LOC111130870  1.930161 0.005163700\n",
       "9  LOC111132673  1.418782 0.030150204\n",
       "6  LOC111129146  1.352978 0.022250667\n",
       "8  LOC111133874 -1.008349 0.001161994\n",
       "7  LOC111133892 -1.039787 0.017555964\n",
       "12 LOC111117745 -1.198957 0.042204450"
      ]
     },
     "metadata": {},
     "output_type": "display_data"
    }
   ],
   "source": [
    "p1ch_p2c <- read.csv('/project/pi_sarah_gignouxwolfsohn_uml_edu/julia/CE_MethylRAD_analysis_2018/analysis/significant_genes/p1ch_p2c_genes.csv')\n",
    "\n",
    "p1ch_p2c <- filter(p1ch_p2c, p1ch_p2c$padj < 0.05)\n",
    "\n",
    "p1ch_p2c <- p1ch_p2c[order(-p1ch_p2c$log2FoldChange),]\n",
    "p1ch_p2c <- select(p1ch_p2c, X, log2FoldChange, padj)\n",
    "colnames(p1ch_p2c) <- c('gene','lfc','padj')\n",
    "\n",
    "dim(p1ch_p2c) # 12 sig DMG\n",
    "head(p1ch_p2c)"
   ]
  },
  {
   "cell_type": "markdown",
   "id": "e03ae853-f20d-43de-b47f-f19a91f63ab1",
   "metadata": {},
   "source": [
    "#### III. Pulling top 10 most methylated genes for each data frame"
   ]
  },
  {
   "cell_type": "code",
   "execution_count": 6,
   "id": "156b8235-3f6a-435f-8a2a-bc0a3cc2519c",
   "metadata": {},
   "outputs": [
    {
     "data": {
      "text/html": [
       "<table class=\"dataframe\">\n",
       "<caption>A data.frame: 10 × 3</caption>\n",
       "<thead>\n",
       "\t<tr><th></th><th scope=col>gene</th><th scope=col>lfc</th><th scope=col>padj</th></tr>\n",
       "\t<tr><th></th><th scope=col>&lt;chr&gt;</th><th scope=col>&lt;dbl&gt;</th><th scope=col>&lt;dbl&gt;</th></tr>\n",
       "</thead>\n",
       "<tbody>\n",
       "\t<tr><th scope=row>248</th><td>LOC111102814</td><td>3.788823</td><td>1.331724e-06</td></tr>\n",
       "\t<tr><th scope=row>216</th><td>LOC111134796</td><td>3.683084</td><td>4.978628e-07</td></tr>\n",
       "\t<tr><th scope=row>57</th><td>LOC111120187</td><td>3.652089</td><td>2.062906e-08</td></tr>\n",
       "\t<tr><th scope=row>215</th><td>LOC111134419</td><td>3.507806</td><td>1.953928e-05</td></tr>\n",
       "\t<tr><th scope=row>283</th><td>LOC111109964</td><td>3.440026</td><td>4.224072e-05</td></tr>\n",
       "\t<tr><th scope=row>307</th><td>LOC111113225</td><td>3.437061</td><td>9.309972e-05</td></tr>\n",
       "\t<tr><th scope=row>147</th><td>LOC111129379</td><td>3.410523</td><td>3.385458e-05</td></tr>\n",
       "\t<tr><th scope=row>70</th><td>LOC111119183</td><td>3.354381</td><td>1.183326e-05</td></tr>\n",
       "\t<tr><th scope=row>156</th><td>LOC111127901</td><td>3.253520</td><td>1.580182e-05</td></tr>\n",
       "\t<tr><th scope=row>310</th><td>LOC111113036</td><td>3.251187</td><td>1.331724e-06</td></tr>\n",
       "</tbody>\n",
       "</table>\n"
      ],
      "text/latex": [
       "A data.frame: 10 × 3\n",
       "\\begin{tabular}{r|lll}\n",
       "  & gene & lfc & padj\\\\\n",
       "  & <chr> & <dbl> & <dbl>\\\\\n",
       "\\hline\n",
       "\t248 & LOC111102814 & 3.788823 & 1.331724e-06\\\\\n",
       "\t216 & LOC111134796 & 3.683084 & 4.978628e-07\\\\\n",
       "\t57 & LOC111120187 & 3.652089 & 2.062906e-08\\\\\n",
       "\t215 & LOC111134419 & 3.507806 & 1.953928e-05\\\\\n",
       "\t283 & LOC111109964 & 3.440026 & 4.224072e-05\\\\\n",
       "\t307 & LOC111113225 & 3.437061 & 9.309972e-05\\\\\n",
       "\t147 & LOC111129379 & 3.410523 & 3.385458e-05\\\\\n",
       "\t70 & LOC111119183 & 3.354381 & 1.183326e-05\\\\\n",
       "\t156 & LOC111127901 & 3.253520 & 1.580182e-05\\\\\n",
       "\t310 & LOC111113036 & 3.251187 & 1.331724e-06\\\\\n",
       "\\end{tabular}\n"
      ],
      "text/markdown": [
       "\n",
       "A data.frame: 10 × 3\n",
       "\n",
       "| <!--/--> | gene &lt;chr&gt; | lfc &lt;dbl&gt; | padj &lt;dbl&gt; |\n",
       "|---|---|---|---|\n",
       "| 248 | LOC111102814 | 3.788823 | 1.331724e-06 |\n",
       "| 216 | LOC111134796 | 3.683084 | 4.978628e-07 |\n",
       "| 57 | LOC111120187 | 3.652089 | 2.062906e-08 |\n",
       "| 215 | LOC111134419 | 3.507806 | 1.953928e-05 |\n",
       "| 283 | LOC111109964 | 3.440026 | 4.224072e-05 |\n",
       "| 307 | LOC111113225 | 3.437061 | 9.309972e-05 |\n",
       "| 147 | LOC111129379 | 3.410523 | 3.385458e-05 |\n",
       "| 70 | LOC111119183 | 3.354381 | 1.183326e-05 |\n",
       "| 156 | LOC111127901 | 3.253520 | 1.580182e-05 |\n",
       "| 310 | LOC111113036 | 3.251187 | 1.331724e-06 |\n",
       "\n"
      ],
      "text/plain": [
       "    gene         lfc      padj        \n",
       "248 LOC111102814 3.788823 1.331724e-06\n",
       "216 LOC111134796 3.683084 4.978628e-07\n",
       "57  LOC111120187 3.652089 2.062906e-08\n",
       "215 LOC111134419 3.507806 1.953928e-05\n",
       "283 LOC111109964 3.440026 4.224072e-05\n",
       "307 LOC111113225 3.437061 9.309972e-05\n",
       "147 LOC111129379 3.410523 3.385458e-05\n",
       "70  LOC111119183 3.354381 1.183326e-05\n",
       "156 LOC111127901 3.253520 1.580182e-05\n",
       "310 LOC111113036 3.251187 1.331724e-06"
      ]
     },
     "metadata": {},
     "output_type": "display_data"
    }
   ],
   "source": [
    "# selecting top 10 sig methylated genes\n",
    "top10_p1wc <- p1_wc[1:10,]\n",
    "\n",
    "# only need certain columns, and renaming columns\n",
    "top10_p1wc <- select(top10_p1wc, gene, lfc, padj)\n",
    "colnames(top10_p1wc) <- c('gene','lfc','padj')\n",
    "\n",
    "top10_p1wc"
   ]
  },
  {
   "cell_type": "markdown",
   "id": "5c2a5492-5a41-4540-be74-2c5ea73ccea8",
   "metadata": {},
   "source": [
    "p1c_p2hc only has one sig DMG"
   ]
  },
  {
   "cell_type": "code",
   "execution_count": 7,
   "id": "b2aa1236-b7ec-4f1c-8fff-52ffa44a9b94",
   "metadata": {},
   "outputs": [
    {
     "data": {
      "text/html": [
       "<table class=\"dataframe\">\n",
       "<caption>A data.frame: 10 × 3</caption>\n",
       "<thead>\n",
       "\t<tr><th></th><th scope=col>gene</th><th scope=col>lfc</th><th scope=col>padj</th></tr>\n",
       "\t<tr><th></th><th scope=col>&lt;chr&gt;</th><th scope=col>&lt;dbl&gt;</th><th scope=col>&lt;dbl&gt;</th></tr>\n",
       "</thead>\n",
       "<tbody>\n",
       "\t<tr><th scope=row>25</th><td>LOC111108235</td><td>2.953389</td><td>1.622521e-16</td></tr>\n",
       "\t<tr><th scope=row>213</th><td>LOC111109525</td><td>2.397251</td><td>6.852803e-07</td></tr>\n",
       "\t<tr><th scope=row>70</th><td>LOC111124824</td><td>2.394202</td><td>5.233129e-06</td></tr>\n",
       "\t<tr><th scope=row>153</th><td>LOC111133240</td><td>2.304038</td><td>2.142465e-05</td></tr>\n",
       "\t<tr><th scope=row>52</th><td>LOC111119327</td><td>2.243978</td><td>1.719736e-07</td></tr>\n",
       "\t<tr><th scope=row>138</th><td>LOC111130099</td><td>2.236989</td><td>7.605352e-08</td></tr>\n",
       "\t<tr><th scope=row>221</th><td>LOC111112560</td><td>2.203625</td><td>7.292058e-10</td></tr>\n",
       "\t<tr><th scope=row>188</th><td>LOC111103340</td><td>2.189094</td><td>2.834787e-06</td></tr>\n",
       "\t<tr><th scope=row>136</th><td>LOC111131546</td><td>2.093925</td><td>3.875197e-05</td></tr>\n",
       "\t<tr><th scope=row>62</th><td>LOC111118255</td><td>2.091565</td><td>6.852803e-07</td></tr>\n",
       "</tbody>\n",
       "</table>\n"
      ],
      "text/latex": [
       "A data.frame: 10 × 3\n",
       "\\begin{tabular}{r|lll}\n",
       "  & gene & lfc & padj\\\\\n",
       "  & <chr> & <dbl> & <dbl>\\\\\n",
       "\\hline\n",
       "\t25 & LOC111108235 & 2.953389 & 1.622521e-16\\\\\n",
       "\t213 & LOC111109525 & 2.397251 & 6.852803e-07\\\\\n",
       "\t70 & LOC111124824 & 2.394202 & 5.233129e-06\\\\\n",
       "\t153 & LOC111133240 & 2.304038 & 2.142465e-05\\\\\n",
       "\t52 & LOC111119327 & 2.243978 & 1.719736e-07\\\\\n",
       "\t138 & LOC111130099 & 2.236989 & 7.605352e-08\\\\\n",
       "\t221 & LOC111112560 & 2.203625 & 7.292058e-10\\\\\n",
       "\t188 & LOC111103340 & 2.189094 & 2.834787e-06\\\\\n",
       "\t136 & LOC111131546 & 2.093925 & 3.875197e-05\\\\\n",
       "\t62 & LOC111118255 & 2.091565 & 6.852803e-07\\\\\n",
       "\\end{tabular}\n"
      ],
      "text/markdown": [
       "\n",
       "A data.frame: 10 × 3\n",
       "\n",
       "| <!--/--> | gene &lt;chr&gt; | lfc &lt;dbl&gt; | padj &lt;dbl&gt; |\n",
       "|---|---|---|---|\n",
       "| 25 | LOC111108235 | 2.953389 | 1.622521e-16 |\n",
       "| 213 | LOC111109525 | 2.397251 | 6.852803e-07 |\n",
       "| 70 | LOC111124824 | 2.394202 | 5.233129e-06 |\n",
       "| 153 | LOC111133240 | 2.304038 | 2.142465e-05 |\n",
       "| 52 | LOC111119327 | 2.243978 | 1.719736e-07 |\n",
       "| 138 | LOC111130099 | 2.236989 | 7.605352e-08 |\n",
       "| 221 | LOC111112560 | 2.203625 | 7.292058e-10 |\n",
       "| 188 | LOC111103340 | 2.189094 | 2.834787e-06 |\n",
       "| 136 | LOC111131546 | 2.093925 | 3.875197e-05 |\n",
       "| 62 | LOC111118255 | 2.091565 | 6.852803e-07 |\n",
       "\n"
      ],
      "text/plain": [
       "    gene         lfc      padj        \n",
       "25  LOC111108235 2.953389 1.622521e-16\n",
       "213 LOC111109525 2.397251 6.852803e-07\n",
       "70  LOC111124824 2.394202 5.233129e-06\n",
       "153 LOC111133240 2.304038 2.142465e-05\n",
       "52  LOC111119327 2.243978 1.719736e-07\n",
       "138 LOC111130099 2.236989 7.605352e-08\n",
       "221 LOC111112560 2.203625 7.292058e-10\n",
       "188 LOC111103340 2.189094 2.834787e-06\n",
       "136 LOC111131546 2.093925 3.875197e-05\n",
       "62  LOC111118255 2.091565 6.852803e-07"
      ]
     },
     "metadata": {},
     "output_type": "display_data"
    }
   ],
   "source": [
    "# selecting top 10 sig methylated genes\n",
    "top10_p1h <- p1h_p2hc[1:10,]\n",
    "\n",
    "# only need certain columns, and renaming columns\n",
    "top10_p1h <- select(top10_p1h, gene, lfc, padj)\n",
    "colnames(top10_p1h) <- c('gene','lfc','padj')\n",
    "\n",
    "top10_p1h"
   ]
  },
  {
   "cell_type": "code",
   "execution_count": 8,
   "id": "c441d689-935d-4b0e-bb50-d7adde043a35",
   "metadata": {},
   "outputs": [
    {
     "data": {
      "text/html": [
       "<table class=\"dataframe\">\n",
       "<caption>A data.frame: 10 × 3</caption>\n",
       "<thead>\n",
       "\t<tr><th></th><th scope=col>gene</th><th scope=col>lfc</th><th scope=col>padj</th></tr>\n",
       "\t<tr><th></th><th scope=col>&lt;chr&gt;</th><th scope=col>&lt;dbl&gt;</th><th scope=col>&lt;dbl&gt;</th></tr>\n",
       "</thead>\n",
       "<tbody>\n",
       "\t<tr><th scope=row>2</th><td>LOC111130870</td><td> 1.930161</td><td>0.005163700</td></tr>\n",
       "\t<tr><th scope=row>9</th><td>LOC111132673</td><td> 1.418782</td><td>0.030150204</td></tr>\n",
       "\t<tr><th scope=row>6</th><td>LOC111129146</td><td> 1.352978</td><td>0.022250667</td></tr>\n",
       "\t<tr><th scope=row>8</th><td>LOC111133874</td><td>-1.008349</td><td>0.001161994</td></tr>\n",
       "\t<tr><th scope=row>7</th><td>LOC111133892</td><td>-1.039787</td><td>0.017555964</td></tr>\n",
       "\t<tr><th scope=row>12</th><td>LOC111117745</td><td>-1.198957</td><td>0.042204450</td></tr>\n",
       "\t<tr><th scope=row>4</th><td>LOC111123492</td><td>-1.250427</td><td>0.022250667</td></tr>\n",
       "\t<tr><th scope=row>5</th><td>LOC111124669</td><td>-1.375254</td><td>0.022250667</td></tr>\n",
       "\t<tr><th scope=row>1</th><td>LOC111133260</td><td>-1.400662</td><td>0.032102916</td></tr>\n",
       "\t<tr><th scope=row>3</th><td>LOC111124824</td><td>-1.748396</td><td>0.022250667</td></tr>\n",
       "</tbody>\n",
       "</table>\n"
      ],
      "text/latex": [
       "A data.frame: 10 × 3\n",
       "\\begin{tabular}{r|lll}\n",
       "  & gene & lfc & padj\\\\\n",
       "  & <chr> & <dbl> & <dbl>\\\\\n",
       "\\hline\n",
       "\t2 & LOC111130870 &  1.930161 & 0.005163700\\\\\n",
       "\t9 & LOC111132673 &  1.418782 & 0.030150204\\\\\n",
       "\t6 & LOC111129146 &  1.352978 & 0.022250667\\\\\n",
       "\t8 & LOC111133874 & -1.008349 & 0.001161994\\\\\n",
       "\t7 & LOC111133892 & -1.039787 & 0.017555964\\\\\n",
       "\t12 & LOC111117745 & -1.198957 & 0.042204450\\\\\n",
       "\t4 & LOC111123492 & -1.250427 & 0.022250667\\\\\n",
       "\t5 & LOC111124669 & -1.375254 & 0.022250667\\\\\n",
       "\t1 & LOC111133260 & -1.400662 & 0.032102916\\\\\n",
       "\t3 & LOC111124824 & -1.748396 & 0.022250667\\\\\n",
       "\\end{tabular}\n"
      ],
      "text/markdown": [
       "\n",
       "A data.frame: 10 × 3\n",
       "\n",
       "| <!--/--> | gene &lt;chr&gt; | lfc &lt;dbl&gt; | padj &lt;dbl&gt; |\n",
       "|---|---|---|---|\n",
       "| 2 | LOC111130870 |  1.930161 | 0.005163700 |\n",
       "| 9 | LOC111132673 |  1.418782 | 0.030150204 |\n",
       "| 6 | LOC111129146 |  1.352978 | 0.022250667 |\n",
       "| 8 | LOC111133874 | -1.008349 | 0.001161994 |\n",
       "| 7 | LOC111133892 | -1.039787 | 0.017555964 |\n",
       "| 12 | LOC111117745 | -1.198957 | 0.042204450 |\n",
       "| 4 | LOC111123492 | -1.250427 | 0.022250667 |\n",
       "| 5 | LOC111124669 | -1.375254 | 0.022250667 |\n",
       "| 1 | LOC111133260 | -1.400662 | 0.032102916 |\n",
       "| 3 | LOC111124824 | -1.748396 | 0.022250667 |\n",
       "\n"
      ],
      "text/plain": [
       "   gene         lfc       padj       \n",
       "2  LOC111130870  1.930161 0.005163700\n",
       "9  LOC111132673  1.418782 0.030150204\n",
       "6  LOC111129146  1.352978 0.022250667\n",
       "8  LOC111133874 -1.008349 0.001161994\n",
       "7  LOC111133892 -1.039787 0.017555964\n",
       "12 LOC111117745 -1.198957 0.042204450\n",
       "4  LOC111123492 -1.250427 0.022250667\n",
       "5  LOC111124669 -1.375254 0.022250667\n",
       "1  LOC111133260 -1.400662 0.032102916\n",
       "3  LOC111124824 -1.748396 0.022250667"
      ]
     },
     "metadata": {},
     "output_type": "display_data"
    }
   ],
   "source": [
    "# selecting top 10 sig methylated genes\n",
    "top10_p2c <- p1ch_p2c[1:10,]\n",
    "\n",
    "# only need certain columns, and renaming columns\n",
    "top10_p2c <- select(top10_p2c, gene, lfc, padj)\n",
    "colnames(top10_p2c) <- c('gene','lfc','padj')\n",
    "\n",
    "top10_p2c"
   ]
  },
  {
   "cell_type": "markdown",
   "id": "17f5cae4-c718-4782-8f9d-a18bdcbb8c2b",
   "metadata": {},
   "source": [
    "#### IV. Comparing top genes"
   ]
  },
  {
   "cell_type": "code",
   "execution_count": 9,
   "id": "53da82d0-31bc-44dc-8923-ee76179e450a",
   "metadata": {},
   "outputs": [
    {
     "data": {
      "text/html": [
       "<style>\n",
       ".list-inline {list-style: none; margin:0; padding: 0}\n",
       ".list-inline>li {display: inline-block}\n",
       ".list-inline>li:not(:last-child)::after {content: \"\\00b7\"; padding: 0 .5ex}\n",
       "</style>\n",
       "<ol class=list-inline><li>FALSE</li><li>FALSE</li><li>FALSE</li><li>FALSE</li><li>FALSE</li><li>FALSE</li><li>FALSE</li><li>FALSE</li><li>FALSE</li><li>FALSE</li></ol>\n"
      ],
      "text/latex": [
       "\\begin{enumerate*}\n",
       "\\item FALSE\n",
       "\\item FALSE\n",
       "\\item FALSE\n",
       "\\item FALSE\n",
       "\\item FALSE\n",
       "\\item FALSE\n",
       "\\item FALSE\n",
       "\\item FALSE\n",
       "\\item FALSE\n",
       "\\item FALSE\n",
       "\\end{enumerate*}\n"
      ],
      "text/markdown": [
       "1. FALSE\n",
       "2. FALSE\n",
       "3. FALSE\n",
       "4. FALSE\n",
       "5. FALSE\n",
       "6. FALSE\n",
       "7. FALSE\n",
       "8. FALSE\n",
       "9. FALSE\n",
       "10. FALSE\n",
       "\n",
       "\n"
      ],
      "text/plain": [
       " [1] FALSE FALSE FALSE FALSE FALSE FALSE FALSE FALSE FALSE FALSE"
      ]
     },
     "metadata": {},
     "output_type": "display_data"
    }
   ],
   "source": [
    "# left: phase 1 hypoxic, phase 2 hypoxic/control\n",
    "# right: phase 1 control, phase 2 hypoxic/control\n",
    "top10_p1h$gene %in% p1c_p2hc\n",
    "\n",
    "# no sharing of genes"
   ]
  },
  {
   "cell_type": "code",
   "execution_count": 10,
   "id": "b87cb9d8-7d19-4fda-a099-464de0a73f1f",
   "metadata": {},
   "outputs": [
    {
     "data": {
      "text/html": [
       "<style>\n",
       ".list-inline {list-style: none; margin:0; padding: 0}\n",
       ".list-inline>li {display: inline-block}\n",
       ".list-inline>li:not(:last-child)::after {content: \"\\00b7\"; padding: 0 .5ex}\n",
       "</style>\n",
       "<ol class=list-inline><li>FALSE</li><li>FALSE</li><li>FALSE</li><li>FALSE</li><li>FALSE</li><li>FALSE</li><li>FALSE</li><li>FALSE</li><li>FALSE</li><li>FALSE</li></ol>\n"
      ],
      "text/latex": [
       "\\begin{enumerate*}\n",
       "\\item FALSE\n",
       "\\item FALSE\n",
       "\\item FALSE\n",
       "\\item FALSE\n",
       "\\item FALSE\n",
       "\\item FALSE\n",
       "\\item FALSE\n",
       "\\item FALSE\n",
       "\\item FALSE\n",
       "\\item FALSE\n",
       "\\end{enumerate*}\n"
      ],
      "text/markdown": [
       "1. FALSE\n",
       "2. FALSE\n",
       "3. FALSE\n",
       "4. FALSE\n",
       "5. FALSE\n",
       "6. FALSE\n",
       "7. FALSE\n",
       "8. FALSE\n",
       "9. FALSE\n",
       "10. FALSE\n",
       "\n",
       "\n"
      ],
      "text/plain": [
       " [1] FALSE FALSE FALSE FALSE FALSE FALSE FALSE FALSE FALSE FALSE"
      ]
     },
     "metadata": {},
     "output_type": "display_data"
    }
   ],
   "source": [
    "# left: phase 1 hypoxic, phase 2 hypoxic/control\n",
    "# right: phase 1 hypoxic/control, phase 2 control\n",
    "top10_p1h$gene %in% top10_p2c\n",
    "\n",
    "# no sharing of genes"
   ]
  },
  {
   "cell_type": "code",
   "execution_count": 11,
   "id": "3b7fdaa1-2918-4aa7-940a-0964d9447598",
   "metadata": {},
   "outputs": [
    {
     "data": {
      "text/html": [
       "<style>\n",
       ".list-inline {list-style: none; margin:0; padding: 0}\n",
       ".list-inline>li {display: inline-block}\n",
       ".list-inline>li:not(:last-child)::after {content: \"\\00b7\"; padding: 0 .5ex}\n",
       "</style>\n",
       "<ol class=list-inline><li>FALSE</li><li>FALSE</li><li>FALSE</li><li>FALSE</li><li>FALSE</li><li>FALSE</li><li>FALSE</li><li>FALSE</li><li>FALSE</li><li>FALSE</li></ol>\n"
      ],
      "text/latex": [
       "\\begin{enumerate*}\n",
       "\\item FALSE\n",
       "\\item FALSE\n",
       "\\item FALSE\n",
       "\\item FALSE\n",
       "\\item FALSE\n",
       "\\item FALSE\n",
       "\\item FALSE\n",
       "\\item FALSE\n",
       "\\item FALSE\n",
       "\\item FALSE\n",
       "\\end{enumerate*}\n"
      ],
      "text/markdown": [
       "1. FALSE\n",
       "2. FALSE\n",
       "3. FALSE\n",
       "4. FALSE\n",
       "5. FALSE\n",
       "6. FALSE\n",
       "7. FALSE\n",
       "8. FALSE\n",
       "9. FALSE\n",
       "10. FALSE\n",
       "\n",
       "\n"
      ],
      "text/plain": [
       " [1] FALSE FALSE FALSE FALSE FALSE FALSE FALSE FALSE FALSE FALSE"
      ]
     },
     "metadata": {},
     "output_type": "display_data"
    }
   ],
   "source": [
    "# left: phase 1 hypoxic, phase 2 hypoxic/control\n",
    "# right: phase 1 warm/control\n",
    "top10_p1h$gene %in% top10_p1wc\n",
    "\n",
    "# no sharing of genes"
   ]
  },
  {
   "cell_type": "code",
   "execution_count": 12,
   "id": "c8aa5158-02bc-4a5d-ba85-6306600c187c",
   "metadata": {},
   "outputs": [
    {
     "data": {
      "text/html": [
       "<style>\n",
       ".list-inline {list-style: none; margin:0; padding: 0}\n",
       ".list-inline>li {display: inline-block}\n",
       ".list-inline>li:not(:last-child)::after {content: \"\\00b7\"; padding: 0 .5ex}\n",
       "</style>\n",
       "<ol class=list-inline><li>FALSE</li><li>FALSE</li><li>FALSE</li><li>FALSE</li><li>FALSE</li><li>FALSE</li><li>FALSE</li><li>FALSE</li><li>FALSE</li><li>FALSE</li></ol>\n"
      ],
      "text/latex": [
       "\\begin{enumerate*}\n",
       "\\item FALSE\n",
       "\\item FALSE\n",
       "\\item FALSE\n",
       "\\item FALSE\n",
       "\\item FALSE\n",
       "\\item FALSE\n",
       "\\item FALSE\n",
       "\\item FALSE\n",
       "\\item FALSE\n",
       "\\item FALSE\n",
       "\\end{enumerate*}\n"
      ],
      "text/markdown": [
       "1. FALSE\n",
       "2. FALSE\n",
       "3. FALSE\n",
       "4. FALSE\n",
       "5. FALSE\n",
       "6. FALSE\n",
       "7. FALSE\n",
       "8. FALSE\n",
       "9. FALSE\n",
       "10. FALSE\n",
       "\n",
       "\n"
      ],
      "text/plain": [
       " [1] FALSE FALSE FALSE FALSE FALSE FALSE FALSE FALSE FALSE FALSE"
      ]
     },
     "metadata": {},
     "output_type": "display_data"
    }
   ],
   "source": [
    "# left: phase 1 hypoxic/control, phase 2 control\n",
    "# right: phase 1 warm/control\n",
    "top10_p2c$gene %in% top10_p1wc\n",
    "\n",
    "# no sharing of genes"
   ]
  },
  {
   "cell_type": "markdown",
   "id": "39f12d6a-a941-49d5-9cde-e3e2aa68c14b",
   "metadata": {},
   "source": [
    "so for each gene set, the top 10 most differentially methylated genes are unique to that comparison - maybe should just look generally to see if there's overlap? \n",
    "\n",
    "#### V. Looking generally at overlap of sig DMGs"
   ]
  },
  {
   "cell_type": "code",
   "execution_count": 6,
   "id": "8c52f4a6-26f4-4289-beb7-5fe4b17a5bd3",
   "metadata": {},
   "outputs": [
    {
     "name": "stderr",
     "output_type": "stream",
     "text": [
      "Loading required package: grid\n",
      "\n",
      "Loading required package: futile.logger\n",
      "\n"
     ]
    }
   ],
   "source": [
    "library(VennDiagram)\n",
    "library(RColorBrewer)"
   ]
  },
  {
   "cell_type": "code",
   "execution_count": 7,
   "id": "d217a2ab-7fb6-43fa-b6d4-a93ba618c890",
   "metadata": {},
   "outputs": [
    {
     "data": {
      "text/html": [
       "<style>\n",
       ".list-inline {list-style: none; margin:0; padding: 0}\n",
       ".list-inline>li {display: inline-block}\n",
       ".list-inline>li:not(:last-child)::after {content: \"\\00b7\"; padding: 0 .5ex}\n",
       "</style>\n",
       "<ol class=list-inline><li>'LOC111108235'</li><li>'LOC111131029'</li><li>'LOC111108786'</li><li>'LOC111119407'</li><li>'LOC111130099'</li><li>'LOC111121187'</li></ol>\n"
      ],
      "text/latex": [
       "\\begin{enumerate*}\n",
       "\\item 'LOC111108235'\n",
       "\\item 'LOC111131029'\n",
       "\\item 'LOC111108786'\n",
       "\\item 'LOC111119407'\n",
       "\\item 'LOC111130099'\n",
       "\\item 'LOC111121187'\n",
       "\\end{enumerate*}\n"
      ],
      "text/markdown": [
       "1. 'LOC111108235'\n",
       "2. 'LOC111131029'\n",
       "3. 'LOC111108786'\n",
       "4. 'LOC111119407'\n",
       "5. 'LOC111130099'\n",
       "6. 'LOC111121187'\n",
       "\n",
       "\n"
      ],
      "text/plain": [
       "[1] \"LOC111108235\" \"LOC111131029\" \"LOC111108786\" \"LOC111119407\" \"LOC111130099\"\n",
       "[6] \"LOC111121187\""
      ]
     },
     "metadata": {},
     "output_type": "display_data"
    },
    {
     "data": {
      "text/html": [
       "'LOC111122519'"
      ],
      "text/latex": [
       "'LOC111122519'"
      ],
      "text/markdown": [
       "'LOC111122519'"
      ],
      "text/plain": [
       "[1] \"LOC111122519\""
      ]
     },
     "metadata": {},
     "output_type": "display_data"
    },
    {
     "data": {
      "text/html": [
       "<style>\n",
       ".list-inline {list-style: none; margin:0; padding: 0}\n",
       ".list-inline>li {display: inline-block}\n",
       ".list-inline>li:not(:last-child)::after {content: \"\\00b7\"; padding: 0 .5ex}\n",
       "</style>\n",
       "<ol class=list-inline><li>'LOC111108235'</li><li>'LOC111109525'</li><li>'LOC111124824'</li><li>'LOC111133240'</li><li>'LOC111119327'</li><li>'LOC111130099'</li></ol>\n"
      ],
      "text/latex": [
       "\\begin{enumerate*}\n",
       "\\item 'LOC111108235'\n",
       "\\item 'LOC111109525'\n",
       "\\item 'LOC111124824'\n",
       "\\item 'LOC111133240'\n",
       "\\item 'LOC111119327'\n",
       "\\item 'LOC111130099'\n",
       "\\end{enumerate*}\n"
      ],
      "text/markdown": [
       "1. 'LOC111108235'\n",
       "2. 'LOC111109525'\n",
       "3. 'LOC111124824'\n",
       "4. 'LOC111133240'\n",
       "5. 'LOC111119327'\n",
       "6. 'LOC111130099'\n",
       "\n",
       "\n"
      ],
      "text/plain": [
       "[1] \"LOC111108235\" \"LOC111109525\" \"LOC111124824\" \"LOC111133240\" \"LOC111119327\"\n",
       "[6] \"LOC111130099\""
      ]
     },
     "metadata": {},
     "output_type": "display_data"
    },
    {
     "data": {
      "text/html": [
       "<style>\n",
       ".list-inline {list-style: none; margin:0; padding: 0}\n",
       ".list-inline>li {display: inline-block}\n",
       ".list-inline>li:not(:last-child)::after {content: \"\\00b7\"; padding: 0 .5ex}\n",
       "</style>\n",
       "<ol class=list-inline><li>'LOC111130870'</li><li>'LOC111132673'</li><li>'LOC111129146'</li><li>'LOC111133874'</li><li>'LOC111133892'</li><li>'LOC111117745'</li></ol>\n"
      ],
      "text/latex": [
       "\\begin{enumerate*}\n",
       "\\item 'LOC111130870'\n",
       "\\item 'LOC111132673'\n",
       "\\item 'LOC111129146'\n",
       "\\item 'LOC111133874'\n",
       "\\item 'LOC111133892'\n",
       "\\item 'LOC111117745'\n",
       "\\end{enumerate*}\n"
      ],
      "text/markdown": [
       "1. 'LOC111130870'\n",
       "2. 'LOC111132673'\n",
       "3. 'LOC111129146'\n",
       "4. 'LOC111133874'\n",
       "5. 'LOC111133892'\n",
       "6. 'LOC111117745'\n",
       "\n",
       "\n"
      ],
      "text/plain": [
       "[1] \"LOC111130870\" \"LOC111132673\" \"LOC111129146\" \"LOC111133874\" \"LOC111133892\"\n",
       "[6] \"LOC111117745\""
      ]
     },
     "metadata": {},
     "output_type": "display_data"
    }
   ],
   "source": [
    "# creating sets of genes for each combo\n",
    "p2ch_genes <- p2_ch$gene\n",
    "head(p2ch_genes)\n",
    "\n",
    "p1c_p2hc_genes <- p1c_p2hc$gene\n",
    "head(p1c_p2hc_genes)\n",
    "\n",
    "p1h_p2hc_genes <- p1h_p2hc$gene\n",
    "head(p1h_p2hc_genes)\n",
    "\n",
    "p1ch_p2c_genes <- p1ch_p2c$gene\n",
    "head(p1ch_p2c_genes)"
   ]
  },
  {
   "cell_type": "code",
   "execution_count": 9,
   "id": "21e52513-11ac-42e9-82ff-53aed9e7e1a0",
   "metadata": {},
   "outputs": [
    {
     "name": "stdout",
     "output_type": "stream",
     "text": [
      "INFO [2024-07-18 16:13:16] $x\n",
      "INFO [2024-07-18 16:13:16] list(p2ch_genes, p1c_p2hc_genes, p1h_p2hc_genes, p1ch_p2c_genes)\n",
      "INFO [2024-07-18 16:13:16] \n",
      "INFO [2024-07-18 16:13:16] $category.names\n",
      "INFO [2024-07-18 16:13:16] c(\"phase 2\\n control vs.\\n hypoxia\", \"CC vs. CH\", \"HH vs. HC\", \n",
      "INFO [2024-07-18 16:13:16]     \"HC vs. CC\")\n",
      "INFO [2024-07-18 16:13:16] \n",
      "INFO [2024-07-18 16:13:16] $filename\n",
      "INFO [2024-07-18 16:13:16] [1] \"venn_diagram.png\"\n",
      "INFO [2024-07-18 16:13:16] \n",
      "INFO [2024-07-18 16:13:16] $disable.logging\n",
      "INFO [2024-07-18 16:13:16] [1] TRUE\n",
      "INFO [2024-07-18 16:13:16] \n",
      "INFO [2024-07-18 16:13:16] $output\n",
      "INFO [2024-07-18 16:13:16] [1] TRUE\n",
      "INFO [2024-07-18 16:13:16] \n",
      "INFO [2024-07-18 16:13:16] $imagetype\n",
      "INFO [2024-07-18 16:13:16] [1] \"png\"\n",
      "INFO [2024-07-18 16:13:16] \n",
      "INFO [2024-07-18 16:13:16] $height\n",
      "INFO [2024-07-18 16:13:16] [1] 1000\n",
      "INFO [2024-07-18 16:13:16] \n",
      "INFO [2024-07-18 16:13:16] $width\n",
      "INFO [2024-07-18 16:13:16] [1] 1000\n",
      "INFO [2024-07-18 16:13:16] \n",
      "INFO [2024-07-18 16:13:16] $resolution\n",
      "INFO [2024-07-18 16:13:16] [1] 300\n",
      "INFO [2024-07-18 16:13:16] \n",
      "INFO [2024-07-18 16:13:16] $compression\n",
      "INFO [2024-07-18 16:13:16] [1] \"lzw\"\n",
      "INFO [2024-07-18 16:13:16] \n",
      "INFO [2024-07-18 16:13:16] $lwd\n",
      "INFO [2024-07-18 16:13:16] [1] 2\n",
      "INFO [2024-07-18 16:13:16] \n",
      "INFO [2024-07-18 16:13:16] $lty\n",
      "INFO [2024-07-18 16:13:16] [1] \"blank\"\n",
      "INFO [2024-07-18 16:13:16] \n",
      "INFO [2024-07-18 16:13:16] $fill\n",
      "INFO [2024-07-18 16:13:16] myCol\n",
      "INFO [2024-07-18 16:13:16] \n"
     ]
    },
    {
     "data": {
      "text/html": [
       "1"
      ],
      "text/latex": [
       "1"
      ],
      "text/markdown": [
       "1"
      ],
      "text/plain": [
       "[1] 1"
      ]
     },
     "metadata": {},
     "output_type": "display_data"
    }
   ],
   "source": [
    "setwd('/project/pi_sarah_gignouxwolfsohn_uml_edu/julia/CE_MethylRAD_analysis_2018/analysis/figures/')\n",
    "\n",
    "# Prepare a palette of 3 colors with R colorbrewer:\n",
    "myCol <- brewer.pal(4, \"Pastel2\")\n",
    "\n",
    "venn.diagram(\n",
    "  x = list(p2ch_genes, p1c_p2hc_genes, p1h_p2hc_genes, p1ch_p2c_genes),\n",
    "  category.names = c(\"phase 2\\n control vs.\\n hypoxia\" ,\n",
    "                     \"CC vs. CH\" ,\n",
    "                     \"HH vs. HC\",\n",
    "                    \"HC vs. CC\"),\n",
    "  filename = 'venn_diagram.png',\n",
    "    disable.logging=TRUE,\n",
    "    output=TRUE,\n",
    "    # Output features\n",
    "        imagetype=\"png\" ,\n",
    "        height = 1000 , \n",
    "        width = 1000 , \n",
    "        resolution = 300,\n",
    "        compression = \"lzw\",\n",
    "        \n",
    "        # Circles\n",
    "        lwd = 2,\n",
    "        lty = 'blank',\n",
    "        fill = myCol\n",
    ")"
   ]
  },
  {
   "cell_type": "code",
   "execution_count": 10,
   "id": "f7e5faa1-fe55-44cb-9979-8e3924c55f0d",
   "metadata": {},
   "outputs": [],
   "source": [
    "#BiocManager::install('ggvenn')\n",
    "library(ggvenn)"
   ]
  },
  {
   "cell_type": "code",
   "execution_count": 14,
   "id": "23c567ca-2922-4359-a906-50dc14125366",
   "metadata": {},
   "outputs": [
    {
     "data": {
      "image/png": "[encoded data removed]",
      "text/plain": [
       "plot without title"
      ]
     },
     "metadata": {
      "image/png": {
       "height": 300,
       "width": 900
      }
     },
     "output_type": "display_data"
    }
   ],
   "source": [
    "options(repr.plot.width=15, repr.plot.height=5)\n",
    "\n",
    "x = list(\n",
    "         B = p1c_p2hc_genes, \n",
    "         C = p1h_p2hc_genes, \n",
    "         D = p1ch_p2c_genes)\n",
    "\n",
    "names(x) <- c(\n",
    "              'CH vs. CC',\n",
    "              'HC vs. HH',\n",
    "              'HC vs. CC')\n",
    "\n",
    "ggvenn(x,\n",
    "      set_name_size = 7,\n",
    "       text_size = 7,\n",
    "      stroke_size = 0.5, \n",
    "       show_percentage = FALSE)"
   ]
  },
  {
   "cell_type": "markdown",
   "id": "0fd1c847-4c4d-451b-9528-54cd89e51ddd",
   "metadata": {},
   "source": [
    "I've already invesigated the 6 genes shared between HCvsCC and HCvsHH - now going to look at the 5 shared bewteen P1wc and HCvsHH, and the one shared by P1wc and HCvsCC\n",
    "\n",
    "First looking at the 5 genes shared between **Phase 1 warm vs. control** and **phase 1 hypoxic/control, phase 2 control**"
   ]
  },
  {
   "cell_type": "code",
   "execution_count": 18,
   "id": "56b5a1e6-b9ff-4cb4-b404-61cc9fdc6aa8",
   "metadata": {},
   "outputs": [
    {
     "data": {
      "text/html": [
       "<table class=\"dataframe\">\n",
       "<caption>A data.frame: 6 × 2</caption>\n",
       "<thead>\n",
       "\t<tr><th></th><th scope=col>gene</th><th scope=col>p1wc_lfc</th></tr>\n",
       "\t<tr><th></th><th scope=col>&lt;chr&gt;</th><th scope=col>&lt;dbl&gt;</th></tr>\n",
       "</thead>\n",
       "<tbody>\n",
       "\t<tr><th scope=row>248</th><td>LOC111102814</td><td>3.788823</td></tr>\n",
       "\t<tr><th scope=row>216</th><td>LOC111134796</td><td>3.683084</td></tr>\n",
       "\t<tr><th scope=row>57</th><td>LOC111120187</td><td>3.652089</td></tr>\n",
       "\t<tr><th scope=row>215</th><td>LOC111134419</td><td>3.507806</td></tr>\n",
       "\t<tr><th scope=row>283</th><td>LOC111109964</td><td>3.440026</td></tr>\n",
       "\t<tr><th scope=row>307</th><td>LOC111113225</td><td>3.437061</td></tr>\n",
       "</tbody>\n",
       "</table>\n"
      ],
      "text/latex": [
       "A data.frame: 6 × 2\n",
       "\\begin{tabular}{r|ll}\n",
       "  & gene & p1wc\\_lfc\\\\\n",
       "  & <chr> & <dbl>\\\\\n",
       "\\hline\n",
       "\t248 & LOC111102814 & 3.788823\\\\\n",
       "\t216 & LOC111134796 & 3.683084\\\\\n",
       "\t57 & LOC111120187 & 3.652089\\\\\n",
       "\t215 & LOC111134419 & 3.507806\\\\\n",
       "\t283 & LOC111109964 & 3.440026\\\\\n",
       "\t307 & LOC111113225 & 3.437061\\\\\n",
       "\\end{tabular}\n"
      ],
      "text/markdown": [
       "\n",
       "A data.frame: 6 × 2\n",
       "\n",
       "| <!--/--> | gene &lt;chr&gt; | p1wc_lfc &lt;dbl&gt; |\n",
       "|---|---|---|\n",
       "| 248 | LOC111102814 | 3.788823 |\n",
       "| 216 | LOC111134796 | 3.683084 |\n",
       "| 57 | LOC111120187 | 3.652089 |\n",
       "| 215 | LOC111134419 | 3.507806 |\n",
       "| 283 | LOC111109964 | 3.440026 |\n",
       "| 307 | LOC111113225 | 3.437061 |\n",
       "\n"
      ],
      "text/plain": [
       "    gene         p1wc_lfc\n",
       "248 LOC111102814 3.788823\n",
       "216 LOC111134796 3.683084\n",
       "57  LOC111120187 3.652089\n",
       "215 LOC111134419 3.507806\n",
       "283 LOC111109964 3.440026\n",
       "307 LOC111113225 3.437061"
      ]
     },
     "metadata": {},
     "output_type": "display_data"
    },
    {
     "data": {
      "text/html": [
       "<table class=\"dataframe\">\n",
       "<caption>A data.frame: 6 × 2</caption>\n",
       "<thead>\n",
       "\t<tr><th></th><th scope=col>gene</th><th scope=col>p2control_lfc</th></tr>\n",
       "\t<tr><th></th><th scope=col>&lt;chr&gt;</th><th scope=col>&lt;dbl&gt;</th></tr>\n",
       "</thead>\n",
       "<tbody>\n",
       "\t<tr><th scope=row>2</th><td>LOC111130870</td><td> 1.930161</td></tr>\n",
       "\t<tr><th scope=row>9</th><td>LOC111132673</td><td> 1.418782</td></tr>\n",
       "\t<tr><th scope=row>6</th><td>LOC111129146</td><td> 1.352978</td></tr>\n",
       "\t<tr><th scope=row>8</th><td>LOC111133874</td><td>-1.008349</td></tr>\n",
       "\t<tr><th scope=row>7</th><td>LOC111133892</td><td>-1.039787</td></tr>\n",
       "\t<tr><th scope=row>12</th><td>LOC111117745</td><td>-1.198957</td></tr>\n",
       "</tbody>\n",
       "</table>\n"
      ],
      "text/latex": [
       "A data.frame: 6 × 2\n",
       "\\begin{tabular}{r|ll}\n",
       "  & gene & p2control\\_lfc\\\\\n",
       "  & <chr> & <dbl>\\\\\n",
       "\\hline\n",
       "\t2 & LOC111130870 &  1.930161\\\\\n",
       "\t9 & LOC111132673 &  1.418782\\\\\n",
       "\t6 & LOC111129146 &  1.352978\\\\\n",
       "\t8 & LOC111133874 & -1.008349\\\\\n",
       "\t7 & LOC111133892 & -1.039787\\\\\n",
       "\t12 & LOC111117745 & -1.198957\\\\\n",
       "\\end{tabular}\n"
      ],
      "text/markdown": [
       "\n",
       "A data.frame: 6 × 2\n",
       "\n",
       "| <!--/--> | gene &lt;chr&gt; | p2control_lfc &lt;dbl&gt; |\n",
       "|---|---|---|\n",
       "| 2 | LOC111130870 |  1.930161 |\n",
       "| 9 | LOC111132673 |  1.418782 |\n",
       "| 6 | LOC111129146 |  1.352978 |\n",
       "| 8 | LOC111133874 | -1.008349 |\n",
       "| 7 | LOC111133892 | -1.039787 |\n",
       "| 12 | LOC111117745 | -1.198957 |\n",
       "\n"
      ],
      "text/plain": [
       "   gene         p2control_lfc\n",
       "2  LOC111130870  1.930161    \n",
       "9  LOC111132673  1.418782    \n",
       "6  LOC111129146  1.352978    \n",
       "8  LOC111133874 -1.008349    \n",
       "7  LOC111133892 -1.039787    \n",
       "12 LOC111117745 -1.198957    "
      ]
     },
     "metadata": {},
     "output_type": "display_data"
    }
   ],
   "source": [
    "# phase 1 warm vs. control\n",
    "p1wc <- select(p1_wc, gene, lfc) # creating new df\n",
    "colnames(p1wc) <- c('gene','p1wc_lfc') # renaming columns\n",
    "head(p1wc)\n",
    "\n",
    "# control control vs. hypoxic control\n",
    "p2control <- select(p1ch_p2c, gene, lfc) # creating new df\n",
    "colnames(p2control) <- c('gene', 'p2control_lfc') # renaming columns\n",
    "head(p2control)"
   ]
  },
  {
   "cell_type": "code",
   "execution_count": 19,
   "id": "1044f72c-7c1f-49d8-a96c-4211262fcff7",
   "metadata": {},
   "outputs": [
    {
     "data": {
      "text/html": [
       "<table class=\"dataframe\">\n",
       "<caption>A data.frame: 1 × 2</caption>\n",
       "<thead>\n",
       "\t<tr><th></th><th scope=col>gene</th><th scope=col>p1wc_lfc</th></tr>\n",
       "\t<tr><th></th><th scope=col>&lt;chr&gt;</th><th scope=col>&lt;dbl&gt;</th></tr>\n",
       "</thead>\n",
       "<tbody>\n",
       "\t<tr><th scope=row>191</th><td>LOC111133874</td><td>2.115977</td></tr>\n",
       "</tbody>\n",
       "</table>\n"
      ],
      "text/latex": [
       "A data.frame: 1 × 2\n",
       "\\begin{tabular}{r|ll}\n",
       "  & gene & p1wc\\_lfc\\\\\n",
       "  & <chr> & <dbl>\\\\\n",
       "\\hline\n",
       "\t191 & LOC111133874 & 2.115977\\\\\n",
       "\\end{tabular}\n"
      ],
      "text/markdown": [
       "\n",
       "A data.frame: 1 × 2\n",
       "\n",
       "| <!--/--> | gene &lt;chr&gt; | p1wc_lfc &lt;dbl&gt; |\n",
       "|---|---|---|\n",
       "| 191 | LOC111133874 | 2.115977 |\n",
       "\n"
      ],
      "text/plain": [
       "    gene         p1wc_lfc\n",
       "191 LOC111133874 2.115977"
      ]
     },
     "metadata": {},
     "output_type": "display_data"
    },
    {
     "data": {
      "text/html": [
       "<table class=\"dataframe\">\n",
       "<caption>A data.frame: 1 × 2</caption>\n",
       "<thead>\n",
       "\t<tr><th></th><th scope=col>gene</th><th scope=col>p2control_lfc</th></tr>\n",
       "\t<tr><th></th><th scope=col>&lt;chr&gt;</th><th scope=col>&lt;dbl&gt;</th></tr>\n",
       "</thead>\n",
       "<tbody>\n",
       "\t<tr><th scope=row>8</th><td>LOC111133874</td><td>-1.008349</td></tr>\n",
       "</tbody>\n",
       "</table>\n"
      ],
      "text/latex": [
       "A data.frame: 1 × 2\n",
       "\\begin{tabular}{r|ll}\n",
       "  & gene & p2control\\_lfc\\\\\n",
       "  & <chr> & <dbl>\\\\\n",
       "\\hline\n",
       "\t8 & LOC111133874 & -1.008349\\\\\n",
       "\\end{tabular}\n"
      ],
      "text/markdown": [
       "\n",
       "A data.frame: 1 × 2\n",
       "\n",
       "| <!--/--> | gene &lt;chr&gt; | p2control_lfc &lt;dbl&gt; |\n",
       "|---|---|---|\n",
       "| 8 | LOC111133874 | -1.008349 |\n",
       "\n"
      ],
      "text/plain": [
       "  gene         p2control_lfc\n",
       "8 LOC111133874 -1.008349    "
      ]
     },
     "metadata": {},
     "output_type": "display_data"
    }
   ],
   "source": [
    "# finding the 5 genes that are shared sig DMGs\n",
    "p1wc[p1wc$gene %in% p2control$gene,]\n",
    "\n",
    "p2control[p2control$gene %in% p1wc$gene,]"
   ]
  },
  {
   "cell_type": "markdown",
   "id": "2eae0d41-16bd-4d66-ba88-a6d7dc12aa31",
   "metadata": {},
   "source": [
    "LOC111133874 - uncharacterized protein\n",
    "\n",
    "on NCBI blast - all hits for ncRNAs\n",
    "\n",
    "now looking at the 5 genes shared between **phase 1 warm vs. control** and **hypoxic control vs. hypoxic hypoxic**"
   ]
  },
  {
   "cell_type": "code",
   "execution_count": 20,
   "id": "0c9a4ba0-15bf-4c4e-a435-696bc3e0a216",
   "metadata": {},
   "outputs": [
    {
     "data": {
      "text/html": [
       "<table class=\"dataframe\">\n",
       "<caption>A data.frame: 5 × 3</caption>\n",
       "<thead>\n",
       "\t<tr><th scope=col>gene</th><th scope=col>p1wc_lfc</th><th scope=col>p1hypoxic_lfc_lfc</th></tr>\n",
       "\t<tr><th scope=col>&lt;chr&gt;</th><th scope=col>&lt;dbl&gt;</th><th scope=col>&lt;dbl&gt;</th></tr>\n",
       "</thead>\n",
       "<tbody>\n",
       "\t<tr><td>LOC111110427</td><td>1.977057</td><td> 0.8826753</td></tr>\n",
       "\t<tr><td>LOC111112560</td><td>2.205710</td><td> 2.2036251</td></tr>\n",
       "\t<tr><td>LOC111123203</td><td>2.361136</td><td>-1.2882130</td></tr>\n",
       "\t<tr><td>LOC111123963</td><td>2.239342</td><td> 1.0413384</td></tr>\n",
       "\t<tr><td>LOC111136073</td><td>1.833995</td><td>-0.8568357</td></tr>\n",
       "</tbody>\n",
       "</table>\n"
      ],
      "text/latex": [
       "A data.frame: 5 × 3\n",
       "\\begin{tabular}{lll}\n",
       " gene & p1wc\\_lfc & p1hypoxic\\_lfc\\_lfc\\\\\n",
       " <chr> & <dbl> & <dbl>\\\\\n",
       "\\hline\n",
       "\t LOC111110427 & 1.977057 &  0.8826753\\\\\n",
       "\t LOC111112560 & 2.205710 &  2.2036251\\\\\n",
       "\t LOC111123203 & 2.361136 & -1.2882130\\\\\n",
       "\t LOC111123963 & 2.239342 &  1.0413384\\\\\n",
       "\t LOC111136073 & 1.833995 & -0.8568357\\\\\n",
       "\\end{tabular}\n"
      ],
      "text/markdown": [
       "\n",
       "A data.frame: 5 × 3\n",
       "\n",
       "| gene &lt;chr&gt; | p1wc_lfc &lt;dbl&gt; | p1hypoxic_lfc_lfc &lt;dbl&gt; |\n",
       "|---|---|---|\n",
       "| LOC111110427 | 1.977057 |  0.8826753 |\n",
       "| LOC111112560 | 2.205710 |  2.2036251 |\n",
       "| LOC111123203 | 2.361136 | -1.2882130 |\n",
       "| LOC111123963 | 2.239342 |  1.0413384 |\n",
       "| LOC111136073 | 1.833995 | -0.8568357 |\n",
       "\n"
      ],
      "text/plain": [
       "  gene         p1wc_lfc p1hypoxic_lfc_lfc\n",
       "1 LOC111110427 1.977057  0.8826753       \n",
       "2 LOC111112560 2.205710  2.2036251       \n",
       "3 LOC111123203 2.361136 -1.2882130       \n",
       "4 LOC111123963 2.239342  1.0413384       \n",
       "5 LOC111136073 1.833995 -0.8568357       "
      ]
     },
     "metadata": {},
     "output_type": "display_data"
    }
   ],
   "source": [
    "# control control vs. hypoxic control\n",
    "p1hypoxic <- select(p1h_p2hc, gene, lfc) # creating new df\n",
    "colnames(p1hypoxic) <- c('gene', 'p1hypoxic_lfc_lfc') # renaming columns\n",
    "\n",
    "five_gene_1 <- p1wc[p1wc$gene %in% p1hypoxic$gene,] # all 5 are more methylated in phase 1 warm\n",
    "\n",
    "five_gene_2 <- p1hypoxic[p1hypoxic$gene %in% p1wc$gene,]\n",
    "\n",
    "df <- merge(five_gene_1, five_gene_2, by = 'gene')\n",
    "\n",
    "df"
   ]
  },
  {
   "cell_type": "markdown",
   "id": "c4124c57-e49d-4b97-84eb-2b157322f954",
   "metadata": {},
   "source": [
    "found a lot of DMGs when comparing effect of phase 2 hypoxia vs. control (when ignoring phase 1 treatment) - was wondering if there were DMGs that overlapped with the other pairwise comparisons"
   ]
  },
  {
   "cell_type": "code",
   "execution_count": 13,
   "id": "35e1d92b-3519-4c16-abf3-a9c72e6669e9",
   "metadata": {},
   "outputs": [
    {
     "data": {
      "image/png": "[encoded data removed]",
      "text/plain": [
       "plot without title"
      ]
     },
     "metadata": {
      "image/png": {
       "height": 300,
       "width": 900
      }
     },
     "output_type": "display_data"
    }
   ],
   "source": [
    "options(repr.plot.width=15, repr.plot.height=5)\n",
    "\n",
    "x = list(A = p2ch_genes,\n",
    "         B = p1c_p2hc_genes, \n",
    "         C = p1h_p2hc_genes, \n",
    "         D = p1ch_p2c_genes)\n",
    "\n",
    "names(x) <- c('P2\\n C vs. H',\n",
    "              'CH vs. CC',\n",
    "              'HC vs. HH',\n",
    "              'HC vs. CC')\n",
    "\n",
    "ggvenn(x,\n",
    "      set_name_size = 6,\n",
    "       text_size = 7,\n",
    "      stroke_size = 0.5, \n",
    "       show_percentage = FALSE)"
   ]
  },
  {
   "cell_type": "markdown",
   "id": "87c5b691-b8db-4764-841f-cc8fc6f58e41",
   "metadata": {},
   "source": [
    "really interesting - there's 18 genes that are shared between HC vs. HH and phase 2 C vs. H - want to look into the directionality of those 18 and what they are"
   ]
  },
  {
   "cell_type": "code",
   "execution_count": 16,
   "id": "bcdcc008-64c6-4cb7-ad4d-03513380d4f7",
   "metadata": {},
   "outputs": [
    {
     "data": {
      "text/html": [
       "<table class=\"dataframe\">\n",
       "<caption>A data.frame: 6 × 2</caption>\n",
       "<thead>\n",
       "\t<tr><th></th><th scope=col>gene</th><th scope=col>p2ch_lfc</th></tr>\n",
       "\t<tr><th></th><th scope=col>&lt;chr&gt;</th><th scope=col>&lt;dbl&gt;</th></tr>\n",
       "</thead>\n",
       "<tbody>\n",
       "\t<tr><th scope=row>2</th><td>LOC111108235</td><td>1.744852</td></tr>\n",
       "\t<tr><th scope=row>8</th><td>LOC111131029</td><td>1.552122</td></tr>\n",
       "\t<tr><th scope=row>18</th><td>LOC111108786</td><td>1.413823</td></tr>\n",
       "\t<tr><th scope=row>4</th><td>LOC111119407</td><td>1.383288</td></tr>\n",
       "\t<tr><th scope=row>12</th><td>LOC111130099</td><td>1.318371</td></tr>\n",
       "\t<tr><th scope=row>5</th><td>LOC111121187</td><td>1.295148</td></tr>\n",
       "</tbody>\n",
       "</table>\n"
      ],
      "text/latex": [
       "A data.frame: 6 × 2\n",
       "\\begin{tabular}{r|ll}\n",
       "  & gene & p2ch\\_lfc\\\\\n",
       "  & <chr> & <dbl>\\\\\n",
       "\\hline\n",
       "\t2 & LOC111108235 & 1.744852\\\\\n",
       "\t8 & LOC111131029 & 1.552122\\\\\n",
       "\t18 & LOC111108786 & 1.413823\\\\\n",
       "\t4 & LOC111119407 & 1.383288\\\\\n",
       "\t12 & LOC111130099 & 1.318371\\\\\n",
       "\t5 & LOC111121187 & 1.295148\\\\\n",
       "\\end{tabular}\n"
      ],
      "text/markdown": [
       "\n",
       "A data.frame: 6 × 2\n",
       "\n",
       "| <!--/--> | gene &lt;chr&gt; | p2ch_lfc &lt;dbl&gt; |\n",
       "|---|---|---|\n",
       "| 2 | LOC111108235 | 1.744852 |\n",
       "| 8 | LOC111131029 | 1.552122 |\n",
       "| 18 | LOC111108786 | 1.413823 |\n",
       "| 4 | LOC111119407 | 1.383288 |\n",
       "| 12 | LOC111130099 | 1.318371 |\n",
       "| 5 | LOC111121187 | 1.295148 |\n",
       "\n"
      ],
      "text/plain": [
       "   gene         p2ch_lfc\n",
       "2  LOC111108235 1.744852\n",
       "8  LOC111131029 1.552122\n",
       "18 LOC111108786 1.413823\n",
       "4  LOC111119407 1.383288\n",
       "12 LOC111130099 1.318371\n",
       "5  LOC111121187 1.295148"
      ]
     },
     "metadata": {},
     "output_type": "display_data"
    },
    {
     "data": {
      "text/html": [
       "<table class=\"dataframe\">\n",
       "<caption>A data.frame: 6 × 2</caption>\n",
       "<thead>\n",
       "\t<tr><th></th><th scope=col>gene</th><th scope=col>p1hypoxic_lfc</th></tr>\n",
       "\t<tr><th></th><th scope=col>&lt;chr&gt;</th><th scope=col>&lt;dbl&gt;</th></tr>\n",
       "</thead>\n",
       "<tbody>\n",
       "\t<tr><th scope=row>25</th><td>LOC111108235</td><td>2.953389</td></tr>\n",
       "\t<tr><th scope=row>213</th><td>LOC111109525</td><td>2.397251</td></tr>\n",
       "\t<tr><th scope=row>70</th><td>LOC111124824</td><td>2.394202</td></tr>\n",
       "\t<tr><th scope=row>153</th><td>LOC111133240</td><td>2.304038</td></tr>\n",
       "\t<tr><th scope=row>52</th><td>LOC111119327</td><td>2.243978</td></tr>\n",
       "\t<tr><th scope=row>138</th><td>LOC111130099</td><td>2.236989</td></tr>\n",
       "</tbody>\n",
       "</table>\n"
      ],
      "text/latex": [
       "A data.frame: 6 × 2\n",
       "\\begin{tabular}{r|ll}\n",
       "  & gene & p1hypoxic\\_lfc\\\\\n",
       "  & <chr> & <dbl>\\\\\n",
       "\\hline\n",
       "\t25 & LOC111108235 & 2.953389\\\\\n",
       "\t213 & LOC111109525 & 2.397251\\\\\n",
       "\t70 & LOC111124824 & 2.394202\\\\\n",
       "\t153 & LOC111133240 & 2.304038\\\\\n",
       "\t52 & LOC111119327 & 2.243978\\\\\n",
       "\t138 & LOC111130099 & 2.236989\\\\\n",
       "\\end{tabular}\n"
      ],
      "text/markdown": [
       "\n",
       "A data.frame: 6 × 2\n",
       "\n",
       "| <!--/--> | gene &lt;chr&gt; | p1hypoxic_lfc &lt;dbl&gt; |\n",
       "|---|---|---|\n",
       "| 25 | LOC111108235 | 2.953389 |\n",
       "| 213 | LOC111109525 | 2.397251 |\n",
       "| 70 | LOC111124824 | 2.394202 |\n",
       "| 153 | LOC111133240 | 2.304038 |\n",
       "| 52 | LOC111119327 | 2.243978 |\n",
       "| 138 | LOC111130099 | 2.236989 |\n",
       "\n"
      ],
      "text/plain": [
       "    gene         p1hypoxic_lfc\n",
       "25  LOC111108235 2.953389     \n",
       "213 LOC111109525 2.397251     \n",
       "70  LOC111124824 2.394202     \n",
       "153 LOC111133240 2.304038     \n",
       "52  LOC111119327 2.243978     \n",
       "138 LOC111130099 2.236989     "
      ]
     },
     "metadata": {},
     "output_type": "display_data"
    }
   ],
   "source": [
    "# phase 2 control vs. hypoxia\n",
    "p2ch <- select(p2_ch, gene, lfc) # creating new df\n",
    "colnames(p2ch) <- c('gene','p2ch_lfc') # renaming columns\n",
    "head(p2ch)\n",
    "\n",
    "# hypoxic control vs. hypoxic hypoxic\n",
    "p1hypoxic <- select(p1h_p2hc, gene, lfc) # creating new df\n",
    "colnames(p1hypoxic) <- c('gene', 'p1hypoxic_lfc') # renaming columns\n",
    "head(p1hypoxic)"
   ]
  },
  {
   "cell_type": "code",
   "execution_count": 18,
   "id": "b19a2fe9-41cd-49f1-8246-e393db5b07eb",
   "metadata": {},
   "outputs": [
    {
     "data": {
      "text/html": [
       "<table class=\"dataframe\">\n",
       "<caption>A data.frame: 18 × 3</caption>\n",
       "<thead>\n",
       "\t<tr><th scope=col>gene</th><th scope=col>p2ch_lfc</th><th scope=col>p1hypoxic_lfc</th></tr>\n",
       "\t<tr><th scope=col>&lt;chr&gt;</th><th scope=col>&lt;dbl&gt;</th><th scope=col>&lt;dbl&gt;</th></tr>\n",
       "</thead>\n",
       "<tbody>\n",
       "\t<tr><td>LOC111099571</td><td> 1.2377720</td><td> 2.039141</td></tr>\n",
       "\t<tr><td>LOC111099928</td><td> 1.1798919</td><td> 1.374668</td></tr>\n",
       "\t<tr><td>LOC111101237</td><td> 0.9376234</td><td> 1.233803</td></tr>\n",
       "\t<tr><td>LOC111108235</td><td> 1.7448522</td><td> 2.953389</td></tr>\n",
       "\t<tr><td>LOC111108786</td><td> 1.4138225</td><td> 1.743686</td></tr>\n",
       "\t<tr><td>LOC111115224</td><td>-1.5793315</td><td>-2.113262</td></tr>\n",
       "\t<tr><td>LOC111117306</td><td>-1.6160435</td><td>-2.209766</td></tr>\n",
       "\t<tr><td>LOC111119407</td><td> 1.3832883</td><td> 1.852299</td></tr>\n",
       "\t<tr><td>LOC111121187</td><td> 1.2951484</td><td> 1.771700</td></tr>\n",
       "\t<tr><td>LOC111126815</td><td> 1.0617974</td><td> 1.193135</td></tr>\n",
       "\t<tr><td>LOC111128157</td><td>-1.1952476</td><td>-1.384626</td></tr>\n",
       "\t<tr><td>LOC111130099</td><td> 1.3183707</td><td> 2.236989</td></tr>\n",
       "\t<tr><td>LOC111130485</td><td> 0.9961939</td><td> 1.199339</td></tr>\n",
       "\t<tr><td>LOC111130551</td><td> 1.2683180</td><td> 1.400899</td></tr>\n",
       "\t<tr><td>LOC111131029</td><td> 1.5521224</td><td> 1.827067</td></tr>\n",
       "\t<tr><td>LOC111132268</td><td>-1.3573269</td><td>-1.502677</td></tr>\n",
       "\t<tr><td>LOC111135380</td><td> 1.0792379</td><td> 1.364044</td></tr>\n",
       "\t<tr><td>LOC111138068</td><td>-1.2163136</td><td>-1.275937</td></tr>\n",
       "</tbody>\n",
       "</table>\n"
      ],
      "text/latex": [
       "A data.frame: 18 × 3\n",
       "\\begin{tabular}{lll}\n",
       " gene & p2ch\\_lfc & p1hypoxic\\_lfc\\\\\n",
       " <chr> & <dbl> & <dbl>\\\\\n",
       "\\hline\n",
       "\t LOC111099571 &  1.2377720 &  2.039141\\\\\n",
       "\t LOC111099928 &  1.1798919 &  1.374668\\\\\n",
       "\t LOC111101237 &  0.9376234 &  1.233803\\\\\n",
       "\t LOC111108235 &  1.7448522 &  2.953389\\\\\n",
       "\t LOC111108786 &  1.4138225 &  1.743686\\\\\n",
       "\t LOC111115224 & -1.5793315 & -2.113262\\\\\n",
       "\t LOC111117306 & -1.6160435 & -2.209766\\\\\n",
       "\t LOC111119407 &  1.3832883 &  1.852299\\\\\n",
       "\t LOC111121187 &  1.2951484 &  1.771700\\\\\n",
       "\t LOC111126815 &  1.0617974 &  1.193135\\\\\n",
       "\t LOC111128157 & -1.1952476 & -1.384626\\\\\n",
       "\t LOC111130099 &  1.3183707 &  2.236989\\\\\n",
       "\t LOC111130485 &  0.9961939 &  1.199339\\\\\n",
       "\t LOC111130551 &  1.2683180 &  1.400899\\\\\n",
       "\t LOC111131029 &  1.5521224 &  1.827067\\\\\n",
       "\t LOC111132268 & -1.3573269 & -1.502677\\\\\n",
       "\t LOC111135380 &  1.0792379 &  1.364044\\\\\n",
       "\t LOC111138068 & -1.2163136 & -1.275937\\\\\n",
       "\\end{tabular}\n"
      ],
      "text/markdown": [
       "\n",
       "A data.frame: 18 × 3\n",
       "\n",
       "| gene &lt;chr&gt; | p2ch_lfc &lt;dbl&gt; | p1hypoxic_lfc &lt;dbl&gt; |\n",
       "|---|---|---|\n",
       "| LOC111099571 |  1.2377720 |  2.039141 |\n",
       "| LOC111099928 |  1.1798919 |  1.374668 |\n",
       "| LOC111101237 |  0.9376234 |  1.233803 |\n",
       "| LOC111108235 |  1.7448522 |  2.953389 |\n",
       "| LOC111108786 |  1.4138225 |  1.743686 |\n",
       "| LOC111115224 | -1.5793315 | -2.113262 |\n",
       "| LOC111117306 | -1.6160435 | -2.209766 |\n",
       "| LOC111119407 |  1.3832883 |  1.852299 |\n",
       "| LOC111121187 |  1.2951484 |  1.771700 |\n",
       "| LOC111126815 |  1.0617974 |  1.193135 |\n",
       "| LOC111128157 | -1.1952476 | -1.384626 |\n",
       "| LOC111130099 |  1.3183707 |  2.236989 |\n",
       "| LOC111130485 |  0.9961939 |  1.199339 |\n",
       "| LOC111130551 |  1.2683180 |  1.400899 |\n",
       "| LOC111131029 |  1.5521224 |  1.827067 |\n",
       "| LOC111132268 | -1.3573269 | -1.502677 |\n",
       "| LOC111135380 |  1.0792379 |  1.364044 |\n",
       "| LOC111138068 | -1.2163136 | -1.275937 |\n",
       "\n"
      ],
      "text/plain": [
       "   gene         p2ch_lfc   p1hypoxic_lfc\n",
       "1  LOC111099571  1.2377720  2.039141    \n",
       "2  LOC111099928  1.1798919  1.374668    \n",
       "3  LOC111101237  0.9376234  1.233803    \n",
       "4  LOC111108235  1.7448522  2.953389    \n",
       "5  LOC111108786  1.4138225  1.743686    \n",
       "6  LOC111115224 -1.5793315 -2.113262    \n",
       "7  LOC111117306 -1.6160435 -2.209766    \n",
       "8  LOC111119407  1.3832883  1.852299    \n",
       "9  LOC111121187  1.2951484  1.771700    \n",
       "10 LOC111126815  1.0617974  1.193135    \n",
       "11 LOC111128157 -1.1952476 -1.384626    \n",
       "12 LOC111130099  1.3183707  2.236989    \n",
       "13 LOC111130485  0.9961939  1.199339    \n",
       "14 LOC111130551  1.2683180  1.400899    \n",
       "15 LOC111131029  1.5521224  1.827067    \n",
       "16 LOC111132268 -1.3573269 -1.502677    \n",
       "17 LOC111135380  1.0792379  1.364044    \n",
       "18 LOC111138068 -1.2163136 -1.275937    "
      ]
     },
     "metadata": {},
     "output_type": "display_data"
    }
   ],
   "source": [
    "# finding the 18 genes that are shared sig DMGs\n",
    "df1 <- p2ch[p2ch$gene %in% p1hypoxic$gene,]\n",
    "\n",
    "df2 <- p1hypoxic[p1hypoxic$gene %in% p2ch$gene,]\n",
    "\n",
    "merge_18 <- merge(df1, df2, by='gene')\n",
    "merge_18"
   ]
  },
  {
   "cell_type": "code",
   "execution_count": 20,
   "id": "659cab2e-3f82-4e1a-b8f2-daf3fec44267",
   "metadata": {},
   "outputs": [
    {
     "data": {
      "text/html": [
       "<table class=\"dataframe\">\n",
       "<caption>A data.frame: 2 × 2</caption>\n",
       "<thead>\n",
       "\t<tr><th></th><th scope=col>gene</th><th scope=col>p2ch_lfc</th></tr>\n",
       "\t<tr><th></th><th scope=col>&lt;chr&gt;</th><th scope=col>&lt;dbl&gt;</th></tr>\n",
       "</thead>\n",
       "<tbody>\n",
       "\t<tr><th scope=row>6</th><td>LOC111122604</td><td>1.0552744</td></tr>\n",
       "\t<tr><th scope=row>19</th><td>LOC111117764</td><td>0.9598059</td></tr>\n",
       "</tbody>\n",
       "</table>\n"
      ],
      "text/latex": [
       "A data.frame: 2 × 2\n",
       "\\begin{tabular}{r|ll}\n",
       "  & gene & p2ch\\_lfc\\\\\n",
       "  & <chr> & <dbl>\\\\\n",
       "\\hline\n",
       "\t6 & LOC111122604 & 1.0552744\\\\\n",
       "\t19 & LOC111117764 & 0.9598059\\\\\n",
       "\\end{tabular}\n"
      ],
      "text/markdown": [
       "\n",
       "A data.frame: 2 × 2\n",
       "\n",
       "| <!--/--> | gene &lt;chr&gt; | p2ch_lfc &lt;dbl&gt; |\n",
       "|---|---|---|\n",
       "| 6 | LOC111122604 | 1.0552744 |\n",
       "| 19 | LOC111117764 | 0.9598059 |\n",
       "\n"
      ],
      "text/plain": [
       "   gene         p2ch_lfc \n",
       "6  LOC111122604 1.0552744\n",
       "19 LOC111117764 0.9598059"
      ]
     },
     "metadata": {},
     "output_type": "display_data"
    }
   ],
   "source": [
    "# looking at the 2 genes that don't match for phase 2 C vs H\n",
    "p2ch[!p2ch$gene %in% p1hypoxic$gene,]\n",
    "# they're both differentially methylated more in phase 2 hypoxia"
   ]
  },
  {
   "cell_type": "code",
   "execution_count": 19,
   "id": "1239f388-1e60-441a-a835-851300265588",
   "metadata": {},
   "outputs": [],
   "source": [
    "write.csv(merge_18, '/project/pi_sarah_gignouxwolfsohn_uml_edu/julia/CE_MethylRAD_analysis_2018/analysis/significant_genes/18_shared_genes.csv')"
   ]
  }
 ],
 "metadata": {
  "kernelspec": {
   "display_name": "R [conda env:.conda-r-env]",
   "language": "R",
   "name": "conda-env-.conda-r-env-r"
  },
  "language_info": {
   "codemirror_mode": "r",
   "file_extension": ".r",
   "mimetype": "text/x-r-source",
   "name": "R",
   "pygments_lexer": "r",
   "version": "4.3.2"
  }
 },
 "nbformat": 4,
 "nbformat_minor": 5
}
