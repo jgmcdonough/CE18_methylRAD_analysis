{
 "cells": [
  {
   "cell_type": "markdown",
   "id": "012b9c5f-be28-455a-8f93-259c054e5e85",
   "metadata": {},
   "source": [
    "## featureCounts from Rsubread package to generate counts matrix"
   ]
  },
  {
   "cell_type": "markdown",
   "id": "bf6db53f-e8ad-4146-824c-71edd8de943b",
   "metadata": {},
   "source": [
    "# I. Generating featureCounts Matrices"
   ]
  },
  {
   "cell_type": "markdown",
   "id": "3b9a9e01-8143-4245-94bb-eadf01846d8e",
   "metadata": {},
   "source": [
    "code to install Rsubread \n",
    "\n",
    "```BiocManager::install(\"Rsubread\") ```\n",
    "\n",
    "only need to install once, then just load everytime"
   ]
  },
  {
   "cell_type": "code",
   "execution_count": 18,
   "id": "a0497802-9e60-43d7-a1c5-c7180105f1fd",
   "metadata": {},
   "outputs": [],
   "source": [
    "library(Rsubread)\n",
    "library(tidyverse)\n",
    "library(DESeq2)\n",
    "library(EnhancedVolcano)\n",
    "library(dplyr)\n",
    "library(data.table)"
   ]
  },
  {
   "cell_type": "markdown",
   "id": "95f6eb26-bc22-44d8-925e-4a0220366c6f",
   "metadata": {},
   "source": [
    "following [example script](https://www.rdocumentation.org/packages/Rsubread/versions/1.22.2/topics/featureCounts)\n",
    "\n",
    "first need to create a variable that contains all of the SAM files for input of featureCounts"
   ]
  },
  {
   "cell_type": "code",
   "execution_count": 3,
   "id": "e784d556-119c-4529-9cff-8b8676d70a49",
   "metadata": {},
   "outputs": [],
   "source": [
    "# setting variable files to include all SAM files\n",
    "setwd('/project/pi_sarah_gignouxwolfsohn_uml_edu/julia/CE_methyl_assembly/assembly_pipeline_files/sam_files')\n",
    "files <- c('2018--BBB-WBO-B21-CV_alignment.sam','2018--BPO-BPO-O16-CV_alignment.sam','2018--WBR-BBY-W25-CV_alignment.sam',\n",
    "'2018--BBB-WBV-B70-CV_alignment.sam',  '2018--BPR-BPG-O38-CV_alignment.sam',  '2018--WBV-WBO-W23-CV_alignment.sam',\n",
    "'2018--BBO-BBO-B16-CV_alignment.sam',  '2018--BPR-BPR-O02-CV_alignment.sam',  '2018--WBV-WBR-W12-CV_alignment.sam',\n",
    "'2018--BBO-BBY-B27-CV_alignment.sam',  '2018--BPY-BPG-O42-CV_alignment.sam',  '2018--WBY-BBV-W65-CV_alignment.sam',\n",
    "'2018--BBO-WBO-B16-CV_alignment.sam',  '2018--BPY-BPY-O29-CV_alignment.sam',  '2018--WBY-BBY-W30-CV_alignment.sam',\n",
    "'2018--BBO-WBV-B64-CV_alignment.sam',  '2018--WBB-WBV-W69-CV_alignment.sam',  '2018--WPB-BPG-G45-CV_alignment.sam',\n",
    "'2018--BBR-BBB-B50-CV_alignment.sam',  '2018--WBG-BBB-W56-CV_alignment.sam',  '2018--WPO-BPO-G16-CV_alignment.sam',\n",
    "'2018--BBR-BBG-B38-CV_alignment.sam',  '2018--WBG-WBG-W44-CV_alignment.sam',  '2018--WPO-BPY-G28-CV_alignment.sam',\n",
    "'2018--BBR-BBY-B26-CV_alignment.sam',  '2018--WBO-BBR-W03-CV_alignment.sam',  '2018--WPR-BPY-G25-CV_alignment.sam',\n",
    "'2018--BBY-WBG-B42-CV_alignment.sam',  '2018--WBO-WBV-W64-CV_alignment.sam',  '2018--WPV-BPR-G11-CV_alignment.sam')\n",
    "gtf_file <- \"/project/pi_sarah_gignouxwolfsohn_uml_edu/Reference_genomes/genomic.gtf\""
   ]
  },
  {
   "cell_type": "markdown",
   "id": "8a8d6604-e76a-425e-a4d9-eba73a6cd4df",
   "metadata": {},
   "source": [
    "I was getting an error in my featureCounts script for a while about it not being able to read the 9th column to find gene_id, even though it was there. After some googling, found out that featureCounts will not work if there are empty entries for gene_id - have to remove any row that doesn't have an input for gene_id\n",
    "\n",
    "#### removing rows that don't have gene_id entries \n",
    "**RUN THIS CODE IN COMMAND LINE**\n",
    "\n",
    "```grep 'gene_id \"\"' genomic.gtf ```\n",
    "\n",
    "```grep -v 'gene_id \"\"' genomic.gtf > fixed_CV_annotation.gtf```"
   ]
  },
  {
   "cell_type": "code",
   "execution_count": 4,
   "id": "18c6bb37-e8bf-4e4c-b924-85bedcdf3d17",
   "metadata": {},
   "outputs": [],
   "source": [
    "# now resetting gtf_file variable\n",
    "gtf_file <- \"/project/pi_sarah_gignouxwolfsohn_uml_edu/Reference_genomes/fixed_CV_annotation.gtf\""
   ]
  },
  {
   "cell_type": "markdown",
   "id": "f34e1e42-2894-426d-a8ca-2940a587e58a",
   "metadata": {},
   "source": [
    "#### featureCounts on Meta-Features\n",
    "\n",
    "running actual featureCounts function on SAM files - counts for meta-features (e.g. genes)\n",
    "\n",
    "can skip the two code blocks that actually run featureCounts -> since now we have the files and can just read them in"
   ]
  },
  {
   "cell_type": "code",
   "execution_count": 4,
   "id": "18297f92-73f7-46b0-802d-f1fea67fdc74",
   "metadata": {},
   "outputs": [
    {
     "name": "stdout",
     "output_type": "stream",
     "text": [
      "\n",
      "        ==========     _____ _    _ ____  _____  ______          _____  \n",
      "        =====         / ____| |  | |  _ \\|  __ \\|  ____|   /\\   |  __ \\ \n",
      "          =====      | (___ | |  | | |_) | |__) | |__     /  \\  | |  | |\n",
      "            ====      \\___ \\| |  | |  _ <|  _  /|  __|   / /\\ \\ | |  | |\n",
      "              ====    ____) | |__| | |_) | | \\ \\| |____ / ____ \\| |__| |\n",
      "        ==========   |_____/ \\____/|____/|_|  \\_\\______/_/    \\_\\_____/\n",
      "       Rsubread 2.16.1\n",
      "\n",
      "//========================== featureCounts setting ===========================\\\\\n",
      "||                                                                            ||\n",
      "||             Input files : 30 SAM files                                     ||\n",
      "||                                                                            ||\n",
      "||                           2018--BBB-WBO-B21-CV_alignment.sam               ||\n",
      "||                           2018--BPO-BPO-O16-CV_alignment.sam               ||\n",
      "||                           2018--WBR-BBY-W25-CV_alignment.sam               ||\n",
      "||                           2018--BBB-WBV-B70-CV_alignment.sam               ||\n",
      "||                           2018--BPR-BPG-O38-CV_alignment.sam               ||\n",
      "||                           2018--WBV-WBO-W23-CV_alignment.sam               ||\n",
      "||                           2018--BBO-BBO-B16-CV_alignment.sam               ||\n",
      "||                           2018--BPR-BPR-O02-CV_alignment.sam               ||\n",
      "||                           2018--WBV-WBR-W12-CV_alignment.sam               ||\n",
      "||                           2018--BBO-BBY-B27-CV_alignment.sam               ||\n",
      "||                           2018--BPY-BPG-O42-CV_alignment.sam               ||\n",
      "||                           2018--WBY-BBV-W65-CV_alignment.sam               ||\n",
      "||                           2018--BBO-WBO-B16-CV_alignment.sam               ||\n",
      "||                           2018--BPY-BPY-O29-CV_alignment.sam               ||\n",
      "||                           2018--WBY-BBY-W30-CV_alignment.sam               ||\n",
      "||                           2018--BBO-WBV-B64-CV_alignment.sam               ||\n",
      "||                           2018--WBB-WBV-W69-CV_alignment.sam               ||\n",
      "||                           2018--WPB-BPG-G45-CV_alignment.sam               ||\n",
      "||                           2018--BBR-BBB-B50-CV_alignment.sam               ||\n",
      "||                           2018--WBG-BBB-W56-CV_alignment.sam               ||\n",
      "||                           2018--WPO-BPO-G16-CV_alignment.sam               ||\n",
      "||                           2018--BBR-BBG-B38-CV_alignment.sam               ||\n",
      "||                           2018--WBG-WBG-W44-CV_alignment.sam               ||\n",
      "||                           2018--WPO-BPY-G28-CV_alignment.sam               ||\n",
      "||                           2018--BBR-BBY-B26-CV_alignment.sam               ||\n",
      "||                           2018--WBO-BBR-W03-CV_alignment.sam               ||\n",
      "||                           2018--WPR-BPY-G25-CV_alignment.sam               ||\n",
      "||                           2018--BBY-WBG-B42-CV_alignment.sam               ||\n",
      "||                           2018--WBO-WBV-W64-CV_alignment.sam               ||\n",
      "||                           2018--WPV-BPR-G11-CV_alignment.sam               ||\n",
      "||                                                                            ||\n",
      "||              Paired-end : yes                                              ||\n",
      "||        Count read pairs : yes                                              ||\n",
      "||              Annotation : fixed_CV_annotation.gtf (GTF)                    ||\n",
      "||      Dir for temp files : .                                                ||\n",
      "||                 Threads : 1                                                ||\n",
      "||                   Level : meta-feature level                               ||\n",
      "||      Multimapping reads : counted                                          ||\n",
      "|| Multi-overlapping reads : not counted                                      ||\n",
      "||   Min overlapping bases : 1                                                ||\n",
      "||                                                                            ||\n",
      "\\\\============================================================================//\n",
      "\n",
      "//================================= Running ==================================\\\\\n",
      "||                                                                            ||\n",
      "|| Load annotation file fixed_CV_annotation.gtf ...                           ||\n",
      "||    Features : 726075                                                       ||\n",
      "||    Meta-features : 38828                                                   ||\n",
      "||    Chromosomes/contigs : 10                                                ||\n",
      "||                                                                            ||\n",
      "|| Process SAM file 2018--BBB-WBO-B21-CV_alignment.sam...                     ||\n",
      "||    Paired-end reads are included.                                          ||\n",
      "||    Total alignments : 1684235                                              ||\n",
      "||    Successfully assigned alignments : 902151 (53.6%)                       ||\n",
      "||    Running time : 0.20 minutes                                             ||\n",
      "||                                                                            ||\n",
      "|| Process SAM file 2018--BPO-BPO-O16-CV_alignment.sam...                     ||\n",
      "||    Paired-end reads are included.                                          ||\n",
      "||    Total alignments : 146792                                               ||\n",
      "||    Successfully assigned alignments : 75554 (51.5%)                        ||\n",
      "||    Running time : 0.02 minutes                                             ||\n",
      "||                                                                            ||\n",
      "|| Process SAM file 2018--WBR-BBY-W25-CV_alignment.sam...                     ||\n",
      "||    Paired-end reads are included.                                          ||\n",
      "||    Total alignments : 404385                                               ||\n",
      "||    Successfully assigned alignments : 214009 (52.9%)                       ||\n",
      "||    Running time : 0.06 minutes                                             ||\n",
      "||                                                                            ||\n",
      "|| Process SAM file 2018--BBB-WBV-B70-CV_alignment.sam...                     ||\n",
      "||    Paired-end reads are included.                                          ||\n",
      "||    Total alignments : 1486086                                              ||\n",
      "||    Successfully assigned alignments : 792007 (53.3%)                       ||\n",
      "||    Running time : 0.16 minutes                                             ||\n",
      "||                                                                            ||\n",
      "|| Process SAM file 2018--BPR-BPG-O38-CV_alignment.sam...                     ||\n",
      "||    Paired-end reads are included.                                          ||\n",
      "||    Total alignments : 778020                                               ||\n",
      "||    Successfully assigned alignments : 406878 (52.3%)                       ||\n",
      "||    Running time : 0.08 minutes                                             ||\n",
      "||                                                                            ||\n",
      "|| Process SAM file 2018--WBV-WBO-W23-CV_alignment.sam...                     ||\n",
      "||    Paired-end reads are included.                                          ||\n",
      "||    Total alignments : 448593                                               ||\n",
      "||    Successfully assigned alignments : 229680 (51.2%)                       ||\n",
      "||    Running time : 0.06 minutes                                             ||\n",
      "||                                                                            ||\n",
      "|| Process SAM file 2018--BBO-BBO-B16-CV_alignment.sam...                     ||\n",
      "||    Paired-end reads are included.                                          ||\n",
      "||    Total alignments : 1193396                                              ||\n",
      "||    Successfully assigned alignments : 626592 (52.5%)                       ||\n",
      "||    Running time : 0.15 minutes                                             ||\n",
      "||                                                                            ||\n",
      "|| Process SAM file 2018--BPR-BPR-O02-CV_alignment.sam...                     ||\n",
      "||    Paired-end reads are included.                                          ||\n",
      "||    Total alignments : 171814                                               ||\n",
      "||    Successfully assigned alignments : 88921 (51.8%)                        ||\n",
      "||    Running time : 0.02 minutes                                             ||\n",
      "||                                                                            ||\n",
      "|| Process SAM file 2018--WBV-WBR-W12-CV_alignment.sam...                     ||\n",
      "||    Paired-end reads are included.                                          ||\n",
      "||    Total alignments : 139082                                               ||\n",
      "||    Successfully assigned alignments : 71404 (51.3%)                        ||\n",
      "||    Running time : 0.02 minutes                                             ||\n",
      "||                                                                            ||\n",
      "|| Process SAM file 2018--BBO-BBY-B27-CV_alignment.sam...                     ||\n",
      "||    Paired-end reads are included.                                          ||\n",
      "||    Total alignments : 797969                                               ||\n",
      "||    Successfully assigned alignments : 422891 (53.0%)                       ||\n",
      "||    Running time : 0.10 minutes                                             ||\n",
      "||                                                                            ||\n",
      "|| Process SAM file 2018--BPY-BPG-O42-CV_alignment.sam...                     ||\n",
      "||    Paired-end reads are included.                                          ||\n",
      "||    Total alignments : 95294                                                ||\n",
      "||    Successfully assigned alignments : 50033 (52.5%)                        ||\n",
      "||    Running time : 0.01 minutes                                             ||\n",
      "||                                                                            ||\n",
      "|| Process SAM file 2018--WBY-BBV-W65-CV_alignment.sam...                     ||\n",
      "||    Paired-end reads are included.                                          ||\n",
      "||    Total alignments : 1103203                                              ||\n",
      "||    Successfully assigned alignments : 556085 (50.4%)                       ||\n",
      "||    Running time : 0.13 minutes                                             ||\n",
      "||                                                                            ||\n",
      "|| Process SAM file 2018--BBO-WBO-B16-CV_alignment.sam...                     ||\n",
      "||    Paired-end reads are included.                                          ||\n",
      "||    Total alignments : 1726200                                              ||\n",
      "||    Successfully assigned alignments : 917310 (53.1%)                       ||\n",
      "||    Running time : 0.21 minutes                                             ||\n",
      "||                                                                            ||\n",
      "|| Process SAM file 2018--BPY-BPY-O29-CV_alignment.sam...                     ||\n",
      "||    Paired-end reads are included.                                          ||\n",
      "||    Total alignments : 273327                                               ||\n",
      "||    Successfully assigned alignments : 140579 (51.4%)                       ||\n",
      "||    Running time : 0.03 minutes                                             ||\n",
      "||                                                                            ||\n",
      "|| Process SAM file 2018--WBY-BBY-W30-CV_alignment.sam...                     ||\n",
      "||    Paired-end reads are included.                                          ||\n",
      "||    Total alignments : 697638                                               ||\n",
      "||    Successfully assigned alignments : 366343 (52.5%)                       ||\n",
      "||    Running time : 0.08 minutes                                             ||\n",
      "||                                                                            ||\n",
      "|| Process SAM file 2018--BBO-WBV-B64-CV_alignment.sam...                     ||\n",
      "||    Paired-end reads are included.                                          ||\n",
      "||    Total alignments : 1570631                                              ||\n",
      "||    Successfully assigned alignments : 833253 (53.1%)                       ||\n",
      "||    Running time : 0.18 minutes                                             ||\n",
      "||                                                                            ||\n",
      "|| Process SAM file 2018--WBB-WBV-W69-CV_alignment.sam...                     ||\n",
      "||    Paired-end reads are included.                                          ||\n",
      "||    Total alignments : 1469541                                              ||\n",
      "||    Successfully assigned alignments : 754195 (51.3%)                       ||\n",
      "||    Running time : 0.18 minutes                                             ||\n",
      "||                                                                            ||\n",
      "|| Process SAM file 2018--WPB-BPG-G45-CV_alignment.sam...                     ||\n",
      "||    Paired-end reads are included.                                          ||\n",
      "||    Total alignments : 644648                                               ||\n",
      "||    Successfully assigned alignments : 328855 (51.0%)                       ||\n",
      "||    Running time : 0.08 minutes                                             ||\n",
      "||                                                                            ||\n",
      "|| Process SAM file 2018--BBR-BBB-B50-CV_alignment.sam...                     ||\n",
      "||    Paired-end reads are included.                                          ||\n",
      "||    Total alignments : 663055                                               ||\n",
      "||    Successfully assigned alignments : 344293 (51.9%)                       ||\n",
      "||    Running time : 0.08 minutes                                             ||\n",
      "||                                                                            ||\n",
      "|| Process SAM file 2018--WBG-BBB-W56-CV_alignment.sam...                     ||\n",
      "||    Paired-end reads are included.                                          ||\n",
      "||    Total alignments : 1287735                                              ||\n",
      "||    Successfully assigned alignments : 677144 (52.6%)                       ||\n",
      "||    Running time : 0.15 minutes                                             ||\n",
      "||                                                                            ||\n",
      "|| Process SAM file 2018--WPO-BPO-G16-CV_alignment.sam...                     ||\n",
      "||    Paired-end reads are included.                                          ||\n",
      "||    Total alignments : 419156                                               ||\n",
      "||    Successfully assigned alignments : 213289 (50.9%)                       ||\n",
      "||    Running time : 0.05 minutes                                             ||\n",
      "||                                                                            ||\n",
      "|| Process SAM file 2018--BBR-BBG-B38-CV_alignment.sam...                     ||\n",
      "||    Paired-end reads are included.                                          ||\n",
      "||    Total alignments : 1263022                                              ||\n",
      "||    Successfully assigned alignments : 664673 (52.6%)                       ||\n",
      "||    Running time : 0.17 minutes                                             ||\n",
      "||                                                                            ||\n",
      "|| Process SAM file 2018--WBG-WBG-W44-CV_alignment.sam...                     ||\n",
      "||    Paired-end reads are included.                                          ||\n",
      "||    Total alignments : 277416                                               ||\n",
      "||    Successfully assigned alignments : 140636 (50.7%)                       ||\n",
      "||    Running time : 0.04 minutes                                             ||\n",
      "||                                                                            ||\n",
      "|| Process SAM file 2018--WPO-BPY-G28-CV_alignment.sam...                     ||\n",
      "||    Paired-end reads are included.                                          ||\n",
      "||    Total alignments : 267062                                               ||\n",
      "||    Successfully assigned alignments : 126499 (47.4%)                       ||\n",
      "||    Running time : 0.03 minutes                                             ||\n",
      "||                                                                            ||\n",
      "|| Process SAM file 2018--BBR-BBY-B26-CV_alignment.sam...                     ||\n",
      "||    Paired-end reads are included.                                          ||\n",
      "||    Total alignments : 1169293                                              ||\n",
      "||    Successfully assigned alignments : 616636 (52.7%)                       ||\n",
      "||    Running time : 0.14 minutes                                             ||\n",
      "||                                                                            ||\n",
      "|| Process SAM file 2018--WBO-BBR-W03-CV_alignment.sam...                     ||\n",
      "||    Paired-end reads are included.                                          ||\n",
      "||    Total alignments : 103464                                               ||\n",
      "||    Successfully assigned alignments : 52557 (50.8%)                        ||\n",
      "||    Running time : 0.01 minutes                                             ||\n",
      "||                                                                            ||\n",
      "|| Process SAM file 2018--WPR-BPY-G25-CV_alignment.sam...                     ||\n",
      "||    Paired-end reads are included.                                          ||\n",
      "||    Total alignments : 723272                                               ||\n",
      "||    Successfully assigned alignments : 383315 (53.0%)                       ||\n",
      "||    Running time : 0.09 minutes                                             ||\n",
      "||                                                                            ||\n",
      "|| Process SAM file 2018--BBY-WBG-B42-CV_alignment.sam...                     ||\n",
      "||    Paired-end reads are included.                                          ||\n",
      "||    Total alignments : 361292                                               ||\n",
      "||    Successfully assigned alignments : 183155 (50.7%)                       ||\n",
      "||    Running time : 0.04 minutes                                             ||\n",
      "||                                                                            ||\n",
      "|| Process SAM file 2018--WBO-WBV-W64-CV_alignment.sam...                     ||\n",
      "||    Paired-end reads are included.                                          ||\n",
      "||    Total alignments : 1159648                                              ||\n",
      "||    Successfully assigned alignments : 601758 (51.9%)                       ||\n",
      "||    Running time : 0.15 minutes                                             ||\n",
      "||                                                                            ||\n",
      "|| Process SAM file 2018--WPV-BPR-G11-CV_alignment.sam...                     ||\n",
      "||    Paired-end reads are included.                                          ||\n",
      "||    Total alignments : 119287                                               ||\n",
      "||    Successfully assigned alignments : 57376 (48.1%)                        ||\n",
      "||    Running time : 0.02 minutes                                             ||\n",
      "||                                                                            ||\n",
      "|| Write the final count table.                                               ||\n",
      "|| Write the read assignment summary.                                         ||\n",
      "||                                                                            ||\n",
      "\\\\============================================================================//\n",
      "\n"
     ]
    }
   ],
   "source": [
    "## CAN SKIP AFTER FIRST TIME RUNNING ##\n",
    "counts <- featureCounts(files, # SAM or BAM format - automatically detects\n",
    "              \n",
    "              # annotation\n",
    "              annot.ext = gtf_file, # input of annotation GTF file\n",
    "              isGTFAnnotationFile=TRUE, # input of annotation file is in GTF format\n",
    "              GTF.featureType=\"exon\", # feature type used to select rows in GTF annotation\n",
    "              #GTF.attrType=\"gene_id\", # group features (e.g. exons) into meta-features (e.g. genes)\n",
    "              \n",
    "              # level of summarization\n",
    "              useMetaFeatures=TRUE, # read summarization performed at meta-feature level\n",
    "              # if FALSE, read summarization performed at feature level (e.g. exons)\n",
    "              \n",
    "              # parameters specific to paired end reads\n",
    "              isPairedEnd=TRUE,\n",
    "              countChimericFragments=TRUE,\n",
    "              autosort=TRUE)"
   ]
  },
  {
   "cell_type": "markdown",
   "id": "bc1f04bc-7744-4e0a-b632-acd3ea3827cf",
   "metadata": {},
   "source": [
    "generally get about 50% of reads that match up to gene names for each sample\n",
    "\n",
    "writing results to text file"
   ]
  },
  {
   "cell_type": "code",
   "execution_count": 5,
   "id": "ddd3b226-74fe-4010-b217-21d41af95e98",
   "metadata": {},
   "outputs": [],
   "source": [
    "## again can skip after running the first time ##\n",
    "write.table(\n",
    "  x=data.frame(counts$annotation[,c(\"GeneID\",\"Length\")],\n",
    "    counts$counts,\n",
    "    stringsAsFactors=FALSE),\n",
    "  file=\"counts.txt\",\n",
    "  quote=FALSE,\n",
    "  sep=\"\\t\",\n",
    "  row.names=FALSE)"
   ]
  },
  {
   "cell_type": "markdown",
   "id": "beb3bbc8-671d-4200-9c2f-03774c555a4d",
   "metadata": {},
   "source": [
    "reading in the text file and checking how it looks"
   ]
  },
  {
   "cell_type": "code",
   "execution_count": 22,
   "id": "e2df94ce-9e9d-456e-87de-c7d6408168b3",
   "metadata": {},
   "outputs": [
    {
     "data": {
      "text/html": [
       "<style>\n",
       ".list-inline {list-style: none; margin:0; padding: 0}\n",
       ".list-inline>li {display: inline-block}\n",
       ".list-inline>li:not(:last-child)::after {content: \"\\00b7\"; padding: 0 .5ex}\n",
       "</style>\n",
       "<ol class=list-inline><li>38828</li><li>32</li></ol>\n"
      ],
      "text/latex": [
       "\\begin{enumerate*}\n",
       "\\item 38828\n",
       "\\item 32\n",
       "\\end{enumerate*}\n"
      ],
      "text/markdown": [
       "1. 38828\n",
       "2. 32\n",
       "\n",
       "\n"
      ],
      "text/plain": [
       "[1] 38828    32"
      ]
     },
     "metadata": {},
     "output_type": "display_data"
    },
    {
     "data": {
      "text/html": [
       "<table class=\"dataframe\">\n",
       "<caption>A data.frame: 6 × 32</caption>\n",
       "<thead>\n",
       "\t<tr><th></th><th scope=col>GeneID</th><th scope=col>Length</th><th scope=col>X2018..BBB.WBO.B21.CV_alignment.sam</th><th scope=col>X2018..BPO.BPO.O16.CV_alignment.sam</th><th scope=col>X2018..WBR.BBY.W25.CV_alignment.sam</th><th scope=col>X2018..BBB.WBV.B70.CV_alignment.sam</th><th scope=col>X2018..BPR.BPG.O38.CV_alignment.sam</th><th scope=col>X2018..WBV.WBO.W23.CV_alignment.sam</th><th scope=col>X2018..BBO.BBO.B16.CV_alignment.sam</th><th scope=col>X2018..BPR.BPR.O02.CV_alignment.sam</th><th scope=col>⋯</th><th scope=col>X2018..WPO.BPO.G16.CV_alignment.sam</th><th scope=col>X2018..BBR.BBG.B38.CV_alignment.sam</th><th scope=col>X2018..WBG.WBG.W44.CV_alignment.sam</th><th scope=col>X2018..WPO.BPY.G28.CV_alignment.sam</th><th scope=col>X2018..BBR.BBY.B26.CV_alignment.sam</th><th scope=col>X2018..WBO.BBR.W03.CV_alignment.sam</th><th scope=col>X2018..WPR.BPY.G25.CV_alignment.sam</th><th scope=col>X2018..BBY.WBG.B42.CV_alignment.sam</th><th scope=col>X2018..WBO.WBV.W64.CV_alignment.sam</th><th scope=col>X2018..WPV.BPR.G11.CV_alignment.sam</th></tr>\n",
       "\t<tr><th></th><th scope=col>&lt;chr&gt;</th><th scope=col>&lt;int&gt;</th><th scope=col>&lt;int&gt;</th><th scope=col>&lt;int&gt;</th><th scope=col>&lt;int&gt;</th><th scope=col>&lt;int&gt;</th><th scope=col>&lt;int&gt;</th><th scope=col>&lt;int&gt;</th><th scope=col>&lt;int&gt;</th><th scope=col>&lt;int&gt;</th><th scope=col>⋯</th><th scope=col>&lt;int&gt;</th><th scope=col>&lt;int&gt;</th><th scope=col>&lt;int&gt;</th><th scope=col>&lt;int&gt;</th><th scope=col>&lt;int&gt;</th><th scope=col>&lt;int&gt;</th><th scope=col>&lt;int&gt;</th><th scope=col>&lt;int&gt;</th><th scope=col>&lt;int&gt;</th><th scope=col>&lt;int&gt;</th></tr>\n",
       "</thead>\n",
       "<tbody>\n",
       "\t<tr><th scope=row>1</th><td>LOC111116054</td><td> 118</td><td>0</td><td>0</td><td>0</td><td>0</td><td>0</td><td>0</td><td>0</td><td>0</td><td>⋯</td><td>0</td><td>0</td><td>0</td><td>0</td><td>1</td><td>0</td><td>0</td><td>0</td><td>0</td><td>0</td></tr>\n",
       "\t<tr><th scope=row>2</th><td>LOC111126949</td><td>2254</td><td>0</td><td>0</td><td>0</td><td>0</td><td>0</td><td>0</td><td>0</td><td>0</td><td>⋯</td><td>0</td><td>0</td><td>0</td><td>0</td><td>0</td><td>0</td><td>0</td><td>0</td><td>0</td><td>0</td></tr>\n",
       "\t<tr><th scope=row>3</th><td>LOC111110729</td><td>2083</td><td>0</td><td>0</td><td>0</td><td>0</td><td>0</td><td>0</td><td>0</td><td>0</td><td>⋯</td><td>0</td><td>0</td><td>0</td><td>0</td><td>0</td><td>0</td><td>0</td><td>0</td><td>0</td><td>0</td></tr>\n",
       "\t<tr><th scope=row>4</th><td>LOC111112434</td><td>1023</td><td>0</td><td>0</td><td>0</td><td>0</td><td>0</td><td>0</td><td>0</td><td>2</td><td>⋯</td><td>0</td><td>0</td><td>0</td><td>0</td><td>0</td><td>0</td><td>0</td><td>0</td><td>0</td><td>0</td></tr>\n",
       "\t<tr><th scope=row>5</th><td>LOC111120752</td><td>1070</td><td>2</td><td>1</td><td>0</td><td>2</td><td>0</td><td>0</td><td>0</td><td>2</td><td>⋯</td><td>0</td><td>0</td><td>0</td><td>1</td><td>1</td><td>0</td><td>1</td><td>0</td><td>1</td><td>0</td></tr>\n",
       "\t<tr><th scope=row>6</th><td>LOC111128944</td><td>1773</td><td>0</td><td>0</td><td>0</td><td>0</td><td>0</td><td>0</td><td>0</td><td>0</td><td>⋯</td><td>0</td><td>0</td><td>0</td><td>0</td><td>0</td><td>0</td><td>0</td><td>0</td><td>0</td><td>0</td></tr>\n",
       "</tbody>\n",
       "</table>\n"
      ],
      "text/latex": [
       "A data.frame: 6 × 32\n",
       "\\begin{tabular}{r|lllllllllllllllllllll}\n",
       "  & GeneID & Length & X2018..BBB.WBO.B21.CV\\_alignment.sam & X2018..BPO.BPO.O16.CV\\_alignment.sam & X2018..WBR.BBY.W25.CV\\_alignment.sam & X2018..BBB.WBV.B70.CV\\_alignment.sam & X2018..BPR.BPG.O38.CV\\_alignment.sam & X2018..WBV.WBO.W23.CV\\_alignment.sam & X2018..BBO.BBO.B16.CV\\_alignment.sam & X2018..BPR.BPR.O02.CV\\_alignment.sam & ⋯ & X2018..WPO.BPO.G16.CV\\_alignment.sam & X2018..BBR.BBG.B38.CV\\_alignment.sam & X2018..WBG.WBG.W44.CV\\_alignment.sam & X2018..WPO.BPY.G28.CV\\_alignment.sam & X2018..BBR.BBY.B26.CV\\_alignment.sam & X2018..WBO.BBR.W03.CV\\_alignment.sam & X2018..WPR.BPY.G25.CV\\_alignment.sam & X2018..BBY.WBG.B42.CV\\_alignment.sam & X2018..WBO.WBV.W64.CV\\_alignment.sam & X2018..WPV.BPR.G11.CV\\_alignment.sam\\\\\n",
       "  & <chr> & <int> & <int> & <int> & <int> & <int> & <int> & <int> & <int> & <int> & ⋯ & <int> & <int> & <int> & <int> & <int> & <int> & <int> & <int> & <int> & <int>\\\\\n",
       "\\hline\n",
       "\t1 & LOC111116054 &  118 & 0 & 0 & 0 & 0 & 0 & 0 & 0 & 0 & ⋯ & 0 & 0 & 0 & 0 & 1 & 0 & 0 & 0 & 0 & 0\\\\\n",
       "\t2 & LOC111126949 & 2254 & 0 & 0 & 0 & 0 & 0 & 0 & 0 & 0 & ⋯ & 0 & 0 & 0 & 0 & 0 & 0 & 0 & 0 & 0 & 0\\\\\n",
       "\t3 & LOC111110729 & 2083 & 0 & 0 & 0 & 0 & 0 & 0 & 0 & 0 & ⋯ & 0 & 0 & 0 & 0 & 0 & 0 & 0 & 0 & 0 & 0\\\\\n",
       "\t4 & LOC111112434 & 1023 & 0 & 0 & 0 & 0 & 0 & 0 & 0 & 2 & ⋯ & 0 & 0 & 0 & 0 & 0 & 0 & 0 & 0 & 0 & 0\\\\\n",
       "\t5 & LOC111120752 & 1070 & 2 & 1 & 0 & 2 & 0 & 0 & 0 & 2 & ⋯ & 0 & 0 & 0 & 1 & 1 & 0 & 1 & 0 & 1 & 0\\\\\n",
       "\t6 & LOC111128944 & 1773 & 0 & 0 & 0 & 0 & 0 & 0 & 0 & 0 & ⋯ & 0 & 0 & 0 & 0 & 0 & 0 & 0 & 0 & 0 & 0\\\\\n",
       "\\end{tabular}\n"
      ],
      "text/markdown": [
       "\n",
       "A data.frame: 6 × 32\n",
       "\n",
       "| <!--/--> | GeneID &lt;chr&gt; | Length &lt;int&gt; | X2018..BBB.WBO.B21.CV_alignment.sam &lt;int&gt; | X2018..BPO.BPO.O16.CV_alignment.sam &lt;int&gt; | X2018..WBR.BBY.W25.CV_alignment.sam &lt;int&gt; | X2018..BBB.WBV.B70.CV_alignment.sam &lt;int&gt; | X2018..BPR.BPG.O38.CV_alignment.sam &lt;int&gt; | X2018..WBV.WBO.W23.CV_alignment.sam &lt;int&gt; | X2018..BBO.BBO.B16.CV_alignment.sam &lt;int&gt; | X2018..BPR.BPR.O02.CV_alignment.sam &lt;int&gt; | ⋯ ⋯ | X2018..WPO.BPO.G16.CV_alignment.sam &lt;int&gt; | X2018..BBR.BBG.B38.CV_alignment.sam &lt;int&gt; | X2018..WBG.WBG.W44.CV_alignment.sam &lt;int&gt; | X2018..WPO.BPY.G28.CV_alignment.sam &lt;int&gt; | X2018..BBR.BBY.B26.CV_alignment.sam &lt;int&gt; | X2018..WBO.BBR.W03.CV_alignment.sam &lt;int&gt; | X2018..WPR.BPY.G25.CV_alignment.sam &lt;int&gt; | X2018..BBY.WBG.B42.CV_alignment.sam &lt;int&gt; | X2018..WBO.WBV.W64.CV_alignment.sam &lt;int&gt; | X2018..WPV.BPR.G11.CV_alignment.sam &lt;int&gt; |\n",
       "|---|---|---|---|---|---|---|---|---|---|---|---|---|---|---|---|---|---|---|---|---|---|\n",
       "| 1 | LOC111116054 |  118 | 0 | 0 | 0 | 0 | 0 | 0 | 0 | 0 | ⋯ | 0 | 0 | 0 | 0 | 1 | 0 | 0 | 0 | 0 | 0 |\n",
       "| 2 | LOC111126949 | 2254 | 0 | 0 | 0 | 0 | 0 | 0 | 0 | 0 | ⋯ | 0 | 0 | 0 | 0 | 0 | 0 | 0 | 0 | 0 | 0 |\n",
       "| 3 | LOC111110729 | 2083 | 0 | 0 | 0 | 0 | 0 | 0 | 0 | 0 | ⋯ | 0 | 0 | 0 | 0 | 0 | 0 | 0 | 0 | 0 | 0 |\n",
       "| 4 | LOC111112434 | 1023 | 0 | 0 | 0 | 0 | 0 | 0 | 0 | 2 | ⋯ | 0 | 0 | 0 | 0 | 0 | 0 | 0 | 0 | 0 | 0 |\n",
       "| 5 | LOC111120752 | 1070 | 2 | 1 | 0 | 2 | 0 | 0 | 0 | 2 | ⋯ | 0 | 0 | 0 | 1 | 1 | 0 | 1 | 0 | 1 | 0 |\n",
       "| 6 | LOC111128944 | 1773 | 0 | 0 | 0 | 0 | 0 | 0 | 0 | 0 | ⋯ | 0 | 0 | 0 | 0 | 0 | 0 | 0 | 0 | 0 | 0 |\n",
       "\n"
      ],
      "text/plain": [
       "  GeneID       Length X2018..BBB.WBO.B21.CV_alignment.sam\n",
       "1 LOC111116054  118   0                                  \n",
       "2 LOC111126949 2254   0                                  \n",
       "3 LOC111110729 2083   0                                  \n",
       "4 LOC111112434 1023   0                                  \n",
       "5 LOC111120752 1070   2                                  \n",
       "6 LOC111128944 1773   0                                  \n",
       "  X2018..BPO.BPO.O16.CV_alignment.sam X2018..WBR.BBY.W25.CV_alignment.sam\n",
       "1 0                                   0                                  \n",
       "2 0                                   0                                  \n",
       "3 0                                   0                                  \n",
       "4 0                                   0                                  \n",
       "5 1                                   0                                  \n",
       "6 0                                   0                                  \n",
       "  X2018..BBB.WBV.B70.CV_alignment.sam X2018..BPR.BPG.O38.CV_alignment.sam\n",
       "1 0                                   0                                  \n",
       "2 0                                   0                                  \n",
       "3 0                                   0                                  \n",
       "4 0                                   0                                  \n",
       "5 2                                   0                                  \n",
       "6 0                                   0                                  \n",
       "  X2018..WBV.WBO.W23.CV_alignment.sam X2018..BBO.BBO.B16.CV_alignment.sam\n",
       "1 0                                   0                                  \n",
       "2 0                                   0                                  \n",
       "3 0                                   0                                  \n",
       "4 0                                   0                                  \n",
       "5 0                                   0                                  \n",
       "6 0                                   0                                  \n",
       "  X2018..BPR.BPR.O02.CV_alignment.sam ⋯ X2018..WPO.BPO.G16.CV_alignment.sam\n",
       "1 0                                   ⋯ 0                                  \n",
       "2 0                                   ⋯ 0                                  \n",
       "3 0                                   ⋯ 0                                  \n",
       "4 2                                   ⋯ 0                                  \n",
       "5 2                                   ⋯ 0                                  \n",
       "6 0                                   ⋯ 0                                  \n",
       "  X2018..BBR.BBG.B38.CV_alignment.sam X2018..WBG.WBG.W44.CV_alignment.sam\n",
       "1 0                                   0                                  \n",
       "2 0                                   0                                  \n",
       "3 0                                   0                                  \n",
       "4 0                                   0                                  \n",
       "5 0                                   0                                  \n",
       "6 0                                   0                                  \n",
       "  X2018..WPO.BPY.G28.CV_alignment.sam X2018..BBR.BBY.B26.CV_alignment.sam\n",
       "1 0                                   1                                  \n",
       "2 0                                   0                                  \n",
       "3 0                                   0                                  \n",
       "4 0                                   0                                  \n",
       "5 1                                   1                                  \n",
       "6 0                                   0                                  \n",
       "  X2018..WBO.BBR.W03.CV_alignment.sam X2018..WPR.BPY.G25.CV_alignment.sam\n",
       "1 0                                   0                                  \n",
       "2 0                                   0                                  \n",
       "3 0                                   0                                  \n",
       "4 0                                   0                                  \n",
       "5 0                                   1                                  \n",
       "6 0                                   0                                  \n",
       "  X2018..BBY.WBG.B42.CV_alignment.sam X2018..WBO.WBV.W64.CV_alignment.sam\n",
       "1 0                                   0                                  \n",
       "2 0                                   0                                  \n",
       "3 0                                   0                                  \n",
       "4 0                                   0                                  \n",
       "5 0                                   1                                  \n",
       "6 0                                   0                                  \n",
       "  X2018..WPV.BPR.G11.CV_alignment.sam\n",
       "1 0                                  \n",
       "2 0                                  \n",
       "3 0                                  \n",
       "4 0                                  \n",
       "5 0                                  \n",
       "6 0                                  "
      ]
     },
     "metadata": {},
     "output_type": "display_data"
    }
   ],
   "source": [
    "metaf_counts <- read.table('/project/pi_sarah_gignouxwolfsohn_uml_edu/julia/CE_methyl_assembly/assembly_pipeline_files/sam_files/fc_counts.txt', header=TRUE)\n",
    "dim(metaf_counts) # 38,828 genes total\n",
    "head(metaf_counts)"
   ]
  },
  {
   "cell_type": "markdown",
   "id": "123f38b0-9c5b-4ee7-a97b-f0a0149aee56",
   "metadata": {},
   "source": [
    "looks like this is counts for meta-features and not features -> because of this:\n",
    "\n",
    "Features : 726075                                                       ||\n",
    "Meta-features : 38828\n",
    "\n",
    "doing this for features instead of meta-features - had accidentally set useMetaFeatures=FALSE\n",
    "\n",
    "#### featureCounts on Features"
   ]
  },
  {
   "cell_type": "code",
   "execution_count": 6,
   "id": "00961822-6f85-465d-b06c-cf3d940a56a5",
   "metadata": {},
   "outputs": [
    {
     "name": "stdout",
     "output_type": "stream",
     "text": [
      "\n",
      "        ==========     _____ _    _ ____  _____  ______          _____  \n",
      "        =====         / ____| |  | |  _ \\|  __ \\|  ____|   /\\   |  __ \\ \n",
      "          =====      | (___ | |  | | |_) | |__) | |__     /  \\  | |  | |\n",
      "            ====      \\___ \\| |  | |  _ <|  _  /|  __|   / /\\ \\ | |  | |\n",
      "              ====    ____) | |__| | |_) | | \\ \\| |____ / ____ \\| |__| |\n",
      "        ==========   |_____/ \\____/|____/|_|  \\_\\______/_/    \\_\\_____/\n",
      "       Rsubread 2.16.1\n",
      "\n",
      "//========================== featureCounts setting ===========================\\\\\n",
      "||                                                                            ||\n",
      "||             Input files : 30 SAM files                                     ||\n",
      "||                                                                            ||\n",
      "||                           2018--BBB-WBO-B21-CV_alignment.sam               ||\n",
      "||                           2018--BPO-BPO-O16-CV_alignment.sam               ||\n",
      "||                           2018--WBR-BBY-W25-CV_alignment.sam               ||\n",
      "||                           2018--BBB-WBV-B70-CV_alignment.sam               ||\n",
      "||                           2018--BPR-BPG-O38-CV_alignment.sam               ||\n",
      "||                           2018--WBV-WBO-W23-CV_alignment.sam               ||\n",
      "||                           2018--BBO-BBO-B16-CV_alignment.sam               ||\n",
      "||                           2018--BPR-BPR-O02-CV_alignment.sam               ||\n",
      "||                           2018--WBV-WBR-W12-CV_alignment.sam               ||\n",
      "||                           2018--BBO-BBY-B27-CV_alignment.sam               ||\n",
      "||                           2018--BPY-BPG-O42-CV_alignment.sam               ||\n",
      "||                           2018--WBY-BBV-W65-CV_alignment.sam               ||\n",
      "||                           2018--BBO-WBO-B16-CV_alignment.sam               ||\n",
      "||                           2018--BPY-BPY-O29-CV_alignment.sam               ||\n",
      "||                           2018--WBY-BBY-W30-CV_alignment.sam               ||\n",
      "||                           2018--BBO-WBV-B64-CV_alignment.sam               ||\n",
      "||                           2018--WBB-WBV-W69-CV_alignment.sam               ||\n",
      "||                           2018--WPB-BPG-G45-CV_alignment.sam               ||\n",
      "||                           2018--BBR-BBB-B50-CV_alignment.sam               ||\n",
      "||                           2018--WBG-BBB-W56-CV_alignment.sam               ||\n",
      "||                           2018--WPO-BPO-G16-CV_alignment.sam               ||\n",
      "||                           2018--BBR-BBG-B38-CV_alignment.sam               ||\n",
      "||                           2018--WBG-WBG-W44-CV_alignment.sam               ||\n",
      "||                           2018--WPO-BPY-G28-CV_alignment.sam               ||\n",
      "||                           2018--BBR-BBY-B26-CV_alignment.sam               ||\n",
      "||                           2018--WBO-BBR-W03-CV_alignment.sam               ||\n",
      "||                           2018--WPR-BPY-G25-CV_alignment.sam               ||\n",
      "||                           2018--BBY-WBG-B42-CV_alignment.sam               ||\n",
      "||                           2018--WBO-WBV-W64-CV_alignment.sam               ||\n",
      "||                           2018--WPV-BPR-G11-CV_alignment.sam               ||\n",
      "||                                                                            ||\n",
      "||              Paired-end : yes                                              ||\n",
      "||        Count read pairs : yes                                              ||\n",
      "||              Annotation : fixed_CV_annotation.gtf (GTF)                    ||\n",
      "||      Dir for temp files : .                                                ||\n",
      "||                 Threads : 1                                                ||\n",
      "||                   Level : feature level                                    ||\n",
      "||      Multimapping reads : counted                                          ||\n",
      "|| Multi-overlapping reads : not counted                                      ||\n",
      "||   Min overlapping bases : 1                                                ||\n",
      "||                                                                            ||\n",
      "\\\\============================================================================//\n",
      "\n",
      "//================================= Running ==================================\\\\\n",
      "||                                                                            ||\n",
      "|| Load annotation file fixed_CV_annotation.gtf ...                           ||\n",
      "||    Features : 726075                                                       ||\n",
      "||    Meta-features : 38828                                                   ||\n",
      "||    Chromosomes/contigs : 10                                                ||\n",
      "||                                                                            ||\n",
      "|| Process SAM file 2018--BBB-WBO-B21-CV_alignment.sam...                     ||\n",
      "||    Paired-end reads are included.                                          ||\n",
      "||    Total alignments : 1684235                                              ||\n",
      "||    Successfully assigned alignments : 449281 (26.7%)                       ||\n",
      "||    Running time : 0.19 minutes                                             ||\n",
      "||                                                                            ||\n",
      "|| Process SAM file 2018--BPO-BPO-O16-CV_alignment.sam...                     ||\n",
      "||    Paired-end reads are included.                                          ||\n",
      "||    Total alignments : 146792                                               ||\n",
      "||    Successfully assigned alignments : 37695 (25.7%)                        ||\n",
      "||    Running time : 0.02 minutes                                             ||\n",
      "||                                                                            ||\n",
      "|| Process SAM file 2018--WBR-BBY-W25-CV_alignment.sam...                     ||\n",
      "||    Paired-end reads are included.                                          ||\n",
      "||    Total alignments : 404385                                               ||\n",
      "||    Successfully assigned alignments : 107624 (26.6%)                       ||\n",
      "||    Running time : 0.05 minutes                                             ||\n",
      "||                                                                            ||\n",
      "|| Process SAM file 2018--BBB-WBV-B70-CV_alignment.sam...                     ||\n",
      "||    Paired-end reads are included.                                          ||\n",
      "||    Total alignments : 1486086                                              ||\n",
      "||    Successfully assigned alignments : 398247 (26.8%)                       ||\n",
      "||    Running time : 0.16 minutes                                             ||\n",
      "||                                                                            ||\n",
      "|| Process SAM file 2018--BPR-BPG-O38-CV_alignment.sam...                     ||\n",
      "||    Paired-end reads are included.                                          ||\n",
      "||    Total alignments : 778020                                               ||\n",
      "||    Successfully assigned alignments : 202887 (26.1%)                       ||\n",
      "||    Running time : 0.09 minutes                                             ||\n",
      "||                                                                            ||\n",
      "|| Process SAM file 2018--WBV-WBO-W23-CV_alignment.sam...                     ||\n",
      "||    Paired-end reads are included.                                          ||\n",
      "||    Total alignments : 448593                                               ||\n",
      "||    Successfully assigned alignments : 115141 (25.7%)                       ||\n",
      "||    Running time : 0.06 minutes                                             ||\n",
      "||                                                                            ||\n",
      "|| Process SAM file 2018--BBO-BBO-B16-CV_alignment.sam...                     ||\n",
      "||    Paired-end reads are included.                                          ||\n",
      "||    Total alignments : 1193396                                              ||\n",
      "||    Successfully assigned alignments : 314060 (26.3%)                       ||\n",
      "||    Running time : 0.13 minutes                                             ||\n",
      "||                                                                            ||\n",
      "|| Process SAM file 2018--BPR-BPR-O02-CV_alignment.sam...                     ||\n",
      "||    Paired-end reads are included.                                          ||\n",
      "||    Total alignments : 171814                                               ||\n",
      "||    Successfully assigned alignments : 44279 (25.8%)                        ||\n",
      "||    Running time : 0.02 minutes                                             ||\n",
      "||                                                                            ||\n",
      "|| Process SAM file 2018--WBV-WBR-W12-CV_alignment.sam...                     ||\n",
      "||    Paired-end reads are included.                                          ||\n",
      "||    Total alignments : 139082                                               ||\n",
      "||    Successfully assigned alignments : 35661 (25.6%)                        ||\n",
      "||    Running time : 0.01 minutes                                             ||\n",
      "||                                                                            ||\n",
      "|| Process SAM file 2018--BBO-BBY-B27-CV_alignment.sam...                     ||\n",
      "||    Paired-end reads are included.                                          ||\n",
      "||    Total alignments : 797969                                               ||\n",
      "||    Successfully assigned alignments : 212932 (26.7%)                       ||\n",
      "||    Running time : 0.09 minutes                                             ||\n",
      "||                                                                            ||\n",
      "|| Process SAM file 2018--BPY-BPG-O42-CV_alignment.sam...                     ||\n",
      "||    Paired-end reads are included.                                          ||\n",
      "||    Total alignments : 95294                                                ||\n",
      "||    Successfully assigned alignments : 24878 (26.1%)                        ||\n",
      "||    Running time : 0.01 minutes                                             ||\n",
      "||                                                                            ||\n",
      "|| Process SAM file 2018--WBY-BBV-W65-CV_alignment.sam...                     ||\n",
      "||    Paired-end reads are included.                                          ||\n",
      "||    Total alignments : 1103203                                              ||\n",
      "||    Successfully assigned alignments : 278886 (25.3%)                       ||\n",
      "||    Running time : 0.12 minutes                                             ||\n",
      "||                                                                            ||\n",
      "|| Process SAM file 2018--BBO-WBO-B16-CV_alignment.sam...                     ||\n",
      "||    Paired-end reads are included.                                          ||\n",
      "||    Total alignments : 1726200                                              ||\n",
      "||    Successfully assigned alignments : 456001 (26.4%)                       ||\n",
      "||    Running time : 0.21 minutes                                             ||\n",
      "||                                                                            ||\n",
      "|| Process SAM file 2018--BPY-BPY-O29-CV_alignment.sam...                     ||\n",
      "||    Paired-end reads are included.                                          ||\n",
      "||    Total alignments : 273327                                               ||\n",
      "||    Successfully assigned alignments : 69825 (25.5%)                        ||\n",
      "||    Running time : 0.04 minutes                                             ||\n",
      "||                                                                            ||\n",
      "|| Process SAM file 2018--WBY-BBY-W30-CV_alignment.sam...                     ||\n",
      "||    Paired-end reads are included.                                          ||\n",
      "||    Total alignments : 697638                                               ||\n",
      "||    Successfully assigned alignments : 184197 (26.4%)                       ||\n",
      "||    Running time : 0.08 minutes                                             ||\n",
      "||                                                                            ||\n",
      "|| Process SAM file 2018--BBO-WBV-B64-CV_alignment.sam...                     ||\n",
      "||    Paired-end reads are included.                                          ||\n",
      "||    Total alignments : 1570631                                              ||\n",
      "||    Successfully assigned alignments : 416961 (26.5%)                       ||\n",
      "||    Running time : 0.17 minutes                                             ||\n",
      "||                                                                            ||\n",
      "|| Process SAM file 2018--WBB-WBV-W69-CV_alignment.sam...                     ||\n",
      "||    Paired-end reads are included.                                          ||\n",
      "||    Total alignments : 1469541                                              ||\n",
      "||    Successfully assigned alignments : 379015 (25.8%)                       ||\n",
      "||    Running time : 0.16 minutes                                             ||\n",
      "||                                                                            ||\n",
      "|| Process SAM file 2018--WPB-BPG-G45-CV_alignment.sam...                     ||\n",
      "||    Paired-end reads are included.                                          ||\n",
      "||    Total alignments : 644648                                               ||\n",
      "||    Successfully assigned alignments : 164813 (25.6%)                       ||\n",
      "||    Running time : 0.08 minutes                                             ||\n",
      "||                                                                            ||\n",
      "|| Process SAM file 2018--BBR-BBB-B50-CV_alignment.sam...                     ||\n",
      "||    Paired-end reads are included.                                          ||\n",
      "||    Total alignments : 663055                                               ||\n",
      "||    Successfully assigned alignments : 173020 (26.1%)                       ||\n",
      "||    Running time : 0.07 minutes                                             ||\n",
      "||                                                                            ||\n",
      "|| Process SAM file 2018--WBG-BBB-W56-CV_alignment.sam...                     ||\n",
      "||    Paired-end reads are included.                                          ||\n",
      "||    Total alignments : 1287735                                              ||\n",
      "||    Successfully assigned alignments : 340150 (26.4%)                       ||\n",
      "||    Running time : 0.13 minutes                                             ||\n",
      "||                                                                            ||\n",
      "|| Process SAM file 2018--WPO-BPO-G16-CV_alignment.sam...                     ||\n",
      "||    Paired-end reads are included.                                          ||\n",
      "||    Total alignments : 419156                                               ||\n",
      "||    Successfully assigned alignments : 106787 (25.5%)                       ||\n",
      "||    Running time : 0.04 minutes                                             ||\n",
      "||                                                                            ||\n",
      "|| Process SAM file 2018--BBR-BBG-B38-CV_alignment.sam...                     ||\n",
      "||    Paired-end reads are included.                                          ||\n",
      "||    Total alignments : 1263022                                              ||\n",
      "||    Successfully assigned alignments : 338628 (26.8%)                       ||\n",
      "||    Running time : 0.14 minutes                                             ||\n",
      "||                                                                            ||\n",
      "|| Process SAM file 2018--WBG-WBG-W44-CV_alignment.sam...                     ||\n",
      "||    Paired-end reads are included.                                          ||\n",
      "||    Total alignments : 277416                                               ||\n",
      "||    Successfully assigned alignments : 70485 (25.4%)                        ||\n",
      "||    Running time : 0.03 minutes                                             ||\n",
      "||                                                                            ||\n",
      "|| Process SAM file 2018--WPO-BPY-G28-CV_alignment.sam...                     ||\n",
      "||    Paired-end reads are included.                                          ||\n",
      "||    Total alignments : 267062                                               ||\n",
      "||    Successfully assigned alignments : 59701 (22.4%)                        ||\n",
      "||    Running time : 0.03 minutes                                             ||\n",
      "||                                                                            ||\n",
      "|| Process SAM file 2018--BBR-BBY-B26-CV_alignment.sam...                     ||\n",
      "||    Paired-end reads are included.                                          ||\n",
      "||    Total alignments : 1169293                                              ||\n",
      "||    Successfully assigned alignments : 311445 (26.6%)                       ||\n",
      "||    Running time : 0.07 minutes                                             ||\n",
      "||                                                                            ||\n",
      "|| Process SAM file 2018--WBO-BBR-W03-CV_alignment.sam...                     ||\n",
      "||    Paired-end reads are included.                                          ||\n",
      "||    Total alignments : 103464                                               ||\n",
      "||    Successfully assigned alignments : 25896 (25.0%)                        ||\n",
      "||    Running time : 0.01 minutes                                             ||\n",
      "||                                                                            ||\n",
      "|| Process SAM file 2018--WPR-BPY-G25-CV_alignment.sam...                     ||\n",
      "||    Paired-end reads are included.                                          ||\n",
      "||    Total alignments : 723272                                               ||\n",
      "||    Successfully assigned alignments : 190451 (26.3%)                       ||\n",
      "||    Running time : 0.04 minutes                                             ||\n",
      "||                                                                            ||\n",
      "|| Process SAM file 2018--BBY-WBG-B42-CV_alignment.sam...                     ||\n",
      "||    Paired-end reads are included.                                          ||\n",
      "||    Total alignments : 361292                                               ||\n",
      "||    Successfully assigned alignments : 91229 (25.3%)                        ||\n",
      "||    Running time : 0.02 minutes                                             ||\n",
      "||                                                                            ||\n",
      "|| Process SAM file 2018--WBO-WBV-W64-CV_alignment.sam...                     ||\n",
      "||    Paired-end reads are included.                                          ||\n",
      "||    Total alignments : 1159648                                              ||\n",
      "||    Successfully assigned alignments : 299837 (25.9%)                       ||\n",
      "||    Running time : 0.07 minutes                                             ||\n",
      "||                                                                            ||\n",
      "|| Process SAM file 2018--WPV-BPR-G11-CV_alignment.sam...                     ||\n",
      "||    Paired-end reads are included.                                          ||\n",
      "||    Total alignments : 119287                                               ||\n",
      "||    Successfully assigned alignments : 27667 (23.2%)                        ||\n",
      "||    Running time : 0.01 minutes                                             ||\n",
      "||                                                                            ||\n",
      "|| Write the final count table.                                               ||\n",
      "|| Write the read assignment summary.                                         ||\n",
      "||                                                                            ||\n",
      "\\\\============================================================================//\n",
      "\n"
     ]
    }
   ],
   "source": [
    "## again can skip after running for the first time ##\n",
    "counts_features <- featureCounts(files, # SAM or BAM format - automatically detects\n",
    "              \n",
    "              # annotation\n",
    "              annot.ext = gtf_file, # input of annotation GTF file\n",
    "              isGTFAnnotationFile=TRUE, # input of annotation file is in GTF format\n",
    "              GTF.featureType=\"exon\", # feature type used to select rows in GTF annotation\n",
    "              #GTF.attrType=\"gene_id\", # group features (e.g. exons) into meta-features (e.g. genes)\n",
    "              \n",
    "              # level of summarization\n",
    "              useMetaFeatures=FALSE, # read summarization performed at meta-feature level\n",
    "              # if FALSE, read summarization performed at feature level (e.g. exons)\n",
    "              \n",
    "              # parameters specific to paired end reads\n",
    "              isPairedEnd=TRUE,\n",
    "              countChimericFragments=TRUE,\n",
    "              autosort=TRUE)"
   ]
  },
  {
   "cell_type": "code",
   "execution_count": 19,
   "id": "a34eaade-0c36-4948-82fd-f6d4286fcae1",
   "metadata": {},
   "outputs": [],
   "source": [
    "head(counts_features)"
   ]
  },
  {
   "cell_type": "code",
   "execution_count": 35,
   "id": "b42ee436-2acb-4a21-b291-bf15b421ae76",
   "metadata": {},
   "outputs": [
    {
     "data": {
      "text/html": [
       "<table class=\"dataframe\">\n",
       "<caption>A data.frame: 6 × 6</caption>\n",
       "<thead>\n",
       "\t<tr><th></th><th scope=col>GeneID</th><th scope=col>Chr</th><th scope=col>Start</th><th scope=col>End</th><th scope=col>Strand</th><th scope=col>Length</th></tr>\n",
       "\t<tr><th></th><th scope=col>&lt;chr&gt;</th><th scope=col>&lt;chr&gt;</th><th scope=col>&lt;int&gt;</th><th scope=col>&lt;int&gt;</th><th scope=col>&lt;chr&gt;</th><th scope=col>&lt;int&gt;</th></tr>\n",
       "</thead>\n",
       "<tbody>\n",
       "\t<tr><th scope=row>1</th><td>LOC111116054</td><td>NC_035780.1</td><td>13578</td><td>13603</td><td>+</td><td>  26</td></tr>\n",
       "\t<tr><th scope=row>2</th><td>LOC111116054</td><td>NC_035780.1</td><td>14237</td><td>14290</td><td>+</td><td>  54</td></tr>\n",
       "\t<tr><th scope=row>3</th><td>LOC111116054</td><td>NC_035780.1</td><td>14557</td><td>14594</td><td>+</td><td>  38</td></tr>\n",
       "\t<tr><th scope=row>4</th><td>LOC111126949</td><td>NC_035780.1</td><td>28961</td><td>29073</td><td>+</td><td> 113</td></tr>\n",
       "\t<tr><th scope=row>5</th><td>LOC111126949</td><td>NC_035780.1</td><td>30524</td><td>31557</td><td>+</td><td>1034</td></tr>\n",
       "\t<tr><th scope=row>6</th><td>LOC111126949</td><td>NC_035780.1</td><td>31736</td><td>31887</td><td>+</td><td> 152</td></tr>\n",
       "</tbody>\n",
       "</table>\n"
      ],
      "text/latex": [
       "A data.frame: 6 × 6\n",
       "\\begin{tabular}{r|llllll}\n",
       "  & GeneID & Chr & Start & End & Strand & Length\\\\\n",
       "  & <chr> & <chr> & <int> & <int> & <chr> & <int>\\\\\n",
       "\\hline\n",
       "\t1 & LOC111116054 & NC\\_035780.1 & 13578 & 13603 & + &   26\\\\\n",
       "\t2 & LOC111116054 & NC\\_035780.1 & 14237 & 14290 & + &   54\\\\\n",
       "\t3 & LOC111116054 & NC\\_035780.1 & 14557 & 14594 & + &   38\\\\\n",
       "\t4 & LOC111126949 & NC\\_035780.1 & 28961 & 29073 & + &  113\\\\\n",
       "\t5 & LOC111126949 & NC\\_035780.1 & 30524 & 31557 & + & 1034\\\\\n",
       "\t6 & LOC111126949 & NC\\_035780.1 & 31736 & 31887 & + &  152\\\\\n",
       "\\end{tabular}\n"
      ],
      "text/markdown": [
       "\n",
       "A data.frame: 6 × 6\n",
       "\n",
       "| <!--/--> | GeneID &lt;chr&gt; | Chr &lt;chr&gt; | Start &lt;int&gt; | End &lt;int&gt; | Strand &lt;chr&gt; | Length &lt;int&gt; |\n",
       "|---|---|---|---|---|---|---|\n",
       "| 1 | LOC111116054 | NC_035780.1 | 13578 | 13603 | + |   26 |\n",
       "| 2 | LOC111116054 | NC_035780.1 | 14237 | 14290 | + |   54 |\n",
       "| 3 | LOC111116054 | NC_035780.1 | 14557 | 14594 | + |   38 |\n",
       "| 4 | LOC111126949 | NC_035780.1 | 28961 | 29073 | + |  113 |\n",
       "| 5 | LOC111126949 | NC_035780.1 | 30524 | 31557 | + | 1034 |\n",
       "| 6 | LOC111126949 | NC_035780.1 | 31736 | 31887 | + |  152 |\n",
       "\n"
      ],
      "text/plain": [
       "  GeneID       Chr         Start End   Strand Length\n",
       "1 LOC111116054 NC_035780.1 13578 13603 +        26  \n",
       "2 LOC111116054 NC_035780.1 14237 14290 +        54  \n",
       "3 LOC111116054 NC_035780.1 14557 14594 +        38  \n",
       "4 LOC111126949 NC_035780.1 28961 29073 +       113  \n",
       "5 LOC111126949 NC_035780.1 30524 31557 +      1034  \n",
       "6 LOC111126949 NC_035780.1 31736 31887 +       152  "
      ]
     },
     "metadata": {},
     "output_type": "display_data"
    }
   ],
   "source": [
    "head(counts_features$annotation)"
   ]
  },
  {
   "cell_type": "code",
   "execution_count": 12,
   "id": "8ce6f005-8f98-42aa-8225-495b7215a32d",
   "metadata": {},
   "outputs": [
    {
     "data": {
      "text/html": [
       "<table class=\"dataframe\">\n",
       "<caption>A data.frame: 6 × 1</caption>\n",
       "<thead>\n",
       "\t<tr><th></th><th scope=col>X.gtf.version.2.2</th></tr>\n",
       "\t<tr><th></th><th scope=col>&lt;chr&gt;</th></tr>\n",
       "</thead>\n",
       "<tbody>\n",
       "\t<tr><th scope=row>1</th><td>#!genome-build C_virginica-3.0                                                                                                                                                                                                                                                                                                                                                                                  </td></tr>\n",
       "\t<tr><th scope=row>2</th><td>#!genome-build-accession NCBI_Assembly:GCF_002022765.2                                                                                                                                                                                                                                                                                                                                                          </td></tr>\n",
       "\t<tr><th scope=row>3</th><td>#!annotation-source NCBI Crassostrea virginica Annotation Release 100                                                                                                                                                                                                                                                                                                                                           </td></tr>\n",
       "\t<tr><th scope=row>4</th><td>NC_035780.1\tGnomon\tgene\t13578\t14594\t.\t+\t.\tgene_id LOC111116054; db_xref GeneID:111116054; gbkey Gene; gene LOC111116054; gene_biotype lncRNA;                                                                                                                                                                                                                                                           </td></tr>\n",
       "\t<tr><th scope=row>5</th><td>NC_035780.1\tGnomon\texon\t13578\t13603\t.\t+\t.\tgene_id LOC111116054; transcript_id XR_002636969.1; db_xref GeneID:111116054; gbkey ncRNA; gene LOC111116054; model_evidence Supporting evidence includes similarity to: 100% coverage of the annotated genomic feature by RNAseq alignments, including 1 sample with support for all annotated introns; product uncharacterized LOC111116054; exon_number 1; </td></tr>\n",
       "\t<tr><th scope=row>6</th><td>NC_035780.1\tGnomon\texon\t14237\t14290\t.\t+\t.\tgene_id LOC111116054; transcript_id XR_002636969.1; db_xref GeneID:111116054; gbkey ncRNA; gene LOC111116054; model_evidence Supporting evidence includes similarity to: 100% coverage of the annotated genomic feature by RNAseq alignments, including 1 sample with support for all annotated introns; product uncharacterized LOC111116054; exon_number 2; </td></tr>\n",
       "</tbody>\n",
       "</table>\n"
      ],
      "text/latex": [
       "A data.frame: 6 × 1\n",
       "\\begin{tabular}{r|l}\n",
       "  & X.gtf.version.2.2\\\\\n",
       "  & <chr>\\\\\n",
       "\\hline\n",
       "\t1 & \\#!genome-build C\\_virginica-3.0                                                                                                                                                                                                                                                                                                                                                                                  \\\\\n",
       "\t2 & \\#!genome-build-accession NCBI\\_Assembly:GCF\\_002022765.2                                                                                                                                                                                                                                                                                                                                                          \\\\\n",
       "\t3 & \\#!annotation-source NCBI Crassostrea virginica Annotation Release 100                                                                                                                                                                                                                                                                                                                                           \\\\\n",
       "\t4 & NC\\_035780.1\tGnomon\tgene\t13578\t14594\t.\t+\t.\tgene\\_id LOC111116054; db\\_xref GeneID:111116054; gbkey Gene; gene LOC111116054; gene\\_biotype lncRNA;                                                                                                                                                                                                                                                           \\\\\n",
       "\t5 & NC\\_035780.1\tGnomon\texon\t13578\t13603\t.\t+\t.\tgene\\_id LOC111116054; transcript\\_id XR\\_002636969.1; db\\_xref GeneID:111116054; gbkey ncRNA; gene LOC111116054; model\\_evidence Supporting evidence includes similarity to: 100\\% coverage of the annotated genomic feature by RNAseq alignments, including 1 sample with support for all annotated introns; product uncharacterized LOC111116054; exon\\_number 1; \\\\\n",
       "\t6 & NC\\_035780.1\tGnomon\texon\t14237\t14290\t.\t+\t.\tgene\\_id LOC111116054; transcript\\_id XR\\_002636969.1; db\\_xref GeneID:111116054; gbkey ncRNA; gene LOC111116054; model\\_evidence Supporting evidence includes similarity to: 100\\% coverage of the annotated genomic feature by RNAseq alignments, including 1 sample with support for all annotated introns; product uncharacterized LOC111116054; exon\\_number 2; \\\\\n",
       "\\end{tabular}\n"
      ],
      "text/markdown": [
       "\n",
       "A data.frame: 6 × 1\n",
       "\n",
       "| <!--/--> | X.gtf.version.2.2 &lt;chr&gt; |\n",
       "|---|---|\n",
       "| 1 | #!genome-build C_virginica-3.0                                                                                                                                                                                                                                                                                                                                                                                   |\n",
       "| 2 | #!genome-build-accession NCBI_Assembly:GCF_002022765.2                                                                                                                                                                                                                                                                                                                                                           |\n",
       "| 3 | #!annotation-source NCBI Crassostrea virginica Annotation Release 100                                                                                                                                                                                                                                                                                                                                            |\n",
       "| 4 | NC_035780.1\tGnomon\tgene\t13578\t14594\t.\t+\t.\tgene_id LOC111116054; db_xref GeneID:111116054; gbkey Gene; gene LOC111116054; gene_biotype lncRNA;                                                                                                                                                                                                                                                            |\n",
       "| 5 | NC_035780.1\tGnomon\texon\t13578\t13603\t.\t+\t.\tgene_id LOC111116054; transcript_id XR_002636969.1; db_xref GeneID:111116054; gbkey ncRNA; gene LOC111116054; model_evidence Supporting evidence includes similarity to: 100% coverage of the annotated genomic feature by RNAseq alignments, including 1 sample with support for all annotated introns; product uncharacterized LOC111116054; exon_number 1;  |\n",
       "| 6 | NC_035780.1\tGnomon\texon\t14237\t14290\t.\t+\t.\tgene_id LOC111116054; transcript_id XR_002636969.1; db_xref GeneID:111116054; gbkey ncRNA; gene LOC111116054; model_evidence Supporting evidence includes similarity to: 100% coverage of the annotated genomic feature by RNAseq alignments, including 1 sample with support for all annotated introns; product uncharacterized LOC111116054; exon_number 2;  |\n",
       "\n"
      ],
      "text/plain": [
       "  X.gtf.version.2.2                                                                                                                                                                                                                                                                                                                                                                                               \n",
       "1 #!genome-build C_virginica-3.0                                                                                                                                                                                                                                                                                                                                                                                  \n",
       "2 #!genome-build-accession NCBI_Assembly:GCF_002022765.2                                                                                                                                                                                                                                                                                                                                                          \n",
       "3 #!annotation-source NCBI Crassostrea virginica Annotation Release 100                                                                                                                                                                                                                                                                                                                                           \n",
       "4 NC_035780.1\\tGnomon\\tgene\\t13578\\t14594\\t.\\t+\\t.\\tgene_id LOC111116054; db_xref GeneID:111116054; gbkey Gene; gene LOC111116054; gene_biotype lncRNA;                                                                                                                                                                                                                                                           \n",
       "5 NC_035780.1\\tGnomon\\texon\\t13578\\t13603\\t.\\t+\\t.\\tgene_id LOC111116054; transcript_id XR_002636969.1; db_xref GeneID:111116054; gbkey ncRNA; gene LOC111116054; model_evidence Supporting evidence includes similarity to: 100% coverage of the annotated genomic feature by RNAseq alignments, including 1 sample with support for all annotated introns; product uncharacterized LOC111116054; exon_number 1; \n",
       "6 NC_035780.1\\tGnomon\\texon\\t14237\\t14290\\t.\\t+\\t.\\tgene_id LOC111116054; transcript_id XR_002636969.1; db_xref GeneID:111116054; gbkey ncRNA; gene LOC111116054; model_evidence Supporting evidence includes similarity to: 100% coverage of the annotated genomic feature by RNAseq alignments, including 1 sample with support for all annotated introns; product uncharacterized LOC111116054; exon_number 2; "
      ]
     },
     "metadata": {},
     "output_type": "display_data"
    }
   ],
   "source": [
    "gtf <- read.csv(gtf_file)\n",
    "\n",
    "head(gtf)"
   ]
  },
  {
   "cell_type": "code",
   "execution_count": 36,
   "id": "db8fad9b-9fd4-4efa-b1a8-919261271cd4",
   "metadata": {},
   "outputs": [],
   "source": [
    "# can skip after running for the first time\n",
    "# writes the output of featureCounts into a txt file in the directory\n",
    "write.table(\n",
    "  x=data.frame(counts_features$annotation[,c(\"GeneID\", \"Chr\",\"Length\")],\n",
    "    counts_features$counts,\n",
    "    stringsAsFactors=FALSE),\n",
    "  file=\"fc_feature_counts.txt\",\n",
    "  quote=FALSE,\n",
    "  sep=\"\\t\",\n",
    "  row.names=FALSE)"
   ]
  },
  {
   "cell_type": "code",
   "execution_count": null,
   "id": "15f67219-149b-452d-8e27-250ff2cffbd7",
   "metadata": {},
   "outputs": [],
   "source": [
    "# reading in the txt file as a data frame\n",
    "feature_counts <- read.table('/project/pi_sarah_gignouxwolfsohn_uml_edu/julia/CE_methyl_assembly/assembly_pipeline_files/sam_files/fc_feature_counts.txt', header=TRUE)\n",
    "dim(feature_counts) # 726,075 features total\n",
    "head(feature_counts)"
   ]
  },
  {
   "cell_type": "markdown",
   "id": "c76acf32-26cf-483b-9843-5a0a38433a58",
   "metadata": {},
   "source": [
    "## side quest - exons\n",
    "Adding this section 10/24/2024\n",
    "\n",
    "we want to know more information about methylation and exons in this analysis. I had done featureCounts on exons, but didn't do any downstream analysis because you have to have unique rownames for DESeq2, and since there can be multiple exons per gene, there are multiple rows with the same accession number. But this genereated counts matrix is not useless - I'm going to use this to quantify the amount of exons per gene, and methylation per exon. "
   ]
  },
  {
   "cell_type": "code",
   "execution_count": 23,
   "id": "480428bf-c017-4807-9c1a-1b68d95b11a0",
   "metadata": {},
   "outputs": [],
   "source": [
    "setwd('/project/pi_sarah_gignouxwolfsohn_uml_edu/julia/CE_MethylRAD_analysis_2018/analysis/exons')\n",
    "\n",
    "# Write results to counts.txt\n",
    "write.table(\n",
    "  counts_features,\n",
    "  file = \"counts.txt\",\n",
    "  row.names = FALSE,\n",
    "  quote = FALSE,\n",
    "  sep = \"\\t\"\n",
    ")"
   ]
  },
  {
   "cell_type": "code",
   "execution_count": 72,
   "id": "c2eaf4ab-f78e-4022-8f76-2f0d6178474e",
   "metadata": {},
   "outputs": [
    {
     "data": {
      "text/html": [
       "<table class=\"dataframe\">\n",
       "<caption>A data.frame: 6 × 33</caption>\n",
       "<thead>\n",
       "\t<tr><th></th><th scope=col>GeneID</th><th scope=col>Chr</th><th scope=col>Length</th><th scope=col>X2018..BBB.WBO.B21.CV_alignment.sam</th><th scope=col>X2018..BPO.BPO.O16.CV_alignment.sam</th><th scope=col>X2018..WBR.BBY.W25.CV_alignment.sam</th><th scope=col>X2018..BBB.WBV.B70.CV_alignment.sam</th><th scope=col>X2018..BPR.BPG.O38.CV_alignment.sam</th><th scope=col>X2018..WBV.WBO.W23.CV_alignment.sam</th><th scope=col>X2018..BBO.BBO.B16.CV_alignment.sam</th><th scope=col>⋯</th><th scope=col>X2018..WPO.BPO.G16.CV_alignment.sam</th><th scope=col>X2018..BBR.BBG.B38.CV_alignment.sam</th><th scope=col>X2018..WBG.WBG.W44.CV_alignment.sam</th><th scope=col>X2018..WPO.BPY.G28.CV_alignment.sam</th><th scope=col>X2018..BBR.BBY.B26.CV_alignment.sam</th><th scope=col>X2018..WBO.BBR.W03.CV_alignment.sam</th><th scope=col>X2018..WPR.BPY.G25.CV_alignment.sam</th><th scope=col>X2018..BBY.WBG.B42.CV_alignment.sam</th><th scope=col>X2018..WBO.WBV.W64.CV_alignment.sam</th><th scope=col>X2018..WPV.BPR.G11.CV_alignment.sam</th></tr>\n",
       "\t<tr><th></th><th scope=col>&lt;chr&gt;</th><th scope=col>&lt;chr&gt;</th><th scope=col>&lt;int&gt;</th><th scope=col>&lt;int&gt;</th><th scope=col>&lt;int&gt;</th><th scope=col>&lt;int&gt;</th><th scope=col>&lt;int&gt;</th><th scope=col>&lt;int&gt;</th><th scope=col>&lt;int&gt;</th><th scope=col>&lt;int&gt;</th><th scope=col>⋯</th><th scope=col>&lt;int&gt;</th><th scope=col>&lt;int&gt;</th><th scope=col>&lt;int&gt;</th><th scope=col>&lt;int&gt;</th><th scope=col>&lt;int&gt;</th><th scope=col>&lt;int&gt;</th><th scope=col>&lt;int&gt;</th><th scope=col>&lt;int&gt;</th><th scope=col>&lt;int&gt;</th><th scope=col>&lt;int&gt;</th></tr>\n",
       "</thead>\n",
       "<tbody>\n",
       "\t<tr><th scope=row>1</th><td>LOC111116054</td><td>NC_035780.1</td><td>  26</td><td>0</td><td>0</td><td>0</td><td>0</td><td>0</td><td>0</td><td>0</td><td>⋯</td><td>0</td><td>0</td><td>0</td><td>0</td><td>1</td><td>0</td><td>0</td><td>0</td><td>0</td><td>0</td></tr>\n",
       "\t<tr><th scope=row>2</th><td>LOC111116054</td><td>NC_035780.1</td><td>  54</td><td>0</td><td>0</td><td>0</td><td>0</td><td>0</td><td>0</td><td>0</td><td>⋯</td><td>0</td><td>0</td><td>0</td><td>0</td><td>0</td><td>0</td><td>0</td><td>0</td><td>0</td><td>0</td></tr>\n",
       "\t<tr><th scope=row>3</th><td>LOC111116054</td><td>NC_035780.1</td><td>  38</td><td>0</td><td>0</td><td>0</td><td>0</td><td>0</td><td>0</td><td>0</td><td>⋯</td><td>0</td><td>0</td><td>0</td><td>0</td><td>0</td><td>0</td><td>0</td><td>0</td><td>0</td><td>0</td></tr>\n",
       "\t<tr><th scope=row>4</th><td>LOC111126949</td><td>NC_035780.1</td><td> 113</td><td>0</td><td>0</td><td>0</td><td>0</td><td>0</td><td>0</td><td>0</td><td>⋯</td><td>0</td><td>0</td><td>0</td><td>0</td><td>0</td><td>0</td><td>0</td><td>0</td><td>0</td><td>0</td></tr>\n",
       "\t<tr><th scope=row>5</th><td>LOC111126949</td><td>NC_035780.1</td><td>1034</td><td>0</td><td>0</td><td>0</td><td>0</td><td>0</td><td>0</td><td>0</td><td>⋯</td><td>0</td><td>0</td><td>0</td><td>0</td><td>0</td><td>0</td><td>0</td><td>0</td><td>0</td><td>0</td></tr>\n",
       "\t<tr><th scope=row>6</th><td>LOC111126949</td><td>NC_035780.1</td><td> 152</td><td>0</td><td>0</td><td>0</td><td>0</td><td>0</td><td>0</td><td>0</td><td>⋯</td><td>0</td><td>0</td><td>0</td><td>0</td><td>0</td><td>0</td><td>0</td><td>0</td><td>0</td><td>0</td></tr>\n",
       "</tbody>\n",
       "</table>\n"
      ],
      "text/latex": [
       "A data.frame: 6 × 33\n",
       "\\begin{tabular}{r|lllllllllllllllllllll}\n",
       "  & GeneID & Chr & Length & X2018..BBB.WBO.B21.CV\\_alignment.sam & X2018..BPO.BPO.O16.CV\\_alignment.sam & X2018..WBR.BBY.W25.CV\\_alignment.sam & X2018..BBB.WBV.B70.CV\\_alignment.sam & X2018..BPR.BPG.O38.CV\\_alignment.sam & X2018..WBV.WBO.W23.CV\\_alignment.sam & X2018..BBO.BBO.B16.CV\\_alignment.sam & ⋯ & X2018..WPO.BPO.G16.CV\\_alignment.sam & X2018..BBR.BBG.B38.CV\\_alignment.sam & X2018..WBG.WBG.W44.CV\\_alignment.sam & X2018..WPO.BPY.G28.CV\\_alignment.sam & X2018..BBR.BBY.B26.CV\\_alignment.sam & X2018..WBO.BBR.W03.CV\\_alignment.sam & X2018..WPR.BPY.G25.CV\\_alignment.sam & X2018..BBY.WBG.B42.CV\\_alignment.sam & X2018..WBO.WBV.W64.CV\\_alignment.sam & X2018..WPV.BPR.G11.CV\\_alignment.sam\\\\\n",
       "  & <chr> & <chr> & <int> & <int> & <int> & <int> & <int> & <int> & <int> & <int> & ⋯ & <int> & <int> & <int> & <int> & <int> & <int> & <int> & <int> & <int> & <int>\\\\\n",
       "\\hline\n",
       "\t1 & LOC111116054 & NC\\_035780.1 &   26 & 0 & 0 & 0 & 0 & 0 & 0 & 0 & ⋯ & 0 & 0 & 0 & 0 & 1 & 0 & 0 & 0 & 0 & 0\\\\\n",
       "\t2 & LOC111116054 & NC\\_035780.1 &   54 & 0 & 0 & 0 & 0 & 0 & 0 & 0 & ⋯ & 0 & 0 & 0 & 0 & 0 & 0 & 0 & 0 & 0 & 0\\\\\n",
       "\t3 & LOC111116054 & NC\\_035780.1 &   38 & 0 & 0 & 0 & 0 & 0 & 0 & 0 & ⋯ & 0 & 0 & 0 & 0 & 0 & 0 & 0 & 0 & 0 & 0\\\\\n",
       "\t4 & LOC111126949 & NC\\_035780.1 &  113 & 0 & 0 & 0 & 0 & 0 & 0 & 0 & ⋯ & 0 & 0 & 0 & 0 & 0 & 0 & 0 & 0 & 0 & 0\\\\\n",
       "\t5 & LOC111126949 & NC\\_035780.1 & 1034 & 0 & 0 & 0 & 0 & 0 & 0 & 0 & ⋯ & 0 & 0 & 0 & 0 & 0 & 0 & 0 & 0 & 0 & 0\\\\\n",
       "\t6 & LOC111126949 & NC\\_035780.1 &  152 & 0 & 0 & 0 & 0 & 0 & 0 & 0 & ⋯ & 0 & 0 & 0 & 0 & 0 & 0 & 0 & 0 & 0 & 0\\\\\n",
       "\\end{tabular}\n"
      ],
      "text/markdown": [
       "\n",
       "A data.frame: 6 × 33\n",
       "\n",
       "| <!--/--> | GeneID &lt;chr&gt; | Chr &lt;chr&gt; | Length &lt;int&gt; | X2018..BBB.WBO.B21.CV_alignment.sam &lt;int&gt; | X2018..BPO.BPO.O16.CV_alignment.sam &lt;int&gt; | X2018..WBR.BBY.W25.CV_alignment.sam &lt;int&gt; | X2018..BBB.WBV.B70.CV_alignment.sam &lt;int&gt; | X2018..BPR.BPG.O38.CV_alignment.sam &lt;int&gt; | X2018..WBV.WBO.W23.CV_alignment.sam &lt;int&gt; | X2018..BBO.BBO.B16.CV_alignment.sam &lt;int&gt; | ⋯ ⋯ | X2018..WPO.BPO.G16.CV_alignment.sam &lt;int&gt; | X2018..BBR.BBG.B38.CV_alignment.sam &lt;int&gt; | X2018..WBG.WBG.W44.CV_alignment.sam &lt;int&gt; | X2018..WPO.BPY.G28.CV_alignment.sam &lt;int&gt; | X2018..BBR.BBY.B26.CV_alignment.sam &lt;int&gt; | X2018..WBO.BBR.W03.CV_alignment.sam &lt;int&gt; | X2018..WPR.BPY.G25.CV_alignment.sam &lt;int&gt; | X2018..BBY.WBG.B42.CV_alignment.sam &lt;int&gt; | X2018..WBO.WBV.W64.CV_alignment.sam &lt;int&gt; | X2018..WPV.BPR.G11.CV_alignment.sam &lt;int&gt; |\n",
       "|---|---|---|---|---|---|---|---|---|---|---|---|---|---|---|---|---|---|---|---|---|---|\n",
       "| 1 | LOC111116054 | NC_035780.1 |   26 | 0 | 0 | 0 | 0 | 0 | 0 | 0 | ⋯ | 0 | 0 | 0 | 0 | 1 | 0 | 0 | 0 | 0 | 0 |\n",
       "| 2 | LOC111116054 | NC_035780.1 |   54 | 0 | 0 | 0 | 0 | 0 | 0 | 0 | ⋯ | 0 | 0 | 0 | 0 | 0 | 0 | 0 | 0 | 0 | 0 |\n",
       "| 3 | LOC111116054 | NC_035780.1 |   38 | 0 | 0 | 0 | 0 | 0 | 0 | 0 | ⋯ | 0 | 0 | 0 | 0 | 0 | 0 | 0 | 0 | 0 | 0 |\n",
       "| 4 | LOC111126949 | NC_035780.1 |  113 | 0 | 0 | 0 | 0 | 0 | 0 | 0 | ⋯ | 0 | 0 | 0 | 0 | 0 | 0 | 0 | 0 | 0 | 0 |\n",
       "| 5 | LOC111126949 | NC_035780.1 | 1034 | 0 | 0 | 0 | 0 | 0 | 0 | 0 | ⋯ | 0 | 0 | 0 | 0 | 0 | 0 | 0 | 0 | 0 | 0 |\n",
       "| 6 | LOC111126949 | NC_035780.1 |  152 | 0 | 0 | 0 | 0 | 0 | 0 | 0 | ⋯ | 0 | 0 | 0 | 0 | 0 | 0 | 0 | 0 | 0 | 0 |\n",
       "\n"
      ],
      "text/plain": [
       "  GeneID       Chr         Length X2018..BBB.WBO.B21.CV_alignment.sam\n",
       "1 LOC111116054 NC_035780.1   26   0                                  \n",
       "2 LOC111116054 NC_035780.1   54   0                                  \n",
       "3 LOC111116054 NC_035780.1   38   0                                  \n",
       "4 LOC111126949 NC_035780.1  113   0                                  \n",
       "5 LOC111126949 NC_035780.1 1034   0                                  \n",
       "6 LOC111126949 NC_035780.1  152   0                                  \n",
       "  X2018..BPO.BPO.O16.CV_alignment.sam X2018..WBR.BBY.W25.CV_alignment.sam\n",
       "1 0                                   0                                  \n",
       "2 0                                   0                                  \n",
       "3 0                                   0                                  \n",
       "4 0                                   0                                  \n",
       "5 0                                   0                                  \n",
       "6 0                                   0                                  \n",
       "  X2018..BBB.WBV.B70.CV_alignment.sam X2018..BPR.BPG.O38.CV_alignment.sam\n",
       "1 0                                   0                                  \n",
       "2 0                                   0                                  \n",
       "3 0                                   0                                  \n",
       "4 0                                   0                                  \n",
       "5 0                                   0                                  \n",
       "6 0                                   0                                  \n",
       "  X2018..WBV.WBO.W23.CV_alignment.sam X2018..BBO.BBO.B16.CV_alignment.sam ⋯\n",
       "1 0                                   0                                   ⋯\n",
       "2 0                                   0                                   ⋯\n",
       "3 0                                   0                                   ⋯\n",
       "4 0                                   0                                   ⋯\n",
       "5 0                                   0                                   ⋯\n",
       "6 0                                   0                                   ⋯\n",
       "  X2018..WPO.BPO.G16.CV_alignment.sam X2018..BBR.BBG.B38.CV_alignment.sam\n",
       "1 0                                   0                                  \n",
       "2 0                                   0                                  \n",
       "3 0                                   0                                  \n",
       "4 0                                   0                                  \n",
       "5 0                                   0                                  \n",
       "6 0                                   0                                  \n",
       "  X2018..WBG.WBG.W44.CV_alignment.sam X2018..WPO.BPY.G28.CV_alignment.sam\n",
       "1 0                                   0                                  \n",
       "2 0                                   0                                  \n",
       "3 0                                   0                                  \n",
       "4 0                                   0                                  \n",
       "5 0                                   0                                  \n",
       "6 0                                   0                                  \n",
       "  X2018..BBR.BBY.B26.CV_alignment.sam X2018..WBO.BBR.W03.CV_alignment.sam\n",
       "1 1                                   0                                  \n",
       "2 0                                   0                                  \n",
       "3 0                                   0                                  \n",
       "4 0                                   0                                  \n",
       "5 0                                   0                                  \n",
       "6 0                                   0                                  \n",
       "  X2018..WPR.BPY.G25.CV_alignment.sam X2018..BBY.WBG.B42.CV_alignment.sam\n",
       "1 0                                   0                                  \n",
       "2 0                                   0                                  \n",
       "3 0                                   0                                  \n",
       "4 0                                   0                                  \n",
       "5 0                                   0                                  \n",
       "6 0                                   0                                  \n",
       "  X2018..WBO.WBV.W64.CV_alignment.sam X2018..WPV.BPR.G11.CV_alignment.sam\n",
       "1 0                                   0                                  \n",
       "2 0                                   0                                  \n",
       "3 0                                   0                                  \n",
       "4 0                                   0                                  \n",
       "5 0                                   0                                  \n",
       "6 0                                   0                                  "
      ]
     },
     "metadata": {},
     "output_type": "display_data"
    }
   ],
   "source": [
    "counts <- read.table('/project/pi_sarah_gignouxwolfsohn_uml_edu/julia/CE_MethylRAD_analysis_2018/analysis/exons/fc_feature_counts.txt', header = TRUE)\n",
    "counts <- counts[grepl(\"LOC\", counts$GeneID), ]\n",
    "head(counts)"
   ]
  },
  {
   "cell_type": "code",
   "execution_count": 38,
   "id": "9d3e5330-074d-48b0-afe7-8f1f866e5afe",
   "metadata": {},
   "outputs": [
    {
     "name": "stderr",
     "output_type": "stream",
     "text": [
      "\u001b[1m\u001b[22m`summarise()` has grouped output by 'GeneID'. You can override using the\n",
      "`.groups` argument.\n"
     ]
    },
    {
     "data": {
      "text/html": [
       "<table class=\"dataframe\">\n",
       "<caption>A grouped_df: 38828 × 3</caption>\n",
       "<thead>\n",
       "\t<tr><th scope=col>GeneID</th><th scope=col>Chr</th><th scope=col>exon_count</th></tr>\n",
       "\t<tr><th scope=col>&lt;chr&gt;</th><th scope=col>&lt;chr&gt;</th><th scope=col>&lt;int&gt;</th></tr>\n",
       "</thead>\n",
       "<tbody>\n",
       "\t<tr><td>LOC111099029</td><td>NC_035780.1</td><td> 33</td></tr>\n",
       "\t<tr><td>LOC111099030</td><td>NC_035780.1</td><td>  4</td></tr>\n",
       "\t<tr><td>LOC111099031</td><td>NC_035784.1</td><td> 28</td></tr>\n",
       "\t<tr><td>LOC111099032</td><td>NC_035784.1</td><td>  2</td></tr>\n",
       "\t<tr><td>LOC111099033</td><td>NC_035780.1</td><td> 12</td></tr>\n",
       "\t<tr><td>LOC111099034</td><td>NC_035784.1</td><td>  4</td></tr>\n",
       "\t<tr><td>LOC111099035</td><td>NC_035784.1</td><td> 20</td></tr>\n",
       "\t<tr><td>LOC111099036</td><td>NC_035784.1</td><td> 12</td></tr>\n",
       "\t<tr><td>LOC111099037</td><td>NC_035784.1</td><td>  2</td></tr>\n",
       "\t<tr><td>LOC111099038</td><td>NC_035784.1</td><td>  2</td></tr>\n",
       "\t<tr><td>LOC111099039</td><td>NC_035784.1</td><td>  2</td></tr>\n",
       "\t<tr><td>LOC111099040</td><td>NC_035784.1</td><td>720</td></tr>\n",
       "\t<tr><td>LOC111099041</td><td>NC_035780.1</td><td> 14</td></tr>\n",
       "\t<tr><td>LOC111099042</td><td>NC_035784.1</td><td>  7</td></tr>\n",
       "\t<tr><td>LOC111099043</td><td>NC_035784.1</td><td> 11</td></tr>\n",
       "\t<tr><td>LOC111099044</td><td>NC_035780.1</td><td>  3</td></tr>\n",
       "\t<tr><td>LOC111099045</td><td>NC_035784.1</td><td> 28</td></tr>\n",
       "\t<tr><td>LOC111099046</td><td>NC_035780.1</td><td> 28</td></tr>\n",
       "\t<tr><td>LOC111099047</td><td>NC_035784.1</td><td> 98</td></tr>\n",
       "\t<tr><td>LOC111099048</td><td>NC_035784.1</td><td>  4</td></tr>\n",
       "\t<tr><td>LOC111099049</td><td>NC_035780.1</td><td>  7</td></tr>\n",
       "\t<tr><td>LOC111099050</td><td>NC_035784.1</td><td> 14</td></tr>\n",
       "\t<tr><td>LOC111099051</td><td>NC_035784.1</td><td>  2</td></tr>\n",
       "\t<tr><td>LOC111099052</td><td>NC_035784.1</td><td>  5</td></tr>\n",
       "\t<tr><td>LOC111099053</td><td>NC_035784.1</td><td>  9</td></tr>\n",
       "\t<tr><td>LOC111099054</td><td>NC_035784.1</td><td>  1</td></tr>\n",
       "\t<tr><td>LOC111099055</td><td>NC_035784.1</td><td> 22</td></tr>\n",
       "\t<tr><td>LOC111099056</td><td>NC_035784.1</td><td> 60</td></tr>\n",
       "\t<tr><td>LOC111099057</td><td>NC_035784.1</td><td>  2</td></tr>\n",
       "\t<tr><td>LOC111099058</td><td>NC_035784.1</td><td>  3</td></tr>\n",
       "\t<tr><td>⋮</td><td>⋮</td><td>⋮</td></tr>\n",
       "\t<tr><td>Trnav-uac   </td><td>NC_035782.1</td><td>1</td></tr>\n",
       "\t<tr><td>Trnav-uac_1 </td><td>NC_035782.1</td><td>1</td></tr>\n",
       "\t<tr><td>Trnav-uac_2 </td><td>NC_035782.1</td><td>1</td></tr>\n",
       "\t<tr><td>Trnav-uac_3 </td><td>NC_035784.1</td><td>1</td></tr>\n",
       "\t<tr><td>Trnav-uac_4 </td><td>NC_035786.1</td><td>1</td></tr>\n",
       "\t<tr><td>Trnaw-cca   </td><td>NC_035780.1</td><td>1</td></tr>\n",
       "\t<tr><td>Trnaw-cca_1 </td><td>NC_035780.1</td><td>1</td></tr>\n",
       "\t<tr><td>Trnaw-cca_2 </td><td>NC_035780.1</td><td>1</td></tr>\n",
       "\t<tr><td>Trnaw-cca_3 </td><td>NC_035780.1</td><td>1</td></tr>\n",
       "\t<tr><td>Trnaw-cca_4 </td><td>NC_035780.1</td><td>1</td></tr>\n",
       "\t<tr><td>Trnaw-cca_5 </td><td>NC_035780.1</td><td>1</td></tr>\n",
       "\t<tr><td>Trnaw-cca_6 </td><td>NC_035780.1</td><td>1</td></tr>\n",
       "\t<tr><td>Trnaw-cca_7 </td><td>NC_035780.1</td><td>1</td></tr>\n",
       "\t<tr><td>Trnaw-cca_8 </td><td>NC_035784.1</td><td>1</td></tr>\n",
       "\t<tr><td>Trnay-aua   </td><td>NC_035781.1</td><td>1</td></tr>\n",
       "\t<tr><td>Trnay-aua_1 </td><td>NC_035781.1</td><td>1</td></tr>\n",
       "\t<tr><td>Trnay-gua   </td><td>NC_035782.1</td><td>2</td></tr>\n",
       "\t<tr><td>Trnay-gua_1 </td><td>NC_035783.1</td><td>2</td></tr>\n",
       "\t<tr><td>Trnay-gua_10</td><td>NC_035784.1</td><td>2</td></tr>\n",
       "\t<tr><td>Trnay-gua_11</td><td>NC_035784.1</td><td>2</td></tr>\n",
       "\t<tr><td>Trnay-gua_12</td><td>NC_035787.1</td><td>2</td></tr>\n",
       "\t<tr><td>Trnay-gua_13</td><td>NC_035787.1</td><td>2</td></tr>\n",
       "\t<tr><td>Trnay-gua_2 </td><td>NC_035783.1</td><td>2</td></tr>\n",
       "\t<tr><td>Trnay-gua_3 </td><td>NC_035783.1</td><td>2</td></tr>\n",
       "\t<tr><td>Trnay-gua_4 </td><td>NC_035783.1</td><td>2</td></tr>\n",
       "\t<tr><td>Trnay-gua_5 </td><td>NC_035784.1</td><td>2</td></tr>\n",
       "\t<tr><td>Trnay-gua_6 </td><td>NC_035784.1</td><td>2</td></tr>\n",
       "\t<tr><td>Trnay-gua_7 </td><td>NC_035784.1</td><td>2</td></tr>\n",
       "\t<tr><td>Trnay-gua_8 </td><td>NC_035784.1</td><td>2</td></tr>\n",
       "\t<tr><td>Trnay-gua_9 </td><td>NC_035784.1</td><td>2</td></tr>\n",
       "</tbody>\n",
       "</table>\n"
      ],
      "text/latex": [
       "A grouped\\_df: 38828 × 3\n",
       "\\begin{tabular}{lll}\n",
       " GeneID & Chr & exon\\_count\\\\\n",
       " <chr> & <chr> & <int>\\\\\n",
       "\\hline\n",
       "\t LOC111099029 & NC\\_035780.1 &  33\\\\\n",
       "\t LOC111099030 & NC\\_035780.1 &   4\\\\\n",
       "\t LOC111099031 & NC\\_035784.1 &  28\\\\\n",
       "\t LOC111099032 & NC\\_035784.1 &   2\\\\\n",
       "\t LOC111099033 & NC\\_035780.1 &  12\\\\\n",
       "\t LOC111099034 & NC\\_035784.1 &   4\\\\\n",
       "\t LOC111099035 & NC\\_035784.1 &  20\\\\\n",
       "\t LOC111099036 & NC\\_035784.1 &  12\\\\\n",
       "\t LOC111099037 & NC\\_035784.1 &   2\\\\\n",
       "\t LOC111099038 & NC\\_035784.1 &   2\\\\\n",
       "\t LOC111099039 & NC\\_035784.1 &   2\\\\\n",
       "\t LOC111099040 & NC\\_035784.1 & 720\\\\\n",
       "\t LOC111099041 & NC\\_035780.1 &  14\\\\\n",
       "\t LOC111099042 & NC\\_035784.1 &   7\\\\\n",
       "\t LOC111099043 & NC\\_035784.1 &  11\\\\\n",
       "\t LOC111099044 & NC\\_035780.1 &   3\\\\\n",
       "\t LOC111099045 & NC\\_035784.1 &  28\\\\\n",
       "\t LOC111099046 & NC\\_035780.1 &  28\\\\\n",
       "\t LOC111099047 & NC\\_035784.1 &  98\\\\\n",
       "\t LOC111099048 & NC\\_035784.1 &   4\\\\\n",
       "\t LOC111099049 & NC\\_035780.1 &   7\\\\\n",
       "\t LOC111099050 & NC\\_035784.1 &  14\\\\\n",
       "\t LOC111099051 & NC\\_035784.1 &   2\\\\\n",
       "\t LOC111099052 & NC\\_035784.1 &   5\\\\\n",
       "\t LOC111099053 & NC\\_035784.1 &   9\\\\\n",
       "\t LOC111099054 & NC\\_035784.1 &   1\\\\\n",
       "\t LOC111099055 & NC\\_035784.1 &  22\\\\\n",
       "\t LOC111099056 & NC\\_035784.1 &  60\\\\\n",
       "\t LOC111099057 & NC\\_035784.1 &   2\\\\\n",
       "\t LOC111099058 & NC\\_035784.1 &   3\\\\\n",
       "\t ⋮ & ⋮ & ⋮\\\\\n",
       "\t Trnav-uac    & NC\\_035782.1 & 1\\\\\n",
       "\t Trnav-uac\\_1  & NC\\_035782.1 & 1\\\\\n",
       "\t Trnav-uac\\_2  & NC\\_035782.1 & 1\\\\\n",
       "\t Trnav-uac\\_3  & NC\\_035784.1 & 1\\\\\n",
       "\t Trnav-uac\\_4  & NC\\_035786.1 & 1\\\\\n",
       "\t Trnaw-cca    & NC\\_035780.1 & 1\\\\\n",
       "\t Trnaw-cca\\_1  & NC\\_035780.1 & 1\\\\\n",
       "\t Trnaw-cca\\_2  & NC\\_035780.1 & 1\\\\\n",
       "\t Trnaw-cca\\_3  & NC\\_035780.1 & 1\\\\\n",
       "\t Trnaw-cca\\_4  & NC\\_035780.1 & 1\\\\\n",
       "\t Trnaw-cca\\_5  & NC\\_035780.1 & 1\\\\\n",
       "\t Trnaw-cca\\_6  & NC\\_035780.1 & 1\\\\\n",
       "\t Trnaw-cca\\_7  & NC\\_035780.1 & 1\\\\\n",
       "\t Trnaw-cca\\_8  & NC\\_035784.1 & 1\\\\\n",
       "\t Trnay-aua    & NC\\_035781.1 & 1\\\\\n",
       "\t Trnay-aua\\_1  & NC\\_035781.1 & 1\\\\\n",
       "\t Trnay-gua    & NC\\_035782.1 & 2\\\\\n",
       "\t Trnay-gua\\_1  & NC\\_035783.1 & 2\\\\\n",
       "\t Trnay-gua\\_10 & NC\\_035784.1 & 2\\\\\n",
       "\t Trnay-gua\\_11 & NC\\_035784.1 & 2\\\\\n",
       "\t Trnay-gua\\_12 & NC\\_035787.1 & 2\\\\\n",
       "\t Trnay-gua\\_13 & NC\\_035787.1 & 2\\\\\n",
       "\t Trnay-gua\\_2  & NC\\_035783.1 & 2\\\\\n",
       "\t Trnay-gua\\_3  & NC\\_035783.1 & 2\\\\\n",
       "\t Trnay-gua\\_4  & NC\\_035783.1 & 2\\\\\n",
       "\t Trnay-gua\\_5  & NC\\_035784.1 & 2\\\\\n",
       "\t Trnay-gua\\_6  & NC\\_035784.1 & 2\\\\\n",
       "\t Trnay-gua\\_7  & NC\\_035784.1 & 2\\\\\n",
       "\t Trnay-gua\\_8  & NC\\_035784.1 & 2\\\\\n",
       "\t Trnay-gua\\_9  & NC\\_035784.1 & 2\\\\\n",
       "\\end{tabular}\n"
      ],
      "text/markdown": [
       "\n",
       "A grouped_df: 38828 × 3\n",
       "\n",
       "| GeneID &lt;chr&gt; | Chr &lt;chr&gt; | exon_count &lt;int&gt; |\n",
       "|---|---|---|\n",
       "| LOC111099029 | NC_035780.1 |  33 |\n",
       "| LOC111099030 | NC_035780.1 |   4 |\n",
       "| LOC111099031 | NC_035784.1 |  28 |\n",
       "| LOC111099032 | NC_035784.1 |   2 |\n",
       "| LOC111099033 | NC_035780.1 |  12 |\n",
       "| LOC111099034 | NC_035784.1 |   4 |\n",
       "| LOC111099035 | NC_035784.1 |  20 |\n",
       "| LOC111099036 | NC_035784.1 |  12 |\n",
       "| LOC111099037 | NC_035784.1 |   2 |\n",
       "| LOC111099038 | NC_035784.1 |   2 |\n",
       "| LOC111099039 | NC_035784.1 |   2 |\n",
       "| LOC111099040 | NC_035784.1 | 720 |\n",
       "| LOC111099041 | NC_035780.1 |  14 |\n",
       "| LOC111099042 | NC_035784.1 |   7 |\n",
       "| LOC111099043 | NC_035784.1 |  11 |\n",
       "| LOC111099044 | NC_035780.1 |   3 |\n",
       "| LOC111099045 | NC_035784.1 |  28 |\n",
       "| LOC111099046 | NC_035780.1 |  28 |\n",
       "| LOC111099047 | NC_035784.1 |  98 |\n",
       "| LOC111099048 | NC_035784.1 |   4 |\n",
       "| LOC111099049 | NC_035780.1 |   7 |\n",
       "| LOC111099050 | NC_035784.1 |  14 |\n",
       "| LOC111099051 | NC_035784.1 |   2 |\n",
       "| LOC111099052 | NC_035784.1 |   5 |\n",
       "| LOC111099053 | NC_035784.1 |   9 |\n",
       "| LOC111099054 | NC_035784.1 |   1 |\n",
       "| LOC111099055 | NC_035784.1 |  22 |\n",
       "| LOC111099056 | NC_035784.1 |  60 |\n",
       "| LOC111099057 | NC_035784.1 |   2 |\n",
       "| LOC111099058 | NC_035784.1 |   3 |\n",
       "| ⋮ | ⋮ | ⋮ |\n",
       "| Trnav-uac    | NC_035782.1 | 1 |\n",
       "| Trnav-uac_1  | NC_035782.1 | 1 |\n",
       "| Trnav-uac_2  | NC_035782.1 | 1 |\n",
       "| Trnav-uac_3  | NC_035784.1 | 1 |\n",
       "| Trnav-uac_4  | NC_035786.1 | 1 |\n",
       "| Trnaw-cca    | NC_035780.1 | 1 |\n",
       "| Trnaw-cca_1  | NC_035780.1 | 1 |\n",
       "| Trnaw-cca_2  | NC_035780.1 | 1 |\n",
       "| Trnaw-cca_3  | NC_035780.1 | 1 |\n",
       "| Trnaw-cca_4  | NC_035780.1 | 1 |\n",
       "| Trnaw-cca_5  | NC_035780.1 | 1 |\n",
       "| Trnaw-cca_6  | NC_035780.1 | 1 |\n",
       "| Trnaw-cca_7  | NC_035780.1 | 1 |\n",
       "| Trnaw-cca_8  | NC_035784.1 | 1 |\n",
       "| Trnay-aua    | NC_035781.1 | 1 |\n",
       "| Trnay-aua_1  | NC_035781.1 | 1 |\n",
       "| Trnay-gua    | NC_035782.1 | 2 |\n",
       "| Trnay-gua_1  | NC_035783.1 | 2 |\n",
       "| Trnay-gua_10 | NC_035784.1 | 2 |\n",
       "| Trnay-gua_11 | NC_035784.1 | 2 |\n",
       "| Trnay-gua_12 | NC_035787.1 | 2 |\n",
       "| Trnay-gua_13 | NC_035787.1 | 2 |\n",
       "| Trnay-gua_2  | NC_035783.1 | 2 |\n",
       "| Trnay-gua_3  | NC_035783.1 | 2 |\n",
       "| Trnay-gua_4  | NC_035783.1 | 2 |\n",
       "| Trnay-gua_5  | NC_035784.1 | 2 |\n",
       "| Trnay-gua_6  | NC_035784.1 | 2 |\n",
       "| Trnay-gua_7  | NC_035784.1 | 2 |\n",
       "| Trnay-gua_8  | NC_035784.1 | 2 |\n",
       "| Trnay-gua_9  | NC_035784.1 | 2 |\n",
       "\n"
      ],
      "text/plain": [
       "      GeneID       Chr         exon_count\n",
       "1     LOC111099029 NC_035780.1  33       \n",
       "2     LOC111099030 NC_035780.1   4       \n",
       "3     LOC111099031 NC_035784.1  28       \n",
       "4     LOC111099032 NC_035784.1   2       \n",
       "5     LOC111099033 NC_035780.1  12       \n",
       "6     LOC111099034 NC_035784.1   4       \n",
       "7     LOC111099035 NC_035784.1  20       \n",
       "8     LOC111099036 NC_035784.1  12       \n",
       "9     LOC111099037 NC_035784.1   2       \n",
       "10    LOC111099038 NC_035784.1   2       \n",
       "11    LOC111099039 NC_035784.1   2       \n",
       "12    LOC111099040 NC_035784.1 720       \n",
       "13    LOC111099041 NC_035780.1  14       \n",
       "14    LOC111099042 NC_035784.1   7       \n",
       "15    LOC111099043 NC_035784.1  11       \n",
       "16    LOC111099044 NC_035780.1   3       \n",
       "17    LOC111099045 NC_035784.1  28       \n",
       "18    LOC111099046 NC_035780.1  28       \n",
       "19    LOC111099047 NC_035784.1  98       \n",
       "20    LOC111099048 NC_035784.1   4       \n",
       "21    LOC111099049 NC_035780.1   7       \n",
       "22    LOC111099050 NC_035784.1  14       \n",
       "23    LOC111099051 NC_035784.1   2       \n",
       "24    LOC111099052 NC_035784.1   5       \n",
       "25    LOC111099053 NC_035784.1   9       \n",
       "26    LOC111099054 NC_035784.1   1       \n",
       "27    LOC111099055 NC_035784.1  22       \n",
       "28    LOC111099056 NC_035784.1  60       \n",
       "29    LOC111099057 NC_035784.1   2       \n",
       "30    LOC111099058 NC_035784.1   3       \n",
       "⋮     ⋮            ⋮           ⋮         \n",
       "38799 Trnav-uac    NC_035782.1 1         \n",
       "38800 Trnav-uac_1  NC_035782.1 1         \n",
       "38801 Trnav-uac_2  NC_035782.1 1         \n",
       "38802 Trnav-uac_3  NC_035784.1 1         \n",
       "38803 Trnav-uac_4  NC_035786.1 1         \n",
       "38804 Trnaw-cca    NC_035780.1 1         \n",
       "38805 Trnaw-cca_1  NC_035780.1 1         \n",
       "38806 Trnaw-cca_2  NC_035780.1 1         \n",
       "38807 Trnaw-cca_3  NC_035780.1 1         \n",
       "38808 Trnaw-cca_4  NC_035780.1 1         \n",
       "38809 Trnaw-cca_5  NC_035780.1 1         \n",
       "38810 Trnaw-cca_6  NC_035780.1 1         \n",
       "38811 Trnaw-cca_7  NC_035780.1 1         \n",
       "38812 Trnaw-cca_8  NC_035784.1 1         \n",
       "38813 Trnay-aua    NC_035781.1 1         \n",
       "38814 Trnay-aua_1  NC_035781.1 1         \n",
       "38815 Trnay-gua    NC_035782.1 2         \n",
       "38816 Trnay-gua_1  NC_035783.1 2         \n",
       "38817 Trnay-gua_10 NC_035784.1 2         \n",
       "38818 Trnay-gua_11 NC_035784.1 2         \n",
       "38819 Trnay-gua_12 NC_035787.1 2         \n",
       "38820 Trnay-gua_13 NC_035787.1 2         \n",
       "38821 Trnay-gua_2  NC_035783.1 2         \n",
       "38822 Trnay-gua_3  NC_035783.1 2         \n",
       "38823 Trnay-gua_4  NC_035783.1 2         \n",
       "38824 Trnay-gua_5  NC_035784.1 2         \n",
       "38825 Trnay-gua_6  NC_035784.1 2         \n",
       "38826 Trnay-gua_7  NC_035784.1 2         \n",
       "38827 Trnay-gua_8  NC_035784.1 2         \n",
       "38828 Trnay-gua_9  NC_035784.1 2         "
      ]
     },
     "metadata": {},
     "output_type": "display_data"
    }
   ],
   "source": [
    "# Count exons per gene\n",
    "exon_counts_dt <- counts %>%\n",
    "  group_by(GeneID, Chr) %>%\n",
    "  summarise(exon_count = n())\n",
    "\n",
    "exon_counts_dt"
   ]
  },
  {
   "cell_type": "code",
   "execution_count": 73,
   "id": "9ed6b170-26df-45d8-b06d-133c15663e64",
   "metadata": {},
   "outputs": [
    {
     "data": {
      "image/png": "[encoded data removed]",
      "text/plain": [
       "plot without title"
      ]
     },
     "metadata": {
      "image/png": {
       "height": 300,
       "width": 600
      }
     },
     "output_type": "display_data"
    }
   ],
   "source": [
    "options(repr.plot.width=10, repr.plot.height=5)\n",
    "\n",
    "ggplot(exon_counts_dt, aes(x=GeneID, y=exon_count, col = Chr)) +\n",
    "geom_point() +\n",
    "theme(axis.text.x=element_blank())"
   ]
  },
  {
   "cell_type": "markdown",
   "id": "e5283630-bf0b-4ee9-b7db-eaf6c608b903",
   "metadata": {},
   "source": [
    "#### What percent of exons are methylated? Does this change with treatment? "
   ]
  },
  {
   "cell_type": "code",
   "execution_count": 74,
   "id": "6827a93f-c0b6-4d00-bdc8-4aef65d7cc55",
   "metadata": {},
   "outputs": [
    {
     "data": {
      "text/html": [
       "<style>\n",
       ".list-inline {list-style: none; margin:0; padding: 0}\n",
       ".list-inline>li {display: inline-block}\n",
       ".list-inline>li:not(:last-child)::after {content: \"\\00b7\"; padding: 0 .5ex}\n",
       "</style>\n",
       "<ol class=list-inline><li>725464</li><li>33</li></ol>\n"
      ],
      "text/latex": [
       "\\begin{enumerate*}\n",
       "\\item 725464\n",
       "\\item 33\n",
       "\\end{enumerate*}\n"
      ],
      "text/markdown": [
       "1. 725464\n",
       "2. 33\n",
       "\n",
       "\n"
      ],
      "text/plain": [
       "[1] 725464     33"
      ]
     },
     "metadata": {},
     "output_type": "display_data"
    },
    {
     "data": {
      "text/html": [
       "<style>\n",
       ".list-inline {list-style: none; margin:0; padding: 0}\n",
       ".list-inline>li {display: inline-block}\n",
       ".list-inline>li:not(:last-child)::after {content: \"\\00b7\"; padding: 0 .5ex}\n",
       "</style>\n",
       "<ol class=list-inline><li>21201</li><li>32</li></ol>\n"
      ],
      "text/latex": [
       "\\begin{enumerate*}\n",
       "\\item 21201\n",
       "\\item 32\n",
       "\\end{enumerate*}\n"
      ],
      "text/markdown": [
       "1. 21201\n",
       "2. 32\n",
       "\n",
       "\n"
      ],
      "text/plain": [
       "[1] 21201    32"
      ]
     },
     "metadata": {},
     "output_type": "display_data"
    }
   ],
   "source": [
    "# remove rows with low counts\n",
    "dim(counts)\n",
    "\n",
    "counts2 <- counts[,-3]\n",
    "\n",
    "counts2 <- counts2[-which(rowSums(counts2[sapply(counts2, is.numeric)]) < 10),]\n",
    "dim(counts2)"
   ]
  },
  {
   "cell_type": "code",
   "execution_count": 75,
   "id": "af19330d-2272-43a3-b2a0-0513230c97c0",
   "metadata": {},
   "outputs": [],
   "source": [
    "total_exon <- 725464"
   ]
  },
  {
   "cell_type": "markdown",
   "id": "328f03a6-77a7-4487-a0b9-e4b990695a12",
   "metadata": {},
   "source": [
    "removed ~704,833 rows that had less than 10 sequences total"
   ]
  },
  {
   "cell_type": "code",
   "execution_count": 77,
   "id": "69f86ee2-15b9-463c-9c5f-e9d4915410cd",
   "metadata": {},
   "outputs": [
    {
     "data": {
      "text/html": [
       "2.92240552253454"
      ],
      "text/latex": [
       "2.92240552253454"
      ],
      "text/markdown": [
       "2.92240552253454"
      ],
      "text/plain": [
       "[1] 2.922406"
      ]
     },
     "metadata": {},
     "output_type": "display_data"
    }
   ],
   "source": [
    "(21201/total_exon)*100"
   ]
  },
  {
   "cell_type": "markdown",
   "id": "16b5b6e1-b45d-4ee9-b42d-9d07c68dce6d",
   "metadata": {},
   "source": [
    "3% of exons are methylated?? is that what that means?"
   ]
  },
  {
   "cell_type": "code",
   "execution_count": 55,
   "id": "0f7f4cc9-6cc9-49c6-a6d2-0beb9d181112",
   "metadata": {},
   "outputs": [
    {
     "data": {
      "text/html": [
       "<table class=\"dataframe\">\n",
       "<caption>A data.frame: 6 × 13</caption>\n",
       "<thead>\n",
       "\t<tr><th></th><th scope=col>sample_ID</th><th scope=col>unique_ID</th><th scope=col>T1_code</th><th scope=col>T2_code</th><th scope=col>ID_code</th><th scope=col>T1_oxygen</th><th scope=col>T1_temp</th><th scope=col>Tank1</th><th scope=col>T2_oxygen</th><th scope=col>T2_temp</th><th scope=col>Tank2</th><th scope=col>Phase1</th><th scope=col>Phase2</th></tr>\n",
       "\t<tr><th></th><th scope=col>&lt;chr&gt;</th><th scope=col>&lt;chr&gt;</th><th scope=col>&lt;chr&gt;</th><th scope=col>&lt;chr&gt;</th><th scope=col>&lt;chr&gt;</th><th scope=col>&lt;chr&gt;</th><th scope=col>&lt;chr&gt;</th><th scope=col>&lt;chr&gt;</th><th scope=col>&lt;chr&gt;</th><th scope=col>&lt;chr&gt;</th><th scope=col>&lt;chr&gt;</th><th scope=col>&lt;chr&gt;</th><th scope=col>&lt;chr&gt;</th></tr>\n",
       "</thead>\n",
       "<tbody>\n",
       "\t<tr><th scope=row>1</th><td>2018--BBB-WBO-B21-CV</td><td>BBB-WBO-B21</td><td>BBB</td><td>WBO</td><td>B21</td><td>hypoxic</td><td>ambient</td><td>B</td><td>normoxic</td><td>ambient</td><td>O</td><td>hypoxic</td><td>control</td></tr>\n",
       "\t<tr><th scope=row>2</th><td>2018--BBB-WBV-B70-CV</td><td>BBB-WBV-B70</td><td>BBB</td><td>WBV</td><td>B70</td><td>hypoxic</td><td>ambient</td><td>B</td><td>normoxic</td><td>ambient</td><td>V</td><td>hypoxic</td><td>control</td></tr>\n",
       "\t<tr><th scope=row>3</th><td>2018--BBO-BBO-B16-CV</td><td>BBO-BBO-B16</td><td>BBO</td><td>BBO</td><td>B16</td><td>hypoxic</td><td>ambient</td><td>O</td><td>hypoxic </td><td>ambient</td><td>O</td><td>hypoxic</td><td>hypoxic</td></tr>\n",
       "\t<tr><th scope=row>4</th><td>2018--BBO-BBY-B27-CV</td><td>BBO-BBY-B27</td><td>BBO</td><td>BBY</td><td>B27</td><td>hypoxic</td><td>ambient</td><td>O</td><td>hypoxic </td><td>ambient</td><td>Y</td><td>hypoxic</td><td>hypoxic</td></tr>\n",
       "\t<tr><th scope=row>5</th><td>2018--BBO-WBO-B16-CV</td><td>BBO-WBO-B16</td><td>BBO</td><td>WBO</td><td>B16</td><td>hypoxic</td><td>ambient</td><td>O</td><td>normoxic</td><td>ambient</td><td>O</td><td>hypoxic</td><td>control</td></tr>\n",
       "\t<tr><th scope=row>6</th><td>2018--BBO-WBV-B64-CV</td><td>BBO-WBV-B64</td><td>BBO</td><td>WBV</td><td>B64</td><td>hypoxic</td><td>ambient</td><td>O</td><td>normoxic</td><td>ambient</td><td>V</td><td>hypoxic</td><td>control</td></tr>\n",
       "</tbody>\n",
       "</table>\n"
      ],
      "text/latex": [
       "A data.frame: 6 × 13\n",
       "\\begin{tabular}{r|lllllllllllll}\n",
       "  & sample\\_ID & unique\\_ID & T1\\_code & T2\\_code & ID\\_code & T1\\_oxygen & T1\\_temp & Tank1 & T2\\_oxygen & T2\\_temp & Tank2 & Phase1 & Phase2\\\\\n",
       "  & <chr> & <chr> & <chr> & <chr> & <chr> & <chr> & <chr> & <chr> & <chr> & <chr> & <chr> & <chr> & <chr>\\\\\n",
       "\\hline\n",
       "\t1 & 2018--BBB-WBO-B21-CV & BBB-WBO-B21 & BBB & WBO & B21 & hypoxic & ambient & B & normoxic & ambient & O & hypoxic & control\\\\\n",
       "\t2 & 2018--BBB-WBV-B70-CV & BBB-WBV-B70 & BBB & WBV & B70 & hypoxic & ambient & B & normoxic & ambient & V & hypoxic & control\\\\\n",
       "\t3 & 2018--BBO-BBO-B16-CV & BBO-BBO-B16 & BBO & BBO & B16 & hypoxic & ambient & O & hypoxic  & ambient & O & hypoxic & hypoxic\\\\\n",
       "\t4 & 2018--BBO-BBY-B27-CV & BBO-BBY-B27 & BBO & BBY & B27 & hypoxic & ambient & O & hypoxic  & ambient & Y & hypoxic & hypoxic\\\\\n",
       "\t5 & 2018--BBO-WBO-B16-CV & BBO-WBO-B16 & BBO & WBO & B16 & hypoxic & ambient & O & normoxic & ambient & O & hypoxic & control\\\\\n",
       "\t6 & 2018--BBO-WBV-B64-CV & BBO-WBV-B64 & BBO & WBV & B64 & hypoxic & ambient & O & normoxic & ambient & V & hypoxic & control\\\\\n",
       "\\end{tabular}\n"
      ],
      "text/markdown": [
       "\n",
       "A data.frame: 6 × 13\n",
       "\n",
       "| <!--/--> | sample_ID &lt;chr&gt; | unique_ID &lt;chr&gt; | T1_code &lt;chr&gt; | T2_code &lt;chr&gt; | ID_code &lt;chr&gt; | T1_oxygen &lt;chr&gt; | T1_temp &lt;chr&gt; | Tank1 &lt;chr&gt; | T2_oxygen &lt;chr&gt; | T2_temp &lt;chr&gt; | Tank2 &lt;chr&gt; | Phase1 &lt;chr&gt; | Phase2 &lt;chr&gt; |\n",
       "|---|---|---|---|---|---|---|---|---|---|---|---|---|---|\n",
       "| 1 | 2018--BBB-WBO-B21-CV | BBB-WBO-B21 | BBB | WBO | B21 | hypoxic | ambient | B | normoxic | ambient | O | hypoxic | control |\n",
       "| 2 | 2018--BBB-WBV-B70-CV | BBB-WBV-B70 | BBB | WBV | B70 | hypoxic | ambient | B | normoxic | ambient | V | hypoxic | control |\n",
       "| 3 | 2018--BBO-BBO-B16-CV | BBO-BBO-B16 | BBO | BBO | B16 | hypoxic | ambient | O | hypoxic  | ambient | O | hypoxic | hypoxic |\n",
       "| 4 | 2018--BBO-BBY-B27-CV | BBO-BBY-B27 | BBO | BBY | B27 | hypoxic | ambient | O | hypoxic  | ambient | Y | hypoxic | hypoxic |\n",
       "| 5 | 2018--BBO-WBO-B16-CV | BBO-WBO-B16 | BBO | WBO | B16 | hypoxic | ambient | O | normoxic | ambient | O | hypoxic | control |\n",
       "| 6 | 2018--BBO-WBV-B64-CV | BBO-WBV-B64 | BBO | WBV | B64 | hypoxic | ambient | O | normoxic | ambient | V | hypoxic | control |\n",
       "\n"
      ],
      "text/plain": [
       "  sample_ID            unique_ID   T1_code T2_code ID_code T1_oxygen T1_temp\n",
       "1 2018--BBB-WBO-B21-CV BBB-WBO-B21 BBB     WBO     B21     hypoxic   ambient\n",
       "2 2018--BBB-WBV-B70-CV BBB-WBV-B70 BBB     WBV     B70     hypoxic   ambient\n",
       "3 2018--BBO-BBO-B16-CV BBO-BBO-B16 BBO     BBO     B16     hypoxic   ambient\n",
       "4 2018--BBO-BBY-B27-CV BBO-BBY-B27 BBO     BBY     B27     hypoxic   ambient\n",
       "5 2018--BBO-WBO-B16-CV BBO-WBO-B16 BBO     WBO     B16     hypoxic   ambient\n",
       "6 2018--BBO-WBV-B64-CV BBO-WBV-B64 BBO     WBV     B64     hypoxic   ambient\n",
       "  Tank1 T2_oxygen T2_temp Tank2 Phase1  Phase2 \n",
       "1 B     normoxic  ambient O     hypoxic control\n",
       "2 B     normoxic  ambient V     hypoxic control\n",
       "3 O     hypoxic   ambient O     hypoxic hypoxic\n",
       "4 O     hypoxic   ambient Y     hypoxic hypoxic\n",
       "5 O     normoxic  ambient O     hypoxic control\n",
       "6 O     normoxic  ambient V     hypoxic control"
      ]
     },
     "metadata": {},
     "output_type": "display_data"
    }
   ],
   "source": [
    "# read in meta data of samples\n",
    "meta_data <- read.csv('/project/pi_sarah_gignouxwolfsohn_uml_edu/julia/CE_MethylRAD_analysis_2018/analysis/counts_and_meta/CV_CE18_meta.csv')\n",
    "head(meta_data)"
   ]
  },
  {
   "cell_type": "code",
   "execution_count": 78,
   "id": "433c5dc3-d500-4669-9d7f-569393860d87",
   "metadata": {},
   "outputs": [
    {
     "data": {
      "text/html": [
       "<style>\n",
       ".list-inline {list-style: none; margin:0; padding: 0}\n",
       ".list-inline>li {display: inline-block}\n",
       ".list-inline>li:not(:last-child)::after {content: \"\\00b7\"; padding: 0 .5ex}\n",
       "</style>\n",
       "<ol class=list-inline><li>'GeneID'</li><li>'Chr'</li><li>'BBB.WBO.B21'</li><li>'BPO.BPO.O16'</li><li>'WBR.BBY.W25'</li><li>'BBB.WBV.B70'</li></ol>\n"
      ],
      "text/latex": [
       "\\begin{enumerate*}\n",
       "\\item 'GeneID'\n",
       "\\item 'Chr'\n",
       "\\item 'BBB.WBO.B21'\n",
       "\\item 'BPO.BPO.O16'\n",
       "\\item 'WBR.BBY.W25'\n",
       "\\item 'BBB.WBV.B70'\n",
       "\\end{enumerate*}\n"
      ],
      "text/markdown": [
       "1. 'GeneID'\n",
       "2. 'Chr'\n",
       "3. 'BBB.WBO.B21'\n",
       "4. 'BPO.BPO.O16'\n",
       "5. 'WBR.BBY.W25'\n",
       "6. 'BBB.WBV.B70'\n",
       "\n",
       "\n"
      ],
      "text/plain": [
       "[1] \"GeneID\"      \"Chr\"         \"BBB.WBO.B21\" \"BPO.BPO.O16\" \"WBR.BBY.W25\"\n",
       "[6] \"BBB.WBV.B70\""
      ]
     },
     "metadata": {},
     "output_type": "display_data"
    },
    {
     "data": {
      "text/html": [
       "<style>\n",
       ".list-inline {list-style: none; margin:0; padding: 0}\n",
       ".list-inline>li {display: inline-block}\n",
       ".list-inline>li:not(:last-child)::after {content: \"\\00b7\"; padding: 0 .5ex}\n",
       "</style>\n",
       "<ol class=list-inline><li>'GeneID'</li><li>'Chr'</li><li>'BBB-WBO-B21'</li><li>'BPO-BPO-O16'</li><li>'WBR-BBY-W25'</li><li>'BBB-WBV-B70'</li></ol>\n"
      ],
      "text/latex": [
       "\\begin{enumerate*}\n",
       "\\item 'GeneID'\n",
       "\\item 'Chr'\n",
       "\\item 'BBB-WBO-B21'\n",
       "\\item 'BPO-BPO-O16'\n",
       "\\item 'WBR-BBY-W25'\n",
       "\\item 'BBB-WBV-B70'\n",
       "\\end{enumerate*}\n"
      ],
      "text/markdown": [
       "1. 'GeneID'\n",
       "2. 'Chr'\n",
       "3. 'BBB-WBO-B21'\n",
       "4. 'BPO-BPO-O16'\n",
       "5. 'WBR-BBY-W25'\n",
       "6. 'BBB-WBV-B70'\n",
       "\n",
       "\n"
      ],
      "text/plain": [
       "[1] \"GeneID\"      \"Chr\"         \"BBB-WBO-B21\" \"BPO-BPO-O16\" \"WBR-BBY-W25\"\n",
       "[6] \"BBB-WBV-B70\""
      ]
     },
     "metadata": {},
     "output_type": "display_data"
    },
    {
     "data": {
      "text/html": [
       "<table class=\"dataframe\">\n",
       "<caption>A data.frame: 6 × 32</caption>\n",
       "<thead>\n",
       "\t<tr><th></th><th scope=col>GeneID</th><th scope=col>Chr</th><th scope=col>BBB-WBO-B21</th><th scope=col>BPO-BPO-O16</th><th scope=col>WBR-BBY-W25</th><th scope=col>BBB-WBV-B70</th><th scope=col>BPR-BPG-O38</th><th scope=col>WBV-WBO-W23</th><th scope=col>BBO-BBO-B16</th><th scope=col>BPR-BPR-O02</th><th scope=col>⋯</th><th scope=col>WPO-BPO-G16</th><th scope=col>BBR-BBG-B38</th><th scope=col>WBG-WBG-W44</th><th scope=col>WPO-BPY-G28</th><th scope=col>BBR-BBY-B26</th><th scope=col>WBO-BBR-W03</th><th scope=col>WPR-BPY-G25</th><th scope=col>BBY-WBG-B42</th><th scope=col>WBO-WBV-W64</th><th scope=col>WPV-BPR-G11</th></tr>\n",
       "\t<tr><th></th><th scope=col>&lt;chr&gt;</th><th scope=col>&lt;chr&gt;</th><th scope=col>&lt;int&gt;</th><th scope=col>&lt;int&gt;</th><th scope=col>&lt;int&gt;</th><th scope=col>&lt;int&gt;</th><th scope=col>&lt;int&gt;</th><th scope=col>&lt;int&gt;</th><th scope=col>&lt;int&gt;</th><th scope=col>&lt;int&gt;</th><th scope=col>⋯</th><th scope=col>&lt;int&gt;</th><th scope=col>&lt;int&gt;</th><th scope=col>&lt;int&gt;</th><th scope=col>&lt;int&gt;</th><th scope=col>&lt;int&gt;</th><th scope=col>&lt;int&gt;</th><th scope=col>&lt;int&gt;</th><th scope=col>&lt;int&gt;</th><th scope=col>&lt;int&gt;</th><th scope=col>&lt;int&gt;</th></tr>\n",
       "</thead>\n",
       "<tbody>\n",
       "\t<tr><th scope=row>18</th><td>LOC111120752</td><td>NC_035780.1</td><td>  2</td><td> 1</td><td> 0</td><td>  2</td><td> 0</td><td> 0</td><td>  0</td><td> 2</td><td>⋯</td><td> 0</td><td>  0</td><td> 0</td><td> 1</td><td>  0</td><td>0</td><td> 1</td><td> 0</td><td>  1</td><td>0</td></tr>\n",
       "\t<tr><th scope=row>68</th><td>LOC111109452</td><td>NC_035780.1</td><td>  0</td><td> 1</td><td> 0</td><td>  0</td><td> 0</td><td> 0</td><td>  0</td><td> 0</td><td>⋯</td><td> 0</td><td> 12</td><td> 0</td><td> 0</td><td>  0</td><td>0</td><td> 3</td><td> 2</td><td>  7</td><td>0</td></tr>\n",
       "\t<tr><th scope=row>75</th><td>LOC111124802</td><td>NC_035780.1</td><td> 27</td><td> 2</td><td> 5</td><td> 52</td><td> 9</td><td>10</td><td> 13</td><td> 3</td><td>⋯</td><td> 8</td><td> 18</td><td> 7</td><td> 2</td><td>  5</td><td>1</td><td> 1</td><td> 9</td><td> 20</td><td>0</td></tr>\n",
       "\t<tr><th scope=row>80</th><td>LOC111124802</td><td>NC_035780.1</td><td>177</td><td>17</td><td>23</td><td>134</td><td>50</td><td>27</td><td>102</td><td> 5</td><td>⋯</td><td>24</td><td> 64</td><td>17</td><td>17</td><td> 42</td><td>9</td><td>84</td><td>41</td><td> 72</td><td>2</td></tr>\n",
       "\t<tr><th scope=row>95</th><td>LOC111124802</td><td>NC_035780.1</td><td> 28</td><td> 6</td><td>16</td><td> 16</td><td>26</td><td>21</td><td> 49</td><td> 6</td><td>⋯</td><td>19</td><td> 49</td><td> 4</td><td> 0</td><td> 51</td><td>1</td><td>21</td><td>12</td><td> 33</td><td>3</td></tr>\n",
       "\t<tr><th scope=row>97</th><td>LOC111101273</td><td>NC_035780.1</td><td>173</td><td>15</td><td>43</td><td>146</td><td>83</td><td>45</td><td>115</td><td>16</td><td>⋯</td><td>52</td><td>115</td><td>49</td><td>38</td><td>137</td><td>8</td><td>73</td><td>45</td><td>143</td><td>1</td></tr>\n",
       "</tbody>\n",
       "</table>\n"
      ],
      "text/latex": [
       "A data.frame: 6 × 32\n",
       "\\begin{tabular}{r|lllllllllllllllllllll}\n",
       "  & GeneID & Chr & BBB-WBO-B21 & BPO-BPO-O16 & WBR-BBY-W25 & BBB-WBV-B70 & BPR-BPG-O38 & WBV-WBO-W23 & BBO-BBO-B16 & BPR-BPR-O02 & ⋯ & WPO-BPO-G16 & BBR-BBG-B38 & WBG-WBG-W44 & WPO-BPY-G28 & BBR-BBY-B26 & WBO-BBR-W03 & WPR-BPY-G25 & BBY-WBG-B42 & WBO-WBV-W64 & WPV-BPR-G11\\\\\n",
       "  & <chr> & <chr> & <int> & <int> & <int> & <int> & <int> & <int> & <int> & <int> & ⋯ & <int> & <int> & <int> & <int> & <int> & <int> & <int> & <int> & <int> & <int>\\\\\n",
       "\\hline\n",
       "\t18 & LOC111120752 & NC\\_035780.1 &   2 &  1 &  0 &   2 &  0 &  0 &   0 &  2 & ⋯ &  0 &   0 &  0 &  1 &   0 & 0 &  1 &  0 &   1 & 0\\\\\n",
       "\t68 & LOC111109452 & NC\\_035780.1 &   0 &  1 &  0 &   0 &  0 &  0 &   0 &  0 & ⋯ &  0 &  12 &  0 &  0 &   0 & 0 &  3 &  2 &   7 & 0\\\\\n",
       "\t75 & LOC111124802 & NC\\_035780.1 &  27 &  2 &  5 &  52 &  9 & 10 &  13 &  3 & ⋯ &  8 &  18 &  7 &  2 &   5 & 1 &  1 &  9 &  20 & 0\\\\\n",
       "\t80 & LOC111124802 & NC\\_035780.1 & 177 & 17 & 23 & 134 & 50 & 27 & 102 &  5 & ⋯ & 24 &  64 & 17 & 17 &  42 & 9 & 84 & 41 &  72 & 2\\\\\n",
       "\t95 & LOC111124802 & NC\\_035780.1 &  28 &  6 & 16 &  16 & 26 & 21 &  49 &  6 & ⋯ & 19 &  49 &  4 &  0 &  51 & 1 & 21 & 12 &  33 & 3\\\\\n",
       "\t97 & LOC111101273 & NC\\_035780.1 & 173 & 15 & 43 & 146 & 83 & 45 & 115 & 16 & ⋯ & 52 & 115 & 49 & 38 & 137 & 8 & 73 & 45 & 143 & 1\\\\\n",
       "\\end{tabular}\n"
      ],
      "text/markdown": [
       "\n",
       "A data.frame: 6 × 32\n",
       "\n",
       "| <!--/--> | GeneID &lt;chr&gt; | Chr &lt;chr&gt; | BBB-WBO-B21 &lt;int&gt; | BPO-BPO-O16 &lt;int&gt; | WBR-BBY-W25 &lt;int&gt; | BBB-WBV-B70 &lt;int&gt; | BPR-BPG-O38 &lt;int&gt; | WBV-WBO-W23 &lt;int&gt; | BBO-BBO-B16 &lt;int&gt; | BPR-BPR-O02 &lt;int&gt; | ⋯ ⋯ | WPO-BPO-G16 &lt;int&gt; | BBR-BBG-B38 &lt;int&gt; | WBG-WBG-W44 &lt;int&gt; | WPO-BPY-G28 &lt;int&gt; | BBR-BBY-B26 &lt;int&gt; | WBO-BBR-W03 &lt;int&gt; | WPR-BPY-G25 &lt;int&gt; | BBY-WBG-B42 &lt;int&gt; | WBO-WBV-W64 &lt;int&gt; | WPV-BPR-G11 &lt;int&gt; |\n",
       "|---|---|---|---|---|---|---|---|---|---|---|---|---|---|---|---|---|---|---|---|---|---|\n",
       "| 18 | LOC111120752 | NC_035780.1 |   2 |  1 |  0 |   2 |  0 |  0 |   0 |  2 | ⋯ |  0 |   0 |  0 |  1 |   0 | 0 |  1 |  0 |   1 | 0 |\n",
       "| 68 | LOC111109452 | NC_035780.1 |   0 |  1 |  0 |   0 |  0 |  0 |   0 |  0 | ⋯ |  0 |  12 |  0 |  0 |   0 | 0 |  3 |  2 |   7 | 0 |\n",
       "| 75 | LOC111124802 | NC_035780.1 |  27 |  2 |  5 |  52 |  9 | 10 |  13 |  3 | ⋯ |  8 |  18 |  7 |  2 |   5 | 1 |  1 |  9 |  20 | 0 |\n",
       "| 80 | LOC111124802 | NC_035780.1 | 177 | 17 | 23 | 134 | 50 | 27 | 102 |  5 | ⋯ | 24 |  64 | 17 | 17 |  42 | 9 | 84 | 41 |  72 | 2 |\n",
       "| 95 | LOC111124802 | NC_035780.1 |  28 |  6 | 16 |  16 | 26 | 21 |  49 |  6 | ⋯ | 19 |  49 |  4 |  0 |  51 | 1 | 21 | 12 |  33 | 3 |\n",
       "| 97 | LOC111101273 | NC_035780.1 | 173 | 15 | 43 | 146 | 83 | 45 | 115 | 16 | ⋯ | 52 | 115 | 49 | 38 | 137 | 8 | 73 | 45 | 143 | 1 |\n",
       "\n"
      ],
      "text/plain": [
       "   GeneID       Chr         BBB-WBO-B21 BPO-BPO-O16 WBR-BBY-W25 BBB-WBV-B70\n",
       "18 LOC111120752 NC_035780.1   2          1           0            2        \n",
       "68 LOC111109452 NC_035780.1   0          1           0            0        \n",
       "75 LOC111124802 NC_035780.1  27          2           5           52        \n",
       "80 LOC111124802 NC_035780.1 177         17          23          134        \n",
       "95 LOC111124802 NC_035780.1  28          6          16           16        \n",
       "97 LOC111101273 NC_035780.1 173         15          43          146        \n",
       "   BPR-BPG-O38 WBV-WBO-W23 BBO-BBO-B16 BPR-BPR-O02 ⋯ WPO-BPO-G16 BBR-BBG-B38\n",
       "18  0           0            0          2          ⋯  0            0        \n",
       "68  0           0            0          0          ⋯  0           12        \n",
       "75  9          10           13          3          ⋯  8           18        \n",
       "80 50          27          102          5          ⋯ 24           64        \n",
       "95 26          21           49          6          ⋯ 19           49        \n",
       "97 83          45          115         16          ⋯ 52          115        \n",
       "   WBG-WBG-W44 WPO-BPY-G28 BBR-BBY-B26 WBO-BBR-W03 WPR-BPY-G25 BBY-WBG-B42\n",
       "18  0           1            0         0            1           0         \n",
       "68  0           0            0         0            3           2         \n",
       "75  7           2            5         1            1           9         \n",
       "80 17          17           42         9           84          41         \n",
       "95  4           0           51         1           21          12         \n",
       "97 49          38          137         8           73          45         \n",
       "   WBO-WBV-W64 WPV-BPR-G11\n",
       "18   1         0          \n",
       "68   7         0          \n",
       "75  20         0          \n",
       "80  72         2          \n",
       "95  33         3          \n",
       "97 143         1          "
      ]
     },
     "metadata": {},
     "output_type": "display_data"
    }
   ],
   "source": [
    "# cleaning up the column names of feature_counts \n",
    "# code generated with ChatGPT\n",
    "\n",
    "# removing the extra info from the file name\n",
    "cleaned_column_names <- gsub(\"^X2018\\\\.\\\\.\", \"\", gsub(\"\\\\.CV_alignment\\\\.sam$\", \"\", colnames(counts2)))\n",
    "head(cleaned_column_names)\n",
    "\n",
    "# replace the '.' with '-'\n",
    "cleaned_column_names2 <- gsub('\\\\.', \"-\", cleaned_column_names)\n",
    "head(cleaned_column_names2)\n",
    "\n",
    "# now assigning to the columns\n",
    "colnames(counts2) = cleaned_column_names2\n",
    "head(counts2)"
   ]
  },
  {
   "cell_type": "code",
   "execution_count": 79,
   "id": "8552488f-5818-4af6-a9c7-d984586ab33d",
   "metadata": {},
   "outputs": [
    {
     "data": {
      "text/html": [
       "32"
      ],
      "text/latex": [
       "32"
      ],
      "text/markdown": [
       "32"
      ],
      "text/plain": [
       "[1] 32"
      ]
     },
     "metadata": {},
     "output_type": "display_data"
    },
    {
     "data": {
      "text/html": [
       "30"
      ],
      "text/latex": [
       "30"
      ],
      "text/markdown": [
       "30"
      ],
      "text/plain": [
       "[1] 30"
      ]
     },
     "metadata": {},
     "output_type": "display_data"
    }
   ],
   "source": [
    "length(colnames(counts2)) #31\n",
    "length(rownames(meta_data)) #30\n",
    "# number of columns in feature_counts != number of rows in meta_data"
   ]
  },
  {
   "cell_type": "code",
   "execution_count": 59,
   "id": "99d1a6d3-5931-456b-acd7-4b3bff8b0eb8",
   "metadata": {},
   "outputs": [
    {
     "data": {
      "text/html": [
       "<table class=\"dataframe\">\n",
       "<caption>A data.frame: 6 × 13</caption>\n",
       "<thead>\n",
       "\t<tr><th></th><th scope=col>sample_ID</th><th scope=col>unique_ID</th><th scope=col>T1_code</th><th scope=col>T2_code</th><th scope=col>ID_code</th><th scope=col>T1_oxygen</th><th scope=col>T1_temp</th><th scope=col>Tank1</th><th scope=col>T2_oxygen</th><th scope=col>T2_temp</th><th scope=col>Tank2</th><th scope=col>Phase1</th><th scope=col>Phase2</th></tr>\n",
       "\t<tr><th></th><th scope=col>&lt;chr&gt;</th><th scope=col>&lt;chr&gt;</th><th scope=col>&lt;chr&gt;</th><th scope=col>&lt;chr&gt;</th><th scope=col>&lt;chr&gt;</th><th scope=col>&lt;chr&gt;</th><th scope=col>&lt;chr&gt;</th><th scope=col>&lt;chr&gt;</th><th scope=col>&lt;chr&gt;</th><th scope=col>&lt;chr&gt;</th><th scope=col>&lt;chr&gt;</th><th scope=col>&lt;chr&gt;</th><th scope=col>&lt;chr&gt;</th></tr>\n",
       "</thead>\n",
       "<tbody>\n",
       "\t<tr><th scope=row>1</th><td>2018--BBB-WBO-B21-CV</td><td>BBB-WBO-B21</td><td>BBB</td><td>WBO</td><td>B21</td><td>hypoxic</td><td>ambient</td><td>B</td><td>normoxic</td><td>ambient</td><td>O</td><td>hypoxic</td><td>control</td></tr>\n",
       "\t<tr><th scope=row>2</th><td>2018--BBB-WBV-B70-CV</td><td>BBB-WBV-B70</td><td>BBB</td><td>WBV</td><td>B70</td><td>hypoxic</td><td>ambient</td><td>B</td><td>normoxic</td><td>ambient</td><td>V</td><td>hypoxic</td><td>control</td></tr>\n",
       "\t<tr><th scope=row>3</th><td>2018--BBO-BBO-B16-CV</td><td>BBO-BBO-B16</td><td>BBO</td><td>BBO</td><td>B16</td><td>hypoxic</td><td>ambient</td><td>O</td><td>hypoxic </td><td>ambient</td><td>O</td><td>hypoxic</td><td>hypoxic</td></tr>\n",
       "\t<tr><th scope=row>4</th><td>2018--BBO-BBY-B27-CV</td><td>BBO-BBY-B27</td><td>BBO</td><td>BBY</td><td>B27</td><td>hypoxic</td><td>ambient</td><td>O</td><td>hypoxic </td><td>ambient</td><td>Y</td><td>hypoxic</td><td>hypoxic</td></tr>\n",
       "\t<tr><th scope=row>5</th><td>2018--BBO-WBO-B16-CV</td><td>BBO-WBO-B16</td><td>BBO</td><td>WBO</td><td>B16</td><td>hypoxic</td><td>ambient</td><td>O</td><td>normoxic</td><td>ambient</td><td>O</td><td>hypoxic</td><td>control</td></tr>\n",
       "\t<tr><th scope=row>6</th><td>2018--BBO-WBV-B64-CV</td><td>BBO-WBV-B64</td><td>BBO</td><td>WBV</td><td>B64</td><td>hypoxic</td><td>ambient</td><td>O</td><td>normoxic</td><td>ambient</td><td>V</td><td>hypoxic</td><td>control</td></tr>\n",
       "</tbody>\n",
       "</table>\n"
      ],
      "text/latex": [
       "A data.frame: 6 × 13\n",
       "\\begin{tabular}{r|lllllllllllll}\n",
       "  & sample\\_ID & unique\\_ID & T1\\_code & T2\\_code & ID\\_code & T1\\_oxygen & T1\\_temp & Tank1 & T2\\_oxygen & T2\\_temp & Tank2 & Phase1 & Phase2\\\\\n",
       "  & <chr> & <chr> & <chr> & <chr> & <chr> & <chr> & <chr> & <chr> & <chr> & <chr> & <chr> & <chr> & <chr>\\\\\n",
       "\\hline\n",
       "\t1 & 2018--BBB-WBO-B21-CV & BBB-WBO-B21 & BBB & WBO & B21 & hypoxic & ambient & B & normoxic & ambient & O & hypoxic & control\\\\\n",
       "\t2 & 2018--BBB-WBV-B70-CV & BBB-WBV-B70 & BBB & WBV & B70 & hypoxic & ambient & B & normoxic & ambient & V & hypoxic & control\\\\\n",
       "\t3 & 2018--BBO-BBO-B16-CV & BBO-BBO-B16 & BBO & BBO & B16 & hypoxic & ambient & O & hypoxic  & ambient & O & hypoxic & hypoxic\\\\\n",
       "\t4 & 2018--BBO-BBY-B27-CV & BBO-BBY-B27 & BBO & BBY & B27 & hypoxic & ambient & O & hypoxic  & ambient & Y & hypoxic & hypoxic\\\\\n",
       "\t5 & 2018--BBO-WBO-B16-CV & BBO-WBO-B16 & BBO & WBO & B16 & hypoxic & ambient & O & normoxic & ambient & O & hypoxic & control\\\\\n",
       "\t6 & 2018--BBO-WBV-B64-CV & BBO-WBV-B64 & BBO & WBV & B64 & hypoxic & ambient & O & normoxic & ambient & V & hypoxic & control\\\\\n",
       "\\end{tabular}\n"
      ],
      "text/markdown": [
       "\n",
       "A data.frame: 6 × 13\n",
       "\n",
       "| <!--/--> | sample_ID &lt;chr&gt; | unique_ID &lt;chr&gt; | T1_code &lt;chr&gt; | T2_code &lt;chr&gt; | ID_code &lt;chr&gt; | T1_oxygen &lt;chr&gt; | T1_temp &lt;chr&gt; | Tank1 &lt;chr&gt; | T2_oxygen &lt;chr&gt; | T2_temp &lt;chr&gt; | Tank2 &lt;chr&gt; | Phase1 &lt;chr&gt; | Phase2 &lt;chr&gt; |\n",
       "|---|---|---|---|---|---|---|---|---|---|---|---|---|---|\n",
       "| 1 | 2018--BBB-WBO-B21-CV | BBB-WBO-B21 | BBB | WBO | B21 | hypoxic | ambient | B | normoxic | ambient | O | hypoxic | control |\n",
       "| 2 | 2018--BBB-WBV-B70-CV | BBB-WBV-B70 | BBB | WBV | B70 | hypoxic | ambient | B | normoxic | ambient | V | hypoxic | control |\n",
       "| 3 | 2018--BBO-BBO-B16-CV | BBO-BBO-B16 | BBO | BBO | B16 | hypoxic | ambient | O | hypoxic  | ambient | O | hypoxic | hypoxic |\n",
       "| 4 | 2018--BBO-BBY-B27-CV | BBO-BBY-B27 | BBO | BBY | B27 | hypoxic | ambient | O | hypoxic  | ambient | Y | hypoxic | hypoxic |\n",
       "| 5 | 2018--BBO-WBO-B16-CV | BBO-WBO-B16 | BBO | WBO | B16 | hypoxic | ambient | O | normoxic | ambient | O | hypoxic | control |\n",
       "| 6 | 2018--BBO-WBV-B64-CV | BBO-WBV-B64 | BBO | WBV | B64 | hypoxic | ambient | O | normoxic | ambient | V | hypoxic | control |\n",
       "\n"
      ],
      "text/plain": [
       "  sample_ID            unique_ID   T1_code T2_code ID_code T1_oxygen T1_temp\n",
       "1 2018--BBB-WBO-B21-CV BBB-WBO-B21 BBB     WBO     B21     hypoxic   ambient\n",
       "2 2018--BBB-WBV-B70-CV BBB-WBV-B70 BBB     WBV     B70     hypoxic   ambient\n",
       "3 2018--BBO-BBO-B16-CV BBO-BBO-B16 BBO     BBO     B16     hypoxic   ambient\n",
       "4 2018--BBO-BBY-B27-CV BBO-BBY-B27 BBO     BBY     B27     hypoxic   ambient\n",
       "5 2018--BBO-WBO-B16-CV BBO-WBO-B16 BBO     WBO     B16     hypoxic   ambient\n",
       "6 2018--BBO-WBV-B64-CV BBO-WBV-B64 BBO     WBV     B64     hypoxic   ambient\n",
       "  Tank1 T2_oxygen T2_temp Tank2 Phase1  Phase2 \n",
       "1 B     normoxic  ambient O     hypoxic control\n",
       "2 B     normoxic  ambient V     hypoxic control\n",
       "3 O     hypoxic   ambient O     hypoxic hypoxic\n",
       "4 O     hypoxic   ambient Y     hypoxic hypoxic\n",
       "5 O     normoxic  ambient O     hypoxic control\n",
       "6 O     normoxic  ambient V     hypoxic control"
      ]
     },
     "metadata": {},
     "output_type": "display_data"
    }
   ],
   "source": [
    "head(meta_data)"
   ]
  },
  {
   "cell_type": "code",
   "execution_count": 62,
   "id": "b3cdb2ba-e879-4031-b6db-6bb4d07c7299",
   "metadata": {},
   "outputs": [],
   "source": [
    "rownames(meta_data) <- meta_data$unique_ID"
   ]
  },
  {
   "cell_type": "code",
   "execution_count": 63,
   "id": "706adcba-0d24-4b5b-8a1a-d5617ab03dd4",
   "metadata": {},
   "outputs": [],
   "source": [
    "# hypoxic control\n",
    "HC_meta <- filter(meta_data, meta_data$Phase1 == 'hypoxic' & meta_data$Phase2 == 'control')\n",
    "\n",
    "# hypoxic hypoxic \n",
    "HH_meta <- filter(meta_data, meta_data$Phase1 == 'hypoxic' & meta_data$Phase2 == 'hypoxic')\n",
    "\n",
    "# control hypoxic \n",
    "CH_meta <- filter(meta_data, meta_data$Phase1 == 'control' & meta_data$Phase2 == 'hypoxic')\n",
    "\n",
    "# control control\n",
    "CC_meta <- filter(meta_data, meta_data$Phase1 == 'control' & meta_data$Phase2 == 'control')\n"
   ]
  },
  {
   "cell_type": "code",
   "execution_count": 83,
   "id": "f3cd9103-98d2-468b-884f-8f784a5d7d51",
   "metadata": {},
   "outputs": [
    {
     "data": {
      "text/html": [
       "<table class=\"dataframe\">\n",
       "<caption>A data.frame: 6 × 5</caption>\n",
       "<thead>\n",
       "\t<tr><th></th><th scope=col>BBB-WBO-B21</th><th scope=col>BBB-WBV-B70</th><th scope=col>BBO-WBO-B16</th><th scope=col>BBO-WBV-B64</th><th scope=col>BBY-WBG-B42</th></tr>\n",
       "\t<tr><th></th><th scope=col>&lt;int&gt;</th><th scope=col>&lt;int&gt;</th><th scope=col>&lt;int&gt;</th><th scope=col>&lt;int&gt;</th><th scope=col>&lt;int&gt;</th></tr>\n",
       "</thead>\n",
       "<tbody>\n",
       "\t<tr><th scope=row>18</th><td>  2</td><td>  2</td><td>  2</td><td>  0</td><td> 0</td></tr>\n",
       "\t<tr><th scope=row>75</th><td> 27</td><td> 52</td><td> 28</td><td> 34</td><td> 9</td></tr>\n",
       "\t<tr><th scope=row>80</th><td>177</td><td>134</td><td>193</td><td>164</td><td>41</td></tr>\n",
       "\t<tr><th scope=row>95</th><td> 28</td><td> 16</td><td> 28</td><td> 15</td><td>12</td></tr>\n",
       "\t<tr><th scope=row>97</th><td>173</td><td>146</td><td>171</td><td>158</td><td>45</td></tr>\n",
       "\t<tr><th scope=row>125</th><td>  7</td><td> 65</td><td> 17</td><td> 38</td><td> 0</td></tr>\n",
       "</tbody>\n",
       "</table>\n"
      ],
      "text/latex": [
       "A data.frame: 6 × 5\n",
       "\\begin{tabular}{r|lllll}\n",
       "  & BBB-WBO-B21 & BBB-WBV-B70 & BBO-WBO-B16 & BBO-WBV-B64 & BBY-WBG-B42\\\\\n",
       "  & <int> & <int> & <int> & <int> & <int>\\\\\n",
       "\\hline\n",
       "\t18 &   2 &   2 &   2 &   0 &  0\\\\\n",
       "\t75 &  27 &  52 &  28 &  34 &  9\\\\\n",
       "\t80 & 177 & 134 & 193 & 164 & 41\\\\\n",
       "\t95 &  28 &  16 &  28 &  15 & 12\\\\\n",
       "\t97 & 173 & 146 & 171 & 158 & 45\\\\\n",
       "\t125 &   7 &  65 &  17 &  38 &  0\\\\\n",
       "\\end{tabular}\n"
      ],
      "text/markdown": [
       "\n",
       "A data.frame: 6 × 5\n",
       "\n",
       "| <!--/--> | BBB-WBO-B21 &lt;int&gt; | BBB-WBV-B70 &lt;int&gt; | BBO-WBO-B16 &lt;int&gt; | BBO-WBV-B64 &lt;int&gt; | BBY-WBG-B42 &lt;int&gt; |\n",
       "|---|---|---|---|---|---|\n",
       "| 18 |   2 |   2 |   2 |   0 |  0 |\n",
       "| 75 |  27 |  52 |  28 |  34 |  9 |\n",
       "| 80 | 177 | 134 | 193 | 164 | 41 |\n",
       "| 95 |  28 |  16 |  28 |  15 | 12 |\n",
       "| 97 | 173 | 146 | 171 | 158 | 45 |\n",
       "| 125 |   7 |  65 |  17 |  38 |  0 |\n",
       "\n"
      ],
      "text/plain": [
       "    BBB-WBO-B21 BBB-WBV-B70 BBO-WBO-B16 BBO-WBV-B64 BBY-WBG-B42\n",
       "18    2           2           2           0          0         \n",
       "75   27          52          28          34          9         \n",
       "80  177         134         193         164         41         \n",
       "95   28          16          28          15         12         \n",
       "97  173         146         171         158         45         \n",
       "125   7          65          17          38          0         "
      ]
     },
     "metadata": {},
     "output_type": "display_data"
    },
    {
     "data": {
      "text/html": [
       "2.30101011214891"
      ],
      "text/latex": [
       "2.30101011214891"
      ],
      "text/markdown": [
       "2.30101011214891"
      ],
      "text/plain": [
       "[1] 2.30101"
      ]
     },
     "metadata": {},
     "output_type": "display_data"
    }
   ],
   "source": [
    "# hypoxic control methylation in exons\n",
    "HC_counts <- counts2[, colnames(counts2) %in% rownames(HC_meta)]\n",
    "\n",
    "# removing exons that have less than 1 sequence per sample\n",
    "HC_counts <- HC_counts[-which(rowSums(HC_counts[sapply(HC_counts, is.numeric)]) < 5),]\n",
    "\n",
    "head(HC_counts)\n",
    "(dim(HC_counts)[1]/total_exon)*100\n"
   ]
  },
  {
   "cell_type": "code",
   "execution_count": 84,
   "id": "8d63bb2f-10b1-4726-86c1-557343fde390",
   "metadata": {},
   "outputs": [
    {
     "data": {
      "text/html": [
       "<table class=\"dataframe\">\n",
       "<caption>A data.frame: 6 × 5</caption>\n",
       "<thead>\n",
       "\t<tr><th></th><th scope=col>BBO-BBO-B16</th><th scope=col>BBO-BBY-B27</th><th scope=col>BBR-BBB-B50</th><th scope=col>BBR-BBG-B38</th><th scope=col>BBR-BBY-B26</th></tr>\n",
       "\t<tr><th></th><th scope=col>&lt;int&gt;</th><th scope=col>&lt;int&gt;</th><th scope=col>&lt;int&gt;</th><th scope=col>&lt;int&gt;</th><th scope=col>&lt;int&gt;</th></tr>\n",
       "</thead>\n",
       "<tbody>\n",
       "\t<tr><th scope=row>68</th><td>  0</td><td> 0</td><td>10</td><td> 12</td><td>  0</td></tr>\n",
       "\t<tr><th scope=row>75</th><td> 13</td><td> 5</td><td>15</td><td> 18</td><td>  5</td></tr>\n",
       "\t<tr><th scope=row>80</th><td>102</td><td>59</td><td>51</td><td> 64</td><td> 42</td></tr>\n",
       "\t<tr><th scope=row>95</th><td> 49</td><td>18</td><td>24</td><td> 49</td><td> 51</td></tr>\n",
       "\t<tr><th scope=row>97</th><td>115</td><td>75</td><td>64</td><td>115</td><td>137</td></tr>\n",
       "\t<tr><th scope=row>125</th><td> 20</td><td>20</td><td>24</td><td>  1</td><td> 18</td></tr>\n",
       "</tbody>\n",
       "</table>\n"
      ],
      "text/latex": [
       "A data.frame: 6 × 5\n",
       "\\begin{tabular}{r|lllll}\n",
       "  & BBO-BBO-B16 & BBO-BBY-B27 & BBR-BBB-B50 & BBR-BBG-B38 & BBR-BBY-B26\\\\\n",
       "  & <int> & <int> & <int> & <int> & <int>\\\\\n",
       "\\hline\n",
       "\t68 &   0 &  0 & 10 &  12 &   0\\\\\n",
       "\t75 &  13 &  5 & 15 &  18 &   5\\\\\n",
       "\t80 & 102 & 59 & 51 &  64 &  42\\\\\n",
       "\t95 &  49 & 18 & 24 &  49 &  51\\\\\n",
       "\t97 & 115 & 75 & 64 & 115 & 137\\\\\n",
       "\t125 &  20 & 20 & 24 &   1 &  18\\\\\n",
       "\\end{tabular}\n"
      ],
      "text/markdown": [
       "\n",
       "A data.frame: 6 × 5\n",
       "\n",
       "| <!--/--> | BBO-BBO-B16 &lt;int&gt; | BBO-BBY-B27 &lt;int&gt; | BBR-BBB-B50 &lt;int&gt; | BBR-BBG-B38 &lt;int&gt; | BBR-BBY-B26 &lt;int&gt; |\n",
       "|---|---|---|---|---|---|\n",
       "| 68 |   0 |  0 | 10 |  12 |   0 |\n",
       "| 75 |  13 |  5 | 15 |  18 |   5 |\n",
       "| 80 | 102 | 59 | 51 |  64 |  42 |\n",
       "| 95 |  49 | 18 | 24 |  49 |  51 |\n",
       "| 97 | 115 | 75 | 64 | 115 | 137 |\n",
       "| 125 |  20 | 20 | 24 |   1 |  18 |\n",
       "\n"
      ],
      "text/plain": [
       "    BBO-BBO-B16 BBO-BBY-B27 BBR-BBB-B50 BBR-BBG-B38 BBR-BBY-B26\n",
       "68    0          0          10           12           0        \n",
       "75   13          5          15           18           5        \n",
       "80  102         59          51           64          42        \n",
       "95   49         18          24           49          51        \n",
       "97  115         75          64          115         137        \n",
       "125  20         20          24            1          18        "
      ]
     },
     "metadata": {},
     "output_type": "display_data"
    },
    {
     "data": {
      "text/html": [
       "2.25180022716496"
      ],
      "text/latex": [
       "2.25180022716496"
      ],
      "text/markdown": [
       "2.25180022716496"
      ],
      "text/plain": [
       "[1] 2.2518"
      ]
     },
     "metadata": {},
     "output_type": "display_data"
    }
   ],
   "source": [
    "# hypoxic hypoxic methylation in exons\n",
    "HH_counts <- counts2[, colnames(counts2) %in% rownames(HH_meta)]\n",
    "\n",
    "# removing exons that have less than 1 sequence per sample\n",
    "HH_counts <- HH_counts[-which(rowSums(HH_counts[sapply(HH_counts, is.numeric)]) < 5),]\n",
    "\n",
    "head(HH_counts)\n",
    "(dim(HH_counts)[1]/total_exon)*100\n"
   ]
  },
  {
   "cell_type": "code",
   "execution_count": 85,
   "id": "029a9707-c483-48a6-a7ab-fde698e4c994",
   "metadata": {},
   "outputs": [
    {
     "data": {
      "text/html": [
       "<table class=\"dataframe\">\n",
       "<caption>A data.frame: 6 × 5</caption>\n",
       "<thead>\n",
       "\t<tr><th></th><th scope=col>WBR-BBY-W25</th><th scope=col>WBY-BBV-W65</th><th scope=col>WBY-BBY-W30</th><th scope=col>WBG-BBB-W56</th><th scope=col>WBO-BBR-W03</th></tr>\n",
       "\t<tr><th></th><th scope=col>&lt;int&gt;</th><th scope=col>&lt;int&gt;</th><th scope=col>&lt;int&gt;</th><th scope=col>&lt;int&gt;</th><th scope=col>&lt;int&gt;</th></tr>\n",
       "</thead>\n",
       "<tbody>\n",
       "\t<tr><th scope=row>75</th><td> 5</td><td> 12</td><td> 9</td><td> 36</td><td> 1</td></tr>\n",
       "\t<tr><th scope=row>80</th><td>23</td><td> 56</td><td>41</td><td> 87</td><td> 9</td></tr>\n",
       "\t<tr><th scope=row>95</th><td>16</td><td> 70</td><td>34</td><td> 65</td><td> 1</td></tr>\n",
       "\t<tr><th scope=row>97</th><td>43</td><td> 87</td><td>81</td><td>127</td><td> 8</td></tr>\n",
       "\t<tr><th scope=row>125</th><td> 4</td><td> 21</td><td>22</td><td> 22</td><td> 0</td></tr>\n",
       "\t<tr><th scope=row>129</th><td>63</td><td>132</td><td>89</td><td>137</td><td>15</td></tr>\n",
       "</tbody>\n",
       "</table>\n"
      ],
      "text/latex": [
       "A data.frame: 6 × 5\n",
       "\\begin{tabular}{r|lllll}\n",
       "  & WBR-BBY-W25 & WBY-BBV-W65 & WBY-BBY-W30 & WBG-BBB-W56 & WBO-BBR-W03\\\\\n",
       "  & <int> & <int> & <int> & <int> & <int>\\\\\n",
       "\\hline\n",
       "\t75 &  5 &  12 &  9 &  36 &  1\\\\\n",
       "\t80 & 23 &  56 & 41 &  87 &  9\\\\\n",
       "\t95 & 16 &  70 & 34 &  65 &  1\\\\\n",
       "\t97 & 43 &  87 & 81 & 127 &  8\\\\\n",
       "\t125 &  4 &  21 & 22 &  22 &  0\\\\\n",
       "\t129 & 63 & 132 & 89 & 137 & 15\\\\\n",
       "\\end{tabular}\n"
      ],
      "text/markdown": [
       "\n",
       "A data.frame: 6 × 5\n",
       "\n",
       "| <!--/--> | WBR-BBY-W25 &lt;int&gt; | WBY-BBV-W65 &lt;int&gt; | WBY-BBY-W30 &lt;int&gt; | WBG-BBB-W56 &lt;int&gt; | WBO-BBR-W03 &lt;int&gt; |\n",
       "|---|---|---|---|---|---|\n",
       "| 75 |  5 |  12 |  9 |  36 |  1 |\n",
       "| 80 | 23 |  56 | 41 |  87 |  9 |\n",
       "| 95 | 16 |  70 | 34 |  65 |  1 |\n",
       "| 97 | 43 |  87 | 81 | 127 |  8 |\n",
       "| 125 |  4 |  21 | 22 |  22 |  0 |\n",
       "| 129 | 63 | 132 | 89 | 137 | 15 |\n",
       "\n"
      ],
      "text/plain": [
       "    WBR-BBY-W25 WBY-BBV-W65 WBY-BBY-W30 WBG-BBB-W56 WBO-BBR-W03\n",
       "75   5           12          9           36          1         \n",
       "80  23           56         41           87          9         \n",
       "95  16           70         34           65          1         \n",
       "97  43           87         81          127          8         \n",
       "125  4           21         22           22          0         \n",
       "129 63          132         89          137         15         "
      ]
     },
     "metadata": {},
     "output_type": "display_data"
    },
    {
     "data": {
      "text/html": [
       "2.10100018746623"
      ],
      "text/latex": [
       "2.10100018746623"
      ],
      "text/markdown": [
       "2.10100018746623"
      ],
      "text/plain": [
       "[1] 2.101"
      ]
     },
     "metadata": {},
     "output_type": "display_data"
    }
   ],
   "source": [
    "# control hypoxic methylation in exons\n",
    "CH_counts <- counts2[, colnames(counts2) %in% rownames(CH_meta)]\n",
    "\n",
    "# removing exons that have less than 1 sequence per sample\n",
    "CH_counts <- CH_counts[-which(rowSums(CH_counts[sapply(CH_counts, is.numeric)]) < 5),]\n",
    "\n",
    "head(CH_counts)\n",
    "(dim(CH_counts)[1]/total_exon)*100\n"
   ]
  },
  {
   "cell_type": "code",
   "execution_count": 86,
   "id": "ff21f120-02e3-412f-b660-8b6730af578b",
   "metadata": {},
   "outputs": [
    {
     "data": {
      "text/html": [
       "<table class=\"dataframe\">\n",
       "<caption>A data.frame: 6 × 5</caption>\n",
       "<thead>\n",
       "\t<tr><th></th><th scope=col>WBV-WBO-W23</th><th scope=col>WBV-WBR-W12</th><th scope=col>WBB-WBV-W69</th><th scope=col>WBG-WBG-W44</th><th scope=col>WBO-WBV-W64</th></tr>\n",
       "\t<tr><th></th><th scope=col>&lt;int&gt;</th><th scope=col>&lt;int&gt;</th><th scope=col>&lt;int&gt;</th><th scope=col>&lt;int&gt;</th><th scope=col>&lt;int&gt;</th></tr>\n",
       "</thead>\n",
       "<tbody>\n",
       "\t<tr><th scope=row>68</th><td> 0</td><td> 0</td><td>  0</td><td> 0</td><td>  7</td></tr>\n",
       "\t<tr><th scope=row>75</th><td>10</td><td> 1</td><td> 39</td><td> 7</td><td> 20</td></tr>\n",
       "\t<tr><th scope=row>80</th><td>27</td><td>14</td><td>104</td><td>17</td><td> 72</td></tr>\n",
       "\t<tr><th scope=row>95</th><td>21</td><td> 5</td><td> 49</td><td> 4</td><td> 33</td></tr>\n",
       "\t<tr><th scope=row>97</th><td>45</td><td>18</td><td>132</td><td>49</td><td>143</td></tr>\n",
       "\t<tr><th scope=row>125</th><td>15</td><td> 1</td><td>  0</td><td> 7</td><td> 27</td></tr>\n",
       "</tbody>\n",
       "</table>\n"
      ],
      "text/latex": [
       "A data.frame: 6 × 5\n",
       "\\begin{tabular}{r|lllll}\n",
       "  & WBV-WBO-W23 & WBV-WBR-W12 & WBB-WBV-W69 & WBG-WBG-W44 & WBO-WBV-W64\\\\\n",
       "  & <int> & <int> & <int> & <int> & <int>\\\\\n",
       "\\hline\n",
       "\t68 &  0 &  0 &   0 &  0 &   7\\\\\n",
       "\t75 & 10 &  1 &  39 &  7 &  20\\\\\n",
       "\t80 & 27 & 14 & 104 & 17 &  72\\\\\n",
       "\t95 & 21 &  5 &  49 &  4 &  33\\\\\n",
       "\t97 & 45 & 18 & 132 & 49 & 143\\\\\n",
       "\t125 & 15 &  1 &   0 &  7 &  27\\\\\n",
       "\\end{tabular}\n"
      ],
      "text/markdown": [
       "\n",
       "A data.frame: 6 × 5\n",
       "\n",
       "| <!--/--> | WBV-WBO-W23 &lt;int&gt; | WBV-WBR-W12 &lt;int&gt; | WBB-WBV-W69 &lt;int&gt; | WBG-WBG-W44 &lt;int&gt; | WBO-WBV-W64 &lt;int&gt; |\n",
       "|---|---|---|---|---|---|\n",
       "| 68 |  0 |  0 |   0 |  0 |   7 |\n",
       "| 75 | 10 |  1 |  39 |  7 |  20 |\n",
       "| 80 | 27 | 14 | 104 | 17 |  72 |\n",
       "| 95 | 21 |  5 |  49 |  4 |  33 |\n",
       "| 97 | 45 | 18 | 132 | 49 | 143 |\n",
       "| 125 | 15 |  1 |   0 |  7 |  27 |\n",
       "\n"
      ],
      "text/plain": [
       "    WBV-WBO-W23 WBV-WBR-W12 WBB-WBV-W69 WBG-WBG-W44 WBO-WBV-W64\n",
       "68   0           0            0          0            7        \n",
       "75  10           1           39          7           20        \n",
       "80  27          14          104         17           72        \n",
       "95  21           5           49          4           33        \n",
       "97  45          18          132         49          143        \n",
       "125 15           1            0          7           27        "
      ]
     },
     "metadata": {},
     "output_type": "display_data"
    },
    {
     "data": {
      "text/html": [
       "2.15586162786851"
      ],
      "text/latex": [
       "2.15586162786851"
      ],
      "text/markdown": [
       "2.15586162786851"
      ],
      "text/plain": [
       "[1] 2.155862"
      ]
     },
     "metadata": {},
     "output_type": "display_data"
    }
   ],
   "source": [
    "# control control methylation in exons\n",
    "CC_counts <- counts2[, colnames(counts2) %in% rownames(CC_meta)]\n",
    "\n",
    "# removing exons that have less than 1 sequence per sample\n",
    "CC_counts <- CC_counts[-which(rowSums(CC_counts[sapply(CC_counts, is.numeric)]) < 5),]\n",
    "\n",
    "head(CC_counts)\n",
    "(dim(CC_counts)[1]/total_exon)*100\n"
   ]
  },
  {
   "cell_type": "code",
   "execution_count": 88,
   "id": "01ba2f76-31b1-4167-8182-87a2decc275e",
   "metadata": {},
   "outputs": [
    {
     "data": {
      "text/html": [
       "<style>\n",
       ".list-inline {list-style: none; margin:0; padding: 0}\n",
       ".list-inline>li {display: inline-block}\n",
       ".list-inline>li:not(:last-child)::after {content: \"\\00b7\"; padding: 0 .5ex}\n",
       "</style>\n",
       "<ol class=list-inline><li>2.265</li><li>2.13</li></ol>\n"
      ],
      "text/latex": [
       "\\begin{enumerate*}\n",
       "\\item 2.265\n",
       "\\item 2.13\n",
       "\\end{enumerate*}\n"
      ],
      "text/markdown": [
       "1. 2.265\n",
       "2. 2.13\n",
       "\n",
       "\n"
      ],
      "text/plain": [
       "[1] 2.265 2.130"
      ]
     },
     "metadata": {},
     "output_type": "display_data"
    }
   ],
   "source": [
    "mean_methyl_exon <- c((2.23+2.3)/2, (2.10+2.16)/2)\n",
    "\n",
    "mean_methyl_exon"
   ]
  },
  {
   "cell_type": "code",
   "execution_count": 89,
   "id": "00a15fd0-d6d0-4e51-b5c0-5d5deabab635",
   "metadata": {},
   "outputs": [
    {
     "data": {
      "text/plain": [
       "\n",
       "\tOne Sample t-test\n",
       "\n",
       "data:  mean_methyl_exon\n",
       "t = 32.556, df = 1, p-value = 0.01955\n",
       "alternative hypothesis: true mean is not equal to 0\n",
       "95 percent confidence interval:\n",
       " 1.339831 3.055169\n",
       "sample estimates:\n",
       "mean of x \n",
       "   2.1975 \n"
      ]
     },
     "metadata": {},
     "output_type": "display_data"
    }
   ],
   "source": [
    "t.test(mean_methyl_exon)"
   ]
  },
  {
   "cell_type": "markdown",
   "id": "5a0aba52-56fa-4ab1-843f-1373893ce0d2",
   "metadata": {},
   "source": [
    "slightly higher methylation of exons in samples that experienced hypoxia in their first exposure compared to those that experienced control for first exposure - but these counts aren't normalized yet - could be a result in sequencing coverage/depth"
   ]
  }
 ],
 "metadata": {
  "kernelspec": {
   "display_name": "R [conda env:.conda-r-env]",
   "language": "R",
   "name": "conda-env-.conda-r-env-r"
  },
  "language_info": {
   "codemirror_mode": "r",
   "file_extension": ".r",
   "mimetype": "text/x-r-source",
   "name": "R",
   "pygments_lexer": "r",
   "version": "4.3.2"
  }
 },
 "nbformat": 4,
 "nbformat_minor": 5
}
