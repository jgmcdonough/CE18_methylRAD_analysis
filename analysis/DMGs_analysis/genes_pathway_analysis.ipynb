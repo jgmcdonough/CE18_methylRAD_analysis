{
 "cells": [
  {
   "cell_type": "markdown",
   "id": "d9dfba50-6cd0-4119-9d03-4dcf79b492b4",
   "metadata": {},
   "source": [
    "# Are our significant DMGs the core enrichment genes in our identified enriched pathways?\n",
    "We want to combine what we've found for statistically signficant differentially methylated genes and connect it to our identified enriched pathways so we can start to make sense of things biologically.\n",
    "\n",
    "I have generated two csv files for both **phase 1 warm vs. control oysters**:\n",
    "- phase1_wc_genes.csv - list of significant (adjusted p-value < 0.05) DMGs\n",
    "- p1_wc_pathway.csv - list of enriched pathways from KEGG\n",
    "\n",
    "Each enriched pathway contains a list of 'core enrichment genes' - these are a list of genes that are reported as part of the 'core enrichment' and contribute to the observed enrichment score.\n",
    "\n",
    "The thinking is that maybe some of our signficant DMGs are part of that core enrichment group, which could tell us that that pathway is especially important/biologically relevant."
   ]
  },
  {
   "cell_type": "markdown",
   "id": "b437bc4b-128e-4873-9c47-2b5c88876bdf",
   "metadata": {
    "tags": []
   },
   "source": [
    "#### I. Load packages"
   ]
  },
  {
   "cell_type": "code",
   "execution_count": 1,
   "id": "7ceb2acf-d206-40ad-b486-b3bcedb4829b",
   "metadata": {},
   "outputs": [
    {
     "name": "stderr",
     "output_type": "stream",
     "text": [
      "── \u001b[1mAttaching core tidyverse packages\u001b[22m ──────────────────────── tidyverse 2.0.0 ──\n",
      "\u001b[32m✔\u001b[39m \u001b[34mdplyr    \u001b[39m 1.1.4     \u001b[32m✔\u001b[39m \u001b[34mreadr    \u001b[39m 2.1.4\n",
      "\u001b[32m✔\u001b[39m \u001b[34mforcats  \u001b[39m 1.0.0     \u001b[32m✔\u001b[39m \u001b[34mstringr  \u001b[39m 1.5.1\n",
      "\u001b[32m✔\u001b[39m \u001b[34mggplot2  \u001b[39m 3.4.4     \u001b[32m✔\u001b[39m \u001b[34mtibble   \u001b[39m 3.2.1\n",
      "\u001b[32m✔\u001b[39m \u001b[34mlubridate\u001b[39m 1.9.3     \u001b[32m✔\u001b[39m \u001b[34mtidyr    \u001b[39m 1.3.0\n",
      "\u001b[32m✔\u001b[39m \u001b[34mpurrr    \u001b[39m 1.0.2     \n",
      "── \u001b[1mConflicts\u001b[22m ────────────────────────────────────────── tidyverse_conflicts() ──\n",
      "\u001b[31m✖\u001b[39m \u001b[34mdplyr\u001b[39m::\u001b[32mfilter()\u001b[39m masks \u001b[34mstats\u001b[39m::filter()\n",
      "\u001b[31m✖\u001b[39m \u001b[34mdplyr\u001b[39m::\u001b[32mlag()\u001b[39m    masks \u001b[34mstats\u001b[39m::lag()\n",
      "\u001b[36mℹ\u001b[39m Use the conflicted package (\u001b[3m\u001b[34m<http://conflicted.r-lib.org/>\u001b[39m\u001b[23m) to force all conflicts to become errors\n"
     ]
    }
   ],
   "source": [
    "library(tidyverse)"
   ]
  },
  {
   "cell_type": "markdown",
   "id": "130693ca-607e-4525-be1e-5ea30e96188f",
   "metadata": {
    "tags": []
   },
   "source": [
    "#### II. Load, clean, and prep both csv files"
   ]
  },
  {
   "cell_type": "code",
   "execution_count": 6,
   "id": "ebacfd63-5bbe-46ed-b85a-16352368eb7f",
   "metadata": {},
   "outputs": [
    {
     "data": {
      "text/html": [
       "<style>\n",
       ".list-inline {list-style: none; margin:0; padding: 0}\n",
       ".list-inline>li {display: inline-block}\n",
       ".list-inline>li:not(:last-child)::after {content: \"\\00b7\"; padding: 0 .5ex}\n",
       "</style>\n",
       "<ol class=list-inline><li>121</li><li>11</li></ol>\n"
      ],
      "text/latex": [
       "\\begin{enumerate*}\n",
       "\\item 121\n",
       "\\item 11\n",
       "\\end{enumerate*}\n"
      ],
      "text/markdown": [
       "1. 121\n",
       "2. 11\n",
       "\n",
       "\n"
      ],
      "text/plain": [
       "[1] 121  11"
      ]
     },
     "metadata": {},
     "output_type": "display_data"
    },
    {
     "data": {
      "text/html": [
       "<table class=\"dataframe\">\n",
       "<caption>A data.frame: 6 × 11</caption>\n",
       "<thead>\n",
       "\t<tr><th></th><th scope=col>ID</th><th scope=col>Description</th><th scope=col>setSize</th><th scope=col>enrichmentScore</th><th scope=col>NES</th><th scope=col>pvalue</th><th scope=col>p.adjust</th><th scope=col>qvalue</th><th scope=col>rank</th><th scope=col>leading_edge</th><th scope=col>core_enrichment</th></tr>\n",
       "\t<tr><th></th><th scope=col>&lt;chr&gt;</th><th scope=col>&lt;chr&gt;</th><th scope=col>&lt;int&gt;</th><th scope=col>&lt;dbl&gt;</th><th scope=col>&lt;dbl&gt;</th><th scope=col>&lt;dbl&gt;</th><th scope=col>&lt;dbl&gt;</th><th scope=col>&lt;dbl&gt;</th><th scope=col>&lt;int&gt;</th><th scope=col>&lt;chr&gt;</th><th scope=col>&lt;chr&gt;</th></tr>\n",
       "</thead>\n",
       "<tbody>\n",
       "\t<tr><th scope=row>1</th><td>cvn00053</td><td>Ascorbate and aldarate metabolism</td><td>12</td><td>0.7513575</td><td>1.659577</td><td>0.009928054</td><td>0.2092344</td><td>0.1874827</td><td>1456</td><td>tags=50%, list=11%, signal=45%</td><td>111124535/111103451/111124599/111127562/111112920/111115614                                                                                                                                                                </td></tr>\n",
       "\t<tr><th scope=row>2</th><td>cvn00910</td><td>Nitrogen metabolism              </td><td>10</td><td>0.7752533</td><td>1.614827</td><td>0.008414069</td><td>0.2092344</td><td>0.1874827</td><td>1396</td><td>tags=50%, list=10%, signal=45%</td><td>111134700/111100398/111100399/111126492/111135592                                                                                                                                                                          </td></tr>\n",
       "\t<tr><th scope=row>3</th><td>cvn00511</td><td>Other glycan degradation         </td><td>37</td><td>0.5915432</td><td>1.568428</td><td>0.007095078</td><td>0.2092344</td><td>0.1874827</td><td>2224</td><td>tags=30%, list=16%, signal=25%</td><td>111106921/111106925/111106928/111119851/111119435/111120040/111113388/111119434/111106926/111119431/111106930                                                                                                              </td></tr>\n",
       "\t<tr><th scope=row>4</th><td>cvn00052</td><td>Galactose metabolism             </td><td>21</td><td>0.6484600</td><td>1.564709</td><td>0.011543831</td><td>0.2092344</td><td>0.1874827</td><td>2261</td><td>tags=38%, list=17%, signal=32%</td><td>111101197/111118471/111101820/111113388/111109442/111099882/111120703/111118006                                                                                                                                            </td></tr>\n",
       "\t<tr><th scope=row>5</th><td>cvn03250</td><td>Viral life cycle - HIV-1         </td><td>28</td><td>0.6040501</td><td>1.535190</td><td>0.012104468</td><td>0.2092344</td><td>0.1874827</td><td>2630</td><td>tags=46%, list=19%, signal=37%</td><td>111124701/111124696/111129825/111111579/111108190/111135084/111128997/111124977/111106750/111123417/111130886/111104027/111135329                                                                                          </td></tr>\n",
       "\t<tr><th scope=row>6</th><td>cvn03015</td><td>mRNA surveillance pathway        </td><td>61</td><td>0.5365003</td><td>1.533996</td><td>0.004750431</td><td>0.2092344</td><td>0.1874827</td><td>1963</td><td>tags=36%, list=14%, signal=31%</td><td>111135039/111127981/111101410/111100273/111134286/111121238/111129219/111132883/111122880/111118318/111103910/111119442/111126090/111138352/111108043/111130886/111118849/111136672/111104361/111129063/111135694/111129838</td></tr>\n",
       "</tbody>\n",
       "</table>\n"
      ],
      "text/latex": [
       "A data.frame: 6 × 11\n",
       "\\begin{tabular}{r|lllllllllll}\n",
       "  & ID & Description & setSize & enrichmentScore & NES & pvalue & p.adjust & qvalue & rank & leading\\_edge & core\\_enrichment\\\\\n",
       "  & <chr> & <chr> & <int> & <dbl> & <dbl> & <dbl> & <dbl> & <dbl> & <int> & <chr> & <chr>\\\\\n",
       "\\hline\n",
       "\t1 & cvn00053 & Ascorbate and aldarate metabolism & 12 & 0.7513575 & 1.659577 & 0.009928054 & 0.2092344 & 0.1874827 & 1456 & tags=50\\%, list=11\\%, signal=45\\% & 111124535/111103451/111124599/111127562/111112920/111115614                                                                                                                                                                \\\\\n",
       "\t2 & cvn00910 & Nitrogen metabolism               & 10 & 0.7752533 & 1.614827 & 0.008414069 & 0.2092344 & 0.1874827 & 1396 & tags=50\\%, list=10\\%, signal=45\\% & 111134700/111100398/111100399/111126492/111135592                                                                                                                                                                          \\\\\n",
       "\t3 & cvn00511 & Other glycan degradation          & 37 & 0.5915432 & 1.568428 & 0.007095078 & 0.2092344 & 0.1874827 & 2224 & tags=30\\%, list=16\\%, signal=25\\% & 111106921/111106925/111106928/111119851/111119435/111120040/111113388/111119434/111106926/111119431/111106930                                                                                                              \\\\\n",
       "\t4 & cvn00052 & Galactose metabolism              & 21 & 0.6484600 & 1.564709 & 0.011543831 & 0.2092344 & 0.1874827 & 2261 & tags=38\\%, list=17\\%, signal=32\\% & 111101197/111118471/111101820/111113388/111109442/111099882/111120703/111118006                                                                                                                                            \\\\\n",
       "\t5 & cvn03250 & Viral life cycle - HIV-1          & 28 & 0.6040501 & 1.535190 & 0.012104468 & 0.2092344 & 0.1874827 & 2630 & tags=46\\%, list=19\\%, signal=37\\% & 111124701/111124696/111129825/111111579/111108190/111135084/111128997/111124977/111106750/111123417/111130886/111104027/111135329                                                                                          \\\\\n",
       "\t6 & cvn03015 & mRNA surveillance pathway         & 61 & 0.5365003 & 1.533996 & 0.004750431 & 0.2092344 & 0.1874827 & 1963 & tags=36\\%, list=14\\%, signal=31\\% & 111135039/111127981/111101410/111100273/111134286/111121238/111129219/111132883/111122880/111118318/111103910/111119442/111126090/111138352/111108043/111130886/111118849/111136672/111104361/111129063/111135694/111129838\\\\\n",
       "\\end{tabular}\n"
      ],
      "text/markdown": [
       "\n",
       "A data.frame: 6 × 11\n",
       "\n",
       "| <!--/--> | ID &lt;chr&gt; | Description &lt;chr&gt; | setSize &lt;int&gt; | enrichmentScore &lt;dbl&gt; | NES &lt;dbl&gt; | pvalue &lt;dbl&gt; | p.adjust &lt;dbl&gt; | qvalue &lt;dbl&gt; | rank &lt;int&gt; | leading_edge &lt;chr&gt; | core_enrichment &lt;chr&gt; |\n",
       "|---|---|---|---|---|---|---|---|---|---|---|---|\n",
       "| 1 | cvn00053 | Ascorbate and aldarate metabolism | 12 | 0.7513575 | 1.659577 | 0.009928054 | 0.2092344 | 0.1874827 | 1456 | tags=50%, list=11%, signal=45% | 111124535/111103451/111124599/111127562/111112920/111115614                                                                                                                                                                 |\n",
       "| 2 | cvn00910 | Nitrogen metabolism               | 10 | 0.7752533 | 1.614827 | 0.008414069 | 0.2092344 | 0.1874827 | 1396 | tags=50%, list=10%, signal=45% | 111134700/111100398/111100399/111126492/111135592                                                                                                                                                                           |\n",
       "| 3 | cvn00511 | Other glycan degradation          | 37 | 0.5915432 | 1.568428 | 0.007095078 | 0.2092344 | 0.1874827 | 2224 | tags=30%, list=16%, signal=25% | 111106921/111106925/111106928/111119851/111119435/111120040/111113388/111119434/111106926/111119431/111106930                                                                                                               |\n",
       "| 4 | cvn00052 | Galactose metabolism              | 21 | 0.6484600 | 1.564709 | 0.011543831 | 0.2092344 | 0.1874827 | 2261 | tags=38%, list=17%, signal=32% | 111101197/111118471/111101820/111113388/111109442/111099882/111120703/111118006                                                                                                                                             |\n",
       "| 5 | cvn03250 | Viral life cycle - HIV-1          | 28 | 0.6040501 | 1.535190 | 0.012104468 | 0.2092344 | 0.1874827 | 2630 | tags=46%, list=19%, signal=37% | 111124701/111124696/111129825/111111579/111108190/111135084/111128997/111124977/111106750/111123417/111130886/111104027/111135329                                                                                           |\n",
       "| 6 | cvn03015 | mRNA surveillance pathway         | 61 | 0.5365003 | 1.533996 | 0.004750431 | 0.2092344 | 0.1874827 | 1963 | tags=36%, list=14%, signal=31% | 111135039/111127981/111101410/111100273/111134286/111121238/111129219/111132883/111122880/111118318/111103910/111119442/111126090/111138352/111108043/111130886/111118849/111136672/111104361/111129063/111135694/111129838 |\n",
       "\n"
      ],
      "text/plain": [
       "  ID       Description                       setSize enrichmentScore NES     \n",
       "1 cvn00053 Ascorbate and aldarate metabolism 12      0.7513575       1.659577\n",
       "2 cvn00910 Nitrogen metabolism               10      0.7752533       1.614827\n",
       "3 cvn00511 Other glycan degradation          37      0.5915432       1.568428\n",
       "4 cvn00052 Galactose metabolism              21      0.6484600       1.564709\n",
       "5 cvn03250 Viral life cycle - HIV-1          28      0.6040501       1.535190\n",
       "6 cvn03015 mRNA surveillance pathway         61      0.5365003       1.533996\n",
       "  pvalue      p.adjust  qvalue    rank leading_edge                  \n",
       "1 0.009928054 0.2092344 0.1874827 1456 tags=50%, list=11%, signal=45%\n",
       "2 0.008414069 0.2092344 0.1874827 1396 tags=50%, list=10%, signal=45%\n",
       "3 0.007095078 0.2092344 0.1874827 2224 tags=30%, list=16%, signal=25%\n",
       "4 0.011543831 0.2092344 0.1874827 2261 tags=38%, list=17%, signal=32%\n",
       "5 0.012104468 0.2092344 0.1874827 2630 tags=46%, list=19%, signal=37%\n",
       "6 0.004750431 0.2092344 0.1874827 1963 tags=36%, list=14%, signal=31%\n",
       "  core_enrichment                                                                                                                                                                                                            \n",
       "1 111124535/111103451/111124599/111127562/111112920/111115614                                                                                                                                                                \n",
       "2 111134700/111100398/111100399/111126492/111135592                                                                                                                                                                          \n",
       "3 111106921/111106925/111106928/111119851/111119435/111120040/111113388/111119434/111106926/111119431/111106930                                                                                                              \n",
       "4 111101197/111118471/111101820/111113388/111109442/111099882/111120703/111118006                                                                                                                                            \n",
       "5 111124701/111124696/111129825/111111579/111108190/111135084/111128997/111124977/111106750/111123417/111130886/111104027/111135329                                                                                          \n",
       "6 111135039/111127981/111101410/111100273/111134286/111121238/111129219/111132883/111122880/111118318/111103910/111119442/111126090/111138352/111108043/111130886/111118849/111136672/111104361/111129063/111135694/111129838"
      ]
     },
     "metadata": {},
     "output_type": "display_data"
    }
   ],
   "source": [
    "# load in csv file\n",
    "pathway <- read.csv('/project/pi_sarah_gignouxwolfsohn_uml_edu/julia/CE_MethylRAD_analysis_2018/analysis/lfc_kegg_pathways/unfiltered_pathways_p1wc.csv')\n",
    "\n",
    "# clean headers and columns\n",
    "pathway <- pathway[,-1]\n",
    "\n",
    "# checking dimensions\n",
    "dim(pathway) #119 pathways, 11 rows of info/meta data\n",
    "\n",
    "head(pathway)"
   ]
  },
  {
   "cell_type": "markdown",
   "id": "850e65ff-d43a-4561-9417-5246ae494e41",
   "metadata": {},
   "source": [
    "I want to know if all of my genes provided in geneList are in the core enrichment, or if the core enrichment only includes a subset of my total genes\n",
    "\n",
    "- total genes in my geneList for KEGG - around 13,000 genes\n",
    "- total enriched pathways - 121\n",
    "- total number of significant DMGs - 189\n",
    "- total number of unique genes in the core_enrichment column - **805** (from code below)\n",
    "\n",
    "since this number (805) does not match my total genes in the data set, I know that not all genes are represented in the core_enrichment column, and not all are significant DMGs"
   ]
  },
  {
   "cell_type": "code",
   "execution_count": 18,
   "id": "eebd52d8-6e79-49e5-89cf-17b66c7129a8",
   "metadata": {},
   "outputs": [
    {
     "name": "stdout",
     "output_type": "stream",
     "text": [
      "[1] \"Number of unique genes in the entire DataFrame: 805\"\n"
     ]
    }
   ],
   "source": [
    "# Split the strings in 'genes_column' into lists\n",
    "gene_lists <- strsplit(pathway$core_enrichment, '/')\n",
    "\n",
    "# Flatten the lists\n",
    "all_genes <- unlist(gene_lists)\n",
    "\n",
    "# Count the unique genes\n",
    "unique_genes_count <- length(unique(all_genes))\n",
    "\n",
    "print(paste(\"Number of unique genes in the entire DataFrame:\", unique_genes_count))\n"
   ]
  },
  {
   "cell_type": "code",
   "execution_count": 8,
   "id": "51b8ab95-06b5-4614-bbf4-5955beed8ac7",
   "metadata": {},
   "outputs": [
    {
     "data": {
      "text/html": [
       "<style>\n",
       ".list-inline {list-style: none; margin:0; padding: 0}\n",
       ".list-inline>li {display: inline-block}\n",
       ".list-inline>li:not(:last-child)::after {content: \"\\00b7\"; padding: 0 .5ex}\n",
       "</style>\n",
       "<ol class=list-inline><li>189</li><li>3</li></ol>\n"
      ],
      "text/latex": [
       "\\begin{enumerate*}\n",
       "\\item 189\n",
       "\\item 3\n",
       "\\end{enumerate*}\n"
      ],
      "text/markdown": [
       "1. 189\n",
       "2. 3\n",
       "\n",
       "\n"
      ],
      "text/plain": [
       "[1] 189   3"
      ]
     },
     "metadata": {},
     "output_type": "display_data"
    },
    {
     "data": {
      "text/html": [
       "<table class=\"dataframe\">\n",
       "<caption>A data.frame: 6 × 3</caption>\n",
       "<thead>\n",
       "\t<tr><th></th><th scope=col>gene</th><th scope=col>lfc</th><th scope=col>padj</th></tr>\n",
       "\t<tr><th></th><th scope=col>&lt;chr&gt;</th><th scope=col>&lt;dbl&gt;</th><th scope=col>&lt;dbl&gt;</th></tr>\n",
       "</thead>\n",
       "<tbody>\n",
       "\t<tr><th scope=row>1</th><td>111128103</td><td>1.644796</td><td>3.065827e-02</td></tr>\n",
       "\t<tr><th scope=row>2</th><td>111137770</td><td>2.657125</td><td>1.784408e-02</td></tr>\n",
       "\t<tr><th scope=row>3</th><td>111111295</td><td>2.361073</td><td>1.369104e-02</td></tr>\n",
       "\t<tr><th scope=row>4</th><td>111125391</td><td>2.206213</td><td>2.068009e-02</td></tr>\n",
       "\t<tr><th scope=row>5</th><td>111110197</td><td>1.864207</td><td>2.086317e-02</td></tr>\n",
       "\t<tr><th scope=row>6</th><td>111115675</td><td>2.782320</td><td>7.896812e-05</td></tr>\n",
       "</tbody>\n",
       "</table>\n"
      ],
      "text/latex": [
       "A data.frame: 6 × 3\n",
       "\\begin{tabular}{r|lll}\n",
       "  & gene & lfc & padj\\\\\n",
       "  & <chr> & <dbl> & <dbl>\\\\\n",
       "\\hline\n",
       "\t1 & 111128103 & 1.644796 & 3.065827e-02\\\\\n",
       "\t2 & 111137770 & 2.657125 & 1.784408e-02\\\\\n",
       "\t3 & 111111295 & 2.361073 & 1.369104e-02\\\\\n",
       "\t4 & 111125391 & 2.206213 & 2.068009e-02\\\\\n",
       "\t5 & 111110197 & 1.864207 & 2.086317e-02\\\\\n",
       "\t6 & 111115675 & 2.782320 & 7.896812e-05\\\\\n",
       "\\end{tabular}\n"
      ],
      "text/markdown": [
       "\n",
       "A data.frame: 6 × 3\n",
       "\n",
       "| <!--/--> | gene &lt;chr&gt; | lfc &lt;dbl&gt; | padj &lt;dbl&gt; |\n",
       "|---|---|---|---|\n",
       "| 1 | 111128103 | 1.644796 | 3.065827e-02 |\n",
       "| 2 | 111137770 | 2.657125 | 1.784408e-02 |\n",
       "| 3 | 111111295 | 2.361073 | 1.369104e-02 |\n",
       "| 4 | 111125391 | 2.206213 | 2.068009e-02 |\n",
       "| 5 | 111110197 | 1.864207 | 2.086317e-02 |\n",
       "| 6 | 111115675 | 2.782320 | 7.896812e-05 |\n",
       "\n"
      ],
      "text/plain": [
       "  gene      lfc      padj        \n",
       "1 111128103 1.644796 3.065827e-02\n",
       "2 111137770 2.657125 1.784408e-02\n",
       "3 111111295 2.361073 1.369104e-02\n",
       "4 111125391 2.206213 2.068009e-02\n",
       "5 111110197 1.864207 2.086317e-02\n",
       "6 111115675 2.782320 7.896812e-05"
      ]
     },
     "metadata": {},
     "output_type": "display_data"
    }
   ],
   "source": [
    "# load data frame\n",
    "genes <- read.csv('/project/pi_sarah_gignouxwolfsohn_uml_edu/julia/CE_MethylRAD_analysis_2018/analysis/unfiltered_lfc_p1wc.csv')\n",
    "\n",
    "# KEGG uses entrez IDs, which are my ensembl IDs without the 'LOC' in front of them, so need to convert those\n",
    "genes$X <- substr(genes$X, start = 4, stop = nchar(genes$X))\n",
    "\n",
    "# only grabbing the columns I care about\n",
    "genes <- select(genes, X, log2FoldChange, padj)\n",
    "\n",
    "# renaming columns to make more sense\n",
    "colnames(genes) <- c('gene', 'lfc', 'padj')\n",
    "\n",
    "# only selecting significant genes\n",
    "genes <- filter(genes, genes$padj < 0.05)\n",
    "\n",
    "# checking dimensions\n",
    "dim(genes) # 189 sig DMGs\n",
    "\n",
    "head(genes)"
   ]
  },
  {
   "cell_type": "markdown",
   "id": "4dbd9070-7a0a-4b37-9eab-230d5779d82e",
   "metadata": {
    "tags": []
   },
   "source": [
    "#### III. Are the signficant genes in the core enrichment of the pathways?\n",
    "Taking our list of siginificant genes, and going line by line in our pathways to see if our sig. gene matches any of the core enrichment genes"
   ]
  },
  {
   "cell_type": "code",
   "execution_count": 9,
   "id": "d5a49b65-155d-47bd-aeb9-ad8c15e8dcc4",
   "metadata": {},
   "outputs": [
    {
     "data": {
      "text/html": [
       "<table class=\"dataframe\">\n",
       "<caption>A data.frame: 6 × 12</caption>\n",
       "<thead>\n",
       "\t<tr><th></th><th scope=col>ID</th><th scope=col>Description</th><th scope=col>setSize</th><th scope=col>enrichmentScore</th><th scope=col>NES</th><th scope=col>pvalue</th><th scope=col>p.adjust</th><th scope=col>qvalue</th><th scope=col>rank</th><th scope=col>leading_edge</th><th scope=col>core_enrichment</th><th scope=col>MatchesCount</th></tr>\n",
       "\t<tr><th></th><th scope=col>&lt;chr&gt;</th><th scope=col>&lt;chr&gt;</th><th scope=col>&lt;int&gt;</th><th scope=col>&lt;dbl&gt;</th><th scope=col>&lt;dbl&gt;</th><th scope=col>&lt;dbl&gt;</th><th scope=col>&lt;dbl&gt;</th><th scope=col>&lt;dbl&gt;</th><th scope=col>&lt;int&gt;</th><th scope=col>&lt;chr&gt;</th><th scope=col>&lt;chr&gt;</th><th scope=col>&lt;int&gt;</th></tr>\n",
       "</thead>\n",
       "<tbody>\n",
       "\t<tr><th scope=row>7</th><td>cvn04814</td><td>Motor proteins                       </td><td>111</td><td>0.4819493</td><td>1.450226</td><td>0.005775221</td><td>0.2092344</td><td>0.1874827</td><td>1180</td><td>tags=18%, list=9%, signal=17% </td><td>111136151/111134768/111107338/111102596/111112439/111103394/111115784/111129526/111107250/111127380/111134843/111137068/111131563/111119946/111134888/111120500/111129376/111130940/111125250/111131555                                                                                                                                                                                                                                      </td><td>7</td></tr>\n",
       "\t<tr><th scope=row>10</th><td>cvn04144</td><td>Endocytosis                          </td><td>132</td><td>0.4453853</td><td>1.356744</td><td>0.018375737</td><td>0.2223464</td><td>0.1992317</td><td>3187</td><td>tags=33%, list=24%, signal=25%</td><td>111120187/111125099/111112319/111119513/111112439/111119512/111136896/111104852/111102907/111107174/111136866/111125956/111134954/111112863/111116971/111112700/111135084/111133388/111134171/111121253/111115795/111127289/111129312/111134242/111121335/111121437/111129503/111135594/111106223/111123210/111125223/111105462/111104835/111104585/111104028/111133563/111105923/111119177/111101822/111104196/111137900/111112119/111123772</td><td>5</td></tr>\n",
       "\t<tr><th scope=row>37</th><td>cvn03040</td><td>Spliceosome                          </td><td> 92</td><td>0.3987387</td><td>1.182876</td><td>0.171954964</td><td>0.5794411</td><td>0.5192034</td><td>1558</td><td>tags=16%, list=12%, signal=15%</td><td>111112733/111137770/111119513/111119512/111129112/111133954/111121854/111121021/111118318/111119442/111134531/111114893/111136440/111135640/111136164                                                                                                                                                                                                                                                                                        </td><td>4</td></tr>\n",
       "\t<tr><th scope=row>2</th><td>cvn00910</td><td>Nitrogen metabolism                  </td><td> 10</td><td>0.7752533</td><td>1.614827</td><td>0.008414069</td><td>0.2092344</td><td>0.1874827</td><td>1396</td><td>tags=50%, list=10%, signal=45%</td><td>111134700/111100398/111100399/111126492/111135592                                                                                                                                                                                                                                                                                                                                                                                            </td><td>3</td></tr>\n",
       "\t<tr><th scope=row>25</th><td>cvn00562</td><td>Inositol phosphate metabolism        </td><td> 47</td><td>0.4705413</td><td>1.303501</td><td>0.100540541</td><td>0.4679002</td><td>0.4192581</td><td>2592</td><td>tags=28%, list=19%, signal=22%</td><td>111101050/111127799/111125442/111125100/111127562/111126338/111100148/111135914/111134544/111120505/111135557/111138290/111130239                                                                                                                                                                                                                                                                                                            </td><td>3</td></tr>\n",
       "\t<tr><th scope=row>26</th><td>cvn04070</td><td>Phosphatidylinositol signaling system</td><td> 55</td><td>0.4596492</td><td>1.297387</td><td>0.098606645</td><td>0.4679002</td><td>0.4192581</td><td>2592</td><td>tags=27%, list=19%, signal=22%</td><td>111101050/111127799/111125442/111100277/111125100/111126338/111100148/111135914/111134544/111120505/111135557/111122823/111128823/111138290/111130239                                                                                                                                                                                                                                                                                        </td><td>3</td></tr>\n",
       "</tbody>\n",
       "</table>\n"
      ],
      "text/latex": [
       "A data.frame: 6 × 12\n",
       "\\begin{tabular}{r|llllllllllll}\n",
       "  & ID & Description & setSize & enrichmentScore & NES & pvalue & p.adjust & qvalue & rank & leading\\_edge & core\\_enrichment & MatchesCount\\\\\n",
       "  & <chr> & <chr> & <int> & <dbl> & <dbl> & <dbl> & <dbl> & <dbl> & <int> & <chr> & <chr> & <int>\\\\\n",
       "\\hline\n",
       "\t7 & cvn04814 & Motor proteins                        & 111 & 0.4819493 & 1.450226 & 0.005775221 & 0.2092344 & 0.1874827 & 1180 & tags=18\\%, list=9\\%, signal=17\\%  & 111136151/111134768/111107338/111102596/111112439/111103394/111115784/111129526/111107250/111127380/111134843/111137068/111131563/111119946/111134888/111120500/111129376/111130940/111125250/111131555                                                                                                                                                                                                                                       & 7\\\\\n",
       "\t10 & cvn04144 & Endocytosis                           & 132 & 0.4453853 & 1.356744 & 0.018375737 & 0.2223464 & 0.1992317 & 3187 & tags=33\\%, list=24\\%, signal=25\\% & 111120187/111125099/111112319/111119513/111112439/111119512/111136896/111104852/111102907/111107174/111136866/111125956/111134954/111112863/111116971/111112700/111135084/111133388/111134171/111121253/111115795/111127289/111129312/111134242/111121335/111121437/111129503/111135594/111106223/111123210/111125223/111105462/111104835/111104585/111104028/111133563/111105923/111119177/111101822/111104196/111137900/111112119/111123772 & 5\\\\\n",
       "\t37 & cvn03040 & Spliceosome                           &  92 & 0.3987387 & 1.182876 & 0.171954964 & 0.5794411 & 0.5192034 & 1558 & tags=16\\%, list=12\\%, signal=15\\% & 111112733/111137770/111119513/111119512/111129112/111133954/111121854/111121021/111118318/111119442/111134531/111114893/111136440/111135640/111136164                                                                                                                                                                                                                                                                                         & 4\\\\\n",
       "\t2 & cvn00910 & Nitrogen metabolism                   &  10 & 0.7752533 & 1.614827 & 0.008414069 & 0.2092344 & 0.1874827 & 1396 & tags=50\\%, list=10\\%, signal=45\\% & 111134700/111100398/111100399/111126492/111135592                                                                                                                                                                                                                                                                                                                                                                                             & 3\\\\\n",
       "\t25 & cvn00562 & Inositol phosphate metabolism         &  47 & 0.4705413 & 1.303501 & 0.100540541 & 0.4679002 & 0.4192581 & 2592 & tags=28\\%, list=19\\%, signal=22\\% & 111101050/111127799/111125442/111125100/111127562/111126338/111100148/111135914/111134544/111120505/111135557/111138290/111130239                                                                                                                                                                                                                                                                                                             & 3\\\\\n",
       "\t26 & cvn04070 & Phosphatidylinositol signaling system &  55 & 0.4596492 & 1.297387 & 0.098606645 & 0.4679002 & 0.4192581 & 2592 & tags=27\\%, list=19\\%, signal=22\\% & 111101050/111127799/111125442/111100277/111125100/111126338/111100148/111135914/111134544/111120505/111135557/111122823/111128823/111138290/111130239                                                                                                                                                                                                                                                                                         & 3\\\\\n",
       "\\end{tabular}\n"
      ],
      "text/markdown": [
       "\n",
       "A data.frame: 6 × 12\n",
       "\n",
       "| <!--/--> | ID &lt;chr&gt; | Description &lt;chr&gt; | setSize &lt;int&gt; | enrichmentScore &lt;dbl&gt; | NES &lt;dbl&gt; | pvalue &lt;dbl&gt; | p.adjust &lt;dbl&gt; | qvalue &lt;dbl&gt; | rank &lt;int&gt; | leading_edge &lt;chr&gt; | core_enrichment &lt;chr&gt; | MatchesCount &lt;int&gt; |\n",
       "|---|---|---|---|---|---|---|---|---|---|---|---|---|\n",
       "| 7 | cvn04814 | Motor proteins                        | 111 | 0.4819493 | 1.450226 | 0.005775221 | 0.2092344 | 0.1874827 | 1180 | tags=18%, list=9%, signal=17%  | 111136151/111134768/111107338/111102596/111112439/111103394/111115784/111129526/111107250/111127380/111134843/111137068/111131563/111119946/111134888/111120500/111129376/111130940/111125250/111131555                                                                                                                                                                                                                                       | 7 |\n",
       "| 10 | cvn04144 | Endocytosis                           | 132 | 0.4453853 | 1.356744 | 0.018375737 | 0.2223464 | 0.1992317 | 3187 | tags=33%, list=24%, signal=25% | 111120187/111125099/111112319/111119513/111112439/111119512/111136896/111104852/111102907/111107174/111136866/111125956/111134954/111112863/111116971/111112700/111135084/111133388/111134171/111121253/111115795/111127289/111129312/111134242/111121335/111121437/111129503/111135594/111106223/111123210/111125223/111105462/111104835/111104585/111104028/111133563/111105923/111119177/111101822/111104196/111137900/111112119/111123772 | 5 |\n",
       "| 37 | cvn03040 | Spliceosome                           |  92 | 0.3987387 | 1.182876 | 0.171954964 | 0.5794411 | 0.5192034 | 1558 | tags=16%, list=12%, signal=15% | 111112733/111137770/111119513/111119512/111129112/111133954/111121854/111121021/111118318/111119442/111134531/111114893/111136440/111135640/111136164                                                                                                                                                                                                                                                                                         | 4 |\n",
       "| 2 | cvn00910 | Nitrogen metabolism                   |  10 | 0.7752533 | 1.614827 | 0.008414069 | 0.2092344 | 0.1874827 | 1396 | tags=50%, list=10%, signal=45% | 111134700/111100398/111100399/111126492/111135592                                                                                                                                                                                                                                                                                                                                                                                             | 3 |\n",
       "| 25 | cvn00562 | Inositol phosphate metabolism         |  47 | 0.4705413 | 1.303501 | 0.100540541 | 0.4679002 | 0.4192581 | 2592 | tags=28%, list=19%, signal=22% | 111101050/111127799/111125442/111125100/111127562/111126338/111100148/111135914/111134544/111120505/111135557/111138290/111130239                                                                                                                                                                                                                                                                                                             | 3 |\n",
       "| 26 | cvn04070 | Phosphatidylinositol signaling system |  55 | 0.4596492 | 1.297387 | 0.098606645 | 0.4679002 | 0.4192581 | 2592 | tags=27%, list=19%, signal=22% | 111101050/111127799/111125442/111100277/111125100/111126338/111100148/111135914/111134544/111120505/111135557/111122823/111128823/111138290/111130239                                                                                                                                                                                                                                                                                         | 3 |\n",
       "\n"
      ],
      "text/plain": [
       "   ID       Description                           setSize enrichmentScore\n",
       "7  cvn04814 Motor proteins                        111     0.4819493      \n",
       "10 cvn04144 Endocytosis                           132     0.4453853      \n",
       "37 cvn03040 Spliceosome                            92     0.3987387      \n",
       "2  cvn00910 Nitrogen metabolism                    10     0.7752533      \n",
       "25 cvn00562 Inositol phosphate metabolism          47     0.4705413      \n",
       "26 cvn04070 Phosphatidylinositol signaling system  55     0.4596492      \n",
       "   NES      pvalue      p.adjust  qvalue    rank leading_edge                  \n",
       "7  1.450226 0.005775221 0.2092344 0.1874827 1180 tags=18%, list=9%, signal=17% \n",
       "10 1.356744 0.018375737 0.2223464 0.1992317 3187 tags=33%, list=24%, signal=25%\n",
       "37 1.182876 0.171954964 0.5794411 0.5192034 1558 tags=16%, list=12%, signal=15%\n",
       "2  1.614827 0.008414069 0.2092344 0.1874827 1396 tags=50%, list=10%, signal=45%\n",
       "25 1.303501 0.100540541 0.4679002 0.4192581 2592 tags=28%, list=19%, signal=22%\n",
       "26 1.297387 0.098606645 0.4679002 0.4192581 2592 tags=27%, list=19%, signal=22%\n",
       "   core_enrichment                                                                                                                                                                                                                                                                                                                                                                                                                              \n",
       "7  111136151/111134768/111107338/111102596/111112439/111103394/111115784/111129526/111107250/111127380/111134843/111137068/111131563/111119946/111134888/111120500/111129376/111130940/111125250/111131555                                                                                                                                                                                                                                      \n",
       "10 111120187/111125099/111112319/111119513/111112439/111119512/111136896/111104852/111102907/111107174/111136866/111125956/111134954/111112863/111116971/111112700/111135084/111133388/111134171/111121253/111115795/111127289/111129312/111134242/111121335/111121437/111129503/111135594/111106223/111123210/111125223/111105462/111104835/111104585/111104028/111133563/111105923/111119177/111101822/111104196/111137900/111112119/111123772\n",
       "37 111112733/111137770/111119513/111119512/111129112/111133954/111121854/111121021/111118318/111119442/111134531/111114893/111136440/111135640/111136164                                                                                                                                                                                                                                                                                        \n",
       "2  111134700/111100398/111100399/111126492/111135592                                                                                                                                                                                                                                                                                                                                                                                            \n",
       "25 111101050/111127799/111125442/111125100/111127562/111126338/111100148/111135914/111134544/111120505/111135557/111138290/111130239                                                                                                                                                                                                                                                                                                            \n",
       "26 111101050/111127799/111125442/111100277/111125100/111126338/111100148/111135914/111134544/111120505/111135557/111122823/111128823/111138290/111130239                                                                                                                                                                                                                                                                                        \n",
       "   MatchesCount\n",
       "7  7           \n",
       "10 5           \n",
       "37 4           \n",
       "2  3           \n",
       "25 3           \n",
       "26 3           "
      ]
     },
     "metadata": {},
     "output_type": "display_data"
    }
   ],
   "source": [
    "# generated from ChatGPT\n",
    "\n",
    "# Sample dataframes\n",
    "df1 <- genes\n",
    "df2 <- pathway\n",
    "\n",
    "# Function to check if any gene in df1 matches genes in a row of df2\n",
    "get_gene_matches <- function(row_df2, df1_genes) {\n",
    "  genes2 <- unlist(strsplit(as.character(row_df2), \"/\"))\n",
    "  count <- sum(genes2 %in% df1_genes)\n",
    "  return(count)\n",
    "}\n",
    "\n",
    "# Iterate over each row of df2\n",
    "matches_count <- sapply(df2$core_enrichment, get_gene_matches, df1_genes = df1$gene)\n",
    "\n",
    "# Add the matches count to df2\n",
    "df2$MatchesCount <- matches_count\n",
    "\n",
    "# Sort df with highest match counts at the top\n",
    "gene_pathway_match <- df2[order(-df2$MatchesCount),]\n",
    "head(gene_pathway_match)\n"
   ]
  },
  {
   "cell_type": "markdown",
   "id": "798c4c9b-1691-4a91-ac3a-e889e0aaa8ac",
   "metadata": {},
   "source": [
    "now that I have a df with counts of number of matches between core enrichment genes and significant DMGs, want to only look at those with matches (filter out any pathways that did not contain sig. DMGs in their core enrichment)"
   ]
  },
  {
   "cell_type": "code",
   "execution_count": 10,
   "id": "e2917340-6ce8-4f1c-925c-31bb32f76fdc",
   "metadata": {},
   "outputs": [
    {
     "data": {
      "text/html": [
       "<style>\n",
       ".list-inline {list-style: none; margin:0; padding: 0}\n",
       ".list-inline>li {display: inline-block}\n",
       ".list-inline>li:not(:last-child)::after {content: \"\\00b7\"; padding: 0 .5ex}\n",
       "</style>\n",
       "<ol class=list-inline><li>42</li><li>12</li></ol>\n"
      ],
      "text/latex": [
       "\\begin{enumerate*}\n",
       "\\item 42\n",
       "\\item 12\n",
       "\\end{enumerate*}\n"
      ],
      "text/markdown": [
       "1. 42\n",
       "2. 12\n",
       "\n",
       "\n"
      ],
      "text/plain": [
       "[1] 42 12"
      ]
     },
     "metadata": {},
     "output_type": "display_data"
    },
    {
     "data": {
      "text/html": [
       "<table class=\"dataframe\">\n",
       "<caption>A data.frame: 6 × 12</caption>\n",
       "<thead>\n",
       "\t<tr><th></th><th scope=col>ID</th><th scope=col>Description</th><th scope=col>setSize</th><th scope=col>enrichmentScore</th><th scope=col>NES</th><th scope=col>pvalue</th><th scope=col>p.adjust</th><th scope=col>qvalue</th><th scope=col>rank</th><th scope=col>leading_edge</th><th scope=col>core_enrichment</th><th scope=col>MatchesCount</th></tr>\n",
       "\t<tr><th></th><th scope=col>&lt;chr&gt;</th><th scope=col>&lt;chr&gt;</th><th scope=col>&lt;int&gt;</th><th scope=col>&lt;dbl&gt;</th><th scope=col>&lt;dbl&gt;</th><th scope=col>&lt;dbl&gt;</th><th scope=col>&lt;dbl&gt;</th><th scope=col>&lt;dbl&gt;</th><th scope=col>&lt;int&gt;</th><th scope=col>&lt;chr&gt;</th><th scope=col>&lt;chr&gt;</th><th scope=col>&lt;int&gt;</th></tr>\n",
       "</thead>\n",
       "<tbody>\n",
       "\t<tr><th scope=row>1</th><td>cvn04814</td><td>Motor proteins                       </td><td>111</td><td>0.4819493</td><td>1.450226</td><td>0.005775221</td><td>0.2092344</td><td>0.1874827</td><td>1180</td><td>tags=18%, list=9%, signal=17% </td><td>111136151/111134768/111107338/111102596/111112439/111103394/111115784/111129526/111107250/111127380/111134843/111137068/111131563/111119946/111134888/111120500/111129376/111130940/111125250/111131555                                                                                                                                                                                                                                      </td><td>7</td></tr>\n",
       "\t<tr><th scope=row>2</th><td>cvn04144</td><td>Endocytosis                          </td><td>132</td><td>0.4453853</td><td>1.356744</td><td>0.018375737</td><td>0.2223464</td><td>0.1992317</td><td>3187</td><td>tags=33%, list=24%, signal=25%</td><td>111120187/111125099/111112319/111119513/111112439/111119512/111136896/111104852/111102907/111107174/111136866/111125956/111134954/111112863/111116971/111112700/111135084/111133388/111134171/111121253/111115795/111127289/111129312/111134242/111121335/111121437/111129503/111135594/111106223/111123210/111125223/111105462/111104835/111104585/111104028/111133563/111105923/111119177/111101822/111104196/111137900/111112119/111123772</td><td>5</td></tr>\n",
       "\t<tr><th scope=row>3</th><td>cvn03040</td><td>Spliceosome                          </td><td> 92</td><td>0.3987387</td><td>1.182876</td><td>0.171954964</td><td>0.5794411</td><td>0.5192034</td><td>1558</td><td>tags=16%, list=12%, signal=15%</td><td>111112733/111137770/111119513/111119512/111129112/111133954/111121854/111121021/111118318/111119442/111134531/111114893/111136440/111135640/111136164                                                                                                                                                                                                                                                                                        </td><td>4</td></tr>\n",
       "\t<tr><th scope=row>4</th><td>cvn00910</td><td>Nitrogen metabolism                  </td><td> 10</td><td>0.7752533</td><td>1.614827</td><td>0.008414069</td><td>0.2092344</td><td>0.1874827</td><td>1396</td><td>tags=50%, list=10%, signal=45%</td><td>111134700/111100398/111100399/111126492/111135592                                                                                                                                                                                                                                                                                                                                                                                            </td><td>3</td></tr>\n",
       "\t<tr><th scope=row>5</th><td>cvn00562</td><td>Inositol phosphate metabolism        </td><td> 47</td><td>0.4705413</td><td>1.303501</td><td>0.100540541</td><td>0.4679002</td><td>0.4192581</td><td>2592</td><td>tags=28%, list=19%, signal=22%</td><td>111101050/111127799/111125442/111125100/111127562/111126338/111100148/111135914/111134544/111120505/111135557/111138290/111130239                                                                                                                                                                                                                                                                                                            </td><td>3</td></tr>\n",
       "\t<tr><th scope=row>6</th><td>cvn04070</td><td>Phosphatidylinositol signaling system</td><td> 55</td><td>0.4596492</td><td>1.297387</td><td>0.098606645</td><td>0.4679002</td><td>0.4192581</td><td>2592</td><td>tags=27%, list=19%, signal=22%</td><td>111101050/111127799/111125442/111100277/111125100/111126338/111100148/111135914/111134544/111120505/111135557/111122823/111128823/111138290/111130239                                                                                                                                                                                                                                                                                        </td><td>3</td></tr>\n",
       "</tbody>\n",
       "</table>\n"
      ],
      "text/latex": [
       "A data.frame: 6 × 12\n",
       "\\begin{tabular}{r|llllllllllll}\n",
       "  & ID & Description & setSize & enrichmentScore & NES & pvalue & p.adjust & qvalue & rank & leading\\_edge & core\\_enrichment & MatchesCount\\\\\n",
       "  & <chr> & <chr> & <int> & <dbl> & <dbl> & <dbl> & <dbl> & <dbl> & <int> & <chr> & <chr> & <int>\\\\\n",
       "\\hline\n",
       "\t1 & cvn04814 & Motor proteins                        & 111 & 0.4819493 & 1.450226 & 0.005775221 & 0.2092344 & 0.1874827 & 1180 & tags=18\\%, list=9\\%, signal=17\\%  & 111136151/111134768/111107338/111102596/111112439/111103394/111115784/111129526/111107250/111127380/111134843/111137068/111131563/111119946/111134888/111120500/111129376/111130940/111125250/111131555                                                                                                                                                                                                                                       & 7\\\\\n",
       "\t2 & cvn04144 & Endocytosis                           & 132 & 0.4453853 & 1.356744 & 0.018375737 & 0.2223464 & 0.1992317 & 3187 & tags=33\\%, list=24\\%, signal=25\\% & 111120187/111125099/111112319/111119513/111112439/111119512/111136896/111104852/111102907/111107174/111136866/111125956/111134954/111112863/111116971/111112700/111135084/111133388/111134171/111121253/111115795/111127289/111129312/111134242/111121335/111121437/111129503/111135594/111106223/111123210/111125223/111105462/111104835/111104585/111104028/111133563/111105923/111119177/111101822/111104196/111137900/111112119/111123772 & 5\\\\\n",
       "\t3 & cvn03040 & Spliceosome                           &  92 & 0.3987387 & 1.182876 & 0.171954964 & 0.5794411 & 0.5192034 & 1558 & tags=16\\%, list=12\\%, signal=15\\% & 111112733/111137770/111119513/111119512/111129112/111133954/111121854/111121021/111118318/111119442/111134531/111114893/111136440/111135640/111136164                                                                                                                                                                                                                                                                                         & 4\\\\\n",
       "\t4 & cvn00910 & Nitrogen metabolism                   &  10 & 0.7752533 & 1.614827 & 0.008414069 & 0.2092344 & 0.1874827 & 1396 & tags=50\\%, list=10\\%, signal=45\\% & 111134700/111100398/111100399/111126492/111135592                                                                                                                                                                                                                                                                                                                                                                                             & 3\\\\\n",
       "\t5 & cvn00562 & Inositol phosphate metabolism         &  47 & 0.4705413 & 1.303501 & 0.100540541 & 0.4679002 & 0.4192581 & 2592 & tags=28\\%, list=19\\%, signal=22\\% & 111101050/111127799/111125442/111125100/111127562/111126338/111100148/111135914/111134544/111120505/111135557/111138290/111130239                                                                                                                                                                                                                                                                                                             & 3\\\\\n",
       "\t6 & cvn04070 & Phosphatidylinositol signaling system &  55 & 0.4596492 & 1.297387 & 0.098606645 & 0.4679002 & 0.4192581 & 2592 & tags=27\\%, list=19\\%, signal=22\\% & 111101050/111127799/111125442/111100277/111125100/111126338/111100148/111135914/111134544/111120505/111135557/111122823/111128823/111138290/111130239                                                                                                                                                                                                                                                                                         & 3\\\\\n",
       "\\end{tabular}\n"
      ],
      "text/markdown": [
       "\n",
       "A data.frame: 6 × 12\n",
       "\n",
       "| <!--/--> | ID &lt;chr&gt; | Description &lt;chr&gt; | setSize &lt;int&gt; | enrichmentScore &lt;dbl&gt; | NES &lt;dbl&gt; | pvalue &lt;dbl&gt; | p.adjust &lt;dbl&gt; | qvalue &lt;dbl&gt; | rank &lt;int&gt; | leading_edge &lt;chr&gt; | core_enrichment &lt;chr&gt; | MatchesCount &lt;int&gt; |\n",
       "|---|---|---|---|---|---|---|---|---|---|---|---|---|\n",
       "| 1 | cvn04814 | Motor proteins                        | 111 | 0.4819493 | 1.450226 | 0.005775221 | 0.2092344 | 0.1874827 | 1180 | tags=18%, list=9%, signal=17%  | 111136151/111134768/111107338/111102596/111112439/111103394/111115784/111129526/111107250/111127380/111134843/111137068/111131563/111119946/111134888/111120500/111129376/111130940/111125250/111131555                                                                                                                                                                                                                                       | 7 |\n",
       "| 2 | cvn04144 | Endocytosis                           | 132 | 0.4453853 | 1.356744 | 0.018375737 | 0.2223464 | 0.1992317 | 3187 | tags=33%, list=24%, signal=25% | 111120187/111125099/111112319/111119513/111112439/111119512/111136896/111104852/111102907/111107174/111136866/111125956/111134954/111112863/111116971/111112700/111135084/111133388/111134171/111121253/111115795/111127289/111129312/111134242/111121335/111121437/111129503/111135594/111106223/111123210/111125223/111105462/111104835/111104585/111104028/111133563/111105923/111119177/111101822/111104196/111137900/111112119/111123772 | 5 |\n",
       "| 3 | cvn03040 | Spliceosome                           |  92 | 0.3987387 | 1.182876 | 0.171954964 | 0.5794411 | 0.5192034 | 1558 | tags=16%, list=12%, signal=15% | 111112733/111137770/111119513/111119512/111129112/111133954/111121854/111121021/111118318/111119442/111134531/111114893/111136440/111135640/111136164                                                                                                                                                                                                                                                                                         | 4 |\n",
       "| 4 | cvn00910 | Nitrogen metabolism                   |  10 | 0.7752533 | 1.614827 | 0.008414069 | 0.2092344 | 0.1874827 | 1396 | tags=50%, list=10%, signal=45% | 111134700/111100398/111100399/111126492/111135592                                                                                                                                                                                                                                                                                                                                                                                             | 3 |\n",
       "| 5 | cvn00562 | Inositol phosphate metabolism         |  47 | 0.4705413 | 1.303501 | 0.100540541 | 0.4679002 | 0.4192581 | 2592 | tags=28%, list=19%, signal=22% | 111101050/111127799/111125442/111125100/111127562/111126338/111100148/111135914/111134544/111120505/111135557/111138290/111130239                                                                                                                                                                                                                                                                                                             | 3 |\n",
       "| 6 | cvn04070 | Phosphatidylinositol signaling system |  55 | 0.4596492 | 1.297387 | 0.098606645 | 0.4679002 | 0.4192581 | 2592 | tags=27%, list=19%, signal=22% | 111101050/111127799/111125442/111100277/111125100/111126338/111100148/111135914/111134544/111120505/111135557/111122823/111128823/111138290/111130239                                                                                                                                                                                                                                                                                         | 3 |\n",
       "\n"
      ],
      "text/plain": [
       "  ID       Description                           setSize enrichmentScore\n",
       "1 cvn04814 Motor proteins                        111     0.4819493      \n",
       "2 cvn04144 Endocytosis                           132     0.4453853      \n",
       "3 cvn03040 Spliceosome                            92     0.3987387      \n",
       "4 cvn00910 Nitrogen metabolism                    10     0.7752533      \n",
       "5 cvn00562 Inositol phosphate metabolism          47     0.4705413      \n",
       "6 cvn04070 Phosphatidylinositol signaling system  55     0.4596492      \n",
       "  NES      pvalue      p.adjust  qvalue    rank leading_edge                  \n",
       "1 1.450226 0.005775221 0.2092344 0.1874827 1180 tags=18%, list=9%, signal=17% \n",
       "2 1.356744 0.018375737 0.2223464 0.1992317 3187 tags=33%, list=24%, signal=25%\n",
       "3 1.182876 0.171954964 0.5794411 0.5192034 1558 tags=16%, list=12%, signal=15%\n",
       "4 1.614827 0.008414069 0.2092344 0.1874827 1396 tags=50%, list=10%, signal=45%\n",
       "5 1.303501 0.100540541 0.4679002 0.4192581 2592 tags=28%, list=19%, signal=22%\n",
       "6 1.297387 0.098606645 0.4679002 0.4192581 2592 tags=27%, list=19%, signal=22%\n",
       "  core_enrichment                                                                                                                                                                                                                                                                                                                                                                                                                              \n",
       "1 111136151/111134768/111107338/111102596/111112439/111103394/111115784/111129526/111107250/111127380/111134843/111137068/111131563/111119946/111134888/111120500/111129376/111130940/111125250/111131555                                                                                                                                                                                                                                      \n",
       "2 111120187/111125099/111112319/111119513/111112439/111119512/111136896/111104852/111102907/111107174/111136866/111125956/111134954/111112863/111116971/111112700/111135084/111133388/111134171/111121253/111115795/111127289/111129312/111134242/111121335/111121437/111129503/111135594/111106223/111123210/111125223/111105462/111104835/111104585/111104028/111133563/111105923/111119177/111101822/111104196/111137900/111112119/111123772\n",
       "3 111112733/111137770/111119513/111119512/111129112/111133954/111121854/111121021/111118318/111119442/111134531/111114893/111136440/111135640/111136164                                                                                                                                                                                                                                                                                        \n",
       "4 111134700/111100398/111100399/111126492/111135592                                                                                                                                                                                                                                                                                                                                                                                            \n",
       "5 111101050/111127799/111125442/111125100/111127562/111126338/111100148/111135914/111134544/111120505/111135557/111138290/111130239                                                                                                                                                                                                                                                                                                            \n",
       "6 111101050/111127799/111125442/111100277/111125100/111126338/111100148/111135914/111134544/111120505/111135557/111122823/111128823/111138290/111130239                                                                                                                                                                                                                                                                                        \n",
       "  MatchesCount\n",
       "1 7           \n",
       "2 5           \n",
       "3 4           \n",
       "4 3           \n",
       "5 3           \n",
       "6 3           "
      ]
     },
     "metadata": {},
     "output_type": "display_data"
    }
   ],
   "source": [
    "# only want to look at pathways that have significant genes in their core enrichment\n",
    "matched_pathways <- filter(gene_pathway_match, gene_pathway_match$MatchesCount != 0)\n",
    "\n",
    "# checking dimensions to see how many pathways we have \n",
    "dim(matched_pathways) # 41 matches\n",
    "\n",
    "# looking at df\n",
    "head(matched_pathways)"
   ]
  },
  {
   "cell_type": "code",
   "execution_count": 11,
   "id": "944147b6-806e-44cd-8325-3702ddce6e91",
   "metadata": {},
   "outputs": [],
   "source": [
    "write.csv(matched_pathways, '/project/pi_sarah_gignouxwolfsohn_uml_edu/julia/CE_MethylRAD_analysis_2018/analysis/lfc_kegg_pathways/p1wc_siggene_pathways.csv')"
   ]
  },
  {
   "cell_type": "code",
   "execution_count": null,
   "id": "d23bfa01-ac8d-40ac-b93a-f1f74499f8d3",
   "metadata": {},
   "outputs": [],
   "source": [
    "mean(matched_pathways$MatchesCount)\n",
    "median(matched_pathways$MatchesCount)\n",
    "sd(matched_pathways$MatchesCount)"
   ]
  },
  {
   "cell_type": "markdown",
   "id": "89283b11-ab2e-43d0-b1e9-411fc25b7024",
   "metadata": {},
   "source": [
    "**Stats on Matched Counts**\n",
    "\n",
    "25 pathways with only 1 match\n",
    "\n",
    "148 pathways with 0 matches\n",
    "\n",
    "- mean number of matches: 1.8\n",
    "- median number of matches: 1\n",
    "- standard deviation of matches: 1.31\n",
    "\n",
    "**motor proteins** have the highest number of significant DMGs in its core enrichment with 7 genes"
   ]
  },
  {
   "cell_type": "markdown",
   "id": "7cec6840-1e66-44c2-a154-97d66d67941e",
   "metadata": {
    "jp-MarkdownHeadingCollapsed": true,
    "tags": []
   },
   "source": [
    "## Investigating adjusted p-values with NA values\n",
    "We're trying to figure out *why* we get NA values so we can decide if we want to exclude or keep those genes in our pathway analysis\n",
    "\n",
    "Starting with looking at our list of genes with stat info from DESeq (normal lfcShrink and lfcThreshold=0.5)"
   ]
  },
  {
   "cell_type": "code",
   "execution_count": null,
   "id": "9fe1d2e8-c3d8-493a-b52a-96a8f098edcc",
   "metadata": {},
   "outputs": [],
   "source": [
    "unfilter_genes <- read.csv('/project/pi_sarah_gignouxwolfsohn_uml_edu/julia/CE_MethylRAD_analysis_2018/analysis/lfc_sig_genes/unfiltered_phase1_wc_genes.csv')\n",
    "head(unfilter_genes)"
   ]
  },
  {
   "cell_type": "markdown",
   "id": "66622903-6727-4511-b243-57775da534e5",
   "metadata": {},
   "source": [
    "filtering df to only include genes with NA for adjusted p-value"
   ]
  },
  {
   "cell_type": "code",
   "execution_count": null,
   "id": "fdc4d128-e174-43e9-a8e6-d445ccc637bb",
   "metadata": {},
   "outputs": [],
   "source": [
    "genes_w_na <- unfilter_genes[is.na(unfilter_genes$padj),]\n",
    "dim(genes_w_na) # 5,776 genes with NA for adjusted p-value"
   ]
  },
  {
   "cell_type": "markdown",
   "id": "129a8d15-c402-43e7-9344-43e76899f605",
   "metadata": {},
   "source": [
    "looking more into the stats of those genes with NA for adjusted p-value, specifically looking at the baseMean (since this is what the DESeq documentation points at)\n",
    "> baseMean - the average of the normalized count values, dividing by size factors, taken over all samples"
   ]
  },
  {
   "cell_type": "code",
   "execution_count": null,
   "id": "bbd3adac-fb82-4051-848b-0d78014cd5ac",
   "metadata": {},
   "outputs": [],
   "source": [
    "mean(genes_w_na$baseMean) # average = 4.5 counts per sample\n",
    "sd(genes_w_na$baseMean) # standard deviation = 22"
   ]
  },
  {
   "cell_type": "markdown",
   "id": "2e297847-aa25-42b0-8447-71c314ac7e5c",
   "metadata": {},
   "source": [
    "loading in counts matrix that was generated with featureCounts to pull out the genes with NA for adjusted p-value"
   ]
  },
  {
   "cell_type": "code",
   "execution_count": null,
   "id": "367a8964-9596-4d0a-bb3b-f7ba3e4d62ab",
   "metadata": {},
   "outputs": [],
   "source": [
    "# loading in counts matrix\n",
    "counts_matrix <- read.csv('/project/pi_sarah_gignouxwolfsohn_uml_edu/julia/CE_MethylRAD_analysis_2018/analysis/counts_and_meta/featureCounts_meta.csv')\n",
    "head(counts_matrix)"
   ]
  },
  {
   "cell_type": "code",
   "execution_count": null,
   "id": "7f1ef971-d255-4579-9cff-8803217e0c14",
   "metadata": {},
   "outputs": [],
   "source": [
    "# setting genees as row names\n",
    "rownames(counts_matrix) = counts_matrix$X\n",
    "\n",
    "# removing gene column (since now are rownames)\n",
    "counts_matrix2 <- counts_matrix[,-1]\n",
    "head(counts_matrix2)"
   ]
  },
  {
   "cell_type": "code",
   "execution_count": null,
   "id": "213a8733-c809-486e-91a5-7ae62fd54269",
   "metadata": {},
   "outputs": [],
   "source": [
    "# replace the '.' with '-'\n",
    "cleaned_column_names2 <- gsub('\\\\.', \"-\", colnames(counts_matrix2))\n",
    "head(cleaned_column_names2)\n",
    "\n",
    "# now assigning to the columns\n",
    "colnames(counts_matrix2) = cleaned_column_names2\n",
    "head(counts_matrix2)"
   ]
  },
  {
   "cell_type": "code",
   "execution_count": null,
   "id": "b4af77bf-5899-429d-a3b4-0620ca3245c0",
   "metadata": {},
   "outputs": [],
   "source": [
    "# creating new df of counts matrix of genes with NA for padj\n",
    "counts_na <- counts_matrix2[rownames(counts_matrix2) %in% genes_w_na$X,]\n",
    "dim(counts_na) # 5,776 genes \n",
    "head(counts_na)"
   ]
  },
  {
   "cell_type": "markdown",
   "id": "186c8a7f-b4a2-4c3a-864d-6e9199a3507d",
   "metadata": {},
   "source": [
    "also need to load in meta data so that I can pull out the right columns aka samples that were warm or control for phase 1"
   ]
  },
  {
   "cell_type": "code",
   "execution_count": null,
   "id": "d485a7e7-d0e0-4992-b72e-6ce6c1d1598e",
   "metadata": {},
   "outputs": [],
   "source": [
    "meta <- read.csv('/project/pi_sarah_gignouxwolfsohn_uml_edu/julia/CE_MethylRAD_analysis_2018/analysis/counts_and_meta/CV_CE18_meta.csv')\n",
    "head(meta)"
   ]
  },
  {
   "cell_type": "markdown",
   "id": "a43e8c74-badd-4545-9fbb-c6d68ff2c3ad",
   "metadata": {},
   "source": [
    "pulling out only the samples that were either warm or control for phase 1 treatment (we're ignoring the effects of phase 2 for this analysis)"
   ]
  },
  {
   "cell_type": "code",
   "execution_count": null,
   "id": "6ab6fd6a-072a-4114-8cf9-3140b2737426",
   "metadata": {},
   "outputs": [],
   "source": [
    "p1_wc_meta <- filter(meta, meta$Phase1 == 'warm' | meta$Phase1 == 'control')\n",
    "dim(p1_wc_meta) # 15 total samples\n",
    "head(p1_wc_meta)"
   ]
  },
  {
   "cell_type": "code",
   "execution_count": null,
   "id": "0e9d383e-2193-43c3-ae7a-5a9cc2d82610",
   "metadata": {},
   "outputs": [],
   "source": [
    "p1_wc_meta"
   ]
  },
  {
   "cell_type": "code",
   "execution_count": null,
   "id": "908287a5-737d-4c46-a570-c86130dc7937",
   "metadata": {},
   "outputs": [],
   "source": [
    "# only looking at samples with control or warm for phase 1 in the counts matrix\n",
    "filtered_df <- counts_na[,colnames(counts_na) %in% p1_wc_meta$unique_ID]\n",
    "dim(filtered_df) # still seeing 5,776 genes with NA for padj and info for 15 samples\n",
    "head(filtered_df,20)"
   ]
  },
  {
   "cell_type": "markdown",
   "id": "f2558977-b0da-4ec4-946d-de78b746fb74",
   "metadata": {},
   "source": [
    "all of the **W##** samples are **control** and all of the **G##** samples are **warm** for phase 1"
   ]
  },
  {
   "cell_type": "markdown",
   "id": "19b587ac-6055-4e3c-bea8-851779379711",
   "metadata": {},
   "source": [
    "looking at this df in excel to more easily look at why we might get NA for those genes"
   ]
  },
  {
   "cell_type": "code",
   "execution_count": null,
   "id": "4ca69a55-70e8-4390-a475-d7a8e85d7970",
   "metadata": {},
   "outputs": [],
   "source": [
    "write.csv(filtered_df, '/project/pi_sarah_gignouxwolfsohn_uml_edu/julia/CE_MethylRAD_analysis_2018/analysis/featureCounts_analysis/na_p1_wc_countsmatrix.csv')"
   ]
  },
  {
   "cell_type": "markdown",
   "id": "1d2f4cc4-76d0-4dc2-8b47-e91f306df09e",
   "metadata": {},
   "source": [
    "# Unfiltered DESeq DF and Pathway\n",
    "still looking at significantly differentially methylated genes for phase 1 warm vs. control, but now genes get assigned NA for adjusted p-values only when the gene has low counts (so this now includes outliers, instead of assigning outliers NA), therefore, different genes will be kept in the analysis for enriched pathways"
   ]
  },
  {
   "cell_type": "code",
   "execution_count": null,
   "id": "4d9fc6a8-abe9-47af-82ab-177ee7d59e76",
   "metadata": {},
   "outputs": [],
   "source": [
    "# load in csv file\n",
    "pathway <- read.csv('/project/pi_sarah_gignouxwolfsohn_uml_edu/julia/CE_MethylRAD_analysis_2018/analysis/lfc_kegg_pathways/unfiltered_pathways_p1wc.csv')\n",
    "\n",
    "# clean headers and columns\n",
    "pathway <- pathway[,-1]\n",
    "\n",
    "# checking dimensions\n",
    "dim(pathway) #119 pathways, 11 rows of info/meta data\n",
    "\n",
    "head(pathway)"
   ]
  },
  {
   "cell_type": "code",
   "execution_count": null,
   "id": "08362e13-ad51-470c-8861-0696533f976d",
   "metadata": {},
   "outputs": [],
   "source": [
    "# load data frame\n",
    "genes <- read.csv('/project/pi_sarah_gignouxwolfsohn_uml_edu/julia/CE_MethylRAD_analysis_2018/analysis/unfiltered_lfc_p1wc.csv')\n",
    "\n",
    "# KEGG uses entrez IDs, which are my ensembl IDs without the 'LOC' in front of them, so need to convert those\n",
    "genes$X <- substr(genes$X, start = 4, stop = nchar(genes$X))\n",
    "\n",
    "# only grabbing the columns I care about\n",
    "genes <- select(genes, X, log2FoldChange, padj)\n",
    "\n",
    "# renaming columns to make more sense\n",
    "colnames(genes) <- c('gene', 'lfc', 'padj')\n",
    "\n",
    "# only selecting genes that have padj < 0.05\n",
    "genes <- filter(genes, genes$padj < 0.05)\n",
    "\n",
    "# checking dimensions\n",
    "dim(genes) # 189 sig DMGs\n",
    "\n",
    "head(genes)"
   ]
  },
  {
   "cell_type": "markdown",
   "id": "5ffba236-0120-4f0c-b6bc-c7dbe207d395",
   "metadata": {},
   "source": [
    "#### III. Are the signficant genes in the core enrichment of the pathways?\n",
    "Taking our list of siginificant genes, and going line by line in our pathways to see if our sig. gene matches any of the core enrichment genes"
   ]
  },
  {
   "cell_type": "code",
   "execution_count": null,
   "id": "6fa886b4-4f71-4568-aabd-285992091f7f",
   "metadata": {},
   "outputs": [],
   "source": [
    "# generated from ChatGPT\n",
    "\n",
    "# Sample dataframes\n",
    "df1 <- genes\n",
    "df2 <- pathway\n",
    "\n",
    "# Function to check if any gene in df1 matches genes in a row of df2\n",
    "get_gene_matches <- function(row_df2, df1_genes) {\n",
    "  genes2 <- unlist(strsplit(as.character(row_df2), \"/\"))\n",
    "  count <- sum(genes2 %in% df1_genes)\n",
    "  return(count)\n",
    "}\n",
    "\n",
    "# Iterate over each row of df2\n",
    "matches_count <- sapply(df2$core_enrichment, get_gene_matches, df1_genes = df1$gene)\n",
    "\n",
    "# Add the matches count to df2\n",
    "df2$MatchesCount <- matches_count\n",
    "\n",
    "# Sort df with highest match counts at the top\n",
    "gene_pathway_match <- df2[order(-df2$MatchesCount),]\n",
    "head(gene_pathway_match)\n"
   ]
  },
  {
   "cell_type": "markdown",
   "id": "6fc49ab1-b33a-4ba6-9029-7c8331c1911d",
   "metadata": {},
   "source": [
    "now that I have a df with counts of number of matches between core enrichment genes and significant DMGs, want to only look at those with matches (filter out any pathways that did not contain sig. DMGs in their core enrichment)"
   ]
  },
  {
   "cell_type": "code",
   "execution_count": null,
   "id": "087db646-3e2d-40de-b8c2-19b20545a2b5",
   "metadata": {},
   "outputs": [],
   "source": [
    "# only want to look at pathways that have significant genes in their core enrichment\n",
    "matched_pathways <- filter(gene_pathway_match, gene_pathway_match$MatchesCount != 0)\n",
    "\n",
    "# checking dimensions to see how many pathways we have \n",
    "dim(matched_pathways) # 41 matches\n",
    "\n",
    "# looking at df\n",
    "head(matched_pathways)"
   ]
  },
  {
   "cell_type": "code",
   "execution_count": null,
   "id": "3e36b7ad-8710-47a8-aebd-775a317865c4",
   "metadata": {},
   "outputs": [],
   "source": [
    "mean(matched_pathways$MatchesCount)\n",
    "median(matched_pathways$MatchesCount)\n",
    "sd(matched_pathways$MatchesCount)"
   ]
  },
  {
   "cell_type": "markdown",
   "id": "7222787f-cfdf-4fec-bc8b-5b9ee84ad881",
   "metadata": {},
   "source": [
    "**Stats on Matched Counts**\n",
    "\n",
    "25 pathways with only 1 match\n",
    "\n",
    "148 pathways with 0 matches\n",
    "\n",
    "- mean number of matches: 1.8\n",
    "- median number of matches: 1\n",
    "- standard deviation of matches: 1.31\n",
    "\n",
    "**motor proteins** have the highest number of significant DMGs in its core enrichment with 7 genes\n",
    "\n",
    "**these results are the *same* as without filtering the outlier counts**"
   ]
  },
  {
   "cell_type": "code",
   "execution_count": null,
   "id": "01fc48d0-9b23-4b07-80aa-b9ce49255227",
   "metadata": {},
   "outputs": [],
   "source": [
    "unfilter_genes <- read.csv('/project/pi_sarah_gignouxwolfsohn_uml_edu/julia/CE_MethylRAD_analysis_2018/analysis/lfc_sig_genes/unfiltered_phase1_wc_genes.csv')\n",
    "head(unfilter_genes)"
   ]
  },
  {
   "cell_type": "markdown",
   "id": "039af155-1201-4907-92cb-246cd6b2edaf",
   "metadata": {},
   "source": [
    "filtering df to only include genes with NA for adjusted p-value"
   ]
  },
  {
   "cell_type": "code",
   "execution_count": null,
   "id": "c481811d-e4ac-4042-9914-79f55066bd25",
   "metadata": {},
   "outputs": [],
   "source": [
    "genes_w_na <- unfilter_genes[is.na(unfilter_genes$padj),]\n",
    "dim(genes_w_na) # 5,776 genes with NA for adjusted p-value"
   ]
  },
  {
   "cell_type": "markdown",
   "id": "b5b1644d-1130-4bca-a086-ed5044d01a50",
   "metadata": {},
   "source": [
    "looking more into the stats of those genes with NA for adjusted p-value, specifically looking at the baseMean (since this is what the DESeq documentation points at)\n",
    "> baseMean - the average of the normalized count values, dividing by size factors, taken over all samples"
   ]
  },
  {
   "cell_type": "code",
   "execution_count": null,
   "id": "f5b92213-42f9-4a24-98cd-bf82dc46d3a5",
   "metadata": {},
   "outputs": [],
   "source": [
    "mean(genes_w_na$baseMean) # average = 4.5 counts per sample\n",
    "sd(genes_w_na$baseMean) # standard deviation = 22"
   ]
  },
  {
   "cell_type": "markdown",
   "id": "a13ccfb9-2b83-4f4e-a0a3-6067dddbf246",
   "metadata": {},
   "source": [
    "loading in counts matrix that was generated with featureCounts to pull out the genes with NA for adjusted p-value"
   ]
  },
  {
   "cell_type": "code",
   "execution_count": null,
   "id": "3782e1ee-9298-4d0a-8724-008b367727ff",
   "metadata": {},
   "outputs": [],
   "source": [
    "# loading in counts matrix\n",
    "counts_matrix <- read.csv('/project/pi_sarah_gignouxwolfsohn_uml_edu/julia/CE_MethylRAD_analysis_2018/analysis/counts_and_meta/featureCounts_meta.csv')\n",
    "head(counts_matrix)"
   ]
  },
  {
   "cell_type": "code",
   "execution_count": null,
   "id": "0dcaace4-941c-49e1-81c3-2c01efc5ff74",
   "metadata": {},
   "outputs": [],
   "source": [
    "# setting genees as row names\n",
    "rownames(counts_matrix) = counts_matrix$X\n",
    "\n",
    "# removing gene column (since now are rownames)\n",
    "counts_matrix2 <- counts_matrix[,-1]\n",
    "head(counts_matrix2)"
   ]
  },
  {
   "cell_type": "code",
   "execution_count": null,
   "id": "ec4b2047-9bde-4cee-9703-59b775a35b1a",
   "metadata": {},
   "outputs": [],
   "source": [
    "# replace the '.' with '-'\n",
    "cleaned_column_names2 <- gsub('\\\\.', \"-\", colnames(counts_matrix2))\n",
    "head(cleaned_column_names2)\n",
    "\n",
    "# now assigning to the columns\n",
    "colnames(counts_matrix2) = cleaned_column_names2\n",
    "head(counts_matrix2)"
   ]
  },
  {
   "cell_type": "code",
   "execution_count": null,
   "id": "a384a461-3538-4840-a075-883139a60ab5",
   "metadata": {},
   "outputs": [],
   "source": [
    "# creating new df of counts matrix of genes with NA for padj\n",
    "counts_na <- counts_matrix2[rownames(counts_matrix2) %in% genes_w_na$X,]\n",
    "dim(counts_na) # 5,776 genes \n",
    "head(counts_na)"
   ]
  },
  {
   "cell_type": "markdown",
   "id": "3fc7f438-456e-455d-8a4c-71b96f17e727",
   "metadata": {},
   "source": [
    "also need to load in meta data so that I can pull out the right columns aka samples that were warm or control for phase 1"
   ]
  },
  {
   "cell_type": "code",
   "execution_count": null,
   "id": "77247d8f-1740-455f-aa7a-d638c95952dd",
   "metadata": {},
   "outputs": [],
   "source": [
    "meta <- read.csv('/project/pi_sarah_gignouxwolfsohn_uml_edu/julia/CE_MethylRAD_analysis_2018/analysis/counts_and_meta/CV_CE18_meta.csv')\n",
    "head(meta)"
   ]
  },
  {
   "cell_type": "markdown",
   "id": "726370fb-b8f3-41eb-84f5-987419f30fc4",
   "metadata": {},
   "source": [
    "pulling out only the samples that were either warm or control for phase 1 treatment (we're ignoring the effects of phase 2 for this analysis)"
   ]
  },
  {
   "cell_type": "code",
   "execution_count": null,
   "id": "93c369ef-7885-4cc5-9566-a1b5892bd424",
   "metadata": {},
   "outputs": [],
   "source": [
    "p1_wc_meta <- filter(meta, meta$Phase1 == 'warm' | meta$Phase1 == 'control')\n",
    "dim(p1_wc_meta) # 15 total samples\n",
    "head(p1_wc_meta)"
   ]
  },
  {
   "cell_type": "code",
   "execution_count": null,
   "id": "b90bc7ba-974b-4dc3-af90-5d34982d55a3",
   "metadata": {},
   "outputs": [],
   "source": [
    "p1_wc_meta"
   ]
  },
  {
   "cell_type": "code",
   "execution_count": null,
   "id": "00dd2e75-85a4-4cd0-81be-0d0f3f9a989a",
   "metadata": {},
   "outputs": [],
   "source": [
    "# only looking at samples with control or warm for phase 1 in the counts matrix\n",
    "filtered_df <- counts_na[,colnames(counts_na) %in% p1_wc_meta$unique_ID]\n",
    "dim(filtered_df) # still seeing 5,776 genes with NA for padj and info for 15 samples\n",
    "head(filtered_df,20)"
   ]
  },
  {
   "cell_type": "markdown",
   "id": "eb7af073-2348-45c5-afee-6543c755b0d1",
   "metadata": {},
   "source": [
    "all of the **W##** samples are **control** and all of the **G##** samples are **warm** for phase 1"
   ]
  },
  {
   "cell_type": "markdown",
   "id": "1c41e0bd-e5ef-4d13-b13d-54bc7eb85141",
   "metadata": {},
   "source": [
    "looking at this df in excel to more easily look at why we might get NA for those genes"
   ]
  },
  {
   "cell_type": "code",
   "execution_count": null,
   "id": "e548d30c-dd78-4a37-81f0-2022e0454fe2",
   "metadata": {},
   "outputs": [],
   "source": [
    "write.csv(filtered_df, '/project/pi_sarah_gignouxwolfsohn_uml_edu/julia/CE_MethylRAD_analysis_2018/analysis/featureCounts_analysis/na_p1_wc_countsmatrix.csv')"
   ]
  }
 ],
 "metadata": {
  "kernelspec": {
   "display_name": "R [conda env:.conda-r-env]",
   "language": "R",
   "name": "conda-env-.conda-r-env-r"
  },
  "language_info": {
   "codemirror_mode": "r",
   "file_extension": ".r",
   "mimetype": "text/x-r-source",
   "name": "R",
   "pygments_lexer": "r",
   "version": "4.3.2"
  }
 },
 "nbformat": 4,
 "nbformat_minor": 5
}
