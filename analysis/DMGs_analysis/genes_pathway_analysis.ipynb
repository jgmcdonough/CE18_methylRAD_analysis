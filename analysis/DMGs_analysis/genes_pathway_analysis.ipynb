{
 "cells": [
  {
   "cell_type": "markdown",
   "id": "d9dfba50-6cd0-4119-9d03-4dcf79b492b4",
   "metadata": {},
   "source": [
    "# Are our significant DMGs the core enrichment genes in our identified enriched pathways?\n",
    "We want to combine what we've found for statistically signficant differentially methylated genes and connect it to our identified enriched pathways so we can start to make sense of things biologically.\n",
    "\n",
    "I have generated two csv files for both **phase 1 warm vs. control oysters**:\n",
    "- phase1_wc_genes.csv - list of significant (adjusted p-value < 0.05) DMGs\n",
    "- p1_wc_pathway.csv - list of enriched pathways from KEGG\n",
    "\n",
    "Each enriched pathway contains a list of 'core enrichment genes' - these are a list of genes that are reported as part of the 'core enrichment' and contribute to the observed enrichment score.\n",
    "\n",
    "The thinking is that maybe some of our signficant DMGs are part of that core enrichment group, which could tell us that that pathway is especially important/biologically relevant."
   ]
  },
  {
   "cell_type": "markdown",
   "id": "b437bc4b-128e-4873-9c47-2b5c88876bdf",
   "metadata": {
    "tags": []
   },
   "source": [
    "#### I. Load packages"
   ]
  },
  {
   "cell_type": "code",
   "execution_count": 2,
   "id": "7ceb2acf-d206-40ad-b486-b3bcedb4829b",
   "metadata": {},
   "outputs": [],
   "source": [
    "library(tidyverse)"
   ]
  },
  {
   "cell_type": "markdown",
   "id": "130693ca-607e-4525-be1e-5ea30e96188f",
   "metadata": {
    "tags": []
   },
   "source": [
    "#### II. Load, clean, and prep both csv files\n",
    "starting with **phase 1 warm vs. control**"
   ]
  },
  {
   "cell_type": "code",
   "execution_count": 4,
   "id": "ebacfd63-5bbe-46ed-b85a-16352368eb7f",
   "metadata": {},
   "outputs": [
    {
     "data": {
      "text/html": [
       "<style>\n",
       ".list-inline {list-style: none; margin:0; padding: 0}\n",
       ".list-inline>li {display: inline-block}\n",
       ".list-inline>li:not(:last-child)::after {content: \"\\00b7\"; padding: 0 .5ex}\n",
       "</style>\n",
       "<ol class=list-inline><li>121</li><li>11</li></ol>\n"
      ],
      "text/latex": [
       "\\begin{enumerate*}\n",
       "\\item 121\n",
       "\\item 11\n",
       "\\end{enumerate*}\n"
      ],
      "text/markdown": [
       "1. 121\n",
       "2. 11\n",
       "\n",
       "\n"
      ],
      "text/plain": [
       "[1] 121  11"
      ]
     },
     "metadata": {},
     "output_type": "display_data"
    },
    {
     "data": {
      "text/html": [
       "<table class=\"dataframe\">\n",
       "<caption>A data.frame: 6 × 11</caption>\n",
       "<thead>\n",
       "\t<tr><th></th><th scope=col>ID</th><th scope=col>Description</th><th scope=col>setSize</th><th scope=col>enrichmentScore</th><th scope=col>NES</th><th scope=col>pvalue</th><th scope=col>p.adjust</th><th scope=col>qvalue</th><th scope=col>rank</th><th scope=col>leading_edge</th><th scope=col>core_enrichment</th></tr>\n",
       "\t<tr><th></th><th scope=col>&lt;chr&gt;</th><th scope=col>&lt;chr&gt;</th><th scope=col>&lt;int&gt;</th><th scope=col>&lt;dbl&gt;</th><th scope=col>&lt;dbl&gt;</th><th scope=col>&lt;dbl&gt;</th><th scope=col>&lt;dbl&gt;</th><th scope=col>&lt;dbl&gt;</th><th scope=col>&lt;int&gt;</th><th scope=col>&lt;chr&gt;</th><th scope=col>&lt;chr&gt;</th></tr>\n",
       "</thead>\n",
       "<tbody>\n",
       "\t<tr><th scope=row>1</th><td>cvn00053</td><td>Ascorbate and aldarate metabolism</td><td>12</td><td>0.7513381</td><td>1.627009</td><td>0.00618654</td><td>0.2537983</td><td>0.2296218</td><td>2374</td><td>tags=58%, list=18%, signal=48%</td><td>111124535/111103451/111124599/111127562/111112920/111115614/111103498                                                            </td></tr>\n",
       "\t<tr><th scope=row>2</th><td>cvn00910</td><td>Nitrogen metabolism              </td><td>10</td><td>0.7751841</td><td>1.611862</td><td>0.01095923</td><td>0.2537983</td><td>0.2296218</td><td>1398</td><td>tags=50%, list=10%, signal=45%</td><td>111134700/111100398/111100399/111126492/111135592                                                                                </td></tr>\n",
       "\t<tr><th scope=row>3</th><td>cvn00511</td><td>Other glycan degradation         </td><td>37</td><td>0.5917499</td><td>1.578985</td><td>0.01320066</td><td>0.2537983</td><td>0.2296218</td><td>2221</td><td>tags=30%, list=16%, signal=25%</td><td>111106921/111106925/111106928/111119851/111119435/111120040/111113388/111119434/111106926/111119431/111106930                    </td></tr>\n",
       "\t<tr><th scope=row>4</th><td>cvn00592</td><td>alpha-Linolenic acid metabolism  </td><td>11</td><td>0.7377666</td><td>1.564501</td><td>0.01887756</td><td>0.2537983</td><td>0.2296218</td><td>1602</td><td>tags=45%, list=12%, signal=40%</td><td>111113990/111115744/111107112/111115745/111124908                                                                                </td></tr>\n",
       "\t<tr><th scope=row>5</th><td>cvn03250</td><td>Viral life cycle - HIV-1         </td><td>28</td><td>0.6023539</td><td>1.533878</td><td>0.01509720</td><td>0.2537983</td><td>0.2296218</td><td>2628</td><td>tags=46%, list=19%, signal=37%</td><td>111124701/111124696/111129825/111111579/111108190/111135084/111128997/111124977/111106750/111123417/111130886/111104027/111135329</td></tr>\n",
       "\t<tr><th scope=row>6</th><td>cvn00380</td><td>Tryptophan metabolism            </td><td>31</td><td>0.5838480</td><td>1.517557</td><td>0.01807548</td><td>0.2537983</td><td>0.2296218</td><td>2374</td><td>tags=42%, list=18%, signal=35%</td><td>111127901/111100724/111103451/111134248/111133558/111112920/111115614/111121380/111125148/111109254/111130627/111108303/111103498</td></tr>\n",
       "</tbody>\n",
       "</table>\n"
      ],
      "text/latex": [
       "A data.frame: 6 × 11\n",
       "\\begin{tabular}{r|lllllllllll}\n",
       "  & ID & Description & setSize & enrichmentScore & NES & pvalue & p.adjust & qvalue & rank & leading\\_edge & core\\_enrichment\\\\\n",
       "  & <chr> & <chr> & <int> & <dbl> & <dbl> & <dbl> & <dbl> & <dbl> & <int> & <chr> & <chr>\\\\\n",
       "\\hline\n",
       "\t1 & cvn00053 & Ascorbate and aldarate metabolism & 12 & 0.7513381 & 1.627009 & 0.00618654 & 0.2537983 & 0.2296218 & 2374 & tags=58\\%, list=18\\%, signal=48\\% & 111124535/111103451/111124599/111127562/111112920/111115614/111103498                                                            \\\\\n",
       "\t2 & cvn00910 & Nitrogen metabolism               & 10 & 0.7751841 & 1.611862 & 0.01095923 & 0.2537983 & 0.2296218 & 1398 & tags=50\\%, list=10\\%, signal=45\\% & 111134700/111100398/111100399/111126492/111135592                                                                                \\\\\n",
       "\t3 & cvn00511 & Other glycan degradation          & 37 & 0.5917499 & 1.578985 & 0.01320066 & 0.2537983 & 0.2296218 & 2221 & tags=30\\%, list=16\\%, signal=25\\% & 111106921/111106925/111106928/111119851/111119435/111120040/111113388/111119434/111106926/111119431/111106930                    \\\\\n",
       "\t4 & cvn00592 & alpha-Linolenic acid metabolism   & 11 & 0.7377666 & 1.564501 & 0.01887756 & 0.2537983 & 0.2296218 & 1602 & tags=45\\%, list=12\\%, signal=40\\% & 111113990/111115744/111107112/111115745/111124908                                                                                \\\\\n",
       "\t5 & cvn03250 & Viral life cycle - HIV-1          & 28 & 0.6023539 & 1.533878 & 0.01509720 & 0.2537983 & 0.2296218 & 2628 & tags=46\\%, list=19\\%, signal=37\\% & 111124701/111124696/111129825/111111579/111108190/111135084/111128997/111124977/111106750/111123417/111130886/111104027/111135329\\\\\n",
       "\t6 & cvn00380 & Tryptophan metabolism             & 31 & 0.5838480 & 1.517557 & 0.01807548 & 0.2537983 & 0.2296218 & 2374 & tags=42\\%, list=18\\%, signal=35\\% & 111127901/111100724/111103451/111134248/111133558/111112920/111115614/111121380/111125148/111109254/111130627/111108303/111103498\\\\\n",
       "\\end{tabular}\n"
      ],
      "text/markdown": [
       "\n",
       "A data.frame: 6 × 11\n",
       "\n",
       "| <!--/--> | ID &lt;chr&gt; | Description &lt;chr&gt; | setSize &lt;int&gt; | enrichmentScore &lt;dbl&gt; | NES &lt;dbl&gt; | pvalue &lt;dbl&gt; | p.adjust &lt;dbl&gt; | qvalue &lt;dbl&gt; | rank &lt;int&gt; | leading_edge &lt;chr&gt; | core_enrichment &lt;chr&gt; |\n",
       "|---|---|---|---|---|---|---|---|---|---|---|---|\n",
       "| 1 | cvn00053 | Ascorbate and aldarate metabolism | 12 | 0.7513381 | 1.627009 | 0.00618654 | 0.2537983 | 0.2296218 | 2374 | tags=58%, list=18%, signal=48% | 111124535/111103451/111124599/111127562/111112920/111115614/111103498                                                             |\n",
       "| 2 | cvn00910 | Nitrogen metabolism               | 10 | 0.7751841 | 1.611862 | 0.01095923 | 0.2537983 | 0.2296218 | 1398 | tags=50%, list=10%, signal=45% | 111134700/111100398/111100399/111126492/111135592                                                                                 |\n",
       "| 3 | cvn00511 | Other glycan degradation          | 37 | 0.5917499 | 1.578985 | 0.01320066 | 0.2537983 | 0.2296218 | 2221 | tags=30%, list=16%, signal=25% | 111106921/111106925/111106928/111119851/111119435/111120040/111113388/111119434/111106926/111119431/111106930                     |\n",
       "| 4 | cvn00592 | alpha-Linolenic acid metabolism   | 11 | 0.7377666 | 1.564501 | 0.01887756 | 0.2537983 | 0.2296218 | 1602 | tags=45%, list=12%, signal=40% | 111113990/111115744/111107112/111115745/111124908                                                                                 |\n",
       "| 5 | cvn03250 | Viral life cycle - HIV-1          | 28 | 0.6023539 | 1.533878 | 0.01509720 | 0.2537983 | 0.2296218 | 2628 | tags=46%, list=19%, signal=37% | 111124701/111124696/111129825/111111579/111108190/111135084/111128997/111124977/111106750/111123417/111130886/111104027/111135329 |\n",
       "| 6 | cvn00380 | Tryptophan metabolism             | 31 | 0.5838480 | 1.517557 | 0.01807548 | 0.2537983 | 0.2296218 | 2374 | tags=42%, list=18%, signal=35% | 111127901/111100724/111103451/111134248/111133558/111112920/111115614/111121380/111125148/111109254/111130627/111108303/111103498 |\n",
       "\n"
      ],
      "text/plain": [
       "  ID       Description                       setSize enrichmentScore NES     \n",
       "1 cvn00053 Ascorbate and aldarate metabolism 12      0.7513381       1.627009\n",
       "2 cvn00910 Nitrogen metabolism               10      0.7751841       1.611862\n",
       "3 cvn00511 Other glycan degradation          37      0.5917499       1.578985\n",
       "4 cvn00592 alpha-Linolenic acid metabolism   11      0.7377666       1.564501\n",
       "5 cvn03250 Viral life cycle - HIV-1          28      0.6023539       1.533878\n",
       "6 cvn00380 Tryptophan metabolism             31      0.5838480       1.517557\n",
       "  pvalue     p.adjust  qvalue    rank leading_edge                  \n",
       "1 0.00618654 0.2537983 0.2296218 2374 tags=58%, list=18%, signal=48%\n",
       "2 0.01095923 0.2537983 0.2296218 1398 tags=50%, list=10%, signal=45%\n",
       "3 0.01320066 0.2537983 0.2296218 2221 tags=30%, list=16%, signal=25%\n",
       "4 0.01887756 0.2537983 0.2296218 1602 tags=45%, list=12%, signal=40%\n",
       "5 0.01509720 0.2537983 0.2296218 2628 tags=46%, list=19%, signal=37%\n",
       "6 0.01807548 0.2537983 0.2296218 2374 tags=42%, list=18%, signal=35%\n",
       "  core_enrichment                                                                                                                  \n",
       "1 111124535/111103451/111124599/111127562/111112920/111115614/111103498                                                            \n",
       "2 111134700/111100398/111100399/111126492/111135592                                                                                \n",
       "3 111106921/111106925/111106928/111119851/111119435/111120040/111113388/111119434/111106926/111119431/111106930                    \n",
       "4 111113990/111115744/111107112/111115745/111124908                                                                                \n",
       "5 111124701/111124696/111129825/111111579/111108190/111135084/111128997/111124977/111106750/111123417/111130886/111104027/111135329\n",
       "6 111127901/111100724/111103451/111134248/111133558/111112920/111115614/111121380/111125148/111109254/111130627/111108303/111103498"
      ]
     },
     "metadata": {},
     "output_type": "display_data"
    }
   ],
   "source": [
    "# load in csv file\n",
    "pathway <- read.csv('/project/pi_sarah_gignouxwolfsohn_uml_edu/julia/CE_MethylRAD_analysis_2018/analysis/enriched_pathways/pathways_p1wc.csv')\n",
    "\n",
    "# clean headers and columns\n",
    "pathway <- pathway[,-1]\n",
    "\n",
    "# checking dimensions\n",
    "dim(pathway) #121 pathways, 11 rows of info/meta data\n",
    "\n",
    "head(pathway)"
   ]
  },
  {
   "cell_type": "markdown",
   "id": "850e65ff-d43a-4561-9417-5246ae494e41",
   "metadata": {},
   "source": [
    "I want to know if all of my genes provided in geneList are in the core enrichment, or if the core enrichment only includes a subset of my total genes\n",
    "\n",
    "- total genes in my geneList for KEGG - around 13,000 genes\n",
    "- total enriched pathways - 121\n",
    "- total number of significant DMGs - 189\n",
    "- total number of unique genes in the core_enrichment column - **799** (from code below)\n",
    "\n",
    "since this number (799) does not match my total genes in the data set, I know that there are genes in the core enrichment that I did not find to be significantly differentially methylated"
   ]
  },
  {
   "cell_type": "code",
   "execution_count": 5,
   "id": "eebd52d8-6e79-49e5-89cf-17b66c7129a8",
   "metadata": {},
   "outputs": [
    {
     "name": "stdout",
     "output_type": "stream",
     "text": [
      "[1] \"Number of unique genes in the entire DataFrame: 799\"\n"
     ]
    }
   ],
   "source": [
    "# Split the strings in 'genes_column' into lists\n",
    "gene_lists <- strsplit(pathway$core_enrichment, '/')\n",
    "\n",
    "# Flatten the lists\n",
    "all_genes <- unlist(gene_lists)\n",
    "\n",
    "# Count the unique genes\n",
    "unique_genes_count <- length(unique(all_genes))\n",
    "\n",
    "print(paste(\"Number of unique genes in the entire DataFrame:\", unique_genes_count))\n"
   ]
  },
  {
   "cell_type": "markdown",
   "id": "13184fed-07ee-4a31-a753-55fd587c71ff",
   "metadata": {},
   "source": [
    "loading in data frame that contains significant genes info for **phase 1 warm vs. control**"
   ]
  },
  {
   "cell_type": "code",
   "execution_count": 7,
   "id": "51b8ab95-06b5-4614-bbf4-5955beed8ac7",
   "metadata": {},
   "outputs": [
    {
     "data": {
      "text/html": [
       "<style>\n",
       ".list-inline {list-style: none; margin:0; padding: 0}\n",
       ".list-inline>li {display: inline-block}\n",
       ".list-inline>li:not(:last-child)::after {content: \"\\00b7\"; padding: 0 .5ex}\n",
       "</style>\n",
       "<ol class=list-inline><li>344</li><li>3</li></ol>\n"
      ],
      "text/latex": [
       "\\begin{enumerate*}\n",
       "\\item 344\n",
       "\\item 3\n",
       "\\end{enumerate*}\n"
      ],
      "text/markdown": [
       "1. 344\n",
       "2. 3\n",
       "\n",
       "\n"
      ],
      "text/plain": [
       "[1] 344   3"
      ]
     },
     "metadata": {},
     "output_type": "display_data"
    },
    {
     "data": {
      "text/html": [
       "<table class=\"dataframe\">\n",
       "<caption>A data.frame: 6 × 3</caption>\n",
       "<thead>\n",
       "\t<tr><th></th><th scope=col>gene</th><th scope=col>lfc</th><th scope=col>padj</th></tr>\n",
       "\t<tr><th></th><th scope=col>&lt;chr&gt;</th><th scope=col>&lt;dbl&gt;</th><th scope=col>&lt;dbl&gt;</th></tr>\n",
       "</thead>\n",
       "<tbody>\n",
       "\t<tr><th scope=row>1</th><td>111117672</td><td>1.314266</td><td>0.005811498</td></tr>\n",
       "\t<tr><th scope=row>2</th><td>111128103</td><td>1.644558</td><td>0.001509994</td></tr>\n",
       "\t<tr><th scope=row>3</th><td>111137770</td><td>2.655903</td><td>0.002201055</td></tr>\n",
       "\t<tr><th scope=row>4</th><td>111125333</td><td>1.461069</td><td>0.017320572</td></tr>\n",
       "\t<tr><th scope=row>5</th><td>111111295</td><td>2.360240</td><td>0.001233208</td></tr>\n",
       "\t<tr><th scope=row>6</th><td>111125391</td><td>2.205531</td><td>0.001875643</td></tr>\n",
       "</tbody>\n",
       "</table>\n"
      ],
      "text/latex": [
       "A data.frame: 6 × 3\n",
       "\\begin{tabular}{r|lll}\n",
       "  & gene & lfc & padj\\\\\n",
       "  & <chr> & <dbl> & <dbl>\\\\\n",
       "\\hline\n",
       "\t1 & 111117672 & 1.314266 & 0.005811498\\\\\n",
       "\t2 & 111128103 & 1.644558 & 0.001509994\\\\\n",
       "\t3 & 111137770 & 2.655903 & 0.002201055\\\\\n",
       "\t4 & 111125333 & 1.461069 & 0.017320572\\\\\n",
       "\t5 & 111111295 & 2.360240 & 0.001233208\\\\\n",
       "\t6 & 111125391 & 2.205531 & 0.001875643\\\\\n",
       "\\end{tabular}\n"
      ],
      "text/markdown": [
       "\n",
       "A data.frame: 6 × 3\n",
       "\n",
       "| <!--/--> | gene &lt;chr&gt; | lfc &lt;dbl&gt; | padj &lt;dbl&gt; |\n",
       "|---|---|---|---|\n",
       "| 1 | 111117672 | 1.314266 | 0.005811498 |\n",
       "| 2 | 111128103 | 1.644558 | 0.001509994 |\n",
       "| 3 | 111137770 | 2.655903 | 0.002201055 |\n",
       "| 4 | 111125333 | 1.461069 | 0.017320572 |\n",
       "| 5 | 111111295 | 2.360240 | 0.001233208 |\n",
       "| 6 | 111125391 | 2.205531 | 0.001875643 |\n",
       "\n"
      ],
      "text/plain": [
       "  gene      lfc      padj       \n",
       "1 111117672 1.314266 0.005811498\n",
       "2 111128103 1.644558 0.001509994\n",
       "3 111137770 2.655903 0.002201055\n",
       "4 111125333 1.461069 0.017320572\n",
       "5 111111295 2.360240 0.001233208\n",
       "6 111125391 2.205531 0.001875643"
      ]
     },
     "metadata": {},
     "output_type": "display_data"
    }
   ],
   "source": [
    "# load data frame\n",
    "genes <- read.csv('/project/pi_sarah_gignouxwolfsohn_uml_edu/julia/CE_MethylRAD_analysis_2018/analysis/significant_genes/volcano_data/phase1_wc_genes.csv')\n",
    "\n",
    "# KEGG uses entrez IDs, which are my ensembl IDs without the 'LOC' in front of them, so need to convert those\n",
    "genes$X <- substr(genes$X, start = 4, stop = nchar(genes$X))\n",
    "\n",
    "# only grabbing the columns I care about\n",
    "genes <- select(genes, X, log2FoldChange, padj)\n",
    "\n",
    "# renaming columns to make more sense\n",
    "colnames(genes) <- c('gene', 'lfc', 'padj')\n",
    "\n",
    "# only selecting significant genes\n",
    "genes <- filter(genes, genes$padj < 0.05)\n",
    "\n",
    "# checking dimensions\n",
    "dim(genes) # 344 sig DMGs\n",
    "\n",
    "head(genes)"
   ]
  },
  {
   "cell_type": "markdown",
   "id": "4dbd9070-7a0a-4b37-9eab-230d5779d82e",
   "metadata": {
    "tags": []
   },
   "source": [
    "#### III. Are the signficant genes in the core enrichment of the pathways?\n",
    "Taking our list of siginificant genes, and going line by line in our pathways to see if our sig. gene matches any of the core enrichment genes\n",
    "\n",
    "the code below will add a column to my dataframe that contains the number of significant DMGs that match the core enrichment for that pathway"
   ]
  },
  {
   "cell_type": "code",
   "execution_count": 8,
   "id": "d5a49b65-155d-47bd-aeb9-ad8c15e8dcc4",
   "metadata": {},
   "outputs": [
    {
     "data": {
      "text/html": [
       "<table class=\"dataframe\">\n",
       "<caption>A data.frame: 6 × 12</caption>\n",
       "<thead>\n",
       "\t<tr><th></th><th scope=col>ID</th><th scope=col>Description</th><th scope=col>setSize</th><th scope=col>enrichmentScore</th><th scope=col>NES</th><th scope=col>pvalue</th><th scope=col>p.adjust</th><th scope=col>qvalue</th><th scope=col>rank</th><th scope=col>leading_edge</th><th scope=col>core_enrichment</th><th scope=col>MatchesCount</th></tr>\n",
       "\t<tr><th></th><th scope=col>&lt;chr&gt;</th><th scope=col>&lt;chr&gt;</th><th scope=col>&lt;int&gt;</th><th scope=col>&lt;dbl&gt;</th><th scope=col>&lt;dbl&gt;</th><th scope=col>&lt;dbl&gt;</th><th scope=col>&lt;dbl&gt;</th><th scope=col>&lt;dbl&gt;</th><th scope=col>&lt;int&gt;</th><th scope=col>&lt;chr&gt;</th><th scope=col>&lt;chr&gt;</th><th scope=col>&lt;int&gt;</th></tr>\n",
       "</thead>\n",
       "<tbody>\n",
       "\t<tr><th scope=row>9</th><td>cvn04814</td><td>Motor proteins                 </td><td>111</td><td>0.4825362</td><td>1.425442</td><td>0.007216891</td><td>0.2537983</td><td>0.2296218</td><td>1179</td><td>tags=18%, list=9%, signal=17% </td><td>111136151/111134768/111107338/111102596/111112439/111103394/111115784/111129526/111107250/111127380/111134843/111137068/111131563/111119946/111134888/111120500/111129376/111130940/111125250/111131555                                                                                                                                                                                                                                      </td><td>8</td></tr>\n",
       "\t<tr><th scope=row>13</th><td>cvn04144</td><td>Endocytosis                    </td><td>132</td><td>0.4453777</td><td>1.329073</td><td>0.027355623</td><td>0.2546177</td><td>0.2303631</td><td>3185</td><td>tags=33%, list=24%, signal=25%</td><td>111120187/111125099/111112319/111119513/111112439/111119512/111136896/111104852/111102907/111107174/111136866/111125956/111134954/111112863/111116971/111112700/111135084/111133388/111134171/111121253/111115795/111127289/111129312/111134242/111121335/111121437/111129503/111135594/111106223/111123210/111125223/111105462/111104835/111104585/111104028/111133563/111105923/111119177/111101822/111104196/111137900/111112119/111123772</td><td>8</td></tr>\n",
       "\t<tr><th scope=row>8</th><td>cvn00071</td><td>Fatty acid degradation         </td><td> 38</td><td>0.5657277</td><td>1.510768</td><td>0.017560053</td><td>0.2537983</td><td>0.2296218</td><td>3018</td><td>tags=42%, list=22%, signal=33%</td><td>111127947/111113990/111128659/111115744/111107112/111115745/111103451/111112920/111115614/111135553/111121380/111117093/111103498/111129333/111107779/111134458                                                                                                                                                                                                                                                                              </td><td>5</td></tr>\n",
       "\t<tr><th scope=row>45</th><td>cvn04148</td><td>Efferocytosis                  </td><td> 98</td><td>0.4000467</td><td>1.167589</td><td>0.194501018</td><td>0.6325836</td><td>0.5723244</td><td>1406</td><td>tags=14%, list=10%, signal=13%</td><td>111135946/111113124/111121723/111134726/111117970/111110712/111134431/111128659/111117731/111134947/111130916/111127576/111130408/111112330                                                                                                                                                                                                                                                                                                  </td><td>5</td></tr>\n",
       "\t<tr><th scope=row>46</th><td>cvn03040</td><td>Spliceosome                    </td><td> 92</td><td>0.3988463</td><td>1.153711</td><td>0.216049383</td><td>0.6325836</td><td>0.5723244</td><td>1557</td><td>tags=16%, list=11%, signal=15%</td><td>111112733/111137770/111119513/111119512/111129112/111133954/111121854/111121021/111118318/111119442/111134531/111114893/111136440/111135640/111136164                                                                                                                                                                                                                                                                                        </td><td>5</td></tr>\n",
       "\t<tr><th scope=row>4</th><td>cvn00592</td><td>alpha-Linolenic acid metabolism</td><td> 11</td><td>0.7377666</td><td>1.564501</td><td>0.018877557</td><td>0.2537983</td><td>0.2296218</td><td>1602</td><td>tags=45%, list=12%, signal=40%</td><td>111113990/111115744/111107112/111115745/111124908                                                                                                                                                                                                                                                                                                                                                                                            </td><td>4</td></tr>\n",
       "</tbody>\n",
       "</table>\n"
      ],
      "text/latex": [
       "A data.frame: 6 × 12\n",
       "\\begin{tabular}{r|llllllllllll}\n",
       "  & ID & Description & setSize & enrichmentScore & NES & pvalue & p.adjust & qvalue & rank & leading\\_edge & core\\_enrichment & MatchesCount\\\\\n",
       "  & <chr> & <chr> & <int> & <dbl> & <dbl> & <dbl> & <dbl> & <dbl> & <int> & <chr> & <chr> & <int>\\\\\n",
       "\\hline\n",
       "\t9 & cvn04814 & Motor proteins                  & 111 & 0.4825362 & 1.425442 & 0.007216891 & 0.2537983 & 0.2296218 & 1179 & tags=18\\%, list=9\\%, signal=17\\%  & 111136151/111134768/111107338/111102596/111112439/111103394/111115784/111129526/111107250/111127380/111134843/111137068/111131563/111119946/111134888/111120500/111129376/111130940/111125250/111131555                                                                                                                                                                                                                                       & 8\\\\\n",
       "\t13 & cvn04144 & Endocytosis                     & 132 & 0.4453777 & 1.329073 & 0.027355623 & 0.2546177 & 0.2303631 & 3185 & tags=33\\%, list=24\\%, signal=25\\% & 111120187/111125099/111112319/111119513/111112439/111119512/111136896/111104852/111102907/111107174/111136866/111125956/111134954/111112863/111116971/111112700/111135084/111133388/111134171/111121253/111115795/111127289/111129312/111134242/111121335/111121437/111129503/111135594/111106223/111123210/111125223/111105462/111104835/111104585/111104028/111133563/111105923/111119177/111101822/111104196/111137900/111112119/111123772 & 8\\\\\n",
       "\t8 & cvn00071 & Fatty acid degradation          &  38 & 0.5657277 & 1.510768 & 0.017560053 & 0.2537983 & 0.2296218 & 3018 & tags=42\\%, list=22\\%, signal=33\\% & 111127947/111113990/111128659/111115744/111107112/111115745/111103451/111112920/111115614/111135553/111121380/111117093/111103498/111129333/111107779/111134458                                                                                                                                                                                                                                                                               & 5\\\\\n",
       "\t45 & cvn04148 & Efferocytosis                   &  98 & 0.4000467 & 1.167589 & 0.194501018 & 0.6325836 & 0.5723244 & 1406 & tags=14\\%, list=10\\%, signal=13\\% & 111135946/111113124/111121723/111134726/111117970/111110712/111134431/111128659/111117731/111134947/111130916/111127576/111130408/111112330                                                                                                                                                                                                                                                                                                   & 5\\\\\n",
       "\t46 & cvn03040 & Spliceosome                     &  92 & 0.3988463 & 1.153711 & 0.216049383 & 0.6325836 & 0.5723244 & 1557 & tags=16\\%, list=11\\%, signal=15\\% & 111112733/111137770/111119513/111119512/111129112/111133954/111121854/111121021/111118318/111119442/111134531/111114893/111136440/111135640/111136164                                                                                                                                                                                                                                                                                         & 5\\\\\n",
       "\t4 & cvn00592 & alpha-Linolenic acid metabolism &  11 & 0.7377666 & 1.564501 & 0.018877557 & 0.2537983 & 0.2296218 & 1602 & tags=45\\%, list=12\\%, signal=40\\% & 111113990/111115744/111107112/111115745/111124908                                                                                                                                                                                                                                                                                                                                                                                             & 4\\\\\n",
       "\\end{tabular}\n"
      ],
      "text/markdown": [
       "\n",
       "A data.frame: 6 × 12\n",
       "\n",
       "| <!--/--> | ID &lt;chr&gt; | Description &lt;chr&gt; | setSize &lt;int&gt; | enrichmentScore &lt;dbl&gt; | NES &lt;dbl&gt; | pvalue &lt;dbl&gt; | p.adjust &lt;dbl&gt; | qvalue &lt;dbl&gt; | rank &lt;int&gt; | leading_edge &lt;chr&gt; | core_enrichment &lt;chr&gt; | MatchesCount &lt;int&gt; |\n",
       "|---|---|---|---|---|---|---|---|---|---|---|---|---|\n",
       "| 9 | cvn04814 | Motor proteins                  | 111 | 0.4825362 | 1.425442 | 0.007216891 | 0.2537983 | 0.2296218 | 1179 | tags=18%, list=9%, signal=17%  | 111136151/111134768/111107338/111102596/111112439/111103394/111115784/111129526/111107250/111127380/111134843/111137068/111131563/111119946/111134888/111120500/111129376/111130940/111125250/111131555                                                                                                                                                                                                                                       | 8 |\n",
       "| 13 | cvn04144 | Endocytosis                     | 132 | 0.4453777 | 1.329073 | 0.027355623 | 0.2546177 | 0.2303631 | 3185 | tags=33%, list=24%, signal=25% | 111120187/111125099/111112319/111119513/111112439/111119512/111136896/111104852/111102907/111107174/111136866/111125956/111134954/111112863/111116971/111112700/111135084/111133388/111134171/111121253/111115795/111127289/111129312/111134242/111121335/111121437/111129503/111135594/111106223/111123210/111125223/111105462/111104835/111104585/111104028/111133563/111105923/111119177/111101822/111104196/111137900/111112119/111123772 | 8 |\n",
       "| 8 | cvn00071 | Fatty acid degradation          |  38 | 0.5657277 | 1.510768 | 0.017560053 | 0.2537983 | 0.2296218 | 3018 | tags=42%, list=22%, signal=33% | 111127947/111113990/111128659/111115744/111107112/111115745/111103451/111112920/111115614/111135553/111121380/111117093/111103498/111129333/111107779/111134458                                                                                                                                                                                                                                                                               | 5 |\n",
       "| 45 | cvn04148 | Efferocytosis                   |  98 | 0.4000467 | 1.167589 | 0.194501018 | 0.6325836 | 0.5723244 | 1406 | tags=14%, list=10%, signal=13% | 111135946/111113124/111121723/111134726/111117970/111110712/111134431/111128659/111117731/111134947/111130916/111127576/111130408/111112330                                                                                                                                                                                                                                                                                                   | 5 |\n",
       "| 46 | cvn03040 | Spliceosome                     |  92 | 0.3988463 | 1.153711 | 0.216049383 | 0.6325836 | 0.5723244 | 1557 | tags=16%, list=11%, signal=15% | 111112733/111137770/111119513/111119512/111129112/111133954/111121854/111121021/111118318/111119442/111134531/111114893/111136440/111135640/111136164                                                                                                                                                                                                                                                                                         | 5 |\n",
       "| 4 | cvn00592 | alpha-Linolenic acid metabolism |  11 | 0.7377666 | 1.564501 | 0.018877557 | 0.2537983 | 0.2296218 | 1602 | tags=45%, list=12%, signal=40% | 111113990/111115744/111107112/111115745/111124908                                                                                                                                                                                                                                                                                                                                                                                             | 4 |\n",
       "\n"
      ],
      "text/plain": [
       "   ID       Description                     setSize enrichmentScore NES     \n",
       "9  cvn04814 Motor proteins                  111     0.4825362       1.425442\n",
       "13 cvn04144 Endocytosis                     132     0.4453777       1.329073\n",
       "8  cvn00071 Fatty acid degradation           38     0.5657277       1.510768\n",
       "45 cvn04148 Efferocytosis                    98     0.4000467       1.167589\n",
       "46 cvn03040 Spliceosome                      92     0.3988463       1.153711\n",
       "4  cvn00592 alpha-Linolenic acid metabolism  11     0.7377666       1.564501\n",
       "   pvalue      p.adjust  qvalue    rank leading_edge                  \n",
       "9  0.007216891 0.2537983 0.2296218 1179 tags=18%, list=9%, signal=17% \n",
       "13 0.027355623 0.2546177 0.2303631 3185 tags=33%, list=24%, signal=25%\n",
       "8  0.017560053 0.2537983 0.2296218 3018 tags=42%, list=22%, signal=33%\n",
       "45 0.194501018 0.6325836 0.5723244 1406 tags=14%, list=10%, signal=13%\n",
       "46 0.216049383 0.6325836 0.5723244 1557 tags=16%, list=11%, signal=15%\n",
       "4  0.018877557 0.2537983 0.2296218 1602 tags=45%, list=12%, signal=40%\n",
       "   core_enrichment                                                                                                                                                                                                                                                                                                                                                                                                                              \n",
       "9  111136151/111134768/111107338/111102596/111112439/111103394/111115784/111129526/111107250/111127380/111134843/111137068/111131563/111119946/111134888/111120500/111129376/111130940/111125250/111131555                                                                                                                                                                                                                                      \n",
       "13 111120187/111125099/111112319/111119513/111112439/111119512/111136896/111104852/111102907/111107174/111136866/111125956/111134954/111112863/111116971/111112700/111135084/111133388/111134171/111121253/111115795/111127289/111129312/111134242/111121335/111121437/111129503/111135594/111106223/111123210/111125223/111105462/111104835/111104585/111104028/111133563/111105923/111119177/111101822/111104196/111137900/111112119/111123772\n",
       "8  111127947/111113990/111128659/111115744/111107112/111115745/111103451/111112920/111115614/111135553/111121380/111117093/111103498/111129333/111107779/111134458                                                                                                                                                                                                                                                                              \n",
       "45 111135946/111113124/111121723/111134726/111117970/111110712/111134431/111128659/111117731/111134947/111130916/111127576/111130408/111112330                                                                                                                                                                                                                                                                                                  \n",
       "46 111112733/111137770/111119513/111119512/111129112/111133954/111121854/111121021/111118318/111119442/111134531/111114893/111136440/111135640/111136164                                                                                                                                                                                                                                                                                        \n",
       "4  111113990/111115744/111107112/111115745/111124908                                                                                                                                                                                                                                                                                                                                                                                            \n",
       "   MatchesCount\n",
       "9  8           \n",
       "13 8           \n",
       "8  5           \n",
       "45 5           \n",
       "46 5           \n",
       "4  4           "
      ]
     },
     "metadata": {},
     "output_type": "display_data"
    }
   ],
   "source": [
    "# generated from ChatGPT\n",
    "\n",
    "# Sample dataframes\n",
    "df1 <- genes\n",
    "df2 <- pathway\n",
    "\n",
    "# Function to check if any gene in df1 matches genes in a row of df2\n",
    "get_gene_matches <- function(row_df2, df1_genes) {\n",
    "  genes2 <- unlist(strsplit(as.character(row_df2), \"/\"))\n",
    "  count <- sum(genes2 %in% df1_genes)\n",
    "  return(count)\n",
    "}\n",
    "\n",
    "# Iterate over each row of df2\n",
    "matches_count <- sapply(df2$core_enrichment, get_gene_matches, df1_genes = df1$gene)\n",
    "\n",
    "# Add the matches count to df2\n",
    "df2$MatchesCount <- matches_count\n",
    "\n",
    "# Sort df with highest match counts at the top\n",
    "gene_pathway_match <- df2[order(-df2$MatchesCount),]\n",
    "head(gene_pathway_match)\n"
   ]
  },
  {
   "cell_type": "markdown",
   "id": "edbe0a29-1942-43ff-998a-ace08a819187",
   "metadata": {},
   "source": [
    "above returns just the ***number*** of significant genes in the core enrichment for each pathway\n",
    "\n",
    "below returns the ***percent*** of significant genes in the core enrichment\n",
    "\n",
    "it's interesting that the percent returns a much different top 5 ... maybe this is the better way to do it?"
   ]
  },
  {
   "cell_type": "code",
   "execution_count": 11,
   "id": "8e35131b-25a6-4886-a631-f469e609763e",
   "metadata": {},
   "outputs": [
    {
     "data": {
      "text/html": [
       "<table class=\"dataframe\">\n",
       "<caption>A data.frame: 10 × 12</caption>\n",
       "<thead>\n",
       "\t<tr><th></th><th scope=col>ID</th><th scope=col>Description</th><th scope=col>setSize</th><th scope=col>enrichmentScore</th><th scope=col>NES</th><th scope=col>pvalue</th><th scope=col>p.adjust</th><th scope=col>qvalue</th><th scope=col>rank</th><th scope=col>leading_edge</th><th scope=col>core_enrichment</th><th scope=col>MatchesPercentage</th></tr>\n",
       "\t<tr><th></th><th scope=col>&lt;chr&gt;</th><th scope=col>&lt;chr&gt;</th><th scope=col>&lt;int&gt;</th><th scope=col>&lt;dbl&gt;</th><th scope=col>&lt;dbl&gt;</th><th scope=col>&lt;dbl&gt;</th><th scope=col>&lt;dbl&gt;</th><th scope=col>&lt;dbl&gt;</th><th scope=col>&lt;int&gt;</th><th scope=col>&lt;chr&gt;</th><th scope=col>&lt;chr&gt;</th><th scope=col>&lt;dbl&gt;</th></tr>\n",
       "</thead>\n",
       "<tbody>\n",
       "\t<tr><th scope=row>4</th><td>cvn00592</td><td>alpha-Linolenic acid metabolism                                        </td><td> 11</td><td>0.7377666</td><td>1.5645014</td><td>0.018877557</td><td>0.2537983</td><td>0.2296218</td><td>1602</td><td>tags=45%, list=12%, signal=40%</td><td>111113990/111115744/111107112/111115745/111124908                                                                                                                                                      </td><td>80.00000</td></tr>\n",
       "\t<tr><th scope=row>15</th><td>cvn01040</td><td>Biosynthesis of unsaturated fatty acids                                </td><td> 18</td><td>0.6354291</td><td>1.4894918</td><td>0.033088235</td><td>0.2669118</td><td>0.2414861</td><td>1602</td><td>tags=33%, list=12%, signal=29%</td><td>111113990/111115744/111107112/111115745/111119293/111124908                                                                                                                                            </td><td>66.66667</td></tr>\n",
       "\t<tr><th scope=row>2</th><td>cvn00910</td><td>Nitrogen metabolism                                                    </td><td> 10</td><td>0.7751841</td><td>1.6118619</td><td>0.010959229</td><td>0.2537983</td><td>0.2296218</td><td>1398</td><td>tags=50%, list=10%, signal=45%</td><td>111134700/111100398/111100399/111126492/111135592                                                                                                                                                      </td><td>60.00000</td></tr>\n",
       "\t<tr><th scope=row>32</th><td>cvn04512</td><td>ECM-receptor interaction                                               </td><td> 23</td><td>0.5113610</td><td>1.2737730</td><td>0.176331361</td><td>0.6096027</td><td>0.5515327</td><td>1679</td><td>tags=26%, list=12%, signal=23%</td><td>111114114/111111291/111113265/111134722/111109289/111119175                                                                                                                                            </td><td>50.00000</td></tr>\n",
       "\t<tr><th scope=row>71</th><td>cvn03083</td><td>Polycomb repressive complex                                            </td><td> 38</td><td>0.3891222</td><td>1.0391458</td><td>0.438264739</td><td>0.7377131</td><td>0.6674394</td><td> 865</td><td>tags=11%, list=6%, signal=10% </td><td>111123912/111104330/111104315/111123056                                                                                                                                                                </td><td>50.00000</td></tr>\n",
       "\t<tr><th scope=row>87</th><td>cvn00532</td><td>Glycosaminoglycan biosynthesis - chondroitin sulfate / dermatan sulfate</td><td> 12</td><td>0.4314562</td><td>0.9343104</td><td>0.569148936</td><td>0.7915750</td><td>0.7161705</td><td>1400</td><td>tags=17%, list=10%, signal=15%</td><td>111118293/111111504                                                                                                                                                                                    </td><td>50.00000</td></tr>\n",
       "\t<tr><th scope=row>94</th><td>cvn03430</td><td>Mismatch repair                                                        </td><td> 21</td><td>0.3553110</td><td>0.8641842</td><td>0.647272727</td><td>0.8331915</td><td>0.7538227</td><td> 330</td><td>tags=10%, list=2%, signal=9%  </td><td>111121171/111137687                                                                                                                                                                                    </td><td>50.00000</td></tr>\n",
       "\t<tr><th scope=row>9</th><td>cvn04814</td><td>Motor proteins                                                         </td><td>111</td><td>0.4825362</td><td>1.4254420</td><td>0.007216891</td><td>0.2537983</td><td>0.2296218</td><td>1179</td><td>tags=18%, list=9%, signal=17% </td><td>111136151/111134768/111107338/111102596/111112439/111103394/111115784/111129526/111107250/111127380/111134843/111137068/111131563/111119946/111134888/111120500/111129376/111130940/111125250/111131555</td><td>40.00000</td></tr>\n",
       "\t<tr><th scope=row>45</th><td>cvn04148</td><td>Efferocytosis                                                          </td><td> 98</td><td>0.4000467</td><td>1.1675889</td><td>0.194501018</td><td>0.6325836</td><td>0.5723244</td><td>1406</td><td>tags=14%, list=10%, signal=13%</td><td>111135946/111113124/111121723/111134726/111117970/111110712/111134431/111128659/111117731/111134947/111130916/111127576/111130408/111112330                                                            </td><td>35.71429</td></tr>\n",
       "\t<tr><th scope=row>22</th><td>cvn01212</td><td>Fatty acid metabolism                                                  </td><td> 48</td><td>0.4857861</td><td>1.3384466</td><td>0.079569892</td><td>0.4186068</td><td>0.3787308</td><td>2029</td><td>tags=25%, list=15%, signal=21%</td><td>111127947/111113990/111128659/111115744/111107112/111115745/111099995/111119293/111135553/111124908/111100523/111117093                                                                                </td><td>33.33333</td></tr>\n",
       "</tbody>\n",
       "</table>\n"
      ],
      "text/latex": [
       "A data.frame: 10 × 12\n",
       "\\begin{tabular}{r|llllllllllll}\n",
       "  & ID & Description & setSize & enrichmentScore & NES & pvalue & p.adjust & qvalue & rank & leading\\_edge & core\\_enrichment & MatchesPercentage\\\\\n",
       "  & <chr> & <chr> & <int> & <dbl> & <dbl> & <dbl> & <dbl> & <dbl> & <int> & <chr> & <chr> & <dbl>\\\\\n",
       "\\hline\n",
       "\t4 & cvn00592 & alpha-Linolenic acid metabolism                                         &  11 & 0.7377666 & 1.5645014 & 0.018877557 & 0.2537983 & 0.2296218 & 1602 & tags=45\\%, list=12\\%, signal=40\\% & 111113990/111115744/111107112/111115745/111124908                                                                                                                                                       & 80.00000\\\\\n",
       "\t15 & cvn01040 & Biosynthesis of unsaturated fatty acids                                 &  18 & 0.6354291 & 1.4894918 & 0.033088235 & 0.2669118 & 0.2414861 & 1602 & tags=33\\%, list=12\\%, signal=29\\% & 111113990/111115744/111107112/111115745/111119293/111124908                                                                                                                                             & 66.66667\\\\\n",
       "\t2 & cvn00910 & Nitrogen metabolism                                                     &  10 & 0.7751841 & 1.6118619 & 0.010959229 & 0.2537983 & 0.2296218 & 1398 & tags=50\\%, list=10\\%, signal=45\\% & 111134700/111100398/111100399/111126492/111135592                                                                                                                                                       & 60.00000\\\\\n",
       "\t32 & cvn04512 & ECM-receptor interaction                                                &  23 & 0.5113610 & 1.2737730 & 0.176331361 & 0.6096027 & 0.5515327 & 1679 & tags=26\\%, list=12\\%, signal=23\\% & 111114114/111111291/111113265/111134722/111109289/111119175                                                                                                                                             & 50.00000\\\\\n",
       "\t71 & cvn03083 & Polycomb repressive complex                                             &  38 & 0.3891222 & 1.0391458 & 0.438264739 & 0.7377131 & 0.6674394 &  865 & tags=11\\%, list=6\\%, signal=10\\%  & 111123912/111104330/111104315/111123056                                                                                                                                                                 & 50.00000\\\\\n",
       "\t87 & cvn00532 & Glycosaminoglycan biosynthesis - chondroitin sulfate / dermatan sulfate &  12 & 0.4314562 & 0.9343104 & 0.569148936 & 0.7915750 & 0.7161705 & 1400 & tags=17\\%, list=10\\%, signal=15\\% & 111118293/111111504                                                                                                                                                                                     & 50.00000\\\\\n",
       "\t94 & cvn03430 & Mismatch repair                                                         &  21 & 0.3553110 & 0.8641842 & 0.647272727 & 0.8331915 & 0.7538227 &  330 & tags=10\\%, list=2\\%, signal=9\\%   & 111121171/111137687                                                                                                                                                                                     & 50.00000\\\\\n",
       "\t9 & cvn04814 & Motor proteins                                                          & 111 & 0.4825362 & 1.4254420 & 0.007216891 & 0.2537983 & 0.2296218 & 1179 & tags=18\\%, list=9\\%, signal=17\\%  & 111136151/111134768/111107338/111102596/111112439/111103394/111115784/111129526/111107250/111127380/111134843/111137068/111131563/111119946/111134888/111120500/111129376/111130940/111125250/111131555 & 40.00000\\\\\n",
       "\t45 & cvn04148 & Efferocytosis                                                           &  98 & 0.4000467 & 1.1675889 & 0.194501018 & 0.6325836 & 0.5723244 & 1406 & tags=14\\%, list=10\\%, signal=13\\% & 111135946/111113124/111121723/111134726/111117970/111110712/111134431/111128659/111117731/111134947/111130916/111127576/111130408/111112330                                                             & 35.71429\\\\\n",
       "\t22 & cvn01212 & Fatty acid metabolism                                                   &  48 & 0.4857861 & 1.3384466 & 0.079569892 & 0.4186068 & 0.3787308 & 2029 & tags=25\\%, list=15\\%, signal=21\\% & 111127947/111113990/111128659/111115744/111107112/111115745/111099995/111119293/111135553/111124908/111100523/111117093                                                                                 & 33.33333\\\\\n",
       "\\end{tabular}\n"
      ],
      "text/markdown": [
       "\n",
       "A data.frame: 10 × 12\n",
       "\n",
       "| <!--/--> | ID &lt;chr&gt; | Description &lt;chr&gt; | setSize &lt;int&gt; | enrichmentScore &lt;dbl&gt; | NES &lt;dbl&gt; | pvalue &lt;dbl&gt; | p.adjust &lt;dbl&gt; | qvalue &lt;dbl&gt; | rank &lt;int&gt; | leading_edge &lt;chr&gt; | core_enrichment &lt;chr&gt; | MatchesPercentage &lt;dbl&gt; |\n",
       "|---|---|---|---|---|---|---|---|---|---|---|---|---|\n",
       "| 4 | cvn00592 | alpha-Linolenic acid metabolism                                         |  11 | 0.7377666 | 1.5645014 | 0.018877557 | 0.2537983 | 0.2296218 | 1602 | tags=45%, list=12%, signal=40% | 111113990/111115744/111107112/111115745/111124908                                                                                                                                                       | 80.00000 |\n",
       "| 15 | cvn01040 | Biosynthesis of unsaturated fatty acids                                 |  18 | 0.6354291 | 1.4894918 | 0.033088235 | 0.2669118 | 0.2414861 | 1602 | tags=33%, list=12%, signal=29% | 111113990/111115744/111107112/111115745/111119293/111124908                                                                                                                                             | 66.66667 |\n",
       "| 2 | cvn00910 | Nitrogen metabolism                                                     |  10 | 0.7751841 | 1.6118619 | 0.010959229 | 0.2537983 | 0.2296218 | 1398 | tags=50%, list=10%, signal=45% | 111134700/111100398/111100399/111126492/111135592                                                                                                                                                       | 60.00000 |\n",
       "| 32 | cvn04512 | ECM-receptor interaction                                                |  23 | 0.5113610 | 1.2737730 | 0.176331361 | 0.6096027 | 0.5515327 | 1679 | tags=26%, list=12%, signal=23% | 111114114/111111291/111113265/111134722/111109289/111119175                                                                                                                                             | 50.00000 |\n",
       "| 71 | cvn03083 | Polycomb repressive complex                                             |  38 | 0.3891222 | 1.0391458 | 0.438264739 | 0.7377131 | 0.6674394 |  865 | tags=11%, list=6%, signal=10%  | 111123912/111104330/111104315/111123056                                                                                                                                                                 | 50.00000 |\n",
       "| 87 | cvn00532 | Glycosaminoglycan biosynthesis - chondroitin sulfate / dermatan sulfate |  12 | 0.4314562 | 0.9343104 | 0.569148936 | 0.7915750 | 0.7161705 | 1400 | tags=17%, list=10%, signal=15% | 111118293/111111504                                                                                                                                                                                     | 50.00000 |\n",
       "| 94 | cvn03430 | Mismatch repair                                                         |  21 | 0.3553110 | 0.8641842 | 0.647272727 | 0.8331915 | 0.7538227 |  330 | tags=10%, list=2%, signal=9%   | 111121171/111137687                                                                                                                                                                                     | 50.00000 |\n",
       "| 9 | cvn04814 | Motor proteins                                                          | 111 | 0.4825362 | 1.4254420 | 0.007216891 | 0.2537983 | 0.2296218 | 1179 | tags=18%, list=9%, signal=17%  | 111136151/111134768/111107338/111102596/111112439/111103394/111115784/111129526/111107250/111127380/111134843/111137068/111131563/111119946/111134888/111120500/111129376/111130940/111125250/111131555 | 40.00000 |\n",
       "| 45 | cvn04148 | Efferocytosis                                                           |  98 | 0.4000467 | 1.1675889 | 0.194501018 | 0.6325836 | 0.5723244 | 1406 | tags=14%, list=10%, signal=13% | 111135946/111113124/111121723/111134726/111117970/111110712/111134431/111128659/111117731/111134947/111130916/111127576/111130408/111112330                                                             | 35.71429 |\n",
       "| 22 | cvn01212 | Fatty acid metabolism                                                   |  48 | 0.4857861 | 1.3384466 | 0.079569892 | 0.4186068 | 0.3787308 | 2029 | tags=25%, list=15%, signal=21% | 111127947/111113990/111128659/111115744/111107112/111115745/111099995/111119293/111135553/111124908/111100523/111117093                                                                                 | 33.33333 |\n",
       "\n"
      ],
      "text/plain": [
       "   ID      \n",
       "4  cvn00592\n",
       "15 cvn01040\n",
       "2  cvn00910\n",
       "32 cvn04512\n",
       "71 cvn03083\n",
       "87 cvn00532\n",
       "94 cvn03430\n",
       "9  cvn04814\n",
       "45 cvn04148\n",
       "22 cvn01212\n",
       "   Description                                                            \n",
       "4  alpha-Linolenic acid metabolism                                        \n",
       "15 Biosynthesis of unsaturated fatty acids                                \n",
       "2  Nitrogen metabolism                                                    \n",
       "32 ECM-receptor interaction                                               \n",
       "71 Polycomb repressive complex                                            \n",
       "87 Glycosaminoglycan biosynthesis - chondroitin sulfate / dermatan sulfate\n",
       "94 Mismatch repair                                                        \n",
       "9  Motor proteins                                                         \n",
       "45 Efferocytosis                                                          \n",
       "22 Fatty acid metabolism                                                  \n",
       "   setSize enrichmentScore NES       pvalue      p.adjust  qvalue    rank\n",
       "4   11     0.7377666       1.5645014 0.018877557 0.2537983 0.2296218 1602\n",
       "15  18     0.6354291       1.4894918 0.033088235 0.2669118 0.2414861 1602\n",
       "2   10     0.7751841       1.6118619 0.010959229 0.2537983 0.2296218 1398\n",
       "32  23     0.5113610       1.2737730 0.176331361 0.6096027 0.5515327 1679\n",
       "71  38     0.3891222       1.0391458 0.438264739 0.7377131 0.6674394  865\n",
       "87  12     0.4314562       0.9343104 0.569148936 0.7915750 0.7161705 1400\n",
       "94  21     0.3553110       0.8641842 0.647272727 0.8331915 0.7538227  330\n",
       "9  111     0.4825362       1.4254420 0.007216891 0.2537983 0.2296218 1179\n",
       "45  98     0.4000467       1.1675889 0.194501018 0.6325836 0.5723244 1406\n",
       "22  48     0.4857861       1.3384466 0.079569892 0.4186068 0.3787308 2029\n",
       "   leading_edge                  \n",
       "4  tags=45%, list=12%, signal=40%\n",
       "15 tags=33%, list=12%, signal=29%\n",
       "2  tags=50%, list=10%, signal=45%\n",
       "32 tags=26%, list=12%, signal=23%\n",
       "71 tags=11%, list=6%, signal=10% \n",
       "87 tags=17%, list=10%, signal=15%\n",
       "94 tags=10%, list=2%, signal=9%  \n",
       "9  tags=18%, list=9%, signal=17% \n",
       "45 tags=14%, list=10%, signal=13%\n",
       "22 tags=25%, list=15%, signal=21%\n",
       "   core_enrichment                                                                                                                                                                                        \n",
       "4  111113990/111115744/111107112/111115745/111124908                                                                                                                                                      \n",
       "15 111113990/111115744/111107112/111115745/111119293/111124908                                                                                                                                            \n",
       "2  111134700/111100398/111100399/111126492/111135592                                                                                                                                                      \n",
       "32 111114114/111111291/111113265/111134722/111109289/111119175                                                                                                                                            \n",
       "71 111123912/111104330/111104315/111123056                                                                                                                                                                \n",
       "87 111118293/111111504                                                                                                                                                                                    \n",
       "94 111121171/111137687                                                                                                                                                                                    \n",
       "9  111136151/111134768/111107338/111102596/111112439/111103394/111115784/111129526/111107250/111127380/111134843/111137068/111131563/111119946/111134888/111120500/111129376/111130940/111125250/111131555\n",
       "45 111135946/111113124/111121723/111134726/111117970/111110712/111134431/111128659/111117731/111134947/111130916/111127576/111130408/111112330                                                            \n",
       "22 111127947/111113990/111128659/111115744/111107112/111115745/111099995/111119293/111135553/111124908/111100523/111117093                                                                                \n",
       "   MatchesPercentage\n",
       "4  80.00000         \n",
       "15 66.66667         \n",
       "2  60.00000         \n",
       "32 50.00000         \n",
       "71 50.00000         \n",
       "87 50.00000         \n",
       "94 50.00000         \n",
       "9  40.00000         \n",
       "45 35.71429         \n",
       "22 33.33333         "
      ]
     },
     "metadata": {},
     "output_type": "display_data"
    }
   ],
   "source": [
    "# Sample dataframes\n",
    "df1 <- genes\n",
    "df2 <- pathway\n",
    "\n",
    "# Function to check if any gene in df1 matches genes in a row of df2\n",
    "get_gene_matches <- function(row_df2, df1_genes) {\n",
    "  genes2 <- unlist(strsplit(as.character(row_df2), \"/\"))\n",
    "  count <- sum(genes2 %in% df1_genes)\n",
    "  # Calculate the percentage of matched genes in the row\n",
    "  percentage <- count / length(genes2) * 100\n",
    "  return(percentage)\n",
    "}\n",
    "\n",
    "# Iterate over each row of df2\n",
    "matches_percentage <- sapply(df2$core_enrichment, get_gene_matches, df1_genes = df1$gene)\n",
    "\n",
    "# Add the matches percentage to df2\n",
    "df2$MatchesPercentage <- matches_percentage\n",
    "\n",
    "# Sort df with highest match percentages at the top\n",
    "gene_pathway_match <- df2[order(-df2$MatchesPercentage),]\n",
    "head(gene_pathway_match, 10)\n"
   ]
  },
  {
   "cell_type": "markdown",
   "id": "798c4c9b-1691-4a91-ac3a-e889e0aaa8ac",
   "metadata": {},
   "source": [
    "now that I have a df with counts of number of matches between core enrichment genes and significant DMGs, want to only look at those with matches (filter out any pathways that did not contain sig. DMGs in their core enrichment)"
   ]
  },
  {
   "cell_type": "code",
   "execution_count": 14,
   "id": "e2917340-6ce8-4f1c-925c-31bb32f76fdc",
   "metadata": {},
   "outputs": [
    {
     "data": {
      "text/html": [
       "<style>\n",
       ".list-inline {list-style: none; margin:0; padding: 0}\n",
       ".list-inline>li {display: inline-block}\n",
       ".list-inline>li:not(:last-child)::after {content: \"\\00b7\"; padding: 0 .5ex}\n",
       "</style>\n",
       "<ol class=list-inline><li>77</li><li>12</li></ol>\n"
      ],
      "text/latex": [
       "\\begin{enumerate*}\n",
       "\\item 77\n",
       "\\item 12\n",
       "\\end{enumerate*}\n"
      ],
      "text/markdown": [
       "1. 77\n",
       "2. 12\n",
       "\n",
       "\n"
      ],
      "text/plain": [
       "[1] 77 12"
      ]
     },
     "metadata": {},
     "output_type": "display_data"
    },
    {
     "data": {
      "text/html": [
       "<table class=\"dataframe\">\n",
       "<caption>A data.frame: 6 × 12</caption>\n",
       "<thead>\n",
       "\t<tr><th></th><th scope=col>ID</th><th scope=col>Description</th><th scope=col>setSize</th><th scope=col>enrichmentScore</th><th scope=col>NES</th><th scope=col>pvalue</th><th scope=col>p.adjust</th><th scope=col>qvalue</th><th scope=col>rank</th><th scope=col>leading_edge</th><th scope=col>core_enrichment</th><th scope=col>MatchesPercentage</th></tr>\n",
       "\t<tr><th></th><th scope=col>&lt;chr&gt;</th><th scope=col>&lt;chr&gt;</th><th scope=col>&lt;int&gt;</th><th scope=col>&lt;dbl&gt;</th><th scope=col>&lt;dbl&gt;</th><th scope=col>&lt;dbl&gt;</th><th scope=col>&lt;dbl&gt;</th><th scope=col>&lt;dbl&gt;</th><th scope=col>&lt;int&gt;</th><th scope=col>&lt;chr&gt;</th><th scope=col>&lt;chr&gt;</th><th scope=col>&lt;dbl&gt;</th></tr>\n",
       "</thead>\n",
       "<tbody>\n",
       "\t<tr><th scope=row>1</th><td>cvn00592</td><td>alpha-Linolenic acid metabolism                                        </td><td>11</td><td>0.7377666</td><td>1.5645014</td><td>0.01887756</td><td>0.2537983</td><td>0.2296218</td><td>1602</td><td>tags=45%, list=12%, signal=40%</td><td>111113990/111115744/111107112/111115745/111124908          </td><td>80.00000</td></tr>\n",
       "\t<tr><th scope=row>2</th><td>cvn01040</td><td>Biosynthesis of unsaturated fatty acids                                </td><td>18</td><td>0.6354291</td><td>1.4894918</td><td>0.03308824</td><td>0.2669118</td><td>0.2414861</td><td>1602</td><td>tags=33%, list=12%, signal=29%</td><td>111113990/111115744/111107112/111115745/111119293/111124908</td><td>66.66667</td></tr>\n",
       "\t<tr><th scope=row>3</th><td>cvn00910</td><td>Nitrogen metabolism                                                    </td><td>10</td><td>0.7751841</td><td>1.6118619</td><td>0.01095923</td><td>0.2537983</td><td>0.2296218</td><td>1398</td><td>tags=50%, list=10%, signal=45%</td><td>111134700/111100398/111100399/111126492/111135592          </td><td>60.00000</td></tr>\n",
       "\t<tr><th scope=row>4</th><td>cvn04512</td><td>ECM-receptor interaction                                               </td><td>23</td><td>0.5113610</td><td>1.2737730</td><td>0.17633136</td><td>0.6096027</td><td>0.5515327</td><td>1679</td><td>tags=26%, list=12%, signal=23%</td><td>111114114/111111291/111113265/111134722/111109289/111119175</td><td>50.00000</td></tr>\n",
       "\t<tr><th scope=row>5</th><td>cvn03083</td><td>Polycomb repressive complex                                            </td><td>38</td><td>0.3891222</td><td>1.0391458</td><td>0.43826474</td><td>0.7377131</td><td>0.6674394</td><td> 865</td><td>tags=11%, list=6%, signal=10% </td><td>111123912/111104330/111104315/111123056                    </td><td>50.00000</td></tr>\n",
       "\t<tr><th scope=row>6</th><td>cvn00532</td><td>Glycosaminoglycan biosynthesis - chondroitin sulfate / dermatan sulfate</td><td>12</td><td>0.4314562</td><td>0.9343104</td><td>0.56914894</td><td>0.7915750</td><td>0.7161705</td><td>1400</td><td>tags=17%, list=10%, signal=15%</td><td>111118293/111111504                                        </td><td>50.00000</td></tr>\n",
       "</tbody>\n",
       "</table>\n"
      ],
      "text/latex": [
       "A data.frame: 6 × 12\n",
       "\\begin{tabular}{r|llllllllllll}\n",
       "  & ID & Description & setSize & enrichmentScore & NES & pvalue & p.adjust & qvalue & rank & leading\\_edge & core\\_enrichment & MatchesPercentage\\\\\n",
       "  & <chr> & <chr> & <int> & <dbl> & <dbl> & <dbl> & <dbl> & <dbl> & <int> & <chr> & <chr> & <dbl>\\\\\n",
       "\\hline\n",
       "\t1 & cvn00592 & alpha-Linolenic acid metabolism                                         & 11 & 0.7377666 & 1.5645014 & 0.01887756 & 0.2537983 & 0.2296218 & 1602 & tags=45\\%, list=12\\%, signal=40\\% & 111113990/111115744/111107112/111115745/111124908           & 80.00000\\\\\n",
       "\t2 & cvn01040 & Biosynthesis of unsaturated fatty acids                                 & 18 & 0.6354291 & 1.4894918 & 0.03308824 & 0.2669118 & 0.2414861 & 1602 & tags=33\\%, list=12\\%, signal=29\\% & 111113990/111115744/111107112/111115745/111119293/111124908 & 66.66667\\\\\n",
       "\t3 & cvn00910 & Nitrogen metabolism                                                     & 10 & 0.7751841 & 1.6118619 & 0.01095923 & 0.2537983 & 0.2296218 & 1398 & tags=50\\%, list=10\\%, signal=45\\% & 111134700/111100398/111100399/111126492/111135592           & 60.00000\\\\\n",
       "\t4 & cvn04512 & ECM-receptor interaction                                                & 23 & 0.5113610 & 1.2737730 & 0.17633136 & 0.6096027 & 0.5515327 & 1679 & tags=26\\%, list=12\\%, signal=23\\% & 111114114/111111291/111113265/111134722/111109289/111119175 & 50.00000\\\\\n",
       "\t5 & cvn03083 & Polycomb repressive complex                                             & 38 & 0.3891222 & 1.0391458 & 0.43826474 & 0.7377131 & 0.6674394 &  865 & tags=11\\%, list=6\\%, signal=10\\%  & 111123912/111104330/111104315/111123056                     & 50.00000\\\\\n",
       "\t6 & cvn00532 & Glycosaminoglycan biosynthesis - chondroitin sulfate / dermatan sulfate & 12 & 0.4314562 & 0.9343104 & 0.56914894 & 0.7915750 & 0.7161705 & 1400 & tags=17\\%, list=10\\%, signal=15\\% & 111118293/111111504                                         & 50.00000\\\\\n",
       "\\end{tabular}\n"
      ],
      "text/markdown": [
       "\n",
       "A data.frame: 6 × 12\n",
       "\n",
       "| <!--/--> | ID &lt;chr&gt; | Description &lt;chr&gt; | setSize &lt;int&gt; | enrichmentScore &lt;dbl&gt; | NES &lt;dbl&gt; | pvalue &lt;dbl&gt; | p.adjust &lt;dbl&gt; | qvalue &lt;dbl&gt; | rank &lt;int&gt; | leading_edge &lt;chr&gt; | core_enrichment &lt;chr&gt; | MatchesPercentage &lt;dbl&gt; |\n",
       "|---|---|---|---|---|---|---|---|---|---|---|---|---|\n",
       "| 1 | cvn00592 | alpha-Linolenic acid metabolism                                         | 11 | 0.7377666 | 1.5645014 | 0.01887756 | 0.2537983 | 0.2296218 | 1602 | tags=45%, list=12%, signal=40% | 111113990/111115744/111107112/111115745/111124908           | 80.00000 |\n",
       "| 2 | cvn01040 | Biosynthesis of unsaturated fatty acids                                 | 18 | 0.6354291 | 1.4894918 | 0.03308824 | 0.2669118 | 0.2414861 | 1602 | tags=33%, list=12%, signal=29% | 111113990/111115744/111107112/111115745/111119293/111124908 | 66.66667 |\n",
       "| 3 | cvn00910 | Nitrogen metabolism                                                     | 10 | 0.7751841 | 1.6118619 | 0.01095923 | 0.2537983 | 0.2296218 | 1398 | tags=50%, list=10%, signal=45% | 111134700/111100398/111100399/111126492/111135592           | 60.00000 |\n",
       "| 4 | cvn04512 | ECM-receptor interaction                                                | 23 | 0.5113610 | 1.2737730 | 0.17633136 | 0.6096027 | 0.5515327 | 1679 | tags=26%, list=12%, signal=23% | 111114114/111111291/111113265/111134722/111109289/111119175 | 50.00000 |\n",
       "| 5 | cvn03083 | Polycomb repressive complex                                             | 38 | 0.3891222 | 1.0391458 | 0.43826474 | 0.7377131 | 0.6674394 |  865 | tags=11%, list=6%, signal=10%  | 111123912/111104330/111104315/111123056                     | 50.00000 |\n",
       "| 6 | cvn00532 | Glycosaminoglycan biosynthesis - chondroitin sulfate / dermatan sulfate | 12 | 0.4314562 | 0.9343104 | 0.56914894 | 0.7915750 | 0.7161705 | 1400 | tags=17%, list=10%, signal=15% | 111118293/111111504                                         | 50.00000 |\n",
       "\n"
      ],
      "text/plain": [
       "  ID      \n",
       "1 cvn00592\n",
       "2 cvn01040\n",
       "3 cvn00910\n",
       "4 cvn04512\n",
       "5 cvn03083\n",
       "6 cvn00532\n",
       "  Description                                                            \n",
       "1 alpha-Linolenic acid metabolism                                        \n",
       "2 Biosynthesis of unsaturated fatty acids                                \n",
       "3 Nitrogen metabolism                                                    \n",
       "4 ECM-receptor interaction                                               \n",
       "5 Polycomb repressive complex                                            \n",
       "6 Glycosaminoglycan biosynthesis - chondroitin sulfate / dermatan sulfate\n",
       "  setSize enrichmentScore NES       pvalue     p.adjust  qvalue    rank\n",
       "1 11      0.7377666       1.5645014 0.01887756 0.2537983 0.2296218 1602\n",
       "2 18      0.6354291       1.4894918 0.03308824 0.2669118 0.2414861 1602\n",
       "3 10      0.7751841       1.6118619 0.01095923 0.2537983 0.2296218 1398\n",
       "4 23      0.5113610       1.2737730 0.17633136 0.6096027 0.5515327 1679\n",
       "5 38      0.3891222       1.0391458 0.43826474 0.7377131 0.6674394  865\n",
       "6 12      0.4314562       0.9343104 0.56914894 0.7915750 0.7161705 1400\n",
       "  leading_edge                  \n",
       "1 tags=45%, list=12%, signal=40%\n",
       "2 tags=33%, list=12%, signal=29%\n",
       "3 tags=50%, list=10%, signal=45%\n",
       "4 tags=26%, list=12%, signal=23%\n",
       "5 tags=11%, list=6%, signal=10% \n",
       "6 tags=17%, list=10%, signal=15%\n",
       "  core_enrichment                                             MatchesPercentage\n",
       "1 111113990/111115744/111107112/111115745/111124908           80.00000         \n",
       "2 111113990/111115744/111107112/111115745/111119293/111124908 66.66667         \n",
       "3 111134700/111100398/111100399/111126492/111135592           60.00000         \n",
       "4 111114114/111111291/111113265/111134722/111109289/111119175 50.00000         \n",
       "5 111123912/111104330/111104315/111123056                     50.00000         \n",
       "6 111118293/111111504                                         50.00000         "
      ]
     },
     "metadata": {},
     "output_type": "display_data"
    }
   ],
   "source": [
    "# only want to look at pathways that have significant genes in their core enrichment\n",
    "matched_pathways <- filter(gene_pathway_match, gene_pathway_match$MatchesPercentage != 0)\n",
    "\n",
    "# checking dimensions to see how many pathways we have \n",
    "dim(matched_pathways) # 77 matches\n",
    "\n",
    "# looking at df\n",
    "head(matched_pathways)"
   ]
  },
  {
   "cell_type": "code",
   "execution_count": 11,
   "id": "944147b6-806e-44cd-8325-3702ddce6e91",
   "metadata": {},
   "outputs": [],
   "source": [
    "write.csv(matched_pathways, '/project/pi_sarah_gignouxwolfsohn_uml_edu/julia/CE_MethylRAD_analysis_2018/analysis/lfc_kegg_pathways/p1wc_siggene_pathways.csv')"
   ]
  },
  {
   "cell_type": "code",
   "execution_count": 17,
   "id": "d23bfa01-ac8d-40ac-b93a-f1f74499f8d3",
   "metadata": {},
   "outputs": [
    {
     "data": {
      "text/html": [
       "21.2779547910983"
      ],
      "text/latex": [
       "21.2779547910983"
      ],
      "text/markdown": [
       "21.2779547910983"
      ],
      "text/plain": [
       "[1] 21.27795"
      ]
     },
     "metadata": {},
     "output_type": "display_data"
    },
    {
     "data": {
      "text/html": [
       "18.1818181818182"
      ],
      "text/latex": [
       "18.1818181818182"
      ],
      "text/markdown": [
       "18.1818181818182"
      ],
      "text/plain": [
       "[1] 18.18182"
      ]
     },
     "metadata": {},
     "output_type": "display_data"
    },
    {
     "data": {
      "text/html": [
       "14.76078049997"
      ],
      "text/latex": [
       "14.76078049997"
      ],
      "text/markdown": [
       "14.76078049997"
      ],
      "text/plain": [
       "[1] 14.76078"
      ]
     },
     "metadata": {},
     "output_type": "display_data"
    }
   ],
   "source": [
    "mean(matched_pathways$MatchesPercentage)\n",
    "median(matched_pathways$MatchesPercentage)\n",
    "sd(matched_pathways$MatchesPercentage)"
   ]
  },
  {
   "cell_type": "markdown",
   "id": "89283b11-ab2e-43d0-b1e9-411fc25b7024",
   "metadata": {},
   "source": [
    "**Stats on Matched Percentage**\n",
    "\n",
    "25 pathways with only 1 match\n",
    "\n",
    "267 pathways with 0 matches\n",
    "\n",
    "- mean % of matches: 21%\n",
    "- median % of matches: 18%\n",
    "- standard deviation of matches: 14%\n",
    "\n",
    "**alpha-Linolenic acid metabolism** have the highest percent of significant DMGs in its core enrichment with 80%"
   ]
  },
  {
   "cell_type": "markdown",
   "id": "7cec6840-1e66-44c2-a154-97d66d67941e",
   "metadata": {
    "jp-MarkdownHeadingCollapsed": true,
    "tags": []
   },
   "source": [
    "## Investigating adjusted p-values with NA values\n",
    "We're trying to figure out *why* we get NA values so we can decide if we want to exclude or keep those genes in our pathway analysis\n",
    "\n",
    "Starting with looking at our list of genes with stat info from DESeq (normal lfcShrink and lfcThreshold=0.5)"
   ]
  },
  {
   "cell_type": "code",
   "execution_count": null,
   "id": "9fe1d2e8-c3d8-493a-b52a-96a8f098edcc",
   "metadata": {},
   "outputs": [],
   "source": [
    "unfilter_genes <- read.csv('/project/pi_sarah_gignouxwolfsohn_uml_edu/julia/CE_MethylRAD_analysis_2018/analysis/lfc_sig_genes/unfiltered_phase1_wc_genes.csv')\n",
    "head(unfilter_genes)"
   ]
  },
  {
   "cell_type": "markdown",
   "id": "66622903-6727-4511-b243-57775da534e5",
   "metadata": {},
   "source": [
    "filtering df to only include genes with NA for adjusted p-value"
   ]
  },
  {
   "cell_type": "code",
   "execution_count": null,
   "id": "fdc4d128-e174-43e9-a8e6-d445ccc637bb",
   "metadata": {},
   "outputs": [],
   "source": [
    "genes_w_na <- unfilter_genes[is.na(unfilter_genes$padj),]\n",
    "dim(genes_w_na) # 5,776 genes with NA for adjusted p-value"
   ]
  },
  {
   "cell_type": "markdown",
   "id": "129a8d15-c402-43e7-9344-43e76899f605",
   "metadata": {},
   "source": [
    "looking more into the stats of those genes with NA for adjusted p-value, specifically looking at the baseMean (since this is what the DESeq documentation points at)\n",
    "> baseMean - the average of the normalized count values, dividing by size factors, taken over all samples"
   ]
  },
  {
   "cell_type": "code",
   "execution_count": null,
   "id": "bbd3adac-fb82-4051-848b-0d78014cd5ac",
   "metadata": {},
   "outputs": [],
   "source": [
    "mean(genes_w_na$baseMean) # average = 4.5 counts per sample\n",
    "sd(genes_w_na$baseMean) # standard deviation = 22"
   ]
  },
  {
   "cell_type": "markdown",
   "id": "2e297847-aa25-42b0-8447-71c314ac7e5c",
   "metadata": {},
   "source": [
    "loading in counts matrix that was generated with featureCounts to pull out the genes with NA for adjusted p-value"
   ]
  },
  {
   "cell_type": "code",
   "execution_count": null,
   "id": "367a8964-9596-4d0a-bb3b-f7ba3e4d62ab",
   "metadata": {},
   "outputs": [],
   "source": [
    "# loading in counts matrix\n",
    "counts_matrix <- read.csv('/project/pi_sarah_gignouxwolfsohn_uml_edu/julia/CE_MethylRAD_analysis_2018/analysis/counts_and_meta/featureCounts_meta.csv')\n",
    "head(counts_matrix)"
   ]
  },
  {
   "cell_type": "code",
   "execution_count": null,
   "id": "7f1ef971-d255-4579-9cff-8803217e0c14",
   "metadata": {},
   "outputs": [],
   "source": [
    "# setting genees as row names\n",
    "rownames(counts_matrix) = counts_matrix$X\n",
    "\n",
    "# removing gene column (since now are rownames)\n",
    "counts_matrix2 <- counts_matrix[,-1]\n",
    "head(counts_matrix2)"
   ]
  },
  {
   "cell_type": "code",
   "execution_count": null,
   "id": "213a8733-c809-486e-91a5-7ae62fd54269",
   "metadata": {},
   "outputs": [],
   "source": [
    "# replace the '.' with '-'\n",
    "cleaned_column_names2 <- gsub('\\\\.', \"-\", colnames(counts_matrix2))\n",
    "head(cleaned_column_names2)\n",
    "\n",
    "# now assigning to the columns\n",
    "colnames(counts_matrix2) = cleaned_column_names2\n",
    "head(counts_matrix2)"
   ]
  },
  {
   "cell_type": "code",
   "execution_count": null,
   "id": "b4af77bf-5899-429d-a3b4-0620ca3245c0",
   "metadata": {},
   "outputs": [],
   "source": [
    "# creating new df of counts matrix of genes with NA for padj\n",
    "counts_na <- counts_matrix2[rownames(counts_matrix2) %in% genes_w_na$X,]\n",
    "dim(counts_na) # 5,776 genes \n",
    "head(counts_na)"
   ]
  },
  {
   "cell_type": "markdown",
   "id": "186c8a7f-b4a2-4c3a-864d-6e9199a3507d",
   "metadata": {},
   "source": [
    "also need to load in meta data so that I can pull out the right columns aka samples that were warm or control for phase 1"
   ]
  },
  {
   "cell_type": "code",
   "execution_count": null,
   "id": "d485a7e7-d0e0-4992-b72e-6ce6c1d1598e",
   "metadata": {},
   "outputs": [],
   "source": [
    "meta <- read.csv('/project/pi_sarah_gignouxwolfsohn_uml_edu/julia/CE_MethylRAD_analysis_2018/analysis/counts_and_meta/CV_CE18_meta.csv')\n",
    "head(meta)"
   ]
  },
  {
   "cell_type": "markdown",
   "id": "a43e8c74-badd-4545-9fbb-c6d68ff2c3ad",
   "metadata": {},
   "source": [
    "pulling out only the samples that were either warm or control for phase 1 treatment (we're ignoring the effects of phase 2 for this analysis)"
   ]
  },
  {
   "cell_type": "code",
   "execution_count": null,
   "id": "6ab6fd6a-072a-4114-8cf9-3140b2737426",
   "metadata": {},
   "outputs": [],
   "source": [
    "p1_wc_meta <- filter(meta, meta$Phase1 == 'warm' | meta$Phase1 == 'control')\n",
    "dim(p1_wc_meta) # 15 total samples\n",
    "head(p1_wc_meta)"
   ]
  },
  {
   "cell_type": "code",
   "execution_count": null,
   "id": "0e9d383e-2193-43c3-ae7a-5a9cc2d82610",
   "metadata": {},
   "outputs": [],
   "source": [
    "p1_wc_meta"
   ]
  },
  {
   "cell_type": "code",
   "execution_count": null,
   "id": "908287a5-737d-4c46-a570-c86130dc7937",
   "metadata": {},
   "outputs": [],
   "source": [
    "# only looking at samples with control or warm for phase 1 in the counts matrix\n",
    "filtered_df <- counts_na[,colnames(counts_na) %in% p1_wc_meta$unique_ID]\n",
    "dim(filtered_df) # still seeing 5,776 genes with NA for padj and info for 15 samples\n",
    "head(filtered_df,20)"
   ]
  },
  {
   "cell_type": "markdown",
   "id": "f2558977-b0da-4ec4-946d-de78b746fb74",
   "metadata": {},
   "source": [
    "all of the **W##** samples are **control** and all of the **G##** samples are **warm** for phase 1"
   ]
  },
  {
   "cell_type": "markdown",
   "id": "19b587ac-6055-4e3c-bea8-851779379711",
   "metadata": {},
   "source": [
    "looking at this df in excel to more easily look at why we might get NA for those genes"
   ]
  },
  {
   "cell_type": "code",
   "execution_count": null,
   "id": "4ca69a55-70e8-4390-a475-d7a8e85d7970",
   "metadata": {},
   "outputs": [],
   "source": [
    "write.csv(filtered_df, '/project/pi_sarah_gignouxwolfsohn_uml_edu/julia/CE_MethylRAD_analysis_2018/analysis/featureCounts_analysis/na_p1_wc_countsmatrix.csv')"
   ]
  },
  {
   "cell_type": "markdown",
   "id": "1d2f4cc4-76d0-4dc2-8b47-e91f306df09e",
   "metadata": {
    "jp-MarkdownHeadingCollapsed": true,
    "tags": []
   },
   "source": [
    "# Unfiltered DESeq DF and Pathway\n",
    "still looking at significantly differentially methylated genes for phase 1 warm vs. control, but now genes get assigned NA for adjusted p-values only when the gene has low counts (so this now includes outliers, instead of assigning outliers NA), therefore, different genes will be kept in the analysis for enriched pathways"
   ]
  },
  {
   "cell_type": "code",
   "execution_count": 3,
   "id": "4d9fc6a8-abe9-47af-82ab-177ee7d59e76",
   "metadata": {},
   "outputs": [
    {
     "data": {
      "text/html": [
       "<style>\n",
       ".list-inline {list-style: none; margin:0; padding: 0}\n",
       ".list-inline>li {display: inline-block}\n",
       ".list-inline>li:not(:last-child)::after {content: \"\\00b7\"; padding: 0 .5ex}\n",
       "</style>\n",
       "<ol class=list-inline><li>121</li><li>11</li></ol>\n"
      ],
      "text/latex": [
       "\\begin{enumerate*}\n",
       "\\item 121\n",
       "\\item 11\n",
       "\\end{enumerate*}\n"
      ],
      "text/markdown": [
       "1. 121\n",
       "2. 11\n",
       "\n",
       "\n"
      ],
      "text/plain": [
       "[1] 121  11"
      ]
     },
     "metadata": {},
     "output_type": "display_data"
    },
    {
     "data": {
      "text/html": [
       "<table class=\"dataframe\">\n",
       "<caption>A data.frame: 6 × 11</caption>\n",
       "<thead>\n",
       "\t<tr><th></th><th scope=col>ID</th><th scope=col>Description</th><th scope=col>setSize</th><th scope=col>enrichmentScore</th><th scope=col>NES</th><th scope=col>pvalue</th><th scope=col>p.adjust</th><th scope=col>qvalue</th><th scope=col>rank</th><th scope=col>leading_edge</th><th scope=col>core_enrichment</th></tr>\n",
       "\t<tr><th></th><th scope=col>&lt;chr&gt;</th><th scope=col>&lt;chr&gt;</th><th scope=col>&lt;int&gt;</th><th scope=col>&lt;dbl&gt;</th><th scope=col>&lt;dbl&gt;</th><th scope=col>&lt;dbl&gt;</th><th scope=col>&lt;dbl&gt;</th><th scope=col>&lt;dbl&gt;</th><th scope=col>&lt;int&gt;</th><th scope=col>&lt;chr&gt;</th><th scope=col>&lt;chr&gt;</th></tr>\n",
       "</thead>\n",
       "<tbody>\n",
       "\t<tr><th scope=row>1</th><td>cvn00053</td><td>Ascorbate and aldarate metabolism</td><td>12</td><td>0.7513381</td><td>1.647357</td><td>0.005464596</td><td>0.191996</td><td>0.1703662</td><td>2374</td><td>tags=58%, list=18%, signal=48%</td><td>111124535/111103451/111124599/111127562/111112920/111115614/111103498                                                            </td></tr>\n",
       "\t<tr><th scope=row>2</th><td>cvn00910</td><td>Nitrogen metabolism              </td><td>10</td><td>0.7751841</td><td>1.635015</td><td>0.005504478</td><td>0.191996</td><td>0.1703662</td><td>1398</td><td>tags=50%, list=10%, signal=45%</td><td>111134700/111100398/111100399/111126492/111135592                                                                                </td></tr>\n",
       "\t<tr><th scope=row>3</th><td>cvn00511</td><td>Other glycan degradation         </td><td>37</td><td>0.5917499</td><td>1.592294</td><td>0.011186436</td><td>0.191996</td><td>0.1703662</td><td>2221</td><td>tags=30%, list=16%, signal=25%</td><td>111106921/111106925/111106928/111119851/111119435/111120040/111113388/111119434/111106926/111119431/111106930                    </td></tr>\n",
       "\t<tr><th scope=row>4</th><td>cvn00052</td><td>Galactose metabolism             </td><td>21</td><td>0.6484812</td><td>1.587363</td><td>0.011072080</td><td>0.191996</td><td>0.1703662</td><td>2261</td><td>tags=38%, list=17%, signal=32%</td><td>111101197/111118471/111101820/111113388/111109442/111099882/111120703/111118006                                                  </td></tr>\n",
       "\t<tr><th scope=row>5</th><td>cvn00592</td><td>alpha-Linolenic acid metabolism  </td><td>11</td><td>0.7377666</td><td>1.578957</td><td>0.017454181</td><td>0.191996</td><td>0.1703662</td><td>1602</td><td>tags=45%, list=12%, signal=40%</td><td>111113990/111115744/111107112/111115745/111124908                                                                                </td></tr>\n",
       "\t<tr><th scope=row>6</th><td>cvn03250</td><td>Viral life cycle - HIV-1         </td><td>28</td><td>0.6023539</td><td>1.547657</td><td>0.017181028</td><td>0.191996</td><td>0.1703662</td><td>2628</td><td>tags=46%, list=19%, signal=37%</td><td>111124701/111124696/111129825/111111579/111108190/111135084/111128997/111124977/111106750/111123417/111130886/111104027/111135329</td></tr>\n",
       "</tbody>\n",
       "</table>\n"
      ],
      "text/latex": [
       "A data.frame: 6 × 11\n",
       "\\begin{tabular}{r|lllllllllll}\n",
       "  & ID & Description & setSize & enrichmentScore & NES & pvalue & p.adjust & qvalue & rank & leading\\_edge & core\\_enrichment\\\\\n",
       "  & <chr> & <chr> & <int> & <dbl> & <dbl> & <dbl> & <dbl> & <dbl> & <int> & <chr> & <chr>\\\\\n",
       "\\hline\n",
       "\t1 & cvn00053 & Ascorbate and aldarate metabolism & 12 & 0.7513381 & 1.647357 & 0.005464596 & 0.191996 & 0.1703662 & 2374 & tags=58\\%, list=18\\%, signal=48\\% & 111124535/111103451/111124599/111127562/111112920/111115614/111103498                                                            \\\\\n",
       "\t2 & cvn00910 & Nitrogen metabolism               & 10 & 0.7751841 & 1.635015 & 0.005504478 & 0.191996 & 0.1703662 & 1398 & tags=50\\%, list=10\\%, signal=45\\% & 111134700/111100398/111100399/111126492/111135592                                                                                \\\\\n",
       "\t3 & cvn00511 & Other glycan degradation          & 37 & 0.5917499 & 1.592294 & 0.011186436 & 0.191996 & 0.1703662 & 2221 & tags=30\\%, list=16\\%, signal=25\\% & 111106921/111106925/111106928/111119851/111119435/111120040/111113388/111119434/111106926/111119431/111106930                    \\\\\n",
       "\t4 & cvn00052 & Galactose metabolism              & 21 & 0.6484812 & 1.587363 & 0.011072080 & 0.191996 & 0.1703662 & 2261 & tags=38\\%, list=17\\%, signal=32\\% & 111101197/111118471/111101820/111113388/111109442/111099882/111120703/111118006                                                  \\\\\n",
       "\t5 & cvn00592 & alpha-Linolenic acid metabolism   & 11 & 0.7377666 & 1.578957 & 0.017454181 & 0.191996 & 0.1703662 & 1602 & tags=45\\%, list=12\\%, signal=40\\% & 111113990/111115744/111107112/111115745/111124908                                                                                \\\\\n",
       "\t6 & cvn03250 & Viral life cycle - HIV-1          & 28 & 0.6023539 & 1.547657 & 0.017181028 & 0.191996 & 0.1703662 & 2628 & tags=46\\%, list=19\\%, signal=37\\% & 111124701/111124696/111129825/111111579/111108190/111135084/111128997/111124977/111106750/111123417/111130886/111104027/111135329\\\\\n",
       "\\end{tabular}\n"
      ],
      "text/markdown": [
       "\n",
       "A data.frame: 6 × 11\n",
       "\n",
       "| <!--/--> | ID &lt;chr&gt; | Description &lt;chr&gt; | setSize &lt;int&gt; | enrichmentScore &lt;dbl&gt; | NES &lt;dbl&gt; | pvalue &lt;dbl&gt; | p.adjust &lt;dbl&gt; | qvalue &lt;dbl&gt; | rank &lt;int&gt; | leading_edge &lt;chr&gt; | core_enrichment &lt;chr&gt; |\n",
       "|---|---|---|---|---|---|---|---|---|---|---|---|\n",
       "| 1 | cvn00053 | Ascorbate and aldarate metabolism | 12 | 0.7513381 | 1.647357 | 0.005464596 | 0.191996 | 0.1703662 | 2374 | tags=58%, list=18%, signal=48% | 111124535/111103451/111124599/111127562/111112920/111115614/111103498                                                             |\n",
       "| 2 | cvn00910 | Nitrogen metabolism               | 10 | 0.7751841 | 1.635015 | 0.005504478 | 0.191996 | 0.1703662 | 1398 | tags=50%, list=10%, signal=45% | 111134700/111100398/111100399/111126492/111135592                                                                                 |\n",
       "| 3 | cvn00511 | Other glycan degradation          | 37 | 0.5917499 | 1.592294 | 0.011186436 | 0.191996 | 0.1703662 | 2221 | tags=30%, list=16%, signal=25% | 111106921/111106925/111106928/111119851/111119435/111120040/111113388/111119434/111106926/111119431/111106930                     |\n",
       "| 4 | cvn00052 | Galactose metabolism              | 21 | 0.6484812 | 1.587363 | 0.011072080 | 0.191996 | 0.1703662 | 2261 | tags=38%, list=17%, signal=32% | 111101197/111118471/111101820/111113388/111109442/111099882/111120703/111118006                                                   |\n",
       "| 5 | cvn00592 | alpha-Linolenic acid metabolism   | 11 | 0.7377666 | 1.578957 | 0.017454181 | 0.191996 | 0.1703662 | 1602 | tags=45%, list=12%, signal=40% | 111113990/111115744/111107112/111115745/111124908                                                                                 |\n",
       "| 6 | cvn03250 | Viral life cycle - HIV-1          | 28 | 0.6023539 | 1.547657 | 0.017181028 | 0.191996 | 0.1703662 | 2628 | tags=46%, list=19%, signal=37% | 111124701/111124696/111129825/111111579/111108190/111135084/111128997/111124977/111106750/111123417/111130886/111104027/111135329 |\n",
       "\n"
      ],
      "text/plain": [
       "  ID       Description                       setSize enrichmentScore NES     \n",
       "1 cvn00053 Ascorbate and aldarate metabolism 12      0.7513381       1.647357\n",
       "2 cvn00910 Nitrogen metabolism               10      0.7751841       1.635015\n",
       "3 cvn00511 Other glycan degradation          37      0.5917499       1.592294\n",
       "4 cvn00052 Galactose metabolism              21      0.6484812       1.587363\n",
       "5 cvn00592 alpha-Linolenic acid metabolism   11      0.7377666       1.578957\n",
       "6 cvn03250 Viral life cycle - HIV-1          28      0.6023539       1.547657\n",
       "  pvalue      p.adjust qvalue    rank leading_edge                  \n",
       "1 0.005464596 0.191996 0.1703662 2374 tags=58%, list=18%, signal=48%\n",
       "2 0.005504478 0.191996 0.1703662 1398 tags=50%, list=10%, signal=45%\n",
       "3 0.011186436 0.191996 0.1703662 2221 tags=30%, list=16%, signal=25%\n",
       "4 0.011072080 0.191996 0.1703662 2261 tags=38%, list=17%, signal=32%\n",
       "5 0.017454181 0.191996 0.1703662 1602 tags=45%, list=12%, signal=40%\n",
       "6 0.017181028 0.191996 0.1703662 2628 tags=46%, list=19%, signal=37%\n",
       "  core_enrichment                                                                                                                  \n",
       "1 111124535/111103451/111124599/111127562/111112920/111115614/111103498                                                            \n",
       "2 111134700/111100398/111100399/111126492/111135592                                                                                \n",
       "3 111106921/111106925/111106928/111119851/111119435/111120040/111113388/111119434/111106926/111119431/111106930                    \n",
       "4 111101197/111118471/111101820/111113388/111109442/111099882/111120703/111118006                                                  \n",
       "5 111113990/111115744/111107112/111115745/111124908                                                                                \n",
       "6 111124701/111124696/111129825/111111579/111108190/111135084/111128997/111124977/111106750/111123417/111130886/111104027/111135329"
      ]
     },
     "metadata": {},
     "output_type": "display_data"
    }
   ],
   "source": [
    "# load in csv file\n",
    "pathway <- read.csv('/project/pi_sarah_gignouxwolfsohn_uml_edu/julia/CE_MethylRAD_analysis_2018/analysis/enriched_pathways/unfiltered_pathways_p1wc.csv')\n",
    "\n",
    "# clean headers and columns\n",
    "pathway <- pathway[,-1]\n",
    "\n",
    "# checking dimensions\n",
    "dim(pathway) #121 pathways, 11 rows of info/meta data\n",
    "\n",
    "head(pathway)"
   ]
  },
  {
   "cell_type": "code",
   "execution_count": null,
   "id": "08362e13-ad51-470c-8861-0696533f976d",
   "metadata": {},
   "outputs": [],
   "source": [
    "# load data frame\n",
    "genes <- read.csv('/project/pi_sarah_gignouxwolfsohn_uml_edu/julia/CE_MethylRAD_analysis_2018/analysis/unfiltered_lfc_p1wc.csv')\n",
    "\n",
    "# KEGG uses entrez IDs, which are my ensembl IDs without the 'LOC' in front of them, so need to convert those\n",
    "genes$X <- substr(genes$X, start = 4, stop = nchar(genes$X))\n",
    "\n",
    "# only grabbing the columns I care about\n",
    "genes <- select(genes, X, log2FoldChange, padj)\n",
    "\n",
    "# renaming columns to make more sense\n",
    "colnames(genes) <- c('gene', 'lfc', 'padj')\n",
    "\n",
    "# only selecting genes that have padj < 0.05\n",
    "genes <- filter(genes, genes$padj < 0.05)\n",
    "\n",
    "# checking dimensions\n",
    "dim(genes) # 189 sig DMGs\n",
    "\n",
    "head(genes)"
   ]
  },
  {
   "cell_type": "markdown",
   "id": "5ffba236-0120-4f0c-b6bc-c7dbe207d395",
   "metadata": {},
   "source": [
    "#### III. Are the signficant genes in the core enrichment of the pathways?\n",
    "Taking our list of siginificant genes, and going line by line in our pathways to see if our sig. gene matches any of the core enrichment genes"
   ]
  },
  {
   "cell_type": "code",
   "execution_count": null,
   "id": "6fa886b4-4f71-4568-aabd-285992091f7f",
   "metadata": {},
   "outputs": [],
   "source": [
    "# generated from ChatGPT\n",
    "\n",
    "# Sample dataframes\n",
    "df1 <- genes\n",
    "df2 <- pathway\n",
    "\n",
    "# Function to check if any gene in df1 matches genes in a row of df2\n",
    "get_gene_matches <- function(row_df2, df1_genes) {\n",
    "  genes2 <- unlist(strsplit(as.character(row_df2), \"/\"))\n",
    "  count <- sum(genes2 %in% df1_genes)\n",
    "  return(count)\n",
    "}\n",
    "\n",
    "# Iterate over each row of df2\n",
    "matches_count <- sapply(df2$core_enrichment, get_gene_matches, df1_genes = df1$gene)\n",
    "\n",
    "# Add the matches count to df2\n",
    "df2$MatchesCount <- matches_count\n",
    "\n",
    "# Sort df with highest match counts at the top\n",
    "gene_pathway_match <- df2[order(-df2$MatchesCount),]\n",
    "head(gene_pathway_match)\n"
   ]
  },
  {
   "cell_type": "markdown",
   "id": "6fc49ab1-b33a-4ba6-9029-7c8331c1911d",
   "metadata": {},
   "source": [
    "now that I have a df with counts of number of matches between core enrichment genes and significant DMGs, want to only look at those with matches (filter out any pathways that did not contain sig. DMGs in their core enrichment)"
   ]
  },
  {
   "cell_type": "code",
   "execution_count": null,
   "id": "087db646-3e2d-40de-b8c2-19b20545a2b5",
   "metadata": {},
   "outputs": [],
   "source": [
    "# only want to look at pathways that have significant genes in their core enrichment\n",
    "matched_pathways <- filter(gene_pathway_match, gene_pathway_match$MatchesCount != 0)\n",
    "\n",
    "# checking dimensions to see how many pathways we have \n",
    "dim(matched_pathways) # 41 matches\n",
    "\n",
    "# looking at df\n",
    "head(matched_pathways)"
   ]
  },
  {
   "cell_type": "code",
   "execution_count": null,
   "id": "3e36b7ad-8710-47a8-aebd-775a317865c4",
   "metadata": {},
   "outputs": [],
   "source": [
    "mean(matched_pathways$MatchesCount)\n",
    "median(matched_pathways$MatchesCount)\n",
    "sd(matched_pathways$MatchesCount)"
   ]
  },
  {
   "cell_type": "markdown",
   "id": "7222787f-cfdf-4fec-bc8b-5b9ee84ad881",
   "metadata": {},
   "source": [
    "**Stats on Matched Counts**\n",
    "\n",
    "25 pathways with only 1 match\n",
    "\n",
    "148 pathways with 0 matches\n",
    "\n",
    "- mean number of matches: 1.8\n",
    "- median number of matches: 1\n",
    "- standard deviation of matches: 1.31\n",
    "\n",
    "**motor proteins** have the highest number of significant DMGs in its core enrichment with 7 genes\n",
    "\n",
    "**these results are the *same* as without filtering the outlier counts**"
   ]
  },
  {
   "cell_type": "code",
   "execution_count": null,
   "id": "01fc48d0-9b23-4b07-80aa-b9ce49255227",
   "metadata": {},
   "outputs": [],
   "source": [
    "unfilter_genes <- read.csv('/project/pi_sarah_gignouxwolfsohn_uml_edu/julia/CE_MethylRAD_analysis_2018/analysis/lfc_sig_genes/unfiltered_phase1_wc_genes.csv')\n",
    "head(unfilter_genes)"
   ]
  },
  {
   "cell_type": "markdown",
   "id": "039af155-1201-4907-92cb-246cd6b2edaf",
   "metadata": {},
   "source": [
    "filtering df to only include genes with NA for adjusted p-value"
   ]
  },
  {
   "cell_type": "code",
   "execution_count": null,
   "id": "c481811d-e4ac-4042-9914-79f55066bd25",
   "metadata": {},
   "outputs": [],
   "source": [
    "genes_w_na <- unfilter_genes[is.na(unfilter_genes$padj),]\n",
    "dim(genes_w_na) # 5,776 genes with NA for adjusted p-value"
   ]
  },
  {
   "cell_type": "markdown",
   "id": "b5b1644d-1130-4bca-a086-ed5044d01a50",
   "metadata": {},
   "source": [
    "looking more into the stats of those genes with NA for adjusted p-value, specifically looking at the baseMean (since this is what the DESeq documentation points at)\n",
    "> baseMean - the average of the normalized count values, dividing by size factors, taken over all samples"
   ]
  },
  {
   "cell_type": "code",
   "execution_count": null,
   "id": "f5b92213-42f9-4a24-98cd-bf82dc46d3a5",
   "metadata": {},
   "outputs": [],
   "source": [
    "mean(genes_w_na$baseMean) # average = 4.5 counts per sample\n",
    "sd(genes_w_na$baseMean) # standard deviation = 22"
   ]
  },
  {
   "cell_type": "markdown",
   "id": "a13ccfb9-2b83-4f4e-a0a3-6067dddbf246",
   "metadata": {},
   "source": [
    "loading in counts matrix that was generated with featureCounts to pull out the genes with NA for adjusted p-value"
   ]
  },
  {
   "cell_type": "code",
   "execution_count": null,
   "id": "3782e1ee-9298-4d0a-8724-008b367727ff",
   "metadata": {},
   "outputs": [],
   "source": [
    "# loading in counts matrix\n",
    "counts_matrix <- read.csv('/project/pi_sarah_gignouxwolfsohn_uml_edu/julia/CE_MethylRAD_analysis_2018/analysis/counts_and_meta/featureCounts_meta.csv')\n",
    "head(counts_matrix)"
   ]
  },
  {
   "cell_type": "code",
   "execution_count": null,
   "id": "0dcaace4-941c-49e1-81c3-2c01efc5ff74",
   "metadata": {},
   "outputs": [],
   "source": [
    "# setting genees as row names\n",
    "rownames(counts_matrix) = counts_matrix$X\n",
    "\n",
    "# removing gene column (since now are rownames)\n",
    "counts_matrix2 <- counts_matrix[,-1]\n",
    "head(counts_matrix2)"
   ]
  },
  {
   "cell_type": "code",
   "execution_count": null,
   "id": "ec4b2047-9bde-4cee-9703-59b775a35b1a",
   "metadata": {},
   "outputs": [],
   "source": [
    "# replace the '.' with '-'\n",
    "cleaned_column_names2 <- gsub('\\\\.', \"-\", colnames(counts_matrix2))\n",
    "head(cleaned_column_names2)\n",
    "\n",
    "# now assigning to the columns\n",
    "colnames(counts_matrix2) = cleaned_column_names2\n",
    "head(counts_matrix2)"
   ]
  },
  {
   "cell_type": "code",
   "execution_count": null,
   "id": "a384a461-3538-4840-a075-883139a60ab5",
   "metadata": {},
   "outputs": [],
   "source": [
    "# creating new df of counts matrix of genes with NA for padj\n",
    "counts_na <- counts_matrix2[rownames(counts_matrix2) %in% genes_w_na$X,]\n",
    "dim(counts_na) # 5,776 genes \n",
    "head(counts_na)"
   ]
  },
  {
   "cell_type": "markdown",
   "id": "3fc7f438-456e-455d-8a4c-71b96f17e727",
   "metadata": {},
   "source": [
    "also need to load in meta data so that I can pull out the right columns aka samples that were warm or control for phase 1"
   ]
  },
  {
   "cell_type": "code",
   "execution_count": null,
   "id": "77247d8f-1740-455f-aa7a-d638c95952dd",
   "metadata": {},
   "outputs": [],
   "source": [
    "meta <- read.csv('/project/pi_sarah_gignouxwolfsohn_uml_edu/julia/CE_MethylRAD_analysis_2018/analysis/counts_and_meta/CV_CE18_meta.csv')\n",
    "head(meta)"
   ]
  },
  {
   "cell_type": "markdown",
   "id": "726370fb-b8f3-41eb-84f5-987419f30fc4",
   "metadata": {},
   "source": [
    "pulling out only the samples that were either warm or control for phase 1 treatment (we're ignoring the effects of phase 2 for this analysis)"
   ]
  },
  {
   "cell_type": "code",
   "execution_count": null,
   "id": "93c369ef-7885-4cc5-9566-a1b5892bd424",
   "metadata": {},
   "outputs": [],
   "source": [
    "p1_wc_meta <- filter(meta, meta$Phase1 == 'warm' | meta$Phase1 == 'control')\n",
    "dim(p1_wc_meta) # 15 total samples\n",
    "head(p1_wc_meta)"
   ]
  },
  {
   "cell_type": "code",
   "execution_count": null,
   "id": "b90bc7ba-974b-4dc3-af90-5d34982d55a3",
   "metadata": {},
   "outputs": [],
   "source": [
    "p1_wc_meta"
   ]
  },
  {
   "cell_type": "code",
   "execution_count": null,
   "id": "00dd2e75-85a4-4cd0-81be-0d0f3f9a989a",
   "metadata": {},
   "outputs": [],
   "source": [
    "# only looking at samples with control or warm for phase 1 in the counts matrix\n",
    "filtered_df <- counts_na[,colnames(counts_na) %in% p1_wc_meta$unique_ID]\n",
    "dim(filtered_df) # still seeing 5,776 genes with NA for padj and info for 15 samples\n",
    "head(filtered_df,20)"
   ]
  },
  {
   "cell_type": "markdown",
   "id": "eb7af073-2348-45c5-afee-6543c755b0d1",
   "metadata": {},
   "source": [
    "all of the **W##** samples are **control** and all of the **G##** samples are **warm** for phase 1"
   ]
  },
  {
   "cell_type": "markdown",
   "id": "1c41e0bd-e5ef-4d13-b13d-54bc7eb85141",
   "metadata": {},
   "source": [
    "looking at this df in excel to more easily look at why we might get NA for those genes"
   ]
  },
  {
   "cell_type": "code",
   "execution_count": null,
   "id": "e548d30c-dd78-4a37-81f0-2022e0454fe2",
   "metadata": {},
   "outputs": [],
   "source": [
    "write.csv(filtered_df, '/project/pi_sarah_gignouxwolfsohn_uml_edu/julia/CE_MethylRAD_analysis_2018/analysis/featureCounts_analysis/na_p1_wc_countsmatrix.csv')"
   ]
  },
  {
   "cell_type": "markdown",
   "id": "2d38a4eb-80cc-41ae-8d57-13b5802d26d8",
   "metadata": {},
   "source": [
    "# phase 1 = hypoxia, phase 2 = control or hypoxia\n",
    "also referred to as phase 1 carry over effects"
   ]
  },
  {
   "cell_type": "code",
   "execution_count": 15,
   "id": "3b41d786-b27e-4b7f-a749-05e20a4be529",
   "metadata": {},
   "outputs": [
    {
     "data": {
      "text/html": [
       "<style>\n",
       ".list-inline {list-style: none; margin:0; padding: 0}\n",
       ".list-inline>li {display: inline-block}\n",
       ".list-inline>li:not(:last-child)::after {content: \"\\00b7\"; padding: 0 .5ex}\n",
       "</style>\n",
       "<ol class=list-inline><li>121</li><li>11</li></ol>\n"
      ],
      "text/latex": [
       "\\begin{enumerate*}\n",
       "\\item 121\n",
       "\\item 11\n",
       "\\end{enumerate*}\n"
      ],
      "text/markdown": [
       "1. 121\n",
       "2. 11\n",
       "\n",
       "\n"
      ],
      "text/plain": [
       "[1] 121  11"
      ]
     },
     "metadata": {},
     "output_type": "display_data"
    },
    {
     "data": {
      "text/html": [
       "<table class=\"dataframe\">\n",
       "<caption>A data.frame: 6 × 11</caption>\n",
       "<thead>\n",
       "\t<tr><th></th><th scope=col>ID</th><th scope=col>Description</th><th scope=col>setSize</th><th scope=col>enrichmentScore</th><th scope=col>NES</th><th scope=col>pvalue</th><th scope=col>p.adjust</th><th scope=col>qvalue</th><th scope=col>rank</th><th scope=col>leading_edge</th><th scope=col>core_enrichment</th></tr>\n",
       "\t<tr><th></th><th scope=col>&lt;chr&gt;</th><th scope=col>&lt;chr&gt;</th><th scope=col>&lt;int&gt;</th><th scope=col>&lt;dbl&gt;</th><th scope=col>&lt;dbl&gt;</th><th scope=col>&lt;dbl&gt;</th><th scope=col>&lt;dbl&gt;</th><th scope=col>&lt;dbl&gt;</th><th scope=col>&lt;int&gt;</th><th scope=col>&lt;chr&gt;</th><th scope=col>&lt;chr&gt;</th></tr>\n",
       "</thead>\n",
       "<tbody>\n",
       "\t<tr><th scope=row>1</th><td>cvn00270</td><td>Cysteine and methionine metabolism     </td><td>43</td><td> 0.5220963</td><td> 1.717776</td><td>0.003026136</td><td>0.3661625</td><td>0.3631363</td><td>1555</td><td>tags=30%, list=12%, signal=27%</td><td>111137596/111122141/111135192/111129934/111136621/111122163/111110831/111130865/111100699/111133693/111106176/111111318/111116065                                                                                                                                                      </td></tr>\n",
       "\t<tr><th scope=row>2</th><td>cvn00592</td><td>alpha-Linolenic acid metabolism        </td><td>11</td><td>-0.6794618</td><td>-1.741109</td><td>0.009046136</td><td>0.4181536</td><td>0.4146978</td><td>2277</td><td>tags=73%, list=17%, signal=60%</td><td>111123661/111124908/111136066/111136438/111107112/111115744/111113990/111127642                                                                                                                                                                                                        </td></tr>\n",
       "\t<tr><th scope=row>3</th><td>cvn03082</td><td>ATP-dependent chromatin remodeling     </td><td>69</td><td>-0.3769411</td><td>-1.506744</td><td>0.010367445</td><td>0.4181536</td><td>0.4146978</td><td>2797</td><td>tags=41%, list=21%, signal=32%</td><td>111120915/111120504/111136148/111135329/111132974/111118535/111130322/111119035/111099792/111114842/111105716/111134187/111123066/111128754/111130152/111125973/111118359/111108477/111129852/111128560/111120856/111120594/111127973/111127274/111114783/111128559/111105834/111133731</td></tr>\n",
       "\t<tr><th scope=row>4</th><td>cvn01040</td><td>Biosynthesis of unsaturated fatty acids</td><td>18</td><td>-0.5761533</td><td>-1.696737</td><td>0.016592268</td><td>0.5019161</td><td>0.4977680</td><td>2054</td><td>tags=50%, list=15%, signal=42%</td><td>111124908/111136066/111136438/111131209/111107112/111115744/111113990/111119293/111129730                                                                                                                                                                                              </td></tr>\n",
       "\t<tr><th scope=row>5</th><td>cvn00100</td><td>Steroid biosynthesis                   </td><td>10</td><td> 0.6506083</td><td> 1.480972</td><td>0.053763441</td><td>0.5681397</td><td>0.5634443</td><td>1767</td><td>tags=30%, list=13%, signal=26%</td><td>111134862/111134947/111112479                                                                                                                                                                                                                                                          </td></tr>\n",
       "\t<tr><th scope=row>6</th><td>cvn00510</td><td>N-Glycan biosynthesis                  </td><td>33</td><td>-0.4283362</td><td>-1.478479</td><td>0.061039803</td><td>0.5681397</td><td>0.5634443</td><td>3156</td><td>tags=45%, list=24%, signal=35%</td><td>111113415/111118581/111119558/111101820/111125632/111124588/111136555/111101197/111122131/111124498/111134828/111121994/111137033/111136571/111126213                                                                                                                                  </td></tr>\n",
       "</tbody>\n",
       "</table>\n"
      ],
      "text/latex": [
       "A data.frame: 6 × 11\n",
       "\\begin{tabular}{r|lllllllllll}\n",
       "  & ID & Description & setSize & enrichmentScore & NES & pvalue & p.adjust & qvalue & rank & leading\\_edge & core\\_enrichment\\\\\n",
       "  & <chr> & <chr> & <int> & <dbl> & <dbl> & <dbl> & <dbl> & <dbl> & <int> & <chr> & <chr>\\\\\n",
       "\\hline\n",
       "\t1 & cvn00270 & Cysteine and methionine metabolism      & 43 &  0.5220963 &  1.717776 & 0.003026136 & 0.3661625 & 0.3631363 & 1555 & tags=30\\%, list=12\\%, signal=27\\% & 111137596/111122141/111135192/111129934/111136621/111122163/111110831/111130865/111100699/111133693/111106176/111111318/111116065                                                                                                                                                      \\\\\n",
       "\t2 & cvn00592 & alpha-Linolenic acid metabolism         & 11 & -0.6794618 & -1.741109 & 0.009046136 & 0.4181536 & 0.4146978 & 2277 & tags=73\\%, list=17\\%, signal=60\\% & 111123661/111124908/111136066/111136438/111107112/111115744/111113990/111127642                                                                                                                                                                                                        \\\\\n",
       "\t3 & cvn03082 & ATP-dependent chromatin remodeling      & 69 & -0.3769411 & -1.506744 & 0.010367445 & 0.4181536 & 0.4146978 & 2797 & tags=41\\%, list=21\\%, signal=32\\% & 111120915/111120504/111136148/111135329/111132974/111118535/111130322/111119035/111099792/111114842/111105716/111134187/111123066/111128754/111130152/111125973/111118359/111108477/111129852/111128560/111120856/111120594/111127973/111127274/111114783/111128559/111105834/111133731\\\\\n",
       "\t4 & cvn01040 & Biosynthesis of unsaturated fatty acids & 18 & -0.5761533 & -1.696737 & 0.016592268 & 0.5019161 & 0.4977680 & 2054 & tags=50\\%, list=15\\%, signal=42\\% & 111124908/111136066/111136438/111131209/111107112/111115744/111113990/111119293/111129730                                                                                                                                                                                              \\\\\n",
       "\t5 & cvn00100 & Steroid biosynthesis                    & 10 &  0.6506083 &  1.480972 & 0.053763441 & 0.5681397 & 0.5634443 & 1767 & tags=30\\%, list=13\\%, signal=26\\% & 111134862/111134947/111112479                                                                                                                                                                                                                                                          \\\\\n",
       "\t6 & cvn00510 & N-Glycan biosynthesis                   & 33 & -0.4283362 & -1.478479 & 0.061039803 & 0.5681397 & 0.5634443 & 3156 & tags=45\\%, list=24\\%, signal=35\\% & 111113415/111118581/111119558/111101820/111125632/111124588/111136555/111101197/111122131/111124498/111134828/111121994/111137033/111136571/111126213                                                                                                                                  \\\\\n",
       "\\end{tabular}\n"
      ],
      "text/markdown": [
       "\n",
       "A data.frame: 6 × 11\n",
       "\n",
       "| <!--/--> | ID &lt;chr&gt; | Description &lt;chr&gt; | setSize &lt;int&gt; | enrichmentScore &lt;dbl&gt; | NES &lt;dbl&gt; | pvalue &lt;dbl&gt; | p.adjust &lt;dbl&gt; | qvalue &lt;dbl&gt; | rank &lt;int&gt; | leading_edge &lt;chr&gt; | core_enrichment &lt;chr&gt; |\n",
       "|---|---|---|---|---|---|---|---|---|---|---|---|\n",
       "| 1 | cvn00270 | Cysteine and methionine metabolism      | 43 |  0.5220963 |  1.717776 | 0.003026136 | 0.3661625 | 0.3631363 | 1555 | tags=30%, list=12%, signal=27% | 111137596/111122141/111135192/111129934/111136621/111122163/111110831/111130865/111100699/111133693/111106176/111111318/111116065                                                                                                                                                       |\n",
       "| 2 | cvn00592 | alpha-Linolenic acid metabolism         | 11 | -0.6794618 | -1.741109 | 0.009046136 | 0.4181536 | 0.4146978 | 2277 | tags=73%, list=17%, signal=60% | 111123661/111124908/111136066/111136438/111107112/111115744/111113990/111127642                                                                                                                                                                                                         |\n",
       "| 3 | cvn03082 | ATP-dependent chromatin remodeling      | 69 | -0.3769411 | -1.506744 | 0.010367445 | 0.4181536 | 0.4146978 | 2797 | tags=41%, list=21%, signal=32% | 111120915/111120504/111136148/111135329/111132974/111118535/111130322/111119035/111099792/111114842/111105716/111134187/111123066/111128754/111130152/111125973/111118359/111108477/111129852/111128560/111120856/111120594/111127973/111127274/111114783/111128559/111105834/111133731 |\n",
       "| 4 | cvn01040 | Biosynthesis of unsaturated fatty acids | 18 | -0.5761533 | -1.696737 | 0.016592268 | 0.5019161 | 0.4977680 | 2054 | tags=50%, list=15%, signal=42% | 111124908/111136066/111136438/111131209/111107112/111115744/111113990/111119293/111129730                                                                                                                                                                                               |\n",
       "| 5 | cvn00100 | Steroid biosynthesis                    | 10 |  0.6506083 |  1.480972 | 0.053763441 | 0.5681397 | 0.5634443 | 1767 | tags=30%, list=13%, signal=26% | 111134862/111134947/111112479                                                                                                                                                                                                                                                           |\n",
       "| 6 | cvn00510 | N-Glycan biosynthesis                   | 33 | -0.4283362 | -1.478479 | 0.061039803 | 0.5681397 | 0.5634443 | 3156 | tags=45%, list=24%, signal=35% | 111113415/111118581/111119558/111101820/111125632/111124588/111136555/111101197/111122131/111124498/111134828/111121994/111137033/111136571/111126213                                                                                                                                   |\n",
       "\n"
      ],
      "text/plain": [
       "  ID       Description                             setSize enrichmentScore\n",
       "1 cvn00270 Cysteine and methionine metabolism      43       0.5220963     \n",
       "2 cvn00592 alpha-Linolenic acid metabolism         11      -0.6794618     \n",
       "3 cvn03082 ATP-dependent chromatin remodeling      69      -0.3769411     \n",
       "4 cvn01040 Biosynthesis of unsaturated fatty acids 18      -0.5761533     \n",
       "5 cvn00100 Steroid biosynthesis                    10       0.6506083     \n",
       "6 cvn00510 N-Glycan biosynthesis                   33      -0.4283362     \n",
       "  NES       pvalue      p.adjust  qvalue    rank leading_edge                  \n",
       "1  1.717776 0.003026136 0.3661625 0.3631363 1555 tags=30%, list=12%, signal=27%\n",
       "2 -1.741109 0.009046136 0.4181536 0.4146978 2277 tags=73%, list=17%, signal=60%\n",
       "3 -1.506744 0.010367445 0.4181536 0.4146978 2797 tags=41%, list=21%, signal=32%\n",
       "4 -1.696737 0.016592268 0.5019161 0.4977680 2054 tags=50%, list=15%, signal=42%\n",
       "5  1.480972 0.053763441 0.5681397 0.5634443 1767 tags=30%, list=13%, signal=26%\n",
       "6 -1.478479 0.061039803 0.5681397 0.5634443 3156 tags=45%, list=24%, signal=35%\n",
       "  core_enrichment                                                                                                                                                                                                                                                                        \n",
       "1 111137596/111122141/111135192/111129934/111136621/111122163/111110831/111130865/111100699/111133693/111106176/111111318/111116065                                                                                                                                                      \n",
       "2 111123661/111124908/111136066/111136438/111107112/111115744/111113990/111127642                                                                                                                                                                                                        \n",
       "3 111120915/111120504/111136148/111135329/111132974/111118535/111130322/111119035/111099792/111114842/111105716/111134187/111123066/111128754/111130152/111125973/111118359/111108477/111129852/111128560/111120856/111120594/111127973/111127274/111114783/111128559/111105834/111133731\n",
       "4 111124908/111136066/111136438/111131209/111107112/111115744/111113990/111119293/111129730                                                                                                                                                                                              \n",
       "5 111134862/111134947/111112479                                                                                                                                                                                                                                                          \n",
       "6 111113415/111118581/111119558/111101820/111125632/111124588/111136555/111101197/111122131/111124498/111134828/111121994/111137033/111136571/111126213                                                                                                                                  "
      ]
     },
     "metadata": {},
     "output_type": "display_data"
    }
   ],
   "source": [
    "# load in csv file\n",
    "pathway <- read.csv('/project/pi_sarah_gignouxwolfsohn_uml_edu/julia/CE_MethylRAD_analysis_2018/analysis/enriched_pathways/p1hyp_p2hc_pathways.csv')\n",
    "\n",
    "# clean headers and columns\n",
    "pathway <- pathway[,-1]\n",
    "\n",
    "# checking dimensions\n",
    "dim(pathway) #121 pathways, 11 rows of info/meta data\n",
    "\n",
    "head(pathway)"
   ]
  },
  {
   "cell_type": "markdown",
   "id": "da63ab39-fef8-4ea5-987e-bb117d464356",
   "metadata": {},
   "source": [
    "loading in data frame that contains significant genes info for **phase 1 hypoxic, phase 2 is hypoxix or control**"
   ]
  },
  {
   "cell_type": "code",
   "execution_count": 16,
   "id": "6ea651aa-9a07-427e-aeaf-b146e00b647c",
   "metadata": {},
   "outputs": [
    {
     "data": {
      "text/html": [
       "<style>\n",
       ".list-inline {list-style: none; margin:0; padding: 0}\n",
       ".list-inline>li {display: inline-block}\n",
       ".list-inline>li:not(:last-child)::after {content: \"\\00b7\"; padding: 0 .5ex}\n",
       "</style>\n",
       "<ol class=list-inline><li>9525</li><li>9</li></ol>\n"
      ],
      "text/latex": [
       "\\begin{enumerate*}\n",
       "\\item 9525\n",
       "\\item 9\n",
       "\\end{enumerate*}\n"
      ],
      "text/markdown": [
       "1. 9525\n",
       "2. 9\n",
       "\n",
       "\n"
      ],
      "text/plain": [
       "[1] 9525    9"
      ]
     },
     "metadata": {},
     "output_type": "display_data"
    },
    {
     "data": {
      "text/html": [
       "<table class=\"dataframe\">\n",
       "<caption>A data.frame: 6 × 9</caption>\n",
       "<thead>\n",
       "\t<tr><th></th><th scope=col>X</th><th scope=col>baseMean</th><th scope=col>log2FoldChange</th><th scope=col>lfcSE</th><th scope=col>stat</th><th scope=col>pvalue</th><th scope=col>padj</th><th scope=col>phase1</th><th scope=col>more_me_in</th></tr>\n",
       "\t<tr><th></th><th scope=col>&lt;chr&gt;</th><th scope=col>&lt;dbl&gt;</th><th scope=col>&lt;dbl&gt;</th><th scope=col>&lt;dbl&gt;</th><th scope=col>&lt;dbl&gt;</th><th scope=col>&lt;dbl&gt;</th><th scope=col>&lt;dbl&gt;</th><th scope=col>&lt;chr&gt;</th><th scope=col>&lt;chr&gt;</th></tr>\n",
       "</thead>\n",
       "<tbody>\n",
       "\t<tr><th scope=row>1</th><td>LOC1111094521</td><td>  3.338687</td><td> 0.31180570</td><td>0.2956137</td><td>0.2090759</td><td>8.343890e-01</td><td>1.000000e+00</td><td>hypoxic</td><td>not significant</td></tr>\n",
       "\t<tr><th scope=row>2</th><td>LOC1111248021</td><td>316.608142</td><td>-0.07839417</td><td>0.1033729</td><td>0.0000000</td><td>1.000000e+00</td><td>1.000000e+00</td><td>hypoxic</td><td>not significant</td></tr>\n",
       "\t<tr><th scope=row>3</th><td>LOC1111012731</td><td>107.996235</td><td>-0.05650996</td><td>0.1242150</td><td>0.0000000</td><td>1.000000e+00</td><td>1.000000e+00</td><td>hypoxic</td><td>not significant</td></tr>\n",
       "\t<tr><th scope=row>4</th><td>LOC1111012501</td><td>171.639752</td><td>-0.04906065</td><td>0.1585186</td><td>0.0000000</td><td>1.000000e+00</td><td>1.000000e+00</td><td>hypoxic</td><td>not significant</td></tr>\n",
       "\t<tr><th scope=row>5</th><td>LOC1111012621</td><td>399.065246</td><td>-0.07049632</td><td>0.1311921</td><td>0.0000000</td><td>1.000000e+00</td><td>1.000000e+00</td><td>hypoxic</td><td>not significant</td></tr>\n",
       "\t<tr><th scope=row>6</th><td>LOC1111332601</td><td> 30.078658</td><td> 1.72346224</td><td>0.2533528</td><td>5.8158519</td><td>6.032586e-09</td><td>3.591274e-06</td><td>hypoxic</td><td>hypoxic        </td></tr>\n",
       "</tbody>\n",
       "</table>\n"
      ],
      "text/latex": [
       "A data.frame: 6 × 9\n",
       "\\begin{tabular}{r|lllllllll}\n",
       "  & X & baseMean & log2FoldChange & lfcSE & stat & pvalue & padj & phase1 & more\\_me\\_in\\\\\n",
       "  & <chr> & <dbl> & <dbl> & <dbl> & <dbl> & <dbl> & <dbl> & <chr> & <chr>\\\\\n",
       "\\hline\n",
       "\t1 & LOC1111094521 &   3.338687 &  0.31180570 & 0.2956137 & 0.2090759 & 8.343890e-01 & 1.000000e+00 & hypoxic & not significant\\\\\n",
       "\t2 & LOC1111248021 & 316.608142 & -0.07839417 & 0.1033729 & 0.0000000 & 1.000000e+00 & 1.000000e+00 & hypoxic & not significant\\\\\n",
       "\t3 & LOC1111012731 & 107.996235 & -0.05650996 & 0.1242150 & 0.0000000 & 1.000000e+00 & 1.000000e+00 & hypoxic & not significant\\\\\n",
       "\t4 & LOC1111012501 & 171.639752 & -0.04906065 & 0.1585186 & 0.0000000 & 1.000000e+00 & 1.000000e+00 & hypoxic & not significant\\\\\n",
       "\t5 & LOC1111012621 & 399.065246 & -0.07049632 & 0.1311921 & 0.0000000 & 1.000000e+00 & 1.000000e+00 & hypoxic & not significant\\\\\n",
       "\t6 & LOC1111332601 &  30.078658 &  1.72346224 & 0.2533528 & 5.8158519 & 6.032586e-09 & 3.591274e-06 & hypoxic & hypoxic        \\\\\n",
       "\\end{tabular}\n"
      ],
      "text/markdown": [
       "\n",
       "A data.frame: 6 × 9\n",
       "\n",
       "| <!--/--> | X &lt;chr&gt; | baseMean &lt;dbl&gt; | log2FoldChange &lt;dbl&gt; | lfcSE &lt;dbl&gt; | stat &lt;dbl&gt; | pvalue &lt;dbl&gt; | padj &lt;dbl&gt; | phase1 &lt;chr&gt; | more_me_in &lt;chr&gt; |\n",
       "|---|---|---|---|---|---|---|---|---|---|\n",
       "| 1 | LOC1111094521 |   3.338687 |  0.31180570 | 0.2956137 | 0.2090759 | 8.343890e-01 | 1.000000e+00 | hypoxic | not significant |\n",
       "| 2 | LOC1111248021 | 316.608142 | -0.07839417 | 0.1033729 | 0.0000000 | 1.000000e+00 | 1.000000e+00 | hypoxic | not significant |\n",
       "| 3 | LOC1111012731 | 107.996235 | -0.05650996 | 0.1242150 | 0.0000000 | 1.000000e+00 | 1.000000e+00 | hypoxic | not significant |\n",
       "| 4 | LOC1111012501 | 171.639752 | -0.04906065 | 0.1585186 | 0.0000000 | 1.000000e+00 | 1.000000e+00 | hypoxic | not significant |\n",
       "| 5 | LOC1111012621 | 399.065246 | -0.07049632 | 0.1311921 | 0.0000000 | 1.000000e+00 | 1.000000e+00 | hypoxic | not significant |\n",
       "| 6 | LOC1111332601 |  30.078658 |  1.72346224 | 0.2533528 | 5.8158519 | 6.032586e-09 | 3.591274e-06 | hypoxic | hypoxic         |\n",
       "\n"
      ],
      "text/plain": [
       "  X             baseMean   log2FoldChange lfcSE     stat      pvalue      \n",
       "1 LOC1111094521   3.338687  0.31180570    0.2956137 0.2090759 8.343890e-01\n",
       "2 LOC1111248021 316.608142 -0.07839417    0.1033729 0.0000000 1.000000e+00\n",
       "3 LOC1111012731 107.996235 -0.05650996    0.1242150 0.0000000 1.000000e+00\n",
       "4 LOC1111012501 171.639752 -0.04906065    0.1585186 0.0000000 1.000000e+00\n",
       "5 LOC1111012621 399.065246 -0.07049632    0.1311921 0.0000000 1.000000e+00\n",
       "6 LOC1111332601  30.078658  1.72346224    0.2533528 5.8158519 6.032586e-09\n",
       "  padj         phase1  more_me_in     \n",
       "1 1.000000e+00 hypoxic not significant\n",
       "2 1.000000e+00 hypoxic not significant\n",
       "3 1.000000e+00 hypoxic not significant\n",
       "4 1.000000e+00 hypoxic not significant\n",
       "5 1.000000e+00 hypoxic not significant\n",
       "6 3.591274e-06 hypoxic hypoxic        "
      ]
     },
     "metadata": {},
     "output_type": "display_data"
    }
   ],
   "source": [
    "# load data frame\n",
    "genes <- read.csv('/project/pi_sarah_gignouxwolfsohn_uml_edu/julia/CE_MethylRAD_analysis_2018/analysis/significant_genes/volcano_data/phase1_ce_genes.csv')\n",
    "\n",
    "# only want data for samples that were hypoxic for phase 1\n",
    "genes_h <- filter(genes, genes$phase1 == 'hypoxic')\n",
    "\n",
    "dim(genes_h)\n",
    "head(genes_h)"
   ]
  },
  {
   "cell_type": "code",
   "execution_count": 17,
   "id": "b2a8fb0b-a6d0-4e82-ab51-957921f4249a",
   "metadata": {},
   "outputs": [
    {
     "data": {
      "text/html": [
       "<style>\n",
       ".list-inline {list-style: none; margin:0; padding: 0}\n",
       ".list-inline>li {display: inline-block}\n",
       ".list-inline>li:not(:last-child)::after {content: \"\\00b7\"; padding: 0 .5ex}\n",
       "</style>\n",
       "<ol class=list-inline><li>231</li><li>3</li></ol>\n"
      ],
      "text/latex": [
       "\\begin{enumerate*}\n",
       "\\item 231\n",
       "\\item 3\n",
       "\\end{enumerate*}\n"
      ],
      "text/markdown": [
       "1. 231\n",
       "2. 3\n",
       "\n",
       "\n"
      ],
      "text/plain": [
       "[1] 231   3"
      ]
     },
     "metadata": {},
     "output_type": "display_data"
    },
    {
     "data": {
      "text/html": [
       "<table class=\"dataframe\">\n",
       "<caption>A data.frame: 6 × 3</caption>\n",
       "<thead>\n",
       "\t<tr><th></th><th scope=col>gene</th><th scope=col>lfc</th><th scope=col>padj</th></tr>\n",
       "\t<tr><th></th><th scope=col>&lt;chr&gt;</th><th scope=col>&lt;dbl&gt;</th><th scope=col>&lt;dbl&gt;</th></tr>\n",
       "</thead>\n",
       "<tbody>\n",
       "\t<tr><th scope=row>1</th><td>1111332601</td><td>1.723462</td><td>3.591274e-06</td></tr>\n",
       "\t<tr><th scope=row>2</th><td>1111098091</td><td>1.986564</td><td>1.406264e-03</td></tr>\n",
       "\t<tr><th scope=row>3</th><td>1111041531</td><td>1.441954</td><td>3.547060e-03</td></tr>\n",
       "\t<tr><th scope=row>4</th><td>1111283141</td><td>1.404023</td><td>7.499595e-03</td></tr>\n",
       "\t<tr><th scope=row>5</th><td>1111287841</td><td>1.968813</td><td>1.655392e-03</td></tr>\n",
       "\t<tr><th scope=row>6</th><td>1111130221</td><td>1.254941</td><td>2.726499e-02</td></tr>\n",
       "</tbody>\n",
       "</table>\n"
      ],
      "text/latex": [
       "A data.frame: 6 × 3\n",
       "\\begin{tabular}{r|lll}\n",
       "  & gene & lfc & padj\\\\\n",
       "  & <chr> & <dbl> & <dbl>\\\\\n",
       "\\hline\n",
       "\t1 & 1111332601 & 1.723462 & 3.591274e-06\\\\\n",
       "\t2 & 1111098091 & 1.986564 & 1.406264e-03\\\\\n",
       "\t3 & 1111041531 & 1.441954 & 3.547060e-03\\\\\n",
       "\t4 & 1111283141 & 1.404023 & 7.499595e-03\\\\\n",
       "\t5 & 1111287841 & 1.968813 & 1.655392e-03\\\\\n",
       "\t6 & 1111130221 & 1.254941 & 2.726499e-02\\\\\n",
       "\\end{tabular}\n"
      ],
      "text/markdown": [
       "\n",
       "A data.frame: 6 × 3\n",
       "\n",
       "| <!--/--> | gene &lt;chr&gt; | lfc &lt;dbl&gt; | padj &lt;dbl&gt; |\n",
       "|---|---|---|---|\n",
       "| 1 | 1111332601 | 1.723462 | 3.591274e-06 |\n",
       "| 2 | 1111098091 | 1.986564 | 1.406264e-03 |\n",
       "| 3 | 1111041531 | 1.441954 | 3.547060e-03 |\n",
       "| 4 | 1111283141 | 1.404023 | 7.499595e-03 |\n",
       "| 5 | 1111287841 | 1.968813 | 1.655392e-03 |\n",
       "| 6 | 1111130221 | 1.254941 | 2.726499e-02 |\n",
       "\n"
      ],
      "text/plain": [
       "  gene       lfc      padj        \n",
       "1 1111332601 1.723462 3.591274e-06\n",
       "2 1111098091 1.986564 1.406264e-03\n",
       "3 1111041531 1.441954 3.547060e-03\n",
       "4 1111283141 1.404023 7.499595e-03\n",
       "5 1111287841 1.968813 1.655392e-03\n",
       "6 1111130221 1.254941 2.726499e-02"
      ]
     },
     "metadata": {},
     "output_type": "display_data"
    }
   ],
   "source": [
    "# KEGG uses entrez IDs, which are my ensembl IDs without the 'LOC' in front of them, so need to convert those\n",
    "genes_h$X <- substr(genes_h$X, start = 4, stop = nchar(genes_h$X))\n",
    "\n",
    "# only grabbing the columns I care about\n",
    "genes_h <- select(genes_h, X, log2FoldChange, padj)\n",
    "\n",
    "# renaming columns to make more sense\n",
    "colnames(genes_h) <- c('gene', 'lfc', 'padj')\n",
    "\n",
    "# only selecting significant genes\n",
    "genes_h <- filter(genes_h, genes_h$padj < 0.05)\n",
    "\n",
    "# checking dimensions\n",
    "dim(genes_h) # 231 sig DMGs\n",
    "\n",
    "head(genes_h)"
   ]
  },
  {
   "cell_type": "markdown",
   "id": "dccbdd50-5289-43a7-be8e-505d1fcb3e44",
   "metadata": {
    "tags": []
   },
   "source": [
    "#### III. Are the signficant genes in the core enrichment of the pathways?\n",
    "Taking our list of siginificant genes, and going line by line in our pathways to see if our sig. gene matches any of the core enrichment genes\n",
    "\n",
    "the code below will add a column to my dataframe that contains the number of significant DMGs that match the core enrichment for that pathway"
   ]
  },
  {
   "cell_type": "code",
   "execution_count": 19,
   "id": "e34addd7-f31c-4c8b-9326-26a92b0b7197",
   "metadata": {},
   "outputs": [
    {
     "data": {
      "text/html": [
       "<table class=\"dataframe\">\n",
       "<caption>A data.frame: 6 × 12</caption>\n",
       "<thead>\n",
       "\t<tr><th></th><th scope=col>ID</th><th scope=col>Description</th><th scope=col>setSize</th><th scope=col>enrichmentScore</th><th scope=col>NES</th><th scope=col>pvalue</th><th scope=col>p.adjust</th><th scope=col>qvalue</th><th scope=col>rank</th><th scope=col>leading_edge</th><th scope=col>core_enrichment</th><th scope=col>MatchesCount</th></tr>\n",
       "\t<tr><th></th><th scope=col>&lt;chr&gt;</th><th scope=col>&lt;chr&gt;</th><th scope=col>&lt;int&gt;</th><th scope=col>&lt;dbl&gt;</th><th scope=col>&lt;dbl&gt;</th><th scope=col>&lt;dbl&gt;</th><th scope=col>&lt;dbl&gt;</th><th scope=col>&lt;dbl&gt;</th><th scope=col>&lt;int&gt;</th><th scope=col>&lt;chr&gt;</th><th scope=col>&lt;chr&gt;</th><th scope=col>&lt;int&gt;</th></tr>\n",
       "</thead>\n",
       "<tbody>\n",
       "\t<tr><th scope=row>1</th><td>cvn00270</td><td>Cysteine and methionine metabolism     </td><td>43</td><td> 0.5220963</td><td> 1.717776</td><td>0.003026136</td><td>0.3661625</td><td>0.3631363</td><td>1555</td><td>tags=30%, list=12%, signal=27%</td><td>111137596/111122141/111135192/111129934/111136621/111122163/111110831/111130865/111100699/111133693/111106176/111111318/111116065                                                                                                                                                      </td><td>0</td></tr>\n",
       "\t<tr><th scope=row>2</th><td>cvn00592</td><td>alpha-Linolenic acid metabolism        </td><td>11</td><td>-0.6794618</td><td>-1.741109</td><td>0.009046136</td><td>0.4181536</td><td>0.4146978</td><td>2277</td><td>tags=73%, list=17%, signal=60%</td><td>111123661/111124908/111136066/111136438/111107112/111115744/111113990/111127642                                                                                                                                                                                                        </td><td>0</td></tr>\n",
       "\t<tr><th scope=row>3</th><td>cvn03082</td><td>ATP-dependent chromatin remodeling     </td><td>69</td><td>-0.3769411</td><td>-1.506744</td><td>0.010367445</td><td>0.4181536</td><td>0.4146978</td><td>2797</td><td>tags=41%, list=21%, signal=32%</td><td>111120915/111120504/111136148/111135329/111132974/111118535/111130322/111119035/111099792/111114842/111105716/111134187/111123066/111128754/111130152/111125973/111118359/111108477/111129852/111128560/111120856/111120594/111127973/111127274/111114783/111128559/111105834/111133731</td><td>0</td></tr>\n",
       "\t<tr><th scope=row>4</th><td>cvn01040</td><td>Biosynthesis of unsaturated fatty acids</td><td>18</td><td>-0.5761533</td><td>-1.696737</td><td>0.016592268</td><td>0.5019161</td><td>0.4977680</td><td>2054</td><td>tags=50%, list=15%, signal=42%</td><td>111124908/111136066/111136438/111131209/111107112/111115744/111113990/111119293/111129730                                                                                                                                                                                              </td><td>0</td></tr>\n",
       "\t<tr><th scope=row>5</th><td>cvn00100</td><td>Steroid biosynthesis                   </td><td>10</td><td> 0.6506083</td><td> 1.480972</td><td>0.053763441</td><td>0.5681397</td><td>0.5634443</td><td>1767</td><td>tags=30%, list=13%, signal=26%</td><td>111134862/111134947/111112479                                                                                                                                                                                                                                                          </td><td>0</td></tr>\n",
       "\t<tr><th scope=row>6</th><td>cvn00510</td><td>N-Glycan biosynthesis                  </td><td>33</td><td>-0.4283362</td><td>-1.478479</td><td>0.061039803</td><td>0.5681397</td><td>0.5634443</td><td>3156</td><td>tags=45%, list=24%, signal=35%</td><td>111113415/111118581/111119558/111101820/111125632/111124588/111136555/111101197/111122131/111124498/111134828/111121994/111137033/111136571/111126213                                                                                                                                  </td><td>0</td></tr>\n",
       "</tbody>\n",
       "</table>\n"
      ],
      "text/latex": [
       "A data.frame: 6 × 12\n",
       "\\begin{tabular}{r|llllllllllll}\n",
       "  & ID & Description & setSize & enrichmentScore & NES & pvalue & p.adjust & qvalue & rank & leading\\_edge & core\\_enrichment & MatchesCount\\\\\n",
       "  & <chr> & <chr> & <int> & <dbl> & <dbl> & <dbl> & <dbl> & <dbl> & <int> & <chr> & <chr> & <int>\\\\\n",
       "\\hline\n",
       "\t1 & cvn00270 & Cysteine and methionine metabolism      & 43 &  0.5220963 &  1.717776 & 0.003026136 & 0.3661625 & 0.3631363 & 1555 & tags=30\\%, list=12\\%, signal=27\\% & 111137596/111122141/111135192/111129934/111136621/111122163/111110831/111130865/111100699/111133693/111106176/111111318/111116065                                                                                                                                                       & 0\\\\\n",
       "\t2 & cvn00592 & alpha-Linolenic acid metabolism         & 11 & -0.6794618 & -1.741109 & 0.009046136 & 0.4181536 & 0.4146978 & 2277 & tags=73\\%, list=17\\%, signal=60\\% & 111123661/111124908/111136066/111136438/111107112/111115744/111113990/111127642                                                                                                                                                                                                         & 0\\\\\n",
       "\t3 & cvn03082 & ATP-dependent chromatin remodeling      & 69 & -0.3769411 & -1.506744 & 0.010367445 & 0.4181536 & 0.4146978 & 2797 & tags=41\\%, list=21\\%, signal=32\\% & 111120915/111120504/111136148/111135329/111132974/111118535/111130322/111119035/111099792/111114842/111105716/111134187/111123066/111128754/111130152/111125973/111118359/111108477/111129852/111128560/111120856/111120594/111127973/111127274/111114783/111128559/111105834/111133731 & 0\\\\\n",
       "\t4 & cvn01040 & Biosynthesis of unsaturated fatty acids & 18 & -0.5761533 & -1.696737 & 0.016592268 & 0.5019161 & 0.4977680 & 2054 & tags=50\\%, list=15\\%, signal=42\\% & 111124908/111136066/111136438/111131209/111107112/111115744/111113990/111119293/111129730                                                                                                                                                                                               & 0\\\\\n",
       "\t5 & cvn00100 & Steroid biosynthesis                    & 10 &  0.6506083 &  1.480972 & 0.053763441 & 0.5681397 & 0.5634443 & 1767 & tags=30\\%, list=13\\%, signal=26\\% & 111134862/111134947/111112479                                                                                                                                                                                                                                                           & 0\\\\\n",
       "\t6 & cvn00510 & N-Glycan biosynthesis                   & 33 & -0.4283362 & -1.478479 & 0.061039803 & 0.5681397 & 0.5634443 & 3156 & tags=45\\%, list=24\\%, signal=35\\% & 111113415/111118581/111119558/111101820/111125632/111124588/111136555/111101197/111122131/111124498/111134828/111121994/111137033/111136571/111126213                                                                                                                                   & 0\\\\\n",
       "\\end{tabular}\n"
      ],
      "text/markdown": [
       "\n",
       "A data.frame: 6 × 12\n",
       "\n",
       "| <!--/--> | ID &lt;chr&gt; | Description &lt;chr&gt; | setSize &lt;int&gt; | enrichmentScore &lt;dbl&gt; | NES &lt;dbl&gt; | pvalue &lt;dbl&gt; | p.adjust &lt;dbl&gt; | qvalue &lt;dbl&gt; | rank &lt;int&gt; | leading_edge &lt;chr&gt; | core_enrichment &lt;chr&gt; | MatchesCount &lt;int&gt; |\n",
       "|---|---|---|---|---|---|---|---|---|---|---|---|---|\n",
       "| 1 | cvn00270 | Cysteine and methionine metabolism      | 43 |  0.5220963 |  1.717776 | 0.003026136 | 0.3661625 | 0.3631363 | 1555 | tags=30%, list=12%, signal=27% | 111137596/111122141/111135192/111129934/111136621/111122163/111110831/111130865/111100699/111133693/111106176/111111318/111116065                                                                                                                                                       | 0 |\n",
       "| 2 | cvn00592 | alpha-Linolenic acid metabolism         | 11 | -0.6794618 | -1.741109 | 0.009046136 | 0.4181536 | 0.4146978 | 2277 | tags=73%, list=17%, signal=60% | 111123661/111124908/111136066/111136438/111107112/111115744/111113990/111127642                                                                                                                                                                                                         | 0 |\n",
       "| 3 | cvn03082 | ATP-dependent chromatin remodeling      | 69 | -0.3769411 | -1.506744 | 0.010367445 | 0.4181536 | 0.4146978 | 2797 | tags=41%, list=21%, signal=32% | 111120915/111120504/111136148/111135329/111132974/111118535/111130322/111119035/111099792/111114842/111105716/111134187/111123066/111128754/111130152/111125973/111118359/111108477/111129852/111128560/111120856/111120594/111127973/111127274/111114783/111128559/111105834/111133731 | 0 |\n",
       "| 4 | cvn01040 | Biosynthesis of unsaturated fatty acids | 18 | -0.5761533 | -1.696737 | 0.016592268 | 0.5019161 | 0.4977680 | 2054 | tags=50%, list=15%, signal=42% | 111124908/111136066/111136438/111131209/111107112/111115744/111113990/111119293/111129730                                                                                                                                                                                               | 0 |\n",
       "| 5 | cvn00100 | Steroid biosynthesis                    | 10 |  0.6506083 |  1.480972 | 0.053763441 | 0.5681397 | 0.5634443 | 1767 | tags=30%, list=13%, signal=26% | 111134862/111134947/111112479                                                                                                                                                                                                                                                           | 0 |\n",
       "| 6 | cvn00510 | N-Glycan biosynthesis                   | 33 | -0.4283362 | -1.478479 | 0.061039803 | 0.5681397 | 0.5634443 | 3156 | tags=45%, list=24%, signal=35% | 111113415/111118581/111119558/111101820/111125632/111124588/111136555/111101197/111122131/111124498/111134828/111121994/111137033/111136571/111126213                                                                                                                                   | 0 |\n",
       "\n"
      ],
      "text/plain": [
       "  ID       Description                             setSize enrichmentScore\n",
       "1 cvn00270 Cysteine and methionine metabolism      43       0.5220963     \n",
       "2 cvn00592 alpha-Linolenic acid metabolism         11      -0.6794618     \n",
       "3 cvn03082 ATP-dependent chromatin remodeling      69      -0.3769411     \n",
       "4 cvn01040 Biosynthesis of unsaturated fatty acids 18      -0.5761533     \n",
       "5 cvn00100 Steroid biosynthesis                    10       0.6506083     \n",
       "6 cvn00510 N-Glycan biosynthesis                   33      -0.4283362     \n",
       "  NES       pvalue      p.adjust  qvalue    rank leading_edge                  \n",
       "1  1.717776 0.003026136 0.3661625 0.3631363 1555 tags=30%, list=12%, signal=27%\n",
       "2 -1.741109 0.009046136 0.4181536 0.4146978 2277 tags=73%, list=17%, signal=60%\n",
       "3 -1.506744 0.010367445 0.4181536 0.4146978 2797 tags=41%, list=21%, signal=32%\n",
       "4 -1.696737 0.016592268 0.5019161 0.4977680 2054 tags=50%, list=15%, signal=42%\n",
       "5  1.480972 0.053763441 0.5681397 0.5634443 1767 tags=30%, list=13%, signal=26%\n",
       "6 -1.478479 0.061039803 0.5681397 0.5634443 3156 tags=45%, list=24%, signal=35%\n",
       "  core_enrichment                                                                                                                                                                                                                                                                        \n",
       "1 111137596/111122141/111135192/111129934/111136621/111122163/111110831/111130865/111100699/111133693/111106176/111111318/111116065                                                                                                                                                      \n",
       "2 111123661/111124908/111136066/111136438/111107112/111115744/111113990/111127642                                                                                                                                                                                                        \n",
       "3 111120915/111120504/111136148/111135329/111132974/111118535/111130322/111119035/111099792/111114842/111105716/111134187/111123066/111128754/111130152/111125973/111118359/111108477/111129852/111128560/111120856/111120594/111127973/111127274/111114783/111128559/111105834/111133731\n",
       "4 111124908/111136066/111136438/111131209/111107112/111115744/111113990/111119293/111129730                                                                                                                                                                                              \n",
       "5 111134862/111134947/111112479                                                                                                                                                                                                                                                          \n",
       "6 111113415/111118581/111119558/111101820/111125632/111124588/111136555/111101197/111122131/111124498/111134828/111121994/111137033/111136571/111126213                                                                                                                                  \n",
       "  MatchesCount\n",
       "1 0           \n",
       "2 0           \n",
       "3 0           \n",
       "4 0           \n",
       "5 0           \n",
       "6 0           "
      ]
     },
     "metadata": {},
     "output_type": "display_data"
    }
   ],
   "source": [
    "# generated from ChatGPT\n",
    "\n",
    "# Sample dataframes\n",
    "df1 <- genes_h\n",
    "df2 <- pathway\n",
    "\n",
    "# Function to check if any gene in df1 matches genes in a row of df2\n",
    "get_gene_matches <- function(row_df2, df1_genes) {\n",
    "  genes2 <- unlist(strsplit(as.character(row_df2), \"/\"))\n",
    "  count <- sum(genes2 %in% df1_genes)\n",
    "  return(count)\n",
    "}\n",
    "\n",
    "# Iterate over each row of df2\n",
    "matches_count <- sapply(df2$core_enrichment, get_gene_matches, df1_genes = df1$gene)\n",
    "\n",
    "# Add the matches count to df2\n",
    "df2$MatchesCount <- matches_count\n",
    "\n",
    "# Sort df with highest match counts at the top\n",
    "gene_pathway_match <- df2[order(-df2$MatchesCount),]\n",
    "head(gene_pathway_match)\n"
   ]
  },
  {
   "cell_type": "markdown",
   "id": "b3347bb1-431a-4f35-a3c0-afa88e30554b",
   "metadata": {},
   "source": [
    "above returns just the ***number*** of significant genes in the core enrichment for each pathway\n",
    "\n",
    "below returns the ***percent*** of significant genes in the core enrichment\n",
    "\n",
    "it's interesting that the percent returns a much different top 5 ... maybe this is the better way to do it?"
   ]
  },
  {
   "cell_type": "code",
   "execution_count": 20,
   "id": "cf544f0c-8d38-42cc-973c-36968ba53835",
   "metadata": {},
   "outputs": [
    {
     "data": {
      "text/html": [
       "<table class=\"dataframe\">\n",
       "<caption>A data.frame: 10 × 12</caption>\n",
       "<thead>\n",
       "\t<tr><th></th><th scope=col>ID</th><th scope=col>Description</th><th scope=col>setSize</th><th scope=col>enrichmentScore</th><th scope=col>NES</th><th scope=col>pvalue</th><th scope=col>p.adjust</th><th scope=col>qvalue</th><th scope=col>rank</th><th scope=col>leading_edge</th><th scope=col>core_enrichment</th><th scope=col>MatchesPercentage</th></tr>\n",
       "\t<tr><th></th><th scope=col>&lt;chr&gt;</th><th scope=col>&lt;chr&gt;</th><th scope=col>&lt;int&gt;</th><th scope=col>&lt;dbl&gt;</th><th scope=col>&lt;dbl&gt;</th><th scope=col>&lt;dbl&gt;</th><th scope=col>&lt;dbl&gt;</th><th scope=col>&lt;dbl&gt;</th><th scope=col>&lt;int&gt;</th><th scope=col>&lt;chr&gt;</th><th scope=col>&lt;chr&gt;</th><th scope=col>&lt;dbl&gt;</th></tr>\n",
       "</thead>\n",
       "<tbody>\n",
       "\t<tr><th scope=row>1</th><td>cvn00270</td><td>Cysteine and methionine metabolism     </td><td> 43</td><td> 0.5220963</td><td> 1.717776</td><td>0.003026136</td><td>0.3661625</td><td>0.3631363</td><td>1555</td><td>tags=30%, list=12%, signal=27%</td><td>111137596/111122141/111135192/111129934/111136621/111122163/111110831/111130865/111100699/111133693/111106176/111111318/111116065                                                                                                                                                                                                                                                                              </td><td>0</td></tr>\n",
       "\t<tr><th scope=row>2</th><td>cvn00592</td><td>alpha-Linolenic acid metabolism        </td><td> 11</td><td>-0.6794618</td><td>-1.741109</td><td>0.009046136</td><td>0.4181536</td><td>0.4146978</td><td>2277</td><td>tags=73%, list=17%, signal=60%</td><td>111123661/111124908/111136066/111136438/111107112/111115744/111113990/111127642                                                                                                                                                                                                                                                                                                                                </td><td>0</td></tr>\n",
       "\t<tr><th scope=row>3</th><td>cvn03082</td><td>ATP-dependent chromatin remodeling     </td><td> 69</td><td>-0.3769411</td><td>-1.506744</td><td>0.010367445</td><td>0.4181536</td><td>0.4146978</td><td>2797</td><td>tags=41%, list=21%, signal=32%</td><td>111120915/111120504/111136148/111135329/111132974/111118535/111130322/111119035/111099792/111114842/111105716/111134187/111123066/111128754/111130152/111125973/111118359/111108477/111129852/111128560/111120856/111120594/111127973/111127274/111114783/111128559/111105834/111133731                                                                                                                        </td><td>0</td></tr>\n",
       "\t<tr><th scope=row>4</th><td>cvn01040</td><td>Biosynthesis of unsaturated fatty acids</td><td> 18</td><td>-0.5761533</td><td>-1.696737</td><td>0.016592268</td><td>0.5019161</td><td>0.4977680</td><td>2054</td><td>tags=50%, list=15%, signal=42%</td><td>111124908/111136066/111136438/111131209/111107112/111115744/111113990/111119293/111129730                                                                                                                                                                                                                                                                                                                      </td><td>0</td></tr>\n",
       "\t<tr><th scope=row>5</th><td>cvn00100</td><td>Steroid biosynthesis                   </td><td> 10</td><td> 0.6506083</td><td> 1.480972</td><td>0.053763441</td><td>0.5681397</td><td>0.5634443</td><td>1767</td><td>tags=30%, list=13%, signal=26%</td><td>111134862/111134947/111112479                                                                                                                                                                                                                                                                                                                                                                                  </td><td>0</td></tr>\n",
       "\t<tr><th scope=row>6</th><td>cvn00510</td><td>N-Glycan biosynthesis                  </td><td> 33</td><td>-0.4283362</td><td>-1.478479</td><td>0.061039803</td><td>0.5681397</td><td>0.5634443</td><td>3156</td><td>tags=45%, list=24%, signal=35%</td><td>111113415/111118581/111119558/111101820/111125632/111124588/111136555/111101197/111122131/111124498/111134828/111121994/111137033/111136571/111126213                                                                                                                                                                                                                                                          </td><td>0</td></tr>\n",
       "\t<tr><th scope=row>7</th><td>cvn00860</td><td>Porphyrin metabolism                   </td><td> 18</td><td> 0.5385620</td><td> 1.464175</td><td>0.057046980</td><td>0.5681397</td><td>0.5634443</td><td> 324</td><td>tags=22%, list=2%, signal=22% </td><td>111111231/111120634/111104407/111117758                                                                                                                                                                                                                                                                                                                                                                        </td><td>0</td></tr>\n",
       "\t<tr><th scope=row>8</th><td>cvn03460</td><td>Fanconi anemia pathway                 </td><td> 41</td><td> 0.4485237</td><td> 1.453826</td><td>0.038226300</td><td>0.5681397</td><td>0.5634443</td><td>2809</td><td>tags=34%, list=21%, signal=27%</td><td>111122179/111128124/111126926/111136867/111131048/111119232/111130580/111118905/111113980/111131835/111133998/111108639/111119126/111102631                                                                                                                                                                                                                                                                    </td><td>0</td></tr>\n",
       "\t<tr><th scope=row>9</th><td>cvn00514</td><td>Other types of O-glycan biosynthesis   </td><td> 29</td><td> 0.4717735</td><td> 1.436501</td><td>0.057416268</td><td>0.5681397</td><td>0.5634443</td><td>1855</td><td>tags=34%, list=14%, signal=30%</td><td>111128050/111129166/111112794/111125659/111126140/111118200/111136634/111129961/111110946/111122340                                                                                                                                                                                                                                                                                                            </td><td>0</td></tr>\n",
       "\t<tr><th scope=row>10</th><td>cvn04120</td><td>Ubiquitin mediated proteolysis         </td><td>117</td><td> 0.3668674</td><td> 1.432290</td><td>0.030278099</td><td>0.5681397</td><td>0.5634443</td><td>3046</td><td>tags=34%, list=23%, signal=27%</td><td>111121155/111099688/111100396/111104196/111120860/111137343/111135325/111131129/111119134/111105597/111138340/111104637/111124955/111129295/111105462/111130310/111114538/111102530/111136470/111103790/111120632/111123155/111130966/111110185/111103787/111103271/111120128/111121135/111120086/111128926/111133998/111129467/111132898/111100417/111104077/111121443/111128564/111126002/111103982/111129365</td><td>0</td></tr>\n",
       "</tbody>\n",
       "</table>\n"
      ],
      "text/latex": [
       "A data.frame: 10 × 12\n",
       "\\begin{tabular}{r|llllllllllll}\n",
       "  & ID & Description & setSize & enrichmentScore & NES & pvalue & p.adjust & qvalue & rank & leading\\_edge & core\\_enrichment & MatchesPercentage\\\\\n",
       "  & <chr> & <chr> & <int> & <dbl> & <dbl> & <dbl> & <dbl> & <dbl> & <int> & <chr> & <chr> & <dbl>\\\\\n",
       "\\hline\n",
       "\t1 & cvn00270 & Cysteine and methionine metabolism      &  43 &  0.5220963 &  1.717776 & 0.003026136 & 0.3661625 & 0.3631363 & 1555 & tags=30\\%, list=12\\%, signal=27\\% & 111137596/111122141/111135192/111129934/111136621/111122163/111110831/111130865/111100699/111133693/111106176/111111318/111116065                                                                                                                                                                                                                                                                               & 0\\\\\n",
       "\t2 & cvn00592 & alpha-Linolenic acid metabolism         &  11 & -0.6794618 & -1.741109 & 0.009046136 & 0.4181536 & 0.4146978 & 2277 & tags=73\\%, list=17\\%, signal=60\\% & 111123661/111124908/111136066/111136438/111107112/111115744/111113990/111127642                                                                                                                                                                                                                                                                                                                                 & 0\\\\\n",
       "\t3 & cvn03082 & ATP-dependent chromatin remodeling      &  69 & -0.3769411 & -1.506744 & 0.010367445 & 0.4181536 & 0.4146978 & 2797 & tags=41\\%, list=21\\%, signal=32\\% & 111120915/111120504/111136148/111135329/111132974/111118535/111130322/111119035/111099792/111114842/111105716/111134187/111123066/111128754/111130152/111125973/111118359/111108477/111129852/111128560/111120856/111120594/111127973/111127274/111114783/111128559/111105834/111133731                                                                                                                         & 0\\\\\n",
       "\t4 & cvn01040 & Biosynthesis of unsaturated fatty acids &  18 & -0.5761533 & -1.696737 & 0.016592268 & 0.5019161 & 0.4977680 & 2054 & tags=50\\%, list=15\\%, signal=42\\% & 111124908/111136066/111136438/111131209/111107112/111115744/111113990/111119293/111129730                                                                                                                                                                                                                                                                                                                       & 0\\\\\n",
       "\t5 & cvn00100 & Steroid biosynthesis                    &  10 &  0.6506083 &  1.480972 & 0.053763441 & 0.5681397 & 0.5634443 & 1767 & tags=30\\%, list=13\\%, signal=26\\% & 111134862/111134947/111112479                                                                                                                                                                                                                                                                                                                                                                                   & 0\\\\\n",
       "\t6 & cvn00510 & N-Glycan biosynthesis                   &  33 & -0.4283362 & -1.478479 & 0.061039803 & 0.5681397 & 0.5634443 & 3156 & tags=45\\%, list=24\\%, signal=35\\% & 111113415/111118581/111119558/111101820/111125632/111124588/111136555/111101197/111122131/111124498/111134828/111121994/111137033/111136571/111126213                                                                                                                                                                                                                                                           & 0\\\\\n",
       "\t7 & cvn00860 & Porphyrin metabolism                    &  18 &  0.5385620 &  1.464175 & 0.057046980 & 0.5681397 & 0.5634443 &  324 & tags=22\\%, list=2\\%, signal=22\\%  & 111111231/111120634/111104407/111117758                                                                                                                                                                                                                                                                                                                                                                         & 0\\\\\n",
       "\t8 & cvn03460 & Fanconi anemia pathway                  &  41 &  0.4485237 &  1.453826 & 0.038226300 & 0.5681397 & 0.5634443 & 2809 & tags=34\\%, list=21\\%, signal=27\\% & 111122179/111128124/111126926/111136867/111131048/111119232/111130580/111118905/111113980/111131835/111133998/111108639/111119126/111102631                                                                                                                                                                                                                                                                     & 0\\\\\n",
       "\t9 & cvn00514 & Other types of O-glycan biosynthesis    &  29 &  0.4717735 &  1.436501 & 0.057416268 & 0.5681397 & 0.5634443 & 1855 & tags=34\\%, list=14\\%, signal=30\\% & 111128050/111129166/111112794/111125659/111126140/111118200/111136634/111129961/111110946/111122340                                                                                                                                                                                                                                                                                                             & 0\\\\\n",
       "\t10 & cvn04120 & Ubiquitin mediated proteolysis          & 117 &  0.3668674 &  1.432290 & 0.030278099 & 0.5681397 & 0.5634443 & 3046 & tags=34\\%, list=23\\%, signal=27\\% & 111121155/111099688/111100396/111104196/111120860/111137343/111135325/111131129/111119134/111105597/111138340/111104637/111124955/111129295/111105462/111130310/111114538/111102530/111136470/111103790/111120632/111123155/111130966/111110185/111103787/111103271/111120128/111121135/111120086/111128926/111133998/111129467/111132898/111100417/111104077/111121443/111128564/111126002/111103982/111129365 & 0\\\\\n",
       "\\end{tabular}\n"
      ],
      "text/markdown": [
       "\n",
       "A data.frame: 10 × 12\n",
       "\n",
       "| <!--/--> | ID &lt;chr&gt; | Description &lt;chr&gt; | setSize &lt;int&gt; | enrichmentScore &lt;dbl&gt; | NES &lt;dbl&gt; | pvalue &lt;dbl&gt; | p.adjust &lt;dbl&gt; | qvalue &lt;dbl&gt; | rank &lt;int&gt; | leading_edge &lt;chr&gt; | core_enrichment &lt;chr&gt; | MatchesPercentage &lt;dbl&gt; |\n",
       "|---|---|---|---|---|---|---|---|---|---|---|---|---|\n",
       "| 1 | cvn00270 | Cysteine and methionine metabolism      |  43 |  0.5220963 |  1.717776 | 0.003026136 | 0.3661625 | 0.3631363 | 1555 | tags=30%, list=12%, signal=27% | 111137596/111122141/111135192/111129934/111136621/111122163/111110831/111130865/111100699/111133693/111106176/111111318/111116065                                                                                                                                                                                                                                                                               | 0 |\n",
       "| 2 | cvn00592 | alpha-Linolenic acid metabolism         |  11 | -0.6794618 | -1.741109 | 0.009046136 | 0.4181536 | 0.4146978 | 2277 | tags=73%, list=17%, signal=60% | 111123661/111124908/111136066/111136438/111107112/111115744/111113990/111127642                                                                                                                                                                                                                                                                                                                                 | 0 |\n",
       "| 3 | cvn03082 | ATP-dependent chromatin remodeling      |  69 | -0.3769411 | -1.506744 | 0.010367445 | 0.4181536 | 0.4146978 | 2797 | tags=41%, list=21%, signal=32% | 111120915/111120504/111136148/111135329/111132974/111118535/111130322/111119035/111099792/111114842/111105716/111134187/111123066/111128754/111130152/111125973/111118359/111108477/111129852/111128560/111120856/111120594/111127973/111127274/111114783/111128559/111105834/111133731                                                                                                                         | 0 |\n",
       "| 4 | cvn01040 | Biosynthesis of unsaturated fatty acids |  18 | -0.5761533 | -1.696737 | 0.016592268 | 0.5019161 | 0.4977680 | 2054 | tags=50%, list=15%, signal=42% | 111124908/111136066/111136438/111131209/111107112/111115744/111113990/111119293/111129730                                                                                                                                                                                                                                                                                                                       | 0 |\n",
       "| 5 | cvn00100 | Steroid biosynthesis                    |  10 |  0.6506083 |  1.480972 | 0.053763441 | 0.5681397 | 0.5634443 | 1767 | tags=30%, list=13%, signal=26% | 111134862/111134947/111112479                                                                                                                                                                                                                                                                                                                                                                                   | 0 |\n",
       "| 6 | cvn00510 | N-Glycan biosynthesis                   |  33 | -0.4283362 | -1.478479 | 0.061039803 | 0.5681397 | 0.5634443 | 3156 | tags=45%, list=24%, signal=35% | 111113415/111118581/111119558/111101820/111125632/111124588/111136555/111101197/111122131/111124498/111134828/111121994/111137033/111136571/111126213                                                                                                                                                                                                                                                           | 0 |\n",
       "| 7 | cvn00860 | Porphyrin metabolism                    |  18 |  0.5385620 |  1.464175 | 0.057046980 | 0.5681397 | 0.5634443 |  324 | tags=22%, list=2%, signal=22%  | 111111231/111120634/111104407/111117758                                                                                                                                                                                                                                                                                                                                                                         | 0 |\n",
       "| 8 | cvn03460 | Fanconi anemia pathway                  |  41 |  0.4485237 |  1.453826 | 0.038226300 | 0.5681397 | 0.5634443 | 2809 | tags=34%, list=21%, signal=27% | 111122179/111128124/111126926/111136867/111131048/111119232/111130580/111118905/111113980/111131835/111133998/111108639/111119126/111102631                                                                                                                                                                                                                                                                     | 0 |\n",
       "| 9 | cvn00514 | Other types of O-glycan biosynthesis    |  29 |  0.4717735 |  1.436501 | 0.057416268 | 0.5681397 | 0.5634443 | 1855 | tags=34%, list=14%, signal=30% | 111128050/111129166/111112794/111125659/111126140/111118200/111136634/111129961/111110946/111122340                                                                                                                                                                                                                                                                                                             | 0 |\n",
       "| 10 | cvn04120 | Ubiquitin mediated proteolysis          | 117 |  0.3668674 |  1.432290 | 0.030278099 | 0.5681397 | 0.5634443 | 3046 | tags=34%, list=23%, signal=27% | 111121155/111099688/111100396/111104196/111120860/111137343/111135325/111131129/111119134/111105597/111138340/111104637/111124955/111129295/111105462/111130310/111114538/111102530/111136470/111103790/111120632/111123155/111130966/111110185/111103787/111103271/111120128/111121135/111120086/111128926/111133998/111129467/111132898/111100417/111104077/111121443/111128564/111126002/111103982/111129365 | 0 |\n",
       "\n"
      ],
      "text/plain": [
       "   ID       Description                             setSize enrichmentScore\n",
       "1  cvn00270 Cysteine and methionine metabolism       43      0.5220963     \n",
       "2  cvn00592 alpha-Linolenic acid metabolism          11     -0.6794618     \n",
       "3  cvn03082 ATP-dependent chromatin remodeling       69     -0.3769411     \n",
       "4  cvn01040 Biosynthesis of unsaturated fatty acids  18     -0.5761533     \n",
       "5  cvn00100 Steroid biosynthesis                     10      0.6506083     \n",
       "6  cvn00510 N-Glycan biosynthesis                    33     -0.4283362     \n",
       "7  cvn00860 Porphyrin metabolism                     18      0.5385620     \n",
       "8  cvn03460 Fanconi anemia pathway                   41      0.4485237     \n",
       "9  cvn00514 Other types of O-glycan biosynthesis     29      0.4717735     \n",
       "10 cvn04120 Ubiquitin mediated proteolysis          117      0.3668674     \n",
       "   NES       pvalue      p.adjust  qvalue    rank\n",
       "1   1.717776 0.003026136 0.3661625 0.3631363 1555\n",
       "2  -1.741109 0.009046136 0.4181536 0.4146978 2277\n",
       "3  -1.506744 0.010367445 0.4181536 0.4146978 2797\n",
       "4  -1.696737 0.016592268 0.5019161 0.4977680 2054\n",
       "5   1.480972 0.053763441 0.5681397 0.5634443 1767\n",
       "6  -1.478479 0.061039803 0.5681397 0.5634443 3156\n",
       "7   1.464175 0.057046980 0.5681397 0.5634443  324\n",
       "8   1.453826 0.038226300 0.5681397 0.5634443 2809\n",
       "9   1.436501 0.057416268 0.5681397 0.5634443 1855\n",
       "10  1.432290 0.030278099 0.5681397 0.5634443 3046\n",
       "   leading_edge                  \n",
       "1  tags=30%, list=12%, signal=27%\n",
       "2  tags=73%, list=17%, signal=60%\n",
       "3  tags=41%, list=21%, signal=32%\n",
       "4  tags=50%, list=15%, signal=42%\n",
       "5  tags=30%, list=13%, signal=26%\n",
       "6  tags=45%, list=24%, signal=35%\n",
       "7  tags=22%, list=2%, signal=22% \n",
       "8  tags=34%, list=21%, signal=27%\n",
       "9  tags=34%, list=14%, signal=30%\n",
       "10 tags=34%, list=23%, signal=27%\n",
       "   core_enrichment                                                                                                                                                                                                                                                                                                                                                                                                \n",
       "1  111137596/111122141/111135192/111129934/111136621/111122163/111110831/111130865/111100699/111133693/111106176/111111318/111116065                                                                                                                                                                                                                                                                              \n",
       "2  111123661/111124908/111136066/111136438/111107112/111115744/111113990/111127642                                                                                                                                                                                                                                                                                                                                \n",
       "3  111120915/111120504/111136148/111135329/111132974/111118535/111130322/111119035/111099792/111114842/111105716/111134187/111123066/111128754/111130152/111125973/111118359/111108477/111129852/111128560/111120856/111120594/111127973/111127274/111114783/111128559/111105834/111133731                                                                                                                        \n",
       "4  111124908/111136066/111136438/111131209/111107112/111115744/111113990/111119293/111129730                                                                                                                                                                                                                                                                                                                      \n",
       "5  111134862/111134947/111112479                                                                                                                                                                                                                                                                                                                                                                                  \n",
       "6  111113415/111118581/111119558/111101820/111125632/111124588/111136555/111101197/111122131/111124498/111134828/111121994/111137033/111136571/111126213                                                                                                                                                                                                                                                          \n",
       "7  111111231/111120634/111104407/111117758                                                                                                                                                                                                                                                                                                                                                                        \n",
       "8  111122179/111128124/111126926/111136867/111131048/111119232/111130580/111118905/111113980/111131835/111133998/111108639/111119126/111102631                                                                                                                                                                                                                                                                    \n",
       "9  111128050/111129166/111112794/111125659/111126140/111118200/111136634/111129961/111110946/111122340                                                                                                                                                                                                                                                                                                            \n",
       "10 111121155/111099688/111100396/111104196/111120860/111137343/111135325/111131129/111119134/111105597/111138340/111104637/111124955/111129295/111105462/111130310/111114538/111102530/111136470/111103790/111120632/111123155/111130966/111110185/111103787/111103271/111120128/111121135/111120086/111128926/111133998/111129467/111132898/111100417/111104077/111121443/111128564/111126002/111103982/111129365\n",
       "   MatchesPercentage\n",
       "1  0                \n",
       "2  0                \n",
       "3  0                \n",
       "4  0                \n",
       "5  0                \n",
       "6  0                \n",
       "7  0                \n",
       "8  0                \n",
       "9  0                \n",
       "10 0                "
      ]
     },
     "metadata": {},
     "output_type": "display_data"
    }
   ],
   "source": [
    "# Sample dataframes\n",
    "df1 <- genes_h\n",
    "df2 <- pathway\n",
    "\n",
    "# Function to check if any gene in df1 matches genes in a row of df2\n",
    "get_gene_matches <- function(row_df2, df1_genes) {\n",
    "  genes2 <- unlist(strsplit(as.character(row_df2), \"/\"))\n",
    "  count <- sum(genes2 %in% df1_genes)\n",
    "  # Calculate the percentage of matched genes in the row\n",
    "  percentage <- count / length(genes2) * 100\n",
    "  return(percentage)\n",
    "}\n",
    "\n",
    "# Iterate over each row of df2\n",
    "matches_percentage <- sapply(df2$core_enrichment, get_gene_matches, df1_genes = df1$gene)\n",
    "\n",
    "# Add the matches percentage to df2\n",
    "df2$MatchesPercentage <- matches_percentage\n",
    "\n",
    "# Sort df with highest match percentages at the top\n",
    "gene_pathway_match <- df2[order(-df2$MatchesPercentage),]\n",
    "head(gene_pathway_match, 10)\n"
   ]
  },
  {
   "cell_type": "markdown",
   "id": "47f17398-fa46-4cd6-8797-eb0aa4e4235f",
   "metadata": {},
   "source": [
    "# phase 1 = control or hypoxia, **phase 2 = control**\n"
   ]
  },
  {
   "cell_type": "code",
   "execution_count": 21,
   "id": "08d44b01-a632-4020-8527-3ff178147889",
   "metadata": {},
   "outputs": [
    {
     "data": {
      "text/html": [
       "<style>\n",
       ".list-inline {list-style: none; margin:0; padding: 0}\n",
       ".list-inline>li {display: inline-block}\n",
       ".list-inline>li:not(:last-child)::after {content: \"\\00b7\"; padding: 0 .5ex}\n",
       "</style>\n",
       "<ol class=list-inline><li>121</li><li>11</li></ol>\n"
      ],
      "text/latex": [
       "\\begin{enumerate*}\n",
       "\\item 121\n",
       "\\item 11\n",
       "\\end{enumerate*}\n"
      ],
      "text/markdown": [
       "1. 121\n",
       "2. 11\n",
       "\n",
       "\n"
      ],
      "text/plain": [
       "[1] 121  11"
      ]
     },
     "metadata": {},
     "output_type": "display_data"
    },
    {
     "data": {
      "text/html": [
       "<table class=\"dataframe\">\n",
       "<caption>A data.frame: 6 × 11</caption>\n",
       "<thead>\n",
       "\t<tr><th></th><th scope=col>ID</th><th scope=col>Description</th><th scope=col>setSize</th><th scope=col>enrichmentScore</th><th scope=col>NES</th><th scope=col>pvalue</th><th scope=col>p.adjust</th><th scope=col>qvalue</th><th scope=col>rank</th><th scope=col>leading_edge</th><th scope=col>core_enrichment</th></tr>\n",
       "\t<tr><th></th><th scope=col>&lt;chr&gt;</th><th scope=col>&lt;chr&gt;</th><th scope=col>&lt;int&gt;</th><th scope=col>&lt;dbl&gt;</th><th scope=col>&lt;dbl&gt;</th><th scope=col>&lt;dbl&gt;</th><th scope=col>&lt;dbl&gt;</th><th scope=col>&lt;dbl&gt;</th><th scope=col>&lt;int&gt;</th><th scope=col>&lt;chr&gt;</th><th scope=col>&lt;chr&gt;</th></tr>\n",
       "</thead>\n",
       "<tbody>\n",
       "\t<tr><th scope=row>1</th><td>cvn00592</td><td>alpha-Linolenic acid metabolism        </td><td>11</td><td> 0.7812590</td><td> 1.965731</td><td>0.0003842742</td><td>0.04649718</td><td>0.0461129</td><td>1762</td><td>tags=73%, list=13%, signal=63%</td><td>111113990/111115744/111127642/111136066/111123661/111107112/111115745/111136438                                                                                                                                                                                                                                      </td></tr>\n",
       "\t<tr><th scope=row>2</th><td>cvn01040</td><td>Biosynthesis of unsaturated fatty acids</td><td>18</td><td> 0.5424550</td><td> 1.582749</td><td>0.0246391900</td><td>0.50432328</td><td>0.5001553</td><td>1908</td><td>tags=44%, list=14%, signal=38%</td><td>111113990/111115744/111129730/111136066/111107112/111115745/111136438/111131209                                                                                                                                                                                                                                      </td></tr>\n",
       "\t<tr><th scope=row>3</th><td>cvn00310</td><td>Lysine degradation                     </td><td>31</td><td>-0.4896714</td><td>-1.538601</td><td>0.0259889723</td><td>0.50432328</td><td>0.5001553</td><td>1842</td><td>tags=32%, list=14%, signal=28%</td><td>111115614/111109254/111130627/111121380/111130119/111107127/111125659/111110608/111112920/111128625                                                                                                                                                                                                                  </td></tr>\n",
       "\t<tr><th scope=row>4</th><td>cvn03008</td><td>Ribosome biogenesis in eukaryotes      </td><td>56</td><td>-0.4223369</td><td>-1.475210</td><td>0.0197349344</td><td>0.50432328</td><td>0.5001553</td><td>2942</td><td>tags=39%, list=22%, signal=31%</td><td>111104038/111122686/111123620/111128896/111134591/111103436/111102803/111105066/111119396/111123381/111112561/111110086/111119458/111125104/111128153/111132055/111119695/111121480/111128265/111128132/111120056/111133163                                                                                          </td></tr>\n",
       "\t<tr><th scope=row>5</th><td>cvn04148</td><td>Efferocytosis                          </td><td>98</td><td>-0.3698939</td><td>-1.419869</td><td>0.0201014076</td><td>0.50432328</td><td>0.5001553</td><td>2846</td><td>tags=32%, list=21%, signal=25%</td><td>111128693/111124840/111112952/111134431/111120235/111135946/111113319/111135761/111133023/111125427/111124014/111127575/111122108/111123664/111107163/111100224/111107779/111126115/111117732/111123084/111136548/111137094/111125144/111110874/111115463/111122163/111128744/111131845/111109809/111104335/111123492</td></tr>\n",
       "\t<tr><th scope=row>6</th><td>cvn04068</td><td>FoxO signaling pathway                 </td><td>65</td><td>-0.3958920</td><td>-1.419769</td><td>0.0278332376</td><td>0.50432328</td><td>0.5001553</td><td>2846</td><td>tags=38%, list=21%, signal=30%</td><td>111128693/111121135/111125223/111121739/111131500/111118834/111112841/111103474/111126185/111134642/111119108/111107163/111105462/111130138/111120632/111121839/111113171/111121740/111119905/111112940/111134713/111120947/111102390/111128744/111104196                                                            </td></tr>\n",
       "</tbody>\n",
       "</table>\n"
      ],
      "text/latex": [
       "A data.frame: 6 × 11\n",
       "\\begin{tabular}{r|lllllllllll}\n",
       "  & ID & Description & setSize & enrichmentScore & NES & pvalue & p.adjust & qvalue & rank & leading\\_edge & core\\_enrichment\\\\\n",
       "  & <chr> & <chr> & <int> & <dbl> & <dbl> & <dbl> & <dbl> & <dbl> & <int> & <chr> & <chr>\\\\\n",
       "\\hline\n",
       "\t1 & cvn00592 & alpha-Linolenic acid metabolism         & 11 &  0.7812590 &  1.965731 & 0.0003842742 & 0.04649718 & 0.0461129 & 1762 & tags=73\\%, list=13\\%, signal=63\\% & 111113990/111115744/111127642/111136066/111123661/111107112/111115745/111136438                                                                                                                                                                                                                                      \\\\\n",
       "\t2 & cvn01040 & Biosynthesis of unsaturated fatty acids & 18 &  0.5424550 &  1.582749 & 0.0246391900 & 0.50432328 & 0.5001553 & 1908 & tags=44\\%, list=14\\%, signal=38\\% & 111113990/111115744/111129730/111136066/111107112/111115745/111136438/111131209                                                                                                                                                                                                                                      \\\\\n",
       "\t3 & cvn00310 & Lysine degradation                      & 31 & -0.4896714 & -1.538601 & 0.0259889723 & 0.50432328 & 0.5001553 & 1842 & tags=32\\%, list=14\\%, signal=28\\% & 111115614/111109254/111130627/111121380/111130119/111107127/111125659/111110608/111112920/111128625                                                                                                                                                                                                                  \\\\\n",
       "\t4 & cvn03008 & Ribosome biogenesis in eukaryotes       & 56 & -0.4223369 & -1.475210 & 0.0197349344 & 0.50432328 & 0.5001553 & 2942 & tags=39\\%, list=22\\%, signal=31\\% & 111104038/111122686/111123620/111128896/111134591/111103436/111102803/111105066/111119396/111123381/111112561/111110086/111119458/111125104/111128153/111132055/111119695/111121480/111128265/111128132/111120056/111133163                                                                                          \\\\\n",
       "\t5 & cvn04148 & Efferocytosis                           & 98 & -0.3698939 & -1.419869 & 0.0201014076 & 0.50432328 & 0.5001553 & 2846 & tags=32\\%, list=21\\%, signal=25\\% & 111128693/111124840/111112952/111134431/111120235/111135946/111113319/111135761/111133023/111125427/111124014/111127575/111122108/111123664/111107163/111100224/111107779/111126115/111117732/111123084/111136548/111137094/111125144/111110874/111115463/111122163/111128744/111131845/111109809/111104335/111123492\\\\\n",
       "\t6 & cvn04068 & FoxO signaling pathway                  & 65 & -0.3958920 & -1.419769 & 0.0278332376 & 0.50432328 & 0.5001553 & 2846 & tags=38\\%, list=21\\%, signal=30\\% & 111128693/111121135/111125223/111121739/111131500/111118834/111112841/111103474/111126185/111134642/111119108/111107163/111105462/111130138/111120632/111121839/111113171/111121740/111119905/111112940/111134713/111120947/111102390/111128744/111104196                                                            \\\\\n",
       "\\end{tabular}\n"
      ],
      "text/markdown": [
       "\n",
       "A data.frame: 6 × 11\n",
       "\n",
       "| <!--/--> | ID &lt;chr&gt; | Description &lt;chr&gt; | setSize &lt;int&gt; | enrichmentScore &lt;dbl&gt; | NES &lt;dbl&gt; | pvalue &lt;dbl&gt; | p.adjust &lt;dbl&gt; | qvalue &lt;dbl&gt; | rank &lt;int&gt; | leading_edge &lt;chr&gt; | core_enrichment &lt;chr&gt; |\n",
       "|---|---|---|---|---|---|---|---|---|---|---|---|\n",
       "| 1 | cvn00592 | alpha-Linolenic acid metabolism         | 11 |  0.7812590 |  1.965731 | 0.0003842742 | 0.04649718 | 0.0461129 | 1762 | tags=73%, list=13%, signal=63% | 111113990/111115744/111127642/111136066/111123661/111107112/111115745/111136438                                                                                                                                                                                                                                       |\n",
       "| 2 | cvn01040 | Biosynthesis of unsaturated fatty acids | 18 |  0.5424550 |  1.582749 | 0.0246391900 | 0.50432328 | 0.5001553 | 1908 | tags=44%, list=14%, signal=38% | 111113990/111115744/111129730/111136066/111107112/111115745/111136438/111131209                                                                                                                                                                                                                                       |\n",
       "| 3 | cvn00310 | Lysine degradation                      | 31 | -0.4896714 | -1.538601 | 0.0259889723 | 0.50432328 | 0.5001553 | 1842 | tags=32%, list=14%, signal=28% | 111115614/111109254/111130627/111121380/111130119/111107127/111125659/111110608/111112920/111128625                                                                                                                                                                                                                   |\n",
       "| 4 | cvn03008 | Ribosome biogenesis in eukaryotes       | 56 | -0.4223369 | -1.475210 | 0.0197349344 | 0.50432328 | 0.5001553 | 2942 | tags=39%, list=22%, signal=31% | 111104038/111122686/111123620/111128896/111134591/111103436/111102803/111105066/111119396/111123381/111112561/111110086/111119458/111125104/111128153/111132055/111119695/111121480/111128265/111128132/111120056/111133163                                                                                           |\n",
       "| 5 | cvn04148 | Efferocytosis                           | 98 | -0.3698939 | -1.419869 | 0.0201014076 | 0.50432328 | 0.5001553 | 2846 | tags=32%, list=21%, signal=25% | 111128693/111124840/111112952/111134431/111120235/111135946/111113319/111135761/111133023/111125427/111124014/111127575/111122108/111123664/111107163/111100224/111107779/111126115/111117732/111123084/111136548/111137094/111125144/111110874/111115463/111122163/111128744/111131845/111109809/111104335/111123492 |\n",
       "| 6 | cvn04068 | FoxO signaling pathway                  | 65 | -0.3958920 | -1.419769 | 0.0278332376 | 0.50432328 | 0.5001553 | 2846 | tags=38%, list=21%, signal=30% | 111128693/111121135/111125223/111121739/111131500/111118834/111112841/111103474/111126185/111134642/111119108/111107163/111105462/111130138/111120632/111121839/111113171/111121740/111119905/111112940/111134713/111120947/111102390/111128744/111104196                                                             |\n",
       "\n"
      ],
      "text/plain": [
       "  ID       Description                             setSize enrichmentScore\n",
       "1 cvn00592 alpha-Linolenic acid metabolism         11       0.7812590     \n",
       "2 cvn01040 Biosynthesis of unsaturated fatty acids 18       0.5424550     \n",
       "3 cvn00310 Lysine degradation                      31      -0.4896714     \n",
       "4 cvn03008 Ribosome biogenesis in eukaryotes       56      -0.4223369     \n",
       "5 cvn04148 Efferocytosis                           98      -0.3698939     \n",
       "6 cvn04068 FoxO signaling pathway                  65      -0.3958920     \n",
       "  NES       pvalue       p.adjust   qvalue    rank\n",
       "1  1.965731 0.0003842742 0.04649718 0.0461129 1762\n",
       "2  1.582749 0.0246391900 0.50432328 0.5001553 1908\n",
       "3 -1.538601 0.0259889723 0.50432328 0.5001553 1842\n",
       "4 -1.475210 0.0197349344 0.50432328 0.5001553 2942\n",
       "5 -1.419869 0.0201014076 0.50432328 0.5001553 2846\n",
       "6 -1.419769 0.0278332376 0.50432328 0.5001553 2846\n",
       "  leading_edge                  \n",
       "1 tags=73%, list=13%, signal=63%\n",
       "2 tags=44%, list=14%, signal=38%\n",
       "3 tags=32%, list=14%, signal=28%\n",
       "4 tags=39%, list=22%, signal=31%\n",
       "5 tags=32%, list=21%, signal=25%\n",
       "6 tags=38%, list=21%, signal=30%\n",
       "  core_enrichment                                                                                                                                                                                                                                                                                                      \n",
       "1 111113990/111115744/111127642/111136066/111123661/111107112/111115745/111136438                                                                                                                                                                                                                                      \n",
       "2 111113990/111115744/111129730/111136066/111107112/111115745/111136438/111131209                                                                                                                                                                                                                                      \n",
       "3 111115614/111109254/111130627/111121380/111130119/111107127/111125659/111110608/111112920/111128625                                                                                                                                                                                                                  \n",
       "4 111104038/111122686/111123620/111128896/111134591/111103436/111102803/111105066/111119396/111123381/111112561/111110086/111119458/111125104/111128153/111132055/111119695/111121480/111128265/111128132/111120056/111133163                                                                                          \n",
       "5 111128693/111124840/111112952/111134431/111120235/111135946/111113319/111135761/111133023/111125427/111124014/111127575/111122108/111123664/111107163/111100224/111107779/111126115/111117732/111123084/111136548/111137094/111125144/111110874/111115463/111122163/111128744/111131845/111109809/111104335/111123492\n",
       "6 111128693/111121135/111125223/111121739/111131500/111118834/111112841/111103474/111126185/111134642/111119108/111107163/111105462/111130138/111120632/111121839/111113171/111121740/111119905/111112940/111134713/111120947/111102390/111128744/111104196                                                            "
      ]
     },
     "metadata": {},
     "output_type": "display_data"
    }
   ],
   "source": [
    "# load in csv file\n",
    "pathway <- read.csv('/project/pi_sarah_gignouxwolfsohn_uml_edu/julia/CE_MethylRAD_analysis_2018/analysis/enriched_pathways/p2cont_p1ch_pathways.csv')\n",
    "\n",
    "# clean headers and columns\n",
    "pathway <- pathway[,-1]\n",
    "\n",
    "# checking dimensions\n",
    "dim(pathway) #121 pathways, 11 rows of info/meta data\n",
    "\n",
    "head(pathway)"
   ]
  },
  {
   "cell_type": "markdown",
   "id": "cfc22901-28f1-4201-8905-bdd9ad6bee82",
   "metadata": {},
   "source": [
    "loading in data frame that contains significant genes info for **phase 1 control or hypoxic, phase 2 control**"
   ]
  },
  {
   "cell_type": "code",
   "execution_count": 22,
   "id": "056536c8-bdb2-4563-ab8f-19008ddf01e9",
   "metadata": {},
   "outputs": [
    {
     "data": {
      "text/html": [
       "<style>\n",
       ".list-inline {list-style: none; margin:0; padding: 0}\n",
       ".list-inline>li {display: inline-block}\n",
       ".list-inline>li:not(:last-child)::after {content: \"\\00b7\"; padding: 0 .5ex}\n",
       "</style>\n",
       "<ol class=list-inline><li>12</li><li>3</li></ol>\n"
      ],
      "text/latex": [
       "\\begin{enumerate*}\n",
       "\\item 12\n",
       "\\item 3\n",
       "\\end{enumerate*}\n"
      ],
      "text/markdown": [
       "1. 12\n",
       "2. 3\n",
       "\n",
       "\n"
      ],
      "text/plain": [
       "[1] 12  3"
      ]
     },
     "metadata": {},
     "output_type": "display_data"
    },
    {
     "data": {
      "text/html": [
       "<table class=\"dataframe\">\n",
       "<caption>A data.frame: 6 × 3</caption>\n",
       "<thead>\n",
       "\t<tr><th></th><th scope=col>gene</th><th scope=col>lfc</th><th scope=col>padj</th></tr>\n",
       "\t<tr><th></th><th scope=col>&lt;chr&gt;</th><th scope=col>&lt;dbl&gt;</th><th scope=col>&lt;dbl&gt;</th></tr>\n",
       "</thead>\n",
       "<tbody>\n",
       "\t<tr><th scope=row>1</th><td>111133260</td><td>-1.400662</td><td>0.03210292</td></tr>\n",
       "\t<tr><th scope=row>2</th><td>111130870</td><td> 1.930161</td><td>0.00516370</td></tr>\n",
       "\t<tr><th scope=row>3</th><td>111124824</td><td>-1.748396</td><td>0.02225067</td></tr>\n",
       "\t<tr><th scope=row>4</th><td>111123492</td><td>-1.250427</td><td>0.02225067</td></tr>\n",
       "\t<tr><th scope=row>5</th><td>111124669</td><td>-1.375254</td><td>0.02225067</td></tr>\n",
       "\t<tr><th scope=row>6</th><td>111129146</td><td> 1.352978</td><td>0.02225067</td></tr>\n",
       "</tbody>\n",
       "</table>\n"
      ],
      "text/latex": [
       "A data.frame: 6 × 3\n",
       "\\begin{tabular}{r|lll}\n",
       "  & gene & lfc & padj\\\\\n",
       "  & <chr> & <dbl> & <dbl>\\\\\n",
       "\\hline\n",
       "\t1 & 111133260 & -1.400662 & 0.03210292\\\\\n",
       "\t2 & 111130870 &  1.930161 & 0.00516370\\\\\n",
       "\t3 & 111124824 & -1.748396 & 0.02225067\\\\\n",
       "\t4 & 111123492 & -1.250427 & 0.02225067\\\\\n",
       "\t5 & 111124669 & -1.375254 & 0.02225067\\\\\n",
       "\t6 & 111129146 &  1.352978 & 0.02225067\\\\\n",
       "\\end{tabular}\n"
      ],
      "text/markdown": [
       "\n",
       "A data.frame: 6 × 3\n",
       "\n",
       "| <!--/--> | gene &lt;chr&gt; | lfc &lt;dbl&gt; | padj &lt;dbl&gt; |\n",
       "|---|---|---|---|\n",
       "| 1 | 111133260 | -1.400662 | 0.03210292 |\n",
       "| 2 | 111130870 |  1.930161 | 0.00516370 |\n",
       "| 3 | 111124824 | -1.748396 | 0.02225067 |\n",
       "| 4 | 111123492 | -1.250427 | 0.02225067 |\n",
       "| 5 | 111124669 | -1.375254 | 0.02225067 |\n",
       "| 6 | 111129146 |  1.352978 | 0.02225067 |\n",
       "\n"
      ],
      "text/plain": [
       "  gene      lfc       padj      \n",
       "1 111133260 -1.400662 0.03210292\n",
       "2 111130870  1.930161 0.00516370\n",
       "3 111124824 -1.748396 0.02225067\n",
       "4 111123492 -1.250427 0.02225067\n",
       "5 111124669 -1.375254 0.02225067\n",
       "6 111129146  1.352978 0.02225067"
      ]
     },
     "metadata": {},
     "output_type": "display_data"
    }
   ],
   "source": [
    "# load data frame\n",
    "genes_c <- read.csv('/project/pi_sarah_gignouxwolfsohn_uml_edu/julia/CE_MethylRAD_analysis_2018/analysis/significant_genes/p2c_lfc25_genes.csv')\n",
    "\n",
    "# KEGG uses entrez IDs, which are my ensembl IDs without the 'LOC' in front of them, so need to convert those\n",
    "genes_c$X <- substr(genes_c$X, start = 4, stop = nchar(genes_c$X))\n",
    "\n",
    "# only grabbing the columns I care about\n",
    "genes_c <- select(genes_c, X, log2FoldChange, padj)\n",
    "\n",
    "# renaming columns to make more sense\n",
    "colnames(genes_c) <- c('gene', 'lfc', 'padj')\n",
    "\n",
    "# only selecting significant genes\n",
    "genes_c <- filter(genes_c, genes_c$padj < 0.05)\n",
    "\n",
    "# checking dimensions\n",
    "dim(genes_c) # 231 sig DMGs\n",
    "\n",
    "head(genes_c)"
   ]
  },
  {
   "cell_type": "markdown",
   "id": "d9540908-1a26-4c13-a271-e00fdae2ba00",
   "metadata": {
    "tags": []
   },
   "source": [
    "#### III. Are the signficant genes in the core enrichment of the pathways?\n",
    "Taking our list of siginificant genes, and going line by line in our pathways to see if our sig. gene matches any of the core enrichment genes\n",
    "\n",
    "the code below will add a column to my dataframe that contains the number of significant DMGs that match the core enrichment for that pathway"
   ]
  },
  {
   "cell_type": "code",
   "execution_count": 23,
   "id": "c6233760-8ad0-4c41-9393-b395ff7fa19a",
   "metadata": {},
   "outputs": [
    {
     "data": {
      "text/html": [
       "<table class=\"dataframe\">\n",
       "<caption>A data.frame: 6 × 12</caption>\n",
       "<thead>\n",
       "\t<tr><th></th><th scope=col>ID</th><th scope=col>Description</th><th scope=col>setSize</th><th scope=col>enrichmentScore</th><th scope=col>NES</th><th scope=col>pvalue</th><th scope=col>p.adjust</th><th scope=col>qvalue</th><th scope=col>rank</th><th scope=col>leading_edge</th><th scope=col>core_enrichment</th><th scope=col>MatchesCount</th></tr>\n",
       "\t<tr><th></th><th scope=col>&lt;chr&gt;</th><th scope=col>&lt;chr&gt;</th><th scope=col>&lt;int&gt;</th><th scope=col>&lt;dbl&gt;</th><th scope=col>&lt;dbl&gt;</th><th scope=col>&lt;dbl&gt;</th><th scope=col>&lt;dbl&gt;</th><th scope=col>&lt;dbl&gt;</th><th scope=col>&lt;int&gt;</th><th scope=col>&lt;chr&gt;</th><th scope=col>&lt;chr&gt;</th><th scope=col>&lt;int&gt;</th></tr>\n",
       "</thead>\n",
       "<tbody>\n",
       "\t<tr><th scope=row>5</th><td>cvn04148</td><td>Efferocytosis                          </td><td>98</td><td>-0.3698939</td><td>-1.419869</td><td>0.0201014076</td><td>0.50432328</td><td>0.5001553</td><td>2846</td><td>tags=32%, list=21%, signal=25%</td><td>111128693/111124840/111112952/111134431/111120235/111135946/111113319/111135761/111133023/111125427/111124014/111127575/111122108/111123664/111107163/111100224/111107779/111126115/111117732/111123084/111136548/111137094/111125144/111110874/111115463/111122163/111128744/111131845/111109809/111104335/111123492</td><td>1</td></tr>\n",
       "\t<tr><th scope=row>41</th><td>cvn03010</td><td>Ribosome                               </td><td>82</td><td>-0.3120704</td><td>-1.168279</td><td>0.1880597015</td><td>0.61746150</td><td>0.6123585</td><td> 308</td><td>tags=13%, list=2%, signal=13% </td><td>111137581/111102380/111104169/111132903/111130094/111137089/111133074/111130039/111111438/111127769/111124824                                                                                                                                                                                                        </td><td>1</td></tr>\n",
       "\t<tr><th scope=row>1</th><td>cvn00592</td><td>alpha-Linolenic acid metabolism        </td><td>11</td><td> 0.7812590</td><td> 1.965731</td><td>0.0003842742</td><td>0.04649718</td><td>0.0461129</td><td>1762</td><td>tags=73%, list=13%, signal=63%</td><td>111113990/111115744/111127642/111136066/111123661/111107112/111115745/111136438                                                                                                                                                                                                                                      </td><td>0</td></tr>\n",
       "\t<tr><th scope=row>2</th><td>cvn01040</td><td>Biosynthesis of unsaturated fatty acids</td><td>18</td><td> 0.5424550</td><td> 1.582749</td><td>0.0246391900</td><td>0.50432328</td><td>0.5001553</td><td>1908</td><td>tags=44%, list=14%, signal=38%</td><td>111113990/111115744/111129730/111136066/111107112/111115745/111136438/111131209                                                                                                                                                                                                                                      </td><td>0</td></tr>\n",
       "\t<tr><th scope=row>3</th><td>cvn00310</td><td>Lysine degradation                     </td><td>31</td><td>-0.4896714</td><td>-1.538601</td><td>0.0259889723</td><td>0.50432328</td><td>0.5001553</td><td>1842</td><td>tags=32%, list=14%, signal=28%</td><td>111115614/111109254/111130627/111121380/111130119/111107127/111125659/111110608/111112920/111128625                                                                                                                                                                                                                  </td><td>0</td></tr>\n",
       "\t<tr><th scope=row>4</th><td>cvn03008</td><td>Ribosome biogenesis in eukaryotes      </td><td>56</td><td>-0.4223369</td><td>-1.475210</td><td>0.0197349344</td><td>0.50432328</td><td>0.5001553</td><td>2942</td><td>tags=39%, list=22%, signal=31%</td><td>111104038/111122686/111123620/111128896/111134591/111103436/111102803/111105066/111119396/111123381/111112561/111110086/111119458/111125104/111128153/111132055/111119695/111121480/111128265/111128132/111120056/111133163                                                                                          </td><td>0</td></tr>\n",
       "</tbody>\n",
       "</table>\n"
      ],
      "text/latex": [
       "A data.frame: 6 × 12\n",
       "\\begin{tabular}{r|llllllllllll}\n",
       "  & ID & Description & setSize & enrichmentScore & NES & pvalue & p.adjust & qvalue & rank & leading\\_edge & core\\_enrichment & MatchesCount\\\\\n",
       "  & <chr> & <chr> & <int> & <dbl> & <dbl> & <dbl> & <dbl> & <dbl> & <int> & <chr> & <chr> & <int>\\\\\n",
       "\\hline\n",
       "\t5 & cvn04148 & Efferocytosis                           & 98 & -0.3698939 & -1.419869 & 0.0201014076 & 0.50432328 & 0.5001553 & 2846 & tags=32\\%, list=21\\%, signal=25\\% & 111128693/111124840/111112952/111134431/111120235/111135946/111113319/111135761/111133023/111125427/111124014/111127575/111122108/111123664/111107163/111100224/111107779/111126115/111117732/111123084/111136548/111137094/111125144/111110874/111115463/111122163/111128744/111131845/111109809/111104335/111123492 & 1\\\\\n",
       "\t41 & cvn03010 & Ribosome                                & 82 & -0.3120704 & -1.168279 & 0.1880597015 & 0.61746150 & 0.6123585 &  308 & tags=13\\%, list=2\\%, signal=13\\%  & 111137581/111102380/111104169/111132903/111130094/111137089/111133074/111130039/111111438/111127769/111124824                                                                                                                                                                                                         & 1\\\\\n",
       "\t1 & cvn00592 & alpha-Linolenic acid metabolism         & 11 &  0.7812590 &  1.965731 & 0.0003842742 & 0.04649718 & 0.0461129 & 1762 & tags=73\\%, list=13\\%, signal=63\\% & 111113990/111115744/111127642/111136066/111123661/111107112/111115745/111136438                                                                                                                                                                                                                                       & 0\\\\\n",
       "\t2 & cvn01040 & Biosynthesis of unsaturated fatty acids & 18 &  0.5424550 &  1.582749 & 0.0246391900 & 0.50432328 & 0.5001553 & 1908 & tags=44\\%, list=14\\%, signal=38\\% & 111113990/111115744/111129730/111136066/111107112/111115745/111136438/111131209                                                                                                                                                                                                                                       & 0\\\\\n",
       "\t3 & cvn00310 & Lysine degradation                      & 31 & -0.4896714 & -1.538601 & 0.0259889723 & 0.50432328 & 0.5001553 & 1842 & tags=32\\%, list=14\\%, signal=28\\% & 111115614/111109254/111130627/111121380/111130119/111107127/111125659/111110608/111112920/111128625                                                                                                                                                                                                                   & 0\\\\\n",
       "\t4 & cvn03008 & Ribosome biogenesis in eukaryotes       & 56 & -0.4223369 & -1.475210 & 0.0197349344 & 0.50432328 & 0.5001553 & 2942 & tags=39\\%, list=22\\%, signal=31\\% & 111104038/111122686/111123620/111128896/111134591/111103436/111102803/111105066/111119396/111123381/111112561/111110086/111119458/111125104/111128153/111132055/111119695/111121480/111128265/111128132/111120056/111133163                                                                                           & 0\\\\\n",
       "\\end{tabular}\n"
      ],
      "text/markdown": [
       "\n",
       "A data.frame: 6 × 12\n",
       "\n",
       "| <!--/--> | ID &lt;chr&gt; | Description &lt;chr&gt; | setSize &lt;int&gt; | enrichmentScore &lt;dbl&gt; | NES &lt;dbl&gt; | pvalue &lt;dbl&gt; | p.adjust &lt;dbl&gt; | qvalue &lt;dbl&gt; | rank &lt;int&gt; | leading_edge &lt;chr&gt; | core_enrichment &lt;chr&gt; | MatchesCount &lt;int&gt; |\n",
       "|---|---|---|---|---|---|---|---|---|---|---|---|---|\n",
       "| 5 | cvn04148 | Efferocytosis                           | 98 | -0.3698939 | -1.419869 | 0.0201014076 | 0.50432328 | 0.5001553 | 2846 | tags=32%, list=21%, signal=25% | 111128693/111124840/111112952/111134431/111120235/111135946/111113319/111135761/111133023/111125427/111124014/111127575/111122108/111123664/111107163/111100224/111107779/111126115/111117732/111123084/111136548/111137094/111125144/111110874/111115463/111122163/111128744/111131845/111109809/111104335/111123492 | 1 |\n",
       "| 41 | cvn03010 | Ribosome                                | 82 | -0.3120704 | -1.168279 | 0.1880597015 | 0.61746150 | 0.6123585 |  308 | tags=13%, list=2%, signal=13%  | 111137581/111102380/111104169/111132903/111130094/111137089/111133074/111130039/111111438/111127769/111124824                                                                                                                                                                                                         | 1 |\n",
       "| 1 | cvn00592 | alpha-Linolenic acid metabolism         | 11 |  0.7812590 |  1.965731 | 0.0003842742 | 0.04649718 | 0.0461129 | 1762 | tags=73%, list=13%, signal=63% | 111113990/111115744/111127642/111136066/111123661/111107112/111115745/111136438                                                                                                                                                                                                                                       | 0 |\n",
       "| 2 | cvn01040 | Biosynthesis of unsaturated fatty acids | 18 |  0.5424550 |  1.582749 | 0.0246391900 | 0.50432328 | 0.5001553 | 1908 | tags=44%, list=14%, signal=38% | 111113990/111115744/111129730/111136066/111107112/111115745/111136438/111131209                                                                                                                                                                                                                                       | 0 |\n",
       "| 3 | cvn00310 | Lysine degradation                      | 31 | -0.4896714 | -1.538601 | 0.0259889723 | 0.50432328 | 0.5001553 | 1842 | tags=32%, list=14%, signal=28% | 111115614/111109254/111130627/111121380/111130119/111107127/111125659/111110608/111112920/111128625                                                                                                                                                                                                                   | 0 |\n",
       "| 4 | cvn03008 | Ribosome biogenesis in eukaryotes       | 56 | -0.4223369 | -1.475210 | 0.0197349344 | 0.50432328 | 0.5001553 | 2942 | tags=39%, list=22%, signal=31% | 111104038/111122686/111123620/111128896/111134591/111103436/111102803/111105066/111119396/111123381/111112561/111110086/111119458/111125104/111128153/111132055/111119695/111121480/111128265/111128132/111120056/111133163                                                                                           | 0 |\n",
       "\n"
      ],
      "text/plain": [
       "   ID       Description                             setSize enrichmentScore\n",
       "5  cvn04148 Efferocytosis                           98      -0.3698939     \n",
       "41 cvn03010 Ribosome                                82      -0.3120704     \n",
       "1  cvn00592 alpha-Linolenic acid metabolism         11       0.7812590     \n",
       "2  cvn01040 Biosynthesis of unsaturated fatty acids 18       0.5424550     \n",
       "3  cvn00310 Lysine degradation                      31      -0.4896714     \n",
       "4  cvn03008 Ribosome biogenesis in eukaryotes       56      -0.4223369     \n",
       "   NES       pvalue       p.adjust   qvalue    rank\n",
       "5  -1.419869 0.0201014076 0.50432328 0.5001553 2846\n",
       "41 -1.168279 0.1880597015 0.61746150 0.6123585  308\n",
       "1   1.965731 0.0003842742 0.04649718 0.0461129 1762\n",
       "2   1.582749 0.0246391900 0.50432328 0.5001553 1908\n",
       "3  -1.538601 0.0259889723 0.50432328 0.5001553 1842\n",
       "4  -1.475210 0.0197349344 0.50432328 0.5001553 2942\n",
       "   leading_edge                  \n",
       "5  tags=32%, list=21%, signal=25%\n",
       "41 tags=13%, list=2%, signal=13% \n",
       "1  tags=73%, list=13%, signal=63%\n",
       "2  tags=44%, list=14%, signal=38%\n",
       "3  tags=32%, list=14%, signal=28%\n",
       "4  tags=39%, list=22%, signal=31%\n",
       "   core_enrichment                                                                                                                                                                                                                                                                                                      \n",
       "5  111128693/111124840/111112952/111134431/111120235/111135946/111113319/111135761/111133023/111125427/111124014/111127575/111122108/111123664/111107163/111100224/111107779/111126115/111117732/111123084/111136548/111137094/111125144/111110874/111115463/111122163/111128744/111131845/111109809/111104335/111123492\n",
       "41 111137581/111102380/111104169/111132903/111130094/111137089/111133074/111130039/111111438/111127769/111124824                                                                                                                                                                                                        \n",
       "1  111113990/111115744/111127642/111136066/111123661/111107112/111115745/111136438                                                                                                                                                                                                                                      \n",
       "2  111113990/111115744/111129730/111136066/111107112/111115745/111136438/111131209                                                                                                                                                                                                                                      \n",
       "3  111115614/111109254/111130627/111121380/111130119/111107127/111125659/111110608/111112920/111128625                                                                                                                                                                                                                  \n",
       "4  111104038/111122686/111123620/111128896/111134591/111103436/111102803/111105066/111119396/111123381/111112561/111110086/111119458/111125104/111128153/111132055/111119695/111121480/111128265/111128132/111120056/111133163                                                                                          \n",
       "   MatchesCount\n",
       "5  1           \n",
       "41 1           \n",
       "1  0           \n",
       "2  0           \n",
       "3  0           \n",
       "4  0           "
      ]
     },
     "metadata": {},
     "output_type": "display_data"
    }
   ],
   "source": [
    "# generated from ChatGPT\n",
    "\n",
    "# Sample dataframes\n",
    "df1 <- genes_c\n",
    "df2 <- pathway\n",
    "\n",
    "# Function to check if any gene in df1 matches genes in a row of df2\n",
    "get_gene_matches <- function(row_df2, df1_genes) {\n",
    "  genes2 <- unlist(strsplit(as.character(row_df2), \"/\"))\n",
    "  count <- sum(genes2 %in% df1_genes)\n",
    "  return(count)\n",
    "}\n",
    "\n",
    "# Iterate over each row of df2\n",
    "matches_count <- sapply(df2$core_enrichment, get_gene_matches, df1_genes = df1$gene)\n",
    "\n",
    "# Add the matches count to df2\n",
    "df2$MatchesCount <- matches_count\n",
    "\n",
    "# Sort df with highest match counts at the top\n",
    "gene_pathway_match <- df2[order(-df2$MatchesCount),]\n",
    "head(gene_pathway_match)\n"
   ]
  },
  {
   "cell_type": "markdown",
   "id": "22dd9b18-40ac-44be-8fa0-cef75e01d7cc",
   "metadata": {},
   "source": [
    "above returns just the ***number*** of significant genes in the core enrichment for each pathway\n",
    "\n",
    "below returns the ***percent*** of significant genes in the core enrichment\n",
    "\n",
    "it's interesting that the percent returns a much different top 5 ... maybe this is the better way to do it?"
   ]
  },
  {
   "cell_type": "code",
   "execution_count": 25,
   "id": "db2caba2-83bc-4094-9a70-551bbb5dc697",
   "metadata": {},
   "outputs": [
    {
     "data": {
      "text/html": [
       "<table class=\"dataframe\">\n",
       "<caption>A data.frame: 10 × 12</caption>\n",
       "<thead>\n",
       "\t<tr><th></th><th scope=col>ID</th><th scope=col>Description</th><th scope=col>setSize</th><th scope=col>enrichmentScore</th><th scope=col>NES</th><th scope=col>pvalue</th><th scope=col>p.adjust</th><th scope=col>qvalue</th><th scope=col>rank</th><th scope=col>leading_edge</th><th scope=col>core_enrichment</th><th scope=col>MatchesPercentage</th></tr>\n",
       "\t<tr><th></th><th scope=col>&lt;chr&gt;</th><th scope=col>&lt;chr&gt;</th><th scope=col>&lt;int&gt;</th><th scope=col>&lt;dbl&gt;</th><th scope=col>&lt;dbl&gt;</th><th scope=col>&lt;dbl&gt;</th><th scope=col>&lt;dbl&gt;</th><th scope=col>&lt;dbl&gt;</th><th scope=col>&lt;int&gt;</th><th scope=col>&lt;chr&gt;</th><th scope=col>&lt;chr&gt;</th><th scope=col>&lt;dbl&gt;</th></tr>\n",
       "</thead>\n",
       "<tbody>\n",
       "\t<tr><th scope=row>41</th><td>cvn03010</td><td>Ribosome                               </td><td>82</td><td>-0.3120704</td><td>-1.168279</td><td>0.1880597015</td><td>0.61746150</td><td>0.6123585</td><td> 308</td><td>tags=13%, list=2%, signal=13% </td><td>111137581/111102380/111104169/111132903/111130094/111137089/111133074/111130039/111111438/111127769/111124824                                                                                                                                                                                                        </td><td>9.090909</td></tr>\n",
       "\t<tr><th scope=row>5</th><td>cvn04148</td><td>Efferocytosis                          </td><td>98</td><td>-0.3698939</td><td>-1.419869</td><td>0.0201014076</td><td>0.50432328</td><td>0.5001553</td><td>2846</td><td>tags=32%, list=21%, signal=25%</td><td>111128693/111124840/111112952/111134431/111120235/111135946/111113319/111135761/111133023/111125427/111124014/111127575/111122108/111123664/111107163/111100224/111107779/111126115/111117732/111123084/111136548/111137094/111125144/111110874/111115463/111122163/111128744/111131845/111109809/111104335/111123492</td><td>3.225806</td></tr>\n",
       "\t<tr><th scope=row>1</th><td>cvn00592</td><td>alpha-Linolenic acid metabolism        </td><td>11</td><td> 0.7812590</td><td> 1.965731</td><td>0.0003842742</td><td>0.04649718</td><td>0.0461129</td><td>1762</td><td>tags=73%, list=13%, signal=63%</td><td>111113990/111115744/111127642/111136066/111123661/111107112/111115745/111136438                                                                                                                                                                                                                                      </td><td>0.000000</td></tr>\n",
       "\t<tr><th scope=row>2</th><td>cvn01040</td><td>Biosynthesis of unsaturated fatty acids</td><td>18</td><td> 0.5424550</td><td> 1.582749</td><td>0.0246391900</td><td>0.50432328</td><td>0.5001553</td><td>1908</td><td>tags=44%, list=14%, signal=38%</td><td>111113990/111115744/111129730/111136066/111107112/111115745/111136438/111131209                                                                                                                                                                                                                                      </td><td>0.000000</td></tr>\n",
       "\t<tr><th scope=row>3</th><td>cvn00310</td><td>Lysine degradation                     </td><td>31</td><td>-0.4896714</td><td>-1.538601</td><td>0.0259889723</td><td>0.50432328</td><td>0.5001553</td><td>1842</td><td>tags=32%, list=14%, signal=28%</td><td>111115614/111109254/111130627/111121380/111130119/111107127/111125659/111110608/111112920/111128625                                                                                                                                                                                                                  </td><td>0.000000</td></tr>\n",
       "\t<tr><th scope=row>4</th><td>cvn03008</td><td>Ribosome biogenesis in eukaryotes      </td><td>56</td><td>-0.4223369</td><td>-1.475210</td><td>0.0197349344</td><td>0.50432328</td><td>0.5001553</td><td>2942</td><td>tags=39%, list=22%, signal=31%</td><td>111104038/111122686/111123620/111128896/111134591/111103436/111102803/111105066/111119396/111123381/111112561/111110086/111119458/111125104/111128153/111132055/111119695/111121480/111128265/111128132/111120056/111133163                                                                                          </td><td>0.000000</td></tr>\n",
       "\t<tr><th scope=row>6</th><td>cvn04068</td><td>FoxO signaling pathway                 </td><td>65</td><td>-0.3958920</td><td>-1.419769</td><td>0.0278332376</td><td>0.50432328</td><td>0.5001553</td><td>2846</td><td>tags=38%, list=21%, signal=30%</td><td>111128693/111121135/111125223/111121739/111131500/111118834/111112841/111103474/111126185/111134642/111119108/111107163/111105462/111130138/111120632/111121839/111113171/111121740/111119905/111112940/111134713/111120947/111102390/111128744/111104196                                                            </td><td>0.000000</td></tr>\n",
       "\t<tr><th scope=row>7</th><td>cvn04146</td><td>Peroxisome                             </td><td>77</td><td> 0.3458777</td><td> 1.383635</td><td>0.0291757268</td><td>0.50432328</td><td>0.5001553</td><td>1908</td><td>tags=31%, list=14%, signal=27%</td><td>111135891/111113990/111115744/111104085/111107393/111130560/111135288/111136066/111117608/111136587/111107606/111107112/111107850/111107491/111115745/111110283/111135201/111132335/111136438/111121658/111135419/111128430/111108763/111131209                                                                      </td><td>0.000000</td></tr>\n",
       "\t<tr><th scope=row>8</th><td>cvn04980</td><td>Cobalamin transport and metabolism     </td><td>13</td><td> 0.5375633</td><td> 1.443707</td><td>0.0620689655</td><td>0.61746150</td><td>0.6123585</td><td>1324</td><td>tags=23%, list=10%, signal=21%</td><td>111126313/111130560/111122749                                                                                                                                                                                                                                                                                        </td><td>0.000000</td></tr>\n",
       "\t<tr><th scope=row>9</th><td>cvn00591</td><td>Linoleic acid metabolism               </td><td>11</td><td> 0.5716292</td><td> 1.438280</td><td>0.0704545455</td><td>0.61746150</td><td>0.6123585</td><td>3429</td><td>tags=55%, list=26%, signal=41%</td><td>111127642/111123661/111127589/111127588/111121119/111111230                                                                                                                                                                                                                                                          </td><td>0.000000</td></tr>\n",
       "</tbody>\n",
       "</table>\n"
      ],
      "text/latex": [
       "A data.frame: 10 × 12\n",
       "\\begin{tabular}{r|llllllllllll}\n",
       "  & ID & Description & setSize & enrichmentScore & NES & pvalue & p.adjust & qvalue & rank & leading\\_edge & core\\_enrichment & MatchesPercentage\\\\\n",
       "  & <chr> & <chr> & <int> & <dbl> & <dbl> & <dbl> & <dbl> & <dbl> & <int> & <chr> & <chr> & <dbl>\\\\\n",
       "\\hline\n",
       "\t41 & cvn03010 & Ribosome                                & 82 & -0.3120704 & -1.168279 & 0.1880597015 & 0.61746150 & 0.6123585 &  308 & tags=13\\%, list=2\\%, signal=13\\%  & 111137581/111102380/111104169/111132903/111130094/111137089/111133074/111130039/111111438/111127769/111124824                                                                                                                                                                                                         & 9.090909\\\\\n",
       "\t5 & cvn04148 & Efferocytosis                           & 98 & -0.3698939 & -1.419869 & 0.0201014076 & 0.50432328 & 0.5001553 & 2846 & tags=32\\%, list=21\\%, signal=25\\% & 111128693/111124840/111112952/111134431/111120235/111135946/111113319/111135761/111133023/111125427/111124014/111127575/111122108/111123664/111107163/111100224/111107779/111126115/111117732/111123084/111136548/111137094/111125144/111110874/111115463/111122163/111128744/111131845/111109809/111104335/111123492 & 3.225806\\\\\n",
       "\t1 & cvn00592 & alpha-Linolenic acid metabolism         & 11 &  0.7812590 &  1.965731 & 0.0003842742 & 0.04649718 & 0.0461129 & 1762 & tags=73\\%, list=13\\%, signal=63\\% & 111113990/111115744/111127642/111136066/111123661/111107112/111115745/111136438                                                                                                                                                                                                                                       & 0.000000\\\\\n",
       "\t2 & cvn01040 & Biosynthesis of unsaturated fatty acids & 18 &  0.5424550 &  1.582749 & 0.0246391900 & 0.50432328 & 0.5001553 & 1908 & tags=44\\%, list=14\\%, signal=38\\% & 111113990/111115744/111129730/111136066/111107112/111115745/111136438/111131209                                                                                                                                                                                                                                       & 0.000000\\\\\n",
       "\t3 & cvn00310 & Lysine degradation                      & 31 & -0.4896714 & -1.538601 & 0.0259889723 & 0.50432328 & 0.5001553 & 1842 & tags=32\\%, list=14\\%, signal=28\\% & 111115614/111109254/111130627/111121380/111130119/111107127/111125659/111110608/111112920/111128625                                                                                                                                                                                                                   & 0.000000\\\\\n",
       "\t4 & cvn03008 & Ribosome biogenesis in eukaryotes       & 56 & -0.4223369 & -1.475210 & 0.0197349344 & 0.50432328 & 0.5001553 & 2942 & tags=39\\%, list=22\\%, signal=31\\% & 111104038/111122686/111123620/111128896/111134591/111103436/111102803/111105066/111119396/111123381/111112561/111110086/111119458/111125104/111128153/111132055/111119695/111121480/111128265/111128132/111120056/111133163                                                                                           & 0.000000\\\\\n",
       "\t6 & cvn04068 & FoxO signaling pathway                  & 65 & -0.3958920 & -1.419769 & 0.0278332376 & 0.50432328 & 0.5001553 & 2846 & tags=38\\%, list=21\\%, signal=30\\% & 111128693/111121135/111125223/111121739/111131500/111118834/111112841/111103474/111126185/111134642/111119108/111107163/111105462/111130138/111120632/111121839/111113171/111121740/111119905/111112940/111134713/111120947/111102390/111128744/111104196                                                             & 0.000000\\\\\n",
       "\t7 & cvn04146 & Peroxisome                              & 77 &  0.3458777 &  1.383635 & 0.0291757268 & 0.50432328 & 0.5001553 & 1908 & tags=31\\%, list=14\\%, signal=27\\% & 111135891/111113990/111115744/111104085/111107393/111130560/111135288/111136066/111117608/111136587/111107606/111107112/111107850/111107491/111115745/111110283/111135201/111132335/111136438/111121658/111135419/111128430/111108763/111131209                                                                       & 0.000000\\\\\n",
       "\t8 & cvn04980 & Cobalamin transport and metabolism      & 13 &  0.5375633 &  1.443707 & 0.0620689655 & 0.61746150 & 0.6123585 & 1324 & tags=23\\%, list=10\\%, signal=21\\% & 111126313/111130560/111122749                                                                                                                                                                                                                                                                                         & 0.000000\\\\\n",
       "\t9 & cvn00591 & Linoleic acid metabolism                & 11 &  0.5716292 &  1.438280 & 0.0704545455 & 0.61746150 & 0.6123585 & 3429 & tags=55\\%, list=26\\%, signal=41\\% & 111127642/111123661/111127589/111127588/111121119/111111230                                                                                                                                                                                                                                                           & 0.000000\\\\\n",
       "\\end{tabular}\n"
      ],
      "text/markdown": [
       "\n",
       "A data.frame: 10 × 12\n",
       "\n",
       "| <!--/--> | ID &lt;chr&gt; | Description &lt;chr&gt; | setSize &lt;int&gt; | enrichmentScore &lt;dbl&gt; | NES &lt;dbl&gt; | pvalue &lt;dbl&gt; | p.adjust &lt;dbl&gt; | qvalue &lt;dbl&gt; | rank &lt;int&gt; | leading_edge &lt;chr&gt; | core_enrichment &lt;chr&gt; | MatchesPercentage &lt;dbl&gt; |\n",
       "|---|---|---|---|---|---|---|---|---|---|---|---|---|\n",
       "| 41 | cvn03010 | Ribosome                                | 82 | -0.3120704 | -1.168279 | 0.1880597015 | 0.61746150 | 0.6123585 |  308 | tags=13%, list=2%, signal=13%  | 111137581/111102380/111104169/111132903/111130094/111137089/111133074/111130039/111111438/111127769/111124824                                                                                                                                                                                                         | 9.090909 |\n",
       "| 5 | cvn04148 | Efferocytosis                           | 98 | -0.3698939 | -1.419869 | 0.0201014076 | 0.50432328 | 0.5001553 | 2846 | tags=32%, list=21%, signal=25% | 111128693/111124840/111112952/111134431/111120235/111135946/111113319/111135761/111133023/111125427/111124014/111127575/111122108/111123664/111107163/111100224/111107779/111126115/111117732/111123084/111136548/111137094/111125144/111110874/111115463/111122163/111128744/111131845/111109809/111104335/111123492 | 3.225806 |\n",
       "| 1 | cvn00592 | alpha-Linolenic acid metabolism         | 11 |  0.7812590 |  1.965731 | 0.0003842742 | 0.04649718 | 0.0461129 | 1762 | tags=73%, list=13%, signal=63% | 111113990/111115744/111127642/111136066/111123661/111107112/111115745/111136438                                                                                                                                                                                                                                       | 0.000000 |\n",
       "| 2 | cvn01040 | Biosynthesis of unsaturated fatty acids | 18 |  0.5424550 |  1.582749 | 0.0246391900 | 0.50432328 | 0.5001553 | 1908 | tags=44%, list=14%, signal=38% | 111113990/111115744/111129730/111136066/111107112/111115745/111136438/111131209                                                                                                                                                                                                                                       | 0.000000 |\n",
       "| 3 | cvn00310 | Lysine degradation                      | 31 | -0.4896714 | -1.538601 | 0.0259889723 | 0.50432328 | 0.5001553 | 1842 | tags=32%, list=14%, signal=28% | 111115614/111109254/111130627/111121380/111130119/111107127/111125659/111110608/111112920/111128625                                                                                                                                                                                                                   | 0.000000 |\n",
       "| 4 | cvn03008 | Ribosome biogenesis in eukaryotes       | 56 | -0.4223369 | -1.475210 | 0.0197349344 | 0.50432328 | 0.5001553 | 2942 | tags=39%, list=22%, signal=31% | 111104038/111122686/111123620/111128896/111134591/111103436/111102803/111105066/111119396/111123381/111112561/111110086/111119458/111125104/111128153/111132055/111119695/111121480/111128265/111128132/111120056/111133163                                                                                           | 0.000000 |\n",
       "| 6 | cvn04068 | FoxO signaling pathway                  | 65 | -0.3958920 | -1.419769 | 0.0278332376 | 0.50432328 | 0.5001553 | 2846 | tags=38%, list=21%, signal=30% | 111128693/111121135/111125223/111121739/111131500/111118834/111112841/111103474/111126185/111134642/111119108/111107163/111105462/111130138/111120632/111121839/111113171/111121740/111119905/111112940/111134713/111120947/111102390/111128744/111104196                                                             | 0.000000 |\n",
       "| 7 | cvn04146 | Peroxisome                              | 77 |  0.3458777 |  1.383635 | 0.0291757268 | 0.50432328 | 0.5001553 | 1908 | tags=31%, list=14%, signal=27% | 111135891/111113990/111115744/111104085/111107393/111130560/111135288/111136066/111117608/111136587/111107606/111107112/111107850/111107491/111115745/111110283/111135201/111132335/111136438/111121658/111135419/111128430/111108763/111131209                                                                       | 0.000000 |\n",
       "| 8 | cvn04980 | Cobalamin transport and metabolism      | 13 |  0.5375633 |  1.443707 | 0.0620689655 | 0.61746150 | 0.6123585 | 1324 | tags=23%, list=10%, signal=21% | 111126313/111130560/111122749                                                                                                                                                                                                                                                                                         | 0.000000 |\n",
       "| 9 | cvn00591 | Linoleic acid metabolism                | 11 |  0.5716292 |  1.438280 | 0.0704545455 | 0.61746150 | 0.6123585 | 3429 | tags=55%, list=26%, signal=41% | 111127642/111123661/111127589/111127588/111121119/111111230                                                                                                                                                                                                                                                           | 0.000000 |\n",
       "\n"
      ],
      "text/plain": [
       "   ID       Description                             setSize enrichmentScore\n",
       "41 cvn03010 Ribosome                                82      -0.3120704     \n",
       "5  cvn04148 Efferocytosis                           98      -0.3698939     \n",
       "1  cvn00592 alpha-Linolenic acid metabolism         11       0.7812590     \n",
       "2  cvn01040 Biosynthesis of unsaturated fatty acids 18       0.5424550     \n",
       "3  cvn00310 Lysine degradation                      31      -0.4896714     \n",
       "4  cvn03008 Ribosome biogenesis in eukaryotes       56      -0.4223369     \n",
       "6  cvn04068 FoxO signaling pathway                  65      -0.3958920     \n",
       "7  cvn04146 Peroxisome                              77       0.3458777     \n",
       "8  cvn04980 Cobalamin transport and metabolism      13       0.5375633     \n",
       "9  cvn00591 Linoleic acid metabolism                11       0.5716292     \n",
       "   NES       pvalue       p.adjust   qvalue    rank\n",
       "41 -1.168279 0.1880597015 0.61746150 0.6123585  308\n",
       "5  -1.419869 0.0201014076 0.50432328 0.5001553 2846\n",
       "1   1.965731 0.0003842742 0.04649718 0.0461129 1762\n",
       "2   1.582749 0.0246391900 0.50432328 0.5001553 1908\n",
       "3  -1.538601 0.0259889723 0.50432328 0.5001553 1842\n",
       "4  -1.475210 0.0197349344 0.50432328 0.5001553 2942\n",
       "6  -1.419769 0.0278332376 0.50432328 0.5001553 2846\n",
       "7   1.383635 0.0291757268 0.50432328 0.5001553 1908\n",
       "8   1.443707 0.0620689655 0.61746150 0.6123585 1324\n",
       "9   1.438280 0.0704545455 0.61746150 0.6123585 3429\n",
       "   leading_edge                  \n",
       "41 tags=13%, list=2%, signal=13% \n",
       "5  tags=32%, list=21%, signal=25%\n",
       "1  tags=73%, list=13%, signal=63%\n",
       "2  tags=44%, list=14%, signal=38%\n",
       "3  tags=32%, list=14%, signal=28%\n",
       "4  tags=39%, list=22%, signal=31%\n",
       "6  tags=38%, list=21%, signal=30%\n",
       "7  tags=31%, list=14%, signal=27%\n",
       "8  tags=23%, list=10%, signal=21%\n",
       "9  tags=55%, list=26%, signal=41%\n",
       "   core_enrichment                                                                                                                                                                                                                                                                                                      \n",
       "41 111137581/111102380/111104169/111132903/111130094/111137089/111133074/111130039/111111438/111127769/111124824                                                                                                                                                                                                        \n",
       "5  111128693/111124840/111112952/111134431/111120235/111135946/111113319/111135761/111133023/111125427/111124014/111127575/111122108/111123664/111107163/111100224/111107779/111126115/111117732/111123084/111136548/111137094/111125144/111110874/111115463/111122163/111128744/111131845/111109809/111104335/111123492\n",
       "1  111113990/111115744/111127642/111136066/111123661/111107112/111115745/111136438                                                                                                                                                                                                                                      \n",
       "2  111113990/111115744/111129730/111136066/111107112/111115745/111136438/111131209                                                                                                                                                                                                                                      \n",
       "3  111115614/111109254/111130627/111121380/111130119/111107127/111125659/111110608/111112920/111128625                                                                                                                                                                                                                  \n",
       "4  111104038/111122686/111123620/111128896/111134591/111103436/111102803/111105066/111119396/111123381/111112561/111110086/111119458/111125104/111128153/111132055/111119695/111121480/111128265/111128132/111120056/111133163                                                                                          \n",
       "6  111128693/111121135/111125223/111121739/111131500/111118834/111112841/111103474/111126185/111134642/111119108/111107163/111105462/111130138/111120632/111121839/111113171/111121740/111119905/111112940/111134713/111120947/111102390/111128744/111104196                                                            \n",
       "7  111135891/111113990/111115744/111104085/111107393/111130560/111135288/111136066/111117608/111136587/111107606/111107112/111107850/111107491/111115745/111110283/111135201/111132335/111136438/111121658/111135419/111128430/111108763/111131209                                                                      \n",
       "8  111126313/111130560/111122749                                                                                                                                                                                                                                                                                        \n",
       "9  111127642/111123661/111127589/111127588/111121119/111111230                                                                                                                                                                                                                                                          \n",
       "   MatchesPercentage\n",
       "41 9.090909         \n",
       "5  3.225806         \n",
       "1  0.000000         \n",
       "2  0.000000         \n",
       "3  0.000000         \n",
       "4  0.000000         \n",
       "6  0.000000         \n",
       "7  0.000000         \n",
       "8  0.000000         \n",
       "9  0.000000         "
      ]
     },
     "metadata": {},
     "output_type": "display_data"
    }
   ],
   "source": [
    "# Sample dataframes\n",
    "df1 <- genes_c\n",
    "df2 <- pathway\n",
    "\n",
    "# Function to check if any gene in df1 matches genes in a row of df2\n",
    "get_gene_matches <- function(row_df2, df1_genes) {\n",
    "  genes2 <- unlist(strsplit(as.character(row_df2), \"/\"))\n",
    "  count <- sum(genes2 %in% df1_genes)\n",
    "  # Calculate the percentage of matched genes in the row\n",
    "  percentage <- count / length(genes2) * 100\n",
    "  return(percentage)\n",
    "}\n",
    "\n",
    "# Iterate over each row of df2\n",
    "matches_percentage <- sapply(df2$core_enrichment, get_gene_matches, df1_genes = df1$gene)\n",
    "\n",
    "# Add the matches percentage to df2\n",
    "df2$MatchesPercentage <- matches_percentage\n",
    "\n",
    "# Sort df with highest match percentages at the top\n",
    "gene_pathway_match <- df2[order(-df2$MatchesPercentage),]\n",
    "head(gene_pathway_match, 10)\n"
   ]
  },
  {
   "cell_type": "markdown",
   "id": "07691fe1-eb43-4aed-a76a-0f1c7f5355cd",
   "metadata": {},
   "source": [
    "### are the sig genes in second exposure control the same ones that are sig in first exposure hypoxia"
   ]
  },
  {
   "cell_type": "code",
   "execution_count": 35,
   "id": "79f11f3f-105a-4b51-95f4-c309ebda2b8e",
   "metadata": {},
   "outputs": [
    {
     "data": {
      "text/html": [
       "<table class=\"dataframe\">\n",
       "<caption>A data.frame: 12 × 2</caption>\n",
       "<thead>\n",
       "\t<tr><th scope=col>gene</th><th scope=col>lfc</th></tr>\n",
       "\t<tr><th scope=col>&lt;chr&gt;</th><th scope=col>&lt;dbl&gt;</th></tr>\n",
       "</thead>\n",
       "<tbody>\n",
       "\t<tr><td>LOC111133260</td><td>-1.400662</td></tr>\n",
       "\t<tr><td>LOC111130870</td><td> 1.930161</td></tr>\n",
       "\t<tr><td>LOC111124824</td><td>-1.748396</td></tr>\n",
       "\t<tr><td>LOC111123492</td><td>-1.250427</td></tr>\n",
       "\t<tr><td>LOC111124669</td><td>-1.375254</td></tr>\n",
       "\t<tr><td>LOC111129146</td><td> 1.352978</td></tr>\n",
       "\t<tr><td>LOC111133892</td><td>-1.039787</td></tr>\n",
       "\t<tr><td>LOC111133874</td><td>-1.008349</td></tr>\n",
       "\t<tr><td>LOC111132673</td><td> 1.418782</td></tr>\n",
       "\t<tr><td>LOC111109617</td><td>-2.260938</td></tr>\n",
       "\t<tr><td>LOC111110167</td><td>-1.811572</td></tr>\n",
       "\t<tr><td>LOC111117745</td><td>-1.198957</td></tr>\n",
       "</tbody>\n",
       "</table>\n"
      ],
      "text/latex": [
       "A data.frame: 12 × 2\n",
       "\\begin{tabular}{ll}\n",
       " gene & lfc\\\\\n",
       " <chr> & <dbl>\\\\\n",
       "\\hline\n",
       "\t LOC111133260 & -1.400662\\\\\n",
       "\t LOC111130870 &  1.930161\\\\\n",
       "\t LOC111124824 & -1.748396\\\\\n",
       "\t LOC111123492 & -1.250427\\\\\n",
       "\t LOC111124669 & -1.375254\\\\\n",
       "\t LOC111129146 &  1.352978\\\\\n",
       "\t LOC111133892 & -1.039787\\\\\n",
       "\t LOC111133874 & -1.008349\\\\\n",
       "\t LOC111132673 &  1.418782\\\\\n",
       "\t LOC111109617 & -2.260938\\\\\n",
       "\t LOC111110167 & -1.811572\\\\\n",
       "\t LOC111117745 & -1.198957\\\\\n",
       "\\end{tabular}\n"
      ],
      "text/markdown": [
       "\n",
       "A data.frame: 12 × 2\n",
       "\n",
       "| gene &lt;chr&gt; | lfc &lt;dbl&gt; |\n",
       "|---|---|\n",
       "| LOC111133260 | -1.400662 |\n",
       "| LOC111130870 |  1.930161 |\n",
       "| LOC111124824 | -1.748396 |\n",
       "| LOC111123492 | -1.250427 |\n",
       "| LOC111124669 | -1.375254 |\n",
       "| LOC111129146 |  1.352978 |\n",
       "| LOC111133892 | -1.039787 |\n",
       "| LOC111133874 | -1.008349 |\n",
       "| LOC111132673 |  1.418782 |\n",
       "| LOC111109617 | -2.260938 |\n",
       "| LOC111110167 | -1.811572 |\n",
       "| LOC111117745 | -1.198957 |\n",
       "\n"
      ],
      "text/plain": [
       "   gene         lfc      \n",
       "1  LOC111133260 -1.400662\n",
       "2  LOC111130870  1.930161\n",
       "3  LOC111124824 -1.748396\n",
       "4  LOC111123492 -1.250427\n",
       "5  LOC111124669 -1.375254\n",
       "6  LOC111129146  1.352978\n",
       "7  LOC111133892 -1.039787\n",
       "8  LOC111133874 -1.008349\n",
       "9  LOC111132673  1.418782\n",
       "10 LOC111109617 -2.260938\n",
       "11 LOC111110167 -1.811572\n",
       "12 LOC111117745 -1.198957"
      ]
     },
     "metadata": {},
     "output_type": "display_data"
    }
   ],
   "source": [
    "genes_control <- read.csv('/project/pi_sarah_gignouxwolfsohn_uml_edu/julia/CE_MethylRAD_analysis_2018/analysis/significant_genes/p2c_lfc25_genes.csv')\n",
    "genes_control <- filter(genes_control, genes_control$padj < 0.05)\n",
    "\n",
    "genes_control <- select(genes_control,'X', 'log2FoldChange')\n",
    "colnames(genes_control) <- c('gene', 'lfc')\n",
    "\n",
    "genes_control"
   ]
  },
  {
   "cell_type": "code",
   "execution_count": 34,
   "id": "3eb8e031-db9c-4f12-8de3-b8efea333415",
   "metadata": {},
   "outputs": [
    {
     "data": {
      "text/html": [
       "<style>\n",
       ".list-inline {list-style: none; margin:0; padding: 0}\n",
       ".list-inline>li {display: inline-block}\n",
       ".list-inline>li:not(:last-child)::after {content: \"\\00b7\"; padding: 0 .5ex}\n",
       "</style>\n",
       "<ol class=list-inline><li>231</li><li>2</li></ol>\n"
      ],
      "text/latex": [
       "\\begin{enumerate*}\n",
       "\\item 231\n",
       "\\item 2\n",
       "\\end{enumerate*}\n"
      ],
      "text/markdown": [
       "1. 231\n",
       "2. 2\n",
       "\n",
       "\n"
      ],
      "text/plain": [
       "[1] 231   2"
      ]
     },
     "metadata": {},
     "output_type": "display_data"
    },
    {
     "data": {
      "text/html": [
       "<table class=\"dataframe\">\n",
       "<caption>A data.frame: 6 × 2</caption>\n",
       "<thead>\n",
       "\t<tr><th></th><th scope=col>gene</th><th scope=col>lfc</th></tr>\n",
       "\t<tr><th></th><th scope=col>&lt;chr&gt;</th><th scope=col>&lt;dbl&gt;</th></tr>\n",
       "</thead>\n",
       "<tbody>\n",
       "\t<tr><th scope=row>1</th><td>LOC111133260</td><td>1.723462</td></tr>\n",
       "\t<tr><th scope=row>2</th><td>LOC111109809</td><td>1.986564</td></tr>\n",
       "\t<tr><th scope=row>3</th><td>LOC111104153</td><td>1.441954</td></tr>\n",
       "\t<tr><th scope=row>4</th><td>LOC111128314</td><td>1.404023</td></tr>\n",
       "\t<tr><th scope=row>5</th><td>LOC111128784</td><td>1.968813</td></tr>\n",
       "\t<tr><th scope=row>6</th><td>LOC111113022</td><td>1.254941</td></tr>\n",
       "</tbody>\n",
       "</table>\n"
      ],
      "text/latex": [
       "A data.frame: 6 × 2\n",
       "\\begin{tabular}{r|ll}\n",
       "  & gene & lfc\\\\\n",
       "  & <chr> & <dbl>\\\\\n",
       "\\hline\n",
       "\t1 & LOC111133260 & 1.723462\\\\\n",
       "\t2 & LOC111109809 & 1.986564\\\\\n",
       "\t3 & LOC111104153 & 1.441954\\\\\n",
       "\t4 & LOC111128314 & 1.404023\\\\\n",
       "\t5 & LOC111128784 & 1.968813\\\\\n",
       "\t6 & LOC111113022 & 1.254941\\\\\n",
       "\\end{tabular}\n"
      ],
      "text/markdown": [
       "\n",
       "A data.frame: 6 × 2\n",
       "\n",
       "| <!--/--> | gene &lt;chr&gt; | lfc &lt;dbl&gt; |\n",
       "|---|---|---|\n",
       "| 1 | LOC111133260 | 1.723462 |\n",
       "| 2 | LOC111109809 | 1.986564 |\n",
       "| 3 | LOC111104153 | 1.441954 |\n",
       "| 4 | LOC111128314 | 1.404023 |\n",
       "| 5 | LOC111128784 | 1.968813 |\n",
       "| 6 | LOC111113022 | 1.254941 |\n",
       "\n"
      ],
      "text/plain": [
       "  gene         lfc     \n",
       "1 LOC111133260 1.723462\n",
       "2 LOC111109809 1.986564\n",
       "3 LOC111104153 1.441954\n",
       "4 LOC111128314 1.404023\n",
       "5 LOC111128784 1.968813\n",
       "6 LOC111113022 1.254941"
      ]
     },
     "metadata": {},
     "output_type": "display_data"
    }
   ],
   "source": [
    "genes_hypoxia <- read.csv('/project/pi_sarah_gignouxwolfsohn_uml_edu/julia/CE_MethylRAD_analysis_2018/analysis/significant_genes/p1h_lfc25_genes.csv')\n",
    "genes_hypoxia <- filter(genes_hypoxia, genes_hypoxia$padj < 0.05)\n",
    "\n",
    "genes_hypoxia <- select(genes_hypoxia, 'X', 'log2FoldChange')\n",
    "colnames(genes_hypoxia) <- c('gene', 'lfc')\n",
    "\n",
    "dim(genes_hypoxia)\n",
    "head(genes_hypoxia)"
   ]
  },
  {
   "cell_type": "markdown",
   "id": "2f9e5c46-40a7-4ed3-b1c6-d05db8006a15",
   "metadata": {},
   "source": [
    "checking what genes that were significant for phase 2 control, phase 1 control/hypoxia are also significantly DMG in phase 1 hypoxia, phase 2 control/hypoxia"
   ]
  },
  {
   "cell_type": "code",
   "execution_count": 38,
   "id": "6d54b334-99f1-42e8-b85c-4cd541d44716",
   "metadata": {},
   "outputs": [
    {
     "data": {
      "text/html": [
       "<table class=\"dataframe\">\n",
       "<caption>A data.frame: 6 × 2</caption>\n",
       "<thead>\n",
       "\t<tr><th></th><th scope=col>gene</th><th scope=col>lfc</th></tr>\n",
       "\t<tr><th></th><th scope=col>&lt;chr&gt;</th><th scope=col>&lt;dbl&gt;</th></tr>\n",
       "</thead>\n",
       "<tbody>\n",
       "\t<tr><th scope=row>1</th><td>LOC111133260</td><td> 1.723462</td></tr>\n",
       "\t<tr><th scope=row>70</th><td>LOC111124824</td><td> 2.394202</td></tr>\n",
       "\t<tr><th scope=row>75</th><td>LOC111123492</td><td> 1.628090</td></tr>\n",
       "\t<tr><th scope=row>84</th><td>LOC111124669</td><td> 1.533885</td></tr>\n",
       "\t<tr><th scope=row>123</th><td>LOC111129146</td><td>-1.600709</td></tr>\n",
       "\t<tr><th scope=row>144</th><td>LOC111133892</td><td> 1.070634</td></tr>\n",
       "</tbody>\n",
       "</table>\n"
      ],
      "text/latex": [
       "A data.frame: 6 × 2\n",
       "\\begin{tabular}{r|ll}\n",
       "  & gene & lfc\\\\\n",
       "  & <chr> & <dbl>\\\\\n",
       "\\hline\n",
       "\t1 & LOC111133260 &  1.723462\\\\\n",
       "\t70 & LOC111124824 &  2.394202\\\\\n",
       "\t75 & LOC111123492 &  1.628090\\\\\n",
       "\t84 & LOC111124669 &  1.533885\\\\\n",
       "\t123 & LOC111129146 & -1.600709\\\\\n",
       "\t144 & LOC111133892 &  1.070634\\\\\n",
       "\\end{tabular}\n"
      ],
      "text/markdown": [
       "\n",
       "A data.frame: 6 × 2\n",
       "\n",
       "| <!--/--> | gene &lt;chr&gt; | lfc &lt;dbl&gt; |\n",
       "|---|---|---|\n",
       "| 1 | LOC111133260 |  1.723462 |\n",
       "| 70 | LOC111124824 |  2.394202 |\n",
       "| 75 | LOC111123492 |  1.628090 |\n",
       "| 84 | LOC111124669 |  1.533885 |\n",
       "| 123 | LOC111129146 | -1.600709 |\n",
       "| 144 | LOC111133892 |  1.070634 |\n",
       "\n"
      ],
      "text/plain": [
       "    gene         lfc      \n",
       "1   LOC111133260  1.723462\n",
       "70  LOC111124824  2.394202\n",
       "75  LOC111123492  1.628090\n",
       "84  LOC111124669  1.533885\n",
       "123 LOC111129146 -1.600709\n",
       "144 LOC111133892  1.070634"
      ]
     },
     "metadata": {},
     "output_type": "display_data"
    }
   ],
   "source": [
    "hypoxia <- genes_hypoxia[genes_hypoxia$gene %in% genes_control$gene, ]\n",
    "hypoxia"
   ]
  },
  {
   "cell_type": "markdown",
   "id": "dc7b8122-914b-45cb-a5b0-951d95fc73a9",
   "metadata": {},
   "source": [
    "so these are the log fold changes for the genes in phase 1 hypoxia, phase 2 control/hypoxia\n",
    "\n",
    "> -LFC = more methylation in hypoxia control\n",
    "\n",
    "> +LFC = more methylation in hypoxia hypoxia"
   ]
  },
  {
   "cell_type": "code",
   "execution_count": 40,
   "id": "a4e5ee90-f85f-4e89-ad4a-9c1a2250f6cf",
   "metadata": {},
   "outputs": [
    {
     "data": {
      "text/html": [
       "<table class=\"dataframe\">\n",
       "<caption>A data.frame: 6 × 2</caption>\n",
       "<thead>\n",
       "\t<tr><th></th><th scope=col>gene</th><th scope=col>lfc</th></tr>\n",
       "\t<tr><th></th><th scope=col>&lt;chr&gt;</th><th scope=col>&lt;dbl&gt;</th></tr>\n",
       "</thead>\n",
       "<tbody>\n",
       "\t<tr><th scope=row>1</th><td>LOC111133260</td><td>-1.400662</td></tr>\n",
       "\t<tr><th scope=row>3</th><td>LOC111124824</td><td>-1.748396</td></tr>\n",
       "\t<tr><th scope=row>4</th><td>LOC111123492</td><td>-1.250427</td></tr>\n",
       "\t<tr><th scope=row>5</th><td>LOC111124669</td><td>-1.375254</td></tr>\n",
       "\t<tr><th scope=row>6</th><td>LOC111129146</td><td> 1.352978</td></tr>\n",
       "\t<tr><th scope=row>7</th><td>LOC111133892</td><td>-1.039787</td></tr>\n",
       "</tbody>\n",
       "</table>\n"
      ],
      "text/latex": [
       "A data.frame: 6 × 2\n",
       "\\begin{tabular}{r|ll}\n",
       "  & gene & lfc\\\\\n",
       "  & <chr> & <dbl>\\\\\n",
       "\\hline\n",
       "\t1 & LOC111133260 & -1.400662\\\\\n",
       "\t3 & LOC111124824 & -1.748396\\\\\n",
       "\t4 & LOC111123492 & -1.250427\\\\\n",
       "\t5 & LOC111124669 & -1.375254\\\\\n",
       "\t6 & LOC111129146 &  1.352978\\\\\n",
       "\t7 & LOC111133892 & -1.039787\\\\\n",
       "\\end{tabular}\n"
      ],
      "text/markdown": [
       "\n",
       "A data.frame: 6 × 2\n",
       "\n",
       "| <!--/--> | gene &lt;chr&gt; | lfc &lt;dbl&gt; |\n",
       "|---|---|---|\n",
       "| 1 | LOC111133260 | -1.400662 |\n",
       "| 3 | LOC111124824 | -1.748396 |\n",
       "| 4 | LOC111123492 | -1.250427 |\n",
       "| 5 | LOC111124669 | -1.375254 |\n",
       "| 6 | LOC111129146 |  1.352978 |\n",
       "| 7 | LOC111133892 | -1.039787 |\n",
       "\n"
      ],
      "text/plain": [
       "  gene         lfc      \n",
       "1 LOC111133260 -1.400662\n",
       "3 LOC111124824 -1.748396\n",
       "4 LOC111123492 -1.250427\n",
       "5 LOC111124669 -1.375254\n",
       "6 LOC111129146  1.352978\n",
       "7 LOC111133892 -1.039787"
      ]
     },
     "metadata": {},
     "output_type": "display_data"
    }
   ],
   "source": [
    "control <- genes_control[genes_control$gene %in% hypoxia$gene, ]\n",
    "control"
   ]
  },
  {
   "cell_type": "markdown",
   "id": "799a0e24-f1cd-4154-bac9-4a4aa5572cf7",
   "metadata": {},
   "source": [
    "these log fold changes are for genes in phase 1 hypoxia/control and phase 2 control\n",
    "\n",
    "> -LFC = more methylation in control control\n",
    "\n",
    "> +LFC = more methylation in hypoxia control"
   ]
  },
  {
   "cell_type": "code",
   "execution_count": 41,
   "id": "97ff03db-4ad3-488f-b536-a47074afb39c",
   "metadata": {},
   "outputs": [
    {
     "data": {
      "text/html": [
       "<table class=\"dataframe\">\n",
       "<caption>A data.frame: 6 × 3</caption>\n",
       "<thead>\n",
       "\t<tr><th scope=col>gene</th><th scope=col>hypoxia_lfc</th><th scope=col>control_lfc</th></tr>\n",
       "\t<tr><th scope=col>&lt;chr&gt;</th><th scope=col>&lt;dbl&gt;</th><th scope=col>&lt;dbl&gt;</th></tr>\n",
       "</thead>\n",
       "<tbody>\n",
       "\t<tr><td>LOC111123492</td><td> 1.628090</td><td>-1.250427</td></tr>\n",
       "\t<tr><td>LOC111124669</td><td> 1.533885</td><td>-1.375254</td></tr>\n",
       "\t<tr><td>LOC111124824</td><td> 2.394202</td><td>-1.748396</td></tr>\n",
       "\t<tr><td>LOC111129146</td><td>-1.600709</td><td> 1.352978</td></tr>\n",
       "\t<tr><td>LOC111133260</td><td> 1.723462</td><td>-1.400662</td></tr>\n",
       "\t<tr><td>LOC111133892</td><td> 1.070634</td><td>-1.039787</td></tr>\n",
       "</tbody>\n",
       "</table>\n"
      ],
      "text/latex": [
       "A data.frame: 6 × 3\n",
       "\\begin{tabular}{lll}\n",
       " gene & hypoxia\\_lfc & control\\_lfc\\\\\n",
       " <chr> & <dbl> & <dbl>\\\\\n",
       "\\hline\n",
       "\t LOC111123492 &  1.628090 & -1.250427\\\\\n",
       "\t LOC111124669 &  1.533885 & -1.375254\\\\\n",
       "\t LOC111124824 &  2.394202 & -1.748396\\\\\n",
       "\t LOC111129146 & -1.600709 &  1.352978\\\\\n",
       "\t LOC111133260 &  1.723462 & -1.400662\\\\\n",
       "\t LOC111133892 &  1.070634 & -1.039787\\\\\n",
       "\\end{tabular}\n"
      ],
      "text/markdown": [
       "\n",
       "A data.frame: 6 × 3\n",
       "\n",
       "| gene &lt;chr&gt; | hypoxia_lfc &lt;dbl&gt; | control_lfc &lt;dbl&gt; |\n",
       "|---|---|---|\n",
       "| LOC111123492 |  1.628090 | -1.250427 |\n",
       "| LOC111124669 |  1.533885 | -1.375254 |\n",
       "| LOC111124824 |  2.394202 | -1.748396 |\n",
       "| LOC111129146 | -1.600709 |  1.352978 |\n",
       "| LOC111133260 |  1.723462 | -1.400662 |\n",
       "| LOC111133892 |  1.070634 | -1.039787 |\n",
       "\n"
      ],
      "text/plain": [
       "  gene         hypoxia_lfc control_lfc\n",
       "1 LOC111123492  1.628090   -1.250427  \n",
       "2 LOC111124669  1.533885   -1.375254  \n",
       "3 LOC111124824  2.394202   -1.748396  \n",
       "4 LOC111129146 -1.600709    1.352978  \n",
       "5 LOC111133260  1.723462   -1.400662  \n",
       "6 LOC111133892  1.070634   -1.039787  "
      ]
     },
     "metadata": {},
     "output_type": "display_data"
    }
   ],
   "source": [
    "colnames(hypoxia) <- c('gene', 'hypoxia_lfc')\n",
    "colnames(control) <- c('gene', 'control_lfc')\n",
    "\n",
    "merge(hypoxia, control, by='gene')"
   ]
  },
  {
   "cell_type": "code",
   "execution_count": 42,
   "id": "31bffea2-2ec2-4b8c-a9b4-f903644ae0e3",
   "metadata": {},
   "outputs": [],
   "source": [
    "write.csv(merge(hypoxia, control, by='gene'), '/project/pi_sarah_gignouxwolfsohn_uml_edu/julia/CE_MethylRAD_analysis_2018/analysis/shared_genes.csv')"
   ]
  }
 ],
 "metadata": {
  "kernelspec": {
   "display_name": "R [conda env:.conda-r-env]",
   "language": "R",
   "name": "conda-env-.conda-r-env-r"
  },
  "language_info": {
   "codemirror_mode": "r",
   "file_extension": ".r",
   "mimetype": "text/x-r-source",
   "name": "R",
   "pygments_lexer": "r",
   "version": "4.3.2"
  }
 },
 "nbformat": 4,
 "nbformat_minor": 5
}
