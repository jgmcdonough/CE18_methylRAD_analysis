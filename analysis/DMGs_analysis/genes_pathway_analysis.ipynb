{
 "cells": [
  {
   "cell_type": "markdown",
   "id": "d9dfba50-6cd0-4119-9d03-4dcf79b492b4",
   "metadata": {},
   "source": [
    "# Are our significant DMGs the core enrichment genes in our identified enriched pathways?\n",
    "We want to combine what we've found for statistically signficant differentially methylated genes and connect it to our identified enriched pathways so we can start to make sense of things biologically.\n",
    "\n",
    "I have generated two csv files for both **phase 1 warm vs. control oysters**:\n",
    "- phase1_wc_genes.csv - list of significant (adjusted p-value < 0.05) DMGs\n",
    "- p1_wc_pathway.csv - list of enriched pathways from KEGG\n",
    "\n",
    "Each enriched pathway contains a list of 'core enrichment genes' - these are a list of genes that are reported as part of the 'core enrichment' and contribute to the observed enrichment score.\n",
    "\n",
    "The thinking is that maybe some of our signficant DMGs are part of that core enrichment group, which could tell us that that pathway is especially important/biologically relevant."
   ]
  },
  {
   "cell_type": "markdown",
   "id": "b437bc4b-128e-4873-9c47-2b5c88876bdf",
   "metadata": {
    "tags": []
   },
   "source": [
    "#### I. Load packages"
   ]
  },
  {
   "cell_type": "code",
   "execution_count": 1,
   "id": "7ceb2acf-d206-40ad-b486-b3bcedb4829b",
   "metadata": {},
   "outputs": [
    {
     "name": "stderr",
     "output_type": "stream",
     "text": [
      "── \u001b[1mAttaching core tidyverse packages\u001b[22m ──────────────────────── tidyverse 2.0.0 ──\n",
      "\u001b[32m✔\u001b[39m \u001b[34mdplyr    \u001b[39m 1.1.4     \u001b[32m✔\u001b[39m \u001b[34mreadr    \u001b[39m 2.1.4\n",
      "\u001b[32m✔\u001b[39m \u001b[34mforcats  \u001b[39m 1.0.0     \u001b[32m✔\u001b[39m \u001b[34mstringr  \u001b[39m 1.5.1\n",
      "\u001b[32m✔\u001b[39m \u001b[34mggplot2  \u001b[39m 3.5.1     \u001b[32m✔\u001b[39m \u001b[34mtibble   \u001b[39m 3.2.1\n",
      "\u001b[32m✔\u001b[39m \u001b[34mlubridate\u001b[39m 1.9.3     \u001b[32m✔\u001b[39m \u001b[34mtidyr    \u001b[39m 1.3.0\n",
      "\u001b[32m✔\u001b[39m \u001b[34mpurrr    \u001b[39m 1.0.2     \n",
      "── \u001b[1mConflicts\u001b[22m ────────────────────────────────────────── tidyverse_conflicts() ──\n",
      "\u001b[31m✖\u001b[39m \u001b[34mdplyr\u001b[39m::\u001b[32mfilter()\u001b[39m masks \u001b[34mstats\u001b[39m::filter()\n",
      "\u001b[31m✖\u001b[39m \u001b[34mdplyr\u001b[39m::\u001b[32mlag()\u001b[39m    masks \u001b[34mstats\u001b[39m::lag()\n",
      "\u001b[36mℹ\u001b[39m Use the conflicted package (\u001b[3m\u001b[34m<http://conflicted.r-lib.org/>\u001b[39m\u001b[23m) to force all conflicts to become errors\n"
     ]
    }
   ],
   "source": [
    "library(tidyverse)"
   ]
  },
  {
   "cell_type": "markdown",
   "id": "130693ca-607e-4525-be1e-5ea30e96188f",
   "metadata": {
    "tags": []
   },
   "source": [
    "#### II. Load, clean, and prep both csv files"
   ]
  },
  {
   "cell_type": "code",
   "execution_count": 4,
   "id": "ebacfd63-5bbe-46ed-b85a-16352368eb7f",
   "metadata": {},
   "outputs": [
    {
     "data": {
      "text/html": [
       "<style>\n",
       ".list-inline {list-style: none; margin:0; padding: 0}\n",
       ".list-inline>li {display: inline-block}\n",
       ".list-inline>li:not(:last-child)::after {content: \"\\00b7\"; padding: 0 .5ex}\n",
       "</style>\n",
       "<ol class=list-inline><li>121</li><li>11</li></ol>\n"
      ],
      "text/latex": [
       "\\begin{enumerate*}\n",
       "\\item 121\n",
       "\\item 11\n",
       "\\end{enumerate*}\n"
      ],
      "text/markdown": [
       "1. 121\n",
       "2. 11\n",
       "\n",
       "\n"
      ],
      "text/plain": [
       "[1] 121  11"
      ]
     },
     "metadata": {},
     "output_type": "display_data"
    },
    {
     "data": {
      "text/html": [
       "<table class=\"dataframe\">\n",
       "<caption>A data.frame: 6 × 11</caption>\n",
       "<thead>\n",
       "\t<tr><th></th><th scope=col>ID</th><th scope=col>Description</th><th scope=col>setSize</th><th scope=col>enrichmentScore</th><th scope=col>NES</th><th scope=col>pvalue</th><th scope=col>p.adjust</th><th scope=col>qvalue</th><th scope=col>rank</th><th scope=col>leading_edge</th><th scope=col>core_enrichment</th></tr>\n",
       "\t<tr><th></th><th scope=col>&lt;chr&gt;</th><th scope=col>&lt;chr&gt;</th><th scope=col>&lt;int&gt;</th><th scope=col>&lt;dbl&gt;</th><th scope=col>&lt;dbl&gt;</th><th scope=col>&lt;dbl&gt;</th><th scope=col>&lt;dbl&gt;</th><th scope=col>&lt;dbl&gt;</th><th scope=col>&lt;int&gt;</th><th scope=col>&lt;chr&gt;</th><th scope=col>&lt;chr&gt;</th></tr>\n",
       "</thead>\n",
       "<tbody>\n",
       "\t<tr><th scope=row>1</th><td>cvn00053</td><td>Ascorbate and aldarate metabolism</td><td>12</td><td>0.7513381</td><td>1.627009</td><td>0.00618654</td><td>0.2537983</td><td>0.2296218</td><td>2374</td><td>tags=58%, list=18%, signal=48%</td><td>111124535/111103451/111124599/111127562/111112920/111115614/111103498                                                            </td></tr>\n",
       "\t<tr><th scope=row>2</th><td>cvn00910</td><td>Nitrogen metabolism              </td><td>10</td><td>0.7751841</td><td>1.611862</td><td>0.01095923</td><td>0.2537983</td><td>0.2296218</td><td>1398</td><td>tags=50%, list=10%, signal=45%</td><td>111134700/111100398/111100399/111126492/111135592                                                                                </td></tr>\n",
       "\t<tr><th scope=row>3</th><td>cvn00511</td><td>Other glycan degradation         </td><td>37</td><td>0.5917499</td><td>1.578985</td><td>0.01320066</td><td>0.2537983</td><td>0.2296218</td><td>2221</td><td>tags=30%, list=16%, signal=25%</td><td>111106921/111106925/111106928/111119851/111119435/111120040/111113388/111119434/111106926/111119431/111106930                    </td></tr>\n",
       "\t<tr><th scope=row>4</th><td>cvn00592</td><td>alpha-Linolenic acid metabolism  </td><td>11</td><td>0.7377666</td><td>1.564501</td><td>0.01887756</td><td>0.2537983</td><td>0.2296218</td><td>1602</td><td>tags=45%, list=12%, signal=40%</td><td>111113990/111115744/111107112/111115745/111124908                                                                                </td></tr>\n",
       "\t<tr><th scope=row>5</th><td>cvn03250</td><td>Viral life cycle - HIV-1         </td><td>28</td><td>0.6023539</td><td>1.533878</td><td>0.01509720</td><td>0.2537983</td><td>0.2296218</td><td>2628</td><td>tags=46%, list=19%, signal=37%</td><td>111124701/111124696/111129825/111111579/111108190/111135084/111128997/111124977/111106750/111123417/111130886/111104027/111135329</td></tr>\n",
       "\t<tr><th scope=row>6</th><td>cvn00380</td><td>Tryptophan metabolism            </td><td>31</td><td>0.5838480</td><td>1.517557</td><td>0.01807548</td><td>0.2537983</td><td>0.2296218</td><td>2374</td><td>tags=42%, list=18%, signal=35%</td><td>111127901/111100724/111103451/111134248/111133558/111112920/111115614/111121380/111125148/111109254/111130627/111108303/111103498</td></tr>\n",
       "</tbody>\n",
       "</table>\n"
      ],
      "text/latex": [
       "A data.frame: 6 × 11\n",
       "\\begin{tabular}{r|lllllllllll}\n",
       "  & ID & Description & setSize & enrichmentScore & NES & pvalue & p.adjust & qvalue & rank & leading\\_edge & core\\_enrichment\\\\\n",
       "  & <chr> & <chr> & <int> & <dbl> & <dbl> & <dbl> & <dbl> & <dbl> & <int> & <chr> & <chr>\\\\\n",
       "\\hline\n",
       "\t1 & cvn00053 & Ascorbate and aldarate metabolism & 12 & 0.7513381 & 1.627009 & 0.00618654 & 0.2537983 & 0.2296218 & 2374 & tags=58\\%, list=18\\%, signal=48\\% & 111124535/111103451/111124599/111127562/111112920/111115614/111103498                                                            \\\\\n",
       "\t2 & cvn00910 & Nitrogen metabolism               & 10 & 0.7751841 & 1.611862 & 0.01095923 & 0.2537983 & 0.2296218 & 1398 & tags=50\\%, list=10\\%, signal=45\\% & 111134700/111100398/111100399/111126492/111135592                                                                                \\\\\n",
       "\t3 & cvn00511 & Other glycan degradation          & 37 & 0.5917499 & 1.578985 & 0.01320066 & 0.2537983 & 0.2296218 & 2221 & tags=30\\%, list=16\\%, signal=25\\% & 111106921/111106925/111106928/111119851/111119435/111120040/111113388/111119434/111106926/111119431/111106930                    \\\\\n",
       "\t4 & cvn00592 & alpha-Linolenic acid metabolism   & 11 & 0.7377666 & 1.564501 & 0.01887756 & 0.2537983 & 0.2296218 & 1602 & tags=45\\%, list=12\\%, signal=40\\% & 111113990/111115744/111107112/111115745/111124908                                                                                \\\\\n",
       "\t5 & cvn03250 & Viral life cycle - HIV-1          & 28 & 0.6023539 & 1.533878 & 0.01509720 & 0.2537983 & 0.2296218 & 2628 & tags=46\\%, list=19\\%, signal=37\\% & 111124701/111124696/111129825/111111579/111108190/111135084/111128997/111124977/111106750/111123417/111130886/111104027/111135329\\\\\n",
       "\t6 & cvn00380 & Tryptophan metabolism             & 31 & 0.5838480 & 1.517557 & 0.01807548 & 0.2537983 & 0.2296218 & 2374 & tags=42\\%, list=18\\%, signal=35\\% & 111127901/111100724/111103451/111134248/111133558/111112920/111115614/111121380/111125148/111109254/111130627/111108303/111103498\\\\\n",
       "\\end{tabular}\n"
      ],
      "text/markdown": [
       "\n",
       "A data.frame: 6 × 11\n",
       "\n",
       "| <!--/--> | ID &lt;chr&gt; | Description &lt;chr&gt; | setSize &lt;int&gt; | enrichmentScore &lt;dbl&gt; | NES &lt;dbl&gt; | pvalue &lt;dbl&gt; | p.adjust &lt;dbl&gt; | qvalue &lt;dbl&gt; | rank &lt;int&gt; | leading_edge &lt;chr&gt; | core_enrichment &lt;chr&gt; |\n",
       "|---|---|---|---|---|---|---|---|---|---|---|---|\n",
       "| 1 | cvn00053 | Ascorbate and aldarate metabolism | 12 | 0.7513381 | 1.627009 | 0.00618654 | 0.2537983 | 0.2296218 | 2374 | tags=58%, list=18%, signal=48% | 111124535/111103451/111124599/111127562/111112920/111115614/111103498                                                             |\n",
       "| 2 | cvn00910 | Nitrogen metabolism               | 10 | 0.7751841 | 1.611862 | 0.01095923 | 0.2537983 | 0.2296218 | 1398 | tags=50%, list=10%, signal=45% | 111134700/111100398/111100399/111126492/111135592                                                                                 |\n",
       "| 3 | cvn00511 | Other glycan degradation          | 37 | 0.5917499 | 1.578985 | 0.01320066 | 0.2537983 | 0.2296218 | 2221 | tags=30%, list=16%, signal=25% | 111106921/111106925/111106928/111119851/111119435/111120040/111113388/111119434/111106926/111119431/111106930                     |\n",
       "| 4 | cvn00592 | alpha-Linolenic acid metabolism   | 11 | 0.7377666 | 1.564501 | 0.01887756 | 0.2537983 | 0.2296218 | 1602 | tags=45%, list=12%, signal=40% | 111113990/111115744/111107112/111115745/111124908                                                                                 |\n",
       "| 5 | cvn03250 | Viral life cycle - HIV-1          | 28 | 0.6023539 | 1.533878 | 0.01509720 | 0.2537983 | 0.2296218 | 2628 | tags=46%, list=19%, signal=37% | 111124701/111124696/111129825/111111579/111108190/111135084/111128997/111124977/111106750/111123417/111130886/111104027/111135329 |\n",
       "| 6 | cvn00380 | Tryptophan metabolism             | 31 | 0.5838480 | 1.517557 | 0.01807548 | 0.2537983 | 0.2296218 | 2374 | tags=42%, list=18%, signal=35% | 111127901/111100724/111103451/111134248/111133558/111112920/111115614/111121380/111125148/111109254/111130627/111108303/111103498 |\n",
       "\n"
      ],
      "text/plain": [
       "  ID       Description                       setSize enrichmentScore NES     \n",
       "1 cvn00053 Ascorbate and aldarate metabolism 12      0.7513381       1.627009\n",
       "2 cvn00910 Nitrogen metabolism               10      0.7751841       1.611862\n",
       "3 cvn00511 Other glycan degradation          37      0.5917499       1.578985\n",
       "4 cvn00592 alpha-Linolenic acid metabolism   11      0.7377666       1.564501\n",
       "5 cvn03250 Viral life cycle - HIV-1          28      0.6023539       1.533878\n",
       "6 cvn00380 Tryptophan metabolism             31      0.5838480       1.517557\n",
       "  pvalue     p.adjust  qvalue    rank leading_edge                  \n",
       "1 0.00618654 0.2537983 0.2296218 2374 tags=58%, list=18%, signal=48%\n",
       "2 0.01095923 0.2537983 0.2296218 1398 tags=50%, list=10%, signal=45%\n",
       "3 0.01320066 0.2537983 0.2296218 2221 tags=30%, list=16%, signal=25%\n",
       "4 0.01887756 0.2537983 0.2296218 1602 tags=45%, list=12%, signal=40%\n",
       "5 0.01509720 0.2537983 0.2296218 2628 tags=46%, list=19%, signal=37%\n",
       "6 0.01807548 0.2537983 0.2296218 2374 tags=42%, list=18%, signal=35%\n",
       "  core_enrichment                                                                                                                  \n",
       "1 111124535/111103451/111124599/111127562/111112920/111115614/111103498                                                            \n",
       "2 111134700/111100398/111100399/111126492/111135592                                                                                \n",
       "3 111106921/111106925/111106928/111119851/111119435/111120040/111113388/111119434/111106926/111119431/111106930                    \n",
       "4 111113990/111115744/111107112/111115745/111124908                                                                                \n",
       "5 111124701/111124696/111129825/111111579/111108190/111135084/111128997/111124977/111106750/111123417/111130886/111104027/111135329\n",
       "6 111127901/111100724/111103451/111134248/111133558/111112920/111115614/111121380/111125148/111109254/111130627/111108303/111103498"
      ]
     },
     "metadata": {},
     "output_type": "display_data"
    }
   ],
   "source": [
    "# load in csv file\n",
    "pathway <- read.csv('/project/pi_sarah_gignouxwolfsohn_uml_edu/julia/CE_MethylRAD_analysis_2018/analysis/enriched_pathways/pathways_p1wc.csv')\n",
    "\n",
    "# clean headers and columns\n",
    "pathway <- pathway[,-1]\n",
    "\n",
    "# checking dimensions\n",
    "dim(pathway) #121 pathways, 11 rows of info/meta data\n",
    "\n",
    "head(pathway)"
   ]
  },
  {
   "cell_type": "markdown",
   "id": "850e65ff-d43a-4561-9417-5246ae494e41",
   "metadata": {},
   "source": [
    "I want to know if all of my genes provided in geneList are in the core enrichment, or if the core enrichment only includes a subset of my total genes\n",
    "\n",
    "- total genes in my geneList for KEGG - around 13,000 genes\n",
    "- total enriched pathways - 121\n",
    "- total number of significant DMGs - 189\n",
    "- total number of unique genes in the core_enrichment column - **805** (from code below)\n",
    "\n",
    "since this number (805) does not match my total genes in the data set, I know that not all genes are represented in the core_enrichment column, and not all are significant DMGs"
   ]
  },
  {
   "cell_type": "code",
   "execution_count": 5,
   "id": "eebd52d8-6e79-49e5-89cf-17b66c7129a8",
   "metadata": {},
   "outputs": [
    {
     "name": "stdout",
     "output_type": "stream",
     "text": [
      "[1] \"Number of unique genes in the entire DataFrame: 799\"\n"
     ]
    }
   ],
   "source": [
    "# Split the strings in 'genes_column' into lists\n",
    "gene_lists <- strsplit(pathway$core_enrichment, '/')\n",
    "\n",
    "# Flatten the lists\n",
    "all_genes <- unlist(gene_lists)\n",
    "\n",
    "# Count the unique genes\n",
    "unique_genes_count <- length(unique(all_genes))\n",
    "\n",
    "print(paste(\"Number of unique genes in the entire DataFrame:\", unique_genes_count))\n"
   ]
  },
  {
   "cell_type": "code",
   "execution_count": 7,
   "id": "51b8ab95-06b5-4614-bbf4-5955beed8ac7",
   "metadata": {},
   "outputs": [
    {
     "data": {
      "text/html": [
       "<style>\n",
       ".list-inline {list-style: none; margin:0; padding: 0}\n",
       ".list-inline>li {display: inline-block}\n",
       ".list-inline>li:not(:last-child)::after {content: \"\\00b7\"; padding: 0 .5ex}\n",
       "</style>\n",
       "<ol class=list-inline><li>344</li><li>3</li></ol>\n"
      ],
      "text/latex": [
       "\\begin{enumerate*}\n",
       "\\item 344\n",
       "\\item 3\n",
       "\\end{enumerate*}\n"
      ],
      "text/markdown": [
       "1. 344\n",
       "2. 3\n",
       "\n",
       "\n"
      ],
      "text/plain": [
       "[1] 344   3"
      ]
     },
     "metadata": {},
     "output_type": "display_data"
    },
    {
     "data": {
      "text/html": [
       "<table class=\"dataframe\">\n",
       "<caption>A data.frame: 6 × 3</caption>\n",
       "<thead>\n",
       "\t<tr><th></th><th scope=col>gene</th><th scope=col>lfc</th><th scope=col>padj</th></tr>\n",
       "\t<tr><th></th><th scope=col>&lt;chr&gt;</th><th scope=col>&lt;dbl&gt;</th><th scope=col>&lt;dbl&gt;</th></tr>\n",
       "</thead>\n",
       "<tbody>\n",
       "\t<tr><th scope=row>1</th><td>111117672</td><td>1.314266</td><td>0.005811498</td></tr>\n",
       "\t<tr><th scope=row>2</th><td>111128103</td><td>1.644558</td><td>0.001509994</td></tr>\n",
       "\t<tr><th scope=row>3</th><td>111137770</td><td>2.655903</td><td>0.002201055</td></tr>\n",
       "\t<tr><th scope=row>4</th><td>111125333</td><td>1.461069</td><td>0.017320572</td></tr>\n",
       "\t<tr><th scope=row>5</th><td>111111295</td><td>2.360240</td><td>0.001233208</td></tr>\n",
       "\t<tr><th scope=row>6</th><td>111125391</td><td>2.205531</td><td>0.001875643</td></tr>\n",
       "</tbody>\n",
       "</table>\n"
      ],
      "text/latex": [
       "A data.frame: 6 × 3\n",
       "\\begin{tabular}{r|lll}\n",
       "  & gene & lfc & padj\\\\\n",
       "  & <chr> & <dbl> & <dbl>\\\\\n",
       "\\hline\n",
       "\t1 & 111117672 & 1.314266 & 0.005811498\\\\\n",
       "\t2 & 111128103 & 1.644558 & 0.001509994\\\\\n",
       "\t3 & 111137770 & 2.655903 & 0.002201055\\\\\n",
       "\t4 & 111125333 & 1.461069 & 0.017320572\\\\\n",
       "\t5 & 111111295 & 2.360240 & 0.001233208\\\\\n",
       "\t6 & 111125391 & 2.205531 & 0.001875643\\\\\n",
       "\\end{tabular}\n"
      ],
      "text/markdown": [
       "\n",
       "A data.frame: 6 × 3\n",
       "\n",
       "| <!--/--> | gene &lt;chr&gt; | lfc &lt;dbl&gt; | padj &lt;dbl&gt; |\n",
       "|---|---|---|---|\n",
       "| 1 | 111117672 | 1.314266 | 0.005811498 |\n",
       "| 2 | 111128103 | 1.644558 | 0.001509994 |\n",
       "| 3 | 111137770 | 2.655903 | 0.002201055 |\n",
       "| 4 | 111125333 | 1.461069 | 0.017320572 |\n",
       "| 5 | 111111295 | 2.360240 | 0.001233208 |\n",
       "| 6 | 111125391 | 2.205531 | 0.001875643 |\n",
       "\n"
      ],
      "text/plain": [
       "  gene      lfc      padj       \n",
       "1 111117672 1.314266 0.005811498\n",
       "2 111128103 1.644558 0.001509994\n",
       "3 111137770 2.655903 0.002201055\n",
       "4 111125333 1.461069 0.017320572\n",
       "5 111111295 2.360240 0.001233208\n",
       "6 111125391 2.205531 0.001875643"
      ]
     },
     "metadata": {},
     "output_type": "display_data"
    }
   ],
   "source": [
    "# load data frame\n",
    "genes <- read.csv('/project/pi_sarah_gignouxwolfsohn_uml_edu/julia/CE_MethylRAD_analysis_2018/analysis/significant_genes/p1wc_lfc25_genes.csv')\n",
    "\n",
    "# KEGG uses entrez IDs, which are my ensembl IDs without the 'LOC' in front of them, so need to convert those\n",
    "genes$X <- substr(genes$X, start = 4, stop = nchar(genes$X))\n",
    "\n",
    "# only grabbing the columns I care about\n",
    "genes <- select(genes, X, log2FoldChange, padj)\n",
    "\n",
    "# renaming columns to make more sense\n",
    "colnames(genes) <- c('gene', 'lfc', 'padj')\n",
    "\n",
    "# only selecting significant genes\n",
    "genes <- filter(genes, genes$padj < 0.05)\n",
    "\n",
    "# checking dimensions\n",
    "dim(genes) # 344 sig DMGs\n",
    "\n",
    "head(genes)"
   ]
  },
  {
   "cell_type": "markdown",
   "id": "4dbd9070-7a0a-4b37-9eab-230d5779d82e",
   "metadata": {
    "tags": []
   },
   "source": [
    "#### III. Are the signficant genes in the core enrichment of the pathways?\n",
    "Taking our list of siginificant genes, and going line by line in our pathways to see if our sig. gene matches any of the core enrichment genes"
   ]
  },
  {
   "cell_type": "code",
   "execution_count": 8,
   "id": "d5a49b65-155d-47bd-aeb9-ad8c15e8dcc4",
   "metadata": {},
   "outputs": [
    {
     "data": {
      "text/html": [
       "<table class=\"dataframe\">\n",
       "<caption>A data.frame: 6 × 12</caption>\n",
       "<thead>\n",
       "\t<tr><th></th><th scope=col>ID</th><th scope=col>Description</th><th scope=col>setSize</th><th scope=col>enrichmentScore</th><th scope=col>NES</th><th scope=col>pvalue</th><th scope=col>p.adjust</th><th scope=col>qvalue</th><th scope=col>rank</th><th scope=col>leading_edge</th><th scope=col>core_enrichment</th><th scope=col>MatchesCount</th></tr>\n",
       "\t<tr><th></th><th scope=col>&lt;chr&gt;</th><th scope=col>&lt;chr&gt;</th><th scope=col>&lt;int&gt;</th><th scope=col>&lt;dbl&gt;</th><th scope=col>&lt;dbl&gt;</th><th scope=col>&lt;dbl&gt;</th><th scope=col>&lt;dbl&gt;</th><th scope=col>&lt;dbl&gt;</th><th scope=col>&lt;int&gt;</th><th scope=col>&lt;chr&gt;</th><th scope=col>&lt;chr&gt;</th><th scope=col>&lt;int&gt;</th></tr>\n",
       "</thead>\n",
       "<tbody>\n",
       "\t<tr><th scope=row>9</th><td>cvn04814</td><td>Motor proteins                 </td><td>111</td><td>0.4825362</td><td>1.425442</td><td>0.007216891</td><td>0.2537983</td><td>0.2296218</td><td>1179</td><td>tags=18%, list=9%, signal=17% </td><td>111136151/111134768/111107338/111102596/111112439/111103394/111115784/111129526/111107250/111127380/111134843/111137068/111131563/111119946/111134888/111120500/111129376/111130940/111125250/111131555                                                                                                                                                                                                                                      </td><td>8</td></tr>\n",
       "\t<tr><th scope=row>13</th><td>cvn04144</td><td>Endocytosis                    </td><td>132</td><td>0.4453777</td><td>1.329073</td><td>0.027355623</td><td>0.2546177</td><td>0.2303631</td><td>3185</td><td>tags=33%, list=24%, signal=25%</td><td>111120187/111125099/111112319/111119513/111112439/111119512/111136896/111104852/111102907/111107174/111136866/111125956/111134954/111112863/111116971/111112700/111135084/111133388/111134171/111121253/111115795/111127289/111129312/111134242/111121335/111121437/111129503/111135594/111106223/111123210/111125223/111105462/111104835/111104585/111104028/111133563/111105923/111119177/111101822/111104196/111137900/111112119/111123772</td><td>8</td></tr>\n",
       "\t<tr><th scope=row>8</th><td>cvn00071</td><td>Fatty acid degradation         </td><td> 38</td><td>0.5657277</td><td>1.510768</td><td>0.017560053</td><td>0.2537983</td><td>0.2296218</td><td>3018</td><td>tags=42%, list=22%, signal=33%</td><td>111127947/111113990/111128659/111115744/111107112/111115745/111103451/111112920/111115614/111135553/111121380/111117093/111103498/111129333/111107779/111134458                                                                                                                                                                                                                                                                              </td><td>5</td></tr>\n",
       "\t<tr><th scope=row>45</th><td>cvn04148</td><td>Efferocytosis                  </td><td> 98</td><td>0.4000467</td><td>1.167589</td><td>0.194501018</td><td>0.6325836</td><td>0.5723244</td><td>1406</td><td>tags=14%, list=10%, signal=13%</td><td>111135946/111113124/111121723/111134726/111117970/111110712/111134431/111128659/111117731/111134947/111130916/111127576/111130408/111112330                                                                                                                                                                                                                                                                                                  </td><td>5</td></tr>\n",
       "\t<tr><th scope=row>46</th><td>cvn03040</td><td>Spliceosome                    </td><td> 92</td><td>0.3988463</td><td>1.153711</td><td>0.216049383</td><td>0.6325836</td><td>0.5723244</td><td>1557</td><td>tags=16%, list=11%, signal=15%</td><td>111112733/111137770/111119513/111119512/111129112/111133954/111121854/111121021/111118318/111119442/111134531/111114893/111136440/111135640/111136164                                                                                                                                                                                                                                                                                        </td><td>5</td></tr>\n",
       "\t<tr><th scope=row>4</th><td>cvn00592</td><td>alpha-Linolenic acid metabolism</td><td> 11</td><td>0.7377666</td><td>1.564501</td><td>0.018877557</td><td>0.2537983</td><td>0.2296218</td><td>1602</td><td>tags=45%, list=12%, signal=40%</td><td>111113990/111115744/111107112/111115745/111124908                                                                                                                                                                                                                                                                                                                                                                                            </td><td>4</td></tr>\n",
       "</tbody>\n",
       "</table>\n"
      ],
      "text/latex": [
       "A data.frame: 6 × 12\n",
       "\\begin{tabular}{r|llllllllllll}\n",
       "  & ID & Description & setSize & enrichmentScore & NES & pvalue & p.adjust & qvalue & rank & leading\\_edge & core\\_enrichment & MatchesCount\\\\\n",
       "  & <chr> & <chr> & <int> & <dbl> & <dbl> & <dbl> & <dbl> & <dbl> & <int> & <chr> & <chr> & <int>\\\\\n",
       "\\hline\n",
       "\t9 & cvn04814 & Motor proteins                  & 111 & 0.4825362 & 1.425442 & 0.007216891 & 0.2537983 & 0.2296218 & 1179 & tags=18\\%, list=9\\%, signal=17\\%  & 111136151/111134768/111107338/111102596/111112439/111103394/111115784/111129526/111107250/111127380/111134843/111137068/111131563/111119946/111134888/111120500/111129376/111130940/111125250/111131555                                                                                                                                                                                                                                       & 8\\\\\n",
       "\t13 & cvn04144 & Endocytosis                     & 132 & 0.4453777 & 1.329073 & 0.027355623 & 0.2546177 & 0.2303631 & 3185 & tags=33\\%, list=24\\%, signal=25\\% & 111120187/111125099/111112319/111119513/111112439/111119512/111136896/111104852/111102907/111107174/111136866/111125956/111134954/111112863/111116971/111112700/111135084/111133388/111134171/111121253/111115795/111127289/111129312/111134242/111121335/111121437/111129503/111135594/111106223/111123210/111125223/111105462/111104835/111104585/111104028/111133563/111105923/111119177/111101822/111104196/111137900/111112119/111123772 & 8\\\\\n",
       "\t8 & cvn00071 & Fatty acid degradation          &  38 & 0.5657277 & 1.510768 & 0.017560053 & 0.2537983 & 0.2296218 & 3018 & tags=42\\%, list=22\\%, signal=33\\% & 111127947/111113990/111128659/111115744/111107112/111115745/111103451/111112920/111115614/111135553/111121380/111117093/111103498/111129333/111107779/111134458                                                                                                                                                                                                                                                                               & 5\\\\\n",
       "\t45 & cvn04148 & Efferocytosis                   &  98 & 0.4000467 & 1.167589 & 0.194501018 & 0.6325836 & 0.5723244 & 1406 & tags=14\\%, list=10\\%, signal=13\\% & 111135946/111113124/111121723/111134726/111117970/111110712/111134431/111128659/111117731/111134947/111130916/111127576/111130408/111112330                                                                                                                                                                                                                                                                                                   & 5\\\\\n",
       "\t46 & cvn03040 & Spliceosome                     &  92 & 0.3988463 & 1.153711 & 0.216049383 & 0.6325836 & 0.5723244 & 1557 & tags=16\\%, list=11\\%, signal=15\\% & 111112733/111137770/111119513/111119512/111129112/111133954/111121854/111121021/111118318/111119442/111134531/111114893/111136440/111135640/111136164                                                                                                                                                                                                                                                                                         & 5\\\\\n",
       "\t4 & cvn00592 & alpha-Linolenic acid metabolism &  11 & 0.7377666 & 1.564501 & 0.018877557 & 0.2537983 & 0.2296218 & 1602 & tags=45\\%, list=12\\%, signal=40\\% & 111113990/111115744/111107112/111115745/111124908                                                                                                                                                                                                                                                                                                                                                                                             & 4\\\\\n",
       "\\end{tabular}\n"
      ],
      "text/markdown": [
       "\n",
       "A data.frame: 6 × 12\n",
       "\n",
       "| <!--/--> | ID &lt;chr&gt; | Description &lt;chr&gt; | setSize &lt;int&gt; | enrichmentScore &lt;dbl&gt; | NES &lt;dbl&gt; | pvalue &lt;dbl&gt; | p.adjust &lt;dbl&gt; | qvalue &lt;dbl&gt; | rank &lt;int&gt; | leading_edge &lt;chr&gt; | core_enrichment &lt;chr&gt; | MatchesCount &lt;int&gt; |\n",
       "|---|---|---|---|---|---|---|---|---|---|---|---|---|\n",
       "| 9 | cvn04814 | Motor proteins                  | 111 | 0.4825362 | 1.425442 | 0.007216891 | 0.2537983 | 0.2296218 | 1179 | tags=18%, list=9%, signal=17%  | 111136151/111134768/111107338/111102596/111112439/111103394/111115784/111129526/111107250/111127380/111134843/111137068/111131563/111119946/111134888/111120500/111129376/111130940/111125250/111131555                                                                                                                                                                                                                                       | 8 |\n",
       "| 13 | cvn04144 | Endocytosis                     | 132 | 0.4453777 | 1.329073 | 0.027355623 | 0.2546177 | 0.2303631 | 3185 | tags=33%, list=24%, signal=25% | 111120187/111125099/111112319/111119513/111112439/111119512/111136896/111104852/111102907/111107174/111136866/111125956/111134954/111112863/111116971/111112700/111135084/111133388/111134171/111121253/111115795/111127289/111129312/111134242/111121335/111121437/111129503/111135594/111106223/111123210/111125223/111105462/111104835/111104585/111104028/111133563/111105923/111119177/111101822/111104196/111137900/111112119/111123772 | 8 |\n",
       "| 8 | cvn00071 | Fatty acid degradation          |  38 | 0.5657277 | 1.510768 | 0.017560053 | 0.2537983 | 0.2296218 | 3018 | tags=42%, list=22%, signal=33% | 111127947/111113990/111128659/111115744/111107112/111115745/111103451/111112920/111115614/111135553/111121380/111117093/111103498/111129333/111107779/111134458                                                                                                                                                                                                                                                                               | 5 |\n",
       "| 45 | cvn04148 | Efferocytosis                   |  98 | 0.4000467 | 1.167589 | 0.194501018 | 0.6325836 | 0.5723244 | 1406 | tags=14%, list=10%, signal=13% | 111135946/111113124/111121723/111134726/111117970/111110712/111134431/111128659/111117731/111134947/111130916/111127576/111130408/111112330                                                                                                                                                                                                                                                                                                   | 5 |\n",
       "| 46 | cvn03040 | Spliceosome                     |  92 | 0.3988463 | 1.153711 | 0.216049383 | 0.6325836 | 0.5723244 | 1557 | tags=16%, list=11%, signal=15% | 111112733/111137770/111119513/111119512/111129112/111133954/111121854/111121021/111118318/111119442/111134531/111114893/111136440/111135640/111136164                                                                                                                                                                                                                                                                                         | 5 |\n",
       "| 4 | cvn00592 | alpha-Linolenic acid metabolism |  11 | 0.7377666 | 1.564501 | 0.018877557 | 0.2537983 | 0.2296218 | 1602 | tags=45%, list=12%, signal=40% | 111113990/111115744/111107112/111115745/111124908                                                                                                                                                                                                                                                                                                                                                                                             | 4 |\n",
       "\n"
      ],
      "text/plain": [
       "   ID       Description                     setSize enrichmentScore NES     \n",
       "9  cvn04814 Motor proteins                  111     0.4825362       1.425442\n",
       "13 cvn04144 Endocytosis                     132     0.4453777       1.329073\n",
       "8  cvn00071 Fatty acid degradation           38     0.5657277       1.510768\n",
       "45 cvn04148 Efferocytosis                    98     0.4000467       1.167589\n",
       "46 cvn03040 Spliceosome                      92     0.3988463       1.153711\n",
       "4  cvn00592 alpha-Linolenic acid metabolism  11     0.7377666       1.564501\n",
       "   pvalue      p.adjust  qvalue    rank leading_edge                  \n",
       "9  0.007216891 0.2537983 0.2296218 1179 tags=18%, list=9%, signal=17% \n",
       "13 0.027355623 0.2546177 0.2303631 3185 tags=33%, list=24%, signal=25%\n",
       "8  0.017560053 0.2537983 0.2296218 3018 tags=42%, list=22%, signal=33%\n",
       "45 0.194501018 0.6325836 0.5723244 1406 tags=14%, list=10%, signal=13%\n",
       "46 0.216049383 0.6325836 0.5723244 1557 tags=16%, list=11%, signal=15%\n",
       "4  0.018877557 0.2537983 0.2296218 1602 tags=45%, list=12%, signal=40%\n",
       "   core_enrichment                                                                                                                                                                                                                                                                                                                                                                                                                              \n",
       "9  111136151/111134768/111107338/111102596/111112439/111103394/111115784/111129526/111107250/111127380/111134843/111137068/111131563/111119946/111134888/111120500/111129376/111130940/111125250/111131555                                                                                                                                                                                                                                      \n",
       "13 111120187/111125099/111112319/111119513/111112439/111119512/111136896/111104852/111102907/111107174/111136866/111125956/111134954/111112863/111116971/111112700/111135084/111133388/111134171/111121253/111115795/111127289/111129312/111134242/111121335/111121437/111129503/111135594/111106223/111123210/111125223/111105462/111104835/111104585/111104028/111133563/111105923/111119177/111101822/111104196/111137900/111112119/111123772\n",
       "8  111127947/111113990/111128659/111115744/111107112/111115745/111103451/111112920/111115614/111135553/111121380/111117093/111103498/111129333/111107779/111134458                                                                                                                                                                                                                                                                              \n",
       "45 111135946/111113124/111121723/111134726/111117970/111110712/111134431/111128659/111117731/111134947/111130916/111127576/111130408/111112330                                                                                                                                                                                                                                                                                                  \n",
       "46 111112733/111137770/111119513/111119512/111129112/111133954/111121854/111121021/111118318/111119442/111134531/111114893/111136440/111135640/111136164                                                                                                                                                                                                                                                                                        \n",
       "4  111113990/111115744/111107112/111115745/111124908                                                                                                                                                                                                                                                                                                                                                                                            \n",
       "   MatchesCount\n",
       "9  8           \n",
       "13 8           \n",
       "8  5           \n",
       "45 5           \n",
       "46 5           \n",
       "4  4           "
      ]
     },
     "metadata": {},
     "output_type": "display_data"
    }
   ],
   "source": [
    "# generated from ChatGPT\n",
    "\n",
    "# Sample dataframes\n",
    "df1 <- genes\n",
    "df2 <- pathway\n",
    "\n",
    "# Function to check if any gene in df1 matches genes in a row of df2\n",
    "get_gene_matches <- function(row_df2, df1_genes) {\n",
    "  genes2 <- unlist(strsplit(as.character(row_df2), \"/\"))\n",
    "  count <- sum(genes2 %in% df1_genes)\n",
    "  return(count)\n",
    "}\n",
    "\n",
    "# Iterate over each row of df2\n",
    "matches_count <- sapply(df2$core_enrichment, get_gene_matches, df1_genes = df1$gene)\n",
    "\n",
    "# Add the matches count to df2\n",
    "df2$MatchesCount <- matches_count\n",
    "\n",
    "# Sort df with highest match counts at the top\n",
    "gene_pathway_match <- df2[order(-df2$MatchesCount),]\n",
    "head(gene_pathway_match)\n"
   ]
  },
  {
   "cell_type": "markdown",
   "id": "edbe0a29-1942-43ff-998a-ace08a819187",
   "metadata": {},
   "source": [
    "above returns just the ***number*** of significant genes in the core enrichment for each pathway\n",
    "\n",
    "below returns the ***percent*** of significant genes in the core enrichment\n",
    "\n",
    "it's interesting that the percent returns a much different top 5 ... maybe this is the better way to do it?"
   ]
  },
  {
   "cell_type": "code",
   "execution_count": 11,
   "id": "8e35131b-25a6-4886-a631-f469e609763e",
   "metadata": {},
   "outputs": [
    {
     "data": {
      "text/html": [
       "<table class=\"dataframe\">\n",
       "<caption>A data.frame: 10 × 12</caption>\n",
       "<thead>\n",
       "\t<tr><th></th><th scope=col>ID</th><th scope=col>Description</th><th scope=col>setSize</th><th scope=col>enrichmentScore</th><th scope=col>NES</th><th scope=col>pvalue</th><th scope=col>p.adjust</th><th scope=col>qvalue</th><th scope=col>rank</th><th scope=col>leading_edge</th><th scope=col>core_enrichment</th><th scope=col>MatchesPercentage</th></tr>\n",
       "\t<tr><th></th><th scope=col>&lt;chr&gt;</th><th scope=col>&lt;chr&gt;</th><th scope=col>&lt;int&gt;</th><th scope=col>&lt;dbl&gt;</th><th scope=col>&lt;dbl&gt;</th><th scope=col>&lt;dbl&gt;</th><th scope=col>&lt;dbl&gt;</th><th scope=col>&lt;dbl&gt;</th><th scope=col>&lt;int&gt;</th><th scope=col>&lt;chr&gt;</th><th scope=col>&lt;chr&gt;</th><th scope=col>&lt;dbl&gt;</th></tr>\n",
       "</thead>\n",
       "<tbody>\n",
       "\t<tr><th scope=row>4</th><td>cvn00592</td><td>alpha-Linolenic acid metabolism                                        </td><td> 11</td><td>0.7377666</td><td>1.5645014</td><td>0.018877557</td><td>0.2537983</td><td>0.2296218</td><td>1602</td><td>tags=45%, list=12%, signal=40%</td><td>111113990/111115744/111107112/111115745/111124908                                                                                                                                                      </td><td>80.00000</td></tr>\n",
       "\t<tr><th scope=row>15</th><td>cvn01040</td><td>Biosynthesis of unsaturated fatty acids                                </td><td> 18</td><td>0.6354291</td><td>1.4894918</td><td>0.033088235</td><td>0.2669118</td><td>0.2414861</td><td>1602</td><td>tags=33%, list=12%, signal=29%</td><td>111113990/111115744/111107112/111115745/111119293/111124908                                                                                                                                            </td><td>66.66667</td></tr>\n",
       "\t<tr><th scope=row>2</th><td>cvn00910</td><td>Nitrogen metabolism                                                    </td><td> 10</td><td>0.7751841</td><td>1.6118619</td><td>0.010959229</td><td>0.2537983</td><td>0.2296218</td><td>1398</td><td>tags=50%, list=10%, signal=45%</td><td>111134700/111100398/111100399/111126492/111135592                                                                                                                                                      </td><td>60.00000</td></tr>\n",
       "\t<tr><th scope=row>32</th><td>cvn04512</td><td>ECM-receptor interaction                                               </td><td> 23</td><td>0.5113610</td><td>1.2737730</td><td>0.176331361</td><td>0.6096027</td><td>0.5515327</td><td>1679</td><td>tags=26%, list=12%, signal=23%</td><td>111114114/111111291/111113265/111134722/111109289/111119175                                                                                                                                            </td><td>50.00000</td></tr>\n",
       "\t<tr><th scope=row>71</th><td>cvn03083</td><td>Polycomb repressive complex                                            </td><td> 38</td><td>0.3891222</td><td>1.0391458</td><td>0.438264739</td><td>0.7377131</td><td>0.6674394</td><td> 865</td><td>tags=11%, list=6%, signal=10% </td><td>111123912/111104330/111104315/111123056                                                                                                                                                                </td><td>50.00000</td></tr>\n",
       "\t<tr><th scope=row>87</th><td>cvn00532</td><td>Glycosaminoglycan biosynthesis - chondroitin sulfate / dermatan sulfate</td><td> 12</td><td>0.4314562</td><td>0.9343104</td><td>0.569148936</td><td>0.7915750</td><td>0.7161705</td><td>1400</td><td>tags=17%, list=10%, signal=15%</td><td>111118293/111111504                                                                                                                                                                                    </td><td>50.00000</td></tr>\n",
       "\t<tr><th scope=row>94</th><td>cvn03430</td><td>Mismatch repair                                                        </td><td> 21</td><td>0.3553110</td><td>0.8641842</td><td>0.647272727</td><td>0.8331915</td><td>0.7538227</td><td> 330</td><td>tags=10%, list=2%, signal=9%  </td><td>111121171/111137687                                                                                                                                                                                    </td><td>50.00000</td></tr>\n",
       "\t<tr><th scope=row>9</th><td>cvn04814</td><td>Motor proteins                                                         </td><td>111</td><td>0.4825362</td><td>1.4254420</td><td>0.007216891</td><td>0.2537983</td><td>0.2296218</td><td>1179</td><td>tags=18%, list=9%, signal=17% </td><td>111136151/111134768/111107338/111102596/111112439/111103394/111115784/111129526/111107250/111127380/111134843/111137068/111131563/111119946/111134888/111120500/111129376/111130940/111125250/111131555</td><td>40.00000</td></tr>\n",
       "\t<tr><th scope=row>45</th><td>cvn04148</td><td>Efferocytosis                                                          </td><td> 98</td><td>0.4000467</td><td>1.1675889</td><td>0.194501018</td><td>0.6325836</td><td>0.5723244</td><td>1406</td><td>tags=14%, list=10%, signal=13%</td><td>111135946/111113124/111121723/111134726/111117970/111110712/111134431/111128659/111117731/111134947/111130916/111127576/111130408/111112330                                                            </td><td>35.71429</td></tr>\n",
       "\t<tr><th scope=row>22</th><td>cvn01212</td><td>Fatty acid metabolism                                                  </td><td> 48</td><td>0.4857861</td><td>1.3384466</td><td>0.079569892</td><td>0.4186068</td><td>0.3787308</td><td>2029</td><td>tags=25%, list=15%, signal=21%</td><td>111127947/111113990/111128659/111115744/111107112/111115745/111099995/111119293/111135553/111124908/111100523/111117093                                                                                </td><td>33.33333</td></tr>\n",
       "</tbody>\n",
       "</table>\n"
      ],
      "text/latex": [
       "A data.frame: 10 × 12\n",
       "\\begin{tabular}{r|llllllllllll}\n",
       "  & ID & Description & setSize & enrichmentScore & NES & pvalue & p.adjust & qvalue & rank & leading\\_edge & core\\_enrichment & MatchesPercentage\\\\\n",
       "  & <chr> & <chr> & <int> & <dbl> & <dbl> & <dbl> & <dbl> & <dbl> & <int> & <chr> & <chr> & <dbl>\\\\\n",
       "\\hline\n",
       "\t4 & cvn00592 & alpha-Linolenic acid metabolism                                         &  11 & 0.7377666 & 1.5645014 & 0.018877557 & 0.2537983 & 0.2296218 & 1602 & tags=45\\%, list=12\\%, signal=40\\% & 111113990/111115744/111107112/111115745/111124908                                                                                                                                                       & 80.00000\\\\\n",
       "\t15 & cvn01040 & Biosynthesis of unsaturated fatty acids                                 &  18 & 0.6354291 & 1.4894918 & 0.033088235 & 0.2669118 & 0.2414861 & 1602 & tags=33\\%, list=12\\%, signal=29\\% & 111113990/111115744/111107112/111115745/111119293/111124908                                                                                                                                             & 66.66667\\\\\n",
       "\t2 & cvn00910 & Nitrogen metabolism                                                     &  10 & 0.7751841 & 1.6118619 & 0.010959229 & 0.2537983 & 0.2296218 & 1398 & tags=50\\%, list=10\\%, signal=45\\% & 111134700/111100398/111100399/111126492/111135592                                                                                                                                                       & 60.00000\\\\\n",
       "\t32 & cvn04512 & ECM-receptor interaction                                                &  23 & 0.5113610 & 1.2737730 & 0.176331361 & 0.6096027 & 0.5515327 & 1679 & tags=26\\%, list=12\\%, signal=23\\% & 111114114/111111291/111113265/111134722/111109289/111119175                                                                                                                                             & 50.00000\\\\\n",
       "\t71 & cvn03083 & Polycomb repressive complex                                             &  38 & 0.3891222 & 1.0391458 & 0.438264739 & 0.7377131 & 0.6674394 &  865 & tags=11\\%, list=6\\%, signal=10\\%  & 111123912/111104330/111104315/111123056                                                                                                                                                                 & 50.00000\\\\\n",
       "\t87 & cvn00532 & Glycosaminoglycan biosynthesis - chondroitin sulfate / dermatan sulfate &  12 & 0.4314562 & 0.9343104 & 0.569148936 & 0.7915750 & 0.7161705 & 1400 & tags=17\\%, list=10\\%, signal=15\\% & 111118293/111111504                                                                                                                                                                                     & 50.00000\\\\\n",
       "\t94 & cvn03430 & Mismatch repair                                                         &  21 & 0.3553110 & 0.8641842 & 0.647272727 & 0.8331915 & 0.7538227 &  330 & tags=10\\%, list=2\\%, signal=9\\%   & 111121171/111137687                                                                                                                                                                                     & 50.00000\\\\\n",
       "\t9 & cvn04814 & Motor proteins                                                          & 111 & 0.4825362 & 1.4254420 & 0.007216891 & 0.2537983 & 0.2296218 & 1179 & tags=18\\%, list=9\\%, signal=17\\%  & 111136151/111134768/111107338/111102596/111112439/111103394/111115784/111129526/111107250/111127380/111134843/111137068/111131563/111119946/111134888/111120500/111129376/111130940/111125250/111131555 & 40.00000\\\\\n",
       "\t45 & cvn04148 & Efferocytosis                                                           &  98 & 0.4000467 & 1.1675889 & 0.194501018 & 0.6325836 & 0.5723244 & 1406 & tags=14\\%, list=10\\%, signal=13\\% & 111135946/111113124/111121723/111134726/111117970/111110712/111134431/111128659/111117731/111134947/111130916/111127576/111130408/111112330                                                             & 35.71429\\\\\n",
       "\t22 & cvn01212 & Fatty acid metabolism                                                   &  48 & 0.4857861 & 1.3384466 & 0.079569892 & 0.4186068 & 0.3787308 & 2029 & tags=25\\%, list=15\\%, signal=21\\% & 111127947/111113990/111128659/111115744/111107112/111115745/111099995/111119293/111135553/111124908/111100523/111117093                                                                                 & 33.33333\\\\\n",
       "\\end{tabular}\n"
      ],
      "text/markdown": [
       "\n",
       "A data.frame: 10 × 12\n",
       "\n",
       "| <!--/--> | ID &lt;chr&gt; | Description &lt;chr&gt; | setSize &lt;int&gt; | enrichmentScore &lt;dbl&gt; | NES &lt;dbl&gt; | pvalue &lt;dbl&gt; | p.adjust &lt;dbl&gt; | qvalue &lt;dbl&gt; | rank &lt;int&gt; | leading_edge &lt;chr&gt; | core_enrichment &lt;chr&gt; | MatchesPercentage &lt;dbl&gt; |\n",
       "|---|---|---|---|---|---|---|---|---|---|---|---|---|\n",
       "| 4 | cvn00592 | alpha-Linolenic acid metabolism                                         |  11 | 0.7377666 | 1.5645014 | 0.018877557 | 0.2537983 | 0.2296218 | 1602 | tags=45%, list=12%, signal=40% | 111113990/111115744/111107112/111115745/111124908                                                                                                                                                       | 80.00000 |\n",
       "| 15 | cvn01040 | Biosynthesis of unsaturated fatty acids                                 |  18 | 0.6354291 | 1.4894918 | 0.033088235 | 0.2669118 | 0.2414861 | 1602 | tags=33%, list=12%, signal=29% | 111113990/111115744/111107112/111115745/111119293/111124908                                                                                                                                             | 66.66667 |\n",
       "| 2 | cvn00910 | Nitrogen metabolism                                                     |  10 | 0.7751841 | 1.6118619 | 0.010959229 | 0.2537983 | 0.2296218 | 1398 | tags=50%, list=10%, signal=45% | 111134700/111100398/111100399/111126492/111135592                                                                                                                                                       | 60.00000 |\n",
       "| 32 | cvn04512 | ECM-receptor interaction                                                |  23 | 0.5113610 | 1.2737730 | 0.176331361 | 0.6096027 | 0.5515327 | 1679 | tags=26%, list=12%, signal=23% | 111114114/111111291/111113265/111134722/111109289/111119175                                                                                                                                             | 50.00000 |\n",
       "| 71 | cvn03083 | Polycomb repressive complex                                             |  38 | 0.3891222 | 1.0391458 | 0.438264739 | 0.7377131 | 0.6674394 |  865 | tags=11%, list=6%, signal=10%  | 111123912/111104330/111104315/111123056                                                                                                                                                                 | 50.00000 |\n",
       "| 87 | cvn00532 | Glycosaminoglycan biosynthesis - chondroitin sulfate / dermatan sulfate |  12 | 0.4314562 | 0.9343104 | 0.569148936 | 0.7915750 | 0.7161705 | 1400 | tags=17%, list=10%, signal=15% | 111118293/111111504                                                                                                                                                                                     | 50.00000 |\n",
       "| 94 | cvn03430 | Mismatch repair                                                         |  21 | 0.3553110 | 0.8641842 | 0.647272727 | 0.8331915 | 0.7538227 |  330 | tags=10%, list=2%, signal=9%   | 111121171/111137687                                                                                                                                                                                     | 50.00000 |\n",
       "| 9 | cvn04814 | Motor proteins                                                          | 111 | 0.4825362 | 1.4254420 | 0.007216891 | 0.2537983 | 0.2296218 | 1179 | tags=18%, list=9%, signal=17%  | 111136151/111134768/111107338/111102596/111112439/111103394/111115784/111129526/111107250/111127380/111134843/111137068/111131563/111119946/111134888/111120500/111129376/111130940/111125250/111131555 | 40.00000 |\n",
       "| 45 | cvn04148 | Efferocytosis                                                           |  98 | 0.4000467 | 1.1675889 | 0.194501018 | 0.6325836 | 0.5723244 | 1406 | tags=14%, list=10%, signal=13% | 111135946/111113124/111121723/111134726/111117970/111110712/111134431/111128659/111117731/111134947/111130916/111127576/111130408/111112330                                                             | 35.71429 |\n",
       "| 22 | cvn01212 | Fatty acid metabolism                                                   |  48 | 0.4857861 | 1.3384466 | 0.079569892 | 0.4186068 | 0.3787308 | 2029 | tags=25%, list=15%, signal=21% | 111127947/111113990/111128659/111115744/111107112/111115745/111099995/111119293/111135553/111124908/111100523/111117093                                                                                 | 33.33333 |\n",
       "\n"
      ],
      "text/plain": [
       "   ID      \n",
       "4  cvn00592\n",
       "15 cvn01040\n",
       "2  cvn00910\n",
       "32 cvn04512\n",
       "71 cvn03083\n",
       "87 cvn00532\n",
       "94 cvn03430\n",
       "9  cvn04814\n",
       "45 cvn04148\n",
       "22 cvn01212\n",
       "   Description                                                            \n",
       "4  alpha-Linolenic acid metabolism                                        \n",
       "15 Biosynthesis of unsaturated fatty acids                                \n",
       "2  Nitrogen metabolism                                                    \n",
       "32 ECM-receptor interaction                                               \n",
       "71 Polycomb repressive complex                                            \n",
       "87 Glycosaminoglycan biosynthesis - chondroitin sulfate / dermatan sulfate\n",
       "94 Mismatch repair                                                        \n",
       "9  Motor proteins                                                         \n",
       "45 Efferocytosis                                                          \n",
       "22 Fatty acid metabolism                                                  \n",
       "   setSize enrichmentScore NES       pvalue      p.adjust  qvalue    rank\n",
       "4   11     0.7377666       1.5645014 0.018877557 0.2537983 0.2296218 1602\n",
       "15  18     0.6354291       1.4894918 0.033088235 0.2669118 0.2414861 1602\n",
       "2   10     0.7751841       1.6118619 0.010959229 0.2537983 0.2296218 1398\n",
       "32  23     0.5113610       1.2737730 0.176331361 0.6096027 0.5515327 1679\n",
       "71  38     0.3891222       1.0391458 0.438264739 0.7377131 0.6674394  865\n",
       "87  12     0.4314562       0.9343104 0.569148936 0.7915750 0.7161705 1400\n",
       "94  21     0.3553110       0.8641842 0.647272727 0.8331915 0.7538227  330\n",
       "9  111     0.4825362       1.4254420 0.007216891 0.2537983 0.2296218 1179\n",
       "45  98     0.4000467       1.1675889 0.194501018 0.6325836 0.5723244 1406\n",
       "22  48     0.4857861       1.3384466 0.079569892 0.4186068 0.3787308 2029\n",
       "   leading_edge                  \n",
       "4  tags=45%, list=12%, signal=40%\n",
       "15 tags=33%, list=12%, signal=29%\n",
       "2  tags=50%, list=10%, signal=45%\n",
       "32 tags=26%, list=12%, signal=23%\n",
       "71 tags=11%, list=6%, signal=10% \n",
       "87 tags=17%, list=10%, signal=15%\n",
       "94 tags=10%, list=2%, signal=9%  \n",
       "9  tags=18%, list=9%, signal=17% \n",
       "45 tags=14%, list=10%, signal=13%\n",
       "22 tags=25%, list=15%, signal=21%\n",
       "   core_enrichment                                                                                                                                                                                        \n",
       "4  111113990/111115744/111107112/111115745/111124908                                                                                                                                                      \n",
       "15 111113990/111115744/111107112/111115745/111119293/111124908                                                                                                                                            \n",
       "2  111134700/111100398/111100399/111126492/111135592                                                                                                                                                      \n",
       "32 111114114/111111291/111113265/111134722/111109289/111119175                                                                                                                                            \n",
       "71 111123912/111104330/111104315/111123056                                                                                                                                                                \n",
       "87 111118293/111111504                                                                                                                                                                                    \n",
       "94 111121171/111137687                                                                                                                                                                                    \n",
       "9  111136151/111134768/111107338/111102596/111112439/111103394/111115784/111129526/111107250/111127380/111134843/111137068/111131563/111119946/111134888/111120500/111129376/111130940/111125250/111131555\n",
       "45 111135946/111113124/111121723/111134726/111117970/111110712/111134431/111128659/111117731/111134947/111130916/111127576/111130408/111112330                                                            \n",
       "22 111127947/111113990/111128659/111115744/111107112/111115745/111099995/111119293/111135553/111124908/111100523/111117093                                                                                \n",
       "   MatchesPercentage\n",
       "4  80.00000         \n",
       "15 66.66667         \n",
       "2  60.00000         \n",
       "32 50.00000         \n",
       "71 50.00000         \n",
       "87 50.00000         \n",
       "94 50.00000         \n",
       "9  40.00000         \n",
       "45 35.71429         \n",
       "22 33.33333         "
      ]
     },
     "metadata": {},
     "output_type": "display_data"
    }
   ],
   "source": [
    "# Sample dataframes\n",
    "df1 <- genes\n",
    "df2 <- pathway\n",
    "\n",
    "# Function to check if any gene in df1 matches genes in a row of df2\n",
    "get_gene_matches <- function(row_df2, df1_genes) {\n",
    "  genes2 <- unlist(strsplit(as.character(row_df2), \"/\"))\n",
    "  count <- sum(genes2 %in% df1_genes)\n",
    "  # Calculate the percentage of matched genes in the row\n",
    "  percentage <- count / length(genes2) * 100\n",
    "  return(percentage)\n",
    "}\n",
    "\n",
    "# Iterate over each row of df2\n",
    "matches_percentage <- sapply(df2$core_enrichment, get_gene_matches, df1_genes = df1$gene)\n",
    "\n",
    "# Add the matches percentage to df2\n",
    "df2$MatchesPercentage <- matches_percentage\n",
    "\n",
    "# Sort df with highest match percentages at the top\n",
    "gene_pathway_match <- df2[order(-df2$MatchesPercentage),]\n",
    "head(gene_pathway_match, 10)\n"
   ]
  },
  {
   "cell_type": "markdown",
   "id": "798c4c9b-1691-4a91-ac3a-e889e0aaa8ac",
   "metadata": {},
   "source": [
    "now that I have a df with counts of number of matches between core enrichment genes and significant DMGs, want to only look at those with matches (filter out any pathways that did not contain sig. DMGs in their core enrichment)"
   ]
  },
  {
   "cell_type": "code",
   "execution_count": 14,
   "id": "e2917340-6ce8-4f1c-925c-31bb32f76fdc",
   "metadata": {},
   "outputs": [
    {
     "data": {
      "text/html": [
       "<style>\n",
       ".list-inline {list-style: none; margin:0; padding: 0}\n",
       ".list-inline>li {display: inline-block}\n",
       ".list-inline>li:not(:last-child)::after {content: \"\\00b7\"; padding: 0 .5ex}\n",
       "</style>\n",
       "<ol class=list-inline><li>77</li><li>12</li></ol>\n"
      ],
      "text/latex": [
       "\\begin{enumerate*}\n",
       "\\item 77\n",
       "\\item 12\n",
       "\\end{enumerate*}\n"
      ],
      "text/markdown": [
       "1. 77\n",
       "2. 12\n",
       "\n",
       "\n"
      ],
      "text/plain": [
       "[1] 77 12"
      ]
     },
     "metadata": {},
     "output_type": "display_data"
    },
    {
     "data": {
      "text/html": [
       "<table class=\"dataframe\">\n",
       "<caption>A data.frame: 6 × 12</caption>\n",
       "<thead>\n",
       "\t<tr><th></th><th scope=col>ID</th><th scope=col>Description</th><th scope=col>setSize</th><th scope=col>enrichmentScore</th><th scope=col>NES</th><th scope=col>pvalue</th><th scope=col>p.adjust</th><th scope=col>qvalue</th><th scope=col>rank</th><th scope=col>leading_edge</th><th scope=col>core_enrichment</th><th scope=col>MatchesPercentage</th></tr>\n",
       "\t<tr><th></th><th scope=col>&lt;chr&gt;</th><th scope=col>&lt;chr&gt;</th><th scope=col>&lt;int&gt;</th><th scope=col>&lt;dbl&gt;</th><th scope=col>&lt;dbl&gt;</th><th scope=col>&lt;dbl&gt;</th><th scope=col>&lt;dbl&gt;</th><th scope=col>&lt;dbl&gt;</th><th scope=col>&lt;int&gt;</th><th scope=col>&lt;chr&gt;</th><th scope=col>&lt;chr&gt;</th><th scope=col>&lt;dbl&gt;</th></tr>\n",
       "</thead>\n",
       "<tbody>\n",
       "\t<tr><th scope=row>1</th><td>cvn00592</td><td>alpha-Linolenic acid metabolism                                        </td><td>11</td><td>0.7377666</td><td>1.5645014</td><td>0.01887756</td><td>0.2537983</td><td>0.2296218</td><td>1602</td><td>tags=45%, list=12%, signal=40%</td><td>111113990/111115744/111107112/111115745/111124908          </td><td>80.00000</td></tr>\n",
       "\t<tr><th scope=row>2</th><td>cvn01040</td><td>Biosynthesis of unsaturated fatty acids                                </td><td>18</td><td>0.6354291</td><td>1.4894918</td><td>0.03308824</td><td>0.2669118</td><td>0.2414861</td><td>1602</td><td>tags=33%, list=12%, signal=29%</td><td>111113990/111115744/111107112/111115745/111119293/111124908</td><td>66.66667</td></tr>\n",
       "\t<tr><th scope=row>3</th><td>cvn00910</td><td>Nitrogen metabolism                                                    </td><td>10</td><td>0.7751841</td><td>1.6118619</td><td>0.01095923</td><td>0.2537983</td><td>0.2296218</td><td>1398</td><td>tags=50%, list=10%, signal=45%</td><td>111134700/111100398/111100399/111126492/111135592          </td><td>60.00000</td></tr>\n",
       "\t<tr><th scope=row>4</th><td>cvn04512</td><td>ECM-receptor interaction                                               </td><td>23</td><td>0.5113610</td><td>1.2737730</td><td>0.17633136</td><td>0.6096027</td><td>0.5515327</td><td>1679</td><td>tags=26%, list=12%, signal=23%</td><td>111114114/111111291/111113265/111134722/111109289/111119175</td><td>50.00000</td></tr>\n",
       "\t<tr><th scope=row>5</th><td>cvn03083</td><td>Polycomb repressive complex                                            </td><td>38</td><td>0.3891222</td><td>1.0391458</td><td>0.43826474</td><td>0.7377131</td><td>0.6674394</td><td> 865</td><td>tags=11%, list=6%, signal=10% </td><td>111123912/111104330/111104315/111123056                    </td><td>50.00000</td></tr>\n",
       "\t<tr><th scope=row>6</th><td>cvn00532</td><td>Glycosaminoglycan biosynthesis - chondroitin sulfate / dermatan sulfate</td><td>12</td><td>0.4314562</td><td>0.9343104</td><td>0.56914894</td><td>0.7915750</td><td>0.7161705</td><td>1400</td><td>tags=17%, list=10%, signal=15%</td><td>111118293/111111504                                        </td><td>50.00000</td></tr>\n",
       "</tbody>\n",
       "</table>\n"
      ],
      "text/latex": [
       "A data.frame: 6 × 12\n",
       "\\begin{tabular}{r|llllllllllll}\n",
       "  & ID & Description & setSize & enrichmentScore & NES & pvalue & p.adjust & qvalue & rank & leading\\_edge & core\\_enrichment & MatchesPercentage\\\\\n",
       "  & <chr> & <chr> & <int> & <dbl> & <dbl> & <dbl> & <dbl> & <dbl> & <int> & <chr> & <chr> & <dbl>\\\\\n",
       "\\hline\n",
       "\t1 & cvn00592 & alpha-Linolenic acid metabolism                                         & 11 & 0.7377666 & 1.5645014 & 0.01887756 & 0.2537983 & 0.2296218 & 1602 & tags=45\\%, list=12\\%, signal=40\\% & 111113990/111115744/111107112/111115745/111124908           & 80.00000\\\\\n",
       "\t2 & cvn01040 & Biosynthesis of unsaturated fatty acids                                 & 18 & 0.6354291 & 1.4894918 & 0.03308824 & 0.2669118 & 0.2414861 & 1602 & tags=33\\%, list=12\\%, signal=29\\% & 111113990/111115744/111107112/111115745/111119293/111124908 & 66.66667\\\\\n",
       "\t3 & cvn00910 & Nitrogen metabolism                                                     & 10 & 0.7751841 & 1.6118619 & 0.01095923 & 0.2537983 & 0.2296218 & 1398 & tags=50\\%, list=10\\%, signal=45\\% & 111134700/111100398/111100399/111126492/111135592           & 60.00000\\\\\n",
       "\t4 & cvn04512 & ECM-receptor interaction                                                & 23 & 0.5113610 & 1.2737730 & 0.17633136 & 0.6096027 & 0.5515327 & 1679 & tags=26\\%, list=12\\%, signal=23\\% & 111114114/111111291/111113265/111134722/111109289/111119175 & 50.00000\\\\\n",
       "\t5 & cvn03083 & Polycomb repressive complex                                             & 38 & 0.3891222 & 1.0391458 & 0.43826474 & 0.7377131 & 0.6674394 &  865 & tags=11\\%, list=6\\%, signal=10\\%  & 111123912/111104330/111104315/111123056                     & 50.00000\\\\\n",
       "\t6 & cvn00532 & Glycosaminoglycan biosynthesis - chondroitin sulfate / dermatan sulfate & 12 & 0.4314562 & 0.9343104 & 0.56914894 & 0.7915750 & 0.7161705 & 1400 & tags=17\\%, list=10\\%, signal=15\\% & 111118293/111111504                                         & 50.00000\\\\\n",
       "\\end{tabular}\n"
      ],
      "text/markdown": [
       "\n",
       "A data.frame: 6 × 12\n",
       "\n",
       "| <!--/--> | ID &lt;chr&gt; | Description &lt;chr&gt; | setSize &lt;int&gt; | enrichmentScore &lt;dbl&gt; | NES &lt;dbl&gt; | pvalue &lt;dbl&gt; | p.adjust &lt;dbl&gt; | qvalue &lt;dbl&gt; | rank &lt;int&gt; | leading_edge &lt;chr&gt; | core_enrichment &lt;chr&gt; | MatchesPercentage &lt;dbl&gt; |\n",
       "|---|---|---|---|---|---|---|---|---|---|---|---|---|\n",
       "| 1 | cvn00592 | alpha-Linolenic acid metabolism                                         | 11 | 0.7377666 | 1.5645014 | 0.01887756 | 0.2537983 | 0.2296218 | 1602 | tags=45%, list=12%, signal=40% | 111113990/111115744/111107112/111115745/111124908           | 80.00000 |\n",
       "| 2 | cvn01040 | Biosynthesis of unsaturated fatty acids                                 | 18 | 0.6354291 | 1.4894918 | 0.03308824 | 0.2669118 | 0.2414861 | 1602 | tags=33%, list=12%, signal=29% | 111113990/111115744/111107112/111115745/111119293/111124908 | 66.66667 |\n",
       "| 3 | cvn00910 | Nitrogen metabolism                                                     | 10 | 0.7751841 | 1.6118619 | 0.01095923 | 0.2537983 | 0.2296218 | 1398 | tags=50%, list=10%, signal=45% | 111134700/111100398/111100399/111126492/111135592           | 60.00000 |\n",
       "| 4 | cvn04512 | ECM-receptor interaction                                                | 23 | 0.5113610 | 1.2737730 | 0.17633136 | 0.6096027 | 0.5515327 | 1679 | tags=26%, list=12%, signal=23% | 111114114/111111291/111113265/111134722/111109289/111119175 | 50.00000 |\n",
       "| 5 | cvn03083 | Polycomb repressive complex                                             | 38 | 0.3891222 | 1.0391458 | 0.43826474 | 0.7377131 | 0.6674394 |  865 | tags=11%, list=6%, signal=10%  | 111123912/111104330/111104315/111123056                     | 50.00000 |\n",
       "| 6 | cvn00532 | Glycosaminoglycan biosynthesis - chondroitin sulfate / dermatan sulfate | 12 | 0.4314562 | 0.9343104 | 0.56914894 | 0.7915750 | 0.7161705 | 1400 | tags=17%, list=10%, signal=15% | 111118293/111111504                                         | 50.00000 |\n",
       "\n"
      ],
      "text/plain": [
       "  ID      \n",
       "1 cvn00592\n",
       "2 cvn01040\n",
       "3 cvn00910\n",
       "4 cvn04512\n",
       "5 cvn03083\n",
       "6 cvn00532\n",
       "  Description                                                            \n",
       "1 alpha-Linolenic acid metabolism                                        \n",
       "2 Biosynthesis of unsaturated fatty acids                                \n",
       "3 Nitrogen metabolism                                                    \n",
       "4 ECM-receptor interaction                                               \n",
       "5 Polycomb repressive complex                                            \n",
       "6 Glycosaminoglycan biosynthesis - chondroitin sulfate / dermatan sulfate\n",
       "  setSize enrichmentScore NES       pvalue     p.adjust  qvalue    rank\n",
       "1 11      0.7377666       1.5645014 0.01887756 0.2537983 0.2296218 1602\n",
       "2 18      0.6354291       1.4894918 0.03308824 0.2669118 0.2414861 1602\n",
       "3 10      0.7751841       1.6118619 0.01095923 0.2537983 0.2296218 1398\n",
       "4 23      0.5113610       1.2737730 0.17633136 0.6096027 0.5515327 1679\n",
       "5 38      0.3891222       1.0391458 0.43826474 0.7377131 0.6674394  865\n",
       "6 12      0.4314562       0.9343104 0.56914894 0.7915750 0.7161705 1400\n",
       "  leading_edge                  \n",
       "1 tags=45%, list=12%, signal=40%\n",
       "2 tags=33%, list=12%, signal=29%\n",
       "3 tags=50%, list=10%, signal=45%\n",
       "4 tags=26%, list=12%, signal=23%\n",
       "5 tags=11%, list=6%, signal=10% \n",
       "6 tags=17%, list=10%, signal=15%\n",
       "  core_enrichment                                             MatchesPercentage\n",
       "1 111113990/111115744/111107112/111115745/111124908           80.00000         \n",
       "2 111113990/111115744/111107112/111115745/111119293/111124908 66.66667         \n",
       "3 111134700/111100398/111100399/111126492/111135592           60.00000         \n",
       "4 111114114/111111291/111113265/111134722/111109289/111119175 50.00000         \n",
       "5 111123912/111104330/111104315/111123056                     50.00000         \n",
       "6 111118293/111111504                                         50.00000         "
      ]
     },
     "metadata": {},
     "output_type": "display_data"
    }
   ],
   "source": [
    "# only want to look at pathways that have significant genes in their core enrichment\n",
    "matched_pathways <- filter(gene_pathway_match, gene_pathway_match$MatchesPercentage != 0)\n",
    "\n",
    "# checking dimensions to see how many pathways we have \n",
    "dim(matched_pathways) # 77 matches\n",
    "\n",
    "# looking at df\n",
    "head(matched_pathways)"
   ]
  },
  {
   "cell_type": "code",
   "execution_count": 11,
   "id": "944147b6-806e-44cd-8325-3702ddce6e91",
   "metadata": {},
   "outputs": [],
   "source": [
    "write.csv(matched_pathways, '/project/pi_sarah_gignouxwolfsohn_uml_edu/julia/CE_MethylRAD_analysis_2018/analysis/lfc_kegg_pathways/p1wc_siggene_pathways.csv')"
   ]
  },
  {
   "cell_type": "code",
   "execution_count": 17,
   "id": "d23bfa01-ac8d-40ac-b93a-f1f74499f8d3",
   "metadata": {},
   "outputs": [
    {
     "data": {
      "text/html": [
       "21.2779547910983"
      ],
      "text/latex": [
       "21.2779547910983"
      ],
      "text/markdown": [
       "21.2779547910983"
      ],
      "text/plain": [
       "[1] 21.27795"
      ]
     },
     "metadata": {},
     "output_type": "display_data"
    },
    {
     "data": {
      "text/html": [
       "18.1818181818182"
      ],
      "text/latex": [
       "18.1818181818182"
      ],
      "text/markdown": [
       "18.1818181818182"
      ],
      "text/plain": [
       "[1] 18.18182"
      ]
     },
     "metadata": {},
     "output_type": "display_data"
    },
    {
     "data": {
      "text/html": [
       "14.76078049997"
      ],
      "text/latex": [
       "14.76078049997"
      ],
      "text/markdown": [
       "14.76078049997"
      ],
      "text/plain": [
       "[1] 14.76078"
      ]
     },
     "metadata": {},
     "output_type": "display_data"
    }
   ],
   "source": [
    "mean(matched_pathways$MatchesPercentage)\n",
    "median(matched_pathways$MatchesPercentage)\n",
    "sd(matched_pathways$MatchesPercentage)"
   ]
  },
  {
   "cell_type": "markdown",
   "id": "89283b11-ab2e-43d0-b1e9-411fc25b7024",
   "metadata": {},
   "source": [
    "**Stats on Matched Percentage**\n",
    "\n",
    "25 pathways with only 1 match\n",
    "\n",
    "267 pathways with 0 matches\n",
    "\n",
    "- mean % of matches: 21%\n",
    "- median % of matches: 18%\n",
    "- standard deviation of matches: 14%\n",
    "\n",
    "**alpha-Linolenic acid metabolism** have the highest percent of significant DMGs in its core enrichment with 80%"
   ]
  },
  {
   "cell_type": "markdown",
   "id": "7cec6840-1e66-44c2-a154-97d66d67941e",
   "metadata": {
    "jp-MarkdownHeadingCollapsed": true,
    "tags": []
   },
   "source": [
    "## Investigating adjusted p-values with NA values\n",
    "We're trying to figure out *why* we get NA values so we can decide if we want to exclude or keep those genes in our pathway analysis\n",
    "\n",
    "Starting with looking at our list of genes with stat info from DESeq (normal lfcShrink and lfcThreshold=0.5)"
   ]
  },
  {
   "cell_type": "code",
   "execution_count": null,
   "id": "9fe1d2e8-c3d8-493a-b52a-96a8f098edcc",
   "metadata": {},
   "outputs": [],
   "source": [
    "unfilter_genes <- read.csv('/project/pi_sarah_gignouxwolfsohn_uml_edu/julia/CE_MethylRAD_analysis_2018/analysis/lfc_sig_genes/unfiltered_phase1_wc_genes.csv')\n",
    "head(unfilter_genes)"
   ]
  },
  {
   "cell_type": "markdown",
   "id": "66622903-6727-4511-b243-57775da534e5",
   "metadata": {},
   "source": [
    "filtering df to only include genes with NA for adjusted p-value"
   ]
  },
  {
   "cell_type": "code",
   "execution_count": null,
   "id": "fdc4d128-e174-43e9-a8e6-d445ccc637bb",
   "metadata": {},
   "outputs": [],
   "source": [
    "genes_w_na <- unfilter_genes[is.na(unfilter_genes$padj),]\n",
    "dim(genes_w_na) # 5,776 genes with NA for adjusted p-value"
   ]
  },
  {
   "cell_type": "markdown",
   "id": "129a8d15-c402-43e7-9344-43e76899f605",
   "metadata": {},
   "source": [
    "looking more into the stats of those genes with NA for adjusted p-value, specifically looking at the baseMean (since this is what the DESeq documentation points at)\n",
    "> baseMean - the average of the normalized count values, dividing by size factors, taken over all samples"
   ]
  },
  {
   "cell_type": "code",
   "execution_count": null,
   "id": "bbd3adac-fb82-4051-848b-0d78014cd5ac",
   "metadata": {},
   "outputs": [],
   "source": [
    "mean(genes_w_na$baseMean) # average = 4.5 counts per sample\n",
    "sd(genes_w_na$baseMean) # standard deviation = 22"
   ]
  },
  {
   "cell_type": "markdown",
   "id": "2e297847-aa25-42b0-8447-71c314ac7e5c",
   "metadata": {},
   "source": [
    "loading in counts matrix that was generated with featureCounts to pull out the genes with NA for adjusted p-value"
   ]
  },
  {
   "cell_type": "code",
   "execution_count": null,
   "id": "367a8964-9596-4d0a-bb3b-f7ba3e4d62ab",
   "metadata": {},
   "outputs": [],
   "source": [
    "# loading in counts matrix\n",
    "counts_matrix <- read.csv('/project/pi_sarah_gignouxwolfsohn_uml_edu/julia/CE_MethylRAD_analysis_2018/analysis/counts_and_meta/featureCounts_meta.csv')\n",
    "head(counts_matrix)"
   ]
  },
  {
   "cell_type": "code",
   "execution_count": null,
   "id": "7f1ef971-d255-4579-9cff-8803217e0c14",
   "metadata": {},
   "outputs": [],
   "source": [
    "# setting genees as row names\n",
    "rownames(counts_matrix) = counts_matrix$X\n",
    "\n",
    "# removing gene column (since now are rownames)\n",
    "counts_matrix2 <- counts_matrix[,-1]\n",
    "head(counts_matrix2)"
   ]
  },
  {
   "cell_type": "code",
   "execution_count": null,
   "id": "213a8733-c809-486e-91a5-7ae62fd54269",
   "metadata": {},
   "outputs": [],
   "source": [
    "# replace the '.' with '-'\n",
    "cleaned_column_names2 <- gsub('\\\\.', \"-\", colnames(counts_matrix2))\n",
    "head(cleaned_column_names2)\n",
    "\n",
    "# now assigning to the columns\n",
    "colnames(counts_matrix2) = cleaned_column_names2\n",
    "head(counts_matrix2)"
   ]
  },
  {
   "cell_type": "code",
   "execution_count": null,
   "id": "b4af77bf-5899-429d-a3b4-0620ca3245c0",
   "metadata": {},
   "outputs": [],
   "source": [
    "# creating new df of counts matrix of genes with NA for padj\n",
    "counts_na <- counts_matrix2[rownames(counts_matrix2) %in% genes_w_na$X,]\n",
    "dim(counts_na) # 5,776 genes \n",
    "head(counts_na)"
   ]
  },
  {
   "cell_type": "markdown",
   "id": "186c8a7f-b4a2-4c3a-864d-6e9199a3507d",
   "metadata": {},
   "source": [
    "also need to load in meta data so that I can pull out the right columns aka samples that were warm or control for phase 1"
   ]
  },
  {
   "cell_type": "code",
   "execution_count": null,
   "id": "d485a7e7-d0e0-4992-b72e-6ce6c1d1598e",
   "metadata": {},
   "outputs": [],
   "source": [
    "meta <- read.csv('/project/pi_sarah_gignouxwolfsohn_uml_edu/julia/CE_MethylRAD_analysis_2018/analysis/counts_and_meta/CV_CE18_meta.csv')\n",
    "head(meta)"
   ]
  },
  {
   "cell_type": "markdown",
   "id": "a43e8c74-badd-4545-9fbb-c6d68ff2c3ad",
   "metadata": {},
   "source": [
    "pulling out only the samples that were either warm or control for phase 1 treatment (we're ignoring the effects of phase 2 for this analysis)"
   ]
  },
  {
   "cell_type": "code",
   "execution_count": null,
   "id": "6ab6fd6a-072a-4114-8cf9-3140b2737426",
   "metadata": {},
   "outputs": [],
   "source": [
    "p1_wc_meta <- filter(meta, meta$Phase1 == 'warm' | meta$Phase1 == 'control')\n",
    "dim(p1_wc_meta) # 15 total samples\n",
    "head(p1_wc_meta)"
   ]
  },
  {
   "cell_type": "code",
   "execution_count": null,
   "id": "0e9d383e-2193-43c3-ae7a-5a9cc2d82610",
   "metadata": {},
   "outputs": [],
   "source": [
    "p1_wc_meta"
   ]
  },
  {
   "cell_type": "code",
   "execution_count": null,
   "id": "908287a5-737d-4c46-a570-c86130dc7937",
   "metadata": {},
   "outputs": [],
   "source": [
    "# only looking at samples with control or warm for phase 1 in the counts matrix\n",
    "filtered_df <- counts_na[,colnames(counts_na) %in% p1_wc_meta$unique_ID]\n",
    "dim(filtered_df) # still seeing 5,776 genes with NA for padj and info for 15 samples\n",
    "head(filtered_df,20)"
   ]
  },
  {
   "cell_type": "markdown",
   "id": "f2558977-b0da-4ec4-946d-de78b746fb74",
   "metadata": {},
   "source": [
    "all of the **W##** samples are **control** and all of the **G##** samples are **warm** for phase 1"
   ]
  },
  {
   "cell_type": "markdown",
   "id": "19b587ac-6055-4e3c-bea8-851779379711",
   "metadata": {},
   "source": [
    "looking at this df in excel to more easily look at why we might get NA for those genes"
   ]
  },
  {
   "cell_type": "code",
   "execution_count": null,
   "id": "4ca69a55-70e8-4390-a475-d7a8e85d7970",
   "metadata": {},
   "outputs": [],
   "source": [
    "write.csv(filtered_df, '/project/pi_sarah_gignouxwolfsohn_uml_edu/julia/CE_MethylRAD_analysis_2018/analysis/featureCounts_analysis/na_p1_wc_countsmatrix.csv')"
   ]
  },
  {
   "cell_type": "markdown",
   "id": "1d2f4cc4-76d0-4dc2-8b47-e91f306df09e",
   "metadata": {},
   "source": [
    "# Unfiltered DESeq DF and Pathway\n",
    "still looking at significantly differentially methylated genes for phase 1 warm vs. control, but now genes get assigned NA for adjusted p-values only when the gene has low counts (so this now includes outliers, instead of assigning outliers NA), therefore, different genes will be kept in the analysis for enriched pathways"
   ]
  },
  {
   "cell_type": "code",
   "execution_count": null,
   "id": "4d9fc6a8-abe9-47af-82ab-177ee7d59e76",
   "metadata": {},
   "outputs": [],
   "source": [
    "# load in csv file\n",
    "pathway <- read.csv('/project/pi_sarah_gignouxwolfsohn_uml_edu/julia/CE_MethylRAD_analysis_2018/analysis/lfc_kegg_pathways/unfiltered_pathways_p1wc.csv')\n",
    "\n",
    "# clean headers and columns\n",
    "pathway <- pathway[,-1]\n",
    "\n",
    "# checking dimensions\n",
    "dim(pathway) #119 pathways, 11 rows of info/meta data\n",
    "\n",
    "head(pathway)"
   ]
  },
  {
   "cell_type": "code",
   "execution_count": null,
   "id": "08362e13-ad51-470c-8861-0696533f976d",
   "metadata": {},
   "outputs": [],
   "source": [
    "# load data frame\n",
    "genes <- read.csv('/project/pi_sarah_gignouxwolfsohn_uml_edu/julia/CE_MethylRAD_analysis_2018/analysis/unfiltered_lfc_p1wc.csv')\n",
    "\n",
    "# KEGG uses entrez IDs, which are my ensembl IDs without the 'LOC' in front of them, so need to convert those\n",
    "genes$X <- substr(genes$X, start = 4, stop = nchar(genes$X))\n",
    "\n",
    "# only grabbing the columns I care about\n",
    "genes <- select(genes, X, log2FoldChange, padj)\n",
    "\n",
    "# renaming columns to make more sense\n",
    "colnames(genes) <- c('gene', 'lfc', 'padj')\n",
    "\n",
    "# only selecting genes that have padj < 0.05\n",
    "genes <- filter(genes, genes$padj < 0.05)\n",
    "\n",
    "# checking dimensions\n",
    "dim(genes) # 189 sig DMGs\n",
    "\n",
    "head(genes)"
   ]
  },
  {
   "cell_type": "markdown",
   "id": "5ffba236-0120-4f0c-b6bc-c7dbe207d395",
   "metadata": {},
   "source": [
    "#### III. Are the signficant genes in the core enrichment of the pathways?\n",
    "Taking our list of siginificant genes, and going line by line in our pathways to see if our sig. gene matches any of the core enrichment genes"
   ]
  },
  {
   "cell_type": "code",
   "execution_count": null,
   "id": "6fa886b4-4f71-4568-aabd-285992091f7f",
   "metadata": {},
   "outputs": [],
   "source": [
    "# generated from ChatGPT\n",
    "\n",
    "# Sample dataframes\n",
    "df1 <- genes\n",
    "df2 <- pathway\n",
    "\n",
    "# Function to check if any gene in df1 matches genes in a row of df2\n",
    "get_gene_matches <- function(row_df2, df1_genes) {\n",
    "  genes2 <- unlist(strsplit(as.character(row_df2), \"/\"))\n",
    "  count <- sum(genes2 %in% df1_genes)\n",
    "  return(count)\n",
    "}\n",
    "\n",
    "# Iterate over each row of df2\n",
    "matches_count <- sapply(df2$core_enrichment, get_gene_matches, df1_genes = df1$gene)\n",
    "\n",
    "# Add the matches count to df2\n",
    "df2$MatchesCount <- matches_count\n",
    "\n",
    "# Sort df with highest match counts at the top\n",
    "gene_pathway_match <- df2[order(-df2$MatchesCount),]\n",
    "head(gene_pathway_match)\n"
   ]
  },
  {
   "cell_type": "markdown",
   "id": "6fc49ab1-b33a-4ba6-9029-7c8331c1911d",
   "metadata": {},
   "source": [
    "now that I have a df with counts of number of matches between core enrichment genes and significant DMGs, want to only look at those with matches (filter out any pathways that did not contain sig. DMGs in their core enrichment)"
   ]
  },
  {
   "cell_type": "code",
   "execution_count": null,
   "id": "087db646-3e2d-40de-b8c2-19b20545a2b5",
   "metadata": {},
   "outputs": [],
   "source": [
    "# only want to look at pathways that have significant genes in their core enrichment\n",
    "matched_pathways <- filter(gene_pathway_match, gene_pathway_match$MatchesCount != 0)\n",
    "\n",
    "# checking dimensions to see how many pathways we have \n",
    "dim(matched_pathways) # 41 matches\n",
    "\n",
    "# looking at df\n",
    "head(matched_pathways)"
   ]
  },
  {
   "cell_type": "code",
   "execution_count": null,
   "id": "3e36b7ad-8710-47a8-aebd-775a317865c4",
   "metadata": {},
   "outputs": [],
   "source": [
    "mean(matched_pathways$MatchesCount)\n",
    "median(matched_pathways$MatchesCount)\n",
    "sd(matched_pathways$MatchesCount)"
   ]
  },
  {
   "cell_type": "markdown",
   "id": "7222787f-cfdf-4fec-bc8b-5b9ee84ad881",
   "metadata": {},
   "source": [
    "**Stats on Matched Counts**\n",
    "\n",
    "25 pathways with only 1 match\n",
    "\n",
    "148 pathways with 0 matches\n",
    "\n",
    "- mean number of matches: 1.8\n",
    "- median number of matches: 1\n",
    "- standard deviation of matches: 1.31\n",
    "\n",
    "**motor proteins** have the highest number of significant DMGs in its core enrichment with 7 genes\n",
    "\n",
    "**these results are the *same* as without filtering the outlier counts**"
   ]
  },
  {
   "cell_type": "code",
   "execution_count": null,
   "id": "01fc48d0-9b23-4b07-80aa-b9ce49255227",
   "metadata": {},
   "outputs": [],
   "source": [
    "unfilter_genes <- read.csv('/project/pi_sarah_gignouxwolfsohn_uml_edu/julia/CE_MethylRAD_analysis_2018/analysis/lfc_sig_genes/unfiltered_phase1_wc_genes.csv')\n",
    "head(unfilter_genes)"
   ]
  },
  {
   "cell_type": "markdown",
   "id": "039af155-1201-4907-92cb-246cd6b2edaf",
   "metadata": {},
   "source": [
    "filtering df to only include genes with NA for adjusted p-value"
   ]
  },
  {
   "cell_type": "code",
   "execution_count": null,
   "id": "c481811d-e4ac-4042-9914-79f55066bd25",
   "metadata": {},
   "outputs": [],
   "source": [
    "genes_w_na <- unfilter_genes[is.na(unfilter_genes$padj),]\n",
    "dim(genes_w_na) # 5,776 genes with NA for adjusted p-value"
   ]
  },
  {
   "cell_type": "markdown",
   "id": "b5b1644d-1130-4bca-a086-ed5044d01a50",
   "metadata": {},
   "source": [
    "looking more into the stats of those genes with NA for adjusted p-value, specifically looking at the baseMean (since this is what the DESeq documentation points at)\n",
    "> baseMean - the average of the normalized count values, dividing by size factors, taken over all samples"
   ]
  },
  {
   "cell_type": "code",
   "execution_count": null,
   "id": "f5b92213-42f9-4a24-98cd-bf82dc46d3a5",
   "metadata": {},
   "outputs": [],
   "source": [
    "mean(genes_w_na$baseMean) # average = 4.5 counts per sample\n",
    "sd(genes_w_na$baseMean) # standard deviation = 22"
   ]
  },
  {
   "cell_type": "markdown",
   "id": "a13ccfb9-2b83-4f4e-a0a3-6067dddbf246",
   "metadata": {},
   "source": [
    "loading in counts matrix that was generated with featureCounts to pull out the genes with NA for adjusted p-value"
   ]
  },
  {
   "cell_type": "code",
   "execution_count": null,
   "id": "3782e1ee-9298-4d0a-8724-008b367727ff",
   "metadata": {},
   "outputs": [],
   "source": [
    "# loading in counts matrix\n",
    "counts_matrix <- read.csv('/project/pi_sarah_gignouxwolfsohn_uml_edu/julia/CE_MethylRAD_analysis_2018/analysis/counts_and_meta/featureCounts_meta.csv')\n",
    "head(counts_matrix)"
   ]
  },
  {
   "cell_type": "code",
   "execution_count": null,
   "id": "0dcaace4-941c-49e1-81c3-2c01efc5ff74",
   "metadata": {},
   "outputs": [],
   "source": [
    "# setting genees as row names\n",
    "rownames(counts_matrix) = counts_matrix$X\n",
    "\n",
    "# removing gene column (since now are rownames)\n",
    "counts_matrix2 <- counts_matrix[,-1]\n",
    "head(counts_matrix2)"
   ]
  },
  {
   "cell_type": "code",
   "execution_count": null,
   "id": "ec4b2047-9bde-4cee-9703-59b775a35b1a",
   "metadata": {},
   "outputs": [],
   "source": [
    "# replace the '.' with '-'\n",
    "cleaned_column_names2 <- gsub('\\\\.', \"-\", colnames(counts_matrix2))\n",
    "head(cleaned_column_names2)\n",
    "\n",
    "# now assigning to the columns\n",
    "colnames(counts_matrix2) = cleaned_column_names2\n",
    "head(counts_matrix2)"
   ]
  },
  {
   "cell_type": "code",
   "execution_count": null,
   "id": "a384a461-3538-4840-a075-883139a60ab5",
   "metadata": {},
   "outputs": [],
   "source": [
    "# creating new df of counts matrix of genes with NA for padj\n",
    "counts_na <- counts_matrix2[rownames(counts_matrix2) %in% genes_w_na$X,]\n",
    "dim(counts_na) # 5,776 genes \n",
    "head(counts_na)"
   ]
  },
  {
   "cell_type": "markdown",
   "id": "3fc7f438-456e-455d-8a4c-71b96f17e727",
   "metadata": {},
   "source": [
    "also need to load in meta data so that I can pull out the right columns aka samples that were warm or control for phase 1"
   ]
  },
  {
   "cell_type": "code",
   "execution_count": null,
   "id": "77247d8f-1740-455f-aa7a-d638c95952dd",
   "metadata": {},
   "outputs": [],
   "source": [
    "meta <- read.csv('/project/pi_sarah_gignouxwolfsohn_uml_edu/julia/CE_MethylRAD_analysis_2018/analysis/counts_and_meta/CV_CE18_meta.csv')\n",
    "head(meta)"
   ]
  },
  {
   "cell_type": "markdown",
   "id": "726370fb-b8f3-41eb-84f5-987419f30fc4",
   "metadata": {},
   "source": [
    "pulling out only the samples that were either warm or control for phase 1 treatment (we're ignoring the effects of phase 2 for this analysis)"
   ]
  },
  {
   "cell_type": "code",
   "execution_count": null,
   "id": "93c369ef-7885-4cc5-9566-a1b5892bd424",
   "metadata": {},
   "outputs": [],
   "source": [
    "p1_wc_meta <- filter(meta, meta$Phase1 == 'warm' | meta$Phase1 == 'control')\n",
    "dim(p1_wc_meta) # 15 total samples\n",
    "head(p1_wc_meta)"
   ]
  },
  {
   "cell_type": "code",
   "execution_count": null,
   "id": "b90bc7ba-974b-4dc3-af90-5d34982d55a3",
   "metadata": {},
   "outputs": [],
   "source": [
    "p1_wc_meta"
   ]
  },
  {
   "cell_type": "code",
   "execution_count": null,
   "id": "00dd2e75-85a4-4cd0-81be-0d0f3f9a989a",
   "metadata": {},
   "outputs": [],
   "source": [
    "# only looking at samples with control or warm for phase 1 in the counts matrix\n",
    "filtered_df <- counts_na[,colnames(counts_na) %in% p1_wc_meta$unique_ID]\n",
    "dim(filtered_df) # still seeing 5,776 genes with NA for padj and info for 15 samples\n",
    "head(filtered_df,20)"
   ]
  },
  {
   "cell_type": "markdown",
   "id": "eb7af073-2348-45c5-afee-6543c755b0d1",
   "metadata": {},
   "source": [
    "all of the **W##** samples are **control** and all of the **G##** samples are **warm** for phase 1"
   ]
  },
  {
   "cell_type": "markdown",
   "id": "1c41e0bd-e5ef-4d13-b13d-54bc7eb85141",
   "metadata": {},
   "source": [
    "looking at this df in excel to more easily look at why we might get NA for those genes"
   ]
  },
  {
   "cell_type": "code",
   "execution_count": null,
   "id": "e548d30c-dd78-4a37-81f0-2022e0454fe2",
   "metadata": {},
   "outputs": [],
   "source": [
    "write.csv(filtered_df, '/project/pi_sarah_gignouxwolfsohn_uml_edu/julia/CE_MethylRAD_analysis_2018/analysis/featureCounts_analysis/na_p1_wc_countsmatrix.csv')"
   ]
  }
 ],
 "metadata": {
  "kernelspec": {
   "display_name": "R [conda env:.conda-r-env]",
   "language": "R",
   "name": "conda-env-.conda-r-env-r"
  },
  "language_info": {
   "codemirror_mode": "r",
   "file_extension": ".r",
   "mimetype": "text/x-r-source",
   "name": "R",
   "pygments_lexer": "r",
   "version": "4.3.2"
  }
 },
 "nbformat": 4,
 "nbformat_minor": 5
}
