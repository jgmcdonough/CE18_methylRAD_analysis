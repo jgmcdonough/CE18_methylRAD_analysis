{
 "cells": [
  {
   "cell_type": "markdown",
   "id": "537c59ab-39a1-4453-8bf7-b0bd4f50fb78",
   "metadata": {},
   "source": [
    "# investigating hypoxic control treatment\n",
    "\n",
    "this treatment resulted in 3 pairwise comparisons with DMGs - interested if all of these DMGs are unique to hypoxia control (HC)"
   ]
  },
  {
   "cell_type": "code",
   "execution_count": 1,
   "id": "54a9b643-5704-42a5-b1bd-bb01898eeefd",
   "metadata": {},
   "outputs": [
    {
     "name": "stderr",
     "output_type": "stream",
     "text": [
      "── \u001b[1mAttaching core tidyverse packages\u001b[22m ──────────────────────── tidyverse 2.0.0 ──\n",
      "\u001b[32m✔\u001b[39m \u001b[34mdplyr    \u001b[39m 1.1.4     \u001b[32m✔\u001b[39m \u001b[34mreadr    \u001b[39m 2.1.4\n",
      "\u001b[32m✔\u001b[39m \u001b[34mforcats  \u001b[39m 1.0.0     \u001b[32m✔\u001b[39m \u001b[34mstringr  \u001b[39m 1.5.1\n",
      "\u001b[32m✔\u001b[39m \u001b[34mggplot2  \u001b[39m 3.5.1     \u001b[32m✔\u001b[39m \u001b[34mtibble   \u001b[39m 3.2.1\n",
      "\u001b[32m✔\u001b[39m \u001b[34mlubridate\u001b[39m 1.9.3     \u001b[32m✔\u001b[39m \u001b[34mtidyr    \u001b[39m 1.3.0\n",
      "\u001b[32m✔\u001b[39m \u001b[34mpurrr    \u001b[39m 1.0.2     \n",
      "── \u001b[1mConflicts\u001b[22m ────────────────────────────────────────── tidyverse_conflicts() ──\n",
      "\u001b[31m✖\u001b[39m \u001b[34mdplyr\u001b[39m::\u001b[32mfilter()\u001b[39m masks \u001b[34mstats\u001b[39m::filter()\n",
      "\u001b[31m✖\u001b[39m \u001b[34mdplyr\u001b[39m::\u001b[32mlag()\u001b[39m    masks \u001b[34mstats\u001b[39m::lag()\n",
      "\u001b[36mℹ\u001b[39m Use the conflicted package (\u001b[3m\u001b[34m<http://conflicted.r-lib.org/>\u001b[39m\u001b[23m) to force all conflicts to become errors\n",
      "Loading required package: grid\n",
      "\n"
     ]
    }
   ],
   "source": [
    "library(tidyverse)\n",
    "library(ggvenn)\n",
    "library(RColorBrewer)"
   ]
  },
  {
   "cell_type": "markdown",
   "id": "8c2ec5de-e345-4ee0-bb71-5aa4e7e15377",
   "metadata": {},
   "source": [
    "### loading and formatting"
   ]
  },
  {
   "cell_type": "code",
   "execution_count": 2,
   "id": "f223e2ef-11ca-45fd-be9a-8fb16996af66",
   "metadata": {},
   "outputs": [],
   "source": [
    "# importing csv files\n",
    "\n",
    "# control control vs. hypoxic control\n",
    "CC_HC <- read.csv('/project/pi_sarah_gignouxwolfsohn_uml_edu/julia/CE_MethylRAD_analysis_2018/analysis/deseq_res_files/CC_vs_HC.csv')\n",
    "\n",
    "# control hypoxic vs. hypoxic control\n",
    "CH_HC <- read.csv('/project/pi_sarah_gignouxwolfsohn_uml_edu/julia/CE_MethylRAD_analysis_2018/analysis/deseq_res_files/CH_vs_HC.csv')\n",
    "\n",
    "# hypoxic hypoxic vs. hypoxic control\n",
    "HH_HC <- read.csv('/project/pi_sarah_gignouxwolfsohn_uml_edu/julia/CE_MethylRAD_analysis_2018/analysis/deseq_res_files/HH_vs_HC.csv')\n"
   ]
  },
  {
   "cell_type": "markdown",
   "id": "08afbdbf-e471-4803-99ff-8d181c50e264",
   "metadata": {},
   "source": [
    "now want to pull out only the significant DMGs for all 3 dfs (adjusted p-value < 0.05)"
   ]
  },
  {
   "cell_type": "code",
   "execution_count": 3,
   "id": "18aab80e-5ba0-4058-8a44-2b139079fa0a",
   "metadata": {},
   "outputs": [
    {
     "data": {
      "text/html": [
       "<style>\n",
       ".list-inline {list-style: none; margin:0; padding: 0}\n",
       ".list-inline>li {display: inline-block}\n",
       ".list-inline>li:not(:last-child)::after {content: \"\\00b7\"; padding: 0 .5ex}\n",
       "</style>\n",
       "<ol class=list-inline><li>20</li><li>7</li></ol>\n"
      ],
      "text/latex": [
       "\\begin{enumerate*}\n",
       "\\item 20\n",
       "\\item 7\n",
       "\\end{enumerate*}\n"
      ],
      "text/markdown": [
       "1. 20\n",
       "2. 7\n",
       "\n",
       "\n"
      ],
      "text/plain": [
       "[1] 20  7"
      ]
     },
     "metadata": {},
     "output_type": "display_data"
    },
    {
     "data": {
      "text/html": [
       "<style>\n",
       ".list-inline {list-style: none; margin:0; padding: 0}\n",
       ".list-inline>li {display: inline-block}\n",
       ".list-inline>li:not(:last-child)::after {content: \"\\00b7\"; padding: 0 .5ex}\n",
       "</style>\n",
       "<ol class=list-inline><li>258</li><li>7</li></ol>\n"
      ],
      "text/latex": [
       "\\begin{enumerate*}\n",
       "\\item 258\n",
       "\\item 7\n",
       "\\end{enumerate*}\n"
      ],
      "text/markdown": [
       "1. 258\n",
       "2. 7\n",
       "\n",
       "\n"
      ],
      "text/plain": [
       "[1] 258   7"
      ]
     },
     "metadata": {},
     "output_type": "display_data"
    },
    {
     "data": {
      "text/html": [
       "<style>\n",
       ".list-inline {list-style: none; margin:0; padding: 0}\n",
       ".list-inline>li {display: inline-block}\n",
       ".list-inline>li:not(:last-child)::after {content: \"\\00b7\"; padding: 0 .5ex}\n",
       "</style>\n",
       "<ol class=list-inline><li>124</li><li>7</li></ol>\n"
      ],
      "text/latex": [
       "\\begin{enumerate*}\n",
       "\\item 124\n",
       "\\item 7\n",
       "\\end{enumerate*}\n"
      ],
      "text/markdown": [
       "1. 124\n",
       "2. 7\n",
       "\n",
       "\n"
      ],
      "text/plain": [
       "[1] 124   7"
      ]
     },
     "metadata": {},
     "output_type": "display_data"
    }
   ],
   "source": [
    "# control control vs. hypoxic control\n",
    "sig_CC_HC <- filter(CC_HC, CC_HC$padj < 0.05)\n",
    "dim(sig_CC_HC) # 20 total sig DMGs\n",
    "\n",
    "# control hypoxic vs. hypoxic control\n",
    "sig_CH_HC <- filter(CH_HC, CH_HC$padj < 0.05)\n",
    "dim(sig_CH_HC) # 258 total sig DMGs\n",
    "\n",
    "# hypoxic hypoxic vs. hypoxic control\n",
    "sig_HH_HC <- filter(HH_HC, HH_HC$padj < 0.05)\n",
    "dim(sig_HH_HC) # 124 total sig DMGs"
   ]
  },
  {
   "cell_type": "markdown",
   "id": "91a19610-de4a-4364-a12b-8080735d0f83",
   "metadata": {},
   "source": [
    "### Venn diagram of all sig. DMGs"
   ]
  },
  {
   "cell_type": "code",
   "execution_count": 4,
   "id": "2b5b3c90-56f8-418c-8081-2b8c9ed64a63",
   "metadata": {},
   "outputs": [
    {
     "data": {
      "image/png": "[encoded data removed]",
      "text/plain": [
       "plot without title"
      ]
     },
     "metadata": {
      "image/png": {
       "height": 420,
       "width": 420
      }
     },
     "output_type": "display_data"
    }
   ],
   "source": [
    "x = list(A = sig_CC_HC$X,\n",
    "         B = sig_CH_HC$X, \n",
    "         C = sig_HH_HC$X)\n",
    "\n",
    "names(x) <- c('CC vs. HC',\n",
    "              'CH vs. HC',\n",
    "              'HH vs. HC')\n",
    "\n",
    "ggvenn(x,\n",
    "      set_name_size = 6,\n",
    "       text_size = 7,\n",
    "      stroke_size = 0.5, \n",
    "       show_percentage = FALSE)"
   ]
  },
  {
   "cell_type": "markdown",
   "id": "96ea475f-62e7-4b75-85be-ad3ee31a4c15",
   "metadata": {},
   "source": [
    "### shared sig DMGs for the pairwise comparisons"
   ]
  },
  {
   "cell_type": "code",
   "execution_count": 47,
   "id": "d7ba5ae7-c947-4137-9f51-5ed74263fa7a",
   "metadata": {},
   "outputs": [
    {
     "data": {
      "text/html": [
       "<style>\n",
       ".list-inline {list-style: none; margin:0; padding: 0}\n",
       ".list-inline>li {display: inline-block}\n",
       ".list-inline>li:not(:last-child)::after {content: \"\\00b7\"; padding: 0 .5ex}\n",
       "</style>\n",
       "<ol class=list-inline><li>14</li><li>19</li></ol>\n"
      ],
      "text/latex": [
       "\\begin{enumerate*}\n",
       "\\item 14\n",
       "\\item 19\n",
       "\\end{enumerate*}\n"
      ],
      "text/markdown": [
       "1. 14\n",
       "2. 19\n",
       "\n",
       "\n"
      ],
      "text/plain": [
       "[1] 14 19"
      ]
     },
     "metadata": {},
     "output_type": "display_data"
    }
   ],
   "source": [
    "# pulling out the 14 shared genes\n",
    "\n",
    "# Merge the data frames on the 'gene' column\n",
    "shared_genes14 <- Reduce(function(x, y) merge(x, y, by = \"X\"), list(sig_CC_HC, sig_CH_HC, sig_HH_HC))\n",
    "\n",
    "shared_genes14 <- as.data.frame(shared_genes14)\n",
    "                    \n",
    "# View the result\n",
    "dim(shared_genes14)\n"
   ]
  },
  {
   "cell_type": "markdown",
   "id": "27ad1fce-b00b-470b-af5c-8f105ee66d81",
   "metadata": {},
   "source": [
    "pulling out the **81 shared genes between HH vs. HC and CH vs. HC**"
   ]
  },
  {
   "cell_type": "code",
   "execution_count": 46,
   "id": "2ce2a9c4-ad2a-4db1-87b2-dc54182e1bad",
   "metadata": {},
   "outputs": [
    {
     "data": {
      "text/html": [
       "<style>\n",
       ".list-inline {list-style: none; margin:0; padding: 0}\n",
       ".list-inline>li {display: inline-block}\n",
       ".list-inline>li:not(:last-child)::after {content: \"\\00b7\"; padding: 0 .5ex}\n",
       "</style>\n",
       "<ol class=list-inline><li>81</li><li>13</li></ol>\n"
      ],
      "text/latex": [
       "\\begin{enumerate*}\n",
       "\\item 81\n",
       "\\item 13\n",
       "\\end{enumerate*}\n"
      ],
      "text/markdown": [
       "1. 81\n",
       "2. 13\n",
       "\n",
       "\n"
      ],
      "text/plain": [
       "[1] 81 13"
      ]
     },
     "metadata": {},
     "output_type": "display_data"
    }
   ],
   "source": [
    "# pulling out the 81 shared genes\n",
    "\n",
    "# Merge the data frames on the 'gene' column\n",
    "shared_genes81 <- Reduce(function(x, y) merge(x, y, by = \"X\"), list(sig_CH_HC, sig_HH_HC))\n",
    "                    \n",
    "shared_genes81 <- as.data.frame(shared_genes81)\n",
    "\n",
    "# View the result\n",
    "dim(shared_genes81)\n"
   ]
  },
  {
   "cell_type": "markdown",
   "id": "7fdde9d3-df60-4219-a7d7-516d851a5b71",
   "metadata": {},
   "source": [
    "pulling out the **67 genes shared ONLY between HH vs. HC and CH vs. HC**"
   ]
  },
  {
   "cell_type": "code",
   "execution_count": 45,
   "id": "f14bcd56-8da7-4f5a-b490-1f41afc8c99f",
   "metadata": {},
   "outputs": [
    {
     "data": {
      "text/html": [
       "<style>\n",
       ".list-inline {list-style: none; margin:0; padding: 0}\n",
       ".list-inline>li {display: inline-block}\n",
       ".list-inline>li:not(:last-child)::after {content: \"\\00b7\"; padding: 0 .5ex}\n",
       "</style>\n",
       "<ol class=list-inline><li>67</li><li>13</li></ol>\n"
      ],
      "text/latex": [
       "\\begin{enumerate*}\n",
       "\\item 67\n",
       "\\item 13\n",
       "\\end{enumerate*}\n"
      ],
      "text/markdown": [
       "1. 67\n",
       "2. 13\n",
       "\n",
       "\n"
      ],
      "text/plain": [
       "[1] 67 13"
      ]
     },
     "metadata": {},
     "output_type": "display_data"
    }
   ],
   "source": [
    "# to remove the 14 genes that are shared between all the comparisons, and to only look at those shared between just these two...\n",
    "shared_genes67 <- shared_genes81[!shared_genes81$X %in% shared_genes14$X, ]\n",
    "dim(shared_genes67)"
   ]
  },
  {
   "cell_type": "markdown",
   "id": "b2270809-0194-4575-9c03-935eea67b7e4",
   "metadata": {},
   "source": [
    "pulling out the **18 genes shared bewteen CC vs. HC and CH vs. HC**"
   ]
  },
  {
   "cell_type": "code",
   "execution_count": 44,
   "id": "fa44b419-7017-4535-a640-c1b7afa568e1",
   "metadata": {},
   "outputs": [
    {
     "data": {
      "text/html": [
       "<style>\n",
       ".list-inline {list-style: none; margin:0; padding: 0}\n",
       ".list-inline>li {display: inline-block}\n",
       ".list-inline>li:not(:last-child)::after {content: \"\\00b7\"; padding: 0 .5ex}\n",
       "</style>\n",
       "<ol class=list-inline><li>18</li><li>13</li></ol>\n"
      ],
      "text/latex": [
       "\\begin{enumerate*}\n",
       "\\item 18\n",
       "\\item 13\n",
       "\\end{enumerate*}\n"
      ],
      "text/markdown": [
       "1. 18\n",
       "2. 13\n",
       "\n",
       "\n"
      ],
      "text/plain": [
       "[1] 18 13"
      ]
     },
     "metadata": {},
     "output_type": "display_data"
    }
   ],
   "source": [
    "# pulling out the 18 shared genes\n",
    "\n",
    "# Merge the data frames on the 'gene' column\n",
    "shared_genes18 <- Reduce(function(x, y) merge(x, y, by = \"X\"), list(sig_CC_HC, sig_CH_HC))  \n",
    "shared_genes18 <- as.data.frame(shared_genes18)\n",
    "\n",
    "dim(shared_genes18)"
   ]
  },
  {
   "cell_type": "markdown",
   "id": "a867c301-15fc-419a-a127-57b5c30dbe74",
   "metadata": {},
   "source": [
    "pulling out the **4 genes shared between ONLY CC vs. HC and CH vs. HC**"
   ]
  },
  {
   "cell_type": "code",
   "execution_count": 42,
   "id": "449715c9-3b0d-49a9-940f-0389811ddd9b",
   "metadata": {},
   "outputs": [
    {
     "data": {
      "text/html": [
       "<style>\n",
       ".list-inline {list-style: none; margin:0; padding: 0}\n",
       ".list-inline>li {display: inline-block}\n",
       ".list-inline>li:not(:last-child)::after {content: \"\\00b7\"; padding: 0 .5ex}\n",
       "</style>\n",
       "<ol class=list-inline><li>4</li><li>13</li></ol>\n"
      ],
      "text/latex": [
       "\\begin{enumerate*}\n",
       "\\item 4\n",
       "\\item 13\n",
       "\\end{enumerate*}\n"
      ],
      "text/markdown": [
       "1. 4\n",
       "2. 13\n",
       "\n",
       "\n"
      ],
      "text/plain": [
       "[1]  4 13"
      ]
     },
     "metadata": {},
     "output_type": "display_data"
    }
   ],
   "source": [
    "# to remove the 4 genes that are shared between all the comparisons, and to only look at those shared between just these two...\n",
    "shared_genes4 <- shared_genes18[!shared_genes18$X %in% shared_genes14$X, ]\n",
    "dim(shared_genes4)"
   ]
  },
  {
   "cell_type": "markdown",
   "id": "29a248c9-f67a-4b50-b906-5801d9bf9e06",
   "metadata": {},
   "source": [
    "### unique sig DMGs for pairwise comparison"
   ]
  },
  {
   "cell_type": "markdown",
   "id": "cba6f52a-3695-4795-be38-9e46b9fe63d6",
   "metadata": {},
   "source": [
    "pulling out the **173 unique sig DMGs for CH vs. HC**"
   ]
  },
  {
   "cell_type": "code",
   "execution_count": 39,
   "id": "125faa40-092c-41f0-83a8-8c41cc73194f",
   "metadata": {},
   "outputs": [
    {
     "data": {
      "text/html": [
       "<style>\n",
       ".list-inline {list-style: none; margin:0; padding: 0}\n",
       ".list-inline>li {display: inline-block}\n",
       ".list-inline>li:not(:last-child)::after {content: \"\\00b7\"; padding: 0 .5ex}\n",
       "</style>\n",
       "<ol class=list-inline><li>173</li><li>7</li></ol>\n"
      ],
      "text/latex": [
       "\\begin{enumerate*}\n",
       "\\item 173\n",
       "\\item 7\n",
       "\\end{enumerate*}\n"
      ],
      "text/markdown": [
       "1. 173\n",
       "2. 7\n",
       "\n",
       "\n"
      ],
      "text/plain": [
       "[1] 173   7"
      ]
     },
     "metadata": {},
     "output_type": "display_data"
    }
   ],
   "source": [
    "unique_CH_HC <- sig_CH_HC[!sig_CH_HC$X %in% c(shared_genes14$X, shared_genes4$X, shared_genes67$X), ]\n",
    "dim(unique_CH_HC)"
   ]
  },
  {
   "cell_type": "markdown",
   "id": "0d94983a-7b26-498b-9510-4395bf0b51ea",
   "metadata": {},
   "source": [
    "pulling out the **2 unique sig DMGs for CC vs. HC**"
   ]
  },
  {
   "cell_type": "code",
   "execution_count": 40,
   "id": "3ccb1b7c-ecdc-49b9-adfd-e9c7b21eed11",
   "metadata": {},
   "outputs": [
    {
     "data": {
      "text/html": [
       "<style>\n",
       ".list-inline {list-style: none; margin:0; padding: 0}\n",
       ".list-inline>li {display: inline-block}\n",
       ".list-inline>li:not(:last-child)::after {content: \"\\00b7\"; padding: 0 .5ex}\n",
       "</style>\n",
       "<ol class=list-inline><li>2</li><li>7</li></ol>\n"
      ],
      "text/latex": [
       "\\begin{enumerate*}\n",
       "\\item 2\n",
       "\\item 7\n",
       "\\end{enumerate*}\n"
      ],
      "text/markdown": [
       "1. 2\n",
       "2. 7\n",
       "\n",
       "\n"
      ],
      "text/plain": [
       "[1] 2 7"
      ]
     },
     "metadata": {},
     "output_type": "display_data"
    }
   ],
   "source": [
    "unique_CC_HC <- sig_CC_HC[!sig_CC_HC$X %in% c(shared_genes14$X, shared_genes4$X), ]\n",
    "dim(unique_CC_HC)"
   ]
  },
  {
   "cell_type": "markdown",
   "id": "b6e2d9ea-2a87-4971-8fb1-33de4838037d",
   "metadata": {},
   "source": [
    "pulling out the **43 unique sig DMGs for HH vs. HC**"
   ]
  },
  {
   "cell_type": "code",
   "execution_count": 41,
   "id": "3a1642f4-fd97-41ca-a63e-089ae9970ab0",
   "metadata": {},
   "outputs": [
    {
     "data": {
      "text/html": [
       "<style>\n",
       ".list-inline {list-style: none; margin:0; padding: 0}\n",
       ".list-inline>li {display: inline-block}\n",
       ".list-inline>li:not(:last-child)::after {content: \"\\00b7\"; padding: 0 .5ex}\n",
       "</style>\n",
       "<ol class=list-inline><li>43</li><li>7</li></ol>\n"
      ],
      "text/latex": [
       "\\begin{enumerate*}\n",
       "\\item 43\n",
       "\\item 7\n",
       "\\end{enumerate*}\n"
      ],
      "text/markdown": [
       "1. 43\n",
       "2. 7\n",
       "\n",
       "\n"
      ],
      "text/plain": [
       "[1] 43  7"
      ]
     },
     "metadata": {},
     "output_type": "display_data"
    }
   ],
   "source": [
    "unique_HH_HC <- sig_HH_HC[!sig_HH_HC$X %in% c(shared_genes14$X, shared_genes67$X), ]\n",
    "dim(unique_HH_HC)"
   ]
  },
  {
   "cell_type": "markdown",
   "id": "86c9eb27-b7c1-45ff-b3a0-de34e2ab6a02",
   "metadata": {},
   "source": [
    "Now have multiple dfs that contain shared and unique sig DMGs from the Venn diagram of pairwise comparisons with HC\n",
    "\n",
    "**Shared sig DMGs**:\n",
    "- shared_genes14 - shared between all 3 comparisons\n",
    "- shared_genes67 - shared *ONLY* between HH vs. HC and CH vs. HC\n",
    "- shared_genes81 - shared between HH vs. HC and CH vs. HC (including the 14 that are shared between all)\n",
    "- shared_genes18 - shared between CC vs. HC and CH vs. HC (including the 14 that are shared between all)\n",
    "- shared_genes4 - shared *ONLY* between CC vs. HC and CH vs. HC\n",
    "\n",
    "**Unique sig DMGs**:\n",
    "- unique_HH_HC - 43 sig DMGs\n",
    "- unique_CH_HC - 173 sig DMGs\n",
    "- unique_CC_HC - 2 sig DMGs"
   ]
  },
  {
   "cell_type": "markdown",
   "id": "7c7eac14-0f23-45d3-b77a-253480d06812",
   "metadata": {},
   "source": [
    "## Functional categories of shared DMGs"
   ]
  }
 ],
 "metadata": {
  "kernelspec": {
   "display_name": "R [conda env:.conda-r-env]",
   "language": "R",
   "name": "conda-env-.conda-r-env-r"
  },
  "language_info": {
   "codemirror_mode": "r",
   "file_extension": ".r",
   "mimetype": "text/x-r-source",
   "name": "R",
   "pygments_lexer": "r",
   "version": "4.3.2"
  }
 },
 "nbformat": 4,
 "nbformat_minor": 5
}
