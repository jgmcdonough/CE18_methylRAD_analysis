{
 "cells": [
  {
   "cell_type": "markdown",
   "id": "537c59ab-39a1-4453-8bf7-b0bd4f50fb78",
   "metadata": {},
   "source": [
    "## investigating hypoxic control treatment\n",
    "\n",
    "this treatment resulted in 3 pairwise comparisons with DMGs - interested if all of these DMGs are unique to hypoxia control (HC)"
   ]
  },
  {
   "cell_type": "code",
   "execution_count": 24,
   "id": "54a9b643-5704-42a5-b1bd-bb01898eeefd",
   "metadata": {},
   "outputs": [],
   "source": [
    "library(tidyverse)\n",
    "library(ggvenn)\n",
    "library(RColorBrewer)"
   ]
  },
  {
   "cell_type": "code",
   "execution_count": 3,
   "id": "f223e2ef-11ca-45fd-be9a-8fb16996af66",
   "metadata": {},
   "outputs": [],
   "source": [
    "# importing csv files\n",
    "\n",
    "# control control vs. hypoxic control\n",
    "CC_HC <- read.csv('/project/pi_sarah_gignouxwolfsohn_uml_edu/julia/CE_MethylRAD_analysis_2018/analysis/deseq_res_files/CC_vs_HC.csv')\n",
    "\n",
    "# control hypoxic vs. hypoxic control\n",
    "CH_HC <- read.csv('/project/pi_sarah_gignouxwolfsohn_uml_edu/julia/CE_MethylRAD_analysis_2018/analysis/deseq_res_files/CH_vs_HC.csv')\n",
    "\n",
    "# hypoxic hypoxic vs. hypoxic control\n",
    "HH_HC <- read.csv('/project/pi_sarah_gignouxwolfsohn_uml_edu/julia/CE_MethylRAD_analysis_2018/analysis/deseq_res_files/HH_vs_HC.csv')\n"
   ]
  },
  {
   "cell_type": "markdown",
   "id": "08afbdbf-e471-4803-99ff-8d181c50e264",
   "metadata": {},
   "source": [
    "now want to pull out only the significant DMGs for all 3 dfs (adjusted p-value < 0.05)"
   ]
  },
  {
   "cell_type": "code",
   "execution_count": 9,
   "id": "18aab80e-5ba0-4058-8a44-2b139079fa0a",
   "metadata": {},
   "outputs": [
    {
     "data": {
      "text/html": [
       "<style>\n",
       ".list-inline {list-style: none; margin:0; padding: 0}\n",
       ".list-inline>li {display: inline-block}\n",
       ".list-inline>li:not(:last-child)::after {content: \"\\00b7\"; padding: 0 .5ex}\n",
       "</style>\n",
       "<ol class=list-inline><li>20</li><li>7</li></ol>\n"
      ],
      "text/latex": [
       "\\begin{enumerate*}\n",
       "\\item 20\n",
       "\\item 7\n",
       "\\end{enumerate*}\n"
      ],
      "text/markdown": [
       "1. 20\n",
       "2. 7\n",
       "\n",
       "\n"
      ],
      "text/plain": [
       "[1] 20  7"
      ]
     },
     "metadata": {},
     "output_type": "display_data"
    },
    {
     "data": {
      "text/html": [
       "<style>\n",
       ".list-inline {list-style: none; margin:0; padding: 0}\n",
       ".list-inline>li {display: inline-block}\n",
       ".list-inline>li:not(:last-child)::after {content: \"\\00b7\"; padding: 0 .5ex}\n",
       "</style>\n",
       "<ol class=list-inline><li>258</li><li>7</li></ol>\n"
      ],
      "text/latex": [
       "\\begin{enumerate*}\n",
       "\\item 258\n",
       "\\item 7\n",
       "\\end{enumerate*}\n"
      ],
      "text/markdown": [
       "1. 258\n",
       "2. 7\n",
       "\n",
       "\n"
      ],
      "text/plain": [
       "[1] 258   7"
      ]
     },
     "metadata": {},
     "output_type": "display_data"
    },
    {
     "data": {
      "text/html": [
       "<style>\n",
       ".list-inline {list-style: none; margin:0; padding: 0}\n",
       ".list-inline>li {display: inline-block}\n",
       ".list-inline>li:not(:last-child)::after {content: \"\\00b7\"; padding: 0 .5ex}\n",
       "</style>\n",
       "<ol class=list-inline><li>124</li><li>7</li></ol>\n"
      ],
      "text/latex": [
       "\\begin{enumerate*}\n",
       "\\item 124\n",
       "\\item 7\n",
       "\\end{enumerate*}\n"
      ],
      "text/markdown": [
       "1. 124\n",
       "2. 7\n",
       "\n",
       "\n"
      ],
      "text/plain": [
       "[1] 124   7"
      ]
     },
     "metadata": {},
     "output_type": "display_data"
    }
   ],
   "source": [
    "# control control vs. hypoxic control\n",
    "sig_CC_HC <- filter(CC_HC, CC_HC$padj < 0.05)\n",
    "dim(sig_CC_HC) # 20 total sig DMGs\n",
    "\n",
    "# control hypoxic vs. hypoxic control\n",
    "sig_CH_HC <- filter(CH_HC, CH_HC$padj < 0.05)\n",
    "dim(sig_CH_HC) # 258 total sig DMGs\n",
    "\n",
    "# hypoxic hypoxic vs. hypoxic control\n",
    "sig_HH_HC <- filter(HH_HC, HH_HC$padj < 0.05)\n",
    "dim(sig_HH_HC) # 124 total sig DMGs"
   ]
  },
  {
   "cell_type": "markdown",
   "id": "3ab8a3b2-9a0e-4640-a3db-a6811b10bb67",
   "metadata": {},
   "source": [
    "assigning direction for which treatment had sig more differentially methylated genes"
   ]
  },
  {
   "cell_type": "code",
   "execution_count": 14,
   "id": "bb9c24ec-1478-4920-a924-a6d1455bc69f",
   "metadata": {},
   "outputs": [
    {
     "data": {
      "text/html": [
       "<table class=\"dataframe\">\n",
       "<caption>A data.frame: 6 × 9</caption>\n",
       "<thead>\n",
       "\t<tr><th></th><th scope=col>X</th><th scope=col>baseMean</th><th scope=col>log2FoldChange</th><th scope=col>lfcSE</th><th scope=col>stat</th><th scope=col>pvalue</th><th scope=col>padj</th><th scope=col>more_me_in</th><th scope=col>pair</th></tr>\n",
       "\t<tr><th></th><th scope=col>&lt;chr&gt;</th><th scope=col>&lt;dbl&gt;</th><th scope=col>&lt;dbl&gt;</th><th scope=col>&lt;dbl&gt;</th><th scope=col>&lt;dbl&gt;</th><th scope=col>&lt;dbl&gt;</th><th scope=col>&lt;dbl&gt;</th><th scope=col>&lt;chr&gt;</th><th scope=col>&lt;chr&gt;</th></tr>\n",
       "</thead>\n",
       "<tbody>\n",
       "\t<tr><th scope=row>1</th><td>LOC111133260</td><td>29.447088</td><td>-1.416453</td><td>0.2784943</td><td>-4.188429</td><td>2.808925e-05</td><td>0.019080261</td><td>CC</td><td>CC_HC</td></tr>\n",
       "\t<tr><th scope=row>2</th><td>LOC111113022</td><td>22.965391</td><td>-1.528308</td><td>0.3144857</td><td>-4.064756</td><td>4.808269e-05</td><td>0.025712231</td><td>CC</td><td>CC_HC</td></tr>\n",
       "\t<tr><th scope=row>3</th><td>LOC111126993</td><td>25.822589</td><td>-1.282972</td><td>0.2564881</td><td>-4.027369</td><td>5.640438e-05</td><td>0.028096900</td><td>CC</td><td>CC_HC</td></tr>\n",
       "\t<tr><th scope=row>4</th><td>LOC111129122</td><td> 6.526204</td><td> 1.893684</td><td>0.3585291</td><td> 4.584520</td><td>4.550300e-06</td><td>0.008499960</td><td>HC</td><td>CC_HC</td></tr>\n",
       "\t<tr><th scope=row>5</th><td>LOC111119327</td><td>13.288669</td><td>-1.558224</td><td>0.3076599</td><td>-4.252177</td><td>2.117020e-05</td><td>0.015818372</td><td>CC</td><td>CC_HC</td></tr>\n",
       "\t<tr><th scope=row>6</th><td>LOC111123492</td><td>43.857546</td><td>-1.295889</td><td>0.2139553</td><td>-4.888353</td><td>1.016832e-06</td><td>0.003798884</td><td>CC</td><td>CC_HC</td></tr>\n",
       "</tbody>\n",
       "</table>\n"
      ],
      "text/latex": [
       "A data.frame: 6 × 9\n",
       "\\begin{tabular}{r|lllllllll}\n",
       "  & X & baseMean & log2FoldChange & lfcSE & stat & pvalue & padj & more\\_me\\_in & pair\\\\\n",
       "  & <chr> & <dbl> & <dbl> & <dbl> & <dbl> & <dbl> & <dbl> & <chr> & <chr>\\\\\n",
       "\\hline\n",
       "\t1 & LOC111133260 & 29.447088 & -1.416453 & 0.2784943 & -4.188429 & 2.808925e-05 & 0.019080261 & CC & CC\\_HC\\\\\n",
       "\t2 & LOC111113022 & 22.965391 & -1.528308 & 0.3144857 & -4.064756 & 4.808269e-05 & 0.025712231 & CC & CC\\_HC\\\\\n",
       "\t3 & LOC111126993 & 25.822589 & -1.282972 & 0.2564881 & -4.027369 & 5.640438e-05 & 0.028096900 & CC & CC\\_HC\\\\\n",
       "\t4 & LOC111129122 &  6.526204 &  1.893684 & 0.3585291 &  4.584520 & 4.550300e-06 & 0.008499960 & HC & CC\\_HC\\\\\n",
       "\t5 & LOC111119327 & 13.288669 & -1.558224 & 0.3076599 & -4.252177 & 2.117020e-05 & 0.015818372 & CC & CC\\_HC\\\\\n",
       "\t6 & LOC111123492 & 43.857546 & -1.295889 & 0.2139553 & -4.888353 & 1.016832e-06 & 0.003798884 & CC & CC\\_HC\\\\\n",
       "\\end{tabular}\n"
      ],
      "text/markdown": [
       "\n",
       "A data.frame: 6 × 9\n",
       "\n",
       "| <!--/--> | X &lt;chr&gt; | baseMean &lt;dbl&gt; | log2FoldChange &lt;dbl&gt; | lfcSE &lt;dbl&gt; | stat &lt;dbl&gt; | pvalue &lt;dbl&gt; | padj &lt;dbl&gt; | more_me_in &lt;chr&gt; | pair &lt;chr&gt; |\n",
       "|---|---|---|---|---|---|---|---|---|---|\n",
       "| 1 | LOC111133260 | 29.447088 | -1.416453 | 0.2784943 | -4.188429 | 2.808925e-05 | 0.019080261 | CC | CC_HC |\n",
       "| 2 | LOC111113022 | 22.965391 | -1.528308 | 0.3144857 | -4.064756 | 4.808269e-05 | 0.025712231 | CC | CC_HC |\n",
       "| 3 | LOC111126993 | 25.822589 | -1.282972 | 0.2564881 | -4.027369 | 5.640438e-05 | 0.028096900 | CC | CC_HC |\n",
       "| 4 | LOC111129122 |  6.526204 |  1.893684 | 0.3585291 |  4.584520 | 4.550300e-06 | 0.008499960 | HC | CC_HC |\n",
       "| 5 | LOC111119327 | 13.288669 | -1.558224 | 0.3076599 | -4.252177 | 2.117020e-05 | 0.015818372 | CC | CC_HC |\n",
       "| 6 | LOC111123492 | 43.857546 | -1.295889 | 0.2139553 | -4.888353 | 1.016832e-06 | 0.003798884 | CC | CC_HC |\n",
       "\n"
      ],
      "text/plain": [
       "  X            baseMean  log2FoldChange lfcSE     stat      pvalue      \n",
       "1 LOC111133260 29.447088 -1.416453      0.2784943 -4.188429 2.808925e-05\n",
       "2 LOC111113022 22.965391 -1.528308      0.3144857 -4.064756 4.808269e-05\n",
       "3 LOC111126993 25.822589 -1.282972      0.2564881 -4.027369 5.640438e-05\n",
       "4 LOC111129122  6.526204  1.893684      0.3585291  4.584520 4.550300e-06\n",
       "5 LOC111119327 13.288669 -1.558224      0.3076599 -4.252177 2.117020e-05\n",
       "6 LOC111123492 43.857546 -1.295889      0.2139553 -4.888353 1.016832e-06\n",
       "  padj        more_me_in pair \n",
       "1 0.019080261 CC         CC_HC\n",
       "2 0.025712231 CC         CC_HC\n",
       "3 0.028096900 CC         CC_HC\n",
       "4 0.008499960 HC         CC_HC\n",
       "5 0.015818372 CC         CC_HC\n",
       "6 0.003798884 CC         CC_HC"
      ]
     },
     "metadata": {},
     "output_type": "display_data"
    }
   ],
   "source": [
    "# control control vs. hypoxic control\n",
    "sig_CC_HC$more_me_in <- ifelse(sig_CC_HC$log2FoldChange<0 & sig_CC_HC$padj < 0.05, \"CC\", \n",
    "                        ifelse(sig_CC_HC$log2FoldChange>0 & sig_CC_HC$padj < 0.05, \"HC\",\n",
    "                               \"not significant\"))\n",
    "\n",
    "sig_CC_HC$pair <- 'CC_HC'\n",
    "\n",
    "head(sig_CC_HC)"
   ]
  },
  {
   "cell_type": "code",
   "execution_count": 15,
   "id": "87eae3f0-8fe6-4cfa-b5ba-02185a9563a5",
   "metadata": {},
   "outputs": [
    {
     "data": {
      "text/html": [
       "<table class=\"dataframe\">\n",
       "<caption>A data.frame: 6 × 9</caption>\n",
       "<thead>\n",
       "\t<tr><th></th><th scope=col>X</th><th scope=col>baseMean</th><th scope=col>log2FoldChange</th><th scope=col>lfcSE</th><th scope=col>stat</th><th scope=col>pvalue</th><th scope=col>padj</th><th scope=col>more_me_in</th><th scope=col>pair</th></tr>\n",
       "\t<tr><th></th><th scope=col>&lt;chr&gt;</th><th scope=col>&lt;dbl&gt;</th><th scope=col>&lt;dbl&gt;</th><th scope=col>&lt;dbl&gt;</th><th scope=col>&lt;dbl&gt;</th><th scope=col>&lt;dbl&gt;</th><th scope=col>&lt;dbl&gt;</th><th scope=col>&lt;chr&gt;</th><th scope=col>&lt;chr&gt;</th></tr>\n",
       "</thead>\n",
       "<tbody>\n",
       "\t<tr><th scope=row>1</th><td>LOC111133260</td><td>29.44709</td><td>-2.057784</td><td>0.2714630</td><td>-6.659411</td><td>2.749265e-11</td><td>1.130002e-07</td><td>CH</td><td>CH_HC</td></tr>\n",
       "\t<tr><th scope=row>2</th><td>LOC111136882</td><td>30.36485</td><td>-1.353845</td><td>0.3007495</td><td>-3.670312</td><td>2.422543e-04</td><td>1.347212e-02</td><td>CH</td><td>CH_HC</td></tr>\n",
       "\t<tr><th scope=row>3</th><td>LOC111132155</td><td>15.63095</td><td>-1.656631</td><td>0.2970751</td><td>-4.734932</td><td>2.191289e-06</td><td>4.348214e-04</td><td>CH</td><td>CH_HC</td></tr>\n",
       "\t<tr><th scope=row>4</th><td>LOC111099029</td><td>22.80687</td><td>-1.312153</td><td>0.2971206</td><td>-3.574821</td><td>3.504671e-04</td><td>1.783363e-02</td><td>CH</td><td>CH_HC</td></tr>\n",
       "\t<tr><th scope=row>5</th><td>LOC111113022</td><td>22.96539</td><td>-1.830589</td><td>0.3119173</td><td>-5.067332</td><td>4.034298e-07</td><td>1.100733e-04</td><td>CH</td><td>CH_HC</td></tr>\n",
       "\t<tr><th scope=row>6</th><td>LOC111128838</td><td>37.09761</td><td>-1.478046</td><td>0.2785766</td><td>-4.408290</td><td>1.041900e-05</td><td>1.399512e-03</td><td>CH</td><td>CH_HC</td></tr>\n",
       "</tbody>\n",
       "</table>\n"
      ],
      "text/latex": [
       "A data.frame: 6 × 9\n",
       "\\begin{tabular}{r|lllllllll}\n",
       "  & X & baseMean & log2FoldChange & lfcSE & stat & pvalue & padj & more\\_me\\_in & pair\\\\\n",
       "  & <chr> & <dbl> & <dbl> & <dbl> & <dbl> & <dbl> & <dbl> & <chr> & <chr>\\\\\n",
       "\\hline\n",
       "\t1 & LOC111133260 & 29.44709 & -2.057784 & 0.2714630 & -6.659411 & 2.749265e-11 & 1.130002e-07 & CH & CH\\_HC\\\\\n",
       "\t2 & LOC111136882 & 30.36485 & -1.353845 & 0.3007495 & -3.670312 & 2.422543e-04 & 1.347212e-02 & CH & CH\\_HC\\\\\n",
       "\t3 & LOC111132155 & 15.63095 & -1.656631 & 0.2970751 & -4.734932 & 2.191289e-06 & 4.348214e-04 & CH & CH\\_HC\\\\\n",
       "\t4 & LOC111099029 & 22.80687 & -1.312153 & 0.2971206 & -3.574821 & 3.504671e-04 & 1.783363e-02 & CH & CH\\_HC\\\\\n",
       "\t5 & LOC111113022 & 22.96539 & -1.830589 & 0.3119173 & -5.067332 & 4.034298e-07 & 1.100733e-04 & CH & CH\\_HC\\\\\n",
       "\t6 & LOC111128838 & 37.09761 & -1.478046 & 0.2785766 & -4.408290 & 1.041900e-05 & 1.399512e-03 & CH & CH\\_HC\\\\\n",
       "\\end{tabular}\n"
      ],
      "text/markdown": [
       "\n",
       "A data.frame: 6 × 9\n",
       "\n",
       "| <!--/--> | X &lt;chr&gt; | baseMean &lt;dbl&gt; | log2FoldChange &lt;dbl&gt; | lfcSE &lt;dbl&gt; | stat &lt;dbl&gt; | pvalue &lt;dbl&gt; | padj &lt;dbl&gt; | more_me_in &lt;chr&gt; | pair &lt;chr&gt; |\n",
       "|---|---|---|---|---|---|---|---|---|---|\n",
       "| 1 | LOC111133260 | 29.44709 | -2.057784 | 0.2714630 | -6.659411 | 2.749265e-11 | 1.130002e-07 | CH | CH_HC |\n",
       "| 2 | LOC111136882 | 30.36485 | -1.353845 | 0.3007495 | -3.670312 | 2.422543e-04 | 1.347212e-02 | CH | CH_HC |\n",
       "| 3 | LOC111132155 | 15.63095 | -1.656631 | 0.2970751 | -4.734932 | 2.191289e-06 | 4.348214e-04 | CH | CH_HC |\n",
       "| 4 | LOC111099029 | 22.80687 | -1.312153 | 0.2971206 | -3.574821 | 3.504671e-04 | 1.783363e-02 | CH | CH_HC |\n",
       "| 5 | LOC111113022 | 22.96539 | -1.830589 | 0.3119173 | -5.067332 | 4.034298e-07 | 1.100733e-04 | CH | CH_HC |\n",
       "| 6 | LOC111128838 | 37.09761 | -1.478046 | 0.2785766 | -4.408290 | 1.041900e-05 | 1.399512e-03 | CH | CH_HC |\n",
       "\n"
      ],
      "text/plain": [
       "  X            baseMean log2FoldChange lfcSE     stat      pvalue      \n",
       "1 LOC111133260 29.44709 -2.057784      0.2714630 -6.659411 2.749265e-11\n",
       "2 LOC111136882 30.36485 -1.353845      0.3007495 -3.670312 2.422543e-04\n",
       "3 LOC111132155 15.63095 -1.656631      0.2970751 -4.734932 2.191289e-06\n",
       "4 LOC111099029 22.80687 -1.312153      0.2971206 -3.574821 3.504671e-04\n",
       "5 LOC111113022 22.96539 -1.830589      0.3119173 -5.067332 4.034298e-07\n",
       "6 LOC111128838 37.09761 -1.478046      0.2785766 -4.408290 1.041900e-05\n",
       "  padj         more_me_in pair \n",
       "1 1.130002e-07 CH         CH_HC\n",
       "2 1.347212e-02 CH         CH_HC\n",
       "3 4.348214e-04 CH         CH_HC\n",
       "4 1.783363e-02 CH         CH_HC\n",
       "5 1.100733e-04 CH         CH_HC\n",
       "6 1.399512e-03 CH         CH_HC"
      ]
     },
     "metadata": {},
     "output_type": "display_data"
    }
   ],
   "source": [
    "# control hypoxic vs. hypoxic control\n",
    "sig_CH_HC$more_me_in <- ifelse(sig_CH_HC$log2FoldChange<0 & sig_CH_HC$padj < 0.05, \"CH\", \n",
    "                        ifelse(sig_CH_HC$log2FoldChange>0 & sig_CH_HC$padj < 0.05, \"HC\",\n",
    "                               \"not significant\"))\n",
    "\n",
    "sig_CH_HC$pair <- 'CH_HC'\n",
    "\n",
    "head(sig_CH_HC)"
   ]
  },
  {
   "cell_type": "code",
   "execution_count": 16,
   "id": "1675652c-772c-4089-bc9d-cfa066798c28",
   "metadata": {},
   "outputs": [
    {
     "data": {
      "text/html": [
       "<table class=\"dataframe\">\n",
       "<caption>A data.frame: 6 × 9</caption>\n",
       "<thead>\n",
       "\t<tr><th></th><th scope=col>X</th><th scope=col>baseMean</th><th scope=col>log2FoldChange</th><th scope=col>lfcSE</th><th scope=col>stat</th><th scope=col>pvalue</th><th scope=col>padj</th><th scope=col>more_me_in</th><th scope=col>pair</th></tr>\n",
       "\t<tr><th></th><th scope=col>&lt;chr&gt;</th><th scope=col>&lt;dbl&gt;</th><th scope=col>&lt;dbl&gt;</th><th scope=col>&lt;dbl&gt;</th><th scope=col>&lt;dbl&gt;</th><th scope=col>&lt;dbl&gt;</th><th scope=col>&lt;dbl&gt;</th><th scope=col>&lt;chr&gt;</th><th scope=col>&lt;chr&gt;</th></tr>\n",
       "</thead>\n",
       "<tbody>\n",
       "\t<tr><th scope=row>1</th><td>LOC111133260</td><td>29.447088</td><td> 1.585734</td><td>0.2666112</td><td> 5.010045</td><td>5.441729e-07</td><td>0.0002034527</td><td>HH</td><td>HH_HC</td></tr>\n",
       "\t<tr><th scope=row>2</th><td>LOC111109809</td><td> 2.627327</td><td> 1.780740</td><td>0.3607403</td><td> 4.243331</td><td>2.202262e-05</td><td>0.0038746861</td><td>HH</td><td>HH_HC</td></tr>\n",
       "\t<tr><th scope=row>3</th><td>LOC111104153</td><td>15.573645</td><td> 1.370795</td><td>0.2902406</td><td> 3.861606</td><td>1.126439e-04</td><td>0.0142359681</td><td>HH</td><td>HH_HC</td></tr>\n",
       "\t<tr><th scope=row>4</th><td>LOC111128314</td><td>19.698158</td><td> 1.338910</td><td>0.2927081</td><td> 3.720122</td><td>1.991265e-04</td><td>0.0203041148</td><td>HH</td><td>HH_HC</td></tr>\n",
       "\t<tr><th scope=row>5</th><td>LOC111128868</td><td> 4.355699</td><td>-1.521072</td><td>0.3616331</td><td>-3.514811</td><td>4.400668e-04</td><td>0.0362267828</td><td>HC</td><td>HH_HC</td></tr>\n",
       "\t<tr><th scope=row>6</th><td>LOC111128838</td><td>37.097609</td><td> 1.605668</td><td>0.2712016</td><td> 4.998745</td><td>5.770459e-07</td><td>0.0002049475</td><td>HH</td><td>HH_HC</td></tr>\n",
       "</tbody>\n",
       "</table>\n"
      ],
      "text/latex": [
       "A data.frame: 6 × 9\n",
       "\\begin{tabular}{r|lllllllll}\n",
       "  & X & baseMean & log2FoldChange & lfcSE & stat & pvalue & padj & more\\_me\\_in & pair\\\\\n",
       "  & <chr> & <dbl> & <dbl> & <dbl> & <dbl> & <dbl> & <dbl> & <chr> & <chr>\\\\\n",
       "\\hline\n",
       "\t1 & LOC111133260 & 29.447088 &  1.585734 & 0.2666112 &  5.010045 & 5.441729e-07 & 0.0002034527 & HH & HH\\_HC\\\\\n",
       "\t2 & LOC111109809 &  2.627327 &  1.780740 & 0.3607403 &  4.243331 & 2.202262e-05 & 0.0038746861 & HH & HH\\_HC\\\\\n",
       "\t3 & LOC111104153 & 15.573645 &  1.370795 & 0.2902406 &  3.861606 & 1.126439e-04 & 0.0142359681 & HH & HH\\_HC\\\\\n",
       "\t4 & LOC111128314 & 19.698158 &  1.338910 & 0.2927081 &  3.720122 & 1.991265e-04 & 0.0203041148 & HH & HH\\_HC\\\\\n",
       "\t5 & LOC111128868 &  4.355699 & -1.521072 & 0.3616331 & -3.514811 & 4.400668e-04 & 0.0362267828 & HC & HH\\_HC\\\\\n",
       "\t6 & LOC111128838 & 37.097609 &  1.605668 & 0.2712016 &  4.998745 & 5.770459e-07 & 0.0002049475 & HH & HH\\_HC\\\\\n",
       "\\end{tabular}\n"
      ],
      "text/markdown": [
       "\n",
       "A data.frame: 6 × 9\n",
       "\n",
       "| <!--/--> | X &lt;chr&gt; | baseMean &lt;dbl&gt; | log2FoldChange &lt;dbl&gt; | lfcSE &lt;dbl&gt; | stat &lt;dbl&gt; | pvalue &lt;dbl&gt; | padj &lt;dbl&gt; | more_me_in &lt;chr&gt; | pair &lt;chr&gt; |\n",
       "|---|---|---|---|---|---|---|---|---|---|\n",
       "| 1 | LOC111133260 | 29.447088 |  1.585734 | 0.2666112 |  5.010045 | 5.441729e-07 | 0.0002034527 | HH | HH_HC |\n",
       "| 2 | LOC111109809 |  2.627327 |  1.780740 | 0.3607403 |  4.243331 | 2.202262e-05 | 0.0038746861 | HH | HH_HC |\n",
       "| 3 | LOC111104153 | 15.573645 |  1.370795 | 0.2902406 |  3.861606 | 1.126439e-04 | 0.0142359681 | HH | HH_HC |\n",
       "| 4 | LOC111128314 | 19.698158 |  1.338910 | 0.2927081 |  3.720122 | 1.991265e-04 | 0.0203041148 | HH | HH_HC |\n",
       "| 5 | LOC111128868 |  4.355699 | -1.521072 | 0.3616331 | -3.514811 | 4.400668e-04 | 0.0362267828 | HC | HH_HC |\n",
       "| 6 | LOC111128838 | 37.097609 |  1.605668 | 0.2712016 |  4.998745 | 5.770459e-07 | 0.0002049475 | HH | HH_HC |\n",
       "\n"
      ],
      "text/plain": [
       "  X            baseMean  log2FoldChange lfcSE     stat      pvalue      \n",
       "1 LOC111133260 29.447088  1.585734      0.2666112  5.010045 5.441729e-07\n",
       "2 LOC111109809  2.627327  1.780740      0.3607403  4.243331 2.202262e-05\n",
       "3 LOC111104153 15.573645  1.370795      0.2902406  3.861606 1.126439e-04\n",
       "4 LOC111128314 19.698158  1.338910      0.2927081  3.720122 1.991265e-04\n",
       "5 LOC111128868  4.355699 -1.521072      0.3616331 -3.514811 4.400668e-04\n",
       "6 LOC111128838 37.097609  1.605668      0.2712016  4.998745 5.770459e-07\n",
       "  padj         more_me_in pair \n",
       "1 0.0002034527 HH         HH_HC\n",
       "2 0.0038746861 HH         HH_HC\n",
       "3 0.0142359681 HH         HH_HC\n",
       "4 0.0203041148 HH         HH_HC\n",
       "5 0.0362267828 HC         HH_HC\n",
       "6 0.0002049475 HH         HH_HC"
      ]
     },
     "metadata": {},
     "output_type": "display_data"
    }
   ],
   "source": [
    "# control control vs. hypoxic control\n",
    "sig_HH_HC$more_me_in <- ifelse(sig_HH_HC$log2FoldChange<0 & sig_HH_HC$padj < 0.05, \"HC\", \n",
    "                        ifelse(sig_HH_HC$log2FoldChange>0 & sig_HH_HC$padj < 0.05, \"HH\",\n",
    "                               \"not significant\"))\n",
    "\n",
    "sig_HH_HC$pair <- 'HH_HC'\n",
    "\n",
    "head(sig_HH_HC)"
   ]
  },
  {
   "cell_type": "markdown",
   "id": "c08c0927-5414-423d-ad33-35903e7b9d38",
   "metadata": {},
   "source": [
    "Now curious how many of the genes that are DMGs for hypoxic control (HC) are the same/if there's any overlap"
   ]
  },
  {
   "cell_type": "code",
   "execution_count": 20,
   "id": "ddc5508c-5951-463d-987d-16c73de05fee",
   "metadata": {},
   "outputs": [
    {
     "data": {
      "text/html": [
       "<style>\n",
       ".list-inline {list-style: none; margin:0; padding: 0}\n",
       ".list-inline>li {display: inline-block}\n",
       ".list-inline>li:not(:last-child)::after {content: \"\\00b7\"; padding: 0 .5ex}\n",
       "</style>\n",
       "<ol class=list-inline><li>120</li><li>9</li></ol>\n"
      ],
      "text/latex": [
       "\\begin{enumerate*}\n",
       "\\item 120\n",
       "\\item 9\n",
       "\\end{enumerate*}\n"
      ],
      "text/markdown": [
       "1. 120\n",
       "2. 9\n",
       "\n",
       "\n"
      ],
      "text/plain": [
       "[1] 120   9"
      ]
     },
     "metadata": {},
     "output_type": "display_data"
    },
    {
     "data": {
      "text/html": [
       "107"
      ],
      "text/latex": [
       "107"
      ],
      "text/markdown": [
       "107"
      ],
      "text/plain": [
       "[1] 107"
      ]
     },
     "metadata": {},
     "output_type": "display_data"
    }
   ],
   "source": [
    "HC1 <- filter(sig_CC_HC, sig_CC_HC$more_me_in == 'HC')\n",
    "HC2 <- filter(sig_CH_HC, sig_CH_HC$more_me_in == 'HC')\n",
    "HC3 <- filter(sig_HH_HC, sig_HH_HC$more_me_in == 'HC')\n",
    "\n",
    "HC_df <- rbind(HC1, HC2, HC3)\n",
    "dim(HC_df)\n",
    "length(unique(HC_df$X))"
   ]
  },
  {
   "cell_type": "markdown",
   "id": "576de6ee-73f7-47a5-8f6e-b9f343d64f9f",
   "metadata": {},
   "source": [
    "Venn diagram - only looking at genes that were signficantly differentially methylated for HC (hypoxic control) in the three pairwise comparisons"
   ]
  },
  {
   "cell_type": "code",
   "execution_count": 26,
   "id": "f591e711-700b-4beb-9053-64ce18af7ae2",
   "metadata": {},
   "outputs": [
    {
     "data": {
      "image/png": "[encoded data removed]",
      "text/plain": [
       "plot without title"
      ]
     },
     "metadata": {
      "image/png": {
       "height": 420,
       "width": 420
      }
     },
     "output_type": "display_data"
    }
   ],
   "source": [
    "x = list(A = HC1$X,\n",
    "         B = HC2$X, \n",
    "         C = HC3$X)\n",
    "\n",
    "names(x) <- c('CC vs. HC',\n",
    "              'CH vs. HC',\n",
    "              'HH vs. HC')\n",
    "\n",
    "ggvenn(x,\n",
    "      set_name_size = 6,\n",
    "       text_size = 7,\n",
    "      stroke_size = 0.5, \n",
    "       show_percentage = FALSE)"
   ]
  },
  {
   "cell_type": "markdown",
   "id": "1cf292a4-9a87-4d9e-a68f-72f60ca07653",
   "metadata": {},
   "source": [
    "so there's one gene that is significantly differentially methylated in all three pairwise comparisons for HC..."
   ]
  },
  {
   "cell_type": "code",
   "execution_count": 28,
   "id": "d7ba5ae7-c947-4137-9f51-5ed74263fa7a",
   "metadata": {},
   "outputs": [
    {
     "name": "stdout",
     "output_type": "stream",
     "text": [
      "             X baseMean.x log2FoldChange.x   lfcSE.x   stat.x     pvalue.x\n",
      "1 LOC111129146   17.02599         1.395451 0.2641511 4.336347 1.448705e-05\n",
      "     padj.x more_me_in.x pair.x baseMean.y log2FoldChange.y   lfcSE.y   stat.y\n",
      "1 0.0135309           HC  CC_HC   17.02599         1.434632 0.2622414 4.517333\n",
      "      pvalue.y       padj.y more_me_in.y pair.y baseMean log2FoldChange\n",
      "1 6.262334e-06 0.0009592357           HC  CH_HC 17.02599      -1.568892\n",
      "      lfcSE      stat       pvalue         padj more_me_in  pair\n",
      "1 0.2488735 -5.299448 1.161536e-07 8.019556e-05         HC HH_HC\n"
     ]
    }
   ],
   "source": [
    "# Merge the data frames on the 'gene' column\n",
    "merged_df <- Reduce(function(x, y) merge(x, y, by = \"X\"), list(HC1, HC2, HC3))\n",
    "\n",
    "# View the result\n",
    "print(as.data.frame(merged_df))\n"
   ]
  },
  {
   "cell_type": "markdown",
   "id": "f67bd316-bf0b-43ed-8db7-84d55c925283",
   "metadata": {},
   "source": [
    "the shared gene is LOC111129146 ([NCBI link](https://www.ncbi.nlm.nih.gov/gene/111129146))\n",
    "- involved in the negative regulation of canonical Wnt signaling pathway\n",
    "- ends with a change in transcription of target genes ([AmiGO link](https://amigo.geneontology.org/amigo/term/GO:0090090))"
   ]
  }
 ],
 "metadata": {
  "kernelspec": {
   "display_name": "R [conda env:.conda-r-env]",
   "language": "R",
   "name": "conda-env-.conda-r-env-r"
  },
  "language_info": {
   "codemirror_mode": "r",
   "file_extension": ".r",
   "mimetype": "text/x-r-source",
   "name": "R",
   "pygments_lexer": "r",
   "version": "4.3.2"
  }
 },
 "nbformat": 4,
 "nbformat_minor": 5
}
