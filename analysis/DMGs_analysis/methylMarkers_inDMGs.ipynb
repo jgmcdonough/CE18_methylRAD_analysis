{
 "cells": [
  {
   "cell_type": "markdown",
   "id": "620da15b-a387-47c0-a1c9-e0e904035a92",
   "metadata": {},
   "source": [
    "# Methylation Markers in DMGs\n",
    "Within DMGs identified in [DESeq_geneFeatureCounts.ipynb](https://github.com/jgmcdonough/CE18_methylRAD_analysis/blob/master/analysis/DMGs_analysis/DESeq_geneFeatureCounts.ipynb), we want to know where methylation is different (locus by locus)\n",
    "\n",
    "As of rn (03/31/2025) I'm not sure how to do this, so going to start by extracting the CpG dinucleotides that are contained within DMGs "
   ]
  },
  {
   "cell_type": "markdown",
   "id": "b7684d75-af33-4386-8f01-1bc8e21f0400",
   "metadata": {},
   "source": [
    "## 0. load libraries"
   ]
  },
  {
   "cell_type": "code",
   "execution_count": 14,
   "id": "db2bd153-d58b-40fe-95e0-f53dd642c694",
   "metadata": {},
   "outputs": [],
   "source": [
    "library(tidyverse)\n",
    "library(rtracklayer)"
   ]
  },
  {
   "cell_type": "markdown",
   "id": "9c48171b-c8c2-4683-8772-46fffff00fea",
   "metadata": {},
   "source": [
    "## 1. CpGs within DMGs\n",
    "using `bedtools intersect` and command line to create new CG file"
   ]
  },
  {
   "cell_type": "code",
   "execution_count": null,
   "id": "1480cec8-86bd-4f8b-98a9-5b4405f8e7ce",
   "metadata": {},
   "outputs": [],
   "source": [
    "cpgList=\"/project/pi_sarah_gignouxwolfsohn_uml_edu/julia/CE_methyl_assembly/assembly_pipeline_files/genomic_bed_files/2.C_virginica-3.0_CG-motif.bed\"\n",
    "\n",
    "dmgList=\"/project/pi_sarah_gignouxwolfsohn_uml_edu/julia/CE_MethylRAD_analysis_2018/analysis/genomic_feature_tracks/proportion_overlap/dmg_gff.bed\"\n",
    "\n",
    "outputDir=\"/project/pi_sarah_gignouxwolfsohn_uml_edu/julia/CE_methyl_assembly/assembly_pipeline_files/genomic_bed_files/\"\n"
   ]
  },
  {
   "cell_type": "code",
   "execution_count": null,
   "id": "9d7692a0-a3ad-4210-a7ed-4b9ac7bb7f97",
   "metadata": {},
   "outputs": [],
   "source": [
    "!bedtools intersect -u -a ${cpgList} -b ${dmgList} > ${outputDir}CpGs_inDMG.bed"
   ]
  },
  {
   "cell_type": "markdown",
   "id": "58ac8abc-f851-475d-ab50-dd8520f17855",
   "metadata": {},
   "source": [
    "There's only 53,220 CpGs located within DMGs"
   ]
  },
  {
   "cell_type": "markdown",
   "id": "1795bf71-e01a-4267-8770-57606d6a0e59",
   "metadata": {},
   "source": [
    "## 2. Generate new counts matrix\n",
    "using `bedtools multicov` and command line to generate counts matrix "
   ]
  },
  {
   "cell_type": "code",
   "execution_count": null,
   "id": "56adeca0-6945-4d4c-a3b9-f1d0fd7dcdf0",
   "metadata": {},
   "outputs": [],
   "source": [
    "cd /project/pi_sarah_gignouxwolfsohn_uml_edu/julia/CE_methyl_assembly/assembly_pipeline_files/BEDtools/working_BAM_sequences\n",
    "\n",
    "output_dir=\"/project/pi_sarah_gignouxwolfsohn_uml_edu/julia/CE_methyl_assembly/assembly_pipeline_files/genomic_bed_files/\"\n",
    "\n",
    "CG_motif=\"/project/pi_sarah_gignouxwolfsohn_uml_edu/julia/CE_methyl_assembly/assembly_pipeline_files/genomic_bed_files/CpGs_inDMG.bed\"\n",
    "\n",
    "bedtools multicov -bams *.bam -bed $CG_motif > ${output_dir}CpGs_inDMG_multicov.csv"
   ]
  },
  {
   "cell_type": "markdown",
   "id": "23bbf559-c685-403a-8883-be39b8389d50",
   "metadata": {},
   "source": [
    "## 3. Load in new counts matrix"
   ]
  },
  {
   "cell_type": "code",
   "execution_count": 3,
   "id": "1120fbc9-908b-4d79-bda0-39c6ff25f460",
   "metadata": {},
   "outputs": [
    {
     "data": {
      "text/html": [
       "<table class=\"dataframe\">\n",
       "<caption>A data.frame: 6 × 24</caption>\n",
       "<thead>\n",
       "\t<tr><th></th><th scope=col>NC_035780.1</th><th scope=col>X315523</th><th scope=col>X315525</th><th scope=col>CG_motif</th><th scope=col>X0</th><th scope=col>X0.1</th><th scope=col>X0.2</th><th scope=col>X0.3</th><th scope=col>X0.4</th><th scope=col>X0.5</th><th scope=col>⋯</th><th scope=col>X0.10</th><th scope=col>X0.11</th><th scope=col>X0.12</th><th scope=col>X0.13</th><th scope=col>X0.14</th><th scope=col>X0.15</th><th scope=col>X0.16</th><th scope=col>X0.17</th><th scope=col>X0.18</th><th scope=col>X0.19</th></tr>\n",
       "\t<tr><th></th><th scope=col>&lt;chr&gt;</th><th scope=col>&lt;int&gt;</th><th scope=col>&lt;int&gt;</th><th scope=col>&lt;chr&gt;</th><th scope=col>&lt;int&gt;</th><th scope=col>&lt;int&gt;</th><th scope=col>&lt;int&gt;</th><th scope=col>&lt;int&gt;</th><th scope=col>&lt;int&gt;</th><th scope=col>&lt;int&gt;</th><th scope=col>⋯</th><th scope=col>&lt;int&gt;</th><th scope=col>&lt;int&gt;</th><th scope=col>&lt;int&gt;</th><th scope=col>&lt;int&gt;</th><th scope=col>&lt;int&gt;</th><th scope=col>&lt;int&gt;</th><th scope=col>&lt;int&gt;</th><th scope=col>&lt;int&gt;</th><th scope=col>&lt;int&gt;</th><th scope=col>&lt;int&gt;</th></tr>\n",
       "</thead>\n",
       "<tbody>\n",
       "\t<tr><th scope=row>1</th><td>NC_035780.1</td><td>315549</td><td>315551</td><td>CG_motif</td><td>0</td><td>0</td><td>0</td><td>0</td><td>0</td><td>0</td><td>⋯</td><td>0</td><td>0</td><td>0</td><td>0</td><td>0</td><td>0</td><td>0</td><td>0</td><td>0</td><td>0</td></tr>\n",
       "\t<tr><th scope=row>2</th><td>NC_035780.1</td><td>315563</td><td>315565</td><td>CG_motif</td><td>0</td><td>0</td><td>0</td><td>0</td><td>0</td><td>0</td><td>⋯</td><td>0</td><td>0</td><td>0</td><td>0</td><td>0</td><td>0</td><td>0</td><td>0</td><td>0</td><td>0</td></tr>\n",
       "\t<tr><th scope=row>3</th><td>NC_035780.1</td><td>315567</td><td>315569</td><td>CG_motif</td><td>0</td><td>0</td><td>0</td><td>0</td><td>0</td><td>0</td><td>⋯</td><td>0</td><td>0</td><td>0</td><td>0</td><td>0</td><td>0</td><td>0</td><td>0</td><td>0</td><td>0</td></tr>\n",
       "\t<tr><th scope=row>4</th><td>NC_035780.1</td><td>315618</td><td>315620</td><td>CG_motif</td><td>0</td><td>0</td><td>0</td><td>0</td><td>0</td><td>0</td><td>⋯</td><td>0</td><td>0</td><td>0</td><td>0</td><td>0</td><td>0</td><td>0</td><td>0</td><td>0</td><td>0</td></tr>\n",
       "\t<tr><th scope=row>5</th><td>NC_035780.1</td><td>315688</td><td>315690</td><td>CG_motif</td><td>0</td><td>0</td><td>0</td><td>0</td><td>0</td><td>0</td><td>⋯</td><td>0</td><td>0</td><td>0</td><td>0</td><td>0</td><td>0</td><td>0</td><td>0</td><td>0</td><td>0</td></tr>\n",
       "\t<tr><th scope=row>6</th><td>NC_035780.1</td><td>315736</td><td>315738</td><td>CG_motif</td><td>0</td><td>0</td><td>0</td><td>0</td><td>0</td><td>0</td><td>⋯</td><td>0</td><td>0</td><td>0</td><td>0</td><td>0</td><td>0</td><td>0</td><td>0</td><td>0</td><td>0</td></tr>\n",
       "</tbody>\n",
       "</table>\n"
      ],
      "text/latex": [
       "A data.frame: 6 × 24\n",
       "\\begin{tabular}{r|lllllllllllllllllllll}\n",
       "  & NC\\_035780.1 & X315523 & X315525 & CG\\_motif & X0 & X0.1 & X0.2 & X0.3 & X0.4 & X0.5 & ⋯ & X0.10 & X0.11 & X0.12 & X0.13 & X0.14 & X0.15 & X0.16 & X0.17 & X0.18 & X0.19\\\\\n",
       "  & <chr> & <int> & <int> & <chr> & <int> & <int> & <int> & <int> & <int> & <int> & ⋯ & <int> & <int> & <int> & <int> & <int> & <int> & <int> & <int> & <int> & <int>\\\\\n",
       "\\hline\n",
       "\t1 & NC\\_035780.1 & 315549 & 315551 & CG\\_motif & 0 & 0 & 0 & 0 & 0 & 0 & ⋯ & 0 & 0 & 0 & 0 & 0 & 0 & 0 & 0 & 0 & 0\\\\\n",
       "\t2 & NC\\_035780.1 & 315563 & 315565 & CG\\_motif & 0 & 0 & 0 & 0 & 0 & 0 & ⋯ & 0 & 0 & 0 & 0 & 0 & 0 & 0 & 0 & 0 & 0\\\\\n",
       "\t3 & NC\\_035780.1 & 315567 & 315569 & CG\\_motif & 0 & 0 & 0 & 0 & 0 & 0 & ⋯ & 0 & 0 & 0 & 0 & 0 & 0 & 0 & 0 & 0 & 0\\\\\n",
       "\t4 & NC\\_035780.1 & 315618 & 315620 & CG\\_motif & 0 & 0 & 0 & 0 & 0 & 0 & ⋯ & 0 & 0 & 0 & 0 & 0 & 0 & 0 & 0 & 0 & 0\\\\\n",
       "\t5 & NC\\_035780.1 & 315688 & 315690 & CG\\_motif & 0 & 0 & 0 & 0 & 0 & 0 & ⋯ & 0 & 0 & 0 & 0 & 0 & 0 & 0 & 0 & 0 & 0\\\\\n",
       "\t6 & NC\\_035780.1 & 315736 & 315738 & CG\\_motif & 0 & 0 & 0 & 0 & 0 & 0 & ⋯ & 0 & 0 & 0 & 0 & 0 & 0 & 0 & 0 & 0 & 0\\\\\n",
       "\\end{tabular}\n"
      ],
      "text/markdown": [
       "\n",
       "A data.frame: 6 × 24\n",
       "\n",
       "| <!--/--> | NC_035780.1 &lt;chr&gt; | X315523 &lt;int&gt; | X315525 &lt;int&gt; | CG_motif &lt;chr&gt; | X0 &lt;int&gt; | X0.1 &lt;int&gt; | X0.2 &lt;int&gt; | X0.3 &lt;int&gt; | X0.4 &lt;int&gt; | X0.5 &lt;int&gt; | ⋯ ⋯ | X0.10 &lt;int&gt; | X0.11 &lt;int&gt; | X0.12 &lt;int&gt; | X0.13 &lt;int&gt; | X0.14 &lt;int&gt; | X0.15 &lt;int&gt; | X0.16 &lt;int&gt; | X0.17 &lt;int&gt; | X0.18 &lt;int&gt; | X0.19 &lt;int&gt; |\n",
       "|---|---|---|---|---|---|---|---|---|---|---|---|---|---|---|---|---|---|---|---|---|---|\n",
       "| 1 | NC_035780.1 | 315549 | 315551 | CG_motif | 0 | 0 | 0 | 0 | 0 | 0 | ⋯ | 0 | 0 | 0 | 0 | 0 | 0 | 0 | 0 | 0 | 0 |\n",
       "| 2 | NC_035780.1 | 315563 | 315565 | CG_motif | 0 | 0 | 0 | 0 | 0 | 0 | ⋯ | 0 | 0 | 0 | 0 | 0 | 0 | 0 | 0 | 0 | 0 |\n",
       "| 3 | NC_035780.1 | 315567 | 315569 | CG_motif | 0 | 0 | 0 | 0 | 0 | 0 | ⋯ | 0 | 0 | 0 | 0 | 0 | 0 | 0 | 0 | 0 | 0 |\n",
       "| 4 | NC_035780.1 | 315618 | 315620 | CG_motif | 0 | 0 | 0 | 0 | 0 | 0 | ⋯ | 0 | 0 | 0 | 0 | 0 | 0 | 0 | 0 | 0 | 0 |\n",
       "| 5 | NC_035780.1 | 315688 | 315690 | CG_motif | 0 | 0 | 0 | 0 | 0 | 0 | ⋯ | 0 | 0 | 0 | 0 | 0 | 0 | 0 | 0 | 0 | 0 |\n",
       "| 6 | NC_035780.1 | 315736 | 315738 | CG_motif | 0 | 0 | 0 | 0 | 0 | 0 | ⋯ | 0 | 0 | 0 | 0 | 0 | 0 | 0 | 0 | 0 | 0 |\n",
       "\n"
      ],
      "text/plain": [
       "  NC_035780.1 X315523 X315525 CG_motif X0 X0.1 X0.2 X0.3 X0.4 X0.5 ⋯ X0.10\n",
       "1 NC_035780.1 315549  315551  CG_motif 0  0    0    0    0    0    ⋯ 0    \n",
       "2 NC_035780.1 315563  315565  CG_motif 0  0    0    0    0    0    ⋯ 0    \n",
       "3 NC_035780.1 315567  315569  CG_motif 0  0    0    0    0    0    ⋯ 0    \n",
       "4 NC_035780.1 315618  315620  CG_motif 0  0    0    0    0    0    ⋯ 0    \n",
       "5 NC_035780.1 315688  315690  CG_motif 0  0    0    0    0    0    ⋯ 0    \n",
       "6 NC_035780.1 315736  315738  CG_motif 0  0    0    0    0    0    ⋯ 0    \n",
       "  X0.11 X0.12 X0.13 X0.14 X0.15 X0.16 X0.17 X0.18 X0.19\n",
       "1 0     0     0     0     0     0     0     0     0    \n",
       "2 0     0     0     0     0     0     0     0     0    \n",
       "3 0     0     0     0     0     0     0     0     0    \n",
       "4 0     0     0     0     0     0     0     0     0    \n",
       "5 0     0     0     0     0     0     0     0     0    \n",
       "6 0     0     0     0     0     0     0     0     0    "
      ]
     },
     "metadata": {},
     "output_type": "display_data"
    }
   ],
   "source": [
    "matrix <- read.csv('/project/pi_sarah_gignouxwolfsohn_uml_edu/julia/CE_methyl_assembly/assembly_pipeline_files/genomic_bed_files/CpGs_inDMGs_multicov.csv', sep='\\t')\n",
    "head(matrix)"
   ]
  },
  {
   "cell_type": "markdown",
   "id": "9455deed-31eb-42f0-bffb-b0f0bc28f008",
   "metadata": {},
   "source": [
    "adding sample names to the columns"
   ]
  },
  {
   "cell_type": "code",
   "execution_count": 6,
   "id": "0b020db9-56ea-4c39-8aed-93bc23507cd9",
   "metadata": {},
   "outputs": [
    {
     "data": {
      "text/html": [
       "<style>\n",
       ".list-inline {list-style: none; margin:0; padding: 0}\n",
       ".list-inline>li {display: inline-block}\n",
       ".list-inline>li:not(:last-child)::after {content: \"\\00b7\"; padding: 0 .5ex}\n",
       "</style>\n",
       "<ol class=list-inline><li>'BBB-WBO-B21'</li><li>'BBB-WBV-B70'</li><li>'BBO-BBO-B16'</li><li>'BBO-BBY-B27'</li><li>'BBO-WBO-B16'</li><li>'BBO-WBV-B64'</li><li>'BBR-BBB-B50'</li><li>'BBR-BBG-B38'</li><li>'BBR-BBY-B26'</li><li>'BBY-WBG-B42'</li><li>'WBB-WBV-W69'</li><li>'WBG-BBB-W56'</li><li>'WBG-WBG-W44'</li><li>'WBO-BBR-W03'</li><li>'WBO-WBV-W64'</li><li>'WBR-BBY-W25'</li><li>'WBV-WBO-W23'</li><li>'WBV-WBR-W12'</li><li>'WBY-BBV-W65'</li><li>'WBY-BBY-W30'</li></ol>\n"
      ],
      "text/latex": [
       "\\begin{enumerate*}\n",
       "\\item 'BBB-WBO-B21'\n",
       "\\item 'BBB-WBV-B70'\n",
       "\\item 'BBO-BBO-B16'\n",
       "\\item 'BBO-BBY-B27'\n",
       "\\item 'BBO-WBO-B16'\n",
       "\\item 'BBO-WBV-B64'\n",
       "\\item 'BBR-BBB-B50'\n",
       "\\item 'BBR-BBG-B38'\n",
       "\\item 'BBR-BBY-B26'\n",
       "\\item 'BBY-WBG-B42'\n",
       "\\item 'WBB-WBV-W69'\n",
       "\\item 'WBG-BBB-W56'\n",
       "\\item 'WBG-WBG-W44'\n",
       "\\item 'WBO-BBR-W03'\n",
       "\\item 'WBO-WBV-W64'\n",
       "\\item 'WBR-BBY-W25'\n",
       "\\item 'WBV-WBO-W23'\n",
       "\\item 'WBV-WBR-W12'\n",
       "\\item 'WBY-BBV-W65'\n",
       "\\item 'WBY-BBY-W30'\n",
       "\\end{enumerate*}\n"
      ],
      "text/markdown": [
       "1. 'BBB-WBO-B21'\n",
       "2. 'BBB-WBV-B70'\n",
       "3. 'BBO-BBO-B16'\n",
       "4. 'BBO-BBY-B27'\n",
       "5. 'BBO-WBO-B16'\n",
       "6. 'BBO-WBV-B64'\n",
       "7. 'BBR-BBB-B50'\n",
       "8. 'BBR-BBG-B38'\n",
       "9. 'BBR-BBY-B26'\n",
       "10. 'BBY-WBG-B42'\n",
       "11. 'WBB-WBV-W69'\n",
       "12. 'WBG-BBB-W56'\n",
       "13. 'WBG-WBG-W44'\n",
       "14. 'WBO-BBR-W03'\n",
       "15. 'WBO-WBV-W64'\n",
       "16. 'WBR-BBY-W25'\n",
       "17. 'WBV-WBO-W23'\n",
       "18. 'WBV-WBR-W12'\n",
       "19. 'WBY-BBV-W65'\n",
       "20. 'WBY-BBY-W30'\n",
       "\n",
       "\n"
      ],
      "text/plain": [
       " [1] \"BBB-WBO-B21\" \"BBB-WBV-B70\" \"BBO-BBO-B16\" \"BBO-BBY-B27\" \"BBO-WBO-B16\"\n",
       " [6] \"BBO-WBV-B64\" \"BBR-BBB-B50\" \"BBR-BBG-B38\" \"BBR-BBY-B26\" \"BBY-WBG-B42\"\n",
       "[11] \"WBB-WBV-W69\" \"WBG-BBB-W56\" \"WBG-WBG-W44\" \"WBO-BBR-W03\" \"WBO-WBV-W64\"\n",
       "[16] \"WBR-BBY-W25\" \"WBV-WBO-W23\" \"WBV-WBR-W12\" \"WBY-BBV-W65\" \"WBY-BBY-W30\""
      ]
     },
     "metadata": {},
     "output_type": "display_data"
    },
    {
     "data": {
      "text/html": [
       "<table class=\"dataframe\">\n",
       "<caption>A data.frame: 6 × 24</caption>\n",
       "<thead>\n",
       "\t<tr><th></th><th scope=col>chromosome</th><th scope=col>start</th><th scope=col>stop</th><th scope=col>CG_motif</th><th scope=col>BBB-WBO-B21</th><th scope=col>BBB-WBV-B70</th><th scope=col>BBO-BBO-B16</th><th scope=col>BBO-BBY-B27</th><th scope=col>BBO-WBO-B16</th><th scope=col>BBO-WBV-B64</th><th scope=col>⋯</th><th scope=col>WBB-WBV-W69</th><th scope=col>WBG-BBB-W56</th><th scope=col>WBG-WBG-W44</th><th scope=col>WBO-BBR-W03</th><th scope=col>WBO-WBV-W64</th><th scope=col>WBR-BBY-W25</th><th scope=col>WBV-WBO-W23</th><th scope=col>WBV-WBR-W12</th><th scope=col>WBY-BBV-W65</th><th scope=col>WBY-BBY-W30</th></tr>\n",
       "\t<tr><th></th><th scope=col>&lt;chr&gt;</th><th scope=col>&lt;int&gt;</th><th scope=col>&lt;int&gt;</th><th scope=col>&lt;chr&gt;</th><th scope=col>&lt;int&gt;</th><th scope=col>&lt;int&gt;</th><th scope=col>&lt;int&gt;</th><th scope=col>&lt;int&gt;</th><th scope=col>&lt;int&gt;</th><th scope=col>&lt;int&gt;</th><th scope=col>⋯</th><th scope=col>&lt;int&gt;</th><th scope=col>&lt;int&gt;</th><th scope=col>&lt;int&gt;</th><th scope=col>&lt;int&gt;</th><th scope=col>&lt;int&gt;</th><th scope=col>&lt;int&gt;</th><th scope=col>&lt;int&gt;</th><th scope=col>&lt;int&gt;</th><th scope=col>&lt;int&gt;</th><th scope=col>&lt;int&gt;</th></tr>\n",
       "</thead>\n",
       "<tbody>\n",
       "\t<tr><th scope=row>1</th><td>NC_035780.1</td><td>315549</td><td>315551</td><td>CG_motif</td><td>0</td><td>0</td><td>0</td><td>0</td><td>0</td><td>0</td><td>⋯</td><td>0</td><td>0</td><td>0</td><td>0</td><td>0</td><td>0</td><td>0</td><td>0</td><td>0</td><td>0</td></tr>\n",
       "\t<tr><th scope=row>2</th><td>NC_035780.1</td><td>315563</td><td>315565</td><td>CG_motif</td><td>0</td><td>0</td><td>0</td><td>0</td><td>0</td><td>0</td><td>⋯</td><td>0</td><td>0</td><td>0</td><td>0</td><td>0</td><td>0</td><td>0</td><td>0</td><td>0</td><td>0</td></tr>\n",
       "\t<tr><th scope=row>3</th><td>NC_035780.1</td><td>315567</td><td>315569</td><td>CG_motif</td><td>0</td><td>0</td><td>0</td><td>0</td><td>0</td><td>0</td><td>⋯</td><td>0</td><td>0</td><td>0</td><td>0</td><td>0</td><td>0</td><td>0</td><td>0</td><td>0</td><td>0</td></tr>\n",
       "\t<tr><th scope=row>4</th><td>NC_035780.1</td><td>315618</td><td>315620</td><td>CG_motif</td><td>0</td><td>0</td><td>0</td><td>0</td><td>0</td><td>0</td><td>⋯</td><td>0</td><td>0</td><td>0</td><td>0</td><td>0</td><td>0</td><td>0</td><td>0</td><td>0</td><td>0</td></tr>\n",
       "\t<tr><th scope=row>5</th><td>NC_035780.1</td><td>315688</td><td>315690</td><td>CG_motif</td><td>0</td><td>0</td><td>0</td><td>0</td><td>0</td><td>0</td><td>⋯</td><td>0</td><td>0</td><td>0</td><td>0</td><td>0</td><td>0</td><td>0</td><td>0</td><td>0</td><td>0</td></tr>\n",
       "\t<tr><th scope=row>6</th><td>NC_035780.1</td><td>315736</td><td>315738</td><td>CG_motif</td><td>0</td><td>0</td><td>0</td><td>0</td><td>0</td><td>0</td><td>⋯</td><td>0</td><td>0</td><td>0</td><td>0</td><td>0</td><td>0</td><td>0</td><td>0</td><td>0</td><td>0</td></tr>\n",
       "</tbody>\n",
       "</table>\n"
      ],
      "text/latex": [
       "A data.frame: 6 × 24\n",
       "\\begin{tabular}{r|lllllllllllllllllllll}\n",
       "  & chromosome & start & stop & CG\\_motif & BBB-WBO-B21 & BBB-WBV-B70 & BBO-BBO-B16 & BBO-BBY-B27 & BBO-WBO-B16 & BBO-WBV-B64 & ⋯ & WBB-WBV-W69 & WBG-BBB-W56 & WBG-WBG-W44 & WBO-BBR-W03 & WBO-WBV-W64 & WBR-BBY-W25 & WBV-WBO-W23 & WBV-WBR-W12 & WBY-BBV-W65 & WBY-BBY-W30\\\\\n",
       "  & <chr> & <int> & <int> & <chr> & <int> & <int> & <int> & <int> & <int> & <int> & ⋯ & <int> & <int> & <int> & <int> & <int> & <int> & <int> & <int> & <int> & <int>\\\\\n",
       "\\hline\n",
       "\t1 & NC\\_035780.1 & 315549 & 315551 & CG\\_motif & 0 & 0 & 0 & 0 & 0 & 0 & ⋯ & 0 & 0 & 0 & 0 & 0 & 0 & 0 & 0 & 0 & 0\\\\\n",
       "\t2 & NC\\_035780.1 & 315563 & 315565 & CG\\_motif & 0 & 0 & 0 & 0 & 0 & 0 & ⋯ & 0 & 0 & 0 & 0 & 0 & 0 & 0 & 0 & 0 & 0\\\\\n",
       "\t3 & NC\\_035780.1 & 315567 & 315569 & CG\\_motif & 0 & 0 & 0 & 0 & 0 & 0 & ⋯ & 0 & 0 & 0 & 0 & 0 & 0 & 0 & 0 & 0 & 0\\\\\n",
       "\t4 & NC\\_035780.1 & 315618 & 315620 & CG\\_motif & 0 & 0 & 0 & 0 & 0 & 0 & ⋯ & 0 & 0 & 0 & 0 & 0 & 0 & 0 & 0 & 0 & 0\\\\\n",
       "\t5 & NC\\_035780.1 & 315688 & 315690 & CG\\_motif & 0 & 0 & 0 & 0 & 0 & 0 & ⋯ & 0 & 0 & 0 & 0 & 0 & 0 & 0 & 0 & 0 & 0\\\\\n",
       "\t6 & NC\\_035780.1 & 315736 & 315738 & CG\\_motif & 0 & 0 & 0 & 0 & 0 & 0 & ⋯ & 0 & 0 & 0 & 0 & 0 & 0 & 0 & 0 & 0 & 0\\\\\n",
       "\\end{tabular}\n"
      ],
      "text/markdown": [
       "\n",
       "A data.frame: 6 × 24\n",
       "\n",
       "| <!--/--> | chromosome &lt;chr&gt; | start &lt;int&gt; | stop &lt;int&gt; | CG_motif &lt;chr&gt; | BBB-WBO-B21 &lt;int&gt; | BBB-WBV-B70 &lt;int&gt; | BBO-BBO-B16 &lt;int&gt; | BBO-BBY-B27 &lt;int&gt; | BBO-WBO-B16 &lt;int&gt; | BBO-WBV-B64 &lt;int&gt; | ⋯ ⋯ | WBB-WBV-W69 &lt;int&gt; | WBG-BBB-W56 &lt;int&gt; | WBG-WBG-W44 &lt;int&gt; | WBO-BBR-W03 &lt;int&gt; | WBO-WBV-W64 &lt;int&gt; | WBR-BBY-W25 &lt;int&gt; | WBV-WBO-W23 &lt;int&gt; | WBV-WBR-W12 &lt;int&gt; | WBY-BBV-W65 &lt;int&gt; | WBY-BBY-W30 &lt;int&gt; |\n",
       "|---|---|---|---|---|---|---|---|---|---|---|---|---|---|---|---|---|---|---|---|---|---|\n",
       "| 1 | NC_035780.1 | 315549 | 315551 | CG_motif | 0 | 0 | 0 | 0 | 0 | 0 | ⋯ | 0 | 0 | 0 | 0 | 0 | 0 | 0 | 0 | 0 | 0 |\n",
       "| 2 | NC_035780.1 | 315563 | 315565 | CG_motif | 0 | 0 | 0 | 0 | 0 | 0 | ⋯ | 0 | 0 | 0 | 0 | 0 | 0 | 0 | 0 | 0 | 0 |\n",
       "| 3 | NC_035780.1 | 315567 | 315569 | CG_motif | 0 | 0 | 0 | 0 | 0 | 0 | ⋯ | 0 | 0 | 0 | 0 | 0 | 0 | 0 | 0 | 0 | 0 |\n",
       "| 4 | NC_035780.1 | 315618 | 315620 | CG_motif | 0 | 0 | 0 | 0 | 0 | 0 | ⋯ | 0 | 0 | 0 | 0 | 0 | 0 | 0 | 0 | 0 | 0 |\n",
       "| 5 | NC_035780.1 | 315688 | 315690 | CG_motif | 0 | 0 | 0 | 0 | 0 | 0 | ⋯ | 0 | 0 | 0 | 0 | 0 | 0 | 0 | 0 | 0 | 0 |\n",
       "| 6 | NC_035780.1 | 315736 | 315738 | CG_motif | 0 | 0 | 0 | 0 | 0 | 0 | ⋯ | 0 | 0 | 0 | 0 | 0 | 0 | 0 | 0 | 0 | 0 |\n",
       "\n"
      ],
      "text/plain": [
       "  chromosome  start  stop   CG_motif BBB-WBO-B21 BBB-WBV-B70 BBO-BBO-B16\n",
       "1 NC_035780.1 315549 315551 CG_motif 0           0           0          \n",
       "2 NC_035780.1 315563 315565 CG_motif 0           0           0          \n",
       "3 NC_035780.1 315567 315569 CG_motif 0           0           0          \n",
       "4 NC_035780.1 315618 315620 CG_motif 0           0           0          \n",
       "5 NC_035780.1 315688 315690 CG_motif 0           0           0          \n",
       "6 NC_035780.1 315736 315738 CG_motif 0           0           0          \n",
       "  BBO-BBY-B27 BBO-WBO-B16 BBO-WBV-B64 ⋯ WBB-WBV-W69 WBG-BBB-W56 WBG-WBG-W44\n",
       "1 0           0           0           ⋯ 0           0           0          \n",
       "2 0           0           0           ⋯ 0           0           0          \n",
       "3 0           0           0           ⋯ 0           0           0          \n",
       "4 0           0           0           ⋯ 0           0           0          \n",
       "5 0           0           0           ⋯ 0           0           0          \n",
       "6 0           0           0           ⋯ 0           0           0          \n",
       "  WBO-BBR-W03 WBO-WBV-W64 WBR-BBY-W25 WBV-WBO-W23 WBV-WBR-W12 WBY-BBV-W65\n",
       "1 0           0           0           0           0           0          \n",
       "2 0           0           0           0           0           0          \n",
       "3 0           0           0           0           0           0          \n",
       "4 0           0           0           0           0           0          \n",
       "5 0           0           0           0           0           0          \n",
       "6 0           0           0           0           0           0          \n",
       "  WBY-BBY-W30\n",
       "1 0          \n",
       "2 0          \n",
       "3 0          \n",
       "4 0          \n",
       "5 0          \n",
       "6 0          "
      ]
     },
     "metadata": {},
     "output_type": "display_data"
    }
   ],
   "source": [
    "# getting names of the BAM files for each oyster individual\n",
    "bam_files <- dir(path = \"/project/pi_sarah_gignouxwolfsohn_uml_edu/julia/CE_methyl_assembly/assembly_pipeline_files/BEDtools/working_BAM_sequences/\", \n",
    "                 pattern = \"^.*\\\\.bam$\", \n",
    "                 full.names = FALSE, \n",
    "                 ignore.case = TRUE, \n",
    "                 all.files = TRUE)\n",
    "\n",
    "# clean sample names\n",
    "bam_files_clean <- gsub(\"^2018--|-CV_sorted\\\\.bam$\", \"\", bam_files)\n",
    "bam_files_clean\n",
    "\n",
    "# renaming columns with sample name - based on order that appears in the directory\n",
    "colnames(matrix) <- c('chromosome', 'start', 'stop', 'CG_motif', bam_files_clean)\n",
    "head(matrix)"
   ]
  },
  {
   "cell_type": "markdown",
   "id": "358526cd-141a-4689-b854-aef3ed757ede",
   "metadata": {},
   "source": [
    "So now I have a counts matrix with CpGs that are only within DMGs for all oyster replicates - it would be helpful to know which gene a given CpG is found in - I wonder if there's a way to add a column that contains the gene accession number"
   ]
  },
  {
   "cell_type": "code",
   "execution_count": 11,
   "id": "2f1bfb07-c0d6-4148-88f2-fe6aee679b47",
   "metadata": {},
   "outputs": [
    {
     "data": {
      "text/html": [
       "<table class=\"dataframe\">\n",
       "<caption>A data.frame: 6 × 3</caption>\n",
       "<thead>\n",
       "\t<tr><th></th><th scope=col>V1</th><th scope=col>V2</th><th scope=col>V3</th></tr>\n",
       "\t<tr><th></th><th scope=col>&lt;chr&gt;</th><th scope=col>&lt;int&gt;</th><th scope=col>&lt;int&gt;</th></tr>\n",
       "</thead>\n",
       "<tbody>\n",
       "\t<tr><th scope=row>1</th><td>NC_035780.1</td><td>  315522</td><td>  340261</td></tr>\n",
       "\t<tr><th scope=row>2</th><td>NC_035780.1</td><td>  444907</td><td>  453310</td></tr>\n",
       "\t<tr><th scope=row>3</th><td>NC_035780.1</td><td> 9011563</td><td> 9043404</td></tr>\n",
       "\t<tr><th scope=row>4</th><td>NC_035780.1</td><td> 9288063</td><td> 9301976</td></tr>\n",
       "\t<tr><th scope=row>5</th><td>NC_035780.1</td><td>13324137</td><td>13332152</td></tr>\n",
       "\t<tr><th scope=row>6</th><td>NC_035780.1</td><td>13591534</td><td>13596982</td></tr>\n",
       "</tbody>\n",
       "</table>\n"
      ],
      "text/latex": [
       "A data.frame: 6 × 3\n",
       "\\begin{tabular}{r|lll}\n",
       "  & V1 & V2 & V3\\\\\n",
       "  & <chr> & <int> & <int>\\\\\n",
       "\\hline\n",
       "\t1 & NC\\_035780.1 &   315522 &   340261\\\\\n",
       "\t2 & NC\\_035780.1 &   444907 &   453310\\\\\n",
       "\t3 & NC\\_035780.1 &  9011563 &  9043404\\\\\n",
       "\t4 & NC\\_035780.1 &  9288063 &  9301976\\\\\n",
       "\t5 & NC\\_035780.1 & 13324137 & 13332152\\\\\n",
       "\t6 & NC\\_035780.1 & 13591534 & 13596982\\\\\n",
       "\\end{tabular}\n"
      ],
      "text/markdown": [
       "\n",
       "A data.frame: 6 × 3\n",
       "\n",
       "| <!--/--> | V1 &lt;chr&gt; | V2 &lt;int&gt; | V3 &lt;int&gt; |\n",
       "|---|---|---|---|\n",
       "| 1 | NC_035780.1 |   315522 |   340261 |\n",
       "| 2 | NC_035780.1 |   444907 |   453310 |\n",
       "| 3 | NC_035780.1 |  9011563 |  9043404 |\n",
       "| 4 | NC_035780.1 |  9288063 |  9301976 |\n",
       "| 5 | NC_035780.1 | 13324137 | 13332152 |\n",
       "| 6 | NC_035780.1 | 13591534 | 13596982 |\n",
       "\n"
      ],
      "text/plain": [
       "  V1          V2       V3      \n",
       "1 NC_035780.1   315522   340261\n",
       "2 NC_035780.1   444907   453310\n",
       "3 NC_035780.1  9011563  9043404\n",
       "4 NC_035780.1  9288063  9301976\n",
       "5 NC_035780.1 13324137 13332152\n",
       "6 NC_035780.1 13591534 13596982"
      ]
     },
     "metadata": {},
     "output_type": "display_data"
    }
   ],
   "source": [
    "# read in dmg bed file (which was used to generate the matrix above)\n",
    "dmg.bed <- read.csv('/project/pi_sarah_gignouxwolfsohn_uml_edu/julia/CE_MethylRAD_analysis_2018/analysis/genomic_feature_tracks/proportion_overlap/dmg_gff.bed', \n",
    "                    sep = '\\t', \n",
    "                    header = FALSE)\n",
    "head(dmg.bed)"
   ]
  },
  {
   "cell_type": "code",
   "execution_count": 17,
   "id": "32039183-eb52-4d41-b5c5-77d58b7cb67c",
   "metadata": {},
   "outputs": [
    {
     "data": {
      "text/html": [
       "<table class=\"dataframe\">\n",
       "<caption>A data.frame: 6 × 12</caption>\n",
       "<thead>\n",
       "\t<tr><th></th><th scope=col>seqnames</th><th scope=col>start</th><th scope=col>end</th><th scope=col>width</th><th scope=col>strand</th><th scope=col>source</th><th scope=col>type</th><th scope=col>score</th><th scope=col>phase</th><th scope=col>ID</th><th scope=col>Dbxref</th><th scope=col>Name</th></tr>\n",
       "\t<tr><th></th><th scope=col>&lt;fct&gt;</th><th scope=col>&lt;int&gt;</th><th scope=col>&lt;int&gt;</th><th scope=col>&lt;int&gt;</th><th scope=col>&lt;fct&gt;</th><th scope=col>&lt;fct&gt;</th><th scope=col>&lt;fct&gt;</th><th scope=col>&lt;dbl&gt;</th><th scope=col>&lt;int&gt;</th><th scope=col>&lt;chr&gt;</th><th scope=col>&lt;list&gt;</th><th scope=col>&lt;chr&gt;</th></tr>\n",
       "</thead>\n",
       "<tbody>\n",
       "\t<tr><th scope=row>303</th><td>NC_035780.1</td><td>  315522</td><td>  340261</td><td>24740</td><td>+</td><td>Gnomon</td><td>gene</td><td>NA</td><td>NA</td><td>gene-LOC111133260</td><td>GeneID:1....</td><td>LOC111133260</td></tr>\n",
       "\t<tr><th scope=row>543</th><td>NC_035780.1</td><td>  444907</td><td>  453310</td><td> 8404</td><td>-</td><td>Gnomon</td><td>gene</td><td>NA</td><td>NA</td><td>gene-LOC111109809</td><td>GeneID:1....</td><td>LOC111109809</td></tr>\n",
       "\t<tr><th scope=row>16195</th><td>NC_035780.1</td><td> 9011563</td><td> 9043404</td><td>31842</td><td>-</td><td>Gnomon</td><td>gene</td><td>NA</td><td>NA</td><td>gene-LOC111137635</td><td>GeneID:1....</td><td>LOC111137635</td></tr>\n",
       "\t<tr><th scope=row>16555</th><td>NC_035780.1</td><td> 9288063</td><td> 9301976</td><td>13914</td><td>-</td><td>Gnomon</td><td>gene</td><td>NA</td><td>NA</td><td>gene-LOC111132155</td><td>GeneID:1....</td><td>LOC111132155</td></tr>\n",
       "\t<tr><th scope=row>27864</th><td>NC_035780.1</td><td>13324137</td><td>13332152</td><td> 8016</td><td>+</td><td>Gnomon</td><td>gene</td><td>NA</td><td>NA</td><td>gene-LOC111113022</td><td>GeneID:1....</td><td>LOC111113022</td></tr>\n",
       "\t<tr><th scope=row>28276</th><td>NC_035780.1</td><td>13591534</td><td>13596982</td><td> 5449</td><td>-</td><td>Gnomon</td><td>gene</td><td>NA</td><td>NA</td><td>gene-LOC111131329</td><td>GeneID:1....</td><td>LOC111131329</td></tr>\n",
       "</tbody>\n",
       "</table>\n"
      ],
      "text/latex": [
       "A data.frame: 6 × 12\n",
       "\\begin{tabular}{r|llllllllllll}\n",
       "  & seqnames & start & end & width & strand & source & type & score & phase & ID & Dbxref & Name\\\\\n",
       "  & <fct> & <int> & <int> & <int> & <fct> & <fct> & <fct> & <dbl> & <int> & <chr> & <list> & <chr>\\\\\n",
       "\\hline\n",
       "\t303 & NC\\_035780.1 &   315522 &   340261 & 24740 & + & Gnomon & gene & NA & NA & gene-LOC111133260 & GeneID:1.... & LOC111133260\\\\\n",
       "\t543 & NC\\_035780.1 &   444907 &   453310 &  8404 & - & Gnomon & gene & NA & NA & gene-LOC111109809 & GeneID:1.... & LOC111109809\\\\\n",
       "\t16195 & NC\\_035780.1 &  9011563 &  9043404 & 31842 & - & Gnomon & gene & NA & NA & gene-LOC111137635 & GeneID:1.... & LOC111137635\\\\\n",
       "\t16555 & NC\\_035780.1 &  9288063 &  9301976 & 13914 & - & Gnomon & gene & NA & NA & gene-LOC111132155 & GeneID:1.... & LOC111132155\\\\\n",
       "\t27864 & NC\\_035780.1 & 13324137 & 13332152 &  8016 & + & Gnomon & gene & NA & NA & gene-LOC111113022 & GeneID:1.... & LOC111113022\\\\\n",
       "\t28276 & NC\\_035780.1 & 13591534 & 13596982 &  5449 & - & Gnomon & gene & NA & NA & gene-LOC111131329 & GeneID:1.... & LOC111131329\\\\\n",
       "\\end{tabular}\n"
      ],
      "text/markdown": [
       "\n",
       "A data.frame: 6 × 12\n",
       "\n",
       "| <!--/--> | seqnames &lt;fct&gt; | start &lt;int&gt; | end &lt;int&gt; | width &lt;int&gt; | strand &lt;fct&gt; | source &lt;fct&gt; | type &lt;fct&gt; | score &lt;dbl&gt; | phase &lt;int&gt; | ID &lt;chr&gt; | Dbxref &lt;list&gt; | Name &lt;chr&gt; |\n",
       "|---|---|---|---|---|---|---|---|---|---|---|---|---|\n",
       "| 303 | NC_035780.1 |   315522 |   340261 | 24740 | + | Gnomon | gene | NA | NA | gene-LOC111133260 | GeneID:1.... | LOC111133260 |\n",
       "| 543 | NC_035780.1 |   444907 |   453310 |  8404 | - | Gnomon | gene | NA | NA | gene-LOC111109809 | GeneID:1.... | LOC111109809 |\n",
       "| 16195 | NC_035780.1 |  9011563 |  9043404 | 31842 | - | Gnomon | gene | NA | NA | gene-LOC111137635 | GeneID:1.... | LOC111137635 |\n",
       "| 16555 | NC_035780.1 |  9288063 |  9301976 | 13914 | - | Gnomon | gene | NA | NA | gene-LOC111132155 | GeneID:1.... | LOC111132155 |\n",
       "| 27864 | NC_035780.1 | 13324137 | 13332152 |  8016 | + | Gnomon | gene | NA | NA | gene-LOC111113022 | GeneID:1.... | LOC111113022 |\n",
       "| 28276 | NC_035780.1 | 13591534 | 13596982 |  5449 | - | Gnomon | gene | NA | NA | gene-LOC111131329 | GeneID:1.... | LOC111131329 |\n",
       "\n"
      ],
      "text/plain": [
       "      seqnames    start    end      width strand source type score phase\n",
       "303   NC_035780.1   315522   340261 24740 +      Gnomon gene NA    NA   \n",
       "543   NC_035780.1   444907   453310  8404 -      Gnomon gene NA    NA   \n",
       "16195 NC_035780.1  9011563  9043404 31842 -      Gnomon gene NA    NA   \n",
       "16555 NC_035780.1  9288063  9301976 13914 -      Gnomon gene NA    NA   \n",
       "27864 NC_035780.1 13324137 13332152  8016 +      Gnomon gene NA    NA   \n",
       "28276 NC_035780.1 13591534 13596982  5449 -      Gnomon gene NA    NA   \n",
       "      ID                Dbxref       Name        \n",
       "303   gene-LOC111133260 GeneID:1.... LOC111133260\n",
       "543   gene-LOC111109809 GeneID:1.... LOC111109809\n",
       "16195 gene-LOC111137635 GeneID:1.... LOC111137635\n",
       "16555 gene-LOC111132155 GeneID:1.... LOC111132155\n",
       "27864 gene-LOC111113022 GeneID:1.... LOC111113022\n",
       "28276 gene-LOC111131329 GeneID:1.... LOC111131329"
      ]
     },
     "metadata": {},
     "output_type": "display_data"
    },
    {
     "data": {
      "text/html": [
       "<style>\n",
       ".list-inline {list-style: none; margin:0; padding: 0}\n",
       ".list-inline>li {display: inline-block}\n",
       ".list-inline>li:not(:last-child)::after {content: \"\\00b7\"; padding: 0 .5ex}\n",
       "</style>\n",
       "<ol class=list-inline><li>217</li><li>12</li></ol>\n"
      ],
      "text/latex": [
       "\\begin{enumerate*}\n",
       "\\item 217\n",
       "\\item 12\n",
       "\\end{enumerate*}\n"
      ],
      "text/markdown": [
       "1. 217\n",
       "2. 12\n",
       "\n",
       "\n"
      ],
      "text/plain": [
       "[1] 217  12"
      ]
     },
     "metadata": {},
     "output_type": "display_data"
    },
    {
     "data": {
      "text/html": [
       "<style>\n",
       ".list-inline {list-style: none; margin:0; padding: 0}\n",
       ".list-inline>li {display: inline-block}\n",
       ".list-inline>li:not(:last-child)::after {content: \"\\00b7\"; padding: 0 .5ex}\n",
       "</style>\n",
       "<ol class=list-inline><li>217</li><li>3</li></ol>\n"
      ],
      "text/latex": [
       "\\begin{enumerate*}\n",
       "\\item 217\n",
       "\\item 3\n",
       "\\end{enumerate*}\n"
      ],
      "text/markdown": [
       "1. 217\n",
       "2. 3\n",
       "\n",
       "\n"
      ],
      "text/plain": [
       "[1] 217   3"
      ]
     },
     "metadata": {},
     "output_type": "display_data"
    }
   ],
   "source": [
    "# read in dmg csv file\n",
    "dmg <- read.csv('/project/pi_sarah_gignouxwolfsohn_uml_edu/julia/CE_MethylRAD_analysis_2018/analysis/deseq_res_files/sig_DMGs/all_sigDMGs.csv')\n",
    "\n",
    "# read in gff file\n",
    "gff <- as.data.frame(import.gff('/project/pi_sarah_gignouxwolfsohn_uml_edu/Reference_genomes/Cvirginica_genome/CV_working_genomic.gff'))\n",
    "\n",
    "# only grab gene features\n",
    "gff_genes <- gff[grep(\"LOC\", gff$Name),1:12]\n",
    "\n",
    "# filter to only include genes that are DMG\n",
    "dmg_gff <- gff_genes[gff_genes$Name %in% dmg$symbol,]\n",
    "\n",
    "# double check everything looks good\n",
    "head(dmg_gff)\n",
    "\n",
    "# are the dimensions the same? \n",
    "dim(dmg_gff)\n",
    "dim(dmg)"
   ]
  },
  {
   "cell_type": "code",
   "execution_count": 28,
   "id": "e74b682d-4d15-462a-b533-b051bfb974cc",
   "metadata": {},
   "outputs": [
    {
     "data": {
      "text/html": [
       "<table class=\"dataframe\">\n",
       "<caption>A data.frame: 6 × 4</caption>\n",
       "<thead>\n",
       "\t<tr><th></th><th scope=col>chromosome</th><th scope=col>start</th><th scope=col>stop</th><th scope=col>gene</th></tr>\n",
       "\t<tr><th></th><th scope=col>&lt;fct&gt;</th><th scope=col>&lt;int&gt;</th><th scope=col>&lt;int&gt;</th><th scope=col>&lt;chr&gt;</th></tr>\n",
       "</thead>\n",
       "<tbody>\n",
       "\t<tr><th scope=row>303</th><td>NC_035780.1</td><td>  315522</td><td>  340261</td><td>LOC111133260</td></tr>\n",
       "\t<tr><th scope=row>543</th><td>NC_035780.1</td><td>  444907</td><td>  453310</td><td>LOC111109809</td></tr>\n",
       "\t<tr><th scope=row>16195</th><td>NC_035780.1</td><td> 9011563</td><td> 9043404</td><td>LOC111137635</td></tr>\n",
       "\t<tr><th scope=row>16555</th><td>NC_035780.1</td><td> 9288063</td><td> 9301976</td><td>LOC111132155</td></tr>\n",
       "\t<tr><th scope=row>27864</th><td>NC_035780.1</td><td>13324137</td><td>13332152</td><td>LOC111113022</td></tr>\n",
       "\t<tr><th scope=row>28276</th><td>NC_035780.1</td><td>13591534</td><td>13596982</td><td>LOC111131329</td></tr>\n",
       "</tbody>\n",
       "</table>\n"
      ],
      "text/latex": [
       "A data.frame: 6 × 4\n",
       "\\begin{tabular}{r|llll}\n",
       "  & chromosome & start & stop & gene\\\\\n",
       "  & <fct> & <int> & <int> & <chr>\\\\\n",
       "\\hline\n",
       "\t303 & NC\\_035780.1 &   315522 &   340261 & LOC111133260\\\\\n",
       "\t543 & NC\\_035780.1 &   444907 &   453310 & LOC111109809\\\\\n",
       "\t16195 & NC\\_035780.1 &  9011563 &  9043404 & LOC111137635\\\\\n",
       "\t16555 & NC\\_035780.1 &  9288063 &  9301976 & LOC111132155\\\\\n",
       "\t27864 & NC\\_035780.1 & 13324137 & 13332152 & LOC111113022\\\\\n",
       "\t28276 & NC\\_035780.1 & 13591534 & 13596982 & LOC111131329\\\\\n",
       "\\end{tabular}\n"
      ],
      "text/markdown": [
       "\n",
       "A data.frame: 6 × 4\n",
       "\n",
       "| <!--/--> | chromosome &lt;fct&gt; | start &lt;int&gt; | stop &lt;int&gt; | gene &lt;chr&gt; |\n",
       "|---|---|---|---|---|\n",
       "| 303 | NC_035780.1 |   315522 |   340261 | LOC111133260 |\n",
       "| 543 | NC_035780.1 |   444907 |   453310 | LOC111109809 |\n",
       "| 16195 | NC_035780.1 |  9011563 |  9043404 | LOC111137635 |\n",
       "| 16555 | NC_035780.1 |  9288063 |  9301976 | LOC111132155 |\n",
       "| 27864 | NC_035780.1 | 13324137 | 13332152 | LOC111113022 |\n",
       "| 28276 | NC_035780.1 | 13591534 | 13596982 | LOC111131329 |\n",
       "\n"
      ],
      "text/plain": [
       "      chromosome  start    stop     gene        \n",
       "303   NC_035780.1   315522   340261 LOC111133260\n",
       "543   NC_035780.1   444907   453310 LOC111109809\n",
       "16195 NC_035780.1  9011563  9043404 LOC111137635\n",
       "16555 NC_035780.1  9288063  9301976 LOC111132155\n",
       "27864 NC_035780.1 13324137 13332152 LOC111113022\n",
       "28276 NC_035780.1 13591534 13596982 LOC111131329"
      ]
     },
     "metadata": {},
     "output_type": "display_data"
    }
   ],
   "source": [
    "# create df to use to match the gene names to the matrix\n",
    "match_info <- dmg_gff %>%\n",
    "  select(seqnames, start, end, Name) \n",
    "\n",
    "colnames(match_info) <- c('chromosome', 'start', 'stop', 'gene')\n",
    "\n",
    "head(match_info)"
   ]
  },
  {
   "cell_type": "markdown",
   "id": "6b1085be-b685-4753-9eea-6a84d679da5b",
   "metadata": {},
   "source": [
    "matching gene names to the counts matrix CpGs so now we know which genes these CpGs belong to"
   ]
  },
  {
   "cell_type": "code",
   "execution_count": 32,
   "id": "af8f7e2b-a8d6-4be3-a9d2-02f3f794219a",
   "metadata": {},
   "outputs": [
    {
     "name": "stderr",
     "output_type": "stream",
     "text": [
      "Warning message in inner_join(., match_info %>% select(chromosome, start, stop, :\n",
      "“\u001b[1m\u001b[22mDetected an unexpected many-to-many relationship between `x` and `y`.\n",
      "\u001b[36mℹ\u001b[39m Row 1 of `x` matches multiple rows in `y`.\n",
      "\u001b[36mℹ\u001b[39m Row 1 of `y` matches multiple rows in `x`.\n",
      "\u001b[36mℹ\u001b[39m If a many-to-many relationship is expected, set `relationship =\n",
      "  \"many-to-many\"` to silence this warning.”\n"
     ]
    },
    {
     "data": {
      "text/html": [
       "<table class=\"dataframe\">\n",
       "<caption>A data.frame: 6 × 25</caption>\n",
       "<thead>\n",
       "\t<tr><th></th><th scope=col>chromosome</th><th scope=col>start.x</th><th scope=col>stop.x</th><th scope=col>CG_motif</th><th scope=col>BBB-WBO-B21</th><th scope=col>BBB-WBV-B70</th><th scope=col>BBO-BBO-B16</th><th scope=col>BBO-BBY-B27</th><th scope=col>BBO-WBO-B16</th><th scope=col>BBO-WBV-B64</th><th scope=col>⋯</th><th scope=col>WBG-BBB-W56</th><th scope=col>WBG-WBG-W44</th><th scope=col>WBO-BBR-W03</th><th scope=col>WBO-WBV-W64</th><th scope=col>WBR-BBY-W25</th><th scope=col>WBV-WBO-W23</th><th scope=col>WBV-WBR-W12</th><th scope=col>WBY-BBV-W65</th><th scope=col>WBY-BBY-W30</th><th scope=col>gene</th></tr>\n",
       "\t<tr><th></th><th scope=col>&lt;chr&gt;</th><th scope=col>&lt;int&gt;</th><th scope=col>&lt;int&gt;</th><th scope=col>&lt;chr&gt;</th><th scope=col>&lt;int&gt;</th><th scope=col>&lt;int&gt;</th><th scope=col>&lt;int&gt;</th><th scope=col>&lt;int&gt;</th><th scope=col>&lt;int&gt;</th><th scope=col>&lt;int&gt;</th><th scope=col>⋯</th><th scope=col>&lt;int&gt;</th><th scope=col>&lt;int&gt;</th><th scope=col>&lt;int&gt;</th><th scope=col>&lt;int&gt;</th><th scope=col>&lt;int&gt;</th><th scope=col>&lt;int&gt;</th><th scope=col>&lt;int&gt;</th><th scope=col>&lt;int&gt;</th><th scope=col>&lt;int&gt;</th><th scope=col>&lt;chr&gt;</th></tr>\n",
       "</thead>\n",
       "<tbody>\n",
       "\t<tr><th scope=row>1</th><td>NC_035780.1</td><td>315549</td><td>315551</td><td>CG_motif</td><td>0</td><td>0</td><td>0</td><td>0</td><td>0</td><td>0</td><td>⋯</td><td>0</td><td>0</td><td>0</td><td>0</td><td>0</td><td>0</td><td>0</td><td>0</td><td>0</td><td>LOC111133260</td></tr>\n",
       "\t<tr><th scope=row>2</th><td>NC_035780.1</td><td>315563</td><td>315565</td><td>CG_motif</td><td>0</td><td>0</td><td>0</td><td>0</td><td>0</td><td>0</td><td>⋯</td><td>0</td><td>0</td><td>0</td><td>0</td><td>0</td><td>0</td><td>0</td><td>0</td><td>0</td><td>LOC111133260</td></tr>\n",
       "\t<tr><th scope=row>3</th><td>NC_035780.1</td><td>315567</td><td>315569</td><td>CG_motif</td><td>0</td><td>0</td><td>0</td><td>0</td><td>0</td><td>0</td><td>⋯</td><td>0</td><td>0</td><td>0</td><td>0</td><td>0</td><td>0</td><td>0</td><td>0</td><td>0</td><td>LOC111133260</td></tr>\n",
       "\t<tr><th scope=row>4</th><td>NC_035780.1</td><td>315618</td><td>315620</td><td>CG_motif</td><td>0</td><td>0</td><td>0</td><td>0</td><td>0</td><td>0</td><td>⋯</td><td>0</td><td>0</td><td>0</td><td>0</td><td>0</td><td>0</td><td>0</td><td>0</td><td>0</td><td>LOC111133260</td></tr>\n",
       "\t<tr><th scope=row>5</th><td>NC_035780.1</td><td>315688</td><td>315690</td><td>CG_motif</td><td>0</td><td>0</td><td>0</td><td>0</td><td>0</td><td>0</td><td>⋯</td><td>0</td><td>0</td><td>0</td><td>0</td><td>0</td><td>0</td><td>0</td><td>0</td><td>0</td><td>LOC111133260</td></tr>\n",
       "\t<tr><th scope=row>6</th><td>NC_035780.1</td><td>315736</td><td>315738</td><td>CG_motif</td><td>0</td><td>0</td><td>0</td><td>0</td><td>0</td><td>0</td><td>⋯</td><td>0</td><td>0</td><td>0</td><td>0</td><td>0</td><td>0</td><td>0</td><td>0</td><td>0</td><td>LOC111133260</td></tr>\n",
       "</tbody>\n",
       "</table>\n"
      ],
      "text/latex": [
       "A data.frame: 6 × 25\n",
       "\\begin{tabular}{r|lllllllllllllllllllll}\n",
       "  & chromosome & start.x & stop.x & CG\\_motif & BBB-WBO-B21 & BBB-WBV-B70 & BBO-BBO-B16 & BBO-BBY-B27 & BBO-WBO-B16 & BBO-WBV-B64 & ⋯ & WBG-BBB-W56 & WBG-WBG-W44 & WBO-BBR-W03 & WBO-WBV-W64 & WBR-BBY-W25 & WBV-WBO-W23 & WBV-WBR-W12 & WBY-BBV-W65 & WBY-BBY-W30 & gene\\\\\n",
       "  & <chr> & <int> & <int> & <chr> & <int> & <int> & <int> & <int> & <int> & <int> & ⋯ & <int> & <int> & <int> & <int> & <int> & <int> & <int> & <int> & <int> & <chr>\\\\\n",
       "\\hline\n",
       "\t1 & NC\\_035780.1 & 315549 & 315551 & CG\\_motif & 0 & 0 & 0 & 0 & 0 & 0 & ⋯ & 0 & 0 & 0 & 0 & 0 & 0 & 0 & 0 & 0 & LOC111133260\\\\\n",
       "\t2 & NC\\_035780.1 & 315563 & 315565 & CG\\_motif & 0 & 0 & 0 & 0 & 0 & 0 & ⋯ & 0 & 0 & 0 & 0 & 0 & 0 & 0 & 0 & 0 & LOC111133260\\\\\n",
       "\t3 & NC\\_035780.1 & 315567 & 315569 & CG\\_motif & 0 & 0 & 0 & 0 & 0 & 0 & ⋯ & 0 & 0 & 0 & 0 & 0 & 0 & 0 & 0 & 0 & LOC111133260\\\\\n",
       "\t4 & NC\\_035780.1 & 315618 & 315620 & CG\\_motif & 0 & 0 & 0 & 0 & 0 & 0 & ⋯ & 0 & 0 & 0 & 0 & 0 & 0 & 0 & 0 & 0 & LOC111133260\\\\\n",
       "\t5 & NC\\_035780.1 & 315688 & 315690 & CG\\_motif & 0 & 0 & 0 & 0 & 0 & 0 & ⋯ & 0 & 0 & 0 & 0 & 0 & 0 & 0 & 0 & 0 & LOC111133260\\\\\n",
       "\t6 & NC\\_035780.1 & 315736 & 315738 & CG\\_motif & 0 & 0 & 0 & 0 & 0 & 0 & ⋯ & 0 & 0 & 0 & 0 & 0 & 0 & 0 & 0 & 0 & LOC111133260\\\\\n",
       "\\end{tabular}\n"
      ],
      "text/markdown": [
       "\n",
       "A data.frame: 6 × 25\n",
       "\n",
       "| <!--/--> | chromosome &lt;chr&gt; | start.x &lt;int&gt; | stop.x &lt;int&gt; | CG_motif &lt;chr&gt; | BBB-WBO-B21 &lt;int&gt; | BBB-WBV-B70 &lt;int&gt; | BBO-BBO-B16 &lt;int&gt; | BBO-BBY-B27 &lt;int&gt; | BBO-WBO-B16 &lt;int&gt; | BBO-WBV-B64 &lt;int&gt; | ⋯ ⋯ | WBG-BBB-W56 &lt;int&gt; | WBG-WBG-W44 &lt;int&gt; | WBO-BBR-W03 &lt;int&gt; | WBO-WBV-W64 &lt;int&gt; | WBR-BBY-W25 &lt;int&gt; | WBV-WBO-W23 &lt;int&gt; | WBV-WBR-W12 &lt;int&gt; | WBY-BBV-W65 &lt;int&gt; | WBY-BBY-W30 &lt;int&gt; | gene &lt;chr&gt; |\n",
       "|---|---|---|---|---|---|---|---|---|---|---|---|---|---|---|---|---|---|---|---|---|---|\n",
       "| 1 | NC_035780.1 | 315549 | 315551 | CG_motif | 0 | 0 | 0 | 0 | 0 | 0 | ⋯ | 0 | 0 | 0 | 0 | 0 | 0 | 0 | 0 | 0 | LOC111133260 |\n",
       "| 2 | NC_035780.1 | 315563 | 315565 | CG_motif | 0 | 0 | 0 | 0 | 0 | 0 | ⋯ | 0 | 0 | 0 | 0 | 0 | 0 | 0 | 0 | 0 | LOC111133260 |\n",
       "| 3 | NC_035780.1 | 315567 | 315569 | CG_motif | 0 | 0 | 0 | 0 | 0 | 0 | ⋯ | 0 | 0 | 0 | 0 | 0 | 0 | 0 | 0 | 0 | LOC111133260 |\n",
       "| 4 | NC_035780.1 | 315618 | 315620 | CG_motif | 0 | 0 | 0 | 0 | 0 | 0 | ⋯ | 0 | 0 | 0 | 0 | 0 | 0 | 0 | 0 | 0 | LOC111133260 |\n",
       "| 5 | NC_035780.1 | 315688 | 315690 | CG_motif | 0 | 0 | 0 | 0 | 0 | 0 | ⋯ | 0 | 0 | 0 | 0 | 0 | 0 | 0 | 0 | 0 | LOC111133260 |\n",
       "| 6 | NC_035780.1 | 315736 | 315738 | CG_motif | 0 | 0 | 0 | 0 | 0 | 0 | ⋯ | 0 | 0 | 0 | 0 | 0 | 0 | 0 | 0 | 0 | LOC111133260 |\n",
       "\n"
      ],
      "text/plain": [
       "  chromosome  start.x stop.x CG_motif BBB-WBO-B21 BBB-WBV-B70 BBO-BBO-B16\n",
       "1 NC_035780.1 315549  315551 CG_motif 0           0           0          \n",
       "2 NC_035780.1 315563  315565 CG_motif 0           0           0          \n",
       "3 NC_035780.1 315567  315569 CG_motif 0           0           0          \n",
       "4 NC_035780.1 315618  315620 CG_motif 0           0           0          \n",
       "5 NC_035780.1 315688  315690 CG_motif 0           0           0          \n",
       "6 NC_035780.1 315736  315738 CG_motif 0           0           0          \n",
       "  BBO-BBY-B27 BBO-WBO-B16 BBO-WBV-B64 ⋯ WBG-BBB-W56 WBG-WBG-W44 WBO-BBR-W03\n",
       "1 0           0           0           ⋯ 0           0           0          \n",
       "2 0           0           0           ⋯ 0           0           0          \n",
       "3 0           0           0           ⋯ 0           0           0          \n",
       "4 0           0           0           ⋯ 0           0           0          \n",
       "5 0           0           0           ⋯ 0           0           0          \n",
       "6 0           0           0           ⋯ 0           0           0          \n",
       "  WBO-WBV-W64 WBR-BBY-W25 WBV-WBO-W23 WBV-WBR-W12 WBY-BBV-W65 WBY-BBY-W30\n",
       "1 0           0           0           0           0           0          \n",
       "2 0           0           0           0           0           0          \n",
       "3 0           0           0           0           0           0          \n",
       "4 0           0           0           0           0           0          \n",
       "5 0           0           0           0           0           0          \n",
       "6 0           0           0           0           0           0          \n",
       "  gene        \n",
       "1 LOC111133260\n",
       "2 LOC111133260\n",
       "3 LOC111133260\n",
       "4 LOC111133260\n",
       "5 LOC111133260\n",
       "6 LOC111133260"
      ]
     },
     "metadata": {},
     "output_type": "display_data"
    }
   ],
   "source": [
    "matrix2 <- matrix %>% \n",
    "  inner_join(match_info %>% select(chromosome, start, stop, gene), \n",
    "               by = \"chromosome\") %>% \n",
    "  filter(start.x >= start.y, stop.x <= stop.y) %>% \n",
    "  select(-c(start.y, stop.y))\n",
    "\n",
    "head(matrix2)"
   ]
  },
  {
   "cell_type": "code",
   "execution_count": 34,
   "id": "8887a9e7-8df1-48f6-8cd3-6db7eeaef196",
   "metadata": {},
   "outputs": [
    {
     "data": {
      "text/html": [
       "<table class=\"dataframe\">\n",
       "<caption>A grouped_df: 217 × 2</caption>\n",
       "<thead>\n",
       "\t<tr><th scope=col>gene</th><th scope=col>n</th></tr>\n",
       "\t<tr><th scope=col>&lt;chr&gt;</th><th scope=col>&lt;int&gt;</th></tr>\n",
       "</thead>\n",
       "<tbody>\n",
       "\t<tr><td>LOC111099548</td><td> 154</td></tr>\n",
       "\t<tr><td>LOC111099571</td><td> 159</td></tr>\n",
       "\t<tr><td>LOC111099585</td><td>  68</td></tr>\n",
       "\t<tr><td>LOC111099930</td><td>2103</td></tr>\n",
       "\t<tr><td>LOC111099978</td><td>1645</td></tr>\n",
       "\t<tr><td>LOC111100608</td><td>  47</td></tr>\n",
       "\t<tr><td>LOC111100625</td><td> 178</td></tr>\n",
       "\t<tr><td>LOC111100898</td><td>  59</td></tr>\n",
       "\t<tr><td>LOC111100915</td><td> 916</td></tr>\n",
       "\t<tr><td>LOC111101237</td><td>  83</td></tr>\n",
       "\t<tr><td>LOC111101375</td><td> 590</td></tr>\n",
       "\t<tr><td>LOC111101401</td><td> 433</td></tr>\n",
       "\t<tr><td>LOC111101764</td><td>  91</td></tr>\n",
       "\t<tr><td>LOC111101925</td><td>  46</td></tr>\n",
       "\t<tr><td>LOC111101984</td><td> 225</td></tr>\n",
       "\t<tr><td>LOC111102125</td><td> 206</td></tr>\n",
       "\t<tr><td>LOC111103019</td><td> 368</td></tr>\n",
       "\t<tr><td>LOC111103097</td><td> 459</td></tr>\n",
       "\t<tr><td>LOC111103273</td><td> 139</td></tr>\n",
       "\t<tr><td>LOC111103294</td><td> 178</td></tr>\n",
       "\t<tr><td>LOC111103344</td><td> 523</td></tr>\n",
       "\t<tr><td>LOC111103345</td><td> 545</td></tr>\n",
       "\t<tr><td>LOC111103625</td><td> 223</td></tr>\n",
       "\t<tr><td>LOC111103813</td><td>  85</td></tr>\n",
       "\t<tr><td>LOC111103979</td><td> 124</td></tr>\n",
       "\t<tr><td>LOC111104327</td><td>  79</td></tr>\n",
       "\t<tr><td>LOC111104711</td><td>2301</td></tr>\n",
       "\t<tr><td>LOC111104792</td><td> 351</td></tr>\n",
       "\t<tr><td>LOC111105071</td><td> 751</td></tr>\n",
       "\t<tr><td>LOC111105293</td><td> 282</td></tr>\n",
       "\t<tr><td>⋮</td><td>⋮</td></tr>\n",
       "\t<tr><td>LOC111134580</td><td>209</td></tr>\n",
       "\t<tr><td>LOC111134719</td><td>402</td></tr>\n",
       "\t<tr><td>LOC111134768</td><td> 83</td></tr>\n",
       "\t<tr><td>LOC111134926</td><td>404</td></tr>\n",
       "\t<tr><td>LOC111135050</td><td>149</td></tr>\n",
       "\t<tr><td>LOC111135173</td><td>128</td></tr>\n",
       "\t<tr><td>LOC111135181</td><td>461</td></tr>\n",
       "\t<tr><td>LOC111135253</td><td>525</td></tr>\n",
       "\t<tr><td>LOC111135297</td><td>117</td></tr>\n",
       "\t<tr><td>LOC111135380</td><td>135</td></tr>\n",
       "\t<tr><td>LOC111135414</td><td>167</td></tr>\n",
       "\t<tr><td>LOC111135548</td><td>142</td></tr>\n",
       "\t<tr><td>LOC111135891</td><td>150</td></tr>\n",
       "\t<tr><td>LOC111136099</td><td> 69</td></tr>\n",
       "\t<tr><td>LOC111136185</td><td>151</td></tr>\n",
       "\t<tr><td>LOC111136201</td><td>109</td></tr>\n",
       "\t<tr><td>LOC111136209</td><td> 48</td></tr>\n",
       "\t<tr><td>LOC111136327</td><td> 74</td></tr>\n",
       "\t<tr><td>LOC111136738</td><td> 58</td></tr>\n",
       "\t<tr><td>LOC111137010</td><td> 48</td></tr>\n",
       "\t<tr><td>LOC111137079</td><td>318</td></tr>\n",
       "\t<tr><td>LOC111137401</td><td> 99</td></tr>\n",
       "\t<tr><td>LOC111137482</td><td> 94</td></tr>\n",
       "\t<tr><td>LOC111137579</td><td> 57</td></tr>\n",
       "\t<tr><td>LOC111137596</td><td>189</td></tr>\n",
       "\t<tr><td>LOC111137635</td><td>427</td></tr>\n",
       "\t<tr><td>LOC111137641</td><td> 64</td></tr>\n",
       "\t<tr><td>LOC111137719</td><td>135</td></tr>\n",
       "\t<tr><td>LOC111137804</td><td>182</td></tr>\n",
       "\t<tr><td>LOC111138462</td><td>179</td></tr>\n",
       "</tbody>\n",
       "</table>\n"
      ],
      "text/latex": [
       "A grouped\\_df: 217 × 2\n",
       "\\begin{tabular}{ll}\n",
       " gene & n\\\\\n",
       " <chr> & <int>\\\\\n",
       "\\hline\n",
       "\t LOC111099548 &  154\\\\\n",
       "\t LOC111099571 &  159\\\\\n",
       "\t LOC111099585 &   68\\\\\n",
       "\t LOC111099930 & 2103\\\\\n",
       "\t LOC111099978 & 1645\\\\\n",
       "\t LOC111100608 &   47\\\\\n",
       "\t LOC111100625 &  178\\\\\n",
       "\t LOC111100898 &   59\\\\\n",
       "\t LOC111100915 &  916\\\\\n",
       "\t LOC111101237 &   83\\\\\n",
       "\t LOC111101375 &  590\\\\\n",
       "\t LOC111101401 &  433\\\\\n",
       "\t LOC111101764 &   91\\\\\n",
       "\t LOC111101925 &   46\\\\\n",
       "\t LOC111101984 &  225\\\\\n",
       "\t LOC111102125 &  206\\\\\n",
       "\t LOC111103019 &  368\\\\\n",
       "\t LOC111103097 &  459\\\\\n",
       "\t LOC111103273 &  139\\\\\n",
       "\t LOC111103294 &  178\\\\\n",
       "\t LOC111103344 &  523\\\\\n",
       "\t LOC111103345 &  545\\\\\n",
       "\t LOC111103625 &  223\\\\\n",
       "\t LOC111103813 &   85\\\\\n",
       "\t LOC111103979 &  124\\\\\n",
       "\t LOC111104327 &   79\\\\\n",
       "\t LOC111104711 & 2301\\\\\n",
       "\t LOC111104792 &  351\\\\\n",
       "\t LOC111105071 &  751\\\\\n",
       "\t LOC111105293 &  282\\\\\n",
       "\t ⋮ & ⋮\\\\\n",
       "\t LOC111134580 & 209\\\\\n",
       "\t LOC111134719 & 402\\\\\n",
       "\t LOC111134768 &  83\\\\\n",
       "\t LOC111134926 & 404\\\\\n",
       "\t LOC111135050 & 149\\\\\n",
       "\t LOC111135173 & 128\\\\\n",
       "\t LOC111135181 & 461\\\\\n",
       "\t LOC111135253 & 525\\\\\n",
       "\t LOC111135297 & 117\\\\\n",
       "\t LOC111135380 & 135\\\\\n",
       "\t LOC111135414 & 167\\\\\n",
       "\t LOC111135548 & 142\\\\\n",
       "\t LOC111135891 & 150\\\\\n",
       "\t LOC111136099 &  69\\\\\n",
       "\t LOC111136185 & 151\\\\\n",
       "\t LOC111136201 & 109\\\\\n",
       "\t LOC111136209 &  48\\\\\n",
       "\t LOC111136327 &  74\\\\\n",
       "\t LOC111136738 &  58\\\\\n",
       "\t LOC111137010 &  48\\\\\n",
       "\t LOC111137079 & 318\\\\\n",
       "\t LOC111137401 &  99\\\\\n",
       "\t LOC111137482 &  94\\\\\n",
       "\t LOC111137579 &  57\\\\\n",
       "\t LOC111137596 & 189\\\\\n",
       "\t LOC111137635 & 427\\\\\n",
       "\t LOC111137641 &  64\\\\\n",
       "\t LOC111137719 & 135\\\\\n",
       "\t LOC111137804 & 182\\\\\n",
       "\t LOC111138462 & 179\\\\\n",
       "\\end{tabular}\n"
      ],
      "text/markdown": [
       "\n",
       "A grouped_df: 217 × 2\n",
       "\n",
       "| gene &lt;chr&gt; | n &lt;int&gt; |\n",
       "|---|---|\n",
       "| LOC111099548 |  154 |\n",
       "| LOC111099571 |  159 |\n",
       "| LOC111099585 |   68 |\n",
       "| LOC111099930 | 2103 |\n",
       "| LOC111099978 | 1645 |\n",
       "| LOC111100608 |   47 |\n",
       "| LOC111100625 |  178 |\n",
       "| LOC111100898 |   59 |\n",
       "| LOC111100915 |  916 |\n",
       "| LOC111101237 |   83 |\n",
       "| LOC111101375 |  590 |\n",
       "| LOC111101401 |  433 |\n",
       "| LOC111101764 |   91 |\n",
       "| LOC111101925 |   46 |\n",
       "| LOC111101984 |  225 |\n",
       "| LOC111102125 |  206 |\n",
       "| LOC111103019 |  368 |\n",
       "| LOC111103097 |  459 |\n",
       "| LOC111103273 |  139 |\n",
       "| LOC111103294 |  178 |\n",
       "| LOC111103344 |  523 |\n",
       "| LOC111103345 |  545 |\n",
       "| LOC111103625 |  223 |\n",
       "| LOC111103813 |   85 |\n",
       "| LOC111103979 |  124 |\n",
       "| LOC111104327 |   79 |\n",
       "| LOC111104711 | 2301 |\n",
       "| LOC111104792 |  351 |\n",
       "| LOC111105071 |  751 |\n",
       "| LOC111105293 |  282 |\n",
       "| ⋮ | ⋮ |\n",
       "| LOC111134580 | 209 |\n",
       "| LOC111134719 | 402 |\n",
       "| LOC111134768 |  83 |\n",
       "| LOC111134926 | 404 |\n",
       "| LOC111135050 | 149 |\n",
       "| LOC111135173 | 128 |\n",
       "| LOC111135181 | 461 |\n",
       "| LOC111135253 | 525 |\n",
       "| LOC111135297 | 117 |\n",
       "| LOC111135380 | 135 |\n",
       "| LOC111135414 | 167 |\n",
       "| LOC111135548 | 142 |\n",
       "| LOC111135891 | 150 |\n",
       "| LOC111136099 |  69 |\n",
       "| LOC111136185 | 151 |\n",
       "| LOC111136201 | 109 |\n",
       "| LOC111136209 |  48 |\n",
       "| LOC111136327 |  74 |\n",
       "| LOC111136738 |  58 |\n",
       "| LOC111137010 |  48 |\n",
       "| LOC111137079 | 318 |\n",
       "| LOC111137401 |  99 |\n",
       "| LOC111137482 |  94 |\n",
       "| LOC111137579 |  57 |\n",
       "| LOC111137596 | 189 |\n",
       "| LOC111137635 | 427 |\n",
       "| LOC111137641 |  64 |\n",
       "| LOC111137719 | 135 |\n",
       "| LOC111137804 | 182 |\n",
       "| LOC111138462 | 179 |\n",
       "\n"
      ],
      "text/plain": [
       "    gene         n   \n",
       "1   LOC111099548  154\n",
       "2   LOC111099571  159\n",
       "3   LOC111099585   68\n",
       "4   LOC111099930 2103\n",
       "5   LOC111099978 1645\n",
       "6   LOC111100608   47\n",
       "7   LOC111100625  178\n",
       "8   LOC111100898   59\n",
       "9   LOC111100915  916\n",
       "10  LOC111101237   83\n",
       "11  LOC111101375  590\n",
       "12  LOC111101401  433\n",
       "13  LOC111101764   91\n",
       "14  LOC111101925   46\n",
       "15  LOC111101984  225\n",
       "16  LOC111102125  206\n",
       "17  LOC111103019  368\n",
       "18  LOC111103097  459\n",
       "19  LOC111103273  139\n",
       "20  LOC111103294  178\n",
       "21  LOC111103344  523\n",
       "22  LOC111103345  545\n",
       "23  LOC111103625  223\n",
       "24  LOC111103813   85\n",
       "25  LOC111103979  124\n",
       "26  LOC111104327   79\n",
       "27  LOC111104711 2301\n",
       "28  LOC111104792  351\n",
       "29  LOC111105071  751\n",
       "30  LOC111105293  282\n",
       "⋮   ⋮            ⋮   \n",
       "188 LOC111134580 209 \n",
       "189 LOC111134719 402 \n",
       "190 LOC111134768  83 \n",
       "191 LOC111134926 404 \n",
       "192 LOC111135050 149 \n",
       "193 LOC111135173 128 \n",
       "194 LOC111135181 461 \n",
       "195 LOC111135253 525 \n",
       "196 LOC111135297 117 \n",
       "197 LOC111135380 135 \n",
       "198 LOC111135414 167 \n",
       "199 LOC111135548 142 \n",
       "200 LOC111135891 150 \n",
       "201 LOC111136099  69 \n",
       "202 LOC111136185 151 \n",
       "203 LOC111136201 109 \n",
       "204 LOC111136209  48 \n",
       "205 LOC111136327  74 \n",
       "206 LOC111136738  58 \n",
       "207 LOC111137010  48 \n",
       "208 LOC111137079 318 \n",
       "209 LOC111137401  99 \n",
       "210 LOC111137482  94 \n",
       "211 LOC111137579  57 \n",
       "212 LOC111137596 189 \n",
       "213 LOC111137635 427 \n",
       "214 LOC111137641  64 \n",
       "215 LOC111137719 135 \n",
       "216 LOC111137804 182 \n",
       "217 LOC111138462 179 "
      ]
     },
     "metadata": {},
     "output_type": "display_data"
    }
   ],
   "source": [
    "# for each gene, how many CpGs are there?\n",
    "matrix2 %>%\n",
    "group_by(gene) %>%\n",
    "count()"
   ]
  }
 ],
 "metadata": {
  "kernelspec": {
   "display_name": "R [conda env:.conda-r-env]",
   "language": "R",
   "name": "conda-env-.conda-r-env-r"
  },
  "language_info": {
   "codemirror_mode": "r",
   "file_extension": ".r",
   "mimetype": "text/x-r-source",
   "name": "R",
   "pygments_lexer": "r",
   "version": "4.3.2"
  }
 },
 "nbformat": 4,
 "nbformat_minor": 5
}
