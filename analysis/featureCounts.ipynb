{
 "cells": [
  {
   "cell_type": "markdown",
   "id": "012b9c5f-be28-455a-8f93-259c054e5e85",
   "metadata": {},
   "source": [
    "## featureCounts from Rsubread package to generate counts matrix"
   ]
  },
  {
   "cell_type": "code",
   "execution_count": null,
   "id": "aefd78d8-8136-4790-bf9e-0ea110171a95",
   "metadata": {},
   "outputs": [],
   "source": []
  },
  {
   "cell_type": "code",
   "execution_count": 2,
   "id": "8fccc4fe-c044-49ca-8c8d-6ef8bdc0e293",
   "metadata": {},
   "outputs": [
    {
     "name": "stderr",
     "output_type": "stream",
     "text": [
      "'getOption(\"repos\")' replaces Bioconductor standard repositories, see\n",
      "'help(\"repositories\", package = \"BiocManager\")' for details.\n",
      "Replacement repositories:\n",
      "    CRAN: https://cran.r-project.org\n",
      "\n",
      "Bioconductor version 3.18 (BiocManager 1.30.22), R 4.3.2 (2023-10-31)\n",
      "\n",
      "Warning message:\n",
      "“package(s) not installed when version(s) same as or greater than current; use\n",
      "  `force = TRUE` to re-install: 'Rsubread'”\n",
      "Old packages: 'BH', 'biomaRt', 'Biostrings', 'brew', 'brio', 'bslib', 'callr',\n",
      "  'commonmark', 'cowplot', 'curl', 'data.table', 'DBI', 'desc', 'digest', 'DT',\n",
      "  'GenomeInfoDb', 'GenomicAlignments', 'GenomicFeatures', 'ggforce', 'ggfun',\n",
      "  'ggnewscale', 'ggrepel', 'glue', 'GOSemSim', 'graphlayouts', 'haven',\n",
      "  'htmlwidgets', 'httpuv', 'igraph', 'MASS', 'Matrix', 'mgcv', 'nlme',\n",
      "  'patchwork', 'pbdZMQ', 'pkgbuild', 'pkgload', 'ps', 'ragg', 'Rcpp',\n",
      "  'RcppArmadillo', 'RCurl', 'readr', 'reprex', 'Rhtslib', 'rlang', 'rvest',\n",
      "  'scales', 'shadowtext', 'shiny', 'SparseArray', 'testthat', 'tidygraph',\n",
      "  'tidyr', 'timechange', 'uuid', 'viridis', 'vroom', 'withr', 'xfun', 'XML',\n",
      "  'xml2', 'yulab.utils', 'zip'\n",
      "\n"
     ]
    }
   ],
   "source": [
    "if (!require(\"BiocManager\", quietly = TRUE))\n",
    "    install.packages(\"BiocManager\")\n",
    "\n",
    "BiocManager::install(\"Rsubread\")"
   ]
  },
  {
   "cell_type": "code",
   "execution_count": 3,
   "id": "a0497802-9e60-43d7-a1c5-c7180105f1fd",
   "metadata": {},
   "outputs": [],
   "source": [
    "library(Rsubread)"
   ]
  },
  {
   "cell_type": "markdown",
   "id": "95f6eb26-bc22-44d8-925e-4a0220366c6f",
   "metadata": {},
   "source": [
    "following [example script](https://www.rdocumentation.org/packages/Rsubread/versions/1.22.2/topics/featureCounts)"
   ]
  },
  {
   "cell_type": "code",
   "execution_count": null,
   "id": "18297f92-73f7-46b0-802d-f1fea67fdc74",
   "metadata": {},
   "outputs": [],
   "source": [
    "featureCounts(files, # SAM or BAM format - automatically detects\n",
    "              \n",
    "              # annotation\n",
    "              annot.ext =  # input of annotation GTF file\n",
    "              isGTFAnnotationFile=TRUE, # input of annotation file is in GTF format\n",
    "              GTF.featureType=\"exon\", # feature type used to select rows in GTF annotation\n",
    "              GTF.attrType=\"gene_id\", # group features (e.g. exons) into meta-features (e.g. genes)\n",
    "              \n",
    "              # level of summarization\n",
    "              useMetaFeatures=TRUE, # read summarization performed at meta-feature level\n",
    "              # if FALSE, read summarization performed at feature level (e.g. exons)\n",
    "              \n",
    "              # parameters specific to paired end reads\n",
    "              isPairedEnd=TRUE,\n",
    "              countChimericFragments=TRUE,\n",
    "              autosort=TRUE)"
   ]
  }
 ],
 "metadata": {
  "kernelspec": {
   "display_name": "R [conda env:.conda-r-env]",
   "language": "R",
   "name": "conda-env-.conda-r-env-r"
  },
  "language_info": {
   "codemirror_mode": "r",
   "file_extension": ".r",
   "mimetype": "text/x-r-source",
   "name": "R",
   "pygments_lexer": "r",
   "version": "4.3.2"
  }
 },
 "nbformat": 4,
 "nbformat_minor": 5
}
