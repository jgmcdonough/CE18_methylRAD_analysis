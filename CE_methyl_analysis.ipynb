{
 "cells": [
  {
   "cell_type": "code",
   "execution_count": 4,
   "id": "277028b9-fece-4c75-952b-cff09986e781",
   "metadata": {},
   "outputs": [],
   "source": [
    ".libPaths(c('/home/julia_mcdonough_student_uml_edu/R/', .libPaths()))"
   ]
  },
  {
   "cell_type": "code",
   "execution_count": 6,
   "id": "89b9b259-fe5d-4104-9f97-3a805384b0d8",
   "metadata": {},
   "outputs": [
    {
     "name": "stderr",
     "output_type": "stream",
     "text": [
      "Installing package into ‘/home/julia_mcdonough_student_uml_edu/R’\n",
      "(as ‘lib’ is unspecified)\n",
      "\n",
      "'getOption(\"repos\")' replaces Bioconductor standard repositories, see\n",
      "'help(\"repositories\", package = \"BiocManager\")' for details.\n",
      "Replacement repositories:\n",
      "    CRAN: https://cran.r-project.org\n",
      "\n",
      "Bioconductor version 3.18 (BiocManager 1.30.22), R 4.3.2 (2023-10-31)\n",
      "\n",
      "Installing package(s) 'BiocVersion', 'DESeq2'\n",
      "\n",
      "also installing the dependencies ‘bitops’, ‘formatR’, ‘colorspace’, ‘RCurl’, ‘GenomeInfoDbData’, ‘zlibbioc’, ‘abind’, ‘SparseArray’, ‘lambda.r’, ‘futile.options’, ‘nlme’, ‘farver’, ‘labeling’, ‘munsell’, ‘R6’, ‘RColorBrewer’, ‘viridisLite’, ‘magrittr’, ‘pkgconfig’, ‘GenomeInfoDb’, ‘XVector’, ‘Matrix’, ‘S4Arrays’, ‘DelayedArray’, ‘futile.logger’, ‘snow’, ‘codetools’, ‘BH’, ‘cpp11’, ‘lattice’, ‘gtable’, ‘isoband’, ‘MASS’, ‘mgcv’, ‘scales’, ‘tibble’, ‘withr’, ‘S4Vectors’, ‘IRanges’, ‘GenomicRanges’, ‘SummarizedExperiment’, ‘BiocGenerics’, ‘Biobase’, ‘BiocParallel’, ‘matrixStats’, ‘locfit’, ‘ggplot2’, ‘Rcpp’, ‘MatrixGenerics’, ‘RcppArmadillo’\n",
      "\n",
      "\n",
      "Warning message in install.packages(...):\n",
      "“installation of package ‘RCurl’ had non-zero exit status”\n",
      "Warning message in install.packages(...):\n",
      "“installation of package ‘GenomeInfoDb’ had non-zero exit status”\n",
      "Warning message in install.packages(...):\n",
      "“installation of package ‘GenomicRanges’ had non-zero exit status”\n",
      "Warning message in install.packages(...):\n",
      "“installation of package ‘SummarizedExperiment’ had non-zero exit status”\n",
      "Warning message in install.packages(...):\n",
      "“installation of package ‘DESeq2’ had non-zero exit status”\n"
     ]
    }
   ],
   "source": [
    "if (!require(\"BiocManager\", quietly = TRUE))\n",
    "    install.packages(\"BiocManager\")\n",
    "\n",
    "BiocManager::install(\"DESeq2\")"
   ]
  },
  {
   "cell_type": "code",
   "execution_count": 7,
   "id": "24fcf9eb-586c-4773-8747-dc531b912890",
   "metadata": {},
   "outputs": [
    {
     "name": "stderr",
     "output_type": "stream",
     "text": [
      "Installing package into ‘/home/julia_mcdonough_student_uml_edu/R’\n",
      "(as ‘lib’ is unspecified)\n",
      "\n",
      "Warning message:\n",
      "“package ‘DESeq2’ is not available for this version of R\n",
      "\n",
      "A version of this package for your version of R might be available elsewhere,\n",
      "see the ideas at\n",
      "https://cran.r-project.org/doc/manuals/r-patched/R-admin.html#Installing-packages”\n"
     ]
    },
    {
     "ename": "ERROR",
     "evalue": "Error in library(DESeq2): there is no package called ‘DESeq2’\n",
     "output_type": "error",
     "traceback": [
      "Error in library(DESeq2): there is no package called ‘DESeq2’\nTraceback:\n",
      "1. library(DESeq2)"
     ]
    }
   ],
   "source": [
    "# installing and loading packages\n",
    "install.packages(\"DESeq2\")\n",
    "library(DESeq2)"
   ]
  },
  {
   "cell_type": "code",
   "execution_count": 6,
   "id": "02d17e95-cb98-4292-b648-980e19568423",
   "metadata": {},
   "outputs": [
    {
     "name": "stderr",
     "output_type": "stream",
     "text": [
      "Warning message in file(file, \"rt\"):\n",
      "“cannot open file 'project/pi_sarah_gignouxwolfsohn_uml_edu/julia/CE_MethylRAD_analysis_2018/CV_CE18_meta.csv': No such file or directory”\n"
     ]
    },
    {
     "ename": "ERROR",
     "evalue": "Error in file(file, \"rt\"): cannot open the connection\n",
     "output_type": "error",
     "traceback": [
      "Error in file(file, \"rt\"): cannot open the connection\nTraceback:\n",
      "1. read.csv(\"project/pi_sarah_gignouxwolfsohn_uml_edu/julia/CE_MethylRAD_analysis_2018/CV_CE18_meta.csv\")",
      "2. read.table(file = file, header = header, sep = sep, quote = quote, \n .     dec = dec, fill = fill, comment.char = comment.char, ...)",
      "3. file(file, \"rt\")"
     ]
    }
   ],
   "source": [
    "# loading dataframes\n",
    "meta = read.csv(\"project/pi_sarah_gignouxwolfsohn_uml_edu/julia/CE_MethylRAD_analysis_2018/CV_CE18_meta.csv\")\n",
    "#counts = read.csv('project/pi_sarah_gignouxwolfsohn_uml_edu/julia/CE_MethylRAD_analysis_2018/htseq_counts.csv')"
   ]
  },
  {
   "cell_type": "code",
   "execution_count": null,
   "id": "662e6dac-94f7-47d1-9c0e-71cba10e1754",
   "metadata": {},
   "outputs": [],
   "source": [
    "rownames(counts)=paste0(\"gene\",1:NROW(counts))"
   ]
  },
  {
   "cell_type": "code",
   "execution_count": null,
   "id": "05a326a7-e7dc-4507-b40d-907ca39bed5b",
   "metadata": {},
   "outputs": [],
   "source": [
    "rownames(meta)=meta$Unique_ID"
   ]
  },
  {
   "cell_type": "code",
   "execution_count": null,
   "id": "21297bd6-9de1-43f8-b78e-fdec90ade0b9",
   "metadata": {},
   "outputs": [],
   "source": [
    "genedata=as.data.frame(counts[,1:10])"
   ]
  },
  {
   "cell_type": "code",
   "execution_count": null,
   "id": "1c9c26cf-5f52-4863-a912-24ff7d4865b6",
   "metadata": {},
   "outputs": [],
   "source": [
    "rownames(genedata)=rownames(genes)"
   ]
  },
  {
   "cell_type": "code",
   "execution_count": null,
   "id": "fd922528-d4bb-4f27-a367-c0f9226f0902",
   "metadata": {},
   "outputs": [],
   "source": [
    "counts=as.data.frame(counts)"
   ]
  },
  {
   "cell_type": "code",
   "execution_count": null,
   "id": "9bc3fcfa-0a72-40d3-8e68-f7c0f57dd870",
   "metadata": {},
   "outputs": [],
   "source": [
    "IRkernel::installspec()"
   ]
  },
  {
   "cell_type": "code",
   "execution_count": null,
   "id": "e82002f8-ee1e-4a5d-9bed-8c749824f9c8",
   "metadata": {},
   "outputs": [],
   "source": [
    "BiocManager::install(“R_PACKAGE_NAME”)"
   ]
  }
 ],
 "metadata": {
  "kernelspec": {
   "display_name": "R [conda env:.conda-r_env]",
   "language": "R",
   "name": "conda-env-.conda-r_env-r"
  },
  "language_info": {
   "codemirror_mode": "r",
   "file_extension": ".r",
   "mimetype": "text/x-r-source",
   "name": "R",
   "pygments_lexer": "r",
   "version": "4.3.2"
  }
 },
 "nbformat": 4,
 "nbformat_minor": 5
}
