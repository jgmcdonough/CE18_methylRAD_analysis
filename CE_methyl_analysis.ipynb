{
 "cells": [
  {
   "cell_type": "code",
   "execution_count": null,
   "id": "277028b9-fece-4c75-952b-cff09986e781",
   "metadata": {},
   "outputs": [],
   "source": [
    ".libPaths(c('/home/julia_mcdonough_student_uml_edu/R/', .libPaths()))"
   ]
  },
  {
   "cell_type": "code",
   "execution_count": null,
   "id": "24fcf9eb-586c-4773-8747-dc531b912890",
   "metadata": {},
   "outputs": [],
   "source": [
    "# installing and loading packages\n",
    "install.packages('DESeq2')\n",
    "library(DESeq2)"
   ]
  },
  {
   "cell_type": "code",
   "execution_count": null,
   "id": "02d17e95-cb98-4292-b648-980e19568423",
   "metadata": {},
   "outputs": [],
   "source": [
    "# loading dataframes\n",
    "meta = read.csv('project/pi_sarah_gignouxwolfsohn_uml_edu/julia/CE_MethylRAD_analysis_2018/CV_CE18_meta.csv')\n",
    "counts = read.csv('project/pi_sarah_gignouxwolfsohn_uml_edu/julia/CE_MethylRAD_analysis_2018/htseq_counts.csv')"
   ]
  },
  {
   "cell_type": "code",
   "execution_count": null,
   "id": "662e6dac-94f7-47d1-9c0e-71cba10e1754",
   "metadata": {},
   "outputs": [],
   "source": [
    "rownames(counts)=paste0(\"gene\",1:NROW(counts))"
   ]
  },
  {
   "cell_type": "code",
   "execution_count": null,
   "id": "05a326a7-e7dc-4507-b40d-907ca39bed5b",
   "metadata": {},
   "outputs": [],
   "source": [
    "rownames(meta)=meta$Unique_ID"
   ]
  },
  {
   "cell_type": "code",
   "execution_count": null,
   "id": "21297bd6-9de1-43f8-b78e-fdec90ade0b9",
   "metadata": {},
   "outputs": [],
   "source": [
    "genedata=as.data.frame(counts[,1:10])"
   ]
  },
  {
   "cell_type": "code",
   "execution_count": null,
   "id": "1c9c26cf-5f52-4863-a912-24ff7d4865b6",
   "metadata": {},
   "outputs": [],
   "source": [
    "rownames(genedata)=rownames(genes)"
   ]
  },
  {
   "cell_type": "code",
   "execution_count": null,
   "id": "fd922528-d4bb-4f27-a367-c0f9226f0902",
   "metadata": {},
   "outputs": [],
   "source": [
    "counts=as.data.frame(counts)"
   ]
  },
  {
   "cell_type": "code",
   "execution_count": null,
   "id": "9bc3fcfa-0a72-40d3-8e68-f7c0f57dd870",
   "metadata": {},
   "outputs": [],
   "source": [
    "IRkernel::installspec()"
   ]
  },
  {
   "cell_type": "code",
   "execution_count": null,
   "id": "e82002f8-ee1e-4a5d-9bed-8c749824f9c8",
   "metadata": {},
   "outputs": [],
   "source": [
    "BiocManager::install(“R_PACKAGE_NAME”)"
   ]
  }
 ],
 "metadata": {
  "kernelspec": {
   "display_name": "R [conda env:.conda-r_env]",
   "language": "R",
   "name": "conda-env-.conda-r_env-r"
  },
  "language_info": {
   "name": ""
  }
 },
 "nbformat": 4,
 "nbformat_minor": 5
}
