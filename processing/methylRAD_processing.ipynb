{
 "cells": [
  {
   "cell_type": "markdown",
   "id": "41c1325a-e58f-4f04-b852-aa8ead45807c",
   "metadata": {
    "tags": []
   },
   "source": [
    "# MethylRAD-sequence processing\n",
    "\n",
    "Bash commands and scripts to convert files and whatnot"
   ]
  },
  {
   "cell_type": "markdown",
   "id": "3494df24-275a-4e96-9b71-d6b1a884eac0",
   "metadata": {},
   "source": [
    "### BAM to BED\n",
    "\n",
    "[bamtobed documentation](https://bedtools.readthedocs.io/en/latest/content/tools/bamtobed.html)\n",
    "\n",
    "\n",
    "first needed to create a conda environment to install bedTools\n",
    "\n",
    "```\n",
    "conda create -n bedtools python=3.8\n",
    "conda activate bedtools\n",
    "conda install -c bioconda bedtools\n",
    "```\n",
    "\n",
    "then navigated to the dir with my BAM files and ran:\n",
    "\n",
    "```\n",
    "for file in *.bam; do   bedtools bamtobed -i \"$file\" > \"${file%.bam}.bed\"; done\n",
    "```\n",
    "\n",
    "then moved resulting BED files to new dir"
   ]
  },
  {
   "cell_type": "code",
   "execution_count": 9,
   "id": "088baf1b-d5df-4ede-8964-888fd7bb3bc2",
   "metadata": {},
   "outputs": [],
   "source": [
    "!cd ../CE_methyl_assembly/assembly_pipeline_files/BEDtools/"
   ]
  },
  {
   "cell_type": "code",
   "execution_count": 2,
   "id": "3fbcb4fe-57f6-4000-8eb6-b5ec48825ab8",
   "metadata": {},
   "outputs": [
    {
     "name": "stdout",
     "output_type": "stream",
     "text": [
      "Removing conda\n",
      "Loading conda\n"
     ]
    }
   ],
   "source": [
    "!module load conda/latest"
   ]
  },
  {
   "cell_type": "code",
   "execution_count": 14,
   "id": "fc2dde2b-7056-4ace-b810-06098996dc55",
   "metadata": {},
   "outputs": [
    {
     "name": "stdout",
     "output_type": "stream",
     "text": [
      "^C\n",
      "\n",
      "CondaError: KeyboardInterrupt\n",
      "\n"
     ]
    }
   ],
   "source": [
    "#!conda create -n /project/ols python=3.8\n",
    "#!conda init\n",
    "!conda activate bedtools\n",
    "#!conda install -c bioconda bedtools"
   ]
  },
  {
   "cell_type": "code",
   "execution_count": null,
   "id": "6f7c5a37-6e2b-4c36-b06f-d1b22c2ea91b",
   "metadata": {},
   "outputs": [],
   "source": [
    "!cd /working_BAM_sequences\n",
    "\n",
    "# convert multiple BAM files to BED files\n",
    "!for file in *.bam; do   bedtools bamtobed -i \"$file\" > \"${file%.bam}.bed\"; done\n",
    "\n",
    "# move BED files to new dir\n",
    "mv *.bed ../BED_files"
   ]
  },
  {
   "cell_type": "markdown",
   "id": "efd11fbb-47ae-4d75-9913-65ccc98f3584",
   "metadata": {},
   "source": [
    "### coverage\n",
    "following pipeline for [BEDtools coverage](https://bedtools.readthedocs.io/en/latest/content/tools/coverage.html)\n",
    "\n",
    "\n",
    "**0. First need to sort GFF file**\n",
    "```\n",
    "bedtools sort -i input.gff > output.gff\n",
    "```\n",
    "\n",
    "**1. run coverage**\n",
    "\n",
    "but want treatment-specific coverage analysis\n",
    "\n",
    "```\n",
    "bedtools coverage -a /project/pi_sarah_gignouxwolfsohn_uml_edu/Reference_genomes/Cvirginica_genome/CV_genomic.gff \\ -b *.bed\n",
    "```\n"
   ]
  },
  {
   "cell_type": "code",
   "execution_count": null,
   "id": "e60b1a53-c42c-414f-97e7-a5416be55f50",
   "metadata": {},
   "outputs": [],
   "source": [
    "# first need to sort GFF file\n",
    "\n",
    "!cd /project/pi_sarah_gignouxwolfsohn_uml_edu/Reference_genomes/Cvirginica_genome/\n",
    "!bedtools sort -i CV_genomic.gff > CV_genomic_sorted.gff"
   ]
  },
  {
   "cell_type": "code",
   "execution_count": 17,
   "id": "1a4ab55b-da5f-4238-bebc-12954b71a8a6",
   "metadata": {},
   "outputs": [
    {
     "name": "stdout",
     "output_type": "stream",
     "text": [
      "README.md\tanalysis\t\t    pipeline_counts\n",
      "Untitled.ipynb\tmethylRAD_processing.ipynb  quality_check\n"
     ]
    }
   ],
   "source": [
    "!cd /project/pi_sarah_gignouxwolfsohn_uml_edu/julia/CE_methyl_assembly/assembly_pipeline_files/BEDtools/BED_files/\n",
    "!ls"
   ]
  },
  {
   "cell_type": "code",
   "execution_count": 26,
   "id": "c86f0329-e233-4c96-807e-bdab48ff3bd9",
   "metadata": {},
   "outputs": [],
   "source": [
    "# creating treatment variables\n",
    "!cd /project/pi_sarah_gignouxwolfsohn_uml_edu/julia/CE_methyl_assembly/assembly_pipeline_files/BEDtools/BED_files/\n",
    "\n",
    "# hypoxic control\n",
    "!HC_files=(2018--BBB-WBO-B21-CV_sorted.bed 2018--BBB-WBV-B70-CV_sorted.bed 2018--BBO-WBO-B16-CV_sorted.bed 2018--BBO-WBV-B64-CV_sorted.bed 2018--BBY-WBG-B42-CV_sorted.bed)\n",
    "\n",
    "# control hypoxic\n",
    "!CH_files=(2018--WBG-BBB-W56-CV_sorted.bed 2018--WBO-BBR-W03-CV_sorted.bed 2018--WBR-BBY-W25-CV_sorted.bed 2018--WBY-BBV-W65-CV_sorted.bed 2018--WBY-BBY-W30-CV_sorted.bed)\n",
    "\n",
    "# hypoxic hypoxic \n",
    "!HH_files=(2018--BBO-BBO-B16-CV_sorted.bed 2018--BBO-BBY-B27-CV_sorted.bed 2018--BBR-BBB-B50-CV_sorted.bed 2018--BBR-BBG-B38-CV_sorted.bed 2018--BBR-BBY-B26-CV_sorted.bed)\n",
    "\n",
    "# control control\n",
    "!CC_files=(2018--WBB-WBV-W69-CV_sorted.bed 2018--WBG-WBG-W44-CV_sorted.bed 2018--WBO-WBV-W64-CV_sorted.bed 2018--WBV-WBO-W23-CV_sorted.bed 2018--WBV-WBR-W12-CV_sorted.bed) \n",
    "\n"
   ]
  },
  {
   "cell_type": "code",
   "execution_count": null,
   "id": "31b44f6d-a570-469c-9891-14c78ad94676",
   "metadata": {},
   "outputs": [],
   "source": [
    "# hypoxic control\n",
    "!bedtools coverage -sorted -a /project/pi_sarah_gignouxwolfsohn_uml_edu/Reference_genomes/Cvirginica_genome/CV_genomic_sorted.gff -b $(echo \"${HC_files[@]}\") > HC_coverage_res.txt\n",
    "\n",
    "# control hypoxic\n",
    "!bedtools coverage -sorted -a /project/pi_sarah_gignouxwolfsohn_uml_edu/Reference_genomes/Cvirginica_genome/CV_genomic_sorted.gff -b $(echo \"${CH_files[@]}\") > CH_coverage_res.txt\n",
    "\n",
    "# hypoxic hypoxic\n",
    "!bedtools coverage -sorted -a /project/pi_sarah_gignouxwolfsohn_uml_edu/Reference_genomes/Cvirginica_genome/CV_genomic_sorted.gff -b $(echo \"${HH_files[@]}\") > HH_coverage_res.txt\n",
    "\n",
    "# control control \n",
    "!bedtools coverage -sorted -a /project/pi_sarah_gignouxwolfsohn_uml_edu/Reference_genomes/Cvirginica_genome/CV_genomic_sorted.gff -b $(echo \"${CC_files[@]}\") > CC_coverage_res.txt"
   ]
  },
  {
   "cell_type": "code",
   "execution_count": null,
   "id": "b2e96cf0-57c9-4ecf-a6bb-7531b73ed8cf",
   "metadata": {},
   "outputs": [],
   "source": [
    "# t\n",
    "!awk '$10 >= 5' > HC_coverage_5x.txt"
   ]
  },
  {
   "cell_type": "markdown",
   "id": "150e6203-ff34-48d7-8f22-15a4aee79803",
   "metadata": {},
   "source": [
    "### bedtools multicov "
   ]
  },
  {
   "cell_type": "code",
   "execution_count": null,
   "id": "a4ef7617-3dc3-4ae0-bd99-b317c58c6526",
   "metadata": {},
   "outputs": [],
   "source": [
    "!CGbed=\"/project/pi_sarah_gignouxwolfsohn_uml_edu/julia/CE_methyl_assembly/assembly_pipeline_files/genomic_bed_files/C_virginica-3.0_CG-motif.bed\"\n",
    "!bedtools multicov -bams *.bam -bed $CGbed > CV_multicov_CGmotif.bed"
   ]
  },
  {
   "cell_type": "markdown",
   "id": "ddcaf134-44c2-4b78-9b8f-135b5b3f02f9",
   "metadata": {},
   "source": [
    "### deepTools plotCoverage\n",
    "to calculate coverage per sample replicate"
   ]
  },
  {
   "cell_type": "code",
   "execution_count": null,
   "id": "c2c54ddb-8210-47fb-99d2-ceca1d0e5631",
   "metadata": {},
   "outputs": [],
   "source": [
    "!module load conda/latest\n",
    "!conda activate deeptools"
   ]
  },
  {
   "cell_type": "code",
   "execution_count": null,
   "id": "bb66e8e1-b66f-4485-9e30-f752f384ef1f",
   "metadata": {},
   "outputs": [],
   "source": [
    "!cd /project/pi_sarah_gignouxwolfsohn_uml_edu/julia/CE_methyl_assembly/assembly_pipeline_files/BEDtools/working_BAM_sequences/\n",
    "!plotCoverage -b /*.bam -o coverage.png"
   ]
  }
 ],
 "metadata": {
  "kernelspec": {
   "display_name": "Python 3 (ipykernel)",
   "language": "python",
   "name": "python3"
  },
  "language_info": {
   "codemirror_mode": {
    "name": "ipython",
    "version": 3
   },
   "file_extension": ".py",
   "mimetype": "text/x-python",
   "name": "python",
   "nbconvert_exporter": "python",
   "pygments_lexer": "ipython3",
   "version": "3.11.0"
  }
 },
 "nbformat": 4,
 "nbformat_minor": 5
}
