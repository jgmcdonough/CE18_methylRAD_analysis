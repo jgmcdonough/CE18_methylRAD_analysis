{
 "cells": [
  {
   "cell_type": "markdown",
   "id": "decb83cf-4d75-49b4-b381-0d3f318ac031",
   "metadata": {},
   "source": [
    "# Totalling pipeline counts"
   ]
  },
  {
   "cell_type": "code",
   "execution_count": 1,
   "id": "8e5f3c84-c399-480c-acdc-345091b65b47",
   "metadata": {},
   "outputs": [
    {
     "name": "stderr",
     "output_type": "stream",
     "text": [
      "── \u001b[1mAttaching core tidyverse packages\u001b[22m ──────────────────────── tidyverse 2.0.0 ──\n",
      "\u001b[32m✔\u001b[39m \u001b[34mdplyr    \u001b[39m 1.1.4     \u001b[32m✔\u001b[39m \u001b[34mreadr    \u001b[39m 2.1.4\n",
      "\u001b[32m✔\u001b[39m \u001b[34mforcats  \u001b[39m 1.0.0     \u001b[32m✔\u001b[39m \u001b[34mstringr  \u001b[39m 1.5.1\n",
      "\u001b[32m✔\u001b[39m \u001b[34mggplot2  \u001b[39m 3.5.1     \u001b[32m✔\u001b[39m \u001b[34mtibble   \u001b[39m 3.2.1\n",
      "\u001b[32m✔\u001b[39m \u001b[34mlubridate\u001b[39m 1.9.3     \u001b[32m✔\u001b[39m \u001b[34mtidyr    \u001b[39m 1.3.0\n",
      "\u001b[32m✔\u001b[39m \u001b[34mpurrr    \u001b[39m 1.0.2     \n",
      "── \u001b[1mConflicts\u001b[22m ────────────────────────────────────────── tidyverse_conflicts() ──\n",
      "\u001b[31m✖\u001b[39m \u001b[34mdplyr\u001b[39m::\u001b[32mfilter()\u001b[39m masks \u001b[34mstats\u001b[39m::filter()\n",
      "\u001b[31m✖\u001b[39m \u001b[34mdplyr\u001b[39m::\u001b[32mlag()\u001b[39m    masks \u001b[34mstats\u001b[39m::lag()\n",
      "\u001b[36mℹ\u001b[39m Use the conflicted package (\u001b[3m\u001b[34m<http://conflicted.r-lib.org/>\u001b[39m\u001b[23m) to force all conflicts to become errors\n"
     ]
    }
   ],
   "source": [
    "library(tidyverse)"
   ]
  },
  {
   "cell_type": "code",
   "execution_count": 2,
   "id": "ee359a95-4988-4376-999a-349c03ded9cc",
   "metadata": {},
   "outputs": [
    {
     "data": {
      "text/html": [
       "<table class=\"dataframe\">\n",
       "<caption>A data.frame: 6 × 8</caption>\n",
       "<thead>\n",
       "\t<tr><th></th><th scope=col>sample_ID</th><th scope=col>raw_reads</th><th scope=col>trim.galore</th><th scope=col>bowtie2_align</th><th scope=col>paired_reads</th><th scope=col>unpaired_reads</th><th scope=col>marked_dups</th><th scope=col>htseq.count_features</th></tr>\n",
       "\t<tr><th></th><th scope=col>&lt;chr&gt;</th><th scope=col>&lt;int&gt;</th><th scope=col>&lt;int&gt;</th><th scope=col>&lt;int&gt;</th><th scope=col>&lt;int&gt;</th><th scope=col>&lt;int&gt;</th><th scope=col>&lt;int&gt;</th><th scope=col>&lt;int&gt;</th></tr>\n",
       "</thead>\n",
       "<tbody>\n",
       "\t<tr><th scope=row>1</th><td>2018--BBB-WBO-B21-CV</td><td>60015908</td><td>9142520</td><td>1987316</td><td>2020021</td><td>14421</td><td> 9850</td><td>1240797</td></tr>\n",
       "\t<tr><th scope=row>2</th><td>2018--BBB-WBV-B70-CV</td><td>47021020</td><td>7920020</td><td>1702318</td><td>1733903</td><td>12637</td><td> 9107</td><td>1066412</td></tr>\n",
       "\t<tr><th scope=row>3</th><td>2018--BBO-BBO-B16-CV</td><td>55592344</td><td>6907492</td><td>1504682</td><td>1527667</td><td>11081</td><td> 4699</td><td> 948276</td></tr>\n",
       "\t<tr><th scope=row>4</th><td>2018--BBO-BBY-B27-CV</td><td>36591468</td><td>4437592</td><td> 963810</td><td> 978519</td><td> 6871</td><td> 3552</td><td> 607039</td></tr>\n",
       "\t<tr><th scope=row>5</th><td>2018--BBO-WBO-B16-CV</td><td>59769484</td><td>9603844</td><td>2076074</td><td>2109689</td><td>14556</td><td>10334</td><td>1295441</td></tr>\n",
       "\t<tr><th scope=row>6</th><td>2018--BBO-WBV-B64-CV</td><td>49958272</td><td>8379816</td><td>1812804</td><td>1840935</td><td>13313</td><td> 8994</td><td>1147073</td></tr>\n",
       "</tbody>\n",
       "</table>\n"
      ],
      "text/latex": [
       "A data.frame: 6 × 8\n",
       "\\begin{tabular}{r|llllllll}\n",
       "  & sample\\_ID & raw\\_reads & trim.galore & bowtie2\\_align & paired\\_reads & unpaired\\_reads & marked\\_dups & htseq.count\\_features\\\\\n",
       "  & <chr> & <int> & <int> & <int> & <int> & <int> & <int> & <int>\\\\\n",
       "\\hline\n",
       "\t1 & 2018--BBB-WBO-B21-CV & 60015908 & 9142520 & 1987316 & 2020021 & 14421 &  9850 & 1240797\\\\\n",
       "\t2 & 2018--BBB-WBV-B70-CV & 47021020 & 7920020 & 1702318 & 1733903 & 12637 &  9107 & 1066412\\\\\n",
       "\t3 & 2018--BBO-BBO-B16-CV & 55592344 & 6907492 & 1504682 & 1527667 & 11081 &  4699 &  948276\\\\\n",
       "\t4 & 2018--BBO-BBY-B27-CV & 36591468 & 4437592 &  963810 &  978519 &  6871 &  3552 &  607039\\\\\n",
       "\t5 & 2018--BBO-WBO-B16-CV & 59769484 & 9603844 & 2076074 & 2109689 & 14556 & 10334 & 1295441\\\\\n",
       "\t6 & 2018--BBO-WBV-B64-CV & 49958272 & 8379816 & 1812804 & 1840935 & 13313 &  8994 & 1147073\\\\\n",
       "\\end{tabular}\n"
      ],
      "text/markdown": [
       "\n",
       "A data.frame: 6 × 8\n",
       "\n",
       "| <!--/--> | sample_ID &lt;chr&gt; | raw_reads &lt;int&gt; | trim.galore &lt;int&gt; | bowtie2_align &lt;int&gt; | paired_reads &lt;int&gt; | unpaired_reads &lt;int&gt; | marked_dups &lt;int&gt; | htseq.count_features &lt;int&gt; |\n",
       "|---|---|---|---|---|---|---|---|---|\n",
       "| 1 | 2018--BBB-WBO-B21-CV | 60015908 | 9142520 | 1987316 | 2020021 | 14421 |  9850 | 1240797 |\n",
       "| 2 | 2018--BBB-WBV-B70-CV | 47021020 | 7920020 | 1702318 | 1733903 | 12637 |  9107 | 1066412 |\n",
       "| 3 | 2018--BBO-BBO-B16-CV | 55592344 | 6907492 | 1504682 | 1527667 | 11081 |  4699 |  948276 |\n",
       "| 4 | 2018--BBO-BBY-B27-CV | 36591468 | 4437592 |  963810 |  978519 |  6871 |  3552 |  607039 |\n",
       "| 5 | 2018--BBO-WBO-B16-CV | 59769484 | 9603844 | 2076074 | 2109689 | 14556 | 10334 | 1295441 |\n",
       "| 6 | 2018--BBO-WBV-B64-CV | 49958272 | 8379816 | 1812804 | 1840935 | 13313 |  8994 | 1147073 |\n",
       "\n"
      ],
      "text/plain": [
       "  sample_ID            raw_reads trim.galore bowtie2_align paired_reads\n",
       "1 2018--BBB-WBO-B21-CV 60015908  9142520     1987316       2020021     \n",
       "2 2018--BBB-WBV-B70-CV 47021020  7920020     1702318       1733903     \n",
       "3 2018--BBO-BBO-B16-CV 55592344  6907492     1504682       1527667     \n",
       "4 2018--BBO-BBY-B27-CV 36591468  4437592      963810        978519     \n",
       "5 2018--BBO-WBO-B16-CV 59769484  9603844     2076074       2109689     \n",
       "6 2018--BBO-WBV-B64-CV 49958272  8379816     1812804       1840935     \n",
       "  unpaired_reads marked_dups htseq.count_features\n",
       "1 14421           9850       1240797             \n",
       "2 12637           9107       1066412             \n",
       "3 11081           4699        948276             \n",
       "4  6871           3552        607039             \n",
       "5 14556          10334       1295441             \n",
       "6 13313           8994       1147073             "
      ]
     },
     "metadata": {},
     "output_type": "display_data"
    }
   ],
   "source": [
    "counts <- read.csv('/project/pi_sarah_gignouxwolfsohn_uml_edu/julia/CE_MethylRAD_analysis_2018/processing/pipeline_counts/CV_CE18_pipeline_counts.csv')\n",
    "head(counts)"
   ]
  },
  {
   "cell_type": "code",
   "execution_count": 10,
   "id": "0c51a25a-4883-4e20-bef5-501744347630",
   "metadata": {},
   "outputs": [
    {
     "data": {
      "text/html": [
       "<style>\n",
       ".list-inline {list-style: none; margin:0; padding: 0}\n",
       ".list-inline>li {display: inline-block}\n",
       ".list-inline>li:not(:last-child)::after {content: \"\\00b7\"; padding: 0 .5ex}\n",
       "</style>\n",
       "<ol class=list-inline><li>'2018--BBB-WBO-B21-CV'</li><li>'2018--BBB-WBV-B70-CV'</li><li>'2018--BBO-BBO-B16-CV'</li><li>'2018--BBO-BBY-B27-CV'</li><li>'2018--BBO-WBO-B16-CV'</li><li>'2018--BBO-WBV-B64-CV'</li><li>'2018--BBR-BBB-B50-CV'</li><li>'2018--BBR-BBG-B38-CV'</li><li>'2018--BBR-BBY-B26-CV'</li><li>'2018--BBY-WBG-B42-CV'</li><li>'2018--WBB-WBV-W69-CV'</li><li>'2018--WBG-BBB-W56-CV'</li><li>'2018--WBG-WBG-W44-CV'</li><li>'2018--WBO-BBR-W03-CV'</li><li>'2018--WBO-WBV-W64-CV'</li><li>'2018--WBR-BBY-W25-CV'</li><li>'2018--WBV-WBO-W23-CV'</li><li>'2018--WBV-WBR-W12-CV'</li><li>'2018--WBY-BBV-W65-CV'</li><li>'2018--WBY-BBY-W30-CV'</li></ol>\n"
      ],
      "text/latex": [
       "\\begin{enumerate*}\n",
       "\\item '2018--BBB-WBO-B21-CV'\n",
       "\\item '2018--BBB-WBV-B70-CV'\n",
       "\\item '2018--BBO-BBO-B16-CV'\n",
       "\\item '2018--BBO-BBY-B27-CV'\n",
       "\\item '2018--BBO-WBO-B16-CV'\n",
       "\\item '2018--BBO-WBV-B64-CV'\n",
       "\\item '2018--BBR-BBB-B50-CV'\n",
       "\\item '2018--BBR-BBG-B38-CV'\n",
       "\\item '2018--BBR-BBY-B26-CV'\n",
       "\\item '2018--BBY-WBG-B42-CV'\n",
       "\\item '2018--WBB-WBV-W69-CV'\n",
       "\\item '2018--WBG-BBB-W56-CV'\n",
       "\\item '2018--WBG-WBG-W44-CV'\n",
       "\\item '2018--WBO-BBR-W03-CV'\n",
       "\\item '2018--WBO-WBV-W64-CV'\n",
       "\\item '2018--WBR-BBY-W25-CV'\n",
       "\\item '2018--WBV-WBO-W23-CV'\n",
       "\\item '2018--WBV-WBR-W12-CV'\n",
       "\\item '2018--WBY-BBV-W65-CV'\n",
       "\\item '2018--WBY-BBY-W30-CV'\n",
       "\\end{enumerate*}\n"
      ],
      "text/markdown": [
       "1. '2018--BBB-WBO-B21-CV'\n",
       "2. '2018--BBB-WBV-B70-CV'\n",
       "3. '2018--BBO-BBO-B16-CV'\n",
       "4. '2018--BBO-BBY-B27-CV'\n",
       "5. '2018--BBO-WBO-B16-CV'\n",
       "6. '2018--BBO-WBV-B64-CV'\n",
       "7. '2018--BBR-BBB-B50-CV'\n",
       "8. '2018--BBR-BBG-B38-CV'\n",
       "9. '2018--BBR-BBY-B26-CV'\n",
       "10. '2018--BBY-WBG-B42-CV'\n",
       "11. '2018--WBB-WBV-W69-CV'\n",
       "12. '2018--WBG-BBB-W56-CV'\n",
       "13. '2018--WBG-WBG-W44-CV'\n",
       "14. '2018--WBO-BBR-W03-CV'\n",
       "15. '2018--WBO-WBV-W64-CV'\n",
       "16. '2018--WBR-BBY-W25-CV'\n",
       "17. '2018--WBV-WBO-W23-CV'\n",
       "18. '2018--WBV-WBR-W12-CV'\n",
       "19. '2018--WBY-BBV-W65-CV'\n",
       "20. '2018--WBY-BBY-W30-CV'\n",
       "\n",
       "\n"
      ],
      "text/plain": [
       " [1] \"2018--BBB-WBO-B21-CV\" \"2018--BBB-WBV-B70-CV\" \"2018--BBO-BBO-B16-CV\"\n",
       " [4] \"2018--BBO-BBY-B27-CV\" \"2018--BBO-WBO-B16-CV\" \"2018--BBO-WBV-B64-CV\"\n",
       " [7] \"2018--BBR-BBB-B50-CV\" \"2018--BBR-BBG-B38-CV\" \"2018--BBR-BBY-B26-CV\"\n",
       "[10] \"2018--BBY-WBG-B42-CV\" \"2018--WBB-WBV-W69-CV\" \"2018--WBG-BBB-W56-CV\"\n",
       "[13] \"2018--WBG-WBG-W44-CV\" \"2018--WBO-BBR-W03-CV\" \"2018--WBO-WBV-W64-CV\"\n",
       "[16] \"2018--WBR-BBY-W25-CV\" \"2018--WBV-WBO-W23-CV\" \"2018--WBV-WBR-W12-CV\"\n",
       "[19] \"2018--WBY-BBV-W65-CV\" \"2018--WBY-BBY-W30-CV\""
      ]
     },
     "metadata": {},
     "output_type": "display_data"
    }
   ],
   "source": [
    "bam_files <- list.files(path = \"/project/pi_sarah_gignouxwolfsohn_uml_edu/julia/CE_methyl_assembly/assembly_pipeline_files/BEDtools/working_BAM_sequences/\", pattern = \"*.bam\", full.names = FALSE)\n",
    "\n",
    "# Remove everything after 'CV'\n",
    "files_cv <- sub('CV.*', 'CV', bam_files)\n",
    "\n",
    "# Remove duplicates\n",
    "unique_CVsamples <- unique(files_cv)\n",
    "unique_CVsamples"
   ]
  },
  {
   "cell_type": "code",
   "execution_count": 16,
   "id": "692222de-5964-4677-81ab-0d2d7af29fb5",
   "metadata": {},
   "outputs": [
    {
     "data": {
      "text/html": [
       "<style>\n",
       ".list-inline {list-style: none; margin:0; padding: 0}\n",
       ".list-inline>li {display: inline-block}\n",
       ".list-inline>li:not(:last-child)::after {content: \"\\00b7\"; padding: 0 .5ex}\n",
       "</style>\n",
       "<ol class=list-inline><li>20</li><li>8</li></ol>\n"
      ],
      "text/latex": [
       "\\begin{enumerate*}\n",
       "\\item 20\n",
       "\\item 8\n",
       "\\end{enumerate*}\n"
      ],
      "text/markdown": [
       "1. 20\n",
       "2. 8\n",
       "\n",
       "\n"
      ],
      "text/plain": [
       "[1] 20  8"
      ]
     },
     "metadata": {},
     "output_type": "display_data"
    }
   ],
   "source": [
    "hyp_counts <- counts[counts$sample_ID %in% unique_CVsamples,]\n",
    "dim(hyp_counts)"
   ]
  },
  {
   "cell_type": "code",
   "execution_count": 17,
   "id": "2c6fb1c8-2298-4834-934d-01dc6d065daf",
   "metadata": {},
   "outputs": [
    {
     "data": {
      "text/html": [
       "802702208"
      ],
      "text/latex": [
       "802702208"
      ],
      "text/markdown": [
       "802702208"
      ],
      "text/plain": [
       "[1] 802702208"
      ]
     },
     "metadata": {},
     "output_type": "display_data"
    }
   ],
   "source": [
    "sum(hyp_counts$raw_reads)"
   ]
  },
  {
   "cell_type": "code",
   "execution_count": 19,
   "id": "01af73f8-6065-48d8-83d2-e045f03bf7ea",
   "metadata": {},
   "outputs": [
    {
     "data": {
      "text/html": [
       "13.495646445263"
      ],
      "text/latex": [
       "13.495646445263"
      ],
      "text/markdown": [
       "13.495646445263"
      ],
      "text/plain": [
       "[1] 13.49565"
      ]
     },
     "metadata": {},
     "output_type": "display_data"
    }
   ],
   "source": [
    "sum(hyp_counts$trim.galore)/sum(hyp_counts$raw_reads) * 100"
   ]
  },
  {
   "cell_type": "code",
   "execution_count": 21,
   "id": "d99e4f84-a3ea-4b2a-9616-2fc2f3bce81f",
   "metadata": {},
   "outputs": [
    {
     "data": {
      "text/html": [
       "23824934"
      ],
      "text/latex": [
       "23824934"
      ],
      "text/markdown": [
       "23824934"
      ],
      "text/plain": [
       "[1] 23824934"
      ]
     },
     "metadata": {},
     "output_type": "display_data"
    }
   ],
   "source": [
    "sum(hyp_counts$paired_reads)"
   ]
  },
  {
   "cell_type": "code",
   "execution_count": 24,
   "id": "6c8e9d54-d17e-48ee-9463-380ce6037c18",
   "metadata": {},
   "outputs": [
    {
     "data": {
      "text/html": [
       "739073.35"
      ],
      "text/latex": [
       "739073.35"
      ],
      "text/markdown": [
       "739073.35"
      ],
      "text/plain": [
       "[1] 739073.3"
      ]
     },
     "metadata": {},
     "output_type": "display_data"
    },
    {
     "data": {
      "text/html": [
       "919895"
      ],
      "text/latex": [
       "919895"
      ],
      "text/markdown": [
       "919895"
      ],
      "text/plain": [
       "[1] 919895"
      ]
     },
     "metadata": {},
     "output_type": "display_data"
    }
   ],
   "source": [
    "mean(hyp_counts$htseq.count_features)\n",
    "\n",
    "median(hyp_counts$htseq.count_features)"
   ]
  },
  {
   "cell_type": "code",
   "execution_count": 25,
   "id": "ffdfeb3e-978c-451e-9fe6-12db102cae6e",
   "metadata": {},
   "outputs": [
    {
     "data": {
      "text/html": [
       "1.84146335374226"
      ],
      "text/latex": [
       "1.84146335374226"
      ],
      "text/markdown": [
       "1.84146335374226"
      ],
      "text/plain": [
       "[1] 1.841463"
      ]
     },
     "metadata": {},
     "output_type": "display_data"
    }
   ],
   "source": [
    "sum(hyp_counts$htseq.count_features)/sum(hyp_counts$raw_reads) * 100"
   ]
  }
 ],
 "metadata": {
  "kernelspec": {
   "display_name": "R [conda env:.conda-r-env]",
   "language": "R",
   "name": "conda-env-.conda-r-env-r"
  },
  "language_info": {
   "codemirror_mode": "r",
   "file_extension": ".r",
   "mimetype": "text/x-r-source",
   "name": "R",
   "pygments_lexer": "r",
   "version": "4.3.2"
  }
 },
 "nbformat": 4,
 "nbformat_minor": 5
}
