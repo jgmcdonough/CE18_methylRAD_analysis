{
 "cells": [
  {
   "cell_type": "markdown",
   "id": "decb83cf-4d75-49b4-b381-0d3f318ac031",
   "metadata": {},
   "source": [
    "# Totalling pipeline counts"
   ]
  },
  {
   "cell_type": "code",
   "execution_count": 1,
   "id": "8e5f3c84-c399-480c-acdc-345091b65b47",
   "metadata": {},
   "outputs": [
    {
     "name": "stderr",
     "output_type": "stream",
     "text": [
      "── \u001b[1mAttaching core tidyverse packages\u001b[22m ──────────────────────── tidyverse 2.0.0 ──\n",
      "\u001b[32m✔\u001b[39m \u001b[34mdplyr    \u001b[39m 1.1.4     \u001b[32m✔\u001b[39m \u001b[34mreadr    \u001b[39m 2.1.4\n",
      "\u001b[32m✔\u001b[39m \u001b[34mforcats  \u001b[39m 1.0.0     \u001b[32m✔\u001b[39m \u001b[34mstringr  \u001b[39m 1.5.1\n",
      "\u001b[32m✔\u001b[39m \u001b[34mggplot2  \u001b[39m 3.5.1     \u001b[32m✔\u001b[39m \u001b[34mtibble   \u001b[39m 3.2.1\n",
      "\u001b[32m✔\u001b[39m \u001b[34mlubridate\u001b[39m 1.9.3     \u001b[32m✔\u001b[39m \u001b[34mtidyr    \u001b[39m 1.3.0\n",
      "\u001b[32m✔\u001b[39m \u001b[34mpurrr    \u001b[39m 1.0.2     \n",
      "── \u001b[1mConflicts\u001b[22m ────────────────────────────────────────── tidyverse_conflicts() ──\n",
      "\u001b[31m✖\u001b[39m \u001b[34mdplyr\u001b[39m::\u001b[32mfilter()\u001b[39m masks \u001b[34mstats\u001b[39m::filter()\n",
      "\u001b[31m✖\u001b[39m \u001b[34mdplyr\u001b[39m::\u001b[32mlag()\u001b[39m    masks \u001b[34mstats\u001b[39m::lag()\n",
      "\u001b[36mℹ\u001b[39m Use the conflicted package (\u001b[3m\u001b[34m<http://conflicted.r-lib.org/>\u001b[39m\u001b[23m) to force all conflicts to become errors\n"
     ]
    }
   ],
   "source": [
    "library(tidyverse)"
   ]
  },
  {
   "cell_type": "code",
   "execution_count": 2,
   "id": "ee359a95-4988-4376-999a-349c03ded9cc",
   "metadata": {},
   "outputs": [
    {
     "data": {
      "text/html": [
       "<table class=\"dataframe\">\n",
       "<caption>A data.frame: 6 × 8</caption>\n",
       "<thead>\n",
       "\t<tr><th></th><th scope=col>sample_ID</th><th scope=col>raw_reads</th><th scope=col>trim.galore</th><th scope=col>bowtie2_align</th><th scope=col>paired_reads</th><th scope=col>unpaired_reads</th><th scope=col>marked_dups</th><th scope=col>htseq.count_features</th></tr>\n",
       "\t<tr><th></th><th scope=col>&lt;chr&gt;</th><th scope=col>&lt;int&gt;</th><th scope=col>&lt;int&gt;</th><th scope=col>&lt;int&gt;</th><th scope=col>&lt;int&gt;</th><th scope=col>&lt;int&gt;</th><th scope=col>&lt;int&gt;</th><th scope=col>&lt;int&gt;</th></tr>\n",
       "</thead>\n",
       "<tbody>\n",
       "\t<tr><th scope=row>1</th><td>2018--BBB-WBO-B21-CV</td><td>60015908</td><td>9142520</td><td>1987316</td><td>2020021</td><td>14421</td><td> 9850</td><td>1240797</td></tr>\n",
       "\t<tr><th scope=row>2</th><td>2018--BBB-WBV-B70-CV</td><td>47021020</td><td>7920020</td><td>1702318</td><td>1733903</td><td>12637</td><td> 9107</td><td>1066412</td></tr>\n",
       "\t<tr><th scope=row>3</th><td>2018--BBO-BBO-B16-CV</td><td>55592344</td><td>6907492</td><td>1504682</td><td>1527667</td><td>11081</td><td> 4699</td><td> 948276</td></tr>\n",
       "\t<tr><th scope=row>4</th><td>2018--BBO-BBY-B27-CV</td><td>36591468</td><td>4437592</td><td> 963810</td><td> 978519</td><td> 6871</td><td> 3552</td><td> 607039</td></tr>\n",
       "\t<tr><th scope=row>5</th><td>2018--BBO-WBO-B16-CV</td><td>59769484</td><td>9603844</td><td>2076074</td><td>2109689</td><td>14556</td><td>10334</td><td>1295441</td></tr>\n",
       "\t<tr><th scope=row>6</th><td>2018--BBO-WBV-B64-CV</td><td>49958272</td><td>8379816</td><td>1812804</td><td>1840935</td><td>13313</td><td> 8994</td><td>1147073</td></tr>\n",
       "</tbody>\n",
       "</table>\n"
      ],
      "text/latex": [
       "A data.frame: 6 × 8\n",
       "\\begin{tabular}{r|llllllll}\n",
       "  & sample\\_ID & raw\\_reads & trim.galore & bowtie2\\_align & paired\\_reads & unpaired\\_reads & marked\\_dups & htseq.count\\_features\\\\\n",
       "  & <chr> & <int> & <int> & <int> & <int> & <int> & <int> & <int>\\\\\n",
       "\\hline\n",
       "\t1 & 2018--BBB-WBO-B21-CV & 60015908 & 9142520 & 1987316 & 2020021 & 14421 &  9850 & 1240797\\\\\n",
       "\t2 & 2018--BBB-WBV-B70-CV & 47021020 & 7920020 & 1702318 & 1733903 & 12637 &  9107 & 1066412\\\\\n",
       "\t3 & 2018--BBO-BBO-B16-CV & 55592344 & 6907492 & 1504682 & 1527667 & 11081 &  4699 &  948276\\\\\n",
       "\t4 & 2018--BBO-BBY-B27-CV & 36591468 & 4437592 &  963810 &  978519 &  6871 &  3552 &  607039\\\\\n",
       "\t5 & 2018--BBO-WBO-B16-CV & 59769484 & 9603844 & 2076074 & 2109689 & 14556 & 10334 & 1295441\\\\\n",
       "\t6 & 2018--BBO-WBV-B64-CV & 49958272 & 8379816 & 1812804 & 1840935 & 13313 &  8994 & 1147073\\\\\n",
       "\\end{tabular}\n"
      ],
      "text/markdown": [
       "\n",
       "A data.frame: 6 × 8\n",
       "\n",
       "| <!--/--> | sample_ID &lt;chr&gt; | raw_reads &lt;int&gt; | trim.galore &lt;int&gt; | bowtie2_align &lt;int&gt; | paired_reads &lt;int&gt; | unpaired_reads &lt;int&gt; | marked_dups &lt;int&gt; | htseq.count_features &lt;int&gt; |\n",
       "|---|---|---|---|---|---|---|---|---|\n",
       "| 1 | 2018--BBB-WBO-B21-CV | 60015908 | 9142520 | 1987316 | 2020021 | 14421 |  9850 | 1240797 |\n",
       "| 2 | 2018--BBB-WBV-B70-CV | 47021020 | 7920020 | 1702318 | 1733903 | 12637 |  9107 | 1066412 |\n",
       "| 3 | 2018--BBO-BBO-B16-CV | 55592344 | 6907492 | 1504682 | 1527667 | 11081 |  4699 |  948276 |\n",
       "| 4 | 2018--BBO-BBY-B27-CV | 36591468 | 4437592 |  963810 |  978519 |  6871 |  3552 |  607039 |\n",
       "| 5 | 2018--BBO-WBO-B16-CV | 59769484 | 9603844 | 2076074 | 2109689 | 14556 | 10334 | 1295441 |\n",
       "| 6 | 2018--BBO-WBV-B64-CV | 49958272 | 8379816 | 1812804 | 1840935 | 13313 |  8994 | 1147073 |\n",
       "\n"
      ],
      "text/plain": [
       "  sample_ID            raw_reads trim.galore bowtie2_align paired_reads\n",
       "1 2018--BBB-WBO-B21-CV 60015908  9142520     1987316       2020021     \n",
       "2 2018--BBB-WBV-B70-CV 47021020  7920020     1702318       1733903     \n",
       "3 2018--BBO-BBO-B16-CV 55592344  6907492     1504682       1527667     \n",
       "4 2018--BBO-BBY-B27-CV 36591468  4437592      963810        978519     \n",
       "5 2018--BBO-WBO-B16-CV 59769484  9603844     2076074       2109689     \n",
       "6 2018--BBO-WBV-B64-CV 49958272  8379816     1812804       1840935     \n",
       "  unpaired_reads marked_dups htseq.count_features\n",
       "1 14421           9850       1240797             \n",
       "2 12637           9107       1066412             \n",
       "3 11081           4699        948276             \n",
       "4  6871           3552        607039             \n",
       "5 14556          10334       1295441             \n",
       "6 13313           8994       1147073             "
      ]
     },
     "metadata": {},
     "output_type": "display_data"
    }
   ],
   "source": [
    "counts <- read.csv('/project/pi_sarah_gignouxwolfsohn_uml_edu/julia/CE_MethylRAD_analysis_2018/processing/pipeline_counts/CV_CE18_pipeline_counts.csv')\n",
    "head(counts)"
   ]
  },
  {
   "cell_type": "code",
   "execution_count": 10,
   "id": "0c51a25a-4883-4e20-bef5-501744347630",
   "metadata": {},
   "outputs": [
    {
     "data": {
      "text/html": [
       "<style>\n",
       ".list-inline {list-style: none; margin:0; padding: 0}\n",
       ".list-inline>li {display: inline-block}\n",
       ".list-inline>li:not(:last-child)::after {content: \"\\00b7\"; padding: 0 .5ex}\n",
       "</style>\n",
       "<ol class=list-inline><li>'2018--BBB-WBO-B21-CV'</li><li>'2018--BBB-WBV-B70-CV'</li><li>'2018--BBO-BBO-B16-CV'</li><li>'2018--BBO-BBY-B27-CV'</li><li>'2018--BBO-WBO-B16-CV'</li><li>'2018--BBO-WBV-B64-CV'</li><li>'2018--BBR-BBB-B50-CV'</li><li>'2018--BBR-BBG-B38-CV'</li><li>'2018--BBR-BBY-B26-CV'</li><li>'2018--BBY-WBG-B42-CV'</li><li>'2018--WBB-WBV-W69-CV'</li><li>'2018--WBG-BBB-W56-CV'</li><li>'2018--WBG-WBG-W44-CV'</li><li>'2018--WBO-BBR-W03-CV'</li><li>'2018--WBO-WBV-W64-CV'</li><li>'2018--WBR-BBY-W25-CV'</li><li>'2018--WBV-WBO-W23-CV'</li><li>'2018--WBV-WBR-W12-CV'</li><li>'2018--WBY-BBV-W65-CV'</li><li>'2018--WBY-BBY-W30-CV'</li></ol>\n"
      ],
      "text/latex": [
       "\\begin{enumerate*}\n",
       "\\item '2018--BBB-WBO-B21-CV'\n",
       "\\item '2018--BBB-WBV-B70-CV'\n",
       "\\item '2018--BBO-BBO-B16-CV'\n",
       "\\item '2018--BBO-BBY-B27-CV'\n",
       "\\item '2018--BBO-WBO-B16-CV'\n",
       "\\item '2018--BBO-WBV-B64-CV'\n",
       "\\item '2018--BBR-BBB-B50-CV'\n",
       "\\item '2018--BBR-BBG-B38-CV'\n",
       "\\item '2018--BBR-BBY-B26-CV'\n",
       "\\item '2018--BBY-WBG-B42-CV'\n",
       "\\item '2018--WBB-WBV-W69-CV'\n",
       "\\item '2018--WBG-BBB-W56-CV'\n",
       "\\item '2018--WBG-WBG-W44-CV'\n",
       "\\item '2018--WBO-BBR-W03-CV'\n",
       "\\item '2018--WBO-WBV-W64-CV'\n",
       "\\item '2018--WBR-BBY-W25-CV'\n",
       "\\item '2018--WBV-WBO-W23-CV'\n",
       "\\item '2018--WBV-WBR-W12-CV'\n",
       "\\item '2018--WBY-BBV-W65-CV'\n",
       "\\item '2018--WBY-BBY-W30-CV'\n",
       "\\end{enumerate*}\n"
      ],
      "text/markdown": [
       "1. '2018--BBB-WBO-B21-CV'\n",
       "2. '2018--BBB-WBV-B70-CV'\n",
       "3. '2018--BBO-BBO-B16-CV'\n",
       "4. '2018--BBO-BBY-B27-CV'\n",
       "5. '2018--BBO-WBO-B16-CV'\n",
       "6. '2018--BBO-WBV-B64-CV'\n",
       "7. '2018--BBR-BBB-B50-CV'\n",
       "8. '2018--BBR-BBG-B38-CV'\n",
       "9. '2018--BBR-BBY-B26-CV'\n",
       "10. '2018--BBY-WBG-B42-CV'\n",
       "11. '2018--WBB-WBV-W69-CV'\n",
       "12. '2018--WBG-BBB-W56-CV'\n",
       "13. '2018--WBG-WBG-W44-CV'\n",
       "14. '2018--WBO-BBR-W03-CV'\n",
       "15. '2018--WBO-WBV-W64-CV'\n",
       "16. '2018--WBR-BBY-W25-CV'\n",
       "17. '2018--WBV-WBO-W23-CV'\n",
       "18. '2018--WBV-WBR-W12-CV'\n",
       "19. '2018--WBY-BBV-W65-CV'\n",
       "20. '2018--WBY-BBY-W30-CV'\n",
       "\n",
       "\n"
      ],
      "text/plain": [
       " [1] \"2018--BBB-WBO-B21-CV\" \"2018--BBB-WBV-B70-CV\" \"2018--BBO-BBO-B16-CV\"\n",
       " [4] \"2018--BBO-BBY-B27-CV\" \"2018--BBO-WBO-B16-CV\" \"2018--BBO-WBV-B64-CV\"\n",
       " [7] \"2018--BBR-BBB-B50-CV\" \"2018--BBR-BBG-B38-CV\" \"2018--BBR-BBY-B26-CV\"\n",
       "[10] \"2018--BBY-WBG-B42-CV\" \"2018--WBB-WBV-W69-CV\" \"2018--WBG-BBB-W56-CV\"\n",
       "[13] \"2018--WBG-WBG-W44-CV\" \"2018--WBO-BBR-W03-CV\" \"2018--WBO-WBV-W64-CV\"\n",
       "[16] \"2018--WBR-BBY-W25-CV\" \"2018--WBV-WBO-W23-CV\" \"2018--WBV-WBR-W12-CV\"\n",
       "[19] \"2018--WBY-BBV-W65-CV\" \"2018--WBY-BBY-W30-CV\""
      ]
     },
     "metadata": {},
     "output_type": "display_data"
    }
   ],
   "source": [
    "bam_files <- list.files(path = \"/project/pi_sarah_gignouxwolfsohn_uml_edu/julia/CE_methyl_assembly/assembly_pipeline_files/BEDtools/working_BAM_sequences/\", pattern = \"*.bam\", full.names = FALSE)\n",
    "\n",
    "# Remove everything after 'CV'\n",
    "files_cv <- sub('CV.*', 'CV', bam_files)\n",
    "\n",
    "# Remove duplicates\n",
    "unique_CVsamples <- unique(files_cv)\n",
    "unique_CVsamples"
   ]
  },
  {
   "cell_type": "code",
   "execution_count": 16,
   "id": "692222de-5964-4677-81ab-0d2d7af29fb5",
   "metadata": {},
   "outputs": [
    {
     "data": {
      "text/html": [
       "<style>\n",
       ".list-inline {list-style: none; margin:0; padding: 0}\n",
       ".list-inline>li {display: inline-block}\n",
       ".list-inline>li:not(:last-child)::after {content: \"\\00b7\"; padding: 0 .5ex}\n",
       "</style>\n",
       "<ol class=list-inline><li>20</li><li>8</li></ol>\n"
      ],
      "text/latex": [
       "\\begin{enumerate*}\n",
       "\\item 20\n",
       "\\item 8\n",
       "\\end{enumerate*}\n"
      ],
      "text/markdown": [
       "1. 20\n",
       "2. 8\n",
       "\n",
       "\n"
      ],
      "text/plain": [
       "[1] 20  8"
      ]
     },
     "metadata": {},
     "output_type": "display_data"
    }
   ],
   "source": [
    "hyp_counts <- counts[counts$sample_ID %in% unique_CVsamples,]\n",
    "dim(hyp_counts)"
   ]
  },
  {
   "cell_type": "code",
   "execution_count": 17,
   "id": "2c6fb1c8-2298-4834-934d-01dc6d065daf",
   "metadata": {},
   "outputs": [
    {
     "data": {
      "text/html": [
       "802702208"
      ],
      "text/latex": [
       "802702208"
      ],
      "text/markdown": [
       "802702208"
      ],
      "text/plain": [
       "[1] 802702208"
      ]
     },
     "metadata": {},
     "output_type": "display_data"
    }
   ],
   "source": [
    "sum(hyp_counts$raw_reads)"
   ]
  },
  {
   "cell_type": "code",
   "execution_count": 19,
   "id": "01af73f8-6065-48d8-83d2-e045f03bf7ea",
   "metadata": {},
   "outputs": [
    {
     "data": {
      "text/html": [
       "13.495646445263"
      ],
      "text/latex": [
       "13.495646445263"
      ],
      "text/markdown": [
       "13.495646445263"
      ],
      "text/plain": [
       "[1] 13.49565"
      ]
     },
     "metadata": {},
     "output_type": "display_data"
    }
   ],
   "source": [
    "sum(hyp_counts$trim.galore)/sum(hyp_counts$raw_reads) * 100"
   ]
  },
  {
   "cell_type": "code",
   "execution_count": 21,
   "id": "d99e4f84-a3ea-4b2a-9616-2fc2f3bce81f",
   "metadata": {},
   "outputs": [
    {
     "data": {
      "text/html": [
       "23824934"
      ],
      "text/latex": [
       "23824934"
      ],
      "text/markdown": [
       "23824934"
      ],
      "text/plain": [
       "[1] 23824934"
      ]
     },
     "metadata": {},
     "output_type": "display_data"
    }
   ],
   "source": [
    "sum(hyp_counts$paired_reads)"
   ]
  },
  {
   "cell_type": "code",
   "execution_count": 24,
   "id": "6c8e9d54-d17e-48ee-9463-380ce6037c18",
   "metadata": {},
   "outputs": [
    {
     "data": {
      "text/html": [
       "739073.35"
      ],
      "text/latex": [
       "739073.35"
      ],
      "text/markdown": [
       "739073.35"
      ],
      "text/plain": [
       "[1] 739073.3"
      ]
     },
     "metadata": {},
     "output_type": "display_data"
    },
    {
     "data": {
      "text/html": [
       "919895"
      ],
      "text/latex": [
       "919895"
      ],
      "text/markdown": [
       "919895"
      ],
      "text/plain": [
       "[1] 919895"
      ]
     },
     "metadata": {},
     "output_type": "display_data"
    }
   ],
   "source": [
    "mean(hyp_counts$htseq.count_features)\n",
    "\n",
    "median(hyp_counts$htseq.count_features)"
   ]
  },
  {
   "cell_type": "code",
   "execution_count": 25,
   "id": "ffdfeb3e-978c-451e-9fe6-12db102cae6e",
   "metadata": {},
   "outputs": [
    {
     "data": {
      "text/html": [
       "1.84146335374226"
      ],
      "text/latex": [
       "1.84146335374226"
      ],
      "text/markdown": [
       "1.84146335374226"
      ],
      "text/plain": [
       "[1] 1.841463"
      ]
     },
     "metadata": {},
     "output_type": "display_data"
    }
   ],
   "source": [
    "sum(hyp_counts$htseq.count_features)/sum(hyp_counts$raw_reads) * 100"
   ]
  },
  {
   "cell_type": "markdown",
   "id": "6f79c593-d9b3-4c56-bf22-b6e36f876732",
   "metadata": {},
   "source": [
    "### Formatting table for publication"
   ]
  },
  {
   "cell_type": "code",
   "execution_count": 3,
   "id": "50471e49-1619-4cc5-856d-b00727ff6d1c",
   "metadata": {},
   "outputs": [
    {
     "name": "stderr",
     "output_type": "stream",
     "text": [
      "\n",
      "Attaching package: ‘kableExtra’\n",
      "\n",
      "\n",
      "The following object is masked from ‘package:dplyr’:\n",
      "\n",
      "    group_rows\n",
      "\n",
      "\n"
     ]
    }
   ],
   "source": [
    "library(kableExtra)"
   ]
  },
  {
   "cell_type": "code",
   "execution_count": 4,
   "id": "d9286afb-a74c-44ef-8f1c-4952826d6e25",
   "metadata": {},
   "outputs": [
    {
     "data": {
      "text/html": [
       "<table class=\"dataframe\">\n",
       "<caption>A data.frame: 6 × 8</caption>\n",
       "<thead>\n",
       "\t<tr><th></th><th scope=col>sample_ID</th><th scope=col>raw_reads</th><th scope=col>trim.galore</th><th scope=col>bowtie2_align</th><th scope=col>paired_reads</th><th scope=col>unpaired_reads</th><th scope=col>marked_dups</th><th scope=col>htseq.count_features</th></tr>\n",
       "\t<tr><th></th><th scope=col>&lt;chr&gt;</th><th scope=col>&lt;int&gt;</th><th scope=col>&lt;int&gt;</th><th scope=col>&lt;int&gt;</th><th scope=col>&lt;int&gt;</th><th scope=col>&lt;int&gt;</th><th scope=col>&lt;int&gt;</th><th scope=col>&lt;int&gt;</th></tr>\n",
       "</thead>\n",
       "<tbody>\n",
       "\t<tr><th scope=row>1</th><td>2018--BBB-WBO-B21-CV</td><td>60015908</td><td>9142520</td><td>1987316</td><td>2020021</td><td>14421</td><td> 9850</td><td>1240797</td></tr>\n",
       "\t<tr><th scope=row>2</th><td>2018--BBB-WBV-B70-CV</td><td>47021020</td><td>7920020</td><td>1702318</td><td>1733903</td><td>12637</td><td> 9107</td><td>1066412</td></tr>\n",
       "\t<tr><th scope=row>3</th><td>2018--BBO-BBO-B16-CV</td><td>55592344</td><td>6907492</td><td>1504682</td><td>1527667</td><td>11081</td><td> 4699</td><td> 948276</td></tr>\n",
       "\t<tr><th scope=row>4</th><td>2018--BBO-BBY-B27-CV</td><td>36591468</td><td>4437592</td><td> 963810</td><td> 978519</td><td> 6871</td><td> 3552</td><td> 607039</td></tr>\n",
       "\t<tr><th scope=row>5</th><td>2018--BBO-WBO-B16-CV</td><td>59769484</td><td>9603844</td><td>2076074</td><td>2109689</td><td>14556</td><td>10334</td><td>1295441</td></tr>\n",
       "\t<tr><th scope=row>6</th><td>2018--BBO-WBV-B64-CV</td><td>49958272</td><td>8379816</td><td>1812804</td><td>1840935</td><td>13313</td><td> 8994</td><td>1147073</td></tr>\n",
       "</tbody>\n",
       "</table>\n"
      ],
      "text/latex": [
       "A data.frame: 6 × 8\n",
       "\\begin{tabular}{r|llllllll}\n",
       "  & sample\\_ID & raw\\_reads & trim.galore & bowtie2\\_align & paired\\_reads & unpaired\\_reads & marked\\_dups & htseq.count\\_features\\\\\n",
       "  & <chr> & <int> & <int> & <int> & <int> & <int> & <int> & <int>\\\\\n",
       "\\hline\n",
       "\t1 & 2018--BBB-WBO-B21-CV & 60015908 & 9142520 & 1987316 & 2020021 & 14421 &  9850 & 1240797\\\\\n",
       "\t2 & 2018--BBB-WBV-B70-CV & 47021020 & 7920020 & 1702318 & 1733903 & 12637 &  9107 & 1066412\\\\\n",
       "\t3 & 2018--BBO-BBO-B16-CV & 55592344 & 6907492 & 1504682 & 1527667 & 11081 &  4699 &  948276\\\\\n",
       "\t4 & 2018--BBO-BBY-B27-CV & 36591468 & 4437592 &  963810 &  978519 &  6871 &  3552 &  607039\\\\\n",
       "\t5 & 2018--BBO-WBO-B16-CV & 59769484 & 9603844 & 2076074 & 2109689 & 14556 & 10334 & 1295441\\\\\n",
       "\t6 & 2018--BBO-WBV-B64-CV & 49958272 & 8379816 & 1812804 & 1840935 & 13313 &  8994 & 1147073\\\\\n",
       "\\end{tabular}\n"
      ],
      "text/markdown": [
       "\n",
       "A data.frame: 6 × 8\n",
       "\n",
       "| <!--/--> | sample_ID &lt;chr&gt; | raw_reads &lt;int&gt; | trim.galore &lt;int&gt; | bowtie2_align &lt;int&gt; | paired_reads &lt;int&gt; | unpaired_reads &lt;int&gt; | marked_dups &lt;int&gt; | htseq.count_features &lt;int&gt; |\n",
       "|---|---|---|---|---|---|---|---|---|\n",
       "| 1 | 2018--BBB-WBO-B21-CV | 60015908 | 9142520 | 1987316 | 2020021 | 14421 |  9850 | 1240797 |\n",
       "| 2 | 2018--BBB-WBV-B70-CV | 47021020 | 7920020 | 1702318 | 1733903 | 12637 |  9107 | 1066412 |\n",
       "| 3 | 2018--BBO-BBO-B16-CV | 55592344 | 6907492 | 1504682 | 1527667 | 11081 |  4699 |  948276 |\n",
       "| 4 | 2018--BBO-BBY-B27-CV | 36591468 | 4437592 |  963810 |  978519 |  6871 |  3552 |  607039 |\n",
       "| 5 | 2018--BBO-WBO-B16-CV | 59769484 | 9603844 | 2076074 | 2109689 | 14556 | 10334 | 1295441 |\n",
       "| 6 | 2018--BBO-WBV-B64-CV | 49958272 | 8379816 | 1812804 | 1840935 | 13313 |  8994 | 1147073 |\n",
       "\n"
      ],
      "text/plain": [
       "  sample_ID            raw_reads trim.galore bowtie2_align paired_reads\n",
       "1 2018--BBB-WBO-B21-CV 60015908  9142520     1987316       2020021     \n",
       "2 2018--BBB-WBV-B70-CV 47021020  7920020     1702318       1733903     \n",
       "3 2018--BBO-BBO-B16-CV 55592344  6907492     1504682       1527667     \n",
       "4 2018--BBO-BBY-B27-CV 36591468  4437592      963810        978519     \n",
       "5 2018--BBO-WBO-B16-CV 59769484  9603844     2076074       2109689     \n",
       "6 2018--BBO-WBV-B64-CV 49958272  8379816     1812804       1840935     \n",
       "  unpaired_reads marked_dups htseq.count_features\n",
       "1 14421           9850       1240797             \n",
       "2 12637           9107       1066412             \n",
       "3 11081           4699        948276             \n",
       "4  6871           3552        607039             \n",
       "5 14556          10334       1295441             \n",
       "6 13313           8994       1147073             "
      ]
     },
     "metadata": {},
     "output_type": "display_data"
    }
   ],
   "source": [
    "head(counts)"
   ]
  },
  {
   "cell_type": "markdown",
   "id": "064f888b-f071-46f2-a686-bc342316a631",
   "metadata": {},
   "source": [
    "this is actually out of date... I'm not using HTSeqCount anymore, but featureCounts so need to update the counts column"
   ]
  },
  {
   "cell_type": "code",
   "execution_count": 6,
   "id": "09f82584-a437-4311-953d-4ce15ff73b01",
   "metadata": {},
   "outputs": [
    {
     "data": {
      "text/html": [
       "<table class=\"dataframe\">\n",
       "<caption>A data.frame: 6 × 31</caption>\n",
       "<thead>\n",
       "\t<tr><th></th><th scope=col>Status</th><th scope=col>X2018..BBB.WBO.B21.CV_sorted.bam</th><th scope=col>X2018..BBB.WBV.B70.CV_sorted.bam</th><th scope=col>X2018..BBO.BBO.B16.CV_sorted.bam</th><th scope=col>X2018..BBO.BBY.B27.CV_sorted.bam</th><th scope=col>X2018..BBO.WBO.B16.CV_sorted.bam</th><th scope=col>X2018..BBO.WBV.B64.CV_sorted.bam</th><th scope=col>X2018..BBR.BBB.B50.CV_sorted.bam</th><th scope=col>X2018..BBR.BBG.B38.CV_sorted.bam</th><th scope=col>X2018..BBR.BBY.B26.CV_sorted.bam</th><th scope=col>⋯</th><th scope=col>X2018..WBR.BBY.W25.CV_sorted.bam</th><th scope=col>X2018..WBV.WBO.W23.CV_sorted.bam</th><th scope=col>X2018..WBV.WBR.W12.CV_sorted.bam</th><th scope=col>X2018..WBY.BBV.W65.CV_sorted.bam</th><th scope=col>X2018..WBY.BBY.W30.CV_sorted.bam</th><th scope=col>X2018..WPB.BPG.G45.CV_sorted.bam</th><th scope=col>X2018..WPO.BPO.G16.CV_sorted.bam</th><th scope=col>X2018..WPO.BPY.G28.CV_sorted.bam</th><th scope=col>X2018..WPR.BPY.G25.CV_sorted.bam</th><th scope=col>X2018..WPV.BPR.G11.CV_sorted.bam</th></tr>\n",
       "\t<tr><th></th><th scope=col>&lt;chr&gt;</th><th scope=col>&lt;int&gt;</th><th scope=col>&lt;int&gt;</th><th scope=col>&lt;int&gt;</th><th scope=col>&lt;int&gt;</th><th scope=col>&lt;int&gt;</th><th scope=col>&lt;int&gt;</th><th scope=col>&lt;int&gt;</th><th scope=col>&lt;int&gt;</th><th scope=col>&lt;int&gt;</th><th scope=col>⋯</th><th scope=col>&lt;int&gt;</th><th scope=col>&lt;int&gt;</th><th scope=col>&lt;int&gt;</th><th scope=col>&lt;int&gt;</th><th scope=col>&lt;int&gt;</th><th scope=col>&lt;int&gt;</th><th scope=col>&lt;int&gt;</th><th scope=col>&lt;int&gt;</th><th scope=col>&lt;int&gt;</th><th scope=col>&lt;int&gt;</th></tr>\n",
       "</thead>\n",
       "<tbody>\n",
       "\t<tr><th scope=row>1</th><td>Assigned                 </td><td>1215661</td><td>1059670</td><td>853106</td><td>569055</td><td>1232808</td><td>1120224</td><td>467930</td><td>891936</td><td>835124</td><td>⋯</td><td>285559</td><td>316764</td><td>98778</td><td>769758</td><td>496576</td><td>445490</td><td>296404</td><td>175541</td><td>523560</td><td>81564</td></tr>\n",
       "\t<tr><th scope=row>2</th><td>Unassigned_Unmapped      </td><td> 192979</td><td> 182271</td><td>136711</td><td> 93418</td><td> 209302</td><td> 185652</td><td> 76830</td><td>147019</td><td>137024</td><td>⋯</td><td> 47760</td><td> 51012</td><td>16491</td><td>133800</td><td> 82138</td><td> 86873</td><td> 48840</td><td> 33002</td><td> 81858</td><td>13584</td></tr>\n",
       "\t<tr><th scope=row>3</th><td>Unassigned_Read_Type     </td><td>      0</td><td>      0</td><td>     0</td><td>     0</td><td>      0</td><td>      0</td><td>     0</td><td>     0</td><td>     0</td><td>⋯</td><td>     0</td><td>     0</td><td>    0</td><td>     0</td><td>     0</td><td>     0</td><td>     0</td><td>     0</td><td>     0</td><td>    0</td></tr>\n",
       "\t<tr><th scope=row>4</th><td>Unassigned_Singleton     </td><td>      0</td><td>      0</td><td>     0</td><td>     0</td><td>      0</td><td>      0</td><td>     0</td><td>     0</td><td>     0</td><td>⋯</td><td>     0</td><td>     0</td><td>    0</td><td>     0</td><td>     0</td><td>     0</td><td>     0</td><td>     0</td><td>     0</td><td>    0</td></tr>\n",
       "\t<tr><th scope=row>5</th><td>Unassigned_MappingQuality</td><td>      0</td><td>      0</td><td>     0</td><td>     0</td><td>      0</td><td>      0</td><td>     0</td><td>     0</td><td>     0</td><td>⋯</td><td>     0</td><td>     0</td><td>    0</td><td>     0</td><td>     0</td><td>     0</td><td>     0</td><td>     0</td><td>     0</td><td>    0</td></tr>\n",
       "\t<tr><th scope=row>6</th><td>Unassigned_Chimera       </td><td>      0</td><td>      0</td><td>     0</td><td>     0</td><td>      0</td><td>      0</td><td>     0</td><td>     0</td><td>     0</td><td>⋯</td><td>     0</td><td>     0</td><td>    0</td><td>     0</td><td>     0</td><td>     0</td><td>     0</td><td>     0</td><td>     0</td><td>    0</td></tr>\n",
       "</tbody>\n",
       "</table>\n"
      ],
      "text/latex": [
       "A data.frame: 6 × 31\n",
       "\\begin{tabular}{r|lllllllllllllllllllll}\n",
       "  & Status & X2018..BBB.WBO.B21.CV\\_sorted.bam & X2018..BBB.WBV.B70.CV\\_sorted.bam & X2018..BBO.BBO.B16.CV\\_sorted.bam & X2018..BBO.BBY.B27.CV\\_sorted.bam & X2018..BBO.WBO.B16.CV\\_sorted.bam & X2018..BBO.WBV.B64.CV\\_sorted.bam & X2018..BBR.BBB.B50.CV\\_sorted.bam & X2018..BBR.BBG.B38.CV\\_sorted.bam & X2018..BBR.BBY.B26.CV\\_sorted.bam & ⋯ & X2018..WBR.BBY.W25.CV\\_sorted.bam & X2018..WBV.WBO.W23.CV\\_sorted.bam & X2018..WBV.WBR.W12.CV\\_sorted.bam & X2018..WBY.BBV.W65.CV\\_sorted.bam & X2018..WBY.BBY.W30.CV\\_sorted.bam & X2018..WPB.BPG.G45.CV\\_sorted.bam & X2018..WPO.BPO.G16.CV\\_sorted.bam & X2018..WPO.BPY.G28.CV\\_sorted.bam & X2018..WPR.BPY.G25.CV\\_sorted.bam & X2018..WPV.BPR.G11.CV\\_sorted.bam\\\\\n",
       "  & <chr> & <int> & <int> & <int> & <int> & <int> & <int> & <int> & <int> & <int> & ⋯ & <int> & <int> & <int> & <int> & <int> & <int> & <int> & <int> & <int> & <int>\\\\\n",
       "\\hline\n",
       "\t1 & Assigned                  & 1215661 & 1059670 & 853106 & 569055 & 1232808 & 1120224 & 467930 & 891936 & 835124 & ⋯ & 285559 & 316764 & 98778 & 769758 & 496576 & 445490 & 296404 & 175541 & 523560 & 81564\\\\\n",
       "\t2 & Unassigned\\_Unmapped       &  192979 &  182271 & 136711 &  93418 &  209302 &  185652 &  76830 & 147019 & 137024 & ⋯ &  47760 &  51012 & 16491 & 133800 &  82138 &  86873 &  48840 &  33002 &  81858 & 13584\\\\\n",
       "\t3 & Unassigned\\_Read\\_Type      &       0 &       0 &      0 &      0 &       0 &       0 &      0 &      0 &      0 & ⋯ &      0 &      0 &     0 &      0 &      0 &      0 &      0 &      0 &      0 &     0\\\\\n",
       "\t4 & Unassigned\\_Singleton      &       0 &       0 &      0 &      0 &       0 &       0 &      0 &      0 &      0 & ⋯ &      0 &      0 &     0 &      0 &      0 &      0 &      0 &      0 &      0 &     0\\\\\n",
       "\t5 & Unassigned\\_MappingQuality &       0 &       0 &      0 &      0 &       0 &       0 &      0 &      0 &      0 & ⋯ &      0 &      0 &     0 &      0 &      0 &      0 &      0 &      0 &      0 &     0\\\\\n",
       "\t6 & Unassigned\\_Chimera        &       0 &       0 &      0 &      0 &       0 &       0 &      0 &      0 &      0 & ⋯ &      0 &      0 &     0 &      0 &      0 &      0 &      0 &      0 &      0 &     0\\\\\n",
       "\\end{tabular}\n"
      ],
      "text/markdown": [
       "\n",
       "A data.frame: 6 × 31\n",
       "\n",
       "| <!--/--> | Status &lt;chr&gt; | X2018..BBB.WBO.B21.CV_sorted.bam &lt;int&gt; | X2018..BBB.WBV.B70.CV_sorted.bam &lt;int&gt; | X2018..BBO.BBO.B16.CV_sorted.bam &lt;int&gt; | X2018..BBO.BBY.B27.CV_sorted.bam &lt;int&gt; | X2018..BBO.WBO.B16.CV_sorted.bam &lt;int&gt; | X2018..BBO.WBV.B64.CV_sorted.bam &lt;int&gt; | X2018..BBR.BBB.B50.CV_sorted.bam &lt;int&gt; | X2018..BBR.BBG.B38.CV_sorted.bam &lt;int&gt; | X2018..BBR.BBY.B26.CV_sorted.bam &lt;int&gt; | ⋯ ⋯ | X2018..WBR.BBY.W25.CV_sorted.bam &lt;int&gt; | X2018..WBV.WBO.W23.CV_sorted.bam &lt;int&gt; | X2018..WBV.WBR.W12.CV_sorted.bam &lt;int&gt; | X2018..WBY.BBV.W65.CV_sorted.bam &lt;int&gt; | X2018..WBY.BBY.W30.CV_sorted.bam &lt;int&gt; | X2018..WPB.BPG.G45.CV_sorted.bam &lt;int&gt; | X2018..WPO.BPO.G16.CV_sorted.bam &lt;int&gt; | X2018..WPO.BPY.G28.CV_sorted.bam &lt;int&gt; | X2018..WPR.BPY.G25.CV_sorted.bam &lt;int&gt; | X2018..WPV.BPR.G11.CV_sorted.bam &lt;int&gt; |\n",
       "|---|---|---|---|---|---|---|---|---|---|---|---|---|---|---|---|---|---|---|---|---|---|\n",
       "| 1 | Assigned                  | 1215661 | 1059670 | 853106 | 569055 | 1232808 | 1120224 | 467930 | 891936 | 835124 | ⋯ | 285559 | 316764 | 98778 | 769758 | 496576 | 445490 | 296404 | 175541 | 523560 | 81564 |\n",
       "| 2 | Unassigned_Unmapped       |  192979 |  182271 | 136711 |  93418 |  209302 |  185652 |  76830 | 147019 | 137024 | ⋯ |  47760 |  51012 | 16491 | 133800 |  82138 |  86873 |  48840 |  33002 |  81858 | 13584 |\n",
       "| 3 | Unassigned_Read_Type      |       0 |       0 |      0 |      0 |       0 |       0 |      0 |      0 |      0 | ⋯ |      0 |      0 |     0 |      0 |      0 |      0 |      0 |      0 |      0 |     0 |\n",
       "| 4 | Unassigned_Singleton      |       0 |       0 |      0 |      0 |       0 |       0 |      0 |      0 |      0 | ⋯ |      0 |      0 |     0 |      0 |      0 |      0 |      0 |      0 |      0 |     0 |\n",
       "| 5 | Unassigned_MappingQuality |       0 |       0 |      0 |      0 |       0 |       0 |      0 |      0 |      0 | ⋯ |      0 |      0 |     0 |      0 |      0 |      0 |      0 |      0 |      0 |     0 |\n",
       "| 6 | Unassigned_Chimera        |       0 |       0 |      0 |      0 |       0 |       0 |      0 |      0 |      0 | ⋯ |      0 |      0 |     0 |      0 |      0 |      0 |      0 |      0 |      0 |     0 |\n",
       "\n"
      ],
      "text/plain": [
       "  Status                    X2018..BBB.WBO.B21.CV_sorted.bam\n",
       "1 Assigned                  1215661                         \n",
       "2 Unassigned_Unmapped        192979                         \n",
       "3 Unassigned_Read_Type            0                         \n",
       "4 Unassigned_Singleton            0                         \n",
       "5 Unassigned_MappingQuality       0                         \n",
       "6 Unassigned_Chimera              0                         \n",
       "  X2018..BBB.WBV.B70.CV_sorted.bam X2018..BBO.BBO.B16.CV_sorted.bam\n",
       "1 1059670                          853106                          \n",
       "2  182271                          136711                          \n",
       "3       0                               0                          \n",
       "4       0                               0                          \n",
       "5       0                               0                          \n",
       "6       0                               0                          \n",
       "  X2018..BBO.BBY.B27.CV_sorted.bam X2018..BBO.WBO.B16.CV_sorted.bam\n",
       "1 569055                           1232808                         \n",
       "2  93418                            209302                         \n",
       "3      0                                 0                         \n",
       "4      0                                 0                         \n",
       "5      0                                 0                         \n",
       "6      0                                 0                         \n",
       "  X2018..BBO.WBV.B64.CV_sorted.bam X2018..BBR.BBB.B50.CV_sorted.bam\n",
       "1 1120224                          467930                          \n",
       "2  185652                           76830                          \n",
       "3       0                               0                          \n",
       "4       0                               0                          \n",
       "5       0                               0                          \n",
       "6       0                               0                          \n",
       "  X2018..BBR.BBG.B38.CV_sorted.bam X2018..BBR.BBY.B26.CV_sorted.bam ⋯\n",
       "1 891936                           835124                           ⋯\n",
       "2 147019                           137024                           ⋯\n",
       "3      0                                0                           ⋯\n",
       "4      0                                0                           ⋯\n",
       "5      0                                0                           ⋯\n",
       "6      0                                0                           ⋯\n",
       "  X2018..WBR.BBY.W25.CV_sorted.bam X2018..WBV.WBO.W23.CV_sorted.bam\n",
       "1 285559                           316764                          \n",
       "2  47760                            51012                          \n",
       "3      0                                0                          \n",
       "4      0                                0                          \n",
       "5      0                                0                          \n",
       "6      0                                0                          \n",
       "  X2018..WBV.WBR.W12.CV_sorted.bam X2018..WBY.BBV.W65.CV_sorted.bam\n",
       "1 98778                            769758                          \n",
       "2 16491                            133800                          \n",
       "3     0                                 0                          \n",
       "4     0                                 0                          \n",
       "5     0                                 0                          \n",
       "6     0                                 0                          \n",
       "  X2018..WBY.BBY.W30.CV_sorted.bam X2018..WPB.BPG.G45.CV_sorted.bam\n",
       "1 496576                           445490                          \n",
       "2  82138                            86873                          \n",
       "3      0                                0                          \n",
       "4      0                                0                          \n",
       "5      0                                0                          \n",
       "6      0                                0                          \n",
       "  X2018..WPO.BPO.G16.CV_sorted.bam X2018..WPO.BPY.G28.CV_sorted.bam\n",
       "1 296404                           175541                          \n",
       "2  48840                            33002                          \n",
       "3      0                                0                          \n",
       "4      0                                0                          \n",
       "5      0                                0                          \n",
       "6      0                                0                          \n",
       "  X2018..WPR.BPY.G25.CV_sorted.bam X2018..WPV.BPR.G11.CV_sorted.bam\n",
       "1 523560                           81564                           \n",
       "2  81858                           13584                           \n",
       "3      0                               0                           \n",
       "4      0                               0                           \n",
       "5      0                               0                           \n",
       "6      0                               0                           "
      ]
     },
     "metadata": {},
     "output_type": "display_data"
    },
    {
     "data": {
      "text/html": [
       "<style>\n",
       ".list-inline {list-style: none; margin:0; padding: 0}\n",
       ".list-inline>li {display: inline-block}\n",
       ".list-inline>li:not(:last-child)::after {content: \"\\00b7\"; padding: 0 .5ex}\n",
       "</style>\n",
       "<ol class=list-inline><li>'Status'</li><li>'X2018..BBB.WBO.B21.CV_sorted.bam'</li><li>'X2018..BBB.WBV.B70.CV_sorted.bam'</li><li>'X2018..BBO.BBO.B16.CV_sorted.bam'</li><li>'X2018..BBO.BBY.B27.CV_sorted.bam'</li><li>'X2018..BBO.WBO.B16.CV_sorted.bam'</li><li>'X2018..BBO.WBV.B64.CV_sorted.bam'</li><li>'X2018..BBR.BBB.B50.CV_sorted.bam'</li><li>'X2018..BBR.BBG.B38.CV_sorted.bam'</li><li>'X2018..BBR.BBY.B26.CV_sorted.bam'</li><li>'X2018..BBY.WBG.B42.CV_sorted.bam'</li><li>'X2018..BPO.BPO.O16.CV_sorted.bam'</li><li>'X2018..BPR.BPG.O38.CV_sorted.bam'</li><li>'X2018..BPR.BPR.O02.CV_sorted.bam'</li><li>'X2018..BPY.BPG.O42.CV_sorted.bam'</li><li>'X2018..BPY.BPY.O29.CV_sorted.bam'</li><li>'X2018..WBB.WBV.W69.CV_sorted.bam'</li><li>'X2018..WBG.BBB.W56.CV_sorted.bam'</li><li>'X2018..WBG.WBG.W44.CV_sorted.bam'</li><li>'X2018..WBO.BBR.W03.CV_sorted.bam'</li><li>'X2018..WBO.WBV.W64.CV_sorted.bam'</li><li>'X2018..WBR.BBY.W25.CV_sorted.bam'</li><li>'X2018..WBV.WBO.W23.CV_sorted.bam'</li><li>'X2018..WBV.WBR.W12.CV_sorted.bam'</li><li>'X2018..WBY.BBV.W65.CV_sorted.bam'</li><li>'X2018..WBY.BBY.W30.CV_sorted.bam'</li><li>'X2018..WPB.BPG.G45.CV_sorted.bam'</li><li>'X2018..WPO.BPO.G16.CV_sorted.bam'</li><li>'X2018..WPO.BPY.G28.CV_sorted.bam'</li><li>'X2018..WPR.BPY.G25.CV_sorted.bam'</li><li>'X2018..WPV.BPR.G11.CV_sorted.bam'</li></ol>\n"
      ],
      "text/latex": [
       "\\begin{enumerate*}\n",
       "\\item 'Status'\n",
       "\\item 'X2018..BBB.WBO.B21.CV\\_sorted.bam'\n",
       "\\item 'X2018..BBB.WBV.B70.CV\\_sorted.bam'\n",
       "\\item 'X2018..BBO.BBO.B16.CV\\_sorted.bam'\n",
       "\\item 'X2018..BBO.BBY.B27.CV\\_sorted.bam'\n",
       "\\item 'X2018..BBO.WBO.B16.CV\\_sorted.bam'\n",
       "\\item 'X2018..BBO.WBV.B64.CV\\_sorted.bam'\n",
       "\\item 'X2018..BBR.BBB.B50.CV\\_sorted.bam'\n",
       "\\item 'X2018..BBR.BBG.B38.CV\\_sorted.bam'\n",
       "\\item 'X2018..BBR.BBY.B26.CV\\_sorted.bam'\n",
       "\\item 'X2018..BBY.WBG.B42.CV\\_sorted.bam'\n",
       "\\item 'X2018..BPO.BPO.O16.CV\\_sorted.bam'\n",
       "\\item 'X2018..BPR.BPG.O38.CV\\_sorted.bam'\n",
       "\\item 'X2018..BPR.BPR.O02.CV\\_sorted.bam'\n",
       "\\item 'X2018..BPY.BPG.O42.CV\\_sorted.bam'\n",
       "\\item 'X2018..BPY.BPY.O29.CV\\_sorted.bam'\n",
       "\\item 'X2018..WBB.WBV.W69.CV\\_sorted.bam'\n",
       "\\item 'X2018..WBG.BBB.W56.CV\\_sorted.bam'\n",
       "\\item 'X2018..WBG.WBG.W44.CV\\_sorted.bam'\n",
       "\\item 'X2018..WBO.BBR.W03.CV\\_sorted.bam'\n",
       "\\item 'X2018..WBO.WBV.W64.CV\\_sorted.bam'\n",
       "\\item 'X2018..WBR.BBY.W25.CV\\_sorted.bam'\n",
       "\\item 'X2018..WBV.WBO.W23.CV\\_sorted.bam'\n",
       "\\item 'X2018..WBV.WBR.W12.CV\\_sorted.bam'\n",
       "\\item 'X2018..WBY.BBV.W65.CV\\_sorted.bam'\n",
       "\\item 'X2018..WBY.BBY.W30.CV\\_sorted.bam'\n",
       "\\item 'X2018..WPB.BPG.G45.CV\\_sorted.bam'\n",
       "\\item 'X2018..WPO.BPO.G16.CV\\_sorted.bam'\n",
       "\\item 'X2018..WPO.BPY.G28.CV\\_sorted.bam'\n",
       "\\item 'X2018..WPR.BPY.G25.CV\\_sorted.bam'\n",
       "\\item 'X2018..WPV.BPR.G11.CV\\_sorted.bam'\n",
       "\\end{enumerate*}\n"
      ],
      "text/markdown": [
       "1. 'Status'\n",
       "2. 'X2018..BBB.WBO.B21.CV_sorted.bam'\n",
       "3. 'X2018..BBB.WBV.B70.CV_sorted.bam'\n",
       "4. 'X2018..BBO.BBO.B16.CV_sorted.bam'\n",
       "5. 'X2018..BBO.BBY.B27.CV_sorted.bam'\n",
       "6. 'X2018..BBO.WBO.B16.CV_sorted.bam'\n",
       "7. 'X2018..BBO.WBV.B64.CV_sorted.bam'\n",
       "8. 'X2018..BBR.BBB.B50.CV_sorted.bam'\n",
       "9. 'X2018..BBR.BBG.B38.CV_sorted.bam'\n",
       "10. 'X2018..BBR.BBY.B26.CV_sorted.bam'\n",
       "11. 'X2018..BBY.WBG.B42.CV_sorted.bam'\n",
       "12. 'X2018..BPO.BPO.O16.CV_sorted.bam'\n",
       "13. 'X2018..BPR.BPG.O38.CV_sorted.bam'\n",
       "14. 'X2018..BPR.BPR.O02.CV_sorted.bam'\n",
       "15. 'X2018..BPY.BPG.O42.CV_sorted.bam'\n",
       "16. 'X2018..BPY.BPY.O29.CV_sorted.bam'\n",
       "17. 'X2018..WBB.WBV.W69.CV_sorted.bam'\n",
       "18. 'X2018..WBG.BBB.W56.CV_sorted.bam'\n",
       "19. 'X2018..WBG.WBG.W44.CV_sorted.bam'\n",
       "20. 'X2018..WBO.BBR.W03.CV_sorted.bam'\n",
       "21. 'X2018..WBO.WBV.W64.CV_sorted.bam'\n",
       "22. 'X2018..WBR.BBY.W25.CV_sorted.bam'\n",
       "23. 'X2018..WBV.WBO.W23.CV_sorted.bam'\n",
       "24. 'X2018..WBV.WBR.W12.CV_sorted.bam'\n",
       "25. 'X2018..WBY.BBV.W65.CV_sorted.bam'\n",
       "26. 'X2018..WBY.BBY.W30.CV_sorted.bam'\n",
       "27. 'X2018..WPB.BPG.G45.CV_sorted.bam'\n",
       "28. 'X2018..WPO.BPO.G16.CV_sorted.bam'\n",
       "29. 'X2018..WPO.BPY.G28.CV_sorted.bam'\n",
       "30. 'X2018..WPR.BPY.G25.CV_sorted.bam'\n",
       "31. 'X2018..WPV.BPR.G11.CV_sorted.bam'\n",
       "\n",
       "\n"
      ],
      "text/plain": [
       " [1] \"Status\"                           \"X2018..BBB.WBO.B21.CV_sorted.bam\"\n",
       " [3] \"X2018..BBB.WBV.B70.CV_sorted.bam\" \"X2018..BBO.BBO.B16.CV_sorted.bam\"\n",
       " [5] \"X2018..BBO.BBY.B27.CV_sorted.bam\" \"X2018..BBO.WBO.B16.CV_sorted.bam\"\n",
       " [7] \"X2018..BBO.WBV.B64.CV_sorted.bam\" \"X2018..BBR.BBB.B50.CV_sorted.bam\"\n",
       " [9] \"X2018..BBR.BBG.B38.CV_sorted.bam\" \"X2018..BBR.BBY.B26.CV_sorted.bam\"\n",
       "[11] \"X2018..BBY.WBG.B42.CV_sorted.bam\" \"X2018..BPO.BPO.O16.CV_sorted.bam\"\n",
       "[13] \"X2018..BPR.BPG.O38.CV_sorted.bam\" \"X2018..BPR.BPR.O02.CV_sorted.bam\"\n",
       "[15] \"X2018..BPY.BPG.O42.CV_sorted.bam\" \"X2018..BPY.BPY.O29.CV_sorted.bam\"\n",
       "[17] \"X2018..WBB.WBV.W69.CV_sorted.bam\" \"X2018..WBG.BBB.W56.CV_sorted.bam\"\n",
       "[19] \"X2018..WBG.WBG.W44.CV_sorted.bam\" \"X2018..WBO.BBR.W03.CV_sorted.bam\"\n",
       "[21] \"X2018..WBO.WBV.W64.CV_sorted.bam\" \"X2018..WBR.BBY.W25.CV_sorted.bam\"\n",
       "[23] \"X2018..WBV.WBO.W23.CV_sorted.bam\" \"X2018..WBV.WBR.W12.CV_sorted.bam\"\n",
       "[25] \"X2018..WBY.BBV.W65.CV_sorted.bam\" \"X2018..WBY.BBY.W30.CV_sorted.bam\"\n",
       "[27] \"X2018..WPB.BPG.G45.CV_sorted.bam\" \"X2018..WPO.BPO.G16.CV_sorted.bam\"\n",
       "[29] \"X2018..WPO.BPY.G28.CV_sorted.bam\" \"X2018..WPR.BPY.G25.CV_sorted.bam\"\n",
       "[31] \"X2018..WPV.BPR.G11.CV_sorted.bam\""
      ]
     },
     "metadata": {},
     "output_type": "display_data"
    }
   ],
   "source": [
    "fc_stats <- read.csv('/project/pi_sarah_gignouxwolfsohn_uml_edu/julia/CE_MethylRAD_analysis_2018/processing/pipeline_counts/gene_featureCounts_stats.csv')\n",
    "head(fc_stats)\n",
    "colnames(fc_stats)"
   ]
  },
  {
   "cell_type": "code",
   "execution_count": 12,
   "id": "f9032507-c536-4fbe-afb4-2997e1bafc68",
   "metadata": {},
   "outputs": [
    {
     "name": "stdout",
     "output_type": "stream",
     "text": [
      " [1] \"Status\"                          \"2018--BBB-WBO-B21-CV_sorted-bam\"\n",
      " [3] \"2018--BBB-WBV-B70-CV_sorted-bam\" \"2018--BBO-BBO-B16-CV_sorted-bam\"\n",
      " [5] \"2018--BBO-BBY-B27-CV_sorted-bam\" \"2018--BBO-WBO-B16-CV_sorted-bam\"\n",
      " [7] \"2018--BBO-WBV-B64-CV_sorted-bam\" \"2018--BBR-BBB-B50-CV_sorted-bam\"\n",
      " [9] \"2018--BBR-BBG-B38-CV_sorted-bam\" \"2018--BBR-BBY-B26-CV_sorted-bam\"\n",
      "[11] \"2018--BBY-WBG-B42-CV_sorted-bam\" \"2018--BPO-BPO-O16-CV_sorted-bam\"\n",
      "[13] \"2018--BPR-BPG-O38-CV_sorted-bam\" \"2018--BPR-BPR-O02-CV_sorted-bam\"\n",
      "[15] \"2018--BPY-BPG-O42-CV_sorted-bam\" \"2018--BPY-BPY-O29-CV_sorted-bam\"\n",
      "[17] \"2018--WBB-WBV-W69-CV_sorted-bam\" \"2018--WBG-BBB-W56-CV_sorted-bam\"\n",
      "[19] \"2018--WBG-WBG-W44-CV_sorted-bam\" \"2018--WBO-BBR-W03-CV_sorted-bam\"\n",
      "[21] \"2018--WBO-WBV-W64-CV_sorted-bam\" \"2018--WBR-BBY-W25-CV_sorted-bam\"\n",
      "[23] \"2018--WBV-WBO-W23-CV_sorted-bam\" \"2018--WBV-WBR-W12-CV_sorted-bam\"\n",
      "[25] \"2018--WBY-BBV-W65-CV_sorted-bam\" \"2018--WBY-BBY-W30-CV_sorted-bam\"\n",
      "[27] \"2018--WPB-BPG-G45-CV_sorted-bam\" \"2018--WPO-BPO-G16-CV_sorted-bam\"\n",
      "[29] \"2018--WPO-BPY-G28-CV_sorted-bam\" \"2018--WPR-BPY-G25-CV_sorted-bam\"\n",
      "[31] \"2018--WPV-BPR-G11-CV_sorted-bam\"\n"
     ]
    }
   ],
   "source": [
    "colnames(df) <- gsub(\"^X(2018)\\\\.{2}(.*)\\\\.sorted\\\\.bam$\", \"\\\\1--\\\\2\", colnames(df))\n",
    "colnames(df)[colnames(df) == \"Status\"] <- \"Status\"\n",
    "colnames(df) <- gsub(\"\\\\.\", \"-\", colnames(df))"
   ]
  },
  {
   "cell_type": "code",
   "execution_count": null,
   "id": "2286ba41-644b-434f-b560-d09108915b66",
   "metadata": {},
   "outputs": [],
   "source": [
    "counts2 <- counts %>%\n",
    "  select('sample_ID', 'raw_reads', 'trim.galore', 'bowtie2_align', 'paired_reads')\n",
    "head(counts2)\n",
    "\n",
    "stress_response %>%\n",
    "  kbl(booktabs = TRUE, escape = FALSE) %>%\n",
    "  kable_classic_2(full_width = FALSE) %>%\n",
    "  row_spec(0, bold = TRUE) %>%\n",
    "  save_kable(file = \"~/UML/stress_response.html\", self_contained = TRUE)"
   ]
  }
 ],
 "metadata": {
  "kernelspec": {
   "display_name": "R [conda env:.conda-r-env]",
   "language": "R",
   "name": "conda-env-.conda-r-env-r"
  },
  "language_info": {
   "codemirror_mode": "r",
   "file_extension": ".r",
   "mimetype": "text/x-r-source",
   "name": "R",
   "pygments_lexer": "r",
   "version": "4.3.2"
  }
 },
 "nbformat": 4,
 "nbformat_minor": 5
}
